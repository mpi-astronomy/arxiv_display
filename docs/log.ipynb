{
 "cells": [
  {
   "cell_type": "markdown",
   "id": "92bcb855",
   "metadata": {
    "papermill": {
     "duration": 0.004006,
     "end_time": "2025-10-08T04:13:18.219923",
     "exception": false,
     "start_time": "2025-10-08T04:13:18.215917",
     "status": "completed"
    },
    "tags": []
   },
   "source": [
    "# MPIA Arxiv on Deck 2\n",
    "\n",
    "Contains the steps to produce the paper extractions."
   ]
  },
  {
   "cell_type": "code",
   "execution_count": 1,
   "id": "3a0d6e11",
   "metadata": {
    "execution": {
     "iopub.execute_input": "2025-10-08T04:13:18.227507Z",
     "iopub.status.busy": "2025-10-08T04:13:18.227212Z",
     "iopub.status.idle": "2025-10-08T04:13:18.444599Z",
     "shell.execute_reply": "2025-10-08T04:13:18.443829Z"
    },
    "papermill": {
     "duration": 0.222939,
     "end_time": "2025-10-08T04:13:18.446186",
     "exception": false,
     "start_time": "2025-10-08T04:13:18.223247",
     "status": "completed"
    },
    "tags": []
   },
   "outputs": [],
   "source": [
    "# Imports\n",
    "import os\n",
    "from IPython.display import Markdown, display\n",
    "from tqdm.notebook import tqdm\n",
    "import warnings\n",
    "from PIL import Image \n",
    "import re\n",
    "\n",
    "# requires arxiv_on_deck_2\n",
    "\n",
    "from arxiv_on_deck_2.arxiv2 import (get_new_papers, \n",
    "                                    get_paper_from_identifier,\n",
    "                                    retrieve_document_source, \n",
    "                                    get_markdown_badge)\n",
    "from arxiv_on_deck_2 import (latex,\n",
    "                             latex_bib,\n",
    "                             mpia,\n",
    "                             highlight_authors_in_list)\n",
    "\n",
    "# Sometimes images are really big\n",
    "Image.MAX_IMAGE_PIXELS = 1000000000 "
   ]
  },
  {
   "cell_type": "code",
   "execution_count": 2,
   "id": "22aa9d44",
   "metadata": {
    "execution": {
     "iopub.execute_input": "2025-10-08T04:13:18.453503Z",
     "iopub.status.busy": "2025-10-08T04:13:18.453265Z",
     "iopub.status.idle": "2025-10-08T04:13:18.461354Z",
     "shell.execute_reply": "2025-10-08T04:13:18.460771Z"
    },
    "papermill": {
     "duration": 0.012804,
     "end_time": "2025-10-08T04:13:18.462332",
     "exception": false,
     "start_time": "2025-10-08T04:13:18.449528",
     "status": "completed"
    },
    "tags": []
   },
   "outputs": [],
   "source": [
    "# Some useful definitions.\n",
    "\n",
    "class AffiliationWarning(UserWarning):\n",
    "    pass\n",
    "\n",
    "class AffiliationError(RuntimeError):\n",
    "    pass\n",
    "\n",
    "def validation(source: str):\n",
    "    \"\"\"Raises error paper during parsing of source file\n",
    "    \n",
    "    Allows checks before parsing TeX code.\n",
    "    \n",
    "    Raises AffiliationWarning\n",
    "    \"\"\"\n",
    "    check = mpia.affiliation_verifications(source, verbose=True)\n",
    "    if check is not True:\n",
    "        raise AffiliationError(\"mpia.affiliation_verifications: \" + check)\n",
    "\n",
    "        \n",
    "warnings.simplefilter('always', AffiliationWarning)\n",
    "\n",
    "\n",
    "def get_markdown_qrcode(paper_id: str):\n",
    "    \"\"\" Generate a qrcode to the arxiv page using qrserver.com\n",
    "    \n",
    "    :param paper: Arxiv paper\n",
    "    :returns: markdown text\n",
    "    \"\"\"\n",
    "    url = r\"https://api.qrserver.com/v1/create-qr-code/?size=100x100&data=\"\n",
    "    txt = f\"\"\"<img src={url}\"https://arxiv.org/abs/{paper_id}\">\"\"\"\n",
    "    txt = '<div id=\"qrcode\">' + txt + '</div>'\n",
    "    return txt\n",
    "\n",
    "\n",
    "def clean_non_western_encoded_characters_commands(text: str) -> str:\n",
    "    \"\"\" Remove non-western encoded characters from a string\n",
    "    List may need to grow.\n",
    "    \n",
    "    :param text: the text to clean\n",
    "    :return: the cleaned text\n",
    "    \"\"\"\n",
    "    text = re.sub(r\"(\\\\begin{CJK}{UTF8}{gbsn})(.*?)(\\\\end{CJK})\", r\"\\2\", text)\n",
    "    return text\n",
    "\n",
    "\n",
    "def get_initials(name: str) -> str:\n",
    "    \"\"\" Get the short name, e.g., A.-B. FamName\n",
    "    :param name: full name\n",
    "    :returns: initials\n",
    "    \"\"\"\n",
    "    initials = []\n",
    "    # account for non western names often in ()\n",
    "    if '(' in name:\n",
    "        name = clean_non_western_encoded_characters_commands(name)\n",
    "        suffix = re.findall(r\"\\((.*?)\\)\", name)[0]\n",
    "        name = name.replace(f\"({suffix})\", '')\n",
    "    else:\n",
    "        suffix = ''\n",
    "    split = name.split()\n",
    "    for token in split[:-1]:\n",
    "        if '-' in token:\n",
    "            current = '-'.join([k[0] + '.' for k in token.split('-')])\n",
    "        else:\n",
    "            current = token[0] + '.'\n",
    "        initials.append(current)\n",
    "    initials.append(split[-1].strip())\n",
    "    if suffix:\n",
    "        initials.append(f\"({suffix})\")\n",
    "    return ' '.join(initials)"
   ]
  },
  {
   "cell_type": "markdown",
   "id": "14bd6310",
   "metadata": {
    "papermill": {
     "duration": 0.002898,
     "end_time": "2025-10-08T04:13:18.468397",
     "exception": false,
     "start_time": "2025-10-08T04:13:18.465499",
     "status": "completed"
    },
    "tags": []
   },
   "source": [
    "## get list of arxiv paper candidates\n",
    "\n",
    "We use the MPIA mitarbeiter list webpage from mpia.de to get author names\n",
    "We then get all new papers from Arxiv and match authors"
   ]
  },
  {
   "cell_type": "code",
   "execution_count": 3,
   "id": "7ea813a8",
   "metadata": {
    "execution": {
     "iopub.execute_input": "2025-10-08T04:13:18.475347Z",
     "iopub.status.busy": "2025-10-08T04:13:18.475100Z",
     "iopub.status.idle": "2025-10-08T04:13:43.539662Z",
     "shell.execute_reply": "2025-10-08T04:13:43.538973Z"
    },
    "papermill": {
     "duration": 25.069552,
     "end_time": "2025-10-08T04:13:43.540919",
     "exception": false,
     "start_time": "2025-10-08T04:13:18.471367",
     "status": "completed"
    },
    "tags": []
   },
   "outputs": [],
   "source": [
    "# deal with the author list and edge cases of people that cannot be consistent on their name  \n",
    "\n",
    "def filter_non_scientists(name: str) -> bool:\n",
    "    \"\"\" Loose filter on expected authorships\n",
    "\n",
    "    removing IT, administration, technical staff\n",
    "    :param name: name\n",
    "    :returns: False if name is not a scientist\n",
    "    \"\"\"\n",
    "    remove_list = ['Licht', 'Binroth', 'Witzel', 'Jordan',\n",
    "                   'Zähringer', 'Scheerer', 'Hoffmann', 'Düe',\n",
    "                   'Hellmich', 'Enkler-Scharpegge', 'Witte-Nguy',\n",
    "                   'Dehen', 'Beckmann', 'Jager', 'Jäger'\n",
    "                  ]\n",
    "\n",
    "    for k in remove_list:\n",
    "        if k in name:\n",
    "            return False\n",
    "    return True\n",
    "\n",
    "def add_author_to_list(author_list: list) -> list:\n",
    "    \"\"\" Add author to list if not already in list\n",
    "    \n",
    "    :param author: author name\n",
    "    :param author_list: list of authors\n",
    "    :returns: updated list of authors\n",
    "    \"\"\"\n",
    "    add_list = ['T. Henning']\n",
    "\n",
    "    for author in add_list:\n",
    "        if author not in author_list:\n",
    "            author_list.append(author)\n",
    "    return author_list\n",
    "\n",
    "# get list from MPIA website\n",
    "# filter for non-scientists (mpia.get_mpia_mitarbeiter_list() does some filtering)\n",
    "mpia_authors = [k[1] for k in mpia.get_mpia_mitarbeiter_list() if filter_non_scientists(k[1])]\n",
    "# add some missing author because of inconsistencies in their MPIA name and author name on papers\n",
    "mpia_authors = add_author_to_list(mpia_authors)"
   ]
  },
  {
   "cell_type": "code",
   "execution_count": 4,
   "id": "2645e73a",
   "metadata": {
    "execution": {
     "iopub.execute_input": "2025-10-08T04:13:43.548671Z",
     "iopub.status.busy": "2025-10-08T04:13:43.548392Z",
     "iopub.status.idle": "2025-10-08T04:13:44.350473Z",
     "shell.execute_reply": "2025-10-08T04:13:44.349840Z"
    },
    "papermill": {
     "duration": 0.807248,
     "end_time": "2025-10-08T04:13:44.351549",
     "exception": false,
     "start_time": "2025-10-08T04:13:43.544301",
     "status": "completed"
    },
    "tags": []
   },
   "outputs": [
    {
     "name": "stdout",
     "output_type": "stream",
     "text": [
      "J. d. Brok  ->  J. d. Brok  |  ['J. d. Brok']\n",
      "A. Hughes  ->  A. Hughes  |  ['A. Hughes']\n",
      "Y. Wang  ->  Y. Wang  |  ['Y. Wang']\n",
      "X. Zhang  ->  X. Zhang  |  ['X. Zhang']\n",
      "T. Henning  ->  T. Henning  |  ['T. Henning']\n",
      "P. Boley  ->  P. Boley  |  ['P. Boley']\n"
     ]
    },
    {
     "name": "stdout",
     "output_type": "stream",
     "text": [
      "M. Zhang  ->  M. Zhang  |  ['M. Zhang']\n",
      "J. Müller-Horn  ->  J. Müller-Horn  |  ['J. Müller-Horn']\n",
      "H.-W. Rix  ->  H.-W. Rix  |  ['H.-W. Rix']\n",
      "K. El-Badry  ->  K. El-Badry  |  ['K. El-Badry']\n",
      "B. Pennell  ->  B. Pennell  |  ['B. Pennell']\n",
      "J. Li  ->  J. Li  |  ['J. Li']\n",
      "R. Seeburger  ->  L. R. Seeburger  |  ['R. Seeburger']\n",
      "G. Rouillé  ->  G. Rouillé  |  ['G. Rouillé']\n",
      "Arxiv has 82 new papers today\n",
      "          7 with possible author matches\n"
     ]
    }
   ],
   "source": [
    "new_papers = get_new_papers()\n",
    "# add manual references\n",
    "add_paper_refs = []\n",
    "new_papers.extend([get_paper_from_identifier(k) for k in add_paper_refs])\n",
    "\n",
    "def robust_call(fn, value, *args, **kwargs):\n",
    "    try:\n",
    "        return fn(value, *args, **kwargs)\n",
    "    except Exception:\n",
    "        return value\n",
    "\n",
    "candidates = []\n",
    "for paperk in new_papers:\n",
    "    # Check author list with their initials\n",
    "    normed_author_list = [robust_call(mpia.get_initials, k) for k in paperk['authors']]\n",
    "    hl_authors = highlight_authors_in_list(normed_author_list, mpia_authors, verbose=True)\n",
    "    matches = [(hl, orig) for hl, orig in zip(hl_authors, paperk['authors']) if 'mark' in hl]\n",
    "    paperk['authors'] = hl_authors\n",
    "    if matches:\n",
    "        # only select paper if an author matched our list\n",
    "        candidates.append(paperk)\n",
    "print(\"\"\"Arxiv has {0:,d} new papers today\"\"\".format(len(new_papers)))        \n",
    "print(\"\"\"          {0:,d} with possible author matches\"\"\".format(len(candidates)))"
   ]
  },
  {
   "cell_type": "markdown",
   "id": "3543b34a",
   "metadata": {
    "papermill": {
     "duration": 0.00321,
     "end_time": "2025-10-08T04:13:44.358427",
     "exception": false,
     "start_time": "2025-10-08T04:13:44.355217",
     "status": "completed"
    },
    "tags": []
   },
   "source": [
    "# Parse sources and generate relevant outputs\n",
    "\n",
    "From the candidates, we do the following steps:\n",
    "* get their tarball from ArXiv (and extract data)\n",
    "* find the main .tex file: find one with \\documentclass{...} (sometimes it's non trivial)\n",
    "* Check affiliations with :func:`validation`, which uses :func:`mpia.affiliation_verifications`\n",
    "* If passing the affiliations: we parse the .tex source\n",
    "   * inject sub-documents into the main (flatten the main document)\n",
    "   * parse structure, extract information (title, abstract, authors, figures...)\n",
    "   * handles `\\graphicspath` if provided\n",
    "* Generate the .md document."
   ]
  },
  {
   "cell_type": "code",
   "execution_count": 5,
   "id": "9576b79e",
   "metadata": {
    "execution": {
     "iopub.execute_input": "2025-10-08T04:13:44.365923Z",
     "iopub.status.busy": "2025-10-08T04:13:44.365664Z",
     "iopub.status.idle": "2025-10-08T04:17:09.210050Z",
     "shell.execute_reply": "2025-10-08T04:17:09.209174Z"
    },
    "papermill": {
     "duration": 204.854384,
     "end_time": "2025-10-08T04:17:09.215990",
     "exception": false,
     "start_time": "2025-10-08T04:13:44.361606",
     "status": "completed"
    },
    "scrolled": false,
    "tags": []
   },
   "outputs": [
    {
     "data": {
      "application/vnd.jupyter.widget-view+json": {
       "model_id": "412c76226848489fa79af467a9abdac0",
       "version_major": 2,
       "version_minor": 0
      },
      "text/plain": [
       "  0%|          | 0/7 [00:00<?, ?it/s]"
      ]
     },
     "metadata": {},
     "output_type": "display_data"
    },
    {
     "name": "stdout",
     "output_type": "stream",
     "text": [
      "Retrieving document from  https://arxiv.org/e-print/2510.05214\n"
     ]
    },
    {
     "name": "stdout",
     "output_type": "stream",
     "text": [
      "extracting tarball to tmp_2510.05214..."
     ]
    },
    {
     "name": "stdout",
     "output_type": "stream",
     "text": [
      " done.\n"
     ]
    },
    {
     "name": "stderr",
     "output_type": "stream",
     "text": [
      "/opt/hostedtoolcache/Python/3.9.23/x64/lib/python3.9/site-packages/IPython/core/interactiveshell.py:3550: LatexWarning: Multiple tex files.\n",
      "\n",
      "  exec(code_obj, self.user_global_ns, self.user_ns)\n",
      "/opt/hostedtoolcache/Python/3.9.23/x64/lib/python3.9/site-packages/IPython/core/interactiveshell.py:3550: LatexWarning: Found documentclass in tmp_2510.05214/main.tex\n",
      "\n",
      "  exec(code_obj, self.user_global_ns, self.user_ns)\n",
      "/opt/hostedtoolcache/Python/3.9.23/x64/lib/python3.9/site-packages/arxiv_on_deck_2/latex.py:414: LatexWarning: Latex injecting: 'table_sample' from 'tmp_2510.05214/table_sample.tex'\n",
      "  warnings.warn(LatexWarning(f\"Latex injecting: '{ext}' from '{subsource}'\"))\n",
      "/opt/hostedtoolcache/Python/3.9.23/x64/lib/python3.9/site-packages/arxiv_on_deck_2/latex.py:414: LatexWarning: Latex injecting: 'authors' from 'tmp_2510.05214/authors.tex'\n",
      "  warnings.warn(LatexWarning(f\"Latex injecting: '{ext}' from '{subsource}'\"))\n",
      "/opt/hostedtoolcache/Python/3.9.23/x64/lib/python3.9/site-packages/arxiv_on_deck_2/latex.py:414: LatexWarning: Latex injecting: 'commands' from 'tmp_2510.05214/commands.tex'\n",
      "  warnings.warn(LatexWarning(f\"Latex injecting: '{ext}' from '{subsource}'\"))\n"
     ]
    },
    {
     "name": "stderr",
     "output_type": "stream",
     "text": [
      "/tmp/ipykernel_3390/2822249172.py:52: LatexWarning: 2510.05214 did not run properly\n",
      "bad escape \\e at position 41\n",
      "  warnings.warn(latex.LatexWarning(f\"{paper_id:s} did not run properly\\n\" +\n"
     ]
    },
    {
     "name": "stdout",
     "output_type": "stream",
     "text": [
      "Retrieving document from  https://arxiv.org/e-print/2510.05587\n"
     ]
    },
    {
     "name": "stdout",
     "output_type": "stream",
     "text": [
      "extracting tarball to tmp_2510.05587..."
     ]
    },
    {
     "name": "stdout",
     "output_type": "stream",
     "text": [
      " done.\n",
      "Retrieving document from  https://arxiv.org/e-print/2510.05673\n"
     ]
    },
    {
     "name": "stdout",
     "output_type": "stream",
     "text": [
      "extracting tarball to tmp_2510.05673..."
     ]
    },
    {
     "name": "stdout",
     "output_type": "stream",
     "text": [
      " done.\n",
      "Retrieving document from  https://arxiv.org/e-print/2510.05818\n"
     ]
    },
    {
     "name": "stdout",
     "output_type": "stream",
     "text": [
      "extracting tarball to tmp_2510.05818..."
     ]
    },
    {
     "name": "stdout",
     "output_type": "stream",
     "text": [
      " done.\n"
     ]
    },
    {
     "name": "stdout",
     "output_type": "stream",
     "text": [
      "T. Henning  ->  T. Henning  |  ['T. Henning']\n",
      "P. Boley  ->  P. Boley  |  ['P. Boley']\n"
     ]
    },
    {
     "name": "stdout",
     "output_type": "stream",
     "text": [
      "Found 104 bibliographic references in tmp_2510.05818/aa53374-24corr_ver5.bbl.\n",
      "Issues with the citations\n",
      "syntax error in line 662: '=' expected\n",
      "Retrieving document from  https://arxiv.org/e-print/2510.05933\n"
     ]
    },
    {
     "name": "stderr",
     "output_type": "stream",
     "text": [
      "/opt/hostedtoolcache/Python/3.9.23/x64/lib/python3.9/site-packages/arxiv_on_deck_2/latex_bib.py:132: UserWarning: Error processing bibitem\n",
      " item = \\bibitem[{{HI4PI Collaboration} {et~al.}(2016){HI4PI Collaboration}, {Ben  Bekhti}, {Fl{ö}er}, {Keller}, {Kerp}, {Lenz}, {Winkel}, {Bailin},  {Calabretta}, {Dedes}, {Ford}, {Gibson}, {Haud}, {Janowiecki}, {Kalberla},  {Lockman}, {McClure-Griffiths}, {Murphy}, {Nakanishi}, {Pisano},   {Staveley-Smith}}]{hi4pi}{HI4PI Collaboration}, {Ben Bekhti}, N., {Fl{ö}er}, L., {et~al.} 2016, \\aap,  594, A116\n",
      " regex = \n",
      "        \\\\bibitem(\\[[^\\[\\]]*?\\]){(?P<bibkey>[a-zA-Z0-9\\-\\+\\.\\S]+?)}(?P<authors>|([\\D]*?))(?P<year>[12][0-9]{3})(?P<rest>.*)\n",
      "        \n",
      "  warnings.warn(str(e))\n"
     ]
    },
    {
     "name": "stdout",
     "output_type": "stream",
     "text": [
      "extracting tarball to tmp_2510.05933..."
     ]
    },
    {
     "name": "stdout",
     "output_type": "stream",
     "text": [
      " done.\n"
     ]
    },
    {
     "name": "stdout",
     "output_type": "stream",
     "text": [
      "M. Zhang  ->  M. Zhang  |  ['M. Zhang']\n"
     ]
    },
    {
     "name": "stderr",
     "output_type": "stream",
     "text": [
      "/opt/hostedtoolcache/Python/3.9.23/x64/lib/python3.9/site-packages/arxiv_on_deck_2/latex.py:132: LatexWarning: attempting recovering figure .pdf\n",
      "  warnings.warn(LatexWarning(f'attempting recovering figure {image}'))\n",
      "/opt/hostedtoolcache/Python/3.9.23/x64/lib/python3.9/site-packages/arxiv_on_deck_2/latex.py:707: LatexWarning: Could not find graphic \\includegraphics[width=0.85\\textwidth]{{Fil1_Ngasmaskedlic_snrpfrac1.5snrI10}.pdf}\n",
      "  warnings.warn(LatexWarning(f\"Could not find graphic {k}\"))\n"
     ]
    },
    {
     "name": "stderr",
     "output_type": "stream",
     "text": [
      "/opt/hostedtoolcache/Python/3.9.23/x64/lib/python3.9/site-packages/arxiv_on_deck_2/latex.py:132: LatexWarning: attempting recovering figure .pdf\n",
      "  warnings.warn(LatexWarning(f'attempting recovering figure {image}'))\n",
      "/opt/hostedtoolcache/Python/3.9.23/x64/lib/python3.9/site-packages/arxiv_on_deck_2/latex.py:707: LatexWarning: Could not find graphic \\includegraphics[width=0.9\\textwidth]{{Fil2_Ngasmaskedlic_snrpfrac1.5snrI10}.pdf}\n",
      "  warnings.warn(LatexWarning(f\"Could not find graphic {k}\"))\n"
     ]
    },
    {
     "name": "stderr",
     "output_type": "stream",
     "text": [
      "/opt/hostedtoolcache/Python/3.9.23/x64/lib/python3.9/site-packages/arxiv_on_deck_2/latex.py:132: LatexWarning: attempting recovering figure .pdf\n",
      "  warnings.warn(LatexWarning(f'attempting recovering figure {image}'))\n",
      "/opt/hostedtoolcache/Python/3.9.23/x64/lib/python3.9/site-packages/arxiv_on_deck_2/latex.py:707: LatexWarning: Could not find graphic \\includegraphics[width=0.85\\textwidth]{{Fil4_Ngasmaskedlic_snrpfrac1.5snrI10}.pdf}\n",
      "  warnings.warn(LatexWarning(f\"Could not find graphic {k}\"))\n"
     ]
    },
    {
     "name": "stderr",
     "output_type": "stream",
     "text": [
      "/opt/hostedtoolcache/Python/3.9.23/x64/lib/python3.9/site-packages/arxiv_on_deck_2/latex.py:132: LatexWarning: attempting recovering figure .pdf\n",
      "  warnings.warn(LatexWarning(f'attempting recovering figure {image}'))\n",
      "/opt/hostedtoolcache/Python/3.9.23/x64/lib/python3.9/site-packages/arxiv_on_deck_2/latex.py:707: LatexWarning: Could not find graphic \\includegraphics[width=0.9\\textwidth]{{Fil5_Ngasmaskedlic_snrpfrac1.5snrI10}.pdf}\n",
      "  warnings.warn(LatexWarning(f\"Could not find graphic {k}\"))\n"
     ]
    },
    {
     "name": "stderr",
     "output_type": "stream",
     "text": [
      "/opt/hostedtoolcache/Python/3.9.23/x64/lib/python3.9/site-packages/arxiv_on_deck_2/latex.py:132: LatexWarning: attempting recovering figure .pdf\n",
      "  warnings.warn(LatexWarning(f'attempting recovering figure {image}'))\n",
      "/opt/hostedtoolcache/Python/3.9.23/x64/lib/python3.9/site-packages/arxiv_on_deck_2/latex.py:707: LatexWarning: Could not find graphic \\includegraphics[width=\\textwidth]{{Snake_Ngasmaskedlic_snrpfrac1.5snrI10}.pdf}\n",
      "  warnings.warn(LatexWarning(f\"Could not find graphic {k}\"))\n"
     ]
    },
    {
     "name": "stderr",
     "output_type": "stream",
     "text": [
      "/opt/hostedtoolcache/Python/3.9.23/x64/lib/python3.9/site-packages/arxiv_on_deck_2/latex.py:132: LatexWarning: attempting recovering figure .pdf\n",
      "  warnings.warn(LatexWarning(f'attempting recovering figure {image}'))\n",
      "/opt/hostedtoolcache/Python/3.9.23/x64/lib/python3.9/site-packages/arxiv_on_deck_2/latex.py:707: LatexWarning: Could not find graphic \\includegraphics[width=\\textwidth]{{Fil8_Ngasmaskedlic_snrpfrac1.5snrI10}.pdf}\n",
      "  warnings.warn(LatexWarning(f\"Could not find graphic {k}\"))\n"
     ]
    },
    {
     "name": "stderr",
     "output_type": "stream",
     "text": [
      "/opt/hostedtoolcache/Python/3.9.23/x64/lib/python3.9/site-packages/arxiv_on_deck_2/latex.py:132: LatexWarning: attempting recovering figure .pdf\n",
      "  warnings.warn(LatexWarning(f'attempting recovering figure {image}'))\n",
      "/opt/hostedtoolcache/Python/3.9.23/x64/lib/python3.9/site-packages/arxiv_on_deck_2/latex.py:707: LatexWarning: Could not find graphic \\includegraphics[width=\\textwidth,angle=90]{{Fil10_Ngasmaskedlic_snrpfrac1.5snrI10}.pdf}\n",
      "  warnings.warn(LatexWarning(f\"Could not find graphic {k}\"))\n"
     ]
    },
    {
     "name": "stderr",
     "output_type": "stream",
     "text": [
      "/opt/hostedtoolcache/Python/3.9.23/x64/lib/python3.9/site-packages/arxiv_on_deck_2/latex.py:132: LatexWarning: attempting recovering figure .pdf\n",
      "  warnings.warn(LatexWarning(f'attempting recovering figure {image}'))\n",
      "/opt/hostedtoolcache/Python/3.9.23/x64/lib/python3.9/site-packages/arxiv_on_deck_2/latex.py:707: LatexWarning: Could not find graphic \\includegraphics[width=\\textwidth,angle=90]{{G24_Ngasmaskedlic_snrpfrac1.5snrI10}.pdf}\n",
      "  warnings.warn(LatexWarning(f\"Could not find graphic {k}\"))\n",
      "/opt/hostedtoolcache/Python/3.9.23/x64/lib/python3.9/site-packages/arxiv_on_deck_2/latex.py:132: LatexWarning: attempting recovering figure .pdf\n",
      "  warnings.warn(LatexWarning(f'attempting recovering figure {image}'))\n",
      "/opt/hostedtoolcache/Python/3.9.23/x64/lib/python3.9/site-packages/arxiv_on_deck_2/latex.py:707: LatexWarning: Could not find graphic \\includegraphics[width=0.9\\textwidth]{{G47_Ngasmaskedlic_snrpfrac1.5snrI10}.pdf}\n",
      "  warnings.warn(LatexWarning(f\"Could not find graphic {k}\"))\n"
     ]
    },
    {
     "name": "stderr",
     "output_type": "stream",
     "text": [
      "/opt/hostedtoolcache/Python/3.9.23/x64/lib/python3.9/site-packages/arxiv_on_deck_2/latex.py:132: LatexWarning: attempting recovering figure .pdf\n",
      "  warnings.warn(LatexWarning(f'attempting recovering figure {image}'))\n",
      "/opt/hostedtoolcache/Python/3.9.23/x64/lib/python3.9/site-packages/arxiv_on_deck_2/latex.py:707: LatexWarning: Could not find graphic \\includegraphics[width=\\textwidth]{{G49_Ngasmaskedlic_snrpfrac1.5snrI10}.pdf}\n",
      "  warnings.warn(LatexWarning(f\"Could not find graphic {k}\"))\n"
     ]
    },
    {
     "name": "stdout",
     "output_type": "stream",
     "text": [
      "Found 76 bibliographic references in tmp_2510.05933/slidingbox_angles_resubmission2.bbl.\n",
      "Retrieving document from  https://arxiv.org/e-print/2510.05982\n"
     ]
    },
    {
     "name": "stdout",
     "output_type": "stream",
     "text": [
      "extracting tarball to tmp_2510.05982..."
     ]
    },
    {
     "name": "stdout",
     "output_type": "stream",
     "text": [
      " done.\n"
     ]
    },
    {
     "name": "stdout",
     "output_type": "stream",
     "text": [
      "J. Müller-Horn  ->  J. Müller-Horn  |  ['J. Müller-Horn']\n",
      "H.-W. Rix  ->  H.-W. Rix  |  ['H.-W. Rix']\n",
      "K. El-Badry  ->  K. El-Badry  |  ['K. El-Badry']\n",
      "B. Pennell  ->  B. Pennell  |  ['B. Pennell']\n",
      "J. Li  ->  J. Li  |  ['J. Li']\n",
      "R. Seeburger  ->  L. R. Seeburger  |  ['R. Seeburger']\n"
     ]
    },
    {
     "name": "stderr",
     "output_type": "stream",
     "text": [
      "/opt/hostedtoolcache/Python/3.9.23/x64/lib/python3.9/site-packages/arxiv_on_deck_2/latex.py:132: LatexWarning: attempting recovering figure figures/orbit_fit.png\n",
      "  warnings.warn(LatexWarning(f'attempting recovering figure {image}'))\n",
      "/opt/hostedtoolcache/Python/3.9.23/x64/lib/python3.9/site-packages/arxiv_on_deck_2/latex.py:707: LatexWarning: Could not find graphic \\includegraphics[width=\\columnwidth,angle=0,clip=true]{figures/orbit_fit.png}\n",
      "  warnings.warn(LatexWarning(f\"Could not find graphic {k}\"))\n",
      "/opt/hostedtoolcache/Python/3.9.23/x64/lib/python3.9/site-packages/arxiv_on_deck_2/latex.py:132: LatexWarning: attempting recovering figure figures/plot_orbit_6022870954609549824.png\n",
      "  warnings.warn(LatexWarning(f'attempting recovering figure {image}'))\n",
      "/opt/hostedtoolcache/Python/3.9.23/x64/lib/python3.9/site-packages/arxiv_on_deck_2/latex.py:707: LatexWarning: Could not find graphic \\includegraphics[width=\\columnwidth]{figures/plot_orbit_6022870954609549824.png}\n",
      "  warnings.warn(LatexWarning(f\"Could not find graphic {k}\"))\n"
     ]
    },
    {
     "name": "stdout",
     "output_type": "stream",
     "text": [
      "Found 44 bibliographic references in tmp_2510.05982/main.bbl.\n",
      "Retrieving document from  https://arxiv.org/e-print/2510.06167\n"
     ]
    },
    {
     "name": "stdout",
     "output_type": "stream",
     "text": [
      "extracting tarball to tmp_2510.06167..."
     ]
    },
    {
     "name": "stdout",
     "output_type": "stream",
     "text": [
      " done.\n"
     ]
    }
   ],
   "source": [
    "documents = []\n",
    "failed = []\n",
    "for paper in tqdm(candidates):\n",
    "    # debug crap\n",
    "    paper['identifier'] = paper['identifier'].lower().replace('arxiv:', '').replace(r'\\n', '').strip()\n",
    "    paper_id = paper['identifier']\n",
    "    \n",
    "    folder = f'tmp_{paper_id}'\n",
    "\n",
    "    try:\n",
    "        if not os.path.isdir(folder):\n",
    "            folder = retrieve_document_source(f\"{paper_id}\", f'tmp_{paper_id}')\n",
    "        \n",
    "        try:\n",
    "            doc = latex.LatexDocument(folder, validation=validation)    \n",
    "        except AffiliationError as affilerror:\n",
    "            msg = f\"ArXiv:{paper_id:s} is not an MPIA paper... \" + str(affilerror)\n",
    "            failed.append((paper, \"affiliation error: \" + str(affilerror) ))\n",
    "            continue\n",
    "        \n",
    "        # Hack because sometimes author parsing does not work well\n",
    "        if (len(doc.authors) != len(paper['authors'])):\n",
    "            doc._authors = paper['authors']\n",
    "        else:\n",
    "            # highlight authors (FIXME: doc.highlight_authors)\n",
    "            # done on arxiv paper already\n",
    "            doc._authors = highlight_authors_in_list(\n",
    "                [get_initials(k) for k in doc.authors], \n",
    "                mpia_authors, verbose=True)\n",
    "        if (doc.abstract) in (None, ''):\n",
    "            doc._abstract = paper['abstract']\n",
    "            \n",
    "        doc.comment = (get_markdown_badge(paper_id) + \n",
    "                       \"<mark>Appeared on: \" + paper['date'] + \"</mark> - \")\n",
    "        if paper['comments']:\n",
    "            doc.comment += \" _\" + paper['comments'] + \"_\"\n",
    "        \n",
    "        full_md = doc.generate_markdown_text()\n",
    "        \n",
    "        full_md += get_markdown_qrcode(paper_id)\n",
    "        \n",
    "        # replace citations\n",
    "        try:\n",
    "            bibdata = latex_bib.LatexBib.from_doc(doc)\n",
    "            full_md = latex_bib.replace_citations(full_md, bibdata)\n",
    "        except Exception as e:\n",
    "            print(\"Issues with the citations\")\n",
    "            print(e)\n",
    "        \n",
    "        documents.append((paper_id, full_md))\n",
    "    except Exception as e:\n",
    "        warnings.warn(latex.LatexWarning(f\"{paper_id:s} did not run properly\\n\" +\n",
    "                                         str(e)\n",
    "                                        ))\n",
    "        failed.append((paper, \"latex error \" + str(e)))"
   ]
  },
  {
   "cell_type": "markdown",
   "id": "2505a25c",
   "metadata": {
    "papermill": {
     "duration": 0.005591,
     "end_time": "2025-10-08T04:17:09.226807",
     "exception": false,
     "start_time": "2025-10-08T04:17:09.221216",
     "status": "completed"
    },
    "tags": []
   },
   "source": [
    "### Export the logs\n",
    "\n",
    "Throughout, we also keep track of the logs per paper. see `logs-{today date}.md` "
   ]
  },
  {
   "cell_type": "code",
   "execution_count": 6,
   "id": "d733828a",
   "metadata": {
    "execution": {
     "iopub.execute_input": "2025-10-08T04:17:09.238119Z",
     "iopub.status.busy": "2025-10-08T04:17:09.237845Z",
     "iopub.status.idle": "2025-10-08T04:17:09.257349Z",
     "shell.execute_reply": "2025-10-08T04:17:09.256726Z"
    },
    "papermill": {
     "duration": 0.026603,
     "end_time": "2025-10-08T04:17:09.258414",
     "exception": false,
     "start_time": "2025-10-08T04:17:09.231811",
     "status": "completed"
    },
    "scrolled": false,
    "tags": []
   },
   "outputs": [
    {
     "data": {
      "text/markdown": [
       "## Successful papers"
      ],
      "text/plain": [
       "<IPython.core.display.Markdown object>"
      ]
     },
     "metadata": {},
     "output_type": "display_data"
    },
    {
     "data": {
      "text/markdown": [
       "\n",
       "|||\n",
       "|---:|:---|\n",
       "| [![arXiv](https://img.shields.io/badge/arXiv-2510.05818-b31b1b.svg)](https://arxiv.org/abs/2510.05818) | **An interferometric mid-infrared study of the eruptive star binary Z CMa with MATISSE/VLTI. I. Imaging the protoplanetary disks during the 2023 outburst**  |\n",
       "|| F. Lykou, et al. -- incl., <mark>T. Henning</mark>, <mark>P. Boley</mark> |\n",
       "|*Appeared on*| *2025-10-08*|\n",
       "|*Comments*| *25 pages, 21 figures, accepted for publication in Astronomy & Astrophysics*|\n",
       "|**Abstract**|            The mid-infrared (MIR) emitting regions of the individual protoplanetary disks in the binary system Z CMa are resolved by MATISSE/VLTI. The observations were obtained during a serendipitous large outburst of the HBe star that lasted more than 100 days, while the FUor companion is presumed to be in quiescence. The size of the MIR-emitting disk region of the more massive HBe star increases toward longer wavelengths from $<14$ mas at 3.5$\\mu m$ to $\\ll 50$ mas at 11.5$\\mu m$ . The lack of substructures in the HBe disk might suggest that it is a continuous disk; however, this could be due to observational constraints. We also note a radial variation of the silicate absorption feature over the disk, where the optical depth increases inwards of $<$40~au radii. This contradicts the scenario of a carved, dusty cocoon surrounding the HBe star. In the case of the less massive FUor companion, the MIR-emitting region is much smaller with an angular size $\\leq$15 mas (or else a physical radius $<9$ au) in all bands, suggesting a compact disk. Both disks are aligned within uncertainties, and their orientation agrees with that of the known jets. Furthermore, MATISSE data place the binary's separation at $117.88 \\pm 0.73$ mas and a position angle of $139.16^o\\,\\pm\\,0.29^o$ east of north. Our estimates for the orbital elements gave an eccentric orbit ($e\\sim0.17$) with a moderate inclination ($i\\sim 66$\\degr). The derived total mass is $M_{\\rm total} = 16.4^{+2.1}_{-2.3}$ M$_\\odot$, while the period is approximately 950 years. Our MATISSE imaging of the Herbig disk during outburst indicates a temperature gradient for the disk, while imaging of the FUor companion's disk corroborates previous studies showing that FUor disks are rather compact in the MIR. We cannot infer any misalignment between the MATISSE results and earlier ALMA/JVLA data, nor can we infer any influence from the alleged flyby event.         |"
      ],
      "text/plain": [
       "[2510.05818] An interferometric mid-infrared study of the eruptive star binary Z CMa with MATISSE/VLTI. I. Imaging the protoplanetary disks during the 2023 outburst\n",
       "\tF. Lykou, et al. -- incl., <mark>T. Henning</mark>, <mark>P. Boley</mark>"
      ]
     },
     "metadata": {},
     "output_type": "display_data"
    },
    {
     "data": {
      "text/markdown": [
       "\n",
       "|||\n",
       "|---:|:---|\n",
       "| [![arXiv](https://img.shields.io/badge/arXiv-2510.05933-b31b1b.svg)](https://arxiv.org/abs/2510.05933) | **Magnetic Fields in the Bones of the Milky Way**  |\n",
       "|| I. W. Stephens, et al. -- incl., <mark>M. Zhang</mark> |\n",
       "|*Appeared on*| *2025-10-08*|\n",
       "|*Comments*| *Accepted to ApJ*|\n",
       "|**Abstract**|            Stars primarily form in galactic spiral arms within dense, filamentary molecular clouds. The largest and most elongated of these molecular clouds are referred to as ``bones,\" which are massive, velocity-coherent filaments (lengths ~20 to >100 pc, widths ~1-2 pc) that run approximately parallel and in close proximity to the Galactic plane. While these bones have been generally well characterized, the importance and structure of their magnetic fields (B-fields) remain largely unconstrained. Through the SOFIA Legacy program FIELDMAPS, we mapped the B-fields of 10 bones in the Milky Way. We found that their B-fields are varied, with no single preferred alignment along the entire spine of the bones. At higher column densities, the spines of the bones are more likely to align perpendicularly to the B-fields, although this is not ubiquitous, and the alignment shows no strong correlation with the locations of identified young stellar objects. We estimated the B-field strengths across the bones and found them to be ~30-150 $\\mu$G at pc scales. Despite the generally low virial parameters, the B-fields are strong compared to the local gravity, suggesting that B-fields play a significant role in resisting global collapse. Moreover, the B-fields may slow and guide gas flow during dissipation. Recent star formation within the bones may be due to high-density pockets at smaller scales, which could have formed before or simultaneously with the bones.         |"
      ],
      "text/plain": [
       "[2510.05933] Magnetic Fields in the Bones of the Milky Way\n",
       "\tI. W. Stephens, et al. -- incl., <mark>M. Zhang</mark>"
      ]
     },
     "metadata": {},
     "output_type": "display_data"
    },
    {
     "data": {
      "text/markdown": [
       "\n",
       "|||\n",
       "|---:|:---|\n",
       "| [![arXiv](https://img.shields.io/badge/arXiv-2510.05982-b31b1b.svg)](https://arxiv.org/abs/2510.05982) | **Dormant BH candidates from Gaia DR3 summary diagnostics**  |\n",
       "|| <mark>J. Müller-Horn</mark>, et al. -- incl., <mark>H.-W. Rix</mark>, <mark>K. El-Badry</mark>, <mark>B. Pennell</mark>, <mark>J. Li</mark>, <mark>R. Seeburger</mark> |\n",
       "|*Appeared on*| *2025-10-08*|\n",
       "|*Comments*| *17 pages, 15 figures, submitted to A&A, comments welcome, catalogues are available here: this https URL*|\n",
       "|**Abstract**|            We present a rigorous identification of candidates for dormant black holes (BHs) and neutron stars (NSs) in binaries using summary statistics from Gaia DR3, rather than full orbital solutions. Although Gaia astrometric orbits have already revealed a small sample of compact object binaries, many systems remain undetected due to stringent quality cuts imposed on the published orbits. Using a forward-modelling framework that simulates Gaia observables, in particular the renormalised unit weight error (ruwe) and radial velocity (RV) scatter, we infer posterior distributions for companion mass and orbital period via MCMC sampling, marginalising over nuisance orbital parameters. We validate our approach by comparing the predicted masses and periods against full orbit solutions from DR3, and by successfully recovering known compact object binaries as promising candidates. The method is best suited for systems with red giant primaries, which have more reliable Gaia RV scatter and a light centroid more likely dominated by one component, compared to main-sequence stars. And they are less likely to be triples with short-period inner binaries, which produce confounding signatures. We apply the method to three million giants and identify 556 systems with best-fit companion masses $\\gtrsim 3\\,M_\\odot$. Recovery simulations suggest our selection method is substantially more sensitive than the DR3 non-single-star catalogue, particularly for binaries with periods below 1 year and above $\\sim 6$ years. These candidates represent promising targets for spectroscopic follow-up and Gaia DR4 analysis to confirm the presence of compact objects. Candidate main-sequence stars with massive companions face a larger set of confounding effects. Therefore, we present an analogous catalogue of 279 additional `main sequence' candidates only as an appendix.         |"
      ],
      "text/plain": [
       "[2510.05982] Dormant BH candidates from Gaia DR3 summary diagnostics\n",
       "\t<mark>J. Müller-Horn</mark>, et al. -- incl., <mark>H.-W. Rix</mark>, <mark>K. El-Badry</mark>, <mark>B. Pennell</mark>, <mark>J. Li</mark>, <mark>R. Seeburger</mark>"
      ]
     },
     "metadata": {},
     "output_type": "display_data"
    },
    {
     "data": {
      "text/markdown": [
       "## Failed papers"
      ],
      "text/plain": [
       "<IPython.core.display.Markdown object>"
      ]
     },
     "metadata": {},
     "output_type": "display_data"
    },
    {
     "data": {
      "text/markdown": [
       "\n",
       "|||\n",
       "|---:|:---|\n",
       "| [![arXiv](https://img.shields.io/badge/arXiv-2510.05673-b31b1b.svg)](https://arxiv.org/abs/2510.05673) | **Resurging from the ashes: A spectral study of seven candidate revived radio fossils in nearby low-mass galaxy clusters**  |\n",
       "|| L. Bruno, et al. -- incl., <mark>X. Zhang</mark> |\n",
       "|*Appeared on*| *2025-10-08*|\n",
       "|*Comments*| *17 pages (12 main text + 5 appendix). Accepted for publication in A&A*|\n",
       "|**Abstract**|            Complex energy transfer processes in the intracluster medium (ICM) can revive fossil (with spectral ages $\\gg100$ Myr) plasma initially generated by radio galaxies. This leads to the re-ignition of faint radio sources with irregular and filamentary morphologies, and ultra-steep ($\\alpha \\gtrsim 1.5$) synchrotron spectra, which can be more easily detected at low frequencies ($\\sim 100$ MHz). These sources offer the opportunity to investigate the microphysics of the ICM and its interplay with radio galaxies, the origin of seed relativistic electrons, the merging history of the host cluster, and the phenomenology of radio filaments. The study of revived sources has so far been hampered by the requirement of sensitive and high-resolution multi-frequency radio data at low frequencies to characterise their spatial properties and provide a proper classification. We aim to perform the analysis of a sample of candidate revived sources identified among nearby ($z\\leq0.35$) and low-mass ($M_{500}\\leq5\\times 10^{14} M_\\odot$) \\textit{Planck} clusters in the footprint of LoTSS-DR2. By inspecting LoTSS-DR2 images at 144 MHz, we identified 7 targets with patchy and filamentary morphologies, which have been followed-up with the uGMRT at 400 MHz. By combining LOFAR and uGMRT data, we obtained high-resolution images and spectral index maps, which we used to interpret the nature of the sources. All targets show regions with very steep spectra, confirming the effectiveness of our morphology-based selection in identifying fossil plasma. Based on their morphology, spectral properties, and optical associations, we investigated the origin of the targets. We found a variety of promising revived fossil sources, while also showing that apparently intricate structures can be easily misclassified in the absence of high-resolution and multi-band data.         |\n",
       "|<p style=\"color:green\"> **ERROR** </p>| <p style=\"color:green\">affiliation error: mpia.affiliation_verifications: '69117' keyword not found.</p> |"
      ],
      "text/plain": [
       "<IPython.core.display.Markdown object>"
      ]
     },
     "metadata": {},
     "output_type": "display_data"
    },
    {
     "data": {
      "text/markdown": [
       "\n",
       "|||\n",
       "|---:|:---|\n",
       "| [![arXiv](https://img.shields.io/badge/arXiv-2510.05587-b31b1b.svg)](https://arxiv.org/abs/2510.05587) | **Gaussian process analysis of type-B quasiperiodic oscillations in the black hole X-ray binary MAXI J1348-630**  |\n",
       "|| <mark>Y. Wang</mark>, R. Ma, H. Zhang, D. Yan |\n",
       "|*Appeared on*| *2025-10-08*|\n",
       "|*Comments*| *Accepted for publication in A&A, 10 pages, 8 figures*|\n",
       "|**Abstract**|            We analyzed Insight-HXMT data of the black hole X-ray binary MAXI J1348-630 during the type-B QPO phase of its 2019 outburst. Using the Gaussian process method, we applied an additive composite kernel model consisting of an SHO, a DRW, and an additional white noise (AWN) to data from three energy bands: LE (1-10 keV), ME (10-30 keV), and HE (30-150 keV). We find that for the DRW component, correlations on the timescale of $\\tau_{\\rm DRW}\\sim10$ s are absent in the LE band, while they persist in the ME and HE bands over the full duration of the light curves. This energy-dependent behavior may reflect thermal instabilities, with the shorter correlation timescale in the disk compared to the corona. Alternatively, it may reflect variable Comptonizations of seed photons from different disk regions. Inner-disk photons are scattered by a small inner corona, producing soft X-rays. Outer-disk photons interact with an extended, jet-like corona, resulting in harder emission. The QPO is captured by an SHO component with a stable period of $\\sim 0.2$ s and a high quality factor of $\\sim 10$. The absence of significant evolution with energy or time of the SHO component suggests a connection between the accretion disk and the corona, which may be built by coherent oscillations of disk-corona driven by magnetorotational instability. The AWN components are present in all the three-band data and dominate over the DRW and SHO components. We interpret the AWN as another fast DRW with its $\\tau_{\\rm DRW} < 0.01$ s. It may trace high-frequency fluctuations that occur in both the inner region of the accretion disk and the corona. Overall, our work reveals a timescale hierarchy in the coupled disk-corona scenario: fast DRW < SHO < disk DRW < corona DRW.         |\n",
       "|<p style=\"color:green\"> **ERROR** </p>| <p style=\"color:green\">affiliation error: mpia.affiliation_verifications: 'Heidelberg' keyword not found.</p> |"
      ],
      "text/plain": [
       "<IPython.core.display.Markdown object>"
      ]
     },
     "metadata": {},
     "output_type": "display_data"
    },
    {
     "data": {
      "text/markdown": [
       "\n",
       "|||\n",
       "|---:|:---|\n",
       "| [![arXiv](https://img.shields.io/badge/arXiv-2510.06167-b31b1b.svg)](https://arxiv.org/abs/2510.06167) | **PDRs4All XIX. The 6 to 9 $μ$m region as a probe of PAH charge and size in the Orion Bar**  |\n",
       "|| B. Khan, et al. -- incl., <mark>G. Rouillé</mark> |\n",
       "|*Appeared on*| *2025-10-08*|\n",
       "|*Comments*| *13 pages, 10 figures, 2 tables. Submitted to A&A*|\n",
       "|**Abstract**|            Infrared emission from polycyclic aromatic hydrocarbons (PAHs) play a major role in determining the charge balance of their host environments that include photo-dissociation regions (PDRs) in galaxies, planetary nebulae, and rims of molecular clouds. We aim to investigate the distribution and sizes of charged PAHs across the key zones of the Orion Bar PDR. We employ JWST MIRI-MRS observations of the Orion Bar from the Early Release Science program ''PDRs4All'' and synthetic images in the JWST MIRI filters. We investigate the spatial morphology of the AIBs at 6.2, 7.7, 8.6, and 11.0 $\\mu$m that commonly trace PAH cations, and the neutral PAH-tracing 11.2 $\\mu$m AIB, their (relative) correlations, and the relationship with existing empirical prescriptions for AIBs. The 6.2. 7.7, 8.6, 11.0, and 11.2 $\\mu$m AIBs are similar in spatial morphology, on larger scales. Analyzing three-feature intensity correlations, two distinct groups emerge: the 8.6 and 11.0 $\\mu$m vs. the 6.2 and 7.7 $\\mu$m AIBs. We attribute these correlations to PAH size. The 6.2 and 7.7 $\\mu$m AIBs trace cationic, medium-sized PAHs. Quantum chemical calculations reveal that the 8.6 $\\mu$m AIB is carried by large, compact, cationic PAHs, and the 11.0 $\\mu$m AIB's correlation to it implies, so is this band. The 6.2/8.6 and 7.7/8.6 PAH band ratios thus probe PAH size. We conclude that the 6.2/11.2 AIB ratio is the most reliable proxy for charged PAHs, within the cohort. We outline JWST MIRI imaging prescriptions that serve as effective tracers of the PAH ionization fraction as traced. This study showcases the efficacy of the 6-9 $\\mu$m AIBs to probe the charge state and size distribution of the emitting PAHs, offering insights into the physical conditions of their host environments. JWST MIRI photometry offers a viable alternative to IFU spectroscopy for characterizing this emission in extended objects.         |\n",
       "|<p style=\"color:green\"> **ERROR** </p>| <p style=\"color:green\">affiliation error: mpia.affiliation_verifications: 'Heidelberg' keyword not found.</p> |"
      ],
      "text/plain": [
       "<IPython.core.display.Markdown object>"
      ]
     },
     "metadata": {},
     "output_type": "display_data"
    },
    {
     "data": {
      "text/markdown": [
       "\n",
       "|||\n",
       "|---:|:---|\n",
       "| [![arXiv](https://img.shields.io/badge/arXiv-2510.05214-b31b1b.svg)](https://arxiv.org/abs/2510.05214) | **Resolved Profiles of Stellar Mass, Star Formation Rate, and Predicted CO-to-H$_2$ Conversion Factor Across Thousands of Local Galaxies**  |\n",
       "|| J. Sun, et al. -- incl., <mark>J. d. Brok</mark>, <mark>A. Hughes</mark> |\n",
       "|*Appeared on*| *2025-10-08*|\n",
       "|*Comments*| *16 pages main text + 4 appendices. ApJ in press. We publish all data products (including galaxy sizes, UV and IR surface brightness profiles, stellar mass and SFR profiles, and conversion factor estimates) at this https URL*|\n",
       "|**Abstract**|            We present radial profiles of surface brightness in UV and IR bands, estimate stellar mass surface density ($\\Sigma_\\star$) and star formation rate surface density ($\\Sigma_\\mathrm{SFR}$), and predict the CO-to-H$_2$ conversion factor ($\\alpha_\\mathrm{CO}$) for over 5,000 local galaxies with stellar mass $M_\\star\\,{\\geq}\\,10^{9.3}\\rm\\,M_\\odot$. We build these profiles and measure galaxy half-light radii using GALEX and WISE images from the $z$0MGS program, with special care given to highly inclined galaxies. From the UV and IR surface brightness profiles, we estimate $\\Sigma_\\star$ and $\\Sigma_\\mathrm{SFR}$ and use them to predict $\\alpha_\\mathrm{CO}$ with state-of-the-art empirical prescriptions. We validate our (kpc-scale) $\\alpha_\\mathrm{CO}$ predictions against observational estimates, finding the best agreement when accounting for CO-dark gas as well as CO emissivity and excitation effects. The CO-dark correction plays a primary role in lower-mass galaxies, whereas CO emissivity and excitation effects become more important in higher-mass and more actively star-forming galaxies, respectively. We compare our estimated $\\alpha_\\mathrm{CO}$ to observed galaxy-integrated SFR to CO luminosity ratio as a function of $M_\\star$. A large compilation of literature data suggests that star-forming galaxies with $M_\\star = 10^{9.5{-}11}\\,M_\\odot$ show strong anti-correlations of SFR/$L^\\prime_\\mathrm{CO(1{-}0)} \\propto M_\\star^{-0.29}$ and SFR/$L^\\prime_\\mathrm{CO(2{-}1)} \\propto M_\\star^{-0.40}$. The estimated $\\alpha_\\mathrm{CO}$ trends, when combined with a constant molecular gas depletion time $t_\\mathrm{dep}$, can only explain ${\\approx}1/3$ of these SFR/$L^\\prime_\\mathrm{CO}$ trends. This suggests that $t_\\mathrm{dep}$ being systematically shorter in lower-mass star-forming galaxies is the main cause of the observed SFR/$L^\\prime_\\mathrm{CO}$ variations. (Abridged)         |\n",
       "|<p style=\"color:red\"> **ERROR** </p>| <p style=\"color:red\">latex error bad escape \\e at position 41</p> |"
      ],
      "text/plain": [
       "<IPython.core.display.Markdown object>"
      ]
     },
     "metadata": {},
     "output_type": "display_data"
    }
   ],
   "source": [
    "import datetime\n",
    "today = str(datetime.date.today())\n",
    "logfile = f\"_build/html/logs/log-{today}.md\"\n",
    "\n",
    "\n",
    "with open(logfile, 'w') as logs:\n",
    "    # Success\n",
    "    logs.write(f'# Arxiv on Deck 2: Logs - {today}\\n\\n')\n",
    "    logs.write(\"\"\"* Arxiv had {0:,d} new papers\\n\"\"\".format(len(new_papers)))\n",
    "    logs.write(\"\"\"    * {0:,d} with possible author matches\\n\\n\"\"\".format(len(candidates)))\n",
    "    logs.write(\"## Sucessful papers\\n\\n\")\n",
    "    display(Markdown(\"## Successful papers\"))\n",
    "    success = [k[0] for k in documents]\n",
    "    for candid in candidates:\n",
    "        if candid['identifier'].split(':')[-1] in success:\n",
    "            display(candid)\n",
    "            logs.write(candid.generate_markdown_text() + '\\n\\n')\n",
    "\n",
    "    ## failed\n",
    "    logs.write(\"## Failed papers\\n\\n\")\n",
    "    display(Markdown(\"## Failed papers\"))\n",
    "    failed = sorted(failed, key=lambda x: x[1])\n",
    "    current_reason = \"\"\n",
    "    for paper, reason in failed:\n",
    "        if 'affiliation' in reason:\n",
    "            color = 'green'\n",
    "        else:\n",
    "            color = 'red'\n",
    "        data = Markdown(\n",
    "                paper.generate_markdown_text() + \n",
    "                f'\\n|<p style=\"color:{color:s}\"> **ERROR** </p>| <p style=\"color:{color:s}\">{reason:s}</p> |'\n",
    "               )\n",
    "        if reason != current_reason:\n",
    "            logs.write(f'### {reason:s} \\n\\n')\n",
    "            current_reason = reason\n",
    "        logs.write(data.data + '\\n\\n')\n",
    "        \n",
    "        # only display here the important errors (all in logs)\n",
    "        # if color in ('red',):\n",
    "        display(data)"
   ]
  },
  {
   "cell_type": "markdown",
   "id": "472d20ee",
   "metadata": {
    "papermill": {
     "duration": 0.005869,
     "end_time": "2025-10-08T04:17:09.270627",
     "exception": false,
     "start_time": "2025-10-08T04:17:09.264758",
     "status": "completed"
    },
    "tags": []
   },
   "source": [
    "## Export documents\n",
    "\n",
    "We now write the .md files and export relevant images"
   ]
  },
  {
   "cell_type": "code",
   "execution_count": 7,
   "id": "d426aed9",
   "metadata": {
    "execution": {
     "iopub.execute_input": "2025-10-08T04:17:09.283917Z",
     "iopub.status.busy": "2025-10-08T04:17:09.283616Z",
     "iopub.status.idle": "2025-10-08T04:17:09.291547Z",
     "shell.execute_reply": "2025-10-08T04:17:09.290853Z"
    },
    "papermill": {
     "duration": 0.016118,
     "end_time": "2025-10-08T04:17:09.292700",
     "exception": false,
     "start_time": "2025-10-08T04:17:09.276582",
     "status": "completed"
    },
    "tags": []
   },
   "outputs": [],
   "source": [
    "def export_markdown_summary(md: str, md_fname:str, directory: str):\n",
    "    \"\"\"Export MD document and associated relevant images\"\"\"\n",
    "    import os\n",
    "    import shutil\n",
    "    import re\n",
    "\n",
    "    if (os.path.exists(directory) and not os.path.isdir(directory)):\n",
    "        raise RuntimeError(f\"a non-directory file exists with name {directory:s}\")\n",
    "\n",
    "    if (not os.path.exists(directory)):\n",
    "        print(f\"creating directory {directory:s}\")\n",
    "        os.mkdir(directory)\n",
    "\n",
    "    fig_fnames = (re.compile(r'\\[Fig.*\\]\\((.*)\\)').findall(md) + \n",
    "                  re.compile(r'\\<img src=\"([^>\\s]*)\"[^>]*/>').findall(md))\n",
    "    print(\"found figures\", fig_fnames)\n",
    "    for fname in fig_fnames:\n",
    "        if 'http' in fname:\n",
    "            # No need to copy online figures\n",
    "            continue\n",
    "        if not os.path.exists(fname):\n",
    "            print(\"file not found\", fname)\n",
    "            continue\n",
    "        print(\"copying \", fname, \"to\", directory)\n",
    "        destdir = os.path.join(directory, os.path.dirname(fname))\n",
    "        destfname = os.path.join(destdir, os.path.basename(fname))\n",
    "        try:\n",
    "            os.makedirs(destdir)\n",
    "        except FileExistsError:\n",
    "            pass\n",
    "        shutil.copy(fname, destfname)\n",
    "    with open(os.path.join(directory, md_fname), 'w') as fout:\n",
    "        fout.write(md)\n",
    "    print(\"exported in \", os.path.join(directory, md_fname))\n",
    "    [print(\"    + \" + os.path.join(directory,fk)) for fk in fig_fnames]"
   ]
  },
  {
   "cell_type": "code",
   "execution_count": 8,
   "id": "014d04a4",
   "metadata": {
    "execution": {
     "iopub.execute_input": "2025-10-08T04:17:09.306190Z",
     "iopub.status.busy": "2025-10-08T04:17:09.305902Z",
     "iopub.status.idle": "2025-10-08T04:17:09.320404Z",
     "shell.execute_reply": "2025-10-08T04:17:09.319529Z"
    },
    "papermill": {
     "duration": 0.022675,
     "end_time": "2025-10-08T04:17:09.321707",
     "exception": false,
     "start_time": "2025-10-08T04:17:09.299032",
     "status": "completed"
    },
    "tags": []
   },
   "outputs": [
    {
     "name": "stdout",
     "output_type": "stream",
     "text": [
      "found figures ['tmp_2510.05818/./figures/fig_01.png', 'tmp_2510.05818/./figures/fig_02.png', 'tmp_2510.05818/./figures/fig_04.png']\n",
      "copying  tmp_2510.05818/./figures/fig_01.png to _build/html/\n",
      "copying  tmp_2510.05818/./figures/fig_02.png to _build/html/\n",
      "copying  tmp_2510.05818/./figures/fig_04.png to _build/html/\n",
      "exported in  _build/html/2510.05818.md\n",
      "    + _build/html/tmp_2510.05818/./figures/fig_01.png\n",
      "    + _build/html/tmp_2510.05818/./figures/fig_02.png\n",
      "    + _build/html/tmp_2510.05818/./figures/fig_04.png\n",
      "found figures ['tmp_2510.05933/./vectors_Fil1_surfacedensity.png', '', 'tmp_2510.05933/./all_anglediff_vs_Ngas_2px_skip2.png', 'tmp_2510.05933/./all_cdfs_filPOS.png']\n",
      "copying  tmp_2510.05933/./vectors_Fil1_surfacedensity.png to _build/html/\n",
      "file not found \n",
      "copying  tmp_2510.05933/./all_anglediff_vs_Ngas_2px_skip2.png to _build/html/\n",
      "copying  tmp_2510.05933/./all_cdfs_filPOS.png to _build/html/\n",
      "exported in  _build/html/2510.05933.md\n",
      "    + _build/html/tmp_2510.05933/./vectors_Fil1_surfacedensity.png\n",
      "    + _build/html/\n",
      "    + _build/html/tmp_2510.05933/./all_anglediff_vs_Ngas_2px_skip2.png\n",
      "    + _build/html/tmp_2510.05933/./all_cdfs_filPOS.png\n",
      "found figures ['tmp_2510.05982/./figures/sample_completeness.png', 'tmp_2510.05982/./figures/GaiaDR3_nss_hist2d_astrometric.png', 'tmp_2510.05982/./figures/GaiaDR3_nss_hist2d_spectroscopic_err.png', 'tmp_2510.05982/./figures/cleaning_fits_inferred_parameters_multipanel.png']\n",
      "copying  tmp_2510.05982/./figures/sample_completeness.png to _build/html/\n",
      "copying  tmp_2510.05982/./figures/GaiaDR3_nss_hist2d_astrometric.png to _build/html/\n",
      "copying  tmp_2510.05982/./figures/GaiaDR3_nss_hist2d_spectroscopic_err.png to _build/html/\n",
      "copying  tmp_2510.05982/./figures/cleaning_fits_inferred_parameters_multipanel.png to _build/html/\n",
      "exported in  _build/html/2510.05982.md\n",
      "    + _build/html/tmp_2510.05982/./figures/sample_completeness.png\n",
      "    + _build/html/tmp_2510.05982/./figures/GaiaDR3_nss_hist2d_astrometric.png\n",
      "    + _build/html/tmp_2510.05982/./figures/GaiaDR3_nss_hist2d_spectroscopic_err.png\n",
      "    + _build/html/tmp_2510.05982/./figures/cleaning_fits_inferred_parameters_multipanel.png\n"
     ]
    }
   ],
   "source": [
    "for paper_id, md in documents:\n",
    "    export_markdown_summary(md, f\"{paper_id:s}.md\", '_build/html/')"
   ]
  },
  {
   "cell_type": "markdown",
   "id": "f087a0a7",
   "metadata": {
    "papermill": {
     "duration": 0.00614,
     "end_time": "2025-10-08T04:17:09.334334",
     "exception": false,
     "start_time": "2025-10-08T04:17:09.328194",
     "status": "completed"
    },
    "tags": []
   },
   "source": [
    "## Display the papers\n",
    "\n",
    "Not necessary but allows for a quick check."
   ]
  },
  {
   "cell_type": "code",
   "execution_count": 9,
   "id": "fd25f625",
   "metadata": {
    "execution": {
     "iopub.execute_input": "2025-10-08T04:17:09.347814Z",
     "iopub.status.busy": "2025-10-08T04:17:09.347485Z",
     "iopub.status.idle": "2025-10-08T04:17:09.355717Z",
     "shell.execute_reply": "2025-10-08T04:17:09.355003Z"
    },
    "papermill": {
     "duration": 0.016377,
     "end_time": "2025-10-08T04:17:09.356897",
     "exception": false,
     "start_time": "2025-10-08T04:17:09.340520",
     "status": "completed"
    },
    "scrolled": false,
    "tags": []
   },
   "outputs": [
    {
     "data": {
      "text/markdown": [
       "<div class=\"macros\" style=\"visibility:hidden;\">\n",
       "$\\newcommand{\\ensuremath}{}$\n",
       "$\\newcommand{\\xspace}{}$\n",
       "$\\newcommand{\\object}[1]{\\texttt{#1}}$\n",
       "$\\newcommand{\\farcs}{{.}''}$\n",
       "$\\newcommand{\\farcm}{{.}'}$\n",
       "$\\newcommand{\\arcsec}{''}$\n",
       "$\\newcommand{\\arcmin}{'}$\n",
       "$\\newcommand{\\ion}[2]{#1#2}$\n",
       "$\\newcommand{\\textsc}[1]{\\textrm{#1}}$\n",
       "$\\newcommand{\\hl}[1]{\\textrm{#1}}$\n",
       "$\\newcommand{\\footnote}[1]{}$\n",
       "$\\newcommand{\\micron}{\\rm \\mum}$\n",
       "$\\newcommand{\\massyear}{M_\\odot~yr^{-1}}$\n",
       "$\\newcommand{\\kms}{km s^{-1}}$</div>\n",
       "\n",
       "\n",
       "\n",
       "<div id=\"title\">\n",
       "\n",
       "# An interferometric mid-infrared study of the eruptive star binary Z CMa with MATISSE/VLTI$\\thanks{Reproduced with permission from Astronomy \\& Astrophysics, \\textcopyright  ESO.}$: I. Imaging the protoplanetary disks during the 2023 outburst$\\thanks{Based on observations collected at the European Organisation for Astronomical Research in the Southern Hemisphere under ESO programs 0106.C-0501(B), 0108.C-0385(D), and 0110.C-4209(A).}$\n",
       "\n",
       "</div>\n",
       "<div id=\"comments\">\n",
       "\n",
       "[![arXiv](https://img.shields.io/badge/arXiv-2510.05818-b31b1b.svg)](https://arxiv.org/abs/2510.05818)<mark>Appeared on: 2025-10-08</mark> -  _25 pages, 21 figures, accepted for publication in Astronomy & Astrophysics_\n",
       "\n",
       "</div>\n",
       "<div id=\"authors\">\n",
       "\n",
       "F. Lykou, et al. -- incl., <mark>T. Henning</mark>, <mark>P. Boley</mark>\n",
       "\n",
       "</div>\n",
       "<div id=\"abstract\">\n",
       "\n",
       "**Abstract:**            The mid-infrared (MIR) emitting regions of the individual protoplanetary disks in the binary system Z CMa are resolved by MATISSE/VLTI. The observations were obtained during a serendipitous large outburst of the HBe star that lasted more than 100 days, while the FUor companion is presumed to be in quiescence. The size of the MIR-emitting disk region of the more massive HBe star increases toward longer wavelengths from $<14$ mas at 3.5$\\mu m$ to $\\ll 50$ mas at 11.5$\\mu m$ . The lack of substructures in the HBe disk might suggest that it is a continuous disk; however, this could be due to observational constraints. We also note a radial variation of the silicate absorption feature over the disk, where the optical depth increases inwards of $<$40~au radii. This contradicts the scenario of a carved, dusty cocoon surrounding the HBe star. In the case of the less massive FUor companion, the MIR-emitting region is much smaller with an angular size $\\leq$15 mas (or else a physical radius $<9$ au) in all bands, suggesting a compact disk. Both disks are aligned within uncertainties, and their orientation agrees with that of the known jets. Furthermore, MATISSE data place the binary's separation at $117.88 \\pm 0.73$ mas and a position angle of $139.16^o\\,\\pm\\,0.29^o$ east of north. Our estimates for the orbital elements gave an eccentric orbit ($e\\sim0.17$) with a moderate inclination ($i\\sim 66$\\degr). The derived total mass is $M_{\\rm total} = 16.4^{+2.1}_{-2.3}$ M$_\\odot$, while the period is approximately 950 years. Our MATISSE imaging of the Herbig disk during outburst indicates a temperature gradient for the disk, while imaging of the FUor companion's disk corroborates previous studies showing that FUor disks are rather compact in the MIR. We cannot infer any misalignment between the MATISSE results and earlier ALMA/JVLA data, nor can we infer any influence from the alleged flyby event.         \n",
       "\n",
       "</div>\n",
       "\n",
       "<div id=\"div_fig1\">\n",
       "\n",
       "<img src=\"tmp_2510.05818/./figures/fig_01.png\" alt=\"Fig7\" width=\"100%\"/>\n",
       "\n",
       "**Figure 7. -** $V$-band light curve of Z CMa with corresponding epochs of MATISSE observations (orange lines; dashed and solid for the quiescent and the outburst phase, respectively) as in Table \\ref{tab:matlog}. Photometric data from the Archive of the American Association of Variable Star Observers (AAVSO; green circles), the INTErnational Gamma-Ray Astrophysics Laboratory (INTEGRAL) Optical Monitoring Camera (OMC; magenta circles), and the Kamogata/Kiso/Kyoto Wide-field Survey of Variable Star Observers League in Japan \\citep[KWS; blue circles][]{vsolj}. The imaging data were obtained during the outburst from late 2022 to early 2023. Also shown for reference are the epochs of archival ALMA and JVLA observations \\citep[purple lines;][]{takami2019}. (*fig:vislc*)\n",
       "\n",
       "</div>\n",
       "<div id=\"div_fig2\">\n",
       "\n",
       "<img src=\"tmp_2510.05818/./figures/fig_02.png\" alt=\"Fig1\" width=\"100%\"/>\n",
       "\n",
       "**Figure 1. -** Dereddened SED of Z CMa during the 2023 outburst. Our own SpeX/IRTF and MATISSE spectra are shown in red and blue, respectively. For a description of the archival photometry (black points), we refer the reader to Sect. \\ref{phot}. A Kurucz model (green) and a blackbody model (orange) are shown for reference.  (*fig:specsed*)\n",
       "\n",
       "</div>\n",
       "<div id=\"div_fig3\">\n",
       "\n",
       "<img src=\"tmp_2510.05818/./figures/fig_04.png\" alt=\"Fig8\" width=\"100%\"/>\n",
       "\n",
       "**Figure 8. -** MiRA image reconstructions in $L$, $M$, and $N$ bands during the 2023 outburst. From left to right and top to bottom, these correspond to pseudo-continuum reconstructed images at 3.5, 4.7, 8.5, 9.2, 10.4, and 11.5 $\\micron$. These are smoothed with a Gaussian beam with a FWHM similar to the image resolution, normalized to unity, and shown in a logarithmic stretch with a minimum value of $10^{-2}$ to suppress image reconstruction residuals below that level. Such residuals are the result of insufficient $uv$ coverage (Fig. \\ref{fig:uv}).  The SE component (FUor) becomes much fainter than the NW component (HBe) at longer wavelengths. The beam size is shown as a black circle at the bottom left corner of each panel.  (*fig:mirarecon*)\n",
       "\n",
       "</div><div id=\"qrcode\"><img src=https://api.qrserver.com/v1/create-qr-code/?size=100x100&data=\"https://arxiv.org/abs/2510.05818\"></div>"
      ],
      "text/plain": [
       "<IPython.core.display.Markdown object>"
      ]
     },
     "metadata": {},
     "output_type": "display_data"
    },
    {
     "data": {
      "text/markdown": [
       "<div class=\"macros\" style=\"visibility:hidden;\">\n",
       "$\\newcommand{\\ensuremath}{}$\n",
       "$\\newcommand{\\xspace}{}$\n",
       "$\\newcommand{\\object}[1]{\\texttt{#1}}$\n",
       "$\\newcommand{\\farcs}{{.}''}$\n",
       "$\\newcommand{\\farcm}{{.}'}$\n",
       "$\\newcommand{\\arcsec}{''}$\n",
       "$\\newcommand{\\arcmin}{'}$\n",
       "$\\newcommand{\\ion}[2]{#1#2}$\n",
       "$\\newcommand{\\textsc}[1]{\\textrm{#1}}$\n",
       "$\\newcommand{\\hl}[1]{\\textrm{#1}}$\n",
       "$\\newcommand{\\footnote}[1]{}$\n",
       "$\\newcommand{\\pfrac}{P_{\\text{frac}}}$\n",
       "$\\newcommand{\\sigpfrac}{\\sigma_{P_{\\text{frac}}}}$\n",
       "$\\newcommand{\\ceooz}{\\mbox{C^{18}O(1--0)}}$\n",
       "$\\newcommand{\\ceoto}{\\mbox{C^{18}O(2--1)}}$\n",
       "$\\newcommand{\\ttcooz}{\\mbox{^{13}CO(1--0)}}$\n",
       "$\\newcommand{\\ttcoto}{\\mbox{^{13}CO(2--1)}}$\n",
       "$\\newcommand{\\Ngas}{N_{\\text{gas}}}$\n",
       "$\\newcommand{\\smallngas}{n_{\\text{gas}}}$\n",
       "$\\newcommand{\\NHt}{N_{\\text{H_2}}}$\n",
       "$\\newcommand{\\NHe}{N_{\\text{He}}}$\n",
       "$\\newcommand{\\muHt}{\\mu_{\\text{H_2}}}$\n",
       "$\\newcommand{\\mup}{\\mu_p}$\n",
       "$\\newcommand{\\kms}{km s^{-1}}$\n",
       "$\\newcommand{\\tco}{\\mbox{^{13}CO(1--0)}}$\n",
       "$\\newcommand{\\ceo}{\\mbox{C^{18}O(1--0)}}$\n",
       "$\\newcommand{\\nht}{\\mbox{NH_3(1,1)}}$</div>\n",
       "\n",
       "\n",
       "\n",
       "<div id=\"title\">\n",
       "\n",
       "# Magnetic Fields in the Bones of the Milky Way\n",
       "\n",
       "</div>\n",
       "<div id=\"comments\">\n",
       "\n",
       "[![arXiv](https://img.shields.io/badge/arXiv-2510.05933-b31b1b.svg)](https://arxiv.org/abs/2510.05933)<mark>Appeared on: 2025-10-08</mark> -  _Accepted to ApJ_\n",
       "\n",
       "</div>\n",
       "<div id=\"authors\">\n",
       "\n",
       "I. W. Stephens, et al. -- incl., <mark>M. Zhang</mark>\n",
       "\n",
       "</div>\n",
       "<div id=\"abstract\">\n",
       "\n",
       "**Abstract:** Stars primarily form in galactic spiral arms within dense, filamentary molecular clouds. The largest and most elongated of these molecular clouds are referred to as \"bones,\" which are massive, velocity-coherent filaments (lengths $\\sim$ 20 to $>$ 100 pc, widths $\\sim$ 1--2 pc) that run approximately parallel and in close proximity to the Galactic plane. While these bones have been generally well characterized, the importance and structure of their magnetic fields (B-fields) remain largely unconstrained. Through the SOFIA Legacy program FIELDMAPS, we mapped the B-fields of 10 bones in the Milky Way. We found that their B-fields are varied, with no single preferred alignment along the entire spine of the bones. At higher column densities, the spines of the bones are more likely to align perpendicularly to the B-fields, although this is not ubiquitous, and the alignment shows no strong correlation with the locations of identified young stellar objects. We estimated the B-field strengths across the bones and found them to be $\\sim$ 30--150 $\\mu$ G at pc scales. Despite the generally low virial parameters, the B-fields are strong compared to the local gravity, suggesting that B-fields play a significant role in resisting global collapse. Moreover, the B-fields may slow and guide gas flow during dissipation. Recent star formation within the bones may be due to high-density pockets at smaller scales, which could have formed before or simultaneously with the bones.\n",
       "\n",
       "</div>\n",
       "\n",
       "<div id=\"div_fig1\">\n",
       "\n",
       "<img src=\"tmp_2510.05933/./vectors_Fil1_surfacedensity.png\" alt=\"Fig1.1\" width=\"50%\"/><img src=\"\" alt=\"Fig1.2\" width=\"50%\"/>\n",
       "\n",
       "**Figure 1. -** \n",
       "Top Panel: Filament 1 inferred B-field vectors overlaid on the Herschel-derived column density map, with contours for this figure and in Appendix \\ref{appendix:vectormaps} at [0.63, 0.75, 1.3, 1.8, 2.5, 5.0, 7.5]$\\times$ 10$^{22}$ cm$^{-2}$. Bright red and yellow vectors have measurements of $\\pfrac$/$\\sigpfrac$$>$ 3 and 2 $\\leq$\\pfrac/$\\sigpfrac$$\\leq$ 3, respectively; faded vectors indicate where $\\pfrac$$>$ 0.15. Blue and green circles mark known Class I and II YSOs, respectively (Section \\ref{sec:YSOs}).  Vectors are spaced by 2 HAWC+ pixels (9$\\farcs$1), near Nyquist sampling. Bottom Panel: LIC map overlaid on column density, where the wavy pattern shows the B-field direction for $\\pfrac$/$\\sigpfrac$$>$ 1.5 and $I/\\sigma_I$$>$ 10. The spine's polynomial fit is the solid line. The white beam (top right;  36$\\farcs$4) shows the resolution for the column density map and the orange beam (bottom right; 18$\\farcs$7) shows the resolution for SOFIA/HAWC+.  (*fig:fil1vectors*)\n",
       "\n",
       "</div>\n",
       "<div id=\"div_fig2\">\n",
       "\n",
       "<img src=\"tmp_2510.05933/./all_anglediff_vs_Ngas_2px_skip2.png\" alt=\"Fig4\" width=\"100%\"/>\n",
       "\n",
       "**Figure 4. -** $\\Ngas$ versus $|\\theta_B -\\theta_{\\text{fil}}|$ for each bone, shown for every other HAWC+ pixel (approximately Nyquist sampled). Only data within 23$\\arcsec$ of the bone (two spine pixels) are considered. The data is binned into 10 equal $\\Ngas$ ranges, and box plots are shown if there are at least 4 points in the bin. The box plots show the first and third quartiles in black and the median in orange. A red vertical line is shown for the first $\\Ngas$ box plot bin where $|\\theta_B -\\theta_{\\text{fil}}|$$>$ 60$^\\circ$, which indicates the first sign of perpendicularity with $\\Ngas$. Blue and green circles show the $\\Ngas$ and $|\\theta_B -\\theta_{\\text{fil}}|$ values at the nearest pixel for the known Class I and II YSOs, respectively.  (*fig:columndiff*)\n",
       "\n",
       "</div>\n",
       "<div id=\"div_fig3\">\n",
       "\n",
       "<img src=\"tmp_2510.05933/./all_cdfs_filPOS.png\" alt=\"Fig5\" width=\"100%\"/>\n",
       "\n",
       "**Figure 5. -** Cumulative distribution function of the angle difference between each bone's spine and B-field direction, $|\\theta_B -\\theta_{\\text{fil}}|$. Only pixels within 23$\\arcsec$ of the spine are considered. The red line in each panel shows the results for that particular bone. The blue lines in each panel show a Monte Carlo simulation of the expected distribution of projected angles if the spine and B-field directions in 3D are mostly parallel (within $0^\\circ$ to $20^\\circ$; dashed blue line), mostly perpendicular (within $70^\\circ$ to $90^\\circ$; dashed-dotted blue line), or random (solid blue line). The cyan lines show the expected projected angles if the bone is fixed in the plane-of-the-sky for mostly parallel (dashed cyan line) and mostly perpendicular (dashed-dotted cyan line).   (*fig:cdfs*)\n",
       "\n",
       "</div><div id=\"qrcode\"><img src=https://api.qrserver.com/v1/create-qr-code/?size=100x100&data=\"https://arxiv.org/abs/2510.05933\"></div>"
      ],
      "text/plain": [
       "<IPython.core.display.Markdown object>"
      ]
     },
     "metadata": {},
     "output_type": "display_data"
    },
    {
     "data": {
      "text/markdown": [
       "<div class=\"macros\" style=\"visibility:hidden;\">\n",
       "$\\newcommand{\\ensuremath}{}$\n",
       "$\\newcommand{\\xspace}{}$\n",
       "$\\newcommand{\\object}[1]{\\texttt{#1}}$\n",
       "$\\newcommand{\\farcs}{{.}''}$\n",
       "$\\newcommand{\\farcm}{{.}'}$\n",
       "$\\newcommand{\\arcsec}{''}$\n",
       "$\\newcommand{\\arcmin}{'}$\n",
       "$\\newcommand{\\ion}[2]{#1#2}$\n",
       "$\\newcommand{\\textsc}[1]{\\textrm{#1}}$\n",
       "$\\newcommand{\\hl}[1]{\\textrm{#1}}$\n",
       "$\\newcommand{\\footnote}[1]{}$\n",
       "$\\newcommand{\\aj}{Astronomical Journal}$\n",
       "$\\newcommand{\\apj}{Astrophysical Journal}$\n",
       "$\\newcommand{\\aap}{Astronomy \\& Astrophysics}$\n",
       "$\\newcommand{\\jcap}{Journal of Cosmology and Astroparticle Physics}$\n",
       "$\\newcommand{\\aapr}{The Astronomy and Astrophysics Review}$\n",
       "$\\newcommand{\\mnras}{Monthly Notices of the Royal Astronomical Society}$\n",
       "$\\newcommand{\\araa}{Annual Review of Astronomy and Astrophysics}$\n",
       "$\\newcommand{\\Msun}{\\mathrm{M}_\\odot}$</div>\n",
       "\n",
       "\n",
       "\n",
       "<div id=\"title\">\n",
       "\n",
       "# Dormant BH candidates from _Gaia_ DR3 summary diagnostics\n",
       "\n",
       "</div>\n",
       "<div id=\"comments\">\n",
       "\n",
       "[![arXiv](https://img.shields.io/badge/arXiv-2510.05982-b31b1b.svg)](https://arxiv.org/abs/2510.05982)<mark>Appeared on: 2025-10-08</mark> -  _17 pages, 15 figures, submitted to A&A, comments welcome, catalogues are available here: this https URL_\n",
       "\n",
       "</div>\n",
       "<div id=\"authors\">\n",
       "\n",
       "<mark>J. Müller-Horn</mark>, et al. -- incl., <mark>H.-W. Rix</mark>, <mark>K. El-Badry</mark>, <mark>B. Pennell</mark>, <mark>J. Li</mark>, <mark>R. Seeburger</mark>\n",
       "\n",
       "</div>\n",
       "<div id=\"abstract\">\n",
       "\n",
       "**Abstract:** We present a rigorous identification of candidates for dormant black holes (BHs) and neutron stars (NSs) in binaries using summary statistics from _Gaia_ Data Release 3 (DR3), rather than full orbital solutions. Although _Gaia_ astrometric orbits have already revealed a small sample of compact object binaries, many systems remain undetected due to stringent quality cuts imposed on the published orbits.    Using a forward-modelling framework that simulates _Gaia_ observables, in particular the renormalised unit weight error ( \\texttt{ruwe} ) and radial velocity (RV) scatter, we infer posterior distributions for companion mass and orbital period via Markov chain Monte Carlo (MCMC) sampling, marginalising over nuisance orbital parameters. We validate our approach by comparing the predicted masses and periods against full orbit solutions from DR3, and by successfully recovering known compact object binaries as promising candidates.    The method is best suited for systems with red giant primaries, which have more reliable _Gaia_ RV scatter and a light centroid more likely dominated by one component, compared to main-sequence stars. And they are less likely to be triples with short-period inner binaries, which produce confounding signatures.    We apply the method to three million giants and identify 556 systems with best-fit companion masses $\\gtrsim 3 \\mathrm{M}_\\odot$ . Recovery simulations suggest our selection method is substantially more sensitive than the DR3 non-single-star catalogue, particularly for binaries with periods below 1 year and above $\\sim 6$ years.    These candidates represent promising targets for spectroscopic follow-up and _Gaia_ DR4 analysis to confirm the presence of compact objects and build a more complete census of the Galactic BH and NS population. Candidate main-sequence stars with massive companions face a larger set of confounding effects. Therefore, we present an analogous catalogue of 279 additional `main sequence' candidates only as an appendix.\n",
       "\n",
       "</div>\n",
       "\n",
       "<div id=\"div_fig1\">\n",
       "\n",
       "<img src=\"tmp_2510.05982/./figures/sample_completeness.png\" alt=\"Fig16\" width=\"100%\"/>\n",
       "\n",
       "**Figure 16. -** Simulated completeness of the RGB+BH binary catalogue as a function of BH mass and orbital period. Top panels: Mean values of predicted \\texttt{ruwe}(left) and \\texttt{rv\\_amplitude\\_robust}(right) from mock _Gaia_ DR3 observations, shown for simulated binaries with BH masses of 5, 10, and 20 M$_\\odot$. Shaded regions indicate one standard deviation from the mean. Threshold values for the cuts on excess scatter in RV and position applied to the candidate sample are shown in black. Larger BH masses generally yield stronger astrometric and RV signals. Astrometric \\texttt{ruwe} increases with orbital period up to the DR3 baseline ($\\sim$1000 d) while the RV amplitude is highest for short-period systems.\n",
       "    Bottom panels: Recovery fractions for simulated binaries that pass the initial cuts on excess scatter in RV and position (left), that exceed the inferred companion mass threshold of 3 M$_\\odot$(centre), and that meet both criteria (right). The final completeness is highest ($\\gtrsim$80\\% for 10–20 M$_\\odot$ BH) for binaries with periods of 100–2000 d. Completeness decreases for longer periods due to incomplete phase coverage within the DR3 observing baseline. For reference, we show approximate completeness fractions for the _Gaia_ DR3 astrometric (dashed) and spectroscopic (dotted) orbital solutions estimated based on the \\texttt{gaiamock} forward-model and SBX catalogue of spectroscopic binaries (see Sect. \\ref{sec:completeness} for details). (*fig:completeness*)\n",
       "\n",
       "</div>\n",
       "<div id=\"div_fig2\">\n",
       "\n",
       "<img src=\"tmp_2510.05982/./figures/GaiaDR3_nss_hist2d_astrometric.png\" alt=\"Fig2.1\" width=\"50%\"/><img src=\"tmp_2510.05982/./figures/GaiaDR3_nss_hist2d_spectroscopic_err.png\" alt=\"Fig2.2\" width=\"50%\"/>\n",
       "\n",
       "**Figure 2. -** Predicted vs. catalogued _Gaia_ DR3 summary statistics for known binaries, with the predictions based on forward modelling of their orbital parameters. Top panel: Comparison between predicted and catalogue values of the astrometric goodness of fit of the single-star astrometric solution, \\texttt{ruwe}, for binaries with published orbital solutions. Bottom panel: Predicted vs. observed RV \"errors\" for spectroscopic binaries (SB1) in _Gaia_ DR3. In both plots, the blue line shows the median trend, while the dashed blue lines indicate the 16th and 84th percentiles. The 1:1 relation is marked in black. Lower subpanels show the logarithmic residuals between observed and predicted values, with side histograms illustrating their normalised distribution. The mean bias ($\\mu$) and scatter ($\\sigma$) of the residuals are indicated. (*fig:forward_model*)\n",
       "\n",
       "</div>\n",
       "<div id=\"div_fig3\">\n",
       "\n",
       "<img src=\"tmp_2510.05982/./figures/cleaning_fits_inferred_parameters_multipanel.png\" alt=\"Fig6\" width=\"100%\"/>\n",
       "\n",
       "**Figure 6. -** Inferred orbital periods and companion masses for the 1410 RGB stars with excess RV and astrometric scatter and companion mass estimates above $3 \\mathrm{M}_\\odot$. The top panel shows the final cleaned catalogue of 556 RGB+BH candidates (see Sect. \\ref{sec:cleaning}), obtained after applying a series of quality cuts. The lower panels display the subsets of sources removed as likely contaminants by said cuts. Stars excluded because of spurious RV scatter (red) are concentrated at short inferred periods and high companion masses. Those with unreliable, underestimated parallaxes (pink) are typically found at long inferred periods. Eclipsing binaries and stars with photometric variability in excess of that expected from ellipsoidal modulation (purple) are scattered across both short and long periods. Systems excluded due to existing NSS orbital solutions (blue) occupy a broadly similar parameter space as the final candidates. (*fig:cleaning*)\n",
       "\n",
       "</div><div id=\"qrcode\"><img src=https://api.qrserver.com/v1/create-qr-code/?size=100x100&data=\"https://arxiv.org/abs/2510.05982\"></div>"
      ],
      "text/plain": [
       "<IPython.core.display.Markdown object>"
      ]
     },
     "metadata": {},
     "output_type": "display_data"
    }
   ],
   "source": [
    "[display(Markdown(k[1])) for k in documents];"
   ]
  },
  {
   "cell_type": "markdown",
   "id": "873873a4",
   "metadata": {
    "papermill": {
     "duration": 0.006712,
     "end_time": "2025-10-08T04:17:09.370507",
     "exception": false,
     "start_time": "2025-10-08T04:17:09.363795",
     "status": "completed"
    },
    "tags": []
   },
   "source": [
    "# Create HTML index"
   ]
  },
  {
   "cell_type": "code",
   "execution_count": 10,
   "id": "cf665672",
   "metadata": {
    "execution": {
     "iopub.execute_input": "2025-10-08T04:17:09.385097Z",
     "iopub.status.busy": "2025-10-08T04:17:09.384801Z",
     "iopub.status.idle": "2025-10-08T04:17:09.392767Z",
     "shell.execute_reply": "2025-10-08T04:17:09.392011Z"
    },
    "papermill": {
     "duration": 0.016638,
     "end_time": "2025-10-08T04:17:09.393896",
     "exception": false,
     "start_time": "2025-10-08T04:17:09.377258",
     "status": "completed"
    },
    "tags": []
   },
   "outputs": [
    {
     "name": "stdout",
     "output_type": "stream",
     "text": [
      "130  publications files modified in the last 7 days.\n"
     ]
    }
   ],
   "source": [
    "from datetime import datetime, timedelta, timezone\n",
    "from glob import glob\n",
    "import os\n",
    "\n",
    "files = glob('_build/html/*.md')\n",
    "days = 7\n",
    "now = datetime.today()\n",
    "res = []\n",
    "for fk in files:\n",
    "    stat_result = os.stat(fk).st_ctime\n",
    "    modified = datetime.fromtimestamp(stat_result, tz=timezone.utc).replace(tzinfo=None)\n",
    "    delta = now.today() - modified\n",
    "    if delta <= timedelta(days=days):\n",
    "        res.append((delta.seconds, fk))\n",
    "res = [k[1] for k in reversed(sorted(res, key=lambda x:x[1]))]\n",
    "npub = len(res)\n",
    "print(len(res), f\" publications files modified in the last {days:d} days.\")\n",
    "# [ print('\\t', k) for k in res ];"
   ]
  },
  {
   "cell_type": "code",
   "execution_count": 11,
   "id": "015de740",
   "metadata": {
    "execution": {
     "iopub.execute_input": "2025-10-08T04:17:09.408883Z",
     "iopub.status.busy": "2025-10-08T04:17:09.408533Z",
     "iopub.status.idle": "2025-10-08T04:17:09.421741Z",
     "shell.execute_reply": "2025-10-08T04:17:09.420991Z"
    },
    "papermill": {
     "duration": 0.02197,
     "end_time": "2025-10-08T04:17:09.422862",
     "exception": false,
     "start_time": "2025-10-08T04:17:09.400892",
     "status": "completed"
    },
    "tags": []
   },
   "outputs": [
    {
     "name": "stdout",
     "output_type": "stream",
     "text": [
      "19  publications in the last 7 days.\n"
     ]
    }
   ],
   "source": [
    "import datetime\n",
    "from glob import glob\n",
    "\n",
    "def get_last_n_days(lst, days=1):\n",
    "    \"\"\" Get the documents from the last n days \"\"\"\n",
    "    sorted_lst = sorted(lst, key=lambda x: x[1], reverse=True)\n",
    "    for fname, date in sorted_lst:\n",
    "        if date >= str(datetime.date.today() - datetime.timedelta(days=days)):\n",
    "            yield fname\n",
    "\n",
    "def extract_appearance_dates(lst_file):\n",
    "    dates = []\n",
    "\n",
    "    def get_date(line):\n",
    "        return line\\\n",
    "            .split('Appeared on:')[-1]\\\n",
    "            .split('</mark>')[0].strip()\n",
    "\n",
    "    for fname in lst:\n",
    "        with open(fname, 'r') as f:\n",
    "            found_date = False\n",
    "            for line in f:\n",
    "                if not found_date:\n",
    "                    if \"Appeared on\" in line:\n",
    "                        found_date = True\n",
    "                        dates.append((fname, get_date(line)))\n",
    "                else:\n",
    "                    break\n",
    "    return dates\n",
    "\n",
    "from glob import glob\n",
    "lst = glob('_build/html/*md')\n",
    "days = 7\n",
    "dates = extract_appearance_dates(lst)\n",
    "res = list(get_last_n_days(dates, days))\n",
    "npub = len(res)\n",
    "print(len(res), f\" publications in the last {days:d} days.\")"
   ]
  },
  {
   "cell_type": "code",
   "execution_count": 12,
   "id": "52ca0208",
   "metadata": {
    "execution": {
     "iopub.execute_input": "2025-10-08T04:17:09.438013Z",
     "iopub.status.busy": "2025-10-08T04:17:09.437731Z",
     "iopub.status.idle": "2025-10-08T04:17:09.443270Z",
     "shell.execute_reply": "2025-10-08T04:17:09.442496Z"
    },
    "papermill": {
     "duration": 0.014442,
     "end_time": "2025-10-08T04:17:09.444443",
     "exception": false,
     "start_time": "2025-10-08T04:17:09.430001",
     "status": "completed"
    },
    "scrolled": false,
    "tags": []
   },
   "outputs": [],
   "source": [
    "def create_carousel(npub=4):\n",
    "    \"\"\" Generate the HTML code for a carousel with `npub` slides \"\"\"\n",
    "    carousel = [\"\"\"  <div class=\"carousel\" \"\"\",\n",
    "                \"\"\"       data-flickity='{ \"autoPlay\": 10000, \"adaptiveHeight\": true, \"resize\": true, \"wrapAround\": true, \"pauseAutoPlayOnHover\": true, \"groupCells\": 1 }' id=\"asyncTypeset\">\"\"\"\n",
    "                ]\n",
    "    \n",
    "    item_str = \"\"\"    <div class=\"carousel-cell\"> <div id=\"slide{k}\" class=\"md_view\">Content {k}</div> </div>\"\"\"\n",
    "    for k in range(1, npub + 1):\n",
    "        carousel.append(item_str.format(k=k))\n",
    "    carousel.append(\"  </div>\")\n",
    "    return '\\n'.join(carousel)\n",
    "\n",
    "def create_grid(npub=4):\n",
    "    \"\"\" Generate the HTML code for a flat grid with `npub` slides \"\"\"\n",
    "    grid = [\"\"\"  <div class=\"grid\"> \"\"\",\n",
    "                ]\n",
    "    \n",
    "    item_str = \"\"\"    <div class=\"grid-item\"> <div id=\"slide{k}\" class=\"md_view\">Content {k}</div> </div>\"\"\"\n",
    "    for k in range(1, npub + 1):\n",
    "        grid.append(item_str.format(k=k))\n",
    "    grid.append(\"  </div>\")\n",
    "    return '\\n'.join(grid)"
   ]
  },
  {
   "cell_type": "code",
   "execution_count": 13,
   "id": "a6eac5b6",
   "metadata": {
    "execution": {
     "iopub.execute_input": "2025-10-08T04:17:09.459344Z",
     "iopub.status.busy": "2025-10-08T04:17:09.459052Z",
     "iopub.status.idle": "2025-10-08T04:17:09.464749Z",
     "shell.execute_reply": "2025-10-08T04:17:09.464142Z"
    },
    "papermill": {
     "duration": 0.014492,
     "end_time": "2025-10-08T04:17:09.465799",
     "exception": false,
     "start_time": "2025-10-08T04:17:09.451307",
     "status": "completed"
    },
    "scrolled": false,
    "tags": []
   },
   "outputs": [],
   "source": [
    "carousel = create_carousel(npub)\n",
    "docs = ', '.join(['\"{0:s}\"'.format(k.split('/')[-1]) for k in res])\n",
    "slides = ', '.join([f'\"slide{k}\"' for k in range(1, npub + 1)])\n",
    "\n",
    "with open(\"daily_template.html\", \"r\") as tpl:\n",
    "    page = tpl.read()\n",
    "    page = page.replace(\"{%-- carousel:s --%}\", carousel)\\\n",
    "               .replace(\"{%-- suptitle:s --%}\",  \"7-day archives\" )\\\n",
    "               .replace(\"{%-- docs:s --%}\", docs)\\\n",
    "               .replace(\"{%-- slides:s --%}\", slides)\n",
    "    \n",
    "with open(\"_build/html/index_7days.html\", 'w') as fout:\n",
    "    fout.write(page)"
   ]
  },
  {
   "cell_type": "code",
   "execution_count": 14,
   "id": "adc1a1ec",
   "metadata": {
    "execution": {
     "iopub.execute_input": "2025-10-08T04:17:09.480972Z",
     "iopub.status.busy": "2025-10-08T04:17:09.480689Z",
     "iopub.status.idle": "2025-10-08T04:17:09.487751Z",
     "shell.execute_reply": "2025-10-08T04:17:09.487084Z"
    },
    "papermill": {
     "duration": 0.01599,
     "end_time": "2025-10-08T04:17:09.488889",
     "exception": false,
     "start_time": "2025-10-08T04:17:09.472899",
     "status": "completed"
    },
    "tags": []
   },
   "outputs": [
    {
     "name": "stdout",
     "output_type": "stream",
     "text": [
      "6  publications in the last day.\n"
     ]
    }
   ],
   "source": [
    "# redo for today\n",
    "days = 1\n",
    "res = list(get_last_n_days(dates, days))\n",
    "npub = len(res)\n",
    "print(len(res), f\" publications in the last day.\")\n",
    "\n",
    "carousel = create_carousel(npub)\n",
    "docs = ', '.join(['\"{0:s}\"'.format(k.split('/')[-1]) for k in res])\n",
    "slides = ', '.join([f'\"slide{k}\"' for k in range(1, npub + 1)])\n",
    "\n",
    "with open(\"daily_template.html\", \"r\") as tpl:\n",
    "    page = tpl.read()\n",
    "    page = page.replace(\"{%-- carousel:s --%}\", carousel)\\\n",
    "               .replace(\"{%-- suptitle:s --%}\",  \"Daily\" )\\\n",
    "               .replace(\"{%-- docs:s --%}\", docs)\\\n",
    "               .replace(\"{%-- slides:s --%}\", slides)\n",
    "    \n",
    "# print(carousel, docs, slides)\n",
    "# print(page)\n",
    "with open(\"_build/html/index_daily.html\", 'w') as fout:\n",
    "    fout.write(page)"
   ]
  },
  {
   "cell_type": "code",
   "execution_count": 15,
   "id": "00eece82",
   "metadata": {
    "execution": {
     "iopub.execute_input": "2025-10-08T04:17:09.504267Z",
     "iopub.status.busy": "2025-10-08T04:17:09.503974Z",
     "iopub.status.idle": "2025-10-08T04:17:09.511311Z",
     "shell.execute_reply": "2025-10-08T04:17:09.510668Z"
    },
    "papermill": {
     "duration": 0.016413,
     "end_time": "2025-10-08T04:17:09.512384",
     "exception": false,
     "start_time": "2025-10-08T04:17:09.495971",
     "status": "completed"
    },
    "scrolled": false,
    "tags": []
   },
   "outputs": [
    {
     "name": "stdout",
     "output_type": "stream",
     "text": [
      "6  6 publications selected.\n"
     ]
    }
   ],
   "source": [
    "# Create the flat grid of the last N papers (fixed number regardless of dates)\n",
    "from itertools import islice \n",
    "\n",
    "npub = 6\n",
    "res = [k[0] for k in (islice(reversed(sorted(dates, key=lambda x: x[1])), 6))]\n",
    "print(len(res), f\" {npub} publications selected.\")\n",
    "\n",
    "grid = create_grid(npub)\n",
    "docs = ', '.join(['\"{0:s}\"'.format(k.split('/')[-1]) for k in res])\n",
    "slides = ', '.join([f'\"slide{k}\"' for k in range(1, npub + 1)])\n",
    "\n",
    "with open(\"grid_template.html\", \"r\") as tpl:\n",
    "    page = tpl.read()\n",
    "    page = page.replace(\"{%-- grid-content:s --%}\", grid)\\\n",
    "               .replace(\"{%-- suptitle:s --%}\",  f\"Last {npub:,d} papers\" )\\\n",
    "               .replace(\"{%-- docs:s --%}\", docs)\\\n",
    "               .replace(\"{%-- slides:s --%}\", slides)\n",
    "    \n",
    "# print(grid, docs, slides)\n",
    "# print(page)\n",
    "with open(\"_build/html/index_npub_grid.html\", 'w') as fout:\n",
    "    fout.write(page)"
   ]
  }
 ],
 "metadata": {
  "kernelspec": {
   "display_name": "Python 3 (ipykernel)",
   "language": "python",
   "name": "python3"
  },
  "language_info": {
   "codemirror_mode": {
    "name": "ipython",
    "version": 3
   },
   "file_extension": ".py",
   "mimetype": "text/x-python",
   "name": "python",
   "nbconvert_exporter": "python",
   "pygments_lexer": "ipython3",
   "version": "3.9.23"
  },
  "papermill": {
   "default_parameters": {},
   "duration": 232.540632,
   "end_time": "2025-10-08T04:17:09.836169",
   "environment_variables": {},
   "exception": null,
   "input_path": "MPIA daily digest.ipynb",
   "output_path": "log.ipynb",
   "parameters": {},
   "start_time": "2025-10-08T04:13:17.295537",
   "version": "2.6.0"
  },
  "vscode": {
   "interpreter": {
    "hash": "aee8b7b246df8f9039afb4144a1f6fd8d2ca17a180786b69acc140d282b71a49"
   }
  },
  "widgets": {
   "application/vnd.jupyter.widget-state+json": {
    "state": {
     "1b1f0ac0db7340e19eeff583556214e7": {
      "model_module": "@jupyter-widgets/controls",
      "model_module_version": "2.0.0",
      "model_name": "HTMLModel",
      "state": {
       "_dom_classes": [],
       "_model_module": "@jupyter-widgets/controls",
       "_model_module_version": "2.0.0",
       "_model_name": "HTMLModel",
       "_view_count": null,
       "_view_module": "@jupyter-widgets/controls",
       "_view_module_version": "2.0.0",
       "_view_name": "HTMLView",
       "description": "",
       "description_allow_html": false,
       "layout": "IPY_MODEL_8459a212e5c6479abaa9f65e77814d80",
       "placeholder": "​",
       "style": "IPY_MODEL_d101640d3e614f5f8f94dee2df11d107",
       "tabbable": null,
       "tooltip": null,
       "value": " 7/7 [03:24&lt;00:00, 33.10s/it]"
      }
     },
     "2328768b71424118be109fc695989d68": {
      "model_module": "@jupyter-widgets/base",
      "model_module_version": "2.0.0",
      "model_name": "LayoutModel",
      "state": {
       "_model_module": "@jupyter-widgets/base",
       "_model_module_version": "2.0.0",
       "_model_name": "LayoutModel",
       "_view_count": null,
       "_view_module": "@jupyter-widgets/base",
       "_view_module_version": "2.0.0",
       "_view_name": "LayoutView",
       "align_content": null,
       "align_items": null,
       "align_self": null,
       "border_bottom": null,
       "border_left": null,
       "border_right": null,
       "border_top": null,
       "bottom": null,
       "display": null,
       "flex": null,
       "flex_flow": null,
       "grid_area": null,
       "grid_auto_columns": null,
       "grid_auto_flow": null,
       "grid_auto_rows": null,
       "grid_column": null,
       "grid_gap": null,
       "grid_row": null,
       "grid_template_areas": null,
       "grid_template_columns": null,
       "grid_template_rows": null,
       "height": null,
       "justify_content": null,
       "justify_items": null,
       "left": null,
       "margin": null,
       "max_height": null,
       "max_width": null,
       "min_height": null,
       "min_width": null,
       "object_fit": null,
       "object_position": null,
       "order": null,
       "overflow": null,
       "padding": null,
       "right": null,
       "top": null,
       "visibility": null,
       "width": null
      }
     },
     "36d66c32521449f095033eff8146f55e": {
      "model_module": "@jupyter-widgets/base",
      "model_module_version": "2.0.0",
      "model_name": "LayoutModel",
      "state": {
       "_model_module": "@jupyter-widgets/base",
       "_model_module_version": "2.0.0",
       "_model_name": "LayoutModel",
       "_view_count": null,
       "_view_module": "@jupyter-widgets/base",
       "_view_module_version": "2.0.0",
       "_view_name": "LayoutView",
       "align_content": null,
       "align_items": null,
       "align_self": null,
       "border_bottom": null,
       "border_left": null,
       "border_right": null,
       "border_top": null,
       "bottom": null,
       "display": null,
       "flex": null,
       "flex_flow": null,
       "grid_area": null,
       "grid_auto_columns": null,
       "grid_auto_flow": null,
       "grid_auto_rows": null,
       "grid_column": null,
       "grid_gap": null,
       "grid_row": null,
       "grid_template_areas": null,
       "grid_template_columns": null,
       "grid_template_rows": null,
       "height": null,
       "justify_content": null,
       "justify_items": null,
       "left": null,
       "margin": null,
       "max_height": null,
       "max_width": null,
       "min_height": null,
       "min_width": null,
       "object_fit": null,
       "object_position": null,
       "order": null,
       "overflow": null,
       "padding": null,
       "right": null,
       "top": null,
       "visibility": null,
       "width": null
      }
     },
     "3b54cad9c7954696b344423c5c85f8e1": {
      "model_module": "@jupyter-widgets/base",
      "model_module_version": "2.0.0",
      "model_name": "LayoutModel",
      "state": {
       "_model_module": "@jupyter-widgets/base",
       "_model_module_version": "2.0.0",
       "_model_name": "LayoutModel",
       "_view_count": null,
       "_view_module": "@jupyter-widgets/base",
       "_view_module_version": "2.0.0",
       "_view_name": "LayoutView",
       "align_content": null,
       "align_items": null,
       "align_self": null,
       "border_bottom": null,
       "border_left": null,
       "border_right": null,
       "border_top": null,
       "bottom": null,
       "display": null,
       "flex": null,
       "flex_flow": null,
       "grid_area": null,
       "grid_auto_columns": null,
       "grid_auto_flow": null,
       "grid_auto_rows": null,
       "grid_column": null,
       "grid_gap": null,
       "grid_row": null,
       "grid_template_areas": null,
       "grid_template_columns": null,
       "grid_template_rows": null,
       "height": null,
       "justify_content": null,
       "justify_items": null,
       "left": null,
       "margin": null,
       "max_height": null,
       "max_width": null,
       "min_height": null,
       "min_width": null,
       "object_fit": null,
       "object_position": null,
       "order": null,
       "overflow": null,
       "padding": null,
       "right": null,
       "top": null,
       "visibility": null,
       "width": null
      }
     },
     "412c76226848489fa79af467a9abdac0": {
      "model_module": "@jupyter-widgets/controls",
      "model_module_version": "2.0.0",
      "model_name": "HBoxModel",
      "state": {
       "_dom_classes": [],
       "_model_module": "@jupyter-widgets/controls",
       "_model_module_version": "2.0.0",
       "_model_name": "HBoxModel",
       "_view_count": null,
       "_view_module": "@jupyter-widgets/controls",
       "_view_module_version": "2.0.0",
       "_view_name": "HBoxView",
       "box_style": "",
       "children": [
        "IPY_MODEL_50905be487bf467cb7e33deb688f0d74",
        "IPY_MODEL_ca6927ceb57e4ef5b2ed310e63e5638c",
        "IPY_MODEL_1b1f0ac0db7340e19eeff583556214e7"
       ],
       "layout": "IPY_MODEL_3b54cad9c7954696b344423c5c85f8e1",
       "tabbable": null,
       "tooltip": null
      }
     },
     "50905be487bf467cb7e33deb688f0d74": {
      "model_module": "@jupyter-widgets/controls",
      "model_module_version": "2.0.0",
      "model_name": "HTMLModel",
      "state": {
       "_dom_classes": [],
       "_model_module": "@jupyter-widgets/controls",
       "_model_module_version": "2.0.0",
       "_model_name": "HTMLModel",
       "_view_count": null,
       "_view_module": "@jupyter-widgets/controls",
       "_view_module_version": "2.0.0",
       "_view_name": "HTMLView",
       "description": "",
       "description_allow_html": false,
       "layout": "IPY_MODEL_36d66c32521449f095033eff8146f55e",
       "placeholder": "​",
       "style": "IPY_MODEL_9e21afec305d43618aa68cf7cf43b7cd",
       "tabbable": null,
       "tooltip": null,
       "value": "100%"
      }
     },
     "708234178ca6497fb292fec8de728202": {
      "model_module": "@jupyter-widgets/controls",
      "model_module_version": "2.0.0",
      "model_name": "ProgressStyleModel",
      "state": {
       "_model_module": "@jupyter-widgets/controls",
       "_model_module_version": "2.0.0",
       "_model_name": "ProgressStyleModel",
       "_view_count": null,
       "_view_module": "@jupyter-widgets/base",
       "_view_module_version": "2.0.0",
       "_view_name": "StyleView",
       "bar_color": null,
       "description_width": ""
      }
     },
     "8459a212e5c6479abaa9f65e77814d80": {
      "model_module": "@jupyter-widgets/base",
      "model_module_version": "2.0.0",
      "model_name": "LayoutModel",
      "state": {
       "_model_module": "@jupyter-widgets/base",
       "_model_module_version": "2.0.0",
       "_model_name": "LayoutModel",
       "_view_count": null,
       "_view_module": "@jupyter-widgets/base",
       "_view_module_version": "2.0.0",
       "_view_name": "LayoutView",
       "align_content": null,
       "align_items": null,
       "align_self": null,
       "border_bottom": null,
       "border_left": null,
       "border_right": null,
       "border_top": null,
       "bottom": null,
       "display": null,
       "flex": null,
       "flex_flow": null,
       "grid_area": null,
       "grid_auto_columns": null,
       "grid_auto_flow": null,
       "grid_auto_rows": null,
       "grid_column": null,
       "grid_gap": null,
       "grid_row": null,
       "grid_template_areas": null,
       "grid_template_columns": null,
       "grid_template_rows": null,
       "height": null,
       "justify_content": null,
       "justify_items": null,
       "left": null,
       "margin": null,
       "max_height": null,
       "max_width": null,
       "min_height": null,
       "min_width": null,
       "object_fit": null,
       "object_position": null,
       "order": null,
       "overflow": null,
       "padding": null,
       "right": null,
       "top": null,
       "visibility": null,
       "width": null
      }
     },
     "9e21afec305d43618aa68cf7cf43b7cd": {
      "model_module": "@jupyter-widgets/controls",
      "model_module_version": "2.0.0",
      "model_name": "HTMLStyleModel",
      "state": {
       "_model_module": "@jupyter-widgets/controls",
       "_model_module_version": "2.0.0",
       "_model_name": "HTMLStyleModel",
       "_view_count": null,
       "_view_module": "@jupyter-widgets/base",
       "_view_module_version": "2.0.0",
       "_view_name": "StyleView",
       "background": null,
       "description_width": "",
       "font_size": null,
       "text_color": null
      }
     },
     "ca6927ceb57e4ef5b2ed310e63e5638c": {
      "model_module": "@jupyter-widgets/controls",
      "model_module_version": "2.0.0",
      "model_name": "FloatProgressModel",
      "state": {
       "_dom_classes": [],
       "_model_module": "@jupyter-widgets/controls",
       "_model_module_version": "2.0.0",
       "_model_name": "FloatProgressModel",
       "_view_count": null,
       "_view_module": "@jupyter-widgets/controls",
       "_view_module_version": "2.0.0",
       "_view_name": "ProgressView",
       "bar_style": "success",
       "description": "",
       "description_allow_html": false,
       "layout": "IPY_MODEL_2328768b71424118be109fc695989d68",
       "max": 7.0,
       "min": 0.0,
       "orientation": "horizontal",
       "style": "IPY_MODEL_708234178ca6497fb292fec8de728202",
       "tabbable": null,
       "tooltip": null,
       "value": 7.0
      }
     },
     "d101640d3e614f5f8f94dee2df11d107": {
      "model_module": "@jupyter-widgets/controls",
      "model_module_version": "2.0.0",
      "model_name": "HTMLStyleModel",
      "state": {
       "_model_module": "@jupyter-widgets/controls",
       "_model_module_version": "2.0.0",
       "_model_name": "HTMLStyleModel",
       "_view_count": null,
       "_view_module": "@jupyter-widgets/base",
       "_view_module_version": "2.0.0",
       "_view_name": "StyleView",
       "background": null,
       "description_width": "",
       "font_size": null,
       "text_color": null
      }
     }
    },
    "version_major": 2,
    "version_minor": 0
   }
  }
 },
 "nbformat": 4,
 "nbformat_minor": 5
}