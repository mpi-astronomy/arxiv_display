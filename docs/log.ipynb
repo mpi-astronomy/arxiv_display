{
 "cells": [
  {
   "cell_type": "markdown",
   "id": "92bcb855",
   "metadata": {
    "papermill": {
     "duration": 0.004636,
     "end_time": "2023-04-04T08:56:26.629989",
     "exception": false,
     "start_time": "2023-04-04T08:56:26.625353",
     "status": "completed"
    },
    "tags": []
   },
   "source": [
    "# MPIA Arxiv on Deck 2\n",
    "\n",
    "Contains the steps to produce the paper extractions."
   ]
  },
  {
   "cell_type": "code",
   "execution_count": 1,
   "id": "3a0d6e11",
   "metadata": {
    "execution": {
     "iopub.execute_input": "2023-04-04T08:56:26.638840Z",
     "iopub.status.busy": "2023-04-04T08:56:26.638092Z",
     "iopub.status.idle": "2023-04-04T08:56:26.862426Z",
     "shell.execute_reply": "2023-04-04T08:56:26.861731Z"
    },
    "papermill": {
     "duration": 0.231231,
     "end_time": "2023-04-04T08:56:26.864866",
     "exception": false,
     "start_time": "2023-04-04T08:56:26.633635",
     "status": "completed"
    },
    "tags": []
   },
   "outputs": [],
   "source": [
    "# Imports\n",
    "import os\n",
    "from IPython.display import Markdown, display\n",
    "from tqdm.notebook import tqdm\n",
    "import warnings\n",
    "from PIL import Image \n",
    "\n",
    "# requires arxiv_on_deck_2\n",
    "\n",
    "from arxiv_on_deck_2.arxiv2 import (get_new_papers, \n",
    "                                    get_paper_from_identifier,\n",
    "                                    retrieve_document_source, \n",
    "                                    get_markdown_badge)\n",
    "from arxiv_on_deck_2 import (latex,\n",
    "                             latex_bib,\n",
    "                             mpia,\n",
    "                             highlight_authors_in_list)\n",
    "\n",
    "# Sometimes images are really big\n",
    "Image.MAX_IMAGE_PIXELS = 1000000000 "
   ]
  },
  {
   "cell_type": "code",
   "execution_count": 2,
   "id": "22aa9d44",
   "metadata": {
    "execution": {
     "iopub.execute_input": "2023-04-04T08:56:26.873241Z",
     "iopub.status.busy": "2023-04-04T08:56:26.872895Z",
     "iopub.status.idle": "2023-04-04T08:56:26.878605Z",
     "shell.execute_reply": "2023-04-04T08:56:26.877935Z"
    },
    "papermill": {
     "duration": 0.01189,
     "end_time": "2023-04-04T08:56:26.880399",
     "exception": false,
     "start_time": "2023-04-04T08:56:26.868509",
     "status": "completed"
    },
    "tags": []
   },
   "outputs": [],
   "source": [
    "# Some useful definitions.\n",
    "\n",
    "class AffiliationWarning(UserWarning):\n",
    "    pass\n",
    "\n",
    "class AffiliationError(RuntimeError):\n",
    "    pass\n",
    "\n",
    "def validation(source: str):\n",
    "    \"\"\"Raises error paper during parsing of source file\n",
    "    \n",
    "    Allows checks before parsing TeX code.\n",
    "    \n",
    "    Raises AffiliationWarning\n",
    "    \"\"\"\n",
    "    check = mpia.affiliation_verifications(source, verbose=True)\n",
    "    if check is not True:\n",
    "        raise AffiliationError(\"mpia.affiliation_verifications: \" + check)\n",
    "\n",
    "        \n",
    "warnings.simplefilter('always', AffiliationWarning)\n",
    "\n",
    "\n",
    "def get_markdown_qrcode(paper_id: str):\n",
    "    \"\"\" Generate a qrcode to the arxiv page using qrserver.com\n",
    "    \n",
    "    :param paper: Arxiv paper\n",
    "    :returns: markdown text\n",
    "    \"\"\"\n",
    "    url = r\"https://api.qrserver.com/v1/create-qr-code/?size=100x100&data=\"\n",
    "    txt = f\"\"\"<img src={url}\"https://arxiv.org/abs/{paper_id}\">\"\"\"\n",
    "    txt = '<div id=\"qrcode\">' + txt + '</div>'\n",
    "    return txt"
   ]
  },
  {
   "cell_type": "markdown",
   "id": "14bd6310",
   "metadata": {
    "papermill": {
     "duration": 0.003294,
     "end_time": "2023-04-04T08:56:26.886994",
     "exception": false,
     "start_time": "2023-04-04T08:56:26.883700",
     "status": "completed"
    },
    "tags": []
   },
   "source": [
    "## get list of arxiv paper candidates\n",
    "\n",
    "We use the MPIA mitarbeiter list webpage from mpia.de to get author names\n",
    "We then get all new papers from Arxiv and match authors"
   ]
  },
  {
   "cell_type": "code",
   "execution_count": 3,
   "id": "2645e73a",
   "metadata": {
    "execution": {
     "iopub.execute_input": "2023-04-04T08:56:26.894810Z",
     "iopub.status.busy": "2023-04-04T08:56:26.894376Z",
     "iopub.status.idle": "2023-04-04T08:56:52.777948Z",
     "shell.execute_reply": "2023-04-04T08:56:52.777078Z"
    },
    "papermill": {
     "duration": 25.889425,
     "end_time": "2023-04-04T08:56:52.779749",
     "exception": false,
     "start_time": "2023-04-04T08:56:26.890324",
     "status": "completed"
    },
    "tags": []
   },
   "outputs": [
    {
     "name": "stdout",
     "output_type": "stream",
     "text": [
      "Arxiv has 94 new papers today\n",
      "          4 with possible author matches\n"
     ]
    }
   ],
   "source": [
    "# get list from MPIA website\n",
    "# it automatically filters identified non-scientists :func:`mpia.filter_non_scientists`\n",
    "mpia_authors = mpia.get_mpia_mitarbeiter_list()\n",
    "normed_mpia_authors = [k[1] for k in mpia_authors]   # initials + fullname\n",
    "new_papers = get_new_papers()\n",
    "# add manual references\n",
    "add_paper_refs = []\n",
    "new_papers.extend([get_paper_from_identifier(k) for k in add_paper_refs])\n",
    "\n",
    "candidates = []\n",
    "for paperk in new_papers:\n",
    "    # Check author list with their initials\n",
    "    normed_author_list = [mpia.get_initials(k) for k in paperk['authors']]\n",
    "    hl_authors = highlight_authors_in_list(normed_author_list, normed_mpia_authors, verbose=True)\n",
    "    matches = [(hl, orig) for hl, orig in zip(hl_authors, paperk['authors']) if 'mark' in hl]\n",
    "    paperk['authors'] = hl_authors\n",
    "    if matches:\n",
    "        # only select paper if an author matched our list\n",
    "        candidates.append(paperk)\n",
    "print(\"\"\"Arxiv has {0:,d} new papers today\"\"\".format(len(new_papers)))        \n",
    "print(\"\"\"          {0:,d} with possible author matches\"\"\".format(len(candidates)))"
   ]
  },
  {
   "cell_type": "markdown",
   "id": "3543b34a",
   "metadata": {
    "papermill": {
     "duration": 0.00393,
     "end_time": "2023-04-04T08:56:52.787940",
     "exception": false,
     "start_time": "2023-04-04T08:56:52.784010",
     "status": "completed"
    },
    "tags": []
   },
   "source": [
    "# Parse sources and generate relevant outputs\n",
    "\n",
    "From the candidates, we do the following steps:\n",
    "* get their tarball from ArXiv (and extract data)\n",
    "* find the main .tex file: find one with \\documentclass{...} (sometimes it's non trivial)\n",
    "* Check affiliations with :func:`validation`, which uses :func:`mpia.affiliation_verifications`\n",
    "* If passing the affiliations: we parse the .tex source\n",
    "   * inject sub-documents into the main (flatten the main document)\n",
    "   * parse structure, extract information (title, abstract, authors, figures...)\n",
    "   * handles `\\graphicspath` if provided\n",
    "* Generate the .md document."
   ]
  },
  {
   "cell_type": "code",
   "execution_count": 4,
   "id": "9576b79e",
   "metadata": {
    "execution": {
     "iopub.execute_input": "2023-04-04T08:56:52.796396Z",
     "iopub.status.busy": "2023-04-04T08:56:52.796128Z",
     "iopub.status.idle": "2023-04-04T08:57:35.682951Z",
     "shell.execute_reply": "2023-04-04T08:57:35.682170Z"
    },
    "papermill": {
     "duration": 42.893084,
     "end_time": "2023-04-04T08:57:35.684574",
     "exception": false,
     "start_time": "2023-04-04T08:56:52.791490",
     "status": "completed"
    },
    "scrolled": false,
    "tags": []
   },
   "outputs": [
    {
     "data": {
      "application/vnd.jupyter.widget-view+json": {
       "model_id": "16008d8f35444648a6ee973165e0667f",
       "version_major": 2,
       "version_minor": 0
      },
      "text/plain": [
       "  0%|          | 0/3 [00:00<?, ?it/s]"
      ]
     },
     "metadata": {},
     "output_type": "display_data"
    },
    {
     "name": "stdout",
     "output_type": "stream",
     "text": [
      "Retrieving document from  https://arxiv.org/e-print/2304.00037\n"
     ]
    },
    {
     "name": "stdout",
     "output_type": "stream",
     "text": [
      "extracting tarball to tmp_2304.00037..."
     ]
    },
    {
     "name": "stdout",
     "output_type": "stream",
     "text": [
      " done.\n",
      "Retrieving document from  https://arxiv.org/e-print/2304.00267\n"
     ]
    },
    {
     "name": "stdout",
     "output_type": "stream",
     "text": [
      "extracting tarball to tmp_2304.00267..."
     ]
    },
    {
     "name": "stdout",
     "output_type": "stream",
     "text": [
      " done.\n"
     ]
    },
    {
     "name": "stdout",
     "output_type": "stream",
     "text": [
      "list index out of range\n",
      "Retrieving document from  https://arxiv.org/e-print/2304.00461\n"
     ]
    },
    {
     "name": "stdout",
     "output_type": "stream",
     "text": [
      "extracting tarball to tmp_2304.00461..."
     ]
    },
    {
     "name": "stdout",
     "output_type": "stream",
     "text": [
      " done.\n"
     ]
    },
    {
     "name": "stderr",
     "output_type": "stream",
     "text": [
      "/opt/hostedtoolcache/Python/3.9.16/x64/lib/python3.9/site-packages/IPython/core/interactiveshell.py:3505: LatexWarning: Multiple tex files.\n",
      "\n",
      "  exec(code_obj, self.user_global_ns, self.user_ns)\n",
      "/opt/hostedtoolcache/Python/3.9.16/x64/lib/python3.9/site-packages/IPython/core/interactiveshell.py:3505: LatexWarning: Found documentclass in tmp_2304.00461/paper_final.tex\n",
      "\n",
      "  exec(code_obj, self.user_global_ns, self.user_ns)\n"
     ]
    }
   ],
   "source": [
    "documents = []\n",
    "failed = []\n",
    "for paper in tqdm(candidates[:-1]):\n",
    "    paper_id = paper['identifier'].lower().replace('arxiv:', '')\n",
    "    \n",
    "    folder = f'tmp_{paper_id}'\n",
    "\n",
    "    try:\n",
    "        if not os.path.isdir(folder):\n",
    "            folder = retrieve_document_source(f\"{paper_id}\", f'tmp_{paper_id}')\n",
    "        \n",
    "        try:\n",
    "            doc = latex.LatexDocument(folder, validation=validation)    \n",
    "        except AffiliationError as affilerror:\n",
    "            msg = f\"ArXiv:{paper_id:s} is not an MPIA paper... \" + str(affilerror)\n",
    "            failed.append((paper, \"affiliation error: \" + str(affilerror) ))\n",
    "            continue\n",
    "        \n",
    "        # Hack because sometimes author parsing does not work well\n",
    "        if (len(doc.authors) != len(paper['authors'])):\n",
    "            doc._authors = paper['authors']\n",
    "        else:\n",
    "            # highlight authors (FIXME: doc.highlight_authors)\n",
    "            # done on arxiv paper already\n",
    "            doc._authors = highlight_authors_in_list(\n",
    "                [mpia.get_initials(k) for k in doc.authors], \n",
    "                normed_mpia_authors, verbose=True)\n",
    "        if (doc.abstract) in (None, ''):\n",
    "            doc._abstract = paper['abstract']\n",
    "            \n",
    "        doc.comment = (get_markdown_badge(paper_id) + \n",
    "                       \"<mark>Appeared on: \" + paper['date'] + \"</mark> - \")\n",
    "        if paper['comments']:\n",
    "            doc.comment += \" _\" + paper['comments'] + \"_\"\n",
    "        \n",
    "        full_md = doc.generate_markdown_text()\n",
    "        \n",
    "        full_md += get_markdown_qrcode(paper_id)\n",
    "        \n",
    "        # replace citations\n",
    "        try:\n",
    "            bibdata = latex_bib.LatexBib.from_doc(doc)\n",
    "            full_md = latex_bib.replace_citations(full_md, bibdata)\n",
    "        except Exception as e:\n",
    "            print(e)\n",
    "        \n",
    "        documents.append((paper_id, full_md))\n",
    "    except Exception as e:\n",
    "        warnings.warn(latex.LatexWarning(f\"{paper_id:s} did not run properly\\n\" +\n",
    "                                         str(e)\n",
    "                                        ))\n",
    "        failed.append((paper, \"latex error \" + str(e)))"
   ]
  },
  {
   "cell_type": "markdown",
   "id": "2505a25c",
   "metadata": {
    "papermill": {
     "duration": 0.004477,
     "end_time": "2023-04-04T08:57:35.693312",
     "exception": false,
     "start_time": "2023-04-04T08:57:35.688835",
     "status": "completed"
    },
    "tags": []
   },
   "source": [
    "### Export the logs\n",
    "\n",
    "Throughout, we also keep track of the logs per paper. see `logs-{today date}.md` "
   ]
  },
  {
   "cell_type": "code",
   "execution_count": 5,
   "id": "d733828a",
   "metadata": {
    "execution": {
     "iopub.execute_input": "2023-04-04T08:57:35.702880Z",
     "iopub.status.busy": "2023-04-04T08:57:35.702175Z",
     "iopub.status.idle": "2023-04-04T08:57:35.719317Z",
     "shell.execute_reply": "2023-04-04T08:57:35.718651Z"
    },
    "papermill": {
     "duration": 0.02391,
     "end_time": "2023-04-04T08:57:35.721221",
     "exception": false,
     "start_time": "2023-04-04T08:57:35.697311",
     "status": "completed"
    },
    "scrolled": false,
    "tags": []
   },
   "outputs": [
    {
     "data": {
      "text/markdown": [
       "## Successful papers"
      ],
      "text/plain": [
       "<IPython.core.display.Markdown object>"
      ]
     },
     "metadata": {},
     "output_type": "display_data"
    },
    {
     "data": {
      "text/markdown": [
       "\n",
       "|||\n",
       "|---:|:---|\n",
       "| [![arXiv](https://img.shields.io/badge/arXiv-arXiv:2304.00267-b31b1b.svg)](https://arxiv.org/abs/arXiv:2304.00267) | **Digging into the Interior of Hot Cores with ALMA (DIHCA). III: The  Chemical Link between NH$_{2}$CHO, HNCO, and H$_{2}$CO**  |\n",
       "|| K. Taniguchi, et al. -- incl., <mark>S. Li</mark> |\n",
       "|*Appeared on*| *2023-04-04*|\n",
       "|*Comments*| *Accepted for The Astrophysical Journal. 27 pages, 10 tables, and 13 figures*|\n",
       "|**Abstract**| We have analyzed the NH$_{2}$CHO, HNCO, H$_{2}$CO, and CH$_{3}$CN ($^{13}$CH$_{3}$CN) molecular lines at an angular resolution of $\\sim 0.3''$ obtained by the Atacama Large Millimeter/submillimeter Array (ALMA) Band 6 toward 30 high-mass star-forming regions. The NH$_{2}$CHO emission has been detected in 23 regions, while the other species have been detected toward 29 regions. A total of 44 hot molecular cores (HMCs) have been identified using the moment 0 maps of the CH$_{3}$CN line. The fractional abundances of the four species have been derived at each HMC. In order to investigate pure chemical relationships, we have conducted a partial correlation test to exclude the effect of temperature. Strong positive correlations between NH$_{2}$CHO and HNCO ($\\rho=0.89$) and between NH$_{2}$CHO and H$_{2}$CO (0.84) have been found. These strong correlations indicate their direct chemical links; dual-cyclic hydrogen addition and abstraction reactions between HNCO and NH$_{2}$CHO and gas-phase formation of NH$_{2}$CHO from H$_{2}$CO. Chemical models including these reactions can reproduce the observed abundances in our target sources. |"
      ],
      "text/plain": [
       "[arXiv:2304.00267] Digging into the Interior of Hot Cores with ALMA (DIHCA). III: The  Chemical Link between NH$_{2}$CHO, HNCO, and H$_{2}$CO\n",
       "\tK. Taniguchi, et al. -- incl., <mark>S. Li</mark>"
      ]
     },
     "metadata": {},
     "output_type": "display_data"
    },
    {
     "data": {
      "text/markdown": [
       "## Failed papers"
      ],
      "text/plain": [
       "<IPython.core.display.Markdown object>"
      ]
     },
     "metadata": {},
     "output_type": "display_data"
    },
    {
     "data": {
      "text/markdown": [
       "\n",
       "|||\n",
       "|---:|:---|\n",
       "| [![arXiv](https://img.shields.io/badge/arXiv-arXiv:2304.00037-b31b1b.svg)](https://arxiv.org/abs/arXiv:2304.00037) | **A 1.3% distance to M33 from HST Cepheid photometry**  |\n",
       "|| L. Breuval, et al. -- incl., <mark>S. Li</mark> |\n",
       "|*Appeared on*| *2023-04-04*|\n",
       "|*Comments*| *Submitted to ApJ, comments welcome*|\n",
       "|**Abstract**| We present a low-dispersion period-luminosity relation (PL) based on 154 Cepheids in Messier 33 (M33) with Hubble Space Telescope (HST) photometry from the PHATTER survey. Using high-quality ground-based light curves, we recover Cepheid phases and amplitudes for multi-epoch HST data and we perform template fitting to derive intensity-averaged mean magnitudes. HST observations in the SH0ES near-infrared Wesenheit system significantly reduce the effect of crowding relative to ground-based data, as seen in the final PL scatter of $\\sigma$ = 0.11 mag. We adopt the absolute calibration of the PL based on HST observations in the Large Magellanic Cloud (LMC) and a distance derived using late-type detached eclipsing binaries to obtain a distance modulus for M33 of $\\mu$ = 24.622 $\\pm$ 0.030 mag (d = 840 $\\pm$ 11 kpc), a best-to-date precision of 1.3%. We find very good agreement with past Cepheid-based measurements. Several TRGB estimates bracket our result while disagreeing with each other. Finally, we show that the flux contribution from star clusters hosting Cepheids in M33 does not impact the distance measurement and we find only 3.7% of the sample is located in (or nearby) young clusters. M33 offers one of the best sites for the cross-calibration of many primary distance indicators. Thus, a precise independent geometric determination of its distance would provide a valuable new anchor to measure the Hubble constant. |\n",
       "|<p style=\"color:green\"> **ERROR** </p>| <p style=\"color:green\">affiliation error: mpia.affiliation_verifications: 'Heidelberg' keyword not found.</p> |"
      ],
      "text/plain": [
       "<IPython.core.display.Markdown object>"
      ]
     },
     "metadata": {},
     "output_type": "display_data"
    },
    {
     "data": {
      "text/markdown": [
       "\n",
       "|||\n",
       "|---:|:---|\n",
       "| [![arXiv](https://img.shields.io/badge/arXiv-arXiv:2304.00461-b31b1b.svg)](https://arxiv.org/abs/arXiv:2304.00461) | **Detection of TiO and VO in the atmosphere of WASP-121b and Evidence for  its temporal variation**  |\n",
       "|| Q. Ouyang, et al. -- incl., <mark>M. Zhai</mark> |\n",
       "|*Appeared on*| *2023-04-04*|\n",
       "|*Comments*| *23 pages, 13 figures, 6 tables. Accepted for publication in Research in Astronomy and Astrophysics*|\n",
       "|**Abstract**| We report the transit observations of the ultra hot Jupiter WASP-121b using the Goodman High Throughput Spectrograph (GHTS) at the 4-meter ground-based telescope Southern Astrophysical Research Telescope (SOAR), covering the wavelength range $502-900$ nm. By dividing the target and reference star into 19 spectroscopic passbands and applying differential spectrophotometry, we derive spectroscopic transit light curves and fit them using Gaussian process framework to determine transit depths for every passbands. The obtained optical transmission spectrum shows a steep increased slope toward the blue wavelength, which seems to be too steep to be accounted for by the Rayleigh scattering alone. We note that the transmission spectrum from this work and other works differ obviously from each other, which was pointed out previously by \\citet{Wilson2021} as evidence for temporal atmospheric variation. We perform a free chemistry retrieval analysis on the optical transmission spectra from this work and the literature HST/WFC3 NIR spectrum. We determine TiO, VO and H$_{2}$O with abundances of $-5.95_{-0.42}^{+0.47}$ dex, $-6.72_{-1.79}^{+0.51}$ dex, and $-4.13_{-0.46}^{+0.63}$ dex, respectively. We compare the abundances of all these three molecules derived from this work and previous works, and find that they are not consistent with each other, indicating the chemical compositions of the terminator region may change over long timescales. Future multi-epoch and high-precision transit observations are required to further confirm this phenomena. We note that when combining the transmission spectra in the optical and in NIR in retrieval analysis, the abundances of V and VO, the NIR-to-optical offset and the cloud deck pressure may be coupled with each other. |\n",
       "|<p style=\"color:green\"> **ERROR** </p>| <p style=\"color:green\">affiliation error: mpia.affiliation_verifications: 'Heidelberg' keyword not found.</p> |"
      ],
      "text/plain": [
       "<IPython.core.display.Markdown object>"
      ]
     },
     "metadata": {},
     "output_type": "display_data"
    }
   ],
   "source": [
    "import datetime\n",
    "today = str(datetime.date.today())\n",
    "logfile = f\"_build/html/logs/log-{today}.md\"\n",
    "\n",
    "\n",
    "with open(logfile, 'w') as logs:\n",
    "    # Success\n",
    "    logs.write(f'# Arxiv on Deck 2: Logs - {today}\\n\\n')\n",
    "    logs.write(\"\"\"* Arxiv had {0:,d} new papers\\n\"\"\".format(len(new_papers)))\n",
    "    logs.write(\"\"\"    * {0:,d} with possible author matches\\n\\n\"\"\".format(len(candidates)))\n",
    "    logs.write(\"## Sucessful papers\\n\\n\")\n",
    "    display(Markdown(\"## Successful papers\"))\n",
    "    success = [k[0] for k in documents]\n",
    "    for candid in candidates:\n",
    "        if candid['identifier'].split(':')[-1] in success:\n",
    "            display(candid)\n",
    "            logs.write(candid.generate_markdown_text() + '\\n\\n')\n",
    "\n",
    "    ## failed\n",
    "    logs.write(\"## Failed papers\\n\\n\")\n",
    "    display(Markdown(\"## Failed papers\"))\n",
    "    failed = sorted(failed, key=lambda x: x[1])\n",
    "    current_reason = \"\"\n",
    "    for paper, reason in failed:\n",
    "        if 'affiliation' in reason:\n",
    "            color = 'green'\n",
    "        else:\n",
    "            color = 'red'\n",
    "        data = Markdown(\n",
    "                paper.generate_markdown_text() + \n",
    "                f'\\n|<p style=\"color:{color:s}\"> **ERROR** </p>| <p style=\"color:{color:s}\">{reason:s}</p> |'\n",
    "               )\n",
    "        if reason != current_reason:\n",
    "            logs.write(f'### {reason:s} \\n\\n')\n",
    "            current_reason = reason\n",
    "        logs.write(data.data + '\\n\\n')\n",
    "        \n",
    "        # only display here the important errors (all in logs)\n",
    "        # if color in ('red',):\n",
    "        display(data)"
   ]
  },
  {
   "cell_type": "markdown",
   "id": "472d20ee",
   "metadata": {
    "papermill": {
     "duration": 0.004494,
     "end_time": "2023-04-04T08:57:35.730241",
     "exception": false,
     "start_time": "2023-04-04T08:57:35.725747",
     "status": "completed"
    },
    "tags": []
   },
   "source": [
    "## Export documents\n",
    "\n",
    "We now write the .md files and export relevant images"
   ]
  },
  {
   "cell_type": "code",
   "execution_count": 6,
   "id": "d426aed9",
   "metadata": {
    "execution": {
     "iopub.execute_input": "2023-04-04T08:57:35.740687Z",
     "iopub.status.busy": "2023-04-04T08:57:35.740096Z",
     "iopub.status.idle": "2023-04-04T08:57:35.747288Z",
     "shell.execute_reply": "2023-04-04T08:57:35.746644Z"
    },
    "papermill": {
     "duration": 0.01406,
     "end_time": "2023-04-04T08:57:35.748771",
     "exception": false,
     "start_time": "2023-04-04T08:57:35.734711",
     "status": "completed"
    },
    "tags": []
   },
   "outputs": [],
   "source": [
    "def export_markdown_summary(md: str, md_fname:str, directory: str):\n",
    "    \"\"\"Export MD document and associated relevant images\"\"\"\n",
    "    import os\n",
    "    import shutil\n",
    "    import re\n",
    "\n",
    "    if (os.path.exists(directory) and not os.path.isdir(directory)):\n",
    "        raise RuntimeError(f\"a non-directory file exists with name {directory:s}\")\n",
    "\n",
    "    if (not os.path.exists(directory)):\n",
    "        print(f\"creating directory {directory:s}\")\n",
    "        os.mkdir(directory)\n",
    "\n",
    "    fig_fnames = (re.compile(r'\\[Fig.*\\]\\((.*)\\)').findall(md) + \n",
    "                  re.compile(r'\\<img src=\"([^>\\s]*)\"[^>]*/>').findall(md))\n",
    "    for fname in fig_fnames:\n",
    "        if 'http' in fname:\n",
    "            # No need to copy online figures\n",
    "            continue\n",
    "        destdir = os.path.join(directory, os.path.dirname(fname))\n",
    "        destfname = os.path.join(destdir, os.path.basename(fname))\n",
    "        try:\n",
    "            os.makedirs(destdir)\n",
    "        except FileExistsError:\n",
    "            pass\n",
    "        shutil.copy(fname, destfname)\n",
    "    with open(os.path.join(directory, md_fname), 'w') as fout:\n",
    "        fout.write(md)\n",
    "    print(\"exported in \", os.path.join(directory, md_fname))\n",
    "    [print(\"    + \" + os.path.join(directory,fk)) for fk in fig_fnames]"
   ]
  },
  {
   "cell_type": "code",
   "execution_count": 7,
   "id": "014d04a4",
   "metadata": {
    "execution": {
     "iopub.execute_input": "2023-04-04T08:57:35.759164Z",
     "iopub.status.busy": "2023-04-04T08:57:35.758609Z",
     "iopub.status.idle": "2023-04-04T08:57:35.767412Z",
     "shell.execute_reply": "2023-04-04T08:57:35.766756Z"
    },
    "papermill": {
     "duration": 0.01588,
     "end_time": "2023-04-04T08:57:35.769212",
     "exception": false,
     "start_time": "2023-04-04T08:57:35.753332",
     "status": "completed"
    },
    "tags": []
   },
   "outputs": [
    {
     "name": "stdout",
     "output_type": "stream",
     "text": [
      "exported in  _build/html/2304.00267.md\n",
      "    + _build/html/tmp_2304.00267/./fig_modelBfinal.png\n",
      "    + _build/html/tmp_2304.00267/./fig_mom01.png\n",
      "    + _build/html/tmp_2304.00267/./fig_mom04.png\n"
     ]
    }
   ],
   "source": [
    "for paper_id, md in documents:\n",
    "    export_markdown_summary(md, f\"{paper_id:s}.md\", '_build/html/')"
   ]
  },
  {
   "cell_type": "markdown",
   "id": "f087a0a7",
   "metadata": {
    "papermill": {
     "duration": 0.004584,
     "end_time": "2023-04-04T08:57:35.778446",
     "exception": false,
     "start_time": "2023-04-04T08:57:35.773862",
     "status": "completed"
    },
    "tags": []
   },
   "source": [
    "## Display the papers\n",
    "\n",
    "Not necessary but allows for a quick check."
   ]
  },
  {
   "cell_type": "code",
   "execution_count": 8,
   "id": "fd25f625",
   "metadata": {
    "execution": {
     "iopub.execute_input": "2023-04-04T08:57:35.789136Z",
     "iopub.status.busy": "2023-04-04T08:57:35.788557Z",
     "iopub.status.idle": "2023-04-04T08:57:35.793683Z",
     "shell.execute_reply": "2023-04-04T08:57:35.792804Z"
    },
    "papermill": {
     "duration": 0.012035,
     "end_time": "2023-04-04T08:57:35.795183",
     "exception": false,
     "start_time": "2023-04-04T08:57:35.783148",
     "status": "completed"
    },
    "scrolled": false,
    "tags": []
   },
   "outputs": [
    {
     "data": {
      "text/markdown": [
       "<div class=\"macros\" style=\"visibility:hidden;\">\n",
       "$\\newcommand{\\ensuremath}{}$\n",
       "$\\newcommand{\\xspace}{}$\n",
       "$\\newcommand{\\object}[1]{\\texttt{#1}}$\n",
       "$\\newcommand{\\farcs}{{.}''}$\n",
       "$\\newcommand{\\farcm}{{.}'}$\n",
       "$\\newcommand{\\arcsec}{''}$\n",
       "$\\newcommand{\\arcmin}{'}$\n",
       "$\\newcommand{\\ion}[2]{#1#2}$\n",
       "$\\newcommand{\\textsc}[1]{\\textrm{#1}}$\n",
       "$\\newcommand{\\hl}[1]{\\textrm{#1}}$\n",
       "$\\newcommand{\\footnote}[1]{}$\n",
       "$\\newcommand{\\vdag}{(v)^\\dagger}$\n",
       "$\\newcommand$\n",
       "$\\newcommand$</div>\n",
       "\n",
       "\n",
       "\n",
       "<div id=\"title\">\n",
       "\n",
       "# Digging into the Interior of Hot Cores with ALMA (DIHCA). III: \\\\The Chemical Link between NH$_{2}$CHO, HNCO, and H$_{2}$CO\n",
       "\n",
       "</div>\n",
       "<div id=\"comments\">\n",
       "\n",
       "[![arXiv](https://img.shields.io/badge/arXiv-2304.00267-b31b1b.svg)](https://arxiv.org/abs/2304.00267)<mark>Appeared on: 2023-04-04</mark> -  _Accepted for The Astrophysical Journal. 27 pages, 10 tables, and 13 figures_\n",
       "\n",
       "</div>\n",
       "<div id=\"authors\">\n",
       "\n",
       "K. Taniguchi, et al. -- incl., <mark>S. Li</mark>\n",
       "\n",
       "</div>\n",
       "<div id=\"abstract\">\n",
       "\n",
       "**Abstract:** We have analyzed the NH $_{2}$ CHO, HNCO, H $_{2}$ CO, and CH $_{3}$ CN ( $^{13}$ CH $_{3}$ CN) molecular lines at an angular resolution of $\\sim 0\\farcs3$ obtained by the Atacama Large Millimeter/submillimeter Array (ALMA) Band 6 toward 30 high-mass star-forming regions.The NH $_{2}$ CHO emission has been detected in 23 regions, while the other species have been detected toward 29 regions.A total of 44 hot molecular cores (HMCs) have been identified using the moment 0 maps of the CH $_{3}$ CN line.The fractional abundances of the four species have been derived at each HMC.In order to investigate pure chemical relationships, we have conducted a partial correlation test to exclude the effect of temperature.Strong positive correlations between NH $_{2}$ CHO and HNCO ( $\\rho=0.89$ ) and between NH $_{2}$ CHO and H $_{2}$ CO (0.84) have been found.These strong correlations indicate their direct chemical links; dual-cyclic hydrogen addition and abstraction reactions between HNCO and NH $_{2}$ CHO and gas-phase formation of NH $_{2}$ CHO from H $_{2}$ CO.Chemical models including these reactions can reproduce the observed abundances in our target sources.\n",
       "\n",
       "</div>\n",
       "\n",
       "<div id=\"div_fig1\">\n",
       "\n",
       "<img src=\"tmp_2304.00267/./fig_modelBfinal.png\" alt=\"Fig8\" width=\"100%\"/>\n",
       "\n",
       "**Figure 8. -** Comparison with Model B \\citep{2020ApJ...895...86G}. Panels from top to bottom show results of HNCO, NH$_{2}$CHO, H$_{2}$CO, and CH$_{3}$CN, respectively. The modeled abundances plotted here are the values at the end of the simulations; $t$ = $t_{\\rm{collapse}}$ + $t_{\\rm{warm-up}}$($5\\times10^4$ yrs)+ $t_{\\rm{post warm-up}}$($10^5$ yrs). Left panels show dependences on different collapsing timescale and maximum density with the maximum temperature of 200 K. Right panels show dependences on different collapsing timescale and maximum temperature with the maximum density of $10^7$ cm$^{-3}$. The four representative observed abundances are plotted (Maximum, Average, Median, and Minimum). The blue filled ranges indicate the ranges between average and median values.  (*fig:modelB*)\n",
       "\n",
       "</div>\n",
       "<div id=\"div_fig2\">\n",
       "\n",
       "<img src=\"tmp_2304.00267/./fig_mom01.png\" alt=\"Fig9\" width=\"100%\"/>\n",
       "\n",
       "**Figure 9. -** Continuum images (gray scales) overlaid with contours indicating moment 0 maps of molecular lines (left panels: white; CH$_{3}$CN and cyan; H$_{2}$CO, right panels: magenta; NH$_{2}$CHO and yellow; HNCO). Red crosses indicate positions of hot molecular cores (HMCs). Information on noise levels and contour levels are summarized in Tables \\ref{tab:mom0info} and \\ref{tab:mom0info2}.  (*fig:mom01*)\n",
       "\n",
       "</div>\n",
       "<div id=\"div_fig3\">\n",
       "\n",
       "<img src=\"tmp_2304.00267/./fig_mom04.png\" alt=\"Fig12\" width=\"100%\"/>\n",
       "\n",
       "**Figure 12. -** Continued. (*fig:mom04*)\n",
       "\n",
       "</div><div id=\"qrcode\"><img src=https://api.qrserver.com/v1/create-qr-code/?size=100x100&data=\"https://arxiv.org/abs/2304.00267\"></div>"
      ],
      "text/plain": [
       "<IPython.core.display.Markdown object>"
      ]
     },
     "metadata": {},
     "output_type": "display_data"
    }
   ],
   "source": [
    "[display(Markdown(k[1])) for k in documents];"
   ]
  },
  {
   "cell_type": "markdown",
   "id": "873873a4",
   "metadata": {
    "papermill": {
     "duration": 0.004839,
     "end_time": "2023-04-04T08:57:35.804976",
     "exception": false,
     "start_time": "2023-04-04T08:57:35.800137",
     "status": "completed"
    },
    "tags": []
   },
   "source": [
    "# Create HTML index"
   ]
  },
  {
   "cell_type": "code",
   "execution_count": 9,
   "id": "cf665672",
   "metadata": {
    "execution": {
     "iopub.execute_input": "2023-04-04T08:57:35.822916Z",
     "iopub.status.busy": "2023-04-04T08:57:35.821795Z",
     "iopub.status.idle": "2023-04-04T08:57:35.832705Z",
     "shell.execute_reply": "2023-04-04T08:57:35.831679Z"
    },
    "papermill": {
     "duration": 0.024396,
     "end_time": "2023-04-04T08:57:35.834212",
     "exception": false,
     "start_time": "2023-04-04T08:57:35.809816",
     "status": "completed"
    },
    "tags": []
   },
   "outputs": [
    {
     "name": "stdout",
     "output_type": "stream",
     "text": [
      "182  publications files modified in the last 7 days.\n"
     ]
    }
   ],
   "source": [
    "from datetime import datetime, timedelta, timezone\n",
    "from glob import glob\n",
    "import os\n",
    "\n",
    "files = glob('_build/html/*.md')\n",
    "days = 7\n",
    "now = datetime.today()\n",
    "res = []\n",
    "for fk in files:\n",
    "    stat_result = os.stat(fk).st_ctime\n",
    "    modified = datetime.fromtimestamp(stat_result, tz=timezone.utc).replace(tzinfo=None)\n",
    "    delta = now.today() - modified\n",
    "    if delta <= timedelta(days=days):\n",
    "        res.append((delta.seconds, fk))\n",
    "res = [k[1] for k in reversed(sorted(res, key=lambda x:x[1]))]\n",
    "npub = len(res)\n",
    "print(len(res), f\" publications files modified in the last {days:d} days.\")\n",
    "# [ print('\\t', k) for k in res ];"
   ]
  },
  {
   "cell_type": "code",
   "execution_count": 10,
   "id": "015de740",
   "metadata": {
    "execution": {
     "iopub.execute_input": "2023-04-04T08:57:35.845634Z",
     "iopub.status.busy": "2023-04-04T08:57:35.845018Z",
     "iopub.status.idle": "2023-04-04T08:57:35.860522Z",
     "shell.execute_reply": "2023-04-04T08:57:35.860005Z"
    },
    "papermill": {
     "duration": 0.022816,
     "end_time": "2023-04-04T08:57:35.861926",
     "exception": false,
     "start_time": "2023-04-04T08:57:35.839110",
     "status": "completed"
    },
    "tags": []
   },
   "outputs": [
    {
     "name": "stdout",
     "output_type": "stream",
     "text": [
      "6  publications in the last 7 days.\n"
     ]
    }
   ],
   "source": [
    "import datetime\n",
    "from glob import glob\n",
    "\n",
    "def get_last_n_days(lst, days=1):\n",
    "    \"\"\" Get the documents from the last n days \"\"\"\n",
    "    sorted_lst = sorted(lst, key=lambda x: x[1], reverse=True)\n",
    "    for fname, date in sorted_lst:\n",
    "        if date >= str(datetime.date.today() - datetime.timedelta(days=days)):\n",
    "            yield fname\n",
    "\n",
    "def extract_appearance_dates(lst_file):\n",
    "    dates = []\n",
    "\n",
    "    def get_date(line):\n",
    "        return line\\\n",
    "            .split('Appeared on:')[-1]\\\n",
    "            .split('</mark>')[0].strip()\n",
    "\n",
    "    for fname in lst:\n",
    "        with open(fname, 'r') as f:\n",
    "            found_date = False\n",
    "            for line in f:\n",
    "                if not found_date:\n",
    "                    if \"Appeared on\" in line:\n",
    "                        found_date = True\n",
    "                        dates.append((fname, get_date(line)))\n",
    "                else:\n",
    "                    break\n",
    "    return dates\n",
    "\n",
    "from glob import glob\n",
    "lst = glob('_build/html/*md')\n",
    "days = 7\n",
    "dates = extract_appearance_dates(lst)\n",
    "res = list(get_last_n_days(dates, days))\n",
    "npub = len(res)\n",
    "print(len(res), f\" publications in the last {days:d} days.\")"
   ]
  },
  {
   "cell_type": "code",
   "execution_count": 11,
   "id": "52ca0208",
   "metadata": {
    "execution": {
     "iopub.execute_input": "2023-04-04T08:57:35.874562Z",
     "iopub.status.busy": "2023-04-04T08:57:35.874023Z",
     "iopub.status.idle": "2023-04-04T08:57:35.879490Z",
     "shell.execute_reply": "2023-04-04T08:57:35.878854Z"
    },
    "papermill": {
     "duration": 0.014062,
     "end_time": "2023-04-04T08:57:35.880941",
     "exception": false,
     "start_time": "2023-04-04T08:57:35.866879",
     "status": "completed"
    },
    "scrolled": false,
    "tags": []
   },
   "outputs": [],
   "source": [
    "def create_carousel(npub=4):\n",
    "    \"\"\" Generate the HTML code for a carousel with `npub` slides \"\"\"\n",
    "    carousel = [\"\"\"  <div class=\"carousel\" \"\"\",\n",
    "                \"\"\"       data-flickity='{ \"autoPlay\": 10000, \"adaptiveHeight\": true, \"resize\": true, \"wrapAround\": true, \"pauseAutoPlayOnHover\": true, \"groupCells\": 1 }' id=\"asyncTypeset\">\"\"\"\n",
    "                ]\n",
    "    \n",
    "    item_str = \"\"\"    <div class=\"carousel-cell\"> <div id=\"slide{k}\" class=\"md_view\">Content {k}</div> </div>\"\"\"\n",
    "    for k in range(1, npub + 1):\n",
    "        carousel.append(item_str.format(k=k))\n",
    "    carousel.append(\"  </div>\")\n",
    "    return '\\n'.join(carousel)\n",
    "\n",
    "def create_grid(npub=4):\n",
    "    \"\"\" Generate the HTML code for a flat grid with `npub` slides \"\"\"\n",
    "    grid = [\"\"\"  <div class=\"grid\"> \"\"\",\n",
    "                ]\n",
    "    \n",
    "    item_str = \"\"\"    <div class=\"grid-item\"> <div id=\"slide{k}\" class=\"md_view\">Content {k}</div> </div>\"\"\"\n",
    "    for k in range(1, npub + 1):\n",
    "        grid.append(item_str.format(k=k))\n",
    "    grid.append(\"  </div>\")\n",
    "    return '\\n'.join(grid)"
   ]
  },
  {
   "cell_type": "code",
   "execution_count": 12,
   "id": "a6eac5b6",
   "metadata": {
    "execution": {
     "iopub.execute_input": "2023-04-04T08:57:35.892473Z",
     "iopub.status.busy": "2023-04-04T08:57:35.891917Z",
     "iopub.status.idle": "2023-04-04T08:57:35.897304Z",
     "shell.execute_reply": "2023-04-04T08:57:35.896637Z"
    },
    "papermill": {
     "duration": 0.012713,
     "end_time": "2023-04-04T08:57:35.898775",
     "exception": false,
     "start_time": "2023-04-04T08:57:35.886062",
     "status": "completed"
    },
    "scrolled": false,
    "tags": []
   },
   "outputs": [],
   "source": [
    "carousel = create_carousel(npub)\n",
    "docs = ', '.join(['\"{0:s}\"'.format(k.split('/')[-1]) for k in res])\n",
    "slides = ', '.join([f'\"slide{k}\"' for k in range(1, npub + 1)])\n",
    "\n",
    "with open(\"daily_template.html\", \"r\") as tpl:\n",
    "    page = tpl.read()\n",
    "    page = page.replace(\"{%-- carousel:s --%}\", carousel)\\\n",
    "               .replace(\"{%-- suptitle:s --%}\",  \"7-day archives\" )\\\n",
    "               .replace(\"{%-- docs:s --%}\", docs)\\\n",
    "               .replace(\"{%-- slides:s --%}\", slides)\n",
    "    \n",
    "with open(\"_build/html/index_7days.html\", 'w') as fout:\n",
    "    fout.write(page)"
   ]
  },
  {
   "cell_type": "code",
   "execution_count": 13,
   "id": "adc1a1ec",
   "metadata": {
    "execution": {
     "iopub.execute_input": "2023-04-04T08:57:35.910142Z",
     "iopub.status.busy": "2023-04-04T08:57:35.909726Z",
     "iopub.status.idle": "2023-04-04T08:57:35.916629Z",
     "shell.execute_reply": "2023-04-04T08:57:35.915994Z"
    },
    "papermill": {
     "duration": 0.014165,
     "end_time": "2023-04-04T08:57:35.918085",
     "exception": false,
     "start_time": "2023-04-04T08:57:35.903920",
     "status": "completed"
    },
    "tags": []
   },
   "outputs": [
    {
     "name": "stdout",
     "output_type": "stream",
     "text": [
      "2  publications in the last day.\n"
     ]
    }
   ],
   "source": [
    "# redo for today\n",
    "days = 1\n",
    "res = list(get_last_n_days(dates, days))\n",
    "npub = len(res)\n",
    "print(len(res), f\" publications in the last day.\")\n",
    "\n",
    "carousel = create_carousel(npub)\n",
    "docs = ', '.join(['\"{0:s}\"'.format(k.split('/')[-1]) for k in res])\n",
    "slides = ', '.join([f'\"slide{k}\"' for k in range(1, npub + 1)])\n",
    "\n",
    "with open(\"daily_template.html\", \"r\") as tpl:\n",
    "    page = tpl.read()\n",
    "    page = page.replace(\"{%-- carousel:s --%}\", carousel)\\\n",
    "               .replace(\"{%-- suptitle:s --%}\",  \"Daily\" )\\\n",
    "               .replace(\"{%-- docs:s --%}\", docs)\\\n",
    "               .replace(\"{%-- slides:s --%}\", slides)\n",
    "    \n",
    "# print(carousel, docs, slides)\n",
    "# print(page)\n",
    "with open(\"_build/html/index_daily.html\", 'w') as fout:\n",
    "    fout.write(page)"
   ]
  },
  {
   "cell_type": "code",
   "execution_count": 14,
   "id": "00eece82",
   "metadata": {
    "execution": {
     "iopub.execute_input": "2023-04-04T08:57:35.929633Z",
     "iopub.status.busy": "2023-04-04T08:57:35.929206Z",
     "iopub.status.idle": "2023-04-04T08:57:35.936112Z",
     "shell.execute_reply": "2023-04-04T08:57:35.935437Z"
    },
    "papermill": {
     "duration": 0.014309,
     "end_time": "2023-04-04T08:57:35.937548",
     "exception": false,
     "start_time": "2023-04-04T08:57:35.923239",
     "status": "completed"
    },
    "scrolled": false,
    "tags": []
   },
   "outputs": [
    {
     "name": "stdout",
     "output_type": "stream",
     "text": [
      "6  6 publications selected.\n"
     ]
    }
   ],
   "source": [
    "# Create the flat grid of the last N papers (fixed number regardless of dates)\n",
    "from itertools import islice \n",
    "\n",
    "npub = 6\n",
    "res = [k[0] for k in (islice(reversed(sorted(dates, key=lambda x: x[1])), 6))]\n",
    "print(len(res), f\" {npub} publications selected.\")\n",
    "\n",
    "grid = create_grid(npub)\n",
    "docs = ', '.join(['\"{0:s}\"'.format(k.split('/')[-1]) for k in res])\n",
    "slides = ', '.join([f'\"slide{k}\"' for k in range(1, npub + 1)])\n",
    "\n",
    "with open(\"grid_template.html\", \"r\") as tpl:\n",
    "    page = tpl.read()\n",
    "    page = page.replace(\"{%-- grid-content:s --%}\", grid)\\\n",
    "               .replace(\"{%-- suptitle:s --%}\",  f\"Last {npub:,d} papers\" )\\\n",
    "               .replace(\"{%-- docs:s --%}\", docs)\\\n",
    "               .replace(\"{%-- slides:s --%}\", slides)\n",
    "    \n",
    "# print(grid, docs, slides)\n",
    "# print(page)\n",
    "with open(\"_build/html/index_npub_grid.html\", 'w') as fout:\n",
    "    fout.write(page)"
   ]
  }
 ],
 "metadata": {
  "kernelspec": {
   "display_name": "Python 3 (ipykernel)",
   "language": "python",
   "name": "python3"
  },
  "language_info": {
   "codemirror_mode": {
    "name": "ipython",
    "version": 3
   },
   "file_extension": ".py",
   "mimetype": "text/x-python",
   "name": "python",
   "nbconvert_exporter": "python",
   "pygments_lexer": "ipython3",
   "version": "3.9.16"
  },
  "papermill": {
   "default_parameters": {},
   "duration": 70.947448,
   "end_time": "2023-04-04T08:57:36.261260",
   "environment_variables": {},
   "exception": null,
   "input_path": "MPIA daily digest.ipynb",
   "output_path": "log.ipynb",
   "parameters": {},
   "start_time": "2023-04-04T08:56:25.313812",
   "version": "2.4.0"
  },
  "vscode": {
   "interpreter": {
    "hash": "aee8b7b246df8f9039afb4144a1f6fd8d2ca17a180786b69acc140d282b71a49"
   }
  },
  "widgets": {
   "application/vnd.jupyter.widget-state+json": {
    "state": {
     "16008d8f35444648a6ee973165e0667f": {
      "model_module": "@jupyter-widgets/controls",
      "model_module_version": "2.0.0",
      "model_name": "HBoxModel",
      "state": {
       "_dom_classes": [],
       "_model_module": "@jupyter-widgets/controls",
       "_model_module_version": "2.0.0",
       "_model_name": "HBoxModel",
       "_view_count": null,
       "_view_module": "@jupyter-widgets/controls",
       "_view_module_version": "2.0.0",
       "_view_name": "HBoxView",
       "box_style": "",
       "children": [
        "IPY_MODEL_7053c3d563ec4be6afff47402529a2ad",
        "IPY_MODEL_1a48849593ec470b9a0dd70a25dbb3c0",
        "IPY_MODEL_6ae996c537414ad898c521b79c0e648b"
       ],
       "layout": "IPY_MODEL_c3f8fccb35de440693b67900fbfb1bea",
       "tabbable": null,
       "tooltip": null
      }
     },
     "1a48849593ec470b9a0dd70a25dbb3c0": {
      "model_module": "@jupyter-widgets/controls",
      "model_module_version": "2.0.0",
      "model_name": "FloatProgressModel",
      "state": {
       "_dom_classes": [],
       "_model_module": "@jupyter-widgets/controls",
       "_model_module_version": "2.0.0",
       "_model_name": "FloatProgressModel",
       "_view_count": null,
       "_view_module": "@jupyter-widgets/controls",
       "_view_module_version": "2.0.0",
       "_view_name": "ProgressView",
       "bar_style": "success",
       "description": "",
       "description_allow_html": false,
       "layout": "IPY_MODEL_f42ca54ee33a4a2e8786f4aa165fc620",
       "max": 3.0,
       "min": 0.0,
       "orientation": "horizontal",
       "style": "IPY_MODEL_6bf891ed73d049e1ae19b8678a132d4a",
       "tabbable": null,
       "tooltip": null,
       "value": 3.0
      }
     },
     "3ff2b70227f74b79b20ad64942a7b300": {
      "model_module": "@jupyter-widgets/base",
      "model_module_version": "2.0.0",
      "model_name": "LayoutModel",
      "state": {
       "_model_module": "@jupyter-widgets/base",
       "_model_module_version": "2.0.0",
       "_model_name": "LayoutModel",
       "_view_count": null,
       "_view_module": "@jupyter-widgets/base",
       "_view_module_version": "2.0.0",
       "_view_name": "LayoutView",
       "align_content": null,
       "align_items": null,
       "align_self": null,
       "border_bottom": null,
       "border_left": null,
       "border_right": null,
       "border_top": null,
       "bottom": null,
       "display": null,
       "flex": null,
       "flex_flow": null,
       "grid_area": null,
       "grid_auto_columns": null,
       "grid_auto_flow": null,
       "grid_auto_rows": null,
       "grid_column": null,
       "grid_gap": null,
       "grid_row": null,
       "grid_template_areas": null,
       "grid_template_columns": null,
       "grid_template_rows": null,
       "height": null,
       "justify_content": null,
       "justify_items": null,
       "left": null,
       "margin": null,
       "max_height": null,
       "max_width": null,
       "min_height": null,
       "min_width": null,
       "object_fit": null,
       "object_position": null,
       "order": null,
       "overflow": null,
       "padding": null,
       "right": null,
       "top": null,
       "visibility": null,
       "width": null
      }
     },
     "47a2cdbf19a0497ab050f3d216316f26": {
      "model_module": "@jupyter-widgets/controls",
      "model_module_version": "2.0.0",
      "model_name": "HTMLStyleModel",
      "state": {
       "_model_module": "@jupyter-widgets/controls",
       "_model_module_version": "2.0.0",
       "_model_name": "HTMLStyleModel",
       "_view_count": null,
       "_view_module": "@jupyter-widgets/base",
       "_view_module_version": "2.0.0",
       "_view_name": "StyleView",
       "background": null,
       "description_width": "",
       "font_size": null,
       "text_color": null
      }
     },
     "6ae996c537414ad898c521b79c0e648b": {
      "model_module": "@jupyter-widgets/controls",
      "model_module_version": "2.0.0",
      "model_name": "HTMLModel",
      "state": {
       "_dom_classes": [],
       "_model_module": "@jupyter-widgets/controls",
       "_model_module_version": "2.0.0",
       "_model_name": "HTMLModel",
       "_view_count": null,
       "_view_module": "@jupyter-widgets/controls",
       "_view_module_version": "2.0.0",
       "_view_name": "HTMLView",
       "description": "",
       "description_allow_html": false,
       "layout": "IPY_MODEL_3ff2b70227f74b79b20ad64942a7b300",
       "placeholder": "​",
       "style": "IPY_MODEL_e47fd3cc68a542158515019e53b60da0",
       "tabbable": null,
       "tooltip": null,
       "value": " 3/3 [00:42&lt;00:00, 13.56s/it]"
      }
     },
     "6bf891ed73d049e1ae19b8678a132d4a": {
      "model_module": "@jupyter-widgets/controls",
      "model_module_version": "2.0.0",
      "model_name": "ProgressStyleModel",
      "state": {
       "_model_module": "@jupyter-widgets/controls",
       "_model_module_version": "2.0.0",
       "_model_name": "ProgressStyleModel",
       "_view_count": null,
       "_view_module": "@jupyter-widgets/base",
       "_view_module_version": "2.0.0",
       "_view_name": "StyleView",
       "bar_color": null,
       "description_width": ""
      }
     },
     "7053c3d563ec4be6afff47402529a2ad": {
      "model_module": "@jupyter-widgets/controls",
      "model_module_version": "2.0.0",
      "model_name": "HTMLModel",
      "state": {
       "_dom_classes": [],
       "_model_module": "@jupyter-widgets/controls",
       "_model_module_version": "2.0.0",
       "_model_name": "HTMLModel",
       "_view_count": null,
       "_view_module": "@jupyter-widgets/controls",
       "_view_module_version": "2.0.0",
       "_view_name": "HTMLView",
       "description": "",
       "description_allow_html": false,
       "layout": "IPY_MODEL_8668be48a8f7497eadfb8b87964a824e",
       "placeholder": "​",
       "style": "IPY_MODEL_47a2cdbf19a0497ab050f3d216316f26",
       "tabbable": null,
       "tooltip": null,
       "value": "100%"
      }
     },
     "8668be48a8f7497eadfb8b87964a824e": {
      "model_module": "@jupyter-widgets/base",
      "model_module_version": "2.0.0",
      "model_name": "LayoutModel",
      "state": {
       "_model_module": "@jupyter-widgets/base",
       "_model_module_version": "2.0.0",
       "_model_name": "LayoutModel",
       "_view_count": null,
       "_view_module": "@jupyter-widgets/base",
       "_view_module_version": "2.0.0",
       "_view_name": "LayoutView",
       "align_content": null,
       "align_items": null,
       "align_self": null,
       "border_bottom": null,
       "border_left": null,
       "border_right": null,
       "border_top": null,
       "bottom": null,
       "display": null,
       "flex": null,
       "flex_flow": null,
       "grid_area": null,
       "grid_auto_columns": null,
       "grid_auto_flow": null,
       "grid_auto_rows": null,
       "grid_column": null,
       "grid_gap": null,
       "grid_row": null,
       "grid_template_areas": null,
       "grid_template_columns": null,
       "grid_template_rows": null,
       "height": null,
       "justify_content": null,
       "justify_items": null,
       "left": null,
       "margin": null,
       "max_height": null,
       "max_width": null,
       "min_height": null,
       "min_width": null,
       "object_fit": null,
       "object_position": null,
       "order": null,
       "overflow": null,
       "padding": null,
       "right": null,
       "top": null,
       "visibility": null,
       "width": null
      }
     },
     "c3f8fccb35de440693b67900fbfb1bea": {
      "model_module": "@jupyter-widgets/base",
      "model_module_version": "2.0.0",
      "model_name": "LayoutModel",
      "state": {
       "_model_module": "@jupyter-widgets/base",
       "_model_module_version": "2.0.0",
       "_model_name": "LayoutModel",
       "_view_count": null,
       "_view_module": "@jupyter-widgets/base",
       "_view_module_version": "2.0.0",
       "_view_name": "LayoutView",
       "align_content": null,
       "align_items": null,
       "align_self": null,
       "border_bottom": null,
       "border_left": null,
       "border_right": null,
       "border_top": null,
       "bottom": null,
       "display": null,
       "flex": null,
       "flex_flow": null,
       "grid_area": null,
       "grid_auto_columns": null,
       "grid_auto_flow": null,
       "grid_auto_rows": null,
       "grid_column": null,
       "grid_gap": null,
       "grid_row": null,
       "grid_template_areas": null,
       "grid_template_columns": null,
       "grid_template_rows": null,
       "height": null,
       "justify_content": null,
       "justify_items": null,
       "left": null,
       "margin": null,
       "max_height": null,
       "max_width": null,
       "min_height": null,
       "min_width": null,
       "object_fit": null,
       "object_position": null,
       "order": null,
       "overflow": null,
       "padding": null,
       "right": null,
       "top": null,
       "visibility": null,
       "width": null
      }
     },
     "e47fd3cc68a542158515019e53b60da0": {
      "model_module": "@jupyter-widgets/controls",
      "model_module_version": "2.0.0",
      "model_name": "HTMLStyleModel",
      "state": {
       "_model_module": "@jupyter-widgets/controls",
       "_model_module_version": "2.0.0",
       "_model_name": "HTMLStyleModel",
       "_view_count": null,
       "_view_module": "@jupyter-widgets/base",
       "_view_module_version": "2.0.0",
       "_view_name": "StyleView",
       "background": null,
       "description_width": "",
       "font_size": null,
       "text_color": null
      }
     },
     "f42ca54ee33a4a2e8786f4aa165fc620": {
      "model_module": "@jupyter-widgets/base",
      "model_module_version": "2.0.0",
      "model_name": "LayoutModel",
      "state": {
       "_model_module": "@jupyter-widgets/base",
       "_model_module_version": "2.0.0",
       "_model_name": "LayoutModel",
       "_view_count": null,
       "_view_module": "@jupyter-widgets/base",
       "_view_module_version": "2.0.0",
       "_view_name": "LayoutView",
       "align_content": null,
       "align_items": null,
       "align_self": null,
       "border_bottom": null,
       "border_left": null,
       "border_right": null,
       "border_top": null,
       "bottom": null,
       "display": null,
       "flex": null,
       "flex_flow": null,
       "grid_area": null,
       "grid_auto_columns": null,
       "grid_auto_flow": null,
       "grid_auto_rows": null,
       "grid_column": null,
       "grid_gap": null,
       "grid_row": null,
       "grid_template_areas": null,
       "grid_template_columns": null,
       "grid_template_rows": null,
       "height": null,
       "justify_content": null,
       "justify_items": null,
       "left": null,
       "margin": null,
       "max_height": null,
       "max_width": null,
       "min_height": null,
       "min_width": null,
       "object_fit": null,
       "object_position": null,
       "order": null,
       "overflow": null,
       "padding": null,
       "right": null,
       "top": null,
       "visibility": null,
       "width": null
      }
     }
    },
    "version_major": 2,
    "version_minor": 0
   }
  }
 },
 "nbformat": 4,
 "nbformat_minor": 5
}