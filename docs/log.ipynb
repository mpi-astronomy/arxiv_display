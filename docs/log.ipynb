{
 "cells": [
  {
   "cell_type": "markdown",
   "id": "92bcb855",
   "metadata": {
    "papermill": {
     "duration": 0.003737,
     "end_time": "2024-05-23T04:08:18.574655",
     "exception": false,
     "start_time": "2024-05-23T04:08:18.570918",
     "status": "completed"
    },
    "tags": []
   },
   "source": [
    "# MPIA Arxiv on Deck 2\n",
    "\n",
    "Contains the steps to produce the paper extractions."
   ]
  },
  {
   "cell_type": "code",
   "execution_count": 1,
   "id": "3a0d6e11",
   "metadata": {
    "execution": {
     "iopub.execute_input": "2024-05-23T04:08:18.581744Z",
     "iopub.status.busy": "2024-05-23T04:08:18.581358Z",
     "iopub.status.idle": "2024-05-23T04:08:18.905912Z",
     "shell.execute_reply": "2024-05-23T04:08:18.905253Z"
    },
    "papermill": {
     "duration": 0.32981,
     "end_time": "2024-05-23T04:08:18.907551",
     "exception": false,
     "start_time": "2024-05-23T04:08:18.577741",
     "status": "completed"
    },
    "tags": []
   },
   "outputs": [],
   "source": [
    "# Imports\n",
    "import os\n",
    "from IPython.display import Markdown, display\n",
    "from tqdm.notebook import tqdm\n",
    "import warnings\n",
    "from PIL import Image \n",
    "\n",
    "# requires arxiv_on_deck_2\n",
    "\n",
    "from arxiv_on_deck_2.arxiv2 import (get_new_papers, \n",
    "                                    get_paper_from_identifier,\n",
    "                                    retrieve_document_source, \n",
    "                                    get_markdown_badge)\n",
    "from arxiv_on_deck_2 import (latex,\n",
    "                             latex_bib,\n",
    "                             mpia,\n",
    "                             highlight_authors_in_list)\n",
    "\n",
    "# Sometimes images are really big\n",
    "Image.MAX_IMAGE_PIXELS = 1000000000 "
   ]
  },
  {
   "cell_type": "code",
   "execution_count": 2,
   "id": "22aa9d44",
   "metadata": {
    "execution": {
     "iopub.execute_input": "2024-05-23T04:08:18.914889Z",
     "iopub.status.busy": "2024-05-23T04:08:18.914523Z",
     "iopub.status.idle": "2024-05-23T04:08:18.919696Z",
     "shell.execute_reply": "2024-05-23T04:08:18.919170Z"
    },
    "papermill": {
     "duration": 0.010137,
     "end_time": "2024-05-23T04:08:18.920916",
     "exception": false,
     "start_time": "2024-05-23T04:08:18.910779",
     "status": "completed"
    },
    "tags": []
   },
   "outputs": [],
   "source": [
    "# Some useful definitions.\n",
    "\n",
    "class AffiliationWarning(UserWarning):\n",
    "    pass\n",
    "\n",
    "class AffiliationError(RuntimeError):\n",
    "    pass\n",
    "\n",
    "def validation(source: str):\n",
    "    \"\"\"Raises error paper during parsing of source file\n",
    "    \n",
    "    Allows checks before parsing TeX code.\n",
    "    \n",
    "    Raises AffiliationWarning\n",
    "    \"\"\"\n",
    "    check = mpia.affiliation_verifications(source, verbose=True)\n",
    "    if check is not True:\n",
    "        raise AffiliationError(\"mpia.affiliation_verifications: \" + check)\n",
    "\n",
    "        \n",
    "warnings.simplefilter('always', AffiliationWarning)\n",
    "\n",
    "\n",
    "def get_markdown_qrcode(paper_id: str):\n",
    "    \"\"\" Generate a qrcode to the arxiv page using qrserver.com\n",
    "    \n",
    "    :param paper: Arxiv paper\n",
    "    :returns: markdown text\n",
    "    \"\"\"\n",
    "    url = r\"https://api.qrserver.com/v1/create-qr-code/?size=100x100&data=\"\n",
    "    txt = f\"\"\"<img src={url}\"https://arxiv.org/abs/{paper_id}\">\"\"\"\n",
    "    txt = '<div id=\"qrcode\">' + txt + '</div>'\n",
    "    return txt"
   ]
  },
  {
   "cell_type": "markdown",
   "id": "14bd6310",
   "metadata": {
    "papermill": {
     "duration": 0.002859,
     "end_time": "2024-05-23T04:08:18.926679",
     "exception": false,
     "start_time": "2024-05-23T04:08:18.923820",
     "status": "completed"
    },
    "tags": []
   },
   "source": [
    "## get list of arxiv paper candidates\n",
    "\n",
    "We use the MPIA mitarbeiter list webpage from mpia.de to get author names\n",
    "We then get all new papers from Arxiv and match authors"
   ]
  },
  {
   "cell_type": "code",
   "execution_count": 3,
   "id": "7ea813a8",
   "metadata": {
    "execution": {
     "iopub.execute_input": "2024-05-23T04:08:18.933794Z",
     "iopub.status.busy": "2024-05-23T04:08:18.933163Z",
     "iopub.status.idle": "2024-05-23T04:08:35.445104Z",
     "shell.execute_reply": "2024-05-23T04:08:35.444408Z"
    },
    "papermill": {
     "duration": 16.517322,
     "end_time": "2024-05-23T04:08:35.446954",
     "exception": false,
     "start_time": "2024-05-23T04:08:18.929632",
     "status": "completed"
    },
    "tags": []
   },
   "outputs": [],
   "source": [
    "# deal with the author list and edge cases of people that cannot be consistent on their name  \n",
    "\n",
    "def filter_non_scientists(name: str) -> bool:\n",
    "    \"\"\" Loose filter on expected authorships\n",
    "\n",
    "    removing IT, administration, technical staff\n",
    "    :param name: name\n",
    "    :returns: False if name is not a scientist\n",
    "    \"\"\"\n",
    "    remove_list = ['Wolf', 'Licht', 'Binroth', 'Witzel', 'Jordan',\n",
    "                   'Zähringer', 'Scheerer', 'Hoffmann', 'Düe',\n",
    "                   'Hellmich', 'Enkler-Scharpegge', 'Witte-Nguy',\n",
    "                   'Dehen', 'Beckmann', 'Jager', 'Jäger'\n",
    "                  ]\n",
    "\n",
    "    for k in remove_list:\n",
    "        if k in name:\n",
    "            return False\n",
    "    return True\n",
    "\n",
    "def add_author_to_list(author_list: list) -> list:\n",
    "    \"\"\" Add author to list if not already in list\n",
    "    \n",
    "    :param author: author name\n",
    "    :param author_list: list of authors\n",
    "    :returns: updated list of authors\n",
    "    \"\"\"\n",
    "    add_list = ['T. Henning']\n",
    "\n",
    "    for author in add_list:\n",
    "        if author not in author_list:\n",
    "            author_list.append(author)\n",
    "    return author_list\n",
    "\n",
    "# get list from MPIA website\n",
    "# filter for non-scientists (mpia.get_mpia_mitarbeiter_list() does some filtering)\n",
    "mpia_authors = [k[1] for k in mpia.get_mpia_mitarbeiter_list() if filter_non_scientists(k[1])]\n",
    "# add some missing author because of inconsistencies in their MPIA name and author name on papers\n",
    "mpia_authors = add_author_to_list(mpia_authors)"
   ]
  },
  {
   "cell_type": "code",
   "execution_count": 4,
   "id": "2645e73a",
   "metadata": {
    "execution": {
     "iopub.execute_input": "2024-05-23T04:08:35.454595Z",
     "iopub.status.busy": "2024-05-23T04:08:35.454039Z",
     "iopub.status.idle": "2024-05-23T04:08:36.134229Z",
     "shell.execute_reply": "2024-05-23T04:08:36.133611Z"
    },
    "papermill": {
     "duration": 0.685393,
     "end_time": "2024-05-23T04:08:36.135607",
     "exception": false,
     "start_time": "2024-05-23T04:08:35.450214",
     "status": "completed"
    },
    "tags": []
   },
   "outputs": [
    {
     "name": "stdout",
     "output_type": "stream",
     "text": [
      "P. Gaikwad  ->  P. Gaikwad  |  ['P. Gaikwad']\n",
      "F. Nasir  ->  F. Nasir  |  ['F. Nasir']\n",
      "E. Bañados  ->  E. Bañados  |  ['E. Bañados']\n",
      "P. Gaikwad  ->  P. Gaikwad  |  ['P. Gaikwad']\n",
      "F. Walter  ->  F. Walter  |  ['F. Walter']\n",
      "J. Mueller  ->  J. Mueller-Horn  |  ['J. Mueller']\n",
      "J. Liu  ->  J. Liu  |  ['J. Liu']\n",
      "F. Walter  ->  F. Walter  |  ['F. Walter']\n"
     ]
    },
    {
     "name": "stdout",
     "output_type": "stream",
     "text": [
      "K. Schwarz  ->  K. Schwarz  |  ['K. Schwarz']\n",
      "Arxiv has 66 new papers today\n",
      "          6 with possible author matches\n"
     ]
    }
   ],
   "source": [
    "new_papers = get_new_papers()\n",
    "# add manual references\n",
    "add_paper_refs = []\n",
    "new_papers.extend([get_paper_from_identifier(k) for k in add_paper_refs])\n",
    "\n",
    "candidates = []\n",
    "for paperk in new_papers:\n",
    "    # Check author list with their initials\n",
    "    normed_author_list = [mpia.get_initials(k) for k in paperk['authors']]\n",
    "    hl_authors = highlight_authors_in_list(normed_author_list, mpia_authors, verbose=True)\n",
    "    matches = [(hl, orig) for hl, orig in zip(hl_authors, paperk['authors']) if 'mark' in hl]\n",
    "    paperk['authors'] = hl_authors\n",
    "    if matches:\n",
    "        # only select paper if an author matched our list\n",
    "        candidates.append(paperk)\n",
    "print(\"\"\"Arxiv has {0:,d} new papers today\"\"\".format(len(new_papers)))        \n",
    "print(\"\"\"          {0:,d} with possible author matches\"\"\".format(len(candidates)))"
   ]
  },
  {
   "cell_type": "markdown",
   "id": "3543b34a",
   "metadata": {
    "papermill": {
     "duration": 0.003095,
     "end_time": "2024-05-23T04:08:36.142239",
     "exception": false,
     "start_time": "2024-05-23T04:08:36.139144",
     "status": "completed"
    },
    "tags": []
   },
   "source": [
    "# Parse sources and generate relevant outputs\n",
    "\n",
    "From the candidates, we do the following steps:\n",
    "* get their tarball from ArXiv (and extract data)\n",
    "* find the main .tex file: find one with \\documentclass{...} (sometimes it's non trivial)\n",
    "* Check affiliations with :func:`validation`, which uses :func:`mpia.affiliation_verifications`\n",
    "* If passing the affiliations: we parse the .tex source\n",
    "   * inject sub-documents into the main (flatten the main document)\n",
    "   * parse structure, extract information (title, abstract, authors, figures...)\n",
    "   * handles `\\graphicspath` if provided\n",
    "* Generate the .md document."
   ]
  },
  {
   "cell_type": "code",
   "execution_count": 5,
   "id": "9576b79e",
   "metadata": {
    "execution": {
     "iopub.execute_input": "2024-05-23T04:08:36.149656Z",
     "iopub.status.busy": "2024-05-23T04:08:36.149054Z",
     "iopub.status.idle": "2024-05-23T04:08:47.062282Z",
     "shell.execute_reply": "2024-05-23T04:08:47.061555Z"
    },
    "papermill": {
     "duration": 10.918901,
     "end_time": "2024-05-23T04:08:47.064126",
     "exception": false,
     "start_time": "2024-05-23T04:08:36.145225",
     "status": "completed"
    },
    "scrolled": false,
    "tags": []
   },
   "outputs": [
    {
     "data": {
      "application/vnd.jupyter.widget-view+json": {
       "model_id": "e17f0a26ff8e4b6186417bde4d8e46fb",
       "version_major": 2,
       "version_minor": 0
      },
      "text/plain": [
       "  0%|          | 0/6 [00:00<?, ?it/s]"
      ]
     },
     "metadata": {},
     "output_type": "display_data"
    },
    {
     "name": "stdout",
     "output_type": "stream",
     "text": [
      "Retrieving document from  https://arxiv.org/e-print/2405.12273\n"
     ]
    },
    {
     "name": "stdout",
     "output_type": "stream",
     "text": [
      "extracting tarball to tmp_2405.12273..."
     ]
    },
    {
     "name": "stdout",
     "output_type": "stream",
     "text": [
      " done.\n"
     ]
    },
    {
     "name": "stdout",
     "output_type": "stream",
     "text": [
      "P. Gaikwad  ->  P. Gaikwad  |  ['P. Gaikwad']\n"
     ]
    },
    {
     "name": "stdout",
     "output_type": "stream",
     "text": [
      "Found 31 bibliographic references in tmp_2405.12273/aanda.bbl.\n",
      "Retrieving document from  https://arxiv.org/e-print/2405.12275\n"
     ]
    },
    {
     "name": "stdout",
     "output_type": "stream",
     "text": [
      "extracting tarball to tmp_2405.12275..."
     ]
    },
    {
     "name": "stdout",
     "output_type": "stream",
     "text": [
      " done.\n"
     ]
    },
    {
     "name": "stdout",
     "output_type": "stream",
     "text": [
      "Found 75 bibliographic references in tmp_2405.12275/output.bbl.\n",
      "Retrieving document from  https://arxiv.org/e-print/2405.12281\n"
     ]
    },
    {
     "name": "stdout",
     "output_type": "stream",
     "text": [
      "extracting tarball to tmp_2405.12281... done.\n",
      "Retrieving document from  https://arxiv.org/e-print/2405.12302\n"
     ]
    },
    {
     "name": "stdout",
     "output_type": "stream",
     "text": [
      "extracting tarball to tmp_2405.12302... done.\n",
      "Retrieving document from  https://arxiv.org/e-print/2405.12529\n"
     ]
    },
    {
     "name": "stdout",
     "output_type": "stream",
     "text": [
      "extracting tarball to tmp_2405.12529..."
     ]
    },
    {
     "name": "stdout",
     "output_type": "stream",
     "text": [
      " done.\n",
      "Retrieving document from  https://arxiv.org/e-print/2405.12829\n"
     ]
    },
    {
     "name": "stderr",
     "output_type": "stream",
     "text": [
      "/tmp/ipykernel_2143/1211882699.py:51: LatexWarning: 2405.12829 did not run properly\n",
      "not a gzip file\n",
      "  warnings.warn(latex.LatexWarning(f\"{paper_id:s} did not run properly\\n\" +\n"
     ]
    }
   ],
   "source": [
    "documents = []\n",
    "failed = []\n",
    "for paper in tqdm(candidates):\n",
    "    # debug crap\n",
    "    paper['identifier'] = paper['identifier'].lower().replace('arxiv:', '').replace(r'\\n', '').strip()\n",
    "    paper_id = paper['identifier']\n",
    "    \n",
    "    folder = f'tmp_{paper_id}'\n",
    "\n",
    "    try:\n",
    "        if not os.path.isdir(folder):\n",
    "            folder = retrieve_document_source(f\"{paper_id}\", f'tmp_{paper_id}')\n",
    "        \n",
    "        try:\n",
    "            doc = latex.LatexDocument(folder, validation=validation)    \n",
    "        except AffiliationError as affilerror:\n",
    "            msg = f\"ArXiv:{paper_id:s} is not an MPIA paper... \" + str(affilerror)\n",
    "            failed.append((paper, \"affiliation error: \" + str(affilerror) ))\n",
    "            continue\n",
    "        \n",
    "        # Hack because sometimes author parsing does not work well\n",
    "        if (len(doc.authors) != len(paper['authors'])):\n",
    "            doc._authors = paper['authors']\n",
    "        else:\n",
    "            # highlight authors (FIXME: doc.highlight_authors)\n",
    "            # done on arxiv paper already\n",
    "            doc._authors = highlight_authors_in_list(\n",
    "                [mpia.get_initials(k) for k in doc.authors], \n",
    "                mpia_authors, verbose=True)\n",
    "        if (doc.abstract) in (None, ''):\n",
    "            doc._abstract = paper['abstract']\n",
    "            \n",
    "        doc.comment = (get_markdown_badge(paper_id) + \n",
    "                       \"<mark>Appeared on: \" + paper['date'] + \"</mark> - \")\n",
    "        if paper['comments']:\n",
    "            doc.comment += \" _\" + paper['comments'] + \"_\"\n",
    "        \n",
    "        full_md = doc.generate_markdown_text()\n",
    "        \n",
    "        full_md += get_markdown_qrcode(paper_id)\n",
    "        \n",
    "        # replace citations\n",
    "        try:\n",
    "            bibdata = latex_bib.LatexBib.from_doc(doc)\n",
    "            full_md = latex_bib.replace_citations(full_md, bibdata)\n",
    "        except Exception as e:\n",
    "            print(e)\n",
    "        \n",
    "        documents.append((paper_id, full_md))\n",
    "    except Exception as e:\n",
    "        warnings.warn(latex.LatexWarning(f\"{paper_id:s} did not run properly\\n\" +\n",
    "                                         str(e)\n",
    "                                        ))\n",
    "        failed.append((paper, \"latex error \" + str(e)))"
   ]
  },
  {
   "cell_type": "markdown",
   "id": "2505a25c",
   "metadata": {
    "papermill": {
     "duration": 0.003876,
     "end_time": "2024-05-23T04:08:47.072188",
     "exception": false,
     "start_time": "2024-05-23T04:08:47.068312",
     "status": "completed"
    },
    "tags": []
   },
   "source": [
    "### Export the logs\n",
    "\n",
    "Throughout, we also keep track of the logs per paper. see `logs-{today date}.md` "
   ]
  },
  {
   "cell_type": "code",
   "execution_count": 6,
   "id": "d733828a",
   "metadata": {
    "execution": {
     "iopub.execute_input": "2024-05-23T04:08:47.081796Z",
     "iopub.status.busy": "2024-05-23T04:08:47.081369Z",
     "iopub.status.idle": "2024-05-23T04:08:47.098372Z",
     "shell.execute_reply": "2024-05-23T04:08:47.097828Z"
    },
    "papermill": {
     "duration": 0.023725,
     "end_time": "2024-05-23T04:08:47.099709",
     "exception": false,
     "start_time": "2024-05-23T04:08:47.075984",
     "status": "completed"
    },
    "scrolled": false,
    "tags": []
   },
   "outputs": [
    {
     "data": {
      "text/markdown": [
       "## Successful papers"
      ],
      "text/plain": [
       "<IPython.core.display.Markdown object>"
      ]
     },
     "metadata": {},
     "output_type": "display_data"
    },
    {
     "data": {
      "text/markdown": [
       "\n",
       "|||\n",
       "|---:|:---|\n",
       "| [![arXiv](https://img.shields.io/badge/arXiv-2405.12273-b31b1b.svg)](https://arxiv.org/abs/2405.12273) | **Damping wings in the Lyman-{\\alpha} forest: a model-independent measurement of the neutral fraction at 5.4<z<6.1**  |\n",
       "|| B. Spina, et al. -- incl., <mark>P. Gaikwad</mark> |\n",
       "|*Appeared on*| *2024-05-23*|\n",
       "|*Comments*| *7 pages, 4 figures, submitted to A&A Letters*|\n",
       "|**Abstract**|            Recent observations have positioned the endpoint of the Epoch of Reionisation (EoR) at redshift $z \\sim 5.3$. However, observations of the Lyman-$\\alpha$ forest have not yet been able to discern whether reionisation occurred slowly and late, with substantial neutral hydrogen persisting at redshift $\\sim 6$, or rapidly and earlier, with the apparent late end driven by the fluctuating UV background. Gunn-Peterson (GP) absorption troughs are solid indicators that reionisation is not complete until $z=5.3$, but whether they contain significantly neutral gas has not yet been proven. We aim to answer this question by directly measuring, for the first time, the neutral hydrogen fraction ($x_\\mathrm{HI}$) at the end of the EoR ($5 \\lesssim z \\lesssim 6$) in high-redshift quasars spectra. For high neutral fractions $x_\\mathrm{HI}\\gtrsim0.1$, GP troughs exhibit damping wing (DW) absorption extending over $1000$ km s$^{-1}$ beyond the troughs. While conclusively detected in Lyman-$\\alpha$ emission lines of quasars at $z\\geq7$, DWs are challenging to observe in the general Lyman-$\\alpha$ forest due to absorption complexities and small-scale stochastic transmission features. We report the first successful identification of the stochastic DW signal adjacent to GP troughs at redshifts $z=5.6$ through careful stacking of the dark gaps in Lyman-$\\alpha$ forest. We use the signal to present a measurement of the corresponding global $x_\\mathrm{HI}=0.19\\pm0.07$ $(_{-0.16}^{+0.11})$ at $1\\sigma$ $(2\\sigma)$ at $z=5.6$ and a limit $x_\\mathrm{HI}<0.44$ at $z=5.9$. The detection of this signal demonstrates the existence of substantially neutral islands near the conclusion of the EoR, unequivocally signaling a late-and-slow reionization scenario.         |"
      ],
      "text/plain": [
       "[2405.12273] Damping wings in the Lyman-{\\alpha} forest: a model-independent measurement of the neutral fraction at 5.4<z<6.1\n",
       "\tB. Spina, et al. -- incl., <mark>P. Gaikwad</mark>"
      ]
     },
     "metadata": {},
     "output_type": "display_data"
    },
    {
     "data": {
      "text/markdown": [
       "\n",
       "|||\n",
       "|---:|:---|\n",
       "| [![arXiv](https://img.shields.io/badge/arXiv-2405.12275-b31b1b.svg)](https://arxiv.org/abs/2405.12275) | **Damping Wing-Like Features in the Stacked Ly$\\alpha$ Forest: Potential Neutral Hydrogen Islands at $z<6$**  |\n",
       "|| Y. Zhu, et al. -- incl., <mark>F. Nasir</mark>, <mark>E. Bañados</mark>, <mark>P. Gaikwad</mark>, <mark>F. Walter</mark> |\n",
       "|*Appeared on*| *2024-05-23*|\n",
       "|*Comments*| *8 pages, 5 figures, 1 table; Submitted to MNRAS Letters*|\n",
       "|**Abstract**|            Recent quasar absorption line observations suggest that reionization may end as late as $z \\approx 5.3$. As a means to search for large neutral hydrogen islands at $z<6$, we revisit long dark gaps in the Ly$\\beta$ forest in VLT/X-Shooter and Keck/ESI quasar spectra. We stack the Ly$\\alpha$ forest corresponding to the edges of these Ly$\\beta$ dark gaps and identify a damping wing-like extended absorption profile. The average redshift of the stacked forest is $z=5.8$. By comparing these observations with reionization simulations, we infer that such a damping wing-like feature can be naturally explained if these gaps are at least partially created by neutral islands. Conversely, simulated dark gaps lacking neutral hydrogen struggle to replicate the observed damping wing features. Furthermore, this damping wing-like profile implies that the volume-averaged neutral hydrogen fraction must be $\\langle x_{\\rm HI} \\rangle \\geq 6.1 \\pm 3.9\\%$ at $z = 5.8$. Our results offer robust evidence that reionization extends below $z=6$.         |"
      ],
      "text/plain": [
       "[2405.12275] Damping Wing-Like Features in the Stacked Ly$\\alpha$ Forest: Potential Neutral Hydrogen Islands at $z<6$\n",
       "\tY. Zhu, et al. -- incl., <mark>F. Nasir</mark>, <mark>E. Bañados</mark>, <mark>P. Gaikwad</mark>, <mark>F. Walter</mark>"
      ]
     },
     "metadata": {},
     "output_type": "display_data"
    },
    {
     "data": {
      "text/markdown": [
       "## Failed papers"
      ],
      "text/plain": [
       "<IPython.core.display.Markdown object>"
      ]
     },
     "metadata": {},
     "output_type": "display_data"
    },
    {
     "data": {
      "text/markdown": [
       "\n",
       "|||\n",
       "|---:|:---|\n",
       "| [![arXiv](https://img.shields.io/badge/arXiv-2405.12281-b31b1b.svg)](https://arxiv.org/abs/2405.12281) | **Detection of a 2.85 micrometer Feature on 5 Spinel-rich Asteroids from JWST**  |\n",
       "|| J. G. Barrientos, et al. -- incl., <mark>J. Mueller</mark> |\n",
       "|*Appeared on*| *2024-05-23*|\n",
       "|*Comments*| *11 pages, 5 figures, and 2 tables. Published in ApjL*|\n",
       "|**Abstract**|            Ground-based observations of `Barbarian' L-type asteroids at 1 to 2.5-$\\mu$m indicate that their near-infrared spectra are dominated by the mineral spinel, which has been attributed to a high abundance of calcium-aluminum inclusions (CAIs) -- the first solids to condense out of the protoplanetary disk during the formation of the Solar System. However, the spectral properties of these asteroids from 2.5 to 5-$\\mu$m, a wavelength region that covers signatures of hydrated minerals, water, and organics, have not yet been explored. Here, we present 2 to 5-$\\mu$m reflectance spectra of five spinel-rich asteroids obtained with the NIRSpec instrument on the James Webb Space Telescope. All five targets exhibit a $\\sim$ 2.85-$\\mu$m absorption feature with a band depth of 3-6$\\%$ that appears correlated in strength with that of the 2-$\\mu$m spinel absorption feature. The shape and position of the 2.85-$\\mu$m feature are not a good match to the 2.7-$\\mu$m feature commonly seen in carbonaceous CM meteorites or C-type asteroids. The closest spectral matches are to the Moon and Vesta, suggesting commonalities in aqueous alteration across silicate bodies, infall of hydrated material, and/or space weathering by solar wind H implantation. Lab spectra of CO/CV chondrites, CAIs, as well as the minerals cronstedtite and spinel, also show a similar feature, providing clues into the origin of the 2.85-$\\mu$m feature.         |\n",
       "|<p style=\"color:green\"> **ERROR** </p>| <p style=\"color:green\">affiliation error: mpia.affiliation_verifications: 'Heidelberg' keyword not found.</p> |"
      ],
      "text/plain": [
       "<IPython.core.display.Markdown object>"
      ]
     },
     "metadata": {},
     "output_type": "display_data"
    },
    {
     "data": {
      "text/markdown": [
       "\n",
       "|||\n",
       "|---:|:---|\n",
       "| [![arXiv](https://img.shields.io/badge/arXiv-2405.12302-b31b1b.svg)](https://arxiv.org/abs/2405.12302) | **The Significance of Void Shape: Neutrino Mass from Voronoi Void-Halos?**  |\n",
       "|| A. E. Bayer, <mark>J. Liu</mark>, C. D. Kreisch, A. Pisani |\n",
       "|*Appeared on*| *2024-05-23*|\n",
       "|*Comments*| *7 pages, 5 figures*|\n",
       "|**Abstract**|            Massive neutrinos suppress the growth of cosmic structure on nonlinear scales, motivating the use of information beyond the power spectrum to tighten constraints on the neutrino mass, for example by considering cosmic voids. It was recently proposed that constraints on neutrino mass from the halo mass function (HMF) can be improved by considering only the halos that reside within voids -- the void-halo mass function (VHMF). We extend this analysis, which made spherical assumptions about the shape of voids, to take into account the non-spherical nature of voids as defined by the Voronoi-tessellation-based void finder, VIDE. In turn, after accounting for one spurious non-spherical void, we find no evidence that the VHMF contains information beyond the HMF. Given this finding, we then introduce a novel summary statistic by splitting halos according to the emptiness of their individual environments, defined by the Voronoi cell volume each halo resides in, and combining the mass functions from each split. We name the corresponding statistic the VorHMF and find that it could provide information regarding neutrino mass beyond the HMF. Our work thus motivates the importance of accounting for the full shape of voids in future analyses, both in terms of removing outliers to achieve robust results and as an additional source of cosmological information.         |\n",
       "|<p style=\"color:green\"> **ERROR** </p>| <p style=\"color:green\">affiliation error: mpia.affiliation_verifications: 'Heidelberg' keyword not found.</p> |"
      ],
      "text/plain": [
       "<IPython.core.display.Markdown object>"
      ]
     },
     "metadata": {},
     "output_type": "display_data"
    },
    {
     "data": {
      "text/markdown": [
       "\n",
       "|||\n",
       "|---:|:---|\n",
       "| [![arXiv](https://img.shields.io/badge/arXiv-2405.12529-b31b1b.svg)](https://arxiv.org/abs/2405.12529) | **BSN: First Photometric Light Curve Analysis of Two W-type Contact Binary Systems OP Boo and V0511 Cam**  |\n",
       "|| A. Poro, et al. -- incl., <mark>F. Walter</mark> |\n",
       "|*Appeared on*| *2024-05-23*|\n",
       "|*Comments*| *5 Tables, 4 Figures, Astrophysics Journal*|\n",
       "|**Abstract**|            This study presented the first light curve analysis of the OP Boo and V0511 Cam binary stars, which was conducted in the frame of the Binary Systems of South and North (BSN) Project. Photometric ground-based observations were conducted with standard filters at two observatories in the Czech Republic. We computed a new ephemeris for each of the systems using our extracted times of minima, TESS data, and additional literature. Linear fits for O-C diagrams of both systems were considered using the Markov Chain Monte Carlo (MCMC) method. The light curves were analyzed using the Wilson-Devinney (WD) binary code combined with the Monte Carlo (MC) simulation. The light curve solutions of both target systems required a cold starspot. The absolute parameters of the systems were calculated by using a P-M parameter relationship. The positions of the systems were also depicted on the Hertzsprung-Russell (HR), P-L, logMtot-logJ0, and T-M diagrams. The second component in both systems is determined to be a more massive and hotter star. Therefore, it can be concluded that both systems are W-type contact binary systems.         |\n",
       "|<p style=\"color:green\"> **ERROR** </p>| <p style=\"color:green\">affiliation error: mpia.affiliation_verifications: 'Heidelberg' keyword not found.</p> |"
      ],
      "text/plain": [
       "<IPython.core.display.Markdown object>"
      ]
     },
     "metadata": {},
     "output_type": "display_data"
    },
    {
     "data": {
      "text/markdown": [
       "\n",
       "|||\n",
       "|---:|:---|\n",
       "| [![arXiv](https://img.shields.io/badge/arXiv-2405.12829-b31b1b.svg)](https://arxiv.org/abs/2405.12829) | **Single Aperture Large Telescope for Universe Studies (SALTUS): Science Overview**  |\n",
       "|| G. Chin, et al. -- incl., <mark>K. Schwarz</mark> |\n",
       "|*Appeared on*| *2024-05-23*|\n",
       "|*Comments*| *49 pages, 10 figures, 3 tables, submitted to SPIE JATIS*|\n",
       "|**Abstract**|            The SALTUS Probe mission will provide a powerful far-infrared (far-IR) pointed space observatory to explore our cosmic origins and the possibility of life elsewhere. The observatory employs an innovative deployable 14-m aperture, with a sunshield that will radiatively cool the off-axis primary to <45K. This cooled primary reflector works in tandem with cryogenic coherent and incoherent instruments that span the 34 to 660 micron far-IR range at both high and moderate spectral resolutions.         |\n",
       "|<p style=\"color:red\"> **ERROR** </p>| <p style=\"color:red\">latex error not a gzip file</p> |"
      ],
      "text/plain": [
       "<IPython.core.display.Markdown object>"
      ]
     },
     "metadata": {},
     "output_type": "display_data"
    }
   ],
   "source": [
    "import datetime\n",
    "today = str(datetime.date.today())\n",
    "logfile = f\"_build/html/logs/log-{today}.md\"\n",
    "\n",
    "\n",
    "with open(logfile, 'w') as logs:\n",
    "    # Success\n",
    "    logs.write(f'# Arxiv on Deck 2: Logs - {today}\\n\\n')\n",
    "    logs.write(\"\"\"* Arxiv had {0:,d} new papers\\n\"\"\".format(len(new_papers)))\n",
    "    logs.write(\"\"\"    * {0:,d} with possible author matches\\n\\n\"\"\".format(len(candidates)))\n",
    "    logs.write(\"## Sucessful papers\\n\\n\")\n",
    "    display(Markdown(\"## Successful papers\"))\n",
    "    success = [k[0] for k in documents]\n",
    "    for candid in candidates:\n",
    "        if candid['identifier'].split(':')[-1] in success:\n",
    "            display(candid)\n",
    "            logs.write(candid.generate_markdown_text() + '\\n\\n')\n",
    "\n",
    "    ## failed\n",
    "    logs.write(\"## Failed papers\\n\\n\")\n",
    "    display(Markdown(\"## Failed papers\"))\n",
    "    failed = sorted(failed, key=lambda x: x[1])\n",
    "    current_reason = \"\"\n",
    "    for paper, reason in failed:\n",
    "        if 'affiliation' in reason:\n",
    "            color = 'green'\n",
    "        else:\n",
    "            color = 'red'\n",
    "        data = Markdown(\n",
    "                paper.generate_markdown_text() + \n",
    "                f'\\n|<p style=\"color:{color:s}\"> **ERROR** </p>| <p style=\"color:{color:s}\">{reason:s}</p> |'\n",
    "               )\n",
    "        if reason != current_reason:\n",
    "            logs.write(f'### {reason:s} \\n\\n')\n",
    "            current_reason = reason\n",
    "        logs.write(data.data + '\\n\\n')\n",
    "        \n",
    "        # only display here the important errors (all in logs)\n",
    "        # if color in ('red',):\n",
    "        display(data)"
   ]
  },
  {
   "cell_type": "markdown",
   "id": "472d20ee",
   "metadata": {
    "papermill": {
     "duration": 0.004524,
     "end_time": "2024-05-23T04:08:47.108849",
     "exception": false,
     "start_time": "2024-05-23T04:08:47.104325",
     "status": "completed"
    },
    "tags": []
   },
   "source": [
    "## Export documents\n",
    "\n",
    "We now write the .md files and export relevant images"
   ]
  },
  {
   "cell_type": "code",
   "execution_count": 7,
   "id": "d426aed9",
   "metadata": {
    "execution": {
     "iopub.execute_input": "2024-05-23T04:08:47.119032Z",
     "iopub.status.busy": "2024-05-23T04:08:47.118617Z",
     "iopub.status.idle": "2024-05-23T04:08:47.125005Z",
     "shell.execute_reply": "2024-05-23T04:08:47.124375Z"
    },
    "papermill": {
     "duration": 0.013057,
     "end_time": "2024-05-23T04:08:47.126435",
     "exception": false,
     "start_time": "2024-05-23T04:08:47.113378",
     "status": "completed"
    },
    "tags": []
   },
   "outputs": [],
   "source": [
    "def export_markdown_summary(md: str, md_fname:str, directory: str):\n",
    "    \"\"\"Export MD document and associated relevant images\"\"\"\n",
    "    import os\n",
    "    import shutil\n",
    "    import re\n",
    "\n",
    "    if (os.path.exists(directory) and not os.path.isdir(directory)):\n",
    "        raise RuntimeError(f\"a non-directory file exists with name {directory:s}\")\n",
    "\n",
    "    if (not os.path.exists(directory)):\n",
    "        print(f\"creating directory {directory:s}\")\n",
    "        os.mkdir(directory)\n",
    "\n",
    "    fig_fnames = (re.compile(r'\\[Fig.*\\]\\((.*)\\)').findall(md) + \n",
    "                  re.compile(r'\\<img src=\"([^>\\s]*)\"[^>]*/>').findall(md))\n",
    "    for fname in fig_fnames:\n",
    "        if 'http' in fname:\n",
    "            # No need to copy online figures\n",
    "            continue\n",
    "        destdir = os.path.join(directory, os.path.dirname(fname))\n",
    "        destfname = os.path.join(destdir, os.path.basename(fname))\n",
    "        try:\n",
    "            os.makedirs(destdir)\n",
    "        except FileExistsError:\n",
    "            pass\n",
    "        shutil.copy(fname, destfname)\n",
    "    with open(os.path.join(directory, md_fname), 'w') as fout:\n",
    "        fout.write(md)\n",
    "    print(\"exported in \", os.path.join(directory, md_fname))\n",
    "    [print(\"    + \" + os.path.join(directory,fk)) for fk in fig_fnames]"
   ]
  },
  {
   "cell_type": "code",
   "execution_count": 8,
   "id": "014d04a4",
   "metadata": {
    "execution": {
     "iopub.execute_input": "2024-05-23T04:08:47.136597Z",
     "iopub.status.busy": "2024-05-23T04:08:47.136222Z",
     "iopub.status.idle": "2024-05-23T04:08:47.142320Z",
     "shell.execute_reply": "2024-05-23T04:08:47.141690Z"
    },
    "papermill": {
     "duration": 0.012576,
     "end_time": "2024-05-23T04:08:47.143647",
     "exception": false,
     "start_time": "2024-05-23T04:08:47.131071",
     "status": "completed"
    },
    "tags": []
   },
   "outputs": [
    {
     "name": "stdout",
     "output_type": "stream",
     "text": [
      "exported in  _build/html/2405.12273.md\n",
      "    + _build/html/tmp_2405.12273/./plot2.png\n",
      "    + _build/html/tmp_2405.12273/./plot1.png\n",
      "    + _build/html/tmp_2405.12273/./fig3_2p_new.png\n",
      "exported in  _build/html/2405.12275.md\n"
     ]
    }
   ],
   "source": [
    "for paper_id, md in documents:\n",
    "    export_markdown_summary(md, f\"{paper_id:s}.md\", '_build/html/')"
   ]
  },
  {
   "cell_type": "markdown",
   "id": "f087a0a7",
   "metadata": {
    "papermill": {
     "duration": 0.004597,
     "end_time": "2024-05-23T04:08:47.152914",
     "exception": false,
     "start_time": "2024-05-23T04:08:47.148317",
     "status": "completed"
    },
    "tags": []
   },
   "source": [
    "## Display the papers\n",
    "\n",
    "Not necessary but allows for a quick check."
   ]
  },
  {
   "cell_type": "code",
   "execution_count": 9,
   "id": "fd25f625",
   "metadata": {
    "execution": {
     "iopub.execute_input": "2024-05-23T04:08:47.163360Z",
     "iopub.status.busy": "2024-05-23T04:08:47.162974Z",
     "iopub.status.idle": "2024-05-23T04:08:47.168851Z",
     "shell.execute_reply": "2024-05-23T04:08:47.168220Z"
    },
    "papermill": {
     "duration": 0.012669,
     "end_time": "2024-05-23T04:08:47.170278",
     "exception": false,
     "start_time": "2024-05-23T04:08:47.157609",
     "status": "completed"
    },
    "scrolled": false,
    "tags": []
   },
   "outputs": [
    {
     "data": {
      "text/markdown": [
       "<div class=\"macros\" style=\"visibility:hidden;\">\n",
       "$\\newcommand{\\ensuremath}{}$\n",
       "$\\newcommand{\\xspace}{}$\n",
       "$\\newcommand{\\object}[1]{\\texttt{#1}}$\n",
       "$\\newcommand{\\farcs}{{.}''}$\n",
       "$\\newcommand{\\farcm}{{.}'}$\n",
       "$\\newcommand{\\arcsec}{''}$\n",
       "$\\newcommand{\\arcmin}{'}$\n",
       "$\\newcommand{\\ion}[2]{#1#2}$\n",
       "$\\newcommand{\\textsc}[1]{\\textrm{#1}}$\n",
       "$\\newcommand{\\hl}[1]{\\textrm{#1}}$\n",
       "$\\newcommand{\\footnote}[1]{}$\n",
       "$\\newcommand{\\PG}[1]{{\\color{red} \\bf  #1}}$\n",
       "$\\newcommand{\\orcidauthorA}{0000-0003-1634-1283}$\n",
       "$\\newcommand{\\orcidauthorB}{0000-0001-8582-7012}$\n",
       "$\\newcommand{\\orcidauthorC}{0000-0003-0821-3644}$\n",
       "$\\newcommand{\\orcidauthorD}{0000-0002-2423-7905}$\n",
       "$\\newcommand{\\orcidauthorE}{0000-0003-3307-7525}$</div>\n",
       "\n",
       "\n",
       "\n",
       "<div id=\"title\">\n",
       "\n",
       "# Damping wings in the Lyman-$\\alpha$ forest\n",
       "\n",
       "</div>\n",
       "<div id=\"comments\">\n",
       "\n",
       "[![arXiv](https://img.shields.io/badge/arXiv-2405.12273-b31b1b.svg)](https://arxiv.org/abs/2405.12273)<mark>Appeared on: 2024-05-23</mark> -  _7 pages, 4 figures, submitted to A&A Letters_\n",
       "\n",
       "</div>\n",
       "<div id=\"authors\">\n",
       "\n",
       "B. Spina, et al. -- incl., <mark>P. Gaikwad</mark>\n",
       "\n",
       "</div>\n",
       "<div id=\"abstract\">\n",
       "\n",
       "**Abstract:** Recent observations have positioned the endpoint of the Epoch of Reionisation (EoR) at redshift $z \\sim 5.3$ . However, observations of the Lyman- $\\alpha$ forest have not yet been able to discern whether reionisation occurred slowly and late, with substantial neutral hydrogen    persisting at redshift $\\sim 6$ , or rapidly and earlier, with the apparent late end driven by the fluctuating UV background.    Gunn-Peterson (GP) absorption troughs    are solid indicators that reionisation is not complete until $z=5.3$ , but whether they contain significantly neutral gas has not yet been proven. We aim to answer this question by directly measuring, for the first time, the neutral hydrogen fraction ( $x_\\mathrm{HI}$ ) at the end of the EoR ( $5 \\lesssim z \\lesssim 6$ ) in high-redshift quasars spectra. For high neutral fractions $x_\\mathrm{HI}\\gtrsim0.1$ , GP troughs exhibit damping wing (DW) absorption extending over $1000$ km s $^{-1}$ beyond the troughs. While conclusively detected in Lyman- $\\alpha$ emission lines of quasars at $z\\geq7$ , DWs are challenging to observe in the general Lyman- $\\alpha$ forest due to absorption complexities and small-scale stochastic transmission features. We report the first successful identification of the stochastic DW signal adjacent to GP troughs at redshifts $z=5.6$ through careful stacking of the dark gaps in Lyman- $\\alpha$ forest. We use the signal to present a measurement of the corresponding global $x_\\mathrm{HI}=0.19\\pm0.07$ $(_{-0.16}^{+0.11})$ at $1\\sigma$ $(2\\sigma)$ at $z=5.6$ and a limit $x_\\mathrm{HI}<0.44$ at $z=5.9$ . The detection of this signal demonstrates the existence of substantially neutral islands near the conclusion of the EoR, unequivocally signaling a late-and-slow reionization scenario.\n",
       "\n",
       "</div>\n",
       "\n",
       "<div id=\"div_fig1\">\n",
       "\n",
       "<img src=\"tmp_2405.12273/./plot2.png\" alt=\"Fig2\" width=\"100%\"/>\n",
       "\n",
       "**Figure 2. -** Stacked spectrum around long and short gaps for two redshift bins (top: $z=5.6$, bottom: $z=5.9$). In each panel, the red and blue curves depict the stacked profiles of long and short gaps, respectively, with their widths being the uncertainties from bootstrap resampling. The continuous light-blue line and the dotted orange line indicate the best-fit transmission model fit to the stack around long gaps for the step-function model and the piece-wise model, respectively.  Long gaps are defined as those with velocity widths greater than $340$ km s$^{-1}$, while short gaps have lengths under $200$ km s$^{-1}$. The curves in the bottom panel show the models which are permitted at at $2\\sigma$ level. (*plot2*)\n",
       "\n",
       "</div>\n",
       "<div id=\"div_fig2\">\n",
       "\n",
       "<img src=\"tmp_2405.12273/./plot1.png\" alt=\"Fig1\" width=\"100%\"/>\n",
       "\n",
       "**Figure 1. -** Example of the gap-finding procedure for the sight-line towards quasar ATLASJ029.9915-36.5658. The Ly$\\alpha$(bottom) and Ly$\\beta$(top) spectra are depicted along with identified gaps (colored bands). Contamination from metal systems are also displayed (blue vertical lines) and the corresponding gaps removed (gray-strip bands). In this example, a high-ionisation metal system potentially affecting the Ly$\\alpha$ forest is identified, leading to the removal of $3$ joint gaps. (*plot1*)\n",
       "\n",
       "</div>\n",
       "<div id=\"div_fig3\">\n",
       "\n",
       "<img src=\"tmp_2405.12273/./fig3_2p_new.png\" alt=\"Fig3\" width=\"100%\"/>\n",
       "\n",
       "**Figure 3. -** Constraints on the neutral fraction across cosmic time. The coloured solid and dashed boxes indicate our $1\\sigma$ and $2\\sigma$ constraints, respectively. Right: the constraints obtained in this work, in the two redshift bins and with the two $x_\\mathrm{HI}$-$L$ relations proposed. Left: existing constraints from the literature: [McGreer and Mesinger (2015)](), [Greig, et. al (2017)](), [Greig, Mesinger and Bañados (2019)](), [Davies, Hennawi and Bañados (2018)](), [Mason, Treu and Dijkstra (2018)](), [Mason, Fontana and Treu (2019)](),   [Wang, Davies and Yang (2020)](), [Yang, Wang and Fan (2020)](), [Yang, Wang and Fan (2020)](),  [Zhu, Becker and Bosman (2022)](), [Bosman, Davies and Becker (2022)](), [Jin, Yang and Fan (2023)](), [Zhu, Becker and Bosman (2024)](). Some of the literature points have been slightly shifted in redshift, and the constraints of [Greig, Mesinger and Bañados (2024)]() have been combined for improved clarity. (*plot3*)\n",
       "\n",
       "</div><div id=\"qrcode\"><img src=https://api.qrserver.com/v1/create-qr-code/?size=100x100&data=\"https://arxiv.org/abs/2405.12273\"></div>"
      ],
      "text/plain": [
       "<IPython.core.display.Markdown object>"
      ]
     },
     "metadata": {},
     "output_type": "display_data"
    },
    {
     "data": {
      "text/markdown": [
       ". Here, we include *all* dark gaps regardless of their individual neutral hydrogen fraction. We display the shape of the mock stacked profiles from $z=5.4$ and 6.2 snapshots just for illustration purpose because their mean forest transmission and dark gap length distribution are significantly different from those at $z=5.8$, and different flux thresholds for dark gap detection are used at these redshifts.\n",
       "    **(b)**$v_{\\rm ext}$ distribution from the patchy reionization simulation at $z=5.8$. The observed damping wing-like profile is consistent with the model prediction that has $\\langle x_{\\rm HI} \\rangle = 7.4\\%$.\n",
       "     (*fig:cmp2*)\n",
       "\n",
       "</div><div id=\"qrcode\"><img src=https://api.qrserver.com/v1/create-qr-code/?size=100x100&data=\"https://arxiv.org/abs/2405.12275\"></div>"
      ],
      "text/plain": [
       "<IPython.core.display.Markdown object>"
      ]
     },
     "metadata": {},
     "output_type": "display_data"
    }
   ],
   "source": [
    "[display(Markdown(k[1])) for k in documents];"
   ]
  },
  {
   "cell_type": "markdown",
   "id": "873873a4",
   "metadata": {
    "papermill": {
     "duration": 0.004994,
     "end_time": "2024-05-23T04:08:47.180335",
     "exception": false,
     "start_time": "2024-05-23T04:08:47.175341",
     "status": "completed"
    },
    "tags": []
   },
   "source": [
    "# Create HTML index"
   ]
  },
  {
   "cell_type": "code",
   "execution_count": 10,
   "id": "cf665672",
   "metadata": {
    "execution": {
     "iopub.execute_input": "2024-05-23T04:08:47.191123Z",
     "iopub.status.busy": "2024-05-23T04:08:47.190923Z",
     "iopub.status.idle": "2024-05-23T04:08:47.197991Z",
     "shell.execute_reply": "2024-05-23T04:08:47.197327Z"
    },
    "papermill": {
     "duration": 0.01432,
     "end_time": "2024-05-23T04:08:47.199617",
     "exception": false,
     "start_time": "2024-05-23T04:08:47.185297",
     "status": "completed"
    },
    "tags": []
   },
   "outputs": [
    {
     "name": "stdout",
     "output_type": "stream",
     "text": [
      "77  publications files modified in the last 7 days.\n"
     ]
    }
   ],
   "source": [
    "from datetime import datetime, timedelta, timezone\n",
    "from glob import glob\n",
    "import os\n",
    "\n",
    "files = glob('_build/html/*.md')\n",
    "days = 7\n",
    "now = datetime.today()\n",
    "res = []\n",
    "for fk in files:\n",
    "    stat_result = os.stat(fk).st_ctime\n",
    "    modified = datetime.fromtimestamp(stat_result, tz=timezone.utc).replace(tzinfo=None)\n",
    "    delta = now.today() - modified\n",
    "    if delta <= timedelta(days=days):\n",
    "        res.append((delta.seconds, fk))\n",
    "res = [k[1] for k in reversed(sorted(res, key=lambda x:x[1]))]\n",
    "npub = len(res)\n",
    "print(len(res), f\" publications files modified in the last {days:d} days.\")\n",
    "# [ print('\\t', k) for k in res ];"
   ]
  },
  {
   "cell_type": "code",
   "execution_count": 11,
   "id": "015de740",
   "metadata": {
    "execution": {
     "iopub.execute_input": "2024-05-23T04:08:47.210693Z",
     "iopub.status.busy": "2024-05-23T04:08:47.210338Z",
     "iopub.status.idle": "2024-05-23T04:08:47.220867Z",
     "shell.execute_reply": "2024-05-23T04:08:47.220342Z"
    },
    "papermill": {
     "duration": 0.017493,
     "end_time": "2024-05-23T04:08:47.222211",
     "exception": false,
     "start_time": "2024-05-23T04:08:47.204718",
     "status": "completed"
    },
    "tags": []
   },
   "outputs": [
    {
     "name": "stdout",
     "output_type": "stream",
     "text": [
      "5  publications in the last 7 days.\n"
     ]
    }
   ],
   "source": [
    "import datetime\n",
    "from glob import glob\n",
    "\n",
    "def get_last_n_days(lst, days=1):\n",
    "    \"\"\" Get the documents from the last n days \"\"\"\n",
    "    sorted_lst = sorted(lst, key=lambda x: x[1], reverse=True)\n",
    "    for fname, date in sorted_lst:\n",
    "        if date >= str(datetime.date.today() - datetime.timedelta(days=days)):\n",
    "            yield fname\n",
    "\n",
    "def extract_appearance_dates(lst_file):\n",
    "    dates = []\n",
    "\n",
    "    def get_date(line):\n",
    "        return line\\\n",
    "            .split('Appeared on:')[-1]\\\n",
    "            .split('</mark>')[0].strip()\n",
    "\n",
    "    for fname in lst:\n",
    "        with open(fname, 'r') as f:\n",
    "            found_date = False\n",
    "            for line in f:\n",
    "                if not found_date:\n",
    "                    if \"Appeared on\" in line:\n",
    "                        found_date = True\n",
    "                        dates.append((fname, get_date(line)))\n",
    "                else:\n",
    "                    break\n",
    "    return dates\n",
    "\n",
    "from glob import glob\n",
    "lst = glob('_build/html/*md')\n",
    "days = 7\n",
    "dates = extract_appearance_dates(lst)\n",
    "res = list(get_last_n_days(dates, days))\n",
    "npub = len(res)\n",
    "print(len(res), f\" publications in the last {days:d} days.\")"
   ]
  },
  {
   "cell_type": "code",
   "execution_count": 12,
   "id": "52ca0208",
   "metadata": {
    "execution": {
     "iopub.execute_input": "2024-05-23T04:08:47.233593Z",
     "iopub.status.busy": "2024-05-23T04:08:47.233077Z",
     "iopub.status.idle": "2024-05-23T04:08:47.238054Z",
     "shell.execute_reply": "2024-05-23T04:08:47.237416Z"
    },
    "papermill": {
     "duration": 0.012122,
     "end_time": "2024-05-23T04:08:47.239467",
     "exception": false,
     "start_time": "2024-05-23T04:08:47.227345",
     "status": "completed"
    },
    "scrolled": false,
    "tags": []
   },
   "outputs": [],
   "source": [
    "def create_carousel(npub=4):\n",
    "    \"\"\" Generate the HTML code for a carousel with `npub` slides \"\"\"\n",
    "    carousel = [\"\"\"  <div class=\"carousel\" \"\"\",\n",
    "                \"\"\"       data-flickity='{ \"autoPlay\": 10000, \"adaptiveHeight\": true, \"resize\": true, \"wrapAround\": true, \"pauseAutoPlayOnHover\": true, \"groupCells\": 1 }' id=\"asyncTypeset\">\"\"\"\n",
    "                ]\n",
    "    \n",
    "    item_str = \"\"\"    <div class=\"carousel-cell\"> <div id=\"slide{k}\" class=\"md_view\">Content {k}</div> </div>\"\"\"\n",
    "    for k in range(1, npub + 1):\n",
    "        carousel.append(item_str.format(k=k))\n",
    "    carousel.append(\"  </div>\")\n",
    "    return '\\n'.join(carousel)\n",
    "\n",
    "def create_grid(npub=4):\n",
    "    \"\"\" Generate the HTML code for a flat grid with `npub` slides \"\"\"\n",
    "    grid = [\"\"\"  <div class=\"grid\"> \"\"\",\n",
    "                ]\n",
    "    \n",
    "    item_str = \"\"\"    <div class=\"grid-item\"> <div id=\"slide{k}\" class=\"md_view\">Content {k}</div> </div>\"\"\"\n",
    "    for k in range(1, npub + 1):\n",
    "        grid.append(item_str.format(k=k))\n",
    "    grid.append(\"  </div>\")\n",
    "    return '\\n'.join(grid)"
   ]
  },
  {
   "cell_type": "code",
   "execution_count": 13,
   "id": "a6eac5b6",
   "metadata": {
    "execution": {
     "iopub.execute_input": "2024-05-23T04:08:47.250579Z",
     "iopub.status.busy": "2024-05-23T04:08:47.250341Z",
     "iopub.status.idle": "2024-05-23T04:08:47.255480Z",
     "shell.execute_reply": "2024-05-23T04:08:47.254832Z"
    },
    "papermill": {
     "duration": 0.012241,
     "end_time": "2024-05-23T04:08:47.256826",
     "exception": false,
     "start_time": "2024-05-23T04:08:47.244585",
     "status": "completed"
    },
    "scrolled": false,
    "tags": []
   },
   "outputs": [],
   "source": [
    "carousel = create_carousel(npub)\n",
    "docs = ', '.join(['\"{0:s}\"'.format(k.split('/')[-1]) for k in res])\n",
    "slides = ', '.join([f'\"slide{k}\"' for k in range(1, npub + 1)])\n",
    "\n",
    "with open(\"daily_template.html\", \"r\") as tpl:\n",
    "    page = tpl.read()\n",
    "    page = page.replace(\"{%-- carousel:s --%}\", carousel)\\\n",
    "               .replace(\"{%-- suptitle:s --%}\",  \"7-day archives\" )\\\n",
    "               .replace(\"{%-- docs:s --%}\", docs)\\\n",
    "               .replace(\"{%-- slides:s --%}\", slides)\n",
    "    \n",
    "with open(\"_build/html/index_7days.html\", 'w') as fout:\n",
    "    fout.write(page)"
   ]
  },
  {
   "cell_type": "code",
   "execution_count": 14,
   "id": "adc1a1ec",
   "metadata": {
    "execution": {
     "iopub.execute_input": "2024-05-23T04:08:47.268363Z",
     "iopub.status.busy": "2024-05-23T04:08:47.267962Z",
     "iopub.status.idle": "2024-05-23T04:08:47.273809Z",
     "shell.execute_reply": "2024-05-23T04:08:47.273255Z"
    },
    "papermill": {
     "duration": 0.012896,
     "end_time": "2024-05-23T04:08:47.275087",
     "exception": false,
     "start_time": "2024-05-23T04:08:47.262191",
     "status": "completed"
    },
    "tags": []
   },
   "outputs": [
    {
     "name": "stdout",
     "output_type": "stream",
     "text": [
      "1  publications in the last day.\n"
     ]
    }
   ],
   "source": [
    "# redo for today\n",
    "days = 1\n",
    "res = list(get_last_n_days(dates, days))\n",
    "npub = len(res)\n",
    "print(len(res), f\" publications in the last day.\")\n",
    "\n",
    "carousel = create_carousel(npub)\n",
    "docs = ', '.join(['\"{0:s}\"'.format(k.split('/')[-1]) for k in res])\n",
    "slides = ', '.join([f'\"slide{k}\"' for k in range(1, npub + 1)])\n",
    "\n",
    "with open(\"daily_template.html\", \"r\") as tpl:\n",
    "    page = tpl.read()\n",
    "    page = page.replace(\"{%-- carousel:s --%}\", carousel)\\\n",
    "               .replace(\"{%-- suptitle:s --%}\",  \"Daily\" )\\\n",
    "               .replace(\"{%-- docs:s --%}\", docs)\\\n",
    "               .replace(\"{%-- slides:s --%}\", slides)\n",
    "    \n",
    "# print(carousel, docs, slides)\n",
    "# print(page)\n",
    "with open(\"_build/html/index_daily.html\", 'w') as fout:\n",
    "    fout.write(page)"
   ]
  },
  {
   "cell_type": "code",
   "execution_count": 15,
   "id": "00eece82",
   "metadata": {
    "execution": {
     "iopub.execute_input": "2024-05-23T04:08:47.286792Z",
     "iopub.status.busy": "2024-05-23T04:08:47.286368Z",
     "iopub.status.idle": "2024-05-23T04:08:47.292536Z",
     "shell.execute_reply": "2024-05-23T04:08:47.291955Z"
    },
    "papermill": {
     "duration": 0.013464,
     "end_time": "2024-05-23T04:08:47.293873",
     "exception": false,
     "start_time": "2024-05-23T04:08:47.280409",
     "status": "completed"
    },
    "scrolled": false,
    "tags": []
   },
   "outputs": [
    {
     "name": "stdout",
     "output_type": "stream",
     "text": [
      "6  6 publications selected.\n"
     ]
    }
   ],
   "source": [
    "# Create the flat grid of the last N papers (fixed number regardless of dates)\n",
    "from itertools import islice \n",
    "\n",
    "npub = 6\n",
    "res = [k[0] for k in (islice(reversed(sorted(dates, key=lambda x: x[1])), 6))]\n",
    "print(len(res), f\" {npub} publications selected.\")\n",
    "\n",
    "grid = create_grid(npub)\n",
    "docs = ', '.join(['\"{0:s}\"'.format(k.split('/')[-1]) for k in res])\n",
    "slides = ', '.join([f'\"slide{k}\"' for k in range(1, npub + 1)])\n",
    "\n",
    "with open(\"grid_template.html\", \"r\") as tpl:\n",
    "    page = tpl.read()\n",
    "    page = page.replace(\"{%-- grid-content:s --%}\", grid)\\\n",
    "               .replace(\"{%-- suptitle:s --%}\",  f\"Last {npub:,d} papers\" )\\\n",
    "               .replace(\"{%-- docs:s --%}\", docs)\\\n",
    "               .replace(\"{%-- slides:s --%}\", slides)\n",
    "    \n",
    "# print(grid, docs, slides)\n",
    "# print(page)\n",
    "with open(\"_build/html/index_npub_grid.html\", 'w') as fout:\n",
    "    fout.write(page)"
   ]
  }
 ],
 "metadata": {
  "kernelspec": {
   "display_name": "Python 3 (ipykernel)",
   "language": "python",
   "name": "python3"
  },
  "language_info": {
   "codemirror_mode": {
    "name": "ipython",
    "version": 3
   },
   "file_extension": ".py",
   "mimetype": "text/x-python",
   "name": "python",
   "nbconvert_exporter": "python",
   "pygments_lexer": "ipython3",
   "version": "3.9.19"
  },
  "papermill": {
   "default_parameters": {},
   "duration": 29.793131,
   "end_time": "2024-05-23T04:08:47.515553",
   "environment_variables": {},
   "exception": null,
   "input_path": "MPIA daily digest.ipynb",
   "output_path": "log.ipynb",
   "parameters": {},
   "start_time": "2024-05-23T04:08:17.722422",
   "version": "2.6.0"
  },
  "vscode": {
   "interpreter": {
    "hash": "aee8b7b246df8f9039afb4144a1f6fd8d2ca17a180786b69acc140d282b71a49"
   }
  },
  "widgets": {
   "application/vnd.jupyter.widget-state+json": {
    "state": {
     "023be677474244a6b0fdf75c04b52e21": {
      "model_module": "@jupyter-widgets/base",
      "model_module_version": "2.0.0",
      "model_name": "LayoutModel",
      "state": {
       "_model_module": "@jupyter-widgets/base",
       "_model_module_version": "2.0.0",
       "_model_name": "LayoutModel",
       "_view_count": null,
       "_view_module": "@jupyter-widgets/base",
       "_view_module_version": "2.0.0",
       "_view_name": "LayoutView",
       "align_content": null,
       "align_items": null,
       "align_self": null,
       "border_bottom": null,
       "border_left": null,
       "border_right": null,
       "border_top": null,
       "bottom": null,
       "display": null,
       "flex": null,
       "flex_flow": null,
       "grid_area": null,
       "grid_auto_columns": null,
       "grid_auto_flow": null,
       "grid_auto_rows": null,
       "grid_column": null,
       "grid_gap": null,
       "grid_row": null,
       "grid_template_areas": null,
       "grid_template_columns": null,
       "grid_template_rows": null,
       "height": null,
       "justify_content": null,
       "justify_items": null,
       "left": null,
       "margin": null,
       "max_height": null,
       "max_width": null,
       "min_height": null,
       "min_width": null,
       "object_fit": null,
       "object_position": null,
       "order": null,
       "overflow": null,
       "padding": null,
       "right": null,
       "top": null,
       "visibility": null,
       "width": null
      }
     },
     "2ab36bb4b8ec4a1e9cdfa2366491680f": {
      "model_module": "@jupyter-widgets/base",
      "model_module_version": "2.0.0",
      "model_name": "LayoutModel",
      "state": {
       "_model_module": "@jupyter-widgets/base",
       "_model_module_version": "2.0.0",
       "_model_name": "LayoutModel",
       "_view_count": null,
       "_view_module": "@jupyter-widgets/base",
       "_view_module_version": "2.0.0",
       "_view_name": "LayoutView",
       "align_content": null,
       "align_items": null,
       "align_self": null,
       "border_bottom": null,
       "border_left": null,
       "border_right": null,
       "border_top": null,
       "bottom": null,
       "display": null,
       "flex": null,
       "flex_flow": null,
       "grid_area": null,
       "grid_auto_columns": null,
       "grid_auto_flow": null,
       "grid_auto_rows": null,
       "grid_column": null,
       "grid_gap": null,
       "grid_row": null,
       "grid_template_areas": null,
       "grid_template_columns": null,
       "grid_template_rows": null,
       "height": null,
       "justify_content": null,
       "justify_items": null,
       "left": null,
       "margin": null,
       "max_height": null,
       "max_width": null,
       "min_height": null,
       "min_width": null,
       "object_fit": null,
       "object_position": null,
       "order": null,
       "overflow": null,
       "padding": null,
       "right": null,
       "top": null,
       "visibility": null,
       "width": null
      }
     },
     "3df565e1da134aeba5eec8dafba0bbca": {
      "model_module": "@jupyter-widgets/controls",
      "model_module_version": "2.0.0",
      "model_name": "FloatProgressModel",
      "state": {
       "_dom_classes": [],
       "_model_module": "@jupyter-widgets/controls",
       "_model_module_version": "2.0.0",
       "_model_name": "FloatProgressModel",
       "_view_count": null,
       "_view_module": "@jupyter-widgets/controls",
       "_view_module_version": "2.0.0",
       "_view_name": "ProgressView",
       "bar_style": "success",
       "description": "",
       "description_allow_html": false,
       "layout": "IPY_MODEL_e7a4310ef1b143e788304ec13592b60b",
       "max": 6.0,
       "min": 0.0,
       "orientation": "horizontal",
       "style": "IPY_MODEL_a739cfeaac8a496b921df43a4479a3fa",
       "tabbable": null,
       "tooltip": null,
       "value": 6.0
      }
     },
     "a648211e41b34f5f9569f0e01a0447cd": {
      "model_module": "@jupyter-widgets/controls",
      "model_module_version": "2.0.0",
      "model_name": "HTMLStyleModel",
      "state": {
       "_model_module": "@jupyter-widgets/controls",
       "_model_module_version": "2.0.0",
       "_model_name": "HTMLStyleModel",
       "_view_count": null,
       "_view_module": "@jupyter-widgets/base",
       "_view_module_version": "2.0.0",
       "_view_name": "StyleView",
       "background": null,
       "description_width": "",
       "font_size": null,
       "text_color": null
      }
     },
     "a739cfeaac8a496b921df43a4479a3fa": {
      "model_module": "@jupyter-widgets/controls",
      "model_module_version": "2.0.0",
      "model_name": "ProgressStyleModel",
      "state": {
       "_model_module": "@jupyter-widgets/controls",
       "_model_module_version": "2.0.0",
       "_model_name": "ProgressStyleModel",
       "_view_count": null,
       "_view_module": "@jupyter-widgets/base",
       "_view_module_version": "2.0.0",
       "_view_name": "StyleView",
       "bar_color": null,
       "description_width": ""
      }
     },
     "b0cb111f090740758f2897f0bf0050aa": {
      "model_module": "@jupyter-widgets/controls",
      "model_module_version": "2.0.0",
      "model_name": "HTMLModel",
      "state": {
       "_dom_classes": [],
       "_model_module": "@jupyter-widgets/controls",
       "_model_module_version": "2.0.0",
       "_model_name": "HTMLModel",
       "_view_count": null,
       "_view_module": "@jupyter-widgets/controls",
       "_view_module_version": "2.0.0",
       "_view_name": "HTMLView",
       "description": "",
       "description_allow_html": false,
       "layout": "IPY_MODEL_023be677474244a6b0fdf75c04b52e21",
       "placeholder": "​",
       "style": "IPY_MODEL_a648211e41b34f5f9569f0e01a0447cd",
       "tabbable": null,
       "tooltip": null,
       "value": "100%"
      }
     },
     "b3068ab47f3d416caceb5dfd55b135b5": {
      "model_module": "@jupyter-widgets/controls",
      "model_module_version": "2.0.0",
      "model_name": "HTMLModel",
      "state": {
       "_dom_classes": [],
       "_model_module": "@jupyter-widgets/controls",
       "_model_module_version": "2.0.0",
       "_model_name": "HTMLModel",
       "_view_count": null,
       "_view_module": "@jupyter-widgets/controls",
       "_view_module_version": "2.0.0",
       "_view_name": "HTMLView",
       "description": "",
       "description_allow_html": false,
       "layout": "IPY_MODEL_2ab36bb4b8ec4a1e9cdfa2366491680f",
       "placeholder": "​",
       "style": "IPY_MODEL_efcf390038e04c4f8cb422b75a3f37f0",
       "tabbable": null,
       "tooltip": null,
       "value": " 6/6 [00:10&lt;00:00,  1.14s/it]"
      }
     },
     "cba13e7fedd240de95c9fc14a8f99ae4": {
      "model_module": "@jupyter-widgets/base",
      "model_module_version": "2.0.0",
      "model_name": "LayoutModel",
      "state": {
       "_model_module": "@jupyter-widgets/base",
       "_model_module_version": "2.0.0",
       "_model_name": "LayoutModel",
       "_view_count": null,
       "_view_module": "@jupyter-widgets/base",
       "_view_module_version": "2.0.0",
       "_view_name": "LayoutView",
       "align_content": null,
       "align_items": null,
       "align_self": null,
       "border_bottom": null,
       "border_left": null,
       "border_right": null,
       "border_top": null,
       "bottom": null,
       "display": null,
       "flex": null,
       "flex_flow": null,
       "grid_area": null,
       "grid_auto_columns": null,
       "grid_auto_flow": null,
       "grid_auto_rows": null,
       "grid_column": null,
       "grid_gap": null,
       "grid_row": null,
       "grid_template_areas": null,
       "grid_template_columns": null,
       "grid_template_rows": null,
       "height": null,
       "justify_content": null,
       "justify_items": null,
       "left": null,
       "margin": null,
       "max_height": null,
       "max_width": null,
       "min_height": null,
       "min_width": null,
       "object_fit": null,
       "object_position": null,
       "order": null,
       "overflow": null,
       "padding": null,
       "right": null,
       "top": null,
       "visibility": null,
       "width": null
      }
     },
     "e17f0a26ff8e4b6186417bde4d8e46fb": {
      "model_module": "@jupyter-widgets/controls",
      "model_module_version": "2.0.0",
      "model_name": "HBoxModel",
      "state": {
       "_dom_classes": [],
       "_model_module": "@jupyter-widgets/controls",
       "_model_module_version": "2.0.0",
       "_model_name": "HBoxModel",
       "_view_count": null,
       "_view_module": "@jupyter-widgets/controls",
       "_view_module_version": "2.0.0",
       "_view_name": "HBoxView",
       "box_style": "",
       "children": [
        "IPY_MODEL_b0cb111f090740758f2897f0bf0050aa",
        "IPY_MODEL_3df565e1da134aeba5eec8dafba0bbca",
        "IPY_MODEL_b3068ab47f3d416caceb5dfd55b135b5"
       ],
       "layout": "IPY_MODEL_cba13e7fedd240de95c9fc14a8f99ae4",
       "tabbable": null,
       "tooltip": null
      }
     },
     "e7a4310ef1b143e788304ec13592b60b": {
      "model_module": "@jupyter-widgets/base",
      "model_module_version": "2.0.0",
      "model_name": "LayoutModel",
      "state": {
       "_model_module": "@jupyter-widgets/base",
       "_model_module_version": "2.0.0",
       "_model_name": "LayoutModel",
       "_view_count": null,
       "_view_module": "@jupyter-widgets/base",
       "_view_module_version": "2.0.0",
       "_view_name": "LayoutView",
       "align_content": null,
       "align_items": null,
       "align_self": null,
       "border_bottom": null,
       "border_left": null,
       "border_right": null,
       "border_top": null,
       "bottom": null,
       "display": null,
       "flex": null,
       "flex_flow": null,
       "grid_area": null,
       "grid_auto_columns": null,
       "grid_auto_flow": null,
       "grid_auto_rows": null,
       "grid_column": null,
       "grid_gap": null,
       "grid_row": null,
       "grid_template_areas": null,
       "grid_template_columns": null,
       "grid_template_rows": null,
       "height": null,
       "justify_content": null,
       "justify_items": null,
       "left": null,
       "margin": null,
       "max_height": null,
       "max_width": null,
       "min_height": null,
       "min_width": null,
       "object_fit": null,
       "object_position": null,
       "order": null,
       "overflow": null,
       "padding": null,
       "right": null,
       "top": null,
       "visibility": null,
       "width": null
      }
     },
     "efcf390038e04c4f8cb422b75a3f37f0": {
      "model_module": "@jupyter-widgets/controls",
      "model_module_version": "2.0.0",
      "model_name": "HTMLStyleModel",
      "state": {
       "_model_module": "@jupyter-widgets/controls",
       "_model_module_version": "2.0.0",
       "_model_name": "HTMLStyleModel",
       "_view_count": null,
       "_view_module": "@jupyter-widgets/base",
       "_view_module_version": "2.0.0",
       "_view_name": "StyleView",
       "background": null,
       "description_width": "",
       "font_size": null,
       "text_color": null
      }
     }
    },
    "version_major": 2,
    "version_minor": 0
   }
  }
 },
 "nbformat": 4,
 "nbformat_minor": 5
}