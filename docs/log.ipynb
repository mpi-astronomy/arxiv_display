{
 "cells": [
  {
   "cell_type": "markdown",
   "id": "92bcb855",
   "metadata": {
    "papermill": {
     "duration": 0.004301,
     "end_time": "2024-04-01T04:08:38.189108",
     "exception": false,
     "start_time": "2024-04-01T04:08:38.184807",
     "status": "completed"
    },
    "tags": []
   },
   "source": [
    "# MPIA Arxiv on Deck 2\n",
    "\n",
    "Contains the steps to produce the paper extractions."
   ]
  },
  {
   "cell_type": "code",
   "execution_count": 1,
   "id": "3a0d6e11",
   "metadata": {
    "execution": {
     "iopub.execute_input": "2024-04-01T04:08:38.196743Z",
     "iopub.status.busy": "2024-04-01T04:08:38.196137Z",
     "iopub.status.idle": "2024-04-01T04:08:38.511015Z",
     "shell.execute_reply": "2024-04-01T04:08:38.510450Z"
    },
    "papermill": {
     "duration": 0.320532,
     "end_time": "2024-04-01T04:08:38.512748",
     "exception": false,
     "start_time": "2024-04-01T04:08:38.192216",
     "status": "completed"
    },
    "tags": []
   },
   "outputs": [],
   "source": [
    "# Imports\n",
    "import os\n",
    "from IPython.display import Markdown, display\n",
    "from tqdm.notebook import tqdm\n",
    "import warnings\n",
    "from PIL import Image \n",
    "\n",
    "# requires arxiv_on_deck_2\n",
    "\n",
    "from arxiv_on_deck_2.arxiv2 import (get_new_papers, \n",
    "                                    get_paper_from_identifier,\n",
    "                                    retrieve_document_source, \n",
    "                                    get_markdown_badge)\n",
    "from arxiv_on_deck_2 import (latex,\n",
    "                             latex_bib,\n",
    "                             mpia,\n",
    "                             highlight_authors_in_list)\n",
    "\n",
    "# Sometimes images are really big\n",
    "Image.MAX_IMAGE_PIXELS = 1000000000 "
   ]
  },
  {
   "cell_type": "code",
   "execution_count": 2,
   "id": "22aa9d44",
   "metadata": {
    "execution": {
     "iopub.execute_input": "2024-04-01T04:08:38.520016Z",
     "iopub.status.busy": "2024-04-01T04:08:38.519582Z",
     "iopub.status.idle": "2024-04-01T04:08:38.524605Z",
     "shell.execute_reply": "2024-04-01T04:08:38.523999Z"
    },
    "papermill": {
     "duration": 0.01013,
     "end_time": "2024-04-01T04:08:38.525965",
     "exception": false,
     "start_time": "2024-04-01T04:08:38.515835",
     "status": "completed"
    },
    "tags": []
   },
   "outputs": [],
   "source": [
    "# Some useful definitions.\n",
    "\n",
    "class AffiliationWarning(UserWarning):\n",
    "    pass\n",
    "\n",
    "class AffiliationError(RuntimeError):\n",
    "    pass\n",
    "\n",
    "def validation(source: str):\n",
    "    \"\"\"Raises error paper during parsing of source file\n",
    "    \n",
    "    Allows checks before parsing TeX code.\n",
    "    \n",
    "    Raises AffiliationWarning\n",
    "    \"\"\"\n",
    "    check = mpia.affiliation_verifications(source, verbose=True)\n",
    "    if check is not True:\n",
    "        raise AffiliationError(\"mpia.affiliation_verifications: \" + check)\n",
    "\n",
    "        \n",
    "warnings.simplefilter('always', AffiliationWarning)\n",
    "\n",
    "\n",
    "def get_markdown_qrcode(paper_id: str):\n",
    "    \"\"\" Generate a qrcode to the arxiv page using qrserver.com\n",
    "    \n",
    "    :param paper: Arxiv paper\n",
    "    :returns: markdown text\n",
    "    \"\"\"\n",
    "    url = r\"https://api.qrserver.com/v1/create-qr-code/?size=100x100&data=\"\n",
    "    txt = f\"\"\"<img src={url}\"https://arxiv.org/abs/{paper_id}\">\"\"\"\n",
    "    txt = '<div id=\"qrcode\">' + txt + '</div>'\n",
    "    return txt"
   ]
  },
  {
   "cell_type": "markdown",
   "id": "14bd6310",
   "metadata": {
    "papermill": {
     "duration": 0.002841,
     "end_time": "2024-04-01T04:08:38.531651",
     "exception": false,
     "start_time": "2024-04-01T04:08:38.528810",
     "status": "completed"
    },
    "tags": []
   },
   "source": [
    "## get list of arxiv paper candidates\n",
    "\n",
    "We use the MPIA mitarbeiter list webpage from mpia.de to get author names\n",
    "We then get all new papers from Arxiv and match authors"
   ]
  },
  {
   "cell_type": "code",
   "execution_count": 3,
   "id": "2645e73a",
   "metadata": {
    "execution": {
     "iopub.execute_input": "2024-04-01T04:08:38.538426Z",
     "iopub.status.busy": "2024-04-01T04:08:38.538075Z",
     "iopub.status.idle": "2024-04-01T04:08:54.688926Z",
     "shell.execute_reply": "2024-04-01T04:08:54.688206Z"
    },
    "papermill": {
     "duration": 16.155847,
     "end_time": "2024-04-01T04:08:54.690416",
     "exception": false,
     "start_time": "2024-04-01T04:08:38.534569",
     "status": "completed"
    },
    "tags": []
   },
   "outputs": [
    {
     "name": "stdout",
     "output_type": "stream",
     "text": [
      "E. Schinnerer  ->  E. Schinnerer  |  ['E. Schinnerer']\n",
      "A. Hughes  ->  A. Hughes  |  ['A. Hughes']\n",
      "Arxiv has 37 new papers today\n",
      "          2 with possible author matches\n"
     ]
    }
   ],
   "source": [
    "# get list from MPIA website\n",
    "# it automatically filters identified non-scientists :func:`mpia.filter_non_scientists`\n",
    "mpia_authors = mpia.get_mpia_mitarbeiter_list()\n",
    "normed_mpia_authors = [k[1] for k in mpia_authors]   # initials + fullname\n",
    "new_papers = get_new_papers()\n",
    "# add manual references\n",
    "add_paper_refs = []\n",
    "new_papers.extend([get_paper_from_identifier(k) for k in add_paper_refs])\n",
    "\n",
    "candidates = []\n",
    "for paperk in new_papers:\n",
    "    # Check author list with their initials\n",
    "    normed_author_list = [mpia.get_initials(k) for k in paperk['authors']]\n",
    "    hl_authors = highlight_authors_in_list(normed_author_list, normed_mpia_authors, verbose=True)\n",
    "    matches = [(hl, orig) for hl, orig in zip(hl_authors, paperk['authors']) if 'mark' in hl]\n",
    "    paperk['authors'] = hl_authors\n",
    "    if matches:\n",
    "        # only select paper if an author matched our list\n",
    "        candidates.append(paperk)\n",
    "print(\"\"\"Arxiv has {0:,d} new papers today\"\"\".format(len(new_papers)))        \n",
    "print(\"\"\"          {0:,d} with possible author matches\"\"\".format(len(candidates)))"
   ]
  },
  {
   "cell_type": "markdown",
   "id": "3543b34a",
   "metadata": {
    "papermill": {
     "duration": 0.002973,
     "end_time": "2024-04-01T04:08:54.696709",
     "exception": false,
     "start_time": "2024-04-01T04:08:54.693736",
     "status": "completed"
    },
    "tags": []
   },
   "source": [
    "# Parse sources and generate relevant outputs\n",
    "\n",
    "From the candidates, we do the following steps:\n",
    "* get their tarball from ArXiv (and extract data)\n",
    "* find the main .tex file: find one with \\documentclass{...} (sometimes it's non trivial)\n",
    "* Check affiliations with :func:`validation`, which uses :func:`mpia.affiliation_verifications`\n",
    "* If passing the affiliations: we parse the .tex source\n",
    "   * inject sub-documents into the main (flatten the main document)\n",
    "   * parse structure, extract information (title, abstract, authors, figures...)\n",
    "   * handles `\\graphicspath` if provided\n",
    "* Generate the .md document."
   ]
  },
  {
   "cell_type": "code",
   "execution_count": 4,
   "id": "9576b79e",
   "metadata": {
    "execution": {
     "iopub.execute_input": "2024-04-01T04:08:54.703697Z",
     "iopub.status.busy": "2024-04-01T04:08:54.703296Z",
     "iopub.status.idle": "2024-04-01T04:10:34.661821Z",
     "shell.execute_reply": "2024-04-01T04:10:34.661027Z"
    },
    "papermill": {
     "duration": 99.964149,
     "end_time": "2024-04-01T04:10:34.663753",
     "exception": false,
     "start_time": "2024-04-01T04:08:54.699604",
     "status": "completed"
    },
    "scrolled": false,
    "tags": []
   },
   "outputs": [
    {
     "data": {
      "application/vnd.jupyter.widget-view+json": {
       "model_id": "2fc6c7c4fa6f47fbb30b6c5b54f678e8",
       "version_major": 2,
       "version_minor": 0
      },
      "text/plain": [
       "  0%|          | 0/2 [00:00<?, ?it/s]"
      ]
     },
     "metadata": {},
     "output_type": "display_data"
    },
    {
     "name": "stdout",
     "output_type": "stream",
     "text": [
      "Retrieving document from  https://arxiv.org/e-print/2403.19843\n"
     ]
    },
    {
     "name": "stdout",
     "output_type": "stream",
     "text": [
      "extracting tarball to tmp_2403.19843..."
     ]
    },
    {
     "name": "stdout",
     "output_type": "stream",
     "text": [
      " done.\n"
     ]
    },
    {
     "name": "stderr",
     "output_type": "stream",
     "text": [
      "/opt/hostedtoolcache/Python/3.9.19/x64/lib/python3.9/site-packages/IPython/core/interactiveshell.py:3550: LatexWarning: Multiple tex files.\n",
      "\n",
      "  exec(code_obj, self.user_global_ns, self.user_ns)\n",
      "/opt/hostedtoolcache/Python/3.9.19/x64/lib/python3.9/site-packages/IPython/core/interactiveshell.py:3550: LatexWarning: Found documentclass in tmp_2403.19843/araa_arxiv_version.tex\n",
      "\n",
      "  exec(code_obj, self.user_global_ns, self.user_ns)\n",
      "/opt/hostedtoolcache/Python/3.9.19/x64/lib/python3.9/site-packages/arxiv_on_deck_2/latex.py:399: LatexWarning: Latex injecting: 'journal' from 'tmp_2403.19843/journal.tex'\n",
      "  warnings.warn(LatexWarning(f\"Latex injecting: '{ext}' from '{subsource}'\"))\n"
     ]
    },
    {
     "name": "stdout",
     "output_type": "stream",
     "text": [
      "Found 364 bibliographic references in tmp_2403.19843/araa_arxiv_version.bbl.\n",
      "syntax error in line 599: '=' expected\n",
      "Retrieving document from  https://arxiv.org/e-print/2403.20057\n"
     ]
    },
    {
     "name": "stdout",
     "output_type": "stream",
     "text": [
      "extracting tarball to tmp_2403.20057..."
     ]
    },
    {
     "name": "stdout",
     "output_type": "stream",
     "text": [
      " done.\n"
     ]
    }
   ],
   "source": [
    "documents = []\n",
    "failed = []\n",
    "for paper in tqdm(candidates):\n",
    "    paper_id = paper['identifier'].lower().replace('arxiv:', '')\n",
    "    \n",
    "    folder = f'tmp_{paper_id}'\n",
    "\n",
    "    try:\n",
    "        if not os.path.isdir(folder):\n",
    "            folder = retrieve_document_source(f\"{paper_id}\", f'tmp_{paper_id}')\n",
    "        \n",
    "        try:\n",
    "            doc = latex.LatexDocument(folder, validation=validation)    \n",
    "        except AffiliationError as affilerror:\n",
    "            msg = f\"ArXiv:{paper_id:s} is not an MPIA paper... \" + str(affilerror)\n",
    "            failed.append((paper, \"affiliation error: \" + str(affilerror) ))\n",
    "            continue\n",
    "        \n",
    "        # Hack because sometimes author parsing does not work well\n",
    "        if (len(doc.authors) != len(paper['authors'])):\n",
    "            doc._authors = paper['authors']\n",
    "        else:\n",
    "            # highlight authors (FIXME: doc.highlight_authors)\n",
    "            # done on arxiv paper already\n",
    "            doc._authors = highlight_authors_in_list(\n",
    "                [mpia.get_initials(k) for k in doc.authors], \n",
    "                normed_mpia_authors, verbose=True)\n",
    "        if (doc.abstract) in (None, ''):\n",
    "            doc._abstract = paper['abstract']\n",
    "            \n",
    "        doc.comment = (get_markdown_badge(paper_id) + \n",
    "                       \"<mark>Appeared on: \" + paper['date'] + \"</mark> - \")\n",
    "        if paper['comments']:\n",
    "            doc.comment += \" _\" + paper['comments'] + \"_\"\n",
    "        \n",
    "        full_md = doc.generate_markdown_text()\n",
    "        \n",
    "        full_md += get_markdown_qrcode(paper_id)\n",
    "        \n",
    "        # replace citations\n",
    "        try:\n",
    "            bibdata = latex_bib.LatexBib.from_doc(doc)\n",
    "            full_md = latex_bib.replace_citations(full_md, bibdata)\n",
    "        except Exception as e:\n",
    "            print(e)\n",
    "        \n",
    "        documents.append((paper_id, full_md))\n",
    "    except Exception as e:\n",
    "        warnings.warn(latex.LatexWarning(f\"{paper_id:s} did not run properly\\n\" +\n",
    "                                         str(e)\n",
    "                                        ))\n",
    "        failed.append((paper, \"latex error \" + str(e)))"
   ]
  },
  {
   "cell_type": "markdown",
   "id": "2505a25c",
   "metadata": {
    "papermill": {
     "duration": 0.003576,
     "end_time": "2024-04-01T04:10:34.671004",
     "exception": false,
     "start_time": "2024-04-01T04:10:34.667428",
     "status": "completed"
    },
    "tags": []
   },
   "source": [
    "### Export the logs\n",
    "\n",
    "Throughout, we also keep track of the logs per paper. see `logs-{today date}.md` "
   ]
  },
  {
   "cell_type": "code",
   "execution_count": 5,
   "id": "d733828a",
   "metadata": {
    "execution": {
     "iopub.execute_input": "2024-04-01T04:10:34.679060Z",
     "iopub.status.busy": "2024-04-01T04:10:34.678554Z",
     "iopub.status.idle": "2024-04-01T04:10:34.693151Z",
     "shell.execute_reply": "2024-04-01T04:10:34.692602Z"
    },
    "papermill": {
     "duration": 0.020113,
     "end_time": "2024-04-01T04:10:34.694487",
     "exception": false,
     "start_time": "2024-04-01T04:10:34.674374",
     "status": "completed"
    },
    "scrolled": false,
    "tags": []
   },
   "outputs": [
    {
     "data": {
      "text/markdown": [
       "## Successful papers"
      ],
      "text/plain": [
       "<IPython.core.display.Markdown object>"
      ]
     },
     "metadata": {},
     "output_type": "display_data"
    },
    {
     "data": {
      "text/markdown": [
       "\n",
       "|||\n",
       "|---:|:---|\n",
       "| [![arXiv](https://img.shields.io/badge/arXiv-arXiv:2403.19843-b31b1b.svg)](https://arxiv.org/abs/arXiv:2403.19843) | **Molecular Gas and the Star Formation Process on Cloud Scales in Nearby  Galaxies**  |\n",
       "|| <mark>E. Schinnerer</mark>, A. K. Leroy |\n",
       "|*Appeared on*| *2024-04-01*|\n",
       "|*Comments*| *70 pages, 15 figures, 9 tables. Authors' version of an article to appear in Annual Reviews of Astronomy and Astrophysics 2024, Vol 62*|\n",
       "|**Abstract**| Observations that resolve nearby galaxies into individual regions across multiple phases of the gas-star formation-feedback ``matter cycle'' have provided a sharp new view of molecular clouds, star formation efficiencies, timescales for region evolution, and stellar feedback. We synthesize these results, cover aspects relevant to the interpretation of observables, and conclude that: (1) The observed cloud-scale molecular gas surface density, line width, and internal pressure all reflect the large-scale galactic environment while also appearing mostly consistent with properties of a turbulent medium strongly affected by self-gravity. (2) Cloud-scale data allow for statistical inference of both evolutionary and physical timescales. These suggest that clouds collapse on timescale of order the free-fall or turbulent crossing time ($\\sim 10{-}30$~Myr) followed by the formation of massive stars and subsequent rapid ($\\lesssim$ 5 Myr) gas clearing. The star formation efficiency per free-fall time is well determined over thousands of regions to be $\\epsilon_{\\rm ff}\\approx 0.5_{-0.3}^{+0.7}\\%$. (3) The role of stellar feedback is now measured using multiple observational approaches. The net momentum yield is constrained by the requirement to support the vertical weight of the galaxy disk. Meanwhile, the short gas clearing timescales suggest a large role for pre-supernova feedback in cloud disruption. This leaves the supernovae free to exert a large influence on the larger scale galaxy, including driving turbulence, launching galactic-scale winds, and carving superbubbles. |"
      ],
      "text/plain": [
       "[arXiv:2403.19843] Molecular Gas and the Star Formation Process on Cloud Scales in Nearby  Galaxies\n",
       "\t<mark>E. Schinnerer</mark>, A. K. Leroy"
      ]
     },
     "metadata": {},
     "output_type": "display_data"
    },
    {
     "data": {
      "text/markdown": [
       "## Failed papers"
      ],
      "text/plain": [
       "<IPython.core.display.Markdown object>"
      ]
     },
     "metadata": {},
     "output_type": "display_data"
    },
    {
     "data": {
      "text/markdown": [
       "\n",
       "|||\n",
       "|---:|:---|\n",
       "| [![arXiv](https://img.shields.io/badge/arXiv-arXiv:2403.20057-b31b1b.svg)](https://arxiv.org/abs/arXiv:2403.20057) | **Bias versus variance when fitting multi-species molecular lines with a  non-LTE radiative transfer model**  |\n",
       "|| A. Roueff, et al. -- incl., <mark>A. Hughes</mark> |\n",
       "|*Appeared on*| *2024-04-01*|\n",
       "|*Comments*| *Astronomy and Astrophysics - A\\&A, In press*|\n",
       "|**Abstract**| Robust radiative transfer techniques are requisite for efficiently extracting the physical and chemical information from molecular rotational lines.We study several hypotheses that enable robust estimations of the column densities and physical conditions when fitting one or two transitions per molecular species. We study the extent to which simplifying assumptions aimed at reducing the complexity of the problem introduce estimation biases and how to detect them.We focus on the CO and HCO+ isotopologues and analyze maps of a 50 square arcminutes field. We used the RADEX escape probability model to solve the statistical equilibrium equations and compute the emerging line profiles, assuming that all species coexist. Depending on the considered set of species, we also fixed the abundance ratio between some species and explored different values. We proposed a maximum likelihood estimator to infer the physical conditions and considered the effect of both the thermal noise and calibration uncertainty. We analyzed any potential biases induced by model misspecifications by comparing the results on the actual data for several sets of species and confirmed with Monte Carlo simulations. The variance of the estimations and the efficiency of the estimator were studied based on the Cram{\\'e}r-Rao lower bound.Column densities can be estimated with 30% accuracy, while the best estimations of the volume density are found to be within a factor of two. Under the chosen model framework, the peak 12CO(1--0) is useful for constraining the kinetic temperature. The thermal pressure is better and more robustly estimated than the volume density and kinetic temperature separately. Analyzing CO and HCO+ isotopologues and fitting the full line profile are recommended practices with respect to detecting possible biases.Combining a non-local thermodynamic equilibrium model with a rigorous analysis of the accuracy allows us to obtain an efficient estimator and identify where the model is misspecified. We note that other combinations of molecular lines could be studied in the future. |\n",
       "|<p style=\"color:green\"> **ERROR** </p>| <p style=\"color:green\">affiliation error: mpia.affiliation_verifications: 'Heidelberg' keyword not found.</p> |"
      ],
      "text/plain": [
       "<IPython.core.display.Markdown object>"
      ]
     },
     "metadata": {},
     "output_type": "display_data"
    }
   ],
   "source": [
    "import datetime\n",
    "today = str(datetime.date.today())\n",
    "logfile = f\"_build/html/logs/log-{today}.md\"\n",
    "\n",
    "\n",
    "with open(logfile, 'w') as logs:\n",
    "    # Success\n",
    "    logs.write(f'# Arxiv on Deck 2: Logs - {today}\\n\\n')\n",
    "    logs.write(\"\"\"* Arxiv had {0:,d} new papers\\n\"\"\".format(len(new_papers)))\n",
    "    logs.write(\"\"\"    * {0:,d} with possible author matches\\n\\n\"\"\".format(len(candidates)))\n",
    "    logs.write(\"## Sucessful papers\\n\\n\")\n",
    "    display(Markdown(\"## Successful papers\"))\n",
    "    success = [k[0] for k in documents]\n",
    "    for candid in candidates:\n",
    "        if candid['identifier'].split(':')[-1] in success:\n",
    "            display(candid)\n",
    "            logs.write(candid.generate_markdown_text() + '\\n\\n')\n",
    "\n",
    "    ## failed\n",
    "    logs.write(\"## Failed papers\\n\\n\")\n",
    "    display(Markdown(\"## Failed papers\"))\n",
    "    failed = sorted(failed, key=lambda x: x[1])\n",
    "    current_reason = \"\"\n",
    "    for paper, reason in failed:\n",
    "        if 'affiliation' in reason:\n",
    "            color = 'green'\n",
    "        else:\n",
    "            color = 'red'\n",
    "        data = Markdown(\n",
    "                paper.generate_markdown_text() + \n",
    "                f'\\n|<p style=\"color:{color:s}\"> **ERROR** </p>| <p style=\"color:{color:s}\">{reason:s}</p> |'\n",
    "               )\n",
    "        if reason != current_reason:\n",
    "            logs.write(f'### {reason:s} \\n\\n')\n",
    "            current_reason = reason\n",
    "        logs.write(data.data + '\\n\\n')\n",
    "        \n",
    "        # only display here the important errors (all in logs)\n",
    "        # if color in ('red',):\n",
    "        display(data)"
   ]
  },
  {
   "cell_type": "markdown",
   "id": "472d20ee",
   "metadata": {
    "papermill": {
     "duration": 0.003764,
     "end_time": "2024-04-01T04:10:34.702166",
     "exception": false,
     "start_time": "2024-04-01T04:10:34.698402",
     "status": "completed"
    },
    "tags": []
   },
   "source": [
    "## Export documents\n",
    "\n",
    "We now write the .md files and export relevant images"
   ]
  },
  {
   "cell_type": "code",
   "execution_count": 6,
   "id": "d426aed9",
   "metadata": {
    "execution": {
     "iopub.execute_input": "2024-04-01T04:10:34.711047Z",
     "iopub.status.busy": "2024-04-01T04:10:34.710469Z",
     "iopub.status.idle": "2024-04-01T04:10:34.717361Z",
     "shell.execute_reply": "2024-04-01T04:10:34.716684Z"
    },
    "papermill": {
     "duration": 0.012847,
     "end_time": "2024-04-01T04:10:34.718786",
     "exception": false,
     "start_time": "2024-04-01T04:10:34.705939",
     "status": "completed"
    },
    "tags": []
   },
   "outputs": [],
   "source": [
    "def export_markdown_summary(md: str, md_fname:str, directory: str):\n",
    "    \"\"\"Export MD document and associated relevant images\"\"\"\n",
    "    import os\n",
    "    import shutil\n",
    "    import re\n",
    "\n",
    "    if (os.path.exists(directory) and not os.path.isdir(directory)):\n",
    "        raise RuntimeError(f\"a non-directory file exists with name {directory:s}\")\n",
    "\n",
    "    if (not os.path.exists(directory)):\n",
    "        print(f\"creating directory {directory:s}\")\n",
    "        os.mkdir(directory)\n",
    "\n",
    "    fig_fnames = (re.compile(r'\\[Fig.*\\]\\((.*)\\)').findall(md) + \n",
    "                  re.compile(r'\\<img src=\"([^>\\s]*)\"[^>]*/>').findall(md))\n",
    "    for fname in fig_fnames:\n",
    "        if 'http' in fname:\n",
    "            # No need to copy online figures\n",
    "            continue\n",
    "        destdir = os.path.join(directory, os.path.dirname(fname))\n",
    "        destfname = os.path.join(destdir, os.path.basename(fname))\n",
    "        try:\n",
    "            os.makedirs(destdir)\n",
    "        except FileExistsError:\n",
    "            pass\n",
    "        shutil.copy(fname, destfname)\n",
    "    with open(os.path.join(directory, md_fname), 'w') as fout:\n",
    "        fout.write(md)\n",
    "    print(\"exported in \", os.path.join(directory, md_fname))\n",
    "    [print(\"    + \" + os.path.join(directory,fk)) for fk in fig_fnames]"
   ]
  },
  {
   "cell_type": "code",
   "execution_count": 7,
   "id": "014d04a4",
   "metadata": {
    "execution": {
     "iopub.execute_input": "2024-04-01T04:10:34.727507Z",
     "iopub.status.busy": "2024-04-01T04:10:34.726968Z",
     "iopub.status.idle": "2024-04-01T04:10:34.744910Z",
     "shell.execute_reply": "2024-04-01T04:10:34.744285Z"
    },
    "papermill": {
     "duration": 0.023676,
     "end_time": "2024-04-01T04:10:34.746242",
     "exception": false,
     "start_time": "2024-04-01T04:10:34.722566",
     "status": "completed"
    },
    "tags": []
   },
   "outputs": [
    {
     "name": "stdout",
     "output_type": "stream",
     "text": [
      "exported in  _build/html/2403.19843.md\n",
      "    + _build/html/tmp_2403.19843/./figures/araa_densetracer.png\n",
      "    + _build/html/tmp_2403.19843/./figures/araa_sun20.jpg\n",
      "    + _build/html/tmp_2403.19843/./figures/Molecular_Cloud_Evolution_v2.png\n",
      "    + _build/html/tmp_2403.19843/./figures/NGC628_nobox.png\n"
     ]
    }
   ],
   "source": [
    "for paper_id, md in documents:\n",
    "    export_markdown_summary(md, f\"{paper_id:s}.md\", '_build/html/')"
   ]
  },
  {
   "cell_type": "markdown",
   "id": "f087a0a7",
   "metadata": {
    "papermill": {
     "duration": 0.003876,
     "end_time": "2024-04-01T04:10:34.754085",
     "exception": false,
     "start_time": "2024-04-01T04:10:34.750209",
     "status": "completed"
    },
    "tags": []
   },
   "source": [
    "## Display the papers\n",
    "\n",
    "Not necessary but allows for a quick check."
   ]
  },
  {
   "cell_type": "code",
   "execution_count": 8,
   "id": "fd25f625",
   "metadata": {
    "execution": {
     "iopub.execute_input": "2024-04-01T04:10:34.763108Z",
     "iopub.status.busy": "2024-04-01T04:10:34.762653Z",
     "iopub.status.idle": "2024-04-01T04:10:34.767460Z",
     "shell.execute_reply": "2024-04-01T04:10:34.766832Z"
    },
    "papermill": {
     "duration": 0.010781,
     "end_time": "2024-04-01T04:10:34.768838",
     "exception": false,
     "start_time": "2024-04-01T04:10:34.758057",
     "status": "completed"
    },
    "scrolled": false,
    "tags": []
   },
   "outputs": [
    {
     "data": {
      "text/markdown": [
       "<div class=\"macros\" style=\"visibility:hidden;\">\n",
       "$\\newcommand{\\ensuremath}{}$\n",
       "$\\newcommand{\\xspace}{}$\n",
       "$\\newcommand{\\object}[1]{\\texttt{#1}}$\n",
       "$\\newcommand{\\farcs}{{.}''}$\n",
       "$\\newcommand{\\farcm}{{.}'}$\n",
       "$\\newcommand{\\arcsec}{''}$\n",
       "$\\newcommand{\\arcmin}{'}$\n",
       "$\\newcommand{\\ion}[2]{#1#2}$\n",
       "$\\newcommand{\\textsc}[1]{\\textrm{#1}}$\n",
       "$\\newcommand{\\hl}[1]{\\textrm{#1}}$\n",
       "$\\newcommand{\\footnote}[1]{}$\n",
       "$\\newcommand{\\hii}{\\textsc{Hii}}$\n",
       "$\\newcommand{\\ha}{\\rm H{\\alpha}}$\n",
       "$\\newcommand{\\hbeta}{\\rm H{\\beta}}$\n",
       "$\\newcommand{\\paa}{\\rm Pa{\\alpha}}$\n",
       "$\\newcommand{\\pab}{\\rm Pa{\\beta}}$\n",
       "$\\newcommand{\\bra}{\\rm Br{\\alpha}}$\n",
       "$\\newcommand{\\brg}{\\rm Br{\\gamma}}$\n",
       "$\\newcommand{\\htwo}{\\rm H_2}$\n",
       "$\\newcommand{\\arcsec}{^{\\prime\\prime}}$\n",
       "$\\newcommand{\\msun}{M_{\\odot}}$\n",
       "$\\newcommand{\\mstar}{M_{\\star}}$\n",
       "$\\newcommand{\\Sstar}{\\Sigma_{\\star}}$\n",
       "$\\newcommand{\\Ssfr}{\\Sigma_{SFR}}$\n",
       "$\\newcommand{\\Smol}{\\Sigma_{mol}}$\n",
       "$\\newcommand{\\alphavir}{\\rm \\alpha_{vir}}$\n",
       "$\\newcommand{\\alphaCO}{\\rm \\alpha_{CO}}$\n",
       "$\\newcommand{\\acounits}{\\textup{M\\ensuremath{_\\odot}~pc\\ensuremath{^{-2}} (K~km~s\\ensuremath{^{-1}})\\ensuremath{^{-1}}}}$\n",
       "$\\newcommand{\\sigsfrunits}{\\textup{M\\ensuremath{_\\odot}~yr\\ensuremath{^{-1}}~kpc\\ensuremath{^{-2}}}}$\n",
       "$\\newcommand{\\xcounits}{\\textup{cm\\ensuremath{^{-2}} (K~km~s\\ensuremath{^{-1}})\\ensuremath{^{-1}}}}$\n",
       "$\\newcommand{\\xco}{\\mbox{X_{\\rm CO}}}$\n",
       "$\\newcommand{\\aco}{\\mbox{\\alpha_{\\rm CO}}}$\n",
       "$\\newcommand{\\msunperpcsq}{\\mbox{M_\\odot pc^{-2}}}$\n",
       "$\\newcommand{\\pasa}{Pub.~Astron.~Soc.~of Australia}$\n",
       "$\\newcommand{\\aj}{AJ}$\n",
       "$\\newcommand{\\araa}{ARA\\&A}$\n",
       "$\\newcommand{\\apj}{ApJ}$\n",
       "$\\newcommand{\\apjl}{ApJ}$\n",
       "$\\newcommand{\\apjs}{ApJS}$\n",
       "$\\newcommand{\\ao}{Appl.~Opt.}$\n",
       "$\\newcommand{\\apss}{Ap\\&SS}$\n",
       "$\\newcommand{\\aap}{A\\&A}$\n",
       "$\\newcommand{\\aapr}{A\\&A~Rev.}$\n",
       "$\\newcommand{\\aaps}{A\\&AS}$\n",
       "$\\newcommand{\\azh}{AZh}$\n",
       "$\\newcommand{\\baas}{BAAS}$\n",
       "$\\newcommand{\\jrasc}{JRASC}$\n",
       "$\\newcommand{\\memras}{MmRAS}$\n",
       "$\\newcommand{\\mnras}{MNRAS}$\n",
       "$\\newcommand{\\pra}{Phys.~Rev.~A}$\n",
       "$\\newcommand{\\prb}{Phys.~Rev.~B}$\n",
       "$\\newcommand{\\prc}{Phys.~Rev.~C}$\n",
       "$\\newcommand{\\prd}{Phys.~Rev.~D}$\n",
       "$\\newcommand{\\pre}{Phys.~Rev.~E}$\n",
       "$\\newcommand{\\prl}{Phys.~Rev.~Lett.}$\n",
       "$\\newcommand{\\pasp}{PASP}$\n",
       "$\\newcommand{\\pasj}{PASJ}$\n",
       "$\\newcommand{\\qjras}{QJRAS}$\n",
       "$\\newcommand{\\skytel}{S\\&T}$\n",
       "$\\newcommand{\\solphys}{Sol.~Phys.}$\n",
       "$\\newcommand{\\sovast}{Soviet~Ast.}$\n",
       "$\\newcommand{\\ssr}{Space~Sci.~Rev.}$\n",
       "$\\newcommand{\\zap}{ZAp}$\n",
       "$\\newcommand{\\nat}{Nature}$\n",
       "$\\newcommand{\\iaucirc}{IAU~Circ.}$\n",
       "$\\newcommand{\\aplett}{Astrophys.~Lett.}$\n",
       "$\\newcommand{\\apspr}{Astrophys.~Space~Phys.~Res.}$\n",
       "$\\newcommand{\\bain}{Bull.~Astron.~Inst.~Netherlands}$\n",
       "$\\newcommand{\\fcp}{Fund.~Cosmic~Phys.}$\n",
       "$\\newcommand{\\gca}{Geochim.~Cosmochim.~Acta}$\n",
       "$\\newcommand{\\grl}{Geophys.~Res.~Lett.}$\n",
       "$\\newcommand{\\jcp}{J.~Chem.~Phys.}$\n",
       "$\\newcommand{\\jgr}{J.~Geophys.~Res.}$\n",
       "$\\newcommand{\\jqsrt}{J.~Quant.~Spec.~Radiat.~Transf.}$\n",
       "$\\newcommand{\\memsai}{Mem.~Soc.~Astron.~Italiana}$\n",
       "$\\newcommand{\\nphysa}{Nucl.~Phys.~A}$\n",
       "$\\newcommand{\\physrep}{Phys.~Rep.}$\n",
       "$\\newcommand{\\physscr}{Phys.~Scr}$\n",
       "$\\newcommand{\\planss}{Planet.~Space~Sci.}$\n",
       "$\\newcommand{\\procspie}{Proc.~SPIE}$\n",
       "$\\newcommand{\\nar}{NewAR}$\n",
       "$\\newcommand{\\rmxaa}{{Rev. Mexicana Astron. Astrofis. }}$</div>\n",
       "\n",
       "\n",
       "\n",
       "<div id=\"title\">\n",
       "\n",
       "# Molecular Gas and the Star Formation Process on Cloud Scales in Nearby Galaxies\n",
       "\n",
       "</div>\n",
       "<div id=\"comments\">\n",
       "\n",
       "[![arXiv](https://img.shields.io/badge/arXiv-2403.19843-b31b1b.svg)](https://arxiv.org/abs/2403.19843)<mark>Appeared on: 2024-04-01</mark> -  _70 pages, 15 figures, 9 tables. Authors' version of an article to appear in Annual Reviews of Astronomy and Astrophysics 2024, Vol 62_\n",
       "\n",
       "</div>\n",
       "<div id=\"authors\">\n",
       "\n",
       "<mark>E. Schinnerer</mark>, A. K. Leroy\n",
       "\n",
       "</div>\n",
       "<div id=\"abstract\">\n",
       "\n",
       "**Abstract:** * The role of stellar feedback is now measured using multiple observational approaches. The net yield is constrained by the requirement to support the vertical weight of the galaxy disk. Meanwhile the short gas clearing timescales suggest a large role for pre-supernova feedback in cloud disruption. This leaves the supernovae free to exert a large influence on the larger galaxy, including stirring turbulence, launching galactic-scale winds, and carving superbubbles.\\end{itemize}\\end{minipage}$\n",
       "\n",
       "</div>\n",
       "\n",
       "<div id=\"div_fig1\">\n",
       "\n",
       "<img src=\"tmp_2403.19843/./figures/araa_densetracer.png\" alt=\"Fig6\" width=\"100%\"/>\n",
       "\n",
       "**Figure 6. -** Dense gas tracers and gas density. _Left:_ Illustration of how the density-dependent emissivity of a transition, here HCN (1-0) in blue, convolves with the physical gas density distribution, in red, to produce emission from a range of densities, in purple \\citep[following][]{LEROY17DENSE}. Because HCN and similar lines often sample a steeply falling part of the density distribution, a sizeable fraction of  HCN emission often arises from gas below the critical density (black vertical line). A bulk gas tracer like CO would be sensitive to almost the full range of physical densities here. _Middle_: Correlation between HCN (1-0)/CO (1-0) and $N_2$H$^+$ (1-0)/CO (1-0) for regions within galaxies. The blue points from \\citet{JIMENEZ23DENSE} show regions in NGC 6946 and a literature compilation. The red points show the binned trend from mapping of M51 by \\citet{STUBER23DENSE}, with gray dots showing individual M51 sight lines and red contours indicating data density. $N_2$H$^+$ emerges primarily from cold, dense regions where CO freezes out, but is too faint to be surveyed in a wide range of extragalactic systems. The good correspondence shows that the brightest, most accessible extragalactic dense gas tracer, HCN, yields consistent results with $N_2$H$^+$. _Right_: Correlation between HCN/CO, a spectroscopic tracer of gas density, and the mean molecular gas surface density at 150 pc scales inferred from high resolution CO imaging \\citep[from][]{NEUMANN23DENSE}. The excellent correspondence between these two extragalactic tracers of density supports the interpretation of HCN/CO as a density-sensitive line ratio and demonstrates a close link between cloud-scale mean density and physical density.\n",
       " (*fig:densetracing*)\n",
       "\n",
       "</div>\n",
       "<div id=\"div_fig2\">\n",
       "\n",
       "<img src=\"tmp_2403.19843/./figures/araa_sun20.jpg\" alt=\"Fig3\" width=\"100%\"/>\n",
       "\n",
       "**Figure 3. -** \n",
       "Cloud-scale surface density and line width across the local galaxy population, from \\citet{SUN20GMCS}. _Left:_ Cloud-scale line width, $\\sigma_{\\rm mol, 150pc}$, as a function of CO (2-1) intensity. _Right:_$\\sigma_{\\rm mol, 150pc}$ as a function of cloud-scale $\\Sigma_{\\rm mol, 150pc}$. Both panels show $\\sim 100,000$ independent cloud-scale sight lines across $66$ star-forming disk galaxies with measurements at fixed $150$ pc scale. Orange lines in the left panel indicate the sensitivity limits of the observations. Dashed and dashed-dotted lines show the _Heyer-Keto relation_ expected for clouds with fixed dynamical state (Eq. \\ref{eq:heyerketo} with $\\alpha_{\\rm vir}=1$ and $2$). Dotted lines from top left to bottom right show isobars, indicating fixed internal pressure $P_{\\rm int}$ at $P_{\\rm int} / k_B = 10^3$, $10^4$, ..., $10^8$ cm$^{-3}$ K following Eq. \\ref{eq:isobar}. Both panels illustrate a wide range of $\\Sigma_{\\rm mol}$, $\\sigma_{\\rm mol}$, and $P_{\\rm int}$ with a narrower range of dynamical state, and the coloration by galactocentric radius illustrates that these are systematic variations.\n",
       " (*fig:heyerketo*)\n",
       "\n",
       "</div>\n",
       "<div id=\"div_fig3\">\n",
       "\n",
       "<img src=\"tmp_2403.19843/./figures/Molecular_Cloud_Evolution_v2.png\" alt=\"Fig1.1\" width=\"50%\"/><img src=\"tmp_2403.19843/./figures/NGC628_nobox.png\" alt=\"Fig1.2\" width=\"50%\"/>\n",
       "\n",
       "**Figure 1. -** _Top:_ Visible separation of tracers of recent star formation (gold; VLT/MUSE H$\\alpha$) and cold gas (blue; ALMA CO (2-1)) at \"cloud-scale\" resolution, here in NGC 628 from \\citet{KRECKEL18SFR}.\n",
       "_Bottom:_ Schematic view of the evolution of a molecular cloud from formation to star cluster. The cloud begins as an over-density of cold, predominantly molecular gas. A subset of the gas achieves high column and volume densities. Stars form from this dense material. Newly formed massive stars rapidly impact their surrounding birth material via radiation and winds, reshaping or even disrupting the cloud. Over time, the continued energy and momentum input from these young massive stars disperses the gas cloud. As a result, many core-collapse supernovae explode in relatively low density, pre-cleared surroundings. In the sketch, gas density increases from blue to white, attenuation of stellar light decreases from red to yellow, light red colors indicate gas ionized by massive stars, and the cyan object in the right panel represents a supernova. (*fig:sketch_cloud*)\n",
       "\n",
       "</div><div id=\"qrcode\"><img src=https://api.qrserver.com/v1/create-qr-code/?size=100x100&data=\"https://arxiv.org/abs/2403.19843\"></div>"
      ],
      "text/plain": [
       "<IPython.core.display.Markdown object>"
      ]
     },
     "metadata": {},
     "output_type": "display_data"
    }
   ],
   "source": [
    "[display(Markdown(k[1])) for k in documents];"
   ]
  },
  {
   "cell_type": "markdown",
   "id": "873873a4",
   "metadata": {
    "papermill": {
     "duration": 0.004169,
     "end_time": "2024-04-01T04:10:34.777304",
     "exception": false,
     "start_time": "2024-04-01T04:10:34.773135",
     "status": "completed"
    },
    "tags": []
   },
   "source": [
    "# Create HTML index"
   ]
  },
  {
   "cell_type": "code",
   "execution_count": 9,
   "id": "cf665672",
   "metadata": {
    "execution": {
     "iopub.execute_input": "2024-04-01T04:10:34.786569Z",
     "iopub.status.busy": "2024-04-01T04:10:34.786229Z",
     "iopub.status.idle": "2024-04-01T04:10:34.795537Z",
     "shell.execute_reply": "2024-04-01T04:10:34.794920Z"
    },
    "papermill": {
     "duration": 0.015427,
     "end_time": "2024-04-01T04:10:34.796827",
     "exception": false,
     "start_time": "2024-04-01T04:10:34.781400",
     "status": "completed"
    },
    "tags": []
   },
   "outputs": [
    {
     "name": "stdout",
     "output_type": "stream",
     "text": [
      "394  publications files modified in the last 7 days.\n"
     ]
    }
   ],
   "source": [
    "from datetime import datetime, timedelta, timezone\n",
    "from glob import glob\n",
    "import os\n",
    "\n",
    "files = glob('_build/html/*.md')\n",
    "days = 7\n",
    "now = datetime.today()\n",
    "res = []\n",
    "for fk in files:\n",
    "    stat_result = os.stat(fk).st_ctime\n",
    "    modified = datetime.fromtimestamp(stat_result, tz=timezone.utc).replace(tzinfo=None)\n",
    "    delta = now.today() - modified\n",
    "    if delta <= timedelta(days=days):\n",
    "        res.append((delta.seconds, fk))\n",
    "res = [k[1] for k in reversed(sorted(res, key=lambda x:x[1]))]\n",
    "npub = len(res)\n",
    "print(len(res), f\" publications files modified in the last {days:d} days.\")\n",
    "# [ print('\\t', k) for k in res ];"
   ]
  },
  {
   "cell_type": "code",
   "execution_count": 10,
   "id": "015de740",
   "metadata": {
    "execution": {
     "iopub.execute_input": "2024-04-01T04:10:34.806504Z",
     "iopub.status.busy": "2024-04-01T04:10:34.805961Z",
     "iopub.status.idle": "2024-04-01T04:10:34.827546Z",
     "shell.execute_reply": "2024-04-01T04:10:34.826926Z"
    },
    "papermill": {
     "duration": 0.027817,
     "end_time": "2024-04-01T04:10:34.828855",
     "exception": false,
     "start_time": "2024-04-01T04:10:34.801038",
     "status": "completed"
    },
    "tags": []
   },
   "outputs": [
    {
     "name": "stdout",
     "output_type": "stream",
     "text": [
      "2  publications in the last 7 days.\n"
     ]
    }
   ],
   "source": [
    "import datetime\n",
    "from glob import glob\n",
    "\n",
    "def get_last_n_days(lst, days=1):\n",
    "    \"\"\" Get the documents from the last n days \"\"\"\n",
    "    sorted_lst = sorted(lst, key=lambda x: x[1], reverse=True)\n",
    "    for fname, date in sorted_lst:\n",
    "        if date >= str(datetime.date.today() - datetime.timedelta(days=days)):\n",
    "            yield fname\n",
    "\n",
    "def extract_appearance_dates(lst_file):\n",
    "    dates = []\n",
    "\n",
    "    def get_date(line):\n",
    "        return line\\\n",
    "            .split('Appeared on:')[-1]\\\n",
    "            .split('</mark>')[0].strip()\n",
    "\n",
    "    for fname in lst:\n",
    "        with open(fname, 'r') as f:\n",
    "            found_date = False\n",
    "            for line in f:\n",
    "                if not found_date:\n",
    "                    if \"Appeared on\" in line:\n",
    "                        found_date = True\n",
    "                        dates.append((fname, get_date(line)))\n",
    "                else:\n",
    "                    break\n",
    "    return dates\n",
    "\n",
    "from glob import glob\n",
    "lst = glob('_build/html/*md')\n",
    "days = 7\n",
    "dates = extract_appearance_dates(lst)\n",
    "res = list(get_last_n_days(dates, days))\n",
    "npub = len(res)\n",
    "print(len(res), f\" publications in the last {days:d} days.\")"
   ]
  },
  {
   "cell_type": "code",
   "execution_count": 11,
   "id": "52ca0208",
   "metadata": {
    "execution": {
     "iopub.execute_input": "2024-04-01T04:10:34.838570Z",
     "iopub.status.busy": "2024-04-01T04:10:34.838156Z",
     "iopub.status.idle": "2024-04-01T04:10:34.843018Z",
     "shell.execute_reply": "2024-04-01T04:10:34.842426Z"
    },
    "papermill": {
     "duration": 0.011131,
     "end_time": "2024-04-01T04:10:34.844347",
     "exception": false,
     "start_time": "2024-04-01T04:10:34.833216",
     "status": "completed"
    },
    "scrolled": false,
    "tags": []
   },
   "outputs": [],
   "source": [
    "def create_carousel(npub=4):\n",
    "    \"\"\" Generate the HTML code for a carousel with `npub` slides \"\"\"\n",
    "    carousel = [\"\"\"  <div class=\"carousel\" \"\"\",\n",
    "                \"\"\"       data-flickity='{ \"autoPlay\": 10000, \"adaptiveHeight\": true, \"resize\": true, \"wrapAround\": true, \"pauseAutoPlayOnHover\": true, \"groupCells\": 1 }' id=\"asyncTypeset\">\"\"\"\n",
    "                ]\n",
    "    \n",
    "    item_str = \"\"\"    <div class=\"carousel-cell\"> <div id=\"slide{k}\" class=\"md_view\">Content {k}</div> </div>\"\"\"\n",
    "    for k in range(1, npub + 1):\n",
    "        carousel.append(item_str.format(k=k))\n",
    "    carousel.append(\"  </div>\")\n",
    "    return '\\n'.join(carousel)\n",
    "\n",
    "def create_grid(npub=4):\n",
    "    \"\"\" Generate the HTML code for a flat grid with `npub` slides \"\"\"\n",
    "    grid = [\"\"\"  <div class=\"grid\"> \"\"\",\n",
    "                ]\n",
    "    \n",
    "    item_str = \"\"\"    <div class=\"grid-item\"> <div id=\"slide{k}\" class=\"md_view\">Content {k}</div> </div>\"\"\"\n",
    "    for k in range(1, npub + 1):\n",
    "        grid.append(item_str.format(k=k))\n",
    "    grid.append(\"  </div>\")\n",
    "    return '\\n'.join(grid)"
   ]
  },
  {
   "cell_type": "code",
   "execution_count": 12,
   "id": "a6eac5b6",
   "metadata": {
    "execution": {
     "iopub.execute_input": "2024-04-01T04:10:34.854047Z",
     "iopub.status.busy": "2024-04-01T04:10:34.853716Z",
     "iopub.status.idle": "2024-04-01T04:10:34.858892Z",
     "shell.execute_reply": "2024-04-01T04:10:34.858267Z"
    },
    "papermill": {
     "duration": 0.011615,
     "end_time": "2024-04-01T04:10:34.860300",
     "exception": false,
     "start_time": "2024-04-01T04:10:34.848685",
     "status": "completed"
    },
    "scrolled": false,
    "tags": []
   },
   "outputs": [],
   "source": [
    "carousel = create_carousel(npub)\n",
    "docs = ', '.join(['\"{0:s}\"'.format(k.split('/')[-1]) for k in res])\n",
    "slides = ', '.join([f'\"slide{k}\"' for k in range(1, npub + 1)])\n",
    "\n",
    "with open(\"daily_template.html\", \"r\") as tpl:\n",
    "    page = tpl.read()\n",
    "    page = page.replace(\"{%-- carousel:s --%}\", carousel)\\\n",
    "               .replace(\"{%-- suptitle:s --%}\",  \"7-day archives\" )\\\n",
    "               .replace(\"{%-- docs:s --%}\", docs)\\\n",
    "               .replace(\"{%-- slides:s --%}\", slides)\n",
    "    \n",
    "with open(\"_build/html/index_7days.html\", 'w') as fout:\n",
    "    fout.write(page)"
   ]
  },
  {
   "cell_type": "code",
   "execution_count": 13,
   "id": "adc1a1ec",
   "metadata": {
    "execution": {
     "iopub.execute_input": "2024-04-01T04:10:34.870073Z",
     "iopub.status.busy": "2024-04-01T04:10:34.869734Z",
     "iopub.status.idle": "2024-04-01T04:10:34.876339Z",
     "shell.execute_reply": "2024-04-01T04:10:34.875738Z"
    },
    "papermill": {
     "duration": 0.013039,
     "end_time": "2024-04-01T04:10:34.877725",
     "exception": false,
     "start_time": "2024-04-01T04:10:34.864686",
     "status": "completed"
    },
    "tags": []
   },
   "outputs": [
    {
     "name": "stdout",
     "output_type": "stream",
     "text": [
      "1  publications in the last day.\n"
     ]
    }
   ],
   "source": [
    "# redo for today\n",
    "days = 1\n",
    "res = list(get_last_n_days(dates, days))\n",
    "npub = len(res)\n",
    "print(len(res), f\" publications in the last day.\")\n",
    "\n",
    "carousel = create_carousel(npub)\n",
    "docs = ', '.join(['\"{0:s}\"'.format(k.split('/')[-1]) for k in res])\n",
    "slides = ', '.join([f'\"slide{k}\"' for k in range(1, npub + 1)])\n",
    "\n",
    "with open(\"daily_template.html\", \"r\") as tpl:\n",
    "    page = tpl.read()\n",
    "    page = page.replace(\"{%-- carousel:s --%}\", carousel)\\\n",
    "               .replace(\"{%-- suptitle:s --%}\",  \"Daily\" )\\\n",
    "               .replace(\"{%-- docs:s --%}\", docs)\\\n",
    "               .replace(\"{%-- slides:s --%}\", slides)\n",
    "    \n",
    "# print(carousel, docs, slides)\n",
    "# print(page)\n",
    "with open(\"_build/html/index_daily.html\", 'w') as fout:\n",
    "    fout.write(page)"
   ]
  },
  {
   "cell_type": "code",
   "execution_count": 14,
   "id": "00eece82",
   "metadata": {
    "execution": {
     "iopub.execute_input": "2024-04-01T04:10:34.887746Z",
     "iopub.status.busy": "2024-04-01T04:10:34.887366Z",
     "iopub.status.idle": "2024-04-01T04:10:34.893727Z",
     "shell.execute_reply": "2024-04-01T04:10:34.893104Z"
    },
    "papermill": {
     "duration": 0.012786,
     "end_time": "2024-04-01T04:10:34.895055",
     "exception": false,
     "start_time": "2024-04-01T04:10:34.882269",
     "status": "completed"
    },
    "scrolled": false,
    "tags": []
   },
   "outputs": [
    {
     "name": "stdout",
     "output_type": "stream",
     "text": [
      "6  6 publications selected.\n"
     ]
    }
   ],
   "source": [
    "# Create the flat grid of the last N papers (fixed number regardless of dates)\n",
    "from itertools import islice \n",
    "\n",
    "npub = 6\n",
    "res = [k[0] for k in (islice(reversed(sorted(dates, key=lambda x: x[1])), 6))]\n",
    "print(len(res), f\" {npub} publications selected.\")\n",
    "\n",
    "grid = create_grid(npub)\n",
    "docs = ', '.join(['\"{0:s}\"'.format(k.split('/')[-1]) for k in res])\n",
    "slides = ', '.join([f'\"slide{k}\"' for k in range(1, npub + 1)])\n",
    "\n",
    "with open(\"grid_template.html\", \"r\") as tpl:\n",
    "    page = tpl.read()\n",
    "    page = page.replace(\"{%-- grid-content:s --%}\", grid)\\\n",
    "               .replace(\"{%-- suptitle:s --%}\",  f\"Last {npub:,d} papers\" )\\\n",
    "               .replace(\"{%-- docs:s --%}\", docs)\\\n",
    "               .replace(\"{%-- slides:s --%}\", slides)\n",
    "    \n",
    "# print(grid, docs, slides)\n",
    "# print(page)\n",
    "with open(\"_build/html/index_npub_grid.html\", 'w') as fout:\n",
    "    fout.write(page)"
   ]
  }
 ],
 "metadata": {
  "kernelspec": {
   "display_name": "Python 3 (ipykernel)",
   "language": "python",
   "name": "python3"
  },
  "language_info": {
   "codemirror_mode": {
    "name": "ipython",
    "version": 3
   },
   "file_extension": ".py",
   "mimetype": "text/x-python",
   "name": "python",
   "nbconvert_exporter": "python",
   "pygments_lexer": "ipython3",
   "version": "3.9.19"
  },
  "papermill": {
   "default_parameters": {},
   "duration": 117.908362,
   "end_time": "2024-04-01T04:10:35.216015",
   "environment_variables": {},
   "exception": null,
   "input_path": "MPIA daily digest.ipynb",
   "output_path": "log.ipynb",
   "parameters": {},
   "start_time": "2024-04-01T04:08:37.307653",
   "version": "2.5.0"
  },
  "vscode": {
   "interpreter": {
    "hash": "aee8b7b246df8f9039afb4144a1f6fd8d2ca17a180786b69acc140d282b71a49"
   }
  },
  "widgets": {
   "application/vnd.jupyter.widget-state+json": {
    "state": {
     "08f68102dc2a447f936615ece038efad": {
      "model_module": "@jupyter-widgets/controls",
      "model_module_version": "2.0.0",
      "model_name": "ProgressStyleModel",
      "state": {
       "_model_module": "@jupyter-widgets/controls",
       "_model_module_version": "2.0.0",
       "_model_name": "ProgressStyleModel",
       "_view_count": null,
       "_view_module": "@jupyter-widgets/base",
       "_view_module_version": "2.0.0",
       "_view_name": "StyleView",
       "bar_color": null,
       "description_width": ""
      }
     },
     "22f15a0feb644b2a96394b5c74487ec9": {
      "model_module": "@jupyter-widgets/controls",
      "model_module_version": "2.0.0",
      "model_name": "HTMLStyleModel",
      "state": {
       "_model_module": "@jupyter-widgets/controls",
       "_model_module_version": "2.0.0",
       "_model_name": "HTMLStyleModel",
       "_view_count": null,
       "_view_module": "@jupyter-widgets/base",
       "_view_module_version": "2.0.0",
       "_view_name": "StyleView",
       "background": null,
       "description_width": "",
       "font_size": null,
       "text_color": null
      }
     },
     "2fc6c7c4fa6f47fbb30b6c5b54f678e8": {
      "model_module": "@jupyter-widgets/controls",
      "model_module_version": "2.0.0",
      "model_name": "HBoxModel",
      "state": {
       "_dom_classes": [],
       "_model_module": "@jupyter-widgets/controls",
       "_model_module_version": "2.0.0",
       "_model_name": "HBoxModel",
       "_view_count": null,
       "_view_module": "@jupyter-widgets/controls",
       "_view_module_version": "2.0.0",
       "_view_name": "HBoxView",
       "box_style": "",
       "children": [
        "IPY_MODEL_bf62c93c6b8b44d49a91b311a4984a37",
        "IPY_MODEL_5a64c3cec54c4af7afad6e8fcb031f9f",
        "IPY_MODEL_a32d5d6a005e4b3daaee30ad123de5bd"
       ],
       "layout": "IPY_MODEL_dfabe53ac32b4572ad2be1f5fe0f5f1d",
       "tabbable": null,
       "tooltip": null
      }
     },
     "4f5d442587c94ce0bdbe9088652a967f": {
      "model_module": "@jupyter-widgets/base",
      "model_module_version": "2.0.0",
      "model_name": "LayoutModel",
      "state": {
       "_model_module": "@jupyter-widgets/base",
       "_model_module_version": "2.0.0",
       "_model_name": "LayoutModel",
       "_view_count": null,
       "_view_module": "@jupyter-widgets/base",
       "_view_module_version": "2.0.0",
       "_view_name": "LayoutView",
       "align_content": null,
       "align_items": null,
       "align_self": null,
       "border_bottom": null,
       "border_left": null,
       "border_right": null,
       "border_top": null,
       "bottom": null,
       "display": null,
       "flex": null,
       "flex_flow": null,
       "grid_area": null,
       "grid_auto_columns": null,
       "grid_auto_flow": null,
       "grid_auto_rows": null,
       "grid_column": null,
       "grid_gap": null,
       "grid_row": null,
       "grid_template_areas": null,
       "grid_template_columns": null,
       "grid_template_rows": null,
       "height": null,
       "justify_content": null,
       "justify_items": null,
       "left": null,
       "margin": null,
       "max_height": null,
       "max_width": null,
       "min_height": null,
       "min_width": null,
       "object_fit": null,
       "object_position": null,
       "order": null,
       "overflow": null,
       "padding": null,
       "right": null,
       "top": null,
       "visibility": null,
       "width": null
      }
     },
     "5a64c3cec54c4af7afad6e8fcb031f9f": {
      "model_module": "@jupyter-widgets/controls",
      "model_module_version": "2.0.0",
      "model_name": "FloatProgressModel",
      "state": {
       "_dom_classes": [],
       "_model_module": "@jupyter-widgets/controls",
       "_model_module_version": "2.0.0",
       "_model_name": "FloatProgressModel",
       "_view_count": null,
       "_view_module": "@jupyter-widgets/controls",
       "_view_module_version": "2.0.0",
       "_view_name": "ProgressView",
       "bar_style": "success",
       "description": "",
       "description_allow_html": false,
       "layout": "IPY_MODEL_8ab7a89afea549e6b5b34938a165b15a",
       "max": 2.0,
       "min": 0.0,
       "orientation": "horizontal",
       "style": "IPY_MODEL_08f68102dc2a447f936615ece038efad",
       "tabbable": null,
       "tooltip": null,
       "value": 2.0
      }
     },
     "6c0d2d7d6431453387d1438b089ba52c": {
      "model_module": "@jupyter-widgets/controls",
      "model_module_version": "2.0.0",
      "model_name": "HTMLStyleModel",
      "state": {
       "_model_module": "@jupyter-widgets/controls",
       "_model_module_version": "2.0.0",
       "_model_name": "HTMLStyleModel",
       "_view_count": null,
       "_view_module": "@jupyter-widgets/base",
       "_view_module_version": "2.0.0",
       "_view_name": "StyleView",
       "background": null,
       "description_width": "",
       "font_size": null,
       "text_color": null
      }
     },
     "8ab7a89afea549e6b5b34938a165b15a": {
      "model_module": "@jupyter-widgets/base",
      "model_module_version": "2.0.0",
      "model_name": "LayoutModel",
      "state": {
       "_model_module": "@jupyter-widgets/base",
       "_model_module_version": "2.0.0",
       "_model_name": "LayoutModel",
       "_view_count": null,
       "_view_module": "@jupyter-widgets/base",
       "_view_module_version": "2.0.0",
       "_view_name": "LayoutView",
       "align_content": null,
       "align_items": null,
       "align_self": null,
       "border_bottom": null,
       "border_left": null,
       "border_right": null,
       "border_top": null,
       "bottom": null,
       "display": null,
       "flex": null,
       "flex_flow": null,
       "grid_area": null,
       "grid_auto_columns": null,
       "grid_auto_flow": null,
       "grid_auto_rows": null,
       "grid_column": null,
       "grid_gap": null,
       "grid_row": null,
       "grid_template_areas": null,
       "grid_template_columns": null,
       "grid_template_rows": null,
       "height": null,
       "justify_content": null,
       "justify_items": null,
       "left": null,
       "margin": null,
       "max_height": null,
       "max_width": null,
       "min_height": null,
       "min_width": null,
       "object_fit": null,
       "object_position": null,
       "order": null,
       "overflow": null,
       "padding": null,
       "right": null,
       "top": null,
       "visibility": null,
       "width": null
      }
     },
     "a32d5d6a005e4b3daaee30ad123de5bd": {
      "model_module": "@jupyter-widgets/controls",
      "model_module_version": "2.0.0",
      "model_name": "HTMLModel",
      "state": {
       "_dom_classes": [],
       "_model_module": "@jupyter-widgets/controls",
       "_model_module_version": "2.0.0",
       "_model_name": "HTMLModel",
       "_view_count": null,
       "_view_module": "@jupyter-widgets/controls",
       "_view_module_version": "2.0.0",
       "_view_name": "HTMLView",
       "description": "",
       "description_allow_html": false,
       "layout": "IPY_MODEL_4f5d442587c94ce0bdbe9088652a967f",
       "placeholder": "​",
       "style": "IPY_MODEL_22f15a0feb644b2a96394b5c74487ec9",
       "tabbable": null,
       "tooltip": null,
       "value": " 2/2 [01:39&lt;00:00, 41.75s/it]"
      }
     },
     "bf62c93c6b8b44d49a91b311a4984a37": {
      "model_module": "@jupyter-widgets/controls",
      "model_module_version": "2.0.0",
      "model_name": "HTMLModel",
      "state": {
       "_dom_classes": [],
       "_model_module": "@jupyter-widgets/controls",
       "_model_module_version": "2.0.0",
       "_model_name": "HTMLModel",
       "_view_count": null,
       "_view_module": "@jupyter-widgets/controls",
       "_view_module_version": "2.0.0",
       "_view_name": "HTMLView",
       "description": "",
       "description_allow_html": false,
       "layout": "IPY_MODEL_c92c6310a83a4caabb3168d1fffa4c81",
       "placeholder": "​",
       "style": "IPY_MODEL_6c0d2d7d6431453387d1438b089ba52c",
       "tabbable": null,
       "tooltip": null,
       "value": "100%"
      }
     },
     "c92c6310a83a4caabb3168d1fffa4c81": {
      "model_module": "@jupyter-widgets/base",
      "model_module_version": "2.0.0",
      "model_name": "LayoutModel",
      "state": {
       "_model_module": "@jupyter-widgets/base",
       "_model_module_version": "2.0.0",
       "_model_name": "LayoutModel",
       "_view_count": null,
       "_view_module": "@jupyter-widgets/base",
       "_view_module_version": "2.0.0",
       "_view_name": "LayoutView",
       "align_content": null,
       "align_items": null,
       "align_self": null,
       "border_bottom": null,
       "border_left": null,
       "border_right": null,
       "border_top": null,
       "bottom": null,
       "display": null,
       "flex": null,
       "flex_flow": null,
       "grid_area": null,
       "grid_auto_columns": null,
       "grid_auto_flow": null,
       "grid_auto_rows": null,
       "grid_column": null,
       "grid_gap": null,
       "grid_row": null,
       "grid_template_areas": null,
       "grid_template_columns": null,
       "grid_template_rows": null,
       "height": null,
       "justify_content": null,
       "justify_items": null,
       "left": null,
       "margin": null,
       "max_height": null,
       "max_width": null,
       "min_height": null,
       "min_width": null,
       "object_fit": null,
       "object_position": null,
       "order": null,
       "overflow": null,
       "padding": null,
       "right": null,
       "top": null,
       "visibility": null,
       "width": null
      }
     },
     "dfabe53ac32b4572ad2be1f5fe0f5f1d": {
      "model_module": "@jupyter-widgets/base",
      "model_module_version": "2.0.0",
      "model_name": "LayoutModel",
      "state": {
       "_model_module": "@jupyter-widgets/base",
       "_model_module_version": "2.0.0",
       "_model_name": "LayoutModel",
       "_view_count": null,
       "_view_module": "@jupyter-widgets/base",
       "_view_module_version": "2.0.0",
       "_view_name": "LayoutView",
       "align_content": null,
       "align_items": null,
       "align_self": null,
       "border_bottom": null,
       "border_left": null,
       "border_right": null,
       "border_top": null,
       "bottom": null,
       "display": null,
       "flex": null,
       "flex_flow": null,
       "grid_area": null,
       "grid_auto_columns": null,
       "grid_auto_flow": null,
       "grid_auto_rows": null,
       "grid_column": null,
       "grid_gap": null,
       "grid_row": null,
       "grid_template_areas": null,
       "grid_template_columns": null,
       "grid_template_rows": null,
       "height": null,
       "justify_content": null,
       "justify_items": null,
       "left": null,
       "margin": null,
       "max_height": null,
       "max_width": null,
       "min_height": null,
       "min_width": null,
       "object_fit": null,
       "object_position": null,
       "order": null,
       "overflow": null,
       "padding": null,
       "right": null,
       "top": null,
       "visibility": null,
       "width": null
      }
     }
    },
    "version_major": 2,
    "version_minor": 0
   }
  }
 },
 "nbformat": 4,
 "nbformat_minor": 5
}