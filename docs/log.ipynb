{
 "cells": [
  {
   "cell_type": "markdown",
   "id": "92bcb855",
   "metadata": {
    "papermill": {
     "duration": 0.003458,
     "end_time": "2025-10-15T04:13:46.098501",
     "exception": false,
     "start_time": "2025-10-15T04:13:46.095043",
     "status": "completed"
    },
    "tags": []
   },
   "source": [
    "# MPIA Arxiv on Deck 2\n",
    "\n",
    "Contains the steps to produce the paper extractions."
   ]
  },
  {
   "cell_type": "code",
   "execution_count": 1,
   "id": "3a0d6e11",
   "metadata": {
    "execution": {
     "iopub.execute_input": "2025-10-15T04:13:46.105286Z",
     "iopub.status.busy": "2025-10-15T04:13:46.105004Z",
     "iopub.status.idle": "2025-10-15T04:13:46.289974Z",
     "shell.execute_reply": "2025-10-15T04:13:46.289370Z"
    },
    "papermill": {
     "duration": 0.189793,
     "end_time": "2025-10-15T04:13:46.291297",
     "exception": false,
     "start_time": "2025-10-15T04:13:46.101504",
     "status": "completed"
    },
    "tags": []
   },
   "outputs": [],
   "source": [
    "# Imports\n",
    "import os\n",
    "from IPython.display import Markdown, display\n",
    "from tqdm.notebook import tqdm\n",
    "import warnings\n",
    "from PIL import Image \n",
    "import re\n",
    "\n",
    "# requires arxiv_on_deck_2\n",
    "\n",
    "from arxiv_on_deck_2.arxiv2 import (get_new_papers, \n",
    "                                    get_paper_from_identifier,\n",
    "                                    retrieve_document_source, \n",
    "                                    get_markdown_badge)\n",
    "from arxiv_on_deck_2 import (latex,\n",
    "                             latex_bib,\n",
    "                             mpia,\n",
    "                             highlight_authors_in_list)\n",
    "\n",
    "# Sometimes images are really big\n",
    "Image.MAX_IMAGE_PIXELS = 1000000000 "
   ]
  },
  {
   "cell_type": "code",
   "execution_count": 2,
   "id": "22aa9d44",
   "metadata": {
    "execution": {
     "iopub.execute_input": "2025-10-15T04:13:46.297894Z",
     "iopub.status.busy": "2025-10-15T04:13:46.297709Z",
     "iopub.status.idle": "2025-10-15T04:13:46.304742Z",
     "shell.execute_reply": "2025-10-15T04:13:46.304234Z"
    },
    "papermill": {
     "duration": 0.011387,
     "end_time": "2025-10-15T04:13:46.305654",
     "exception": false,
     "start_time": "2025-10-15T04:13:46.294267",
     "status": "completed"
    },
    "tags": []
   },
   "outputs": [],
   "source": [
    "# Some useful definitions.\n",
    "\n",
    "class AffiliationWarning(UserWarning):\n",
    "    pass\n",
    "\n",
    "class AffiliationError(RuntimeError):\n",
    "    pass\n",
    "\n",
    "def validation(source: str):\n",
    "    \"\"\"Raises error paper during parsing of source file\n",
    "    \n",
    "    Allows checks before parsing TeX code.\n",
    "    \n",
    "    Raises AffiliationWarning\n",
    "    \"\"\"\n",
    "    check = mpia.affiliation_verifications(source, verbose=True)\n",
    "    if check is not True:\n",
    "        raise AffiliationError(\"mpia.affiliation_verifications: \" + check)\n",
    "\n",
    "        \n",
    "warnings.simplefilter('always', AffiliationWarning)\n",
    "\n",
    "\n",
    "def get_markdown_qrcode(paper_id: str):\n",
    "    \"\"\" Generate a qrcode to the arxiv page using qrserver.com\n",
    "    \n",
    "    :param paper: Arxiv paper\n",
    "    :returns: markdown text\n",
    "    \"\"\"\n",
    "    url = r\"https://api.qrserver.com/v1/create-qr-code/?size=100x100&data=\"\n",
    "    txt = f\"\"\"<img src={url}\"https://arxiv.org/abs/{paper_id}\">\"\"\"\n",
    "    txt = '<div id=\"qrcode\">' + txt + '</div>'\n",
    "    return txt\n",
    "\n",
    "\n",
    "def clean_non_western_encoded_characters_commands(text: str) -> str:\n",
    "    \"\"\" Remove non-western encoded characters from a string\n",
    "    List may need to grow.\n",
    "    \n",
    "    :param text: the text to clean\n",
    "    :return: the cleaned text\n",
    "    \"\"\"\n",
    "    text = re.sub(r\"(\\\\begin{CJK}{UTF8}{gbsn})(.*?)(\\\\end{CJK})\", r\"\\2\", text)\n",
    "    return text\n",
    "\n",
    "\n",
    "def get_initials(name: str) -> str:\n",
    "    \"\"\" Get the short name, e.g., A.-B. FamName\n",
    "    :param name: full name\n",
    "    :returns: initials\n",
    "    \"\"\"\n",
    "    initials = []\n",
    "    # account for non western names often in ()\n",
    "    if '(' in name:\n",
    "        name = clean_non_western_encoded_characters_commands(name)\n",
    "        suffix = re.findall(r\"\\((.*?)\\)\", name)[0]\n",
    "        name = name.replace(f\"({suffix})\", '')\n",
    "    else:\n",
    "        suffix = ''\n",
    "    split = name.split()\n",
    "    for token in split[:-1]:\n",
    "        if '-' in token:\n",
    "            current = '-'.join([k[0] + '.' for k in token.split('-')])\n",
    "        else:\n",
    "            current = token[0] + '.'\n",
    "        initials.append(current)\n",
    "    initials.append(split[-1].strip())\n",
    "    if suffix:\n",
    "        initials.append(f\"({suffix})\")\n",
    "    return ' '.join(initials)"
   ]
  },
  {
   "cell_type": "markdown",
   "id": "14bd6310",
   "metadata": {
    "papermill": {
     "duration": 0.002596,
     "end_time": "2025-10-15T04:13:46.311001",
     "exception": false,
     "start_time": "2025-10-15T04:13:46.308405",
     "status": "completed"
    },
    "tags": []
   },
   "source": [
    "## get list of arxiv paper candidates\n",
    "\n",
    "We use the MPIA mitarbeiter list webpage from mpia.de to get author names\n",
    "We then get all new papers from Arxiv and match authors"
   ]
  },
  {
   "cell_type": "code",
   "execution_count": 3,
   "id": "7ea813a8",
   "metadata": {
    "execution": {
     "iopub.execute_input": "2025-10-15T04:13:46.316929Z",
     "iopub.status.busy": "2025-10-15T04:13:46.316759Z",
     "iopub.status.idle": "2025-10-15T04:14:06.716826Z",
     "shell.execute_reply": "2025-10-15T04:14:06.716309Z"
    },
    "papermill": {
     "duration": 20.40423,
     "end_time": "2025-10-15T04:14:06.717897",
     "exception": false,
     "start_time": "2025-10-15T04:13:46.313667",
     "status": "completed"
    },
    "tags": []
   },
   "outputs": [],
   "source": [
    "# deal with the author list and edge cases of people that cannot be consistent on their name  \n",
    "\n",
    "def filter_non_scientists(name: str) -> bool:\n",
    "    \"\"\" Loose filter on expected authorships\n",
    "\n",
    "    removing IT, administration, technical staff\n",
    "    :param name: name\n",
    "    :returns: False if name is not a scientist\n",
    "    \"\"\"\n",
    "    remove_list = ['Licht', 'Binroth', 'Witzel', 'Jordan',\n",
    "                   'Zähringer', 'Scheerer', 'Hoffmann', 'Düe',\n",
    "                   'Hellmich', 'Enkler-Scharpegge', 'Witte-Nguy',\n",
    "                   'Dehen', 'Beckmann', 'Jager', 'Jäger'\n",
    "                  ]\n",
    "\n",
    "    for k in remove_list:\n",
    "        if k in name:\n",
    "            return False\n",
    "    return True\n",
    "\n",
    "def add_author_to_list(author_list: list) -> list:\n",
    "    \"\"\" Add author to list if not already in list\n",
    "    \n",
    "    :param author: author name\n",
    "    :param author_list: list of authors\n",
    "    :returns: updated list of authors\n",
    "    \"\"\"\n",
    "    add_list = ['T. Henning']\n",
    "\n",
    "    for author in add_list:\n",
    "        if author not in author_list:\n",
    "            author_list.append(author)\n",
    "    return author_list\n",
    "\n",
    "# get list from MPIA website\n",
    "# filter for non-scientists (mpia.get_mpia_mitarbeiter_list() does some filtering)\n",
    "mpia_authors = [k[1] for k in mpia.get_mpia_mitarbeiter_list() if filter_non_scientists(k[1])]\n",
    "# add some missing author because of inconsistencies in their MPIA name and author name on papers\n",
    "mpia_authors = add_author_to_list(mpia_authors)"
   ]
  },
  {
   "cell_type": "code",
   "execution_count": 4,
   "id": "2645e73a",
   "metadata": {
    "execution": {
     "iopub.execute_input": "2025-10-15T04:14:06.724460Z",
     "iopub.status.busy": "2025-10-15T04:14:06.724264Z",
     "iopub.status.idle": "2025-10-15T04:14:07.766646Z",
     "shell.execute_reply": "2025-10-15T04:14:07.765967Z"
    },
    "papermill": {
     "duration": 1.046732,
     "end_time": "2025-10-15T04:14:07.767602",
     "exception": false,
     "start_time": "2025-10-15T04:14:06.720870",
     "status": "completed"
    },
    "tags": []
   },
   "outputs": [
    {
     "name": "stdout",
     "output_type": "stream",
     "text": [
      "K. Kreckel  ->  K. Kreckel  |  ['K. Kreckel']\n",
      "J. G. Lobos  ->  J. G. Lobos  |  ['J. G. Lobos']\n",
      "J. Li  ->  J. Li  |  ['J. Li']\n",
      "J. Neumann  ->  J. Neumann  |  ['J. Neumann']\n",
      "J. Li  ->  J. Li  |  ['J. Li']\n",
      "Y. Wu  ->  Y. Wu  |  ['Y. Wu']\n",
      "Y. Wang  ->  Y. Wang  |  ['Y. Wang']\n",
      "L. Xie  ->  Z.-L. Xie  |  ['L. Xie']\n",
      "Y. Wu  ->  Y. Wu  |  ['Y. Wu']\n"
     ]
    },
    {
     "name": "stdout",
     "output_type": "stream",
     "text": [
      "S. Torniamenti  ->  S. Torniamenti  |  ['S. Torniamenti']\n",
      "J. Li  ->  J. Li  |  ['J. Li']\n",
      "X. Zhang  ->  X. Zhang  |  ['X. Zhang']\n",
      "J. Shi  ->  J. Shi  |  ['J. Shi']\n",
      "Arxiv has 94 new papers today\n",
      "          9 with possible author matches\n"
     ]
    }
   ],
   "source": [
    "new_papers = get_new_papers()\n",
    "# add manual references\n",
    "add_paper_refs = []\n",
    "new_papers.extend([get_paper_from_identifier(k) for k in add_paper_refs])\n",
    "\n",
    "def robust_call(fn, value, *args, **kwargs):\n",
    "    try:\n",
    "        return fn(value, *args, **kwargs)\n",
    "    except Exception:\n",
    "        return value\n",
    "\n",
    "candidates = []\n",
    "for paperk in new_papers:\n",
    "    # Check author list with their initials\n",
    "    normed_author_list = [robust_call(mpia.get_initials, k) for k in paperk['authors']]\n",
    "    hl_authors = highlight_authors_in_list(normed_author_list, mpia_authors, verbose=True)\n",
    "    matches = [(hl, orig) for hl, orig in zip(hl_authors, paperk['authors']) if 'mark' in hl]\n",
    "    paperk['authors'] = hl_authors\n",
    "    if matches:\n",
    "        # only select paper if an author matched our list\n",
    "        candidates.append(paperk)\n",
    "print(\"\"\"Arxiv has {0:,d} new papers today\"\"\".format(len(new_papers)))        \n",
    "print(\"\"\"          {0:,d} with possible author matches\"\"\".format(len(candidates)))"
   ]
  },
  {
   "cell_type": "markdown",
   "id": "3543b34a",
   "metadata": {
    "papermill": {
     "duration": 0.002863,
     "end_time": "2025-10-15T04:14:07.773599",
     "exception": false,
     "start_time": "2025-10-15T04:14:07.770736",
     "status": "completed"
    },
    "tags": []
   },
   "source": [
    "# Parse sources and generate relevant outputs\n",
    "\n",
    "From the candidates, we do the following steps:\n",
    "* get their tarball from ArXiv (and extract data)\n",
    "* find the main .tex file: find one with \\documentclass{...} (sometimes it's non trivial)\n",
    "* Check affiliations with :func:`validation`, which uses :func:`mpia.affiliation_verifications`\n",
    "* If passing the affiliations: we parse the .tex source\n",
    "   * inject sub-documents into the main (flatten the main document)\n",
    "   * parse structure, extract information (title, abstract, authors, figures...)\n",
    "   * handles `\\graphicspath` if provided\n",
    "* Generate the .md document."
   ]
  },
  {
   "cell_type": "code",
   "execution_count": 5,
   "id": "9576b79e",
   "metadata": {
    "execution": {
     "iopub.execute_input": "2025-10-15T04:14:07.779967Z",
     "iopub.status.busy": "2025-10-15T04:14:07.779755Z",
     "iopub.status.idle": "2025-10-15T04:15:36.687448Z",
     "shell.execute_reply": "2025-10-15T04:15:36.686754Z"
    },
    "papermill": {
     "duration": 88.91215,
     "end_time": "2025-10-15T04:15:36.688501",
     "exception": false,
     "start_time": "2025-10-15T04:14:07.776351",
     "status": "completed"
    },
    "scrolled": false,
    "tags": []
   },
   "outputs": [
    {
     "data": {
      "application/vnd.jupyter.widget-view+json": {
       "model_id": "089a789f4a914ea6ae86c30c4c769e8b",
       "version_major": 2,
       "version_minor": 0
      },
      "text/plain": [
       "  0%|          | 0/9 [00:00<?, ?it/s]"
      ]
     },
     "metadata": {},
     "output_type": "display_data"
    },
    {
     "name": "stdout",
     "output_type": "stream",
     "text": [
      "Retrieving document from  https://arxiv.org/e-print/2510.11778\n"
     ]
    },
    {
     "name": "stdout",
     "output_type": "stream",
     "text": [
      "extracting tarball to tmp_2510.11778..."
     ]
    },
    {
     "name": "stdout",
     "output_type": "stream",
     "text": [
      " done.\n"
     ]
    },
    {
     "name": "stderr",
     "output_type": "stream",
     "text": [
      "/opt/hostedtoolcache/Python/3.9.23/x64/lib/python3.9/site-packages/IPython/core/interactiveshell.py:3550: LatexWarning: Multiple tex files.\n",
      "\n",
      "  exec(code_obj, self.user_global_ns, self.user_ns)\n",
      "/opt/hostedtoolcache/Python/3.9.23/x64/lib/python3.9/site-packages/IPython/core/interactiveshell.py:3550: LatexWarning: Found documentclass in tmp_2510.11778/main_aa.tex\n",
      "\n",
      "  exec(code_obj, self.user_global_ns, self.user_ns)\n",
      "/opt/hostedtoolcache/Python/3.9.23/x64/lib/python3.9/site-packages/arxiv_on_deck_2/latex.py:414: LatexWarning: Latex injecting: 'figures/fig_noise' from 'tmp_2510.11778/figures/fig_noise.tex'\n",
      "  warnings.warn(LatexWarning(f\"Latex injecting: '{ext}' from '{subsource}'\"))\n",
      "/opt/hostedtoolcache/Python/3.9.23/x64/lib/python3.9/site-packages/arxiv_on_deck_2/latex.py:414: LatexWarning: Latex injecting: 'tables/tab_agemass_assoc' from 'tmp_2510.11778/tables/tab_agemass_assoc.tex'\n",
      "  warnings.warn(LatexWarning(f\"Latex injecting: '{ext}' from '{subsource}'\"))\n",
      "/opt/hostedtoolcache/Python/3.9.23/x64/lib/python3.9/site-packages/arxiv_on_deck_2/latex.py:414: LatexWarning: Latex injecting: 'tables/tab_radlumstats' from 'tmp_2510.11778/tables/tab_radlumstats.tex'\n",
      "  warnings.warn(LatexWarning(f\"Latex injecting: '{ext}' from '{subsource}'\"))\n",
      "/opt/hostedtoolcache/Python/3.9.23/x64/lib/python3.9/site-packages/arxiv_on_deck_2/latex.py:414: LatexWarning: Latex injecting: 'figures/fig_bpt_lum' from 'tmp_2510.11778/figures/fig_bpt_lum.tex'\n",
      "  warnings.warn(LatexWarning(f\"Latex injecting: '{ext}' from '{subsource}'\"))\n",
      "/opt/hostedtoolcache/Python/3.9.23/x64/lib/python3.9/site-packages/arxiv_on_deck_2/latex.py:414: LatexWarning: Latex injecting: 'figures/fig_histradenv' from 'tmp_2510.11778/figures/fig_histradenv.tex'\n",
      "  warnings.warn(LatexWarning(f\"Latex injecting: '{ext}' from '{subsource}'\"))\n",
      "/opt/hostedtoolcache/Python/3.9.23/x64/lib/python3.9/site-packages/arxiv_on_deck_2/latex.py:414: LatexWarning: Latex injecting: 'figures/fig_histlumenv' from 'tmp_2510.11778/figures/fig_histlumenv.tex'\n",
      "  warnings.warn(LatexWarning(f\"Latex injecting: '{ext}' from '{subsource}'\"))\n",
      "/opt/hostedtoolcache/Python/3.9.23/x64/lib/python3.9/site-packages/arxiv_on_deck_2/latex.py:414: LatexWarning: Latex injecting: 'figures/fig_radlumratios' from 'tmp_2510.11778/figures/fig_radlumratios.tex'\n",
      "  warnings.warn(LatexWarning(f\"Latex injecting: '{ext}' from '{subsource}'\"))\n",
      "/opt/hostedtoolcache/Python/3.9.23/x64/lib/python3.9/site-packages/arxiv_on_deck_2/latex.py:414: LatexWarning: Latex injecting: 'figures/fig_histlum' from 'tmp_2510.11778/figures/fig_histlum.tex'\n",
      "  warnings.warn(LatexWarning(f\"Latex injecting: '{ext}' from '{subsource}'\"))\n",
      "/opt/hostedtoolcache/Python/3.9.23/x64/lib/python3.9/site-packages/arxiv_on_deck_2/latex.py:414: LatexWarning: Latex injecting: 'figures/fig_lumrad' from 'tmp_2510.11778/figures/fig_lumrad.tex'\n",
      "  warnings.warn(LatexWarning(f\"Latex injecting: '{ext}' from '{subsource}'\"))\n",
      "/opt/hostedtoolcache/Python/3.9.23/x64/lib/python3.9/site-packages/arxiv_on_deck_2/latex.py:414: LatexWarning: Latex injecting: 'figures/fig_maps_zoom' from 'tmp_2510.11778/figures/fig_maps_zoom.tex'\n",
      "  warnings.warn(LatexWarning(f\"Latex injecting: '{ext}' from '{subsource}'\"))\n",
      "/opt/hostedtoolcache/Python/3.9.23/x64/lib/python3.9/site-packages/arxiv_on_deck_2/latex.py:414: LatexWarning: Latex injecting: 'tables/tab_galprops' from 'tmp_2510.11778/tables/tab_galprops.tex'\n",
      "  warnings.warn(LatexWarning(f\"Latex injecting: '{ext}' from '{subsource}'\"))\n",
      "/opt/hostedtoolcache/Python/3.9.23/x64/lib/python3.9/site-packages/arxiv_on_deck_2/latex.py:414: LatexWarning: Latex injecting: 'tables/table_catalogue_descriptions' from 'tmp_2510.11778/tables/table_catalogue_descriptions.tex'\n",
      "  warnings.warn(LatexWarning(f\"Latex injecting: '{ext}' from '{subsource}'\"))\n",
      "/opt/hostedtoolcache/Python/3.9.23/x64/lib/python3.9/site-packages/arxiv_on_deck_2/latex.py:414: LatexWarning: Latex injecting: 'tables/table_catalogue' from 'tmp_2510.11778/tables/table_catalogue.tex'\n",
      "  warnings.warn(LatexWarning(f\"Latex injecting: '{ext}' from '{subsource}'\"))\n",
      "/opt/hostedtoolcache/Python/3.9.23/x64/lib/python3.9/site-packages/arxiv_on_deck_2/latex.py:414: LatexWarning: Latex injecting: 'figures/fig_bpt' from 'tmp_2510.11778/figures/fig_bpt.tex'\n",
      "  warnings.warn(LatexWarning(f\"Latex injecting: '{ext}' from '{subsource}'\"))\n",
      "/opt/hostedtoolcache/Python/3.9.23/x64/lib/python3.9/site-packages/arxiv_on_deck_2/latex.py:414: LatexWarning: Latex injecting: 'figures/fig_rad_mass' from 'tmp_2510.11778/figures/fig_rad_mass.tex'\n",
      "  warnings.warn(LatexWarning(f\"Latex injecting: '{ext}' from '{subsource}'\"))\n",
      "/opt/hostedtoolcache/Python/3.9.23/x64/lib/python3.9/site-packages/arxiv_on_deck_2/latex.py:414: LatexWarning: Latex injecting: 'figures/fig_histassociations_agemass' from 'tmp_2510.11778/figures/fig_histassociations_agemass.tex'\n",
      "  warnings.warn(LatexWarning(f\"Latex injecting: '{ext}' from '{subsource}'\"))\n",
      "/opt/hostedtoolcache/Python/3.9.23/x64/lib/python3.9/site-packages/arxiv_on_deck_2/latex.py:414: LatexWarning: Latex injecting: 'figures/fig_fillingfraction' from 'tmp_2510.11778/figures/fig_fillingfraction.tex'\n",
      "  warnings.warn(LatexWarning(f\"Latex injecting: '{ext}' from '{subsource}'\"))\n",
      "/opt/hostedtoolcache/Python/3.9.23/x64/lib/python3.9/site-packages/arxiv_on_deck_2/latex.py:414: LatexWarning: Latex injecting: 'figures/fig_rad_strom' from 'tmp_2510.11778/figures/fig_rad_strom.tex'\n",
      "  warnings.warn(LatexWarning(f\"Latex injecting: '{ext}' from '{subsource}'\"))\n",
      "/opt/hostedtoolcache/Python/3.9.23/x64/lib/python3.9/site-packages/arxiv_on_deck_2/latex.py:414: LatexWarning: Latex injecting: 'figures/fig_lumrad' from 'tmp_2510.11778/figures/fig_lumrad.tex'\n",
      "  warnings.warn(LatexWarning(f\"Latex injecting: '{ext}' from '{subsource}'\"))\n",
      "/opt/hostedtoolcache/Python/3.9.23/x64/lib/python3.9/site-packages/arxiv_on_deck_2/latex.py:414: LatexWarning: Latex injecting: 'figures/fig_histradmoms' from 'tmp_2510.11778/figures/fig_histradmoms.tex'\n",
      "  warnings.warn(LatexWarning(f\"Latex injecting: '{ext}' from '{subsource}'\"))\n",
      "/opt/hostedtoolcache/Python/3.9.23/x64/lib/python3.9/site-packages/arxiv_on_deck_2/latex.py:414: LatexWarning: Latex injecting: 'figures/fig_hist_literature' from 'tmp_2510.11778/figures/fig_hist_literature.tex'\n",
      "  warnings.warn(LatexWarning(f\"Latex injecting: '{ext}' from '{subsource}'\"))\n",
      "/opt/hostedtoolcache/Python/3.9.23/x64/lib/python3.9/site-packages/arxiv_on_deck_2/latex.py:414: LatexWarning: Latex injecting: 'figures/fig_histradratioenv' from 'tmp_2510.11778/figures/fig_histradratioenv.tex'\n",
      "  warnings.warn(LatexWarning(f\"Latex injecting: '{ext}' from '{subsource}'\"))\n",
      "/opt/hostedtoolcache/Python/3.9.23/x64/lib/python3.9/site-packages/arxiv_on_deck_2/latex.py:414: LatexWarning: Latex injecting: 'figures/fig_histrad_ratio' from 'tmp_2510.11778/figures/fig_histrad_ratio.tex'\n",
      "  warnings.warn(LatexWarning(f\"Latex injecting: '{ext}' from '{subsource}'\"))\n",
      "/opt/hostedtoolcache/Python/3.9.23/x64/lib/python3.9/site-packages/arxiv_on_deck_2/latex.py:414: LatexWarning: Latex injecting: 'figures/fig_histrad' from 'tmp_2510.11778/figures/fig_histrad.tex'\n",
      "  warnings.warn(LatexWarning(f\"Latex injecting: '{ext}' from '{subsource}'\"))\n",
      "/opt/hostedtoolcache/Python/3.9.23/x64/lib/python3.9/site-packages/arxiv_on_deck_2/latex.py:414: LatexWarning: Latex injecting: 'figures/fig_completeness' from 'tmp_2510.11778/figures/fig_completeness.tex'\n",
      "  warnings.warn(LatexWarning(f\"Latex injecting: '{ext}' from '{subsource}'\"))\n",
      "/opt/hostedtoolcache/Python/3.9.23/x64/lib/python3.9/site-packages/arxiv_on_deck_2/latex.py:414: LatexWarning: Latex injecting: 'tables/tab_map_compprops' from 'tmp_2510.11778/tables/tab_map_compprops.tex'\n",
      "  warnings.warn(LatexWarning(f\"Latex injecting: '{ext}' from '{subsource}'\"))\n",
      "/opt/hostedtoolcache/Python/3.9.23/x64/lib/python3.9/site-packages/arxiv_on_deck_2/latex.py:414: LatexWarning: Latex injecting: 'figures/fig_maps_zoom_single' from 'tmp_2510.11778/figures/fig_maps_zoom_single.tex'\n",
      "  warnings.warn(LatexWarning(f\"Latex injecting: '{ext}' from '{subsource}'\"))\n",
      "/opt/hostedtoolcache/Python/3.9.23/x64/lib/python3.9/site-packages/arxiv_on_deck_2/latex.py:414: LatexWarning: Latex injecting: 'figures/fig_maps' from 'tmp_2510.11778/figures/fig_maps.tex'\n",
      "  warnings.warn(LatexWarning(f\"Latex injecting: '{ext}' from '{subsource}'\"))\n",
      "/opt/hostedtoolcache/Python/3.9.23/x64/lib/python3.9/site-packages/arxiv_on_deck_2/latex.py:414: LatexWarning: Latex injecting: 'authours' from 'tmp_2510.11778/authours.tex'\n",
      "  warnings.warn(LatexWarning(f\"Latex injecting: '{ext}' from '{subsource}'\"))\n",
      "/opt/hostedtoolcache/Python/3.9.23/x64/lib/python3.9/site-packages/arxiv_on_deck_2/latex.py:414: LatexWarning: Latex injecting: 'commands' from 'tmp_2510.11778/commands.tex'\n",
      "  warnings.warn(LatexWarning(f\"Latex injecting: '{ext}' from '{subsource}'\"))\n"
     ]
    },
    {
     "name": "stdout",
     "output_type": "stream",
     "text": [
      "K. Kreckel  ->  K. Kreckel  |  ['K. Kreckel']\n",
      "J. G. Lobos  ->  J. G. Lobos  |  ['J. G. Lobos']\n",
      "J. Li  ->  J. Li  |  ['J. Li']\n",
      "J. Neumann  ->  J. Neumann  |  ['J. Neumann']\n"
     ]
    },
    {
     "name": "stdout",
     "output_type": "stream",
     "text": [
      "Found 94 bibliographic references in tmp_2510.11778/main_aa.bbl.\n",
      "Retrieving document from  https://arxiv.org/e-print/2510.11785\n"
     ]
    },
    {
     "name": "stdout",
     "output_type": "stream",
     "text": [
      "extracting tarball to tmp_2510.11785... done.\n",
      "Retrieving document from  https://arxiv.org/e-print/2510.11904\n"
     ]
    },
    {
     "name": "stderr",
     "output_type": "stream",
     "text": [
      "/opt/hostedtoolcache/Python/3.9.23/x64/lib/python3.9/site-packages/IPython/core/interactiveshell.py:3550: LatexWarning: Multiple tex files.\n",
      "\n",
      "  exec(code_obj, self.user_global_ns, self.user_ns)\n",
      "/opt/hostedtoolcache/Python/3.9.23/x64/lib/python3.9/site-packages/IPython/core/interactiveshell.py:3550: LatexWarning: Found documentclass in tmp_2510.11785/ms.tex\n",
      "\n",
      "  exec(code_obj, self.user_global_ns, self.user_ns)\n",
      "/opt/hostedtoolcache/Python/3.9.23/x64/lib/python3.9/site-packages/arxiv_on_deck_2/latex.py:414: LatexWarning: Latex injecting: '__new_commands__' from 'tmp_2510.11785/__new_commands__.tex'\n",
      "  warnings.warn(LatexWarning(f\"Latex injecting: '{ext}' from '{subsource}'\"))\n"
     ]
    },
    {
     "name": "stdout",
     "output_type": "stream",
     "text": [
      "extracting tarball to tmp_2510.11904... done.\n",
      "Retrieving document from  https://arxiv.org/e-print/2510.12162\n"
     ]
    },
    {
     "name": "stdout",
     "output_type": "stream",
     "text": [
      "extracting tarball to tmp_2510.12162..."
     ]
    },
    {
     "name": "stdout",
     "output_type": "stream",
     "text": [
      " done.\n",
      "Retrieving document from  https://arxiv.org/e-print/2510.12235\n",
      "extracting tarball to tmp_2510.12235..."
     ]
    },
    {
     "name": "stdout",
     "output_type": "stream",
     "text": [
      " done.\n",
      "Retrieving document from  https://arxiv.org/e-print/2510.12465\n"
     ]
    },
    {
     "name": "stdout",
     "output_type": "stream",
     "text": [
      "extracting tarball to tmp_2510.12465... done.\n"
     ]
    },
    {
     "name": "stderr",
     "output_type": "stream",
     "text": [
      "/opt/hostedtoolcache/Python/3.9.23/x64/lib/python3.9/site-packages/arxiv_on_deck_2/latex.py:132: LatexWarning: attempting recovering figure Plot/HR_Z0.0001_all_new.pdf\n",
      "  warnings.warn(LatexWarning(f'attempting recovering figure {image}'))\n",
      "/opt/hostedtoolcache/Python/3.9.23/x64/lib/python3.9/site-packages/arxiv_on_deck_2/latex.py:707: LatexWarning: Could not find graphic \\includegraphics[width=\\hsize]{Plot/HR_Z0.0001_all_new.pdf}\n",
      "  warnings.warn(LatexWarning(f\"Could not find graphic {k}\"))\n",
      "/opt/hostedtoolcache/Python/3.9.23/x64/lib/python3.9/site-packages/arxiv_on_deck_2/latex.py:132: LatexWarning: attempting recovering figure Plot/HR_Z0.0001_MS_new.pdf\n",
      "  warnings.warn(LatexWarning(f'attempting recovering figure {image}'))\n",
      "/opt/hostedtoolcache/Python/3.9.23/x64/lib/python3.9/site-packages/arxiv_on_deck_2/latex.py:707: LatexWarning: Could not find graphic \\includegraphics[width=\\hsize]{Plot/HR_Z0.0001_MS_new.pdf}\n",
      "  warnings.warn(LatexWarning(f\"Could not find graphic {k}\"))\n",
      "/opt/hostedtoolcache/Python/3.9.23/x64/lib/python3.9/site-packages/arxiv_on_deck_2/latex.py:132: LatexWarning: attempting recovering figure Plot/HR_Z0.004_all_new.pdf\n",
      "  warnings.warn(LatexWarning(f'attempting recovering figure {image}'))\n",
      "/opt/hostedtoolcache/Python/3.9.23/x64/lib/python3.9/site-packages/arxiv_on_deck_2/latex.py:707: LatexWarning: Could not find graphic \\includegraphics[width=\\hsize]{Plot/HR_Z0.004_all_new.pdf}\n",
      "  warnings.warn(LatexWarning(f\"Could not find graphic {k}\"))\n",
      "/opt/hostedtoolcache/Python/3.9.23/x64/lib/python3.9/site-packages/arxiv_on_deck_2/latex.py:132: LatexWarning: attempting recovering figure Plot/HR_Z0.004_MS_new.pdf\n",
      "  warnings.warn(LatexWarning(f'attempting recovering figure {image}'))\n",
      "/opt/hostedtoolcache/Python/3.9.23/x64/lib/python3.9/site-packages/arxiv_on_deck_2/latex.py:707: LatexWarning: Could not find graphic \\includegraphics[width=\\hsize]{Plot/HR_Z0.004_MS_new.pdf}\n",
      "  warnings.warn(LatexWarning(f\"Could not find graphic {k}\"))\n",
      "/opt/hostedtoolcache/Python/3.9.23/x64/lib/python3.9/site-packages/arxiv_on_deck_2/latex.py:132: LatexWarning: attempting recovering figure Plot/HR_Z0.02_all_new.pdf\n",
      "  warnings.warn(LatexWarning(f'attempting recovering figure {image}'))\n",
      "/opt/hostedtoolcache/Python/3.9.23/x64/lib/python3.9/site-packages/arxiv_on_deck_2/latex.py:707: LatexWarning: Could not find graphic \\includegraphics[width=\\hsize]{Plot/HR_Z0.02_all_new.pdf}\n",
      "  warnings.warn(LatexWarning(f\"Could not find graphic {k}\"))\n",
      "/opt/hostedtoolcache/Python/3.9.23/x64/lib/python3.9/site-packages/arxiv_on_deck_2/latex.py:132: LatexWarning: attempting recovering figure Plot/HR_Z0.02_MS_new.pdf\n",
      "  warnings.warn(LatexWarning(f'attempting recovering figure {image}'))\n",
      "/opt/hostedtoolcache/Python/3.9.23/x64/lib/python3.9/site-packages/arxiv_on_deck_2/latex.py:707: LatexWarning: Could not find graphic \\includegraphics[width=\\hsize]{Plot/HR_Z0.02_MS_new.pdf}\n",
      "  warnings.warn(LatexWarning(f\"Could not find graphic {k}\"))\n"
     ]
    },
    {
     "name": "stderr",
     "output_type": "stream",
     "text": [
      "/opt/hostedtoolcache/Python/3.9.23/x64/lib/python3.9/site-packages/arxiv_on_deck_2/latex.py:132: LatexWarning: attempting recovering figure Plot/smax_pop_bin_Z.pdf\n",
      "  warnings.warn(LatexWarning(f'attempting recovering figure {image}'))\n",
      "/opt/hostedtoolcache/Python/3.9.23/x64/lib/python3.9/site-packages/arxiv_on_deck_2/latex.py:707: LatexWarning: Could not find graphic \\includegraphics[width=\\textwidth]{Plot/smax_pop_bin_Z.pdf}\n",
      "  warnings.warn(LatexWarning(f\"Could not find graphic {k}\"))\n"
     ]
    },
    {
     "name": "stdout",
     "output_type": "stream",
     "text": [
      "Found 95 bibliographic references in tmp_2510.12465/aanda.bbl.\n",
      "Retrieving document from  https://arxiv.org/e-print/2510.12518\n",
      "extracting tarball to tmp_2510.12518..."
     ]
    },
    {
     "name": "stdout",
     "output_type": "stream",
     "text": [
      " done.\n",
      "Retrieving document from  https://arxiv.org/e-print/2510.12627\n",
      "extracting tarball to tmp_2510.12627..."
     ]
    },
    {
     "name": "stdout",
     "output_type": "stream",
     "text": [
      " done.\n",
      "Retrieving document from  https://arxiv.org/e-print/2510.12658\n",
      "extracting tarball to tmp_2510.12658..."
     ]
    },
    {
     "name": "stdout",
     "output_type": "stream",
     "text": [
      " done.\n"
     ]
    }
   ],
   "source": [
    "documents = []\n",
    "failed = []\n",
    "for paper in tqdm(candidates):\n",
    "    # debug crap\n",
    "    paper['identifier'] = paper['identifier'].lower().replace('arxiv:', '').replace(r'\\n', '').strip()\n",
    "    paper_id = paper['identifier']\n",
    "    \n",
    "    folder = f'tmp_{paper_id}'\n",
    "\n",
    "    try:\n",
    "        if not os.path.isdir(folder):\n",
    "            folder = retrieve_document_source(f\"{paper_id}\", f'tmp_{paper_id}')\n",
    "        \n",
    "        try:\n",
    "            doc = latex.LatexDocument(folder, validation=validation)    \n",
    "        except AffiliationError as affilerror:\n",
    "            msg = f\"ArXiv:{paper_id:s} is not an MPIA paper... \" + str(affilerror)\n",
    "            failed.append((paper, \"affiliation error: \" + str(affilerror) ))\n",
    "            continue\n",
    "        \n",
    "        # Hack because sometimes author parsing does not work well\n",
    "        if (len(doc.authors) != len(paper['authors'])):\n",
    "            doc._authors = paper['authors']\n",
    "        else:\n",
    "            # highlight authors (FIXME: doc.highlight_authors)\n",
    "            # done on arxiv paper already\n",
    "            doc._authors = highlight_authors_in_list(\n",
    "                [get_initials(k) for k in doc.authors], \n",
    "                mpia_authors, verbose=True)\n",
    "        if (doc.abstract) in (None, ''):\n",
    "            doc._abstract = paper['abstract']\n",
    "            \n",
    "        doc.comment = (get_markdown_badge(paper_id) + \n",
    "                       \"<mark>Appeared on: \" + paper['date'] + \"</mark> - \")\n",
    "        if paper['comments']:\n",
    "            doc.comment += \" _\" + paper['comments'] + \"_\"\n",
    "        \n",
    "        full_md = doc.generate_markdown_text()\n",
    "        \n",
    "        full_md += get_markdown_qrcode(paper_id)\n",
    "        \n",
    "        # replace citations\n",
    "        try:\n",
    "            bibdata = latex_bib.LatexBib.from_doc(doc)\n",
    "            full_md = latex_bib.replace_citations(full_md, bibdata)\n",
    "        except Exception as e:\n",
    "            print(\"Issues with the citations\")\n",
    "            print(e)\n",
    "        \n",
    "        documents.append((paper_id, full_md))\n",
    "    except Exception as e:\n",
    "        warnings.warn(latex.LatexWarning(f\"{paper_id:s} did not run properly\\n\" +\n",
    "                                         str(e)\n",
    "                                        ))\n",
    "        failed.append((paper, \"latex error \" + str(e)))"
   ]
  },
  {
   "cell_type": "markdown",
   "id": "2505a25c",
   "metadata": {
    "papermill": {
     "duration": 0.003915,
     "end_time": "2025-10-15T04:15:36.696434",
     "exception": false,
     "start_time": "2025-10-15T04:15:36.692519",
     "status": "completed"
    },
    "tags": []
   },
   "source": [
    "### Export the logs\n",
    "\n",
    "Throughout, we also keep track of the logs per paper. see `logs-{today date}.md` "
   ]
  },
  {
   "cell_type": "code",
   "execution_count": 6,
   "id": "d733828a",
   "metadata": {
    "execution": {
     "iopub.execute_input": "2025-10-15T04:15:36.705350Z",
     "iopub.status.busy": "2025-10-15T04:15:36.705103Z",
     "iopub.status.idle": "2025-10-15T04:15:36.723495Z",
     "shell.execute_reply": "2025-10-15T04:15:36.723028Z"
    },
    "papermill": {
     "duration": 0.024158,
     "end_time": "2025-10-15T04:15:36.724376",
     "exception": false,
     "start_time": "2025-10-15T04:15:36.700218",
     "status": "completed"
    },
    "scrolled": false,
    "tags": []
   },
   "outputs": [
    {
     "data": {
      "text/markdown": [
       "## Successful papers"
      ],
      "text/plain": [
       "<IPython.core.display.Markdown object>"
      ]
     },
     "metadata": {},
     "output_type": "display_data"
    },
    {
     "data": {
      "text/markdown": [
       "\n",
       "|||\n",
       "|---:|:---|\n",
       "| [![arXiv](https://img.shields.io/badge/arXiv-2510.11778-b31b1b.svg)](https://arxiv.org/abs/2510.11778) | **The PHANGS-MUSE/HST-Halpha Nebulae Catalogue**  |\n",
       "|| A. T. Barnes, et al. -- incl., <mark>K. Kreckel</mark>, <mark>J. G. Lobos</mark>, <mark>J. Li</mark>, <mark>J. Neumann</mark> |\n",
       "|*Appeared on*| *2025-10-15*|\n",
       "|*Comments*| *16 (+10) pages, 14 (+7) figures, 1 (+7) tables, accepted for publication in A&A, full catalogue available via CDS*|\n",
       "|**Abstract**|            We present the PHANGS-MUSE/HST-Halpha nebulae catalogue, comprising 5177 spatially resolved nebulae across 19 nearby star-forming galaxies (< 20 Mpc), based on high-resolution Halpha imaging from HST, homogenised to a fixed 10 pc resolution and sensitivity. Combined with MUSE spectroscopy, this enables robust classification of 4882 H II regions and separation of planetary nebulae and supernova remnants. Electron densities for 2544 H II regions are derived using [S II] diagnostics, and nebular sizes measured via circularised radii and second moments yield a median of 20 pc, extending to sub-parsec scales. A structural complexity score traces substructure, showing that about a third of regions are H II complexes, with a higher fraction in galaxy centres. A luminosity-size relation calibrated from the HST sample is applied to 30,790 MUSE nebulae, recovering sizes down to 1 pc. Observed sizes exceed classical Stromgren radii, implying typical volume filling factors of 0.22. We associate 3349 H II regions with stellar populations from PHANGS-HST, finding median ages of 3 Myr and masses of 4-5 log(Msun). The dataset provides a detailed, spatially resolved link between nebular structure and ionising sources, serving as a benchmark for future studies of feedback, diffuse ionised gas, and star formation regulation in the interstellar medium. The full catalogue is made publicly available in machine-readable format.         |"
      ],
      "text/plain": [
       "[2510.11778] The PHANGS-MUSE/HST-Halpha Nebulae Catalogue\n",
       "\tA. T. Barnes, et al. -- incl., <mark>K. Kreckel</mark>, <mark>J. G. Lobos</mark>, <mark>J. Li</mark>, <mark>J. Neumann</mark>"
      ]
     },
     "metadata": {},
     "output_type": "display_data"
    },
    {
     "data": {
      "text/markdown": [
       "\n",
       "|||\n",
       "|---:|:---|\n",
       "| [![arXiv](https://img.shields.io/badge/arXiv-2510.12465-b31b1b.svg)](https://arxiv.org/abs/2510.12465) | **Optically thick winds of very massive stars suppress intermediate-mass black hole formation**  |\n",
       "|| <mark>S. Torniamenti</mark>, et al. |\n",
       "|*Appeared on*| *2025-10-15*|\n",
       "|*Comments*| *10 pages, 7 figures. Comments welcome*|\n",
       "|**Abstract**|            Intermediate-mass black holes (IMBHs) are the link between stellar-mass and supermassive black holes. Gravitational waves have started unveiling a population of IMBHs in the $\\sim 100-300 \\, \\mathrm{M_{\\odot}}$ range. Here, we investigate the formation of IMBHs from very massive stars (VMSs, $>100\\,{} \\mathrm{M_{\\odot}}$). We calculate new VMS models that account for the transition from optically thin to optically thick winds, and study how this enhanced mass loss affects IMBH formation and the black hole mass function at intermediate and high metallicity ($Z=10^{-4}-0.02$). We show that optically thick winds suppress the formation of IMBHs from direct VMS collapse at metallicities $Z>0.001$, one order of magnitude lower than predicted by previous models. Our models indicate that the stellar progenitors of GW231123 must have had a metallicity $Z<0.002$, if the primary black hole formed via direct VMS collapse.         |"
      ],
      "text/plain": [
       "[2510.12465] Optically thick winds of very massive stars suppress intermediate-mass black hole formation\n",
       "\t<mark>S. Torniamenti</mark>, et al."
      ]
     },
     "metadata": {},
     "output_type": "display_data"
    },
    {
     "data": {
      "text/markdown": [
       "## Failed papers"
      ],
      "text/plain": [
       "<IPython.core.display.Markdown object>"
      ]
     },
     "metadata": {},
     "output_type": "display_data"
    },
    {
     "data": {
      "text/markdown": [
       "\n",
       "|||\n",
       "|---:|:---|\n",
       "| [![arXiv](https://img.shields.io/badge/arXiv-2510.11785-b31b1b.svg)](https://arxiv.org/abs/2510.11785) | **Spin and Obliquity Distributions of Low-mass Planets Shaped by Dynamical Instability**  |\n",
       "|| D. Wang, <mark>J. Li</mark>, D. Lai |\n",
       "|*Appeared on*| *2025-10-15*|\n",
       "|*Comments*| *10 pages, 6 figures, 1 table, submitted to ApJ*|\n",
       "|**Abstract**|            Exoplanetary systems hosting multiple low-mass planets are thought to have experienced dynamical instability, during which planet-planet collisions and mergers occur; these collisions can impart substantial amount of angular momentum to the merger remnants, changing the obliquities of the resulting planets significantly. In this work, we carry out a series of $N$-body experiments to investigate the spin magnitude $(|\\vec{S}|)$ and obliquity $(\\theta_{\\rm SL})$ distributions of low-mass exoplanets that have gone through planetary collisions. In our fiducial super-Earth (with $m=3M_{\\oplus}$, $R=1.3R_{\\oplus}$) and mini-Neptune systems (with $m=9M_{\\oplus}$, $R=2.5R_{\\oplus}$), the collision products follow a nearly uniform distribution in $\\cos{\\theta_{\\rm SL}}$ and the spin-magnitude distribution is approximately linear in $|\\vec{S}|$. Parameter studies and theoretical analysis show that increasing planetary radii or masses, or decreasing the initial planet-planet mutual inclinations, tend to polarize the obliquity distribution toward alignment or anti-alignment (i.e., excess probability near $\\cos{\\theta_{\\rm SL}}=\\pm1$). Experiments with initially two-planet and three-planet systems produce qualitatively similar outcomes, suggesting that the trends in this study may generalize to systems with higher planetary multiplicities.         |\n",
       "|<p style=\"color:green\"> **ERROR** </p>| <p style=\"color:green\">affiliation error: mpia.affiliation_verifications: 'Heidelberg' keyword not found.</p> |"
      ],
      "text/plain": [
       "<IPython.core.display.Markdown object>"
      ]
     },
     "metadata": {},
     "output_type": "display_data"
    },
    {
     "data": {
      "text/markdown": [
       "\n",
       "|||\n",
       "|---:|:---|\n",
       "| [![arXiv](https://img.shields.io/badge/arXiv-2510.11904-b31b1b.svg)](https://arxiv.org/abs/2510.11904) | **A Systematic North-South asymmetry in the Steady-state Climate of rapidly-rotating Oblique Water Worlds**  |\n",
       "|| <mark>Y. Wu</mark>, S. P. Zwart, H. Dijkstra |\n",
       "|*Appeared on*| *2025-10-15*|\n",
       "|*Comments*| *Accepted for publication in New Astronomy*|\n",
       "|**Abstract**|            Planetary obliquity (axial tilt) plays an important role in regulating the climate evolution and habitability of water-covered planets. Despite the suspicion of large obliquities in several exoplanetary systems, this phenomenon remains hard to observe directly. We aimed to study the effect of mass, obliquity, and rotation on the steady state climate of water-covered planets. We simulated the climate evolution of such planets with varying obliquities, rotational speed, and mass using a general circulation model (GCM) of intermediate complexity, assuming aqua-planet configurations. High obliquity supports an asymmetry between the equilibrium climatological conditions in the northern and southern hemispheres. The polar temperature ratio deviates further from unity with increasing obliquity and rotation rate. Cloud coverage patterns also shift with obliquity, displaying distinct latitudinal bands and increased cloudiness in the warmer hemisphere. The climate of habitable-zone aqua-planets turns out to be sensitive to changes in obliquity and rotation rate, but are independent of planet mass. Our results highlight the importance of considering these factors when assessing the surface conditions of exoplanets. As a consequence, surface condition asymmetries in water-world exo-planets can be used to infer the planet's obliquity and rotation rate.         |\n",
       "|<p style=\"color:green\"> **ERROR** </p>| <p style=\"color:green\">affiliation error: mpia.affiliation_verifications: 'Heidelberg' keyword not found.</p> |"
      ],
      "text/plain": [
       "<IPython.core.display.Markdown object>"
      ]
     },
     "metadata": {},
     "output_type": "display_data"
    },
    {
     "data": {
      "text/markdown": [
       "\n",
       "|||\n",
       "|---:|:---|\n",
       "| [![arXiv](https://img.shields.io/badge/arXiv-2510.12162-b31b1b.svg)](https://arxiv.org/abs/2510.12162) | **CCAT: Optical Responsivity, Noise, and Readout Optimization of KIDs for Prime-Cam**  |\n",
       "|| E. Gazda, et al. -- incl., <mark>Y. Wang</mark> |\n",
       "|*Appeared on*| *2025-10-15*|\n",
       "|*Comments*| **|\n",
       "|**Abstract**|            The Prime-Cam instrument of the Fred Young Submillimeter Telescope (FYST) at the CCAT Observatory will conduct sensitive millimeter to submillimeter surveys for a range of astrophysical and cosmological sciences. Prime-Cam will use kinetic inductance detectors (KIDs) sensitive to multiple frequency bands spanning 280--850 GHz. With over 100,000 sensors under development, these KID arrays will soon form the largest submillimeter focal plane ever built. With fixed microwave tones probing amplitude and phase modulations in the KIDs due to incoming radiation, challenges arise in determining the optimal readout settings, especially under varying atmospheric loading. Realizing the science goals of FYST requires operating the detectors at optimal performance and determining accurate responsivities, which depend on readout tone placement and power. To address these challenges, we present laboratory measurements of sample pixels from the 280 GHz TiN and Al arrays using a blackbody cold load to simulate observing conditions. These measurements probe detector responsivity and noise across varying optical loading, tone power, and tone placement, providing the foundation to guide in situ calibration and operation of the $>$100,000 KIDs. We characterize detector sensitivity via the Noise Equivalent Power (NEP) as a function of readout tone power and placement, and measure the impact of detuning due to varying optical power on the NEP. Our test setup and methodology will inform the commissioning of Prime-Cam, in situ detector calibration procedures, the cadence of probe tone resetting, and potential design refinements for future arrays, supporting FYST's planned first light in 2026.         |\n",
       "|<p style=\"color:green\"> **ERROR** </p>| <p style=\"color:green\">affiliation error: mpia.affiliation_verifications: 'Heidelberg' keyword not found.</p> |"
      ],
      "text/plain": [
       "<IPython.core.display.Markdown object>"
      ]
     },
     "metadata": {},
     "output_type": "display_data"
    },
    {
     "data": {
      "text/markdown": [
       "\n",
       "|||\n",
       "|---:|:---|\n",
       "| [![arXiv](https://img.shields.io/badge/arXiv-2510.12235-b31b1b.svg)](https://arxiv.org/abs/2510.12235) | **A census of quiescent galaxies across $0.5 < z < 8$ with JWST/MIRI: Mass-dependent number density evolution of quiescent galaxies in the early Universe**  |\n",
       "|| T. Yang, et al. -- incl., <mark>L. Xie</mark>, <mark>Y. Wu</mark> |\n",
       "|*Appeared on*| *2025-10-15*|\n",
       "|*Comments*| *17 pages, 5 figures, submitted to ApJL*|\n",
       "|**Abstract**|            JWST observations reveal numerous quiescent galaxies (QGs) at high redshift ($z \\sim 4-8$), challenging models of early galaxy formation and quenching. Accurate number density estimates are crucial for comparison with theory but remain uncertain. We systematically study QGs at $0.5 < z < 8$ using a mass-complete sample from the JWST/PRIMER survey with deep NIRCam and MIRI imaging. The MIRI data, probing rest-frame near-infrared at $z \\sim 3-8$, are vital for robust stellar mass measurement and QG identification. We find that nearly all photometrically selected, point-like QG candidates located in the UVJ QG region are actually \"Little Red Dots\", for which the UVJ colors were wrongly estimated due to inaccurate photometric redshift estimation. MIRI reduces significantly contamination to high-mass QGs from star-forming galaxies, yielding lower number densities than previous studies. The evolution of QG number density is strongly mass-dependent. The density of high-mass QGs ($\\log (M_{\\star}/M_{\\odot}) > 10.3$) decreases rapidly from $n = 1\\times10^{-5}~\\mathrm{Mpc^{-3}}$ at $z=3-4$ to $n=2\\times10^{-6}~\\mathrm{Mpc^{-3}}$ at $z = 4-5$, becoming negligible ($n \\lesssim 10^{-6}~\\mathrm{Mpc^{-3}}$ ) at $z > 5$. Conversely, low-mass QGs ($9<\\log (M_{\\star}/M_{\\odot})<10.3$) maintain a nearly constant number density ($n\\sim3\\times10^{-6}~\\mathrm{Mpc^{-3}}$) across $z = 4-8$. This suggests low-mass QGs at $z > 4$ are likely temporarily quenched, akin to mini-quenched galaxies. Comparison with major hydrodynamical and semi-analytical models shows most underestimate high-mass QG densities at $z>4$ and fail to reproduce the constant low-mass QG density at $z>5$.         |\n",
       "|<p style=\"color:green\"> **ERROR** </p>| <p style=\"color:green\">affiliation error: mpia.affiliation_verifications: 'Heidelberg' keyword not found.</p> |"
      ],
      "text/plain": [
       "<IPython.core.display.Markdown object>"
      ]
     },
     "metadata": {},
     "output_type": "display_data"
    },
    {
     "data": {
      "text/markdown": [
       "\n",
       "|||\n",
       "|---:|:---|\n",
       "| [![arXiv](https://img.shields.io/badge/arXiv-2510.12518-b31b1b.svg)](https://arxiv.org/abs/2510.12518) | **Widespread Hot Molecular Gas Heated by Shear-induced Turbulence in the Galactic Center**  |\n",
       "|| <mark>J. Li</mark>, et al. |\n",
       "|*Appeared on*| *2025-10-15*|\n",
       "|*Comments*| *21 pages, 7 figures. Accepted by ApJ*|\n",
       "|**Abstract**|            We observed NH3 metastable inversion lines from (3, 3) to (18, 18) toward G0.66-0.13 in the Galactic center with the Shanghai Tianma 65m radio telescope and Yebes 40 m telescope. Highly-excited lines of NH3 (17, 17), (18, 18) were detected in emission for the first time in the interstellar medium, with upper energy levels up to 3100 K. Mapping observations reveal widespread hot molecular gas traced by NH3 (13, 13) toward G0.66-0.13. The rotation temperatures of hot gas traced by NH3 exceed 400 K, which amounts to five percent of the total NH3 in the Galactic Center. Hot gas (>400 K) and warm gas (100-140 K) are found in distinct clumps, with the hot gas located at the interfacing regions between different warm clouds. The theory of intermittency in turbulence reproduces the complex temperature structure in the central molecular zone, especially the hot gas observed here. The results presented here demonstrate that turbulence heating dominates the heating of the molecular gas in the Central Molecular Zone, while the turbulence is induced by the shear-motion of molecular clouds under the gravitational potential of the nuclear star clusters and the supermassive black hole. Our results suggest that shear-induced turbulence heating could be a widespread factor influencing galactic evolution.         |\n",
       "|<p style=\"color:green\"> **ERROR** </p>| <p style=\"color:green\">affiliation error: mpia.affiliation_verifications: 'Heidelberg' keyword not found.</p> |"
      ],
      "text/plain": [
       "<IPython.core.display.Markdown object>"
      ]
     },
     "metadata": {},
     "output_type": "display_data"
    },
    {
     "data": {
      "text/markdown": [
       "\n",
       "|||\n",
       "|---:|:---|\n",
       "| [![arXiv](https://img.shields.io/badge/arXiv-2510.12627-b31b1b.svg)](https://arxiv.org/abs/2510.12627) | **Alleviating the $H_0$ tension through new interacting dark energy model in light of DESI DR2**  |\n",
       "|| Y.-M. Zhang, et al. -- incl., <mark>X. Zhang</mark> |\n",
       "|*Appeared on*| *2025-10-15*|\n",
       "|*Comments*| *12 pages, 4 figures*|\n",
       "|**Abstract**|            The $H_0$ tension has become one of the most significant challenges in modern cosmology. The recent DESI DR2 data has shown a significant preference for dynamical dark energy, yet this has further exacerbated the $H_0$ tension. In this work, we explore the potential of new interacting dark energy models ($\\widetilde{\\Lambda}$CDM and $e\\widetilde{\\Lambda}$CDM) to alleviate the $H_0$ tension. We perform observational constraints using the latest baryon acoustic oscillation data from DESI DR2, cosmic microwave background (CMB) data from Planck and Atacama Cosmology Telescop, and type Ia supernova data from DESY5 and PantheonPlus, as well as the SH0ES data. From our analysis, we observe the dynamical scale parameter of the cosmological constant, $\\delta_{\\Lambda} = -0.410^{+0.140}_{-0.120}$, in the $e\\widetilde{\\Lambda}$CDM model using the CMB+DESI+SH0ES data, which deviates from $\\Lambda$CDM at the $3.2\\sigma$ level. Due to the anti-correlation between $\\delta_{\\Lambda}$ and $H_0$, a negative $\\delta_{\\Lambda}$ results in a higher inferred $H_0$. Consequently, we obtain $H_0 = 71.90 \\pm 1.00~\\mathrm{km\\,s^{-1}\\,Mpc^{-1}}$, reducing the $H_0$ tension to $0.8\\sigma$. Even without SH0ES, the CMB+DESI data alone still alleviate the $H_0$ tension to $1.7\\sigma$. Overall, the $e\\widetilde{\\Lambda}$CDM model not only deviates from the $\\Lambda$CDM model but also demonstrates a significant capability to alleviate the $H_0$ tension.         |\n",
       "|<p style=\"color:green\"> **ERROR** </p>| <p style=\"color:green\">affiliation error: mpia.affiliation_verifications: 'Heidelberg' keyword not found.</p> |"
      ],
      "text/plain": [
       "<IPython.core.display.Markdown object>"
      ]
     },
     "metadata": {},
     "output_type": "display_data"
    },
    {
     "data": {
      "text/markdown": [
       "\n",
       "|||\n",
       "|---:|:---|\n",
       "| [![arXiv](https://img.shields.io/badge/arXiv-2510.12658-b31b1b.svg)](https://arxiv.org/abs/2510.12658) | **Enigmatic centi-SFU and mSFU nonthermal radio transients detected in the middle corona**  |\n",
       "|| S. Mondal, et al. -- incl., <mark>J. Shi</mark> |\n",
       "|*Appeared on*| *2025-10-15*|\n",
       "|*Comments*| *Accepted for publication in ApJ*|\n",
       "|**Abstract**|            Decades of solar coronal observations have provided substantial evidence for accelerated particles in the corona. In most cases, the location of particle acceleration can be roughly identified by combining high spatial and temporal resolution data from multiple instruments across a broad frequency range. In almost all cases, these nonthermal particles are associated with quiescent active regions, flares, and coronal mass ejections (CMEs). Only recently, some evidence of the existence of nonthermal electrons at locations outside these well-accepted regions has been found. Here, we report for the first time multiple cases of transient nonthermal emissions, in the heliocentric range of $\\sim 3-7R_\\odot$, which do not have any obvious counterparts in other wavebands, like white-light and extreme ultra-violet. These detections were made possible by the regular availability of high dynamic range low-frequency radio images from the Owens Valley Radio Observatory's Long Wavelength Array. While earlier detections of nonthermal emissions at these high heliocentric distances often had comparable extensions in the plane-of-sky, they were primarily been associated with radio CMEs, unlike the cases reported here. Thus, these results add on to the evidence that the middle corona is extremely dynamic and contains a population of nonthermal electrons, which is only becoming visible with high dynamic range low-frequency radio images.         |\n",
       "|<p style=\"color:green\"> **ERROR** </p>| <p style=\"color:green\">affiliation error: mpia.affiliation_verifications: 'Heidelberg' keyword not found.</p> |"
      ],
      "text/plain": [
       "<IPython.core.display.Markdown object>"
      ]
     },
     "metadata": {},
     "output_type": "display_data"
    }
   ],
   "source": [
    "import datetime\n",
    "today = str(datetime.date.today())\n",
    "logfile = f\"_build/html/logs/log-{today}.md\"\n",
    "\n",
    "\n",
    "with open(logfile, 'w') as logs:\n",
    "    # Success\n",
    "    logs.write(f'# Arxiv on Deck 2: Logs - {today}\\n\\n')\n",
    "    logs.write(\"\"\"* Arxiv had {0:,d} new papers\\n\"\"\".format(len(new_papers)))\n",
    "    logs.write(\"\"\"    * {0:,d} with possible author matches\\n\\n\"\"\".format(len(candidates)))\n",
    "    logs.write(\"## Sucessful papers\\n\\n\")\n",
    "    display(Markdown(\"## Successful papers\"))\n",
    "    success = [k[0] for k in documents]\n",
    "    for candid in candidates:\n",
    "        if candid['identifier'].split(':')[-1] in success:\n",
    "            display(candid)\n",
    "            logs.write(candid.generate_markdown_text() + '\\n\\n')\n",
    "\n",
    "    ## failed\n",
    "    logs.write(\"## Failed papers\\n\\n\")\n",
    "    display(Markdown(\"## Failed papers\"))\n",
    "    failed = sorted(failed, key=lambda x: x[1])\n",
    "    current_reason = \"\"\n",
    "    for paper, reason in failed:\n",
    "        if 'affiliation' in reason:\n",
    "            color = 'green'\n",
    "        else:\n",
    "            color = 'red'\n",
    "        data = Markdown(\n",
    "                paper.generate_markdown_text() + \n",
    "                f'\\n|<p style=\"color:{color:s}\"> **ERROR** </p>| <p style=\"color:{color:s}\">{reason:s}</p> |'\n",
    "               )\n",
    "        if reason != current_reason:\n",
    "            logs.write(f'### {reason:s} \\n\\n')\n",
    "            current_reason = reason\n",
    "        logs.write(data.data + '\\n\\n')\n",
    "        \n",
    "        # only display here the important errors (all in logs)\n",
    "        # if color in ('red',):\n",
    "        display(data)"
   ]
  },
  {
   "cell_type": "markdown",
   "id": "472d20ee",
   "metadata": {
    "papermill": {
     "duration": 0.004661,
     "end_time": "2025-10-15T04:15:36.733867",
     "exception": false,
     "start_time": "2025-10-15T04:15:36.729206",
     "status": "completed"
    },
    "tags": []
   },
   "source": [
    "## Export documents\n",
    "\n",
    "We now write the .md files and export relevant images"
   ]
  },
  {
   "cell_type": "code",
   "execution_count": 7,
   "id": "d426aed9",
   "metadata": {
    "execution": {
     "iopub.execute_input": "2025-10-15T04:15:36.744011Z",
     "iopub.status.busy": "2025-10-15T04:15:36.743807Z",
     "iopub.status.idle": "2025-10-15T04:15:36.749896Z",
     "shell.execute_reply": "2025-10-15T04:15:36.749362Z"
    },
    "papermill": {
     "duration": 0.012191,
     "end_time": "2025-10-15T04:15:36.750778",
     "exception": false,
     "start_time": "2025-10-15T04:15:36.738587",
     "status": "completed"
    },
    "tags": []
   },
   "outputs": [],
   "source": [
    "def export_markdown_summary(md: str, md_fname:str, directory: str):\n",
    "    \"\"\"Export MD document and associated relevant images\"\"\"\n",
    "    import os\n",
    "    import shutil\n",
    "    import re\n",
    "\n",
    "    if (os.path.exists(directory) and not os.path.isdir(directory)):\n",
    "        raise RuntimeError(f\"a non-directory file exists with name {directory:s}\")\n",
    "\n",
    "    if (not os.path.exists(directory)):\n",
    "        print(f\"creating directory {directory:s}\")\n",
    "        os.mkdir(directory)\n",
    "\n",
    "    fig_fnames = (re.compile(r'\\[Fig.*\\]\\((.*)\\)').findall(md) + \n",
    "                  re.compile(r'\\<img src=\"([^>\\s]*)\"[^>]*/>').findall(md))\n",
    "    print(\"found figures\", fig_fnames)\n",
    "    for fname in fig_fnames:\n",
    "        if 'http' in fname:\n",
    "            # No need to copy online figures\n",
    "            continue\n",
    "        if not os.path.exists(fname):\n",
    "            print(\"file not found\", fname)\n",
    "            continue\n",
    "        print(\"copying \", fname, \"to\", directory)\n",
    "        destdir = os.path.join(directory, os.path.dirname(fname))\n",
    "        destfname = os.path.join(destdir, os.path.basename(fname))\n",
    "        try:\n",
    "            os.makedirs(destdir)\n",
    "        except FileExistsError:\n",
    "            pass\n",
    "        shutil.copy(fname, destfname)\n",
    "    with open(os.path.join(directory, md_fname), 'w') as fout:\n",
    "        fout.write(md)\n",
    "    print(\"exported in \", os.path.join(directory, md_fname))\n",
    "    [print(\"    + \" + os.path.join(directory,fk)) for fk in fig_fnames]"
   ]
  },
  {
   "cell_type": "code",
   "execution_count": 8,
   "id": "014d04a4",
   "metadata": {
    "execution": {
     "iopub.execute_input": "2025-10-15T04:15:36.761399Z",
     "iopub.status.busy": "2025-10-15T04:15:36.761212Z",
     "iopub.status.idle": "2025-10-15T04:15:36.779675Z",
     "shell.execute_reply": "2025-10-15T04:15:36.779103Z"
    },
    "papermill": {
     "duration": 0.024714,
     "end_time": "2025-10-15T04:15:36.780660",
     "exception": false,
     "start_time": "2025-10-15T04:15:36.755946",
     "status": "completed"
    },
    "tags": []
   },
   "outputs": [
    {
     "name": "stdout",
     "output_type": "stream",
     "text": [
      "found figures ['tmp_2510.11778/./figures/maps_hstmuse_ngc1566_zoom_compressed.png', 'tmp_2510.11778/./figures/maps_hstmuse_ngc1566_zoom_complex.png', 'tmp_2510.11778/./figures/maps_hstmuse_ngc1566_compressed.png']\n",
      "copying  tmp_2510.11778/./figures/maps_hstmuse_ngc1566_zoom_compressed.png to _build/html/\n",
      "copying  tmp_2510.11778/./figures/maps_hstmuse_ngc1566_zoom_complex.png to _build/html/\n",
      "copying  tmp_2510.11778/./figures/maps_hstmuse_ngc1566_compressed.png to _build/html/\n",
      "exported in  _build/html/2510.11778.md\n",
      "    + _build/html/tmp_2510.11778/./figures/maps_hstmuse_ngc1566_zoom_compressed.png\n",
      "    + _build/html/tmp_2510.11778/./figures/maps_hstmuse_ngc1566_zoom_complex.png\n",
      "    + _build/html/tmp_2510.11778/./figures/maps_hstmuse_ngc1566_compressed.png\n",
      "found figures ['tmp_2510.12465/./Plot/MBH_Z_mesa_parsec_v_log.png', 'tmp_2510.12465/./Plot/m1_merged_bin_Z.png', 'tmp_2510.12465/./Plot/mass_evolution.png']\n",
      "copying  tmp_2510.12465/./Plot/MBH_Z_mesa_parsec_v_log.png to _build/html/\n",
      "copying  tmp_2510.12465/./Plot/m1_merged_bin_Z.png to _build/html/\n",
      "copying  tmp_2510.12465/./Plot/mass_evolution.png to _build/html/\n",
      "exported in  _build/html/2510.12465.md\n",
      "    + _build/html/tmp_2510.12465/./Plot/MBH_Z_mesa_parsec_v_log.png\n",
      "    + _build/html/tmp_2510.12465/./Plot/m1_merged_bin_Z.png\n",
      "    + _build/html/tmp_2510.12465/./Plot/mass_evolution.png\n"
     ]
    }
   ],
   "source": [
    "for paper_id, md in documents:\n",
    "    export_markdown_summary(md, f\"{paper_id:s}.md\", '_build/html/')"
   ]
  },
  {
   "cell_type": "markdown",
   "id": "f087a0a7",
   "metadata": {
    "papermill": {
     "duration": 0.004819,
     "end_time": "2025-10-15T04:15:36.790444",
     "exception": false,
     "start_time": "2025-10-15T04:15:36.785625",
     "status": "completed"
    },
    "tags": []
   },
   "source": [
    "## Display the papers\n",
    "\n",
    "Not necessary but allows for a quick check."
   ]
  },
  {
   "cell_type": "code",
   "execution_count": 9,
   "id": "fd25f625",
   "metadata": {
    "execution": {
     "iopub.execute_input": "2025-10-15T04:15:36.801066Z",
     "iopub.status.busy": "2025-10-15T04:15:36.800871Z",
     "iopub.status.idle": "2025-10-15T04:15:36.806019Z",
     "shell.execute_reply": "2025-10-15T04:15:36.805488Z"
    },
    "papermill": {
     "duration": 0.011539,
     "end_time": "2025-10-15T04:15:36.806922",
     "exception": false,
     "start_time": "2025-10-15T04:15:36.795383",
     "status": "completed"
    },
    "scrolled": false,
    "tags": []
   },
   "outputs": [
    {
     "data": {
      "text/markdown": [
       "<div class=\"macros\" style=\"visibility:hidden;\">\n",
       "$\\newcommand{\\ensuremath}{}$\n",
       "$\\newcommand{\\xspace}{}$\n",
       "$\\newcommand{\\object}[1]{\\texttt{#1}}$\n",
       "$\\newcommand{\\farcs}{{.}''}$\n",
       "$\\newcommand{\\farcm}{{.}'}$\n",
       "$\\newcommand{\\arcsec}{''}$\n",
       "$\\newcommand{\\arcmin}{'}$\n",
       "$\\newcommand{\\ion}[2]{#1#2}$\n",
       "$\\newcommand{\\textsc}[1]{\\textrm{#1}}$\n",
       "$\\newcommand{\\hl}[1]{\\textrm{#1}}$\n",
       "$\\newcommand{\\footnote}[1]{}$\n",
       "$\\newcommand$\n",
       "$\\newcommand$\n",
       "$\\newcommand{\\HII}{\\ion{H}{II}}$\n",
       "$\\newcommand{\\hii}{\\ion{H}{II}}$\n",
       "$\\newcommand{\\Ha}{H{\\alpha}}$\n",
       "$\\newcommand{\\kms}{\\rm km s^{-1}}$\n",
       "$\\newcommand{\\SIIa}{[\\ion{S}{II}]\\ensuremath{\\lambda6716}}$\n",
       "$\\newcommand{\\SIIb}{[\\ion{S}{II}]\\ensuremath{\\lambda6731}}$\n",
       "$\\newcommand{\\SII}{[\\ion{S}{II}]\\ensuremath{\\lambda6716{+}\\lambda6731}}$\n",
       "$\\newcommand{\\oiii}{[O \\textsc{iii}]}$\n",
       "$\\newcommand{\\nii}{[N \\textsc{ii}]}$\n",
       "$\\newcommand{\\sii}{[S \\textsc{ii}]}$\n",
       "$\\newcommand{\\oi}{[O \\textsc{i}]}$\n",
       "$\\newcommand{\\niion}{[N \\textsc{i}]}$\n",
       "$\\newcommand{\\hei}{[He \\textsc{i}]}$\n",
       "$\\newcommand{\\siii}{[S \\textsc{iii}]}$\n",
       "$\\newcommand{\\oii}{[O \\textsc{ii}]}$\n",
       "$\\newcommand{\\Mgb}{Mg\\textit{b}}$\n",
       "$\\newcommand{\\NaI}{Na \\textsc{I}}$\n",
       "$\\newcommand{\\ha}{\\mbox{\\mathrm{H}\\alpha}}$\n",
       "$\\newcommand{\\hb}{\\mbox{\\mathrm{H}\\beta}}$\n",
       "$\\newcommand{\\Rsii}{\\ensuremath{R_{\\sii}}}$\n",
       "$\\newcommand{\\xx}[1]{\\textcolor{black}{ #1}}$\n",
       "$\\newcommand{\\Csimple}{\\mathcal{C}_{\\mathrm{simp}}}$\n",
       "$\\newcommand{\\Cintermediate}{\\mathcal{C}_{\\mathrm{inter}}}$\n",
       "$\\newcommand{\\Ccomplex}{\\mathcal{C}_{\\mathrm{comp}}}$\n",
       "$\\newcommand{\\fontcolor}{black}$\n",
       "$\\newcommand$\n",
       "$\\newcommand\\kms{{\\rm km s^{-1}}}$\n",
       "$\\newcommand\\Kkms{{\\rm K km s^{-1}}}$\n",
       "$\\newcommand\\msun{{\\rm M_\\odot}}$\n",
       "$\\newcommand\\Lsol{{\\rm L_\\odot}}$\n",
       "$\\newcommand\\micron{\\hbox{\\upmum}}$\n",
       "$\\newcommand\\solyr{{\\rm M_\\odot yr^{-1}}}$\n",
       "$\\newcommand\\dyncm{{\\rm dyn cm^{-2}}}$\n",
       "$\\newcommand\\ergs{{\\rm  erg s^{-1}}}$\n",
       "$\\newcommand\\cmsq{{\\rm cm^{-2}}}$\n",
       "$\\newcommand\\cmcb{{\\rm cm^{-3}}}$\n",
       "$\\newcommand\\gcmsq{{\\rm g cm^{-2}}}$\n",
       "$\\newcommand\\gcmcb{{\\rm g cm^{-3}}}$\n",
       "$\\newcommand\\Kcmcb{{\\rm K cm^{-3}}}$\n",
       "$\\newcommand\\Lha{\\ensuremath{L_{\\mathrm{H}\\alpha}}}$\n",
       "$\\newcommand\\Lbol{\\ensuremath{L_\\mathrm{bol}}}$\n",
       "$\\newcommand\\Lbolimf{\\ensuremath{L_\\mathrm{bol,imf}}}$\n",
       "$\\newcommand\\Te{\\ensuremath{T_\\mathrm{e}}}$\n",
       "$\\newcommand\\ne{\\ensuremath{n_\\mathrm{e}}}$\n",
       "$\\newcommand\\ptot{\\ensuremath{P_\\mathrm{tot}}}$\n",
       "$\\newcommand\\pdir{\\ensuremath{P_\\mathrm{rad}}}$\n",
       "$\\newcommand\\ptherm{\\ensuremath{P_\\mathrm{therm}}}$\n",
       "$\\newcommand\\pwind{\\ensuremath{P_\\mathrm{wind}}}$\n",
       "$\\newcommand\\pde{\\ensuremath{P_\\mathrm{de}}}$\n",
       "$\\newcommand\\pdess{\\ensuremath{\\langle P_\\mathrm{de,\\theta pc} \\rangle_\\mathrm{1kpc}}}$\n",
       "$\\newcommand\\pmax{\\ensuremath{P_\\mathrm{max}}}$\n",
       "$\\newcommand\\pmin{\\ensuremath{P_\\mathrm{min}}}$\n",
       "$\\newcommand\\Ha{\\textup{H\\ensuremath{\\alpha}}}$\n",
       "$\\newcommand\\Hb{\\textup{H\\ensuremath{\\beta}}}$\n",
       "$\\newcommand\\Nmuseall{30,790}$\n",
       "$\\newcommand\\Nmuse{25,910}$\n",
       "$\\newcommand\\Nmusehii{19,528}$\n",
       "$\\newcommand\\Nhst{5177}$\n",
       "$\\newcommand\\Nhstnoflags{5467}$\n",
       "$\\newcommand\\Nhstsimple{3386}$\n",
       "$\\newcommand\\Nhstintermediate{1169}$\n",
       "$\\newcommand\\Nhstcomplex{622}$\n",
       "$\\newcommand\\Nhii{4882}$\n",
       "$\\newcommand\\Nne{2544}$\n",
       "$\\newcommand\\Nassoc{3349}$\n",
       "$\\newcommand\\NTe{779}$\n",
       "$\\newcommand\\NTefrac{14\\%}$\n",
       "$\\newcommand\\Nsnr{556}$\n",
       "$\\newcommand\\Ncols{241}$</div>\n",
       "\n",
       "\n",
       "\n",
       "<div id=\"title\">\n",
       "\n",
       "# The PHANGS-MUSE/HST-H$\\alpha$ Nebulae Catalogue: Parsec-Scale Resolved Structure, Physical Conditions, and Stellar Associations across Nearby Galaxies\n",
       "\n",
       "</div>\n",
       "<div id=\"comments\">\n",
       "\n",
       "[![arXiv](https://img.shields.io/badge/arXiv-2510.11778-b31b1b.svg)](https://arxiv.org/abs/2510.11778)<mark>Appeared on: 2025-10-15</mark> -  _16 (+10) pages, 14 (+7) figures, 1 (+7) tables, accepted for publication in A&A, full catalogue available via CDS_\n",
       "\n",
       "</div>\n",
       "<div id=\"authors\">\n",
       "\n",
       "A. T. Barnes, et al. -- incl., <mark>K. Kreckel</mark>, <mark>J. G. Lobos</mark>, <mark>J. Li</mark>, <mark>J. Neumann</mark>\n",
       "\n",
       "</div>\n",
       "<div id=\"abstract\">\n",
       "\n",
       "**Abstract:** We present the PHANGS-MUSE/HST-H $\\alpha$ nebulae catalogue, comprising $\\Nhst$ spatially resolved nebulae across 19 nearby star-forming galaxies ( $D<20$ Mpc), based on high-resolution H $\\alpha$ imaging from HST, homogenised to a fixed (10 pc) physical resolution and sensitivity. Combined with MUSE integral field spectroscopy, this enables robust classification of $\\Nhii$ $\\ion{H}{ii}$ regions and the separation of planetary nebulae and supernova remnants. We derive electron densities for $\\Nne$ $\\ion{H}{ii}$ regions using [ S ii ] diagnostics and adopt direct or representative electron temperatures for consistent physical characterisation. Nebular sizes are measured using circularised radii and intensity-weighted second moments, yielding a median radius of approximately 20 pc and extending down to (sub)-parsec (deconvolved) radii. A structural complexity score is introduced via hierarchical segmentation to trace substructure, highlighting that around a third of the regions are $\\hii$ complexes containing several individual clusters/bubbles, with an increased fraction of these regions in galactic centres. A luminosity–size relation, calibrated using the resolved HST sample, is applied to $\\Nmuseall$ MUSE nebulae, allowing the recovery of nebular sizes down to $\\sim$ 1 pc and providing statistical completeness beyond the HST detection limit. Comparisons with classical Strömgren radii indicate that observed sizes are systematically larger, corresponding to typical volume filling factors with a \\textcolor{\\fontcolor}{median of $\\epsilon \\sim 0.22$ (10th–90th percentile 0.06–0.78), with larger regions exhibiting progressively lower values.} We associate $\\Nassoc$ $\\ion{H}{ii}$ regions with stellar populations from the PHANGS-HST association catalogue, finding median ages of $\\sim$ 3 Myr and typical stellar masses of around $10^4$ – $10^5$ M $_\\odot$ , supporting the link between ionised nebular and young stellar populations. We also assess the impact of diffuse ionised gas on emission-line diagnostics and, after removing confirmed supernova remnants, find no strong variation in line ratios with nebular resolution, indicating minimal systematic bias in the MUSE catalogue. This dataset establishes a detailed, spatially resolved connection between nebular structure and ionising sources, and provides a benchmark for future studies of feedback, DIG contributions, and star formation regulation in the ISM, especially in combination with matched high-resolution observations. \\textcolor{\\fontcolor}{The full catalogue is made publicly available in machine-readable format.}\n",
       "\n",
       "</div>\n",
       "\n",
       "<div id=\"div_fig1\">\n",
       "\n",
       "<img src=\"tmp_2510.11778/./figures/maps_hstmuse_ngc1566_zoom_compressed.png\" alt=\"Fig12\" width=\"100%\"/>\n",
       "\n",
       "**Figure 12. -** **Example of a $\\hii$ complex region in NGC 1566 (see \\S \\ref{subsec_complexity**).}(_upper left panel_) MUSE observations and (_upper right_) HST $\\Ha$ observations that are smoothed to a physical scale of 10 pc and with a fixed noise level (see \\S\\ref{subsec_DataHomogenization}). Each of these are overlaid with contours showing the boundary of the sources identified in the MUSE (white) and HST (black) observations. (_lower left panel_) A map of the complexity score for the region (see \\S\\ref{subsec_structure}). (_lower right panel_) We show the nebula (orange contours) and 32 pc NUV-identified  association (\\citealp{Larson2023}; cyan contour) overlaid on a HST filter red (F814W) green (F555W) blue (F438W+F336W) image (see \\citealp{Lee2022}). See Fig. \\ref{fig_maps_zoom_complex} for additional examples of simple, intermediate and complex nebulae within NGC 1566. (*fig_maps_zoom_single*)\n",
       "\n",
       "</div>\n",
       "<div id=\"div_fig2\">\n",
       "\n",
       "<img src=\"tmp_2510.11778/./figures/maps_hstmuse_ngc1566_zoom_complex.png\" alt=\"Fig16\" width=\"100%\"/>\n",
       "\n",
       "**Figure 16. -** **Example of several regions within the nebula catalogues towards NGC 1566.** The MUSE (_first row_) and HST (_second row_) observations, overlaid with contours showing the boundary of each source in the respective observations. (_third row_) We show a map of the complexity score for each region. (_fourth row_) We show the nebula (red contours) and 32 pc NUV-identified stellar association (\\citealp{Larson2023}; blue contour) overlaid on a HST filter red (F814W) green (F555W) blue (F438W+F336W) image (see \\citealp{Lee2022}). (*fig_maps_zoom_complex*)\n",
       "\n",
       "</div>\n",
       "<div id=\"div_fig3\">\n",
       "\n",
       "<img src=\"tmp_2510.11778/./figures/maps_hstmuse_ngc1566_compressed.png\" alt=\"Fig11\" width=\"100%\"/>\n",
       "\n",
       "**Figure 11. -** **Overview of the nebula catalogues towards NGC 1566.**(_Upper left_) The background colour scale shows the H$\\alpha$ emission from the PHANGS-MUSE observations  ([Emsellem, Schinnerer and Santoro 2022]()) , overlaid with contours showing the boundaries of the sources identified in the PHANGS-MUSE Nebula Catalogue \\citep[][see also \\citealp{Santoro2022}]{Groves2023}. White boxes indicate the positions of the regions shown in Figs. \\ref{fig_maps_zoom_single}(solid lines) and  \\ref{fig_maps_zoom_complex}(dashed lines). (_Upper centre_) The background colour scale shows the H$\\alpha$ emission from the PHANGS-HST H$\\alpha$ observations  ([Chandar, Barnes and Thilker 2025]()) , overlaid with contours showing the boundaries of the sources identified in this work in the PHANGS-HST Nebula Catalogue. (_Bottom left_) The PHANGS-MUSE Nebula Catalogue masks and (_bottom centre_) PHANGS-HST Nebula Catalogue masks are shown with the same colour scale, where the colours denote the region ID. (_Right_) Composite of separate exposures acquired with JWST using the NIRCam and MIRI instruments  ([Lee, Sandstrom and Leroy 2023](), [Williams, Lee and Larson 2024]()) , and the HST using the ACS/WFC instrument  ([Lee, Whitmore and Thilker 2022]()) . For the JWST part of the image, the assigned colors are Red = F2100W + F1130W + F1000W + F770W, Green = F770W + F360M, Blue = F335M + F300M. For the HST part of the image, the assigned colors are Red = F814W + F656N, Green = F555W, Blue = F435W. Overlaid as contours is the PHANGS-HST Nebula Catalogue (as in the other panels). (*fig_maps*)\n",
       "\n",
       "</div><div id=\"qrcode\"><img src=https://api.qrserver.com/v1/create-qr-code/?size=100x100&data=\"https://arxiv.org/abs/2510.11778\"></div>"
      ],
      "text/plain": [
       "<IPython.core.display.Markdown object>"
      ]
     },
     "metadata": {},
     "output_type": "display_data"
    },
    {
     "data": {
      "text/markdown": [
       "<div class=\"macros\" style=\"visibility:hidden;\">\n",
       "$\\newcommand{\\ensuremath}{}$\n",
       "$\\newcommand{\\xspace}{}$\n",
       "$\\newcommand{\\object}[1]{\\texttt{#1}}$\n",
       "$\\newcommand{\\farcs}{{.}''}$\n",
       "$\\newcommand{\\farcm}{{.}'}$\n",
       "$\\newcommand{\\arcsec}{''}$\n",
       "$\\newcommand{\\arcmin}{'}$\n",
       "$\\newcommand{\\ion}[2]{#1#2}$\n",
       "$\\newcommand{\\textsc}[1]{\\textrm{#1}}$\n",
       "$\\newcommand{\\hl}[1]{\\textrm{#1}}$\n",
       "$\\newcommand{\\footnote}[1]{}$\n",
       "$\\newcommand{\\orcidicon}[1]{\\href{https://orcid.org/#1}{\\includegraphics[width=11pt]{Plot/ORCIDiD_icon128x128.png}}}$\n",
       "$\\newcommand{\\orcid}[1]{\\href{https://orcid.org/#1}{\\protect\\orcidicon{#1}}}$\n",
       "$\\newcommand{\\msun}{{\\rm M}_\\odot}$\n",
       "$\\newcommand{\\ST}[1]{\\textcolor{steelblue!100}{#1_{\\mathrm{ST}}}}$</div>\n",
       "\n",
       "\n",
       "\n",
       "<div id=\"title\">\n",
       "\n",
       "# Optically thick winds of very massive stars \\ suppress intermediate-mass black hole formation\n",
       "\n",
       "</div>\n",
       "<div id=\"comments\">\n",
       "\n",
       "[![arXiv](https://img.shields.io/badge/arXiv-2510.12465-b31b1b.svg)](https://arxiv.org/abs/2510.12465)<mark>Appeared on: 2025-10-15</mark> -  _10 pages, 7 figures. Comments welcome_\n",
       "\n",
       "</div>\n",
       "<div id=\"authors\">\n",
       "\n",
       "<mark>S. Torniamenti</mark>, et al.\n",
       "\n",
       "</div>\n",
       "<div id=\"abstract\">\n",
       "\n",
       "**Abstract:** Intermediate-mass black holes (IMBHs) are the link between stellar-mass and supermassive black holes.Gravitational waves havestarted unveiling a population of IMBHs in the $\\sim 100-300   \\msun$ range.Here, we investigate the formation of IMBHs from very massive stars (VMSs, $>100   \\msun$ ). We calculate new VMS models that account for the transition from optically thin to optically thick winds, and study how this enhanced mass loss affects  IMBH formation and the black hole mass function at intermediate and high metallicity ( $Z=10^{-4}-0.02$ ).We show that optically thick winds suppress the formation of IMBHs from direct VMS collapse at metallicities $Z>0.001$ , one order of magnitude lower than  predicted by previous models.Our models indicate that the stellar progenitors of GW231123 must have had a metallicity $Z<0.002$ , if the primary black hole formed via direct VMS collapse.\n",
       "\n",
       "</div>\n",
       "\n",
       "<div id=\"div_fig1\">\n",
       "\n",
       "<img src=\"tmp_2510.12465/./Plot/MBH_Z_mesa_parsec_v_log.png\" alt=\"Fig22\" width=\"100%\"/>\n",
       "\n",
       "**Figure 22. -** Final BH mass as a function of $M_{\\mathrm{ZAMS}}$ for different metallicities $Z$,  for the \\citetalias{Sabhahit2023}(upper) and \\citetalias{Chen2015}(lower)  wind mass-loss prescription. The grey shaded area shows the resulting pair-instability mass gap for the two wind models. (*fig:MBH_Z*)\n",
       "\n",
       "</div>\n",
       "<div id=\"div_fig2\">\n",
       "\n",
       "<img src=\"tmp_2510.12465/./Plot/m1_merged_bin_Z.png\" alt=\"Fig16\" width=\"100%\"/>\n",
       "\n",
       "**Figure 16. -** Primary BH mass distribution in BBH mergers, for models adopting the \\citetalias{Sabhahit2023}(blue, solid line) \\citetalias{Chen2015}(orange, dashed line) wind prescriptions. The shaded (hatched) area shows the BH masses from stars with $M_{\\mathrm{ZAMS}} > 50 $\\msun$$ for the \\citetalias{Sabhahit2023}(\\citetalias{Chen2015}), respectively. (*fig:bin_BH_pop*)\n",
       "\n",
       "</div>\n",
       "<div id=\"div_fig3\">\n",
       "\n",
       "<img src=\"tmp_2510.12465/./Plot/mass_evolution.png\" alt=\"Fig17\" width=\"100%\"/>\n",
       "\n",
       "**Figure 17. -** Mass evolution for models with the wind prescription from Sabhahit+23 (full markers) and Chen+15 (void markers). MODELS with Chen+15 evolved with SEVN based on PARSEC tracks. \\textcolor{red}{NOTE THAT models with Z=0.02 and Z=0.008 actually use Sabhahit+22, which was conceived for higher metallicities.} (*fig:BH_sevn*)\n",
       "\n",
       "</div><div id=\"qrcode\"><img src=https://api.qrserver.com/v1/create-qr-code/?size=100x100&data=\"https://arxiv.org/abs/2510.12465\"></div>"
      ],
      "text/plain": [
       "<IPython.core.display.Markdown object>"
      ]
     },
     "metadata": {},
     "output_type": "display_data"
    }
   ],
   "source": [
    "[display(Markdown(k[1])) for k in documents];"
   ]
  },
  {
   "cell_type": "markdown",
   "id": "873873a4",
   "metadata": {
    "papermill": {
     "duration": 0.00512,
     "end_time": "2025-10-15T04:15:36.817349",
     "exception": false,
     "start_time": "2025-10-15T04:15:36.812229",
     "status": "completed"
    },
    "tags": []
   },
   "source": [
    "# Create HTML index"
   ]
  },
  {
   "cell_type": "code",
   "execution_count": 10,
   "id": "cf665672",
   "metadata": {
    "execution": {
     "iopub.execute_input": "2025-10-15T04:15:36.828455Z",
     "iopub.status.busy": "2025-10-15T04:15:36.828265Z",
     "iopub.status.idle": "2025-10-15T04:15:36.834672Z",
     "shell.execute_reply": "2025-10-15T04:15:36.834214Z"
    },
    "papermill": {
     "duration": 0.012971,
     "end_time": "2025-10-15T04:15:36.835529",
     "exception": false,
     "start_time": "2025-10-15T04:15:36.822558",
     "status": "completed"
    },
    "tags": []
   },
   "outputs": [
    {
     "name": "stdout",
     "output_type": "stream",
     "text": [
      "122  publications files modified in the last 7 days.\n"
     ]
    }
   ],
   "source": [
    "from datetime import datetime, timedelta, timezone\n",
    "from glob import glob\n",
    "import os\n",
    "\n",
    "files = glob('_build/html/*.md')\n",
    "days = 7\n",
    "now = datetime.today()\n",
    "res = []\n",
    "for fk in files:\n",
    "    stat_result = os.stat(fk).st_ctime\n",
    "    modified = datetime.fromtimestamp(stat_result, tz=timezone.utc).replace(tzinfo=None)\n",
    "    delta = now.today() - modified\n",
    "    if delta <= timedelta(days=days):\n",
    "        res.append((delta.seconds, fk))\n",
    "res = [k[1] for k in reversed(sorted(res, key=lambda x:x[1]))]\n",
    "npub = len(res)\n",
    "print(len(res), f\" publications files modified in the last {days:d} days.\")\n",
    "# [ print('\\t', k) for k in res ];"
   ]
  },
  {
   "cell_type": "code",
   "execution_count": 11,
   "id": "015de740",
   "metadata": {
    "execution": {
     "iopub.execute_input": "2025-10-15T04:15:36.846830Z",
     "iopub.status.busy": "2025-10-15T04:15:36.846634Z",
     "iopub.status.idle": "2025-10-15T04:15:36.857053Z",
     "shell.execute_reply": "2025-10-15T04:15:36.856578Z"
    },
    "papermill": {
     "duration": 0.017081,
     "end_time": "2025-10-15T04:15:36.857900",
     "exception": false,
     "start_time": "2025-10-15T04:15:36.840819",
     "status": "completed"
    },
    "tags": []
   },
   "outputs": [
    {
     "name": "stdout",
     "output_type": "stream",
     "text": [
      "9  publications in the last 7 days.\n"
     ]
    }
   ],
   "source": [
    "import datetime\n",
    "from glob import glob\n",
    "\n",
    "def get_last_n_days(lst, days=1):\n",
    "    \"\"\" Get the documents from the last n days \"\"\"\n",
    "    sorted_lst = sorted(lst, key=lambda x: x[1], reverse=True)\n",
    "    for fname, date in sorted_lst:\n",
    "        if date >= str(datetime.date.today() - datetime.timedelta(days=days)):\n",
    "            yield fname\n",
    "\n",
    "def extract_appearance_dates(lst_file):\n",
    "    dates = []\n",
    "\n",
    "    def get_date(line):\n",
    "        return line\\\n",
    "            .split('Appeared on:')[-1]\\\n",
    "            .split('</mark>')[0].strip()\n",
    "\n",
    "    for fname in lst:\n",
    "        with open(fname, 'r') as f:\n",
    "            found_date = False\n",
    "            for line in f:\n",
    "                if not found_date:\n",
    "                    if \"Appeared on\" in line:\n",
    "                        found_date = True\n",
    "                        dates.append((fname, get_date(line)))\n",
    "                else:\n",
    "                    break\n",
    "    return dates\n",
    "\n",
    "from glob import glob\n",
    "lst = glob('_build/html/*md')\n",
    "days = 7\n",
    "dates = extract_appearance_dates(lst)\n",
    "res = list(get_last_n_days(dates, days))\n",
    "npub = len(res)\n",
    "print(len(res), f\" publications in the last {days:d} days.\")"
   ]
  },
  {
   "cell_type": "code",
   "execution_count": 12,
   "id": "52ca0208",
   "metadata": {
    "execution": {
     "iopub.execute_input": "2025-10-15T04:15:36.869467Z",
     "iopub.status.busy": "2025-10-15T04:15:36.869285Z",
     "iopub.status.idle": "2025-10-15T04:15:36.873542Z",
     "shell.execute_reply": "2025-10-15T04:15:36.872968Z"
    },
    "papermill": {
     "duration": 0.01112,
     "end_time": "2025-10-15T04:15:36.874483",
     "exception": false,
     "start_time": "2025-10-15T04:15:36.863363",
     "status": "completed"
    },
    "scrolled": false,
    "tags": []
   },
   "outputs": [],
   "source": [
    "def create_carousel(npub=4):\n",
    "    \"\"\" Generate the HTML code for a carousel with `npub` slides \"\"\"\n",
    "    carousel = [\"\"\"  <div class=\"carousel\" \"\"\",\n",
    "                \"\"\"       data-flickity='{ \"autoPlay\": 10000, \"adaptiveHeight\": true, \"resize\": true, \"wrapAround\": true, \"pauseAutoPlayOnHover\": true, \"groupCells\": 1 }' id=\"asyncTypeset\">\"\"\"\n",
    "                ]\n",
    "    \n",
    "    item_str = \"\"\"    <div class=\"carousel-cell\"> <div id=\"slide{k}\" class=\"md_view\">Content {k}</div> </div>\"\"\"\n",
    "    for k in range(1, npub + 1):\n",
    "        carousel.append(item_str.format(k=k))\n",
    "    carousel.append(\"  </div>\")\n",
    "    return '\\n'.join(carousel)\n",
    "\n",
    "def create_grid(npub=4):\n",
    "    \"\"\" Generate the HTML code for a flat grid with `npub` slides \"\"\"\n",
    "    grid = [\"\"\"  <div class=\"grid\"> \"\"\",\n",
    "                ]\n",
    "    \n",
    "    item_str = \"\"\"    <div class=\"grid-item\"> <div id=\"slide{k}\" class=\"md_view\">Content {k}</div> </div>\"\"\"\n",
    "    for k in range(1, npub + 1):\n",
    "        grid.append(item_str.format(k=k))\n",
    "    grid.append(\"  </div>\")\n",
    "    return '\\n'.join(grid)"
   ]
  },
  {
   "cell_type": "code",
   "execution_count": 13,
   "id": "a6eac5b6",
   "metadata": {
    "execution": {
     "iopub.execute_input": "2025-10-15T04:15:36.885974Z",
     "iopub.status.busy": "2025-10-15T04:15:36.885783Z",
     "iopub.status.idle": "2025-10-15T04:15:36.890351Z",
     "shell.execute_reply": "2025-10-15T04:15:36.889768Z"
    },
    "papermill": {
     "duration": 0.011371,
     "end_time": "2025-10-15T04:15:36.891180",
     "exception": false,
     "start_time": "2025-10-15T04:15:36.879809",
     "status": "completed"
    },
    "scrolled": false,
    "tags": []
   },
   "outputs": [],
   "source": [
    "carousel = create_carousel(npub)\n",
    "docs = ', '.join(['\"{0:s}\"'.format(k.split('/')[-1]) for k in res])\n",
    "slides = ', '.join([f'\"slide{k}\"' for k in range(1, npub + 1)])\n",
    "\n",
    "with open(\"daily_template.html\", \"r\") as tpl:\n",
    "    page = tpl.read()\n",
    "    page = page.replace(\"{%-- carousel:s --%}\", carousel)\\\n",
    "               .replace(\"{%-- suptitle:s --%}\",  \"7-day archives\" )\\\n",
    "               .replace(\"{%-- docs:s --%}\", docs)\\\n",
    "               .replace(\"{%-- slides:s --%}\", slides)\n",
    "    \n",
    "with open(\"_build/html/index_7days.html\", 'w') as fout:\n",
    "    fout.write(page)"
   ]
  },
  {
   "cell_type": "code",
   "execution_count": 14,
   "id": "adc1a1ec",
   "metadata": {
    "execution": {
     "iopub.execute_input": "2025-10-15T04:15:36.903019Z",
     "iopub.status.busy": "2025-10-15T04:15:36.902838Z",
     "iopub.status.idle": "2025-10-15T04:15:36.908278Z",
     "shell.execute_reply": "2025-10-15T04:15:36.907779Z"
    },
    "papermill": {
     "duration": 0.012323,
     "end_time": "2025-10-15T04:15:36.909096",
     "exception": false,
     "start_time": "2025-10-15T04:15:36.896773",
     "status": "completed"
    },
    "tags": []
   },
   "outputs": [
    {
     "name": "stdout",
     "output_type": "stream",
     "text": [
      "3  publications in the last day.\n"
     ]
    }
   ],
   "source": [
    "# redo for today\n",
    "days = 1\n",
    "res = list(get_last_n_days(dates, days))\n",
    "npub = len(res)\n",
    "print(len(res), f\" publications in the last day.\")\n",
    "\n",
    "carousel = create_carousel(npub)\n",
    "docs = ', '.join(['\"{0:s}\"'.format(k.split('/')[-1]) for k in res])\n",
    "slides = ', '.join([f'\"slide{k}\"' for k in range(1, npub + 1)])\n",
    "\n",
    "with open(\"daily_template.html\", \"r\") as tpl:\n",
    "    page = tpl.read()\n",
    "    page = page.replace(\"{%-- carousel:s --%}\", carousel)\\\n",
    "               .replace(\"{%-- suptitle:s --%}\",  \"Daily\" )\\\n",
    "               .replace(\"{%-- docs:s --%}\", docs)\\\n",
    "               .replace(\"{%-- slides:s --%}\", slides)\n",
    "    \n",
    "# print(carousel, docs, slides)\n",
    "# print(page)\n",
    "with open(\"_build/html/index_daily.html\", 'w') as fout:\n",
    "    fout.write(page)"
   ]
  },
  {
   "cell_type": "code",
   "execution_count": 15,
   "id": "00eece82",
   "metadata": {
    "execution": {
     "iopub.execute_input": "2025-10-15T04:15:36.920658Z",
     "iopub.status.busy": "2025-10-15T04:15:36.920480Z",
     "iopub.status.idle": "2025-10-15T04:15:36.925872Z",
     "shell.execute_reply": "2025-10-15T04:15:36.925430Z"
    },
    "papermill": {
     "duration": 0.012188,
     "end_time": "2025-10-15T04:15:36.926728",
     "exception": false,
     "start_time": "2025-10-15T04:15:36.914540",
     "status": "completed"
    },
    "scrolled": false,
    "tags": []
   },
   "outputs": [
    {
     "name": "stdout",
     "output_type": "stream",
     "text": [
      "6  6 publications selected.\n"
     ]
    }
   ],
   "source": [
    "# Create the flat grid of the last N papers (fixed number regardless of dates)\n",
    "from itertools import islice \n",
    "\n",
    "npub = 6\n",
    "res = [k[0] for k in (islice(reversed(sorted(dates, key=lambda x: x[1])), 6))]\n",
    "print(len(res), f\" {npub} publications selected.\")\n",
    "\n",
    "grid = create_grid(npub)\n",
    "docs = ', '.join(['\"{0:s}\"'.format(k.split('/')[-1]) for k in res])\n",
    "slides = ', '.join([f'\"slide{k}\"' for k in range(1, npub + 1)])\n",
    "\n",
    "with open(\"grid_template.html\", \"r\") as tpl:\n",
    "    page = tpl.read()\n",
    "    page = page.replace(\"{%-- grid-content:s --%}\", grid)\\\n",
    "               .replace(\"{%-- suptitle:s --%}\",  f\"Last {npub:,d} papers\" )\\\n",
    "               .replace(\"{%-- docs:s --%}\", docs)\\\n",
    "               .replace(\"{%-- slides:s --%}\", slides)\n",
    "    \n",
    "# print(grid, docs, slides)\n",
    "# print(page)\n",
    "with open(\"_build/html/index_npub_grid.html\", 'w') as fout:\n",
    "    fout.write(page)"
   ]
  }
 ],
 "metadata": {
  "kernelspec": {
   "display_name": "Python 3 (ipykernel)",
   "language": "python",
   "name": "python3"
  },
  "language_info": {
   "codemirror_mode": {
    "name": "ipython",
    "version": 3
   },
   "file_extension": ".py",
   "mimetype": "text/x-python",
   "name": "python",
   "nbconvert_exporter": "python",
   "pygments_lexer": "ipython3",
   "version": "3.9.23"
  },
  "papermill": {
   "default_parameters": {},
   "duration": 111.912118,
   "end_time": "2025-10-15T04:15:37.148360",
   "environment_variables": {},
   "exception": null,
   "input_path": "MPIA daily digest.ipynb",
   "output_path": "log.ipynb",
   "parameters": {},
   "start_time": "2025-10-15T04:13:45.236242",
   "version": "2.6.0"
  },
  "vscode": {
   "interpreter": {
    "hash": "aee8b7b246df8f9039afb4144a1f6fd8d2ca17a180786b69acc140d282b71a49"
   }
  },
  "widgets": {
   "application/vnd.jupyter.widget-state+json": {
    "state": {
     "0053acbe01a045d8ac73fd2fe3408cff": {
      "model_module": "@jupyter-widgets/controls",
      "model_module_version": "2.0.0",
      "model_name": "HTMLModel",
      "state": {
       "_dom_classes": [],
       "_model_module": "@jupyter-widgets/controls",
       "_model_module_version": "2.0.0",
       "_model_name": "HTMLModel",
       "_view_count": null,
       "_view_module": "@jupyter-widgets/controls",
       "_view_module_version": "2.0.0",
       "_view_name": "HTMLView",
       "description": "",
       "description_allow_html": false,
       "layout": "IPY_MODEL_b4b8061e1d704702aa3fb44d04e5c7c1",
       "placeholder": "​",
       "style": "IPY_MODEL_682a6d4b9c1445d6937b30e3f2e0d533",
       "tabbable": null,
       "tooltip": null,
       "value": " 9/9 [01:28&lt;00:00,  6.40s/it]"
      }
     },
     "089a789f4a914ea6ae86c30c4c769e8b": {
      "model_module": "@jupyter-widgets/controls",
      "model_module_version": "2.0.0",
      "model_name": "HBoxModel",
      "state": {
       "_dom_classes": [],
       "_model_module": "@jupyter-widgets/controls",
       "_model_module_version": "2.0.0",
       "_model_name": "HBoxModel",
       "_view_count": null,
       "_view_module": "@jupyter-widgets/controls",
       "_view_module_version": "2.0.0",
       "_view_name": "HBoxView",
       "box_style": "",
       "children": [
        "IPY_MODEL_9a55e68705bd446f9b3312a7491855d8",
        "IPY_MODEL_55ed3d45f859494aba234471593f4fff",
        "IPY_MODEL_0053acbe01a045d8ac73fd2fe3408cff"
       ],
       "layout": "IPY_MODEL_5a9a1c0a96b545e79e69b3d3963cea80",
       "tabbable": null,
       "tooltip": null
      }
     },
     "408513d508b940908d0a0f1cbfcc6201": {
      "model_module": "@jupyter-widgets/base",
      "model_module_version": "2.0.0",
      "model_name": "LayoutModel",
      "state": {
       "_model_module": "@jupyter-widgets/base",
       "_model_module_version": "2.0.0",
       "_model_name": "LayoutModel",
       "_view_count": null,
       "_view_module": "@jupyter-widgets/base",
       "_view_module_version": "2.0.0",
       "_view_name": "LayoutView",
       "align_content": null,
       "align_items": null,
       "align_self": null,
       "border_bottom": null,
       "border_left": null,
       "border_right": null,
       "border_top": null,
       "bottom": null,
       "display": null,
       "flex": null,
       "flex_flow": null,
       "grid_area": null,
       "grid_auto_columns": null,
       "grid_auto_flow": null,
       "grid_auto_rows": null,
       "grid_column": null,
       "grid_gap": null,
       "grid_row": null,
       "grid_template_areas": null,
       "grid_template_columns": null,
       "grid_template_rows": null,
       "height": null,
       "justify_content": null,
       "justify_items": null,
       "left": null,
       "margin": null,
       "max_height": null,
       "max_width": null,
       "min_height": null,
       "min_width": null,
       "object_fit": null,
       "object_position": null,
       "order": null,
       "overflow": null,
       "padding": null,
       "right": null,
       "top": null,
       "visibility": null,
       "width": null
      }
     },
     "4215fbf42b3a40d3ac82a71df74b5d06": {
      "model_module": "@jupyter-widgets/controls",
      "model_module_version": "2.0.0",
      "model_name": "ProgressStyleModel",
      "state": {
       "_model_module": "@jupyter-widgets/controls",
       "_model_module_version": "2.0.0",
       "_model_name": "ProgressStyleModel",
       "_view_count": null,
       "_view_module": "@jupyter-widgets/base",
       "_view_module_version": "2.0.0",
       "_view_name": "StyleView",
       "bar_color": null,
       "description_width": ""
      }
     },
     "55ed3d45f859494aba234471593f4fff": {
      "model_module": "@jupyter-widgets/controls",
      "model_module_version": "2.0.0",
      "model_name": "FloatProgressModel",
      "state": {
       "_dom_classes": [],
       "_model_module": "@jupyter-widgets/controls",
       "_model_module_version": "2.0.0",
       "_model_name": "FloatProgressModel",
       "_view_count": null,
       "_view_module": "@jupyter-widgets/controls",
       "_view_module_version": "2.0.0",
       "_view_name": "ProgressView",
       "bar_style": "success",
       "description": "",
       "description_allow_html": false,
       "layout": "IPY_MODEL_408513d508b940908d0a0f1cbfcc6201",
       "max": 9.0,
       "min": 0.0,
       "orientation": "horizontal",
       "style": "IPY_MODEL_4215fbf42b3a40d3ac82a71df74b5d06",
       "tabbable": null,
       "tooltip": null,
       "value": 9.0
      }
     },
     "5a9a1c0a96b545e79e69b3d3963cea80": {
      "model_module": "@jupyter-widgets/base",
      "model_module_version": "2.0.0",
      "model_name": "LayoutModel",
      "state": {
       "_model_module": "@jupyter-widgets/base",
       "_model_module_version": "2.0.0",
       "_model_name": "LayoutModel",
       "_view_count": null,
       "_view_module": "@jupyter-widgets/base",
       "_view_module_version": "2.0.0",
       "_view_name": "LayoutView",
       "align_content": null,
       "align_items": null,
       "align_self": null,
       "border_bottom": null,
       "border_left": null,
       "border_right": null,
       "border_top": null,
       "bottom": null,
       "display": null,
       "flex": null,
       "flex_flow": null,
       "grid_area": null,
       "grid_auto_columns": null,
       "grid_auto_flow": null,
       "grid_auto_rows": null,
       "grid_column": null,
       "grid_gap": null,
       "grid_row": null,
       "grid_template_areas": null,
       "grid_template_columns": null,
       "grid_template_rows": null,
       "height": null,
       "justify_content": null,
       "justify_items": null,
       "left": null,
       "margin": null,
       "max_height": null,
       "max_width": null,
       "min_height": null,
       "min_width": null,
       "object_fit": null,
       "object_position": null,
       "order": null,
       "overflow": null,
       "padding": null,
       "right": null,
       "top": null,
       "visibility": null,
       "width": null
      }
     },
     "682a6d4b9c1445d6937b30e3f2e0d533": {
      "model_module": "@jupyter-widgets/controls",
      "model_module_version": "2.0.0",
      "model_name": "HTMLStyleModel",
      "state": {
       "_model_module": "@jupyter-widgets/controls",
       "_model_module_version": "2.0.0",
       "_model_name": "HTMLStyleModel",
       "_view_count": null,
       "_view_module": "@jupyter-widgets/base",
       "_view_module_version": "2.0.0",
       "_view_name": "StyleView",
       "background": null,
       "description_width": "",
       "font_size": null,
       "text_color": null
      }
     },
     "6b2869b9d6814959aedbc6221c0e9799": {
      "model_module": "@jupyter-widgets/controls",
      "model_module_version": "2.0.0",
      "model_name": "HTMLStyleModel",
      "state": {
       "_model_module": "@jupyter-widgets/controls",
       "_model_module_version": "2.0.0",
       "_model_name": "HTMLStyleModel",
       "_view_count": null,
       "_view_module": "@jupyter-widgets/base",
       "_view_module_version": "2.0.0",
       "_view_name": "StyleView",
       "background": null,
       "description_width": "",
       "font_size": null,
       "text_color": null
      }
     },
     "9a55e68705bd446f9b3312a7491855d8": {
      "model_module": "@jupyter-widgets/controls",
      "model_module_version": "2.0.0",
      "model_name": "HTMLModel",
      "state": {
       "_dom_classes": [],
       "_model_module": "@jupyter-widgets/controls",
       "_model_module_version": "2.0.0",
       "_model_name": "HTMLModel",
       "_view_count": null,
       "_view_module": "@jupyter-widgets/controls",
       "_view_module_version": "2.0.0",
       "_view_name": "HTMLView",
       "description": "",
       "description_allow_html": false,
       "layout": "IPY_MODEL_b2552d2844f44ffa9810f34e02990ce9",
       "placeholder": "​",
       "style": "IPY_MODEL_6b2869b9d6814959aedbc6221c0e9799",
       "tabbable": null,
       "tooltip": null,
       "value": "100%"
      }
     },
     "b2552d2844f44ffa9810f34e02990ce9": {
      "model_module": "@jupyter-widgets/base",
      "model_module_version": "2.0.0",
      "model_name": "LayoutModel",
      "state": {
       "_model_module": "@jupyter-widgets/base",
       "_model_module_version": "2.0.0",
       "_model_name": "LayoutModel",
       "_view_count": null,
       "_view_module": "@jupyter-widgets/base",
       "_view_module_version": "2.0.0",
       "_view_name": "LayoutView",
       "align_content": null,
       "align_items": null,
       "align_self": null,
       "border_bottom": null,
       "border_left": null,
       "border_right": null,
       "border_top": null,
       "bottom": null,
       "display": null,
       "flex": null,
       "flex_flow": null,
       "grid_area": null,
       "grid_auto_columns": null,
       "grid_auto_flow": null,
       "grid_auto_rows": null,
       "grid_column": null,
       "grid_gap": null,
       "grid_row": null,
       "grid_template_areas": null,
       "grid_template_columns": null,
       "grid_template_rows": null,
       "height": null,
       "justify_content": null,
       "justify_items": null,
       "left": null,
       "margin": null,
       "max_height": null,
       "max_width": null,
       "min_height": null,
       "min_width": null,
       "object_fit": null,
       "object_position": null,
       "order": null,
       "overflow": null,
       "padding": null,
       "right": null,
       "top": null,
       "visibility": null,
       "width": null
      }
     },
     "b4b8061e1d704702aa3fb44d04e5c7c1": {
      "model_module": "@jupyter-widgets/base",
      "model_module_version": "2.0.0",
      "model_name": "LayoutModel",
      "state": {
       "_model_module": "@jupyter-widgets/base",
       "_model_module_version": "2.0.0",
       "_model_name": "LayoutModel",
       "_view_count": null,
       "_view_module": "@jupyter-widgets/base",
       "_view_module_version": "2.0.0",
       "_view_name": "LayoutView",
       "align_content": null,
       "align_items": null,
       "align_self": null,
       "border_bottom": null,
       "border_left": null,
       "border_right": null,
       "border_top": null,
       "bottom": null,
       "display": null,
       "flex": null,
       "flex_flow": null,
       "grid_area": null,
       "grid_auto_columns": null,
       "grid_auto_flow": null,
       "grid_auto_rows": null,
       "grid_column": null,
       "grid_gap": null,
       "grid_row": null,
       "grid_template_areas": null,
       "grid_template_columns": null,
       "grid_template_rows": null,
       "height": null,
       "justify_content": null,
       "justify_items": null,
       "left": null,
       "margin": null,
       "max_height": null,
       "max_width": null,
       "min_height": null,
       "min_width": null,
       "object_fit": null,
       "object_position": null,
       "order": null,
       "overflow": null,
       "padding": null,
       "right": null,
       "top": null,
       "visibility": null,
       "width": null
      }
     }
    },
    "version_major": 2,
    "version_minor": 0
   }
  }
 },
 "nbformat": 4,
 "nbformat_minor": 5
}