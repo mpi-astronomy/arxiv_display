{
 "cells": [
  {
   "cell_type": "markdown",
   "id": "92bcb855",
   "metadata": {
    "papermill": {
     "duration": 0.00516,
     "end_time": "2023-09-26T04:06:11.059237",
     "exception": false,
     "start_time": "2023-09-26T04:06:11.054077",
     "status": "completed"
    },
    "tags": []
   },
   "source": [
    "# MPIA Arxiv on Deck 2\n",
    "\n",
    "Contains the steps to produce the paper extractions."
   ]
  },
  {
   "cell_type": "code",
   "execution_count": 1,
   "id": "3a0d6e11",
   "metadata": {
    "execution": {
     "iopub.execute_input": "2023-09-26T04:06:11.068610Z",
     "iopub.status.busy": "2023-09-26T04:06:11.067938Z",
     "iopub.status.idle": "2023-09-26T04:06:11.545478Z",
     "shell.execute_reply": "2023-09-26T04:06:11.544762Z"
    },
    "papermill": {
     "duration": 0.484363,
     "end_time": "2023-09-26T04:06:11.547618",
     "exception": false,
     "start_time": "2023-09-26T04:06:11.063255",
     "status": "completed"
    },
    "tags": []
   },
   "outputs": [],
   "source": [
    "# Imports\n",
    "import os\n",
    "from IPython.display import Markdown, display\n",
    "from tqdm.notebook import tqdm\n",
    "import warnings\n",
    "from PIL import Image \n",
    "\n",
    "# requires arxiv_on_deck_2\n",
    "\n",
    "from arxiv_on_deck_2.arxiv2 import (get_new_papers, \n",
    "                                    get_paper_from_identifier,\n",
    "                                    retrieve_document_source, \n",
    "                                    get_markdown_badge)\n",
    "from arxiv_on_deck_2 import (latex,\n",
    "                             latex_bib,\n",
    "                             mpia,\n",
    "                             highlight_authors_in_list)\n",
    "\n",
    "# Sometimes images are really big\n",
    "Image.MAX_IMAGE_PIXELS = 1000000000 "
   ]
  },
  {
   "cell_type": "code",
   "execution_count": 2,
   "id": "22aa9d44",
   "metadata": {
    "execution": {
     "iopub.execute_input": "2023-09-26T04:06:11.557408Z",
     "iopub.status.busy": "2023-09-26T04:06:11.556873Z",
     "iopub.status.idle": "2023-09-26T04:06:11.562782Z",
     "shell.execute_reply": "2023-09-26T04:06:11.562084Z"
    },
    "papermill": {
     "duration": 0.012357,
     "end_time": "2023-09-26T04:06:11.564270",
     "exception": false,
     "start_time": "2023-09-26T04:06:11.551913",
     "status": "completed"
    },
    "tags": []
   },
   "outputs": [],
   "source": [
    "# Some useful definitions.\n",
    "\n",
    "class AffiliationWarning(UserWarning):\n",
    "    pass\n",
    "\n",
    "class AffiliationError(RuntimeError):\n",
    "    pass\n",
    "\n",
    "def validation(source: str):\n",
    "    \"\"\"Raises error paper during parsing of source file\n",
    "    \n",
    "    Allows checks before parsing TeX code.\n",
    "    \n",
    "    Raises AffiliationWarning\n",
    "    \"\"\"\n",
    "    check = mpia.affiliation_verifications(source, verbose=True)\n",
    "    if check is not True:\n",
    "        raise AffiliationError(\"mpia.affiliation_verifications: \" + check)\n",
    "\n",
    "        \n",
    "warnings.simplefilter('always', AffiliationWarning)\n",
    "\n",
    "\n",
    "def get_markdown_qrcode(paper_id: str):\n",
    "    \"\"\" Generate a qrcode to the arxiv page using qrserver.com\n",
    "    \n",
    "    :param paper: Arxiv paper\n",
    "    :returns: markdown text\n",
    "    \"\"\"\n",
    "    url = r\"https://api.qrserver.com/v1/create-qr-code/?size=100x100&data=\"\n",
    "    txt = f\"\"\"<img src={url}\"https://arxiv.org/abs/{paper_id}\">\"\"\"\n",
    "    txt = '<div id=\"qrcode\">' + txt + '</div>'\n",
    "    return txt"
   ]
  },
  {
   "cell_type": "markdown",
   "id": "14bd6310",
   "metadata": {
    "papermill": {
     "duration": 0.0034,
     "end_time": "2023-09-26T04:06:11.572599",
     "exception": false,
     "start_time": "2023-09-26T04:06:11.569199",
     "status": "completed"
    },
    "tags": []
   },
   "source": [
    "## get list of arxiv paper candidates\n",
    "\n",
    "We use the MPIA mitarbeiter list webpage from mpia.de to get author names\n",
    "We then get all new papers from Arxiv and match authors"
   ]
  },
  {
   "cell_type": "code",
   "execution_count": 3,
   "id": "2645e73a",
   "metadata": {
    "execution": {
     "iopub.execute_input": "2023-09-26T04:06:11.580935Z",
     "iopub.status.busy": "2023-09-26T04:06:11.580388Z",
     "iopub.status.idle": "2023-09-26T04:07:02.024003Z",
     "shell.execute_reply": "2023-09-26T04:07:02.023242Z"
    },
    "papermill": {
     "duration": 50.449788,
     "end_time": "2023-09-26T04:07:02.025833",
     "exception": false,
     "start_time": "2023-09-26T04:06:11.576045",
     "status": "completed"
    },
    "tags": []
   },
   "outputs": [
    {
     "name": "stdout",
     "output_type": "stream",
     "text": [
      "M. Fouesneau  ->  M. Fouesneau  |  ['M. Fouesneau']\n",
      "J. Neumann  ->  J. Neumann  |  ['J. Neumann']\n",
      "J. Li  ->  J. Li  |  ['J. Li']\n",
      "H.-W. Rix  ->  H.-W. Rix  |  ['H.-W. Rix']\n",
      "Arxiv has 71 new papers today\n",
      "          3 with possible author matches\n"
     ]
    }
   ],
   "source": [
    "# get list from MPIA website\n",
    "# it automatically filters identified non-scientists :func:`mpia.filter_non_scientists`\n",
    "mpia_authors = mpia.get_mpia_mitarbeiter_list()\n",
    "normed_mpia_authors = [k[1] for k in mpia_authors]   # initials + fullname\n",
    "new_papers = get_new_papers()\n",
    "# add manual references\n",
    "add_paper_refs = []\n",
    "new_papers.extend([get_paper_from_identifier(k) for k in add_paper_refs])\n",
    "\n",
    "candidates = []\n",
    "for paperk in new_papers:\n",
    "    # Check author list with their initials\n",
    "    normed_author_list = [mpia.get_initials(k) for k in paperk['authors']]\n",
    "    hl_authors = highlight_authors_in_list(normed_author_list, normed_mpia_authors, verbose=True)\n",
    "    matches = [(hl, orig) for hl, orig in zip(hl_authors, paperk['authors']) if 'mark' in hl]\n",
    "    paperk['authors'] = hl_authors\n",
    "    if matches:\n",
    "        # only select paper if an author matched our list\n",
    "        candidates.append(paperk)\n",
    "print(\"\"\"Arxiv has {0:,d} new papers today\"\"\".format(len(new_papers)))        \n",
    "print(\"\"\"          {0:,d} with possible author matches\"\"\".format(len(candidates)))"
   ]
  },
  {
   "cell_type": "markdown",
   "id": "3543b34a",
   "metadata": {
    "papermill": {
     "duration": 0.003561,
     "end_time": "2023-09-26T04:07:02.033174",
     "exception": false,
     "start_time": "2023-09-26T04:07:02.029613",
     "status": "completed"
    },
    "tags": []
   },
   "source": [
    "# Parse sources and generate relevant outputs\n",
    "\n",
    "From the candidates, we do the following steps:\n",
    "* get their tarball from ArXiv (and extract data)\n",
    "* find the main .tex file: find one with \\documentclass{...} (sometimes it's non trivial)\n",
    "* Check affiliations with :func:`validation`, which uses :func:`mpia.affiliation_verifications`\n",
    "* If passing the affiliations: we parse the .tex source\n",
    "   * inject sub-documents into the main (flatten the main document)\n",
    "   * parse structure, extract information (title, abstract, authors, figures...)\n",
    "   * handles `\\graphicspath` if provided\n",
    "* Generate the .md document."
   ]
  },
  {
   "cell_type": "code",
   "execution_count": 4,
   "id": "9576b79e",
   "metadata": {
    "execution": {
     "iopub.execute_input": "2023-09-26T04:07:02.041900Z",
     "iopub.status.busy": "2023-09-26T04:07:02.041428Z",
     "iopub.status.idle": "2023-09-26T04:10:48.291480Z",
     "shell.execute_reply": "2023-09-26T04:10:48.290682Z"
    },
    "papermill": {
     "duration": 226.25643,
     "end_time": "2023-09-26T04:10:48.293244",
     "exception": false,
     "start_time": "2023-09-26T04:07:02.036814",
     "status": "completed"
    },
    "scrolled": false,
    "tags": []
   },
   "outputs": [
    {
     "data": {
      "application/vnd.jupyter.widget-view+json": {
       "model_id": "2b4a4af3da82483483026931cde8e94c",
       "version_major": 2,
       "version_minor": 0
      },
      "text/plain": [
       "  0%|          | 0/3 [00:00<?, ?it/s]"
      ]
     },
     "metadata": {},
     "output_type": "display_data"
    },
    {
     "name": "stdout",
     "output_type": "stream",
     "text": [
      "Retrieving document from  https://arxiv.org/e-print/2309.13453\n"
     ]
    },
    {
     "name": "stdout",
     "output_type": "stream",
     "text": [
      "extracting tarball to tmp_2309.13453..."
     ]
    },
    {
     "name": "stdout",
     "output_type": "stream",
     "text": [
      " done.\n"
     ]
    },
    {
     "name": "stderr",
     "output_type": "stream",
     "text": [
      "/opt/hostedtoolcache/Python/3.9.18/x64/lib/python3.9/site-packages/arxiv_on_deck_2/latex.py:473: LatexWarning: Error parsing the document directly. Trying to recover.\n",
      "  warnings.warn(LatexWarning(f\"Error parsing the document directly. Trying to recover.\"))\n"
     ]
    },
    {
     "name": "stdout",
     "output_type": "stream",
     "text": [
      "✘ → 0:header\n",
      "  ↳ 5826:\\section{Introduction}\n",
      "✔ → 5826:\\section{Introduction}\n",
      "  ↳ 9511:\\section{Data}\n"
     ]
    },
    {
     "name": "stdout",
     "output_type": "stream",
     "text": [
      "✔ → 9511:\\section{Data}\n",
      "  ↳ 19352:\\section{Models}\n"
     ]
    },
    {
     "name": "stdout",
     "output_type": "stream",
     "text": [
      "✔ → 19352:\\section{Models}\n",
      "  ↳ 41827:\\section{Methods}\n"
     ]
    },
    {
     "name": "stdout",
     "output_type": "stream",
     "text": [
      "✔ → 41827:\\section{Methods}\n",
      "  ↳ 50948:\\section{Results and discussion}\n"
     ]
    },
    {
     "name": "stdout",
     "output_type": "stream",
     "text": [
      "✘ → 50948:\\section{Results and discussion}\n",
      "  ↳ 88555:\\section{Spatially-correlated SFHs}\n"
     ]
    },
    {
     "name": "stdout",
     "output_type": "stream",
     "text": [
      "✔ → 88555:\\section{Spatially-correlated SFHs}\n",
      "  ↳ 97715:\\section{conclusions}\n"
     ]
    },
    {
     "name": "stdout",
     "output_type": "stream",
     "text": [
      "✔ → 97715:\\section{conclusions}\n",
      "  ↳ 103372:\\section{Example of a query}\n",
      "✔ → 103372:\\section{Example of a query}\n",
      "  ↳ 104143:\\section{Derivation of errors for ASTs}\n"
     ]
    },
    {
     "name": "stdout",
     "output_type": "stream",
     "text": [
      "✔ → 104143:\\section{Derivation of errors for ASTs}\n",
      "  ↳ 107598:\\section{Example of single and binary partial models.}\n",
      "✔ → 107598:\\section{Example of single and binary partial models.}\n",
      "  ↳ 109507:\\section{On the metallicity interval covered by our AMR}\n",
      "✔ → 109507:\\section{On the metallicity interval covered by our AMR}\n",
      "  ↳ 112954:\\section{The binary fraction}\n"
     ]
    },
    {
     "name": "stdout",
     "output_type": "stream",
     "text": [
      "✔ → 112954:\\section{The binary fraction}\n",
      "  ↳ 115679:\\section{Investigating the young SFR}\n",
      "✔ → 115679:\\section{Investigating the young SFR}\n",
      "  ↳ 117582:\\section{Additional tables}\n"
     ]
    },
    {
     "name": "stdout",
     "output_type": "stream",
     "text": [
      "✔ → 117582:\\section{Additional tables}\n",
      "  ↳ 125526:end\n"
     ]
    },
    {
     "name": "stderr",
     "output_type": "stream",
     "text": [
      "/tmp/ipykernel_2134/3009462391.py:49: LatexWarning: 2309.13453 did not run properly\n",
      "list index out of range\n",
      "  warnings.warn(latex.LatexWarning(f\"{paper_id:s} did not run properly\\n\" +\n"
     ]
    },
    {
     "name": "stdout",
     "output_type": "stream",
     "text": [
      "Retrieving document from  https://arxiv.org/e-print/2309.14257\n"
     ]
    },
    {
     "name": "stdout",
     "output_type": "stream",
     "text": [
      "extracting tarball to tmp_2309.14257..."
     ]
    },
    {
     "name": "stdout",
     "output_type": "stream",
     "text": [
      " done.\n"
     ]
    },
    {
     "name": "stderr",
     "output_type": "stream",
     "text": [
      "/opt/hostedtoolcache/Python/3.9.18/x64/lib/python3.9/site-packages/arxiv_on_deck_2/latex.py:120: LatexWarning: attempting recovering figure MassFIREFLYVSTotMass.pdf\n",
      "  warnings.warn(LatexWarning(f'attempting recovering figure {image}'))\n",
      "/opt/hostedtoolcache/Python/3.9.18/x64/lib/python3.9/site-packages/arxiv_on_deck_2/latex.py:692: LatexWarning: Could not find graphic \\includegraphics[width=0.35\\textwidth]{MassFIREFLYVSTotMass.pdf}\n",
      "  warnings.warn(LatexWarning(f\"Could not find graphic {k}\"))\n"
     ]
    },
    {
     "name": "stdout",
     "output_type": "stream",
     "text": [
      "Found 85 bibliographic references in tmp_2309.14257/main.bbl.\n",
      "syntax error in line 137: '=' expected\n",
      "Retrieving document from  https://arxiv.org/e-print/2309.14294\n"
     ]
    },
    {
     "name": "stdout",
     "output_type": "stream",
     "text": [
      "extracting tarball to tmp_2309.14294..."
     ]
    },
    {
     "name": "stdout",
     "output_type": "stream",
     "text": [
      " done.\n"
     ]
    },
    {
     "name": "stderr",
     "output_type": "stream",
     "text": [
      "/tmp/ipykernel_2134/3009462391.py:49: LatexWarning: 2309.14294 did not run properly\n",
      "bad escape \\i at position 36\n",
      "  warnings.warn(latex.LatexWarning(f\"{paper_id:s} did not run properly\\n\" +\n"
     ]
    }
   ],
   "source": [
    "documents = []\n",
    "failed = []\n",
    "for paper in tqdm(candidates):\n",
    "    paper_id = paper['identifier'].lower().replace('arxiv:', '')\n",
    "    \n",
    "    folder = f'tmp_{paper_id}'\n",
    "\n",
    "    try:\n",
    "        if not os.path.isdir(folder):\n",
    "            folder = retrieve_document_source(f\"{paper_id}\", f'tmp_{paper_id}')\n",
    "        \n",
    "        try:\n",
    "            doc = latex.LatexDocument(folder, validation=validation)    \n",
    "        except AffiliationError as affilerror:\n",
    "            msg = f\"ArXiv:{paper_id:s} is not an MPIA paper... \" + str(affilerror)\n",
    "            failed.append((paper, \"affiliation error: \" + str(affilerror) ))\n",
    "            continue\n",
    "        \n",
    "        # Hack because sometimes author parsing does not work well\n",
    "        if (len(doc.authors) != len(paper['authors'])):\n",
    "            doc._authors = paper['authors']\n",
    "        else:\n",
    "            # highlight authors (FIXME: doc.highlight_authors)\n",
    "            # done on arxiv paper already\n",
    "            doc._authors = highlight_authors_in_list(\n",
    "                [mpia.get_initials(k) for k in doc.authors], \n",
    "                normed_mpia_authors, verbose=True)\n",
    "        if (doc.abstract) in (None, ''):\n",
    "            doc._abstract = paper['abstract']\n",
    "            \n",
    "        doc.comment = (get_markdown_badge(paper_id) + \n",
    "                       \"<mark>Appeared on: \" + paper['date'] + \"</mark> - \")\n",
    "        if paper['comments']:\n",
    "            doc.comment += \" _\" + paper['comments'] + \"_\"\n",
    "        \n",
    "        full_md = doc.generate_markdown_text()\n",
    "        \n",
    "        full_md += get_markdown_qrcode(paper_id)\n",
    "        \n",
    "        # replace citations\n",
    "        try:\n",
    "            bibdata = latex_bib.LatexBib.from_doc(doc)\n",
    "            full_md = latex_bib.replace_citations(full_md, bibdata)\n",
    "        except Exception as e:\n",
    "            print(e)\n",
    "        \n",
    "        documents.append((paper_id, full_md))\n",
    "    except Exception as e:\n",
    "        warnings.warn(latex.LatexWarning(f\"{paper_id:s} did not run properly\\n\" +\n",
    "                                         str(e)\n",
    "                                        ))\n",
    "        failed.append((paper, \"latex error \" + str(e)))"
   ]
  },
  {
   "cell_type": "markdown",
   "id": "2505a25c",
   "metadata": {
    "papermill": {
     "duration": 0.005308,
     "end_time": "2023-09-26T04:10:48.304442",
     "exception": false,
     "start_time": "2023-09-26T04:10:48.299134",
     "status": "completed"
    },
    "tags": []
   },
   "source": [
    "### Export the logs\n",
    "\n",
    "Throughout, we also keep track of the logs per paper. see `logs-{today date}.md` "
   ]
  },
  {
   "cell_type": "code",
   "execution_count": 5,
   "id": "d733828a",
   "metadata": {
    "execution": {
     "iopub.execute_input": "2023-09-26T04:10:48.316791Z",
     "iopub.status.busy": "2023-09-26T04:10:48.316037Z",
     "iopub.status.idle": "2023-09-26T04:10:48.337887Z",
     "shell.execute_reply": "2023-09-26T04:10:48.337255Z"
    },
    "papermill": {
     "duration": 0.029917,
     "end_time": "2023-09-26T04:10:48.339468",
     "exception": false,
     "start_time": "2023-09-26T04:10:48.309551",
     "status": "completed"
    },
    "scrolled": false,
    "tags": []
   },
   "outputs": [
    {
     "data": {
      "text/markdown": [
       "## Successful papers"
      ],
      "text/plain": [
       "<IPython.core.display.Markdown object>"
      ]
     },
     "metadata": {},
     "output_type": "display_data"
    },
    {
     "data": {
      "text/markdown": [
       "\n",
       "|||\n",
       "|---:|:---|\n",
       "| [![arXiv](https://img.shields.io/badge/arXiv-arXiv:2309.14257-b31b1b.svg)](https://arxiv.org/abs/arXiv:2309.14257) | **iMaNGA: mock MaNGA galaxies based on IllustrisTNG and MaStar SSPs. --  III. Stellar metallicity drivers in MaNGA and TNG50**  |\n",
       "|| L. Nanni, et al. -- incl., <mark>J. Neumann</mark> |\n",
       "|*Appeared on*| *2023-09-26*|\n",
       "|*Comments*| **|\n",
       "|**Abstract**| The iMaNGA project uses a forward-modelling approach to compare the predictions of cosmological simulations with observations from SDSS-IV/MaNGA. We investigate the dependency of age and metallicity radial gradients on galaxy morphology, stellar mass, stellar surface mass density ($\\Sigma_*$), and environment. The key of our analysis is that observational biases affecting the interpretation of MaNGA data are emulated in the theoretical iMaNGA sample. The simulations reproduce the observed global stellar population scaling relations with positive correlations between galaxy mass and age/metallicity quite well and also produce younger stellar populations in late-type in agreement with observations. We do find interesting discrepancies, though, that can inform the physics and further development of the simulations. Ages of spiral galaxies and low-mass ellipticals are overestimated by about 2-4 Gyr. Radial metallicity gradients are steeper in iMaNGA than in MaNGA, a discrepancy most prominent in spiral and lenticular galaxies. Also, the observed steepening of metallicity gradients with increasing galaxy mass is not well matched by the simulations. We find that the theoretical radial profiles of surface mass density $\\Sigma_*$ are steeper than in observations except for the most massive galaxies. In both MaNGA and iMaNGA [Z/H] correlates with $\\Sigma_*$, however, the simulations systematically predict lower [Z/H] by almost a factor of 2 at any $\\Sigma_*$. Most interestingly, for galaxies with stellar mass $\\log M_*\\leq 10.80 M_\\odot$ the MaNGA data reveal a positive correlation between galaxy radius and [Z/H] at fixed $\\Sigma_*$, which is not recovered in iMaNGA. Finally, the dependence on environmental density is negligible in both the theoretical iMaNGA and the observed MaNGA data. |"
      ],
      "text/plain": [
       "[arXiv:2309.14257] iMaNGA: mock MaNGA galaxies based on IllustrisTNG and MaStar SSPs. --  III. Stellar metallicity drivers in MaNGA and TNG50\n",
       "\tL. Nanni, et al. -- incl., <mark>J. Neumann</mark>"
      ]
     },
     "metadata": {},
     "output_type": "display_data"
    },
    {
     "data": {
      "text/markdown": [
       "## Failed papers"
      ],
      "text/plain": [
       "<IPython.core.display.Markdown object>"
      ]
     },
     "metadata": {},
     "output_type": "display_data"
    },
    {
     "data": {
      "text/markdown": [
       "\n",
       "|||\n",
       "|---:|:---|\n",
       "| [![arXiv](https://img.shields.io/badge/arXiv-arXiv:2309.14294-b31b1b.svg)](https://arxiv.org/abs/arXiv:2309.14294) | **AspGap: Augmented Stellar Parameters and Abundances for 23 million RGB  stars from Gaia XP low-resolution spectra**  |\n",
       "|| <mark>J. Li</mark>, et al. -- incl., <mark>H.-W. Rix</mark> |\n",
       "|*Appeared on*| *2023-09-26*|\n",
       "|*Comments*| *29 pages, 19 figures, submitted to ApJS*|\n",
       "|**Abstract**| We present AspGap, a new approach to infer stellar labels from low-resolution Gaia XP spectra, including precise [$\\alpha$/M] estimates for the first time. AspGap is a neural-network based regression model trained on APOGEE spectra. In the training step, AspGap learns to use XP spectra not only to predict stellar labels but also the high-resolution APOGEE spectra that lead to the same stellar labels. The inclusion of this last model component -- dubbed the hallucinator -- creates a more physically motivated mapping and significantly improves the prediction of stellar labels in the validation, particularly of [$\\alpha$/M]. For giant stars, we find cross-validated rms accuracies for Teff, log g, [M/H], [$\\alpha$/M] of ~1%, 0.12 dex, 0.07 dex, 0.03 dex, respectively. We also validate our labels through comparison with external datasets and through a range of astrophysical tests that demonstrate that we are indeed determining [$\\alpha$/M] from the XP spectra, rather than just inferring it indirectly from correlations with other labels. We publicly release the AspGap codebase, along with our stellar parameter catalog for all giants observed by Gaia XP. AspGap enables new insights into the formation and chemo-dynamics of our Galaxy by providing precise [$\\alpha$/M] estimates for 23 million giant stars, including 12 million with radial velocities from Gaia. |\n",
       "|<p style=\"color:red\"> **ERROR** </p>| <p style=\"color:red\">latex error bad escape \\i at position 36</p> |"
      ],
      "text/plain": [
       "<IPython.core.display.Markdown object>"
      ]
     },
     "metadata": {},
     "output_type": "display_data"
    },
    {
     "data": {
      "text/markdown": [
       "\n",
       "|||\n",
       "|---:|:---|\n",
       "| [![arXiv](https://img.shields.io/badge/arXiv-arXiv:2309.13453-b31b1b.svg)](https://arxiv.org/abs/arXiv:2309.13453) | **Dissecting the Gaia HR diagram II. The vertical structure of the star  formation history across the Solar Cylinder**  |\n",
       "|| A. Mazzi, et al. -- incl., <mark>M. Fouesneau</mark> |\n",
       "|*Appeared on*| *2023-09-26*|\n",
       "|*Comments*| *Accepted for publication in MNRAS*|\n",
       "|**Abstract**| Starting from the Gaia DR3 HR diagram, we derive the star formation history (SFH) as a function of distance from the Galactic Plane within a cylinder centred on the Sun with a 200~pc radius and spanning 1.3~kpc above and below the Galaxy's midplane. We quantify both the concentration of the more recent star formation in the Galactic Plane, and the age-related increase in the scale height of the Galactic Disc stellar component, which is well-described by power-laws with indices ranging from $1/2$ to $2/3$. The vertically-integrated star formation rate falls from $(1.147 \\pm 0.039)\\times10^{-8}\\, \\text{M}_{\\odot} \\text{yr}^{-1} \\text{pc}^{-2}$ at earlier times down to $(6.2 \\pm 3.0) \\times10^{-9}\\, \\text{M}_{\\odot} \\text{yr}^{-1} \\text{pc}^{-2}$ at present times, but we find a significant peak of star formation in the 2 to 3 Gyr age bin. The total mass of stars formed per unit area over time is $118.7 \\pm 6.2\\, \\text{M}_{\\odot} \\text{pc}^{-2}$, which is nearly twice the present stellar mass derived from kinematics within 1~kpc from the Galactic Plane, implying a high degree of matter recycling in successive generations of stars. The method is then modified by adopting an age-dependent correlation between the SFH across the different slices, which results in less noisy and more symmetrical results without significantly changing the previously mentioned quantities. This appears to be a promising way to improve SFH recovery in external galaxies. |\n",
       "|<p style=\"color:red\"> **ERROR** </p>| <p style=\"color:red\">latex error list index out of range</p> |"
      ],
      "text/plain": [
       "<IPython.core.display.Markdown object>"
      ]
     },
     "metadata": {},
     "output_type": "display_data"
    }
   ],
   "source": [
    "import datetime\n",
    "today = str(datetime.date.today())\n",
    "logfile = f\"_build/html/logs/log-{today}.md\"\n",
    "\n",
    "\n",
    "with open(logfile, 'w') as logs:\n",
    "    # Success\n",
    "    logs.write(f'# Arxiv on Deck 2: Logs - {today}\\n\\n')\n",
    "    logs.write(\"\"\"* Arxiv had {0:,d} new papers\\n\"\"\".format(len(new_papers)))\n",
    "    logs.write(\"\"\"    * {0:,d} with possible author matches\\n\\n\"\"\".format(len(candidates)))\n",
    "    logs.write(\"## Sucessful papers\\n\\n\")\n",
    "    display(Markdown(\"## Successful papers\"))\n",
    "    success = [k[0] for k in documents]\n",
    "    for candid in candidates:\n",
    "        if candid['identifier'].split(':')[-1] in success:\n",
    "            display(candid)\n",
    "            logs.write(candid.generate_markdown_text() + '\\n\\n')\n",
    "\n",
    "    ## failed\n",
    "    logs.write(\"## Failed papers\\n\\n\")\n",
    "    display(Markdown(\"## Failed papers\"))\n",
    "    failed = sorted(failed, key=lambda x: x[1])\n",
    "    current_reason = \"\"\n",
    "    for paper, reason in failed:\n",
    "        if 'affiliation' in reason:\n",
    "            color = 'green'\n",
    "        else:\n",
    "            color = 'red'\n",
    "        data = Markdown(\n",
    "                paper.generate_markdown_text() + \n",
    "                f'\\n|<p style=\"color:{color:s}\"> **ERROR** </p>| <p style=\"color:{color:s}\">{reason:s}</p> |'\n",
    "               )\n",
    "        if reason != current_reason:\n",
    "            logs.write(f'### {reason:s} \\n\\n')\n",
    "            current_reason = reason\n",
    "        logs.write(data.data + '\\n\\n')\n",
    "        \n",
    "        # only display here the important errors (all in logs)\n",
    "        # if color in ('red',):\n",
    "        display(data)"
   ]
  },
  {
   "cell_type": "markdown",
   "id": "472d20ee",
   "metadata": {
    "papermill": {
     "duration": 0.00583,
     "end_time": "2023-09-26T04:10:48.351281",
     "exception": false,
     "start_time": "2023-09-26T04:10:48.345451",
     "status": "completed"
    },
    "tags": []
   },
   "source": [
    "## Export documents\n",
    "\n",
    "We now write the .md files and export relevant images"
   ]
  },
  {
   "cell_type": "code",
   "execution_count": 6,
   "id": "d426aed9",
   "metadata": {
    "execution": {
     "iopub.execute_input": "2023-09-26T04:10:48.364921Z",
     "iopub.status.busy": "2023-09-26T04:10:48.364304Z",
     "iopub.status.idle": "2023-09-26T04:10:48.373392Z",
     "shell.execute_reply": "2023-09-26T04:10:48.372610Z"
    },
    "papermill": {
     "duration": 0.018127,
     "end_time": "2023-09-26T04:10:48.375215",
     "exception": false,
     "start_time": "2023-09-26T04:10:48.357088",
     "status": "completed"
    },
    "tags": []
   },
   "outputs": [],
   "source": [
    "def export_markdown_summary(md: str, md_fname:str, directory: str):\n",
    "    \"\"\"Export MD document and associated relevant images\"\"\"\n",
    "    import os\n",
    "    import shutil\n",
    "    import re\n",
    "\n",
    "    if (os.path.exists(directory) and not os.path.isdir(directory)):\n",
    "        raise RuntimeError(f\"a non-directory file exists with name {directory:s}\")\n",
    "\n",
    "    if (not os.path.exists(directory)):\n",
    "        print(f\"creating directory {directory:s}\")\n",
    "        os.mkdir(directory)\n",
    "\n",
    "    fig_fnames = (re.compile(r'\\[Fig.*\\]\\((.*)\\)').findall(md) + \n",
    "                  re.compile(r'\\<img src=\"([^>\\s]*)\"[^>]*/>').findall(md))\n",
    "    for fname in fig_fnames:\n",
    "        if 'http' in fname:\n",
    "            # No need to copy online figures\n",
    "            continue\n",
    "        destdir = os.path.join(directory, os.path.dirname(fname))\n",
    "        destfname = os.path.join(destdir, os.path.basename(fname))\n",
    "        try:\n",
    "            os.makedirs(destdir)\n",
    "        except FileExistsError:\n",
    "            pass\n",
    "        shutil.copy(fname, destfname)\n",
    "    with open(os.path.join(directory, md_fname), 'w') as fout:\n",
    "        fout.write(md)\n",
    "    print(\"exported in \", os.path.join(directory, md_fname))\n",
    "    [print(\"    + \" + os.path.join(directory,fk)) for fk in fig_fnames]"
   ]
  },
  {
   "cell_type": "code",
   "execution_count": 7,
   "id": "014d04a4",
   "metadata": {
    "execution": {
     "iopub.execute_input": "2023-09-26T04:10:48.388517Z",
     "iopub.status.busy": "2023-09-26T04:10:48.387866Z",
     "iopub.status.idle": "2023-09-26T04:10:48.408930Z",
     "shell.execute_reply": "2023-09-26T04:10:48.408095Z"
    },
    "papermill": {
     "duration": 0.029613,
     "end_time": "2023-09-26T04:10:48.410676",
     "exception": false,
     "start_time": "2023-09-26T04:10:48.381063",
     "status": "completed"
    },
    "tags": []
   },
   "outputs": [
    {
     "name": "stdout",
     "output_type": "stream",
     "text": [
      "exported in  _build/html/2309.14257.md\n",
      "    + _build/html/tmp_2309.14257/./Fig6_ZR_scatter_fit_LW.png\n",
      "    + _build/html/tmp_2309.14257/./MZR_LW.png\n",
      "    + _build/html/tmp_2309.14257/./MZR_MW.png\n",
      "    + _build/html/tmp_2309.14257/./Fig11_sbr_morph.png\n"
     ]
    }
   ],
   "source": [
    "for paper_id, md in documents:\n",
    "    export_markdown_summary(md, f\"{paper_id:s}.md\", '_build/html/')"
   ]
  },
  {
   "cell_type": "markdown",
   "id": "f087a0a7",
   "metadata": {
    "papermill": {
     "duration": 0.00589,
     "end_time": "2023-09-26T04:10:48.422790",
     "exception": false,
     "start_time": "2023-09-26T04:10:48.416900",
     "status": "completed"
    },
    "tags": []
   },
   "source": [
    "## Display the papers\n",
    "\n",
    "Not necessary but allows for a quick check."
   ]
  },
  {
   "cell_type": "code",
   "execution_count": 8,
   "id": "fd25f625",
   "metadata": {
    "execution": {
     "iopub.execute_input": "2023-09-26T04:10:48.436266Z",
     "iopub.status.busy": "2023-09-26T04:10:48.435713Z",
     "iopub.status.idle": "2023-09-26T04:10:48.441562Z",
     "shell.execute_reply": "2023-09-26T04:10:48.440894Z"
    },
    "papermill": {
     "duration": 0.014723,
     "end_time": "2023-09-26T04:10:48.443351",
     "exception": false,
     "start_time": "2023-09-26T04:10:48.428628",
     "status": "completed"
    },
    "scrolled": false,
    "tags": []
   },
   "outputs": [
    {
     "data": {
      "text/markdown": [
       "<div class=\"macros\" style=\"visibility:hidden;\">\n",
       "$\\newcommand{\\ensuremath}{}$\n",
       "$\\newcommand{\\xspace}{}$\n",
       "$\\newcommand{\\object}[1]{\\texttt{#1}}$\n",
       "$\\newcommand{\\farcs}{{.}''}$\n",
       "$\\newcommand{\\farcm}{{.}'}$\n",
       "$\\newcommand{\\arcsec}{''}$\n",
       "$\\newcommand{\\arcmin}{'}$\n",
       "$\\newcommand{\\ion}[2]{#1#2}$\n",
       "$\\newcommand{\\textsc}[1]{\\textrm{#1}}$\n",
       "$\\newcommand{\\hl}[1]{\\textrm{#1}}$\n",
       "$\\newcommand{\\footnote}[1]{}$\n",
       "$\\newcommand{\\thebibliography}{\\DeclareRobustCommand{\\VAN}[3]{##3}\\VANthebibliography}$</div>\n",
       "\n",
       "\n",
       "\n",
       "<div id=\"title\">\n",
       "\n",
       "# iMaNGA: mock MaNGA galaxies based on IllustrisTNG and MaStar SSPs. - III. Stellar metallicity drivers in MaNGA and TNG50\n",
       "\n",
       "</div>\n",
       "<div id=\"comments\">\n",
       "\n",
       "[![arXiv](https://img.shields.io/badge/arXiv-2309.14257-b31b1b.svg)](https://arxiv.org/abs/2309.14257)<mark>Appeared on: 2023-09-26</mark> - \n",
       "\n",
       "</div>\n",
       "<div id=\"authors\">\n",
       "\n",
       "L. Nanni, et al. -- incl., <mark>J. Neumann</mark>\n",
       "\n",
       "</div>\n",
       "<div id=\"abstract\">\n",
       "\n",
       "**Abstract:** The iMaNGA project uses a forward-modelling approach to compare the predictions of cosmological simulations with observations from SDSS-IV/MaNGA. We investigate the dependency of age and metallicity radial gradients on galaxy morphology, stellar mass, stellar surface mass density ( $\\Sigma_*$ ), and environment. The key of our analysis is that observational biases affecting the interpretation of MaNGA data are emulated in the theoretical iMaNGA sample. The simulations reproduce the observed global stellar population scaling relations with positive correlations between galaxy mass and age/metallicity quite well and also produce younger stellar populations in late-type in agreement with observations. We do find interesting discrepancies, though, that can inform the physics and further development of the simulations. Ages of spiral galaxies and low-mass ellipticals are overestimated by about 2-4 Gyr. Radial metallicity gradients are steeper in iMaNGA than in MaNGA, a discrepancy most prominent in spiral and lenticular galaxies. Also, the observed steepening of metallicity gradients with increasing galaxy mass is not well matched by the simulations. We find that the theoretical radial profiles of surface mass density $\\Sigma_*$ are steeper than in observations except for the most massive galaxies. In both MaNGA and iMaNGA [ Z/H ] correlates with $\\Sigma_*$ , however, the simulations systematically predict lower [ Z/H ] by almost a factor of 2 at any $\\Sigma_*$ . Most interestingly, for galaxies with stellar mass $\\log M_*\\leq 10.80 M_\\odot$ the MaNGA data reveal a $* positive correlation*$ between galaxy radius and [ Z/H ] at fixed $\\Sigma_*$ , which is not recovered in iMaNGA. Finally, the dependence on environmental density is negligible in both the theoretical iMaNGA and the observed MaNGA data.\n",
       "\n",
       "</div>\n",
       "\n",
       "<div id=\"div_fig1\">\n",
       "\n",
       "<img src=\"tmp_2309.14257/./Fig6_ZR_scatter_fit_LW.png\" alt=\"Fig9\" width=\"100%\"/>\n",
       "\n",
       "**Figure 9. -** Radial metallicity profiles, dividing the iMaNGA and MaNGA sample in stellar mass (columns) and morphology (rows) bins; see Table \\ref{tab:mass}. [Z/H] is recovered with FIREFLY for both samples in the same manner. In each panel, we show the median [Z/H] in 0.1 R$_{\\rm eff}$ width bins for iMaNGA (pink diamonds) and MaNGA (orange circles), considering all spaxels up to 2.5 $R_{\\rm eff}$. The error bars represent the standard error on the median, see Eq. \\ref{eq:standarderroronthemedian}. Linear regressions are presented up to 2.5 R$_{\\rm reff}$, computed on data up to 1.5 R$_{\\rm reff}$(solid violet line for iMaNGA, orange dashed lines for MaNGA).  Gradients are reported in the top-left corner of each panel for both catalogues. In the background of each panel, we show the distribution of the galaxies in the iMaNGA sample, calculated with a Gaussian kernel density estimator. (*fig:zr*)\n",
       "\n",
       "</div>\n",
       "<div id=\"div_fig2\">\n",
       "\n",
       "<img src=\"tmp_2309.14257/./MZR_LW.png\" alt=\"Fig8.1\" width=\"50%\"/><img src=\"tmp_2309.14257/./MZR_MW.png\" alt=\"Fig8.2\" width=\"50%\"/>\n",
       "\n",
       "**Figure 8. -** The global stellar mass-age (top panels) and -metallicity relation (bottom panels) separated by morphology, for the MaNGA and iMaNGA samples. The left panels show light-weighted quantities, and the right panels show mass-weighted ones. Age and metallicity are averaged within a central area of 3$\"$ diameter. The scatter points display each galaxy in the iMaNGA sample and the line plot shows the median age and metallicity across mass bins of 0.25 dex width, for the iMaNGA (solid diamonds) and MaNGA (empty circles) galaxies. The E+S0 galaxies are represented in red, while the LTGs are represented in blue. The error bars illustrate the standard deviation. (*fig:MZR*)\n",
       "\n",
       "</div>\n",
       "<div id=\"div_fig3\">\n",
       "\n",
       "<img src=\"tmp_2309.14257/./Fig11_sbr_morph.png\" alt=\"Fig11\" width=\"100%\"/>\n",
       "\n",
       "**Figure 11. -** $\\Sigma_*$-radius trends in the MaNGA and iMaNGA sample, in the morphology-stellar mass plane (see Table \\ref{tab:mass}). $\\Sigma_*$ is computed from the stellar mass recovered with FIREFLY and considering the inclination from the T-morphology for both samples, using the FIREFLY VAC dataset (see N22VAC) for the MaNGA galaxies. In each panel, we show the median  $\\Sigma_*$  in 0.1 R$_{\\rm eff}$ width bins, for iMaNGA (pink diamonds) and MaNGA (orange circles) galaxies, up to 2.5 $R_{\\rm eff}$. The error bars represent the standard error on the median, see Eq. \\ref{eq:standarderroronthemedian}. The linear regressions to the data up to 1.5 R$_{\\rm reff}$ are presented (solid violet line for iMaNGA, orange dotted lines for MaNGA). The gradients are reported on the top left corner of each panel for both iMaNGA and the MaNGA galaxies. In the background of each panel, we show the distribution of the galaxies in the iMaNGA sample, calculated with a Gaussian kernel density estimator. (*fig:sbr*)\n",
       "\n",
       "</div><div id=\"qrcode\"><img src=https://api.qrserver.com/v1/create-qr-code/?size=100x100&data=\"https://arxiv.org/abs/2309.14257\"></div>"
      ],
      "text/plain": [
       "<IPython.core.display.Markdown object>"
      ]
     },
     "metadata": {},
     "output_type": "display_data"
    }
   ],
   "source": [
    "[display(Markdown(k[1])) for k in documents];"
   ]
  },
  {
   "cell_type": "markdown",
   "id": "873873a4",
   "metadata": {
    "papermill": {
     "duration": 0.006067,
     "end_time": "2023-09-26T04:10:48.455609",
     "exception": false,
     "start_time": "2023-09-26T04:10:48.449542",
     "status": "completed"
    },
    "tags": []
   },
   "source": [
    "# Create HTML index"
   ]
  },
  {
   "cell_type": "code",
   "execution_count": 9,
   "id": "cf665672",
   "metadata": {
    "execution": {
     "iopub.execute_input": "2023-09-26T04:10:48.469786Z",
     "iopub.status.busy": "2023-09-26T04:10:48.469087Z",
     "iopub.status.idle": "2023-09-26T04:10:48.482120Z",
     "shell.execute_reply": "2023-09-26T04:10:48.481350Z"
    },
    "papermill": {
     "duration": 0.021959,
     "end_time": "2023-09-26T04:10:48.483649",
     "exception": false,
     "start_time": "2023-09-26T04:10:48.461690",
     "status": "completed"
    },
    "tags": []
   },
   "outputs": [
    {
     "name": "stdout",
     "output_type": "stream",
     "text": [
      "277  publications files modified in the last 7 days.\n"
     ]
    }
   ],
   "source": [
    "from datetime import datetime, timedelta, timezone\n",
    "from glob import glob\n",
    "import os\n",
    "\n",
    "files = glob('_build/html/*.md')\n",
    "days = 7\n",
    "now = datetime.today()\n",
    "res = []\n",
    "for fk in files:\n",
    "    stat_result = os.stat(fk).st_ctime\n",
    "    modified = datetime.fromtimestamp(stat_result, tz=timezone.utc).replace(tzinfo=None)\n",
    "    delta = now.today() - modified\n",
    "    if delta <= timedelta(days=days):\n",
    "        res.append((delta.seconds, fk))\n",
    "res = [k[1] for k in reversed(sorted(res, key=lambda x:x[1]))]\n",
    "npub = len(res)\n",
    "print(len(res), f\" publications files modified in the last {days:d} days.\")\n",
    "# [ print('\\t', k) for k in res ];"
   ]
  },
  {
   "cell_type": "code",
   "execution_count": 10,
   "id": "015de740",
   "metadata": {
    "execution": {
     "iopub.execute_input": "2023-09-26T04:10:48.498024Z",
     "iopub.status.busy": "2023-09-26T04:10:48.497337Z",
     "iopub.status.idle": "2023-09-26T04:10:48.519705Z",
     "shell.execute_reply": "2023-09-26T04:10:48.518882Z"
    },
    "papermill": {
     "duration": 0.031532,
     "end_time": "2023-09-26T04:10:48.521559",
     "exception": false,
     "start_time": "2023-09-26T04:10:48.490027",
     "status": "completed"
    },
    "tags": []
   },
   "outputs": [
    {
     "name": "stdout",
     "output_type": "stream",
     "text": [
      "6  publications in the last 7 days.\n"
     ]
    }
   ],
   "source": [
    "import datetime\n",
    "from glob import glob\n",
    "\n",
    "def get_last_n_days(lst, days=1):\n",
    "    \"\"\" Get the documents from the last n days \"\"\"\n",
    "    sorted_lst = sorted(lst, key=lambda x: x[1], reverse=True)\n",
    "    for fname, date in sorted_lst:\n",
    "        if date >= str(datetime.date.today() - datetime.timedelta(days=days)):\n",
    "            yield fname\n",
    "\n",
    "def extract_appearance_dates(lst_file):\n",
    "    dates = []\n",
    "\n",
    "    def get_date(line):\n",
    "        return line\\\n",
    "            .split('Appeared on:')[-1]\\\n",
    "            .split('</mark>')[0].strip()\n",
    "\n",
    "    for fname in lst:\n",
    "        with open(fname, 'r') as f:\n",
    "            found_date = False\n",
    "            for line in f:\n",
    "                if not found_date:\n",
    "                    if \"Appeared on\" in line:\n",
    "                        found_date = True\n",
    "                        dates.append((fname, get_date(line)))\n",
    "                else:\n",
    "                    break\n",
    "    return dates\n",
    "\n",
    "from glob import glob\n",
    "lst = glob('_build/html/*md')\n",
    "days = 7\n",
    "dates = extract_appearance_dates(lst)\n",
    "res = list(get_last_n_days(dates, days))\n",
    "npub = len(res)\n",
    "print(len(res), f\" publications in the last {days:d} days.\")"
   ]
  },
  {
   "cell_type": "code",
   "execution_count": 11,
   "id": "52ca0208",
   "metadata": {
    "execution": {
     "iopub.execute_input": "2023-09-26T04:10:48.537169Z",
     "iopub.status.busy": "2023-09-26T04:10:48.536673Z",
     "iopub.status.idle": "2023-09-26T04:10:48.542645Z",
     "shell.execute_reply": "2023-09-26T04:10:48.541936Z"
    },
    "papermill": {
     "duration": 0.015375,
     "end_time": "2023-09-26T04:10:48.544336",
     "exception": false,
     "start_time": "2023-09-26T04:10:48.528961",
     "status": "completed"
    },
    "scrolled": false,
    "tags": []
   },
   "outputs": [],
   "source": [
    "def create_carousel(npub=4):\n",
    "    \"\"\" Generate the HTML code for a carousel with `npub` slides \"\"\"\n",
    "    carousel = [\"\"\"  <div class=\"carousel\" \"\"\",\n",
    "                \"\"\"       data-flickity='{ \"autoPlay\": 10000, \"adaptiveHeight\": true, \"resize\": true, \"wrapAround\": true, \"pauseAutoPlayOnHover\": true, \"groupCells\": 1 }' id=\"asyncTypeset\">\"\"\"\n",
    "                ]\n",
    "    \n",
    "    item_str = \"\"\"    <div class=\"carousel-cell\"> <div id=\"slide{k}\" class=\"md_view\">Content {k}</div> </div>\"\"\"\n",
    "    for k in range(1, npub + 1):\n",
    "        carousel.append(item_str.format(k=k))\n",
    "    carousel.append(\"  </div>\")\n",
    "    return '\\n'.join(carousel)\n",
    "\n",
    "def create_grid(npub=4):\n",
    "    \"\"\" Generate the HTML code for a flat grid with `npub` slides \"\"\"\n",
    "    grid = [\"\"\"  <div class=\"grid\"> \"\"\",\n",
    "                ]\n",
    "    \n",
    "    item_str = \"\"\"    <div class=\"grid-item\"> <div id=\"slide{k}\" class=\"md_view\">Content {k}</div> </div>\"\"\"\n",
    "    for k in range(1, npub + 1):\n",
    "        grid.append(item_str.format(k=k))\n",
    "    grid.append(\"  </div>\")\n",
    "    return '\\n'.join(grid)"
   ]
  },
  {
   "cell_type": "code",
   "execution_count": 12,
   "id": "a6eac5b6",
   "metadata": {
    "execution": {
     "iopub.execute_input": "2023-09-26T04:10:48.559136Z",
     "iopub.status.busy": "2023-09-26T04:10:48.558436Z",
     "iopub.status.idle": "2023-09-26T04:10:48.564883Z",
     "shell.execute_reply": "2023-09-26T04:10:48.564147Z"
    },
    "papermill": {
     "duration": 0.015616,
     "end_time": "2023-09-26T04:10:48.566490",
     "exception": false,
     "start_time": "2023-09-26T04:10:48.550874",
     "status": "completed"
    },
    "scrolled": false,
    "tags": []
   },
   "outputs": [],
   "source": [
    "carousel = create_carousel(npub)\n",
    "docs = ', '.join(['\"{0:s}\"'.format(k.split('/')[-1]) for k in res])\n",
    "slides = ', '.join([f'\"slide{k}\"' for k in range(1, npub + 1)])\n",
    "\n",
    "with open(\"daily_template.html\", \"r\") as tpl:\n",
    "    page = tpl.read()\n",
    "    page = page.replace(\"{%-- carousel:s --%}\", carousel)\\\n",
    "               .replace(\"{%-- suptitle:s --%}\",  \"7-day archives\" )\\\n",
    "               .replace(\"{%-- docs:s --%}\", docs)\\\n",
    "               .replace(\"{%-- slides:s --%}\", slides)\n",
    "    \n",
    "with open(\"_build/html/index_7days.html\", 'w') as fout:\n",
    "    fout.write(page)"
   ]
  },
  {
   "cell_type": "code",
   "execution_count": 13,
   "id": "adc1a1ec",
   "metadata": {
    "execution": {
     "iopub.execute_input": "2023-09-26T04:10:48.580972Z",
     "iopub.status.busy": "2023-09-26T04:10:48.580445Z",
     "iopub.status.idle": "2023-09-26T04:10:48.588567Z",
     "shell.execute_reply": "2023-09-26T04:10:48.588001Z"
    },
    "papermill": {
     "duration": 0.017077,
     "end_time": "2023-09-26T04:10:48.590037",
     "exception": false,
     "start_time": "2023-09-26T04:10:48.572960",
     "status": "completed"
    },
    "tags": []
   },
   "outputs": [
    {
     "name": "stdout",
     "output_type": "stream",
     "text": [
      "1  publications in the last day.\n"
     ]
    }
   ],
   "source": [
    "# redo for today\n",
    "days = 1\n",
    "res = list(get_last_n_days(dates, days))\n",
    "npub = len(res)\n",
    "print(len(res), f\" publications in the last day.\")\n",
    "\n",
    "carousel = create_carousel(npub)\n",
    "docs = ', '.join(['\"{0:s}\"'.format(k.split('/')[-1]) for k in res])\n",
    "slides = ', '.join([f'\"slide{k}\"' for k in range(1, npub + 1)])\n",
    "\n",
    "with open(\"daily_template.html\", \"r\") as tpl:\n",
    "    page = tpl.read()\n",
    "    page = page.replace(\"{%-- carousel:s --%}\", carousel)\\\n",
    "               .replace(\"{%-- suptitle:s --%}\",  \"Daily\" )\\\n",
    "               .replace(\"{%-- docs:s --%}\", docs)\\\n",
    "               .replace(\"{%-- slides:s --%}\", slides)\n",
    "    \n",
    "# print(carousel, docs, slides)\n",
    "# print(page)\n",
    "with open(\"_build/html/index_daily.html\", 'w') as fout:\n",
    "    fout.write(page)"
   ]
  },
  {
   "cell_type": "code",
   "execution_count": 14,
   "id": "00eece82",
   "metadata": {
    "execution": {
     "iopub.execute_input": "2023-09-26T04:10:48.604752Z",
     "iopub.status.busy": "2023-09-26T04:10:48.604266Z",
     "iopub.status.idle": "2023-09-26T04:10:48.611859Z",
     "shell.execute_reply": "2023-09-26T04:10:48.611197Z"
    },
    "papermill": {
     "duration": 0.016483,
     "end_time": "2023-09-26T04:10:48.613310",
     "exception": false,
     "start_time": "2023-09-26T04:10:48.596827",
     "status": "completed"
    },
    "scrolled": false,
    "tags": []
   },
   "outputs": [
    {
     "name": "stdout",
     "output_type": "stream",
     "text": [
      "6  6 publications selected.\n"
     ]
    }
   ],
   "source": [
    "# Create the flat grid of the last N papers (fixed number regardless of dates)\n",
    "from itertools import islice \n",
    "\n",
    "npub = 6\n",
    "res = [k[0] for k in (islice(reversed(sorted(dates, key=lambda x: x[1])), 6))]\n",
    "print(len(res), f\" {npub} publications selected.\")\n",
    "\n",
    "grid = create_grid(npub)\n",
    "docs = ', '.join(['\"{0:s}\"'.format(k.split('/')[-1]) for k in res])\n",
    "slides = ', '.join([f'\"slide{k}\"' for k in range(1, npub + 1)])\n",
    "\n",
    "with open(\"grid_template.html\", \"r\") as tpl:\n",
    "    page = tpl.read()\n",
    "    page = page.replace(\"{%-- grid-content:s --%}\", grid)\\\n",
    "               .replace(\"{%-- suptitle:s --%}\",  f\"Last {npub:,d} papers\" )\\\n",
    "               .replace(\"{%-- docs:s --%}\", docs)\\\n",
    "               .replace(\"{%-- slides:s --%}\", slides)\n",
    "    \n",
    "# print(grid, docs, slides)\n",
    "# print(page)\n",
    "with open(\"_build/html/index_npub_grid.html\", 'w') as fout:\n",
    "    fout.write(page)"
   ]
  }
 ],
 "metadata": {
  "kernelspec": {
   "display_name": "Python 3 (ipykernel)",
   "language": "python",
   "name": "python3"
  },
  "language_info": {
   "codemirror_mode": {
    "name": "ipython",
    "version": 3
   },
   "file_extension": ".py",
   "mimetype": "text/x-python",
   "name": "python",
   "nbconvert_exporter": "python",
   "pygments_lexer": "ipython3",
   "version": "3.9.18"
  },
  "papermill": {
   "default_parameters": {},
   "duration": 279.054704,
   "end_time": "2023-09-26T04:10:48.838237",
   "environment_variables": {},
   "exception": null,
   "input_path": "MPIA daily digest.ipynb",
   "output_path": "log.ipynb",
   "parameters": {},
   "start_time": "2023-09-26T04:06:09.783533",
   "version": "2.4.0"
  },
  "vscode": {
   "interpreter": {
    "hash": "aee8b7b246df8f9039afb4144a1f6fd8d2ca17a180786b69acc140d282b71a49"
   }
  },
  "widgets": {
   "application/vnd.jupyter.widget-state+json": {
    "state": {
     "2b4a4af3da82483483026931cde8e94c": {
      "model_module": "@jupyter-widgets/controls",
      "model_module_version": "2.0.0",
      "model_name": "HBoxModel",
      "state": {
       "_dom_classes": [],
       "_model_module": "@jupyter-widgets/controls",
       "_model_module_version": "2.0.0",
       "_model_name": "HBoxModel",
       "_view_count": null,
       "_view_module": "@jupyter-widgets/controls",
       "_view_module_version": "2.0.0",
       "_view_name": "HBoxView",
       "box_style": "",
       "children": [
        "IPY_MODEL_bccb83039cdc4558b020b7362a682388",
        "IPY_MODEL_4c0585eaa9e0465fa3dc2214018dfff7",
        "IPY_MODEL_d234071173d140e0b4e2c498a50c4c90"
       ],
       "layout": "IPY_MODEL_546ecd7ed9c941738f6ee770f35821ce",
       "tabbable": null,
       "tooltip": null
      }
     },
     "3cfa18646cf04c49bd6ef5037d6f065a": {
      "model_module": "@jupyter-widgets/base",
      "model_module_version": "2.0.0",
      "model_name": "LayoutModel",
      "state": {
       "_model_module": "@jupyter-widgets/base",
       "_model_module_version": "2.0.0",
       "_model_name": "LayoutModel",
       "_view_count": null,
       "_view_module": "@jupyter-widgets/base",
       "_view_module_version": "2.0.0",
       "_view_name": "LayoutView",
       "align_content": null,
       "align_items": null,
       "align_self": null,
       "border_bottom": null,
       "border_left": null,
       "border_right": null,
       "border_top": null,
       "bottom": null,
       "display": null,
       "flex": null,
       "flex_flow": null,
       "grid_area": null,
       "grid_auto_columns": null,
       "grid_auto_flow": null,
       "grid_auto_rows": null,
       "grid_column": null,
       "grid_gap": null,
       "grid_row": null,
       "grid_template_areas": null,
       "grid_template_columns": null,
       "grid_template_rows": null,
       "height": null,
       "justify_content": null,
       "justify_items": null,
       "left": null,
       "margin": null,
       "max_height": null,
       "max_width": null,
       "min_height": null,
       "min_width": null,
       "object_fit": null,
       "object_position": null,
       "order": null,
       "overflow": null,
       "padding": null,
       "right": null,
       "top": null,
       "visibility": null,
       "width": null
      }
     },
     "4c0585eaa9e0465fa3dc2214018dfff7": {
      "model_module": "@jupyter-widgets/controls",
      "model_module_version": "2.0.0",
      "model_name": "FloatProgressModel",
      "state": {
       "_dom_classes": [],
       "_model_module": "@jupyter-widgets/controls",
       "_model_module_version": "2.0.0",
       "_model_name": "FloatProgressModel",
       "_view_count": null,
       "_view_module": "@jupyter-widgets/controls",
       "_view_module_version": "2.0.0",
       "_view_name": "ProgressView",
       "bar_style": "success",
       "description": "",
       "description_allow_html": false,
       "layout": "IPY_MODEL_ce80b83ea4a341f492f8a9d2be95b741",
       "max": 3.0,
       "min": 0.0,
       "orientation": "horizontal",
       "style": "IPY_MODEL_9a5e5401486a498cb5488ad538a1d02a",
       "tabbable": null,
       "tooltip": null,
       "value": 3.0
      }
     },
     "506fb350c8054ea2814910c1a9c8a558": {
      "model_module": "@jupyter-widgets/controls",
      "model_module_version": "2.0.0",
      "model_name": "HTMLStyleModel",
      "state": {
       "_model_module": "@jupyter-widgets/controls",
       "_model_module_version": "2.0.0",
       "_model_name": "HTMLStyleModel",
       "_view_count": null,
       "_view_module": "@jupyter-widgets/base",
       "_view_module_version": "2.0.0",
       "_view_name": "StyleView",
       "background": null,
       "description_width": "",
       "font_size": null,
       "text_color": null
      }
     },
     "546ecd7ed9c941738f6ee770f35821ce": {
      "model_module": "@jupyter-widgets/base",
      "model_module_version": "2.0.0",
      "model_name": "LayoutModel",
      "state": {
       "_model_module": "@jupyter-widgets/base",
       "_model_module_version": "2.0.0",
       "_model_name": "LayoutModel",
       "_view_count": null,
       "_view_module": "@jupyter-widgets/base",
       "_view_module_version": "2.0.0",
       "_view_name": "LayoutView",
       "align_content": null,
       "align_items": null,
       "align_self": null,
       "border_bottom": null,
       "border_left": null,
       "border_right": null,
       "border_top": null,
       "bottom": null,
       "display": null,
       "flex": null,
       "flex_flow": null,
       "grid_area": null,
       "grid_auto_columns": null,
       "grid_auto_flow": null,
       "grid_auto_rows": null,
       "grid_column": null,
       "grid_gap": null,
       "grid_row": null,
       "grid_template_areas": null,
       "grid_template_columns": null,
       "grid_template_rows": null,
       "height": null,
       "justify_content": null,
       "justify_items": null,
       "left": null,
       "margin": null,
       "max_height": null,
       "max_width": null,
       "min_height": null,
       "min_width": null,
       "object_fit": null,
       "object_position": null,
       "order": null,
       "overflow": null,
       "padding": null,
       "right": null,
       "top": null,
       "visibility": null,
       "width": null
      }
     },
     "8ee429442f794a77a71e99eb86ebcd0b": {
      "model_module": "@jupyter-widgets/controls",
      "model_module_version": "2.0.0",
      "model_name": "HTMLStyleModel",
      "state": {
       "_model_module": "@jupyter-widgets/controls",
       "_model_module_version": "2.0.0",
       "_model_name": "HTMLStyleModel",
       "_view_count": null,
       "_view_module": "@jupyter-widgets/base",
       "_view_module_version": "2.0.0",
       "_view_name": "StyleView",
       "background": null,
       "description_width": "",
       "font_size": null,
       "text_color": null
      }
     },
     "9a5e5401486a498cb5488ad538a1d02a": {
      "model_module": "@jupyter-widgets/controls",
      "model_module_version": "2.0.0",
      "model_name": "ProgressStyleModel",
      "state": {
       "_model_module": "@jupyter-widgets/controls",
       "_model_module_version": "2.0.0",
       "_model_name": "ProgressStyleModel",
       "_view_count": null,
       "_view_module": "@jupyter-widgets/base",
       "_view_module_version": "2.0.0",
       "_view_name": "StyleView",
       "bar_color": null,
       "description_width": ""
      }
     },
     "bccb83039cdc4558b020b7362a682388": {
      "model_module": "@jupyter-widgets/controls",
      "model_module_version": "2.0.0",
      "model_name": "HTMLModel",
      "state": {
       "_dom_classes": [],
       "_model_module": "@jupyter-widgets/controls",
       "_model_module_version": "2.0.0",
       "_model_name": "HTMLModel",
       "_view_count": null,
       "_view_module": "@jupyter-widgets/controls",
       "_view_module_version": "2.0.0",
       "_view_name": "HTMLView",
       "description": "",
       "description_allow_html": false,
       "layout": "IPY_MODEL_bf86ba834f2c4f99a149d30bb58bb121",
       "placeholder": "​",
       "style": "IPY_MODEL_8ee429442f794a77a71e99eb86ebcd0b",
       "tabbable": null,
       "tooltip": null,
       "value": "100%"
      }
     },
     "bf86ba834f2c4f99a149d30bb58bb121": {
      "model_module": "@jupyter-widgets/base",
      "model_module_version": "2.0.0",
      "model_name": "LayoutModel",
      "state": {
       "_model_module": "@jupyter-widgets/base",
       "_model_module_version": "2.0.0",
       "_model_name": "LayoutModel",
       "_view_count": null,
       "_view_module": "@jupyter-widgets/base",
       "_view_module_version": "2.0.0",
       "_view_name": "LayoutView",
       "align_content": null,
       "align_items": null,
       "align_self": null,
       "border_bottom": null,
       "border_left": null,
       "border_right": null,
       "border_top": null,
       "bottom": null,
       "display": null,
       "flex": null,
       "flex_flow": null,
       "grid_area": null,
       "grid_auto_columns": null,
       "grid_auto_flow": null,
       "grid_auto_rows": null,
       "grid_column": null,
       "grid_gap": null,
       "grid_row": null,
       "grid_template_areas": null,
       "grid_template_columns": null,
       "grid_template_rows": null,
       "height": null,
       "justify_content": null,
       "justify_items": null,
       "left": null,
       "margin": null,
       "max_height": null,
       "max_width": null,
       "min_height": null,
       "min_width": null,
       "object_fit": null,
       "object_position": null,
       "order": null,
       "overflow": null,
       "padding": null,
       "right": null,
       "top": null,
       "visibility": null,
       "width": null
      }
     },
     "ce80b83ea4a341f492f8a9d2be95b741": {
      "model_module": "@jupyter-widgets/base",
      "model_module_version": "2.0.0",
      "model_name": "LayoutModel",
      "state": {
       "_model_module": "@jupyter-widgets/base",
       "_model_module_version": "2.0.0",
       "_model_name": "LayoutModel",
       "_view_count": null,
       "_view_module": "@jupyter-widgets/base",
       "_view_module_version": "2.0.0",
       "_view_name": "LayoutView",
       "align_content": null,
       "align_items": null,
       "align_self": null,
       "border_bottom": null,
       "border_left": null,
       "border_right": null,
       "border_top": null,
       "bottom": null,
       "display": null,
       "flex": null,
       "flex_flow": null,
       "grid_area": null,
       "grid_auto_columns": null,
       "grid_auto_flow": null,
       "grid_auto_rows": null,
       "grid_column": null,
       "grid_gap": null,
       "grid_row": null,
       "grid_template_areas": null,
       "grid_template_columns": null,
       "grid_template_rows": null,
       "height": null,
       "justify_content": null,
       "justify_items": null,
       "left": null,
       "margin": null,
       "max_height": null,
       "max_width": null,
       "min_height": null,
       "min_width": null,
       "object_fit": null,
       "object_position": null,
       "order": null,
       "overflow": null,
       "padding": null,
       "right": null,
       "top": null,
       "visibility": null,
       "width": null
      }
     },
     "d234071173d140e0b4e2c498a50c4c90": {
      "model_module": "@jupyter-widgets/controls",
      "model_module_version": "2.0.0",
      "model_name": "HTMLModel",
      "state": {
       "_dom_classes": [],
       "_model_module": "@jupyter-widgets/controls",
       "_model_module_version": "2.0.0",
       "_model_name": "HTMLModel",
       "_view_count": null,
       "_view_module": "@jupyter-widgets/controls",
       "_view_module_version": "2.0.0",
       "_view_name": "HTMLView",
       "description": "",
       "description_allow_html": false,
       "layout": "IPY_MODEL_3cfa18646cf04c49bd6ef5037d6f065a",
       "placeholder": "​",
       "style": "IPY_MODEL_506fb350c8054ea2814910c1a9c8a558",
       "tabbable": null,
       "tooltip": null,
       "value": " 3/3 [03:46&lt;00:00, 72.55s/it]"
      }
     }
    },
    "version_major": 2,
    "version_minor": 0
   }
  }
 },
 "nbformat": 4,
 "nbformat_minor": 5
}