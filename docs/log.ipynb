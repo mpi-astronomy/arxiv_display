{
 "cells": [
  {
   "cell_type": "markdown",
   "id": "92bcb855",
   "metadata": {
    "papermill": {
     "duration": 0.003886,
     "end_time": "2025-03-05T04:11:05.899659",
     "exception": false,
     "start_time": "2025-03-05T04:11:05.895773",
     "status": "completed"
    },
    "tags": []
   },
   "source": [
    "# MPIA Arxiv on Deck 2\n",
    "\n",
    "Contains the steps to produce the paper extractions."
   ]
  },
  {
   "cell_type": "code",
   "execution_count": 1,
   "id": "3a0d6e11",
   "metadata": {
    "execution": {
     "iopub.execute_input": "2025-03-05T04:11:05.907239Z",
     "iopub.status.busy": "2025-03-05T04:11:05.906764Z",
     "iopub.status.idle": "2025-03-05T04:11:06.347046Z",
     "shell.execute_reply": "2025-03-05T04:11:06.346416Z"
    },
    "papermill": {
     "duration": 0.445451,
     "end_time": "2025-03-05T04:11:06.348385",
     "exception": false,
     "start_time": "2025-03-05T04:11:05.902934",
     "status": "completed"
    },
    "tags": []
   },
   "outputs": [],
   "source": [
    "# Imports\n",
    "import os\n",
    "from IPython.display import Markdown, display\n",
    "from tqdm.notebook import tqdm\n",
    "import warnings\n",
    "from PIL import Image \n",
    "import re\n",
    "\n",
    "# requires arxiv_on_deck_2\n",
    "\n",
    "from arxiv_on_deck_2.arxiv2 import (get_new_papers, \n",
    "                                    get_paper_from_identifier,\n",
    "                                    retrieve_document_source, \n",
    "                                    get_markdown_badge)\n",
    "from arxiv_on_deck_2 import (latex,\n",
    "                             latex_bib,\n",
    "                             mpia,\n",
    "                             highlight_authors_in_list)\n",
    "\n",
    "# Sometimes images are really big\n",
    "Image.MAX_IMAGE_PIXELS = 1000000000 "
   ]
  },
  {
   "cell_type": "code",
   "execution_count": 2,
   "id": "22aa9d44",
   "metadata": {
    "execution": {
     "iopub.execute_input": "2025-03-05T04:11:06.355848Z",
     "iopub.status.busy": "2025-03-05T04:11:06.355383Z",
     "iopub.status.idle": "2025-03-05T04:11:06.363213Z",
     "shell.execute_reply": "2025-03-05T04:11:06.362686Z"
    },
    "papermill": {
     "duration": 0.012543,
     "end_time": "2025-03-05T04:11:06.364210",
     "exception": false,
     "start_time": "2025-03-05T04:11:06.351667",
     "status": "completed"
    },
    "tags": []
   },
   "outputs": [],
   "source": [
    "# Some useful definitions.\n",
    "\n",
    "class AffiliationWarning(UserWarning):\n",
    "    pass\n",
    "\n",
    "class AffiliationError(RuntimeError):\n",
    "    pass\n",
    "\n",
    "def validation(source: str):\n",
    "    \"\"\"Raises error paper during parsing of source file\n",
    "    \n",
    "    Allows checks before parsing TeX code.\n",
    "    \n",
    "    Raises AffiliationWarning\n",
    "    \"\"\"\n",
    "    check = mpia.affiliation_verifications(source, verbose=True)\n",
    "    if check is not True:\n",
    "        raise AffiliationError(\"mpia.affiliation_verifications: \" + check)\n",
    "\n",
    "        \n",
    "warnings.simplefilter('always', AffiliationWarning)\n",
    "\n",
    "\n",
    "def get_markdown_qrcode(paper_id: str):\n",
    "    \"\"\" Generate a qrcode to the arxiv page using qrserver.com\n",
    "    \n",
    "    :param paper: Arxiv paper\n",
    "    :returns: markdown text\n",
    "    \"\"\"\n",
    "    url = r\"https://api.qrserver.com/v1/create-qr-code/?size=100x100&data=\"\n",
    "    txt = f\"\"\"<img src={url}\"https://arxiv.org/abs/{paper_id}\">\"\"\"\n",
    "    txt = '<div id=\"qrcode\">' + txt + '</div>'\n",
    "    return txt\n",
    "\n",
    "\n",
    "def clean_non_western_encoded_characters_commands(text: str) -> str:\n",
    "    \"\"\" Remove non-western encoded characters from a string\n",
    "    List may need to grow.\n",
    "    \n",
    "    :param text: the text to clean\n",
    "    :return: the cleaned text\n",
    "    \"\"\"\n",
    "    text = re.sub(r\"(\\\\begin{CJK}{UTF8}{gbsn})(.*?)(\\\\end{CJK})\", r\"\\2\", text)\n",
    "    return text\n",
    "\n",
    "\n",
    "def get_initials(name: str) -> str:\n",
    "    \"\"\" Get the short name, e.g., A.-B. FamName\n",
    "    :param name: full name\n",
    "    :returns: initials\n",
    "    \"\"\"\n",
    "    initials = []\n",
    "    # account for non western names often in ()\n",
    "    if '(' in name:\n",
    "        name = clean_non_western_encoded_characters_commands(name)\n",
    "        suffix = re.findall(r\"\\((.*?)\\)\", name)[0]\n",
    "        name = name.replace(f\"({suffix})\", '')\n",
    "    else:\n",
    "        suffix = ''\n",
    "    split = name.split()\n",
    "    for token in split[:-1]:\n",
    "        if '-' in token:\n",
    "            current = '-'.join([k[0] + '.' for k in token.split('-')])\n",
    "        else:\n",
    "            current = token[0] + '.'\n",
    "        initials.append(current)\n",
    "    initials.append(split[-1].strip())\n",
    "    if suffix:\n",
    "        initials.append(f\"({suffix})\")\n",
    "    return ' '.join(initials)"
   ]
  },
  {
   "cell_type": "markdown",
   "id": "14bd6310",
   "metadata": {
    "papermill": {
     "duration": 0.002994,
     "end_time": "2025-03-05T04:11:06.370140",
     "exception": false,
     "start_time": "2025-03-05T04:11:06.367146",
     "status": "completed"
    },
    "tags": []
   },
   "source": [
    "## get list of arxiv paper candidates\n",
    "\n",
    "We use the MPIA mitarbeiter list webpage from mpia.de to get author names\n",
    "We then get all new papers from Arxiv and match authors"
   ]
  },
  {
   "cell_type": "code",
   "execution_count": 3,
   "id": "7ea813a8",
   "metadata": {
    "execution": {
     "iopub.execute_input": "2025-03-05T04:11:06.377103Z",
     "iopub.status.busy": "2025-03-05T04:11:06.376681Z",
     "iopub.status.idle": "2025-03-05T04:11:27.121555Z",
     "shell.execute_reply": "2025-03-05T04:11:27.120901Z"
    },
    "papermill": {
     "duration": 20.749765,
     "end_time": "2025-03-05T04:11:27.122854",
     "exception": false,
     "start_time": "2025-03-05T04:11:06.373089",
     "status": "completed"
    },
    "tags": []
   },
   "outputs": [],
   "source": [
    "# deal with the author list and edge cases of people that cannot be consistent on their name  \n",
    "\n",
    "def filter_non_scientists(name: str) -> bool:\n",
    "    \"\"\" Loose filter on expected authorships\n",
    "\n",
    "    removing IT, administration, technical staff\n",
    "    :param name: name\n",
    "    :returns: False if name is not a scientist\n",
    "    \"\"\"\n",
    "    remove_list = ['Licht', 'Binroth', 'Witzel', 'Jordan',\n",
    "                   'Zähringer', 'Scheerer', 'Hoffmann', 'Düe',\n",
    "                   'Hellmich', 'Enkler-Scharpegge', 'Witte-Nguy',\n",
    "                   'Dehen', 'Beckmann', 'Jager', 'Jäger'\n",
    "                  ]\n",
    "\n",
    "    for k in remove_list:\n",
    "        if k in name:\n",
    "            return False\n",
    "    return True\n",
    "\n",
    "def add_author_to_list(author_list: list) -> list:\n",
    "    \"\"\" Add author to list if not already in list\n",
    "    \n",
    "    :param author: author name\n",
    "    :param author_list: list of authors\n",
    "    :returns: updated list of authors\n",
    "    \"\"\"\n",
    "    add_list = ['T. Henning']\n",
    "\n",
    "    for author in add_list:\n",
    "        if author not in author_list:\n",
    "            author_list.append(author)\n",
    "    return author_list\n",
    "\n",
    "# get list from MPIA website\n",
    "# filter for non-scientists (mpia.get_mpia_mitarbeiter_list() does some filtering)\n",
    "mpia_authors = [k[1] for k in mpia.get_mpia_mitarbeiter_list() if filter_non_scientists(k[1])]\n",
    "# add some missing author because of inconsistencies in their MPIA name and author name on papers\n",
    "mpia_authors = add_author_to_list(mpia_authors)"
   ]
  },
  {
   "cell_type": "code",
   "execution_count": 4,
   "id": "2645e73a",
   "metadata": {
    "execution": {
     "iopub.execute_input": "2025-03-05T04:11:27.130383Z",
     "iopub.status.busy": "2025-03-05T04:11:27.129934Z",
     "iopub.status.idle": "2025-03-05T04:11:28.015692Z",
     "shell.execute_reply": "2025-03-05T04:11:28.015053Z"
    },
    "papermill": {
     "duration": 0.890562,
     "end_time": "2025-03-05T04:11:28.016760",
     "exception": false,
     "start_time": "2025-03-05T04:11:27.126198",
     "status": "completed"
    },
    "tags": []
   },
   "outputs": [
    {
     "name": "stdout",
     "output_type": "stream",
     "text": [
      "A. d. Graaff  ->  A. D. Graaff  |  ['A. D. Graaff']\n",
      "L. Xie  ->  Z.-L. Xie  |  ['L. Xie']\n",
      "E. Rohr  ->  E. Rohr  |  ['E. Rohr']\n",
      "A. Pillepich  ->  A. Pillepich  |  ['A. Pillepich']\n",
      "M. Prunier  ->  M. Prunier  |  ['M. Prunier']\n",
      "A. Pillepich  ->  A. Pillepich  |  ['A. Pillepich']\n",
      "A. Pillepich  ->  A. Pillepich  |  ['A. Pillepich']\n",
      "D. Chatzigiannakis  ->  D. Chatzigiannakis  |  ['D. Chatzigiannakis']\n",
      "A. Pillepich  ->  A. Pillepich  |  ['A. Pillepich']\n",
      "A. d. Graaff  ->  A. D. Graaff  |  ['A. D. Graaff']\n",
      "A. d. Graaff  ->  A. D. Graaff  |  ['A. D. Graaff']\n",
      "H.-W. Rix  ->  H.-W. Rix  |  ['H.-W. Rix']\n",
      "H.-W. Rix  ->  H.-W. Rix  |  ['H.-W. Rix']\n",
      "J. Liu  ->  J. Liu  |  ['J. Liu']\n",
      "X. Zhang  ->  X. Zhang  |  ['X. Zhang']\n"
     ]
    },
    {
     "name": "stdout",
     "output_type": "stream",
     "text": [
      "J. Li  ->  J. Li  |  ['J. Li']\n",
      "X. Zhang  ->  X. Zhang  |  ['X. Zhang']\n",
      "Arxiv has 84 new papers today\n",
      "          12 with possible author matches\n"
     ]
    }
   ],
   "source": [
    "new_papers = get_new_papers()\n",
    "# add manual references\n",
    "add_paper_refs = []\n",
    "new_papers.extend([get_paper_from_identifier(k) for k in add_paper_refs])\n",
    "\n",
    "def robust_call(fn, value, *args, **kwargs):\n",
    "    try:\n",
    "        return fn(value, *args, **kwargs)\n",
    "    except Exception:\n",
    "        return value\n",
    "\n",
    "candidates = []\n",
    "for paperk in new_papers:\n",
    "    # Check author list with their initials\n",
    "    normed_author_list = [robust_call(mpia.get_initials, k) for k in paperk['authors']]\n",
    "    hl_authors = highlight_authors_in_list(normed_author_list, mpia_authors, verbose=True)\n",
    "    matches = [(hl, orig) for hl, orig in zip(hl_authors, paperk['authors']) if 'mark' in hl]\n",
    "    paperk['authors'] = hl_authors\n",
    "    if matches:\n",
    "        # only select paper if an author matched our list\n",
    "        candidates.append(paperk)\n",
    "print(\"\"\"Arxiv has {0:,d} new papers today\"\"\".format(len(new_papers)))        \n",
    "print(\"\"\"          {0:,d} with possible author matches\"\"\".format(len(candidates)))"
   ]
  },
  {
   "cell_type": "markdown",
   "id": "3543b34a",
   "metadata": {
    "papermill": {
     "duration": 0.003164,
     "end_time": "2025-03-05T04:11:28.023464",
     "exception": false,
     "start_time": "2025-03-05T04:11:28.020300",
     "status": "completed"
    },
    "tags": []
   },
   "source": [
    "# Parse sources and generate relevant outputs\n",
    "\n",
    "From the candidates, we do the following steps:\n",
    "* get their tarball from ArXiv (and extract data)\n",
    "* find the main .tex file: find one with \\documentclass{...} (sometimes it's non trivial)\n",
    "* Check affiliations with :func:`validation`, which uses :func:`mpia.affiliation_verifications`\n",
    "* If passing the affiliations: we parse the .tex source\n",
    "   * inject sub-documents into the main (flatten the main document)\n",
    "   * parse structure, extract information (title, abstract, authors, figures...)\n",
    "   * handles `\\graphicspath` if provided\n",
    "* Generate the .md document."
   ]
  },
  {
   "cell_type": "code",
   "execution_count": 5,
   "id": "9576b79e",
   "metadata": {
    "execution": {
     "iopub.execute_input": "2025-03-05T04:11:28.030746Z",
     "iopub.status.busy": "2025-03-05T04:11:28.030261Z",
     "iopub.status.idle": "2025-03-05T04:15:41.452500Z",
     "shell.execute_reply": "2025-03-05T04:15:41.451752Z"
    },
    "papermill": {
     "duration": 253.43187,
     "end_time": "2025-03-05T04:15:41.458396",
     "exception": false,
     "start_time": "2025-03-05T04:11:28.026526",
     "status": "completed"
    },
    "scrolled": false,
    "tags": []
   },
   "outputs": [
    {
     "data": {
      "application/vnd.jupyter.widget-view+json": {
       "model_id": "95df7f893ad74297a826851ae0ed70f7",
       "version_major": 2,
       "version_minor": 0
      },
      "text/plain": [
       "  0%|          | 0/12 [00:00<?, ?it/s]"
      ]
     },
     "metadata": {},
     "output_type": "display_data"
    },
    {
     "name": "stdout",
     "output_type": "stream",
     "text": [
      "Retrieving document from  https://arxiv.org/e-print/2503.01953\n",
      "extracting tarball to tmp_2503.01953..."
     ]
    },
    {
     "name": "stdout",
     "output_type": "stream",
     "text": [
      " done.\n"
     ]
    },
    {
     "name": "stdout",
     "output_type": "stream",
     "text": [
      "A. d. Graaff  ->  A. D. Graaff  |  ['A. D. Graaff']\n",
      "L. Xie  ->  Z.-L. Xie  |  ['L. Xie']\n"
     ]
    },
    {
     "name": "stdout",
     "output_type": "stream",
     "text": [
      "Found 70 bibliographic references in tmp_2503.01953/manuscript.bbl.\n",
      "Retrieving document from  https://arxiv.org/e-print/2503.01960\n"
     ]
    },
    {
     "name": "stdout",
     "output_type": "stream",
     "text": [
      "extracting tarball to tmp_2503.01960... done.\n"
     ]
    },
    {
     "name": "stdout",
     "output_type": "stream",
     "text": [
      "E. Rohr  ->  E. Rohr  |  ['E. Rohr']\n",
      "A. Pillepich  ->  A. Pillepich  |  ['A. Pillepich']\n"
     ]
    },
    {
     "name": "stdout",
     "output_type": "stream",
     "text": [
      "Found 100 bibliographic references in tmp_2503.01960/paper.bbl.\n",
      "Retrieving document from  https://arxiv.org/e-print/2503.01965\n",
      "extracting tarball to tmp_2503.01965..."
     ]
    },
    {
     "name": "stdout",
     "output_type": "stream",
     "text": [
      " done.\n"
     ]
    },
    {
     "name": "stderr",
     "output_type": "stream",
     "text": [
      "/opt/hostedtoolcache/Python/3.9.21/x64/lib/python3.9/site-packages/arxiv_on_deck_2/latex.py:132: LatexWarning: attempting recovering figure figures/A2_Hist_Fract_cavities.pdf\n",
      "  warnings.warn(LatexWarning(f'attempting recovering figure {image}'))\n",
      "/opt/hostedtoolcache/Python/3.9.21/x64/lib/python3.9/site-packages/arxiv_on_deck_2/latex.py:707: LatexWarning: Could not find graphic \\includegraphics[width=\\textwidth]{figures/A2_Hist_Fract_cavities.pdf}\n",
      "  warnings.warn(LatexWarning(f\"Could not find graphic {k}\"))\n",
      "/opt/hostedtoolcache/Python/3.9.21/x64/lib/python3.9/site-packages/arxiv_on_deck_2/latex.py:132: LatexWarning: attempting recovering figure figures/A2_Pie_Fract_cavities.pdf\n",
      "  warnings.warn(LatexWarning(f'attempting recovering figure {image}'))\n",
      "/opt/hostedtoolcache/Python/3.9.21/x64/lib/python3.9/site-packages/arxiv_on_deck_2/latex.py:707: LatexWarning: Could not find graphic \\includegraphics[width=\\textwidth]{figures/A2_Pie_Fract_cavities.pdf}\n",
      "  warnings.warn(LatexWarning(f\"Could not find graphic {k}\"))\n",
      "/opt/hostedtoolcache/Python/3.9.21/x64/lib/python3.9/site-packages/arxiv_on_deck_2/latex.py:132: LatexWarning: attempting recovering figure figures/A2_Hist_Fract_CC_cavities_Merged.pdf\n",
      "  warnings.warn(LatexWarning(f'attempting recovering figure {image}'))\n",
      "/opt/hostedtoolcache/Python/3.9.21/x64/lib/python3.9/site-packages/arxiv_on_deck_2/latex.py:707: LatexWarning: Could not find graphic \\includegraphics[width=\\textwidth]{figures/A2_Hist_Fract_CC_cavities_Merged.pdf}\n",
      "  warnings.warn(LatexWarning(f\"Could not find graphic {k}\"))\n"
     ]
    },
    {
     "name": "stdout",
     "output_type": "stream",
     "text": [
      "Found 103 bibliographic references in tmp_2503.01965/Main_XCavTNG-Comp.bbl.\n",
      "Retrieving document from  https://arxiv.org/e-print/2503.01969\n"
     ]
    },
    {
     "name": "stderr",
     "output_type": "stream",
     "text": [
      "/opt/hostedtoolcache/Python/3.9.21/x64/lib/python3.9/site-packages/arxiv_on_deck_2/latex_bib.py:132: UserWarning: Error processing bibitem\n",
      " item = \\bibitem[\\protect\\citeauthoryear{{The HI4PI Collaboration}, Ben~Bekhti, Floer  et~al.}{{The HI4PI Collaboration} et~al.}{2016}]{HI4PI2016}{The HI4PI Collaboration} Ben~Bekhti N.,  Floer L.,   et~al., 2016, \\mn@doi [Astronomy Astrophysics] {10.1051/0004-6361/201629178}, 594, A116\n",
      " regex = \n",
      "        \\\\bibitem(\\[[^\\[\\]]*?\\]){(?P<bibkey>[a-zA-Z0-9\\-\\+\\.\\S]+?)}(?P<authors>|([\\D]*?))(?P<year>[12][0-9]{3})(?P<rest>.*)\n",
      "        \n",
      "  warnings.warn(str(e))\n"
     ]
    },
    {
     "name": "stdout",
     "output_type": "stream",
     "text": [
      "extracting tarball to tmp_2503.01969... done.\n"
     ]
    },
    {
     "name": "stdout",
     "output_type": "stream",
     "text": [
      "A. Pillepich  ->  A. Pillepich  |  ['A. Pillepich']\n"
     ]
    },
    {
     "name": "stdout",
     "output_type": "stream",
     "text": [
      "Found 74 bibliographic references in tmp_2503.01969/paper.bbl.\n",
      "Issues with the citations\n",
      "syntax error in line 5: unbalanced braces\n",
      "Retrieving document from  https://arxiv.org/e-print/2503.01983\n",
      "extracting tarball to tmp_2503.01983... done.\n"
     ]
    },
    {
     "name": "stderr",
     "output_type": "stream",
     "text": [
      "/tmp/ipykernel_3204/2822249172.py:52: LatexWarning: 2503.01983 did not run properly\n",
      "Unable to get page count.\n",
      "Syntax Warning: May not be a PDF file (continuing anyway)\n",
      "Syntax Error: Couldn't find trailer dictionary\n",
      "Syntax Error: Couldn't find trailer dictionary\n",
      "Syntax Error: Couldn't read xref table\n",
      "\n",
      "  warnings.warn(latex.LatexWarning(f\"{paper_id:s} did not run properly\\n\" +\n"
     ]
    },
    {
     "name": "stdout",
     "output_type": "stream",
     "text": [
      "Retrieving document from  https://arxiv.org/e-print/2503.01990\n",
      "extracting tarball to tmp_2503.01990..."
     ]
    },
    {
     "name": "stdout",
     "output_type": "stream",
     "text": [
      " done.\n"
     ]
    },
    {
     "name": "stdout",
     "output_type": "stream",
     "text": [
      "A. d. Graaff  ->  A. D. Graaff  |  ['A. D. Graaff']\n"
     ]
    },
    {
     "name": "stdout",
     "output_type": "stream",
     "text": [
      "Found 115 bibliographic references in tmp_2503.01990/outflow_psb.bbl.\n",
      "Retrieving document from  https://arxiv.org/e-print/2503.02059\n"
     ]
    },
    {
     "name": "stdout",
     "output_type": "stream",
     "text": [
      "extracting tarball to tmp_2503.02059..."
     ]
    },
    {
     "name": "stdout",
     "output_type": "stream",
     "text": [
      " done.\n"
     ]
    },
    {
     "name": "stderr",
     "output_type": "stream",
     "text": [
      "/tmp/ipykernel_3204/2822249172.py:52: LatexWarning: 2503.02059 did not run properly\n",
      "bad escape \\i at position 36\n",
      "  warnings.warn(latex.LatexWarning(f\"{paper_id:s} did not run properly\\n\" +\n"
     ]
    },
    {
     "name": "stdout",
     "output_type": "stream",
     "text": [
      "Retrieving document from  https://arxiv.org/e-print/2503.02200\n"
     ]
    },
    {
     "name": "stdout",
     "output_type": "stream",
     "text": [
      "extracting tarball to tmp_2503.02200..."
     ]
    },
    {
     "name": "stdout",
     "output_type": "stream",
     "text": [
      " done.\n"
     ]
    },
    {
     "name": "stderr",
     "output_type": "stream",
     "text": [
      "/tmp/ipykernel_3204/2822249172.py:52: LatexWarning: 2503.02200 did not run properly\n",
      "bad escape \\i at position 44\n",
      "  warnings.warn(latex.LatexWarning(f\"{paper_id:s} did not run properly\\n\" +\n"
     ]
    },
    {
     "name": "stdout",
     "output_type": "stream",
     "text": [
      "Retrieving document from  https://arxiv.org/e-print/2503.02227\n"
     ]
    },
    {
     "name": "stdout",
     "output_type": "stream",
     "text": [
      "extracting tarball to tmp_2503.02227..."
     ]
    },
    {
     "name": "stdout",
     "output_type": "stream",
     "text": [
      " done.\n"
     ]
    },
    {
     "name": "stdout",
     "output_type": "stream",
     "text": [
      "H.-W. Rix  ->  H.-W. Rix  |  ['H.-W. Rix']\n",
      "Retrieving document from  https://arxiv.org/e-print/2503.02257\n"
     ]
    },
    {
     "name": "stderr",
     "output_type": "stream",
     "text": [
      "/tmp/ipykernel_3204/2822249172.py:52: LatexWarning: 2503.02227 did not run properly\n",
      "bad escape \\i at position 41\n",
      "  warnings.warn(latex.LatexWarning(f\"{paper_id:s} did not run properly\\n\" +\n"
     ]
    },
    {
     "name": "stdout",
     "output_type": "stream",
     "text": [
      "extracting tarball to tmp_2503.02257..."
     ]
    },
    {
     "name": "stdout",
     "output_type": "stream",
     "text": [
      " done.\n",
      "Retrieving document from  https://arxiv.org/e-print/2503.02520\n"
     ]
    },
    {
     "name": "stdout",
     "output_type": "stream",
     "text": [
      "extracting tarball to tmp_2503.02520... done.\n",
      "Retrieving document from  https://arxiv.org/e-print/2503.02884\n"
     ]
    },
    {
     "name": "stdout",
     "output_type": "stream",
     "text": [
      "extracting tarball to tmp_2503.02884..."
     ]
    },
    {
     "name": "stdout",
     "output_type": "stream",
     "text": [
      " done.\n"
     ]
    }
   ],
   "source": [
    "documents = []\n",
    "failed = []\n",
    "for paper in tqdm(candidates):\n",
    "    # debug crap\n",
    "    paper['identifier'] = paper['identifier'].lower().replace('arxiv:', '').replace(r'\\n', '').strip()\n",
    "    paper_id = paper['identifier']\n",
    "    \n",
    "    folder = f'tmp_{paper_id}'\n",
    "\n",
    "    try:\n",
    "        if not os.path.isdir(folder):\n",
    "            folder = retrieve_document_source(f\"{paper_id}\", f'tmp_{paper_id}')\n",
    "        \n",
    "        try:\n",
    "            doc = latex.LatexDocument(folder, validation=validation)    \n",
    "        except AffiliationError as affilerror:\n",
    "            msg = f\"ArXiv:{paper_id:s} is not an MPIA paper... \" + str(affilerror)\n",
    "            failed.append((paper, \"affiliation error: \" + str(affilerror) ))\n",
    "            continue\n",
    "        \n",
    "        # Hack because sometimes author parsing does not work well\n",
    "        if (len(doc.authors) != len(paper['authors'])):\n",
    "            doc._authors = paper['authors']\n",
    "        else:\n",
    "            # highlight authors (FIXME: doc.highlight_authors)\n",
    "            # done on arxiv paper already\n",
    "            doc._authors = highlight_authors_in_list(\n",
    "                [get_initials(k) for k in doc.authors], \n",
    "                mpia_authors, verbose=True)\n",
    "        if (doc.abstract) in (None, ''):\n",
    "            doc._abstract = paper['abstract']\n",
    "            \n",
    "        doc.comment = (get_markdown_badge(paper_id) + \n",
    "                       \"<mark>Appeared on: \" + paper['date'] + \"</mark> - \")\n",
    "        if paper['comments']:\n",
    "            doc.comment += \" _\" + paper['comments'] + \"_\"\n",
    "        \n",
    "        full_md = doc.generate_markdown_text()\n",
    "        \n",
    "        full_md += get_markdown_qrcode(paper_id)\n",
    "        \n",
    "        # replace citations\n",
    "        try:\n",
    "            bibdata = latex_bib.LatexBib.from_doc(doc)\n",
    "            full_md = latex_bib.replace_citations(full_md, bibdata)\n",
    "        except Exception as e:\n",
    "            print(\"Issues with the citations\")\n",
    "            print(e)\n",
    "        \n",
    "        documents.append((paper_id, full_md))\n",
    "    except Exception as e:\n",
    "        warnings.warn(latex.LatexWarning(f\"{paper_id:s} did not run properly\\n\" +\n",
    "                                         str(e)\n",
    "                                        ))\n",
    "        failed.append((paper, \"latex error \" + str(e)))"
   ]
  },
  {
   "cell_type": "markdown",
   "id": "2505a25c",
   "metadata": {
    "papermill": {
     "duration": 0.004816,
     "end_time": "2025-03-05T04:15:41.468264",
     "exception": false,
     "start_time": "2025-03-05T04:15:41.463448",
     "status": "completed"
    },
    "tags": []
   },
   "source": [
    "### Export the logs\n",
    "\n",
    "Throughout, we also keep track of the logs per paper. see `logs-{today date}.md` "
   ]
  },
  {
   "cell_type": "code",
   "execution_count": 6,
   "id": "d733828a",
   "metadata": {
    "execution": {
     "iopub.execute_input": "2025-03-05T04:15:41.479085Z",
     "iopub.status.busy": "2025-03-05T04:15:41.478652Z",
     "iopub.status.idle": "2025-03-05T04:15:41.502590Z",
     "shell.execute_reply": "2025-03-05T04:15:41.501937Z"
    },
    "papermill": {
     "duration": 0.030551,
     "end_time": "2025-03-05T04:15:41.503639",
     "exception": false,
     "start_time": "2025-03-05T04:15:41.473088",
     "status": "completed"
    },
    "scrolled": false,
    "tags": []
   },
   "outputs": [
    {
     "data": {
      "text/markdown": [
       "## Successful papers"
      ],
      "text/plain": [
       "<IPython.core.display.Markdown object>"
      ]
     },
     "metadata": {},
     "output_type": "display_data"
    },
    {
     "data": {
      "text/markdown": [
       "\n",
       "|||\n",
       "|---:|:---|\n",
       "| [![arXiv](https://img.shields.io/badge/arXiv-2503.01953-b31b1b.svg)](https://arxiv.org/abs/2503.01953) | **A merging pair of massive quiescent galaxies at $z=3.44$ in the Cosmic Vine**  |\n",
       "|| K. Ito, et al. -- incl., <mark>A. d. Graaff</mark>, <mark>L. Xie</mark> |\n",
       "|*Appeared on*| *2025-03-05*|\n",
       "|*Comments*| *8 pages, 5 figures, 1 table + Appendix. Accepted for publication in A&A on Feb 28, 2025. Spectra and photometry used in this paper are available at this https URL , See Valentino et al. (2025) on arXiv today for another result from the JWST \"DeepDive\" program*|\n",
       "|**Abstract**|            We report the spectroscopic confirmation of a merging pair of massive quiescent galaxies at $z=3.44$. Using JWST observations, we confirm that the two galaxies lie at a projected separation of 4.5 kpc with a velocity offset of $\\sim 680\\, {\\rm km\\, s^{-1}}\\ (\\delta_z \\sim 0.01)$. The pair resides in the core of a known rich overdensity of galaxies, dubbed the \"Cosmic Vine\". For both pair members, modeling of the Spectral Energy Distributions and faint rest-frame optical emission lines indicate high stellar masses ($\\log{(M_\\star/M_\\odot)}\\sim10.9$) and suppressed star formation ($\\log{\\rm (sSFR/yr^{-1})}<-10$), more than an order of magnitude below the level of the star formation main sequence at this redshift. We then explore the Illustris-TNG simulation and the GAEA and SHARK semi-analytical models to examine whether they produce a pair of massive quiescent galaxies akin to that of the Cosmic Vine. While all models produce close pairs of massive quiescent galaxies at $2<z<4$ with comparable separations and velocity offsets, their predicted number densities are $10-80$ times lower than our observational constraint. This discrepancy cannot be fully explained by coarse time sampling in these models or the general challenge of forming early massive quiescent galaxies in simulations. Given that $>90\\%$ of simulated pairs in the models that we analyzed merge by $z=0$, our findings suggest that our observed pair will likely coalesce into a single massive galaxy. The merger, occurring in the dense core of a large-scale structure, might represent a critical event in the formation of a brightest cluster galaxy and the morphological transformation of high-redshift disky quiescent galaxies into early-type ellipticals.         |"
      ],
      "text/plain": [
       "[2503.01953] A merging pair of massive quiescent galaxies at $z=3.44$ in the Cosmic Vine\n",
       "\tK. Ito, et al. -- incl., <mark>A. d. Graaff</mark>, <mark>L. Xie</mark>"
      ]
     },
     "metadata": {},
     "output_type": "display_data"
    },
    {
     "data": {
      "text/markdown": [
       "\n",
       "|||\n",
       "|---:|:---|\n",
       "| [![arXiv](https://img.shields.io/badge/arXiv-2503.01960-b31b1b.svg)](https://arxiv.org/abs/2503.01960) | **The abundance and origin of cool gas in galaxy clusters in the TNG-Cluster simulation**  |\n",
       "|| M. Staffehl, et al. -- incl., <mark>E. Rohr</mark>, <mark>A. Pillepich</mark> |\n",
       "|*Appeared on*| *2025-03-05*|\n",
       "|*Comments*| *The TNG-Cluster simulation is now fully publicly released at this https URL (see also science results today from Prunier+, Chatzigiannakis+, and Lehle+ today)*|\n",
       "|**Abstract**|            In addition to the hot intracluster medium, massive galaxy clusters host complex, multi-phase gaseous halos. In this work, we quantify the abundance, spatial distribution, and origin of the cool T < 10^4.5 K gas within clusters. To do so, we combine the TNG-Cluster and TNG300 cosmological magnetohydrodynamical simulations, yielding a sample of 632 simulated galaxy clusters at z=0 with masses M_200c ~ 10^14-15.4 solar masses. We find that cool gas is present in every cluster at z=0, although it constitutes only a small fraction of the total gas mass within twice the virial radius, ranging from ~10^-4 to a few per cent. The majority of cool gas resides in the cluster outskirts in infalling satellites and other halos. More rarely, cool gas can also be present in the central regions of clusters. More massive halos contain larger amounts (but not fractions) of cool gas ~10^10-12 solar masses, and we identify correlations between cluster cool gas fraction and several global halo and galaxy properties at fixed halo mass. Using Monte-Carlo Lagrangian tracer particles, we then track the origin of cool gas in present-day clusters. We find that the primary source is recent accretion at z < 0.1, predominantly in the form of pre-cooled gas carried by infalling satellite galaxies and other halos. However, in-situ cooling of the hot intracluster medium gas accreted at earlier epochs also contributes, especially in present-day cool-core clusters.         |"
      ],
      "text/plain": [
       "[2503.01960] The abundance and origin of cool gas in galaxy clusters in the TNG-Cluster simulation\n",
       "\tM. Staffehl, et al. -- incl., <mark>E. Rohr</mark>, <mark>A. Pillepich</mark>"
      ]
     },
     "metadata": {},
     "output_type": "display_data"
    },
    {
     "data": {
      "text/markdown": [
       "\n",
       "|||\n",
       "|---:|:---|\n",
       "| [![arXiv](https://img.shields.io/badge/arXiv-2503.01965-b31b1b.svg)](https://arxiv.org/abs/2503.01965) | **X-ray cavities in TNG-Cluster: a direct comparison to observations**  |\n",
       "|| <mark>M. Prunier</mark>, <mark>A. Pillepich</mark>, J. Hlavacek-Larrondo, D. Nelson |\n",
       "|*Appeared on*| *2025-03-05*|\n",
       "|*Comments*| *Submitted to MNRAS. The data of the TNG-Cluster simulation is now fully public and accessible at this https URL. See also science results by Chatzigiannakis+, Lehle+ and Staffehl+ on astro-ph today*|\n",
       "|**Abstract**|            The TNG-Cluster magnetohydrodynamic cosmological simulations, produce a diverse population of X-ray cavities in the intracluster medium (ICM) of simulated galaxy clusters. These arise from episodic, high velocity, kinetic energy injections from the central active supermassive black hole (AGN, SMBH). Here, we present the first comprehensive comparative analysis of X-ray cavities in TNG-Cluster with observational data. First, we select a volume-limited sample of 35 real clusters ($z \\leq 0.071$, M$_\\text{500c}$ = 10$^{14-14.8}$ M$_\\odot$) observed with the Chandra X-ray Observatory, identify 3 analogs for each in TNG-Cluster (total of 105) and generate mock Chandra images using same exposure times as their observed counterparts. We identify X-ray cavities and measure their properties in both datasets using identical techniques, ensuring a direct, apples-to-apples comparison. Our analysis reveals that both samples have a similar fraction of X-ray cavities (35-43 per cent). They exhibit comparable sizes and morphologies, although the sizes of simulated X-ray cavities still attached to the SMBH are somewhat larger in TNG-Cluster -- a scarcity at $< 10$ kpc. The area of TNG X-ray cavities increases as they rise in the ICM, consistent with the trend seen in the observational sample. The cavity powers, estimated using observational techniques, show good agreement between the two samples (10$^{42-45}$ erg.s$^{-1}$), suggesting that X-ray cavities in the simulation are an important heating mechanism in cluster cores. Overall, the rather simple AGN feedback model of TNG, with no model choices made to reproduce X-ray morphological features, and without cosmic rays, creates a quantitatively realistic population of X-ray cavities at cluster scales.         |"
      ],
      "text/plain": [
       "[2503.01965] X-ray cavities in TNG-Cluster: a direct comparison to observations\n",
       "\t<mark>M. Prunier</mark>, <mark>A. Pillepich</mark>, J. Hlavacek-Larrondo, D. Nelson"
      ]
     },
     "metadata": {},
     "output_type": "display_data"
    },
    {
     "data": {
      "text/markdown": [
       "\n",
       "|||\n",
       "|---:|:---|\n",
       "| [![arXiv](https://img.shields.io/badge/arXiv-2503.01969-b31b1b.svg)](https://arxiv.org/abs/2503.01969) | **What Drives Cluster Cool-Core Transformations? A Population Level Analysis of TNG-Cluster**  |\n",
       "|| K. Lehle, D. Nelson, <mark>A. Pillepich</mark> |\n",
       "|*Appeared on*| *2025-03-05*|\n",
       "|*Comments*| *The data of the TNG-Cluster simulation is now fully public and accessible at this https URL. See also science results by Chatzigiannakis+, Prunier+ and Staffehl+ on astro-ph today. Submitted to A&A*|\n",
       "|**Abstract**|            In this study, we examine the frequency and physical drivers of transformations from cool-core (CC) to non-cool-core (NCC) clusters, and vice versa, in a sample of 352 massive galaxy clusters (M_vir = 10^14-15.3 M_sun) from the TNG-Cluster magnetohydrodynamical cosmological simulation of galaxies. By identifying transformations based on the evolution of central entropy and focusing on z<2.5, we find that clusters frequently undergo such events, depending on their assembly and supermassive black hole histories. On average, clusters experience 2 to 3 transformations. Transformations can occur in both directions and can be temporary, but those to higher entropy cores, i.e. in the direction from CC to NCC states, are the vast majority. CC phases are shorter than NCC phases, and thus overall the TNG-Cluster population forms with low-entropy cores and moves towards NCC states with time. We study the role that mergers play in driving transformations, and find that mergers within ~1Gyr prior to a transformation toward higher (but not lower) entropy cores occur statistically more often than in a random control sample. Most importantly, we find examples of mergers associated with CC disruption regardless of their mass ratio or angular momentum. However, past merger activity is not a good predictor for z=0 CC status, at least based on core entropy, even though clusters undergoing more mergers eventually have the highest core entropy values at z=0. We consider the interplay between AGN feedback and evolving cluster core thermodynamics. We find that core transformations are accompanied by an increase in AGN activity, whereby frequent and repeated (kinetic) energy injections from the central SMBHs can produce a collective, long-term impact on central entropy, ultimately heating cluster cores. Whether such fast-paced periods of AGN activity are triggered by mergers is plausible, but not necessary.         |"
      ],
      "text/plain": [
       "[2503.01969] What Drives Cluster Cool-Core Transformations? A Population Level Analysis of TNG-Cluster\n",
       "\tK. Lehle, D. Nelson, <mark>A. Pillepich</mark>"
      ]
     },
     "metadata": {},
     "output_type": "display_data"
    },
    {
     "data": {
      "text/markdown": [
       "\n",
       "|||\n",
       "|---:|:---|\n",
       "| [![arXiv](https://img.shields.io/badge/arXiv-2503.01990-b31b1b.svg)](https://arxiv.org/abs/2503.01990) | **Gas outflows in two recently quenched galaxies at z = 4 and 7**  |\n",
       "|| F. Valentino, et al. -- incl., <mark>A. d. Graaff</mark> |\n",
       "|*Appeared on*| *2025-03-05*|\n",
       "|*Comments*| *13 pages, 7 figures + Appendix. Submitted to A&A on Jan 27, 2025. See Ito et al. (2025) on arXiv today for another result from the JWST \"DeepDive\" program*|\n",
       "|**Abstract**|            Outflows are a key element in the baryon cycle of galaxies, and their properties provide a fundamental test for our models of how star formation quenches in galaxies. Here we report the detection of outflowing gas in two recently quenched, massive ($M_\\star\\sim10^{10.2}M_\\odot$) galaxies at z=4.106 (NS_274) and z=7.276 (RUBIES-UDS-QG-z7) observed with JWST/NIRSpec. The outflows are traced by blue-shifted MgII absorption lines, and in the case of the z=4.1 system, also by FeII and NaI features. The spectra of the two sources are similar to those of local post-starburst galaxies, showing deep Balmer features and minimal star formation on 10 Myr timescales as traced by the lack of bright emission lines, also suggesting the absence of a strong and radiatively efficient AGN. The galaxies' SFHs are consistent with an abrupt quenching of star formation, which continued at rates of $\\sim15\\,M_\\odot$/yr averaged over 100 Myr timescales. Dedicated millimeter observations of NS_274 constrain its dust obscured SFR to $<12\\,M_\\odot$/yr. Under simple geometrical assumptions, we derive mass loading factors $\\lesssim1$ and $\\sim50$ for the z=4.1 and z=7.3 systems, respectively, and similarly different energies carried by the outflows. Supernovae feedback can account for the mass and energy of the outflow in NS_274. However, the low mass loading factor and average gas velocity suggest that the observed outflow is unlikely to be the reason behind its quenching. SF-related processes seem to be insufficient to explain the extreme mass outflow rate of RUBIES-UDS-QG-z7, which would require an additional ejective mechanism such as an undetected AGN. Finally, the average outflow velocities per unit $M_\\star$, SFR, or its surface area are consistent with those of lower-redshift post-starburst galaxies, suggesting that outflows in rapidly quenched galaxies might occur similarly across cosmic time. [Abridged]         |"
      ],
      "text/plain": [
       "[2503.01990] Gas outflows in two recently quenched galaxies at z = 4 and 7\n",
       "\tF. Valentino, et al. -- incl., <mark>A. d. Graaff</mark>"
      ]
     },
     "metadata": {},
     "output_type": "display_data"
    },
    {
     "data": {
      "text/markdown": [
       "## Failed papers"
      ],
      "text/plain": [
       "<IPython.core.display.Markdown object>"
      ]
     },
     "metadata": {},
     "output_type": "display_data"
    },
    {
     "data": {
      "text/markdown": [
       "\n",
       "|||\n",
       "|---:|:---|\n",
       "| [![arXiv](https://img.shields.io/badge/arXiv-2503.02520-b31b1b.svg)](https://arxiv.org/abs/2503.02520) | **$^{14}$N$/^{15}$N abundance ratio toward massive star-forming regions with different Galactic distances**  |\n",
       "|| C. Ruan, et al. -- incl., <mark>J. Li</mark> |\n",
       "|*Appeared on*| *2025-03-05*|\n",
       "|*Comments*| *9 pages, 5 figures, 2 tables, accepted for publication in the A&A Letters*|\n",
       "|**Abstract**|            The abundance ratio of $^{14}$N$/^{15}$N is, in principle, a powerful tool for tracing stellar nucleosynthesis. This work aims to measure and analyze ($^{14}$N/$^{15}$N)$\\times$($^{13}$C/$^{12}$C) and $^{14}$N$/^{15}$N abundance ratios in massive star-forming regions across a range of galactocentric distances to provide constraints on galactic chemical evolution (GCE) models. We present H$^{13}$CN and HC$^{15}$N J=2-1 results toward 51massive star-forming regions obtained with the Institut de Radioastronomie Millimétrique (IRAM) 30 meter telescope.\\ We used these results to derive ($^{14}$N/$^{15}$N)$\\times$($^{13}$C/$^{12}$C) abundance ratios as well as $^{14}$N$/^{15}$N ratios using the double isotope method. We find an overall decreasing trend in the ($^{14}$N/$^{15}$N)$\\times$($^{13}$C/$^{12}$C) abundance ratio and an increasing trend in the $^{14}$N$/^{15}$N ratio with increasing galactocentric distance ($D_{\\rm GC}$), which provides a good constraint for the GCE model based on high signal to noise ratio measurements. While the predicted ($^{14}$N/$^{15}$N)$\\times$($^{13}$C/$^{12}$C) ratios between 6 and 12 kpc determined using current GCE models are consistent with our observational results, the ratios from models for $D_{\\rm GC}$ less than 6 kpc are significantly higher than the observational results, which indicates GCE models for $^{14}$N/$^{15}$N and/or $^{13}$C/$^{12}$C ratios need to be updated for at least this range.         |\n",
       "|<p style=\"color:green\"> **ERROR** </p>| <p style=\"color:green\">affiliation error: mpia.affiliation_verifications: 'Heidelberg' keyword not found.</p> |"
      ],
      "text/plain": [
       "<IPython.core.display.Markdown object>"
      ]
     },
     "metadata": {},
     "output_type": "display_data"
    },
    {
     "data": {
      "text/markdown": [
       "\n",
       "|||\n",
       "|---:|:---|\n",
       "| [![arXiv](https://img.shields.io/badge/arXiv-2503.02884-b31b1b.svg)](https://arxiv.org/abs/2503.02884) | **The SRG/eROSITA all-sky survey: View of the Fornax galaxy cluster**  |\n",
       "|| T. Reiprich, et al. -- incl., <mark>X. Zhang</mark> |\n",
       "|*Appeared on*| *2025-03-05*|\n",
       "|*Comments*| *11 pages plus 3 pages appendix, submitted to Astronomy & Astrophysics*|\n",
       "|**Abstract**|            The Fornax cluster is one of the most nearby X-ray bright galaxy clusters. Previous observations of the intracluster medium were limited to less than R500. We aim to significantly extend the X-ray coverage. We use data from five SRG/eROSITA all-sky surveys and perform a detailed one- and two-dimensional X-ray surface brightness analysis, allowing us to trace hot gas emission from kpc to Mpc scales with a single instrument. We compare the results to those from a recent numerical simulation of the local Universe (SLOW) and correlate the X-ray emission distribution with that of other tracers, including cluster member galaxies, ultra compact dwarf galaxies, intracluster globular clusters, and HI-tail galaxies. We detect X-ray emission out to well beyond the virial radius, R100=2.2 deg. We do not find obvious evidence for the bow shock several hundred kpc south of the cluster center predicted by previous numerical simulations of the Fornax cluster. Instead, we discover finger-like structures beyond R500 to the west and south-east that stretch out far beyond the virial radius. They might be due to gas being pushed outward by the previous merger with NGC 1404 or due to warm-hot gas infall along large-scale filaments. Intriguingly, we find the distributions of the other tracers -- galaxies and globular clusters -- to be correlated with the X-ray excess regions, favoring the latter infall scenario. Interestingly, we also discover an apparent Bridge of low surface brightness emission beyond the virial radius connecting to the Fornax A galaxy group, which is also traced by the member galaxy and globular cluster distribution. This X-ray Bridge furthermore approximately coincides with a region of enhanced Faraday depth detected previously. The gas distribution in the SLOW simulation shows similar features as those we have discovered with SRG/eROSITA.         |\n",
       "|<p style=\"color:green\"> **ERROR** </p>| <p style=\"color:green\">affiliation error: mpia.affiliation_verifications: 'Heidelberg' keyword not found.</p> |"
      ],
      "text/plain": [
       "<IPython.core.display.Markdown object>"
      ]
     },
     "metadata": {},
     "output_type": "display_data"
    },
    {
     "data": {
      "text/markdown": [
       "\n",
       "|||\n",
       "|---:|:---|\n",
       "| [![arXiv](https://img.shields.io/badge/arXiv-2503.02257-b31b1b.svg)](https://arxiv.org/abs/2503.02257) | **SN 2021hpr: A Normal Type Ia Supernova Showing Excess Emission in the Early Rising Phase**  |\n",
       "|| A. Iskandar, et al. -- incl., <mark>J. Liu</mark>, <mark>X. Zhang</mark> |\n",
       "|*Appeared on*| *2025-03-05*|\n",
       "|*Comments*| *27 pages, 15 figures, Accepted for publication in ApJ*|\n",
       "|**Abstract**|            We present extensive optical observations of a nearby Type Ia supernova (SN Ia), SN 2021hpr, located in the spiral galaxy NGC 3147 at a distance of $\\sim$ 45 Mpc. Our observations cover a phase within $\\sim 1-2$ days to $\\sim 290$ days after the explosion. SN 2021hpr is found to be a spectroscopically normal SN Ia, with an absolute B-band peak magnitude of $M_{max}(B) \\approx -19.16 \\pm 0.14$ mag and a post-peak decline rate of $\\Delta m_{15}(B)= 1.00 \\pm 0.01 $ mag. Early-time light curves showed a $\\sim 7.0 \\%$ excess emission compared to a homogeneously expanding fireball model, likely due to SN ejecta interacting with a companion or immediate circumstellar matter. The optical spectra of SN 2021hpr are overall similar to those of normal SNe Ia, but characterized by prominent detached high-velocity features (HVFs) of Si {\\sc ii} and Ca {\\sc ii} in the early phase. After examining a small sample of well-observed normal SNe Ia, we find that the HVFs are likely common for the subgroup with early-excess emission. The association of early bump feature with the HVFs could be attributed to density or abundance enhancement at the outer layer of the exploding star, likely as a result of interactions with companion$/$CSM or experiencing more complete burning. Nevertheless, the redshifted Fe {\\sc ii} and Ni {\\sc ii} lines in the nebular-phase spectra of SN 2021hpr, contrary to the blueshift trend seen in other SNe Ia showing early bump features, indicate its peculiarity in the explosion that remains to be understood.         |\n",
       "|<p style=\"color:green\"> **ERROR** </p>| <p style=\"color:green\">affiliation error: mpia.affiliation_verifications: 'Planck' keyword not found.</p> |"
      ],
      "text/plain": [
       "<IPython.core.display.Markdown object>"
      ]
     },
     "metadata": {},
     "output_type": "display_data"
    },
    {
     "data": {
      "text/markdown": [
       "\n",
       "|||\n",
       "|---:|:---|\n",
       "| [![arXiv](https://img.shields.io/badge/arXiv-2503.01983-b31b1b.svg)](https://arxiv.org/abs/2503.01983) | **The temperature and metallicity distributions of the ICM: insights with TNG-Cluster for XRISM-like observations**  |\n",
       "|| <mark>D. Chatzigiannakis</mark>, et al. -- incl., <mark>A. Pillepich</mark> |\n",
       "|*Appeared on*| *2025-03-05*|\n",
       "|*Comments*| *The data of the TNG-Cluster simulation is now fully public and accessible at this http URL . See also science results by Prunier+, Lehle+ and Staffehl+ on astro-ph today*|\n",
       "|**Abstract**|            The new era of high-resolution X-ray spectroscopy will significantly improve our understanding of the intra-cluster medium (ICM) by providing precise constraints on its underlying physical properties. However, spectral fitting requires reasonable assumptions on the thermal and chemical distributions of the gas. We use the output of TNG-Cluster, the newest addition to the IllustrisTNG suite of cosmological magnetohydrodynamical simulations, to provide theoretical expectations for the multi-phase nature of the ICM across hundreds of z=0 clusters (M$_{500c}$ = 10$^{14.0-15.3}$ M$_\\odot$) based upon a realistic model for galaxy formation and evolution. We create and analyse, in an observer-like manner, end-to-end XRISM/Resolve mock observations towards cluster centres. We then systematically compare the intrinsic properties of the simulated gas with the inferred ones from spectral fitting via a variety of commonly used spectral-emission models. Our analysis suggests that models with a distribution of temperatures, such as bvlognorm and bvgadem, better describe the complex thermal structure of the ICM, as predicted by TNG-Cluster, but incur biases of 0.5-2 keV (16th-84th percentiles). The 1T bvapec is too simplistic for the predicted broad temperature distributions, while a 2T double bvapec model systematically fails to capture the input temperature structure. However, all spectral emission models systematically underestimate the Fe abundance of the central ICM by ~0.1 Solar (~ 20 per cent) primarily due to projection effects. Selecting only strong cool core clusters leads to minor improvements on inference quality, removing the majority of outliers but maintaining similar overall biases and cluster-to-cluster scatter.         |\n",
       "|<p style=\"color:red\"> **ERROR** </p>| <p style=\"color:red\">latex error Unable to get page count.\n",
       "Syntax Warning: May not be a PDF file (continuing anyway)\n",
       "Syntax Error: Couldn't find trailer dictionary\n",
       "Syntax Error: Couldn't find trailer dictionary\n",
       "Syntax Error: Couldn't read xref table\n",
       "</p> |"
      ],
      "text/plain": [
       "<IPython.core.display.Markdown object>"
      ]
     },
     "metadata": {},
     "output_type": "display_data"
    },
    {
     "data": {
      "text/markdown": [
       "\n",
       "|||\n",
       "|---:|:---|\n",
       "| [![arXiv](https://img.shields.io/badge/arXiv-2503.02059-b31b1b.svg)](https://arxiv.org/abs/2503.02059) | **A confirmed deficit of hot and cold dust emission in the most luminous Little Red Dots**  |\n",
       "|| D. J. Setton, et al. -- incl., <mark>A. d. Graaff</mark> |\n",
       "|*Appeared on*| *2025-03-05*|\n",
       "|*Comments*| *16 pages, 5 figures, 3 tables. Submitted to ApJ Letters. Comments welcome!*|\n",
       "|**Abstract**|            Luminous broad H$\\alpha$ emission and red rest-optical SEDs are the hallmark of compact Little Red Dots (LRDs), implying highly attenuated dusty starbursts and/or obscured active galactic nuclei. However, the lack of observed FIR emission has proved difficult to reconcile with the implied attenuated luminosity in these models. Here, we utilize deep new ALMA imaging, new and existing JWST/MIRI imaging, and archival Spitzer/Herschel imaging of two of the rest-optically brightest LRDs ($z=3.1$ and $z=4.47$) to place the strongest constraints on the IR luminosity in LRDs to date. The detections at $\\lambda_\\mathrm{rest}=1-4 \\ \\mu$m imply flat slopes in the rest-IR, ruling out a contribution from hot ($T\\gtrsim500$ K) dust. Similarly, FIR non-detections rule out any appreciable cold ($T\\lesssim75$ K) dust component. Assuming energy balance, these observations are inconsistent with the typical FIR dust emission of dusty starbursts and quasar torii, which usually show a mixture of cold and hot dust. Additionally, our [$\\mathrm{C}_{II}$] non-detections rule out typical dusty starbursts. We compute empirical maximum IR SEDs and find that both LRDs must have $\\log(L_\\mathrm{IR}/L_\\odot) \\lesssim 12.2$ at the $3\\sigma$ level. These limits are in tension with the predictions of rest-optical spectrophotometric fits, be they galaxy only, AGN only, or composite. It is unlikely that LRDs are highly dust-reddened intrinsically blue sources with a dust temperature distribution that conspires to avoid current observing facilities. Rather, we favor an intrinsically redder LRD SED model that alleviates the need for strong dust attenuation.         |\n",
       "|<p style=\"color:red\"> **ERROR** </p>| <p style=\"color:red\">latex error bad escape \\i at position 36</p> |"
      ],
      "text/plain": [
       "<IPython.core.display.Markdown object>"
      ]
     },
     "metadata": {},
     "output_type": "display_data"
    },
    {
     "data": {
      "text/markdown": [
       "\n",
       "|||\n",
       "|---:|:---|\n",
       "| [![arXiv](https://img.shields.io/badge/arXiv-2503.02227-b31b1b.svg)](https://arxiv.org/abs/2503.02227) | **Deriving Stellar Properties, Distances, and Reddenings using Photometry and Astrometry with BRUTUS**  |\n",
       "|| J. S. Speagle, et al. -- incl., <mark>H.-W. Rix</mark> |\n",
       "|*Appeared on*| *2025-03-05*|\n",
       "|*Comments*| *33 pages, 17 figures main text (+23 pages, +10 figures in appendices). To be re-submitted to AAS Journals. Package documentation to be added in coming weeks (as of 2025-03-03)*|\n",
       "|**Abstract**|            We present brutus, an open source Python package for quickly deriving stellar properties, distances, and reddenings to stars based on grids of stellar models constrained by photometric and astrometric data. We outline the statistical framework for deriving these quantities, its implementation, and various Galactic priors over the 3-D distribution of stars, stellar properties, and dust extinction (including $R_V$ variation). We establish a procedure to empirically calibrate MIST v1.2 isochrones by using open clusters to derive corrections to the effective temperatures and radii of the isochrones, which reduces systematic errors on the lower main sequence. We also describe and apply a method to estimate photometric offsets between stellar models and observed data using nearby, low-reddening field stars. We perform a series of tests on mock and real data to examine parameter recovery with MIST under different modeling assumptions, illustrating that brutus is able to recover distances and other stellar properties using optical to near-infrared photometry and astrometry. The code is publicly available at this https URL.         |\n",
       "|<p style=\"color:red\"> **ERROR** </p>| <p style=\"color:red\">latex error bad escape \\i at position 41</p> |"
      ],
      "text/plain": [
       "<IPython.core.display.Markdown object>"
      ]
     },
     "metadata": {},
     "output_type": "display_data"
    },
    {
     "data": {
      "text/markdown": [
       "\n",
       "|||\n",
       "|---:|:---|\n",
       "| [![arXiv](https://img.shields.io/badge/arXiv-2503.02200-b31b1b.svg)](https://arxiv.org/abs/2503.02200) | **Mapping the Milky Way in 5-D with 170 Million Stars**  |\n",
       "|| J. S. Speagle, et al. -- incl., <mark>H.-W. Rix</mark> |\n",
       "|*Appeared on*| *2025-03-05*|\n",
       "|*Comments*| *Published in ApJ in 2024. 31 pages, 17 figures*|\n",
       "|**Abstract**|            We present \"augustus\", a catalog of distance, extinction, and stellar parameter estimates to 170 million stars from $14\\,{\\rm mag} < r < 20\\,{\\rm mag}$ and with $|b| > 10^\\circ$ drawing on a combination of optical to near-IR photometry from Pan-STARRS, 2MASS, UKIDSS, and unWISE along with parallax measurements from \\textit{Gaia} DR2 and 3-D dust extinction maps. After applying quality cuts, we find 125 million objects have \"high-quality\" posteriors with statistical distance uncertainties of $\\lesssim 10\\%$ for objects with well-constrained stellar types. This is a substantial improvement over distance estimates derived from Gaia parallaxes alone and in line with results from previous work. We find the fits are able to accurately reproduce the de-reddened Gaia color-magnitude diagram, which serves as a useful consistency check of our results. We show that we are able to clearly detect large, kinematically-coherent substructures in our data relative to the input priors, including the Monoceros Ring and the Sagittarius stream, attesting to the quality of the catalog. Our results are publicly available at doi:https://doi.org/10.7910/DVN/WYMSXV. An accompanying interactive visualization can be found at this http URL.         |\n",
       "|<p style=\"color:red\"> **ERROR** </p>| <p style=\"color:red\">latex error bad escape \\i at position 44</p> |"
      ],
      "text/plain": [
       "<IPython.core.display.Markdown object>"
      ]
     },
     "metadata": {},
     "output_type": "display_data"
    }
   ],
   "source": [
    "import datetime\n",
    "today = str(datetime.date.today())\n",
    "logfile = f\"_build/html/logs/log-{today}.md\"\n",
    "\n",
    "\n",
    "with open(logfile, 'w') as logs:\n",
    "    # Success\n",
    "    logs.write(f'# Arxiv on Deck 2: Logs - {today}\\n\\n')\n",
    "    logs.write(\"\"\"* Arxiv had {0:,d} new papers\\n\"\"\".format(len(new_papers)))\n",
    "    logs.write(\"\"\"    * {0:,d} with possible author matches\\n\\n\"\"\".format(len(candidates)))\n",
    "    logs.write(\"## Sucessful papers\\n\\n\")\n",
    "    display(Markdown(\"## Successful papers\"))\n",
    "    success = [k[0] for k in documents]\n",
    "    for candid in candidates:\n",
    "        if candid['identifier'].split(':')[-1] in success:\n",
    "            display(candid)\n",
    "            logs.write(candid.generate_markdown_text() + '\\n\\n')\n",
    "\n",
    "    ## failed\n",
    "    logs.write(\"## Failed papers\\n\\n\")\n",
    "    display(Markdown(\"## Failed papers\"))\n",
    "    failed = sorted(failed, key=lambda x: x[1])\n",
    "    current_reason = \"\"\n",
    "    for paper, reason in failed:\n",
    "        if 'affiliation' in reason:\n",
    "            color = 'green'\n",
    "        else:\n",
    "            color = 'red'\n",
    "        data = Markdown(\n",
    "                paper.generate_markdown_text() + \n",
    "                f'\\n|<p style=\"color:{color:s}\"> **ERROR** </p>| <p style=\"color:{color:s}\">{reason:s}</p> |'\n",
    "               )\n",
    "        if reason != current_reason:\n",
    "            logs.write(f'### {reason:s} \\n\\n')\n",
    "            current_reason = reason\n",
    "        logs.write(data.data + '\\n\\n')\n",
    "        \n",
    "        # only display here the important errors (all in logs)\n",
    "        # if color in ('red',):\n",
    "        display(data)"
   ]
  },
  {
   "cell_type": "markdown",
   "id": "472d20ee",
   "metadata": {
    "papermill": {
     "duration": 0.006139,
     "end_time": "2025-03-05T04:15:41.516144",
     "exception": false,
     "start_time": "2025-03-05T04:15:41.510005",
     "status": "completed"
    },
    "tags": []
   },
   "source": [
    "## Export documents\n",
    "\n",
    "We now write the .md files and export relevant images"
   ]
  },
  {
   "cell_type": "code",
   "execution_count": 7,
   "id": "d426aed9",
   "metadata": {
    "execution": {
     "iopub.execute_input": "2025-03-05T04:15:41.529576Z",
     "iopub.status.busy": "2025-03-05T04:15:41.529149Z",
     "iopub.status.idle": "2025-03-05T04:15:41.535882Z",
     "shell.execute_reply": "2025-03-05T04:15:41.535364Z"
    },
    "papermill": {
     "duration": 0.01461,
     "end_time": "2025-03-05T04:15:41.536919",
     "exception": false,
     "start_time": "2025-03-05T04:15:41.522309",
     "status": "completed"
    },
    "tags": []
   },
   "outputs": [],
   "source": [
    "def export_markdown_summary(md: str, md_fname:str, directory: str):\n",
    "    \"\"\"Export MD document and associated relevant images\"\"\"\n",
    "    import os\n",
    "    import shutil\n",
    "    import re\n",
    "\n",
    "    if (os.path.exists(directory) and not os.path.isdir(directory)):\n",
    "        raise RuntimeError(f\"a non-directory file exists with name {directory:s}\")\n",
    "\n",
    "    if (not os.path.exists(directory)):\n",
    "        print(f\"creating directory {directory:s}\")\n",
    "        os.mkdir(directory)\n",
    "\n",
    "    fig_fnames = (re.compile(r'\\[Fig.*\\]\\((.*)\\)').findall(md) + \n",
    "                  re.compile(r'\\<img src=\"([^>\\s]*)\"[^>]*/>').findall(md))\n",
    "    print(\"found figures\", fig_fnames)\n",
    "    for fname in fig_fnames:\n",
    "        if 'http' in fname:\n",
    "            # No need to copy online figures\n",
    "            continue\n",
    "        if not os.path.exists(fname):\n",
    "            print(\"file not found\", fname)\n",
    "            continue\n",
    "        print(\"copying \", fname, \"to\", directory)\n",
    "        destdir = os.path.join(directory, os.path.dirname(fname))\n",
    "        destfname = os.path.join(destdir, os.path.basename(fname))\n",
    "        try:\n",
    "            os.makedirs(destdir)\n",
    "        except FileExistsError:\n",
    "            pass\n",
    "        shutil.copy(fname, destfname)\n",
    "    with open(os.path.join(directory, md_fname), 'w') as fout:\n",
    "        fout.write(md)\n",
    "    print(\"exported in \", os.path.join(directory, md_fname))\n",
    "    [print(\"    + \" + os.path.join(directory,fk)) for fk in fig_fnames]"
   ]
  },
  {
   "cell_type": "code",
   "execution_count": 8,
   "id": "014d04a4",
   "metadata": {
    "execution": {
     "iopub.execute_input": "2025-03-05T04:15:41.550180Z",
     "iopub.status.busy": "2025-03-05T04:15:41.549826Z",
     "iopub.status.idle": "2025-03-05T04:15:41.574730Z",
     "shell.execute_reply": "2025-03-05T04:15:41.574130Z"
    },
    "papermill": {
     "duration": 0.032688,
     "end_time": "2025-03-05T04:15:41.575790",
     "exception": false,
     "start_time": "2025-03-05T04:15:41.543102",
     "status": "completed"
    },
    "tags": []
   },
   "outputs": [
    {
     "name": "stdout",
     "output_type": "stream",
     "text": [
      "found figures ['tmp_2503.01953/./spectrum_summary.png', 'tmp_2503.01953/./Numberdensity_QGpair.png', 'tmp_2503.01953/./QGpair_image.png']\n",
      "copying  tmp_2503.01953/./spectrum_summary.png to _build/html/\n",
      "copying  tmp_2503.01953/./Numberdensity_QGpair.png to _build/html/\n",
      "copying  tmp_2503.01953/./QGpair_image.png to _build/html/\n",
      "exported in  _build/html/2503.01953.md\n",
      "    + _build/html/tmp_2503.01953/./spectrum_summary.png\n",
      "    + _build/html/tmp_2503.01953/./Numberdensity_QGpair.png\n",
      "    + _build/html/tmp_2503.01953/./QGpair_image.png\n",
      "found figures ['tmp_2503.01960/./img/tracer_history_final_plots_tracer_fraction_TNG_Cluster_within_2Rvir.png', 'tmp_2503.01960/./img/tracer_history_crossing_times_TNG_Cluster_distribution_unweighted.png', 'tmp_2503.01960/./img/tracer_history_crossing_times_TNG_Cluster_mean_vs_mass.png', 'tmp_2503.01960/./img/tracer_history_time_development_distance_TNG_Cluster_2dhist_mean.png', 'tmp_2503.01960/./img/tracer_history_time_development_temperature_TNG_Cluster_mean.png', 'tmp_2503.01960/./img/tracer_history_time_development_temperature_TNG_Cluster_2dhist_mean.png', 'tmp_2503.01960/./img/mass_trends_standard_median_TNG300_1.png']\n",
      "copying  tmp_2503.01960/./img/tracer_history_final_plots_tracer_fraction_TNG_Cluster_within_2Rvir.png to _build/html/\n",
      "copying  tmp_2503.01960/./img/tracer_history_crossing_times_TNG_Cluster_distribution_unweighted.png to _build/html/\n",
      "copying  tmp_2503.01960/./img/tracer_history_crossing_times_TNG_Cluster_mean_vs_mass.png to _build/html/\n",
      "copying  tmp_2503.01960/./img/tracer_history_time_development_distance_TNG_Cluster_2dhist_mean.png to _build/html/\n",
      "copying  tmp_2503.01960/./img/tracer_history_time_development_temperature_TNG_Cluster_mean.png to _build/html/\n",
      "copying  tmp_2503.01960/./img/tracer_history_time_development_temperature_TNG_Cluster_2dhist_mean.png to _build/html/\n",
      "copying  tmp_2503.01960/./img/mass_trends_standard_median_TNG300_1.png to _build/html/\n",
      "exported in  _build/html/2503.01960.md\n",
      "    + _build/html/tmp_2503.01960/./img/tracer_history_final_plots_tracer_fraction_TNG_Cluster_within_2Rvir.png\n",
      "    + _build/html/tmp_2503.01960/./img/tracer_history_crossing_times_TNG_Cluster_distribution_unweighted.png\n",
      "    + _build/html/tmp_2503.01960/./img/tracer_history_crossing_times_TNG_Cluster_mean_vs_mass.png\n",
      "    + _build/html/tmp_2503.01960/./img/tracer_history_time_development_distance_TNG_Cluster_2dhist_mean.png\n",
      "    + _build/html/tmp_2503.01960/./img/tracer_history_time_development_temperature_TNG_Cluster_mean.png\n",
      "    + _build/html/tmp_2503.01960/./img/tracer_history_time_development_temperature_TNG_Cluster_2dhist_mean.png\n",
      "    + _build/html/tmp_2503.01960/./img/mass_trends_standard_median_TNG300_1.png\n",
      "found figures ['tmp_2503.01965/./figures/A2_Pcav_Lcool_Hist_TNG_grey_other_cavz_02_logbin_stats.png', 'tmp_2503.01965/./figures/A2_Area_Distance_log_binned_final.png', '', '']\n",
      "copying  tmp_2503.01965/./figures/A2_Pcav_Lcool_Hist_TNG_grey_other_cavz_02_logbin_stats.png to _build/html/\n",
      "copying  tmp_2503.01965/./figures/A2_Area_Distance_log_binned_final.png to _build/html/\n",
      "file not found \n",
      "file not found \n",
      "exported in  _build/html/2503.01965.md\n",
      "    + _build/html/tmp_2503.01965/./figures/A2_Pcav_Lcool_Hist_TNG_grey_other_cavz_02_logbin_stats.png\n",
      "    + _build/html/tmp_2503.01965/./figures/A2_Area_Distance_log_binned_final.png\n",
      "    + _build/html/\n",
      "    + _build/html/\n",
      "found figures ['tmp_2503.01969/./figures/Halo_0.png', 'tmp_2503.01969/./figures/SMBHfdbck/SMBH_1to3_new.png', 'tmp_2503.01969/./figures/SMBHfdbck/SMBH_6p5to9p5_new.png']\n",
      "copying  tmp_2503.01969/./figures/Halo_0.png to _build/html/\n",
      "copying  tmp_2503.01969/./figures/SMBHfdbck/SMBH_1to3_new.png to _build/html/\n",
      "copying  tmp_2503.01969/./figures/SMBHfdbck/SMBH_6p5to9p5_new.png to _build/html/\n",
      "exported in  _build/html/2503.01969.md\n",
      "    + _build/html/tmp_2503.01969/./figures/Halo_0.png\n",
      "    + _build/html/tmp_2503.01969/./figures/SMBHfdbck/SMBH_1to3_new.png\n",
      "    + _build/html/tmp_2503.01969/./figures/SMBHfdbck/SMBH_6p5to9p5_new.png\n",
      "found figures ['tmp_2503.01990/./figure/outflow_literature_all_scaling_with_vavg.png', 'tmp_2503.01990/./figure/paper_sfh_postsb.png', 'tmp_2503.01990/./figure/paper_psb_combined_spectra_fig1.png']\n",
      "copying  tmp_2503.01990/./figure/outflow_literature_all_scaling_with_vavg.png to _build/html/\n",
      "copying  tmp_2503.01990/./figure/paper_sfh_postsb.png to _build/html/\n",
      "copying  tmp_2503.01990/./figure/paper_psb_combined_spectra_fig1.png to _build/html/\n",
      "exported in  _build/html/2503.01990.md\n",
      "    + _build/html/tmp_2503.01990/./figure/outflow_literature_all_scaling_with_vavg.png\n",
      "    + _build/html/tmp_2503.01990/./figure/paper_sfh_postsb.png\n",
      "    + _build/html/tmp_2503.01990/./figure/paper_psb_combined_spectra_fig1.png\n"
     ]
    }
   ],
   "source": [
    "for paper_id, md in documents:\n",
    "    export_markdown_summary(md, f\"{paper_id:s}.md\", '_build/html/')"
   ]
  },
  {
   "cell_type": "markdown",
   "id": "f087a0a7",
   "metadata": {
    "papermill": {
     "duration": 0.006321,
     "end_time": "2025-03-05T04:15:41.589083",
     "exception": false,
     "start_time": "2025-03-05T04:15:41.582762",
     "status": "completed"
    },
    "tags": []
   },
   "source": [
    "## Display the papers\n",
    "\n",
    "Not necessary but allows for a quick check."
   ]
  },
  {
   "cell_type": "code",
   "execution_count": 9,
   "id": "fd25f625",
   "metadata": {
    "execution": {
     "iopub.execute_input": "2025-03-05T04:15:41.602976Z",
     "iopub.status.busy": "2025-03-05T04:15:41.602453Z",
     "iopub.status.idle": "2025-03-05T04:15:41.612852Z",
     "shell.execute_reply": "2025-03-05T04:15:41.612192Z"
    },
    "papermill": {
     "duration": 0.018502,
     "end_time": "2025-03-05T04:15:41.613936",
     "exception": false,
     "start_time": "2025-03-05T04:15:41.595434",
     "status": "completed"
    },
    "scrolled": false,
    "tags": []
   },
   "outputs": [
    {
     "data": {
      "text/markdown": [
       "<div class=\"macros\" style=\"visibility:hidden;\">\n",
       "$\\newcommand{\\ensuremath}{}$\n",
       "$\\newcommand{\\xspace}{}$\n",
       "$\\newcommand{\\object}[1]{\\texttt{#1}}$\n",
       "$\\newcommand{\\farcs}{{.}''}$\n",
       "$\\newcommand{\\farcm}{{.}'}$\n",
       "$\\newcommand{\\arcsec}{''}$\n",
       "$\\newcommand{\\arcmin}{'}$\n",
       "$\\newcommand{\\ion}[2]{#1#2}$\n",
       "$\\newcommand{\\textsc}[1]{\\textrm{#1}}$\n",
       "$\\newcommand{\\hl}[1]{\\textrm{#1}}$\n",
       "$\\newcommand{\\footnote}[1]{}$\n",
       "$\\newcommand{\\vdag}{(v)^\\dagger}$\n",
       "$\\newcommand$\n",
       "$\\newcommand$\n",
       "$\\newcommand{\\mstar}{M_\\star}$\n",
       "$\\newcommand{\\msun}{M_\\odot}$\n",
       "$\\newcommand{\\hb}{H\\beta}$\n",
       "$\\newcommand{\\ha}{H\\alpha}$\n",
       "$\\newcommand{\\lya}{Ly\\alpha}$\n",
       "$\\newcommand{\\oiii}{[O {\\footnotesize III}]}$\n",
       "$\\newcommand{\\oii}{[O {\\footnotesize II}]}$\n",
       "$\\newcommand{\\nii}{[N {\\footnotesize II}]}$\n",
       "$\\newcommand{\\sii}{[S {\\footnotesize II}]}$\n",
       "$\\newcommand{\\kms}{km s^{-1}}$\n",
       "$\\newcommand{\\myr}{M_{\\odot} yr^{-1}}$\n",
       "$\\newcommand{\\hii}{H {\\footnotesize II}}$\n",
       "$\\newcommand$\n",
       "$\\newcommand$</div>\n",
       "\n",
       "\n",
       "\n",
       "<div id=\"title\">\n",
       "\n",
       "# A merging pair of massive quiescent galaxies at $z=3.44$ in the Cosmic Vine\n",
       "\n",
       "</div>\n",
       "<div id=\"comments\">\n",
       "\n",
       "[![arXiv](https://img.shields.io/badge/arXiv-2503.01953-b31b1b.svg)](https://arxiv.org/abs/2503.01953)<mark>Appeared on: 2025-03-05</mark> -  _8 pages, 5 figures, 1 table + Appendix. Accepted for publication in A&A on Feb 28, 2025. Spectra and photometry used in this paper are available at this https URL , See Valentino et al. (2025) on arXiv today for another result from the JWST \"DeepDive\" program_\n",
       "\n",
       "</div>\n",
       "<div id=\"authors\">\n",
       "\n",
       "K. Ito, et al. -- incl., <mark>A. d. Graaff</mark>, <mark>L. Xie</mark>\n",
       "\n",
       "</div>\n",
       "<div id=\"abstract\">\n",
       "\n",
       "**Abstract:** We report the spectroscopic confirmation of a merging pair of massive quiescent galaxies at $z=3.44$ . Using $* JWST*$ observations, we confirm that the two galaxies lie at a projected separation of 4.5 kpc with a velocity offset of $\\sim 680$ $\\kms$ ( $\\delta_z \\sim 0.01$ ). The pair resides in the core of a known rich overdensity of galaxies, dubbed the \"Cosmic Vine\". For both pair members, modeling of the Spectral Energy Distributions and faint rest-frame optical emission lines indicate high stellar masses ( $\\log{(M_\\star/M_\\odot)}\\sim10.9$ ) and suppressed star formation ( $\\log{\\rm (sSFR/yr^{-1})}<-10$ ), more than an order of magnitude below the level of the star formation main sequence at this redshift. We then explore the Illustris-TNG simulation and the GAEA and SHARK semi-analytical models to examine whether they produce a pair of massive quiescent galaxies akin to that of the Cosmic Vine. While all models produce close pairs of massive quiescent galaxies at $2<z<4$ with comparable separations and velocity offsets, their predicted number densities are 10–80 times lower than our observational constraint. This discrepancy cannot be fully explained by coarse time sampling in these models or the general challenge of forming early massive quiescent galaxies in simulations. Given that $>90$ \\% of simulated pairs in the models that we analyzed merge by $z=0$ , our findings suggest that our observed pair will likely coalesce into a single massive galaxy. The merger, occurring in the dense core of a large-scale structure, might represent a critical event in the formation of a brightest cluster galaxy and the morphological transformation of high-redshift disky quiescent galaxies into early-type ellipticals.\n",
       "\n",
       "</div>\n",
       "\n",
       "<div id=\"div_fig1\">\n",
       "\n",
       "<img src=\"tmp_2503.01953/./spectrum_summary.png\" alt=\"Fig4\" width=\"100%\"/>\n",
       "\n",
       "**Figure 4. -** Summary of spectra of two quiescent galaxies in the Cosmic Vine. The first two rows represent the spectrum of the 61168, and the latter two represent the 61167. For each galaxy, the upper panel shows the observed NIRSpec medium-resolution spectrum (black line), photometry (blue squares), and the best fit in SED fitting (red line). The gray hatch indicates the wavelength masked in the SED fitting. The bottom left panel shows the continuum-subtracted spectrum around the $\\hb$ emission line. In addition to the observed spectrum (black) and best-fit spectrum (red), the narrow and broad components of the best-fit are shown in blue and green lines, respectively. The bottom right panel shows that around the $\\ha$ emission line. The meanings of the lines are identical to those of the bottom left panel. The difference between the observed spectrum and the best-fit model is shown at the bottom of each panel. (*fig:linefit*)\n",
       "\n",
       "</div>\n",
       "<div id=\"div_fig2\">\n",
       "\n",
       "<img src=\"tmp_2503.01953/./Numberdensity_QGpair.png\" alt=\"Fig3\" width=\"100%\"/>\n",
       "\n",
       "**Figure 3. -** The number density of pairs of quiescent galaxies at each snapshot. Blue circles, green triangles, and yellow inverse triangles correspond to those of the TNG-300, SHARK, and GAEA, respectively. Their error bar is determined based on the Poisson noise. The red star shows the observationally estimated number density from the CEERS survey volume. Its error bar along the x-axis is $\\pm 0.5  {\\rm Gyr}$, which is the time used in deriving the number density.  (*fig:rho_QGpair*)\n",
       "\n",
       "</div>\n",
       "<div id=\"div_fig3\">\n",
       "\n",
       "<img src=\"tmp_2503.01953/./QGpair_image.png\" alt=\"Fig1\" width=\"100%\"/>\n",
       "\n",
       "**Figure 1. -** JWST/NIRCam color image of the pair of quiescent galaxies reported in this paper. F115W+F150W, F200W+F277W, and F356W+F444W images from the CEERS survey are used for blue, green, and red, respectively. This image is generated with  {\\sc Trilogy}\\protect$\\footnote$mark. The point spread function of the blue and green images is matched to that of the F444W image. The white rectangles correspond to the open MSA shutter position. (*fig:image*)\n",
       "\n",
       "</div><div id=\"qrcode\"><img src=https://api.qrserver.com/v1/create-qr-code/?size=100x100&data=\"https://arxiv.org/abs/2503.01953\"></div>"
      ],
      "text/plain": [
       "<IPython.core.display.Markdown object>"
      ]
     },
     "metadata": {},
     "output_type": "display_data"
    },
    {
     "data": {
      "text/markdown": [
       "<div class=\"macros\" style=\"visibility:hidden;\">\n",
       "$\\newcommand{\\ensuremath}{}$\n",
       "$\\newcommand{\\xspace}{}$\n",
       "$\\newcommand{\\object}[1]{\\texttt{#1}}$\n",
       "$\\newcommand{\\farcs}{{.}''}$\n",
       "$\\newcommand{\\farcm}{{.}'}$\n",
       "$\\newcommand{\\arcsec}{''}$\n",
       "$\\newcommand{\\arcmin}{'}$\n",
       "$\\newcommand{\\ion}[2]{#1#2}$\n",
       "$\\newcommand{\\textsc}[1]{\\textrm{#1}}$\n",
       "$\\newcommand{\\hl}[1]{\\textrm{#1}}$\n",
       "$\\newcommand{\\footnote}[1]{}$\n",
       "$\\newcommand{\\LambdaCDM}{\\Lambda\\rm CDM}$\n",
       "$\\newcommand{\\metalline}[2]{#1 \\textsc{#2}}$\n",
       "$\\newcommand{\\nth}[1]{#1\\textsuperscript{th}}$\n",
       "$\\newcommand{\\milan}[1]{\\textcolor{purple}{[Milan] #1}}$\n",
       "$\\newcommand{\\reza}[1]{\\color{magenta}#1\\color{black}}$\n",
       "$\\newcommand{\\rezac}[1]{\\color{magenta}\\textit{[#1]}\\color{black}}$\n",
       "$\\newcommand{\\rezas}[1]{\\color{magenta}\\sout{#1} \\color{black}}$\n",
       "$\\newcommand{\\er}[1]{{\\color{teal}#1}}$</div>\n",
       "\n",
       "\n",
       "\n",
       "<div id=\"title\">\n",
       "\n",
       "# The abundance and origin of cool gas in galaxy clusters \\\\in the TNG-Cluster simulation\n",
       "\n",
       "</div>\n",
       "<div id=\"comments\">\n",
       "\n",
       "[![arXiv](https://img.shields.io/badge/arXiv-2503.01960-b31b1b.svg)](https://arxiv.org/abs/2503.01960)<mark>Appeared on: 2025-03-05</mark> -  _The TNG-Cluster simulation is now fully publicly released at this https URL (see also science results today from Prunier+, Chatzigiannakis+, and Lehle+ today)_\n",
       "\n",
       "</div>\n",
       "<div id=\"authors\">\n",
       "\n",
       "M. Staffehl, et al. -- incl., <mark>E. Rohr</mark>, <mark>A. Pillepich</mark>\n",
       "\n",
       "</div>\n",
       "<div id=\"abstract\">\n",
       "\n",
       "**Abstract:** In addition to the hot intracluster medium, massive galaxy clusters host complex, multi-phase gaseous halos. In this work, we quantify the abundance, spatial distribution, and origin of the cool ( $T\\leq10^{4.5} \\rm{K}$ ) gas within clusters. To do so, we combine the TNG-Cluster and TNG300 cosmological magnetohydrodynamical simulations, yielding a sample of 632 simulated galaxy clusters at $z=0$ with masses $M_{200c} \\sim 10^{14-15.4} \\rm{M_\\odot}$ . We find that cool gas is present in every cluster at $z=0$ , although it constitutes only a small fraction of the total gas mass within twice the virial radius, ranging from $\\sim 10^{-4}$ to a few per cent. The majority of cool gas resides in the cluster outskirts in infalling satellites and other halos. More rarely, cool gas can also be present in the central regions of clusters. More massive halos contain larger amounts (but not fractions) of cool gas ( $\\sim 10^{10-12} \\rm{M_\\odot}$ ), and we identify correlations between cluster cool gas fraction and several global halo and galaxy properties at fixed halo mass. Using Monte-Carlo Lagrangian tracer particles, we then track the origin of cool gas in present-day clusters. We find that the primary source is recent accretion at $z \\lesssim 0.1$ , predominantly in the form of pre-cooled gas carried by infalling satellite galaxies and other halos. However, in-situ cooling of the hot intracluster medium gas accreted at earlier epochs also contributes, especially in present-day cool-core clusters.\n",
       "\n",
       "</div>\n",
       "\n",
       "<div id=\"div_fig1\">\n",
       "\n",
       "<img src=\"tmp_2503.01960/./img/tracer_history_final_plots_tracer_fraction_TNG_Cluster_within_2Rvir.png\" alt=\"Fig10.1\" width=\"25%\"/><img src=\"tmp_2503.01960/./img/tracer_history_crossing_times_TNG_Cluster_distribution_unweighted.png\" alt=\"Fig10.2\" width=\"25%\"/><img src=\"tmp_2503.01960/./img/tracer_history_crossing_times_TNG_Cluster_mean_vs_mass.png\" alt=\"Fig10.3\" width=\"25%\"/><img src=\"tmp_2503.01960/./img/tracer_history_time_development_distance_TNG_Cluster_2dhist_mean.png\" alt=\"Fig10.4\" width=\"25%\"/>\n",
       "\n",
       "**Figure 10. -** Evolution of the spatial distribution of tracers that contribute to $z=0$ cool gas in clusters, from TNG-Cluster. In practice, here we follow those tracers that at $z=0$ are associated with gas cells of temperatures below $10^{4.5} \\rm K$ and within $2R_{200c}$ of their host cluster. Top left: Fraction of selected tracers within $2R_{200c}$ as a function of redshift. The virial radius $R_{200c}$ develops with redshift and is that of the cluster progenitor which eventually hosts the cool gas at redshift $z = 0$. Top right: Mean distribution of crossing redshifts, defined as the first (green) or last (purple) redshift at which the distance from a tracer to the progenitor of its $z = 0$ host cluster decreases below $2R_{200c}$. The solid (dashed) vertical line shows the mean (median) crossing redshift. Bottom left: Mean $2R_{200c}$ crossing redshift of every cluster in TNG-Cluster versus the $z = 0$ mass of the cluster. The individual points are colored by the cluster cool gas mass fraction at $z = 0$, while the black dashed line shows the median trend. Bottom right: Marginalized distribution of distances of tracers as a function of redshift. Color indicates the bin-wise mean tracer mass, per bin per cluster. The dashed white line shows the mean virial radius of the cluster sample, and the two dashed white lines show the minimum and maximum virial radius of the sample in each redshift bin. Clusters gather most of the gas that eventually forms redshift $z=0$ cool gas around $z \\sim 0.1$. (*fig:results:tracers_dist*)\n",
       "\n",
       "</div>\n",
       "<div id=\"div_fig2\">\n",
       "\n",
       "<img src=\"tmp_2503.01960/./img/tracer_history_time_development_temperature_TNG_Cluster_mean.png\" alt=\"Fig12.1\" width=\"50%\"/><img src=\"tmp_2503.01960/./img/tracer_history_time_development_temperature_TNG_Cluster_2dhist_mean.png\" alt=\"Fig12.2\" width=\"50%\"/>\n",
       "\n",
       "**Figure 12. -** Evolution of the temperature of tracers that contribute to $z=0$ cool gas in clusters, from TNG-Cluster. Left panel: mean temperature of gas cells associated with the cool gas tracers in each cluster as a function of redshift. Each halo of TNG-Cluster is shown as a single line, with color denoting the $z=0$ cluster mass $M_{200c}$. The black solid (dashed) line shows the mean (median) over the entire cluster sample. Right panel: distribution of temperature for gas cells associated with the selected tracers with redshift, showing the bin-wise mean over the individual distributions of all clusters. The faint dashed white line shows the mean virial temperature of the cluster sample, and the two faint dashed white lines show the minimum and maximum virial radius of the sample in each redshift bin. The two straight dashed white lines show the division between the temperature regimes at $10^{4.5}$(below which we talk of cool gas) and $10^{5.5} \\rm K$(above which we talk of hot gas), respectively. The predecessor gas to redshift $z=0$ cool gas on average spends most of the time since $z = 8$ at temperatures $> 10^5  \\rm K$, but below the virial temperature of the host cluster, and cooled only recently. (*fig:results:temperature_evo*)\n",
       "\n",
       "</div>\n",
       "<div id=\"div_fig3\">\n",
       "\n",
       "<img src=\"tmp_2503.01960/./img/mass_trends_standard_median_TNG300_1.png\" alt=\"Fig1\" width=\"100%\"/>\n",
       "\n",
       "**Figure 1. -** The fraction of each gas phase relative to the total gas mass (left) and the absolute gas mass for each phase (right) as functions of halo mass (x-axis) across all halos and clusters of TNG300 at $z=0$ . We divide gas into cool (first row, blue), warm (second row, purple), and hot (third row, red) components. The color indicates the number of halos per pixel. The black markers are the median in both gas fraction/gas mass and halo mass for mass bins of width 1 dex from $10^8$ to $10^{15}  \\rm M_\\odot$. The error bars denote the $\\nth${16} and $\\nth${84} percentile along both axes. More massive clusters host larger amounts of cool gas within their FoF halos, even though fractionally the contribution of cool and warm gas to clusters decreases with total mass. (*fig:results:mass_trends_tng300*)\n",
       "\n",
       "</div><div id=\"qrcode\"><img src=https://api.qrserver.com/v1/create-qr-code/?size=100x100&data=\"https://arxiv.org/abs/2503.01960\"></div>"
      ],
      "text/plain": [
       "<IPython.core.display.Markdown object>"
      ]
     },
     "metadata": {},
     "output_type": "display_data"
    },
    {
     "data": {
      "text/markdown": [
       "<div class=\"macros\" style=\"visibility:hidden;\">\n",
       "$\\newcommand{\\ensuremath}{}$\n",
       "$\\newcommand{\\xspace}{}$\n",
       "$\\newcommand{\\object}[1]{\\texttt{#1}}$\n",
       "$\\newcommand{\\farcs}{{.}''}$\n",
       "$\\newcommand{\\farcm}{{.}'}$\n",
       "$\\newcommand{\\arcsec}{''}$\n",
       "$\\newcommand{\\arcmin}{'}$\n",
       "$\\newcommand{\\ion}[2]{#1#2}$\n",
       "$\\newcommand{\\textsc}[1]{\\textrm{#1}}$\n",
       "$\\newcommand{\\hl}[1]{\\textrm{#1}}$\n",
       "$\\newcommand{\\footnote}[1]{}$\n",
       "$\\newcommand{\\msun}{ M_{\\odot}}$\n",
       "$\\newcommand{\\kpc}{{\\rm kpc}}$\n",
       "$\\newcommand{\\arraystretch}{1.2}$</div>\n",
       "\n",
       "\n",
       "\n",
       "<div id=\"title\">\n",
       "\n",
       "# X-ray cavities in TNG-Cluster: a direct comparison to observations\n",
       "\n",
       "</div>\n",
       "<div id=\"comments\">\n",
       "\n",
       "[![arXiv](https://img.shields.io/badge/arXiv-2503.01965-b31b1b.svg)](https://arxiv.org/abs/2503.01965)<mark>Appeared on: 2025-03-05</mark> -  _Submitted to MNRAS. The data of the TNG-Cluster simulation is now fully public and accessible at this https URL. See also science results by Chatzigiannakis+, Lehle+ and Staffehl+ on astro-ph today_\n",
       "\n",
       "</div>\n",
       "<div id=\"authors\">\n",
       "\n",
       "<mark>M. Prunier</mark>, <mark>A. Pillepich</mark>, J. Hlavacek-Larrondo, D. Nelson\n",
       "\n",
       "</div>\n",
       "<div id=\"abstract\">\n",
       "\n",
       "**Abstract:** The TNG-Cluster magnetohydrodynamic cosmological simulations, produce a diverse population of X-ray cavities in the intracluster medium (ICM) of simulated galaxy clusters. These arise from episodic, high velocity, kinetic energy injections from the central active supermassive black hole (AGN, SMBH). Here, we present the first comprehensive comparative analysis of X-ray cavities in TNG-Cluster with observational data. First, we select a volume-limited sample of 35 real clusters ( $z \\leq 0.071$ , M $_\\text{500c}$ = 10 $^{14-14.8}$ M $_\\odot$ ) observed with the Chandra X-ray Observatory, identify 3 analogs for each in TNG-Cluster (total of 105) and generate mock Chandra images using same exposure times as their observed counterparts. We identify X-ray cavities and measure their properties in both datasets using identical techniques, ensuring a direct, apples-to-apples comparison. Our analysis reveals that both samples have a similar fraction of X-ray cavities (35-43 per cent). They exhibit comparable sizes and morphologies, although the sizes of simulated X-ray cavities still attached to the SMBH are somewhat larger in TNG-Cluster -- a scarcity at $< 10$ kpc. The area of TNG X-ray cavities increases as they rise in the ICM, consistent with the trend seen in the observational sample. The cavity powers, estimated using observational techniques, show good agreement between the two samples (10 $^{42-45}$ erg s $^{-1}$ ), suggesting that X-ray cavities in the simulation are an important heating mechanism in cluster cores. Overall, the rather simple AGN feedback model of TNG, with no model choices made to reproduce X-ray morphological features, and without cosmic rays, creates a quantitatively realistic population of X-ray cavities at cluster scales.\n",
       "\n",
       "</div>\n",
       "\n",
       "<div id=\"div_fig1\">\n",
       "\n",
       "<img src=\"tmp_2503.01965/./figures/A2_Pcav_Lcool_Hist_TNG_grey_other_cavz_02_logbin_stats.png\" alt=\"Fig13\" width=\"100%\"/>\n",
       "\n",
       "**Figure 13. -** X-ray cavity power (P$_\\text{cav}$) vs. cooling luminosity (L$_\\text{cool}$) for clusters with identified X-ray cavities in the TNG-Cluster sample (blue) and our observational sample (grey). Each point represents the power inferred for a single X-ray cavity; pairs are not summed up. The pink, black, and blue dashed lines represent equality between cooling and heating, assuming energy inputs of p$_\\text{th}$V, 4p$_\\text{th}$V, and 16p$_\\text{th}$V per X-ray cavity, respectively.\n",
       "    The side histograms display the distribution of P$_\\text{cav}$ and L$_\\text{cool}$, with 50th (dashed lines) and 16th-84th percentiles quoted in the legend. The light-grey triangles show the total X-ray cavity power in clusters of other observational studies with $z<0.2$ ([Rafferty, et. al 2006](https://ui.adsabs.harvard.edu/abs/2006ApJ...652..216R), [Dursi and Pfrommer 2008](https://ui.adsabs.harvard.edu/abs/2008ApJ...677..993D), [Hlavacek-Larrondo, et. al 2012](https://ui.adsabs.harvard.edu/abs/2012MNRAS.421.1360H), [Pandge, et. al 2013](https://ui.adsabs.harvard.edu/abs/2013Ap&SS.345..183P), [Sonkamble, et. al 2015](https://ui.adsabs.harvard.edu/abs/2015Ap&SS.359...61S), [Vagshette, et. al 2017](https://ui.adsabs.harvard.edu/abs/2017MNRAS.466.2054V), [Kadam, et. al 2019](https://ui.adsabs.harvard.edu/abs/2019MNRAS.484.4113K), [Pandge, et. al 2019](https://ui.adsabs.harvard.edu/abs/2019ApJ...870...62P), [Vagshette, Naik and Patil 2019](https://ui.adsabs.harvard.edu/abs/2019MNRAS.485.1981V), [ and Liu 2020](https://ui.adsabs.harvard.edu/abs/2020MNRAS.492.3156L), [ and Prasow-Émond 2020](https://ui.adsabs.harvard.edu/abs/2020AJ....160..103P), [Kyadampure, Vagshette and Patil 2021](https://ui.adsabs.harvard.edu/abs/2021SerAJ.202...17K)) . The inset histogram shows the enthalpy distribution of the two X-ray cavity populations. In both samples, the power and enthalpy of X-ray cavities, and the cooling luminosity distributions are generally consistent (similar median and width). Importantly, TNG-Cluster and observed X-ray cavities exhibit well-consistent scaling relations, in terms of slope, normalization, and scatter. (*fig:Pcav_Lcool*)\n",
       "\n",
       "</div>\n",
       "<div id=\"div_fig2\">\n",
       "\n",
       "<img src=\"tmp_2503.01965/./figures/A2_Area_Distance_log_binned_final.png\" alt=\"Fig12\" width=\"100%\"/>\n",
       "\n",
       "**Figure 12. -** Comparison of X-ray cavity areas and distances from the central SMBH in the observed Prunier+2025 and TNG-Cluster matched samples. _ Main left panel:_ X-ray cavity areas vs. distance from the central SMBH (projected on the plane of the sky), with the Pearson coefficient quantifying the area-distance correlation for each sample. Blue and grey lines represent the best logarithmic fits. Red squared points denote the _attached_ X-ray cavities - i.e. for which size is equivalent to their distance from the central SMBH - in contrast to detached ones that are rising in the ICM. Histograms in the subpanels show the distribution of distances and areas, with 50th (dashed lines) and 16th-84th percentiles.\n",
       "  _Right panels_, top and bottom histograms: distribution of X-ray cavity areas for attached and detached cavities, with 50th (dashed lines) and 16th-84th percentiles quoted in the legend.\n",
       "  Both the observed and TNG-Cluster X-ray cavities show similar slopes and scatter in the area-distance relation, where X-ray cavities expand as they rise buoyantly from the central SMBH. We find a lack of small ($\\lesssim$ 100 kpc$^2$) _ attached_ X-ray cavities in the TNG-Cluster sample compared to the observed one. (*fig:area_distance*)\n",
       "\n",
       "</div>\n",
       "<div id=\"div_fig3\">\n",
       "\n",
       "<img src=\"\" alt=\"Fig9.1\" width=\"50%\"/><img src=\"\" alt=\"Fig9.2\" width=\"50%\"/>\n",
       "\n",
       "**Figure 9. -** Demographics of clusters with and without identified X-ray cavities in the observational and TNG-Cluster samples. _Left:_ per centage of clusters with identified X-ray cavities, with colored bars for TNG-Cluster and grey for the observational sample. _Right:_ Distribution of clusters with one, two, three, or more X-ray cavities, with black-edged (grey-edged) slices for TNG-Cluster (for observations). Both samples have a comparable detection rate. Clusters from the observational sample show a majority of pairs, while TNG-Cluster systems most often host a single X-ray cavity. (*fig:demographics*)\n",
       "\n",
       "</div><div id=\"qrcode\"><img src=https://api.qrserver.com/v1/create-qr-code/?size=100x100&data=\"https://arxiv.org/abs/2503.01965\"></div>"
      ],
      "text/plain": [
       "<IPython.core.display.Markdown object>"
      ]
     },
     "metadata": {},
     "output_type": "display_data"
    },
    {
     "data": {
      "text/markdown": [
       "<div class=\"macros\" style=\"visibility:hidden;\">\n",
       "$\\newcommand{\\ensuremath}{}$\n",
       "$\\newcommand{\\xspace}{}$\n",
       "$\\newcommand{\\object}[1]{\\texttt{#1}}$\n",
       "$\\newcommand{\\farcs}{{.}''}$\n",
       "$\\newcommand{\\farcm}{{.}'}$\n",
       "$\\newcommand{\\arcsec}{''}$\n",
       "$\\newcommand{\\arcmin}{'}$\n",
       "$\\newcommand{\\ion}[2]{#1#2}$\n",
       "$\\newcommand{\\textsc}[1]{\\textrm{#1}}$\n",
       "$\\newcommand{\\hl}[1]{\\textrm{#1}}$\n",
       "$\\newcommand{\\footnote}[1]{}$\n",
       "$\\newcommand{\\mvir}{{\\rm M}_{\\rm 500c}}$\n",
       "$\\newcommand{\\rvir}{r_{\\rm 500c}}$\n",
       "$\\newcommand{\\mtc}{{\\rm M}_{\\rm 200c}}$\n",
       "$\\newcommand{\\rtc}{r_{\\rm 200c}}$\n",
       "$\\newcommand{\\msun}{\\rm{M}_\\odot}$\n",
       "$\\newcommand{\\arraystretch}{1.3}$</div>\n",
       "\n",
       "\n",
       "\n",
       "<div id=\"title\">\n",
       "\n",
       "# What Drives Cluster Cool-Core Transformations?\\\\A Population Level Analysis of TNG-Cluster\n",
       "\n",
       "</div>\n",
       "<div id=\"comments\">\n",
       "\n",
       "[![arXiv](https://img.shields.io/badge/arXiv-2503.01969-b31b1b.svg)](https://arxiv.org/abs/2503.01969)<mark>Appeared on: 2025-03-05</mark> -  _The data of the TNG-Cluster simulation is now fully public and accessible at this https URL. See also science results by Chatzigiannakis+, Prunier+ and Staffehl+ on astro-ph today. Submitted to A&A_\n",
       "\n",
       "</div>\n",
       "<div id=\"authors\">\n",
       "\n",
       "K. Lehle, D. Nelson, <mark>A. Pillepich</mark>\n",
       "\n",
       "</div>\n",
       "<div id=\"abstract\">\n",
       "\n",
       "**Abstract:** In this study, we examine the frequency and physical drivers of transformations from cool-core (CC) into non-cool-core (NCC) clusters, and vice versa, in a sample of 352 massive galaxy clusters ( $\\mvir = 10^{14-15.3} \\msun$ ) from the TNG-Cluster magnetohydrodynamical cosmological simulation of galaxies. By identifying transformations based on the evolution of central entropy and focusing on $z\\lesssim2.5$ , we find that clusters frequently undergo such events, depending on their diverse assembly and supermassive black hole (SMBH) histories. On average, clusters experience two to three transformations. Transformations can occur in both directions and can be temporary, but those to higher entropy cores, i.e. in the qualitative direction from CC to NCC states, are the overwhelming majority. CC phases are also shorter than NCC phases, and thus overall the TNG-Cluster population forms with low-entropy cores and moves towards NCC states as cosmic time progresses. We study the role that mergers play in driving transformations, and find that mergers within $\\sim 1$ Gyr prior to a transformation towards higher (but not lower) entropy cores occur statistically more often than in a random control sample. Most importantly, we find examples of mergers associated with cool-cores disruption regardless of their mass ratio or angular momentum. However, past merger activity is not a good predictor for $z=0$ CC status, at least based on core entropy, even though clusters undergoing more major and minor mergers eventually have the highest core entropy values at $z=0$ . We therefore consider the interplay between AGN feedback and evolving cluster core thermodynamics. We find that core transformations are accompanied by an increase in AGN activity, whereby frequent and repeated (kinetic) energy injections from the central SMBHs can produce a collective, long-term impact on central entropy, ultimately heating cluster cores. Whether such fast-paced periods of AGN activity are triggered by mergers is plausible, but not necessary.\n",
       "\n",
       "</div>\n",
       "\n",
       "<div id=\"div_fig1\">\n",
       "\n",
       "<img src=\"tmp_2503.01969/./figures/Halo_0.png\" alt=\"Fig13\" width=\"100%\"/>\n",
       "\n",
       "**Figure 13. -** Representative time evolution of the central cooling state of a massive galaxy cluster. In particular, the central entropy of the most massive $z=0$ halo in TNG-Cluster is given by the circular symbols (color indicating relaxedness, in terms of the ratio of kinetic to thermal energy within $\\rvir$). Correspondingly, the light gray line shows the smoothed time evolution of $K_0$, while the dark gray curve shows its time derivative. Local extrema of the derivative are indicated by crosses, with larger orange crosses marking significant core transformation events (see text). The blue markers indicate the timescales or duration of the two core transformations (see text for a definition). This halo undergoes a core transformation between $z \\sim 0.3-0.5$ wherein the core evolves towards a more cool-core (CC) state. In this case the transformation is temporary and lasts $\\sim 2-3$ Gyr, after which the central entropy returns to its previous level. This type of behavior is one of several archetypes (see text for discussion). The pink stars mark the start of the three most massive merger events in the history of this cluster. The size of the markers indicate the mass ratio of the merging event. We mark the formation time of the cluster with the silver vertical, dashed line. Note that throughout the paper, time evolves from right to left in all plots that depict a time evolution. (*fig:K0vsTime*)\n",
       "\n",
       "</div>\n",
       "<div id=\"div_fig2\">\n",
       "\n",
       "<img src=\"tmp_2503.01969/./figures/SMBHfdbck/SMBH_1to3_new.png\" alt=\"Fig19\" width=\"100%\"/>\n",
       "\n",
       "**Figure 19. -** Evolution of the thermodynamical cluster core properties, as well as AGN feedback activity, as a function of time of an example cluster, the most massive cluster of TNG300 for which we have high temporal cadence output. We show a single halo, followed using the high time-resolution subbox (see text). We focus on a $\\sim 2$ Gyr period of time centered on $z \\simeq 0.1$ and the last transformation, and last merger, of this cluster. From top to bottom the panels show: the mean central entropy measured within 10 kpc (purple) and the 5th (blue) and 95th (orange) percentiles; the 95th percentile of the outflow velocity within 10 kpc around the central black hole (black); the instantaneous accretion rate of the central black hole (black); the gas mass within 30 kpc split into hot ($T\\geq 10^{5.5}$ K, green), cold ($T< 10^{5.5}$ K, blue), and star forming phases (teal); the bulk outflow and inflow velocities within $0.5$\\rvir$$(red and blue, respectively) and the 5th percentile of the inflow velocity (dark blue) and the 95th percentile of the outflow velocity (dark red) also measured within $0.5$\\rvir$$. The vertical black dashed lines indicate the transformations, the light gray dash-dotted lines indicate the start and end of a transformation, and the dark gray dotted lines show the time of the closest associated merger (all lines are labeled in the first two rows). Repeated AGN feedback episodes are visible as short time-scale peaks in outflow velocity and central entropy that collectively help to transform this cluster into a NCC state. (*fig:timeseries*)\n",
       "\n",
       "</div>\n",
       "<div id=\"div_fig3\">\n",
       "\n",
       "<img src=\"tmp_2503.01969/./figures/SMBHfdbck/SMBH_6p5to9p5_new.png\" alt=\"Fig20\" width=\"100%\"/>\n",
       "\n",
       "**Figure 20. -** As in Fig. \\ref{fig:timeseries}, showing the same five quantities and tracking the same cluster from TNG300 through time but here focusing on high redshift, i.e. showing details of the first two transformations to higher core entropy. These occur at $z \\simeq 1.2$ and $z \\simeq 0.95$, and are marked with the vertical black dotted lines. The merger at $t_{\\rm lb} \\simeq 8.5$ Gyr causes strong bulk motions in the inner ICM, enhancing the episodic AGN accretion and feedback, that collectively transform and remove cool gas from the cluster core. (*fig:timeseries2*)\n",
       "\n",
       "</div><div id=\"qrcode\"><img src=https://api.qrserver.com/v1/create-qr-code/?size=100x100&data=\"https://arxiv.org/abs/2503.01969\"></div>"
      ],
      "text/plain": [
       "<IPython.core.display.Markdown object>"
      ]
     },
     "metadata": {},
     "output_type": "display_data"
    },
    {
     "data": {
      "text/markdown": [
       "<div class=\"macros\" style=\"visibility:hidden;\">\n",
       "$\\newcommand{\\ensuremath}{}$\n",
       "$\\newcommand{\\xspace}{}$\n",
       "$\\newcommand{\\object}[1]{\\texttt{#1}}$\n",
       "$\\newcommand{\\farcs}{{.}''}$\n",
       "$\\newcommand{\\farcm}{{.}'}$\n",
       "$\\newcommand{\\arcsec}{''}$\n",
       "$\\newcommand{\\arcmin}{'}$\n",
       "$\\newcommand{\\ion}[2]{#1#2}$\n",
       "$\\newcommand{\\textsc}[1]{\\textrm{#1}}$\n",
       "$\\newcommand{\\hl}[1]{\\textrm{#1}}$\n",
       "$\\newcommand{\\footnote}[1]{}$\n",
       "$\\newcommand{\\hb}{H\\beta}$\n",
       "$\\newcommand{\\ha}{H\\alpha}$\n",
       "$\\newcommand{\\lya}{Ly\\alpha}$\n",
       "$\\newcommand{\\neiii}{[Ne {\\footnotesize III}]}$\n",
       "$\\newcommand{\\oiii}{[O {\\footnotesize III}]}$\n",
       "$\\newcommand{\\oii}{[O {\\footnotesize II}]}$\n",
       "$\\newcommand{\\nii}{[N {\\footnotesize II}]}$\n",
       "$\\newcommand{\\sii}{[S {\\footnotesize II}]}$\n",
       "$\\newcommand{\\kms}{km s^{-1}}$\n",
       "$\\newcommand{\\myr}{M_{\\odot} yr^{-1}}$\n",
       "$\\newcommand{\\msun}{M_{\\odot}}$\n",
       "$\\newcommand{\\zsun}{Z_{\\odot}}$\n",
       "$\\newcommand{\\mstar}{M_{\\star}}$\n",
       "$\\newcommand{\\mgas}{M_{\\rm gas}}$\n",
       "$\\newcommand{\\mdust}{M_{\\rm dust}}$\n",
       "$\\newcommand{\\mdyn}{M_{\\rm dyn}}$\n",
       "$\\newcommand{\\kkmspc}{K~km~s^{-1}~pc^2}$\n",
       "$\\newcommand{\\jykms}{Jy~km~s^{-1}}$\n",
       "$\\newcommand{\\ci}{[C {\\footnotesize I}]}$\n",
       "$\\newcommand{\\hi}{H {\\footnotesize I}}$\n",
       "$\\newcommand{\\hii}{H {\\footnotesize II}}$\n",
       "$\\newcommand{\\co}{CO}$\n",
       "$\\newcommand{\\citwo}{[C {\\footnotesize I}](^3P_2 -  ^{3}P_1)}$\n",
       "$\\newcommand{\\coseven}{CO (7-6)}$\n",
       "$\\newcommand{\\lcitwo}{L_{\\mathrm{[C \\scriptscriptstyle{I}\\scriptstyle{]}}^3P_2 -  ^3P_1}}$\n",
       "$\\newcommand{\\lciplus}{L_{\\rm[CII]}}$\n",
       "$\\newcommand{\\lprimecitwo}{L'_{\\mathrm{[C \\scriptscriptstyle{I}\\scriptstyle{]}}^3P_2 -  ^3P_1}}$\n",
       "$\\newcommand{\\lprimecoseven}{L'_{\\rm CO(7-6)}}$\n",
       "$\\newcommand{\\lir}{L_{\\rm IR}}$\n",
       "$\\newcommand{\\lfir}{L_{\\rm FIR}}$\n",
       "$\\newcommand{\\lsun}{L_{\\odot}}$\n",
       "$\\newcommand{\\tdust}{T_{\\rm dust}}$\n",
       "$\\newcommand{\\subl}{sub-L^{\\star}}$\n",
       "$\\newcommand{\\cii}{[C {\\footnotesize II}]}$\n",
       "$\\newcommand{\\jwst}{JWST}$\n",
       "$\\newcommand{\\hst}{HST}$\n",
       "$\\newcommand{\\um}{\\mum}$\n",
       "$\\newcommand{\\cgs}{\\rm erg cm^{-2} s^{-1} Å^{-1}}$\n",
       "$\\newcommand{\\sigmastar}{\\sigma_\\star}$\n",
       "$\\newcommand{\\mgii}{Mg {\\sc ii}}$\n",
       "$\\newcommand{\\mgi}{Mg {\\sc i}}$\n",
       "$\\newcommand{\\feii}{Fe {\\sc ii}}$\n",
       "$\\newcommand{\\mout}{M_{\\rm out}}$\n",
       "$\\newcommand{\\mdotout}{\\dot{M}_{\\rm out}}$\n",
       "$\\newcommand$\n",
       "$\\newcommand$\n",
       "$\\newcommand{\\brenda}[1]{\\textcolor{orange}{[#1]}}$\n",
       "$\\newcommand{\\snhope}{NS\\_274}$\n",
       "$\\newcommand{\\rubies}{RUBIES-UDS-QG-z7}$\n",
       "$\\newcommand{\\arraystretch}{1.3}$</div>\n",
       "\n",
       "\n",
       "\n",
       "<div id=\"title\">\n",
       "\n",
       "# Gas outflows in two recently quenched galaxies at $z=4$ and $7$\n",
       "\n",
       "</div>\n",
       "<div id=\"comments\">\n",
       "\n",
       "[![arXiv](https://img.shields.io/badge/arXiv-2503.01990-b31b1b.svg)](https://arxiv.org/abs/2503.01990)<mark>Appeared on: 2025-03-05</mark> -  _13 pages, 7 figures + Appendix. Submitted to A&A on Jan 27, 2025. See Ito et al. (2025) on arXiv today for another result from the JWST \"DeepDive\" program_\n",
       "\n",
       "</div>\n",
       "<div id=\"authors\">\n",
       "\n",
       "F. Valentino, et al. -- incl., <mark>A. d. Graaff</mark>\n",
       "\n",
       "</div>\n",
       "<div id=\"abstract\">\n",
       "\n",
       "**Abstract:** Outflows are a key element in the baryon cycle of galaxies, impacting their evolution by extracting gas, momentum, energy, and then injecting them into the surrounding medium.  The properties of gas outflows provide a fundamental test for our models of how galaxies transition from a phase of active star formation to quiescence. Here we report the detection of outflowing gas signatures in two recently quenched, massive ( $M_\\star \\sim 10^{10.2} M_\\odot$ ) galaxies at $z=4.106$ ( $\\snhope$ ) and $z=7.276$ ( $\\rubies$ ) observed at rest-frame ultra-violet (UV) to near-infrared wavelengths with JWST/NIRSpec. The outflows are traced by blue-shifted magnesium (MgII) absorption lines, and in the case of the $z=4.1 $ system, also by  iron (FeII) and sodium (NaI) features. Together, these transitions broadly trace the chemically enriched neutral phase of the gaseous medium. The rest-frame optical spectra of the two sources are similar to those of local post-starburst galaxies, showing deep Balmer stellar features, relatively low $D_{\\rm n}4000$ index, and minimal ongoing star formation on 10 Myr timescales as traced by the lack of bright nebular and recombination emission lines, also suggesting the absence of a strong and radiatively efficient AGN activity. The galaxies' star formation histories are consistent with a recent and abrupt quenching of star formation, which continued at rates of $\\sim15$ $\\myr$ averaged over the last 100 Myr of their life. In the case of $\\snhope$ , dedicated millimeter observations allow us to strongly constrain also the dust obscured SFR to $<12$ $\\myr$ , unambiguously confirming its quiescence. Under simple geometrical assumptions, we derive mass loading factors $\\eta=\\dot{M}_{\\rm out}/\\mathrm{SFR_{100 Myr}}\\lesssim1$ and $\\sim50$ for the $z=4.1$ and $z=7.3$ systems, respectively, and similarly different  energy carried by the outflows ( $\\dot{E}_{\\rm out} \\lesssim5\\times10^{40}$ and $\\sim2\\times10^{42} \\mathrm{erg} \\mathrm{s}^{-1}$ ). Supernovae feedback can account for the mass and energy of the outflow in $\\snhope$ . However, the low mass loading factor and average gas velocity ( $\\sim180$ $\\kms$ , lower than the stellar velocity dispersion) suggest that the observed outflow is unlikely to be the primary reason behind the quenching of $\\snhope$ , but it might represent a relic of the star formation process winding down. Star formation-related processes seem to be also insufficient to explain the extreme mass outflow rate of $\\rubies$ , which would require an additional ejective mechanism such as an undetected AGN.  Finally, the average outflow velocities per unit stellar mass, SFR, or its surface area are consistent with those of lower-redshift post-starburst galaxies, suggesting that outflows in rapidly quenched galaxies might in substance occur similarly across cosmic time. Our findings hint at the existence of a rich tapestry of galaxy quenching pathways at high redshift, and they remark the importance of large spectroscopic samples mapping different spectral features to account for the different timescales on which different mechanisms contribute to this process.\n",
       "\n",
       "</div>\n",
       "\n",
       "<div id=\"div_fig1\">\n",
       "\n",
       "<img src=\"tmp_2503.01990/./figure/outflow_literature_all_scaling_with_vavg.png\" alt=\"Fig9\" width=\"100%\"/>\n",
       "\n",
       "**Figure 9. -** Average outflow velocity as a function of the stellar mass, $\\mathrm{SFR}_{\\rm 100Myr}$, and surface density of $\\mathrm{SFR}_{\\rm 100Myr}$(corrected by the magnification factor for $\\snhope$). Filled stars indicate the targets analyzed in this work. The colored filled circles represent the homogenized literature compilation of $\\mgii$ outflows across redshifts by $\\ci$te[][and references therein]{davis_2023}. The results form stacking of post-starburst galaxies at $z\\sim1.2$ from $\\ci$te{maltby_2019} are shown with a red pentagon.\n",
       "    The location of two $z\\sim3$ recently quenched sources in $\\ci$te{man_2021} is marked by grey squares. (*fig:literature*)\n",
       "\n",
       "</div>\n",
       "<div id=\"div_fig2\">\n",
       "\n",
       "<img src=\"tmp_2503.01990/./figure/paper_sfh_postsb.png\" alt=\"Fig2\" width=\"100%\"/>\n",
       "\n",
       "**Figure 2. -** Star formation histories of our targets. In orange and blue, we show the best-fit double power-law SFHs of $\\rubies$ and $\\snhope$ and their uncertainties, respectively. The age of the Universe is truncated at the observed redshift of $\\snhope$. The orange segment marks the observed redshift of $\\rubies$. (*fig:sfh*)\n",
       "\n",
       "</div>\n",
       "<div id=\"div_fig3\">\n",
       "\n",
       "<img src=\"tmp_2503.01990/./figure/paper_psb_combined_spectra_fig1.png\" alt=\"Fig6\" width=\"100%\"/>\n",
       "\n",
       "**Figure 6. -** Spectra, photometry, and SED modeling of $\\snhope$ at $z=4.1061\\pm0.0003$. _Top:_ Here we indicate the photometry (blue squares), JWST/NIRSpec medium resolution spectra (G140M+G235M, black line), and their uncertainties (gray line) that we jointly modeled with Bagpipes (red line) in the observed frame. The normalized residuals of the modeling are shown in the lower inset. For reference, we also show the PRISM spectrum (blue).\n",
       "    _Center:_ rest-frame UV spectrum covered by the G140M grating. _Bottom:_ rest-frame optical spectrum covered by the G235M grating. We mark in red the expected location of emission and absorption lines at the derived systemic redshift $z_{\\rm spec}=4.1061$, as labeled. The flux densities in the bottom panels have been rescaled by $(1+z)$ to conserve the energy. (*fig:sed_snhope*)\n",
       "\n",
       "</div><div id=\"qrcode\"><img src=https://api.qrserver.com/v1/create-qr-code/?size=100x100&data=\"https://arxiv.org/abs/2503.01990\"></div>"
      ],
      "text/plain": [
       "<IPython.core.display.Markdown object>"
      ]
     },
     "metadata": {},
     "output_type": "display_data"
    }
   ],
   "source": [
    "[display(Markdown(k[1])) for k in documents];"
   ]
  },
  {
   "cell_type": "markdown",
   "id": "873873a4",
   "metadata": {
    "papermill": {
     "duration": 0.007193,
     "end_time": "2025-03-05T04:15:41.628686",
     "exception": false,
     "start_time": "2025-03-05T04:15:41.621493",
     "status": "completed"
    },
    "tags": []
   },
   "source": [
    "# Create HTML index"
   ]
  },
  {
   "cell_type": "code",
   "execution_count": 10,
   "id": "cf665672",
   "metadata": {
    "execution": {
     "iopub.execute_input": "2025-03-05T04:15:41.644263Z",
     "iopub.status.busy": "2025-03-05T04:15:41.643853Z",
     "iopub.status.idle": "2025-03-05T04:15:41.653362Z",
     "shell.execute_reply": "2025-03-05T04:15:41.652703Z"
    },
    "papermill": {
     "duration": 0.01843,
     "end_time": "2025-03-05T04:15:41.654389",
     "exception": false,
     "start_time": "2025-03-05T04:15:41.635959",
     "status": "completed"
    },
    "tags": []
   },
   "outputs": [
    {
     "name": "stdout",
     "output_type": "stream",
     "text": [
      "349  publications files modified in the last 7 days.\n"
     ]
    }
   ],
   "source": [
    "from datetime import datetime, timedelta, timezone\n",
    "from glob import glob\n",
    "import os\n",
    "\n",
    "files = glob('_build/html/*.md')\n",
    "days = 7\n",
    "now = datetime.today()\n",
    "res = []\n",
    "for fk in files:\n",
    "    stat_result = os.stat(fk).st_ctime\n",
    "    modified = datetime.fromtimestamp(stat_result, tz=timezone.utc).replace(tzinfo=None)\n",
    "    delta = now.today() - modified\n",
    "    if delta <= timedelta(days=days):\n",
    "        res.append((delta.seconds, fk))\n",
    "res = [k[1] for k in reversed(sorted(res, key=lambda x:x[1]))]\n",
    "npub = len(res)\n",
    "print(len(res), f\" publications files modified in the last {days:d} days.\")\n",
    "# [ print('\\t', k) for k in res ];"
   ]
  },
  {
   "cell_type": "code",
   "execution_count": 11,
   "id": "015de740",
   "metadata": {
    "execution": {
     "iopub.execute_input": "2025-03-05T04:15:41.670507Z",
     "iopub.status.busy": "2025-03-05T04:15:41.670040Z",
     "iopub.status.idle": "2025-03-05T04:15:41.690012Z",
     "shell.execute_reply": "2025-03-05T04:15:41.689495Z"
    },
    "papermill": {
     "duration": 0.029068,
     "end_time": "2025-03-05T04:15:41.691033",
     "exception": false,
     "start_time": "2025-03-05T04:15:41.661965",
     "status": "completed"
    },
    "tags": []
   },
   "outputs": [
    {
     "name": "stdout",
     "output_type": "stream",
     "text": [
      "7  publications in the last 7 days.\n"
     ]
    }
   ],
   "source": [
    "import datetime\n",
    "from glob import glob\n",
    "\n",
    "def get_last_n_days(lst, days=1):\n",
    "    \"\"\" Get the documents from the last n days \"\"\"\n",
    "    sorted_lst = sorted(lst, key=lambda x: x[1], reverse=True)\n",
    "    for fname, date in sorted_lst:\n",
    "        if date >= str(datetime.date.today() - datetime.timedelta(days=days)):\n",
    "            yield fname\n",
    "\n",
    "def extract_appearance_dates(lst_file):\n",
    "    dates = []\n",
    "\n",
    "    def get_date(line):\n",
    "        return line\\\n",
    "            .split('Appeared on:')[-1]\\\n",
    "            .split('</mark>')[0].strip()\n",
    "\n",
    "    for fname in lst:\n",
    "        with open(fname, 'r') as f:\n",
    "            found_date = False\n",
    "            for line in f:\n",
    "                if not found_date:\n",
    "                    if \"Appeared on\" in line:\n",
    "                        found_date = True\n",
    "                        dates.append((fname, get_date(line)))\n",
    "                else:\n",
    "                    break\n",
    "    return dates\n",
    "\n",
    "from glob import glob\n",
    "lst = glob('_build/html/*md')\n",
    "days = 7\n",
    "dates = extract_appearance_dates(lst)\n",
    "res = list(get_last_n_days(dates, days))\n",
    "npub = len(res)\n",
    "print(len(res), f\" publications in the last {days:d} days.\")"
   ]
  },
  {
   "cell_type": "code",
   "execution_count": 12,
   "id": "52ca0208",
   "metadata": {
    "execution": {
     "iopub.execute_input": "2025-03-05T04:15:41.706997Z",
     "iopub.status.busy": "2025-03-05T04:15:41.706763Z",
     "iopub.status.idle": "2025-03-05T04:15:41.711655Z",
     "shell.execute_reply": "2025-03-05T04:15:41.711122Z"
    },
    "papermill": {
     "duration": 0.013951,
     "end_time": "2025-03-05T04:15:41.712678",
     "exception": false,
     "start_time": "2025-03-05T04:15:41.698727",
     "status": "completed"
    },
    "scrolled": false,
    "tags": []
   },
   "outputs": [],
   "source": [
    "def create_carousel(npub=4):\n",
    "    \"\"\" Generate the HTML code for a carousel with `npub` slides \"\"\"\n",
    "    carousel = [\"\"\"  <div class=\"carousel\" \"\"\",\n",
    "                \"\"\"       data-flickity='{ \"autoPlay\": 10000, \"adaptiveHeight\": true, \"resize\": true, \"wrapAround\": true, \"pauseAutoPlayOnHover\": true, \"groupCells\": 1 }' id=\"asyncTypeset\">\"\"\"\n",
    "                ]\n",
    "    \n",
    "    item_str = \"\"\"    <div class=\"carousel-cell\"> <div id=\"slide{k}\" class=\"md_view\">Content {k}</div> </div>\"\"\"\n",
    "    for k in range(1, npub + 1):\n",
    "        carousel.append(item_str.format(k=k))\n",
    "    carousel.append(\"  </div>\")\n",
    "    return '\\n'.join(carousel)\n",
    "\n",
    "def create_grid(npub=4):\n",
    "    \"\"\" Generate the HTML code for a flat grid with `npub` slides \"\"\"\n",
    "    grid = [\"\"\"  <div class=\"grid\"> \"\"\",\n",
    "                ]\n",
    "    \n",
    "    item_str = \"\"\"    <div class=\"grid-item\"> <div id=\"slide{k}\" class=\"md_view\">Content {k}</div> </div>\"\"\"\n",
    "    for k in range(1, npub + 1):\n",
    "        grid.append(item_str.format(k=k))\n",
    "    grid.append(\"  </div>\")\n",
    "    return '\\n'.join(grid)"
   ]
  },
  {
   "cell_type": "code",
   "execution_count": 13,
   "id": "a6eac5b6",
   "metadata": {
    "execution": {
     "iopub.execute_input": "2025-03-05T04:15:41.728610Z",
     "iopub.status.busy": "2025-03-05T04:15:41.728128Z",
     "iopub.status.idle": "2025-03-05T04:15:41.733157Z",
     "shell.execute_reply": "2025-03-05T04:15:41.732587Z"
    },
    "papermill": {
     "duration": 0.014,
     "end_time": "2025-03-05T04:15:41.734144",
     "exception": false,
     "start_time": "2025-03-05T04:15:41.720144",
     "status": "completed"
    },
    "scrolled": false,
    "tags": []
   },
   "outputs": [],
   "source": [
    "carousel = create_carousel(npub)\n",
    "docs = ', '.join(['\"{0:s}\"'.format(k.split('/')[-1]) for k in res])\n",
    "slides = ', '.join([f'\"slide{k}\"' for k in range(1, npub + 1)])\n",
    "\n",
    "with open(\"daily_template.html\", \"r\") as tpl:\n",
    "    page = tpl.read()\n",
    "    page = page.replace(\"{%-- carousel:s --%}\", carousel)\\\n",
    "               .replace(\"{%-- suptitle:s --%}\",  \"7-day archives\" )\\\n",
    "               .replace(\"{%-- docs:s --%}\", docs)\\\n",
    "               .replace(\"{%-- slides:s --%}\", slides)\n",
    "    \n",
    "with open(\"_build/html/index_7days.html\", 'w') as fout:\n",
    "    fout.write(page)"
   ]
  },
  {
   "cell_type": "code",
   "execution_count": 14,
   "id": "adc1a1ec",
   "metadata": {
    "execution": {
     "iopub.execute_input": "2025-03-05T04:15:41.750581Z",
     "iopub.status.busy": "2025-03-05T04:15:41.750053Z",
     "iopub.status.idle": "2025-03-05T04:15:41.757019Z",
     "shell.execute_reply": "2025-03-05T04:15:41.756505Z"
    },
    "papermill": {
     "duration": 0.016265,
     "end_time": "2025-03-05T04:15:41.758055",
     "exception": false,
     "start_time": "2025-03-05T04:15:41.741790",
     "status": "completed"
    },
    "tags": []
   },
   "outputs": [
    {
     "name": "stdout",
     "output_type": "stream",
     "text": [
      "6  publications in the last day.\n"
     ]
    }
   ],
   "source": [
    "# redo for today\n",
    "days = 1\n",
    "res = list(get_last_n_days(dates, days))\n",
    "npub = len(res)\n",
    "print(len(res), f\" publications in the last day.\")\n",
    "\n",
    "carousel = create_carousel(npub)\n",
    "docs = ', '.join(['\"{0:s}\"'.format(k.split('/')[-1]) for k in res])\n",
    "slides = ', '.join([f'\"slide{k}\"' for k in range(1, npub + 1)])\n",
    "\n",
    "with open(\"daily_template.html\", \"r\") as tpl:\n",
    "    page = tpl.read()\n",
    "    page = page.replace(\"{%-- carousel:s --%}\", carousel)\\\n",
    "               .replace(\"{%-- suptitle:s --%}\",  \"Daily\" )\\\n",
    "               .replace(\"{%-- docs:s --%}\", docs)\\\n",
    "               .replace(\"{%-- slides:s --%}\", slides)\n",
    "    \n",
    "# print(carousel, docs, slides)\n",
    "# print(page)\n",
    "with open(\"_build/html/index_daily.html\", 'w') as fout:\n",
    "    fout.write(page)"
   ]
  },
  {
   "cell_type": "code",
   "execution_count": 15,
   "id": "00eece82",
   "metadata": {
    "execution": {
     "iopub.execute_input": "2025-03-05T04:15:41.774109Z",
     "iopub.status.busy": "2025-03-05T04:15:41.773762Z",
     "iopub.status.idle": "2025-03-05T04:15:41.780278Z",
     "shell.execute_reply": "2025-03-05T04:15:41.779741Z"
    },
    "papermill": {
     "duration": 0.015691,
     "end_time": "2025-03-05T04:15:41.781352",
     "exception": false,
     "start_time": "2025-03-05T04:15:41.765661",
     "status": "completed"
    },
    "scrolled": false,
    "tags": []
   },
   "outputs": [
    {
     "name": "stdout",
     "output_type": "stream",
     "text": [
      "6  6 publications selected.\n"
     ]
    }
   ],
   "source": [
    "# Create the flat grid of the last N papers (fixed number regardless of dates)\n",
    "from itertools import islice \n",
    "\n",
    "npub = 6\n",
    "res = [k[0] for k in (islice(reversed(sorted(dates, key=lambda x: x[1])), 6))]\n",
    "print(len(res), f\" {npub} publications selected.\")\n",
    "\n",
    "grid = create_grid(npub)\n",
    "docs = ', '.join(['\"{0:s}\"'.format(k.split('/')[-1]) for k in res])\n",
    "slides = ', '.join([f'\"slide{k}\"' for k in range(1, npub + 1)])\n",
    "\n",
    "with open(\"grid_template.html\", \"r\") as tpl:\n",
    "    page = tpl.read()\n",
    "    page = page.replace(\"{%-- grid-content:s --%}\", grid)\\\n",
    "               .replace(\"{%-- suptitle:s --%}\",  f\"Last {npub:,d} papers\" )\\\n",
    "               .replace(\"{%-- docs:s --%}\", docs)\\\n",
    "               .replace(\"{%-- slides:s --%}\", slides)\n",
    "    \n",
    "# print(grid, docs, slides)\n",
    "# print(page)\n",
    "with open(\"_build/html/index_npub_grid.html\", 'w') as fout:\n",
    "    fout.write(page)"
   ]
  }
 ],
 "metadata": {
  "kernelspec": {
   "display_name": "Python 3 (ipykernel)",
   "language": "python",
   "name": "python3"
  },
  "language_info": {
   "codemirror_mode": {
    "name": "ipython",
    "version": 3
   },
   "file_extension": ".py",
   "mimetype": "text/x-python",
   "name": "python",
   "nbconvert_exporter": "python",
   "pygments_lexer": "ipython3",
   "version": "3.9.21"
  },
  "papermill": {
   "default_parameters": {},
   "duration": 277.057642,
   "end_time": "2025-03-05T04:15:42.105595",
   "environment_variables": {},
   "exception": null,
   "input_path": "MPIA daily digest.ipynb",
   "output_path": "log.ipynb",
   "parameters": {},
   "start_time": "2025-03-05T04:11:05.047953",
   "version": "2.6.0"
  },
  "vscode": {
   "interpreter": {
    "hash": "aee8b7b246df8f9039afb4144a1f6fd8d2ca17a180786b69acc140d282b71a49"
   }
  },
  "widgets": {
   "application/vnd.jupyter.widget-state+json": {
    "state": {
     "0377d733436e4a689c30f92f18cf3852": {
      "model_module": "@jupyter-widgets/controls",
      "model_module_version": "2.0.0",
      "model_name": "ProgressStyleModel",
      "state": {
       "_model_module": "@jupyter-widgets/controls",
       "_model_module_version": "2.0.0",
       "_model_name": "ProgressStyleModel",
       "_view_count": null,
       "_view_module": "@jupyter-widgets/base",
       "_view_module_version": "2.0.0",
       "_view_name": "StyleView",
       "bar_color": null,
       "description_width": ""
      }
     },
     "2701ae84283b4b2b948842efe9e1d9f3": {
      "model_module": "@jupyter-widgets/controls",
      "model_module_version": "2.0.0",
      "model_name": "HTMLModel",
      "state": {
       "_dom_classes": [],
       "_model_module": "@jupyter-widgets/controls",
       "_model_module_version": "2.0.0",
       "_model_name": "HTMLModel",
       "_view_count": null,
       "_view_module": "@jupyter-widgets/controls",
       "_view_module_version": "2.0.0",
       "_view_name": "HTMLView",
       "description": "",
       "description_allow_html": false,
       "layout": "IPY_MODEL_883e3286e98b4d318cc32bd727fcaff4",
       "placeholder": "​",
       "style": "IPY_MODEL_b339d415313341a6a4aa3eb09751b3a5",
       "tabbable": null,
       "tooltip": null,
       "value": " 12/12 [04:13&lt;00:00, 17.42s/it]"
      }
     },
     "2e6c5bbfe7ef46238a241d02546cee7a": {
      "model_module": "@jupyter-widgets/controls",
      "model_module_version": "2.0.0",
      "model_name": "HTMLStyleModel",
      "state": {
       "_model_module": "@jupyter-widgets/controls",
       "_model_module_version": "2.0.0",
       "_model_name": "HTMLStyleModel",
       "_view_count": null,
       "_view_module": "@jupyter-widgets/base",
       "_view_module_version": "2.0.0",
       "_view_name": "StyleView",
       "background": null,
       "description_width": "",
       "font_size": null,
       "text_color": null
      }
     },
     "2e7abc2dd35642849bd063dc77d61c7a": {
      "model_module": "@jupyter-widgets/controls",
      "model_module_version": "2.0.0",
      "model_name": "FloatProgressModel",
      "state": {
       "_dom_classes": [],
       "_model_module": "@jupyter-widgets/controls",
       "_model_module_version": "2.0.0",
       "_model_name": "FloatProgressModel",
       "_view_count": null,
       "_view_module": "@jupyter-widgets/controls",
       "_view_module_version": "2.0.0",
       "_view_name": "ProgressView",
       "bar_style": "success",
       "description": "",
       "description_allow_html": false,
       "layout": "IPY_MODEL_d400d6f978b34c8daacc6b75ec50347f",
       "max": 12.0,
       "min": 0.0,
       "orientation": "horizontal",
       "style": "IPY_MODEL_0377d733436e4a689c30f92f18cf3852",
       "tabbable": null,
       "tooltip": null,
       "value": 12.0
      }
     },
     "6979dd6e7aa94092bc1871bfad534e9b": {
      "model_module": "@jupyter-widgets/controls",
      "model_module_version": "2.0.0",
      "model_name": "HTMLModel",
      "state": {
       "_dom_classes": [],
       "_model_module": "@jupyter-widgets/controls",
       "_model_module_version": "2.0.0",
       "_model_name": "HTMLModel",
       "_view_count": null,
       "_view_module": "@jupyter-widgets/controls",
       "_view_module_version": "2.0.0",
       "_view_name": "HTMLView",
       "description": "",
       "description_allow_html": false,
       "layout": "IPY_MODEL_e7be33c3d1c445a5b6f26d5e6acd6201",
       "placeholder": "​",
       "style": "IPY_MODEL_2e6c5bbfe7ef46238a241d02546cee7a",
       "tabbable": null,
       "tooltip": null,
       "value": "100%"
      }
     },
     "883e3286e98b4d318cc32bd727fcaff4": {
      "model_module": "@jupyter-widgets/base",
      "model_module_version": "2.0.0",
      "model_name": "LayoutModel",
      "state": {
       "_model_module": "@jupyter-widgets/base",
       "_model_module_version": "2.0.0",
       "_model_name": "LayoutModel",
       "_view_count": null,
       "_view_module": "@jupyter-widgets/base",
       "_view_module_version": "2.0.0",
       "_view_name": "LayoutView",
       "align_content": null,
       "align_items": null,
       "align_self": null,
       "border_bottom": null,
       "border_left": null,
       "border_right": null,
       "border_top": null,
       "bottom": null,
       "display": null,
       "flex": null,
       "flex_flow": null,
       "grid_area": null,
       "grid_auto_columns": null,
       "grid_auto_flow": null,
       "grid_auto_rows": null,
       "grid_column": null,
       "grid_gap": null,
       "grid_row": null,
       "grid_template_areas": null,
       "grid_template_columns": null,
       "grid_template_rows": null,
       "height": null,
       "justify_content": null,
       "justify_items": null,
       "left": null,
       "margin": null,
       "max_height": null,
       "max_width": null,
       "min_height": null,
       "min_width": null,
       "object_fit": null,
       "object_position": null,
       "order": null,
       "overflow": null,
       "padding": null,
       "right": null,
       "top": null,
       "visibility": null,
       "width": null
      }
     },
     "95df7f893ad74297a826851ae0ed70f7": {
      "model_module": "@jupyter-widgets/controls",
      "model_module_version": "2.0.0",
      "model_name": "HBoxModel",
      "state": {
       "_dom_classes": [],
       "_model_module": "@jupyter-widgets/controls",
       "_model_module_version": "2.0.0",
       "_model_name": "HBoxModel",
       "_view_count": null,
       "_view_module": "@jupyter-widgets/controls",
       "_view_module_version": "2.0.0",
       "_view_name": "HBoxView",
       "box_style": "",
       "children": [
        "IPY_MODEL_6979dd6e7aa94092bc1871bfad534e9b",
        "IPY_MODEL_2e7abc2dd35642849bd063dc77d61c7a",
        "IPY_MODEL_2701ae84283b4b2b948842efe9e1d9f3"
       ],
       "layout": "IPY_MODEL_dc75a0c4d1c947af9ec43994d9b87276",
       "tabbable": null,
       "tooltip": null
      }
     },
     "b339d415313341a6a4aa3eb09751b3a5": {
      "model_module": "@jupyter-widgets/controls",
      "model_module_version": "2.0.0",
      "model_name": "HTMLStyleModel",
      "state": {
       "_model_module": "@jupyter-widgets/controls",
       "_model_module_version": "2.0.0",
       "_model_name": "HTMLStyleModel",
       "_view_count": null,
       "_view_module": "@jupyter-widgets/base",
       "_view_module_version": "2.0.0",
       "_view_name": "StyleView",
       "background": null,
       "description_width": "",
       "font_size": null,
       "text_color": null
      }
     },
     "d400d6f978b34c8daacc6b75ec50347f": {
      "model_module": "@jupyter-widgets/base",
      "model_module_version": "2.0.0",
      "model_name": "LayoutModel",
      "state": {
       "_model_module": "@jupyter-widgets/base",
       "_model_module_version": "2.0.0",
       "_model_name": "LayoutModel",
       "_view_count": null,
       "_view_module": "@jupyter-widgets/base",
       "_view_module_version": "2.0.0",
       "_view_name": "LayoutView",
       "align_content": null,
       "align_items": null,
       "align_self": null,
       "border_bottom": null,
       "border_left": null,
       "border_right": null,
       "border_top": null,
       "bottom": null,
       "display": null,
       "flex": null,
       "flex_flow": null,
       "grid_area": null,
       "grid_auto_columns": null,
       "grid_auto_flow": null,
       "grid_auto_rows": null,
       "grid_column": null,
       "grid_gap": null,
       "grid_row": null,
       "grid_template_areas": null,
       "grid_template_columns": null,
       "grid_template_rows": null,
       "height": null,
       "justify_content": null,
       "justify_items": null,
       "left": null,
       "margin": null,
       "max_height": null,
       "max_width": null,
       "min_height": null,
       "min_width": null,
       "object_fit": null,
       "object_position": null,
       "order": null,
       "overflow": null,
       "padding": null,
       "right": null,
       "top": null,
       "visibility": null,
       "width": null
      }
     },
     "dc75a0c4d1c947af9ec43994d9b87276": {
      "model_module": "@jupyter-widgets/base",
      "model_module_version": "2.0.0",
      "model_name": "LayoutModel",
      "state": {
       "_model_module": "@jupyter-widgets/base",
       "_model_module_version": "2.0.0",
       "_model_name": "LayoutModel",
       "_view_count": null,
       "_view_module": "@jupyter-widgets/base",
       "_view_module_version": "2.0.0",
       "_view_name": "LayoutView",
       "align_content": null,
       "align_items": null,
       "align_self": null,
       "border_bottom": null,
       "border_left": null,
       "border_right": null,
       "border_top": null,
       "bottom": null,
       "display": null,
       "flex": null,
       "flex_flow": null,
       "grid_area": null,
       "grid_auto_columns": null,
       "grid_auto_flow": null,
       "grid_auto_rows": null,
       "grid_column": null,
       "grid_gap": null,
       "grid_row": null,
       "grid_template_areas": null,
       "grid_template_columns": null,
       "grid_template_rows": null,
       "height": null,
       "justify_content": null,
       "justify_items": null,
       "left": null,
       "margin": null,
       "max_height": null,
       "max_width": null,
       "min_height": null,
       "min_width": null,
       "object_fit": null,
       "object_position": null,
       "order": null,
       "overflow": null,
       "padding": null,
       "right": null,
       "top": null,
       "visibility": null,
       "width": null
      }
     },
     "e7be33c3d1c445a5b6f26d5e6acd6201": {
      "model_module": "@jupyter-widgets/base",
      "model_module_version": "2.0.0",
      "model_name": "LayoutModel",
      "state": {
       "_model_module": "@jupyter-widgets/base",
       "_model_module_version": "2.0.0",
       "_model_name": "LayoutModel",
       "_view_count": null,
       "_view_module": "@jupyter-widgets/base",
       "_view_module_version": "2.0.0",
       "_view_name": "LayoutView",
       "align_content": null,
       "align_items": null,
       "align_self": null,
       "border_bottom": null,
       "border_left": null,
       "border_right": null,
       "border_top": null,
       "bottom": null,
       "display": null,
       "flex": null,
       "flex_flow": null,
       "grid_area": null,
       "grid_auto_columns": null,
       "grid_auto_flow": null,
       "grid_auto_rows": null,
       "grid_column": null,
       "grid_gap": null,
       "grid_row": null,
       "grid_template_areas": null,
       "grid_template_columns": null,
       "grid_template_rows": null,
       "height": null,
       "justify_content": null,
       "justify_items": null,
       "left": null,
       "margin": null,
       "max_height": null,
       "max_width": null,
       "min_height": null,
       "min_width": null,
       "object_fit": null,
       "object_position": null,
       "order": null,
       "overflow": null,
       "padding": null,
       "right": null,
       "top": null,
       "visibility": null,
       "width": null
      }
     }
    },
    "version_major": 2,
    "version_minor": 0
   }
  }
 },
 "nbformat": 4,
 "nbformat_minor": 5
}