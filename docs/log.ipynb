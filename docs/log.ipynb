{
 "cells": [
  {
   "cell_type": "markdown",
   "id": "92bcb855",
   "metadata": {
    "papermill": {
     "duration": 0.003851,
     "end_time": "2025-06-25T04:22:38.767423",
     "exception": false,
     "start_time": "2025-06-25T04:22:38.763572",
     "status": "completed"
    },
    "tags": []
   },
   "source": [
    "# MPIA Arxiv on Deck 2\n",
    "\n",
    "Contains the steps to produce the paper extractions."
   ]
  },
  {
   "cell_type": "code",
   "execution_count": 1,
   "id": "3a0d6e11",
   "metadata": {
    "execution": {
     "iopub.execute_input": "2025-06-25T04:22:38.775089Z",
     "iopub.status.busy": "2025-06-25T04:22:38.774459Z",
     "iopub.status.idle": "2025-06-25T04:22:39.005351Z",
     "shell.execute_reply": "2025-06-25T04:22:39.004737Z"
    },
    "papermill": {
     "duration": 0.235929,
     "end_time": "2025-06-25T04:22:39.006607",
     "exception": false,
     "start_time": "2025-06-25T04:22:38.770678",
     "status": "completed"
    },
    "tags": []
   },
   "outputs": [],
   "source": [
    "# Imports\n",
    "import os\n",
    "from IPython.display import Markdown, display\n",
    "from tqdm.notebook import tqdm\n",
    "import warnings\n",
    "from PIL import Image \n",
    "import re\n",
    "\n",
    "# requires arxiv_on_deck_2\n",
    "\n",
    "from arxiv_on_deck_2.arxiv2 import (get_new_papers, \n",
    "                                    get_paper_from_identifier,\n",
    "                                    retrieve_document_source, \n",
    "                                    get_markdown_badge)\n",
    "from arxiv_on_deck_2 import (latex,\n",
    "                             latex_bib,\n",
    "                             mpia,\n",
    "                             highlight_authors_in_list)\n",
    "\n",
    "# Sometimes images are really big\n",
    "Image.MAX_IMAGE_PIXELS = 1000000000 "
   ]
  },
  {
   "cell_type": "code",
   "execution_count": 2,
   "id": "22aa9d44",
   "metadata": {
    "execution": {
     "iopub.execute_input": "2025-06-25T04:22:39.013880Z",
     "iopub.status.busy": "2025-06-25T04:22:39.013458Z",
     "iopub.status.idle": "2025-06-25T04:22:39.021339Z",
     "shell.execute_reply": "2025-06-25T04:22:39.020825Z"
    },
    "papermill": {
     "duration": 0.012445,
     "end_time": "2025-06-25T04:22:39.022284",
     "exception": false,
     "start_time": "2025-06-25T04:22:39.009839",
     "status": "completed"
    },
    "tags": []
   },
   "outputs": [],
   "source": [
    "# Some useful definitions.\n",
    "\n",
    "class AffiliationWarning(UserWarning):\n",
    "    pass\n",
    "\n",
    "class AffiliationError(RuntimeError):\n",
    "    pass\n",
    "\n",
    "def validation(source: str):\n",
    "    \"\"\"Raises error paper during parsing of source file\n",
    "    \n",
    "    Allows checks before parsing TeX code.\n",
    "    \n",
    "    Raises AffiliationWarning\n",
    "    \"\"\"\n",
    "    check = mpia.affiliation_verifications(source, verbose=True)\n",
    "    if check is not True:\n",
    "        raise AffiliationError(\"mpia.affiliation_verifications: \" + check)\n",
    "\n",
    "        \n",
    "warnings.simplefilter('always', AffiliationWarning)\n",
    "\n",
    "\n",
    "def get_markdown_qrcode(paper_id: str):\n",
    "    \"\"\" Generate a qrcode to the arxiv page using qrserver.com\n",
    "    \n",
    "    :param paper: Arxiv paper\n",
    "    :returns: markdown text\n",
    "    \"\"\"\n",
    "    url = r\"https://api.qrserver.com/v1/create-qr-code/?size=100x100&data=\"\n",
    "    txt = f\"\"\"<img src={url}\"https://arxiv.org/abs/{paper_id}\">\"\"\"\n",
    "    txt = '<div id=\"qrcode\">' + txt + '</div>'\n",
    "    return txt\n",
    "\n",
    "\n",
    "def clean_non_western_encoded_characters_commands(text: str) -> str:\n",
    "    \"\"\" Remove non-western encoded characters from a string\n",
    "    List may need to grow.\n",
    "    \n",
    "    :param text: the text to clean\n",
    "    :return: the cleaned text\n",
    "    \"\"\"\n",
    "    text = re.sub(r\"(\\\\begin{CJK}{UTF8}{gbsn})(.*?)(\\\\end{CJK})\", r\"\\2\", text)\n",
    "    return text\n",
    "\n",
    "\n",
    "def get_initials(name: str) -> str:\n",
    "    \"\"\" Get the short name, e.g., A.-B. FamName\n",
    "    :param name: full name\n",
    "    :returns: initials\n",
    "    \"\"\"\n",
    "    initials = []\n",
    "    # account for non western names often in ()\n",
    "    if '(' in name:\n",
    "        name = clean_non_western_encoded_characters_commands(name)\n",
    "        suffix = re.findall(r\"\\((.*?)\\)\", name)[0]\n",
    "        name = name.replace(f\"({suffix})\", '')\n",
    "    else:\n",
    "        suffix = ''\n",
    "    split = name.split()\n",
    "    for token in split[:-1]:\n",
    "        if '-' in token:\n",
    "            current = '-'.join([k[0] + '.' for k in token.split('-')])\n",
    "        else:\n",
    "            current = token[0] + '.'\n",
    "        initials.append(current)\n",
    "    initials.append(split[-1].strip())\n",
    "    if suffix:\n",
    "        initials.append(f\"({suffix})\")\n",
    "    return ' '.join(initials)"
   ]
  },
  {
   "cell_type": "markdown",
   "id": "14bd6310",
   "metadata": {
    "papermill": {
     "duration": 0.002897,
     "end_time": "2025-06-25T04:22:39.028151",
     "exception": false,
     "start_time": "2025-06-25T04:22:39.025254",
     "status": "completed"
    },
    "tags": []
   },
   "source": [
    "## get list of arxiv paper candidates\n",
    "\n",
    "We use the MPIA mitarbeiter list webpage from mpia.de to get author names\n",
    "We then get all new papers from Arxiv and match authors"
   ]
  },
  {
   "cell_type": "code",
   "execution_count": 3,
   "id": "7ea813a8",
   "metadata": {
    "execution": {
     "iopub.execute_input": "2025-06-25T04:22:39.035080Z",
     "iopub.status.busy": "2025-06-25T04:22:39.034573Z",
     "iopub.status.idle": "2025-06-25T04:23:00.867315Z",
     "shell.execute_reply": "2025-06-25T04:23:00.866681Z"
    },
    "papermill": {
     "duration": 21.837471,
     "end_time": "2025-06-25T04:23:00.868523",
     "exception": false,
     "start_time": "2025-06-25T04:22:39.031052",
     "status": "completed"
    },
    "tags": []
   },
   "outputs": [],
   "source": [
    "# deal with the author list and edge cases of people that cannot be consistent on their name  \n",
    "\n",
    "def filter_non_scientists(name: str) -> bool:\n",
    "    \"\"\" Loose filter on expected authorships\n",
    "\n",
    "    removing IT, administration, technical staff\n",
    "    :param name: name\n",
    "    :returns: False if name is not a scientist\n",
    "    \"\"\"\n",
    "    remove_list = ['Licht', 'Binroth', 'Witzel', 'Jordan',\n",
    "                   'Zähringer', 'Scheerer', 'Hoffmann', 'Düe',\n",
    "                   'Hellmich', 'Enkler-Scharpegge', 'Witte-Nguy',\n",
    "                   'Dehen', 'Beckmann', 'Jager', 'Jäger'\n",
    "                  ]\n",
    "\n",
    "    for k in remove_list:\n",
    "        if k in name:\n",
    "            return False\n",
    "    return True\n",
    "\n",
    "def add_author_to_list(author_list: list) -> list:\n",
    "    \"\"\" Add author to list if not already in list\n",
    "    \n",
    "    :param author: author name\n",
    "    :param author_list: list of authors\n",
    "    :returns: updated list of authors\n",
    "    \"\"\"\n",
    "    add_list = ['T. Henning']\n",
    "\n",
    "    for author in add_list:\n",
    "        if author not in author_list:\n",
    "            author_list.append(author)\n",
    "    return author_list\n",
    "\n",
    "# get list from MPIA website\n",
    "# filter for non-scientists (mpia.get_mpia_mitarbeiter_list() does some filtering)\n",
    "mpia_authors = [k[1] for k in mpia.get_mpia_mitarbeiter_list() if filter_non_scientists(k[1])]\n",
    "# add some missing author because of inconsistencies in their MPIA name and author name on papers\n",
    "mpia_authors = add_author_to_list(mpia_authors)"
   ]
  },
  {
   "cell_type": "code",
   "execution_count": 4,
   "id": "2645e73a",
   "metadata": {
    "execution": {
     "iopub.execute_input": "2025-06-25T04:23:00.875893Z",
     "iopub.status.busy": "2025-06-25T04:23:00.875473Z",
     "iopub.status.idle": "2025-06-25T04:23:01.896559Z",
     "shell.execute_reply": "2025-06-25T04:23:01.895876Z"
    },
    "papermill": {
     "duration": 1.025723,
     "end_time": "2025-06-25T04:23:01.897596",
     "exception": false,
     "start_time": "2025-06-25T04:23:00.871873",
     "status": "completed"
    },
    "tags": []
   },
   "outputs": [
    {
     "name": "stdout",
     "output_type": "stream",
     "text": [
      "K. Jahnke  ->  K. Jahnke  |  ['K. Jahnke']\n",
      "Y. Wang  ->  Y. Wang  |  ['Y. Wang']\n"
     ]
    },
    {
     "name": "stdout",
     "output_type": "stream",
     "text": [
      "A. Frank  ->  A. Frank  |  ['A. Frank']\n",
      "K. Jahnke  ->  K. Jahnke  |  ['K. Jahnke']\n",
      "S. Kraus  ->  S. Kraus  |  ['S. Kraus']\n",
      "Arxiv has 73 new papers today\n",
      "          5 with possible author matches\n"
     ]
    }
   ],
   "source": [
    "new_papers = get_new_papers()\n",
    "# add manual references\n",
    "add_paper_refs = []\n",
    "new_papers.extend([get_paper_from_identifier(k) for k in add_paper_refs])\n",
    "\n",
    "def robust_call(fn, value, *args, **kwargs):\n",
    "    try:\n",
    "        return fn(value, *args, **kwargs)\n",
    "    except Exception:\n",
    "        return value\n",
    "\n",
    "candidates = []\n",
    "for paperk in new_papers:\n",
    "    # Check author list with their initials\n",
    "    normed_author_list = [robust_call(mpia.get_initials, k) for k in paperk['authors']]\n",
    "    hl_authors = highlight_authors_in_list(normed_author_list, mpia_authors, verbose=True)\n",
    "    matches = [(hl, orig) for hl, orig in zip(hl_authors, paperk['authors']) if 'mark' in hl]\n",
    "    paperk['authors'] = hl_authors\n",
    "    if matches:\n",
    "        # only select paper if an author matched our list\n",
    "        candidates.append(paperk)\n",
    "print(\"\"\"Arxiv has {0:,d} new papers today\"\"\".format(len(new_papers)))        \n",
    "print(\"\"\"          {0:,d} with possible author matches\"\"\".format(len(candidates)))"
   ]
  },
  {
   "cell_type": "markdown",
   "id": "3543b34a",
   "metadata": {
    "papermill": {
     "duration": 0.003107,
     "end_time": "2025-06-25T04:23:01.904331",
     "exception": false,
     "start_time": "2025-06-25T04:23:01.901224",
     "status": "completed"
    },
    "tags": []
   },
   "source": [
    "# Parse sources and generate relevant outputs\n",
    "\n",
    "From the candidates, we do the following steps:\n",
    "* get their tarball from ArXiv (and extract data)\n",
    "* find the main .tex file: find one with \\documentclass{...} (sometimes it's non trivial)\n",
    "* Check affiliations with :func:`validation`, which uses :func:`mpia.affiliation_verifications`\n",
    "* If passing the affiliations: we parse the .tex source\n",
    "   * inject sub-documents into the main (flatten the main document)\n",
    "   * parse structure, extract information (title, abstract, authors, figures...)\n",
    "   * handles `\\graphicspath` if provided\n",
    "* Generate the .md document."
   ]
  },
  {
   "cell_type": "code",
   "execution_count": 5,
   "id": "9576b79e",
   "metadata": {
    "execution": {
     "iopub.execute_input": "2025-06-25T04:23:01.911631Z",
     "iopub.status.busy": "2025-06-25T04:23:01.911133Z",
     "iopub.status.idle": "2025-06-25T04:24:15.627985Z",
     "shell.execute_reply": "2025-06-25T04:24:15.627172Z"
    },
    "papermill": {
     "duration": 73.721608,
     "end_time": "2025-06-25T04:24:15.629014",
     "exception": false,
     "start_time": "2025-06-25T04:23:01.907406",
     "status": "completed"
    },
    "scrolled": false,
    "tags": []
   },
   "outputs": [
    {
     "data": {
      "application/vnd.jupyter.widget-view+json": {
       "model_id": "1760f9b9023c4b24b71ed4e20b979e84",
       "version_major": 2,
       "version_minor": 0
      },
      "text/plain": [
       "  0%|          | 0/5 [00:00<?, ?it/s]"
      ]
     },
     "metadata": {},
     "output_type": "display_data"
    },
    {
     "name": "stdout",
     "output_type": "stream",
     "text": [
      "Retrieving document from  https://arxiv.org/e-print/2506.18974\n"
     ]
    },
    {
     "name": "stdout",
     "output_type": "stream",
     "text": [
      "extracting tarball to tmp_2506.18974..."
     ]
    },
    {
     "name": "stdout",
     "output_type": "stream",
     "text": [
      " done.\n"
     ]
    },
    {
     "name": "stdout",
     "output_type": "stream",
     "text": [
      "Found 92 bibliographic references in tmp_2506.18974/main.bbl.\n",
      "Retrieving document from  https://arxiv.org/e-print/2506.19206\n",
      "extracting tarball to tmp_2506.19206... done.\n",
      "Retrieving document from  https://arxiv.org/e-print/2506.19547\n"
     ]
    },
    {
     "name": "stdout",
     "output_type": "stream",
     "text": [
      "extracting tarball to tmp_2506.19547..."
     ]
    },
    {
     "name": "stdout",
     "output_type": "stream",
     "text": [
      " done.\n",
      "Retrieving document from  https://arxiv.org/e-print/2506.19566\n"
     ]
    },
    {
     "name": "stderr",
     "output_type": "stream",
     "text": [
      "/opt/hostedtoolcache/Python/3.9.22/x64/lib/python3.9/site-packages/IPython/core/interactiveshell.py:3550: LatexWarning: Multiple tex files.\n",
      "\n",
      "  exec(code_obj, self.user_global_ns, self.user_ns)\n",
      "/opt/hostedtoolcache/Python/3.9.22/x64/lib/python3.9/site-packages/IPython/core/interactiveshell.py:3550: LatexWarning: Found documentclass in tmp_2506.19547/main.tex\n",
      "\n",
      "  exec(code_obj, self.user_global_ns, self.user_ns)\n",
      "/opt/hostedtoolcache/Python/3.9.22/x64/lib/python3.9/site-packages/arxiv_on_deck_2/latex.py:414: LatexWarning: Latex injecting: 'preamble' from 'tmp_2506.19547/preamble.tex'\n",
      "  warnings.warn(LatexWarning(f\"Latex injecting: '{ext}' from '{subsource}'\"))\n"
     ]
    },
    {
     "name": "stdout",
     "output_type": "stream",
     "text": [
      "extracting tarball to tmp_2506.19566..."
     ]
    },
    {
     "name": "stdout",
     "output_type": "stream",
     "text": [
      " done.\n"
     ]
    },
    {
     "name": "stdout",
     "output_type": "stream",
     "text": [
      "Found 72 bibliographic references in tmp_2506.19566/ICMclustersInQ1.bbl.\n",
      "Retrieving document from  https://arxiv.org/e-print/2506.19668\n"
     ]
    },
    {
     "name": "stdout",
     "output_type": "stream",
     "text": [
      "extracting tarball to tmp_2506.19668..."
     ]
    },
    {
     "name": "stdout",
     "output_type": "stream",
     "text": [
      " done.\n"
     ]
    }
   ],
   "source": [
    "documents = []\n",
    "failed = []\n",
    "for paper in tqdm(candidates):\n",
    "    # debug crap\n",
    "    paper['identifier'] = paper['identifier'].lower().replace('arxiv:', '').replace(r'\\n', '').strip()\n",
    "    paper_id = paper['identifier']\n",
    "    \n",
    "    folder = f'tmp_{paper_id}'\n",
    "\n",
    "    try:\n",
    "        if not os.path.isdir(folder):\n",
    "            folder = retrieve_document_source(f\"{paper_id}\", f'tmp_{paper_id}')\n",
    "        \n",
    "        try:\n",
    "            doc = latex.LatexDocument(folder, validation=validation)    \n",
    "        except AffiliationError as affilerror:\n",
    "            msg = f\"ArXiv:{paper_id:s} is not an MPIA paper... \" + str(affilerror)\n",
    "            failed.append((paper, \"affiliation error: \" + str(affilerror) ))\n",
    "            continue\n",
    "        \n",
    "        # Hack because sometimes author parsing does not work well\n",
    "        if (len(doc.authors) != len(paper['authors'])):\n",
    "            doc._authors = paper['authors']\n",
    "        else:\n",
    "            # highlight authors (FIXME: doc.highlight_authors)\n",
    "            # done on arxiv paper already\n",
    "            doc._authors = highlight_authors_in_list(\n",
    "                [get_initials(k) for k in doc.authors], \n",
    "                mpia_authors, verbose=True)\n",
    "        if (doc.abstract) in (None, ''):\n",
    "            doc._abstract = paper['abstract']\n",
    "            \n",
    "        doc.comment = (get_markdown_badge(paper_id) + \n",
    "                       \"<mark>Appeared on: \" + paper['date'] + \"</mark> - \")\n",
    "        if paper['comments']:\n",
    "            doc.comment += \" _\" + paper['comments'] + \"_\"\n",
    "        \n",
    "        full_md = doc.generate_markdown_text()\n",
    "        \n",
    "        full_md += get_markdown_qrcode(paper_id)\n",
    "        \n",
    "        # replace citations\n",
    "        try:\n",
    "            bibdata = latex_bib.LatexBib.from_doc(doc)\n",
    "            full_md = latex_bib.replace_citations(full_md, bibdata)\n",
    "        except Exception as e:\n",
    "            print(\"Issues with the citations\")\n",
    "            print(e)\n",
    "        \n",
    "        documents.append((paper_id, full_md))\n",
    "    except Exception as e:\n",
    "        warnings.warn(latex.LatexWarning(f\"{paper_id:s} did not run properly\\n\" +\n",
    "                                         str(e)\n",
    "                                        ))\n",
    "        failed.append((paper, \"latex error \" + str(e)))"
   ]
  },
  {
   "cell_type": "markdown",
   "id": "2505a25c",
   "metadata": {
    "papermill": {
     "duration": 0.003786,
     "end_time": "2025-06-25T04:24:15.636874",
     "exception": false,
     "start_time": "2025-06-25T04:24:15.633088",
     "status": "completed"
    },
    "tags": []
   },
   "source": [
    "### Export the logs\n",
    "\n",
    "Throughout, we also keep track of the logs per paper. see `logs-{today date}.md` "
   ]
  },
  {
   "cell_type": "code",
   "execution_count": 6,
   "id": "d733828a",
   "metadata": {
    "execution": {
     "iopub.execute_input": "2025-06-25T04:24:15.645408Z",
     "iopub.status.busy": "2025-06-25T04:24:15.645172Z",
     "iopub.status.idle": "2025-06-25T04:24:15.662024Z",
     "shell.execute_reply": "2025-06-25T04:24:15.661368Z"
    },
    "papermill": {
     "duration": 0.022444,
     "end_time": "2025-06-25T04:24:15.663086",
     "exception": false,
     "start_time": "2025-06-25T04:24:15.640642",
     "status": "completed"
    },
    "scrolled": false,
    "tags": []
   },
   "outputs": [
    {
     "data": {
      "text/markdown": [
       "## Successful papers"
      ],
      "text/plain": [
       "<IPython.core.display.Markdown object>"
      ]
     },
     "metadata": {},
     "output_type": "display_data"
    },
    {
     "data": {
      "text/markdown": [
       "\n",
       "|||\n",
       "|---:|:---|\n",
       "| [![arXiv](https://img.shields.io/badge/arXiv-2506.18974-b31b1b.svg)](https://arxiv.org/abs/2506.18974) | **Euclid: An emulator for baryonic effects on the matter bispectrum**  |\n",
       "|| P. A. Burger, et al. -- incl., <mark>K. Jahnke</mark> |\n",
       "|*Appeared on*| *2025-06-25*|\n",
       "|*Comments*| *24 pages, 18 figures, submitted to A&A*|\n",
       "|**Abstract**|            The Euclid mission and other next-generation large-scale structure surveys will enable high-precision measurements of the cosmic matter distribution. Understanding the impact of baryonic processes such as star formation and AGN feedback on matter clustering is crucial to ensure precise and unbiased cosmological inference. Most theoretical models of baryonic effects to date focus on two-point statistics, neglecting higher-order contributions. This work develops a fast and accurate emulator for baryonic effects on the matter bispectrum, a key non-Gaussian statistic in the nonlinear regime. We employ high-resolution $N$-body simulations from the BACCO suite and apply a combination of cutting-edge techniques such as cosmology scaling and baryonification to efficiently span a large cosmological and astrophysical parameter space. A deep neural network is trained to emulate baryonic effects on the matter bispectrum measured in simulations, capturing modifications across various scales and redshifts relevant to Euclid. We validate the emulator accuracy and robustness using an analysis of \\Euclid mock data, employing predictions from the state-of-the-art FLAMINGO hydrodynamical simulations. The emulator reproduces baryonic suppression in the bispectrum to better than 2$\\%$ for the $68\\%$ percentile across most triangle configurations for $k \\in [0.01, 20]\\,h^{-1}\\mathrm{Mpc}$ and ensures consistency between cosmological posteriors inferred from second- and third-order weak lensing statistics.         |"
      ],
      "text/plain": [
       "[2506.18974] Euclid: An emulator for baryonic effects on the matter bispectrum\n",
       "\tP. A. Burger, et al. -- incl., <mark>K. Jahnke</mark>"
      ]
     },
     "metadata": {},
     "output_type": "display_data"
    },
    {
     "data": {
      "text/markdown": [
       "\n",
       "|||\n",
       "|---:|:---|\n",
       "| [![arXiv](https://img.shields.io/badge/arXiv-2506.19566-b31b1b.svg)](https://arxiv.org/abs/2506.19566) | **Euclid: Quick Data Release (Q1) -- Watching ICM-selected galaxy clusters with Euclid eyes -- prospects of Euclid data in the context of large SZ and X-ray based surveys**  |\n",
       "|| M. Klein, et al. -- incl., <mark>K. Jahnke</mark> |\n",
       "|*Appeared on*| *2025-06-25*|\n",
       "|*Comments*| *11 pages, 10 figures*|\n",
       "|**Abstract**|            Galaxy clusters detected through their X-ray emission or Sunyaev--Zeldovich effect (SZE), both produced by the intra-cluster medium (ICM), are key probes in cosmological and astrophysical studies. To maximise the scientific return of such surveys, complementary data are required for cluster confirmation and redshift estimation. This is typically provided by wide-field optical and infrared surveys, which are increasingly challenged by ongoing and future ICM-selected samples. In particular, at high redshifts ($z>1$) probed by upcoming SZE-selected samples, current large surveys may be insufficient for reliable confirmation. Deep, high-resolution infrared surveys like Euclid will thus be essential for confirming most high-redshift clusters. We present an analysis of the first sizeable Euclid dataset (Q1), overlapping with several ICM-selected cluster samples. We apply an adaptation of the MCMF cluster confirmation tool to estimate key properties, including redshift and richness, and to predict Euclid's capabilities for high-redshift cluster confirmation. We find promising performance, particularly at high redshifts, while richness estimates at low redshifts ($z<0.4$) are currently limited by Q1 data quality but should improve with future releases. Using MCMF runs on random lines of sight, we predict that Euclid will confirm clusters at $1<z<2$ as effectively as current optical surveys at $z<0.6$, significantly enhancing high-redshift confirmation. SZE-selected samples will thus greatly benefit from Euclid overlap. Among five known high-$z$ SZE clusters in Q1, we identify the highest-redshift jellyfish galaxy candidate to date, EUCLJ035330.86$-$504347.6 in SPT-CLJ0353$-$5043 ($z=1.32$), two massive star-forming galaxies near ACT-CLJ0350.0$-$4819 ($z=1.46$), and strong lensing features in SPT-CLJ0353$-$5043 and SPT-CLJ0421$-$4845.         |"
      ],
      "text/plain": [
       "[2506.19566] Euclid: Quick Data Release (Q1) -- Watching ICM-selected galaxy clusters with Euclid eyes -- prospects of Euclid data in the context of large SZ and X-ray based surveys\n",
       "\tM. Klein, et al. -- incl., <mark>K. Jahnke</mark>"
      ]
     },
     "metadata": {},
     "output_type": "display_data"
    },
    {
     "data": {
      "text/markdown": [
       "## Failed papers"
      ],
      "text/plain": [
       "<IPython.core.display.Markdown object>"
      ]
     },
     "metadata": {},
     "output_type": "display_data"
    },
    {
     "data": {
      "text/markdown": [
       "\n",
       "|||\n",
       "|---:|:---|\n",
       "| [![arXiv](https://img.shields.io/badge/arXiv-2506.19206-b31b1b.svg)](https://arxiv.org/abs/2506.19206) | **A Fast Bayesian Method for Coherent Gravitational Wave Searches with Relative Astrometry**  |\n",
       "|| B. Zhang, et al. -- incl., <mark>Y. Wang</mark> |\n",
       "|*Appeared on*| *2025-06-25*|\n",
       "|*Comments*| *14 pages, 5 figures*|\n",
       "|**Abstract**|            Using relative stellar astrometry for the detection of coherent gravitational wave sources is a promising method for the microhertz range, where no dedicated detectors currently exist. Compared to other gravitational wave detection techniques, astrometry operates in an extreme high-baseline-number and low-SNR-per-baseline limit, which leads to computational difficulties when using conventional Bayesian search techniques. We extend a technique for efficiently searching pulsar timing array datasets through the precomputation of inner products in the Bayesian likelihood, showing that it is applicable to astrometric datasets. Using this technique, we are able to reduce the total dataset size by up to a factor of $\\mathcal{O}(100)$, while remaining accurate to within 1% over two orders of magnitude in gravitational wave frequency. Applying this technique to simulated astrometric datasets for the Kepler Space Telescope and Nancy Grace Roman Space Telescope missions, we obtain forecasts for the sensitivity of these missions to coherent gravitational waves. Due to the low angular sky coverage of astrometric baselines, we find that coherent gravitational wave sources are poorly localized on the sky. Despite this, from $10^{-8}$ Hz to $10^{-6}$ Hz, we find that Roman is sensitive to coherent gravitational waves with an instantaneous strain above $h_0 \\simeq 10^{-11.4}$, and Kepler is sensitive to strains above $h_0 \\simeq $ $10^{-12.4}$. At this strain, we can detect a source with a frequency of $10^{-7}$ Hz and a chirp mass of $10^9$ $M_\\odot$ at a luminosity distance of 3.6 Mpc for Kepler, and 0.3 Mpc for Roman.         |\n",
       "|<p style=\"color:green\"> **ERROR** </p>| <p style=\"color:green\">affiliation error: mpia.affiliation_verifications: 'Heidelberg' keyword not found.</p> |"
      ],
      "text/plain": [
       "<IPython.core.display.Markdown object>"
      ]
     },
     "metadata": {},
     "output_type": "display_data"
    },
    {
     "data": {
      "text/markdown": [
       "\n",
       "|||\n",
       "|---:|:---|\n",
       "| [![arXiv](https://img.shields.io/badge/arXiv-2506.19547-b31b1b.svg)](https://arxiv.org/abs/2506.19547) | **Understanding the Drag Torque in Common Envelope Evolution**  |\n",
       "|| S. Bhattacharyya, et al. -- incl., <mark>A. Frank</mark> |\n",
       "|*Appeared on*| *2025-06-25*|\n",
       "|*Comments*| **|\n",
       "|**Abstract**|            Common envelope (CE) evolution is largely governed by the drag torque applied on the inspiralling stellar components by the envelope. Previous work has shown that idealized models of the torque based on a single body moving in rectilinear motion through an unperturbed atmosphere can be highly inaccurate. Progress requires new models for the torque that account for binarity. Toward this end we perform a new 3D global hydrodynamic CE simulation with the mass of the companion point particle set equal to the mass of the asymptotic giant branch star core particle to maximize symmetry and facilitate interpretation. First, we find that a region around the particles of a scale comparable to their separation contributes essentially all of the torque. Second, the density pattern of the torque-dominating gas and, to an extent, this gas itself, is roughly in corotation with the binary. Third, approximating the spatial distribution of the torquing gas as a uniform-density prolate spheroid whose major axis resides in the orbital plane and lags the line joining the binary components by a constant phase angle reproduces the torque evolution remarkably well, analogous to studies of binary supermassive black holes. Fourth, we compare the torque measured in the simulation with the predictions of a model that assumes two weak point-mass perturbers undergoing circular motion in a uniform background without gas self-gravity, and find remarkable agreement with our results if the background density is taken to be equal to a fixed fraction ($\\approx0.44$) of the density at the spheroid surface. Overall, this work makes progress toward developing simple time-dependent models of the CE phase.         |\n",
       "|<p style=\"color:green\"> **ERROR** </p>| <p style=\"color:green\">affiliation error: mpia.affiliation_verifications: 'Heidelberg' keyword not found.</p> |"
      ],
      "text/plain": [
       "<IPython.core.display.Markdown object>"
      ]
     },
     "metadata": {},
     "output_type": "display_data"
    },
    {
     "data": {
      "text/markdown": [
       "\n",
       "|||\n",
       "|---:|:---|\n",
       "| [![arXiv](https://img.shields.io/badge/arXiv-2506.19668-b31b1b.svg)](https://arxiv.org/abs/2506.19668) | **HD 143006: Interferometric Confirmation of Misaligned Protoplanetary Disc with CHARA/MIRCX and VLTI/PIONIER**  |\n",
       "|| I. Codron, et al. -- incl., <mark>S. Kraus</mark> |\n",
       "|*Appeared on*| *2025-06-25*|\n",
       "|*Comments*| **|\n",
       "|**Abstract**|            The outer regions of the protoplanetary disc surrounding the T Tauri star HD 143006 show rings, dust asymmetries and shadows. Whilst rings and dust asymmetries can arise from companions and other mechanisms, shadows and misaligned discs in particular are typically attributed to the presence of misaligned planets or stellar-mass companions. To understand the mechanisms that drive these traits, the innermost regions of discs need to be studied. Using CHARA/MIRCX and VLTI/PIONIER, we observed the sub-au region of HD 143006. We constrain the orientation of the inner disc of HD 143006 and probe whether a misalignment between the inner and outer disc could be the cause of the shadows. Modelling the visibilities using a geometric model, the inclination and position angle are found to be $i=22^\\circ\\pm 3^\\circ$ and $\\mathrm{PA}=158^\\circ\\pm 8^\\circ$ respectively, with an inner dust sublimation radius of $\\sim0.04$ au. The inner disc is misaligned by $39^\\circ\\pm4^\\circ$ with respect to the outer disc, with the far side of the inner disc to the east and the far side of the outer disc to the west. We constrain $h/R$ (scattering surface/radius of scattered light) of the outer disc at $18$ au to be about $13\\%$ by calculating the offset between the shadow position and the central star. No companion was detected, with a magnitude contrast of $4.4$ in the H-band and placing an upper mass limit of $0.17 M_\\odot$ at separations of $0-8$ au. Therefore, we cannot confirm or rule out that a low-mass star or giant planet is responsible for the misalignment and dust sub-structures.         |\n",
       "|<p style=\"color:green\"> **ERROR** </p>| <p style=\"color:green\">affiliation error: mpia.affiliation_verifications: 'Heidelberg' keyword not found.</p> |"
      ],
      "text/plain": [
       "<IPython.core.display.Markdown object>"
      ]
     },
     "metadata": {},
     "output_type": "display_data"
    }
   ],
   "source": [
    "import datetime\n",
    "today = str(datetime.date.today())\n",
    "logfile = f\"_build/html/logs/log-{today}.md\"\n",
    "\n",
    "\n",
    "with open(logfile, 'w') as logs:\n",
    "    # Success\n",
    "    logs.write(f'# Arxiv on Deck 2: Logs - {today}\\n\\n')\n",
    "    logs.write(\"\"\"* Arxiv had {0:,d} new papers\\n\"\"\".format(len(new_papers)))\n",
    "    logs.write(\"\"\"    * {0:,d} with possible author matches\\n\\n\"\"\".format(len(candidates)))\n",
    "    logs.write(\"## Sucessful papers\\n\\n\")\n",
    "    display(Markdown(\"## Successful papers\"))\n",
    "    success = [k[0] for k in documents]\n",
    "    for candid in candidates:\n",
    "        if candid['identifier'].split(':')[-1] in success:\n",
    "            display(candid)\n",
    "            logs.write(candid.generate_markdown_text() + '\\n\\n')\n",
    "\n",
    "    ## failed\n",
    "    logs.write(\"## Failed papers\\n\\n\")\n",
    "    display(Markdown(\"## Failed papers\"))\n",
    "    failed = sorted(failed, key=lambda x: x[1])\n",
    "    current_reason = \"\"\n",
    "    for paper, reason in failed:\n",
    "        if 'affiliation' in reason:\n",
    "            color = 'green'\n",
    "        else:\n",
    "            color = 'red'\n",
    "        data = Markdown(\n",
    "                paper.generate_markdown_text() + \n",
    "                f'\\n|<p style=\"color:{color:s}\"> **ERROR** </p>| <p style=\"color:{color:s}\">{reason:s}</p> |'\n",
    "               )\n",
    "        if reason != current_reason:\n",
    "            logs.write(f'### {reason:s} \\n\\n')\n",
    "            current_reason = reason\n",
    "        logs.write(data.data + '\\n\\n')\n",
    "        \n",
    "        # only display here the important errors (all in logs)\n",
    "        # if color in ('red',):\n",
    "        display(data)"
   ]
  },
  {
   "cell_type": "markdown",
   "id": "472d20ee",
   "metadata": {
    "papermill": {
     "duration": 0.004429,
     "end_time": "2025-06-25T04:24:15.672613",
     "exception": false,
     "start_time": "2025-06-25T04:24:15.668184",
     "status": "completed"
    },
    "tags": []
   },
   "source": [
    "## Export documents\n",
    "\n",
    "We now write the .md files and export relevant images"
   ]
  },
  {
   "cell_type": "code",
   "execution_count": 7,
   "id": "d426aed9",
   "metadata": {
    "execution": {
     "iopub.execute_input": "2025-06-25T04:24:15.682529Z",
     "iopub.status.busy": "2025-06-25T04:24:15.682114Z",
     "iopub.status.idle": "2025-06-25T04:24:15.689111Z",
     "shell.execute_reply": "2025-06-25T04:24:15.688442Z"
    },
    "papermill": {
     "duration": 0.013013,
     "end_time": "2025-06-25T04:24:15.690085",
     "exception": false,
     "start_time": "2025-06-25T04:24:15.677072",
     "status": "completed"
    },
    "tags": []
   },
   "outputs": [],
   "source": [
    "def export_markdown_summary(md: str, md_fname:str, directory: str):\n",
    "    \"\"\"Export MD document and associated relevant images\"\"\"\n",
    "    import os\n",
    "    import shutil\n",
    "    import re\n",
    "\n",
    "    if (os.path.exists(directory) and not os.path.isdir(directory)):\n",
    "        raise RuntimeError(f\"a non-directory file exists with name {directory:s}\")\n",
    "\n",
    "    if (not os.path.exists(directory)):\n",
    "        print(f\"creating directory {directory:s}\")\n",
    "        os.mkdir(directory)\n",
    "\n",
    "    fig_fnames = (re.compile(r'\\[Fig.*\\]\\((.*)\\)').findall(md) + \n",
    "                  re.compile(r'\\<img src=\"([^>\\s]*)\"[^>]*/>').findall(md))\n",
    "    print(\"found figures\", fig_fnames)\n",
    "    for fname in fig_fnames:\n",
    "        if 'http' in fname:\n",
    "            # No need to copy online figures\n",
    "            continue\n",
    "        if not os.path.exists(fname):\n",
    "            print(\"file not found\", fname)\n",
    "            continue\n",
    "        print(\"copying \", fname, \"to\", directory)\n",
    "        destdir = os.path.join(directory, os.path.dirname(fname))\n",
    "        destfname = os.path.join(destdir, os.path.basename(fname))\n",
    "        try:\n",
    "            os.makedirs(destdir)\n",
    "        except FileExistsError:\n",
    "            pass\n",
    "        shutil.copy(fname, destfname)\n",
    "    with open(os.path.join(directory, md_fname), 'w') as fout:\n",
    "        fout.write(md)\n",
    "    print(\"exported in \", os.path.join(directory, md_fname))\n",
    "    [print(\"    + \" + os.path.join(directory,fk)) for fk in fig_fnames]"
   ]
  },
  {
   "cell_type": "code",
   "execution_count": 8,
   "id": "014d04a4",
   "metadata": {
    "execution": {
     "iopub.execute_input": "2025-06-25T04:24:15.700262Z",
     "iopub.status.busy": "2025-06-25T04:24:15.699746Z",
     "iopub.status.idle": "2025-06-25T04:24:15.712457Z",
     "shell.execute_reply": "2025-06-25T04:24:15.711811Z"
    },
    "papermill": {
     "duration": 0.018845,
     "end_time": "2025-06-25T04:24:15.713467",
     "exception": false,
     "start_time": "2025-06-25T04:24:15.694622",
     "status": "completed"
    },
    "tags": []
   },
   "outputs": [
    {
     "name": "stdout",
     "output_type": "stream",
     "text": [
      "found figures ['tmp_2506.18974/./figs/Flamingo_variation_cosmology_3pt.png', 'tmp_2506.18974/./figs/powerspec_dependence_folded.png', 'tmp_2506.18974/./figs/bispec_dependence_folded.png', 'tmp_2506.18974/./figs/xikappa_dependence_DMO.png', 'tmp_2506.18974/./figs/Map2_dependence_DMO.png', 'tmp_2506.18974/./figs/Map3_dependence_DMO.png']\n",
      "copying  tmp_2506.18974/./figs/Flamingo_variation_cosmology_3pt.png to _build/html/\n",
      "copying  tmp_2506.18974/./figs/powerspec_dependence_folded.png to _build/html/\n",
      "copying  tmp_2506.18974/./figs/bispec_dependence_folded.png to _build/html/\n",
      "copying  tmp_2506.18974/./figs/xikappa_dependence_DMO.png to _build/html/\n",
      "copying  tmp_2506.18974/./figs/Map2_dependence_DMO.png to _build/html/\n",
      "copying  tmp_2506.18974/./figs/Map3_dependence_DMO.png to _build/html/\n",
      "exported in  _build/html/2506.18974.md\n",
      "    + _build/html/tmp_2506.18974/./figs/Flamingo_variation_cosmology_3pt.png\n",
      "    + _build/html/tmp_2506.18974/./figs/powerspec_dependence_folded.png\n",
      "    + _build/html/tmp_2506.18974/./figs/bispec_dependence_folded.png\n",
      "    + _build/html/tmp_2506.18974/./figs/xikappa_dependence_DMO.png\n",
      "    + _build/html/tmp_2506.18974/./figs/Map2_dependence_DMO.png\n",
      "    + _build/html/tmp_2506.18974/./figs/Map3_dependence_DMO.png\n",
      "found figures ['tmp_2506.19566/./Euc_Q1_photozcomp.png', 'tmp_2506.19566/./Euclid_Q1_lambdamass_style.png', 'tmp_2506.19566/./SPT050353-5043_40arcRGB.png', 'tmp_2506.19566/./SPT050353-5043_40arcsecVISwZoom.png', 'tmp_2506.19566/./ACThighz_richness_vs_redshift.png']\n",
      "copying  tmp_2506.19566/./Euc_Q1_photozcomp.png to _build/html/\n",
      "copying  tmp_2506.19566/./Euclid_Q1_lambdamass_style.png to _build/html/\n",
      "copying  tmp_2506.19566/./SPT050353-5043_40arcRGB.png to _build/html/\n",
      "copying  tmp_2506.19566/./SPT050353-5043_40arcsecVISwZoom.png to _build/html/\n",
      "copying  tmp_2506.19566/./ACThighz_richness_vs_redshift.png to _build/html/\n",
      "exported in  _build/html/2506.19566.md\n",
      "    + _build/html/tmp_2506.19566/./Euc_Q1_photozcomp.png\n",
      "    + _build/html/tmp_2506.19566/./Euclid_Q1_lambdamass_style.png\n",
      "    + _build/html/tmp_2506.19566/./SPT050353-5043_40arcRGB.png\n",
      "    + _build/html/tmp_2506.19566/./SPT050353-5043_40arcsecVISwZoom.png\n",
      "    + _build/html/tmp_2506.19566/./ACThighz_richness_vs_redshift.png\n"
     ]
    }
   ],
   "source": [
    "for paper_id, md in documents:\n",
    "    export_markdown_summary(md, f\"{paper_id:s}.md\", '_build/html/')"
   ]
  },
  {
   "cell_type": "markdown",
   "id": "f087a0a7",
   "metadata": {
    "papermill": {
     "duration": 0.00452,
     "end_time": "2025-06-25T04:24:15.722578",
     "exception": false,
     "start_time": "2025-06-25T04:24:15.718058",
     "status": "completed"
    },
    "tags": []
   },
   "source": [
    "## Display the papers\n",
    "\n",
    "Not necessary but allows for a quick check."
   ]
  },
  {
   "cell_type": "code",
   "execution_count": 9,
   "id": "fd25f625",
   "metadata": {
    "execution": {
     "iopub.execute_input": "2025-06-25T04:24:15.732722Z",
     "iopub.status.busy": "2025-06-25T04:24:15.732302Z",
     "iopub.status.idle": "2025-06-25T04:24:15.738192Z",
     "shell.execute_reply": "2025-06-25T04:24:15.737647Z"
    },
    "papermill": {
     "duration": 0.012011,
     "end_time": "2025-06-25T04:24:15.739132",
     "exception": false,
     "start_time": "2025-06-25T04:24:15.727121",
     "status": "completed"
    },
    "scrolled": false,
    "tags": []
   },
   "outputs": [
    {
     "data": {
      "text/markdown": [
       "<div class=\"macros\" style=\"visibility:hidden;\">\n",
       "$\\newcommand{\\ensuremath}{}$\n",
       "$\\newcommand{\\xspace}{}$\n",
       "$\\newcommand{\\object}[1]{\\texttt{#1}}$\n",
       "$\\newcommand{\\farcs}{{.}''}$\n",
       "$\\newcommand{\\farcm}{{.}'}$\n",
       "$\\newcommand{\\arcsec}{''}$\n",
       "$\\newcommand{\\arcmin}{'}$\n",
       "$\\newcommand{\\ion}[2]{#1#2}$\n",
       "$\\newcommand{\\textsc}[1]{\\textrm{#1}}$\n",
       "$\\newcommand{\\hl}[1]{\\textrm{#1}}$\n",
       "$\\newcommand{\\footnote}[1]{}$\n",
       "$\\newcommand{\\Msun}{ h^{-1}{\\rm M_{ \\odot}}}$\n",
       "$\\newcommand{\\hkpc}{ h^{-1}{\\rm kpc}}$\n",
       "$\\newcommand{\\ihMpc}{ h {\\rm Mpc}^{-1}}$\n",
       "$\\newcommand{\\raul}[1]{\\textcolor{red}{\\textbf{Raul: #1}}}$\n",
       "$\\newcommand{\\gio}[1]{\\textcolor{red}{\\textbf{GA: #1}}}$\n",
       "$\\newcommand{\\anik}[1]{\\textcolor{orange}{\\textbf{#1}}}$\n",
       "$\\newcommand{\\Mperp}{\\mathcal{M}_{\\perp}}$\n",
       "$\\newcommand{\\MapMapMap}{{\\expval{\\Map^3}}}$\n",
       "$\\newcommand{\\MapMperpMperp}{{\\expval{\\Map\\Mperp^2}}}$\n",
       "$\\newcommand{\\Mapperp}{\\mathcal{M}_{\\mathrm{ap}/\\perp}}$\n",
       "$\\newcommand{\\diracd}{\\delta_\\mathrm{D}}$\n",
       "$\\newcommand{\\LCDM}{\\LambdaCDM}$\n",
       "$\\newcommand{\\bkappa}{\\ensuremath{B_\\kappa}}$\n",
       "$\\newcommand{\\pkappa}{\\ensuremath{P_\\kappa}}$\n",
       "$\\newcommand{\\MapEst}{\\widehat{\\mathcal{M}}_\\mathrm{ap}}$\n",
       "$\\newcommand{\\MperpEst}{\\widehat{\\mathcal{M}}_\\perp}$\n",
       "$\\newcommand{\\dd}{\\mathrm{d}}$\n",
       "$\\newcommand{\\vtheta}{\\pmb{\\theta_\\mathrm{ap}}}$\n",
       "$\\newcommand{\\vell}{\\pmb{\\ell}}$\n",
       "$\\newcommand{\\Npix}{N_\\mathrm{pix}}$\n",
       "$\\newcommand{\\Ngal}{N_\\mathrm{eff}}$\n",
       "$\\newcommand{\\expval}[1]{\\langle #1 \\rangle}$\n",
       "$\\newcommand{\\code}{\\tt }$\n",
       "$\\newcommand{\\mycomment}[1]$\n",
       "$\\newcommand{\\corr}[1]{\\textcolor{red}{\\textbf{#1}}}$\n",
       "$\\newcommand{\\laila}[1]{{\\color{teal}#1}}$\n",
       "$\\newcommand{\\orcid}[1]$\n",
       "$\\newcommand{\\arraystretch}{1.2}$\n",
       "$\\newcommand{\\arraystretch}{1.2}$\n",
       "$\\newcommand{\\arraystretch}{1.3}$\n",
       "$\\newcommand{\\arraystretch}{1.2}$\n",
       "$\\newcommand{\\arraystretch}{1.3}$\n",
       "$\\newcommand{\\arraystretch}{1.2}$\n",
       "$\\newcommand\\say{#1}$</div>\n",
       "\n",
       "\n",
       "\n",
       "<div id=\"title\">\n",
       "\n",
       "# $\\Euclid$\\/: An emulator for baryonic effects on the matter bispectrum$\\thanks{This paper is published on behalf of the Euclid Consortium.}$\n",
       "\n",
       "</div>\n",
       "<div id=\"comments\">\n",
       "\n",
       "[![arXiv](https://img.shields.io/badge/arXiv-2506.18974-b31b1b.svg)](https://arxiv.org/abs/2506.18974)<mark>Appeared on: 2025-06-25</mark> -  _24 pages, 18 figures, submitted to A&A_\n",
       "\n",
       "</div>\n",
       "<div id=\"authors\">\n",
       "\n",
       "P. A. Burger, et al. -- incl., <mark>K. Jahnke</mark>\n",
       "\n",
       "</div>\n",
       "<div id=\"abstract\">\n",
       "\n",
       "**Abstract:** The $\\Euclid$ mission and other next-generation large-scale structure surveys will enable high-precision measurements of the cosmic matter distribution. Understanding the impact of baryonic processes such as star formation and active galactic nuclei (AGN) feedback on matter clustering is crucial to ensure precise and unbiased cosmological inference. Most theoretical models of baryonic effects to date focus on two-point statistics, neglecting higher-order contributions. This work develops a fast and accurate emulator for baryonic effects on the matter bispectrum, a key non-Gaussian statistic in the nonlinear regime. We employ high-resolution $N$ -body simulations from the BACCO suite and apply a combination of cutting-edge techniques such as cosmology scaling and baryonification to efficiently span a large cosmological and astrophysical parameter space. A deep neural network is trained to emulate baryonic effects on the matter bispectrum measured in simulations, capturing modifications across various scales and redshifts relevant to $\\Euclid$ . We validate the emulator accuracy and robustness using an analysis of $\\Euclid$ mock data, employing predictions from the state-of-the-art FLAMINGO hydrodynamical simulations. The emulator reproduces baryonic suppression in the bispectrum to better than 2 $\\%$ for the $68\\%$ percentile across most triangle configurations for $k \\in [0.01, 20] \\ihMpc$ and ensures consistency between cosmological posteriors inferred from second- and third-order weak lensing statistics. These results demonstrate that our emulator meets the high-precision requirements of the $\\Euclid$ mission for at least the first data release and provides forecasts of the cosmological and astrophysical information contained in the small-scale matter bispectrum. This underscores the potential of emulation techniques to bridge the gap between complex baryonic physics and observational data, maximising the scientific output of $\\Euclid$ . Our emulators will becomepublicly available in $\\url{https://baccoemu.readthedocs.io/en/latest/}$ .\n",
       "\n",
       "</div>\n",
       "\n",
       "<div id=\"div_fig1\">\n",
       "\n",
       "<img src=\"tmp_2506.18974/./figs/Flamingo_variation_cosmology_3pt.png\" alt=\"Fig8\" width=\"100%\"/>\n",
       "\n",
       "**Figure 8. -** Estimated mean and $68\\%$ credible intervals for all FLAMINGO models described in Sect. \\ref{sec:Flamingo_sim}. Since the LS8 and \\Planck cosmology is different we plot $\\Delta \\Omega_\\mathrm{m} = \\Omega^\\mathrm{best}_\\mathrm{m} - \\Omega^\\mathrm{true}_\\mathrm{m}$ and in analogy $\\Delta S_8$. The different colours show cases where parameters are fixed. The stars indicate the best-fitting parameters. The figure is for $\\xi_\\kappa + \\langle \\Map^2 \\rangle + \\langle \\Map^3 \\rangle$. The corresponding figure for $\\xi_\\kappa + \\langle \\Map^2 \\rangle$ is shown in Fig. \\ref{fig:Flamingo_variation_cosmology_2nd}. (*fig:Flamingo_variation_cosmology*)\n",
       "\n",
       "</div>\n",
       "<div id=\"div_fig2\">\n",
       "\n",
       "<img src=\"tmp_2506.18974/./figs/powerspec_dependence_folded.png\" alt=\"Fig12.1\" width=\"50%\"/><img src=\"tmp_2506.18974/./figs/bispec_dependence_folded.png\" alt=\"Fig12.2\" width=\"50%\"/>\n",
       "\n",
       "**Figure 12. -** In this figure, we show the power spectrum's dependence on baryonic feedback effects in the three upper rows. In the bottom three rows, we show the dependence of the bispectrum for $k_1=k_2=k_3$. (*fig:bispec_dependence*)\n",
       "\n",
       "</div>\n",
       "<div id=\"div_fig3\">\n",
       "\n",
       "<img src=\"tmp_2506.18974/./figs/xikappa_dependence_DMO.png\" alt=\"Fig18.1\" width=\"33%\"/><img src=\"tmp_2506.18974/./figs/Map2_dependence_DMO.png\" alt=\"Fig18.2\" width=\"33%\"/><img src=\"tmp_2506.18974/./figs/Map3_dependence_DMO.png\" alt=\"Fig18.3\" width=\"33%\"/>\n",
       "\n",
       "**Figure 18. -** Dependence of the $\\expval{\\Map^n}$ and $\\xi_\\kappa$ to changes of baryonic and cosmological parameters. We scaled the model vectors using the same model just for a GrO case, disentangling the effect of the baryons. The $\\theta_\\mathrm{ap} = \\{\\theta_\\mathrm{ap,1},\\theta_\\mathrm{ap,2},\\theta_\\mathrm{ap,3}\\}$ values for the lowest panel are increasing from left to right as in Fig. \\ref{fig:Map3_Flamingo}, increasing first $\\theta_\\mathrm{ap,3}$, then $\\theta_\\mathrm{ap,2}$ and lastly $\\theta_\\mathrm{ap,1}$.  (*fig:Map23_dependence_GrO*)\n",
       "\n",
       "</div><div id=\"qrcode\"><img src=https://api.qrserver.com/v1/create-qr-code/?size=100x100&data=\"https://arxiv.org/abs/2506.18974\"></div>"
      ],
      "text/plain": [
       "<IPython.core.display.Markdown object>"
      ]
     },
     "metadata": {},
     "output_type": "display_data"
    },
    {
     "data": {
      "text/markdown": [
       "<div class=\"macros\" style=\"visibility:hidden;\">\n",
       "$\\newcommand{\\ensuremath}{}$\n",
       "$\\newcommand{\\xspace}{}$\n",
       "$\\newcommand{\\object}[1]{\\texttt{#1}}$\n",
       "$\\newcommand{\\farcs}{{.}''}$\n",
       "$\\newcommand{\\farcm}{{.}'}$\n",
       "$\\newcommand{\\arcsec}{''}$\n",
       "$\\newcommand{\\arcmin}{'}$\n",
       "$\\newcommand{\\ion}[2]{#1#2}$\n",
       "$\\newcommand{\\textsc}[1]{\\textrm{#1}}$\n",
       "$\\newcommand{\\hl}[1]{\\textrm{#1}}$\n",
       "$\\newcommand{\\footnote}[1]{}$\n",
       "$\\newcommand{\\orcid}[1]$</div>\n",
       "\n",
       "\n",
       "\n",
       "<div id=\"title\">\n",
       "\n",
       "# $\\Euclid$\\/: Quick Data Release (Q1) -- Watching ICM-selected galaxy clusters with $\\Euclid$ eyes - prospects of $\\Euclid$ data in the context of large SZ and X-ray based surveys$\\thanks{This paper is published on       behalf of the Euclid Consortium}$\n",
       "\n",
       "</div>\n",
       "<div id=\"comments\">\n",
       "\n",
       "[![arXiv](https://img.shields.io/badge/arXiv-2506.19566-b31b1b.svg)](https://arxiv.org/abs/2506.19566)<mark>Appeared on: 2025-06-25</mark> -  _11 pages, 10 figures_\n",
       "\n",
       "</div>\n",
       "<div id=\"authors\">\n",
       "\n",
       "M. Klein, et al. -- incl., <mark>K. Jahnke</mark>\n",
       "\n",
       "</div>\n",
       "<div id=\"abstract\">\n",
       "\n",
       "**Abstract:** Galaxy clusters detected through their X-ray emission or Sunyaev--Zeldovich effect (SZE), both produced by the intra-cluster medium (ICM), have been successfully used in cosmological and astrophysical studies. To maximise the scientific return and robustness of such studies, these surveys require complementary information from other datasets.Systematic cluster confirmation and redshifts of ICM-selected cluster candidates are typically provided by wide-field optical and infrared imaging surveys, which are becoming increasingly challenged by ongoing ICM-selected samples. Particularly at high redshifts ( $z>1$ ) reached by future SZE-selected samples, current large surveys may not be sufficient for this task.Deep, high-resolution infrared surveys, such as those conducted with $\\Euclid$ , are therefore essential for confirming the majority of high-redshift clusters in these future samples.In this context, we present an analysis of the first sizeable $\\Euclid$ dataset (Q1), which overlaps with several ICM-selected cluster samples. We apply an adaptation of the MCMF cluster redshift and confirmation tool to $\\Euclid$ data to estimate key cluster properties, including redshift and richness and to predict its capabilities to confirm high-redshift galaxy clusters.We find promising performance in redshift and richness estimation, particularly at high redshift. The performance in richness estimation at low redshifts ( $z<0.4$ ) is currently impacted by limitations of the Q1 dataset and are likely to improve in future data releases.By comparing MCMF measurements along random lines of sight with similar measurements from the SZE-based ACT-DR5 MCMF catalogue, we predict that the ability to confirm clusters at $1<z<2$ using $\\Euclid$ will be comparable to that of current large optical surveys at $z<0.6$ and will significantly enhance the capability of cluster confirmation at high redshifts. SZE-selected cluster samples will therefore especially benefit from overlap with $\\Euclid$ datasets.Studying the five known high- $z$ SZE-selected clusters in Q1, we identify the highest-redshift jellyfish galaxy candidate found to date in an ICM-selected cluster. This galaxy, EUCL J035330.86 $-$ 504347.6, is located in the massive cluster SPT-CL J0353 $-$ 5043 at $z=1.32$ . We also find two massive star-forming galaxies projected close to the core of ACT-CL J0350.0 $-$ 4819 ( $z\\simeq1.46$ ), and evidence of strong lensing features in SPT-CL J0353 $-$ 5043 and SPT-CL J0421 $-$ 4845.\n",
       "\n",
       "</div>\n",
       "\n",
       "<div id=\"div_fig1\">\n",
       "\n",
       "<img src=\"tmp_2506.19566/./Euc_Q1_photozcomp.png\" alt=\"Fig7.1\" width=\"50%\"/><img src=\"tmp_2506.19566/./Euclid_Q1_lambdamass_style.png\" alt=\"Fig7.2\" width=\"50%\"/>\n",
       "\n",
       "**Figure 7. -** _Left:_ Recovery of published cluster redshifts with \\Euclid-MCMF. Redshifts of 1eRASS J040527.1$-$490347 (grey square) and SPT-CL J0421$-$4845 (yellow square) are discussed in greater detail in Sect. \\ref{sc:indivclusters}. _Right:_\\Euclid-MCMF richness ($\\lambda$) versus ICM-based mass estimates ($M_{500}$). (*fig:redshiftRichness*)\n",
       "\n",
       "</div>\n",
       "<div id=\"div_fig2\">\n",
       "\n",
       "<img src=\"tmp_2506.19566/./SPT050353-5043_40arcRGB.png\" alt=\"Fig9.1\" width=\"50%\"/><img src=\"tmp_2506.19566/./SPT050353-5043_40arcsecVISwZoom.png\" alt=\"Fig9.2\" width=\"50%\"/>\n",
       "\n",
       "**Figure 9. -** _Left:_\\Euclid\\IE, \\YE, \\HE-band colour composite image of the central $40$\\arcsec$ \\times 40$\\arcsec$$ region of SPT-CL J0353$-$5043. _Right:_ Grey scale image of the same region in \\Euclid\\IE. Boxes mark the highest redshift jellyfish candidate to date (1) and two strongly lensed galaxies (2,3). (*fig:SPT0353-50*)\n",
       "\n",
       "</div>\n",
       "<div id=\"div_fig3\">\n",
       "\n",
       "<img src=\"tmp_2506.19566/./ACThighz_richness_vs_redshift.png\" alt=\"Fig1\" width=\"100%\"/>\n",
       "\n",
       "**Figure 1. -** $\\lambda-z$ plot along the line of sight of ACT-CL J0350.0$-$4819, the ICM-selected cluster\n",
       "with the highest redshift measured in the sample. (*fig:actlamz*)\n",
       "\n",
       "</div><div id=\"qrcode\"><img src=https://api.qrserver.com/v1/create-qr-code/?size=100x100&data=\"https://arxiv.org/abs/2506.19566\"></div>"
      ],
      "text/plain": [
       "<IPython.core.display.Markdown object>"
      ]
     },
     "metadata": {},
     "output_type": "display_data"
    }
   ],
   "source": [
    "[display(Markdown(k[1])) for k in documents];"
   ]
  },
  {
   "cell_type": "markdown",
   "id": "873873a4",
   "metadata": {
    "papermill": {
     "duration": 0.005002,
     "end_time": "2025-06-25T04:24:15.749246",
     "exception": false,
     "start_time": "2025-06-25T04:24:15.744244",
     "status": "completed"
    },
    "tags": []
   },
   "source": [
    "# Create HTML index"
   ]
  },
  {
   "cell_type": "code",
   "execution_count": 10,
   "id": "cf665672",
   "metadata": {
    "execution": {
     "iopub.execute_input": "2025-06-25T04:24:15.760226Z",
     "iopub.status.busy": "2025-06-25T04:24:15.759795Z",
     "iopub.status.idle": "2025-06-25T04:24:15.770947Z",
     "shell.execute_reply": "2025-06-25T04:24:15.770387Z"
    },
    "papermill": {
     "duration": 0.017781,
     "end_time": "2025-06-25T04:24:15.771947",
     "exception": false,
     "start_time": "2025-06-25T04:24:15.754166",
     "status": "completed"
    },
    "tags": []
   },
   "outputs": [
    {
     "name": "stdout",
     "output_type": "stream",
     "text": [
      "540  publications files modified in the last 7 days.\n"
     ]
    }
   ],
   "source": [
    "from datetime import datetime, timedelta, timezone\n",
    "from glob import glob\n",
    "import os\n",
    "\n",
    "files = glob('_build/html/*.md')\n",
    "days = 7\n",
    "now = datetime.today()\n",
    "res = []\n",
    "for fk in files:\n",
    "    stat_result = os.stat(fk).st_ctime\n",
    "    modified = datetime.fromtimestamp(stat_result, tz=timezone.utc).replace(tzinfo=None)\n",
    "    delta = now.today() - modified\n",
    "    if delta <= timedelta(days=days):\n",
    "        res.append((delta.seconds, fk))\n",
    "res = [k[1] for k in reversed(sorted(res, key=lambda x:x[1]))]\n",
    "npub = len(res)\n",
    "print(len(res), f\" publications files modified in the last {days:d} days.\")\n",
    "# [ print('\\t', k) for k in res ];"
   ]
  },
  {
   "cell_type": "code",
   "execution_count": 11,
   "id": "015de740",
   "metadata": {
    "execution": {
     "iopub.execute_input": "2025-06-25T04:24:15.782730Z",
     "iopub.status.busy": "2025-06-25T04:24:15.782525Z",
     "iopub.status.idle": "2025-06-25T04:24:15.808517Z",
     "shell.execute_reply": "2025-06-25T04:24:15.807852Z"
    },
    "papermill": {
     "duration": 0.032538,
     "end_time": "2025-06-25T04:24:15.809512",
     "exception": false,
     "start_time": "2025-06-25T04:24:15.776974",
     "status": "completed"
    },
    "tags": []
   },
   "outputs": [
    {
     "name": "stdout",
     "output_type": "stream",
     "text": [
      "12  publications in the last 7 days.\n"
     ]
    }
   ],
   "source": [
    "import datetime\n",
    "from glob import glob\n",
    "\n",
    "def get_last_n_days(lst, days=1):\n",
    "    \"\"\" Get the documents from the last n days \"\"\"\n",
    "    sorted_lst = sorted(lst, key=lambda x: x[1], reverse=True)\n",
    "    for fname, date in sorted_lst:\n",
    "        if date >= str(datetime.date.today() - datetime.timedelta(days=days)):\n",
    "            yield fname\n",
    "\n",
    "def extract_appearance_dates(lst_file):\n",
    "    dates = []\n",
    "\n",
    "    def get_date(line):\n",
    "        return line\\\n",
    "            .split('Appeared on:')[-1]\\\n",
    "            .split('</mark>')[0].strip()\n",
    "\n",
    "    for fname in lst:\n",
    "        with open(fname, 'r') as f:\n",
    "            found_date = False\n",
    "            for line in f:\n",
    "                if not found_date:\n",
    "                    if \"Appeared on\" in line:\n",
    "                        found_date = True\n",
    "                        dates.append((fname, get_date(line)))\n",
    "                else:\n",
    "                    break\n",
    "    return dates\n",
    "\n",
    "from glob import glob\n",
    "lst = glob('_build/html/*md')\n",
    "days = 7\n",
    "dates = extract_appearance_dates(lst)\n",
    "res = list(get_last_n_days(dates, days))\n",
    "npub = len(res)\n",
    "print(len(res), f\" publications in the last {days:d} days.\")"
   ]
  },
  {
   "cell_type": "code",
   "execution_count": 12,
   "id": "52ca0208",
   "metadata": {
    "execution": {
     "iopub.execute_input": "2025-06-25T04:24:15.820794Z",
     "iopub.status.busy": "2025-06-25T04:24:15.820385Z",
     "iopub.status.idle": "2025-06-25T04:24:15.825175Z",
     "shell.execute_reply": "2025-06-25T04:24:15.824626Z"
    },
    "papermill": {
     "duration": 0.011503,
     "end_time": "2025-06-25T04:24:15.826165",
     "exception": false,
     "start_time": "2025-06-25T04:24:15.814662",
     "status": "completed"
    },
    "scrolled": false,
    "tags": []
   },
   "outputs": [],
   "source": [
    "def create_carousel(npub=4):\n",
    "    \"\"\" Generate the HTML code for a carousel with `npub` slides \"\"\"\n",
    "    carousel = [\"\"\"  <div class=\"carousel\" \"\"\",\n",
    "                \"\"\"       data-flickity='{ \"autoPlay\": 10000, \"adaptiveHeight\": true, \"resize\": true, \"wrapAround\": true, \"pauseAutoPlayOnHover\": true, \"groupCells\": 1 }' id=\"asyncTypeset\">\"\"\"\n",
    "                ]\n",
    "    \n",
    "    item_str = \"\"\"    <div class=\"carousel-cell\"> <div id=\"slide{k}\" class=\"md_view\">Content {k}</div> </div>\"\"\"\n",
    "    for k in range(1, npub + 1):\n",
    "        carousel.append(item_str.format(k=k))\n",
    "    carousel.append(\"  </div>\")\n",
    "    return '\\n'.join(carousel)\n",
    "\n",
    "def create_grid(npub=4):\n",
    "    \"\"\" Generate the HTML code for a flat grid with `npub` slides \"\"\"\n",
    "    grid = [\"\"\"  <div class=\"grid\"> \"\"\",\n",
    "                ]\n",
    "    \n",
    "    item_str = \"\"\"    <div class=\"grid-item\"> <div id=\"slide{k}\" class=\"md_view\">Content {k}</div> </div>\"\"\"\n",
    "    for k in range(1, npub + 1):\n",
    "        grid.append(item_str.format(k=k))\n",
    "    grid.append(\"  </div>\")\n",
    "    return '\\n'.join(grid)"
   ]
  },
  {
   "cell_type": "code",
   "execution_count": 13,
   "id": "a6eac5b6",
   "metadata": {
    "execution": {
     "iopub.execute_input": "2025-06-25T04:24:15.837193Z",
     "iopub.status.busy": "2025-06-25T04:24:15.836818Z",
     "iopub.status.idle": "2025-06-25T04:24:15.841636Z",
     "shell.execute_reply": "2025-06-25T04:24:15.841128Z"
    },
    "papermill": {
     "duration": 0.011386,
     "end_time": "2025-06-25T04:24:15.842643",
     "exception": false,
     "start_time": "2025-06-25T04:24:15.831257",
     "status": "completed"
    },
    "scrolled": false,
    "tags": []
   },
   "outputs": [],
   "source": [
    "carousel = create_carousel(npub)\n",
    "docs = ', '.join(['\"{0:s}\"'.format(k.split('/')[-1]) for k in res])\n",
    "slides = ', '.join([f'\"slide{k}\"' for k in range(1, npub + 1)])\n",
    "\n",
    "with open(\"daily_template.html\", \"r\") as tpl:\n",
    "    page = tpl.read()\n",
    "    page = page.replace(\"{%-- carousel:s --%}\", carousel)\\\n",
    "               .replace(\"{%-- suptitle:s --%}\",  \"7-day archives\" )\\\n",
    "               .replace(\"{%-- docs:s --%}\", docs)\\\n",
    "               .replace(\"{%-- slides:s --%}\", slides)\n",
    "    \n",
    "with open(\"_build/html/index_7days.html\", 'w') as fout:\n",
    "    fout.write(page)"
   ]
  },
  {
   "cell_type": "code",
   "execution_count": 14,
   "id": "adc1a1ec",
   "metadata": {
    "execution": {
     "iopub.execute_input": "2025-06-25T04:24:15.854178Z",
     "iopub.status.busy": "2025-06-25T04:24:15.853795Z",
     "iopub.status.idle": "2025-06-25T04:24:15.860995Z",
     "shell.execute_reply": "2025-06-25T04:24:15.860458Z"
    },
    "papermill": {
     "duration": 0.014052,
     "end_time": "2025-06-25T04:24:15.861999",
     "exception": false,
     "start_time": "2025-06-25T04:24:15.847947",
     "status": "completed"
    },
    "tags": []
   },
   "outputs": [
    {
     "name": "stdout",
     "output_type": "stream",
     "text": [
      "5  publications in the last day.\n"
     ]
    }
   ],
   "source": [
    "# redo for today\n",
    "days = 1\n",
    "res = list(get_last_n_days(dates, days))\n",
    "npub = len(res)\n",
    "print(len(res), f\" publications in the last day.\")\n",
    "\n",
    "carousel = create_carousel(npub)\n",
    "docs = ', '.join(['\"{0:s}\"'.format(k.split('/')[-1]) for k in res])\n",
    "slides = ', '.join([f'\"slide{k}\"' for k in range(1, npub + 1)])\n",
    "\n",
    "with open(\"daily_template.html\", \"r\") as tpl:\n",
    "    page = tpl.read()\n",
    "    page = page.replace(\"{%-- carousel:s --%}\", carousel)\\\n",
    "               .replace(\"{%-- suptitle:s --%}\",  \"Daily\" )\\\n",
    "               .replace(\"{%-- docs:s --%}\", docs)\\\n",
    "               .replace(\"{%-- slides:s --%}\", slides)\n",
    "    \n",
    "# print(carousel, docs, slides)\n",
    "# print(page)\n",
    "with open(\"_build/html/index_daily.html\", 'w') as fout:\n",
    "    fout.write(page)"
   ]
  },
  {
   "cell_type": "code",
   "execution_count": 15,
   "id": "00eece82",
   "metadata": {
    "execution": {
     "iopub.execute_input": "2025-06-25T04:24:15.873312Z",
     "iopub.status.busy": "2025-06-25T04:24:15.872930Z",
     "iopub.status.idle": "2025-06-25T04:24:15.879075Z",
     "shell.execute_reply": "2025-06-25T04:24:15.878529Z"
    },
    "papermill": {
     "duration": 0.012897,
     "end_time": "2025-06-25T04:24:15.880054",
     "exception": false,
     "start_time": "2025-06-25T04:24:15.867157",
     "status": "completed"
    },
    "scrolled": false,
    "tags": []
   },
   "outputs": [
    {
     "name": "stdout",
     "output_type": "stream",
     "text": [
      "6  6 publications selected.\n"
     ]
    }
   ],
   "source": [
    "# Create the flat grid of the last N papers (fixed number regardless of dates)\n",
    "from itertools import islice \n",
    "\n",
    "npub = 6\n",
    "res = [k[0] for k in (islice(reversed(sorted(dates, key=lambda x: x[1])), 6))]\n",
    "print(len(res), f\" {npub} publications selected.\")\n",
    "\n",
    "grid = create_grid(npub)\n",
    "docs = ', '.join(['\"{0:s}\"'.format(k.split('/')[-1]) for k in res])\n",
    "slides = ', '.join([f'\"slide{k}\"' for k in range(1, npub + 1)])\n",
    "\n",
    "with open(\"grid_template.html\", \"r\") as tpl:\n",
    "    page = tpl.read()\n",
    "    page = page.replace(\"{%-- grid-content:s --%}\", grid)\\\n",
    "               .replace(\"{%-- suptitle:s --%}\",  f\"Last {npub:,d} papers\" )\\\n",
    "               .replace(\"{%-- docs:s --%}\", docs)\\\n",
    "               .replace(\"{%-- slides:s --%}\", slides)\n",
    "    \n",
    "# print(grid, docs, slides)\n",
    "# print(page)\n",
    "with open(\"_build/html/index_npub_grid.html\", 'w') as fout:\n",
    "    fout.write(page)"
   ]
  }
 ],
 "metadata": {
  "kernelspec": {
   "display_name": "Python 3 (ipykernel)",
   "language": "python",
   "name": "python3"
  },
  "language_info": {
   "codemirror_mode": {
    "name": "ipython",
    "version": 3
   },
   "file_extension": ".py",
   "mimetype": "text/x-python",
   "name": "python",
   "nbconvert_exporter": "python",
   "pygments_lexer": "ipython3",
   "version": "3.9.22"
  },
  "papermill": {
   "default_parameters": {},
   "duration": 98.213599,
   "end_time": "2025-06-25T04:24:16.101620",
   "environment_variables": {},
   "exception": null,
   "input_path": "MPIA daily digest.ipynb",
   "output_path": "log.ipynb",
   "parameters": {},
   "start_time": "2025-06-25T04:22:37.888021",
   "version": "2.6.0"
  },
  "vscode": {
   "interpreter": {
    "hash": "aee8b7b246df8f9039afb4144a1f6fd8d2ca17a180786b69acc140d282b71a49"
   }
  },
  "widgets": {
   "application/vnd.jupyter.widget-state+json": {
    "state": {
     "0312ba7851b5486f8f632cdcde4d7b4b": {
      "model_module": "@jupyter-widgets/controls",
      "model_module_version": "2.0.0",
      "model_name": "HTMLStyleModel",
      "state": {
       "_model_module": "@jupyter-widgets/controls",
       "_model_module_version": "2.0.0",
       "_model_name": "HTMLStyleModel",
       "_view_count": null,
       "_view_module": "@jupyter-widgets/base",
       "_view_module_version": "2.0.0",
       "_view_name": "StyleView",
       "background": null,
       "description_width": "",
       "font_size": null,
       "text_color": null
      }
     },
     "1760f9b9023c4b24b71ed4e20b979e84": {
      "model_module": "@jupyter-widgets/controls",
      "model_module_version": "2.0.0",
      "model_name": "HBoxModel",
      "state": {
       "_dom_classes": [],
       "_model_module": "@jupyter-widgets/controls",
       "_model_module_version": "2.0.0",
       "_model_name": "HBoxModel",
       "_view_count": null,
       "_view_module": "@jupyter-widgets/controls",
       "_view_module_version": "2.0.0",
       "_view_name": "HBoxView",
       "box_style": "",
       "children": [
        "IPY_MODEL_9dc3477ac9c844c08990e09df707d43a",
        "IPY_MODEL_fd202f026fb3425096e0099080e5f401",
        "IPY_MODEL_c5f3076465f84fd1a5e22194c5610e15"
       ],
       "layout": "IPY_MODEL_9fa5a22328264c8eb24debafabe3f8ec",
       "tabbable": null,
       "tooltip": null
      }
     },
     "32cfcc9f268e47439c7e860d38314291": {
      "model_module": "@jupyter-widgets/base",
      "model_module_version": "2.0.0",
      "model_name": "LayoutModel",
      "state": {
       "_model_module": "@jupyter-widgets/base",
       "_model_module_version": "2.0.0",
       "_model_name": "LayoutModel",
       "_view_count": null,
       "_view_module": "@jupyter-widgets/base",
       "_view_module_version": "2.0.0",
       "_view_name": "LayoutView",
       "align_content": null,
       "align_items": null,
       "align_self": null,
       "border_bottom": null,
       "border_left": null,
       "border_right": null,
       "border_top": null,
       "bottom": null,
       "display": null,
       "flex": null,
       "flex_flow": null,
       "grid_area": null,
       "grid_auto_columns": null,
       "grid_auto_flow": null,
       "grid_auto_rows": null,
       "grid_column": null,
       "grid_gap": null,
       "grid_row": null,
       "grid_template_areas": null,
       "grid_template_columns": null,
       "grid_template_rows": null,
       "height": null,
       "justify_content": null,
       "justify_items": null,
       "left": null,
       "margin": null,
       "max_height": null,
       "max_width": null,
       "min_height": null,
       "min_width": null,
       "object_fit": null,
       "object_position": null,
       "order": null,
       "overflow": null,
       "padding": null,
       "right": null,
       "top": null,
       "visibility": null,
       "width": null
      }
     },
     "541151d6ab104a619bb7908838f0e293": {
      "model_module": "@jupyter-widgets/base",
      "model_module_version": "2.0.0",
      "model_name": "LayoutModel",
      "state": {
       "_model_module": "@jupyter-widgets/base",
       "_model_module_version": "2.0.0",
       "_model_name": "LayoutModel",
       "_view_count": null,
       "_view_module": "@jupyter-widgets/base",
       "_view_module_version": "2.0.0",
       "_view_name": "LayoutView",
       "align_content": null,
       "align_items": null,
       "align_self": null,
       "border_bottom": null,
       "border_left": null,
       "border_right": null,
       "border_top": null,
       "bottom": null,
       "display": null,
       "flex": null,
       "flex_flow": null,
       "grid_area": null,
       "grid_auto_columns": null,
       "grid_auto_flow": null,
       "grid_auto_rows": null,
       "grid_column": null,
       "grid_gap": null,
       "grid_row": null,
       "grid_template_areas": null,
       "grid_template_columns": null,
       "grid_template_rows": null,
       "height": null,
       "justify_content": null,
       "justify_items": null,
       "left": null,
       "margin": null,
       "max_height": null,
       "max_width": null,
       "min_height": null,
       "min_width": null,
       "object_fit": null,
       "object_position": null,
       "order": null,
       "overflow": null,
       "padding": null,
       "right": null,
       "top": null,
       "visibility": null,
       "width": null
      }
     },
     "5dd8fe785a824533b971c58578da2b41": {
      "model_module": "@jupyter-widgets/controls",
      "model_module_version": "2.0.0",
      "model_name": "ProgressStyleModel",
      "state": {
       "_model_module": "@jupyter-widgets/controls",
       "_model_module_version": "2.0.0",
       "_model_name": "ProgressStyleModel",
       "_view_count": null,
       "_view_module": "@jupyter-widgets/base",
       "_view_module_version": "2.0.0",
       "_view_name": "StyleView",
       "bar_color": null,
       "description_width": ""
      }
     },
     "7caac9d03c28432cb7fd4ca78baf9192": {
      "model_module": "@jupyter-widgets/base",
      "model_module_version": "2.0.0",
      "model_name": "LayoutModel",
      "state": {
       "_model_module": "@jupyter-widgets/base",
       "_model_module_version": "2.0.0",
       "_model_name": "LayoutModel",
       "_view_count": null,
       "_view_module": "@jupyter-widgets/base",
       "_view_module_version": "2.0.0",
       "_view_name": "LayoutView",
       "align_content": null,
       "align_items": null,
       "align_self": null,
       "border_bottom": null,
       "border_left": null,
       "border_right": null,
       "border_top": null,
       "bottom": null,
       "display": null,
       "flex": null,
       "flex_flow": null,
       "grid_area": null,
       "grid_auto_columns": null,
       "grid_auto_flow": null,
       "grid_auto_rows": null,
       "grid_column": null,
       "grid_gap": null,
       "grid_row": null,
       "grid_template_areas": null,
       "grid_template_columns": null,
       "grid_template_rows": null,
       "height": null,
       "justify_content": null,
       "justify_items": null,
       "left": null,
       "margin": null,
       "max_height": null,
       "max_width": null,
       "min_height": null,
       "min_width": null,
       "object_fit": null,
       "object_position": null,
       "order": null,
       "overflow": null,
       "padding": null,
       "right": null,
       "top": null,
       "visibility": null,
       "width": null
      }
     },
     "91950bdc10264e61bbe05c91eb986d79": {
      "model_module": "@jupyter-widgets/controls",
      "model_module_version": "2.0.0",
      "model_name": "HTMLStyleModel",
      "state": {
       "_model_module": "@jupyter-widgets/controls",
       "_model_module_version": "2.0.0",
       "_model_name": "HTMLStyleModel",
       "_view_count": null,
       "_view_module": "@jupyter-widgets/base",
       "_view_module_version": "2.0.0",
       "_view_name": "StyleView",
       "background": null,
       "description_width": "",
       "font_size": null,
       "text_color": null
      }
     },
     "9dc3477ac9c844c08990e09df707d43a": {
      "model_module": "@jupyter-widgets/controls",
      "model_module_version": "2.0.0",
      "model_name": "HTMLModel",
      "state": {
       "_dom_classes": [],
       "_model_module": "@jupyter-widgets/controls",
       "_model_module_version": "2.0.0",
       "_model_name": "HTMLModel",
       "_view_count": null,
       "_view_module": "@jupyter-widgets/controls",
       "_view_module_version": "2.0.0",
       "_view_name": "HTMLView",
       "description": "",
       "description_allow_html": false,
       "layout": "IPY_MODEL_541151d6ab104a619bb7908838f0e293",
       "placeholder": "​",
       "style": "IPY_MODEL_91950bdc10264e61bbe05c91eb986d79",
       "tabbable": null,
       "tooltip": null,
       "value": "100%"
      }
     },
     "9fa5a22328264c8eb24debafabe3f8ec": {
      "model_module": "@jupyter-widgets/base",
      "model_module_version": "2.0.0",
      "model_name": "LayoutModel",
      "state": {
       "_model_module": "@jupyter-widgets/base",
       "_model_module_version": "2.0.0",
       "_model_name": "LayoutModel",
       "_view_count": null,
       "_view_module": "@jupyter-widgets/base",
       "_view_module_version": "2.0.0",
       "_view_name": "LayoutView",
       "align_content": null,
       "align_items": null,
       "align_self": null,
       "border_bottom": null,
       "border_left": null,
       "border_right": null,
       "border_top": null,
       "bottom": null,
       "display": null,
       "flex": null,
       "flex_flow": null,
       "grid_area": null,
       "grid_auto_columns": null,
       "grid_auto_flow": null,
       "grid_auto_rows": null,
       "grid_column": null,
       "grid_gap": null,
       "grid_row": null,
       "grid_template_areas": null,
       "grid_template_columns": null,
       "grid_template_rows": null,
       "height": null,
       "justify_content": null,
       "justify_items": null,
       "left": null,
       "margin": null,
       "max_height": null,
       "max_width": null,
       "min_height": null,
       "min_width": null,
       "object_fit": null,
       "object_position": null,
       "order": null,
       "overflow": null,
       "padding": null,
       "right": null,
       "top": null,
       "visibility": null,
       "width": null
      }
     },
     "c5f3076465f84fd1a5e22194c5610e15": {
      "model_module": "@jupyter-widgets/controls",
      "model_module_version": "2.0.0",
      "model_name": "HTMLModel",
      "state": {
       "_dom_classes": [],
       "_model_module": "@jupyter-widgets/controls",
       "_model_module_version": "2.0.0",
       "_model_name": "HTMLModel",
       "_view_count": null,
       "_view_module": "@jupyter-widgets/controls",
       "_view_module_version": "2.0.0",
       "_view_name": "HTMLView",
       "description": "",
       "description_allow_html": false,
       "layout": "IPY_MODEL_7caac9d03c28432cb7fd4ca78baf9192",
       "placeholder": "​",
       "style": "IPY_MODEL_0312ba7851b5486f8f632cdcde4d7b4b",
       "tabbable": null,
       "tooltip": null,
       "value": " 5/5 [01:13&lt;00:00, 10.59s/it]"
      }
     },
     "fd202f026fb3425096e0099080e5f401": {
      "model_module": "@jupyter-widgets/controls",
      "model_module_version": "2.0.0",
      "model_name": "FloatProgressModel",
      "state": {
       "_dom_classes": [],
       "_model_module": "@jupyter-widgets/controls",
       "_model_module_version": "2.0.0",
       "_model_name": "FloatProgressModel",
       "_view_count": null,
       "_view_module": "@jupyter-widgets/controls",
       "_view_module_version": "2.0.0",
       "_view_name": "ProgressView",
       "bar_style": "success",
       "description": "",
       "description_allow_html": false,
       "layout": "IPY_MODEL_32cfcc9f268e47439c7e860d38314291",
       "max": 5.0,
       "min": 0.0,
       "orientation": "horizontal",
       "style": "IPY_MODEL_5dd8fe785a824533b971c58578da2b41",
       "tabbable": null,
       "tooltip": null,
       "value": 5.0
      }
     }
    },
    "version_major": 2,
    "version_minor": 0
   }
  }
 },
 "nbformat": 4,
 "nbformat_minor": 5
}