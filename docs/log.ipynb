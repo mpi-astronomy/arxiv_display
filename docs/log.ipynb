{
 "cells": [
  {
   "cell_type": "markdown",
   "id": "92bcb855",
   "metadata": {
    "papermill": {
     "duration": 0.004799,
     "end_time": "2023-07-14T04:08:17.117732",
     "exception": false,
     "start_time": "2023-07-14T04:08:17.112933",
     "status": "completed"
    },
    "tags": []
   },
   "source": [
    "# MPIA Arxiv on Deck 2\n",
    "\n",
    "Contains the steps to produce the paper extractions."
   ]
  },
  {
   "cell_type": "code",
   "execution_count": 1,
   "id": "3a0d6e11",
   "metadata": {
    "execution": {
     "iopub.execute_input": "2023-07-14T04:08:17.127389Z",
     "iopub.status.busy": "2023-07-14T04:08:17.126908Z",
     "iopub.status.idle": "2023-07-14T04:08:17.365591Z",
     "shell.execute_reply": "2023-07-14T04:08:17.364521Z"
    },
    "papermill": {
     "duration": 0.246026,
     "end_time": "2023-07-14T04:08:17.367739",
     "exception": false,
     "start_time": "2023-07-14T04:08:17.121713",
     "status": "completed"
    },
    "tags": []
   },
   "outputs": [],
   "source": [
    "# Imports\n",
    "import os\n",
    "from IPython.display import Markdown, display\n",
    "from tqdm.notebook import tqdm\n",
    "import warnings\n",
    "from PIL import Image \n",
    "\n",
    "# requires arxiv_on_deck_2\n",
    "\n",
    "from arxiv_on_deck_2.arxiv2 import (get_new_papers, \n",
    "                                    get_paper_from_identifier,\n",
    "                                    retrieve_document_source, \n",
    "                                    get_markdown_badge)\n",
    "from arxiv_on_deck_2 import (latex,\n",
    "                             latex_bib,\n",
    "                             mpia,\n",
    "                             highlight_authors_in_list)\n",
    "\n",
    "# Sometimes images are really big\n",
    "Image.MAX_IMAGE_PIXELS = 1000000000 "
   ]
  },
  {
   "cell_type": "code",
   "execution_count": 2,
   "id": "22aa9d44",
   "metadata": {
    "execution": {
     "iopub.execute_input": "2023-07-14T04:08:17.376836Z",
     "iopub.status.busy": "2023-07-14T04:08:17.376353Z",
     "iopub.status.idle": "2023-07-14T04:08:17.382279Z",
     "shell.execute_reply": "2023-07-14T04:08:17.381620Z"
    },
    "papermill": {
     "duration": 0.012384,
     "end_time": "2023-07-14T04:08:17.383965",
     "exception": false,
     "start_time": "2023-07-14T04:08:17.371581",
     "status": "completed"
    },
    "tags": []
   },
   "outputs": [],
   "source": [
    "# Some useful definitions.\n",
    "\n",
    "class AffiliationWarning(UserWarning):\n",
    "    pass\n",
    "\n",
    "class AffiliationError(RuntimeError):\n",
    "    pass\n",
    "\n",
    "def validation(source: str):\n",
    "    \"\"\"Raises error paper during parsing of source file\n",
    "    \n",
    "    Allows checks before parsing TeX code.\n",
    "    \n",
    "    Raises AffiliationWarning\n",
    "    \"\"\"\n",
    "    check = mpia.affiliation_verifications(source, verbose=True)\n",
    "    if check is not True:\n",
    "        raise AffiliationError(\"mpia.affiliation_verifications: \" + check)\n",
    "\n",
    "        \n",
    "warnings.simplefilter('always', AffiliationWarning)\n",
    "\n",
    "\n",
    "def get_markdown_qrcode(paper_id: str):\n",
    "    \"\"\" Generate a qrcode to the arxiv page using qrserver.com\n",
    "    \n",
    "    :param paper: Arxiv paper\n",
    "    :returns: markdown text\n",
    "    \"\"\"\n",
    "    url = r\"https://api.qrserver.com/v1/create-qr-code/?size=100x100&data=\"\n",
    "    txt = f\"\"\"<img src={url}\"https://arxiv.org/abs/{paper_id}\">\"\"\"\n",
    "    txt = '<div id=\"qrcode\">' + txt + '</div>'\n",
    "    return txt"
   ]
  },
  {
   "cell_type": "markdown",
   "id": "14bd6310",
   "metadata": {
    "papermill": {
     "duration": 0.003429,
     "end_time": "2023-07-14T04:08:17.390907",
     "exception": false,
     "start_time": "2023-07-14T04:08:17.387478",
     "status": "completed"
    },
    "tags": []
   },
   "source": [
    "## get list of arxiv paper candidates\n",
    "\n",
    "We use the MPIA mitarbeiter list webpage from mpia.de to get author names\n",
    "We then get all new papers from Arxiv and match authors"
   ]
  },
  {
   "cell_type": "code",
   "execution_count": 3,
   "id": "2645e73a",
   "metadata": {
    "execution": {
     "iopub.execute_input": "2023-07-14T04:08:17.399440Z",
     "iopub.status.busy": "2023-07-14T04:08:17.398822Z",
     "iopub.status.idle": "2023-07-14T04:08:37.177132Z",
     "shell.execute_reply": "2023-07-14T04:08:37.176406Z"
    },
    "papermill": {
     "duration": 19.784373,
     "end_time": "2023-07-14T04:08:37.178779",
     "exception": false,
     "start_time": "2023-07-14T04:08:17.394406",
     "status": "completed"
    },
    "tags": []
   },
   "outputs": [
    {
     "name": "stdout",
     "output_type": "stream",
     "text": [
      "X. Zhang  ->  X. Zhang  |  ['X. Zhang']\n",
      "O. Krause  ->  O. Krause  |  ['O. Krause']\n",
      "M. Güdel  ->  M. Güdel  |  ['M. Güdel']\n",
      "Arxiv has 50 new papers today\n",
      "          2 with possible author matches\n"
     ]
    }
   ],
   "source": [
    "# get list from MPIA website\n",
    "# it automatically filters identified non-scientists :func:`mpia.filter_non_scientists`\n",
    "mpia_authors = mpia.get_mpia_mitarbeiter_list()\n",
    "normed_mpia_authors = [k[1] for k in mpia_authors]   # initials + fullname\n",
    "new_papers = get_new_papers()\n",
    "# add manual references\n",
    "add_paper_refs = []\n",
    "new_papers.extend([get_paper_from_identifier(k) for k in add_paper_refs])\n",
    "\n",
    "candidates = []\n",
    "for paperk in new_papers:\n",
    "    # Check author list with their initials\n",
    "    normed_author_list = [mpia.get_initials(k) for k in paperk['authors']]\n",
    "    hl_authors = highlight_authors_in_list(normed_author_list, normed_mpia_authors, verbose=True)\n",
    "    matches = [(hl, orig) for hl, orig in zip(hl_authors, paperk['authors']) if 'mark' in hl]\n",
    "    paperk['authors'] = hl_authors\n",
    "    if matches:\n",
    "        # only select paper if an author matched our list\n",
    "        candidates.append(paperk)\n",
    "print(\"\"\"Arxiv has {0:,d} new papers today\"\"\".format(len(new_papers)))        \n",
    "print(\"\"\"          {0:,d} with possible author matches\"\"\".format(len(candidates)))"
   ]
  },
  {
   "cell_type": "markdown",
   "id": "3543b34a",
   "metadata": {
    "papermill": {
     "duration": 0.004981,
     "end_time": "2023-07-14T04:08:37.187724",
     "exception": false,
     "start_time": "2023-07-14T04:08:37.182743",
     "status": "completed"
    },
    "tags": []
   },
   "source": [
    "# Parse sources and generate relevant outputs\n",
    "\n",
    "From the candidates, we do the following steps:\n",
    "* get their tarball from ArXiv (and extract data)\n",
    "* find the main .tex file: find one with \\documentclass{...} (sometimes it's non trivial)\n",
    "* Check affiliations with :func:`validation`, which uses :func:`mpia.affiliation_verifications`\n",
    "* If passing the affiliations: we parse the .tex source\n",
    "   * inject sub-documents into the main (flatten the main document)\n",
    "   * parse structure, extract information (title, abstract, authors, figures...)\n",
    "   * handles `\\graphicspath` if provided\n",
    "* Generate the .md document."
   ]
  },
  {
   "cell_type": "code",
   "execution_count": 4,
   "id": "9576b79e",
   "metadata": {
    "execution": {
     "iopub.execute_input": "2023-07-14T04:08:37.196672Z",
     "iopub.status.busy": "2023-07-14T04:08:37.196154Z",
     "iopub.status.idle": "2023-07-14T04:09:41.414490Z",
     "shell.execute_reply": "2023-07-14T04:09:41.413820Z"
    },
    "papermill": {
     "duration": 64.229711,
     "end_time": "2023-07-14T04:09:41.421023",
     "exception": false,
     "start_time": "2023-07-14T04:08:37.191312",
     "status": "completed"
    },
    "scrolled": false,
    "tags": []
   },
   "outputs": [
    {
     "data": {
      "application/vnd.jupyter.widget-view+json": {
       "model_id": "aa06df4cf5ae487ab6a4bd52701dd29b",
       "version_major": 2,
       "version_minor": 0
      },
      "text/plain": [
       "  0%|          | 0/2 [00:00<?, ?it/s]"
      ]
     },
     "metadata": {},
     "output_type": "display_data"
    },
    {
     "name": "stdout",
     "output_type": "stream",
     "text": [
      "Retrieving document from  https://arxiv.org/e-print/2307.06596\n"
     ]
    },
    {
     "name": "stdout",
     "output_type": "stream",
     "text": [
      "extracting tarball to tmp_2307.06596..."
     ]
    },
    {
     "name": "stdout",
     "output_type": "stream",
     "text": [
      " done.\n",
      "Retrieving document from  https://arxiv.org/e-print/2307.06692\n"
     ]
    },
    {
     "name": "stdout",
     "output_type": "stream",
     "text": [
      "extracting tarball to tmp_2307.06692..."
     ]
    },
    {
     "name": "stdout",
     "output_type": "stream",
     "text": [
      " done.\n"
     ]
    },
    {
     "name": "stderr",
     "output_type": "stream",
     "text": [
      "/opt/hostedtoolcache/Python/3.9.17/x64/lib/python3.9/site-packages/IPython/core/interactiveshell.py:3508: LatexWarning: Multiple tex files.\n",
      "\n",
      "  exec(code_obj, self.user_global_ns, self.user_ns)\n",
      "/opt/hostedtoolcache/Python/3.9.17/x64/lib/python3.9/site-packages/IPython/core/interactiveshell.py:3508: LatexWarning: Found documentclass in tmp_2307.06692/main.tex\n",
      "\n",
      "  exec(code_obj, self.user_global_ns, self.user_ns)\n",
      "/opt/hostedtoolcache/Python/3.9.17/x64/lib/python3.9/site-packages/arxiv_on_deck_2/latex.py:399: LatexWarning: Latex injecting: 'dust_temporal_evolution.tex' from 'tmp_2307.06692/dust_temporal_evolution.tex'\n",
      "  warnings.warn(LatexWarning(f\"Latex injecting: '{ext}' from '{subsource}'\"))\n",
      "/opt/hostedtoolcache/Python/3.9.17/x64/lib/python3.9/site-packages/arxiv_on_deck_2/latex.py:399: LatexWarning: Latex injecting: 'dust_fit_parameters.tex' from 'tmp_2307.06692/dust_fit_parameters.tex'\n",
      "  warnings.warn(LatexWarning(f\"Latex injecting: '{ext}' from '{subsource}'\"))\n"
     ]
    },
    {
     "name": "stdout",
     "output_type": "stream",
     "text": [
      "O. Krause  ->  O. Krause  |  ['O. Krause']\n",
      "M. Güdel  ->  M. Güdel  |  ['M. Güdel']\n"
     ]
    },
    {
     "name": "stdout",
     "output_type": "stream",
     "text": [
      "Found 93 bibliographic references in tmp_2307.06692/main.bbl.\n"
     ]
    }
   ],
   "source": [
    "documents = []\n",
    "failed = []\n",
    "for paper in tqdm(candidates):\n",
    "    paper_id = paper['identifier'].lower().replace('arxiv:', '')\n",
    "    \n",
    "    folder = f'tmp_{paper_id}'\n",
    "\n",
    "    try:\n",
    "        if not os.path.isdir(folder):\n",
    "            folder = retrieve_document_source(f\"{paper_id}\", f'tmp_{paper_id}')\n",
    "        \n",
    "        try:\n",
    "            doc = latex.LatexDocument(folder, validation=validation)    \n",
    "        except AffiliationError as affilerror:\n",
    "            msg = f\"ArXiv:{paper_id:s} is not an MPIA paper... \" + str(affilerror)\n",
    "            failed.append((paper, \"affiliation error: \" + str(affilerror) ))\n",
    "            continue\n",
    "        \n",
    "        # Hack because sometimes author parsing does not work well\n",
    "        if (len(doc.authors) != len(paper['authors'])):\n",
    "            doc._authors = paper['authors']\n",
    "        else:\n",
    "            # highlight authors (FIXME: doc.highlight_authors)\n",
    "            # done on arxiv paper already\n",
    "            doc._authors = highlight_authors_in_list(\n",
    "                [mpia.get_initials(k) for k in doc.authors], \n",
    "                normed_mpia_authors, verbose=True)\n",
    "        if (doc.abstract) in (None, ''):\n",
    "            doc._abstract = paper['abstract']\n",
    "            \n",
    "        doc.comment = (get_markdown_badge(paper_id) + \n",
    "                       \"<mark>Appeared on: \" + paper['date'] + \"</mark> - \")\n",
    "        if paper['comments']:\n",
    "            doc.comment += \" _\" + paper['comments'] + \"_\"\n",
    "        \n",
    "        full_md = doc.generate_markdown_text()\n",
    "        \n",
    "        full_md += get_markdown_qrcode(paper_id)\n",
    "        \n",
    "        # replace citations\n",
    "        try:\n",
    "            bibdata = latex_bib.LatexBib.from_doc(doc)\n",
    "            full_md = latex_bib.replace_citations(full_md, bibdata)\n",
    "        except Exception as e:\n",
    "            print(e)\n",
    "        \n",
    "        documents.append((paper_id, full_md))\n",
    "    except Exception as e:\n",
    "        warnings.warn(latex.LatexWarning(f\"{paper_id:s} did not run properly\\n\" +\n",
    "                                         str(e)\n",
    "                                        ))\n",
    "        failed.append((paper, \"latex error \" + str(e)))"
   ]
  },
  {
   "cell_type": "markdown",
   "id": "2505a25c",
   "metadata": {
    "papermill": {
     "duration": 0.004506,
     "end_time": "2023-07-14T04:09:41.429905",
     "exception": false,
     "start_time": "2023-07-14T04:09:41.425399",
     "status": "completed"
    },
    "tags": []
   },
   "source": [
    "### Export the logs\n",
    "\n",
    "Throughout, we also keep track of the logs per paper. see `logs-{today date}.md` "
   ]
  },
  {
   "cell_type": "code",
   "execution_count": 5,
   "id": "d733828a",
   "metadata": {
    "execution": {
     "iopub.execute_input": "2023-07-14T04:09:41.441034Z",
     "iopub.status.busy": "2023-07-14T04:09:41.439825Z",
     "iopub.status.idle": "2023-07-14T04:09:41.454837Z",
     "shell.execute_reply": "2023-07-14T04:09:41.454136Z"
    },
    "papermill": {
     "duration": 0.023856,
     "end_time": "2023-07-14T04:09:41.458065",
     "exception": false,
     "start_time": "2023-07-14T04:09:41.434209",
     "status": "completed"
    },
    "scrolled": false,
    "tags": []
   },
   "outputs": [
    {
     "data": {
      "text/markdown": [
       "## Successful papers"
      ],
      "text/plain": [
       "<IPython.core.display.Markdown object>"
      ]
     },
     "metadata": {},
     "output_type": "display_data"
    },
    {
     "data": {
      "text/markdown": [
       "\n",
       "|||\n",
       "|---:|:---|\n",
       "| [![arXiv](https://img.shields.io/badge/arXiv-arXiv:2307.06692-b31b1b.svg)](https://arxiv.org/abs/arXiv:2307.06692) | **Ejecta, Rings, and Dust in SN 1987A with JWST MIRI/MRS**  |\n",
       "|| O. C. Jones, et al. -- incl., <mark>O. Krause</mark>, <mark>M. Güdel</mark> |\n",
       "|*Appeared on*| *2023-07-14*|\n",
       "|*Comments*| *27 pages, 16 figures, 4 tables. Submitted ApJ*|\n",
       "|**Abstract**| Supernova (SN) 1987A is the nearest supernova in $\\sim$400 years. Using the {\\em JWST} MIRI Medium Resolution Spectrograph, we spatially resolved the ejecta, equatorial ring (ER) and outer rings in the mid-infrared 12,927 days after the explosion. The spectra are rich in line and dust continuum emission, both in the ejecta and the ring. Broad emission lines (280-380~km~s$^{-1}$ FWHM) seen from all singly-ionized species originate from the expanding ER, with properties consistent with dense post-shock cooling gas. Narrower emission lines (100-170~km~s$^{-1}$ FWHM) are seen from species originating from a more extended lower-density component whose high ionization may have been produced by shocks progressing through the ER, or by the UV radiation pulse associated with the original supernova event. The asymmetric east-west dust emission in the ER has continued to fade, with constant temperature, signifying a reduction in dust mass. Small grains in the ER are preferentially destroyed, with larger grains from the progenitor surviving the transition from SN into SNR. The ER is fit with a single set of optical constants, eliminating the need for a secondary featureless hot dust component. We find several broad ejecta emission lines from [Ne~{\\sc ii}], [Ar~{\\sc ii}], [Fe~{\\sc ii}], and [Ni~{\\sc ii}]. With the exception of [Fe~{\\sc ii}]~25.99$\\mu$m, these all originate from the ejecta close to the ring and are likely being excited by X-rays from the interaction. The [Fe~{\\sc ii}]~5.34$\\mu$m to 25.99$\\mu$m line ratio indicates a temperature of only a few hundred K in the inner core, consistent with being powered by ${}^{44}$Ti decay. |"
      ],
      "text/plain": [
       "[arXiv:2307.06692] Ejecta, Rings, and Dust in SN 1987A with JWST MIRI/MRS\n",
       "\tO. C. Jones, et al. -- incl., <mark>O. Krause</mark>, <mark>M. Güdel</mark>"
      ]
     },
     "metadata": {},
     "output_type": "display_data"
    },
    {
     "data": {
      "text/markdown": [
       "## Failed papers"
      ],
      "text/plain": [
       "<IPython.core.display.Markdown object>"
      ]
     },
     "metadata": {},
     "output_type": "display_data"
    },
    {
     "data": {
      "text/markdown": [
       "\n",
       "|||\n",
       "|---:|:---|\n",
       "| [![arXiv](https://img.shields.io/badge/arXiv-arXiv:2307.06596-b31b1b.svg)](https://arxiv.org/abs/arXiv:2307.06596) | **Investigating 16 Open Clusters in the Kepler/K2-Gaia DR3 field. I.  Membership, Binary, and Rotation**  |\n",
       "|| L. Long, et al. -- incl., <mark>X. Zhang</mark> |\n",
       "|*Appeared on*| *2023-07-14*|\n",
       "|*Comments*| *21 pages, 17 figures, accepted for publication in ApJS*|\n",
       "|**Abstract**| Using data from the Gaia Data Release 3 (Gaia DR3) and Kepler/K2, we present a catalog of 16 open clusters with ages ranging from 4 to 4000 Myr, which provides detailed information on membership, binary systems, and rotation. We assess the memberships in 5D phase space, and estimate the basic parameters of each cluster. Among the 20,160 members, there are 4,381 stars identified as binary candidates and 49 stars as blue straggler stars. The fraction of binaries vary in each cluster, and the range between 9% to 44%. We obtain the rotation periods of 5,467 members, of which 4,304 are determined in this work. To establish a benchmark for the rotation-age-color relation, we construct color-period diagrams. We find that the rotational features of binaries are similar to that of single stars, while features for binaries are more scattered in the rotation period. Moreover, the morphology of the color-period relationship is already established for Upper Scorpius at the age of 19 Myr, and some stars of varying spectral types (i.e. FG-, K-, and M-type) show different spin-down rates after the age of ~110 Myr. By incorporating the effects of stalled spin-down into our analysis, we develop an empirical rotation-age-color relation, which is valid with ages between 700 - 4000 Myr and colors corresponding to a range of 0.5 < (G_BP-G_RP)0 < 2.5 mag. |\n",
       "|<p style=\"color:green\"> **ERROR** </p>| <p style=\"color:green\">affiliation error: mpia.affiliation_verifications: 'Heidelberg' keyword not found.</p> |"
      ],
      "text/plain": [
       "<IPython.core.display.Markdown object>"
      ]
     },
     "metadata": {},
     "output_type": "display_data"
    }
   ],
   "source": [
    "import datetime\n",
    "today = str(datetime.date.today())\n",
    "logfile = f\"_build/html/logs/log-{today}.md\"\n",
    "\n",
    "\n",
    "with open(logfile, 'w') as logs:\n",
    "    # Success\n",
    "    logs.write(f'# Arxiv on Deck 2: Logs - {today}\\n\\n')\n",
    "    logs.write(\"\"\"* Arxiv had {0:,d} new papers\\n\"\"\".format(len(new_papers)))\n",
    "    logs.write(\"\"\"    * {0:,d} with possible author matches\\n\\n\"\"\".format(len(candidates)))\n",
    "    logs.write(\"## Sucessful papers\\n\\n\")\n",
    "    display(Markdown(\"## Successful papers\"))\n",
    "    success = [k[0] for k in documents]\n",
    "    for candid in candidates:\n",
    "        if candid['identifier'].split(':')[-1] in success:\n",
    "            display(candid)\n",
    "            logs.write(candid.generate_markdown_text() + '\\n\\n')\n",
    "\n",
    "    ## failed\n",
    "    logs.write(\"## Failed papers\\n\\n\")\n",
    "    display(Markdown(\"## Failed papers\"))\n",
    "    failed = sorted(failed, key=lambda x: x[1])\n",
    "    current_reason = \"\"\n",
    "    for paper, reason in failed:\n",
    "        if 'affiliation' in reason:\n",
    "            color = 'green'\n",
    "        else:\n",
    "            color = 'red'\n",
    "        data = Markdown(\n",
    "                paper.generate_markdown_text() + \n",
    "                f'\\n|<p style=\"color:{color:s}\"> **ERROR** </p>| <p style=\"color:{color:s}\">{reason:s}</p> |'\n",
    "               )\n",
    "        if reason != current_reason:\n",
    "            logs.write(f'### {reason:s} \\n\\n')\n",
    "            current_reason = reason\n",
    "        logs.write(data.data + '\\n\\n')\n",
    "        \n",
    "        # only display here the important errors (all in logs)\n",
    "        # if color in ('red',):\n",
    "        display(data)"
   ]
  },
  {
   "cell_type": "markdown",
   "id": "472d20ee",
   "metadata": {
    "papermill": {
     "duration": 0.004757,
     "end_time": "2023-07-14T04:09:41.467714",
     "exception": false,
     "start_time": "2023-07-14T04:09:41.462957",
     "status": "completed"
    },
    "tags": []
   },
   "source": [
    "## Export documents\n",
    "\n",
    "We now write the .md files and export relevant images"
   ]
  },
  {
   "cell_type": "code",
   "execution_count": 6,
   "id": "d426aed9",
   "metadata": {
    "execution": {
     "iopub.execute_input": "2023-07-14T04:09:41.478768Z",
     "iopub.status.busy": "2023-07-14T04:09:41.478199Z",
     "iopub.status.idle": "2023-07-14T04:09:41.486820Z",
     "shell.execute_reply": "2023-07-14T04:09:41.486069Z"
    },
    "papermill": {
     "duration": 0.016052,
     "end_time": "2023-07-14T04:09:41.488442",
     "exception": false,
     "start_time": "2023-07-14T04:09:41.472390",
     "status": "completed"
    },
    "tags": []
   },
   "outputs": [],
   "source": [
    "def export_markdown_summary(md: str, md_fname:str, directory: str):\n",
    "    \"\"\"Export MD document and associated relevant images\"\"\"\n",
    "    import os\n",
    "    import shutil\n",
    "    import re\n",
    "\n",
    "    if (os.path.exists(directory) and not os.path.isdir(directory)):\n",
    "        raise RuntimeError(f\"a non-directory file exists with name {directory:s}\")\n",
    "\n",
    "    if (not os.path.exists(directory)):\n",
    "        print(f\"creating directory {directory:s}\")\n",
    "        os.mkdir(directory)\n",
    "\n",
    "    fig_fnames = (re.compile(r'\\[Fig.*\\]\\((.*)\\)').findall(md) + \n",
    "                  re.compile(r'\\<img src=\"([^>\\s]*)\"[^>]*/>').findall(md))\n",
    "    for fname in fig_fnames:\n",
    "        if 'http' in fname:\n",
    "            # No need to copy online figures\n",
    "            continue\n",
    "        destdir = os.path.join(directory, os.path.dirname(fname))\n",
    "        destfname = os.path.join(destdir, os.path.basename(fname))\n",
    "        try:\n",
    "            os.makedirs(destdir)\n",
    "        except FileExistsError:\n",
    "            pass\n",
    "        shutil.copy(fname, destfname)\n",
    "    with open(os.path.join(directory, md_fname), 'w') as fout:\n",
    "        fout.write(md)\n",
    "    print(\"exported in \", os.path.join(directory, md_fname))\n",
    "    [print(\"    + \" + os.path.join(directory,fk)) for fk in fig_fnames]"
   ]
  },
  {
   "cell_type": "code",
   "execution_count": 7,
   "id": "014d04a4",
   "metadata": {
    "execution": {
     "iopub.execute_input": "2023-07-14T04:09:41.499407Z",
     "iopub.status.busy": "2023-07-14T04:09:41.498919Z",
     "iopub.status.idle": "2023-07-14T04:09:41.506109Z",
     "shell.execute_reply": "2023-07-14T04:09:41.505462Z"
    },
    "papermill": {
     "duration": 0.014357,
     "end_time": "2023-07-14T04:09:41.507658",
     "exception": false,
     "start_time": "2023-07-14T04:09:41.493301",
     "status": "completed"
    },
    "tags": []
   },
   "outputs": [
    {
     "name": "stdout",
     "output_type": "stream",
     "text": [
      "exported in  _build/html/2307.06692.md\n",
      "    + _build/html/tmp_2307.06692/./Figures/eq_extraction_regions.png\n",
      "    + _build/html/tmp_2307.06692/./Figures/cps_extraction_regions.png\n",
      "    + _build/html/tmp_2307.06692/./Figures/day12927_new_fit_astrodust.png\n",
      "    + _build/html/tmp_2307.06692/./Figures/day12927_new_fit_crb_sil.png\n",
      "    + _build/html/tmp_2307.06692/./Figures/day12927_new_fit_fe_sil.png\n",
      "    + _build/html/tmp_2307.06692/./Figures/cubes_det_features.png\n"
     ]
    }
   ],
   "source": [
    "for paper_id, md in documents:\n",
    "    export_markdown_summary(md, f\"{paper_id:s}.md\", '_build/html/')"
   ]
  },
  {
   "cell_type": "markdown",
   "id": "f087a0a7",
   "metadata": {
    "papermill": {
     "duration": 0.004923,
     "end_time": "2023-07-14T04:09:41.517517",
     "exception": false,
     "start_time": "2023-07-14T04:09:41.512594",
     "status": "completed"
    },
    "tags": []
   },
   "source": [
    "## Display the papers\n",
    "\n",
    "Not necessary but allows for a quick check."
   ]
  },
  {
   "cell_type": "code",
   "execution_count": 8,
   "id": "fd25f625",
   "metadata": {
    "execution": {
     "iopub.execute_input": "2023-07-14T04:09:41.529073Z",
     "iopub.status.busy": "2023-07-14T04:09:41.528340Z",
     "iopub.status.idle": "2023-07-14T04:09:41.534148Z",
     "shell.execute_reply": "2023-07-14T04:09:41.533453Z"
    },
    "papermill": {
     "duration": 0.013404,
     "end_time": "2023-07-14T04:09:41.535745",
     "exception": false,
     "start_time": "2023-07-14T04:09:41.522341",
     "status": "completed"
    },
    "scrolled": false,
    "tags": []
   },
   "outputs": [
    {
     "data": {
      "text/markdown": [
       "<div class=\"macros\" style=\"visibility:hidden;\">\n",
       "$\\newcommand{\\ensuremath}{}$\n",
       "$\\newcommand{\\xspace}{}$\n",
       "$\\newcommand{\\object}[1]{\\texttt{#1}}$\n",
       "$\\newcommand{\\farcs}{{.}''}$\n",
       "$\\newcommand{\\farcm}{{.}'}$\n",
       "$\\newcommand{\\arcsec}{''}$\n",
       "$\\newcommand{\\arcmin}{'}$\n",
       "$\\newcommand{\\ion}[2]{#1#2}$\n",
       "$\\newcommand{\\textsc}[1]{\\textrm{#1}}$\n",
       "$\\newcommand{\\hl}[1]{\\textrm{#1}}$\n",
       "$\\newcommand{\\footnote}[1]{}$\n",
       "$\\newcommand{\\Msun}{ M_\\odot  }$\n",
       "$\\newcommand{\\dg}{^\\circ}$\n",
       "$\\newcommand{\\kms}{\\rm{km s^{-1}}}$\n",
       "$\\newcommand{\\ergcms}{\\rm erg~cm^{-2}~s^{-1}}$</div>\n",
       "\n",
       "\n",
       "\n",
       "<div id=\"title\">\n",
       "\n",
       "# Ejecta, Rings, and Dust in SN 1987A with JWST MIRI/MRS\n",
       "\n",
       "</div>\n",
       "<div id=\"comments\">\n",
       "\n",
       "[![arXiv](https://img.shields.io/badge/arXiv-2307.06692-b31b1b.svg)](https://arxiv.org/abs/2307.06692)<mark>Appeared on: 2023-07-14</mark> -  _27 pages, 16 figures, 4 tables. Submitted ApJ_\n",
       "\n",
       "</div>\n",
       "<div id=\"authors\">\n",
       "\n",
       "O. C. Jones, et al. -- incl., <mark>O. Krause</mark>, <mark>M. Güdel</mark>\n",
       "\n",
       "</div>\n",
       "<div id=\"abstract\">\n",
       "\n",
       "**Abstract:** Supernova (SN) 1987A is the nearest supernova in $\\sim$ 400 years. Using the $* JWST*$ MIRI Medium Resolution Spectrograph, we spatially resolved the ejecta, equatorial ring (ER) and outer rings in the mid-infrared 12,927 days after the explosion.The spectra are rich in line and dust continuum emission, both in the ejecta and the ring.Broad emission lines (280-380 km s $^{-1}$ FWHM) seen from all singly-ionized species originate from the expanding ER, with properties consistent with dense post-shock cooling gas.Narrower emission lines (100-170 km s $^{-1}$ FWHM) are seen from species originating from a more extended lower-density component whose high ionization may have been produced by shocks progressing through the ER, or by the UV radiation pulse associated with the original supernova event.The asymmetric east-west dust emission in the ER has continued to fade, with constant temperature, signifying a reduction in dust mass. Small grains in the ER are preferentially destroyed, with larger grains from the progenitor surviving the transition from SN into SNR.The ER is fit with a single set of optical constants, eliminating the need for a secondary featureless hot dust component.We find several broad ejecta emission lines from [ Ne ${\\sc ii}$ ] , [ Ar ${\\sc ii}$ ] , [ Fe ${\\sc ii}$ ] , and [ Ni ${\\sc ii}$ ] . With the exception of [ Fe ${\\sc ii}$ ] 25.99 $\\mu$ m, these all originate from the ejecta close to the ring and are likely being excited by X-rays from the interaction. The [ Fe ${\\sc ii}$ ] 5.34 $\\mu$ m to 25.99 $\\mu$ m line ratio indicates a temperature of only a few hundred K in the inner core, consistent with being powered by $ ^{44}$ Ti decay.\n",
       "\n",
       "</div>\n",
       "\n",
       "<div id=\"div_fig1\">\n",
       "\n",
       "<img src=\"tmp_2307.06692/./Figures/eq_extraction_regions.png\" alt=\"Fig4.1\" width=\"50%\"/><img src=\"tmp_2307.06692/./Figures/cps_extraction_regions.png\" alt=\"Fig4.2\" width=\"50%\"/>\n",
       "\n",
       "**Figure 4. -** Top row: The spectra extraction regions for the ER spectra plotted on band A in each channel. The total ER spectrum was extracted from the white elliptical annulus, with the east and west ER extracted from the segments on the left and right. Bottom row: Same as top but for the cardinal point and ejecta spectra. In both rows, the location of the outer rings is shown by the two faded ellipses, the channels 1--3 background inner boundaries are shown by the dashed cyan circles, and the channel 4 background region is shown by the dashed cyan polygon. The `entire' SN 1987A system spectrum was extracted from a region slightly smaller than the inner boundary of the background regions and excluding Star 3. North is up, east is left. (*Fig:spec_extraction_Regions*)\n",
       "\n",
       "</div>\n",
       "<div id=\"div_fig2\">\n",
       "\n",
       "<img src=\"tmp_2307.06692/./Figures/day12927_new_fit_astrodust.png\" alt=\"Fig11.1\" width=\"33%\"/><img src=\"tmp_2307.06692/./Figures/day12927_new_fit_crb_sil.png\" alt=\"Fig11.2\" width=\"33%\"/><img src=\"tmp_2307.06692/./Figures/day12927_new_fit_fe_sil.png\" alt=\"Fig11.3\" width=\"33%\"/>\n",
       "\n",
       "**Figure 11. -** Fits to the MRS and NIRspec data using the two-temperature dust compositions of _astrodust_ ([Hensley and Draine 2023]())  in the top panel, carbon and silicates  ([Draine and Lee 1984]())  in the middle panel, and silicates  ([Draine and Lee 1984]())  and iron dust in the bottom panel. The synchrotron emission (orange line) has been extrapolated from ALMA observations based on the models described in [Cendes, Gaensler and Ng (2018)]() and [Cigan, Matsuura and Gomez (2019)]()(see text for details). The emission from the H and He continuum and lines (purple line) is described in [Larsson, Fransson and Sargent (2023)]().  The best-fit parameters for the dust components are summarized in Table \\ref{Table:dusttab}. (*Fig:astrodust_fit*)\n",
       "\n",
       "</div>\n",
       "<div id=\"div_fig3\">\n",
       "\n",
       "<img src=\"tmp_2307.06692/./Figures/cubes_det_features.png\" alt=\"Fig3\" width=\"100%\"/>\n",
       "\n",
       "**Figure 3. -** Sample slices from our 12 MRS sub-band cubes, with the band labels shown in the top-left. The white lines in each pane represent 1.0 arcsec to highlight the increasing size of the FOV, as well as the decreasing spatial resolution from channels 1 to 4. `Star 3' is visible to the lower left of the ER in bands 1A--2A. North is up, east is left. (*Fig:cube_det_feat*)\n",
       "\n",
       "</div><div id=\"qrcode\"><img src=https://api.qrserver.com/v1/create-qr-code/?size=100x100&data=\"https://arxiv.org/abs/2307.06692\"></div>"
      ],
      "text/plain": [
       "<IPython.core.display.Markdown object>"
      ]
     },
     "metadata": {},
     "output_type": "display_data"
    }
   ],
   "source": [
    "[display(Markdown(k[1])) for k in documents];"
   ]
  },
  {
   "cell_type": "markdown",
   "id": "873873a4",
   "metadata": {
    "papermill": {
     "duration": 0.005174,
     "end_time": "2023-07-14T04:09:41.546237",
     "exception": false,
     "start_time": "2023-07-14T04:09:41.541063",
     "status": "completed"
    },
    "tags": []
   },
   "source": [
    "# Create HTML index"
   ]
  },
  {
   "cell_type": "code",
   "execution_count": 9,
   "id": "cf665672",
   "metadata": {
    "execution": {
     "iopub.execute_input": "2023-07-14T04:09:41.558267Z",
     "iopub.status.busy": "2023-07-14T04:09:41.557615Z",
     "iopub.status.idle": "2023-07-14T04:09:41.567365Z",
     "shell.execute_reply": "2023-07-14T04:09:41.566674Z"
    },
    "papermill": {
     "duration": 0.017581,
     "end_time": "2023-07-14T04:09:41.568950",
     "exception": false,
     "start_time": "2023-07-14T04:09:41.551369",
     "status": "completed"
    },
    "tags": []
   },
   "outputs": [
    {
     "name": "stdout",
     "output_type": "stream",
     "text": [
      "228  publications files modified in the last 7 days.\n"
     ]
    }
   ],
   "source": [
    "from datetime import datetime, timedelta, timezone\n",
    "from glob import glob\n",
    "import os\n",
    "\n",
    "files = glob('_build/html/*.md')\n",
    "days = 7\n",
    "now = datetime.today()\n",
    "res = []\n",
    "for fk in files:\n",
    "    stat_result = os.stat(fk).st_ctime\n",
    "    modified = datetime.fromtimestamp(stat_result, tz=timezone.utc).replace(tzinfo=None)\n",
    "    delta = now.today() - modified\n",
    "    if delta <= timedelta(days=days):\n",
    "        res.append((delta.seconds, fk))\n",
    "res = [k[1] for k in reversed(sorted(res, key=lambda x:x[1]))]\n",
    "npub = len(res)\n",
    "print(len(res), f\" publications files modified in the last {days:d} days.\")\n",
    "# [ print('\\t', k) for k in res ];"
   ]
  },
  {
   "cell_type": "code",
   "execution_count": 10,
   "id": "015de740",
   "metadata": {
    "execution": {
     "iopub.execute_input": "2023-07-14T04:09:41.580878Z",
     "iopub.status.busy": "2023-07-14T04:09:41.580375Z",
     "iopub.status.idle": "2023-07-14T04:09:41.599150Z",
     "shell.execute_reply": "2023-07-14T04:09:41.598470Z"
    },
    "papermill": {
     "duration": 0.026523,
     "end_time": "2023-07-14T04:09:41.600680",
     "exception": false,
     "start_time": "2023-07-14T04:09:41.574157",
     "status": "completed"
    },
    "tags": []
   },
   "outputs": [
    {
     "name": "stdout",
     "output_type": "stream",
     "text": [
      "2  publications in the last 7 days.\n"
     ]
    }
   ],
   "source": [
    "import datetime\n",
    "from glob import glob\n",
    "\n",
    "def get_last_n_days(lst, days=1):\n",
    "    \"\"\" Get the documents from the last n days \"\"\"\n",
    "    sorted_lst = sorted(lst, key=lambda x: x[1], reverse=True)\n",
    "    for fname, date in sorted_lst:\n",
    "        if date >= str(datetime.date.today() - datetime.timedelta(days=days)):\n",
    "            yield fname\n",
    "\n",
    "def extract_appearance_dates(lst_file):\n",
    "    dates = []\n",
    "\n",
    "    def get_date(line):\n",
    "        return line\\\n",
    "            .split('Appeared on:')[-1]\\\n",
    "            .split('</mark>')[0].strip()\n",
    "\n",
    "    for fname in lst:\n",
    "        with open(fname, 'r') as f:\n",
    "            found_date = False\n",
    "            for line in f:\n",
    "                if not found_date:\n",
    "                    if \"Appeared on\" in line:\n",
    "                        found_date = True\n",
    "                        dates.append((fname, get_date(line)))\n",
    "                else:\n",
    "                    break\n",
    "    return dates\n",
    "\n",
    "from glob import glob\n",
    "lst = glob('_build/html/*md')\n",
    "days = 7\n",
    "dates = extract_appearance_dates(lst)\n",
    "res = list(get_last_n_days(dates, days))\n",
    "npub = len(res)\n",
    "print(len(res), f\" publications in the last {days:d} days.\")"
   ]
  },
  {
   "cell_type": "code",
   "execution_count": 11,
   "id": "52ca0208",
   "metadata": {
    "execution": {
     "iopub.execute_input": "2023-07-14T04:09:41.612740Z",
     "iopub.status.busy": "2023-07-14T04:09:41.612289Z",
     "iopub.status.idle": "2023-07-14T04:09:41.618201Z",
     "shell.execute_reply": "2023-07-14T04:09:41.617646Z"
    },
    "papermill": {
     "duration": 0.013916,
     "end_time": "2023-07-14T04:09:41.619905",
     "exception": false,
     "start_time": "2023-07-14T04:09:41.605989",
     "status": "completed"
    },
    "scrolled": false,
    "tags": []
   },
   "outputs": [],
   "source": [
    "def create_carousel(npub=4):\n",
    "    \"\"\" Generate the HTML code for a carousel with `npub` slides \"\"\"\n",
    "    carousel = [\"\"\"  <div class=\"carousel\" \"\"\",\n",
    "                \"\"\"       data-flickity='{ \"autoPlay\": 10000, \"adaptiveHeight\": true, \"resize\": true, \"wrapAround\": true, \"pauseAutoPlayOnHover\": true, \"groupCells\": 1 }' id=\"asyncTypeset\">\"\"\"\n",
    "                ]\n",
    "    \n",
    "    item_str = \"\"\"    <div class=\"carousel-cell\"> <div id=\"slide{k}\" class=\"md_view\">Content {k}</div> </div>\"\"\"\n",
    "    for k in range(1, npub + 1):\n",
    "        carousel.append(item_str.format(k=k))\n",
    "    carousel.append(\"  </div>\")\n",
    "    return '\\n'.join(carousel)\n",
    "\n",
    "def create_grid(npub=4):\n",
    "    \"\"\" Generate the HTML code for a flat grid with `npub` slides \"\"\"\n",
    "    grid = [\"\"\"  <div class=\"grid\"> \"\"\",\n",
    "                ]\n",
    "    \n",
    "    item_str = \"\"\"    <div class=\"grid-item\"> <div id=\"slide{k}\" class=\"md_view\">Content {k}</div> </div>\"\"\"\n",
    "    for k in range(1, npub + 1):\n",
    "        grid.append(item_str.format(k=k))\n",
    "    grid.append(\"  </div>\")\n",
    "    return '\\n'.join(grid)"
   ]
  },
  {
   "cell_type": "code",
   "execution_count": 12,
   "id": "a6eac5b6",
   "metadata": {
    "execution": {
     "iopub.execute_input": "2023-07-14T04:09:41.632894Z",
     "iopub.status.busy": "2023-07-14T04:09:41.632518Z",
     "iopub.status.idle": "2023-07-14T04:09:41.639134Z",
     "shell.execute_reply": "2023-07-14T04:09:41.638586Z"
    },
    "papermill": {
     "duration": 0.015243,
     "end_time": "2023-07-14T04:09:41.640984",
     "exception": false,
     "start_time": "2023-07-14T04:09:41.625741",
     "status": "completed"
    },
    "scrolled": false,
    "tags": []
   },
   "outputs": [],
   "source": [
    "carousel = create_carousel(npub)\n",
    "docs = ', '.join(['\"{0:s}\"'.format(k.split('/')[-1]) for k in res])\n",
    "slides = ', '.join([f'\"slide{k}\"' for k in range(1, npub + 1)])\n",
    "\n",
    "with open(\"daily_template.html\", \"r\") as tpl:\n",
    "    page = tpl.read()\n",
    "    page = page.replace(\"{%-- carousel:s --%}\", carousel)\\\n",
    "               .replace(\"{%-- suptitle:s --%}\",  \"7-day archives\" )\\\n",
    "               .replace(\"{%-- docs:s --%}\", docs)\\\n",
    "               .replace(\"{%-- slides:s --%}\", slides)\n",
    "    \n",
    "with open(\"_build/html/index_7days.html\", 'w') as fout:\n",
    "    fout.write(page)"
   ]
  },
  {
   "cell_type": "code",
   "execution_count": 13,
   "id": "adc1a1ec",
   "metadata": {
    "execution": {
     "iopub.execute_input": "2023-07-14T04:09:41.653713Z",
     "iopub.status.busy": "2023-07-14T04:09:41.653263Z",
     "iopub.status.idle": "2023-07-14T04:09:41.660288Z",
     "shell.execute_reply": "2023-07-14T04:09:41.659757Z"
    },
    "papermill": {
     "duration": 0.015181,
     "end_time": "2023-07-14T04:09:41.661728",
     "exception": false,
     "start_time": "2023-07-14T04:09:41.646547",
     "status": "completed"
    },
    "tags": []
   },
   "outputs": [
    {
     "name": "stdout",
     "output_type": "stream",
     "text": [
      "1  publications in the last day.\n"
     ]
    }
   ],
   "source": [
    "# redo for today\n",
    "days = 1\n",
    "res = list(get_last_n_days(dates, days))\n",
    "npub = len(res)\n",
    "print(len(res), f\" publications in the last day.\")\n",
    "\n",
    "carousel = create_carousel(npub)\n",
    "docs = ', '.join(['\"{0:s}\"'.format(k.split('/')[-1]) for k in res])\n",
    "slides = ', '.join([f'\"slide{k}\"' for k in range(1, npub + 1)])\n",
    "\n",
    "with open(\"daily_template.html\", \"r\") as tpl:\n",
    "    page = tpl.read()\n",
    "    page = page.replace(\"{%-- carousel:s --%}\", carousel)\\\n",
    "               .replace(\"{%-- suptitle:s --%}\",  \"Daily\" )\\\n",
    "               .replace(\"{%-- docs:s --%}\", docs)\\\n",
    "               .replace(\"{%-- slides:s --%}\", slides)\n",
    "    \n",
    "# print(carousel, docs, slides)\n",
    "# print(page)\n",
    "with open(\"_build/html/index_daily.html\", 'w') as fout:\n",
    "    fout.write(page)"
   ]
  },
  {
   "cell_type": "code",
   "execution_count": 14,
   "id": "00eece82",
   "metadata": {
    "execution": {
     "iopub.execute_input": "2023-07-14T04:09:41.674012Z",
     "iopub.status.busy": "2023-07-14T04:09:41.673628Z",
     "iopub.status.idle": "2023-07-14T04:09:41.680356Z",
     "shell.execute_reply": "2023-07-14T04:09:41.679836Z"
    },
    "papermill": {
     "duration": 0.014536,
     "end_time": "2023-07-14T04:09:41.681793",
     "exception": false,
     "start_time": "2023-07-14T04:09:41.667257",
     "status": "completed"
    },
    "scrolled": false,
    "tags": []
   },
   "outputs": [
    {
     "name": "stdout",
     "output_type": "stream",
     "text": [
      "6  6 publications selected.\n"
     ]
    }
   ],
   "source": [
    "# Create the flat grid of the last N papers (fixed number regardless of dates)\n",
    "from itertools import islice \n",
    "\n",
    "npub = 6\n",
    "res = [k[0] for k in (islice(reversed(sorted(dates, key=lambda x: x[1])), 6))]\n",
    "print(len(res), f\" {npub} publications selected.\")\n",
    "\n",
    "grid = create_grid(npub)\n",
    "docs = ', '.join(['\"{0:s}\"'.format(k.split('/')[-1]) for k in res])\n",
    "slides = ', '.join([f'\"slide{k}\"' for k in range(1, npub + 1)])\n",
    "\n",
    "with open(\"grid_template.html\", \"r\") as tpl:\n",
    "    page = tpl.read()\n",
    "    page = page.replace(\"{%-- grid-content:s --%}\", grid)\\\n",
    "               .replace(\"{%-- suptitle:s --%}\",  f\"Last {npub:,d} papers\" )\\\n",
    "               .replace(\"{%-- docs:s --%}\", docs)\\\n",
    "               .replace(\"{%-- slides:s --%}\", slides)\n",
    "    \n",
    "# print(grid, docs, slides)\n",
    "# print(page)\n",
    "with open(\"_build/html/index_npub_grid.html\", 'w') as fout:\n",
    "    fout.write(page)"
   ]
  }
 ],
 "metadata": {
  "kernelspec": {
   "display_name": "Python 3 (ipykernel)",
   "language": "python",
   "name": "python3"
  },
  "language_info": {
   "codemirror_mode": {
    "name": "ipython",
    "version": 3
   },
   "file_extension": ".py",
   "mimetype": "text/x-python",
   "name": "python",
   "nbconvert_exporter": "python",
   "pygments_lexer": "ipython3",
   "version": "3.9.17"
  },
  "papermill": {
   "default_parameters": {},
   "duration": 86.233923,
   "end_time": "2023-07-14T04:09:42.004927",
   "environment_variables": {},
   "exception": null,
   "input_path": "MPIA daily digest.ipynb",
   "output_path": "log.ipynb",
   "parameters": {},
   "start_time": "2023-07-14T04:08:15.771004",
   "version": "2.4.0"
  },
  "vscode": {
   "interpreter": {
    "hash": "aee8b7b246df8f9039afb4144a1f6fd8d2ca17a180786b69acc140d282b71a49"
   }
  },
  "widgets": {
   "application/vnd.jupyter.widget-state+json": {
    "state": {
     "0f1302eb38d14430b3f0f20fdfd3d382": {
      "model_module": "@jupyter-widgets/base",
      "model_module_version": "2.0.0",
      "model_name": "LayoutModel",
      "state": {
       "_model_module": "@jupyter-widgets/base",
       "_model_module_version": "2.0.0",
       "_model_name": "LayoutModel",
       "_view_count": null,
       "_view_module": "@jupyter-widgets/base",
       "_view_module_version": "2.0.0",
       "_view_name": "LayoutView",
       "align_content": null,
       "align_items": null,
       "align_self": null,
       "border_bottom": null,
       "border_left": null,
       "border_right": null,
       "border_top": null,
       "bottom": null,
       "display": null,
       "flex": null,
       "flex_flow": null,
       "grid_area": null,
       "grid_auto_columns": null,
       "grid_auto_flow": null,
       "grid_auto_rows": null,
       "grid_column": null,
       "grid_gap": null,
       "grid_row": null,
       "grid_template_areas": null,
       "grid_template_columns": null,
       "grid_template_rows": null,
       "height": null,
       "justify_content": null,
       "justify_items": null,
       "left": null,
       "margin": null,
       "max_height": null,
       "max_width": null,
       "min_height": null,
       "min_width": null,
       "object_fit": null,
       "object_position": null,
       "order": null,
       "overflow": null,
       "padding": null,
       "right": null,
       "top": null,
       "visibility": null,
       "width": null
      }
     },
     "1de7826fe0db4a708be372f19ec68b11": {
      "model_module": "@jupyter-widgets/base",
      "model_module_version": "2.0.0",
      "model_name": "LayoutModel",
      "state": {
       "_model_module": "@jupyter-widgets/base",
       "_model_module_version": "2.0.0",
       "_model_name": "LayoutModel",
       "_view_count": null,
       "_view_module": "@jupyter-widgets/base",
       "_view_module_version": "2.0.0",
       "_view_name": "LayoutView",
       "align_content": null,
       "align_items": null,
       "align_self": null,
       "border_bottom": null,
       "border_left": null,
       "border_right": null,
       "border_top": null,
       "bottom": null,
       "display": null,
       "flex": null,
       "flex_flow": null,
       "grid_area": null,
       "grid_auto_columns": null,
       "grid_auto_flow": null,
       "grid_auto_rows": null,
       "grid_column": null,
       "grid_gap": null,
       "grid_row": null,
       "grid_template_areas": null,
       "grid_template_columns": null,
       "grid_template_rows": null,
       "height": null,
       "justify_content": null,
       "justify_items": null,
       "left": null,
       "margin": null,
       "max_height": null,
       "max_width": null,
       "min_height": null,
       "min_width": null,
       "object_fit": null,
       "object_position": null,
       "order": null,
       "overflow": null,
       "padding": null,
       "right": null,
       "top": null,
       "visibility": null,
       "width": null
      }
     },
     "1e655462066949f8b25e3ac6bac21a21": {
      "model_module": "@jupyter-widgets/controls",
      "model_module_version": "2.0.0",
      "model_name": "ProgressStyleModel",
      "state": {
       "_model_module": "@jupyter-widgets/controls",
       "_model_module_version": "2.0.0",
       "_model_name": "ProgressStyleModel",
       "_view_count": null,
       "_view_module": "@jupyter-widgets/base",
       "_view_module_version": "2.0.0",
       "_view_name": "StyleView",
       "bar_color": null,
       "description_width": ""
      }
     },
     "36bcbc1ce8d24eceae5eaf93d79e63f0": {
      "model_module": "@jupyter-widgets/controls",
      "model_module_version": "2.0.0",
      "model_name": "HTMLModel",
      "state": {
       "_dom_classes": [],
       "_model_module": "@jupyter-widgets/controls",
       "_model_module_version": "2.0.0",
       "_model_name": "HTMLModel",
       "_view_count": null,
       "_view_module": "@jupyter-widgets/controls",
       "_view_module_version": "2.0.0",
       "_view_name": "HTMLView",
       "description": "",
       "description_allow_html": false,
       "layout": "IPY_MODEL_6080ce3e6cea467eaadf051a148939ce",
       "placeholder": "​",
       "style": "IPY_MODEL_d72741f3213d41c68507b031cab02863",
       "tabbable": null,
       "tooltip": null,
       "value": "100%"
      }
     },
     "53ae539994a34ab2bd070aeb336ac914": {
      "model_module": "@jupyter-widgets/base",
      "model_module_version": "2.0.0",
      "model_name": "LayoutModel",
      "state": {
       "_model_module": "@jupyter-widgets/base",
       "_model_module_version": "2.0.0",
       "_model_name": "LayoutModel",
       "_view_count": null,
       "_view_module": "@jupyter-widgets/base",
       "_view_module_version": "2.0.0",
       "_view_name": "LayoutView",
       "align_content": null,
       "align_items": null,
       "align_self": null,
       "border_bottom": null,
       "border_left": null,
       "border_right": null,
       "border_top": null,
       "bottom": null,
       "display": null,
       "flex": null,
       "flex_flow": null,
       "grid_area": null,
       "grid_auto_columns": null,
       "grid_auto_flow": null,
       "grid_auto_rows": null,
       "grid_column": null,
       "grid_gap": null,
       "grid_row": null,
       "grid_template_areas": null,
       "grid_template_columns": null,
       "grid_template_rows": null,
       "height": null,
       "justify_content": null,
       "justify_items": null,
       "left": null,
       "margin": null,
       "max_height": null,
       "max_width": null,
       "min_height": null,
       "min_width": null,
       "object_fit": null,
       "object_position": null,
       "order": null,
       "overflow": null,
       "padding": null,
       "right": null,
       "top": null,
       "visibility": null,
       "width": null
      }
     },
     "6080ce3e6cea467eaadf051a148939ce": {
      "model_module": "@jupyter-widgets/base",
      "model_module_version": "2.0.0",
      "model_name": "LayoutModel",
      "state": {
       "_model_module": "@jupyter-widgets/base",
       "_model_module_version": "2.0.0",
       "_model_name": "LayoutModel",
       "_view_count": null,
       "_view_module": "@jupyter-widgets/base",
       "_view_module_version": "2.0.0",
       "_view_name": "LayoutView",
       "align_content": null,
       "align_items": null,
       "align_self": null,
       "border_bottom": null,
       "border_left": null,
       "border_right": null,
       "border_top": null,
       "bottom": null,
       "display": null,
       "flex": null,
       "flex_flow": null,
       "grid_area": null,
       "grid_auto_columns": null,
       "grid_auto_flow": null,
       "grid_auto_rows": null,
       "grid_column": null,
       "grid_gap": null,
       "grid_row": null,
       "grid_template_areas": null,
       "grid_template_columns": null,
       "grid_template_rows": null,
       "height": null,
       "justify_content": null,
       "justify_items": null,
       "left": null,
       "margin": null,
       "max_height": null,
       "max_width": null,
       "min_height": null,
       "min_width": null,
       "object_fit": null,
       "object_position": null,
       "order": null,
       "overflow": null,
       "padding": null,
       "right": null,
       "top": null,
       "visibility": null,
       "width": null
      }
     },
     "6950e4228cf14df89850a8f78365f94e": {
      "model_module": "@jupyter-widgets/controls",
      "model_module_version": "2.0.0",
      "model_name": "HTMLStyleModel",
      "state": {
       "_model_module": "@jupyter-widgets/controls",
       "_model_module_version": "2.0.0",
       "_model_name": "HTMLStyleModel",
       "_view_count": null,
       "_view_module": "@jupyter-widgets/base",
       "_view_module_version": "2.0.0",
       "_view_name": "StyleView",
       "background": null,
       "description_width": "",
       "font_size": null,
       "text_color": null
      }
     },
     "86eea827f9694ce3a3847ab739d00205": {
      "model_module": "@jupyter-widgets/controls",
      "model_module_version": "2.0.0",
      "model_name": "HTMLModel",
      "state": {
       "_dom_classes": [],
       "_model_module": "@jupyter-widgets/controls",
       "_model_module_version": "2.0.0",
       "_model_name": "HTMLModel",
       "_view_count": null,
       "_view_module": "@jupyter-widgets/controls",
       "_view_module_version": "2.0.0",
       "_view_name": "HTMLView",
       "description": "",
       "description_allow_html": false,
       "layout": "IPY_MODEL_0f1302eb38d14430b3f0f20fdfd3d382",
       "placeholder": "​",
       "style": "IPY_MODEL_6950e4228cf14df89850a8f78365f94e",
       "tabbable": null,
       "tooltip": null,
       "value": " 2/2 [01:04&lt;00:00, 37.46s/it]"
      }
     },
     "aa06df4cf5ae487ab6a4bd52701dd29b": {
      "model_module": "@jupyter-widgets/controls",
      "model_module_version": "2.0.0",
      "model_name": "HBoxModel",
      "state": {
       "_dom_classes": [],
       "_model_module": "@jupyter-widgets/controls",
       "_model_module_version": "2.0.0",
       "_model_name": "HBoxModel",
       "_view_count": null,
       "_view_module": "@jupyter-widgets/controls",
       "_view_module_version": "2.0.0",
       "_view_name": "HBoxView",
       "box_style": "",
       "children": [
        "IPY_MODEL_36bcbc1ce8d24eceae5eaf93d79e63f0",
        "IPY_MODEL_c5841be17f3b4ab0b2e89c0378f8ca8d",
        "IPY_MODEL_86eea827f9694ce3a3847ab739d00205"
       ],
       "layout": "IPY_MODEL_53ae539994a34ab2bd070aeb336ac914",
       "tabbable": null,
       "tooltip": null
      }
     },
     "c5841be17f3b4ab0b2e89c0378f8ca8d": {
      "model_module": "@jupyter-widgets/controls",
      "model_module_version": "2.0.0",
      "model_name": "FloatProgressModel",
      "state": {
       "_dom_classes": [],
       "_model_module": "@jupyter-widgets/controls",
       "_model_module_version": "2.0.0",
       "_model_name": "FloatProgressModel",
       "_view_count": null,
       "_view_module": "@jupyter-widgets/controls",
       "_view_module_version": "2.0.0",
       "_view_name": "ProgressView",
       "bar_style": "success",
       "description": "",
       "description_allow_html": false,
       "layout": "IPY_MODEL_1de7826fe0db4a708be372f19ec68b11",
       "max": 2.0,
       "min": 0.0,
       "orientation": "horizontal",
       "style": "IPY_MODEL_1e655462066949f8b25e3ac6bac21a21",
       "tabbable": null,
       "tooltip": null,
       "value": 2.0
      }
     },
     "d72741f3213d41c68507b031cab02863": {
      "model_module": "@jupyter-widgets/controls",
      "model_module_version": "2.0.0",
      "model_name": "HTMLStyleModel",
      "state": {
       "_model_module": "@jupyter-widgets/controls",
       "_model_module_version": "2.0.0",
       "_model_name": "HTMLStyleModel",
       "_view_count": null,
       "_view_module": "@jupyter-widgets/base",
       "_view_module_version": "2.0.0",
       "_view_name": "StyleView",
       "background": null,
       "description_width": "",
       "font_size": null,
       "text_color": null
      }
     }
    },
    "version_major": 2,
    "version_minor": 0
   }
  }
 },
 "nbformat": 4,
 "nbformat_minor": 5
}