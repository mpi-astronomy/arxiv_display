{
 "cells": [
  {
   "cell_type": "markdown",
   "id": "92bcb855",
   "metadata": {
    "papermill": {
     "duration": 0.003776,
     "end_time": "2024-10-07T04:10:34.766155",
     "exception": false,
     "start_time": "2024-10-07T04:10:34.762379",
     "status": "completed"
    },
    "tags": []
   },
   "source": [
    "# MPIA Arxiv on Deck 2\n",
    "\n",
    "Contains the steps to produce the paper extractions."
   ]
  },
  {
   "cell_type": "code",
   "execution_count": 1,
   "id": "3a0d6e11",
   "metadata": {
    "execution": {
     "iopub.execute_input": "2024-10-07T04:10:34.773619Z",
     "iopub.status.busy": "2024-10-07T04:10:34.773132Z",
     "iopub.status.idle": "2024-10-07T04:10:35.218579Z",
     "shell.execute_reply": "2024-10-07T04:10:35.217821Z"
    },
    "papermill": {
     "duration": 0.450485,
     "end_time": "2024-10-07T04:10:35.219930",
     "exception": false,
     "start_time": "2024-10-07T04:10:34.769445",
     "status": "completed"
    },
    "tags": []
   },
   "outputs": [],
   "source": [
    "# Imports\n",
    "import os\n",
    "from IPython.display import Markdown, display\n",
    "from tqdm.notebook import tqdm\n",
    "import warnings\n",
    "from PIL import Image \n",
    "import re\n",
    "\n",
    "# requires arxiv_on_deck_2\n",
    "\n",
    "from arxiv_on_deck_2.arxiv2 import (get_new_papers, \n",
    "                                    get_paper_from_identifier,\n",
    "                                    retrieve_document_source, \n",
    "                                    get_markdown_badge)\n",
    "from arxiv_on_deck_2 import (latex,\n",
    "                             latex_bib,\n",
    "                             mpia,\n",
    "                             highlight_authors_in_list)\n",
    "\n",
    "# Sometimes images are really big\n",
    "Image.MAX_IMAGE_PIXELS = 1000000000 "
   ]
  },
  {
   "cell_type": "code",
   "execution_count": 2,
   "id": "22aa9d44",
   "metadata": {
    "execution": {
     "iopub.execute_input": "2024-10-07T04:10:35.227460Z",
     "iopub.status.busy": "2024-10-07T04:10:35.226981Z",
     "iopub.status.idle": "2024-10-07T04:10:35.235024Z",
     "shell.execute_reply": "2024-10-07T04:10:35.234486Z"
    },
    "papermill": {
     "duration": 0.012844,
     "end_time": "2024-10-07T04:10:35.236021",
     "exception": false,
     "start_time": "2024-10-07T04:10:35.223177",
     "status": "completed"
    },
    "tags": []
   },
   "outputs": [],
   "source": [
    "# Some useful definitions.\n",
    "\n",
    "class AffiliationWarning(UserWarning):\n",
    "    pass\n",
    "\n",
    "class AffiliationError(RuntimeError):\n",
    "    pass\n",
    "\n",
    "def validation(source: str):\n",
    "    \"\"\"Raises error paper during parsing of source file\n",
    "    \n",
    "    Allows checks before parsing TeX code.\n",
    "    \n",
    "    Raises AffiliationWarning\n",
    "    \"\"\"\n",
    "    check = mpia.affiliation_verifications(source, verbose=True)\n",
    "    if check is not True:\n",
    "        raise AffiliationError(\"mpia.affiliation_verifications: \" + check)\n",
    "\n",
    "        \n",
    "warnings.simplefilter('always', AffiliationWarning)\n",
    "\n",
    "\n",
    "def get_markdown_qrcode(paper_id: str):\n",
    "    \"\"\" Generate a qrcode to the arxiv page using qrserver.com\n",
    "    \n",
    "    :param paper: Arxiv paper\n",
    "    :returns: markdown text\n",
    "    \"\"\"\n",
    "    url = r\"https://api.qrserver.com/v1/create-qr-code/?size=100x100&data=\"\n",
    "    txt = f\"\"\"<img src={url}\"https://arxiv.org/abs/{paper_id}\">\"\"\"\n",
    "    txt = '<div id=\"qrcode\">' + txt + '</div>'\n",
    "    return txt\n",
    "\n",
    "\n",
    "def clean_non_western_encoded_characters_commands(text: str) -> str:\n",
    "    \"\"\" Remove non-western encoded characters from a string\n",
    "    List may need to grow.\n",
    "    \n",
    "    :param text: the text to clean\n",
    "    :return: the cleaned text\n",
    "    \"\"\"\n",
    "    text = re.sub(r\"(\\\\begin{CJK}{UTF8}{gbsn})(.*?)(\\\\end{CJK})\", r\"\\2\", text)\n",
    "    return text\n",
    "\n",
    "\n",
    "def get_initials(name: str) -> str:\n",
    "    \"\"\" Get the short name, e.g., A.-B. FamName\n",
    "    :param name: full name\n",
    "    :returns: initials\n",
    "    \"\"\"\n",
    "    initials = []\n",
    "    # account for non western names often in ()\n",
    "    if '(' in name:\n",
    "        name = clean_non_western_encoded_characters_commands(name)\n",
    "        suffix = re.findall(r\"\\((.*?)\\)\", name)[0]\n",
    "        name = name.replace(f\"({suffix})\", '')\n",
    "    else:\n",
    "        suffix = ''\n",
    "    split = name.split()\n",
    "    for token in split[:-1]:\n",
    "        if '-' in token:\n",
    "            current = '-'.join([k[0] + '.' for k in token.split('-')])\n",
    "        else:\n",
    "            current = token[0] + '.'\n",
    "        initials.append(current)\n",
    "    initials.append(split[-1].strip())\n",
    "    if suffix:\n",
    "        initials.append(f\"({suffix})\")\n",
    "    return ' '.join(initials)"
   ]
  },
  {
   "cell_type": "markdown",
   "id": "14bd6310",
   "metadata": {
    "papermill": {
     "duration": 0.002975,
     "end_time": "2024-10-07T04:10:35.242004",
     "exception": false,
     "start_time": "2024-10-07T04:10:35.239029",
     "status": "completed"
    },
    "tags": []
   },
   "source": [
    "## get list of arxiv paper candidates\n",
    "\n",
    "We use the MPIA mitarbeiter list webpage from mpia.de to get author names\n",
    "We then get all new papers from Arxiv and match authors"
   ]
  },
  {
   "cell_type": "code",
   "execution_count": 3,
   "id": "7ea813a8",
   "metadata": {
    "execution": {
     "iopub.execute_input": "2024-10-07T04:10:35.248952Z",
     "iopub.status.busy": "2024-10-07T04:10:35.248558Z",
     "iopub.status.idle": "2024-10-07T04:10:53.222835Z",
     "shell.execute_reply": "2024-10-07T04:10:53.222225Z"
    },
    "papermill": {
     "duration": 17.979045,
     "end_time": "2024-10-07T04:10:53.224063",
     "exception": false,
     "start_time": "2024-10-07T04:10:35.245018",
     "status": "completed"
    },
    "tags": []
   },
   "outputs": [],
   "source": [
    "# deal with the author list and edge cases of people that cannot be consistent on their name  \n",
    "\n",
    "def filter_non_scientists(name: str) -> bool:\n",
    "    \"\"\" Loose filter on expected authorships\n",
    "\n",
    "    removing IT, administration, technical staff\n",
    "    :param name: name\n",
    "    :returns: False if name is not a scientist\n",
    "    \"\"\"\n",
    "    remove_list = ['Licht', 'Binroth', 'Witzel', 'Jordan',\n",
    "                   'Zähringer', 'Scheerer', 'Hoffmann', 'Düe',\n",
    "                   'Hellmich', 'Enkler-Scharpegge', 'Witte-Nguy',\n",
    "                   'Dehen', 'Beckmann', 'Jager', 'Jäger'\n",
    "                  ]\n",
    "\n",
    "    for k in remove_list:\n",
    "        if k in name:\n",
    "            return False\n",
    "    return True\n",
    "\n",
    "def add_author_to_list(author_list: list) -> list:\n",
    "    \"\"\" Add author to list if not already in list\n",
    "    \n",
    "    :param author: author name\n",
    "    :param author_list: list of authors\n",
    "    :returns: updated list of authors\n",
    "    \"\"\"\n",
    "    add_list = ['T. Henning']\n",
    "\n",
    "    for author in add_list:\n",
    "        if author not in author_list:\n",
    "            author_list.append(author)\n",
    "    return author_list\n",
    "\n",
    "# get list from MPIA website\n",
    "# filter for non-scientists (mpia.get_mpia_mitarbeiter_list() does some filtering)\n",
    "mpia_authors = [k[1] for k in mpia.get_mpia_mitarbeiter_list() if filter_non_scientists(k[1])]\n",
    "# add some missing author because of inconsistencies in their MPIA name and author name on papers\n",
    "mpia_authors = add_author_to_list(mpia_authors)"
   ]
  },
  {
   "cell_type": "code",
   "execution_count": 4,
   "id": "2645e73a",
   "metadata": {
    "execution": {
     "iopub.execute_input": "2024-10-07T04:10:53.231818Z",
     "iopub.status.busy": "2024-10-07T04:10:53.231339Z",
     "iopub.status.idle": "2024-10-07T04:10:53.725887Z",
     "shell.execute_reply": "2024-10-07T04:10:53.725204Z"
    },
    "papermill": {
     "duration": 0.499561,
     "end_time": "2024-10-07T04:10:53.727011",
     "exception": false,
     "start_time": "2024-10-07T04:10:53.227450",
     "status": "completed"
    },
    "tags": []
   },
   "outputs": [
    {
     "name": "stdout",
     "output_type": "stream",
     "text": [
      "E. Schinnerer  ->  E. Schinnerer  |  ['E. Schinnerer']\n",
      "A. Hughes  ->  A. Hughes  |  ['A. Hughes']\n",
      "S. Hannon  ->  S. Hannon  |  ['S. Hannon']\n",
      "E.-M. Ahrer  ->  E.-M. Ahrer  |  ['E.-M. Ahrer']\n",
      "D. Christie  ->  D. Christie  |  ['D. Christie']\n",
      "C. Gapp  ->  C. Gapp  |  ['C. Gapp']\n",
      "K. El-Badry  ->  K. El-Badry  |  ['K. El-Badry']\n",
      "Arxiv has 67 new papers today\n",
      "          3 with possible author matches\n"
     ]
    }
   ],
   "source": [
    "new_papers = get_new_papers()\n",
    "# add manual references\n",
    "add_paper_refs = []\n",
    "new_papers.extend([get_paper_from_identifier(k) for k in add_paper_refs])\n",
    "\n",
    "def robust_call(fn, value, *args, **kwargs):\n",
    "    try:\n",
    "        return fn(value, *args, **kwargs)\n",
    "    except Exception:\n",
    "        return value\n",
    "\n",
    "candidates = []\n",
    "for paperk in new_papers:\n",
    "    # Check author list with their initials\n",
    "    normed_author_list = [robust_call(mpia.get_initials, k) for k in paperk['authors']]\n",
    "    hl_authors = highlight_authors_in_list(normed_author_list, mpia_authors, verbose=True)\n",
    "    matches = [(hl, orig) for hl, orig in zip(hl_authors, paperk['authors']) if 'mark' in hl]\n",
    "    paperk['authors'] = hl_authors\n",
    "    if matches:\n",
    "        # only select paper if an author matched our list\n",
    "        candidates.append(paperk)\n",
    "print(\"\"\"Arxiv has {0:,d} new papers today\"\"\".format(len(new_papers)))        \n",
    "print(\"\"\"          {0:,d} with possible author matches\"\"\".format(len(candidates)))"
   ]
  },
  {
   "cell_type": "markdown",
   "id": "3543b34a",
   "metadata": {
    "papermill": {
     "duration": 0.00309,
     "end_time": "2024-10-07T04:10:53.733598",
     "exception": false,
     "start_time": "2024-10-07T04:10:53.730508",
     "status": "completed"
    },
    "tags": []
   },
   "source": [
    "# Parse sources and generate relevant outputs\n",
    "\n",
    "From the candidates, we do the following steps:\n",
    "* get their tarball from ArXiv (and extract data)\n",
    "* find the main .tex file: find one with \\documentclass{...} (sometimes it's non trivial)\n",
    "* Check affiliations with :func:`validation`, which uses :func:`mpia.affiliation_verifications`\n",
    "* If passing the affiliations: we parse the .tex source\n",
    "   * inject sub-documents into the main (flatten the main document)\n",
    "   * parse structure, extract information (title, abstract, authors, figures...)\n",
    "   * handles `\\graphicspath` if provided\n",
    "* Generate the .md document."
   ]
  },
  {
   "cell_type": "code",
   "execution_count": 5,
   "id": "9576b79e",
   "metadata": {
    "execution": {
     "iopub.execute_input": "2024-10-07T04:10:53.740686Z",
     "iopub.status.busy": "2024-10-07T04:10:53.740483Z",
     "iopub.status.idle": "2024-10-07T04:12:54.885728Z",
     "shell.execute_reply": "2024-10-07T04:12:54.884902Z"
    },
    "papermill": {
     "duration": 121.150306,
     "end_time": "2024-10-07T04:12:54.887025",
     "exception": false,
     "start_time": "2024-10-07T04:10:53.736719",
     "status": "completed"
    },
    "scrolled": false,
    "tags": []
   },
   "outputs": [
    {
     "data": {
      "application/vnd.jupyter.widget-view+json": {
       "model_id": "83458bf3be4f4e59b226e45c9d8a1668",
       "version_major": 2,
       "version_minor": 0
      },
      "text/plain": [
       "  0%|          | 0/3 [00:00<?, ?it/s]"
      ]
     },
     "metadata": {},
     "output_type": "display_data"
    },
    {
     "name": "stdout",
     "output_type": "stream",
     "text": [
      "Retrieving document from  https://arxiv.org/e-print/2410.02864\n",
      "extracting tarball to tmp_2410.02864..."
     ]
    },
    {
     "name": "stdout",
     "output_type": "stream",
     "text": [
      " done.\n"
     ]
    },
    {
     "name": "stderr",
     "output_type": "stream",
     "text": [
      "/opt/hostedtoolcache/Python/3.9.20/x64/lib/python3.9/site-packages/IPython/core/interactiveshell.py:3550: LatexWarning: Multiple tex files.\n",
      "\n",
      "  exec(code_obj, self.user_global_ns, self.user_ns)\n",
      "/opt/hostedtoolcache/Python/3.9.20/x64/lib/python3.9/site-packages/IPython/core/interactiveshell.py:3550: LatexWarning: Found documentclass in tmp_2410.02864/pap_phangs_ml_pahs.tex\n",
      "\n",
      "  exec(code_obj, self.user_global_ns, self.user_ns)\n",
      "/opt/hostedtoolcache/Python/3.9.20/x64/lib/python3.9/site-packages/arxiv_on_deck_2/latex.py:414: LatexWarning: Latex injecting: 'authors.tex' from 'tmp_2410.02864/authors.tex'\n",
      "  warnings.warn(LatexWarning(f\"Latex injecting: '{ext}' from '{subsource}'\"))\n"
     ]
    },
    {
     "name": "stdout",
     "output_type": "stream",
     "text": [
      "E. Schinnerer  ->  E. Schinnerer  |  ['E. Schinnerer']\n",
      "S. Hannon  ->  S. Hannon  |  ['S. Hannon']\n"
     ]
    },
    {
     "name": "stderr",
     "output_type": "stream",
     "text": [
      "/opt/hostedtoolcache/Python/3.9.20/x64/lib/python3.9/site-packages/arxiv_on_deck_2/latex.py:132: LatexWarning: attempting recovering figure figures/NGC1566_feature_display\n",
      "  warnings.warn(LatexWarning(f'attempting recovering figure {image}'))\n",
      "/opt/hostedtoolcache/Python/3.9.20/x64/lib/python3.9/site-packages/arxiv_on_deck_2/latex.py:137: LatexWarning: Recovered figure figures/NGC1566_feature_display as tmp_2410.02864/./figures/NGC1566_feature_display.pdf\n",
      "  warnings.warn(LatexWarning(f'Recovered figure {image} as {fname}'))\n"
     ]
    },
    {
     "name": "stderr",
     "output_type": "stream",
     "text": [
      "/opt/hostedtoolcache/Python/3.9.20/x64/lib/python3.9/site-packages/arxiv_on_deck_2/latex.py:132: LatexWarning: attempting recovering figure figures/feature_display\n",
      "  warnings.warn(LatexWarning(f'attempting recovering figure {image}'))\n",
      "/opt/hostedtoolcache/Python/3.9.20/x64/lib/python3.9/site-packages/arxiv_on_deck_2/latex.py:137: LatexWarning: Recovered figure figures/feature_display as tmp_2410.02864/./figures/feature_display.pdf\n",
      "  warnings.warn(LatexWarning(f'Recovered figure {image} as {fname}'))\n"
     ]
    },
    {
     "name": "stderr",
     "output_type": "stream",
     "text": [
      "/opt/hostedtoolcache/Python/3.9.20/x64/lib/python3.9/site-packages/arxiv_on_deck_2/latex.py:132: LatexWarning: attempting recovering figure figures/correlations_sep_ordered_by_slope\n",
      "  warnings.warn(LatexWarning(f'attempting recovering figure {image}'))\n",
      "/opt/hostedtoolcache/Python/3.9.20/x64/lib/python3.9/site-packages/arxiv_on_deck_2/latex.py:137: LatexWarning: Recovered figure figures/correlations_sep_ordered_by_slope as tmp_2410.02864/./figures/correlations_sep_ordered_by_slope.pdf\n",
      "  warnings.warn(LatexWarning(f'Recovered figure {image} as {fname}'))\n"
     ]
    },
    {
     "name": "stderr",
     "output_type": "stream",
     "text": [
      "/opt/hostedtoolcache/Python/3.9.20/x64/lib/python3.9/site-packages/arxiv_on_deck_2/latex.py:132: LatexWarning: attempting recovering figure figures/galaxies_sorted_by_slope\n",
      "  warnings.warn(LatexWarning(f'attempting recovering figure {image}'))\n",
      "/opt/hostedtoolcache/Python/3.9.20/x64/lib/python3.9/site-packages/arxiv_on_deck_2/latex.py:137: LatexWarning: Recovered figure figures/galaxies_sorted_by_slope as tmp_2410.02864/./figures/galaxies_sorted_by_slope.pdf\n",
      "  warnings.warn(LatexWarning(f'Recovered figure {image} as {fname}'))\n"
     ]
    },
    {
     "name": "stderr",
     "output_type": "stream",
     "text": [
      "/opt/hostedtoolcache/Python/3.9.20/x64/lib/python3.9/site-packages/arxiv_on_deck_2/latex.py:132: LatexWarning: attempting recovering figure figures/stellar_to_PAH_threshold\n",
      "  warnings.warn(LatexWarning(f'attempting recovering figure {image}'))\n",
      "/opt/hostedtoolcache/Python/3.9.20/x64/lib/python3.9/site-packages/arxiv_on_deck_2/latex.py:137: LatexWarning: Recovered figure figures/stellar_to_PAH_threshold as tmp_2410.02864/./figures/stellar_to_PAH_threshold.pdf\n",
      "  warnings.warn(LatexWarning(f'Recovered figure {image} as {fname}'))\n"
     ]
    },
    {
     "name": "stderr",
     "output_type": "stream",
     "text": [
      "/opt/hostedtoolcache/Python/3.9.20/x64/lib/python3.9/site-packages/arxiv_on_deck_2/latex.py:132: LatexWarning: attempting recovering figure figures/stacked_SEDs_and_spatial_dist_weird_PAHs_fnu\n",
      "  warnings.warn(LatexWarning(f'attempting recovering figure {image}'))\n",
      "/opt/hostedtoolcache/Python/3.9.20/x64/lib/python3.9/site-packages/arxiv_on_deck_2/latex.py:137: LatexWarning: Recovered figure figures/stacked_SEDs_and_spatial_dist_weird_PAHs_fnu as tmp_2410.02864/./figures/stacked_SEDs_and_spatial_dist_weird_PAHs_fnu.pdf\n",
      "  warnings.warn(LatexWarning(f'Recovered figure {image} as {fname}'))\n"
     ]
    },
    {
     "name": "stderr",
     "output_type": "stream",
     "text": [
      "/opt/hostedtoolcache/Python/3.9.20/x64/lib/python3.9/site-packages/arxiv_on_deck_2/latex.py:132: LatexWarning: attempting recovering figure figures/anomalous_PAH_ratios_silicates_vs_PAHs\n",
      "  warnings.warn(LatexWarning(f'attempting recovering figure {image}'))\n",
      "/opt/hostedtoolcache/Python/3.9.20/x64/lib/python3.9/site-packages/arxiv_on_deck_2/latex.py:137: LatexWarning: Recovered figure figures/anomalous_PAH_ratios_silicates_vs_PAHs as tmp_2410.02864/./figures/anomalous_PAH_ratios_silicates_vs_PAHs.pdf\n",
      "  warnings.warn(LatexWarning(f'Recovered figure {image} as {fname}'))\n"
     ]
    },
    {
     "name": "stderr",
     "output_type": "stream",
     "text": [
      "/opt/hostedtoolcache/Python/3.9.20/x64/lib/python3.9/site-packages/arxiv_on_deck_2/latex.py:132: LatexWarning: attempting recovering figure figures/PAH_ionized_gas_relation_AGN_non_AGN_comparison_SII_and_OIII\n",
      "  warnings.warn(LatexWarning(f'attempting recovering figure {image}'))\n",
      "/opt/hostedtoolcache/Python/3.9.20/x64/lib/python3.9/site-packages/arxiv_on_deck_2/latex.py:137: LatexWarning: Recovered figure figures/PAH_ionized_gas_relation_AGN_non_AGN_comparison_SII_and_OIII as tmp_2410.02864/./figures/PAH_ionized_gas_relation_AGN_non_AGN_comparison_SII_and_OIII.pdf\n",
      "  warnings.warn(LatexWarning(f'Recovered figure {image} as {fname}'))\n"
     ]
    },
    {
     "name": "stderr",
     "output_type": "stream",
     "text": [
      "/opt/hostedtoolcache/Python/3.9.20/x64/lib/python3.9/site-packages/arxiv_on_deck_2/latex.py:132: LatexWarning: attempting recovering figure figures/PAH_ratio_distribution_AGN_and_non_AGN\n",
      "  warnings.warn(LatexWarning(f'attempting recovering figure {image}'))\n",
      "/opt/hostedtoolcache/Python/3.9.20/x64/lib/python3.9/site-packages/arxiv_on_deck_2/latex.py:137: LatexWarning: Recovered figure figures/PAH_ratio_distribution_AGN_and_non_AGN as tmp_2410.02864/./figures/PAH_ratio_distribution_AGN_and_non_AGN.pdf\n",
      "  warnings.warn(LatexWarning(f'Recovered figure {image} as {fname}'))\n"
     ]
    },
    {
     "name": "stderr",
     "output_type": "stream",
     "text": [
      "/opt/hostedtoolcache/Python/3.9.20/x64/lib/python3.9/site-packages/arxiv_on_deck_2/latex.py:132: LatexWarning: attempting recovering figure figures/emerging_picture_PAH_ionized_gas\n",
      "  warnings.warn(LatexWarning(f'attempting recovering figure {image}'))\n",
      "/opt/hostedtoolcache/Python/3.9.20/x64/lib/python3.9/site-packages/arxiv_on_deck_2/latex.py:137: LatexWarning: Recovered figure figures/emerging_picture_PAH_ionized_gas as tmp_2410.02864/./figures/emerging_picture_PAH_ionized_gas.pdf\n",
      "  warnings.warn(LatexWarning(f'Recovered figure {image} as {fname}'))\n"
     ]
    },
    {
     "name": "stderr",
     "output_type": "stream",
     "text": [
      "/opt/hostedtoolcache/Python/3.9.20/x64/lib/python3.9/site-packages/arxiv_on_deck_2/latex.py:132: LatexWarning: attempting recovering figure figures/diagnoal_group_additional_info\n",
      "  warnings.warn(LatexWarning(f'attempting recovering figure {image}'))\n",
      "/opt/hostedtoolcache/Python/3.9.20/x64/lib/python3.9/site-packages/arxiv_on_deck_2/latex.py:137: LatexWarning: Recovered figure figures/diagnoal_group_additional_info as tmp_2410.02864/./figures/diagnoal_group_additional_info.pdf\n",
      "  warnings.warn(LatexWarning(f'Recovered figure {image} as {fname}'))\n"
     ]
    },
    {
     "name": "stderr",
     "output_type": "stream",
     "text": [
      "/opt/hostedtoolcache/Python/3.9.20/x64/lib/python3.9/site-packages/arxiv_on_deck_2/latex.py:132: LatexWarning: attempting recovering figure figures/feature_display_PCA3_PCA4\n",
      "  warnings.warn(LatexWarning(f'attempting recovering figure {image}'))\n",
      "/opt/hostedtoolcache/Python/3.9.20/x64/lib/python3.9/site-packages/arxiv_on_deck_2/latex.py:137: LatexWarning: Recovered figure figures/feature_display_PCA3_PCA4 as tmp_2410.02864/./figures/feature_display_PCA3_PCA4.pdf\n",
      "  warnings.warn(LatexWarning(f'Recovered figure {image} as {fname}'))\n"
     ]
    },
    {
     "name": "stderr",
     "output_type": "stream",
     "text": [
      "/opt/hostedtoolcache/Python/3.9.20/x64/lib/python3.9/site-packages/arxiv_on_deck_2/latex.py:132: LatexWarning: attempting recovering figure figures/stellar_to_PAH_threshold_outlying_gals_worst\n",
      "  warnings.warn(LatexWarning(f'attempting recovering figure {image}'))\n",
      "/opt/hostedtoolcache/Python/3.9.20/x64/lib/python3.9/site-packages/arxiv_on_deck_2/latex.py:137: LatexWarning: Recovered figure figures/stellar_to_PAH_threshold_outlying_gals_worst as tmp_2410.02864/./figures/stellar_to_PAH_threshold_outlying_gals_worst.pdf\n",
      "  warnings.warn(LatexWarning(f'Recovered figure {image} as {fname}'))\n"
     ]
    },
    {
     "name": "stderr",
     "output_type": "stream",
     "text": [
      "/opt/hostedtoolcache/Python/3.9.20/x64/lib/python3.9/site-packages/arxiv_on_deck_2/latex.py:132: LatexWarning: attempting recovering figure figures/stellar_to_PAH_threshold_outlying_gals_notworst\n",
      "  warnings.warn(LatexWarning(f'attempting recovering figure {image}'))\n",
      "/opt/hostedtoolcache/Python/3.9.20/x64/lib/python3.9/site-packages/arxiv_on_deck_2/latex.py:137: LatexWarning: Recovered figure figures/stellar_to_PAH_threshold_outlying_gals_notworst as tmp_2410.02864/./figures/stellar_to_PAH_threshold_outlying_gals_notworst.pdf\n",
      "  warnings.warn(LatexWarning(f'Recovered figure {image} as {fname}'))\n"
     ]
    },
    {
     "name": "stderr",
     "output_type": "stream",
     "text": [
      "/opt/hostedtoolcache/Python/3.9.20/x64/lib/python3.9/site-packages/arxiv_on_deck_2/latex.py:132: LatexWarning: attempting recovering figure figures/weird_PAHs_on_galaxies_Halpha\n",
      "  warnings.warn(LatexWarning(f'attempting recovering figure {image}'))\n",
      "/opt/hostedtoolcache/Python/3.9.20/x64/lib/python3.9/site-packages/arxiv_on_deck_2/latex.py:137: LatexWarning: Recovered figure figures/weird_PAHs_on_galaxies_Halpha as tmp_2410.02864/./figures/weird_PAHs_on_galaxies_Halpha.pdf\n",
      "  warnings.warn(LatexWarning(f'Recovered figure {image} as {fname}'))\n"
     ]
    },
    {
     "name": "stderr",
     "output_type": "stream",
     "text": [
      "/opt/hostedtoolcache/Python/3.9.20/x64/lib/python3.9/site-packages/arxiv_on_deck_2/latex.py:132: LatexWarning: attempting recovering figure figures/CO_emission_of_anomalous_PAH_galaxies\n",
      "  warnings.warn(LatexWarning(f'attempting recovering figure {image}'))\n",
      "/opt/hostedtoolcache/Python/3.9.20/x64/lib/python3.9/site-packages/arxiv_on_deck_2/latex.py:137: LatexWarning: Recovered figure figures/CO_emission_of_anomalous_PAH_galaxies as tmp_2410.02864/./figures/CO_emission_of_anomalous_PAH_galaxies.pdf\n",
      "  warnings.warn(LatexWarning(f'Recovered figure {image} as {fname}'))\n"
     ]
    },
    {
     "name": "stderr",
     "output_type": "stream",
     "text": [
      "/opt/hostedtoolcache/Python/3.9.20/x64/lib/python3.9/site-packages/arxiv_on_deck_2/latex.py:132: LatexWarning: attempting recovering figure figures/log_PAH_vs_F200W_F2100W\n",
      "  warnings.warn(LatexWarning(f'attempting recovering figure {image}'))\n",
      "/opt/hostedtoolcache/Python/3.9.20/x64/lib/python3.9/site-packages/arxiv_on_deck_2/latex.py:137: LatexWarning: Recovered figure figures/log_PAH_vs_F200W_F2100W as tmp_2410.02864/./figures/log_PAH_vs_F200W_F2100W.pdf\n",
      "  warnings.warn(LatexWarning(f'Recovered figure {image} as {fname}'))\n"
     ]
    },
    {
     "name": "stdout",
     "output_type": "stream",
     "text": [
      "Found 121 bibliographic references in tmp_2410.02864/pap_phangs_ml_pahs.bbl.\n",
      "Retrieving document from  https://arxiv.org/e-print/2410.03527\n"
     ]
    },
    {
     "name": "stdout",
     "output_type": "stream",
     "text": [
      "extracting tarball to tmp_2410.03527..."
     ]
    },
    {
     "name": "stdout",
     "output_type": "stream",
     "text": [
      " done.\n"
     ]
    },
    {
     "name": "stderr",
     "output_type": "stream",
     "text": [
      "/opt/hostedtoolcache/Python/3.9.20/x64/lib/python3.9/site-packages/IPython/core/interactiveshell.py:3550: LatexWarning: Multiple tex files.\n",
      "\n",
      "  exec(code_obj, self.user_global_ns, self.user_ns)\n",
      "/opt/hostedtoolcache/Python/3.9.20/x64/lib/python3.9/site-packages/IPython/core/interactiveshell.py:3550: LatexWarning: Found documentclass in tmp_2410.03527/main.tex\n",
      "\n",
      "  exec(code_obj, self.user_global_ns, self.user_ns)\n"
     ]
    },
    {
     "name": "stdout",
     "output_type": "stream",
     "text": [
      "E.-M. Ahrer  ->  E.-M. Ahrer  |  ['E.-M. Ahrer']\n",
      "D. Christie  ->  D. Christie  |  ['D. Christie']\n",
      "L. Acuña  ->  L. Acuña  |  ['L. Acuña']\n",
      "C. Gapp  ->  C. Gapp  |  ['C. Gapp']\n"
     ]
    },
    {
     "name": "stdout",
     "output_type": "stream",
     "text": [
      "Found 148 bibliographic references in tmp_2410.03527/main.bbl.\n",
      "Retrieving document from  https://arxiv.org/e-print/2410.03589\n"
     ]
    },
    {
     "name": "stdout",
     "output_type": "stream",
     "text": [
      "extracting tarball to tmp_2410.03589..."
     ]
    },
    {
     "name": "stdout",
     "output_type": "stream",
     "text": [
      " done.\n"
     ]
    },
    {
     "name": "stderr",
     "output_type": "stream",
     "text": [
      "/opt/hostedtoolcache/Python/3.9.20/x64/lib/python3.9/site-packages/IPython/core/interactiveshell.py:3550: LatexWarning: Multiple tex files.\n",
      "\n",
      "  exec(code_obj, self.user_global_ns, self.user_ns)\n",
      "/opt/hostedtoolcache/Python/3.9.20/x64/lib/python3.9/site-packages/IPython/core/interactiveshell.py:3550: LatexWarning: Found documentclass in tmp_2410.03589/sample631.tex\n",
      "\n",
      "  exec(code_obj, self.user_global_ns, self.user_ns)\n",
      "/opt/hostedtoolcache/Python/3.9.20/x64/lib/python3.9/site-packages/arxiv_on_deck_2/latex.py:414: LatexWarning: Latex injecting: 'table1' from 'tmp_2410.03589/table1.tex'\n",
      "  warnings.warn(LatexWarning(f\"Latex injecting: '{ext}' from '{subsource}'\"))\n"
     ]
    }
   ],
   "source": [
    "documents = []\n",
    "failed = []\n",
    "for paper in tqdm(candidates):\n",
    "    # debug crap\n",
    "    paper['identifier'] = paper['identifier'].lower().replace('arxiv:', '').replace(r'\\n', '').strip()\n",
    "    paper_id = paper['identifier']\n",
    "    \n",
    "    folder = f'tmp_{paper_id}'\n",
    "\n",
    "    try:\n",
    "        if not os.path.isdir(folder):\n",
    "            folder = retrieve_document_source(f\"{paper_id}\", f'tmp_{paper_id}')\n",
    "        \n",
    "        try:\n",
    "            doc = latex.LatexDocument(folder, validation=validation)    \n",
    "        except AffiliationError as affilerror:\n",
    "            msg = f\"ArXiv:{paper_id:s} is not an MPIA paper... \" + str(affilerror)\n",
    "            failed.append((paper, \"affiliation error: \" + str(affilerror) ))\n",
    "            continue\n",
    "        \n",
    "        # Hack because sometimes author parsing does not work well\n",
    "        if (len(doc.authors) != len(paper['authors'])):\n",
    "            doc._authors = paper['authors']\n",
    "        else:\n",
    "            # highlight authors (FIXME: doc.highlight_authors)\n",
    "            # done on arxiv paper already\n",
    "            doc._authors = highlight_authors_in_list(\n",
    "                [get_initials(k) for k in doc.authors], \n",
    "                mpia_authors, verbose=True)\n",
    "        if (doc.abstract) in (None, ''):\n",
    "            doc._abstract = paper['abstract']\n",
    "            \n",
    "        doc.comment = (get_markdown_badge(paper_id) + \n",
    "                       \"<mark>Appeared on: \" + paper['date'] + \"</mark> - \")\n",
    "        if paper['comments']:\n",
    "            doc.comment += \" _\" + paper['comments'] + \"_\"\n",
    "        \n",
    "        full_md = doc.generate_markdown_text()\n",
    "        \n",
    "        full_md += get_markdown_qrcode(paper_id)\n",
    "        \n",
    "        # replace citations\n",
    "        try:\n",
    "            bibdata = latex_bib.LatexBib.from_doc(doc)\n",
    "            full_md = latex_bib.replace_citations(full_md, bibdata)\n",
    "        except Exception as e:\n",
    "            print(\"Issues with the citations\")\n",
    "            print(e)\n",
    "        \n",
    "        documents.append((paper_id, full_md))\n",
    "    except Exception as e:\n",
    "        warnings.warn(latex.LatexWarning(f\"{paper_id:s} did not run properly\\n\" +\n",
    "                                         str(e)\n",
    "                                        ))\n",
    "        failed.append((paper, \"latex error \" + str(e)))"
   ]
  },
  {
   "cell_type": "markdown",
   "id": "2505a25c",
   "metadata": {
    "papermill": {
     "duration": 0.004682,
     "end_time": "2024-10-07T04:12:54.896711",
     "exception": false,
     "start_time": "2024-10-07T04:12:54.892029",
     "status": "completed"
    },
    "tags": []
   },
   "source": [
    "### Export the logs\n",
    "\n",
    "Throughout, we also keep track of the logs per paper. see `logs-{today date}.md` "
   ]
  },
  {
   "cell_type": "code",
   "execution_count": 6,
   "id": "d733828a",
   "metadata": {
    "execution": {
     "iopub.execute_input": "2024-10-07T04:12:54.907126Z",
     "iopub.status.busy": "2024-10-07T04:12:54.906785Z",
     "iopub.status.idle": "2024-10-07T04:12:54.920819Z",
     "shell.execute_reply": "2024-10-07T04:12:54.920293Z"
    },
    "papermill": {
     "duration": 0.020511,
     "end_time": "2024-10-07T04:12:54.921810",
     "exception": false,
     "start_time": "2024-10-07T04:12:54.901299",
     "status": "completed"
    },
    "scrolled": false,
    "tags": []
   },
   "outputs": [
    {
     "data": {
      "text/markdown": [
       "## Successful papers"
      ],
      "text/plain": [
       "<IPython.core.display.Markdown object>"
      ]
     },
     "metadata": {},
     "output_type": "display_data"
    },
    {
     "data": {
      "text/markdown": [
       "\n",
       "|||\n",
       "|---:|:---|\n",
       "| [![arXiv](https://img.shields.io/badge/arXiv-2410.02864-b31b1b.svg)](https://arxiv.org/abs/2410.02864) | **PHANGS-ML: the universal relation between PAH band and optical line ratios across nearby star-forming galaxies**  |\n",
       "|| D. Baron, et al. -- incl., <mark>E. Schinnerer</mark>, <mark>A. Hughes</mark>, <mark>S. Hannon</mark> |\n",
       "|*Appeared on*| *2024-10-07*|\n",
       "|*Comments*| *resubmitted to ApJ after addressing referee report; Figure 12 summarizes the results*|\n",
       "|**Abstract**|            The structure and chemistry of the dusty interstellar medium (ISM) are shaped by complex processes that depend on the local radiation field, gas composition, and dust grain properties. Of particular importance are Polycyclic Aromatic Hydrocarbons (PAHs), which emit strong vibrational bands in the mid-infrared, and play a key role in the ISM energy balance. We recently identified global correlations between PAH band and optical line ratios across three nearby galaxies, suggesting a connection between PAH heating and gas ionization throughout the ISM. In this work, we perform a census of the PAH heating -- gas ionization connection using $\\sim$700,000 independent pixels that probe scales of 40--150 pc in nineteen nearby star-forming galaxies from the PHANGS survey. We find a universal relation between $\\log$PAH(11.3 \\mic/7.7 \\mic) and $\\log$([SII]/H$\\alpha$) with a slope of $\\sim$0.2 and a scatter of $\\sim$0.025 dex. The only exception is a group of anomalous pixels that show unusually high (11.3 \\mic/7.7 \\mic) PAH ratios in regions with old stellar populations and high starlight-to-dust emission ratios. Their mid-infrared spectra resemble those of elliptical galaxies. AGN hosts show modestly steeper slopes, with a $\\sim$10\\% increase in PAH(11.3 \\mic/7.7 \\mic) in the diffuse gas on kpc scales. This universal relation implies an emerging simplicity in the complex ISM, with a sequence that is driven by a single varying property: the spectral shape of the interstellar radiation field. This suggests that other properties, such as gas-phase abundances, gas ionization parameter, and grain charge distribution, are relatively uniform in all but specific cases.         |"
      ],
      "text/plain": [
       "[2410.02864] PHANGS-ML: the universal relation between PAH band and optical line ratios across nearby star-forming galaxies\n",
       "\tD. Baron, et al. -- incl., <mark>E. Schinnerer</mark>, <mark>A. Hughes</mark>, <mark>S. Hannon</mark>"
      ]
     },
     "metadata": {},
     "output_type": "display_data"
    },
    {
     "data": {
      "text/markdown": [
       "\n",
       "|||\n",
       "|---:|:---|\n",
       "| [![arXiv](https://img.shields.io/badge/arXiv-2410.03527-b31b1b.svg)](https://arxiv.org/abs/2410.03527) | **JWST/NIRISS reveals the water-rich \"steam world\" atmosphere of GJ 9827 d**  |\n",
       "|| C. Piaulet-Ghorayeb, et al. -- incl., <mark>E.-M. Ahrer</mark>, <mark>D. Christie</mark>, <mark>C. Gapp</mark> |\n",
       "|*Appeared on*| *2024-10-07*|\n",
       "|*Comments*| *37 pages, 18 figures, Accepted for publication in ApJL*|\n",
       "|**Abstract**|            With sizable volatile envelopes but smaller radii than the solar system ice giants, sub-Neptunes have been revealed as one of the most common types of planet in the galaxy. While the spectroscopic characterization of larger sub-Neptunes (2.5-4R$_\\oplus$) has revealed hydrogen-dominated atmospheres, smaller sub-Neptunes (1.6--2.5R$_\\oplus$) could either host thin, rapidly evaporating hydrogen-rich atmospheres or be stable metal-rich \"water worlds\" with high mean molecular weight atmospheres and a fundamentally different formation and evolutionary history. Here, we present the 0.6--2.8$\\mu$m JWST NIRISS/SOSS transmission spectrum of GJ 9827 d, the smallest (1.98 R$_\\oplus$) warm (T$_\\mathrm{eq, A_B=0.3} \\sim 620$K) sub-Neptune where atmospheric absorbers have been detected to date. Our two transit observations with NIRISS/SOSS, combined with the existing HST/WFC3 spectrum, enable us to break the clouds-metallicity degeneracy. We detect water in a highly metal-enriched \"steam world\" atmosphere (O/H of $\\sim 4$ by mass and H$_2$O found to be the background gas with a volume mixing ratio of >31%). We further show that these results are robust to stellar contamination through the transit light source effect. We do not detect escaping metastable He, which, combined with previous nondetections of escaping He and H, supports the steam atmosphere scenario. In water-rich atmospheres, hydrogen loss driven by water photolysis happens predominantly in the ionized form which eludes observational constraints. We also detect several flares in the NIRISS/SOSS light-curves with far-UV energies of the order of 10$^{30}$ erg, highlighting the active nature of the star. Further atmospheric characterization of GJ 9827 d probing carbon or sulfur species could reveal the origin of its high metal enrichment.         |"
      ],
      "text/plain": [
       "[2410.03527] JWST/NIRISS reveals the water-rich \"steam world\" atmosphere of GJ 9827 d\n",
       "\tC. Piaulet-Ghorayeb, et al. -- incl., <mark>E.-M. Ahrer</mark>, <mark>D. Christie</mark>, <mark>C. Gapp</mark>"
      ]
     },
     "metadata": {},
     "output_type": "display_data"
    },
    {
     "data": {
      "text/markdown": [
       "## Failed papers"
      ],
      "text/plain": [
       "<IPython.core.display.Markdown object>"
      ]
     },
     "metadata": {},
     "output_type": "display_data"
    },
    {
     "data": {
      "text/markdown": [
       "\n",
       "|||\n",
       "|---:|:---|\n",
       "| [![arXiv](https://img.shields.io/badge/arXiv-2410.03589-b31b1b.svg)](https://arxiv.org/abs/2410.03589) | **Variability of Central Stars of Planetary Nebulae with the Zwicky Transient Facility. I. Methods, Short-Timescale Variables, Binary Candidates, and the Unusual Nucleus of WeSb 1**  |\n",
       "|| S. Bhattacharjee, et al. -- incl., <mark>K. El-Badry</mark> |\n",
       "|*Appeared on*| *2024-10-07*|\n",
       "|*Comments*| *19 pages + 8 pages appendix, 5 tables, 17 figures; Submitted to PASP; Comments are welcome!*|\n",
       "|**Abstract**|            Over the past several decades, time-series photometry of CSPNe has yielded significant results including, but not limited to, discoveries of nearly 100 binary systems, insights into pulsations and winds in young white dwarfs, and studies of stars undergoing very late thermal pulses. We have undertaken a systematic study of optical photometric variability of cataloged CSPNe, using the epochal photometric data from the Zwicky Transient Facility (ZTF). By applying appropriate variability metrics, we arrive at a list of 94 significantly variable CSPNe. Based on the timescales of the light-curve activity, we classify the variables broadly into short- and long-timescale variables. In this first paper in this series, we focus on the former, which is the majority class comprising 83 objects. We infer periods for six sources for the first time, and recover several known periodic variables. Among the aperiodic sources, most exhibit a jitter around a median flux with a stable amplitude, and a few show outbursts. We draw attention to WeSb 1, which shows a different kind of variability: prominent deep and aperiodic dips, resembling transits from a dust/debris disk. We find strong evidence for a binary nature of WeSb 1 (possibly an A- to G-type companion). The compactness of the emission lines and inferred high electron densities make WeSb 1 a candidate for either an EGB 6-type planetary nucleus, or a symbiotic system inside an evolved planetary nebula, both of which are rare objects. To demonstrate further promise with ZTF, we report three additional newly identified periodic sources that do not appear in the list of highly variable sources. Finally, we also introduce a two-dimensional metric space defined by the von Neumann statistics and Pearson Skew and demonstrate its effectiveness in identifying unique variables of astrophysical interest, like WeSb 1.         |\n",
       "|<p style=\"color:green\"> **ERROR** </p>| <p style=\"color:green\">affiliation error: mpia.affiliation_verifications: 'Heidelberg' keyword not found.</p> |"
      ],
      "text/plain": [
       "<IPython.core.display.Markdown object>"
      ]
     },
     "metadata": {},
     "output_type": "display_data"
    }
   ],
   "source": [
    "import datetime\n",
    "today = str(datetime.date.today())\n",
    "logfile = f\"_build/html/logs/log-{today}.md\"\n",
    "\n",
    "\n",
    "with open(logfile, 'w') as logs:\n",
    "    # Success\n",
    "    logs.write(f'# Arxiv on Deck 2: Logs - {today}\\n\\n')\n",
    "    logs.write(\"\"\"* Arxiv had {0:,d} new papers\\n\"\"\".format(len(new_papers)))\n",
    "    logs.write(\"\"\"    * {0:,d} with possible author matches\\n\\n\"\"\".format(len(candidates)))\n",
    "    logs.write(\"## Sucessful papers\\n\\n\")\n",
    "    display(Markdown(\"## Successful papers\"))\n",
    "    success = [k[0] for k in documents]\n",
    "    for candid in candidates:\n",
    "        if candid['identifier'].split(':')[-1] in success:\n",
    "            display(candid)\n",
    "            logs.write(candid.generate_markdown_text() + '\\n\\n')\n",
    "\n",
    "    ## failed\n",
    "    logs.write(\"## Failed papers\\n\\n\")\n",
    "    display(Markdown(\"## Failed papers\"))\n",
    "    failed = sorted(failed, key=lambda x: x[1])\n",
    "    current_reason = \"\"\n",
    "    for paper, reason in failed:\n",
    "        if 'affiliation' in reason:\n",
    "            color = 'green'\n",
    "        else:\n",
    "            color = 'red'\n",
    "        data = Markdown(\n",
    "                paper.generate_markdown_text() + \n",
    "                f'\\n|<p style=\"color:{color:s}\"> **ERROR** </p>| <p style=\"color:{color:s}\">{reason:s}</p> |'\n",
    "               )\n",
    "        if reason != current_reason:\n",
    "            logs.write(f'### {reason:s} \\n\\n')\n",
    "            current_reason = reason\n",
    "        logs.write(data.data + '\\n\\n')\n",
    "        \n",
    "        # only display here the important errors (all in logs)\n",
    "        # if color in ('red',):\n",
    "        display(data)"
   ]
  },
  {
   "cell_type": "markdown",
   "id": "472d20ee",
   "metadata": {
    "papermill": {
     "duration": 0.004992,
     "end_time": "2024-10-07T04:12:54.932077",
     "exception": false,
     "start_time": "2024-10-07T04:12:54.927085",
     "status": "completed"
    },
    "tags": []
   },
   "source": [
    "## Export documents\n",
    "\n",
    "We now write the .md files and export relevant images"
   ]
  },
  {
   "cell_type": "code",
   "execution_count": 7,
   "id": "d426aed9",
   "metadata": {
    "execution": {
     "iopub.execute_input": "2024-10-07T04:12:54.943503Z",
     "iopub.status.busy": "2024-10-07T04:12:54.942969Z",
     "iopub.status.idle": "2024-10-07T04:12:54.949960Z",
     "shell.execute_reply": "2024-10-07T04:12:54.949455Z"
    },
    "papermill": {
     "duration": 0.013777,
     "end_time": "2024-10-07T04:12:54.950982",
     "exception": false,
     "start_time": "2024-10-07T04:12:54.937205",
     "status": "completed"
    },
    "tags": []
   },
   "outputs": [],
   "source": [
    "def export_markdown_summary(md: str, md_fname:str, directory: str):\n",
    "    \"\"\"Export MD document and associated relevant images\"\"\"\n",
    "    import os\n",
    "    import shutil\n",
    "    import re\n",
    "\n",
    "    if (os.path.exists(directory) and not os.path.isdir(directory)):\n",
    "        raise RuntimeError(f\"a non-directory file exists with name {directory:s}\")\n",
    "\n",
    "    if (not os.path.exists(directory)):\n",
    "        print(f\"creating directory {directory:s}\")\n",
    "        os.mkdir(directory)\n",
    "\n",
    "    fig_fnames = (re.compile(r'\\[Fig.*\\]\\((.*)\\)').findall(md) + \n",
    "                  re.compile(r'\\<img src=\"([^>\\s]*)\"[^>]*/>').findall(md))\n",
    "    print(\"found figures\", fig_fnames)\n",
    "    for fname in fig_fnames:\n",
    "        if 'http' in fname:\n",
    "            # No need to copy online figures\n",
    "            continue\n",
    "        if not os.path.exists(fname):\n",
    "            print(\"file not found\", fname)\n",
    "            continue\n",
    "        print(\"copying \", fname, \"to\", directory)\n",
    "        destdir = os.path.join(directory, os.path.dirname(fname))\n",
    "        destfname = os.path.join(destdir, os.path.basename(fname))\n",
    "        try:\n",
    "            os.makedirs(destdir)\n",
    "        except FileExistsError:\n",
    "            pass\n",
    "        shutil.copy(fname, destfname)\n",
    "    with open(os.path.join(directory, md_fname), 'w') as fout:\n",
    "        fout.write(md)\n",
    "    print(\"exported in \", os.path.join(directory, md_fname))\n",
    "    [print(\"    + \" + os.path.join(directory,fk)) for fk in fig_fnames]"
   ]
  },
  {
   "cell_type": "code",
   "execution_count": 8,
   "id": "014d04a4",
   "metadata": {
    "execution": {
     "iopub.execute_input": "2024-10-07T04:12:54.962469Z",
     "iopub.status.busy": "2024-10-07T04:12:54.962017Z",
     "iopub.status.idle": "2024-10-07T04:12:54.976756Z",
     "shell.execute_reply": "2024-10-07T04:12:54.976182Z"
    },
    "papermill": {
     "duration": 0.021407,
     "end_time": "2024-10-07T04:12:54.977695",
     "exception": false,
     "start_time": "2024-10-07T04:12:54.956288",
     "status": "completed"
    },
    "tags": []
   },
   "outputs": [
    {
     "name": "stdout",
     "output_type": "stream",
     "text": [
      "found figures ['tmp_2410.02864/./figures/correlations_sep_ordered_by_slope.png', 'tmp_2410.02864/./figures/feature_display.png', 'tmp_2410.02864/./figures/emerging_picture_PAH_ionized_gas.png']\n",
      "copying  tmp_2410.02864/./figures/correlations_sep_ordered_by_slope.png to _build/html/\n",
      "copying  tmp_2410.02864/./figures/feature_display.png to _build/html/\n",
      "copying  tmp_2410.02864/./figures/emerging_picture_PAH_ionized_gas.png to _build/html/\n",
      "exported in  _build/html/2410.02864.md\n",
      "    + _build/html/tmp_2410.02864/./figures/correlations_sep_ordered_by_slope.png\n",
      "    + _build/html/tmp_2410.02864/./figures/feature_display.png\n",
      "    + _build/html/tmp_2410.02864/./figures/emerging_picture_PAH_ionized_gas.png\n",
      "found figures ['tmp_2410.03527/./scarlet_poseidon_posteriors.png', 'tmp_2410.03527/./metallicity_pcloud_Zatm_3cases_new.png', 'tmp_2410.03527/./wlc_slc_fit_supremeSPOON.png']\n",
      "copying  tmp_2410.03527/./scarlet_poseidon_posteriors.png to _build/html/\n",
      "copying  tmp_2410.03527/./metallicity_pcloud_Zatm_3cases_new.png to _build/html/\n",
      "copying  tmp_2410.03527/./wlc_slc_fit_supremeSPOON.png to _build/html/\n",
      "exported in  _build/html/2410.03527.md\n",
      "    + _build/html/tmp_2410.03527/./scarlet_poseidon_posteriors.png\n",
      "    + _build/html/tmp_2410.03527/./metallicity_pcloud_Zatm_3cases_new.png\n",
      "    + _build/html/tmp_2410.03527/./wlc_slc_fit_supremeSPOON.png\n"
     ]
    }
   ],
   "source": [
    "for paper_id, md in documents:\n",
    "    export_markdown_summary(md, f\"{paper_id:s}.md\", '_build/html/')"
   ]
  },
  {
   "cell_type": "markdown",
   "id": "f087a0a7",
   "metadata": {
    "papermill": {
     "duration": 0.00518,
     "end_time": "2024-10-07T04:12:54.988239",
     "exception": false,
     "start_time": "2024-10-07T04:12:54.983059",
     "status": "completed"
    },
    "tags": []
   },
   "source": [
    "## Display the papers\n",
    "\n",
    "Not necessary but allows for a quick check."
   ]
  },
  {
   "cell_type": "code",
   "execution_count": 9,
   "id": "fd25f625",
   "metadata": {
    "execution": {
     "iopub.execute_input": "2024-10-07T04:12:55.000135Z",
     "iopub.status.busy": "2024-10-07T04:12:54.999609Z",
     "iopub.status.idle": "2024-10-07T04:12:55.006225Z",
     "shell.execute_reply": "2024-10-07T04:12:55.005719Z"
    },
    "papermill": {
     "duration": 0.013578,
     "end_time": "2024-10-07T04:12:55.007200",
     "exception": false,
     "start_time": "2024-10-07T04:12:54.993622",
     "status": "completed"
    },
    "scrolled": false,
    "tags": []
   },
   "outputs": [
    {
     "data": {
      "text/markdown": [
       "<div class=\"macros\" style=\"visibility:hidden;\">\n",
       "$\\newcommand{\\ensuremath}{}$\n",
       "$\\newcommand{\\xspace}{}$\n",
       "$\\newcommand{\\object}[1]{\\texttt{#1}}$\n",
       "$\\newcommand{\\farcs}{{.}''}$\n",
       "$\\newcommand{\\farcm}{{.}'}$\n",
       "$\\newcommand{\\arcsec}{''}$\n",
       "$\\newcommand{\\arcmin}{'}$\n",
       "$\\newcommand{\\ion}[2]{#1#2}$\n",
       "$\\newcommand{\\textsc}[1]{\\textrm{#1}}$\n",
       "$\\newcommand{\\hl}[1]{\\textrm{#1}}$\n",
       "$\\newcommand{\\footnote}[1]{}$\n",
       "$\\newcommand{\\vdag}{(v)^\\dagger}$\n",
       "$\\newcommand$\n",
       "$\\newcommand$\n",
       "$\\newcommand{\\halpha}{H\\alpha\\xspace}$\n",
       "$\\newcommand{\\hbeta}{H\\beta\\xspace}$\n",
       "$\\newcommand{\\oiiifull}{\\text{[O {\\sc iii}]}\\lambda   5007\\mathrm{Å}\\xspace}$\n",
       "$\\newcommand{\\oiii}{\\text{[O {\\sc iii}]}\\xspace}$\n",
       "$\\newcommand{\\oifull}{\\text{[O {\\sc i}]}\\lambda   6300\\mathrm{Å}\\xspace}$\n",
       "$\\newcommand{\\oi}{\\text{[O {\\sc i}]}\\xspace}$\n",
       "$\\newcommand{\\niifull}{\\text{[N {\\sc ii}]}\\lambda   6584\\mathrm{Å}\\xspace}$\n",
       "$\\newcommand{\\nii}{\\text{[N {\\sc ii}]}\\xspace}$\n",
       "$\\newcommand{\\siifull}{\\text{[S {\\sc ii}]}\\lambda\\lambda   6717\\mathrm{Å}+6731\\mathrm{Å}\\xspace}$\n",
       "$\\newcommand{\\sii}{\\text{[S {\\sc ii}]}\\xspace}$\n",
       "$\\newcommand{\\oiiihbeta}{\\log (\\text{[O {\\sc iii}]}/\\text{H}\\beta)\\xspace}$\n",
       "$\\newcommand{\\niihalpha}{\\log (\\text{[N {\\sc ii}]}/\\text{H}\\alpha)\\xspace}$\n",
       "$\\newcommand{\\siihalpha}{\\log (\\text{[S {\\sc ii}]}/\\text{H}\\alpha)\\xspace}$\n",
       "$\\newcommand{\\oihalpha}{\\log (\\text{[O {\\sc i}]}/\\text{H}\\alpha)\\xspace}$\n",
       "$\\newcommand{\\cofull}{\\mathrm{^{12}CO(2-1)} }$\n",
       "$\\newcommand{\\mic}{\\mathrm{\\mu m}\\xspace}$</div>\n",
       "\n",
       "\n",
       "\n",
       "<div id=\"title\">\n",
       "\n",
       "# PHANGS-ML: the universal relation between PAH band and optical line ratios across nearby star-forming galaxies\n",
       "\n",
       "</div>\n",
       "<div id=\"comments\">\n",
       "\n",
       "[![arXiv](https://img.shields.io/badge/arXiv-2410.02864-b31b1b.svg)](https://arxiv.org/abs/2410.02864)<mark>Appeared on: 2024-10-07</mark> -  _resubmitted to ApJ after addressing referee report; Figure 12 summarizes the results_\n",
       "\n",
       "</div>\n",
       "<div id=\"authors\">\n",
       "\n",
       "D. Baron, et al. -- incl., <mark>E. Schinnerer</mark>, <mark>S. Hannon</mark>\n",
       "\n",
       "</div>\n",
       "<div id=\"abstract\">\n",
       "\n",
       "**Abstract:** The structure and chemistry of the dusty interstellar medium (ISM) are shaped by complex processes that depend on the local radiation field, gas composition, and dust grain properties. Of particular importance are Polycyclic Aromatic Hydrocarbons (PAHs), which emit strong vibrational bands in the mid-infrared, and play a key role in the ISM energy balance. We recently identified global correlations between PAH band and optical line ratios across three nearby galaxies, suggesting a connection between PAH heating and gas ionization throughout the ISM. In this work, we perform a census of the PAH heating -- gas ionization connection using $\\sim$ 700,000 independent pixels that probe scales of 40--150 pc in nineteen nearby star-forming galaxies from the PHANGS survey. We find a universal relation between $\\log$ PAH(11.3 $\\mic$ /7.7 $\\mic$ ) and $\\log$ ( [ SII ] /H $\\alpha$ ) with a slope of $\\sim$ 0.2 and a scatter of $\\sim$ 0.025 dex. The only exception is a group of anomalous pixels that show unusually high (11.3 $\\mic$ /7.7 $\\mic$ ) PAH ratios in regions with old stellar populations and high starlight-to-dust emission ratios. Their mid-infrared spectra resemble those of elliptical galaxies. AGN hosts show modestly steeper slopes, with a $\\sim$ 10 \\% increase in PAH(11.3 $\\mic$ /7.7 $\\mic$ ) in the diffuse gas on kpc scales. This universal relation implies an emerging simplicity in the complex ISM, with a sequence that is driven by a single varying property: the spectral shape of the interstellar radiation field. This suggests that other properties, such as gas-phase abundances, gas ionization parameter, and grain charge distribution, are relatively uniform in all but specific cases.\n",
       "\n",
       "</div>\n",
       "\n",
       "<div id=\"div_fig1\">\n",
       "\n",
       "<img src=\"tmp_2410.02864/./figures/correlations_sep_ordered_by_slope.png\" alt=\"Fig6\" width=\"100%\"/>\n",
       "\n",
       "**Figure 6. -** **The $\\mathrm{\\log**$PAH(11.3/7.7) versus $\\sii$halpha relations across individual PHANGS galaxies on scales of 40--120 pc.} Each panel shows the 2D distribution of the $\\log$PAH(11.3/7.7) band ratio versus the $\\sii$halpha optical line ratio across a single PHANGS galaxy. The gray color-coding represent the number of pixels with the corresponding PAH and optical line ratios, where the total number of pixels ranges from 9 000 to 80 000, with most galaxies having around 20 000 spatially independent pixels. The black contours encompass the regions within which the counts are 5, 20, and 50. The relations are obtained using the maps at the $C_{\\mathrm{opt}}$ resolution, and each panel notes the spatial scale in parsec probed for the galaxy. The red error bars represent 6 bins in $\\sii$halpha and their medians and median absolute deviations of the $\\log$PAH(11.3/7.7) ratio in the bin. The red solid lines represent the best-fitting linear relations of the bins. The galaxies are ordered by their best-fitting slope, from the shallowest (NGC 1087) to the steepest (NGC 1365). Galaxies with pixels belonging to the anomalous group identified in Section \\ref{sec:results:PCA} and studied separately in Section \\ref{sec:results:anomalous_PAHs} are marked with orange edges. These pixels are filtered out and excluded from 2D histograms, contours, and best fits. Galaxies with known Seyfert nuclei are marked with blue edges. (*f:correlations_sep_ordered_by_slope*)\n",
       "\n",
       "</div>\n",
       "<div id=\"div_fig2\">\n",
       "\n",
       "<img src=\"tmp_2410.02864/./figures/feature_display.png\" alt=\"Fig5\" width=\"100%\"/>\n",
       "\n",
       "**Figure 5. -** **Two-dimensional visualization by {\\sc pca** of the optical-infrared feature space spanned by $\\sim$100 000 150 pc-scale pixels from the 19 PHANGS galaxies.}\n",
       "The top left panel shows the result of the {\\sc pca} decomposition applied to 108 403 spatially independent pixels that trace different optical and infrared features measured over a 150 pc scale. The bars represent the fraction of explained variance by each of the principal components, with the first component accounting for 41\\% of the full variance, and the second for 17\\%. Together, they account for 58\\% of the total variance in the data. The inset in the top left panel shows the location of the pixels in the two-dimensional plane spanned by these first two orthogonal principal components. In the rest of the panels, the distribution of the pixels in this 2D plane is color-coded by different features of interest, where it can be seen that the first principal component (x-axis) aligns roughly with the $\\log$PAH(11.3/7.7) versus optical line sequence, and the second component (y-axis) aligns roughly with the PAH-to-total dust mass fraction, $R_{\\mathrm{PAH}}$. In the bottom row, we mark a group of pixels that show anomalously high $\\log$PAH(11.3/7.7) ratios of $\\sim$0.7 dex (typical $\\log$PAH(11.3/7.7) ratios show a maximum of $\\sim$0.4 dex, see Section \\ref{sec:results:correlations}). The same group of pixels originates from regions dominated by old stellar populations, very high stellar-to-mid infrared emission ratio (suggesting old and bright populations), and relatively low PAH-to-hot dust ratio. We study this anomalous group in Section \\ref{sec:results:anomalous_PAHs}. (*f:feature_display*)\n",
       "\n",
       "</div>\n",
       "<div id=\"div_fig3\">\n",
       "\n",
       "<img src=\"tmp_2410.02864/./figures/emerging_picture_PAH_ionized_gas.png\" alt=\"Fig14\" width=\"100%\"/>\n",
       "\n",
       "**Figure 14. -** **Emerging picture of PAH band--optical line ratios correlations across nearby star-forming galaxies.****The left panel** depicts a typical nearby star-forming galaxy, where there is a tight correlation between $\\log$PAH(11.3/7.7) and $\\sii$halpha ratios on 40--150 pc scales. Similarly tight correlations are observed with other optical line ratios: $\\oiii$hbeta, $\\nii$halpha, and $\\oi$halpha. The bottom left part of the relation is dominated by star-forming regions, where young massive stars ionize the gas. The top right part of the relation corresponds to diffuse regions on kpc scales, where a combination of radiation leaking from HII regions and from hot and evolved stars ionizes the gas, giving rise to LINER/LIER-like optical line ratios. The slope of the relation is $\\beta \\sim 0.2$, roughly matching the expected relation for a varying radiation field that heats the PAHs and ionizes the gas (see \\citetalias{baron24}). The small scatter in the relation, $\\sim$ 0.025 dex, suggests uniform PAH ionization fraction across different environments and galaxies. **The middle panel** represents a small group of pixels observed in a handful of galaxies, showing anomalously-high $\\log$PAH(11.3/7.7) ratios for a constant $\\sii$halpha ratio. Such PAH ratios are observed in regions with old stellar populations and unusually high starlight-to-dust emission ratio, $\\log$F200W/F770W$>$ 0.4 dex. The anomalous ratios are consistent with PAH populations with larger grain sizes, which can be either the result of processes that change the typical ISM grain population as it streams into the center (destruction via shocks or under-production in grain-grain collisions), or the result of a varying mixing between two grain populations: those of the typical dusty ISM and those produced in AGB star atmospheres. **The right panel** shows a star-forming galaxy with a low luminosity AGN in its center. The AGN contributes to the total radiation field affecting the PAHs and ionized gas on kpc scales, resulting in a small enhancement of $\\log$PAH(11.3/7.7)$\\sim$0.05 dex$\\sim$10\\%. The AGN has little impact on the $\\sii$halpha ratio, but a stronger impact on the $\\oiii$hbeta ratio, with the two optical line ratios consistent with Seyfert-like ionization in standard line diagnostic diagrams. (*f:emerging_picture_PAH_ionized_gas*)\n",
       "\n",
       "</div><div id=\"qrcode\"><img src=https://api.qrserver.com/v1/create-qr-code/?size=100x100&data=\"https://arxiv.org/abs/2410.02864\"></div>"
      ],
      "text/plain": [
       "<IPython.core.display.Markdown object>"
      ]
     },
     "metadata": {},
     "output_type": "display_data"
    },
    {
     "data": {
      "text/markdown": [
       "<div class=\"macros\" style=\"visibility:hidden;\">\n",
       "$\\newcommand{\\ensuremath}{}$\n",
       "$\\newcommand{\\xspace}{}$\n",
       "$\\newcommand{\\object}[1]{\\texttt{#1}}$\n",
       "$\\newcommand{\\farcs}{{.}''}$\n",
       "$\\newcommand{\\farcm}{{.}'}$\n",
       "$\\newcommand{\\arcsec}{''}$\n",
       "$\\newcommand{\\arcmin}{'}$\n",
       "$\\newcommand{\\ion}[2]{#1#2}$\n",
       "$\\newcommand{\\textsc}[1]{\\textrm{#1}}$\n",
       "$\\newcommand{\\hl}[1]{\\textrm{#1}}$\n",
       "$\\newcommand{\\footnote}[1]{}$\n",
       "$\\newcommand{\\vdag}{(v)^\\dagger}$\n",
       "$\\newcommand$\n",
       "$\\newcommand$\n",
       "$\\newcommand{\\logX}[1]{\\ensuremath{\\log(\\mathrm{X_{\\ce{#1}}})}}$\n",
       "$\\newcommand{\\logXratio}[2]{\\ensuremath{\\log(\\mathrm{X_{\\ce{#1}} / X_{\\ce{#2}} })}}$\n",
       "$\\newcommand{\\umontreal}{Department of Physics and Trottier Institute for Research on Exoplanets, Université de Montréal, Montreal, QC, Canada \\href{mailto:caroline.piaulet@umontreal.ca}{caroline.piaulet@umontreal.ca}}$\n",
       "$\\newcommand{\\thefigure}{A\\arabic{figure}}$\n",
       "$\\newcommand{\\thetable}{A\\arabic{table}}$</div>\n",
       "\n",
       "\n",
       "\n",
       "<div id=\"title\">\n",
       "\n",
       "# JWST/NIRISS reveals the water-rich \"steam world\" atmosphere of GJ 9827 d\n",
       "\n",
       "</div>\n",
       "<div id=\"comments\">\n",
       "\n",
       "[![arXiv](https://img.shields.io/badge/arXiv-2410.03527-b31b1b.svg)](https://arxiv.org/abs/2410.03527)<mark>Appeared on: 2024-10-07</mark> -  _37 pages, 18 figures, Accepted for publication in ApJL_\n",
       "\n",
       "</div>\n",
       "<div id=\"authors\">\n",
       "\n",
       "C. Piaulet-Ghorayeb, et al. -- incl., <mark>E.-M. Ahrer</mark>, <mark>D. Christie</mark>, <mark>L. Acuña</mark>, <mark>C. Gapp</mark>\n",
       "\n",
       "</div>\n",
       "<div id=\"abstract\">\n",
       "\n",
       "**Abstract:** With sizable volatile envelopes but smaller radii than the solar system ice giants, sub-Neptunes have been revealed as one of the most common types of planet in the galaxy. While the spectroscopic characterization of larger sub-Neptunes (2.5--4R $_\\oplus$ ) has revealed hydrogen-dominated atmospheres, smaller sub-Neptunes (1.6--2.5R $_\\oplus$ ) could either host thin, rapidly evaporating hydrogen-rich atmospheres or be stable metal-rich “water worlds” with high mean molecular weight atmospheres and a fundamentally different formation and evolutionary history. Here, we present the 0.6--2.8 $\\mu$ m JWST NIRISS/SOSS transmission spectrum of GJ 9827 d, the smallest (1.98 R $_\\oplus$ ) warm (T $_\\mathrm{eq, A_B=0.3} \\sim 620$ K) sub-Neptune where atmospheric absorbers have been detected to date. Our two transit observations with NIRISS/SOSS, combined with the existing _HST_ /WFC3 spectrum, enable us to break the clouds-metallicity degeneracy. We detect water in a highly metal-enriched \"steam world\" atmosphere (O/H of $\\sim 4$ by mass and $H_2$ O found to be the background gas with a volume mixing ratio (VMR) of $>31$ \\% ). We further show that these results are robust to stellar contamination through the transit light source effect. We do not detect escaping metastable He, which, combined with previous nondetections of escaping He and H, supports the steam atmosphere scenario. In water-rich atmospheres, hydrogen loss driven by water photolysis happens predominantly in the ionized form which eludes observational constraints. We also detect several flares in the NIRISS/SOSS light-curves with far-UV energies of the order of 10 $^{30}$ erg, highlighting the active nature of the star. Further atmospheric characterization of GJ 9827 d probing carbon or sulfur species could reveal the origin of its high metal enrichment.\n",
       "\n",
       "</div>\n",
       "\n",
       "<div id=\"div_fig1\">\n",
       "\n",
       "<img src=\"tmp_2410.03527/./scarlet_poseidon_posteriors.png\" alt=\"Fig17\" width=\"100%\"/>\n",
       "\n",
       "**Figure 17. -** Posterior distributions for important atmospheric volatile species (top, blue) and the stellar heterogeneity component (bottom, orange), for the POSEIDON retrieval (top rows) using a centered-log-ratios (CLR) agnostic prior on the background gas, and for the SCARLET retrieval (bottom rows) where $H_2$/He is the filler (background) gas. Different colors correspond to different retrievals where spots or faculae are included or excluded (see legend). Our constraints on the HMMW atmospheric volatile species are broadly unaffected by our treatment of stellar contamination, and the retrieval only provides a lower limit on the $H_2$O abundance. For the SCARLET retrieval, the distributions on $T_\\mathrm{spot}$ and $T_\\mathrm{fac}$ are derived from the posterior distributions on $\\Delta T_\\mathrm{spot}$, $\\Delta T_\\mathrm{fac}$ and $T_\\mathrm{phot,star}$. The POSEIDON prior on the spot temperature extends all the way to 2300 K, while SCARLET assumes that spots are at most 800 K colder than the photosphere. (*fig:1d_distri_retrieval*)\n",
       "\n",
       "</div>\n",
       "<div id=\"div_fig2\">\n",
       "\n",
       "<img src=\"tmp_2410.03527/./metallicity_pcloud_Zatm_3cases_new.png\" alt=\"Fig10\" width=\"100%\"/>\n",
       "\n",
       "**Figure 10. -** Constraints on the atmospheric composition from the POSEIDON retrieval with the agnostic (CLR) prior on the background gas (pink), the SCARLET retrieval with $H_2$/He assumed to be the background gas (blue), and SCARLET chemically-consistent retrieval (orange). _Left panel:_ Contours representing the 0.5, 1, 1.5, and 2$\\sigma$ levels in the joint posterior probability distribution on the atmospheric metallicity and the gray cloud top pressure, for all three retrievals. _Right panel:_ Kernel density estimations of  the atmospheric metal mass fraction $Z_\\mathrm{atm}$ obtained from all posterior samples, for each retrieval setup. (*fig:met_pcloud_zatm*)\n",
       "\n",
       "</div>\n",
       "<div id=\"div_fig3\">\n",
       "\n",
       "<img src=\"tmp_2410.03527/./wlc_slc_fit_supremeSPOON.png\" alt=\"Fig8\" width=\"100%\"/>\n",
       "\n",
       "**Figure 8. -** _Top panels:_ Results from the white light curve fit of the supreme-SPOON reduction for Visits 1 (left) and 2 (right), and fitted systematics models. The order 1 systematics-corrected light-curves are shown (teal points), binned for visual purposes, along with the best-fit transit model (black) and the systematics model including the GP component (red, with the GP scaled for visualization purposes). The vertical blue shaded regions indicate the three candidate flares with the highest signal-to-noise spectra and following typical flare evolution profiles (see Section \\ref{ssec:intransit_varia}).\n",
       "    _Bottom panels:_ Spectroscopic light-curve fits to the two NIRISS/SOSS transits of GJ 9827 d from the \\texttt{supreme-SPOON} reduction. The left panel corresponds to the first visit and the right panel to the second visit. We show the detrended broadband light-curve for order 2, and seven spectroscopic light-curves from order 1, from top to bottom. The best-fit astrophysical model is shown for each light-curve (black) and light-curves are offset relative to each other for clarity.\n",
       "     (*fig:wlc_slc_fit*)\n",
       "\n",
       "</div><div id=\"qrcode\"><img src=https://api.qrserver.com/v1/create-qr-code/?size=100x100&data=\"https://arxiv.org/abs/2410.03527\"></div>"
      ],
      "text/plain": [
       "<IPython.core.display.Markdown object>"
      ]
     },
     "metadata": {},
     "output_type": "display_data"
    }
   ],
   "source": [
    "[display(Markdown(k[1])) for k in documents];"
   ]
  },
  {
   "cell_type": "markdown",
   "id": "873873a4",
   "metadata": {
    "papermill": {
     "duration": 0.005623,
     "end_time": "2024-10-07T04:12:55.018596",
     "exception": false,
     "start_time": "2024-10-07T04:12:55.012973",
     "status": "completed"
    },
    "tags": []
   },
   "source": [
    "# Create HTML index"
   ]
  },
  {
   "cell_type": "code",
   "execution_count": 10,
   "id": "cf665672",
   "metadata": {
    "execution": {
     "iopub.execute_input": "2024-10-07T04:12:55.030990Z",
     "iopub.status.busy": "2024-10-07T04:12:55.030554Z",
     "iopub.status.idle": "2024-10-07T04:12:55.038486Z",
     "shell.execute_reply": "2024-10-07T04:12:55.037936Z"
    },
    "papermill": {
     "duration": 0.015218,
     "end_time": "2024-10-07T04:12:55.039502",
     "exception": false,
     "start_time": "2024-10-07T04:12:55.024284",
     "status": "completed"
    },
    "tags": []
   },
   "outputs": [
    {
     "name": "stdout",
     "output_type": "stream",
     "text": [
      "208  publications files modified in the last 7 days.\n"
     ]
    }
   ],
   "source": [
    "from datetime import datetime, timedelta, timezone\n",
    "from glob import glob\n",
    "import os\n",
    "\n",
    "files = glob('_build/html/*.md')\n",
    "days = 7\n",
    "now = datetime.today()\n",
    "res = []\n",
    "for fk in files:\n",
    "    stat_result = os.stat(fk).st_ctime\n",
    "    modified = datetime.fromtimestamp(stat_result, tz=timezone.utc).replace(tzinfo=None)\n",
    "    delta = now.today() - modified\n",
    "    if delta <= timedelta(days=days):\n",
    "        res.append((delta.seconds, fk))\n",
    "res = [k[1] for k in reversed(sorted(res, key=lambda x:x[1]))]\n",
    "npub = len(res)\n",
    "print(len(res), f\" publications files modified in the last {days:d} days.\")\n",
    "# [ print('\\t', k) for k in res ];"
   ]
  },
  {
   "cell_type": "code",
   "execution_count": 11,
   "id": "015de740",
   "metadata": {
    "execution": {
     "iopub.execute_input": "2024-10-07T04:12:55.052133Z",
     "iopub.status.busy": "2024-10-07T04:12:55.051737Z",
     "iopub.status.idle": "2024-10-07T04:12:55.066211Z",
     "shell.execute_reply": "2024-10-07T04:12:55.065686Z"
    },
    "papermill": {
     "duration": 0.02191,
     "end_time": "2024-10-07T04:12:55.067209",
     "exception": false,
     "start_time": "2024-10-07T04:12:55.045299",
     "status": "completed"
    },
    "tags": []
   },
   "outputs": [
    {
     "name": "stdout",
     "output_type": "stream",
     "text": [
      "9  publications in the last 7 days.\n"
     ]
    }
   ],
   "source": [
    "import datetime\n",
    "from glob import glob\n",
    "\n",
    "def get_last_n_days(lst, days=1):\n",
    "    \"\"\" Get the documents from the last n days \"\"\"\n",
    "    sorted_lst = sorted(lst, key=lambda x: x[1], reverse=True)\n",
    "    for fname, date in sorted_lst:\n",
    "        if date >= str(datetime.date.today() - datetime.timedelta(days=days)):\n",
    "            yield fname\n",
    "\n",
    "def extract_appearance_dates(lst_file):\n",
    "    dates = []\n",
    "\n",
    "    def get_date(line):\n",
    "        return line\\\n",
    "            .split('Appeared on:')[-1]\\\n",
    "            .split('</mark>')[0].strip()\n",
    "\n",
    "    for fname in lst:\n",
    "        with open(fname, 'r') as f:\n",
    "            found_date = False\n",
    "            for line in f:\n",
    "                if not found_date:\n",
    "                    if \"Appeared on\" in line:\n",
    "                        found_date = True\n",
    "                        dates.append((fname, get_date(line)))\n",
    "                else:\n",
    "                    break\n",
    "    return dates\n",
    "\n",
    "from glob import glob\n",
    "lst = glob('_build/html/*md')\n",
    "days = 7\n",
    "dates = extract_appearance_dates(lst)\n",
    "res = list(get_last_n_days(dates, days))\n",
    "npub = len(res)\n",
    "print(len(res), f\" publications in the last {days:d} days.\")"
   ]
  },
  {
   "cell_type": "code",
   "execution_count": 12,
   "id": "52ca0208",
   "metadata": {
    "execution": {
     "iopub.execute_input": "2024-10-07T04:12:55.080107Z",
     "iopub.status.busy": "2024-10-07T04:12:55.079687Z",
     "iopub.status.idle": "2024-10-07T04:12:55.084561Z",
     "shell.execute_reply": "2024-10-07T04:12:55.084006Z"
    },
    "papermill": {
     "duration": 0.01214,
     "end_time": "2024-10-07T04:12:55.085466",
     "exception": false,
     "start_time": "2024-10-07T04:12:55.073326",
     "status": "completed"
    },
    "scrolled": false,
    "tags": []
   },
   "outputs": [],
   "source": [
    "def create_carousel(npub=4):\n",
    "    \"\"\" Generate the HTML code for a carousel with `npub` slides \"\"\"\n",
    "    carousel = [\"\"\"  <div class=\"carousel\" \"\"\",\n",
    "                \"\"\"       data-flickity='{ \"autoPlay\": 10000, \"adaptiveHeight\": true, \"resize\": true, \"wrapAround\": true, \"pauseAutoPlayOnHover\": true, \"groupCells\": 1 }' id=\"asyncTypeset\">\"\"\"\n",
    "                ]\n",
    "    \n",
    "    item_str = \"\"\"    <div class=\"carousel-cell\"> <div id=\"slide{k}\" class=\"md_view\">Content {k}</div> </div>\"\"\"\n",
    "    for k in range(1, npub + 1):\n",
    "        carousel.append(item_str.format(k=k))\n",
    "    carousel.append(\"  </div>\")\n",
    "    return '\\n'.join(carousel)\n",
    "\n",
    "def create_grid(npub=4):\n",
    "    \"\"\" Generate the HTML code for a flat grid with `npub` slides \"\"\"\n",
    "    grid = [\"\"\"  <div class=\"grid\"> \"\"\",\n",
    "                ]\n",
    "    \n",
    "    item_str = \"\"\"    <div class=\"grid-item\"> <div id=\"slide{k}\" class=\"md_view\">Content {k}</div> </div>\"\"\"\n",
    "    for k in range(1, npub + 1):\n",
    "        grid.append(item_str.format(k=k))\n",
    "    grid.append(\"  </div>\")\n",
    "    return '\\n'.join(grid)"
   ]
  },
  {
   "cell_type": "code",
   "execution_count": 13,
   "id": "a6eac5b6",
   "metadata": {
    "execution": {
     "iopub.execute_input": "2024-10-07T04:12:55.098148Z",
     "iopub.status.busy": "2024-10-07T04:12:55.097693Z",
     "iopub.status.idle": "2024-10-07T04:12:55.102577Z",
     "shell.execute_reply": "2024-10-07T04:12:55.102051Z"
    },
    "papermill": {
     "duration": 0.012105,
     "end_time": "2024-10-07T04:12:55.103472",
     "exception": false,
     "start_time": "2024-10-07T04:12:55.091367",
     "status": "completed"
    },
    "scrolled": false,
    "tags": []
   },
   "outputs": [],
   "source": [
    "carousel = create_carousel(npub)\n",
    "docs = ', '.join(['\"{0:s}\"'.format(k.split('/')[-1]) for k in res])\n",
    "slides = ', '.join([f'\"slide{k}\"' for k in range(1, npub + 1)])\n",
    "\n",
    "with open(\"daily_template.html\", \"r\") as tpl:\n",
    "    page = tpl.read()\n",
    "    page = page.replace(\"{%-- carousel:s --%}\", carousel)\\\n",
    "               .replace(\"{%-- suptitle:s --%}\",  \"7-day archives\" )\\\n",
    "               .replace(\"{%-- docs:s --%}\", docs)\\\n",
    "               .replace(\"{%-- slides:s --%}\", slides)\n",
    "    \n",
    "with open(\"_build/html/index_7days.html\", 'w') as fout:\n",
    "    fout.write(page)"
   ]
  },
  {
   "cell_type": "code",
   "execution_count": 14,
   "id": "adc1a1ec",
   "metadata": {
    "execution": {
     "iopub.execute_input": "2024-10-07T04:12:55.116522Z",
     "iopub.status.busy": "2024-10-07T04:12:55.116120Z",
     "iopub.status.idle": "2024-10-07T04:12:55.122396Z",
     "shell.execute_reply": "2024-10-07T04:12:55.121844Z"
    },
    "papermill": {
     "duration": 0.013794,
     "end_time": "2024-10-07T04:12:55.123389",
     "exception": false,
     "start_time": "2024-10-07T04:12:55.109595",
     "status": "completed"
    },
    "tags": []
   },
   "outputs": [
    {
     "name": "stdout",
     "output_type": "stream",
     "text": [
      "2  publications in the last day.\n"
     ]
    }
   ],
   "source": [
    "# redo for today\n",
    "days = 1\n",
    "res = list(get_last_n_days(dates, days))\n",
    "npub = len(res)\n",
    "print(len(res), f\" publications in the last day.\")\n",
    "\n",
    "carousel = create_carousel(npub)\n",
    "docs = ', '.join(['\"{0:s}\"'.format(k.split('/')[-1]) for k in res])\n",
    "slides = ', '.join([f'\"slide{k}\"' for k in range(1, npub + 1)])\n",
    "\n",
    "with open(\"daily_template.html\", \"r\") as tpl:\n",
    "    page = tpl.read()\n",
    "    page = page.replace(\"{%-- carousel:s --%}\", carousel)\\\n",
    "               .replace(\"{%-- suptitle:s --%}\",  \"Daily\" )\\\n",
    "               .replace(\"{%-- docs:s --%}\", docs)\\\n",
    "               .replace(\"{%-- slides:s --%}\", slides)\n",
    "    \n",
    "# print(carousel, docs, slides)\n",
    "# print(page)\n",
    "with open(\"_build/html/index_daily.html\", 'w') as fout:\n",
    "    fout.write(page)"
   ]
  },
  {
   "cell_type": "code",
   "execution_count": 15,
   "id": "00eece82",
   "metadata": {
    "execution": {
     "iopub.execute_input": "2024-10-07T04:12:55.136392Z",
     "iopub.status.busy": "2024-10-07T04:12:55.135785Z",
     "iopub.status.idle": "2024-10-07T04:12:55.142174Z",
     "shell.execute_reply": "2024-10-07T04:12:55.141547Z"
    },
    "papermill": {
     "duration": 0.013747,
     "end_time": "2024-10-07T04:12:55.143147",
     "exception": false,
     "start_time": "2024-10-07T04:12:55.129400",
     "status": "completed"
    },
    "scrolled": false,
    "tags": []
   },
   "outputs": [
    {
     "name": "stdout",
     "output_type": "stream",
     "text": [
      "6  6 publications selected.\n"
     ]
    }
   ],
   "source": [
    "# Create the flat grid of the last N papers (fixed number regardless of dates)\n",
    "from itertools import islice \n",
    "\n",
    "npub = 6\n",
    "res = [k[0] for k in (islice(reversed(sorted(dates, key=lambda x: x[1])), 6))]\n",
    "print(len(res), f\" {npub} publications selected.\")\n",
    "\n",
    "grid = create_grid(npub)\n",
    "docs = ', '.join(['\"{0:s}\"'.format(k.split('/')[-1]) for k in res])\n",
    "slides = ', '.join([f'\"slide{k}\"' for k in range(1, npub + 1)])\n",
    "\n",
    "with open(\"grid_template.html\", \"r\") as tpl:\n",
    "    page = tpl.read()\n",
    "    page = page.replace(\"{%-- grid-content:s --%}\", grid)\\\n",
    "               .replace(\"{%-- suptitle:s --%}\",  f\"Last {npub:,d} papers\" )\\\n",
    "               .replace(\"{%-- docs:s --%}\", docs)\\\n",
    "               .replace(\"{%-- slides:s --%}\", slides)\n",
    "    \n",
    "# print(grid, docs, slides)\n",
    "# print(page)\n",
    "with open(\"_build/html/index_npub_grid.html\", 'w') as fout:\n",
    "    fout.write(page)"
   ]
  }
 ],
 "metadata": {
  "kernelspec": {
   "display_name": "Python 3 (ipykernel)",
   "language": "python",
   "name": "python3"
  },
  "language_info": {
   "codemirror_mode": {
    "name": "ipython",
    "version": 3
   },
   "file_extension": ".py",
   "mimetype": "text/x-python",
   "name": "python",
   "nbconvert_exporter": "python",
   "pygments_lexer": "ipython3",
   "version": "3.9.20"
  },
  "papermill": {
   "default_parameters": {},
   "duration": 141.460128,
   "end_time": "2024-10-07T04:12:55.364691",
   "environment_variables": {},
   "exception": null,
   "input_path": "MPIA daily digest.ipynb",
   "output_path": "log.ipynb",
   "parameters": {},
   "start_time": "2024-10-07T04:10:33.904563",
   "version": "2.6.0"
  },
  "vscode": {
   "interpreter": {
    "hash": "aee8b7b246df8f9039afb4144a1f6fd8d2ca17a180786b69acc140d282b71a49"
   }
  },
  "widgets": {
   "application/vnd.jupyter.widget-state+json": {
    "state": {
     "13ab03f5812247108b71a83bab5ac84d": {
      "model_module": "@jupyter-widgets/base",
      "model_module_version": "2.0.0",
      "model_name": "LayoutModel",
      "state": {
       "_model_module": "@jupyter-widgets/base",
       "_model_module_version": "2.0.0",
       "_model_name": "LayoutModel",
       "_view_count": null,
       "_view_module": "@jupyter-widgets/base",
       "_view_module_version": "2.0.0",
       "_view_name": "LayoutView",
       "align_content": null,
       "align_items": null,
       "align_self": null,
       "border_bottom": null,
       "border_left": null,
       "border_right": null,
       "border_top": null,
       "bottom": null,
       "display": null,
       "flex": null,
       "flex_flow": null,
       "grid_area": null,
       "grid_auto_columns": null,
       "grid_auto_flow": null,
       "grid_auto_rows": null,
       "grid_column": null,
       "grid_gap": null,
       "grid_row": null,
       "grid_template_areas": null,
       "grid_template_columns": null,
       "grid_template_rows": null,
       "height": null,
       "justify_content": null,
       "justify_items": null,
       "left": null,
       "margin": null,
       "max_height": null,
       "max_width": null,
       "min_height": null,
       "min_width": null,
       "object_fit": null,
       "object_position": null,
       "order": null,
       "overflow": null,
       "padding": null,
       "right": null,
       "top": null,
       "visibility": null,
       "width": null
      }
     },
     "3904d3ffeb194b1890423c5bd636ba94": {
      "model_module": "@jupyter-widgets/base",
      "model_module_version": "2.0.0",
      "model_name": "LayoutModel",
      "state": {
       "_model_module": "@jupyter-widgets/base",
       "_model_module_version": "2.0.0",
       "_model_name": "LayoutModel",
       "_view_count": null,
       "_view_module": "@jupyter-widgets/base",
       "_view_module_version": "2.0.0",
       "_view_name": "LayoutView",
       "align_content": null,
       "align_items": null,
       "align_self": null,
       "border_bottom": null,
       "border_left": null,
       "border_right": null,
       "border_top": null,
       "bottom": null,
       "display": null,
       "flex": null,
       "flex_flow": null,
       "grid_area": null,
       "grid_auto_columns": null,
       "grid_auto_flow": null,
       "grid_auto_rows": null,
       "grid_column": null,
       "grid_gap": null,
       "grid_row": null,
       "grid_template_areas": null,
       "grid_template_columns": null,
       "grid_template_rows": null,
       "height": null,
       "justify_content": null,
       "justify_items": null,
       "left": null,
       "margin": null,
       "max_height": null,
       "max_width": null,
       "min_height": null,
       "min_width": null,
       "object_fit": null,
       "object_position": null,
       "order": null,
       "overflow": null,
       "padding": null,
       "right": null,
       "top": null,
       "visibility": null,
       "width": null
      }
     },
     "4121bb38a7c44852aaae3dc7b797ae72": {
      "model_module": "@jupyter-widgets/controls",
      "model_module_version": "2.0.0",
      "model_name": "HTMLStyleModel",
      "state": {
       "_model_module": "@jupyter-widgets/controls",
       "_model_module_version": "2.0.0",
       "_model_name": "HTMLStyleModel",
       "_view_count": null,
       "_view_module": "@jupyter-widgets/base",
       "_view_module_version": "2.0.0",
       "_view_name": "StyleView",
       "background": null,
       "description_width": "",
       "font_size": null,
       "text_color": null
      }
     },
     "519fc13744c84f2db274c09be5350b81": {
      "model_module": "@jupyter-widgets/controls",
      "model_module_version": "2.0.0",
      "model_name": "HTMLModel",
      "state": {
       "_dom_classes": [],
       "_model_module": "@jupyter-widgets/controls",
       "_model_module_version": "2.0.0",
       "_model_name": "HTMLModel",
       "_view_count": null,
       "_view_module": "@jupyter-widgets/controls",
       "_view_module_version": "2.0.0",
       "_view_name": "HTMLView",
       "description": "",
       "description_allow_html": false,
       "layout": "IPY_MODEL_13ab03f5812247108b71a83bab5ac84d",
       "placeholder": "​",
       "style": "IPY_MODEL_4121bb38a7c44852aaae3dc7b797ae72",
       "tabbable": null,
       "tooltip": null,
       "value": "100%"
      }
     },
     "584bf25979ee4ffaa52a93f584c28885": {
      "model_module": "@jupyter-widgets/base",
      "model_module_version": "2.0.0",
      "model_name": "LayoutModel",
      "state": {
       "_model_module": "@jupyter-widgets/base",
       "_model_module_version": "2.0.0",
       "_model_name": "LayoutModel",
       "_view_count": null,
       "_view_module": "@jupyter-widgets/base",
       "_view_module_version": "2.0.0",
       "_view_name": "LayoutView",
       "align_content": null,
       "align_items": null,
       "align_self": null,
       "border_bottom": null,
       "border_left": null,
       "border_right": null,
       "border_top": null,
       "bottom": null,
       "display": null,
       "flex": null,
       "flex_flow": null,
       "grid_area": null,
       "grid_auto_columns": null,
       "grid_auto_flow": null,
       "grid_auto_rows": null,
       "grid_column": null,
       "grid_gap": null,
       "grid_row": null,
       "grid_template_areas": null,
       "grid_template_columns": null,
       "grid_template_rows": null,
       "height": null,
       "justify_content": null,
       "justify_items": null,
       "left": null,
       "margin": null,
       "max_height": null,
       "max_width": null,
       "min_height": null,
       "min_width": null,
       "object_fit": null,
       "object_position": null,
       "order": null,
       "overflow": null,
       "padding": null,
       "right": null,
       "top": null,
       "visibility": null,
       "width": null
      }
     },
     "72790e7dfebc4a30aba32b05de0d1d1e": {
      "model_module": "@jupyter-widgets/base",
      "model_module_version": "2.0.0",
      "model_name": "LayoutModel",
      "state": {
       "_model_module": "@jupyter-widgets/base",
       "_model_module_version": "2.0.0",
       "_model_name": "LayoutModel",
       "_view_count": null,
       "_view_module": "@jupyter-widgets/base",
       "_view_module_version": "2.0.0",
       "_view_name": "LayoutView",
       "align_content": null,
       "align_items": null,
       "align_self": null,
       "border_bottom": null,
       "border_left": null,
       "border_right": null,
       "border_top": null,
       "bottom": null,
       "display": null,
       "flex": null,
       "flex_flow": null,
       "grid_area": null,
       "grid_auto_columns": null,
       "grid_auto_flow": null,
       "grid_auto_rows": null,
       "grid_column": null,
       "grid_gap": null,
       "grid_row": null,
       "grid_template_areas": null,
       "grid_template_columns": null,
       "grid_template_rows": null,
       "height": null,
       "justify_content": null,
       "justify_items": null,
       "left": null,
       "margin": null,
       "max_height": null,
       "max_width": null,
       "min_height": null,
       "min_width": null,
       "object_fit": null,
       "object_position": null,
       "order": null,
       "overflow": null,
       "padding": null,
       "right": null,
       "top": null,
       "visibility": null,
       "width": null
      }
     },
     "7337e42bb5da4f7ab46af397b397d742": {
      "model_module": "@jupyter-widgets/controls",
      "model_module_version": "2.0.0",
      "model_name": "ProgressStyleModel",
      "state": {
       "_model_module": "@jupyter-widgets/controls",
       "_model_module_version": "2.0.0",
       "_model_name": "ProgressStyleModel",
       "_view_count": null,
       "_view_module": "@jupyter-widgets/base",
       "_view_module_version": "2.0.0",
       "_view_name": "StyleView",
       "bar_color": null,
       "description_width": ""
      }
     },
     "83458bf3be4f4e59b226e45c9d8a1668": {
      "model_module": "@jupyter-widgets/controls",
      "model_module_version": "2.0.0",
      "model_name": "HBoxModel",
      "state": {
       "_dom_classes": [],
       "_model_module": "@jupyter-widgets/controls",
       "_model_module_version": "2.0.0",
       "_model_name": "HBoxModel",
       "_view_count": null,
       "_view_module": "@jupyter-widgets/controls",
       "_view_module_version": "2.0.0",
       "_view_name": "HBoxView",
       "box_style": "",
       "children": [
        "IPY_MODEL_519fc13744c84f2db274c09be5350b81",
        "IPY_MODEL_d162eac1467648eabf90638525950650",
        "IPY_MODEL_d8b9ced679f14e829f0271c8282ed66a"
       ],
       "layout": "IPY_MODEL_3904d3ffeb194b1890423c5bd636ba94",
       "tabbable": null,
       "tooltip": null
      }
     },
     "8984858f143141458eeb18d39d5967b9": {
      "model_module": "@jupyter-widgets/controls",
      "model_module_version": "2.0.0",
      "model_name": "HTMLStyleModel",
      "state": {
       "_model_module": "@jupyter-widgets/controls",
       "_model_module_version": "2.0.0",
       "_model_name": "HTMLStyleModel",
       "_view_count": null,
       "_view_module": "@jupyter-widgets/base",
       "_view_module_version": "2.0.0",
       "_view_name": "StyleView",
       "background": null,
       "description_width": "",
       "font_size": null,
       "text_color": null
      }
     },
     "d162eac1467648eabf90638525950650": {
      "model_module": "@jupyter-widgets/controls",
      "model_module_version": "2.0.0",
      "model_name": "FloatProgressModel",
      "state": {
       "_dom_classes": [],
       "_model_module": "@jupyter-widgets/controls",
       "_model_module_version": "2.0.0",
       "_model_name": "FloatProgressModel",
       "_view_count": null,
       "_view_module": "@jupyter-widgets/controls",
       "_view_module_version": "2.0.0",
       "_view_name": "ProgressView",
       "bar_style": "success",
       "description": "",
       "description_allow_html": false,
       "layout": "IPY_MODEL_584bf25979ee4ffaa52a93f584c28885",
       "max": 3.0,
       "min": 0.0,
       "orientation": "horizontal",
       "style": "IPY_MODEL_7337e42bb5da4f7ab46af397b397d742",
       "tabbable": null,
       "tooltip": null,
       "value": 3.0
      }
     },
     "d8b9ced679f14e829f0271c8282ed66a": {
      "model_module": "@jupyter-widgets/controls",
      "model_module_version": "2.0.0",
      "model_name": "HTMLModel",
      "state": {
       "_dom_classes": [],
       "_model_module": "@jupyter-widgets/controls",
       "_model_module_version": "2.0.0",
       "_model_name": "HTMLModel",
       "_view_count": null,
       "_view_module": "@jupyter-widgets/controls",
       "_view_module_version": "2.0.0",
       "_view_name": "HTMLView",
       "description": "",
       "description_allow_html": false,
       "layout": "IPY_MODEL_72790e7dfebc4a30aba32b05de0d1d1e",
       "placeholder": "​",
       "style": "IPY_MODEL_8984858f143141458eeb18d39d5967b9",
       "tabbable": null,
       "tooltip": null,
       "value": " 3/3 [02:01&lt;00:00, 33.55s/it]"
      }
     }
    },
    "version_major": 2,
    "version_minor": 0
   }
  }
 },
 "nbformat": 4,
 "nbformat_minor": 5
}