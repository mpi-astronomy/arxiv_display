{
 "cells": [
  {
   "cell_type": "markdown",
   "id": "92bcb855",
   "metadata": {
    "papermill": {
     "duration": 0.003839,
     "end_time": "2025-05-23T04:14:08.111869",
     "exception": false,
     "start_time": "2025-05-23T04:14:08.108030",
     "status": "completed"
    },
    "tags": []
   },
   "source": [
    "# MPIA Arxiv on Deck 2\n",
    "\n",
    "Contains the steps to produce the paper extractions."
   ]
  },
  {
   "cell_type": "code",
   "execution_count": 1,
   "id": "3a0d6e11",
   "metadata": {
    "execution": {
     "iopub.execute_input": "2025-05-23T04:14:08.119362Z",
     "iopub.status.busy": "2025-05-23T04:14:08.119019Z",
     "iopub.status.idle": "2025-05-23T04:14:08.611937Z",
     "shell.execute_reply": "2025-05-23T04:14:08.611198Z"
    },
    "papermill": {
     "duration": 0.498305,
     "end_time": "2025-05-23T04:14:08.613469",
     "exception": false,
     "start_time": "2025-05-23T04:14:08.115164",
     "status": "completed"
    },
    "tags": []
   },
   "outputs": [],
   "source": [
    "# Imports\n",
    "import os\n",
    "from IPython.display import Markdown, display\n",
    "from tqdm.notebook import tqdm\n",
    "import warnings\n",
    "from PIL import Image \n",
    "import re\n",
    "\n",
    "# requires arxiv_on_deck_2\n",
    "\n",
    "from arxiv_on_deck_2.arxiv2 import (get_new_papers, \n",
    "                                    get_paper_from_identifier,\n",
    "                                    retrieve_document_source, \n",
    "                                    get_markdown_badge)\n",
    "from arxiv_on_deck_2 import (latex,\n",
    "                             latex_bib,\n",
    "                             mpia,\n",
    "                             highlight_authors_in_list)\n",
    "\n",
    "# Sometimes images are really big\n",
    "Image.MAX_IMAGE_PIXELS = 1000000000 "
   ]
  },
  {
   "cell_type": "code",
   "execution_count": 2,
   "id": "22aa9d44",
   "metadata": {
    "execution": {
     "iopub.execute_input": "2025-05-23T04:14:08.620841Z",
     "iopub.status.busy": "2025-05-23T04:14:08.620574Z",
     "iopub.status.idle": "2025-05-23T04:14:08.628666Z",
     "shell.execute_reply": "2025-05-23T04:14:08.628108Z"
    },
    "papermill": {
     "duration": 0.012929,
     "end_time": "2025-05-23T04:14:08.629699",
     "exception": false,
     "start_time": "2025-05-23T04:14:08.616770",
     "status": "completed"
    },
    "tags": []
   },
   "outputs": [],
   "source": [
    "# Some useful definitions.\n",
    "\n",
    "class AffiliationWarning(UserWarning):\n",
    "    pass\n",
    "\n",
    "class AffiliationError(RuntimeError):\n",
    "    pass\n",
    "\n",
    "def validation(source: str):\n",
    "    \"\"\"Raises error paper during parsing of source file\n",
    "    \n",
    "    Allows checks before parsing TeX code.\n",
    "    \n",
    "    Raises AffiliationWarning\n",
    "    \"\"\"\n",
    "    check = mpia.affiliation_verifications(source, verbose=True)\n",
    "    if check is not True:\n",
    "        raise AffiliationError(\"mpia.affiliation_verifications: \" + check)\n",
    "\n",
    "        \n",
    "warnings.simplefilter('always', AffiliationWarning)\n",
    "\n",
    "\n",
    "def get_markdown_qrcode(paper_id: str):\n",
    "    \"\"\" Generate a qrcode to the arxiv page using qrserver.com\n",
    "    \n",
    "    :param paper: Arxiv paper\n",
    "    :returns: markdown text\n",
    "    \"\"\"\n",
    "    url = r\"https://api.qrserver.com/v1/create-qr-code/?size=100x100&data=\"\n",
    "    txt = f\"\"\"<img src={url}\"https://arxiv.org/abs/{paper_id}\">\"\"\"\n",
    "    txt = '<div id=\"qrcode\">' + txt + '</div>'\n",
    "    return txt\n",
    "\n",
    "\n",
    "def clean_non_western_encoded_characters_commands(text: str) -> str:\n",
    "    \"\"\" Remove non-western encoded characters from a string\n",
    "    List may need to grow.\n",
    "    \n",
    "    :param text: the text to clean\n",
    "    :return: the cleaned text\n",
    "    \"\"\"\n",
    "    text = re.sub(r\"(\\\\begin{CJK}{UTF8}{gbsn})(.*?)(\\\\end{CJK})\", r\"\\2\", text)\n",
    "    return text\n",
    "\n",
    "\n",
    "def get_initials(name: str) -> str:\n",
    "    \"\"\" Get the short name, e.g., A.-B. FamName\n",
    "    :param name: full name\n",
    "    :returns: initials\n",
    "    \"\"\"\n",
    "    initials = []\n",
    "    # account for non western names often in ()\n",
    "    if '(' in name:\n",
    "        name = clean_non_western_encoded_characters_commands(name)\n",
    "        suffix = re.findall(r\"\\((.*?)\\)\", name)[0]\n",
    "        name = name.replace(f\"({suffix})\", '')\n",
    "    else:\n",
    "        suffix = ''\n",
    "    split = name.split()\n",
    "    for token in split[:-1]:\n",
    "        if '-' in token:\n",
    "            current = '-'.join([k[0] + '.' for k in token.split('-')])\n",
    "        else:\n",
    "            current = token[0] + '.'\n",
    "        initials.append(current)\n",
    "    initials.append(split[-1].strip())\n",
    "    if suffix:\n",
    "        initials.append(f\"({suffix})\")\n",
    "    return ' '.join(initials)"
   ]
  },
  {
   "cell_type": "markdown",
   "id": "14bd6310",
   "metadata": {
    "papermill": {
     "duration": 0.002863,
     "end_time": "2025-05-23T04:14:08.635548",
     "exception": false,
     "start_time": "2025-05-23T04:14:08.632685",
     "status": "completed"
    },
    "tags": []
   },
   "source": [
    "## get list of arxiv paper candidates\n",
    "\n",
    "We use the MPIA mitarbeiter list webpage from mpia.de to get author names\n",
    "We then get all new papers from Arxiv and match authors"
   ]
  },
  {
   "cell_type": "code",
   "execution_count": 3,
   "id": "7ea813a8",
   "metadata": {
    "execution": {
     "iopub.execute_input": "2025-05-23T04:14:08.642482Z",
     "iopub.status.busy": "2025-05-23T04:14:08.642073Z",
     "iopub.status.idle": "2025-05-23T04:14:29.035093Z",
     "shell.execute_reply": "2025-05-23T04:14:29.034377Z"
    },
    "papermill": {
     "duration": 20.398008,
     "end_time": "2025-05-23T04:14:29.036482",
     "exception": false,
     "start_time": "2025-05-23T04:14:08.638474",
     "status": "completed"
    },
    "tags": []
   },
   "outputs": [],
   "source": [
    "# deal with the author list and edge cases of people that cannot be consistent on their name  \n",
    "\n",
    "def filter_non_scientists(name: str) -> bool:\n",
    "    \"\"\" Loose filter on expected authorships\n",
    "\n",
    "    removing IT, administration, technical staff\n",
    "    :param name: name\n",
    "    :returns: False if name is not a scientist\n",
    "    \"\"\"\n",
    "    remove_list = ['Licht', 'Binroth', 'Witzel', 'Jordan',\n",
    "                   'Zähringer', 'Scheerer', 'Hoffmann', 'Düe',\n",
    "                   'Hellmich', 'Enkler-Scharpegge', 'Witte-Nguy',\n",
    "                   'Dehen', 'Beckmann', 'Jager', 'Jäger'\n",
    "                  ]\n",
    "\n",
    "    for k in remove_list:\n",
    "        if k in name:\n",
    "            return False\n",
    "    return True\n",
    "\n",
    "def add_author_to_list(author_list: list) -> list:\n",
    "    \"\"\" Add author to list if not already in list\n",
    "    \n",
    "    :param author: author name\n",
    "    :param author_list: list of authors\n",
    "    :returns: updated list of authors\n",
    "    \"\"\"\n",
    "    add_list = ['T. Henning']\n",
    "\n",
    "    for author in add_list:\n",
    "        if author not in author_list:\n",
    "            author_list.append(author)\n",
    "    return author_list\n",
    "\n",
    "# get list from MPIA website\n",
    "# filter for non-scientists (mpia.get_mpia_mitarbeiter_list() does some filtering)\n",
    "mpia_authors = [k[1] for k in mpia.get_mpia_mitarbeiter_list() if filter_non_scientists(k[1])]\n",
    "# add some missing author because of inconsistencies in their MPIA name and author name on papers\n",
    "mpia_authors = add_author_to_list(mpia_authors)"
   ]
  },
  {
   "cell_type": "code",
   "execution_count": 4,
   "id": "2645e73a",
   "metadata": {
    "execution": {
     "iopub.execute_input": "2025-05-23T04:14:29.044348Z",
     "iopub.status.busy": "2025-05-23T04:14:29.043816Z",
     "iopub.status.idle": "2025-05-23T04:14:29.645334Z",
     "shell.execute_reply": "2025-05-23T04:14:29.644630Z"
    },
    "papermill": {
     "duration": 0.606518,
     "end_time": "2025-05-23T04:14:29.646479",
     "exception": false,
     "start_time": "2025-05-23T04:14:29.039961",
     "status": "completed"
    },
    "tags": []
   },
   "outputs": [
    {
     "name": "stdout",
     "output_type": "stream",
     "text": [
      "K. El-Badry  ->  K. El-Badry  |  ['K. El-Badry']\n",
      "N. Wang  ->  N. Wang  |  ['N. Wang']\n",
      "S. Belladitta  ->  S. Belladitta  |  ['S. Belladitta']\n",
      "E. Bañados  ->  E. Bañados  |  ['E. Bañados']\n",
      "Z.-L. Xie  ->  Z.-L. Xie  |  ['Z.-L. Xie']\n",
      "J. Wolf  ->  D. J. Wolf  |  ['J. Wolf']\n",
      "F. Walter  ->  F. Walter  |  ['F. Walter']\n",
      "E. Matthews  ->  E. Matthews  |  ['E. Matthews']\n",
      "J. Li  ->  J. Li  |  ['J. Li']\n",
      "C. Fendt  ->  C. Fendt  |  ['C. Fendt']\n"
     ]
    },
    {
     "name": "stdout",
     "output_type": "stream",
     "text": [
      "Arxiv has 61 new papers today\n",
      "          6 with possible author matches\n"
     ]
    }
   ],
   "source": [
    "new_papers = get_new_papers()\n",
    "# add manual references\n",
    "add_paper_refs = []\n",
    "new_papers.extend([get_paper_from_identifier(k) for k in add_paper_refs])\n",
    "\n",
    "def robust_call(fn, value, *args, **kwargs):\n",
    "    try:\n",
    "        return fn(value, *args, **kwargs)\n",
    "    except Exception:\n",
    "        return value\n",
    "\n",
    "candidates = []\n",
    "for paperk in new_papers:\n",
    "    # Check author list with their initials\n",
    "    normed_author_list = [robust_call(mpia.get_initials, k) for k in paperk['authors']]\n",
    "    hl_authors = highlight_authors_in_list(normed_author_list, mpia_authors, verbose=True)\n",
    "    matches = [(hl, orig) for hl, orig in zip(hl_authors, paperk['authors']) if 'mark' in hl]\n",
    "    paperk['authors'] = hl_authors\n",
    "    if matches:\n",
    "        # only select paper if an author matched our list\n",
    "        candidates.append(paperk)\n",
    "print(\"\"\"Arxiv has {0:,d} new papers today\"\"\".format(len(new_papers)))        \n",
    "print(\"\"\"          {0:,d} with possible author matches\"\"\".format(len(candidates)))"
   ]
  },
  {
   "cell_type": "markdown",
   "id": "3543b34a",
   "metadata": {
    "papermill": {
     "duration": 0.003154,
     "end_time": "2025-05-23T04:14:29.653279",
     "exception": false,
     "start_time": "2025-05-23T04:14:29.650125",
     "status": "completed"
    },
    "tags": []
   },
   "source": [
    "# Parse sources and generate relevant outputs\n",
    "\n",
    "From the candidates, we do the following steps:\n",
    "* get their tarball from ArXiv (and extract data)\n",
    "* find the main .tex file: find one with \\documentclass{...} (sometimes it's non trivial)\n",
    "* Check affiliations with :func:`validation`, which uses :func:`mpia.affiliation_verifications`\n",
    "* If passing the affiliations: we parse the .tex source\n",
    "   * inject sub-documents into the main (flatten the main document)\n",
    "   * parse structure, extract information (title, abstract, authors, figures...)\n",
    "   * handles `\\graphicspath` if provided\n",
    "* Generate the .md document."
   ]
  },
  {
   "cell_type": "code",
   "execution_count": 5,
   "id": "9576b79e",
   "metadata": {
    "execution": {
     "iopub.execute_input": "2025-05-23T04:14:29.660921Z",
     "iopub.status.busy": "2025-05-23T04:14:29.660439Z",
     "iopub.status.idle": "2025-05-23T04:15:11.059619Z",
     "shell.execute_reply": "2025-05-23T04:15:11.058900Z"
    },
    "papermill": {
     "duration": 41.404352,
     "end_time": "2025-05-23T04:15:11.060742",
     "exception": false,
     "start_time": "2025-05-23T04:14:29.656390",
     "status": "completed"
    },
    "scrolled": false,
    "tags": []
   },
   "outputs": [
    {
     "data": {
      "application/vnd.jupyter.widget-view+json": {
       "model_id": "863bb60527914687b24f7051855c92b3",
       "version_major": 2,
       "version_minor": 0
      },
      "text/plain": [
       "  0%|          | 0/6 [00:00<?, ?it/s]"
      ]
     },
     "metadata": {},
     "output_type": "display_data"
    },
    {
     "name": "stdout",
     "output_type": "stream",
     "text": [
      "Retrieving document from  https://arxiv.org/e-print/2505.15893\n",
      "extracting tarball to tmp_2505.15893..."
     ]
    },
    {
     "name": "stdout",
     "output_type": "stream",
     "text": [
      " done.\n",
      "Retrieving document from  https://arxiv.org/e-print/2505.15896\n"
     ]
    },
    {
     "name": "stdout",
     "output_type": "stream",
     "text": [
      "extracting tarball to tmp_2505.15896... done.\n",
      "Retrieving document from  https://arxiv.org/e-print/2505.15923\n",
      "extracting tarball to tmp_2505.15923..."
     ]
    },
    {
     "name": "stdout",
     "output_type": "stream",
     "text": [
      " done.\n"
     ]
    },
    {
     "name": "stdout",
     "output_type": "stream",
     "text": [
      "S. Belladitta  ->  S. Belladitta  |  ['S. Belladitta']\n",
      "E. Bañados  ->  E. Bañados  |  ['E. Bañados']\n",
      "Z.-L. Xie  ->  Z.-L. Xie  |  ['Z.-L. Xie']\n",
      "J. Wolf  ->  D. J. Wolf  |  ['J. Wolf']\n",
      "F. Walter  ->  F. Walter  |  ['F. Walter']\n"
     ]
    },
    {
     "name": "stdout",
     "output_type": "stream",
     "text": [
      "Found 197 bibliographic references in tmp_2505.15923/aa54859-25.bbl.\n",
      "Retrieving document from  https://arxiv.org/e-print/2505.15995\n",
      "extracting tarball to tmp_2505.15995..."
     ]
    },
    {
     "name": "stdout",
     "output_type": "stream",
     "text": [
      " done.\n"
     ]
    },
    {
     "name": "stdout",
     "output_type": "stream",
     "text": [
      "E. Matthews  ->  E. Matthews  |  ['E. Matthews']\n"
     ]
    },
    {
     "name": "stderr",
     "output_type": "stream",
     "text": [
      "/tmp/ipykernel_3383/2822249172.py:52: LatexWarning: 2505.15995 did not run properly\n",
      "list index out of range\n",
      "  warnings.warn(latex.LatexWarning(f\"{paper_id:s} did not run properly\\n\" +\n"
     ]
    },
    {
     "name": "stdout",
     "output_type": "stream",
     "text": [
      "Retrieving document from  https://arxiv.org/e-print/2505.16562\n"
     ]
    },
    {
     "name": "stdout",
     "output_type": "stream",
     "text": [
      "extracting tarball to tmp_2505.16562... done.\n",
      "Retrieving document from  https://arxiv.org/e-print/2505.16846\n"
     ]
    },
    {
     "name": "stdout",
     "output_type": "stream",
     "text": [
      "extracting tarball to tmp_2505.16846..."
     ]
    },
    {
     "name": "stdout",
     "output_type": "stream",
     "text": [
      " done.\n"
     ]
    },
    {
     "name": "stdout",
     "output_type": "stream",
     "text": [
      "C. Fendt  ->  C. Fendt  |  ['C. Fendt']\n"
     ]
    },
    {
     "name": "stdout",
     "output_type": "stream",
     "text": [
      "Found 75 bibliographic references in tmp_2505.16846/mainoutflow.bbl.\n"
     ]
    }
   ],
   "source": [
    "documents = []\n",
    "failed = []\n",
    "for paper in tqdm(candidates):\n",
    "    # debug crap\n",
    "    paper['identifier'] = paper['identifier'].lower().replace('arxiv:', '').replace(r'\\n', '').strip()\n",
    "    paper_id = paper['identifier']\n",
    "    \n",
    "    folder = f'tmp_{paper_id}'\n",
    "\n",
    "    try:\n",
    "        if not os.path.isdir(folder):\n",
    "            folder = retrieve_document_source(f\"{paper_id}\", f'tmp_{paper_id}')\n",
    "        \n",
    "        try:\n",
    "            doc = latex.LatexDocument(folder, validation=validation)    \n",
    "        except AffiliationError as affilerror:\n",
    "            msg = f\"ArXiv:{paper_id:s} is not an MPIA paper... \" + str(affilerror)\n",
    "            failed.append((paper, \"affiliation error: \" + str(affilerror) ))\n",
    "            continue\n",
    "        \n",
    "        # Hack because sometimes author parsing does not work well\n",
    "        if (len(doc.authors) != len(paper['authors'])):\n",
    "            doc._authors = paper['authors']\n",
    "        else:\n",
    "            # highlight authors (FIXME: doc.highlight_authors)\n",
    "            # done on arxiv paper already\n",
    "            doc._authors = highlight_authors_in_list(\n",
    "                [get_initials(k) for k in doc.authors], \n",
    "                mpia_authors, verbose=True)\n",
    "        if (doc.abstract) in (None, ''):\n",
    "            doc._abstract = paper['abstract']\n",
    "            \n",
    "        doc.comment = (get_markdown_badge(paper_id) + \n",
    "                       \"<mark>Appeared on: \" + paper['date'] + \"</mark> - \")\n",
    "        if paper['comments']:\n",
    "            doc.comment += \" _\" + paper['comments'] + \"_\"\n",
    "        \n",
    "        full_md = doc.generate_markdown_text()\n",
    "        \n",
    "        full_md += get_markdown_qrcode(paper_id)\n",
    "        \n",
    "        # replace citations\n",
    "        try:\n",
    "            bibdata = latex_bib.LatexBib.from_doc(doc)\n",
    "            full_md = latex_bib.replace_citations(full_md, bibdata)\n",
    "        except Exception as e:\n",
    "            print(\"Issues with the citations\")\n",
    "            print(e)\n",
    "        \n",
    "        documents.append((paper_id, full_md))\n",
    "    except Exception as e:\n",
    "        warnings.warn(latex.LatexWarning(f\"{paper_id:s} did not run properly\\n\" +\n",
    "                                         str(e)\n",
    "                                        ))\n",
    "        failed.append((paper, \"latex error \" + str(e)))"
   ]
  },
  {
   "cell_type": "markdown",
   "id": "2505a25c",
   "metadata": {
    "papermill": {
     "duration": 0.004021,
     "end_time": "2025-05-23T04:15:11.069130",
     "exception": false,
     "start_time": "2025-05-23T04:15:11.065109",
     "status": "completed"
    },
    "tags": []
   },
   "source": [
    "### Export the logs\n",
    "\n",
    "Throughout, we also keep track of the logs per paper. see `logs-{today date}.md` "
   ]
  },
  {
   "cell_type": "code",
   "execution_count": 6,
   "id": "d733828a",
   "metadata": {
    "execution": {
     "iopub.execute_input": "2025-05-23T04:15:11.078520Z",
     "iopub.status.busy": "2025-05-23T04:15:11.077975Z",
     "iopub.status.idle": "2025-05-23T04:15:11.095591Z",
     "shell.execute_reply": "2025-05-23T04:15:11.094898Z"
    },
    "papermill": {
     "duration": 0.023499,
     "end_time": "2025-05-23T04:15:11.096597",
     "exception": false,
     "start_time": "2025-05-23T04:15:11.073098",
     "status": "completed"
    },
    "scrolled": false,
    "tags": []
   },
   "outputs": [
    {
     "data": {
      "text/markdown": [
       "## Successful papers"
      ],
      "text/plain": [
       "<IPython.core.display.Markdown object>"
      ]
     },
     "metadata": {},
     "output_type": "display_data"
    },
    {
     "data": {
      "text/markdown": [
       "\n",
       "|||\n",
       "|---:|:---|\n",
       "| [![arXiv](https://img.shields.io/badge/arXiv-2505.15923-b31b1b.svg)](https://arxiv.org/abs/2505.15923) | **Discovery and characterization of 25 new quasars at 4.6 < z < 6.9 from wide-field multi-band surveys**  |\n",
       "|| <mark>S. Belladitta</mark>, et al. -- incl., <mark>E. Bañados</mark>, <mark>Z.-L. Xie</mark>, <mark>J. Wolf</mark>, <mark>F. Walter</mark> |\n",
       "|*Appeared on*| *2025-05-23*|\n",
       "|*Comments*| *25 pages, 8 figures, 12 tables, Accepted for publication in A&A*|\n",
       "|**Abstract**|            Luminous quasars at $z>4$ provide key insights into the early Universe. Their rarity necessitates wide-field multi-band surveys to efficiently separate them from the main astrophysical contaminants (i.e., ultracool dwarfs). To expand the sample of high-$z$ quasars, we conducted targeted selections using optical, infrared, and radio surveys, complemented by literature-based quasar candidate catalogs. In this paper, we report the discovery of \\nqsos\\ new quasars at $4.6<z<6.9$ (six at $z\\geq6.5$), with $M_{1450}$ between $-$25.4 and $-$27.0. We also present new spectra of six $z>6.5$ quasars we selected, but whose independent discovery has already been published in the literature. Three of the newly discovered quasars are strong radio emitters (L$_{1.4~\\rm GHz}$$=0.09-1.0\\times$10$^{34}$erg s$^{-1}$ Hz$^{-1}$). Among them, one source at $z=4.71$ exhibits typical blazar-like properties, including a flat radio spectrum, radio-loudness $\\sim$1000, and multi-frequency variability. It is also detected by SRG/eROSITA X-ray telescope (f$_{\\rm 0.2-2.3keV} \\sim 1.3\\times10^{-13}$erg s$^{-1}$ cm$^{-2}$). In addition, for seven $6.3<z<6.9$ quasars we present near-infrared spectroscopy and estimate the central black hole mass from their C$\\rm IV$ and Mg$\\rm II$ broad emission this http URL masses (log[M$_{\\rm BH,MgII}$]$=8.58-9.14~\\rm M_{\\odot}$) and Eddington ratios ($\\lambda_{\\rm Edd,MgII}=0.74-2.2$) are consistent with other $z>6$ quasars reported in the literature. A $z = 6.3$ quasar exhibits a velocity difference of approximately $9000$ km s$^{-1}$ between the C$\\rm IV$ and Mg$\\rm II$ emission lines, making it one of the most extreme C$\\rm IV$ outflows currently known. Additionally, the sample includes three high-ionization broad absorption line quasars. One of these quasars shows potential evidence of an extremely fast outflow feature, reaching $48000$ km s$^{-1}$.         |"
      ],
      "text/plain": [
       "[2505.15923] Discovery and characterization of 25 new quasars at 4.6 < z < 6.9 from wide-field multi-band surveys\n",
       "\t<mark>S. Belladitta</mark>, et al. -- incl., <mark>E. Bañados</mark>, <mark>Z.-L. Xie</mark>, <mark>J. Wolf</mark>, <mark>F. Walter</mark>"
      ]
     },
     "metadata": {},
     "output_type": "display_data"
    },
    {
     "data": {
      "text/markdown": [
       "\n",
       "|||\n",
       "|---:|:---|\n",
       "| [![arXiv](https://img.shields.io/badge/arXiv-2505.16846-b31b1b.svg)](https://arxiv.org/abs/2505.16846) | **Ray-tracing GR-MHD-generated Outflows from AGNs Hosting Thin Accretion Disks: An Analysis Approaching Horizon Scales**  |\n",
       "|| B. Bandyopadhyay, et al. -- incl., <mark>C. Fendt</mark> |\n",
       "|*Appeared on*| *2025-05-23*|\n",
       "|*Comments*| *13 pages, 8 figures, 1 table, accepted for publication in A&A*|\n",
       "|**Abstract**|            AGNs exhibit a wide range of black hole masses and inflow/outflow properties. It is now possible to probe regions close to the event horizons of nearby SMBHs using VLBI with earth-sized baselines, as performed by the EHT. This study explores the emission properties of accretion and outflows near the event horizon of both low-mass and high-mass SMBHs. Using resistive GR-MHD simulations, we model AGNs with thin Keplerian disks. This contrasts with widely studied models featuring thick disks, such as magnetically arrested disks (MADs) or the standard and normal evolution (SANE) scenario. Our models serve as simplified representations to study disk-jet-wind structures. These simulations are postprocessed and ray-traced, using constraints of black hole mass and observed SEDs. Thermal synchrotron emission generated near the event horizon is used to create emission maps, which are analysed by separating accretion and outflow components to determine their contributions to the total intensity. Whether the emission appears optically thick or thin at a given frequency depends on its position relative to the synchrotron SED peak. At 230 GHz, low-mass SMBHs appear optically thicker than high-mass ones, even at lower accretion rates. Doppler beaming affects the brightness of emission from outflows with changing viewing angles in low-mass systems. Eddington ratios from our models align with those inferred by the EHTC for M87 and SgrA* using thicker MAD/SANE models. Although thin disks are optically thicker, their spectral properties make high-mass systems appear optically thinner at 230 GHz; ideal for probing GR effects like photon rings. In contrast, low-mass systems remain optically thicker at these frequencies because of synchrotron self-absorption, making outflow emissions near the horizon more pronounced. However, distinguishing these features remains challenging with current EHT resolution.         |"
      ],
      "text/plain": [
       "[2505.16846] Ray-tracing GR-MHD-generated Outflows from AGNs Hosting Thin Accretion Disks: An Analysis Approaching Horizon Scales\n",
       "\tB. Bandyopadhyay, et al. -- incl., <mark>C. Fendt</mark>"
      ]
     },
     "metadata": {},
     "output_type": "display_data"
    },
    {
     "data": {
      "text/markdown": [
       "## Failed papers"
      ],
      "text/plain": [
       "<IPython.core.display.Markdown object>"
      ]
     },
     "metadata": {},
     "output_type": "display_data"
    },
    {
     "data": {
      "text/markdown": [
       "\n",
       "|||\n",
       "|---:|:---|\n",
       "| [![arXiv](https://img.shields.io/badge/arXiv-2505.15896-b31b1b.svg)](https://arxiv.org/abs/2505.15896) | **A pulsar-helium star compact binary system formed by common envelope evolution**  |\n",
       "|| Z.L.Yang, et al. -- incl., <mark>N. Wang</mark> |\n",
       "|*Appeared on*| *2025-05-23*|\n",
       "|*Comments*| *26+25 pages, 4+8 figures, 1+3 tables. Published on Science in the 14 May issue of Science. Authors' version*|\n",
       "|**Abstract**|            A stellar common envelope occurs in a binary system when the atmosphere of an evolving star expands to encompass an orbiting companion object. Such systems are predicted to evolve rapidly, ejecting the stellar envelope and leaving the companion in a tighter orbit around a stripped star. We used radio timing to identify a pulsar, PSR J1928+1815, with a spin period of 10.55 ms in a compact binary system with an orbital period of 3.60 hours. The companion star has 1.0 to 1.6 solar masses, eclipses the pulsar for about 17% of the orbit, and is undetected at other wavelengths, so it is most likely a stripped helium star. We interpret this system as having recently undergone a common envelope phase, producing a compact binary.         |\n",
       "|<p style=\"color:green\"> **ERROR** </p>| <p style=\"color:green\">affiliation error: mpia.affiliation_verifications: '69117' keyword not found.</p> |"
      ],
      "text/plain": [
       "<IPython.core.display.Markdown object>"
      ]
     },
     "metadata": {},
     "output_type": "display_data"
    },
    {
     "data": {
      "text/markdown": [
       "\n",
       "|||\n",
       "|---:|:---|\n",
       "| [![arXiv](https://img.shields.io/badge/arXiv-2505.15893-b31b1b.svg)](https://arxiv.org/abs/2505.15893) | **Calibration of Binary Population Synthesis Models Using White Dwarf Binaries from APOGEE, GALEX and Gaia**  |\n",
       "|| A. C. Rubio, et al. -- incl., <mark>K. El-Badry</mark> |\n",
       "|*Appeared on*| *2025-05-23*|\n",
       "|*Comments*| *12 pages, submitted to A&A. Comments welcome!*|\n",
       "|**Abstract**|            The effectiveness and stability of mass transfer in binaries system are crucial in determining its final product. Rapid binary population synthesis (BPS) codes simplify the complex physics of mass transfer by adopting parameterized prescriptions for the stability of mass transfer, accretion efficiency in stable mass transfer, and the efficiency of common-envelope ejection. We calibrate these uncertain parameters by comparing BPS models with observational data. White dwarf and main sequence binaries are an ideal population to study binary interaction, as they can be formed through stable or unstable mass transfer, or without interaction, which affect the orbital period and masses of the present-day population. The APOGEE-GALEX-Gaia catalog provides a homogeneous sample of over 500 systems with well measured radial velocities that can be used as a comparison baseline for BPS simulations of such binaries. We compare the distribution of observed maximum radial velocity variation ($\\Delta RV_{\\rm max}$) and estimated masses to BPS models simulated with COSMIC, varying the mass transfer and common-envelope ejection efficiency, and the criteria for mass transfer stability at key evolutionary stages. The $\\Delta RV_{\\rm max}$ comparison shows clear preference for a higher fraction of stable mass transfer during the first ascent giant branch, and for highly effective envelope ejection. For the systems with WD masses, there is a slight preference for non-conservative mass transfer. In COSMIC and similar codes, the envelope ejection efficiency and the envelope binding energy are degenerate parameters. Our result of high ejection efficiency may indicate that either additional sources of energy are required to eject the envelope, or that its binding energy is lower than traditionally assumed. Future comparisons to BPS simulations can be drawn for other datasets as they become available.         |\n",
       "|<p style=\"color:green\"> **ERROR** </p>| <p style=\"color:green\">affiliation error: mpia.affiliation_verifications: 'Heidelberg' keyword not found.</p> |"
      ],
      "text/plain": [
       "<IPython.core.display.Markdown object>"
      ]
     },
     "metadata": {},
     "output_type": "display_data"
    },
    {
     "data": {
      "text/markdown": [
       "\n",
       "|||\n",
       "|---:|:---|\n",
       "| [![arXiv](https://img.shields.io/badge/arXiv-2505.16562-b31b1b.svg)](https://arxiv.org/abs/2505.16562) | **A Machine Learning Pipeline for Hunting Hidden Axion Signals in Pulsar Dispersion Measurements**  |\n",
       "|| H. Shi, et al. -- incl., <mark>J. Li</mark> |\n",
       "|*Appeared on*| *2025-05-23*|\n",
       "|*Comments*| *9 pages, 7 figures*|\n",
       "|**Abstract**|            In the axion model, electromagnetic waves interacting with axions induce frequency-dependent time delays, determined by the axion mass and decay constant. These small delays are difficult to detect, making traditional methods ineffective. To address this, we computed time delays for various parameters and found a prominent dispersion signal when the wave frequency equals half the axion mass. Based on this, we developed a machine learning-based pipeline, achieving 95\\% classification accuracy and demonstrating strong detection capability in low signal-to-noise data. Applying this to PSR J1933-6211, we found no axion-induced delays within current sensitivity limits. While existing constraints are limited by atomic clock resolution in radio telescopes, future advances in optical clocks and broader bandwidths will enable more extensive searches. In particular, combining high-precision optical clocks with next-generation radio telescopes, such as the Qitai Radio Telescope, could improve decay constant constraints by four orders of magnitude for axion masses in the $10^{-6} \\sim 10^{-4}$ eV range.         |\n",
       "|<p style=\"color:green\"> **ERROR** </p>| <p style=\"color:green\">affiliation error: mpia.affiliation_verifications: 'Heidelberg' keyword not found.</p> |"
      ],
      "text/plain": [
       "<IPython.core.display.Markdown object>"
      ]
     },
     "metadata": {},
     "output_type": "display_data"
    },
    {
     "data": {
      "text/markdown": [
       "\n",
       "|||\n",
       "|---:|:---|\n",
       "| [![arXiv](https://img.shields.io/badge/arXiv-2505.15995-b31b1b.svg)](https://arxiv.org/abs/2505.15995) | **NIRCam yells at cloud: JWST MIRI imaging can directly detect exoplanets of the same temperature, mass, age, and orbital separation as Saturn and Jupiter**  |\n",
       "|| R. Bowens-Rubin, et al. -- incl., <mark>E. Matthews</mark> |\n",
       "|*Appeared on*| *2025-05-23*|\n",
       "|*Comments*| **|\n",
       "|**Abstract**|            NIRCam and MIRI coronagraphy have successfully demonstrated the ability to directly image young sub-Jupiter mass and mature gas-giant exoplanets. However, these modes struggle to reach the sensitivities needed to find the population of cold giant planets that are similar to our own Solar System's giant planets ($T_{\\rm eff} = 60 - 125$ K; $a=5 - 30$ AU). For the first time, we explore the high-contrast imaging capabilities of MIRI imaging rather than coronagraphy. Using data from the JWST GO 6122: Cool Kids on the Block program which targets nearby ($<6$ pc) M-dwarfs with NIRCam coronagraphy and MIRI imaging, we demonstrate that 21$\\mu$m MIRI imaging can detect planets with the same temperature, mass, age, and orbital separations as Saturn and Jupiter. For systems within 3pc, 21$\\mu$m MIRI imaging reaches the sensitivity needed to detect planets colder than Saturn ($<95$ K). NIRCam coronagraphy can achieve similar results only in the unlikely case that a cold giant planet is cloud-free. Motivated by these compelling findings, we extend our analysis to evaluate the measured performance of MIRI F2100W imaging versus NIRCam F444W coronagraphy to 70 pc and conclude that MIRI imaging offers the advantage for systems within 20pc. Microlensing surveys predict an occurrence rate as high as 1 - 2 low-mass giant exoplanets per star, suggesting that JWST MIRI imaging surveys of nearby systems may be poised to uncover a substantial population. This breakthrough enables a path towards the first direct characterization of cold giant exoplanets that are analogous to the solar system giant planets.         |\n",
       "|<p style=\"color:red\"> **ERROR** </p>| <p style=\"color:red\">latex error list index out of range</p> |"
      ],
      "text/plain": [
       "<IPython.core.display.Markdown object>"
      ]
     },
     "metadata": {},
     "output_type": "display_data"
    }
   ],
   "source": [
    "import datetime\n",
    "today = str(datetime.date.today())\n",
    "logfile = f\"_build/html/logs/log-{today}.md\"\n",
    "\n",
    "\n",
    "with open(logfile, 'w') as logs:\n",
    "    # Success\n",
    "    logs.write(f'# Arxiv on Deck 2: Logs - {today}\\n\\n')\n",
    "    logs.write(\"\"\"* Arxiv had {0:,d} new papers\\n\"\"\".format(len(new_papers)))\n",
    "    logs.write(\"\"\"    * {0:,d} with possible author matches\\n\\n\"\"\".format(len(candidates)))\n",
    "    logs.write(\"## Sucessful papers\\n\\n\")\n",
    "    display(Markdown(\"## Successful papers\"))\n",
    "    success = [k[0] for k in documents]\n",
    "    for candid in candidates:\n",
    "        if candid['identifier'].split(':')[-1] in success:\n",
    "            display(candid)\n",
    "            logs.write(candid.generate_markdown_text() + '\\n\\n')\n",
    "\n",
    "    ## failed\n",
    "    logs.write(\"## Failed papers\\n\\n\")\n",
    "    display(Markdown(\"## Failed papers\"))\n",
    "    failed = sorted(failed, key=lambda x: x[1])\n",
    "    current_reason = \"\"\n",
    "    for paper, reason in failed:\n",
    "        if 'affiliation' in reason:\n",
    "            color = 'green'\n",
    "        else:\n",
    "            color = 'red'\n",
    "        data = Markdown(\n",
    "                paper.generate_markdown_text() + \n",
    "                f'\\n|<p style=\"color:{color:s}\"> **ERROR** </p>| <p style=\"color:{color:s}\">{reason:s}</p> |'\n",
    "               )\n",
    "        if reason != current_reason:\n",
    "            logs.write(f'### {reason:s} \\n\\n')\n",
    "            current_reason = reason\n",
    "        logs.write(data.data + '\\n\\n')\n",
    "        \n",
    "        # only display here the important errors (all in logs)\n",
    "        # if color in ('red',):\n",
    "        display(data)"
   ]
  },
  {
   "cell_type": "markdown",
   "id": "472d20ee",
   "metadata": {
    "papermill": {
     "duration": 0.004697,
     "end_time": "2025-05-23T04:15:11.106347",
     "exception": false,
     "start_time": "2025-05-23T04:15:11.101650",
     "status": "completed"
    },
    "tags": []
   },
   "source": [
    "## Export documents\n",
    "\n",
    "We now write the .md files and export relevant images"
   ]
  },
  {
   "cell_type": "code",
   "execution_count": 7,
   "id": "d426aed9",
   "metadata": {
    "execution": {
     "iopub.execute_input": "2025-05-23T04:15:11.117192Z",
     "iopub.status.busy": "2025-05-23T04:15:11.116727Z",
     "iopub.status.idle": "2025-05-23T04:15:11.124142Z",
     "shell.execute_reply": "2025-05-23T04:15:11.123484Z"
    },
    "papermill": {
     "duration": 0.014117,
     "end_time": "2025-05-23T04:15:11.125175",
     "exception": false,
     "start_time": "2025-05-23T04:15:11.111058",
     "status": "completed"
    },
    "tags": []
   },
   "outputs": [],
   "source": [
    "def export_markdown_summary(md: str, md_fname:str, directory: str):\n",
    "    \"\"\"Export MD document and associated relevant images\"\"\"\n",
    "    import os\n",
    "    import shutil\n",
    "    import re\n",
    "\n",
    "    if (os.path.exists(directory) and not os.path.isdir(directory)):\n",
    "        raise RuntimeError(f\"a non-directory file exists with name {directory:s}\")\n",
    "\n",
    "    if (not os.path.exists(directory)):\n",
    "        print(f\"creating directory {directory:s}\")\n",
    "        os.mkdir(directory)\n",
    "\n",
    "    fig_fnames = (re.compile(r'\\[Fig.*\\]\\((.*)\\)').findall(md) + \n",
    "                  re.compile(r'\\<img src=\"([^>\\s]*)\"[^>]*/>').findall(md))\n",
    "    print(\"found figures\", fig_fnames)\n",
    "    for fname in fig_fnames:\n",
    "        if 'http' in fname:\n",
    "            # No need to copy online figures\n",
    "            continue\n",
    "        if not os.path.exists(fname):\n",
    "            print(\"file not found\", fname)\n",
    "            continue\n",
    "        print(\"copying \", fname, \"to\", directory)\n",
    "        destdir = os.path.join(directory, os.path.dirname(fname))\n",
    "        destfname = os.path.join(destdir, os.path.basename(fname))\n",
    "        try:\n",
    "            os.makedirs(destdir)\n",
    "        except FileExistsError:\n",
    "            pass\n",
    "        shutil.copy(fname, destfname)\n",
    "    with open(os.path.join(directory, md_fname), 'w') as fout:\n",
    "        fout.write(md)\n",
    "    print(\"exported in \", os.path.join(directory, md_fname))\n",
    "    [print(\"    + \" + os.path.join(directory,fk)) for fk in fig_fnames]"
   ]
  },
  {
   "cell_type": "code",
   "execution_count": 8,
   "id": "014d04a4",
   "metadata": {
    "execution": {
     "iopub.execute_input": "2025-05-23T04:15:11.136637Z",
     "iopub.status.busy": "2025-05-23T04:15:11.136226Z",
     "iopub.status.idle": "2025-05-23T04:15:11.147865Z",
     "shell.execute_reply": "2025-05-23T04:15:11.147273Z"
    },
    "papermill": {
     "duration": 0.018184,
     "end_time": "2025-05-23T04:15:11.148864",
     "exception": false,
     "start_time": "2025-05-23T04:15:11.130680",
     "status": "completed"
    },
    "tags": []
   },
   "outputs": [
    {
     "name": "stdout",
     "output_type": "stream",
     "text": [
      "found figures ['tmp_2505.15923/./figures/optnir_spec_new3.png', 'tmp_2505.15923/./figures/redshift_vs_zZZy_with_histograms_v3.png', 'tmp_2505.15923/./figures/opt_total_test1_new_ldss3_portrait.png', 'tmp_2505.15923/./figures/opt_total_test2_new_ldss3_portrait.png']\n",
      "copying  tmp_2505.15923/./figures/optnir_spec_new3.png to _build/html/\n",
      "copying  tmp_2505.15923/./figures/redshift_vs_zZZy_with_histograms_v3.png to _build/html/\n",
      "copying  tmp_2505.15923/./figures/opt_total_test1_new_ldss3_portrait.png to _build/html/\n",
      "copying  tmp_2505.15923/./figures/opt_total_test2_new_ldss3_portrait.png to _build/html/\n",
      "exported in  _build/html/2505.15923.md\n",
      "    + _build/html/tmp_2505.15923/./figures/optnir_spec_new3.png\n",
      "    + _build/html/tmp_2505.15923/./figures/redshift_vs_zZZy_with_histograms_v3.png\n",
      "    + _build/html/tmp_2505.15923/./figures/opt_total_test1_new_ldss3_portrait.png\n",
      "    + _build/html/tmp_2505.15923/./figures/opt_total_test2_new_ldss3_portrait.png\n",
      "found figures ['tmp_2505.16846/./allsimi90M87SgrAfallfthR2712Rh80rev.png', 'tmp_2505.16846/./allsimlowiM87SgrAf230fthR12Rh80rev.png', 'tmp_2505.16846/./specSim20M87SgrAcomrev.png', 'tmp_2505.16846/./specSim21M87SgrAcomrev.png', 'tmp_2505.16846/./specSim22M87SgrAcomrev.png', 'tmp_2505.16846/./specSim23M87SgrAcomrev.png', 'tmp_2505.16846/./specSim24M87SgrAcomrev.png', 'tmp_2505.16846/./specSim26M87SgrAcomrev.png', 'tmp_2505.16846/./AllSimi17M87SgrAdiskoutflowf230fthR12Rh80rev.png']\n",
      "copying  tmp_2505.16846/./allsimi90M87SgrAfallfthR2712Rh80rev.png to _build/html/\n",
      "copying  tmp_2505.16846/./allsimlowiM87SgrAf230fthR12Rh80rev.png to _build/html/\n",
      "copying  tmp_2505.16846/./specSim20M87SgrAcomrev.png to _build/html/\n",
      "copying  tmp_2505.16846/./specSim21M87SgrAcomrev.png to _build/html/\n",
      "copying  tmp_2505.16846/./specSim22M87SgrAcomrev.png to _build/html/\n",
      "copying  tmp_2505.16846/./specSim23M87SgrAcomrev.png to _build/html/\n",
      "copying  tmp_2505.16846/./specSim24M87SgrAcomrev.png to _build/html/\n",
      "copying  tmp_2505.16846/./specSim26M87SgrAcomrev.png to _build/html/\n",
      "copying  tmp_2505.16846/./AllSimi17M87SgrAdiskoutflowf230fthR12Rh80rev.png to _build/html/\n",
      "exported in  _build/html/2505.16846.md\n",
      "    + _build/html/tmp_2505.16846/./allsimi90M87SgrAfallfthR2712Rh80rev.png\n",
      "    + _build/html/tmp_2505.16846/./allsimlowiM87SgrAf230fthR12Rh80rev.png\n",
      "    + _build/html/tmp_2505.16846/./specSim20M87SgrAcomrev.png\n",
      "    + _build/html/tmp_2505.16846/./specSim21M87SgrAcomrev.png\n",
      "    + _build/html/tmp_2505.16846/./specSim22M87SgrAcomrev.png\n",
      "    + _build/html/tmp_2505.16846/./specSim23M87SgrAcomrev.png\n",
      "    + _build/html/tmp_2505.16846/./specSim24M87SgrAcomrev.png\n",
      "    + _build/html/tmp_2505.16846/./specSim26M87SgrAcomrev.png\n",
      "    + _build/html/tmp_2505.16846/./AllSimi17M87SgrAdiskoutflowf230fthR12Rh80rev.png\n"
     ]
    }
   ],
   "source": [
    "for paper_id, md in documents:\n",
    "    export_markdown_summary(md, f\"{paper_id:s}.md\", '_build/html/')"
   ]
  },
  {
   "cell_type": "markdown",
   "id": "f087a0a7",
   "metadata": {
    "papermill": {
     "duration": 0.004791,
     "end_time": "2025-05-23T04:15:11.158721",
     "exception": false,
     "start_time": "2025-05-23T04:15:11.153930",
     "status": "completed"
    },
    "tags": []
   },
   "source": [
    "## Display the papers\n",
    "\n",
    "Not necessary but allows for a quick check."
   ]
  },
  {
   "cell_type": "code",
   "execution_count": 9,
   "id": "fd25f625",
   "metadata": {
    "execution": {
     "iopub.execute_input": "2025-05-23T04:15:11.169827Z",
     "iopub.status.busy": "2025-05-23T04:15:11.169194Z",
     "iopub.status.idle": "2025-05-23T04:15:11.175377Z",
     "shell.execute_reply": "2025-05-23T04:15:11.174722Z"
    },
    "papermill": {
     "duration": 0.012834,
     "end_time": "2025-05-23T04:15:11.176403",
     "exception": false,
     "start_time": "2025-05-23T04:15:11.163569",
     "status": "completed"
    },
    "scrolled": false,
    "tags": []
   },
   "outputs": [
    {
     "data": {
      "text/markdown": [
       "<div class=\"macros\" style=\"visibility:hidden;\">\n",
       "$\\newcommand{\\ensuremath}{}$\n",
       "$\\newcommand{\\xspace}{}$\n",
       "$\\newcommand{\\object}[1]{\\texttt{#1}}$\n",
       "$\\newcommand{\\farcs}{{.}''}$\n",
       "$\\newcommand{\\farcm}{{.}'}$\n",
       "$\\newcommand{\\arcsec}{''}$\n",
       "$\\newcommand{\\arcmin}{'}$\n",
       "$\\newcommand{\\ion}[2]{#1#2}$\n",
       "$\\newcommand{\\textsc}[1]{\\textrm{#1}}$\n",
       "$\\newcommand{\\hl}[1]{\\textrm{#1}}$\n",
       "$\\newcommand{\\footnote}[1]{}$\n",
       "$\\newcommand{\\nqsos}{25}$</div>\n",
       "\n",
       "\n",
       "\n",
       "<div id=\"title\">\n",
       "\n",
       "# Discovery and characterization of 25 new quasars at $4.6 < z < 6.9$ from wide-field multi-band surveys\n",
       "\n",
       "</div>\n",
       "<div id=\"comments\">\n",
       "\n",
       "[![arXiv](https://img.shields.io/badge/arXiv-2505.15923-b31b1b.svg)](https://arxiv.org/abs/2505.15923)<mark>Appeared on: 2025-05-23</mark> -  _25 pages, 8 figures, 12 tables, Accepted for publication in A&A_\n",
       "\n",
       "</div>\n",
       "<div id=\"authors\">\n",
       "\n",
       "<mark>S. Belladitta</mark>, et al. -- incl., <mark>E. Bañados</mark>, <mark>Z.-L. Xie</mark>, <mark>J. Wolf</mark>, <mark>F. Walter</mark>\n",
       "\n",
       "</div>\n",
       "<div id=\"abstract\">\n",
       "\n",
       "**Abstract:** Luminous quasars at $z>4$ provide key insights into the early Universe.Their rarity necessitates wide-field multi-band surveys to efficiently separate them from the main astrophysical contaminants (i.e., ultracool dwarfs).To expand the sample of high- $z$ quasars, we conducted targeted selections using optical, infrared, and radio surveys, complemented by literature-based quasar candidate catalogs.In this paper, we report the discovery of $\\nqsos$ new quasars at $4.6<z<6.9$ (six at $z\\geq6.5$ ), with $M_{1450}$ between $-$ 25.4 and $-$ 27.0.We also present new spectra of six $z>6.5$ quasars we selected, but whose independent discovery has already been published in the literature.Three of the newly discovered quasars are strong radio emitters (L $_{1.4 \\rm GHz}=0.09-1.0\\times$ 10 $^{34}$ erg s $^{-1}$ Hz $^{-1}$ ).Among them, one source at $z=4.71$ exhibits typical blazar-like properties, including a flat radio spectrum, radio-loudness $\\sim$ 1000, and multi-frequency variability.It is also detected by SRG/eROSITA X-ray telescope (f $_{\\rm 0.2-2.3keV} \\sim 1.3\\times10^{-13}$ erg s $^{-1}$ cm $^{-2}$ ).In addition, for seven $6.3<z<6.9$ quasars we present near-infrared spectroscopy and estimate the central black hole mass from their C $\\rm IV$ and Mg $\\rm II$ broad emission lines.Their masses (log [ M $_{\\rm BH,MgII}$ ] $=8.58-9.14 \\rm M_{\\odot}$ ) and Eddington ratios ( $\\lambda_{\\rm Edd,MgII}=0.74-2.2$ ) are consistent with other _z_ $>$ 6 quasars reported in the literature.A $z = 6.3$ quasar exhibits a velocity difference of approximately $9000$ km s $^{-1}$ between the C $\\rm IV$ and Mg $\\rm II$ emission lines, making it one of the most extreme C $\\rm IV$ outflows currently known.Additionally, the sample includes three high-ionization broad absorption line quasars. One of these quasars shows potential evidence of an extremely fast outflow feature, reaching $48 000$ km s $^{-1}$ .\n",
       "\n",
       "</div>\n",
       "\n",
       "<div id=\"div_fig1\">\n",
       "\n",
       "<img src=\"tmp_2505.15923/./figures/optnir_spec_new3.png\" alt=\"Fig6\" width=\"100%\"/>\n",
       "\n",
       "**Figure 6. -** \\small NIR follow-up spectra of a sub-sample of quasars reported in this paper (sorted by increasing redshift). We show the NIR spectra of the newly discovered quasars PSO J041$+$06, PSO J335$-$15, PSO J067$-$14, PSO J217$+$04, PSO J037$-$08 and PSO J289$+$50 and the newly published NIR spectrum for the already known quasar PSO J162$-$01.\n",
       "    The noise spectra are reported in gray.\n",
       "    Shaded light gray areas highlight regions strongly affected by telluric absorption.\n",
       "    On the top the location of the main emission lines according to the Mg$\\rm II$ redshift are also shown: Lyman-$\\alpha+$N$\\rm V$(dashed), C$\\rm IV$(dotted) and Mg$\\rm II$(dashed-dotted).  (*fig:nirspectra*)\n",
       "\n",
       "</div>\n",
       "<div id=\"div_fig2\">\n",
       "\n",
       "<img src=\"tmp_2505.15923/./figures/redshift_vs_zZZy_with_histograms_v3.png\" alt=\"Fig1\" width=\"100%\"/>\n",
       "\n",
       "**Figure 1. -** \\small Redshift vs.  $z_{\\rm P1} - z_{\\rm DE}$(bottom) and $z_{\\rm DE}-y_{\\rm P1}$(top) colors. The blue, black, and red solid lines represent the color tracks of composite quasar spectra from [Bañados, Venemans and Decarli (2016)](), illustrating weak, average, and strong Ly$\\alpha$ emission lines, respectively.\n",
       "    The dotted lines indicate the color cuts for the [DELS+PS1] selection, as described in Section \\ref{selectionbanados23}. The red circles represent quasars that meet the selection criteria. Sources marked with a yellow cross are newly discovered quasars from this study, while those with a white `x' are known quasars for which we present new spectroscopy data. Lower limits correspond to sources undetected in $z_{\\rm P1}$, for which we use their $3\\sigma$ limiting magnitude. On the right, we show the histograms of the same colors for the L and T dwarfs compiled in [Bañados, Venemans and Decarli (2016)](). (*fig:z66sel*)\n",
       "\n",
       "</div>\n",
       "<div id=\"div_fig3\">\n",
       "\n",
       "<img src=\"tmp_2505.15923/./figures/opt_total_test1_new_ldss3_portrait.png\" alt=\"Fig5.1\" width=\"50%\"/><img src=\"tmp_2505.15923/./figures/opt_total_test2_new_ldss3_portrait.png\" alt=\"Fig5.2\" width=\"50%\"/>\n",
       "\n",
       "**Figure 5. -** \\small Newly discovered spectra (25 sources, $*$ marked radio-loud objects) and new spectra publication (6 objects, marked with a $\\star$) for the quasars reported in this paper. Only the part of the spectrum that covers the Lyman-$\\alpha$ break is shown here. The noise spectrum is reported in gray. Sorted by increasing redshift. (*fig:spectra_lyman*)\n",
       "\n",
       "</div><div id=\"qrcode\"><img src=https://api.qrserver.com/v1/create-qr-code/?size=100x100&data=\"https://arxiv.org/abs/2505.15923\"></div>"
      ],
      "text/plain": [
       "<IPython.core.display.Markdown object>"
      ]
     },
     "metadata": {},
     "output_type": "display_data"
    },
    {
     "data": {
      "text/markdown": [
       "<div class=\"macros\" style=\"visibility:hidden;\">\n",
       "$\\newcommand{\\ensuremath}{}$\n",
       "$\\newcommand{\\xspace}{}$\n",
       "$\\newcommand{\\object}[1]{\\texttt{#1}}$\n",
       "$\\newcommand{\\farcs}{{.}''}$\n",
       "$\\newcommand{\\farcm}{{.}'}$\n",
       "$\\newcommand{\\arcsec}{''}$\n",
       "$\\newcommand{\\arcmin}{'}$\n",
       "$\\newcommand{\\ion}[2]{#1#2}$\n",
       "$\\newcommand{\\textsc}[1]{\\textrm{#1}}$\n",
       "$\\newcommand{\\hl}[1]{\\textrm{#1}}$\n",
       "$\\newcommand{\\footnote}[1]{}$</div>\n",
       "\n",
       "\n",
       "\n",
       "<div id=\"title\">\n",
       "\n",
       "# Ray-tracing GR-MHD-generated outflows from AGNs hosting thin accretion disks: An analysis approaching horizon scales\n",
       "\n",
       "</div>\n",
       "<div id=\"comments\">\n",
       "\n",
       "[![arXiv](https://img.shields.io/badge/arXiv-2505.16846-b31b1b.svg)](https://arxiv.org/abs/2505.16846)<mark>Appeared on: 2025-05-23</mark> -  _13 pages, 8 figures, 1 table, accepted for publication in A&A_\n",
       "\n",
       "</div>\n",
       "<div id=\"authors\">\n",
       "\n",
       "B. Bandyopadhyay, et al. -- incl., <mark>C. Fendt</mark>\n",
       "\n",
       "</div>\n",
       "<div id=\"abstract\">\n",
       "\n",
       "**Abstract:** Active galactic nuclei (AGNs) exhibit a wide range of black hole masses and inflow/outflow properties. It is now possible to probe regions close to the event horizons of nearby supermassive black holes (SMBHs) using very long baseline interferometry (VLBI) with earth-sized baselines, as performed by the Event Horizon Telescope (EHT). This study explores the emission properties of accretion and outflows near the event horizon of both low-mass and high-mass SMBHs. Using resistive general relativistic magnetohydrodynamic (GR-MHD) simulations, we model AGNs with thin Keplerian disks. This contrasts with widely studied models featuring thick disks, such as magnetically arrested disks (MADs) or the standard and normal evolution (SANE) scenario. Our GR-MHD models serve as simplified representations to study disk–jet–wind structures. These simulations are postprocessed and ray-traced, using constraints of black hole mass and observed spectral energy distributions (SEDs). Thermal synchrotron emission generated near the event horizon is used to create emission maps, which are analysed by separating accretion and outflow components to determine their contributions to the total intensity. Whether the emission appears optically thick or thin at a given frequency depends on its position relative to the synchrotron SED peak. At 230 GHz, low-mass SMBHs appear optically thicker than high-mass ones, even at lower accretion rates. Doppler beaming affects the brightness of emission from outflows with changing viewing angles in low-mass systems. Eddington ratios from our models align with those inferred by the EHTC for M87 and SgrA* using thicker MAD/SANE models. Although thin disks are optically thicker, their spectral properties make high-mass systems appear optically thinner at 230 GHz—ideal for probing GR effects like photon rings. In contrast, low-mass systems remain optically thicker at these frequencies because of synchrotron self-absorption, making outflow emissions near the horizon more pronounced. However, distinguishing these features remains challenging with current EHT resolution.\n",
       "\n",
       "</div>\n",
       "\n",
       "<div id=\"div_fig1\">\n",
       "\n",
       "<img src=\"tmp_2505.16846/./allsimi90M87SgrAfallfthR2712Rh80rev.png\" alt=\"Fig6.1\" width=\"50%\"/><img src=\"tmp_2505.16846/./allsimlowiM87SgrAf230fthR12Rh80rev.png\" alt=\"Fig6.2\" width=\"50%\"/>\n",
       "\n",
       "**Figure 6. -** _ Left:_ Normalized emission maps (25 $R_g$ across) for an edge-on view for all our simulations applied for HIGH-mass (upper 3 rows) and LOW-mass (lower 3 rows) systems\n",
       "   at 86 GHz, 230 GHz and 345 GHz obtained with the Eddington ratio detailed in Table \\ref{tab:para_dynamics}. _ Right:_ Normalized 230 GHz emission maps (25 $R_g$ across) as above but for inclination angles of $0^{\\circ}$, $17^{\\circ}$, and $163^{\\circ}$. (*fig:allsimalli*)\n",
       "\n",
       "</div>\n",
       "<div id=\"div_fig2\">\n",
       "\n",
       "<img src=\"tmp_2505.16846/./specSim20M87SgrAcomrev.png\" alt=\"Fig5.1\" width=\"16%\"/><img src=\"tmp_2505.16846/./specSim21M87SgrAcomrev.png\" alt=\"Fig5.2\" width=\"16%\"/><img src=\"tmp_2505.16846/./specSim22M87SgrAcomrev.png\" alt=\"Fig5.3\" width=\"16%\"/><img src=\"tmp_2505.16846/./specSim23M87SgrAcomrev.png\" alt=\"Fig5.4\" width=\"16%\"/><img src=\"tmp_2505.16846/./specSim24M87SgrAcomrev.png\" alt=\"Fig5.5\" width=\"16%\"/><img src=\"tmp_2505.16846/./specSim26M87SgrAcomrev.png\" alt=\"Fig5.6\" width=\"16%\"/>\n",
       "\n",
       "**Figure 5. -** SEDs applying Eddington ratios from Table \\ref{tab:para_dynamics} for a HIGH-mass (blue curves) and LOW-mass (orange curves) system for SIM20, SIM21, SIM22, SIM23, SIM24, and SIM26 respectively. The three vertical lines correspond to 86 GHz, 230 GHz, and 345 GHz, respectively. The figures also mark the optically thin and optically thick regions of the thermal synchrotron, which lie on the right and left sides of the thermal synchrotron peak marked by the red diamond. (*fig:specdiffM87SgrA*)\n",
       "\n",
       "</div>\n",
       "<div id=\"div_fig3\">\n",
       "\n",
       "<img src=\"tmp_2505.16846/./AllSimi17M87SgrAdiskoutflowf230fthR12Rh80rev.png\" alt=\"Fig2\" width=\"100%\"/>\n",
       "\n",
       "**Figure 2. -** Normalized 230 GHz emission maps (25 $R_g$ across) for all the models with the total emissions, only the disk emissions and the emission from the \"outflow\" region for HIGH-mass (left 3 columns) and LOW-mass (right 3 columns) systems for an inclination angle of $17^{\\circ}$. (*fig:prothdiskoutflowalli1*)\n",
       "\n",
       "</div><div id=\"qrcode\"><img src=https://api.qrserver.com/v1/create-qr-code/?size=100x100&data=\"https://arxiv.org/abs/2505.16846\"></div>"
      ],
      "text/plain": [
       "<IPython.core.display.Markdown object>"
      ]
     },
     "metadata": {},
     "output_type": "display_data"
    }
   ],
   "source": [
    "[display(Markdown(k[1])) for k in documents];"
   ]
  },
  {
   "cell_type": "markdown",
   "id": "873873a4",
   "metadata": {
    "papermill": {
     "duration": 0.005142,
     "end_time": "2025-05-23T04:15:11.187078",
     "exception": false,
     "start_time": "2025-05-23T04:15:11.181936",
     "status": "completed"
    },
    "tags": []
   },
   "source": [
    "# Create HTML index"
   ]
  },
  {
   "cell_type": "code",
   "execution_count": 10,
   "id": "cf665672",
   "metadata": {
    "execution": {
     "iopub.execute_input": "2025-05-23T04:15:11.198957Z",
     "iopub.status.busy": "2025-05-23T04:15:11.198489Z",
     "iopub.status.idle": "2025-05-23T04:15:11.209575Z",
     "shell.execute_reply": "2025-05-23T04:15:11.208885Z"
    },
    "papermill": {
     "duration": 0.018366,
     "end_time": "2025-05-23T04:15:11.210703",
     "exception": false,
     "start_time": "2025-05-23T04:15:11.192337",
     "status": "completed"
    },
    "tags": []
   },
   "outputs": [
    {
     "name": "stdout",
     "output_type": "stream",
     "text": [
      "498  publications files modified in the last 7 days.\n"
     ]
    }
   ],
   "source": [
    "from datetime import datetime, timedelta, timezone\n",
    "from glob import glob\n",
    "import os\n",
    "\n",
    "files = glob('_build/html/*.md')\n",
    "days = 7\n",
    "now = datetime.today()\n",
    "res = []\n",
    "for fk in files:\n",
    "    stat_result = os.stat(fk).st_ctime\n",
    "    modified = datetime.fromtimestamp(stat_result, tz=timezone.utc).replace(tzinfo=None)\n",
    "    delta = now.today() - modified\n",
    "    if delta <= timedelta(days=days):\n",
    "        res.append((delta.seconds, fk))\n",
    "res = [k[1] for k in reversed(sorted(res, key=lambda x:x[1]))]\n",
    "npub = len(res)\n",
    "print(len(res), f\" publications files modified in the last {days:d} days.\")\n",
    "# [ print('\\t', k) for k in res ];"
   ]
  },
  {
   "cell_type": "code",
   "execution_count": 11,
   "id": "015de740",
   "metadata": {
    "execution": {
     "iopub.execute_input": "2025-05-23T04:15:11.222911Z",
     "iopub.status.busy": "2025-05-23T04:15:11.222451Z",
     "iopub.status.idle": "2025-05-23T04:15:11.248076Z",
     "shell.execute_reply": "2025-05-23T04:15:11.247463Z"
    },
    "papermill": {
     "duration": 0.032847,
     "end_time": "2025-05-23T04:15:11.249145",
     "exception": false,
     "start_time": "2025-05-23T04:15:11.216298",
     "status": "completed"
    },
    "tags": []
   },
   "outputs": [
    {
     "name": "stdout",
     "output_type": "stream",
     "text": [
      "9  publications in the last 7 days.\n"
     ]
    }
   ],
   "source": [
    "import datetime\n",
    "from glob import glob\n",
    "\n",
    "def get_last_n_days(lst, days=1):\n",
    "    \"\"\" Get the documents from the last n days \"\"\"\n",
    "    sorted_lst = sorted(lst, key=lambda x: x[1], reverse=True)\n",
    "    for fname, date in sorted_lst:\n",
    "        if date >= str(datetime.date.today() - datetime.timedelta(days=days)):\n",
    "            yield fname\n",
    "\n",
    "def extract_appearance_dates(lst_file):\n",
    "    dates = []\n",
    "\n",
    "    def get_date(line):\n",
    "        return line\\\n",
    "            .split('Appeared on:')[-1]\\\n",
    "            .split('</mark>')[0].strip()\n",
    "\n",
    "    for fname in lst:\n",
    "        with open(fname, 'r') as f:\n",
    "            found_date = False\n",
    "            for line in f:\n",
    "                if not found_date:\n",
    "                    if \"Appeared on\" in line:\n",
    "                        found_date = True\n",
    "                        dates.append((fname, get_date(line)))\n",
    "                else:\n",
    "                    break\n",
    "    return dates\n",
    "\n",
    "from glob import glob\n",
    "lst = glob('_build/html/*md')\n",
    "days = 7\n",
    "dates = extract_appearance_dates(lst)\n",
    "res = list(get_last_n_days(dates, days))\n",
    "npub = len(res)\n",
    "print(len(res), f\" publications in the last {days:d} days.\")"
   ]
  },
  {
   "cell_type": "code",
   "execution_count": 12,
   "id": "52ca0208",
   "metadata": {
    "execution": {
     "iopub.execute_input": "2025-05-23T04:15:11.261509Z",
     "iopub.status.busy": "2025-05-23T04:15:11.261020Z",
     "iopub.status.idle": "2025-05-23T04:15:11.266270Z",
     "shell.execute_reply": "2025-05-23T04:15:11.265696Z"
    },
    "papermill": {
     "duration": 0.012476,
     "end_time": "2025-05-23T04:15:11.267361",
     "exception": false,
     "start_time": "2025-05-23T04:15:11.254885",
     "status": "completed"
    },
    "scrolled": false,
    "tags": []
   },
   "outputs": [],
   "source": [
    "def create_carousel(npub=4):\n",
    "    \"\"\" Generate the HTML code for a carousel with `npub` slides \"\"\"\n",
    "    carousel = [\"\"\"  <div class=\"carousel\" \"\"\",\n",
    "                \"\"\"       data-flickity='{ \"autoPlay\": 10000, \"adaptiveHeight\": true, \"resize\": true, \"wrapAround\": true, \"pauseAutoPlayOnHover\": true, \"groupCells\": 1 }' id=\"asyncTypeset\">\"\"\"\n",
    "                ]\n",
    "    \n",
    "    item_str = \"\"\"    <div class=\"carousel-cell\"> <div id=\"slide{k}\" class=\"md_view\">Content {k}</div> </div>\"\"\"\n",
    "    for k in range(1, npub + 1):\n",
    "        carousel.append(item_str.format(k=k))\n",
    "    carousel.append(\"  </div>\")\n",
    "    return '\\n'.join(carousel)\n",
    "\n",
    "def create_grid(npub=4):\n",
    "    \"\"\" Generate the HTML code for a flat grid with `npub` slides \"\"\"\n",
    "    grid = [\"\"\"  <div class=\"grid\"> \"\"\",\n",
    "                ]\n",
    "    \n",
    "    item_str = \"\"\"    <div class=\"grid-item\"> <div id=\"slide{k}\" class=\"md_view\">Content {k}</div> </div>\"\"\"\n",
    "    for k in range(1, npub + 1):\n",
    "        grid.append(item_str.format(k=k))\n",
    "    grid.append(\"  </div>\")\n",
    "    return '\\n'.join(grid)"
   ]
  },
  {
   "cell_type": "code",
   "execution_count": 13,
   "id": "a6eac5b6",
   "metadata": {
    "execution": {
     "iopub.execute_input": "2025-05-23T04:15:11.279722Z",
     "iopub.status.busy": "2025-05-23T04:15:11.279172Z",
     "iopub.status.idle": "2025-05-23T04:15:11.284690Z",
     "shell.execute_reply": "2025-05-23T04:15:11.284129Z"
    },
    "papermill": {
     "duration": 0.012698,
     "end_time": "2025-05-23T04:15:11.285640",
     "exception": false,
     "start_time": "2025-05-23T04:15:11.272942",
     "status": "completed"
    },
    "scrolled": false,
    "tags": []
   },
   "outputs": [],
   "source": [
    "carousel = create_carousel(npub)\n",
    "docs = ', '.join(['\"{0:s}\"'.format(k.split('/')[-1]) for k in res])\n",
    "slides = ', '.join([f'\"slide{k}\"' for k in range(1, npub + 1)])\n",
    "\n",
    "with open(\"daily_template.html\", \"r\") as tpl:\n",
    "    page = tpl.read()\n",
    "    page = page.replace(\"{%-- carousel:s --%}\", carousel)\\\n",
    "               .replace(\"{%-- suptitle:s --%}\",  \"7-day archives\" )\\\n",
    "               .replace(\"{%-- docs:s --%}\", docs)\\\n",
    "               .replace(\"{%-- slides:s --%}\", slides)\n",
    "    \n",
    "with open(\"_build/html/index_7days.html\", 'w') as fout:\n",
    "    fout.write(page)"
   ]
  },
  {
   "cell_type": "code",
   "execution_count": 14,
   "id": "adc1a1ec",
   "metadata": {
    "execution": {
     "iopub.execute_input": "2025-05-23T04:15:11.298226Z",
     "iopub.status.busy": "2025-05-23T04:15:11.297744Z",
     "iopub.status.idle": "2025-05-23T04:15:11.305406Z",
     "shell.execute_reply": "2025-05-23T04:15:11.304805Z"
    },
    "papermill": {
     "duration": 0.015032,
     "end_time": "2025-05-23T04:15:11.306474",
     "exception": false,
     "start_time": "2025-05-23T04:15:11.291442",
     "status": "completed"
    },
    "tags": []
   },
   "outputs": [
    {
     "name": "stdout",
     "output_type": "stream",
     "text": [
      "5  publications in the last day.\n"
     ]
    }
   ],
   "source": [
    "# redo for today\n",
    "days = 1\n",
    "res = list(get_last_n_days(dates, days))\n",
    "npub = len(res)\n",
    "print(len(res), f\" publications in the last day.\")\n",
    "\n",
    "carousel = create_carousel(npub)\n",
    "docs = ', '.join(['\"{0:s}\"'.format(k.split('/')[-1]) for k in res])\n",
    "slides = ', '.join([f'\"slide{k}\"' for k in range(1, npub + 1)])\n",
    "\n",
    "with open(\"daily_template.html\", \"r\") as tpl:\n",
    "    page = tpl.read()\n",
    "    page = page.replace(\"{%-- carousel:s --%}\", carousel)\\\n",
    "               .replace(\"{%-- suptitle:s --%}\",  \"Daily\" )\\\n",
    "               .replace(\"{%-- docs:s --%}\", docs)\\\n",
    "               .replace(\"{%-- slides:s --%}\", slides)\n",
    "    \n",
    "# print(carousel, docs, slides)\n",
    "# print(page)\n",
    "with open(\"_build/html/index_daily.html\", 'w') as fout:\n",
    "    fout.write(page)"
   ]
  },
  {
   "cell_type": "code",
   "execution_count": 15,
   "id": "00eece82",
   "metadata": {
    "execution": {
     "iopub.execute_input": "2025-05-23T04:15:11.318919Z",
     "iopub.status.busy": "2025-05-23T04:15:11.318428Z",
     "iopub.status.idle": "2025-05-23T04:15:11.325292Z",
     "shell.execute_reply": "2025-05-23T04:15:11.324732Z"
    },
    "papermill": {
     "duration": 0.014128,
     "end_time": "2025-05-23T04:15:11.326250",
     "exception": false,
     "start_time": "2025-05-23T04:15:11.312122",
     "status": "completed"
    },
    "scrolled": false,
    "tags": []
   },
   "outputs": [
    {
     "name": "stdout",
     "output_type": "stream",
     "text": [
      "6  6 publications selected.\n"
     ]
    }
   ],
   "source": [
    "# Create the flat grid of the last N papers (fixed number regardless of dates)\n",
    "from itertools import islice \n",
    "\n",
    "npub = 6\n",
    "res = [k[0] for k in (islice(reversed(sorted(dates, key=lambda x: x[1])), 6))]\n",
    "print(len(res), f\" {npub} publications selected.\")\n",
    "\n",
    "grid = create_grid(npub)\n",
    "docs = ', '.join(['\"{0:s}\"'.format(k.split('/')[-1]) for k in res])\n",
    "slides = ', '.join([f'\"slide{k}\"' for k in range(1, npub + 1)])\n",
    "\n",
    "with open(\"grid_template.html\", \"r\") as tpl:\n",
    "    page = tpl.read()\n",
    "    page = page.replace(\"{%-- grid-content:s --%}\", grid)\\\n",
    "               .replace(\"{%-- suptitle:s --%}\",  f\"Last {npub:,d} papers\" )\\\n",
    "               .replace(\"{%-- docs:s --%}\", docs)\\\n",
    "               .replace(\"{%-- slides:s --%}\", slides)\n",
    "    \n",
    "# print(grid, docs, slides)\n",
    "# print(page)\n",
    "with open(\"_build/html/index_npub_grid.html\", 'w') as fout:\n",
    "    fout.write(page)"
   ]
  }
 ],
 "metadata": {
  "kernelspec": {
   "display_name": "Python 3 (ipykernel)",
   "language": "python",
   "name": "python3"
  },
  "language_info": {
   "codemirror_mode": {
    "name": "ipython",
    "version": 3
   },
   "file_extension": ".py",
   "mimetype": "text/x-python",
   "name": "python",
   "nbconvert_exporter": "python",
   "pygments_lexer": "ipython3",
   "version": "3.9.22"
  },
  "papermill": {
   "default_parameters": {},
   "duration": 64.382932,
   "end_time": "2025-05-23T04:15:11.548036",
   "environment_variables": {},
   "exception": null,
   "input_path": "MPIA daily digest.ipynb",
   "output_path": "log.ipynb",
   "parameters": {},
   "start_time": "2025-05-23T04:14:07.165104",
   "version": "2.6.0"
  },
  "vscode": {
   "interpreter": {
    "hash": "aee8b7b246df8f9039afb4144a1f6fd8d2ca17a180786b69acc140d282b71a49"
   }
  },
  "widgets": {
   "application/vnd.jupyter.widget-state+json": {
    "state": {
     "2d97e956413f488c82e5a6d4a163964a": {
      "model_module": "@jupyter-widgets/controls",
      "model_module_version": "2.0.0",
      "model_name": "HTMLStyleModel",
      "state": {
       "_model_module": "@jupyter-widgets/controls",
       "_model_module_version": "2.0.0",
       "_model_name": "HTMLStyleModel",
       "_view_count": null,
       "_view_module": "@jupyter-widgets/base",
       "_view_module_version": "2.0.0",
       "_view_name": "StyleView",
       "background": null,
       "description_width": "",
       "font_size": null,
       "text_color": null
      }
     },
     "4312d79ec217436d864b4322b8bacce8": {
      "model_module": "@jupyter-widgets/controls",
      "model_module_version": "2.0.0",
      "model_name": "HTMLModel",
      "state": {
       "_dom_classes": [],
       "_model_module": "@jupyter-widgets/controls",
       "_model_module_version": "2.0.0",
       "_model_name": "HTMLModel",
       "_view_count": null,
       "_view_module": "@jupyter-widgets/controls",
       "_view_module_version": "2.0.0",
       "_view_name": "HTMLView",
       "description": "",
       "description_allow_html": false,
       "layout": "IPY_MODEL_5b20e6fb6b964ab3b2c6eda7571d6f04",
       "placeholder": "​",
       "style": "IPY_MODEL_2d97e956413f488c82e5a6d4a163964a",
       "tabbable": null,
       "tooltip": null,
       "value": " 6/6 [00:41&lt;00:00,  6.55s/it]"
      }
     },
     "5b20e6fb6b964ab3b2c6eda7571d6f04": {
      "model_module": "@jupyter-widgets/base",
      "model_module_version": "2.0.0",
      "model_name": "LayoutModel",
      "state": {
       "_model_module": "@jupyter-widgets/base",
       "_model_module_version": "2.0.0",
       "_model_name": "LayoutModel",
       "_view_count": null,
       "_view_module": "@jupyter-widgets/base",
       "_view_module_version": "2.0.0",
       "_view_name": "LayoutView",
       "align_content": null,
       "align_items": null,
       "align_self": null,
       "border_bottom": null,
       "border_left": null,
       "border_right": null,
       "border_top": null,
       "bottom": null,
       "display": null,
       "flex": null,
       "flex_flow": null,
       "grid_area": null,
       "grid_auto_columns": null,
       "grid_auto_flow": null,
       "grid_auto_rows": null,
       "grid_column": null,
       "grid_gap": null,
       "grid_row": null,
       "grid_template_areas": null,
       "grid_template_columns": null,
       "grid_template_rows": null,
       "height": null,
       "justify_content": null,
       "justify_items": null,
       "left": null,
       "margin": null,
       "max_height": null,
       "max_width": null,
       "min_height": null,
       "min_width": null,
       "object_fit": null,
       "object_position": null,
       "order": null,
       "overflow": null,
       "padding": null,
       "right": null,
       "top": null,
       "visibility": null,
       "width": null
      }
     },
     "63d6827691c849448d8dc3d447b0b269": {
      "model_module": "@jupyter-widgets/base",
      "model_module_version": "2.0.0",
      "model_name": "LayoutModel",
      "state": {
       "_model_module": "@jupyter-widgets/base",
       "_model_module_version": "2.0.0",
       "_model_name": "LayoutModel",
       "_view_count": null,
       "_view_module": "@jupyter-widgets/base",
       "_view_module_version": "2.0.0",
       "_view_name": "LayoutView",
       "align_content": null,
       "align_items": null,
       "align_self": null,
       "border_bottom": null,
       "border_left": null,
       "border_right": null,
       "border_top": null,
       "bottom": null,
       "display": null,
       "flex": null,
       "flex_flow": null,
       "grid_area": null,
       "grid_auto_columns": null,
       "grid_auto_flow": null,
       "grid_auto_rows": null,
       "grid_column": null,
       "grid_gap": null,
       "grid_row": null,
       "grid_template_areas": null,
       "grid_template_columns": null,
       "grid_template_rows": null,
       "height": null,
       "justify_content": null,
       "justify_items": null,
       "left": null,
       "margin": null,
       "max_height": null,
       "max_width": null,
       "min_height": null,
       "min_width": null,
       "object_fit": null,
       "object_position": null,
       "order": null,
       "overflow": null,
       "padding": null,
       "right": null,
       "top": null,
       "visibility": null,
       "width": null
      }
     },
     "863bb60527914687b24f7051855c92b3": {
      "model_module": "@jupyter-widgets/controls",
      "model_module_version": "2.0.0",
      "model_name": "HBoxModel",
      "state": {
       "_dom_classes": [],
       "_model_module": "@jupyter-widgets/controls",
       "_model_module_version": "2.0.0",
       "_model_name": "HBoxModel",
       "_view_count": null,
       "_view_module": "@jupyter-widgets/controls",
       "_view_module_version": "2.0.0",
       "_view_name": "HBoxView",
       "box_style": "",
       "children": [
        "IPY_MODEL_c90c6c1469504ac79754baf89053d1a8",
        "IPY_MODEL_a77ec5fc293f4554bcc65397ddea31c6",
        "IPY_MODEL_4312d79ec217436d864b4322b8bacce8"
       ],
       "layout": "IPY_MODEL_63d6827691c849448d8dc3d447b0b269",
       "tabbable": null,
       "tooltip": null
      }
     },
     "a0b36291a7ce438c92e989a31fe79829": {
      "model_module": "@jupyter-widgets/controls",
      "model_module_version": "2.0.0",
      "model_name": "ProgressStyleModel",
      "state": {
       "_model_module": "@jupyter-widgets/controls",
       "_model_module_version": "2.0.0",
       "_model_name": "ProgressStyleModel",
       "_view_count": null,
       "_view_module": "@jupyter-widgets/base",
       "_view_module_version": "2.0.0",
       "_view_name": "StyleView",
       "bar_color": null,
       "description_width": ""
      }
     },
     "a77ec5fc293f4554bcc65397ddea31c6": {
      "model_module": "@jupyter-widgets/controls",
      "model_module_version": "2.0.0",
      "model_name": "FloatProgressModel",
      "state": {
       "_dom_classes": [],
       "_model_module": "@jupyter-widgets/controls",
       "_model_module_version": "2.0.0",
       "_model_name": "FloatProgressModel",
       "_view_count": null,
       "_view_module": "@jupyter-widgets/controls",
       "_view_module_version": "2.0.0",
       "_view_name": "ProgressView",
       "bar_style": "success",
       "description": "",
       "description_allow_html": false,
       "layout": "IPY_MODEL_f767542f9d7c4445a1b941007d352190",
       "max": 6.0,
       "min": 0.0,
       "orientation": "horizontal",
       "style": "IPY_MODEL_a0b36291a7ce438c92e989a31fe79829",
       "tabbable": null,
       "tooltip": null,
       "value": 6.0
      }
     },
     "c90c6c1469504ac79754baf89053d1a8": {
      "model_module": "@jupyter-widgets/controls",
      "model_module_version": "2.0.0",
      "model_name": "HTMLModel",
      "state": {
       "_dom_classes": [],
       "_model_module": "@jupyter-widgets/controls",
       "_model_module_version": "2.0.0",
       "_model_name": "HTMLModel",
       "_view_count": null,
       "_view_module": "@jupyter-widgets/controls",
       "_view_module_version": "2.0.0",
       "_view_name": "HTMLView",
       "description": "",
       "description_allow_html": false,
       "layout": "IPY_MODEL_e055d9395cf74096a5896529d94b96d0",
       "placeholder": "​",
       "style": "IPY_MODEL_d5fcbab5bf9548c08395319ed7db3e27",
       "tabbable": null,
       "tooltip": null,
       "value": "100%"
      }
     },
     "d5fcbab5bf9548c08395319ed7db3e27": {
      "model_module": "@jupyter-widgets/controls",
      "model_module_version": "2.0.0",
      "model_name": "HTMLStyleModel",
      "state": {
       "_model_module": "@jupyter-widgets/controls",
       "_model_module_version": "2.0.0",
       "_model_name": "HTMLStyleModel",
       "_view_count": null,
       "_view_module": "@jupyter-widgets/base",
       "_view_module_version": "2.0.0",
       "_view_name": "StyleView",
       "background": null,
       "description_width": "",
       "font_size": null,
       "text_color": null
      }
     },
     "e055d9395cf74096a5896529d94b96d0": {
      "model_module": "@jupyter-widgets/base",
      "model_module_version": "2.0.0",
      "model_name": "LayoutModel",
      "state": {
       "_model_module": "@jupyter-widgets/base",
       "_model_module_version": "2.0.0",
       "_model_name": "LayoutModel",
       "_view_count": null,
       "_view_module": "@jupyter-widgets/base",
       "_view_module_version": "2.0.0",
       "_view_name": "LayoutView",
       "align_content": null,
       "align_items": null,
       "align_self": null,
       "border_bottom": null,
       "border_left": null,
       "border_right": null,
       "border_top": null,
       "bottom": null,
       "display": null,
       "flex": null,
       "flex_flow": null,
       "grid_area": null,
       "grid_auto_columns": null,
       "grid_auto_flow": null,
       "grid_auto_rows": null,
       "grid_column": null,
       "grid_gap": null,
       "grid_row": null,
       "grid_template_areas": null,
       "grid_template_columns": null,
       "grid_template_rows": null,
       "height": null,
       "justify_content": null,
       "justify_items": null,
       "left": null,
       "margin": null,
       "max_height": null,
       "max_width": null,
       "min_height": null,
       "min_width": null,
       "object_fit": null,
       "object_position": null,
       "order": null,
       "overflow": null,
       "padding": null,
       "right": null,
       "top": null,
       "visibility": null,
       "width": null
      }
     },
     "f767542f9d7c4445a1b941007d352190": {
      "model_module": "@jupyter-widgets/base",
      "model_module_version": "2.0.0",
      "model_name": "LayoutModel",
      "state": {
       "_model_module": "@jupyter-widgets/base",
       "_model_module_version": "2.0.0",
       "_model_name": "LayoutModel",
       "_view_count": null,
       "_view_module": "@jupyter-widgets/base",
       "_view_module_version": "2.0.0",
       "_view_name": "LayoutView",
       "align_content": null,
       "align_items": null,
       "align_self": null,
       "border_bottom": null,
       "border_left": null,
       "border_right": null,
       "border_top": null,
       "bottom": null,
       "display": null,
       "flex": null,
       "flex_flow": null,
       "grid_area": null,
       "grid_auto_columns": null,
       "grid_auto_flow": null,
       "grid_auto_rows": null,
       "grid_column": null,
       "grid_gap": null,
       "grid_row": null,
       "grid_template_areas": null,
       "grid_template_columns": null,
       "grid_template_rows": null,
       "height": null,
       "justify_content": null,
       "justify_items": null,
       "left": null,
       "margin": null,
       "max_height": null,
       "max_width": null,
       "min_height": null,
       "min_width": null,
       "object_fit": null,
       "object_position": null,
       "order": null,
       "overflow": null,
       "padding": null,
       "right": null,
       "top": null,
       "visibility": null,
       "width": null
      }
     }
    },
    "version_major": 2,
    "version_minor": 0
   }
  }
 },
 "nbformat": 4,
 "nbformat_minor": 5
}