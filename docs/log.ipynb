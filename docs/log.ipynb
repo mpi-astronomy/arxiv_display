{
 "cells": [
  {
   "cell_type": "markdown",
   "id": "92bcb855",
   "metadata": {
    "papermill": {
     "duration": 0.005913,
     "end_time": "2023-02-23T04:08:31.287985",
     "exception": false,
     "start_time": "2023-02-23T04:08:31.282072",
     "status": "completed"
    },
    "tags": []
   },
   "source": [
    "# MPIA Arxiv on Deck 2\n",
    "\n",
    "Contains the steps to produce the paper extractions."
   ]
  },
  {
   "cell_type": "code",
   "execution_count": 1,
   "id": "3a0d6e11",
   "metadata": {
    "execution": {
     "iopub.execute_input": "2023-02-23T04:08:31.298513Z",
     "iopub.status.busy": "2023-02-23T04:08:31.297931Z",
     "iopub.status.idle": "2023-02-23T04:08:31.489509Z",
     "shell.execute_reply": "2023-02-23T04:08:31.488820Z"
    },
    "papermill": {
     "duration": 0.199031,
     "end_time": "2023-02-23T04:08:31.491453",
     "exception": false,
     "start_time": "2023-02-23T04:08:31.292422",
     "status": "completed"
    },
    "tags": []
   },
   "outputs": [],
   "source": [
    "# Imports\n",
    "import os\n",
    "from IPython.display import Markdown, display\n",
    "from tqdm.notebook import tqdm\n",
    "import warnings\n",
    "from PIL import Image \n",
    "\n",
    "# requires arxiv_on_deck_2\n",
    "\n",
    "from arxiv_on_deck_2.arxiv2 import (get_new_papers, \n",
    "                                    get_paper_from_identifier,\n",
    "                                    retrieve_document_source, \n",
    "                                    get_markdown_badge)\n",
    "from arxiv_on_deck_2 import (latex, \n",
    "                             mpia,\n",
    "                             highlight_authors_in_list)\n",
    "\n",
    "# Sometimes images are really big\n",
    "Image.MAX_IMAGE_PIXELS = 1000000000 "
   ]
  },
  {
   "cell_type": "code",
   "execution_count": 2,
   "id": "22aa9d44",
   "metadata": {
    "execution": {
     "iopub.execute_input": "2023-02-23T04:08:31.501652Z",
     "iopub.status.busy": "2023-02-23T04:08:31.501175Z",
     "iopub.status.idle": "2023-02-23T04:08:31.506179Z",
     "shell.execute_reply": "2023-02-23T04:08:31.505541Z"
    },
    "papermill": {
     "duration": 0.011936,
     "end_time": "2023-02-23T04:08:31.507782",
     "exception": false,
     "start_time": "2023-02-23T04:08:31.495846",
     "status": "completed"
    },
    "tags": []
   },
   "outputs": [],
   "source": [
    "# Some useful definitions.\n",
    "\n",
    "class AffiliationWarning(UserWarning):\n",
    "    pass\n",
    "\n",
    "class AffiliationError(RuntimeError):\n",
    "    pass\n",
    "\n",
    "def validation(source: str):\n",
    "    \"\"\"Raises error paper during parsing of source file\n",
    "    \n",
    "    Allows checks before parsing TeX code.\n",
    "    \n",
    "    Raises AffiliationWarning\n",
    "    \"\"\"\n",
    "    check = mpia.affiliation_verifications(source, verbose=True)\n",
    "    if check is not True:\n",
    "        raise AffiliationError(\"mpia.affiliation_verifications: \" + check)\n",
    "\n",
    "        \n",
    "warnings.simplefilter('always', AffiliationWarning)"
   ]
  },
  {
   "cell_type": "code",
   "execution_count": 3,
   "id": "14622700",
   "metadata": {
    "execution": {
     "iopub.execute_input": "2023-02-23T04:08:31.517218Z",
     "iopub.status.busy": "2023-02-23T04:08:31.516663Z",
     "iopub.status.idle": "2023-02-23T04:08:31.520453Z",
     "shell.execute_reply": "2023-02-23T04:08:31.519820Z"
    },
    "papermill": {
     "duration": 0.010229,
     "end_time": "2023-02-23T04:08:31.522112",
     "exception": false,
     "start_time": "2023-02-23T04:08:31.511883",
     "status": "completed"
    },
    "tags": []
   },
   "outputs": [],
   "source": [
    "# additional CSS to consider. \n",
    "# TODO: Current into each exported file. \n",
    "#       This should be set once into the webpages directly.\n",
    "#       With only the class/id definitions in the .md files.\n",
    "\n",
    "debug_html = \"\"\"\n",
    "<style>\n",
    "#wrap{ overflow:auto; }\n",
    "#fig1{ background:yellow; width:100%; float:left; padding:5px;  }\n",
    "#fig2{ background:red; width:50%; float:left; clear:left; padding:5px;  }\n",
    "#fig3{ background:green; width:50%; float:left; padding:5px;   }\n",
    ".macros{ background:yellow; visibility:visible;}\n",
    "h1 {margin: 0 0 0 0;}\n",
    "mark {background-color:#fff3b6;}\n",
    "img {object-fit:contain; max-height:250px; display:inline-block; text-align: center;}\n",
    "</style>\n",
    "\"\"\" \n",
    "html = \"\"\"\n",
    "<style>\n",
    "#wrap{ overflow:auto; }\n",
    "#fig1{ width:100%; float:left; padding: 5px;  }\n",
    "#fig2{ width:50%; float:left; clear:left; padding: 5px;  }\n",
    "#fig3{ width:50%; float:left; padding: 5px;  }\n",
    ".macros{ visibility:hidden; height:0px; }\n",
    "h1 {margin: 0em 0 0 0;}\n",
    "mark {background-color:#fff3b6;}\n",
    "img {object-fit:contain; max-height:250px; display:inline-block; text-align: center;}\n",
    "</style>\n",
    "\"\"\""
   ]
  },
  {
   "cell_type": "markdown",
   "id": "14bd6310",
   "metadata": {
    "papermill": {
     "duration": 0.004103,
     "end_time": "2023-02-23T04:08:31.530252",
     "exception": false,
     "start_time": "2023-02-23T04:08:31.526149",
     "status": "completed"
    },
    "tags": []
   },
   "source": [
    "## get list of arxiv paper candidates\n",
    "\n",
    "We use the MPIA mitarbeiter list webpage from mpia.de to get author names\n",
    "We then get all new papers from Arxiv and match authors"
   ]
  },
  {
   "cell_type": "code",
   "execution_count": 4,
   "id": "2645e73a",
   "metadata": {
    "execution": {
     "iopub.execute_input": "2023-02-23T04:08:31.539691Z",
     "iopub.status.busy": "2023-02-23T04:08:31.539133Z",
     "iopub.status.idle": "2023-02-23T04:08:59.833989Z",
     "shell.execute_reply": "2023-02-23T04:08:59.832960Z"
    },
    "papermill": {
     "duration": 28.301611,
     "end_time": "2023-02-23T04:08:59.835883",
     "exception": false,
     "start_time": "2023-02-23T04:08:31.534272",
     "status": "completed"
    },
    "tags": []
   },
   "outputs": [
    {
     "name": "stdout",
     "output_type": "stream",
     "text": [
      "Arxiv has 81 new papers today\n",
      "          19 with possible author matches\n"
     ]
    }
   ],
   "source": [
    "# get list from MPIA website\n",
    "# it automatically filters identified non-scientists :func:`mpia.filter_non_scientists`\n",
    "mpia_authors = mpia.get_mpia_mitarbeiter_list()\n",
    "new_papers = get_new_papers()\n",
    "# add manual references\n",
    "add_paper_refs = []\n",
    "new_papers.extend([get_paper_from_identifier(k) for k in add_paper_refs])\n",
    "\n",
    "# select only papers with matching author names and highlight authors\n",
    "hl_list = [k[0] for k in mpia_authors]\n",
    "\n",
    "candidates = []\n",
    "for paperk in new_papers:\n",
    "    hl_authors = highlight_authors_in_list(paperk['authors'], hl_list)\n",
    "    matches = [(hl, orig) for hl, orig in zip(hl_authors, paperk['authors']) if 'mark' in hl]\n",
    "    paperk['authors'] = hl_authors\n",
    "    if matches:\n",
    "        candidates.append(paperk)\n",
    "print(\"\"\"Arxiv has {0:,d} new papers today\"\"\".format(len(new_papers)))        \n",
    "print(\"\"\"          {0:,d} with possible author matches\"\"\".format(len(candidates)))"
   ]
  },
  {
   "cell_type": "markdown",
   "id": "3543b34a",
   "metadata": {
    "papermill": {
     "duration": 0.004498,
     "end_time": "2023-02-23T04:08:59.845241",
     "exception": false,
     "start_time": "2023-02-23T04:08:59.840743",
     "status": "completed"
    },
    "tags": []
   },
   "source": [
    "# Parse sources and generate relevant outputs\n",
    "\n",
    "From the candidates, we do the following steps:\n",
    "* get their tarball from ArXiv (and extract data)\n",
    "* find the main .tex file: find one with \\documentclass{...} (sometimes it's non trivial)\n",
    "* Check affiliations with :func:`validation`, which uses :func:`mpia.affiliation_verifications`\n",
    "* If passing the affiliations: we parse the .tex source\n",
    "   * inject sub-documents into the main (flatten the main document)\n",
    "   * parse structure, extract information (title, abstract, authors, figures...)\n",
    "   * handles `\\graphicspath` if provided\n",
    "* Generate the .md document."
   ]
  },
  {
   "cell_type": "code",
   "execution_count": 5,
   "id": "9576b79e",
   "metadata": {
    "execution": {
     "iopub.execute_input": "2023-02-23T04:08:59.855233Z",
     "iopub.status.busy": "2023-02-23T04:08:59.854613Z",
     "iopub.status.idle": "2023-02-23T04:10:00.719709Z",
     "shell.execute_reply": "2023-02-23T04:10:00.718920Z"
    },
    "papermill": {
     "duration": 60.871847,
     "end_time": "2023-02-23T04:10:00.721253",
     "exception": false,
     "start_time": "2023-02-23T04:08:59.849406",
     "status": "completed"
    },
    "scrolled": false,
    "tags": []
   },
   "outputs": [
    {
     "data": {
      "application/vnd.jupyter.widget-view+json": {
       "model_id": "e0ad140b64aa403498aa9e7c6ccbe08e",
       "version_major": 2,
       "version_minor": 0
      },
      "text/plain": [
       "  0%|          | 0/18 [00:00<?, ?it/s]"
      ]
     },
     "metadata": {},
     "output_type": "display_data"
    },
    {
     "name": "stdout",
     "output_type": "stream",
     "text": [
      "Retrieving document from  https://arxiv.org/e-print/2302.10919\n"
     ]
    },
    {
     "name": "stdout",
     "output_type": "stream",
     "text": [
      "extracting tarball to tmp_2302.10919..."
     ]
    },
    {
     "name": "stdout",
     "output_type": "stream",
     "text": [
      " done.\n",
      "Retrieving document from  https://arxiv.org/e-print/2302.10932\n"
     ]
    },
    {
     "name": "stderr",
     "output_type": "stream",
     "text": [
      "/opt/hostedtoolcache/Python/3.9.16/x64/lib/python3.9/site-packages/IPython/core/interactiveshell.py:3460: LatexWarning: Multiple tex files.\n",
      "\n",
      "  exec(code_obj, self.user_global_ns, self.user_ns)\n",
      "/opt/hostedtoolcache/Python/3.9.16/x64/lib/python3.9/site-packages/IPython/core/interactiveshell.py:3460: LatexWarning: Found documentclass in tmp_2302.10919/universe-2041627-english.tex\n",
      "\n",
      "  exec(code_obj, self.user_global_ns, self.user_ns)\n"
     ]
    },
    {
     "name": "stdout",
     "output_type": "stream",
     "text": [
      "extracting tarball to tmp_2302.10932..."
     ]
    },
    {
     "name": "stdout",
     "output_type": "stream",
     "text": [
      " done.\n",
      "Retrieving document from  https://arxiv.org/e-print/2302.10934\n"
     ]
    },
    {
     "name": "stderr",
     "output_type": "stream",
     "text": [
      "/opt/hostedtoolcache/Python/3.9.16/x64/lib/python3.9/site-packages/IPython/core/interactiveshell.py:3460: LatexWarning: Multiple tex files.\n",
      "\n",
      "  exec(code_obj, self.user_global_ns, self.user_ns)\n",
      "/opt/hostedtoolcache/Python/3.9.16/x64/lib/python3.9/site-packages/IPython/core/interactiveshell.py:3460: LatexWarning: Found documentclass in tmp_2302.10932/main.tex\n",
      "\n",
      "  exec(code_obj, self.user_global_ns, self.user_ns)\n",
      "/opt/hostedtoolcache/Python/3.9.16/x64/lib/python3.9/site-packages/arxiv_on_deck_2/latex.py:293: LatexWarning: Latex injecting: 'EzGal_Mass_Limits.tex' from 'tmp_2302.10932/EzGal_Mass_Limits.tex'\n",
      "  warnings.warn(LatexWarning(f\"Latex injecting: '{ext}' from '{subsource}'\"))\n",
      "/opt/hostedtoolcache/Python/3.9.16/x64/lib/python3.9/site-packages/arxiv_on_deck_2/latex.py:293: LatexWarning: Latex injecting: 'AT2021lwx_TDE_Fit_Parameters.tex' from 'tmp_2302.10932/AT2021lwx_TDE_Fit_Parameters.tex'\n",
      "  warnings.warn(LatexWarning(f\"Latex injecting: '{ext}' from '{subsource}'\"))\n",
      "/opt/hostedtoolcache/Python/3.9.16/x64/lib/python3.9/site-packages/arxiv_on_deck_2/latex.py:293: LatexWarning: Latex injecting: 'AT2021lwx_Observed_Parameters.tex' from 'tmp_2302.10932/AT2021lwx_Observed_Parameters.tex'\n",
      "  warnings.warn(LatexWarning(f\"Latex injecting: '{ext}' from '{subsource}'\"))\n"
     ]
    },
    {
     "name": "stdout",
     "output_type": "stream",
     "text": [
      "extracting tarball to tmp_2302.10934..."
     ]
    },
    {
     "name": "stdout",
     "output_type": "stream",
     "text": [
      " done.\n",
      "Retrieving document from  https://arxiv.org/e-print/2302.10936\n"
     ]
    },
    {
     "name": "stderr",
     "output_type": "stream",
     "text": [
      "/opt/hostedtoolcache/Python/3.9.16/x64/lib/python3.9/site-packages/IPython/core/interactiveshell.py:3460: LatexWarning: Multiple tex files.\n",
      "\n",
      "  exec(code_obj, self.user_global_ns, self.user_ns)\n",
      "/opt/hostedtoolcache/Python/3.9.16/x64/lib/python3.9/site-packages/IPython/core/interactiveshell.py:3460: LatexWarning: Found documentclass in tmp_2302.10934/aassymbols.tex\n",
      "\n",
      "  exec(code_obj, self.user_global_ns, self.user_ns)\n"
     ]
    },
    {
     "name": "stdout",
     "output_type": "stream",
     "text": [
      "extracting tarball to tmp_2302.10936..."
     ]
    },
    {
     "name": "stdout",
     "output_type": "stream",
     "text": [
      " done.\n",
      "Retrieving document from  https://arxiv.org/e-print/2302.10943\n"
     ]
    },
    {
     "name": "stdout",
     "output_type": "stream",
     "text": [
      "extracting tarball to tmp_2302.10943... done.\n"
     ]
    },
    {
     "name": "stdout",
     "output_type": "stream",
     "text": [
      "Retrieving document from  https://arxiv.org/e-print/2302.10956\n"
     ]
    },
    {
     "name": "stdout",
     "output_type": "stream",
     "text": [
      "extracting tarball to tmp_2302.10956..."
     ]
    },
    {
     "name": "stdout",
     "output_type": "stream",
     "text": [
      " done.\n",
      "Retrieving document from  https://arxiv.org/e-print/2302.11020\n"
     ]
    },
    {
     "name": "stderr",
     "output_type": "stream",
     "text": [
      "/tmp/ipykernel_1990/4030337529.py:34: LatexWarning: 2302.11020 did not run properly\n",
      "not a gzip file\n",
      "  warnings.warn(latex.LatexWarning(f\"{paper_id:s} did not run properly\\n\" +\n"
     ]
    },
    {
     "name": "stdout",
     "output_type": "stream",
     "text": [
      "Retrieving document from  https://arxiv.org/e-print/2302.11025\n"
     ]
    },
    {
     "name": "stdout",
     "output_type": "stream",
     "text": [
      "extracting tarball to tmp_2302.11025..."
     ]
    },
    {
     "name": "stdout",
     "output_type": "stream",
     "text": [
      " done.\n",
      "Retrieving document from  https://arxiv.org/e-print/2302.11111\n"
     ]
    },
    {
     "name": "stdout",
     "output_type": "stream",
     "text": [
      "extracting tarball to tmp_2302.11111... done.\n",
      "Retrieving document from  https://arxiv.org/e-print/2302.11116\n"
     ]
    },
    {
     "name": "stdout",
     "output_type": "stream",
     "text": [
      "extracting tarball to tmp_2302.11116..."
     ]
    },
    {
     "name": "stdout",
     "output_type": "stream",
     "text": [
      " done.\n",
      "Retrieving document from  https://arxiv.org/e-print/2302.11166\n"
     ]
    },
    {
     "name": "stderr",
     "output_type": "stream",
     "text": [
      "/opt/hostedtoolcache/Python/3.9.16/x64/lib/python3.9/site-packages/IPython/core/interactiveshell.py:3460: LatexWarning: Multiple tex files.\n",
      "\n",
      "  exec(code_obj, self.user_global_ns, self.user_ns)\n",
      "/opt/hostedtoolcache/Python/3.9.16/x64/lib/python3.9/site-packages/IPython/core/interactiveshell.py:3460: LatexWarning: Found documentclass in tmp_2302.11116/main.tex\n",
      "\n",
      "  exec(code_obj, self.user_global_ns, self.user_ns)\n",
      "/opt/hostedtoolcache/Python/3.9.16/x64/lib/python3.9/site-packages/arxiv_on_deck_2/latex.py:293: LatexWarning: Latex injecting: '7_Appendix' from 'tmp_2302.11116/7_Appendix.tex'\n",
      "  warnings.warn(LatexWarning(f\"Latex injecting: '{ext}' from '{subsource}'\"))\n",
      "/opt/hostedtoolcache/Python/3.9.16/x64/lib/python3.9/site-packages/arxiv_on_deck_2/latex.py:293: LatexWarning: Latex injecting: '6_Conclusions' from 'tmp_2302.11116/6_Conclusions.tex'\n",
      "  warnings.warn(LatexWarning(f\"Latex injecting: '{ext}' from '{subsource}'\"))\n",
      "/opt/hostedtoolcache/Python/3.9.16/x64/lib/python3.9/site-packages/arxiv_on_deck_2/latex.py:293: LatexWarning: Latex injecting: '5_Analysis' from 'tmp_2302.11116/5_Analysis.tex'\n",
      "  warnings.warn(LatexWarning(f\"Latex injecting: '{ext}' from '{subsource}'\"))\n",
      "/opt/hostedtoolcache/Python/3.9.16/x64/lib/python3.9/site-packages/arxiv_on_deck_2/latex.py:293: LatexWarning: Latex injecting: '4_Results' from 'tmp_2302.11116/4_Results.tex'\n",
      "  warnings.warn(LatexWarning(f\"Latex injecting: '{ext}' from '{subsource}'\"))\n",
      "/opt/hostedtoolcache/Python/3.9.16/x64/lib/python3.9/site-packages/arxiv_on_deck_2/latex.py:293: LatexWarning: Latex injecting: '3_Methods' from 'tmp_2302.11116/3_Methods.tex'\n",
      "  warnings.warn(LatexWarning(f\"Latex injecting: '{ext}' from '{subsource}'\"))\n",
      "/opt/hostedtoolcache/Python/3.9.16/x64/lib/python3.9/site-packages/arxiv_on_deck_2/latex.py:293: LatexWarning: Latex injecting: '2_Data' from 'tmp_2302.11116/2_Data.tex'\n",
      "  warnings.warn(LatexWarning(f\"Latex injecting: '{ext}' from '{subsource}'\"))\n",
      "/opt/hostedtoolcache/Python/3.9.16/x64/lib/python3.9/site-packages/arxiv_on_deck_2/latex.py:293: LatexWarning: Latex injecting: '1_Intro' from 'tmp_2302.11116/1_Intro.tex'\n",
      "  warnings.warn(LatexWarning(f\"Latex injecting: '{ext}' from '{subsource}'\"))\n",
      "/opt/hostedtoolcache/Python/3.9.16/x64/lib/python3.9/site-packages/arxiv_on_deck_2/latex.py:293: LatexWarning: Latex injecting: '0_Abstract' from 'tmp_2302.11116/0_Abstract.tex'\n",
      "  warnings.warn(LatexWarning(f\"Latex injecting: '{ext}' from '{subsource}'\"))\n"
     ]
    },
    {
     "name": "stdout",
     "output_type": "stream",
     "text": [
      "extracting tarball to tmp_2302.11166..."
     ]
    },
    {
     "name": "stdout",
     "output_type": "stream",
     "text": [
      " done.\n",
      "Retrieving document from  https://arxiv.org/e-print/2302.11198\n"
     ]
    },
    {
     "name": "stdout",
     "output_type": "stream",
     "text": [
      "extracting tarball to tmp_2302.11198..."
     ]
    },
    {
     "name": "stdout",
     "output_type": "stream",
     "text": [
      " done.\n",
      "Retrieving document from  https://arxiv.org/e-print/2302.11243\n"
     ]
    },
    {
     "name": "stderr",
     "output_type": "stream",
     "text": [
      "/opt/hostedtoolcache/Python/3.9.16/x64/lib/python3.9/site-packages/IPython/core/interactiveshell.py:3460: LatexWarning: Multiple tex files.\n",
      "\n",
      "  exec(code_obj, self.user_global_ns, self.user_ns)\n",
      "/opt/hostedtoolcache/Python/3.9.16/x64/lib/python3.9/site-packages/IPython/core/interactiveshell.py:3460: LatexWarning: Found documentclass in tmp_2302.11198/manuscript.tex\n",
      "\n",
      "  exec(code_obj, self.user_global_ns, self.user_ns)\n"
     ]
    },
    {
     "name": "stdout",
     "output_type": "stream",
     "text": [
      "extracting tarball to tmp_2302.11243..."
     ]
    },
    {
     "name": "stdout",
     "output_type": "stream",
     "text": [
      " done.\n",
      "Retrieving document from  https://arxiv.org/e-print/2302.11276\n"
     ]
    },
    {
     "name": "stderr",
     "output_type": "stream",
     "text": [
      "/opt/hostedtoolcache/Python/3.9.16/x64/lib/python3.9/site-packages/IPython/core/interactiveshell.py:3460: LatexWarning: Multiple tex files.\n",
      "\n",
      "  exec(code_obj, self.user_global_ns, self.user_ns)\n",
      "/opt/hostedtoolcache/Python/3.9.16/x64/lib/python3.9/site-packages/IPython/core/interactiveshell.py:3460: LatexWarning: Found documentclass in tmp_2302.11243/ms.tex\n",
      "\n",
      "  exec(code_obj, self.user_global_ns, self.user_ns)\n"
     ]
    },
    {
     "name": "stdout",
     "output_type": "stream",
     "text": [
      "extracting tarball to tmp_2302.11276..."
     ]
    },
    {
     "name": "stdout",
     "output_type": "stream",
     "text": [
      " done.\n",
      "Retrieving document from  https://arxiv.org/e-print/2302.11324\n"
     ]
    },
    {
     "name": "stdout",
     "output_type": "stream",
     "text": [
      "extracting tarball to tmp_2302.11324..."
     ]
    },
    {
     "name": "stdout",
     "output_type": "stream",
     "text": [
      " done.\n",
      "Retrieving document from  https://arxiv.org/e-print/2302.11392\n"
     ]
    },
    {
     "name": "stdout",
     "output_type": "stream",
     "text": [
      "extracting tarball to tmp_2302.11392..."
     ]
    },
    {
     "name": "stdout",
     "output_type": "stream",
     "text": [
      " done.\n",
      "Retrieving document from  https://arxiv.org/e-print/2302.11397\n"
     ]
    },
    {
     "name": "stdout",
     "output_type": "stream",
     "text": [
      "extracting tarball to tmp_2302.11397..."
     ]
    },
    {
     "name": "stdout",
     "output_type": "stream",
     "text": [
      " done.\n",
      "Retrieving document from  https://arxiv.org/e-print/2302.11549\n"
     ]
    },
    {
     "name": "stderr",
     "output_type": "stream",
     "text": [
      "/tmp/ipykernel_1990/4030337529.py:34: LatexWarning: 2302.11549 did not run properly\n",
      "not a gzip file\n",
      "  warnings.warn(latex.LatexWarning(f\"{paper_id:s} did not run properly\\n\" +\n"
     ]
    }
   ],
   "source": [
    "documents = []\n",
    "failed = []\n",
    "for paper in tqdm(candidates[:-1]):\n",
    "    paper_id = paper['identifier'].lower().replace('arxiv:', '')\n",
    "    \n",
    "    folder = f'tmp_{paper_id}'\n",
    "\n",
    "    try:\n",
    "        if not os.path.isdir(folder):\n",
    "            folder = retrieve_document_source(f\"{paper_id}\", f'tmp_{paper_id}')\n",
    "        \n",
    "        try:\n",
    "            doc = latex.LatexDocument(folder, validation=validation)    \n",
    "        except AffiliationError as affilerror:\n",
    "            msg = f\"ArXiv:{paper_id:s} is not an MPIA paper... \" + str(affilerror)\n",
    "            failed.append((paper, \"affiliation error: \" + str(affilerror) ))\n",
    "            continue\n",
    "        \n",
    "        # Hack because sometimes author parsing does not work well\n",
    "        if (len(doc.authors) != len(paper['authors'])):\n",
    "            doc._authors = paper['authors']\n",
    "        if (doc.abstract) in (None, ''):\n",
    "            doc._abstract = paper['abstract']\n",
    "            \n",
    "        doc.comment = (get_markdown_badge(paper_id) + \n",
    "                       \"<mark>Appeared on: \" + paper['date'] + \"</mark> - \" +\n",
    "                       \"_\" + paper['comments'] + \"_\")\n",
    "        doc.highlight_authors_in_list(hl_list)\n",
    "\n",
    "        full_md = doc.generate_markdown_text()\n",
    "        \n",
    "        documents.append((paper_id, full_md))\n",
    "    except Exception as e:\n",
    "        warnings.warn(latex.LatexWarning(f\"{paper_id:s} did not run properly\\n\" +\n",
    "                                         str(e)\n",
    "                                        ))\n",
    "        failed.append((paper, \"latex error \" + str(e)))"
   ]
  },
  {
   "cell_type": "markdown",
   "id": "2505a25c",
   "metadata": {
    "papermill": {
     "duration": 0.006998,
     "end_time": "2023-02-23T04:10:00.735157",
     "exception": false,
     "start_time": "2023-02-23T04:10:00.728159",
     "status": "completed"
    },
    "tags": []
   },
   "source": [
    "### Export the logs\n",
    "\n",
    "Throughout, we also keep track of the logs per paper. see `logs-{today date}.md` "
   ]
  },
  {
   "cell_type": "code",
   "execution_count": 6,
   "id": "d733828a",
   "metadata": {
    "execution": {
     "iopub.execute_input": "2023-02-23T04:10:00.749991Z",
     "iopub.status.busy": "2023-02-23T04:10:00.749495Z",
     "iopub.status.idle": "2023-02-23T04:10:00.801775Z",
     "shell.execute_reply": "2023-02-23T04:10:00.800982Z"
    },
    "papermill": {
     "duration": 0.062155,
     "end_time": "2023-02-23T04:10:00.803621",
     "exception": false,
     "start_time": "2023-02-23T04:10:00.741466",
     "status": "completed"
    },
    "scrolled": false,
    "tags": []
   },
   "outputs": [
    {
     "data": {
      "text/markdown": [
       "## Successful papers"
      ],
      "text/plain": [
       "<IPython.core.display.Markdown object>"
      ]
     },
     "metadata": {},
     "output_type": "display_data"
    },
    {
     "data": {
      "text/markdown": [
       "\n",
       "|||\n",
       "|---:|:---|\n",
       "| [![arXiv](https://img.shields.io/badge/arXiv-arXiv:2302.10943-b31b1b.svg)](https://arxiv.org/abs/arXiv:2302.10943) | **The growth of brightest cluster galaxies in the TNG300  simulation:dissecting the contributions from mergers and in situ star  formation**  |\n",
       "|| Daniel Montenegro-Taborda, et al. -- incl., <mark>Annalisa Pillepich</mark> |\n",
       "|*Appeared on*| *2023-02-23*|\n",
       "|*Comments*| *19 pages, 11 figures. Accepted for publication in MNRAS*|\n",
       "|**Abstract**| We investigate the formation of brightest cluster galaxies (BCGs) in the TNG300 cosmological simulation of the IllustrisTNG project. Our cluster sample consists of 700 haloes with $M_{200} \\geq 5 \\times 10^{13} \\, \\mathrm{M}_{\\odot}$ at $z=0$, along with their progenitors at earlier epochs. This includes 280 systems with $M_{200} \\geq 10^{14} \\, \\mathrm{M}_{\\odot}$ at $z=0$, as well as three haloes with $M_{200} \\geq 10^{15} \\, \\mathrm{M}_{\\odot}$. We find that the stellar masses and star formation rates of our simulated BCGs are in good agreement with observations at $z \\lesssim 0.4$, and that they have experienced, on average, $\\sim$2 ($\\sim$3) major mergers since $z=1$ ($z=2$). Separating the BCG from the intracluster light (ICL) by means of a fixed 30 kpc aperture, we find that the fraction of stellar mass contributed by ex situ (i.e. accreted) stars at $z=0$ is approximately 70, 80, and 90 per cent for the BCG, BCG+ICL, and ICL, respectively. Tracking our simulated BCGs back in time using the merger trees, we find that they became dominated by ex situ stars at $z \\sim $1-2, and that half of the stars that are part of the BCG at $z=0$ formed early ($z \\sim 3$) in other galaxies, but `assembled' onto the BCG until later times ($z \\approx 0.8$ for the whole sample, $z \\approx 0.5$ for BCGs in $M_{200} \\geq 5 \\times 10^{14} \\, \\mathrm{M}_{\\odot}$ haloes). Finally, we show that the stellar mass profiles of BCGs are often dominated by ex situ stars at all radii, with stars from major mergers being found closer to the centre, while stars that were tidally stripped from other galaxies dominate the outer regions. |"
      ],
      "text/plain": [
       "[arXiv:2302.10943] The growth of brightest cluster galaxies in the TNG300  simulation:dissecting the contributions from mergers and in situ star  formation\n",
       "\tDaniel Montenegro-Taborda, et al. -- incl., <mark>Annalisa Pillepich</mark>"
      ]
     },
     "metadata": {},
     "output_type": "display_data"
    },
    {
     "data": {
      "text/markdown": [
       "## Failed papers"
      ],
      "text/plain": [
       "<IPython.core.display.Markdown object>"
      ]
     },
     "metadata": {},
     "output_type": "display_data"
    },
    {
     "data": {
      "text/markdown": [
       "\n",
       "|||\n",
       "|---:|:---|\n",
       "| [![arXiv](https://img.shields.io/badge/arXiv-arXiv:2302.10919-b31b1b.svg)](https://arxiv.org/abs/arXiv:2302.10919) | **Multiverse Predictions for Habitability: Element Abundances**  |\n",
       "|| McCullen Sandora, et al. -- incl., <mark>Geraint F. Lewis</mark> |\n",
       "|*Appeared on*| *2023-02-23*|\n",
       "|*Comments*| *27 pages, 5 figures*|\n",
       "|**Abstract**| We investigate the dependence of elemental abundances on physical constants, and the implications this has for the distribution of complex life for various proposed habitability criteria. We consider three main sources of abundance variation: differing supernova rates, alpha burning in massive stars, and isotopic stability, and how each affects the metal-to-rock ratio and the abundances of carbon, oxygen, nitrogen, phosphorus, sulfur, silicon, magnesium, and iron. Our analysis leads to several predictions for which habitability criteria are correct by determining which ones make our observations of the physical constants, as well as a few other observed features of our universe, most likely. Our results indicate that carbon-rich or carbon-poor planets are uninhabitable, slightly magnesium-rich planets are habitable, and life does not depend on nitrogen abundance too sensitively. We also find suggestive but inconclusive evidence that metal-rich planets and phosphorus-poor planets are habitable. These predictions can then be checked by probing regions of our universe that closely resemble normal environments in other universes. If any of these predictions are found to be wrong, the multiverse scenario would predict that the majority of observers are born in universes differing substantially from ours, and so can be ruled out, to varying degrees of statistical significance. |\n",
       "|<p style=\"color:green\"> **ERROR** </p>| <p style=\"color:green\">affiliation error: mpia.affiliation_verifications: 'Heidelberg' keyword not found.</p> |"
      ],
      "text/plain": [
       "<IPython.core.display.Markdown object>"
      ]
     },
     "metadata": {},
     "output_type": "display_data"
    },
    {
     "data": {
      "text/markdown": [
       "\n",
       "|||\n",
       "|---:|:---|\n",
       "| [![arXiv](https://img.shields.io/badge/arXiv-arXiv:2302.10932-b31b1b.svg)](https://arxiv.org/abs/arXiv:2302.10932) | **Scary Barbie: An Extremely Energetic, Long-Duration Tidal Disruption  Event Candidate Without a Detected Host Galaxy at z = 0.995**  |\n",
       "|| Bhagya M. Subrayan, et al. -- incl., <mark>Kyoung-Soo Lee</mark>, <mark>David Matthews</mark> |\n",
       "|*Appeared on*| *2023-02-23*|\n",
       "|*Comments*| *13 pages, 4 figures, 1 Table; Submitted to The Astrophysical Journal Letters*|\n",
       "|**Abstract**| We report multi-wavelength observations and characterization of the ultraluminous transient AT 2021lwx (ZTF20abrbeie; aka ``Barbie'') identified in the alert stream of the Zwicky Transient Facility (ZTF) using a Recommender Engine For Intelligent Transient Tracking (REFITT) filter on the ANTARES alert broker. From a spectroscopically measured redshift of 0.995, we estimate a peak observed pseudo-bolometric luminosity of log L$_{\\text{max}} = 45.7$ erg s$^{-1}$ from slowly fading ztf-$\\it{g}$ and ztf-$r$ light curves spanning over 1000 observer-frame days. The host galaxy is not detected in archival Pan-STARRS observations ($g > 23.3$ mag), implying a lower limit to the outburst amplitude of more than 5 mag relative to the quiescent host galaxy. Optical spectra from Lick and Keck Observatories exhibit strong emission lines with narrow cores from the H Balmer series and ultraviolet semi-forbidden lines of Si III] $\\lambda$1892, C III] $\\lambda$1909, and C II] $\\lambda$2325. Typical nebular lines in AGN spectra from ions such as [O II] and [O III] are not detected. These spectral features, along with the smooth light curve that is unlike most AGN flaring activity, and the luminosity that exceeds any observed or theorized supernova, lead us to conclude that AT 2021lwx is most likely an extreme tidal disruption event (TDE). Modeling of ZTF photometry with MOSFiT suggests that the TDE was between a $\\approx 14 M_{\\odot}$ star and a supermassive black hole of mass $M_{\\text{BH}} \\sim$ $10^{8} M_{\\odot}$. Continued monitoring of the still-evolving light curve along with deep imaging of the field once AT 2021lwx has faded can test this hypothesis and potentially detect the host galaxy. |\n",
       "|<p style=\"color:green\"> **ERROR** </p>| <p style=\"color:green\">affiliation error: mpia.affiliation_verifications: 'Heidelberg' keyword not found.</p> |"
      ],
      "text/plain": [
       "<IPython.core.display.Markdown object>"
      ]
     },
     "metadata": {},
     "output_type": "display_data"
    },
    {
     "data": {
      "text/markdown": [
       "\n",
       "|||\n",
       "|---:|:---|\n",
       "| [![arXiv](https://img.shields.io/badge/arXiv-arXiv:2302.10934-b31b1b.svg)](https://arxiv.org/abs/arXiv:2302.10934) | **COSMOS2020: Exploring the dawn of quenching for massive galaxies at 3 <  z < 5 with a new colour selection method**  |\n",
       "|| <mark>Katriona M. L. Gould</mark>, et al. |\n",
       "|*Appeared on*| *2023-02-23*|\n",
       "|*Comments*| *19 pages, 10 figures + appendix. Accepted for publication in AJ. Both the GMM model and code to calculate quiescent probabilities from rest frame flux densities are made available online at this https URL*|\n",
       "|**Abstract**| We select and characterise a sample of massive (log(M$_{*}/$M$_{\\odot})>10.6$) quiescent galaxies (QGs) at $3<z<5$ in the latest COSMOS2020 catalogue. QGs are selected using a new rest-frame colour selection method, based on their probability of belonging to the quiescent group defined by a Gaussian Mixture Model (GMM) trained on rest-frame colours ($NUV-U, U-V, V-J$) of similarly massive galaxies at $2<z<3$. We calculate the quiescent probability threshold above which a galaxy is classified as quiescent using simulated galaxies from the SHARK semi-analytical model. We find that at $z\\geq3$ in SHARK, the GMM/$NUVU-VJ$ method out-performs classical rest-frame $UVJ$ selection and is a viable alternative. We select galaxies as quiescent based on their probability in COSMOS2020 at $3<z<5$, and compare the selected sample to both $UVJ$ and $NUVrJ$ selected samples. We find that although the new selection matches $UVJ$ and $NUVrJ$ in number, the overlap between colour selections is only $\\sim50-80\\%$, implying that rest-frame colour commonly used at lower redshifts selections cannot be equivalently used at $z>3$. We compute median rest-frame SEDs for our sample and find the median quiescent galaxy at $3<z<5$ has a strong Balmer/4000 Angstrom break, and residual $NUV$ flux indicating recent quenching. We find the number densities of the entire quiescent population (including post-starbursts) more than doubles from $3.5\\pm2.2\\times10^{-6}$ Mpc$^{-3}$ at $4<z<5$ to $1.4\\pm0.4\\times10^{-5}$ Mpc$^{-3}$ at $3<z<4$, confirming that the onset of massive galaxy quenching occurs as early as $3<z<5$. |\n",
       "|<p style=\"color:green\"> **ERROR** </p>| <p style=\"color:green\">affiliation error: mpia.affiliation_verifications: 'Heidelberg' keyword not found.</p> |"
      ],
      "text/plain": [
       "<IPython.core.display.Markdown object>"
      ]
     },
     "metadata": {},
     "output_type": "display_data"
    },
    {
     "data": {
      "text/markdown": [
       "\n",
       "|||\n",
       "|---:|:---|\n",
       "| [![arXiv](https://img.shields.io/badge/arXiv-arXiv:2302.10936-b31b1b.svg)](https://arxiv.org/abs/arXiv:2302.10936) | **An Atlas of Color-selected Quiescent Galaxies at $z>3$ in Public $JWST$  Fields**  |\n",
       "|| Francesco Valentino, et al. -- incl., <mark>Katriona M. L. Gould</mark>, <mark>Minju Lee</mark> |\n",
       "|*Appeared on*| *2023-02-23*|\n",
       "|*Comments*| *15 pages, 6 Figures + Appendix. Accepted for publication in ApJ on Feb, 9. Data release: - Reduced HST+JWST mosaics + photometric catalogs and Eazy-py modeling: this https URL - Supplementary material and tables: this https URL - MAST: this https URL - See also Gould et al. 2023*|\n",
       "|**Abstract**| We present the results of a systematic search for candidate quiescent galaxies in the distant Universe in eleven $JWST$ fields with publicly available observations collected during the first three months of operations and covering an effective sky area of $\\sim145$ arcmin$^2$. We homogeneously reduce the new $JWST$ data and combine them with existing observations from the $Hubble\\,Space\\,Telescope$. We select a robust sample of $\\sim80$ candidate quiescent and quenching galaxies at $3 < z < 5$ using two methods: (1) based on their rest-frame $UVJ$ colors, and (2) a novel quantitative approach based on Gaussian Mixture Modeling of the $NUV-U$, $U-V$, and $V-J$ rest-frame color space, which is more sensitive to recently quenched objects. We measure comoving number densities of massive ($M_\\star\\geq 10^{10.6} M_\\odot$) quiescent galaxies consistent with previous estimates relying on ground-based observations, after homogenizing the results in the literature with our mass and redshift intervals. However, we find significant field-to-field variations of the number densities up to a factor of $2-3$, highlighting the effect of cosmic variance and suggesting the presence of overdensities of red quiescent galaxies at $z>3$, as it could be expected for highly clustered massive systems. Importantly, $JWST$ enables the robust identification of quenching/quiescent galaxy candidates at lower masses and higher redshifts than before, challenging standard formation scenarios. All data products, including the literature compilation, are made publicly available. |\n",
       "|<p style=\"color:green\"> **ERROR** </p>| <p style=\"color:green\">affiliation error: mpia.affiliation_verifications: 'Heidelberg' keyword not found.</p> |"
      ],
      "text/plain": [
       "<IPython.core.display.Markdown object>"
      ]
     },
     "metadata": {},
     "output_type": "display_data"
    },
    {
     "data": {
      "text/markdown": [
       "\n",
       "|||\n",
       "|---:|:---|\n",
       "| [![arXiv](https://img.shields.io/badge/arXiv-arXiv:2302.10956-b31b1b.svg)](https://arxiv.org/abs/arXiv:2302.10956) | **A Search for OH 18-cm Emission from Intermediate-Velocity Gas at High  Galactic Latitudes**  |\n",
       "|| <mark>Allison Smith</mark>, D. Anish Roshi |\n",
       "|*Appeared on*| *2023-02-23*|\n",
       "|*Comments*| **|\n",
       "|**Abstract**| We present search results of 22 high latitude (b > 25 deg.) sightlines for OH 18-cm emission using the 305-m radio telescope at the Arecibo Observatory. These sightlines appear in neutral hydrogen emission at intermediate velocities (V_lsr values ranging from -90 to -20 km/s) and are predicted to have a sufficient molecular composition so as to be detectable in molecular emission. Such objects, known as Intermediate-Velocity Molecular Clouds (IVMCs), have historically been detected through 12CO emission. Recent studies indicate that IVMCs may be widespread in the Galaxy and have important implications for models of the interstellar medium and star formation. However, we report non-detections of OH emission toward the 22 sightlines and provide stringent upper limits on the OH column density. Using available HI and Av data in combination with existing state-of-the-art PDR models, we estimate H2 column densities and find that they are more than an order of magnitude lower than the predicted values. We also find that the hydrogen volume density of these clouds is less than roughly 25 per cubic centimeter. In addition, we discuss the known IVMCs with previous 12CO detections in the context of the PDR models. Our analysis of these clouds indicates that the structure of molecular material in IVMCs is morphologically clumpy. These results motivate the need for future sensitive, on-the-fly searches (rather than targeted searches) for CO emission from IVMCs with of order roughly 1' resolution. High angular resolution (1') HI and Av data will also be helpful to better constrain the structure and composition of IVMCs. |\n",
       "|<p style=\"color:green\"> **ERROR** </p>| <p style=\"color:green\">affiliation error: mpia.affiliation_verifications: 'Heidelberg' keyword not found.</p> |"
      ],
      "text/plain": [
       "<IPython.core.display.Markdown object>"
      ]
     },
     "metadata": {},
     "output_type": "display_data"
    },
    {
     "data": {
      "text/markdown": [
       "\n",
       "|||\n",
       "|---:|:---|\n",
       "| [![arXiv](https://img.shields.io/badge/arXiv-arXiv:2302.11025-b31b1b.svg)](https://arxiv.org/abs/arXiv:2302.11025) | **Asteroseismology of $δ$ Scuti stars: emulating model grids using a  neural network**  |\n",
       "|| Owen J. Scutt, et al. -- incl., <mark>Guy R. Davies</mark> |\n",
       "|*Appeared on*| *2023-02-23*|\n",
       "|*Comments*| *9 pages, 9 figures, submitted to Monthly Notices of the Royal Astronomical Society 17/02/2023*|\n",
       "|**Abstract**| Young $\\delta$ Scuti stars have proven to be valuable asteroseismic targets but obtaining robust uncertainties on their inferred properties is challenging. We aim to quantify the random uncertainties in grid-based modelling of $\\delta$ Sct stars. We apply Bayesian inference using nested sampling and a neural network emulator of stellar models, testing our method on both simulated and real stars. Based on results from simulated stars we demonstrate that our method can recover plausible posterior probability density estimates while accounting for both the random uncertainty from the observations and neural network emulation. We find that the posterior distributions of the fundamental parameters can be significantly non-Gaussian, multi-modal, and have strong covariance. We conclude that our method reliably estimates the random uncertainty in the modelling of $\\delta$ Sct stars and paves the way for the investigation and quantification of the systematic uncertainty. |\n",
       "|<p style=\"color:green\"> **ERROR** </p>| <p style=\"color:green\">affiliation error: mpia.affiliation_verifications: 'Heidelberg' keyword not found.</p> |"
      ],
      "text/plain": [
       "<IPython.core.display.Markdown object>"
      ]
     },
     "metadata": {},
     "output_type": "display_data"
    },
    {
     "data": {
      "text/markdown": [
       "\n",
       "|||\n",
       "|---:|:---|\n",
       "| [![arXiv](https://img.shields.io/badge/arXiv-arXiv:2302.11111-b31b1b.svg)](https://arxiv.org/abs/arXiv:2302.11111) | **Implication of GRB 221009A: Can TeV Emission Come from the GRB Prompt  Phase?**  |\n",
       "|| Kai Wang, et al. -- incl., <mark>Zhuo Li</mark> |\n",
       "|*Appeared on*| *2023-02-23*|\n",
       "|*Comments*| *9 pages, 5 figures, 3 tables, submitted*|\n",
       "|**Abstract**| Recently, the B.O.A.T. (\"brightest of all time\") gamma-ray burst, dubbed GRB 221009A, was detected by various instruments. Unprecedentedly, the GRB presented very-high-energy (VHE, energy above 0.1 TeV) gamma-ray emission with energy extending above 10 TeV, as reported by the Large High Altitude Air Shower Observatory (LHAASO). We here demonstrate that the VHE and especially >10 TeV emission may originate from the internal hadronic dissipation of the GRB, without the need of invoking any exotic processes as suggested by some previous studies. We also discuss the constraints on the properties of the GRB ejecta from multiwavelength and multi-messenger observations, which favors a magnetically dominated GRB ejecta. The suggested Poynting-flux-dominated GRB ejecta in this work supports the Blandford & Znajek (BZ) mechanism as the possible central engine model of GRB. |\n",
       "|<p style=\"color:green\"> **ERROR** </p>| <p style=\"color:green\">affiliation error: mpia.affiliation_verifications: 'Heidelberg' keyword not found.</p> |"
      ],
      "text/plain": [
       "<IPython.core.display.Markdown object>"
      ]
     },
     "metadata": {},
     "output_type": "display_data"
    },
    {
     "data": {
      "text/markdown": [
       "\n",
       "|||\n",
       "|---:|:---|\n",
       "| [![arXiv](https://img.shields.io/badge/arXiv-arXiv:2302.11116-b31b1b.svg)](https://arxiv.org/abs/arXiv:2302.11116) | **GNOMES II: Analysis of the Galactic diffuse molecular ISM in all four  ground state hydroxyl transitions using Amoeba**  |\n",
       "|| Anita Petzler, et al. -- incl., <mark>M. -Y. Lee</mark> |\n",
       "|*Appeared on*| *2023-02-23*|\n",
       "|*Comments*| *Accepted for publication to PASA. 41 pages, 27 figures*|\n",
       "|**Abstract**| We present observations of the four 2 Pi 3/2 J = 3/2 ground-rotational state transitions of the hydroxyl molecule (OH) along 107 lines of sight both in and out of the Galactic plane: 92 sets of observations from the Arecibo telescope and 15 sets of observations from the Australia Telescope Compact Array (ATCA). Our Arecibo observations included off-source pointings, allowing us to measure excitation temperature (Tex) and optical depth, while our ATCA observations give optical depth only. We perform Gaussian decomposition using the Automated Molecular Excitation Bayesian line-fitting Algorithm 'AMOEBA' (Petzler, Dawson, and Wardle 2021) fitting all four transitions simultaneously with shared centroid velocity and width. We identify 109 features across 38 sightlines (including 58 detections along 27 sightlines with excitation temperature measurements). While the main lines at 1665 and 1667 MHz tend to have similar excitation temperatures (median Tex(main) difference = 0.6 K, 84% show Tex(main) difference < 2 K), large differences in the 1612 and 1720 MHz satellite line excitation temperatures show that the gas is generally not in LTE. For a selection of sightlines we compare our OH features to associated (on-sky and in velocity) HI cold gas components (CNM) identified by Nguyen et al. (2019) and find no strong correlations. We speculate that this may indicate an effective decoupling of the molecular gas from the CNM once it accumulates. |\n",
       "|<p style=\"color:green\"> **ERROR** </p>| <p style=\"color:green\">affiliation error: mpia.affiliation_verifications: 'Heidelberg' keyword not found.</p> |"
      ],
      "text/plain": [
       "<IPython.core.display.Markdown object>"
      ]
     },
     "metadata": {},
     "output_type": "display_data"
    },
    {
     "data": {
      "text/markdown": [
       "\n",
       "|||\n",
       "|---:|:---|\n",
       "| [![arXiv](https://img.shields.io/badge/arXiv-arXiv:2302.11166-b31b1b.svg)](https://arxiv.org/abs/arXiv:2302.11166) | **Characterizing the Conditional Galaxy Property Distribution using  Gaussian Mixture Models**  |\n",
       "|| <mark>Yucheng Zhang</mark>, et al. -- incl., <mark>Yin Li</mark> |\n",
       "|*Appeared on*| *2023-02-23*|\n",
       "|*Comments*| *17 pages, 10 figures*|\n",
       "|**Abstract**| Line-intensity mapping (LIM) is a promising technique to constrain the global distribution of galaxy properties. To combine LIM experiments probing different tracers with traditional galaxy surveys and fully exploit the scientific potential of these observations, it is necessary to have a physically motivated modeling framework. As part of developing such a framework, in this work we introduce and model the conditional galaxy property distribution (CGPD), i.e. the distribution of galaxy properties conditioned on the host halo mass and redshift. We consider five galaxy properties, including the galaxy stellar mass, molecular gas mass, galaxy radius, gas phase metallicity and star formation rate (SFR), which are important for predicting the emission lines of interest. The CGPD represents the full distribution of galaxies in the five dimensional property space; many important galaxy distribution functions and scaling relations, such as the stellar mass function and SFR main sequence, can be derived from integrating and projecting it. We utilize two different kinds of cosmological galaxy simulations, a semi-analytic model and the IllustrisTNG hydrodynamic simulation, to characterize the CGPD and explore how well it can be represented using a Gaussian mixture model (GMM). We find that with just a few ($\\sim 3$) Gaussian components, a GMM can describe the CGPD of the simulated galaxies to high accuracy for both simulations. The CGPD can be mapped to LIM or other observables by constructing the appropriate relationship between galaxy properties and the relevant observable tracers. |\n",
       "|<p style=\"color:green\"> **ERROR** </p>| <p style=\"color:green\">affiliation error: mpia.affiliation_verifications: 'Heidelberg' keyword not found.</p> |"
      ],
      "text/plain": [
       "<IPython.core.display.Markdown object>"
      ]
     },
     "metadata": {},
     "output_type": "display_data"
    },
    {
     "data": {
      "text/markdown": [
       "\n",
       "|||\n",
       "|---:|:---|\n",
       "| [![arXiv](https://img.shields.io/badge/arXiv-arXiv:2302.11198-b31b1b.svg)](https://arxiv.org/abs/arXiv:2302.11198) | **Estimating Stellar Parameters and Identifying Very Metal-poor Stars  Using Convolutional Neural Networks for Low-resolution Spectra (R~200)**  |\n",
       "|| Tianmin Wu, et al. -- incl., <mark>Jianhang Xie</mark> |\n",
       "|*Appeared on*| *2023-02-23*|\n",
       "|*Comments*| *13 pages, 9 figures*|\n",
       "|**Abstract**| Very metal-poor (VMP, [Fe/H]<-2.0) stars offer a wealth of information on the nature and evolution of elemental production in the early galaxy and universe. The upcoming China Space Station Telescope (CSST) will provide us with a large amount of spectroscopic data that may contain plenty of VMP stars, and thus it is crucial to determine the stellar atmospheric parameters ($T_{eff}$, $\\log g$, and [Fe/H]) for low-resolution spectra similar to the CSST spectra (R~200). In this paper, a two-dimensional Convolutional Neural Network (CNN) model with three convolutional layers and two fully connected layers is constructed. The principal aim of this work is to measure the ability of this model to estimate stellar parameters on low-resolution (R~200) spectra and to identify VMP stars so that we can better search for VMP stars in the spectra observed by CSST.We mainly use 10,008 observed spectra of VMP stars from LAMOST DR3, and 16,638 spectra of common stars ([Fe/H]>-2.0) from LAMOST DR8 for the experiment and make comparisons. All spectra are reduced to R~200 to match the resolution of the CSST and are preprocessed and collapsed into two-dimensional spectra for input to the CNN model. The results show that the MAE values are 99.40 K for $T_{eff}$, 0.22 dex for $\\log g$, 0.14 dex for [Fe/H], and 0.26 dex for [C/Fe], respectively. Besides, the CNN model efficiently identifies VMP stars with a precision of 94.77%. The validation and practicality of this model are also tested on the MARCS synthetic spectra. This paper powerfully demonstrates the effectiveness of the proposed CNN model in estimating stellar parameters for low-resolution spectra (R~200) and recognizing VMP stars that are of interest for stellar population and galactic evolution work. |\n",
       "|<p style=\"color:green\"> **ERROR** </p>| <p style=\"color:green\">affiliation error: mpia.affiliation_verifications: 'Heidelberg' keyword not found.</p> |"
      ],
      "text/plain": [
       "<IPython.core.display.Markdown object>"
      ]
     },
     "metadata": {},
     "output_type": "display_data"
    },
    {
     "data": {
      "text/markdown": [
       "\n",
       "|||\n",
       "|---:|:---|\n",
       "| [![arXiv](https://img.shields.io/badge/arXiv-arXiv:2302.11243-b31b1b.svg)](https://arxiv.org/abs/arXiv:2302.11243) | **Magnetic Inclination Evolution of Accreting Neutron Stars in  Intermediate/Low-Mass X-ray Binaries**  |\n",
       "|| Hao-Ran Yang, <mark>Xiang-Dong Li</mark> |\n",
       "|*Appeared on*| *2023-02-23*|\n",
       "|*Comments*| *12 pages, 7 figures, accepted for publication in ApJ*|\n",
       "|**Abstract**| The magnetic inclination angle $\\chi$, namely the angle between the spin and magnetic axes of a neutron star (NS), plays a vital role in its observational characteristics. However, there are few systematic investigations on its long-term evolution, especially for accreting NSs in binary systems. Applying the model of \\citet{2021MNRAS.505.1775B} and the binary evolution code \\mesa{}, we simultaneously simulate the evolution of the accretion rate, spin period, magnetic field, and magnetic inclination angle of accreting NSs in intermediate/low X-ray binaries (I/LMXBs). We show that the evolution of $\\chi$ depends not only on the initial parameters of the binary systems, but also on the mass transfer history and the efficiency of pulsar loss. Based on the calculated results we present the characteristic distribution of $\\chi$ for various types of systems including ultracompact X-ray binaries, binary millisecond pulsars, and ultraluminous X-ray sources, and discuss their possible observational implications. |\n",
       "|<p style=\"color:green\"> **ERROR** </p>| <p style=\"color:green\">affiliation error: mpia.affiliation_verifications: 'Heidelberg' keyword not found.</p> |"
      ],
      "text/plain": [
       "<IPython.core.display.Markdown object>"
      ]
     },
     "metadata": {},
     "output_type": "display_data"
    },
    {
     "data": {
      "text/markdown": [
       "\n",
       "|||\n",
       "|---:|:---|\n",
       "| [![arXiv](https://img.shields.io/badge/arXiv-arXiv:2302.11276-b31b1b.svg)](https://arxiv.org/abs/arXiv:2302.11276) | **Curvature of the spectral energy distribution, Compton dominance and  synchrotron peak frequency in jetted AGNs**  |\n",
       "|| Chen Yongyun, et al. -- incl., <mark>Guo Xiaotong</mark> |\n",
       "|*Appeared on*| *2023-02-23*|\n",
       "|*Comments*| *14 pages, 7 figures, accept for publication in ApJ. arXiv admin note: text overlap with arXiv:2202.07490 by other authors*|\n",
       "|**Abstract**| We collect a large sample with a reliable redshift detected by the Fermi satellite after 10 years of data (4FGL-DR2), including blazars, $\\gamma$-ray Narrow-line Seyfert 1 galaxies ($\\gamma$NLS1s), and radio galaxies. The spectral energy distributions (SEDs) of these Fermi sources are fitted by using a second-degree polynomial, and some important parameters including spectral curvature, synchrotron peak frequency, and peak luminosity are obtained. Based on those parameters, we discuss the Fermi blazar sequence and the particle acceleration mechanism. Our main results are as follows:(i) By studying the relationship between the synchrotron peak frequency and the synchrotron peak frequency luminosity, jet kinetic power, and $\\gamma$-ray luminosity for jetted AGNs, we find an ``L'' shape in the Fermi blazar sequence. (ii) There is a significant anti-correlation between Compton dominance, black hole spin, and the synchrotron peak frequency for jetted AGNs, respectively. These results support that the $\\gamma$NLS1s and radio galaxies belong to the Fermi blazar sequence. (iii) On the basis of previous work, statistical or stochastic acceleration mechanisms can be used to explain the relationship between synchrotron peak frequency and synchrotron curvature. For different subclasses, the correlation slopes are different, which implies that the Fermi sources of different subclasses have different acceleration mechanisms. (iv) The FSRQs and $\\gamma$NLS1s have a higher median spin of a black hole than BL Lacs and radio galaxies. |\n",
       "|<p style=\"color:green\"> **ERROR** </p>| <p style=\"color:green\">affiliation error: mpia.affiliation_verifications: 'Heidelberg' keyword not found.</p> |"
      ],
      "text/plain": [
       "<IPython.core.display.Markdown object>"
      ]
     },
     "metadata": {},
     "output_type": "display_data"
    },
    {
     "data": {
      "text/markdown": [
       "\n",
       "|||\n",
       "|---:|:---|\n",
       "| [![arXiv](https://img.shields.io/badge/arXiv-arXiv:2302.11324-b31b1b.svg)](https://arxiv.org/abs/arXiv:2302.11324) | **The AGNIFS survey: spatially resolved observations of hot molecular and  ionised outflows in nearby active galaxies**  |\n",
       "|| R. A. Riffel, et al. -- incl., <mark>R. I. Davies</mark>, <mark>T. C. Fischer</mark> |\n",
       "|*Appeared on*| *2023-02-23*|\n",
       "|*Comments*| *37 pages, accepted for publication in MNRAS*|\n",
       "|**Abstract**| We present the hot molecular and warm ionised gas kinematics for 33 nearby ($0.001\\lesssim z\\lesssim0.056$) X-ray selected active galaxies using the H$_2 2.1218 \\mu$m and Br$\\gamma$ emission lines observed in the K-band with the Gemini Near-Infrared Field Spectrograph (NIFS). The observations cover the inner 0.04$-$2 kpc of each AGN at spatial resolutions of 4$-$250 pc with a velocity resolution of $\\sigma_{\\rm inst}\\approx$20 ${\\rm km s^{-1}}$. We find that 31 objects (94 per cent) present a kinematically disturbed region (KDR) seen in ionised gas, while such regions are observed in hot molecular gas for 25 galaxies (76 per cent). We interpret the KDR as being due to outflows with masses of 10$^2-$10$^7$ M$_\\odot$ and 10$^0-$10$^4$ M$_\\odot$ for the ionised and hot molecular gas, respectively. The ranges of mass-outflow rates ($\\dot{M}_{\\rm out}$) and kinetic power ($\\dot{E}_{\\rm K}$) of the outflows are 10$^{-3}-$10$^{1}$ M$_\\odot$yr$^{-1}$ and $\\sim$10$^{37}$$-$10$^{43}$ erg s$^{-1}$ for the ionised gas outflows, and 10$^{-5}$$-$10$^{-2}$ M$_\\odot$ yr$^{-1}$ and 10$^{35}$$-$10$^{39}$ erg s$^{-1}$ for the hot molecular gas outflows. The median coupling efficiency in our sample is $\\dot{E}_{K}/L_{\\rm bol}\\approx1.8\\times10^{-3}$ and the estimated momentum fluxes of the outflows suggest they are produced by radiation-pressure in low-density environment, with possible contribution from shocks. |\n",
       "|<p style=\"color:green\"> **ERROR** </p>| <p style=\"color:green\">affiliation error: mpia.affiliation_verifications: 'Heidelberg' keyword not found.</p> |"
      ],
      "text/plain": [
       "<IPython.core.display.Markdown object>"
      ]
     },
     "metadata": {},
     "output_type": "display_data"
    },
    {
     "data": {
      "text/markdown": [
       "\n",
       "|||\n",
       "|---:|:---|\n",
       "| [![arXiv](https://img.shields.io/badge/arXiv-arXiv:2302.11392-b31b1b.svg)](https://arxiv.org/abs/arXiv:2302.11392) | **Photometric follow-up of 43 new eclipsing white dwarf plus main-sequence  binaries from the ZTF survey**  |\n",
       "|| <mark>Alex J. Brown</mark>, et al. -- incl., <mark>Matthew J. Green</mark> |\n",
       "|*Appeared on*| *2023-02-23*|\n",
       "|*Comments*| *12 pages with a 5 page appendix and 14 figures. Accepted for publication in MNRAS*|\n",
       "|**Abstract**| Wide-field time-domain photometric sky surveys are now finding hundreds of eclipsing white dwarf plus M dwarf binaries, a population encompassing a wealth of information and potential insight into white dwarf and close binary astrophysics. Precise follow-up observations are essential in order to fully constrain these systems and capitalise on the power of this sample. We present the first results from our program of high-speed, multi-band photometric follow-up. We develop a method to measure temperatures, (model-dependent) masses, and radii for both components from the eclipse photometry alone and characterize 34 white dwarf binaries, finding general agreement with independent estimates using an alternative approach while achieving around a factor of two increase in parameter precision. In addition to these parameter estimates, we discover a number of interesting systems -- finding four with sub-stellar secondaries, doubling the number of eclipsing examples, and at least six where we find the white dwarf to be strongly magnetic, making these the first eclipsing examples of such systems and key to investigating the mechanism of magnetic field generation in white dwarfs. We also discover the first two pulsating white dwarfs in detached and eclipsing post-common-envelope binaries -- one with a low-mass, likely helium core, and one with a relatively high mass, towards the upper end of the known sample of ZZ Cetis. Our results demonstrate the power of eclipse photometry, not only as a method of characterising the population, but as a way of discovering important systems that would have otherwise been missed by spectroscopic follow-up. |\n",
       "|<p style=\"color:green\"> **ERROR** </p>| <p style=\"color:green\">affiliation error: mpia.affiliation_verifications: 'Heidelberg' keyword not found.</p> |"
      ],
      "text/plain": [
       "<IPython.core.display.Markdown object>"
      ]
     },
     "metadata": {},
     "output_type": "display_data"
    },
    {
     "data": {
      "text/markdown": [
       "\n",
       "|||\n",
       "|---:|:---|\n",
       "| [![arXiv](https://img.shields.io/badge/arXiv-arXiv:2302.11397-b31b1b.svg)](https://arxiv.org/abs/arXiv:2302.11397) | **Measurement of telescope transmission using a Collimated Beam Projector**  |\n",
       "|| Nicholas Mondrik, et al. -- incl., <mark>Joseph P. Rice</mark> |\n",
       "|*Appeared on*| *2023-02-23*|\n",
       "|*Comments*| **|\n",
       "|**Abstract**| With the increasingly large number of type Ia supernova being detected by current-generation survey telescopes, and even more expected with the upcoming Rubin Observatory Legacy Survey of Space and Time, the precision of cosmological measurements will become limited by systematic uncertainties in flux calibration rather than statistical noise. One major source of systematic error in determining SNe Ia color evolution (needed for distance estimation) is uncertainty in telescope transmission, both within and between surveys. We introduce here the Collimated Beam Projector (CBP), which is meant to measure a telescope transmission with collimated light. The collimated beam more closely mimics a stellar wavefront as compared to flat-field based instruments, allowing for more precise handling of systematic errors such as those from ghosting and filter angle-of-incidence dependence. As a proof of concept, we present CBP measurements of the StarDICE prototype telescope, achieving a standard (1 sigma) uncertainty of 3 % on average over the full wavelength range measured with a single beam illumination. |\n",
       "|<p style=\"color:green\"> **ERROR** </p>| <p style=\"color:green\">affiliation error: mpia.affiliation_verifications: 'Heidelberg' keyword not found.</p> |"
      ],
      "text/plain": [
       "<IPython.core.display.Markdown object>"
      ]
     },
     "metadata": {},
     "output_type": "display_data"
    },
    {
     "data": {
      "text/markdown": [
       "\n",
       "|||\n",
       "|---:|:---|\n",
       "| [![arXiv](https://img.shields.io/badge/arXiv-arXiv:2302.11020-b31b1b.svg)](https://arxiv.org/abs/arXiv:2302.11020) | **Comparisons of the core and mantle compositions of earth analogs from  different terrestrial planet formation scenarios**  |\n",
       "|| Jesse T. Gu, et al. -- incl., <mark>Rebecca A. Fischer</mark> |\n",
       "|*Appeared on*| *2023-02-23*|\n",
       "|*Comments*| **|\n",
       "|**Abstract**| The chemical compositions of Earth's core and mantle provide insight into the processes that led to their formation. N-body simulations, on the other hand, generally do not contain chemical information, and seek to only reproduce the masses and orbits of the terrestrial planets. These simulations can be grouped into four potentially viable scenarios of Solar System formation (Classical, Annulus, Grand Tack, and Early Instability) for which we compile a total of 433 N-body simulations. We relate the outputs of these simulations to the chemistry of Earth's core and mantle using a melt-scaling law combined with a multi-stage model of core formation. We find the compositions of Earth analogs to be largely governed by the fraction of equilibrating embryo cores and the initial embryo masses in N-body simulations. Simulation type may be important when considering magma ocean lifetimes, where Grand Tack simulations have the largest amounts of material accreted after the last giant impact. However, we cannot rule out any accretion scenarios or initial embryo masses due to the sensitivity of Earth's mantle composition to different parameters and the stochastic nature of N-body simulations. Comparing the last embryo impacts experienced by Earth analogs to specific Moon-forming scenarios, we find the characteristics of the Moon-forming impact are dependent on the initial conditions in N-body simulations where larger initial embryo masses promote larger and slower Moon-forming impactors. Mars-sized initial embryos are most consistent with the canonical hit-and-run scenario onto a solid mantle. Our results suggest that constraining the fraction of equilibrating impactor core and the initial embryo masses in N-body simulations could be significant for understanding both Earth's accretion history and characteristics of the Moon-forming impact. |\n",
       "|<p style=\"color:red\"> **ERROR** </p>| <p style=\"color:red\">latex error not a gzip file</p> |"
      ],
      "text/plain": [
       "<IPython.core.display.Markdown object>"
      ]
     },
     "metadata": {},
     "output_type": "display_data"
    },
    {
     "data": {
      "text/markdown": [
       "\n",
       "|||\n",
       "|---:|:---|\n",
       "| [![arXiv](https://img.shields.io/badge/arXiv-arXiv:2302.11549-b31b1b.svg)](https://arxiv.org/abs/arXiv:2302.11549) | **Quasi-periodic pulsations in solar flares: a key diagnostic of energy  release on the Sun**  |\n",
       "|| Andrew Inglis, et al. -- incl., <mark>Bo Li</mark> |\n",
       "|*Appeared on*| *2023-02-23*|\n",
       "|*Comments*| *White paper submitted to the Decadal Survey for Solar and Space Physics (Heliophysics) 2024-2033. 8 pages, 3 figures, 1 table*|\n",
       "|**Abstract**| Solar flares are among the most powerful and disruptive events in our solar system, however the physical mechanisms driving and transporting this energetic release are not fully understood. An important signature associated with flare energy release is highly variable emission on timescales of sub-seconds to minutes which often exhibit oscillatory behaviour, features collectively known as quasi-periodic pulsations (QPPs). To fully identify the driving mechanism of QPPs, exploit their potential as a diagnostic tool, and incorporate them into our understanding of solar and stellar flares, new observational capabilities and initiatives are required. There is a clear community need for flare-focused, rapid cadence, high resolution, multi-wavelength imaging of the Sun, with high enough sensitivity and dynamic range to observe small fluctuations in intensity in the presence of a large overall intensity. Furthermore, multidisciplinary funding and initiatives are required to narrow the gap between numerical models and observations. QPPs are direct signatures of the physics occurring in flare magnetic reconnection and energy release sites and hence are critical to include in a unified flare model. Despite significant modelling and theoretical work, no single mechanism or model can fully explain the presence of QPPs in flares. Moreover, it is also likely that QPPs fall into different categories that are produced by different mechanisms. At present we have insufficient information to observationally distinguish between mechanisms. The motivation to understand QPPs is strengthened by the geo-effectiveness of flares on the Earth's ionosphere, and by the fact that stellar flares exhibit similar QPP signatures. QPPs present a golden opportunity to better understand flare physics and exploit the solar-stellary analogy, benefiting both astrophysics, heliophysics, and the solar-terrestrial connection. |\n",
       "|<p style=\"color:red\"> **ERROR** </p>| <p style=\"color:red\">latex error not a gzip file</p> |"
      ],
      "text/plain": [
       "<IPython.core.display.Markdown object>"
      ]
     },
     "metadata": {},
     "output_type": "display_data"
    }
   ],
   "source": [
    "import datetime\n",
    "today = str(datetime.date.today())\n",
    "logfile = f\"_build/html/logs/log-{today}.md\"\n",
    "\n",
    "\n",
    "with open(logfile, 'w') as logs:\n",
    "    # Success\n",
    "    logs.write(f'# Arxiv on Deck 2: Logs - {today}\\n\\n')\n",
    "    logs.write(\"\"\"* Arxiv had {0:,d} new papers\\n\"\"\".format(len(new_papers)))\n",
    "    logs.write(\"\"\"    * {0:,d} with possible author matches\\n\\n\"\"\".format(len(candidates)))\n",
    "    logs.write(\"## Sucessful papers\\n\\n\")\n",
    "    display(Markdown(\"## Successful papers\"))\n",
    "    success = [k[0] for k in documents]\n",
    "    for candid in candidates:\n",
    "        if candid['identifier'].split(':')[-1] in success:\n",
    "            display(candid)\n",
    "            logs.write(candid.generate_markdown_text() + '\\n\\n')\n",
    "\n",
    "    ## failed\n",
    "    logs.write(\"## Failed papers\\n\\n\")\n",
    "    display(Markdown(\"## Failed papers\"))\n",
    "    failed = sorted(failed, key=lambda x: x[1])\n",
    "    current_reason = \"\"\n",
    "    for paper, reason in failed:\n",
    "        if 'affiliation' in reason:\n",
    "            color = 'green'\n",
    "        else:\n",
    "            color = 'red'\n",
    "        data = Markdown(\n",
    "                paper.generate_markdown_text() + \n",
    "                f'\\n|<p style=\"color:{color:s}\"> **ERROR** </p>| <p style=\"color:{color:s}\">{reason:s}</p> |'\n",
    "               )\n",
    "        if reason != current_reason:\n",
    "            logs.write(f'### {reason:s} \\n\\n')\n",
    "            current_reason = reason\n",
    "        logs.write(data.data + '\\n\\n')\n",
    "        \n",
    "        # only display here the important errors (all in logs)\n",
    "        # if color in ('red',):\n",
    "        display(data)"
   ]
  },
  {
   "cell_type": "markdown",
   "id": "472d20ee",
   "metadata": {
    "papermill": {
     "duration": 0.008534,
     "end_time": "2023-02-23T04:10:00.821185",
     "exception": false,
     "start_time": "2023-02-23T04:10:00.812651",
     "status": "completed"
    },
    "tags": []
   },
   "source": [
    "## Export documents\n",
    "\n",
    "We now write the .md files and export relevant images"
   ]
  },
  {
   "cell_type": "code",
   "execution_count": 7,
   "id": "d426aed9",
   "metadata": {
    "execution": {
     "iopub.execute_input": "2023-02-23T04:10:00.840556Z",
     "iopub.status.busy": "2023-02-23T04:10:00.839745Z",
     "iopub.status.idle": "2023-02-23T04:10:00.849377Z",
     "shell.execute_reply": "2023-02-23T04:10:00.848752Z"
    },
    "papermill": {
     "duration": 0.020943,
     "end_time": "2023-02-23T04:10:00.850924",
     "exception": false,
     "start_time": "2023-02-23T04:10:00.829981",
     "status": "completed"
    },
    "tags": []
   },
   "outputs": [],
   "source": [
    "def export_markdown_summary(md: str, md_fname:str, directory: str):\n",
    "    \"\"\"Export MD document and associated relevant images\"\"\"\n",
    "    import os\n",
    "    import shutil\n",
    "    import re\n",
    "\n",
    "    if (os.path.exists(directory) and not os.path.isdir(directory)):\n",
    "        raise RuntimeError(f\"a non-directory file exists with name {directory:s}\")\n",
    "\n",
    "    if (not os.path.exists(directory)):\n",
    "        print(f\"creating directory {directory:s}\")\n",
    "        os.mkdir(directory)\n",
    "\n",
    "    fig_fnames = (re.compile(r'\\[Fig.*\\]\\((.*)\\)').findall(md) + \n",
    "                  re.compile(r'\\<img src=\"([^>\\s]*)\"[^>]*/>').findall(md))\n",
    "    for fname in fig_fnames:\n",
    "        if 'http' in fname:\n",
    "            # No need to copy online figures\n",
    "            continue\n",
    "        destdir = os.path.join(directory, os.path.dirname(fname))\n",
    "        destfname = os.path.join(destdir, os.path.basename(fname))\n",
    "        try:\n",
    "            os.makedirs(destdir)\n",
    "        except FileExistsError:\n",
    "            pass\n",
    "        shutil.copy(fname, destfname)\n",
    "    with open(os.path.join(directory, md_fname), 'w') as fout:\n",
    "        fout.write(md)\n",
    "    print(\"exported in \", os.path.join(directory, md_fname))\n",
    "    [print(\"    + \" + os.path.join(directory,fk)) for fk in fig_fnames]"
   ]
  },
  {
   "cell_type": "code",
   "execution_count": 8,
   "id": "014d04a4",
   "metadata": {
    "execution": {
     "iopub.execute_input": "2023-02-23T04:10:00.869710Z",
     "iopub.status.busy": "2023-02-23T04:10:00.869192Z",
     "iopub.status.idle": "2023-02-23T04:10:00.875276Z",
     "shell.execute_reply": "2023-02-23T04:10:00.874622Z"
    },
    "papermill": {
     "duration": 0.017158,
     "end_time": "2023-02-23T04:10:00.876720",
     "exception": false,
     "start_time": "2023-02-23T04:10:00.859562",
     "status": "completed"
    },
    "tags": []
   },
   "outputs": [
    {
     "name": "stdout",
     "output_type": "stream",
     "text": [
      "exported in  _build/html/2302.10943.md\n",
      "    + _build/html/tmp_2302.10943/./figs_BCGs/formation_history_Mstar_with-inrad_median2_1e14.png\n",
      "    + _build/html/tmp_2302.10943/./figs_BCGs/history_SFR-sSFR_vs_z_median_observation_v3.png\n",
      "    + _build/html/tmp_2302.10943/./figs_BCGs/history_SFR-sSFR_median-v4-AllAperturesFixed_simulation_lower_lim.png\n"
     ]
    }
   ],
   "source": [
    "for paper_id, md in documents:\n",
    "    export_markdown_summary(md, f\"{paper_id:s}.md\", '_build/html/')"
   ]
  },
  {
   "cell_type": "markdown",
   "id": "f087a0a7",
   "metadata": {
    "papermill": {
     "duration": 0.008636,
     "end_time": "2023-02-23T04:10:00.894089",
     "exception": false,
     "start_time": "2023-02-23T04:10:00.885453",
     "status": "completed"
    },
    "tags": []
   },
   "source": [
    "## Display the papers\n",
    "\n",
    "Not necessary but allows for a quick check."
   ]
  },
  {
   "cell_type": "code",
   "execution_count": 9,
   "id": "fd25f625",
   "metadata": {
    "execution": {
     "iopub.execute_input": "2023-02-23T04:10:00.913086Z",
     "iopub.status.busy": "2023-02-23T04:10:00.912530Z",
     "iopub.status.idle": "2023-02-23T04:10:00.917989Z",
     "shell.execute_reply": "2023-02-23T04:10:00.917317Z"
    },
    "papermill": {
     "duration": 0.016733,
     "end_time": "2023-02-23T04:10:00.919481",
     "exception": false,
     "start_time": "2023-02-23T04:10:00.902748",
     "status": "completed"
    },
    "scrolled": false,
    "tags": []
   },
   "outputs": [
    {
     "data": {
      "text/markdown": [
       "<div class=\"macros\" style=\"visibility:hidden;\">\n",
       "$\\newcommand{\\ensuremath}{}$\n",
       "$\\newcommand{\\xspace}{}$\n",
       "$\\newcommand{\\object}[1]{\\texttt{#1}}$\n",
       "$\\newcommand{\\farcs}{{.}''}$\n",
       "$\\newcommand{\\farcm}{{.}'}$\n",
       "$\\newcommand{\\arcsec}{''}$\n",
       "$\\newcommand{\\arcmin}{'}$\n",
       "$\\newcommand{\\ion}[2]{#1#2}$\n",
       "$\\newcommand{\\textsc}[1]{\\textrm{#1}}$\n",
       "$\\newcommand{\\hl}[1]{\\textrm{#1}}$\n",
       "$\\newcommand{\\daniel}[1]{\\textbf{{\\color{Emerald}{Daniel: #1}}}}$\n",
       "$\\newcommand{\\vicente}[1]{\\textbf{{\\color{violet}{Vicente: #1}}}}$\n",
       "$\\newcommand{\\vlad}[1]{\\textbf{{\\color{cyan}{VAR: #1}}}}$\n",
       "$\\newcommand{\\aldo}[1]{\\textbf{{\\color{orange}{Aldo: #1}}}}$\n",
       "$\\newcommand{\\ap}[1]{\\textcolor{magenta}{#1}}$\n",
       "$\\newcommand{\\todo}[1]{\\textcolor{red}{TODO: please #1}}$\n",
       "$\\newcommand{\\Msun}{{\\rm M}_{\\odot}}$\n",
       "$\\newcommand{\\Mtwo}{M_{\\rm 200}}$\n",
       "$\\newcommand{\\Mfive}{M_{\\rm 500}}$\n",
       "$\\newcommand{\\Rtwo}{R_{\\rm 200}}$\n",
       "$\\newcommand{\\Rfive}{R_{\\rm 500}}$\n",
       "$\\newcommand{\\facc}{f_{\\rm acc}}$\n",
       "$\\newcommand{\\fex}{f_{\\rm ex}}$\n",
       "$\\newcommand{\\krot}{\\kappa_{\\rm rot}}$\n",
       "$\\newcommand{\\thefootnote}{\\fnsymbol{footnote}}$\n",
       "$\\newcommand{\\thefootnote}{\\arabic{footnote}}$</div>\n",
       "\n",
       "<div class=\"macros\" style=\"visibility:hidden;\">\n",
       "$\\newcommand{$\\ensuremath$}{}$\n",
       "$\\newcommand{$\\xspace$}{}$\n",
       "$\\newcommand{$\\object$}[1]{\\texttt{#1}}$\n",
       "$\\newcommand{$\\farcs$}{{.}''}$\n",
       "$\\newcommand{$\\farcm$}{{.}'}$\n",
       "$\\newcommand{$\\arcsec$}{''}$\n",
       "$\\newcommand{$\\arcmin$}{'}$\n",
       "$\\newcommand{$\\ion$}[2]{#1#2}$\n",
       "$\\newcommand{$\\textsc$}[1]{\\textrm{#1}}$\n",
       "$\\newcommand{$\\hl$}[1]{\\textrm{#1}}$\n",
       "$\\newcommand{$\\daniel$}[1]{\\textbf{{\\color{Emerald}{Daniel: #1}}}}$\n",
       "$\\newcommand{$\\vicente$}[1]{\\textbf{{\\color{violet}{Vicente: #1}}}}$\n",
       "$\\newcommand{$\\vlad$}[1]{\\textbf{{\\color{cyan}{VAR: #1}}}}$\n",
       "$\\newcommand{$\\aldo$}[1]{\\textbf{{\\color{orange}{Aldo: #1}}}}$\n",
       "$\\newcommand{$\\ap$}[1]{\\textcolor{magenta}{#1}}$\n",
       "$\\newcommand{$\\todo$}[1]{\\textcolor{red}{TODO: please #1}}$\n",
       "$\\newcommand{$\\Msun$}{{\\rm M}_{\\odot}}$\n",
       "$\\newcommand{$\\Mtwo$}{M_{\\rm 200}}$\n",
       "$\\newcommand{$\\Mfive$}{M_{\\rm 500}}$\n",
       "$\\newcommand{$\\Rtwo$}{R_{\\rm 200}}$\n",
       "$\\newcommand{$\\Rfive$}{R_{\\rm 500}}$\n",
       "$\\newcommand{$\\facc$}{f_{\\rm acc}}$\n",
       "$\\newcommand{$\\fex$}{f_{\\rm ex}}$\n",
       "$\\newcommand{$\\krot$}{\\kappa_{\\rm rot}}$\n",
       "$\\newcommand{$\\thefootnote$}{\\fnsymbol{footnote}}$\n",
       "$\\newcommand{$\\thefootnote$}{\\arabic{footnote}}$</div>\n",
       "\n",
       "\n",
       "\n",
       "<div id=\"title\">\n",
       "\n",
       "#  star formation\n",
       "\n",
       "</div>\n",
       "<div id=\"comments\">\n",
       "\n",
       "[![arXiv](https://img.shields.io/badge/arXiv-2302.10943-b31b1b.svg)](https://arxiv.org/abs/2302.10943)<mark>Appeared on: 2023-02-23</mark> - _19 pages, 11 figures. Accepted for publication in MNRAS_\n",
       "\n",
       "</div>\n",
       "<div id=\"authors\">\n",
       "\n",
       "Daniel Montenegro-Taborda, et al. -- incl., <mark><mark>Annalisa Pillepich</mark></mark>\n",
       "\n",
       "</div>\n",
       "<div id=\"abstract\">\n",
       "\n",
       "**Abstract:** We investigate the formation of brightest cluster galaxies (BCGs) in the TNG300 cosmological simulation of the IllustrisTNG project. Our cluster sample consists of 700 haloes with$\\Mtwo \\geq 5 \\times 10^{13}   $\\Msun$$at$z=0$, along with their progenitors at earlier epochs. This includes 280 systems with$\\Mtwo \\geq 10^{14}   $\\Msun$$at$z=0$, as well as three haloes with$\\Mtwo \\geq 10^{15}   $\\Msun$$. We find that the stellar masses and star formation rates of our simulated BCGs are in good agreement with observations at$z \\lesssim 0.4$, and that they have experienced, on average,$\\sim$2 ($\\sim$3) major mergers since$z=1$($z=2$). Separating the BCG from the intracluster light (ICL) by means of a fixed 30 kpc aperture, we find that the fraction of stellar mass contributed by\\textit{ex situ}(i.e. accreted) stars at$z=0$is approximately 70, 80, and 90 per cent for the BCG, BCG+ICL, and ICL, respectively. Tracking our simulated BCGs back in time using the merger trees, we find that they became dominated by\\textit{ex situ}stars at$z \\sim $1--2, and that half of the stars that are part of the BCG at$z=0$formed early ($z \\sim 3$) in other galaxies, but `assembled' onto the BCG until later times ($z $\\ap$prox 0.8$for the whole sample,$z $\\ap$prox 0.5$for BCGs in$\\Mtwo \\geq 5 \\times 10^{14}   $\\Msun$$haloes). Finally, we show that the stellar mass profiles of BCGs are often dominated by\\textit{ex situ}stars at all radii, with stars from major mergers being found closer to the centre, while stars that were tidally stripped from other galaxies dominate the outer regions.\n",
       "\n",
       "</div>\n",
       "\n",
       "<div id=\"div_fig1\">\n",
       "\n",
       "<img src=\"tmp_2302.10943/./figs_BCGs/formation_history_Mstar_with-inrad_median2_1e14.png\" alt=\"Fig4\" width=\"100%\"/>\n",
       "\n",
       "**Figure 4. -** Median mass histories of BCGs in the TNG300 simulation selected at $z=0$ with $\\Mtwo \\geq 10^{14}   $\\Msun$$ and tracked back in time along the main branch of their merger trees. The solid red line shows the evolution of the total stellar mass that is gravitationally bound to the central main galaxy, while the solid purple line shows the stellar mass of the central main galaxy within $2 r_{\\rm half, \\ast}$. The solid orange line shows the mass evolution their host haloes' total mass, quantified by $\\Mtwo$, while the solid green line shows the mass evolution of the supermassive BH hosted at the centre of the BCG. The shaded regions indicate the corresponding 16th to 84th percentile ranges, i.e. the galaxy-to-galaxy variation. The dashed lines represent the median mass histories for $\\Mtwo$, $M_{\\ast, 2 r_{\\rm half, \\ast}}$, and $M_{\\rm BH}$ according to the semi-empirical model of Rodríguez-Puebla et al. (in preparation). Note that, unlike the halo mass history, the shape of the stellar mass history displays an inflection at $z \\sim 3$--$4$, such that the stellar mass growth rate slows down after this transition epoch. (*fig:mass-vs-z*)\n",
       "\n",
       "</div>\n",
       "<div id=\"div_fig2\">\n",
       "\n",
       "<img src=\"tmp_2302.10943/./figs_BCGs/history_SFR-sSFR_vs_z_median_observation_v3.png\" alt=\"Fig2\" width=\"100%\"/>\n",
       "\n",
       "**Figure 2. -** SFRs of BCGs across cosmic time according to the TNG300 simulation. In the top (bottom) panels, we show SFRs (specific SFRs). Median SFR (top) and specific SFR (bottom) as function of redshift, shown for TNG300 BCGs \\textit{selected at each redshift} with $\\Mtwo \\geq 10^{14}   $\\Msun$$. The blue curves show measurements within 50 kpc from TNG300 including galaxies with three different SFR lower limits: 0.1 (solid), 1 (dashed), and 10 (dotted) $\\Msun{\\rm yr^{-1}}$. The black dotted rectangles, grey crosses and green diamonds represent observational estimates by \\protect\\cite{mcdonald2016SFR}, \\protect\\cite{Bonaventura2017} and \\protect\\cite{Orellana-Gonzalez+2022}, respectively, for SZ- or optically-selected clusters, and thus including a diversity of galaxy and halo mass distributions at different redshifts.\n",
       "\t\\label{fig:SFR-vs-z_observation} (*fig:SFR-vs-z_observation*)\n",
       "\n",
       "</div>\n",
       "<div id=\"div_fig3\">\n",
       "\n",
       "<img src=\"tmp_2302.10943/./figs_BCGs/history_SFR-sSFR_median-v4-AllAperturesFixed_simulation_lower_lim.png\" alt=\"Fig3\" width=\"100%\"/>\n",
       "\n",
       "**Figure 3. -** SF histories of BCGs across cosmic time according to the TNG300 simulation. In the top (bottom) panels, we show SFRs (specific SFRs).\n",
       "\tMedian SFR (top) and specific SFR (bottom) as function of redshift, shown for the main progenitors of simulated BCGs selected at $z=0$ with $\\Mtwo \\geq 10^{14}   $\\Msun$$. The solid curves show measurements from TNG300 within 50 kpc (blue) and for the entire central galaxy (red), as well as for the entire central galaxy in Illustris original (green). The blue shaded regions indicate the 16th to 84th percentile range of the $r < 50$ kpc TNG300 measurements. The dashed grey line shows results from the semi-empirical model of Rodríguez-Puebla et al. (in preparation). Null SFR values have been replaced with the minimum measurable values as discussed in \\protect\\cite{donnari2019}.\n",
       "\t\\label{fig:SFR-vs-z_simulation} (*fig:SFR-vs-z_simulation*)\n",
       "\n",
       "</div>"
      ],
      "text/plain": [
       "<IPython.core.display.Markdown object>"
      ]
     },
     "metadata": {},
     "output_type": "display_data"
    }
   ],
   "source": [
    "[display(Markdown(k[1])) for k in documents];"
   ]
  },
  {
   "cell_type": "markdown",
   "id": "873873a4",
   "metadata": {
    "papermill": {
     "duration": 0.008817,
     "end_time": "2023-02-23T04:10:00.937285",
     "exception": false,
     "start_time": "2023-02-23T04:10:00.928468",
     "status": "completed"
    },
    "tags": []
   },
   "source": [
    "# Create HTML index"
   ]
  },
  {
   "cell_type": "code",
   "execution_count": 10,
   "id": "cf665672",
   "metadata": {
    "execution": {
     "iopub.execute_input": "2023-02-23T04:10:00.957305Z",
     "iopub.status.busy": "2023-02-23T04:10:00.956602Z",
     "iopub.status.idle": "2023-02-23T04:10:00.969381Z",
     "shell.execute_reply": "2023-02-23T04:10:00.968700Z"
    },
    "papermill": {
     "duration": 0.024616,
     "end_time": "2023-02-23T04:10:00.970946",
     "exception": false,
     "start_time": "2023-02-23T04:10:00.946330",
     "status": "completed"
    },
    "tags": []
   },
   "outputs": [
    {
     "name": "stdout",
     "output_type": "stream",
     "text": [
      "213  publications in the last 7 days.\n",
      "\t _build/html/2302.10943.md\n",
      "\t _build/html/2302.10528.md\n",
      "\t _build/html/2302.10008.md\n",
      "\t _build/html/2302.08962.md\n",
      "\t _build/html/2302.08628.md\n",
      "\t _build/html/2302.07916.md\n",
      "\t _build/html/2302.07880.md\n",
      "\t _build/html/2302.07497.md\n",
      "\t _build/html/2302.07277.md\n",
      "\t _build/html/2302.07256.md\n",
      "\t _build/html/2302.07234.md\n",
      "\t _build/html/2302.07057.md\n",
      "\t _build/html/2302.05694.md\n",
      "\t _build/html/2302.05465.md\n",
      "\t _build/html/2302.04507.md\n",
      "\t _build/html/2302.04239.md\n",
      "\t _build/html/2302.04138.md\n",
      "\t _build/html/2302.03699.md\n",
      "\t _build/html/2302.03576.md\n",
      "\t _build/html/2302.03042.md\n",
      "\t _build/html/2302.03039.md\n",
      "\t _build/html/2302.02890.md\n",
      "\t _build/html/2302.02611.md\n",
      "\t _build/html/2302.02429.md\n",
      "\t _build/html/2302.01678.md\n",
      "\t _build/html/2302.00450.md\n",
      "\t _build/html/2301.13766.md\n",
      "\t _build/html/2301.13526.md\n",
      "\t _build/html/2301.12890.md\n",
      "\t _build/html/2301.11942.md\n",
      "\t _build/html/2301.10717.md\n",
      "\t _build/html/2301.10666.md\n",
      "\t _build/html/2301.10496.md\n",
      "\t _build/html/2301.09621.md\n",
      "\t _build/html/2301.09140.md\n",
      "\t _build/html/2301.08770.md\n",
      "\t _build/html/2301.08310.md\n",
      "\t _build/html/2301.07990.md\n",
      "\t _build/html/2301.07366.md\n",
      "\t _build/html/2301.07199.md\n",
      "\t _build/html/2301.07116.md\n",
      "\t _build/html/2301.06873.md\n",
      "\t _build/html/2301.06819.md\n",
      "\t _build/html/2301.06575.md\n",
      "\t _build/html/2301.05720.md\n",
      "\t _build/html/2301.05718.md\n",
      "\t _build/html/2301.05034.md\n",
      "\t _build/html/2301.04656.md\n",
      "\t _build/html/2301.04533.md\n",
      "\t _build/html/2301.04442.md\n",
      "\t _build/html/2301.03811.md\n",
      "\t _build/html/2301.03689.md\n",
      "\t _build/html/2301.03387.md\n",
      "\t _build/html/2301.03209.md\n",
      "\t _build/html/2301.02671.md\n",
      "\t _build/html/2301.02477.md\n",
      "\t _build/html/2301.02313.md\n",
      "\t _build/html/2301.02265.md\n",
      "\t _build/html/2301.01937.md\n",
      "\t _build/html/2301.01895.md\n",
      "\t _build/html/2301.01684.md\n",
      "\t _build/html/2301.01306.md\n",
      "\t _build/html/2301.00881.md\n",
      "\t _build/html/2301.00854.md\n",
      "\t _build/html/2301.00578.md\n",
      "\t _build/html/2212.12039.md\n",
      "\t _build/html/2212.11991.md\n",
      "\t _build/html/2212.11425.md\n",
      "\t _build/html/2212.11177.md\n",
      "\t _build/html/2212.10804.md\n",
      "\t _build/html/2212.10512.md\n",
      "\t _build/html/2212.09766.md\n",
      "\t _build/html/2212.09675.md\n",
      "\t _build/html/2212.09661.md\n",
      "\t _build/html/2212.09652.md\n",
      "\t _build/html/2212.09443.md\n",
      "\t _build/html/2212.09307.md\n",
      "\t _build/html/2212.09168.md\n",
      "\t _build/html/2212.09159.md\n",
      "\t _build/html/2212.08702.md\n",
      "\t _build/html/2212.07332.md\n",
      "\t _build/html/2212.06434.md\n",
      "\t _build/html/2212.04710.md\n",
      "\t _build/html/2212.04026.md\n",
      "\t _build/html/2212.03563.md\n",
      "\t _build/html/2212.03514.md\n",
      "\t _build/html/2212.02667.md\n",
      "\t _build/html/2212.02627.md\n",
      "\t _build/html/2212.02235.md\n",
      "\t _build/html/2212.01707.md\n",
      "\t _build/html/2212.01526.md\n",
      "\t _build/html/2212.01397.md\n",
      "\t _build/html/2212.01291.md\n",
      "\t _build/html/2212.01281.md\n",
      "\t _build/html/2212.00812.md\n",
      "\t _build/html/2212.00811.md\n",
      "\t _build/html/2212.00806.md\n",
      "\t _build/html/2212.00047.md\n",
      "\t _build/html/2212.00032.md\n",
      "\t _build/html/2211.16996.md\n",
      "\t _build/html/2211.16510.md\n",
      "\t _build/html/2211.16123.md\n",
      "\t _build/html/2211.15816.md\n",
      "\t _build/html/2211.15698.md\n",
      "\t _build/html/2211.15576.md\n",
      "\t _build/html/2211.15434.md\n",
      "\t _build/html/2211.15288.md\n",
      "\t _build/html/2211.15224.md\n",
      "\t _build/html/2211.14543.md\n",
      "\t _build/html/2211.14330.md\n",
      "\t _build/html/2211.14322.md\n",
      "\t _build/html/2211.14132.md\n",
      "\t _build/html/2211.13811.md\n",
      "\t _build/html/2211.13426.md\n",
      "\t _build/html/2211.13318.md\n",
      "\t _build/html/2211.13146.md\n",
      "\t _build/html/2211.12613.md\n",
      "\t _build/html/2211.11767.md\n",
      "\t _build/html/2211.09840.md\n",
      "\t _build/html/2211.09217.md\n",
      "\t _build/html/2211.08493.md\n",
      "\t _build/html/2211.08487.md\n",
      "\t _build/html/2211.08294.md\n",
      "\t _build/html/2211.07667.md\n",
      "\t _build/html/2211.07659.md\n",
      "\t _build/html/2211.06454.md\n",
      "\t _build/html/2211.06205.md\n",
      "\t _build/html/2211.06194.md\n",
      "\t _build/html/2211.05022.md\n",
      "\t _build/html/2211.04048.md\n",
      "\t _build/html/2211.03641.md\n",
      "\t _build/html/2211.02502.md\n",
      "\t _build/html/2211.01474.md\n",
      "\t _build/html/2211.00667.md\n",
      "\t _build/html/2211.00657.md\n",
      "\t _build/html/2211.00087.md\n",
      "\t _build/html/2211.00036.md\n",
      "\t _build/html/2211.00020.md\n",
      "\t _build/html/2211.00010.md\n",
      "\t _build/html/2210.17434.md\n",
      "\t _build/html/2210.12412.md\n",
      "\t _build/html/2210.11926.md\n",
      "\t _build/html/2210.11551.md\n",
      "\t _build/html/2210.11103.md\n",
      "\t _build/html/2210.10707.md\n",
      "\t _build/html/2210.09930.md\n",
      "\t _build/html/2210.08996.md\n",
      "\t _build/html/2210.08517.md\n",
      "\t _build/html/2210.08510.md\n",
      "\t _build/html/2210.08078.md\n",
      "\t _build/html/2210.06504.md\n",
      "\t _build/html/2210.05695.md\n",
      "\t _build/html/2210.05595.md\n",
      "\t _build/html/2210.05505.md\n",
      "\t _build/html/2210.04721.md\n",
      "\t _build/html/2210.03615.md\n",
      "\t _build/html/2210.01811.md\n",
      "\t _build/html/2210.01809.md\n",
      "\t _build/html/2210.01556.md\n",
      "\t _build/html/2210.00863.md\n",
      "\t _build/html/2210.00560.md\n",
      "\t _build/html/2209.15403.md\n",
      "\t _build/html/2209.15110.md\n",
      "\t _build/html/2209.14410.md\n",
      "\t _build/html/2209.14396.md\n",
      "\t _build/html/2209.13717.md\n",
      "\t _build/html/2209.13336.md\n",
      "\t _build/html/2209.12906.md\n",
      "\t _build/html/2209.11781.md\n",
      "\t _build/html/2209.11602.md\n",
      "\t _build/html/2209.11248.md\n",
      "\t _build/html/2209.11096.md\n",
      "\t _build/html/2209.10618.md\n",
      "\t _build/html/2209.09914.md\n",
      "\t _build/html/2209.09823.md\n",
      "\t _build/html/2209.08242.md\n",
      "\t _build/html/2209.08120.md\n",
      "\t _build/html/2209.08106.md\n",
      "\t _build/html/2209.07962.md\n",
      "\t _build/html/2209.07931.md\n",
      "\t _build/html/2209.06833.md\n",
      "\t _build/html/2209.05814.md\n",
      "\t _build/html/2209.05593.md\n",
      "\t _build/html/2209.04304.md\n",
      "\t _build/html/2209.03367.md\n",
      "\t _build/html/2209.02872.md\n",
      "\t _build/html/2209.02725.md\n",
      "\t _build/html/2209.02722.md\n",
      "\t _build/html/2209.02092.md\n",
      "\t _build/html/2209.01125.md\n",
      "\t _build/html/2209.00828.md\n",
      "\t _build/html/2209.00363.md\n",
      "\t _build/html/2208.14927.md\n",
      "\t _build/html/2208.09335.md\n",
      "\t _build/html/2208.08872.md\n",
      "\t _build/html/2204.06393.md\n",
      "\t _build/html/2204.03335.md\n",
      "\t _build/html/2204.03253.md\n",
      "\t _build/html/2204.02998.md\n",
      "\t _build/html/2204.02109.md\n",
      "\t _build/html/2204.02017.md\n",
      "\t _build/html/2204.01824.md\n",
      "\t _build/html/2204.01758.md\n",
      "\t _build/html/2204.01245.md\n",
      "\t _build/html/2204.00793.md\n",
      "\t _build/html/2204.00342.md\n",
      "\t _build/html/2203.16959.md\n",
      "\t _build/html/2203.16856.md\n",
      "\t _build/html/2203.16735.md\n",
      "\t _build/html/2203.16734.md\n",
      "\t _build/html/2203.16504.md\n",
      "\t _build/html/2203.15822.md\n",
      "\t _build/html/2203.15811.md\n"
     ]
    }
   ],
   "source": [
    "from datetime import datetime, timedelta, timezone\n",
    "from glob import glob\n",
    "\n",
    "files = glob('_build/html/*.md')\n",
    "days = 7\n",
    "now = datetime.today()\n",
    "res = []\n",
    "for fk in files:\n",
    "    stat_result = os.stat(fk).st_ctime\n",
    "    modified = datetime.fromtimestamp(stat_result, tz=timezone.utc).replace(tzinfo=None)\n",
    "    delta = now.today() - modified\n",
    "    if delta <= timedelta(days=days):\n",
    "        res.append((delta.seconds, fk))\n",
    "res = [k[1] for k in reversed(sorted(res, key=lambda x:x[1]))]\n",
    "npub = len(res)\n",
    "print(len(res), f\" publications in the last {days:d} days.\")\n",
    "[ print('\\t', k) for k in res ];"
   ]
  },
  {
   "cell_type": "code",
   "execution_count": 11,
   "id": "015de740",
   "metadata": {
    "execution": {
     "iopub.execute_input": "2023-02-23T04:10:00.990804Z",
     "iopub.status.busy": "2023-02-23T04:10:00.990395Z",
     "iopub.status.idle": "2023-02-23T04:10:01.011672Z",
     "shell.execute_reply": "2023-02-23T04:10:01.011004Z"
    },
    "papermill": {
     "duration": 0.033103,
     "end_time": "2023-02-23T04:10:01.013232",
     "exception": false,
     "start_time": "2023-02-23T04:10:00.980129",
     "status": "completed"
    },
    "tags": []
   },
   "outputs": [
    {
     "name": "stdout",
     "output_type": "stream",
     "text": [
      "9  publications in the last 7 days.\n"
     ]
    }
   ],
   "source": [
    "import datetime\n",
    "from glob import glob\n",
    "\n",
    "def get_last_n_days(lst, days=1):\n",
    "    \"\"\" Get the documents from the last n days \"\"\"\n",
    "    sorted_lst = sorted(lst, key=lambda x: x[1], reverse=True)\n",
    "    for fname, date in sorted_lst:\n",
    "        if date >= str(datetime.date.today() - datetime.timedelta(days=days)):\n",
    "            yield fname\n",
    "\n",
    "def extract_appearance_dates(lst_file):\n",
    "    dates = []\n",
    "\n",
    "    def get_date(line):\n",
    "        return line\\\n",
    "            .split('Appeared on:')[-1]\\\n",
    "            .split('</mark>')[0].strip()\n",
    "\n",
    "    for fname in lst:\n",
    "        with open(fname, 'r') as f:\n",
    "            found_date = False\n",
    "            for line in f:\n",
    "                if not found_date:\n",
    "                    if \"Appeared on\" in line:\n",
    "                        found_date = True\n",
    "                        dates.append((fname, get_date(line)))\n",
    "                else:\n",
    "                    break\n",
    "    return dates\n",
    "\n",
    "from glob import glob\n",
    "lst = glob('_build/html/*md')\n",
    "days = 7\n",
    "dates = extract_appearance_dates(lst)\n",
    "res = list(get_last_n_days(dates, days))\n",
    "npub = len(res)\n",
    "print(len(res), f\" publications in the last {days:d} days.\")"
   ]
  },
  {
   "cell_type": "code",
   "execution_count": 12,
   "id": "52ca0208",
   "metadata": {
    "execution": {
     "iopub.execute_input": "2023-02-23T04:10:01.033431Z",
     "iopub.status.busy": "2023-02-23T04:10:01.032920Z",
     "iopub.status.idle": "2023-02-23T04:10:01.039804Z",
     "shell.execute_reply": "2023-02-23T04:10:01.039165Z"
    },
    "papermill": {
     "duration": 0.018709,
     "end_time": "2023-02-23T04:10:01.041231",
     "exception": false,
     "start_time": "2023-02-23T04:10:01.022522",
     "status": "completed"
    },
    "scrolled": false,
    "tags": []
   },
   "outputs": [],
   "source": [
    "def create_carousel(npub=4):\n",
    "    \"\"\" Generate the HTML code for a carousel with `npub` slides \"\"\"\n",
    "    carousel = [\"\"\"<section class=\"carousel\" aria-label=\"Gallery\">\"\"\",\n",
    "                \"\"\"  <ol class=\"carousel__viewport\">\"\"\",\n",
    "    ]\n",
    "    for k in range(1, npub + 1):\n",
    "        prev_ = k - 1\n",
    "        next_ = k + 1\n",
    "        if prev_ <= 0:\n",
    "            prev_ = npub\n",
    "        if next_ > npub:\n",
    "            next_ = 1\n",
    "        text  = f\"\"\"    <li id=\"carousel__slide{k}\" tabindex=\"0\" class=\"carousel__slide\">\\n\"\"\"\n",
    "        text += f\"\"\"       <div class=\"carousel__snapper\">\\n\"\"\"\n",
    "        text += f\"\"\"         <a href=\"#carousel__slide{prev_}\" class=\"carousel__prev\">Go to previous slide</a>\\n\"\"\"\n",
    "        text += f\"\"\"         <a href=\"#carousel__slide{next_}\" class=\"carousel__next\">Go to next slide</a>\\n\"\"\"\n",
    "        text += f\"\"\"         <div id=\"slide{k}_content\" class=\"md_view\" >Content {k}</div>\\n\"\"\"\n",
    "        text += f\"\"\"       </div>\\n\"\"\"\n",
    "        text += f\"\"\"    </li>\"\"\"\n",
    "        carousel.append(text)\n",
    "\n",
    "    carousel.extend([\n",
    "        \"\"\"  </ol>\"\"\",\n",
    "        \"\"\"  <aside class=\"carousel__navigation\">\"\"\",\n",
    "        \"\"\"    <ol class=\"carousel__navigation-list\">\"\"\"])\n",
    "\n",
    "    for k in range(1, npub + 1):\n",
    "        text  = f\"\"\"      <li class=\"carousel__navigation-item\">\\n\"\"\"\n",
    "        text += f\"\"\"        <a href=\"#carousel__slide{k}\" class=\"carousel__navigation-button\">Go to {k}</a>\\n\"\"\"\n",
    "        text += f\"\"\"      </li>\"\"\"\n",
    "        carousel.append(text)\n",
    "    carousel.extend([\"\"\"    </ol>\"\"\", \"\"\"  </aside>\"\"\", \"\"\"</section>\"\"\"])\n",
    "\n",
    "    return '\\n'.join(carousel)"
   ]
  },
  {
   "cell_type": "code",
   "execution_count": 13,
   "id": "a6eac5b6",
   "metadata": {
    "execution": {
     "iopub.execute_input": "2023-02-23T04:10:01.095097Z",
     "iopub.status.busy": "2023-02-23T04:10:01.094778Z",
     "iopub.status.idle": "2023-02-23T04:10:01.101250Z",
     "shell.execute_reply": "2023-02-23T04:10:01.100577Z"
    },
    "papermill": {
     "duration": 0.05208,
     "end_time": "2023-02-23T04:10:01.102735",
     "exception": false,
     "start_time": "2023-02-23T04:10:01.050655",
     "status": "completed"
    },
    "scrolled": false,
    "tags": []
   },
   "outputs": [],
   "source": [
    "carousel = create_carousel(npub)\n",
    "docs = ', '.join(['\"{0:s}\"'.format(k.split('/')[-1]) for k in res])\n",
    "slides = ', '.join([f'\"slide{k}_content\"' for k in range(1, npub + 1)])\n",
    "\n",
    "script = f\"\"\"\n",
    "const docs = [{docs}]\n",
    "\n",
    "const slides = [{slides}]\n",
    "\"\"\" + \"\"\"\n",
    "async function run() {\n",
    "    for (let i = 0; i < docs.length; i++) {\n",
    "        let file = await fetch(docs[i]);\n",
    "        let text = await file.text()\n",
    "        document.getElementById(slides[i]).innerHTML =\n",
    "            marked.parse(text);\n",
    "    }\n",
    "    hljs.highlightAll();\n",
    "}\n",
    "run()\n",
    "\"\"\"\n",
    "\n",
    "page = f\"\"\"<!doctype html>\n",
    "<html lang=\"en\">\n",
    "\n",
    "<head>\n",
    "  <meta charset=\"utf-8\">\n",
    "  <meta name=\"viewport\" content=\"width=device-width, initial-scale=1\">\n",
    "  <!-- Bootstrap CSS -->\n",
    "  <link href=\"https://cdn.jsdelivr.net/npm/bootstrap@5.0.2/dist/css/bootstrap.min.css\" rel=\"stylesheet\"\n",
    "   integrity=\"sha384-EVSTQN3/azprG1Anm3QDgpJLIm9Nao0Yz1ztcQTwFspd3yD65VohhpuuCOmLASjC\" crossorigin=\"anonymous\">\n",
    "  <!-- highlight.js CSS -->\n",
    "  <link rel=\"stylesheet\" href=\"https://cdnjs.cloudflare.com/ajax/libs/highlight.js/11.1.0/styles/default.min.css\">\n",
    "  <!-- Mathjax 3 -->\n",
    "  <script type=\"text/javascript\" id=\"MathJax-config\" src=\"mathjax_config.js\"> </script>\n",
    "  <script type=\"text/javascript\" id=\"MathJax-script\" async \n",
    "    src=\"https://cdn.jsdelivr.net/npm/mathjax@3/es5/tex-mml-chtml.js\">\n",
    "  </script>\n",
    "  <link rel=\"stylesheet\" href=\"index_carousel.css\">\n",
    "  <link rel=\"icon\" type=\"image/x-icon\" href=\"https://www.mpia.de/assets/touch-icon-32x32-a66937bcebc4e8894ebff1f41a366c7c7220fd97a38869ee0f2db65a9f59b6c1.png\">\n",
    "  <title>MPIA Arxiv on deck!</title>\n",
    "</head>\n",
    "\n",
    "<body>\n",
    "  <div id=\"header\"> <img src=\"header_banner.png\" width=\"100%\"></div>\n",
    "  <div id=\"suptitle\"> 7-day archives </div>\n",
    "  <div id=\"info\">\n",
    "    <img src=\"https://pngimg.com/uploads/github/github_PNG58.png\" height=30rem></img>\n",
    "    <a href=https://github.com/mpi-astronomy/arxiv_display style=\"color:black;\">github/mpi-astronomy/arxiv_display</a> \n",
    "  </div>\n",
    "  {carousel:s}\n",
    "</body>\n",
    "\n",
    "<!-- Render Markdown -->\n",
    "\n",
    "<body>\n",
    "  <!-- highlight.js: https://highlightjs.org/download/ -->\n",
    "  <script src=\"https://cdnjs.cloudflare.com/ajax/libs/highlight.js/11.5.0/highlight.min.js\"></script>\n",
    "  <!-- marked.js -->\n",
    "  <script src=\"https://cdn.jsdelivr.net/npm/marked/marked.min.js\"></script>\n",
    "  <script>{script:s}</script>\n",
    "</body>\n",
    "</html>\n",
    "\"\"\"\n",
    "with open(\"_build/html/index_7days.html\", 'w') as fout:\n",
    "    fout.write(page)"
   ]
  },
  {
   "cell_type": "code",
   "execution_count": 14,
   "id": "adc1a1ec",
   "metadata": {
    "execution": {
     "iopub.execute_input": "2023-02-23T04:10:01.122857Z",
     "iopub.status.busy": "2023-02-23T04:10:01.122603Z",
     "iopub.status.idle": "2023-02-23T04:10:01.130492Z",
     "shell.execute_reply": "2023-02-23T04:10:01.129850Z"
    },
    "papermill": {
     "duration": 0.019949,
     "end_time": "2023-02-23T04:10:01.131975",
     "exception": false,
     "start_time": "2023-02-23T04:10:01.112026",
     "status": "completed"
    },
    "tags": []
   },
   "outputs": [
    {
     "name": "stdout",
     "output_type": "stream",
     "text": [
      "2  publications in the last day.\n"
     ]
    }
   ],
   "source": [
    "# redo for today\n",
    "days = 1\n",
    "res = list(get_last_n_days(dates, days))\n",
    "npub = len(res)\n",
    "print(len(res), f\" publications in the last day.\")\n",
    "\n",
    "carousel = create_carousel(npub)\n",
    "docs = ', '.join(['\"{0:s}\"'.format(k.split('/')[-1]) for k in res])\n",
    "slides = ', '.join([f'\"slide{k}_content\"' for k in range(1, npub + 1)])\n",
    "\n",
    "script = f\"\"\"\n",
    "const docs = [{docs}]\n",
    "\n",
    "const slides = [{slides}]\n",
    "\"\"\" + \"\"\"\n",
    "async function run() {\n",
    "    for (let i = 0; i < docs.length; i++) {\n",
    "        let file = await fetch(docs[i]);\n",
    "        let text = await file.text()\n",
    "        document.getElementById(slides[i]).innerHTML =\n",
    "            marked.parse(text);\n",
    "    }\n",
    "    hljs.highlightAll();\n",
    "}\n",
    "run()\n",
    "\"\"\"\n",
    "\n",
    "page = f\"\"\"<!doctype html>\n",
    "<html lang=\"en\">\n",
    "\n",
    "<head>\n",
    "  <meta charset=\"utf-8\">\n",
    "  <meta name=\"viewport\" content=\"width=device-width, initial-scale=1\">\n",
    "  <!-- Bootstrap CSS -->\n",
    "  <link href=\"https://cdn.jsdelivr.net/npm/bootstrap@5.0.2/dist/css/bootstrap.min.css\" rel=\"stylesheet\"\n",
    "   integrity=\"sha384-EVSTQN3/azprG1Anm3QDgpJLIm9Nao0Yz1ztcQTwFspd3yD65VohhpuuCOmLASjC\" crossorigin=\"anonymous\">\n",
    "  <!-- highlight.js CSS -->\n",
    "  <link rel=\"stylesheet\" href=\"https://cdnjs.cloudflare.com/ajax/libs/highlight.js/11.1.0/styles/default.min.css\">\n",
    "  <!-- Mathjax 3 -->\n",
    "  <script type=\"text/javascript\" id=\"MathJax-config\" src=\"mathjax_config.js\"> </script>\n",
    "  <script type=\"text/javascript\" id=\"MathJax-script\" async \n",
    "    src=\"https://cdn.jsdelivr.net/npm/mathjax@3/es5/tex-mml-chtml.js\">\n",
    "  </script>\n",
    "  <link rel=\"stylesheet\" href=\"index_carousel.css\">\n",
    "  <link rel=\"icon\" type=\"image/x-icon\" href=\"https://www.mpia.de/assets/touch-icon-32x32-a66937bcebc4e8894ebff1f41a366c7c7220fd97a38869ee0f2db65a9f59b6c1.png\">\n",
    "  <title>MPIA Arxiv on deck!</title>\n",
    "</head>\n",
    "\n",
    "<body>\n",
    "  <div id=\"header\"> <img src=\"header_banner.png\" width=\"100%\"></div>\n",
    "  <div id=\"suptitle\"> daily </div>\n",
    "  <div id=\"info\">\n",
    "    <img src=\"https://pngimg.com/uploads/github/github_PNG58.png\" height=30rem></img>\n",
    "    <a href=https://github.com/mpi-astronomy/arxiv_display style=\"color:black;\">github/mpi-astronomy/arxiv_display</a> \n",
    "  </div>\n",
    "  {carousel:s}\n",
    "</body>\n",
    "\n",
    "<!-- Render Markdown -->\n",
    "\n",
    "<body>\n",
    "  <!-- highlight.js: https://highlightjs.org/download/ -->\n",
    "  <script src=\"https://cdnjs.cloudflare.com/ajax/libs/highlight.js/11.5.0/highlight.min.js\"></script>\n",
    "  <!-- marked.js -->\n",
    "  <script src=\"https://cdn.jsdelivr.net/npm/marked/marked.min.js\"></script>\n",
    "  <script>{script:s}</script>\n",
    "</body>\n",
    "</html>\n",
    "\"\"\"\n",
    "with open(\"_build/html/index_daily.html\", 'w') as fout:\n",
    "    fout.write(page)"
   ]
  },
  {
   "cell_type": "markdown",
   "id": "1cebacbc",
   "metadata": {
    "papermill": {
     "duration": 0.009239,
     "end_time": "2023-02-23T04:10:01.150530",
     "exception": false,
     "start_time": "2023-02-23T04:10:01.141291",
     "status": "completed"
    },
    "tags": []
   },
   "source": [
    "# Debugging papers"
   ]
  },
  {
   "cell_type": "raw",
   "id": "debe7cc6",
   "metadata": {
    "papermill": {
     "duration": 0.009324,
     "end_time": "2023-02-23T04:10:01.169437",
     "exception": false,
     "start_time": "2023-02-23T04:10:01.160113",
     "status": "completed"
    },
    "tags": []
   },
   "source": [
    "raise NotImplementedError(\"Manual Stop\")"
   ]
  },
  {
   "cell_type": "raw",
   "id": "eb169192",
   "metadata": {
    "papermill": {
     "duration": 0.009236,
     "end_time": "2023-02-23T04:10:01.187975",
     "exception": false,
     "start_time": "2023-02-23T04:10:01.178739",
     "status": "completed"
    },
    "scrolled": true,
    "tags": []
   },
   "source": [
    "from IPython.display import display, Markdown\n",
    "from TexSoup import TexSoup\n",
    "import re\n",
    "\n",
    "def bracket_error(source: str):\n",
    "    \"\"\" Find problematic portions of the document \"\"\"\n",
    "    \n",
    "    print(\"len(source)\", len(source))\n",
    "    \n",
    "    # Checking header\n",
    "    begin_doc = next(re.finditer(r'\\\\begin\\{document\\}', doc.source)).span()[1]\n",
    "    header = source[:begin_doc]\n",
    "    text = header + r\"\\n\\end{document}\"\n",
    "\n",
    "    try:\n",
    "        # print(\"Header check... \", end='')\n",
    "        TexSoup(text)\n",
    "        display(Markdown(f\"**[OK]** - Header\"))\n",
    "    except:\n",
    "        raise RuntimeError(\"Error in the header\")\n",
    "        \n",
    "    # Check the text per section until the end.\n",
    "    # Do not stop and try them all.\n",
    "    \n",
    "    problematic_text = []\n",
    "    \n",
    "    sections = ([(0, begin_doc, 'until first section')] + \n",
    "                [(g.span()[0], g.span()[1], g.group()) for g in re.finditer(r'\\\\section\\{.*\\}', source)] +\n",
    "                [(g.span()[0], g.span()[1], g.group()) for g in re.finditer(r'\\\\begin\\{appendix\\}', source)]\n",
    "               )\n",
    "    sections.append([len(source), len(source), 'end'])\n",
    "    \n",
    "    sections = sorted(sections, key=lambda x: x[0])\n",
    "    \n",
    "    prev_pos, prev_name = (0, 'header')\n",
    "    parsed = []\n",
    "    \n",
    "    for span, span_end, name in sections:\n",
    "\n",
    "        if span - prev_pos <= 0:\n",
    "            continue\n",
    "            \n",
    "\n",
    "        text = source[prev_pos:span]\n",
    "        if prev_pos > begin_doc:\n",
    "            text = r\"\\n\\begin{document}\" + text + r\"\\n\\end{document}\"\n",
    "        else:\n",
    "            text = text + r\"\\n\\end{document}\"\n",
    "        try:\n",
    "            #print(f\"{prev_pos}:{prev_name}-->{span}:{name} check... \", end='')\n",
    "            parsed.append(TexSoup(text, tolerance=1))  # allow not ending env\n",
    "            display(Markdown(f\"**[OK]** - *{prev_pos}*:{prev_name} &rarr; *{span}*:{name}\"))\n",
    "            # print(\"ok\")\n",
    "\n",
    "            prev_pos = span\n",
    "            prev_name = name\n",
    "        except:\n",
    "            # print(f\"error between {prev_pos} and {span}\")\n",
    "            display(Markdown(f\"**[ERR]** *{prev_pos}*:{prev_name} &rarr; *{span}*:{name}\"))\n",
    "            problematic_text.append((prev_pos, source[prev_pos:span]))\n",
    "            prev_pos = span\n",
    "            prev_name = name\n",
    "            # raise\n",
    "    return problematic_text, parsed\n",
    "\n",
    "\n",
    "def check_environment(text, offset=0):\n",
    "    \"\"\" Check environment \"\"\"\n",
    "    env = re.compile(r\"\\\\begin\\{(?P<env>.*)\\}(.*)\\\\end\\{(?P=env)\\}\", re.DOTALL)\n",
    "\n",
    "    for match in env.finditer(text):\n",
    "        beg, end = match.span()\n",
    "        beg += offset\n",
    "        end += offset\n",
    "        envname = match.groups()[0]\n",
    "        try:\n",
    "            latex.TexSoup(match.group())\n",
    "        except Exception as e:\n",
    "            display(e)\n",
    "            print(f\"Error in {envname:s} between {beg} and {end}\")\n",
    "            return match.groups()[1], beg, end"
   ]
  },
  {
   "cell_type": "raw",
   "id": "2315e835",
   "metadata": {
    "papermill": {
     "duration": 0.011861,
     "end_time": "2023-02-23T04:10:01.209104",
     "exception": false,
     "start_time": "2023-02-23T04:10:01.197243",
     "status": "completed"
    },
    "scrolled": false,
    "tags": []
   },
   "source": [
    "import importlib\n",
    "importlib.reload(latex)\n",
    "which = \"2204.03253\"\n",
    "paper_id = f'{which:s}'\n",
    "folder = f'tmp_{paper_id:s}'\n",
    "\n",
    "if not os.path.isdir(folder):\n",
    "    folder = retrieve_document_source(f\"{paper_id}\", f'tmp_{paper_id}')\n",
    "\n",
    "try:\n",
    "    doc = latex.LatexDocument(folder, validation=validation)    \n",
    "except AffiliationError as affilerror:\n",
    "    msg = f\"ArXiv:{paper_id:s} is not an MPIA paper... \" + str(affilerror)\n",
    "    print(msg)\n",
    "\n",
    "\n",
    "# Hack because sometimes author parsing does not work well\n",
    "if (len(doc.authors) != len(paper['authors'])):\n",
    "    doc._authors = paper['authors']\n",
    "if (doc.abstract) in (None, ''):\n",
    "    doc._abstract = paper['abstract']\n",
    "\n",
    "doc.comment = get_markdown_badge(paper_id) + \" _\" + paper['comments'] + \"_\"\n",
    "doc.highlight_authors_in_list(hl_list)\n",
    "\n",
    "full_md = doc.generate_markdown_text()"
   ]
  },
  {
   "cell_type": "raw",
   "id": "dd3781db",
   "metadata": {
    "papermill": {
     "duration": 0.009311,
     "end_time": "2023-02-23T04:10:01.227975",
     "exception": false,
     "start_time": "2023-02-23T04:10:01.218664",
     "status": "completed"
    },
    "scrolled": false,
    "tags": []
   },
   "source": [
    "doc"
   ]
  },
  {
   "cell_type": "raw",
   "id": "c6eed834",
   "metadata": {
    "papermill": {
     "duration": 0.009245,
     "end_time": "2023-02-23T04:10:01.246557",
     "exception": false,
     "start_time": "2023-02-23T04:10:01.237312",
     "status": "completed"
    },
    "tags": []
   },
   "source": [
    "# [check_environment(k) for k in bracket_error(doc.source)]\n",
    "_, _, a = latex.get_content_per_section(doc.source, verbose=True)\n",
    "if not a:\n",
    "    print(\"no issues per section\")\n",
    "for ak in a:\n",
    "    r = check_environment(ak[1], offset=ak[0])\n",
    "    print(r[1], r[2])\n",
    "    print(r[0])"
   ]
  },
  {
   "cell_type": "code",
   "execution_count": null,
   "id": "71ce768a",
   "metadata": {
    "papermill": {
     "duration": 0.009268,
     "end_time": "2023-02-23T04:10:01.265152",
     "exception": false,
     "start_time": "2023-02-23T04:10:01.255884",
     "status": "completed"
    },
    "tags": []
   },
   "outputs": [],
   "source": []
  }
 ],
 "metadata": {
  "kernelspec": {
   "display_name": "Python 3 (ipykernel)",
   "language": "python",
   "name": "python3"
  },
  "language_info": {
   "codemirror_mode": {
    "name": "ipython",
    "version": 3
   },
   "file_extension": ".py",
   "mimetype": "text/x-python",
   "name": "python",
   "nbconvert_exporter": "python",
   "pygments_lexer": "ipython3",
   "version": "3.9.16"
  },
  "papermill": {
   "default_parameters": {},
   "duration": 91.525973,
   "end_time": "2023-02-23T04:10:01.492934",
   "environment_variables": {},
   "exception": null,
   "input_path": "MPIA daily digest.ipynb",
   "output_path": "log.ipynb",
   "parameters": {},
   "start_time": "2023-02-23T04:08:29.966961",
   "version": "2.4.0"
  },
  "vscode": {
   "interpreter": {
    "hash": "aee8b7b246df8f9039afb4144a1f6fd8d2ca17a180786b69acc140d282b71a49"
   }
  },
  "widgets": {
   "application/vnd.jupyter.widget-state+json": {
    "state": {
     "0a58867e9d0b4024a1a997a748804283": {
      "model_module": "@jupyter-widgets/controls",
      "model_module_version": "2.0.0",
      "model_name": "HTMLStyleModel",
      "state": {
       "_model_module": "@jupyter-widgets/controls",
       "_model_module_version": "2.0.0",
       "_model_name": "HTMLStyleModel",
       "_view_count": null,
       "_view_module": "@jupyter-widgets/base",
       "_view_module_version": "2.0.0",
       "_view_name": "StyleView",
       "background": null,
       "description_width": "",
       "font_size": null,
       "text_color": null
      }
     },
     "1e77729543454b488da06adb0fceae66": {
      "model_module": "@jupyter-widgets/controls",
      "model_module_version": "2.0.0",
      "model_name": "ProgressStyleModel",
      "state": {
       "_model_module": "@jupyter-widgets/controls",
       "_model_module_version": "2.0.0",
       "_model_name": "ProgressStyleModel",
       "_view_count": null,
       "_view_module": "@jupyter-widgets/base",
       "_view_module_version": "2.0.0",
       "_view_name": "StyleView",
       "bar_color": null,
       "description_width": ""
      }
     },
     "3f387a96ed48458587ca25d5320ae694": {
      "model_module": "@jupyter-widgets/controls",
      "model_module_version": "2.0.0",
      "model_name": "HTMLModel",
      "state": {
       "_dom_classes": [],
       "_model_module": "@jupyter-widgets/controls",
       "_model_module_version": "2.0.0",
       "_model_name": "HTMLModel",
       "_view_count": null,
       "_view_module": "@jupyter-widgets/controls",
       "_view_module_version": "2.0.0",
       "_view_name": "HTMLView",
       "description": "",
       "description_allow_html": false,
       "layout": "IPY_MODEL_ceeea6d4e0fb4d6daa91454b2a8bc989",
       "placeholder": "​",
       "style": "IPY_MODEL_0a58867e9d0b4024a1a997a748804283",
       "tabbable": null,
       "tooltip": null,
       "value": " 18/18 [01:00&lt;00:00,  2.86s/it]"
      }
     },
     "5e102348e68c4d02b69f44eeb53d2343": {
      "model_module": "@jupyter-widgets/controls",
      "model_module_version": "2.0.0",
      "model_name": "HTMLModel",
      "state": {
       "_dom_classes": [],
       "_model_module": "@jupyter-widgets/controls",
       "_model_module_version": "2.0.0",
       "_model_name": "HTMLModel",
       "_view_count": null,
       "_view_module": "@jupyter-widgets/controls",
       "_view_module_version": "2.0.0",
       "_view_name": "HTMLView",
       "description": "",
       "description_allow_html": false,
       "layout": "IPY_MODEL_decf285bd31c4eee850894b59d698c54",
       "placeholder": "​",
       "style": "IPY_MODEL_ef52c98c039c49a1b6ccca663ea794e0",
       "tabbable": null,
       "tooltip": null,
       "value": "100%"
      }
     },
     "5fe53a21f48f4bd38743cdbd334b7f48": {
      "model_module": "@jupyter-widgets/base",
      "model_module_version": "2.0.0",
      "model_name": "LayoutModel",
      "state": {
       "_model_module": "@jupyter-widgets/base",
       "_model_module_version": "2.0.0",
       "_model_name": "LayoutModel",
       "_view_count": null,
       "_view_module": "@jupyter-widgets/base",
       "_view_module_version": "2.0.0",
       "_view_name": "LayoutView",
       "align_content": null,
       "align_items": null,
       "align_self": null,
       "border_bottom": null,
       "border_left": null,
       "border_right": null,
       "border_top": null,
       "bottom": null,
       "display": null,
       "flex": null,
       "flex_flow": null,
       "grid_area": null,
       "grid_auto_columns": null,
       "grid_auto_flow": null,
       "grid_auto_rows": null,
       "grid_column": null,
       "grid_gap": null,
       "grid_row": null,
       "grid_template_areas": null,
       "grid_template_columns": null,
       "grid_template_rows": null,
       "height": null,
       "justify_content": null,
       "justify_items": null,
       "left": null,
       "margin": null,
       "max_height": null,
       "max_width": null,
       "min_height": null,
       "min_width": null,
       "object_fit": null,
       "object_position": null,
       "order": null,
       "overflow": null,
       "padding": null,
       "right": null,
       "top": null,
       "visibility": null,
       "width": null
      }
     },
     "84f3bff08c7349cc9c9ed57ecb8ec803": {
      "model_module": "@jupyter-widgets/base",
      "model_module_version": "2.0.0",
      "model_name": "LayoutModel",
      "state": {
       "_model_module": "@jupyter-widgets/base",
       "_model_module_version": "2.0.0",
       "_model_name": "LayoutModel",
       "_view_count": null,
       "_view_module": "@jupyter-widgets/base",
       "_view_module_version": "2.0.0",
       "_view_name": "LayoutView",
       "align_content": null,
       "align_items": null,
       "align_self": null,
       "border_bottom": null,
       "border_left": null,
       "border_right": null,
       "border_top": null,
       "bottom": null,
       "display": null,
       "flex": null,
       "flex_flow": null,
       "grid_area": null,
       "grid_auto_columns": null,
       "grid_auto_flow": null,
       "grid_auto_rows": null,
       "grid_column": null,
       "grid_gap": null,
       "grid_row": null,
       "grid_template_areas": null,
       "grid_template_columns": null,
       "grid_template_rows": null,
       "height": null,
       "justify_content": null,
       "justify_items": null,
       "left": null,
       "margin": null,
       "max_height": null,
       "max_width": null,
       "min_height": null,
       "min_width": null,
       "object_fit": null,
       "object_position": null,
       "order": null,
       "overflow": null,
       "padding": null,
       "right": null,
       "top": null,
       "visibility": null,
       "width": null
      }
     },
     "c35aef19911f423a8d659c58b03cd77e": {
      "model_module": "@jupyter-widgets/controls",
      "model_module_version": "2.0.0",
      "model_name": "FloatProgressModel",
      "state": {
       "_dom_classes": [],
       "_model_module": "@jupyter-widgets/controls",
       "_model_module_version": "2.0.0",
       "_model_name": "FloatProgressModel",
       "_view_count": null,
       "_view_module": "@jupyter-widgets/controls",
       "_view_module_version": "2.0.0",
       "_view_name": "ProgressView",
       "bar_style": "success",
       "description": "",
       "description_allow_html": false,
       "layout": "IPY_MODEL_5fe53a21f48f4bd38743cdbd334b7f48",
       "max": 18.0,
       "min": 0.0,
       "orientation": "horizontal",
       "style": "IPY_MODEL_1e77729543454b488da06adb0fceae66",
       "tabbable": null,
       "tooltip": null,
       "value": 18.0
      }
     },
     "ceeea6d4e0fb4d6daa91454b2a8bc989": {
      "model_module": "@jupyter-widgets/base",
      "model_module_version": "2.0.0",
      "model_name": "LayoutModel",
      "state": {
       "_model_module": "@jupyter-widgets/base",
       "_model_module_version": "2.0.0",
       "_model_name": "LayoutModel",
       "_view_count": null,
       "_view_module": "@jupyter-widgets/base",
       "_view_module_version": "2.0.0",
       "_view_name": "LayoutView",
       "align_content": null,
       "align_items": null,
       "align_self": null,
       "border_bottom": null,
       "border_left": null,
       "border_right": null,
       "border_top": null,
       "bottom": null,
       "display": null,
       "flex": null,
       "flex_flow": null,
       "grid_area": null,
       "grid_auto_columns": null,
       "grid_auto_flow": null,
       "grid_auto_rows": null,
       "grid_column": null,
       "grid_gap": null,
       "grid_row": null,
       "grid_template_areas": null,
       "grid_template_columns": null,
       "grid_template_rows": null,
       "height": null,
       "justify_content": null,
       "justify_items": null,
       "left": null,
       "margin": null,
       "max_height": null,
       "max_width": null,
       "min_height": null,
       "min_width": null,
       "object_fit": null,
       "object_position": null,
       "order": null,
       "overflow": null,
       "padding": null,
       "right": null,
       "top": null,
       "visibility": null,
       "width": null
      }
     },
     "decf285bd31c4eee850894b59d698c54": {
      "model_module": "@jupyter-widgets/base",
      "model_module_version": "2.0.0",
      "model_name": "LayoutModel",
      "state": {
       "_model_module": "@jupyter-widgets/base",
       "_model_module_version": "2.0.0",
       "_model_name": "LayoutModel",
       "_view_count": null,
       "_view_module": "@jupyter-widgets/base",
       "_view_module_version": "2.0.0",
       "_view_name": "LayoutView",
       "align_content": null,
       "align_items": null,
       "align_self": null,
       "border_bottom": null,
       "border_left": null,
       "border_right": null,
       "border_top": null,
       "bottom": null,
       "display": null,
       "flex": null,
       "flex_flow": null,
       "grid_area": null,
       "grid_auto_columns": null,
       "grid_auto_flow": null,
       "grid_auto_rows": null,
       "grid_column": null,
       "grid_gap": null,
       "grid_row": null,
       "grid_template_areas": null,
       "grid_template_columns": null,
       "grid_template_rows": null,
       "height": null,
       "justify_content": null,
       "justify_items": null,
       "left": null,
       "margin": null,
       "max_height": null,
       "max_width": null,
       "min_height": null,
       "min_width": null,
       "object_fit": null,
       "object_position": null,
       "order": null,
       "overflow": null,
       "padding": null,
       "right": null,
       "top": null,
       "visibility": null,
       "width": null
      }
     },
     "e0ad140b64aa403498aa9e7c6ccbe08e": {
      "model_module": "@jupyter-widgets/controls",
      "model_module_version": "2.0.0",
      "model_name": "HBoxModel",
      "state": {
       "_dom_classes": [],
       "_model_module": "@jupyter-widgets/controls",
       "_model_module_version": "2.0.0",
       "_model_name": "HBoxModel",
       "_view_count": null,
       "_view_module": "@jupyter-widgets/controls",
       "_view_module_version": "2.0.0",
       "_view_name": "HBoxView",
       "box_style": "",
       "children": [
        "IPY_MODEL_5e102348e68c4d02b69f44eeb53d2343",
        "IPY_MODEL_c35aef19911f423a8d659c58b03cd77e",
        "IPY_MODEL_3f387a96ed48458587ca25d5320ae694"
       ],
       "layout": "IPY_MODEL_84f3bff08c7349cc9c9ed57ecb8ec803",
       "tabbable": null,
       "tooltip": null
      }
     },
     "ef52c98c039c49a1b6ccca663ea794e0": {
      "model_module": "@jupyter-widgets/controls",
      "model_module_version": "2.0.0",
      "model_name": "HTMLStyleModel",
      "state": {
       "_model_module": "@jupyter-widgets/controls",
       "_model_module_version": "2.0.0",
       "_model_name": "HTMLStyleModel",
       "_view_count": null,
       "_view_module": "@jupyter-widgets/base",
       "_view_module_version": "2.0.0",
       "_view_name": "StyleView",
       "background": null,
       "description_width": "",
       "font_size": null,
       "text_color": null
      }
     }
    },
    "version_major": 2,
    "version_minor": 0
   }
  }
 },
 "nbformat": 4,
 "nbformat_minor": 5
}