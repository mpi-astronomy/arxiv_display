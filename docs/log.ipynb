{
 "cells": [
  {
   "cell_type": "markdown",
   "id": "92bcb855",
   "metadata": {
    "papermill": {
     "duration": 0.005725,
     "end_time": "2022-12-21T04:05:36.945681",
     "exception": false,
     "start_time": "2022-12-21T04:05:36.939956",
     "status": "completed"
    },
    "tags": []
   },
   "source": [
    "# MPIA Arxiv on Deck 2\n",
    "\n",
    "Contains the steps to produce the paper extractions."
   ]
  },
  {
   "cell_type": "code",
   "execution_count": 1,
   "id": "3a0d6e11",
   "metadata": {
    "execution": {
     "iopub.execute_input": "2022-12-21T04:05:36.956229Z",
     "iopub.status.busy": "2022-12-21T04:05:36.955628Z",
     "iopub.status.idle": "2022-12-21T04:05:37.163457Z",
     "shell.execute_reply": "2022-12-21T04:05:37.162742Z"
    },
    "papermill": {
     "duration": 0.214911,
     "end_time": "2022-12-21T04:05:37.165434",
     "exception": false,
     "start_time": "2022-12-21T04:05:36.950523",
     "status": "completed"
    },
    "tags": []
   },
   "outputs": [],
   "source": [
    "# Imports\n",
    "import os\n",
    "from IPython.display import Markdown, display\n",
    "from tqdm.notebook import tqdm\n",
    "import warnings\n",
    "from PIL import Image \n",
    "\n",
    "# requires arxiv_on_deck_2\n",
    "\n",
    "from arxiv_on_deck_2.arxiv2 import (get_new_papers, \n",
    "                                    get_paper_from_identifier,\n",
    "                                    retrieve_document_source, \n",
    "                                    get_markdown_badge)\n",
    "from arxiv_on_deck_2 import (latex, \n",
    "                             mpia,\n",
    "                             highlight_authors_in_list)\n",
    "\n",
    "# Sometimes images are really big\n",
    "Image.MAX_IMAGE_PIXELS = 1000000000 "
   ]
  },
  {
   "cell_type": "code",
   "execution_count": 2,
   "id": "22aa9d44",
   "metadata": {
    "execution": {
     "iopub.execute_input": "2022-12-21T04:05:37.175388Z",
     "iopub.status.busy": "2022-12-21T04:05:37.174729Z",
     "iopub.status.idle": "2022-12-21T04:05:37.179829Z",
     "shell.execute_reply": "2022-12-21T04:05:37.179173Z"
    },
    "papermill": {
     "duration": 0.012006,
     "end_time": "2022-12-21T04:05:37.181543",
     "exception": false,
     "start_time": "2022-12-21T04:05:37.169537",
     "status": "completed"
    },
    "tags": []
   },
   "outputs": [],
   "source": [
    "# Some useful definitions.\n",
    "\n",
    "class AffiliationWarning(UserWarning):\n",
    "    pass\n",
    "\n",
    "class AffiliationError(RuntimeError):\n",
    "    pass\n",
    "\n",
    "def validation(source: str):\n",
    "    \"\"\"Raises error paper during parsing of source file\n",
    "    \n",
    "    Allows checks before parsing TeX code.\n",
    "    \n",
    "    Raises AffiliationWarning\n",
    "    \"\"\"\n",
    "    check = mpia.affiliation_verifications(source, verbose=True)\n",
    "    if check is not True:\n",
    "        raise AffiliationError(\"mpia.affiliation_verifications: \" + check)\n",
    "\n",
    "        \n",
    "warnings.simplefilter('always', AffiliationWarning)"
   ]
  },
  {
   "cell_type": "code",
   "execution_count": 3,
   "id": "14622700",
   "metadata": {
    "execution": {
     "iopub.execute_input": "2022-12-21T04:05:37.190762Z",
     "iopub.status.busy": "2022-12-21T04:05:37.190139Z",
     "iopub.status.idle": "2022-12-21T04:05:37.194038Z",
     "shell.execute_reply": "2022-12-21T04:05:37.193400Z"
    },
    "papermill": {
     "duration": 0.010125,
     "end_time": "2022-12-21T04:05:37.195515",
     "exception": false,
     "start_time": "2022-12-21T04:05:37.185390",
     "status": "completed"
    },
    "tags": []
   },
   "outputs": [],
   "source": [
    "# additional CSS to consider. \n",
    "# TODO: Current into each exported file. \n",
    "#       This should be set once into the webpages directly.\n",
    "#       With only the class/id definitions in the .md files.\n",
    "\n",
    "debug_html = \"\"\"\n",
    "<style>\n",
    "#wrap{ overflow:auto; }\n",
    "#fig1{ background:yellow; width:100%; float:left; padding:5px;  }\n",
    "#fig2{ background:red; width:50%; float:left; clear:left; padding:5px;  }\n",
    "#fig3{ background:green; width:50%; float:left; padding:5px;   }\n",
    ".macros{ background:yellow; visibility:visible;}\n",
    "h1 {margin: 0 0 0 0;}\n",
    "mark {background-color:#fff3b6;}\n",
    "img {object-fit:contain; max-height:250px; display:inline-block; text-align: center;}\n",
    "</style>\n",
    "\"\"\" \n",
    "html = \"\"\"\n",
    "<style>\n",
    "#wrap{ overflow:auto; }\n",
    "#fig1{ width:100%; float:left; padding: 5px;  }\n",
    "#fig2{ width:50%; float:left; clear:left; padding: 5px;  }\n",
    "#fig3{ width:50%; float:left; padding: 5px;  }\n",
    ".macros{ visibility:hidden; height:0px; }\n",
    "h1 {margin: 0em 0 0 0;}\n",
    "mark {background-color:#fff3b6;}\n",
    "img {object-fit:contain; max-height:250px; display:inline-block; text-align: center;}\n",
    "</style>\n",
    "\"\"\""
   ]
  },
  {
   "cell_type": "markdown",
   "id": "14bd6310",
   "metadata": {
    "papermill": {
     "duration": 0.003795,
     "end_time": "2022-12-21T04:05:37.203195",
     "exception": false,
     "start_time": "2022-12-21T04:05:37.199400",
     "status": "completed"
    },
    "tags": []
   },
   "source": [
    "## get list of arxiv paper candidates\n",
    "\n",
    "We use the MPIA mitarbeiter list webpage from mpia.de to get author names\n",
    "We then get all new papers from Arxiv and match authors"
   ]
  },
  {
   "cell_type": "code",
   "execution_count": 4,
   "id": "2645e73a",
   "metadata": {
    "execution": {
     "iopub.execute_input": "2022-12-21T04:05:37.212242Z",
     "iopub.status.busy": "2022-12-21T04:05:37.211755Z",
     "iopub.status.idle": "2022-12-21T04:06:33.354999Z",
     "shell.execute_reply": "2022-12-21T04:06:33.354328Z"
    },
    "papermill": {
     "duration": 56.153913,
     "end_time": "2022-12-21T04:06:33.360927",
     "exception": false,
     "start_time": "2022-12-21T04:05:37.207014",
     "status": "completed"
    },
    "tags": []
   },
   "outputs": [
    {
     "name": "stdout",
     "output_type": "stream",
     "text": [
      "Arxiv has 59 new papers today\n",
      "          27 with possible author matches\n"
     ]
    }
   ],
   "source": [
    "# get list from MPIA website\n",
    "# it automatically filters identified non-scientists :func:`mpia.filter_non_scientists`\n",
    "mpia_authors = mpia.get_mpia_mitarbeiter_list()\n",
    "new_papers = get_new_papers()\n",
    "# add manual references\n",
    "add_paper_refs = []\n",
    "new_papers.extend([get_paper_from_identifier(k) for k in add_paper_refs])\n",
    "\n",
    "# select only papers with matching author names and highlight authors\n",
    "hl_list = [k[0] for k in mpia_authors]\n",
    "\n",
    "candidates = []\n",
    "for paperk in new_papers:\n",
    "    hl_authors = highlight_authors_in_list(paperk['authors'], hl_list)\n",
    "    matches = [(hl, orig) for hl, orig in zip(hl_authors, paperk['authors']) if 'mark' in hl]\n",
    "    paperk['authors'] = hl_authors\n",
    "    if matches:\n",
    "        candidates.append(paperk)\n",
    "print(\"\"\"Arxiv has {0:,d} new papers today\"\"\".format(len(new_papers)))        \n",
    "print(\"\"\"          {0:,d} with possible author matches\"\"\".format(len(candidates)))"
   ]
  },
  {
   "cell_type": "markdown",
   "id": "3543b34a",
   "metadata": {
    "papermill": {
     "duration": 0.004082,
     "end_time": "2022-12-21T04:06:33.369214",
     "exception": false,
     "start_time": "2022-12-21T04:06:33.365132",
     "status": "completed"
    },
    "tags": []
   },
   "source": [
    "# Parse sources and generate relevant outputs\n",
    "\n",
    "From the candidates, we do the following steps:\n",
    "* get their tarball from ArXiv (and extract data)\n",
    "* find the main .tex file: find one with \\documentclass{...} (sometimes it's non trivial)\n",
    "* Check affiliations with :func:`validation`, which uses :func:`mpia.affiliation_verifications`\n",
    "* If passing the affiliations: we parse the .tex source\n",
    "   * inject sub-documents into the main (flatten the main document)\n",
    "   * parse structure, extract information (title, abstract, authors, figures...)\n",
    "   * handles `\\graphicspath` if provided\n",
    "* Generate the .md document."
   ]
  },
  {
   "cell_type": "code",
   "execution_count": 5,
   "id": "9576b79e",
   "metadata": {
    "execution": {
     "iopub.execute_input": "2022-12-21T04:06:33.378922Z",
     "iopub.status.busy": "2022-12-21T04:06:33.378451Z",
     "iopub.status.idle": "2022-12-21T04:10:10.461196Z",
     "shell.execute_reply": "2022-12-21T04:10:10.460423Z"
    },
    "papermill": {
     "duration": 217.090083,
     "end_time": "2022-12-21T04:10:10.463306",
     "exception": false,
     "start_time": "2022-12-21T04:06:33.373223",
     "status": "completed"
    },
    "scrolled": false,
    "tags": []
   },
   "outputs": [
    {
     "data": {
      "application/vnd.jupyter.widget-view+json": {
       "model_id": "009877b7e81f4694a9d675660fb9e976",
       "version_major": 2,
       "version_minor": 0
      },
      "text/plain": [
       "  0%|          | 0/26 [00:00<?, ?it/s]"
      ]
     },
     "metadata": {},
     "output_type": "display_data"
    },
    {
     "name": "stdout",
     "output_type": "stream",
     "text": [
      "Retrieving document from  https://arxiv.org/e-print/2212.09752\n"
     ]
    },
    {
     "name": "stdout",
     "output_type": "stream",
     "text": [
      "extracting tarball to tmp_2212.09752..."
     ]
    },
    {
     "name": "stdout",
     "output_type": "stream",
     "text": [
      " done.\n",
      "Retrieving document from  https://arxiv.org/e-print/2212.09763\n"
     ]
    },
    {
     "name": "stdout",
     "output_type": "stream",
     "text": [
      "extracting tarball to tmp_2212.09763..."
     ]
    },
    {
     "name": "stdout",
     "output_type": "stream",
     "text": [
      " done.\n",
      "Retrieving document from  https://arxiv.org/e-print/2212.09766\n"
     ]
    },
    {
     "name": "stdout",
     "output_type": "stream",
     "text": [
      "extracting tarball to tmp_2212.09766..."
     ]
    },
    {
     "name": "stdout",
     "output_type": "stream",
     "text": [
      " done.\n"
     ]
    },
    {
     "name": "stderr",
     "output_type": "stream",
     "text": [
      "/opt/hostedtoolcache/Python/3.9.16/x64/lib/python3.9/site-packages/IPython/core/interactiveshell.py:3433: LatexWarning: Multiple tex files.\n",
      "\n",
      "  exec(code_obj, self.user_global_ns, self.user_ns)\n",
      "/opt/hostedtoolcache/Python/3.9.16/x64/lib/python3.9/site-packages/IPython/core/interactiveshell.py:3433: LatexWarning: Found documentclass in tmp_2212.09766/main.tex\n",
      "\n",
      "  exec(code_obj, self.user_global_ns, self.user_ns)\n",
      "/opt/hostedtoolcache/Python/3.9.16/x64/lib/python3.9/site-packages/arxiv_on_deck_2/latex.py:292: LatexWarning: Latex injecting: 'data_tables' from 'tmp_2212.09766/data_tables.tex'\n",
      "  warnings.warn(LatexWarning(f\"Latex injecting: '{ext}' from '{subsource}'\"))\n"
     ]
    },
    {
     "name": "stdout",
     "output_type": "stream",
     "text": [
      "Retrieving document from  https://arxiv.org/e-print/2212.09769\n"
     ]
    },
    {
     "name": "stdout",
     "output_type": "stream",
     "text": [
      "extracting tarball to tmp_2212.09769..."
     ]
    },
    {
     "name": "stdout",
     "output_type": "stream",
     "text": [
      " done.\n",
      "Retrieving document from  https://arxiv.org/e-print/2212.09774\n"
     ]
    },
    {
     "name": "stderr",
     "output_type": "stream",
     "text": [
      "/opt/hostedtoolcache/Python/3.9.16/x64/lib/python3.9/site-packages/IPython/core/interactiveshell.py:3433: LatexWarning: Multiple tex files.\n",
      "\n",
      "  exec(code_obj, self.user_global_ns, self.user_ns)\n",
      "/opt/hostedtoolcache/Python/3.9.16/x64/lib/python3.9/site-packages/IPython/core/interactiveshell.py:3433: LatexWarning: Found documentclass in tmp_2212.09769/tnj1338_hzrg.tex\n",
      "\n",
      "  exec(code_obj, self.user_global_ns, self.user_ns)\n"
     ]
    },
    {
     "name": "stdout",
     "output_type": "stream",
     "text": [
      "extracting tarball to tmp_2212.09774..."
     ]
    },
    {
     "name": "stdout",
     "output_type": "stream",
     "text": [
      " done.\n",
      "Retrieving document from  https://arxiv.org/e-print/2212.09780\n"
     ]
    },
    {
     "name": "stderr",
     "output_type": "stream",
     "text": [
      "/opt/hostedtoolcache/Python/3.9.16/x64/lib/python3.9/site-packages/IPython/core/interactiveshell.py:3433: LatexWarning: Multiple tex files.\n",
      "\n",
      "  exec(code_obj, self.user_global_ns, self.user_ns)\n",
      "/opt/hostedtoolcache/Python/3.9.16/x64/lib/python3.9/site-packages/IPython/core/interactiveshell.py:3433: LatexWarning: Found documentclass in tmp_2212.09774/natbib.tex\n",
      "\n",
      "  exec(code_obj, self.user_global_ns, self.user_ns)\n"
     ]
    },
    {
     "name": "stdout",
     "output_type": "stream",
     "text": [
      "extracting tarball to tmp_2212.09780..."
     ]
    },
    {
     "name": "stdout",
     "output_type": "stream",
     "text": [
      " done.\n",
      "Retrieving document from  https://arxiv.org/e-print/2212.09815\n"
     ]
    },
    {
     "name": "stdout",
     "output_type": "stream",
     "text": [
      "extracting tarball to tmp_2212.09815..."
     ]
    },
    {
     "name": "stdout",
     "output_type": "stream",
     "text": [
      " done.\n",
      "Retrieving document from  https://arxiv.org/e-print/2212.09850\n"
     ]
    },
    {
     "name": "stdout",
     "output_type": "stream",
     "text": [
      "extracting tarball to tmp_2212.09850..."
     ]
    },
    {
     "name": "stdout",
     "output_type": "stream",
     "text": [
      " done.\n",
      "Retrieving document from  https://arxiv.org/e-print/2212.09909\n"
     ]
    },
    {
     "name": "stdout",
     "output_type": "stream",
     "text": [
      "extracting tarball to tmp_2212.09909..."
     ]
    },
    {
     "name": "stdout",
     "output_type": "stream",
     "text": [
      " done.\n",
      "Retrieving document from  https://arxiv.org/e-print/2212.09984\n"
     ]
    },
    {
     "name": "stdout",
     "output_type": "stream",
     "text": [
      "extracting tarball to tmp_2212.09984..."
     ]
    },
    {
     "name": "stdout",
     "output_type": "stream",
     "text": [
      " done.\n",
      "Retrieving document from  https://arxiv.org/e-print/2212.10037\n"
     ]
    },
    {
     "name": "stdout",
     "output_type": "stream",
     "text": [
      "extracting tarball to tmp_2212.10037..."
     ]
    },
    {
     "name": "stdout",
     "output_type": "stream",
     "text": [
      " done.\n",
      "Retrieving document from  https://arxiv.org/e-print/2212.10056\n"
     ]
    },
    {
     "name": "stderr",
     "output_type": "stream",
     "text": [
      "/opt/hostedtoolcache/Python/3.9.16/x64/lib/python3.9/site-packages/IPython/core/interactiveshell.py:3433: LatexWarning: Multiple tex files.\n",
      "\n",
      "  exec(code_obj, self.user_global_ns, self.user_ns)\n",
      "/opt/hostedtoolcache/Python/3.9.16/x64/lib/python3.9/site-packages/IPython/core/interactiveshell.py:3433: LatexWarning: Found documentclass in tmp_2212.10037/A_New_Period_Determination_Method_for_Periodic_Variable_Stars.tex\n",
      "\n",
      "  exec(code_obj, self.user_global_ns, self.user_ns)\n"
     ]
    },
    {
     "name": "stdout",
     "output_type": "stream",
     "text": [
      "extracting tarball to tmp_2212.10056..."
     ]
    },
    {
     "name": "stdout",
     "output_type": "stream",
     "text": [
      " done.\n",
      "Retrieving document from  https://arxiv.org/e-print/2212.10059\n"
     ]
    },
    {
     "name": "stdout",
     "output_type": "stream",
     "text": [
      "extracting tarball to tmp_2212.10059..."
     ]
    },
    {
     "name": "stdout",
     "output_type": "stream",
     "text": [
      " done.\n",
      "Retrieving document from  https://arxiv.org/e-print/2212.10072\n"
     ]
    },
    {
     "name": "stderr",
     "output_type": "stream",
     "text": [
      "/opt/hostedtoolcache/Python/3.9.16/x64/lib/python3.9/site-packages/IPython/core/interactiveshell.py:3433: LatexWarning: Multiple tex files.\n",
      "\n",
      "  exec(code_obj, self.user_global_ns, self.user_ns)\n",
      "/opt/hostedtoolcache/Python/3.9.16/x64/lib/python3.9/site-packages/IPython/core/interactiveshell.py:3433: LatexWarning: Found documentclass in tmp_2212.10059/cosmo-dragon.tex\n",
      "\n",
      "  exec(code_obj, self.user_global_ns, self.user_ns)\n"
     ]
    },
    {
     "name": "stdout",
     "output_type": "stream",
     "text": [
      "extracting tarball to tmp_2212.10072..."
     ]
    },
    {
     "name": "stdout",
     "output_type": "stream",
     "text": [
      " done.\n",
      "Retrieving document from  https://arxiv.org/e-print/2212.10081\n"
     ]
    },
    {
     "name": "stdout",
     "output_type": "stream",
     "text": [
      "extracting tarball to tmp_2212.10081..."
     ]
    },
    {
     "name": "stdout",
     "output_type": "stream",
     "text": [
      " done.\n",
      "Retrieving document from  https://arxiv.org/e-print/2212.10083\n"
     ]
    },
    {
     "name": "stdout",
     "output_type": "stream",
     "text": [
      "extracting tarball to tmp_2212.10083..."
     ]
    },
    {
     "name": "stdout",
     "output_type": "stream",
     "text": [
      " done.\n",
      "Retrieving document from  https://arxiv.org/e-print/2212.10088\n"
     ]
    },
    {
     "name": "stderr",
     "output_type": "stream",
     "text": [
      "/opt/hostedtoolcache/Python/3.9.16/x64/lib/python3.9/site-packages/IPython/core/interactiveshell.py:3433: LatexWarning: Multiple tex files.\n",
      "\n",
      "  exec(code_obj, self.user_global_ns, self.user_ns)\n",
      "/opt/hostedtoolcache/Python/3.9.16/x64/lib/python3.9/site-packages/IPython/core/interactiveshell.py:3433: LatexWarning: Found documentclass in tmp_2212.10083/ETEST_DR.tex\n",
      "\n",
      "  exec(code_obj, self.user_global_ns, self.user_ns)\n",
      "/opt/hostedtoolcache/Python/3.9.16/x64/lib/python3.9/site-packages/arxiv_on_deck_2/latex.py:292: LatexWarning: Latex injecting: 'nomenclature.tex' from 'tmp_2212.10083/nomenclature.tex'\n",
      "  warnings.warn(LatexWarning(f\"Latex injecting: '{ext}' from '{subsource}'\"))\n",
      "/opt/hostedtoolcache/Python/3.9.16/x64/lib/python3.9/site-packages/arxiv_on_deck_2/latex.py:292: LatexWarning: Latex injecting: './Summary/Summary' from 'tmp_2212.10083/Summary/Summary.tex'\n",
      "  warnings.warn(LatexWarning(f\"Latex injecting: '{ext}' from '{subsource}'\"))\n",
      "/opt/hostedtoolcache/Python/3.9.16/x64/lib/python3.9/site-packages/arxiv_on_deck_2/latex.py:292: LatexWarning: Latex injecting: 'ETpathfinder_subsystems/orga.tex' from 'tmp_2212.10083/ETEST_subsystems/orga.tex'\n",
      "  warnings.warn(LatexWarning(f\"Latex injecting: '{ext}' from '{subsource}'\"))\n",
      "/opt/hostedtoolcache/Python/3.9.16/x64/lib/python3.9/site-packages/arxiv_on_deck_2/latex.py:292: LatexWarning: Latex injecting: 'ETEST_subsystems/WP2_Optical_engineering/Lasers_and_optics.tex' from 'tmp_2212.10083/ETEST_subsystems/WP2_Optical_engineering/Lasers_and_optics.tex'\n",
      "  warnings.warn(LatexWarning(f\"Latex injecting: '{ext}' from '{subsource}'\"))\n",
      "/opt/hostedtoolcache/Python/3.9.16/x64/lib/python3.9/site-packages/arxiv_on_deck_2/latex.py:292: LatexWarning: Latex injecting: 'ETEST_subsystems/WP1_Ultracold_vibration_control/Cryogenics_and_seismic_isolation.tex' from 'tmp_2212.10083/ETEST_subsystems/WP1_Ultracold_vibration_control/Cryogenics_and_seismic_isolation.tex'\n",
      "  warnings.warn(LatexWarning(f\"Latex injecting: '{ext}' from '{subsource}'\"))\n",
      "/opt/hostedtoolcache/Python/3.9.16/x64/lib/python3.9/site-packages/arxiv_on_deck_2/latex.py:292: LatexWarning: Latex injecting: 'Intro/Aims_of_the_ETEST_prototype_project' from 'tmp_2212.10083/Intro/Aims_of_the_ETEST_prototype_project.tex'\n",
      "  warnings.warn(LatexWarning(f\"Latex injecting: '{ext}' from '{subsource}'\"))\n",
      "/opt/hostedtoolcache/Python/3.9.16/x64/lib/python3.9/site-packages/arxiv_on_deck_2/latex.py:292: LatexWarning: Latex injecting: 'cover.tex' from 'tmp_2212.10083/cover.tex'\n",
      "  warnings.warn(LatexWarning(f\"Latex injecting: '{ext}' from '{subsource}'\"))\n",
      "/opt/hostedtoolcache/Python/3.9.16/x64/lib/python3.9/site-packages/arxiv_on_deck_2/latex.py:292: LatexWarning: Latex injecting: 'structure.tex' from 'tmp_2212.10083/structure.tex'\n",
      "  warnings.warn(LatexWarning(f\"Latex injecting: '{ext}' from '{subsource}'\"))\n"
     ]
    },
    {
     "name": "stdout",
     "output_type": "stream",
     "text": [
      "extracting tarball to tmp_2212.10088... done.\n",
      "Retrieving document from  https://arxiv.org/e-print/2212.10107\n"
     ]
    },
    {
     "name": "stdout",
     "output_type": "stream",
     "text": [
      "extracting tarball to tmp_2212.10107..."
     ]
    },
    {
     "name": "stdout",
     "output_type": "stream",
     "text": [
      " done.\n",
      "Retrieving document from  https://arxiv.org/e-print/2212.10113\n"
     ]
    },
    {
     "name": "stdout",
     "output_type": "stream",
     "text": [
      "extracting tarball to tmp_2212.10113..."
     ]
    },
    {
     "name": "stdout",
     "output_type": "stream",
     "text": [
      " done.\n",
      "Retrieving document from  https://arxiv.org/e-print/2212.10133\n"
     ]
    },
    {
     "name": "stderr",
     "output_type": "stream",
     "text": [
      "/opt/hostedtoolcache/Python/3.9.16/x64/lib/python3.9/site-packages/IPython/core/interactiveshell.py:3433: LatexWarning: Multiple tex files.\n",
      "\n",
      "  exec(code_obj, self.user_global_ns, self.user_ns)\n",
      "/opt/hostedtoolcache/Python/3.9.16/x64/lib/python3.9/site-packages/IPython/core/interactiveshell.py:3433: LatexWarning: Found documentclass in tmp_2212.10113/J1702-MNRAS-final.tex\n",
      "\n",
      "  exec(code_obj, self.user_global_ns, self.user_ns)\n"
     ]
    },
    {
     "name": "stdout",
     "output_type": "stream",
     "text": [
      "extracting tarball to tmp_2212.10133..."
     ]
    },
    {
     "name": "stdout",
     "output_type": "stream",
     "text": [
      " done.\n",
      "Retrieving document from  https://arxiv.org/e-print/2212.10178\n"
     ]
    },
    {
     "name": "stdout",
     "output_type": "stream",
     "text": [
      "extracting tarball to tmp_2212.10178..."
     ]
    },
    {
     "name": "stdout",
     "output_type": "stream",
     "text": [
      " done.\n",
      "Retrieving document from  https://arxiv.org/e-print/2212.10232\n"
     ]
    },
    {
     "name": "stdout",
     "output_type": "stream",
     "text": [
      "extracting tarball to tmp_2212.10232..."
     ]
    },
    {
     "name": "stdout",
     "output_type": "stream",
     "text": [
      " done.\n",
      "Retrieving document from  https://arxiv.org/e-print/2212.10372\n"
     ]
    },
    {
     "name": "stderr",
     "output_type": "stream",
     "text": [
      "/opt/hostedtoolcache/Python/3.9.16/x64/lib/python3.9/site-packages/IPython/core/interactiveshell.py:3433: LatexWarning: Multiple tex files.\n",
      "\n",
      "  exec(code_obj, self.user_global_ns, self.user_ns)\n",
      "/opt/hostedtoolcache/Python/3.9.16/x64/lib/python3.9/site-packages/IPython/core/interactiveshell.py:3433: LatexWarning: Found documentclass in tmp_2212.10232/paper.tex\n",
      "\n",
      "  exec(code_obj, self.user_global_ns, self.user_ns)\n"
     ]
    },
    {
     "name": "stdout",
     "output_type": "stream",
     "text": [
      "extracting tarball to tmp_2212.10372..."
     ]
    },
    {
     "name": "stdout",
     "output_type": "stream",
     "text": [
      " done.\n",
      "Retrieving document from  https://arxiv.org/e-print/2212.10393\n"
     ]
    },
    {
     "name": "stdout",
     "output_type": "stream",
     "text": [
      "extracting tarball to tmp_2212.10393..."
     ]
    },
    {
     "name": "stdout",
     "output_type": "stream",
     "text": [
      " done.\n",
      "Retrieving document from  https://arxiv.org/e-print/2212.10512\n"
     ]
    },
    {
     "name": "stdout",
     "output_type": "stream",
     "text": [
      "extracting tarball to tmp_2212.10512..."
     ]
    },
    {
     "name": "stdout",
     "output_type": "stream",
     "text": [
      " done.\n"
     ]
    },
    {
     "name": "stdout",
     "output_type": "stream",
     "text": [
      "Retrieving document from  https://arxiv.org/e-print/2212.10517\n"
     ]
    },
    {
     "name": "stdout",
     "output_type": "stream",
     "text": [
      "extracting tarball to tmp_2212.10517..."
     ]
    },
    {
     "name": "stdout",
     "output_type": "stream",
     "text": [
      " done.\n"
     ]
    }
   ],
   "source": [
    "documents = []\n",
    "failed = []\n",
    "for paper in tqdm(candidates[:-1]):\n",
    "    paper_id = paper['identifier'].lower().replace('arxiv:', '')\n",
    "    \n",
    "    folder = f'tmp_{paper_id}'\n",
    "\n",
    "    try:\n",
    "        if not os.path.isdir(folder):\n",
    "            folder = retrieve_document_source(f\"{paper_id}\", f'tmp_{paper_id}')\n",
    "        \n",
    "        try:\n",
    "            doc = latex.LatexDocument(folder, validation=validation)    \n",
    "        except AffiliationError as affilerror:\n",
    "            msg = f\"ArXiv:{paper_id:s} is not an MPIA paper... \" + str(affilerror)\n",
    "            failed.append((paper, \"affiliation error: \" + str(affilerror) ))\n",
    "            continue\n",
    "        \n",
    "        # Hack because sometimes author parsing does not work well\n",
    "        if (len(doc.authors) != len(paper['authors'])):\n",
    "            doc._authors = paper['authors']\n",
    "        if (doc.abstract) in (None, ''):\n",
    "            doc._abstract = paper['abstract']\n",
    "            \n",
    "        doc.comment = (get_markdown_badge(paper_id) + \n",
    "                       \"<mark>Appeared on: \" + paper['date'] + \"</mark> - \" +\n",
    "                       \"_\" + paper['comments'] + \"_\")\n",
    "        doc.highlight_authors_in_list(hl_list)\n",
    "\n",
    "        full_md = doc.generate_markdown_text()\n",
    "        \n",
    "        documents.append((paper_id, full_md))\n",
    "    except Exception as e:\n",
    "        warnings.warn(latex.LatexWarning(f\"{paper_id:s} did not run properly\\n\" +\n",
    "                                         str(e)\n",
    "                                        ))\n",
    "        failed.append((paper, \"latex error \" + str(e)))"
   ]
  },
  {
   "cell_type": "markdown",
   "id": "2505a25c",
   "metadata": {
    "papermill": {
     "duration": 0.00744,
     "end_time": "2022-12-21T04:10:10.477920",
     "exception": false,
     "start_time": "2022-12-21T04:10:10.470480",
     "status": "completed"
    },
    "tags": []
   },
   "source": [
    "### Export the logs\n",
    "\n",
    "Throughout, we also keep track of the logs per paper. see `logs-{today date}.md` "
   ]
  },
  {
   "cell_type": "code",
   "execution_count": 6,
   "id": "d733828a",
   "metadata": {
    "execution": {
     "iopub.execute_input": "2022-12-21T04:10:10.494045Z",
     "iopub.status.busy": "2022-12-21T04:10:10.493286Z",
     "iopub.status.idle": "2022-12-21T04:10:10.534589Z",
     "shell.execute_reply": "2022-12-21T04:10:10.533845Z"
    },
    "papermill": {
     "duration": 0.051336,
     "end_time": "2022-12-21T04:10:10.536190",
     "exception": false,
     "start_time": "2022-12-21T04:10:10.484854",
     "status": "completed"
    },
    "scrolled": false,
    "tags": []
   },
   "outputs": [
    {
     "data": {
      "text/markdown": [
       "## Successful papers"
      ],
      "text/plain": [
       "<IPython.core.display.Markdown object>"
      ]
     },
     "metadata": {},
     "output_type": "display_data"
    },
    {
     "data": {
      "text/markdown": [
       "\n",
       "|||\n",
       "|---:|:---|\n",
       "| [![arXiv](https://img.shields.io/badge/arXiv-arXiv:2212.09766-b31b1b.svg)](https://arxiv.org/abs/arXiv:2212.09766) | **Comparing the Locations of Supernovae to CO (2-1) Emission in their Host  Galaxies**  |\n",
       "|| Ness Mayker Chen, et al. -- incl., <mark>Annie Hughes</mark>, <mark>Kathryn Kreckel</mark>, <mark>Frank Bigiel</mark>, <mark>Eva Schinnerer</mark> |\n",
       "|*Appeared on*| *2022-12-21*|\n",
       "|*Comments*| *Accepted to ApJ; 38 pages, 12 figures, 7 tables in two-column AASTEX63 format*|\n",
       "|**Abstract**| We measure the molecular gas environment near recent ($< 100$ yr old) supernovae (SNe) using $\\sim1''$ or $\\leq 150$pc resolution CO (2-1) maps from the PHANGS-ALMA survey of nearby star-forming galaxies. This is arguably the first such study to approach the scales of individual massive molecular clouds ($M_{\\rm mol} \\gtrsim 10^{5.3}$ M$_{\\odot}$). Using the Open Supernova Catalog (OSC), we identify 63 SNe within the PHANGS-ALMA footprint. We detect CO (2-1) emission near $\\sim60\\%$ of the sample at 150pc resolution, compared to $\\sim35\\%$ of map pixels with CO (2-1) emission, and up to $\\sim95\\%$ of the SNe at 1kpc resolution compared to $\\sim80\\%$ of map pixels with CO (2-1) emission. We expect the $\\sim60\\%$ of SNe within the same 150pc beam as a GMC will likely interact with these clouds in the future, consistent with the observation of widespread SN-molecular gas interaction in the Milky Way, while the other $\\sim40\\%$ of SNe without strong CO (2-1) detections will deposit their energy in the diffuse interstellar medium (ISM), perhaps helping drive large-scale turbulence or galactic outflows. Broken down by type, we detect CO (2-1) emission at the sites of $\\sim85\\%$ of our 9 stripped-envelope SNe (SESNe), $\\sim40\\%$ of our 34 Type II SNe, and $\\sim35\\%$ of our 13 Type Ia SNe, indicating that SESNe are most closely associated with the brightest CO (2-1) emitting regions in our sample. Our results confirm that SN explosions are not restricted to only the densest gas, and instead exert feedback across a wide range of molecular gas densities. |"
      ],
      "text/plain": [
       "[arXiv:2212.09766] Comparing the Locations of Supernovae to CO (2-1) Emission in their Host  Galaxies\n",
       "\tNess Mayker Chen, et al. -- incl., <mark>Annie Hughes</mark>, <mark>Kathryn Kreckel</mark>, <mark>Frank Bigiel</mark>, <mark>Eva Schinnerer</mark>"
      ]
     },
     "metadata": {},
     "output_type": "display_data"
    },
    {
     "data": {
      "text/markdown": [
       "\n",
       "|||\n",
       "|---:|:---|\n",
       "| [![arXiv](https://img.shields.io/badge/arXiv-arXiv:2212.10512-b31b1b.svg)](https://arxiv.org/abs/arXiv:2212.10512) | **PHANGS-JWST First Results: Measuring PAH Properties across the  multiphase ISM**  |\n",
       "|| Jérémy Chastenet, et al. -- incl., <mark>Daizhong Liu</mark>, <mark>Frank Bigiel</mark>, <mark>Annie Hughes</mark>, <mark>Kathryn Kreckel</mark>, <mark>Eva Schinnerer</mark> |\n",
       "|*Appeared on*| *2022-12-21*|\n",
       "|*Comments*| *12 pages, 6 figures. Accepted as part of a PHANGS-JWST Focus Issue to appear in ApJ*|\n",
       "|**Abstract**| Ratios of polycyclic aromatic hydrocarbon (PAH) vibrational bands are a promising tool for measuring the properties of the PAH population and their effect on star formation. The photometric bands of the MIRI and NIRCam instruments on JWST provide the opportunity to measure PAH emission features across entire galaxy disks at unprecedented resolution and sensitivity. Here we present the first results of this analysis in a sample of three nearby galaxies: NGC 628, NGC 1365, and NGC 7496. Based on the variations observed in the 3.3, 7.7, and 11.3 $\\mu$m features, we infer changes to the average PAH size and ionization state across the different galaxy environments. High values of F335M$_{\\rm PAH}$/F1130W and low values of F1130W/F770W are measured in H II regions in all three galaxies. This suggests that these regions are populated by hotter PAHs, and/or that the PAH ionization fraction is larger. We see additional evidence of heating and/or changes in PAH size in regions with higher molecular gas content as well as increased ionization in regions with higher H$\\alpha$ intensity. |"
      ],
      "text/plain": [
       "[arXiv:2212.10512] PHANGS-JWST First Results: Measuring PAH Properties across the  multiphase ISM\n",
       "\tJérémy Chastenet, et al. -- incl., <mark>Daizhong Liu</mark>, <mark>Frank Bigiel</mark>, <mark>Annie Hughes</mark>, <mark>Kathryn Kreckel</mark>, <mark>Eva Schinnerer</mark>"
      ]
     },
     "metadata": {},
     "output_type": "display_data"
    },
    {
     "data": {
      "text/markdown": [
       "## Failed papers"
      ],
      "text/plain": [
       "<IPython.core.display.Markdown object>"
      ]
     },
     "metadata": {},
     "output_type": "display_data"
    },
    {
     "data": {
      "text/markdown": [
       "\n",
       "|||\n",
       "|---:|:---|\n",
       "| [![arXiv](https://img.shields.io/badge/arXiv-arXiv:2212.09763-b31b1b.svg)](https://arxiv.org/abs/arXiv:2212.09763) | **The Late Time Optical Evolution of Twelve Core-Collapse Supernovae:  Detection of Normal Stellar Winds**  |\n",
       "|| <mark>M. Rizzo Smith</mark>, C. S. Kochanek, J. M. M. Neustadt |\n",
       "|*Appeared on*| *2022-12-21*|\n",
       "|*Comments*| *22 pages, 14 figures, 6 tables, submitting to MNRAS*|\n",
       "|**Abstract**| We analyze the late time evolution of 12 supernovae (SNe) occurring over the last ${\\sim}$41 years, including nine Type IIP/L, two IIb, and one Ib/c, using UBVR optical data from the Large Binocular Telescope (LBT) and difference imaging. We see late time (5 to 42 years) emission from nine of the eleven Type II SNe (eight Type IIP/L, one IIb). We consider radioactive decay, circumstellar medium (CSM) interactions, pulsar/engine driven emission, dust echoes, and shock perturbed binary companions as possible sources of emission. The observed emission is most naturally explained as CSM interactions with the normal stellar winds of red supergiants with mass loss rates in the range $-7.9\\lesssim \\log_{10}(M_\\odot\\text{yr}{}^{-1}) \\lesssim-4.8$. We also place constraints on the presence of any shock heated binary companion to the Type Ib/c SN 2012fh and provide progenitor photometry for the Type IIb SN 2011dh, the only one of the six SNe with pre-explosion LBT observations where the SN has faded sufficiently to allow the measurement. The results are consistent with measurements from pre-explosion Hubble Space Telescope (HST) images. |\n",
       "|<p style=\"color:green\"> **ERROR** </p>| <p style=\"color:green\">affiliation error: mpia.affiliation_verifications: '69117' keyword not found.</p> |"
      ],
      "text/plain": [
       "<IPython.core.display.Markdown object>"
      ]
     },
     "metadata": {},
     "output_type": "display_data"
    },
    {
     "data": {
      "text/markdown": [
       "\n",
       "|||\n",
       "|---:|:---|\n",
       "| [![arXiv](https://img.shields.io/badge/arXiv-arXiv:2212.09984-b31b1b.svg)](https://arxiv.org/abs/arXiv:2212.09984) | **Using Machine Learning to Determine Morphologies of $z<1$ AGN Host  Galaxies in the Hyper Suprime-Cam Wide Survey**  |\n",
       "|| Chuan Tian, et al. -- incl., <mark>Aritra Ghosh</mark> |\n",
       "|*Appeared on*| *2022-12-21*|\n",
       "|*Comments*| *Accepted for publication in The Astrophysical Journal. 35 Pages. 25 Figures*|\n",
       "|**Abstract**| We present a machine-learning framework to accurately characterize morphologies of Active Galactic Nucleus (AGN) host galaxies within $z<1$. We first use PSFGAN to decouple host galaxy light from the central point source, then we invoke the Galaxy Morphology Network (GaMorNet) to estimate whether the host galaxy is disk-dominated, bulge-dominated, or indeterminate. Using optical images from five bands of the HSC Wide Survey, we build models independently in three redshift bins: low $(0<z<0.25)$, medium $(0.25<z<0.5)$, and high $(0.5<z<1.0)$. By first training on a large number of simulated galaxies, then fine-tuning using far fewer classified real galaxies, our framework predicts the actual morphology for $\\sim$ $60\\%-70\\%$ host galaxies from test sets, with a classification precision of $\\sim$ $80\\%-95\\%$, depending on redshift bin. Specifically, our models achieve disk precision of $96\\%/82\\%/79\\%$ and bulge precision of $90\\%/90\\%/80\\%$ (for the 3 redshift bins), at thresholds corresponding to indeterminate fractions of $30\\%/43\\%/42\\%$. The classification precision of our models has a noticeable dependency on host galaxy radius and magnitude. No strong dependency is observed on contrast ratio. Comparing classifications of real AGNs, our models agree well with traditional 2D fitting with GALFIT. The PSFGAN+GaMorNet framework does not depend on the choice of fitting functions or galaxy-related input parameters, runs orders of magnitude faster than GALFIT, and is easily generalizable via transfer learning, making it an ideal tool for studying AGN host galaxy morphology in forthcoming large imaging survey. |\n",
       "|<p style=\"color:green\"> **ERROR** </p>| <p style=\"color:green\">affiliation error: mpia.affiliation_verifications: '69117' keyword not found.</p> |"
      ],
      "text/plain": [
       "<IPython.core.display.Markdown object>"
      ]
     },
     "metadata": {},
     "output_type": "display_data"
    },
    {
     "data": {
      "text/markdown": [
       "\n",
       "|||\n",
       "|---:|:---|\n",
       "| [![arXiv](https://img.shields.io/badge/arXiv-arXiv:2212.10517-b31b1b.svg)](https://arxiv.org/abs/arXiv:2212.10517) | **The HI Content of Red Geyser Galaxies**  |\n",
       "|| <mark>Emily Frank</mark>, et al. |\n",
       "|*Appeared on*| *2022-12-21*|\n",
       "|*Comments*| *7 pages, 5 figures, to be published in MNRAS*|\n",
       "|**Abstract**| Red geysers are a specific type of quiescent galaxy, denoted by twin jets emerging from their galactic centers. These bisymmetric jets possibly inject energy and heat into the surrounding material, effectively suppressing star formation by stabilizing cool gas. In order to confirm the presence and evolutionary consequences of these jets, this paper discusses the scaling, stacking, and conversion of 21-cm HI flux data sourced from the HI-MaNGA survey into HI gas-to-stellar mass (G/S) spectra. Our samples were dominated by non-detections, or galaxies with weak HI signals, and consequently by HI upper limits. The stacking technique discussed successfully resolved emission features in both the red geyser G/S spectrum and the control sample G/S spectrum. From these stacked spectra, we find that on average, red geyser galaxies have G/S of 0.086 $\\pm$ 0.011(random)+0.029(systematic), while non-red geyser galaxies of similar stellar mass have a G/S ratio of 0.039 $\\pm$ 0.018(random)+0.013(systematic). Therefore, we find no statistically significant evidence that the HI content of red geysers is different from the general quiescent population. |\n",
       "|<p style=\"color:green\"> **ERROR** </p>| <p style=\"color:green\">affiliation error: mpia.affiliation_verifications: '69117' keyword not found.</p> |"
      ],
      "text/plain": [
       "<IPython.core.display.Markdown object>"
      ]
     },
     "metadata": {},
     "output_type": "display_data"
    },
    {
     "data": {
      "text/markdown": [
       "\n",
       "|||\n",
       "|---:|:---|\n",
       "| [![arXiv](https://img.shields.io/badge/arXiv-arXiv:2212.09752-b31b1b.svg)](https://arxiv.org/abs/arXiv:2212.09752) | **The Possible Tidal Demise of Kepler's First Planetary System**  |\n",
       "|| Shreyas Vissapragada, et al. -- incl., <mark>Heather A. Knutson</mark>, <mark>Daniel Huber</mark> |\n",
       "|*Appeared on*| *2022-12-21*|\n",
       "|*Comments*| *9 pages, 3 figures, 2 tables, published in Astrophysical Journal Letters*|\n",
       "|**Abstract**| We present evidence of tidally-driven inspiral in the Kepler-1658 (KOI-4) system, which consists of a giant planet (1.1$R_\\mathrm{J}$, 5.9$M_\\mathrm{J}$) orbiting an evolved host star (2.9$R_\\odot$, 1.5$M_\\odot$). Using transit timing measurements from Kepler, Palomar/WIRC, and TESS, we show that the orbital period of Kepler-1658b appears to be decreasing at a rate $\\dot{P} = 131_{-22}^{+20}$~ms~yr$^{-1}$, corresponding to an infall timescale $P/\\dot{P}\\approx2.5$~Myr. We consider other explanations for the data including line-of-sight acceleration and orbital precession, but find them to be implausible. The observed period derivative implies a tidal quality factor $Q_\\star' = 2.50_{-0.62}^{+0.85}\\times10^4$, in good agreement with theoretical predictions for inertial wave dissipation in subgiant stars. Additionally, while it probably cannot explain the entire inspiral rate, a small amount of planetary dissipation could naturally explain the deep optical eclipse observed for the planet via enhanced thermal emission. As the first evolved system with detected inspiral, Kepler-1658 is a new benchmark for understanding tidal physics at the end of the planetary life cycle. |\n",
       "|<p style=\"color:green\"> **ERROR** </p>| <p style=\"color:green\">affiliation error: mpia.affiliation_verifications: 'Heidelberg' keyword not found.</p> |"
      ],
      "text/plain": [
       "<IPython.core.display.Markdown object>"
      ]
     },
     "metadata": {},
     "output_type": "display_data"
    },
    {
     "data": {
      "text/markdown": [
       "\n",
       "|||\n",
       "|---:|:---|\n",
       "| [![arXiv](https://img.shields.io/badge/arXiv-arXiv:2212.09769-b31b1b.svg)](https://arxiv.org/abs/arXiv:2212.09769) | **JWST's PEARLS: TN J1338$-$1942 -- I. Extreme jet triggered  star-formation in a $z=4.11$ luminous radio galaxy**  |\n",
       "|| Kenneth J. Duncan, et al. -- incl., <mark>Hervé Dole</mark>, <mark>Jeremy Lim</mark> |\n",
       "|*Appeared on*| *2022-12-21*|\n",
       "|*Comments*| *17 pages, 15 figures, Submitted to MNRAS -- Comments welcome*|\n",
       "|**Abstract**| We present the first JWST observations of the $z=4.11$ luminous radio galaxy TN J1338$-$1942, obtained as part of the \"Prime Extragalactic Areas for Reionization and Lensing Science\" (PEARLS) project. Our NIRCam observations, designed to probe the key rest-frame optical continuum and emission line features at this redshift, enable resolved spectral energy distribution modelling that incorporates both a range of stellar population assumptions and radiative shock models. With an estimated stellar mass of $\\log_{10}(M/\\text{M}_{\\odot}) \\sim 10.9$, TN J1338$-$1942 is confirmed to be one of the most massive galaxies known at this epoch. Our observations also reveal extremely high equivalent-width nebular emission coincident with the luminous AGN jets that is consistent with radiative shocks surrounded by extensive recent star-formation. We estimate the total star-formation rate (SFR) could be as high as $\\sim1800\\,\\text{M}_{\\odot}\\,\\text{yr}^{-1}$, with the SFR that we attribute to the jet induced burst conservatively $\\gtrsim500\\,\\text{M}_{\\odot}\\,\\text{yr}^{-1}$. The mass-weighted age of the star-formation, $t_{\\text{mass}} <4$ Myr, is consistent with the likely age of the jets responsible for the triggered activity and significantly younger than that measured in the core of the host galaxy. The extreme scale of the potential jet-triggered star-formation activity indicates the potential importance of positive AGN feedback in the earliest stages of massive galaxy formation, with our observations also illustrating the extraordinary prospects for detailed studies of high-redshift galaxies with JWST. |\n",
       "|<p style=\"color:green\"> **ERROR** </p>| <p style=\"color:green\">affiliation error: mpia.affiliation_verifications: 'Heidelberg' keyword not found.</p> |"
      ],
      "text/plain": [
       "<IPython.core.display.Markdown object>"
      ]
     },
     "metadata": {},
     "output_type": "display_data"
    },
    {
     "data": {
      "text/markdown": [
       "\n",
       "|||\n",
       "|---:|:---|\n",
       "| [![arXiv](https://img.shields.io/badge/arXiv-arXiv:2212.09774-b31b1b.svg)](https://arxiv.org/abs/arXiv:2212.09774) | **PHANGS-JWST First Results: A Global and Moderately Resolved View of  Mid-Infrared and CO Line Emission from Galaxies at the Start of the JWST Era**  |\n",
       "|| Adam K. Leroy, et al. -- incl., <mark>Jonathan D. Henshaw</mark>, <mark>Annie Hughes</mark>, <mark>Kathryn Kreckel</mark>, <mark>Janice C. Lee</mark>, <mark>Lihwai Lin</mark>, <mark>Daizhong Liu</mark>, <mark>Eva Schinnerer</mark> |\n",
       "|*Appeared on*| *2022-12-21*|\n",
       "|*Comments*| *29 pages, 13 figures, key quantitative results in Table 3, Accepted as part of a PHANGS-JWST Focus Issue to appear in ApJ*|\n",
       "|**Abstract**| We explore the relationship between mid-infrared (mid-IR) and CO rotational line emission from massive star-forming galaxies, which is one of the tightest scalings in the local universe. We assemble a large set of unresolved and moderately ($\\sim 1$ kpc) spatially resolved measurements of CO (1-0) and CO (2-1) intensity, $I_{\\rm CO}$, and mid-IR intensity, $I_{\\rm MIR}$, at 8, 12, 22, and 24$\\mu$m. The $I_{\\rm CO}$ vs. $I_{\\rm MIR}$ relationship is reasonably described by a power law with slopes $0.7{-}1.2$ and normalization $I_{\\rm CO} \\sim 1$ K km s$^{-1}$ at $I_{\\rm MIR} \\sim 1$ MJy sr$^{-1}$. Both the slopes and intercepts vary systematically with choice of line and band. The comparison between the relations measured for CO~(1-0) and CO (2-1) allow us to infer that $R_{21} \\propto I_{\\rm MIR}^{0.2}$, in good agreement with other work. The $8\\mu$m and $12\\mu$m bands, with strong PAH features, show steeper CO vs. mid-IR slopes than the $22\\mu$m and $24\\mu$m, consistent with PAH emission arising not just from CO-bright gas but also from atomic or CO-dark gas. The CO-to-mid-IR ratio correlates with global galaxy stellar mass ($M_\\star$) and anti-correlates with SFR/$M_\\star$. At $\\sim 1$ kpc resolution, the first four PHANGS-JWST targets show CO to mid-IR relationships that are quantitatively similar to our larger literature sample, including showing the steep CO-to-mid-IR slopes for the JWST PAH-tracing bands, although we caution that these initial data have a small sample size and span a limited range of intensities. |\n",
       "|<p style=\"color:green\"> **ERROR** </p>| <p style=\"color:green\">affiliation error: mpia.affiliation_verifications: 'Heidelberg' keyword not found.</p> |"
      ],
      "text/plain": [
       "<IPython.core.display.Markdown object>"
      ]
     },
     "metadata": {},
     "output_type": "display_data"
    },
    {
     "data": {
      "text/markdown": [
       "\n",
       "|||\n",
       "|---:|:---|\n",
       "| [![arXiv](https://img.shields.io/badge/arXiv-arXiv:2212.09780-b31b1b.svg)](https://arxiv.org/abs/arXiv:2212.09780) | **Reconstructing Orbits of Galaxies in Extreme Regions (ROGER) III: galaxy  evolution patterns in projected phase space around massive X-ray clusters**  |\n",
       "|| <mark>Hector J. Martinez</mark>, et al. -- incl., <mark>Hernan Muriel</mark> |\n",
       "|*Appeared on*| *2022-12-21*|\n",
       "|*Comments*| *Accepted in MNRAS, 11 pages, 7 figures*|\n",
       "|**Abstract**| We use the ROGER code by de los Rios et al. to classify galaxies around a sample of X-ray clusters into five classes according to their positions in the projected phase space diagram: cluster galaxies, backsplash galaxies, recent infallers, infalling galaxies, and interlopers. To understand the effects of the cluster environment to the evolution of galaxies, we compare across the five classes: stellar mass, specific star formation rate, size, and morphology. Following the guidelines of Coenda et al., a separate analysis is carried out for red and blue galaxies. For red galaxies, cluster galaxies differ from the other classes, having a suppressed specific star formation rate, smaller sizes, and are more likely to be classified as ellipticals. Differences are smaller between the other classes, however backsplash galaxies have significantly lower specific star formation rates than early or recent infalling galaxies. For blue galaxies, we find evidence that recent infallers are smaller than infalling galaxies and interlopers, while the latter two are comparable in size. Our results provide evidence that, after a single passage, the cluster environment can diminish a galaxy's star formation, modify its morphology, and can also reduce in size blue galaxies. We find evidence that quenching occurs faster than morphological transformation from spirals to ellipticals for all classes. While quenching is evidently enhanced as soon as galaxies get into clusters, significant morphological transformations require galaxies to experience the action of the physical mechanisms of the cluster for longer timescales. |\n",
       "|<p style=\"color:green\"> **ERROR** </p>| <p style=\"color:green\">affiliation error: mpia.affiliation_verifications: 'Heidelberg' keyword not found.</p> |"
      ],
      "text/plain": [
       "<IPython.core.display.Markdown object>"
      ]
     },
     "metadata": {},
     "output_type": "display_data"
    },
    {
     "data": {
      "text/markdown": [
       "\n",
       "|||\n",
       "|---:|:---|\n",
       "| [![arXiv](https://img.shields.io/badge/arXiv-arXiv:2212.09815-b31b1b.svg)](https://arxiv.org/abs/arXiv:2212.09815) | **V-LoTSS: The Circularly-Polarised LOFAR Two-metre Sky Survey**  |\n",
       "|| J. R. Callingham, et al. -- incl., <mark>D. J. Schwarz</mark>, <mark>M. Pérez-Torres</mark> |\n",
       "|*Appeared on*| *2022-12-21*|\n",
       "|*Comments*| *Accepted for publication in A&A, 15 pages, 8 figures, 1 table. The catalogue will be publicly available at this http URL and via Vizier shortly*|\n",
       "|**Abstract**| We present the detection of 68 sources from the most sensitive radio survey in circular polarisation conducted to date. We use the second data release of the 144 MHz LOFAR Two-metre Sky Survey to produce circularly-polarised maps with median 140 $\\mu$Jy beam$^{-1}$ noise and resolution of 20$''$ for $\\approx$27% of the northern sky (5634 deg$^{2}$). The leakage of total intensity into circular polarisation is measured to be $\\approx$0.06%, and our survey is complete at flux densities $\\geq1$ mJy. A detection is considered reliable when the circularly-polarised fraction exceeds 1%. We find the population of circularly-polarised sources is composed of four distinct classes: stellar systems, pulsars, active galactic nuclei, and sources unidentified in the literature. The stellar systems can be further separated into chromospherically-active stars, M dwarfs, and brown dwarfs. Based on the circularly-polarised fraction and lack of an optical counterpart, we show it is possible to infer whether the unidentified sources are likely unknown pulsars or brown dwarfs. By the completion of this survey of the northern sky, we expect to detect 300$\\pm$100 circularly-polarised sources. |\n",
       "|<p style=\"color:green\"> **ERROR** </p>| <p style=\"color:green\">affiliation error: mpia.affiliation_verifications: 'Heidelberg' keyword not found.</p> |"
      ],
      "text/plain": [
       "<IPython.core.display.Markdown object>"
      ]
     },
     "metadata": {},
     "output_type": "display_data"
    },
    {
     "data": {
      "text/markdown": [
       "\n",
       "|||\n",
       "|---:|:---|\n",
       "| [![arXiv](https://img.shields.io/badge/arXiv-arXiv:2212.09850-b31b1b.svg)](https://arxiv.org/abs/arXiv:2212.09850) | **New $z > 7$ Lyman-alpha Emitters in EGS: Evidence of an Extended Ionized  Structure at $z \\sim 7.7$**  |\n",
       "|| Intae Jung, et al. -- incl., <mark>Henry C. Ferguson</mark> |\n",
       "|*Appeared on*| *2022-12-21*|\n",
       "|*Comments*| *Submitted to ApJ (17 pages, 8 figures, 4 tables)*|\n",
       "|**Abstract**| We perform a ground-based near-infrared spectroscopic survey using the Keck/MOSFIRE spectrograph to target Ly$\\alpha$ emission at $7.0<z<8.2$ from 61 galaxies to trace the ionization state of the intergalactic medium (IGM). We cover a total effective sky area of $\\sim10^\\prime\\times10^\\prime$ in the Extended Groth Strip field of the Cosmic Assembly Near-infrared Deep Extragalactic Legacy Survey. From our observations, we detect Ly$\\alpha$ emission at a $>$4$\\sigma$ level in eight $z>7$ galaxies, which include additional members of the known $z\\sim7.7$ Ly$\\alpha$-emitter (LAE) cluster (Tilvi et al. 2020). With the addition of these newly-discovered $z\\sim7.7$ LAEs, this is currently the largest measured LAE cluster at $z>7$. The unusually-high Ly$\\alpha$ detection rate at $z\\sim7.7$ in this field suggests significantly stronger Ly$\\alpha$ emission from the clustered LAEs than from the rest of our targets. We estimate the ionized bubble sizes around these LAEs and conclude that the LAEs are clustered within an extended ionized structure created by overlapping ionized bubbles which allow the easier escape of Ly$\\alpha$ from galaxies. It is remarkable that the brightest object in the cluster has the lowest measured redshift of the Ly$\\alpha$ line, being placed in front of the other LAEs in the line-of-sight direction. This suggests that we are witnessing the enhanced IGM transmission of Ly$\\alpha$ from galaxies on the rear side of an ionized area. This could be a consequence of Ly$\\alpha$ radiative transfer: Ly$\\alpha$ close to the central velocity is substantially scattered by the IGM while Ly$\\alpha$ from the rear-side galaxies is significantly redshifted to where it has a clear path. |\n",
       "|<p style=\"color:green\"> **ERROR** </p>| <p style=\"color:green\">affiliation error: mpia.affiliation_verifications: 'Heidelberg' keyword not found.</p> |"
      ],
      "text/plain": [
       "<IPython.core.display.Markdown object>"
      ]
     },
     "metadata": {},
     "output_type": "display_data"
    },
    {
     "data": {
      "text/markdown": [
       "\n",
       "|||\n",
       "|---:|:---|\n",
       "| [![arXiv](https://img.shields.io/badge/arXiv-arXiv:2212.09909-b31b1b.svg)](https://arxiv.org/abs/arXiv:2212.09909) | **X-ray morphology due to charge-exchange emissions used to study the  global structure around Mars**  |\n",
       "|| <mark>G. Y. Liang</mark>, et al. -- incl., <mark>S. B. Li</mark>, <mark>G. Zhao</mark> |\n",
       "|*Appeared on*| *2022-12-21*|\n",
       "|*Comments*| *17 pages, 13 figures; Accpted by ApJ*|\n",
       "|**Abstract**| Soft x-ray emissions induced by solar wind ions that collide with neutral material in the solar system have been detected around planets, and were proposed as a remote probe for the solar wind interaction with the Martian exosphere. A multi-fluid three-dimensional magneto-hydrodynamic model is adopted to derive the global distributions of solar wind particles. Spherically symmetric exospheric H, H$_2$, He, O, and CO$_2$ density profiles and a sophisticated hybrid model that includes charge-exchange and proton/neutral excitation processes are used to study the low triplet line ratio $G=\\frac{i+f}{r}$ (0.77$\\pm$0.58) of O VII and total x-ray luminosity around Mars. We further calculate the emission factor $\\alpha$-value with different neutrals over a wide ion abundance and velocity ranges. Our results are in good agreement with those of previous reports. The evolution of the charge stage of solar wind ions shows that sequential recombination due to charge-exchange can be negligible at the interaction region. This only appears below the altitude of 400~km. The anonymous low disk $G$ ratio can be easily explained by the collisional quenching effect at neutral densities higher than 10$^{11}$cm$^{-3}$. However, the quenching contribution is small in Mars' exosphere and only appears below 400~km. Charge-exchange with H$_2$ and N$_2$ is still the most likely reason for this low $G$-ratio. X-ray emissivity maps in collisions with different neutrals differ from each other. A clear bow shock in the collision with all the neutrals is in accordance with previous reports. The resulting total x-ray luminosity of 6.55~MW shows a better agreement with the XMM-Newton observation of 12.8$\\pm$1.4~MW than that of previous predictions. |\n",
       "|<p style=\"color:green\"> **ERROR** </p>| <p style=\"color:green\">affiliation error: mpia.affiliation_verifications: 'Heidelberg' keyword not found.</p> |"
      ],
      "text/plain": [
       "<IPython.core.display.Markdown object>"
      ]
     },
     "metadata": {},
     "output_type": "display_data"
    },
    {
     "data": {
      "text/markdown": [
       "\n",
       "|||\n",
       "|---:|:---|\n",
       "| [![arXiv](https://img.shields.io/badge/arXiv-arXiv:2212.10037-b31b1b.svg)](https://arxiv.org/abs/arXiv:2212.10037) | **A New Period Determination Method for Periodic Variable Stars**  |\n",
       "|| Xiao-Hui Xu, et al. -- incl., <mark>Xu-Zhi Li</mark>, <mark>Bin Li</mark>, <mark>Hai-Bin Zhao</mark> |\n",
       "|*Appeared on*| *2022-12-21*|\n",
       "|*Comments*| *23 pages, 10 figures*|\n",
       "|**Abstract**| Variable stars play a key role in understanding the Milky Way and the universe. The era of astronomical big data presents new challenges for quick identification of interesting and important variable stars. Accurately estimating the periods is the most important step to distinguish different types of variable stars. Here, we propose a new method of determining the variability periods. By combining the statistical parameters of the light curves, the colors of the variables, the window function and the GLS algorithm, the aperiodic variables are excluded and the periodic variables are divided into eclipsing binaries and NEB variables (other types of periodic variable stars other than eclipsing binaries), the periods of the two main types of variables are derived. We construct a random forest classifier based on 241,154 periodic variables from the ASAS-SN and OGLE datasets of variables. The random forest classifier is trained on 17 features, among which 11 are extracted from the light curves and 6 are from the Gaia Early DR3, ALLWISE and 2MASS catalogs. The variables are classified into 7 superclasses and 17 subclasses. In comparison with the ASAS-SN and OGLE catalogs, the classification accuracy is generally above approximately 82% and the period accuracy is 70%-99%. To further test the reliability of the new method and classifier, we compare our results with the results of Chen et al. (2020) for ZTF DR2. The classification accuracy is generally above 70%. The period accuracy of the EW and SR variables is 50% and 53%, respectively. And the period accuracy of other types of variables is 65%-98%. |\n",
       "|<p style=\"color:green\"> **ERROR** </p>| <p style=\"color:green\">affiliation error: mpia.affiliation_verifications: 'Heidelberg' keyword not found.</p> |"
      ],
      "text/plain": [
       "<IPython.core.display.Markdown object>"
      ]
     },
     "metadata": {},
     "output_type": "display_data"
    },
    {
     "data": {
      "text/markdown": [
       "\n",
       "|||\n",
       "|---:|:---|\n",
       "| [![arXiv](https://img.shields.io/badge/arXiv-arXiv:2212.10056-b31b1b.svg)](https://arxiv.org/abs/arXiv:2212.10056) | **The [S II] Spectral Images of the Planetary Nebula NGC 7009: II. Major  Axis**  |\n",
       "|| Siek Hyung, <mark>Seong-Jae Lee</mark>, Masaaki Otsuka |\n",
       "|*Appeared on*| *2022-12-21*|\n",
       "|*Comments*| *18 pages, 7 figures Accepted for publication in ApJS*|\n",
       "|**Abstract**| We derived position-velocity density distribution diagrams along the major (PA = 77$^{\\circ}$) axis of the elliptical planetary nebula NGC 7009 with the Keck HIRES [SII] 6716/6731 \\A, doublet spectral images. The average densities of the main shell and knots of NGC 7009 derived from the [SII] 6716/673 \\A, fluxes integrated over the line of sight indicate a density range of $N_{\\rm e}$ = $10^{3.4}$ to 10$^{3.9}$ $cm^{-3}$, while the local densities from the volume fraction resolved in radial velocities along the line of sight show a considerably large range of about 10$^{2.8}$ -- 10$^{4.7}$ $cm^{-3}$. The derived projection angle of the major axis of the main shell is about $\\psi \\sim$18.3($\\pm$2)$^{\\circ}$. Assuming that the main shell is an ellipsoidal shell with $a \\simeq$16$''$ and $b \\simeq 6''$, we found the range of expansion velocity, radius, and latitude of four knots and a hot bubble. The four knots at the points in symmetrical positions are roughly aligned with the same axis of expansion of latitudes $\\phi \\sim \\pm 34.5(\\pm 0.6)^{\\circ}$: One pair expands at about 35 $kms^{-1}$ close to the main ellipsoidal shell, and the other expands rapidly at about 60 $kms^{-1}$ at a distance of $r \\sim 16''$. In the latitude range $\\phi = $65 -- 75$^{\\circ}$, the hot bubble of a relatively large structure expands rapidly with a velocity of 130 -- 150 $kms^{-1}$. Four knots and hot bubble points that expand faster than the main shell appear to have been formed by two to three eruptions at a different epoch than the primary structure formation. |\n",
       "|<p style=\"color:green\"> **ERROR** </p>| <p style=\"color:green\">affiliation error: mpia.affiliation_verifications: 'Heidelberg' keyword not found.</p> |"
      ],
      "text/plain": [
       "<IPython.core.display.Markdown object>"
      ]
     },
     "metadata": {},
     "output_type": "display_data"
    },
    {
     "data": {
      "text/markdown": [
       "\n",
       "|||\n",
       "|---:|:---|\n",
       "| [![arXiv](https://img.shields.io/badge/arXiv-arXiv:2212.10059-b31b1b.svg)](https://arxiv.org/abs/arXiv:2212.10059) | **CosmoDRAGoN simulations -- I. Dynamics and observable signatures of  radio jets in cosmological environments**  |\n",
       "|| Patrick M. Yates-Jones, et al. -- incl., <mark>Martin G. H. Krause</mark> |\n",
       "|*Appeared on*| *2022-12-21*|\n",
       "|*Comments*| *25 pages, 20 figures. Submitted for publication to PASA*|\n",
       "|**Abstract**| We present the Cosmological Double Radio Active Galactic Nuclei (CosmoDRAGoN) project: a large suite of simulated AGN jets in cosmological environments. These environments sample the intra-cluster media of galaxy clusters that form in cosmological smooth particle hydrodynamics (SPH) simulations, which we then use as inputs for grid-based hydrodynamic simulations of radio jets. Initially conical jets are injected with a range of jet powers, speeds (both relativistic and non-relativistic), and opening angles; we follow their collimation and propagation on scales of tens to hundreds of kiloparsecs, and calculate spatially-resolved synthetic radio spectra in post-processing. In this paper, we present a technical overview of the project, and key early science results from six representative simulations which produce radio sources with both core- (Fanaroff-Riley Type I) and edge-brightened (Fanaroff-Riley Type II) radio morphologies. Our simulations highlight the importance of accurate representation of both jets and environments for radio morphology, radio spectra, and feedback the jets provide to their surroundings. |\n",
       "|<p style=\"color:green\"> **ERROR** </p>| <p style=\"color:green\">affiliation error: mpia.affiliation_verifications: 'Heidelberg' keyword not found.</p> |"
      ],
      "text/plain": [
       "<IPython.core.display.Markdown object>"
      ]
     },
     "metadata": {},
     "output_type": "display_data"
    },
    {
     "data": {
      "text/markdown": [
       "\n",
       "|||\n",
       "|---:|:---|\n",
       "| [![arXiv](https://img.shields.io/badge/arXiv-arXiv:2212.10072-b31b1b.svg)](https://arxiv.org/abs/arXiv:2212.10072) | **Identifying hot subdwarf stars from photometric data using Gaussian  mixture model and graph neural network**  |\n",
       "|| <mark>Wei Liu</mark>, et al. -- incl., <mark>Meng Liu</mark> |\n",
       "|*Appeared on*| *2022-12-21*|\n",
       "|*Comments*| **|\n",
       "|**Abstract**| Hot subdwarf stars are very important for understanding stellar evolution, stellar astrophysics, and binary star systems. Identifying more such stars can help us better understand their statistical distribution, properties, and evolution. In this paper, we present a new method to search for hot subdwarf stars in photometric data (b, y, g, r, i, z) using a machine learning algorithm, graph neural network, and Gaussian mixture model. We use a Gaussian mixture model and Markov distance to build the graph structure, and on the graph structure, we use a graph neural network to identify hot subdwarf stars from 86 084 stars, when the recall, precision, and f1 score are maximized on the original, weight and synthetic minority oversampling technique datasets. Finally, from 21 885 candidates, we selected approximately 6 000 stars that were the most similar to the hot subdwarf star. |\n",
       "|<p style=\"color:green\"> **ERROR** </p>| <p style=\"color:green\">affiliation error: mpia.affiliation_verifications: 'Heidelberg' keyword not found.</p> |"
      ],
      "text/plain": [
       "<IPython.core.display.Markdown object>"
      ]
     },
     "metadata": {},
     "output_type": "display_data"
    },
    {
     "data": {
      "text/markdown": [
       "\n",
       "|||\n",
       "|---:|:---|\n",
       "| [![arXiv](https://img.shields.io/badge/arXiv-arXiv:2212.10081-b31b1b.svg)](https://arxiv.org/abs/arXiv:2212.10081) | **Galaxy Image Classification using Hierarchical Data Learning with  Weighted Sampling and Label Smoothing**  |\n",
       "|| Xiaohua Ma, et al. -- incl., <mark>Xiangru Li</mark>, <mark>Jinqu Zhang</mark>, <mark>Hui Li</mark> |\n",
       "|*Appeared on*| *2022-12-21*|\n",
       "|*Comments*| *accepted by MNRAS*|\n",
       "|**Abstract**| With the development of a series of Galaxy sky surveys in recent years, the observations increased rapidly, which makes the research of machine learning methods for galaxy image recognition a hot topic. Available automatic galaxy image recognition researches are plagued by the large differences in similarity between categories, the imbalance of data between different classes, and the discrepancy between the discrete representation of Galaxy classes and the essentially gradual changes from one morphological class to the adjacent class (DDRGC). These limitations have motivated several astronomers and machine learning experts to design projects with improved galaxy image recognition capabilities. Therefore, this paper proposes a novel learning method, ``Hierarchical Imbalanced data learning with Weighted sampling and Label smoothing\" (HIWL). The HIWL consists of three key techniques respectively dealing with the above-mentioned three problems: (1) Designed a hierarchical galaxy classification model based on an efficient backbone network; (2) Utilized a weighted sampling scheme to deal with the imbalance problem; (3) Adopted a label smoothing technique to alleviate the DDRGC problem. We applied this method to galaxy photometric images from the Galaxy Zoo-The Galaxy Challenge, exploring the recognition of completely round smooth, in between smooth, cigar-shaped, edge-on and spiral. The overall classification accuracy is 96.32\\%, and some superiorities of the HIWL are shown based on recall, precision, and F1-Score in comparing with some related works. In addition, we also explored the visualization of the galaxy image features and model attention to understand the foundations of the proposed scheme. |\n",
       "|<p style=\"color:green\"> **ERROR** </p>| <p style=\"color:green\">affiliation error: mpia.affiliation_verifications: 'Heidelberg' keyword not found.</p> |"
      ],
      "text/plain": [
       "<IPython.core.display.Markdown object>"
      ]
     },
     "metadata": {},
     "output_type": "display_data"
    },
    {
     "data": {
      "text/markdown": [
       "\n",
       "|||\n",
       "|---:|:---|\n",
       "| [![arXiv](https://img.shields.io/badge/arXiv-arXiv:2212.10083-b31b1b.svg)](https://arxiv.org/abs/arXiv:2212.10083) | **E-TEST prototype design report**  |\n",
       "|| A. Sider, et al. -- incl., <mark>J. Ebert</mark>, <mark>T. Hebbeker</mark>, <mark>J.S. Hennig</mark>, <mark>M. Hennig</mark>, <mark>J. van Heijningen</mark> |\n",
       "|*Appeared on*| *2022-12-21*|\n",
       "|*Comments*| **|\n",
       "|**Abstract**| E-TEST (Einstein Telescope Euregio-Meuse-Rhin Site and Technology) is a project recently funded by the European program Ineterreg Euregio Meuse-Rhine. This program is dedicated to innovative cross boarder activities between Belgium, The Netherlands and Germany. With a total budget of15MC and a consortium of 11 partners from the three countries, the objective of the project is twofold. Firstly, to develop an eco-friendly and non-invasive imaging of the geological conditions as well as the development of an observatory of the underground in the EMR region. Secondly, to develop technologies necessary for 3rd generation gravitational wave detectors. In particular, it is proposed to develop a prototype of large suspended cryogenic silicon mirror, isolated from seismic vibrations at low frequency. The total budget of the project is equally spread over the two activities. The first activity is not discussed at all in this report. The E-TEST prototype will have some key unique features: a silicon mirror of 100 kg, a radiative cooling strategy (non contact), a low-frequency hybrid isolation stage, cryogenic sensors and electronics, a laser and optics at 2 microns, a low thermal noise coating. |\n",
       "|<p style=\"color:green\"> **ERROR** </p>| <p style=\"color:green\">affiliation error: mpia.affiliation_verifications: 'Heidelberg' keyword not found.</p> |"
      ],
      "text/plain": [
       "<IPython.core.display.Markdown object>"
      ]
     },
     "metadata": {},
     "output_type": "display_data"
    },
    {
     "data": {
      "text/markdown": [
       "\n",
       "|||\n",
       "|---:|:---|\n",
       "| [![arXiv](https://img.shields.io/badge/arXiv-arXiv:2212.10088-b31b1b.svg)](https://arxiv.org/abs/arXiv:2212.10088) | **The AstroSat observation of accreting millisecond X-ray pulsar SAX  J1808.4-3658 during its 2019 outburst**  |\n",
       "|| <mark>Rahul Sharma</mark>, Andrea Sanna, Aru Beri |\n",
       "|*Appeared on*| *2022-12-21*|\n",
       "|*Comments*| *Accepted for publication in MNRAS*|\n",
       "|**Abstract**| We report on the analysis of the AstroSat dataset of the accreting millisecond X-ray pulsar SAX J1808.4-3658, obtained during its 2019 outburst. We found coherent pulsations at $\\sim 401$ Hz and an orbital solution consistent with previous studies. The 3-20 keV pulse profile can be well fitted with three harmonically related sinusoidal components with background-corrected fractional amplitude of $\\sim 3.5 \\%$, $\\sim 1.2 \\%$ and $\\sim 0.37 \\%$ for fundamental, second and third harmonic, respectively. Our energy-resolved pulse profile evolution study indicate a strong energy dependence. We also observed a soft lag in fundamental and hard lag during its harmonic. The broadband spectrum of SAX J1808.4-3658 can be well described with a combination of thermal emission component with $kT \\sim 1$ keV, a thermal Comptonization ($\\Gamma \\sim 1.67$) from the hot corona and broad emission lines due to Fe. |\n",
       "|<p style=\"color:green\"> **ERROR** </p>| <p style=\"color:green\">affiliation error: mpia.affiliation_verifications: 'Heidelberg' keyword not found.</p> |"
      ],
      "text/plain": [
       "<IPython.core.display.Markdown object>"
      ]
     },
     "metadata": {},
     "output_type": "display_data"
    },
    {
     "data": {
      "text/markdown": [
       "\n",
       "|||\n",
       "|---:|:---|\n",
       "| [![arXiv](https://img.shields.io/badge/arXiv-arXiv:2212.10107-b31b1b.svg)](https://arxiv.org/abs/arXiv:2212.10107) | **Offset between X-ray and optical centers in clusters of galaxies:  connecting eROSITA data and simulations**  |\n",
       "|| R. Seppi, et al. -- incl., <mark>A. Liu</mark> |\n",
       "|*Appeared on*| *2022-12-21*|\n",
       "|*Comments*| *Accepted for publication on A&A*|\n",
       "|**Abstract**| The characterization of the dynamical state of clusters is key to study their evolution, their selection, and use them as a cosmological probe. The offsets between different definitions of the center have been used to estimate the cluster disturbance. Our goal is to study the distribution of the offset between the X-ray and optical centers in clusters of galaxies. We study the offset for eROSITA clusters. We aim to connect observations to hydrodynamical simulations and N-body models. We assess the astrophysical effects affecting the displacements. We measure the offset for clusters observed in eFEDS and eRASS1. We focus on a subsample of 87 massive eFEDS clusters at low redshift. We link the observations to the offset parameter Xoff measured on dark matter halos in N-body simulations, using the hydrodynamical simulations as a bridge. eFEDS clusters show a smaller offset compared to eRASS1, because the latter contains a larger fraction of massive and disturbed structures. We measure an average offset of 76.3+30.1-27.1 kpc on the subsample of 87 eFEDS clusters. This is in agreement with the predictions from TNG and Magneticum, and the distribution of Xoff from DMO simulations. The tails of the distributions are different. Using the offset to classify relaxed and disturbed clusters, we measure a relaxed fraction of 31% in the eFEDS subsample. Finally, we find a correlation between the offset in hydrodynamical simulations and Xoff measured on their parent DMO run and calibrate a relation between them. There is good agreement between eROSITA data and simulations. Baryons cause a decrement (increment) in the low (high) offset regime compared to the Xoff distribution. The offset-Xoff relation provides an accurate prediction of the true Xoff distribution in Magneticum and TNG. It allows introducing the offsets in cosmology, marginalizing on dynamical selection effects. |\n",
       "|<p style=\"color:green\"> **ERROR** </p>| <p style=\"color:green\">affiliation error: mpia.affiliation_verifications: 'Heidelberg' keyword not found.</p> |"
      ],
      "text/plain": [
       "<IPython.core.display.Markdown object>"
      ]
     },
     "metadata": {},
     "output_type": "display_data"
    },
    {
     "data": {
      "text/markdown": [
       "\n",
       "|||\n",
       "|---:|:---|\n",
       "| [![arXiv](https://img.shields.io/badge/arXiv-arXiv:2212.10113-b31b1b.svg)](https://arxiv.org/abs/arXiv:2212.10113) | **Is the X-ray bright z = 5.5 quasar SRGE J170245.3+130104 a blazar?**  |\n",
       "|| Tao An, et al. -- incl., <mark>Yuanqi Liu</mark>, <mark>Yingkang Zhang</mark>, <mark>Ruqiu Lin</mark> |\n",
       "|*Appeared on*| *2022-12-21*|\n",
       "|*Comments*| *accepted for publication in Monthly Notices of the Royal Astronomical Society*|\n",
       "|**Abstract**| Jets may have contributed to promoting the growth of seed black holes in the early Universe, and thus observations of radio-loud high-redshift quasars are crucial to understanding the growth and evolution of the early supermassive black holes. Here we report the radio properties of an X-ray bright $z=5.5$ quasar, SRGE J170245.3+130104 (J1702+1301). Our high-resolution radio images reveal the radio counterpart at the optical position of J1702+1301, while another radio component is also detected at $\\sim$23.5\\arcsec\\ to the southwest. Our analysis suggests that this southwest component is associated with a foreground galaxy at $z\\approx 0.677$, which is mixed with J1702+1301 in low-frequency low-resolution radio images. After removing the contamination from this foreground source, we recalculated the radio loudness of J1702+1301 to be $R>$1100, consistent with those of blazars. J1702+1301 exhibits a flat radio spectrum ($\\alpha = -0.17 \\pm 0.05$, $S \\propto \\nu^\\alpha$) between 0.15 and 5 GHz; above 5 GHz, it shows a rising spectrum shape, and the spectral index $\\alpha^{8.2}_{4.7}$ appears to be correlated with the variation of the flux density: in burst states, $\\alpha^{8.2}_{4.7}$ becomes larger. J1702+1301 displays distinct radio variability on timescales from weeks to years in the source's rest frame. These radio properties, including high radio loudness, rising spectrum, and rapid variability, tend to support it as a blazar. |\n",
       "|<p style=\"color:green\"> **ERROR** </p>| <p style=\"color:green\">affiliation error: mpia.affiliation_verifications: 'Heidelberg' keyword not found.</p> |"
      ],
      "text/plain": [
       "<IPython.core.display.Markdown object>"
      ]
     },
     "metadata": {},
     "output_type": "display_data"
    },
    {
     "data": {
      "text/markdown": [
       "\n",
       "|||\n",
       "|---:|:---|\n",
       "| [![arXiv](https://img.shields.io/badge/arXiv-arXiv:2212.10133-b31b1b.svg)](https://arxiv.org/abs/arXiv:2212.10133) | **Search and characterization of remnant radio galaxies in the XMM$-$LSS  deep field**  |\n",
       "|| Sushant Dutta, et al. -- incl., <mark>Ian Heywood</mark> |\n",
       "|*Appeared on*| *2022-12-21*|\n",
       "|*Comments*| *23 pages, 27 figures, 6 tables. Accepted for publication in Astrophysical Journal*|\n",
       "|**Abstract**| The remnant phase of a radio galaxy is characterized by the cessation of AGN activity resulting in the stoppage of jets supplying plasma to radio lobes. In this paper, we present the search and characterization of remnant candidates in 12.5 deg$^{2}$ of the {\\em XMM$-$Newton} Large$-$Scale Structure (XMM$-$LSS) field by using deep radio observations at 325 MHz from the Giant Metrewave Radio Telescope (GMRT), at 150 MHz from the LOw Frequency ARray (LOFAR), at 1.4 GHz from the Jansky Very Large Array (JVLA), and at 3 GHz from the VLA Sky Survey (VLASS). By using both morphological criteria {\\viz}undetected radio core as well as spectral criteria {\\viz}high spectral curvature, and ultra$-$steep spectrum, we identify 21 remnant candidates that are found to reside mostly in non$-$cluster environments, and exhibit diverse properties in terms of morphology, spectral index ($\\alpha_{\\rm 150}^{\\rm 1400}$ in the range of $-1.71$ to $-0.75$ with a median of $-1.10$), and linear radio size (ranging from 242 kpc to 1.3 Mpc with a median of 469 kpc). Our study attempts to identify remnant candidates down to the flux density limit of 6.0 mJy at 325 MHz, and yields an upper limit on the remnant fraction ($f_{\\rm rem}$) to be around 5$\\%$. The observed $f_{\\rm rem}$ seems consistent with the predictions of an evolutionary model assuming power law distributions of the duration of active phase and jet kinetic power with index $-0.8$ to $-1.2$. |\n",
       "|<p style=\"color:green\"> **ERROR** </p>| <p style=\"color:green\">affiliation error: mpia.affiliation_verifications: 'Heidelberg' keyword not found.</p> |"
      ],
      "text/plain": [
       "<IPython.core.display.Markdown object>"
      ]
     },
     "metadata": {},
     "output_type": "display_data"
    },
    {
     "data": {
      "text/markdown": [
       "\n",
       "|||\n",
       "|---:|:---|\n",
       "| [![arXiv](https://img.shields.io/badge/arXiv-arXiv:2212.10178-b31b1b.svg)](https://arxiv.org/abs/arXiv:2212.10178) | **Impact of Asymmetrical Mass Ejection from Proto-White Dwarfs on the  Properties of Binary Millisecond Pulsars**  |\n",
       "|| Wen-Shi Tang, Shi-Jie Gao, <mark>Xiang-Dong Li</mark> |\n",
       "|*Appeared on*| *2022-12-21*|\n",
       "|*Comments*| *11pages, 7 figures, 2 tables; accepted by Monthly Notices of the Royal Astronomical Society (MNRAS)*|\n",
       "|**Abstract**| The standard formation theory of binary millisecond pulsars (BMSPs) predicts efficient orbital circularization due to tidal interaction during the previous mass transfer phase. Therefore, BMSPs are expected to have a circular orbit. However, the discovery of several eccentric BMSPs (eBMSPs) with a white dwarf (WD) companion has challenged this picture. In particular, recent observation reveals that the spin angular momentum of the eBMSP J0955$-$6150 is tilted at an angle $>4.8^{\\rm \\degree}$ from the orbital angular momentum. This is the first time that a tilt angle is deduced for eBMSPs, which provides an important clue to their formation mechanism. Both the orbital eccentricity and tilt angle could be qualitatively accounted for by asymmetrical mass ejection during thermonuclear flashes from proto-WDs (so-called the thermonuclear rocket model), but detailed studies are still lacking. In this paper, we simulate the impact of the kick caused by asymmetrical mass ejection on the properties of BMSPs. We find that the thermonuclear rocket model can potentially explain the observational characteristics of both eBMSPs and normal BMSPs under reasonable input parameters. In addition, our results predict a wide range of the orbital period (from less than one day to more than several hundred days) for eBMSPs, which can be tested by future observations. |\n",
       "|<p style=\"color:green\"> **ERROR** </p>| <p style=\"color:green\">affiliation error: mpia.affiliation_verifications: 'Heidelberg' keyword not found.</p> |"
      ],
      "text/plain": [
       "<IPython.core.display.Markdown object>"
      ]
     },
     "metadata": {},
     "output_type": "display_data"
    },
    {
     "data": {
      "text/markdown": [
       "\n",
       "|||\n",
       "|---:|:---|\n",
       "| [![arXiv](https://img.shields.io/badge/arXiv-arXiv:2212.10232-b31b1b.svg)](https://arxiv.org/abs/arXiv:2212.10232) | **The halo concentration and mass relation traced by satellite galaxies**  |\n",
       "|| Qing Gu, et al. -- incl., <mark>Qi Guo</mark>, <mark>Tianchi Zhang</mark>, <mark>Quan Guo</mark>, <mark>Liang Gao</mark> |\n",
       "|*Appeared on*| *2022-12-21*|\n",
       "|*Comments*| *8 pages, 4 figures, accepted for publication in RAA*|\n",
       "|**Abstract**| We study the relation between halo concentration and mass (c-M relation) using the Seventh and Eighth Data Release of the Sloan Digital Sky Survey (SDSS DR7 and DR8) galaxy catalogue. Assuming that the satellite galaxies follow the distribution of dark matter, we derive the halo concentration by fitting the satellite radial profile with a Nararro Frank and White (NFW) format. The derived c-M relation covers a wide halo mass range from $10^{11.6}$ to $10^{14.1} \\rm\\ M_\\odot$. We confirm the anti-correlation between the halo mass and concentration as predicted in cosmological simulations. Our results are in good agreement with those derived using galaxy dynamics and gravitational lensing for halos of $10^{11.6}-10^{12.9} \\rm\\ M_\\odot$, while they are slightly lower for halos of $10^{12.9}-10^{14.1}\\rm\\ M_\\odot$. It is because blue satellite galaxies are less concentrated, especially in the inner regions. Instead of using all satellite galaxies, red satellites could be better tracers of the underlying dark matter distribution in galaxy groups. |\n",
       "|<p style=\"color:green\"> **ERROR** </p>| <p style=\"color:green\">affiliation error: mpia.affiliation_verifications: 'Heidelberg' keyword not found.</p> |"
      ],
      "text/plain": [
       "<IPython.core.display.Markdown object>"
      ]
     },
     "metadata": {},
     "output_type": "display_data"
    },
    {
     "data": {
      "text/markdown": [
       "\n",
       "|||\n",
       "|---:|:---|\n",
       "| [![arXiv](https://img.shields.io/badge/arXiv-arXiv:2212.10372-b31b1b.svg)](https://arxiv.org/abs/arXiv:2212.10372) | **Se-ResNet+SVM model: an effective method of searching for hot subdwarfs  from LAMOST**  |\n",
       "|| Cheng Zhongding, et al. -- incl., <mark>Zhang Yatao</mark>, <mark>Liu Meng</mark> |\n",
       "|*Appeared on*| *2022-12-21*|\n",
       "|*Comments*| **|\n",
       "|**Abstract**| In this paper, we apply the feature-integration idea to fuse the abstract features extracted by Se-ResNet with experience features into hybrid features and input the hybrid features to the Support Vector Machine (SVM) to classify Hot subdwarfs. Based on this idea, we construct a Se-ResNet+SVM model, including a binary classification model and a four-class classification model. The four-class classification model can further screen the hot subdwarf candidates obtained by the binary classification model. The F1 values derived by the binary and the four-class classification model on the test set are 96.17% and 95.64%, respectively. Then, we use the binary classification model to classify 333,534 nonFGK type spectra in the low-resolution spectra of LAMOST DR8 and obtain a catalog of 3,266 hot subdwarf candidates, of which 1223 are newly-determined. Subsequently, the four-class classification model further filtered the 3,266 candidates, 409 and 296 are newly-determined respectively when the thresholds were set at 0.5 and 0.9. Through manual inspection, The true number of hot subdwarfs in the three newly-determined canditates are 176, 63, and 41, the corresponding precision of the classification model in the three cases are 67.94%, 84.88%, and 87.60%, respectively. Finally, we train a Se-ResNet regression model with MAE values of 1212.65 K for Teff, 0.32 dex for log g and 0.24 for [He/H], and predict the atmospheric parameters of these 176 hot subdwarf stars. This provides a certain amount of samples to help for future studies of hot subdwarfs. |\n",
       "|<p style=\"color:green\"> **ERROR** </p>| <p style=\"color:green\">affiliation error: mpia.affiliation_verifications: 'Heidelberg' keyword not found.</p> |"
      ],
      "text/plain": [
       "<IPython.core.display.Markdown object>"
      ]
     },
     "metadata": {},
     "output_type": "display_data"
    },
    {
     "data": {
      "text/markdown": [
       "\n",
       "|||\n",
       "|---:|:---|\n",
       "| [![arXiv](https://img.shields.io/badge/arXiv-arXiv:2212.10393-b31b1b.svg)](https://arxiv.org/abs/arXiv:2212.10393) | **The Circular Velocity Curve of the Milky Way from 5 to 25 kpc using  luminous red giant branch star**  |\n",
       "|| Yuan Zhou, <mark>Xinyi Li</mark>, Yang Huang, <mark>Huawei Zhang</mark> |\n",
       "|*Appeared on*| *2022-12-21*|\n",
       "|*Comments*| *16 pages, 13 figures and 5 tables, accepted by ApJ*|\n",
       "|**Abstract**| We present a sample of 254,882 luminous red giant branch (LRGB) stars selected from the APOGEE and LAMOST surveys. By combining photometric and astrometric information from the 2MASS and Gaia surveys, the precise distances of the sample stars are determined by a supervised machine learning algorithm: the gradient boosted decision trees. To test the accuracy of the derived distances, member stars of globular clusters (GCs) and open clusters (OCs) are used. The tests by cluster member stars show a precision of about 10 per cent with negligible zero-point offsets, for the derived distances of our sample stars. The final sample covers a large volume of the Galactic disk(s) and halo of $0<R<30$ kpc and $|Z|\\leqslant15$ kpc. The rotation curve (RC) of the Milky Way across radius of $5\\lesssim R\\lesssim25$ kpc have been accurately measured with $\\sim$ 54,000 stars of the thin disk population selected from the LRGB sample. The derived RC shows a weak decline along $R$ with a gradient of $-1.83\\pm0.02$ $({\\rm stat.}) \\pm 0.07$ $({\\rm sys.})$ km s$^{-1}$ kpc$^{-1}$, in excellent agreement with the results measured by previous studies. The circular velocity at the solar position, yielded by our RC, is $234.04\\pm0.08$ $({\\rm stat.}) \\pm 1.36$ $({\\rm sys.})$ km s$^{-1}$, again in great consistent with other independent determinations. From the newly constructed RC, as well as constraints from other data, we have constructed a mass model for our Galaxy, yielding a mass of the dark matter halo of $M_{\\rm{200}}$ = ($8.05\\pm1.15$)$\\times$10$^{11} \\rm{M_\\odot}$ with a corresponding radius of $R_{\\rm{200}}$ = $192.37\\pm9.24$ kpc and a local dark matter density of $0.39\\pm0.03$ GeV cm$^{-3}$. |\n",
       "|<p style=\"color:green\"> **ERROR** </p>| <p style=\"color:green\">affiliation error: mpia.affiliation_verifications: 'Heidelberg' keyword not found.</p> |"
      ],
      "text/plain": [
       "<IPython.core.display.Markdown object>"
      ]
     },
     "metadata": {},
     "output_type": "display_data"
    }
   ],
   "source": [
    "import datetime\n",
    "today = str(datetime.date.today())\n",
    "logfile = f\"_build/html/logs/log-{today}.md\"\n",
    "\n",
    "\n",
    "with open(logfile, 'w') as logs:\n",
    "    # Success\n",
    "    logs.write(f'# Arxiv on Deck 2: Logs - {today}\\n\\n')\n",
    "    logs.write(\"\"\"* Arxiv had {0:,d} new papers\\n\"\"\".format(len(new_papers)))\n",
    "    logs.write(\"\"\"    * {0:,d} with possible author matches\\n\\n\"\"\".format(len(candidates)))\n",
    "    logs.write(\"## Sucessful papers\\n\\n\")\n",
    "    display(Markdown(\"## Successful papers\"))\n",
    "    success = [k[0] for k in documents]\n",
    "    for candid in candidates:\n",
    "        if candid['identifier'].split(':')[-1] in success:\n",
    "            display(candid)\n",
    "            logs.write(candid.generate_markdown_text() + '\\n\\n')\n",
    "\n",
    "    ## failed\n",
    "    logs.write(\"## Failed papers\\n\\n\")\n",
    "    display(Markdown(\"## Failed papers\"))\n",
    "    failed = sorted(failed, key=lambda x: x[1])\n",
    "    current_reason = \"\"\n",
    "    for paper, reason in failed:\n",
    "        if 'affiliation' in reason:\n",
    "            color = 'green'\n",
    "        else:\n",
    "            color = 'red'\n",
    "        data = Markdown(\n",
    "                paper.generate_markdown_text() + \n",
    "                f'\\n|<p style=\"color:{color:s}\"> **ERROR** </p>| <p style=\"color:{color:s}\">{reason:s}</p> |'\n",
    "               )\n",
    "        if reason != current_reason:\n",
    "            logs.write(f'### {reason:s} \\n\\n')\n",
    "            current_reason = reason\n",
    "        logs.write(data.data + '\\n\\n')\n",
    "        \n",
    "        # only display here the important errors (all in logs)\n",
    "        # if color in ('red',):\n",
    "        display(data)"
   ]
  },
  {
   "cell_type": "markdown",
   "id": "472d20ee",
   "metadata": {
    "papermill": {
     "duration": 0.010058,
     "end_time": "2022-12-21T04:10:10.556771",
     "exception": false,
     "start_time": "2022-12-21T04:10:10.546713",
     "status": "completed"
    },
    "tags": []
   },
   "source": [
    "## Export documents\n",
    "\n",
    "We now write the .md files and export relevant images"
   ]
  },
  {
   "cell_type": "code",
   "execution_count": 7,
   "id": "d426aed9",
   "metadata": {
    "execution": {
     "iopub.execute_input": "2022-12-21T04:10:10.578786Z",
     "iopub.status.busy": "2022-12-21T04:10:10.578146Z",
     "iopub.status.idle": "2022-12-21T04:10:10.586358Z",
     "shell.execute_reply": "2022-12-21T04:10:10.585730Z"
    },
    "papermill": {
     "duration": 0.021193,
     "end_time": "2022-12-21T04:10:10.587954",
     "exception": false,
     "start_time": "2022-12-21T04:10:10.566761",
     "status": "completed"
    },
    "tags": []
   },
   "outputs": [],
   "source": [
    "def export_markdown_summary(md: str, md_fname:str, directory: str):\n",
    "    \"\"\"Export MD document and associated relevant images\"\"\"\n",
    "    import os\n",
    "    import shutil\n",
    "    import re\n",
    "\n",
    "    if (os.path.exists(directory) and not os.path.isdir(directory)):\n",
    "        raise RuntimeError(f\"a non-directory file exists with name {directory:s}\")\n",
    "\n",
    "    if (not os.path.exists(directory)):\n",
    "        print(f\"creating directory {directory:s}\")\n",
    "        os.mkdir(directory)\n",
    "\n",
    "    fig_fnames = (re.compile(r'\\[Fig.*\\]\\((.*)\\)').findall(md) + \n",
    "                  re.compile(r'\\<img src=\"([^>\\s]*)\"[^>]*/>').findall(md))\n",
    "    for fname in fig_fnames:\n",
    "        if 'http' in fname:\n",
    "            # No need to copy online figures\n",
    "            continue\n",
    "        destdir = os.path.join(directory, os.path.dirname(fname))\n",
    "        destfname = os.path.join(destdir, os.path.basename(fname))\n",
    "        try:\n",
    "            os.makedirs(destdir)\n",
    "        except FileExistsError:\n",
    "            pass\n",
    "        shutil.copy(fname, destfname)\n",
    "    with open(os.path.join(directory, md_fname), 'w') as fout:\n",
    "        fout.write(md)\n",
    "    print(\"exported in \", os.path.join(directory, md_fname))\n",
    "    [print(\"    + \" + os.path.join(directory,fk)) for fk in fig_fnames]"
   ]
  },
  {
   "cell_type": "code",
   "execution_count": 8,
   "id": "014d04a4",
   "metadata": {
    "execution": {
     "iopub.execute_input": "2022-12-21T04:10:10.609889Z",
     "iopub.status.busy": "2022-12-21T04:10:10.609406Z",
     "iopub.status.idle": "2022-12-21T04:10:10.622459Z",
     "shell.execute_reply": "2022-12-21T04:10:10.621707Z"
    },
    "papermill": {
     "duration": 0.025897,
     "end_time": "2022-12-21T04:10:10.623989",
     "exception": false,
     "start_time": "2022-12-21T04:10:10.598092",
     "status": "completed"
    },
    "tags": []
   },
   "outputs": [
    {
     "name": "stdout",
     "output_type": "stream",
     "text": [
      "exported in  _build/html/2212.09766.md\n",
      "    + _build/html/tmp_2212.09766/./CDF_Mass_ALLSNe.png\n",
      "    + _build/html/tmp_2212.09766/./CDF_Mass_ByType.png\n",
      "    + _build/html/tmp_2212.09766/./ModelCDFs55.png\n",
      "exported in  _build/html/2212.10512.md\n",
      "    + _build/html/tmp_2212.10512/./ratios_all_maps_ngc0628_v2.png\n",
      "    + _build/html/tmp_2212.10512/./ratios_1d_hists.png\n",
      "    + _build/html/tmp_2212.10512/./ratios_all_maps_ngc1365_v2.png\n"
     ]
    }
   ],
   "source": [
    "for paper_id, md in documents:\n",
    "    export_markdown_summary(md, f\"{paper_id:s}.md\", '_build/html/')"
   ]
  },
  {
   "cell_type": "markdown",
   "id": "f087a0a7",
   "metadata": {
    "papermill": {
     "duration": 0.010118,
     "end_time": "2022-12-21T04:10:10.644295",
     "exception": false,
     "start_time": "2022-12-21T04:10:10.634177",
     "status": "completed"
    },
    "tags": []
   },
   "source": [
    "## Display the papers\n",
    "\n",
    "Not necessary but allows for a quick check."
   ]
  },
  {
   "cell_type": "code",
   "execution_count": 9,
   "id": "fd25f625",
   "metadata": {
    "execution": {
     "iopub.execute_input": "2022-12-21T04:10:10.666162Z",
     "iopub.status.busy": "2022-12-21T04:10:10.665851Z",
     "iopub.status.idle": "2022-12-21T04:10:10.671979Z",
     "shell.execute_reply": "2022-12-21T04:10:10.671450Z"
    },
    "papermill": {
     "duration": 0.019385,
     "end_time": "2022-12-21T04:10:10.673755",
     "exception": false,
     "start_time": "2022-12-21T04:10:10.654370",
     "status": "completed"
    },
    "scrolled": false,
    "tags": []
   },
   "outputs": [
    {
     "data": {
      "text/markdown": [
       "<div class=\"macros\" style=\"visibility:hidden;\">\n",
       "$\\newcommand{\\ensuremath}{}$\n",
       "$\\newcommand{\\xspace}{}$\n",
       "$\\newcommand{\\object}[1]{\\texttt{#1}}$\n",
       "$\\newcommand{\\farcs}{{.}''}$\n",
       "$\\newcommand{\\farcm}{{.}'}$\n",
       "$\\newcommand{\\arcsec}{''}$\n",
       "$\\newcommand{\\arcmin}{'}$\n",
       "$\\newcommand{\\ion}[2]{#1#2}$\n",
       "$\\newcommand{\\textsc}[1]{\\textrm{#1}}$\n",
       "$\\newcommand{\\hl}[1]{\\textrm{#1}}$\n",
       "$\\newcommand{\\cotwo}{\\mbox{\\rm CO(2\\text{--}1)}}$\n",
       "$\\newcommand{\\halpha}{\\mbox{\\rm H\\alpha}}$\n",
       "$\\newcommand{\\xco}{\\mbox{X_{\\rm CO}}}$\n",
       "$\\newcommand{\\xcounits}{\\mbox{cm^{-2} (K~km~s^{-1})^{-1}}}$\n",
       "$\\newcommand{\\acounits}{\\mbox{M_\\odot~pc^{-2} (K~km~s^{-1})^{-1}}}$\n",
       "$\\newcommand{\\sigsfr}{\\mbox{\\Sigma_{\\rm SFR}}}$\n",
       "$\\newcommand{\\ANU}{\\affiliation{Research School of Astronomy and Astrophysics, Australian National University, Canberra, ACT 2611, Australia}}$\n",
       "$\\newcommand{\\ARI}{\\affil{Astronomisches Rechen-Institut, Zentrum f\\\"{u}r Astronomie der Universit\\\"{a}t Heidelberg, M\\\"{o}nchhofstra\\ss e 12-14, D-69120 Heidelberg, Germany}}$\n",
       "$\\newcommand{\\ASTROThreeD}{\\affiliation{ARC Centre of Excellence for All Sky Astrophysics in 3 Dimensions (ASTRO 3D), Australia}}$\n",
       "$\\newcommand{\\Bonn}{\\affiliation{Argelander-Institut f\\\"{u}r Astronomie, Universit\\\"{a}t Bonn, Auf dem H\\\"{u}gel 71, 53121 Bonn, Germany}}$\n",
       "$\\newcommand{\\Carnegie}{\\affiliation{Observatories of the Carnegie Institution for Science, 813 Santa Barbara Street, Pasadena, CA 91101, USA}}$\n",
       "$\\newcommand{\\CCAPP}{\\affil{Center for Cosmology and Astroparticle Physics, 191 West Woodruff Avenue, Columbus, OH 43210, USA}}$\n",
       "$\\newcommand{\\CITA}{\\affiliation{Canadian Institute for Theoretical Astrophysics (CITA), University of Toronto, 60 St George Street, Toronto, ON M5S 3H8, Canada}}$\n",
       "$\\newcommand{\\CNRS}{\\affil{CNRS, IRAP, 9 Av. du Colonel Roche, BP 44346, F-31028 Toulouse cedex 4, France}}$\n",
       "$\\newcommand{\\COOL}{\\affil{Cosmic Origins Of Life (COOL) Research DAO, coolresearch.io}}$\n",
       "$\\newcommand{\\ITA}{\\affil{Instit\\\"ut f\\\"{u}r Theoretische Astrophysik, Zentrum f\\\"{u}r Astronomie der Universit\\\"{a}t Heidelberg, Albert-Ueberle-Strasse 2, 69120 Heidelberg, Germany}}$\n",
       "$\\newcommand{\\McMaster}{\\affiliation{Department of Physics and Astronomy, McMaster University, 1280 Main Street West, Hamilton, ON L8S 4M1, Canada}}$\n",
       "$\\newcommand{\\MPIA}{\\affil{Max Planck Institut f\\\"{u}r Astronomie, K\\\"{o}nigstuhl 17, 69117 Heidelberg, Germany}}$\n",
       "$\\newcommand{\\NRAO}{\\affil{National Radio Astronomy Observatory, 520 Edgemont Road, Charlottesville, VA 22903-2475, USA}}$\n",
       "$\\newcommand{\\OSU}{\\affil{Department of Astronomy, The Ohio State University, 140 West 18th Avenue, Columbus, Ohio 43210, USA}}$\n",
       "$\\newcommand{\\OSUPhysics}{\\affil{Department of Physics, 191 West Woodruff Avenue, Columbus, OH 43210, USA}}$\n",
       "$\\newcommand{\\Toulouse}{\\affil{Université de Toulouse, UPS-OMP, IRAP, F-31028 Toulouse cedex 4, France}}$\n",
       "$\\newcommand{\\UChile}{\\affiliation{Departamento de Astronomía, Universidad de Chile, Camino del Observatorio 1515, Las Condes, Santiago, Chile}}$\n",
       "$\\newcommand{\\uwyo}{\\affil{Department of Physics \\& Astronomy, University of Wyoming, Laramie, WY 82071 USA}}$\n",
       "$\\newcommand{\\thefigure}{A\\arabic{figure}}$\n",
       "$\\newcommand{\\thetable}{A\\arabic{table}}$\n",
       "$\\newcommand{\\theequation}{A\\arabic{equation}}$</div>\n",
       "\n",
       "<div class=\"macros\" style=\"visibility:hidden;\">\n",
       "$\\newcommand{$\\ensuremath$}{}$\n",
       "$\\newcommand{$\\xspace$}{}$\n",
       "$\\newcommand{$\\object$}[1]{\\texttt{#1}}$\n",
       "$\\newcommand{$\\farcs$}{{.}''}$\n",
       "$\\newcommand{$\\farcm$}{{.}'}$\n",
       "$\\newcommand{$\\arcsec$}{''}$\n",
       "$\\newcommand{$\\arcmin$}{'}$\n",
       "$\\newcommand{$\\ion$}[2]{#1#2}$\n",
       "$\\newcommand{$\\textsc$}[1]{\\textrm{#1}}$\n",
       "$\\newcommand{$\\hl$}[1]{\\textrm{#1}}$\n",
       "$\\newcommand{$\\cotwo$}{\\mbox{\\rm CO(2\\text{--}1)}}$\n",
       "$\\newcommand{$\\halpha$}{\\mbox{\\rm H\\alpha}}$\n",
       "$\\newcommand{$\\xco$}{\\mbox{X_{\\rm CO}}}$\n",
       "$\\newcommand{$\\xco$units}{\\mbox{cm^{-2} (K~km~s^{-1})^{-1}}}$\n",
       "$\\newcommand{$\\acounits$}{\\mbox{M_\\odot~pc^{-2} (K~km~s^{-1})^{-1}}}$\n",
       "$\\newcommand{$\\sigsfr$}{\\mbox{\\Sigma_{\\rm SFR}}}$\n",
       "$\\newcommand{$\\ANU$}{\\affiliation{Research School of Astronomy and Astrophysics, Australian National University, Canberra, ACT 2611, Australia}}$\n",
       "$\\newcommand{$\\ARI$}{\\affil{Astronomisches Rechen-Institut, Zentrum f\\\"{u}r Astronomie der Universit\\\"{a}t Heidelberg, M\\\"{o}nchhofstra\\ss e 12-14, D-69120 Heidelberg, Germany}}$\n",
       "$\\newcommand{$\\ASTROThreeD$}{\\affiliation{ARC Centre of Excellence for All Sky Astrophysics in 3 Dimensions (ASTRO 3D), Australia}}$\n",
       "$\\newcommand{$\\Bonn$}{\\affiliation{Argelander-Institut f\\\"{u}r Astronomie, Universit\\\"{a}t Bonn, Auf dem H\\\"{u}gel 71, 53121 Bonn, Germany}}$\n",
       "$\\newcommand{$\\Carnegie$}{\\affiliation{Observatories of the Carnegie Institution for Science, 813 Santa Barbara Street, Pasadena, CA 91101, USA}}$\n",
       "$\\newcommand{$\\CCAPP$}{\\affil{Center for Cosmology and Astroparticle Physics, 191 West Woodruff Avenue, Columbus, OH 43210, USA}}$\n",
       "$\\newcommand{$\\CITA$}{\\affiliation{Canadian Institute for Theoretical Astrophysics (CITA), University of Toronto, 60 St George Street, Toronto, ON M5S 3H8, Canada}}$\n",
       "$\\newcommand{$\\CNRS$}{\\affil{CNRS, IRAP, 9 Av. du Colonel Roche, BP 44346, F-31028 Toulouse cedex 4, France}}$\n",
       "$\\newcommand{$\\COOL$}{\\affil{Cosmic Origins Of Life (COOL) Research DAO, coolresearch.io}}$\n",
       "$\\newcommand{$\\ITA$}{\\affil{Instit\\\"ut f\\\"{u}r Theoretische Astrophysik, Zentrum f\\\"{u}r Astronomie der Universit\\\"{a}t Heidelberg, Albert-Ueberle-Strasse 2, 69120 Heidelberg, Germany}}$\n",
       "$\\newcommand{$\\McMaster$}{\\affiliation{Department of Physics and Astronomy, McMaster University, 1280 Main Street West, Hamilton, ON L8S 4M1, Canada}}$\n",
       "$\\newcommand{$\\MPIA$}{\\affil{Max Planck Institut f\\\"{u}r Astronomie, K\\\"{o}nigstuhl 17, 69117 Heidelberg, Germany}}$\n",
       "$\\newcommand{$\\NRAO$}{\\affil{National Radio Astronomy Observatory, 520 Edgemont Road, Charlottesville, VA 22903-2475, USA}}$\n",
       "$\\newcommand{$\\OSU$}{\\affil{Department of Astronomy, The Ohio State University, 140 West 18th Avenue, Columbus, Ohio 43210, USA}}$\n",
       "$\\newcommand{$\\OSU$Physics}{\\affil{Department of Physics, 191 West Woodruff Avenue, Columbus, OH 43210, USA}}$\n",
       "$\\newcommand{$\\Toulouse$}{\\affil{Université de Toulouse, UPS-OMP, IRAP, F-31028 Toulouse cedex 4, France}}$\n",
       "$\\newcommand{$\\UChile$}{\\affiliation{Departamento de Astronomía, Universidad de Chile, Camino del Observatorio 1515, Las Condes, Santiago, Chile}}$\n",
       "$\\newcommand{$\\uwyo$}{\\affil{Department of Physics \\& Astronomy, University of Wyoming, Laramie, WY 82071 USA}}$\n",
       "$\\newcommand{$\\thefigure$}{A\\arabic{figure}}$\n",
       "$\\newcommand{$\\thetable$}{A\\arabic{table}}$\n",
       "$\\newcommand{$\\theequation$}{A\\arabic{equation}}$</div>\n",
       "\n",
       "\n",
       "\n",
       "<div id=\"title\">\n",
       "\n",
       "# Comparing the Locations of Supernovae to CO (2-1) Emission in their Host Galaxies\n",
       "\n",
       "</div>\n",
       "<div id=\"comments\">\n",
       "\n",
       "[![arXiv](https://img.shields.io/badge/arXiv-2212.09766-b31b1b.svg)](https://arxiv.org/abs/2212.09766)<mark>Appeared on: 2022-12-21</mark> - _Accepted to ApJ; 38 pages, 12 figures, 7 tables in two-column AASTEX63 format_\n",
       "\n",
       "</div>\n",
       "<div id=\"authors\">\n",
       "\n",
       "Ness~Mayker~Chen, et al. -- incl., <mark>Annie~Hughes</mark>, <mark>Kathryn~Kreckel</mark>, <mark>Frank Bigiel</mark>, <mark>Eva Schinnerer</mark>\n",
       "\n",
       "</div>\n",
       "<div id=\"abstract\">\n",
       "\n",
       "**Abstract:** We measure the molecular gas environment near recent ($< 100$yr old) supernovae (SNe) using$\\sim1\"$or$\\leq 150$pc resolution CO (2-1) maps from the PHANGS-ALMA survey of nearby star-forming galaxies. This is arguably the first such study to approach the scales of individual massive molecular clouds ($M_{\\rm mol} \\gtrsim 10^{5.3}$M$_{\\odot}$). Using the Open Supernova Catalog (OSC), we identify 63 SNe within the PHANGS--ALMA footprint. We detect CO (2-1) emission near$\\sim60\\%$of the sample at 150 pc resolution, compared to$\\sim35\\%$of map pixels with CO (2-1) emission,  and up to$\\sim95\\%$of the SNe at 1 kpc resolution compared to$\\sim80\\%$of map pixels with CO (2-1) emission. We expect the$\\sim60\\%$of SNe within the same 150 pc beam as a GMC will likely interact with these clouds in the future, consistent with the observation of widespread SN-molecular gas interaction in the Milky Way, while the other$\\sim40\\%$of SNe without strong CO (2-1) detections will deposit their energy in the diffuse interstellar medium (ISM), perhaps helping drive large-scale turbulence or galactic outflows. Broken down by type, we detect CO (2-1) emission at the sites of$\\sim85\\%$of our 9 stripped-envelope SNe (SESNe),$\\sim40\\%$of our 34 Type II SNe, and$\\sim35\\%$of our 13 Type Ia SNe, indicating that SESNe are most closely associated with the brightest CO (2-1) emitting regions in our sample. Our results confirm that SN explosions are not restricted to only the densest gas, and instead exert feedback across a wide range of molecular gas densities.\n",
       "\n",
       "</div>\n",
       "\n",
       "<div id=\"div_fig1\">\n",
       "\n",
       "<img src=\"tmp_2212.09766/./CDF_Mass_ALLSNe.png\" alt=\"Fig9\" width=\"100%\"/>\n",
       "\n",
       "**Figure 9. -** \\textit{CDFs of physical area (top panel) and molecular gas mass (bottom panel) as a function of projected molecular gas surface density at the locations of our SN sample at 150 pc resolution.} We classify the measurements into detections with signal-to-noise $\\geq$ 3 (purple circles) and non-detections plotted at the upper-limit of three times the noise value of the measurement (turquoise triangles). The top panel weights each pixel by its physical area in $pc^2$ in the plane of the galaxy, while the bottom panel weights each pixel by the molecular mass within the pixel. In the top panel we generate the CDF using both non-detections and detections. When calculating the CDF, we assume that the non-detections all have lower $\\Sigma_{\\rm mol}$ than the lowest detection value. The bottom panel omits non-detections, assuming the pixels to have negligible molecular gas. For comparison, we also plot the CDF of all of the pixels in all the CO (2-1) maps in our sample, classifying them by signal-to-noise with dark-grey, solid (detections) and dark-grey, dashed (upper-limits) lines. Finally, we plot the average value of the map pixels with a red, vertical line and the average value of the SN sites with a blue, vertical line. Both panels show that SNe consistently explode in regions of brighter CO (2-1) emission and molecular gas surface density compared to a pixel drawn randomly from the map. (*fig:CDF_ALLSNe*)\n",
       "\n",
       "</div>\n",
       "<div id=\"div_fig2\">\n",
       "\n",
       "<img src=\"tmp_2212.09766/./CDF_Mass_ByType.png\" alt=\"Fig10\" width=\"100%\"/>\n",
       "\n",
       "**Figure 10. -** \\textit{CDFs of physical area (top) and molecular gas mass (bottom) at the locations of SNe as a function of molecular gas surface density, now sorted by type.} As Figure \\ref{fig:CDF_ALLSNe} but now separating the SNe by type. Upper-limit values are marked with triangles, and detections are marked with circles. SNe Ia have purple markers, SNe II have orange markers and SESNe (SNe IIb, Ib, and Ic) have black markers. In the top panel, the CDFs of all the pixels in the galaxy maps are also plotted, with detections marked by a solid, dark-grey curve and non-detections (with upper-limit values) with a dashed, dark-grey curve. We plot the average surface density value of map pixels with a solid, blue, vertical line; and the average surface densities at the sites of SNe Ia, SNe II, \\& SESNe (IIb/Ib/Ic) with purple-dot-dashed, black-dotted, and orange-dashed vertical lines respectively. In the bottom panel, we plot the fraction of \\textit{molecular gas mass} instead of the fraction of physical area. The average surface density of map pixels with detected CO (2-1) emission is plotted with a solid, blue, vertical line and the average surface density of Type Ia, II, and IIb/Ib/Ic sites with detected CO (2-1) emission are plotted with purple-dash-dotted, orange-dashed, and black-dotted vertical lines respectively. The figure shows that SESNe and Type II SNe tend to occur in regions of higher $\\Sigma_{\\rm mol}$  than Type Ia SNe. We also note that $\\sim35\\%$ of our SNe Ia occur in regions with detectable molecular gas, while $\\sim65\\%$ of our SNe Ia occur with no detectable CO (2-1) emission. (*fig:CDFByType*)\n",
       "\n",
       "</div>\n",
       "<div id=\"div_fig3\">\n",
       "\n",
       "<img src=\"tmp_2212.09766/./ModelCDFs55.png\" alt=\"Fig3\" width=\"100%\"/>\n",
       "\n",
       "**Figure 3. -** \\textit{CDFs of distances to the nearest pixel with molecular gas surface density of each galaxy's individual median $3\\sigma$ $\\Sigma_{\\rm mol}$ or higher}. Our real SNe sample is drawn with a dark-grey line. The randomly generated SNe sample is drawn with a dotted red line, gas distribution as dashed green line, stellar as dash-dotted blue line, and the hybrid model as solid purple line. The transparent shading represents the 16th-84th percentile values from 1000 random pulls each the size of our observed SN sample from each model distribution. In the bottom panel, we separate our observed SN sample by SN type. SNe Ia are marked with a dotted-black line, SNe II with a solid line, SNe Ibc with a dashed line and unclassified SNe with a dashed-dotted line. The models are plotted with the same color scheme as the top panel. (*fig:modelCDFs*)\n",
       "\n",
       "</div>"
      ],
      "text/plain": [
       "<IPython.core.display.Markdown object>"
      ]
     },
     "metadata": {},
     "output_type": "display_data"
    },
    {
     "data": {
      "text/markdown": [
       "<div class=\"macros\" style=\"visibility:hidden;\">\n",
       "$\\newcommand{\\ensuremath}{}$\n",
       "$\\newcommand{\\xspace}{}$\n",
       "$\\newcommand{\\object}[1]{\\texttt{#1}}$\n",
       "$\\newcommand{\\farcs}{{.}''}$\n",
       "$\\newcommand{\\farcm}{{.}'}$\n",
       "$\\newcommand{\\arcsec}{''}$\n",
       "$\\newcommand{\\arcmin}{'}$\n",
       "$\\newcommand{\\ion}[2]{#1#2}$\n",
       "$\\newcommand{\\textsc}[1]{\\textrm{#1}}$\n",
       "$\\newcommand{\\hl}[1]{\\textrm{#1}}$\n",
       "$\\newcommand{\\XX}{\\textbf{Flag!}\\xspace}$\n",
       "$\\newcommand{\\coto}{^{12}{\\rm CO}~(2\\to1)\\xspace}$\n",
       "$\\newcommand{\\halpha}{H\\alpha\\xspace}$\n",
       "$\\newcommand{\\hii}{\\ion{H}{2}\\xspace}$\n",
       "$\\newcommand{\\hone}{H{\\sc i}\\xspace}$\n",
       "$\\newcommand{\\ration}{F1130W/F770W\\xspace}$\n",
       "$\\newcommand{\\ratioss}{F335M_{\\rm PAH}/F770W\\xspace}$\n",
       "$\\newcommand{\\ratiose}{F335M_{\\rm PAH}/F1130W\\xspace}$\n",
       "$\\newcommand{\\hagasratio}{I_{\\rm H{\\alpha}}/\\Sigma_{\\rm H{\\sc I}+H_2}\\xspace}$\n",
       "$\\newcommand{\\rpah}{R_{\\rm PAH}\\xspace}$\n",
       "$\\newcommand{\\mjysr}{MJy~sr^{-1}\\xspace}$</div>\n",
       "\n",
       "<div class=\"macros\" style=\"visibility:hidden;\">\n",
       "$\\newcommand{$\\ensuremath$}{}$\n",
       "$\\newcommand{$\\xspace$}{}$\n",
       "$\\newcommand{$\\object$}[1]{\\texttt{#1}}$\n",
       "$\\newcommand{$\\farcs$}{{.}''}$\n",
       "$\\newcommand{$\\farcm$}{{.}'}$\n",
       "$\\newcommand{$\\arcsec$}{''}$\n",
       "$\\newcommand{$\\arcmin$}{'}$\n",
       "$\\newcommand{$\\ion$}[2]{#1#2}$\n",
       "$\\newcommand{$\\textsc$}[1]{\\textrm{#1}}$\n",
       "$\\newcommand{$\\hl$}[1]{\\textrm{#1}}$\n",
       "$\\newcommand{$\\XX$}{\\textbf{Flag!}$\\xspace$}$\n",
       "$\\newcommand{$\\coto$}{^{12}{\\rm CO}~(2\\to1)$\\xspace$}$\n",
       "$\\newcommand{$\\halpha$}{H\\alpha$\\xspace$}$\n",
       "$\\newcommand{$\\hii$}{$\\ion${H}{2}$\\xspace$}$\n",
       "$\\newcommand{$\\hone$}{H{\\sc i}$\\xspace$}$\n",
       "$\\newcommand{$\\ration$}{F1130W/F770W$\\xspace$}$\n",
       "$\\newcommand{$\\ratioss$}{F335M_{\\rm PAH}/F770W$\\xspace$}$\n",
       "$\\newcommand{$\\ratiose$}{F335M_{\\rm PAH}/F1130W$\\xspace$}$\n",
       "$\\newcommand{$\\hagasratio$}{I_{\\rm H{\\alpha}}/\\Sigma_{\\rm H{\\sc I}+H_2}$\\xspace$}$\n",
       "$\\newcommand{$\\rpah$}{R_{\\rm PAH}$\\xspace$}$\n",
       "$\\newcommand{$\\mjysr$}{MJy~sr^{-1}$\\xspace$}$</div>\n",
       "\n",
       "\n",
       "\n",
       "<div id=\"title\">\n",
       "\n",
       "# PHANGS-JWST First Results: Measuring PAH Properties across the multiphase ISM\n",
       "\n",
       "</div>\n",
       "<div id=\"comments\">\n",
       "\n",
       "[![arXiv](https://img.shields.io/badge/arXiv-2212.10512-b31b1b.svg)](https://arxiv.org/abs/2212.10512)<mark>Appeared on: 2022-12-21</mark> - _12 pages, 6 figures. Accepted as part of a PHANGS-JWST Focus Issue to appear in ApJ_\n",
       "\n",
       "</div>\n",
       "<div id=\"authors\">\n",
       "\n",
       "J\\'er\\'emy Chastenet, et al. -- incl., <mark>Daizhong Liu</mark>, <mark>Annie~Hughes</mark>, <mark>Kathryn Kreckel</mark>, <mark>Eva Schinnerer</mark>\n",
       "\n",
       "</div>\n",
       "<div id=\"abstract\">\n",
       "\n",
       "**Abstract:** Ratios of polycyclic aromatic hydrocarbon (PAH) vibrational bands are a promising tool for measuring the properties of the PAH population and their effect on star formation.  The photometric bands of the MIRI and NIRCam instruments on JWST provide the opportunity to measure PAH emission features across entire galaxy disks at unprecedented resolution and sensitivity.Here we present the first results of this analysis in a sample of three nearby galaxies: NGC 628, NGC 1365, and NGC 7496.  Based on the variations observed in the 3.3, 7.7, and 11.3$\\mu$m features, we infer changes to the average PAH size and ionization state across the different galaxy environments.  High values of$\\ratiose$and low values of$\\ration$are measured in$\\hii$regions in all three galaxies.This suggests that these regions are populated by hotter PAHs, and/or that the PAH ionization fraction is larger.We see additional evidence of heating and/or changes in PAH size in regions with higher molecular gas content as well as increased ionization in regions with higher$\\halpha$intensity.\n",
       "\n",
       "</div>\n",
       "\n",
       "<div id=\"div_fig1\">\n",
       "\n",
       "<img src=\"tmp_2212.10512/./ratios_all_maps_ngc0628_v2.png\" alt=\"Fig2\" width=\"100%\"/>\n",
       "\n",
       "**Figure 2. -** PAH band ratios in NGC 628. The maps show all pixels passing ${\\rm S/N \\geq 3}$ in all bands (see Section \\ref{SecNoise}).\n",
       "    The F335M$_{\\rm PAH}$ refers to the 3.3 $\\mu$m maps developed by \\citet[][]{SANDSTROM2_PHANGSJWST}.\n",
       "    The contour show the $\\hii$ regions from the nebula catalog by \\citet[][]{GROVES_HIICAT, PHANGSMUSE2022HII}.\n",
       "    (The maps were arbitrarily rotated from north-up to allow for better visualization.)\n",
       "     (*FigRatioNGC628*)\n",
       "\n",
       "</div>\n",
       "<div id=\"div_fig2\">\n",
       "\n",
       "<img src=\"tmp_2212.10512/./ratios_1d_hists.png\" alt=\"Fig5\" width=\"100%\"/>\n",
       "\n",
       "**Figure 5. -** Running medians of the $\\ratioss$(top), $\\ratioss$(middle), and $\\ration$(bottom), in bins of $\\hagasratio$(left), fraction of molecular gas, $f_{\\rm H_2}$(right), and the abundance ratio $\\rpah$ = (F700W+F1130W)/F2100W. (*FigPanel*)\n",
       "\n",
       "</div>\n",
       "<div id=\"div_fig3\">\n",
       "\n",
       "<img src=\"tmp_2212.10512/./ratios_all_maps_ngc1365_v2.png\" alt=\"Fig3\" width=\"100%\"/>\n",
       "\n",
       "**Figure 3. -** Same as Figure \\ref{FigRatioNGC628} for NGC 1365. The central pixels are masked due to saturation, using the PSF at F1130W. The visible stripes are due to $1/f$ noise in the NIRCam bands.\n",
       "    (The maps were arbitrarily rotated from north-up to allow for better visualization.) (*FigRatioNGC1365*)\n",
       "\n",
       "</div>"
      ],
      "text/plain": [
       "<IPython.core.display.Markdown object>"
      ]
     },
     "metadata": {},
     "output_type": "display_data"
    }
   ],
   "source": [
    "[display(Markdown(k[1])) for k in documents];"
   ]
  },
  {
   "cell_type": "markdown",
   "id": "873873a4",
   "metadata": {
    "papermill": {
     "duration": 0.010726,
     "end_time": "2022-12-21T04:10:10.727864",
     "exception": false,
     "start_time": "2022-12-21T04:10:10.717138",
     "status": "completed"
    },
    "tags": []
   },
   "source": [
    "# Create HTML index"
   ]
  },
  {
   "cell_type": "code",
   "execution_count": 10,
   "id": "cf665672",
   "metadata": {
    "execution": {
     "iopub.execute_input": "2022-12-21T04:10:10.750899Z",
     "iopub.status.busy": "2022-12-21T04:10:10.750300Z",
     "iopub.status.idle": "2022-12-21T04:10:10.765262Z",
     "shell.execute_reply": "2022-12-21T04:10:10.764565Z"
    },
    "papermill": {
     "duration": 0.028486,
     "end_time": "2022-12-21T04:10:10.766922",
     "exception": false,
     "start_time": "2022-12-21T04:10:10.738436",
     "status": "completed"
    },
    "tags": []
   },
   "outputs": [
    {
     "name": "stdout",
     "output_type": "stream",
     "text": [
      "143  publications in the last 7 days.\n",
      "\t _build/html/2212.10512.md\n",
      "\t _build/html/2212.09766.md\n",
      "\t _build/html/2212.09675.md\n",
      "\t _build/html/2212.09661.md\n",
      "\t _build/html/2212.09652.md\n",
      "\t _build/html/2212.09443.md\n",
      "\t _build/html/2212.09307.md\n",
      "\t _build/html/2212.09168.md\n",
      "\t _build/html/2212.09159.md\n",
      "\t _build/html/2212.08702.md\n",
      "\t _build/html/2212.07332.md\n",
      "\t _build/html/2212.06434.md\n",
      "\t _build/html/2212.04710.md\n",
      "\t _build/html/2212.04026.md\n",
      "\t _build/html/2212.03563.md\n",
      "\t _build/html/2212.03514.md\n",
      "\t _build/html/2212.02667.md\n",
      "\t _build/html/2212.02627.md\n",
      "\t _build/html/2212.02235.md\n",
      "\t _build/html/2212.01707.md\n",
      "\t _build/html/2212.01526.md\n",
      "\t _build/html/2212.01397.md\n",
      "\t _build/html/2212.01291.md\n",
      "\t _build/html/2212.01281.md\n",
      "\t _build/html/2212.00812.md\n",
      "\t _build/html/2212.00811.md\n",
      "\t _build/html/2212.00806.md\n",
      "\t _build/html/2212.00047.md\n",
      "\t _build/html/2212.00032.md\n",
      "\t _build/html/2211.16996.md\n",
      "\t _build/html/2211.16510.md\n",
      "\t _build/html/2211.16123.md\n",
      "\t _build/html/2211.15816.md\n",
      "\t _build/html/2211.15698.md\n",
      "\t _build/html/2211.15576.md\n",
      "\t _build/html/2211.15434.md\n",
      "\t _build/html/2211.15288.md\n",
      "\t _build/html/2211.15224.md\n",
      "\t _build/html/2211.14543.md\n",
      "\t _build/html/2211.14330.md\n",
      "\t _build/html/2211.14322.md\n",
      "\t _build/html/2211.14132.md\n",
      "\t _build/html/2211.13811.md\n",
      "\t _build/html/2211.13426.md\n",
      "\t _build/html/2211.13318.md\n",
      "\t _build/html/2211.13146.md\n",
      "\t _build/html/2211.12613.md\n",
      "\t _build/html/2211.11767.md\n",
      "\t _build/html/2211.09840.md\n",
      "\t _build/html/2211.09217.md\n",
      "\t _build/html/2211.08493.md\n",
      "\t _build/html/2211.08487.md\n",
      "\t _build/html/2211.08294.md\n",
      "\t _build/html/2211.07667.md\n",
      "\t _build/html/2211.07659.md\n",
      "\t _build/html/2211.06454.md\n",
      "\t _build/html/2211.06205.md\n",
      "\t _build/html/2211.06194.md\n",
      "\t _build/html/2211.05022.md\n",
      "\t _build/html/2211.04048.md\n",
      "\t _build/html/2211.03641.md\n",
      "\t _build/html/2211.02502.md\n",
      "\t _build/html/2211.01474.md\n",
      "\t _build/html/2211.00667.md\n",
      "\t _build/html/2211.00657.md\n",
      "\t _build/html/2211.00087.md\n",
      "\t _build/html/2211.00036.md\n",
      "\t _build/html/2211.00020.md\n",
      "\t _build/html/2211.00010.md\n",
      "\t _build/html/2210.17434.md\n",
      "\t _build/html/2210.12412.md\n",
      "\t _build/html/2210.11926.md\n",
      "\t _build/html/2210.11551.md\n",
      "\t _build/html/2210.11103.md\n",
      "\t _build/html/2210.10707.md\n",
      "\t _build/html/2210.09930.md\n",
      "\t _build/html/2210.08996.md\n",
      "\t _build/html/2210.08517.md\n",
      "\t _build/html/2210.08510.md\n",
      "\t _build/html/2210.08078.md\n",
      "\t _build/html/2210.06504.md\n",
      "\t _build/html/2210.05695.md\n",
      "\t _build/html/2210.05595.md\n",
      "\t _build/html/2210.05505.md\n",
      "\t _build/html/2210.04721.md\n",
      "\t _build/html/2210.03615.md\n",
      "\t _build/html/2210.01811.md\n",
      "\t _build/html/2210.01809.md\n",
      "\t _build/html/2210.01556.md\n",
      "\t _build/html/2210.00863.md\n",
      "\t _build/html/2210.00560.md\n",
      "\t _build/html/2209.15403.md\n",
      "\t _build/html/2209.15110.md\n",
      "\t _build/html/2209.14410.md\n",
      "\t _build/html/2209.14396.md\n",
      "\t _build/html/2209.13717.md\n",
      "\t _build/html/2209.13336.md\n",
      "\t _build/html/2209.12906.md\n",
      "\t _build/html/2209.11781.md\n",
      "\t _build/html/2209.11602.md\n",
      "\t _build/html/2209.11248.md\n",
      "\t _build/html/2209.11096.md\n",
      "\t _build/html/2209.10618.md\n",
      "\t _build/html/2209.09914.md\n",
      "\t _build/html/2209.09823.md\n",
      "\t _build/html/2209.08242.md\n",
      "\t _build/html/2209.08120.md\n",
      "\t _build/html/2209.08106.md\n",
      "\t _build/html/2209.07962.md\n",
      "\t _build/html/2209.07931.md\n",
      "\t _build/html/2209.06833.md\n",
      "\t _build/html/2209.05814.md\n",
      "\t _build/html/2209.05593.md\n",
      "\t _build/html/2209.04304.md\n",
      "\t _build/html/2209.03367.md\n",
      "\t _build/html/2209.02872.md\n",
      "\t _build/html/2209.02725.md\n",
      "\t _build/html/2209.02722.md\n",
      "\t _build/html/2209.02092.md\n",
      "\t _build/html/2209.01125.md\n",
      "\t _build/html/2209.00828.md\n",
      "\t _build/html/2209.00363.md\n",
      "\t _build/html/2208.14927.md\n",
      "\t _build/html/2208.09335.md\n",
      "\t _build/html/2208.08872.md\n",
      "\t _build/html/2204.06393.md\n",
      "\t _build/html/2204.03335.md\n",
      "\t _build/html/2204.03253.md\n",
      "\t _build/html/2204.02998.md\n",
      "\t _build/html/2204.02109.md\n",
      "\t _build/html/2204.02017.md\n",
      "\t _build/html/2204.01824.md\n",
      "\t _build/html/2204.01758.md\n",
      "\t _build/html/2204.01245.md\n",
      "\t _build/html/2204.00793.md\n",
      "\t _build/html/2204.00342.md\n",
      "\t _build/html/2203.16959.md\n",
      "\t _build/html/2203.16856.md\n",
      "\t _build/html/2203.16735.md\n",
      "\t _build/html/2203.16734.md\n",
      "\t _build/html/2203.16504.md\n",
      "\t _build/html/2203.15822.md\n",
      "\t _build/html/2203.15811.md\n"
     ]
    }
   ],
   "source": [
    "from datetime import datetime, timedelta, timezone\n",
    "from glob import glob\n",
    "\n",
    "files = glob('_build/html/*.md')\n",
    "days = 7\n",
    "now = datetime.today()\n",
    "res = []\n",
    "for fk in files:\n",
    "    stat_result = os.stat(fk).st_ctime\n",
    "    modified = datetime.fromtimestamp(stat_result, tz=timezone.utc).replace(tzinfo=None)\n",
    "    delta = now.today() - modified\n",
    "    if delta <= timedelta(days=days):\n",
    "        res.append((delta.seconds, fk))\n",
    "res = [k[1] for k in reversed(sorted(res, key=lambda x:x[1]))]\n",
    "npub = len(res)\n",
    "print(len(res), f\" publications in the last {days:d} days.\")\n",
    "[ print('\\t', k) for k in res ];"
   ]
  },
  {
   "cell_type": "code",
   "execution_count": 11,
   "id": "52ca0208",
   "metadata": {
    "execution": {
     "iopub.execute_input": "2022-12-21T04:10:10.790460Z",
     "iopub.status.busy": "2022-12-21T04:10:10.789598Z",
     "iopub.status.idle": "2022-12-21T04:10:10.796297Z",
     "shell.execute_reply": "2022-12-21T04:10:10.795744Z"
    },
    "papermill": {
     "duration": 0.019974,
     "end_time": "2022-12-21T04:10:10.797766",
     "exception": false,
     "start_time": "2022-12-21T04:10:10.777792",
     "status": "completed"
    },
    "scrolled": false,
    "tags": []
   },
   "outputs": [],
   "source": [
    "def create_carousel(npub=4):\n",
    "    \"\"\" Generate the HTML code for a carousel with `npub` slides \"\"\"\n",
    "    carousel = [\"\"\"<section class=\"carousel\" aria-label=\"Gallery\">\"\"\",\n",
    "                \"\"\"  <ol class=\"carousel__viewport\">\"\"\",\n",
    "    ]\n",
    "    for k in range(1, npub + 1):\n",
    "        prev_ = k - 1\n",
    "        next_ = k + 1\n",
    "        if prev_ <= 0:\n",
    "            prev_ = npub\n",
    "        if next_ > npub:\n",
    "            next_ = 1\n",
    "        text  = f\"\"\"    <li id=\"carousel__slide{k}\" tabindex=\"0\" class=\"carousel__slide\">\\n\"\"\"\n",
    "        text += f\"\"\"       <div class=\"carousel__snapper\">\\n\"\"\"\n",
    "        text += f\"\"\"         <a href=\"#carousel__slide{prev_}\" class=\"carousel__prev\">Go to previous slide</a>\\n\"\"\"\n",
    "        text += f\"\"\"         <a href=\"#carousel__slide{next_}\" class=\"carousel__next\">Go to next slide</a>\\n\"\"\"\n",
    "        text += f\"\"\"         <div id=\"slide{k}_content\" class=\"md_view\" >Content {k}</div>\\n\"\"\"\n",
    "        text += f\"\"\"       </div>\\n\"\"\"\n",
    "        text += f\"\"\"    </li>\"\"\"\n",
    "        carousel.append(text)\n",
    "\n",
    "    carousel.extend([\n",
    "        \"\"\"  </ol>\"\"\",\n",
    "        \"\"\"  <aside class=\"carousel__navigation\">\"\"\",\n",
    "        \"\"\"    <ol class=\"carousel__navigation-list\">\"\"\"])\n",
    "\n",
    "    for k in range(1, npub + 1):\n",
    "        text  = f\"\"\"      <li class=\"carousel__navigation-item\">\\n\"\"\"\n",
    "        text += f\"\"\"        <a href=\"#carousel__slide{k}\" class=\"carousel__navigation-button\">Go to {k}</a>\\n\"\"\"\n",
    "        text += f\"\"\"      </li>\"\"\"\n",
    "        carousel.append(text)\n",
    "    carousel.extend([\"\"\"    </ol>\"\"\", \"\"\"  </aside>\"\"\", \"\"\"</section>\"\"\"])\n",
    "\n",
    "    return '\\n'.join(carousel)"
   ]
  },
  {
   "cell_type": "code",
   "execution_count": 12,
   "id": "a6eac5b6",
   "metadata": {
    "execution": {
     "iopub.execute_input": "2022-12-21T04:10:10.820942Z",
     "iopub.status.busy": "2022-12-21T04:10:10.820600Z",
     "iopub.status.idle": "2022-12-21T04:10:10.827341Z",
     "shell.execute_reply": "2022-12-21T04:10:10.826630Z"
    },
    "papermill": {
     "duration": 0.02052,
     "end_time": "2022-12-21T04:10:10.829167",
     "exception": false,
     "start_time": "2022-12-21T04:10:10.808647",
     "status": "completed"
    },
    "scrolled": false,
    "tags": []
   },
   "outputs": [],
   "source": [
    "carousel = create_carousel(npub)\n",
    "docs = ', '.join(['\"{0:s}\"'.format(k.split('/')[-1]) for k in res])\n",
    "slides = ', '.join([f'\"slide{k}_content\"' for k in range(1, npub + 1)])\n",
    "\n",
    "script = f\"\"\"\n",
    "const docs = [{docs}]\n",
    "\n",
    "const slides = [{slides}]\n",
    "\"\"\" + \"\"\"\n",
    "async function run() {\n",
    "    for (let i = 0; i < docs.length; i++) {\n",
    "        let file = await fetch(docs[i]);\n",
    "        let text = await file.text()\n",
    "        document.getElementById(slides[i]).innerHTML =\n",
    "            marked.parse(text);\n",
    "    }\n",
    "    hljs.highlightAll();\n",
    "}\n",
    "run()\n",
    "\"\"\"\n",
    "\n",
    "page = f\"\"\"<!doctype html>\n",
    "<html lang=\"en\">\n",
    "\n",
    "<head>\n",
    "  <meta charset=\"utf-8\">\n",
    "  <meta name=\"viewport\" content=\"width=device-width, initial-scale=1\">\n",
    "  <!-- Bootstrap CSS -->\n",
    "  <link href=\"https://cdn.jsdelivr.net/npm/bootstrap@5.0.2/dist/css/bootstrap.min.css\" rel=\"stylesheet\"\n",
    "   integrity=\"sha384-EVSTQN3/azprG1Anm3QDgpJLIm9Nao0Yz1ztcQTwFspd3yD65VohhpuuCOmLASjC\" crossorigin=\"anonymous\">\n",
    "  <!-- highlight.js CSS -->\n",
    "  <link rel=\"stylesheet\" href=\"https://cdnjs.cloudflare.com/ajax/libs/highlight.js/11.1.0/styles/default.min.css\">\n",
    "  <!-- Mathjax 3 -->\n",
    "  <script type=\"text/javascript\" id=\"MathJax-config\" src=\"mathjax_config.js\"> </script>\n",
    "  <script type=\"text/javascript\" id=\"MathJax-script\" async \n",
    "    src=\"https://cdn.jsdelivr.net/npm/mathjax@3/es5/tex-mml-chtml.js\">\n",
    "  </script>\n",
    "  <link rel=\"stylesheet\" href=\"index_carousel.css\">\n",
    "  <link rel=\"icon\" type=\"image/x-icon\" href=\"https://www.mpia.de/assets/touch-icon-32x32-a66937bcebc4e8894ebff1f41a366c7c7220fd97a38869ee0f2db65a9f59b6c1.png\">\n",
    "  <title>MPIA Arxiv on deck!</title>\n",
    "</head>\n",
    "\n",
    "<body>\n",
    "  <div id=\"header\"> <img src=\"header_banner.png\" width=\"100%\"></div>\n",
    "  <div id=\"suptitle\"> 7-day archives </div>\n",
    "  <div id=\"info\">\n",
    "    <img src=\"https://pngimg.com/uploads/github/github_PNG58.png\" height=30rem></img>\n",
    "    <a href=https://github.com/mpi-astronomy/arxiv_display style=\"color:black;\">github/mpi-astronomy/arxiv_display</a> \n",
    "  </div>\n",
    "  {carousel:s}\n",
    "</body>\n",
    "\n",
    "<!-- Render Markdown -->\n",
    "\n",
    "<body>\n",
    "  <!-- highlight.js: https://highlightjs.org/download/ -->\n",
    "  <script src=\"https://cdnjs.cloudflare.com/ajax/libs/highlight.js/11.5.0/highlight.min.js\"></script>\n",
    "  <!-- marked.js -->\n",
    "  <script src=\"https://cdn.jsdelivr.net/npm/marked/marked.min.js\"></script>\n",
    "  <script>{script:s}</script>\n",
    "</body>\n",
    "</html>\n",
    "\"\"\"\n",
    "with open(\"_build/html/index_7days.html\", 'w') as fout:\n",
    "    fout.write(page)"
   ]
  },
  {
   "cell_type": "markdown",
   "id": "1cebacbc",
   "metadata": {
    "papermill": {
     "duration": 0.010773,
     "end_time": "2022-12-21T04:10:10.851118",
     "exception": false,
     "start_time": "2022-12-21T04:10:10.840345",
     "status": "completed"
    },
    "tags": []
   },
   "source": [
    "# Debugging papers"
   ]
  },
  {
   "cell_type": "raw",
   "id": "debe7cc6",
   "metadata": {
    "papermill": {
     "duration": 0.0108,
     "end_time": "2022-12-21T04:10:10.872808",
     "exception": false,
     "start_time": "2022-12-21T04:10:10.862008",
     "status": "completed"
    },
    "tags": []
   },
   "source": [
    "raise NotImplementedError(\"Manual Stop\")"
   ]
  },
  {
   "cell_type": "raw",
   "id": "eb169192",
   "metadata": {
    "papermill": {
     "duration": 0.010756,
     "end_time": "2022-12-21T04:10:10.894392",
     "exception": false,
     "start_time": "2022-12-21T04:10:10.883636",
     "status": "completed"
    },
    "scrolled": true,
    "tags": []
   },
   "source": [
    "from IPython.display import display, Markdown\n",
    "from TexSoup import TexSoup\n",
    "import re\n",
    "\n",
    "def bracket_error(source: str):\n",
    "    \"\"\" Find problematic portions of the document \"\"\"\n",
    "    \n",
    "    print(\"len(source)\", len(source))\n",
    "    \n",
    "    # Checking header\n",
    "    begin_doc = next(re.finditer(r'\\\\begin\\{document\\}', doc.source)).span()[1]\n",
    "    header = source[:begin_doc]\n",
    "    text = header + r\"\\n\\end{document}\"\n",
    "\n",
    "    try:\n",
    "        # print(\"Header check... \", end='')\n",
    "        TexSoup(text)\n",
    "        display(Markdown(f\"**[OK]** - Header\"))\n",
    "    except:\n",
    "        raise RuntimeError(\"Error in the header\")\n",
    "        \n",
    "    # Check the text per section until the end.\n",
    "    # Do not stop and try them all.\n",
    "    \n",
    "    problematic_text = []\n",
    "    \n",
    "    sections = ([(0, begin_doc, 'until first section')] + \n",
    "                [(g.span()[0], g.span()[1], g.group()) for g in re.finditer(r'\\\\section\\{.*\\}', source)] +\n",
    "                [(g.span()[0], g.span()[1], g.group()) for g in re.finditer(r'\\\\begin\\{appendix\\}', source)]\n",
    "               )\n",
    "    sections.append([len(source), len(source), 'end'])\n",
    "    \n",
    "    sections = sorted(sections, key=lambda x: x[0])\n",
    "    \n",
    "    prev_pos, prev_name = (0, 'header')\n",
    "    parsed = []\n",
    "    \n",
    "    for span, span_end, name in sections:\n",
    "\n",
    "        if span - prev_pos <= 0:\n",
    "            continue\n",
    "            \n",
    "\n",
    "        text = source[prev_pos:span]\n",
    "        if prev_pos > begin_doc:\n",
    "            text = r\"\\n\\begin{document}\" + text + r\"\\n\\end{document}\"\n",
    "        else:\n",
    "            text = text + r\"\\n\\end{document}\"\n",
    "        try:\n",
    "            #print(f\"{prev_pos}:{prev_name}-->{span}:{name} check... \", end='')\n",
    "            parsed.append(TexSoup(text, tolerance=1))  # allow not ending env\n",
    "            display(Markdown(f\"**[OK]** - *{prev_pos}*:{prev_name} &rarr; *{span}*:{name}\"))\n",
    "            # print(\"ok\")\n",
    "\n",
    "            prev_pos = span\n",
    "            prev_name = name\n",
    "        except:\n",
    "            # print(f\"error between {prev_pos} and {span}\")\n",
    "            display(Markdown(f\"**[ERR]** *{prev_pos}*:{prev_name} &rarr; *{span}*:{name}\"))\n",
    "            problematic_text.append((prev_pos, source[prev_pos:span]))\n",
    "            prev_pos = span\n",
    "            prev_name = name\n",
    "            # raise\n",
    "    return problematic_text, parsed\n",
    "\n",
    "\n",
    "def check_environment(text, offset=0):\n",
    "    \"\"\" Check environment \"\"\"\n",
    "    env = re.compile(r\"\\\\begin\\{(?P<env>.*)\\}(.*)\\\\end\\{(?P=env)\\}\", re.DOTALL)\n",
    "\n",
    "    for match in env.finditer(text):\n",
    "        beg, end = match.span()\n",
    "        beg += offset\n",
    "        end += offset\n",
    "        envname = match.groups()[0]\n",
    "        try:\n",
    "            latex.TexSoup(match.group())\n",
    "        except Exception as e:\n",
    "            display(e)\n",
    "            print(f\"Error in {envname:s} between {beg} and {end}\")\n",
    "            return match.groups()[1], beg, end"
   ]
  },
  {
   "cell_type": "raw",
   "id": "2315e835",
   "metadata": {
    "papermill": {
     "duration": 0.010831,
     "end_time": "2022-12-21T04:10:10.916254",
     "exception": false,
     "start_time": "2022-12-21T04:10:10.905423",
     "status": "completed"
    },
    "scrolled": false,
    "tags": []
   },
   "source": [
    "import importlib\n",
    "importlib.reload(latex)\n",
    "which = \"2204.03253\"\n",
    "paper_id = f'{which:s}'\n",
    "folder = f'tmp_{paper_id:s}'\n",
    "\n",
    "if not os.path.isdir(folder):\n",
    "    folder = retrieve_document_source(f\"{paper_id}\", f'tmp_{paper_id}')\n",
    "\n",
    "try:\n",
    "    doc = latex.LatexDocument(folder, validation=validation)    \n",
    "except AffiliationError as affilerror:\n",
    "    msg = f\"ArXiv:{paper_id:s} is not an MPIA paper... \" + str(affilerror)\n",
    "    print(msg)\n",
    "\n",
    "\n",
    "# Hack because sometimes author parsing does not work well\n",
    "if (len(doc.authors) != len(paper['authors'])):\n",
    "    doc._authors = paper['authors']\n",
    "if (doc.abstract) in (None, ''):\n",
    "    doc._abstract = paper['abstract']\n",
    "\n",
    "doc.comment = get_markdown_badge(paper_id) + \" _\" + paper['comments'] + \"_\"\n",
    "doc.highlight_authors_in_list(hl_list)\n",
    "\n",
    "full_md = doc.generate_markdown_text()"
   ]
  },
  {
   "cell_type": "raw",
   "id": "dd3781db",
   "metadata": {
    "papermill": {
     "duration": 0.010718,
     "end_time": "2022-12-21T04:10:10.937815",
     "exception": false,
     "start_time": "2022-12-21T04:10:10.927097",
     "status": "completed"
    },
    "scrolled": false,
    "tags": []
   },
   "source": [
    "doc"
   ]
  },
  {
   "cell_type": "raw",
   "id": "c6eed834",
   "metadata": {
    "papermill": {
     "duration": 0.015031,
     "end_time": "2022-12-21T04:10:10.963765",
     "exception": false,
     "start_time": "2022-12-21T04:10:10.948734",
     "status": "completed"
    },
    "tags": []
   },
   "source": [
    "# [check_environment(k) for k in bracket_error(doc.source)]\n",
    "_, _, a = latex.get_content_per_section(doc.source, verbose=True)\n",
    "if not a:\n",
    "    print(\"no issues per section\")\n",
    "for ak in a:\n",
    "    r = check_environment(ak[1], offset=ak[0])\n",
    "    print(r[1], r[2])\n",
    "    print(r[0])"
   ]
  },
  {
   "cell_type": "code",
   "execution_count": null,
   "id": "71ce768a",
   "metadata": {
    "papermill": {
     "duration": 0.01082,
     "end_time": "2022-12-21T04:10:10.998037",
     "exception": false,
     "start_time": "2022-12-21T04:10:10.987217",
     "status": "completed"
    },
    "tags": []
   },
   "outputs": [],
   "source": []
  }
 ],
 "metadata": {
  "kernelspec": {
   "display_name": "Python 3.10.6 64-bit",
   "language": "python",
   "name": "python3"
  },
  "language_info": {
   "codemirror_mode": {
    "name": "ipython",
    "version": 3
   },
   "file_extension": ".py",
   "mimetype": "text/x-python",
   "name": "python",
   "nbconvert_exporter": "python",
   "pygments_lexer": "ipython3",
   "version": "3.9.16"
  },
  "papermill": {
   "default_parameters": {},
   "duration": 275.618678,
   "end_time": "2022-12-21T04:10:11.228142",
   "environment_variables": {},
   "exception": null,
   "input_path": "MPIA daily digest.ipynb",
   "output_path": "log.ipynb",
   "parameters": {},
   "start_time": "2022-12-21T04:05:35.609464",
   "version": "2.4.0"
  },
  "vscode": {
   "interpreter": {
    "hash": "e7370f93d1d0cde622a1f8e1c04877d8463912d04d973331ad4851f04de6915a"
   }
  },
  "widgets": {
   "application/vnd.jupyter.widget-state+json": {
    "state": {
     "009877b7e81f4694a9d675660fb9e976": {
      "model_module": "@jupyter-widgets/controls",
      "model_module_version": "2.0.0",
      "model_name": "HBoxModel",
      "state": {
       "_dom_classes": [],
       "_model_module": "@jupyter-widgets/controls",
       "_model_module_version": "2.0.0",
       "_model_name": "HBoxModel",
       "_view_count": null,
       "_view_module": "@jupyter-widgets/controls",
       "_view_module_version": "2.0.0",
       "_view_name": "HBoxView",
       "box_style": "",
       "children": [
        "IPY_MODEL_53ef94c5b07d4ce6948aa128c21ad169",
        "IPY_MODEL_2dc3e4ce5d0a4f95abfe60025edb901b",
        "IPY_MODEL_c83492ca481842539aac4959077d514f"
       ],
       "layout": "IPY_MODEL_5b61b38af6fe4fb9b03c36e8a8cd93d6",
       "tabbable": null,
       "tooltip": null
      }
     },
     "27609c1fa2f34115aee324592ac70b3a": {
      "model_module": "@jupyter-widgets/controls",
      "model_module_version": "2.0.0",
      "model_name": "ProgressStyleModel",
      "state": {
       "_model_module": "@jupyter-widgets/controls",
       "_model_module_version": "2.0.0",
       "_model_name": "ProgressStyleModel",
       "_view_count": null,
       "_view_module": "@jupyter-widgets/base",
       "_view_module_version": "2.0.0",
       "_view_name": "StyleView",
       "bar_color": null,
       "description_width": ""
      }
     },
     "2dc3e4ce5d0a4f95abfe60025edb901b": {
      "model_module": "@jupyter-widgets/controls",
      "model_module_version": "2.0.0",
      "model_name": "FloatProgressModel",
      "state": {
       "_dom_classes": [],
       "_model_module": "@jupyter-widgets/controls",
       "_model_module_version": "2.0.0",
       "_model_name": "FloatProgressModel",
       "_view_count": null,
       "_view_module": "@jupyter-widgets/controls",
       "_view_module_version": "2.0.0",
       "_view_name": "ProgressView",
       "bar_style": "success",
       "description": "",
       "description_allow_html": false,
       "layout": "IPY_MODEL_8cb657e2da454c93b33558e593232d67",
       "max": 26.0,
       "min": 0.0,
       "orientation": "horizontal",
       "style": "IPY_MODEL_27609c1fa2f34115aee324592ac70b3a",
       "tabbable": null,
       "tooltip": null,
       "value": 26.0
      }
     },
     "2f124c6d6ed14fc6aeb9d85de3c05e65": {
      "model_module": "@jupyter-widgets/base",
      "model_module_version": "2.0.0",
      "model_name": "LayoutModel",
      "state": {
       "_model_module": "@jupyter-widgets/base",
       "_model_module_version": "2.0.0",
       "_model_name": "LayoutModel",
       "_view_count": null,
       "_view_module": "@jupyter-widgets/base",
       "_view_module_version": "2.0.0",
       "_view_name": "LayoutView",
       "align_content": null,
       "align_items": null,
       "align_self": null,
       "border_bottom": null,
       "border_left": null,
       "border_right": null,
       "border_top": null,
       "bottom": null,
       "display": null,
       "flex": null,
       "flex_flow": null,
       "grid_area": null,
       "grid_auto_columns": null,
       "grid_auto_flow": null,
       "grid_auto_rows": null,
       "grid_column": null,
       "grid_gap": null,
       "grid_row": null,
       "grid_template_areas": null,
       "grid_template_columns": null,
       "grid_template_rows": null,
       "height": null,
       "justify_content": null,
       "justify_items": null,
       "left": null,
       "margin": null,
       "max_height": null,
       "max_width": null,
       "min_height": null,
       "min_width": null,
       "object_fit": null,
       "object_position": null,
       "order": null,
       "overflow": null,
       "padding": null,
       "right": null,
       "top": null,
       "visibility": null,
       "width": null
      }
     },
     "3aeeb3bc4e604aeebeb9e02e0ae911e9": {
      "model_module": "@jupyter-widgets/controls",
      "model_module_version": "2.0.0",
      "model_name": "HTMLStyleModel",
      "state": {
       "_model_module": "@jupyter-widgets/controls",
       "_model_module_version": "2.0.0",
       "_model_name": "HTMLStyleModel",
       "_view_count": null,
       "_view_module": "@jupyter-widgets/base",
       "_view_module_version": "2.0.0",
       "_view_name": "StyleView",
       "background": null,
       "description_width": "",
       "font_size": null,
       "text_color": null
      }
     },
     "53ef94c5b07d4ce6948aa128c21ad169": {
      "model_module": "@jupyter-widgets/controls",
      "model_module_version": "2.0.0",
      "model_name": "HTMLModel",
      "state": {
       "_dom_classes": [],
       "_model_module": "@jupyter-widgets/controls",
       "_model_module_version": "2.0.0",
       "_model_name": "HTMLModel",
       "_view_count": null,
       "_view_module": "@jupyter-widgets/controls",
       "_view_module_version": "2.0.0",
       "_view_name": "HTMLView",
       "description": "",
       "description_allow_html": false,
       "layout": "IPY_MODEL_6b8bc2e5e5a348308fe44e9a63db39b9",
       "placeholder": "​",
       "style": "IPY_MODEL_d3931023a7ae48698a0769e275884ac0",
       "tabbable": null,
       "tooltip": null,
       "value": "100%"
      }
     },
     "5b61b38af6fe4fb9b03c36e8a8cd93d6": {
      "model_module": "@jupyter-widgets/base",
      "model_module_version": "2.0.0",
      "model_name": "LayoutModel",
      "state": {
       "_model_module": "@jupyter-widgets/base",
       "_model_module_version": "2.0.0",
       "_model_name": "LayoutModel",
       "_view_count": null,
       "_view_module": "@jupyter-widgets/base",
       "_view_module_version": "2.0.0",
       "_view_name": "LayoutView",
       "align_content": null,
       "align_items": null,
       "align_self": null,
       "border_bottom": null,
       "border_left": null,
       "border_right": null,
       "border_top": null,
       "bottom": null,
       "display": null,
       "flex": null,
       "flex_flow": null,
       "grid_area": null,
       "grid_auto_columns": null,
       "grid_auto_flow": null,
       "grid_auto_rows": null,
       "grid_column": null,
       "grid_gap": null,
       "grid_row": null,
       "grid_template_areas": null,
       "grid_template_columns": null,
       "grid_template_rows": null,
       "height": null,
       "justify_content": null,
       "justify_items": null,
       "left": null,
       "margin": null,
       "max_height": null,
       "max_width": null,
       "min_height": null,
       "min_width": null,
       "object_fit": null,
       "object_position": null,
       "order": null,
       "overflow": null,
       "padding": null,
       "right": null,
       "top": null,
       "visibility": null,
       "width": null
      }
     },
     "6b8bc2e5e5a348308fe44e9a63db39b9": {
      "model_module": "@jupyter-widgets/base",
      "model_module_version": "2.0.0",
      "model_name": "LayoutModel",
      "state": {
       "_model_module": "@jupyter-widgets/base",
       "_model_module_version": "2.0.0",
       "_model_name": "LayoutModel",
       "_view_count": null,
       "_view_module": "@jupyter-widgets/base",
       "_view_module_version": "2.0.0",
       "_view_name": "LayoutView",
       "align_content": null,
       "align_items": null,
       "align_self": null,
       "border_bottom": null,
       "border_left": null,
       "border_right": null,
       "border_top": null,
       "bottom": null,
       "display": null,
       "flex": null,
       "flex_flow": null,
       "grid_area": null,
       "grid_auto_columns": null,
       "grid_auto_flow": null,
       "grid_auto_rows": null,
       "grid_column": null,
       "grid_gap": null,
       "grid_row": null,
       "grid_template_areas": null,
       "grid_template_columns": null,
       "grid_template_rows": null,
       "height": null,
       "justify_content": null,
       "justify_items": null,
       "left": null,
       "margin": null,
       "max_height": null,
       "max_width": null,
       "min_height": null,
       "min_width": null,
       "object_fit": null,
       "object_position": null,
       "order": null,
       "overflow": null,
       "padding": null,
       "right": null,
       "top": null,
       "visibility": null,
       "width": null
      }
     },
     "8cb657e2da454c93b33558e593232d67": {
      "model_module": "@jupyter-widgets/base",
      "model_module_version": "2.0.0",
      "model_name": "LayoutModel",
      "state": {
       "_model_module": "@jupyter-widgets/base",
       "_model_module_version": "2.0.0",
       "_model_name": "LayoutModel",
       "_view_count": null,
       "_view_module": "@jupyter-widgets/base",
       "_view_module_version": "2.0.0",
       "_view_name": "LayoutView",
       "align_content": null,
       "align_items": null,
       "align_self": null,
       "border_bottom": null,
       "border_left": null,
       "border_right": null,
       "border_top": null,
       "bottom": null,
       "display": null,
       "flex": null,
       "flex_flow": null,
       "grid_area": null,
       "grid_auto_columns": null,
       "grid_auto_flow": null,
       "grid_auto_rows": null,
       "grid_column": null,
       "grid_gap": null,
       "grid_row": null,
       "grid_template_areas": null,
       "grid_template_columns": null,
       "grid_template_rows": null,
       "height": null,
       "justify_content": null,
       "justify_items": null,
       "left": null,
       "margin": null,
       "max_height": null,
       "max_width": null,
       "min_height": null,
       "min_width": null,
       "object_fit": null,
       "object_position": null,
       "order": null,
       "overflow": null,
       "padding": null,
       "right": null,
       "top": null,
       "visibility": null,
       "width": null
      }
     },
     "c83492ca481842539aac4959077d514f": {
      "model_module": "@jupyter-widgets/controls",
      "model_module_version": "2.0.0",
      "model_name": "HTMLModel",
      "state": {
       "_dom_classes": [],
       "_model_module": "@jupyter-widgets/controls",
       "_model_module_version": "2.0.0",
       "_model_name": "HTMLModel",
       "_view_count": null,
       "_view_module": "@jupyter-widgets/controls",
       "_view_module_version": "2.0.0",
       "_view_name": "HTMLView",
       "description": "",
       "description_allow_html": false,
       "layout": "IPY_MODEL_2f124c6d6ed14fc6aeb9d85de3c05e65",
       "placeholder": "​",
       "style": "IPY_MODEL_3aeeb3bc4e604aeebeb9e02e0ae911e9",
       "tabbable": null,
       "tooltip": null,
       "value": " 26/26 [03:37&lt;00:00,  6.14s/it]"
      }
     },
     "d3931023a7ae48698a0769e275884ac0": {
      "model_module": "@jupyter-widgets/controls",
      "model_module_version": "2.0.0",
      "model_name": "HTMLStyleModel",
      "state": {
       "_model_module": "@jupyter-widgets/controls",
       "_model_module_version": "2.0.0",
       "_model_name": "HTMLStyleModel",
       "_view_count": null,
       "_view_module": "@jupyter-widgets/base",
       "_view_module_version": "2.0.0",
       "_view_name": "StyleView",
       "background": null,
       "description_width": "",
       "font_size": null,
       "text_color": null
      }
     }
    },
    "version_major": 2,
    "version_minor": 0
   }
  }
 },
 "nbformat": 4,
 "nbformat_minor": 5
}