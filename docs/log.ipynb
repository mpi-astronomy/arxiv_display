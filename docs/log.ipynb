{
 "cells": [
  {
   "cell_type": "markdown",
   "id": "92bcb855",
   "metadata": {
    "papermill": {
     "duration": 0.003616,
     "end_time": "2023-11-24T04:08:07.502574",
     "exception": false,
     "start_time": "2023-11-24T04:08:07.498958",
     "status": "completed"
    },
    "tags": []
   },
   "source": [
    "# MPIA Arxiv on Deck 2\n",
    "\n",
    "Contains the steps to produce the paper extractions."
   ]
  },
  {
   "cell_type": "code",
   "execution_count": 1,
   "id": "3a0d6e11",
   "metadata": {
    "execution": {
     "iopub.execute_input": "2023-11-24T04:08:07.510884Z",
     "iopub.status.busy": "2023-11-24T04:08:07.510407Z",
     "iopub.status.idle": "2023-11-24T04:08:07.928701Z",
     "shell.execute_reply": "2023-11-24T04:08:07.928081Z"
    },
    "papermill": {
     "duration": 0.423622,
     "end_time": "2023-11-24T04:08:07.930363",
     "exception": false,
     "start_time": "2023-11-24T04:08:07.506741",
     "status": "completed"
    },
    "tags": []
   },
   "outputs": [],
   "source": [
    "# Imports\n",
    "import os\n",
    "from IPython.display import Markdown, display\n",
    "from tqdm.notebook import tqdm\n",
    "import warnings\n",
    "from PIL import Image \n",
    "\n",
    "# requires arxiv_on_deck_2\n",
    "\n",
    "from arxiv_on_deck_2.arxiv2 import (get_new_papers, \n",
    "                                    get_paper_from_identifier,\n",
    "                                    retrieve_document_source, \n",
    "                                    get_markdown_badge)\n",
    "from arxiv_on_deck_2 import (latex,\n",
    "                             latex_bib,\n",
    "                             mpia,\n",
    "                             highlight_authors_in_list)\n",
    "\n",
    "# Sometimes images are really big\n",
    "Image.MAX_IMAGE_PIXELS = 1000000000 "
   ]
  },
  {
   "cell_type": "code",
   "execution_count": 2,
   "id": "22aa9d44",
   "metadata": {
    "execution": {
     "iopub.execute_input": "2023-11-24T04:08:07.937600Z",
     "iopub.status.busy": "2023-11-24T04:08:07.937052Z",
     "iopub.status.idle": "2023-11-24T04:08:07.942275Z",
     "shell.execute_reply": "2023-11-24T04:08:07.941740Z"
    },
    "papermill": {
     "duration": 0.010262,
     "end_time": "2023-11-24T04:08:07.943620",
     "exception": false,
     "start_time": "2023-11-24T04:08:07.933358",
     "status": "completed"
    },
    "tags": []
   },
   "outputs": [],
   "source": [
    "# Some useful definitions.\n",
    "\n",
    "class AffiliationWarning(UserWarning):\n",
    "    pass\n",
    "\n",
    "class AffiliationError(RuntimeError):\n",
    "    pass\n",
    "\n",
    "def validation(source: str):\n",
    "    \"\"\"Raises error paper during parsing of source file\n",
    "    \n",
    "    Allows checks before parsing TeX code.\n",
    "    \n",
    "    Raises AffiliationWarning\n",
    "    \"\"\"\n",
    "    check = mpia.affiliation_verifications(source, verbose=True)\n",
    "    if check is not True:\n",
    "        raise AffiliationError(\"mpia.affiliation_verifications: \" + check)\n",
    "\n",
    "        \n",
    "warnings.simplefilter('always', AffiliationWarning)\n",
    "\n",
    "\n",
    "def get_markdown_qrcode(paper_id: str):\n",
    "    \"\"\" Generate a qrcode to the arxiv page using qrserver.com\n",
    "    \n",
    "    :param paper: Arxiv paper\n",
    "    :returns: markdown text\n",
    "    \"\"\"\n",
    "    url = r\"https://api.qrserver.com/v1/create-qr-code/?size=100x100&data=\"\n",
    "    txt = f\"\"\"<img src={url}\"https://arxiv.org/abs/{paper_id}\">\"\"\"\n",
    "    txt = '<div id=\"qrcode\">' + txt + '</div>'\n",
    "    return txt"
   ]
  },
  {
   "cell_type": "markdown",
   "id": "14bd6310",
   "metadata": {
    "papermill": {
     "duration": 0.002751,
     "end_time": "2023-11-24T04:08:07.949210",
     "exception": false,
     "start_time": "2023-11-24T04:08:07.946459",
     "status": "completed"
    },
    "tags": []
   },
   "source": [
    "## get list of arxiv paper candidates\n",
    "\n",
    "We use the MPIA mitarbeiter list webpage from mpia.de to get author names\n",
    "We then get all new papers from Arxiv and match authors"
   ]
  },
  {
   "cell_type": "code",
   "execution_count": 3,
   "id": "2645e73a",
   "metadata": {
    "execution": {
     "iopub.execute_input": "2023-11-24T04:08:07.955974Z",
     "iopub.status.busy": "2023-11-24T04:08:07.955407Z",
     "iopub.status.idle": "2023-11-24T04:08:29.647489Z",
     "shell.execute_reply": "2023-11-24T04:08:29.646706Z"
    },
    "papermill": {
     "duration": 21.697238,
     "end_time": "2023-11-24T04:08:29.649191",
     "exception": false,
     "start_time": "2023-11-24T04:08:07.951953",
     "status": "completed"
    },
    "tags": []
   },
   "outputs": [
    {
     "name": "stdout",
     "output_type": "stream",
     "text": [
      "L. Xie  ->  Z.-L. Xie  |  ['L. Xie']\n",
      "A. Gould  ->  A. Gould  |  ['A. Gould']\n",
      "K. El-Badry  ->  K. El-Badry  |  ['K. El-Badry']\n",
      "M. Feldt  ->  M. Feldt  |  ['M. Feldt']\n",
      "H. Steuer  ->  H. Steuer  |  ['H. Steuer']\n",
      "T. Bertram  ->  T. Bertram  |  ['T. Bertram']\n",
      "P. Mollière  ->  P. Mollière  |  ['P. Mollière']\n",
      "Arxiv has 51 new papers today\n",
      "          5 with possible author matches\n"
     ]
    }
   ],
   "source": [
    "# get list from MPIA website\n",
    "# it automatically filters identified non-scientists :func:`mpia.filter_non_scientists`\n",
    "mpia_authors = mpia.get_mpia_mitarbeiter_list()\n",
    "normed_mpia_authors = [k[1] for k in mpia_authors]   # initials + fullname\n",
    "new_papers = get_new_papers()\n",
    "# add manual references\n",
    "add_paper_refs = []\n",
    "new_papers.extend([get_paper_from_identifier(k) for k in add_paper_refs])\n",
    "\n",
    "candidates = []\n",
    "for paperk in new_papers:\n",
    "    # Check author list with their initials\n",
    "    normed_author_list = [mpia.get_initials(k) for k in paperk['authors']]\n",
    "    hl_authors = highlight_authors_in_list(normed_author_list, normed_mpia_authors, verbose=True)\n",
    "    matches = [(hl, orig) for hl, orig in zip(hl_authors, paperk['authors']) if 'mark' in hl]\n",
    "    paperk['authors'] = hl_authors\n",
    "    if matches:\n",
    "        # only select paper if an author matched our list\n",
    "        candidates.append(paperk)\n",
    "print(\"\"\"Arxiv has {0:,d} new papers today\"\"\".format(len(new_papers)))        \n",
    "print(\"\"\"          {0:,d} with possible author matches\"\"\".format(len(candidates)))"
   ]
  },
  {
   "cell_type": "markdown",
   "id": "3543b34a",
   "metadata": {
    "papermill": {
     "duration": 0.003133,
     "end_time": "2023-11-24T04:08:29.655869",
     "exception": false,
     "start_time": "2023-11-24T04:08:29.652736",
     "status": "completed"
    },
    "tags": []
   },
   "source": [
    "# Parse sources and generate relevant outputs\n",
    "\n",
    "From the candidates, we do the following steps:\n",
    "* get their tarball from ArXiv (and extract data)\n",
    "* find the main .tex file: find one with \\documentclass{...} (sometimes it's non trivial)\n",
    "* Check affiliations with :func:`validation`, which uses :func:`mpia.affiliation_verifications`\n",
    "* If passing the affiliations: we parse the .tex source\n",
    "   * inject sub-documents into the main (flatten the main document)\n",
    "   * parse structure, extract information (title, abstract, authors, figures...)\n",
    "   * handles `\\graphicspath` if provided\n",
    "* Generate the .md document."
   ]
  },
  {
   "cell_type": "code",
   "execution_count": 4,
   "id": "9576b79e",
   "metadata": {
    "execution": {
     "iopub.execute_input": "2023-11-24T04:08:29.663506Z",
     "iopub.status.busy": "2023-11-24T04:08:29.663033Z",
     "iopub.status.idle": "2023-11-24T04:09:17.619759Z",
     "shell.execute_reply": "2023-11-24T04:09:17.619023Z"
    },
    "papermill": {
     "duration": 47.966469,
     "end_time": "2023-11-24T04:09:17.625460",
     "exception": false,
     "start_time": "2023-11-24T04:08:29.658991",
     "status": "completed"
    },
    "scrolled": false,
    "tags": []
   },
   "outputs": [
    {
     "data": {
      "application/vnd.jupyter.widget-view+json": {
       "model_id": "685e07786f1b43b9ac590b214956f78e",
       "version_major": 2,
       "version_minor": 0
      },
      "text/plain": [
       "  0%|          | 0/5 [00:00<?, ?it/s]"
      ]
     },
     "metadata": {},
     "output_type": "display_data"
    },
    {
     "name": "stdout",
     "output_type": "stream",
     "text": [
      "Retrieving document from  https://arxiv.org/e-print/2311.12932\n"
     ]
    },
    {
     "name": "stdout",
     "output_type": "stream",
     "text": [
      "extracting tarball to tmp_2311.12932..."
     ]
    },
    {
     "name": "stdout",
     "output_type": "stream",
     "text": [
      " done.\n",
      "Retrieving document from  https://arxiv.org/e-print/2311.13097\n"
     ]
    },
    {
     "name": "stderr",
     "output_type": "stream",
     "text": [
      "/opt/hostedtoolcache/Python/3.9.18/x64/lib/python3.9/site-packages/IPython/core/interactiveshell.py:3548: LatexWarning: Multiple tex files.\n",
      "\n",
      "  exec(code_obj, self.user_global_ns, self.user_ns)\n",
      "/opt/hostedtoolcache/Python/3.9.18/x64/lib/python3.9/site-packages/IPython/core/interactiveshell.py:3548: LatexWarning: Found documentclass in tmp_2311.12932/cr_igimf.tex\n",
      "\n",
      "  exec(code_obj, self.user_global_ns, self.user_ns)\n"
     ]
    },
    {
     "name": "stdout",
     "output_type": "stream",
     "text": [
      "extracting tarball to tmp_2311.13097..."
     ]
    },
    {
     "name": "stdout",
     "output_type": "stream",
     "text": [
      " done.\n"
     ]
    },
    {
     "name": "stderr",
     "output_type": "stream",
     "text": [
      "/opt/hostedtoolcache/Python/3.9.18/x64/lib/python3.9/site-packages/IPython/core/interactiveshell.py:3548: LatexWarning: Multiple tex files.\n",
      "\n",
      "  exec(code_obj, self.user_global_ns, self.user_ns)\n",
      "/opt/hostedtoolcache/Python/3.9.18/x64/lib/python3.9/site-packages/IPython/core/interactiveshell.py:3548: LatexWarning: Found documentclass in tmp_2311.13097/main.tex\n",
      "\n",
      "  exec(code_obj, self.user_global_ns, self.user_ns)\n",
      "/opt/hostedtoolcache/Python/3.9.18/x64/lib/python3.9/site-packages/arxiv_on_deck_2/latex.py:399: LatexWarning: Latex injecting: 'dis' from 'tmp_2311.13097/dis.tex'\n",
      "  warnings.warn(LatexWarning(f\"Latex injecting: '{ext}' from '{subsource}'\"))\n",
      "/opt/hostedtoolcache/Python/3.9.18/x64/lib/python3.9/site-packages/arxiv_on_deck_2/latex.py:399: LatexWarning: Latex injecting: 'lens' from 'tmp_2311.13097/lens.tex'\n",
      "  warnings.warn(LatexWarning(f\"Latex injecting: '{ext}' from '{subsource}'\"))\n",
      "/opt/hostedtoolcache/Python/3.9.18/x64/lib/python3.9/site-packages/arxiv_on_deck_2/latex.py:399: LatexWarning: Latex injecting: 'model' from 'tmp_2311.13097/model.tex'\n",
      "  warnings.warn(LatexWarning(f\"Latex injecting: '{ext}' from '{subsource}'\"))\n",
      "/opt/hostedtoolcache/Python/3.9.18/x64/lib/python3.9/site-packages/arxiv_on_deck_2/latex.py:399: LatexWarning: Latex injecting: 'obser' from 'tmp_2311.13097/obser.tex'\n",
      "  warnings.warn(LatexWarning(f\"Latex injecting: '{ext}' from '{subsource}'\"))\n",
      "/opt/hostedtoolcache/Python/3.9.18/x64/lib/python3.9/site-packages/arxiv_on_deck_2/latex.py:399: LatexWarning: Latex injecting: 'intro' from 'tmp_2311.13097/intro.tex'\n",
      "  warnings.warn(LatexWarning(f\"Latex injecting: '{ext}' from '{subsource}'\"))\n",
      "/opt/hostedtoolcache/Python/3.9.18/x64/lib/python3.9/site-packages/arxiv_on_deck_2/latex.py:399: LatexWarning: Latex injecting: 'abstract' from 'tmp_2311.13097/abstract.tex'\n",
      "  warnings.warn(LatexWarning(f\"Latex injecting: '{ext}' from '{subsource}'\"))\n",
      "/opt/hostedtoolcache/Python/3.9.18/x64/lib/python3.9/site-packages/arxiv_on_deck_2/latex.py:399: LatexWarning: Latex injecting: 'author' from 'tmp_2311.13097/author.tex'\n",
      "  warnings.warn(LatexWarning(f\"Latex injecting: '{ext}' from '{subsource}'\"))\n"
     ]
    },
    {
     "name": "stdout",
     "output_type": "stream",
     "text": [
      "Found 73 bibliographic references in tmp_2311.13097/main.bbl.\n",
      "Retrieving document from  https://arxiv.org/e-print/2311.13388\n"
     ]
    },
    {
     "name": "stdout",
     "output_type": "stream",
     "text": [
      "extracting tarball to tmp_2311.13388..."
     ]
    },
    {
     "name": "stdout",
     "output_type": "stream",
     "text": [
      " done.\n",
      "Retrieving document from  https://arxiv.org/e-print/2311.13437\n"
     ]
    },
    {
     "name": "stdout",
     "output_type": "stream",
     "text": [
      "extracting tarball to tmp_2311.13437..."
     ]
    },
    {
     "name": "stdout",
     "output_type": "stream",
     "text": [
      " done.\n"
     ]
    },
    {
     "name": "stdout",
     "output_type": "stream",
     "text": [
      "M. Feldt  ->  M. Feldt  |  ['M. Feldt']\n",
      "H. Steuer  ->  H. Steuer  |  ['H. Steuer']\n",
      "T. Bertram  ->  T. Bertram  |  ['T. Bertram']\n"
     ]
    },
    {
     "name": "stdout",
     "output_type": "stream",
     "text": [
      "Found 0 bibliographic references in tmp_2311.13437/main.bbl.\n",
      "Retrieving document from  https://arxiv.org/e-print/2311.13527\n"
     ]
    },
    {
     "name": "stdout",
     "output_type": "stream",
     "text": [
      "extracting tarball to tmp_2311.13527..."
     ]
    },
    {
     "name": "stdout",
     "output_type": "stream",
     "text": [
      " done.\n"
     ]
    },
    {
     "name": "stderr",
     "output_type": "stream",
     "text": [
      "/opt/hostedtoolcache/Python/3.9.18/x64/lib/python3.9/site-packages/arxiv_on_deck_2/latex.py:473: LatexWarning: Error parsing the document directly. Trying to recover.\n",
      "  warnings.warn(LatexWarning(f\"Error parsing the document directly. Trying to recover.\"))\n"
     ]
    },
    {
     "name": "stdout",
     "output_type": "stream",
     "text": [
      "✔ → 0:header\n",
      "  ↳ 3642:\\section{Introduction}\n",
      "✔ → 3642:\\section{Introduction}\n",
      "  ↳ 9801:\\section{Observations and data reduction}\\label{sec:observations}\n"
     ]
    },
    {
     "name": "stdout",
     "output_type": "stream",
     "text": [
      "✔ → 9801:\\section{Observations and data reduction}\\label{sec:observations}\n",
      "  ↳ 14777:\\section{Analysis framework}\\label{sec:methods}\n"
     ]
    },
    {
     "name": "stdout",
     "output_type": "stream",
     "text": [
      "✔ → 14777:\\section{Analysis framework}\\label{sec:methods}\n",
      "  ↳ 28234:\\section{Atmospheric models}\\label{sec:atmosphere_models}\n"
     ]
    },
    {
     "name": "stdout",
     "output_type": "stream",
     "text": [
      "✔ → 28234:\\section{Atmospheric models}\\label{sec:atmosphere_models}\n",
      "  ↳ 35994:\\section{Results}\\label{sec:results}\n",
      "✔ → 35994:\\section{Results}\\label{sec:results}\n",
      "  ↳ 43067:\\section{Discussion}\\label{sec:discussion}\n"
     ]
    },
    {
     "name": "stdout",
     "output_type": "stream",
     "text": [
      "✔ → 43067:\\section{Discussion}\\label{sec:discussion}\n",
      "  ↳ 50366:\\section{Summary and outlook}\\label{sec:conclusions}\n",
      "✔ → 50366:\\section{Summary and outlook}\\label{sec:conclusions}\n",
      "  ↳ 52647:\\section{Visual comparison with Snellen et al. 2014}\\label{app:crires_comp}\n",
      "✔ → 52647:\\section{Visual comparison with Snellen et al. 2014}\\label{app:crires_comp}\n",
      "  ↳ 53193:\\section{Full corner plot for the nominal model}\\label{app:corner_plot}\n",
      "✔ → 53193:\\section{Full corner plot for the nominal model}\\label{app:corner_plot}\n",
      "  ↳ 53515:end\n"
     ]
    },
    {
     "name": "stdout",
     "output_type": "stream",
     "text": [
      "Found 60 bibliographic references in tmp_2311.13527/main.bbl.\n"
     ]
    }
   ],
   "source": [
    "documents = []\n",
    "failed = []\n",
    "for paper in tqdm(candidates):\n",
    "    paper_id = paper['identifier'].lower().replace('arxiv:', '')\n",
    "    \n",
    "    folder = f'tmp_{paper_id}'\n",
    "\n",
    "    try:\n",
    "        if not os.path.isdir(folder):\n",
    "            folder = retrieve_document_source(f\"{paper_id}\", f'tmp_{paper_id}')\n",
    "        \n",
    "        try:\n",
    "            doc = latex.LatexDocument(folder, validation=validation)    \n",
    "        except AffiliationError as affilerror:\n",
    "            msg = f\"ArXiv:{paper_id:s} is not an MPIA paper... \" + str(affilerror)\n",
    "            failed.append((paper, \"affiliation error: \" + str(affilerror) ))\n",
    "            continue\n",
    "        \n",
    "        # Hack because sometimes author parsing does not work well\n",
    "        if (len(doc.authors) != len(paper['authors'])):\n",
    "            doc._authors = paper['authors']\n",
    "        else:\n",
    "            # highlight authors (FIXME: doc.highlight_authors)\n",
    "            # done on arxiv paper already\n",
    "            doc._authors = highlight_authors_in_list(\n",
    "                [mpia.get_initials(k) for k in doc.authors], \n",
    "                normed_mpia_authors, verbose=True)\n",
    "        if (doc.abstract) in (None, ''):\n",
    "            doc._abstract = paper['abstract']\n",
    "            \n",
    "        doc.comment = (get_markdown_badge(paper_id) + \n",
    "                       \"<mark>Appeared on: \" + paper['date'] + \"</mark> - \")\n",
    "        if paper['comments']:\n",
    "            doc.comment += \" _\" + paper['comments'] + \"_\"\n",
    "        \n",
    "        full_md = doc.generate_markdown_text()\n",
    "        \n",
    "        full_md += get_markdown_qrcode(paper_id)\n",
    "        \n",
    "        # replace citations\n",
    "        try:\n",
    "            bibdata = latex_bib.LatexBib.from_doc(doc)\n",
    "            full_md = latex_bib.replace_citations(full_md, bibdata)\n",
    "        except Exception as e:\n",
    "            print(e)\n",
    "        \n",
    "        documents.append((paper_id, full_md))\n",
    "    except Exception as e:\n",
    "        warnings.warn(latex.LatexWarning(f\"{paper_id:s} did not run properly\\n\" +\n",
    "                                         str(e)\n",
    "                                        ))\n",
    "        failed.append((paper, \"latex error \" + str(e)))"
   ]
  },
  {
   "cell_type": "markdown",
   "id": "2505a25c",
   "metadata": {
    "papermill": {
     "duration": 0.004066,
     "end_time": "2023-11-24T04:09:17.633782",
     "exception": false,
     "start_time": "2023-11-24T04:09:17.629716",
     "status": "completed"
    },
    "tags": []
   },
   "source": [
    "### Export the logs\n",
    "\n",
    "Throughout, we also keep track of the logs per paper. see `logs-{today date}.md` "
   ]
  },
  {
   "cell_type": "code",
   "execution_count": 5,
   "id": "d733828a",
   "metadata": {
    "execution": {
     "iopub.execute_input": "2023-11-24T04:09:17.643194Z",
     "iopub.status.busy": "2023-11-24T04:09:17.642936Z",
     "iopub.status.idle": "2023-11-24T04:09:17.658453Z",
     "shell.execute_reply": "2023-11-24T04:09:17.657923Z"
    },
    "papermill": {
     "duration": 0.021899,
     "end_time": "2023-11-24T04:09:17.659755",
     "exception": false,
     "start_time": "2023-11-24T04:09:17.637856",
     "status": "completed"
    },
    "scrolled": false,
    "tags": []
   },
   "outputs": [
    {
     "data": {
      "text/markdown": [
       "## Successful papers"
      ],
      "text/plain": [
       "<IPython.core.display.Markdown object>"
      ]
     },
     "metadata": {},
     "output_type": "display_data"
    },
    {
     "data": {
      "text/markdown": [
       "\n",
       "|||\n",
       "|---:|:---|\n",
       "| [![arXiv](https://img.shields.io/badge/arXiv-arXiv:2311.13097-b31b1b.svg)](https://arxiv.org/abs/arXiv:2311.13097) | **KMT-2023-BLG-1431Lb: A New $q < 10^{-4}$ Microlensing Planet from a  Subtle Signature**  |\n",
       "|| A. Bell, et al. -- incl., <mark>A. Gould</mark> |\n",
       "|*Appeared on*| *2023-11-23*|\n",
       "|*Comments*| *PASP submitted. arXiv admin note: text overlap with arXiv:2301.06779*|\n",
       "|**Abstract**| The current studies of microlensing planets are limited by small number statistics. Follow-up observations of high-magnification microlensing events can efficiently form a statistical planetary sample. Since 2020, the Korea Microlensing Telescope Network (KMTNet) and the Las Cumbres Observatory (LCO) global network have been conducting a follow-up program for high-magnification KMTNet events. Here, we report the detection and analysis of a microlensing planetary event, KMT-2023-BLG-1431, for which the subtle (0.05 magnitude) and short-lived (5 hours) planetary signature was characterized by the follow-up from KMTNet and LCO. A binary-lens single-source (2L1S) analysis reveals a planet/host mass ratio of $q = (0.72 \\pm 0.07) \\times 10^{-4}$, and the single-lens binary-source (1L2S) model is excluded by $\\Delta\\chi^2 = 80$. A Bayesian analysis using a Galactic model yields estimates of the host star mass of $M_{\\rm host} = 0.57^{+0.33}_{-0.29}~M_\\odot$, the planetary mass of $M_{\\rm planet} = 13.5_{-6.8}^{+8.1}~M_{\\oplus}$, and the lens distance of $D_{\\rm L} = 6.9_{-1.7}^{+0.8}$ kpc. The projected planet-host separation of $a_\\perp = 2.3_{-0.5}^{+0.5}$ au or $a_\\perp = 3.2_{-0.8}^{+0.7}$, subject to the close/wide degeneracy. We also find that without the follow-up data, the survey-only data cannot break the degeneracy of central/resonant caustics and the degeneracy of 2L1S/1L2S models, showing the importance of follow-up observations for current microlensing surveys. |"
      ],
      "text/plain": [
       "[arXiv:2311.13097] KMT-2023-BLG-1431Lb: A New $q < 10^{-4}$ Microlensing Planet from a  Subtle Signature\n",
       "\tA. Bell, et al. -- incl., <mark>A. Gould</mark>"
      ]
     },
     "metadata": {},
     "output_type": "display_data"
    },
    {
     "data": {
      "text/markdown": [
       "\n",
       "|||\n",
       "|---:|:---|\n",
       "| [![arXiv](https://img.shields.io/badge/arXiv-arXiv:2311.13437-b31b1b.svg)](https://arxiv.org/abs/arXiv:2311.13437) | **Simulating METIS SCAO System**  |\n",
       "|| <mark>M. Feldt</mark>, et al. -- incl., <mark>H. Steuer</mark>, <mark>T. Bertram</mark> |\n",
       "|*Appeared on*| *2023-11-23*|\n",
       "|*Comments*| *17 pages, 14 Figures, AO4ELT VII Conference - Avignon - June 2023*|\n",
       "|**Abstract**| METIS, the Mid-Infrared ELT Imager and Spectrograph, is one of the four first-generation ELT instruments scheduled to see first light in 2028. Its two main science modules are supported by an adaptive optics system featuring a pyramid sensor with 90x90 subapertures working in the H and K bands. During the PDR and FDR phases, extensive simulations were carried out to support the sensing, reconstruction, and control concept of METIS single-conjugate adaptive optics (SCAO) system. We present details on the implementation of the COMPASS-based environment used for the simulations, the metrics used for analyzing our performance expectations, an overview of the main results, and some details on special cases like non-common path aberrations (NCPA) and water vapor seeing, as well as the low-wind effect. |"
      ],
      "text/plain": [
       "[arXiv:2311.13437] Simulating METIS SCAO System\n",
       "\t<mark>M. Feldt</mark>, et al. -- incl., <mark>H. Steuer</mark>, <mark>T. Bertram</mark>"
      ]
     },
     "metadata": {},
     "output_type": "display_data"
    },
    {
     "data": {
      "text/markdown": [
       "\n",
       "|||\n",
       "|---:|:---|\n",
       "| [![arXiv](https://img.shields.io/badge/arXiv-arXiv:2311.13527-b31b1b.svg)](https://arxiv.org/abs/arXiv:2311.13527) | **$β$ Pictoris b through the eyes of the upgraded CRIRES+**  |\n",
       "|| R. Landman, et al. -- incl., <mark>P. Mollière</mark> |\n",
       "|*Appeared on*| *2023-11-23*|\n",
       "|*Comments*| *Accepted for publication in A&A*|\n",
       "|**Abstract**| Context: High-resolution spectrographs fed by adaptive optics (AO) provide a unique opportunity to characterize directly imaged exoplanets. Observations with such instruments allow us to probe the atmospheric composition, spin rotation, and radial velocity of the planet, thereby helping to reveal information on its formation and migration history. The recent upgrade of the Cryogenic High-Resolution Infrared Echelle Spectrograph (CRIRES+) at the VLT makes it a highly suitable instrument for characterizing directly imaged exoplanets. Aims: In this work, we report on observations of $\\beta$ Pictoris b with CRIRES+ and use them to constrain the planets atmospheric properties and update the estimation of its spin rotation. Methods: The data were reduced using the open-source \\textit{pycrires} package. We subsequently forward-modeled the stellar, planetary, and systematic contribution to the data to detect molecules in the planet's atmosphere. We also used atmospheric retrievals to provide new constraints on its atmosphere. Results: We confidently detected water and carbon monoxide in the atmosphere of $\\beta$ Pictoris b and retrieved a slightly sub-solar carbon-to-oxygen ratio, which is in agreement with previous results. The interpretation is hampered by our limited knowledge of the C/O ratio of the host star. We also obtained a much improved constraint on its spin rotation of $19.9 \\pm 1.0$ km/s, which gives a rotation period of $8.7 \\pm 0.8$ hours, assuming no obliquity. We find that there is a degeneracy between the metallicity and clouds, but this has minimal impact on the retrieved C/O, $v\\sin{i}$, and radial velocity. Our results show that CRIRES+ is performing well and stands as a highly useful instrument for characterizing directly imaged planets. |"
      ],
      "text/plain": [
       "[arXiv:2311.13527] $β$ Pictoris b through the eyes of the upgraded CRIRES+\n",
       "\tR. Landman, et al. -- incl., <mark>P. Mollière</mark>"
      ]
     },
     "metadata": {},
     "output_type": "display_data"
    },
    {
     "data": {
      "text/markdown": [
       "## Failed papers"
      ],
      "text/plain": [
       "<IPython.core.display.Markdown object>"
      ]
     },
     "metadata": {},
     "output_type": "display_data"
    },
    {
     "data": {
      "text/markdown": [
       "\n",
       "|||\n",
       "|---:|:---|\n",
       "| [![arXiv](https://img.shields.io/badge/arXiv-arXiv:2311.12932-b31b1b.svg)](https://arxiv.org/abs/arXiv:2311.12932) | **Variation of the stellar initial mass function in semi-analytical models  III: testing the cosmic ray regulated integrated galaxy-wide initial mass  function**  |\n",
       "|| F. Fontanot, et al. -- incl., <mark>L. Xie</mark> |\n",
       "|*Appeared on*| *2023-11-23*|\n",
       "|*Comments*| *12 pages, 8 figures, 2 tables, A&A submitted, comments welcome*|\n",
       "|**Abstract**| In our previous work, we derive the CR-IGIMF: a new scenario for a variable stellar initial mass function (IMF), which combines numerical results on the role played by cosmic rays in setting the thermal state of star forming gas, with the analytical approach of the integrated galaxy-wide IMF. In this work, we study the implications of this scenario for the properties of local Early-Type galaxies (ETG), as inferred from dynamical, photometric and spectroscopic studies. We implement a library of CR-IGIMF shapes in the framework of the Galaxy Evolution and Assembly (GAEA) model. Our realization includes a derivation of synthetic spectral energy distribution for each model galaxy, allowing a direct derivation of the mass fraction in the mean IMF of low-mass stars (i.e. the dwarf-to-giant ratio - $\\rm f_{dg}$) and a comparison with IMF sensitive spectral features. The predictions of the GAEA model implementing the CR-IGIMF confirm our previous findings: it correctly reproduces both the observed excess of z$\\sim$0 dynamical mass (mass-to-light ratios) with respect to spectroscopic (photometric) estimates assuming a universal, MW-like, IMF, and the observed increase of [$\\alpha$/Fe] ratios with stellar mass in spheroidal galaxies. Moreover, this realization reproduces the increasing trends of $\\rm f_{dg}$, and IMF-sensitive line-strengths with velocity dispersion, although the predicted relations are significantly shallower than the observed ones. Our results show that the CR-IGIMF is a promising scenario that reproduces at the same time dynamical, photometric and spectroscopic indications of a varying IMF in local ETGs. The shallow relations found for spectral indices suggest that either a stronger variability as a function of galaxy properties or additional dependences (e.g. as a function of star forming gas metallicity) might be required to match the strength of the observed trends. |\n",
       "|<p style=\"color:green\"> **ERROR** </p>| <p style=\"color:green\">affiliation error: mpia.affiliation_verifications: 'Heidelberg' keyword not found.</p> |"
      ],
      "text/plain": [
       "<IPython.core.display.Markdown object>"
      ]
     },
     "metadata": {},
     "output_type": "display_data"
    },
    {
     "data": {
      "text/markdown": [
       "\n",
       "|||\n",
       "|---:|:---|\n",
       "| [![arXiv](https://img.shields.io/badge/arXiv-arXiv:2311.13388-b31b1b.svg)](https://arxiv.org/abs/arXiv:2311.13388) | **The photospheres of the hottest fastest stars in the Galaxy**  |\n",
       "|| K. Werner, et al. -- incl., <mark>K. El-Badry</mark> |\n",
       "|*Appeared on*| *2023-11-23*|\n",
       "|*Comments*| *Accepted for publication in A&A*|\n",
       "|**Abstract**| We perform nonlocal thermodynamic equilibrium (NLTE) model atmosphere analyses of the three hottest hypervelocity stars (space velocities between $\\approx$ 1500-2800 km s$^{-1}$) known to date, which were recently discovered spectroscopically and identified as runaways from Type Ia supernovae. The hottest of the three (J0546$+$0836, effective temperature $T_\\mathrm{eff}$ = 95,000 $\\pm$ 15,000 K, surface gravity log g = $5.5 \\pm 0.5$) has an oxygen-dominated atmosphere with a significant amount of carbon (C = $0.10 \\pm 0.05$, O = $0.90 \\pm 0.05$, mass fractions). Its mixed absorption+emission line spectrum exhibits photospheric absorption lines from O V and O VI as well as O III and O IV emission lines that are formed in a radiation-driven wind with a mass-loss rate of the order of $10^{-8}$ $M_\\odot$ yr$^{-1}$. Spectroscopically, J0546$+$0836 is a [WC]-PG1159 transition-type pre-white dwarf. The second object (J0927$-$6335) is a PG1159-type white dwarf with a pure absorption-line spectrum dominated by C III/C IV and O III/O IV. We find $T_\\mathrm{eff}$ = 60,000 $\\pm$ 5000 K, log g = $7.0 \\pm 0.5$, and a carbon- and oxygen-dominated atmosphere with C = $0.47 \\pm 0.25$, O = $0.48 \\pm 0.25$, and possibly a minute amount of helium (He = $0.05 \\pm 0.05$). Comparison with post-AGB evolutionary tracks suggests a mass of $M\\approx0.5$ $M_\\odot$ for both objects, if such tracks can safely be applied to these stars. We find the third object (J1332$-$3541) to be a relatively massive ($M=0.89 M_\\odot$) hydrogen-rich (DAO) white dwarf with $T_\\mathrm{eff}$ = 65,657 $\\pm$ 2390 K, log g = $8.38 \\pm 0.08$, and abundances H = $0.65 \\pm 0.04$ and He = $0.35 \\pm 0.04$. We discuss our results in the context of the \"dynamically driven double-degenerate double-detonation\" (D$^6$) scenario proposed for the origin of these stars. |\n",
       "|<p style=\"color:green\"> **ERROR** </p>| <p style=\"color:green\">affiliation error: mpia.affiliation_verifications: 'Max' keyword not found.</p> |"
      ],
      "text/plain": [
       "<IPython.core.display.Markdown object>"
      ]
     },
     "metadata": {},
     "output_type": "display_data"
    }
   ],
   "source": [
    "import datetime\n",
    "today = str(datetime.date.today())\n",
    "logfile = f\"_build/html/logs/log-{today}.md\"\n",
    "\n",
    "\n",
    "with open(logfile, 'w') as logs:\n",
    "    # Success\n",
    "    logs.write(f'# Arxiv on Deck 2: Logs - {today}\\n\\n')\n",
    "    logs.write(\"\"\"* Arxiv had {0:,d} new papers\\n\"\"\".format(len(new_papers)))\n",
    "    logs.write(\"\"\"    * {0:,d} with possible author matches\\n\\n\"\"\".format(len(candidates)))\n",
    "    logs.write(\"## Sucessful papers\\n\\n\")\n",
    "    display(Markdown(\"## Successful papers\"))\n",
    "    success = [k[0] for k in documents]\n",
    "    for candid in candidates:\n",
    "        if candid['identifier'].split(':')[-1] in success:\n",
    "            display(candid)\n",
    "            logs.write(candid.generate_markdown_text() + '\\n\\n')\n",
    "\n",
    "    ## failed\n",
    "    logs.write(\"## Failed papers\\n\\n\")\n",
    "    display(Markdown(\"## Failed papers\"))\n",
    "    failed = sorted(failed, key=lambda x: x[1])\n",
    "    current_reason = \"\"\n",
    "    for paper, reason in failed:\n",
    "        if 'affiliation' in reason:\n",
    "            color = 'green'\n",
    "        else:\n",
    "            color = 'red'\n",
    "        data = Markdown(\n",
    "                paper.generate_markdown_text() + \n",
    "                f'\\n|<p style=\"color:{color:s}\"> **ERROR** </p>| <p style=\"color:{color:s}\">{reason:s}</p> |'\n",
    "               )\n",
    "        if reason != current_reason:\n",
    "            logs.write(f'### {reason:s} \\n\\n')\n",
    "            current_reason = reason\n",
    "        logs.write(data.data + '\\n\\n')\n",
    "        \n",
    "        # only display here the important errors (all in logs)\n",
    "        # if color in ('red',):\n",
    "        display(data)"
   ]
  },
  {
   "cell_type": "markdown",
   "id": "472d20ee",
   "metadata": {
    "papermill": {
     "duration": 0.004736,
     "end_time": "2023-11-24T04:09:17.669363",
     "exception": false,
     "start_time": "2023-11-24T04:09:17.664627",
     "status": "completed"
    },
    "tags": []
   },
   "source": [
    "## Export documents\n",
    "\n",
    "We now write the .md files and export relevant images"
   ]
  },
  {
   "cell_type": "code",
   "execution_count": 6,
   "id": "d426aed9",
   "metadata": {
    "execution": {
     "iopub.execute_input": "2023-11-24T04:09:17.680083Z",
     "iopub.status.busy": "2023-11-24T04:09:17.679602Z",
     "iopub.status.idle": "2023-11-24T04:09:17.685887Z",
     "shell.execute_reply": "2023-11-24T04:09:17.685343Z"
    },
    "papermill": {
     "duration": 0.013,
     "end_time": "2023-11-24T04:09:17.687166",
     "exception": false,
     "start_time": "2023-11-24T04:09:17.674166",
     "status": "completed"
    },
    "tags": []
   },
   "outputs": [],
   "source": [
    "def export_markdown_summary(md: str, md_fname:str, directory: str):\n",
    "    \"\"\"Export MD document and associated relevant images\"\"\"\n",
    "    import os\n",
    "    import shutil\n",
    "    import re\n",
    "\n",
    "    if (os.path.exists(directory) and not os.path.isdir(directory)):\n",
    "        raise RuntimeError(f\"a non-directory file exists with name {directory:s}\")\n",
    "\n",
    "    if (not os.path.exists(directory)):\n",
    "        print(f\"creating directory {directory:s}\")\n",
    "        os.mkdir(directory)\n",
    "\n",
    "    fig_fnames = (re.compile(r'\\[Fig.*\\]\\((.*)\\)').findall(md) + \n",
    "                  re.compile(r'\\<img src=\"([^>\\s]*)\"[^>]*/>').findall(md))\n",
    "    for fname in fig_fnames:\n",
    "        if 'http' in fname:\n",
    "            # No need to copy online figures\n",
    "            continue\n",
    "        destdir = os.path.join(directory, os.path.dirname(fname))\n",
    "        destfname = os.path.join(destdir, os.path.basename(fname))\n",
    "        try:\n",
    "            os.makedirs(destdir)\n",
    "        except FileExistsError:\n",
    "            pass\n",
    "        shutil.copy(fname, destfname)\n",
    "    with open(os.path.join(directory, md_fname), 'w') as fout:\n",
    "        fout.write(md)\n",
    "    print(\"exported in \", os.path.join(directory, md_fname))\n",
    "    [print(\"    + \" + os.path.join(directory,fk)) for fk in fig_fnames]"
   ]
  },
  {
   "cell_type": "code",
   "execution_count": 7,
   "id": "014d04a4",
   "metadata": {
    "execution": {
     "iopub.execute_input": "2023-11-24T04:09:17.697722Z",
     "iopub.status.busy": "2023-11-24T04:09:17.697344Z",
     "iopub.status.idle": "2023-11-24T04:09:17.707624Z",
     "shell.execute_reply": "2023-11-24T04:09:17.707114Z"
    },
    "papermill": {
     "duration": 0.016961,
     "end_time": "2023-11-24T04:09:17.708912",
     "exception": false,
     "start_time": "2023-11-24T04:09:17.691951",
     "status": "completed"
    },
    "tags": []
   },
   "outputs": [
    {
     "name": "stdout",
     "output_type": "stream",
     "text": [
      "exported in  _build/html/2311.13097.md\n",
      "    + _build/html/tmp_2311.13097/./Figure/1431_fig4_color.png\n",
      "    + _build/html/tmp_2311.13097/./Figure/KB231431_gridsearch.png\n",
      "    + _build/html/tmp_2311.13097/./Figure/KB231431_caustic.png\n",
      "exported in  _build/html/2311.13437.md\n",
      "    + _build/html/tmp_2311.13437/././Figures/C-FULLv2-CSS-LWE1.0mps.png\n",
      "    + _build/html/tmp_2311.13437/././Figures/C-FULLv2-CSS-LWI1.0mps.png\n",
      "    + _build/html/tmp_2311.13437/./Figures/METISblockDiagram4_handover.png\n",
      "    + _build/html/tmp_2311.13437/./Figures/C-FULL-ZVDM-FKL-M4-FCN-ALPHA.png\n",
      "exported in  _build/html/2311.13527.md\n",
      "    + _build/html/tmp_2311.13527/./extraction_visualization4.png\n",
      "    + _build/html/tmp_2311.13527/./Retrieved_parameters_robustness4.png\n",
      "    + _build/html/tmp_2311.13527/./comp_with_lowres2.png\n"
     ]
    }
   ],
   "source": [
    "for paper_id, md in documents:\n",
    "    export_markdown_summary(md, f\"{paper_id:s}.md\", '_build/html/')"
   ]
  },
  {
   "cell_type": "markdown",
   "id": "f087a0a7",
   "metadata": {
    "papermill": {
     "duration": 0.004878,
     "end_time": "2023-11-24T04:09:17.718666",
     "exception": false,
     "start_time": "2023-11-24T04:09:17.713788",
     "status": "completed"
    },
    "tags": []
   },
   "source": [
    "## Display the papers\n",
    "\n",
    "Not necessary but allows for a quick check."
   ]
  },
  {
   "cell_type": "code",
   "execution_count": 8,
   "id": "fd25f625",
   "metadata": {
    "execution": {
     "iopub.execute_input": "2023-11-24T04:09:17.729173Z",
     "iopub.status.busy": "2023-11-24T04:09:17.728974Z",
     "iopub.status.idle": "2023-11-24T04:09:17.735960Z",
     "shell.execute_reply": "2023-11-24T04:09:17.735334Z"
    },
    "papermill": {
     "duration": 0.013792,
     "end_time": "2023-11-24T04:09:17.737317",
     "exception": false,
     "start_time": "2023-11-24T04:09:17.723525",
     "status": "completed"
    },
    "scrolled": false,
    "tags": []
   },
   "outputs": [
    {
     "data": {
      "text/markdown": [
       "<div class=\"macros\" style=\"visibility:hidden;\">\n",
       "$\\newcommand{\\ensuremath}{}$\n",
       "$\\newcommand{\\xspace}{}$\n",
       "$\\newcommand{\\object}[1]{\\texttt{#1}}$\n",
       "$\\newcommand{\\farcs}{{.}''}$\n",
       "$\\newcommand{\\farcm}{{.}'}$\n",
       "$\\newcommand{\\arcsec}{''}$\n",
       "$\\newcommand{\\arcmin}{'}$\n",
       "$\\newcommand{\\ion}[2]{#1#2}$\n",
       "$\\newcommand{\\textsc}[1]{\\textrm{#1}}$\n",
       "$\\newcommand{\\hl}[1]{\\textrm{#1}}$\n",
       "$\\newcommand{\\footnote}[1]{}$\n",
       "$\\newcommand{\\thetae}{\\theta_{\\rm E}}$\n",
       "$\\newcommand{\\teff}{t_{\\rm eff}}$\n",
       "$\\newcommand{\\Icat}{I_{\\rm cat}}$\n",
       "$\\newcommand{\\pie}{\\pi_{\\rm E}}$\n",
       "$\\newcommand{\\pirel}{\\pi_{\\rm rel}}$\n",
       "$\\newcommand{\\te}{t_{\\rm E}}$\n",
       "$\\newcommand{\\event}{KMT-2023-BLG-1431}$\n",
       "$\\newcommand{\\an}{\\theta_{*}}$\n",
       "$\\newcommand{\\Sp}{{\\it Spitzer}}$\n",
       "$\\newcommand{\\hjd}{{\\rm HJD}^{\\prime}}$\n",
       "$\\newcommand$\n",
       "$\\newcommand$\n",
       "$\\newcommand{\\arraystretch}{1.25}$\n",
       "$\\newcommand{\\arraystretch}{1.4}$\n",
       "$\\newcommand$</div>\n",
       "\n",
       "\n",
       "\n",
       "<div id=\"title\">\n",
       "\n",
       "# ${\\large KMT-2023-BLG-1431Lb: A New $q < 10^{-4}$ Microlensing Planet from a Subtle Signature}$\n",
       "\n",
       "</div>\n",
       "<div id=\"comments\">\n",
       "\n",
       "[![arXiv](https://img.shields.io/badge/arXiv-2311.13097-b31b1b.svg)](https://arxiv.org/abs/2311.13097)<mark>Appeared on: 2023-11-23</mark> -  _PASP submitted. arXiv admin note: text overlap with arXiv:2301.06779_\n",
       "\n",
       "</div>\n",
       "<div id=\"authors\">\n",
       "\n",
       "A. Bell, et al. -- incl., <mark>A. Gould</mark>\n",
       "\n",
       "</div>\n",
       "<div id=\"abstract\">\n",
       "\n",
       "**Abstract:** The current studies of microlensing planets are limited by small number statistics. Follow-up observations of high-magnification microlensing events can efficiently form a statistical planetary sample. Since 2020, the Korea Microlensing Telescope Network (KMTNet) and the Las Cumbres Observatory (LCO) global network have been conducting a follow-up program for high-magnification KMTNet events. Here, we report the detection and analysis of a microlensing planetary event, $\\event$ , for which the subtle (0.05 magnitude) and short-lived (5 hours) planetary signature was characterized by the follow-up from KMTNet and LCO. A binary-lens single-source (2L1S) analysis reveals a planet/host mass ratio of $q = (0.72 \\pm 0.07) \\times 10^{-4}$ , and the single-lens binary-source (1L2S) model is excluded by $\\Delta\\chi^2 = 80$ . A Bayesian analysis using a Galactic model yields estimates of the host star mass of $M_{\\rm host} = 0.57^{+0.33}_{-0.29} M_\\odot$ , the planetary mass of $M_{\\rm planet} = 13.5_{-6.8}^{+8.1} M_{\\earth}$ , and the lens distance of $D_{\\rm L} = 6.9_{-1.7}^{+0.8}$ kpc. The projected planet-host separation of $a_\\perp = 2.3_{-0.5}^{+0.5}$ au or $a_\\perp = 3.2_{-0.8}^{+0.7}$ , subject to the close/wide degeneracy. We also find that without the follow-up data, the survey-only data cannot break the degeneracy of central/resonant caustics and the degeneracy of 2L1S/1L2S models, showing the importance of follow-up observations for current microlensing surveys.\n",
       "\n",
       "</div>\n",
       "\n",
       "<div id=\"div_fig1\">\n",
       "\n",
       "<img src=\"tmp_2311.13097/./Figure/1431_fig4_color.png\" alt=\"Fig5\" width=\"100%\"/>\n",
       "\n",
       "**Figure 5. -** Detailed comparison of the disfavored model fits to the anomaly: \"Close Central\", \"Wide Central\", \"Close Resonant\" \"Wide Resonant\",  and \"1L2S\". The top panel shows the models plotted with the data, while the middle panels show the residuals to the models. The \"Close Resonant\" models shows clear residuals and is ruled out. The deviations in the \"Wide Resonant\" and \"1L2S\" models are more subtle but (as shown in the bottom panel), amount to $\\Delta\\chi^2$ differences of $\\sim 30$ and $\\sim 80$, respectively, over the course of the anomaly. The \"Close Central\" model is competitive with the best-fit \"Wide Central\" model. (*fig:lc2*)\n",
       "\n",
       "</div>\n",
       "<div id=\"div_fig2\">\n",
       "\n",
       "<img src=\"tmp_2311.13097/./Figure/KB231431_gridsearch.png\" alt=\"Fig1\" width=\"100%\"/>\n",
       "\n",
       "**Figure 1. -** $\\chi^2$ surface in the ($\\log s, \\log q$) plane drawn from the grid search. The upper panel displays the space that is equally divided on a ($61 \\times 61$) grid with ranges of $-1.5\\leq\\log s \\leq1.5$ and $-6.0\\leq \\log q \\leq0$, respectively. The lower panel shows the space that is equally divided on a ($151 \\times 31$) grid with ranges of $-0.15\\leq\\log s \\leq0.15$ and $-5.0\\leq \\log q \\leq-3.5$, respectively. Grid with $\\Delta \\chi^2  > 720$ are marked as blank. The labels \"Close Central\", \"Wide Central\", \"Close Resonant\", and \"Wide Resonant\" in the lower panel indicate four local minima. The two red dashed lines represent the boundaries between resonant and non-resonant caustics applying Equation (59) of [ and Dominik (1999)]().\n",
       " (*fig:grid*)\n",
       "\n",
       "</div>\n",
       "<div id=\"div_fig3\">\n",
       "\n",
       "<img src=\"tmp_2311.13097/./Figure/KB231431_caustic.png\" alt=\"Fig2\" width=\"100%\"/>\n",
       "\n",
       "**Figure 2. -** Geometries of the four 2L1S solutions. In each panel, the black line with an arrow represents the source trajectory with respect to the host star that is marked by blue dot, the red lines show the caustic structure, the axes are in units of the Einstein radius $\\thetae$, and the magenta circle indicates the source radii.\n",
       "     (*fig:cau*)\n",
       "\n",
       "</div><div id=\"qrcode\"><img src=https://api.qrserver.com/v1/create-qr-code/?size=100x100&data=\"https://arxiv.org/abs/2311.13097\"></div>"
      ],
      "text/plain": [
       "<IPython.core.display.Markdown object>"
      ]
     },
     "metadata": {},
     "output_type": "display_data"
    },
    {
     "data": {
      "text/markdown": [
       "<div class=\"macros\" style=\"visibility:hidden;\">\n",
       "$\\newcommand{\\ensuremath}{}$\n",
       "$\\newcommand{\\xspace}{}$\n",
       "$\\newcommand{\\object}[1]{\\texttt{#1}}$\n",
       "$\\newcommand{\\farcs}{{.}''}$\n",
       "$\\newcommand{\\farcm}{{.}'}$\n",
       "$\\newcommand{\\arcsec}{''}$\n",
       "$\\newcommand{\\arcmin}{'}$\n",
       "$\\newcommand{\\ion}[2]{#1#2}$\n",
       "$\\newcommand{\\textsc}[1]{\\textrm{#1}}$\n",
       "$\\newcommand{\\hl}[1]{\\textrm{#1}}$\n",
       "$\\newcommand{\\footnote}[1]{}$\n",
       "$\\newcommand{çc}[1]{{\\color{red}\\textrm{#1}}}$\n",
       "$\\newcommand{\\baselinestretch}{1.0}$\n",
       "$\\newcommand{\\@}{maketitle}$</div>\n",
       "\n",
       "\n",
       "\n",
       "<div id=\"title\">\n",
       "\n",
       "# Simulating METIS' SCAO System\n",
       "\n",
       "</div>\n",
       "<div id=\"comments\">\n",
       "\n",
       "[![arXiv](https://img.shields.io/badge/arXiv-2311.13437-b31b1b.svg)](https://arxiv.org/abs/2311.13437)<mark>Appeared on: 2023-11-23</mark> -  _17 pages, 14 Figures, AO4ELT VII Conference - Avignon - June 2023_\n",
       "\n",
       "</div>\n",
       "<div id=\"authors\">\n",
       "\n",
       "<mark>M. Feldt</mark>, et al. -- incl., <mark>H. Steuer</mark>, <mark>T. Bertram</mark>\n",
       "\n",
       "</div>\n",
       "<div id=\"abstract\">\n",
       "\n",
       "**Abstract:** METIS, the Mid-Infrared ELT Imager and Spectrograph, is one of the four first-generation ELT instruments scheduled to see first light in 2028. Its two main science modules are supported by an adaptive optics system featuring a pyramid sensor with 90x90 subapertures working in the $H$ and $K$ bands. During the PDR and FDR phases, extensive simulations were carried out to support the sensing, reconstruction, and control concept of METIS single-conjugate adaptive optics (SCAO) system.We present details on the implementation of the COMPASS-based environment used for the simulations, the metrics used for analyzing our performance expectations, an overview of the main results, and some details on special cases like non-common path aberrations (NCPA) and water vapor seeing, as well as the low-wind effect.\n",
       "\n",
       "</div>\n",
       "\n",
       "<div id=\"div_fig1\">\n",
       "\n",
       "<img src=\"tmp_2311.13437/././Figures/C-FULLv2-CSS-LWE1.0mps.png\" alt=\"Fig12.1\" width=\"50%\"/><img src=\"tmp_2311.13437/././Figures/C-FULLv2-CSS-LWI1.0mps.png\" alt=\"Fig12.2\" width=\"50%\"/>\n",
       "\n",
       "**Figure 12. -** \n",
       "Performance and CCS response for different scalings of the 1.0 m/s low-wind case. The blue curve denotes the Strehl ratio, red denotes the maximum force required by any actuator at any time during the simulation, green shows the measured petal piston rms as usual, and the orange curve shows the maximum number of modes dropped from the command vector at any time during the simulation. In the simulation underlying the left-hand figure, mode dropping was disabled to show the strain on the maximum actuator force when the impact of the low-wind condition increases.\n",
       " (*fig:C-FULL-CCS*)\n",
       "\n",
       "</div>\n",
       "<div id=\"div_fig2\">\n",
       "\n",
       "<img src=\"tmp_2311.13437/./Figures/METISblockDiagram4_handover.png\" alt=\"Fig1\" width=\"100%\"/>\n",
       "\n",
       "**Figure 1. -** Simplified block diagram of the SCAO system: The Adaptive Optics Control System (AOCS) and the SCAO Module (slightly darker boxes) are the entities of the SCAO system that belong to the instrument domain. The key entities for\n",
       "the real-time correction of the incoming light are located in the 'ELT' domain on the left side of the figure. In a closed wavefront control loop, the blue, near-infrared (NIR) light is used to measure the instantaneous residual\n",
       "wavefront error by the WFS. The measurement signal is analyzed by the RTC, and a computed correction is sent to the Central Control System (CCS) to be applied with the M4 and ELT tip-tilt field stabilization mirror (M5) via a Local\n",
       "Control System (LCS). The Focal Plane Sensor Gateway (FPS GW) provides science images to auxiliary AO loops. (*fig:SCAO-overview*)\n",
       "\n",
       "</div>\n",
       "<div id=\"div_fig3\">\n",
       "\n",
       "<img src=\"tmp_2311.13437/./Figures/C-FULL-ZVDM-FKL-M4-FCN-ALPHA.png\" alt=\"Fig4\" width=\"100%\"/>\n",
       "\n",
       "**Figure 4. -** Typical plot of our key performance parameters against a varying input parameter, in this case both regularization strengths of the reconstructor which were kept identical. The Strehl ratio is plotted in blue, residual tip-tilt motion of the PSF in red, residual petal piston in green, and the temporal variance contrast in orange. (*fig:stdfig_example*)\n",
       "\n",
       "</div><div id=\"qrcode\"><img src=https://api.qrserver.com/v1/create-qr-code/?size=100x100&data=\"https://arxiv.org/abs/2311.13437\"></div>"
      ],
      "text/plain": [
       "<IPython.core.display.Markdown object>"
      ]
     },
     "metadata": {},
     "output_type": "display_data"
    },
    {
     "data": {
      "text/markdown": [
       "<div class=\"macros\" style=\"visibility:hidden;\">\n",
       "$\\newcommand{\\ensuremath}{}$\n",
       "$\\newcommand{\\xspace}{}$\n",
       "$\\newcommand{\\object}[1]{\\texttt{#1}}$\n",
       "$\\newcommand{\\farcs}{{.}''}$\n",
       "$\\newcommand{\\farcm}{{.}'}$\n",
       "$\\newcommand{\\arcsec}{''}$\n",
       "$\\newcommand{\\arcmin}{'}$\n",
       "$\\newcommand{\\ion}[2]{#1#2}$\n",
       "$\\newcommand{\\textsc}[1]{\\textrm{#1}}$\n",
       "$\\newcommand{\\hl}[1]{\\textrm{#1}}$\n",
       "$\\newcommand{\\footnote}[1]{}$\n",
       "$\\newcommand{\\appropto}{\\mathrel{\\vcenter{$\n",
       "$  \\offinterlineskip\\halign{\\hfil##\\cr$\n",
       "$    \\propto\\cr\\noalign{\\kern2pt}\\sim\\cr\\noalign{\\kern-2pt}}}}}$\n",
       "$\\newcommand{\\arraystretch}{1.15}$\n",
       "$\\newcommand{\\arraystretch}{1.2}$</div>\n",
       "\n",
       "\n",
       "\n",
       "<div id=\"title\">\n",
       "\n",
       "# $\\beta$ Pictoris b through the eyes of the upgraded CRIRES+\n",
       "\n",
       "</div>\n",
       "<div id=\"comments\">\n",
       "\n",
       "[![arXiv](https://img.shields.io/badge/arXiv-2311.13527-b31b1b.svg)](https://arxiv.org/abs/2311.13527)<mark>Appeared on: 2023-11-23</mark> -  _Accepted for publication in A&A_\n",
       "\n",
       "</div>\n",
       "<div id=\"authors\">\n",
       "\n",
       "R. Landman, et al. -- incl., <mark>P. Mollière</mark>\n",
       "\n",
       "</div>\n",
       "<div id=\"abstract\">\n",
       "\n",
       "**Abstract:** High-resolution spectrographs fed by adaptive optics (AO) provide a unique opportunity to characterize directly imaged exoplanets. Observations with such instruments allow us to probe the atmospheric composition, spin rotation, and radial velocity of the planet, thereby helping to reveal information on its formation and migration history. The recent upgrade of the Cryogenic High-Resolution Infrared Echelle Spectrograph (CRIRES+) at the VLT makes it a highly suitable instrument for characterizing directly imaged exoplanets. In this work, we report on observations of $\\beta$ Pictoris b with CRIRES+ and use them to constrain the planets atmospheric properties and update the estimation of its spin rotation. The data were reduced using the open-source _pycrires_ package. We subsequently forward-modeled the stellar, planetary, and systematic contribution to the data to detect molecules in the planet's atmosphere. We also used atmospheric retrievals to provide new constraints on its atmosphere. We confidently detected water and carbon monoxide in the atmosphere of $\\beta$ Pictoris b and retrieved a slightly sub-solar carbon-to-oxygen ratio, which is in agreement with previous results. The interpretation is hampered by our limited knowledge of the C/O ratio of the host star. We also obtained a much improved constraint on its spin rotation of $19.9 \\pm 1.0$ km/s, which gives a rotation period of $8.7 \\pm 0.8$ hours, assuming no obliquity. We find that there is a degeneracy between the metallicity and clouds, but this has minimal impact on the retrieved C/O, $v\\sin{i}$ , and radial velocity. Our results show that CRIRES+ is performing well and stands as a highly useful instrument for characterizing directly imaged planets.\n",
       "\n",
       "</div>\n",
       "\n",
       "<div id=\"div_fig1\">\n",
       "\n",
       "<img src=\"tmp_2311.13527/./extraction_visualization4.png\" alt=\"Fig1\" width=\"100%\"/>\n",
       "\n",
       "**Figure 1. -** Visualization of the data extraction pipeline. Top row shows the product of the _obs\\_nodding_ recipe from the ESO CRIRES+ data reduction pipeline. The middle row shows the rectified 2D spectrum corrected for the slit tilt and curvature using _pycrires_ and the bottom row shows the spectrum at the location of the planet, plotted together with a telluric model generated with SkyCalc. (*fig:data_reduction*)\n",
       "\n",
       "</div>\n",
       "<div id=\"div_fig2\">\n",
       "\n",
       "<img src=\"tmp_2311.13527/./Retrieved_parameters_robustness4.png\" alt=\"Fig3\" width=\"100%\"/>\n",
       "\n",
       "**Figure 3. -** Constraints on a subset of the parameters from the atmospheric retrievals using the models discussed in Section \\ref{sec:atmosphere_models}. The RV shown here is in the barycentric restframe. (*fig:retrieved_params*)\n",
       "\n",
       "</div>\n",
       "<div id=\"div_fig3\">\n",
       "\n",
       "<img src=\"tmp_2311.13527/./comp_with_lowres2.png\" alt=\"Fig5\" width=\"100%\"/>\n",
       "\n",
       "**Figure 5. -** Comparison of the spectral energy distributions of our retrieved models compared to the low-resolution GPI data from [Chilcote and Pueyo (2017)]() and GRAVITY data from [Nowak and Lacour (2020)](). Since we do not retrieve radius, the flux of our models is scaled such that it matches the GPI flux in the K-band. The solid line shows the median value and the colored region shows the 16th and 84th percentiles. (*fig:comp_lowres*)\n",
       "\n",
       "</div><div id=\"qrcode\"><img src=https://api.qrserver.com/v1/create-qr-code/?size=100x100&data=\"https://arxiv.org/abs/2311.13527\"></div>"
      ],
      "text/plain": [
       "<IPython.core.display.Markdown object>"
      ]
     },
     "metadata": {},
     "output_type": "display_data"
    }
   ],
   "source": [
    "[display(Markdown(k[1])) for k in documents];"
   ]
  },
  {
   "cell_type": "markdown",
   "id": "873873a4",
   "metadata": {
    "papermill": {
     "duration": 0.005392,
     "end_time": "2023-11-24T04:09:17.748244",
     "exception": false,
     "start_time": "2023-11-24T04:09:17.742852",
     "status": "completed"
    },
    "tags": []
   },
   "source": [
    "# Create HTML index"
   ]
  },
  {
   "cell_type": "code",
   "execution_count": 9,
   "id": "cf665672",
   "metadata": {
    "execution": {
     "iopub.execute_input": "2023-11-24T04:09:17.759912Z",
     "iopub.status.busy": "2023-11-24T04:09:17.759515Z",
     "iopub.status.idle": "2023-11-24T04:09:17.768347Z",
     "shell.execute_reply": "2023-11-24T04:09:17.767674Z"
    },
    "papermill": {
     "duration": 0.016158,
     "end_time": "2023-11-24T04:09:17.769714",
     "exception": false,
     "start_time": "2023-11-24T04:09:17.753556",
     "status": "completed"
    },
    "tags": []
   },
   "outputs": [
    {
     "name": "stdout",
     "output_type": "stream",
     "text": [
      "327  publications files modified in the last 7 days.\n"
     ]
    }
   ],
   "source": [
    "from datetime import datetime, timedelta, timezone\n",
    "from glob import glob\n",
    "import os\n",
    "\n",
    "files = glob('_build/html/*.md')\n",
    "days = 7\n",
    "now = datetime.today()\n",
    "res = []\n",
    "for fk in files:\n",
    "    stat_result = os.stat(fk).st_ctime\n",
    "    modified = datetime.fromtimestamp(stat_result, tz=timezone.utc).replace(tzinfo=None)\n",
    "    delta = now.today() - modified\n",
    "    if delta <= timedelta(days=days):\n",
    "        res.append((delta.seconds, fk))\n",
    "res = [k[1] for k in reversed(sorted(res, key=lambda x:x[1]))]\n",
    "npub = len(res)\n",
    "print(len(res), f\" publications files modified in the last {days:d} days.\")\n",
    "# [ print('\\t', k) for k in res ];"
   ]
  },
  {
   "cell_type": "code",
   "execution_count": 10,
   "id": "015de740",
   "metadata": {
    "execution": {
     "iopub.execute_input": "2023-11-24T04:09:17.781435Z",
     "iopub.status.busy": "2023-11-24T04:09:17.781236Z",
     "iopub.status.idle": "2023-11-24T04:09:17.800252Z",
     "shell.execute_reply": "2023-11-24T04:09:17.799728Z"
    },
    "papermill": {
     "duration": 0.026386,
     "end_time": "2023-11-24T04:09:17.801523",
     "exception": false,
     "start_time": "2023-11-24T04:09:17.775137",
     "status": "completed"
    },
    "tags": []
   },
   "outputs": [
    {
     "name": "stdout",
     "output_type": "stream",
     "text": [
      "5  publications in the last 7 days.\n"
     ]
    }
   ],
   "source": [
    "import datetime\n",
    "from glob import glob\n",
    "\n",
    "def get_last_n_days(lst, days=1):\n",
    "    \"\"\" Get the documents from the last n days \"\"\"\n",
    "    sorted_lst = sorted(lst, key=lambda x: x[1], reverse=True)\n",
    "    for fname, date in sorted_lst:\n",
    "        if date >= str(datetime.date.today() - datetime.timedelta(days=days)):\n",
    "            yield fname\n",
    "\n",
    "def extract_appearance_dates(lst_file):\n",
    "    dates = []\n",
    "\n",
    "    def get_date(line):\n",
    "        return line\\\n",
    "            .split('Appeared on:')[-1]\\\n",
    "            .split('</mark>')[0].strip()\n",
    "\n",
    "    for fname in lst:\n",
    "        with open(fname, 'r') as f:\n",
    "            found_date = False\n",
    "            for line in f:\n",
    "                if not found_date:\n",
    "                    if \"Appeared on\" in line:\n",
    "                        found_date = True\n",
    "                        dates.append((fname, get_date(line)))\n",
    "                else:\n",
    "                    break\n",
    "    return dates\n",
    "\n",
    "from glob import glob\n",
    "lst = glob('_build/html/*md')\n",
    "days = 7\n",
    "dates = extract_appearance_dates(lst)\n",
    "res = list(get_last_n_days(dates, days))\n",
    "npub = len(res)\n",
    "print(len(res), f\" publications in the last {days:d} days.\")"
   ]
  },
  {
   "cell_type": "code",
   "execution_count": 11,
   "id": "52ca0208",
   "metadata": {
    "execution": {
     "iopub.execute_input": "2023-11-24T04:09:17.813644Z",
     "iopub.status.busy": "2023-11-24T04:09:17.813148Z",
     "iopub.status.idle": "2023-11-24T04:09:17.818109Z",
     "shell.execute_reply": "2023-11-24T04:09:17.817486Z"
    },
    "papermill": {
     "duration": 0.012621,
     "end_time": "2023-11-24T04:09:17.819684",
     "exception": false,
     "start_time": "2023-11-24T04:09:17.807063",
     "status": "completed"
    },
    "scrolled": false,
    "tags": []
   },
   "outputs": [],
   "source": [
    "def create_carousel(npub=4):\n",
    "    \"\"\" Generate the HTML code for a carousel with `npub` slides \"\"\"\n",
    "    carousel = [\"\"\"  <div class=\"carousel\" \"\"\",\n",
    "                \"\"\"       data-flickity='{ \"autoPlay\": 10000, \"adaptiveHeight\": true, \"resize\": true, \"wrapAround\": true, \"pauseAutoPlayOnHover\": true, \"groupCells\": 1 }' id=\"asyncTypeset\">\"\"\"\n",
    "                ]\n",
    "    \n",
    "    item_str = \"\"\"    <div class=\"carousel-cell\"> <div id=\"slide{k}\" class=\"md_view\">Content {k}</div> </div>\"\"\"\n",
    "    for k in range(1, npub + 1):\n",
    "        carousel.append(item_str.format(k=k))\n",
    "    carousel.append(\"  </div>\")\n",
    "    return '\\n'.join(carousel)\n",
    "\n",
    "def create_grid(npub=4):\n",
    "    \"\"\" Generate the HTML code for a flat grid with `npub` slides \"\"\"\n",
    "    grid = [\"\"\"  <div class=\"grid\"> \"\"\",\n",
    "                ]\n",
    "    \n",
    "    item_str = \"\"\"    <div class=\"grid-item\"> <div id=\"slide{k}\" class=\"md_view\">Content {k}</div> </div>\"\"\"\n",
    "    for k in range(1, npub + 1):\n",
    "        grid.append(item_str.format(k=k))\n",
    "    grid.append(\"  </div>\")\n",
    "    return '\\n'.join(grid)"
   ]
  },
  {
   "cell_type": "code",
   "execution_count": 12,
   "id": "a6eac5b6",
   "metadata": {
    "execution": {
     "iopub.execute_input": "2023-11-24T04:09:17.832204Z",
     "iopub.status.busy": "2023-11-24T04:09:17.831701Z",
     "iopub.status.idle": "2023-11-24T04:09:17.836672Z",
     "shell.execute_reply": "2023-11-24T04:09:17.836121Z"
    },
    "papermill": {
     "duration": 0.012534,
     "end_time": "2023-11-24T04:09:17.837914",
     "exception": false,
     "start_time": "2023-11-24T04:09:17.825380",
     "status": "completed"
    },
    "scrolled": false,
    "tags": []
   },
   "outputs": [],
   "source": [
    "carousel = create_carousel(npub)\n",
    "docs = ', '.join(['\"{0:s}\"'.format(k.split('/')[-1]) for k in res])\n",
    "slides = ', '.join([f'\"slide{k}\"' for k in range(1, npub + 1)])\n",
    "\n",
    "with open(\"daily_template.html\", \"r\") as tpl:\n",
    "    page = tpl.read()\n",
    "    page = page.replace(\"{%-- carousel:s --%}\", carousel)\\\n",
    "               .replace(\"{%-- suptitle:s --%}\",  \"7-day archives\" )\\\n",
    "               .replace(\"{%-- docs:s --%}\", docs)\\\n",
    "               .replace(\"{%-- slides:s --%}\", slides)\n",
    "    \n",
    "with open(\"_build/html/index_7days.html\", 'w') as fout:\n",
    "    fout.write(page)"
   ]
  },
  {
   "cell_type": "code",
   "execution_count": 13,
   "id": "adc1a1ec",
   "metadata": {
    "execution": {
     "iopub.execute_input": "2023-11-24T04:09:17.850075Z",
     "iopub.status.busy": "2023-11-24T04:09:17.849712Z",
     "iopub.status.idle": "2023-11-24T04:09:17.856276Z",
     "shell.execute_reply": "2023-11-24T04:09:17.855602Z"
    },
    "papermill": {
     "duration": 0.014033,
     "end_time": "2023-11-24T04:09:17.857602",
     "exception": false,
     "start_time": "2023-11-24T04:09:17.843569",
     "status": "completed"
    },
    "tags": []
   },
   "outputs": [
    {
     "name": "stdout",
     "output_type": "stream",
     "text": [
      "3  publications in the last day.\n"
     ]
    }
   ],
   "source": [
    "# redo for today\n",
    "days = 1\n",
    "res = list(get_last_n_days(dates, days))\n",
    "npub = len(res)\n",
    "print(len(res), f\" publications in the last day.\")\n",
    "\n",
    "carousel = create_carousel(npub)\n",
    "docs = ', '.join(['\"{0:s}\"'.format(k.split('/')[-1]) for k in res])\n",
    "slides = ', '.join([f'\"slide{k}\"' for k in range(1, npub + 1)])\n",
    "\n",
    "with open(\"daily_template.html\", \"r\") as tpl:\n",
    "    page = tpl.read()\n",
    "    page = page.replace(\"{%-- carousel:s --%}\", carousel)\\\n",
    "               .replace(\"{%-- suptitle:s --%}\",  \"Daily\" )\\\n",
    "               .replace(\"{%-- docs:s --%}\", docs)\\\n",
    "               .replace(\"{%-- slides:s --%}\", slides)\n",
    "    \n",
    "# print(carousel, docs, slides)\n",
    "# print(page)\n",
    "with open(\"_build/html/index_daily.html\", 'w') as fout:\n",
    "    fout.write(page)"
   ]
  },
  {
   "cell_type": "code",
   "execution_count": 14,
   "id": "00eece82",
   "metadata": {
    "execution": {
     "iopub.execute_input": "2023-11-24T04:09:17.869741Z",
     "iopub.status.busy": "2023-11-24T04:09:17.869544Z",
     "iopub.status.idle": "2023-11-24T04:09:17.875707Z",
     "shell.execute_reply": "2023-11-24T04:09:17.875180Z"
    },
    "papermill": {
     "duration": 0.013885,
     "end_time": "2023-11-24T04:09:17.877100",
     "exception": false,
     "start_time": "2023-11-24T04:09:17.863215",
     "status": "completed"
    },
    "scrolled": false,
    "tags": []
   },
   "outputs": [
    {
     "name": "stdout",
     "output_type": "stream",
     "text": [
      "6  6 publications selected.\n"
     ]
    }
   ],
   "source": [
    "# Create the flat grid of the last N papers (fixed number regardless of dates)\n",
    "from itertools import islice \n",
    "\n",
    "npub = 6\n",
    "res = [k[0] for k in (islice(reversed(sorted(dates, key=lambda x: x[1])), 6))]\n",
    "print(len(res), f\" {npub} publications selected.\")\n",
    "\n",
    "grid = create_grid(npub)\n",
    "docs = ', '.join(['\"{0:s}\"'.format(k.split('/')[-1]) for k in res])\n",
    "slides = ', '.join([f'\"slide{k}\"' for k in range(1, npub + 1)])\n",
    "\n",
    "with open(\"grid_template.html\", \"r\") as tpl:\n",
    "    page = tpl.read()\n",
    "    page = page.replace(\"{%-- grid-content:s --%}\", grid)\\\n",
    "               .replace(\"{%-- suptitle:s --%}\",  f\"Last {npub:,d} papers\" )\\\n",
    "               .replace(\"{%-- docs:s --%}\", docs)\\\n",
    "               .replace(\"{%-- slides:s --%}\", slides)\n",
    "    \n",
    "# print(grid, docs, slides)\n",
    "# print(page)\n",
    "with open(\"_build/html/index_npub_grid.html\", 'w') as fout:\n",
    "    fout.write(page)"
   ]
  }
 ],
 "metadata": {
  "kernelspec": {
   "display_name": "Python 3 (ipykernel)",
   "language": "python",
   "name": "python3"
  },
  "language_info": {
   "codemirror_mode": {
    "name": "ipython",
    "version": 3
   },
   "file_extension": ".py",
   "mimetype": "text/x-python",
   "name": "python",
   "nbconvert_exporter": "python",
   "pygments_lexer": "ipython3",
   "version": "3.9.18"
  },
  "papermill": {
   "default_parameters": {},
   "duration": 71.484211,
   "end_time": "2023-11-24T04:09:18.099148",
   "environment_variables": {},
   "exception": null,
   "input_path": "MPIA daily digest.ipynb",
   "output_path": "log.ipynb",
   "parameters": {},
   "start_time": "2023-11-24T04:08:06.614937",
   "version": "2.5.0"
  },
  "vscode": {
   "interpreter": {
    "hash": "aee8b7b246df8f9039afb4144a1f6fd8d2ca17a180786b69acc140d282b71a49"
   }
  },
  "widgets": {
   "application/vnd.jupyter.widget-state+json": {
    "state": {
     "1514f14458be43748526dbcbf057beba": {
      "model_module": "@jupyter-widgets/base",
      "model_module_version": "2.0.0",
      "model_name": "LayoutModel",
      "state": {
       "_model_module": "@jupyter-widgets/base",
       "_model_module_version": "2.0.0",
       "_model_name": "LayoutModel",
       "_view_count": null,
       "_view_module": "@jupyter-widgets/base",
       "_view_module_version": "2.0.0",
       "_view_name": "LayoutView",
       "align_content": null,
       "align_items": null,
       "align_self": null,
       "border_bottom": null,
       "border_left": null,
       "border_right": null,
       "border_top": null,
       "bottom": null,
       "display": null,
       "flex": null,
       "flex_flow": null,
       "grid_area": null,
       "grid_auto_columns": null,
       "grid_auto_flow": null,
       "grid_auto_rows": null,
       "grid_column": null,
       "grid_gap": null,
       "grid_row": null,
       "grid_template_areas": null,
       "grid_template_columns": null,
       "grid_template_rows": null,
       "height": null,
       "justify_content": null,
       "justify_items": null,
       "left": null,
       "margin": null,
       "max_height": null,
       "max_width": null,
       "min_height": null,
       "min_width": null,
       "object_fit": null,
       "object_position": null,
       "order": null,
       "overflow": null,
       "padding": null,
       "right": null,
       "top": null,
       "visibility": null,
       "width": null
      }
     },
     "1af9cd18db2341baba33341c2e7c7374": {
      "model_module": "@jupyter-widgets/controls",
      "model_module_version": "2.0.0",
      "model_name": "HTMLStyleModel",
      "state": {
       "_model_module": "@jupyter-widgets/controls",
       "_model_module_version": "2.0.0",
       "_model_name": "HTMLStyleModel",
       "_view_count": null,
       "_view_module": "@jupyter-widgets/base",
       "_view_module_version": "2.0.0",
       "_view_name": "StyleView",
       "background": null,
       "description_width": "",
       "font_size": null,
       "text_color": null
      }
     },
     "29eec98cea3d4d62b860d62536cca2f6": {
      "model_module": "@jupyter-widgets/base",
      "model_module_version": "2.0.0",
      "model_name": "LayoutModel",
      "state": {
       "_model_module": "@jupyter-widgets/base",
       "_model_module_version": "2.0.0",
       "_model_name": "LayoutModel",
       "_view_count": null,
       "_view_module": "@jupyter-widgets/base",
       "_view_module_version": "2.0.0",
       "_view_name": "LayoutView",
       "align_content": null,
       "align_items": null,
       "align_self": null,
       "border_bottom": null,
       "border_left": null,
       "border_right": null,
       "border_top": null,
       "bottom": null,
       "display": null,
       "flex": null,
       "flex_flow": null,
       "grid_area": null,
       "grid_auto_columns": null,
       "grid_auto_flow": null,
       "grid_auto_rows": null,
       "grid_column": null,
       "grid_gap": null,
       "grid_row": null,
       "grid_template_areas": null,
       "grid_template_columns": null,
       "grid_template_rows": null,
       "height": null,
       "justify_content": null,
       "justify_items": null,
       "left": null,
       "margin": null,
       "max_height": null,
       "max_width": null,
       "min_height": null,
       "min_width": null,
       "object_fit": null,
       "object_position": null,
       "order": null,
       "overflow": null,
       "padding": null,
       "right": null,
       "top": null,
       "visibility": null,
       "width": null
      }
     },
     "2c5cf6b47c5744098d2a309647c0b761": {
      "model_module": "@jupyter-widgets/base",
      "model_module_version": "2.0.0",
      "model_name": "LayoutModel",
      "state": {
       "_model_module": "@jupyter-widgets/base",
       "_model_module_version": "2.0.0",
       "_model_name": "LayoutModel",
       "_view_count": null,
       "_view_module": "@jupyter-widgets/base",
       "_view_module_version": "2.0.0",
       "_view_name": "LayoutView",
       "align_content": null,
       "align_items": null,
       "align_self": null,
       "border_bottom": null,
       "border_left": null,
       "border_right": null,
       "border_top": null,
       "bottom": null,
       "display": null,
       "flex": null,
       "flex_flow": null,
       "grid_area": null,
       "grid_auto_columns": null,
       "grid_auto_flow": null,
       "grid_auto_rows": null,
       "grid_column": null,
       "grid_gap": null,
       "grid_row": null,
       "grid_template_areas": null,
       "grid_template_columns": null,
       "grid_template_rows": null,
       "height": null,
       "justify_content": null,
       "justify_items": null,
       "left": null,
       "margin": null,
       "max_height": null,
       "max_width": null,
       "min_height": null,
       "min_width": null,
       "object_fit": null,
       "object_position": null,
       "order": null,
       "overflow": null,
       "padding": null,
       "right": null,
       "top": null,
       "visibility": null,
       "width": null
      }
     },
     "33de71c6c73643fa99a3bb82f8b115c6": {
      "model_module": "@jupyter-widgets/controls",
      "model_module_version": "2.0.0",
      "model_name": "HTMLModel",
      "state": {
       "_dom_classes": [],
       "_model_module": "@jupyter-widgets/controls",
       "_model_module_version": "2.0.0",
       "_model_name": "HTMLModel",
       "_view_count": null,
       "_view_module": "@jupyter-widgets/controls",
       "_view_module_version": "2.0.0",
       "_view_name": "HTMLView",
       "description": "",
       "description_allow_html": false,
       "layout": "IPY_MODEL_29eec98cea3d4d62b860d62536cca2f6",
       "placeholder": "​",
       "style": "IPY_MODEL_a3abcf9755034f8f91890cc59dec5ffd",
       "tabbable": null,
       "tooltip": null,
       "value": " 5/5 [00:47&lt;00:00, 13.81s/it]"
      }
     },
     "685e07786f1b43b9ac590b214956f78e": {
      "model_module": "@jupyter-widgets/controls",
      "model_module_version": "2.0.0",
      "model_name": "HBoxModel",
      "state": {
       "_dom_classes": [],
       "_model_module": "@jupyter-widgets/controls",
       "_model_module_version": "2.0.0",
       "_model_name": "HBoxModel",
       "_view_count": null,
       "_view_module": "@jupyter-widgets/controls",
       "_view_module_version": "2.0.0",
       "_view_name": "HBoxView",
       "box_style": "",
       "children": [
        "IPY_MODEL_96e0f9a8461f47c48525a8bda31ec8de",
        "IPY_MODEL_ea832c8230f843d8b7765653b131af20",
        "IPY_MODEL_33de71c6c73643fa99a3bb82f8b115c6"
       ],
       "layout": "IPY_MODEL_f20972ea91714993870afcc523f5093c",
       "tabbable": null,
       "tooltip": null
      }
     },
     "96e0f9a8461f47c48525a8bda31ec8de": {
      "model_module": "@jupyter-widgets/controls",
      "model_module_version": "2.0.0",
      "model_name": "HTMLModel",
      "state": {
       "_dom_classes": [],
       "_model_module": "@jupyter-widgets/controls",
       "_model_module_version": "2.0.0",
       "_model_name": "HTMLModel",
       "_view_count": null,
       "_view_module": "@jupyter-widgets/controls",
       "_view_module_version": "2.0.0",
       "_view_name": "HTMLView",
       "description": "",
       "description_allow_html": false,
       "layout": "IPY_MODEL_1514f14458be43748526dbcbf057beba",
       "placeholder": "​",
       "style": "IPY_MODEL_1af9cd18db2341baba33341c2e7c7374",
       "tabbable": null,
       "tooltip": null,
       "value": "100%"
      }
     },
     "a3abcf9755034f8f91890cc59dec5ffd": {
      "model_module": "@jupyter-widgets/controls",
      "model_module_version": "2.0.0",
      "model_name": "HTMLStyleModel",
      "state": {
       "_model_module": "@jupyter-widgets/controls",
       "_model_module_version": "2.0.0",
       "_model_name": "HTMLStyleModel",
       "_view_count": null,
       "_view_module": "@jupyter-widgets/base",
       "_view_module_version": "2.0.0",
       "_view_name": "StyleView",
       "background": null,
       "description_width": "",
       "font_size": null,
       "text_color": null
      }
     },
     "c47db4c13013494f8d73e59b6308e2e2": {
      "model_module": "@jupyter-widgets/controls",
      "model_module_version": "2.0.0",
      "model_name": "ProgressStyleModel",
      "state": {
       "_model_module": "@jupyter-widgets/controls",
       "_model_module_version": "2.0.0",
       "_model_name": "ProgressStyleModel",
       "_view_count": null,
       "_view_module": "@jupyter-widgets/base",
       "_view_module_version": "2.0.0",
       "_view_name": "StyleView",
       "bar_color": null,
       "description_width": ""
      }
     },
     "ea832c8230f843d8b7765653b131af20": {
      "model_module": "@jupyter-widgets/controls",
      "model_module_version": "2.0.0",
      "model_name": "FloatProgressModel",
      "state": {
       "_dom_classes": [],
       "_model_module": "@jupyter-widgets/controls",
       "_model_module_version": "2.0.0",
       "_model_name": "FloatProgressModel",
       "_view_count": null,
       "_view_module": "@jupyter-widgets/controls",
       "_view_module_version": "2.0.0",
       "_view_name": "ProgressView",
       "bar_style": "success",
       "description": "",
       "description_allow_html": false,
       "layout": "IPY_MODEL_2c5cf6b47c5744098d2a309647c0b761",
       "max": 5.0,
       "min": 0.0,
       "orientation": "horizontal",
       "style": "IPY_MODEL_c47db4c13013494f8d73e59b6308e2e2",
       "tabbable": null,
       "tooltip": null,
       "value": 5.0
      }
     },
     "f20972ea91714993870afcc523f5093c": {
      "model_module": "@jupyter-widgets/base",
      "model_module_version": "2.0.0",
      "model_name": "LayoutModel",
      "state": {
       "_model_module": "@jupyter-widgets/base",
       "_model_module_version": "2.0.0",
       "_model_name": "LayoutModel",
       "_view_count": null,
       "_view_module": "@jupyter-widgets/base",
       "_view_module_version": "2.0.0",
       "_view_name": "LayoutView",
       "align_content": null,
       "align_items": null,
       "align_self": null,
       "border_bottom": null,
       "border_left": null,
       "border_right": null,
       "border_top": null,
       "bottom": null,
       "display": null,
       "flex": null,
       "flex_flow": null,
       "grid_area": null,
       "grid_auto_columns": null,
       "grid_auto_flow": null,
       "grid_auto_rows": null,
       "grid_column": null,
       "grid_gap": null,
       "grid_row": null,
       "grid_template_areas": null,
       "grid_template_columns": null,
       "grid_template_rows": null,
       "height": null,
       "justify_content": null,
       "justify_items": null,
       "left": null,
       "margin": null,
       "max_height": null,
       "max_width": null,
       "min_height": null,
       "min_width": null,
       "object_fit": null,
       "object_position": null,
       "order": null,
       "overflow": null,
       "padding": null,
       "right": null,
       "top": null,
       "visibility": null,
       "width": null
      }
     }
    },
    "version_major": 2,
    "version_minor": 0
   }
  }
 },
 "nbformat": 4,
 "nbformat_minor": 5
}