{
 "cells": [
  {
   "cell_type": "markdown",
   "id": "92bcb855",
   "metadata": {
    "papermill": {
     "duration": 0.003857,
     "end_time": "2024-06-03T04:10:50.840206",
     "exception": false,
     "start_time": "2024-06-03T04:10:50.836349",
     "status": "completed"
    },
    "tags": []
   },
   "source": [
    "# MPIA Arxiv on Deck 2\n",
    "\n",
    "Contains the steps to produce the paper extractions."
   ]
  },
  {
   "cell_type": "code",
   "execution_count": 1,
   "id": "3a0d6e11",
   "metadata": {
    "execution": {
     "iopub.execute_input": "2024-06-03T04:10:50.847260Z",
     "iopub.status.busy": "2024-06-03T04:10:50.846856Z",
     "iopub.status.idle": "2024-06-03T04:10:51.174616Z",
     "shell.execute_reply": "2024-06-03T04:10:51.173996Z"
    },
    "papermill": {
     "duration": 0.333036,
     "end_time": "2024-06-03T04:10:51.176282",
     "exception": false,
     "start_time": "2024-06-03T04:10:50.843246",
     "status": "completed"
    },
    "tags": []
   },
   "outputs": [],
   "source": [
    "# Imports\n",
    "import os\n",
    "from IPython.display import Markdown, display\n",
    "from tqdm.notebook import tqdm\n",
    "import warnings\n",
    "from PIL import Image \n",
    "\n",
    "# requires arxiv_on_deck_2\n",
    "\n",
    "from arxiv_on_deck_2.arxiv2 import (get_new_papers, \n",
    "                                    get_paper_from_identifier,\n",
    "                                    retrieve_document_source, \n",
    "                                    get_markdown_badge)\n",
    "from arxiv_on_deck_2 import (latex,\n",
    "                             latex_bib,\n",
    "                             mpia,\n",
    "                             highlight_authors_in_list)\n",
    "\n",
    "# Sometimes images are really big\n",
    "Image.MAX_IMAGE_PIXELS = 1000000000 "
   ]
  },
  {
   "cell_type": "code",
   "execution_count": 2,
   "id": "22aa9d44",
   "metadata": {
    "execution": {
     "iopub.execute_input": "2024-06-03T04:10:51.183572Z",
     "iopub.status.busy": "2024-06-03T04:10:51.183120Z",
     "iopub.status.idle": "2024-06-03T04:10:51.188028Z",
     "shell.execute_reply": "2024-06-03T04:10:51.187484Z"
    },
    "papermill": {
     "duration": 0.009901,
     "end_time": "2024-06-03T04:10:51.189349",
     "exception": false,
     "start_time": "2024-06-03T04:10:51.179448",
     "status": "completed"
    },
    "tags": []
   },
   "outputs": [],
   "source": [
    "# Some useful definitions.\n",
    "\n",
    "class AffiliationWarning(UserWarning):\n",
    "    pass\n",
    "\n",
    "class AffiliationError(RuntimeError):\n",
    "    pass\n",
    "\n",
    "def validation(source: str):\n",
    "    \"\"\"Raises error paper during parsing of source file\n",
    "    \n",
    "    Allows checks before parsing TeX code.\n",
    "    \n",
    "    Raises AffiliationWarning\n",
    "    \"\"\"\n",
    "    check = mpia.affiliation_verifications(source, verbose=True)\n",
    "    if check is not True:\n",
    "        raise AffiliationError(\"mpia.affiliation_verifications: \" + check)\n",
    "\n",
    "        \n",
    "warnings.simplefilter('always', AffiliationWarning)\n",
    "\n",
    "\n",
    "def get_markdown_qrcode(paper_id: str):\n",
    "    \"\"\" Generate a qrcode to the arxiv page using qrserver.com\n",
    "    \n",
    "    :param paper: Arxiv paper\n",
    "    :returns: markdown text\n",
    "    \"\"\"\n",
    "    url = r\"https://api.qrserver.com/v1/create-qr-code/?size=100x100&data=\"\n",
    "    txt = f\"\"\"<img src={url}\"https://arxiv.org/abs/{paper_id}\">\"\"\"\n",
    "    txt = '<div id=\"qrcode\">' + txt + '</div>'\n",
    "    return txt"
   ]
  },
  {
   "cell_type": "markdown",
   "id": "14bd6310",
   "metadata": {
    "papermill": {
     "duration": 0.002824,
     "end_time": "2024-06-03T04:10:51.195119",
     "exception": false,
     "start_time": "2024-06-03T04:10:51.192295",
     "status": "completed"
    },
    "tags": []
   },
   "source": [
    "## get list of arxiv paper candidates\n",
    "\n",
    "We use the MPIA mitarbeiter list webpage from mpia.de to get author names\n",
    "We then get all new papers from Arxiv and match authors"
   ]
  },
  {
   "cell_type": "code",
   "execution_count": 3,
   "id": "7ea813a8",
   "metadata": {
    "execution": {
     "iopub.execute_input": "2024-06-03T04:10:51.201940Z",
     "iopub.status.busy": "2024-06-03T04:10:51.201560Z",
     "iopub.status.idle": "2024-06-03T04:11:07.940142Z",
     "shell.execute_reply": "2024-06-03T04:11:07.939529Z"
    },
    "papermill": {
     "duration": 16.743736,
     "end_time": "2024-06-03T04:11:07.941741",
     "exception": false,
     "start_time": "2024-06-03T04:10:51.198005",
     "status": "completed"
    },
    "tags": []
   },
   "outputs": [],
   "source": [
    "# deal with the author list and edge cases of people that cannot be consistent on their name  \n",
    "\n",
    "def filter_non_scientists(name: str) -> bool:\n",
    "    \"\"\" Loose filter on expected authorships\n",
    "\n",
    "    removing IT, administration, technical staff\n",
    "    :param name: name\n",
    "    :returns: False if name is not a scientist\n",
    "    \"\"\"\n",
    "    remove_list = ['Wolf', 'Licht', 'Binroth', 'Witzel', 'Jordan',\n",
    "                   'Zähringer', 'Scheerer', 'Hoffmann', 'Düe',\n",
    "                   'Hellmich', 'Enkler-Scharpegge', 'Witte-Nguy',\n",
    "                   'Dehen', 'Beckmann', 'Jager', 'Jäger'\n",
    "                  ]\n",
    "\n",
    "    for k in remove_list:\n",
    "        if k in name:\n",
    "            return False\n",
    "    return True\n",
    "\n",
    "def add_author_to_list(author_list: list) -> list:\n",
    "    \"\"\" Add author to list if not already in list\n",
    "    \n",
    "    :param author: author name\n",
    "    :param author_list: list of authors\n",
    "    :returns: updated list of authors\n",
    "    \"\"\"\n",
    "    add_list = ['T. Henning']\n",
    "\n",
    "    for author in add_list:\n",
    "        if author not in author_list:\n",
    "            author_list.append(author)\n",
    "    return author_list\n",
    "\n",
    "# get list from MPIA website\n",
    "# filter for non-scientists (mpia.get_mpia_mitarbeiter_list() does some filtering)\n",
    "mpia_authors = [k[1] for k in mpia.get_mpia_mitarbeiter_list() if filter_non_scientists(k[1])]\n",
    "# add some missing author because of inconsistencies in their MPIA name and author name on papers\n",
    "mpia_authors = add_author_to_list(mpia_authors)"
   ]
  },
  {
   "cell_type": "code",
   "execution_count": 4,
   "id": "2645e73a",
   "metadata": {
    "execution": {
     "iopub.execute_input": "2024-06-03T04:11:07.949217Z",
     "iopub.status.busy": "2024-06-03T04:11:07.948826Z",
     "iopub.status.idle": "2024-06-03T04:11:08.471965Z",
     "shell.execute_reply": "2024-06-03T04:11:08.471256Z"
    },
    "papermill": {
     "duration": 0.528262,
     "end_time": "2024-06-03T04:11:08.473336",
     "exception": false,
     "start_time": "2024-06-03T04:11:07.945074",
     "status": "completed"
    },
    "tags": []
   },
   "outputs": [
    {
     "name": "stdout",
     "output_type": "stream",
     "text": [
      "R. v. Boekel  ->  R. v. Boekel  |  ['R. v. Boekel']\n",
      "L. Kreidberg  ->  L. Kreidberg  |  ['L. Kreidberg']\n",
      "E. Bañados  ->  E. Bañados  |  ['E. Bañados']\n",
      "A. d. Graaff  ->  A. D. Graaff  |  ['A. D. Graaff']\n",
      "M. Habouzit  ->  M. Habouzit  |  ['M. Habouzit']\n",
      "Arxiv has 47 new papers today\n",
      "          3 with possible author matches\n"
     ]
    }
   ],
   "source": [
    "new_papers = get_new_papers()\n",
    "# add manual references\n",
    "add_paper_refs = []\n",
    "new_papers.extend([get_paper_from_identifier(k) for k in add_paper_refs])\n",
    "\n",
    "candidates = []\n",
    "for paperk in new_papers:\n",
    "    # Check author list with their initials\n",
    "    normed_author_list = [mpia.get_initials(k) for k in paperk['authors']]\n",
    "    hl_authors = highlight_authors_in_list(normed_author_list, mpia_authors, verbose=True)\n",
    "    matches = [(hl, orig) for hl, orig in zip(hl_authors, paperk['authors']) if 'mark' in hl]\n",
    "    paperk['authors'] = hl_authors\n",
    "    if matches:\n",
    "        # only select paper if an author matched our list\n",
    "        candidates.append(paperk)\n",
    "print(\"\"\"Arxiv has {0:,d} new papers today\"\"\".format(len(new_papers)))        \n",
    "print(\"\"\"          {0:,d} with possible author matches\"\"\".format(len(candidates)))"
   ]
  },
  {
   "cell_type": "markdown",
   "id": "3543b34a",
   "metadata": {
    "papermill": {
     "duration": 0.003779,
     "end_time": "2024-06-03T04:11:08.480447",
     "exception": false,
     "start_time": "2024-06-03T04:11:08.476668",
     "status": "completed"
    },
    "tags": []
   },
   "source": [
    "# Parse sources and generate relevant outputs\n",
    "\n",
    "From the candidates, we do the following steps:\n",
    "* get their tarball from ArXiv (and extract data)\n",
    "* find the main .tex file: find one with \\documentclass{...} (sometimes it's non trivial)\n",
    "* Check affiliations with :func:`validation`, which uses :func:`mpia.affiliation_verifications`\n",
    "* If passing the affiliations: we parse the .tex source\n",
    "   * inject sub-documents into the main (flatten the main document)\n",
    "   * parse structure, extract information (title, abstract, authors, figures...)\n",
    "   * handles `\\graphicspath` if provided\n",
    "* Generate the .md document."
   ]
  },
  {
   "cell_type": "code",
   "execution_count": 5,
   "id": "9576b79e",
   "metadata": {
    "execution": {
     "iopub.execute_input": "2024-06-03T04:11:08.487622Z",
     "iopub.status.busy": "2024-06-03T04:11:08.487241Z",
     "iopub.status.idle": "2024-06-03T04:11:22.344007Z",
     "shell.execute_reply": "2024-06-03T04:11:22.343206Z"
    },
    "papermill": {
     "duration": 13.862606,
     "end_time": "2024-06-03T04:11:22.346046",
     "exception": false,
     "start_time": "2024-06-03T04:11:08.483440",
     "status": "completed"
    },
    "scrolled": false,
    "tags": []
   },
   "outputs": [
    {
     "data": {
      "application/vnd.jupyter.widget-view+json": {
       "model_id": "05e7369f86f8404a834aaac62117842a",
       "version_major": 2,
       "version_minor": 0
      },
      "text/plain": [
       "  0%|          | 0/3 [00:00<?, ?it/s]"
      ]
     },
     "metadata": {},
     "output_type": "display_data"
    },
    {
     "name": "stdout",
     "output_type": "stream",
     "text": [
      "Retrieving document from  https://arxiv.org/e-print/2405.20440\n"
     ]
    },
    {
     "name": "stdout",
     "output_type": "stream",
     "text": [
      "extracting tarball to tmp_2405.20440..."
     ]
    },
    {
     "name": "stdout",
     "output_type": "stream",
     "text": [
      " done.\n",
      "Retrieving document from  https://arxiv.org/e-print/2405.20689\n",
      "extracting tarball to tmp_2405.20689..."
     ]
    },
    {
     "name": "stdout",
     "output_type": "stream",
     "text": [
      " done.\n",
      "Retrieving document from  https://arxiv.org/e-print/2405.21054\n"
     ]
    },
    {
     "name": "stdout",
     "output_type": "stream",
     "text": [
      "extracting tarball to tmp_2405.21054..."
     ]
    },
    {
     "name": "stdout",
     "output_type": "stream",
     "text": [
      " done.\n"
     ]
    },
    {
     "name": "stdout",
     "output_type": "stream",
     "text": [
      "Found 174 bibliographic references in tmp_2405.21054/main_final.bbl.\n",
      "syntax error in line 11: '=' expected\n"
     ]
    }
   ],
   "source": [
    "documents = []\n",
    "failed = []\n",
    "for paper in tqdm(candidates):\n",
    "    # debug crap\n",
    "    paper['identifier'] = paper['identifier'].lower().replace('arxiv:', '').replace(r'\\n', '').strip()\n",
    "    paper_id = paper['identifier']\n",
    "    \n",
    "    folder = f'tmp_{paper_id}'\n",
    "\n",
    "    try:\n",
    "        if not os.path.isdir(folder):\n",
    "            folder = retrieve_document_source(f\"{paper_id}\", f'tmp_{paper_id}')\n",
    "        \n",
    "        try:\n",
    "            doc = latex.LatexDocument(folder, validation=validation)    \n",
    "        except AffiliationError as affilerror:\n",
    "            msg = f\"ArXiv:{paper_id:s} is not an MPIA paper... \" + str(affilerror)\n",
    "            failed.append((paper, \"affiliation error: \" + str(affilerror) ))\n",
    "            continue\n",
    "        \n",
    "        # Hack because sometimes author parsing does not work well\n",
    "        if (len(doc.authors) != len(paper['authors'])):\n",
    "            doc._authors = paper['authors']\n",
    "        else:\n",
    "            # highlight authors (FIXME: doc.highlight_authors)\n",
    "            # done on arxiv paper already\n",
    "            doc._authors = highlight_authors_in_list(\n",
    "                [mpia.get_initials(k) for k in doc.authors], \n",
    "                mpia_authors, verbose=True)\n",
    "        if (doc.abstract) in (None, ''):\n",
    "            doc._abstract = paper['abstract']\n",
    "            \n",
    "        doc.comment = (get_markdown_badge(paper_id) + \n",
    "                       \"<mark>Appeared on: \" + paper['date'] + \"</mark> - \")\n",
    "        if paper['comments']:\n",
    "            doc.comment += \" _\" + paper['comments'] + \"_\"\n",
    "        \n",
    "        full_md = doc.generate_markdown_text()\n",
    "        \n",
    "        full_md += get_markdown_qrcode(paper_id)\n",
    "        \n",
    "        # replace citations\n",
    "        try:\n",
    "            bibdata = latex_bib.LatexBib.from_doc(doc)\n",
    "            full_md = latex_bib.replace_citations(full_md, bibdata)\n",
    "        except Exception as e:\n",
    "            print(e)\n",
    "        \n",
    "        documents.append((paper_id, full_md))\n",
    "    except Exception as e:\n",
    "        warnings.warn(latex.LatexWarning(f\"{paper_id:s} did not run properly\\n\" +\n",
    "                                         str(e)\n",
    "                                        ))\n",
    "        failed.append((paper, \"latex error \" + str(e)))"
   ]
  },
  {
   "cell_type": "markdown",
   "id": "2505a25c",
   "metadata": {
    "papermill": {
     "duration": 0.003485,
     "end_time": "2024-06-03T04:11:22.353572",
     "exception": false,
     "start_time": "2024-06-03T04:11:22.350087",
     "status": "completed"
    },
    "tags": []
   },
   "source": [
    "### Export the logs\n",
    "\n",
    "Throughout, we also keep track of the logs per paper. see `logs-{today date}.md` "
   ]
  },
  {
   "cell_type": "code",
   "execution_count": 6,
   "id": "d733828a",
   "metadata": {
    "execution": {
     "iopub.execute_input": "2024-06-03T04:11:22.361707Z",
     "iopub.status.busy": "2024-06-03T04:11:22.361366Z",
     "iopub.status.idle": "2024-06-03T04:11:22.375102Z",
     "shell.execute_reply": "2024-06-03T04:11:22.374524Z"
    },
    "papermill": {
     "duration": 0.019403,
     "end_time": "2024-06-03T04:11:22.376431",
     "exception": false,
     "start_time": "2024-06-03T04:11:22.357028",
     "status": "completed"
    },
    "scrolled": false,
    "tags": []
   },
   "outputs": [
    {
     "data": {
      "text/markdown": [
       "## Successful papers"
      ],
      "text/plain": [
       "<IPython.core.display.Markdown object>"
      ]
     },
     "metadata": {},
     "output_type": "display_data"
    },
    {
     "data": {
      "text/markdown": [
       "\n",
       "|||\n",
       "|---:|:---|\n",
       "| [![arXiv](https://img.shields.io/badge/arXiv-2405.21054-b31b1b.svg)](https://arxiv.org/abs/2405.21054) | **The First Billion Years, According to JWST**  |\n",
       "|| A. Adamo, et al. -- incl., <mark>E. Bañados</mark>, <mark>A. d. Graaff</mark>, <mark>M. Habouzit</mark> |\n",
       "|*Appeared on*| *2024-06-03*|\n",
       "|*Comments*| *review article written by the attendees of the 2024 ISSI breakthrough workshop \"The first billion year of the Universe\", submitted. Comments welcome*|\n",
       "|**Abstract**|            With stunning clarity, JWST has revealed the Universe's first billion years. The scientific community is analyzing a wealth of JWST imaging and spectroscopic data from that era, and is in the process of rewriting the astronomy textbooks. Here, 1.5 years into the JWST science mission, we provide a snapshot of the great progress made towards understanding the initial chapters of our cosmic history. We highlight discoveries and breakthroughs, topics and issues that are not yet understood, and questions that will be addressed in the coming years, as JWST continues its revolutionary observations of the Early Universe. While this compendium is written by a small number of authors, invited to ISSI Bern in March 2024 as part of the 2024 ISSI Breakthrough Workshop, we acknowledge the work of a large community that is advancing our collective understanding of the evolution of the Early Universe.         |"
      ],
      "text/plain": [
       "[2405.21054] The First Billion Years, According to JWST\n",
       "\tA. Adamo, et al. -- incl., <mark>E. Bañados</mark>, <mark>A. d. Graaff</mark>, <mark>M. Habouzit</mark>"
      ]
     },
     "metadata": {},
     "output_type": "display_data"
    },
    {
     "data": {
      "text/markdown": [
       "## Failed papers"
      ],
      "text/plain": [
       "<IPython.core.display.Markdown object>"
      ]
     },
     "metadata": {},
     "output_type": "display_data"
    },
    {
     "data": {
      "text/markdown": [
       "\n",
       "|||\n",
       "|---:|:---|\n",
       "| [![arXiv](https://img.shields.io/badge/arXiv-2405.20440-b31b1b.svg)](https://arxiv.org/abs/2405.20440) | **Characterization of a Longwave HgCdTe GeoSnap Detector**  |\n",
       "|| R. Bowens, et al. -- incl., <mark>R. v. Boekel</mark> |\n",
       "|*Appeared on*| *2024-06-03*|\n",
       "|*Comments*| *16 pages, 9 figures, Submitted to SPIE Astronomical Telescopes + Instrumentation 2024*|\n",
       "|**Abstract**|            New longwave HgCdTe detectors are critical to upcoming plans for ground-based infrared astronomy. These detectors, with fast-readouts and deep well-depths, will be key components of extremely large telescope instruments and therefore must be well understood prior to deployment. We analyze one such HgCdTe detector, a Teledyne Imaging Sensors GeoSnap, at the University of Michigan. We find that the properties of the GeoSnap are consistent with expectations from analysis of past devices. The GeoSnap has a well-depth of 2.75 million electrons per pixel, a read noise of 360 e-/pix, and a dark current of 330,000 e-/s/pix at 45 K. The device experiences 1/f noise which can be mitigated relative to half-well shot noise with modest frequency image differencing. The GeoSnap's quantum efficiency is calculated to be 79.7 +- 8.3 % at 10.6 microns. Although the GeoSnap's bad pixel fraction, on the order of 3%, is consistent with other GeoSnap devices, close to a third of the bad pixels in this detector are clustered in a series of 31 \"leopard\" spots spread across the detector plane. We report these properties and identify additional analyses that will be performed on future GeoSnap detectors.         |\n",
       "|<p style=\"color:green\"> **ERROR** </p>| <p style=\"color:green\">affiliation error: mpia.affiliation_verifications: '69117' keyword not found.</p> |"
      ],
      "text/plain": [
       "<IPython.core.display.Markdown object>"
      ]
     },
     "metadata": {},
     "output_type": "display_data"
    },
    {
     "data": {
      "text/markdown": [
       "\n",
       "|||\n",
       "|---:|:---|\n",
       "| [![arXiv](https://img.shields.io/badge/arXiv-2405.20689-b31b1b.svg)](https://arxiv.org/abs/2405.20689) | **Identifying and Fitting Eclipse Maps of Exoplanets with Cross-Validation**  |\n",
       "|| M. Hammond, et al. -- incl., <mark>L. Kreidberg</mark> |\n",
       "|*Appeared on*| *2024-06-03*|\n",
       "|*Comments*| *Submitted to MNRAS*|\n",
       "|**Abstract**|            Eclipse mapping uses the shape of the eclipse of an exoplanet to measure its two-dimensional structure. Light curves are mostly composed of longitudinal information, with the latitudinal information only contained in the brief ingress and egress of the eclipse. This imbalance can lead to a spuriously confident map, where the longitudinal structure is constrained by out-of-eclipse data and the latitudinal structure is wrongly determined by the priors on the map. We present a new method to address this issue. The method tests for the presence of an eclipse mapping signal by using k-fold cross-validation to compare the performance of a simple mapping model to the null hypothesis of a uniform disk. If a signal is found, the method fits a map with more degrees of freedom, optimising its information content. The information content is varied by penalising the model likelihood by a factor proportional to the spatial entropy of the map, optimised by cross-validation. We demonstrate this method for simulated datasets then apply it to three observational datasets. The method identifies an eclipse mapping signal for JWST MIRI/LRS observations of WASP-43b but does not identify a signal for JWST NIRISS/SOSS observations of WASP-18b or Spitzer Space Telescope observations of HD 189733b. It is possible to fit eclipse maps to these datasets, but we suggest that these maps are overfitting the eclipse shape. We fit a new map with more spatial freedom to the WASP-43b dataset and show a flatter east-west structure than previously derived.         |\n",
       "|<p style=\"color:green\"> **ERROR** </p>| <p style=\"color:green\">affiliation error: mpia.affiliation_verifications: '69117' keyword not found.</p> |"
      ],
      "text/plain": [
       "<IPython.core.display.Markdown object>"
      ]
     },
     "metadata": {},
     "output_type": "display_data"
    }
   ],
   "source": [
    "import datetime\n",
    "today = str(datetime.date.today())\n",
    "logfile = f\"_build/html/logs/log-{today}.md\"\n",
    "\n",
    "\n",
    "with open(logfile, 'w') as logs:\n",
    "    # Success\n",
    "    logs.write(f'# Arxiv on Deck 2: Logs - {today}\\n\\n')\n",
    "    logs.write(\"\"\"* Arxiv had {0:,d} new papers\\n\"\"\".format(len(new_papers)))\n",
    "    logs.write(\"\"\"    * {0:,d} with possible author matches\\n\\n\"\"\".format(len(candidates)))\n",
    "    logs.write(\"## Sucessful papers\\n\\n\")\n",
    "    display(Markdown(\"## Successful papers\"))\n",
    "    success = [k[0] for k in documents]\n",
    "    for candid in candidates:\n",
    "        if candid['identifier'].split(':')[-1] in success:\n",
    "            display(candid)\n",
    "            logs.write(candid.generate_markdown_text() + '\\n\\n')\n",
    "\n",
    "    ## failed\n",
    "    logs.write(\"## Failed papers\\n\\n\")\n",
    "    display(Markdown(\"## Failed papers\"))\n",
    "    failed = sorted(failed, key=lambda x: x[1])\n",
    "    current_reason = \"\"\n",
    "    for paper, reason in failed:\n",
    "        if 'affiliation' in reason:\n",
    "            color = 'green'\n",
    "        else:\n",
    "            color = 'red'\n",
    "        data = Markdown(\n",
    "                paper.generate_markdown_text() + \n",
    "                f'\\n|<p style=\"color:{color:s}\"> **ERROR** </p>| <p style=\"color:{color:s}\">{reason:s}</p> |'\n",
    "               )\n",
    "        if reason != current_reason:\n",
    "            logs.write(f'### {reason:s} \\n\\n')\n",
    "            current_reason = reason\n",
    "        logs.write(data.data + '\\n\\n')\n",
    "        \n",
    "        # only display here the important errors (all in logs)\n",
    "        # if color in ('red',):\n",
    "        display(data)"
   ]
  },
  {
   "cell_type": "markdown",
   "id": "472d20ee",
   "metadata": {
    "papermill": {
     "duration": 0.003888,
     "end_time": "2024-06-03T04:11:22.384398",
     "exception": false,
     "start_time": "2024-06-03T04:11:22.380510",
     "status": "completed"
    },
    "tags": []
   },
   "source": [
    "## Export documents\n",
    "\n",
    "We now write the .md files and export relevant images"
   ]
  },
  {
   "cell_type": "code",
   "execution_count": 7,
   "id": "d426aed9",
   "metadata": {
    "execution": {
     "iopub.execute_input": "2024-06-03T04:11:22.393344Z",
     "iopub.status.busy": "2024-06-03T04:11:22.392969Z",
     "iopub.status.idle": "2024-06-03T04:11:22.399130Z",
     "shell.execute_reply": "2024-06-03T04:11:22.398563Z"
    },
    "papermill": {
     "duration": 0.012091,
     "end_time": "2024-06-03T04:11:22.400494",
     "exception": false,
     "start_time": "2024-06-03T04:11:22.388403",
     "status": "completed"
    },
    "tags": []
   },
   "outputs": [],
   "source": [
    "def export_markdown_summary(md: str, md_fname:str, directory: str):\n",
    "    \"\"\"Export MD document and associated relevant images\"\"\"\n",
    "    import os\n",
    "    import shutil\n",
    "    import re\n",
    "\n",
    "    if (os.path.exists(directory) and not os.path.isdir(directory)):\n",
    "        raise RuntimeError(f\"a non-directory file exists with name {directory:s}\")\n",
    "\n",
    "    if (not os.path.exists(directory)):\n",
    "        print(f\"creating directory {directory:s}\")\n",
    "        os.mkdir(directory)\n",
    "\n",
    "    fig_fnames = (re.compile(r'\\[Fig.*\\]\\((.*)\\)').findall(md) + \n",
    "                  re.compile(r'\\<img src=\"([^>\\s]*)\"[^>]*/>').findall(md))\n",
    "    for fname in fig_fnames:\n",
    "        if 'http' in fname:\n",
    "            # No need to copy online figures\n",
    "            continue\n",
    "        destdir = os.path.join(directory, os.path.dirname(fname))\n",
    "        destfname = os.path.join(destdir, os.path.basename(fname))\n",
    "        try:\n",
    "            os.makedirs(destdir)\n",
    "        except FileExistsError:\n",
    "            pass\n",
    "        shutil.copy(fname, destfname)\n",
    "    with open(os.path.join(directory, md_fname), 'w') as fout:\n",
    "        fout.write(md)\n",
    "    print(\"exported in \", os.path.join(directory, md_fname))\n",
    "    [print(\"    + \" + os.path.join(directory,fk)) for fk in fig_fnames]"
   ]
  },
  {
   "cell_type": "code",
   "execution_count": 8,
   "id": "014d04a4",
   "metadata": {
    "execution": {
     "iopub.execute_input": "2024-06-03T04:11:22.410373Z",
     "iopub.status.busy": "2024-06-03T04:11:22.409961Z",
     "iopub.status.idle": "2024-06-03T04:11:22.422300Z",
     "shell.execute_reply": "2024-06-03T04:11:22.421737Z"
    },
    "papermill": {
     "duration": 0.019131,
     "end_time": "2024-06-03T04:11:22.423649",
     "exception": false,
     "start_time": "2024-06-03T04:11:22.404518",
     "status": "completed"
    },
    "tags": []
   },
   "outputs": [
    {
     "name": "stdout",
     "output_type": "stream",
     "text": [
      "exported in  _build/html/2405.21054.md\n",
      "    + _build/html/tmp_2405.21054/./RedshiftCompilation-v10.png\n",
      "    + _build/html/tmp_2405.21054/./JWST-Paper-3dBubbles-v5.png\n",
      "    + _build/html/tmp_2405.21054/./BeginningOfUniverse-Draft4.png\n"
     ]
    }
   ],
   "source": [
    "for paper_id, md in documents:\n",
    "    export_markdown_summary(md, f\"{paper_id:s}.md\", '_build/html/')"
   ]
  },
  {
   "cell_type": "markdown",
   "id": "f087a0a7",
   "metadata": {
    "papermill": {
     "duration": 0.003989,
     "end_time": "2024-06-03T04:11:22.431746",
     "exception": false,
     "start_time": "2024-06-03T04:11:22.427757",
     "status": "completed"
    },
    "tags": []
   },
   "source": [
    "## Display the papers\n",
    "\n",
    "Not necessary but allows for a quick check."
   ]
  },
  {
   "cell_type": "code",
   "execution_count": 9,
   "id": "fd25f625",
   "metadata": {
    "execution": {
     "iopub.execute_input": "2024-06-03T04:11:22.440797Z",
     "iopub.status.busy": "2024-06-03T04:11:22.440413Z",
     "iopub.status.idle": "2024-06-03T04:11:22.444933Z",
     "shell.execute_reply": "2024-06-03T04:11:22.444329Z"
    },
    "papermill": {
     "duration": 0.010445,
     "end_time": "2024-06-03T04:11:22.446243",
     "exception": false,
     "start_time": "2024-06-03T04:11:22.435798",
     "status": "completed"
    },
    "scrolled": false,
    "tags": []
   },
   "outputs": [
    {
     "data": {
      "text/markdown": [
       "<div class=\"macros\" style=\"visibility:hidden;\">\n",
       "$\\newcommand{\\ensuremath}{}$\n",
       "$\\newcommand{\\xspace}{}$\n",
       "$\\newcommand{\\object}[1]{\\texttt{#1}}$\n",
       "$\\newcommand{\\farcs}{{.}''}$\n",
       "$\\newcommand{\\farcm}{{.}'}$\n",
       "$\\newcommand{\\arcsec}{''}$\n",
       "$\\newcommand{\\arcmin}{'}$\n",
       "$\\newcommand{\\ion}[2]{#1#2}$\n",
       "$\\newcommand{\\textsc}[1]{\\textrm{#1}}$\n",
       "$\\newcommand{\\hl}[1]{\\textrm{#1}}$\n",
       "$\\newcommand{\\footnote}[1]{}$\n",
       "$\\newcommand{\\grizli}{\\textsc{grizli}}$\n",
       "$\\newcommand{\\JWST}{\\textit{JWST}}$\n",
       "$\\newcommand{\\red}[1]{{\\color{red} #1}}$\n",
       "$\\newcommand{\\todo}[1]{\\red{#1}}$\n",
       "$\\newcommand{\\mh}[1]{\\textcolor{teal}{[MH: #1]}}$\n",
       "$\\newcommand{\\msun}{M_{\\odot} }$\n",
       "$\\newcommand{\\Zsun}{\\ensuremath{Z_{\\odot}}}$\n",
       "$\\newcommand{\\zphot}{\\ensuremath{z_{\\rm phot}}}$\n",
       "$\\newcommand{\\fesc}{\\ensuremath{f_{esc}}}$\n",
       "$\\newcommand{\\Ha}{H\\alpha}$\n",
       "$\\newcommand{\\Hb}{H\\beta}$\n",
       "$\\newcommand{\\Hd}{H\\delta}$\n",
       "$\\newcommand{\\Hg}{H\\gamma}$\n",
       "$\\newcommand{\\HI}{H {\\sc i}}$\n",
       "$\\newcommand{\\HeII}{He {\\sc ii}}$\n",
       "$\\newcommand{\\HeIIw}{\\HeII \\lambda1640}$\n",
       "$\\newcommand{\\CIV}{C {\\sc iv}}$\n",
       "$\\newcommand{\\CIVw}{\\CIV \\lambda1548,1550}$\n",
       "$\\newcommand{\\OIIIuv}{O {\\sc iii}]}$\n",
       "$\\newcommand{\\OIIIuvw}{\\OIIIuv \\lambda1661,1666}$\n",
       "$\\newcommand{\\NIIuv}{N {\\sc ii}]}$\n",
       "$\\newcommand{\\NIIuvw}{\\NIIuv \\lambda1750}$\n",
       "$\\newcommand{\\CIII}{C {\\sc iii}]}$\n",
       "$\\newcommand{\\CIIIw}{\\CIII \\lambda1908}$\n",
       "$\\newcommand{\\OII}{[O {\\sc ii}]}$\n",
       "$\\newcommand{\\OIIw}{\\OII \\lambda\\lambda3726,28}$\n",
       "$\\newcommand{\\NeIII}{[Ne {\\sc iii}]}$\n",
       "$\\newcommand{\\NeIIIw}{\\NeIII \\lambda3869}$\n",
       "$\\newcommand{\\logOH}{12+log[O/H]}$</div>\n",
       "\n",
       "\n",
       "\n",
       "<div id=\"title\">\n",
       "\n",
       "# The First Billion Years, According to JWST\n",
       "\n",
       "</div>\n",
       "<div id=\"comments\">\n",
       "\n",
       "[![arXiv](https://img.shields.io/badge/arXiv-2405.21054-b31b1b.svg)](https://arxiv.org/abs/2405.21054)<mark>Appeared on: 2024-06-03</mark> -  _review article written by the attendees of the 2024 ISSI breakthrough workshop \"The first billion year of the Universe\", submitted. Comments welcome_\n",
       "\n",
       "</div>\n",
       "<div id=\"authors\">\n",
       "\n",
       "A. Adamo, et al. -- incl., <mark>E. Bañados</mark>, <mark>A. d. Graaff</mark>, <mark>M. Habouzit</mark>\n",
       "\n",
       "</div>\n",
       "<div id=\"abstract\">\n",
       "\n",
       "**Abstract:** With stunning clarity, $\\JWST$ has revealed theUniverse's first billion years. The scientific community is analyzing a wealth of $\\JWST$ imaging and spectroscopic data from that era, and is in the process of rewriting the astronomy textbooks. Here, 1.5 years into the $\\JWST$ science mission, we provide a snapshot of the great progress made towards understanding the initial chapters of our cosmic history.We highlight discoveries and breakthroughs, topics and issues that are not yet understood, and questions that will be addressed in the coming years, as $\\JWST$ continues its revolutionary observations of the Early Universe. While this compendium is written by a small number of authors, invited to ISSI Bern in March 2024 as part of the 2024 ISSI Breakthrough Workshop, we acknowledge the work of a large community that is advancing our collective understanding of the evolution of the Early Universe.\n",
       "\n",
       "</div>\n",
       "\n",
       "<div id=\"div_fig1\">\n",
       "\n",
       "<img src=\"tmp_2405.21054/./RedshiftCompilation-v10.png\" alt=\"Fig2\" width=\"100%\"/>\n",
       "\n",
       "**Figure 2. -** **a.** The distribution of absolute magnitudes and redshifts of spectroscopically-confirmed galaxies from pre-JWST candidates (blue dots) and from public JWST data sets (orange squares), showing the power of JWST to detect galaxies beyond redshift 6. The latter include compilations \\citep{RobertsBorsani2024} and single targets \\citep{castellano2024,carniani2024} observed with NIRSpec MSA observations, as well as NIRCam grism (FRESCO and EIGER; \\citep{Oesch2023} and \\citep{Daichi2023}, respectively).\n",
       "    **b.** The cosmic SFR density over the first billion years (adapted from Figure 17 of \\citep{Harikane2024}, as seen from HST/WFC3 samples (dark circles), compared to JWST/NIRCam estimates (light squares). A model of constant star formation efficiency is plotted in grey, for comparison. The model and all literature points are derived from \\citep{Harikane2024}(and references therein), where the latter are integrated down to $M_{\\rm UV}=-18$ mag. (*fig:MUV-z*)\n",
       "\n",
       "</div>\n",
       "<div id=\"div_fig2\">\n",
       "\n",
       "<img src=\"tmp_2405.21054/./JWST-Paper-3dBubbles-v5.png\" alt=\"Fig6\" width=\"100%\"/>\n",
       "\n",
       "**Figure 6. -** Spectroscopically-confirmed galaxies in the CEERS EGS field at $z = 7.1–7.8$, reproduced from \\citep{Chen2024}. The presence of numerous Lyman-alpha emitting galaxies (red stars), including several with high equivalent widths ($>200$ Å) and Lyman-alpha escape fractions ($\\gtrsim50\\%$), in this field provides strong evidence for candidate ionized bubbles along the line of sight (shaded cyan regions -- for illustration purposes only). These early observations, primarily of $M_\\mathrm{UV} < -19$ HST-selected sources, highlight the potential of JWST to create tomographic maps of ionized regions to learn about the reionization process on local scales. (*fig:bubble*)\n",
       "\n",
       "</div>\n",
       "<div id=\"div_fig3\">\n",
       "\n",
       "<img src=\"tmp_2405.21054/./BeginningOfUniverse-Draft4.png\" alt=\"Fig1\" width=\"100%\"/>\n",
       "\n",
       "**Figure 1. -** The cosmic timeline, from the origin of the Universe in the Big Bang, 13.8 billion years ago, till the present day. In the current standard picture,  the Universe underwent a period of accelerated expansion called \"inflation\" that expanded the Universe by about 60 orders of magnitude. The Universe then kept cooling and expanding until the next major epoch of \"recombination\" about $4\\times 10^5$ yr later when the first hydrogen atoms formed. This was followed by the \"Dark ages\" of the Universe that lasted for a few hundred million years. The emergence of the earliest galaxies, a few hundred million years after the Big Bang, marked the start of the era of \"cosmic dawn\". The first galaxies also produced the first photons capable of ionizing the neutral hydrogen atoms permeating space, starting the Epoch of Reionization (EoR), the last major phase transition in the Universe. In the initial stages of reionization, isolated galaxies (light yellow dots) produced ionized regions (gray patches) that grew and merged  until the Universe was fully reionized. Image Credit: DELPHI project (ERC 717001). (*fig:universe_timeline*)\n",
       "\n",
       "</div><div id=\"qrcode\"><img src=https://api.qrserver.com/v1/create-qr-code/?size=100x100&data=\"https://arxiv.org/abs/2405.21054\"></div>"
      ],
      "text/plain": [
       "<IPython.core.display.Markdown object>"
      ]
     },
     "metadata": {},
     "output_type": "display_data"
    }
   ],
   "source": [
    "[display(Markdown(k[1])) for k in documents];"
   ]
  },
  {
   "cell_type": "markdown",
   "id": "873873a4",
   "metadata": {
    "papermill": {
     "duration": 0.004371,
     "end_time": "2024-06-03T04:11:22.455093",
     "exception": false,
     "start_time": "2024-06-03T04:11:22.450722",
     "status": "completed"
    },
    "tags": []
   },
   "source": [
    "# Create HTML index"
   ]
  },
  {
   "cell_type": "code",
   "execution_count": 10,
   "id": "cf665672",
   "metadata": {
    "execution": {
     "iopub.execute_input": "2024-06-03T04:11:22.464792Z",
     "iopub.status.busy": "2024-06-03T04:11:22.464402Z",
     "iopub.status.idle": "2024-06-03T04:11:22.471321Z",
     "shell.execute_reply": "2024-06-03T04:11:22.470816Z"
    },
    "papermill": {
     "duration": 0.013296,
     "end_time": "2024-06-03T04:11:22.472713",
     "exception": false,
     "start_time": "2024-06-03T04:11:22.459417",
     "status": "completed"
    },
    "tags": []
   },
   "outputs": [
    {
     "name": "stdout",
     "output_type": "stream",
     "text": [
      "82  publications files modified in the last 7 days.\n"
     ]
    }
   ],
   "source": [
    "from datetime import datetime, timedelta, timezone\n",
    "from glob import glob\n",
    "import os\n",
    "\n",
    "files = glob('_build/html/*.md')\n",
    "days = 7\n",
    "now = datetime.today()\n",
    "res = []\n",
    "for fk in files:\n",
    "    stat_result = os.stat(fk).st_ctime\n",
    "    modified = datetime.fromtimestamp(stat_result, tz=timezone.utc).replace(tzinfo=None)\n",
    "    delta = now.today() - modified\n",
    "    if delta <= timedelta(days=days):\n",
    "        res.append((delta.seconds, fk))\n",
    "res = [k[1] for k in reversed(sorted(res, key=lambda x:x[1]))]\n",
    "npub = len(res)\n",
    "print(len(res), f\" publications files modified in the last {days:d} days.\")\n",
    "# [ print('\\t', k) for k in res ];"
   ]
  },
  {
   "cell_type": "code",
   "execution_count": 11,
   "id": "015de740",
   "metadata": {
    "execution": {
     "iopub.execute_input": "2024-06-03T04:11:22.482460Z",
     "iopub.status.busy": "2024-06-03T04:11:22.482077Z",
     "iopub.status.idle": "2024-06-03T04:11:22.492730Z",
     "shell.execute_reply": "2024-06-03T04:11:22.492218Z"
    },
    "papermill": {
     "duration": 0.016981,
     "end_time": "2024-06-03T04:11:22.494062",
     "exception": false,
     "start_time": "2024-06-03T04:11:22.477081",
     "status": "completed"
    },
    "tags": []
   },
   "outputs": [
    {
     "name": "stdout",
     "output_type": "stream",
     "text": [
      "5  publications in the last 7 days.\n"
     ]
    }
   ],
   "source": [
    "import datetime\n",
    "from glob import glob\n",
    "\n",
    "def get_last_n_days(lst, days=1):\n",
    "    \"\"\" Get the documents from the last n days \"\"\"\n",
    "    sorted_lst = sorted(lst, key=lambda x: x[1], reverse=True)\n",
    "    for fname, date in sorted_lst:\n",
    "        if date >= str(datetime.date.today() - datetime.timedelta(days=days)):\n",
    "            yield fname\n",
    "\n",
    "def extract_appearance_dates(lst_file):\n",
    "    dates = []\n",
    "\n",
    "    def get_date(line):\n",
    "        return line\\\n",
    "            .split('Appeared on:')[-1]\\\n",
    "            .split('</mark>')[0].strip()\n",
    "\n",
    "    for fname in lst:\n",
    "        with open(fname, 'r') as f:\n",
    "            found_date = False\n",
    "            for line in f:\n",
    "                if not found_date:\n",
    "                    if \"Appeared on\" in line:\n",
    "                        found_date = True\n",
    "                        dates.append((fname, get_date(line)))\n",
    "                else:\n",
    "                    break\n",
    "    return dates\n",
    "\n",
    "from glob import glob\n",
    "lst = glob('_build/html/*md')\n",
    "days = 7\n",
    "dates = extract_appearance_dates(lst)\n",
    "res = list(get_last_n_days(dates, days))\n",
    "npub = len(res)\n",
    "print(len(res), f\" publications in the last {days:d} days.\")"
   ]
  },
  {
   "cell_type": "code",
   "execution_count": 12,
   "id": "52ca0208",
   "metadata": {
    "execution": {
     "iopub.execute_input": "2024-06-03T04:11:22.503977Z",
     "iopub.status.busy": "2024-06-03T04:11:22.503780Z",
     "iopub.status.idle": "2024-06-03T04:11:22.508635Z",
     "shell.execute_reply": "2024-06-03T04:11:22.508027Z"
    },
    "papermill": {
     "duration": 0.011359,
     "end_time": "2024-06-03T04:11:22.510032",
     "exception": false,
     "start_time": "2024-06-03T04:11:22.498673",
     "status": "completed"
    },
    "scrolled": false,
    "tags": []
   },
   "outputs": [],
   "source": [
    "def create_carousel(npub=4):\n",
    "    \"\"\" Generate the HTML code for a carousel with `npub` slides \"\"\"\n",
    "    carousel = [\"\"\"  <div class=\"carousel\" \"\"\",\n",
    "                \"\"\"       data-flickity='{ \"autoPlay\": 10000, \"adaptiveHeight\": true, \"resize\": true, \"wrapAround\": true, \"pauseAutoPlayOnHover\": true, \"groupCells\": 1 }' id=\"asyncTypeset\">\"\"\"\n",
    "                ]\n",
    "    \n",
    "    item_str = \"\"\"    <div class=\"carousel-cell\"> <div id=\"slide{k}\" class=\"md_view\">Content {k}</div> </div>\"\"\"\n",
    "    for k in range(1, npub + 1):\n",
    "        carousel.append(item_str.format(k=k))\n",
    "    carousel.append(\"  </div>\")\n",
    "    return '\\n'.join(carousel)\n",
    "\n",
    "def create_grid(npub=4):\n",
    "    \"\"\" Generate the HTML code for a flat grid with `npub` slides \"\"\"\n",
    "    grid = [\"\"\"  <div class=\"grid\"> \"\"\",\n",
    "                ]\n",
    "    \n",
    "    item_str = \"\"\"    <div class=\"grid-item\"> <div id=\"slide{k}\" class=\"md_view\">Content {k}</div> </div>\"\"\"\n",
    "    for k in range(1, npub + 1):\n",
    "        grid.append(item_str.format(k=k))\n",
    "    grid.append(\"  </div>\")\n",
    "    return '\\n'.join(grid)"
   ]
  },
  {
   "cell_type": "code",
   "execution_count": 13,
   "id": "a6eac5b6",
   "metadata": {
    "execution": {
     "iopub.execute_input": "2024-06-03T04:11:22.520066Z",
     "iopub.status.busy": "2024-06-03T04:11:22.519724Z",
     "iopub.status.idle": "2024-06-03T04:11:22.524725Z",
     "shell.execute_reply": "2024-06-03T04:11:22.524124Z"
    },
    "papermill": {
     "duration": 0.01152,
     "end_time": "2024-06-03T04:11:22.526111",
     "exception": false,
     "start_time": "2024-06-03T04:11:22.514591",
     "status": "completed"
    },
    "scrolled": false,
    "tags": []
   },
   "outputs": [],
   "source": [
    "carousel = create_carousel(npub)\n",
    "docs = ', '.join(['\"{0:s}\"'.format(k.split('/')[-1]) for k in res])\n",
    "slides = ', '.join([f'\"slide{k}\"' for k in range(1, npub + 1)])\n",
    "\n",
    "with open(\"daily_template.html\", \"r\") as tpl:\n",
    "    page = tpl.read()\n",
    "    page = page.replace(\"{%-- carousel:s --%}\", carousel)\\\n",
    "               .replace(\"{%-- suptitle:s --%}\",  \"7-day archives\" )\\\n",
    "               .replace(\"{%-- docs:s --%}\", docs)\\\n",
    "               .replace(\"{%-- slides:s --%}\", slides)\n",
    "    \n",
    "with open(\"_build/html/index_7days.html\", 'w') as fout:\n",
    "    fout.write(page)"
   ]
  },
  {
   "cell_type": "code",
   "execution_count": 14,
   "id": "adc1a1ec",
   "metadata": {
    "execution": {
     "iopub.execute_input": "2024-06-03T04:11:22.536345Z",
     "iopub.status.busy": "2024-06-03T04:11:22.535877Z",
     "iopub.status.idle": "2024-06-03T04:11:22.541687Z",
     "shell.execute_reply": "2024-06-03T04:11:22.541177Z"
    },
    "papermill": {
     "duration": 0.012264,
     "end_time": "2024-06-03T04:11:22.542916",
     "exception": false,
     "start_time": "2024-06-03T04:11:22.530652",
     "status": "completed"
    },
    "tags": []
   },
   "outputs": [
    {
     "name": "stdout",
     "output_type": "stream",
     "text": [
      "1  publications in the last day.\n"
     ]
    }
   ],
   "source": [
    "# redo for today\n",
    "days = 1\n",
    "res = list(get_last_n_days(dates, days))\n",
    "npub = len(res)\n",
    "print(len(res), f\" publications in the last day.\")\n",
    "\n",
    "carousel = create_carousel(npub)\n",
    "docs = ', '.join(['\"{0:s}\"'.format(k.split('/')[-1]) for k in res])\n",
    "slides = ', '.join([f'\"slide{k}\"' for k in range(1, npub + 1)])\n",
    "\n",
    "with open(\"daily_template.html\", \"r\") as tpl:\n",
    "    page = tpl.read()\n",
    "    page = page.replace(\"{%-- carousel:s --%}\", carousel)\\\n",
    "               .replace(\"{%-- suptitle:s --%}\",  \"Daily\" )\\\n",
    "               .replace(\"{%-- docs:s --%}\", docs)\\\n",
    "               .replace(\"{%-- slides:s --%}\", slides)\n",
    "    \n",
    "# print(carousel, docs, slides)\n",
    "# print(page)\n",
    "with open(\"_build/html/index_daily.html\", 'w') as fout:\n",
    "    fout.write(page)"
   ]
  },
  {
   "cell_type": "code",
   "execution_count": 15,
   "id": "00eece82",
   "metadata": {
    "execution": {
     "iopub.execute_input": "2024-06-03T04:11:22.553273Z",
     "iopub.status.busy": "2024-06-03T04:11:22.552814Z",
     "iopub.status.idle": "2024-06-03T04:11:22.559043Z",
     "shell.execute_reply": "2024-06-03T04:11:22.558450Z"
    },
    "papermill": {
     "duration": 0.012839,
     "end_time": "2024-06-03T04:11:22.560388",
     "exception": false,
     "start_time": "2024-06-03T04:11:22.547549",
     "status": "completed"
    },
    "scrolled": false,
    "tags": []
   },
   "outputs": [
    {
     "name": "stdout",
     "output_type": "stream",
     "text": [
      "6  6 publications selected.\n"
     ]
    }
   ],
   "source": [
    "# Create the flat grid of the last N papers (fixed number regardless of dates)\n",
    "from itertools import islice \n",
    "\n",
    "npub = 6\n",
    "res = [k[0] for k in (islice(reversed(sorted(dates, key=lambda x: x[1])), 6))]\n",
    "print(len(res), f\" {npub} publications selected.\")\n",
    "\n",
    "grid = create_grid(npub)\n",
    "docs = ', '.join(['\"{0:s}\"'.format(k.split('/')[-1]) for k in res])\n",
    "slides = ', '.join([f'\"slide{k}\"' for k in range(1, npub + 1)])\n",
    "\n",
    "with open(\"grid_template.html\", \"r\") as tpl:\n",
    "    page = tpl.read()\n",
    "    page = page.replace(\"{%-- grid-content:s --%}\", grid)\\\n",
    "               .replace(\"{%-- suptitle:s --%}\",  f\"Last {npub:,d} papers\" )\\\n",
    "               .replace(\"{%-- docs:s --%}\", docs)\\\n",
    "               .replace(\"{%-- slides:s --%}\", slides)\n",
    "    \n",
    "# print(grid, docs, slides)\n",
    "# print(page)\n",
    "with open(\"_build/html/index_npub_grid.html\", 'w') as fout:\n",
    "    fout.write(page)"
   ]
  }
 ],
 "metadata": {
  "kernelspec": {
   "display_name": "Python 3 (ipykernel)",
   "language": "python",
   "name": "python3"
  },
  "language_info": {
   "codemirror_mode": {
    "name": "ipython",
    "version": 3
   },
   "file_extension": ".py",
   "mimetype": "text/x-python",
   "name": "python",
   "nbconvert_exporter": "python",
   "pygments_lexer": "ipython3",
   "version": "3.9.19"
  },
  "papermill": {
   "default_parameters": {},
   "duration": 32.819846,
   "end_time": "2024-06-03T04:11:22.780549",
   "environment_variables": {},
   "exception": null,
   "input_path": "MPIA daily digest.ipynb",
   "output_path": "log.ipynb",
   "parameters": {},
   "start_time": "2024-06-03T04:10:49.960703",
   "version": "2.6.0"
  },
  "vscode": {
   "interpreter": {
    "hash": "aee8b7b246df8f9039afb4144a1f6fd8d2ca17a180786b69acc140d282b71a49"
   }
  },
  "widgets": {
   "application/vnd.jupyter.widget-state+json": {
    "state": {
     "05e7369f86f8404a834aaac62117842a": {
      "model_module": "@jupyter-widgets/controls",
      "model_module_version": "2.0.0",
      "model_name": "HBoxModel",
      "state": {
       "_dom_classes": [],
       "_model_module": "@jupyter-widgets/controls",
       "_model_module_version": "2.0.0",
       "_model_name": "HBoxModel",
       "_view_count": null,
       "_view_module": "@jupyter-widgets/controls",
       "_view_module_version": "2.0.0",
       "_view_name": "HBoxView",
       "box_style": "",
       "children": [
        "IPY_MODEL_398a84d5efba429d8ed419fdb3efc670",
        "IPY_MODEL_85b3bef1f7bf4307bfa8eeece4cd69c0",
        "IPY_MODEL_4d28898a74074140aa0a4bebcabeecfc"
       ],
       "layout": "IPY_MODEL_db3f602f88dc48dab2bd72d160a5316e",
       "tabbable": null,
       "tooltip": null
      }
     },
     "398a84d5efba429d8ed419fdb3efc670": {
      "model_module": "@jupyter-widgets/controls",
      "model_module_version": "2.0.0",
      "model_name": "HTMLModel",
      "state": {
       "_dom_classes": [],
       "_model_module": "@jupyter-widgets/controls",
       "_model_module_version": "2.0.0",
       "_model_name": "HTMLModel",
       "_view_count": null,
       "_view_module": "@jupyter-widgets/controls",
       "_view_module_version": "2.0.0",
       "_view_name": "HTMLView",
       "description": "",
       "description_allow_html": false,
       "layout": "IPY_MODEL_4b7addc3443f40338a1b3da2fd836109",
       "placeholder": "​",
       "style": "IPY_MODEL_a42edc14621144eba1667a7abb9899fb",
       "tabbable": null,
       "tooltip": null,
       "value": "100%"
      }
     },
     "4b7addc3443f40338a1b3da2fd836109": {
      "model_module": "@jupyter-widgets/base",
      "model_module_version": "2.0.0",
      "model_name": "LayoutModel",
      "state": {
       "_model_module": "@jupyter-widgets/base",
       "_model_module_version": "2.0.0",
       "_model_name": "LayoutModel",
       "_view_count": null,
       "_view_module": "@jupyter-widgets/base",
       "_view_module_version": "2.0.0",
       "_view_name": "LayoutView",
       "align_content": null,
       "align_items": null,
       "align_self": null,
       "border_bottom": null,
       "border_left": null,
       "border_right": null,
       "border_top": null,
       "bottom": null,
       "display": null,
       "flex": null,
       "flex_flow": null,
       "grid_area": null,
       "grid_auto_columns": null,
       "grid_auto_flow": null,
       "grid_auto_rows": null,
       "grid_column": null,
       "grid_gap": null,
       "grid_row": null,
       "grid_template_areas": null,
       "grid_template_columns": null,
       "grid_template_rows": null,
       "height": null,
       "justify_content": null,
       "justify_items": null,
       "left": null,
       "margin": null,
       "max_height": null,
       "max_width": null,
       "min_height": null,
       "min_width": null,
       "object_fit": null,
       "object_position": null,
       "order": null,
       "overflow": null,
       "padding": null,
       "right": null,
       "top": null,
       "visibility": null,
       "width": null
      }
     },
     "4d28898a74074140aa0a4bebcabeecfc": {
      "model_module": "@jupyter-widgets/controls",
      "model_module_version": "2.0.0",
      "model_name": "HTMLModel",
      "state": {
       "_dom_classes": [],
       "_model_module": "@jupyter-widgets/controls",
       "_model_module_version": "2.0.0",
       "_model_name": "HTMLModel",
       "_view_count": null,
       "_view_module": "@jupyter-widgets/controls",
       "_view_module_version": "2.0.0",
       "_view_name": "HTMLView",
       "description": "",
       "description_allow_html": false,
       "layout": "IPY_MODEL_73e299047506475abb055660d6116656",
       "placeholder": "​",
       "style": "IPY_MODEL_9c8621eb59144e7383218163d65d5a27",
       "tabbable": null,
       "tooltip": null,
       "value": " 3/3 [00:13&lt;00:00,  6.23s/it]"
      }
     },
     "73e299047506475abb055660d6116656": {
      "model_module": "@jupyter-widgets/base",
      "model_module_version": "2.0.0",
      "model_name": "LayoutModel",
      "state": {
       "_model_module": "@jupyter-widgets/base",
       "_model_module_version": "2.0.0",
       "_model_name": "LayoutModel",
       "_view_count": null,
       "_view_module": "@jupyter-widgets/base",
       "_view_module_version": "2.0.0",
       "_view_name": "LayoutView",
       "align_content": null,
       "align_items": null,
       "align_self": null,
       "border_bottom": null,
       "border_left": null,
       "border_right": null,
       "border_top": null,
       "bottom": null,
       "display": null,
       "flex": null,
       "flex_flow": null,
       "grid_area": null,
       "grid_auto_columns": null,
       "grid_auto_flow": null,
       "grid_auto_rows": null,
       "grid_column": null,
       "grid_gap": null,
       "grid_row": null,
       "grid_template_areas": null,
       "grid_template_columns": null,
       "grid_template_rows": null,
       "height": null,
       "justify_content": null,
       "justify_items": null,
       "left": null,
       "margin": null,
       "max_height": null,
       "max_width": null,
       "min_height": null,
       "min_width": null,
       "object_fit": null,
       "object_position": null,
       "order": null,
       "overflow": null,
       "padding": null,
       "right": null,
       "top": null,
       "visibility": null,
       "width": null
      }
     },
     "7f3c42709c2547d5b0c1586abb08ffa5": {
      "model_module": "@jupyter-widgets/controls",
      "model_module_version": "2.0.0",
      "model_name": "ProgressStyleModel",
      "state": {
       "_model_module": "@jupyter-widgets/controls",
       "_model_module_version": "2.0.0",
       "_model_name": "ProgressStyleModel",
       "_view_count": null,
       "_view_module": "@jupyter-widgets/base",
       "_view_module_version": "2.0.0",
       "_view_name": "StyleView",
       "bar_color": null,
       "description_width": ""
      }
     },
     "85b3bef1f7bf4307bfa8eeece4cd69c0": {
      "model_module": "@jupyter-widgets/controls",
      "model_module_version": "2.0.0",
      "model_name": "FloatProgressModel",
      "state": {
       "_dom_classes": [],
       "_model_module": "@jupyter-widgets/controls",
       "_model_module_version": "2.0.0",
       "_model_name": "FloatProgressModel",
       "_view_count": null,
       "_view_module": "@jupyter-widgets/controls",
       "_view_module_version": "2.0.0",
       "_view_name": "ProgressView",
       "bar_style": "success",
       "description": "",
       "description_allow_html": false,
       "layout": "IPY_MODEL_eccbc34ff94a4f23a8265a6386a7ddaf",
       "max": 3.0,
       "min": 0.0,
       "orientation": "horizontal",
       "style": "IPY_MODEL_7f3c42709c2547d5b0c1586abb08ffa5",
       "tabbable": null,
       "tooltip": null,
       "value": 3.0
      }
     },
     "9c8621eb59144e7383218163d65d5a27": {
      "model_module": "@jupyter-widgets/controls",
      "model_module_version": "2.0.0",
      "model_name": "HTMLStyleModel",
      "state": {
       "_model_module": "@jupyter-widgets/controls",
       "_model_module_version": "2.0.0",
       "_model_name": "HTMLStyleModel",
       "_view_count": null,
       "_view_module": "@jupyter-widgets/base",
       "_view_module_version": "2.0.0",
       "_view_name": "StyleView",
       "background": null,
       "description_width": "",
       "font_size": null,
       "text_color": null
      }
     },
     "a42edc14621144eba1667a7abb9899fb": {
      "model_module": "@jupyter-widgets/controls",
      "model_module_version": "2.0.0",
      "model_name": "HTMLStyleModel",
      "state": {
       "_model_module": "@jupyter-widgets/controls",
       "_model_module_version": "2.0.0",
       "_model_name": "HTMLStyleModel",
       "_view_count": null,
       "_view_module": "@jupyter-widgets/base",
       "_view_module_version": "2.0.0",
       "_view_name": "StyleView",
       "background": null,
       "description_width": "",
       "font_size": null,
       "text_color": null
      }
     },
     "db3f602f88dc48dab2bd72d160a5316e": {
      "model_module": "@jupyter-widgets/base",
      "model_module_version": "2.0.0",
      "model_name": "LayoutModel",
      "state": {
       "_model_module": "@jupyter-widgets/base",
       "_model_module_version": "2.0.0",
       "_model_name": "LayoutModel",
       "_view_count": null,
       "_view_module": "@jupyter-widgets/base",
       "_view_module_version": "2.0.0",
       "_view_name": "LayoutView",
       "align_content": null,
       "align_items": null,
       "align_self": null,
       "border_bottom": null,
       "border_left": null,
       "border_right": null,
       "border_top": null,
       "bottom": null,
       "display": null,
       "flex": null,
       "flex_flow": null,
       "grid_area": null,
       "grid_auto_columns": null,
       "grid_auto_flow": null,
       "grid_auto_rows": null,
       "grid_column": null,
       "grid_gap": null,
       "grid_row": null,
       "grid_template_areas": null,
       "grid_template_columns": null,
       "grid_template_rows": null,
       "height": null,
       "justify_content": null,
       "justify_items": null,
       "left": null,
       "margin": null,
       "max_height": null,
       "max_width": null,
       "min_height": null,
       "min_width": null,
       "object_fit": null,
       "object_position": null,
       "order": null,
       "overflow": null,
       "padding": null,
       "right": null,
       "top": null,
       "visibility": null,
       "width": null
      }
     },
     "eccbc34ff94a4f23a8265a6386a7ddaf": {
      "model_module": "@jupyter-widgets/base",
      "model_module_version": "2.0.0",
      "model_name": "LayoutModel",
      "state": {
       "_model_module": "@jupyter-widgets/base",
       "_model_module_version": "2.0.0",
       "_model_name": "LayoutModel",
       "_view_count": null,
       "_view_module": "@jupyter-widgets/base",
       "_view_module_version": "2.0.0",
       "_view_name": "LayoutView",
       "align_content": null,
       "align_items": null,
       "align_self": null,
       "border_bottom": null,
       "border_left": null,
       "border_right": null,
       "border_top": null,
       "bottom": null,
       "display": null,
       "flex": null,
       "flex_flow": null,
       "grid_area": null,
       "grid_auto_columns": null,
       "grid_auto_flow": null,
       "grid_auto_rows": null,
       "grid_column": null,
       "grid_gap": null,
       "grid_row": null,
       "grid_template_areas": null,
       "grid_template_columns": null,
       "grid_template_rows": null,
       "height": null,
       "justify_content": null,
       "justify_items": null,
       "left": null,
       "margin": null,
       "max_height": null,
       "max_width": null,
       "min_height": null,
       "min_width": null,
       "object_fit": null,
       "object_position": null,
       "order": null,
       "overflow": null,
       "padding": null,
       "right": null,
       "top": null,
       "visibility": null,
       "width": null
      }
     }
    },
    "version_major": 2,
    "version_minor": 0
   }
  }
 },
 "nbformat": 4,
 "nbformat_minor": 5
}