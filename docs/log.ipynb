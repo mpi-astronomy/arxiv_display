{
 "cells": [
  {
   "cell_type": "markdown",
   "id": "92bcb855",
   "metadata": {
    "papermill": {
     "duration": 0.003932,
     "end_time": "2025-01-16T04:10:16.136725",
     "exception": false,
     "start_time": "2025-01-16T04:10:16.132793",
     "status": "completed"
    },
    "tags": []
   },
   "source": [
    "# MPIA Arxiv on Deck 2\n",
    "\n",
    "Contains the steps to produce the paper extractions."
   ]
  },
  {
   "cell_type": "code",
   "execution_count": 1,
   "id": "3a0d6e11",
   "metadata": {
    "execution": {
     "iopub.execute_input": "2025-01-16T04:10:16.144639Z",
     "iopub.status.busy": "2025-01-16T04:10:16.143994Z",
     "iopub.status.idle": "2025-01-16T04:10:16.478713Z",
     "shell.execute_reply": "2025-01-16T04:10:16.477965Z"
    },
    "papermill": {
     "duration": 0.340255,
     "end_time": "2025-01-16T04:10:16.480324",
     "exception": false,
     "start_time": "2025-01-16T04:10:16.140069",
     "status": "completed"
    },
    "tags": []
   },
   "outputs": [],
   "source": [
    "# Imports\n",
    "import os\n",
    "from IPython.display import Markdown, display\n",
    "from tqdm.notebook import tqdm\n",
    "import warnings\n",
    "from PIL import Image \n",
    "import re\n",
    "\n",
    "# requires arxiv_on_deck_2\n",
    "\n",
    "from arxiv_on_deck_2.arxiv2 import (get_new_papers, \n",
    "                                    get_paper_from_identifier,\n",
    "                                    retrieve_document_source, \n",
    "                                    get_markdown_badge)\n",
    "from arxiv_on_deck_2 import (latex,\n",
    "                             latex_bib,\n",
    "                             mpia,\n",
    "                             highlight_authors_in_list)\n",
    "\n",
    "# Sometimes images are really big\n",
    "Image.MAX_IMAGE_PIXELS = 1000000000 "
   ]
  },
  {
   "cell_type": "code",
   "execution_count": 2,
   "id": "22aa9d44",
   "metadata": {
    "execution": {
     "iopub.execute_input": "2025-01-16T04:10:16.487946Z",
     "iopub.status.busy": "2025-01-16T04:10:16.487427Z",
     "iopub.status.idle": "2025-01-16T04:10:16.495440Z",
     "shell.execute_reply": "2025-01-16T04:10:16.494898Z"
    },
    "papermill": {
     "duration": 0.012724,
     "end_time": "2025-01-16T04:10:16.496414",
     "exception": false,
     "start_time": "2025-01-16T04:10:16.483690",
     "status": "completed"
    },
    "tags": []
   },
   "outputs": [],
   "source": [
    "# Some useful definitions.\n",
    "\n",
    "class AffiliationWarning(UserWarning):\n",
    "    pass\n",
    "\n",
    "class AffiliationError(RuntimeError):\n",
    "    pass\n",
    "\n",
    "def validation(source: str):\n",
    "    \"\"\"Raises error paper during parsing of source file\n",
    "    \n",
    "    Allows checks before parsing TeX code.\n",
    "    \n",
    "    Raises AffiliationWarning\n",
    "    \"\"\"\n",
    "    check = mpia.affiliation_verifications(source, verbose=True)\n",
    "    if check is not True:\n",
    "        raise AffiliationError(\"mpia.affiliation_verifications: \" + check)\n",
    "\n",
    "        \n",
    "warnings.simplefilter('always', AffiliationWarning)\n",
    "\n",
    "\n",
    "def get_markdown_qrcode(paper_id: str):\n",
    "    \"\"\" Generate a qrcode to the arxiv page using qrserver.com\n",
    "    \n",
    "    :param paper: Arxiv paper\n",
    "    :returns: markdown text\n",
    "    \"\"\"\n",
    "    url = r\"https://api.qrserver.com/v1/create-qr-code/?size=100x100&data=\"\n",
    "    txt = f\"\"\"<img src={url}\"https://arxiv.org/abs/{paper_id}\">\"\"\"\n",
    "    txt = '<div id=\"qrcode\">' + txt + '</div>'\n",
    "    return txt\n",
    "\n",
    "\n",
    "def clean_non_western_encoded_characters_commands(text: str) -> str:\n",
    "    \"\"\" Remove non-western encoded characters from a string\n",
    "    List may need to grow.\n",
    "    \n",
    "    :param text: the text to clean\n",
    "    :return: the cleaned text\n",
    "    \"\"\"\n",
    "    text = re.sub(r\"(\\\\begin{CJK}{UTF8}{gbsn})(.*?)(\\\\end{CJK})\", r\"\\2\", text)\n",
    "    return text\n",
    "\n",
    "\n",
    "def get_initials(name: str) -> str:\n",
    "    \"\"\" Get the short name, e.g., A.-B. FamName\n",
    "    :param name: full name\n",
    "    :returns: initials\n",
    "    \"\"\"\n",
    "    initials = []\n",
    "    # account for non western names often in ()\n",
    "    if '(' in name:\n",
    "        name = clean_non_western_encoded_characters_commands(name)\n",
    "        suffix = re.findall(r\"\\((.*?)\\)\", name)[0]\n",
    "        name = name.replace(f\"({suffix})\", '')\n",
    "    else:\n",
    "        suffix = ''\n",
    "    split = name.split()\n",
    "    for token in split[:-1]:\n",
    "        if '-' in token:\n",
    "            current = '-'.join([k[0] + '.' for k in token.split('-')])\n",
    "        else:\n",
    "            current = token[0] + '.'\n",
    "        initials.append(current)\n",
    "    initials.append(split[-1].strip())\n",
    "    if suffix:\n",
    "        initials.append(f\"({suffix})\")\n",
    "    return ' '.join(initials)"
   ]
  },
  {
   "cell_type": "markdown",
   "id": "14bd6310",
   "metadata": {
    "papermill": {
     "duration": 0.003003,
     "end_time": "2025-01-16T04:10:16.502450",
     "exception": false,
     "start_time": "2025-01-16T04:10:16.499447",
     "status": "completed"
    },
    "tags": []
   },
   "source": [
    "## get list of arxiv paper candidates\n",
    "\n",
    "We use the MPIA mitarbeiter list webpage from mpia.de to get author names\n",
    "We then get all new papers from Arxiv and match authors"
   ]
  },
  {
   "cell_type": "code",
   "execution_count": 3,
   "id": "7ea813a8",
   "metadata": {
    "execution": {
     "iopub.execute_input": "2025-01-16T04:10:16.509541Z",
     "iopub.status.busy": "2025-01-16T04:10:16.509115Z",
     "iopub.status.idle": "2025-01-16T04:10:31.378197Z",
     "shell.execute_reply": "2025-01-16T04:10:31.377474Z"
    },
    "papermill": {
     "duration": 14.874145,
     "end_time": "2025-01-16T04:10:31.379566",
     "exception": false,
     "start_time": "2025-01-16T04:10:16.505421",
     "status": "completed"
    },
    "tags": []
   },
   "outputs": [],
   "source": [
    "# deal with the author list and edge cases of people that cannot be consistent on their name  \n",
    "\n",
    "def filter_non_scientists(name: str) -> bool:\n",
    "    \"\"\" Loose filter on expected authorships\n",
    "\n",
    "    removing IT, administration, technical staff\n",
    "    :param name: name\n",
    "    :returns: False if name is not a scientist\n",
    "    \"\"\"\n",
    "    remove_list = ['Licht', 'Binroth', 'Witzel', 'Jordan',\n",
    "                   'Zähringer', 'Scheerer', 'Hoffmann', 'Düe',\n",
    "                   'Hellmich', 'Enkler-Scharpegge', 'Witte-Nguy',\n",
    "                   'Dehen', 'Beckmann', 'Jager', 'Jäger'\n",
    "                  ]\n",
    "\n",
    "    for k in remove_list:\n",
    "        if k in name:\n",
    "            return False\n",
    "    return True\n",
    "\n",
    "def add_author_to_list(author_list: list) -> list:\n",
    "    \"\"\" Add author to list if not already in list\n",
    "    \n",
    "    :param author: author name\n",
    "    :param author_list: list of authors\n",
    "    :returns: updated list of authors\n",
    "    \"\"\"\n",
    "    add_list = ['T. Henning']\n",
    "\n",
    "    for author in add_list:\n",
    "        if author not in author_list:\n",
    "            author_list.append(author)\n",
    "    return author_list\n",
    "\n",
    "# get list from MPIA website\n",
    "# filter for non-scientists (mpia.get_mpia_mitarbeiter_list() does some filtering)\n",
    "mpia_authors = [k[1] for k in mpia.get_mpia_mitarbeiter_list() if filter_non_scientists(k[1])]\n",
    "# add some missing author because of inconsistencies in their MPIA name and author name on papers\n",
    "mpia_authors = add_author_to_list(mpia_authors)"
   ]
  },
  {
   "cell_type": "code",
   "execution_count": 4,
   "id": "2645e73a",
   "metadata": {
    "execution": {
     "iopub.execute_input": "2025-01-16T04:10:31.386999Z",
     "iopub.status.busy": "2025-01-16T04:10:31.386755Z",
     "iopub.status.idle": "2025-01-16T04:10:31.924213Z",
     "shell.execute_reply": "2025-01-16T04:10:31.923574Z"
    },
    "papermill": {
     "duration": 0.54236,
     "end_time": "2025-01-16T04:10:31.925338",
     "exception": false,
     "start_time": "2025-01-16T04:10:31.382978",
     "status": "completed"
    },
    "tags": []
   },
   "outputs": [
    {
     "name": "stdout",
     "output_type": "stream",
     "text": [
      "K. Jahnke  ->  K. Jahnke  |  ['K. Jahnke']\n",
      "J. Li  ->  J. Li  |  ['J. Li']\n",
      "P. Molliere  ->  P. Molliere  |  ['P. Molliere']\n",
      "X. Zhang  ->  X. Zhang  |  ['X. Zhang']\n",
      "P. Smith  ->  P. Smith  |  ['P. Smith']\n"
     ]
    },
    {
     "name": "stdout",
     "output_type": "stream",
     "text": [
      "Arxiv has 56 new papers today\n",
      "          5 with possible author matches\n"
     ]
    }
   ],
   "source": [
    "new_papers = get_new_papers()\n",
    "# add manual references\n",
    "add_paper_refs = []\n",
    "new_papers.extend([get_paper_from_identifier(k) for k in add_paper_refs])\n",
    "\n",
    "def robust_call(fn, value, *args, **kwargs):\n",
    "    try:\n",
    "        return fn(value, *args, **kwargs)\n",
    "    except Exception:\n",
    "        return value\n",
    "\n",
    "candidates = []\n",
    "for paperk in new_papers:\n",
    "    # Check author list with their initials\n",
    "    normed_author_list = [robust_call(mpia.get_initials, k) for k in paperk['authors']]\n",
    "    hl_authors = highlight_authors_in_list(normed_author_list, mpia_authors, verbose=True)\n",
    "    matches = [(hl, orig) for hl, orig in zip(hl_authors, paperk['authors']) if 'mark' in hl]\n",
    "    paperk['authors'] = hl_authors\n",
    "    if matches:\n",
    "        # only select paper if an author matched our list\n",
    "        candidates.append(paperk)\n",
    "print(\"\"\"Arxiv has {0:,d} new papers today\"\"\".format(len(new_papers)))        \n",
    "print(\"\"\"          {0:,d} with possible author matches\"\"\".format(len(candidates)))"
   ]
  },
  {
   "cell_type": "markdown",
   "id": "3543b34a",
   "metadata": {
    "papermill": {
     "duration": 0.003123,
     "end_time": "2025-01-16T04:10:31.931990",
     "exception": false,
     "start_time": "2025-01-16T04:10:31.928867",
     "status": "completed"
    },
    "tags": []
   },
   "source": [
    "# Parse sources and generate relevant outputs\n",
    "\n",
    "From the candidates, we do the following steps:\n",
    "* get their tarball from ArXiv (and extract data)\n",
    "* find the main .tex file: find one with \\documentclass{...} (sometimes it's non trivial)\n",
    "* Check affiliations with :func:`validation`, which uses :func:`mpia.affiliation_verifications`\n",
    "* If passing the affiliations: we parse the .tex source\n",
    "   * inject sub-documents into the main (flatten the main document)\n",
    "   * parse structure, extract information (title, abstract, authors, figures...)\n",
    "   * handles `\\graphicspath` if provided\n",
    "* Generate the .md document."
   ]
  },
  {
   "cell_type": "code",
   "execution_count": 5,
   "id": "9576b79e",
   "metadata": {
    "execution": {
     "iopub.execute_input": "2025-01-16T04:10:31.939362Z",
     "iopub.status.busy": "2025-01-16T04:10:31.938907Z",
     "iopub.status.idle": "2025-01-16T04:10:38.032929Z",
     "shell.execute_reply": "2025-01-16T04:10:38.032239Z"
    },
    "papermill": {
     "duration": 6.098983,
     "end_time": "2025-01-16T04:10:38.034064",
     "exception": false,
     "start_time": "2025-01-16T04:10:31.935081",
     "status": "completed"
    },
    "scrolled": false,
    "tags": []
   },
   "outputs": [
    {
     "data": {
      "application/vnd.jupyter.widget-view+json": {
       "model_id": "c7e9aae46a0941488fdd7dfc51bb980b",
       "version_major": 2,
       "version_minor": 0
      },
      "text/plain": [
       "  0%|          | 0/5 [00:00<?, ?it/s]"
      ]
     },
     "metadata": {},
     "output_type": "display_data"
    },
    {
     "name": "stdout",
     "output_type": "stream",
     "text": [
      "Retrieving document from  https://arxiv.org/e-print/2501.08372\n",
      "Retrieving document from  https://arxiv.org/e-print/2501.08388\n"
     ]
    },
    {
     "name": "stderr",
     "output_type": "stream",
     "text": [
      "/tmp/ipykernel_3200/2822249172.py:52: LatexWarning: 2501.08372 did not run properly\n",
      "not a gzip file\n",
      "  warnings.warn(latex.LatexWarning(f\"{paper_id:s} did not run properly\\n\" +\n"
     ]
    },
    {
     "name": "stdout",
     "output_type": "stream",
     "text": [
      "extracting tarball to tmp_2501.08388..."
     ]
    },
    {
     "name": "stdout",
     "output_type": "stream",
     "text": [
      " done.\n",
      "Retrieving document from  https://arxiv.org/e-print/2501.08445\n"
     ]
    },
    {
     "name": "stdout",
     "output_type": "stream",
     "text": [
      "extracting tarball to tmp_2501.08445... done.\n"
     ]
    },
    {
     "name": "stdout",
     "output_type": "stream",
     "text": [
      "Issues with the citations\n",
      "list index out of range\n",
      "Retrieving document from  https://arxiv.org/e-print/2501.08548\n"
     ]
    },
    {
     "name": "stdout",
     "output_type": "stream",
     "text": [
      "extracting tarball to tmp_2501.08548... done.\n",
      "Retrieving document from  https://arxiv.org/e-print/2501.08652\n",
      "extracting tarball to tmp_2501.08652... done.\n"
     ]
    }
   ],
   "source": [
    "documents = []\n",
    "failed = []\n",
    "for paper in tqdm(candidates):\n",
    "    # debug crap\n",
    "    paper['identifier'] = paper['identifier'].lower().replace('arxiv:', '').replace(r'\\n', '').strip()\n",
    "    paper_id = paper['identifier']\n",
    "    \n",
    "    folder = f'tmp_{paper_id}'\n",
    "\n",
    "    try:\n",
    "        if not os.path.isdir(folder):\n",
    "            folder = retrieve_document_source(f\"{paper_id}\", f'tmp_{paper_id}')\n",
    "        \n",
    "        try:\n",
    "            doc = latex.LatexDocument(folder, validation=validation)    \n",
    "        except AffiliationError as affilerror:\n",
    "            msg = f\"ArXiv:{paper_id:s} is not an MPIA paper... \" + str(affilerror)\n",
    "            failed.append((paper, \"affiliation error: \" + str(affilerror) ))\n",
    "            continue\n",
    "        \n",
    "        # Hack because sometimes author parsing does not work well\n",
    "        if (len(doc.authors) != len(paper['authors'])):\n",
    "            doc._authors = paper['authors']\n",
    "        else:\n",
    "            # highlight authors (FIXME: doc.highlight_authors)\n",
    "            # done on arxiv paper already\n",
    "            doc._authors = highlight_authors_in_list(\n",
    "                [get_initials(k) for k in doc.authors], \n",
    "                mpia_authors, verbose=True)\n",
    "        if (doc.abstract) in (None, ''):\n",
    "            doc._abstract = paper['abstract']\n",
    "            \n",
    "        doc.comment = (get_markdown_badge(paper_id) + \n",
    "                       \"<mark>Appeared on: \" + paper['date'] + \"</mark> - \")\n",
    "        if paper['comments']:\n",
    "            doc.comment += \" _\" + paper['comments'] + \"_\"\n",
    "        \n",
    "        full_md = doc.generate_markdown_text()\n",
    "        \n",
    "        full_md += get_markdown_qrcode(paper_id)\n",
    "        \n",
    "        # replace citations\n",
    "        try:\n",
    "            bibdata = latex_bib.LatexBib.from_doc(doc)\n",
    "            full_md = latex_bib.replace_citations(full_md, bibdata)\n",
    "        except Exception as e:\n",
    "            print(\"Issues with the citations\")\n",
    "            print(e)\n",
    "        \n",
    "        documents.append((paper_id, full_md))\n",
    "    except Exception as e:\n",
    "        warnings.warn(latex.LatexWarning(f\"{paper_id:s} did not run properly\\n\" +\n",
    "                                         str(e)\n",
    "                                        ))\n",
    "        failed.append((paper, \"latex error \" + str(e)))"
   ]
  },
  {
   "cell_type": "markdown",
   "id": "2505a25c",
   "metadata": {
    "papermill": {
     "duration": 0.003597,
     "end_time": "2025-01-16T04:10:38.041654",
     "exception": false,
     "start_time": "2025-01-16T04:10:38.038057",
     "status": "completed"
    },
    "tags": []
   },
   "source": [
    "### Export the logs\n",
    "\n",
    "Throughout, we also keep track of the logs per paper. see `logs-{today date}.md` "
   ]
  },
  {
   "cell_type": "code",
   "execution_count": 6,
   "id": "d733828a",
   "metadata": {
    "execution": {
     "iopub.execute_input": "2025-01-16T04:10:38.049980Z",
     "iopub.status.busy": "2025-01-16T04:10:38.049576Z",
     "iopub.status.idle": "2025-01-16T04:10:38.065314Z",
     "shell.execute_reply": "2025-01-16T04:10:38.064572Z"
    },
    "papermill": {
     "duration": 0.02121,
     "end_time": "2025-01-16T04:10:38.066436",
     "exception": false,
     "start_time": "2025-01-16T04:10:38.045226",
     "status": "completed"
    },
    "scrolled": false,
    "tags": []
   },
   "outputs": [
    {
     "data": {
      "text/markdown": [
       "## Successful papers"
      ],
      "text/plain": [
       "<IPython.core.display.Markdown object>"
      ]
     },
     "metadata": {},
     "output_type": "display_data"
    },
    {
     "data": {
      "text/markdown": [
       "\n",
       "|||\n",
       "|---:|:---|\n",
       "| [![arXiv](https://img.shields.io/badge/arXiv-2501.08445-b31b1b.svg)](https://arxiv.org/abs/2501.08445) | **Deep high-resolution L band spectroscopy in the $\\beta$ Pictoris planetary system**  |\n",
       "|| M. Janson, et al. -- incl., <mark>P. Molliere</mark> |\n",
       "|*Appeared on*| *2025-01-16*|\n",
       "|*Comments*| *18 pages, 21 figure, accepted for publication in A&A*|\n",
       "|**Abstract**|            The beta Pictoris system, with its two directly imaged planets beta Pic b and beta Pic c and its well characterised debris disk, is a prime target for detailed characterisation of young planetary systems. Here, we present high-resolution and high-contrast LM band spectroscopy with CRIRES+ of the system, primarily for the purpose of atmospheric characterisation of beta Pic b. We developed methods for determining slit geometry and wavelength calibration based on telluric absorption and emission lines, as well as methods for PSF modelling and subtraction, and artificial planet injection, in order to extract and characterise planet spectra at a high S/N and spectral fidelity. Through cross-correlation with model spectra, we detected H2O absorption for planet b in each of the 13 individual observations spanning four different spectral settings. This provides a clear confirmation of previously detected water absorption, and allowed us to derive an exquisite precision on the rotational velocity of beta Pic b, v_rot = 20.36 +/- 0.31 km/s, which is consistent within error bars with previous determinations. We also observed a tentative H2O cross-correlation peak at the expected position and velocity of planet c; the feature is however not at a statistically significant level. Despite a higher sensitivity to SiO than earlier studies, we do not confirm a tentative SiO feature previously reported for planet b. When combining data from different epochs and different observing modes for the strong H2O feature of planet b, we find that the S/N grows considerably faster when sets of different spectral settings are combined, compared to when multiple data sets of the same spectral setting are combined. This implies that maximising spectral coverage is often more important than maximising integration depth when investigating exoplanetary atmospheres using cross-correlation techniques.         |"
      ],
      "text/plain": [
       "[2501.08445] Deep high-resolution L band spectroscopy in the $\\beta$ Pictoris planetary system\n",
       "\tM. Janson, et al. -- incl., <mark>P. Molliere</mark>"
      ]
     },
     "metadata": {},
     "output_type": "display_data"
    },
    {
     "data": {
      "text/markdown": [
       "## Failed papers"
      ],
      "text/plain": [
       "<IPython.core.display.Markdown object>"
      ]
     },
     "metadata": {},
     "output_type": "display_data"
    },
    {
     "data": {
      "text/markdown": [
       "\n",
       "|||\n",
       "|---:|:---|\n",
       "| [![arXiv](https://img.shields.io/badge/arXiv-2501.08388-b31b1b.svg)](https://arxiv.org/abs/2501.08388) | **Phasing the Giant Magellan Telescope: Lab Experiments and First On-sky Demonstration**  |\n",
       "|| M. Y. Kautz, et al. -- incl., <mark>J. Li</mark> |\n",
       "|*Appeared on*| *2025-01-16*|\n",
       "|*Comments*| *34 pages, 26 figures*|\n",
       "|**Abstract**|            The large apertures of the upcoming generation of Giant Segmented Mirror Telescopes will enable unprecedented angular resolutions that scale as $\\propto$ $\\lambda$/D and higher sensitivities that scale as $D^4$ for point sources corrected by adaptive optics. However, all will have pupil segmentation caused by mechanical struts holding up the secondary mirror [European Extremely Large Telescope and Thirty Meter Telescope] or intrinsically, by design, as in the Giant Magellan Telescope. These gaps will be separated by more than a typical atmospheric coherence length (Fried Parameter). The pupil fragmentation at scales larger than the typical atmospheric coherence length, combined with wavefront sensors with weak or ambiguous sensitivity to differential piston, can introduce differential piston areas of the wavefront known as \"petal modes\". Commonly used wavefront sensors, such as a pyramid WFS, also struggle with phase wrapping caused by >$\\lambda$/2 differential piston WFE. We have developed the holographic dispersed fringe sensor, a single pupil-plane optic that employs holography to interfere the dispersed light from each segment onto different spatial locations in the focal plane to sense and correct differential piston between the segments. This allows for a very high and linear dynamic piston sensing range of approximately $\\pm$10 $\\mu$m. We have begun the initial attempts at phasing a segmented pupil utilizing the HDFS on the High Contrast Adaptive optics phasing Testbed and the Extreme Magellan Adaptive Optics instrument (MagAO-X) at the University of Arizona. Additionally, we have demonstrated use of the HDFS as a differential piston sensor on-sky for the first time. We were able to phase each segment to within $\\pm\\lambda$/11.3 residual piston WFE ($\\lambda$ = 800 nm) of a reference segment and achieved ~50 nm RMS residual piston WFE across the aperture in poor seeing conditions.         |\n",
       "|<p style=\"color:green\"> **ERROR** </p>| <p style=\"color:green\">affiliation error: mpia.affiliation_verifications: 'Heidelberg' keyword not found.</p> |"
      ],
      "text/plain": [
       "<IPython.core.display.Markdown object>"
      ]
     },
     "metadata": {},
     "output_type": "display_data"
    },
    {
     "data": {
      "text/markdown": [
       "\n",
       "|||\n",
       "|---:|:---|\n",
       "| [![arXiv](https://img.shields.io/badge/arXiv-2501.08548-b31b1b.svg)](https://arxiv.org/abs/2501.08548) | **LAMOST medium-resolution spectroscopic survey of Galactic Open Clusters (LAMOST-MRS-O): An overview of survey plan and preliminary results**  |\n",
       "|| <mark>X. Zhang</mark>, et al. |\n",
       "|*Appeared on*| *2025-01-16*|\n",
       "|*Comments*| *16 pages, 11 figures. Accepted for publication in RAA*|\n",
       "|**Abstract**|            As part of the LAMOST medium-resolution spectroscopic survey, the LAMOST-MRS-O is a non-time domain survey that aims to perform medium-resolution spectral observations for member stars in the open cluster area. This survey plans to obtain the spectroscopic parameters such as radial velocity and metal abundances of member stars and provide data support for further study on the chemical and dynamical characteristics and evolution of open clusters in combination with Gaia data. We have completed the observations on ten open cluster fields and obtained 235184 medium-resolution spectra of 133792 stars. Based on the data analyzed of LAMOST DR11V1.1, for some clusters of particular concern, it is found that the sampling ratio of members stars with Gmag < 15 mag can reach 70%, which indicates that the LAMOST-MRS-O has reached our initial design goal.         |\n",
       "|<p style=\"color:green\"> **ERROR** </p>| <p style=\"color:green\">affiliation error: mpia.affiliation_verifications: 'Heidelberg' keyword not found.</p> |"
      ],
      "text/plain": [
       "<IPython.core.display.Markdown object>"
      ]
     },
     "metadata": {},
     "output_type": "display_data"
    },
    {
     "data": {
      "text/markdown": [
       "\n",
       "|||\n",
       "|---:|:---|\n",
       "| [![arXiv](https://img.shields.io/badge/arXiv-2501.08652-b31b1b.svg)](https://arxiv.org/abs/2501.08652) | **The polarisation behaviour of OJ 287 viewed through radio, millimetre and optical observations between 2015 and 2017**  |\n",
       "|| J. Jormanainen, et al. -- incl., <mark>P. Smith</mark> |\n",
       "|*Appeared on*| *2025-01-16*|\n",
       "|*Comments*| *Accepted for publication in A&A*|\n",
       "|**Abstract**|            OJ 287 is a bright blazar with century-long observations, and one of the strongest candidates to host a supermassive black hole binary. Its polarisation behaviour between 2015 and 2017 (MJD 57300-58000) contains several interesting events that we re-contextualise in this study. We collected optical photometric and polarimetric data from several telescopes and obtained high-cadence light curves from this period. In the radio band, we collected mm-wavelength polarisation data from the AMAPOLA program. We combined these with existing multifrequency polarimetric radio results and the results of very-long-baseline-interferometry imaging with the Global mm-VLBI Array at 86 GHz. In December 2015, an optical flare was seen according to the general relativistic binary black hole model. We suggest that the overall activity near the accretion disk and the jet base during this time may be connected to the onset of a new moving component K seen in the jet in March 2017. With the additional optical data, we find a fast polarisation angle rotation of 210 degrees coinciding with the December 2015 flare, hinting at a possible link between these events. Based on the 86-GHz images, we calculated a new speed of 0.12 mas/yr for K, which places it inside the core at the time of the 2015 flare. This speed also supports the scenario where the passage of K through the quasi-stationary feature S1 could have been the trigger for the very-high-energy gamma-ray flare of OJ 287 seen in February 2017. With the mm-polarisation data, we established that these bands follow the cm-band data but show a difference during the time of K passing through S1. This indicates that the mm-bands trace the substructures of the jet still unresolved in the cm-bands.         |\n",
       "|<p style=\"color:green\"> **ERROR** </p>| <p style=\"color:green\">affiliation error: mpia.affiliation_verifications: 'Heidelberg' keyword not found.</p> |"
      ],
      "text/plain": [
       "<IPython.core.display.Markdown object>"
      ]
     },
     "metadata": {},
     "output_type": "display_data"
    },
    {
     "data": {
      "text/markdown": [
       "\n",
       "|||\n",
       "|---:|:---|\n",
       "| [![arXiv](https://img.shields.io/badge/arXiv-2501.08372-b31b1b.svg)](https://arxiv.org/abs/2501.08372) | **Euclid preparation LX. The use of HST images as input for weak-lensing image simulations**  |\n",
       "|| E. Collaboration, et al. -- incl., <mark>K. Jahnke</mark> |\n",
       "|*Appeared on*| *2025-01-16*|\n",
       "|*Comments*| *Accepted by A&A. 23 pages, 20 figures, Euclid pre-launch key paper*|\n",
       "|**Abstract**|            Data from the Euclid space telescope will enable cosmic shear measurements with very small statistical errors, requiring corresponding systematic error control level. A common approach to correct for shear biases involves calibrating shape measurement methods using image simulations with known input shear. Given their high resolution, Hubble Space Telescope (HST) galaxies can, in principle, be utilised to emulate Euclid observations. In this work, we employ a GalSim-based testing environment to investigate whether uncertainties in the HST point spread function (PSF) model or in data processing techniques introduce significant biases in weak-lensing (WL) shear calibration. We used single Sérsic galaxy models to simulate both HST and Euclid observations. We then `Euclidised' our HST simulations and compared the results with the directly simulated Euclid-like images. For this comparison, we utilised a moment-based shape measurement algorithm and galaxy model fits. Through the Euclidisation procedure, we effectively reduced the residual multiplicative biases in shear measurements to sub-percent levels. This achievement was made possible by employing either the native pixel scales of the instruments, utilising the Lanczos15 interpolation kernel, correcting for noise correlations, and ensuring consistent galaxy signal-to-noise ratios between simulation branches. However, the Euclidisation procedure requires further analysis on the impact of the correlated noise, to estimate calibration bias. Additionally, we conducted an in-depth analysis of the accuracy of TinyTim HST PSF models using star fields observed in the F606W and F814W filters. We observe that F606W images exhibit a broader scatter in the recovered best-fit focus, compared to those in the F814W filter.         |\n",
       "|<p style=\"color:red\"> **ERROR** </p>| <p style=\"color:red\">latex error not a gzip file</p> |"
      ],
      "text/plain": [
       "<IPython.core.display.Markdown object>"
      ]
     },
     "metadata": {},
     "output_type": "display_data"
    }
   ],
   "source": [
    "import datetime\n",
    "today = str(datetime.date.today())\n",
    "logfile = f\"_build/html/logs/log-{today}.md\"\n",
    "\n",
    "\n",
    "with open(logfile, 'w') as logs:\n",
    "    # Success\n",
    "    logs.write(f'# Arxiv on Deck 2: Logs - {today}\\n\\n')\n",
    "    logs.write(\"\"\"* Arxiv had {0:,d} new papers\\n\"\"\".format(len(new_papers)))\n",
    "    logs.write(\"\"\"    * {0:,d} with possible author matches\\n\\n\"\"\".format(len(candidates)))\n",
    "    logs.write(\"## Sucessful papers\\n\\n\")\n",
    "    display(Markdown(\"## Successful papers\"))\n",
    "    success = [k[0] for k in documents]\n",
    "    for candid in candidates:\n",
    "        if candid['identifier'].split(':')[-1] in success:\n",
    "            display(candid)\n",
    "            logs.write(candid.generate_markdown_text() + '\\n\\n')\n",
    "\n",
    "    ## failed\n",
    "    logs.write(\"## Failed papers\\n\\n\")\n",
    "    display(Markdown(\"## Failed papers\"))\n",
    "    failed = sorted(failed, key=lambda x: x[1])\n",
    "    current_reason = \"\"\n",
    "    for paper, reason in failed:\n",
    "        if 'affiliation' in reason:\n",
    "            color = 'green'\n",
    "        else:\n",
    "            color = 'red'\n",
    "        data = Markdown(\n",
    "                paper.generate_markdown_text() + \n",
    "                f'\\n|<p style=\"color:{color:s}\"> **ERROR** </p>| <p style=\"color:{color:s}\">{reason:s}</p> |'\n",
    "               )\n",
    "        if reason != current_reason:\n",
    "            logs.write(f'### {reason:s} \\n\\n')\n",
    "            current_reason = reason\n",
    "        logs.write(data.data + '\\n\\n')\n",
    "        \n",
    "        # only display here the important errors (all in logs)\n",
    "        # if color in ('red',):\n",
    "        display(data)"
   ]
  },
  {
   "cell_type": "markdown",
   "id": "472d20ee",
   "metadata": {
    "papermill": {
     "duration": 0.004257,
     "end_time": "2025-01-16T04:10:38.075029",
     "exception": false,
     "start_time": "2025-01-16T04:10:38.070772",
     "status": "completed"
    },
    "tags": []
   },
   "source": [
    "## Export documents\n",
    "\n",
    "We now write the .md files and export relevant images"
   ]
  },
  {
   "cell_type": "code",
   "execution_count": 7,
   "id": "d426aed9",
   "metadata": {
    "execution": {
     "iopub.execute_input": "2025-01-16T04:10:38.084675Z",
     "iopub.status.busy": "2025-01-16T04:10:38.084136Z",
     "iopub.status.idle": "2025-01-16T04:10:38.091129Z",
     "shell.execute_reply": "2025-01-16T04:10:38.090445Z"
    },
    "papermill": {
     "duration": 0.012911,
     "end_time": "2025-01-16T04:10:38.092211",
     "exception": false,
     "start_time": "2025-01-16T04:10:38.079300",
     "status": "completed"
    },
    "tags": []
   },
   "outputs": [],
   "source": [
    "def export_markdown_summary(md: str, md_fname:str, directory: str):\n",
    "    \"\"\"Export MD document and associated relevant images\"\"\"\n",
    "    import os\n",
    "    import shutil\n",
    "    import re\n",
    "\n",
    "    if (os.path.exists(directory) and not os.path.isdir(directory)):\n",
    "        raise RuntimeError(f\"a non-directory file exists with name {directory:s}\")\n",
    "\n",
    "    if (not os.path.exists(directory)):\n",
    "        print(f\"creating directory {directory:s}\")\n",
    "        os.mkdir(directory)\n",
    "\n",
    "    fig_fnames = (re.compile(r'\\[Fig.*\\]\\((.*)\\)').findall(md) + \n",
    "                  re.compile(r'\\<img src=\"([^>\\s]*)\"[^>]*/>').findall(md))\n",
    "    print(\"found figures\", fig_fnames)\n",
    "    for fname in fig_fnames:\n",
    "        if 'http' in fname:\n",
    "            # No need to copy online figures\n",
    "            continue\n",
    "        if not os.path.exists(fname):\n",
    "            print(\"file not found\", fname)\n",
    "            continue\n",
    "        print(\"copying \", fname, \"to\", directory)\n",
    "        destdir = os.path.join(directory, os.path.dirname(fname))\n",
    "        destfname = os.path.join(destdir, os.path.basename(fname))\n",
    "        try:\n",
    "            os.makedirs(destdir)\n",
    "        except FileExistsError:\n",
    "            pass\n",
    "        shutil.copy(fname, destfname)\n",
    "    with open(os.path.join(directory, md_fname), 'w') as fout:\n",
    "        fout.write(md)\n",
    "    print(\"exported in \", os.path.join(directory, md_fname))\n",
    "    [print(\"    + \" + os.path.join(directory,fk)) for fk in fig_fnames]"
   ]
  },
  {
   "cell_type": "code",
   "execution_count": 8,
   "id": "014d04a4",
   "metadata": {
    "execution": {
     "iopub.execute_input": "2025-01-16T04:10:38.101952Z",
     "iopub.status.busy": "2025-01-16T04:10:38.101554Z",
     "iopub.status.idle": "2025-01-16T04:10:38.106599Z",
     "shell.execute_reply": "2025-01-16T04:10:38.106040Z"
    },
    "papermill": {
     "duration": 0.01103,
     "end_time": "2025-01-16T04:10:38.107622",
     "exception": false,
     "start_time": "2025-01-16T04:10:38.096592",
     "status": "completed"
    },
    "tags": []
   },
   "outputs": [
    {
     "name": "stdout",
     "output_type": "stream",
     "text": [
      "found figures ['tmp_2501.08445/./inj_h2o.png', 'tmp_2501.08445/./mcmc_cornerplot.png', 'tmp_2501.08445/./mainmolecules.png']\n",
      "copying  tmp_2501.08445/./inj_h2o.png to _build/html/\n",
      "copying  tmp_2501.08445/./mcmc_cornerplot.png to _build/html/\n",
      "copying  tmp_2501.08445/./mainmolecules.png to _build/html/\n",
      "exported in  _build/html/2501.08445.md\n",
      "    + _build/html/tmp_2501.08445/./inj_h2o.png\n",
      "    + _build/html/tmp_2501.08445/./mcmc_cornerplot.png\n",
      "    + _build/html/tmp_2501.08445/./mainmolecules.png\n"
     ]
    }
   ],
   "source": [
    "for paper_id, md in documents:\n",
    "    export_markdown_summary(md, f\"{paper_id:s}.md\", '_build/html/')"
   ]
  },
  {
   "cell_type": "markdown",
   "id": "f087a0a7",
   "metadata": {
    "papermill": {
     "duration": 0.004305,
     "end_time": "2025-01-16T04:10:38.116319",
     "exception": false,
     "start_time": "2025-01-16T04:10:38.112014",
     "status": "completed"
    },
    "tags": []
   },
   "source": [
    "## Display the papers\n",
    "\n",
    "Not necessary but allows for a quick check."
   ]
  },
  {
   "cell_type": "code",
   "execution_count": 9,
   "id": "fd25f625",
   "metadata": {
    "execution": {
     "iopub.execute_input": "2025-01-16T04:10:38.126332Z",
     "iopub.status.busy": "2025-01-16T04:10:38.125724Z",
     "iopub.status.idle": "2025-01-16T04:10:38.130702Z",
     "shell.execute_reply": "2025-01-16T04:10:38.130030Z"
    },
    "papermill": {
     "duration": 0.011062,
     "end_time": "2025-01-16T04:10:38.131760",
     "exception": false,
     "start_time": "2025-01-16T04:10:38.120698",
     "status": "completed"
    },
    "scrolled": false,
    "tags": []
   },
   "outputs": [
    {
     "data": {
      "text/markdown": [
       "<div class=\"macros\" style=\"visibility:hidden;\">\n",
       "$\\newcommand{\\ensuremath}{}$\n",
       "$\\newcommand{\\xspace}{}$\n",
       "$\\newcommand{\\object}[1]{\\texttt{#1}}$\n",
       "$\\newcommand{\\farcs}{{.}''}$\n",
       "$\\newcommand{\\farcm}{{.}'}$\n",
       "$\\newcommand{\\arcsec}{''}$\n",
       "$\\newcommand{\\arcmin}{'}$\n",
       "$\\newcommand{\\ion}[2]{#1#2}$\n",
       "$\\newcommand{\\textsc}[1]{\\textrm{#1}}$\n",
       "$\\newcommand{\\hl}[1]{\\textrm{#1}}$\n",
       "$\\newcommand{\\footnote}[1]{}$</div>\n",
       "\n",
       "\n",
       "\n",
       "<div id=\"title\">\n",
       "\n",
       "# Deep high-resolution L band spectroscopy in the $\\beta$ Pictoris planetary system$\\thanks{Based on observations from the European Southern Observatory, Chile (Programme 0110.C-4301(A)).}$\n",
       "\n",
       "</div>\n",
       "<div id=\"comments\">\n",
       "\n",
       "[![arXiv](https://img.shields.io/badge/arXiv-2501.08445-b31b1b.svg)](https://arxiv.org/abs/2501.08445)<mark>Appeared on: 2025-01-16</mark> -  _18 pages, 21 figure, accepted for publication in A&A_\n",
       "\n",
       "</div>\n",
       "<div id=\"authors\">\n",
       "\n",
       "M. Janson, et al. -- incl., <mark>P. Molliere</mark>\n",
       "\n",
       "</div>\n",
       "<div id=\"abstract\">\n",
       "\n",
       "**Abstract:** The $\\beta$ Pictoris system, with its two directly imaged planets $\\beta$ Pic b and $\\beta$ Pic c and its well characterised debris disk, is a prime target for detailed characterisation of young planetary systems. Here, we present high-resolution and high-contrast LM band spectroscopy with CRIRES+ of the system, primarily for the purpose of atmospheric characterisation of $\\beta$ Pic b. We developed methods for determining slit geometry and wavelength calibration based on telluric absorption and emission lines, as well as methods for point spread function (PSF) modelling and subtraction, and artificial planet injection, in order to extract and characterise planet spectra at a high signal-to-noise ratio ( $S/N$ ) and spectral fidelity. Through cross-correlation with model spectra, we detected $H_2$ O absorption for planet b in each of the 13 individual observations spanning four different spectral settings. This provides a clear confirmation of previously detected water absorption, and allowed us to derive an exquisite precision on the rotational velocity of $\\beta$ Pic b, $v_{\\rm rot} = 20.36 \\pm 0.31$ km/s, which is consistent within error bars with previous determinations. We also observed a tentative $H_2$ O cross-correlation peak at the expected position and velocity of planet c; the feature is however not at a statistically significant level. Despite a higher sensitivity to SiO than earlier studies, we do not confirm a tentative SiO feature previously reported for planet b. When combining data from different epochs and different observing modes for the strong $H_2$ O feature of planet b, we find that the $S/N$ grows considerably faster when sets of different spectral settings are combined, compared to when multiple data sets of the same spectral setting are combined. This implies that maximising spectral coverage is often more important than maximising integration depth when investigating exoplanetary atmospheres using cross-correlation techniques.\n",
       "\n",
       "</div>\n",
       "\n",
       "<div id=\"div_fig1\">\n",
       "\n",
       "<img src=\"tmp_2501.08445/./inj_h2o.png\" alt=\"Fig11\" width=\"100%\"/>\n",
       "\n",
       "**Figure 11. -** Left: CCFs in units of $S/N$ for $H_2$O in the atmosphere of $\\beta$ Pic b. Thick red line: Actual CCF for the location of the planet. Thick black line: CCF for the location at the opposite side of the star. Thin lines: CCF for injected $H_2$O, colour coded by different volume mixing ratios as shown in the colour bar. Right: $S/N$ of injected signals as function of VMR. The green shaded area shows at which range of VMRs the molecule would have been marginally detectable. (*f:injh2o*)\n",
       "\n",
       "</div>\n",
       "<div id=\"div_fig2\">\n",
       "\n",
       "<img src=\"tmp_2501.08445/./mcmc_cornerplot.png\" alt=\"Fig5\" width=\"100%\"/>\n",
       "\n",
       "**Figure 5. -** Results from MCMC fitting of the spin velocity and limb darkening parameter. Upper left: Histogram for the spin velocity. Upper right: Evolution of the spin velocity (blue) and limb darkening parameter (gold) along the MCMC random walk. Lower left: Correlation between spin velocity and limb darkening. Lower right: Histogram for the limb darkening parameter. (*f:broadening*)\n",
       "\n",
       "</div>\n",
       "<div id=\"div_fig3\">\n",
       "\n",
       "<img src=\"tmp_2501.08445/./mainmolecules.png\" alt=\"Fig6\" width=\"100%\"/>\n",
       "\n",
       "**Figure 6. -** Model spectra after continuum subtraction, showing where strong lines occur for four different molecules: $H_2$O in blue, CO in red, $CH_4$ in green, and SiO in orange. The grey regions are the wavelength ranges covered by our observations. (*f:mainmol*)\n",
       "\n",
       "</div><div id=\"qrcode\"><img src=https://api.qrserver.com/v1/create-qr-code/?size=100x100&data=\"https://arxiv.org/abs/2501.08445\"></div>"
      ],
      "text/plain": [
       "<IPython.core.display.Markdown object>"
      ]
     },
     "metadata": {},
     "output_type": "display_data"
    }
   ],
   "source": [
    "[display(Markdown(k[1])) for k in documents];"
   ]
  },
  {
   "cell_type": "markdown",
   "id": "873873a4",
   "metadata": {
    "papermill": {
     "duration": 0.004464,
     "end_time": "2025-01-16T04:10:38.140958",
     "exception": false,
     "start_time": "2025-01-16T04:10:38.136494",
     "status": "completed"
    },
    "tags": []
   },
   "source": [
    "# Create HTML index"
   ]
  },
  {
   "cell_type": "code",
   "execution_count": 10,
   "id": "cf665672",
   "metadata": {
    "execution": {
     "iopub.execute_input": "2025-01-16T04:10:38.151220Z",
     "iopub.status.busy": "2025-01-16T04:10:38.150853Z",
     "iopub.status.idle": "2025-01-16T04:10:38.159759Z",
     "shell.execute_reply": "2025-01-16T04:10:38.159109Z"
    },
    "papermill": {
     "duration": 0.015213,
     "end_time": "2025-01-16T04:10:38.160814",
     "exception": false,
     "start_time": "2025-01-16T04:10:38.145601",
     "status": "completed"
    },
    "tags": []
   },
   "outputs": [
    {
     "name": "stdout",
     "output_type": "stream",
     "text": [
      "311  publications files modified in the last 7 days.\n"
     ]
    }
   ],
   "source": [
    "from datetime import datetime, timedelta, timezone\n",
    "from glob import glob\n",
    "import os\n",
    "\n",
    "files = glob('_build/html/*.md')\n",
    "days = 7\n",
    "now = datetime.today()\n",
    "res = []\n",
    "for fk in files:\n",
    "    stat_result = os.stat(fk).st_ctime\n",
    "    modified = datetime.fromtimestamp(stat_result, tz=timezone.utc).replace(tzinfo=None)\n",
    "    delta = now.today() - modified\n",
    "    if delta <= timedelta(days=days):\n",
    "        res.append((delta.seconds, fk))\n",
    "res = [k[1] for k in reversed(sorted(res, key=lambda x:x[1]))]\n",
    "npub = len(res)\n",
    "print(len(res), f\" publications files modified in the last {days:d} days.\")\n",
    "# [ print('\\t', k) for k in res ];"
   ]
  },
  {
   "cell_type": "code",
   "execution_count": 11,
   "id": "015de740",
   "metadata": {
    "execution": {
     "iopub.execute_input": "2025-01-16T04:10:38.171320Z",
     "iopub.status.busy": "2025-01-16T04:10:38.170751Z",
     "iopub.status.idle": "2025-01-16T04:10:38.188924Z",
     "shell.execute_reply": "2025-01-16T04:10:38.188368Z"
    },
    "papermill": {
     "duration": 0.024445,
     "end_time": "2025-01-16T04:10:38.190001",
     "exception": false,
     "start_time": "2025-01-16T04:10:38.165556",
     "status": "completed"
    },
    "tags": []
   },
   "outputs": [
    {
     "name": "stdout",
     "output_type": "stream",
     "text": [
      "16  publications in the last 7 days.\n"
     ]
    }
   ],
   "source": [
    "import datetime\n",
    "from glob import glob\n",
    "\n",
    "def get_last_n_days(lst, days=1):\n",
    "    \"\"\" Get the documents from the last n days \"\"\"\n",
    "    sorted_lst = sorted(lst, key=lambda x: x[1], reverse=True)\n",
    "    for fname, date in sorted_lst:\n",
    "        if date >= str(datetime.date.today() - datetime.timedelta(days=days)):\n",
    "            yield fname\n",
    "\n",
    "def extract_appearance_dates(lst_file):\n",
    "    dates = []\n",
    "\n",
    "    def get_date(line):\n",
    "        return line\\\n",
    "            .split('Appeared on:')[-1]\\\n",
    "            .split('</mark>')[0].strip()\n",
    "\n",
    "    for fname in lst:\n",
    "        with open(fname, 'r') as f:\n",
    "            found_date = False\n",
    "            for line in f:\n",
    "                if not found_date:\n",
    "                    if \"Appeared on\" in line:\n",
    "                        found_date = True\n",
    "                        dates.append((fname, get_date(line)))\n",
    "                else:\n",
    "                    break\n",
    "    return dates\n",
    "\n",
    "from glob import glob\n",
    "lst = glob('_build/html/*md')\n",
    "days = 7\n",
    "dates = extract_appearance_dates(lst)\n",
    "res = list(get_last_n_days(dates, days))\n",
    "npub = len(res)\n",
    "print(len(res), f\" publications in the last {days:d} days.\")"
   ]
  },
  {
   "cell_type": "code",
   "execution_count": 12,
   "id": "52ca0208",
   "metadata": {
    "execution": {
     "iopub.execute_input": "2025-01-16T04:10:38.200592Z",
     "iopub.status.busy": "2025-01-16T04:10:38.200184Z",
     "iopub.status.idle": "2025-01-16T04:10:38.205285Z",
     "shell.execute_reply": "2025-01-16T04:10:38.204570Z"
    },
    "papermill": {
     "duration": 0.01158,
     "end_time": "2025-01-16T04:10:38.206391",
     "exception": false,
     "start_time": "2025-01-16T04:10:38.194811",
     "status": "completed"
    },
    "scrolled": false,
    "tags": []
   },
   "outputs": [],
   "source": [
    "def create_carousel(npub=4):\n",
    "    \"\"\" Generate the HTML code for a carousel with `npub` slides \"\"\"\n",
    "    carousel = [\"\"\"  <div class=\"carousel\" \"\"\",\n",
    "                \"\"\"       data-flickity='{ \"autoPlay\": 10000, \"adaptiveHeight\": true, \"resize\": true, \"wrapAround\": true, \"pauseAutoPlayOnHover\": true, \"groupCells\": 1 }' id=\"asyncTypeset\">\"\"\"\n",
    "                ]\n",
    "    \n",
    "    item_str = \"\"\"    <div class=\"carousel-cell\"> <div id=\"slide{k}\" class=\"md_view\">Content {k}</div> </div>\"\"\"\n",
    "    for k in range(1, npub + 1):\n",
    "        carousel.append(item_str.format(k=k))\n",
    "    carousel.append(\"  </div>\")\n",
    "    return '\\n'.join(carousel)\n",
    "\n",
    "def create_grid(npub=4):\n",
    "    \"\"\" Generate the HTML code for a flat grid with `npub` slides \"\"\"\n",
    "    grid = [\"\"\"  <div class=\"grid\"> \"\"\",\n",
    "                ]\n",
    "    \n",
    "    item_str = \"\"\"    <div class=\"grid-item\"> <div id=\"slide{k}\" class=\"md_view\">Content {k}</div> </div>\"\"\"\n",
    "    for k in range(1, npub + 1):\n",
    "        grid.append(item_str.format(k=k))\n",
    "    grid.append(\"  </div>\")\n",
    "    return '\\n'.join(grid)"
   ]
  },
  {
   "cell_type": "code",
   "execution_count": 13,
   "id": "a6eac5b6",
   "metadata": {
    "execution": {
     "iopub.execute_input": "2025-01-16T04:10:38.216950Z",
     "iopub.status.busy": "2025-01-16T04:10:38.216556Z",
     "iopub.status.idle": "2025-01-16T04:10:38.221550Z",
     "shell.execute_reply": "2025-01-16T04:10:38.220979Z"
    },
    "papermill": {
     "duration": 0.011289,
     "end_time": "2025-01-16T04:10:38.222587",
     "exception": false,
     "start_time": "2025-01-16T04:10:38.211298",
     "status": "completed"
    },
    "scrolled": false,
    "tags": []
   },
   "outputs": [],
   "source": [
    "carousel = create_carousel(npub)\n",
    "docs = ', '.join(['\"{0:s}\"'.format(k.split('/')[-1]) for k in res])\n",
    "slides = ', '.join([f'\"slide{k}\"' for k in range(1, npub + 1)])\n",
    "\n",
    "with open(\"daily_template.html\", \"r\") as tpl:\n",
    "    page = tpl.read()\n",
    "    page = page.replace(\"{%-- carousel:s --%}\", carousel)\\\n",
    "               .replace(\"{%-- suptitle:s --%}\",  \"7-day archives\" )\\\n",
    "               .replace(\"{%-- docs:s --%}\", docs)\\\n",
    "               .replace(\"{%-- slides:s --%}\", slides)\n",
    "    \n",
    "with open(\"_build/html/index_7days.html\", 'w') as fout:\n",
    "    fout.write(page)"
   ]
  },
  {
   "cell_type": "code",
   "execution_count": 14,
   "id": "adc1a1ec",
   "metadata": {
    "execution": {
     "iopub.execute_input": "2025-01-16T04:10:38.233039Z",
     "iopub.status.busy": "2025-01-16T04:10:38.232847Z",
     "iopub.status.idle": "2025-01-16T04:10:38.239332Z",
     "shell.execute_reply": "2025-01-16T04:10:38.238805Z"
    },
    "papermill": {
     "duration": 0.012897,
     "end_time": "2025-01-16T04:10:38.240335",
     "exception": false,
     "start_time": "2025-01-16T04:10:38.227438",
     "status": "completed"
    },
    "tags": []
   },
   "outputs": [
    {
     "name": "stdout",
     "output_type": "stream",
     "text": [
      "4  publications in the last day.\n"
     ]
    }
   ],
   "source": [
    "# redo for today\n",
    "days = 1\n",
    "res = list(get_last_n_days(dates, days))\n",
    "npub = len(res)\n",
    "print(len(res), f\" publications in the last day.\")\n",
    "\n",
    "carousel = create_carousel(npub)\n",
    "docs = ', '.join(['\"{0:s}\"'.format(k.split('/')[-1]) for k in res])\n",
    "slides = ', '.join([f'\"slide{k}\"' for k in range(1, npub + 1)])\n",
    "\n",
    "with open(\"daily_template.html\", \"r\") as tpl:\n",
    "    page = tpl.read()\n",
    "    page = page.replace(\"{%-- carousel:s --%}\", carousel)\\\n",
    "               .replace(\"{%-- suptitle:s --%}\",  \"Daily\" )\\\n",
    "               .replace(\"{%-- docs:s --%}\", docs)\\\n",
    "               .replace(\"{%-- slides:s --%}\", slides)\n",
    "    \n",
    "# print(carousel, docs, slides)\n",
    "# print(page)\n",
    "with open(\"_build/html/index_daily.html\", 'w') as fout:\n",
    "    fout.write(page)"
   ]
  },
  {
   "cell_type": "code",
   "execution_count": 15,
   "id": "00eece82",
   "metadata": {
    "execution": {
     "iopub.execute_input": "2025-01-16T04:10:38.250876Z",
     "iopub.status.busy": "2025-01-16T04:10:38.250636Z",
     "iopub.status.idle": "2025-01-16T04:10:38.257199Z",
     "shell.execute_reply": "2025-01-16T04:10:38.256648Z"
    },
    "papermill": {
     "duration": 0.013176,
     "end_time": "2025-01-16T04:10:38.258325",
     "exception": false,
     "start_time": "2025-01-16T04:10:38.245149",
     "status": "completed"
    },
    "scrolled": false,
    "tags": []
   },
   "outputs": [
    {
     "name": "stdout",
     "output_type": "stream",
     "text": [
      "6  6 publications selected.\n"
     ]
    }
   ],
   "source": [
    "# Create the flat grid of the last N papers (fixed number regardless of dates)\n",
    "from itertools import islice \n",
    "\n",
    "npub = 6\n",
    "res = [k[0] for k in (islice(reversed(sorted(dates, key=lambda x: x[1])), 6))]\n",
    "print(len(res), f\" {npub} publications selected.\")\n",
    "\n",
    "grid = create_grid(npub)\n",
    "docs = ', '.join(['\"{0:s}\"'.format(k.split('/')[-1]) for k in res])\n",
    "slides = ', '.join([f'\"slide{k}\"' for k in range(1, npub + 1)])\n",
    "\n",
    "with open(\"grid_template.html\", \"r\") as tpl:\n",
    "    page = tpl.read()\n",
    "    page = page.replace(\"{%-- grid-content:s --%}\", grid)\\\n",
    "               .replace(\"{%-- suptitle:s --%}\",  f\"Last {npub:,d} papers\" )\\\n",
    "               .replace(\"{%-- docs:s --%}\", docs)\\\n",
    "               .replace(\"{%-- slides:s --%}\", slides)\n",
    "    \n",
    "# print(grid, docs, slides)\n",
    "# print(page)\n",
    "with open(\"_build/html/index_npub_grid.html\", 'w') as fout:\n",
    "    fout.write(page)"
   ]
  }
 ],
 "metadata": {
  "kernelspec": {
   "display_name": "Python 3 (ipykernel)",
   "language": "python",
   "name": "python3"
  },
  "language_info": {
   "codemirror_mode": {
    "name": "ipython",
    "version": 3
   },
   "file_extension": ".py",
   "mimetype": "text/x-python",
   "name": "python",
   "nbconvert_exporter": "python",
   "pygments_lexer": "ipython3",
   "version": "3.9.21"
  },
  "papermill": {
   "default_parameters": {},
   "duration": 23.344765,
   "end_time": "2025-01-16T04:10:38.479273",
   "environment_variables": {},
   "exception": null,
   "input_path": "MPIA daily digest.ipynb",
   "output_path": "log.ipynb",
   "parameters": {},
   "start_time": "2025-01-16T04:10:15.134508",
   "version": "2.6.0"
  },
  "vscode": {
   "interpreter": {
    "hash": "aee8b7b246df8f9039afb4144a1f6fd8d2ca17a180786b69acc140d282b71a49"
   }
  },
  "widgets": {
   "application/vnd.jupyter.widget-state+json": {
    "state": {
     "0011c95f49e4419ea5c20973452fd9ef": {
      "model_module": "@jupyter-widgets/base",
      "model_module_version": "2.0.0",
      "model_name": "LayoutModel",
      "state": {
       "_model_module": "@jupyter-widgets/base",
       "_model_module_version": "2.0.0",
       "_model_name": "LayoutModel",
       "_view_count": null,
       "_view_module": "@jupyter-widgets/base",
       "_view_module_version": "2.0.0",
       "_view_name": "LayoutView",
       "align_content": null,
       "align_items": null,
       "align_self": null,
       "border_bottom": null,
       "border_left": null,
       "border_right": null,
       "border_top": null,
       "bottom": null,
       "display": null,
       "flex": null,
       "flex_flow": null,
       "grid_area": null,
       "grid_auto_columns": null,
       "grid_auto_flow": null,
       "grid_auto_rows": null,
       "grid_column": null,
       "grid_gap": null,
       "grid_row": null,
       "grid_template_areas": null,
       "grid_template_columns": null,
       "grid_template_rows": null,
       "height": null,
       "justify_content": null,
       "justify_items": null,
       "left": null,
       "margin": null,
       "max_height": null,
       "max_width": null,
       "min_height": null,
       "min_width": null,
       "object_fit": null,
       "object_position": null,
       "order": null,
       "overflow": null,
       "padding": null,
       "right": null,
       "top": null,
       "visibility": null,
       "width": null
      }
     },
     "03d98665d9824bb39fcca20990a8e8c4": {
      "model_module": "@jupyter-widgets/controls",
      "model_module_version": "2.0.0",
      "model_name": "HTMLModel",
      "state": {
       "_dom_classes": [],
       "_model_module": "@jupyter-widgets/controls",
       "_model_module_version": "2.0.0",
       "_model_name": "HTMLModel",
       "_view_count": null,
       "_view_module": "@jupyter-widgets/controls",
       "_view_module_version": "2.0.0",
       "_view_name": "HTMLView",
       "description": "",
       "description_allow_html": false,
       "layout": "IPY_MODEL_b7587eb6956146829b982af55947b41c",
       "placeholder": "​",
       "style": "IPY_MODEL_e9844c5925634969af25461151438747",
       "tabbable": null,
       "tooltip": null,
       "value": "100%"
      }
     },
     "1be9aa5d1a034c6f90a9db19e1bc783d": {
      "model_module": "@jupyter-widgets/controls",
      "model_module_version": "2.0.0",
      "model_name": "FloatProgressModel",
      "state": {
       "_dom_classes": [],
       "_model_module": "@jupyter-widgets/controls",
       "_model_module_version": "2.0.0",
       "_model_name": "FloatProgressModel",
       "_view_count": null,
       "_view_module": "@jupyter-widgets/controls",
       "_view_module_version": "2.0.0",
       "_view_name": "ProgressView",
       "bar_style": "success",
       "description": "",
       "description_allow_html": false,
       "layout": "IPY_MODEL_0011c95f49e4419ea5c20973452fd9ef",
       "max": 5.0,
       "min": 0.0,
       "orientation": "horizontal",
       "style": "IPY_MODEL_8292904e8bbd44879cab30995c0872c7",
       "tabbable": null,
       "tooltip": null,
       "value": 5.0
      }
     },
     "3a0b0a0a0e5b4d45a9ed44155774ebc8": {
      "model_module": "@jupyter-widgets/controls",
      "model_module_version": "2.0.0",
      "model_name": "HTMLModel",
      "state": {
       "_dom_classes": [],
       "_model_module": "@jupyter-widgets/controls",
       "_model_module_version": "2.0.0",
       "_model_name": "HTMLModel",
       "_view_count": null,
       "_view_module": "@jupyter-widgets/controls",
       "_view_module_version": "2.0.0",
       "_view_name": "HTMLView",
       "description": "",
       "description_allow_html": false,
       "layout": "IPY_MODEL_cd153f728d384dd5ada63bdcfa2409c4",
       "placeholder": "​",
       "style": "IPY_MODEL_ebbccce0dfbb4ad28109e117641fa747",
       "tabbable": null,
       "tooltip": null,
       "value": " 5/5 [00:06&lt;00:00,  1.02s/it]"
      }
     },
     "5f8342e6ee8f4325bd64c51f2fa021a2": {
      "model_module": "@jupyter-widgets/base",
      "model_module_version": "2.0.0",
      "model_name": "LayoutModel",
      "state": {
       "_model_module": "@jupyter-widgets/base",
       "_model_module_version": "2.0.0",
       "_model_name": "LayoutModel",
       "_view_count": null,
       "_view_module": "@jupyter-widgets/base",
       "_view_module_version": "2.0.0",
       "_view_name": "LayoutView",
       "align_content": null,
       "align_items": null,
       "align_self": null,
       "border_bottom": null,
       "border_left": null,
       "border_right": null,
       "border_top": null,
       "bottom": null,
       "display": null,
       "flex": null,
       "flex_flow": null,
       "grid_area": null,
       "grid_auto_columns": null,
       "grid_auto_flow": null,
       "grid_auto_rows": null,
       "grid_column": null,
       "grid_gap": null,
       "grid_row": null,
       "grid_template_areas": null,
       "grid_template_columns": null,
       "grid_template_rows": null,
       "height": null,
       "justify_content": null,
       "justify_items": null,
       "left": null,
       "margin": null,
       "max_height": null,
       "max_width": null,
       "min_height": null,
       "min_width": null,
       "object_fit": null,
       "object_position": null,
       "order": null,
       "overflow": null,
       "padding": null,
       "right": null,
       "top": null,
       "visibility": null,
       "width": null
      }
     },
     "8292904e8bbd44879cab30995c0872c7": {
      "model_module": "@jupyter-widgets/controls",
      "model_module_version": "2.0.0",
      "model_name": "ProgressStyleModel",
      "state": {
       "_model_module": "@jupyter-widgets/controls",
       "_model_module_version": "2.0.0",
       "_model_name": "ProgressStyleModel",
       "_view_count": null,
       "_view_module": "@jupyter-widgets/base",
       "_view_module_version": "2.0.0",
       "_view_name": "StyleView",
       "bar_color": null,
       "description_width": ""
      }
     },
     "b7587eb6956146829b982af55947b41c": {
      "model_module": "@jupyter-widgets/base",
      "model_module_version": "2.0.0",
      "model_name": "LayoutModel",
      "state": {
       "_model_module": "@jupyter-widgets/base",
       "_model_module_version": "2.0.0",
       "_model_name": "LayoutModel",
       "_view_count": null,
       "_view_module": "@jupyter-widgets/base",
       "_view_module_version": "2.0.0",
       "_view_name": "LayoutView",
       "align_content": null,
       "align_items": null,
       "align_self": null,
       "border_bottom": null,
       "border_left": null,
       "border_right": null,
       "border_top": null,
       "bottom": null,
       "display": null,
       "flex": null,
       "flex_flow": null,
       "grid_area": null,
       "grid_auto_columns": null,
       "grid_auto_flow": null,
       "grid_auto_rows": null,
       "grid_column": null,
       "grid_gap": null,
       "grid_row": null,
       "grid_template_areas": null,
       "grid_template_columns": null,
       "grid_template_rows": null,
       "height": null,
       "justify_content": null,
       "justify_items": null,
       "left": null,
       "margin": null,
       "max_height": null,
       "max_width": null,
       "min_height": null,
       "min_width": null,
       "object_fit": null,
       "object_position": null,
       "order": null,
       "overflow": null,
       "padding": null,
       "right": null,
       "top": null,
       "visibility": null,
       "width": null
      }
     },
     "c7e9aae46a0941488fdd7dfc51bb980b": {
      "model_module": "@jupyter-widgets/controls",
      "model_module_version": "2.0.0",
      "model_name": "HBoxModel",
      "state": {
       "_dom_classes": [],
       "_model_module": "@jupyter-widgets/controls",
       "_model_module_version": "2.0.0",
       "_model_name": "HBoxModel",
       "_view_count": null,
       "_view_module": "@jupyter-widgets/controls",
       "_view_module_version": "2.0.0",
       "_view_name": "HBoxView",
       "box_style": "",
       "children": [
        "IPY_MODEL_03d98665d9824bb39fcca20990a8e8c4",
        "IPY_MODEL_1be9aa5d1a034c6f90a9db19e1bc783d",
        "IPY_MODEL_3a0b0a0a0e5b4d45a9ed44155774ebc8"
       ],
       "layout": "IPY_MODEL_5f8342e6ee8f4325bd64c51f2fa021a2",
       "tabbable": null,
       "tooltip": null
      }
     },
     "cd153f728d384dd5ada63bdcfa2409c4": {
      "model_module": "@jupyter-widgets/base",
      "model_module_version": "2.0.0",
      "model_name": "LayoutModel",
      "state": {
       "_model_module": "@jupyter-widgets/base",
       "_model_module_version": "2.0.0",
       "_model_name": "LayoutModel",
       "_view_count": null,
       "_view_module": "@jupyter-widgets/base",
       "_view_module_version": "2.0.0",
       "_view_name": "LayoutView",
       "align_content": null,
       "align_items": null,
       "align_self": null,
       "border_bottom": null,
       "border_left": null,
       "border_right": null,
       "border_top": null,
       "bottom": null,
       "display": null,
       "flex": null,
       "flex_flow": null,
       "grid_area": null,
       "grid_auto_columns": null,
       "grid_auto_flow": null,
       "grid_auto_rows": null,
       "grid_column": null,
       "grid_gap": null,
       "grid_row": null,
       "grid_template_areas": null,
       "grid_template_columns": null,
       "grid_template_rows": null,
       "height": null,
       "justify_content": null,
       "justify_items": null,
       "left": null,
       "margin": null,
       "max_height": null,
       "max_width": null,
       "min_height": null,
       "min_width": null,
       "object_fit": null,
       "object_position": null,
       "order": null,
       "overflow": null,
       "padding": null,
       "right": null,
       "top": null,
       "visibility": null,
       "width": null
      }
     },
     "e9844c5925634969af25461151438747": {
      "model_module": "@jupyter-widgets/controls",
      "model_module_version": "2.0.0",
      "model_name": "HTMLStyleModel",
      "state": {
       "_model_module": "@jupyter-widgets/controls",
       "_model_module_version": "2.0.0",
       "_model_name": "HTMLStyleModel",
       "_view_count": null,
       "_view_module": "@jupyter-widgets/base",
       "_view_module_version": "2.0.0",
       "_view_name": "StyleView",
       "background": null,
       "description_width": "",
       "font_size": null,
       "text_color": null
      }
     },
     "ebbccce0dfbb4ad28109e117641fa747": {
      "model_module": "@jupyter-widgets/controls",
      "model_module_version": "2.0.0",
      "model_name": "HTMLStyleModel",
      "state": {
       "_model_module": "@jupyter-widgets/controls",
       "_model_module_version": "2.0.0",
       "_model_name": "HTMLStyleModel",
       "_view_count": null,
       "_view_module": "@jupyter-widgets/base",
       "_view_module_version": "2.0.0",
       "_view_name": "StyleView",
       "background": null,
       "description_width": "",
       "font_size": null,
       "text_color": null
      }
     }
    },
    "version_major": 2,
    "version_minor": 0
   }
  }
 },
 "nbformat": 4,
 "nbformat_minor": 5
}