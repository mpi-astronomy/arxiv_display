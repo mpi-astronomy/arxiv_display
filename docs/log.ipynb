{
 "cells": [
  {
   "cell_type": "markdown",
   "id": "92bcb855",
   "metadata": {
    "papermill": {
     "duration": 0.006275,
     "end_time": "2023-03-16T04:07:59.044395",
     "exception": false,
     "start_time": "2023-03-16T04:07:59.038120",
     "status": "completed"
    },
    "tags": []
   },
   "source": [
    "# MPIA Arxiv on Deck 2\n",
    "\n",
    "Contains the steps to produce the paper extractions."
   ]
  },
  {
   "cell_type": "code",
   "execution_count": 1,
   "id": "3a0d6e11",
   "metadata": {
    "execution": {
     "iopub.execute_input": "2023-03-16T04:07:59.060102Z",
     "iopub.status.busy": "2023-03-16T04:07:59.059374Z",
     "iopub.status.idle": "2023-03-16T04:07:59.346677Z",
     "shell.execute_reply": "2023-03-16T04:07:59.345091Z"
    },
    "papermill": {
     "duration": 0.300035,
     "end_time": "2023-03-16T04:07:59.349545",
     "exception": false,
     "start_time": "2023-03-16T04:07:59.049510",
     "status": "completed"
    },
    "tags": []
   },
   "outputs": [],
   "source": [
    "# Imports\n",
    "import os\n",
    "from IPython.display import Markdown, display\n",
    "from tqdm.notebook import tqdm\n",
    "import warnings\n",
    "from PIL import Image \n",
    "\n",
    "# requires arxiv_on_deck_2\n",
    "\n",
    "from arxiv_on_deck_2.arxiv2 import (get_new_papers, \n",
    "                                    get_paper_from_identifier,\n",
    "                                    retrieve_document_source, \n",
    "                                    get_markdown_badge)\n",
    "from arxiv_on_deck_2 import (latex,\n",
    "                             latex_bib,\n",
    "                             mpia,\n",
    "                             highlight_authors_in_list)\n",
    "\n",
    "# Sometimes images are really big\n",
    "Image.MAX_IMAGE_PIXELS = 1000000000 "
   ]
  },
  {
   "cell_type": "code",
   "execution_count": 2,
   "id": "22aa9d44",
   "metadata": {
    "execution": {
     "iopub.execute_input": "2023-03-16T04:07:59.362903Z",
     "iopub.status.busy": "2023-03-16T04:07:59.362595Z",
     "iopub.status.idle": "2023-03-16T04:07:59.370534Z",
     "shell.execute_reply": "2023-03-16T04:07:59.369632Z"
    },
    "papermill": {
     "duration": 0.016163,
     "end_time": "2023-03-16T04:07:59.372674",
     "exception": false,
     "start_time": "2023-03-16T04:07:59.356511",
     "status": "completed"
    },
    "tags": []
   },
   "outputs": [],
   "source": [
    "# Some useful definitions.\n",
    "\n",
    "class AffiliationWarning(UserWarning):\n",
    "    pass\n",
    "\n",
    "class AffiliationError(RuntimeError):\n",
    "    pass\n",
    "\n",
    "def validation(source: str):\n",
    "    \"\"\"Raises error paper during parsing of source file\n",
    "    \n",
    "    Allows checks before parsing TeX code.\n",
    "    \n",
    "    Raises AffiliationWarning\n",
    "    \"\"\"\n",
    "    check = mpia.affiliation_verifications(source, verbose=True)\n",
    "    if check is not True:\n",
    "        raise AffiliationError(\"mpia.affiliation_verifications: \" + check)\n",
    "\n",
    "        \n",
    "warnings.simplefilter('always', AffiliationWarning)"
   ]
  },
  {
   "cell_type": "code",
   "execution_count": 3,
   "id": "14622700",
   "metadata": {
    "execution": {
     "iopub.execute_input": "2023-03-16T04:07:59.383684Z",
     "iopub.status.busy": "2023-03-16T04:07:59.383350Z",
     "iopub.status.idle": "2023-03-16T04:07:59.388034Z",
     "shell.execute_reply": "2023-03-16T04:07:59.387184Z"
    },
    "papermill": {
     "duration": 0.01277,
     "end_time": "2023-03-16T04:07:59.390204",
     "exception": false,
     "start_time": "2023-03-16T04:07:59.377434",
     "status": "completed"
    },
    "tags": []
   },
   "outputs": [],
   "source": [
    "# additional CSS to consider. \n",
    "# TODO: Current into each exported file. \n",
    "#       This should be set once into the webpages directly.\n",
    "#       With only the class/id definitions in the .md files.\n",
    "\n",
    "debug_html = \"\"\"\n",
    "<style>\n",
    "#wrap{ overflow:auto; }\n",
    "#fig1{ background:yellow; width:100%; float:left; padding:5px;  }\n",
    "#fig2{ background:red; width:50%; float:left; clear:left; padding:5px;  }\n",
    "#fig3{ background:green; width:50%; float:left; padding:5px;   }\n",
    ".macros{ background:yellow; visibility:visible;}\n",
    "h1 {margin: 0 0 0 0;}\n",
    "mark {background-color:#fff3b6;}\n",
    "img {object-fit:contain; max-height:250px; display:inline-block; text-align: center;}\n",
    "</style>\n",
    "\"\"\" \n",
    "html = \"\"\"\n",
    "<style>\n",
    "#wrap{ overflow:auto; }\n",
    "#fig1{ width:100%; float:left; padding: 5px;  }\n",
    "#fig2{ width:50%; float:left; clear:left; padding: 5px;  }\n",
    "#fig3{ width:50%; float:left; padding: 5px;  }\n",
    ".macros{ visibility:hidden; height:0px; }\n",
    "h1 {margin: 0em 0 0 0;}\n",
    "mark {background-color:#fff3b6;}\n",
    "img {object-fit:contain; max-height:250px; display:inline-block; text-align: center;}\n",
    "</style>\n",
    "\"\"\""
   ]
  },
  {
   "cell_type": "markdown",
   "id": "14bd6310",
   "metadata": {
    "papermill": {
     "duration": 0.004977,
     "end_time": "2023-03-16T04:07:59.399970",
     "exception": false,
     "start_time": "2023-03-16T04:07:59.394993",
     "status": "completed"
    },
    "tags": []
   },
   "source": [
    "## get list of arxiv paper candidates\n",
    "\n",
    "We use the MPIA mitarbeiter list webpage from mpia.de to get author names\n",
    "We then get all new papers from Arxiv and match authors"
   ]
  },
  {
   "cell_type": "code",
   "execution_count": 4,
   "id": "2645e73a",
   "metadata": {
    "execution": {
     "iopub.execute_input": "2023-03-16T04:07:59.411466Z",
     "iopub.status.busy": "2023-03-16T04:07:59.410470Z",
     "iopub.status.idle": "2023-03-16T04:08:26.648448Z",
     "shell.execute_reply": "2023-03-16T04:08:26.647434Z"
    },
    "papermill": {
     "duration": 27.246449,
     "end_time": "2023-03-16T04:08:26.650979",
     "exception": false,
     "start_time": "2023-03-16T04:07:59.404530",
     "status": "completed"
    },
    "tags": []
   },
   "outputs": [
    {
     "name": "stdout",
     "output_type": "stream",
     "text": [
      "Arxiv has 51 new papers today\n",
      "          18 with possible author matches\n"
     ]
    }
   ],
   "source": [
    "# get list from MPIA website\n",
    "# it automatically filters identified non-scientists :func:`mpia.filter_non_scientists`\n",
    "mpia_authors = mpia.get_mpia_mitarbeiter_list()\n",
    "new_papers = get_new_papers()\n",
    "# add manual references\n",
    "add_paper_refs = []\n",
    "new_papers.extend([get_paper_from_identifier(k) for k in add_paper_refs])\n",
    "\n",
    "# select only papers with matching author names and highlight authors\n",
    "hl_list = [k[0] for k in mpia_authors]\n",
    "\n",
    "candidates = []\n",
    "for paperk in new_papers:\n",
    "    hl_authors = highlight_authors_in_list(paperk['authors'], hl_list)\n",
    "    matches = [(hl, orig) for hl, orig in zip(hl_authors, paperk['authors']) if 'mark' in hl]\n",
    "    paperk['authors'] = hl_authors\n",
    "    if matches:\n",
    "        candidates.append(paperk)\n",
    "print(\"\"\"Arxiv has {0:,d} new papers today\"\"\".format(len(new_papers)))        \n",
    "print(\"\"\"          {0:,d} with possible author matches\"\"\".format(len(candidates)))"
   ]
  },
  {
   "cell_type": "markdown",
   "id": "3543b34a",
   "metadata": {
    "papermill": {
     "duration": 0.004648,
     "end_time": "2023-03-16T04:08:26.661167",
     "exception": false,
     "start_time": "2023-03-16T04:08:26.656519",
     "status": "completed"
    },
    "tags": []
   },
   "source": [
    "# Parse sources and generate relevant outputs\n",
    "\n",
    "From the candidates, we do the following steps:\n",
    "* get their tarball from ArXiv (and extract data)\n",
    "* find the main .tex file: find one with \\documentclass{...} (sometimes it's non trivial)\n",
    "* Check affiliations with :func:`validation`, which uses :func:`mpia.affiliation_verifications`\n",
    "* If passing the affiliations: we parse the .tex source\n",
    "   * inject sub-documents into the main (flatten the main document)\n",
    "   * parse structure, extract information (title, abstract, authors, figures...)\n",
    "   * handles `\\graphicspath` if provided\n",
    "* Generate the .md document."
   ]
  },
  {
   "cell_type": "code",
   "execution_count": 5,
   "id": "9576b79e",
   "metadata": {
    "execution": {
     "iopub.execute_input": "2023-03-16T04:08:26.672562Z",
     "iopub.status.busy": "2023-03-16T04:08:26.672262Z",
     "iopub.status.idle": "2023-03-16T04:09:45.777023Z",
     "shell.execute_reply": "2023-03-16T04:09:45.776097Z"
    },
    "papermill": {
     "duration": 79.114259,
     "end_time": "2023-03-16T04:09:45.780230",
     "exception": false,
     "start_time": "2023-03-16T04:08:26.665971",
     "status": "completed"
    },
    "scrolled": false,
    "tags": []
   },
   "outputs": [
    {
     "data": {
      "application/vnd.jupyter.widget-view+json": {
       "model_id": "4ddfc5c678f446a8a303c031131b056d",
       "version_major": 2,
       "version_minor": 0
      },
      "text/plain": [
       "  0%|          | 0/17 [00:00<?, ?it/s]"
      ]
     },
     "metadata": {},
     "output_type": "display_data"
    },
    {
     "name": "stdout",
     "output_type": "stream",
     "text": [
      "Retrieving document from  https://arxiv.org/e-print/2303.08150\n"
     ]
    },
    {
     "name": "stdout",
     "output_type": "stream",
     "text": [
      "extracting tarball to tmp_2303.08150..."
     ]
    },
    {
     "name": "stdout",
     "output_type": "stream",
     "text": [
      " done.\n",
      "Retrieving document from  https://arxiv.org/e-print/2303.08170\n"
     ]
    },
    {
     "name": "stdout",
     "output_type": "stream",
     "text": [
      "extracting tarball to tmp_2303.08170..."
     ]
    },
    {
     "name": "stdout",
     "output_type": "stream",
     "text": [
      " done.\n"
     ]
    },
    {
     "name": "stderr",
     "output_type": "stream",
     "text": [
      "/tmp/ipykernel_2011/4289671964.py:41: LatexWarning: 2303.08170 did not run properly\n",
      "list index out of range\n",
      "  warnings.warn(latex.LatexWarning(f\"{paper_id:s} did not run properly\\n\" +\n"
     ]
    },
    {
     "name": "stdout",
     "output_type": "stream",
     "text": [
      "Retrieving document from  https://arxiv.org/e-print/2303.08174\n"
     ]
    },
    {
     "name": "stdout",
     "output_type": "stream",
     "text": [
      "extracting tarball to tmp_2303.08174..."
     ]
    },
    {
     "name": "stdout",
     "output_type": "stream",
     "text": [
      " done.\n"
     ]
    },
    {
     "name": "stdout",
     "output_type": "stream",
     "text": [
      "Found 222 bibliographic references in tmp_2303.08174/TOI2096.bbl.\n",
      "syntax error in line 1187: '=' expected\n",
      "Retrieving document from  https://arxiv.org/e-print/2303.08198\n"
     ]
    },
    {
     "name": "stdout",
     "output_type": "stream",
     "text": [
      "extracting tarball to tmp_2303.08198..."
     ]
    },
    {
     "name": "stdout",
     "output_type": "stream",
     "text": [
      " done.\n",
      "Retrieving document from  https://arxiv.org/e-print/2303.08201\n"
     ]
    },
    {
     "name": "stdout",
     "output_type": "stream",
     "text": [
      "extracting tarball to tmp_2303.08201..."
     ]
    },
    {
     "name": "stdout",
     "output_type": "stream",
     "text": [
      " done.\n",
      "Retrieving document from  https://arxiv.org/e-print/2303.08313\n"
     ]
    },
    {
     "name": "stdout",
     "output_type": "stream",
     "text": [
      "extracting tarball to tmp_2303.08313..."
     ]
    },
    {
     "name": "stdout",
     "output_type": "stream",
     "text": [
      " done.\n",
      "Retrieving document from  https://arxiv.org/e-print/2303.08328\n"
     ]
    },
    {
     "name": "stdout",
     "output_type": "stream",
     "text": [
      "extracting tarball to tmp_2303.08328..."
     ]
    },
    {
     "name": "stdout",
     "output_type": "stream",
     "text": [
      " done.\n",
      "Retrieving document from  https://arxiv.org/e-print/2303.08344\n"
     ]
    },
    {
     "name": "stderr",
     "output_type": "stream",
     "text": [
      "/opt/hostedtoolcache/Python/3.9.16/x64/lib/python3.9/site-packages/IPython/core/interactiveshell.py:3460: LatexWarning: Multiple tex files.\n",
      "\n",
      "  exec(code_obj, self.user_global_ns, self.user_ns)\n",
      "/opt/hostedtoolcache/Python/3.9.16/x64/lib/python3.9/site-packages/IPython/core/interactiveshell.py:3460: LatexWarning: Found documentclass in tmp_2303.08328/stcherbinine2023_emirs_ice_ArXiv.tex\n",
      "\n",
      "  exec(code_obj, self.user_global_ns, self.user_ns)\n"
     ]
    },
    {
     "name": "stdout",
     "output_type": "stream",
     "text": [
      "extracting tarball to tmp_2303.08344..."
     ]
    },
    {
     "name": "stdout",
     "output_type": "stream",
     "text": [
      " done.\n",
      "Retrieving document from  https://arxiv.org/e-print/2303.08357\n"
     ]
    },
    {
     "name": "stdout",
     "output_type": "stream",
     "text": [
      "extracting tarball to tmp_2303.08357... done.\n",
      "Retrieving document from  https://arxiv.org/e-print/2303.08388\n"
     ]
    },
    {
     "name": "stdout",
     "output_type": "stream",
     "text": [
      "extracting tarball to tmp_2303.08388..."
     ]
    },
    {
     "name": "stdout",
     "output_type": "stream",
     "text": [
      " done.\n",
      "Retrieving document from  https://arxiv.org/e-print/2303.08390\n"
     ]
    },
    {
     "name": "stderr",
     "output_type": "stream",
     "text": [
      "/opt/hostedtoolcache/Python/3.9.16/x64/lib/python3.9/site-packages/IPython/core/interactiveshell.py:3460: LatexWarning: Multiple tex files.\n",
      "\n",
      "  exec(code_obj, self.user_global_ns, self.user_ns)\n",
      "/opt/hostedtoolcache/Python/3.9.16/x64/lib/python3.9/site-packages/IPython/core/interactiveshell.py:3460: LatexWarning: Found documentclass in tmp_2303.08388/main.tex\n",
      "\n",
      "  exec(code_obj, self.user_global_ns, self.user_ns)\n"
     ]
    },
    {
     "name": "stdout",
     "output_type": "stream",
     "text": [
      "extracting tarball to tmp_2303.08390..."
     ]
    },
    {
     "name": "stdout",
     "output_type": "stream",
     "text": [
      " done.\n",
      "Retrieving document from  https://arxiv.org/e-print/2303.08410\n"
     ]
    },
    {
     "name": "stdout",
     "output_type": "stream",
     "text": [
      "extracting tarball to tmp_2303.08410... done.\n",
      "Retrieving document from  https://arxiv.org/e-print/2303.08425\n"
     ]
    },
    {
     "name": "stdout",
     "output_type": "stream",
     "text": [
      "extracting tarball to tmp_2303.08425..."
     ]
    },
    {
     "name": "stdout",
     "output_type": "stream",
     "text": [
      " done.\n",
      "Retrieving document from  https://arxiv.org/e-print/2303.08472\n"
     ]
    },
    {
     "name": "stderr",
     "output_type": "stream",
     "text": [
      "/opt/hostedtoolcache/Python/3.9.16/x64/lib/python3.9/site-packages/IPython/core/interactiveshell.py:3460: LatexWarning: Multiple tex files.\n",
      "\n",
      "  exec(code_obj, self.user_global_ns, self.user_ns)\n",
      "/opt/hostedtoolcache/Python/3.9.16/x64/lib/python3.9/site-packages/IPython/core/interactiveshell.py:3460: LatexWarning: Found documentclass in tmp_2303.08425/NIMA_image_lag_of_CMOS.tex\n",
      "\n",
      "  exec(code_obj, self.user_global_ns, self.user_ns)\n"
     ]
    },
    {
     "name": "stdout",
     "output_type": "stream",
     "text": [
      "extracting tarball to tmp_2303.08472..."
     ]
    },
    {
     "name": "stdout",
     "output_type": "stream",
     "text": [
      " done.\n",
      "Retrieving document from  https://arxiv.org/e-print/2303.08474\n"
     ]
    },
    {
     "name": "stderr",
     "output_type": "stream",
     "text": [
      "/opt/hostedtoolcache/Python/3.9.16/x64/lib/python3.9/site-packages/IPython/core/interactiveshell.py:3460: LatexWarning: Multiple tex files.\n",
      "\n",
      "  exec(code_obj, self.user_global_ns, self.user_ns)\n",
      "/opt/hostedtoolcache/Python/3.9.16/x64/lib/python3.9/site-packages/IPython/core/interactiveshell.py:3460: LatexWarning: Found documentclass in tmp_2303.08472/pixeq_paper.tex\n",
      "\n",
      "  exec(code_obj, self.user_global_ns, self.user_ns)\n"
     ]
    },
    {
     "name": "stdout",
     "output_type": "stream",
     "text": [
      "extracting tarball to tmp_2303.08474..."
     ]
    },
    {
     "name": "stdout",
     "output_type": "stream",
     "text": [
      " done.\n",
      "Retrieving document from  https://arxiv.org/e-print/2303.08643\n"
     ]
    },
    {
     "name": "stdout",
     "output_type": "stream",
     "text": [
      "extracting tarball to tmp_2303.08643..."
     ]
    },
    {
     "name": "stdout",
     "output_type": "stream",
     "text": [
      " done.\n",
      "Retrieving document from  https://arxiv.org/e-print/2303.08749\n"
     ]
    },
    {
     "name": "stderr",
     "output_type": "stream",
     "text": [
      "/opt/hostedtoolcache/Python/3.9.16/x64/lib/python3.9/site-packages/IPython/core/interactiveshell.py:3460: LatexWarning: Multiple tex files.\n",
      "\n",
      "  exec(code_obj, self.user_global_ns, self.user_ns)\n",
      "/opt/hostedtoolcache/Python/3.9.16/x64/lib/python3.9/site-packages/IPython/core/interactiveshell.py:3460: LatexWarning: Found documentclass in tmp_2303.08643/new.ms.tex\n",
      "\n",
      "  exec(code_obj, self.user_global_ns, self.user_ns)\n"
     ]
    },
    {
     "name": "stdout",
     "output_type": "stream",
     "text": [
      "extracting tarball to tmp_2303.08749..."
     ]
    },
    {
     "name": "stdout",
     "output_type": "stream",
     "text": [
      " done.\n"
     ]
    }
   ],
   "source": [
    "documents = []\n",
    "failed = []\n",
    "for paper in tqdm(candidates[:-1]):\n",
    "    paper_id = paper['identifier'].lower().replace('arxiv:', '')\n",
    "    \n",
    "    folder = f'tmp_{paper_id}'\n",
    "\n",
    "    try:\n",
    "        if not os.path.isdir(folder):\n",
    "            folder = retrieve_document_source(f\"{paper_id}\", f'tmp_{paper_id}')\n",
    "        \n",
    "        try:\n",
    "            doc = latex.LatexDocument(folder, validation=validation)    \n",
    "        except AffiliationError as affilerror:\n",
    "            msg = f\"ArXiv:{paper_id:s} is not an MPIA paper... \" + str(affilerror)\n",
    "            failed.append((paper, \"affiliation error: \" + str(affilerror) ))\n",
    "            continue\n",
    "        \n",
    "        # Hack because sometimes author parsing does not work well\n",
    "        if (len(doc.authors) != len(paper['authors'])):\n",
    "            doc._authors = paper['authors']\n",
    "        if (doc.abstract) in (None, ''):\n",
    "            doc._abstract = paper['abstract']\n",
    "            \n",
    "        doc.comment = (get_markdown_badge(paper_id) + \n",
    "                       \"<mark>Appeared on: \" + paper['date'] + \"</mark> - \" +\n",
    "                       \"_\" + paper['comments'] + \"_\")\n",
    "        doc.highlight_authors_in_list(hl_list)\n",
    "\n",
    "        full_md = doc.generate_markdown_text()\n",
    "        \n",
    "        # replace citations\n",
    "        try:\n",
    "            bibdata = latex_bib.LatexBib.from_doc(doc)\n",
    "            full_md = latex_bib.replace_citations(full_md, bibdata)\n",
    "        except Exception as e:\n",
    "            print(e)\n",
    "        \n",
    "        documents.append((paper_id, full_md))\n",
    "    except Exception as e:\n",
    "        warnings.warn(latex.LatexWarning(f\"{paper_id:s} did not run properly\\n\" +\n",
    "                                         str(e)\n",
    "                                        ))\n",
    "        failed.append((paper, \"latex error \" + str(e)))"
   ]
  },
  {
   "cell_type": "markdown",
   "id": "2505a25c",
   "metadata": {
    "papermill": {
     "duration": 0.008182,
     "end_time": "2023-03-16T04:09:45.796900",
     "exception": false,
     "start_time": "2023-03-16T04:09:45.788718",
     "status": "completed"
    },
    "tags": []
   },
   "source": [
    "### Export the logs\n",
    "\n",
    "Throughout, we also keep track of the logs per paper. see `logs-{today date}.md` "
   ]
  },
  {
   "cell_type": "code",
   "execution_count": 6,
   "id": "d733828a",
   "metadata": {
    "execution": {
     "iopub.execute_input": "2023-03-16T04:09:45.815117Z",
     "iopub.status.busy": "2023-03-16T04:09:45.814111Z",
     "iopub.status.idle": "2023-03-16T04:09:45.878455Z",
     "shell.execute_reply": "2023-03-16T04:09:45.877423Z"
    },
    "papermill": {
     "duration": 0.076044,
     "end_time": "2023-03-16T04:09:45.880648",
     "exception": false,
     "start_time": "2023-03-16T04:09:45.804604",
     "status": "completed"
    },
    "scrolled": false,
    "tags": []
   },
   "outputs": [
    {
     "data": {
      "text/markdown": [
       "## Successful papers"
      ],
      "text/plain": [
       "<IPython.core.display.Markdown object>"
      ]
     },
     "metadata": {},
     "output_type": "display_data"
    },
    {
     "data": {
      "text/markdown": [
       "\n",
       "|||\n",
       "|---:|:---|\n",
       "| [![arXiv](https://img.shields.io/badge/arXiv-arXiv:2303.08174-b31b1b.svg)](https://arxiv.org/abs/arXiv:2303.08174) | **A super-Earth and a mini-Neptune near the 2:1 MMR straddling the radius  valley around the nearby mid-M dwarf TOI-2096**  |\n",
       "|| F. J. Pozuelos, et al. -- incl., <mark>R. D. Wells</mark>, <mark>G. Torres</mark> |\n",
       "|*Appeared on*| *2023-03-16*|\n",
       "|*Comments*| *25 pages, 21 figures. Aceptted for publication in Astronomy & Astrophysics*|\n",
       "|**Abstract**| Several planetary formation models have been proposed to explain the observed abundance and variety of compositions of super-Earths and mini-Neptunes. In this context, multitransiting systems orbiting low-mass stars whose planets are close to the radius valley are benchmark systems, which help to elucidate which formation model dominates. We report the discovery, validation, and initial characterization of one such system, TOI-2096, composed of a super-Earth and a mini-Neptune hosted by a mid-type M dwarf located 48 pc away. We first characterized the host star by combining different methods. Then, we derived the planetary properties by modeling the photometric data from TESS and ground-based facilities. We used archival data, high-resolution imaging, and statistical validation to support our planetary interpretation. We found that TOI-2096 corresponds to a dwarf star of spectral type M4. It harbors a super-Earth (R$\\sim1.2 R_{\\oplus}$) and a mini-Neptune (R$\\sim1.90 R_{\\oplus}$) in likely slightly eccentric orbits with orbital periods of 3.12 d and 6.39 d, respectively. These orbital periods are close to the first-order 2:1 mean-motion resonance (MMR), which may lead to measurable transit timing variations (TTVs). We computed the expected TTVs amplitude for each planet and found that they might be measurable with high-precision photometry delivering mid-transit times with accuracies of $\\lesssim$2 min. Moreover, measuring the planetary masses via radial velocities (RVs) is also possible. Lastly, we found that these planets are among the best in their class to conduct atmospheric studies using the James Webb Space Telescope (JWST). The properties of this system make it a suitable candidate for further studies, particularly for mass determination using RVs and/or TTVs, decreasing the scarcity of systems that can be used to test planetary formation models around low-mass stars. |"
      ],
      "text/plain": [
       "[arXiv:2303.08174] A super-Earth and a mini-Neptune near the 2:1 MMR straddling the radius  valley around the nearby mid-M dwarf TOI-2096\n",
       "\tF. J. Pozuelos, et al. -- incl., <mark>R. D. Wells</mark>, <mark>G. Torres</mark>"
      ]
     },
     "metadata": {},
     "output_type": "display_data"
    },
    {
     "data": {
      "text/markdown": [
       "## Failed papers"
      ],
      "text/plain": [
       "<IPython.core.display.Markdown object>"
      ]
     },
     "metadata": {},
     "output_type": "display_data"
    },
    {
     "data": {
      "text/markdown": [
       "\n",
       "|||\n",
       "|---:|:---|\n",
       "| [![arXiv](https://img.shields.io/badge/arXiv-arXiv:2303.08150-b31b1b.svg)](https://arxiv.org/abs/arXiv:2303.08150) | **TRINITY II: The Luminosity-dependent Bias of the Supermassive Black Hole  Mass--Galaxy Mass Relation for Bright Quasars at $z=6$**  |\n",
       "|| <mark>Haowen Zhang</mark>, et al. -- incl., <mark>Joseph Silk</mark> |\n",
       "|*Appeared on*| *2023-03-16*|\n",
       "|*Comments*| *5 pages, 3 figures. Submitted to MNRAS Letters. Comments welcome!*|\n",
       "|**Abstract**| Using recent empirical constraints on the dark matter halo--galaxy--supermassive black hole (SMBH) connection from $z=0-7$, we infer how undermassive, typical, and overmassive SMBHs contribute to the quasar luminosity function (QLF) at $z=6$. We find that beyond $L_\\mathrm{bol} = 5 \\times 10^{46}$ erg/s, the $z=6$ QLF is dominated by SMBHs that are at least 0.3 dex above the $z=6$ median $M_\\bullet-M_*$ relation. The QLF is dominated by typical SMBHs (i.e., within $\\pm 0.3$ dex around the $M_\\bullet-M_*$ relation) at $L_\\mathrm{bol} \\lesssim 10^{45}$ erg/s. At $z\\sim 6$, the intrinsic $M_\\bullet-M_*$ relation for all SMBHs is slightly steeper than the $z=0$ scaling, with a similar normalization at $M_* \\sim 10^{11} M_\\odot$. We also predict the $M_\\bullet-M_*$ relation for $z=6$ bright quasars selected by different bolometric luminosity thresholds, finding very good agreement with observations. For quasars with $L_\\mathrm{bol} > 3 \\times 10^{46}$ ($10^{48}$) erg/s, the scaling relation is shifted upwards by $\\sim0.35$ (1.0) dex for $10^{11} M_\\odot$ galaxies. To accurately measure the intrinsic $M_\\bullet-M_*$ relation, it is essential to include fainter quasars with $L_\\mathrm{bol} \\lesssim 10^{45}$ erg/s. At high redshifts, low-luminosity quasars are thus the best targets for understanding typical formation paths for SMBHs in galaxies. |\n",
       "|<p style=\"color:green\"> **ERROR** </p>| <p style=\"color:green\">affiliation error: mpia.affiliation_verifications: 'Heidelberg' keyword not found.</p> |"
      ],
      "text/plain": [
       "<IPython.core.display.Markdown object>"
      ]
     },
     "metadata": {},
     "output_type": "display_data"
    },
    {
     "data": {
      "text/markdown": [
       "\n",
       "|||\n",
       "|---:|:---|\n",
       "| [![arXiv](https://img.shields.io/badge/arXiv-arXiv:2303.08198-b31b1b.svg)](https://arxiv.org/abs/arXiv:2303.08198) | **Dynamical Masses and Ages of Sirius-like Systems**  |\n",
       "|| Hengyue Zhang, et al. -- incl., <mark>Yiting Li</mark> |\n",
       "|*Appeared on*| *2023-03-16*|\n",
       "|*Comments*| *34 pages, 21 figures. Submitted to MNRAS*|\n",
       "|**Abstract**| We measure precise orbits and dynamical masses and derive age constraints for six confirmed and one candidate Sirius-like systems, including the Hyades member HD 27483. Our orbital analysis incorporates radial velocities, relative astrometry, and Hipparcos-Gaia astrometric accelerations. We constrain the main-sequence lifetime of a white dwarf's progenitor from the remnant's dynamical mass and semi-empirical initial-final mass relations and infer the cooling age from mass and effective temperature. We present new relative astrometry of HD 27483 B from Keck/NIRC2 observations and archival HST data, and obtain the first dynamical mass of ${0.798}_{-0.041}^{+0.10}$ $M_{\\odot}$, and an age of ${450}_{-180}^{+570}$ Myr, consistent with previous age estimates of Hyades. We also measure precise dynamical masses for HD 114174 B ($0.591 \\pm 0.011$ $M_{\\odot}$) and HD 169889 B (${0.526}_{-0.037}^{+0.039}$ $M_{\\odot}$), but their age precisions are limited by their uncertain temperatures. For HD 27786 B, the unusually small mass of $0.443 \\pm 0.012$ $M_{\\odot}$ suggests a history of rapid mass loss, possibly due to binary interaction in its progenitor's RGB phase. The orbits of HD 118475 and HD 136138 from our RV fitting are overall in good agreement with Gaia DR3 astrometric two-body solutions, despite moderate differences in the eccentricity and period of HD 136138. The mass of ${0.580}_{-0.039}^{+0.052}$ $M_{\\odot}$ for HD 118475 B and a speckle imaging non-detection confirms that the companion is a white dwarf. Our analysis shows examples of a rich number of precise WD dynamical mass measurements enabled by Gaia DR3 and later releases, which will improve empirical calibrations of the white dwarf initial-final mass relation. |\n",
       "|<p style=\"color:green\"> **ERROR** </p>| <p style=\"color:green\">affiliation error: mpia.affiliation_verifications: 'Heidelberg' keyword not found.</p> |"
      ],
      "text/plain": [
       "<IPython.core.display.Markdown object>"
      ]
     },
     "metadata": {},
     "output_type": "display_data"
    },
    {
     "data": {
      "text/markdown": [
       "\n",
       "|||\n",
       "|---:|:---|\n",
       "| [![arXiv](https://img.shields.io/badge/arXiv-arXiv:2303.08201-b31b1b.svg)](https://arxiv.org/abs/arXiv:2303.08201) | **A Consistent View of Interacting Dark Energy from Multiple CMB Probes**  |\n",
       "|| <mark>Yuejia Zhai</mark>, et al. |\n",
       "|*Appeared on*| *2023-03-16*|\n",
       "|*Comments*| *8 pages, 2 figures, 1 table*|\n",
       "|**Abstract**| We analyze a cosmological model featuring an interaction between dark energy and dark matter in light of the measurements of the Cosmic Microwave Background released by three independent experiments: the most recent data by the Planck satellite and the Atacama Cosmology Telescope, and WMAP (9-year data). We show that different combinations of the datasets provide similar results, always favoring an interacting dark sector with a $95\\%$~CL significance in the majority of the cases. Remarkably, such a preference remains consistent when cross-checked through independent probes, while always yielding a value of the expansion rate $H_0$ consistent with the local distance ladder measurements. We investigate the source of this preference by scrutinizing the angular power spectra of temperature and polarization anisotropies as measured by different experiments. |\n",
       "|<p style=\"color:green\"> **ERROR** </p>| <p style=\"color:green\">affiliation error: mpia.affiliation_verifications: 'Heidelberg' keyword not found.</p> |"
      ],
      "text/plain": [
       "<IPython.core.display.Markdown object>"
      ]
     },
     "metadata": {},
     "output_type": "display_data"
    },
    {
     "data": {
      "text/markdown": [
       "\n",
       "|||\n",
       "|---:|:---|\n",
       "| [![arXiv](https://img.shields.io/badge/arXiv-arXiv:2303.08313-b31b1b.svg)](https://arxiv.org/abs/arXiv:2303.08313) | **Towards Optimal Reconstruction of Shear Field with PDF-Folding**  |\n",
       "|| Haoran Wang, <mark>Jun Zhang</mark>, Hekun Li, Cong Liu |\n",
       "|*Appeared on*| *2023-03-16*|\n",
       "|*Comments*| **|\n",
       "|**Abstract**| Weak lensing provides a direct way of mapping the density distribution in the universe. To reconstruct the density field from the shear catalog, an important step is to build the shear field from the shear catalog, which can be quite nontrivial due to the inhomogeneity of the background galaxy distribution and the shape noise. We propose the PDF-Folding method as a statistically optimal way of reconstructing the shear field. It is an extention of the PDF-SYM method, which is previously designed for optimizing the stacked shear signal as well as the shear-shear correlation. PDF-Folding does not require smoothing kernels as in traditional methods, therefore it suffers less information loss on small scales, and avoids possible biases due to the spatial variation of shear on the scale of the kernel. We show with analytic reasoning as well as numerical examples that the new method can reach the optimal signal-to-noise ratio on the reconstructed shear map under general observing conditions, i.e., with inhomogeneous background densities or masks. We also show the performance of the new method with real shear data around foreground galaxy clusters. |\n",
       "|<p style=\"color:green\"> **ERROR** </p>| <p style=\"color:green\">affiliation error: mpia.affiliation_verifications: 'Heidelberg' keyword not found.</p> |"
      ],
      "text/plain": [
       "<IPython.core.display.Markdown object>"
      ]
     },
     "metadata": {},
     "output_type": "display_data"
    },
    {
     "data": {
      "text/markdown": [
       "\n",
       "|||\n",
       "|---:|:---|\n",
       "| [![arXiv](https://img.shields.io/badge/arXiv-arXiv:2303.08328-b31b1b.svg)](https://arxiv.org/abs/arXiv:2303.08328) | **Diurnal and Seasonal Mapping of Martian Ices with EMIRS**  |\n",
       "|| Aurélien Stcherbinine, et al. -- incl., <mark>Michael D. Smith</mark>, <mark>Nathan M. Smith</mark> |\n",
       "|*Appeared on*| *2023-03-16*|\n",
       "|*Comments*| *Submitted to Geophysical Research Letters*|\n",
       "|**Abstract**| Condensation and sublimation of ices at the surface of the planet is a key part of both the Martian H$_2$O and CO$_2$ cycles, either from a seasonal or diurnal aspect. While most of the ice is located within the polar caps, surface frost is known to be formed during nighttime down to equatorial latitudes. Here, we use data from the Emirates Mars Infrared Spectrometer (EMIRS) onboard the Emirates Mars Mission (EMM) to monitor the diurnal and seasonal evolution of the ices at the surface of Mars over almost one Martian year. The unique local time coverage provided by the instrument allows us to observe the apparition of equatorial CO$_2$ frost in the second half of the Martian night around the equinoxes, to its sublimation at sunrise. |\n",
       "|<p style=\"color:green\"> **ERROR** </p>| <p style=\"color:green\">affiliation error: mpia.affiliation_verifications: 'Heidelberg' keyword not found.</p> |"
      ],
      "text/plain": [
       "<IPython.core.display.Markdown object>"
      ]
     },
     "metadata": {},
     "output_type": "display_data"
    },
    {
     "data": {
      "text/markdown": [
       "\n",
       "|||\n",
       "|---:|:---|\n",
       "| [![arXiv](https://img.shields.io/badge/arXiv-arXiv:2303.08344-b31b1b.svg)](https://arxiv.org/abs/arXiv:2303.08344) | **Atmospheric parameters and kinematic information for the M giants stars  from LAMOST DR9**  |\n",
       "|| Dan Qiu, et al. -- incl., <mark>Jing Li</mark>, <mark>Bo Zhang</mark> |\n",
       "|*Appeared on*| *2023-03-16*|\n",
       "|*Comments*| *21 pages, 11 figures, accepted by RAA*|\n",
       "|**Abstract**| A catalog of more than 43,000 M giant stars has been selected by Li et al. from the ninth data release of LAMOST. Using the data-driven method SLAM, we obtain the stellar parameters (Teff, logg, [M/H], [$\\alpha$/M]) for all the M giant stars with uncertainties of 57 K, 0.25 dex, 0.16 dex and 0.06 dex at SNR > 100, respectively. With those stellar parameters, we constrain the absolute magnitude in K-band, which brings distance with relative uncertainties around 25% statistically. Radial velocities are also calculated by applying cross correlation on the spectra between 8000 A $\\AA$ and 8950 A $\\AA$ with synthetic spectra from ATLAS9, which covers the Ca II triplet. Comparison between our radial velocities and those from APOGEE DR17 and Gaia DR3 shows that our radial velocities have a system offset and dispersion around 1 and 4.6 km s$^{-1}$, respectively. With the distances and radial velocities combining with the astrometric data from Gaia DR3, we calculate the full 6D position and velocity information, which are able to be used for further chemo-dynamic studies on the disk and substructures in the halo, especially the Sagittarius Stream. |\n",
       "|<p style=\"color:green\"> **ERROR** </p>| <p style=\"color:green\">affiliation error: mpia.affiliation_verifications: 'Heidelberg' keyword not found.</p> |"
      ],
      "text/plain": [
       "<IPython.core.display.Markdown object>"
      ]
     },
     "metadata": {},
     "output_type": "display_data"
    },
    {
     "data": {
      "text/markdown": [
       "\n",
       "|||\n",
       "|---:|:---|\n",
       "| [![arXiv](https://img.shields.io/badge/arXiv-arXiv:2303.08357-b31b1b.svg)](https://arxiv.org/abs/arXiv:2303.08357) | **A search for exoplanets around north circumpolar stars. VII. Detection  of planetary companion orbiting the largest host star HD 18438**  |\n",
       "|| <mark>Byeong-Cheol Lee</mark>, et al. |\n",
       "|*Appeared on*| *2023-03-16*|\n",
       "|*Comments*| *6 pages, 4 figures, Accept to the Journal of the Korean Astronomical Society*|\n",
       "|**Abstract**| We have been conducting a exoplanet search survey using Bohyunsan Observatory Echelle Spectrograph (BOES) for the last 18 years. We present the detection of exoplanet candidate in orbit around HD 18438 from high-precision radial velocity (RV) mesurements. The target was already reported in 2018 (Bang et al. 2018). They conclude that the RV variations with a period of 719 days are likely to be caused by the pulsations because the Lomb-Scargle periodogram of HIPPARCOS photometric and Ha EW variations for HD 18438 show peaks with periods close to that of RV variations and there were no correlations between bisectors and RV measurements. However, the data were not sufficient to reach a firm conclusion. We obtained more RV data for four years. The longer time baseline yields a more accurate determination with a revised period of 803 +/- 5 days and the planetary origin of RV variations with a minimum planetary companion mass of 21 +/- 1 MJup. Our current estimate of the stellar parameters for HD 18438 makes it currently the largest star with a planetary companion. |\n",
       "|<p style=\"color:green\"> **ERROR** </p>| <p style=\"color:green\">affiliation error: mpia.affiliation_verifications: 'Heidelberg' keyword not found.</p> |"
      ],
      "text/plain": [
       "<IPython.core.display.Markdown object>"
      ]
     },
     "metadata": {},
     "output_type": "display_data"
    },
    {
     "data": {
      "text/markdown": [
       "\n",
       "|||\n",
       "|---:|:---|\n",
       "| [![arXiv](https://img.shields.io/badge/arXiv-arXiv:2303.08388-b31b1b.svg)](https://arxiv.org/abs/arXiv:2303.08388) | **A Chandra X-ray Survey of Optically Selected Close Galaxy Pairs:  Unexpectedly Low Occupation of Active Galactic Nuclei**  |\n",
       "|| <mark>Lin He</mark>, et al. -- incl., <mark>Zhiyuan Li</mark> |\n",
       "|*Appeared on*| *2023-03-16*|\n",
       "|*Comments*| *28 pages, 9 figures. Accepted for publication in ApJ*|\n",
       "|**Abstract**| High-resolution X-ray observations offer a unique tool for probing the still elusive connection between galaxy mergers and active galactic nuclei (AGNs). We present an analysis of nuclear X-ray emission in an optically selected sample of 92 close galaxy pairs (with projected separations $\\lesssim 20$ kpc and line-of-sight velocity offsets $<$ 500 km s$^{-1}$) at low redshift ($\\bar{z} \\sim 0.07$), based on archival Chandra observations. The parent sample of galaxy pairs is constructed without imposing an optical classification of nuclear activity, thus is largely free of selection effect for or against the presence of an AGN. Nor is this sample biased for or against gas-rich mergers. An X-ray source is detected in 70 of the 184 nuclei, giving a detection rate of $38\\%^{+5\\%}_{-5\\%}$, down to a 0.5-8 keV limiting luminosity of $\\lesssim 10^{40}\\rm~erg~s^{-1}$. The detected and undetected nuclei show no systematic difference in their host galaxy properties such as galaxy morphology, stellar mass and stellar velocity dispersion. When potential contamination from star formation is avoided (i.e., $L_{\\rm 2-10~keV} > 10^{41}\\rm~erg~s^{-1}$), the detection rate becomes $18\\%^{+3\\%}_{-3\\%}$ (32/184), which shows no excess compared to the X-ray detection rate of a comparison sample of optically classified single AGNs. The fraction of pairs containing dual AGN is only $2\\%^{+2\\%}_{-2\\%}$. Moreover, most nuclei at the smallest projected separations probed by our sample (a few kpc) have an unexpectedly low apparent X-ray luminosity and Eddington ratio, which cannot be solely explained by circumnuclear obscuration. These findings suggest that close galaxy interaction is not a sufficient condition for triggering a high level of AGN activity. |\n",
       "|<p style=\"color:green\"> **ERROR** </p>| <p style=\"color:green\">affiliation error: mpia.affiliation_verifications: 'Heidelberg' keyword not found.</p> |"
      ],
      "text/plain": [
       "<IPython.core.display.Markdown object>"
      ]
     },
     "metadata": {},
     "output_type": "display_data"
    },
    {
     "data": {
      "text/markdown": [
       "\n",
       "|||\n",
       "|---:|:---|\n",
       "| [![arXiv](https://img.shields.io/badge/arXiv-arXiv:2303.08390-b31b1b.svg)](https://arxiv.org/abs/arXiv:2303.08390) | **Photometric and Spectroscopic monitoring of YSOs in nearby star forming  regions. I. Eruptive YSOs**  |\n",
       "|| Carlos Contreras Peña, et al. -- incl., <mark>Ho-Gyu Lee</mark>, <mark>Jeong-Eun Lee</mark> |\n",
       "|*Appeared on*| *2023-03-16*|\n",
       "|*Comments*| *17 pages, 7 figures, accepted for publication in MNRAS on 14 March 2023*|\n",
       "|**Abstract**| Mid-infrared (mid-IR) variability in young stellar objects (YSOs) is driven by several physical mechanisms, which produce a variety of amplitudes and light curve shapes. One of these mechanisms, variable disk accretion is predicted by models of episodic accretion to drive secular variability, including in the mid-IR. Because the largest accretion bursts are rare, adding new objects to the YSO eruptive variable class aids our understanding of the episodic accretion phenomenon and its possible impact on stellar and planetary formation. A previous analysis of 6.5 yr of NeoWISE light curves (3-5 $\\mu$m) of ~7000 nearby YSOs found an increase in the fraction of variability and variability amplitude for objects at younger stages of evolution. To help interpret these light curves, we have obtained low- and high-resolution near-IR spectra of 78 objects from this sample of YSOs. In this work, we present the analysis of nine nearby YSOs (d$<$1 kpc) that show the characteristics of known classes of eruptive variable YSOs. We find one FUor-like source, one EX Lupi-type object, and six YSOs with mixed characteristics, or V1647 Ori-like objects. The varied characteristics observed in our sample are consistent with recent discoveries of eruptive YSOs. We discuss how a wide range in YSO outburst parameters (central mass, maximum accretion rate during outburst, evolutionary stage and/or instability leading to the outburst) may play a significant role in the observed spectro-photometric properties of YSO outbursts. |\n",
       "|<p style=\"color:green\"> **ERROR** </p>| <p style=\"color:green\">affiliation error: mpia.affiliation_verifications: 'Heidelberg' keyword not found.</p> |"
      ],
      "text/plain": [
       "<IPython.core.display.Markdown object>"
      ]
     },
     "metadata": {},
     "output_type": "display_data"
    },
    {
     "data": {
      "text/markdown": [
       "\n",
       "|||\n",
       "|---:|:---|\n",
       "| [![arXiv](https://img.shields.io/badge/arXiv-arXiv:2303.08410-b31b1b.svg)](https://arxiv.org/abs/arXiv:2303.08410) | **Constraints on axion-like polarization oscillations in the cosmic  microwave background with POLARBEAR**  |\n",
       "|| POLARBEAR Collaboration, et al. -- incl., <mark>Daniel Green</mark>, <mark>Adrian T. Lee</mark> |\n",
       "|*Appeared on*| *2023-03-16*|\n",
       "|*Comments*| *17 pages, 5 figures, 2 tables. Submitted to Physical Review D*|\n",
       "|**Abstract**| Very light pseudoscalar fields, often referred to as axions, are compelling dark matter candidates and can potentially be detected through their coupling to the electromagnetic field. Recently a novel detection technique using the cosmic microwave background (CMB) was proposed, which relies on the fact that the axion field oscillates at a frequency equal to its mass in appropriate units, leading to a time-dependent birefringence. For appropriate oscillation periods this allows the axion field at the telescope to be detected via the induced sinusoidal oscillation of the CMB linear polarization. We search for this effect in two years of POLARBEAR data. We do not detect a signal, and place a median $95 \\%$ upper limit of $0.65 ^\\circ$ on the sinusoid amplitude for oscillation frequencies between $0.02\\,\\text{days}^{-1}$ and $0.45\\,\\text{days}^{-1}$, which corresponds to axion masses between $9.6 \\times 10^{-22} \\, \\text{eV}$ and $2.2\\times 10^{-20} \\,\\text{eV}$. Under the assumptions that 1) the axion constitutes all the dark matter and 2) the axion field amplitude is a Rayleigh-distributed stochastic variable, this translates to a limit on the axion-photon coupling $g_{\\phi \\gamma} < 2.4 \\times 10^{-11} \\,\\text{GeV}^{-1} \\times ({m_\\phi}/{10^{-21} \\, \\text{eV}})$. |\n",
       "|<p style=\"color:green\"> **ERROR** </p>| <p style=\"color:green\">affiliation error: mpia.affiliation_verifications: 'Heidelberg' keyword not found.</p> |"
      ],
      "text/plain": [
       "<IPython.core.display.Markdown object>"
      ]
     },
     "metadata": {},
     "output_type": "display_data"
    },
    {
     "data": {
      "text/markdown": [
       "\n",
       "|||\n",
       "|---:|:---|\n",
       "| [![arXiv](https://img.shields.io/badge/arXiv-arXiv:2303.08425-b31b1b.svg)](https://arxiv.org/abs/arXiv:2303.08425) | **Investigating the image lag of a scientific CMOS sensor in X-ray  detection**  |\n",
       "|| Qinyu Wu, et al. -- incl., <mark>Chen Zhang</mark>, <mark>Shuang-Nan Zhang</mark> |\n",
       "|*Appeared on*| *2023-03-16*|\n",
       "|*Comments*| *accepted by NIM A*|\n",
       "|**Abstract**| In recent years, scientific CMOS (sCMOS) sensors have been vigorously developed and have outperformed CCDs in several aspects: higher readout frame rate, higher radiation tolerance, and higher working temperature. For silicon image sensors, image lag will occur when the charges of an event are not fully transferred inside pixels. It can degrade the image quality for optical imaging, and deteriorate the energy resolution for X-ray spectroscopy. In this work, the image lag of a sCMOS sensor is studied. To measure the image lag under low-light illumination, we constructed a new method to extract the image lag from X-ray photons. The image lag of a customized X-ray sCMOS sensor GSENSE1516BSI is measured, and its influence on X-ray performance is evaluated. The result shows that the image lag of this sensor exists only in the immediately subsequent frame and is always less than 0.05% for different incident photon energies and under different experimental conditions. The residual charge is smaller than 0.5 e- with the highest incident photon charge around 8 ke-. Compared to the readout noise level around 3 e-, the image lag of this sensor is too small to have a significant impact on the imaging quality and the energy resolution. The image lag shows a positive correlation with the incident photon energy and a negative correlation with the temperature. However, it has no dependence on the gain setting and the integration time. These relations can be explained qualitatively by the non-ideal potential structure inside the pixels. This method can also be applied to the study of image lag for other kinds of imaging sensors. |\n",
       "|<p style=\"color:green\"> **ERROR** </p>| <p style=\"color:green\">affiliation error: mpia.affiliation_verifications: 'Heidelberg' keyword not found.</p> |"
      ],
      "text/plain": [
       "<IPython.core.display.Markdown object>"
      ]
     },
     "metadata": {},
     "output_type": "display_data"
    },
    {
     "data": {
      "text/markdown": [
       "\n",
       "|||\n",
       "|---:|:---|\n",
       "| [![arXiv](https://img.shields.io/badge/arXiv-arXiv:2303.08472-b31b1b.svg)](https://arxiv.org/abs/arXiv:2303.08472) | **Equalizing the Pixel Response of the Imaging Photoelectric Polarimeter  On-Board the IXPE Mission**  |\n",
       "|| John Rankin, et al. -- incl., <mark>Fei Xie</mark> |\n",
       "|*Appeared on*| *2023-03-16*|\n",
       "|*Comments*| *Accepted for publication in The Astronomical Journal. 10 pages, 19 figures*|\n",
       "|**Abstract**| The Gas Pixel Detector is a gas detector, sensitive to the polarization of X-rays, currently flying on-board IXPE - the first observatory dedicated to X-ray polarimetry. It detects X-rays and their polarization by imaging the ionization tracks generated by photoelectrons absorbed in the sensitive volume, and then reconstructing the initial direction of the photoelectrons. The primary ionization charge is multiplied and ultimately collected on a finely-pixellated ASIC specifically developed for X-ray polarimetry. The signal of individual pixels is processed independently and gain variations can be substantial, of the order of 20%. Such variations need to be equalized to correctly reconstruct the track shape, and therefore its polarization direction. The method to do such equalization is presented here and is based on the comparison between the mean charge of a pixel with respect to the other pixels for equivalent events. The method is shown to finely equalize the response of the detectors on board IXPE, allowing a better track reconstruction and energy resolution, and can in principle be applied to any imaging detector based on tracks. |\n",
       "|<p style=\"color:green\"> **ERROR** </p>| <p style=\"color:green\">affiliation error: mpia.affiliation_verifications: 'Heidelberg' keyword not found.</p> |"
      ],
      "text/plain": [
       "<IPython.core.display.Markdown object>"
      ]
     },
     "metadata": {},
     "output_type": "display_data"
    },
    {
     "data": {
      "text/markdown": [
       "\n",
       "|||\n",
       "|---:|:---|\n",
       "| [![arXiv](https://img.shields.io/badge/arXiv-arXiv:2303.08474-b31b1b.svg)](https://arxiv.org/abs/arXiv:2303.08474) | **A machine learning-based tool for open cluster membership determination  in Gaia DR3**  |\n",
       "|| M.G.J. van Groeningen, et al. -- incl., <mark>A.G.A. Brown</mark> |\n",
       "|*Appeared on*| *2023-03-16*|\n",
       "|*Comments*| *10 pages, 6 figures. Submitted to Astronomy & Astrophysics*|\n",
       "|**Abstract**| Membership studies characterising open clusters with Gaia data, most using DR2, are so far limited at magnitude G = 18 due to astrometric uncertainties at the faint end. Our goal is to extend current open cluster membership lists with faint members and to characterise the low-mass end, which members are important for many applications, in particular for ground-based spectroscopic surveys. We use a deep neural network architecture to learn the distribution of highly reliable open cluster member stars around known clusters. After that, we use the trained network to estimate new open cluster members based on their similarities in a high-dimensional space, five-dimensional astrometry plus the three photometric bands. Due to the improved astrometric precisions of Gaia DR3 with respect to DR2, we are able to homogeneously detect new faint member stars (G > 18) for the known open cluster population. Our methodology can provide extended membership lists for open clusters down to the limiting magnitude of Gaia, which will enable further studies to characterise the open cluster population, e.g. estimation of their masses, or their dynamics. These extended membership lists are also ideal target lists for forthcoming ground-based spectroscopic surveys. |\n",
       "|<p style=\"color:green\"> **ERROR** </p>| <p style=\"color:green\">affiliation error: mpia.affiliation_verifications: 'Heidelberg' keyword not found.</p> |"
      ],
      "text/plain": [
       "<IPython.core.display.Markdown object>"
      ]
     },
     "metadata": {},
     "output_type": "display_data"
    },
    {
     "data": {
      "text/markdown": [
       "\n",
       "|||\n",
       "|---:|:---|\n",
       "| [![arXiv](https://img.shields.io/badge/arXiv-arXiv:2303.08643-b31b1b.svg)](https://arxiv.org/abs/arXiv:2303.08643) | **Phase Curves of Kuiper Belt Objects, Centaurs, and Jupiter Family Comets  from the ATLAS Survey**  |\n",
       "|| Matthew M. Dobson, et al. -- incl., <mark>Ken W. Smith</mark> |\n",
       "|*Appeared on*| *2023-03-16*|\n",
       "|*Comments*| *42 pages, 24 figures, accepted for publication to the Planetary Science Journal. Supplementary materials will be available in the online journal version*|\n",
       "|**Abstract**| The Kuiper belt objects, the Centaurs, and the Jupiter-family comets form an evolutionary continuum of small outer Solar System objects, and their study allows us to gain insight into the history and evolution of the Solar System. Broadband photometry can be used to measure their phase curves, allowing a first-order probe into the surface properties of these objects, though limited telescope time makes measuring accurate phase curves difficult. We make use of serendipitous broadband photometry from the long-baseline, high-cadence ATLAS survey to measure the phase curves for a sample of 18 Kuiper belt objects, Centaurs, and Jupiter-family comets with unprecedentedly large datasets. We find phase curves with previously reported negative slopes become positive with increased data and are thus due to insufficient sampling of the phase curve profile, and not a real physical effect. We search for correlations between phase curve parameters, finding no strong correlations between any parameter pair, consistent with the findings of previous studies. We search for instances of cometary activity in our sample, finding a previously reported outburst by Echeclus and a new epoch of increased activity by Chiron. Applying the main belt asteroid HG1G2 phase curve model to three Jupiter-family comets in our sample with large phase angle spans, we find their slope parameters imply surfaces more consistent with those of carbonaceous main belt asteroids than silicaceous ones. |\n",
       "|<p style=\"color:green\"> **ERROR** </p>| <p style=\"color:green\">affiliation error: mpia.affiliation_verifications: 'Heidelberg' keyword not found.</p> |"
      ],
      "text/plain": [
       "<IPython.core.display.Markdown object>"
      ]
     },
     "metadata": {},
     "output_type": "display_data"
    },
    {
     "data": {
      "text/markdown": [
       "\n",
       "|||\n",
       "|---:|:---|\n",
       "| [![arXiv](https://img.shields.io/badge/arXiv-arXiv:2303.08749-b31b1b.svg)](https://arxiv.org/abs/arXiv:2303.08749) | **Simulating image coaddition with the Nancy Grace Roman Space Telescope:  I. Simulation methodology and general results**  |\n",
       "|| Christopher M. Hirata, et al. -- incl., <mark>Tianqing Zhang</mark>, <mark>Christopher W. Walter</mark> |\n",
       "|*Appeared on*| *2023-03-16*|\n",
       "|*Comments*| *28 pages, 19 figures, to be submitted to MNRAS*|\n",
       "|**Abstract**| The upcoming Nancy Grace Roman Space Telescope will carry out a wide-area survey in the near infrared. A key science objective is the measurement of cosmic structure via weak gravitational lensing. Roman data will be undersampled, which introduces new challenges in the measurement of source galaxy shapes; a potential solution is to use linear algebra-based coaddition techniques such as Imcom that combine multiple undersampled images to produce a single oversampled output mosaic with a desired \"target\" point spread function (PSF). We present here an initial application of Imcom to 0.64 square degrees of simulated Roman data, based on the Roman branch of the Legacy Survey of Space and Time (LSST) Dark Energy Science Collaboration (DESC) Data Challenge 2 (DC2) simulation. We show that Imcom runs successfully on simulated data that includes features such as plate scale distortions, chip gaps, detector defects, and cosmic ray masks. We simultaneously propagate grids of injected sources and simulated noise fields as well as the full simulation. We quantify the residual deviations of the PSF from the target (the \"fidelity\"), as well as noise properties of the output images; we discuss how the overall tiling pattern as well as Moir\\'e patterns appear in the final fidelity and noise maps. We include appendices on interpolation algorithms and the interaction of undersampling with image processing operations that may be of broader applicability. The companion paper (\"Paper II\") explores the implications for weak lensing analyses. |\n",
       "|<p style=\"color:green\"> **ERROR** </p>| <p style=\"color:green\">affiliation error: mpia.affiliation_verifications: 'Heidelberg' keyword not found.</p> |"
      ],
      "text/plain": [
       "<IPython.core.display.Markdown object>"
      ]
     },
     "metadata": {},
     "output_type": "display_data"
    },
    {
     "data": {
      "text/markdown": [
       "\n",
       "|||\n",
       "|---:|:---|\n",
       "| [![arXiv](https://img.shields.io/badge/arXiv-arXiv:2303.08170-b31b1b.svg)](https://arxiv.org/abs/arXiv:2303.08170) | **Multi-scale velocity statistics in NGC 6334: deviation from a continuous  and universal turbulence cascade due to massive star formation activity**  |\n",
       "|| Junhao Liu, et al. -- incl., <mark>Qizhou Zhang</mark>, <mark>Shanghuo Li</mark>, <mark>Zhi-Yun Li</mark> |\n",
       "|*Appeared on*| *2023-03-16*|\n",
       "|*Comments*| *14 pages, 7 figures, 1 table. Accepted by ApJ*|\n",
       "|**Abstract**| We use molecular line data from ALMA, SMA, JCMT, and NANTEN2 to study the multi-scale ($\\sim$15-0.005 pc) velocity statistics in the massive star formation region NGC 6334. We find that the non-thermal motions revealed by the velocity dispersion function (VDF) stay supersonic over scales of several orders of magnitudes. The multi-scale non-thermal motions revealed by different instruments do not follow the same continuous power-law, which is because the massive star formation activities near central young stellar objects have increased the non-thermal motions in small-scale and high-density regions. The magnitudes of VDFs vary in different gas materials at the same scale, where the infrared dark clump N6334S in an early evolutionary stage shows a lower level of non-thermal motions than other more evolved clumps due to its more quiescent star formation activity. We find possible signs of small-scale-driven (e.g., by gravitational accretion or outflows) supersonic turbulence in clump N6334IV with a three-point VDF analysis. Our results clearly show that the scaling relation of velocity fields in NGC 6334 deviates from a continuous and universal turbulence cascade due to massive star formation activities. |\n",
       "|<p style=\"color:red\"> **ERROR** </p>| <p style=\"color:red\">latex error list index out of range</p> |"
      ],
      "text/plain": [
       "<IPython.core.display.Markdown object>"
      ]
     },
     "metadata": {},
     "output_type": "display_data"
    }
   ],
   "source": [
    "import datetime\n",
    "today = str(datetime.date.today())\n",
    "logfile = f\"_build/html/logs/log-{today}.md\"\n",
    "\n",
    "\n",
    "with open(logfile, 'w') as logs:\n",
    "    # Success\n",
    "    logs.write(f'# Arxiv on Deck 2: Logs - {today}\\n\\n')\n",
    "    logs.write(\"\"\"* Arxiv had {0:,d} new papers\\n\"\"\".format(len(new_papers)))\n",
    "    logs.write(\"\"\"    * {0:,d} with possible author matches\\n\\n\"\"\".format(len(candidates)))\n",
    "    logs.write(\"## Sucessful papers\\n\\n\")\n",
    "    display(Markdown(\"## Successful papers\"))\n",
    "    success = [k[0] for k in documents]\n",
    "    for candid in candidates:\n",
    "        if candid['identifier'].split(':')[-1] in success:\n",
    "            display(candid)\n",
    "            logs.write(candid.generate_markdown_text() + '\\n\\n')\n",
    "\n",
    "    ## failed\n",
    "    logs.write(\"## Failed papers\\n\\n\")\n",
    "    display(Markdown(\"## Failed papers\"))\n",
    "    failed = sorted(failed, key=lambda x: x[1])\n",
    "    current_reason = \"\"\n",
    "    for paper, reason in failed:\n",
    "        if 'affiliation' in reason:\n",
    "            color = 'green'\n",
    "        else:\n",
    "            color = 'red'\n",
    "        data = Markdown(\n",
    "                paper.generate_markdown_text() + \n",
    "                f'\\n|<p style=\"color:{color:s}\"> **ERROR** </p>| <p style=\"color:{color:s}\">{reason:s}</p> |'\n",
    "               )\n",
    "        if reason != current_reason:\n",
    "            logs.write(f'### {reason:s} \\n\\n')\n",
    "            current_reason = reason\n",
    "        logs.write(data.data + '\\n\\n')\n",
    "        \n",
    "        # only display here the important errors (all in logs)\n",
    "        # if color in ('red',):\n",
    "        display(data)"
   ]
  },
  {
   "cell_type": "markdown",
   "id": "472d20ee",
   "metadata": {
    "papermill": {
     "duration": 0.010881,
     "end_time": "2023-03-16T04:09:45.904002",
     "exception": false,
     "start_time": "2023-03-16T04:09:45.893121",
     "status": "completed"
    },
    "tags": []
   },
   "source": [
    "## Export documents\n",
    "\n",
    "We now write the .md files and export relevant images"
   ]
  },
  {
   "cell_type": "code",
   "execution_count": 7,
   "id": "d426aed9",
   "metadata": {
    "execution": {
     "iopub.execute_input": "2023-03-16T04:09:45.927556Z",
     "iopub.status.busy": "2023-03-16T04:09:45.926880Z",
     "iopub.status.idle": "2023-03-16T04:09:45.938524Z",
     "shell.execute_reply": "2023-03-16T04:09:45.937660Z"
    },
    "papermill": {
     "duration": 0.026037,
     "end_time": "2023-03-16T04:09:45.940775",
     "exception": false,
     "start_time": "2023-03-16T04:09:45.914738",
     "status": "completed"
    },
    "tags": []
   },
   "outputs": [],
   "source": [
    "def export_markdown_summary(md: str, md_fname:str, directory: str):\n",
    "    \"\"\"Export MD document and associated relevant images\"\"\"\n",
    "    import os\n",
    "    import shutil\n",
    "    import re\n",
    "\n",
    "    if (os.path.exists(directory) and not os.path.isdir(directory)):\n",
    "        raise RuntimeError(f\"a non-directory file exists with name {directory:s}\")\n",
    "\n",
    "    if (not os.path.exists(directory)):\n",
    "        print(f\"creating directory {directory:s}\")\n",
    "        os.mkdir(directory)\n",
    "\n",
    "    fig_fnames = (re.compile(r'\\[Fig.*\\]\\((.*)\\)').findall(md) + \n",
    "                  re.compile(r'\\<img src=\"([^>\\s]*)\"[^>]*/>').findall(md))\n",
    "    for fname in fig_fnames:\n",
    "        if 'http' in fname:\n",
    "            # No need to copy online figures\n",
    "            continue\n",
    "        destdir = os.path.join(directory, os.path.dirname(fname))\n",
    "        destfname = os.path.join(destdir, os.path.basename(fname))\n",
    "        try:\n",
    "            os.makedirs(destdir)\n",
    "        except FileExistsError:\n",
    "            pass\n",
    "        shutil.copy(fname, destfname)\n",
    "    with open(os.path.join(directory, md_fname), 'w') as fout:\n",
    "        fout.write(md)\n",
    "    print(\"exported in \", os.path.join(directory, md_fname))\n",
    "    [print(\"    + \" + os.path.join(directory,fk)) for fk in fig_fnames]"
   ]
  },
  {
   "cell_type": "code",
   "execution_count": 8,
   "id": "014d04a4",
   "metadata": {
    "execution": {
     "iopub.execute_input": "2023-03-16T04:09:45.964764Z",
     "iopub.status.busy": "2023-03-16T04:09:45.964092Z",
     "iopub.status.idle": "2023-03-16T04:09:45.973835Z",
     "shell.execute_reply": "2023-03-16T04:09:45.972894Z"
    },
    "papermill": {
     "duration": 0.023972,
     "end_time": "2023-03-16T04:09:45.975870",
     "exception": false,
     "start_time": "2023-03-16T04:09:45.951898",
     "status": "completed"
    },
    "tags": []
   },
   "outputs": [
    {
     "name": "stdout",
     "output_type": "stream",
     "text": [
      "exported in  _build/html/2303.08174.md\n",
      "    + _build/html/tmp_2303.08174/./TOI2096_ALFOSC_vs_SDSS_conv9.png\n",
      "    + _build/html/tmp_2303.08174/./radius_valley_new.png\n",
      "    + _build/html/tmp_2303.08174/./kast_classify2.png\n"
     ]
    }
   ],
   "source": [
    "for paper_id, md in documents:\n",
    "    export_markdown_summary(md, f\"{paper_id:s}.md\", '_build/html/')"
   ]
  },
  {
   "cell_type": "markdown",
   "id": "f087a0a7",
   "metadata": {
    "papermill": {
     "duration": 0.010709,
     "end_time": "2023-03-16T04:09:45.997616",
     "exception": false,
     "start_time": "2023-03-16T04:09:45.986907",
     "status": "completed"
    },
    "tags": []
   },
   "source": [
    "## Display the papers\n",
    "\n",
    "Not necessary but allows for a quick check."
   ]
  },
  {
   "cell_type": "code",
   "execution_count": 9,
   "id": "fd25f625",
   "metadata": {
    "execution": {
     "iopub.execute_input": "2023-03-16T04:09:46.024176Z",
     "iopub.status.busy": "2023-03-16T04:09:46.023581Z",
     "iopub.status.idle": "2023-03-16T04:09:46.031453Z",
     "shell.execute_reply": "2023-03-16T04:09:46.030352Z"
    },
    "papermill": {
     "duration": 0.024711,
     "end_time": "2023-03-16T04:09:46.034879",
     "exception": false,
     "start_time": "2023-03-16T04:09:46.010168",
     "status": "completed"
    },
    "scrolled": false,
    "tags": []
   },
   "outputs": [
    {
     "data": {
      "text/markdown": [
       "<div class=\"macros\" style=\"visibility:hidden;\">\n",
       "$\\newcommand{\\ensuremath}{}$\n",
       "$\\newcommand{\\xspace}{}$\n",
       "$\\newcommand{\\object}[1]{\\texttt{#1}}$\n",
       "$\\newcommand{\\farcs}{{.}''}$\n",
       "$\\newcommand{\\farcm}{{.}'}$\n",
       "$\\newcommand{\\arcsec}{''}$\n",
       "$\\newcommand{\\arcmin}{'}$\n",
       "$\\newcommand{\\ion}[2]{#1#2}$\n",
       "$\\newcommand{\\textsc}[1]{\\textrm{#1}}$\n",
       "$\\newcommand{\\hl}[1]{\\textrm{#1}}$\n",
       "$\\newcommand{\\footnote}[1]{}$\n",
       "$\\newcommand{\\tls}{{\\fontfamily{pcr}\\selectfont tls} }$\n",
       "$\\newcommand{\\ellc}{{\\fontfamily{pcr}\\selectfont ellc} }$\n",
       "$\\newcommand{\\emcee}{{\\fontfamily{pcr}\\selectfont emcee} }$\n",
       "$\\newcommand{\\dynesty}{{\\fontfamily{pcr}\\selectfont dynesty} }$\n",
       "$\\newcommand{\\allesfitter}{{\\fontfamily{pcr}\\selectfont allesfitter} }$\n",
       "$\\newcommand{\\sherlock}{{\\fontfamily{pcr}\\selectfont SHERLOCK} }$\n",
       "$\\newcommand{\\matrixtk}{{\\fontfamily{pcr}\\selectfont MATRIX} }$\n",
       "$\\newcommand{\\wotan}{{\\fontfamily{pcr}\\selectfont wotan} }$\n",
       "$\\newcommand{\\forecaster}{{\\fontfamily{pcr}\\selectfont forecaster} }$\n",
       "$\\newcommand{\\lightkurve}{{\\fontfamily{pcr}\\selectfont lightkurve} }$\n",
       "$\\newcommand{\\celerite}{{\\fontfamily{pcr}\\selectfont celerite} }$\n",
       "$\\newcommand{\\triceratops}{{\\fontfamily{pcr}\\selectfont TRICERATOPS} }$\n",
       "$\\newcommand{\\orcidauthorA}{0000-0003-1572-7707}$\n",
       "$\\newcommand{\\orcidauthorB}{0000-0002-3164-9086}$\n",
       "$\\newcommand{\\orcidauthorC}{0000-0003-1462-7739}$\n",
       "$\\newcommand{\\orcidauthorD}{0000-0002-8219-9505}$\n",
       "$\\newcommand{\\orcidauthorE}{0000-0002-4715-9460}$\n",
       "$\\newcommand{\\orcidauthorF}{0000-0002-5370-7494}$\n",
       "$\\newcommand{\\orcidauthorG}{0000-0001-8504-5862}$\n",
       "$\\newcommand{\\orcidauthorH}{0000-0002-7008-6888}$\n",
       "$\\newcommand{\\orcidauthorI}{0000-0002-6523-9536}$\n",
       "$\\newcommand{\\orcidauthorJ}{0000-0002-3627-1676}$\n",
       "$\\newcommand{\\orcidauthorK}{0000-0002-3481-9052}$\n",
       "$\\newcommand{\\orcidauthorL}{0000-0003-2144-4316}$\n",
       "$\\newcommand{\\orcidauthorM}{0000-0003-2094-9128}$\n",
       "$\\newcommand{\\orcidauthorN}{0000-0002-2532-2853}$\n",
       "$\\newcommand{\\orcidauthorO}{0000-0002-8052-3893}$\n",
       "$\\newcommand{\\orcidauthorP}{0000-0002-2214-9258}$\n",
       "$\\newcommand{\\orcidauthorQ}{0000-0003-1464-9276}$\n",
       "$\\newcommand{\\orcidauthorR}{0000-0001-9892-2406}$\n",
       "$\\newcommand{\\orcidauthorS}{0000-0002-9355-5165}$\n",
       "$\\newcommand{\\orcidauthorT}{0000-0002-3937-630X}$\n",
       "$\\newcommand{\\orcidauthorU}{0000-0002-9113-7162}$\n",
       "$\\newcommand{\\orcidauthorV}{0000-0001-9800-6248}$\n",
       "$\\newcommand{\\orcidauthorW}{0000-0002-4296-2246}$\n",
       "$\\newcommand{\\orcidauthorY}{0000-0002-7486-6726}$\n",
       "$\\newcommand{\\orcidauthorX}{0000-0002-3938-4211}$\n",
       "$\\newcommand{\\orcidauthorZ}{0000-0002-3164-9086}$\n",
       "$\\newcommand{\\orcidauthora}{0000-0001-8923-488X}$\n",
       "$\\newcommand{\\orcidauthorb}{0000-0001-6108-4808}$\n",
       "$\\newcommand{\\orcidauthorc}{0000-0001-9911-7388}$\n",
       "$\\newcommand{\\orcidauthord}{0000-0002-3012-0316}$\n",
       "$\\newcommand{\\orcidauthore}{0000-0003-0242-0044}$\n",
       "$\\newcommand{\\orcidauthorf}{0000-0002-9807-5435}$\n",
       "$\\newcommand{\\orcidauthorg}{0000-0002-5510-8751}$\n",
       "$\\newcommand{\\orcidauthorh}{0000-0002-8039-194X}$\n",
       "$\\newcommand{\\orcidauthori}{0000-0003-0030-332X}$\n",
       "$\\newcommand{\\orcidauthorj}{0000-0002-7084-0529}$\n",
       "$\\newcommand{\\orcidauthork}{0000-0002-8388-6040}$\n",
       "$\\newcommand{\\orcidauthorl}{0000-0001-5559-7850}$\n",
       "$\\newcommand{\\orcidauthorm}{0000-0003-3649-8384}$\n",
       "$\\newcommand{\\orcidauthorn}{0000-0003-3101-917X}$\n",
       "$\\newcommand{\\orcidauthoro}{0000-0002-3321-4924}$\n",
       "$\\newcommand{\\orcidauthorp}{0000-0001-9291-5555}$\n",
       "$\\newcommand{\\orcidauthorr}{0000-0003-3714-5855}$\n",
       "$\\newcommand{\\orcidauthors}{0000-0002-9350-830X}$\n",
       "$\\newcommand{\\orcidauthort}{0000-0003-2007-6144}$\n",
       "$\\newcommand{\\orcidauthoru}{0000-0002-4671-2957}$\n",
       "$\\newcommand{\\orcidauthorv}{0000-0002-5494-3237}$\n",
       "$\\newcommand{\\orcidauthorw}{0000-0002-7240-8473}$\n",
       "$\\newcommand{\\orcidauthorx}{0000-0003-3767-7085}$\n",
       "$\\newcommand{\\arraystretch}{1.15}$\n",
       "$\\newcommand{\\arraystretch}{1.15}$\n",
       "$\\newcommand{\\arraystretch}{1.0}$\n",
       "$\\newcommand{\\arraystretch}{1.15}$</div>\n",
       "\n",
       "<div class=\"macros\" style=\"visibility:hidden;\">\n",
       "$\\newcommand{\\ensuremath}{}$\n",
       "$\\newcommand{\\xspace}{}$\n",
       "$\\newcommand{\\object}[1]{\\texttt{#1}}$\n",
       "$\\newcommand{\\farcs}{{.}''}$\n",
       "$\\newcommand{\\farcm}{{.}'}$\n",
       "$\\newcommand{\\arcsec}{''}$\n",
       "$\\newcommand{\\arcmin}{'}$\n",
       "$\\newcommand{\\ion}[2]{#1#2}$\n",
       "$\\newcommand{\\textsc}[1]{\\textrm{#1}}$\n",
       "$\\newcommand{\\hl}[1]{\\textrm{#1}}$\n",
       "$\\newcommand{\\footnote}[1]{}$\n",
       "$\\newcommand{\\tls}{{\\fontfamily{pcr}\\selectfont tls} }$\n",
       "$\\newcommand{\\ellc}{{\\fontfamily{pcr}\\selectfont ellc} }$\n",
       "$\\newcommand{\\emcee}{{\\fontfamily{pcr}\\selectfont emcee} }$\n",
       "$\\newcommand{\\dynesty}{{\\fontfamily{pcr}\\selectfont dynesty} }$\n",
       "$\\newcommand{\\allesfitter}{{\\fontfamily{pcr}\\selectfont allesfitter} }$\n",
       "$\\newcommand{\\sherlock}{{\\fontfamily{pcr}\\selectfont SHERLOCK} }$\n",
       "$\\newcommand{\\matrixtk}{{\\fontfamily{pcr}\\selectfont MATRIX} }$\n",
       "$\\newcommand{\\wotan}{{\\fontfamily{pcr}\\selectfont wotan} }$\n",
       "$\\newcommand{\\forecaster}{{\\fontfamily{pcr}\\selectfont forecaster} }$\n",
       "$\\newcommand{\\lightkurve}{{\\fontfamily{pcr}\\selectfont lightkurve} }$\n",
       "$\\newcommand{\\celerite}{{\\fontfamily{pcr}\\selectfont celerite} }$\n",
       "$\\newcommand{\\triceratops}{{\\fontfamily{pcr}\\selectfont TRICERATOPS} }$\n",
       "$\\newcommand{\\orcidauthorA}{0000-0003-1572-7707}$\n",
       "$\\newcommand{\\orcidauthorB}{0000-0002-3164-9086}$\n",
       "$\\newcommand{\\orcidauthorC}{0000-0003-1462-7739}$\n",
       "$\\newcommand{\\orcidauthorD}{0000-0002-8219-9505}$\n",
       "$\\newcommand{\\orcidauthorE}{0000-0002-4715-9460}$\n",
       "$\\newcommand{\\orcidauthorF}{0000-0002-5370-7494}$\n",
       "$\\newcommand{\\orcidauthorG}{0000-0001-8504-5862}$\n",
       "$\\newcommand{\\orcidauthorH}{0000-0002-7008-6888}$\n",
       "$\\newcommand{\\orcidauthorI}{0000-0002-6523-9536}$\n",
       "$\\newcommand{\\orcidauthorJ}{0000-0002-3627-1676}$\n",
       "$\\newcommand{\\orcidauthorK}{0000-0002-3481-9052}$\n",
       "$\\newcommand{\\orcidauthorL}{0000-0003-2144-4316}$\n",
       "$\\newcommand{\\orcidauthorM}{0000-0003-2094-9128}$\n",
       "$\\newcommand{\\orcidauthorN}{0000-0002-2532-2853}$\n",
       "$\\newcommand{\\orcidauthorO}{0000-0002-8052-3893}$\n",
       "$\\newcommand{\\orcidauthorP}{0000-0002-2214-9258}$\n",
       "$\\newcommand{\\orcidauthorQ}{0000-0003-1464-9276}$\n",
       "$\\newcommand{\\orcidauthorR}{0000-0001-9892-2406}$\n",
       "$\\newcommand{\\orcidauthorS}{0000-0002-9355-5165}$\n",
       "$\\newcommand{\\orcidauthorT}{0000-0002-3937-630X}$\n",
       "$\\newcommand{\\orcidauthorU}{0000-0002-9113-7162}$\n",
       "$\\newcommand{\\orcidauthorV}{0000-0001-9800-6248}$\n",
       "$\\newcommand{\\orcidauthorW}{0000-0002-4296-2246}$\n",
       "$\\newcommand{\\orcidauthorY}{0000-0002-7486-6726}$\n",
       "$\\newcommand{\\orcidauthorX}{0000-0002-3938-4211}$\n",
       "$\\newcommand{\\orcidauthorZ}{0000-0002-3164-9086}$\n",
       "$\\newcommand{\\orcidauthora}{0000-0001-8923-488X}$\n",
       "$\\newcommand{\\orcidauthorb}{0000-0001-6108-4808}$\n",
       "$\\newcommand{\\orcidauthorc}{0000-0001-9911-7388}$\n",
       "$\\newcommand{\\orcidauthord}{0000-0002-3012-0316}$\n",
       "$\\newcommand{\\orcidauthore}{0000-0003-0242-0044}$\n",
       "$\\newcommand{\\orcidauthorf}{0000-0002-9807-5435}$\n",
       "$\\newcommand{\\orcidauthorg}{0000-0002-5510-8751}$\n",
       "$\\newcommand{\\orcidauthorh}{0000-0002-8039-194X}$\n",
       "$\\newcommand{\\orcidauthori}{0000-0003-0030-332X}$\n",
       "$\\newcommand{\\orcidauthorj}{0000-0002-7084-0529}$\n",
       "$\\newcommand{\\orcidauthork}{0000-0002-8388-6040}$\n",
       "$\\newcommand{\\orcidauthorl}{0000-0001-5559-7850}$\n",
       "$\\newcommand{\\orcidauthorm}{0000-0003-3649-8384}$\n",
       "$\\newcommand{\\orcidauthorn}{0000-0003-3101-917X}$\n",
       "$\\newcommand{\\orcidauthoro}{0000-0002-3321-4924}$\n",
       "$\\newcommand{\\orcidauthorp}{0000-0001-9291-5555}$\n",
       "$\\newcommand{\\orcidauthorr}{0000-0003-3714-5855}$\n",
       "$\\newcommand{\\orcidauthors}{0000-0002-9350-830X}$\n",
       "$\\newcommand{\\orcidauthort}{0000-0003-2007-6144}$\n",
       "$\\newcommand{\\orcidauthoru}{0000-0002-4671-2957}$\n",
       "$\\newcommand{\\orcidauthorv}{0000-0002-5494-3237}$\n",
       "$\\newcommand{\\orcidauthorw}{0000-0002-7240-8473}$\n",
       "$\\newcommand{\\orcidauthorx}{0000-0003-3767-7085}$\n",
       "$\\newcommand{\\arraystretch}{1.15}$\n",
       "$\\newcommand{\\arraystretch}{1.15}$\n",
       "$\\newcommand{\\arraystretch}{1.0}$\n",
       "$\\newcommand{\\arraystretch}{1.15}$</div>\n",
       "\n",
       "\n",
       "\n",
       "<div id=\"title\">\n",
       "\n",
       "# A super-Earth and a mini-Neptune near the 2:1 MMR straddling the radius valley around the nearby mid-M dwarf TOI-2096\n",
       "\n",
       "</div>\n",
       "<div id=\"comments\">\n",
       "\n",
       "[![arXiv](https://img.shields.io/badge/arXiv-2303.08174-b31b1b.svg)](https://arxiv.org/abs/2303.08174)<mark>Appeared on: 2023-03-16</mark> - _25 pages, 21 figures. Aceptted for publication in Astronomy & Astrophysics_\n",
       "\n",
       "</div>\n",
       "<div id=\"authors\">\n",
       "\n",
       "F. J. Pozuelos, et al. -- incl., <mark><mark>R. D. Wells</mark></mark>, <mark><mark>G. Torres</mark></mark>\n",
       "\n",
       "</div>\n",
       "<div id=\"abstract\">\n",
       "\n",
       "**Abstract:** Several planetary formation models have been proposed to explain the observed abundance and variety of compositions of super-Earths and mini-Neptunes. In this context, multitransiting systems orbiting low-mass stars whose planets are close to the radius valley are benchmark systems, which help to elucidate which formation model dominates. We report the discovery, validation, and initial characterization of one such system, TOI-2096 (TIC 142748283), a two-planet system composed of a super-Earth and a mini-Neptune hosted by a mid-type M dwarf located 48 pc away. We characterized the host star by combining optical spectra, analyzing its broadband spectral energy distribution, and using evolutionary models for low-mass stars. Then, we derived the planetary properties by modeling the photometric data from TESS and ground-based facilities. In addition, we used archival data, high-resolution imaging, and statistical validation to support our planetary interpretation. We found that the stellar properties of TOI-2096 correspond to a dwarf star of spectral type M4 $\\pm$ 0.5. It harbors a super-Earth (R=1.24 $\\pm{0.07}$ R $_{\\oplus}$ ) and a mini-Neptune (R=1.90 $\\pm{0.09}$ R $_{\\oplus}$ ) in likely slightly eccentric orbits with orbital periods of 3.12 d and 6.39 d, respectively. These orbital periods are close to the first-order 2:1 mean-motion resonance (MMR), a configuration that may lead to measurable transit timing variations (TTVs). We computed the expected TTVs amplitude for each planet and found that they might be measurable with high-precision photometry delivering mid-transit times with accuracies of $\\lesssim$ 2 min. Moreover, we conclude that measuring the planetary masses via radial velocities (RVs) could also be possible. Lastly, we found that these planets are among the best in their class to conduct atmospheric studies using the NIRSpec/Prism onboard the James Webb Space Telescope (JWST). The properties of this system make it a suitable candidate for further studies, particularly for mass determination using RVs and/or TTVs, decreasing the scarcity of systems that can be used to test planetary formation models around low-mass stars.\n",
       "\n",
       "</div>\n",
       "\n",
       "<div id=\"div_fig1\">\n",
       "\n",
       "<img src=\"tmp_2303.08174/./TOI2096_ALFOSC_vs_SDSS_conv9.png\" alt=\"Fig1\" width=\"100%\"/>\n",
       "\n",
       "**Figure 1. -** NOT/ALFOSC optical spectrum of TOI-2096 (black) compared to SDSS M3, M4, and M5 templates \\citet{Bochanski2007} and \\citet{kesseli:2017:16}(colored). The SDSS spectra were convolved using a Gaussian function to match the ALFOSC spectrum resolution. The spectra were normalized at $\\sim$7500 Å  and shifted by a constant. Some remarkable absorption bands and lines are labeled in gray. (*fig:ALFOSCspT*)\n",
       "\n",
       "</div>\n",
       "<div id=\"div_fig2\">\n",
       "\n",
       "<img src=\"tmp_2303.08174/./radius_valley_new.png\" alt=\"Fig11\" width=\"100%\"/>\n",
       "\n",
       "**Figure 11. -** The left panel depicts the planet radius--orbital period plane, containing all the transiting planets with sizes <4 R$_{\\oplus}$ orbiting low-mass stars (stellar mass < 0.70 M$_{\\odot}$). The green contours represent the density distribution of all of these planets. The gray dots are planets with density estimations better than 30$\\%$. The dashed line refers to the prediction using thermally driven mass-loss mechanisms, such as photoevaporation and core-powered mass-loss. On the other hand, the solid line represents the prediction from the gas-poor formation model.\n",
       "Planets inside the region limited by these two lines are referred to as `keystone' planets. The red and the blue dots refer to the planets TOI-2096 b and c, respectively. The right panel displays the radius frequency, showing the radius valley and the location of planets b (red band) and c (blue band) encompassing it. (*fig:radiusvalley*)\n",
       "\n",
       "</div>\n",
       "<div id=\"div_fig3\">\n",
       "\n",
       "<img src=\"tmp_2303.08174/./kast_classify2.png\" alt=\"Fig2\" width=\"100%\"/>\n",
       "\n",
       "**Figure 2. -** \n",
       "        Shane/Kast red optical spectrum of TOI-2096 (black), compared to an M4 template \\citep[magenta]{kesseli:2017:16}. Spectra are normalized in the 7400--7500 {Å} region, and major absorption features are labeled, including resolved lines.\n",
       "        The inset box shows a close-up of the region hosting H$\\alpha$ and Li i features. The former is obscured by an unfortunate cosmic ray strike (unmasked spectral data in grey); the latter is not detected.\n",
       "     (*fig:kast*)\n",
       "\n",
       "</div>"
      ],
      "text/plain": [
       "<IPython.core.display.Markdown object>"
      ]
     },
     "metadata": {},
     "output_type": "display_data"
    }
   ],
   "source": [
    "[display(Markdown(k[1])) for k in documents];"
   ]
  },
  {
   "cell_type": "markdown",
   "id": "873873a4",
   "metadata": {
    "papermill": {
     "duration": 0.011057,
     "end_time": "2023-03-16T04:09:46.057140",
     "exception": false,
     "start_time": "2023-03-16T04:09:46.046083",
     "status": "completed"
    },
    "tags": []
   },
   "source": [
    "# Create HTML index"
   ]
  },
  {
   "cell_type": "code",
   "execution_count": 10,
   "id": "cf665672",
   "metadata": {
    "execution": {
     "iopub.execute_input": "2023-03-16T04:09:46.083530Z",
     "iopub.status.busy": "2023-03-16T04:09:46.082331Z",
     "iopub.status.idle": "2023-03-16T04:09:46.094329Z",
     "shell.execute_reply": "2023-03-16T04:09:46.093277Z"
    },
    "papermill": {
     "duration": 0.027531,
     "end_time": "2023-03-16T04:09:46.096504",
     "exception": false,
     "start_time": "2023-03-16T04:09:46.068973",
     "status": "completed"
    },
    "tags": []
   },
   "outputs": [
    {
     "name": "stdout",
     "output_type": "stream",
     "text": [
      "197  publications files modified in the last 7 days.\n"
     ]
    }
   ],
   "source": [
    "from datetime import datetime, timedelta, timezone\n",
    "from glob import glob\n",
    "import os\n",
    "\n",
    "files = glob('_build/html/*.md')\n",
    "days = 7\n",
    "now = datetime.today()\n",
    "res = []\n",
    "for fk in files:\n",
    "    stat_result = os.stat(fk).st_ctime\n",
    "    modified = datetime.fromtimestamp(stat_result, tz=timezone.utc).replace(tzinfo=None)\n",
    "    delta = now.today() - modified\n",
    "    if delta <= timedelta(days=days):\n",
    "        res.append((delta.seconds, fk))\n",
    "res = [k[1] for k in reversed(sorted(res, key=lambda x:x[1]))]\n",
    "npub = len(res)\n",
    "print(len(res), f\" publications files modified in the last {days:d} days.\")\n",
    "# [ print('\\t', k) for k in res ];"
   ]
  },
  {
   "cell_type": "code",
   "execution_count": 11,
   "id": "015de740",
   "metadata": {
    "execution": {
     "iopub.execute_input": "2023-03-16T04:09:46.122590Z",
     "iopub.status.busy": "2023-03-16T04:09:46.122172Z",
     "iopub.status.idle": "2023-03-16T04:09:46.151933Z",
     "shell.execute_reply": "2023-03-16T04:09:46.150895Z"
    },
    "papermill": {
     "duration": 0.045806,
     "end_time": "2023-03-16T04:09:46.154320",
     "exception": false,
     "start_time": "2023-03-16T04:09:46.108514",
     "status": "completed"
    },
    "tags": []
   },
   "outputs": [
    {
     "name": "stdout",
     "output_type": "stream",
     "text": [
      "4  publications in the last 7 days.\n"
     ]
    }
   ],
   "source": [
    "import datetime\n",
    "from glob import glob\n",
    "\n",
    "def get_last_n_days(lst, days=1):\n",
    "    \"\"\" Get the documents from the last n days \"\"\"\n",
    "    sorted_lst = sorted(lst, key=lambda x: x[1], reverse=True)\n",
    "    for fname, date in sorted_lst:\n",
    "        if date >= str(datetime.date.today() - datetime.timedelta(days=days)):\n",
    "            yield fname\n",
    "\n",
    "def extract_appearance_dates(lst_file):\n",
    "    dates = []\n",
    "\n",
    "    def get_date(line):\n",
    "        return line\\\n",
    "            .split('Appeared on:')[-1]\\\n",
    "            .split('</mark>')[0].strip()\n",
    "\n",
    "    for fname in lst:\n",
    "        with open(fname, 'r') as f:\n",
    "            found_date = False\n",
    "            for line in f:\n",
    "                if not found_date:\n",
    "                    if \"Appeared on\" in line:\n",
    "                        found_date = True\n",
    "                        dates.append((fname, get_date(line)))\n",
    "                else:\n",
    "                    break\n",
    "    return dates\n",
    "\n",
    "from glob import glob\n",
    "lst = glob('_build/html/*md')\n",
    "days = 7\n",
    "dates = extract_appearance_dates(lst)\n",
    "res = list(get_last_n_days(dates, days))\n",
    "npub = len(res)\n",
    "print(len(res), f\" publications in the last {days:d} days.\")"
   ]
  },
  {
   "cell_type": "code",
   "execution_count": 12,
   "id": "52ca0208",
   "metadata": {
    "execution": {
     "iopub.execute_input": "2023-03-16T04:09:46.180814Z",
     "iopub.status.busy": "2023-03-16T04:09:46.180018Z",
     "iopub.status.idle": "2023-03-16T04:09:46.187326Z",
     "shell.execute_reply": "2023-03-16T04:09:46.186381Z"
    },
    "papermill": {
     "duration": 0.02336,
     "end_time": "2023-03-16T04:09:46.189624",
     "exception": false,
     "start_time": "2023-03-16T04:09:46.166264",
     "status": "completed"
    },
    "scrolled": false,
    "tags": []
   },
   "outputs": [],
   "source": [
    "def create_carousel(npub=4):\n",
    "    \"\"\" Generate the HTML code for a carousel with `npub` slides \"\"\"\n",
    "    carousel = [\"\"\"  <div class=\"carousel\" \"\"\",\n",
    "                \"\"\"       data-flickity='{ \"autoPlay\": 10000, \"adaptiveHeight\": true, \"resize\": true, \"wrapAround\": true, \"pauseAutoPlayOnHover\": true, \"groupCells\": 1 }' id=\"asyncTypeset\">\"\"\"\n",
    "                ]\n",
    "    \n",
    "    item_str = \"\"\"    <div class=\"carousel-cell\"> <div id=\"slide{k}\" class=\"md_view\">Content {k}</div> </div>\"\"\"\n",
    "    for k in range(1, npub + 1):\n",
    "        carousel.append(item_str.format(k=k))\n",
    "    carousel.append(\"  </div>\")\n",
    "    return '\\n'.join(carousel)\n",
    "\n",
    "def create_grid(npub=4):\n",
    "    \"\"\" Generate the HTML code for a flat grid with `npub` slides \"\"\"\n",
    "    grid = [\"\"\"  <div class=\"grid\"> \"\"\",\n",
    "                ]\n",
    "    \n",
    "    item_str = \"\"\"    <div class=\"grid-item\"> <div id=\"slide{k}\" class=\"md_view\">Content {k}</div> </div>\"\"\"\n",
    "    for k in range(1, npub + 1):\n",
    "        grid.append(item_str.format(k=k))\n",
    "    grid.append(\"  </div>\")\n",
    "    return '\\n'.join(grid)"
   ]
  },
  {
   "cell_type": "code",
   "execution_count": 13,
   "id": "a6eac5b6",
   "metadata": {
    "execution": {
     "iopub.execute_input": "2023-03-16T04:09:46.219307Z",
     "iopub.status.busy": "2023-03-16T04:09:46.218265Z",
     "iopub.status.idle": "2023-03-16T04:09:46.237675Z",
     "shell.execute_reply": "2023-03-16T04:09:46.236327Z"
    },
    "papermill": {
     "duration": 0.038683,
     "end_time": "2023-03-16T04:09:46.240445",
     "exception": false,
     "start_time": "2023-03-16T04:09:46.201762",
     "status": "completed"
    },
    "scrolled": false,
    "tags": []
   },
   "outputs": [],
   "source": [
    "carousel = create_carousel(npub)\n",
    "docs = ', '.join(['\"{0:s}\"'.format(k.split('/')[-1]) for k in res])\n",
    "slides = ', '.join([f'\"slide{k}\"' for k in range(1, npub + 1)])\n",
    "\n",
    "with open(\"daily_template.html\", \"r\") as tpl:\n",
    "    page = tpl.read()\n",
    "    page = page.replace(\"{%-- carousel:s --%}\", carousel)\\\n",
    "               .replace(\"{%-- suptitle:s --%}\",  \"7-day archives\" )\\\n",
    "               .replace(\"{%-- docs:s --%}\", docs)\\\n",
    "               .replace(\"{%-- slides:s --%}\", slides)\n",
    "    \n",
    "with open(\"_build/html/index_7days.html\", 'w') as fout:\n",
    "    fout.write(page)"
   ]
  },
  {
   "cell_type": "code",
   "execution_count": 14,
   "id": "adc1a1ec",
   "metadata": {
    "execution": {
     "iopub.execute_input": "2023-03-16T04:09:46.317073Z",
     "iopub.status.busy": "2023-03-16T04:09:46.316487Z",
     "iopub.status.idle": "2023-03-16T04:09:46.326102Z",
     "shell.execute_reply": "2023-03-16T04:09:46.325008Z"
    },
    "papermill": {
     "duration": 0.030446,
     "end_time": "2023-03-16T04:09:46.329410",
     "exception": false,
     "start_time": "2023-03-16T04:09:46.298964",
     "status": "completed"
    },
    "tags": []
   },
   "outputs": [
    {
     "name": "stdout",
     "output_type": "stream",
     "text": [
      "1  publications in the last day.\n"
     ]
    }
   ],
   "source": [
    "# redo for today\n",
    "days = 1\n",
    "res = list(get_last_n_days(dates, days))\n",
    "npub = len(res)\n",
    "print(len(res), f\" publications in the last day.\")\n",
    "\n",
    "carousel = create_carousel(npub)\n",
    "docs = ', '.join(['\"{0:s}\"'.format(k.split('/')[-1]) for k in res])\n",
    "slides = ', '.join([f'\"slide{k}\"' for k in range(1, npub + 1)])\n",
    "\n",
    "with open(\"daily_template.html\", \"r\") as tpl:\n",
    "    page = tpl.read()\n",
    "    page = page.replace(\"{%-- carousel:s --%}\", carousel)\\\n",
    "               .replace(\"{%-- suptitle:s --%}\",  \"Daily\" )\\\n",
    "               .replace(\"{%-- docs:s --%}\", docs)\\\n",
    "               .replace(\"{%-- slides:s --%}\", slides)\n",
    "    \n",
    "# print(carousel, docs, slides)\n",
    "# print(page)\n",
    "with open(\"_build/html/index_daily.html\", 'w') as fout:\n",
    "    fout.write(page)"
   ]
  },
  {
   "cell_type": "code",
   "execution_count": 15,
   "id": "00eece82",
   "metadata": {
    "execution": {
     "iopub.execute_input": "2023-03-16T04:09:46.360139Z",
     "iopub.status.busy": "2023-03-16T04:09:46.359277Z",
     "iopub.status.idle": "2023-03-16T04:09:46.371138Z",
     "shell.execute_reply": "2023-03-16T04:09:46.370108Z"
    },
    "papermill": {
     "duration": 0.032113,
     "end_time": "2023-03-16T04:09:46.373330",
     "exception": false,
     "start_time": "2023-03-16T04:09:46.341217",
     "status": "completed"
    },
    "scrolled": false,
    "tags": []
   },
   "outputs": [
    {
     "name": "stdout",
     "output_type": "stream",
     "text": [
      "6  6 publications selected.\n"
     ]
    }
   ],
   "source": [
    "# Create the flat grid of the last N papers (fixed number regardless of dates)\n",
    "from itertools import islice \n",
    "\n",
    "npub = 6\n",
    "res = [k[0] for k in (islice(reversed(sorted(dates, key=lambda x: x[1])), 6))]\n",
    "print(len(res), f\" {npub} publications selected.\")\n",
    "\n",
    "grid = create_grid(npub)\n",
    "docs = ', '.join(['\"{0:s}\"'.format(k.split('/')[-1]) for k in res])\n",
    "slides = ', '.join([f'\"slide{k}\"' for k in range(1, npub + 1)])\n",
    "\n",
    "with open(\"grid_template.html\", \"r\") as tpl:\n",
    "    page = tpl.read()\n",
    "    page = page.replace(\"{%-- grid-content:s --%}\", grid)\\\n",
    "               .replace(\"{%-- suptitle:s --%}\",  f\"Last {npub:,d} papers\" )\\\n",
    "               .replace(\"{%-- docs:s --%}\", docs)\\\n",
    "               .replace(\"{%-- slides:s --%}\", slides)\n",
    "    \n",
    "# print(grid, docs, slides)\n",
    "# print(page)\n",
    "with open(\"_build/html/index_npub_grid.html\", 'w') as fout:\n",
    "    fout.write(page)"
   ]
  },
  {
   "cell_type": "code",
   "execution_count": null,
   "id": "cab45692",
   "metadata": {
    "papermill": {
     "duration": 0.012046,
     "end_time": "2023-03-16T04:09:46.397574",
     "exception": false,
     "start_time": "2023-03-16T04:09:46.385528",
     "status": "completed"
    },
    "tags": []
   },
   "outputs": [],
   "source": []
  },
  {
   "cell_type": "code",
   "execution_count": null,
   "id": "aec9821f",
   "metadata": {
    "papermill": {
     "duration": 0.011924,
     "end_time": "2023-03-16T04:09:46.421255",
     "exception": false,
     "start_time": "2023-03-16T04:09:46.409331",
     "status": "completed"
    },
    "tags": []
   },
   "outputs": [],
   "source": []
  }
 ],
 "metadata": {
  "kernelspec": {
   "display_name": "Python 3 (ipykernel)",
   "language": "python",
   "name": "python3"
  },
  "language_info": {
   "codemirror_mode": {
    "name": "ipython",
    "version": 3
   },
   "file_extension": ".py",
   "mimetype": "text/x-python",
   "name": "python",
   "nbconvert_exporter": "python",
   "pygments_lexer": "ipython3",
   "version": "3.9.16"
  },
  "papermill": {
   "default_parameters": {},
   "duration": 109.312435,
   "end_time": "2023-03-16T04:09:46.754659",
   "environment_variables": {},
   "exception": null,
   "input_path": "MPIA daily digest.ipynb",
   "output_path": "log.ipynb",
   "parameters": {},
   "start_time": "2023-03-16T04:07:57.442224",
   "version": "2.4.0"
  },
  "vscode": {
   "interpreter": {
    "hash": "aee8b7b246df8f9039afb4144a1f6fd8d2ca17a180786b69acc140d282b71a49"
   }
  },
  "widgets": {
   "application/vnd.jupyter.widget-state+json": {
    "state": {
     "050466bc6d044601ac1269b4f011de13": {
      "model_module": "@jupyter-widgets/base",
      "model_module_version": "2.0.0",
      "model_name": "LayoutModel",
      "state": {
       "_model_module": "@jupyter-widgets/base",
       "_model_module_version": "2.0.0",
       "_model_name": "LayoutModel",
       "_view_count": null,
       "_view_module": "@jupyter-widgets/base",
       "_view_module_version": "2.0.0",
       "_view_name": "LayoutView",
       "align_content": null,
       "align_items": null,
       "align_self": null,
       "border_bottom": null,
       "border_left": null,
       "border_right": null,
       "border_top": null,
       "bottom": null,
       "display": null,
       "flex": null,
       "flex_flow": null,
       "grid_area": null,
       "grid_auto_columns": null,
       "grid_auto_flow": null,
       "grid_auto_rows": null,
       "grid_column": null,
       "grid_gap": null,
       "grid_row": null,
       "grid_template_areas": null,
       "grid_template_columns": null,
       "grid_template_rows": null,
       "height": null,
       "justify_content": null,
       "justify_items": null,
       "left": null,
       "margin": null,
       "max_height": null,
       "max_width": null,
       "min_height": null,
       "min_width": null,
       "object_fit": null,
       "object_position": null,
       "order": null,
       "overflow": null,
       "padding": null,
       "right": null,
       "top": null,
       "visibility": null,
       "width": null
      }
     },
     "20b90622c03b43a79101472340aa8d85": {
      "model_module": "@jupyter-widgets/controls",
      "model_module_version": "2.0.0",
      "model_name": "ProgressStyleModel",
      "state": {
       "_model_module": "@jupyter-widgets/controls",
       "_model_module_version": "2.0.0",
       "_model_name": "ProgressStyleModel",
       "_view_count": null,
       "_view_module": "@jupyter-widgets/base",
       "_view_module_version": "2.0.0",
       "_view_name": "StyleView",
       "bar_color": null,
       "description_width": ""
      }
     },
     "20bcc29f9cdb47059df4176b0266531c": {
      "model_module": "@jupyter-widgets/base",
      "model_module_version": "2.0.0",
      "model_name": "LayoutModel",
      "state": {
       "_model_module": "@jupyter-widgets/base",
       "_model_module_version": "2.0.0",
       "_model_name": "LayoutModel",
       "_view_count": null,
       "_view_module": "@jupyter-widgets/base",
       "_view_module_version": "2.0.0",
       "_view_name": "LayoutView",
       "align_content": null,
       "align_items": null,
       "align_self": null,
       "border_bottom": null,
       "border_left": null,
       "border_right": null,
       "border_top": null,
       "bottom": null,
       "display": null,
       "flex": null,
       "flex_flow": null,
       "grid_area": null,
       "grid_auto_columns": null,
       "grid_auto_flow": null,
       "grid_auto_rows": null,
       "grid_column": null,
       "grid_gap": null,
       "grid_row": null,
       "grid_template_areas": null,
       "grid_template_columns": null,
       "grid_template_rows": null,
       "height": null,
       "justify_content": null,
       "justify_items": null,
       "left": null,
       "margin": null,
       "max_height": null,
       "max_width": null,
       "min_height": null,
       "min_width": null,
       "object_fit": null,
       "object_position": null,
       "order": null,
       "overflow": null,
       "padding": null,
       "right": null,
       "top": null,
       "visibility": null,
       "width": null
      }
     },
     "368e1b727a754918aae466eef3d3884e": {
      "model_module": "@jupyter-widgets/controls",
      "model_module_version": "2.0.0",
      "model_name": "HTMLModel",
      "state": {
       "_dom_classes": [],
       "_model_module": "@jupyter-widgets/controls",
       "_model_module_version": "2.0.0",
       "_model_name": "HTMLModel",
       "_view_count": null,
       "_view_module": "@jupyter-widgets/controls",
       "_view_module_version": "2.0.0",
       "_view_name": "HTMLView",
       "description": "",
       "description_allow_html": false,
       "layout": "IPY_MODEL_54f507cd34a64e73a59ee6960939f61c",
       "placeholder": "​",
       "style": "IPY_MODEL_a32a330c754f4f409798010b3630f7b9",
       "tabbable": null,
       "tooltip": null,
       "value": " 17/17 [01:19&lt;00:00,  2.59s/it]"
      }
     },
     "44c888f4ff99434c849d3a2012e1b4ec": {
      "model_module": "@jupyter-widgets/controls",
      "model_module_version": "2.0.0",
      "model_name": "HTMLModel",
      "state": {
       "_dom_classes": [],
       "_model_module": "@jupyter-widgets/controls",
       "_model_module_version": "2.0.0",
       "_model_name": "HTMLModel",
       "_view_count": null,
       "_view_module": "@jupyter-widgets/controls",
       "_view_module_version": "2.0.0",
       "_view_name": "HTMLView",
       "description": "",
       "description_allow_html": false,
       "layout": "IPY_MODEL_050466bc6d044601ac1269b4f011de13",
       "placeholder": "​",
       "style": "IPY_MODEL_650dda511f4b49e999d05a898cbe8ad0",
       "tabbable": null,
       "tooltip": null,
       "value": "100%"
      }
     },
     "4ddfc5c678f446a8a303c031131b056d": {
      "model_module": "@jupyter-widgets/controls",
      "model_module_version": "2.0.0",
      "model_name": "HBoxModel",
      "state": {
       "_dom_classes": [],
       "_model_module": "@jupyter-widgets/controls",
       "_model_module_version": "2.0.0",
       "_model_name": "HBoxModel",
       "_view_count": null,
       "_view_module": "@jupyter-widgets/controls",
       "_view_module_version": "2.0.0",
       "_view_name": "HBoxView",
       "box_style": "",
       "children": [
        "IPY_MODEL_44c888f4ff99434c849d3a2012e1b4ec",
        "IPY_MODEL_90421d81bdca43759cab3f8bb4e9ddb6",
        "IPY_MODEL_368e1b727a754918aae466eef3d3884e"
       ],
       "layout": "IPY_MODEL_c5535c667d434a6c9e0c9c9e03f8b13e",
       "tabbable": null,
       "tooltip": null
      }
     },
     "54f507cd34a64e73a59ee6960939f61c": {
      "model_module": "@jupyter-widgets/base",
      "model_module_version": "2.0.0",
      "model_name": "LayoutModel",
      "state": {
       "_model_module": "@jupyter-widgets/base",
       "_model_module_version": "2.0.0",
       "_model_name": "LayoutModel",
       "_view_count": null,
       "_view_module": "@jupyter-widgets/base",
       "_view_module_version": "2.0.0",
       "_view_name": "LayoutView",
       "align_content": null,
       "align_items": null,
       "align_self": null,
       "border_bottom": null,
       "border_left": null,
       "border_right": null,
       "border_top": null,
       "bottom": null,
       "display": null,
       "flex": null,
       "flex_flow": null,
       "grid_area": null,
       "grid_auto_columns": null,
       "grid_auto_flow": null,
       "grid_auto_rows": null,
       "grid_column": null,
       "grid_gap": null,
       "grid_row": null,
       "grid_template_areas": null,
       "grid_template_columns": null,
       "grid_template_rows": null,
       "height": null,
       "justify_content": null,
       "justify_items": null,
       "left": null,
       "margin": null,
       "max_height": null,
       "max_width": null,
       "min_height": null,
       "min_width": null,
       "object_fit": null,
       "object_position": null,
       "order": null,
       "overflow": null,
       "padding": null,
       "right": null,
       "top": null,
       "visibility": null,
       "width": null
      }
     },
     "650dda511f4b49e999d05a898cbe8ad0": {
      "model_module": "@jupyter-widgets/controls",
      "model_module_version": "2.0.0",
      "model_name": "HTMLStyleModel",
      "state": {
       "_model_module": "@jupyter-widgets/controls",
       "_model_module_version": "2.0.0",
       "_model_name": "HTMLStyleModel",
       "_view_count": null,
       "_view_module": "@jupyter-widgets/base",
       "_view_module_version": "2.0.0",
       "_view_name": "StyleView",
       "background": null,
       "description_width": "",
       "font_size": null,
       "text_color": null
      }
     },
     "90421d81bdca43759cab3f8bb4e9ddb6": {
      "model_module": "@jupyter-widgets/controls",
      "model_module_version": "2.0.0",
      "model_name": "FloatProgressModel",
      "state": {
       "_dom_classes": [],
       "_model_module": "@jupyter-widgets/controls",
       "_model_module_version": "2.0.0",
       "_model_name": "FloatProgressModel",
       "_view_count": null,
       "_view_module": "@jupyter-widgets/controls",
       "_view_module_version": "2.0.0",
       "_view_name": "ProgressView",
       "bar_style": "success",
       "description": "",
       "description_allow_html": false,
       "layout": "IPY_MODEL_20bcc29f9cdb47059df4176b0266531c",
       "max": 17.0,
       "min": 0.0,
       "orientation": "horizontal",
       "style": "IPY_MODEL_20b90622c03b43a79101472340aa8d85",
       "tabbable": null,
       "tooltip": null,
       "value": 17.0
      }
     },
     "a32a330c754f4f409798010b3630f7b9": {
      "model_module": "@jupyter-widgets/controls",
      "model_module_version": "2.0.0",
      "model_name": "HTMLStyleModel",
      "state": {
       "_model_module": "@jupyter-widgets/controls",
       "_model_module_version": "2.0.0",
       "_model_name": "HTMLStyleModel",
       "_view_count": null,
       "_view_module": "@jupyter-widgets/base",
       "_view_module_version": "2.0.0",
       "_view_name": "StyleView",
       "background": null,
       "description_width": "",
       "font_size": null,
       "text_color": null
      }
     },
     "c5535c667d434a6c9e0c9c9e03f8b13e": {
      "model_module": "@jupyter-widgets/base",
      "model_module_version": "2.0.0",
      "model_name": "LayoutModel",
      "state": {
       "_model_module": "@jupyter-widgets/base",
       "_model_module_version": "2.0.0",
       "_model_name": "LayoutModel",
       "_view_count": null,
       "_view_module": "@jupyter-widgets/base",
       "_view_module_version": "2.0.0",
       "_view_name": "LayoutView",
       "align_content": null,
       "align_items": null,
       "align_self": null,
       "border_bottom": null,
       "border_left": null,
       "border_right": null,
       "border_top": null,
       "bottom": null,
       "display": null,
       "flex": null,
       "flex_flow": null,
       "grid_area": null,
       "grid_auto_columns": null,
       "grid_auto_flow": null,
       "grid_auto_rows": null,
       "grid_column": null,
       "grid_gap": null,
       "grid_row": null,
       "grid_template_areas": null,
       "grid_template_columns": null,
       "grid_template_rows": null,
       "height": null,
       "justify_content": null,
       "justify_items": null,
       "left": null,
       "margin": null,
       "max_height": null,
       "max_width": null,
       "min_height": null,
       "min_width": null,
       "object_fit": null,
       "object_position": null,
       "order": null,
       "overflow": null,
       "padding": null,
       "right": null,
       "top": null,
       "visibility": null,
       "width": null
      }
     }
    },
    "version_major": 2,
    "version_minor": 0
   }
  }
 },
 "nbformat": 4,
 "nbformat_minor": 5
}