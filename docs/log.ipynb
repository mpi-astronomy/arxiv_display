{
 "cells": [
  {
   "cell_type": "markdown",
   "id": "92bcb855",
   "metadata": {
    "papermill": {
     "duration": 0.003965,
     "end_time": "2024-11-22T04:11:10.265399",
     "exception": false,
     "start_time": "2024-11-22T04:11:10.261434",
     "status": "completed"
    },
    "tags": []
   },
   "source": [
    "# MPIA Arxiv on Deck 2\n",
    "\n",
    "Contains the steps to produce the paper extractions."
   ]
  },
  {
   "cell_type": "code",
   "execution_count": 1,
   "id": "3a0d6e11",
   "metadata": {
    "execution": {
     "iopub.execute_input": "2024-11-22T04:11:10.273257Z",
     "iopub.status.busy": "2024-11-22T04:11:10.272683Z",
     "iopub.status.idle": "2024-11-22T04:11:10.698987Z",
     "shell.execute_reply": "2024-11-22T04:11:10.698397Z"
    },
    "papermill": {
     "duration": 0.4316,
     "end_time": "2024-11-22T04:11:10.700335",
     "exception": false,
     "start_time": "2024-11-22T04:11:10.268735",
     "status": "completed"
    },
    "tags": []
   },
   "outputs": [],
   "source": [
    "# Imports\n",
    "import os\n",
    "from IPython.display import Markdown, display\n",
    "from tqdm.notebook import tqdm\n",
    "import warnings\n",
    "from PIL import Image \n",
    "import re\n",
    "\n",
    "# requires arxiv_on_deck_2\n",
    "\n",
    "from arxiv_on_deck_2.arxiv2 import (get_new_papers, \n",
    "                                    get_paper_from_identifier,\n",
    "                                    retrieve_document_source, \n",
    "                                    get_markdown_badge)\n",
    "from arxiv_on_deck_2 import (latex,\n",
    "                             latex_bib,\n",
    "                             mpia,\n",
    "                             highlight_authors_in_list)\n",
    "\n",
    "# Sometimes images are really big\n",
    "Image.MAX_IMAGE_PIXELS = 1000000000 "
   ]
  },
  {
   "cell_type": "code",
   "execution_count": 2,
   "id": "22aa9d44",
   "metadata": {
    "execution": {
     "iopub.execute_input": "2024-11-22T04:11:10.707994Z",
     "iopub.status.busy": "2024-11-22T04:11:10.707419Z",
     "iopub.status.idle": "2024-11-22T04:11:10.715677Z",
     "shell.execute_reply": "2024-11-22T04:11:10.715113Z"
    },
    "papermill": {
     "duration": 0.012943,
     "end_time": "2024-11-22T04:11:10.716710",
     "exception": false,
     "start_time": "2024-11-22T04:11:10.703767",
     "status": "completed"
    },
    "tags": []
   },
   "outputs": [],
   "source": [
    "# Some useful definitions.\n",
    "\n",
    "class AffiliationWarning(UserWarning):\n",
    "    pass\n",
    "\n",
    "class AffiliationError(RuntimeError):\n",
    "    pass\n",
    "\n",
    "def validation(source: str):\n",
    "    \"\"\"Raises error paper during parsing of source file\n",
    "    \n",
    "    Allows checks before parsing TeX code.\n",
    "    \n",
    "    Raises AffiliationWarning\n",
    "    \"\"\"\n",
    "    check = mpia.affiliation_verifications(source, verbose=True)\n",
    "    if check is not True:\n",
    "        raise AffiliationError(\"mpia.affiliation_verifications: \" + check)\n",
    "\n",
    "        \n",
    "warnings.simplefilter('always', AffiliationWarning)\n",
    "\n",
    "\n",
    "def get_markdown_qrcode(paper_id: str):\n",
    "    \"\"\" Generate a qrcode to the arxiv page using qrserver.com\n",
    "    \n",
    "    :param paper: Arxiv paper\n",
    "    :returns: markdown text\n",
    "    \"\"\"\n",
    "    url = r\"https://api.qrserver.com/v1/create-qr-code/?size=100x100&data=\"\n",
    "    txt = f\"\"\"<img src={url}\"https://arxiv.org/abs/{paper_id}\">\"\"\"\n",
    "    txt = '<div id=\"qrcode\">' + txt + '</div>'\n",
    "    return txt\n",
    "\n",
    "\n",
    "def clean_non_western_encoded_characters_commands(text: str) -> str:\n",
    "    \"\"\" Remove non-western encoded characters from a string\n",
    "    List may need to grow.\n",
    "    \n",
    "    :param text: the text to clean\n",
    "    :return: the cleaned text\n",
    "    \"\"\"\n",
    "    text = re.sub(r\"(\\\\begin{CJK}{UTF8}{gbsn})(.*?)(\\\\end{CJK})\", r\"\\2\", text)\n",
    "    return text\n",
    "\n",
    "\n",
    "def get_initials(name: str) -> str:\n",
    "    \"\"\" Get the short name, e.g., A.-B. FamName\n",
    "    :param name: full name\n",
    "    :returns: initials\n",
    "    \"\"\"\n",
    "    initials = []\n",
    "    # account for non western names often in ()\n",
    "    if '(' in name:\n",
    "        name = clean_non_western_encoded_characters_commands(name)\n",
    "        suffix = re.findall(r\"\\((.*?)\\)\", name)[0]\n",
    "        name = name.replace(f\"({suffix})\", '')\n",
    "    else:\n",
    "        suffix = ''\n",
    "    split = name.split()\n",
    "    for token in split[:-1]:\n",
    "        if '-' in token:\n",
    "            current = '-'.join([k[0] + '.' for k in token.split('-')])\n",
    "        else:\n",
    "            current = token[0] + '.'\n",
    "        initials.append(current)\n",
    "    initials.append(split[-1].strip())\n",
    "    if suffix:\n",
    "        initials.append(f\"({suffix})\")\n",
    "    return ' '.join(initials)"
   ]
  },
  {
   "cell_type": "markdown",
   "id": "14bd6310",
   "metadata": {
    "papermill": {
     "duration": 0.002951,
     "end_time": "2024-11-22T04:11:10.722789",
     "exception": false,
     "start_time": "2024-11-22T04:11:10.719838",
     "status": "completed"
    },
    "tags": []
   },
   "source": [
    "## get list of arxiv paper candidates\n",
    "\n",
    "We use the MPIA mitarbeiter list webpage from mpia.de to get author names\n",
    "We then get all new papers from Arxiv and match authors"
   ]
  },
  {
   "cell_type": "code",
   "execution_count": 3,
   "id": "7ea813a8",
   "metadata": {
    "execution": {
     "iopub.execute_input": "2024-11-22T04:11:10.729917Z",
     "iopub.status.busy": "2024-11-22T04:11:10.729465Z",
     "iopub.status.idle": "2024-11-22T04:11:28.464912Z",
     "shell.execute_reply": "2024-11-22T04:11:28.464333Z"
    },
    "papermill": {
     "duration": 17.740416,
     "end_time": "2024-11-22T04:11:28.466147",
     "exception": false,
     "start_time": "2024-11-22T04:11:10.725731",
     "status": "completed"
    },
    "tags": []
   },
   "outputs": [],
   "source": [
    "# deal with the author list and edge cases of people that cannot be consistent on their name  \n",
    "\n",
    "def filter_non_scientists(name: str) -> bool:\n",
    "    \"\"\" Loose filter on expected authorships\n",
    "\n",
    "    removing IT, administration, technical staff\n",
    "    :param name: name\n",
    "    :returns: False if name is not a scientist\n",
    "    \"\"\"\n",
    "    remove_list = ['Licht', 'Binroth', 'Witzel', 'Jordan',\n",
    "                   'Zähringer', 'Scheerer', 'Hoffmann', 'Düe',\n",
    "                   'Hellmich', 'Enkler-Scharpegge', 'Witte-Nguy',\n",
    "                   'Dehen', 'Beckmann', 'Jager', 'Jäger'\n",
    "                  ]\n",
    "\n",
    "    for k in remove_list:\n",
    "        if k in name:\n",
    "            return False\n",
    "    return True\n",
    "\n",
    "def add_author_to_list(author_list: list) -> list:\n",
    "    \"\"\" Add author to list if not already in list\n",
    "    \n",
    "    :param author: author name\n",
    "    :param author_list: list of authors\n",
    "    :returns: updated list of authors\n",
    "    \"\"\"\n",
    "    add_list = ['T. Henning']\n",
    "\n",
    "    for author in add_list:\n",
    "        if author not in author_list:\n",
    "            author_list.append(author)\n",
    "    return author_list\n",
    "\n",
    "# get list from MPIA website\n",
    "# filter for non-scientists (mpia.get_mpia_mitarbeiter_list() does some filtering)\n",
    "mpia_authors = [k[1] for k in mpia.get_mpia_mitarbeiter_list() if filter_non_scientists(k[1])]\n",
    "# add some missing author because of inconsistencies in their MPIA name and author name on papers\n",
    "mpia_authors = add_author_to_list(mpia_authors)"
   ]
  },
  {
   "cell_type": "code",
   "execution_count": 4,
   "id": "2645e73a",
   "metadata": {
    "execution": {
     "iopub.execute_input": "2024-11-22T04:11:28.473752Z",
     "iopub.status.busy": "2024-11-22T04:11:28.473321Z",
     "iopub.status.idle": "2024-11-22T04:11:29.160720Z",
     "shell.execute_reply": "2024-11-22T04:11:29.159985Z"
    },
    "papermill": {
     "duration": 0.692285,
     "end_time": "2024-11-22T04:11:29.161861",
     "exception": false,
     "start_time": "2024-11-22T04:11:28.469576",
     "status": "completed"
    },
    "tags": []
   },
   "outputs": [
    {
     "name": "stdout",
     "output_type": "stream",
     "text": [
      "X. Zhang  ->  X. Zhang  |  ['X. Zhang']\n",
      "M. Sharma  ->  Y. M. Sharma  |  ['M. Sharma']\n",
      "U. Dudzeviciute  ->  U. Dudzeviciute  |  ['U. Dudzeviciute']\n",
      "Arxiv has 58 new papers today\n",
      "          3 with possible author matches\n"
     ]
    }
   ],
   "source": [
    "new_papers = get_new_papers()\n",
    "# add manual references\n",
    "add_paper_refs = []\n",
    "new_papers.extend([get_paper_from_identifier(k) for k in add_paper_refs])\n",
    "\n",
    "def robust_call(fn, value, *args, **kwargs):\n",
    "    try:\n",
    "        return fn(value, *args, **kwargs)\n",
    "    except Exception:\n",
    "        return value\n",
    "\n",
    "candidates = []\n",
    "for paperk in new_papers:\n",
    "    # Check author list with their initials\n",
    "    normed_author_list = [robust_call(mpia.get_initials, k) for k in paperk['authors']]\n",
    "    hl_authors = highlight_authors_in_list(normed_author_list, mpia_authors, verbose=True)\n",
    "    matches = [(hl, orig) for hl, orig in zip(hl_authors, paperk['authors']) if 'mark' in hl]\n",
    "    paperk['authors'] = hl_authors\n",
    "    if matches:\n",
    "        # only select paper if an author matched our list\n",
    "        candidates.append(paperk)\n",
    "print(\"\"\"Arxiv has {0:,d} new papers today\"\"\".format(len(new_papers)))        \n",
    "print(\"\"\"          {0:,d} with possible author matches\"\"\".format(len(candidates)))"
   ]
  },
  {
   "cell_type": "markdown",
   "id": "3543b34a",
   "metadata": {
    "papermill": {
     "duration": 0.003283,
     "end_time": "2024-11-22T04:11:29.168646",
     "exception": false,
     "start_time": "2024-11-22T04:11:29.165363",
     "status": "completed"
    },
    "tags": []
   },
   "source": [
    "# Parse sources and generate relevant outputs\n",
    "\n",
    "From the candidates, we do the following steps:\n",
    "* get their tarball from ArXiv (and extract data)\n",
    "* find the main .tex file: find one with \\documentclass{...} (sometimes it's non trivial)\n",
    "* Check affiliations with :func:`validation`, which uses :func:`mpia.affiliation_verifications`\n",
    "* If passing the affiliations: we parse the .tex source\n",
    "   * inject sub-documents into the main (flatten the main document)\n",
    "   * parse structure, extract information (title, abstract, authors, figures...)\n",
    "   * handles `\\graphicspath` if provided\n",
    "* Generate the .md document."
   ]
  },
  {
   "cell_type": "code",
   "execution_count": 5,
   "id": "9576b79e",
   "metadata": {
    "execution": {
     "iopub.execute_input": "2024-11-22T04:11:29.176043Z",
     "iopub.status.busy": "2024-11-22T04:11:29.175532Z",
     "iopub.status.idle": "2024-11-22T04:11:39.750697Z",
     "shell.execute_reply": "2024-11-22T04:11:39.749973Z"
    },
    "papermill": {
     "duration": 10.580121,
     "end_time": "2024-11-22T04:11:39.751871",
     "exception": false,
     "start_time": "2024-11-22T04:11:29.171750",
     "status": "completed"
    },
    "scrolled": false,
    "tags": []
   },
   "outputs": [
    {
     "data": {
      "application/vnd.jupyter.widget-view+json": {
       "model_id": "df1b9bd1fbbb4e6eba824c28f4fe0900",
       "version_major": 2,
       "version_minor": 0
      },
      "text/plain": [
       "  0%|          | 0/3 [00:00<?, ?it/s]"
      ]
     },
     "metadata": {},
     "output_type": "display_data"
    },
    {
     "name": "stdout",
     "output_type": "stream",
     "text": [
      "Retrieving document from  https://arxiv.org/e-print/2411.14189\n",
      "extracting tarball to tmp_2411.14189... done.\n",
      "Retrieving document from  https://arxiv.org/e-print/2411.14231\n"
     ]
    },
    {
     "name": "stdout",
     "output_type": "stream",
     "text": [
      "extracting tarball to tmp_2411.14231..."
     ]
    },
    {
     "name": "stdout",
     "output_type": "stream",
     "text": [
      " done.\n",
      "Retrieving document from  https://arxiv.org/e-print/2411.14271\n"
     ]
    },
    {
     "name": "stdout",
     "output_type": "stream",
     "text": [
      "extracting tarball to tmp_2411.14271..."
     ]
    },
    {
     "name": "stdout",
     "output_type": "stream",
     "text": [
      " done.\n"
     ]
    },
    {
     "name": "stdout",
     "output_type": "stream",
     "text": [
      "Found 142 bibliographic references in tmp_2411.14271/paper.bbl.\n",
      "Issues with the citations\n",
      "syntax error in line 291: '=' expected\n"
     ]
    }
   ],
   "source": [
    "documents = []\n",
    "failed = []\n",
    "for paper in tqdm(candidates):\n",
    "    # debug crap\n",
    "    paper['identifier'] = paper['identifier'].lower().replace('arxiv:', '').replace(r'\\n', '').strip()\n",
    "    paper_id = paper['identifier']\n",
    "    \n",
    "    folder = f'tmp_{paper_id}'\n",
    "\n",
    "    try:\n",
    "        if not os.path.isdir(folder):\n",
    "            folder = retrieve_document_source(f\"{paper_id}\", f'tmp_{paper_id}')\n",
    "        \n",
    "        try:\n",
    "            doc = latex.LatexDocument(folder, validation=validation)    \n",
    "        except AffiliationError as affilerror:\n",
    "            msg = f\"ArXiv:{paper_id:s} is not an MPIA paper... \" + str(affilerror)\n",
    "            failed.append((paper, \"affiliation error: \" + str(affilerror) ))\n",
    "            continue\n",
    "        \n",
    "        # Hack because sometimes author parsing does not work well\n",
    "        if (len(doc.authors) != len(paper['authors'])):\n",
    "            doc._authors = paper['authors']\n",
    "        else:\n",
    "            # highlight authors (FIXME: doc.highlight_authors)\n",
    "            # done on arxiv paper already\n",
    "            doc._authors = highlight_authors_in_list(\n",
    "                [get_initials(k) for k in doc.authors], \n",
    "                mpia_authors, verbose=True)\n",
    "        if (doc.abstract) in (None, ''):\n",
    "            doc._abstract = paper['abstract']\n",
    "            \n",
    "        doc.comment = (get_markdown_badge(paper_id) + \n",
    "                       \"<mark>Appeared on: \" + paper['date'] + \"</mark> - \")\n",
    "        if paper['comments']:\n",
    "            doc.comment += \" _\" + paper['comments'] + \"_\"\n",
    "        \n",
    "        full_md = doc.generate_markdown_text()\n",
    "        \n",
    "        full_md += get_markdown_qrcode(paper_id)\n",
    "        \n",
    "        # replace citations\n",
    "        try:\n",
    "            bibdata = latex_bib.LatexBib.from_doc(doc)\n",
    "            full_md = latex_bib.replace_citations(full_md, bibdata)\n",
    "        except Exception as e:\n",
    "            print(\"Issues with the citations\")\n",
    "            print(e)\n",
    "        \n",
    "        documents.append((paper_id, full_md))\n",
    "    except Exception as e:\n",
    "        warnings.warn(latex.LatexWarning(f\"{paper_id:s} did not run properly\\n\" +\n",
    "                                         str(e)\n",
    "                                        ))\n",
    "        failed.append((paper, \"latex error \" + str(e)))"
   ]
  },
  {
   "cell_type": "markdown",
   "id": "2505a25c",
   "metadata": {
    "papermill": {
     "duration": 0.003629,
     "end_time": "2024-11-22T04:11:39.759349",
     "exception": false,
     "start_time": "2024-11-22T04:11:39.755720",
     "status": "completed"
    },
    "tags": []
   },
   "source": [
    "### Export the logs\n",
    "\n",
    "Throughout, we also keep track of the logs per paper. see `logs-{today date}.md` "
   ]
  },
  {
   "cell_type": "code",
   "execution_count": 6,
   "id": "d733828a",
   "metadata": {
    "execution": {
     "iopub.execute_input": "2024-11-22T04:11:39.767647Z",
     "iopub.status.busy": "2024-11-22T04:11:39.767146Z",
     "iopub.status.idle": "2024-11-22T04:11:39.780108Z",
     "shell.execute_reply": "2024-11-22T04:11:39.779493Z"
    },
    "papermill": {
     "duration": 0.018379,
     "end_time": "2024-11-22T04:11:39.781209",
     "exception": false,
     "start_time": "2024-11-22T04:11:39.762830",
     "status": "completed"
    },
    "scrolled": false,
    "tags": []
   },
   "outputs": [
    {
     "data": {
      "text/markdown": [
       "## Successful papers"
      ],
      "text/plain": [
       "<IPython.core.display.Markdown object>"
      ]
     },
     "metadata": {},
     "output_type": "display_data"
    },
    {
     "data": {
      "text/markdown": [
       "\n",
       "|||\n",
       "|---:|:---|\n",
       "| [![arXiv](https://img.shields.io/badge/arXiv-2411.14271-b31b1b.svg)](https://arxiv.org/abs/2411.14271) | **The properties of the interstellar medium in dusty, star-forming galaxies at $z \\sim 2-4$: The shape of the CO spectral line energy distributions**  |\n",
       "|| D. J. Taylor, et al. -- incl., <mark>U. Dudzeviciute</mark> |\n",
       "|*Appeared on*| *2024-11-22*|\n",
       "|*Comments*| *Accepted for publication in MNRAS; 17 pages, 7 figures*|\n",
       "|**Abstract**|            The molecular gas in the interstellar medium (ISM) of star-forming galaxy populations exhibits diverse physical properties. We investigate the $^{12}$CO excitation of twelve dusty, luminous star-forming galaxies at $z \\sim 2-4$ by combining observations of the $^{12}$CO from $J_{\\rm up} = 1$ to $J_{\\rm up} = 8$. The spectral line energy distribution (SLED) has a similar shape to NGC 253, M82, and local ULIRGs, with much stronger excitation than the Milky Way inner disc. By combining with resolved dust continuum sizes from high-resolution $870$-$\\mu$m ALMA observations and dust mass measurements determined from multi-wavelength SED fitting, we measure the relationship between the $^{12}$CO SLED and probable physical drivers of excitation: star-formation efficiency, the average intensity of the radiation field $\\langle U\\rangle$, and the star-formation rate surface density. The primary driver of high-$J_{\\rm up}$ $^{12}$CO excitation in star-forming galaxies is star-formation rate surface density. We use the ratio of the CO($3-2$) and CO($6-5$) line fluxes to infer the CO excitation in each source and find that the average ratios for our sample are elevated compared to observations of low-redshift, less actively star-forming galaxies and agree well with predictions from numerical models that relate the ISM excitation to the star-formation rate surface density. The significant scatter in the line ratios of a factor $\\approx 3$ within our sample likely reflects intrinsic variations in the ISM properties which may be caused by other effects on the excitation of the molecular gas, such as cosmic ray ionization rates and mechanical heating through turbulence dissipation.         |"
      ],
      "text/plain": [
       "[2411.14271] The properties of the interstellar medium in dusty, star-forming galaxies at $z \\sim 2-4$: The shape of the CO spectral line energy distributions\n",
       "\tD. J. Taylor, et al. -- incl., <mark>U. Dudzeviciute</mark>"
      ]
     },
     "metadata": {},
     "output_type": "display_data"
    },
    {
     "data": {
      "text/markdown": [
       "## Failed papers"
      ],
      "text/plain": [
       "<IPython.core.display.Markdown object>"
      ]
     },
     "metadata": {},
     "output_type": "display_data"
    },
    {
     "data": {
      "text/markdown": [
       "\n",
       "|||\n",
       "|---:|:---|\n",
       "| [![arXiv](https://img.shields.io/badge/arXiv-2411.14189-b31b1b.svg)](https://arxiv.org/abs/2411.14189) | **Reevaluating $H_0$ Tension with Non-Planck CMB and DESI BAO Joint Analysis**  |\n",
       "|| Y.-H. Pang, <mark>X. Zhang</mark>, Q.-G. Huang |\n",
       "|*Appeared on*| *2024-11-22*|\n",
       "|*Comments*| *5 pages, 1 figure, 2 tables*|\n",
       "|**Abstract**|            $H_0$ tension in the spatially flat $\\Lambda$CDM model is reevaluated by employing three sets of non-Planck CMB data, namely WMAP, WMAP+ACT, and WMAP+SPT, in conjunction with DESI BAO data and non-DESI BAO datasets including 6dFGS, SDSS DR7, and SDSS DR16. Our analysis yields $H_0 = 68.86\\pm 0.68~\\mathrm{km\\ s^{-1} Mpc^{-1}}$ with WMAP+DESI BAO, $H_0 = 68.72\\pm 0.51~\\mathrm{km\\ s^{-1} Mpc^{-1}}$ with WMAP+ACT+DESI BAO, and $H_0 = 68.62\\pm 0.52~\\mathrm{km\\ s^{-1} Mpc^{-1}}$ with WMAP+SPT+DESI BAO. The results of non-Planck CMB+DESI BAO exhibit a $3.4\\sigma$, $3.7\\sigma$, and $3.8\\sigma$ tension with the SH0ES local measurement respectively which are around $1 \\sigma$ lower in significance for the Hubble tension compared to Planck CMB+DESI BAO. Moreover, by combining DESI BAO data+non-Planck CMB measurements, we obtain a more stringent constraint on the Hubble constant compared to non-DESI BAO data+non-Planck CMB data, as well as reducing the significance of the Hubble tension.         |\n",
       "|<p style=\"color:green\"> **ERROR** </p>| <p style=\"color:green\">affiliation error: mpia.affiliation_verifications: 'Heidelberg' keyword not found.</p> |"
      ],
      "text/plain": [
       "<IPython.core.display.Markdown object>"
      ]
     },
     "metadata": {},
     "output_type": "display_data"
    },
    {
     "data": {
      "text/markdown": [
       "\n",
       "|||\n",
       "|---:|:---|\n",
       "| [![arXiv](https://img.shields.io/badge/arXiv-2411.14231-b31b1b.svg)](https://arxiv.org/abs/2411.14231) | **Determining the absolute chemical abundance of nitrogen and sulfur in the quasar outflow of 3C298**  |\n",
       "|| M. Dehghanian, et al. -- incl., <mark>M. Sharma</mark> |\n",
       "|*Appeared on*| *2024-11-22*|\n",
       "|*Comments*| *Accepted for publication in A&A- 11 pages, 10 figures*|\n",
       "|**Abstract**|            Context. Quasar outflows are key players in the feedback processes that influence the evolution of galaxies and the intergalactic medium. The chemical abundance of these outflows provides crucial insights into their origin and impact. Aims. To determine the absolute abundances of nitrogen and sulfur and the physical conditions of the outflow seen in quasar 3C298. Methods. We analyze archival spectral data from the Hubble Space Telescope (HST) for 3C298. We measure Ionic column densities from the absorption troughs and compare the results to photoionization predictions made by the Cloudy code for three different spectral energy distributions (SED), including MF87, UVsoft, and HE0238 SEDs. We also calculate the ionic column densities of excited and ground states of N iii to estimate the electron number density and location of the outflow using the Chianti atomic database. Results. The MF87, UVsoft, and HE0238 SEDs yield nitrogen and sulfur abundances at super-solar, solar, and sub-solar values, respectively, with a spread of 0.4 to 3 times solar. Additionally, we determined an electron number density of log(ne) greater than 3.3 cm-3, with the outflow possibly extending up to a maximum distance of 2.8 kpc. Conclusions. Our results indicate solar metallicity within a 60 percent uncertainty range, driven by variations in the chosen SED and photoionization models. This study underscores the importance of SEDs impact on determining chemical abundances in quasars outflows. These findings highlight the necessity of considering a wider range of possible abundances, spanning from sub solar to super solar values.         |\n",
       "|<p style=\"color:green\"> **ERROR** </p>| <p style=\"color:green\">affiliation error: mpia.affiliation_verifications: 'Heidelberg' keyword not found.</p> |"
      ],
      "text/plain": [
       "<IPython.core.display.Markdown object>"
      ]
     },
     "metadata": {},
     "output_type": "display_data"
    }
   ],
   "source": [
    "import datetime\n",
    "today = str(datetime.date.today())\n",
    "logfile = f\"_build/html/logs/log-{today}.md\"\n",
    "\n",
    "\n",
    "with open(logfile, 'w') as logs:\n",
    "    # Success\n",
    "    logs.write(f'# Arxiv on Deck 2: Logs - {today}\\n\\n')\n",
    "    logs.write(\"\"\"* Arxiv had {0:,d} new papers\\n\"\"\".format(len(new_papers)))\n",
    "    logs.write(\"\"\"    * {0:,d} with possible author matches\\n\\n\"\"\".format(len(candidates)))\n",
    "    logs.write(\"## Sucessful papers\\n\\n\")\n",
    "    display(Markdown(\"## Successful papers\"))\n",
    "    success = [k[0] for k in documents]\n",
    "    for candid in candidates:\n",
    "        if candid['identifier'].split(':')[-1] in success:\n",
    "            display(candid)\n",
    "            logs.write(candid.generate_markdown_text() + '\\n\\n')\n",
    "\n",
    "    ## failed\n",
    "    logs.write(\"## Failed papers\\n\\n\")\n",
    "    display(Markdown(\"## Failed papers\"))\n",
    "    failed = sorted(failed, key=lambda x: x[1])\n",
    "    current_reason = \"\"\n",
    "    for paper, reason in failed:\n",
    "        if 'affiliation' in reason:\n",
    "            color = 'green'\n",
    "        else:\n",
    "            color = 'red'\n",
    "        data = Markdown(\n",
    "                paper.generate_markdown_text() + \n",
    "                f'\\n|<p style=\"color:{color:s}\"> **ERROR** </p>| <p style=\"color:{color:s}\">{reason:s}</p> |'\n",
    "               )\n",
    "        if reason != current_reason:\n",
    "            logs.write(f'### {reason:s} \\n\\n')\n",
    "            current_reason = reason\n",
    "        logs.write(data.data + '\\n\\n')\n",
    "        \n",
    "        # only display here the important errors (all in logs)\n",
    "        # if color in ('red',):\n",
    "        display(data)"
   ]
  },
  {
   "cell_type": "markdown",
   "id": "472d20ee",
   "metadata": {
    "papermill": {
     "duration": 0.003942,
     "end_time": "2024-11-22T04:11:39.789254",
     "exception": false,
     "start_time": "2024-11-22T04:11:39.785312",
     "status": "completed"
    },
    "tags": []
   },
   "source": [
    "## Export documents\n",
    "\n",
    "We now write the .md files and export relevant images"
   ]
  },
  {
   "cell_type": "code",
   "execution_count": 7,
   "id": "d426aed9",
   "metadata": {
    "execution": {
     "iopub.execute_input": "2024-11-22T04:11:39.798209Z",
     "iopub.status.busy": "2024-11-22T04:11:39.797723Z",
     "iopub.status.idle": "2024-11-22T04:11:39.804453Z",
     "shell.execute_reply": "2024-11-22T04:11:39.803906Z"
    },
    "papermill": {
     "duration": 0.012225,
     "end_time": "2024-11-22T04:11:39.805407",
     "exception": false,
     "start_time": "2024-11-22T04:11:39.793182",
     "status": "completed"
    },
    "tags": []
   },
   "outputs": [],
   "source": [
    "def export_markdown_summary(md: str, md_fname:str, directory: str):\n",
    "    \"\"\"Export MD document and associated relevant images\"\"\"\n",
    "    import os\n",
    "    import shutil\n",
    "    import re\n",
    "\n",
    "    if (os.path.exists(directory) and not os.path.isdir(directory)):\n",
    "        raise RuntimeError(f\"a non-directory file exists with name {directory:s}\")\n",
    "\n",
    "    if (not os.path.exists(directory)):\n",
    "        print(f\"creating directory {directory:s}\")\n",
    "        os.mkdir(directory)\n",
    "\n",
    "    fig_fnames = (re.compile(r'\\[Fig.*\\]\\((.*)\\)').findall(md) + \n",
    "                  re.compile(r'\\<img src=\"([^>\\s]*)\"[^>]*/>').findall(md))\n",
    "    print(\"found figures\", fig_fnames)\n",
    "    for fname in fig_fnames:\n",
    "        if 'http' in fname:\n",
    "            # No need to copy online figures\n",
    "            continue\n",
    "        if not os.path.exists(fname):\n",
    "            print(\"file not found\", fname)\n",
    "            continue\n",
    "        print(\"copying \", fname, \"to\", directory)\n",
    "        destdir = os.path.join(directory, os.path.dirname(fname))\n",
    "        destfname = os.path.join(destdir, os.path.basename(fname))\n",
    "        try:\n",
    "            os.makedirs(destdir)\n",
    "        except FileExistsError:\n",
    "            pass\n",
    "        shutil.copy(fname, destfname)\n",
    "    with open(os.path.join(directory, md_fname), 'w') as fout:\n",
    "        fout.write(md)\n",
    "    print(\"exported in \", os.path.join(directory, md_fname))\n",
    "    [print(\"    + \" + os.path.join(directory,fk)) for fk in fig_fnames]"
   ]
  },
  {
   "cell_type": "code",
   "execution_count": 8,
   "id": "014d04a4",
   "metadata": {
    "execution": {
     "iopub.execute_input": "2024-11-22T04:11:39.814515Z",
     "iopub.status.busy": "2024-11-22T04:11:39.814063Z",
     "iopub.status.idle": "2024-11-22T04:11:39.819902Z",
     "shell.execute_reply": "2024-11-22T04:11:39.819345Z"
    },
    "papermill": {
     "duration": 0.011369,
     "end_time": "2024-11-22T04:11:39.820855",
     "exception": false,
     "start_time": "2024-11-22T04:11:39.809486",
     "status": "completed"
    },
    "tags": []
   },
   "outputs": [
    {
     "name": "stdout",
     "output_type": "stream",
     "text": [
      "found figures ['tmp_2411.14271/./images/comb_SLED_grid.png', 'tmp_2411.14271/./images/excitation_drivers_SigmaSFR.png', 'tmp_2411.14271/./images/excitation_drivers_U_SFE.png']\n",
      "copying  tmp_2411.14271/./images/comb_SLED_grid.png to _build/html/\n",
      "copying  tmp_2411.14271/./images/excitation_drivers_SigmaSFR.png to _build/html/\n",
      "copying  tmp_2411.14271/./images/excitation_drivers_U_SFE.png to _build/html/\n",
      "exported in  _build/html/2411.14271.md\n",
      "    + _build/html/tmp_2411.14271/./images/comb_SLED_grid.png\n",
      "    + _build/html/tmp_2411.14271/./images/excitation_drivers_SigmaSFR.png\n",
      "    + _build/html/tmp_2411.14271/./images/excitation_drivers_U_SFE.png\n"
     ]
    }
   ],
   "source": [
    "for paper_id, md in documents:\n",
    "    export_markdown_summary(md, f\"{paper_id:s}.md\", '_build/html/')"
   ]
  },
  {
   "cell_type": "markdown",
   "id": "f087a0a7",
   "metadata": {
    "papermill": {
     "duration": 0.004032,
     "end_time": "2024-11-22T04:11:39.829075",
     "exception": false,
     "start_time": "2024-11-22T04:11:39.825043",
     "status": "completed"
    },
    "tags": []
   },
   "source": [
    "## Display the papers\n",
    "\n",
    "Not necessary but allows for a quick check."
   ]
  },
  {
   "cell_type": "code",
   "execution_count": 9,
   "id": "fd25f625",
   "metadata": {
    "execution": {
     "iopub.execute_input": "2024-11-22T04:11:39.838257Z",
     "iopub.status.busy": "2024-11-22T04:11:39.837848Z",
     "iopub.status.idle": "2024-11-22T04:11:39.842425Z",
     "shell.execute_reply": "2024-11-22T04:11:39.841906Z"
    },
    "papermill": {
     "duration": 0.010194,
     "end_time": "2024-11-22T04:11:39.843432",
     "exception": false,
     "start_time": "2024-11-22T04:11:39.833238",
     "status": "completed"
    },
    "scrolled": false,
    "tags": []
   },
   "outputs": [
    {
     "data": {
      "text/markdown": [
       "<div class=\"macros\" style=\"visibility:hidden;\">\n",
       "$\\newcommand{\\ensuremath}{}$\n",
       "$\\newcommand{\\xspace}{}$\n",
       "$\\newcommand{\\object}[1]{\\texttt{#1}}$\n",
       "$\\newcommand{\\farcs}{{.}''}$\n",
       "$\\newcommand{\\farcm}{{.}'}$\n",
       "$\\newcommand{\\arcsec}{''}$\n",
       "$\\newcommand{\\arcmin}{'}$\n",
       "$\\newcommand{\\ion}[2]{#1#2}$\n",
       "$\\newcommand{\\textsc}[1]{\\textrm{#1}}$\n",
       "$\\newcommand{\\hl}[1]{\\textrm{#1}}$\n",
       "$\\newcommand{\\footnote}[1]{}$\n",
       "$\\newcommand{\\arraystretch}{1.25}$\n",
       "$\\newcommand{\\thetable}{A\\arabic{table}}$\n",
       "$\\newcommand{\\thefigure}{A\\arabic{figure}}$\n",
       "$\\newcommand{\\thebibliography}{\\DeclareRobustCommand{\\VAN}[3]{##3}\\VANthebibliography}$</div>\n",
       "\n",
       "\n",
       "\n",
       "<div id=\"title\">\n",
       "\n",
       "# The properties of the interstellar medium in dusty, star-forming galaxies at $*ph z* \\sim 2-4$: The shape of the CO spectral line energy distributions\n",
       "\n",
       "</div>\n",
       "<div id=\"comments\">\n",
       "\n",
       "[![arXiv](https://img.shields.io/badge/arXiv-2411.14271-b31b1b.svg)](https://arxiv.org/abs/2411.14271)<mark>Appeared on: 2024-11-22</mark> -  _Accepted for publication in MNRAS; 17 pages, 7 figures_\n",
       "\n",
       "</div>\n",
       "<div id=\"authors\">\n",
       "\n",
       "D. J. Taylor, et al. -- incl., <mark>U. Dudzeviciute</mark>\n",
       "\n",
       "</div>\n",
       "<div id=\"abstract\">\n",
       "\n",
       "**Abstract:** The molecular gas in the interstellar medium (ISM) of star-forming galaxy populations exhibits diverse physical properties.We investigate the $^{12}$ CO excitation of twelve dusty, luminous star-forming galaxies at $z \\sim$ 2--4 by combining observations of the $^{12}$ CO from $J_{\\rm up} = 1$ to $J_{\\rm up} = 8$ .The spectral line energy distribution (SLED) has a similar shape to NGC 253, M82, and local ULIRGs, with much stronger excitation than the Milky Way inner disc.By combining with resolved dust continuum sizes from high-resolution $870$ - $\\upmu$ m ALMA observations and dust mass measurements determined from multi-wavelength SED fitting, we measure the relationship between the $^{12}$ CO SLED and probable physical drivers of excitation: star-formation efficiency, the average intensity of the radiation field $\\langle U\\rangle$ , and the star-formation rate surface density. The primary driver of high- $J_{\\rm up}$ $^{12}$ CO excitation in star-forming galaxies is star-formation rate surface density.We use the ratio of the CO(3--2) and CO(6--5) line fluxes to infer the CO excitation in each sourceand find that the average ratios for our sample are elevated compared to observations of low-redshift, less actively star-forming galaxies and agree well with predictions from numerical models that relate the ISM excitation to the star-formation rate surface density.The significant scatter in the line ratios of a factor $\\approx 3$ within our sample likely reflects intrinsic variations in the ISM properties which may be caused by other effects on the excitation of the molecular gas, such as cosmic ray ionization rates and mechanical heating through turbulence dissipation.\n",
       "\n",
       "</div>\n",
       "\n",
       "<div id=\"div_fig1\">\n",
       "\n",
       "<img src=\"tmp_2411.14271/./images/comb_SLED_grid.png\" alt=\"Fig5\" width=\"100%\"/>\n",
       "\n",
       "**Figure 5. -** CO SLEDs for our sample SMGs. Individual fluxes measured from fits to the spectra are shown as circles with error-bars indicating their propagated uncertainties determined via a Monte Carlo method.\n",
       "    _ Top left:_ Fluxes are normalised to the flux (or upper limits) of the CO(1--0) line and are coloured by their respective star-formation rate surface densities denoted by the colour bar (applicable to both top- and bottom-left panels). AS2COS0065.1 is shown with a limit for the lower error since it causes the error-bar to decrease below a line ratio of 1. We also show the combined composite SLED of the sample (circles), normalised by the star-formation rate surface density ($\\Sigma_{\\rm SFR}$) and 68\\% confidence level as error-bars.\n",
       "    _ Top right:_ The combined composite SLED of the sample (circles) with errors corresponding to the scatter in the sample, similar to systems such as SMM J2135-0102 (Cosmic Eyelash), NGC 253, and local ULIRGs. $J_{\\rm up} = 8$ measurements are omitted for the median, since there is only one available.\n",
       "    Shown alongside is the best-fit \\texttt{RADEX} model to the composite CO SLED, computed from a grid of temperatures and densities, which suggests average ISM conditions of $T_{\\rm kin} \\sim $ 30--50 K, $\\log_{10}(\\langle n_{\\rm H_2}\\rangle[{\\rm cm}^{-3}]) \\sim $ 3.2--3.5, and $\\langle dv/dr \\rangle = $ 0.5--5 kms$^{-1}$pc$^{-1}$, though there is large covariance.\n",
       "    _ Bottom left:_ Similar to the top-left panel, but fluxes are normalised to the flux of the CO(3--2) where they are available, or are otherwise normalised by the predicted flux of the CO(3--2) from the CO(4--3) using the line/brightness temperature ratio measured from \\citet{Danielson_2011}.\n",
       "    _ Bottom right:_ Similar to the top right panel, but with fluxes normalised to the CO(3--2).\n",
       "    We add a small offset to the $J_{\\rm up}$ of each measurement for each source to separate their error-bars which would otherwise overlap.\n",
       "    We also show $J_{\\rm up}^2$ scaling which is the expected scaling of intensities for levels in LTE and in the Rayleigh-Jeans limit.\n",
       "    We compare to the CO SLEDs of other systems such as the Milky Way inner disc \\citep{Fixsen_1999}, the overlap region of the antennae galaxies NGC 4038 and NGC 4039 \\citep[Antenna overlap region;][]{Mashian_2015}, SMM J2135-0102 \\citep[Cosmic Eyelash;][]{Danielson_2011}, M82 \\citep{Weiss_2005}, NGC 253 \\citep{Israel_1995,Harrison_1999,Israel_2002,Bradford_2003}, ULIRGs \\citep{Papadopoulos_2012}, BzKs \\citep{Daddi_2015}, and SMGs from \\citet{Spilker_2014} as well as \\citet{Bothwell_2013}.\n",
       "     (*fig:sled*)\n",
       "\n",
       "</div>\n",
       "<div id=\"div_fig2\">\n",
       "\n",
       "<img src=\"tmp_2411.14271/./images/excitation_drivers_SigmaSFR.png\" alt=\"Fig7\" width=\"100%\"/>\n",
       "\n",
       "**Figure 7. -** $^{12}$CO SLED shapes of ten sources from our sample of SMGs with CO(6--5) observations, probed by measurements of their $J_{\\rm up} = 3$ and $J_{\\rm up} = 6$ CO line fluxes, versus star-formation rate surface density ($\\Sigma_{\\rm SFR}$). For sources without a CO(3--2) measurement, we find the predicted flux from the CO(4--3) measurement using the line/brightness temperature ratio measured for the archetypal SMG SMM J2135-0102 \\citep{Danielson_2011}. We exclude sources AS2UDS072.0 and AS2COS0139.1, however, since the available high-$J_{\\rm up}$ line was the CO(8--7) and the same excitation processes may not be present in both $J_{\\rm up} = 6$ and $J_{\\rm up} = 8$ regions of emission.\n",
       "    We show an orthogonal distance regression (ODR) fit to our observations with the 68\\% confidence level estimated by bootstrapping.\n",
       "    We compare to the unresolved model from \\citetalias{Narayanan_2014} with added extinction, which predicts that the increasing SLED shape correlates with sources with higher $\\Sigma_{\\rm SFR}$, suggesting more intense ISM properties.\n",
       "    We also compare our results to those from \\citet{Bournaud_2015} for simulated $z = 0$ starburst mergers and $z = 2$ discs, as well as \\citet{Valentino_2020} for $z \\sim$ 1.3 main-sequence galaxies and starbursts and \\citet{Boogaard_2020} for $z \\sim $ 1.2 ASPECS galaxies, where we converted their $R_{5,2}$ line ratios to $R_{6,3}$ using line flux ratios taken from \\citet{Weiss_2005} for local starburst M82, with typical error-bars associated with the data. The fit to the low-redshift measurements was computed on the sources shown with the addition of others that had upper limits on $\\Sigma_{\\rm SFR}$.\n",
       "    The correlation coefficient and probability for the relationship can be found in Table \\ref{tab:MIC}.\n",
       "    The observations of our SMGs are consistent with the \\citetalias{Narayanan_2014} model to within $3\\sigma$. However, we find significant scatter, indicative of intrinsic variations in the ISM for a given $\\Sigma_{\\rm SFR}$, which could be described by other physical properties.\n",
       "    In combination with the observations from \\citet{Valentino_2020}, we find that the strongest driver of CO excitation is $\\Sigma_{\\rm SFR}$. (*fig:model*)\n",
       "\n",
       "</div>\n",
       "<div id=\"div_fig3\">\n",
       "\n",
       "<img src=\"tmp_2411.14271/./images/excitation_drivers_U_SFE.png\" alt=\"Fig6\" width=\"100%\"/>\n",
       "\n",
       "**Figure 6. -** $^{12}$CO SLED shapes of ten sources from our sample of SMGs with CO(6--5) observations, probed by measurements of their $J_{\\rm up} = 3$ and $J_{\\rm up} = 6$ CO line fluxes, versus proposed drivers of excitation, SFE (_ left_) and $\\langle U \\rangle$(_ right_). For sources without a CO(3--2) measurement, we derive the predicted flux from the CO(4--3) measurement using the line/brightness temperature ratio measured for the archetypal SMG SMM J2135-0102 \\citep{Danielson_2011}. We exclude sources AS2UDS072.0 and AS2COS0139.1, however, since the available high-$J_{\\rm up}$ line was the CO(8--7) and the same excitation processes may not be present in both $J_{\\rm up} = 6$ and $J_{\\rm up} = 8$ regions of emission.\n",
       "    We show orthogonal distance regression (ODR) fits to our observations with the 68\\% confidence levels estimated by bootstrapping.\n",
       "    We also compare our results to those from \\citet{Valentino_2020} for $z \\sim $ 1.3 main-sequence galaxies and starbursts, where we converted their $R_{5,2}$ line ratios to $R_{6,3}$ using line flux ratios taken from \\citet{Weiss_2005} for local starburst M82, with typical error-bars associated with the data.\n",
       "    Correlation coefficients and probabilities for the relationships can be found in Table \\ref{tab:MIC}.\n",
       "    Offsets between the line ratios of SMGs and low-redshift galaxies at fixed SFE or $\\langle U\\rangle$ indicate that these drivers may not be optimal to describe CO excitation, whereas models improve by considering galaxy sizes (Figure \\ref{fig:model}).\n",
       "     (*fig:sfe_isrf_models*)\n",
       "\n",
       "</div><div id=\"qrcode\"><img src=https://api.qrserver.com/v1/create-qr-code/?size=100x100&data=\"https://arxiv.org/abs/2411.14271\"></div>"
      ],
      "text/plain": [
       "<IPython.core.display.Markdown object>"
      ]
     },
     "metadata": {},
     "output_type": "display_data"
    }
   ],
   "source": [
    "[display(Markdown(k[1])) for k in documents];"
   ]
  },
  {
   "cell_type": "markdown",
   "id": "873873a4",
   "metadata": {
    "papermill": {
     "duration": 0.004303,
     "end_time": "2024-11-22T04:11:39.852136",
     "exception": false,
     "start_time": "2024-11-22T04:11:39.847833",
     "status": "completed"
    },
    "tags": []
   },
   "source": [
    "# Create HTML index"
   ]
  },
  {
   "cell_type": "code",
   "execution_count": 10,
   "id": "cf665672",
   "metadata": {
    "execution": {
     "iopub.execute_input": "2024-11-22T04:11:39.861937Z",
     "iopub.status.busy": "2024-11-22T04:11:39.861698Z",
     "iopub.status.idle": "2024-11-22T04:11:39.869992Z",
     "shell.execute_reply": "2024-11-22T04:11:39.869452Z"
    },
    "papermill": {
     "duration": 0.014364,
     "end_time": "2024-11-22T04:11:39.870931",
     "exception": false,
     "start_time": "2024-11-22T04:11:39.856567",
     "status": "completed"
    },
    "tags": []
   },
   "outputs": [
    {
     "name": "stdout",
     "output_type": "stream",
     "text": [
      "253  publications files modified in the last 7 days.\n"
     ]
    }
   ],
   "source": [
    "from datetime import datetime, timedelta, timezone\n",
    "from glob import glob\n",
    "import os\n",
    "\n",
    "files = glob('_build/html/*.md')\n",
    "days = 7\n",
    "now = datetime.today()\n",
    "res = []\n",
    "for fk in files:\n",
    "    stat_result = os.stat(fk).st_ctime\n",
    "    modified = datetime.fromtimestamp(stat_result, tz=timezone.utc).replace(tzinfo=None)\n",
    "    delta = now.today() - modified\n",
    "    if delta <= timedelta(days=days):\n",
    "        res.append((delta.seconds, fk))\n",
    "res = [k[1] for k in reversed(sorted(res, key=lambda x:x[1]))]\n",
    "npub = len(res)\n",
    "print(len(res), f\" publications files modified in the last {days:d} days.\")\n",
    "# [ print('\\t', k) for k in res ];"
   ]
  },
  {
   "cell_type": "code",
   "execution_count": 11,
   "id": "015de740",
   "metadata": {
    "execution": {
     "iopub.execute_input": "2024-11-22T04:11:39.880612Z",
     "iopub.status.busy": "2024-11-22T04:11:39.880307Z",
     "iopub.status.idle": "2024-11-22T04:11:39.896565Z",
     "shell.execute_reply": "2024-11-22T04:11:39.896040Z"
    },
    "papermill": {
     "duration": 0.022155,
     "end_time": "2024-11-22T04:11:39.897504",
     "exception": false,
     "start_time": "2024-11-22T04:11:39.875349",
     "status": "completed"
    },
    "tags": []
   },
   "outputs": [
    {
     "name": "stdout",
     "output_type": "stream",
     "text": [
      "8  publications in the last 7 days.\n"
     ]
    }
   ],
   "source": [
    "import datetime\n",
    "from glob import glob\n",
    "\n",
    "def get_last_n_days(lst, days=1):\n",
    "    \"\"\" Get the documents from the last n days \"\"\"\n",
    "    sorted_lst = sorted(lst, key=lambda x: x[1], reverse=True)\n",
    "    for fname, date in sorted_lst:\n",
    "        if date >= str(datetime.date.today() - datetime.timedelta(days=days)):\n",
    "            yield fname\n",
    "\n",
    "def extract_appearance_dates(lst_file):\n",
    "    dates = []\n",
    "\n",
    "    def get_date(line):\n",
    "        return line\\\n",
    "            .split('Appeared on:')[-1]\\\n",
    "            .split('</mark>')[0].strip()\n",
    "\n",
    "    for fname in lst:\n",
    "        with open(fname, 'r') as f:\n",
    "            found_date = False\n",
    "            for line in f:\n",
    "                if not found_date:\n",
    "                    if \"Appeared on\" in line:\n",
    "                        found_date = True\n",
    "                        dates.append((fname, get_date(line)))\n",
    "                else:\n",
    "                    break\n",
    "    return dates\n",
    "\n",
    "from glob import glob\n",
    "lst = glob('_build/html/*md')\n",
    "days = 7\n",
    "dates = extract_appearance_dates(lst)\n",
    "res = list(get_last_n_days(dates, days))\n",
    "npub = len(res)\n",
    "print(len(res), f\" publications in the last {days:d} days.\")"
   ]
  },
  {
   "cell_type": "code",
   "execution_count": 12,
   "id": "52ca0208",
   "metadata": {
    "execution": {
     "iopub.execute_input": "2024-11-22T04:11:39.907433Z",
     "iopub.status.busy": "2024-11-22T04:11:39.907056Z",
     "iopub.status.idle": "2024-11-22T04:11:39.911769Z",
     "shell.execute_reply": "2024-11-22T04:11:39.911230Z"
    },
    "papermill": {
     "duration": 0.010755,
     "end_time": "2024-11-22T04:11:39.912776",
     "exception": false,
     "start_time": "2024-11-22T04:11:39.902021",
     "status": "completed"
    },
    "scrolled": false,
    "tags": []
   },
   "outputs": [],
   "source": [
    "def create_carousel(npub=4):\n",
    "    \"\"\" Generate the HTML code for a carousel with `npub` slides \"\"\"\n",
    "    carousel = [\"\"\"  <div class=\"carousel\" \"\"\",\n",
    "                \"\"\"       data-flickity='{ \"autoPlay\": 10000, \"adaptiveHeight\": true, \"resize\": true, \"wrapAround\": true, \"pauseAutoPlayOnHover\": true, \"groupCells\": 1 }' id=\"asyncTypeset\">\"\"\"\n",
    "                ]\n",
    "    \n",
    "    item_str = \"\"\"    <div class=\"carousel-cell\"> <div id=\"slide{k}\" class=\"md_view\">Content {k}</div> </div>\"\"\"\n",
    "    for k in range(1, npub + 1):\n",
    "        carousel.append(item_str.format(k=k))\n",
    "    carousel.append(\"  </div>\")\n",
    "    return '\\n'.join(carousel)\n",
    "\n",
    "def create_grid(npub=4):\n",
    "    \"\"\" Generate the HTML code for a flat grid with `npub` slides \"\"\"\n",
    "    grid = [\"\"\"  <div class=\"grid\"> \"\"\",\n",
    "                ]\n",
    "    \n",
    "    item_str = \"\"\"    <div class=\"grid-item\"> <div id=\"slide{k}\" class=\"md_view\">Content {k}</div> </div>\"\"\"\n",
    "    for k in range(1, npub + 1):\n",
    "        grid.append(item_str.format(k=k))\n",
    "    grid.append(\"  </div>\")\n",
    "    return '\\n'.join(grid)"
   ]
  },
  {
   "cell_type": "code",
   "execution_count": 13,
   "id": "a6eac5b6",
   "metadata": {
    "execution": {
     "iopub.execute_input": "2024-11-22T04:11:39.923109Z",
     "iopub.status.busy": "2024-11-22T04:11:39.922570Z",
     "iopub.status.idle": "2024-11-22T04:11:39.927597Z",
     "shell.execute_reply": "2024-11-22T04:11:39.927074Z"
    },
    "papermill": {
     "duration": 0.011115,
     "end_time": "2024-11-22T04:11:39.928516",
     "exception": false,
     "start_time": "2024-11-22T04:11:39.917401",
     "status": "completed"
    },
    "scrolled": false,
    "tags": []
   },
   "outputs": [],
   "source": [
    "carousel = create_carousel(npub)\n",
    "docs = ', '.join(['\"{0:s}\"'.format(k.split('/')[-1]) for k in res])\n",
    "slides = ', '.join([f'\"slide{k}\"' for k in range(1, npub + 1)])\n",
    "\n",
    "with open(\"daily_template.html\", \"r\") as tpl:\n",
    "    page = tpl.read()\n",
    "    page = page.replace(\"{%-- carousel:s --%}\", carousel)\\\n",
    "               .replace(\"{%-- suptitle:s --%}\",  \"7-day archives\" )\\\n",
    "               .replace(\"{%-- docs:s --%}\", docs)\\\n",
    "               .replace(\"{%-- slides:s --%}\", slides)\n",
    "    \n",
    "with open(\"_build/html/index_7days.html\", 'w') as fout:\n",
    "    fout.write(page)"
   ]
  },
  {
   "cell_type": "code",
   "execution_count": 14,
   "id": "adc1a1ec",
   "metadata": {
    "execution": {
     "iopub.execute_input": "2024-11-22T04:11:39.938501Z",
     "iopub.status.busy": "2024-11-22T04:11:39.938263Z",
     "iopub.status.idle": "2024-11-22T04:11:39.944762Z",
     "shell.execute_reply": "2024-11-22T04:11:39.944151Z"
    },
    "papermill": {
     "duration": 0.012556,
     "end_time": "2024-11-22T04:11:39.945668",
     "exception": false,
     "start_time": "2024-11-22T04:11:39.933112",
     "status": "completed"
    },
    "tags": []
   },
   "outputs": [
    {
     "name": "stdout",
     "output_type": "stream",
     "text": [
      "2  publications in the last day.\n"
     ]
    }
   ],
   "source": [
    "# redo for today\n",
    "days = 1\n",
    "res = list(get_last_n_days(dates, days))\n",
    "npub = len(res)\n",
    "print(len(res), f\" publications in the last day.\")\n",
    "\n",
    "carousel = create_carousel(npub)\n",
    "docs = ', '.join(['\"{0:s}\"'.format(k.split('/')[-1]) for k in res])\n",
    "slides = ', '.join([f'\"slide{k}\"' for k in range(1, npub + 1)])\n",
    "\n",
    "with open(\"daily_template.html\", \"r\") as tpl:\n",
    "    page = tpl.read()\n",
    "    page = page.replace(\"{%-- carousel:s --%}\", carousel)\\\n",
    "               .replace(\"{%-- suptitle:s --%}\",  \"Daily\" )\\\n",
    "               .replace(\"{%-- docs:s --%}\", docs)\\\n",
    "               .replace(\"{%-- slides:s --%}\", slides)\n",
    "    \n",
    "# print(carousel, docs, slides)\n",
    "# print(page)\n",
    "with open(\"_build/html/index_daily.html\", 'w') as fout:\n",
    "    fout.write(page)"
   ]
  },
  {
   "cell_type": "code",
   "execution_count": 15,
   "id": "00eece82",
   "metadata": {
    "execution": {
     "iopub.execute_input": "2024-11-22T04:11:39.956121Z",
     "iopub.status.busy": "2024-11-22T04:11:39.955737Z",
     "iopub.status.idle": "2024-11-22T04:11:39.961998Z",
     "shell.execute_reply": "2024-11-22T04:11:39.961368Z"
    },
    "papermill": {
     "duration": 0.01274,
     "end_time": "2024-11-22T04:11:39.963058",
     "exception": false,
     "start_time": "2024-11-22T04:11:39.950318",
     "status": "completed"
    },
    "scrolled": false,
    "tags": []
   },
   "outputs": [
    {
     "name": "stdout",
     "output_type": "stream",
     "text": [
      "6  6 publications selected.\n"
     ]
    }
   ],
   "source": [
    "# Create the flat grid of the last N papers (fixed number regardless of dates)\n",
    "from itertools import islice \n",
    "\n",
    "npub = 6\n",
    "res = [k[0] for k in (islice(reversed(sorted(dates, key=lambda x: x[1])), 6))]\n",
    "print(len(res), f\" {npub} publications selected.\")\n",
    "\n",
    "grid = create_grid(npub)\n",
    "docs = ', '.join(['\"{0:s}\"'.format(k.split('/')[-1]) for k in res])\n",
    "slides = ', '.join([f'\"slide{k}\"' for k in range(1, npub + 1)])\n",
    "\n",
    "with open(\"grid_template.html\", \"r\") as tpl:\n",
    "    page = tpl.read()\n",
    "    page = page.replace(\"{%-- grid-content:s --%}\", grid)\\\n",
    "               .replace(\"{%-- suptitle:s --%}\",  f\"Last {npub:,d} papers\" )\\\n",
    "               .replace(\"{%-- docs:s --%}\", docs)\\\n",
    "               .replace(\"{%-- slides:s --%}\", slides)\n",
    "    \n",
    "# print(grid, docs, slides)\n",
    "# print(page)\n",
    "with open(\"_build/html/index_npub_grid.html\", 'w') as fout:\n",
    "    fout.write(page)"
   ]
  }
 ],
 "metadata": {
  "kernelspec": {
   "display_name": "Python 3 (ipykernel)",
   "language": "python",
   "name": "python3"
  },
  "language_info": {
   "codemirror_mode": {
    "name": "ipython",
    "version": 3
   },
   "file_extension": ".py",
   "mimetype": "text/x-python",
   "name": "python",
   "nbconvert_exporter": "python",
   "pygments_lexer": "ipython3",
   "version": "3.9.20"
  },
  "papermill": {
   "default_parameters": {},
   "duration": 30.771472,
   "end_time": "2024-11-22T04:11:40.183799",
   "environment_variables": {},
   "exception": null,
   "input_path": "MPIA daily digest.ipynb",
   "output_path": "log.ipynb",
   "parameters": {},
   "start_time": "2024-11-22T04:11:09.412327",
   "version": "2.6.0"
  },
  "vscode": {
   "interpreter": {
    "hash": "aee8b7b246df8f9039afb4144a1f6fd8d2ca17a180786b69acc140d282b71a49"
   }
  },
  "widgets": {
   "application/vnd.jupyter.widget-state+json": {
    "state": {
     "246fcaf2611049f6bf9a03bc4694313b": {
      "model_module": "@jupyter-widgets/controls",
      "model_module_version": "2.0.0",
      "model_name": "ProgressStyleModel",
      "state": {
       "_model_module": "@jupyter-widgets/controls",
       "_model_module_version": "2.0.0",
       "_model_name": "ProgressStyleModel",
       "_view_count": null,
       "_view_module": "@jupyter-widgets/base",
       "_view_module_version": "2.0.0",
       "_view_name": "StyleView",
       "bar_color": null,
       "description_width": ""
      }
     },
     "56e0942b8a044cf1824de6b79e35cf38": {
      "model_module": "@jupyter-widgets/controls",
      "model_module_version": "2.0.0",
      "model_name": "HTMLStyleModel",
      "state": {
       "_model_module": "@jupyter-widgets/controls",
       "_model_module_version": "2.0.0",
       "_model_name": "HTMLStyleModel",
       "_view_count": null,
       "_view_module": "@jupyter-widgets/base",
       "_view_module_version": "2.0.0",
       "_view_name": "StyleView",
       "background": null,
       "description_width": "",
       "font_size": null,
       "text_color": null
      }
     },
     "596defb4e36e45c180c4e792adaa6181": {
      "model_module": "@jupyter-widgets/base",
      "model_module_version": "2.0.0",
      "model_name": "LayoutModel",
      "state": {
       "_model_module": "@jupyter-widgets/base",
       "_model_module_version": "2.0.0",
       "_model_name": "LayoutModel",
       "_view_count": null,
       "_view_module": "@jupyter-widgets/base",
       "_view_module_version": "2.0.0",
       "_view_name": "LayoutView",
       "align_content": null,
       "align_items": null,
       "align_self": null,
       "border_bottom": null,
       "border_left": null,
       "border_right": null,
       "border_top": null,
       "bottom": null,
       "display": null,
       "flex": null,
       "flex_flow": null,
       "grid_area": null,
       "grid_auto_columns": null,
       "grid_auto_flow": null,
       "grid_auto_rows": null,
       "grid_column": null,
       "grid_gap": null,
       "grid_row": null,
       "grid_template_areas": null,
       "grid_template_columns": null,
       "grid_template_rows": null,
       "height": null,
       "justify_content": null,
       "justify_items": null,
       "left": null,
       "margin": null,
       "max_height": null,
       "max_width": null,
       "min_height": null,
       "min_width": null,
       "object_fit": null,
       "object_position": null,
       "order": null,
       "overflow": null,
       "padding": null,
       "right": null,
       "top": null,
       "visibility": null,
       "width": null
      }
     },
     "64308d8fcbdf4990ae40593fccd74e7e": {
      "model_module": "@jupyter-widgets/controls",
      "model_module_version": "2.0.0",
      "model_name": "HTMLModel",
      "state": {
       "_dom_classes": [],
       "_model_module": "@jupyter-widgets/controls",
       "_model_module_version": "2.0.0",
       "_model_name": "HTMLModel",
       "_view_count": null,
       "_view_module": "@jupyter-widgets/controls",
       "_view_module_version": "2.0.0",
       "_view_name": "HTMLView",
       "description": "",
       "description_allow_html": false,
       "layout": "IPY_MODEL_7c6b1ca4b14242299c5c9263385d10c3",
       "placeholder": "​",
       "style": "IPY_MODEL_56e0942b8a044cf1824de6b79e35cf38",
       "tabbable": null,
       "tooltip": null,
       "value": "100%"
      }
     },
     "7c6b1ca4b14242299c5c9263385d10c3": {
      "model_module": "@jupyter-widgets/base",
      "model_module_version": "2.0.0",
      "model_name": "LayoutModel",
      "state": {
       "_model_module": "@jupyter-widgets/base",
       "_model_module_version": "2.0.0",
       "_model_name": "LayoutModel",
       "_view_count": null,
       "_view_module": "@jupyter-widgets/base",
       "_view_module_version": "2.0.0",
       "_view_name": "LayoutView",
       "align_content": null,
       "align_items": null,
       "align_self": null,
       "border_bottom": null,
       "border_left": null,
       "border_right": null,
       "border_top": null,
       "bottom": null,
       "display": null,
       "flex": null,
       "flex_flow": null,
       "grid_area": null,
       "grid_auto_columns": null,
       "grid_auto_flow": null,
       "grid_auto_rows": null,
       "grid_column": null,
       "grid_gap": null,
       "grid_row": null,
       "grid_template_areas": null,
       "grid_template_columns": null,
       "grid_template_rows": null,
       "height": null,
       "justify_content": null,
       "justify_items": null,
       "left": null,
       "margin": null,
       "max_height": null,
       "max_width": null,
       "min_height": null,
       "min_width": null,
       "object_fit": null,
       "object_position": null,
       "order": null,
       "overflow": null,
       "padding": null,
       "right": null,
       "top": null,
       "visibility": null,
       "width": null
      }
     },
     "8a37470bf582489590c96b1b82f2c05e": {
      "model_module": "@jupyter-widgets/base",
      "model_module_version": "2.0.0",
      "model_name": "LayoutModel",
      "state": {
       "_model_module": "@jupyter-widgets/base",
       "_model_module_version": "2.0.0",
       "_model_name": "LayoutModel",
       "_view_count": null,
       "_view_module": "@jupyter-widgets/base",
       "_view_module_version": "2.0.0",
       "_view_name": "LayoutView",
       "align_content": null,
       "align_items": null,
       "align_self": null,
       "border_bottom": null,
       "border_left": null,
       "border_right": null,
       "border_top": null,
       "bottom": null,
       "display": null,
       "flex": null,
       "flex_flow": null,
       "grid_area": null,
       "grid_auto_columns": null,
       "grid_auto_flow": null,
       "grid_auto_rows": null,
       "grid_column": null,
       "grid_gap": null,
       "grid_row": null,
       "grid_template_areas": null,
       "grid_template_columns": null,
       "grid_template_rows": null,
       "height": null,
       "justify_content": null,
       "justify_items": null,
       "left": null,
       "margin": null,
       "max_height": null,
       "max_width": null,
       "min_height": null,
       "min_width": null,
       "object_fit": null,
       "object_position": null,
       "order": null,
       "overflow": null,
       "padding": null,
       "right": null,
       "top": null,
       "visibility": null,
       "width": null
      }
     },
     "96222a05b0184d1f81f5aa078e0cd4d7": {
      "model_module": "@jupyter-widgets/controls",
      "model_module_version": "2.0.0",
      "model_name": "HTMLStyleModel",
      "state": {
       "_model_module": "@jupyter-widgets/controls",
       "_model_module_version": "2.0.0",
       "_model_name": "HTMLStyleModel",
       "_view_count": null,
       "_view_module": "@jupyter-widgets/base",
       "_view_module_version": "2.0.0",
       "_view_name": "StyleView",
       "background": null,
       "description_width": "",
       "font_size": null,
       "text_color": null
      }
     },
     "ad80008f739942a68ae4097acf298b3e": {
      "model_module": "@jupyter-widgets/controls",
      "model_module_version": "2.0.0",
      "model_name": "HTMLModel",
      "state": {
       "_dom_classes": [],
       "_model_module": "@jupyter-widgets/controls",
       "_model_module_version": "2.0.0",
       "_model_name": "HTMLModel",
       "_view_count": null,
       "_view_module": "@jupyter-widgets/controls",
       "_view_module_version": "2.0.0",
       "_view_name": "HTMLView",
       "description": "",
       "description_allow_html": false,
       "layout": "IPY_MODEL_e500d177ed754ffa8a13aa5ab7bb5d6b",
       "placeholder": "​",
       "style": "IPY_MODEL_96222a05b0184d1f81f5aa078e0cd4d7",
       "tabbable": null,
       "tooltip": null,
       "value": " 3/3 [00:10&lt;00:00,  4.23s/it]"
      }
     },
     "d604e554c711499ba9eb151a75f49524": {
      "model_module": "@jupyter-widgets/controls",
      "model_module_version": "2.0.0",
      "model_name": "FloatProgressModel",
      "state": {
       "_dom_classes": [],
       "_model_module": "@jupyter-widgets/controls",
       "_model_module_version": "2.0.0",
       "_model_name": "FloatProgressModel",
       "_view_count": null,
       "_view_module": "@jupyter-widgets/controls",
       "_view_module_version": "2.0.0",
       "_view_name": "ProgressView",
       "bar_style": "success",
       "description": "",
       "description_allow_html": false,
       "layout": "IPY_MODEL_8a37470bf582489590c96b1b82f2c05e",
       "max": 3.0,
       "min": 0.0,
       "orientation": "horizontal",
       "style": "IPY_MODEL_246fcaf2611049f6bf9a03bc4694313b",
       "tabbable": null,
       "tooltip": null,
       "value": 3.0
      }
     },
     "df1b9bd1fbbb4e6eba824c28f4fe0900": {
      "model_module": "@jupyter-widgets/controls",
      "model_module_version": "2.0.0",
      "model_name": "HBoxModel",
      "state": {
       "_dom_classes": [],
       "_model_module": "@jupyter-widgets/controls",
       "_model_module_version": "2.0.0",
       "_model_name": "HBoxModel",
       "_view_count": null,
       "_view_module": "@jupyter-widgets/controls",
       "_view_module_version": "2.0.0",
       "_view_name": "HBoxView",
       "box_style": "",
       "children": [
        "IPY_MODEL_64308d8fcbdf4990ae40593fccd74e7e",
        "IPY_MODEL_d604e554c711499ba9eb151a75f49524",
        "IPY_MODEL_ad80008f739942a68ae4097acf298b3e"
       ],
       "layout": "IPY_MODEL_596defb4e36e45c180c4e792adaa6181",
       "tabbable": null,
       "tooltip": null
      }
     },
     "e500d177ed754ffa8a13aa5ab7bb5d6b": {
      "model_module": "@jupyter-widgets/base",
      "model_module_version": "2.0.0",
      "model_name": "LayoutModel",
      "state": {
       "_model_module": "@jupyter-widgets/base",
       "_model_module_version": "2.0.0",
       "_model_name": "LayoutModel",
       "_view_count": null,
       "_view_module": "@jupyter-widgets/base",
       "_view_module_version": "2.0.0",
       "_view_name": "LayoutView",
       "align_content": null,
       "align_items": null,
       "align_self": null,
       "border_bottom": null,
       "border_left": null,
       "border_right": null,
       "border_top": null,
       "bottom": null,
       "display": null,
       "flex": null,
       "flex_flow": null,
       "grid_area": null,
       "grid_auto_columns": null,
       "grid_auto_flow": null,
       "grid_auto_rows": null,
       "grid_column": null,
       "grid_gap": null,
       "grid_row": null,
       "grid_template_areas": null,
       "grid_template_columns": null,
       "grid_template_rows": null,
       "height": null,
       "justify_content": null,
       "justify_items": null,
       "left": null,
       "margin": null,
       "max_height": null,
       "max_width": null,
       "min_height": null,
       "min_width": null,
       "object_fit": null,
       "object_position": null,
       "order": null,
       "overflow": null,
       "padding": null,
       "right": null,
       "top": null,
       "visibility": null,
       "width": null
      }
     }
    },
    "version_major": 2,
    "version_minor": 0
   }
  }
 },
 "nbformat": 4,
 "nbformat_minor": 5
}