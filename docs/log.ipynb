{
 "cells": [
  {
   "cell_type": "markdown",
   "id": "92bcb855",
   "metadata": {
    "papermill": {
     "duration": 0.005322,
     "end_time": "2023-04-19T04:06:38.563568",
     "exception": false,
     "start_time": "2023-04-19T04:06:38.558246",
     "status": "completed"
    },
    "tags": []
   },
   "source": [
    "# MPIA Arxiv on Deck 2\n",
    "\n",
    "Contains the steps to produce the paper extractions."
   ]
  },
  {
   "cell_type": "code",
   "execution_count": 1,
   "id": "3a0d6e11",
   "metadata": {
    "execution": {
     "iopub.execute_input": "2023-04-19T04:06:38.574469Z",
     "iopub.status.busy": "2023-04-19T04:06:38.574120Z",
     "iopub.status.idle": "2023-04-19T04:06:38.895097Z",
     "shell.execute_reply": "2023-04-19T04:06:38.894047Z"
    },
    "papermill": {
     "duration": 0.329902,
     "end_time": "2023-04-19T04:06:38.897917",
     "exception": false,
     "start_time": "2023-04-19T04:06:38.568015",
     "status": "completed"
    },
    "tags": []
   },
   "outputs": [],
   "source": [
    "# Imports\n",
    "import os\n",
    "from IPython.display import Markdown, display\n",
    "from tqdm.notebook import tqdm\n",
    "import warnings\n",
    "from PIL import Image \n",
    "\n",
    "# requires arxiv_on_deck_2\n",
    "\n",
    "from arxiv_on_deck_2.arxiv2 import (get_new_papers, \n",
    "                                    get_paper_from_identifier,\n",
    "                                    retrieve_document_source, \n",
    "                                    get_markdown_badge)\n",
    "from arxiv_on_deck_2 import (latex,\n",
    "                             latex_bib,\n",
    "                             mpia,\n",
    "                             highlight_authors_in_list)\n",
    "\n",
    "# Sometimes images are really big\n",
    "Image.MAX_IMAGE_PIXELS = 1000000000 "
   ]
  },
  {
   "cell_type": "code",
   "execution_count": 2,
   "id": "22aa9d44",
   "metadata": {
    "execution": {
     "iopub.execute_input": "2023-04-19T04:06:38.910202Z",
     "iopub.status.busy": "2023-04-19T04:06:38.909805Z",
     "iopub.status.idle": "2023-04-19T04:06:38.918938Z",
     "shell.execute_reply": "2023-04-19T04:06:38.917800Z"
    },
    "papermill": {
     "duration": 0.020008,
     "end_time": "2023-04-19T04:06:38.923268",
     "exception": false,
     "start_time": "2023-04-19T04:06:38.903260",
     "status": "completed"
    },
    "tags": []
   },
   "outputs": [],
   "source": [
    "# Some useful definitions.\n",
    "\n",
    "class AffiliationWarning(UserWarning):\n",
    "    pass\n",
    "\n",
    "class AffiliationError(RuntimeError):\n",
    "    pass\n",
    "\n",
    "def validation(source: str):\n",
    "    \"\"\"Raises error paper during parsing of source file\n",
    "    \n",
    "    Allows checks before parsing TeX code.\n",
    "    \n",
    "    Raises AffiliationWarning\n",
    "    \"\"\"\n",
    "    check = mpia.affiliation_verifications(source, verbose=True)\n",
    "    if check is not True:\n",
    "        raise AffiliationError(\"mpia.affiliation_verifications: \" + check)\n",
    "\n",
    "        \n",
    "warnings.simplefilter('always', AffiliationWarning)\n",
    "\n",
    "\n",
    "def get_markdown_qrcode(paper_id: str):\n",
    "    \"\"\" Generate a qrcode to the arxiv page using qrserver.com\n",
    "    \n",
    "    :param paper: Arxiv paper\n",
    "    :returns: markdown text\n",
    "    \"\"\"\n",
    "    url = r\"https://api.qrserver.com/v1/create-qr-code/?size=100x100&data=\"\n",
    "    txt = f\"\"\"<img src={url}\"https://arxiv.org/abs/{paper_id}\">\"\"\"\n",
    "    txt = '<div id=\"qrcode\">' + txt + '</div>'\n",
    "    return txt"
   ]
  },
  {
   "cell_type": "markdown",
   "id": "14bd6310",
   "metadata": {
    "papermill": {
     "duration": 0.004794,
     "end_time": "2023-04-19T04:06:38.932717",
     "exception": false,
     "start_time": "2023-04-19T04:06:38.927923",
     "status": "completed"
    },
    "tags": []
   },
   "source": [
    "## get list of arxiv paper candidates\n",
    "\n",
    "We use the MPIA mitarbeiter list webpage from mpia.de to get author names\n",
    "We then get all new papers from Arxiv and match authors"
   ]
  },
  {
   "cell_type": "code",
   "execution_count": 3,
   "id": "2645e73a",
   "metadata": {
    "execution": {
     "iopub.execute_input": "2023-04-19T04:06:38.943095Z",
     "iopub.status.busy": "2023-04-19T04:06:38.942722Z",
     "iopub.status.idle": "2023-04-19T04:07:10.702453Z",
     "shell.execute_reply": "2023-04-19T04:07:10.701574Z"
    },
    "papermill": {
     "duration": 31.772749,
     "end_time": "2023-04-19T04:07:10.709799",
     "exception": false,
     "start_time": "2023-04-19T04:06:38.937050",
     "status": "completed"
    },
    "tags": []
   },
   "outputs": [
    {
     "name": "stdout",
     "output_type": "stream",
     "text": [
      "Arxiv has 47 new papers today\n",
      "          3 with possible author matches\n"
     ]
    }
   ],
   "source": [
    "# get list from MPIA website\n",
    "# it automatically filters identified non-scientists :func:`mpia.filter_non_scientists`\n",
    "mpia_authors = mpia.get_mpia_mitarbeiter_list()\n",
    "normed_mpia_authors = [k[1] for k in mpia_authors]   # initials + fullname\n",
    "new_papers = get_new_papers()\n",
    "# add manual references\n",
    "add_paper_refs = []\n",
    "new_papers.extend([get_paper_from_identifier(k) for k in add_paper_refs])\n",
    "\n",
    "candidates = []\n",
    "for paperk in new_papers:\n",
    "    # Check author list with their initials\n",
    "    normed_author_list = [mpia.get_initials(k) for k in paperk['authors']]\n",
    "    hl_authors = highlight_authors_in_list(normed_author_list, normed_mpia_authors, verbose=True)\n",
    "    matches = [(hl, orig) for hl, orig in zip(hl_authors, paperk['authors']) if 'mark' in hl]\n",
    "    paperk['authors'] = hl_authors\n",
    "    if matches:\n",
    "        # only select paper if an author matched our list\n",
    "        candidates.append(paperk)\n",
    "print(\"\"\"Arxiv has {0:,d} new papers today\"\"\".format(len(new_papers)))        \n",
    "print(\"\"\"          {0:,d} with possible author matches\"\"\".format(len(candidates)))"
   ]
  },
  {
   "cell_type": "markdown",
   "id": "3543b34a",
   "metadata": {
    "papermill": {
     "duration": 0.004956,
     "end_time": "2023-04-19T04:07:10.719203",
     "exception": false,
     "start_time": "2023-04-19T04:07:10.714247",
     "status": "completed"
    },
    "tags": []
   },
   "source": [
    "# Parse sources and generate relevant outputs\n",
    "\n",
    "From the candidates, we do the following steps:\n",
    "* get their tarball from ArXiv (and extract data)\n",
    "* find the main .tex file: find one with \\documentclass{...} (sometimes it's non trivial)\n",
    "* Check affiliations with :func:`validation`, which uses :func:`mpia.affiliation_verifications`\n",
    "* If passing the affiliations: we parse the .tex source\n",
    "   * inject sub-documents into the main (flatten the main document)\n",
    "   * parse structure, extract information (title, abstract, authors, figures...)\n",
    "   * handles `\\graphicspath` if provided\n",
    "* Generate the .md document."
   ]
  },
  {
   "cell_type": "code",
   "execution_count": 4,
   "id": "9576b79e",
   "metadata": {
    "execution": {
     "iopub.execute_input": "2023-04-19T04:07:10.730738Z",
     "iopub.status.busy": "2023-04-19T04:07:10.730113Z",
     "iopub.status.idle": "2023-04-19T04:08:34.397606Z",
     "shell.execute_reply": "2023-04-19T04:08:34.396692Z"
    },
    "papermill": {
     "duration": 83.68407,
     "end_time": "2023-04-19T04:08:34.407814",
     "exception": false,
     "start_time": "2023-04-19T04:07:10.723744",
     "status": "completed"
    },
    "scrolled": false,
    "tags": []
   },
   "outputs": [
    {
     "data": {
      "application/vnd.jupyter.widget-view+json": {
       "model_id": "2b7de57139b44d14982826a0af8bfbe0",
       "version_major": 2,
       "version_minor": 0
      },
      "text/plain": [
       "  0%|          | 0/2 [00:00<?, ?it/s]"
      ]
     },
     "metadata": {},
     "output_type": "display_data"
    },
    {
     "name": "stdout",
     "output_type": "stream",
     "text": [
      "Retrieving document from  https://arxiv.org/e-print/2304.08511\n"
     ]
    },
    {
     "name": "stdout",
     "output_type": "stream",
     "text": [
      "extracting tarball to tmp_2304.08511..."
     ]
    },
    {
     "name": "stdout",
     "output_type": "stream",
     "text": [
      " done.\n"
     ]
    },
    {
     "name": "stdout",
     "output_type": "stream",
     "text": [
      "Found 68 bibliographic references in tmp_2304.08511/ms.bbl.\n",
      "Retrieving document from  https://arxiv.org/e-print/2304.08613\n"
     ]
    },
    {
     "name": "stdout",
     "output_type": "stream",
     "text": [
      "extracting tarball to tmp_2304.08613..."
     ]
    },
    {
     "name": "stdout",
     "output_type": "stream",
     "text": [
      " done.\n"
     ]
    },
    {
     "name": "stderr",
     "output_type": "stream",
     "text": [
      "/opt/hostedtoolcache/Python/3.9.16/x64/lib/python3.9/site-packages/IPython/core/interactiveshell.py:3505: LatexWarning: Multiple tex files.\n",
      "\n",
      "  exec(code_obj, self.user_global_ns, self.user_ns)\n",
      "/opt/hostedtoolcache/Python/3.9.16/x64/lib/python3.9/site-packages/IPython/core/interactiveshell.py:3505: LatexWarning: Found documentclass in tmp_2304.08613/ms_fred.tex\n",
      "\n",
      "  exec(code_obj, self.user_global_ns, self.user_ns)\n"
     ]
    },
    {
     "name": "stdout",
     "output_type": "stream",
     "text": [
      "Found 120 bibliographic references in tmp_2304.08613/ms_fred.bbl.\n",
      "syntax error in line 88: '=' expected\n"
     ]
    }
   ],
   "source": [
    "documents = []\n",
    "failed = []\n",
    "for paper in tqdm(candidates[:-1]):\n",
    "    paper_id = paper['identifier'].lower().replace('arxiv:', '')\n",
    "    \n",
    "    folder = f'tmp_{paper_id}'\n",
    "\n",
    "    try:\n",
    "        if not os.path.isdir(folder):\n",
    "            folder = retrieve_document_source(f\"{paper_id}\", f'tmp_{paper_id}')\n",
    "        \n",
    "        try:\n",
    "            doc = latex.LatexDocument(folder, validation=validation)    \n",
    "        except AffiliationError as affilerror:\n",
    "            msg = f\"ArXiv:{paper_id:s} is not an MPIA paper... \" + str(affilerror)\n",
    "            failed.append((paper, \"affiliation error: \" + str(affilerror) ))\n",
    "            continue\n",
    "        \n",
    "        # Hack because sometimes author parsing does not work well\n",
    "        if (len(doc.authors) != len(paper['authors'])):\n",
    "            doc._authors = paper['authors']\n",
    "        else:\n",
    "            # highlight authors (FIXME: doc.highlight_authors)\n",
    "            # done on arxiv paper already\n",
    "            doc._authors = highlight_authors_in_list(\n",
    "                [mpia.get_initials(k) for k in doc.authors], \n",
    "                normed_mpia_authors, verbose=True)\n",
    "        if (doc.abstract) in (None, ''):\n",
    "            doc._abstract = paper['abstract']\n",
    "            \n",
    "        doc.comment = (get_markdown_badge(paper_id) + \n",
    "                       \"<mark>Appeared on: \" + paper['date'] + \"</mark> - \")\n",
    "        if paper['comments']:\n",
    "            doc.comment += \" _\" + paper['comments'] + \"_\"\n",
    "        \n",
    "        full_md = doc.generate_markdown_text()\n",
    "        \n",
    "        full_md += get_markdown_qrcode(paper_id)\n",
    "        \n",
    "        # replace citations\n",
    "        try:\n",
    "            bibdata = latex_bib.LatexBib.from_doc(doc)\n",
    "            full_md = latex_bib.replace_citations(full_md, bibdata)\n",
    "        except Exception as e:\n",
    "            print(e)\n",
    "        \n",
    "        documents.append((paper_id, full_md))\n",
    "    except Exception as e:\n",
    "        warnings.warn(latex.LatexWarning(f\"{paper_id:s} did not run properly\\n\" +\n",
    "                                         str(e)\n",
    "                                        ))\n",
    "        failed.append((paper, \"latex error \" + str(e)))"
   ]
  },
  {
   "cell_type": "markdown",
   "id": "2505a25c",
   "metadata": {
    "papermill": {
     "duration": 0.005869,
     "end_time": "2023-04-19T04:08:34.421596",
     "exception": false,
     "start_time": "2023-04-19T04:08:34.415727",
     "status": "completed"
    },
    "tags": []
   },
   "source": [
    "### Export the logs\n",
    "\n",
    "Throughout, we also keep track of the logs per paper. see `logs-{today date}.md` "
   ]
  },
  {
   "cell_type": "code",
   "execution_count": 5,
   "id": "d733828a",
   "metadata": {
    "execution": {
     "iopub.execute_input": "2023-04-19T04:08:34.437335Z",
     "iopub.status.busy": "2023-04-19T04:08:34.434082Z",
     "iopub.status.idle": "2023-04-19T04:08:34.459609Z",
     "shell.execute_reply": "2023-04-19T04:08:34.458669Z"
    },
    "papermill": {
     "duration": 0.03536,
     "end_time": "2023-04-19T04:08:34.461879",
     "exception": false,
     "start_time": "2023-04-19T04:08:34.426519",
     "status": "completed"
    },
    "scrolled": false,
    "tags": []
   },
   "outputs": [
    {
     "data": {
      "text/markdown": [
       "## Successful papers"
      ],
      "text/plain": [
       "<IPython.core.display.Markdown object>"
      ]
     },
     "metadata": {},
     "output_type": "display_data"
    },
    {
     "data": {
      "text/markdown": [
       "\n",
       "|||\n",
       "|---:|:---|\n",
       "| [![arXiv](https://img.shields.io/badge/arXiv-arXiv:2304.08511-b31b1b.svg)](https://arxiv.org/abs/arXiv:2304.08511) | **JWST/NIRSpec Measurements of Extremely Low Metallicities in High  Equivalent Width Lyman-$α$ Emitters**  |\n",
       "|| M. V. Maseda, et al. -- incl., <mark>L. Boogaard</mark> |\n",
       "|*Appeared on*| *2023-04-19*|\n",
       "|*Comments*| *13 pages, 4 appendices; submitted to AAS Journals*|\n",
       "|**Abstract**| Deep VLT/MUSE optical integral field spectroscopy has recently revealed an abundant population of ultra-faint galaxies ($M_{UV} = -$15; 0.01 $L_{\\star}$) at $z=$2.9$-$6.7 due to their strong Lyman-$\\alpha$ emission. The implied Lyman-$\\alpha$ equivalent widths are in excess of 100-200 Angstrom, challenging existing models of normal star formation and implying extremely young ages, small stellar masses, and a very low amount of metal enrichment. We use JWST/NIRSpec's microshutter array to follow-up 45 of these galaxies (11h in G235M/F170LP and 7h in G395M/F290LP), as well as 45 lower-equivalent width Lyman-$\\alpha$ emitters. Our spectroscopy covers the range 1.7$-$5.1 micron in order to target strong optical emission lines: H$\\alpha$, [OIII], H$\\beta$, and [NII]. Individual measurements as well as stacks reveal line ratios consistent with a metal poor nature (2$-$30% $Z_{\\odot}$) and intense ionizing radiation fields. The galaxies with the highest equivalent widths of Lyman-$\\alpha$, in excess of 120 Angstrom, have lower gas-phase metallicities than those with lower equivalent widths. This implies a selection based on Lyman-$\\alpha$ equivalent width is an efficient technique for identifying younger, less chemically enriched systems. |"
      ],
      "text/plain": [
       "[arXiv:2304.08511] JWST/NIRSpec Measurements of Extremely Low Metallicities in High  Equivalent Width Lyman-$α$ Emitters\n",
       "\tM. V. Maseda, et al. -- incl., <mark>L. Boogaard</mark>"
      ]
     },
     "metadata": {},
     "output_type": "display_data"
    },
    {
     "data": {
      "text/markdown": [
       "\n",
       "|||\n",
       "|---:|:---|\n",
       "| [![arXiv](https://img.shields.io/badge/arXiv-arXiv:2304.08613-b31b1b.svg)](https://arxiv.org/abs/arXiv:2304.08613) | **The Panchromatic Hubble Andromeda Treasury XX: The Disk of M31 is Thick**  |\n",
       "|| J. J. Dalcanton, et al. -- incl., <mark>M. Fouesneau</mark> |\n",
       "|*Appeared on*| *2023-04-19*|\n",
       "|*Comments*| *22 pages. Accepted to the Astrophysical Journal*|\n",
       "|**Abstract**| We present a new approach to measuring the thickness of a partially face-on stellar disk, using dust geometry. In a moderately-inclined disk galaxy, the fraction of reddened stars is expected to be 50% everywhere, assuming that dust lies in a thin midplane. In a thickened disk, however, a wide range of radii project onto the line of sight. Assuming stellar density declines with radius, this geometrical projection leads to differences in the numbers of stars on the near and far sides of the thin dust layer. The fraction of reddened stars will thus differ from the 50% prediction, with a deviation that becomes larger for puffier disks. We map the fraction of reddened red giant branch (RGB) stars across M31, which shows prominent dust lanes on only one side of the major axis. The fraction of reddened stars varies systematically from 20% to 80%, which requires that these stars have an exponential scale height h_z that is 0.14+/-0.015 times the exponential scale length (h_r~5.5kpc). M31's RGB stars must therefore have h_z=770+/-80pc, which is far thicker than the Milky Way's thin disk, but comparable to its thick disk. The lack of a significant thin disk in M31 is unexpected, but consistent with its interaction history and high disk velocity dispersion. We suggest that asymmetric reddening be used as a generic criteria for identifying ``thick disk'' dominated systems, and discuss prospects for future 3-dimensional tomographic mapping of the gas and stars in M31. |"
      ],
      "text/plain": [
       "[arXiv:2304.08613] The Panchromatic Hubble Andromeda Treasury XX: The Disk of M31 is Thick\n",
       "\tJ. J. Dalcanton, et al. -- incl., <mark>M. Fouesneau</mark>"
      ]
     },
     "metadata": {},
     "output_type": "display_data"
    },
    {
     "data": {
      "text/markdown": [
       "## Failed papers"
      ],
      "text/plain": [
       "<IPython.core.display.Markdown object>"
      ]
     },
     "metadata": {},
     "output_type": "display_data"
    }
   ],
   "source": [
    "import datetime\n",
    "today = str(datetime.date.today())\n",
    "logfile = f\"_build/html/logs/log-{today}.md\"\n",
    "\n",
    "\n",
    "with open(logfile, 'w') as logs:\n",
    "    # Success\n",
    "    logs.write(f'# Arxiv on Deck 2: Logs - {today}\\n\\n')\n",
    "    logs.write(\"\"\"* Arxiv had {0:,d} new papers\\n\"\"\".format(len(new_papers)))\n",
    "    logs.write(\"\"\"    * {0:,d} with possible author matches\\n\\n\"\"\".format(len(candidates)))\n",
    "    logs.write(\"## Sucessful papers\\n\\n\")\n",
    "    display(Markdown(\"## Successful papers\"))\n",
    "    success = [k[0] for k in documents]\n",
    "    for candid in candidates:\n",
    "        if candid['identifier'].split(':')[-1] in success:\n",
    "            display(candid)\n",
    "            logs.write(candid.generate_markdown_text() + '\\n\\n')\n",
    "\n",
    "    ## failed\n",
    "    logs.write(\"## Failed papers\\n\\n\")\n",
    "    display(Markdown(\"## Failed papers\"))\n",
    "    failed = sorted(failed, key=lambda x: x[1])\n",
    "    current_reason = \"\"\n",
    "    for paper, reason in failed:\n",
    "        if 'affiliation' in reason:\n",
    "            color = 'green'\n",
    "        else:\n",
    "            color = 'red'\n",
    "        data = Markdown(\n",
    "                paper.generate_markdown_text() + \n",
    "                f'\\n|<p style=\"color:{color:s}\"> **ERROR** </p>| <p style=\"color:{color:s}\">{reason:s}</p> |'\n",
    "               )\n",
    "        if reason != current_reason:\n",
    "            logs.write(f'### {reason:s} \\n\\n')\n",
    "            current_reason = reason\n",
    "        logs.write(data.data + '\\n\\n')\n",
    "        \n",
    "        # only display here the important errors (all in logs)\n",
    "        # if color in ('red',):\n",
    "        display(data)"
   ]
  },
  {
   "cell_type": "markdown",
   "id": "472d20ee",
   "metadata": {
    "papermill": {
     "duration": 0.005886,
     "end_time": "2023-04-19T04:08:34.473739",
     "exception": false,
     "start_time": "2023-04-19T04:08:34.467853",
     "status": "completed"
    },
    "tags": []
   },
   "source": [
    "## Export documents\n",
    "\n",
    "We now write the .md files and export relevant images"
   ]
  },
  {
   "cell_type": "code",
   "execution_count": 6,
   "id": "d426aed9",
   "metadata": {
    "execution": {
     "iopub.execute_input": "2023-04-19T04:08:34.488510Z",
     "iopub.status.busy": "2023-04-19T04:08:34.487595Z",
     "iopub.status.idle": "2023-04-19T04:08:34.498466Z",
     "shell.execute_reply": "2023-04-19T04:08:34.497564Z"
    },
    "papermill": {
     "duration": 0.020987,
     "end_time": "2023-04-19T04:08:34.500751",
     "exception": false,
     "start_time": "2023-04-19T04:08:34.479764",
     "status": "completed"
    },
    "tags": []
   },
   "outputs": [],
   "source": [
    "def export_markdown_summary(md: str, md_fname:str, directory: str):\n",
    "    \"\"\"Export MD document and associated relevant images\"\"\"\n",
    "    import os\n",
    "    import shutil\n",
    "    import re\n",
    "\n",
    "    if (os.path.exists(directory) and not os.path.isdir(directory)):\n",
    "        raise RuntimeError(f\"a non-directory file exists with name {directory:s}\")\n",
    "\n",
    "    if (not os.path.exists(directory)):\n",
    "        print(f\"creating directory {directory:s}\")\n",
    "        os.mkdir(directory)\n",
    "\n",
    "    fig_fnames = (re.compile(r'\\[Fig.*\\]\\((.*)\\)').findall(md) + \n",
    "                  re.compile(r'\\<img src=\"([^>\\s]*)\"[^>]*/>').findall(md))\n",
    "    for fname in fig_fnames:\n",
    "        if 'http' in fname:\n",
    "            # No need to copy online figures\n",
    "            continue\n",
    "        destdir = os.path.join(directory, os.path.dirname(fname))\n",
    "        destfname = os.path.join(destdir, os.path.basename(fname))\n",
    "        try:\n",
    "            os.makedirs(destdir)\n",
    "        except FileExistsError:\n",
    "            pass\n",
    "        shutil.copy(fname, destfname)\n",
    "    with open(os.path.join(directory, md_fname), 'w') as fout:\n",
    "        fout.write(md)\n",
    "    print(\"exported in \", os.path.join(directory, md_fname))\n",
    "    [print(\"    + \" + os.path.join(directory,fk)) for fk in fig_fnames]"
   ]
  },
  {
   "cell_type": "code",
   "execution_count": 7,
   "id": "014d04a4",
   "metadata": {
    "execution": {
     "iopub.execute_input": "2023-04-19T04:08:34.514467Z",
     "iopub.status.busy": "2023-04-19T04:08:34.513979Z",
     "iopub.status.idle": "2023-04-19T04:08:34.525824Z",
     "shell.execute_reply": "2023-04-19T04:08:34.524866Z"
    },
    "papermill": {
     "duration": 0.0215,
     "end_time": "2023-04-19T04:08:34.528073",
     "exception": false,
     "start_time": "2023-04-19T04:08:34.506573",
     "status": "completed"
    },
    "tags": []
   },
   "outputs": [
    {
     "name": "stdout",
     "output_type": "stream",
     "text": [
      "exported in  _build/html/2304.08511.md\n",
      "    + _build/html/tmp_2304.08511/./line_ratios_four.png\n",
      "    + _build/html/tmp_2304.08511/./noise_comparison.png\n",
      "exported in  _build/html/2304.08613.md\n",
      "    + _build/html/tmp_2304.08613/./f_fredgrid.png\n",
      "    + _build/html/tmp_2304.08613/./f_good_fred_map.png\n",
      "    + _build/html/tmp_2304.08613/./f_bovy_hz.png\n",
      "    + _build/html/tmp_2304.08613/./f_bovy_hzhr.png\n"
     ]
    }
   ],
   "source": [
    "for paper_id, md in documents:\n",
    "    export_markdown_summary(md, f\"{paper_id:s}.md\", '_build/html/')"
   ]
  },
  {
   "cell_type": "markdown",
   "id": "f087a0a7",
   "metadata": {
    "papermill": {
     "duration": 0.006005,
     "end_time": "2023-04-19T04:08:34.540470",
     "exception": false,
     "start_time": "2023-04-19T04:08:34.534465",
     "status": "completed"
    },
    "tags": []
   },
   "source": [
    "## Display the papers\n",
    "\n",
    "Not necessary but allows for a quick check."
   ]
  },
  {
   "cell_type": "code",
   "execution_count": 8,
   "id": "fd25f625",
   "metadata": {
    "execution": {
     "iopub.execute_input": "2023-04-19T04:08:34.554404Z",
     "iopub.status.busy": "2023-04-19T04:08:34.553893Z",
     "iopub.status.idle": "2023-04-19T04:08:34.563000Z",
     "shell.execute_reply": "2023-04-19T04:08:34.562026Z"
    },
    "papermill": {
     "duration": 0.018642,
     "end_time": "2023-04-19T04:08:34.565285",
     "exception": false,
     "start_time": "2023-04-19T04:08:34.546643",
     "status": "completed"
    },
    "scrolled": false,
    "tags": []
   },
   "outputs": [
    {
     "data": {
      "text/markdown": [
       "<div class=\"macros\" style=\"visibility:hidden;\">\n",
       "$\\newcommand{\\ensuremath}{}$\n",
       "$\\newcommand{\\xspace}{}$\n",
       "$\\newcommand{\\object}[1]{\\texttt{#1}}$\n",
       "$\\newcommand{\\farcs}{{.}''}$\n",
       "$\\newcommand{\\farcm}{{.}'}$\n",
       "$\\newcommand{\\arcsec}{''}$\n",
       "$\\newcommand{\\arcmin}{'}$\n",
       "$\\newcommand{\\ion}[2]{#1#2}$\n",
       "$\\newcommand{\\textsc}[1]{\\textrm{#1}}$\n",
       "$\\newcommand{\\hl}[1]{\\textrm{#1}}$\n",
       "$\\newcommand{\\footnote}[1]{}$\n",
       "$\\newcommand{\\vdag}{(v)^\\dagger}$\n",
       "$\\newcommand$\n",
       "$\\newcommand$\n",
       "$\\newcommand{\\minus}{\\scalebox{0.5}[1.0]{-}}$\n",
       "$\\newcommand{\\kms}{\\>{\\rm km}~ {\\rm s}^{-1}}$\n",
       "$\\newcommand{\\reff}{r_{\\rm{eff}}}$\n",
       "$\\newcommand{\\msol}{M_{\\odot}}$\n",
       "$\\newcommand{\\zsol}{Z_{\\odot}}$\n",
       "$\\newcommand{\\inverse}[1]{{#1}^{-1}}$\n",
       "$\\newcommand{\\invvar}{\\inverse{C}}$\n",
       "$\\newcommand{\\dd}{{\\rm d}}$\n",
       "$\\newcommand{\\cgs}{erg s^{-1} cm^{-2}}$\n",
       "$\\newcommand{\\pf}{\\texttt{pyPlatefit}}$\n",
       "$\\newcommand{\\magphys}{\\texttt{MAGPHYS} }$\n",
       "$\\newcommand{\\lya}{Lyman-\\alpha }$\n",
       "$\\newcommand{\\lyans}{Lyman-\\alpha}$\n",
       "$\\newcommand{\\oi}{[O I]}$\n",
       "$\\newcommand{\\sii}{[S II]}$\n",
       "$\\newcommand{\\nii}{[\\ion{N}{2}]}$\n",
       "$\\newcommand{\\neiii}{[\\ion{Ne}{3}]}$\n",
       "$\\newcommand{\\hb}{H\\beta}$\n",
       "$\\newcommand{\\oiii}{[\\ion{O}{3}]}$\n",
       "$\\newcommand{\\oii}{[\\ion{O}{2}]}$\n",
       "$\\newcommand{\\ewoii}{EW_{\\mathrm{[O II]}}}$\n",
       "$\\newcommand{\\ha}{H\\alpha}$\n",
       "$\\newcommand{\\df}{D_{n}4000}$\n",
       "$\\newcommand{\\hd}{H\\delta}$\n",
       "$\\newcommand{\\hda}{H\\delta_{A}}$</div>\n",
       "\n",
       "\n",
       "\n",
       "<div id=\"title\">\n",
       "\n",
       "# JWST/NIRSpec Measurements of Extremely Low Metallicities in High Equivalent Width Lyman-$\\alpha$ Emitters\n",
       "\n",
       "</div>\n",
       "<div id=\"comments\">\n",
       "\n",
       "[![arXiv](https://img.shields.io/badge/arXiv-2304.08511-b31b1b.svg)](https://arxiv.org/abs/2304.08511)<mark>Appeared on: 2023-04-19</mark> -  _13 pages, 4 appendices; submitted to AAS Journals_\n",
       "\n",
       "</div>\n",
       "<div id=\"authors\">\n",
       "\n",
       "M. V. Maseda, et al. -- incl., <mark>L. Boogaard</mark>\n",
       "\n",
       "</div>\n",
       "<div id=\"abstract\">\n",
       "\n",
       "**Abstract:** Deep VLT/MUSE optical integral field spectroscopy has recently revealed an abundant population of ultra-faint galaxies ( $M_{UV} \\approx -15$ ; 0.01 $L_{\\star}$ ) at $z=$ 2.9 $-$ 6.7 due to their strong Lyman- $\\alpha$ emission with no detectable continuum.  The implied $\\lya$ equivalent widths can be in excess of 100-200 Å, challenging existing models of normal star formation and indicating extremely young ages, small stellar masses, and a very low amount of metal enrichment. We use JWST/NIRSpec to follow-up 45 of these galaxies (11h in G235M/F170LP and 7h in G395M/F290LP), as well as 45 lower-equivalent width Lyman- $\\alpha$ emitters.  Our spectroscopy covers the range 1.7 $-$ 5.1 micron in order to target strong optical emission lines: $\\ha$ , $\\oiii$ , $\\hb$ , and $\\nii$ . Individual measurements as well as stacks reveal line ratios consistent with a metal poor nature (2 $-$ 30 \\% $Z_{\\odot}$ , depending on the calibration).  The galaxies with the highest equivalent widths of $\\lyans$ , in excess of 120 Å, have lower gas-phase metallicities than those with lower equivalent widths.  This implies a selection based on $\\lyans$ equivalent width is an efficient technique for identifying younger, less chemically enriched systems.\n",
       "\n",
       "</div>\n",
       "\n",
       "<div id=\"div_fig1\">\n",
       "\n",
       "<img src=\"tmp_2304.08511/./line_ratios_four.png\" alt=\"Fig3\" width=\"100%\"/>\n",
       "\n",
       "**Figure 3. -** (Upper left) R3 versus N2 ionization diagnostic plot for our sample of LAEs at $z\\approx4.6$.  For objects with S/N $<$ 1 in any of the individual lines, we use gray triangles to represent limits (2-$\\sigma$) on the ratio(s); objects without a S/N $>$ 1 detection in both components of R3 or N2 are omitted, although they are still included in the stacks.  The stacked values from our LAEs (large circles) lie below the sequence of $z\\approx2.3$ star-forming galaxies (SFGs) from [Strom, Steidel and Rudie (2017)](), the [Sanders, et. al (2023)](), including the $\\pm$1-$\\sigma$ spread (thin lines).  The shaded regions show the stacked R3 ranges, including those from [Sanders, et. al (2023)](). Our LAEs have lower R3 values than the \"typical\" SFGs from [Sanders, et. al (2023)](), indicating lower metallicities (vertical dashed lines). (*fig:lya-r3*)\n",
       "\n",
       "</div>\n",
       "<div id=\"div_fig3\">\n",
       "\n",
       "<img src=\"tmp_2304.08511/./noise_comparison.png\" alt=\"Fig5\" width=\"100%\"/>\n",
       "\n",
       "**Figure 5. -** Comparison of the background-subtracted signal-to-noise values for (left) all pixels in the level 1 processed \"rate\" files, (center) pixels illuminated by open MSA shutters in the level 2 \"cal\" files, and (right) pixels in the \\texttt{Pypeit}-calibrated 2D frames, including the extra factors of 1.85 and 1.62 in the noise estimates as described in the text.  Each of the two detectors are plotted separately.  The discrepancy in the distributions of the levels 1 and 2 products compared to Gaussian statistics (dashed line) motivate the extra noise factors used in \\texttt{Pypeit}. (*fig:noise*)\n",
       "\n",
       "</div><div id=\"qrcode\"><img src=https://api.qrserver.com/v1/create-qr-code/?size=100x100&data=\"https://arxiv.org/abs/2304.08511\"></div>"
      ],
      "text/plain": [
       "<IPython.core.display.Markdown object>"
      ]
     },
     "metadata": {},
     "output_type": "display_data"
    },
    {
     "data": {
      "text/markdown": [
       "<div class=\"macros\" style=\"visibility:hidden;\">\n",
       "$\\newcommand{\\ensuremath}{}$\n",
       "$\\newcommand{\\xspace}{}$\n",
       "$\\newcommand{\\object}[1]{\\texttt{#1}}$\n",
       "$\\newcommand{\\farcs}{{.}''}$\n",
       "$\\newcommand{\\farcm}{{.}'}$\n",
       "$\\newcommand{\\arcsec}{''}$\n",
       "$\\newcommand{\\arcmin}{'}$\n",
       "$\\newcommand{\\ion}[2]{#1#2}$\n",
       "$\\newcommand{\\textsc}[1]{\\textrm{#1}}$\n",
       "$\\newcommand{\\hl}[1]{\\textrm{#1}}$\n",
       "$\\newcommand{\\footnote}[1]{}$\n",
       "$\\newcommand{\\vdag}{(v)^\\dagger}$\n",
       "$\\newcommand$\n",
       "$\\newcommand$\n",
       "$\\newcommand$\n",
       "$\\newcommand$\n",
       "$\\newcommand$\n",
       "$\\newcommand$\n",
       "$\\newcommand$\n",
       "$\\newcommand$\n",
       "$\\newcommand$\n",
       "$\\newcommand$\n",
       "$\\newcommand$\n",
       "$\\newcommand$\n",
       "$\\newcommand$\n",
       "$\\newcommand$\n",
       "$\\newcommand$\n",
       "$\\newcommand$\n",
       "$\\newcommand$\n",
       "$\\newcommand$\n",
       "$\\newcommand$\n",
       "$\\newcommand$\n",
       "$\\newcommand$\n",
       "$\\newcommand$\n",
       "$\\newcommand$\n",
       "$\\newcommand$\n",
       "$\\newcommand$\n",
       "$\\newcommand$\n",
       "$\\newcommand$\n",
       "$\\newcommand$\n",
       "$\\newcommand$\n",
       "$\\newcommand$\n",
       "$\\newcommand$\n",
       "$\\newcommand$\n",
       "$\\newcommand$</div>\n",
       "\n",
       "\n",
       "\n",
       "<div id=\"title\">\n",
       "\n",
       "# The Panchromatic Hubble Andromeda Treasury XX: The Disk of M31 is Thick\n",
       "\n",
       "</div>\n",
       "<div id=\"comments\">\n",
       "\n",
       "[![arXiv](https://img.shields.io/badge/arXiv-2304.08613-b31b1b.svg)](https://arxiv.org/abs/2304.08613)<mark>Appeared on: 2023-04-19</mark> -  _22 pages. Accepted to the Astrophysical Journal_\n",
       "\n",
       "</div>\n",
       "<div id=\"authors\">\n",
       "\n",
       "J. J. Dalcanton, et al. -- incl., <mark>M. Fouesneau</mark>\n",
       "\n",
       "</div>\n",
       "<div id=\"abstract\">\n",
       "\n",
       "**Abstract:** We present a new approach to measuring the thickness of a partially face-on stellar disk, using dust geometry. In a moderately-inclined disk galaxy, the fraction of reddened stars is expected to be 50 \\% everywhere, assuming that dust lies in a thin midplane.  In a thickened disk, however, a wide range of radii project onto the line of sight. Assuming stellar density declines with radius, this geometrical projection leads to differences in the numbers of stars on the near and far sides of the thin dust layer. The fraction of reddened stars will thus differ from the 50 \\% prediction, with a deviation that becomes larger for puffier disks.  We map the fraction of reddened red giant branch (RGB) stars across M31, which shows prominent dust lanes on only one side of the major axis. The fraction of reddened stars varies systematically from 20 \\% to 80 \\% , which requires that these stars have an exponential scale height $h_z$ that is $0.14\\pm0.015$ times the exponential scale length ( $h_r\\approx5.5\\kpc$ ). M31's RGB stars must therefore have $h_z=770\\pm80\\pc$ , which is far thicker than the Milky Way's thin disk, but comparable to its thick disk. The lack of a significant thin disk in M31 is unexpected, but consistent with its interaction history and high disk velocity dispersion. We suggest that asymmetric reddening be used as a generic criteria for identifying \"thick disk\" dominated systems, and discuss prospects for future 3-dimensional tomographic mapping of the gas and stars in M31.\n",
       "\n",
       "</div>\n",
       "\n",
       "<div id=\"div_fig1\">\n",
       "\n",
       "<img src=\"tmp_2304.08613/./f_fredgrid.png\" alt=\"Fig7\" width=\"100%\"/>\n",
       "\n",
       "**Figure 7. -** Maps of the apparent fraction of reddened stars for models of\n",
       "  inclined, thickened disks where the dust is assumed to be confined\n",
       "  to the midplane with negligible thickness compared to the stars\n",
       "  (i.e., $h_z >> h_{dust}$). The apparent inclinations of the model\n",
       "  disks increases from left to right ($i=15◦ee$, $30◦ee$,\n",
       "  $45◦ee$, $60◦ee$, \\&$75◦ee$), and the disk thickness\n",
       "  increases from bottom to top ($h_z/h_r=0.05$, 0.1, 0.15, \\& 0.2). As\n",
       "  expected, the fraction of reddened stars is always 50\\% along the\n",
       "  major axis, but deviates strongly perpendicularly, with the largest\n",
       "  deviations seen for higher inclinations and intrinsically thicker\n",
       "  disks.  Contours indicate deviations of $\\pm5$\\%, $\\pm10$\\%,\n",
       "  $\\pm20$\\%, \\&$\\pm30$\\% relative to 50\\%, with thicker contours\n",
       "  indicating larger deviations.\n",
       " (*fredgridfig*)\n",
       "\n",
       "</div>\n",
       "<div id=\"div_fig2\">\n",
       "\n",
       "<img src=\"tmp_2304.08613/./f_good_fred_map.png\" alt=\"Fig10\" width=\"100%\"/>\n",
       "\n",
       "**Figure 10. -** Map of the fraction of reddened stars $f_{red}$, restricted\n",
       "  to high extinction ($A_V>1.25\\mags$) regions with well-measured\n",
       "  values of $f_{red}$($\\Delta f_{red} < 0.06$). There is a clear\n",
       "  gradient in the fraction of reddened stars from the far side to the\n",
       "  near side of the disk (i.e., left to right).  The majority of the\n",
       "  PHAT survey area, which was initially targeted to avoid M31's dust\n",
       "  lanes, has fewer than $\\sim$25\\% of its old stellar population\n",
       "  behind the dusty ISM.  The center of M31 is in the lower right, at RA$\\approx$10.68 and Dec$\\approx$41.27.\n",
       " (*fredmapfig*)\n",
       "\n",
       "</div>\n",
       "<div id=\"div_fig3\">\n",
       "\n",
       "<img src=\"tmp_2304.08613/./f_bovy_hz.png\" alt=\"Fig11.1\" width=\"50%\"/><img src=\"tmp_2304.08613/./f_bovy_hzhr.png\" alt=\"Fig11.2\" width=\"50%\"/>\n",
       "\n",
       "**Figure 11. -** Comparison between the structure of M31's RGB disk and the\n",
       "  structure of the Milky Way's monoabundance populations from\n",
       "  \\citet{bovy2012}.  (Left) Monoabundance populations in [Fe/H] vs\n",
       "        [$\\alpha$/Fe], color-coded by their vertical scale height at\n",
       "        the solar circle.  Populations whose scale height falls in the\n",
       "        range allowed by the data in M31 are outlined in black.  Only\n",
       "        low metallicity, $\\alpha$-enhanced Milky Way populations have\n",
       "        scale heights comparable to those we see in M31.  (Right) The\n",
       "        axial ratio of the monoabundance subpopulations as a function\n",
       "        of [Fe/H] calculated as a mass-weighted average of $h_z/h_r$\n",
       "        over [$\\alpha$/Fe] at fixed [Fe/H]. Points are color-coded by\n",
       "        the fraction of the integrated local stellar density found in\n",
       "        populations with metallicities equal to or lower than [Fe/H].\n",
       "        The horizontal bar show the likely range of $h_z/h_r$ for\n",
       "        M31's stellar disk.  Only low metallicity populations\n",
       "        ([Fe/H]$\\lesssim-0.5$) that make up $\\sim$30\\% of the Milky\n",
       "        Way disk are as puffy as the M31 disk.\n",
       " (*bovyfig*)\n",
       "\n",
       "</div><div id=\"qrcode\"><img src=https://api.qrserver.com/v1/create-qr-code/?size=100x100&data=\"https://arxiv.org/abs/2304.08613\"></div>"
      ],
      "text/plain": [
       "<IPython.core.display.Markdown object>"
      ]
     },
     "metadata": {},
     "output_type": "display_data"
    }
   ],
   "source": [
    "[display(Markdown(k[1])) for k in documents];"
   ]
  },
  {
   "cell_type": "markdown",
   "id": "873873a4",
   "metadata": {
    "papermill": {
     "duration": 0.006707,
     "end_time": "2023-04-19T04:08:34.578782",
     "exception": false,
     "start_time": "2023-04-19T04:08:34.572075",
     "status": "completed"
    },
    "tags": []
   },
   "source": [
    "# Create HTML index"
   ]
  },
  {
   "cell_type": "code",
   "execution_count": 9,
   "id": "cf665672",
   "metadata": {
    "execution": {
     "iopub.execute_input": "2023-04-19T04:08:34.593696Z",
     "iopub.status.busy": "2023-04-19T04:08:34.593176Z",
     "iopub.status.idle": "2023-04-19T04:08:34.604443Z",
     "shell.execute_reply": "2023-04-19T04:08:34.603264Z"
    },
    "papermill": {
     "duration": 0.021732,
     "end_time": "2023-04-19T04:08:34.606944",
     "exception": false,
     "start_time": "2023-04-19T04:08:34.585212",
     "status": "completed"
    },
    "tags": []
   },
   "outputs": [
    {
     "name": "stdout",
     "output_type": "stream",
     "text": [
      "192  publications files modified in the last 7 days.\n"
     ]
    }
   ],
   "source": [
    "from datetime import datetime, timedelta, timezone\n",
    "from glob import glob\n",
    "import os\n",
    "\n",
    "files = glob('_build/html/*.md')\n",
    "days = 7\n",
    "now = datetime.today()\n",
    "res = []\n",
    "for fk in files:\n",
    "    stat_result = os.stat(fk).st_ctime\n",
    "    modified = datetime.fromtimestamp(stat_result, tz=timezone.utc).replace(tzinfo=None)\n",
    "    delta = now.today() - modified\n",
    "    if delta <= timedelta(days=days):\n",
    "        res.append((delta.seconds, fk))\n",
    "res = [k[1] for k in reversed(sorted(res, key=lambda x:x[1]))]\n",
    "npub = len(res)\n",
    "print(len(res), f\" publications files modified in the last {days:d} days.\")\n",
    "# [ print('\\t', k) for k in res ];"
   ]
  },
  {
   "cell_type": "code",
   "execution_count": 10,
   "id": "015de740",
   "metadata": {
    "execution": {
     "iopub.execute_input": "2023-04-19T04:08:34.623689Z",
     "iopub.status.busy": "2023-04-19T04:08:34.622983Z",
     "iopub.status.idle": "2023-04-19T04:08:34.647702Z",
     "shell.execute_reply": "2023-04-19T04:08:34.646824Z"
    },
    "papermill": {
     "duration": 0.036586,
     "end_time": "2023-04-19T04:08:34.649777",
     "exception": false,
     "start_time": "2023-04-19T04:08:34.613191",
     "status": "completed"
    },
    "tags": []
   },
   "outputs": [
    {
     "name": "stdout",
     "output_type": "stream",
     "text": [
      "6  publications in the last 7 days.\n"
     ]
    }
   ],
   "source": [
    "import datetime\n",
    "from glob import glob\n",
    "\n",
    "def get_last_n_days(lst, days=1):\n",
    "    \"\"\" Get the documents from the last n days \"\"\"\n",
    "    sorted_lst = sorted(lst, key=lambda x: x[1], reverse=True)\n",
    "    for fname, date in sorted_lst:\n",
    "        if date >= str(datetime.date.today() - datetime.timedelta(days=days)):\n",
    "            yield fname\n",
    "\n",
    "def extract_appearance_dates(lst_file):\n",
    "    dates = []\n",
    "\n",
    "    def get_date(line):\n",
    "        return line\\\n",
    "            .split('Appeared on:')[-1]\\\n",
    "            .split('</mark>')[0].strip()\n",
    "\n",
    "    for fname in lst:\n",
    "        with open(fname, 'r') as f:\n",
    "            found_date = False\n",
    "            for line in f:\n",
    "                if not found_date:\n",
    "                    if \"Appeared on\" in line:\n",
    "                        found_date = True\n",
    "                        dates.append((fname, get_date(line)))\n",
    "                else:\n",
    "                    break\n",
    "    return dates\n",
    "\n",
    "from glob import glob\n",
    "lst = glob('_build/html/*md')\n",
    "days = 7\n",
    "dates = extract_appearance_dates(lst)\n",
    "res = list(get_last_n_days(dates, days))\n",
    "npub = len(res)\n",
    "print(len(res), f\" publications in the last {days:d} days.\")"
   ]
  },
  {
   "cell_type": "code",
   "execution_count": 11,
   "id": "52ca0208",
   "metadata": {
    "execution": {
     "iopub.execute_input": "2023-04-19T04:08:34.666500Z",
     "iopub.status.busy": "2023-04-19T04:08:34.665493Z",
     "iopub.status.idle": "2023-04-19T04:08:34.673514Z",
     "shell.execute_reply": "2023-04-19T04:08:34.672531Z"
    },
    "papermill": {
     "duration": 0.018716,
     "end_time": "2023-04-19T04:08:34.675490",
     "exception": false,
     "start_time": "2023-04-19T04:08:34.656774",
     "status": "completed"
    },
    "scrolled": false,
    "tags": []
   },
   "outputs": [],
   "source": [
    "def create_carousel(npub=4):\n",
    "    \"\"\" Generate the HTML code for a carousel with `npub` slides \"\"\"\n",
    "    carousel = [\"\"\"  <div class=\"carousel\" \"\"\",\n",
    "                \"\"\"       data-flickity='{ \"autoPlay\": 10000, \"adaptiveHeight\": true, \"resize\": true, \"wrapAround\": true, \"pauseAutoPlayOnHover\": true, \"groupCells\": 1 }' id=\"asyncTypeset\">\"\"\"\n",
    "                ]\n",
    "    \n",
    "    item_str = \"\"\"    <div class=\"carousel-cell\"> <div id=\"slide{k}\" class=\"md_view\">Content {k}</div> </div>\"\"\"\n",
    "    for k in range(1, npub + 1):\n",
    "        carousel.append(item_str.format(k=k))\n",
    "    carousel.append(\"  </div>\")\n",
    "    return '\\n'.join(carousel)\n",
    "\n",
    "def create_grid(npub=4):\n",
    "    \"\"\" Generate the HTML code for a flat grid with `npub` slides \"\"\"\n",
    "    grid = [\"\"\"  <div class=\"grid\"> \"\"\",\n",
    "                ]\n",
    "    \n",
    "    item_str = \"\"\"    <div class=\"grid-item\"> <div id=\"slide{k}\" class=\"md_view\">Content {k}</div> </div>\"\"\"\n",
    "    for k in range(1, npub + 1):\n",
    "        grid.append(item_str.format(k=k))\n",
    "    grid.append(\"  </div>\")\n",
    "    return '\\n'.join(grid)"
   ]
  },
  {
   "cell_type": "code",
   "execution_count": 12,
   "id": "a6eac5b6",
   "metadata": {
    "execution": {
     "iopub.execute_input": "2023-04-19T04:08:34.690846Z",
     "iopub.status.busy": "2023-04-19T04:08:34.690114Z",
     "iopub.status.idle": "2023-04-19T04:08:34.698281Z",
     "shell.execute_reply": "2023-04-19T04:08:34.696977Z"
    },
    "papermill": {
     "duration": 0.020289,
     "end_time": "2023-04-19T04:08:34.702398",
     "exception": false,
     "start_time": "2023-04-19T04:08:34.682109",
     "status": "completed"
    },
    "scrolled": false,
    "tags": []
   },
   "outputs": [],
   "source": [
    "carousel = create_carousel(npub)\n",
    "docs = ', '.join(['\"{0:s}\"'.format(k.split('/')[-1]) for k in res])\n",
    "slides = ', '.join([f'\"slide{k}\"' for k in range(1, npub + 1)])\n",
    "\n",
    "with open(\"daily_template.html\", \"r\") as tpl:\n",
    "    page = tpl.read()\n",
    "    page = page.replace(\"{%-- carousel:s --%}\", carousel)\\\n",
    "               .replace(\"{%-- suptitle:s --%}\",  \"7-day archives\" )\\\n",
    "               .replace(\"{%-- docs:s --%}\", docs)\\\n",
    "               .replace(\"{%-- slides:s --%}\", slides)\n",
    "    \n",
    "with open(\"_build/html/index_7days.html\", 'w') as fout:\n",
    "    fout.write(page)"
   ]
  },
  {
   "cell_type": "code",
   "execution_count": 13,
   "id": "adc1a1ec",
   "metadata": {
    "execution": {
     "iopub.execute_input": "2023-04-19T04:08:34.721502Z",
     "iopub.status.busy": "2023-04-19T04:08:34.721074Z",
     "iopub.status.idle": "2023-04-19T04:08:34.732121Z",
     "shell.execute_reply": "2023-04-19T04:08:34.731090Z"
    },
    "papermill": {
     "duration": 0.023582,
     "end_time": "2023-04-19T04:08:34.734122",
     "exception": false,
     "start_time": "2023-04-19T04:08:34.710540",
     "status": "completed"
    },
    "tags": []
   },
   "outputs": [
    {
     "name": "stdout",
     "output_type": "stream",
     "text": [
      "3  publications in the last day.\n"
     ]
    }
   ],
   "source": [
    "# redo for today\n",
    "days = 1\n",
    "res = list(get_last_n_days(dates, days))\n",
    "npub = len(res)\n",
    "print(len(res), f\" publications in the last day.\")\n",
    "\n",
    "carousel = create_carousel(npub)\n",
    "docs = ', '.join(['\"{0:s}\"'.format(k.split('/')[-1]) for k in res])\n",
    "slides = ', '.join([f'\"slide{k}\"' for k in range(1, npub + 1)])\n",
    "\n",
    "with open(\"daily_template.html\", \"r\") as tpl:\n",
    "    page = tpl.read()\n",
    "    page = page.replace(\"{%-- carousel:s --%}\", carousel)\\\n",
    "               .replace(\"{%-- suptitle:s --%}\",  \"Daily\" )\\\n",
    "               .replace(\"{%-- docs:s --%}\", docs)\\\n",
    "               .replace(\"{%-- slides:s --%}\", slides)\n",
    "    \n",
    "# print(carousel, docs, slides)\n",
    "# print(page)\n",
    "with open(\"_build/html/index_daily.html\", 'w') as fout:\n",
    "    fout.write(page)"
   ]
  },
  {
   "cell_type": "code",
   "execution_count": 14,
   "id": "00eece82",
   "metadata": {
    "execution": {
     "iopub.execute_input": "2023-04-19T04:08:34.750772Z",
     "iopub.status.busy": "2023-04-19T04:08:34.750438Z",
     "iopub.status.idle": "2023-04-19T04:08:34.760734Z",
     "shell.execute_reply": "2023-04-19T04:08:34.759593Z"
    },
    "papermill": {
     "duration": 0.021681,
     "end_time": "2023-04-19T04:08:34.763094",
     "exception": false,
     "start_time": "2023-04-19T04:08:34.741413",
     "status": "completed"
    },
    "scrolled": false,
    "tags": []
   },
   "outputs": [
    {
     "name": "stdout",
     "output_type": "stream",
     "text": [
      "6  6 publications selected.\n"
     ]
    }
   ],
   "source": [
    "# Create the flat grid of the last N papers (fixed number regardless of dates)\n",
    "from itertools import islice \n",
    "\n",
    "npub = 6\n",
    "res = [k[0] for k in (islice(reversed(sorted(dates, key=lambda x: x[1])), 6))]\n",
    "print(len(res), f\" {npub} publications selected.\")\n",
    "\n",
    "grid = create_grid(npub)\n",
    "docs = ', '.join(['\"{0:s}\"'.format(k.split('/')[-1]) for k in res])\n",
    "slides = ', '.join([f'\"slide{k}\"' for k in range(1, npub + 1)])\n",
    "\n",
    "with open(\"grid_template.html\", \"r\") as tpl:\n",
    "    page = tpl.read()\n",
    "    page = page.replace(\"{%-- grid-content:s --%}\", grid)\\\n",
    "               .replace(\"{%-- suptitle:s --%}\",  f\"Last {npub:,d} papers\" )\\\n",
    "               .replace(\"{%-- docs:s --%}\", docs)\\\n",
    "               .replace(\"{%-- slides:s --%}\", slides)\n",
    "    \n",
    "# print(grid, docs, slides)\n",
    "# print(page)\n",
    "with open(\"_build/html/index_npub_grid.html\", 'w') as fout:\n",
    "    fout.write(page)"
   ]
  }
 ],
 "metadata": {
  "kernelspec": {
   "display_name": "Python 3 (ipykernel)",
   "language": "python",
   "name": "python3"
  },
  "language_info": {
   "codemirror_mode": {
    "name": "ipython",
    "version": 3
   },
   "file_extension": ".py",
   "mimetype": "text/x-python",
   "name": "python",
   "nbconvert_exporter": "python",
   "pygments_lexer": "ipython3",
   "version": "3.9.16"
  },
  "papermill": {
   "default_parameters": {},
   "duration": 118.055432,
   "end_time": "2023-04-19T04:08:35.091769",
   "environment_variables": {},
   "exception": null,
   "input_path": "MPIA daily digest.ipynb",
   "output_path": "log.ipynb",
   "parameters": {},
   "start_time": "2023-04-19T04:06:37.036337",
   "version": "2.4.0"
  },
  "vscode": {
   "interpreter": {
    "hash": "aee8b7b246df8f9039afb4144a1f6fd8d2ca17a180786b69acc140d282b71a49"
   }
  },
  "widgets": {
   "application/vnd.jupyter.widget-state+json": {
    "state": {
     "16918eb934244aea9fb08d11b90132cb": {
      "model_module": "@jupyter-widgets/controls",
      "model_module_version": "2.0.0",
      "model_name": "HTMLStyleModel",
      "state": {
       "_model_module": "@jupyter-widgets/controls",
       "_model_module_version": "2.0.0",
       "_model_name": "HTMLStyleModel",
       "_view_count": null,
       "_view_module": "@jupyter-widgets/base",
       "_view_module_version": "2.0.0",
       "_view_name": "StyleView",
       "background": null,
       "description_width": "",
       "font_size": null,
       "text_color": null
      }
     },
     "17759790a7ff4116b9ec6300be4b32b9": {
      "model_module": "@jupyter-widgets/controls",
      "model_module_version": "2.0.0",
      "model_name": "HTMLModel",
      "state": {
       "_dom_classes": [],
       "_model_module": "@jupyter-widgets/controls",
       "_model_module_version": "2.0.0",
       "_model_name": "HTMLModel",
       "_view_count": null,
       "_view_module": "@jupyter-widgets/controls",
       "_view_module_version": "2.0.0",
       "_view_name": "HTMLView",
       "description": "",
       "description_allow_html": false,
       "layout": "IPY_MODEL_a5a63b1b464c4285930e0b489ffe369e",
       "placeholder": "​",
       "style": "IPY_MODEL_16918eb934244aea9fb08d11b90132cb",
       "tabbable": null,
       "tooltip": null,
       "value": " 2/2 [01:23&lt;00:00, 46.50s/it]"
      }
     },
     "2b7de57139b44d14982826a0af8bfbe0": {
      "model_module": "@jupyter-widgets/controls",
      "model_module_version": "2.0.0",
      "model_name": "HBoxModel",
      "state": {
       "_dom_classes": [],
       "_model_module": "@jupyter-widgets/controls",
       "_model_module_version": "2.0.0",
       "_model_name": "HBoxModel",
       "_view_count": null,
       "_view_module": "@jupyter-widgets/controls",
       "_view_module_version": "2.0.0",
       "_view_name": "HBoxView",
       "box_style": "",
       "children": [
        "IPY_MODEL_8ea4828da0f74eaa8e150bb7d365a305",
        "IPY_MODEL_9c9934bbd84b46f9872db1518810cd69",
        "IPY_MODEL_17759790a7ff4116b9ec6300be4b32b9"
       ],
       "layout": "IPY_MODEL_71dfa3c4e0a243ffb820799c6f961ef3",
       "tabbable": null,
       "tooltip": null
      }
     },
     "4cc5ac4fc6c448238acc69b1426d8b9d": {
      "model_module": "@jupyter-widgets/controls",
      "model_module_version": "2.0.0",
      "model_name": "HTMLStyleModel",
      "state": {
       "_model_module": "@jupyter-widgets/controls",
       "_model_module_version": "2.0.0",
       "_model_name": "HTMLStyleModel",
       "_view_count": null,
       "_view_module": "@jupyter-widgets/base",
       "_view_module_version": "2.0.0",
       "_view_name": "StyleView",
       "background": null,
       "description_width": "",
       "font_size": null,
       "text_color": null
      }
     },
     "6acf210efeca427ba482436b8d880343": {
      "model_module": "@jupyter-widgets/base",
      "model_module_version": "2.0.0",
      "model_name": "LayoutModel",
      "state": {
       "_model_module": "@jupyter-widgets/base",
       "_model_module_version": "2.0.0",
       "_model_name": "LayoutModel",
       "_view_count": null,
       "_view_module": "@jupyter-widgets/base",
       "_view_module_version": "2.0.0",
       "_view_name": "LayoutView",
       "align_content": null,
       "align_items": null,
       "align_self": null,
       "border_bottom": null,
       "border_left": null,
       "border_right": null,
       "border_top": null,
       "bottom": null,
       "display": null,
       "flex": null,
       "flex_flow": null,
       "grid_area": null,
       "grid_auto_columns": null,
       "grid_auto_flow": null,
       "grid_auto_rows": null,
       "grid_column": null,
       "grid_gap": null,
       "grid_row": null,
       "grid_template_areas": null,
       "grid_template_columns": null,
       "grid_template_rows": null,
       "height": null,
       "justify_content": null,
       "justify_items": null,
       "left": null,
       "margin": null,
       "max_height": null,
       "max_width": null,
       "min_height": null,
       "min_width": null,
       "object_fit": null,
       "object_position": null,
       "order": null,
       "overflow": null,
       "padding": null,
       "right": null,
       "top": null,
       "visibility": null,
       "width": null
      }
     },
     "71dfa3c4e0a243ffb820799c6f961ef3": {
      "model_module": "@jupyter-widgets/base",
      "model_module_version": "2.0.0",
      "model_name": "LayoutModel",
      "state": {
       "_model_module": "@jupyter-widgets/base",
       "_model_module_version": "2.0.0",
       "_model_name": "LayoutModel",
       "_view_count": null,
       "_view_module": "@jupyter-widgets/base",
       "_view_module_version": "2.0.0",
       "_view_name": "LayoutView",
       "align_content": null,
       "align_items": null,
       "align_self": null,
       "border_bottom": null,
       "border_left": null,
       "border_right": null,
       "border_top": null,
       "bottom": null,
       "display": null,
       "flex": null,
       "flex_flow": null,
       "grid_area": null,
       "grid_auto_columns": null,
       "grid_auto_flow": null,
       "grid_auto_rows": null,
       "grid_column": null,
       "grid_gap": null,
       "grid_row": null,
       "grid_template_areas": null,
       "grid_template_columns": null,
       "grid_template_rows": null,
       "height": null,
       "justify_content": null,
       "justify_items": null,
       "left": null,
       "margin": null,
       "max_height": null,
       "max_width": null,
       "min_height": null,
       "min_width": null,
       "object_fit": null,
       "object_position": null,
       "order": null,
       "overflow": null,
       "padding": null,
       "right": null,
       "top": null,
       "visibility": null,
       "width": null
      }
     },
     "8ea4828da0f74eaa8e150bb7d365a305": {
      "model_module": "@jupyter-widgets/controls",
      "model_module_version": "2.0.0",
      "model_name": "HTMLModel",
      "state": {
       "_dom_classes": [],
       "_model_module": "@jupyter-widgets/controls",
       "_model_module_version": "2.0.0",
       "_model_name": "HTMLModel",
       "_view_count": null,
       "_view_module": "@jupyter-widgets/controls",
       "_view_module_version": "2.0.0",
       "_view_name": "HTMLView",
       "description": "",
       "description_allow_html": false,
       "layout": "IPY_MODEL_6acf210efeca427ba482436b8d880343",
       "placeholder": "​",
       "style": "IPY_MODEL_4cc5ac4fc6c448238acc69b1426d8b9d",
       "tabbable": null,
       "tooltip": null,
       "value": "100%"
      }
     },
     "9c9934bbd84b46f9872db1518810cd69": {
      "model_module": "@jupyter-widgets/controls",
      "model_module_version": "2.0.0",
      "model_name": "FloatProgressModel",
      "state": {
       "_dom_classes": [],
       "_model_module": "@jupyter-widgets/controls",
       "_model_module_version": "2.0.0",
       "_model_name": "FloatProgressModel",
       "_view_count": null,
       "_view_module": "@jupyter-widgets/controls",
       "_view_module_version": "2.0.0",
       "_view_name": "ProgressView",
       "bar_style": "success",
       "description": "",
       "description_allow_html": false,
       "layout": "IPY_MODEL_f7c578f3f80b4dcc8288130e5c7b6190",
       "max": 2.0,
       "min": 0.0,
       "orientation": "horizontal",
       "style": "IPY_MODEL_de2e238500b746b1a2fbfeea5c3817ec",
       "tabbable": null,
       "tooltip": null,
       "value": 2.0
      }
     },
     "a5a63b1b464c4285930e0b489ffe369e": {
      "model_module": "@jupyter-widgets/base",
      "model_module_version": "2.0.0",
      "model_name": "LayoutModel",
      "state": {
       "_model_module": "@jupyter-widgets/base",
       "_model_module_version": "2.0.0",
       "_model_name": "LayoutModel",
       "_view_count": null,
       "_view_module": "@jupyter-widgets/base",
       "_view_module_version": "2.0.0",
       "_view_name": "LayoutView",
       "align_content": null,
       "align_items": null,
       "align_self": null,
       "border_bottom": null,
       "border_left": null,
       "border_right": null,
       "border_top": null,
       "bottom": null,
       "display": null,
       "flex": null,
       "flex_flow": null,
       "grid_area": null,
       "grid_auto_columns": null,
       "grid_auto_flow": null,
       "grid_auto_rows": null,
       "grid_column": null,
       "grid_gap": null,
       "grid_row": null,
       "grid_template_areas": null,
       "grid_template_columns": null,
       "grid_template_rows": null,
       "height": null,
       "justify_content": null,
       "justify_items": null,
       "left": null,
       "margin": null,
       "max_height": null,
       "max_width": null,
       "min_height": null,
       "min_width": null,
       "object_fit": null,
       "object_position": null,
       "order": null,
       "overflow": null,
       "padding": null,
       "right": null,
       "top": null,
       "visibility": null,
       "width": null
      }
     },
     "de2e238500b746b1a2fbfeea5c3817ec": {
      "model_module": "@jupyter-widgets/controls",
      "model_module_version": "2.0.0",
      "model_name": "ProgressStyleModel",
      "state": {
       "_model_module": "@jupyter-widgets/controls",
       "_model_module_version": "2.0.0",
       "_model_name": "ProgressStyleModel",
       "_view_count": null,
       "_view_module": "@jupyter-widgets/base",
       "_view_module_version": "2.0.0",
       "_view_name": "StyleView",
       "bar_color": null,
       "description_width": ""
      }
     },
     "f7c578f3f80b4dcc8288130e5c7b6190": {
      "model_module": "@jupyter-widgets/base",
      "model_module_version": "2.0.0",
      "model_name": "LayoutModel",
      "state": {
       "_model_module": "@jupyter-widgets/base",
       "_model_module_version": "2.0.0",
       "_model_name": "LayoutModel",
       "_view_count": null,
       "_view_module": "@jupyter-widgets/base",
       "_view_module_version": "2.0.0",
       "_view_name": "LayoutView",
       "align_content": null,
       "align_items": null,
       "align_self": null,
       "border_bottom": null,
       "border_left": null,
       "border_right": null,
       "border_top": null,
       "bottom": null,
       "display": null,
       "flex": null,
       "flex_flow": null,
       "grid_area": null,
       "grid_auto_columns": null,
       "grid_auto_flow": null,
       "grid_auto_rows": null,
       "grid_column": null,
       "grid_gap": null,
       "grid_row": null,
       "grid_template_areas": null,
       "grid_template_columns": null,
       "grid_template_rows": null,
       "height": null,
       "justify_content": null,
       "justify_items": null,
       "left": null,
       "margin": null,
       "max_height": null,
       "max_width": null,
       "min_height": null,
       "min_width": null,
       "object_fit": null,
       "object_position": null,
       "order": null,
       "overflow": null,
       "padding": null,
       "right": null,
       "top": null,
       "visibility": null,
       "width": null
      }
     }
    },
    "version_major": 2,
    "version_minor": 0
   }
  }
 },
 "nbformat": 4,
 "nbformat_minor": 5
}