{
 "cells": [
  {
   "cell_type": "markdown",
   "id": "92bcb855",
   "metadata": {
    "papermill": {
     "duration": 0.003998,
     "end_time": "2024-12-11T04:12:23.209176",
     "exception": false,
     "start_time": "2024-12-11T04:12:23.205178",
     "status": "completed"
    },
    "tags": []
   },
   "source": [
    "# MPIA Arxiv on Deck 2\n",
    "\n",
    "Contains the steps to produce the paper extractions."
   ]
  },
  {
   "cell_type": "code",
   "execution_count": 1,
   "id": "3a0d6e11",
   "metadata": {
    "execution": {
     "iopub.execute_input": "2024-12-11T04:12:23.216691Z",
     "iopub.status.busy": "2024-12-11T04:12:23.216119Z",
     "iopub.status.idle": "2024-12-11T04:12:23.549097Z",
     "shell.execute_reply": "2024-12-11T04:12:23.548314Z"
    },
    "papermill": {
     "duration": 0.338113,
     "end_time": "2024-12-11T04:12:23.550521",
     "exception": false,
     "start_time": "2024-12-11T04:12:23.212408",
     "status": "completed"
    },
    "tags": []
   },
   "outputs": [],
   "source": [
    "# Imports\n",
    "import os\n",
    "from IPython.display import Markdown, display\n",
    "from tqdm.notebook import tqdm\n",
    "import warnings\n",
    "from PIL import Image \n",
    "import re\n",
    "\n",
    "# requires arxiv_on_deck_2\n",
    "\n",
    "from arxiv_on_deck_2.arxiv2 import (get_new_papers, \n",
    "                                    get_paper_from_identifier,\n",
    "                                    retrieve_document_source, \n",
    "                                    get_markdown_badge)\n",
    "from arxiv_on_deck_2 import (latex,\n",
    "                             latex_bib,\n",
    "                             mpia,\n",
    "                             highlight_authors_in_list)\n",
    "\n",
    "# Sometimes images are really big\n",
    "Image.MAX_IMAGE_PIXELS = 1000000000 "
   ]
  },
  {
   "cell_type": "code",
   "execution_count": 2,
   "id": "22aa9d44",
   "metadata": {
    "execution": {
     "iopub.execute_input": "2024-12-11T04:12:23.558152Z",
     "iopub.status.busy": "2024-12-11T04:12:23.557698Z",
     "iopub.status.idle": "2024-12-11T04:12:23.565505Z",
     "shell.execute_reply": "2024-12-11T04:12:23.564996Z"
    },
    "papermill": {
     "duration": 0.012455,
     "end_time": "2024-12-11T04:12:23.566436",
     "exception": false,
     "start_time": "2024-12-11T04:12:23.553981",
     "status": "completed"
    },
    "tags": []
   },
   "outputs": [],
   "source": [
    "# Some useful definitions.\n",
    "\n",
    "class AffiliationWarning(UserWarning):\n",
    "    pass\n",
    "\n",
    "class AffiliationError(RuntimeError):\n",
    "    pass\n",
    "\n",
    "def validation(source: str):\n",
    "    \"\"\"Raises error paper during parsing of source file\n",
    "    \n",
    "    Allows checks before parsing TeX code.\n",
    "    \n",
    "    Raises AffiliationWarning\n",
    "    \"\"\"\n",
    "    check = mpia.affiliation_verifications(source, verbose=True)\n",
    "    if check is not True:\n",
    "        raise AffiliationError(\"mpia.affiliation_verifications: \" + check)\n",
    "\n",
    "        \n",
    "warnings.simplefilter('always', AffiliationWarning)\n",
    "\n",
    "\n",
    "def get_markdown_qrcode(paper_id: str):\n",
    "    \"\"\" Generate a qrcode to the arxiv page using qrserver.com\n",
    "    \n",
    "    :param paper: Arxiv paper\n",
    "    :returns: markdown text\n",
    "    \"\"\"\n",
    "    url = r\"https://api.qrserver.com/v1/create-qr-code/?size=100x100&data=\"\n",
    "    txt = f\"\"\"<img src={url}\"https://arxiv.org/abs/{paper_id}\">\"\"\"\n",
    "    txt = '<div id=\"qrcode\">' + txt + '</div>'\n",
    "    return txt\n",
    "\n",
    "\n",
    "def clean_non_western_encoded_characters_commands(text: str) -> str:\n",
    "    \"\"\" Remove non-western encoded characters from a string\n",
    "    List may need to grow.\n",
    "    \n",
    "    :param text: the text to clean\n",
    "    :return: the cleaned text\n",
    "    \"\"\"\n",
    "    text = re.sub(r\"(\\\\begin{CJK}{UTF8}{gbsn})(.*?)(\\\\end{CJK})\", r\"\\2\", text)\n",
    "    return text\n",
    "\n",
    "\n",
    "def get_initials(name: str) -> str:\n",
    "    \"\"\" Get the short name, e.g., A.-B. FamName\n",
    "    :param name: full name\n",
    "    :returns: initials\n",
    "    \"\"\"\n",
    "    initials = []\n",
    "    # account for non western names often in ()\n",
    "    if '(' in name:\n",
    "        name = clean_non_western_encoded_characters_commands(name)\n",
    "        suffix = re.findall(r\"\\((.*?)\\)\", name)[0]\n",
    "        name = name.replace(f\"({suffix})\", '')\n",
    "    else:\n",
    "        suffix = ''\n",
    "    split = name.split()\n",
    "    for token in split[:-1]:\n",
    "        if '-' in token:\n",
    "            current = '-'.join([k[0] + '.' for k in token.split('-')])\n",
    "        else:\n",
    "            current = token[0] + '.'\n",
    "        initials.append(current)\n",
    "    initials.append(split[-1].strip())\n",
    "    if suffix:\n",
    "        initials.append(f\"({suffix})\")\n",
    "    return ' '.join(initials)"
   ]
  },
  {
   "cell_type": "markdown",
   "id": "14bd6310",
   "metadata": {
    "papermill": {
     "duration": 0.002918,
     "end_time": "2024-12-11T04:12:23.572345",
     "exception": false,
     "start_time": "2024-12-11T04:12:23.569427",
     "status": "completed"
    },
    "tags": []
   },
   "source": [
    "## get list of arxiv paper candidates\n",
    "\n",
    "We use the MPIA mitarbeiter list webpage from mpia.de to get author names\n",
    "We then get all new papers from Arxiv and match authors"
   ]
  },
  {
   "cell_type": "code",
   "execution_count": 3,
   "id": "7ea813a8",
   "metadata": {
    "execution": {
     "iopub.execute_input": "2024-12-11T04:12:23.579153Z",
     "iopub.status.busy": "2024-12-11T04:12:23.578773Z",
     "iopub.status.idle": "2024-12-11T04:12:42.883198Z",
     "shell.execute_reply": "2024-12-11T04:12:42.882456Z"
    },
    "papermill": {
     "duration": 19.309238,
     "end_time": "2024-12-11T04:12:42.884525",
     "exception": false,
     "start_time": "2024-12-11T04:12:23.575287",
     "status": "completed"
    },
    "tags": []
   },
   "outputs": [],
   "source": [
    "# deal with the author list and edge cases of people that cannot be consistent on their name  \n",
    "\n",
    "def filter_non_scientists(name: str) -> bool:\n",
    "    \"\"\" Loose filter on expected authorships\n",
    "\n",
    "    removing IT, administration, technical staff\n",
    "    :param name: name\n",
    "    :returns: False if name is not a scientist\n",
    "    \"\"\"\n",
    "    remove_list = ['Licht', 'Binroth', 'Witzel', 'Jordan',\n",
    "                   'Zähringer', 'Scheerer', 'Hoffmann', 'Düe',\n",
    "                   'Hellmich', 'Enkler-Scharpegge', 'Witte-Nguy',\n",
    "                   'Dehen', 'Beckmann', 'Jager', 'Jäger'\n",
    "                  ]\n",
    "\n",
    "    for k in remove_list:\n",
    "        if k in name:\n",
    "            return False\n",
    "    return True\n",
    "\n",
    "def add_author_to_list(author_list: list) -> list:\n",
    "    \"\"\" Add author to list if not already in list\n",
    "    \n",
    "    :param author: author name\n",
    "    :param author_list: list of authors\n",
    "    :returns: updated list of authors\n",
    "    \"\"\"\n",
    "    add_list = ['T. Henning']\n",
    "\n",
    "    for author in add_list:\n",
    "        if author not in author_list:\n",
    "            author_list.append(author)\n",
    "    return author_list\n",
    "\n",
    "# get list from MPIA website\n",
    "# filter for non-scientists (mpia.get_mpia_mitarbeiter_list() does some filtering)\n",
    "mpia_authors = [k[1] for k in mpia.get_mpia_mitarbeiter_list() if filter_non_scientists(k[1])]\n",
    "# add some missing author because of inconsistencies in their MPIA name and author name on papers\n",
    "mpia_authors = add_author_to_list(mpia_authors)"
   ]
  },
  {
   "cell_type": "code",
   "execution_count": 4,
   "id": "2645e73a",
   "metadata": {
    "execution": {
     "iopub.execute_input": "2024-12-11T04:12:42.892229Z",
     "iopub.status.busy": "2024-12-11T04:12:42.891772Z",
     "iopub.status.idle": "2024-12-11T04:12:43.642971Z",
     "shell.execute_reply": "2024-12-11T04:12:43.642335Z"
    },
    "papermill": {
     "duration": 0.756057,
     "end_time": "2024-12-11T04:12:43.643955",
     "exception": false,
     "start_time": "2024-12-11T04:12:42.887898",
     "status": "completed"
    },
    "tags": []
   },
   "outputs": [
    {
     "name": "stdout",
     "output_type": "stream",
     "text": [
      "X. Zhang  ->  X. Zhang  |  ['X. Zhang']\n",
      "E. Bañados  ->  E. Bañados  |  ['E. Bañados']\n",
      "Y. Khusanova  ->  Y. Khusanova  |  ['Y. Khusanova']\n",
      "F. Walter  ->  F. Walter  |  ['F. Walter']\n",
      "S. Barboza  ->  S. Barboza  |  ['S. Barboza']\n",
      "M. Sharma  ->  Y. M. Sharma  |  ['M. Sharma']\n",
      "A. d. Graaff  ->  A. D. Graaff  |  ['A. D. Graaff']\n",
      "F. Walter  ->  F. Walter  |  ['F. Walter']\n"
     ]
    },
    {
     "name": "stdout",
     "output_type": "stream",
     "text": [
      "T. Henning  ->  T. Henning  |  ['T. Henning']\n",
      "Arxiv has 72 new papers today\n",
      "          7 with possible author matches\n"
     ]
    }
   ],
   "source": [
    "new_papers = get_new_papers()\n",
    "# add manual references\n",
    "add_paper_refs = []\n",
    "new_papers.extend([get_paper_from_identifier(k) for k in add_paper_refs])\n",
    "\n",
    "def robust_call(fn, value, *args, **kwargs):\n",
    "    try:\n",
    "        return fn(value, *args, **kwargs)\n",
    "    except Exception:\n",
    "        return value\n",
    "\n",
    "candidates = []\n",
    "for paperk in new_papers:\n",
    "    # Check author list with their initials\n",
    "    normed_author_list = [robust_call(mpia.get_initials, k) for k in paperk['authors']]\n",
    "    hl_authors = highlight_authors_in_list(normed_author_list, mpia_authors, verbose=True)\n",
    "    matches = [(hl, orig) for hl, orig in zip(hl_authors, paperk['authors']) if 'mark' in hl]\n",
    "    paperk['authors'] = hl_authors\n",
    "    if matches:\n",
    "        # only select paper if an author matched our list\n",
    "        candidates.append(paperk)\n",
    "print(\"\"\"Arxiv has {0:,d} new papers today\"\"\".format(len(new_papers)))        \n",
    "print(\"\"\"          {0:,d} with possible author matches\"\"\".format(len(candidates)))"
   ]
  },
  {
   "cell_type": "markdown",
   "id": "3543b34a",
   "metadata": {
    "papermill": {
     "duration": 0.003134,
     "end_time": "2024-12-11T04:12:43.650551",
     "exception": false,
     "start_time": "2024-12-11T04:12:43.647417",
     "status": "completed"
    },
    "tags": []
   },
   "source": [
    "# Parse sources and generate relevant outputs\n",
    "\n",
    "From the candidates, we do the following steps:\n",
    "* get their tarball from ArXiv (and extract data)\n",
    "* find the main .tex file: find one with \\documentclass{...} (sometimes it's non trivial)\n",
    "* Check affiliations with :func:`validation`, which uses :func:`mpia.affiliation_verifications`\n",
    "* If passing the affiliations: we parse the .tex source\n",
    "   * inject sub-documents into the main (flatten the main document)\n",
    "   * parse structure, extract information (title, abstract, authors, figures...)\n",
    "   * handles `\\graphicspath` if provided\n",
    "* Generate the .md document."
   ]
  },
  {
   "cell_type": "code",
   "execution_count": 5,
   "id": "9576b79e",
   "metadata": {
    "execution": {
     "iopub.execute_input": "2024-12-11T04:12:43.657897Z",
     "iopub.status.busy": "2024-12-11T04:12:43.657507Z",
     "iopub.status.idle": "2024-12-11T04:14:41.755455Z",
     "shell.execute_reply": "2024-12-11T04:14:41.754693Z"
    },
    "papermill": {
     "duration": 118.102835,
     "end_time": "2024-12-11T04:14:41.756541",
     "exception": false,
     "start_time": "2024-12-11T04:12:43.653706",
     "status": "completed"
    },
    "scrolled": false,
    "tags": []
   },
   "outputs": [
    {
     "data": {
      "application/vnd.jupyter.widget-view+json": {
       "model_id": "f7a317812a77464c88e29d680f00c0fe",
       "version_major": 2,
       "version_minor": 0
      },
      "text/plain": [
       "  0%|          | 0/7 [00:00<?, ?it/s]"
      ]
     },
     "metadata": {},
     "output_type": "display_data"
    },
    {
     "name": "stdout",
     "output_type": "stream",
     "text": [
      "Retrieving document from  https://arxiv.org/e-print/2412.06873\n",
      "extracting tarball to tmp_2412.06873..."
     ]
    },
    {
     "name": "stdout",
     "output_type": "stream",
     "text": [
      " done.\n",
      "Retrieving document from  https://arxiv.org/e-print/2412.06894\n"
     ]
    },
    {
     "name": "stdout",
     "output_type": "stream",
     "text": [
      "extracting tarball to tmp_2412.06894..."
     ]
    },
    {
     "name": "stdout",
     "output_type": "stream",
     "text": [
      " done.\n"
     ]
    },
    {
     "name": "stderr",
     "output_type": "stream",
     "text": [
      "/opt/hostedtoolcache/Python/3.9.20/x64/lib/python3.9/site-packages/IPython/core/interactiveshell.py:3550: LatexWarning: Multiple tex files.\n",
      "\n",
      "  exec(code_obj, self.user_global_ns, self.user_ns)\n",
      "/opt/hostedtoolcache/Python/3.9.20/x64/lib/python3.9/site-packages/IPython/core/interactiveshell.py:3550: LatexWarning: Found documentclass in tmp_2412.06894/00_main.tex\n",
      "\n",
      "  exec(code_obj, self.user_global_ns, self.user_ns)\n",
      "/opt/hostedtoolcache/Python/3.9.20/x64/lib/python3.9/site-packages/arxiv_on_deck_2/latex.py:414: LatexWarning: Latex injecting: '90b_comp' from 'tmp_2412.06894/90b_comp.tex'\n",
      "  warnings.warn(LatexWarning(f\"Latex injecting: '{ext}' from '{subsource}'\"))\n",
      "/opt/hostedtoolcache/Python/3.9.20/x64/lib/python3.9/site-packages/arxiv_on_deck_2/latex.py:414: LatexWarning: Latex injecting: '90a_lens' from 'tmp_2412.06894/90a_lens.tex'\n",
      "  warnings.warn(LatexWarning(f\"Latex injecting: '{ext}' from '{subsource}'\"))\n",
      "/opt/hostedtoolcache/Python/3.9.20/x64/lib/python3.9/site-packages/arxiv_on_deck_2/latex.py:414: LatexWarning: Latex injecting: '06_sum' from 'tmp_2412.06894/06_sum.tex'\n",
      "  warnings.warn(LatexWarning(f\"Latex injecting: '{ext}' from '{subsource}'\"))\n",
      "/opt/hostedtoolcache/Python/3.9.20/x64/lib/python3.9/site-packages/arxiv_on_deck_2/latex.py:414: LatexWarning: Latex injecting: '05_dis' from 'tmp_2412.06894/05_dis.tex'\n",
      "  warnings.warn(LatexWarning(f\"Latex injecting: '{ext}' from '{subsource}'\"))\n",
      "/opt/hostedtoolcache/Python/3.9.20/x64/lib/python3.9/site-packages/arxiv_on_deck_2/latex.py:414: LatexWarning: Latex injecting: '04_result' from 'tmp_2412.06894/04_result.tex'\n",
      "  warnings.warn(LatexWarning(f\"Latex injecting: '{ext}' from '{subsource}'\"))\n",
      "/opt/hostedtoolcache/Python/3.9.20/x64/lib/python3.9/site-packages/arxiv_on_deck_2/latex.py:414: LatexWarning: Latex injecting: '03_ana' from 'tmp_2412.06894/03_ana.tex'\n",
      "  warnings.warn(LatexWarning(f\"Latex injecting: '{ext}' from '{subsource}'\"))\n",
      "/opt/hostedtoolcache/Python/3.9.20/x64/lib/python3.9/site-packages/arxiv_on_deck_2/latex.py:414: LatexWarning: Latex injecting: '02_obs' from 'tmp_2412.06894/02_obs.tex'\n",
      "  warnings.warn(LatexWarning(f\"Latex injecting: '{ext}' from '{subsource}'\"))\n",
      "/opt/hostedtoolcache/Python/3.9.20/x64/lib/python3.9/site-packages/arxiv_on_deck_2/latex.py:414: LatexWarning: Latex injecting: '01_intro' from 'tmp_2412.06894/01_intro.tex'\n",
      "  warnings.warn(LatexWarning(f\"Latex injecting: '{ext}' from '{subsource}'\"))\n"
     ]
    },
    {
     "name": "stdout",
     "output_type": "stream",
     "text": [
      "Y. Khusanova  ->  Y. Khusanova  |  ['Y. Khusanova']\n",
      "F. Walter  ->  F. Walter  |  ['F. Walter']\n"
     ]
    },
    {
     "name": "stdout",
     "output_type": "stream",
     "text": [
      "Found 185 bibliographic references in tmp_2412.06894/00_main.bbl.\n",
      "Issues with the citations\n",
      "syntax error in line 319: '=' expected\n",
      "Retrieving document from  https://arxiv.org/e-print/2412.06897\n",
      "extracting tarball to tmp_2412.06897..."
     ]
    },
    {
     "name": "stdout",
     "output_type": "stream",
     "text": [
      " done.\n"
     ]
    },
    {
     "name": "stderr",
     "output_type": "stream",
     "text": [
      "/opt/hostedtoolcache/Python/3.9.20/x64/lib/python3.9/site-packages/arxiv_on_deck_2/latex.py:132: LatexWarning: attempting recovering figure images/lili_footprint\n",
      "  warnings.warn(LatexWarning(f'attempting recovering figure {image}'))\n",
      "/opt/hostedtoolcache/Python/3.9.20/x64/lib/python3.9/site-packages/arxiv_on_deck_2/latex.py:137: LatexWarning: Recovered figure images/lili_footprint as tmp_2412.06897/./images/lili_footprint.pdf\n",
      "  warnings.warn(LatexWarning(f'Recovered figure {image} as {fname}'))\n"
     ]
    },
    {
     "name": "stderr",
     "output_type": "stream",
     "text": [
      "/opt/hostedtoolcache/Python/3.9.20/x64/lib/python3.9/site-packages/arxiv_on_deck_2/latex.py:132: LatexWarning: attempting recovering figure images/lili_resolving_power\n",
      "  warnings.warn(LatexWarning(f'attempting recovering figure {image}'))\n",
      "/opt/hostedtoolcache/Python/3.9.20/x64/lib/python3.9/site-packages/arxiv_on_deck_2/latex.py:137: LatexWarning: Recovered figure images/lili_resolving_power as tmp_2412.06897/./images/lili_resolving_power.pdf\n",
      "  warnings.warn(LatexWarning(f'Recovered figure {image} as {fname}'))\n",
      "/opt/hostedtoolcache/Python/3.9.20/x64/lib/python3.9/site-packages/arxiv_on_deck_2/latex.py:132: LatexWarning: attempting recovering figure images/lili_transmission\n",
      "  warnings.warn(LatexWarning(f'attempting recovering figure {image}'))\n",
      "/opt/hostedtoolcache/Python/3.9.20/x64/lib/python3.9/site-packages/arxiv_on_deck_2/latex.py:137: LatexWarning: Recovered figure images/lili_transmission as tmp_2412.06897/./images/lili_transmission.pdf\n",
      "  warnings.warn(LatexWarning(f'Recovered figure {image} as {fname}'))\n"
     ]
    },
    {
     "name": "stderr",
     "output_type": "stream",
     "text": [
      "/opt/hostedtoolcache/Python/3.9.20/x64/lib/python3.9/site-packages/arxiv_on_deck_2/latex.py:132: LatexWarning: attempting recovering figure images/Lili_mech_design\n",
      "  warnings.warn(LatexWarning(f'attempting recovering figure {image}'))\n",
      "/opt/hostedtoolcache/Python/3.9.20/x64/lib/python3.9/site-packages/arxiv_on_deck_2/latex.py:707: LatexWarning: Could not find graphic \\includegraphics[trim={0 5cm 0 0},clip, width=\\columnwidth]{images/Lili_mech_design}\n",
      "  warnings.warn(LatexWarning(f\"Could not find graphic {k}\"))\n",
      "/opt/hostedtoolcache/Python/3.9.20/x64/lib/python3.9/site-packages/arxiv_on_deck_2/latex.py:132: LatexWarning: attempting recovering figure images/halogen_raw\n",
      "  warnings.warn(LatexWarning(f'attempting recovering figure {image}'))\n",
      "/opt/hostedtoolcache/Python/3.9.20/x64/lib/python3.9/site-packages/arxiv_on_deck_2/latex.py:137: LatexWarning: Recovered figure images/halogen_raw as tmp_2412.06897/./images/halogen_raw.pdf\n",
      "  warnings.warn(LatexWarning(f'Recovered figure {image} as {fname}'))\n",
      "/opt/hostedtoolcache/Python/3.9.20/x64/lib/python3.9/site-packages/arxiv_on_deck_2/latex.py:132: LatexWarning: attempting recovering figure images/lili_mech\n",
      "  warnings.warn(LatexWarning(f'attempting recovering figure {image}'))\n",
      "/opt/hostedtoolcache/Python/3.9.20/x64/lib/python3.9/site-packages/arxiv_on_deck_2/latex.py:137: LatexWarning: Recovered figure images/lili_mech as tmp_2412.06897/./images/lili_mech.pdf\n",
      "  warnings.warn(LatexWarning(f'Recovered figure {image} as {fname}'))\n"
     ]
    },
    {
     "name": "stderr",
     "output_type": "stream",
     "text": [
      "/opt/hostedtoolcache/Python/3.9.20/x64/lib/python3.9/site-packages/arxiv_on_deck_2/latex.py:132: LatexWarning: attempting recovering figure images/LBT_transmission\n",
      "  warnings.warn(LatexWarning(f'attempting recovering figure {image}'))\n",
      "/opt/hostedtoolcache/Python/3.9.20/x64/lib/python3.9/site-packages/arxiv_on_deck_2/latex.py:137: LatexWarning: Recovered figure images/LBT_transmission as tmp_2412.06897/./images/LBT_transmission.pdf\n",
      "  warnings.warn(LatexWarning(f'Recovered figure {image} as {fname}'))\n"
     ]
    },
    {
     "name": "stderr",
     "output_type": "stream",
     "text": [
      "/opt/hostedtoolcache/Python/3.9.20/x64/lib/python3.9/site-packages/arxiv_on_deck_2/latex.py:132: LatexWarning: attempting recovering figure images/27Her/27her_17052024_125227_im\n",
      "  warnings.warn(LatexWarning(f'attempting recovering figure {image}'))\n",
      "/opt/hostedtoolcache/Python/3.9.20/x64/lib/python3.9/site-packages/arxiv_on_deck_2/latex.py:137: LatexWarning: Recovered figure images/27Her/27her_17052024_125227_im as tmp_2412.06897/./images/27Her/27her_17052024_125227_im.pdf\n",
      "  warnings.warn(LatexWarning(f'Recovered figure {image} as {fname}'))\n",
      "/opt/hostedtoolcache/Python/3.9.20/x64/lib/python3.9/site-packages/arxiv_on_deck_2/latex.py:132: LatexWarning: attempting recovering figure images/27Her/27her_17052024_125227_sp\n",
      "  warnings.warn(LatexWarning(f'attempting recovering figure {image}'))\n",
      "/opt/hostedtoolcache/Python/3.9.20/x64/lib/python3.9/site-packages/arxiv_on_deck_2/latex.py:137: LatexWarning: Recovered figure images/27Her/27her_17052024_125227_sp as tmp_2412.06897/./images/27Her/27her_17052024_125227_sp.pdf\n",
      "  warnings.warn(LatexWarning(f'Recovered figure {image} as {fname}'))\n"
     ]
    },
    {
     "name": "stderr",
     "output_type": "stream",
     "text": [
      "/opt/hostedtoolcache/Python/3.9.20/x64/lib/python3.9/site-packages/arxiv_on_deck_2/latex.py:132: LatexWarning: attempting recovering figure images/41Vir_stack_zoom\n",
      "  warnings.warn(LatexWarning(f'attempting recovering figure {image}'))\n",
      "/opt/hostedtoolcache/Python/3.9.20/x64/lib/python3.9/site-packages/arxiv_on_deck_2/latex.py:137: LatexWarning: Recovered figure images/41Vir_stack_zoom as tmp_2412.06897/./images/41Vir_stack_zoom.pdf\n",
      "  warnings.warn(LatexWarning(f'Recovered figure {image} as {fname}'))\n"
     ]
    },
    {
     "name": "stderr",
     "output_type": "stream",
     "text": [
      "/opt/hostedtoolcache/Python/3.9.20/x64/lib/python3.9/site-packages/arxiv_on_deck_2/latex.py:132: LatexWarning: attempting recovering figure images/27Her/27her_null_adc2_17052024_125831_im\n",
      "  warnings.warn(LatexWarning(f'attempting recovering figure {image}'))\n",
      "/opt/hostedtoolcache/Python/3.9.20/x64/lib/python3.9/site-packages/arxiv_on_deck_2/latex.py:137: LatexWarning: Recovered figure images/27Her/27her_null_adc2_17052024_125831_im as tmp_2412.06897/./images/27Her/27her_null_adc2_17052024_125831_im.pdf\n",
      "  warnings.warn(LatexWarning(f'Recovered figure {image} as {fname}'))\n",
      "/opt/hostedtoolcache/Python/3.9.20/x64/lib/python3.9/site-packages/arxiv_on_deck_2/latex.py:132: LatexWarning: attempting recovering figure images/27Her/27her_null_adc4_17052024_130503_im\n",
      "  warnings.warn(LatexWarning(f'attempting recovering figure {image}'))\n",
      "/opt/hostedtoolcache/Python/3.9.20/x64/lib/python3.9/site-packages/arxiv_on_deck_2/latex.py:137: LatexWarning: Recovered figure images/27Her/27her_null_adc4_17052024_130503_im as tmp_2412.06897/./images/27Her/27her_null_adc4_17052024_130503_im.pdf\n",
      "  warnings.warn(LatexWarning(f'Recovered figure {image} as {fname}'))\n",
      "/opt/hostedtoolcache/Python/3.9.20/x64/lib/python3.9/site-packages/arxiv_on_deck_2/latex.py:132: LatexWarning: attempting recovering figure images/27Her/27her_null_adc5_17052024_130539_im\n",
      "  warnings.warn(LatexWarning(f'attempting recovering figure {image}'))\n",
      "/opt/hostedtoolcache/Python/3.9.20/x64/lib/python3.9/site-packages/arxiv_on_deck_2/latex.py:137: LatexWarning: Recovered figure images/27Her/27her_null_adc5_17052024_130539_im as tmp_2412.06897/./images/27Her/27her_null_adc5_17052024_130539_im.pdf\n",
      "  warnings.warn(LatexWarning(f'Recovered figure {image} as {fname}'))\n",
      "/opt/hostedtoolcache/Python/3.9.20/x64/lib/python3.9/site-packages/arxiv_on_deck_2/latex.py:132: LatexWarning: attempting recovering figure images/27Her/27her_null_adc7_17052024_130637_im\n",
      "  warnings.warn(LatexWarning(f'attempting recovering figure {image}'))\n",
      "/opt/hostedtoolcache/Python/3.9.20/x64/lib/python3.9/site-packages/arxiv_on_deck_2/latex.py:137: LatexWarning: Recovered figure images/27Her/27her_null_adc7_17052024_130637_im as tmp_2412.06897/./images/27Her/27her_null_adc7_17052024_130637_im.pdf\n",
      "  warnings.warn(LatexWarning(f'Recovered figure {image} as {fname}'))\n",
      "/opt/hostedtoolcache/Python/3.9.20/x64/lib/python3.9/site-packages/arxiv_on_deck_2/latex.py:132: LatexWarning: attempting recovering figure images/27Her/27her_null_adc2_17052024_125831_sp\n",
      "  warnings.warn(LatexWarning(f'attempting recovering figure {image}'))\n",
      "/opt/hostedtoolcache/Python/3.9.20/x64/lib/python3.9/site-packages/arxiv_on_deck_2/latex.py:137: LatexWarning: Recovered figure images/27Her/27her_null_adc2_17052024_125831_sp as tmp_2412.06897/./images/27Her/27her_null_adc2_17052024_125831_sp.pdf\n",
      "  warnings.warn(LatexWarning(f'Recovered figure {image} as {fname}'))\n",
      "/opt/hostedtoolcache/Python/3.9.20/x64/lib/python3.9/site-packages/arxiv_on_deck_2/latex.py:132: LatexWarning: attempting recovering figure images/27Her/27her_null_adc4_17052024_130503_sp\n",
      "  warnings.warn(LatexWarning(f'attempting recovering figure {image}'))\n",
      "/opt/hostedtoolcache/Python/3.9.20/x64/lib/python3.9/site-packages/arxiv_on_deck_2/latex.py:137: LatexWarning: Recovered figure images/27Her/27her_null_adc4_17052024_130503_sp as tmp_2412.06897/./images/27Her/27her_null_adc4_17052024_130503_sp.pdf\n",
      "  warnings.warn(LatexWarning(f'Recovered figure {image} as {fname}'))\n",
      "/opt/hostedtoolcache/Python/3.9.20/x64/lib/python3.9/site-packages/arxiv_on_deck_2/latex.py:132: LatexWarning: attempting recovering figure images/27Her/27her_null_adc5_17052024_130539_sp\n",
      "  warnings.warn(LatexWarning(f'attempting recovering figure {image}'))\n",
      "/opt/hostedtoolcache/Python/3.9.20/x64/lib/python3.9/site-packages/arxiv_on_deck_2/latex.py:137: LatexWarning: Recovered figure images/27Her/27her_null_adc5_17052024_130539_sp as tmp_2412.06897/./images/27Her/27her_null_adc5_17052024_130539_sp.pdf\n",
      "  warnings.warn(LatexWarning(f'Recovered figure {image} as {fname}'))\n",
      "/opt/hostedtoolcache/Python/3.9.20/x64/lib/python3.9/site-packages/arxiv_on_deck_2/latex.py:132: LatexWarning: attempting recovering figure images/27Her/27her_null_adc7_17052024_130637_sp\n",
      "  warnings.warn(LatexWarning(f'attempting recovering figure {image}'))\n",
      "/opt/hostedtoolcache/Python/3.9.20/x64/lib/python3.9/site-packages/arxiv_on_deck_2/latex.py:137: LatexWarning: Recovered figure images/27Her/27her_null_adc7_17052024_130637_sp as tmp_2412.06897/./images/27Her/27her_null_adc7_17052024_130637_sp.pdf\n",
      "  warnings.warn(LatexWarning(f'Recovered figure {image} as {fname}'))\n"
     ]
    },
    {
     "name": "stdout",
     "output_type": "stream",
     "text": [
      "Found 47 bibliographic references in tmp_2412.06897/article.bbl.\n",
      "Retrieving document from  https://arxiv.org/e-print/2412.06929\n",
      "extracting tarball to tmp_2412.06929..."
     ]
    },
    {
     "name": "stdout",
     "output_type": "stream",
     "text": [
      " done.\n",
      "Retrieving document from  https://arxiv.org/e-print/2412.06957\n"
     ]
    },
    {
     "name": "stdout",
     "output_type": "stream",
     "text": [
      "extracting tarball to tmp_2412.06957... done.\n"
     ]
    },
    {
     "name": "stderr",
     "output_type": "stream",
     "text": [
      "/opt/hostedtoolcache/Python/3.9.20/x64/lib/python3.9/site-packages/IPython/core/interactiveshell.py:3550: LatexWarning: Multiple tex files.\n",
      "\n",
      "  exec(code_obj, self.user_global_ns, self.user_ns)\n",
      "/opt/hostedtoolcache/Python/3.9.20/x64/lib/python3.9/site-packages/IPython/core/interactiveshell.py:3550: LatexWarning: Found documentclass in tmp_2412.06957/main.tex\n",
      "\n",
      "  exec(code_obj, self.user_global_ns, self.user_ns)\n"
     ]
    },
    {
     "name": "stderr",
     "output_type": "stream",
     "text": [
      "/tmp/ipykernel_2852/2822249172.py:52: LatexWarning: 2412.06957 did not run properly\n",
      "bad escape \\i at position 38\n",
      "  warnings.warn(latex.LatexWarning(f\"{paper_id:s} did not run properly\\n\" +\n"
     ]
    },
    {
     "name": "stdout",
     "output_type": "stream",
     "text": [
      "Retrieving document from  https://arxiv.org/e-print/2412.07474\n"
     ]
    },
    {
     "name": "stdout",
     "output_type": "stream",
     "text": [
      "extracting tarball to tmp_2412.07474..."
     ]
    },
    {
     "name": "stdout",
     "output_type": "stream",
     "text": [
      " done.\n"
     ]
    },
    {
     "name": "stdout",
     "output_type": "stream",
     "text": [
      "F. Walter  ->  F. Walter  |  ['F. Walter']\n"
     ]
    },
    {
     "name": "stdout",
     "output_type": "stream",
     "text": [
      "Found 133 bibliographic references in tmp_2412.07474/J0305m3150_140pc.bbl.\n",
      "Error retrieving bib data for Venemans2016: 'author'\n",
      "Error retrieving bib data for Venemans2019: 'author'\n",
      "Retrieving document from  https://arxiv.org/e-print/2412.07691\n"
     ]
    },
    {
     "name": "stdout",
     "output_type": "stream",
     "text": [
      "extracting tarball to tmp_2412.07691..."
     ]
    },
    {
     "name": "stdout",
     "output_type": "stream",
     "text": [
      " done.\n"
     ]
    },
    {
     "name": "stdout",
     "output_type": "stream",
     "text": [
      "T. Henning  ->  T. Henning  |  ['T. Henning']\n"
     ]
    },
    {
     "name": "stdout",
     "output_type": "stream",
     "text": [
      "Found 188 bibliographic references in tmp_2412.07691/arxive.bbl.\n",
      "Issues with the citations\n",
      "syntax error in line 39: '=' expected\n"
     ]
    }
   ],
   "source": [
    "documents = []\n",
    "failed = []\n",
    "for paper in tqdm(candidates):\n",
    "    # debug crap\n",
    "    paper['identifier'] = paper['identifier'].lower().replace('arxiv:', '').replace(r'\\n', '').strip()\n",
    "    paper_id = paper['identifier']\n",
    "    \n",
    "    folder = f'tmp_{paper_id}'\n",
    "\n",
    "    try:\n",
    "        if not os.path.isdir(folder):\n",
    "            folder = retrieve_document_source(f\"{paper_id}\", f'tmp_{paper_id}')\n",
    "        \n",
    "        try:\n",
    "            doc = latex.LatexDocument(folder, validation=validation)    \n",
    "        except AffiliationError as affilerror:\n",
    "            msg = f\"ArXiv:{paper_id:s} is not an MPIA paper... \" + str(affilerror)\n",
    "            failed.append((paper, \"affiliation error: \" + str(affilerror) ))\n",
    "            continue\n",
    "        \n",
    "        # Hack because sometimes author parsing does not work well\n",
    "        if (len(doc.authors) != len(paper['authors'])):\n",
    "            doc._authors = paper['authors']\n",
    "        else:\n",
    "            # highlight authors (FIXME: doc.highlight_authors)\n",
    "            # done on arxiv paper already\n",
    "            doc._authors = highlight_authors_in_list(\n",
    "                [get_initials(k) for k in doc.authors], \n",
    "                mpia_authors, verbose=True)\n",
    "        if (doc.abstract) in (None, ''):\n",
    "            doc._abstract = paper['abstract']\n",
    "            \n",
    "        doc.comment = (get_markdown_badge(paper_id) + \n",
    "                       \"<mark>Appeared on: \" + paper['date'] + \"</mark> - \")\n",
    "        if paper['comments']:\n",
    "            doc.comment += \" _\" + paper['comments'] + \"_\"\n",
    "        \n",
    "        full_md = doc.generate_markdown_text()\n",
    "        \n",
    "        full_md += get_markdown_qrcode(paper_id)\n",
    "        \n",
    "        # replace citations\n",
    "        try:\n",
    "            bibdata = latex_bib.LatexBib.from_doc(doc)\n",
    "            full_md = latex_bib.replace_citations(full_md, bibdata)\n",
    "        except Exception as e:\n",
    "            print(\"Issues with the citations\")\n",
    "            print(e)\n",
    "        \n",
    "        documents.append((paper_id, full_md))\n",
    "    except Exception as e:\n",
    "        warnings.warn(latex.LatexWarning(f\"{paper_id:s} did not run properly\\n\" +\n",
    "                                         str(e)\n",
    "                                        ))\n",
    "        failed.append((paper, \"latex error \" + str(e)))"
   ]
  },
  {
   "cell_type": "markdown",
   "id": "2505a25c",
   "metadata": {
    "papermill": {
     "duration": 0.00477,
     "end_time": "2024-12-11T04:14:41.766341",
     "exception": false,
     "start_time": "2024-12-11T04:14:41.761571",
     "status": "completed"
    },
    "tags": []
   },
   "source": [
    "### Export the logs\n",
    "\n",
    "Throughout, we also keep track of the logs per paper. see `logs-{today date}.md` "
   ]
  },
  {
   "cell_type": "code",
   "execution_count": 6,
   "id": "d733828a",
   "metadata": {
    "execution": {
     "iopub.execute_input": "2024-12-11T04:14:41.776746Z",
     "iopub.status.busy": "2024-12-11T04:14:41.776330Z",
     "iopub.status.idle": "2024-12-11T04:14:41.794672Z",
     "shell.execute_reply": "2024-12-11T04:14:41.794059Z"
    },
    "papermill": {
     "duration": 0.024829,
     "end_time": "2024-12-11T04:14:41.795761",
     "exception": false,
     "start_time": "2024-12-11T04:14:41.770932",
     "status": "completed"
    },
    "scrolled": false,
    "tags": []
   },
   "outputs": [
    {
     "data": {
      "text/markdown": [
       "## Successful papers"
      ],
      "text/plain": [
       "<IPython.core.display.Markdown object>"
      ]
     },
     "metadata": {},
     "output_type": "display_data"
    },
    {
     "data": {
      "text/markdown": [
       "\n",
       "|||\n",
       "|---:|:---|\n",
       "| [![arXiv](https://img.shields.io/badge/arXiv-2412.06894-b31b1b.svg)](https://arxiv.org/abs/2412.06894) | **A SPectroscopic survey of biased halos In the Reionization Era (ASPIRE): Spectroscopically Complete Census of Obscured Cosmic Star Formation Rate Density at $z=4-6$**  |\n",
       "|| F. Sun, et al. -- incl., <mark>E. Bañados</mark>, <mark>Y. Khusanova</mark>, <mark>F. Walter</mark> |\n",
       "|*Appeared on*| *2024-12-11*|\n",
       "|*Comments*| *27 pages, 13 figures, 3 tables. Accepted for publication in ApJ*|\n",
       "|**Abstract**|            We present a stringent measurement of the dust-obscured star-formation rate density (SFRD) at $z=4-6$ from the ASPIRE JWST Cycle-1 medium and ALMA Cycle-9 large program. We obtained JWST/NIRCam grism spectroscopy and ALMA 1.2-mm continuum map along 25 independent quasar sightlines, covering a total survey area of $\\sim$35 arcmin$^2$ where we search for dusty star-forming galaxies (DSFGs) at $z = 0 - 7$. We identify eight DSFGs in seven fields at $z=4-6$ through the detection of H$\\alpha$ or [O III] $\\lambda$5008 lines, including fainter lines such as H$\\beta$, [O III] $\\lambda$4960, [N II] $\\lambda$6585, [S II] $\\lambda\\lambda$6718,6733 for six sources. With this spectroscopically complete DSFG sample at $z=4-6$ and negligible impact from cosmic variance (shot noise), we measure the infrared luminosity function (IRLF) down to $L_\\mathrm{IR} \\sim 2\\times10^{11}$ $L_\\odot$. We find flattening of IRLF at $z=4-6$ towards the faint end (power-law slope $\\alpha = 0.59_{-0.45}^{+0.39}$). We determine the dust-obscured cosmic SFRD at this epoch as $\\log[\\rho_\\mathrm{SFR,IR} / (\\mathrm{M}_\\odot\\,\\mathrm{yr}^{-1}\\,\\mathrm{Mpc}^{-3})] = -1.52_{-0.13}^{+0.14}$. This is significantly higher than previous determination using ALMA data in the Hubble Ultra Deep Field, which is void of DSFGs at $z=4-6$ because of strong cosmic variance (shot noise). We conclude that the majority ($66\\pm7$%) of cosmic star formation at $z \\sim 5$ is still obscured by dust. We also discuss the uncertainty of SFRD propagated from far-IR spectral energy distribution and IRLF at the bright end, which will need to be resolved with future ALMA and JWST observations.         |"
      ],
      "text/plain": [
       "[2412.06894] A SPectroscopic survey of biased halos In the Reionization Era (ASPIRE): Spectroscopically Complete Census of Obscured Cosmic Star Formation Rate Density at $z=4-6$\n",
       "\tF. Sun, et al. -- incl., <mark>E. Bañados</mark>, <mark>Y. Khusanova</mark>, <mark>F. Walter</mark>"
      ]
     },
     "metadata": {},
     "output_type": "display_data"
    },
    {
     "data": {
      "text/markdown": [
       "\n",
       "|||\n",
       "|---:|:---|\n",
       "| [![arXiv](https://img.shields.io/badge/arXiv-2412.06897-b31b1b.svg)](https://arxiv.org/abs/2412.06897) | **Little iLocater: paving the way for iLocater**  |\n",
       "|| R. J. Harris, et al. -- incl., <mark>S. Barboza</mark> |\n",
       "|*Appeared on*| *2024-12-11*|\n",
       "|*Comments*| *13 pages, 17 figures, accepted for publication in MNRAS*|\n",
       "|**Abstract**|            Diffraction-limited radial velocity instruments offer a pathway towards improved precision and stability, and the exploration of new parameter spaces at high spatial and spectral resolution. However, achieving the necessary performance requires careful instrument design and considerable on-sky testing. We describe the design and construction of ``Little iLocater'' (Lili), a compact spectrograph that has been used to validate the performance of the front-end fibre-injection system of the iLocater spectrograph. We present the design, assembly, and performance using on-sky data obtained at the Large Binocular Telescope (LBT), including extraction of spectra from standard stars, testing of the atmospheric dispersion corrector to elevations of 40 degrees, and spatially resolved spectra from close companion systems. These results show the front-end fibre-injection system is performing as expected and is indicative of iLocater's capabilities once installed at the LBT.         |"
      ],
      "text/plain": [
       "[2412.06897] Little iLocater: paving the way for iLocater\n",
       "\tR. J. Harris, et al. -- incl., <mark>S. Barboza</mark>"
      ]
     },
     "metadata": {},
     "output_type": "display_data"
    },
    {
     "data": {
      "text/markdown": [
       "\n",
       "|||\n",
       "|---:|:---|\n",
       "| [![arXiv](https://img.shields.io/badge/arXiv-2412.07474-b31b1b.svg)](https://arxiv.org/abs/2412.07474) | **Pushing ALMA to the limit: 140 pc resolution observations of a z=6.6 quasar-galaxy merger resolve strikingly different morphologies of dust continuum and [CII] 158 um emission**  |\n",
       "|| R. A. Meyer, et al. -- incl., <mark>F. Walter</mark> |\n",
       "|*Appeared on*| *2024-12-11*|\n",
       "|*Comments*| *Accepted in ApJ. 15 pages + appendices*|\n",
       "|**Abstract**|            We present $0.\"026$ $(140\\ \\rm{pc})$ resolution ALMA observations of [C II] $158\\ \\mu\\rm{m}$ and dust continuum emission of the $z=6.6$ quasar J0305--3150, resolved over $\\sim 300-400$ independent resolution elements. The dust continuum emission is compact with $\\sim 80\\%$ recovered within $r<0.\"3$ $(1.6\\ \\rm{kpc})$, whereas the [C II] emission profile is composed of a central Gaussian ($r<0.\"4$, i.e. $<2.2\\ \\rm{kpc}$) and an extended component (detected up to $\\sim 10\\ \\rm{kpc}$ at $>3\\sigma$). We infer a direct contribution of the quasar to the observed 260\\ \\rm{GHz} continuum $S_{\\nu,\\rm{QSO}} / S_{\\nu,\\rm{QSO+Host}} \\lesssim 1\\%$. We report the detection of FIR-detected star-forming clumps with $r<200 \\ \\rm{pc}$ and properties similar to that of rest-frame UV-optical clumps reported in the literature. The $200\\ \\rm{pc}$ resolved [C II]/FIR ratio follows the global relation with the FIR surface brightness established in low- and high-redshift galaxies, even at the quasar location. We find that dust continuum is emitted in regions of $\\sim0.\"02-0.\"04$ consistent with the size of photo-dissociation regions (PDR), whereas $50\\%$ of the [C II] originates from larger physical scales ($\\theta \\gtrsim 2\"$). The large-scale [C II] emission presents a velocity gradient aligned with a nearby companion with perturbed kinematics, and misaligned with the kinematics of the small-scale emission. The absence of significant [C II] emission by structures with physical scale $\\lesssim 1\\ \\rm{kpc}$ implies that [C II] emission is not produced in dense PDR located at the boundary of Giant Molecular Clouds. We argue instead that [C II] is produced in low-density PDRs in the interstellar medium and diffuse HI gas tidally-stripped during the ongoing merger.         |"
      ],
      "text/plain": [
       "[2412.07474] Pushing ALMA to the limit: 140 pc resolution observations of a z=6.6 quasar-galaxy merger resolve strikingly different morphologies of dust continuum and [CII] 158 um emission\n",
       "\tR. A. Meyer, et al. -- incl., <mark>F. Walter</mark>"
      ]
     },
     "metadata": {},
     "output_type": "display_data"
    },
    {
     "data": {
      "text/markdown": [
       "\n",
       "|||\n",
       "|---:|:---|\n",
       "| [![arXiv](https://img.shields.io/badge/arXiv-2412.07691-b31b1b.svg)](https://arxiv.org/abs/2412.07691) | **The CARMENES search for exoplanets around M dwarfs. The impact of rotation and magnetic fields on the radial velocity jitter in cool stars**  |\n",
       "|| H. L. Ruh, et al. -- incl., <mark>T. Henning</mark> |\n",
       "|*Appeared on*| *2024-12-11*|\n",
       "|*Comments*| **|\n",
       "|**Abstract**|            Radial velocity (RV) jitter represents an intrinsic limitation on the precision of Doppler searches for exoplanets that can originate from both instrumental and astrophysical sources. We aim to determine the RV jitter floor in M dwarfs and investigate the stellar properties that lead to RV jitter induced by stellar activity. We determined the RV jitter in 239 M dwarfs from the CARMENES survey that are predominantly of mid to late spectral type and solar metallicity. We also investigated the correlation between stellar rotation and magnetic fields with RV jitter. The median jitter in the CARMENES sample is 3.1 m/s, and it is 2.3 m/s for stars with an upper limit of 2 km/s on their projected rotation velocities. We provide a relation between the stellar equatorial rotation velocity and RV jitter in M dwarfs based on a subsample of 129 well-characterized CARMENES stars. RV jitter induced by stellar rotation dominates for stars with equatorial rotation velocities greater than 1 km/s. A jitter floor of 2 m/s dominates in stars with equatorial rotation velocities below 1 km/s. This jitter floor likely contains contributions from stellar jitter, instrumental jitter, and undetected companions. We study the impact of the average magnetic field and the distributions of magnetic filling factors on the RV jitter. We find a series of stars with excess RV jitter and distinctive distributions of magnetic filling factors. These stars are characterized by a dominant magnetic field component between 2-4 kG. An RV jitter floor can be distinguished from RV jitter induced by activity and rotation based on the stellar equatorial rotation velocity. RV jitter induced by activity and rotation primarily depends on the equatorial rotation velocity. This RV jitter is also related to the distribution of magnetic filling factors, and this emphasizes the role of the magnetic field in the generation of RV jitter.         |"
      ],
      "text/plain": [
       "[2412.07691] The CARMENES search for exoplanets around M dwarfs. The impact of rotation and magnetic fields on the radial velocity jitter in cool stars\n",
       "\tH. L. Ruh, et al. -- incl., <mark>T. Henning</mark>"
      ]
     },
     "metadata": {},
     "output_type": "display_data"
    },
    {
     "data": {
      "text/markdown": [
       "## Failed papers"
      ],
      "text/plain": [
       "<IPython.core.display.Markdown object>"
      ]
     },
     "metadata": {},
     "output_type": "display_data"
    },
    {
     "data": {
      "text/markdown": [
       "\n",
       "|||\n",
       "|---:|:---|\n",
       "| [![arXiv](https://img.shields.io/badge/arXiv-2412.06873-b31b1b.svg)](https://arxiv.org/abs/2412.06873) | **Revisiting holographic dark energy from the perspective of multi-messenger gravitational wave astronomy: future joint observations with short gamma-ray bursts**  |\n",
       "|| T. Han, Z. Li, J.-F. Zhang, <mark>X. Zhang</mark> |\n",
       "|*Appeared on*| *2024-12-11*|\n",
       "|*Comments*| *13 pages, 8 figures*|\n",
       "|**Abstract**|            The advent of third-generation (3G) gravitational-wave (GW) detectors opens new opportunities for multi-messenger observations of binary neutron star merger events, holding significant potential for probing the history of cosmic expansion. In this paper, we investigate the holographic dark energy (HDE) model by using the future GW standard siren data observed from the 3G GW detectors and the short $\\gamma$-ray burst THESEUS-like detector joint observations. We find that GW data alone can achieve a relatively precise estimation of the Hubble constant, with precision of $0.2\\%$-$0.6\\%$, but its ability to constrain other cosmological parameters remains limited. Nonetheless, since the GW data can break parameter degeneracies generated by the mainstream EM observations, CMB + BAO + SN (CBS), GW standard sirens play a crucial role in enhancing the accuracy of parameter estimation. With the addition of GW data to CBS, the constraints on cosmological parameters $H_0$, $c$ and $\\Omega_{\\rm{m}}$ can be improved by $63\\%$-$88\\%$, $27\\%$-$44\\%$ and $55\\%$-$70\\%$. In summary, observations of GW standard sirens from 3G GW detectors could be pivotal in helping solve the Hubble tension and probe the fundamental nature of dark energy.         |\n",
       "|<p style=\"color:green\"> **ERROR** </p>| <p style=\"color:green\">affiliation error: mpia.affiliation_verifications: 'Heidelberg' keyword not found.</p> |"
      ],
      "text/plain": [
       "<IPython.core.display.Markdown object>"
      ]
     },
     "metadata": {},
     "output_type": "display_data"
    },
    {
     "data": {
      "text/markdown": [
       "\n",
       "|||\n",
       "|---:|:---|\n",
       "| [![arXiv](https://img.shields.io/badge/arXiv-2412.06929-b31b1b.svg)](https://arxiv.org/abs/2412.06929) | **Physical characterization of the FeLoBAL outflow in SDSS J0932+0840: Analysis of VLT/UVES observations**  |\n",
       "|| <mark>M. Sharma</mark>, et al. |\n",
       "|*Appeared on*| *2024-12-11*|\n",
       "|*Comments*| *15 pages and 10 figures. Accepted for publication in A&A*|\n",
       "|**Abstract**|            Context: The study of quasar outflows is essential in understanding the connection between active galactic nuclei (AGN) and their host galaxies. We analyze the VLT/UVES spectrum of quasar SDSS J0932+0840 and identify several narrow and broad outflow components in absorption, with multiple ionization species including Fe II, which puts it among a rare class of outflows known as FeLoBALs. Aims: We study one of the outflow components to determine its physical characteristics by determining the total hydrogen column density, ionization parameter and the hydrogen number density. Through these parameters, we aim to obtain the distance of the outflow from the central source, its mass outflow rate and kinetic luminosity, and to constrain the contribution of the outflow to AGN feedback. Methods: We obtain the ionic column densities from the absorption troughs in the spectrum, and use photoionization modeling to extract the physical parameters of the outflow, including the total hydrogen column density and ionization parameter. The relative population of the observed excited states of Fe II is used to model the hydrogen number density of the outflow. Results: We use the Fe II excited states to model the electron number density ($n_e$) and hydrogen number density ($n_H$) independently and obtain $n_e$ $\\simeq$ $10^{3.4}$ cm$^{-3}$ and $n_H$ $\\simeq$ $10^{4.8}$ cm$^{-3}$. Our analysis of the physical structure of the cloud shows that these two results are consistent with each other. This places the outflow system at a distance of $0.7_{-0.4}^{+0.9}$ kpc from the central source, with mass flow rate ($\\dot{M}$) of $43^{+65}_{-26}$ $M_\\odot$ yr$^{-1}$ and kinetic luminosity ($\\dot{E_k}$) of $0.7^{+1.1}_{-0.4}$ $\\times$ $10^{43}$ erg s$^{-1}$.         |\n",
       "|<p style=\"color:green\"> **ERROR** </p>| <p style=\"color:green\">affiliation error: mpia.affiliation_verifications: 'Heidelberg' keyword not found.</p> |"
      ],
      "text/plain": [
       "<IPython.core.display.Markdown object>"
      ]
     },
     "metadata": {},
     "output_type": "display_data"
    },
    {
     "data": {
      "text/markdown": [
       "\n",
       "|||\n",
       "|---:|:---|\n",
       "| [![arXiv](https://img.shields.io/badge/arXiv-2412.06957-b31b1b.svg)](https://arxiv.org/abs/2412.06957) | **JWST UNCOVERs the Optical Size - Stellar Mass Relation at $4<z<8$: Rapid Growth in the Sizes of Low Mass Galaxies in the First Billion Years of the Universe**  |\n",
       "|| T. B. Miller, et al. -- incl., <mark>A. d. Graaff</mark> |\n",
       "|*Appeared on*| *2024-12-11*|\n",
       "|*Comments*| *Submitted to ApJ, comments welcome!*|\n",
       "|**Abstract**|            We study the rest-frame optical and ultraviolet morphology of galaxies in the first billion years of the Universe. Using JWST data from the UNCOVER and MegaScience surveys targeting the lensing cluster Abell 2744 we present multi-band morphological measurements for a sample of 995 galaxies selected using 20-band NIRCam photometry and 35 using NIRSpec Prism spectroscopy over the redshift range of $4<z<8$. The wavelength-dependent morphology is measured using pysersic by simultaneously modeling the images in 6 NIRCam wide filters covering the rest-frame UV to optical. The joint modeling technique increases the precision of measured radii by 50\\%. Galaxies in our sample show a wide range of Sersic indices, with no systematic difference between optical and UV morphology. We model the size-mass relation in a Bayesian manner using a continuity model to directly fit the redshift evolution while accounting for observational uncertainties. We find the average size of galaxies at $\\log M_*/M_\\odot=8.5$ grows rapidly, from 400 pc at $z=8$ to 830 pc at $z=4$. This is faster evolution than expected from power law scalings of the Hubble parameter or scale factor that describe well previous results at $z<2$. This suggests that different and/or much stronger processes affect low mass systems during the epoch of reionization. The measured logarithmic slope (0.25) and scatter (0.23 dex) are non-evolving. We discuss the remarkable consistency of the slope and scatter over cosmic time in the context of the galaxy-halo connection.         |\n",
       "|<p style=\"color:red\"> **ERROR** </p>| <p style=\"color:red\">latex error bad escape \\i at position 38</p> |"
      ],
      "text/plain": [
       "<IPython.core.display.Markdown object>"
      ]
     },
     "metadata": {},
     "output_type": "display_data"
    }
   ],
   "source": [
    "import datetime\n",
    "today = str(datetime.date.today())\n",
    "logfile = f\"_build/html/logs/log-{today}.md\"\n",
    "\n",
    "\n",
    "with open(logfile, 'w') as logs:\n",
    "    # Success\n",
    "    logs.write(f'# Arxiv on Deck 2: Logs - {today}\\n\\n')\n",
    "    logs.write(\"\"\"* Arxiv had {0:,d} new papers\\n\"\"\".format(len(new_papers)))\n",
    "    logs.write(\"\"\"    * {0:,d} with possible author matches\\n\\n\"\"\".format(len(candidates)))\n",
    "    logs.write(\"## Sucessful papers\\n\\n\")\n",
    "    display(Markdown(\"## Successful papers\"))\n",
    "    success = [k[0] for k in documents]\n",
    "    for candid in candidates:\n",
    "        if candid['identifier'].split(':')[-1] in success:\n",
    "            display(candid)\n",
    "            logs.write(candid.generate_markdown_text() + '\\n\\n')\n",
    "\n",
    "    ## failed\n",
    "    logs.write(\"## Failed papers\\n\\n\")\n",
    "    display(Markdown(\"## Failed papers\"))\n",
    "    failed = sorted(failed, key=lambda x: x[1])\n",
    "    current_reason = \"\"\n",
    "    for paper, reason in failed:\n",
    "        if 'affiliation' in reason:\n",
    "            color = 'green'\n",
    "        else:\n",
    "            color = 'red'\n",
    "        data = Markdown(\n",
    "                paper.generate_markdown_text() + \n",
    "                f'\\n|<p style=\"color:{color:s}\"> **ERROR** </p>| <p style=\"color:{color:s}\">{reason:s}</p> |'\n",
    "               )\n",
    "        if reason != current_reason:\n",
    "            logs.write(f'### {reason:s} \\n\\n')\n",
    "            current_reason = reason\n",
    "        logs.write(data.data + '\\n\\n')\n",
    "        \n",
    "        # only display here the important errors (all in logs)\n",
    "        # if color in ('red',):\n",
    "        display(data)"
   ]
  },
  {
   "cell_type": "markdown",
   "id": "472d20ee",
   "metadata": {
    "papermill": {
     "duration": 0.005489,
     "end_time": "2024-12-11T04:14:41.807016",
     "exception": false,
     "start_time": "2024-12-11T04:14:41.801527",
     "status": "completed"
    },
    "tags": []
   },
   "source": [
    "## Export documents\n",
    "\n",
    "We now write the .md files and export relevant images"
   ]
  },
  {
   "cell_type": "code",
   "execution_count": 7,
   "id": "d426aed9",
   "metadata": {
    "execution": {
     "iopub.execute_input": "2024-12-11T04:14:41.819067Z",
     "iopub.status.busy": "2024-12-11T04:14:41.818723Z",
     "iopub.status.idle": "2024-12-11T04:14:41.825459Z",
     "shell.execute_reply": "2024-12-11T04:14:41.824776Z"
    },
    "papermill": {
     "duration": 0.013885,
     "end_time": "2024-12-11T04:14:41.826460",
     "exception": false,
     "start_time": "2024-12-11T04:14:41.812575",
     "status": "completed"
    },
    "tags": []
   },
   "outputs": [],
   "source": [
    "def export_markdown_summary(md: str, md_fname:str, directory: str):\n",
    "    \"\"\"Export MD document and associated relevant images\"\"\"\n",
    "    import os\n",
    "    import shutil\n",
    "    import re\n",
    "\n",
    "    if (os.path.exists(directory) and not os.path.isdir(directory)):\n",
    "        raise RuntimeError(f\"a non-directory file exists with name {directory:s}\")\n",
    "\n",
    "    if (not os.path.exists(directory)):\n",
    "        print(f\"creating directory {directory:s}\")\n",
    "        os.mkdir(directory)\n",
    "\n",
    "    fig_fnames = (re.compile(r'\\[Fig.*\\]\\((.*)\\)').findall(md) + \n",
    "                  re.compile(r'\\<img src=\"([^>\\s]*)\"[^>]*/>').findall(md))\n",
    "    print(\"found figures\", fig_fnames)\n",
    "    for fname in fig_fnames:\n",
    "        if 'http' in fname:\n",
    "            # No need to copy online figures\n",
    "            continue\n",
    "        if not os.path.exists(fname):\n",
    "            print(\"file not found\", fname)\n",
    "            continue\n",
    "        print(\"copying \", fname, \"to\", directory)\n",
    "        destdir = os.path.join(directory, os.path.dirname(fname))\n",
    "        destfname = os.path.join(destdir, os.path.basename(fname))\n",
    "        try:\n",
    "            os.makedirs(destdir)\n",
    "        except FileExistsError:\n",
    "            pass\n",
    "        shutil.copy(fname, destfname)\n",
    "    with open(os.path.join(directory, md_fname), 'w') as fout:\n",
    "        fout.write(md)\n",
    "    print(\"exported in \", os.path.join(directory, md_fname))\n",
    "    [print(\"    + \" + os.path.join(directory,fk)) for fk in fig_fnames]"
   ]
  },
  {
   "cell_type": "code",
   "execution_count": 8,
   "id": "014d04a4",
   "metadata": {
    "execution": {
     "iopub.execute_input": "2024-12-11T04:14:41.838756Z",
     "iopub.status.busy": "2024-12-11T04:14:41.838381Z",
     "iopub.status.idle": "2024-12-11T04:14:41.884501Z",
     "shell.execute_reply": "2024-12-11T04:14:41.883808Z"
    },
    "papermill": {
     "duration": 0.053389,
     "end_time": "2024-12-11T04:14:41.885592",
     "exception": false,
     "start_time": "2024-12-11T04:14:41.832203",
     "status": "completed"
    },
    "tags": []
   },
   "outputs": [
    {
     "name": "stdout",
     "output_type": "stream",
     "text": [
      "found figures ['tmp_2412.06894/./figure/all_alma_field.png', 'tmp_2412.06894/./figure/completeness_simulation.png', 'tmp_2412.06894/./figure/cycle_11_fig_1_jwst_alma_cutout.png']\n",
      "copying  tmp_2412.06894/./figure/all_alma_field.png to _build/html/\n",
      "copying  tmp_2412.06894/./figure/completeness_simulation.png to _build/html/\n",
      "copying  tmp_2412.06894/./figure/cycle_11_fig_1_jwst_alma_cutout.png to _build/html/\n",
      "exported in  _build/html/2412.06894.md\n",
      "    + _build/html/tmp_2412.06894/./figure/all_alma_field.png\n",
      "    + _build/html/tmp_2412.06894/./figure/completeness_simulation.png\n",
      "    + _build/html/tmp_2412.06894/./figure/cycle_11_fig_1_jwst_alma_cutout.png\n",
      "found figures ['tmp_2412.06897/./images/zemax_3d.png', 'tmp_2412.06897/./images/lili_transmission.png', 'tmp_2412.06897/./images/lili_footprint.png']\n",
      "copying  tmp_2412.06897/./images/zemax_3d.png to _build/html/\n",
      "copying  tmp_2412.06897/./images/lili_transmission.png to _build/html/\n",
      "copying  tmp_2412.06897/./images/lili_footprint.png to _build/html/\n",
      "exported in  _build/html/2412.06897.md\n",
      "    + _build/html/tmp_2412.06897/./images/zemax_3d.png\n",
      "    + _build/html/tmp_2412.06897/./images/lili_transmission.png\n",
      "    + _build/html/tmp_2412.06897/./images/lili_footprint.png\n",
      "found figures ['tmp_2412.07474/figures/J0305_quasar_Fig1_NA_multi_C2357_2sigma_maskgrow_gaussian.png', 'tmp_2412.07474/figures/J0305_NA_multi_C2357_continuum_SFRD_withlabels.png', 'tmp_2412.07474/figures/cdf_pdf_dust_cii_emission.png']\n",
      "copying  tmp_2412.07474/figures/J0305_quasar_Fig1_NA_multi_C2357_2sigma_maskgrow_gaussian.png to _build/html/\n",
      "copying  tmp_2412.07474/figures/J0305_NA_multi_C2357_continuum_SFRD_withlabels.png to _build/html/\n",
      "copying  tmp_2412.07474/figures/cdf_pdf_dust_cii_emission.png to _build/html/\n",
      "exported in  _build/html/2412.07474.md\n",
      "    + _build/html/tmp_2412.07474/figures/J0305_quasar_Fig1_NA_multi_C2357_2sigma_maskgrow_gaussian.png\n",
      "    + _build/html/tmp_2412.07474/figures/J0305_NA_multi_C2357_continuum_SFRD_withlabels.png\n",
      "    + _build/html/tmp_2412.07474/figures/cdf_pdf_dust_cii_emission.png\n",
      "found figures ['tmp_2412.07691/./Fig/vrot_jitter_all_mcmc_variances_contributions.png', 'tmp_2412.07691/./Fig/jitter_bfield.png', 'tmp_2412.07691/./Fig/vrot_jitter_bfield_structure.png']\n",
      "copying  tmp_2412.07691/./Fig/vrot_jitter_all_mcmc_variances_contributions.png to _build/html/\n",
      "copying  tmp_2412.07691/./Fig/jitter_bfield.png to _build/html/\n",
      "copying  tmp_2412.07691/./Fig/vrot_jitter_bfield_structure.png to _build/html/\n",
      "exported in  _build/html/2412.07691.md\n",
      "    + _build/html/tmp_2412.07691/./Fig/vrot_jitter_all_mcmc_variances_contributions.png\n",
      "    + _build/html/tmp_2412.07691/./Fig/jitter_bfield.png\n",
      "    + _build/html/tmp_2412.07691/./Fig/vrot_jitter_bfield_structure.png\n"
     ]
    }
   ],
   "source": [
    "for paper_id, md in documents:\n",
    "    export_markdown_summary(md, f\"{paper_id:s}.md\", '_build/html/')"
   ]
  },
  {
   "cell_type": "markdown",
   "id": "f087a0a7",
   "metadata": {
    "papermill": {
     "duration": 0.005763,
     "end_time": "2024-12-11T04:14:41.897477",
     "exception": false,
     "start_time": "2024-12-11T04:14:41.891714",
     "status": "completed"
    },
    "tags": []
   },
   "source": [
    "## Display the papers\n",
    "\n",
    "Not necessary but allows for a quick check."
   ]
  },
  {
   "cell_type": "code",
   "execution_count": 9,
   "id": "fd25f625",
   "metadata": {
    "execution": {
     "iopub.execute_input": "2024-12-11T04:14:41.909934Z",
     "iopub.status.busy": "2024-12-11T04:14:41.909526Z",
     "iopub.status.idle": "2024-12-11T04:14:41.918118Z",
     "shell.execute_reply": "2024-12-11T04:14:41.917581Z"
    },
    "papermill": {
     "duration": 0.015898,
     "end_time": "2024-12-11T04:14:41.919122",
     "exception": false,
     "start_time": "2024-12-11T04:14:41.903224",
     "status": "completed"
    },
    "scrolled": false,
    "tags": []
   },
   "outputs": [
    {
     "data": {
      "text/markdown": [
       "<div class=\"macros\" style=\"visibility:hidden;\">\n",
       "$\\newcommand{\\ensuremath}{}$\n",
       "$\\newcommand{\\xspace}{}$\n",
       "$\\newcommand{\\object}[1]{\\texttt{#1}}$\n",
       "$\\newcommand{\\farcs}{{.}''}$\n",
       "$\\newcommand{\\farcm}{{.}'}$\n",
       "$\\newcommand{\\arcsec}{''}$\n",
       "$\\newcommand{\\arcmin}{'}$\n",
       "$\\newcommand{\\ion}[2]{#1#2}$\n",
       "$\\newcommand{\\textsc}[1]{\\textrm{#1}}$\n",
       "$\\newcommand{\\hl}[1]{\\textrm{#1}}$\n",
       "$\\newcommand{\\footnote}[1]{}$\n",
       "$\\newcommand{\\vdag}{(v)^\\dagger}$\n",
       "$\\newcommand$\n",
       "$\\newcommand$\n",
       "$\\newcommand{\\oii}{\\mbox{[\\ion{O}{2}]}}$\n",
       "$\\newcommand{\\oiii}{\\mbox{[\\ion{O}{3}]}}$\n",
       "$\\newcommand{\\hei}{\\mbox{\\ion{He}{1}}}$\n",
       "$\\newcommand{\\heii}{\\mbox{\\ion{He}{2}}}$\n",
       "$\\newcommand{\\cii}{\\mbox{[\\ion{C}{2}]}}$\n",
       "$\\newcommand{\\nii}{\\mbox{[\\ion{N}{2}]}}$\n",
       "$\\newcommand{\\sii}{\\mbox{[\\ion{S}{2}]}}$\n",
       "$\\newcommand{\\siii}{\\mbox{[\\ion{S}{3}]}}$\n",
       "$\\newcommand{\\hb}{\\mbox{H\\beta}}$\n",
       "$\\newcommand{\\ha}{\\mbox{H\\alpha}}$\n",
       "$\\newcommand{\\lya}{\\mbox{Ly\\alpha}}$\n",
       "$\\newcommand{\\popiii}{\\mbox{\\ion{Pop}{3}}}$\n",
       "$\\newcommand$\n",
       "$\\newcommand$\n",
       "$\\newcommand$\n",
       "$\\newcommand$\n",
       "$\\newcommand$\n",
       "$\\newcommand$\n",
       "$\\newcommand{\\zsp}{\\mbox{z_\\mathrm{spec}}}$\n",
       "$\\newcommand{\\zph}{\\mbox{z_\\mathrm{phot}}}$\n",
       "$\\newcommand{\\lir}{\\mbox{L_\\mathrm{IR}}}$\n",
       "$\\newcommand{\\textred}[1]{\\textcolor{red}{#1}}$\n",
       "$\\newcommand{\\textblue}[1]{\\textcolor{blue}{#1}}$\n",
       "$\\newcommand{\\micron}{\\si{\\micro\\meter}}$\n",
       "$\\newcommand{\\textred}[1]{{#1}}$\n",
       "$\\newcommand{\\textblue}[1]{{#1}}$\n",
       "$\\newcommand{\\thefigure}{\\thesection\\arabic{figure}}$</div>\n",
       "\n",
       "\n",
       "\n",
       "<div id=\"title\">\n",
       "\n",
       "# A SPectroscopic survey of biased halos In the Reionization Era (ASPIRE): \\ Spectroscopically Complete Census of Obscured Cosmic Star Formation Rate Density at $z=4-6$\n",
       "\n",
       "</div>\n",
       "<div id=\"comments\">\n",
       "\n",
       "[![arXiv](https://img.shields.io/badge/arXiv-2412.06894-b31b1b.svg)](https://arxiv.org/abs/2412.06894)<mark>Appeared on: 2024-12-11</mark> -  _27 pages, 13 figures, 3 tables. Accepted for publication in ApJ_\n",
       "\n",
       "</div>\n",
       "<div id=\"authors\">\n",
       "\n",
       "F. Sun, et al. -- incl., <mark>Y. Khusanova</mark>, <mark>F. Walter</mark>\n",
       "\n",
       "</div>\n",
       "<div id=\"abstract\">\n",
       "\n",
       "**Abstract:** We present a stringent measurement of the dust-obscured star-formation rate density (SFRD) at $z=4-6$ from the ASPIRE JWST Cycle-1 medium and ALMA Cycle-9 large program.We obtained JWST/NIRCam grism spectroscopy and ALMA 1.2-mm continuum map along 25 independent quasar sightlines, covering a total survey area of $\\sim$ 35 arcmin $^2$ where we search for dusty star-forming galaxies (DSFGs) at $z = 0 - 7$ .We identify eight DSFGs in seven fields at $z=4-6$ through the detection of $\\ha$ or $\\oiii$ $\\lambda$ 5008 lines, including fainter lines such as $\\hb$ , $\\oiii$ $\\lambda$ 4960, $\\nii$ $\\lambda$ 6585, $\\sii$ $\\lambda\\lambda$ 6718,6733 for six sources.With this spectroscopically complete DSFG sample at $z=4-6$ and negligible impact from cosmic variance (shot noise), we measure the infrared luminosity function (IRLF) down to $L_\\mathrm{IR} \\sim 2\\times10^{11}$ $\\lsun$ .We find flattening of IRLF at $z=4-6$ towards the faint end (power-law slope $\\alpha = 0.59_{-0.45}^{+0.39}$ ).We determine the dust-obscured cosmic SFRD at this epoch as $\\log[\\rho_\\mathrm{SFR,IR} / (\\mathrm{M}_\\odot \\mathrm{yr}^{-1} \\mathrm{Mpc}^{-3})] = -1.52_{-0.13}^{+0.14}$ .This is significantly higher than previous determination using ALMA data in the Hubble Ultra Deep Field, which is void of DSFGs at $z=4-6$ because of strong cosmic variance (shot noise).We conclude that the majority ( $66\\pm7$ \\% ) of cosmic star formation at $z \\sim 5$ is still obscured by dust.We also discuss the uncertainty of SFRD propagated from far-IR spectral energy distribution and IRLF at the bright end, which will need to be resolved with future ALMA and JWST observations.\n",
       "\n",
       "</div>\n",
       "\n",
       "<div id=\"div_fig1\">\n",
       "\n",
       "<img src=\"tmp_2412.06894/./figure/all_alma_field.png\" alt=\"Fig4\" width=\"100%\"/>\n",
       "\n",
       "**Figure 4. -** 1.2-mm continuum images of 25 quasar fields obtained by ASPIRE ALMA Cycle-9 large program. In the top-left panel, we highlight the design of JWST/NIRCam and ALMA observations.\n",
       "The whole ALMA 1.2-mm continuum imaging mosaics (_uv_-tapered with FWHM = 1$\\arcsec$) are within the full spectral ($\\lambda$ = 3.1--4.0 $\\micron$ with F356W filter) coverage region of NIRCam module A as indicated by the blue shaded region.\n",
       "The quasar J0109--3047 ($z=6.791$; cyan circle) is located in the center of ALMA footprint, and one DSFG (J0109m3047.C02 at $z=5.549$) is also highlighted with red circle.\n",
       "The position angle of NIRCam WFSS observation is 270\\arcdeg for J0109 field, and therefore the grism-R dispersion direction is almost from north to south as indicated by the orange arrow.\n",
       "Note that the dispersion direction depends on the JWST/NIRCam PA and varies from field to field.\n",
       "ALMA 1.2-mm continuum images of all the other 24 fields are also displayed. Quasars with continuum detection ($z=6.5-6.8$) and spectroscopically confirmed DSFGs at $z=4-6$ are highlighted in cyan and red circles, respectively.\n",
       "Many DSFGs at other redshifts are also detected with ALMA but not highlighted in this figure.\n",
       " (*fig:all_alma*)\n",
       "\n",
       "</div>\n",
       "<div id=\"div_fig2\">\n",
       "\n",
       "<img src=\"tmp_2412.06894/./figure/completeness_simulation.png\" alt=\"Fig3\" width=\"100%\"/>\n",
       "\n",
       "**Figure 3. -** Completeness as a function of ALMA flux density on 1$\\farcs$0 _uv_-tapered images (before primary beam response correction).\n",
       "Best-fit error function is shown as the solid black line.\n",
       " (*fig:complete*)\n",
       "\n",
       "</div>\n",
       "<div id=\"div_fig3\">\n",
       "\n",
       "<img src=\"tmp_2412.06894/./figure/cycle_11_fig_1_jwst_alma_cutout.png\" alt=\"Fig5\" width=\"100%\"/>\n",
       "\n",
       "**Figure 5. -** JWST NIRCam (red: F356W; green: F200W, blue: F115W) and ALMA 1.2-mm continuum images of DSFGs at $z=4-6$ discovered with the ASPIRE survey. Image sizes are 4$\\arcsec$$\\times$4$\\arcsec$(north up, east left).\n",
       "Source ID, spectroscopic redshifts and ALMA beam sizes are indicated in the plots.\n",
       "Most sources appear red in JWST RGB images, indicating that they are highly dust-obscured galaxies at high redshifts.\n",
       "Note that J0109m3047.C02 is gravitationally lensed by the bright galaxy on the left (see Appendix \\ref{apd:01_lens}).\n",
       " (*fig:cutout*)\n",
       "\n",
       "</div><div id=\"qrcode\"><img src=https://api.qrserver.com/v1/create-qr-code/?size=100x100&data=\"https://arxiv.org/abs/2412.06894\"></div>"
      ],
      "text/plain": [
       "<IPython.core.display.Markdown object>"
      ]
     },
     "metadata": {},
     "output_type": "display_data"
    },
    {
     "data": {
      "text/markdown": [
       "<div class=\"macros\" style=\"visibility:hidden;\">\n",
       "$\\newcommand{\\ensuremath}{}$\n",
       "$\\newcommand{\\xspace}{}$\n",
       "$\\newcommand{\\object}[1]{\\texttt{#1}}$\n",
       "$\\newcommand{\\farcs}{{.}''}$\n",
       "$\\newcommand{\\farcm}{{.}'}$\n",
       "$\\newcommand{\\arcsec}{''}$\n",
       "$\\newcommand{\\arcmin}{'}$\n",
       "$\\newcommand{\\ion}[2]{#1#2}$\n",
       "$\\newcommand{\\textsc}[1]{\\textrm{#1}}$\n",
       "$\\newcommand{\\hl}[1]{\\textrm{#1}}$\n",
       "$\\newcommand{\\footnote}[1]{}$\n",
       "$\\newcommand{\\thebibliography}{\\DeclareRobustCommand{\\VAN}[3]{##3}\\VANthebibliography}$</div>\n",
       "\n",
       "\n",
       "\n",
       "<div id=\"title\">\n",
       "\n",
       "# Little iLocater: paving the way for iLocater\n",
       "\n",
       "</div>\n",
       "<div id=\"comments\">\n",
       "\n",
       "[![arXiv](https://img.shields.io/badge/arXiv-2412.06897-b31b1b.svg)](https://arxiv.org/abs/2412.06897)<mark>Appeared on: 2024-12-11</mark> -  _13 pages, 17 figures, accepted for publication in MNRAS_\n",
       "\n",
       "</div>\n",
       "<div id=\"authors\">\n",
       "\n",
       "R. J. Harris, et al. -- incl., <mark>S. Barboza</mark>\n",
       "\n",
       "</div>\n",
       "<div id=\"abstract\">\n",
       "\n",
       "**Abstract:** Diffraction-limited radial velocity instruments offer a pathway towards improved precision and stability, and the exploration of new parameter spaces at high spatial and spectral resolution. However, achieving the necessary performance requires careful instrument design and considerable on-sky testing. We describe the design and construction of \"Little iLocater\" (Lili), a compact spectrograph that has been used to validate the performance of the front-end fibre-injection system of the iLocater spectrograph. We present the design, assembly, and performance using on-sky data obtained at the Large Binocular Telescope (LBT), including extraction of spectra from standard stars, testing of the atmospheric dispersion corrector to elevations of $\\qty{40}{◦ee}$ , and spatially resolved spectra from close companion systems. These results show the front-end fibre-injection system is performing as expected and is indicative of iLocater's capabilities once installed at the LBT.\n",
       "\n",
       "</div>\n",
       "\n",
       "<div id=\"div_fig1\">\n",
       "\n",
       "<img src=\"tmp_2412.06897/./images/zemax_3d.png\" alt=\"Fig1\" width=\"100%\"/>\n",
       "\n",
       "**Figure 1. -** Shaded rendering of the optical design of the \\ac{Lili} spectrograph, with the light path coloured by wavelength. From left to right, the light from the \\ac{SMF}  is collimated by an \\ac{OAP}, which feeds a \\ac{VPH} grating. Light is then refocused onto the detector by a TTL200-S8 and AC-508-080-C lens. (*fig:Lili_optical_design*)\n",
       "\n",
       "</div>\n",
       "<div id=\"div_fig2\">\n",
       "\n",
       "<img src=\"tmp_2412.06897/./images/lili_transmission.png\" alt=\"Fig5\" width=\"100%\"/>\n",
       "\n",
       "**Figure 5. -** Estimated spectrograph throughput based on commercially available values for lenses and theoretical values for the \\ac{MCIFU} gratings. Individual efficiencies of the two spectrograph orders are plotted as dotted lines. The filled area underneath indicates the parts of the spectrum from each order incident on the \\ac{CRED2} detector. (*fig:Lili_transmission*)\n",
       "\n",
       "</div>\n",
       "<div id=\"div_fig3\">\n",
       "\n",
       "<img src=\"tmp_2412.06897/./images/lili_footprint.png\" alt=\"Fig3\" width=\"100%\"/>\n",
       "\n",
       "**Figure 3. -** Footprint of the two orders imaged onto the detector. The first order (\\qtyrange{0.97}{1.2}{\\micro\\meter}) crosses the full detector area diagonally, while the second sits below (\\qtyrange{1.2}{1.34}{\\micro\\meter}). Note that there is a difference in slope between the first and second orders due to the rotation of the diffraction gratings. (*fig:Lili_footprint*)\n",
       "\n",
       "</div><div id=\"qrcode\"><img src=https://api.qrserver.com/v1/create-qr-code/?size=100x100&data=\"https://arxiv.org/abs/2412.06897\"></div>"
      ],
      "text/plain": [
       "<IPython.core.display.Markdown object>"
      ]
     },
     "metadata": {},
     "output_type": "display_data"
    },
    {
     "data": {
      "text/markdown": [
       "<div class=\"macros\" style=\"visibility:hidden;\">\n",
       "$\\newcommand{\\ensuremath}{}$\n",
       "$\\newcommand{\\xspace}{}$\n",
       "$\\newcommand{\\object}[1]{\\texttt{#1}}$\n",
       "$\\newcommand{\\farcs}{{.}''}$\n",
       "$\\newcommand{\\farcm}{{.}'}$\n",
       "$\\newcommand{\\arcsec}{''}$\n",
       "$\\newcommand{\\arcmin}{'}$\n",
       "$\\newcommand{\\ion}[2]{#1#2}$\n",
       "$\\newcommand{\\textsc}[1]{\\textrm{#1}}$\n",
       "$\\newcommand{\\hl}[1]{\\textrm{#1}}$\n",
       "$\\newcommand{\\footnote}[1]{}$\n",
       "$\\newcommand{\\vdag}{(v)^\\dagger}$\n",
       "$\\newcommand$\n",
       "$\\newcommand$\n",
       "$\\newcommand$\n",
       "$\\newcommand$\n",
       "$\\newcommand$\n",
       "$\\newcommand\\cii{[C\\thinspace{\\scriptsize II}]}$</div>\n",
       "\n",
       "\n",
       "\n",
       "<div id=\"title\">\n",
       "\n",
       "# Pushing ALMA to the limit: 140 pc resolution observations of a z=6.6 quasar-galaxy merger resolve strikingly different morphologies of dust continuum and [$\\ion{C}{2}$] 158$\\mu\\rm{m}$ emission\n",
       "\n",
       "</div>\n",
       "<div id=\"comments\">\n",
       "\n",
       "[![arXiv](https://img.shields.io/badge/arXiv-2412.07474-b31b1b.svg)](https://arxiv.org/abs/2412.07474)<mark>Appeared on: 2024-12-11</mark> -  _Accepted in ApJ. 15 pages + appendices_\n",
       "\n",
       "</div>\n",
       "<div id=\"authors\">\n",
       "\n",
       "R. A. Meyer, et al. -- incl., <mark>F. Walter</mark>\n",
       "\n",
       "</div>\n",
       "<div id=\"abstract\">\n",
       "\n",
       "**Abstract:** We present $0\\farcs026$ $(140 \\rm{pc})$ resolution ALMA observations of [ $\\ion{C}{2}$ ] $158 \\mu\\rm{m}$ and dust continuum emission of the $z=6.6$ quasar J0305--3150, resolved over $\\sim 300-400$ independent resolution elements. The dust continuum emission is compact with $\\sim 80\\%$ recovered within $r<0\\farcs3$ $(1.6 \\rm{kpc})$ , whereas the [ $\\ion{C}{2}$ ] emission profile is composed of a central Gaussian ( $r<0\\farcs4$ , i.e. $<2.2 \\rm{kpc}$ ) and an extended component (detected up to $\\sim 10 \\rm{kpc}$ at $>3\\sigma$ ). We infer a direct contribution of the quasar to the observed 260 $\\rm{GHz}$ continuum $S_{\\nu,\\rm{QSO}} / S_{\\nu,\\rm{QSO+Host}} \\lesssim 1\\%$ . We report the detection of FIR-detected star-forming clumps with $r<200  \\rm{pc}$ and properties similar to that of rest-frame UV-optical clumps reported in the literature.The $200 \\rm{pc}$ resolved [ $\\ion{C}{2}$ ] /FIR ratio follows the global relation with the FIR surface brightness established in low- and high-redshift galaxies, even at the quasar location.We find that dust continuum is emitted in regions of $\\sim0\\farcs02-0\\farcs04$ consistent with the size of photo-dissociation regions (PDR), whereas $50\\%$ of the [ $\\ion{C}{2}$ ] originates from larger physical scales ( $\\theta \\gtrsim 2\"$ ). The large-scale [ $\\ion{C}{2}$ ] emission presents a velocity gradient aligned with a nearby companion with perturbed kinematics, and misaligned with the kinematics of the small-scale emission. The absence of significant [ $\\ion{C}{2}$ ] emission by structures with physical scale $\\lesssim 1 \\rm{kpc}$ implies that [ $\\ion{C}{2}$ ] emission is not produced in dense PDR located at the boundary of Giant Molecular Clouds. We argue instead that [ $\\ion{C}{2}$ ] is produced in low-density PDRs in the interstellar medium and diffuse $\\ion{H}{1}$ gas tidally-stripped during the ongoing merger.\n",
       "\n",
       "</div>\n",
       "\n",
       "<div id=\"div_fig1\">\n",
       "\n",
       "<img src=\"tmp_2412.07474/figures/J0305_quasar_Fig1_NA_multi_C2357_2sigma_maskgrow_gaussian.png\" alt=\"Fig9\" width=\"100%\"/>\n",
       "\n",
       "**Figure 9. -** Top: FIR continuum at $\\sim 260 \\rm{GHz}$ and velocity-integrated [$\\ion${C}{2}] emission of the high--redshift quasar J0305--3150, based on all available ALMA observations, including earlier ‘lower'--resolution data published by Venemans2016, Venemans2019. The contours start at $\\pm2\\sigma$ and increase in powers of two. Positive contours are shown in full dark lines, and negative ones in dashed grey. The synthesized beam is plotted in the bottom left corner of each plot. The GAIA-corrected optical position of the quasar is shown with a star \\citep[][]{Venemans2019}. Bottom: Mean velocity and velocity dispersion map of the [$\\ion${C}{2}] emission, computed using a Gaussian fit in pixels where [$\\ion${C}{2}] is detected at $>2\\sigma$. The mask for the moment 1 and 2 maps is given by the moment 0 $2\\sigma$ contours, with five rounds of binary erosion and binary dilation to remove small structures due to noise (see text for more details). (*fig:fig1*)\n",
       "\n",
       "</div>\n",
       "<div id=\"div_fig2\">\n",
       "\n",
       "<img src=\"tmp_2412.07474/figures/J0305_NA_multi_C2357_continuum_SFRD_withlabels.png\" alt=\"Fig3\" width=\"100%\"/>\n",
       "\n",
       "**Figure 3. -** Star-formation rate density ($\\Sigma_{\\rm{SFR}}$) map of J0305--3150 assuming a proportional relation between the dust emission and the $\\Sigma_{\\rm{SFR}}$. The contours start at $\\pm2\\sigma$ and increase in steps of $2\\sigma$(up to $8\\sigma$ only). The synthesized beam is plotted in the bottom left corner. The gray box shows the area tessellated with independent $r=0$\\farcs$037 (200 \\rm{pc}$  apertures used to study the resolved FIR properties (see further text and Fig. \\ref{fig:resolved_CII_deficit}. The cyan circles show $r=0$\\farcs$037$ apertures corresponding to regions of interest (see further text and Table \\ref{tab:clumps_properties}).  (*fig:sfrd_map*)\n",
       "\n",
       "</div>\n",
       "<div id=\"div_fig3\">\n",
       "\n",
       "<img src=\"tmp_2412.07474/figures/cdf_pdf_dust_cii_emission.png\" alt=\"Fig10\" width=\"100%\"/>\n",
       "\n",
       "**Figure 10. -** **Left panel:** Real part of the visibilities for the continuum and [$\\ion${C}{2}] emission, averaged as a function of baseline length converted to physical scales. The errorbars represent the standard deviation in each bin, and the visibilities are normalised to the first datapoint (_uv_ distances $(15\\pm1)\\rm{m}$). The best-fit cumulative distribution functions are shown in dashed black. **Right panel:** Best-fit probability density function for the continuum and [$\\ion${C}{2}] emission as a function of the logarithm of the physical scale observed. The maximum recoverable scale of the ALMA C10 observations is shown in dashed black. We also indicate the  photo-dissociation regions (PDR) sizes where [$\\ion${C}{2}] is thought to originate found in simulations and observations at $0\\lesssim z\\lesssim 5$(black markers and errors), and provide a similar estimate for J0305--3150 in dark red.  \\nocite{Carlstrom1991} (*fig:visiblities_scales*)\n",
       "\n",
       "</div><div id=\"qrcode\"><img src=https://api.qrserver.com/v1/create-qr-code/?size=100x100&data=\"https://arxiv.org/abs/2412.07474\"></div>"
      ],
      "text/plain": [
       "<IPython.core.display.Markdown object>"
      ]
     },
     "metadata": {},
     "output_type": "display_data"
    },
    {
     "data": {
      "text/markdown": [
       "<div class=\"macros\" style=\"visibility:hidden;\">\n",
       "$\\newcommand{\\ensuremath}{}$\n",
       "$\\newcommand{\\xspace}{}$\n",
       "$\\newcommand{\\object}[1]{\\texttt{#1}}$\n",
       "$\\newcommand{\\farcs}{{.}''}$\n",
       "$\\newcommand{\\farcm}{{.}'}$\n",
       "$\\newcommand{\\arcsec}{''}$\n",
       "$\\newcommand{\\arcmin}{'}$\n",
       "$\\newcommand{\\ion}[2]{#1#2}$\n",
       "$\\newcommand{\\textsc}[1]{\\textrm{#1}}$\n",
       "$\\newcommand{\\hl}[1]{\\textrm{#1}}$\n",
       "$\\newcommand{\\footnote}[1]{}$\n",
       "$\\newcommand{\\AS}[3]{#1 ^{+#2}_{-#3}}$\n",
       "$\\newcommand{\\ASmath}[3]{#1^{+#2}_{-#3}}$\n",
       "$\\newcommand{\\serval}{\\texttt{serval}}$\n",
       "$\\newcommand{\\sim}{{\\oldsim}}$\n",
       "$\\newcommand{\\bfseries}{\\fontseries{b}\\selectfont}$</div>\n",
       "\n",
       "\n",
       "\n",
       "<div id=\"title\">\n",
       "\n",
       "# The CARMENES search for exoplanets around M dwarfs: The impact of rotation and magnetic fields on the radial velocity jitter in cool stars\n",
       "\n",
       "</div>\n",
       "<div id=\"comments\">\n",
       "\n",
       "[![arXiv](https://img.shields.io/badge/arXiv-2412.07691-b31b1b.svg)](https://arxiv.org/abs/2412.07691)<mark>Appeared on: 2024-12-11</mark> - \n",
       "\n",
       "</div>\n",
       "<div id=\"authors\">\n",
       "\n",
       "H. L. Ruh, et al. -- incl., <mark>T. Henning</mark>\n",
       "\n",
       "</div>\n",
       "<div id=\"abstract\">\n",
       "\n",
       "**Abstract:** Radial velocity (RV) jitter represents an intrinsic limitation on the precision of Doppler searches for exoplanets that can originate from both instrumental and astrophysical sources. We aim to determine the RV jitter floor in M dwarfs and investigate the stellar properties that lead to RV jitter induced by stellar activity. We determined the RV jitter in $\\num{239}$ M dwarfs from the CARMENES survey that are predominantly of mid to late spectral type and solar metallicity. We also investigated the correlation between stellar rotation and magnetic fields with RV jitter. The median jitter in the CARMENES sample is $\\SI{3.1}{\\meter\\per\\second}$ , and it is $\\SI{2.3}{\\meter\\per\\second}$ for stars with an upper limit of $\\SI{2}{\\kilo\\meter\\per\\second}$ on their projected rotation velocities. We provide a relation between the stellar equatorial rotation velocity and RV jitter in M dwarfs based on a subsample of $\\num{129}$ well-characterized CARMENES stars. RV jitter induced by stellar rotation dominates for stars with equatorial rotation velocities greater than $\\SI{1}{\\kilo\\meter\\per\\second}$ . A jitter floor of $\\SI{2}{\\meter\\per\\second}$ dominates in stars with equatorial rotation velocities below $\\SI{1}{\\kilo\\meter\\per\\second}$ . This jitter floor likely contains contributions from stellar jitter, instrumental jitter, and undetected companions. We study the impact of the average magnetic field and the distributions of magnetic filling factors on the RV jitter. We find a series of stars with excess RV jitter and distinctive distributions of magnetic filling factors. These stars are characterized by a dominant magnetic field component between $\\SIrange{2}{4}{\\kilo\\gauss}$ . An RV jitter floor can be distinguished from RV jitter induced by activity and rotation based on the stellar equatorial rotation velocity. RV jitter induced by activity and rotation primarily depends on the equatorial rotation velocity. This RV jitter is also related to the distribution of magnetic filling factors, and this emphasizes the role of the magnetic field in the generation of RV jitter.\n",
       "\n",
       "</div>\n",
       "\n",
       "<div id=\"div_fig1\">\n",
       "\n",
       "<img src=\"tmp_2412.07691/./Fig/vrot_jitter_all_mcmc_variances_contributions.png\" alt=\"Fig4\" width=\"100%\"/>\n",
       "\n",
       "**Figure 4. -** Jitter-rotation relation for \\num{129} CARMENES M dwarfs with known rotation periods. The RV jitter is fit as a function of the stellar rotation velocity $v_{\\rm eq}$. The solid line displays the best fit, and the shaded region indicates the prediction interval. The jitter floor and the linear trend (dashed lines) correspond to parameters $\\alpha$ and $\\beta$ in Eq. (\\ref{eq:jitter_vrot}). (*fig:jitter_vrot_all*)\n",
       "\n",
       "</div>\n",
       "<div id=\"div_fig2\">\n",
       "\n",
       "<img src=\"tmp_2412.07691/./Fig/jitter_bfield.png\" alt=\"Fig6\" width=\"100%\"/>\n",
       "\n",
       "**Figure 6. -** Radial velocity jitter vs. mean magnetic field. The upper limits on the average magnetic field are indicated by triangles. (*fig:jitter_bfield*)\n",
       "\n",
       "</div>\n",
       "<div id=\"div_fig3\">\n",
       "\n",
       "<img src=\"tmp_2412.07691/./Fig/vrot_jitter_bfield_structure.png\" alt=\"Fig9\" width=\"100%\"/>\n",
       "\n",
       "**Figure 9. -** As Fig. \\ref{fig:jitter_vrot_all}, but color-coded with the filling factor distributions index and only for stars with measured average magnetic field. The labels mark the series of high-jitter stars with concentrated magnetic field distributions. The empty circles display stars without measurements of the average magnetic field. (*fig:bfield_structure*)\n",
       "\n",
       "</div><div id=\"qrcode\"><img src=https://api.qrserver.com/v1/create-qr-code/?size=100x100&data=\"https://arxiv.org/abs/2412.07691\"></div>"
      ],
      "text/plain": [
       "<IPython.core.display.Markdown object>"
      ]
     },
     "metadata": {},
     "output_type": "display_data"
    }
   ],
   "source": [
    "[display(Markdown(k[1])) for k in documents];"
   ]
  },
  {
   "cell_type": "markdown",
   "id": "873873a4",
   "metadata": {
    "papermill": {
     "duration": 0.0064,
     "end_time": "2024-12-11T04:14:41.932131",
     "exception": false,
     "start_time": "2024-12-11T04:14:41.925731",
     "status": "completed"
    },
    "tags": []
   },
   "source": [
    "# Create HTML index"
   ]
  },
  {
   "cell_type": "code",
   "execution_count": 10,
   "id": "cf665672",
   "metadata": {
    "execution": {
     "iopub.execute_input": "2024-12-11T04:14:41.945890Z",
     "iopub.status.busy": "2024-12-11T04:14:41.945479Z",
     "iopub.status.idle": "2024-12-11T04:14:41.954161Z",
     "shell.execute_reply": "2024-12-11T04:14:41.953618Z"
    },
    "papermill": {
     "duration": 0.016657,
     "end_time": "2024-12-11T04:14:41.955135",
     "exception": false,
     "start_time": "2024-12-11T04:14:41.938478",
     "status": "completed"
    },
    "tags": []
   },
   "outputs": [
    {
     "name": "stdout",
     "output_type": "stream",
     "text": [
      "278  publications files modified in the last 7 days.\n"
     ]
    }
   ],
   "source": [
    "from datetime import datetime, timedelta, timezone\n",
    "from glob import glob\n",
    "import os\n",
    "\n",
    "files = glob('_build/html/*.md')\n",
    "days = 7\n",
    "now = datetime.today()\n",
    "res = []\n",
    "for fk in files:\n",
    "    stat_result = os.stat(fk).st_ctime\n",
    "    modified = datetime.fromtimestamp(stat_result, tz=timezone.utc).replace(tzinfo=None)\n",
    "    delta = now.today() - modified\n",
    "    if delta <= timedelta(days=days):\n",
    "        res.append((delta.seconds, fk))\n",
    "res = [k[1] for k in reversed(sorted(res, key=lambda x:x[1]))]\n",
    "npub = len(res)\n",
    "print(len(res), f\" publications files modified in the last {days:d} days.\")\n",
    "# [ print('\\t', k) for k in res ];"
   ]
  },
  {
   "cell_type": "code",
   "execution_count": 11,
   "id": "015de740",
   "metadata": {
    "execution": {
     "iopub.execute_input": "2024-12-11T04:14:41.969212Z",
     "iopub.status.busy": "2024-12-11T04:14:41.968792Z",
     "iopub.status.idle": "2024-12-11T04:14:41.986492Z",
     "shell.execute_reply": "2024-12-11T04:14:41.985941Z"
    },
    "papermill": {
     "duration": 0.025687,
     "end_time": "2024-12-11T04:14:41.987499",
     "exception": false,
     "start_time": "2024-12-11T04:14:41.961812",
     "status": "completed"
    },
    "tags": []
   },
   "outputs": [
    {
     "name": "stdout",
     "output_type": "stream",
     "text": [
      "15  publications in the last 7 days.\n"
     ]
    }
   ],
   "source": [
    "import datetime\n",
    "from glob import glob\n",
    "\n",
    "def get_last_n_days(lst, days=1):\n",
    "    \"\"\" Get the documents from the last n days \"\"\"\n",
    "    sorted_lst = sorted(lst, key=lambda x: x[1], reverse=True)\n",
    "    for fname, date in sorted_lst:\n",
    "        if date >= str(datetime.date.today() - datetime.timedelta(days=days)):\n",
    "            yield fname\n",
    "\n",
    "def extract_appearance_dates(lst_file):\n",
    "    dates = []\n",
    "\n",
    "    def get_date(line):\n",
    "        return line\\\n",
    "            .split('Appeared on:')[-1]\\\n",
    "            .split('</mark>')[0].strip()\n",
    "\n",
    "    for fname in lst:\n",
    "        with open(fname, 'r') as f:\n",
    "            found_date = False\n",
    "            for line in f:\n",
    "                if not found_date:\n",
    "                    if \"Appeared on\" in line:\n",
    "                        found_date = True\n",
    "                        dates.append((fname, get_date(line)))\n",
    "                else:\n",
    "                    break\n",
    "    return dates\n",
    "\n",
    "from glob import glob\n",
    "lst = glob('_build/html/*md')\n",
    "days = 7\n",
    "dates = extract_appearance_dates(lst)\n",
    "res = list(get_last_n_days(dates, days))\n",
    "npub = len(res)\n",
    "print(len(res), f\" publications in the last {days:d} days.\")"
   ]
  },
  {
   "cell_type": "code",
   "execution_count": 12,
   "id": "52ca0208",
   "metadata": {
    "execution": {
     "iopub.execute_input": "2024-12-11T04:14:42.002110Z",
     "iopub.status.busy": "2024-12-11T04:14:42.001688Z",
     "iopub.status.idle": "2024-12-11T04:14:42.006497Z",
     "shell.execute_reply": "2024-12-11T04:14:42.005980Z"
    },
    "papermill": {
     "duration": 0.012982,
     "end_time": "2024-12-11T04:14:42.007415",
     "exception": false,
     "start_time": "2024-12-11T04:14:41.994433",
     "status": "completed"
    },
    "scrolled": false,
    "tags": []
   },
   "outputs": [],
   "source": [
    "def create_carousel(npub=4):\n",
    "    \"\"\" Generate the HTML code for a carousel with `npub` slides \"\"\"\n",
    "    carousel = [\"\"\"  <div class=\"carousel\" \"\"\",\n",
    "                \"\"\"       data-flickity='{ \"autoPlay\": 10000, \"adaptiveHeight\": true, \"resize\": true, \"wrapAround\": true, \"pauseAutoPlayOnHover\": true, \"groupCells\": 1 }' id=\"asyncTypeset\">\"\"\"\n",
    "                ]\n",
    "    \n",
    "    item_str = \"\"\"    <div class=\"carousel-cell\"> <div id=\"slide{k}\" class=\"md_view\">Content {k}</div> </div>\"\"\"\n",
    "    for k in range(1, npub + 1):\n",
    "        carousel.append(item_str.format(k=k))\n",
    "    carousel.append(\"  </div>\")\n",
    "    return '\\n'.join(carousel)\n",
    "\n",
    "def create_grid(npub=4):\n",
    "    \"\"\" Generate the HTML code for a flat grid with `npub` slides \"\"\"\n",
    "    grid = [\"\"\"  <div class=\"grid\"> \"\"\",\n",
    "                ]\n",
    "    \n",
    "    item_str = \"\"\"    <div class=\"grid-item\"> <div id=\"slide{k}\" class=\"md_view\">Content {k}</div> </div>\"\"\"\n",
    "    for k in range(1, npub + 1):\n",
    "        grid.append(item_str.format(k=k))\n",
    "    grid.append(\"  </div>\")\n",
    "    return '\\n'.join(grid)"
   ]
  },
  {
   "cell_type": "code",
   "execution_count": 13,
   "id": "a6eac5b6",
   "metadata": {
    "execution": {
     "iopub.execute_input": "2024-12-11T04:14:42.021435Z",
     "iopub.status.busy": "2024-12-11T04:14:42.021239Z",
     "iopub.status.idle": "2024-12-11T04:14:42.026392Z",
     "shell.execute_reply": "2024-12-11T04:14:42.025838Z"
    },
    "papermill": {
     "duration": 0.013313,
     "end_time": "2024-12-11T04:14:42.027392",
     "exception": false,
     "start_time": "2024-12-11T04:14:42.014079",
     "status": "completed"
    },
    "scrolled": false,
    "tags": []
   },
   "outputs": [],
   "source": [
    "carousel = create_carousel(npub)\n",
    "docs = ', '.join(['\"{0:s}\"'.format(k.split('/')[-1]) for k in res])\n",
    "slides = ', '.join([f'\"slide{k}\"' for k in range(1, npub + 1)])\n",
    "\n",
    "with open(\"daily_template.html\", \"r\") as tpl:\n",
    "    page = tpl.read()\n",
    "    page = page.replace(\"{%-- carousel:s --%}\", carousel)\\\n",
    "               .replace(\"{%-- suptitle:s --%}\",  \"7-day archives\" )\\\n",
    "               .replace(\"{%-- docs:s --%}\", docs)\\\n",
    "               .replace(\"{%-- slides:s --%}\", slides)\n",
    "    \n",
    "with open(\"_build/html/index_7days.html\", 'w') as fout:\n",
    "    fout.write(page)"
   ]
  },
  {
   "cell_type": "code",
   "execution_count": 14,
   "id": "adc1a1ec",
   "metadata": {
    "execution": {
     "iopub.execute_input": "2024-12-11T04:14:42.041662Z",
     "iopub.status.busy": "2024-12-11T04:14:42.041249Z",
     "iopub.status.idle": "2024-12-11T04:14:42.047851Z",
     "shell.execute_reply": "2024-12-11T04:14:42.047230Z"
    },
    "papermill": {
     "duration": 0.014728,
     "end_time": "2024-12-11T04:14:42.048850",
     "exception": false,
     "start_time": "2024-12-11T04:14:42.034122",
     "status": "completed"
    },
    "tags": []
   },
   "outputs": [
    {
     "name": "stdout",
     "output_type": "stream",
     "text": [
      "7  publications in the last day.\n"
     ]
    }
   ],
   "source": [
    "# redo for today\n",
    "days = 1\n",
    "res = list(get_last_n_days(dates, days))\n",
    "npub = len(res)\n",
    "print(len(res), f\" publications in the last day.\")\n",
    "\n",
    "carousel = create_carousel(npub)\n",
    "docs = ', '.join(['\"{0:s}\"'.format(k.split('/')[-1]) for k in res])\n",
    "slides = ', '.join([f'\"slide{k}\"' for k in range(1, npub + 1)])\n",
    "\n",
    "with open(\"daily_template.html\", \"r\") as tpl:\n",
    "    page = tpl.read()\n",
    "    page = page.replace(\"{%-- carousel:s --%}\", carousel)\\\n",
    "               .replace(\"{%-- suptitle:s --%}\",  \"Daily\" )\\\n",
    "               .replace(\"{%-- docs:s --%}\", docs)\\\n",
    "               .replace(\"{%-- slides:s --%}\", slides)\n",
    "    \n",
    "# print(carousel, docs, slides)\n",
    "# print(page)\n",
    "with open(\"_build/html/index_daily.html\", 'w') as fout:\n",
    "    fout.write(page)"
   ]
  },
  {
   "cell_type": "code",
   "execution_count": 15,
   "id": "00eece82",
   "metadata": {
    "execution": {
     "iopub.execute_input": "2024-12-11T04:14:42.062964Z",
     "iopub.status.busy": "2024-12-11T04:14:42.062751Z",
     "iopub.status.idle": "2024-12-11T04:14:42.069207Z",
     "shell.execute_reply": "2024-12-11T04:14:42.068562Z"
    },
    "papermill": {
     "duration": 0.014554,
     "end_time": "2024-12-11T04:14:42.070153",
     "exception": false,
     "start_time": "2024-12-11T04:14:42.055599",
     "status": "completed"
    },
    "scrolled": false,
    "tags": []
   },
   "outputs": [
    {
     "name": "stdout",
     "output_type": "stream",
     "text": [
      "6  6 publications selected.\n"
     ]
    }
   ],
   "source": [
    "# Create the flat grid of the last N papers (fixed number regardless of dates)\n",
    "from itertools import islice \n",
    "\n",
    "npub = 6\n",
    "res = [k[0] for k in (islice(reversed(sorted(dates, key=lambda x: x[1])), 6))]\n",
    "print(len(res), f\" {npub} publications selected.\")\n",
    "\n",
    "grid = create_grid(npub)\n",
    "docs = ', '.join(['\"{0:s}\"'.format(k.split('/')[-1]) for k in res])\n",
    "slides = ', '.join([f'\"slide{k}\"' for k in range(1, npub + 1)])\n",
    "\n",
    "with open(\"grid_template.html\", \"r\") as tpl:\n",
    "    page = tpl.read()\n",
    "    page = page.replace(\"{%-- grid-content:s --%}\", grid)\\\n",
    "               .replace(\"{%-- suptitle:s --%}\",  f\"Last {npub:,d} papers\" )\\\n",
    "               .replace(\"{%-- docs:s --%}\", docs)\\\n",
    "               .replace(\"{%-- slides:s --%}\", slides)\n",
    "    \n",
    "# print(grid, docs, slides)\n",
    "# print(page)\n",
    "with open(\"_build/html/index_npub_grid.html\", 'w') as fout:\n",
    "    fout.write(page)"
   ]
  }
 ],
 "metadata": {
  "kernelspec": {
   "display_name": "Python 3 (ipykernel)",
   "language": "python",
   "name": "python3"
  },
  "language_info": {
   "codemirror_mode": {
    "name": "ipython",
    "version": 3
   },
   "file_extension": ".py",
   "mimetype": "text/x-python",
   "name": "python",
   "nbconvert_exporter": "python",
   "pygments_lexer": "ipython3",
   "version": "3.9.20"
  },
  "papermill": {
   "default_parameters": {},
   "duration": 139.958355,
   "end_time": "2024-12-11T04:14:42.293578",
   "environment_variables": {},
   "exception": null,
   "input_path": "MPIA daily digest.ipynb",
   "output_path": "log.ipynb",
   "parameters": {},
   "start_time": "2024-12-11T04:12:22.335223",
   "version": "2.6.0"
  },
  "vscode": {
   "interpreter": {
    "hash": "aee8b7b246df8f9039afb4144a1f6fd8d2ca17a180786b69acc140d282b71a49"
   }
  },
  "widgets": {
   "application/vnd.jupyter.widget-state+json": {
    "state": {
     "02ef7437a1e04a038721d561c9d10b0e": {
      "model_module": "@jupyter-widgets/controls",
      "model_module_version": "2.0.0",
      "model_name": "HTMLStyleModel",
      "state": {
       "_model_module": "@jupyter-widgets/controls",
       "_model_module_version": "2.0.0",
       "_model_name": "HTMLStyleModel",
       "_view_count": null,
       "_view_module": "@jupyter-widgets/base",
       "_view_module_version": "2.0.0",
       "_view_name": "StyleView",
       "background": null,
       "description_width": "",
       "font_size": null,
       "text_color": null
      }
     },
     "23137773489f45eabeef48ca0c3512ab": {
      "model_module": "@jupyter-widgets/base",
      "model_module_version": "2.0.0",
      "model_name": "LayoutModel",
      "state": {
       "_model_module": "@jupyter-widgets/base",
       "_model_module_version": "2.0.0",
       "_model_name": "LayoutModel",
       "_view_count": null,
       "_view_module": "@jupyter-widgets/base",
       "_view_module_version": "2.0.0",
       "_view_name": "LayoutView",
       "align_content": null,
       "align_items": null,
       "align_self": null,
       "border_bottom": null,
       "border_left": null,
       "border_right": null,
       "border_top": null,
       "bottom": null,
       "display": null,
       "flex": null,
       "flex_flow": null,
       "grid_area": null,
       "grid_auto_columns": null,
       "grid_auto_flow": null,
       "grid_auto_rows": null,
       "grid_column": null,
       "grid_gap": null,
       "grid_row": null,
       "grid_template_areas": null,
       "grid_template_columns": null,
       "grid_template_rows": null,
       "height": null,
       "justify_content": null,
       "justify_items": null,
       "left": null,
       "margin": null,
       "max_height": null,
       "max_width": null,
       "min_height": null,
       "min_width": null,
       "object_fit": null,
       "object_position": null,
       "order": null,
       "overflow": null,
       "padding": null,
       "right": null,
       "top": null,
       "visibility": null,
       "width": null
      }
     },
     "23e2b12aaed9422eafcfe27b1b0195c3": {
      "model_module": "@jupyter-widgets/base",
      "model_module_version": "2.0.0",
      "model_name": "LayoutModel",
      "state": {
       "_model_module": "@jupyter-widgets/base",
       "_model_module_version": "2.0.0",
       "_model_name": "LayoutModel",
       "_view_count": null,
       "_view_module": "@jupyter-widgets/base",
       "_view_module_version": "2.0.0",
       "_view_name": "LayoutView",
       "align_content": null,
       "align_items": null,
       "align_self": null,
       "border_bottom": null,
       "border_left": null,
       "border_right": null,
       "border_top": null,
       "bottom": null,
       "display": null,
       "flex": null,
       "flex_flow": null,
       "grid_area": null,
       "grid_auto_columns": null,
       "grid_auto_flow": null,
       "grid_auto_rows": null,
       "grid_column": null,
       "grid_gap": null,
       "grid_row": null,
       "grid_template_areas": null,
       "grid_template_columns": null,
       "grid_template_rows": null,
       "height": null,
       "justify_content": null,
       "justify_items": null,
       "left": null,
       "margin": null,
       "max_height": null,
       "max_width": null,
       "min_height": null,
       "min_width": null,
       "object_fit": null,
       "object_position": null,
       "order": null,
       "overflow": null,
       "padding": null,
       "right": null,
       "top": null,
       "visibility": null,
       "width": null
      }
     },
     "2bd46b27613e40178a0e926ea9de5add": {
      "model_module": "@jupyter-widgets/controls",
      "model_module_version": "2.0.0",
      "model_name": "FloatProgressModel",
      "state": {
       "_dom_classes": [],
       "_model_module": "@jupyter-widgets/controls",
       "_model_module_version": "2.0.0",
       "_model_name": "FloatProgressModel",
       "_view_count": null,
       "_view_module": "@jupyter-widgets/controls",
       "_view_module_version": "2.0.0",
       "_view_name": "ProgressView",
       "bar_style": "success",
       "description": "",
       "description_allow_html": false,
       "layout": "IPY_MODEL_74444e4eb89046b19a733c89aa1ea2ac",
       "max": 7.0,
       "min": 0.0,
       "orientation": "horizontal",
       "style": "IPY_MODEL_df363fc1b6fc425ea2b9657edec48202",
       "tabbable": null,
       "tooltip": null,
       "value": 7.0
      }
     },
     "2ebcca8061c44332ae017a1f5d1f6ce8": {
      "model_module": "@jupyter-widgets/controls",
      "model_module_version": "2.0.0",
      "model_name": "HTMLStyleModel",
      "state": {
       "_model_module": "@jupyter-widgets/controls",
       "_model_module_version": "2.0.0",
       "_model_name": "HTMLStyleModel",
       "_view_count": null,
       "_view_module": "@jupyter-widgets/base",
       "_view_module_version": "2.0.0",
       "_view_name": "StyleView",
       "background": null,
       "description_width": "",
       "font_size": null,
       "text_color": null
      }
     },
     "5529881c9580452599f489da122f2c95": {
      "model_module": "@jupyter-widgets/controls",
      "model_module_version": "2.0.0",
      "model_name": "HTMLModel",
      "state": {
       "_dom_classes": [],
       "_model_module": "@jupyter-widgets/controls",
       "_model_module_version": "2.0.0",
       "_model_name": "HTMLModel",
       "_view_count": null,
       "_view_module": "@jupyter-widgets/controls",
       "_view_module_version": "2.0.0",
       "_view_name": "HTMLView",
       "description": "",
       "description_allow_html": false,
       "layout": "IPY_MODEL_23137773489f45eabeef48ca0c3512ab",
       "placeholder": "​",
       "style": "IPY_MODEL_02ef7437a1e04a038721d561c9d10b0e",
       "tabbable": null,
       "tooltip": null,
       "value": " 7/7 [01:58&lt;00:00, 21.46s/it]"
      }
     },
     "6810276e53ec4f34bbcef92d4d37ede9": {
      "model_module": "@jupyter-widgets/base",
      "model_module_version": "2.0.0",
      "model_name": "LayoutModel",
      "state": {
       "_model_module": "@jupyter-widgets/base",
       "_model_module_version": "2.0.0",
       "_model_name": "LayoutModel",
       "_view_count": null,
       "_view_module": "@jupyter-widgets/base",
       "_view_module_version": "2.0.0",
       "_view_name": "LayoutView",
       "align_content": null,
       "align_items": null,
       "align_self": null,
       "border_bottom": null,
       "border_left": null,
       "border_right": null,
       "border_top": null,
       "bottom": null,
       "display": null,
       "flex": null,
       "flex_flow": null,
       "grid_area": null,
       "grid_auto_columns": null,
       "grid_auto_flow": null,
       "grid_auto_rows": null,
       "grid_column": null,
       "grid_gap": null,
       "grid_row": null,
       "grid_template_areas": null,
       "grid_template_columns": null,
       "grid_template_rows": null,
       "height": null,
       "justify_content": null,
       "justify_items": null,
       "left": null,
       "margin": null,
       "max_height": null,
       "max_width": null,
       "min_height": null,
       "min_width": null,
       "object_fit": null,
       "object_position": null,
       "order": null,
       "overflow": null,
       "padding": null,
       "right": null,
       "top": null,
       "visibility": null,
       "width": null
      }
     },
     "74444e4eb89046b19a733c89aa1ea2ac": {
      "model_module": "@jupyter-widgets/base",
      "model_module_version": "2.0.0",
      "model_name": "LayoutModel",
      "state": {
       "_model_module": "@jupyter-widgets/base",
       "_model_module_version": "2.0.0",
       "_model_name": "LayoutModel",
       "_view_count": null,
       "_view_module": "@jupyter-widgets/base",
       "_view_module_version": "2.0.0",
       "_view_name": "LayoutView",
       "align_content": null,
       "align_items": null,
       "align_self": null,
       "border_bottom": null,
       "border_left": null,
       "border_right": null,
       "border_top": null,
       "bottom": null,
       "display": null,
       "flex": null,
       "flex_flow": null,
       "grid_area": null,
       "grid_auto_columns": null,
       "grid_auto_flow": null,
       "grid_auto_rows": null,
       "grid_column": null,
       "grid_gap": null,
       "grid_row": null,
       "grid_template_areas": null,
       "grid_template_columns": null,
       "grid_template_rows": null,
       "height": null,
       "justify_content": null,
       "justify_items": null,
       "left": null,
       "margin": null,
       "max_height": null,
       "max_width": null,
       "min_height": null,
       "min_width": null,
       "object_fit": null,
       "object_position": null,
       "order": null,
       "overflow": null,
       "padding": null,
       "right": null,
       "top": null,
       "visibility": null,
       "width": null
      }
     },
     "df363fc1b6fc425ea2b9657edec48202": {
      "model_module": "@jupyter-widgets/controls",
      "model_module_version": "2.0.0",
      "model_name": "ProgressStyleModel",
      "state": {
       "_model_module": "@jupyter-widgets/controls",
       "_model_module_version": "2.0.0",
       "_model_name": "ProgressStyleModel",
       "_view_count": null,
       "_view_module": "@jupyter-widgets/base",
       "_view_module_version": "2.0.0",
       "_view_name": "StyleView",
       "bar_color": null,
       "description_width": ""
      }
     },
     "ea99f94f962742e8a82e731bd9f323d0": {
      "model_module": "@jupyter-widgets/controls",
      "model_module_version": "2.0.0",
      "model_name": "HTMLModel",
      "state": {
       "_dom_classes": [],
       "_model_module": "@jupyter-widgets/controls",
       "_model_module_version": "2.0.0",
       "_model_name": "HTMLModel",
       "_view_count": null,
       "_view_module": "@jupyter-widgets/controls",
       "_view_module_version": "2.0.0",
       "_view_name": "HTMLView",
       "description": "",
       "description_allow_html": false,
       "layout": "IPY_MODEL_23e2b12aaed9422eafcfe27b1b0195c3",
       "placeholder": "​",
       "style": "IPY_MODEL_2ebcca8061c44332ae017a1f5d1f6ce8",
       "tabbable": null,
       "tooltip": null,
       "value": "100%"
      }
     },
     "f7a317812a77464c88e29d680f00c0fe": {
      "model_module": "@jupyter-widgets/controls",
      "model_module_version": "2.0.0",
      "model_name": "HBoxModel",
      "state": {
       "_dom_classes": [],
       "_model_module": "@jupyter-widgets/controls",
       "_model_module_version": "2.0.0",
       "_model_name": "HBoxModel",
       "_view_count": null,
       "_view_module": "@jupyter-widgets/controls",
       "_view_module_version": "2.0.0",
       "_view_name": "HBoxView",
       "box_style": "",
       "children": [
        "IPY_MODEL_ea99f94f962742e8a82e731bd9f323d0",
        "IPY_MODEL_2bd46b27613e40178a0e926ea9de5add",
        "IPY_MODEL_5529881c9580452599f489da122f2c95"
       ],
       "layout": "IPY_MODEL_6810276e53ec4f34bbcef92d4d37ede9",
       "tabbable": null,
       "tooltip": null
      }
     }
    },
    "version_major": 2,
    "version_minor": 0
   }
  }
 },
 "nbformat": 4,
 "nbformat_minor": 5
}