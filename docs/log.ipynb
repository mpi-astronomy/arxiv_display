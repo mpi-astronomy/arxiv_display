{
 "cells": [
  {
   "cell_type": "markdown",
   "id": "92bcb855",
   "metadata": {
    "papermill": {
     "duration": 0.003848,
     "end_time": "2025-04-08T04:11:50.777067",
     "exception": false,
     "start_time": "2025-04-08T04:11:50.773219",
     "status": "completed"
    },
    "tags": []
   },
   "source": [
    "# MPIA Arxiv on Deck 2\n",
    "\n",
    "Contains the steps to produce the paper extractions."
   ]
  },
  {
   "cell_type": "code",
   "execution_count": 1,
   "id": "3a0d6e11",
   "metadata": {
    "execution": {
     "iopub.execute_input": "2025-04-08T04:11:50.784647Z",
     "iopub.status.busy": "2025-04-08T04:11:50.784368Z",
     "iopub.status.idle": "2025-04-08T04:11:51.259722Z",
     "shell.execute_reply": "2025-04-08T04:11:51.259086Z"
    },
    "papermill": {
     "duration": 0.480521,
     "end_time": "2025-04-08T04:11:51.260992",
     "exception": false,
     "start_time": "2025-04-08T04:11:50.780471",
     "status": "completed"
    },
    "tags": []
   },
   "outputs": [],
   "source": [
    "# Imports\n",
    "import os\n",
    "from IPython.display import Markdown, display\n",
    "from tqdm.notebook import tqdm\n",
    "import warnings\n",
    "from PIL import Image \n",
    "import re\n",
    "\n",
    "# requires arxiv_on_deck_2\n",
    "\n",
    "from arxiv_on_deck_2.arxiv2 import (get_new_papers, \n",
    "                                    get_paper_from_identifier,\n",
    "                                    retrieve_document_source, \n",
    "                                    get_markdown_badge)\n",
    "from arxiv_on_deck_2 import (latex,\n",
    "                             latex_bib,\n",
    "                             mpia,\n",
    "                             highlight_authors_in_list)\n",
    "\n",
    "# Sometimes images are really big\n",
    "Image.MAX_IMAGE_PIXELS = 1000000000 "
   ]
  },
  {
   "cell_type": "code",
   "execution_count": 2,
   "id": "22aa9d44",
   "metadata": {
    "execution": {
     "iopub.execute_input": "2025-04-08T04:11:51.268274Z",
     "iopub.status.busy": "2025-04-08T04:11:51.267832Z",
     "iopub.status.idle": "2025-04-08T04:11:51.275986Z",
     "shell.execute_reply": "2025-04-08T04:11:51.275367Z"
    },
    "papermill": {
     "duration": 0.012798,
     "end_time": "2025-04-08T04:11:51.276990",
     "exception": false,
     "start_time": "2025-04-08T04:11:51.264192",
     "status": "completed"
    },
    "tags": []
   },
   "outputs": [],
   "source": [
    "# Some useful definitions.\n",
    "\n",
    "class AffiliationWarning(UserWarning):\n",
    "    pass\n",
    "\n",
    "class AffiliationError(RuntimeError):\n",
    "    pass\n",
    "\n",
    "def validation(source: str):\n",
    "    \"\"\"Raises error paper during parsing of source file\n",
    "    \n",
    "    Allows checks before parsing TeX code.\n",
    "    \n",
    "    Raises AffiliationWarning\n",
    "    \"\"\"\n",
    "    check = mpia.affiliation_verifications(source, verbose=True)\n",
    "    if check is not True:\n",
    "        raise AffiliationError(\"mpia.affiliation_verifications: \" + check)\n",
    "\n",
    "        \n",
    "warnings.simplefilter('always', AffiliationWarning)\n",
    "\n",
    "\n",
    "def get_markdown_qrcode(paper_id: str):\n",
    "    \"\"\" Generate a qrcode to the arxiv page using qrserver.com\n",
    "    \n",
    "    :param paper: Arxiv paper\n",
    "    :returns: markdown text\n",
    "    \"\"\"\n",
    "    url = r\"https://api.qrserver.com/v1/create-qr-code/?size=100x100&data=\"\n",
    "    txt = f\"\"\"<img src={url}\"https://arxiv.org/abs/{paper_id}\">\"\"\"\n",
    "    txt = '<div id=\"qrcode\">' + txt + '</div>'\n",
    "    return txt\n",
    "\n",
    "\n",
    "def clean_non_western_encoded_characters_commands(text: str) -> str:\n",
    "    \"\"\" Remove non-western encoded characters from a string\n",
    "    List may need to grow.\n",
    "    \n",
    "    :param text: the text to clean\n",
    "    :return: the cleaned text\n",
    "    \"\"\"\n",
    "    text = re.sub(r\"(\\\\begin{CJK}{UTF8}{gbsn})(.*?)(\\\\end{CJK})\", r\"\\2\", text)\n",
    "    return text\n",
    "\n",
    "\n",
    "def get_initials(name: str) -> str:\n",
    "    \"\"\" Get the short name, e.g., A.-B. FamName\n",
    "    :param name: full name\n",
    "    :returns: initials\n",
    "    \"\"\"\n",
    "    initials = []\n",
    "    # account for non western names often in ()\n",
    "    if '(' in name:\n",
    "        name = clean_non_western_encoded_characters_commands(name)\n",
    "        suffix = re.findall(r\"\\((.*?)\\)\", name)[0]\n",
    "        name = name.replace(f\"({suffix})\", '')\n",
    "    else:\n",
    "        suffix = ''\n",
    "    split = name.split()\n",
    "    for token in split[:-1]:\n",
    "        if '-' in token:\n",
    "            current = '-'.join([k[0] + '.' for k in token.split('-')])\n",
    "        else:\n",
    "            current = token[0] + '.'\n",
    "        initials.append(current)\n",
    "    initials.append(split[-1].strip())\n",
    "    if suffix:\n",
    "        initials.append(f\"({suffix})\")\n",
    "    return ' '.join(initials)"
   ]
  },
  {
   "cell_type": "markdown",
   "id": "14bd6310",
   "metadata": {
    "papermill": {
     "duration": 0.002869,
     "end_time": "2025-04-08T04:11:51.282895",
     "exception": false,
     "start_time": "2025-04-08T04:11:51.280026",
     "status": "completed"
    },
    "tags": []
   },
   "source": [
    "## get list of arxiv paper candidates\n",
    "\n",
    "We use the MPIA mitarbeiter list webpage from mpia.de to get author names\n",
    "We then get all new papers from Arxiv and match authors"
   ]
  },
  {
   "cell_type": "code",
   "execution_count": 3,
   "id": "7ea813a8",
   "metadata": {
    "execution": {
     "iopub.execute_input": "2025-04-08T04:11:51.289686Z",
     "iopub.status.busy": "2025-04-08T04:11:51.289288Z",
     "iopub.status.idle": "2025-04-08T04:12:12.226096Z",
     "shell.execute_reply": "2025-04-08T04:12:12.225480Z"
    },
    "papermill": {
     "duration": 20.941565,
     "end_time": "2025-04-08T04:12:12.227384",
     "exception": false,
     "start_time": "2025-04-08T04:11:51.285819",
     "status": "completed"
    },
    "tags": []
   },
   "outputs": [],
   "source": [
    "# deal with the author list and edge cases of people that cannot be consistent on their name  \n",
    "\n",
    "def filter_non_scientists(name: str) -> bool:\n",
    "    \"\"\" Loose filter on expected authorships\n",
    "\n",
    "    removing IT, administration, technical staff\n",
    "    :param name: name\n",
    "    :returns: False if name is not a scientist\n",
    "    \"\"\"\n",
    "    remove_list = ['Licht', 'Binroth', 'Witzel', 'Jordan',\n",
    "                   'Zähringer', 'Scheerer', 'Hoffmann', 'Düe',\n",
    "                   'Hellmich', 'Enkler-Scharpegge', 'Witte-Nguy',\n",
    "                   'Dehen', 'Beckmann', 'Jager', 'Jäger'\n",
    "                  ]\n",
    "\n",
    "    for k in remove_list:\n",
    "        if k in name:\n",
    "            return False\n",
    "    return True\n",
    "\n",
    "def add_author_to_list(author_list: list) -> list:\n",
    "    \"\"\" Add author to list if not already in list\n",
    "    \n",
    "    :param author: author name\n",
    "    :param author_list: list of authors\n",
    "    :returns: updated list of authors\n",
    "    \"\"\"\n",
    "    add_list = ['T. Henning']\n",
    "\n",
    "    for author in add_list:\n",
    "        if author not in author_list:\n",
    "            author_list.append(author)\n",
    "    return author_list\n",
    "\n",
    "# get list from MPIA website\n",
    "# filter for non-scientists (mpia.get_mpia_mitarbeiter_list() does some filtering)\n",
    "mpia_authors = [k[1] for k in mpia.get_mpia_mitarbeiter_list() if filter_non_scientists(k[1])]\n",
    "# add some missing author because of inconsistencies in their MPIA name and author name on papers\n",
    "mpia_authors = add_author_to_list(mpia_authors)"
   ]
  },
  {
   "cell_type": "code",
   "execution_count": 4,
   "id": "2645e73a",
   "metadata": {
    "execution": {
     "iopub.execute_input": "2025-04-08T04:12:12.234872Z",
     "iopub.status.busy": "2025-04-08T04:12:12.234452Z",
     "iopub.status.idle": "2025-04-08T04:12:13.177839Z",
     "shell.execute_reply": "2025-04-08T04:12:13.177159Z"
    },
    "papermill": {
     "duration": 0.948086,
     "end_time": "2025-04-08T04:12:13.178831",
     "exception": false,
     "start_time": "2025-04-08T04:12:12.230745",
     "status": "completed"
    },
    "tags": []
   },
   "outputs": [
    {
     "name": "stdout",
     "output_type": "stream",
     "text": [
      "M. Benisty  ->  M. Benisty  |  ['M. Benisty']\n",
      "A. Pillepich  ->  A. Pillepich  |  ['A. Pillepich']\n",
      "J. Liu  ->  J. Liu  |  ['J. Liu']\n",
      "Y. Wang  ->  Y. Wang  |  ['Y. Wang']\n",
      "X. Zhang  ->  X. Zhang  |  ['X. Zhang']\n",
      "J. Liu  ->  J. Liu  |  ['J. Liu']\n",
      "X. Zhang  ->  X. Zhang  |  ['X. Zhang']\n",
      "J. Liu  ->  J. Liu  |  ['J. Liu']\n",
      "X. Zhang  ->  X. Zhang  |  ['X. Zhang']\n"
     ]
    },
    {
     "name": "stdout",
     "output_type": "stream",
     "text": [
      "Y. Wang  ->  Y. Wang  |  ['Y. Wang']\n",
      "J. Liu  ->  J. Liu  |  ['J. Liu']\n",
      "Arxiv has 91 new papers today\n",
      "          8 with possible author matches\n"
     ]
    }
   ],
   "source": [
    "new_papers = get_new_papers()\n",
    "# add manual references\n",
    "add_paper_refs = []\n",
    "new_papers.extend([get_paper_from_identifier(k) for k in add_paper_refs])\n",
    "\n",
    "def robust_call(fn, value, *args, **kwargs):\n",
    "    try:\n",
    "        return fn(value, *args, **kwargs)\n",
    "    except Exception:\n",
    "        return value\n",
    "\n",
    "candidates = []\n",
    "for paperk in new_papers:\n",
    "    # Check author list with their initials\n",
    "    normed_author_list = [robust_call(mpia.get_initials, k) for k in paperk['authors']]\n",
    "    hl_authors = highlight_authors_in_list(normed_author_list, mpia_authors, verbose=True)\n",
    "    matches = [(hl, orig) for hl, orig in zip(hl_authors, paperk['authors']) if 'mark' in hl]\n",
    "    paperk['authors'] = hl_authors\n",
    "    if matches:\n",
    "        # only select paper if an author matched our list\n",
    "        candidates.append(paperk)\n",
    "print(\"\"\"Arxiv has {0:,d} new papers today\"\"\".format(len(new_papers)))        \n",
    "print(\"\"\"          {0:,d} with possible author matches\"\"\".format(len(candidates)))"
   ]
  },
  {
   "cell_type": "markdown",
   "id": "3543b34a",
   "metadata": {
    "papermill": {
     "duration": 0.003132,
     "end_time": "2025-04-08T04:12:13.185574",
     "exception": false,
     "start_time": "2025-04-08T04:12:13.182442",
     "status": "completed"
    },
    "tags": []
   },
   "source": [
    "# Parse sources and generate relevant outputs\n",
    "\n",
    "From the candidates, we do the following steps:\n",
    "* get their tarball from ArXiv (and extract data)\n",
    "* find the main .tex file: find one with \\documentclass{...} (sometimes it's non trivial)\n",
    "* Check affiliations with :func:`validation`, which uses :func:`mpia.affiliation_verifications`\n",
    "* If passing the affiliations: we parse the .tex source\n",
    "   * inject sub-documents into the main (flatten the main document)\n",
    "   * parse structure, extract information (title, abstract, authors, figures...)\n",
    "   * handles `\\graphicspath` if provided\n",
    "* Generate the .md document."
   ]
  },
  {
   "cell_type": "code",
   "execution_count": 5,
   "id": "9576b79e",
   "metadata": {
    "execution": {
     "iopub.execute_input": "2025-04-08T04:12:13.192833Z",
     "iopub.status.busy": "2025-04-08T04:12:13.192586Z",
     "iopub.status.idle": "2025-04-08T04:13:19.414964Z",
     "shell.execute_reply": "2025-04-08T04:13:19.414258Z"
    },
    "papermill": {
     "duration": 66.23159,
     "end_time": "2025-04-08T04:13:19.420316",
     "exception": false,
     "start_time": "2025-04-08T04:12:13.188726",
     "status": "completed"
    },
    "scrolled": false,
    "tags": []
   },
   "outputs": [
    {
     "data": {
      "application/vnd.jupyter.widget-view+json": {
       "model_id": "83b6f9ca225a43bb808c2ebdebc5fdab",
       "version_major": 2,
       "version_minor": 0
      },
      "text/plain": [
       "  0%|          | 0/8 [00:00<?, ?it/s]"
      ]
     },
     "metadata": {},
     "output_type": "display_data"
    },
    {
     "name": "stdout",
     "output_type": "stream",
     "text": [
      "Retrieving document from  https://arxiv.org/e-print/2504.03833\n"
     ]
    },
    {
     "name": "stdout",
     "output_type": "stream",
     "text": [
      "extracting tarball to tmp_2504.03833..."
     ]
    },
    {
     "name": "stdout",
     "output_type": "stream",
     "text": [
      " done.\n"
     ]
    },
    {
     "name": "stdout",
     "output_type": "stream",
     "text": [
      "M. Benisty  ->  M. Benisty  |  ['M. Benisty']\n"
     ]
    },
    {
     "name": "stdout",
     "output_type": "stream",
     "text": [
      "Found 136 bibliographic references in tmp_2504.03833/aa.bbl.\n",
      "Retrieving document from  https://arxiv.org/e-print/2504.03836\n"
     ]
    },
    {
     "name": "stdout",
     "output_type": "stream",
     "text": [
      "extracting tarball to tmp_2504.03836..."
     ]
    },
    {
     "name": "stdout",
     "output_type": "stream",
     "text": [
      " done.\n"
     ]
    },
    {
     "name": "stderr",
     "output_type": "stream",
     "text": [
      "/opt/hostedtoolcache/Python/3.9.21/x64/lib/python3.9/site-packages/arxiv_on_deck_2/latex.py:132: LatexWarning: attempting recovering figure Figure3.pdf\n",
      "  warnings.warn(LatexWarning(f'attempting recovering figure {image}'))\n",
      "/opt/hostedtoolcache/Python/3.9.21/x64/lib/python3.9/site-packages/arxiv_on_deck_2/latex.py:707: LatexWarning: Could not find graphic \\includegraphics[width=3.15in]{Figure3.pdf}\n",
      "  warnings.warn(LatexWarning(f\"Could not find graphic {k}\"))\n",
      "/opt/hostedtoolcache/Python/3.9.21/x64/lib/python3.9/site-packages/arxiv_on_deck_2/latex.py:132: LatexWarning: attempting recovering figure Figure6.pdf\n",
      "  warnings.warn(LatexWarning(f'attempting recovering figure {image}'))\n",
      "/opt/hostedtoolcache/Python/3.9.21/x64/lib/python3.9/site-packages/arxiv_on_deck_2/latex.py:707: LatexWarning: Could not find graphic \\includegraphics[width=3.5in]{Figure6.pdf}\n",
      "  warnings.warn(LatexWarning(f\"Could not find graphic {k}\"))\n",
      "/opt/hostedtoolcache/Python/3.9.21/x64/lib/python3.9/site-packages/arxiv_on_deck_2/latex.py:132: LatexWarning: attempting recovering figure Figure7.pdf\n",
      "  warnings.warn(LatexWarning(f'attempting recovering figure {image}'))\n",
      "/opt/hostedtoolcache/Python/3.9.21/x64/lib/python3.9/site-packages/arxiv_on_deck_2/latex.py:707: LatexWarning: Could not find graphic \\includegraphics[width=3.5in]{Figure7.pdf}\n",
      "  warnings.warn(LatexWarning(f\"Could not find graphic {k}\"))\n",
      "/opt/hostedtoolcache/Python/3.9.21/x64/lib/python3.9/site-packages/arxiv_on_deck_2/latex.py:132: LatexWarning: attempting recovering figure Figure8.pdf\n",
      "  warnings.warn(LatexWarning(f'attempting recovering figure {image}'))\n",
      "/opt/hostedtoolcache/Python/3.9.21/x64/lib/python3.9/site-packages/arxiv_on_deck_2/latex.py:707: LatexWarning: Could not find graphic \\includegraphics[width=3.5in]{Figure8.pdf}\n",
      "  warnings.warn(LatexWarning(f\"Could not find graphic {k}\"))\n",
      "/opt/hostedtoolcache/Python/3.9.21/x64/lib/python3.9/site-packages/arxiv_on_deck_2/latex.py:132: LatexWarning: attempting recovering figure Figure9.pdf\n",
      "  warnings.warn(LatexWarning(f'attempting recovering figure {image}'))\n",
      "/opt/hostedtoolcache/Python/3.9.21/x64/lib/python3.9/site-packages/arxiv_on_deck_2/latex.py:707: LatexWarning: Could not find graphic \\includegraphics[width=3.55in]{Figure9.pdf}\n",
      "  warnings.warn(LatexWarning(f\"Could not find graphic {k}\"))\n",
      "/opt/hostedtoolcache/Python/3.9.21/x64/lib/python3.9/site-packages/arxiv_on_deck_2/latex.py:132: LatexWarning: attempting recovering figure Figure1.pdf\n",
      "  warnings.warn(LatexWarning(f'attempting recovering figure {image}'))\n",
      "/opt/hostedtoolcache/Python/3.9.21/x64/lib/python3.9/site-packages/arxiv_on_deck_2/latex.py:707: LatexWarning: Could not find graphic \\includegraphics[width=7.0in]{Figure1.pdf}\n",
      "  warnings.warn(LatexWarning(f\"Could not find graphic {k}\"))\n",
      "/opt/hostedtoolcache/Python/3.9.21/x64/lib/python3.9/site-packages/arxiv_on_deck_2/latex.py:132: LatexWarning: attempting recovering figure Figure2.pdf\n",
      "  warnings.warn(LatexWarning(f'attempting recovering figure {image}'))\n",
      "/opt/hostedtoolcache/Python/3.9.21/x64/lib/python3.9/site-packages/arxiv_on_deck_2/latex.py:707: LatexWarning: Could not find graphic \\includegraphics[width=6.5in]{Figure2.pdf}\n",
      "  warnings.warn(LatexWarning(f\"Could not find graphic {k}\"))\n",
      "/opt/hostedtoolcache/Python/3.9.21/x64/lib/python3.9/site-packages/arxiv_on_deck_2/latex.py:132: LatexWarning: attempting recovering figure Figure4.pdf\n",
      "  warnings.warn(LatexWarning(f'attempting recovering figure {image}'))\n",
      "/opt/hostedtoolcache/Python/3.9.21/x64/lib/python3.9/site-packages/arxiv_on_deck_2/latex.py:707: LatexWarning: Could not find graphic \\includegraphics[width=7.0in]{Figure4.pdf}\n",
      "  warnings.warn(LatexWarning(f\"Could not find graphic {k}\"))\n",
      "/opt/hostedtoolcache/Python/3.9.21/x64/lib/python3.9/site-packages/arxiv_on_deck_2/latex.py:132: LatexWarning: attempting recovering figure Figure5.pdf\n",
      "  warnings.warn(LatexWarning(f'attempting recovering figure {image}'))\n",
      "/opt/hostedtoolcache/Python/3.9.21/x64/lib/python3.9/site-packages/arxiv_on_deck_2/latex.py:707: LatexWarning: Could not find graphic \\includegraphics[width=7.0in]{Figure5.pdf}\n",
      "  warnings.warn(LatexWarning(f\"Could not find graphic {k}\"))\n",
      "/opt/hostedtoolcache/Python/3.9.21/x64/lib/python3.9/site-packages/arxiv_on_deck_2/latex.py:132: LatexWarning: attempting recovering figure Figure10.pdf\n",
      "  warnings.warn(LatexWarning(f'attempting recovering figure {image}'))\n",
      "/opt/hostedtoolcache/Python/3.9.21/x64/lib/python3.9/site-packages/arxiv_on_deck_2/latex.py:707: LatexWarning: Could not find graphic \\includegraphics[width=7.in]{Figure10.pdf}\n",
      "  warnings.warn(LatexWarning(f\"Could not find graphic {k}\"))\n",
      "/opt/hostedtoolcache/Python/3.9.21/x64/lib/python3.9/site-packages/arxiv_on_deck_2/latex.py:132: LatexWarning: attempting recovering figure Figure11.pdf\n",
      "  warnings.warn(LatexWarning(f'attempting recovering figure {image}'))\n",
      "/opt/hostedtoolcache/Python/3.9.21/x64/lib/python3.9/site-packages/arxiv_on_deck_2/latex.py:707: LatexWarning: Could not find graphic \\includegraphics[width=7.0in]{Figure11.pdf}\n",
      "  warnings.warn(LatexWarning(f\"Could not find graphic {k}\"))\n",
      "/opt/hostedtoolcache/Python/3.9.21/x64/lib/python3.9/site-packages/arxiv_on_deck_2/latex.py:132: LatexWarning: attempting recovering figure Figure12.pdf\n",
      "  warnings.warn(LatexWarning(f'attempting recovering figure {image}'))\n",
      "/opt/hostedtoolcache/Python/3.9.21/x64/lib/python3.9/site-packages/arxiv_on_deck_2/latex.py:707: LatexWarning: Could not find graphic \\includegraphics[width=6.in]{Figure12.pdf}\n",
      "  warnings.warn(LatexWarning(f\"Could not find graphic {k}\"))\n",
      "/opt/hostedtoolcache/Python/3.9.21/x64/lib/python3.9/site-packages/arxiv_on_deck_2/latex.py:132: LatexWarning: attempting recovering figure Figure13.pdf\n",
      "  warnings.warn(LatexWarning(f'attempting recovering figure {image}'))\n",
      "/opt/hostedtoolcache/Python/3.9.21/x64/lib/python3.9/site-packages/arxiv_on_deck_2/latex.py:707: LatexWarning: Could not find graphic \\includegraphics[width=7.in]{Figure13.pdf}\n",
      "  warnings.warn(LatexWarning(f\"Could not find graphic {k}\"))\n",
      "/opt/hostedtoolcache/Python/3.9.21/x64/lib/python3.9/site-packages/arxiv_on_deck_2/latex.py:132: LatexWarning: attempting recovering figure Figure14.pdf\n",
      "  warnings.warn(LatexWarning(f'attempting recovering figure {image}'))\n",
      "/opt/hostedtoolcache/Python/3.9.21/x64/lib/python3.9/site-packages/arxiv_on_deck_2/latex.py:707: LatexWarning: Could not find graphic \\includegraphics[width=7.25in]{Figure14.pdf}\n",
      "  warnings.warn(LatexWarning(f\"Could not find graphic {k}\"))\n"
     ]
    },
    {
     "name": "stdout",
     "output_type": "stream",
     "text": [
      "Found 207 bibliographic references in tmp_2504.03836/ms.bbl.\n",
      "Issues with the citations\n",
      "syntax error in line 739: '=' expected\n",
      "Retrieving document from  https://arxiv.org/e-print/2504.03856\n"
     ]
    },
    {
     "name": "stdout",
     "output_type": "stream",
     "text": [
      "extracting tarball to tmp_2504.03856..."
     ]
    },
    {
     "name": "stdout",
     "output_type": "stream",
     "text": [
      " done.\n",
      "Retrieving document from  https://arxiv.org/e-print/2504.04387\n"
     ]
    },
    {
     "name": "stdout",
     "output_type": "stream",
     "text": [
      "extracting tarball to tmp_2504.04387..."
     ]
    },
    {
     "name": "stdout",
     "output_type": "stream",
     "text": [
      " done.\n",
      "Retrieving document from  https://arxiv.org/e-print/2504.04393\n"
     ]
    },
    {
     "name": "stdout",
     "output_type": "stream",
     "text": [
      "extracting tarball to tmp_2504.04393..."
     ]
    },
    {
     "name": "stdout",
     "output_type": "stream",
     "text": [
      " done.\n",
      "Retrieving document from  https://arxiv.org/e-print/2504.04507\n"
     ]
    },
    {
     "name": "stdout",
     "output_type": "stream",
     "text": [
      "extracting tarball to tmp_2504.04507..."
     ]
    },
    {
     "name": "stdout",
     "output_type": "stream",
     "text": [
      " done.\n",
      "Retrieving document from  https://arxiv.org/e-print/2504.04648\n"
     ]
    },
    {
     "name": "stdout",
     "output_type": "stream",
     "text": [
      "extracting tarball to tmp_2504.04648..."
     ]
    },
    {
     "name": "stdout",
     "output_type": "stream",
     "text": [
      " done.\n",
      "Retrieving document from  https://arxiv.org/e-print/2504.05233\n"
     ]
    },
    {
     "name": "stdout",
     "output_type": "stream",
     "text": [
      "extracting tarball to tmp_2504.05233..."
     ]
    },
    {
     "name": "stdout",
     "output_type": "stream",
     "text": [
      " done.\n"
     ]
    }
   ],
   "source": [
    "documents = []\n",
    "failed = []\n",
    "for paper in tqdm(candidates):\n",
    "    # debug crap\n",
    "    paper['identifier'] = paper['identifier'].lower().replace('arxiv:', '').replace(r'\\n', '').strip()\n",
    "    paper_id = paper['identifier']\n",
    "    \n",
    "    folder = f'tmp_{paper_id}'\n",
    "\n",
    "    try:\n",
    "        if not os.path.isdir(folder):\n",
    "            folder = retrieve_document_source(f\"{paper_id}\", f'tmp_{paper_id}')\n",
    "        \n",
    "        try:\n",
    "            doc = latex.LatexDocument(folder, validation=validation)    \n",
    "        except AffiliationError as affilerror:\n",
    "            msg = f\"ArXiv:{paper_id:s} is not an MPIA paper... \" + str(affilerror)\n",
    "            failed.append((paper, \"affiliation error: \" + str(affilerror) ))\n",
    "            continue\n",
    "        \n",
    "        # Hack because sometimes author parsing does not work well\n",
    "        if (len(doc.authors) != len(paper['authors'])):\n",
    "            doc._authors = paper['authors']\n",
    "        else:\n",
    "            # highlight authors (FIXME: doc.highlight_authors)\n",
    "            # done on arxiv paper already\n",
    "            doc._authors = highlight_authors_in_list(\n",
    "                [get_initials(k) for k in doc.authors], \n",
    "                mpia_authors, verbose=True)\n",
    "        if (doc.abstract) in (None, ''):\n",
    "            doc._abstract = paper['abstract']\n",
    "            \n",
    "        doc.comment = (get_markdown_badge(paper_id) + \n",
    "                       \"<mark>Appeared on: \" + paper['date'] + \"</mark> - \")\n",
    "        if paper['comments']:\n",
    "            doc.comment += \" _\" + paper['comments'] + \"_\"\n",
    "        \n",
    "        full_md = doc.generate_markdown_text()\n",
    "        \n",
    "        full_md += get_markdown_qrcode(paper_id)\n",
    "        \n",
    "        # replace citations\n",
    "        try:\n",
    "            bibdata = latex_bib.LatexBib.from_doc(doc)\n",
    "            full_md = latex_bib.replace_citations(full_md, bibdata)\n",
    "        except Exception as e:\n",
    "            print(\"Issues with the citations\")\n",
    "            print(e)\n",
    "        \n",
    "        documents.append((paper_id, full_md))\n",
    "    except Exception as e:\n",
    "        warnings.warn(latex.LatexWarning(f\"{paper_id:s} did not run properly\\n\" +\n",
    "                                         str(e)\n",
    "                                        ))\n",
    "        failed.append((paper, \"latex error \" + str(e)))"
   ]
  },
  {
   "cell_type": "markdown",
   "id": "2505a25c",
   "metadata": {
    "papermill": {
     "duration": 0.00429,
     "end_time": "2025-04-08T04:13:19.428990",
     "exception": false,
     "start_time": "2025-04-08T04:13:19.424700",
     "status": "completed"
    },
    "tags": []
   },
   "source": [
    "### Export the logs\n",
    "\n",
    "Throughout, we also keep track of the logs per paper. see `logs-{today date}.md` "
   ]
  },
  {
   "cell_type": "code",
   "execution_count": 6,
   "id": "d733828a",
   "metadata": {
    "execution": {
     "iopub.execute_input": "2025-04-08T04:13:19.438556Z",
     "iopub.status.busy": "2025-04-08T04:13:19.438078Z",
     "iopub.status.idle": "2025-04-08T04:13:19.457800Z",
     "shell.execute_reply": "2025-04-08T04:13:19.457263Z"
    },
    "papermill": {
     "duration": 0.025624,
     "end_time": "2025-04-08T04:13:19.458783",
     "exception": false,
     "start_time": "2025-04-08T04:13:19.433159",
     "status": "completed"
    },
    "scrolled": false,
    "tags": []
   },
   "outputs": [
    {
     "data": {
      "text/markdown": [
       "## Successful papers"
      ],
      "text/plain": [
       "<IPython.core.display.Markdown object>"
      ]
     },
     "metadata": {},
     "output_type": "display_data"
    },
    {
     "data": {
      "text/markdown": [
       "\n",
       "|||\n",
       "|---:|:---|\n",
       "| [![arXiv](https://img.shields.io/badge/arXiv-2504.03833-b31b1b.svg)](https://arxiv.org/abs/2504.03833) | **Radial variations in nitrogen, carbon, and hydrogen fractionation in the PDS 70 planet-hosting disk**  |\n",
       "|| L. Rampinelli, et al. -- incl., <mark>M. Benisty</mark> |\n",
       "|*Appeared on*| *2025-04-08*|\n",
       "|*Comments*| *18 pages, 10 figures, 3 tables*|\n",
       "|**Abstract**|            Element isotopic ratios are powerful tools to reconstruct the journey of planetary material, from the parental molecular cloud to protoplanetary disks, where planets form and accrete their atmosphere. Radial variations in isotopic ratios in protoplanetary disks reveal local pathways which can critically affect the degree of isotope fractionation of planetary material. In this work we present spatially-resolved profiles of the 14N/15N, 12C/13C, and D/H isotopic ratios of the HCN molecule in the PDS 70 disk, which hosts two actively-accreting giant planets. ALMA high spatial resolution observations of HCN, H13CN, HC15N, and DCN reveal radial variations of fractionation profiles. We extract the HCN/HC15N ratio out to ~120 au, which shows a decreasing trend outside the inner cavity wall of the PDS 70 disk located at ~50 au. We suggest that the radial variations observed in the HCN/HC15N ratio are linked to isotope selective photodissociation of N2. We leverage the spectrally resolved hyperfine component of the HCN line to extract the radial profile of the HCN/H13CN ratio between ~40 and 90 au, obtaining a value consistent with the ISM 12C/13C ratio. The deuteration profile is also mostly constant throughout the disk extent, with a DCN/HCN ratio ~0.02, in line with other disk-averaged values and radial profiles in disks around T Tauri stars. The extracted radial profiles of isotopologue ratios show how different fractionation processes dominate at different spatial scales in the planet-hosting disk of PDS 70.         |"
      ],
      "text/plain": [
       "[2504.03833] Radial variations in nitrogen, carbon, and hydrogen fractionation in the PDS 70 planet-hosting disk\n",
       "\tL. Rampinelli, et al. -- incl., <mark>M. Benisty</mark>"
      ]
     },
     "metadata": {},
     "output_type": "display_data"
    },
    {
     "data": {
      "text/markdown": [
       "\n",
       "|||\n",
       "|---:|:---|\n",
       "| [![arXiv](https://img.shields.io/badge/arXiv-2504.03836-b31b1b.svg)](https://arxiv.org/abs/2504.03836) | **Quantifying the Impact of Incompleteness on Identifying and Interpreting Galaxy Protocluster Populations with the TNG-Cluster Simulation**  |\n",
       "|| D. C. Baxter, et al. -- incl., <mark>A. Pillepich</mark> |\n",
       "|*Appeared on*| *2025-04-08*|\n",
       "|*Comments*| *Key Figures: 3, 7, 9, and 13. The manuscript contains 28 pages and 14 figures. Submitted to ApJ. Comments are welcome*|\n",
       "|**Abstract**|            We use the TNG-Cluster simulation to examine how stellar mass and star formation rate (SFR) incompleteness affect the identification of density peaks within galaxy protoclusters at different redshifts. We focus on 352 protoclusters, defined as the set of galaxies that will reside within the virialized region of a $z=0$ cluster halo with total mass $\\sim10^{14.3-15.5}~{\\rm M}_{\\odot}$, and consider only galaxies with ${M}_{\\star}> 10^{8.5}~{\\rm M}_{\\odot}$ (our baseline) at any redshift. We find that ${M}_{\\star}$-limited (${M}_{\\star} > 10^{9.5}~{\\rm M}_{\\odot}$) and SFR-limited ($\\rm{SFR} > 10~{\\rm M}_{\\odot} \\mathrm{yr}^{-1}$) subpopulations only recover the true highest galaxy density peak in $\\lesssim40\\%$ of cases within an accuracy of $1.0$ pMpc ($\\sim 2-2.5$ arcmin) at $z > 2$. We find that at $z>2$ the highest galaxy density peaks do not generally coincide with the highest dark matter or stellar mass density peaks, and this separation is larger than 0.5 pMpc in $\\sim80\\%$ of cases. Consequently, the region surrounding the true highest galaxy density peaks are not generally sites of enhanced star formation or accelerated mass growth relative to the remainder of the protocluster. Lastly, we find that the $\\sim4$ arcmin apertures typically used to define spectroscopically-confirmed protoclusters are generally much smaller than the $8$ arcmin apertures needed to study the progenitors of the most massive galaxy clusters at $z > 2$.         |"
      ],
      "text/plain": [
       "[2504.03836] Quantifying the Impact of Incompleteness on Identifying and Interpreting Galaxy Protocluster Populations with the TNG-Cluster Simulation\n",
       "\tD. C. Baxter, et al. -- incl., <mark>A. Pillepich</mark>"
      ]
     },
     "metadata": {},
     "output_type": "display_data"
    },
    {
     "data": {
      "text/markdown": [
       "## Failed papers"
      ],
      "text/plain": [
       "<IPython.core.display.Markdown object>"
      ]
     },
     "metadata": {},
     "output_type": "display_data"
    },
    {
     "data": {
      "text/markdown": [
       "\n",
       "|||\n",
       "|---:|:---|\n",
       "| [![arXiv](https://img.shields.io/badge/arXiv-2504.03856-b31b1b.svg)](https://arxiv.org/abs/2504.03856) | **Optical and Near-infrared Observations of SN 2023ixf for over 600 days after the Explosion**  |\n",
       "|| G. Li, et al. -- incl., <mark>J. Liu</mark> |\n",
       "|*Appeared on*| *2025-04-08*|\n",
       "|*Comments*| **|\n",
       "|**Abstract**|  this http URL present a comprehensive photometric and spectroscopic study of the nearby Type II supernova (SN) 2023ixf, with our extensive observations spanning the phases from ~3 to over 600 days after the first light.\\\\ this http URL aim of this study is to obtain key information on the explosion properties of SN\\,2023ixf and the nature of its progenitor.\\\\ this http URL observational properties of SN\\,2023ixf are compared with those of a sample of Type IIP/L SNe to investigate commonalities and diversities. We conduct a detailed analysis of temporal evolution of major spectral features observed throughout different phases of the SN\\,2023ixf explosion. Several interpretations are addressed through a comparison between the data and the model spectra for progenitor stars within a range of zero-age main sequence (ZAMS) masses.\\\\ this http URL observations indicate that SN\\,2023ixf is a transitional SN that bridges the gap between Type IIP and IIL subclasses of H-rich SNe, characterized by a relatively short plateau ($\\lesssim 70$\\,d) in the light curve. It shows a rather prompt spectroscopic evolution toward the nebular phase; emission lines of Na, O, H, and Ca in nebular spectra all exhibit multipeak profiles, which might be attributed to bipolar distribution of the ejecta. In particular, the H$\\alpha$ profile can be separated into two central peaked components (with a velocity of about 1500\\,km\\,s$^{-1}$) that is likely due to nickel-powered ejecta and two outer peak/box components (with a velocity extending up to ~8000 km\\,s$^{-1}$) that can arise from interaction of the outermost ejecta with a circumstellar shell at a distance of $\\sim6.2\\times10^{15}$cm. The nebular-phase spectra of SN\\,2023ixf show good agreement with those predicted by model spectra for progenitor stars with a ZAMS mass ranging from 15 to 19\\,M${_\\odot}$. A distance $D = 6.35^{+0.31}_{-0.39}$\\,Mpc is estimated for M101.         |\n",
       "|<p style=\"color:green\"> **ERROR** </p>| <p style=\"color:green\">affiliation error: mpia.affiliation_verifications: 'Heidelberg' keyword not found.</p> |"
      ],
      "text/plain": [
       "<IPython.core.display.Markdown object>"
      ]
     },
     "metadata": {},
     "output_type": "display_data"
    },
    {
     "data": {
      "text/markdown": [
       "\n",
       "|||\n",
       "|---:|:---|\n",
       "| [![arXiv](https://img.shields.io/badge/arXiv-2504.04387-b31b1b.svg)](https://arxiv.org/abs/2504.04387) | **A Multi-Mechanism Hybrid Model of Peaked-Spectrum Radio Sources**  |\n",
       "|| G.-C. Sun, et al. -- incl., <mark>Y. Wang</mark>, <mark>X. Zhang</mark> |\n",
       "|*Appeared on*| *2025-04-08*|\n",
       "|*Comments*| *23 pages, 9 figures, 5 tables. Accepted for publication in ApJ*|\n",
       "|**Abstract**|            The peaked-spectrum (PS) sources exhibit turnover characteristics in their broad radio spectra. However, the mechanism underlying this phenomenon remains elusive. The two most common hypotheses are synchrotron self-absorption (SSA) and free-free absorption (FFA). By incorporating multiple absorption scenarios, we propose a multi-mechanism hybrid (MMH) model, which aligns well with current observational data and provides a good physical explanation. Using the GLEAM survey data, we identified a sample of 4,315 sources with peak frequencies approximately between 72--3000 MHz, most of which are MHz-peaked-spectrum sources (MPS). Our analysis shows that instead of SSA, the FFA is the dominant mechanism in producing the spectral turnover for most of the sources in this sample. The index of the optically thick spectrum alpha_thick has a lower boundary due to the FFA, and the steeper alpha_thick indicates a complex multi-absorption mechanism. In particular, the external FFA produces substantial alpha_thick, which exhibits a weak correlation with the peak frequency. Future ultra-long wavelength observations would also provide data on the spectrum of these sources at even lower frequencies. Determining the absorption mechanism that shaped the spectrum of these sources would be a crucial part of understanding their nature.         |\n",
       "|<p style=\"color:green\"> **ERROR** </p>| <p style=\"color:green\">affiliation error: mpia.affiliation_verifications: 'Heidelberg' keyword not found.</p> |"
      ],
      "text/plain": [
       "<IPython.core.display.Markdown object>"
      ]
     },
     "metadata": {},
     "output_type": "display_data"
    },
    {
     "data": {
      "text/markdown": [
       "\n",
       "|||\n",
       "|---:|:---|\n",
       "| [![arXiv](https://img.shields.io/badge/arXiv-2504.04393-b31b1b.svg)](https://arxiv.org/abs/2504.04393) | **Supernovae at Distances < 40 Mpc: I.Catalogues and fractions of Supernovae in a Complete Sample**  |\n",
       "|| X. Ma, et al. -- incl., <mark>J. Liu</mark>, <mark>X. Zhang</mark> |\n",
       "|*Appeared on*| *2025-04-08*|\n",
       "|*Comments*| *22 pages, 27 figures, to be published in A&A*|\n",
       "|**Abstract**|  this http URL is the first paper of a series aiming to determine the fractions and birth rates of various types of supernovae (SNe) in the local Universe. Aims. In this paper, we aim to construct a complete sample of SNe in the nearby universe and provide more precise measurement of subtype fractions. this http URL carefully selected our SN sample at a distance of < 40 Mpc mainly from wide-field surveys conducted over the years from 2016 to 2023. this http URL sample contains a total of 211 SNe, including 109 SNe II, 69 SNe Ia, and 33 SNe Ibc. With the aid of sufficient spectra, we can obtain relatively accurate subtype classifications for all SNe in this sample. After corrections for the Malmquist bias, this volume-limited sample gives fractions of SNe Ia, SNe Ibc, and SNe II as $30.4^{+3.7}_{-11.5}\\%$, $16.3^{+3.7}_{-7.4}\\%$, and $53.3^{+9.5}_{-18.7}\\%$, this http URL the SN Ia sample, the fraction of the 91T-like subtype becomes relatively low (~5.4\\%), while that of the 02cx-like subtype shows a moderate increase (~6.8\\%). In the SN Ibc sample, we find significant fractions of broadlined SNe Ic (~18.0\\%) and SNe Ibn (~8.8\\%). The fraction of 87A-like subtype is determined as ~2.3\\% for the first time, indicating rare explosions from blue supergiant stars. We find that SNe Ia show a double peak number distribution in S0- and Sc-type host galaxies, which may serve as a straightforward evidence for the presence of \"prompt\" and \"delayed\" progenitor components giving rise to SN Ia explosions. Several subtypes of SNe such as 02cx-like SNe Ia, broadlined SNe Ic, SNe IIn (and perhaps SNe Ibn) are found to occur preferentially in less massive spiral galaxies, favoring their associations with young stellar progenitors. Moreover, the 02cx-like subtype shows a trend of exploding in the outer skirt of their hosts, suggestive of metal-poor progenitors.         |\n",
       "|<p style=\"color:green\"> **ERROR** </p>| <p style=\"color:green\">affiliation error: mpia.affiliation_verifications: 'Heidelberg' keyword not found.</p> |"
      ],
      "text/plain": [
       "<IPython.core.display.Markdown object>"
      ]
     },
     "metadata": {},
     "output_type": "display_data"
    },
    {
     "data": {
      "text/markdown": [
       "\n",
       "|||\n",
       "|---:|:---|\n",
       "| [![arXiv](https://img.shields.io/badge/arXiv-2504.04507-b31b1b.svg)](https://arxiv.org/abs/2504.04507) | **Supernova Sample at Distances < 40 Mpc: II. Supernova Rate in the Local Universe**  |\n",
       "|| X. Ma, et al. -- incl., <mark>J. Liu</mark>, <mark>X. Zhang</mark> |\n",
       "|*Appeared on*| *2025-04-08*|\n",
       "|*Comments*| *14 pages, 11 figures, to be published in A&A*|\n",
       "|**Abstract**|  this http URL is the second paper of a series aiming to determine the birth rates of supernovae in the local Universe. Aims. In this paper, we aim to estimate the SN rates in the local universe and fit the delay-time distribution of SNe Ia to put constraints on their progenitor scenarios. this http URL performed a Monte-Carlo simulation to estimate the volumetric rates with the nearby SN sample introduced in Paper I of the series. The rate evolution of core-collapse SNe well traces the evolution of cosmic star formation history; while that of SNe Ia involves the convolution of cosmic star-formation history and a two-component delay-time distribution including a power law and a Gaussian component. this http URL volumetric rates of type Ia, Ibc and II SNe are derived as $0.325\\pm0.040^{+0.016}_{-0.010}$, $0.160\\pm0.028^{+0.044}_{-0.014}$, and $0.528\\pm0.051^{+0.162}_{-0.013}$ (in unit of $10^{-4} yr^{-1} Mpc^{-3} h^3_{70}$), respectively. The rate of CCSNe is consistent with previous estimates. The newly derived local SN Ia rate is larger than existing results given at redshifts 0.01 < z < 0.1, favoring an increased rate from the universe at z ~ 0.1 to the local universe. A two-component model can well fit the rate variation, with the power law component accounting for the rate evolution at larger redshifts and the Gaussian component with a delay time of 12.63$\\pm$0.38 Gyr accounting for the local rate evolution. This delayed component with such a longer delay time suggests that the progenitors of these SNe Ia were formed at around 1 Gyr after the birth of the universe, which could only be explained by a double-degenerate progenitor scenario. This is evidenced by the comparison with the PTF sample of SNe Ia at z = 0.073, which reveals that the increase in SN Ia rate at z < 0.01 is primarily due to the SNe Ia of massive E and S0 galaxies with old stellar populations.         |\n",
       "|<p style=\"color:green\"> **ERROR** </p>| <p style=\"color:green\">affiliation error: mpia.affiliation_verifications: 'Heidelberg' keyword not found.</p> |"
      ],
      "text/plain": [
       "<IPython.core.display.Markdown object>"
      ]
     },
     "metadata": {},
     "output_type": "display_data"
    },
    {
     "data": {
      "text/markdown": [
       "\n",
       "|||\n",
       "|---:|:---|\n",
       "| [![arXiv](https://img.shields.io/badge/arXiv-2504.04648-b31b1b.svg)](https://arxiv.org/abs/2504.04648) | **Basic Pattern of Three-dimensional Magnetic Reconnection within Strongly Turbulent Current Sheets**  |\n",
       "|| <mark>Y. Wang</mark>, X. Cheng, M. Ding |\n",
       "|*Appeared on*| *2025-04-08*|\n",
       "|*Comments*| *18 pages, 14 figure, accepted for publication in ApJ*|\n",
       "|**Abstract**|            Magnetic reconnection is a fundamental mechanism of driving eruptive phenomena of different scales and may be coupled with turbulence as suggested by recent remote-sensing and in-situ observations. However, the specific physics behind the complex three-dimensional (3D) turbulent reconnection remains mysterious. Here, we develop a novel methodology to identify and analyze multitudes of multi-scale reconnection fragments within a strongly turbulent current sheet (CS) and apply it to a state-of-the-art numerical simulation of turbulent reconnection for solar flares. It is determined that the reconnection fragments tend to appear as quasi-2D sheets forming along local magnetic flux surfaces, and, due to strong turbulence, their reconnection flow velocities and reconnection rates are significantly broadened statistically but are scale-independent. Each reconnection fragment is found to be surrounded by strongly fluctuated in/out-flows and has a widely distributed reconnection rate, mainly in the range of 0.01-0.1. The results, for the first time, provide quantitative measurements of 3D magnetic reconnection in strongly turbulent flare CSs, offering insights into the cascading laws of 3D reconnection in other turbulent plasmas.         |\n",
       "|<p style=\"color:green\"> **ERROR** </p>| <p style=\"color:green\">affiliation error: mpia.affiliation_verifications: 'Heidelberg' keyword not found.</p> |"
      ],
      "text/plain": [
       "<IPython.core.display.Markdown object>"
      ]
     },
     "metadata": {},
     "output_type": "display_data"
    },
    {
     "data": {
      "text/markdown": [
       "\n",
       "|||\n",
       "|---:|:---|\n",
       "| [![arXiv](https://img.shields.io/badge/arXiv-2504.05233-b31b1b.svg)](https://arxiv.org/abs/2504.05233) | **Formation of Near-surface Atmospheric Inversion and Surface Inversion in Hothouse Climates**  |\n",
       "|| <mark>J. Liu</mark>, F. Ding, J. Yang |\n",
       "|*Appeared on*| *2025-04-08*|\n",
       "|*Comments*| *20 pages, 12 figures, accepted for publication in the Astrophysical Journal*|\n",
       "|**Abstract**|            A hothouse climate may develop throughout Earth's history and its warming future and on potentially habitable exoplanets near the inner edge of the habitable zone. Previous studies suggested that near-surface atmospheric inversion (NAIV) with planetary boundary air temperature being higher than the air temperature adjacent to the surface, is a pronounced phenomenon in hothouse climates. However, the underlying mechanisms are unclear. Here we show that lower-tropospheric radiative heating is necessary but not independently sufficient in forming the NAIV. Instead, the dynamic heating induced by large-scale subsidence is essential. With the prescribed reasonable large-scale subsidence, NAIV appears in small-domain cloud-resolving simulations, which was not observed in previous studies. Surface evaporative cooling also contributes to the formation of the NAIV. Besides NAIV, we find that surface inversion (SIV) with the air adjacent to the surface being warmer than the underlying sea surface is also a distinct phenomenon in hothouse climates. SIV is caused by strong surface evaporative cooling and large atmospheric shortwave absorption. These two types of inversion strongly stabilize the atmosphere, weaken atmospheric circulation, dry the free troposphere, and suppress the hydrological cycle.         |\n",
       "|<p style=\"color:green\"> **ERROR** </p>| <p style=\"color:green\">affiliation error: mpia.affiliation_verifications: 'Heidelberg' keyword not found.</p> |"
      ],
      "text/plain": [
       "<IPython.core.display.Markdown object>"
      ]
     },
     "metadata": {},
     "output_type": "display_data"
    }
   ],
   "source": [
    "import datetime\n",
    "today = str(datetime.date.today())\n",
    "logfile = f\"_build/html/logs/log-{today}.md\"\n",
    "\n",
    "\n",
    "with open(logfile, 'w') as logs:\n",
    "    # Success\n",
    "    logs.write(f'# Arxiv on Deck 2: Logs - {today}\\n\\n')\n",
    "    logs.write(\"\"\"* Arxiv had {0:,d} new papers\\n\"\"\".format(len(new_papers)))\n",
    "    logs.write(\"\"\"    * {0:,d} with possible author matches\\n\\n\"\"\".format(len(candidates)))\n",
    "    logs.write(\"## Sucessful papers\\n\\n\")\n",
    "    display(Markdown(\"## Successful papers\"))\n",
    "    success = [k[0] for k in documents]\n",
    "    for candid in candidates:\n",
    "        if candid['identifier'].split(':')[-1] in success:\n",
    "            display(candid)\n",
    "            logs.write(candid.generate_markdown_text() + '\\n\\n')\n",
    "\n",
    "    ## failed\n",
    "    logs.write(\"## Failed papers\\n\\n\")\n",
    "    display(Markdown(\"## Failed papers\"))\n",
    "    failed = sorted(failed, key=lambda x: x[1])\n",
    "    current_reason = \"\"\n",
    "    for paper, reason in failed:\n",
    "        if 'affiliation' in reason:\n",
    "            color = 'green'\n",
    "        else:\n",
    "            color = 'red'\n",
    "        data = Markdown(\n",
    "                paper.generate_markdown_text() + \n",
    "                f'\\n|<p style=\"color:{color:s}\"> **ERROR** </p>| <p style=\"color:{color:s}\">{reason:s}</p> |'\n",
    "               )\n",
    "        if reason != current_reason:\n",
    "            logs.write(f'### {reason:s} \\n\\n')\n",
    "            current_reason = reason\n",
    "        logs.write(data.data + '\\n\\n')\n",
    "        \n",
    "        # only display here the important errors (all in logs)\n",
    "        # if color in ('red',):\n",
    "        display(data)"
   ]
  },
  {
   "cell_type": "markdown",
   "id": "472d20ee",
   "metadata": {
    "papermill": {
     "duration": 0.005083,
     "end_time": "2025-04-08T04:13:19.469296",
     "exception": false,
     "start_time": "2025-04-08T04:13:19.464213",
     "status": "completed"
    },
    "tags": []
   },
   "source": [
    "## Export documents\n",
    "\n",
    "We now write the .md files and export relevant images"
   ]
  },
  {
   "cell_type": "code",
   "execution_count": 7,
   "id": "d426aed9",
   "metadata": {
    "execution": {
     "iopub.execute_input": "2025-04-08T04:13:19.480506Z",
     "iopub.status.busy": "2025-04-08T04:13:19.480282Z",
     "iopub.status.idle": "2025-04-08T04:13:19.487158Z",
     "shell.execute_reply": "2025-04-08T04:13:19.486611Z"
    },
    "papermill": {
     "duration": 0.013685,
     "end_time": "2025-04-08T04:13:19.488168",
     "exception": false,
     "start_time": "2025-04-08T04:13:19.474483",
     "status": "completed"
    },
    "tags": []
   },
   "outputs": [],
   "source": [
    "def export_markdown_summary(md: str, md_fname:str, directory: str):\n",
    "    \"\"\"Export MD document and associated relevant images\"\"\"\n",
    "    import os\n",
    "    import shutil\n",
    "    import re\n",
    "\n",
    "    if (os.path.exists(directory) and not os.path.isdir(directory)):\n",
    "        raise RuntimeError(f\"a non-directory file exists with name {directory:s}\")\n",
    "\n",
    "    if (not os.path.exists(directory)):\n",
    "        print(f\"creating directory {directory:s}\")\n",
    "        os.mkdir(directory)\n",
    "\n",
    "    fig_fnames = (re.compile(r'\\[Fig.*\\]\\((.*)\\)').findall(md) + \n",
    "                  re.compile(r'\\<img src=\"([^>\\s]*)\"[^>]*/>').findall(md))\n",
    "    print(\"found figures\", fig_fnames)\n",
    "    for fname in fig_fnames:\n",
    "        if 'http' in fname:\n",
    "            # No need to copy online figures\n",
    "            continue\n",
    "        if not os.path.exists(fname):\n",
    "            print(\"file not found\", fname)\n",
    "            continue\n",
    "        print(\"copying \", fname, \"to\", directory)\n",
    "        destdir = os.path.join(directory, os.path.dirname(fname))\n",
    "        destfname = os.path.join(destdir, os.path.basename(fname))\n",
    "        try:\n",
    "            os.makedirs(destdir)\n",
    "        except FileExistsError:\n",
    "            pass\n",
    "        shutil.copy(fname, destfname)\n",
    "    with open(os.path.join(directory, md_fname), 'w') as fout:\n",
    "        fout.write(md)\n",
    "    print(\"exported in \", os.path.join(directory, md_fname))\n",
    "    [print(\"    + \" + os.path.join(directory,fk)) for fk in fig_fnames]"
   ]
  },
  {
   "cell_type": "code",
   "execution_count": 8,
   "id": "014d04a4",
   "metadata": {
    "execution": {
     "iopub.execute_input": "2025-04-08T04:13:19.499545Z",
     "iopub.status.busy": "2025-04-08T04:13:19.499296Z",
     "iopub.status.idle": "2025-04-08T04:13:19.506614Z",
     "shell.execute_reply": "2025-04-08T04:13:19.505976Z"
    },
    "papermill": {
     "duration": 0.014121,
     "end_time": "2025-04-08T04:13:19.507679",
     "exception": false,
     "start_time": "2025-04-08T04:13:19.493558",
     "status": "completed"
    },
    "tags": []
   },
   "outputs": [
    {
     "name": "stdout",
     "output_type": "stream",
     "text": [
      "found figures ['tmp_2504.03833/./images/fractionation_hyperfine_12C13C_N+H_tau_b7res_dTb.png', 'tmp_2504.03833/./images/rot_diagram_combined_tau_profiles_dTb.png', 'tmp_2504.03833/./images/frac_compare_disks_tau_dTb.png']\n",
      "copying  tmp_2504.03833/./images/fractionation_hyperfine_12C13C_N+H_tau_b7res_dTb.png to _build/html/\n",
      "copying  tmp_2504.03833/./images/rot_diagram_combined_tau_profiles_dTb.png to _build/html/\n",
      "copying  tmp_2504.03833/./images/frac_compare_disks_tau_dTb.png to _build/html/\n",
      "exported in  _build/html/2504.03833.md\n",
      "    + _build/html/tmp_2504.03833/./images/fractionation_hyperfine_12C13C_N+H_tau_b7res_dTb.png\n",
      "    + _build/html/tmp_2504.03833/./images/rot_diagram_combined_tau_profiles_dTb.png\n",
      "    + _build/html/tmp_2504.03833/./images/frac_compare_disks_tau_dTb.png\n",
      "found figures []\n",
      "exported in  _build/html/2504.03836.md\n"
     ]
    }
   ],
   "source": [
    "for paper_id, md in documents:\n",
    "    export_markdown_summary(md, f\"{paper_id:s}.md\", '_build/html/')"
   ]
  },
  {
   "cell_type": "markdown",
   "id": "f087a0a7",
   "metadata": {
    "papermill": {
     "duration": 0.005223,
     "end_time": "2025-04-08T04:13:19.518213",
     "exception": false,
     "start_time": "2025-04-08T04:13:19.512990",
     "status": "completed"
    },
    "tags": []
   },
   "source": [
    "## Display the papers\n",
    "\n",
    "Not necessary but allows for a quick check."
   ]
  },
  {
   "cell_type": "code",
   "execution_count": 9,
   "id": "fd25f625",
   "metadata": {
    "execution": {
     "iopub.execute_input": "2025-04-08T04:13:19.529873Z",
     "iopub.status.busy": "2025-04-08T04:13:19.529511Z",
     "iopub.status.idle": "2025-04-08T04:13:19.535206Z",
     "shell.execute_reply": "2025-04-08T04:13:19.534588Z"
    },
    "papermill": {
     "duration": 0.012689,
     "end_time": "2025-04-08T04:13:19.536252",
     "exception": false,
     "start_time": "2025-04-08T04:13:19.523563",
     "status": "completed"
    },
    "scrolled": false,
    "tags": []
   },
   "outputs": [
    {
     "data": {
      "text/markdown": [
       "<div class=\"macros\" style=\"visibility:hidden;\">\n",
       "$\\newcommand{\\ensuremath}{}$\n",
       "$\\newcommand{\\xspace}{}$\n",
       "$\\newcommand{\\object}[1]{\\texttt{#1}}$\n",
       "$\\newcommand{\\farcs}{{.}''}$\n",
       "$\\newcommand{\\farcm}{{.}'}$\n",
       "$\\newcommand{\\arcsec}{''}$\n",
       "$\\newcommand{\\arcmin}{'}$\n",
       "$\\newcommand{\\ion}[2]{#1#2}$\n",
       "$\\newcommand{\\textsc}[1]{\\textrm{#1}}$\n",
       "$\\newcommand{\\hl}[1]{\\textrm{#1}}$\n",
       "$\\newcommand{\\footnote}[1]{}$\n",
       "$\\newcommand{\\as}{^{\\prime\\prime}}$\n",
       "$\\newcommand$\n",
       "$\\newcommand{\\arraystretch}{1.2}$\n",
       "$\\newcommand{\\arraystretch}{1.2}$</div>\n",
       "\n",
       "\n",
       "\n",
       "<div id=\"title\">\n",
       "\n",
       "# Radial variations in nitrogen, carbon, and hydrogen fractionation in the PDS 70 planet-hosting disk\n",
       "\n",
       "</div>\n",
       "<div id=\"comments\">\n",
       "\n",
       "[![arXiv](https://img.shields.io/badge/arXiv-2504.03833-b31b1b.svg)](https://arxiv.org/abs/2504.03833)<mark>Appeared on: 2025-04-08</mark> -  _18 pages, 10 figures, 3 tables_\n",
       "\n",
       "</div>\n",
       "<div id=\"authors\">\n",
       "\n",
       "L. Rampinelli, et al. -- incl., <mark>M. Benisty</mark>\n",
       "\n",
       "</div>\n",
       "<div id=\"abstract\">\n",
       "\n",
       "**Abstract:** Element isotopic ratios are powerful tools to reconstruct the journey of planetary material, from the parental molecular cloud to protoplanetary disks, where planets form and accrete their atmosphere. Radial variations in isotopic ratios in protoplanetary disks reveal local pathways which can critically affect the degree of isotope fractionation of planetary material. In this work we present spatially-resolved profiles of the $\\ce{^14N}$ / $\\ce{^15N}$ , $\\ce{^12C}$ / $\\ce{^13C}$ , and D/H isotopic ratios of the HCN molecule in the PDS 70 disk, which hosts two actively-accreting giant planets. ALMA high spatial resolution observations of HCN, $\\ce{H^13CN}$ , $\\ce{HC^15N}$ , and DCN reveal radial variations of fractionation profiles. We extract the HCN/ $\\ce{HC^15N}$ ratio out to $\\sim$ 120 au, which shows a decreasing trend outside the inner cavity wall of the PDS 70 disk located at $\\sim50$ au. We suggest that the radial variations observed in the HCN/ $\\ce{HC^15N}$ ratio are linked to isotope selective photodissociation of $\\ce{N2}$ . We leverage the spectrally resolved hyperfine component of the HCN line to extract the radial profile of the HCN/ $\\ce{H^13CN}$ ratio between $\\sim$ 40 and 90 au, obtaining a value consistent with the ISM $\\ce{^12C}$ / $\\ce{^13C}$ ratio. The deuteration profile is also mostly constant throughout the disk extent, with a DCN/HCN ratio $\\sim$ 0.02, in line with other disk-averaged values and radial profiles in disks around T Tauri stars. The extracted radial profiles of isotopologue ratios show how different fractionation processes dominate at different spatial scales in the planet-hosting disk of PDS 70.\n",
       "\n",
       "</div>\n",
       "\n",
       "<div id=\"div_fig1\">\n",
       "\n",
       "<img src=\"tmp_2504.03833/./images/fractionation_hyperfine_12C13C_N+H_tau_b7res_dTb.png\" alt=\"Fig5\" width=\"100%\"/>\n",
       "\n",
       "**Figure 5. -** Nitrogen, carbon, and hydrogen fractionation of the HCN molecule. Left panel: $69\\times\\ce{H^13CN}/\\ce{HC^15N}$(dark blue) and \\ce{HCN}/\\ce{HC^15N}(light blue) profiles. Middle panel:  \\ce{HCN}/\\ce{H^13CN}. Right panel: $69\\times\\ce{H^13CN}/\\ce{DCN}$(pink) and \\ce{HCN}/\\ce{DCN}(purple) profiles. Ribbons show the 16th and 84th percentiles of the posterior distributions of isotopologue ratios. The dashed horizontal black lines show the ISM values of $\\ce{^14N}/\\ce{^15N}=274$(blue) and of $\\ce{^12C}/\\ce{^13C}=69$, while the ISM values of D/H is not indicated, as it is $\\sim10^{-5}$\\citep[see references in][]{nomura2022isotopic}. The marker length in each legend shows the major axis of the beam of cubes used to retrieve the corresponding profiles in the plots. The black dotted line shows the $855\\mu$m continuum integrated intensity profile  ([Isella, Benisty and Teague 2019](), [Benisty, Bae and Facchini 2021]()) . (*fig:12C13C*)\n",
       "\n",
       "</div>\n",
       "<div id=\"div_fig2\">\n",
       "\n",
       "<img src=\"tmp_2504.03833/./images/rot_diagram_combined_tau_profiles_dTb.png\" alt=\"Fig3\" width=\"100%\"/>\n",
       "\n",
       "**Figure 3. -** Top panels: integrated intensity profiles of lines of HCN isotopologues. The ribbons show the standard deviation across each annulus divided by the square root of the number of independent beams. The intensity is expressed in brightness temperature under the Rayleigh-Jeans approximation. The black dashed line is the integrated intensity profile of the 855 $\\mu$m continuum  ([Isella, Benisty and Teague 2019](), [Benisty, Bae and Facchini 2021]()) . The hatched region shows the beam major axis of each line. Bottom row: results of the radial rotational diagram analysis. Solid lines in the left and middle panels show the 50th percentile of column density profiles (\\ce{H^13CN} in blue and \\ce{HC^15N} in pink), and of the excitation temperature (black). Ribbons show the 16th and 84th percentiles of the posterior distributions. The right panel represents the radial profiles of the optical depth for the analyzed molecular lines of \\ce{H^13CN} and \\ce{HC^15N}, and the related uncertainty shown for the \\ce{H^13CN}(3-2) line, for reference, as it is representative of the typical uncertainty. The dashed black line shows the $\\tau=1$ level. (*fig:profiles_rotdiagr*)\n",
       "\n",
       "</div>\n",
       "<div id=\"div_fig3\">\n",
       "\n",
       "<img src=\"tmp_2504.03833/./images/frac_compare_disks_tau_dTb.png\" alt=\"Fig6\" width=\"100%\"/>\n",
       "\n",
       "**Figure 6. -** Radial profiles of nitrogen, carbon, and hydrogen fractionation of HCN in disks. The red profiles in the three panels show the results for the PDS 70 disk (solid lines and ribbons show the 50th, 16th, and 84th percentiles of the posterior distributions, respectively), while the horizontal dashed lines indicate the ISM values  ([Nomura, Furuya and Cordiner 2023](), [Ritchey, Federman and Lambert 2015](), [ and Wilson 1999](), [Linsky, Draine and Moos 2006]()) . The isotopic ratios profiles for the PDS 70 disk are compared to the ones for the TW Hya  ([Hily-Blant, Kastner and Forveille 2019]())  and V4046 Sgr disks ( ([Nomura, Furuya and Cordiner 2023]()) , Guzmán et al. in prep.) for nitrogen in the left panel, the TW Hya disk  ([Hily-Blant, Kastner and Forveille 2019]())  for carbon in the middle panel, and to the disks in the MAPS survey  ([Cataldi, Yamato and Aikawa 2021]())  for hydrogen in the right panel. The nitrogen and hydrogen fractionation profiles are obtained by converting the \\ce{H^13CN} into an HCN column density, assuming a fixed $\\ce{^12C}/\\ce{^13C}=69$ ratio. The grey line on top of each panel shows the major axis of the beam of the observations used to extract the profiles for the PDS 70 disk. (*fig:frac_disks*)\n",
       "\n",
       "</div><div id=\"qrcode\"><img src=https://api.qrserver.com/v1/create-qr-code/?size=100x100&data=\"https://arxiv.org/abs/2504.03833\"></div>"
      ],
      "text/plain": [
       "<IPython.core.display.Markdown object>"
      ]
     },
     "metadata": {},
     "output_type": "display_data"
    },
    {
     "data": {
      "text/markdown": [
       "<div class=\"macros\" style=\"visibility:hidden;\">\n",
       "$\\newcommand{\\ensuremath}{}$\n",
       "$\\newcommand{\\xspace}{}$\n",
       "$\\newcommand{\\object}[1]{\\texttt{#1}}$\n",
       "$\\newcommand{\\farcs}{{.}''}$\n",
       "$\\newcommand{\\farcm}{{.}'}$\n",
       "$\\newcommand{\\arcsec}{''}$\n",
       "$\\newcommand{\\arcmin}{'}$\n",
       "$\\newcommand{\\ion}[2]{#1#2}$\n",
       "$\\newcommand{\\textsc}[1]{\\textrm{#1}}$\n",
       "$\\newcommand{\\hl}[1]{\\textrm{#1}}$\n",
       "$\\newcommand{\\footnote}[1]{}$\n",
       "$\\newcommand{\\pgfsyspdfmark}[3]$\n",
       "$\\newcommand{\\vdag}{(v)^\\dagger}$\n",
       "$\\newcommand$\n",
       "$\\newcommand$\n",
       "$\\newcommand{\\vcirc}{v_{\\rm{circ}}}$\n",
       "$\\newcommand{\\vmax}{{\\it V}_{\\rm{max}}}$\n",
       "$\\newcommand{\\rmax}{R_{\\rm{max}}}$\n",
       "$\\newcommand{\\mtwo}{M_{\\rm{200}}}$\n",
       "$\\newcommand{\\rtwo}{R_{\\rm{200c}}}$\n",
       "$\\newcommand{\\rctwo}{R_{\\rm{200c}}}$\n",
       "$\\newcommand{\\mhalf}{M_{1/2}}$\n",
       "$\\newcommand{\\rhalf}{R_{1/2}}$\n",
       "$\\newcommand{\\mmax}{M_{\\rm max}}$\n",
       "$\\newcommand{\\msub}{M_{\\rm{sub}}}$\n",
       "$\\newcommand{\\mvir}{{\\rm M}_{\\rm{vir}}}$\n",
       "$\\newcommand{\\mhalo}{{M}_{\\rm{halo}}}$\n",
       "$\\newcommand{\\mpeak}{{M}_{\\rm{peak}}}$\n",
       "$\\newcommand{\\rvir}{R_{\\rm vir}}$\n",
       "$\\newcommand{\\vvir}{V_{\\rm{vir}}}$\n",
       "$\\newcommand{\\vlos}{V_{\\rm{los}}}$\n",
       "$\\newcommand{\\vpeak}{{\\it V}_{\\rm{peak}}}$\n",
       "$\\newcommand{\\dd}{{\\rm d}}$\n",
       "$\\newcommand{\\mstar}{{M}_{\\star}}$\n",
       "$\\newcommand{\\minfall}{{M}_{\\star, \\rm{infall}}}$\n",
       "$\\newcommand{\\mhi}{{M}_{\\rm H{\\scriptsize I}}}$\n",
       "$\\newcommand{\\lstar}{L^{*}}$\n",
       "$\\newcommand{\\msun}{{\\rm M}_{\\odot}}$\n",
       "$\\newcommand{\\lsun}{L_{\\odot}}$\n",
       "$\\newcommand{\\mpc}{{\\rm Mpc}}$\n",
       "$\\newcommand{\\kpc}{{\\rm kpc}}$\n",
       "$\\newcommand{\\kms}{{\\rm km   s}^{-1}}$\n",
       "$\\newcommand{\\millen}{MS-I}$\n",
       "$\\newcommand{\\msii}{MS-II}$\n",
       "$\\newcommand{\\lcdm}{\\LambdaCDM}$\n",
       "$\\newcommand{\\diso}{d_{\\rm iso}}$\n",
       "$\\newcommand{\\niso}{n_{\\rm iso}}$\n",
       "$\\newcommand{\\lt}{<}$\n",
       "$\\newcommand{\\gt}{>}$\n",
       "$\\newcommand{\\z}{{\\it z}}$\n",
       "$\\newcommand{\\gmag}{{\\it g}}$\n",
       "$\\newcommand{\\rmag}{{\\it r}}$\n",
       "$\\newcommand{\\imag}{{\\it i}}$\n",
       "$\\newcommand$\n",
       "$\\newcommand{\\oii}{\\hbox{\\sc[O ii]}}$\n",
       "$\\newcommand{\\DMpeak}{\\vec{x}_{\\delta_{\\mathrm{DM,peak}}}^{\\mathrm{Baseline}}}$\n",
       "$\\newcommand{\\Mstarpeak}{\\vec{x}_{\\delta_{\\mathrm{\\star,peak}}}^{\\mathrm{Baseline}}}$\n",
       "$\\newcommand{\\Galpeak}{\\vec{x}_{\\delta_{\\mathrm{gal,peak}}}^{\\mathrm{Baseline}}}$</div>\n",
       "\n",
       "\n",
       "\n",
       "<div id=\"title\">\n",
       "\n",
       "# Quantifying the Impact of Incompleteness on Identifying and Interpreting Galaxy Protocluster Populations with the TNG-Cluster Simulation\n",
       "\n",
       "</div>\n",
       "<div id=\"comments\">\n",
       "\n",
       "[![arXiv](https://img.shields.io/badge/arXiv-2504.03836-b31b1b.svg)](https://arxiv.org/abs/2504.03836)<mark>Appeared on: 2025-04-08</mark> -  _Key Figures: 3, 7, 9, and 13. The manuscript contains 28 pages and 14 figures. Submitted to ApJ. Comments are welcome_\n",
       "\n",
       "</div>\n",
       "<div id=\"authors\">\n",
       "\n",
       "Devontae~C.~Baxter, et al.\n",
       "\n",
       "</div>\n",
       "<div id=\"abstract\">\n",
       "\n",
       "**Abstract:** We use the TNG-Cluster simulation to examine how stellar mass and star formation rate (SFR) incompleteness affect the identification of density peaks within galaxy protoclusters at different redshifts. We focus on 352 protoclusters, defined as the set of galaxies that will reside within the virialized region of a $z=0$ cluster halo with total mass $\\sim10^{14.3-15.5} \\msun$ , and consider only galaxies with $\\mstar > 10^{8.5} \\msun$ (our baseline) at any redshift. We find that $\\mstar$ -limited ( $\\mstar > 10^{9.5} \\msun$ ) and SFR-limited ( $\\mathrm{SFR} > 10 \\msun \\mathrm{yr}^{-1}$ ) subpopulations only recover the true highest galaxy density peak in $\\lesssim40\\%$ of cases within an accuracy of $1.0$ pMpc ( $\\sim2-2.5\\arcmin$ ) at $z > 2$ . We find that at $z>2$ the highest galaxy density peaks do not generally coincide with the highest dark matter or stellar mass density peaks, and this separation is larger than 0.5 pMpc in $\\sim80\\%$ of cases. Consequently, the region surrounding the true highest galaxy density peaks are not generally sites of enhanced star formation or accelerated mass growth relative to the remainder of the protocluster. Lastly, we find that the $\\sim4\\arcmin$ apertures typically used to define spectroscopically-confirmed protoclusters are generally much smaller than the $8\\arcmin$ apertures needed to study the progenitors of the most massive galaxy clusters at $z > 2$ .\n",
       "\n",
       "</div>\n",
       "\n",
       "<div id=\"qrcode\"><img src=https://api.qrserver.com/v1/create-qr-code/?size=100x100&data=\"https://arxiv.org/abs/2504.03836\"></div>"
      ],
      "text/plain": [
       "<IPython.core.display.Markdown object>"
      ]
     },
     "metadata": {},
     "output_type": "display_data"
    }
   ],
   "source": [
    "[display(Markdown(k[1])) for k in documents];"
   ]
  },
  {
   "cell_type": "markdown",
   "id": "873873a4",
   "metadata": {
    "papermill": {
     "duration": 0.005635,
     "end_time": "2025-04-08T04:13:19.547766",
     "exception": false,
     "start_time": "2025-04-08T04:13:19.542131",
     "status": "completed"
    },
    "tags": []
   },
   "source": [
    "# Create HTML index"
   ]
  },
  {
   "cell_type": "code",
   "execution_count": 10,
   "id": "cf665672",
   "metadata": {
    "execution": {
     "iopub.execute_input": "2025-04-08T04:13:19.560768Z",
     "iopub.status.busy": "2025-04-08T04:13:19.560216Z",
     "iopub.status.idle": "2025-04-08T04:13:19.570464Z",
     "shell.execute_reply": "2025-04-08T04:13:19.569820Z"
    },
    "papermill": {
     "duration": 0.01767,
     "end_time": "2025-04-08T04:13:19.571418",
     "exception": false,
     "start_time": "2025-04-08T04:13:19.553748",
     "status": "completed"
    },
    "tags": []
   },
   "outputs": [
    {
     "name": "stdout",
     "output_type": "stream",
     "text": [
      "431  publications files modified in the last 7 days.\n"
     ]
    }
   ],
   "source": [
    "from datetime import datetime, timedelta, timezone\n",
    "from glob import glob\n",
    "import os\n",
    "\n",
    "files = glob('_build/html/*.md')\n",
    "days = 7\n",
    "now = datetime.today()\n",
    "res = []\n",
    "for fk in files:\n",
    "    stat_result = os.stat(fk).st_ctime\n",
    "    modified = datetime.fromtimestamp(stat_result, tz=timezone.utc).replace(tzinfo=None)\n",
    "    delta = now.today() - modified\n",
    "    if delta <= timedelta(days=days):\n",
    "        res.append((delta.seconds, fk))\n",
    "res = [k[1] for k in reversed(sorted(res, key=lambda x:x[1]))]\n",
    "npub = len(res)\n",
    "print(len(res), f\" publications files modified in the last {days:d} days.\")\n",
    "# [ print('\\t', k) for k in res ];"
   ]
  },
  {
   "cell_type": "code",
   "execution_count": 11,
   "id": "015de740",
   "metadata": {
    "execution": {
     "iopub.execute_input": "2025-04-08T04:13:19.584089Z",
     "iopub.status.busy": "2025-04-08T04:13:19.583564Z",
     "iopub.status.idle": "2025-04-08T04:13:19.605710Z",
     "shell.execute_reply": "2025-04-08T04:13:19.605068Z"
    },
    "papermill": {
     "duration": 0.029617,
     "end_time": "2025-04-08T04:13:19.606790",
     "exception": false,
     "start_time": "2025-04-08T04:13:19.577173",
     "status": "completed"
    },
    "tags": []
   },
   "outputs": [
    {
     "name": "stdout",
     "output_type": "stream",
     "text": [
      "14  publications in the last 7 days.\n"
     ]
    }
   ],
   "source": [
    "import datetime\n",
    "from glob import glob\n",
    "\n",
    "def get_last_n_days(lst, days=1):\n",
    "    \"\"\" Get the documents from the last n days \"\"\"\n",
    "    sorted_lst = sorted(lst, key=lambda x: x[1], reverse=True)\n",
    "    for fname, date in sorted_lst:\n",
    "        if date >= str(datetime.date.today() - datetime.timedelta(days=days)):\n",
    "            yield fname\n",
    "\n",
    "def extract_appearance_dates(lst_file):\n",
    "    dates = []\n",
    "\n",
    "    def get_date(line):\n",
    "        return line\\\n",
    "            .split('Appeared on:')[-1]\\\n",
    "            .split('</mark>')[0].strip()\n",
    "\n",
    "    for fname in lst:\n",
    "        with open(fname, 'r') as f:\n",
    "            found_date = False\n",
    "            for line in f:\n",
    "                if not found_date:\n",
    "                    if \"Appeared on\" in line:\n",
    "                        found_date = True\n",
    "                        dates.append((fname, get_date(line)))\n",
    "                else:\n",
    "                    break\n",
    "    return dates\n",
    "\n",
    "from glob import glob\n",
    "lst = glob('_build/html/*md')\n",
    "days = 7\n",
    "dates = extract_appearance_dates(lst)\n",
    "res = list(get_last_n_days(dates, days))\n",
    "npub = len(res)\n",
    "print(len(res), f\" publications in the last {days:d} days.\")"
   ]
  },
  {
   "cell_type": "code",
   "execution_count": 12,
   "id": "52ca0208",
   "metadata": {
    "execution": {
     "iopub.execute_input": "2025-04-08T04:13:19.619601Z",
     "iopub.status.busy": "2025-04-08T04:13:19.619410Z",
     "iopub.status.idle": "2025-04-08T04:13:19.624296Z",
     "shell.execute_reply": "2025-04-08T04:13:19.623776Z"
    },
    "papermill": {
     "duration": 0.012349,
     "end_time": "2025-04-08T04:13:19.625261",
     "exception": false,
     "start_time": "2025-04-08T04:13:19.612912",
     "status": "completed"
    },
    "scrolled": false,
    "tags": []
   },
   "outputs": [],
   "source": [
    "def create_carousel(npub=4):\n",
    "    \"\"\" Generate the HTML code for a carousel with `npub` slides \"\"\"\n",
    "    carousel = [\"\"\"  <div class=\"carousel\" \"\"\",\n",
    "                \"\"\"       data-flickity='{ \"autoPlay\": 10000, \"adaptiveHeight\": true, \"resize\": true, \"wrapAround\": true, \"pauseAutoPlayOnHover\": true, \"groupCells\": 1 }' id=\"asyncTypeset\">\"\"\"\n",
    "                ]\n",
    "    \n",
    "    item_str = \"\"\"    <div class=\"carousel-cell\"> <div id=\"slide{k}\" class=\"md_view\">Content {k}</div> </div>\"\"\"\n",
    "    for k in range(1, npub + 1):\n",
    "        carousel.append(item_str.format(k=k))\n",
    "    carousel.append(\"  </div>\")\n",
    "    return '\\n'.join(carousel)\n",
    "\n",
    "def create_grid(npub=4):\n",
    "    \"\"\" Generate the HTML code for a flat grid with `npub` slides \"\"\"\n",
    "    grid = [\"\"\"  <div class=\"grid\"> \"\"\",\n",
    "                ]\n",
    "    \n",
    "    item_str = \"\"\"    <div class=\"grid-item\"> <div id=\"slide{k}\" class=\"md_view\">Content {k}</div> </div>\"\"\"\n",
    "    for k in range(1, npub + 1):\n",
    "        grid.append(item_str.format(k=k))\n",
    "    grid.append(\"  </div>\")\n",
    "    return '\\n'.join(grid)"
   ]
  },
  {
   "cell_type": "code",
   "execution_count": 13,
   "id": "a6eac5b6",
   "metadata": {
    "execution": {
     "iopub.execute_input": "2025-04-08T04:13:19.638220Z",
     "iopub.status.busy": "2025-04-08T04:13:19.637761Z",
     "iopub.status.idle": "2025-04-08T04:13:19.643006Z",
     "shell.execute_reply": "2025-04-08T04:13:19.642501Z"
    },
    "papermill": {
     "duration": 0.012811,
     "end_time": "2025-04-08T04:13:19.643951",
     "exception": false,
     "start_time": "2025-04-08T04:13:19.631140",
     "status": "completed"
    },
    "scrolled": false,
    "tags": []
   },
   "outputs": [],
   "source": [
    "carousel = create_carousel(npub)\n",
    "docs = ', '.join(['\"{0:s}\"'.format(k.split('/')[-1]) for k in res])\n",
    "slides = ', '.join([f'\"slide{k}\"' for k in range(1, npub + 1)])\n",
    "\n",
    "with open(\"daily_template.html\", \"r\") as tpl:\n",
    "    page = tpl.read()\n",
    "    page = page.replace(\"{%-- carousel:s --%}\", carousel)\\\n",
    "               .replace(\"{%-- suptitle:s --%}\",  \"7-day archives\" )\\\n",
    "               .replace(\"{%-- docs:s --%}\", docs)\\\n",
    "               .replace(\"{%-- slides:s --%}\", slides)\n",
    "    \n",
    "with open(\"_build/html/index_7days.html\", 'w') as fout:\n",
    "    fout.write(page)"
   ]
  },
  {
   "cell_type": "code",
   "execution_count": 14,
   "id": "adc1a1ec",
   "metadata": {
    "execution": {
     "iopub.execute_input": "2025-04-08T04:13:19.657369Z",
     "iopub.status.busy": "2025-04-08T04:13:19.656914Z",
     "iopub.status.idle": "2025-04-08T04:13:19.663956Z",
     "shell.execute_reply": "2025-04-08T04:13:19.663432Z"
    },
    "papermill": {
     "duration": 0.014784,
     "end_time": "2025-04-08T04:13:19.664996",
     "exception": false,
     "start_time": "2025-04-08T04:13:19.650212",
     "status": "completed"
    },
    "tags": []
   },
   "outputs": [
    {
     "name": "stdout",
     "output_type": "stream",
     "text": [
      "5  publications in the last day.\n"
     ]
    }
   ],
   "source": [
    "# redo for today\n",
    "days = 1\n",
    "res = list(get_last_n_days(dates, days))\n",
    "npub = len(res)\n",
    "print(len(res), f\" publications in the last day.\")\n",
    "\n",
    "carousel = create_carousel(npub)\n",
    "docs = ', '.join(['\"{0:s}\"'.format(k.split('/')[-1]) for k in res])\n",
    "slides = ', '.join([f'\"slide{k}\"' for k in range(1, npub + 1)])\n",
    "\n",
    "with open(\"daily_template.html\", \"r\") as tpl:\n",
    "    page = tpl.read()\n",
    "    page = page.replace(\"{%-- carousel:s --%}\", carousel)\\\n",
    "               .replace(\"{%-- suptitle:s --%}\",  \"Daily\" )\\\n",
    "               .replace(\"{%-- docs:s --%}\", docs)\\\n",
    "               .replace(\"{%-- slides:s --%}\", slides)\n",
    "    \n",
    "# print(carousel, docs, slides)\n",
    "# print(page)\n",
    "with open(\"_build/html/index_daily.html\", 'w') as fout:\n",
    "    fout.write(page)"
   ]
  },
  {
   "cell_type": "code",
   "execution_count": 15,
   "id": "00eece82",
   "metadata": {
    "execution": {
     "iopub.execute_input": "2025-04-08T04:13:19.677689Z",
     "iopub.status.busy": "2025-04-08T04:13:19.677482Z",
     "iopub.status.idle": "2025-04-08T04:13:19.683934Z",
     "shell.execute_reply": "2025-04-08T04:13:19.683387Z"
    },
    "papermill": {
     "duration": 0.013868,
     "end_time": "2025-04-08T04:13:19.684843",
     "exception": false,
     "start_time": "2025-04-08T04:13:19.670975",
     "status": "completed"
    },
    "scrolled": false,
    "tags": []
   },
   "outputs": [
    {
     "name": "stdout",
     "output_type": "stream",
     "text": [
      "6  6 publications selected.\n"
     ]
    }
   ],
   "source": [
    "# Create the flat grid of the last N papers (fixed number regardless of dates)\n",
    "from itertools import islice \n",
    "\n",
    "npub = 6\n",
    "res = [k[0] for k in (islice(reversed(sorted(dates, key=lambda x: x[1])), 6))]\n",
    "print(len(res), f\" {npub} publications selected.\")\n",
    "\n",
    "grid = create_grid(npub)\n",
    "docs = ', '.join(['\"{0:s}\"'.format(k.split('/')[-1]) for k in res])\n",
    "slides = ', '.join([f'\"slide{k}\"' for k in range(1, npub + 1)])\n",
    "\n",
    "with open(\"grid_template.html\", \"r\") as tpl:\n",
    "    page = tpl.read()\n",
    "    page = page.replace(\"{%-- grid-content:s --%}\", grid)\\\n",
    "               .replace(\"{%-- suptitle:s --%}\",  f\"Last {npub:,d} papers\" )\\\n",
    "               .replace(\"{%-- docs:s --%}\", docs)\\\n",
    "               .replace(\"{%-- slides:s --%}\", slides)\n",
    "    \n",
    "# print(grid, docs, slides)\n",
    "# print(page)\n",
    "with open(\"_build/html/index_npub_grid.html\", 'w') as fout:\n",
    "    fout.write(page)"
   ]
  }
 ],
 "metadata": {
  "kernelspec": {
   "display_name": "Python 3 (ipykernel)",
   "language": "python",
   "name": "python3"
  },
  "language_info": {
   "codemirror_mode": {
    "name": "ipython",
    "version": 3
   },
   "file_extension": ".py",
   "mimetype": "text/x-python",
   "name": "python",
   "nbconvert_exporter": "python",
   "pygments_lexer": "ipython3",
   "version": "3.9.21"
  },
  "papermill": {
   "default_parameters": {},
   "duration": 89.986946,
   "end_time": "2025-04-08T04:13:19.908023",
   "environment_variables": {},
   "exception": null,
   "input_path": "MPIA daily digest.ipynb",
   "output_path": "log.ipynb",
   "parameters": {},
   "start_time": "2025-04-08T04:11:49.921077",
   "version": "2.6.0"
  },
  "vscode": {
   "interpreter": {
    "hash": "aee8b7b246df8f9039afb4144a1f6fd8d2ca17a180786b69acc140d282b71a49"
   }
  },
  "widgets": {
   "application/vnd.jupyter.widget-state+json": {
    "state": {
     "02d7caab3e414d11b2d975adeb8d1981": {
      "model_module": "@jupyter-widgets/controls",
      "model_module_version": "2.0.0",
      "model_name": "HTMLModel",
      "state": {
       "_dom_classes": [],
       "_model_module": "@jupyter-widgets/controls",
       "_model_module_version": "2.0.0",
       "_model_name": "HTMLModel",
       "_view_count": null,
       "_view_module": "@jupyter-widgets/controls",
       "_view_module_version": "2.0.0",
       "_view_name": "HTMLView",
       "description": "",
       "description_allow_html": false,
       "layout": "IPY_MODEL_5b3ccb1b2a31415a8f03b29fc9f1c9f8",
       "placeholder": "​",
       "style": "IPY_MODEL_12392baf9ba0473e8fd3b28a1f1d3c29",
       "tabbable": null,
       "tooltip": null,
       "value": " 8/8 [01:06&lt;00:00, 12.05s/it]"
      }
     },
     "12392baf9ba0473e8fd3b28a1f1d3c29": {
      "model_module": "@jupyter-widgets/controls",
      "model_module_version": "2.0.0",
      "model_name": "HTMLStyleModel",
      "state": {
       "_model_module": "@jupyter-widgets/controls",
       "_model_module_version": "2.0.0",
       "_model_name": "HTMLStyleModel",
       "_view_count": null,
       "_view_module": "@jupyter-widgets/base",
       "_view_module_version": "2.0.0",
       "_view_name": "StyleView",
       "background": null,
       "description_width": "",
       "font_size": null,
       "text_color": null
      }
     },
     "24161055d2a546f48043e4262639d4a1": {
      "model_module": "@jupyter-widgets/controls",
      "model_module_version": "2.0.0",
      "model_name": "HTMLModel",
      "state": {
       "_dom_classes": [],
       "_model_module": "@jupyter-widgets/controls",
       "_model_module_version": "2.0.0",
       "_model_name": "HTMLModel",
       "_view_count": null,
       "_view_module": "@jupyter-widgets/controls",
       "_view_module_version": "2.0.0",
       "_view_name": "HTMLView",
       "description": "",
       "description_allow_html": false,
       "layout": "IPY_MODEL_8dc60800996a4851a760ca90711679fa",
       "placeholder": "​",
       "style": "IPY_MODEL_6cd04219318e4530b6c693e723493323",
       "tabbable": null,
       "tooltip": null,
       "value": "100%"
      }
     },
     "4898b048e42b43c5b234f6f49d74023d": {
      "model_module": "@jupyter-widgets/controls",
      "model_module_version": "2.0.0",
      "model_name": "FloatProgressModel",
      "state": {
       "_dom_classes": [],
       "_model_module": "@jupyter-widgets/controls",
       "_model_module_version": "2.0.0",
       "_model_name": "FloatProgressModel",
       "_view_count": null,
       "_view_module": "@jupyter-widgets/controls",
       "_view_module_version": "2.0.0",
       "_view_name": "ProgressView",
       "bar_style": "success",
       "description": "",
       "description_allow_html": false,
       "layout": "IPY_MODEL_f6004c15c4f74a59ba9545d6f1fbc7bb",
       "max": 8.0,
       "min": 0.0,
       "orientation": "horizontal",
       "style": "IPY_MODEL_ab8f94c26b964146b7360de65bb727ad",
       "tabbable": null,
       "tooltip": null,
       "value": 8.0
      }
     },
     "5b3ccb1b2a31415a8f03b29fc9f1c9f8": {
      "model_module": "@jupyter-widgets/base",
      "model_module_version": "2.0.0",
      "model_name": "LayoutModel",
      "state": {
       "_model_module": "@jupyter-widgets/base",
       "_model_module_version": "2.0.0",
       "_model_name": "LayoutModel",
       "_view_count": null,
       "_view_module": "@jupyter-widgets/base",
       "_view_module_version": "2.0.0",
       "_view_name": "LayoutView",
       "align_content": null,
       "align_items": null,
       "align_self": null,
       "border_bottom": null,
       "border_left": null,
       "border_right": null,
       "border_top": null,
       "bottom": null,
       "display": null,
       "flex": null,
       "flex_flow": null,
       "grid_area": null,
       "grid_auto_columns": null,
       "grid_auto_flow": null,
       "grid_auto_rows": null,
       "grid_column": null,
       "grid_gap": null,
       "grid_row": null,
       "grid_template_areas": null,
       "grid_template_columns": null,
       "grid_template_rows": null,
       "height": null,
       "justify_content": null,
       "justify_items": null,
       "left": null,
       "margin": null,
       "max_height": null,
       "max_width": null,
       "min_height": null,
       "min_width": null,
       "object_fit": null,
       "object_position": null,
       "order": null,
       "overflow": null,
       "padding": null,
       "right": null,
       "top": null,
       "visibility": null,
       "width": null
      }
     },
     "6cd04219318e4530b6c693e723493323": {
      "model_module": "@jupyter-widgets/controls",
      "model_module_version": "2.0.0",
      "model_name": "HTMLStyleModel",
      "state": {
       "_model_module": "@jupyter-widgets/controls",
       "_model_module_version": "2.0.0",
       "_model_name": "HTMLStyleModel",
       "_view_count": null,
       "_view_module": "@jupyter-widgets/base",
       "_view_module_version": "2.0.0",
       "_view_name": "StyleView",
       "background": null,
       "description_width": "",
       "font_size": null,
       "text_color": null
      }
     },
     "83b6f9ca225a43bb808c2ebdebc5fdab": {
      "model_module": "@jupyter-widgets/controls",
      "model_module_version": "2.0.0",
      "model_name": "HBoxModel",
      "state": {
       "_dom_classes": [],
       "_model_module": "@jupyter-widgets/controls",
       "_model_module_version": "2.0.0",
       "_model_name": "HBoxModel",
       "_view_count": null,
       "_view_module": "@jupyter-widgets/controls",
       "_view_module_version": "2.0.0",
       "_view_name": "HBoxView",
       "box_style": "",
       "children": [
        "IPY_MODEL_24161055d2a546f48043e4262639d4a1",
        "IPY_MODEL_4898b048e42b43c5b234f6f49d74023d",
        "IPY_MODEL_02d7caab3e414d11b2d975adeb8d1981"
       ],
       "layout": "IPY_MODEL_fdc8c1d11aac48b0b7143e7aede845d5",
       "tabbable": null,
       "tooltip": null
      }
     },
     "8dc60800996a4851a760ca90711679fa": {
      "model_module": "@jupyter-widgets/base",
      "model_module_version": "2.0.0",
      "model_name": "LayoutModel",
      "state": {
       "_model_module": "@jupyter-widgets/base",
       "_model_module_version": "2.0.0",
       "_model_name": "LayoutModel",
       "_view_count": null,
       "_view_module": "@jupyter-widgets/base",
       "_view_module_version": "2.0.0",
       "_view_name": "LayoutView",
       "align_content": null,
       "align_items": null,
       "align_self": null,
       "border_bottom": null,
       "border_left": null,
       "border_right": null,
       "border_top": null,
       "bottom": null,
       "display": null,
       "flex": null,
       "flex_flow": null,
       "grid_area": null,
       "grid_auto_columns": null,
       "grid_auto_flow": null,
       "grid_auto_rows": null,
       "grid_column": null,
       "grid_gap": null,
       "grid_row": null,
       "grid_template_areas": null,
       "grid_template_columns": null,
       "grid_template_rows": null,
       "height": null,
       "justify_content": null,
       "justify_items": null,
       "left": null,
       "margin": null,
       "max_height": null,
       "max_width": null,
       "min_height": null,
       "min_width": null,
       "object_fit": null,
       "object_position": null,
       "order": null,
       "overflow": null,
       "padding": null,
       "right": null,
       "top": null,
       "visibility": null,
       "width": null
      }
     },
     "ab8f94c26b964146b7360de65bb727ad": {
      "model_module": "@jupyter-widgets/controls",
      "model_module_version": "2.0.0",
      "model_name": "ProgressStyleModel",
      "state": {
       "_model_module": "@jupyter-widgets/controls",
       "_model_module_version": "2.0.0",
       "_model_name": "ProgressStyleModel",
       "_view_count": null,
       "_view_module": "@jupyter-widgets/base",
       "_view_module_version": "2.0.0",
       "_view_name": "StyleView",
       "bar_color": null,
       "description_width": ""
      }
     },
     "f6004c15c4f74a59ba9545d6f1fbc7bb": {
      "model_module": "@jupyter-widgets/base",
      "model_module_version": "2.0.0",
      "model_name": "LayoutModel",
      "state": {
       "_model_module": "@jupyter-widgets/base",
       "_model_module_version": "2.0.0",
       "_model_name": "LayoutModel",
       "_view_count": null,
       "_view_module": "@jupyter-widgets/base",
       "_view_module_version": "2.0.0",
       "_view_name": "LayoutView",
       "align_content": null,
       "align_items": null,
       "align_self": null,
       "border_bottom": null,
       "border_left": null,
       "border_right": null,
       "border_top": null,
       "bottom": null,
       "display": null,
       "flex": null,
       "flex_flow": null,
       "grid_area": null,
       "grid_auto_columns": null,
       "grid_auto_flow": null,
       "grid_auto_rows": null,
       "grid_column": null,
       "grid_gap": null,
       "grid_row": null,
       "grid_template_areas": null,
       "grid_template_columns": null,
       "grid_template_rows": null,
       "height": null,
       "justify_content": null,
       "justify_items": null,
       "left": null,
       "margin": null,
       "max_height": null,
       "max_width": null,
       "min_height": null,
       "min_width": null,
       "object_fit": null,
       "object_position": null,
       "order": null,
       "overflow": null,
       "padding": null,
       "right": null,
       "top": null,
       "visibility": null,
       "width": null
      }
     },
     "fdc8c1d11aac48b0b7143e7aede845d5": {
      "model_module": "@jupyter-widgets/base",
      "model_module_version": "2.0.0",
      "model_name": "LayoutModel",
      "state": {
       "_model_module": "@jupyter-widgets/base",
       "_model_module_version": "2.0.0",
       "_model_name": "LayoutModel",
       "_view_count": null,
       "_view_module": "@jupyter-widgets/base",
       "_view_module_version": "2.0.0",
       "_view_name": "LayoutView",
       "align_content": null,
       "align_items": null,
       "align_self": null,
       "border_bottom": null,
       "border_left": null,
       "border_right": null,
       "border_top": null,
       "bottom": null,
       "display": null,
       "flex": null,
       "flex_flow": null,
       "grid_area": null,
       "grid_auto_columns": null,
       "grid_auto_flow": null,
       "grid_auto_rows": null,
       "grid_column": null,
       "grid_gap": null,
       "grid_row": null,
       "grid_template_areas": null,
       "grid_template_columns": null,
       "grid_template_rows": null,
       "height": null,
       "justify_content": null,
       "justify_items": null,
       "left": null,
       "margin": null,
       "max_height": null,
       "max_width": null,
       "min_height": null,
       "min_width": null,
       "object_fit": null,
       "object_position": null,
       "order": null,
       "overflow": null,
       "padding": null,
       "right": null,
       "top": null,
       "visibility": null,
       "width": null
      }
     }
    },
    "version_major": 2,
    "version_minor": 0
   }
  }
 },
 "nbformat": 4,
 "nbformat_minor": 5
}