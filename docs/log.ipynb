{
 "cells": [
  {
   "cell_type": "markdown",
   "id": "92bcb855",
   "metadata": {
    "papermill": {
     "duration": 0.003743,
     "end_time": "2025-10-22T04:13:09.533307",
     "exception": false,
     "start_time": "2025-10-22T04:13:09.529564",
     "status": "completed"
    },
    "tags": []
   },
   "source": [
    "# MPIA Arxiv on Deck 2\n",
    "\n",
    "Contains the steps to produce the paper extractions."
   ]
  },
  {
   "cell_type": "code",
   "execution_count": 1,
   "id": "3a0d6e11",
   "metadata": {
    "execution": {
     "iopub.execute_input": "2025-10-22T04:13:09.540405Z",
     "iopub.status.busy": "2025-10-22T04:13:09.540139Z",
     "iopub.status.idle": "2025-10-22T04:13:09.744162Z",
     "shell.execute_reply": "2025-10-22T04:13:09.743432Z"
    },
    "papermill": {
     "duration": 0.209094,
     "end_time": "2025-10-22T04:13:09.745583",
     "exception": false,
     "start_time": "2025-10-22T04:13:09.536489",
     "status": "completed"
    },
    "tags": []
   },
   "outputs": [],
   "source": [
    "# Imports\n",
    "import os\n",
    "from IPython.display import Markdown, display\n",
    "from tqdm.notebook import tqdm\n",
    "import warnings\n",
    "from PIL import Image \n",
    "import re\n",
    "\n",
    "# requires arxiv_on_deck_2\n",
    "\n",
    "from arxiv_on_deck_2.arxiv2 import (get_new_papers, \n",
    "                                    get_paper_from_identifier,\n",
    "                                    retrieve_document_source, \n",
    "                                    get_markdown_badge)\n",
    "from arxiv_on_deck_2 import (latex,\n",
    "                             latex_bib,\n",
    "                             mpia,\n",
    "                             highlight_authors_in_list)\n",
    "\n",
    "# Sometimes images are really big\n",
    "Image.MAX_IMAGE_PIXELS = 1000000000 "
   ]
  },
  {
   "cell_type": "code",
   "execution_count": 2,
   "id": "22aa9d44",
   "metadata": {
    "execution": {
     "iopub.execute_input": "2025-10-22T04:13:09.752678Z",
     "iopub.status.busy": "2025-10-22T04:13:09.752481Z",
     "iopub.status.idle": "2025-10-22T04:13:09.760403Z",
     "shell.execute_reply": "2025-10-22T04:13:09.759858Z"
    },
    "papermill": {
     "duration": 0.012441,
     "end_time": "2025-10-22T04:13:09.761389",
     "exception": false,
     "start_time": "2025-10-22T04:13:09.748948",
     "status": "completed"
    },
    "tags": []
   },
   "outputs": [],
   "source": [
    "# Some useful definitions.\n",
    "\n",
    "class AffiliationWarning(UserWarning):\n",
    "    pass\n",
    "\n",
    "class AffiliationError(RuntimeError):\n",
    "    pass\n",
    "\n",
    "def validation(source: str):\n",
    "    \"\"\"Raises error paper during parsing of source file\n",
    "    \n",
    "    Allows checks before parsing TeX code.\n",
    "    \n",
    "    Raises AffiliationWarning\n",
    "    \"\"\"\n",
    "    check = mpia.affiliation_verifications(source, verbose=True)\n",
    "    if check is not True:\n",
    "        raise AffiliationError(\"mpia.affiliation_verifications: \" + check)\n",
    "\n",
    "        \n",
    "warnings.simplefilter('always', AffiliationWarning)\n",
    "\n",
    "\n",
    "def get_markdown_qrcode(paper_id: str):\n",
    "    \"\"\" Generate a qrcode to the arxiv page using qrserver.com\n",
    "    \n",
    "    :param paper: Arxiv paper\n",
    "    :returns: markdown text\n",
    "    \"\"\"\n",
    "    url = r\"https://api.qrserver.com/v1/create-qr-code/?size=100x100&data=\"\n",
    "    txt = f\"\"\"<img src={url}\"https://arxiv.org/abs/{paper_id}\">\"\"\"\n",
    "    txt = '<div id=\"qrcode\">' + txt + '</div>'\n",
    "    return txt\n",
    "\n",
    "\n",
    "def clean_non_western_encoded_characters_commands(text: str) -> str:\n",
    "    \"\"\" Remove non-western encoded characters from a string\n",
    "    List may need to grow.\n",
    "    \n",
    "    :param text: the text to clean\n",
    "    :return: the cleaned text\n",
    "    \"\"\"\n",
    "    text = re.sub(r\"(\\\\begin{CJK}{UTF8}{gbsn})(.*?)(\\\\end{CJK})\", r\"\\2\", text)\n",
    "    return text\n",
    "\n",
    "\n",
    "def get_initials(name: str) -> str:\n",
    "    \"\"\" Get the short name, e.g., A.-B. FamName\n",
    "    :param name: full name\n",
    "    :returns: initials\n",
    "    \"\"\"\n",
    "    initials = []\n",
    "    # account for non western names often in ()\n",
    "    if '(' in name:\n",
    "        name = clean_non_western_encoded_characters_commands(name)\n",
    "        suffix = re.findall(r\"\\((.*?)\\)\", name)[0]\n",
    "        name = name.replace(f\"({suffix})\", '')\n",
    "    else:\n",
    "        suffix = ''\n",
    "    split = name.split()\n",
    "    for token in split[:-1]:\n",
    "        if '-' in token:\n",
    "            current = '-'.join([k[0] + '.' for k in token.split('-')])\n",
    "        else:\n",
    "            current = token[0] + '.'\n",
    "        initials.append(current)\n",
    "    initials.append(split[-1].strip())\n",
    "    if suffix:\n",
    "        initials.append(f\"({suffix})\")\n",
    "    return ' '.join(initials)"
   ]
  },
  {
   "cell_type": "markdown",
   "id": "14bd6310",
   "metadata": {
    "papermill": {
     "duration": 0.002846,
     "end_time": "2025-10-22T04:13:09.767169",
     "exception": false,
     "start_time": "2025-10-22T04:13:09.764323",
     "status": "completed"
    },
    "tags": []
   },
   "source": [
    "## get list of arxiv paper candidates\n",
    "\n",
    "We use the MPIA mitarbeiter list webpage from mpia.de to get author names\n",
    "We then get all new papers from Arxiv and match authors"
   ]
  },
  {
   "cell_type": "code",
   "execution_count": 3,
   "id": "7ea813a8",
   "metadata": {
    "execution": {
     "iopub.execute_input": "2025-10-22T04:13:09.773623Z",
     "iopub.status.busy": "2025-10-22T04:13:09.773437Z",
     "iopub.status.idle": "2025-10-22T04:13:32.320905Z",
     "shell.execute_reply": "2025-10-22T04:13:32.320186Z"
    },
    "papermill": {
     "duration": 22.552143,
     "end_time": "2025-10-22T04:13:32.322241",
     "exception": false,
     "start_time": "2025-10-22T04:13:09.770098",
     "status": "completed"
    },
    "tags": []
   },
   "outputs": [],
   "source": [
    "# deal with the author list and edge cases of people that cannot be consistent on their name  \n",
    "\n",
    "def filter_non_scientists(name: str) -> bool:\n",
    "    \"\"\" Loose filter on expected authorships\n",
    "\n",
    "    removing IT, administration, technical staff\n",
    "    :param name: name\n",
    "    :returns: False if name is not a scientist\n",
    "    \"\"\"\n",
    "    remove_list = ['Licht', 'Binroth', 'Witzel', 'Jordan',\n",
    "                   'Zähringer', 'Scheerer', 'Hoffmann', 'Düe',\n",
    "                   'Hellmich', 'Enkler-Scharpegge', 'Witte-Nguy',\n",
    "                   'Dehen', 'Beckmann', 'Jager', 'Jäger'\n",
    "                  ]\n",
    "\n",
    "    for k in remove_list:\n",
    "        if k in name:\n",
    "            return False\n",
    "    return True\n",
    "\n",
    "def add_author_to_list(author_list: list) -> list:\n",
    "    \"\"\" Add author to list if not already in list\n",
    "    \n",
    "    :param author: author name\n",
    "    :param author_list: list of authors\n",
    "    :returns: updated list of authors\n",
    "    \"\"\"\n",
    "    add_list = ['T. Henning']\n",
    "\n",
    "    for author in add_list:\n",
    "        if author not in author_list:\n",
    "            author_list.append(author)\n",
    "    return author_list\n",
    "\n",
    "# get list from MPIA website\n",
    "# filter for non-scientists (mpia.get_mpia_mitarbeiter_list() does some filtering)\n",
    "mpia_authors = [k[1] for k in mpia.get_mpia_mitarbeiter_list() if filter_non_scientists(k[1])]\n",
    "# add some missing author because of inconsistencies in their MPIA name and author name on papers\n",
    "mpia_authors = add_author_to_list(mpia_authors)"
   ]
  },
  {
   "cell_type": "code",
   "execution_count": 4,
   "id": "2645e73a",
   "metadata": {
    "execution": {
     "iopub.execute_input": "2025-10-22T04:13:32.329390Z",
     "iopub.status.busy": "2025-10-22T04:13:32.329132Z",
     "iopub.status.idle": "2025-10-22T04:13:33.296442Z",
     "shell.execute_reply": "2025-10-22T04:13:33.295743Z"
    },
    "papermill": {
     "duration": 0.971964,
     "end_time": "2025-10-22T04:13:33.297503",
     "exception": false,
     "start_time": "2025-10-22T04:13:32.325539",
     "status": "completed"
    },
    "tags": []
   },
   "outputs": [
    {
     "name": "stdout",
     "output_type": "stream",
     "text": [
      "Y. Wang  ->  Y. Wang  |  ['Y. Wang']\n",
      "S. Shahaf  ->  S. Shahaf  |  ['S. Shahaf']\n",
      "J. Li  ->  J. Li  |  ['J. Li']\n",
      "H.-W. Rix  ->  H.-W. Rix  |  ['H.-W. Rix']\n",
      "J. Li  ->  J. Li  |  ['J. Li']\n",
      "Y. Wu  ->  Y. Wu  |  ['Y. Wu']\n",
      "J. Li  ->  J. Li  |  ['J. Li']\n"
     ]
    },
    {
     "name": "stdout",
     "output_type": "stream",
     "text": [
      "X. Zhang  ->  X. Zhang  |  ['X. Zhang']\n",
      "J. Li  ->  J. Li  |  ['J. Li']\n",
      "Arxiv has 90 new papers today\n",
      "          7 with possible author matches\n"
     ]
    }
   ],
   "source": [
    "new_papers = get_new_papers()\n",
    "# add manual references\n",
    "add_paper_refs = []\n",
    "new_papers.extend([get_paper_from_identifier(k) for k in add_paper_refs])\n",
    "\n",
    "def robust_call(fn, value, *args, **kwargs):\n",
    "    try:\n",
    "        return fn(value, *args, **kwargs)\n",
    "    except Exception:\n",
    "        return value\n",
    "\n",
    "candidates = []\n",
    "for paperk in new_papers:\n",
    "    # Check author list with their initials\n",
    "    normed_author_list = [robust_call(mpia.get_initials, k) for k in paperk['authors']]\n",
    "    hl_authors = highlight_authors_in_list(normed_author_list, mpia_authors, verbose=True)\n",
    "    matches = [(hl, orig) for hl, orig in zip(hl_authors, paperk['authors']) if 'mark' in hl]\n",
    "    paperk['authors'] = hl_authors\n",
    "    if matches:\n",
    "        # only select paper if an author matched our list\n",
    "        candidates.append(paperk)\n",
    "print(\"\"\"Arxiv has {0:,d} new papers today\"\"\".format(len(new_papers)))        \n",
    "print(\"\"\"          {0:,d} with possible author matches\"\"\".format(len(candidates)))"
   ]
  },
  {
   "cell_type": "markdown",
   "id": "3543b34a",
   "metadata": {
    "papermill": {
     "duration": 0.003198,
     "end_time": "2025-10-22T04:13:33.304317",
     "exception": false,
     "start_time": "2025-10-22T04:13:33.301119",
     "status": "completed"
    },
    "tags": []
   },
   "source": [
    "# Parse sources and generate relevant outputs\n",
    "\n",
    "From the candidates, we do the following steps:\n",
    "* get their tarball from ArXiv (and extract data)\n",
    "* find the main .tex file: find one with \\documentclass{...} (sometimes it's non trivial)\n",
    "* Check affiliations with :func:`validation`, which uses :func:`mpia.affiliation_verifications`\n",
    "* If passing the affiliations: we parse the .tex source\n",
    "   * inject sub-documents into the main (flatten the main document)\n",
    "   * parse structure, extract information (title, abstract, authors, figures...)\n",
    "   * handles `\\graphicspath` if provided\n",
    "* Generate the .md document."
   ]
  },
  {
   "cell_type": "code",
   "execution_count": 5,
   "id": "9576b79e",
   "metadata": {
    "execution": {
     "iopub.execute_input": "2025-10-22T04:13:33.311183Z",
     "iopub.status.busy": "2025-10-22T04:13:33.310984Z",
     "iopub.status.idle": "2025-10-22T04:13:50.990643Z",
     "shell.execute_reply": "2025-10-22T04:13:50.989889Z"
    },
    "papermill": {
     "duration": 17.684356,
     "end_time": "2025-10-22T04:13:50.991744",
     "exception": false,
     "start_time": "2025-10-22T04:13:33.307388",
     "status": "completed"
    },
    "scrolled": false,
    "tags": []
   },
   "outputs": [
    {
     "data": {
      "application/vnd.jupyter.widget-view+json": {
       "model_id": "9eb985aa6ea347d78c842f81a1cbfaba",
       "version_major": 2,
       "version_minor": 0
      },
      "text/plain": [
       "  0%|          | 0/7 [00:00<?, ?it/s]"
      ]
     },
     "metadata": {},
     "output_type": "display_data"
    },
    {
     "name": "stdout",
     "output_type": "stream",
     "text": [
      "Retrieving document from  https://arxiv.org/e-print/2510.17906\n"
     ]
    },
    {
     "name": "stdout",
     "output_type": "stream",
     "text": [
      "extracting tarball to tmp_2510.17906..."
     ]
    },
    {
     "name": "stdout",
     "output_type": "stream",
     "text": [
      " done.\n",
      "Retrieving document from  https://arxiv.org/e-print/2510.17957\n"
     ]
    },
    {
     "name": "stdout",
     "output_type": "stream",
     "text": [
      "extracting tarball to tmp_2510.17957..."
     ]
    },
    {
     "name": "stdout",
     "output_type": "stream",
     "text": [
      " done.\n"
     ]
    },
    {
     "name": "stdout",
     "output_type": "stream",
     "text": [
      "S. Shahaf  ->  S. Shahaf  |  ['S. Shahaf']\n",
      "J. Li  ->  J. Li  |  ['J. Li']\n",
      "H.-W. Rix  ->  H.-W. Rix  |  ['H.-W. Rix']\n"
     ]
    },
    {
     "name": "stderr",
     "output_type": "stream",
     "text": [
      "/opt/hostedtoolcache/Python/3.9.23/x64/lib/python3.9/site-packages/arxiv_on_deck_2/latex.py:132: LatexWarning: attempting recovering figure Detection_Curve_days.pdf \n",
      "  warnings.warn(LatexWarning(f'attempting recovering figure {image}'))\n",
      "/opt/hostedtoolcache/Python/3.9.23/x64/lib/python3.9/site-packages/arxiv_on_deck_2/latex.py:707: LatexWarning: Could not find graphic \\includegraphics[width=\\columnwidth]{Detection_Curve_days.pdf }\n",
      "  warnings.warn(LatexWarning(f\"Could not find graphic {k}\"))\n"
     ]
    },
    {
     "name": "stdout",
     "output_type": "stream",
     "text": [
      "Found 55 bibliographic references in tmp_2510.17957/Main.bbl.\n",
      "Retrieving document from  https://arxiv.org/e-print/2510.17996\n"
     ]
    },
    {
     "name": "stdout",
     "output_type": "stream",
     "text": [
      "extracting tarball to tmp_2510.17996..."
     ]
    },
    {
     "name": "stdout",
     "output_type": "stream",
     "text": [
      " done.\n",
      "Retrieving document from  https://arxiv.org/e-print/2510.18227\n"
     ]
    },
    {
     "name": "stderr",
     "output_type": "stream",
     "text": [
      "/tmp/ipykernel_3397/2822249172.py:52: LatexWarning: 2510.18227 did not run properly\n",
      "not a gzip file\n",
      "  warnings.warn(latex.LatexWarning(f\"{paper_id:s} did not run properly\\n\" +\n"
     ]
    },
    {
     "name": "stdout",
     "output_type": "stream",
     "text": [
      "Retrieving document from  https://arxiv.org/e-print/2510.18248\n"
     ]
    },
    {
     "name": "stdout",
     "output_type": "stream",
     "text": [
      "extracting tarball to tmp_2510.18248..."
     ]
    },
    {
     "name": "stdout",
     "output_type": "stream",
     "text": [
      " done.\n",
      "Retrieving document from  https://arxiv.org/e-print/2510.18382\n"
     ]
    },
    {
     "name": "stdout",
     "output_type": "stream",
     "text": [
      "extracting tarball to tmp_2510.18382..."
     ]
    },
    {
     "name": "stdout",
     "output_type": "stream",
     "text": [
      " done.\n",
      "Retrieving document from  https://arxiv.org/e-print/2510.18531\n"
     ]
    },
    {
     "name": "stdout",
     "output_type": "stream",
     "text": [
      "extracting tarball to tmp_2510.18531... done.\n"
     ]
    }
   ],
   "source": [
    "documents = []\n",
    "failed = []\n",
    "for paper in tqdm(candidates):\n",
    "    # debug crap\n",
    "    paper['identifier'] = paper['identifier'].lower().replace('arxiv:', '').replace(r'\\n', '').strip()\n",
    "    paper_id = paper['identifier']\n",
    "    \n",
    "    folder = f'tmp_{paper_id}'\n",
    "\n",
    "    try:\n",
    "        if not os.path.isdir(folder):\n",
    "            folder = retrieve_document_source(f\"{paper_id}\", f'tmp_{paper_id}')\n",
    "        \n",
    "        try:\n",
    "            doc = latex.LatexDocument(folder, validation=validation)    \n",
    "        except AffiliationError as affilerror:\n",
    "            msg = f\"ArXiv:{paper_id:s} is not an MPIA paper... \" + str(affilerror)\n",
    "            failed.append((paper, \"affiliation error: \" + str(affilerror) ))\n",
    "            continue\n",
    "        \n",
    "        # Hack because sometimes author parsing does not work well\n",
    "        if (len(doc.authors) != len(paper['authors'])):\n",
    "            doc._authors = paper['authors']\n",
    "        else:\n",
    "            # highlight authors (FIXME: doc.highlight_authors)\n",
    "            # done on arxiv paper already\n",
    "            doc._authors = highlight_authors_in_list(\n",
    "                [get_initials(k) for k in doc.authors], \n",
    "                mpia_authors, verbose=True)\n",
    "        if (doc.abstract) in (None, ''):\n",
    "            doc._abstract = paper['abstract']\n",
    "            \n",
    "        doc.comment = (get_markdown_badge(paper_id) + \n",
    "                       \"<mark>Appeared on: \" + paper['date'] + \"</mark> - \")\n",
    "        if paper['comments']:\n",
    "            doc.comment += \" _\" + paper['comments'] + \"_\"\n",
    "        \n",
    "        full_md = doc.generate_markdown_text()\n",
    "        \n",
    "        full_md += get_markdown_qrcode(paper_id)\n",
    "        \n",
    "        # replace citations\n",
    "        try:\n",
    "            bibdata = latex_bib.LatexBib.from_doc(doc)\n",
    "            full_md = latex_bib.replace_citations(full_md, bibdata)\n",
    "        except Exception as e:\n",
    "            print(\"Issues with the citations\")\n",
    "            print(e)\n",
    "        \n",
    "        documents.append((paper_id, full_md))\n",
    "    except Exception as e:\n",
    "        warnings.warn(latex.LatexWarning(f\"{paper_id:s} did not run properly\\n\" +\n",
    "                                         str(e)\n",
    "                                        ))\n",
    "        failed.append((paper, \"latex error \" + str(e)))"
   ]
  },
  {
   "cell_type": "markdown",
   "id": "2505a25c",
   "metadata": {
    "papermill": {
     "duration": 0.003985,
     "end_time": "2025-10-22T04:13:51.000080",
     "exception": false,
     "start_time": "2025-10-22T04:13:50.996095",
     "status": "completed"
    },
    "tags": []
   },
   "source": [
    "### Export the logs\n",
    "\n",
    "Throughout, we also keep track of the logs per paper. see `logs-{today date}.md` "
   ]
  },
  {
   "cell_type": "code",
   "execution_count": 6,
   "id": "d733828a",
   "metadata": {
    "execution": {
     "iopub.execute_input": "2025-10-22T04:13:51.008927Z",
     "iopub.status.busy": "2025-10-22T04:13:51.008688Z",
     "iopub.status.idle": "2025-10-22T04:13:51.027199Z",
     "shell.execute_reply": "2025-10-22T04:13:51.026638Z"
    },
    "papermill": {
     "duration": 0.024189,
     "end_time": "2025-10-22T04:13:51.028169",
     "exception": false,
     "start_time": "2025-10-22T04:13:51.003980",
     "status": "completed"
    },
    "scrolled": false,
    "tags": []
   },
   "outputs": [
    {
     "data": {
      "text/markdown": [
       "## Successful papers"
      ],
      "text/plain": [
       "<IPython.core.display.Markdown object>"
      ]
     },
     "metadata": {},
     "output_type": "display_data"
    },
    {
     "data": {
      "text/markdown": [
       "\n",
       "|||\n",
       "|---:|:---|\n",
       "| [![arXiv](https://img.shields.io/badge/arXiv-2510.17957-b31b1b.svg)](https://arxiv.org/abs/2510.17957) | **The Silent Majority: The Interacting Post-Common-Envelope Binaries Underlying Cataclysmic Variables**  |\n",
       "|| Y. M. Shani, et al. -- incl., <mark>S. Shahaf</mark>, <mark>J. Li</mark>, <mark>H.-W. Rix</mark> |\n",
       "|*Appeared on*| *2025-10-22*|\n",
       "|*Comments*| **|\n",
       "|**Abstract**|            We analyze the orbital period distribution of post-common-envelope white-dwarf-main-sequence (WDMS) binaries by cross-matching the new spectroscopic Gaia DR3 WDMS catalog with TESS light curves, and applying a uniform periodicity search and vetting pipeline. We identify 107 periodic systems, including 74 eclipsing binaries (32 new) and 33 binaries exhibiting only sinusoidal variations. Injection-recovery tests and a forward detectability model yield a completeness-corrected distribution that is well-described by a two-component function: a log-period Gaussian peaking at $P_{\\rm orb} \\approx 4.1 $ h with $\\sigma \\approx 1.8$ h, plus a rising component that begins near $P_{\\rm orb}\\approx12.9$ h. We refer to this extended component as the long-period tail. It consists exclusively of detached non-interacting post-common-envelope binaries (PCEBs) that likely emerged from the common envelope and have not yet initiated mass transfer. In contrast, the short-period Gaussian is dominated by interacting or near-contact systems (including 22 known cataclysmic variables), consistent with high Roche-lobe filling factors. From the completeness-corrected distribution we infer that $29.8\\%\\pm4.5\\%$ of the spatially unresolved WDMSs in our parent catalog are close PCEBs. Binary population synthesis models with high common-envelope efficiencies overproduce long-period systems and fail to reproduce the sharp peak, whereas lower efficiencies ($\\alpha\\lambda \\leq 0.3$) match the peak more closely, yet still underpredict the tail. Our results hint at a large, currently under-classified reservoir of pre-cataclysmic variables and weakly accreting binaries, and provide new constraints on common-envelope physics.         |"
      ],
      "text/plain": [
       "[2510.17957] The Silent Majority: The Interacting Post-Common-Envelope Binaries Underlying Cataclysmic Variables\n",
       "\tY. M. Shani, et al. -- incl., <mark>S. Shahaf</mark>, <mark>J. Li</mark>, <mark>H.-W. Rix</mark>"
      ]
     },
     "metadata": {},
     "output_type": "display_data"
    },
    {
     "data": {
      "text/markdown": [
       "## Failed papers"
      ],
      "text/plain": [
       "<IPython.core.display.Markdown object>"
      ]
     },
     "metadata": {},
     "output_type": "display_data"
    },
    {
     "data": {
      "text/markdown": [
       "\n",
       "|||\n",
       "|---:|:---|\n",
       "| [![arXiv](https://img.shields.io/badge/arXiv-2510.17906-b31b1b.svg)](https://arxiv.org/abs/2510.17906) | **Imaging and Polarimetric Signatures of Konoplya-Zhidenko Black Holes with Various Thick Disk**  |\n",
       "|| X. Wang, <mark>Y. Wang</mark>, X.-X. Zeng |\n",
       "|*Appeared on*| *2025-10-22*|\n",
       "|*Comments*| *35pages,14figures*|\n",
       "|**Abstract**|            We investigate the imaging properties of spherically symmetric Konoplya-Zhidenko (KZ) black holes surrounded by geometrically thick accretion flows, adopting a phenomenological radiatively inefficient accretion flow (RIAF) model and an analytical ballistic approximation accretion flow (BAAF) model. General relativistic radiative transfer is employed to compute synchrotron emission from thermal electrons and generate horizon-scale images. For the RIAF model, we analyze the dependence of image morphology on the deformation parameter, observing frequency, and flow dynamics. The photon ring and central dark region expand with increasing deformation parameter, with brightness asymmetries arising at high inclinations and depending on flow dynamics and emission anisotropy. The BAAF disk produces narrower rings and darker centers, while polarization patterns trace the brightness distribution and vary with viewing angle and deformation, revealing spacetime structure. These results demonstrate that intensity and polarization in thick-disk models provide probes of KZ black holes and near-horizon accretion physics.         |\n",
       "|<p style=\"color:green\"> **ERROR** </p>| <p style=\"color:green\">affiliation error: mpia.affiliation_verifications: 'Heidelberg' keyword not found.</p> |"
      ],
      "text/plain": [
       "<IPython.core.display.Markdown object>"
      ]
     },
     "metadata": {},
     "output_type": "display_data"
    },
    {
     "data": {
      "text/markdown": [
       "\n",
       "|||\n",
       "|---:|:---|\n",
       "| [![arXiv](https://img.shields.io/badge/arXiv-2510.17996-b31b1b.svg)](https://arxiv.org/abs/2510.17996) | **Testing the Stellar Feedback-driven Breathing Mode in Low-mass Galaxies with Gas Kinematics**  |\n",
       "|| Y. Luo, et al. -- incl., <mark>J. Li</mark> |\n",
       "|*Appeared on*| *2025-10-22*|\n",
       "|*Comments*| *23 pages, 12 figures*|\n",
       "|**Abstract**|            Hydrodynamic simulations have proposed that stellar feedback and bursty star-formation can produce dark matter cores in low-mass galaxies. A key prediction is that feedback-driven gas outflow and inflow cycles can lead to ``breathing modes'' (rapid fluctuations in the global gravitational potential) which drive correlated variations in galaxy size, kinematics, and star-formation rate. In this paper, we test the dynamical effects of feedback-driven breathing modes using a sample of 103 star-forming low-mass galaxies with stellar masses between $7.9<\\rm \\log M_*/M_\\odot<9.6$ and $0.02<z<0.19$. We measure ionized gas velocity dispersions from H$\\alpha$ emission lines and compare them to mock observations from the FIRE-2 simulations. We compare gas velocity dispersions ($\\rm \\sigma_{gas}$), stellar masses, and specific star-formation rates (sSFR). We find a positive correlation between gas velocity dispersion residuals at fixed stellar masses ($\\rm \\Delta\\sigma_{gas}$) and sSFR in both data and simulations. However, the relation is tighter in FIRE-2 compared to the data. FIRE-2 produces more low-sSFR galaxies compared to our observational sample, however, the sSFR distributions agree after limiting both samples to a minimum sSFR. A deeper and more complete photometric sample further indicates that observed low-mass galaxies could span the full range of sSFR predicted in the FIRE-2 simulations. Our results support the existence of short-timescale dynamical effects driven by gas outflow and inflow cycles in low-mass galaxies and motivate additional tests of the breathing mode.         |\n",
       "|<p style=\"color:green\"> **ERROR** </p>| <p style=\"color:green\">affiliation error: mpia.affiliation_verifications: 'Heidelberg' keyword not found.</p> |"
      ],
      "text/plain": [
       "<IPython.core.display.Markdown object>"
      ]
     },
     "metadata": {},
     "output_type": "display_data"
    },
    {
     "data": {
      "text/markdown": [
       "\n",
       "|||\n",
       "|---:|:---|\n",
       "| [![arXiv](https://img.shields.io/badge/arXiv-2510.18248-b31b1b.svg)](https://arxiv.org/abs/2510.18248) | **The ALPINE-CRISTAL-JWST Survey: Stellar and nebular dust attenuation of main-sequence galaxies at z~4-6**  |\n",
       "|| A. Tsujita, et al. -- incl., <mark>J. Li</mark> |\n",
       "|*Appeared on*| *2025-10-22*|\n",
       "|*Comments*| *Submitted to ApJ. Main text: 22 pages and 6 figures. Appendix: 1 figure. See also the companion papers by Faisst et al. and Fujimoto et al submitted on 20 Oct (Mon). Comments are welcome!*|\n",
       "|**Abstract**|            Characterizing dust attenuation is crucial for revealing the intrinsic physical properties of galaxies. We present an analysis of dust attenuation in 18 spectroscopically confirmed star-forming main-sequence galaxies at $z = 4.4-5.7$ observed with JWST/NIRSpec IFU and NIRCam, selected from the ALPINE and CRISTAL ALMA large programs. We fit the emission line fluxes from NIRSpec and the broad-band photometry from NIRCam with Prospector, using both spatially integrated emission and $\\sim0.6$ kpc pixel-by-pixel measurements. We derive the stellar-to-nebular dust attenuation ratio ($f=E(B-V)_{\\mathrm{star}}/E(B-V)_{\\mathrm{neb}}$) from the SED fits and the Balmer decrement with H$\\alpha$ and H$\\beta$. Although individual galaxies show large scatter, the best-fit value is $f = 0.51^{+0.04}_{-0.03}$, slightly higher than that measured for local starburst galaxies. We find weak correlations of $f$ with galaxy properties, increasing with higher specific star-formation rates, younger stellar ages, and more recent star-formation. For the range of $E(B-V)_{\\mathrm{star}} = 0.009-0.15$ mag for in our sample, assuming $f = 1$ (often adopted in high-redshift studies) instead of $f = 0.51$ underestimate line luminosities and ionizing photon production efficiency $\\xi_\\text{ion}$ by $\\sim3-36\\%$ and $\\sim4-46\\%$, respectively. We also find that the total stellar masses estimated from spatially-integrated SED fits with a delayed-$\\tau$ star-formation histories are systematically smaller than the sum of pixel-by-pixel SED fits, with a median offset of $\\sim 0.26$ dex, likely because the integrated fits are biased toward luminous young stellar populations.         |\n",
       "|<p style=\"color:green\"> **ERROR** </p>| <p style=\"color:green\">affiliation error: mpia.affiliation_verifications: 'Heidelberg' keyword not found.</p> |"
      ],
      "text/plain": [
       "<IPython.core.display.Markdown object>"
      ]
     },
     "metadata": {},
     "output_type": "display_data"
    },
    {
     "data": {
      "text/markdown": [
       "\n",
       "|||\n",
       "|---:|:---|\n",
       "| [![arXiv](https://img.shields.io/badge/arXiv-2510.18382-b31b1b.svg)](https://arxiv.org/abs/2510.18382) | **Acceleration of planetary migration: Resonance crossing and planetesimal ring**  |\n",
       "|| H. Li, L.-Y. Zhou, <mark>X. Zhang</mark> |\n",
       "|*Appeared on*| *2025-10-22*|\n",
       "|*Comments*| *11 pages, 6 figures. Accepted by A&A*|\n",
       "|**Abstract**|            Planetary migration is a crucial stage in the early solar system, explaining many observational phenomena and providing constraints on details related to the solar system's origins. This paper aims to investigate the acceleration during planetary migration in detail using numerical simulations, delving deeper into the early solar system's preserved information. We confirm that planetary migration is a positive feedback process: the faster the migration, the more efficient the consumption of planetesimals; once the migration slows down, Neptune clears the surrounding space, making further migration more difficult to sustain. Quantitatively, a tenfold increase in migration rate corresponds to an approximately 30% reduction in the mass of planetesimals consumed to increase per unit angular momentum of Neptune. We also find that Neptune's final position is correlated with the initial surface density of planetesimals at that location, suggesting that the disk density at 30au was approximately 0.009$M_{\\oplus}/au^2$ in the early solar system. Two mechanisms that can accelerate planetary migration are identified: the first is MMR between Uranus and Neptune. Migration acceleration will be triggered whenever these two giant planets cross their major MMR. The second mechanism is the ring structure within the planetesimal disk, as the higher planetesimal density in this region can provide the material support necessary for migration acceleration. Our research indicates that Neptune in the current solar system occupies a relatively delicate position. In case Neptune crossed the 1:2 MMR with Uranus, it could have migrated to a much more distant location. Therefore, under the influence of the positive feedback mechanism, the evolution of the solar system to its current configuration might be a stochastic outcome rather than an inevitable consequence.         |\n",
       "|<p style=\"color:green\"> **ERROR** </p>| <p style=\"color:green\">affiliation error: mpia.affiliation_verifications: 'Heidelberg' keyword not found.</p> |"
      ],
      "text/plain": [
       "<IPython.core.display.Markdown object>"
      ]
     },
     "metadata": {},
     "output_type": "display_data"
    },
    {
     "data": {
      "text/markdown": [
       "\n",
       "|||\n",
       "|---:|:---|\n",
       "| [![arXiv](https://img.shields.io/badge/arXiv-2510.18531-b31b1b.svg)](https://arxiv.org/abs/2510.18531) | **Improved thermonuclear rate of $^{42}$Ti($p$,$γ$)$^{43}$V and its astrophysical implication in rp-process**  |\n",
       "|| S. Q. Hou, et al. -- incl., <mark>J. Li</mark> |\n",
       "|*Appeared on*| *2025-10-22*|\n",
       "|*Comments*| *7 pages, 5 figures, published in Astronomy & Astrophysics*|\n",
       "|**Abstract**|            Accurate $^{42}$Ti($p$,$\\gamma$)$^{43}$V reaction rates are crucial for understanding the nucleosynthesis path of the rapid capture process (rp-process) that occurs in X-ray bursts. We aim to improve the thermonuclear rates of $^{42}$Ti($p$,$\\gamma$)$^{43}$V based on more complete resonance information and accurate direct component, together with the recently released nuclear masses data. We reevaluated the $^{42}$Ti($p$,$\\gamma$)$^{43}$V rate by the sum of the isolated resonance contribution instead of the Hauser-Feshbach statistical model. A Monte Carlo method is used to derive the uncertainties of new rates. The nucleosynthesis simulations are performed via the NuGrid post-processing code ppn. The new rates differ from previous estimations because of using a series of updated resonance parameters and direct S-factor. Compared with the previous results from Hauser-Feshbach statistical model, which assumes compound nucleus $^{43}$V with a sufficiently high-level density in the energy region of astrophysical interest, differences exist over the entire temperature region of rp-process interest, even up to 4 orders of magnitude. Using a trajectory with a peak temperature of 1.95$\\times$10$^9$ K, we perform the rp-process nucleosynthesis simulations to investigate the impact of the new rates. Our calculations show that the adoption of the new forward and reverse rates result in abundance variations for Sc and Ca by 128\\% and 49\\% respectively compared to the case using statistical model rates. On the other hand, the overall abundance pattern is not significantly affected. The results of using new rates also confirm that the rp-process path does not bypass the isotope $^{43}$V. It is found that the Hauser-Feshbach statistical model is inappropriate to the reaction rate evaluation for $^{42}$Ti($p$,$\\gamma$)$^{43}$V.         |\n",
       "|<p style=\"color:green\"> **ERROR** </p>| <p style=\"color:green\">affiliation error: mpia.affiliation_verifications: 'Heidelberg' keyword not found.</p> |"
      ],
      "text/plain": [
       "<IPython.core.display.Markdown object>"
      ]
     },
     "metadata": {},
     "output_type": "display_data"
    },
    {
     "data": {
      "text/markdown": [
       "\n",
       "|||\n",
       "|---:|:---|\n",
       "| [![arXiv](https://img.shields.io/badge/arXiv-2510.18227-b31b1b.svg)](https://arxiv.org/abs/2510.18227) | **Milky Way Mass Through Escape Velocity Curve from LAMOST K Giants**  |\n",
       "|| <mark>Y. Wu</mark>, et al. |\n",
       "|*Appeared on*| *2025-10-22*|\n",
       "|*Comments*| *13 pages, 8 figures, published in ApJ*|\n",
       "|**Abstract**|            Escape velocity has long been used to constrain the mass of the Dark Matter (DM) halo in the Milky Way (MW). Here we present a study of the escape velocity curve using a sample of high-velocity K giants with full 6D phase-space information and relatively good quality, selected from LAMOST DR8 and cross-matched with Gaia DR3. To expand the high-velocity stars to larger distances, we used radius-dependent criteria of total velocity, that is, $v_{\\rm GC}>300\\;\\rm{km s^{-1}}$ for the solar neighborhood; $v_{\\rm GC}>v_{\\rm min}\\sim0.6\\times v_{\\rm esc}(r_{\\rm GC})$ for outer region. We also selected halo stars based on $v_{\\phi}-{\\rm [Fe/H]}$ information to ensure that the sample is isotropic. We modeled the velocity distribution with traditional power-law models to determine the escape velocity in each radial bin. For the first time, we have directly measured a relatively continuous escape velocity curve that can extend to Galactocentric radii of $\\sim 50$ kpc, finding a decline in agreement with previous studies. The escape velocity at the solar position yielded by our measurements is $523.74^{+12.83}_{-13.47}\\;\\rm{km s^{-1}}$. Combined with the local circular velocity, we estimated the mass of the MW assuming a Navarro-Frenk-White DM profile, which resulted in a total mass of $M_{200,\\;\\rm{total}}=0.90_{-0.07}^{+0.06}\\times 10^{12}\\;M_{\\odot}$, with a concentration of $c_{200}=13.47_{-1.70}^{+1.85}$. The small uncertainty implies that including the escape velocities beyond the solar neighborhood can result in a more precise mass estimate. Our derived MW mass is consistent with some recent studies using the escape velocity as well as other tracers, which may support a lower mass of the DM halo than in the past.         |\n",
       "|<p style=\"color:red\"> **ERROR** </p>| <p style=\"color:red\">latex error not a gzip file</p> |"
      ],
      "text/plain": [
       "<IPython.core.display.Markdown object>"
      ]
     },
     "metadata": {},
     "output_type": "display_data"
    }
   ],
   "source": [
    "import datetime\n",
    "today = str(datetime.date.today())\n",
    "logfile = f\"_build/html/logs/log-{today}.md\"\n",
    "\n",
    "\n",
    "with open(logfile, 'w') as logs:\n",
    "    # Success\n",
    "    logs.write(f'# Arxiv on Deck 2: Logs - {today}\\n\\n')\n",
    "    logs.write(\"\"\"* Arxiv had {0:,d} new papers\\n\"\"\".format(len(new_papers)))\n",
    "    logs.write(\"\"\"    * {0:,d} with possible author matches\\n\\n\"\"\".format(len(candidates)))\n",
    "    logs.write(\"## Sucessful papers\\n\\n\")\n",
    "    display(Markdown(\"## Successful papers\"))\n",
    "    success = [k[0] for k in documents]\n",
    "    for candid in candidates:\n",
    "        if candid['identifier'].split(':')[-1] in success:\n",
    "            display(candid)\n",
    "            logs.write(candid.generate_markdown_text() + '\\n\\n')\n",
    "\n",
    "    ## failed\n",
    "    logs.write(\"## Failed papers\\n\\n\")\n",
    "    display(Markdown(\"## Failed papers\"))\n",
    "    failed = sorted(failed, key=lambda x: x[1])\n",
    "    current_reason = \"\"\n",
    "    for paper, reason in failed:\n",
    "        if 'affiliation' in reason:\n",
    "            color = 'green'\n",
    "        else:\n",
    "            color = 'red'\n",
    "        data = Markdown(\n",
    "                paper.generate_markdown_text() + \n",
    "                f'\\n|<p style=\"color:{color:s}\"> **ERROR** </p>| <p style=\"color:{color:s}\">{reason:s}</p> |'\n",
    "               )\n",
    "        if reason != current_reason:\n",
    "            logs.write(f'### {reason:s} \\n\\n')\n",
    "            current_reason = reason\n",
    "        logs.write(data.data + '\\n\\n')\n",
    "        \n",
    "        # only display here the important errors (all in logs)\n",
    "        # if color in ('red',):\n",
    "        display(data)"
   ]
  },
  {
   "cell_type": "markdown",
   "id": "472d20ee",
   "metadata": {
    "papermill": {
     "duration": 0.005365,
     "end_time": "2025-10-22T04:13:51.038460",
     "exception": false,
     "start_time": "2025-10-22T04:13:51.033095",
     "status": "completed"
    },
    "tags": []
   },
   "source": [
    "## Export documents\n",
    "\n",
    "We now write the .md files and export relevant images"
   ]
  },
  {
   "cell_type": "code",
   "execution_count": 7,
   "id": "d426aed9",
   "metadata": {
    "execution": {
     "iopub.execute_input": "2025-10-22T04:13:51.048925Z",
     "iopub.status.busy": "2025-10-22T04:13:51.048631Z",
     "iopub.status.idle": "2025-10-22T04:13:51.055321Z",
     "shell.execute_reply": "2025-10-22T04:13:51.054768Z"
    },
    "papermill": {
     "duration": 0.013036,
     "end_time": "2025-10-22T04:13:51.056356",
     "exception": false,
     "start_time": "2025-10-22T04:13:51.043320",
     "status": "completed"
    },
    "tags": []
   },
   "outputs": [],
   "source": [
    "def export_markdown_summary(md: str, md_fname:str, directory: str):\n",
    "    \"\"\"Export MD document and associated relevant images\"\"\"\n",
    "    import os\n",
    "    import shutil\n",
    "    import re\n",
    "\n",
    "    if (os.path.exists(directory) and not os.path.isdir(directory)):\n",
    "        raise RuntimeError(f\"a non-directory file exists with name {directory:s}\")\n",
    "\n",
    "    if (not os.path.exists(directory)):\n",
    "        print(f\"creating directory {directory:s}\")\n",
    "        os.mkdir(directory)\n",
    "\n",
    "    fig_fnames = (re.compile(r'\\[Fig.*\\]\\((.*)\\)').findall(md) + \n",
    "                  re.compile(r'\\<img src=\"([^>\\s]*)\"[^>]*/>').findall(md))\n",
    "    print(\"found figures\", fig_fnames)\n",
    "    for fname in fig_fnames:\n",
    "        if 'http' in fname:\n",
    "            # No need to copy online figures\n",
    "            continue\n",
    "        if not os.path.exists(fname):\n",
    "            print(\"file not found\", fname)\n",
    "            continue\n",
    "        print(\"copying \", fname, \"to\", directory)\n",
    "        destdir = os.path.join(directory, os.path.dirname(fname))\n",
    "        destfname = os.path.join(destdir, os.path.basename(fname))\n",
    "        try:\n",
    "            os.makedirs(destdir)\n",
    "        except FileExistsError:\n",
    "            pass\n",
    "        shutil.copy(fname, destfname)\n",
    "    with open(os.path.join(directory, md_fname), 'w') as fout:\n",
    "        fout.write(md)\n",
    "    print(\"exported in \", os.path.join(directory, md_fname))\n",
    "    [print(\"    + \" + os.path.join(directory,fk)) for fk in fig_fnames]"
   ]
  },
  {
   "cell_type": "code",
   "execution_count": 8,
   "id": "014d04a4",
   "metadata": {
    "execution": {
     "iopub.execute_input": "2025-10-22T04:13:51.066957Z",
     "iopub.status.busy": "2025-10-22T04:13:51.066767Z",
     "iopub.status.idle": "2025-10-22T04:13:51.072651Z",
     "shell.execute_reply": "2025-10-22T04:13:51.072001Z"
    },
    "papermill": {
     "duration": 0.01232,
     "end_time": "2025-10-22T04:13:51.073599",
     "exception": false,
     "start_time": "2025-10-22T04:13:51.061279",
     "status": "completed"
    },
    "tags": []
   },
   "outputs": [
    {
     "name": "stdout",
     "output_type": "stream",
     "text": [
      "found figures ['tmp_2510.17957/./collage_panels_new_CV.png', 'tmp_2510.17957/./pd_classes.png', 'tmp_2510.17957/./Teff_Mdot_vs_Porb21.png']\n",
      "copying  tmp_2510.17957/./collage_panels_new_CV.png to _build/html/\n",
      "copying  tmp_2510.17957/./pd_classes.png to _build/html/\n",
      "copying  tmp_2510.17957/./Teff_Mdot_vs_Porb21.png to _build/html/\n",
      "exported in  _build/html/2510.17957.md\n",
      "    + _build/html/tmp_2510.17957/./collage_panels_new_CV.png\n",
      "    + _build/html/tmp_2510.17957/./pd_classes.png\n",
      "    + _build/html/tmp_2510.17957/./Teff_Mdot_vs_Porb21.png\n"
     ]
    }
   ],
   "source": [
    "for paper_id, md in documents:\n",
    "    export_markdown_summary(md, f\"{paper_id:s}.md\", '_build/html/')"
   ]
  },
  {
   "cell_type": "markdown",
   "id": "f087a0a7",
   "metadata": {
    "papermill": {
     "duration": 0.004873,
     "end_time": "2025-10-22T04:13:51.083457",
     "exception": false,
     "start_time": "2025-10-22T04:13:51.078584",
     "status": "completed"
    },
    "tags": []
   },
   "source": [
    "## Display the papers\n",
    "\n",
    "Not necessary but allows for a quick check."
   ]
  },
  {
   "cell_type": "code",
   "execution_count": 9,
   "id": "fd25f625",
   "metadata": {
    "execution": {
     "iopub.execute_input": "2025-10-22T04:13:51.094089Z",
     "iopub.status.busy": "2025-10-22T04:13:51.093888Z",
     "iopub.status.idle": "2025-10-22T04:13:51.098167Z",
     "shell.execute_reply": "2025-10-22T04:13:51.097641Z"
    },
    "papermill": {
     "duration": 0.010827,
     "end_time": "2025-10-22T04:13:51.099181",
     "exception": false,
     "start_time": "2025-10-22T04:13:51.088354",
     "status": "completed"
    },
    "scrolled": false,
    "tags": []
   },
   "outputs": [
    {
     "data": {
      "text/markdown": [
       "<div class=\"macros\" style=\"visibility:hidden;\">\n",
       "$\\newcommand{\\ensuremath}{}$\n",
       "$\\newcommand{\\xspace}{}$\n",
       "$\\newcommand{\\object}[1]{\\texttt{#1}}$\n",
       "$\\newcommand{\\farcs}{{.}''}$\n",
       "$\\newcommand{\\farcm}{{.}'}$\n",
       "$\\newcommand{\\arcsec}{''}$\n",
       "$\\newcommand{\\arcmin}{'}$\n",
       "$\\newcommand{\\ion}[2]{#1#2}$\n",
       "$\\newcommand{\\textsc}[1]{\\textrm{#1}}$\n",
       "$\\newcommand{\\hl}[1]{\\textrm{#1}}$\n",
       "$\\newcommand{\\footnote}[1]{}$\n",
       "$\\newcommand{\\Msun}{\\ensuremath{M_\\odot}}$\n",
       "$\\newcommand{\\vdag}{(v)^\\dagger}$\n",
       "$\\newcommand$\n",
       "$\\newcommand$\n",
       "$\\newcommand{\\msun}{M_\\odot}$\n",
       "$\\newcommand{\\arraystretch}{0.9}$</div>\n",
       "\n",
       "\n",
       "\n",
       "<div id=\"title\">\n",
       "\n",
       "# The Silent Majority: The Interacting Post-Common-Envelope Binaries Underlying Cataclysmic Variables\n",
       "\n",
       "</div>\n",
       "<div id=\"comments\">\n",
       "\n",
       "[![arXiv](https://img.shields.io/badge/arXiv-2510.17957-b31b1b.svg)](https://arxiv.org/abs/2510.17957)<mark>Appeared on: 2025-10-22</mark> - \n",
       "\n",
       "</div>\n",
       "<div id=\"authors\">\n",
       "\n",
       "Y. M. Shani, et al. -- incl., <mark>S. Shahaf</mark>, <mark>J. Li</mark>, <mark>H.-W. Rix</mark>\n",
       "\n",
       "</div>\n",
       "<div id=\"abstract\">\n",
       "\n",
       "**Abstract:** We analyze the orbital period distribution of post-common-envelope white-dwarf-main-sequence (WDMS) binaries by cross-matching the new spectroscopic Gaia DR3 WDMS catalog with TESS light curves, and applying a uniform periodicity search and vetting pipeline. We identify 107 periodic systems, including 74 eclipsing binaries (32 new) and 33 binaries exhibiting only sinusoidal variations. Injection-recovery tests and a forward detectability model yield a completeness-corrected distribution that is well-described by a two-component function: a log-period Gaussian peaking at $P_{\\rm orb} \\approx 4.1 $ h with $\\sigma \\approx 1.8$ h, plus a rising component that begins near $P_{\\rm orb}\\approx12.9$ h. We refer to this extended component as the long-period tail. It consists exclusively of detached non-interacting post-common-envelope binaries (PCEBs) that likely emerged from the common envelope and have not yet initiated mass transfer. In contrast, the short-period Gaussian is dominated by interacting or near-contact systems (including 22 known cataclysmic variables), consistent with high Roche-lobe filling factors. From the completeness-corrected distribution we infer that $29.8\\%\\pm4.5\\%$ of the spatially unresolved WDMSs in our parent catalog are close PCEBs. Binary population synthesis models with high common-envelope efficiencies overproduce long-period systems and fail to reproduce the sharp peak, whereas lower efficiencies ( $\\alpha\\lambda \\leq 0.3$ ) match the peak more closely, yet still underpredict the tail. Our results hint at a large, currently under-classified reservoir of pre-cataclysmic variables and weakly accreting binaries, and provide new constraints on common-envelope physics.\n",
       "\n",
       "</div>\n",
       "\n",
       "<div id=\"div_fig1\">\n",
       "\n",
       "<img src=\"tmp_2510.17957/./collage_panels_new_CV.png\" alt=\"Fig10\" width=\"100%\"/>\n",
       "\n",
       "**Figure 10. -** Phase-folded (gray) and binned (black) TESS light curves of the known CVs in our sample. (*fig:ecl1*)\n",
       "\n",
       "</div>\n",
       "<div id=\"div_fig2\">\n",
       "\n",
       "<img src=\"tmp_2510.17957/./pd_classes.png\" alt=\"Fig7\" width=\"100%\"/>\n",
       "\n",
       "**Figure 7. -** Stacked histogram of the orbital period distribution (in log hours) for three sub-classes:\n",
       "    eclipsing PCEBs (light gray, N = 52), CVs (medium gray, N = 22),  and sinusoidal variables (dark gray, N = 33). Vertical dashed lines mark the minimum observed CV period ($\\approx$  80 min ) and the canonical lower ($\\sim2$ h) and upper ($\\sim3$ h) boundaries of the CV \"period gap\". (*fig:ellipsoidals_period_distribution*)\n",
       "\n",
       "</div>\n",
       "<div id=\"div_fig3\">\n",
       "\n",
       "<img src=\"tmp_2510.17957/./Teff_Mdot_vs_Porb21.png\" alt=\"Fig17\" width=\"100%\"/>\n",
       "\n",
       "**Figure 17. -** Comparison of our eclipsing WDMS systems (52 unclassified PCEBs + 22 CVs; sinusoidal variables excluded) to the UV-calibrated CV locus from the HST+Gaia sample of [Pala, Gänsicke and Belloni (2022)](). _Top_: WD effective temperature versus orbital period. _Bottom_: equivalent long-term accretion rate $\\langle\\dot M\\rangle$(inferred from the WD's $T_{\\rm eff}$ following the UV calibration) versus orbital period. Vertical dashed lines mark the minimum observed CV period ($\\approx$  80 min ) and the canonical lower ($\\sim2$ h) and upper ($\\sim3$ h) boundaries of the CV \"period gap\". Unclassified eclipsers at $P_\\text{orb} \\approx 3  -  6$ h lie on the same $T_{\\rm eff}  -  P_{\\rm orb}$ sequence as CVs above the period gap, indicating that many systems are near, or already interacting, even without a CV classification. (*fig:temp_period*)\n",
       "\n",
       "</div><div id=\"qrcode\"><img src=https://api.qrserver.com/v1/create-qr-code/?size=100x100&data=\"https://arxiv.org/abs/2510.17957\"></div>"
      ],
      "text/plain": [
       "<IPython.core.display.Markdown object>"
      ]
     },
     "metadata": {},
     "output_type": "display_data"
    }
   ],
   "source": [
    "[display(Markdown(k[1])) for k in documents];"
   ]
  },
  {
   "cell_type": "markdown",
   "id": "873873a4",
   "metadata": {
    "papermill": {
     "duration": 0.005198,
     "end_time": "2025-10-22T04:13:51.109696",
     "exception": false,
     "start_time": "2025-10-22T04:13:51.104498",
     "status": "completed"
    },
    "tags": []
   },
   "source": [
    "# Create HTML index"
   ]
  },
  {
   "cell_type": "code",
   "execution_count": 10,
   "id": "cf665672",
   "metadata": {
    "execution": {
     "iopub.execute_input": "2025-10-22T04:13:51.120834Z",
     "iopub.status.busy": "2025-10-22T04:13:51.120561Z",
     "iopub.status.idle": "2025-10-22T04:13:51.127544Z",
     "shell.execute_reply": "2025-10-22T04:13:51.127037Z"
    },
    "papermill": {
     "duration": 0.013759,
     "end_time": "2025-10-22T04:13:51.128534",
     "exception": false,
     "start_time": "2025-10-22T04:13:51.114775",
     "status": "completed"
    },
    "tags": []
   },
   "outputs": [
    {
     "name": "stdout",
     "output_type": "stream",
     "text": [
      "115  publications files modified in the last 7 days.\n"
     ]
    }
   ],
   "source": [
    "from datetime import datetime, timedelta, timezone\n",
    "from glob import glob\n",
    "import os\n",
    "\n",
    "files = glob('_build/html/*.md')\n",
    "days = 7\n",
    "now = datetime.today()\n",
    "res = []\n",
    "for fk in files:\n",
    "    stat_result = os.stat(fk).st_ctime\n",
    "    modified = datetime.fromtimestamp(stat_result, tz=timezone.utc).replace(tzinfo=None)\n",
    "    delta = now.today() - modified\n",
    "    if delta <= timedelta(days=days):\n",
    "        res.append((delta.seconds, fk))\n",
    "res = [k[1] for k in reversed(sorted(res, key=lambda x:x[1]))]\n",
    "npub = len(res)\n",
    "print(len(res), f\" publications files modified in the last {days:d} days.\")\n",
    "# [ print('\\t', k) for k in res ];"
   ]
  },
  {
   "cell_type": "code",
   "execution_count": 11,
   "id": "015de740",
   "metadata": {
    "execution": {
     "iopub.execute_input": "2025-10-22T04:13:51.139769Z",
     "iopub.status.busy": "2025-10-22T04:13:51.139500Z",
     "iopub.status.idle": "2025-10-22T04:13:51.151221Z",
     "shell.execute_reply": "2025-10-22T04:13:51.150571Z"
    },
    "papermill": {
     "duration": 0.018413,
     "end_time": "2025-10-22T04:13:51.152236",
     "exception": false,
     "start_time": "2025-10-22T04:13:51.133823",
     "status": "completed"
    },
    "tags": []
   },
   "outputs": [
    {
     "name": "stdout",
     "output_type": "stream",
     "text": [
      "11  publications in the last 7 days.\n"
     ]
    }
   ],
   "source": [
    "import datetime\n",
    "from glob import glob\n",
    "\n",
    "def get_last_n_days(lst, days=1):\n",
    "    \"\"\" Get the documents from the last n days \"\"\"\n",
    "    sorted_lst = sorted(lst, key=lambda x: x[1], reverse=True)\n",
    "    for fname, date in sorted_lst:\n",
    "        if date >= str(datetime.date.today() - datetime.timedelta(days=days)):\n",
    "            yield fname\n",
    "\n",
    "def extract_appearance_dates(lst_file):\n",
    "    dates = []\n",
    "\n",
    "    def get_date(line):\n",
    "        return line\\\n",
    "            .split('Appeared on:')[-1]\\\n",
    "            .split('</mark>')[0].strip()\n",
    "\n",
    "    for fname in lst:\n",
    "        with open(fname, 'r') as f:\n",
    "            found_date = False\n",
    "            for line in f:\n",
    "                if not found_date:\n",
    "                    if \"Appeared on\" in line:\n",
    "                        found_date = True\n",
    "                        dates.append((fname, get_date(line)))\n",
    "                else:\n",
    "                    break\n",
    "    return dates\n",
    "\n",
    "from glob import glob\n",
    "lst = glob('_build/html/*md')\n",
    "days = 7\n",
    "dates = extract_appearance_dates(lst)\n",
    "res = list(get_last_n_days(dates, days))\n",
    "npub = len(res)\n",
    "print(len(res), f\" publications in the last {days:d} days.\")"
   ]
  },
  {
   "cell_type": "code",
   "execution_count": 12,
   "id": "52ca0208",
   "metadata": {
    "execution": {
     "iopub.execute_input": "2025-10-22T04:13:51.163650Z",
     "iopub.status.busy": "2025-10-22T04:13:51.163413Z",
     "iopub.status.idle": "2025-10-22T04:13:51.168336Z",
     "shell.execute_reply": "2025-10-22T04:13:51.167676Z"
    },
    "papermill": {
     "duration": 0.011852,
     "end_time": "2025-10-22T04:13:51.169373",
     "exception": false,
     "start_time": "2025-10-22T04:13:51.157521",
     "status": "completed"
    },
    "scrolled": false,
    "tags": []
   },
   "outputs": [],
   "source": [
    "def create_carousel(npub=4):\n",
    "    \"\"\" Generate the HTML code for a carousel with `npub` slides \"\"\"\n",
    "    carousel = [\"\"\"  <div class=\"carousel\" \"\"\",\n",
    "                \"\"\"       data-flickity='{ \"autoPlay\": 10000, \"adaptiveHeight\": true, \"resize\": true, \"wrapAround\": true, \"pauseAutoPlayOnHover\": true, \"groupCells\": 1 }' id=\"asyncTypeset\">\"\"\"\n",
    "                ]\n",
    "    \n",
    "    item_str = \"\"\"    <div class=\"carousel-cell\"> <div id=\"slide{k}\" class=\"md_view\">Content {k}</div> </div>\"\"\"\n",
    "    for k in range(1, npub + 1):\n",
    "        carousel.append(item_str.format(k=k))\n",
    "    carousel.append(\"  </div>\")\n",
    "    return '\\n'.join(carousel)\n",
    "\n",
    "def create_grid(npub=4):\n",
    "    \"\"\" Generate the HTML code for a flat grid with `npub` slides \"\"\"\n",
    "    grid = [\"\"\"  <div class=\"grid\"> \"\"\",\n",
    "                ]\n",
    "    \n",
    "    item_str = \"\"\"    <div class=\"grid-item\"> <div id=\"slide{k}\" class=\"md_view\">Content {k}</div> </div>\"\"\"\n",
    "    for k in range(1, npub + 1):\n",
    "        grid.append(item_str.format(k=k))\n",
    "    grid.append(\"  </div>\")\n",
    "    return '\\n'.join(grid)"
   ]
  },
  {
   "cell_type": "code",
   "execution_count": 13,
   "id": "a6eac5b6",
   "metadata": {
    "execution": {
     "iopub.execute_input": "2025-10-22T04:13:51.180801Z",
     "iopub.status.busy": "2025-10-22T04:13:51.180529Z",
     "iopub.status.idle": "2025-10-22T04:13:51.185360Z",
     "shell.execute_reply": "2025-10-22T04:13:51.184855Z"
    },
    "papermill": {
     "duration": 0.011576,
     "end_time": "2025-10-22T04:13:51.186311",
     "exception": false,
     "start_time": "2025-10-22T04:13:51.174735",
     "status": "completed"
    },
    "scrolled": false,
    "tags": []
   },
   "outputs": [],
   "source": [
    "carousel = create_carousel(npub)\n",
    "docs = ', '.join(['\"{0:s}\"'.format(k.split('/')[-1]) for k in res])\n",
    "slides = ', '.join([f'\"slide{k}\"' for k in range(1, npub + 1)])\n",
    "\n",
    "with open(\"daily_template.html\", \"r\") as tpl:\n",
    "    page = tpl.read()\n",
    "    page = page.replace(\"{%-- carousel:s --%}\", carousel)\\\n",
    "               .replace(\"{%-- suptitle:s --%}\",  \"7-day archives\" )\\\n",
    "               .replace(\"{%-- docs:s --%}\", docs)\\\n",
    "               .replace(\"{%-- slides:s --%}\", slides)\n",
    "    \n",
    "with open(\"_build/html/index_7days.html\", 'w') as fout:\n",
    "    fout.write(page)"
   ]
  },
  {
   "cell_type": "code",
   "execution_count": 14,
   "id": "adc1a1ec",
   "metadata": {
    "execution": {
     "iopub.execute_input": "2025-10-22T04:13:51.197784Z",
     "iopub.status.busy": "2025-10-22T04:13:51.197560Z",
     "iopub.status.idle": "2025-10-22T04:13:51.203447Z",
     "shell.execute_reply": "2025-10-22T04:13:51.202914Z"
    },
    "papermill": {
     "duration": 0.012735,
     "end_time": "2025-10-22T04:13:51.204438",
     "exception": false,
     "start_time": "2025-10-22T04:13:51.191703",
     "status": "completed"
    },
    "tags": []
   },
   "outputs": [
    {
     "name": "stdout",
     "output_type": "stream",
     "text": [
      "4  publications in the last day.\n"
     ]
    }
   ],
   "source": [
    "# redo for today\n",
    "days = 1\n",
    "res = list(get_last_n_days(dates, days))\n",
    "npub = len(res)\n",
    "print(len(res), f\" publications in the last day.\")\n",
    "\n",
    "carousel = create_carousel(npub)\n",
    "docs = ', '.join(['\"{0:s}\"'.format(k.split('/')[-1]) for k in res])\n",
    "slides = ', '.join([f'\"slide{k}\"' for k in range(1, npub + 1)])\n",
    "\n",
    "with open(\"daily_template.html\", \"r\") as tpl:\n",
    "    page = tpl.read()\n",
    "    page = page.replace(\"{%-- carousel:s --%}\", carousel)\\\n",
    "               .replace(\"{%-- suptitle:s --%}\",  \"Daily\" )\\\n",
    "               .replace(\"{%-- docs:s --%}\", docs)\\\n",
    "               .replace(\"{%-- slides:s --%}\", slides)\n",
    "    \n",
    "# print(carousel, docs, slides)\n",
    "# print(page)\n",
    "with open(\"_build/html/index_daily.html\", 'w') as fout:\n",
    "    fout.write(page)"
   ]
  },
  {
   "cell_type": "code",
   "execution_count": 15,
   "id": "00eece82",
   "metadata": {
    "execution": {
     "iopub.execute_input": "2025-10-22T04:13:51.216220Z",
     "iopub.status.busy": "2025-10-22T04:13:51.216019Z",
     "iopub.status.idle": "2025-10-22T04:13:51.222055Z",
     "shell.execute_reply": "2025-10-22T04:13:51.221489Z"
    },
    "papermill": {
     "duration": 0.01305,
     "end_time": "2025-10-22T04:13:51.223056",
     "exception": false,
     "start_time": "2025-10-22T04:13:51.210006",
     "status": "completed"
    },
    "scrolled": false,
    "tags": []
   },
   "outputs": [
    {
     "name": "stdout",
     "output_type": "stream",
     "text": [
      "6  6 publications selected.\n"
     ]
    }
   ],
   "source": [
    "# Create the flat grid of the last N papers (fixed number regardless of dates)\n",
    "from itertools import islice \n",
    "\n",
    "npub = 6\n",
    "res = [k[0] for k in (islice(reversed(sorted(dates, key=lambda x: x[1])), 6))]\n",
    "print(len(res), f\" {npub} publications selected.\")\n",
    "\n",
    "grid = create_grid(npub)\n",
    "docs = ', '.join(['\"{0:s}\"'.format(k.split('/')[-1]) for k in res])\n",
    "slides = ', '.join([f'\"slide{k}\"' for k in range(1, npub + 1)])\n",
    "\n",
    "with open(\"grid_template.html\", \"r\") as tpl:\n",
    "    page = tpl.read()\n",
    "    page = page.replace(\"{%-- grid-content:s --%}\", grid)\\\n",
    "               .replace(\"{%-- suptitle:s --%}\",  f\"Last {npub:,d} papers\" )\\\n",
    "               .replace(\"{%-- docs:s --%}\", docs)\\\n",
    "               .replace(\"{%-- slides:s --%}\", slides)\n",
    "    \n",
    "# print(grid, docs, slides)\n",
    "# print(page)\n",
    "with open(\"_build/html/index_npub_grid.html\", 'w') as fout:\n",
    "    fout.write(page)"
   ]
  }
 ],
 "metadata": {
  "kernelspec": {
   "display_name": "Python 3 (ipykernel)",
   "language": "python",
   "name": "python3"
  },
  "language_info": {
   "codemirror_mode": {
    "name": "ipython",
    "version": 3
   },
   "file_extension": ".py",
   "mimetype": "text/x-python",
   "name": "python",
   "nbconvert_exporter": "python",
   "pygments_lexer": "ipython3",
   "version": "3.9.23"
  },
  "papermill": {
   "default_parameters": {},
   "duration": 42.765209,
   "end_time": "2025-10-22T04:13:51.444004",
   "environment_variables": {},
   "exception": null,
   "input_path": "MPIA daily digest.ipynb",
   "output_path": "log.ipynb",
   "parameters": {},
   "start_time": "2025-10-22T04:13:08.678795",
   "version": "2.6.0"
  },
  "vscode": {
   "interpreter": {
    "hash": "aee8b7b246df8f9039afb4144a1f6fd8d2ca17a180786b69acc140d282b71a49"
   }
  },
  "widgets": {
   "application/vnd.jupyter.widget-state+json": {
    "state": {
     "1761b058ca8e42f08b253da14b73832b": {
      "model_module": "@jupyter-widgets/base",
      "model_module_version": "2.0.0",
      "model_name": "LayoutModel",
      "state": {
       "_model_module": "@jupyter-widgets/base",
       "_model_module_version": "2.0.0",
       "_model_name": "LayoutModel",
       "_view_count": null,
       "_view_module": "@jupyter-widgets/base",
       "_view_module_version": "2.0.0",
       "_view_name": "LayoutView",
       "align_content": null,
       "align_items": null,
       "align_self": null,
       "border_bottom": null,
       "border_left": null,
       "border_right": null,
       "border_top": null,
       "bottom": null,
       "display": null,
       "flex": null,
       "flex_flow": null,
       "grid_area": null,
       "grid_auto_columns": null,
       "grid_auto_flow": null,
       "grid_auto_rows": null,
       "grid_column": null,
       "grid_gap": null,
       "grid_row": null,
       "grid_template_areas": null,
       "grid_template_columns": null,
       "grid_template_rows": null,
       "height": null,
       "justify_content": null,
       "justify_items": null,
       "left": null,
       "margin": null,
       "max_height": null,
       "max_width": null,
       "min_height": null,
       "min_width": null,
       "object_fit": null,
       "object_position": null,
       "order": null,
       "overflow": null,
       "padding": null,
       "right": null,
       "top": null,
       "visibility": null,
       "width": null
      }
     },
     "25bfb320002c4013a5454d7e74a30303": {
      "model_module": "@jupyter-widgets/base",
      "model_module_version": "2.0.0",
      "model_name": "LayoutModel",
      "state": {
       "_model_module": "@jupyter-widgets/base",
       "_model_module_version": "2.0.0",
       "_model_name": "LayoutModel",
       "_view_count": null,
       "_view_module": "@jupyter-widgets/base",
       "_view_module_version": "2.0.0",
       "_view_name": "LayoutView",
       "align_content": null,
       "align_items": null,
       "align_self": null,
       "border_bottom": null,
       "border_left": null,
       "border_right": null,
       "border_top": null,
       "bottom": null,
       "display": null,
       "flex": null,
       "flex_flow": null,
       "grid_area": null,
       "grid_auto_columns": null,
       "grid_auto_flow": null,
       "grid_auto_rows": null,
       "grid_column": null,
       "grid_gap": null,
       "grid_row": null,
       "grid_template_areas": null,
       "grid_template_columns": null,
       "grid_template_rows": null,
       "height": null,
       "justify_content": null,
       "justify_items": null,
       "left": null,
       "margin": null,
       "max_height": null,
       "max_width": null,
       "min_height": null,
       "min_width": null,
       "object_fit": null,
       "object_position": null,
       "order": null,
       "overflow": null,
       "padding": null,
       "right": null,
       "top": null,
       "visibility": null,
       "width": null
      }
     },
     "37dc6558050b463a93502149855573ed": {
      "model_module": "@jupyter-widgets/controls",
      "model_module_version": "2.0.0",
      "model_name": "HTMLModel",
      "state": {
       "_dom_classes": [],
       "_model_module": "@jupyter-widgets/controls",
       "_model_module_version": "2.0.0",
       "_model_name": "HTMLModel",
       "_view_count": null,
       "_view_module": "@jupyter-widgets/controls",
       "_view_module_version": "2.0.0",
       "_view_name": "HTMLView",
       "description": "",
       "description_allow_html": false,
       "layout": "IPY_MODEL_25bfb320002c4013a5454d7e74a30303",
       "placeholder": "​",
       "style": "IPY_MODEL_e8fcd872854847c8b9300016b8788bad",
       "tabbable": null,
       "tooltip": null,
       "value": " 7/7 [00:17&lt;00:00,  1.55s/it]"
      }
     },
     "5a3dc35e519e41e9ab07c1d19bc40931": {
      "model_module": "@jupyter-widgets/controls",
      "model_module_version": "2.0.0",
      "model_name": "HTMLStyleModel",
      "state": {
       "_model_module": "@jupyter-widgets/controls",
       "_model_module_version": "2.0.0",
       "_model_name": "HTMLStyleModel",
       "_view_count": null,
       "_view_module": "@jupyter-widgets/base",
       "_view_module_version": "2.0.0",
       "_view_name": "StyleView",
       "background": null,
       "description_width": "",
       "font_size": null,
       "text_color": null
      }
     },
     "862e8ed7e225464496d4cc5c8010f067": {
      "model_module": "@jupyter-widgets/controls",
      "model_module_version": "2.0.0",
      "model_name": "ProgressStyleModel",
      "state": {
       "_model_module": "@jupyter-widgets/controls",
       "_model_module_version": "2.0.0",
       "_model_name": "ProgressStyleModel",
       "_view_count": null,
       "_view_module": "@jupyter-widgets/base",
       "_view_module_version": "2.0.0",
       "_view_name": "StyleView",
       "bar_color": null,
       "description_width": ""
      }
     },
     "9eb985aa6ea347d78c842f81a1cbfaba": {
      "model_module": "@jupyter-widgets/controls",
      "model_module_version": "2.0.0",
      "model_name": "HBoxModel",
      "state": {
       "_dom_classes": [],
       "_model_module": "@jupyter-widgets/controls",
       "_model_module_version": "2.0.0",
       "_model_name": "HBoxModel",
       "_view_count": null,
       "_view_module": "@jupyter-widgets/controls",
       "_view_module_version": "2.0.0",
       "_view_name": "HBoxView",
       "box_style": "",
       "children": [
        "IPY_MODEL_a98091ddb35b45c0aa42145230d70ed5",
        "IPY_MODEL_ae084bff68da40d79fcc00f264f66fd5",
        "IPY_MODEL_37dc6558050b463a93502149855573ed"
       ],
       "layout": "IPY_MODEL_d82881d22b3748e18f250b005a5c91c7",
       "tabbable": null,
       "tooltip": null
      }
     },
     "a98091ddb35b45c0aa42145230d70ed5": {
      "model_module": "@jupyter-widgets/controls",
      "model_module_version": "2.0.0",
      "model_name": "HTMLModel",
      "state": {
       "_dom_classes": [],
       "_model_module": "@jupyter-widgets/controls",
       "_model_module_version": "2.0.0",
       "_model_name": "HTMLModel",
       "_view_count": null,
       "_view_module": "@jupyter-widgets/controls",
       "_view_module_version": "2.0.0",
       "_view_name": "HTMLView",
       "description": "",
       "description_allow_html": false,
       "layout": "IPY_MODEL_1761b058ca8e42f08b253da14b73832b",
       "placeholder": "​",
       "style": "IPY_MODEL_5a3dc35e519e41e9ab07c1d19bc40931",
       "tabbable": null,
       "tooltip": null,
       "value": "100%"
      }
     },
     "ae084bff68da40d79fcc00f264f66fd5": {
      "model_module": "@jupyter-widgets/controls",
      "model_module_version": "2.0.0",
      "model_name": "FloatProgressModel",
      "state": {
       "_dom_classes": [],
       "_model_module": "@jupyter-widgets/controls",
       "_model_module_version": "2.0.0",
       "_model_name": "FloatProgressModel",
       "_view_count": null,
       "_view_module": "@jupyter-widgets/controls",
       "_view_module_version": "2.0.0",
       "_view_name": "ProgressView",
       "bar_style": "success",
       "description": "",
       "description_allow_html": false,
       "layout": "IPY_MODEL_b1eaae6ba9f54bdf876b91a19451a41f",
       "max": 7.0,
       "min": 0.0,
       "orientation": "horizontal",
       "style": "IPY_MODEL_862e8ed7e225464496d4cc5c8010f067",
       "tabbable": null,
       "tooltip": null,
       "value": 7.0
      }
     },
     "b1eaae6ba9f54bdf876b91a19451a41f": {
      "model_module": "@jupyter-widgets/base",
      "model_module_version": "2.0.0",
      "model_name": "LayoutModel",
      "state": {
       "_model_module": "@jupyter-widgets/base",
       "_model_module_version": "2.0.0",
       "_model_name": "LayoutModel",
       "_view_count": null,
       "_view_module": "@jupyter-widgets/base",
       "_view_module_version": "2.0.0",
       "_view_name": "LayoutView",
       "align_content": null,
       "align_items": null,
       "align_self": null,
       "border_bottom": null,
       "border_left": null,
       "border_right": null,
       "border_top": null,
       "bottom": null,
       "display": null,
       "flex": null,
       "flex_flow": null,
       "grid_area": null,
       "grid_auto_columns": null,
       "grid_auto_flow": null,
       "grid_auto_rows": null,
       "grid_column": null,
       "grid_gap": null,
       "grid_row": null,
       "grid_template_areas": null,
       "grid_template_columns": null,
       "grid_template_rows": null,
       "height": null,
       "justify_content": null,
       "justify_items": null,
       "left": null,
       "margin": null,
       "max_height": null,
       "max_width": null,
       "min_height": null,
       "min_width": null,
       "object_fit": null,
       "object_position": null,
       "order": null,
       "overflow": null,
       "padding": null,
       "right": null,
       "top": null,
       "visibility": null,
       "width": null
      }
     },
     "d82881d22b3748e18f250b005a5c91c7": {
      "model_module": "@jupyter-widgets/base",
      "model_module_version": "2.0.0",
      "model_name": "LayoutModel",
      "state": {
       "_model_module": "@jupyter-widgets/base",
       "_model_module_version": "2.0.0",
       "_model_name": "LayoutModel",
       "_view_count": null,
       "_view_module": "@jupyter-widgets/base",
       "_view_module_version": "2.0.0",
       "_view_name": "LayoutView",
       "align_content": null,
       "align_items": null,
       "align_self": null,
       "border_bottom": null,
       "border_left": null,
       "border_right": null,
       "border_top": null,
       "bottom": null,
       "display": null,
       "flex": null,
       "flex_flow": null,
       "grid_area": null,
       "grid_auto_columns": null,
       "grid_auto_flow": null,
       "grid_auto_rows": null,
       "grid_column": null,
       "grid_gap": null,
       "grid_row": null,
       "grid_template_areas": null,
       "grid_template_columns": null,
       "grid_template_rows": null,
       "height": null,
       "justify_content": null,
       "justify_items": null,
       "left": null,
       "margin": null,
       "max_height": null,
       "max_width": null,
       "min_height": null,
       "min_width": null,
       "object_fit": null,
       "object_position": null,
       "order": null,
       "overflow": null,
       "padding": null,
       "right": null,
       "top": null,
       "visibility": null,
       "width": null
      }
     },
     "e8fcd872854847c8b9300016b8788bad": {
      "model_module": "@jupyter-widgets/controls",
      "model_module_version": "2.0.0",
      "model_name": "HTMLStyleModel",
      "state": {
       "_model_module": "@jupyter-widgets/controls",
       "_model_module_version": "2.0.0",
       "_model_name": "HTMLStyleModel",
       "_view_count": null,
       "_view_module": "@jupyter-widgets/base",
       "_view_module_version": "2.0.0",
       "_view_name": "StyleView",
       "background": null,
       "description_width": "",
       "font_size": null,
       "text_color": null
      }
     }
    },
    "version_major": 2,
    "version_minor": 0
   }
  }
 },
 "nbformat": 4,
 "nbformat_minor": 5
}