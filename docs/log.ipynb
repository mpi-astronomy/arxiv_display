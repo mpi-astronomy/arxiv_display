{
 "cells": [
  {
   "cell_type": "markdown",
   "id": "92bcb855",
   "metadata": {
    "papermill": {
     "duration": 0.006007,
     "end_time": "2022-08-30T07:20:03.256707",
     "exception": false,
     "start_time": "2022-08-30T07:20:03.250700",
     "status": "completed"
    },
    "tags": []
   },
   "source": [
    "# MPIA Arxiv on Deck 2\n",
    "\n",
    "Contains the steps to produce the paper extractions."
   ]
  },
  {
   "cell_type": "code",
   "execution_count": 1,
   "id": "3a0d6e11",
   "metadata": {
    "execution": {
     "iopub.execute_input": "2022-08-30T07:20:03.268714Z",
     "iopub.status.busy": "2022-08-30T07:20:03.268328Z",
     "iopub.status.idle": "2022-08-30T07:20:03.490063Z",
     "shell.execute_reply": "2022-08-30T07:20:03.488862Z"
    },
    "papermill": {
     "duration": 0.230977,
     "end_time": "2022-08-30T07:20:03.492769",
     "exception": false,
     "start_time": "2022-08-30T07:20:03.261792",
     "status": "completed"
    },
    "tags": []
   },
   "outputs": [],
   "source": [
    "# Imports\n",
    "import os\n",
    "from IPython.display import Markdown, display\n",
    "from tqdm.notebook import tqdm\n",
    "import warnings\n",
    "from PIL import Image \n",
    "\n",
    "# requires arxiv_on_deck_2\n",
    "\n",
    "from arxiv_on_deck_2.arxiv2 import (get_new_papers, \n",
    "                                    get_paper_from_identifier,\n",
    "                                    retrieve_document_source, \n",
    "                                    get_markdown_badge)\n",
    "from arxiv_on_deck_2 import (latex, \n",
    "                             mpia,\n",
    "                             highlight_authors_in_list)\n",
    "\n",
    "# Sometimes images are really big\n",
    "Image.MAX_IMAGE_PIXELS = 1000000000 "
   ]
  },
  {
   "cell_type": "code",
   "execution_count": 2,
   "id": "22aa9d44",
   "metadata": {
    "execution": {
     "iopub.execute_input": "2022-08-30T07:20:03.503897Z",
     "iopub.status.busy": "2022-08-30T07:20:03.503628Z",
     "iopub.status.idle": "2022-08-30T07:20:03.510913Z",
     "shell.execute_reply": "2022-08-30T07:20:03.509947Z"
    },
    "papermill": {
     "duration": 0.015292,
     "end_time": "2022-08-30T07:20:03.513230",
     "exception": false,
     "start_time": "2022-08-30T07:20:03.497938",
     "status": "completed"
    },
    "tags": []
   },
   "outputs": [],
   "source": [
    "# Some useful definitions.\n",
    "\n",
    "class AffiliationWarning(UserWarning):\n",
    "    pass\n",
    "\n",
    "class AffiliationError(RuntimeError):\n",
    "    pass\n",
    "\n",
    "def validation(source: str):\n",
    "    \"\"\"Raises error paper during parsing of source file\n",
    "    \n",
    "    Allows checks before parsing TeX code.\n",
    "    \n",
    "    Raises AffiliationWarning\n",
    "    \"\"\"\n",
    "    check = mpia.affiliation_verifications(source, verbose=True)\n",
    "    if check is not True:\n",
    "        raise AffiliationError(\"mpia.affiliation_verifications: \" + check)\n",
    "\n",
    "        \n",
    "warnings.simplefilter('always', AffiliationWarning)"
   ]
  },
  {
   "cell_type": "code",
   "execution_count": 3,
   "id": "14622700",
   "metadata": {
    "execution": {
     "iopub.execute_input": "2022-08-30T07:20:03.523271Z",
     "iopub.status.busy": "2022-08-30T07:20:03.523001Z",
     "iopub.status.idle": "2022-08-30T07:20:03.527953Z",
     "shell.execute_reply": "2022-08-30T07:20:03.526968Z"
    },
    "papermill": {
     "duration": 0.013995,
     "end_time": "2022-08-30T07:20:03.531314",
     "exception": false,
     "start_time": "2022-08-30T07:20:03.517319",
     "status": "completed"
    },
    "tags": []
   },
   "outputs": [],
   "source": [
    "# additional CSS to consider. \n",
    "# TODO: Current into each exported file. \n",
    "#       This should be set once into the webpages directly.\n",
    "#       With only the class/id definitions in the .md files.\n",
    "\n",
    "debug_html = \"\"\"\n",
    "<style>\n",
    "#wrap{ overflow:auto; }\n",
    "#fig1{ background:yellow; width:100%; float:left; padding:5px;  }\n",
    "#fig2{ background:red; width:50%; float:left; clear:left; padding:5px;  }\n",
    "#fig3{ background:green; width:50%; float:left; padding:5px;   }\n",
    ".macros{ background:yellow; visibility:visible;}\n",
    "h1 {margin: 0 0 0 0;}\n",
    "mark {background-color:#fff3b6;}\n",
    "img {object-fit:contain; max-height:250px; display:inline-block; text-align: center;}\n",
    "</style>\n",
    "\"\"\" \n",
    "html = \"\"\"\n",
    "<style>\n",
    "#wrap{ overflow:auto; }\n",
    "#fig1{ width:100%; float:left; padding: 5px;  }\n",
    "#fig2{ width:50%; float:left; clear:left; padding: 5px;  }\n",
    "#fig3{ width:50%; float:left; padding: 5px;  }\n",
    ".macros{ visibility:hidden; height:0px; }\n",
    "h1 {margin: 0em 0 0 0;}\n",
    "mark {background-color:#fff3b6;}\n",
    "img {object-fit:contain; max-height:250px; display:inline-block; text-align: center;}\n",
    "</style>\n",
    "\"\"\""
   ]
  },
  {
   "cell_type": "markdown",
   "id": "14bd6310",
   "metadata": {
    "papermill": {
     "duration": 0.005542,
     "end_time": "2022-08-30T07:20:03.541662",
     "exception": false,
     "start_time": "2022-08-30T07:20:03.536120",
     "status": "completed"
    },
    "tags": []
   },
   "source": [
    "## get list of arxiv paper candidates\n",
    "\n",
    "We use the MPIA mitarbeiter list webpage from mpia.de to get author names\n",
    "We then get all new papers from Arxiv and match authors"
   ]
  },
  {
   "cell_type": "code",
   "execution_count": 4,
   "id": "2645e73a",
   "metadata": {
    "execution": {
     "iopub.execute_input": "2022-08-30T07:20:03.555390Z",
     "iopub.status.busy": "2022-08-30T07:20:03.554565Z",
     "iopub.status.idle": "2022-08-30T07:20:28.859667Z",
     "shell.execute_reply": "2022-08-30T07:20:28.858809Z"
    },
    "papermill": {
     "duration": 25.313678,
     "end_time": "2022-08-30T07:20:28.861813",
     "exception": false,
     "start_time": "2022-08-30T07:20:03.548135",
     "status": "completed"
    },
    "tags": []
   },
   "outputs": [
    {
     "name": "stdout",
     "output_type": "stream",
     "text": [
      "Arxiv has 67 new papers today\n",
      "          26 with possible author matches\n"
     ]
    }
   ],
   "source": [
    "# get list from MPIA website\n",
    "# it automatically filters identified non-scientists :func:`mpia.filter_non_scientists`\n",
    "mpia_authors = mpia.get_mpia_mitarbeiter_list()\n",
    "new_papers = get_new_papers()\n",
    "# add manual references\n",
    "add_paper_refs = []\n",
    "new_papers.extend([get_paper_from_identifier(k) for k in add_paper_refs])\n",
    "\n",
    "# select only papers with matching author names and highlight authors\n",
    "hl_list = [k[0] for k in mpia_authors]\n",
    "\n",
    "candidates = []\n",
    "for paperk in new_papers:\n",
    "    hl_authors = highlight_authors_in_list(paperk['authors'], hl_list)\n",
    "    matches = [(hl, orig) for hl, orig in zip(hl_authors, paperk['authors']) if 'mark' in hl]\n",
    "    paperk['authors'] = hl_authors\n",
    "    if matches:\n",
    "        candidates.append(paperk)\n",
    "print(\"\"\"Arxiv has {0:,d} new papers today\"\"\".format(len(new_papers)))        \n",
    "print(\"\"\"          {0:,d} with possible author matches\"\"\".format(len(candidates)))"
   ]
  },
  {
   "cell_type": "markdown",
   "id": "3543b34a",
   "metadata": {
    "papermill": {
     "duration": 0.005503,
     "end_time": "2022-08-30T07:20:28.872903",
     "exception": false,
     "start_time": "2022-08-30T07:20:28.867400",
     "status": "completed"
    },
    "tags": []
   },
   "source": [
    "# Parse sources and generate relevant outputs\n",
    "\n",
    "From the candidates, we do the following steps:\n",
    "* get their tarball from ArXiv (and extract data)\n",
    "* find the main .tex file: find one with \\documentclass{...} (sometimes it's non trivial)\n",
    "* Check affiliations with :func:`validation`, which uses :func:`mpia.affiliation_verifications`\n",
    "* If passing the affiliations: we parse the .tex source\n",
    "   * inject sub-documents into the main (flatten the main document)\n",
    "   * parse structure, extract information (title, abstract, authors, figures...)\n",
    "   * handles `\\graphicspath` if provided\n",
    "* Generate the .md document."
   ]
  },
  {
   "cell_type": "code",
   "execution_count": 5,
   "id": "9576b79e",
   "metadata": {
    "execution": {
     "iopub.execute_input": "2022-08-30T07:20:28.885150Z",
     "iopub.status.busy": "2022-08-30T07:20:28.884246Z",
     "iopub.status.idle": "2022-08-30T07:21:56.300976Z",
     "shell.execute_reply": "2022-08-30T07:21:56.300147Z"
    },
    "papermill": {
     "duration": 87.426493,
     "end_time": "2022-08-30T07:21:56.304069",
     "exception": false,
     "start_time": "2022-08-30T07:20:28.877576",
     "status": "completed"
    },
    "scrolled": false,
    "tags": []
   },
   "outputs": [
    {
     "data": {
      "application/json": {
       "ascii": false,
       "bar_format": null,
       "colour": null,
       "elapsed": 0.025368690490722656,
       "initial": 0,
       "n": 0,
       "ncols": null,
       "nrows": null,
       "postfix": null,
       "prefix": "",
       "rate": null,
       "total": 25,
       "unit": "it",
       "unit_divisor": 1000,
       "unit_scale": false
      },
      "application/vnd.jupyter.widget-view+json": {
       "model_id": "478e9ca88c2c4f46904915dc78b3c5ae",
       "version_major": 2,
       "version_minor": 0
      },
      "text/plain": [
       "  0%|          | 0/25 [00:00<?, ?it/s]"
      ]
     },
     "metadata": {},
     "output_type": "display_data"
    },
    {
     "name": "stdout",
     "output_type": "stream",
     "text": [
      "Retrieving document from  https://arxiv.org/e-print/2208.12821\n"
     ]
    },
    {
     "name": "stdout",
     "output_type": "stream",
     "text": [
      "extracting tarball to tmp_2208.12821..."
     ]
    },
    {
     "name": "stdout",
     "output_type": "stream",
     "text": [
      " done.\n",
      "Retrieving document from  https://arxiv.org/e-print/2208.12825\n"
     ]
    },
    {
     "name": "stdout",
     "output_type": "stream",
     "text": [
      "extracting tarball to tmp_2208.12825..."
     ]
    },
    {
     "name": "stdout",
     "output_type": "stream",
     "text": [
      " done.\n",
      "Retrieving document from  https://arxiv.org/e-print/2208.12917\n"
     ]
    },
    {
     "name": "stderr",
     "output_type": "stream",
     "text": [
      "/opt/hostedtoolcache/Python/3.9.13/x64/lib/python3.9/site-packages/IPython/core/interactiveshell.py:3398: LatexWarning: Multiple tex files.\n",
      "\n",
      "  exec(code_obj, self.user_global_ns, self.user_ns)\n",
      "/opt/hostedtoolcache/Python/3.9.13/x64/lib/python3.9/site-packages/IPython/core/interactiveshell.py:3398: LatexWarning: Found documentclass in tmp_2208.12825/dsphs-gnn.tex\n",
      "\n",
      "  exec(code_obj, self.user_global_ns, self.user_ns)\n",
      "/opt/hostedtoolcache/Python/3.9.13/x64/lib/python3.9/site-packages/arxiv_on_deck_2/latex.py:292: LatexWarning: Latex injecting: 'supp.tex' from 'tmp_2208.12825/supp.tex'\n",
      "  warnings.warn(LatexWarning(f\"Latex injecting: '{ext}' from '{subsource}'\"))\n"
     ]
    },
    {
     "name": "stdout",
     "output_type": "stream",
     "text": [
      "extracting tarball to tmp_2208.12917..."
     ]
    },
    {
     "name": "stdout",
     "output_type": "stream",
     "text": [
      " done.\n",
      "Retrieving document from  https://arxiv.org/e-print/2208.12935\n"
     ]
    },
    {
     "name": "stderr",
     "output_type": "stream",
     "text": [
      "/opt/hostedtoolcache/Python/3.9.13/x64/lib/python3.9/site-packages/IPython/core/interactiveshell.py:3398: LatexWarning: Multiple tex files.\n",
      "\n",
      "  exec(code_obj, self.user_global_ns, self.user_ns)\n",
      "/opt/hostedtoolcache/Python/3.9.13/x64/lib/python3.9/site-packages/IPython/core/interactiveshell.py:3398: LatexWarning: Found documentclass in tmp_2208.12917/Fan-Universe.tex\n",
      "\n",
      "  exec(code_obj, self.user_global_ns, self.user_ns)\n"
     ]
    },
    {
     "name": "stdout",
     "output_type": "stream",
     "text": [
      "extracting tarball to tmp_2208.12935..."
     ]
    },
    {
     "name": "stdout",
     "output_type": "stream",
     "text": [
      " done.\n",
      "Retrieving document from  https://arxiv.org/e-print/2208.12948\n"
     ]
    },
    {
     "name": "stdout",
     "output_type": "stream",
     "text": [
      "extracting tarball to tmp_2208.12948..."
     ]
    },
    {
     "name": "stdout",
     "output_type": "stream",
     "text": [
      " done.\n",
      "Retrieving document from  https://arxiv.org/e-print/2208.12950\n"
     ]
    },
    {
     "name": "stdout",
     "output_type": "stream",
     "text": [
      "extracting tarball to tmp_2208.12950..."
     ]
    },
    {
     "name": "stdout",
     "output_type": "stream",
     "text": [
      " done.\n",
      "Retrieving document from  https://arxiv.org/e-print/2208.12969\n"
     ]
    },
    {
     "name": "stderr",
     "output_type": "stream",
     "text": [
      "/opt/hostedtoolcache/Python/3.9.13/x64/lib/python3.9/site-packages/IPython/core/interactiveshell.py:3398: LatexWarning: Multiple tex files.\n",
      "\n",
      "  exec(code_obj, self.user_global_ns, self.user_ns)\n",
      "/opt/hostedtoolcache/Python/3.9.13/x64/lib/python3.9/site-packages/IPython/core/interactiveshell.py:3398: LatexWarning: Found documentclass in tmp_2208.12950/main.tex\n",
      "\n",
      "  exec(code_obj, self.user_global_ns, self.user_ns)\n",
      "/opt/hostedtoolcache/Python/3.9.13/x64/lib/python3.9/site-packages/arxiv_on_deck_2/latex.py:292: LatexWarning: Latex injecting: 'table3' from 'tmp_2208.12950/table3.tex'\n",
      "  warnings.warn(LatexWarning(f\"Latex injecting: '{ext}' from '{subsource}'\"))\n"
     ]
    },
    {
     "name": "stdout",
     "output_type": "stream",
     "text": [
      "extracting tarball to tmp_2208.12969..."
     ]
    },
    {
     "name": "stdout",
     "output_type": "stream",
     "text": [
      " done.\n",
      "Retrieving document from  https://arxiv.org/e-print/2208.12992\n"
     ]
    },
    {
     "name": "stdout",
     "output_type": "stream",
     "text": [
      "extracting tarball to tmp_2208.12992..."
     ]
    },
    {
     "name": "stdout",
     "output_type": "stream",
     "text": [
      " done.\n",
      "Retrieving document from  https://arxiv.org/e-print/2208.13218\n"
     ]
    },
    {
     "name": "stdout",
     "output_type": "stream",
     "text": [
      "extracting tarball to tmp_2208.13218..."
     ]
    },
    {
     "name": "stdout",
     "output_type": "stream",
     "text": [
      " done.\n"
     ]
    },
    {
     "name": "stderr",
     "output_type": "stream",
     "text": [
      "/opt/hostedtoolcache/Python/3.9.13/x64/lib/python3.9/site-packages/arxiv_on_deck_2/latex.py:118: LatexWarning: attempting recovering figure CMD\n",
      "  warnings.warn(LatexWarning(f'attempting recovering figure {image}'))\n",
      "/opt/hostedtoolcache/Python/3.9.13/x64/lib/python3.9/site-packages/arxiv_on_deck_2/latex.py:118: LatexWarning: attempting recovering figure uncertainties\n",
      "  warnings.warn(LatexWarning(f'attempting recovering figure {image}'))\n"
     ]
    },
    {
     "name": "stderr",
     "output_type": "stream",
     "text": [
      "/opt/hostedtoolcache/Python/3.9.13/x64/lib/python3.9/site-packages/arxiv_on_deck_2/latex.py:118: LatexWarning: attempting recovering figure proper\n",
      "  warnings.warn(LatexWarning(f'attempting recovering figure {image}'))\n",
      "/opt/hostedtoolcache/Python/3.9.13/x64/lib/python3.9/site-packages/arxiv_on_deck_2/latex.py:118: LatexWarning: attempting recovering figure GMM\n",
      "  warnings.warn(LatexWarning(f'attempting recovering figure {image}'))\n",
      "/opt/hostedtoolcache/Python/3.9.13/x64/lib/python3.9/site-packages/arxiv_on_deck_2/latex.py:118: LatexWarning: attempting recovering figure vr\n",
      "  warnings.warn(LatexWarning(f'attempting recovering figure {image}'))\n",
      "/opt/hostedtoolcache/Python/3.9.13/x64/lib/python3.9/site-packages/arxiv_on_deck_2/latex.py:118: LatexWarning: attempting recovering figure Met\n",
      "  warnings.warn(LatexWarning(f'attempting recovering figure {image}'))\n"
     ]
    },
    {
     "name": "stderr",
     "output_type": "stream",
     "text": [
      "/opt/hostedtoolcache/Python/3.9.13/x64/lib/python3.9/site-packages/arxiv_on_deck_2/latex.py:118: LatexWarning: attempting recovering figure Met_GMM\n",
      "  warnings.warn(LatexWarning(f'attempting recovering figure {image}'))\n",
      "/opt/hostedtoolcache/Python/3.9.13/x64/lib/python3.9/site-packages/arxiv_on_deck_2/latex.py:118: LatexWarning: attempting recovering figure Fig1\n",
      "  warnings.warn(LatexWarning(f'attempting recovering figure {image}'))\n"
     ]
    },
    {
     "name": "stdout",
     "output_type": "stream",
     "text": [
      "Retrieving document from  https://arxiv.org/e-print/2208.13307\n"
     ]
    },
    {
     "name": "stdout",
     "output_type": "stream",
     "text": [
      "extracting tarball to tmp_2208.13307..."
     ]
    },
    {
     "name": "stdout",
     "output_type": "stream",
     "text": [
      " done.\n",
      "Retrieving document from  https://arxiv.org/e-print/2208.13340\n"
     ]
    },
    {
     "name": "stdout",
     "output_type": "stream",
     "text": [
      "extracting tarball to tmp_2208.13340..."
     ]
    },
    {
     "name": "stdout",
     "output_type": "stream",
     "text": [
      " done.\n",
      "Retrieving document from  https://arxiv.org/e-print/2208.13350\n"
     ]
    },
    {
     "name": "stdout",
     "output_type": "stream",
     "text": [
      "extracting tarball to tmp_2208.13350..."
     ]
    },
    {
     "name": "stdout",
     "output_type": "stream",
     "text": [
      " done.\n",
      "Retrieving document from  https://arxiv.org/e-print/2208.13353\n"
     ]
    },
    {
     "name": "stdout",
     "output_type": "stream",
     "text": [
      "extracting tarball to tmp_2208.13353..."
     ]
    },
    {
     "name": "stdout",
     "output_type": "stream",
     "text": [
      " done.\n",
      "Retrieving document from  https://arxiv.org/e-print/2208.13460\n"
     ]
    },
    {
     "name": "stdout",
     "output_type": "stream",
     "text": [
      "extracting tarball to tmp_2208.13460..."
     ]
    },
    {
     "name": "stdout",
     "output_type": "stream",
     "text": [
      " done.\n",
      "Retrieving document from  https://arxiv.org/e-print/2208.13463\n"
     ]
    },
    {
     "name": "stderr",
     "output_type": "stream",
     "text": [
      "/tmp/ipykernel_2253/4030337529.py:34: LatexWarning: 2208.13463 did not run properly\n",
      "not a gzip file\n",
      "  warnings.warn(latex.LatexWarning(f\"{paper_id:s} did not run properly\\n\" +\n"
     ]
    },
    {
     "name": "stdout",
     "output_type": "stream",
     "text": [
      "Retrieving document from  https://arxiv.org/e-print/2208.13470\n"
     ]
    },
    {
     "name": "stderr",
     "output_type": "stream",
     "text": [
      "/tmp/ipykernel_2253/4030337529.py:34: LatexWarning: 2208.13470 did not run properly\n",
      "not a gzip file\n",
      "  warnings.warn(latex.LatexWarning(f\"{paper_id:s} did not run properly\\n\" +\n"
     ]
    },
    {
     "name": "stdout",
     "output_type": "stream",
     "text": [
      "Retrieving document from  https://arxiv.org/e-print/2208.13482\n"
     ]
    },
    {
     "name": "stderr",
     "output_type": "stream",
     "text": [
      "/tmp/ipykernel_2253/4030337529.py:34: LatexWarning: 2208.13482 did not run properly\n",
      "not a gzip file\n",
      "  warnings.warn(latex.LatexWarning(f\"{paper_id:s} did not run properly\\n\" +\n"
     ]
    },
    {
     "name": "stdout",
     "output_type": "stream",
     "text": [
      "Retrieving document from  https://arxiv.org/e-print/2208.13511\n"
     ]
    },
    {
     "name": "stdout",
     "output_type": "stream",
     "text": [
      "extracting tarball to tmp_2208.13511..."
     ]
    },
    {
     "name": "stdout",
     "output_type": "stream",
     "text": [
      " done.\n",
      "Retrieving document from  https://arxiv.org/e-print/2208.13556\n"
     ]
    },
    {
     "name": "stdout",
     "output_type": "stream",
     "text": [
      "extracting tarball to tmp_2208.13556..."
     ]
    },
    {
     "name": "stdout",
     "output_type": "stream",
     "text": [
      " done.\n",
      "Retrieving document from  https://arxiv.org/e-print/2208.13568\n"
     ]
    },
    {
     "name": "stdout",
     "output_type": "stream",
     "text": [
      "extracting tarball to tmp_2208.13568..."
     ]
    },
    {
     "name": "stdout",
     "output_type": "stream",
     "text": [
      " done.\n",
      "Retrieving document from  https://arxiv.org/e-print/2208.13582\n"
     ]
    },
    {
     "name": "stderr",
     "output_type": "stream",
     "text": [
      "/opt/hostedtoolcache/Python/3.9.13/x64/lib/python3.9/site-packages/IPython/core/interactiveshell.py:3398: LatexWarning: Multiple tex files.\n",
      "\n",
      "  exec(code_obj, self.user_global_ns, self.user_ns)\n",
      "/opt/hostedtoolcache/Python/3.9.13/x64/lib/python3.9/site-packages/IPython/core/interactiveshell.py:3398: LatexWarning: Found documentclass in tmp_2208.13568/natbib.tex\n",
      "\n",
      "  exec(code_obj, self.user_global_ns, self.user_ns)\n"
     ]
    },
    {
     "name": "stdout",
     "output_type": "stream",
     "text": [
      "extracting tarball to tmp_2208.13582..."
     ]
    },
    {
     "name": "stdout",
     "output_type": "stream",
     "text": [
      " done.\n",
      "Retrieving document from  https://arxiv.org/e-print/2208.13642\n"
     ]
    },
    {
     "name": "stdout",
     "output_type": "stream",
     "text": [
      "extracting tarball to tmp_2208.13642..."
     ]
    },
    {
     "name": "stdout",
     "output_type": "stream",
     "text": [
      " done.\n",
      "Retrieving document from  https://arxiv.org/e-print/2208.13668\n"
     ]
    },
    {
     "name": "stdout",
     "output_type": "stream",
     "text": [
      "extracting tarball to tmp_2208.13668..."
     ]
    },
    {
     "name": "stdout",
     "output_type": "stream",
     "text": [
      " done.\n",
      "Retrieving document from  https://arxiv.org/e-print/2208.13670\n"
     ]
    },
    {
     "name": "stderr",
     "output_type": "stream",
     "text": [
      "/opt/hostedtoolcache/Python/3.9.13/x64/lib/python3.9/site-packages/IPython/core/interactiveshell.py:3398: LatexWarning: Multiple tex files.\n",
      "\n",
      "  exec(code_obj, self.user_global_ns, self.user_ns)\n",
      "/opt/hostedtoolcache/Python/3.9.13/x64/lib/python3.9/site-packages/IPython/core/interactiveshell.py:3398: LatexWarning: Found documentclass in tmp_2208.13668/natbib.tex\n",
      "\n",
      "  exec(code_obj, self.user_global_ns, self.user_ns)\n"
     ]
    },
    {
     "name": "stdout",
     "output_type": "stream",
     "text": [
      "extracting tarball to tmp_2208.13670..."
     ]
    },
    {
     "name": "stdout",
     "output_type": "stream",
     "text": [
      " done.\n",
      "Retrieving document from  https://arxiv.org/e-print/2208.13749\n"
     ]
    },
    {
     "name": "stdout",
     "output_type": "stream",
     "text": [
      "extracting tarball to tmp_2208.13749..."
     ]
    },
    {
     "name": "stdout",
     "output_type": "stream",
     "text": [
      " done.\n"
     ]
    }
   ],
   "source": [
    "documents = []\n",
    "failed = []\n",
    "for paper in tqdm(candidates[:-1]):\n",
    "    paper_id = paper['identifier'].lower().replace('arxiv:', '')\n",
    "    \n",
    "    folder = f'tmp_{paper_id}'\n",
    "\n",
    "    try:\n",
    "        if not os.path.isdir(folder):\n",
    "            folder = retrieve_document_source(f\"{paper_id}\", f'tmp_{paper_id}')\n",
    "        \n",
    "        try:\n",
    "            doc = latex.LatexDocument(folder, validation=validation)    \n",
    "        except AffiliationError as affilerror:\n",
    "            msg = f\"ArXiv:{paper_id:s} is not an MPIA paper... \" + str(affilerror)\n",
    "            failed.append((paper, \"affiliation error: \" + str(affilerror) ))\n",
    "            continue\n",
    "        \n",
    "        # Hack because sometimes author parsing does not work well\n",
    "        if (len(doc.authors) != len(paper['authors'])):\n",
    "            doc._authors = paper['authors']\n",
    "        if (doc.abstract) in (None, ''):\n",
    "            doc._abstract = paper['abstract']\n",
    "            \n",
    "        doc.comment = (get_markdown_badge(paper_id) + \n",
    "                       \"<mark>Appeared on: \" + paper['date'] + \"</mark> - \" +\n",
    "                       \"_\" + paper['comments'] + \"_\")\n",
    "        doc.highlight_authors_in_list(hl_list)\n",
    "\n",
    "        full_md = doc.generate_markdown_text()\n",
    "        \n",
    "        documents.append((paper_id, full_md))\n",
    "    except Exception as e:\n",
    "        warnings.warn(latex.LatexWarning(f\"{paper_id:s} did not run properly\\n\" +\n",
    "                                         str(e)\n",
    "                                        ))\n",
    "        failed.append((paper, \"latex error \" + str(e)))"
   ]
  },
  {
   "cell_type": "markdown",
   "id": "2505a25c",
   "metadata": {
    "papermill": {
     "duration": 0.007836,
     "end_time": "2022-08-30T07:21:56.321612",
     "exception": false,
     "start_time": "2022-08-30T07:21:56.313776",
     "status": "completed"
    },
    "tags": []
   },
   "source": [
    "### Export the logs\n",
    "\n",
    "Throughout, we also keep track of the logs per paper. see `logs-{today date}.md` "
   ]
  },
  {
   "cell_type": "code",
   "execution_count": 6,
   "id": "d733828a",
   "metadata": {
    "execution": {
     "iopub.execute_input": "2022-08-30T07:21:56.340509Z",
     "iopub.status.busy": "2022-08-30T07:21:56.339787Z",
     "iopub.status.idle": "2022-08-30T07:21:56.393955Z",
     "shell.execute_reply": "2022-08-30T07:21:56.393138Z"
    },
    "papermill": {
     "duration": 0.069766,
     "end_time": "2022-08-30T07:21:56.399807",
     "exception": false,
     "start_time": "2022-08-30T07:21:56.330041",
     "status": "completed"
    },
    "scrolled": false,
    "tags": []
   },
   "outputs": [
    {
     "data": {
      "text/markdown": [
       "## Successful papers"
      ],
      "text/plain": [
       "<IPython.core.display.Markdown object>"
      ]
     },
     "metadata": {},
     "output_type": "display_data"
    },
    {
     "data": {
      "text/markdown": [
       "\n",
       "|||\n",
       "|---:|:---|\n",
       "| [![arXiv](https://img.shields.io/badge/arXiv-arXiv:2208.13218-b31b1b.svg)](https://arxiv.org/abs/arXiv:2208.13218) | **Kinematic data rebuild the Nuclear star cluster as the most metal rich  region of the Galaxy**  |\n",
       "|| <mark>Francisco Nogueras-Lara</mark> |\n",
       "|*Appeared on*| *2022-08-30*|\n",
       "|*Comments*| *Accepted for publication in A&A. 8 pages, 8 figures*|\n",
       "|**Abstract**| The Galactic centre (GC) is located at only 8 kpc from Earth and constitutes a unique template to understand Galactic nuclei. Nevertheless, the high crowding and extinction towards the GC hamper the study of its main stellar components, the nuclear stellar disc (NSD) and the nuclear star cluster (NSC). Recent work has suggested that the NSD and the NSC can be distinguished along the line of sight towards the NSC via the different extinction of their stars. This motivated us to analyse the proper motion, radial velocity, and the metallicity distributions of the different extinction groups. We use photometric, kinematic, and metallicity data to distinguish between probable NSD and NSC stars in a region centred on the NSC. We detected two different extinction groups of stars and obtained significantly different proper motion distributions for each of them, in agreement with the expected kinematics for the NSD and the NSC. We derived radial velocity maps that appear to be different for the NSD and the NSC. We also found different metallicities for each of the components, with the largest one measured for the most extinguished group of stars. We obtained that the metallicity distribution of each extinction group is best fitted by a bimodal distribution, indicating the presence of two metallicity components for each of them (a broad one slightly below solar metallicity, and a more metal rich narrower one, that is largest for the high extinction group of stars). We conclude that both extinction groups are distinct GC components with different kinematics and metallicity, and correspond to the NSD and the NSC. Therefore, it is possible to distinguish them via their different extinction. The high mean metallicity, $[M/H]\\sim0.3$\\,dex, obtained for the NSC metal rich stars, supports that the NSC is arguabily the most metal rich region of the Galaxy. |"
      ],
      "text/plain": [
       "[arXiv:2208.13218] Kinematic data rebuild the Nuclear star cluster as the most metal rich  region of the Galaxy\n",
       "\t<mark>Francisco Nogueras-Lara</mark>"
      ]
     },
     "metadata": {},
     "output_type": "display_data"
    },
    {
     "data": {
      "text/markdown": [
       "## Failed papers"
      ],
      "text/plain": [
       "<IPython.core.display.Markdown object>"
      ]
     },
     "metadata": {},
     "output_type": "display_data"
    },
    {
     "data": {
      "text/markdown": [
       "\n",
       "|||\n",
       "|---:|:---|\n",
       "| [![arXiv](https://img.shields.io/badge/arXiv-arXiv:2208.12821-b31b1b.svg)](https://arxiv.org/abs/arXiv:2208.12821) | **Multiple locations of near-infrared coronal lines in NGC 5548**  |\n",
       "|| Daniel Kynoch, et al. -- incl., <mark>Hermine Landt</mark> |\n",
       "|*Appeared on*| *2022-08-30*|\n",
       "|*Comments*| *20 pages, 16 figures and 6 tables. Accepted for publication in MNRAS*|\n",
       "|**Abstract**| We present the first intensive study of the variability of the near-infrared coronal lines in an active galactic nucleus (AGN). We use data from a one-year long spectroscopic monitoring campaign with roughly weekly cadence on NGC 5548 to study the variability in both emission line fluxes and profile shapes. We find that in common with many AGN coronal lines, those studied here are both broader than the low-ionisaton forbidden lines and blueshifted relative to them, with a stratification that implies an origin in an outflow interior to the standard narrow line region. We observe for the first time [S VIII] and [Si VI] coronal line profiles that exhibit broad wings in addition to narrow cores, features not seen in either [S IX] or [Si X]. These wings are highly variable, whereas the cores show negligible changes. The differences in both the profile shapes and variability properties of the different line components indicate that there are at least two coronal line regions in AGN. We associate the variable, broad wings with the base of an X-ray heated wind evaporated from the inner edge of the dusty torus. The coronal line cores may be formed at several locations interior to the narrow line region: either along this accelerating, clumpy wind or in the much more compact outflow identified with the obscurer and so emerging on scales similar to the outer accretion disc and broad line region. |\n",
       "|<p style=\"color:green\"> **ERROR** </p>| <p style=\"color:green\">affiliation error: mpia.affiliation_verifications: 'Heidelberg' keyword not found.</p> |"
      ],
      "text/plain": [
       "<IPython.core.display.Markdown object>"
      ]
     },
     "metadata": {},
     "output_type": "display_data"
    },
    {
     "data": {
      "text/markdown": [
       "\n",
       "|||\n",
       "|---:|:---|\n",
       "| [![arXiv](https://img.shields.io/badge/arXiv-arXiv:2208.12825-b31b1b.svg)](https://arxiv.org/abs/arXiv:2208.12825) | **Uncovering dark matter density profiles in dwarf galaxies with graph  neural networks**  |\n",
       "|| Tri Nguyen, <mark>Siddharth Mishra-Sharma</mark>, <mark>Reuel Williams</mark>, Lina Necib |\n",
       "|*Appeared on*| *2022-08-30*|\n",
       "|*Comments*| *9 + 11 pages, 4 + 9 figures*|\n",
       "|**Abstract**| Dwarf galaxies are small, dark matter-dominated galaxies, some of which are embedded within the Milky Way. Their lack of baryonic matter (e.g., stars and gas) makes them perfect test beds for probing the properties of dark matter -- understanding the spatial dark matter distribution in these systems can be used to constrain microphysical dark matter interactions that influence the formation and evolution of structures in our Universe. We introduce a new method that leverages simulation-based inference and graph-based machine learning in order to infer the dark matter density profiles of dwarf galaxies from observable kinematics of stars gravitationally bound to these systems. Our approach aims to address some of the limitations of established methods based on dynamical Jeans modeling. We show that this novel method can place stronger constraints on dark matter profiles and, consequently, has the potential to weigh in on some of the ongoing puzzles associated with the small-scale structure of dark matter halos, such as the core-cusp discrepancy. |\n",
       "|<p style=\"color:green\"> **ERROR** </p>| <p style=\"color:green\">affiliation error: mpia.affiliation_verifications: 'Heidelberg' keyword not found.</p> |"
      ],
      "text/plain": [
       "<IPython.core.display.Markdown object>"
      ]
     },
     "metadata": {},
     "output_type": "display_data"
    },
    {
     "data": {
      "text/markdown": [
       "\n",
       "|||\n",
       "|---:|:---|\n",
       "| [![arXiv](https://img.shields.io/badge/arXiv-arXiv:2208.12917-b31b1b.svg)](https://arxiv.org/abs/arXiv:2208.12917) | **The Classification of Blazars Candidates of Uncertain Types**  |\n",
       "|| Jun-Hui Fan, et al. -- incl., <mark>Jing-Chao Liang</mark>, <mark>Jiang-He Yang</mark> |\n",
       "|*Appeared on*| *2022-08-30*|\n",
       "|*Comments*| *Accepted to Universe*|\n",
       "|**Abstract**| In this work, the support vector machine (SVM) method is adopted to separate BL Lacertae objects (BL Lacs) and flat spectrum radio quasars (FSRQs) in the plots of photon spectrum index against the photon flux, $\\alpha_{\\rm ph} \\sim {\\rm log}\\,F$, that of photon spectrum index against the variability index, $\\alpha_{\\rm ph} \\sim {\\rm log}\\, \\textit{V\\!I}$, and that of variability index against the photon flux, ${\\rm log}\\,{V\\!I} \\sim {\\rm log}\\,F$. Then we used the dividing lines to tell BL Lacs from FSRQs in the blazars candidates of uncertain types from \\textit{Fermi}/LAT catalogue. Our main conclusions are: 1. We separate BL Lacs and FSRQs by $\\alpha_{\\rm ph} = -0.123\\,{\\rm log}\\,F + 1.170$ in the $\\alpha_{\\rm ph} \\sim {\\rm log}\\,F$ plot, $\\alpha_{\\rm ph} = -0.161\\,{\\rm log}\\,{V\\!I} + 2.594$ in the $\\alpha_{\\rm ph} \\sim {\\rm log}\\,{V\\!I}$ plot, and ${\\rm log}\\,{V\\!I} = 0.792\\,{\\rm log}\\,F + 9.203$ in the ${\\rm log}\\,{V\\!I} \\sim {\\rm log}\\,F$ plot. 2. We obtained 932 BL Lac candidates and possible BL Lac candidates, and 585 FSRQ candidates and possible FSRQ candidates. 3. Some discussions are given for comparisons with those in literature. |\n",
       "|<p style=\"color:green\"> **ERROR** </p>| <p style=\"color:green\">affiliation error: mpia.affiliation_verifications: 'Heidelberg' keyword not found.</p> |"
      ],
      "text/plain": [
       "<IPython.core.display.Markdown object>"
      ]
     },
     "metadata": {},
     "output_type": "display_data"
    },
    {
     "data": {
      "text/markdown": [
       "\n",
       "|||\n",
       "|---:|:---|\n",
       "| [![arXiv](https://img.shields.io/badge/arXiv-arXiv:2208.12935-b31b1b.svg)](https://arxiv.org/abs/arXiv:2208.12935) | **Binary open clusters in the Gaia data**  |\n",
       "|| Fangfang Song, Ali Esamdin, Qingshun Hu, <mark>Mengfan Zhang</mark> |\n",
       "|*Appeared on*| *2022-08-30*|\n",
       "|*Comments*| *9 pages, 3 figures*|\n",
       "|**Abstract**| Context. Observations indicate that the fraction of potential binary star clusters in the Milky Way is either the same or lower than that of the Magellanic Clouds. The unprecedented precision in the parallax measurements by Gaia has allowed for the discovery of a growing number of new binary open clusters (OCs). Aims. We aim to survey the candidates of truly binary open clusters that are formed simultaneously, using information from the Gaia database. Methods. Based on the most recent catalog of open clusters, we investigated the interactions of adjacent binary open clusters in our Galaxy within separations of 50 pc. We compared their coordinates, proper motions, parallaxes, and color-magnitude diagrams(CMDs) via binary plots for all candidate pairs. The candidates of truly binary open clusters are selected on the basis of their common proper motions and consistent behaviors in the CMDs of different clusters that are limited to a separation of 50 pc. Results. About ten pairs of the selected binary open clusters appear to be the same clusters, based on evidence that almost half ofthe cluster members are shared. Fourteen pairs are possibly true binaries, implying that they may come from the same clouds, among which five pairs are newly discovered. In addition, two clusters, UBC 46 and UBC 192, were found to be part of the stellar complex LISCA I. Our results confirm that OCs born in groups are usually composed of young open clusters. |\n",
       "|<p style=\"color:green\"> **ERROR** </p>| <p style=\"color:green\">affiliation error: mpia.affiliation_verifications: 'Heidelberg' keyword not found.</p> |"
      ],
      "text/plain": [
       "<IPython.core.display.Markdown object>"
      ]
     },
     "metadata": {},
     "output_type": "display_data"
    },
    {
     "data": {
      "text/markdown": [
       "\n",
       "|||\n",
       "|---:|:---|\n",
       "| [![arXiv](https://img.shields.io/badge/arXiv-arXiv:2208.12948-b31b1b.svg)](https://arxiv.org/abs/arXiv:2208.12948) | **Impact of the free-streaming neutrinos to the second order induced  gravitational waves**  |\n",
       "|| <mark>Xukun Zhang</mark>, Jing-Zhi Zhou, Zhe Chang |\n",
       "|*Appeared on*| *2022-08-30*|\n",
       "|*Comments*| **|\n",
       "|**Abstract**| The damping effect of the free-streaming neutrinos on the second order gravitational waves is investigated in detail. We solve the Boltzmann equation and give the anisotropic stress induced by neutrinos to second order. The first order tensor and its coupling with scalar perturbations induced gravitational waves are considered. We give the analytic equations of the damping kernel functions and finally obtain the energy density spectrum. The results show that the free-streaming neutrinos suppress the density spectrum significantly for low frequency gravitational waves and enlarge the logarithmic slope $n$ in the infrared region ($k \\ll k_*$) of the spectrum. For the spectrum of $k_*\\sim 10^{-7}$Hz, the damping effect in the range of $k<k_*$ is significant. The combined effect of the first and second order could reduce the amplitude by $30\\%$ and make $n$ jump from $1.54$ to $1.63$ at $k\\sim 10^{-9}$Hz, which may be probed by the pulsar timing arrays (PTA) in the future. |\n",
       "|<p style=\"color:green\"> **ERROR** </p>| <p style=\"color:green\">affiliation error: mpia.affiliation_verifications: 'Heidelberg' keyword not found.</p> |"
      ],
      "text/plain": [
       "<IPython.core.display.Markdown object>"
      ]
     },
     "metadata": {},
     "output_type": "display_data"
    },
    {
     "data": {
      "text/markdown": [
       "\n",
       "|||\n",
       "|---:|:---|\n",
       "| [![arXiv](https://img.shields.io/badge/arXiv-arXiv:2208.12950-b31b1b.svg)](https://arxiv.org/abs/arXiv:2208.12950) | **GASP XXXIX: MeerKAT hunts Jellyfish in A2626**  |\n",
       "|| Tirna Deb, et al. -- incl., <mark>Julia Healy</mark>, <mark>Ancla Müller</mark> |\n",
       "|*Appeared on*| *2022-08-30*|\n",
       "|*Comments*| *15 pages, 10 figures, accepted for publication in MNRAS*|\n",
       "|**Abstract**| We present MeerKAT HI observations of six jellyfish candidate galaxies (JFCGs) in the galaxy cluster, A2626. Two of the six galaxies JW100 and JW103, that were identified as JFCGs from B-band images, are confirmed as jellyfish galaxies (JFGs). Both of the JFGs have low HI content, reside in the cluster core, and move at very high velocities ($\\sim$ 3$\\sigma_{cl}$). The other JFCGs, identified as non-jellyfish galaxies, are HI rich, with HI morphologies revealing warps, asymmetries, and possible tidal interactions. Both the A2626 JFGs and three other confirmed JFGs from the GASP sample show that these galaxies are HI stripped but not yet quenched. We detect HI, Halpha, and CO tails of similar extent ($\\sim$ 50 kpc) in JW100. Comparing the multi-phase velocity channels, we do not detect any HI or CO emission in the northern section of the tail where Halpha emission is present, possibly due to prolonged interaction between the stripped gas and the ICM. We also observe an anti-correlation between HI and CO, which hints at an efficient conversion of HI to H2 in the southern part of the tail. We find that both RPS and HI-to-H2 conversion are significant depletion channels for atomic gas. HI-to-H2 conversion is more efficient in the disc than in the tail. |\n",
       "|<p style=\"color:green\"> **ERROR** </p>| <p style=\"color:green\">affiliation error: mpia.affiliation_verifications: 'Heidelberg' keyword not found.</p> |"
      ],
      "text/plain": [
       "<IPython.core.display.Markdown object>"
      ]
     },
     "metadata": {},
     "output_type": "display_data"
    },
    {
     "data": {
      "text/markdown": [
       "\n",
       "|||\n",
       "|---:|:---|\n",
       "| [![arXiv](https://img.shields.io/badge/arXiv-arXiv:2208.12969-b31b1b.svg)](https://arxiv.org/abs/arXiv:2208.12969) | **Change in spin-down rate and detection of emission line in HMXB 4U  2206+54 with AstroSat observation**  |\n",
       "|| Chetana Jain, Ajay Yadav, <mark>Rahul Sharma</mark> |\n",
       "|*Appeared on*| *2022-08-30*|\n",
       "|*Comments*| *Accepted in Journal of Astrophysics and Astronomy*|\n",
       "|**Abstract**| This work presents timing and spectral analysis of 4U 2206+54 using data obtained from LAXPC instrument onboard India's AstroSat mission. This source was observed with AstroSat in September 2016 and October 2016. We report detection of $5648 (4)$ s pulsations at MJD 57669 in the latter observation of 4U 2206+54. The pulse profile is sinusoidal and the inherent shape is independent of energy up to 30 keV. The pulse fraction increases with energy from $\\sim 0.5$% to $\\sim 0.8$%. We report an updated spin down rate of $2.95 (14) \\times 10^{-7}$ s s$^{-1}$. This is about 0.40 times smaller than the previously reported long term value. The energy spectrum is best modelled with an absorbed power-law with high energy exponential cut-off. We have detected presence of broad emission line in 4U 2206+54 at an energy of $7$ keV with equivalent width of $\\sim 0.4$ keV. |\n",
       "|<p style=\"color:green\"> **ERROR** </p>| <p style=\"color:green\">affiliation error: mpia.affiliation_verifications: 'Heidelberg' keyword not found.</p> |"
      ],
      "text/plain": [
       "<IPython.core.display.Markdown object>"
      ]
     },
     "metadata": {},
     "output_type": "display_data"
    },
    {
     "data": {
      "text/markdown": [
       "\n",
       "|||\n",
       "|---:|:---|\n",
       "| [![arXiv](https://img.shields.io/badge/arXiv-arXiv:2208.12992-b31b1b.svg)](https://arxiv.org/abs/arXiv:2208.12992) | **Assessing the robustness of sound horizon-free determinations of the  Hubble constant**  |\n",
       "|| <mark>Tristan L. Smith</mark>, Vivian Poulin, Théo Simon |\n",
       "|*Appeared on*| *2022-08-30*|\n",
       "|*Comments*| *18 pages, 15 figures, comments welcome*|\n",
       "|**Abstract**| The Hubble tension can be addressed by modifying the sound horizon ($r_s$) before recombination, triggering interest in $r_s$-free early-universe estimates of the Hubble constant, $H_0$. Constraints on $H_0$ from an $r_s$-free analysis of the full shape BOSS galaxy power spectra within LCDM were recently reported and used to comment on the viability of physics beyond LCDM. Here we demonstrate that $r_s$-free analyses with current data depend on the model and the priors placed on the cosmological parameters, such that LCDM analyses cannot be used as evidence for or against new physics. We find that beyond-LCDM models which introduce additional energy density with significant pressure support, such as early dark energy (EDE) or additional neutrino energy density ($\\Delta N_{\\rm eff}$), lead to larger values of $H_0$. On the other hand, models which only affect the time of recombination, such as a varying electron mass ($\\Delta m_e$), produce $H_0$ constraints similar to LCDM. Using BOSS data, constraints from light element abundances, cosmic microwave background (CMB) lensing, a CMB-based prior on the scalar amplitude ($A_s$), spectral index ($n_s$), and $\\Omega_m$ from the Pantheon+ supernovae data set, we find that in LCDM, $H_0=64.9\\pm 2.2$ km/s/Mpc; EDE, $H_0=68.7^{+3}_{-3.9}$; $\\Delta N_{\\rm eff}$, $H_0=68.1^{+2.7}_{-3.8}$; $\\Delta m_e$, $H_0=64.7^{+1.9}_{-2.3}$. Using a prior on $\\Omega_m$ from uncalibrated BAO and CMB measurements of the projected sound horizon, these values become in LCDM, $H_0=68.8^{+1.8}_{-2.1}$; EDE, $H_0=73.7^{+3.2}_{-3.9}$; $\\Delta N_{\\rm eff}$, $H_0=72.6^{+2.8}_{-3.7}$; $\\Delta m_e$, $H_0=68.8\\pm 1.9$. With current data, none of the models are in significant tension with SH0ES, and consistency tests based on comparing $H_0$ posteriors with and without $r_s$ marginalization are inconclusive with respect to the viability of beyond LCDM models. |\n",
       "|<p style=\"color:green\"> **ERROR** </p>| <p style=\"color:green\">affiliation error: mpia.affiliation_verifications: 'Heidelberg' keyword not found.</p> |"
      ],
      "text/plain": [
       "<IPython.core.display.Markdown object>"
      ]
     },
     "metadata": {},
     "output_type": "display_data"
    },
    {
     "data": {
      "text/markdown": [
       "\n",
       "|||\n",
       "|---:|:---|\n",
       "| [![arXiv](https://img.shields.io/badge/arXiv-arXiv:2208.13307-b31b1b.svg)](https://arxiv.org/abs/arXiv:2208.13307) | **Lunar Samples are Time Capsules of the Sun**  |\n",
       "|| Prabal Saxena, Natalie Curran, <mark>Heather Graham</mark> |\n",
       "|*Appeared on*| *2022-08-30*|\n",
       "|*Comments*| *White paper to be submitted to the Heliophysics 2024 Decadal Survey. If you are interested in being a co-signer to this white paper, please enter your information here: this https URL*|\n",
       "|**Abstract**| The Heliophysics Decadal survey should embrace the coming opportunity of sustained lunar surface exploration and facilitate cross-disciplinary efforts to unlock the secrets of the Sun that are held by the lunar surface. With planned Artemis efforts that include prioritization of samples of high interest and protocols for sample handling and analysis, input into the relevant solar signatures that would be most diagnostic and how best to obtain/retain them is incredibly important. Finally, leveraging the theoretical expertise of the two communities in ways that bring them together, such as through dedicated conferences and workshops, will let the two communities help each other learn more than they could alone. |\n",
       "|<p style=\"color:green\"> **ERROR** </p>| <p style=\"color:green\">affiliation error: mpia.affiliation_verifications: 'Heidelberg' keyword not found.</p> |"
      ],
      "text/plain": [
       "<IPython.core.display.Markdown object>"
      ]
     },
     "metadata": {},
     "output_type": "display_data"
    },
    {
     "data": {
      "text/markdown": [
       "\n",
       "|||\n",
       "|---:|:---|\n",
       "| [![arXiv](https://img.shields.io/badge/arXiv-arXiv:2208.13340-b31b1b.svg)](https://arxiv.org/abs/arXiv:2208.13340) | **Timing properties of the X-ray accreting pulsar 1A 0535+262 studied with  Insight-HXMT**  |\n",
       "|| P. J. Wang, et al. -- incl., <mark>S. Zhang</mark>, <mark>S. N. Zhang</mark> |\n",
       "|*Appeared on*| *2022-08-30*|\n",
       "|*Comments*| **|\n",
       "|**Abstract**| We report results on the timing analysis of the 2020 giant outburst of 1A 0535+262, using broadband data from Insight-HXMT. The analysis of the pulse profile evolution from the sub-critical luminosity to super-critical luminosity regime is presented for the first time. We found that the observed pulse profile exhibits a complex dependence on both energy and luminosity.A dip structure at the energy of the cyclotron resonant scattering features (CRSFs) is found for the first time in the pulse fraction-energy relation of 1A 0535+262, when the outburst evolves in a luminosity range from 4.8 $\\times 10^{37}$ erg s$^{-1}$ to 1.0 $\\times 10^{38}$ erg s$^{-1}$. The observed structure is luminosity dependent and appears around the source critical luminosity ($\\sim$ 6.7 $\\times 10^{37}$ erg s$^{-1}$). |\n",
       "|<p style=\"color:green\"> **ERROR** </p>| <p style=\"color:green\">affiliation error: mpia.affiliation_verifications: 'Heidelberg' keyword not found.</p> |"
      ],
      "text/plain": [
       "<IPython.core.display.Markdown object>"
      ]
     },
     "metadata": {},
     "output_type": "display_data"
    },
    {
     "data": {
      "text/markdown": [
       "\n",
       "|||\n",
       "|---:|:---|\n",
       "| [![arXiv](https://img.shields.io/badge/arXiv-arXiv:2208.13350-b31b1b.svg)](https://arxiv.org/abs/arXiv:2208.13350) | **A measurement of the proton plus helium spectrum of cosmic rays in the  TeV region with HAWC**  |\n",
       "|| HAWC Collaboration, et al. -- incl., <mark>R. Alfaro</mark>, <mark>R. Diaz Hernandez</mark>, <mark>A. Lara</mark>, <mark>W.H. Lee</mark> |\n",
       "|*Appeared on*| *2022-08-30*|\n",
       "|*Comments*| *6 pages, 6 figures, Submission to SciPost Phys. Proc*|\n",
       "|**Abstract**| HAWC is an air-shower detector designed to study TeV gamma and cosmic rays. The observatory is composed of a $22000 \\, m^2$ array of $300$ water Cherenkov tanks ($4.5 \\, m$ deep x $7.3 \\, m$ diameter) with $4$ photomultipliers (PMT) each. The instrument registers the number of hit PMTs, the timing information and the total charge at the PMTs during the event. From these data, shower observables such as the arrival direction, the core position at ground, the lateral age and the primary energy are estimated. In this work, we study the distribution of the shower age vs the primary energy of a sample of shower data collected by HAWC from June 2015 to June 2019 and employ a shower-age cut based on predictions of QGSJET-II-04 to separate a subsample of events dominated by H and He primaries. Using these data and a dedicated analysis, we reconstruct the cosmic ray spectrum of H+He from $6$ to $158$ TeV, which shows the presence of a softening at around $24$ TeV with a statistical significance of $4.1\\sigma$. |\n",
       "|<p style=\"color:green\"> **ERROR** </p>| <p style=\"color:green\">affiliation error: mpia.affiliation_verifications: 'Heidelberg' keyword not found.</p> |"
      ],
      "text/plain": [
       "<IPython.core.display.Markdown object>"
      ]
     },
     "metadata": {},
     "output_type": "display_data"
    },
    {
     "data": {
      "text/markdown": [
       "\n",
       "|||\n",
       "|---:|:---|\n",
       "| [![arXiv](https://img.shields.io/badge/arXiv-arXiv:2208.13353-b31b1b.svg)](https://arxiv.org/abs/arXiv:2208.13353) | **Evidence for Co-rotation Origin of Super Metal Rich Stars in  LAMOST-Gaia: Multiple Ridges with a Similar Slope in phi versus Lz Plane**  |\n",
       "|| Yuqin Chen, Gang Zhao, <mark>Haopeng Zhang</mark> |\n",
       "|*Appeared on*| *2022-08-30*|\n",
       "|*Comments*| *5 pages, 3 figures, published in ApJ Letter*|\n",
       "|**Abstract**| Super metal-rich (SMR) stars in the solar neighborhood are thought to be born in the inner disk and came to present location by radial migration, which is most intense at the co-rotation resonance (CR) of the Galactic bar. In this work, we show evidence for the CR origin of SMR stars in LAMOST-Gaia by detecting six ridges and undulations in the phi versus Lz space coded by median VR, following a similar slope of -8 km/s kpc/deg. The slope is predicted by Monario et al.'s model for CR of a large and slow Galactic bar. For the first time, we show the variation of angular momentum with azimuths from -10 deg to 20 deg for two outer and broad undulations with negative VR around -18 km/s following this slope. The wave-like pattern with large amplitude outside CR and a wide peak of the second undulations indicate that minor merger of the Sagittarius dwarf galaxy with the disk might play a role besides the significant impact of CR of the Galactic bar. |\n",
       "|<p style=\"color:green\"> **ERROR** </p>| <p style=\"color:green\">affiliation error: mpia.affiliation_verifications: 'Heidelberg' keyword not found.</p> |"
      ],
      "text/plain": [
       "<IPython.core.display.Markdown object>"
      ]
     },
     "metadata": {},
     "output_type": "display_data"
    },
    {
     "data": {
      "text/markdown": [
       "\n",
       "|||\n",
       "|---:|:---|\n",
       "| [![arXiv](https://img.shields.io/badge/arXiv-arXiv:2208.13460-b31b1b.svg)](https://arxiv.org/abs/arXiv:2208.13460) | **Long-Term Simulations of Dynamical Ejecta: Homologous Expansion and  Kilonova Properties**  |\n",
       "|| Anna Neuweiler, et al. -- incl., <mark>Mattia Bulla</mark> |\n",
       "|*Appeared on*| *2022-08-30*|\n",
       "|*Comments*| **|\n",
       "|**Abstract**| Accurate numerical-relativity simulations are essential to study the rich phenomenology of binary neutron star systems. In this work, we focus on the material that is dynamically ejected during the merger process and on the kilonova transient it produces. Typically, radiative transfer simulations of kilonova light curves from ejecta make the assumption of homologous expansion, but this condition might not always be met at the end of usually very short numerical-relativity simulations. In this article, we adjust the infrastructure of the BAM code to enable longer simulations of the dynamical ejecta with the aim of investigating when the condition of homologous expansion is satisfied. In fact, we observe that the deviations from a perfect homologous expansion are about 30% at roughly 100ms after the merger. To determine how these deviations might affect the calculation of kilonova light curves, we extract the ejecta data for different reference times and use them as input for radiative transfer simulations. Our results show that the light curves for extraction times later than 80ms after the merger deviate by less than 0.4mag and are mostly consistent with numerical noise. Accordingly, deviations from the homologous expansion for the dynamical ejecta component are negligible for the purpose of kilonova modelling. |\n",
       "|<p style=\"color:green\"> **ERROR** </p>| <p style=\"color:green\">affiliation error: mpia.affiliation_verifications: 'Heidelberg' keyword not found.</p> |"
      ],
      "text/plain": [
       "<IPython.core.display.Markdown object>"
      ]
     },
     "metadata": {},
     "output_type": "display_data"
    },
    {
     "data": {
      "text/markdown": [
       "\n",
       "|||\n",
       "|---:|:---|\n",
       "| [![arXiv](https://img.shields.io/badge/arXiv-arXiv:2208.13556-b31b1b.svg)](https://arxiv.org/abs/arXiv:2208.13556) | **Insight-HXMT observation on 4U~1608--52: evidence of interplay between  thermonuclear burst and accretion environments**  |\n",
       "|| Yu-Peng Chen, et al. -- incl., <mark>Shu Zhang</mark>, <mark>Shuang-Nan Zhang</mark> |\n",
       "|*Appeared on*| *2022-08-30*|\n",
       "|*Comments*| *ApJ in press. arXiv admin note: text overlap with arXiv:2208.12124, arXiv:1910.08220*|\n",
       "|**Abstract**| A type-I burst could influence the accretion process through radiation pressure and Comptonization both for the accretion disk and the corona/boundary layer of an X-ray binary, and vice versa. We investigate the temporal evolution of a bright photospheric radius expansion (PRE) burst of 4U 1608-52 detected by Insight-HXMT in 1-50 keV, with the aim of studying the interplay between the burst and persistent emission. Apart from the emission from the neutron star (NS) surface, we find the residuals both in the soft (<3 keV) and hard (>10 keV) X-ray band. Time-resolved spectroscopy reveals that the excess can be attributed to an enhanced pre-burst/persistent emission or the Comptonization of the burst emission by the corona/boundary layer. The Comptonization model is a convolution thermal-Comptonization model (thcomp in XSPEC) and the Comptonization parameters are fixed at the values derived from the persistent emission. We find, during the PRE phase, after the enhanced pre-burst/persistent emission or the Comptonization of the burst emission is removed, the NS surface emission shows a plateau, and then a rise until the photosphere touches down to the NS surface, resulting in a flux peak at that moment. We speculate that the findings above correspond to that the obscured lower part of the NS surface by the disk is exposed to the line of sight due to the inner disk evaporation by the burst emission. The consistency between the fa model and convolution thermal-Comptonization model indicates the interplay between thermonuclear bursts and accretion environments. These phenomena did not usually show up by the conventional blackbody model fitting, which may be due to low count rate and narrow energy coverage in previous observations. |\n",
       "|<p style=\"color:green\"> **ERROR** </p>| <p style=\"color:green\">affiliation error: mpia.affiliation_verifications: 'Heidelberg' keyword not found.</p> |"
      ],
      "text/plain": [
       "<IPython.core.display.Markdown object>"
      ]
     },
     "metadata": {},
     "output_type": "display_data"
    },
    {
     "data": {
      "text/markdown": [
       "\n",
       "|||\n",
       "|---:|:---|\n",
       "| [![arXiv](https://img.shields.io/badge/arXiv-arXiv:2208.13568-b31b1b.svg)](https://arxiv.org/abs/arXiv:2208.13568) | **Accretion Burst Echoes as Probes of Protostellar Environments and  Episodic Mass Assembly**  |\n",
       "|| Logan Francis, et al. -- incl., <mark>Jeong-Eun Lee</mark>, <mark>Gregory J. Herczeg</mark> |\n",
       "|*Appeared on*| *2022-08-30*|\n",
       "|*Comments*| *29 pages, 14 figures. Accepted for publication in the Astrophysical Journal*|\n",
       "|**Abstract**| Protostars likely accrete material at a highly time variable rate, however, measurements of accretion variability from the youngest protostars are rare, as they are still deeply embedded within their envelopes. Sub-mm/mm observations can trace the thermal response of dust in the envelope to accretion luminosity changes, allowing variations in the accretion rate to be quantified. In this paper, we present contemporaneous sub-mm/mm light curves of variable protostars in Serpens Main, as observed by the ALMA ACA, SMA, and JCMT. The most recent outburst of EC 53 (V371 Ser), an $\\sim 18$ month periodic variable, is well-sampled in the SMA and JCMT observations. The SMA light curve of EC 53 is observed to peak weeks earlier and exhibit a stronger amplitude than at the JCMT. Stochastic variations in the ACA observations are detected for SMM 10 IR with a factor $\\sim 2$ greater amplitude than as seen by the JCMT. We develop a toy model of the envelope response to accretion outbursts to show EC 53's light curves are plausibly explained by the delay associated with the light travel time across the envelope and the additional dilution of the JCMT response by the incorporation of cold envelope material in the beam. The larger JCMT beam can also wash out the response to rapid variations, which may be occurring for SMM 10 IR. Our work thus provides a valuable proof of concept for the usage of sub-mm/mm observations as a probe of both the underlying accretion luminosity variations and the protostellar environment. |\n",
       "|<p style=\"color:green\"> **ERROR** </p>| <p style=\"color:green\">affiliation error: mpia.affiliation_verifications: 'Heidelberg' keyword not found.</p> |"
      ],
      "text/plain": [
       "<IPython.core.display.Markdown object>"
      ]
     },
     "metadata": {},
     "output_type": "display_data"
    },
    {
     "data": {
      "text/markdown": [
       "\n",
       "|||\n",
       "|---:|:---|\n",
       "| [![arXiv](https://img.shields.io/badge/arXiv-arXiv:2208.13582-b31b1b.svg)](https://arxiv.org/abs/arXiv:2208.13582) | **Morphologies of Galaxies at $z \\simeq 9-17$ Uncovered by JWST/NIRCam  Imaging: Cosmic Size Evolution and an Identification of an Extremely Compact  Bright Galaxy at $z\\sim 12$**  |\n",
       "|| Yoshiaki Ono, et al. -- incl., <mark>Yechi Zhang</mark> |\n",
       "|*Appeared on*| *2022-08-30*|\n",
       "|*Comments*| *26 pages, 23 figures, submitted to ApJ*|\n",
       "|**Abstract**| We present morphologies of galaxies at $z\\sim9-17$ resolved by JWST/NIRCam $2-5\\mu$m imaging. Our sample consists of $25$ galaxy candidates identified by stringent dropout and photo-$z$ criteria in GLASS, CEERS, SMACS J0723, and Stephan's Quintet flanking fields. We perform surface brightness (SB) profile fitting with GALFIT for $6$ bright galaxies with S/N $=10-40$ on an individual basis and for stacked faint galaxies with secure point-spread functions (PSFs) of the NIRCam real data, carefully evaluating systematics by Monte-Carlo simulations. We compare our results with those of previous JWST studies, and confirm that effective radii $r_{\\rm e}$ of our measurements are consistent with those of previous measurements at $z\\sim 9$. We obtain $r_{\\rm e}\\simeq 200-300$ pc with the exponential-like profiles, S\\'ersic indexes of $n\\simeq 1-1.5$, for galaxies at $z\\sim 12-17$, indicating that the relation of $r_{\\rm e}\\propto (1+z)^s$ for $s=-1.19^{+0.16}_{-0.15}$ explains cosmic evolution over $z\\sim 0-17$ for $\\sim L^*_{z=3}$ galaxies. One bright ($M_{\\rm UV}=-21$ mag) galaxy at $z\\sim 12$, GL-z12-1, has an extremely compact size with $r_{\\rm e}=61 \\pm 11$ pc that is surely extended over the PSF. Even in the case that the GL-z12-1 SB is fit by AGN$+$galaxy composite profiles, the best-fit galaxy component is again compact, $r_{\\rm e}=78^{+30}_{-12}$ pc that is significantly ($>5\\sigma$) smaller than the typical $r_{\\rm e}$ value at $z\\sim 12$. Comparing with numerical simulations, we find that such a compact galaxy naturally forms at $z\\gtrsim 10$, and that frequent mergers at the early epoch produce more extended galaxies following the $r_{\\rm e}\\propto (1+z)^s$ relation. |\n",
       "|<p style=\"color:green\"> **ERROR** </p>| <p style=\"color:green\">affiliation error: mpia.affiliation_verifications: 'Heidelberg' keyword not found.</p> |"
      ],
      "text/plain": [
       "<IPython.core.display.Markdown object>"
      ]
     },
     "metadata": {},
     "output_type": "display_data"
    },
    {
     "data": {
      "text/markdown": [
       "\n",
       "|||\n",
       "|---:|:---|\n",
       "| [![arXiv](https://img.shields.io/badge/arXiv-arXiv:2208.13642-b31b1b.svg)](https://arxiv.org/abs/arXiv:2208.13642) | **Deep ALMA redshift search of a z~12 GLASS-JWST galaxy candidate**  |\n",
       "|| Tom J. L. C. Bakx, et al. -- incl., <mark>Nicha Leethochawalit</mark> |\n",
       "|*Appeared on*| *2022-08-30*|\n",
       "|*Comments*| *Submitted to MNRAS. Comments welcome*|\n",
       "|**Abstract**| The James Webb Space Telescope (JWST) has discovered a surprising abundance of bright galaxy candidates in the very early Universe (<500Myrs after the Big Bang), calling into question current galaxy formation models. Spectroscopy is needed to confirm the primeval nature of these candidates, as well as to understand how the first galaxies form stars and grow. Here we present deep spectroscopic and continuum ALMA observations towards GHZ2/GLASS-z13, one of the brightest and most robust candidates at z>10, identified in the GLASS-JWST Early Release Science Program. While the lack of dust continuum detection supports its high-redshift nature by ruling out lower redshift dusty interlopers, we do not detect any bright emission line at the position of the target despite covering a total of 30GHz and 98% of the source's redshift probability distribution (z=11.9-13.5). A tentative emission line is identified 0.5arcsec away from the JWST position of GHZ2/GLASS-z13, which would imply a spectroscopic redshift of z=12.117+/-0.012 if associated with the [OIII]88um line. Further confirmation is though necessary to confirm the signal is astrophysical and associated with the target. The current constraints on the oxygen line luminosity place it along (or below) the [OIII]-SFR relation for metal-poor galaxies. The low metallicity and dust content implied by these observations are also consistent with the blue UV slope observed by JWST, which suggest negligible dust attenuation in galaxies at this early epoch. This work illustrates the synergy between JWST and ALMA and paves the way for future spectroscopic surveys of z > 10 galaxy candidates. |\n",
       "|<p style=\"color:green\"> **ERROR** </p>| <p style=\"color:green\">affiliation error: mpia.affiliation_verifications: 'Heidelberg' keyword not found.</p> |"
      ],
      "text/plain": [
       "<IPython.core.display.Markdown object>"
      ]
     },
     "metadata": {},
     "output_type": "display_data"
    },
    {
     "data": {
      "text/markdown": [
       "\n",
       "|||\n",
       "|---:|:---|\n",
       "| [![arXiv](https://img.shields.io/badge/arXiv-arXiv:2208.13668-b31b1b.svg)](https://arxiv.org/abs/arXiv:2208.13668) | **Comparing the Performance of a Solar Wind model from the Sun to 1 AU  using Real and Synthetic Magnetograms**  |\n",
       "|| <mark>Kalpa Henadhira Arachchige</mark>, Ofer Cohen, Andrés Muñoz Jaramillo, Anthony R. Yeates |\n",
       "|*Appeared on*| *2022-08-30*|\n",
       "|*Comments*| **|\n",
       "|**Abstract**| The input of the Solar wind models plays a significant role in accurate solar wind predictions at 1 AU. This work introduces a synthetic magnetogram produced from a dynamo model as an input for Magnetohydrodynamics (MHD) simulations. We perform a quantitative study that compares the Space Weather Modeling Framework (SWMF) results for the observed and the synthetic solar magnetogram input. For each case, we compare the results for Extreme Ultra-Violet (EUV) images and extract the simulation data along the earth trajectory to compare with in-situ observations. We initialize SWMF using the real and synthetic magnetogram for a set of Carrington Rotations (CR)s within the solar cycle 23 and 24. Our results help quantify the ability of dynamo models to be used as input to solar wind models and thus, provide predictions for the solar wind at 1 AU. |\n",
       "|<p style=\"color:green\"> **ERROR** </p>| <p style=\"color:green\">affiliation error: mpia.affiliation_verifications: 'Heidelberg' keyword not found.</p> |"
      ],
      "text/plain": [
       "<IPython.core.display.Markdown object>"
      ]
     },
     "metadata": {},
     "output_type": "display_data"
    },
    {
     "data": {
      "text/markdown": [
       "\n",
       "|||\n",
       "|---:|:---|\n",
       "| [![arXiv](https://img.shields.io/badge/arXiv-arXiv:2208.13670-b31b1b.svg)](https://arxiv.org/abs/arXiv:2208.13670) | **Interferometric imaging, and beam-formed study of a moving Type IV Radio  burst with LOFAR**  |\n",
       "|| Hongyu Liu, et al. -- incl., <mark>Peijin Zhang</mark> |\n",
       "|*Appeared on*| *2022-08-30*|\n",
       "|*Comments*| **|\n",
       "|**Abstract**| Type IV radio burst has been studied for over 50 years. However, the specifics of the radio emission mechanisms is still an open question. In order to provide more information about the emission mechanisms, we studied a moving type IV radio burst with fine structures (spike group) by using the high resolution capability of Low-Frequency Array (LOFAR) on Aug 25, 2014\\textbf{ (SOLA-D-21-00188)}. We present a comparison of Nan\\c{c}ay RadioHeliograph (NRH) and the first LOFAR imaging data of type IV radio burst. The degree of circular polarization (DCP) is calculated at frequencies in the range 20$\\sim$180 MHz using LOFAR data, and it was found that the value of DCP gradually increased during the event, with values of 10\\%$\\sim$20\\%. LOFAR interferometric data were combined with white light observations in order to track the propagation of this type IV. The kinematics shows a westward motion of the radio sources, slower than the CME leading edge. The dynamic spectrum of LOFAR shows a large number of fine structures with duration of less than 1s and high brightness temperature ($T_\\mathrm{B}$), i.e. $10^{12}$$\\sim$$10^{13}$ K. The gradual increase of DCP supports gyrosynchrotron emission as the most plausible mechanism for the type IV. However, coherent emissions such as Electron Cyclotron Maser (ECM) instability can be responsible for small scale fine structures. Countless fine structures altogether were responsible for such high $T_\\mathrm{B}$. |\n",
       "|<p style=\"color:green\"> **ERROR** </p>| <p style=\"color:green\">affiliation error: mpia.affiliation_verifications: 'Heidelberg' keyword not found.</p> |"
      ],
      "text/plain": [
       "<IPython.core.display.Markdown object>"
      ]
     },
     "metadata": {},
     "output_type": "display_data"
    },
    {
     "data": {
      "text/markdown": [
       "\n",
       "|||\n",
       "|---:|:---|\n",
       "| [![arXiv](https://img.shields.io/badge/arXiv-arXiv:2208.13749-b31b1b.svg)](https://arxiv.org/abs/arXiv:2208.13749) | **Rapid Blue- and Red-shifted Excursions in H$α$ line profiles  synthesized from realistic 3D MHD simulations**  |\n",
       "|| S. Danilovic, J. P. Bjørgen, <mark>J. Leenaarts</mark>, M. Rempel |\n",
       "|*Appeared on*| *2022-08-30*|\n",
       "|*Comments*| *submitted to A&A, movies in this https URL*|\n",
       "|**Abstract**| Rapid blue- and red-shifted events (RBEs/RREs) may have an important role in mass-loading and heating the solar corona, but their nature and origin are still debatable. We aim to model these features to learn more about their properties, formation and origin. A realistic three-dimensional (3D) magneto-hydrodynamic (MHD) model of a solar plage region is created. Synthetic H$\\alpha$ spectra are generated and the spectral signatures of these features are identified. The magnetic field lines associated with these events are traced and the underlying dynamic is studied. The model reproduces well many properties of RBEs and RREs, such as spatial distribution, lateral movement, length and lifetimes. Synthetic H$\\alpha$ line profiles, similarly to observed ones, show strong blue- or red-shift and asymmetries. These line profiles are caused by the vertical component of velocity with magnitudes larger than $30-40$ km/s that appear mostly in the height range of $2-4$ Mm. By tracing magnetic field lines, we show that the vertical velocity that causes the appearance of RBE/RREs to appear is always associated with the component of velocity perpendicular to the magnetic field line. The study confirms the hypothesis that RBEs and RREs are signs of Alfv{\\'e}nic waves with, in some cases, a significant contribution from slow magneto-acoustic mode. |\n",
       "|<p style=\"color:green\"> **ERROR** </p>| <p style=\"color:green\">affiliation error: mpia.affiliation_verifications: 'Heidelberg' keyword not found.</p> |"
      ],
      "text/plain": [
       "<IPython.core.display.Markdown object>"
      ]
     },
     "metadata": {},
     "output_type": "display_data"
    },
    {
     "data": {
      "text/markdown": [
       "\n",
       "|||\n",
       "|---:|:---|\n",
       "| [![arXiv](https://img.shields.io/badge/arXiv-arXiv:2208.13511-b31b1b.svg)](https://arxiv.org/abs/arXiv:2208.13511) | **Galaxies with Fuzzy Dark Matter**  |\n",
       "|| <mark>Jae-Weon Lee</mark> |\n",
       "|*Appeared on*| *2022-08-30*|\n",
       "|*Comments*| **|\n",
       "|**Abstract**| This is a brief review on some properties of galaxies in the fuzzy dark matter model, where dark matter is an ultra-light scalar particle with mass $m = O(10^{-22})eV$. From quantum pressure, dark matter has a halo length scale which can solve the small scale issues of the cold dark matter model, such as the core-cusp problem, and explain many other observed mysteries of galaxies. |\n",
       "|<p style=\"color:green\"> **ERROR** </p>| <p style=\"color:green\">affiliation error: mpia.affiliation_verifications: 'Planck' keyword not found.</p> |"
      ],
      "text/plain": [
       "<IPython.core.display.Markdown object>"
      ]
     },
     "metadata": {},
     "output_type": "display_data"
    },
    {
     "data": {
      "text/markdown": [
       "\n",
       "|||\n",
       "|---:|:---|\n",
       "| [![arXiv](https://img.shields.io/badge/arXiv-arXiv:2208.13463-b31b1b.svg)](https://arxiv.org/abs/arXiv:2208.13463) | **Field of View and contrast limitations of stellar interferometers. A  quick review**  |\n",
       "|| <mark>Francois Henault</mark> |\n",
       "|*Appeared on*| *2022-08-30*|\n",
       "|*Comments*| **|\n",
       "|**Abstract**| Field of View (FoV) and contrast limitations of stellar interferometers have been the scope of numerous publications for more than thirty years. Recently, this topic regained some interest since long-baseline terrestrial interferometers or space borne nulling interferometers are envisioned for detecting and characterizing extra-solar planets orbiting in the habitable zone of their parent star. This goal supposes to achieving sufficient contrast ratio in the high angular frequency domain, thus on the whole interferometer FoV. In this paper are reviewed some of the contrast and FoV limiting factors, including spectral bandwidth, flux mismatches, fringe tracking, telescope image quality, atmosphere seeing, optical conjugation mismatch of the telescopes pupils, influence of anamorphous optics, pupil aberrations, signal-to-noise ratio and deviations with respect to the golden rule of imaging interferometers. Finally, a tentative classification of all these factors is provided. |\n",
       "|<p style=\"color:red\"> **ERROR** </p>| <p style=\"color:red\">latex error not a gzip file</p> |"
      ],
      "text/plain": [
       "<IPython.core.display.Markdown object>"
      ]
     },
     "metadata": {},
     "output_type": "display_data"
    },
    {
     "data": {
      "text/markdown": [
       "\n",
       "|||\n",
       "|---:|:---|\n",
       "| [![arXiv](https://img.shields.io/badge/arXiv-arXiv:2208.13470-b31b1b.svg)](https://arxiv.org/abs/arXiv:2208.13470) | **Nulling interferometry in space does not require a rotating telescope  array**  |\n",
       "|| <mark>Francois Henault</mark> |\n",
       "|*Appeared on*| *2022-08-30*|\n",
       "|*Comments*| **|\n",
       "|**Abstract**| Space borne nulling interferometry in the mid-infrared waveband is one of the most promising techniques for characterizing the atmospheres of extra-solar planets orbiting in the habitable zone of their parent star, and possibly discovering life markers. One of its most difficult challenges is the control of free-flying telescope spacecrafts moving around a central combiner in order to modulating the planet signal, within accuracy better than one micrometer at least. Moreover, the whole array must be reconfigured regularly in order to observe different celestial targets, thus increasing the risk of loosing one or more spacecrafts and aborting the mission before its normal end. In this paper is described a simplified optical configuration where the telescopes do not need to be rotated, and the number of necessary array reconfigurations is minimized. It allows efficient modulation of the planet signal, only making use of rotating prisms or mirrors located into the central combiner. In this paper the general principle of a nulling interferometer with a fixed telescope array is explained. Mathematical relations are established in order to determining the planet modulation signal. Numerical simulations are carried out for three different arrangements of the collecting telescopes. They confirm that nulling interferometry in space does not require a rotating telescope array |\n",
       "|<p style=\"color:red\"> **ERROR** </p>| <p style=\"color:red\">latex error not a gzip file</p> |"
      ],
      "text/plain": [
       "<IPython.core.display.Markdown object>"
      ]
     },
     "metadata": {},
     "output_type": "display_data"
    },
    {
     "data": {
      "text/markdown": [
       "\n",
       "|||\n",
       "|---:|:---|\n",
       "| [![arXiv](https://img.shields.io/badge/arXiv-arXiv:2208.13482-b31b1b.svg)](https://arxiv.org/abs/arXiv:2208.13482) | **Lord of the Ring Gratings: Their use as image plane filters for  coronagraphy**  |\n",
       "|| <mark>Francçois Henault</mark> |\n",
       "|*Appeared on*| *2022-08-30*|\n",
       "|*Comments*| **|\n",
       "|**Abstract**| Coronagraphy is an efficient technique for identifying and characterizing extra-solar planets orbiting in the habitable zone of their parent star. An important family of coronagraphs is based on amplitude or phase filters placed at an intermediate image plane of the optical system, spreading starlight outside of the so-called Lyot stop located at the exit pupil plane of the instrument. This article explores the potential of circular amplitude and phase gratings employed as image plane coronagraph filters. It presents a theoretical analysis of the simplest case of an amplitude circular grating and introduces an inversion paradigm with respect to classical Lyot coronagraph, by exchanging its image and pupil masks. Various types of circular gratings are considered and their performance is evaluated with the help of numerical simulations. The most promising solutions are presented. We conclude that high attenuation ratios of the starlight are feasible, provided that the system has been carefully optimized |\n",
       "|<p style=\"color:red\"> **ERROR** </p>| <p style=\"color:red\">latex error not a gzip file</p> |"
      ],
      "text/plain": [
       "<IPython.core.display.Markdown object>"
      ]
     },
     "metadata": {},
     "output_type": "display_data"
    }
   ],
   "source": [
    "import datetime\n",
    "today = str(datetime.date.today())\n",
    "logfile = f\"_build/html/logs/log-{today}.md\"\n",
    "\n",
    "\n",
    "with open(logfile, 'w') as logs:\n",
    "    # Success\n",
    "    logs.write(f'# Arxiv on Deck 2: Logs - {today}\\n\\n')\n",
    "    logs.write(\"\"\"* Arxiv had {0:,d} new papers\\n\"\"\".format(len(new_papers)))\n",
    "    logs.write(\"\"\"    * {0:,d} with possible author matches\\n\\n\"\"\".format(len(candidates)))\n",
    "    logs.write(\"## Sucessful papers\\n\\n\")\n",
    "    display(Markdown(\"## Successful papers\"))\n",
    "    success = [k[0] for k in documents]\n",
    "    for candid in candidates:\n",
    "        if candid['identifier'].split(':')[-1] in success:\n",
    "            display(candid)\n",
    "            logs.write(candid.generate_markdown_text() + '\\n\\n')\n",
    "\n",
    "    ## failed\n",
    "    logs.write(\"## Failed papers\\n\\n\")\n",
    "    display(Markdown(\"## Failed papers\"))\n",
    "    failed = sorted(failed, key=lambda x: x[1])\n",
    "    current_reason = \"\"\n",
    "    for paper, reason in failed:\n",
    "        if 'affiliation' in reason:\n",
    "            color = 'green'\n",
    "        else:\n",
    "            color = 'red'\n",
    "        data = Markdown(\n",
    "                paper.generate_markdown_text() + \n",
    "                f'\\n|<p style=\"color:{color:s}\"> **ERROR** </p>| <p style=\"color:{color:s}\">{reason:s}</p> |'\n",
    "               )\n",
    "        if reason != current_reason:\n",
    "            logs.write(f'### {reason:s} \\n\\n')\n",
    "            current_reason = reason\n",
    "        logs.write(data.data + '\\n\\n')\n",
    "        \n",
    "        # only display here the important errors (all in logs)\n",
    "        # if color in ('red',):\n",
    "        display(data)"
   ]
  },
  {
   "cell_type": "markdown",
   "id": "472d20ee",
   "metadata": {
    "papermill": {
     "duration": 0.013275,
     "end_time": "2022-08-30T07:21:56.426616",
     "exception": false,
     "start_time": "2022-08-30T07:21:56.413341",
     "status": "completed"
    },
    "tags": []
   },
   "source": [
    "## Export documents\n",
    "\n",
    "We now write the .md files and export relevant images"
   ]
  },
  {
   "cell_type": "code",
   "execution_count": 7,
   "id": "d426aed9",
   "metadata": {
    "execution": {
     "iopub.execute_input": "2022-08-30T07:21:56.453049Z",
     "iopub.status.busy": "2022-08-30T07:21:56.452441Z",
     "iopub.status.idle": "2022-08-30T07:21:56.462289Z",
     "shell.execute_reply": "2022-08-30T07:21:56.461310Z"
    },
    "papermill": {
     "duration": 0.024923,
     "end_time": "2022-08-30T07:21:56.464233",
     "exception": false,
     "start_time": "2022-08-30T07:21:56.439310",
     "status": "completed"
    },
    "tags": []
   },
   "outputs": [],
   "source": [
    "def export_markdown_summary(md: str, md_fname:str, directory: str):\n",
    "    \"\"\"Export MD document and associated relevant images\"\"\"\n",
    "    import os\n",
    "    import shutil\n",
    "    import re\n",
    "\n",
    "    if (os.path.exists(directory) and not os.path.isdir(directory)):\n",
    "        raise RuntimeError(f\"a non-directory file exists with name {directory:s}\")\n",
    "\n",
    "    if (not os.path.exists(directory)):\n",
    "        print(f\"creating directory {directory:s}\")\n",
    "        os.mkdir(directory)\n",
    "\n",
    "    fig_fnames = (re.compile(r'\\[Fig.*\\]\\((.*)\\)').findall(md) + \n",
    "                  re.compile(r'\\<img src=\"([^>\\s]*)\"[^>]*/>').findall(md))\n",
    "    for fname in fig_fnames:\n",
    "        if 'http' in fname:\n",
    "            # No need to copy online figures\n",
    "            continue\n",
    "        destdir = os.path.join(directory, os.path.dirname(fname))\n",
    "        destfname = os.path.join(destdir, os.path.basename(fname))\n",
    "        try:\n",
    "            os.makedirs(destdir)\n",
    "        except FileExistsError:\n",
    "            pass\n",
    "        shutil.copy(fname, destfname)\n",
    "    with open(os.path.join(directory, md_fname), 'w') as fout:\n",
    "        fout.write(md)\n",
    "    print(\"exported in \", os.path.join(directory, md_fname))\n",
    "    [print(\"    + \" + os.path.join(directory,fk)) for fk in fig_fnames]"
   ]
  },
  {
   "cell_type": "code",
   "execution_count": 8,
   "id": "014d04a4",
   "metadata": {
    "execution": {
     "iopub.execute_input": "2022-08-30T07:21:56.489119Z",
     "iopub.status.busy": "2022-08-30T07:21:56.488878Z",
     "iopub.status.idle": "2022-08-30T07:21:56.496485Z",
     "shell.execute_reply": "2022-08-30T07:21:56.495489Z"
    },
    "papermill": {
     "duration": 0.02369,
     "end_time": "2022-08-30T07:21:56.498901",
     "exception": false,
     "start_time": "2022-08-30T07:21:56.475211",
     "status": "completed"
    },
    "tags": []
   },
   "outputs": [
    {
     "name": "stdout",
     "output_type": "stream",
     "text": [
      "exported in  _build/html/2208.13218.md\n",
      "    + _build/html/tmp_2208.13218/./uncertainties.png\n",
      "    + _build/html/tmp_2208.13218/./CMD.png\n",
      "    + _build/html/tmp_2208.13218/./Fig1.png\n"
     ]
    }
   ],
   "source": [
    "for paper_id, md in documents:\n",
    "    export_markdown_summary(md, f\"{paper_id:s}.md\", '_build/html/')"
   ]
  },
  {
   "cell_type": "markdown",
   "id": "f087a0a7",
   "metadata": {
    "papermill": {
     "duration": 0.011663,
     "end_time": "2022-08-30T07:21:56.522452",
     "exception": false,
     "start_time": "2022-08-30T07:21:56.510789",
     "status": "completed"
    },
    "tags": []
   },
   "source": [
    "## Display the papers\n",
    "\n",
    "Not necessary but allows for a quick check."
   ]
  },
  {
   "cell_type": "code",
   "execution_count": 9,
   "id": "fd25f625",
   "metadata": {
    "execution": {
     "iopub.execute_input": "2022-08-30T07:21:56.552885Z",
     "iopub.status.busy": "2022-08-30T07:21:56.552026Z",
     "iopub.status.idle": "2022-08-30T07:21:56.559052Z",
     "shell.execute_reply": "2022-08-30T07:21:56.558202Z"
    },
    "papermill": {
     "duration": 0.025967,
     "end_time": "2022-08-30T07:21:56.561351",
     "exception": false,
     "start_time": "2022-08-30T07:21:56.535384",
     "status": "completed"
    },
    "scrolled": false,
    "tags": []
   },
   "outputs": [
    {
     "data": {
      "text/markdown": [
       "<div class=\"macros\" style=\"visibility:hidden;\">\n",
       "$\\newcommand{\\ensuremath}{}$\n",
       "$\\newcommand{\\xspace}{}$\n",
       "$\\newcommand{\\object}[1]{\\texttt{#1}}$\n",
       "$\\newcommand{\\farcs}{{.}''}$\n",
       "$\\newcommand{\\farcm}{{.}'}$\n",
       "$\\newcommand{\\arcsec}{''}$\n",
       "$\\newcommand{\\arcmin}{'}$\n",
       "$\\newcommand{\\ion}[2]{#1#2}$\n",
       "$\\newcommand{\\textsc}[1]{\\textrm{#1}}$\n",
       "$\\newcommand{\\hl}[1]{\\textrm{#1}}$\n",
       "$\\newcommand{\\arraystretch}{1.3}$\n",
       "$\\newcommand{\\arraystretch}{1.3}$</div>\n",
       "\n",
       "<div class=\"macros\" style=\"visibility:hidden;\">\n",
       "$\\newcommand{$\\ensuremath$}{}$\n",
       "$\\newcommand{$\\xspace$}{}$\n",
       "$\\newcommand{$\\object$}[1]{\\texttt{#1}}$\n",
       "$\\newcommand{$\\farcs$}{{.}''}$\n",
       "$\\newcommand{$\\farcm$}{{.}'}$\n",
       "$\\newcommand{$\\arcsec$}{''}$\n",
       "$\\newcommand{$\\arcmin$}{'}$\n",
       "$\\newcommand{$\\ion$}[2]{#1#2}$\n",
       "$\\newcommand{$\\textsc$}[1]{\\textrm{#1}}$\n",
       "$\\newcommand{$\\hl$}[1]{\\textrm{#1}}$\n",
       "$\\newcommand{$\\arraystretch$}{1.3}$\n",
       "$\\newcommand{$\\arraystretch$}{1.3}$</div>\n",
       "\n",
       "\n",
       "\n",
       "<div id=\"title\">\n",
       "\n",
       "# Kinematic data rebuild the Nuclear star cluster as the most metal rich region of the Galaxy\n",
       "\n",
       "</div>\n",
       "<div id=\"comments\">\n",
       "\n",
       "[![arXiv](https://img.shields.io/badge/arXiv-2208.13218-b31b1b.svg)](https://arxiv.org/abs/2208.13218)<mark>Appeared on: 2022-08-30</mark> - _Accepted for publication in A&A. 8 pages, 8 figures_\n",
       "\n",
       "</div>\n",
       "<div id=\"authors\">\n",
       "\n",
       "<mark>F. Nogueras-Lara</mark>\n",
       "\n",
       "</div>\n",
       "<div id=\"abstract\">\n",
       "\n",
       "**Abstract:** The Galactic centre (GC) is located at only 8 kpc from Earth and constitutes a unique template to understand Galactic nuclei. Nevertheless, the high crowding and extinction towards the GC hamper the study of its main stellar components, the nuclear stellar disc (NSD) and the nuclear star cluster (NSC).Recent work has suggested that the NSD and the NSC can be distinguished along the line of sight towards the NSC via the different extinction of their stars. This motivated us to analyse the proper motion, radial velocity, and the metallicity distributions of the different extinction groups.We use photometric, kinematic, and metallicity data to distinguish between probable NSD and NSC stars in a region centred on the NSC.We detected two different extinction groups of stars and obtained significantly different proper motion distributions for each of them, in agreement with the expected kinematics for the NSD and the NSC. We derived radial velocity maps that appear to be different for the NSD and the NSC. We also found different metallicities for each of the components, with the largest one measured for the most extinguished group of stars. We obtained that the metallicity distribution of each extinction group is best fitted by a bimodal distribution, indicating the presence of two metallicity components for each of them (a broad one slightly below solar metallicity, and a more metal rich narrower one, that is largest for the high extinction group of stars).We conclude that both extinction groups are distinct GC components with different kinematics and metallicity, and correspond to the NSD and the NSC. Therefore, it is possible to distinguish them via their different extinction. The high mean metallicity,$[M/H]\\sim0.3$dex, obtained for the NSC metal rich stars, supports that the NSC is arguabily the most metal rich region of the Galaxy.\n",
       "\n",
       "</div>\n",
       "\n",
       "<div id=\"div_fig1\">\n",
       "\n",
       "<img src=\"tmp_2208.13218/./uncertainties.png\" alt=\"Fig2\" width=\"100%\"/>\n",
       "\n",
       "**Figure 2. -** Colour-magnitude diagram $K_s$ versus $J-K_s$ of common stars between the photometric and the proper motion catalogues. The colour code corresponds to stellar densities using a power stretch scale. The blue dashed boxes indicate the stars belonging to the NSD and the NSC following the different extinction criterion. Right panels show the uncertainties of the proper motions $\\mu_l$(Galactic longitude coordinate) and $\\mu_b$(Galactic latitude coordinate). The blue dashed lines indicate the 90th percentile of the data (that is below 0.7 mas/yr in both cases). (*uncer*)\n",
       "\n",
       "</div>\n",
       "<div id=\"div_fig2\">\n",
       "\n",
       "<img src=\"tmp_2208.13218/./CMD.png\" alt=\"Fig1\" width=\"100%\"/>\n",
       "\n",
       "**Figure 1. -** Colour-magnitude diagram $K_s$ versus $J-K_s$. The colour code corresponds to stellar densities using a power stretch scale, where the number of stars per bin is indicated with the colour bar. The blue dashed lines show the division between foreground, NSD, and NSC stars. The numbers 1 and 2 indicate the red clump bumps with different extinction that belong to the NSD, and the NSC, respectively. (*CMD*)\n",
       "\n",
       "</div>\n",
       "<div id=\"div_fig3\">\n",
       "\n",
       "<img src=\"tmp_2208.13218/./Fig1.png\" alt=\"Fig8\" width=\"100%\"/>\n",
       "\n",
       "**Figure 8. -** GALACTICNUCLEUS false-colour image of the analysed region using $JHK_s$ bands. The white dashed line shows the effective radius of the NSC. White shaded contours indicates regions where there is not coverage from the proper motion catalogue. The dotted contour shows the region with stars with known metallicities. (*GNS*)\n",
       "\n",
       "</div>"
      ],
      "text/plain": [
       "<IPython.core.display.Markdown object>"
      ]
     },
     "metadata": {},
     "output_type": "display_data"
    }
   ],
   "source": [
    "[display(Markdown(k[1])) for k in documents];"
   ]
  },
  {
   "cell_type": "markdown",
   "id": "873873a4",
   "metadata": {
    "papermill": {
     "duration": 0.012732,
     "end_time": "2022-08-30T07:21:56.588519",
     "exception": false,
     "start_time": "2022-08-30T07:21:56.575787",
     "status": "completed"
    },
    "tags": []
   },
   "source": [
    "# Create HTML index"
   ]
  },
  {
   "cell_type": "code",
   "execution_count": 10,
   "id": "cf665672",
   "metadata": {
    "execution": {
     "iopub.execute_input": "2022-08-30T07:21:56.632183Z",
     "iopub.status.busy": "2022-08-30T07:21:56.626815Z",
     "iopub.status.idle": "2022-08-30T07:21:56.643846Z",
     "shell.execute_reply": "2022-08-30T07:21:56.642955Z"
    },
    "papermill": {
     "duration": 0.038766,
     "end_time": "2022-08-30T07:21:56.645660",
     "exception": false,
     "start_time": "2022-08-30T07:21:56.606894",
     "status": "completed"
    },
    "tags": []
   },
   "outputs": [
    {
     "name": "stdout",
     "output_type": "stream",
     "text": [
      "21  publications in the last 7 days.\n",
      "\t _build/html/2208.13218.md\n",
      "\t _build/html/2208.09335.md\n",
      "\t _build/html/2208.08872.md\n",
      "\t _build/html/2204.06393.md\n",
      "\t _build/html/2204.03335.md\n",
      "\t _build/html/2204.03253.md\n",
      "\t _build/html/2204.02998.md\n",
      "\t _build/html/2204.02109.md\n",
      "\t _build/html/2204.02017.md\n",
      "\t _build/html/2204.01824.md\n",
      "\t _build/html/2204.01758.md\n",
      "\t _build/html/2204.01245.md\n",
      "\t _build/html/2204.00793.md\n",
      "\t _build/html/2204.00342.md\n",
      "\t _build/html/2203.16959.md\n",
      "\t _build/html/2203.16856.md\n",
      "\t _build/html/2203.16735.md\n",
      "\t _build/html/2203.16734.md\n",
      "\t _build/html/2203.16504.md\n",
      "\t _build/html/2203.15822.md\n",
      "\t _build/html/2203.15811.md\n"
     ]
    }
   ],
   "source": [
    "from datetime import datetime, timedelta, timezone\n",
    "from glob import glob\n",
    "\n",
    "files = glob('_build/html/*.md')\n",
    "days = 7\n",
    "now = datetime.today()\n",
    "res = []\n",
    "for fk in files:\n",
    "    stat_result = os.stat(fk).st_ctime\n",
    "    modified = datetime.fromtimestamp(stat_result, tz=timezone.utc).replace(tzinfo=None)\n",
    "    delta = now.today() - modified\n",
    "    if delta <= timedelta(days=days):\n",
    "        res.append((delta.seconds, fk))\n",
    "res = [k[1] for k in reversed(sorted(res, key=lambda x:x[1]))]\n",
    "npub = len(res)\n",
    "print(len(res), f\" publications in the last {days:d} days.\")\n",
    "[ print('\\t', k) for k in res ];"
   ]
  },
  {
   "cell_type": "code",
   "execution_count": 11,
   "id": "52ca0208",
   "metadata": {
    "execution": {
     "iopub.execute_input": "2022-08-30T07:21:56.679672Z",
     "iopub.status.busy": "2022-08-30T07:21:56.678524Z",
     "iopub.status.idle": "2022-08-30T07:21:56.687048Z",
     "shell.execute_reply": "2022-08-30T07:21:56.686153Z"
    },
    "papermill": {
     "duration": 0.026841,
     "end_time": "2022-08-30T07:21:56.689488",
     "exception": false,
     "start_time": "2022-08-30T07:21:56.662647",
     "status": "completed"
    },
    "scrolled": false,
    "tags": []
   },
   "outputs": [],
   "source": [
    "def create_carousel(npub=4):\n",
    "    \"\"\" Generate the HTML code for a carousel with `npub` slides \"\"\"\n",
    "    carousel = [\"\"\"<section class=\"carousel\" aria-label=\"Gallery\">\"\"\",\n",
    "                \"\"\"  <ol class=\"carousel__viewport\">\"\"\",\n",
    "    ]\n",
    "    for k in range(1, npub + 1):\n",
    "        prev_ = k - 1\n",
    "        next_ = k + 1\n",
    "        if prev_ <= 0:\n",
    "            prev_ = npub\n",
    "        if next_ > npub:\n",
    "            next_ = 1\n",
    "        text  = f\"\"\"    <li id=\"carousel__slide{k}\" tabindex=\"0\" class=\"carousel__slide\">\\n\"\"\"\n",
    "        text += f\"\"\"       <div class=\"carousel__snapper\">\\n\"\"\"\n",
    "        text += f\"\"\"         <a href=\"#carousel__slide{prev_}\" class=\"carousel__prev\">Go to previous slide</a>\\n\"\"\"\n",
    "        text += f\"\"\"         <a href=\"#carousel__slide{next_}\" class=\"carousel__next\">Go to next slide</a>\\n\"\"\"\n",
    "        text += f\"\"\"         <div id=\"slide{k}_content\" class=\"md_view\" >Content {k}</div>\\n\"\"\"\n",
    "        text += f\"\"\"       </div>\\n\"\"\"\n",
    "        text += f\"\"\"    </li>\"\"\"\n",
    "        carousel.append(text)\n",
    "\n",
    "    carousel.extend([\n",
    "        \"\"\"  </ol>\"\"\",\n",
    "        \"\"\"  <aside class=\"carousel__navigation\">\"\"\",\n",
    "        \"\"\"    <ol class=\"carousel__navigation-list\">\"\"\"])\n",
    "\n",
    "    for k in range(1, npub + 1):\n",
    "        text  = f\"\"\"      <li class=\"carousel__navigation-item\">\\n\"\"\"\n",
    "        text += f\"\"\"        <a href=\"#carousel__slide{k}\" class=\"carousel__navigation-button\">Go to {k}</a>\\n\"\"\"\n",
    "        text += f\"\"\"      </li>\"\"\"\n",
    "        carousel.append(text)\n",
    "    carousel.extend([\"\"\"    </ol>\"\"\", \"\"\"  </aside>\"\"\", \"\"\"</section>\"\"\"])\n",
    "\n",
    "    return '\\n'.join(carousel)"
   ]
  },
  {
   "cell_type": "code",
   "execution_count": 12,
   "id": "a6eac5b6",
   "metadata": {
    "execution": {
     "iopub.execute_input": "2022-08-30T07:21:56.716691Z",
     "iopub.status.busy": "2022-08-30T07:21:56.716194Z",
     "iopub.status.idle": "2022-08-30T07:21:56.724132Z",
     "shell.execute_reply": "2022-08-30T07:21:56.723245Z"
    },
    "papermill": {
     "duration": 0.024062,
     "end_time": "2022-08-30T07:21:56.725872",
     "exception": false,
     "start_time": "2022-08-30T07:21:56.701810",
     "status": "completed"
    },
    "scrolled": false,
    "tags": []
   },
   "outputs": [],
   "source": [
    "carousel = create_carousel(npub)\n",
    "docs = ', '.join(['\"{0:s}\"'.format(k.split('/')[-1]) for k in res])\n",
    "slides = ', '.join([f'\"slide{k}_content\"' for k in range(1, npub + 1)])\n",
    "\n",
    "script = f\"\"\"\n",
    "const docs = [{docs}]\n",
    "\n",
    "const slides = [{slides}]\n",
    "\"\"\" + \"\"\"\n",
    "async function run() {\n",
    "    for (let i = 0; i < docs.length; i++) {\n",
    "        let file = await fetch(docs[i]);\n",
    "        let text = await file.text()\n",
    "        document.getElementById(slides[i]).innerHTML =\n",
    "            marked.parse(text);\n",
    "    }\n",
    "    hljs.highlightAll();\n",
    "}\n",
    "run()\n",
    "\"\"\"\n",
    "\n",
    "page = f\"\"\"<!doctype html>\n",
    "<html lang=\"en\">\n",
    "\n",
    "<head>\n",
    "  <meta charset=\"utf-8\">\n",
    "  <meta name=\"viewport\" content=\"width=device-width, initial-scale=1\">\n",
    "  <!-- Bootstrap CSS -->\n",
    "  <link href=\"https://cdn.jsdelivr.net/npm/bootstrap@5.0.2/dist/css/bootstrap.min.css\" rel=\"stylesheet\"\n",
    "   integrity=\"sha384-EVSTQN3/azprG1Anm3QDgpJLIm9Nao0Yz1ztcQTwFspd3yD65VohhpuuCOmLASjC\" crossorigin=\"anonymous\">\n",
    "  <!-- highlight.js CSS -->\n",
    "  <link rel=\"stylesheet\" href=\"https://cdnjs.cloudflare.com/ajax/libs/highlight.js/11.1.0/styles/default.min.css\">\n",
    "  <!-- Mathjax 3 -->\n",
    "  <script type=\"text/javascript\" id=\"MathJax-config\" src=\"mathjax_config.js\"> </script>\n",
    "  <script type=\"text/javascript\" id=\"MathJax-script\" async \n",
    "    src=\"https://cdn.jsdelivr.net/npm/mathjax@3/es5/tex-mml-chtml.js\">\n",
    "  </script>\n",
    "  <link rel=\"stylesheet\" href=\"index_carousel.css\">\n",
    "  <link rel=\"icon\" type=\"image/x-icon\" href=\"https://www.mpia.de/assets/touch-icon-32x32-a66937bcebc4e8894ebff1f41a366c7c7220fd97a38869ee0f2db65a9f59b6c1.png\">\n",
    "  <title>MPIA Arxiv on deck!</title>\n",
    "</head>\n",
    "\n",
    "<body>\n",
    "  <div id=\"header\"> <img src=\"header_banner.png\" width=\"100%\"></div>\n",
    "  <div id=\"suptitle\"> 7-day archives </div>\n",
    "  <div id=\"info\">\n",
    "    <img src=\"https://pngimg.com/uploads/github/github_PNG58.png\" height=30rem></img>\n",
    "    <a href=https://github.com/mpi-astronomy/arxiv_display style=\"color:black;\">github/mpi-astronomy/arxiv_display</a> \n",
    "  </div>\n",
    "  {carousel:s}\n",
    "</body>\n",
    "\n",
    "<!-- Render Markdown -->\n",
    "\n",
    "<body>\n",
    "  <!-- highlight.js: https://highlightjs.org/download/ -->\n",
    "  <script src=\"https://cdnjs.cloudflare.com/ajax/libs/highlight.js/11.5.0/highlight.min.js\"></script>\n",
    "  <!-- marked.js -->\n",
    "  <script src=\"https://cdn.jsdelivr.net/npm/marked/marked.min.js\"></script>\n",
    "  <script>{script:s}</script>\n",
    "</body>\n",
    "</html>\n",
    "\"\"\"\n",
    "with open(\"_build/html/index_7days.html\", 'w') as fout:\n",
    "    fout.write(page)"
   ]
  },
  {
   "cell_type": "markdown",
   "id": "1cebacbc",
   "metadata": {
    "papermill": {
     "duration": 0.01387,
     "end_time": "2022-08-30T07:21:56.779830",
     "exception": false,
     "start_time": "2022-08-30T07:21:56.765960",
     "status": "completed"
    },
    "tags": []
   },
   "source": [
    "# Debugging papers"
   ]
  },
  {
   "cell_type": "raw",
   "id": "debe7cc6",
   "metadata": {
    "papermill": {
     "duration": 0.01176,
     "end_time": "2022-08-30T07:21:56.803222",
     "exception": false,
     "start_time": "2022-08-30T07:21:56.791462",
     "status": "completed"
    },
    "tags": []
   },
   "source": [
    "raise NotImplementedError(\"Manual Stop\")"
   ]
  },
  {
   "cell_type": "raw",
   "id": "eb169192",
   "metadata": {
    "papermill": {
     "duration": 0.010774,
     "end_time": "2022-08-30T07:21:56.825503",
     "exception": false,
     "start_time": "2022-08-30T07:21:56.814729",
     "status": "completed"
    },
    "scrolled": true,
    "tags": []
   },
   "source": [
    "from IPython.display import display, Markdown\n",
    "from TexSoup import TexSoup\n",
    "import re\n",
    "\n",
    "def bracket_error(source: str):\n",
    "    \"\"\" Find problematic portions of the document \"\"\"\n",
    "    \n",
    "    print(\"len(source)\", len(source))\n",
    "    \n",
    "    # Checking header\n",
    "    begin_doc = next(re.finditer(r'\\\\begin\\{document\\}', doc.source)).span()[1]\n",
    "    header = source[:begin_doc]\n",
    "    text = header + r\"\\n\\end{document}\"\n",
    "\n",
    "    try:\n",
    "        # print(\"Header check... \", end='')\n",
    "        TexSoup(text)\n",
    "        display(Markdown(f\"**[OK]** - Header\"))\n",
    "    except:\n",
    "        raise RuntimeError(\"Error in the header\")\n",
    "        \n",
    "    # Check the text per section until the end.\n",
    "    # Do not stop and try them all.\n",
    "    \n",
    "    problematic_text = []\n",
    "    \n",
    "    sections = ([(0, begin_doc, 'until first section')] + \n",
    "                [(g.span()[0], g.span()[1], g.group()) for g in re.finditer(r'\\\\section\\{.*\\}', source)] +\n",
    "                [(g.span()[0], g.span()[1], g.group()) for g in re.finditer(r'\\\\begin\\{appendix\\}', source)]\n",
    "               )\n",
    "    sections.append([len(source), len(source), 'end'])\n",
    "    \n",
    "    sections = sorted(sections, key=lambda x: x[0])\n",
    "    \n",
    "    prev_pos, prev_name = (0, 'header')\n",
    "    parsed = []\n",
    "    \n",
    "    for span, span_end, name in sections:\n",
    "\n",
    "        if span - prev_pos <= 0:\n",
    "            continue\n",
    "            \n",
    "\n",
    "        text = source[prev_pos:span]\n",
    "        if prev_pos > begin_doc:\n",
    "            text = r\"\\n\\begin{document}\" + text + r\"\\n\\end{document}\"\n",
    "        else:\n",
    "            text = text + r\"\\n\\end{document}\"\n",
    "        try:\n",
    "            #print(f\"{prev_pos}:{prev_name}-->{span}:{name} check... \", end='')\n",
    "            parsed.append(TexSoup(text, tolerance=1))  # allow not ending env\n",
    "            display(Markdown(f\"**[OK]** - *{prev_pos}*:{prev_name} &rarr; *{span}*:{name}\"))\n",
    "            # print(\"ok\")\n",
    "\n",
    "            prev_pos = span\n",
    "            prev_name = name\n",
    "        except:\n",
    "            # print(f\"error between {prev_pos} and {span}\")\n",
    "            display(Markdown(f\"**[ERR]** *{prev_pos}*:{prev_name} &rarr; *{span}*:{name}\"))\n",
    "            problematic_text.append((prev_pos, source[prev_pos:span]))\n",
    "            prev_pos = span\n",
    "            prev_name = name\n",
    "            # raise\n",
    "    return problematic_text, parsed\n",
    "\n",
    "\n",
    "def check_environment(text, offset=0):\n",
    "    \"\"\" Check environment \"\"\"\n",
    "    env = re.compile(r\"\\\\begin\\{(?P<env>.*)\\}(.*)\\\\end\\{(?P=env)\\}\", re.DOTALL)\n",
    "\n",
    "    for match in env.finditer(text):\n",
    "        beg, end = match.span()\n",
    "        beg += offset\n",
    "        end += offset\n",
    "        envname = match.groups()[0]\n",
    "        try:\n",
    "            latex.TexSoup(match.group())\n",
    "        except Exception as e:\n",
    "            display(e)\n",
    "            print(f\"Error in {envname:s} between {beg} and {end}\")\n",
    "            return match.groups()[1], beg, end"
   ]
  },
  {
   "cell_type": "raw",
   "id": "2315e835",
   "metadata": {
    "papermill": {
     "duration": 0.011887,
     "end_time": "2022-08-30T07:21:56.848923",
     "exception": false,
     "start_time": "2022-08-30T07:21:56.837036",
     "status": "completed"
    },
    "scrolled": false,
    "tags": []
   },
   "source": [
    "import importlib\n",
    "importlib.reload(latex)\n",
    "which = \"2204.03253\"\n",
    "paper_id = f'{which:s}'\n",
    "folder = f'tmp_{paper_id:s}'\n",
    "\n",
    "if not os.path.isdir(folder):\n",
    "    folder = retrieve_document_source(f\"{paper_id}\", f'tmp_{paper_id}')\n",
    "\n",
    "try:\n",
    "    doc = latex.LatexDocument(folder, validation=validation)    \n",
    "except AffiliationError as affilerror:\n",
    "    msg = f\"ArXiv:{paper_id:s} is not an MPIA paper... \" + str(affilerror)\n",
    "    print(msg)\n",
    "\n",
    "\n",
    "# Hack because sometimes author parsing does not work well\n",
    "if (len(doc.authors) != len(paper['authors'])):\n",
    "    doc._authors = paper['authors']\n",
    "if (doc.abstract) in (None, ''):\n",
    "    doc._abstract = paper['abstract']\n",
    "\n",
    "doc.comment = get_markdown_badge(paper_id) + \" _\" + paper['comments'] + \"_\"\n",
    "doc.highlight_authors_in_list(hl_list)\n",
    "\n",
    "full_md = doc.generate_markdown_text()"
   ]
  },
  {
   "cell_type": "raw",
   "id": "dd3781db",
   "metadata": {
    "papermill": {
     "duration": 0.011809,
     "end_time": "2022-08-30T07:21:56.872177",
     "exception": false,
     "start_time": "2022-08-30T07:21:56.860368",
     "status": "completed"
    },
    "scrolled": false,
    "tags": []
   },
   "source": [
    "doc"
   ]
  },
  {
   "cell_type": "raw",
   "id": "c6eed834",
   "metadata": {
    "papermill": {
     "duration": 0.013952,
     "end_time": "2022-08-30T07:21:56.898671",
     "exception": false,
     "start_time": "2022-08-30T07:21:56.884719",
     "status": "completed"
    },
    "tags": []
   },
   "source": [
    "# [check_environment(k) for k in bracket_error(doc.source)]\n",
    "_, _, a = latex.get_content_per_section(doc.source, verbose=True)\n",
    "if not a:\n",
    "    print(\"no issues per section\")\n",
    "for ak in a:\n",
    "    r = check_environment(ak[1], offset=ak[0])\n",
    "    print(r[1], r[2])\n",
    "    print(r[0])"
   ]
  },
  {
   "cell_type": "code",
   "execution_count": null,
   "id": "71ce768a",
   "metadata": {
    "papermill": {
     "duration": 0.010821,
     "end_time": "2022-08-30T07:21:56.921702",
     "exception": false,
     "start_time": "2022-08-30T07:21:56.910881",
     "status": "completed"
    },
    "tags": []
   },
   "outputs": [],
   "source": []
  }
 ],
 "metadata": {
  "kernelspec": {
   "display_name": "Python 3.10.6 64-bit",
   "language": "python",
   "name": "python3"
  },
  "language_info": {
   "codemirror_mode": {
    "name": "ipython",
    "version": 3
   },
   "file_extension": ".py",
   "mimetype": "text/x-python",
   "name": "python",
   "nbconvert_exporter": "python",
   "pygments_lexer": "ipython3",
   "version": "3.9.13"
  },
  "papermill": {
   "default_parameters": {},
   "duration": 115.230211,
   "end_time": "2022-08-30T07:21:57.152707",
   "environment_variables": {},
   "exception": null,
   "input_path": "MPIA daily digest.ipynb",
   "output_path": "log.ipynb",
   "parameters": {},
   "start_time": "2022-08-30T07:20:01.922496",
   "version": "2.4.0"
  },
  "vscode": {
   "interpreter": {
    "hash": "e7370f93d1d0cde622a1f8e1c04877d8463912d04d973331ad4851f04de6915a"
   }
  },
  "widgets": {
   "application/vnd.jupyter.widget-state+json": {
    "state": {
     "23e42c82135f4601a103027866107aec": {
      "model_module": "@jupyter-widgets/controls",
      "model_module_version": "2.0.0",
      "model_name": "HTMLStyleModel",
      "state": {
       "_model_module": "@jupyter-widgets/controls",
       "_model_module_version": "2.0.0",
       "_model_name": "HTMLStyleModel",
       "_view_count": null,
       "_view_module": "@jupyter-widgets/base",
       "_view_module_version": "2.0.0",
       "_view_name": "StyleView",
       "background": null,
       "description_width": "",
       "font_size": null,
       "text_color": null
      }
     },
     "478e9ca88c2c4f46904915dc78b3c5ae": {
      "model_module": "@jupyter-widgets/controls",
      "model_module_version": "2.0.0",
      "model_name": "HBoxModel",
      "state": {
       "_dom_classes": [],
       "_model_module": "@jupyter-widgets/controls",
       "_model_module_version": "2.0.0",
       "_model_name": "HBoxModel",
       "_view_count": null,
       "_view_module": "@jupyter-widgets/controls",
       "_view_module_version": "2.0.0",
       "_view_name": "HBoxView",
       "box_style": "",
       "children": [
        "IPY_MODEL_c4aab3ab74bc4752a9fdc95feb865bc3",
        "IPY_MODEL_cec40f1a5a2a4251877c52f5403a07b3",
        "IPY_MODEL_eb0460e8692d4f89b003b420be743fbf"
       ],
       "layout": "IPY_MODEL_865bdffddd2c41b795f7ac3e39c44ba0",
       "tabbable": null,
       "tooltip": null
      }
     },
     "865bdffddd2c41b795f7ac3e39c44ba0": {
      "model_module": "@jupyter-widgets/base",
      "model_module_version": "2.0.0",
      "model_name": "LayoutModel",
      "state": {
       "_model_module": "@jupyter-widgets/base",
       "_model_module_version": "2.0.0",
       "_model_name": "LayoutModel",
       "_view_count": null,
       "_view_module": "@jupyter-widgets/base",
       "_view_module_version": "2.0.0",
       "_view_name": "LayoutView",
       "align_content": null,
       "align_items": null,
       "align_self": null,
       "border_bottom": null,
       "border_left": null,
       "border_right": null,
       "border_top": null,
       "bottom": null,
       "display": null,
       "flex": null,
       "flex_flow": null,
       "grid_area": null,
       "grid_auto_columns": null,
       "grid_auto_flow": null,
       "grid_auto_rows": null,
       "grid_column": null,
       "grid_gap": null,
       "grid_row": null,
       "grid_template_areas": null,
       "grid_template_columns": null,
       "grid_template_rows": null,
       "height": null,
       "justify_content": null,
       "justify_items": null,
       "left": null,
       "margin": null,
       "max_height": null,
       "max_width": null,
       "min_height": null,
       "min_width": null,
       "object_fit": null,
       "object_position": null,
       "order": null,
       "overflow": null,
       "padding": null,
       "right": null,
       "top": null,
       "visibility": null,
       "width": null
      }
     },
     "91c5790be5ad4f13bc50e6a55207fca3": {
      "model_module": "@jupyter-widgets/base",
      "model_module_version": "2.0.0",
      "model_name": "LayoutModel",
      "state": {
       "_model_module": "@jupyter-widgets/base",
       "_model_module_version": "2.0.0",
       "_model_name": "LayoutModel",
       "_view_count": null,
       "_view_module": "@jupyter-widgets/base",
       "_view_module_version": "2.0.0",
       "_view_name": "LayoutView",
       "align_content": null,
       "align_items": null,
       "align_self": null,
       "border_bottom": null,
       "border_left": null,
       "border_right": null,
       "border_top": null,
       "bottom": null,
       "display": null,
       "flex": null,
       "flex_flow": null,
       "grid_area": null,
       "grid_auto_columns": null,
       "grid_auto_flow": null,
       "grid_auto_rows": null,
       "grid_column": null,
       "grid_gap": null,
       "grid_row": null,
       "grid_template_areas": null,
       "grid_template_columns": null,
       "grid_template_rows": null,
       "height": null,
       "justify_content": null,
       "justify_items": null,
       "left": null,
       "margin": null,
       "max_height": null,
       "max_width": null,
       "min_height": null,
       "min_width": null,
       "object_fit": null,
       "object_position": null,
       "order": null,
       "overflow": null,
       "padding": null,
       "right": null,
       "top": null,
       "visibility": null,
       "width": null
      }
     },
     "953a78a9c0fa4dc5bf338a2e756941c2": {
      "model_module": "@jupyter-widgets/controls",
      "model_module_version": "2.0.0",
      "model_name": "ProgressStyleModel",
      "state": {
       "_model_module": "@jupyter-widgets/controls",
       "_model_module_version": "2.0.0",
       "_model_name": "ProgressStyleModel",
       "_view_count": null,
       "_view_module": "@jupyter-widgets/base",
       "_view_module_version": "2.0.0",
       "_view_name": "StyleView",
       "bar_color": null,
       "description_width": ""
      }
     },
     "9b8c5a8eba6144519b82c8b599875086": {
      "model_module": "@jupyter-widgets/base",
      "model_module_version": "2.0.0",
      "model_name": "LayoutModel",
      "state": {
       "_model_module": "@jupyter-widgets/base",
       "_model_module_version": "2.0.0",
       "_model_name": "LayoutModel",
       "_view_count": null,
       "_view_module": "@jupyter-widgets/base",
       "_view_module_version": "2.0.0",
       "_view_name": "LayoutView",
       "align_content": null,
       "align_items": null,
       "align_self": null,
       "border_bottom": null,
       "border_left": null,
       "border_right": null,
       "border_top": null,
       "bottom": null,
       "display": null,
       "flex": null,
       "flex_flow": null,
       "grid_area": null,
       "grid_auto_columns": null,
       "grid_auto_flow": null,
       "grid_auto_rows": null,
       "grid_column": null,
       "grid_gap": null,
       "grid_row": null,
       "grid_template_areas": null,
       "grid_template_columns": null,
       "grid_template_rows": null,
       "height": null,
       "justify_content": null,
       "justify_items": null,
       "left": null,
       "margin": null,
       "max_height": null,
       "max_width": null,
       "min_height": null,
       "min_width": null,
       "object_fit": null,
       "object_position": null,
       "order": null,
       "overflow": null,
       "padding": null,
       "right": null,
       "top": null,
       "visibility": null,
       "width": null
      }
     },
     "c4aab3ab74bc4752a9fdc95feb865bc3": {
      "model_module": "@jupyter-widgets/controls",
      "model_module_version": "2.0.0",
      "model_name": "HTMLModel",
      "state": {
       "_dom_classes": [],
       "_model_module": "@jupyter-widgets/controls",
       "_model_module_version": "2.0.0",
       "_model_name": "HTMLModel",
       "_view_count": null,
       "_view_module": "@jupyter-widgets/controls",
       "_view_module_version": "2.0.0",
       "_view_name": "HTMLView",
       "description": "",
       "description_allow_html": false,
       "layout": "IPY_MODEL_9b8c5a8eba6144519b82c8b599875086",
       "placeholder": "​",
       "style": "IPY_MODEL_f0bba1dc25554785bd56786d469f99d9",
       "tabbable": null,
       "tooltip": null,
       "value": "100%"
      }
     },
     "cec40f1a5a2a4251877c52f5403a07b3": {
      "model_module": "@jupyter-widgets/controls",
      "model_module_version": "2.0.0",
      "model_name": "FloatProgressModel",
      "state": {
       "_dom_classes": [],
       "_model_module": "@jupyter-widgets/controls",
       "_model_module_version": "2.0.0",
       "_model_name": "FloatProgressModel",
       "_view_count": null,
       "_view_module": "@jupyter-widgets/controls",
       "_view_module_version": "2.0.0",
       "_view_name": "ProgressView",
       "bar_style": "success",
       "description": "",
       "description_allow_html": false,
       "layout": "IPY_MODEL_edd6a74c0b1b4d41b09e3e6c7aa7b6dc",
       "max": 25.0,
       "min": 0.0,
       "orientation": "horizontal",
       "style": "IPY_MODEL_953a78a9c0fa4dc5bf338a2e756941c2",
       "tabbable": null,
       "tooltip": null,
       "value": 25.0
      }
     },
     "eb0460e8692d4f89b003b420be743fbf": {
      "model_module": "@jupyter-widgets/controls",
      "model_module_version": "2.0.0",
      "model_name": "HTMLModel",
      "state": {
       "_dom_classes": [],
       "_model_module": "@jupyter-widgets/controls",
       "_model_module_version": "2.0.0",
       "_model_name": "HTMLModel",
       "_view_count": null,
       "_view_module": "@jupyter-widgets/controls",
       "_view_module_version": "2.0.0",
       "_view_name": "HTMLView",
       "description": "",
       "description_allow_html": false,
       "layout": "IPY_MODEL_91c5790be5ad4f13bc50e6a55207fca3",
       "placeholder": "​",
       "style": "IPY_MODEL_23e42c82135f4601a103027866107aec",
       "tabbable": null,
       "tooltip": null,
       "value": " 25/25 [01:27&lt;00:00,  7.13s/it]"
      }
     },
     "edd6a74c0b1b4d41b09e3e6c7aa7b6dc": {
      "model_module": "@jupyter-widgets/base",
      "model_module_version": "2.0.0",
      "model_name": "LayoutModel",
      "state": {
       "_model_module": "@jupyter-widgets/base",
       "_model_module_version": "2.0.0",
       "_model_name": "LayoutModel",
       "_view_count": null,
       "_view_module": "@jupyter-widgets/base",
       "_view_module_version": "2.0.0",
       "_view_name": "LayoutView",
       "align_content": null,
       "align_items": null,
       "align_self": null,
       "border_bottom": null,
       "border_left": null,
       "border_right": null,
       "border_top": null,
       "bottom": null,
       "display": null,
       "flex": null,
       "flex_flow": null,
       "grid_area": null,
       "grid_auto_columns": null,
       "grid_auto_flow": null,
       "grid_auto_rows": null,
       "grid_column": null,
       "grid_gap": null,
       "grid_row": null,
       "grid_template_areas": null,
       "grid_template_columns": null,
       "grid_template_rows": null,
       "height": null,
       "justify_content": null,
       "justify_items": null,
       "left": null,
       "margin": null,
       "max_height": null,
       "max_width": null,
       "min_height": null,
       "min_width": null,
       "object_fit": null,
       "object_position": null,
       "order": null,
       "overflow": null,
       "padding": null,
       "right": null,
       "top": null,
       "visibility": null,
       "width": null
      }
     },
     "f0bba1dc25554785bd56786d469f99d9": {
      "model_module": "@jupyter-widgets/controls",
      "model_module_version": "2.0.0",
      "model_name": "HTMLStyleModel",
      "state": {
       "_model_module": "@jupyter-widgets/controls",
       "_model_module_version": "2.0.0",
       "_model_name": "HTMLStyleModel",
       "_view_count": null,
       "_view_module": "@jupyter-widgets/base",
       "_view_module_version": "2.0.0",
       "_view_name": "StyleView",
       "background": null,
       "description_width": "",
       "font_size": null,
       "text_color": null
      }
     }
    },
    "version_major": 2,
    "version_minor": 0
   }
  }
 },
 "nbformat": 4,
 "nbformat_minor": 5
}