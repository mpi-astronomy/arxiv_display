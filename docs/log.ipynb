{
 "cells": [
  {
   "cell_type": "markdown",
   "id": "92bcb855",
   "metadata": {
    "papermill": {
     "duration": 0.003507,
     "end_time": "2024-02-01T04:09:16.639226",
     "exception": false,
     "start_time": "2024-02-01T04:09:16.635719",
     "status": "completed"
    },
    "tags": []
   },
   "source": [
    "# MPIA Arxiv on Deck 2\n",
    "\n",
    "Contains the steps to produce the paper extractions."
   ]
  },
  {
   "cell_type": "code",
   "execution_count": 1,
   "id": "3a0d6e11",
   "metadata": {
    "execution": {
     "iopub.execute_input": "2024-02-01T04:09:16.647786Z",
     "iopub.status.busy": "2024-02-01T04:09:16.647204Z",
     "iopub.status.idle": "2024-02-01T04:09:16.974877Z",
     "shell.execute_reply": "2024-02-01T04:09:16.974169Z"
    },
    "papermill": {
     "duration": 0.333447,
     "end_time": "2024-02-01T04:09:16.976789",
     "exception": false,
     "start_time": "2024-02-01T04:09:16.643342",
     "status": "completed"
    },
    "tags": []
   },
   "outputs": [],
   "source": [
    "# Imports\n",
    "import os\n",
    "from IPython.display import Markdown, display\n",
    "from tqdm.notebook import tqdm\n",
    "import warnings\n",
    "from PIL import Image \n",
    "\n",
    "# requires arxiv_on_deck_2\n",
    "\n",
    "from arxiv_on_deck_2.arxiv2 import (get_new_papers, \n",
    "                                    get_paper_from_identifier,\n",
    "                                    retrieve_document_source, \n",
    "                                    get_markdown_badge)\n",
    "from arxiv_on_deck_2 import (latex,\n",
    "                             latex_bib,\n",
    "                             mpia,\n",
    "                             highlight_authors_in_list)\n",
    "\n",
    "# Sometimes images are really big\n",
    "Image.MAX_IMAGE_PIXELS = 1000000000 "
   ]
  },
  {
   "cell_type": "code",
   "execution_count": 2,
   "id": "22aa9d44",
   "metadata": {
    "execution": {
     "iopub.execute_input": "2024-02-01T04:09:16.984065Z",
     "iopub.status.busy": "2024-02-01T04:09:16.983558Z",
     "iopub.status.idle": "2024-02-01T04:09:16.988657Z",
     "shell.execute_reply": "2024-02-01T04:09:16.988049Z"
    },
    "papermill": {
     "duration": 0.010205,
     "end_time": "2024-02-01T04:09:16.990032",
     "exception": false,
     "start_time": "2024-02-01T04:09:16.979827",
     "status": "completed"
    },
    "tags": []
   },
   "outputs": [],
   "source": [
    "# Some useful definitions.\n",
    "\n",
    "class AffiliationWarning(UserWarning):\n",
    "    pass\n",
    "\n",
    "class AffiliationError(RuntimeError):\n",
    "    pass\n",
    "\n",
    "def validation(source: str):\n",
    "    \"\"\"Raises error paper during parsing of source file\n",
    "    \n",
    "    Allows checks before parsing TeX code.\n",
    "    \n",
    "    Raises AffiliationWarning\n",
    "    \"\"\"\n",
    "    check = mpia.affiliation_verifications(source, verbose=True)\n",
    "    if check is not True:\n",
    "        raise AffiliationError(\"mpia.affiliation_verifications: \" + check)\n",
    "\n",
    "        \n",
    "warnings.simplefilter('always', AffiliationWarning)\n",
    "\n",
    "\n",
    "def get_markdown_qrcode(paper_id: str):\n",
    "    \"\"\" Generate a qrcode to the arxiv page using qrserver.com\n",
    "    \n",
    "    :param paper: Arxiv paper\n",
    "    :returns: markdown text\n",
    "    \"\"\"\n",
    "    url = r\"https://api.qrserver.com/v1/create-qr-code/?size=100x100&data=\"\n",
    "    txt = f\"\"\"<img src={url}\"https://arxiv.org/abs/{paper_id}\">\"\"\"\n",
    "    txt = '<div id=\"qrcode\">' + txt + '</div>'\n",
    "    return txt"
   ]
  },
  {
   "cell_type": "markdown",
   "id": "14bd6310",
   "metadata": {
    "papermill": {
     "duration": 0.002663,
     "end_time": "2024-02-01T04:09:16.995555",
     "exception": false,
     "start_time": "2024-02-01T04:09:16.992892",
     "status": "completed"
    },
    "tags": []
   },
   "source": [
    "## get list of arxiv paper candidates\n",
    "\n",
    "We use the MPIA mitarbeiter list webpage from mpia.de to get author names\n",
    "We then get all new papers from Arxiv and match authors"
   ]
  },
  {
   "cell_type": "code",
   "execution_count": 3,
   "id": "2645e73a",
   "metadata": {
    "execution": {
     "iopub.execute_input": "2024-02-01T04:09:17.002031Z",
     "iopub.status.busy": "2024-02-01T04:09:17.001678Z",
     "iopub.status.idle": "2024-02-01T04:09:36.679332Z",
     "shell.execute_reply": "2024-02-01T04:09:36.678605Z"
    },
    "papermill": {
     "duration": 19.682448,
     "end_time": "2024-02-01T04:09:36.680706",
     "exception": false,
     "start_time": "2024-02-01T04:09:16.998258",
     "status": "completed"
    },
    "tags": []
   },
   "outputs": [
    {
     "name": "stdout",
     "output_type": "stream",
     "text": [
      "J. Li  ->  J. Li  |  ['J. Li']\n",
      "X. Zhang  ->  X. Zhang  |  ['X. Zhang']\n",
      "S. Scheithauer  ->  S. Scheithauer  |  ['S. Scheithauer']\n",
      "Arxiv has 49 new papers today\n",
      "          3 with possible author matches\n"
     ]
    }
   ],
   "source": [
    "# get list from MPIA website\n",
    "# it automatically filters identified non-scientists :func:`mpia.filter_non_scientists`\n",
    "mpia_authors = mpia.get_mpia_mitarbeiter_list()\n",
    "normed_mpia_authors = [k[1] for k in mpia_authors]   # initials + fullname\n",
    "new_papers = get_new_papers()\n",
    "# add manual references\n",
    "add_paper_refs = []\n",
    "new_papers.extend([get_paper_from_identifier(k) for k in add_paper_refs])\n",
    "\n",
    "candidates = []\n",
    "for paperk in new_papers:\n",
    "    # Check author list with their initials\n",
    "    normed_author_list = [mpia.get_initials(k) for k in paperk['authors']]\n",
    "    hl_authors = highlight_authors_in_list(normed_author_list, normed_mpia_authors, verbose=True)\n",
    "    matches = [(hl, orig) for hl, orig in zip(hl_authors, paperk['authors']) if 'mark' in hl]\n",
    "    paperk['authors'] = hl_authors\n",
    "    if matches:\n",
    "        # only select paper if an author matched our list\n",
    "        candidates.append(paperk)\n",
    "print(\"\"\"Arxiv has {0:,d} new papers today\"\"\".format(len(new_papers)))        \n",
    "print(\"\"\"          {0:,d} with possible author matches\"\"\".format(len(candidates)))"
   ]
  },
  {
   "cell_type": "markdown",
   "id": "3543b34a",
   "metadata": {
    "papermill": {
     "duration": 0.002864,
     "end_time": "2024-02-01T04:09:36.686798",
     "exception": false,
     "start_time": "2024-02-01T04:09:36.683934",
     "status": "completed"
    },
    "tags": []
   },
   "source": [
    "# Parse sources and generate relevant outputs\n",
    "\n",
    "From the candidates, we do the following steps:\n",
    "* get their tarball from ArXiv (and extract data)\n",
    "* find the main .tex file: find one with \\documentclass{...} (sometimes it's non trivial)\n",
    "* Check affiliations with :func:`validation`, which uses :func:`mpia.affiliation_verifications`\n",
    "* If passing the affiliations: we parse the .tex source\n",
    "   * inject sub-documents into the main (flatten the main document)\n",
    "   * parse structure, extract information (title, abstract, authors, figures...)\n",
    "   * handles `\\graphicspath` if provided\n",
    "* Generate the .md document."
   ]
  },
  {
   "cell_type": "code",
   "execution_count": 4,
   "id": "9576b79e",
   "metadata": {
    "execution": {
     "iopub.execute_input": "2024-02-01T04:09:36.693761Z",
     "iopub.status.busy": "2024-02-01T04:09:36.693324Z",
     "iopub.status.idle": "2024-02-01T04:10:50.755335Z",
     "shell.execute_reply": "2024-02-01T04:10:50.754589Z"
    },
    "papermill": {
     "duration": 74.067052,
     "end_time": "2024-02-01T04:10:50.756683",
     "exception": false,
     "start_time": "2024-02-01T04:09:36.689631",
     "status": "completed"
    },
    "scrolled": false,
    "tags": []
   },
   "outputs": [
    {
     "data": {
      "application/vnd.jupyter.widget-view+json": {
       "model_id": "6e908c70d2a5498795a58943ac3d2c44",
       "version_major": 2,
       "version_minor": 0
      },
      "text/plain": [
       "  0%|          | 0/3 [00:00<?, ?it/s]"
      ]
     },
     "metadata": {},
     "output_type": "display_data"
    },
    {
     "name": "stdout",
     "output_type": "stream",
     "text": [
      "Retrieving document from  https://arxiv.org/e-print/2401.17525\n"
     ]
    },
    {
     "name": "stdout",
     "output_type": "stream",
     "text": [
      "extracting tarball to tmp_2401.17525..."
     ]
    },
    {
     "name": "stdout",
     "output_type": "stream",
     "text": [
      " done.\n",
      "Retrieving document from  https://arxiv.org/e-print/2401.17683\n"
     ]
    },
    {
     "name": "stdout",
     "output_type": "stream",
     "text": [
      "extracting tarball to tmp_2401.17683... done.\n",
      "Retrieving document from  https://arxiv.org/e-print/2401.17764\n"
     ]
    },
    {
     "name": "stdout",
     "output_type": "stream",
     "text": [
      "extracting tarball to tmp_2401.17764..."
     ]
    },
    {
     "name": "stdout",
     "output_type": "stream",
     "text": [
      " done.\n"
     ]
    },
    {
     "name": "stderr",
     "output_type": "stream",
     "text": [
      "/opt/hostedtoolcache/Python/3.9.18/x64/lib/python3.9/site-packages/arxiv_on_deck_2/latex.py:473: LatexWarning: Error parsing the document directly. Trying to recover.\n",
      "  warnings.warn(LatexWarning(f\"Error parsing the document directly. Trying to recover.\"))\n"
     ]
    },
    {
     "name": "stdout",
     "output_type": "stream",
     "text": [
      "✔ → 0:header\n",
      "  ↳ 7596:\\section{Introduction}\n"
     ]
    },
    {
     "name": "stdout",
     "output_type": "stream",
     "text": [
      "✔ → 7596:\\section{Introduction}\n",
      "  ↳ 13994:\\section{Observations and data reduction}\\label{sec:Observations}\n",
      "✔ → 13994:\\section{Observations and data reduction}\\label{sec:Observations}\n",
      "  ↳ 19431:\\section{Results derived from the continuum interferometric data}\\label{sec:continuum_analysis}\n"
     ]
    },
    {
     "name": "stdout",
     "output_type": "stream",
     "text": [
      "✔ → 19431:\\section{Results derived from the continuum interferometric data}\\label{sec:continuum_analysis}\n",
      "  ↳ 41074:\\section{Results on the Br$\\gamma$-line interferometric data}\\label{sec:brg_analysis}\n"
     ]
    },
    {
     "name": "stdout",
     "output_type": "stream",
     "text": [
      "✔ → 41074:\\section{Results on the Br$\\gamma$-line interferometric data}\\label{sec:brg_analysis}\n",
      "  ↳ 51128:\\section{Physical properties of the disk}\n"
     ]
    },
    {
     "name": "stdout",
     "output_type": "stream",
     "text": [
      "✔ → 51128:\\section{Physical properties of the disk}\n",
      "  ↳ 71029:\\section{Discussion}\\label{sec:Discussion}\n"
     ]
    },
    {
     "name": "stdout",
     "output_type": "stream",
     "text": [
      "✔ → 71029:\\section{Discussion}\\label{sec:Discussion}\n",
      "  ↳ 88350:\\section{Summary}\n",
      "✔ → 88350:\\section{Summary}\n",
      "  ↳ 94611:\\section{Logs and observation data}\\label{apx:dataset}\n"
     ]
    },
    {
     "name": "stdout",
     "output_type": "stream",
     "text": [
      "✔ → 94611:\\section{Logs and observation data}\\label{apx:dataset}\n",
      "  ↳ 107721:\\section{Global fit MCMC posterior distribution functions and azimuthal modulation parameters' $\\chi_r^2$ maps}\n"
     ]
    },
    {
     "name": "stdout",
     "output_type": "stream",
     "text": [
      "✔ → 107721:\\section{Global fit MCMC posterior distribution functions and azimuthal modulation parameters' $\\chi_r^2$ maps}\n",
      "  ↳ 112889:\\section{Spectrum wavelength calibration and star photospheric absorption model}\n",
      "✔ → 112889:\\section{Spectrum wavelength calibration and star photospheric absorption model}\n",
      "  ↳ 117581:\\section{Photometric data}\n"
     ]
    },
    {
     "name": "stdout",
     "output_type": "stream",
     "text": [
      "✔ → 117581:\\section{Photometric data}\n",
      "  ↳ 120975:\\section{Interferometric variability and UV coverage}\\label{sec:appendix_variability}\n"
     ]
    },
    {
     "name": "stdout",
     "output_type": "stream",
     "text": [
      "✔ → 120975:\\section{Interferometric variability and UV coverage}\\label{sec:appendix_variability}\n",
      "  ↳ 134698:\\section{Visualisation of the continuum geometrical models}\\label{sec:visualisation}\n",
      "✔ → 134698:\\section{Visualisation of the continuum geometrical models}\\label{sec:visualisation}\n",
      "  ↳ 135914:\\section{Pure-line photocenter displacements}\\label{apx:brg-visualisation}\n",
      "✔ → 135914:\\section{Pure-line photocenter displacements}\\label{apx:brg-visualisation}\n",
      "  ↳ 137605:end\n"
     ]
    },
    {
     "name": "stdout",
     "output_type": "stream",
     "text": [
      "Found 99 bibliographic references in tmp_2401.17764/aa46926-23_corr.bbl.\n"
     ]
    }
   ],
   "source": [
    "documents = []\n",
    "failed = []\n",
    "for paper in tqdm(candidates):\n",
    "    paper_id = paper['identifier'].lower().replace('arxiv:', '')\n",
    "    \n",
    "    folder = f'tmp_{paper_id}'\n",
    "\n",
    "    try:\n",
    "        if not os.path.isdir(folder):\n",
    "            folder = retrieve_document_source(f\"{paper_id}\", f'tmp_{paper_id}')\n",
    "        \n",
    "        try:\n",
    "            doc = latex.LatexDocument(folder, validation=validation)    \n",
    "        except AffiliationError as affilerror:\n",
    "            msg = f\"ArXiv:{paper_id:s} is not an MPIA paper... \" + str(affilerror)\n",
    "            failed.append((paper, \"affiliation error: \" + str(affilerror) ))\n",
    "            continue\n",
    "        \n",
    "        # Hack because sometimes author parsing does not work well\n",
    "        if (len(doc.authors) != len(paper['authors'])):\n",
    "            doc._authors = paper['authors']\n",
    "        else:\n",
    "            # highlight authors (FIXME: doc.highlight_authors)\n",
    "            # done on arxiv paper already\n",
    "            doc._authors = highlight_authors_in_list(\n",
    "                [mpia.get_initials(k) for k in doc.authors], \n",
    "                normed_mpia_authors, verbose=True)\n",
    "        if (doc.abstract) in (None, ''):\n",
    "            doc._abstract = paper['abstract']\n",
    "            \n",
    "        doc.comment = (get_markdown_badge(paper_id) + \n",
    "                       \"<mark>Appeared on: \" + paper['date'] + \"</mark> - \")\n",
    "        if paper['comments']:\n",
    "            doc.comment += \" _\" + paper['comments'] + \"_\"\n",
    "        \n",
    "        full_md = doc.generate_markdown_text()\n",
    "        \n",
    "        full_md += get_markdown_qrcode(paper_id)\n",
    "        \n",
    "        # replace citations\n",
    "        try:\n",
    "            bibdata = latex_bib.LatexBib.from_doc(doc)\n",
    "            full_md = latex_bib.replace_citations(full_md, bibdata)\n",
    "        except Exception as e:\n",
    "            print(e)\n",
    "        \n",
    "        documents.append((paper_id, full_md))\n",
    "    except Exception as e:\n",
    "        warnings.warn(latex.LatexWarning(f\"{paper_id:s} did not run properly\\n\" +\n",
    "                                         str(e)\n",
    "                                        ))\n",
    "        failed.append((paper, \"latex error \" + str(e)))"
   ]
  },
  {
   "cell_type": "markdown",
   "id": "2505a25c",
   "metadata": {
    "papermill": {
     "duration": 0.00392,
     "end_time": "2024-02-01T04:10:50.764834",
     "exception": false,
     "start_time": "2024-02-01T04:10:50.760914",
     "status": "completed"
    },
    "tags": []
   },
   "source": [
    "### Export the logs\n",
    "\n",
    "Throughout, we also keep track of the logs per paper. see `logs-{today date}.md` "
   ]
  },
  {
   "cell_type": "code",
   "execution_count": 5,
   "id": "d733828a",
   "metadata": {
    "execution": {
     "iopub.execute_input": "2024-02-01T04:10:50.773624Z",
     "iopub.status.busy": "2024-02-01T04:10:50.773216Z",
     "iopub.status.idle": "2024-02-01T04:10:50.787133Z",
     "shell.execute_reply": "2024-02-01T04:10:50.786535Z"
    },
    "papermill": {
     "duration": 0.019991,
     "end_time": "2024-02-01T04:10:50.788563",
     "exception": false,
     "start_time": "2024-02-01T04:10:50.768572",
     "status": "completed"
    },
    "scrolled": false,
    "tags": []
   },
   "outputs": [
    {
     "data": {
      "text/markdown": [
       "## Successful papers"
      ],
      "text/plain": [
       "<IPython.core.display.Markdown object>"
      ]
     },
     "metadata": {},
     "output_type": "display_data"
    },
    {
     "data": {
      "text/markdown": [
       "\n",
       "|||\n",
       "|---:|:---|\n",
       "| [![arXiv](https://img.shields.io/badge/arXiv-arXiv:2401.17764-b31b1b.svg)](https://arxiv.org/abs/arXiv:2401.17764) | **The GRAVITY young stellar object survey XIII. Tracing the time-variable  asymmetric disk structure in the inner AU of the Herbig star HD98922**  |\n",
       "|| G. Collaboration, et al. -- incl., <mark>S. Scheithauer</mark> |\n",
       "|*Appeared on*| *2024-02-01*|\n",
       "|*Comments*| *45 pages, 20 figures, accepted by and to be published in Astronomy & Astrophysics (A&A)*|\n",
       "|**Abstract**| Temporal variability in the photometric and spectroscopic properties of protoplanetary disks is common in YSO. However, evidence pointing toward changes in their morphology over short timescales has only been found for a few sources, mainly due to a lack of high cadence observations at mas resolution. We combine GRAVITY multi-epoch observations of HD98922 at mas resolution with PIONIER archival data covering a total time span of 11 years. We interpret the interferometric visibilities and spectral energy distribution with geometrical models and through radiative transfer techniques. We investigated high-spectral-resolution quantities to obtain information on the properties of the HI BrG-line-emitting region. The observations are best fitted by a model of a crescent-like asymmetric dust feature located at 1 au and accounting for 70% of the NIR emission. The feature has an almost constant magnitude and orbits the central star with a possible sub-Keplerian period of 12 months, although a 9 month period is another, albeit less probable, solution. The radiative transfer models show that the emission originates from a small amount of carbon-rich (25%) silicates, or quantum-heated particles located in a low-density region. Among different possible scenarios, we favor hydrodynamical instabilities in the inner disk that can create a large vortex. The high spectral resolution differential phases in the BrG-line show that the hot-gas component is offset from the star and in some cases is located between the star and the crescent feature. The scale of the emission does not favor magnetospheric accretion as a driving mechanism. The scenario of an asymmetric disk wind or a massive accreting substellar or planetary companion is discussed. With this unique observational data set for HD98922, we reveal morphological variability in the innermost 2 au of its disk region. |"
      ],
      "text/plain": [
       "[arXiv:2401.17764] The GRAVITY young stellar object survey XIII. Tracing the time-variable  asymmetric disk structure in the inner AU of the Herbig star HD98922\n",
       "\tG. Collaboration, et al. -- incl., <mark>S. Scheithauer</mark>"
      ]
     },
     "metadata": {},
     "output_type": "display_data"
    },
    {
     "data": {
      "text/markdown": [
       "## Failed papers"
      ],
      "text/plain": [
       "<IPython.core.display.Markdown object>"
      ]
     },
     "metadata": {},
     "output_type": "display_data"
    },
    {
     "data": {
      "text/markdown": [
       "\n",
       "|||\n",
       "|---:|:---|\n",
       "| [![arXiv](https://img.shields.io/badge/arXiv-arXiv:2401.17525-b31b1b.svg)](https://arxiv.org/abs/arXiv:2401.17525) | **Molecular Bubble and Outflow in S Mon Revealed by Multiband Datasets**  |\n",
       "|| D. Liu, et al. -- incl., <mark>J. Li</mark> |\n",
       "|*Appeared on*| *2024-02-01*|\n",
       "|*Comments*| *34 pages,19 figures, 5 tables, Accepted for publication in ApJ*|\n",
       "|**Abstract**| We identify a molecular bubble, and study the star formation and its feedback in the S Mon region, using multiple molecular lines, young stellar objects (YSOs), and infrared data. We revisit the distance to S Mon, ~722+/-9 pc, using Gaia Data Release 3 parallaxes of the associated Class II YSOs. The bubble may be mainly driven by a massive binary system (namely 15 Mon), the primary of which is an O7V-type star. An outflow is detected in the shell of the bubble, suggesting ongoing star formation activities in the vicinity of the bubble. The total wind energy of the massive binary star is three orders of magnitude higher than the sum of the observed turbulent energy in the molecular gas and the kinetic energy of the bubble, indicating that stellar winds help to maintain the turbulence in the S Mon region and drive the bubble. We conclude that the stellar winds of massive stars have an impact on their surrounding environment. |\n",
       "|<p style=\"color:green\"> **ERROR** </p>| <p style=\"color:green\">affiliation error: mpia.affiliation_verifications: 'Heidelberg' keyword not found.</p> |"
      ],
      "text/plain": [
       "<IPython.core.display.Markdown object>"
      ]
     },
     "metadata": {},
     "output_type": "display_data"
    },
    {
     "data": {
      "text/markdown": [
       "\n",
       "|||\n",
       "|---:|:---|\n",
       "| [![arXiv](https://img.shields.io/badge/arXiv-arXiv:2401.17683-b31b1b.svg)](https://arxiv.org/abs/arXiv:2401.17683) | **Very blue-shifted broad H$α$ in a low redshift Type-1.9 AGN: a disk  emitter or a recoiling black hole scenario**  |\n",
       "|| <mark>X. Zhang</mark> |\n",
       "|*Appeared on*| *2024-02-01*|\n",
       "|*Comments*| *11 pages, 2 tables, 6 figures, Accepted to be published in MNRAS*|\n",
       "|**Abstract**| In this manuscript, very blue-shifted broad H$\\alpha$ with shifted velocity $\\sim$2200km/s is reported in the low redshift Type-1.9 AGN SDSS J1052+1036. Blue-shifted broad emission lines may arise due to the presence of a rotating gas disk around central black hole (BH), but may also be a signature of rare phenomena such as gravitational wave recoil of a supermassive BH (rSMBH) or the presence of a binary BH (BBH) system. Here, due to larger shifted velocity of stronger and wider blue-shifted broad H$\\alpha$, the BBH system is disfavoured. Meanwhile, if this object contained a rSMBH, intrinsic obscuration with E(B-V)$\\le$0.6 should lead to a detectable broad H$\\beta$, indicating the rSMBH scenario not preferred. We find that the blue-shifted broad H$\\alpha$ can be well explained by emission from an AGN disk, indicating that SDSS J1052+1036 is likely a disk-emitting AGN. In order to determine which scenario, a rSMBH or a disk emitter, is more preferred, a re-observed spectrum in 2025 can provide robust clues, with a disk emitter probably leading to clear variations of peak positions, peak separations and/or peak intensity ratios in broad H$\\alpha$, but with a rSMBH scenario probably leading to no variations of peak separations in broad H$\\alpha$. |\n",
       "|<p style=\"color:green\"> **ERROR** </p>| <p style=\"color:green\">affiliation error: mpia.affiliation_verifications: 'Heidelberg' keyword not found.</p> |"
      ],
      "text/plain": [
       "<IPython.core.display.Markdown object>"
      ]
     },
     "metadata": {},
     "output_type": "display_data"
    }
   ],
   "source": [
    "import datetime\n",
    "today = str(datetime.date.today())\n",
    "logfile = f\"_build/html/logs/log-{today}.md\"\n",
    "\n",
    "\n",
    "with open(logfile, 'w') as logs:\n",
    "    # Success\n",
    "    logs.write(f'# Arxiv on Deck 2: Logs - {today}\\n\\n')\n",
    "    logs.write(\"\"\"* Arxiv had {0:,d} new papers\\n\"\"\".format(len(new_papers)))\n",
    "    logs.write(\"\"\"    * {0:,d} with possible author matches\\n\\n\"\"\".format(len(candidates)))\n",
    "    logs.write(\"## Sucessful papers\\n\\n\")\n",
    "    display(Markdown(\"## Successful papers\"))\n",
    "    success = [k[0] for k in documents]\n",
    "    for candid in candidates:\n",
    "        if candid['identifier'].split(':')[-1] in success:\n",
    "            display(candid)\n",
    "            logs.write(candid.generate_markdown_text() + '\\n\\n')\n",
    "\n",
    "    ## failed\n",
    "    logs.write(\"## Failed papers\\n\\n\")\n",
    "    display(Markdown(\"## Failed papers\"))\n",
    "    failed = sorted(failed, key=lambda x: x[1])\n",
    "    current_reason = \"\"\n",
    "    for paper, reason in failed:\n",
    "        if 'affiliation' in reason:\n",
    "            color = 'green'\n",
    "        else:\n",
    "            color = 'red'\n",
    "        data = Markdown(\n",
    "                paper.generate_markdown_text() + \n",
    "                f'\\n|<p style=\"color:{color:s}\"> **ERROR** </p>| <p style=\"color:{color:s}\">{reason:s}</p> |'\n",
    "               )\n",
    "        if reason != current_reason:\n",
    "            logs.write(f'### {reason:s} \\n\\n')\n",
    "            current_reason = reason\n",
    "        logs.write(data.data + '\\n\\n')\n",
    "        \n",
    "        # only display here the important errors (all in logs)\n",
    "        # if color in ('red',):\n",
    "        display(data)"
   ]
  },
  {
   "cell_type": "markdown",
   "id": "472d20ee",
   "metadata": {
    "papermill": {
     "duration": 0.004258,
     "end_time": "2024-02-01T04:10:50.797202",
     "exception": false,
     "start_time": "2024-02-01T04:10:50.792944",
     "status": "completed"
    },
    "tags": []
   },
   "source": [
    "## Export documents\n",
    "\n",
    "We now write the .md files and export relevant images"
   ]
  },
  {
   "cell_type": "code",
   "execution_count": 6,
   "id": "d426aed9",
   "metadata": {
    "execution": {
     "iopub.execute_input": "2024-02-01T04:10:50.806885Z",
     "iopub.status.busy": "2024-02-01T04:10:50.806547Z",
     "iopub.status.idle": "2024-02-01T04:10:50.812746Z",
     "shell.execute_reply": "2024-02-01T04:10:50.812199Z"
    },
    "papermill": {
     "duration": 0.012529,
     "end_time": "2024-02-01T04:10:50.814100",
     "exception": false,
     "start_time": "2024-02-01T04:10:50.801571",
     "status": "completed"
    },
    "tags": []
   },
   "outputs": [],
   "source": [
    "def export_markdown_summary(md: str, md_fname:str, directory: str):\n",
    "    \"\"\"Export MD document and associated relevant images\"\"\"\n",
    "    import os\n",
    "    import shutil\n",
    "    import re\n",
    "\n",
    "    if (os.path.exists(directory) and not os.path.isdir(directory)):\n",
    "        raise RuntimeError(f\"a non-directory file exists with name {directory:s}\")\n",
    "\n",
    "    if (not os.path.exists(directory)):\n",
    "        print(f\"creating directory {directory:s}\")\n",
    "        os.mkdir(directory)\n",
    "\n",
    "    fig_fnames = (re.compile(r'\\[Fig.*\\]\\((.*)\\)').findall(md) + \n",
    "                  re.compile(r'\\<img src=\"([^>\\s]*)\"[^>]*/>').findall(md))\n",
    "    for fname in fig_fnames:\n",
    "        if 'http' in fname:\n",
    "            # No need to copy online figures\n",
    "            continue\n",
    "        destdir = os.path.join(directory, os.path.dirname(fname))\n",
    "        destfname = os.path.join(destdir, os.path.basename(fname))\n",
    "        try:\n",
    "            os.makedirs(destdir)\n",
    "        except FileExistsError:\n",
    "            pass\n",
    "        shutil.copy(fname, destfname)\n",
    "    with open(os.path.join(directory, md_fname), 'w') as fout:\n",
    "        fout.write(md)\n",
    "    print(\"exported in \", os.path.join(directory, md_fname))\n",
    "    [print(\"    + \" + os.path.join(directory,fk)) for fk in fig_fnames]"
   ]
  },
  {
   "cell_type": "code",
   "execution_count": 7,
   "id": "014d04a4",
   "metadata": {
    "execution": {
     "iopub.execute_input": "2024-02-01T04:10:50.823993Z",
     "iopub.status.busy": "2024-02-01T04:10:50.823633Z",
     "iopub.status.idle": "2024-02-01T04:10:50.837609Z",
     "shell.execute_reply": "2024-02-01T04:10:50.837040Z"
    },
    "papermill": {
     "duration": 0.020375,
     "end_time": "2024-02-01T04:10:50.838905",
     "exception": false,
     "start_time": "2024-02-01T04:10:50.818530",
     "status": "completed"
    },
    "tags": []
   },
   "outputs": [
    {
     "name": "stdout",
     "output_type": "stream",
     "text": [
      "exported in  _build/html/2401.17764.md\n",
      "    + _build/html/tmp_2401.17764/./Figures/Gas/GRAVITY_SC-Data/HD98922_SC-data_2017-02-22_PL_L.jpg\n",
      "    + _build/html/tmp_2401.17764/./Figures/Gas/GRAVITY_SC-Data/HD98922_SC-data_2017-03-19_PL_L.jpg\n",
      "    + _build/html/tmp_2401.17764/./Figures/Gas/GRAVITY_SC-Data/HD98922_SC-data_2019-03-19_PL_L.jpg\n",
      "    + _build/html/tmp_2401.17764/./Figures/Gas/GRAVITY_SC-Data/HD98922_SC-data_2019-05-23_PL_L.jpg\n",
      "    + _build/html/tmp_2401.17764/./Figures/Gas/GRAVITY_SC-Data/HD98922_SC-data_2019-06-05_PL.jpg\n",
      "    + _build/html/tmp_2401.17764/./Figures/Gas/GRAVITY_SC-Data/HD98922_SC-data_2019-07-11_PL_L.jpg\n",
      "    + _build/html/tmp_2401.17764/./Figures/Continuum/FT-model/HD98922_Continuum_Model.png\n",
      "    + _build/html/tmp_2401.17764/./Figures/Continuum/RT/HD98922_RT-Model_CS_Final.jpg\n"
     ]
    }
   ],
   "source": [
    "for paper_id, md in documents:\n",
    "    export_markdown_summary(md, f\"{paper_id:s}.md\", '_build/html/')"
   ]
  },
  {
   "cell_type": "markdown",
   "id": "f087a0a7",
   "metadata": {
    "papermill": {
     "duration": 0.004341,
     "end_time": "2024-02-01T04:10:50.847771",
     "exception": false,
     "start_time": "2024-02-01T04:10:50.843430",
     "status": "completed"
    },
    "tags": []
   },
   "source": [
    "## Display the papers\n",
    "\n",
    "Not necessary but allows for a quick check."
   ]
  },
  {
   "cell_type": "code",
   "execution_count": 8,
   "id": "fd25f625",
   "metadata": {
    "execution": {
     "iopub.execute_input": "2024-02-01T04:10:50.857413Z",
     "iopub.status.busy": "2024-02-01T04:10:50.857051Z",
     "iopub.status.idle": "2024-02-01T04:10:50.861508Z",
     "shell.execute_reply": "2024-02-01T04:10:50.860967Z"
    },
    "papermill": {
     "duration": 0.010694,
     "end_time": "2024-02-01T04:10:50.862786",
     "exception": false,
     "start_time": "2024-02-01T04:10:50.852092",
     "status": "completed"
    },
    "scrolled": false,
    "tags": []
   },
   "outputs": [
    {
     "data": {
      "text/markdown": [
       "<div class=\"macros\" style=\"visibility:hidden;\">\n",
       "$\\newcommand{\\ensuremath}{}$\n",
       "$\\newcommand{\\xspace}{}$\n",
       "$\\newcommand{\\object}[1]{\\texttt{#1}}$\n",
       "$\\newcommand{\\farcs}{{.}''}$\n",
       "$\\newcommand{\\farcm}{{.}'}$\n",
       "$\\newcommand{\\arcsec}{''}$\n",
       "$\\newcommand{\\arcmin}{'}$\n",
       "$\\newcommand{\\ion}[2]{#1#2}$\n",
       "$\\newcommand{\\textsc}[1]{\\textrm{#1}}$\n",
       "$\\newcommand{\\hl}[1]{\\textrm{#1}}$\n",
       "$\\newcommand{\\footnote}[1]{}$\n",
       "$\\newcommand{\\kp}[1]{\\textcolor{orange}{\\textbf{Karine: } #1}}$</div>\n",
       "\n",
       "\n",
       "\n",
       "<div id=\"title\">\n",
       "\n",
       "# The GRAVITY young stellar object survey\n",
       "\n",
       "</div>\n",
       "<div id=\"comments\">\n",
       "\n",
       "[![arXiv](https://img.shields.io/badge/arXiv-2401.17764-b31b1b.svg)](https://arxiv.org/abs/2401.17764)<mark>Appeared on: 2024-02-01</mark> -  _45 pages, 20 figures, accepted by and to be published in Astronomy & Astrophysics (A&A)_\n",
       "\n",
       "</div>\n",
       "<div id=\"authors\">\n",
       "\n",
       "G. Collaboration, et al. -- incl., <mark>S. Scheithauer</mark>\n",
       "\n",
       "</div>\n",
       "<div id=\"abstract\">\n",
       "\n",
       "**Abstract:** Temporal variability in the photometric and spectroscopic properties of protoplanetary disks is common in young stellar objects. However, evidence pointing toward changes in their morphology over shorttimescales has only been found for a few sources, mainly due to a lack of high-cadence observations at high angular resolution. Understanding this type of variation could be important for our understanding of phenomena related to disk evolution. We study the morphological variability of the innermost   circumstellar environment of $\\object{HD 98922}$ , focusing on its dust and gas content. Multi-epoch observations of $\\object{HD 98922}$ at milliarcsecond resolution with VLTI/GRAVITY in the K-band at low (R=20) and high (R=4000) spectral resolution are combined with VLTI/PIONIER archival data covering a total time span of 11 years. We interpret the interferometric visibilities and spectral energy distribution with geometrical models and through radiative transfer techniques using the code MCMax. We investigated high-spectral-resolution quantities (visibilities and differential phases)  to obtain information on the properties of the HI Brackett- $\\gamma$ (Br $\\gamma$ )-line-emitting region. Comparing observations taken with similar _(u,$\\varv$)_ plane coverage, we find that the squared visibilities do not vary significantly, whereas we find strong variability in the closure phases, suggesting temporal variations in the asymmetric brightness distribution associated to the disk.   Our observations are best fitted by a model of a crescent-like asymmetric dust feature located at $\\sim$ 1 au and accounting for $\\sim$ 70 \\% of the near-infrared (NIR) emission. The feature has an almost constant magnitude and orbits the central star with a possible sub-Keplerian period of $\\sim$ 12 months, although a 9 month period is another, albeit less probable, solution. The radiative transfer models show that the emission originates from a small amount of carbon-rich ( $25\\%$ ) silicates, or quantum-heated particles located in a low-density region. Among different possible scenarios, we favor hydrodynamical instabilities in the inner disk that can create a large vortex.   The high spectral resolution differential phases in the Br $\\gamma$ line show that the hot-gas compact component is offset from the star and in some cases is located between the star and the crescent feature. The scale of the emission does not favor magnetospheric accretion as a driving mechanism. The scenario of an asymmetric disk wind or a massive accreting substellar or planetary companion is discussed. With this unique observational data set for $\\object{HD 98922}$ , we reveal morphological variability in the innermost 2 au of its disk region. This property is possibly common to many other protoplanetary disks, but is not commonly observed due to a lack of high-cadence observation. It is therefore important to pursue this approach with other sources for which an extended dataset with PIONIER, GRAVITY, and possibly MATISSE is available.\n",
       "\n",
       "</div>\n",
       "\n",
       "<div id=\"div_fig1\">\n",
       "\n",
       "<img src=\"tmp_2401.17764/./Figures/Gas/GRAVITY_SC-Data/HD98922_SC-data_2017-02-22_PL_L.jpg\" alt=\"Fig16.1\" width=\"16%\"/><img src=\"tmp_2401.17764/./Figures/Gas/GRAVITY_SC-Data/HD98922_SC-data_2017-03-19_PL_L.jpg\" alt=\"Fig16.2\" width=\"16%\"/><img src=\"tmp_2401.17764/./Figures/Gas/GRAVITY_SC-Data/HD98922_SC-data_2019-03-19_PL_L.jpg\" alt=\"Fig16.3\" width=\"16%\"/><img src=\"tmp_2401.17764/./Figures/Gas/GRAVITY_SC-Data/HD98922_SC-data_2019-05-23_PL_L.jpg\" alt=\"Fig16.4\" width=\"16%\"/><img src=\"tmp_2401.17764/./Figures/Gas/GRAVITY_SC-Data/HD98922_SC-data_2019-06-05_PL.jpg\" alt=\"Fig16.5\" width=\"16%\"/><img src=\"tmp_2401.17764/./Figures/Gas/GRAVITY_SC-Data/HD98922_SC-data_2019-07-11_PL_L.jpg\" alt=\"Fig16.6\" width=\"16%\"/>\n",
       "\n",
       "**Figure 16. -** $\\object${HD 98922} GRAVITY SC data for the different epochs. For each epoch, top plots show the wavelength-calibrated and continuum-normalized spectrum, left plots show the total squared visibilities, and right plots show the total differential phases. Circles represent the pure-line quantities. Colors refer to the different baselines. (*fig:GRAVITY-SC-Data*)\n",
       "\n",
       "</div>\n",
       "<div id=\"div_fig2\">\n",
       "\n",
       "<img src=\"tmp_2401.17764/./Figures/Continuum/FT-model/HD98922_Continuum_Model.png\" alt=\"Fig6\" width=\"100%\"/>\n",
       "\n",
       "**Figure 6. -** Peak-normalized GRAVITY (top row) and PIONIER (bottom row) continuum model images. The dashed white lines represent the $\\pm$3$\\sigma$ uncertainty on the PA of the azimuthal modulation.\n",
       "The central object is not displayed but is marked with a star to enhance the circumstellar emission. North is up, east is to the left.\n",
       "See Appendix \\ref{sec:visualisation} for the full data set. (*fig:Continuum-imgs*)\n",
       "\n",
       "</div>\n",
       "<div id=\"div_fig3\">\n",
       "\n",
       "<img src=\"tmp_2401.17764/./Figures/Continuum/RT/HD98922_RT-Model_CS_Final.jpg\" alt=\"Fig8\" width=\"100%\"/>\n",
       "\n",
       "**Figure 8. -** Radiative transfer modeling corresponding to Table \\ref{tab:RT-BestModel}. The top left panel shows the SED for Model CS, with the blue dashed line representing the stellar black-body function and the red line showing the modeled total emission. The black bars represent the photometric data. The top right panel shows the derived dust surface density profile as a function of the distance from the star. The bottom left plot shows the dust density structure, where the black dashed line represents the $\\tau$$=$ 1 surface at 2.2 $\\mu$m, and the red lines represent, from left to right and for both components, the density contours at $10^{-15}$, $10^{-16}$, $10^{-17}$, and $10^{-18}$ g cm$^{-3}$, respectively. The bottom right plot shows the dust temperature structure, where the black lines represent, from left to right, the isothermal contours at 2300, 2000, 1700, 1500, and 1300 K, respectively.\n",
       "     (*fig:RT-BestModel*)\n",
       "\n",
       "</div><div id=\"qrcode\"><img src=https://api.qrserver.com/v1/create-qr-code/?size=100x100&data=\"https://arxiv.org/abs/2401.17764\"></div>"
      ],
      "text/plain": [
       "<IPython.core.display.Markdown object>"
      ]
     },
     "metadata": {},
     "output_type": "display_data"
    }
   ],
   "source": [
    "[display(Markdown(k[1])) for k in documents];"
   ]
  },
  {
   "cell_type": "markdown",
   "id": "873873a4",
   "metadata": {
    "papermill": {
     "duration": 0.004655,
     "end_time": "2024-02-01T04:10:50.872326",
     "exception": false,
     "start_time": "2024-02-01T04:10:50.867671",
     "status": "completed"
    },
    "tags": []
   },
   "source": [
    "# Create HTML index"
   ]
  },
  {
   "cell_type": "code",
   "execution_count": 9,
   "id": "cf665672",
   "metadata": {
    "execution": {
     "iopub.execute_input": "2024-02-01T04:10:50.882884Z",
     "iopub.status.busy": "2024-02-01T04:10:50.882440Z",
     "iopub.status.idle": "2024-02-01T04:10:50.891812Z",
     "shell.execute_reply": "2024-02-01T04:10:50.891169Z"
    },
    "papermill": {
     "duration": 0.016263,
     "end_time": "2024-02-01T04:10:50.893132",
     "exception": false,
     "start_time": "2024-02-01T04:10:50.876869",
     "status": "completed"
    },
    "tags": []
   },
   "outputs": [
    {
     "name": "stdout",
     "output_type": "stream",
     "text": [
      "366  publications files modified in the last 7 days.\n"
     ]
    }
   ],
   "source": [
    "from datetime import datetime, timedelta, timezone\n",
    "from glob import glob\n",
    "import os\n",
    "\n",
    "files = glob('_build/html/*.md')\n",
    "days = 7\n",
    "now = datetime.today()\n",
    "res = []\n",
    "for fk in files:\n",
    "    stat_result = os.stat(fk).st_ctime\n",
    "    modified = datetime.fromtimestamp(stat_result, tz=timezone.utc).replace(tzinfo=None)\n",
    "    delta = now.today() - modified\n",
    "    if delta <= timedelta(days=days):\n",
    "        res.append((delta.seconds, fk))\n",
    "res = [k[1] for k in reversed(sorted(res, key=lambda x:x[1]))]\n",
    "npub = len(res)\n",
    "print(len(res), f\" publications files modified in the last {days:d} days.\")\n",
    "# [ print('\\t', k) for k in res ];"
   ]
  },
  {
   "cell_type": "code",
   "execution_count": 10,
   "id": "015de740",
   "metadata": {
    "execution": {
     "iopub.execute_input": "2024-02-01T04:10:50.904026Z",
     "iopub.status.busy": "2024-02-01T04:10:50.903524Z",
     "iopub.status.idle": "2024-02-01T04:10:50.924251Z",
     "shell.execute_reply": "2024-02-01T04:10:50.923609Z"
    },
    "papermill": {
     "duration": 0.02761,
     "end_time": "2024-02-01T04:10:50.925546",
     "exception": false,
     "start_time": "2024-02-01T04:10:50.897936",
     "status": "completed"
    },
    "tags": []
   },
   "outputs": [
    {
     "name": "stdout",
     "output_type": "stream",
     "text": [
      "7  publications in the last 7 days.\n"
     ]
    }
   ],
   "source": [
    "import datetime\n",
    "from glob import glob\n",
    "\n",
    "def get_last_n_days(lst, days=1):\n",
    "    \"\"\" Get the documents from the last n days \"\"\"\n",
    "    sorted_lst = sorted(lst, key=lambda x: x[1], reverse=True)\n",
    "    for fname, date in sorted_lst:\n",
    "        if date >= str(datetime.date.today() - datetime.timedelta(days=days)):\n",
    "            yield fname\n",
    "\n",
    "def extract_appearance_dates(lst_file):\n",
    "    dates = []\n",
    "\n",
    "    def get_date(line):\n",
    "        return line\\\n",
    "            .split('Appeared on:')[-1]\\\n",
    "            .split('</mark>')[0].strip()\n",
    "\n",
    "    for fname in lst:\n",
    "        with open(fname, 'r') as f:\n",
    "            found_date = False\n",
    "            for line in f:\n",
    "                if not found_date:\n",
    "                    if \"Appeared on\" in line:\n",
    "                        found_date = True\n",
    "                        dates.append((fname, get_date(line)))\n",
    "                else:\n",
    "                    break\n",
    "    return dates\n",
    "\n",
    "from glob import glob\n",
    "lst = glob('_build/html/*md')\n",
    "days = 7\n",
    "dates = extract_appearance_dates(lst)\n",
    "res = list(get_last_n_days(dates, days))\n",
    "npub = len(res)\n",
    "print(len(res), f\" publications in the last {days:d} days.\")"
   ]
  },
  {
   "cell_type": "code",
   "execution_count": 11,
   "id": "52ca0208",
   "metadata": {
    "execution": {
     "iopub.execute_input": "2024-02-01T04:10:50.936337Z",
     "iopub.status.busy": "2024-02-01T04:10:50.935986Z",
     "iopub.status.idle": "2024-02-01T04:10:50.940885Z",
     "shell.execute_reply": "2024-02-01T04:10:50.940326Z"
    },
    "papermill": {
     "duration": 0.011763,
     "end_time": "2024-02-01T04:10:50.942208",
     "exception": false,
     "start_time": "2024-02-01T04:10:50.930445",
     "status": "completed"
    },
    "scrolled": false,
    "tags": []
   },
   "outputs": [],
   "source": [
    "def create_carousel(npub=4):\n",
    "    \"\"\" Generate the HTML code for a carousel with `npub` slides \"\"\"\n",
    "    carousel = [\"\"\"  <div class=\"carousel\" \"\"\",\n",
    "                \"\"\"       data-flickity='{ \"autoPlay\": 10000, \"adaptiveHeight\": true, \"resize\": true, \"wrapAround\": true, \"pauseAutoPlayOnHover\": true, \"groupCells\": 1 }' id=\"asyncTypeset\">\"\"\"\n",
    "                ]\n",
    "    \n",
    "    item_str = \"\"\"    <div class=\"carousel-cell\"> <div id=\"slide{k}\" class=\"md_view\">Content {k}</div> </div>\"\"\"\n",
    "    for k in range(1, npub + 1):\n",
    "        carousel.append(item_str.format(k=k))\n",
    "    carousel.append(\"  </div>\")\n",
    "    return '\\n'.join(carousel)\n",
    "\n",
    "def create_grid(npub=4):\n",
    "    \"\"\" Generate the HTML code for a flat grid with `npub` slides \"\"\"\n",
    "    grid = [\"\"\"  <div class=\"grid\"> \"\"\",\n",
    "                ]\n",
    "    \n",
    "    item_str = \"\"\"    <div class=\"grid-item\"> <div id=\"slide{k}\" class=\"md_view\">Content {k}</div> </div>\"\"\"\n",
    "    for k in range(1, npub + 1):\n",
    "        grid.append(item_str.format(k=k))\n",
    "    grid.append(\"  </div>\")\n",
    "    return '\\n'.join(grid)"
   ]
  },
  {
   "cell_type": "code",
   "execution_count": 12,
   "id": "a6eac5b6",
   "metadata": {
    "execution": {
     "iopub.execute_input": "2024-02-01T04:10:50.952993Z",
     "iopub.status.busy": "2024-02-01T04:10:50.952501Z",
     "iopub.status.idle": "2024-02-01T04:10:50.957477Z",
     "shell.execute_reply": "2024-02-01T04:10:50.956869Z"
    },
    "papermill": {
     "duration": 0.011771,
     "end_time": "2024-02-01T04:10:50.958755",
     "exception": false,
     "start_time": "2024-02-01T04:10:50.946984",
     "status": "completed"
    },
    "scrolled": false,
    "tags": []
   },
   "outputs": [],
   "source": [
    "carousel = create_carousel(npub)\n",
    "docs = ', '.join(['\"{0:s}\"'.format(k.split('/')[-1]) for k in res])\n",
    "slides = ', '.join([f'\"slide{k}\"' for k in range(1, npub + 1)])\n",
    "\n",
    "with open(\"daily_template.html\", \"r\") as tpl:\n",
    "    page = tpl.read()\n",
    "    page = page.replace(\"{%-- carousel:s --%}\", carousel)\\\n",
    "               .replace(\"{%-- suptitle:s --%}\",  \"7-day archives\" )\\\n",
    "               .replace(\"{%-- docs:s --%}\", docs)\\\n",
    "               .replace(\"{%-- slides:s --%}\", slides)\n",
    "    \n",
    "with open(\"_build/html/index_7days.html\", 'w') as fout:\n",
    "    fout.write(page)"
   ]
  },
  {
   "cell_type": "code",
   "execution_count": 13,
   "id": "adc1a1ec",
   "metadata": {
    "execution": {
     "iopub.execute_input": "2024-02-01T04:10:50.969451Z",
     "iopub.status.busy": "2024-02-01T04:10:50.969208Z",
     "iopub.status.idle": "2024-02-01T04:10:50.976188Z",
     "shell.execute_reply": "2024-02-01T04:10:50.975606Z"
    },
    "papermill": {
     "duration": 0.013695,
     "end_time": "2024-02-01T04:10:50.977456",
     "exception": false,
     "start_time": "2024-02-01T04:10:50.963761",
     "status": "completed"
    },
    "tags": []
   },
   "outputs": [
    {
     "name": "stdout",
     "output_type": "stream",
     "text": [
      "1  publications in the last day.\n"
     ]
    }
   ],
   "source": [
    "# redo for today\n",
    "days = 1\n",
    "res = list(get_last_n_days(dates, days))\n",
    "npub = len(res)\n",
    "print(len(res), f\" publications in the last day.\")\n",
    "\n",
    "carousel = create_carousel(npub)\n",
    "docs = ', '.join(['\"{0:s}\"'.format(k.split('/')[-1]) for k in res])\n",
    "slides = ', '.join([f'\"slide{k}\"' for k in range(1, npub + 1)])\n",
    "\n",
    "with open(\"daily_template.html\", \"r\") as tpl:\n",
    "    page = tpl.read()\n",
    "    page = page.replace(\"{%-- carousel:s --%}\", carousel)\\\n",
    "               .replace(\"{%-- suptitle:s --%}\",  \"Daily\" )\\\n",
    "               .replace(\"{%-- docs:s --%}\", docs)\\\n",
    "               .replace(\"{%-- slides:s --%}\", slides)\n",
    "    \n",
    "# print(carousel, docs, slides)\n",
    "# print(page)\n",
    "with open(\"_build/html/index_daily.html\", 'w') as fout:\n",
    "    fout.write(page)"
   ]
  },
  {
   "cell_type": "code",
   "execution_count": 14,
   "id": "00eece82",
   "metadata": {
    "execution": {
     "iopub.execute_input": "2024-02-01T04:10:50.988466Z",
     "iopub.status.busy": "2024-02-01T04:10:50.988089Z",
     "iopub.status.idle": "2024-02-01T04:10:50.994464Z",
     "shell.execute_reply": "2024-02-01T04:10:50.993848Z"
    },
    "papermill": {
     "duration": 0.013313,
     "end_time": "2024-02-01T04:10:50.995824",
     "exception": false,
     "start_time": "2024-02-01T04:10:50.982511",
     "status": "completed"
    },
    "scrolled": false,
    "tags": []
   },
   "outputs": [
    {
     "name": "stdout",
     "output_type": "stream",
     "text": [
      "6  6 publications selected.\n"
     ]
    }
   ],
   "source": [
    "# Create the flat grid of the last N papers (fixed number regardless of dates)\n",
    "from itertools import islice \n",
    "\n",
    "npub = 6\n",
    "res = [k[0] for k in (islice(reversed(sorted(dates, key=lambda x: x[1])), 6))]\n",
    "print(len(res), f\" {npub} publications selected.\")\n",
    "\n",
    "grid = create_grid(npub)\n",
    "docs = ', '.join(['\"{0:s}\"'.format(k.split('/')[-1]) for k in res])\n",
    "slides = ', '.join([f'\"slide{k}\"' for k in range(1, npub + 1)])\n",
    "\n",
    "with open(\"grid_template.html\", \"r\") as tpl:\n",
    "    page = tpl.read()\n",
    "    page = page.replace(\"{%-- grid-content:s --%}\", grid)\\\n",
    "               .replace(\"{%-- suptitle:s --%}\",  f\"Last {npub:,d} papers\" )\\\n",
    "               .replace(\"{%-- docs:s --%}\", docs)\\\n",
    "               .replace(\"{%-- slides:s --%}\", slides)\n",
    "    \n",
    "# print(grid, docs, slides)\n",
    "# print(page)\n",
    "with open(\"_build/html/index_npub_grid.html\", 'w') as fout:\n",
    "    fout.write(page)"
   ]
  }
 ],
 "metadata": {
  "kernelspec": {
   "display_name": "Python 3 (ipykernel)",
   "language": "python",
   "name": "python3"
  },
  "language_info": {
   "codemirror_mode": {
    "name": "ipython",
    "version": 3
   },
   "file_extension": ".py",
   "mimetype": "text/x-python",
   "name": "python",
   "nbconvert_exporter": "python",
   "pygments_lexer": "ipython3",
   "version": "3.9.18"
  },
  "papermill": {
   "default_parameters": {},
   "duration": 95.483631,
   "end_time": "2024-02-01T04:10:51.217078",
   "environment_variables": {},
   "exception": null,
   "input_path": "MPIA daily digest.ipynb",
   "output_path": "log.ipynb",
   "parameters": {},
   "start_time": "2024-02-01T04:09:15.733447",
   "version": "2.5.0"
  },
  "vscode": {
   "interpreter": {
    "hash": "aee8b7b246df8f9039afb4144a1f6fd8d2ca17a180786b69acc140d282b71a49"
   }
  },
  "widgets": {
   "application/vnd.jupyter.widget-state+json": {
    "state": {
     "10961652cc024a0c9b8b91f8002cf15e": {
      "model_module": "@jupyter-widgets/base",
      "model_module_version": "2.0.0",
      "model_name": "LayoutModel",
      "state": {
       "_model_module": "@jupyter-widgets/base",
       "_model_module_version": "2.0.0",
       "_model_name": "LayoutModel",
       "_view_count": null,
       "_view_module": "@jupyter-widgets/base",
       "_view_module_version": "2.0.0",
       "_view_name": "LayoutView",
       "align_content": null,
       "align_items": null,
       "align_self": null,
       "border_bottom": null,
       "border_left": null,
       "border_right": null,
       "border_top": null,
       "bottom": null,
       "display": null,
       "flex": null,
       "flex_flow": null,
       "grid_area": null,
       "grid_auto_columns": null,
       "grid_auto_flow": null,
       "grid_auto_rows": null,
       "grid_column": null,
       "grid_gap": null,
       "grid_row": null,
       "grid_template_areas": null,
       "grid_template_columns": null,
       "grid_template_rows": null,
       "height": null,
       "justify_content": null,
       "justify_items": null,
       "left": null,
       "margin": null,
       "max_height": null,
       "max_width": null,
       "min_height": null,
       "min_width": null,
       "object_fit": null,
       "object_position": null,
       "order": null,
       "overflow": null,
       "padding": null,
       "right": null,
       "top": null,
       "visibility": null,
       "width": null
      }
     },
     "1199f88084e64d9ab301c9d86ad60bd1": {
      "model_module": "@jupyter-widgets/base",
      "model_module_version": "2.0.0",
      "model_name": "LayoutModel",
      "state": {
       "_model_module": "@jupyter-widgets/base",
       "_model_module_version": "2.0.0",
       "_model_name": "LayoutModel",
       "_view_count": null,
       "_view_module": "@jupyter-widgets/base",
       "_view_module_version": "2.0.0",
       "_view_name": "LayoutView",
       "align_content": null,
       "align_items": null,
       "align_self": null,
       "border_bottom": null,
       "border_left": null,
       "border_right": null,
       "border_top": null,
       "bottom": null,
       "display": null,
       "flex": null,
       "flex_flow": null,
       "grid_area": null,
       "grid_auto_columns": null,
       "grid_auto_flow": null,
       "grid_auto_rows": null,
       "grid_column": null,
       "grid_gap": null,
       "grid_row": null,
       "grid_template_areas": null,
       "grid_template_columns": null,
       "grid_template_rows": null,
       "height": null,
       "justify_content": null,
       "justify_items": null,
       "left": null,
       "margin": null,
       "max_height": null,
       "max_width": null,
       "min_height": null,
       "min_width": null,
       "object_fit": null,
       "object_position": null,
       "order": null,
       "overflow": null,
       "padding": null,
       "right": null,
       "top": null,
       "visibility": null,
       "width": null
      }
     },
     "2414b998eb294e22bd74d417611a3966": {
      "model_module": "@jupyter-widgets/controls",
      "model_module_version": "2.0.0",
      "model_name": "HTMLStyleModel",
      "state": {
       "_model_module": "@jupyter-widgets/controls",
       "_model_module_version": "2.0.0",
       "_model_name": "HTMLStyleModel",
       "_view_count": null,
       "_view_module": "@jupyter-widgets/base",
       "_view_module_version": "2.0.0",
       "_view_name": "StyleView",
       "background": null,
       "description_width": "",
       "font_size": null,
       "text_color": null
      }
     },
     "4ee8f9d02cb5407b990fcbe5d1a23707": {
      "model_module": "@jupyter-widgets/base",
      "model_module_version": "2.0.0",
      "model_name": "LayoutModel",
      "state": {
       "_model_module": "@jupyter-widgets/base",
       "_model_module_version": "2.0.0",
       "_model_name": "LayoutModel",
       "_view_count": null,
       "_view_module": "@jupyter-widgets/base",
       "_view_module_version": "2.0.0",
       "_view_name": "LayoutView",
       "align_content": null,
       "align_items": null,
       "align_self": null,
       "border_bottom": null,
       "border_left": null,
       "border_right": null,
       "border_top": null,
       "bottom": null,
       "display": null,
       "flex": null,
       "flex_flow": null,
       "grid_area": null,
       "grid_auto_columns": null,
       "grid_auto_flow": null,
       "grid_auto_rows": null,
       "grid_column": null,
       "grid_gap": null,
       "grid_row": null,
       "grid_template_areas": null,
       "grid_template_columns": null,
       "grid_template_rows": null,
       "height": null,
       "justify_content": null,
       "justify_items": null,
       "left": null,
       "margin": null,
       "max_height": null,
       "max_width": null,
       "min_height": null,
       "min_width": null,
       "object_fit": null,
       "object_position": null,
       "order": null,
       "overflow": null,
       "padding": null,
       "right": null,
       "top": null,
       "visibility": null,
       "width": null
      }
     },
     "6e908c70d2a5498795a58943ac3d2c44": {
      "model_module": "@jupyter-widgets/controls",
      "model_module_version": "2.0.0",
      "model_name": "HBoxModel",
      "state": {
       "_dom_classes": [],
       "_model_module": "@jupyter-widgets/controls",
       "_model_module_version": "2.0.0",
       "_model_name": "HBoxModel",
       "_view_count": null,
       "_view_module": "@jupyter-widgets/controls",
       "_view_module_version": "2.0.0",
       "_view_name": "HBoxView",
       "box_style": "",
       "children": [
        "IPY_MODEL_dc37e02fe2804835a36f1b70dab139d8",
        "IPY_MODEL_c40f52bce4ea4eb59052ca2a56dbc324",
        "IPY_MODEL_a6cd3e2031194263a55a4644d81e3162"
       ],
       "layout": "IPY_MODEL_10961652cc024a0c9b8b91f8002cf15e",
       "tabbable": null,
       "tooltip": null
      }
     },
     "70ed2e38c4b9489c9a86f3cff42e5743": {
      "model_module": "@jupyter-widgets/base",
      "model_module_version": "2.0.0",
      "model_name": "LayoutModel",
      "state": {
       "_model_module": "@jupyter-widgets/base",
       "_model_module_version": "2.0.0",
       "_model_name": "LayoutModel",
       "_view_count": null,
       "_view_module": "@jupyter-widgets/base",
       "_view_module_version": "2.0.0",
       "_view_name": "LayoutView",
       "align_content": null,
       "align_items": null,
       "align_self": null,
       "border_bottom": null,
       "border_left": null,
       "border_right": null,
       "border_top": null,
       "bottom": null,
       "display": null,
       "flex": null,
       "flex_flow": null,
       "grid_area": null,
       "grid_auto_columns": null,
       "grid_auto_flow": null,
       "grid_auto_rows": null,
       "grid_column": null,
       "grid_gap": null,
       "grid_row": null,
       "grid_template_areas": null,
       "grid_template_columns": null,
       "grid_template_rows": null,
       "height": null,
       "justify_content": null,
       "justify_items": null,
       "left": null,
       "margin": null,
       "max_height": null,
       "max_width": null,
       "min_height": null,
       "min_width": null,
       "object_fit": null,
       "object_position": null,
       "order": null,
       "overflow": null,
       "padding": null,
       "right": null,
       "top": null,
       "visibility": null,
       "width": null
      }
     },
     "7a8ce2db09ba45adb65851fd3670d707": {
      "model_module": "@jupyter-widgets/controls",
      "model_module_version": "2.0.0",
      "model_name": "HTMLStyleModel",
      "state": {
       "_model_module": "@jupyter-widgets/controls",
       "_model_module_version": "2.0.0",
       "_model_name": "HTMLStyleModel",
       "_view_count": null,
       "_view_module": "@jupyter-widgets/base",
       "_view_module_version": "2.0.0",
       "_view_name": "StyleView",
       "background": null,
       "description_width": "",
       "font_size": null,
       "text_color": null
      }
     },
     "7ddaeb6e31564270ac47400b28b98781": {
      "model_module": "@jupyter-widgets/controls",
      "model_module_version": "2.0.0",
      "model_name": "ProgressStyleModel",
      "state": {
       "_model_module": "@jupyter-widgets/controls",
       "_model_module_version": "2.0.0",
       "_model_name": "ProgressStyleModel",
       "_view_count": null,
       "_view_module": "@jupyter-widgets/base",
       "_view_module_version": "2.0.0",
       "_view_name": "StyleView",
       "bar_color": null,
       "description_width": ""
      }
     },
     "a6cd3e2031194263a55a4644d81e3162": {
      "model_module": "@jupyter-widgets/controls",
      "model_module_version": "2.0.0",
      "model_name": "HTMLModel",
      "state": {
       "_dom_classes": [],
       "_model_module": "@jupyter-widgets/controls",
       "_model_module_version": "2.0.0",
       "_model_name": "HTMLModel",
       "_view_count": null,
       "_view_module": "@jupyter-widgets/controls",
       "_view_module_version": "2.0.0",
       "_view_name": "HTMLView",
       "description": "",
       "description_allow_html": false,
       "layout": "IPY_MODEL_4ee8f9d02cb5407b990fcbe5d1a23707",
       "placeholder": "​",
       "style": "IPY_MODEL_7a8ce2db09ba45adb65851fd3670d707",
       "tabbable": null,
       "tooltip": null,
       "value": " 3/3 [01:14&lt;00:00, 30.69s/it]"
      }
     },
     "c40f52bce4ea4eb59052ca2a56dbc324": {
      "model_module": "@jupyter-widgets/controls",
      "model_module_version": "2.0.0",
      "model_name": "FloatProgressModel",
      "state": {
       "_dom_classes": [],
       "_model_module": "@jupyter-widgets/controls",
       "_model_module_version": "2.0.0",
       "_model_name": "FloatProgressModel",
       "_view_count": null,
       "_view_module": "@jupyter-widgets/controls",
       "_view_module_version": "2.0.0",
       "_view_name": "ProgressView",
       "bar_style": "success",
       "description": "",
       "description_allow_html": false,
       "layout": "IPY_MODEL_1199f88084e64d9ab301c9d86ad60bd1",
       "max": 3.0,
       "min": 0.0,
       "orientation": "horizontal",
       "style": "IPY_MODEL_7ddaeb6e31564270ac47400b28b98781",
       "tabbable": null,
       "tooltip": null,
       "value": 3.0
      }
     },
     "dc37e02fe2804835a36f1b70dab139d8": {
      "model_module": "@jupyter-widgets/controls",
      "model_module_version": "2.0.0",
      "model_name": "HTMLModel",
      "state": {
       "_dom_classes": [],
       "_model_module": "@jupyter-widgets/controls",
       "_model_module_version": "2.0.0",
       "_model_name": "HTMLModel",
       "_view_count": null,
       "_view_module": "@jupyter-widgets/controls",
       "_view_module_version": "2.0.0",
       "_view_name": "HTMLView",
       "description": "",
       "description_allow_html": false,
       "layout": "IPY_MODEL_70ed2e38c4b9489c9a86f3cff42e5743",
       "placeholder": "​",
       "style": "IPY_MODEL_2414b998eb294e22bd74d417611a3966",
       "tabbable": null,
       "tooltip": null,
       "value": "100%"
      }
     }
    },
    "version_major": 2,
    "version_minor": 0
   }
  }
 },
 "nbformat": 4,
 "nbformat_minor": 5
}