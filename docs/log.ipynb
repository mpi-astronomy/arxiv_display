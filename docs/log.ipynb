{
 "cells": [
  {
   "cell_type": "markdown",
   "id": "92bcb855",
   "metadata": {
    "papermill": {
     "duration": 0.00365,
     "end_time": "2025-05-14T04:14:58.547618",
     "exception": false,
     "start_time": "2025-05-14T04:14:58.543968",
     "status": "completed"
    },
    "tags": []
   },
   "source": [
    "# MPIA Arxiv on Deck 2\n",
    "\n",
    "Contains the steps to produce the paper extractions."
   ]
  },
  {
   "cell_type": "code",
   "execution_count": 1,
   "id": "3a0d6e11",
   "metadata": {
    "execution": {
     "iopub.execute_input": "2025-05-14T04:14:58.554897Z",
     "iopub.status.busy": "2025-05-14T04:14:58.554682Z",
     "iopub.status.idle": "2025-05-14T04:14:59.038846Z",
     "shell.execute_reply": "2025-05-14T04:14:59.038205Z"
    },
    "papermill": {
     "duration": 0.489126,
     "end_time": "2025-05-14T04:14:59.040220",
     "exception": false,
     "start_time": "2025-05-14T04:14:58.551094",
     "status": "completed"
    },
    "tags": []
   },
   "outputs": [],
   "source": [
    "# Imports\n",
    "import os\n",
    "from IPython.display import Markdown, display\n",
    "from tqdm.notebook import tqdm\n",
    "import warnings\n",
    "from PIL import Image \n",
    "import re\n",
    "\n",
    "# requires arxiv_on_deck_2\n",
    "\n",
    "from arxiv_on_deck_2.arxiv2 import (get_new_papers, \n",
    "                                    get_paper_from_identifier,\n",
    "                                    retrieve_document_source, \n",
    "                                    get_markdown_badge)\n",
    "from arxiv_on_deck_2 import (latex,\n",
    "                             latex_bib,\n",
    "                             mpia,\n",
    "                             highlight_authors_in_list)\n",
    "\n",
    "# Sometimes images are really big\n",
    "Image.MAX_IMAGE_PIXELS = 1000000000 "
   ]
  },
  {
   "cell_type": "code",
   "execution_count": 2,
   "id": "22aa9d44",
   "metadata": {
    "execution": {
     "iopub.execute_input": "2025-05-14T04:14:59.047612Z",
     "iopub.status.busy": "2025-05-14T04:14:59.047148Z",
     "iopub.status.idle": "2025-05-14T04:14:59.055163Z",
     "shell.execute_reply": "2025-05-14T04:14:59.054527Z"
    },
    "papermill": {
     "duration": 0.012745,
     "end_time": "2025-05-14T04:14:59.056189",
     "exception": false,
     "start_time": "2025-05-14T04:14:59.043444",
     "status": "completed"
    },
    "tags": []
   },
   "outputs": [],
   "source": [
    "# Some useful definitions.\n",
    "\n",
    "class AffiliationWarning(UserWarning):\n",
    "    pass\n",
    "\n",
    "class AffiliationError(RuntimeError):\n",
    "    pass\n",
    "\n",
    "def validation(source: str):\n",
    "    \"\"\"Raises error paper during parsing of source file\n",
    "    \n",
    "    Allows checks before parsing TeX code.\n",
    "    \n",
    "    Raises AffiliationWarning\n",
    "    \"\"\"\n",
    "    check = mpia.affiliation_verifications(source, verbose=True)\n",
    "    if check is not True:\n",
    "        raise AffiliationError(\"mpia.affiliation_verifications: \" + check)\n",
    "\n",
    "        \n",
    "warnings.simplefilter('always', AffiliationWarning)\n",
    "\n",
    "\n",
    "def get_markdown_qrcode(paper_id: str):\n",
    "    \"\"\" Generate a qrcode to the arxiv page using qrserver.com\n",
    "    \n",
    "    :param paper: Arxiv paper\n",
    "    :returns: markdown text\n",
    "    \"\"\"\n",
    "    url = r\"https://api.qrserver.com/v1/create-qr-code/?size=100x100&data=\"\n",
    "    txt = f\"\"\"<img src={url}\"https://arxiv.org/abs/{paper_id}\">\"\"\"\n",
    "    txt = '<div id=\"qrcode\">' + txt + '</div>'\n",
    "    return txt\n",
    "\n",
    "\n",
    "def clean_non_western_encoded_characters_commands(text: str) -> str:\n",
    "    \"\"\" Remove non-western encoded characters from a string\n",
    "    List may need to grow.\n",
    "    \n",
    "    :param text: the text to clean\n",
    "    :return: the cleaned text\n",
    "    \"\"\"\n",
    "    text = re.sub(r\"(\\\\begin{CJK}{UTF8}{gbsn})(.*?)(\\\\end{CJK})\", r\"\\2\", text)\n",
    "    return text\n",
    "\n",
    "\n",
    "def get_initials(name: str) -> str:\n",
    "    \"\"\" Get the short name, e.g., A.-B. FamName\n",
    "    :param name: full name\n",
    "    :returns: initials\n",
    "    \"\"\"\n",
    "    initials = []\n",
    "    # account for non western names often in ()\n",
    "    if '(' in name:\n",
    "        name = clean_non_western_encoded_characters_commands(name)\n",
    "        suffix = re.findall(r\"\\((.*?)\\)\", name)[0]\n",
    "        name = name.replace(f\"({suffix})\", '')\n",
    "    else:\n",
    "        suffix = ''\n",
    "    split = name.split()\n",
    "    for token in split[:-1]:\n",
    "        if '-' in token:\n",
    "            current = '-'.join([k[0] + '.' for k in token.split('-')])\n",
    "        else:\n",
    "            current = token[0] + '.'\n",
    "        initials.append(current)\n",
    "    initials.append(split[-1].strip())\n",
    "    if suffix:\n",
    "        initials.append(f\"({suffix})\")\n",
    "    return ' '.join(initials)"
   ]
  },
  {
   "cell_type": "markdown",
   "id": "14bd6310",
   "metadata": {
    "papermill": {
     "duration": 0.002834,
     "end_time": "2025-05-14T04:14:59.061994",
     "exception": false,
     "start_time": "2025-05-14T04:14:59.059160",
     "status": "completed"
    },
    "tags": []
   },
   "source": [
    "## get list of arxiv paper candidates\n",
    "\n",
    "We use the MPIA mitarbeiter list webpage from mpia.de to get author names\n",
    "We then get all new papers from Arxiv and match authors"
   ]
  },
  {
   "cell_type": "code",
   "execution_count": 3,
   "id": "7ea813a8",
   "metadata": {
    "execution": {
     "iopub.execute_input": "2025-05-14T04:14:59.068903Z",
     "iopub.status.busy": "2025-05-14T04:14:59.068469Z",
     "iopub.status.idle": "2025-05-14T04:15:21.745106Z",
     "shell.execute_reply": "2025-05-14T04:15:21.744402Z"
    },
    "papermill": {
     "duration": 22.681536,
     "end_time": "2025-05-14T04:15:21.746437",
     "exception": false,
     "start_time": "2025-05-14T04:14:59.064901",
     "status": "completed"
    },
    "tags": []
   },
   "outputs": [],
   "source": [
    "# deal with the author list and edge cases of people that cannot be consistent on their name  \n",
    "\n",
    "def filter_non_scientists(name: str) -> bool:\n",
    "    \"\"\" Loose filter on expected authorships\n",
    "\n",
    "    removing IT, administration, technical staff\n",
    "    :param name: name\n",
    "    :returns: False if name is not a scientist\n",
    "    \"\"\"\n",
    "    remove_list = ['Licht', 'Binroth', 'Witzel', 'Jordan',\n",
    "                   'Zähringer', 'Scheerer', 'Hoffmann', 'Düe',\n",
    "                   'Hellmich', 'Enkler-Scharpegge', 'Witte-Nguy',\n",
    "                   'Dehen', 'Beckmann', 'Jager', 'Jäger'\n",
    "                  ]\n",
    "\n",
    "    for k in remove_list:\n",
    "        if k in name:\n",
    "            return False\n",
    "    return True\n",
    "\n",
    "def add_author_to_list(author_list: list) -> list:\n",
    "    \"\"\" Add author to list if not already in list\n",
    "    \n",
    "    :param author: author name\n",
    "    :param author_list: list of authors\n",
    "    :returns: updated list of authors\n",
    "    \"\"\"\n",
    "    add_list = ['T. Henning']\n",
    "\n",
    "    for author in add_list:\n",
    "        if author not in author_list:\n",
    "            author_list.append(author)\n",
    "    return author_list\n",
    "\n",
    "# get list from MPIA website\n",
    "# filter for non-scientists (mpia.get_mpia_mitarbeiter_list() does some filtering)\n",
    "mpia_authors = [k[1] for k in mpia.get_mpia_mitarbeiter_list() if filter_non_scientists(k[1])]\n",
    "# add some missing author because of inconsistencies in their MPIA name and author name on papers\n",
    "mpia_authors = add_author_to_list(mpia_authors)"
   ]
  },
  {
   "cell_type": "code",
   "execution_count": 4,
   "id": "2645e73a",
   "metadata": {
    "execution": {
     "iopub.execute_input": "2025-05-14T04:15:21.753713Z",
     "iopub.status.busy": "2025-05-14T04:15:21.753370Z",
     "iopub.status.idle": "2025-05-14T04:15:22.581537Z",
     "shell.execute_reply": "2025-05-14T04:15:22.580831Z"
    },
    "papermill": {
     "duration": 0.832866,
     "end_time": "2025-05-14T04:15:22.582632",
     "exception": false,
     "start_time": "2025-05-14T04:15:21.749766",
     "status": "completed"
    },
    "tags": []
   },
   "outputs": [
    {
     "name": "stdout",
     "output_type": "stream",
     "text": [
      "E. Bañados  ->  E. Bañados  |  ['E. Bañados']\n",
      "S. Belladitta  ->  S. Belladitta  |  ['S. Belladitta']\n",
      "J. Wolf  ->  D. J. Wolf  |  ['J. Wolf']\n",
      "S. Torniamenti  ->  S. Torniamenti  |  ['S. Torniamenti']\n",
      "H. Beuther  ->  H. Beuther  |  ['H. Beuther']\n",
      "C. Gieser  ->  C. Gieser  |  ['C. Gieser']\n",
      "G. Perotti  ->  G. Perotti  |  ['G. Perotti']\n",
      "T. Henning  ->  T. Henning  |  ['T. Henning']\n"
     ]
    },
    {
     "name": "stdout",
     "output_type": "stream",
     "text": [
      "Arxiv has 63 new papers today\n",
      "          3 with possible author matches\n"
     ]
    }
   ],
   "source": [
    "new_papers = get_new_papers()\n",
    "# add manual references\n",
    "add_paper_refs = []\n",
    "new_papers.extend([get_paper_from_identifier(k) for k in add_paper_refs])\n",
    "\n",
    "def robust_call(fn, value, *args, **kwargs):\n",
    "    try:\n",
    "        return fn(value, *args, **kwargs)\n",
    "    except Exception:\n",
    "        return value\n",
    "\n",
    "candidates = []\n",
    "for paperk in new_papers:\n",
    "    # Check author list with their initials\n",
    "    normed_author_list = [robust_call(mpia.get_initials, k) for k in paperk['authors']]\n",
    "    hl_authors = highlight_authors_in_list(normed_author_list, mpia_authors, verbose=True)\n",
    "    matches = [(hl, orig) for hl, orig in zip(hl_authors, paperk['authors']) if 'mark' in hl]\n",
    "    paperk['authors'] = hl_authors\n",
    "    if matches:\n",
    "        # only select paper if an author matched our list\n",
    "        candidates.append(paperk)\n",
    "print(\"\"\"Arxiv has {0:,d} new papers today\"\"\".format(len(new_papers)))        \n",
    "print(\"\"\"          {0:,d} with possible author matches\"\"\".format(len(candidates)))"
   ]
  },
  {
   "cell_type": "markdown",
   "id": "3543b34a",
   "metadata": {
    "papermill": {
     "duration": 0.003022,
     "end_time": "2025-05-14T04:15:22.589108",
     "exception": false,
     "start_time": "2025-05-14T04:15:22.586086",
     "status": "completed"
    },
    "tags": []
   },
   "source": [
    "# Parse sources and generate relevant outputs\n",
    "\n",
    "From the candidates, we do the following steps:\n",
    "* get their tarball from ArXiv (and extract data)\n",
    "* find the main .tex file: find one with \\documentclass{...} (sometimes it's non trivial)\n",
    "* Check affiliations with :func:`validation`, which uses :func:`mpia.affiliation_verifications`\n",
    "* If passing the affiliations: we parse the .tex source\n",
    "   * inject sub-documents into the main (flatten the main document)\n",
    "   * parse structure, extract information (title, abstract, authors, figures...)\n",
    "   * handles `\\graphicspath` if provided\n",
    "* Generate the .md document."
   ]
  },
  {
   "cell_type": "code",
   "execution_count": 5,
   "id": "9576b79e",
   "metadata": {
    "execution": {
     "iopub.execute_input": "2025-05-14T04:15:22.596178Z",
     "iopub.status.busy": "2025-05-14T04:15:22.595941Z",
     "iopub.status.idle": "2025-05-14T04:16:50.197527Z",
     "shell.execute_reply": "2025-05-14T04:16:50.196768Z"
    },
    "papermill": {
     "duration": 87.60979,
     "end_time": "2025-05-14T04:16:50.202013",
     "exception": false,
     "start_time": "2025-05-14T04:15:22.592223",
     "status": "completed"
    },
    "scrolled": false,
    "tags": []
   },
   "outputs": [
    {
     "data": {
      "application/vnd.jupyter.widget-view+json": {
       "model_id": "df822da4fd17419b95a1f140cacbb92b",
       "version_major": 2,
       "version_minor": 0
      },
      "text/plain": [
       "  0%|          | 0/3 [00:00<?, ?it/s]"
      ]
     },
     "metadata": {},
     "output_type": "display_data"
    },
    {
     "name": "stdout",
     "output_type": "stream",
     "text": [
      "Retrieving document from  https://arxiv.org/e-print/2505.07932\n"
     ]
    },
    {
     "name": "stdout",
     "output_type": "stream",
     "text": [
      "extracting tarball to tmp_2505.07932..."
     ]
    },
    {
     "name": "stdout",
     "output_type": "stream",
     "text": [
      " done.\n"
     ]
    },
    {
     "name": "stderr",
     "output_type": "stream",
     "text": [
      "/opt/hostedtoolcache/Python/3.9.22/x64/lib/python3.9/site-packages/IPython/core/interactiveshell.py:3550: LatexWarning: Multiple tex files.\n",
      "\n",
      "  exec(code_obj, self.user_global_ns, self.user_ns)\n",
      "/opt/hostedtoolcache/Python/3.9.22/x64/lib/python3.9/site-packages/IPython/core/interactiveshell.py:3550: LatexWarning: Found documentclass in tmp_2505.07932/main.tex\n",
      "\n",
      "  exec(code_obj, self.user_global_ns, self.user_ns)\n",
      "/opt/hostedtoolcache/Python/3.9.22/x64/lib/python3.9/site-packages/arxiv_on_deck_2/latex.py:414: LatexWarning: Latex injecting: 'photo_z_info' from 'tmp_2505.07932/photo_z_info.tex'\n",
      "  warnings.warn(LatexWarning(f\"Latex injecting: '{ext}' from '{subsource}'\"))\n",
      "/opt/hostedtoolcache/Python/3.9.22/x64/lib/python3.9/site-packages/arxiv_on_deck_2/latex.py:414: LatexWarning: Latex injecting: 'sel_photometric_info' from 'tmp_2505.07932/sel_photometric_info.tex'\n",
      "  warnings.warn(LatexWarning(f\"Latex injecting: '{ext}' from '{subsource}'\"))\n",
      "/opt/hostedtoolcache/Python/3.9.22/x64/lib/python3.9/site-packages/arxiv_on_deck_2/latex.py:414: LatexWarning: Latex injecting: 'overdensity_table' from 'tmp_2505.07932/overdensity_table.tex'\n",
      "  warnings.warn(LatexWarning(f\"Latex injecting: '{ext}' from '{subsource}'\"))\n",
      "/opt/hostedtoolcache/Python/3.9.22/x64/lib/python3.9/site-packages/arxiv_on_deck_2/latex.py:414: LatexWarning: Latex injecting: 'data_table' from 'tmp_2505.07932/data_table.tex'\n",
      "  warnings.warn(LatexWarning(f\"Latex injecting: '{ext}' from '{subsource}'\"))\n",
      "/opt/hostedtoolcache/Python/3.9.22/x64/lib/python3.9/site-packages/arxiv_on_deck_2/latex.py:414: LatexWarning: Latex injecting: 'authors' from 'tmp_2505.07932/authors.tex'\n",
      "  warnings.warn(LatexWarning(f\"Latex injecting: '{ext}' from '{subsource}'\"))\n"
     ]
    },
    {
     "name": "stdout",
     "output_type": "stream",
     "text": [
      "E. Bañados  ->  E. Bañados  |  ['E. Bañados']\n",
      "S. Belladitta  ->  S. Belladitta  |  ['S. Belladitta']\n",
      "J. Wolf  ->  D. J. Wolf  |  ['J. Wolf']\n"
     ]
    },
    {
     "name": "stdout",
     "output_type": "stream",
     "text": [
      "Found 114 bibliographic references in tmp_2505.07932/main.bbl.\n",
      "Retrieving document from  https://arxiv.org/e-print/2505.07959\n"
     ]
    },
    {
     "name": "stdout",
     "output_type": "stream",
     "text": [
      "extracting tarball to tmp_2505.07959... done.\n"
     ]
    },
    {
     "name": "stdout",
     "output_type": "stream",
     "text": [
      "S. Torniamenti  ->  S. Torniamenti  |  ['S. Torniamenti']\n"
     ]
    },
    {
     "name": "stderr",
     "output_type": "stream",
     "text": [
      "/opt/hostedtoolcache/Python/3.9.22/x64/lib/python3.9/site-packages/arxiv_on_deck_2/latex.py:132: LatexWarning: attempting recovering figure Figure/pisn_rate_density_comp_2\n",
      "  warnings.warn(LatexWarning(f'attempting recovering figure {image}'))\n",
      "/opt/hostedtoolcache/Python/3.9.22/x64/lib/python3.9/site-packages/arxiv_on_deck_2/latex.py:137: LatexWarning: Recovered figure Figure/pisn_rate_density_comp_2 as tmp_2505.07959/./Figure/pisn_rate_density_comp_2.pdf\n",
      "  warnings.warn(LatexWarning(f'Recovered figure {image} as {fname}'))\n"
     ]
    },
    {
     "name": "stderr",
     "output_type": "stream",
     "text": [
      "/opt/hostedtoolcache/Python/3.9.22/x64/lib/python3.9/site-packages/arxiv_on_deck_2/latex.py:132: LatexWarning: attempting recovering figure Figure/He_mass_2x2\n",
      "  warnings.warn(LatexWarning(f'attempting recovering figure {image}'))\n",
      "/opt/hostedtoolcache/Python/3.9.22/x64/lib/python3.9/site-packages/arxiv_on_deck_2/latex.py:137: LatexWarning: Recovered figure Figure/He_mass_2x2 as tmp_2505.07959/./Figure/He_mass_2x2.pdf\n",
      "  warnings.warn(LatexWarning(f'Recovered figure {image} as {fname}'))\n"
     ]
    },
    {
     "name": "stderr",
     "output_type": "stream",
     "text": [
      "/opt/hostedtoolcache/Python/3.9.22/x64/lib/python3.9/site-packages/arxiv_on_deck_2/latex.py:132: LatexWarning: attempting recovering figure Figure/pisn_rate_density_new_2\n",
      "  warnings.warn(LatexWarning(f'attempting recovering figure {image}'))\n",
      "/opt/hostedtoolcache/Python/3.9.22/x64/lib/python3.9/site-packages/arxiv_on_deck_2/latex.py:137: LatexWarning: Recovered figure Figure/pisn_rate_density_new_2 as tmp_2505.07959/./Figure/pisn_rate_density_new_2.pdf\n",
      "  warnings.warn(LatexWarning(f'Recovered figure {image} as {fname}'))\n"
     ]
    },
    {
     "name": "stdout",
     "output_type": "stream",
     "text": [
      "Found 132 bibliographic references in tmp_2505.07959/main.bbl.\n",
      "Retrieving document from  https://arxiv.org/e-print/2505.08002\n"
     ]
    },
    {
     "name": "stdout",
     "output_type": "stream",
     "text": [
      "extracting tarball to tmp_2505.08002..."
     ]
    },
    {
     "name": "stdout",
     "output_type": "stream",
     "text": [
      " done.\n"
     ]
    },
    {
     "name": "stdout",
     "output_type": "stream",
     "text": [
      "H. Beuther  ->  H. Beuther  |  ['H. Beuther']\n",
      "C. Gieser  ->  C. Gieser  |  ['C. Gieser']\n",
      "G. Perotti  ->  G. Perotti  |  ['G. Perotti']\n",
      "T. Henning  ->  T. Henning  |  ['T. Henning']\n"
     ]
    },
    {
     "name": "stdout",
     "output_type": "stream",
     "text": [
      "Found 466 bibliographic references in tmp_2505.08002/aa54444-25.bbl.\n",
      "Issues with the citations\n",
      "syntax error in line 172: '=' expected\n"
     ]
    }
   ],
   "source": [
    "documents = []\n",
    "failed = []\n",
    "for paper in tqdm(candidates):\n",
    "    # debug crap\n",
    "    paper['identifier'] = paper['identifier'].lower().replace('arxiv:', '').replace(r'\\n', '').strip()\n",
    "    paper_id = paper['identifier']\n",
    "    \n",
    "    folder = f'tmp_{paper_id}'\n",
    "\n",
    "    try:\n",
    "        if not os.path.isdir(folder):\n",
    "            folder = retrieve_document_source(f\"{paper_id}\", f'tmp_{paper_id}')\n",
    "        \n",
    "        try:\n",
    "            doc = latex.LatexDocument(folder, validation=validation)    \n",
    "        except AffiliationError as affilerror:\n",
    "            msg = f\"ArXiv:{paper_id:s} is not an MPIA paper... \" + str(affilerror)\n",
    "            failed.append((paper, \"affiliation error: \" + str(affilerror) ))\n",
    "            continue\n",
    "        \n",
    "        # Hack because sometimes author parsing does not work well\n",
    "        if (len(doc.authors) != len(paper['authors'])):\n",
    "            doc._authors = paper['authors']\n",
    "        else:\n",
    "            # highlight authors (FIXME: doc.highlight_authors)\n",
    "            # done on arxiv paper already\n",
    "            doc._authors = highlight_authors_in_list(\n",
    "                [get_initials(k) for k in doc.authors], \n",
    "                mpia_authors, verbose=True)\n",
    "        if (doc.abstract) in (None, ''):\n",
    "            doc._abstract = paper['abstract']\n",
    "            \n",
    "        doc.comment = (get_markdown_badge(paper_id) + \n",
    "                       \"<mark>Appeared on: \" + paper['date'] + \"</mark> - \")\n",
    "        if paper['comments']:\n",
    "            doc.comment += \" _\" + paper['comments'] + \"_\"\n",
    "        \n",
    "        full_md = doc.generate_markdown_text()\n",
    "        \n",
    "        full_md += get_markdown_qrcode(paper_id)\n",
    "        \n",
    "        # replace citations\n",
    "        try:\n",
    "            bibdata = latex_bib.LatexBib.from_doc(doc)\n",
    "            full_md = latex_bib.replace_citations(full_md, bibdata)\n",
    "        except Exception as e:\n",
    "            print(\"Issues with the citations\")\n",
    "            print(e)\n",
    "        \n",
    "        documents.append((paper_id, full_md))\n",
    "    except Exception as e:\n",
    "        warnings.warn(latex.LatexWarning(f\"{paper_id:s} did not run properly\\n\" +\n",
    "                                         str(e)\n",
    "                                        ))\n",
    "        failed.append((paper, \"latex error \" + str(e)))"
   ]
  },
  {
   "cell_type": "markdown",
   "id": "2505a25c",
   "metadata": {
    "papermill": {
     "duration": 0.003969,
     "end_time": "2025-05-14T04:16:50.210113",
     "exception": false,
     "start_time": "2025-05-14T04:16:50.206144",
     "status": "completed"
    },
    "tags": []
   },
   "source": [
    "### Export the logs\n",
    "\n",
    "Throughout, we also keep track of the logs per paper. see `logs-{today date}.md` "
   ]
  },
  {
   "cell_type": "code",
   "execution_count": 6,
   "id": "d733828a",
   "metadata": {
    "execution": {
     "iopub.execute_input": "2025-05-14T04:16:50.219006Z",
     "iopub.status.busy": "2025-05-14T04:16:50.218710Z",
     "iopub.status.idle": "2025-05-14T04:16:50.232542Z",
     "shell.execute_reply": "2025-05-14T04:16:50.231886Z"
    },
    "papermill": {
     "duration": 0.019543,
     "end_time": "2025-05-14T04:16:50.233615",
     "exception": false,
     "start_time": "2025-05-14T04:16:50.214072",
     "status": "completed"
    },
    "scrolled": false,
    "tags": []
   },
   "outputs": [
    {
     "data": {
      "text/markdown": [
       "## Successful papers"
      ],
      "text/plain": [
       "<IPython.core.display.Markdown object>"
      ]
     },
     "metadata": {},
     "output_type": "display_data"
    },
    {
     "data": {
      "text/markdown": [
       "\n",
       "|||\n",
       "|---:|:---|\n",
       "| [![arXiv](https://img.shields.io/badge/arXiv-2505.07932-b31b1b.svg)](https://arxiv.org/abs/2505.07932) | **Lyman-Break Galaxies in the Mpc-Scale Environments Around Three $z\\sim7.5$ Quasars With JWST Imaging**  |\n",
       "|| M. Pudoka, et al. -- incl., <mark>E. Bañados</mark>, <mark>S. Belladitta</mark>, <mark>J. Wolf</mark> |\n",
       "|*Appeared on*| *2025-05-14*|\n",
       "|*Comments*| *31 Pages, 10 Figures, Accepted by ApJ*|\n",
       "|**Abstract**|            We study the Mpc-scale environments of the three highest redshift luminous quasars at $z\\geq 7.5$ (J031343.84-180636.40, J134208.11+092838.61, and J100758.27+211529.21) to understand their connection to large-scale structure. Cosmological simulations show that these early supermassive black holes (SMBHs) are expected to form in the most massive dark matter halos. Therefore, it is expected that they are anchors of galaxy overdensities if luminous matter traces the underlying dark matter structure of the Universe. Using JWST NIRCam (F090W/F115W/F250M/F360M/F430M) imaging, we observe the large-scale structure out to $\\sim13$ comoving Mpc around these quasars. We select F090W-dropout Lyman Break galaxies (LBGs) and F430M-excess [OIII] emitters in the three fields. We find 18, 21, and 6 LBG candidates in the fields of J0313, J1342, and J1007, respectively, resulting in a wide range of overdensities ($1+\\delta \\sim 19,\\,24,$ and $7$). The photometric redshifts indicate serendipitous foreground and background overdensities in the J0313 field. The joint angular autocorrelation of the combined LBG sample shows significant clustering on $<1.8$ comoving Mpc scales, demonstrating that the selected galaxies are likely associated with the large-scale structure surrounding the quasars. This first systematic study of $z\\sim 7.5$ quasars shows a diverse set of quasar environments at the onset of their formation, providing empirical data to help constrain theoretical predictions of early structure formation.         |"
      ],
      "text/plain": [
       "[2505.07932] Lyman-Break Galaxies in the Mpc-Scale Environments Around Three $z\\sim7.5$ Quasars With JWST Imaging\n",
       "\tM. Pudoka, et al. -- incl., <mark>E. Bañados</mark>, <mark>S. Belladitta</mark>, <mark>J. Wolf</mark>"
      ]
     },
     "metadata": {},
     "output_type": "display_data"
    },
    {
     "data": {
      "text/markdown": [
       "\n",
       "|||\n",
       "|---:|:---|\n",
       "| [![arXiv](https://img.shields.io/badge/arXiv-2505.07959-b31b1b.svg)](https://arxiv.org/abs/2505.07959) | **Impact of stellar winds on the pair-instability supernova rate**  |\n",
       "|| F. Simonato, et al. -- incl., <mark>S. Torniamenti</mark> |\n",
       "|*Appeared on*| *2025-05-14*|\n",
       "|*Comments*| *12 pages, 10 figures, 2 tables. Comments welcome*|\n",
       "|**Abstract**|            Very massive stars (VMSs, $M_{\\star}$ $\\geq$ 100 M$_{\\odot}$) play a crucial role in several astrophysical processes. At low metallicity, they might collapse directly into black holes, or end their lives as pair-instability supernovae. Recent observational results set an upper limit of $0.7\\,{}\\mathrm{ yr}^{-1} \\,{}\\mathrm{ Gpc}^{-3}$ on the rate density of pair-instability supernovae in the nearby Universe. However, most theoretical models predict rates exceeding this limit. Here, we compute new VMS tracks with the MESA code, and use them to analyze the evolution of the (pulsational) pair-instability supernova rate density across cosmic time. We show that stellar wind models accounting for the transition between optically thin and thick winds yield a pair-instability supernova rate $\\mathcal{R}_{\\mathrm{PISN}}\\sim{}0.1$ Gpc$^{-3}$ yr$^{-1}$ at redshift $z\\sim{}0$, about two orders of magnitude lower than our previous models. We find that the main contribution to the pair-instability supernova rate comes from stars with metallicity $Z\\sim{}0.001-0.002$. Stars with higher metallicities cannot enter the pair-instability supernova regime, even if their zero-age main sequence mass is up to 500 M$_\\odot$. The main reason is that VMSs enter the regime for optically thick winds during the main sequence at metallicity as low as $Z\\sim{4}\\times{}10^{-4}$. This enhances the mass loss rate, quenching the growth of the He core and thus preventing the onset of pair-instability in later evolutionary stages. This result highlights the critical role of mass loss in shaping the final fate of very massive stars and the rate of pair-instability supernovae.         |"
      ],
      "text/plain": [
       "[2505.07959] Impact of stellar winds on the pair-instability supernova rate\n",
       "\tF. Simonato, et al. -- incl., <mark>S. Torniamenti</mark>"
      ]
     },
     "metadata": {},
     "output_type": "display_data"
    },
    {
     "data": {
      "text/markdown": [
       "\n",
       "|||\n",
       "|---:|:---|\n",
       "| [![arXiv](https://img.shields.io/badge/arXiv-2505.08002-b31b1b.svg)](https://arxiv.org/abs/2505.08002) | **JWST Observations of Young protoStars (JOYS): overview of program and early results**  |\n",
       "|| E. v. Dishoeck, et al. -- incl., <mark>H. Beuther</mark>, <mark>C. Gieser</mark>, <mark>G. Perotti</mark>, <mark>T. Henning</mark> |\n",
       "|*Appeared on*| *2025-05-14*|\n",
       "|*Comments*| *47 pages, 28 + 7 figures, A&A, in press*|\n",
       "|**Abstract**|            The embedded phase is a crucial period in the development of a young star. Mid-IR observations, now possible with JWST with unprecedented sensitivity, spectral resolution and sharpness are key for probing many physical and chemical processes on sub-arcsecond scales. JOYS addresses a wide variety of questions, from protostellar accretion and the nature of primeval jets, winds and outflows, to the chemistry of gas and ice, and the characteristics of embedded disks. We introduce the program and show representative results. MIRI-MRS data of 17 low-mass and 6 high-mass protostars show a wide variety of features. Atomic line maps differ among refractory (e.g., Fe), semi-refractory (e.g., S) and volatile elements (e.g., Ne), linked to their different levels of depletion and local (shock) conditions. Nested, stratified jet structures consisting of an inner ionized core seen in [Fe II] with an outer H2 layer are commonly seen. Wide-angle winds are found in low-J H2 lines. [S I] follows the jet in the youngest protostars, but is concentrated on source when more evolved. [Ne II] reveals a mix of jet shock and photoionized emission. H I lines measure accretion, but are also associated with jets. Molecular emission (CO2, C2H2, HCN, H2O, ..) is cool compared with disks, and likely associated with hot cores. Deep ice absorption features reveal not just the major ice components but also ions (as part of salts) and complex organic molecules, with comparable abundances from low- to high-mass sources. A second detection of HDO ice in a solar-mass source is presented with HDO/H2O ~ 0.4%, providing a link with disks and comets. A deep search for solid O2 suggests it is not a significant oxygen reservoir. Only few embedded Class I disks show the same forest of water lines as Class II disks do, perhaps due to significant dust extinction of the upper layers [abridged].         |"
      ],
      "text/plain": [
       "[2505.08002] JWST Observations of Young protoStars (JOYS): overview of program and early results\n",
       "\tE. v. Dishoeck, et al. -- incl., <mark>H. Beuther</mark>, <mark>C. Gieser</mark>, <mark>G. Perotti</mark>, <mark>T. Henning</mark>"
      ]
     },
     "metadata": {},
     "output_type": "display_data"
    },
    {
     "data": {
      "text/markdown": [
       "## Failed papers"
      ],
      "text/plain": [
       "<IPython.core.display.Markdown object>"
      ]
     },
     "metadata": {},
     "output_type": "display_data"
    }
   ],
   "source": [
    "import datetime\n",
    "today = str(datetime.date.today())\n",
    "logfile = f\"_build/html/logs/log-{today}.md\"\n",
    "\n",
    "\n",
    "with open(logfile, 'w') as logs:\n",
    "    # Success\n",
    "    logs.write(f'# Arxiv on Deck 2: Logs - {today}\\n\\n')\n",
    "    logs.write(\"\"\"* Arxiv had {0:,d} new papers\\n\"\"\".format(len(new_papers)))\n",
    "    logs.write(\"\"\"    * {0:,d} with possible author matches\\n\\n\"\"\".format(len(candidates)))\n",
    "    logs.write(\"## Sucessful papers\\n\\n\")\n",
    "    display(Markdown(\"## Successful papers\"))\n",
    "    success = [k[0] for k in documents]\n",
    "    for candid in candidates:\n",
    "        if candid['identifier'].split(':')[-1] in success:\n",
    "            display(candid)\n",
    "            logs.write(candid.generate_markdown_text() + '\\n\\n')\n",
    "\n",
    "    ## failed\n",
    "    logs.write(\"## Failed papers\\n\\n\")\n",
    "    display(Markdown(\"## Failed papers\"))\n",
    "    failed = sorted(failed, key=lambda x: x[1])\n",
    "    current_reason = \"\"\n",
    "    for paper, reason in failed:\n",
    "        if 'affiliation' in reason:\n",
    "            color = 'green'\n",
    "        else:\n",
    "            color = 'red'\n",
    "        data = Markdown(\n",
    "                paper.generate_markdown_text() + \n",
    "                f'\\n|<p style=\"color:{color:s}\"> **ERROR** </p>| <p style=\"color:{color:s}\">{reason:s}</p> |'\n",
    "               )\n",
    "        if reason != current_reason:\n",
    "            logs.write(f'### {reason:s} \\n\\n')\n",
    "            current_reason = reason\n",
    "        logs.write(data.data + '\\n\\n')\n",
    "        \n",
    "        # only display here the important errors (all in logs)\n",
    "        # if color in ('red',):\n",
    "        display(data)"
   ]
  },
  {
   "cell_type": "markdown",
   "id": "472d20ee",
   "metadata": {
    "papermill": {
     "duration": 0.004338,
     "end_time": "2025-05-14T04:16:50.242509",
     "exception": false,
     "start_time": "2025-05-14T04:16:50.238171",
     "status": "completed"
    },
    "tags": []
   },
   "source": [
    "## Export documents\n",
    "\n",
    "We now write the .md files and export relevant images"
   ]
  },
  {
   "cell_type": "code",
   "execution_count": 7,
   "id": "d426aed9",
   "metadata": {
    "execution": {
     "iopub.execute_input": "2025-05-14T04:16:50.252349Z",
     "iopub.status.busy": "2025-05-14T04:16:50.251877Z",
     "iopub.status.idle": "2025-05-14T04:16:50.258586Z",
     "shell.execute_reply": "2025-05-14T04:16:50.258059Z"
    },
    "papermill": {
     "duration": 0.01271,
     "end_time": "2025-05-14T04:16:50.259600",
     "exception": false,
     "start_time": "2025-05-14T04:16:50.246890",
     "status": "completed"
    },
    "tags": []
   },
   "outputs": [],
   "source": [
    "def export_markdown_summary(md: str, md_fname:str, directory: str):\n",
    "    \"\"\"Export MD document and associated relevant images\"\"\"\n",
    "    import os\n",
    "    import shutil\n",
    "    import re\n",
    "\n",
    "    if (os.path.exists(directory) and not os.path.isdir(directory)):\n",
    "        raise RuntimeError(f\"a non-directory file exists with name {directory:s}\")\n",
    "\n",
    "    if (not os.path.exists(directory)):\n",
    "        print(f\"creating directory {directory:s}\")\n",
    "        os.mkdir(directory)\n",
    "\n",
    "    fig_fnames = (re.compile(r'\\[Fig.*\\]\\((.*)\\)').findall(md) + \n",
    "                  re.compile(r'\\<img src=\"([^>\\s]*)\"[^>]*/>').findall(md))\n",
    "    print(\"found figures\", fig_fnames)\n",
    "    for fname in fig_fnames:\n",
    "        if 'http' in fname:\n",
    "            # No need to copy online figures\n",
    "            continue\n",
    "        if not os.path.exists(fname):\n",
    "            print(\"file not found\", fname)\n",
    "            continue\n",
    "        print(\"copying \", fname, \"to\", directory)\n",
    "        destdir = os.path.join(directory, os.path.dirname(fname))\n",
    "        destfname = os.path.join(destdir, os.path.basename(fname))\n",
    "        try:\n",
    "            os.makedirs(destdir)\n",
    "        except FileExistsError:\n",
    "            pass\n",
    "        shutil.copy(fname, destfname)\n",
    "    with open(os.path.join(directory, md_fname), 'w') as fout:\n",
    "        fout.write(md)\n",
    "    print(\"exported in \", os.path.join(directory, md_fname))\n",
    "    [print(\"    + \" + os.path.join(directory,fk)) for fk in fig_fnames]"
   ]
  },
  {
   "cell_type": "code",
   "execution_count": 8,
   "id": "014d04a4",
   "metadata": {
    "execution": {
     "iopub.execute_input": "2025-05-14T04:16:50.270118Z",
     "iopub.status.busy": "2025-05-14T04:16:50.269718Z",
     "iopub.status.idle": "2025-05-14T04:16:50.280339Z",
     "shell.execute_reply": "2025-05-14T04:16:50.279808Z"
    },
    "papermill": {
     "duration": 0.017193,
     "end_time": "2025-05-14T04:16:50.281405",
     "exception": false,
     "start_time": "2025-05-14T04:16:50.264212",
     "status": "completed"
    },
    "tags": []
   },
   "outputs": [
    {
     "name": "stdout",
     "output_type": "stream",
     "text": [
      "found figures ['tmp_2505.07932/./cutouts/cutout_J0313_586.png', 'tmp_2505.07932/./cutouts/cutout_J0313_734.png', 'tmp_2505.07932/./cutouts/cutout_J0313_1554.png', 'tmp_2505.07932/./cutouts/cutout_J0313_1555.png', 'tmp_2505.07932/./cutouts/cutout_J0313_2075.png', 'tmp_2505.07932/./ACF_combine_fields_revised.png', 'tmp_2505.07932/./template_dropout.png']\n",
      "copying  tmp_2505.07932/./cutouts/cutout_J0313_586.png to _build/html/\n",
      "copying  tmp_2505.07932/./cutouts/cutout_J0313_734.png to _build/html/\n",
      "copying  tmp_2505.07932/./cutouts/cutout_J0313_1554.png to _build/html/\n",
      "copying  tmp_2505.07932/./cutouts/cutout_J0313_1555.png to _build/html/\n",
      "copying  tmp_2505.07932/./cutouts/cutout_J0313_2075.png to _build/html/\n",
      "copying  tmp_2505.07932/./ACF_combine_fields_revised.png to _build/html/\n",
      "copying  tmp_2505.07932/./template_dropout.png to _build/html/\n",
      "exported in  _build/html/2505.07932.md\n",
      "    + _build/html/tmp_2505.07932/./cutouts/cutout_J0313_586.png\n",
      "    + _build/html/tmp_2505.07932/./cutouts/cutout_J0313_734.png\n",
      "    + _build/html/tmp_2505.07932/./cutouts/cutout_J0313_1554.png\n",
      "    + _build/html/tmp_2505.07932/./cutouts/cutout_J0313_1555.png\n",
      "    + _build/html/tmp_2505.07932/./cutouts/cutout_J0313_2075.png\n",
      "    + _build/html/tmp_2505.07932/./ACF_combine_fields_revised.png\n",
      "    + _build/html/tmp_2505.07932/./template_dropout.png\n",
      "found figures ['tmp_2505.07959/./Figure/contour_sv_pc.png', 'tmp_2505.07959/./Figure/pisn_rate_density_new_2.png', 'tmp_2505.07959/./Figure/contour_sv_pc_old.png']\n",
      "copying  tmp_2505.07959/./Figure/contour_sv_pc.png to _build/html/\n",
      "copying  tmp_2505.07959/./Figure/pisn_rate_density_new_2.png to _build/html/\n",
      "copying  tmp_2505.07959/./Figure/contour_sv_pc_old.png to _build/html/\n",
      "exported in  _build/html/2505.07959.md\n",
      "    + _build/html/tmp_2505.07959/./Figure/contour_sv_pc.png\n",
      "    + _build/html/tmp_2505.07959/./Figure/pisn_rate_density_new_2.png\n",
      "    + _build/html/tmp_2505.07959/./Figure/contour_sv_pc_old.png\n",
      "found figures ['tmp_2505.08002/./JOYS_Fig2a.png', 'tmp_2505.08002/./JOYS_Fig2b.png', 'tmp_2505.08002/./JOYS_Fig1.png', 'tmp_2505.08002/./JOYS_Fig10.png']\n",
      "copying  tmp_2505.08002/./JOYS_Fig2a.png to _build/html/\n",
      "copying  tmp_2505.08002/./JOYS_Fig2b.png to _build/html/\n",
      "copying  tmp_2505.08002/./JOYS_Fig1.png to _build/html/\n",
      "copying  tmp_2505.08002/./JOYS_Fig10.png to _build/html/\n",
      "exported in  _build/html/2505.08002.md\n",
      "    + _build/html/tmp_2505.08002/./JOYS_Fig2a.png\n",
      "    + _build/html/tmp_2505.08002/./JOYS_Fig2b.png\n",
      "    + _build/html/tmp_2505.08002/./JOYS_Fig1.png\n",
      "    + _build/html/tmp_2505.08002/./JOYS_Fig10.png\n"
     ]
    }
   ],
   "source": [
    "for paper_id, md in documents:\n",
    "    export_markdown_summary(md, f\"{paper_id:s}.md\", '_build/html/')"
   ]
  },
  {
   "cell_type": "markdown",
   "id": "f087a0a7",
   "metadata": {
    "papermill": {
     "duration": 0.00453,
     "end_time": "2025-05-14T04:16:50.290518",
     "exception": false,
     "start_time": "2025-05-14T04:16:50.285988",
     "status": "completed"
    },
    "tags": []
   },
   "source": [
    "## Display the papers\n",
    "\n",
    "Not necessary but allows for a quick check."
   ]
  },
  {
   "cell_type": "code",
   "execution_count": 9,
   "id": "fd25f625",
   "metadata": {
    "execution": {
     "iopub.execute_input": "2025-05-14T04:16:50.300639Z",
     "iopub.status.busy": "2025-05-14T04:16:50.300219Z",
     "iopub.status.idle": "2025-05-14T04:16:50.307344Z",
     "shell.execute_reply": "2025-05-14T04:16:50.306708Z"
    },
    "papermill": {
     "duration": 0.013344,
     "end_time": "2025-05-14T04:16:50.308418",
     "exception": false,
     "start_time": "2025-05-14T04:16:50.295074",
     "status": "completed"
    },
    "scrolled": false,
    "tags": []
   },
   "outputs": [
    {
     "data": {
      "text/markdown": [
       "<div class=\"macros\" style=\"visibility:hidden;\">\n",
       "$\\newcommand{\\ensuremath}{}$\n",
       "$\\newcommand{\\xspace}{}$\n",
       "$\\newcommand{\\object}[1]{\\texttt{#1}}$\n",
       "$\\newcommand{\\farcs}{{.}''}$\n",
       "$\\newcommand{\\farcm}{{.}'}$\n",
       "$\\newcommand{\\arcsec}{''}$\n",
       "$\\newcommand{\\arcmin}{'}$\n",
       "$\\newcommand{\\ion}[2]{#1#2}$\n",
       "$\\newcommand{\\textsc}[1]{\\textrm{#1}}$\n",
       "$\\newcommand{\\hl}[1]{\\textrm{#1}}$\n",
       "$\\newcommand{\\footnote}[1]{}$\n",
       "$\\newcommand{\\vdag}{(v)^\\dagger}$\n",
       "$\\newcommand$\n",
       "$\\newcommand$\n",
       "$\\newcommand{\\rb}[1]{\\textbf{\\textcolor{red}{#1}}}$</div>\n",
       "\n",
       "\n",
       "\n",
       "<div id=\"title\">\n",
       "\n",
       "# Lyman-Break Galaxies in the Mpc-Scale Environments Around Three $z\\sim 7.5$ Quasars With JWST Imaging\n",
       "\n",
       "</div>\n",
       "<div id=\"comments\">\n",
       "\n",
       "[![arXiv](https://img.shields.io/badge/arXiv-2505.07932-b31b1b.svg)](https://arxiv.org/abs/2505.07932)<mark>Appeared on: 2025-05-14</mark> -  _31 Pages, 10 Figures, Accepted by ApJ_\n",
       "\n",
       "</div>\n",
       "<div id=\"authors\">\n",
       "\n",
       "M. Pudoka, et al. -- incl., <mark>E. Bañados</mark>, <mark>S. Belladitta</mark>, <mark>J. Wolf</mark>\n",
       "\n",
       "</div>\n",
       "<div id=\"abstract\">\n",
       "\n",
       "**Abstract:** We study the Mpc-scale environments of the three highest redshift luminous quasars at $z\\geq 7.5$ (J031343.84-180636.40, J134208.11+092838.61, and J100758.27+211529.21) to understand their connection to large-scale structure.  Cosmological simulations show that these early supermassive black holes (SMBHs) are expected to form in the most massive dark matter halos.  Therefore, it is expected that they are anchors of galaxy overdensities if luminous matter traces the underlying dark matter structure of the Universe. Using JWST NIRCam (F090W/F115W/F250M/F360M/F430M)imaging, we observe the large-scale structure out to $\\sim13$ comoving Mpc around these quasars.  We select F090W-dropout Lyman Break galaxies (LBGs) and F430M-excess [ $\\ion{O}{3}$ ] emitters in the three fields.  We find 18, 21, and 6LBG candidates in the fields of J0313, J1342, and J1007, respectively,  resulting in a wide range of overdensities ( $1+\\delta \\sim 19, 24,$ and $7$ ).  The photometric redshifts indicate serendipitous foreground and background overdensities in the J0313 field.  The joint angular autocorrelation of the combined LBG sample shows significant clustering on $<1.8$ comoving Mpc scales, demonstrating that the selected galaxies are likely associated with the large-scale structure surrounding the quasars.  This first systematic study of $z\\sim 7.5$ quasars shows a diverse set of quasar environments at the onset of their formation, providing empirical data to help constrain theoretical predictions of early structure formation.\n",
       "\n",
       "</div>\n",
       "\n",
       "<div id=\"div_fig1\">\n",
       "\n",
       "<img src=\"tmp_2505.07932/./cutouts/cutout_J0313_586.png\" alt=\"Fig4.1\" width=\"20%\"/><img src=\"tmp_2505.07932/./cutouts/cutout_J0313_734.png\" alt=\"Fig4.2\" width=\"20%\"/><img src=\"tmp_2505.07932/./cutouts/cutout_J0313_1554.png\" alt=\"Fig4.3\" width=\"20%\"/><img src=\"tmp_2505.07932/./cutouts/cutout_J0313_1555.png\" alt=\"Fig4.4\" width=\"20%\"/><img src=\"tmp_2505.07932/./cutouts/cutout_J0313_2075.png\" alt=\"Fig4.5\" width=\"20%\"/>\n",
       "\n",
       "**Figure 4. -** Cutouts of each selected LBG candidate. Each panel is a $2\\times2$ arcminute cutout in the F090W, F115W, F250M, F360M, and F430M filters from left to right with magnitudes shown in the top left of each panel (a red background means it is not detected and replaced by the $2\\sigma$ limit). Crosshairs are to guide the eye and each cutout color is normalized separately to account for the large dynamical range of flux in each filter. (*fig:cut1*)\n",
       "\n",
       "</div>\n",
       "<div id=\"div_fig2\">\n",
       "\n",
       "<img src=\"tmp_2505.07932/./ACF_combine_fields_revised.png\" alt=\"Fig3\" width=\"100%\"/>\n",
       "\n",
       "**Figure 3. -** The Landy-Szalay estimated angular ACF for the combined fields shown as blue markers. Errors along the x-axis are the bin sizes while y-axis errors show the Poisson errors described in the text.  Open circles show the ACF for randomly distributed sources within the field consistent with zero.  The solid blue line shows the MCMC fit within the constrained bin range excluding the largest and smallest bins ($\\beta=1.5$) while the dashed section shows the fit results extrapolated to the full range of the data.  The shaded regions represents the 16th and 84th percentiles of the posterior distribution of $A_{\\omega}$.  In magenta is the same best fit keeping $\\beta = 0.8$.  (*fig:acfplot*)\n",
       "\n",
       "</div>\n",
       "<div id=\"div_fig3\">\n",
       "\n",
       "<img src=\"tmp_2505.07932/./template_dropout.png\" alt=\"Fig12\" width=\"100%\"/>\n",
       "\n",
       "**Figure 12. -** _Left:_ Transmission curves of the NIRCam filters used in this analysis are shaded in grey with the  rest-optical spectrum of a galaxy selected from the JAGUAR suite of galaxy templates redshifted to $z=7.5$ is shown in blue. The three black vertical ticks show the H$\\beta$ line and [$\\ion${O}{3}] doublet from left to right.  In magenta is a representative L-type brown dwarf from the Sonora brown dwarf models with $T_{\\rm eff} = 1100$ K and (F090W-F115W, F115W-F250M)$=(2.03, -2.41)$.  _Right:_ Color vs redshift for the JAGUAR galaxy templates from $z=6$ to $z=9$ calculated using the reported F090W and F115W fluxes in the catalog taking into account the image depths.  Using only galaxy templates that are detected in F115W, the blue shaded region shows the 1$\\sigma$ spread in color values in bins containing an equal number of galaxies.  The solid line shows the average value in each bin.  The grey region shows the dropout selection criteria of F090W-F115W$>$1.5 while the black dashed line shows F090W-F115W=2 discussed in the text. (*fig:dropout*)\n",
       "\n",
       "</div><div id=\"qrcode\"><img src=https://api.qrserver.com/v1/create-qr-code/?size=100x100&data=\"https://arxiv.org/abs/2505.07932\"></div>"
      ],
      "text/plain": [
       "<IPython.core.display.Markdown object>"
      ]
     },
     "metadata": {},
     "output_type": "display_data"
    },
    {
     "data": {
      "text/markdown": [
       "<div class=\"macros\" style=\"visibility:hidden;\">\n",
       "$\\newcommand{\\ensuremath}{}$\n",
       "$\\newcommand{\\xspace}{}$\n",
       "$\\newcommand{\\object}[1]{\\texttt{#1}}$\n",
       "$\\newcommand{\\farcs}{{.}''}$\n",
       "$\\newcommand{\\farcm}{{.}'}$\n",
       "$\\newcommand{\\arcsec}{''}$\n",
       "$\\newcommand{\\arcmin}{'}$\n",
       "$\\newcommand{\\ion}[2]{#1#2}$\n",
       "$\\newcommand{\\textsc}[1]{\\textrm{#1}}$\n",
       "$\\newcommand{\\hl}[1]{\\textrm{#1}}$\n",
       "$\\newcommand{\\footnote}[1]{}$\n",
       "$\\newcommand{\\ST}[1]{\\textcolor{steelblue!100}{#1_{\\mathrm{ST}}}}$</div>\n",
       "\n",
       "\n",
       "\n",
       "<div id=\"title\">\n",
       "\n",
       "# Impact of stellar winds on the pair-instability supernova rate\n",
       "\n",
       "</div>\n",
       "<div id=\"comments\">\n",
       "\n",
       "[![arXiv](https://img.shields.io/badge/arXiv-2505.07959-b31b1b.svg)](https://arxiv.org/abs/2505.07959)<mark>Appeared on: 2025-05-14</mark> -  _12 pages, 10 figures, 2 tables. Comments welcome_\n",
       "\n",
       "</div>\n",
       "<div id=\"authors\">\n",
       "\n",
       "F. Simonato, et al. -- incl., <mark>S. Torniamenti</mark>\n",
       "\n",
       "</div>\n",
       "<div id=\"abstract\">\n",
       "\n",
       "**Abstract:** Very massive stars (VMSs, $M_{\\star}$ $\\geq$ 100 M $_{\\odot}$ ) play a crucial role in several astrophysical processes. At low metallicity, they might   collapse directly into black holes, or end their lives as pair-instability supernovae.      Recent observational results set an upper limit of $0.7  \\mathrm{ yr}^{-1}   \\mathrm{ Gpc}^{-3}$ on the  rate density of pair-instability supernovae in the nearby Universe. However, most theoretical models predict rates  exceeding this limit.      Here, we compute new VMS tracks with the mesa code, and use them to analyze the evolution of the (pulsational) pair-instability supernova rate density across cosmic time.   We show that stellar wind models accounting for the transition between optically thin and  thick winds  yield a pair-instability supernova rate $\\mathcal{R}_{\\mathrm{PISN}}\\sim 0.1$ Gpc $^{-3}$ yr $^{-1}$ at redshift $z\\sim 0$ , about two orders of magnitude lower than our previous models. We find that the main contribution to the pair-instability supernova rate comes from stars with metallicity $Z\\sim 0.001-0.002$ . Stars with higher metallicities cannot enter the pair-instability supernova regime, even if their zero-age main sequence mass is up to 500 M $_\\odot$ . The main reason is that VMSs enter the regime for optically thick winds during the main sequence at metallicity as low as $Z\\sim{4}\\times 10^{-4}$ . This enhances the mass loss rate, quenching the growth of the He core and thus preventing the onset of pair-instability in later evolutionary stages.   This result highlights the critical role of mass loss  in shaping the final fate of very massive stars and the rate of pair-instability supernovae.\n",
       "\n",
       "</div>\n",
       "\n",
       "<div id=\"div_fig1\">\n",
       "\n",
       "<img src=\"tmp_2505.07959/./Figure/contour_sv_pc.png\" alt=\"Fig2\" width=\"100%\"/>\n",
       "\n",
       "**Figure 2. -** Contour plot showing the He core masses at the end of the He burning for our mesa tracks adopting \\protect\\citetalias{Sabhahit2023} winds  as a function of the metallicity and ZAMS mass. The white lines highlight the levels at $32 \\protect\\text{M}_{\\odot}$, $ 64 \\protect\\text{ M}_{\\odot}$ and $135 \\protect\\text{ M}_{\\odot}$, which set the boundaries to have PPISNe, PISNe, and direct collapse via photodisintegration. (*fig:He_mass_cont*)\n",
       "\n",
       "</div>\n",
       "<div id=\"div_fig2\">\n",
       "\n",
       "<img src=\"tmp_2505.07959/./Figure/pisn_rate_density_new_2.png\" alt=\"Fig9\" width=\"100%\"/>\n",
       "\n",
       "**Figure 9. -** PISN (upper panels) and PPISN (lower panels) rate density evolution as a function of redshift.\n",
       "    The left-hand and right-hand plots show the results obtained with the new wind model by \\protect\\citetalias{Sabhahit2023}  and the one by \\protect\\citetalias{Chen2015}, respectively. The black thick line represents the total rate density, whereas the colored lines show the contribution of individual metallicities from $Z = 1 \\times 10^{-4}$(violet solid line) to $Z = 2 \\times 10^{-2}$(dashed yellow line). (*fig:pisn_new*)\n",
       "\n",
       "</div>\n",
       "<div id=\"div_fig3\">\n",
       "\n",
       "<img src=\"tmp_2505.07959/./Figure/contour_sv_pc_old.png\" alt=\"Fig3\" width=\"100%\"/>\n",
       "\n",
       "**Figure 3. -** Same as Fig. \\ref{fig:He_mass_cont}, but for models  \\protect\\citetalias{Chen2015}. (*fig:He_mass_cont_old*)\n",
       "\n",
       "</div><div id=\"qrcode\"><img src=https://api.qrserver.com/v1/create-qr-code/?size=100x100&data=\"https://arxiv.org/abs/2505.07959\"></div>"
      ],
      "text/plain": [
       "<IPython.core.display.Markdown object>"
      ]
     },
     "metadata": {},
     "output_type": "display_data"
    },
    {
     "data": {
      "text/markdown": [
       "<div class=\"macros\" style=\"visibility:hidden;\">\n",
       "$\\newcommand{\\ensuremath}{}$\n",
       "$\\newcommand{\\xspace}{}$\n",
       "$\\newcommand{\\object}[1]{\\texttt{#1}}$\n",
       "$\\newcommand{\\farcs}{{.}''}$\n",
       "$\\newcommand{\\farcm}{{.}'}$\n",
       "$\\newcommand{\\arcsec}{''}$\n",
       "$\\newcommand{\\arcmin}{'}$\n",
       "$\\newcommand{\\ion}[2]{#1#2}$\n",
       "$\\newcommand{\\textsc}[1]{\\textrm{#1}}$\n",
       "$\\newcommand{\\hl}[1]{\\textrm{#1}}$\n",
       "$\\newcommand{\\footnote}[1]{}$\n",
       "$\\newcommand{\\arraystretch}{1.2}$\n",
       "$\\newcommand{\\arraystretch}{1.0}$</div>\n",
       "\n",
       "\n",
       "\n",
       "<div id=\"title\">\n",
       "\n",
       "# JWST Observations of Young protoStars (JOYS): Overview of program and early results\n",
       "\n",
       "</div>\n",
       "<div id=\"comments\">\n",
       "\n",
       "[![arXiv](https://img.shields.io/badge/arXiv-2505.08002-b31b1b.svg)](https://arxiv.org/abs/2505.08002)<mark>Appeared on: 2025-05-14</mark> -  _47 pages, 28 + 7 figures, A&A, in press_\n",
       "\n",
       "</div>\n",
       "<div id=\"authors\">\n",
       "\n",
       "E. v. Dishoeck, et al. -- incl., <mark>H. Beuther</mark>, <mark>C. Gieser</mark>, <mark>G. Perotti</mark>, <mark>T. Henning</mark>\n",
       "\n",
       "</div>\n",
       "<div id=\"abstract\">\n",
       "\n",
       "**Abstract:** The embedded phase of star formation is a crucial period in the    development of a young star as the system still accretes matter,    emerges from its natal cloud assisted by powerful jets and    outflows, and forms a disk setting the stage for the birth of a    planetary system. Mid-infrared spectral line observations, now    possible with unprecedented sensitivity, spectral resolution and    sharpness with the $_ James Webb Space Telescope_$ (JWST), are    key for probing many of the physical and chemical processes on    sub-arcsecond scales that occur in highly extincted regions,    providing unique diagnostics and complementing millimeter    observations. The JWST Observations of Young protoStars (JOYS) program aims to    address a wide variety of questions, ranging from protostellar    accretion and the nature of primeval jets, winds and outflows, to    the chemistry of gas and ice in hot cores and cold dense    protostellar environments, and the characteristics of the embedded    disks. We introduce the program and show representative JOYS    results. JWST Mid-InfraRed Instrument (MIRI) Medium Resolution Spectrometer    (MRS) Integral Field Unit (IFU) 5--28 $\\mu$ m maps of 17 low-mass    targets (23 if binary components counted individually) and 6    high-mass protostellar sources are taken with resolving powers $R=\\lambda/\\Delta \\lambda=1500-4000$ . Small mosaics ranging from $1\\times 1$ to $3\\times 3$ MRS tiles cover $\\sim 4\"$ to $20\"$ fields of view, providing spectral imaging on spatial scales down    to $\\sim$ 30 au (low mass) and $\\sim$ 600 au (high mass). For HH    211, the complete $\\sim 1'$ blue outflow lobe has been mapped with    the MRS.  Atomic lines are interpreted with published shock    models, whereas molecular lines are analyzed with simple rotation    diagrams and LTE slab models. The importance of taking infrared    pumping into account is stressed. Inferred abundance ratios are    compared with detailed hot core chemical models including    X-rays. Ice spectra are fitted through comparison with laboratory    spectra. The JWST MIRI-MRS spectra show a wide variety of features, with    their spatial distribution providing insight into their physical    origin. Atomic line maps differ among refractory (e.g., Fe),      semi-refractory (e.g., S) and volatile elements (e.g., Ne), and      are linked to their different levels of depletion and local      (shock) conditions. Jets are prominently seen in lines of [ Fe    II ] and other refractory elements whereas the pure rotational    $H_2$ lines probe hot ( $\\sim 1000$ K) and warm (few $\\times 10^2$ K) gas inside the cavity, associated with jets, outflows and    cavity walls, for both low- and high-mass sources.  Wide-angle    winds are found in low- $J$ $H_2$ lines. Nested, stratified jet    structures consisting of an inner ionized core with an outer    molecular layer are commonly seen in the youngest sources. [ S      I ] follows the jet as seen in [ Fe II ] in the youngest      protostars, but is different in more evolved sources where it is      concentrated on source.  Noble gas lines such as [ Ne II ] 12.8 $\\mu$ m reveal a mix of jet shock and photoionized emission.  H I    recombination lines serve as a measure of protostellar accretion    rates, but are also associated with more extended jets. Gaseous    molecular emission ($CO_2$ , $C_2$ $H_2$ , HCN, $H_2$ O, $CH_4$ ,    $SO_2$ , SiO) is seen toward several sources, but is cool compared    with what is found in more evolved disks, with excitation    temperatures of only 100--250 K, and likely associated with the    warm inner envelopes (\"hot cores\") . $CO_2$ is often extended    along the outflow, in contrast with $C_2$ $H_2$ which is usually    centered on source. Water emission is commonly detected on source    even if relatively weak; off source it is seen only in the highest    density shocks such as associated with NGC 1333 IRAS4B. Some    sources show gaseous molecular lines in absorption, including    $NH_3$ in one case. Deep ice features are seen toward the    protostars, revealing not just the major ice components but also    ions (as part of salts) and complex organic molecules, with    comparable abundances from low- to high-mass sources. Relative    abundances of some gas and ice species are similar, consistent    with ice sublimation in hot cores. A second detection of HDO ice    in a solar-mass source is presented, with an HDO/$H_2$ O ice ratio    of $\\sim$ 0.4 \\% , providing a link with HDO/$H_2$ O in disks and    comets. A deep search for solid $O_2$ suggests that it is not a    significant oxygen reservoir. Only few embedded Class I disks show    the same forest of water lines as Class II disks do, possibly    caused by significant dust extinction of the upper layers due    to limited growth and settling of dust to the midplane in young    disks as well as radial drift bringing in small dust. This paper illustrates the many different science questions that a    single MIRI-MRS IFU data set can address, with significant    similarities between low- and high-mass sources. Large source    samples across evolutionary stages and luminosities are needed to    further develop these diagnostics of the physics and chemistry of    protostellar systems.\n",
       "\n",
       "</div>\n",
       "\n",
       "<div id=\"div_fig1\">\n",
       "\n",
       "<img src=\"tmp_2505.08002/./JOYS_Fig2a.png\" alt=\"Fig29.1\" width=\"50%\"/><img src=\"tmp_2505.08002/./JOYS_Fig2b.png\" alt=\"Fig29.2\" width=\"50%\"/>\n",
       "\n",
       "**Figure 29. -** JWST MIRI-MRS spectrum of the low-mass Class 0 protostars\n",
       "  B1-c (top) and Serpens SMM3 (bottom) illustrating the different\n",
       "  molecular gas (red) and ice (blue) features that can be observed and\n",
       "  analyzed, tracing different components of the protostellar\n",
       "  system. The inserts in the B1-c spectrum aim to highlight the\n",
       "  gas-phase molecular lines in this source. Atomic emission lines are\n",
       "  present but not very strong in this source. In\n",
       "  contrast, both $H_2$ and atomic emission lines are very prominent\n",
       "  for Serpens SMM3 (bottom). At the bottom of the silicate feature at\n",
       "  10 $\\mu$m, close to the noise limit, the spectra have been binned by\n",
       "  a factor of 4 to enhance the $S/N$. See Fig. B.3 and B.11 of\n",
       "  \\citet{vanGelder24overview} for individual MIRI-MRS sub-bands. (*fig:B1c-overview*)\n",
       "\n",
       "</div>\n",
       "<div id=\"div_fig2\">\n",
       "\n",
       "<img src=\"tmp_2505.08002/./JOYS_Fig1.png\" alt=\"Fig1\" width=\"100%\"/>\n",
       "\n",
       "**Figure 1. -** Cartoon of a protostellar source with the various physical\n",
       "  components studied in this work indicated. (*fig:protostar-cartoon*)\n",
       "\n",
       "</div>\n",
       "<div id=\"div_fig3\">\n",
       "\n",
       "<img src=\"tmp_2505.08002/./JOYS_Fig10.png\" alt=\"Fig8\" width=\"100%\"/>\n",
       "\n",
       "**Figure 8. -** MIRI-MRS maps of the various $H_2$ lines toward the Class 0\n",
       "  protostar Serpens SMM3. The white contours in the top left panel\n",
       "  indicate the dust disk seen in millimeter continuum. The red and\n",
       "  blue circles on the S(4) image indicate the positions where the\n",
       "  $H_2$ spectra and rotational diagrams have been extracted. Note that\n",
       "  the S(3) image at 9.66 $\\mu$m is strongly affected by silicate\n",
       "  extinction, and the S(5) line at 6.9 $\\mu$m by ice extinction, hence\n",
       "  their maps are more noisy. Beam sizes are indicated in the lower\n",
       "  left corner of each panel. Each panel is scaled to the maximum\n",
       "  emission of that species. The maximum and minimum colors are (in Jy\n",
       "  km s$^{-1}$), from top left to bottom right: S(8) (0.008, 0.003);\n",
       "  S(7) (0.033, 0.007); S(6) (0.013, 0.003); S(5) (0.026, 0.003); S(4)\n",
       "  (0.089, 0.009); S(3) (0.035, 0.005); S(2) (0.090, 0.009); S(1)\n",
       "  (0.084, 0.008).  (*fig:SMM3H2*)\n",
       "\n",
       "</div><div id=\"qrcode\"><img src=https://api.qrserver.com/v1/create-qr-code/?size=100x100&data=\"https://arxiv.org/abs/2505.08002\"></div>"
      ],
      "text/plain": [
       "<IPython.core.display.Markdown object>"
      ]
     },
     "metadata": {},
     "output_type": "display_data"
    }
   ],
   "source": [
    "[display(Markdown(k[1])) for k in documents];"
   ]
  },
  {
   "cell_type": "markdown",
   "id": "873873a4",
   "metadata": {
    "papermill": {
     "duration": 0.005069,
     "end_time": "2025-05-14T04:16:50.318787",
     "exception": false,
     "start_time": "2025-05-14T04:16:50.313718",
     "status": "completed"
    },
    "tags": []
   },
   "source": [
    "# Create HTML index"
   ]
  },
  {
   "cell_type": "code",
   "execution_count": 10,
   "id": "cf665672",
   "metadata": {
    "execution": {
     "iopub.execute_input": "2025-05-14T04:16:50.330034Z",
     "iopub.status.busy": "2025-05-14T04:16:50.329562Z",
     "iopub.status.idle": "2025-05-14T04:16:50.340217Z",
     "shell.execute_reply": "2025-05-14T04:16:50.339656Z"
    },
    "papermill": {
     "duration": 0.01728,
     "end_time": "2025-05-14T04:16:50.341176",
     "exception": false,
     "start_time": "2025-05-14T04:16:50.323896",
     "status": "completed"
    },
    "tags": []
   },
   "outputs": [
    {
     "name": "stdout",
     "output_type": "stream",
     "text": [
      "488  publications files modified in the last 7 days.\n"
     ]
    }
   ],
   "source": [
    "from datetime import datetime, timedelta, timezone\n",
    "from glob import glob\n",
    "import os\n",
    "\n",
    "files = glob('_build/html/*.md')\n",
    "days = 7\n",
    "now = datetime.today()\n",
    "res = []\n",
    "for fk in files:\n",
    "    stat_result = os.stat(fk).st_ctime\n",
    "    modified = datetime.fromtimestamp(stat_result, tz=timezone.utc).replace(tzinfo=None)\n",
    "    delta = now.today() - modified\n",
    "    if delta <= timedelta(days=days):\n",
    "        res.append((delta.seconds, fk))\n",
    "res = [k[1] for k in reversed(sorted(res, key=lambda x:x[1]))]\n",
    "npub = len(res)\n",
    "print(len(res), f\" publications files modified in the last {days:d} days.\")\n",
    "# [ print('\\t', k) for k in res ];"
   ]
  },
  {
   "cell_type": "code",
   "execution_count": 11,
   "id": "015de740",
   "metadata": {
    "execution": {
     "iopub.execute_input": "2025-05-14T04:16:50.352286Z",
     "iopub.status.busy": "2025-05-14T04:16:50.352101Z",
     "iopub.status.idle": "2025-05-14T04:16:50.375654Z",
     "shell.execute_reply": "2025-05-14T04:16:50.375063Z"
    },
    "papermill": {
     "duration": 0.030273,
     "end_time": "2025-05-14T04:16:50.376684",
     "exception": false,
     "start_time": "2025-05-14T04:16:50.346411",
     "status": "completed"
    },
    "tags": []
   },
   "outputs": [
    {
     "name": "stdout",
     "output_type": "stream",
     "text": [
      "12  publications in the last 7 days.\n"
     ]
    }
   ],
   "source": [
    "import datetime\n",
    "from glob import glob\n",
    "\n",
    "def get_last_n_days(lst, days=1):\n",
    "    \"\"\" Get the documents from the last n days \"\"\"\n",
    "    sorted_lst = sorted(lst, key=lambda x: x[1], reverse=True)\n",
    "    for fname, date in sorted_lst:\n",
    "        if date >= str(datetime.date.today() - datetime.timedelta(days=days)):\n",
    "            yield fname\n",
    "\n",
    "def extract_appearance_dates(lst_file):\n",
    "    dates = []\n",
    "\n",
    "    def get_date(line):\n",
    "        return line\\\n",
    "            .split('Appeared on:')[-1]\\\n",
    "            .split('</mark>')[0].strip()\n",
    "\n",
    "    for fname in lst:\n",
    "        with open(fname, 'r') as f:\n",
    "            found_date = False\n",
    "            for line in f:\n",
    "                if not found_date:\n",
    "                    if \"Appeared on\" in line:\n",
    "                        found_date = True\n",
    "                        dates.append((fname, get_date(line)))\n",
    "                else:\n",
    "                    break\n",
    "    return dates\n",
    "\n",
    "from glob import glob\n",
    "lst = glob('_build/html/*md')\n",
    "days = 7\n",
    "dates = extract_appearance_dates(lst)\n",
    "res = list(get_last_n_days(dates, days))\n",
    "npub = len(res)\n",
    "print(len(res), f\" publications in the last {days:d} days.\")"
   ]
  },
  {
   "cell_type": "code",
   "execution_count": 12,
   "id": "52ca0208",
   "metadata": {
    "execution": {
     "iopub.execute_input": "2025-05-14T04:16:50.388350Z",
     "iopub.status.busy": "2025-05-14T04:16:50.387964Z",
     "iopub.status.idle": "2025-05-14T04:16:50.393048Z",
     "shell.execute_reply": "2025-05-14T04:16:50.392387Z"
    },
    "papermill": {
     "duration": 0.01216,
     "end_time": "2025-05-14T04:16:50.394146",
     "exception": false,
     "start_time": "2025-05-14T04:16:50.381986",
     "status": "completed"
    },
    "scrolled": false,
    "tags": []
   },
   "outputs": [],
   "source": [
    "def create_carousel(npub=4):\n",
    "    \"\"\" Generate the HTML code for a carousel with `npub` slides \"\"\"\n",
    "    carousel = [\"\"\"  <div class=\"carousel\" \"\"\",\n",
    "                \"\"\"       data-flickity='{ \"autoPlay\": 10000, \"adaptiveHeight\": true, \"resize\": true, \"wrapAround\": true, \"pauseAutoPlayOnHover\": true, \"groupCells\": 1 }' id=\"asyncTypeset\">\"\"\"\n",
    "                ]\n",
    "    \n",
    "    item_str = \"\"\"    <div class=\"carousel-cell\"> <div id=\"slide{k}\" class=\"md_view\">Content {k}</div> </div>\"\"\"\n",
    "    for k in range(1, npub + 1):\n",
    "        carousel.append(item_str.format(k=k))\n",
    "    carousel.append(\"  </div>\")\n",
    "    return '\\n'.join(carousel)\n",
    "\n",
    "def create_grid(npub=4):\n",
    "    \"\"\" Generate the HTML code for a flat grid with `npub` slides \"\"\"\n",
    "    grid = [\"\"\"  <div class=\"grid\"> \"\"\",\n",
    "                ]\n",
    "    \n",
    "    item_str = \"\"\"    <div class=\"grid-item\"> <div id=\"slide{k}\" class=\"md_view\">Content {k}</div> </div>\"\"\"\n",
    "    for k in range(1, npub + 1):\n",
    "        grid.append(item_str.format(k=k))\n",
    "    grid.append(\"  </div>\")\n",
    "    return '\\n'.join(grid)"
   ]
  },
  {
   "cell_type": "code",
   "execution_count": 13,
   "id": "a6eac5b6",
   "metadata": {
    "execution": {
     "iopub.execute_input": "2025-05-14T04:16:50.405713Z",
     "iopub.status.busy": "2025-05-14T04:16:50.405322Z",
     "iopub.status.idle": "2025-05-14T04:16:50.410324Z",
     "shell.execute_reply": "2025-05-14T04:16:50.409792Z"
    },
    "papermill": {
     "duration": 0.011778,
     "end_time": "2025-05-14T04:16:50.411275",
     "exception": false,
     "start_time": "2025-05-14T04:16:50.399497",
     "status": "completed"
    },
    "scrolled": false,
    "tags": []
   },
   "outputs": [],
   "source": [
    "carousel = create_carousel(npub)\n",
    "docs = ', '.join(['\"{0:s}\"'.format(k.split('/')[-1]) for k in res])\n",
    "slides = ', '.join([f'\"slide{k}\"' for k in range(1, npub + 1)])\n",
    "\n",
    "with open(\"daily_template.html\", \"r\") as tpl:\n",
    "    page = tpl.read()\n",
    "    page = page.replace(\"{%-- carousel:s --%}\", carousel)\\\n",
    "               .replace(\"{%-- suptitle:s --%}\",  \"7-day archives\" )\\\n",
    "               .replace(\"{%-- docs:s --%}\", docs)\\\n",
    "               .replace(\"{%-- slides:s --%}\", slides)\n",
    "    \n",
    "with open(\"_build/html/index_7days.html\", 'w') as fout:\n",
    "    fout.write(page)"
   ]
  },
  {
   "cell_type": "code",
   "execution_count": 14,
   "id": "adc1a1ec",
   "metadata": {
    "execution": {
     "iopub.execute_input": "2025-05-14T04:16:50.422989Z",
     "iopub.status.busy": "2025-05-14T04:16:50.422775Z",
     "iopub.status.idle": "2025-05-14T04:16:50.429869Z",
     "shell.execute_reply": "2025-05-14T04:16:50.429345Z"
    },
    "papermill": {
     "duration": 0.014023,
     "end_time": "2025-05-14T04:16:50.430762",
     "exception": false,
     "start_time": "2025-05-14T04:16:50.416739",
     "status": "completed"
    },
    "tags": []
   },
   "outputs": [
    {
     "name": "stdout",
     "output_type": "stream",
     "text": [
      "4  publications in the last day.\n"
     ]
    }
   ],
   "source": [
    "# redo for today\n",
    "days = 1\n",
    "res = list(get_last_n_days(dates, days))\n",
    "npub = len(res)\n",
    "print(len(res), f\" publications in the last day.\")\n",
    "\n",
    "carousel = create_carousel(npub)\n",
    "docs = ', '.join(['\"{0:s}\"'.format(k.split('/')[-1]) for k in res])\n",
    "slides = ', '.join([f'\"slide{k}\"' for k in range(1, npub + 1)])\n",
    "\n",
    "with open(\"daily_template.html\", \"r\") as tpl:\n",
    "    page = tpl.read()\n",
    "    page = page.replace(\"{%-- carousel:s --%}\", carousel)\\\n",
    "               .replace(\"{%-- suptitle:s --%}\",  \"Daily\" )\\\n",
    "               .replace(\"{%-- docs:s --%}\", docs)\\\n",
    "               .replace(\"{%-- slides:s --%}\", slides)\n",
    "    \n",
    "# print(carousel, docs, slides)\n",
    "# print(page)\n",
    "with open(\"_build/html/index_daily.html\", 'w') as fout:\n",
    "    fout.write(page)"
   ]
  },
  {
   "cell_type": "code",
   "execution_count": 15,
   "id": "00eece82",
   "metadata": {
    "execution": {
     "iopub.execute_input": "2025-05-14T04:16:50.442468Z",
     "iopub.status.busy": "2025-05-14T04:16:50.442253Z",
     "iopub.status.idle": "2025-05-14T04:16:50.449063Z",
     "shell.execute_reply": "2025-05-14T04:16:50.448491Z"
    },
    "papermill": {
     "duration": 0.013838,
     "end_time": "2025-05-14T04:16:50.450070",
     "exception": false,
     "start_time": "2025-05-14T04:16:50.436232",
     "status": "completed"
    },
    "scrolled": false,
    "tags": []
   },
   "outputs": [
    {
     "name": "stdout",
     "output_type": "stream",
     "text": [
      "6  6 publications selected.\n"
     ]
    }
   ],
   "source": [
    "# Create the flat grid of the last N papers (fixed number regardless of dates)\n",
    "from itertools import islice \n",
    "\n",
    "npub = 6\n",
    "res = [k[0] for k in (islice(reversed(sorted(dates, key=lambda x: x[1])), 6))]\n",
    "print(len(res), f\" {npub} publications selected.\")\n",
    "\n",
    "grid = create_grid(npub)\n",
    "docs = ', '.join(['\"{0:s}\"'.format(k.split('/')[-1]) for k in res])\n",
    "slides = ', '.join([f'\"slide{k}\"' for k in range(1, npub + 1)])\n",
    "\n",
    "with open(\"grid_template.html\", \"r\") as tpl:\n",
    "    page = tpl.read()\n",
    "    page = page.replace(\"{%-- grid-content:s --%}\", grid)\\\n",
    "               .replace(\"{%-- suptitle:s --%}\",  f\"Last {npub:,d} papers\" )\\\n",
    "               .replace(\"{%-- docs:s --%}\", docs)\\\n",
    "               .replace(\"{%-- slides:s --%}\", slides)\n",
    "    \n",
    "# print(grid, docs, slides)\n",
    "# print(page)\n",
    "with open(\"_build/html/index_npub_grid.html\", 'w') as fout:\n",
    "    fout.write(page)"
   ]
  }
 ],
 "metadata": {
  "kernelspec": {
   "display_name": "Python 3 (ipykernel)",
   "language": "python",
   "name": "python3"
  },
  "language_info": {
   "codemirror_mode": {
    "name": "ipython",
    "version": 3
   },
   "file_extension": ".py",
   "mimetype": "text/x-python",
   "name": "python",
   "nbconvert_exporter": "python",
   "pygments_lexer": "ipython3",
   "version": "3.9.22"
  },
  "papermill": {
   "default_parameters": {},
   "duration": 113.0987,
   "end_time": "2025-05-14T04:16:50.770958",
   "environment_variables": {},
   "exception": null,
   "input_path": "MPIA daily digest.ipynb",
   "output_path": "log.ipynb",
   "parameters": {},
   "start_time": "2025-05-14T04:14:57.672258",
   "version": "2.6.0"
  },
  "vscode": {
   "interpreter": {
    "hash": "aee8b7b246df8f9039afb4144a1f6fd8d2ca17a180786b69acc140d282b71a49"
   }
  },
  "widgets": {
   "application/vnd.jupyter.widget-state+json": {
    "state": {
     "07df84e27ee744d78a819724a5b8abf9": {
      "model_module": "@jupyter-widgets/controls",
      "model_module_version": "2.0.0",
      "model_name": "HTMLStyleModel",
      "state": {
       "_model_module": "@jupyter-widgets/controls",
       "_model_module_version": "2.0.0",
       "_model_name": "HTMLStyleModel",
       "_view_count": null,
       "_view_module": "@jupyter-widgets/base",
       "_view_module_version": "2.0.0",
       "_view_name": "StyleView",
       "background": null,
       "description_width": "",
       "font_size": null,
       "text_color": null
      }
     },
     "0f97b4dbbf5144dd96e5a6790ed627ec": {
      "model_module": "@jupyter-widgets/controls",
      "model_module_version": "2.0.0",
      "model_name": "HTMLModel",
      "state": {
       "_dom_classes": [],
       "_model_module": "@jupyter-widgets/controls",
       "_model_module_version": "2.0.0",
       "_model_name": "HTMLModel",
       "_view_count": null,
       "_view_module": "@jupyter-widgets/controls",
       "_view_module_version": "2.0.0",
       "_view_name": "HTMLView",
       "description": "",
       "description_allow_html": false,
       "layout": "IPY_MODEL_248aaad9f9844111ae2602b96599357f",
       "placeholder": "​",
       "style": "IPY_MODEL_07df84e27ee744d78a819724a5b8abf9",
       "tabbable": null,
       "tooltip": null,
       "value": "100%"
      }
     },
     "248aaad9f9844111ae2602b96599357f": {
      "model_module": "@jupyter-widgets/base",
      "model_module_version": "2.0.0",
      "model_name": "LayoutModel",
      "state": {
       "_model_module": "@jupyter-widgets/base",
       "_model_module_version": "2.0.0",
       "_model_name": "LayoutModel",
       "_view_count": null,
       "_view_module": "@jupyter-widgets/base",
       "_view_module_version": "2.0.0",
       "_view_name": "LayoutView",
       "align_content": null,
       "align_items": null,
       "align_self": null,
       "border_bottom": null,
       "border_left": null,
       "border_right": null,
       "border_top": null,
       "bottom": null,
       "display": null,
       "flex": null,
       "flex_flow": null,
       "grid_area": null,
       "grid_auto_columns": null,
       "grid_auto_flow": null,
       "grid_auto_rows": null,
       "grid_column": null,
       "grid_gap": null,
       "grid_row": null,
       "grid_template_areas": null,
       "grid_template_columns": null,
       "grid_template_rows": null,
       "height": null,
       "justify_content": null,
       "justify_items": null,
       "left": null,
       "margin": null,
       "max_height": null,
       "max_width": null,
       "min_height": null,
       "min_width": null,
       "object_fit": null,
       "object_position": null,
       "order": null,
       "overflow": null,
       "padding": null,
       "right": null,
       "top": null,
       "visibility": null,
       "width": null
      }
     },
     "2d2bf004b8014186b2950d989fc5f9f0": {
      "model_module": "@jupyter-widgets/controls",
      "model_module_version": "2.0.0",
      "model_name": "HTMLStyleModel",
      "state": {
       "_model_module": "@jupyter-widgets/controls",
       "_model_module_version": "2.0.0",
       "_model_name": "HTMLStyleModel",
       "_view_count": null,
       "_view_module": "@jupyter-widgets/base",
       "_view_module_version": "2.0.0",
       "_view_name": "StyleView",
       "background": null,
       "description_width": "",
       "font_size": null,
       "text_color": null
      }
     },
     "4b3dda9ff51e4976ad5179b59455f883": {
      "model_module": "@jupyter-widgets/controls",
      "model_module_version": "2.0.0",
      "model_name": "ProgressStyleModel",
      "state": {
       "_model_module": "@jupyter-widgets/controls",
       "_model_module_version": "2.0.0",
       "_model_name": "ProgressStyleModel",
       "_view_count": null,
       "_view_module": "@jupyter-widgets/base",
       "_view_module_version": "2.0.0",
       "_view_name": "StyleView",
       "bar_color": null,
       "description_width": ""
      }
     },
     "8f09dbf7d90547f4a7a59c044693a357": {
      "model_module": "@jupyter-widgets/base",
      "model_module_version": "2.0.0",
      "model_name": "LayoutModel",
      "state": {
       "_model_module": "@jupyter-widgets/base",
       "_model_module_version": "2.0.0",
       "_model_name": "LayoutModel",
       "_view_count": null,
       "_view_module": "@jupyter-widgets/base",
       "_view_module_version": "2.0.0",
       "_view_name": "LayoutView",
       "align_content": null,
       "align_items": null,
       "align_self": null,
       "border_bottom": null,
       "border_left": null,
       "border_right": null,
       "border_top": null,
       "bottom": null,
       "display": null,
       "flex": null,
       "flex_flow": null,
       "grid_area": null,
       "grid_auto_columns": null,
       "grid_auto_flow": null,
       "grid_auto_rows": null,
       "grid_column": null,
       "grid_gap": null,
       "grid_row": null,
       "grid_template_areas": null,
       "grid_template_columns": null,
       "grid_template_rows": null,
       "height": null,
       "justify_content": null,
       "justify_items": null,
       "left": null,
       "margin": null,
       "max_height": null,
       "max_width": null,
       "min_height": null,
       "min_width": null,
       "object_fit": null,
       "object_position": null,
       "order": null,
       "overflow": null,
       "padding": null,
       "right": null,
       "top": null,
       "visibility": null,
       "width": null
      }
     },
     "923ad65fd3da46aea6124e7b90d29f34": {
      "model_module": "@jupyter-widgets/controls",
      "model_module_version": "2.0.0",
      "model_name": "FloatProgressModel",
      "state": {
       "_dom_classes": [],
       "_model_module": "@jupyter-widgets/controls",
       "_model_module_version": "2.0.0",
       "_model_name": "FloatProgressModel",
       "_view_count": null,
       "_view_module": "@jupyter-widgets/controls",
       "_view_module_version": "2.0.0",
       "_view_name": "ProgressView",
       "bar_style": "success",
       "description": "",
       "description_allow_html": false,
       "layout": "IPY_MODEL_fad911de1388495a8ab510ac0ee5edb4",
       "max": 3.0,
       "min": 0.0,
       "orientation": "horizontal",
       "style": "IPY_MODEL_4b3dda9ff51e4976ad5179b59455f883",
       "tabbable": null,
       "tooltip": null,
       "value": 3.0
      }
     },
     "bc301aeab4fd4837b140a483e7d4923a": {
      "model_module": "@jupyter-widgets/controls",
      "model_module_version": "2.0.0",
      "model_name": "HTMLModel",
      "state": {
       "_dom_classes": [],
       "_model_module": "@jupyter-widgets/controls",
       "_model_module_version": "2.0.0",
       "_model_name": "HTMLModel",
       "_view_count": null,
       "_view_module": "@jupyter-widgets/controls",
       "_view_module_version": "2.0.0",
       "_view_name": "HTMLView",
       "description": "",
       "description_allow_html": false,
       "layout": "IPY_MODEL_8f09dbf7d90547f4a7a59c044693a357",
       "placeholder": "​",
       "style": "IPY_MODEL_2d2bf004b8014186b2950d989fc5f9f0",
       "tabbable": null,
       "tooltip": null,
       "value": " 3/3 [01:27&lt;00:00, 33.12s/it]"
      }
     },
     "df822da4fd17419b95a1f140cacbb92b": {
      "model_module": "@jupyter-widgets/controls",
      "model_module_version": "2.0.0",
      "model_name": "HBoxModel",
      "state": {
       "_dom_classes": [],
       "_model_module": "@jupyter-widgets/controls",
       "_model_module_version": "2.0.0",
       "_model_name": "HBoxModel",
       "_view_count": null,
       "_view_module": "@jupyter-widgets/controls",
       "_view_module_version": "2.0.0",
       "_view_name": "HBoxView",
       "box_style": "",
       "children": [
        "IPY_MODEL_0f97b4dbbf5144dd96e5a6790ed627ec",
        "IPY_MODEL_923ad65fd3da46aea6124e7b90d29f34",
        "IPY_MODEL_bc301aeab4fd4837b140a483e7d4923a"
       ],
       "layout": "IPY_MODEL_f7dd691baebc4b768b0c85cc750dfb94",
       "tabbable": null,
       "tooltip": null
      }
     },
     "f7dd691baebc4b768b0c85cc750dfb94": {
      "model_module": "@jupyter-widgets/base",
      "model_module_version": "2.0.0",
      "model_name": "LayoutModel",
      "state": {
       "_model_module": "@jupyter-widgets/base",
       "_model_module_version": "2.0.0",
       "_model_name": "LayoutModel",
       "_view_count": null,
       "_view_module": "@jupyter-widgets/base",
       "_view_module_version": "2.0.0",
       "_view_name": "LayoutView",
       "align_content": null,
       "align_items": null,
       "align_self": null,
       "border_bottom": null,
       "border_left": null,
       "border_right": null,
       "border_top": null,
       "bottom": null,
       "display": null,
       "flex": null,
       "flex_flow": null,
       "grid_area": null,
       "grid_auto_columns": null,
       "grid_auto_flow": null,
       "grid_auto_rows": null,
       "grid_column": null,
       "grid_gap": null,
       "grid_row": null,
       "grid_template_areas": null,
       "grid_template_columns": null,
       "grid_template_rows": null,
       "height": null,
       "justify_content": null,
       "justify_items": null,
       "left": null,
       "margin": null,
       "max_height": null,
       "max_width": null,
       "min_height": null,
       "min_width": null,
       "object_fit": null,
       "object_position": null,
       "order": null,
       "overflow": null,
       "padding": null,
       "right": null,
       "top": null,
       "visibility": null,
       "width": null
      }
     },
     "fad911de1388495a8ab510ac0ee5edb4": {
      "model_module": "@jupyter-widgets/base",
      "model_module_version": "2.0.0",
      "model_name": "LayoutModel",
      "state": {
       "_model_module": "@jupyter-widgets/base",
       "_model_module_version": "2.0.0",
       "_model_name": "LayoutModel",
       "_view_count": null,
       "_view_module": "@jupyter-widgets/base",
       "_view_module_version": "2.0.0",
       "_view_name": "LayoutView",
       "align_content": null,
       "align_items": null,
       "align_self": null,
       "border_bottom": null,
       "border_left": null,
       "border_right": null,
       "border_top": null,
       "bottom": null,
       "display": null,
       "flex": null,
       "flex_flow": null,
       "grid_area": null,
       "grid_auto_columns": null,
       "grid_auto_flow": null,
       "grid_auto_rows": null,
       "grid_column": null,
       "grid_gap": null,
       "grid_row": null,
       "grid_template_areas": null,
       "grid_template_columns": null,
       "grid_template_rows": null,
       "height": null,
       "justify_content": null,
       "justify_items": null,
       "left": null,
       "margin": null,
       "max_height": null,
       "max_width": null,
       "min_height": null,
       "min_width": null,
       "object_fit": null,
       "object_position": null,
       "order": null,
       "overflow": null,
       "padding": null,
       "right": null,
       "top": null,
       "visibility": null,
       "width": null
      }
     }
    },
    "version_major": 2,
    "version_minor": 0
   }
  }
 },
 "nbformat": 4,
 "nbformat_minor": 5
}