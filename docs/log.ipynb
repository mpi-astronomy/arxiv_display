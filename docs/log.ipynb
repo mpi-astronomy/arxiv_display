{
 "cells": [
  {
   "cell_type": "markdown",
   "id": "92bcb855",
   "metadata": {
    "papermill": {
     "duration": 0.00397,
     "end_time": "2024-07-10T04:10:45.857904",
     "exception": false,
     "start_time": "2024-07-10T04:10:45.853934",
     "status": "completed"
    },
    "tags": []
   },
   "source": [
    "# MPIA Arxiv on Deck 2\n",
    "\n",
    "Contains the steps to produce the paper extractions."
   ]
  },
  {
   "cell_type": "code",
   "execution_count": 1,
   "id": "3a0d6e11",
   "metadata": {
    "execution": {
     "iopub.execute_input": "2024-07-10T04:10:45.865734Z",
     "iopub.status.busy": "2024-07-10T04:10:45.865116Z",
     "iopub.status.idle": "2024-07-10T04:10:46.217847Z",
     "shell.execute_reply": "2024-07-10T04:10:46.217117Z"
    },
    "papermill": {
     "duration": 0.35862,
     "end_time": "2024-07-10T04:10:46.219713",
     "exception": false,
     "start_time": "2024-07-10T04:10:45.861093",
     "status": "completed"
    },
    "tags": []
   },
   "outputs": [],
   "source": [
    "# Imports\n",
    "import os\n",
    "from IPython.display import Markdown, display\n",
    "from tqdm.notebook import tqdm\n",
    "import warnings\n",
    "from PIL import Image \n",
    "\n",
    "# requires arxiv_on_deck_2\n",
    "\n",
    "from arxiv_on_deck_2.arxiv2 import (get_new_papers, \n",
    "                                    get_paper_from_identifier,\n",
    "                                    retrieve_document_source, \n",
    "                                    get_markdown_badge)\n",
    "from arxiv_on_deck_2 import (latex,\n",
    "                             latex_bib,\n",
    "                             mpia,\n",
    "                             highlight_authors_in_list)\n",
    "\n",
    "# Sometimes images are really big\n",
    "Image.MAX_IMAGE_PIXELS = 1000000000 "
   ]
  },
  {
   "cell_type": "code",
   "execution_count": 2,
   "id": "22aa9d44",
   "metadata": {
    "execution": {
     "iopub.execute_input": "2024-07-10T04:10:46.227261Z",
     "iopub.status.busy": "2024-07-10T04:10:46.226784Z",
     "iopub.status.idle": "2024-07-10T04:10:46.231814Z",
     "shell.execute_reply": "2024-07-10T04:10:46.231288Z"
    },
    "papermill": {
     "duration": 0.010198,
     "end_time": "2024-07-10T04:10:46.233115",
     "exception": false,
     "start_time": "2024-07-10T04:10:46.222917",
     "status": "completed"
    },
    "tags": []
   },
   "outputs": [],
   "source": [
    "# Some useful definitions.\n",
    "\n",
    "class AffiliationWarning(UserWarning):\n",
    "    pass\n",
    "\n",
    "class AffiliationError(RuntimeError):\n",
    "    pass\n",
    "\n",
    "def validation(source: str):\n",
    "    \"\"\"Raises error paper during parsing of source file\n",
    "    \n",
    "    Allows checks before parsing TeX code.\n",
    "    \n",
    "    Raises AffiliationWarning\n",
    "    \"\"\"\n",
    "    check = mpia.affiliation_verifications(source, verbose=True)\n",
    "    if check is not True:\n",
    "        raise AffiliationError(\"mpia.affiliation_verifications: \" + check)\n",
    "\n",
    "        \n",
    "warnings.simplefilter('always', AffiliationWarning)\n",
    "\n",
    "\n",
    "def get_markdown_qrcode(paper_id: str):\n",
    "    \"\"\" Generate a qrcode to the arxiv page using qrserver.com\n",
    "    \n",
    "    :param paper: Arxiv paper\n",
    "    :returns: markdown text\n",
    "    \"\"\"\n",
    "    url = r\"https://api.qrserver.com/v1/create-qr-code/?size=100x100&data=\"\n",
    "    txt = f\"\"\"<img src={url}\"https://arxiv.org/abs/{paper_id}\">\"\"\"\n",
    "    txt = '<div id=\"qrcode\">' + txt + '</div>'\n",
    "    return txt"
   ]
  },
  {
   "cell_type": "markdown",
   "id": "14bd6310",
   "metadata": {
    "papermill": {
     "duration": 0.002867,
     "end_time": "2024-07-10T04:10:46.238953",
     "exception": false,
     "start_time": "2024-07-10T04:10:46.236086",
     "status": "completed"
    },
    "tags": []
   },
   "source": [
    "## get list of arxiv paper candidates\n",
    "\n",
    "We use the MPIA mitarbeiter list webpage from mpia.de to get author names\n",
    "We then get all new papers from Arxiv and match authors"
   ]
  },
  {
   "cell_type": "code",
   "execution_count": 3,
   "id": "7ea813a8",
   "metadata": {
    "execution": {
     "iopub.execute_input": "2024-07-10T04:10:46.245864Z",
     "iopub.status.busy": "2024-07-10T04:10:46.245445Z",
     "iopub.status.idle": "2024-07-10T04:11:05.851964Z",
     "shell.execute_reply": "2024-07-10T04:11:05.851258Z"
    },
    "papermill": {
     "duration": 19.611984,
     "end_time": "2024-07-10T04:11:05.853783",
     "exception": false,
     "start_time": "2024-07-10T04:10:46.241799",
     "status": "completed"
    },
    "tags": []
   },
   "outputs": [],
   "source": [
    "# deal with the author list and edge cases of people that cannot be consistent on their name  \n",
    "\n",
    "def filter_non_scientists(name: str) -> bool:\n",
    "    \"\"\" Loose filter on expected authorships\n",
    "\n",
    "    removing IT, administration, technical staff\n",
    "    :param name: name\n",
    "    :returns: False if name is not a scientist\n",
    "    \"\"\"\n",
    "    remove_list = ['Wolf', 'Licht', 'Binroth', 'Witzel', 'Jordan',\n",
    "                   'Zähringer', 'Scheerer', 'Hoffmann', 'Düe',\n",
    "                   'Hellmich', 'Enkler-Scharpegge', 'Witte-Nguy',\n",
    "                   'Dehen', 'Beckmann', 'Jager', 'Jäger'\n",
    "                  ]\n",
    "\n",
    "    for k in remove_list:\n",
    "        if k in name:\n",
    "            return False\n",
    "    return True\n",
    "\n",
    "def add_author_to_list(author_list: list) -> list:\n",
    "    \"\"\" Add author to list if not already in list\n",
    "    \n",
    "    :param author: author name\n",
    "    :param author_list: list of authors\n",
    "    :returns: updated list of authors\n",
    "    \"\"\"\n",
    "    add_list = ['T. Henning']\n",
    "\n",
    "    for author in add_list:\n",
    "        if author not in author_list:\n",
    "            author_list.append(author)\n",
    "    return author_list\n",
    "\n",
    "# get list from MPIA website\n",
    "# filter for non-scientists (mpia.get_mpia_mitarbeiter_list() does some filtering)\n",
    "mpia_authors = [k[1] for k in mpia.get_mpia_mitarbeiter_list() if filter_non_scientists(k[1])]\n",
    "# add some missing author because of inconsistencies in their MPIA name and author name on papers\n",
    "mpia_authors = add_author_to_list(mpia_authors)"
   ]
  },
  {
   "cell_type": "code",
   "execution_count": 4,
   "id": "2645e73a",
   "metadata": {
    "execution": {
     "iopub.execute_input": "2024-07-10T04:11:05.861283Z",
     "iopub.status.busy": "2024-07-10T04:11:05.861066Z",
     "iopub.status.idle": "2024-07-10T04:11:06.682907Z",
     "shell.execute_reply": "2024-07-10T04:11:06.682289Z"
    },
    "papermill": {
     "duration": 0.827212,
     "end_time": "2024-07-10T04:11:06.684319",
     "exception": false,
     "start_time": "2024-07-10T04:11:05.857107",
     "status": "completed"
    },
    "tags": []
   },
   "outputs": [
    {
     "name": "stdout",
     "output_type": "stream",
     "text": [
      "K. El-Badry  ->  K. El-Badry  |  ['K. El-Badry']\n",
      "M. Benisty  ->  M. Benisty  |  ['M. Benisty']\n",
      "R. Zhang  ->  R. Zhang  |  ['R. Zhang']\n",
      "S. Li  ->  S. Li  |  ['S. Li']\n"
     ]
    },
    {
     "name": "stdout",
     "output_type": "stream",
     "text": [
      "G. Guiglion  ->  G. Guiglion  |  ['G. Guiglion']\n",
      "H.-W. Rix  ->  H.-W. Rix  |  ['H.-W. Rix']\n",
      "Arxiv has 66 new papers today\n",
      "          7 with possible author matches\n"
     ]
    }
   ],
   "source": [
    "new_papers = get_new_papers()\n",
    "# add manual references\n",
    "add_paper_refs = []\n",
    "new_papers.extend([get_paper_from_identifier(k) for k in add_paper_refs])\n",
    "\n",
    "candidates = []\n",
    "for paperk in new_papers:\n",
    "    # Check author list with their initials\n",
    "    normed_author_list = [mpia.get_initials(k) for k in paperk['authors']]\n",
    "    hl_authors = highlight_authors_in_list(normed_author_list, mpia_authors, verbose=True)\n",
    "    matches = [(hl, orig) for hl, orig in zip(hl_authors, paperk['authors']) if 'mark' in hl]\n",
    "    paperk['authors'] = hl_authors\n",
    "    if matches:\n",
    "        # only select paper if an author matched our list\n",
    "        candidates.append(paperk)\n",
    "print(\"\"\"Arxiv has {0:,d} new papers today\"\"\".format(len(new_papers)))        \n",
    "print(\"\"\"          {0:,d} with possible author matches\"\"\".format(len(candidates)))"
   ]
  },
  {
   "cell_type": "markdown",
   "id": "3543b34a",
   "metadata": {
    "papermill": {
     "duration": 0.003957,
     "end_time": "2024-07-10T04:11:06.691700",
     "exception": false,
     "start_time": "2024-07-10T04:11:06.687743",
     "status": "completed"
    },
    "tags": []
   },
   "source": [
    "# Parse sources and generate relevant outputs\n",
    "\n",
    "From the candidates, we do the following steps:\n",
    "* get their tarball from ArXiv (and extract data)\n",
    "* find the main .tex file: find one with \\documentclass{...} (sometimes it's non trivial)\n",
    "* Check affiliations with :func:`validation`, which uses :func:`mpia.affiliation_verifications`\n",
    "* If passing the affiliations: we parse the .tex source\n",
    "   * inject sub-documents into the main (flatten the main document)\n",
    "   * parse structure, extract information (title, abstract, authors, figures...)\n",
    "   * handles `\\graphicspath` if provided\n",
    "* Generate the .md document."
   ]
  },
  {
   "cell_type": "code",
   "execution_count": 5,
   "id": "9576b79e",
   "metadata": {
    "execution": {
     "iopub.execute_input": "2024-07-10T04:11:06.699109Z",
     "iopub.status.busy": "2024-07-10T04:11:06.698683Z",
     "iopub.status.idle": "2024-07-10T04:11:51.822918Z",
     "shell.execute_reply": "2024-07-10T04:11:51.822073Z"
    },
    "papermill": {
     "duration": 45.129788,
     "end_time": "2024-07-10T04:11:51.824544",
     "exception": false,
     "start_time": "2024-07-10T04:11:06.694756",
     "status": "completed"
    },
    "scrolled": false,
    "tags": []
   },
   "outputs": [
    {
     "data": {
      "application/vnd.jupyter.widget-view+json": {
       "model_id": "bef8078422204146a8ab1f7dc011e8ce",
       "version_major": 2,
       "version_minor": 0
      },
      "text/plain": [
       "  0%|          | 0/7 [00:00<?, ?it/s]"
      ]
     },
     "metadata": {},
     "output_type": "display_data"
    },
    {
     "name": "stdout",
     "output_type": "stream",
     "text": [
      "Retrieving document from  https://arxiv.org/e-print/2407.06257\n"
     ]
    },
    {
     "name": "stdout",
     "output_type": "stream",
     "text": [
      "extracting tarball to tmp_2407.06257... done.\n",
      "Retrieving document from  https://arxiv.org/e-print/2407.06272\n"
     ]
    },
    {
     "name": "stdout",
     "output_type": "stream",
     "text": [
      "extracting tarball to tmp_2407.06272..."
     ]
    },
    {
     "name": "stdout",
     "output_type": "stream",
     "text": [
      " done.\n",
      "Retrieving document from  https://arxiv.org/e-print/2407.06444\n",
      "extracting tarball to tmp_2407.06444..."
     ]
    },
    {
     "name": "stdout",
     "output_type": "stream",
     "text": [
      " done.\n",
      "Retrieving document from  https://arxiv.org/e-print/2407.06845\n"
     ]
    },
    {
     "name": "stdout",
     "output_type": "stream",
     "text": [
      "extracting tarball to tmp_2407.06845..."
     ]
    },
    {
     "name": "stdout",
     "output_type": "stream",
     "text": [
      " done.\n",
      "  3: tmp_2407.06845/rnaas.tex, 136 lines\n",
      "  5: tmp_2407.06845/main.tex, 949 lines\n"
     ]
    },
    {
     "name": "stderr",
     "output_type": "stream",
     "text": [
      "/opt/hostedtoolcache/Python/3.9.19/x64/lib/python3.9/site-packages/IPython/core/interactiveshell.py:3550: LatexWarning: Multiple tex files.\n",
      "\n",
      "  exec(code_obj, self.user_global_ns, self.user_ns)\n",
      "/opt/hostedtoolcache/Python/3.9.19/x64/lib/python3.9/site-packages/IPython/core/interactiveshell.py:3550: LatexWarning: Found 2 candidates with documentclass definition.\n",
      "  exec(code_obj, self.user_global_ns, self.user_ns)\n",
      "/opt/hostedtoolcache/Python/3.9.19/x64/lib/python3.9/site-packages/IPython/core/interactiveshell.py:3550: LatexWarning: Assuming tmp_2407.06845/main.tex as main document.\n",
      "  exec(code_obj, self.user_global_ns, self.user_ns)\n",
      "/opt/hostedtoolcache/Python/3.9.19/x64/lib/python3.9/site-packages/arxiv_on_deck_2/latex.py:414: LatexWarning: Latex injecting: 'a_individual_targets' from 'tmp_2407.06845/a_individual_targets.tex'\n",
      "  warnings.warn(LatexWarning(f\"Latex injecting: '{ext}' from '{subsource}'\"))\n",
      "/opt/hostedtoolcache/Python/3.9.19/x64/lib/python3.9/site-packages/arxiv_on_deck_2/latex.py:414: LatexWarning: Latex injecting: 'at_sep_peaks_mass_limits' from 'tmp_2407.06845/at_sep_peaks_mass_limits.tex'\n",
      "  warnings.warn(LatexWarning(f\"Latex injecting: '{ext}' from '{subsource}'\"))\n",
      "/opt/hostedtoolcache/Python/3.9.19/x64/lib/python3.9/site-packages/arxiv_on_deck_2/latex.py:414: LatexWarning: Latex injecting: 'at_sep_peaks_other_params' from 'tmp_2407.06845/at_sep_peaks_other_params.tex'\n",
      "  warnings.warn(LatexWarning(f\"Latex injecting: '{ext}' from '{subsource}'\"))\n",
      "/opt/hostedtoolcache/Python/3.9.19/x64/lib/python3.9/site-packages/arxiv_on_deck_2/latex.py:414: LatexWarning: Latex injecting: 't_sep_prop' from 'tmp_2407.06845/t_sep_prop.tex'\n",
      "  warnings.warn(LatexWarning(f\"Latex injecting: '{ext}' from '{subsource}'\"))\n",
      "/opt/hostedtoolcache/Python/3.9.19/x64/lib/python3.9/site-packages/arxiv_on_deck_2/latex.py:414: LatexWarning: Latex injecting: 't_core_prop_new' from 'tmp_2407.06845/t_core_prop_new.tex'\n",
      "  warnings.warn(LatexWarning(f\"Latex injecting: '{ext}' from '{subsource}'\"))\n",
      "/opt/hostedtoolcache/Python/3.9.19/x64/lib/python3.9/site-packages/arxiv_on_deck_2/latex.py:414: LatexWarning: Latex injecting: 't_core_catalog_sample' from 'tmp_2407.06845/t_core_catalog_sample.tex'\n",
      "  warnings.warn(LatexWarning(f\"Latex injecting: '{ext}' from '{subsource}'\"))\n",
      "/opt/hostedtoolcache/Python/3.9.19/x64/lib/python3.9/site-packages/arxiv_on_deck_2/latex.py:414: LatexWarning: Latex injecting: 't_dendro_out' from 'tmp_2407.06845/t_dendro_out.tex'\n",
      "  warnings.warn(LatexWarning(f\"Latex injecting: '{ext}' from '{subsource}'\"))\n",
      "/opt/hostedtoolcache/Python/3.9.19/x64/lib/python3.9/site-packages/arxiv_on_deck_2/latex.py:414: LatexWarning: Latex injecting: 't_obs_info_new' from 'tmp_2407.06845/t_obs_info_new.tex'\n",
      "  warnings.warn(LatexWarning(f\"Latex injecting: '{ext}' from '{subsource}'\"))\n",
      "/opt/hostedtoolcache/Python/3.9.19/x64/lib/python3.9/site-packages/arxiv_on_deck_2/latex.py:414: LatexWarning: Latex injecting: 't_clump_prop_new' from 'tmp_2407.06845/t_clump_prop_new.tex'\n",
      "  warnings.warn(LatexWarning(f\"Latex injecting: '{ext}' from '{subsource}'\"))\n"
     ]
    },
    {
     "name": "stdout",
     "output_type": "stream",
     "text": [
      "S. Li  ->  S. Li  |  ['S. Li']\n"
     ]
    },
    {
     "name": "stdout",
     "output_type": "stream",
     "text": [
      "Found 100 bibliographic references in tmp_2407.06845/main.bbl.\n",
      "Retrieving document from  https://arxiv.org/e-print/2407.06874\n"
     ]
    },
    {
     "name": "stdout",
     "output_type": "stream",
     "text": [
      "extracting tarball to tmp_2407.06874..."
     ]
    },
    {
     "name": "stdout",
     "output_type": "stream",
     "text": [
      " done.\n",
      "  2: tmp_2407.06874/main.tex, 369 lines\n",
      "  5: tmp_2407.06874/sample631.tex, 753 lines\n",
      "Retrieving document from  https://arxiv.org/e-print/2407.06963\n"
     ]
    },
    {
     "name": "stderr",
     "output_type": "stream",
     "text": [
      "/opt/hostedtoolcache/Python/3.9.19/x64/lib/python3.9/site-packages/IPython/core/interactiveshell.py:3550: LatexWarning: Multiple tex files.\n",
      "\n",
      "  exec(code_obj, self.user_global_ns, self.user_ns)\n",
      "/opt/hostedtoolcache/Python/3.9.19/x64/lib/python3.9/site-packages/IPython/core/interactiveshell.py:3550: LatexWarning: Found 2 candidates with documentclass definition.\n",
      "  exec(code_obj, self.user_global_ns, self.user_ns)\n",
      "/opt/hostedtoolcache/Python/3.9.19/x64/lib/python3.9/site-packages/IPython/core/interactiveshell.py:3550: LatexWarning: Assuming tmp_2407.06874/sample631.tex as main document.\n",
      "  exec(code_obj, self.user_global_ns, self.user_ns)\n"
     ]
    },
    {
     "name": "stdout",
     "output_type": "stream",
     "text": [
      "extracting tarball to tmp_2407.06963..."
     ]
    },
    {
     "name": "stdout",
     "output_type": "stream",
     "text": [
      " done.\n"
     ]
    },
    {
     "name": "stdout",
     "output_type": "stream",
     "text": [
      "Found 173 bibliographic references in tmp_2407.06963/shboost_v1.bbl.\n",
      "syntax error in line 844: '=' expected\n",
      "Retrieving document from  https://arxiv.org/e-print/2407.07048\n",
      "extracting tarball to tmp_2407.07048..."
     ]
    },
    {
     "name": "stdout",
     "output_type": "stream",
     "text": [
      " done.\n"
     ]
    },
    {
     "name": "stdout",
     "output_type": "stream",
     "text": [
      "H.-W. Rix  ->  H.-W. Rix  |  ['H.-W. Rix']\n"
     ]
    },
    {
     "name": "stdout",
     "output_type": "stream",
     "text": [
      "Found 46 bibliographic references in tmp_2407.07048/main.bbl.\n",
      "Error retrieving bib data for Eggleton_1983_AproximationsRadii: 'author'\n"
     ]
    }
   ],
   "source": [
    "documents = []\n",
    "failed = []\n",
    "for paper in tqdm(candidates):\n",
    "    # debug crap\n",
    "    paper['identifier'] = paper['identifier'].lower().replace('arxiv:', '').replace(r'\\n', '').strip()\n",
    "    paper_id = paper['identifier']\n",
    "    \n",
    "    folder = f'tmp_{paper_id}'\n",
    "\n",
    "    try:\n",
    "        if not os.path.isdir(folder):\n",
    "            folder = retrieve_document_source(f\"{paper_id}\", f'tmp_{paper_id}')\n",
    "        \n",
    "        try:\n",
    "            doc = latex.LatexDocument(folder, validation=validation)    \n",
    "        except AffiliationError as affilerror:\n",
    "            msg = f\"ArXiv:{paper_id:s} is not an MPIA paper... \" + str(affilerror)\n",
    "            failed.append((paper, \"affiliation error: \" + str(affilerror) ))\n",
    "            continue\n",
    "        \n",
    "        # Hack because sometimes author parsing does not work well\n",
    "        if (len(doc.authors) != len(paper['authors'])):\n",
    "            doc._authors = paper['authors']\n",
    "        else:\n",
    "            # highlight authors (FIXME: doc.highlight_authors)\n",
    "            # done on arxiv paper already\n",
    "            doc._authors = highlight_authors_in_list(\n",
    "                [mpia.get_initials(k) for k in doc.authors], \n",
    "                mpia_authors, verbose=True)\n",
    "        if (doc.abstract) in (None, ''):\n",
    "            doc._abstract = paper['abstract']\n",
    "            \n",
    "        doc.comment = (get_markdown_badge(paper_id) + \n",
    "                       \"<mark>Appeared on: \" + paper['date'] + \"</mark> - \")\n",
    "        if paper['comments']:\n",
    "            doc.comment += \" _\" + paper['comments'] + \"_\"\n",
    "        \n",
    "        full_md = doc.generate_markdown_text()\n",
    "        \n",
    "        full_md += get_markdown_qrcode(paper_id)\n",
    "        \n",
    "        # replace citations\n",
    "        try:\n",
    "            bibdata = latex_bib.LatexBib.from_doc(doc)\n",
    "            full_md = latex_bib.replace_citations(full_md, bibdata)\n",
    "        except Exception as e:\n",
    "            print(e)\n",
    "        \n",
    "        documents.append((paper_id, full_md))\n",
    "    except Exception as e:\n",
    "        warnings.warn(latex.LatexWarning(f\"{paper_id:s} did not run properly\\n\" +\n",
    "                                         str(e)\n",
    "                                        ))\n",
    "        failed.append((paper, \"latex error \" + str(e)))"
   ]
  },
  {
   "cell_type": "markdown",
   "id": "2505a25c",
   "metadata": {
    "papermill": {
     "duration": 0.004213,
     "end_time": "2024-07-10T04:11:51.833208",
     "exception": false,
     "start_time": "2024-07-10T04:11:51.828995",
     "status": "completed"
    },
    "tags": []
   },
   "source": [
    "### Export the logs\n",
    "\n",
    "Throughout, we also keep track of the logs per paper. see `logs-{today date}.md` "
   ]
  },
  {
   "cell_type": "code",
   "execution_count": 6,
   "id": "d733828a",
   "metadata": {
    "execution": {
     "iopub.execute_input": "2024-07-10T04:11:51.842979Z",
     "iopub.status.busy": "2024-07-10T04:11:51.842493Z",
     "iopub.status.idle": "2024-07-10T04:11:51.861389Z",
     "shell.execute_reply": "2024-07-10T04:11:51.860772Z"
    },
    "papermill": {
     "duration": 0.025377,
     "end_time": "2024-07-10T04:11:51.862713",
     "exception": false,
     "start_time": "2024-07-10T04:11:51.837336",
     "status": "completed"
    },
    "scrolled": false,
    "tags": []
   },
   "outputs": [
    {
     "data": {
      "text/markdown": [
       "## Successful papers"
      ],
      "text/plain": [
       "<IPython.core.display.Markdown object>"
      ]
     },
     "metadata": {},
     "output_type": "display_data"
    },
    {
     "data": {
      "text/markdown": [
       "\n",
       "|||\n",
       "|---:|:---|\n",
       "| [![arXiv](https://img.shields.io/badge/arXiv-2407.06845-b31b1b.svg)](https://arxiv.org/abs/2407.06845) | **Digging into the Interior of Hot Cores with ALMA (DIHCA). IV. Fragmentation in High-mass Star-Forming Clumps**  |\n",
       "|| K. Ishihara, et al. -- incl., <mark>S. Li</mark> |\n",
       "|*Appeared on*| *2024-07-10*|\n",
       "|*Comments*| *30 pages, 18 figures, Accepted in ApJ*|\n",
       "|**Abstract**|            Fragmentation contributes to the formation and evolution of stars. Observationally, high-mass stars are known to form multiple-star systems, preferentially in cluster environments. Theoretically, Jeans instability has been suggested to determine characteristic fragmentation scales, and thermal or turbulent motion in the parental gas clump mainly contributes to the instability. To search for such a characteristic fragmentation scale, we have analyzed ALMA 1.33 mm continuum observations toward 30 high-mass star-forming clumps taken by the Digging into the Interior of Hot Cores with ALMA (DIHCA) survey. We have identified 573 cores using the dendrogram algorithm and measured the separation of cores by using the Minimum Spanning Tree (MST) technique. The core separation corrected by projection effects has a distribution peaked around 5800 au. In order to remove biases produced by different distances and sensitivities, we further smooth the images to a common physical scale and perform completeness tests. Our careful analysis finds a characteristic fragmentation scale of $\\sim$7000 au, comparable to the thermal Jeans length of the clumps. We conclude that thermal Jeans fragmentation plays a dominant role in determining the clump fragmentation in high-mass star-forming regions, without the need of invoking turbulent Jeans fragmentation.         |"
      ],
      "text/plain": [
       "[2407.06845] Digging into the Interior of Hot Cores with ALMA (DIHCA). IV. Fragmentation in High-mass Star-Forming Clumps\n",
       "\tK. Ishihara, et al. -- incl., <mark>S. Li</mark>"
      ]
     },
     "metadata": {},
     "output_type": "display_data"
    },
    {
     "data": {
      "text/markdown": [
       "\n",
       "|||\n",
       "|---:|:---|\n",
       "| [![arXiv](https://img.shields.io/badge/arXiv-2407.06963-b31b1b.svg)](https://arxiv.org/abs/2407.06963) | **Transferring spectroscopic stellar labels to 217 million Gaia DR3 XP stars with SHBoost**  |\n",
       "|| A. Khalatyan, et al. -- incl., <mark>G. Guiglion</mark> |\n",
       "|*Appeared on*| *2024-07-10*|\n",
       "|*Comments*| *Submitted to A&A. 13 pages, 13 figures + references & appendices. Data available at this https URL*|\n",
       "|**Abstract**|            We explore the feasibility of using machine-learning regression as a method of extracting basic stellar parameters and line-of-sight extinctions, given spectro-photometric data. To this end, we build a stable gradient-boosted random-forest regressor (xgboost), trained on spectroscopic data, capable of producing output parameters with reliable uncertainties from Gaia DR3 data (most notably the low-resolution XP spectra) without ground-based spectroscopic observations. Using Shapley additive explanations, we are able to interpret how the predictions for each star are influenced by each data feature. For the training and testing of the network, we use high-quality parameters obtained from the StarHorse code for a sample of around eight million stars observed by major spectroscopic surveys (APOGEE, GALAH, LAMOST, RAVE, SEGUE, and GES), complemented by curated samples of hot stars, very metal-poor stars, white dwarfs, and hot sub-dwarfs. The training data cover the whole sky, all Galactic components, and almost the full magnitude range of the Gaia DR3 XP sample of more than 217 million objects that also have parallaxes. We achieve median uncertainties (at $G\\approx16$) of 0.20 mag in V-band extinction, 0.01 dex in logarithmic effective temperature, 0.20 dex in surface gravity, 0.18 dex in metallicity, and $12\\%$ in mass (over the full Gaia DR3 XP sample, with considerable variations in precision as a function of magnitude and stellar type). We succeed in predicting competitive results based on Gaia DR3 XP spectra compared to classical isochrone fitting methods we employed in earlier work, especially for the parameters $A_V$, $T_{\\rm eff}$, and metallicity. Finally, we showcase some applications of this new catalogue (e.g. extinction maps, metallicity trends in the Milky Way, extended maps of young massive stars, metal-poor stars, and metal-rich stars). [abridged]         |"
      ],
      "text/plain": [
       "[2407.06963] Transferring spectroscopic stellar labels to 217 million Gaia DR3 XP stars with SHBoost\n",
       "\tA. Khalatyan, et al. -- incl., <mark>G. Guiglion</mark>"
      ]
     },
     "metadata": {},
     "output_type": "display_data"
    },
    {
     "data": {
      "text/markdown": [
       "\n",
       "|||\n",
       "|---:|:---|\n",
       "| [![arXiv](https://img.shields.io/badge/arXiv-2407.07048-b31b1b.svg)](https://arxiv.org/abs/2407.07048) | **Ba Enrichment in Gaia MS+WD Binaries: Tracing $s$-Process Element Production**  |\n",
       "|| P. Rekhi, et al. -- incl., <mark>H.-W. Rix</mark> |\n",
       "|*Appeared on*| *2024-07-10*|\n",
       "|*Comments*| *12 pages, 10 figures*|\n",
       "|**Abstract**|            A large population of intermediate-separation binaries, consisting of a main-sequence (MS) star and a white dwarf (WD), has recently emerged from Gaia's third data release (DR3), posing challenges to current models of binary evolution. Here we examine the $s$-process element abundances in these systems using data from GALAH DR3. Following refined sample analysis with parameter estimates based on GALAH spectra, we find a distinct locus where enhanced $s$-process elements depend on both the WD mass and metallicity, consistent with loci identified in previous asymptotic giant branch (AGB) nucleosynthesis studies with higher $s$-process yields. Notably, these enhanced abundances show no correlation with the systems' orbital parameters, supporting a history of accretion in intermediate-separation MS+WD systems. Consequently, our results form a direct observational evidence of a connection between AGB masses and $s$-process yields. We conclude by showing that the GALAH DR3 survey includes numerous Ba dwarf stars, within and beyond the mass range covered in our current sample, which can further elucidate $s$-process element distributions in MS+WD binaries.         |"
      ],
      "text/plain": [
       "[2407.07048] Ba Enrichment in Gaia MS+WD Binaries: Tracing $s$-Process Element Production\n",
       "\tP. Rekhi, et al. -- incl., <mark>H.-W. Rix</mark>"
      ]
     },
     "metadata": {},
     "output_type": "display_data"
    },
    {
     "data": {
      "text/markdown": [
       "## Failed papers"
      ],
      "text/plain": [
       "<IPython.core.display.Markdown object>"
      ]
     },
     "metadata": {},
     "output_type": "display_data"
    },
    {
     "data": {
      "text/markdown": [
       "\n",
       "|||\n",
       "|---:|:---|\n",
       "| [![arXiv](https://img.shields.io/badge/arXiv-2407.06257-b31b1b.svg)](https://arxiv.org/abs/2407.06257) | **Once a Triple, Not Always a Triple: The Evolution of Hierarchical Triples that Yield Merged Inner Binaries**  |\n",
       "|| C. Shariat, et al. -- incl., <mark>K. El-Badry</mark> |\n",
       "|*Appeared on*| *2024-07-10*|\n",
       "|*Comments*| *Submitted to ApJ. Comments are welcome*|\n",
       "|**Abstract**|            More than half of all main-sequence (MS) stars have one or more companions, and many of those with initial masses <8 M$_\\odot$ are born in hierarchical triples. These systems feature two stars in a close orbit (the inner binary) while a tertiary star orbits them on a wider orbit (the outer binary). In hierarchical triples, three-body dynamics combined with stellar evolution drives interactions and, in many cases, merges the inner binary entirely to create a renovated `Post-Merger Binary' (PMB). By leveraging dynamical simulations and tracking binary interactions, we explore the outcomes of merged triples and investigate whether PMBs preserve signatures of their three-body history. Our findings indicate that in 26-54% of wide double WD binaries (s>100 au), the more massive white dwarf (WD) is a merger product, implying that these DWD binaries were previously triples. Overall, we estimate that $44\\pm14\\%$ of observed wide DWDs originated in triple star systems and thereby have rich dynamical histories. Additionally, our results suggest that the separations of inner and outer binaries are uncorrelated at birth, providing insights into stellar formation processes. We also examine MS+MS and MS+Red Giant mergers manifesting as Blue Straggler stars (BSSs). These PMBs have orbital configurations and ages similar to most observed BSS binaries. While the triple+merger formation channel can explain the observed chemical abundances, moderate eccentricities, and companion masses in BSS binaries, it likely only accounts for $\\sim$20-25% of BSSs. Meanwhile, we predict that the majority of observed single BSSs formed as collisions in triples and harbor long-period (>10 yr) companions. Furthermore, both BSS binaries and DWDs exhibit signatures of WD birth kicks.         |\n",
       "|<p style=\"color:green\"> **ERROR** </p>| <p style=\"color:green\">affiliation error: mpia.affiliation_verifications: 'Heidelberg' keyword not found.</p> |"
      ],
      "text/plain": [
       "<IPython.core.display.Markdown object>"
      ]
     },
     "metadata": {},
     "output_type": "display_data"
    },
    {
     "data": {
      "text/markdown": [
       "\n",
       "|||\n",
       "|---:|:---|\n",
       "| [![arXiv](https://img.shields.io/badge/arXiv-2407.06272-b31b1b.svg)](https://arxiv.org/abs/2407.06272) | **ALMA high-resolution observations unveil planet formation shaping molecular emission in the PDS 70 disk**  |\n",
       "|| L. Rampinelli, et al. -- incl., <mark>M. Benisty</mark> |\n",
       "|*Appeared on*| *2024-07-10*|\n",
       "|*Comments*| *25 pages, 10 figures, 3 tables, 8 figures and one table in appendix. Accepted for publication in A&A*|\n",
       "|**Abstract**|            With two directly detected protoplanets, the PDS 70 system is a unique source in which to study the complex interplay between forming planets and their natal environment. The large dust cavity carved by the two giant planets can affect the disk chemistry, and therefore the molecular emission morphology. On the other hand, chemical properties of the gas component of the disk are expected to leave an imprint on the planetary atmospheres. In this work, we reconstruct the emission morphology of a rich inventory of molecular tracers in the PDS 70 disk, and we look for possible chemical signatures of the two actively accreting protoplanets, PDS b and c. We leverage Atacama Large Millimeter/submillimeter Array (ALMA) band 6 high-angular-resolution and deep-sensitivity line emission observations, together with image and $uv$-plane techniques, to boost the detection of faint lines. We robustly detect ring-shaped emission from $^{12}$CO, $^{13}$CO, C$^{18}$O, H$^{13}$CN, HC$^{15}$N, DCN, H$_2$CO, CS, C$_2$H, and H$^{13}$CO$^{+}$ lines in unprecedented detail. Most of the molecular tracers show a peak of the emission inside the millimeter dust peak. We interpret this as the direct impact of the effective irradiation of the cavity wall, as a result of the planet formation process. Moreover, we have found evidence of an O-poor gas reservoir in the outer disk, which is supported by the observations of bright C-rich molecules, the non-detection of SO, and a lower limit on the $\\mathrm{CS/SO}$ ratio of $\\sim1$. Eventually, we provide the first detection of the c-C$_3$H$_2$ transitions at 218.73 GHz, and the marginal detection of an azimuthal asymmetry in the higher-energy H$_2$CO (3$_{2,1}$-2$_{2,0}$) line, which could be due to accretion heating near PDS 70b.         |\n",
       "|<p style=\"color:green\"> **ERROR** </p>| <p style=\"color:green\">affiliation error: mpia.affiliation_verifications: 'Heidelberg' keyword not found.</p> |"
      ],
      "text/plain": [
       "<IPython.core.display.Markdown object>"
      ]
     },
     "metadata": {},
     "output_type": "display_data"
    },
    {
     "data": {
      "text/markdown": [
       "\n",
       "|||\n",
       "|---:|:---|\n",
       "| [![arXiv](https://img.shields.io/badge/arXiv-2407.06444-b31b1b.svg)](https://arxiv.org/abs/2407.06444) | **First laboratory and on-sky results of an adaptive secondary mirror with TNO-style actuators on the NASA Infrared Telescope Facility**  |\n",
       "|| E. Lee, et al. -- incl., <mark>R. Zhang</mark> |\n",
       "|*Appeared on*| *2024-07-10*|\n",
       "|*Comments*| *15 pages, 12 figures, SPIE Astronomical Telescopes + Instrumentation: Adaptive Optics Systems IX*|\n",
       "|**Abstract**|            We are developing an adaptive secondary mirror (ASM) that uses a new actuator technology created by the Netherlands Organization for Applied Scientific Research (TNO). The TNO hybrid variable reluctance actuators have more than an order of magnitude better efficiency over the traditional voice coil actuators that have been used on existing ASMs and show potential for improving the long-term robustness and reliability of ASMs. To demonstrate the performance, operations, and serviceability of TNO's actuators in an observatory, we have developed a 36-actuator prototype ASM for the NASA Infrared Telescope Facility (IRTF) called IRTF-ASM-1. IRTF-ASM-1 provides the first on-sky demonstration of this approach and will help us evaluate the long-term performance and use of this technology in an astronomical facility environment. We present calibration and performance results with the ASM in a Meniscus Hindle Sphere lens setup as well as preliminary on-sky results on IRTF. IRTF-ASM-1 achieved stable closed-loop performance on-sky with H-band Strehl ratios of 35-40% in long-exposure images under a variety of seeing conditions.         |\n",
       "|<p style=\"color:green\"> **ERROR** </p>| <p style=\"color:green\">affiliation error: mpia.affiliation_verifications: 'Heidelberg' keyword not found.</p> |"
      ],
      "text/plain": [
       "<IPython.core.display.Markdown object>"
      ]
     },
     "metadata": {},
     "output_type": "display_data"
    },
    {
     "data": {
      "text/markdown": [
       "\n",
       "|||\n",
       "|---:|:---|\n",
       "| [![arXiv](https://img.shields.io/badge/arXiv-2407.06874-b31b1b.svg)](https://arxiv.org/abs/2407.06874) | **The flux of ultra-high-energy cosmic rays along the supergalactic plane measured at the Pierre Auger Observatory**  |\n",
       "|| P. A. Collaboration, et al. |\n",
       "|*Appeared on*| *2024-07-10*|\n",
       "|*Comments*| *submitted to ApJ*|\n",
       "|**Abstract**|            Ultra-high-energy cosmic rays are known to be mainly of extragalactic origin, and their propagation is limited by energy losses, so their arrival directions are expected to correlate with the large-scale structure of the local Universe. In this work, we investigate the possible presence of intermediate-scale excesses in the flux of the most energetic cosmic rays from the direction of the supergalactic plane region using events with energies above 20 EeV recorded with the surface detector array of the Pierre Auger Observatory up to 31 December 2022, with a total exposure of 135,000 km^2 sr yr. The strongest indication for an excess that we find, with a post-trial significance of 3.1{\\sigma}, is in the Centaurus region, as in our previous reports, and it extends down to lower energies than previously studied. We do not find any strong hints of excesses from any other region of the supergalactic plane at the same angular scale. In particular, our results do not confirm the reports by the Telescope Array collaboration of excesses from two regions in the Northern Hemisphere at the edge of the field of view of the Pierre Auger Observatory. With a comparable exposure, our results in those regions are in good agreement with the expectations from an isotropic distribution.         |\n",
       "|<p style=\"color:green\"> **ERROR** </p>| <p style=\"color:green\">affiliation error: mpia.affiliation_verifications: 'Heidelberg' keyword not found.</p> |"
      ],
      "text/plain": [
       "<IPython.core.display.Markdown object>"
      ]
     },
     "metadata": {},
     "output_type": "display_data"
    }
   ],
   "source": [
    "import datetime\n",
    "today = str(datetime.date.today())\n",
    "logfile = f\"_build/html/logs/log-{today}.md\"\n",
    "\n",
    "\n",
    "with open(logfile, 'w') as logs:\n",
    "    # Success\n",
    "    logs.write(f'# Arxiv on Deck 2: Logs - {today}\\n\\n')\n",
    "    logs.write(\"\"\"* Arxiv had {0:,d} new papers\\n\"\"\".format(len(new_papers)))\n",
    "    logs.write(\"\"\"    * {0:,d} with possible author matches\\n\\n\"\"\".format(len(candidates)))\n",
    "    logs.write(\"## Sucessful papers\\n\\n\")\n",
    "    display(Markdown(\"## Successful papers\"))\n",
    "    success = [k[0] for k in documents]\n",
    "    for candid in candidates:\n",
    "        if candid['identifier'].split(':')[-1] in success:\n",
    "            display(candid)\n",
    "            logs.write(candid.generate_markdown_text() + '\\n\\n')\n",
    "\n",
    "    ## failed\n",
    "    logs.write(\"## Failed papers\\n\\n\")\n",
    "    display(Markdown(\"## Failed papers\"))\n",
    "    failed = sorted(failed, key=lambda x: x[1])\n",
    "    current_reason = \"\"\n",
    "    for paper, reason in failed:\n",
    "        if 'affiliation' in reason:\n",
    "            color = 'green'\n",
    "        else:\n",
    "            color = 'red'\n",
    "        data = Markdown(\n",
    "                paper.generate_markdown_text() + \n",
    "                f'\\n|<p style=\"color:{color:s}\"> **ERROR** </p>| <p style=\"color:{color:s}\">{reason:s}</p> |'\n",
    "               )\n",
    "        if reason != current_reason:\n",
    "            logs.write(f'### {reason:s} \\n\\n')\n",
    "            current_reason = reason\n",
    "        logs.write(data.data + '\\n\\n')\n",
    "        \n",
    "        # only display here the important errors (all in logs)\n",
    "        # if color in ('red',):\n",
    "        display(data)"
   ]
  },
  {
   "cell_type": "markdown",
   "id": "472d20ee",
   "metadata": {
    "papermill": {
     "duration": 0.004915,
     "end_time": "2024-07-10T04:11:51.872742",
     "exception": false,
     "start_time": "2024-07-10T04:11:51.867827",
     "status": "completed"
    },
    "tags": []
   },
   "source": [
    "## Export documents\n",
    "\n",
    "We now write the .md files and export relevant images"
   ]
  },
  {
   "cell_type": "code",
   "execution_count": 7,
   "id": "d426aed9",
   "metadata": {
    "execution": {
     "iopub.execute_input": "2024-07-10T04:11:51.883793Z",
     "iopub.status.busy": "2024-07-10T04:11:51.883376Z",
     "iopub.status.idle": "2024-07-10T04:11:51.890511Z",
     "shell.execute_reply": "2024-07-10T04:11:51.889760Z"
    },
    "papermill": {
     "duration": 0.01422,
     "end_time": "2024-07-10T04:11:51.891891",
     "exception": false,
     "start_time": "2024-07-10T04:11:51.877671",
     "status": "completed"
    },
    "tags": []
   },
   "outputs": [],
   "source": [
    "def export_markdown_summary(md: str, md_fname:str, directory: str):\n",
    "    \"\"\"Export MD document and associated relevant images\"\"\"\n",
    "    import os\n",
    "    import shutil\n",
    "    import re\n",
    "\n",
    "    if (os.path.exists(directory) and not os.path.isdir(directory)):\n",
    "        raise RuntimeError(f\"a non-directory file exists with name {directory:s}\")\n",
    "\n",
    "    if (not os.path.exists(directory)):\n",
    "        print(f\"creating directory {directory:s}\")\n",
    "        os.mkdir(directory)\n",
    "\n",
    "    fig_fnames = (re.compile(r'\\[Fig.*\\]\\((.*)\\)').findall(md) + \n",
    "                  re.compile(r'\\<img src=\"([^>\\s]*)\"[^>]*/>').findall(md))\n",
    "    print(\"found figures\", fig_fnames)\n",
    "    for fname in fig_fnames:\n",
    "        if 'http' in fname:\n",
    "            # No need to copy online figures\n",
    "            continue\n",
    "        if not os.path.exists(fname):\n",
    "            print(\"file not found\", fname)\n",
    "            continue\n",
    "        print(\"copying \", fname, \"to\", directory)\n",
    "        destdir = os.path.join(directory, os.path.dirname(fname))\n",
    "        destfname = os.path.join(destdir, os.path.basename(fname))\n",
    "        try:\n",
    "            os.makedirs(destdir)\n",
    "        except FileExistsError:\n",
    "            pass\n",
    "        shutil.copy(fname, destfname)\n",
    "    with open(os.path.join(directory, md_fname), 'w') as fout:\n",
    "        fout.write(md)\n",
    "    print(\"exported in \", os.path.join(directory, md_fname))\n",
    "    [print(\"    + \" + os.path.join(directory,fk)) for fk in fig_fnames]"
   ]
  },
  {
   "cell_type": "code",
   "execution_count": 8,
   "id": "014d04a4",
   "metadata": {
    "execution": {
     "iopub.execute_input": "2024-07-10T04:11:51.903317Z",
     "iopub.status.busy": "2024-07-10T04:11:51.902794Z",
     "iopub.status.idle": "2024-07-10T04:11:51.913719Z",
     "shell.execute_reply": "2024-07-10T04:11:51.913155Z"
    },
    "papermill": {
     "duration": 0.018164,
     "end_time": "2024-07-10T04:11:51.915061",
     "exception": false,
     "start_time": "2024-07-10T04:11:51.896897",
     "status": "completed"
    },
    "tags": []
   },
   "outputs": [
    {
     "name": "stdout",
     "output_type": "stream",
     "text": [
      "found figures ['tmp_2407.06845/./f_each_corr_fix_area.png', 'tmp_2407.06845/./f_Sep_original_3type_wVLs_v2.png', 'tmp_2407.06845/./f_Sep_3d_8type_ws.png']\n",
      "copying  tmp_2407.06845/./f_each_corr_fix_area.png to _build/html/\n",
      "copying  tmp_2407.06845/./f_Sep_original_3type_wVLs_v2.png to _build/html/\n",
      "copying  tmp_2407.06845/./f_Sep_3d_8type_ws.png to _build/html/\n",
      "exported in  _build/html/2407.06845.md\n",
      "    + _build/html/tmp_2407.06845/./f_each_corr_fix_area.png\n",
      "    + _build/html/tmp_2407.06845/./f_Sep_original_3type_wVLs_v2.png\n",
      "    + _build/html/tmp_2407.06845/./f_Sep_3d_8type_ws.png\n",
      "found figures ['tmp_2407.06963/./im/shngboost_q23_xp_test_kiel_magbins.png', 'tmp_2407.06963/./im/ngboost_performance_testdataset_all.png', 'tmp_2407.06963/./im/metallicity_calibration.png']\n",
      "copying  tmp_2407.06963/./im/shngboost_q23_xp_test_kiel_magbins.png to _build/html/\n",
      "copying  tmp_2407.06963/./im/ngboost_performance_testdataset_all.png to _build/html/\n",
      "copying  tmp_2407.06963/./im/metallicity_calibration.png to _build/html/\n",
      "exported in  _build/html/2407.06963.md\n",
      "    + _build/html/tmp_2407.06963/./im/shngboost_q23_xp_test_kiel_magbins.png\n",
      "    + _build/html/tmp_2407.06963/./im/ngboost_performance_testdataset_all.png\n",
      "    + _build/html/tmp_2407.06963/./im/metallicity_calibration.png\n",
      "found figures ['tmp_2407.07048/./figures/BaFe_m1_NCE_cond.png', 'tmp_2407.07048/./figures/BaFe_ecc_NCE_cond.png', 'tmp_2407.07048/./figures/BaFe_period_NCE_cond.png', 'tmp_2407.07048/./figures/BaFe_rL_NCE_cond.png', 'tmp_2407.07048/./figures/feh_m2_BaFe_NCE.png', 'tmp_2407.07048/./figures/feh_m2_YFe_NCE.png', 'tmp_2407.07048/figures/s_proc_vs_BaY_fe.png']\n",
      "copying  tmp_2407.07048/./figures/BaFe_m1_NCE_cond.png to _build/html/\n",
      "copying  tmp_2407.07048/./figures/BaFe_ecc_NCE_cond.png to _build/html/\n",
      "copying  tmp_2407.07048/./figures/BaFe_period_NCE_cond.png to _build/html/\n",
      "copying  tmp_2407.07048/./figures/BaFe_rL_NCE_cond.png to _build/html/\n",
      "copying  tmp_2407.07048/./figures/feh_m2_BaFe_NCE.png to _build/html/\n",
      "copying  tmp_2407.07048/./figures/feh_m2_YFe_NCE.png to _build/html/\n",
      "copying  tmp_2407.07048/figures/s_proc_vs_BaY_fe.png to _build/html/\n",
      "exported in  _build/html/2407.07048.md\n",
      "    + _build/html/tmp_2407.07048/./figures/BaFe_m1_NCE_cond.png\n",
      "    + _build/html/tmp_2407.07048/./figures/BaFe_ecc_NCE_cond.png\n",
      "    + _build/html/tmp_2407.07048/./figures/BaFe_period_NCE_cond.png\n",
      "    + _build/html/tmp_2407.07048/./figures/BaFe_rL_NCE_cond.png\n",
      "    + _build/html/tmp_2407.07048/./figures/feh_m2_BaFe_NCE.png\n",
      "    + _build/html/tmp_2407.07048/./figures/feh_m2_YFe_NCE.png\n",
      "    + _build/html/tmp_2407.07048/figures/s_proc_vs_BaY_fe.png\n"
     ]
    }
   ],
   "source": [
    "for paper_id, md in documents:\n",
    "    export_markdown_summary(md, f\"{paper_id:s}.md\", '_build/html/')"
   ]
  },
  {
   "cell_type": "markdown",
   "id": "f087a0a7",
   "metadata": {
    "papermill": {
     "duration": 0.005213,
     "end_time": "2024-07-10T04:11:51.925591",
     "exception": false,
     "start_time": "2024-07-10T04:11:51.920378",
     "status": "completed"
    },
    "tags": []
   },
   "source": [
    "## Display the papers\n",
    "\n",
    "Not necessary but allows for a quick check."
   ]
  },
  {
   "cell_type": "code",
   "execution_count": 9,
   "id": "fd25f625",
   "metadata": {
    "execution": {
     "iopub.execute_input": "2024-07-10T04:11:51.937261Z",
     "iopub.status.busy": "2024-07-10T04:11:51.936809Z",
     "iopub.status.idle": "2024-07-10T04:11:51.944478Z",
     "shell.execute_reply": "2024-07-10T04:11:51.943846Z"
    },
    "papermill": {
     "duration": 0.015011,
     "end_time": "2024-07-10T04:11:51.945836",
     "exception": false,
     "start_time": "2024-07-10T04:11:51.930825",
     "status": "completed"
    },
    "scrolled": false,
    "tags": []
   },
   "outputs": [
    {
     "data": {
      "text/markdown": [
       "<div class=\"macros\" style=\"visibility:hidden;\">\n",
       "$\\newcommand{\\ensuremath}{}$\n",
       "$\\newcommand{\\xspace}{}$\n",
       "$\\newcommand{\\object}[1]{\\texttt{#1}}$\n",
       "$\\newcommand{\\farcs}{{.}''}$\n",
       "$\\newcommand{\\farcm}{{.}'}$\n",
       "$\\newcommand{\\arcsec}{''}$\n",
       "$\\newcommand{\\arcmin}{'}$\n",
       "$\\newcommand{\\ion}[2]{#1#2}$\n",
       "$\\newcommand{\\textsc}[1]{\\textrm{#1}}$\n",
       "$\\newcommand{\\hl}[1]{\\textrm{#1}}$\n",
       "$\\newcommand{\\footnote}[1]{}$\n",
       "$\\newcommand{\\vdag}{(v)^\\dagger}$\n",
       "$\\newcommand$\n",
       "$\\newcommand$\n",
       "$\\newcommand{\\JL}{\\lambda_{\\mathrm{J, clump}}^{\\mathrm{th}}}$\n",
       "$\\newcommand{\\tJL}{\\lambda_{\\mathrm{J, clump}}^{\\mathrm{tur}}}$\n",
       "$\\newcommand{\\JM}{\\mathrm{M}_{\\mathrm{J, clump}}^{\\mathrm{th}}}$\n",
       "$\\newcommand{\\tJM}{\\mathrm{M}_{\\mathrm{J, clump}}^{\\mathrm{tur}}}$\n",
       "$\\newcommand{\\Add}[1]{\\textbf{#1}}$</div>\n",
       "\n",
       "\n",
       "\n",
       "<div id=\"title\">\n",
       "\n",
       "# Digging into the Interior of Hot Cores with ALMA (DIHCA). IV. Fragmentation in High-mass Star-Forming Clumps\n",
       "\n",
       "</div>\n",
       "<div id=\"comments\">\n",
       "\n",
       "[![arXiv](https://img.shields.io/badge/arXiv-2407.06845-b31b1b.svg)](https://arxiv.org/abs/2407.06845)<mark>Appeared on: 2024-07-10</mark> -  _30 pages, 18 figures, Accepted in ApJ_\n",
       "\n",
       "</div>\n",
       "<div id=\"authors\">\n",
       "\n",
       "K. Ishihara, et al. -- incl., <mark>S. Li</mark>\n",
       "\n",
       "</div>\n",
       "<div id=\"abstract\">\n",
       "\n",
       "**Abstract:** Fragmentation contributes to the formation and evolution of stars.Observationally, high-mass stars are known to form multiple-star systems, preferentially in cluster environments.Theoretically, Jeans instability has been suggested to determine characteristic fragmentation scales, and thermal or turbulent motion in the parental gas clump mainly contributes to the instability.To search for such a characteristic fragmentation scale, we have analyzed ALMA 1.33 mm continuum observations toward 30 high-mass star-forming clumps taken by the Digging into the Interior of Hot Cores with ALMA (DIHCA) survey.We have identified 573 cores using the dendrogram algorithm and measured the separation of cores by using the Minimum Spanning Tree (MST) technique.The core separation corrected by projection effects has a distribution peaked  around 5800 au.In order to remove biases produced by different distances and sensitivities, we further smooth the images to a common physical scale and perform completeness tests.Our careful analysis finds a characteristic fragmentation scale of $\\sim$ 7000 au, comparable to the thermal Jeans length of the clumps. We conclude that thermal Jeans fragmentation plays a dominant role in determining the clump fragmentation in high-mass star-forming regions, without the need of invoking turbulent Jeans fragmentation.\n",
       "\n",
       "</div>\n",
       "\n",
       "<div id=\"div_fig1\">\n",
       "\n",
       "<img src=\"tmp_2407.06845/./f_each_corr_fix_area.png\" alt=\"Fig11\" width=\"100%\"/>\n",
       "\n",
       "**Figure 11. -** Top panels: target distance, rms noise level and $5\\sigma$ mass sensitivity against the number of identified cores.\n",
       "Bottom panels: target distances, rms noise level and $5\\sigma$ mass sensitivity against the number of identified cores within the same physical area whose diameter is the minimum of the FWHM ($\\sim$16 pc) of the FoV in the regions.\n",
       "The header of each panel shows the Spearman's rank coefficient $\\rho_s$ and the p-value.\n",
       "The color coding shows the target distances.\n",
       " (*fig:correlations*)\n",
       "\n",
       "</div>\n",
       "<div id=\"div_fig2\">\n",
       "\n",
       "<img src=\"tmp_2407.06845/./f_Sep_original_3type_wVLs_v2.png\" alt=\"Fig3\" width=\"100%\"/>\n",
       "\n",
       "**Figure 3. -** _ top_: Distribution of the angular separation obtained from MST for the entire sample. The solid line shows the log-pdf produced by Gaussian Kernel Density Estimation. Vertical lines represent minimum, mean, and maximum angular resolutions, respectively.\n",
       "    _ middle_: Cumulative distribution of core separations divided by the angular resolution of the observations for clumps in each distance.\n",
       "    _ bottom_: Separation distribution in au scale by converting the angular separation into a physical separation using the source distance. Vertical lines represent minimum, mean, and maximum linear resolutions, respectively.\n",
       "     (*fig:sep_obs_ori*)\n",
       "\n",
       "</div>\n",
       "<div id=\"div_fig3\">\n",
       "\n",
       "<img src=\"tmp_2407.06845/./f_Sep_3d_8type_ws.png\" alt=\"Fig13\" width=\"100%\"/>\n",
       "\n",
       "**Figure 13. -** \n",
       "    Separation distribution in various styles. Left panels display them in physical scale. Right panels display them in normalized to the clump thermal Jeans length. Each column represents as follows. Core separation measured from\n",
       "    (a) original images,\n",
       "    (b) smoothed images,\n",
       "    (c) for cores whose mass is higher than $1 M_\\odot$, and\n",
       "    (d) the cores whose mass is higher than  $3 M_\\odot$.\n",
       "     (*fig:sep_3d*)\n",
       "\n",
       "</div><div id=\"qrcode\"><img src=https://api.qrserver.com/v1/create-qr-code/?size=100x100&data=\"https://arxiv.org/abs/2407.06845\"></div>"
      ],
      "text/plain": [
       "<IPython.core.display.Markdown object>"
      ]
     },
     "metadata": {},
     "output_type": "display_data"
    },
    {
     "data": {
      "text/markdown": [
       "<div class=\"macros\" style=\"visibility:hidden;\">\n",
       "$\\newcommand{\\ensuremath}{}$\n",
       "$\\newcommand{\\xspace}{}$\n",
       "$\\newcommand{\\object}[1]{\\texttt{#1}}$\n",
       "$\\newcommand{\\farcs}{{.}''}$\n",
       "$\\newcommand{\\farcm}{{.}'}$\n",
       "$\\newcommand{\\arcsec}{''}$\n",
       "$\\newcommand{\\arcmin}{'}$\n",
       "$\\newcommand{\\ion}[2]{#1#2}$\n",
       "$\\newcommand{\\textsc}[1]{\\textrm{#1}}$\n",
       "$\\newcommand{\\hl}[1]{\\textrm{#1}}$\n",
       "$\\newcommand{\\footnote}[1]{}$\n",
       "$\\newcommand{\\fa}[1]{\\textcolor{blue}{#1}}$\n",
       "$\\newcommand{\\sn}[1]{\\textcolor{olive}{#1}}$</div>\n",
       "\n",
       "\n",
       "\n",
       "<div id=\"title\">\n",
       "\n",
       "# Transferring spectroscopic stellar labels\\ to 217 million $_ Gaia_$ DR3 XP stars with ${\\tt SHBoost}$\n",
       "\n",
       "</div>\n",
       "<div id=\"comments\">\n",
       "\n",
       "[![arXiv](https://img.shields.io/badge/arXiv-2407.06963-b31b1b.svg)](https://arxiv.org/abs/2407.06963)<mark>Appeared on: 2024-07-10</mark> -  _Submitted to A&A. 13 pages, 13 figures + references & appendices. Data available at this https URL_\n",
       "\n",
       "</div>\n",
       "<div id=\"authors\">\n",
       "\n",
       "A. Khalatyan, et al. -- incl., <mark>G. Guiglion</mark>\n",
       "\n",
       "</div>\n",
       "<div id=\"abstract\">\n",
       "\n",
       "**Abstract:** With $_ Gaia_$ Data Release 3 (DR3), new and improved astrometric, photometric, and spectroscopic measurements for 1.8 billion stars are available. Alongside this wealth of new data, however, come challenges in finding increasingly efficient and accurate computational methods to use for analysis. In this paper we explore the feasibility of using machine-learning regression as a method of extracting basic stellar parameters and line-of-sight extinctions, given spectro-photometric data. To this end, we build a stable gradient-boosted random-forest regressor ( ${\\tt xgboost}$ ), trained on spectroscopic data, capable of producing output parameters with reliable uncertainties from $_ Gaia_$ DR3 data (most notably the low-resolution XP spectra) without ground-based spectroscopic observations. Using Shapley additive explanations, we are also able to interpret how the predictions for each star are influenced by each data feature. For the training and testing of the network, we use high-quality parameters obtained from the ${\\tt StarHorse}$ code for a sample of around eight million stars observed by major spectroscopic surveys (APOGEE, GALAH, LAMOST, RAVE, SEGUE, and GES), complemented by curated samples of hot stars, very metal-poor stars, white dwarfs, and hot sub-dwarfs. The training data cover the whole sky, all Galactic components, and almost the full magnitude range of the $_ Gaia_$ DR3 XP sample of more than 217 million objects that also have parallaxes. We achieve median uncertainties (at $G\\approx16$ ) of 0.20 mag in V-band extinction, 0.01 dex in logarithmic effective temperature, 0.20 dex in surface gravity, 0.18 dex in metallicity, and $12\\%$ in mass (over the full $_ Gaia_$ DR3 XP sample, with considerable variations in precision as a function of magnitude and stellar type). We succeed in predicting competitive results based on $_ Gaia_$ DR3 XP spectra compared to classical isochrone or spectral-energy distribution fitting methods we employed in earlier work, especially for the parameters $A_V$ , $T_{\\rm eff}$ , and metallicity. Finally, we showcase some potential applications of this new catalogue (e.g. extinction maps, metallicity trends in the Milky Way, extended maps of young massive stars, metal-poor stars, and metal-rich stars).\n",
       "\n",
       "</div>\n",
       "\n",
       "<div id=\"div_fig1\">\n",
       "\n",
       "<img src=\"tmp_2407.06963/./im/shngboost_q23_xp_test_kiel_magbins.png\" alt=\"Fig1\" width=\"100%\"/>\n",
       "\n",
       "**Figure 1. -** Unfiltered _ Kiel_ diagrams of the full _ Gaia_ DR3 XP sample, in four broad bins of observed $G$ magnitude. (*fig:kiel*)\n",
       "\n",
       "</div>\n",
       "<div id=\"div_fig2\">\n",
       "\n",
       "<img src=\"tmp_2407.06963/./im/ngboost_performance_testdataset_all.png\" alt=\"Fig11\" width=\"100%\"/>\n",
       "\n",
       "**Figure 11. -** Performance of the {\\tt xgboost} models for the test datasets for each of the training labels. In the top row, we show the {\\tt SHBoost}(mean) parameters predicted from _ Gaia_ DR3, 2MASS, and AllWISE against the spectroscopic values (test labels). The middle row shows the residuals (predicted $-$ \"true\"). The bottom row shows the formal uncertainties (derived with {\\tt xgboost-distributions}). Each panel contains logarithmic density plots of the full sample of 217 million stars. The lines and shaded regions in the middle and bottom rows show the running median and 1$\\sigma$ quantiles, respectively.\n",
       "     (*fig:validation-onetoone*)\n",
       "\n",
       "</div>\n",
       "<div id=\"div_fig3\">\n",
       "\n",
       "<img src=\"tmp_2407.06963/./im/metallicity_calibration.png\" alt=\"Fig8\" width=\"100%\"/>\n",
       "\n",
       "**Figure 8. -** [Fe/H] calibration based on members of open and globular clusters. Top left panel: One-to-one comparison of the {\\tt xgb\\_met} values for open and globular cluster members with spectroscopic [Fe/H] measurements from the literature (using \\citealt{Joshi2024} for open clusters and \\citealt{Harris2010} for globular clusters). Second row: residuals between {\\tt xgb\\_met} and literature [Fe/H](left panel) and {\\tt feh\\_calibrated} and literature [Fe/H], showing the improvement achieved by our proposed calibration. Top right panel: comparison of the three metallicity distributions (literature, {\\tt xgb\\_met}, and {\\tt feh\\_calibrated}) for the cluster sample. (*fig:feh_calib*)\n",
       "\n",
       "</div><div id=\"qrcode\"><img src=https://api.qrserver.com/v1/create-qr-code/?size=100x100&data=\"https://arxiv.org/abs/2407.06963\"></div>"
      ],
      "text/plain": [
       "<IPython.core.display.Markdown object>"
      ]
     },
     "metadata": {},
     "output_type": "display_data"
    },
    {
     "data": {
      "text/markdown": [
       "<div class=\"macros\" style=\"visibility:hidden;\">\n",
       "$\\newcommand{\\ensuremath}{}$\n",
       "$\\newcommand{\\xspace}{}$\n",
       "$\\newcommand{\\object}[1]{\\texttt{#1}}$\n",
       "$\\newcommand{\\farcs}{{.}''}$\n",
       "$\\newcommand{\\farcm}{{.}'}$\n",
       "$\\newcommand{\\arcsec}{''}$\n",
       "$\\newcommand{\\arcmin}{'}$\n",
       "$\\newcommand{\\ion}[2]{#1#2}$\n",
       "$\\newcommand{\\textsc}[1]{\\textrm{#1}}$\n",
       "$\\newcommand{\\hl}[1]{\\textrm{#1}}$\n",
       "$\\newcommand{\\footnote}[1]{}$\n",
       "$\\newcommand{\\noun}[1]{\\textsc{\\MakeLowercase{#1}}}$\n",
       "$\\newcommand{\\citehere}[1]{\\textcolor{RubineRed}{(CITE:~#1)}}$\n",
       "$\\newcommand{\\bluenote}[1]{\\textcolor{NavyBlue}{#1}}$\n",
       "$\\newcommand{\\rednote}[1]{\\textcolor{Red}{\\textbf{#1}}}$\n",
       "$\\newcommand{\\code}{\\texttt}$\n",
       "$\\newcommand{\\m}[1]{M_#1}$\n",
       "$\\newcommand{\\msun}{M_\\odot}$\n",
       "$\\newcommand{\\bah}{[Ba/H]}$\n",
       "$\\newcommand{\\bafe}{[Ba/Fe]}$\n",
       "$\\newcommand{\\yh}{[Y/H]}$\n",
       "$\\newcommand{\\yfe}{[Y/Fe]}$\n",
       "$\\newcommand{\\sH}{[s/H]}$\n",
       "$\\newcommand{\\sfe}{[s/Fe]}$\n",
       "$\\newcommand{\\rl}{r\\textsubscript{L}}$\n",
       "$\\newcommand{\\rorb}{R\\textsubscript{orb}}$</div>\n",
       "\n",
       "\n",
       "\n",
       "<div id=\"title\">\n",
       "\n",
       "# Ba Enrichment in Gaia MS+WD Binaries: Tracing _s_-Process Element Production\n",
       "\n",
       "</div>\n",
       "<div id=\"comments\">\n",
       "\n",
       "[![arXiv](https://img.shields.io/badge/arXiv-2407.07048-b31b1b.svg)](https://arxiv.org/abs/2407.07048)<mark>Appeared on: 2024-07-10</mark> -  _12 pages, 10 figures_\n",
       "\n",
       "</div>\n",
       "<div id=\"authors\">\n",
       "\n",
       "P. Rekhi, et al. -- incl., <mark>H.-W. Rix</mark>\n",
       "\n",
       "</div>\n",
       "<div id=\"abstract\">\n",
       "\n",
       "**Abstract:** A large population of intermediate-separation binaries, consisting of a main-sequence (MS) star and a white dwarf (WD), has recently emerged from Gaia's third data release (DR3), posing challenges to current models of binary evolution. Here we examine the _s_ -process element abundances in these systems using data from GALAH DR3. Following refined sample analysis with parameter estimates based on GALAH spectra, we find a distinct locus where enhanced _s_ -process elements depend on both the WD mass and metallicity, consistent with loci identified in previous asymptotic giant branch (AGB) nucleosynthesis studies with higher _s_ -process yields. Notably, these enhanced abundances show no correlation with the systems' orbital parameters, supporting a history of accretion in intermediate-separation MS+WD systems. Consequently, our results form a direct observational evidence of a connection between AGB masses and _s_ -process yields. We conclude by showing that the GALAH DR3 survey includes numerous Ba dwarf stars, within and beyond the mass range covered in our current sample, which can further elucidate _s_ -process element distributions in MS+WD binaries.\n",
       "\n",
       "</div>\n",
       "\n",
       "<div id=\"div_fig1\">\n",
       "\n",
       "<img src=\"tmp_2407.07048/./figures/BaFe_m1_NCE_cond.png\" alt=\"Fig8.1\" width=\"25%\"/><img src=\"tmp_2407.07048/./figures/BaFe_ecc_NCE_cond.png\" alt=\"Fig8.2\" width=\"25%\"/><img src=\"tmp_2407.07048/./figures/BaFe_period_NCE_cond.png\" alt=\"Fig8.3\" width=\"25%\"/><img src=\"tmp_2407.07048/./figures/BaFe_rL_NCE_cond.png\" alt=\"Fig8.4\" width=\"25%\"/>\n",
       "\n",
       "**Figure 8. -** Barium abundance as a function of (a) primary mass, (b) eccentricity, (c) period and (d) Roche-lobe radius of the WD progenitor normalized by the orbital separation. Median error bars are shown in grey. The stars plotted as blue dots belong to the region $\\m$2 $<0.75$ and [Fe/H] $<-0.08$, and those plotted as orange crosses are outside the given region (see Figure \\ref{fig: feh_m2} and text for explanation). The restricted domain of the _s_-process enriched stars in the above plots is a direct consequence of the restriction on $\\m$2.\n",
       "    Roche-lobe radii are computed using the formula given by Eggleton_1983_AproximationsRadii, with the initial-final mass relation used to obtain progenitor masses taken from [ and Ramirez-Ruiz (2018)](). (*fig: Ba_fe orbital params*)\n",
       "\n",
       "</div>\n",
       "<div id=\"div_fig2\">\n",
       "\n",
       "<img src=\"tmp_2407.07048/./figures/feh_m2_BaFe_NCE.png\" alt=\"Fig5.1\" width=\"50%\"/><img src=\"tmp_2407.07048/./figures/feh_m2_YFe_NCE.png\" alt=\"Fig5.2\" width=\"50%\"/>\n",
       "\n",
       "**Figure 5. -** (a) Barium and (b) Yttrium abundance as a function of iron abundance of the primary and mass of the secondary (which we assume is a WD). Median error bars are shown in grey. We note that enhanced Ba abundances are found almost exclusively in the region of $\\m$2 $<0.75$ and [Fe/H]$<-0.08$(bounded in green), with Y enhanced stars extending to higher metallicities.  (*fig: feh_m2*)\n",
       "\n",
       "</div>\n",
       "<div id=\"div_fig3\">\n",
       "\n",
       "<img src=\"tmp_2407.07048/figures/s_proc_vs_BaY_fe.png\" alt=\"Fig10\" width=\"100%\"/>\n",
       "\n",
       "**Figure 10. -** Correlations between abundance measurements of _s_-process elements in the NCE sample. Although, GALAH flags high abundances of _s_-process elements other than Ba and Y as possibly unreliable, we demonstrate here that their abundances are positively correlated with Ba and Y, justifying their use as representative of the _s_-process in this work.  (*fig: s-proc corner*)\n",
       "\n",
       "</div><div id=\"qrcode\"><img src=https://api.qrserver.com/v1/create-qr-code/?size=100x100&data=\"https://arxiv.org/abs/2407.07048\"></div>"
      ],
      "text/plain": [
       "<IPython.core.display.Markdown object>"
      ]
     },
     "metadata": {},
     "output_type": "display_data"
    }
   ],
   "source": [
    "[display(Markdown(k[1])) for k in documents];"
   ]
  },
  {
   "cell_type": "markdown",
   "id": "873873a4",
   "metadata": {
    "papermill": {
     "duration": 0.005603,
     "end_time": "2024-07-10T04:11:51.957087",
     "exception": false,
     "start_time": "2024-07-10T04:11:51.951484",
     "status": "completed"
    },
    "tags": []
   },
   "source": [
    "# Create HTML index"
   ]
  },
  {
   "cell_type": "code",
   "execution_count": 10,
   "id": "cf665672",
   "metadata": {
    "execution": {
     "iopub.execute_input": "2024-07-10T04:11:51.969538Z",
     "iopub.status.busy": "2024-07-10T04:11:51.969101Z",
     "iopub.status.idle": "2024-07-10T04:11:51.976386Z",
     "shell.execute_reply": "2024-07-10T04:11:51.975844Z"
    },
    "papermill": {
     "duration": 0.01502,
     "end_time": "2024-07-10T04:11:51.977660",
     "exception": false,
     "start_time": "2024-07-10T04:11:51.962640",
     "status": "completed"
    },
    "tags": []
   },
   "outputs": [
    {
     "name": "stdout",
     "output_type": "stream",
     "text": [
      "122  publications files modified in the last 7 days.\n"
     ]
    }
   ],
   "source": [
    "from datetime import datetime, timedelta, timezone\n",
    "from glob import glob\n",
    "import os\n",
    "\n",
    "files = glob('_build/html/*.md')\n",
    "days = 7\n",
    "now = datetime.today()\n",
    "res = []\n",
    "for fk in files:\n",
    "    stat_result = os.stat(fk).st_ctime\n",
    "    modified = datetime.fromtimestamp(stat_result, tz=timezone.utc).replace(tzinfo=None)\n",
    "    delta = now.today() - modified\n",
    "    if delta <= timedelta(days=days):\n",
    "        res.append((delta.seconds, fk))\n",
    "res = [k[1] for k in reversed(sorted(res, key=lambda x:x[1]))]\n",
    "npub = len(res)\n",
    "print(len(res), f\" publications files modified in the last {days:d} days.\")\n",
    "# [ print('\\t', k) for k in res ];"
   ]
  },
  {
   "cell_type": "code",
   "execution_count": 11,
   "id": "015de740",
   "metadata": {
    "execution": {
     "iopub.execute_input": "2024-07-10T04:11:51.990461Z",
     "iopub.status.busy": "2024-07-10T04:11:51.989839Z",
     "iopub.status.idle": "2024-07-10T04:11:52.001923Z",
     "shell.execute_reply": "2024-07-10T04:11:52.001374Z"
    },
    "papermill": {
     "duration": 0.019893,
     "end_time": "2024-07-10T04:11:52.003224",
     "exception": false,
     "start_time": "2024-07-10T04:11:51.983331",
     "status": "completed"
    },
    "tags": []
   },
   "outputs": [
    {
     "name": "stdout",
     "output_type": "stream",
     "text": [
      "16  publications in the last 7 days.\n"
     ]
    }
   ],
   "source": [
    "import datetime\n",
    "from glob import glob\n",
    "\n",
    "def get_last_n_days(lst, days=1):\n",
    "    \"\"\" Get the documents from the last n days \"\"\"\n",
    "    sorted_lst = sorted(lst, key=lambda x: x[1], reverse=True)\n",
    "    for fname, date in sorted_lst:\n",
    "        if date >= str(datetime.date.today() - datetime.timedelta(days=days)):\n",
    "            yield fname\n",
    "\n",
    "def extract_appearance_dates(lst_file):\n",
    "    dates = []\n",
    "\n",
    "    def get_date(line):\n",
    "        return line\\\n",
    "            .split('Appeared on:')[-1]\\\n",
    "            .split('</mark>')[0].strip()\n",
    "\n",
    "    for fname in lst:\n",
    "        with open(fname, 'r') as f:\n",
    "            found_date = False\n",
    "            for line in f:\n",
    "                if not found_date:\n",
    "                    if \"Appeared on\" in line:\n",
    "                        found_date = True\n",
    "                        dates.append((fname, get_date(line)))\n",
    "                else:\n",
    "                    break\n",
    "    return dates\n",
    "\n",
    "from glob import glob\n",
    "lst = glob('_build/html/*md')\n",
    "days = 7\n",
    "dates = extract_appearance_dates(lst)\n",
    "res = list(get_last_n_days(dates, days))\n",
    "npub = len(res)\n",
    "print(len(res), f\" publications in the last {days:d} days.\")"
   ]
  },
  {
   "cell_type": "code",
   "execution_count": 12,
   "id": "52ca0208",
   "metadata": {
    "execution": {
     "iopub.execute_input": "2024-07-10T04:11:52.015605Z",
     "iopub.status.busy": "2024-07-10T04:11:52.015398Z",
     "iopub.status.idle": "2024-07-10T04:11:52.020407Z",
     "shell.execute_reply": "2024-07-10T04:11:52.019873Z"
    },
    "papermill": {
     "duration": 0.012812,
     "end_time": "2024-07-10T04:11:52.021737",
     "exception": false,
     "start_time": "2024-07-10T04:11:52.008925",
     "status": "completed"
    },
    "scrolled": false,
    "tags": []
   },
   "outputs": [],
   "source": [
    "def create_carousel(npub=4):\n",
    "    \"\"\" Generate the HTML code for a carousel with `npub` slides \"\"\"\n",
    "    carousel = [\"\"\"  <div class=\"carousel\" \"\"\",\n",
    "                \"\"\"       data-flickity='{ \"autoPlay\": 10000, \"adaptiveHeight\": true, \"resize\": true, \"wrapAround\": true, \"pauseAutoPlayOnHover\": true, \"groupCells\": 1 }' id=\"asyncTypeset\">\"\"\"\n",
    "                ]\n",
    "    \n",
    "    item_str = \"\"\"    <div class=\"carousel-cell\"> <div id=\"slide{k}\" class=\"md_view\">Content {k}</div> </div>\"\"\"\n",
    "    for k in range(1, npub + 1):\n",
    "        carousel.append(item_str.format(k=k))\n",
    "    carousel.append(\"  </div>\")\n",
    "    return '\\n'.join(carousel)\n",
    "\n",
    "def create_grid(npub=4):\n",
    "    \"\"\" Generate the HTML code for a flat grid with `npub` slides \"\"\"\n",
    "    grid = [\"\"\"  <div class=\"grid\"> \"\"\",\n",
    "                ]\n",
    "    \n",
    "    item_str = \"\"\"    <div class=\"grid-item\"> <div id=\"slide{k}\" class=\"md_view\">Content {k}</div> </div>\"\"\"\n",
    "    for k in range(1, npub + 1):\n",
    "        grid.append(item_str.format(k=k))\n",
    "    grid.append(\"  </div>\")\n",
    "    return '\\n'.join(grid)"
   ]
  },
  {
   "cell_type": "code",
   "execution_count": 13,
   "id": "a6eac5b6",
   "metadata": {
    "execution": {
     "iopub.execute_input": "2024-07-10T04:11:52.034404Z",
     "iopub.status.busy": "2024-07-10T04:11:52.034154Z",
     "iopub.status.idle": "2024-07-10T04:11:52.039474Z",
     "shell.execute_reply": "2024-07-10T04:11:52.038931Z"
    },
    "papermill": {
     "duration": 0.013109,
     "end_time": "2024-07-10T04:11:52.040729",
     "exception": false,
     "start_time": "2024-07-10T04:11:52.027620",
     "status": "completed"
    },
    "scrolled": false,
    "tags": []
   },
   "outputs": [],
   "source": [
    "carousel = create_carousel(npub)\n",
    "docs = ', '.join(['\"{0:s}\"'.format(k.split('/')[-1]) for k in res])\n",
    "slides = ', '.join([f'\"slide{k}\"' for k in range(1, npub + 1)])\n",
    "\n",
    "with open(\"daily_template.html\", \"r\") as tpl:\n",
    "    page = tpl.read()\n",
    "    page = page.replace(\"{%-- carousel:s --%}\", carousel)\\\n",
    "               .replace(\"{%-- suptitle:s --%}\",  \"7-day archives\" )\\\n",
    "               .replace(\"{%-- docs:s --%}\", docs)\\\n",
    "               .replace(\"{%-- slides:s --%}\", slides)\n",
    "    \n",
    "with open(\"_build/html/index_7days.html\", 'w') as fout:\n",
    "    fout.write(page)"
   ]
  },
  {
   "cell_type": "code",
   "execution_count": 14,
   "id": "adc1a1ec",
   "metadata": {
    "execution": {
     "iopub.execute_input": "2024-07-10T04:11:52.053747Z",
     "iopub.status.busy": "2024-07-10T04:11:52.053300Z",
     "iopub.status.idle": "2024-07-10T04:11:52.059707Z",
     "shell.execute_reply": "2024-07-10T04:11:52.059092Z"
    },
    "papermill": {
     "duration": 0.014256,
     "end_time": "2024-07-10T04:11:52.060914",
     "exception": false,
     "start_time": "2024-07-10T04:11:52.046658",
     "status": "completed"
    },
    "tags": []
   },
   "outputs": [
    {
     "name": "stdout",
     "output_type": "stream",
     "text": [
      "5  publications in the last day.\n"
     ]
    }
   ],
   "source": [
    "# redo for today\n",
    "days = 1\n",
    "res = list(get_last_n_days(dates, days))\n",
    "npub = len(res)\n",
    "print(len(res), f\" publications in the last day.\")\n",
    "\n",
    "carousel = create_carousel(npub)\n",
    "docs = ', '.join(['\"{0:s}\"'.format(k.split('/')[-1]) for k in res])\n",
    "slides = ', '.join([f'\"slide{k}\"' for k in range(1, npub + 1)])\n",
    "\n",
    "with open(\"daily_template.html\", \"r\") as tpl:\n",
    "    page = tpl.read()\n",
    "    page = page.replace(\"{%-- carousel:s --%}\", carousel)\\\n",
    "               .replace(\"{%-- suptitle:s --%}\",  \"Daily\" )\\\n",
    "               .replace(\"{%-- docs:s --%}\", docs)\\\n",
    "               .replace(\"{%-- slides:s --%}\", slides)\n",
    "    \n",
    "# print(carousel, docs, slides)\n",
    "# print(page)\n",
    "with open(\"_build/html/index_daily.html\", 'w') as fout:\n",
    "    fout.write(page)"
   ]
  },
  {
   "cell_type": "code",
   "execution_count": 15,
   "id": "00eece82",
   "metadata": {
    "execution": {
     "iopub.execute_input": "2024-07-10T04:11:52.073739Z",
     "iopub.status.busy": "2024-07-10T04:11:52.073488Z",
     "iopub.status.idle": "2024-07-10T04:11:52.080248Z",
     "shell.execute_reply": "2024-07-10T04:11:52.079590Z"
    },
    "papermill": {
     "duration": 0.014741,
     "end_time": "2024-07-10T04:11:52.081582",
     "exception": false,
     "start_time": "2024-07-10T04:11:52.066841",
     "status": "completed"
    },
    "scrolled": false,
    "tags": []
   },
   "outputs": [
    {
     "name": "stdout",
     "output_type": "stream",
     "text": [
      "6  6 publications selected.\n"
     ]
    }
   ],
   "source": [
    "# Create the flat grid of the last N papers (fixed number regardless of dates)\n",
    "from itertools import islice \n",
    "\n",
    "npub = 6\n",
    "res = [k[0] for k in (islice(reversed(sorted(dates, key=lambda x: x[1])), 6))]\n",
    "print(len(res), f\" {npub} publications selected.\")\n",
    "\n",
    "grid = create_grid(npub)\n",
    "docs = ', '.join(['\"{0:s}\"'.format(k.split('/')[-1]) for k in res])\n",
    "slides = ', '.join([f'\"slide{k}\"' for k in range(1, npub + 1)])\n",
    "\n",
    "with open(\"grid_template.html\", \"r\") as tpl:\n",
    "    page = tpl.read()\n",
    "    page = page.replace(\"{%-- grid-content:s --%}\", grid)\\\n",
    "               .replace(\"{%-- suptitle:s --%}\",  f\"Last {npub:,d} papers\" )\\\n",
    "               .replace(\"{%-- docs:s --%}\", docs)\\\n",
    "               .replace(\"{%-- slides:s --%}\", slides)\n",
    "    \n",
    "# print(grid, docs, slides)\n",
    "# print(page)\n",
    "with open(\"_build/html/index_npub_grid.html\", 'w') as fout:\n",
    "    fout.write(page)"
   ]
  }
 ],
 "metadata": {
  "kernelspec": {
   "display_name": "Python 3 (ipykernel)",
   "language": "python",
   "name": "python3"
  },
  "language_info": {
   "codemirror_mode": {
    "name": "ipython",
    "version": 3
   },
   "file_extension": ".py",
   "mimetype": "text/x-python",
   "name": "python",
   "nbconvert_exporter": "python",
   "pygments_lexer": "ipython3",
   "version": "3.9.19"
  },
  "papermill": {
   "default_parameters": {},
   "duration": 67.347115,
   "end_time": "2024-07-10T04:11:52.303458",
   "environment_variables": {},
   "exception": null,
   "input_path": "MPIA daily digest.ipynb",
   "output_path": "log.ipynb",
   "parameters": {},
   "start_time": "2024-07-10T04:10:44.956343",
   "version": "2.6.0"
  },
  "vscode": {
   "interpreter": {
    "hash": "aee8b7b246df8f9039afb4144a1f6fd8d2ca17a180786b69acc140d282b71a49"
   }
  },
  "widgets": {
   "application/vnd.jupyter.widget-state+json": {
    "state": {
     "1503578d49d84f949dde45018bc8624e": {
      "model_module": "@jupyter-widgets/controls",
      "model_module_version": "2.0.0",
      "model_name": "HTMLModel",
      "state": {
       "_dom_classes": [],
       "_model_module": "@jupyter-widgets/controls",
       "_model_module_version": "2.0.0",
       "_model_name": "HTMLModel",
       "_view_count": null,
       "_view_module": "@jupyter-widgets/controls",
       "_view_module_version": "2.0.0",
       "_view_name": "HTMLView",
       "description": "",
       "description_allow_html": false,
       "layout": "IPY_MODEL_63a507d1c8b44260a39c4171d6dbe88c",
       "placeholder": "​",
       "style": "IPY_MODEL_a0a26ab97947479e81644dcbe8881b1b",
       "tabbable": null,
       "tooltip": null,
       "value": "100%"
      }
     },
     "288cd1e999af4617b7366bb5800c1fcb": {
      "model_module": "@jupyter-widgets/controls",
      "model_module_version": "2.0.0",
      "model_name": "HTMLStyleModel",
      "state": {
       "_model_module": "@jupyter-widgets/controls",
       "_model_module_version": "2.0.0",
       "_model_name": "HTMLStyleModel",
       "_view_count": null,
       "_view_module": "@jupyter-widgets/base",
       "_view_module_version": "2.0.0",
       "_view_name": "StyleView",
       "background": null,
       "description_width": "",
       "font_size": null,
       "text_color": null
      }
     },
     "37788428d78f4fef878dd61ea7b788e1": {
      "model_module": "@jupyter-widgets/base",
      "model_module_version": "2.0.0",
      "model_name": "LayoutModel",
      "state": {
       "_model_module": "@jupyter-widgets/base",
       "_model_module_version": "2.0.0",
       "_model_name": "LayoutModel",
       "_view_count": null,
       "_view_module": "@jupyter-widgets/base",
       "_view_module_version": "2.0.0",
       "_view_name": "LayoutView",
       "align_content": null,
       "align_items": null,
       "align_self": null,
       "border_bottom": null,
       "border_left": null,
       "border_right": null,
       "border_top": null,
       "bottom": null,
       "display": null,
       "flex": null,
       "flex_flow": null,
       "grid_area": null,
       "grid_auto_columns": null,
       "grid_auto_flow": null,
       "grid_auto_rows": null,
       "grid_column": null,
       "grid_gap": null,
       "grid_row": null,
       "grid_template_areas": null,
       "grid_template_columns": null,
       "grid_template_rows": null,
       "height": null,
       "justify_content": null,
       "justify_items": null,
       "left": null,
       "margin": null,
       "max_height": null,
       "max_width": null,
       "min_height": null,
       "min_width": null,
       "object_fit": null,
       "object_position": null,
       "order": null,
       "overflow": null,
       "padding": null,
       "right": null,
       "top": null,
       "visibility": null,
       "width": null
      }
     },
     "5ffa32b7a51f43d3b922fa7cf5c27d57": {
      "model_module": "@jupyter-widgets/controls",
      "model_module_version": "2.0.0",
      "model_name": "ProgressStyleModel",
      "state": {
       "_model_module": "@jupyter-widgets/controls",
       "_model_module_version": "2.0.0",
       "_model_name": "ProgressStyleModel",
       "_view_count": null,
       "_view_module": "@jupyter-widgets/base",
       "_view_module_version": "2.0.0",
       "_view_name": "StyleView",
       "bar_color": null,
       "description_width": ""
      }
     },
     "63a507d1c8b44260a39c4171d6dbe88c": {
      "model_module": "@jupyter-widgets/base",
      "model_module_version": "2.0.0",
      "model_name": "LayoutModel",
      "state": {
       "_model_module": "@jupyter-widgets/base",
       "_model_module_version": "2.0.0",
       "_model_name": "LayoutModel",
       "_view_count": null,
       "_view_module": "@jupyter-widgets/base",
       "_view_module_version": "2.0.0",
       "_view_name": "LayoutView",
       "align_content": null,
       "align_items": null,
       "align_self": null,
       "border_bottom": null,
       "border_left": null,
       "border_right": null,
       "border_top": null,
       "bottom": null,
       "display": null,
       "flex": null,
       "flex_flow": null,
       "grid_area": null,
       "grid_auto_columns": null,
       "grid_auto_flow": null,
       "grid_auto_rows": null,
       "grid_column": null,
       "grid_gap": null,
       "grid_row": null,
       "grid_template_areas": null,
       "grid_template_columns": null,
       "grid_template_rows": null,
       "height": null,
       "justify_content": null,
       "justify_items": null,
       "left": null,
       "margin": null,
       "max_height": null,
       "max_width": null,
       "min_height": null,
       "min_width": null,
       "object_fit": null,
       "object_position": null,
       "order": null,
       "overflow": null,
       "padding": null,
       "right": null,
       "top": null,
       "visibility": null,
       "width": null
      }
     },
     "7c02162f070941bca9debb59355099b8": {
      "model_module": "@jupyter-widgets/base",
      "model_module_version": "2.0.0",
      "model_name": "LayoutModel",
      "state": {
       "_model_module": "@jupyter-widgets/base",
       "_model_module_version": "2.0.0",
       "_model_name": "LayoutModel",
       "_view_count": null,
       "_view_module": "@jupyter-widgets/base",
       "_view_module_version": "2.0.0",
       "_view_name": "LayoutView",
       "align_content": null,
       "align_items": null,
       "align_self": null,
       "border_bottom": null,
       "border_left": null,
       "border_right": null,
       "border_top": null,
       "bottom": null,
       "display": null,
       "flex": null,
       "flex_flow": null,
       "grid_area": null,
       "grid_auto_columns": null,
       "grid_auto_flow": null,
       "grid_auto_rows": null,
       "grid_column": null,
       "grid_gap": null,
       "grid_row": null,
       "grid_template_areas": null,
       "grid_template_columns": null,
       "grid_template_rows": null,
       "height": null,
       "justify_content": null,
       "justify_items": null,
       "left": null,
       "margin": null,
       "max_height": null,
       "max_width": null,
       "min_height": null,
       "min_width": null,
       "object_fit": null,
       "object_position": null,
       "order": null,
       "overflow": null,
       "padding": null,
       "right": null,
       "top": null,
       "visibility": null,
       "width": null
      }
     },
     "8bb43d95e34c4cd899fb5e5dad57d4f0": {
      "model_module": "@jupyter-widgets/controls",
      "model_module_version": "2.0.0",
      "model_name": "FloatProgressModel",
      "state": {
       "_dom_classes": [],
       "_model_module": "@jupyter-widgets/controls",
       "_model_module_version": "2.0.0",
       "_model_name": "FloatProgressModel",
       "_view_count": null,
       "_view_module": "@jupyter-widgets/controls",
       "_view_module_version": "2.0.0",
       "_view_name": "ProgressView",
       "bar_style": "success",
       "description": "",
       "description_allow_html": false,
       "layout": "IPY_MODEL_37788428d78f4fef878dd61ea7b788e1",
       "max": 7.0,
       "min": 0.0,
       "orientation": "horizontal",
       "style": "IPY_MODEL_5ffa32b7a51f43d3b922fa7cf5c27d57",
       "tabbable": null,
       "tooltip": null,
       "value": 7.0
      }
     },
     "a0a26ab97947479e81644dcbe8881b1b": {
      "model_module": "@jupyter-widgets/controls",
      "model_module_version": "2.0.0",
      "model_name": "HTMLStyleModel",
      "state": {
       "_model_module": "@jupyter-widgets/controls",
       "_model_module_version": "2.0.0",
       "_model_name": "HTMLStyleModel",
       "_view_count": null,
       "_view_module": "@jupyter-widgets/base",
       "_view_module_version": "2.0.0",
       "_view_name": "StyleView",
       "background": null,
       "description_width": "",
       "font_size": null,
       "text_color": null
      }
     },
     "a5617e787062447e9c51425ac9e3ad72": {
      "model_module": "@jupyter-widgets/controls",
      "model_module_version": "2.0.0",
      "model_name": "HTMLModel",
      "state": {
       "_dom_classes": [],
       "_model_module": "@jupyter-widgets/controls",
       "_model_module_version": "2.0.0",
       "_model_name": "HTMLModel",
       "_view_count": null,
       "_view_module": "@jupyter-widgets/controls",
       "_view_module_version": "2.0.0",
       "_view_name": "HTMLView",
       "description": "",
       "description_allow_html": false,
       "layout": "IPY_MODEL_a9b14f3ed0f743f9b08da579a97ceeb8",
       "placeholder": "​",
       "style": "IPY_MODEL_288cd1e999af4617b7366bb5800c1fcb",
       "tabbable": null,
       "tooltip": null,
       "value": " 7/7 [00:45&lt;00:00,  7.62s/it]"
      }
     },
     "a9b14f3ed0f743f9b08da579a97ceeb8": {
      "model_module": "@jupyter-widgets/base",
      "model_module_version": "2.0.0",
      "model_name": "LayoutModel",
      "state": {
       "_model_module": "@jupyter-widgets/base",
       "_model_module_version": "2.0.0",
       "_model_name": "LayoutModel",
       "_view_count": null,
       "_view_module": "@jupyter-widgets/base",
       "_view_module_version": "2.0.0",
       "_view_name": "LayoutView",
       "align_content": null,
       "align_items": null,
       "align_self": null,
       "border_bottom": null,
       "border_left": null,
       "border_right": null,
       "border_top": null,
       "bottom": null,
       "display": null,
       "flex": null,
       "flex_flow": null,
       "grid_area": null,
       "grid_auto_columns": null,
       "grid_auto_flow": null,
       "grid_auto_rows": null,
       "grid_column": null,
       "grid_gap": null,
       "grid_row": null,
       "grid_template_areas": null,
       "grid_template_columns": null,
       "grid_template_rows": null,
       "height": null,
       "justify_content": null,
       "justify_items": null,
       "left": null,
       "margin": null,
       "max_height": null,
       "max_width": null,
       "min_height": null,
       "min_width": null,
       "object_fit": null,
       "object_position": null,
       "order": null,
       "overflow": null,
       "padding": null,
       "right": null,
       "top": null,
       "visibility": null,
       "width": null
      }
     },
     "bef8078422204146a8ab1f7dc011e8ce": {
      "model_module": "@jupyter-widgets/controls",
      "model_module_version": "2.0.0",
      "model_name": "HBoxModel",
      "state": {
       "_dom_classes": [],
       "_model_module": "@jupyter-widgets/controls",
       "_model_module_version": "2.0.0",
       "_model_name": "HBoxModel",
       "_view_count": null,
       "_view_module": "@jupyter-widgets/controls",
       "_view_module_version": "2.0.0",
       "_view_name": "HBoxView",
       "box_style": "",
       "children": [
        "IPY_MODEL_1503578d49d84f949dde45018bc8624e",
        "IPY_MODEL_8bb43d95e34c4cd899fb5e5dad57d4f0",
        "IPY_MODEL_a5617e787062447e9c51425ac9e3ad72"
       ],
       "layout": "IPY_MODEL_7c02162f070941bca9debb59355099b8",
       "tabbable": null,
       "tooltip": null
      }
     }
    },
    "version_major": 2,
    "version_minor": 0
   }
  }
 },
 "nbformat": 4,
 "nbformat_minor": 5
}