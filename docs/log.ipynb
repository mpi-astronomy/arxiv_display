{
 "cells": [
  {
   "cell_type": "markdown",
   "id": "92bcb855",
   "metadata": {
    "papermill": {
     "duration": 0.003981,
     "end_time": "2025-10-02T04:13:01.296395",
     "exception": false,
     "start_time": "2025-10-02T04:13:01.292414",
     "status": "completed"
    },
    "tags": []
   },
   "source": [
    "# MPIA Arxiv on Deck 2\n",
    "\n",
    "Contains the steps to produce the paper extractions."
   ]
  },
  {
   "cell_type": "code",
   "execution_count": 1,
   "id": "3a0d6e11",
   "metadata": {
    "execution": {
     "iopub.execute_input": "2025-10-02T04:13:01.303799Z",
     "iopub.status.busy": "2025-10-02T04:13:01.303488Z",
     "iopub.status.idle": "2025-10-02T04:13:01.523327Z",
     "shell.execute_reply": "2025-10-02T04:13:01.522552Z"
    },
    "papermill": {
     "duration": 0.22526,
     "end_time": "2025-10-02T04:13:01.524932",
     "exception": false,
     "start_time": "2025-10-02T04:13:01.299672",
     "status": "completed"
    },
    "tags": []
   },
   "outputs": [],
   "source": [
    "# Imports\n",
    "import os\n",
    "from IPython.display import Markdown, display\n",
    "from tqdm.notebook import tqdm\n",
    "import warnings\n",
    "from PIL import Image \n",
    "import re\n",
    "\n",
    "# requires arxiv_on_deck_2\n",
    "\n",
    "from arxiv_on_deck_2.arxiv2 import (get_new_papers, \n",
    "                                    get_paper_from_identifier,\n",
    "                                    retrieve_document_source, \n",
    "                                    get_markdown_badge)\n",
    "from arxiv_on_deck_2 import (latex,\n",
    "                             latex_bib,\n",
    "                             mpia,\n",
    "                             highlight_authors_in_list)\n",
    "\n",
    "# Sometimes images are really big\n",
    "Image.MAX_IMAGE_PIXELS = 1000000000 "
   ]
  },
  {
   "cell_type": "code",
   "execution_count": 2,
   "id": "22aa9d44",
   "metadata": {
    "execution": {
     "iopub.execute_input": "2025-10-02T04:13:01.532510Z",
     "iopub.status.busy": "2025-10-02T04:13:01.532244Z",
     "iopub.status.idle": "2025-10-02T04:13:01.540654Z",
     "shell.execute_reply": "2025-10-02T04:13:01.540042Z"
    },
    "papermill": {
     "duration": 0.013269,
     "end_time": "2025-10-02T04:13:01.541683",
     "exception": false,
     "start_time": "2025-10-02T04:13:01.528414",
     "status": "completed"
    },
    "tags": []
   },
   "outputs": [],
   "source": [
    "# Some useful definitions.\n",
    "\n",
    "class AffiliationWarning(UserWarning):\n",
    "    pass\n",
    "\n",
    "class AffiliationError(RuntimeError):\n",
    "    pass\n",
    "\n",
    "def validation(source: str):\n",
    "    \"\"\"Raises error paper during parsing of source file\n",
    "    \n",
    "    Allows checks before parsing TeX code.\n",
    "    \n",
    "    Raises AffiliationWarning\n",
    "    \"\"\"\n",
    "    check = mpia.affiliation_verifications(source, verbose=True)\n",
    "    if check is not True:\n",
    "        raise AffiliationError(\"mpia.affiliation_verifications: \" + check)\n",
    "\n",
    "        \n",
    "warnings.simplefilter('always', AffiliationWarning)\n",
    "\n",
    "\n",
    "def get_markdown_qrcode(paper_id: str):\n",
    "    \"\"\" Generate a qrcode to the arxiv page using qrserver.com\n",
    "    \n",
    "    :param paper: Arxiv paper\n",
    "    :returns: markdown text\n",
    "    \"\"\"\n",
    "    url = r\"https://api.qrserver.com/v1/create-qr-code/?size=100x100&data=\"\n",
    "    txt = f\"\"\"<img src={url}\"https://arxiv.org/abs/{paper_id}\">\"\"\"\n",
    "    txt = '<div id=\"qrcode\">' + txt + '</div>'\n",
    "    return txt\n",
    "\n",
    "\n",
    "def clean_non_western_encoded_characters_commands(text: str) -> str:\n",
    "    \"\"\" Remove non-western encoded characters from a string\n",
    "    List may need to grow.\n",
    "    \n",
    "    :param text: the text to clean\n",
    "    :return: the cleaned text\n",
    "    \"\"\"\n",
    "    text = re.sub(r\"(\\\\begin{CJK}{UTF8}{gbsn})(.*?)(\\\\end{CJK})\", r\"\\2\", text)\n",
    "    return text\n",
    "\n",
    "\n",
    "def get_initials(name: str) -> str:\n",
    "    \"\"\" Get the short name, e.g., A.-B. FamName\n",
    "    :param name: full name\n",
    "    :returns: initials\n",
    "    \"\"\"\n",
    "    initials = []\n",
    "    # account for non western names often in ()\n",
    "    if '(' in name:\n",
    "        name = clean_non_western_encoded_characters_commands(name)\n",
    "        suffix = re.findall(r\"\\((.*?)\\)\", name)[0]\n",
    "        name = name.replace(f\"({suffix})\", '')\n",
    "    else:\n",
    "        suffix = ''\n",
    "    split = name.split()\n",
    "    for token in split[:-1]:\n",
    "        if '-' in token:\n",
    "            current = '-'.join([k[0] + '.' for k in token.split('-')])\n",
    "        else:\n",
    "            current = token[0] + '.'\n",
    "        initials.append(current)\n",
    "    initials.append(split[-1].strip())\n",
    "    if suffix:\n",
    "        initials.append(f\"({suffix})\")\n",
    "    return ' '.join(initials)"
   ]
  },
  {
   "cell_type": "markdown",
   "id": "14bd6310",
   "metadata": {
    "papermill": {
     "duration": 0.002984,
     "end_time": "2025-10-02T04:13:01.547892",
     "exception": false,
     "start_time": "2025-10-02T04:13:01.544908",
     "status": "completed"
    },
    "tags": []
   },
   "source": [
    "## get list of arxiv paper candidates\n",
    "\n",
    "We use the MPIA mitarbeiter list webpage from mpia.de to get author names\n",
    "We then get all new papers from Arxiv and match authors"
   ]
  },
  {
   "cell_type": "code",
   "execution_count": 3,
   "id": "7ea813a8",
   "metadata": {
    "execution": {
     "iopub.execute_input": "2025-10-02T04:13:01.554868Z",
     "iopub.status.busy": "2025-10-02T04:13:01.554623Z",
     "iopub.status.idle": "2025-10-02T04:13:25.769068Z",
     "shell.execute_reply": "2025-10-02T04:13:25.768445Z"
    },
    "papermill": {
     "duration": 24.219418,
     "end_time": "2025-10-02T04:13:25.770347",
     "exception": false,
     "start_time": "2025-10-02T04:13:01.550929",
     "status": "completed"
    },
    "tags": []
   },
   "outputs": [],
   "source": [
    "# deal with the author list and edge cases of people that cannot be consistent on their name  \n",
    "\n",
    "def filter_non_scientists(name: str) -> bool:\n",
    "    \"\"\" Loose filter on expected authorships\n",
    "\n",
    "    removing IT, administration, technical staff\n",
    "    :param name: name\n",
    "    :returns: False if name is not a scientist\n",
    "    \"\"\"\n",
    "    remove_list = ['Licht', 'Binroth', 'Witzel', 'Jordan',\n",
    "                   'Zähringer', 'Scheerer', 'Hoffmann', 'Düe',\n",
    "                   'Hellmich', 'Enkler-Scharpegge', 'Witte-Nguy',\n",
    "                   'Dehen', 'Beckmann', 'Jager', 'Jäger'\n",
    "                  ]\n",
    "\n",
    "    for k in remove_list:\n",
    "        if k in name:\n",
    "            return False\n",
    "    return True\n",
    "\n",
    "def add_author_to_list(author_list: list) -> list:\n",
    "    \"\"\" Add author to list if not already in list\n",
    "    \n",
    "    :param author: author name\n",
    "    :param author_list: list of authors\n",
    "    :returns: updated list of authors\n",
    "    \"\"\"\n",
    "    add_list = ['T. Henning']\n",
    "\n",
    "    for author in add_list:\n",
    "        if author not in author_list:\n",
    "            author_list.append(author)\n",
    "    return author_list\n",
    "\n",
    "# get list from MPIA website\n",
    "# filter for non-scientists (mpia.get_mpia_mitarbeiter_list() does some filtering)\n",
    "mpia_authors = [k[1] for k in mpia.get_mpia_mitarbeiter_list() if filter_non_scientists(k[1])]\n",
    "# add some missing author because of inconsistencies in their MPIA name and author name on papers\n",
    "mpia_authors = add_author_to_list(mpia_authors)"
   ]
  },
  {
   "cell_type": "code",
   "execution_count": 4,
   "id": "2645e73a",
   "metadata": {
    "execution": {
     "iopub.execute_input": "2025-10-02T04:13:25.777839Z",
     "iopub.status.busy": "2025-10-02T04:13:25.777599Z",
     "iopub.status.idle": "2025-10-02T04:13:26.694601Z",
     "shell.execute_reply": "2025-10-02T04:13:26.693872Z"
    },
    "papermill": {
     "duration": 0.921953,
     "end_time": "2025-10-02T04:13:26.695765",
     "exception": false,
     "start_time": "2025-10-02T04:13:25.773812",
     "status": "completed"
    },
    "tags": []
   },
   "outputs": [
    {
     "name": "stdout",
     "output_type": "stream",
     "text": [
      "J. Shi  ->  J. Shi  |  ['J. Shi']\n",
      "T. Henning  ->  T. Henning  |  ['T. Henning']\n",
      "J. Eberhardt  ->  J. Eberhardt  |  ['J. Eberhardt']\n",
      "A. d. Graaff  ->  A. D. Graaff  |  ['A. D. Graaff']\n",
      "Y. Wang  ->  Y. Wang  |  ['Y. Wang']\n",
      "Y. Wang  ->  Y. Wang  |  ['Y. Wang']\n",
      "K. El-Badry  ->  K. El-Badry  |  ['K. El-Badry']\n",
      "T. Henning  ->  T. Henning  |  ['T. Henning']\n",
      "M. Häberle  ->  M. Häberle  |  ['M. Häberle']\n",
      "N. Neumayer  ->  N. Neumayer  |  ['N. Neumayer']\n",
      "C. Clontz  ->  C. Clontz  |  ['C. Clontz']\n"
     ]
    },
    {
     "name": "stdout",
     "output_type": "stream",
     "text": [
      "S. Joharle  ->  S. Joharle  |  ['S. Joharle']\n",
      "E. Bañados  ->  E. Bañados  |  ['E. Bañados']\n",
      "K. Jahnke  ->  K. Jahnke  |  ['K. Jahnke']\n",
      "Arxiv has 82 new papers today\n",
      "          10 with possible author matches\n"
     ]
    }
   ],
   "source": [
    "new_papers = get_new_papers()\n",
    "# add manual references\n",
    "add_paper_refs = []\n",
    "new_papers.extend([get_paper_from_identifier(k) for k in add_paper_refs])\n",
    "\n",
    "def robust_call(fn, value, *args, **kwargs):\n",
    "    try:\n",
    "        return fn(value, *args, **kwargs)\n",
    "    except Exception:\n",
    "        return value\n",
    "\n",
    "candidates = []\n",
    "for paperk in new_papers:\n",
    "    # Check author list with their initials\n",
    "    normed_author_list = [robust_call(mpia.get_initials, k) for k in paperk['authors']]\n",
    "    hl_authors = highlight_authors_in_list(normed_author_list, mpia_authors, verbose=True)\n",
    "    matches = [(hl, orig) for hl, orig in zip(hl_authors, paperk['authors']) if 'mark' in hl]\n",
    "    paperk['authors'] = hl_authors\n",
    "    if matches:\n",
    "        # only select paper if an author matched our list\n",
    "        candidates.append(paperk)\n",
    "print(\"\"\"Arxiv has {0:,d} new papers today\"\"\".format(len(new_papers)))        \n",
    "print(\"\"\"          {0:,d} with possible author matches\"\"\".format(len(candidates)))"
   ]
  },
  {
   "cell_type": "markdown",
   "id": "3543b34a",
   "metadata": {
    "papermill": {
     "duration": 0.003276,
     "end_time": "2025-10-02T04:13:26.702767",
     "exception": false,
     "start_time": "2025-10-02T04:13:26.699491",
     "status": "completed"
    },
    "tags": []
   },
   "source": [
    "# Parse sources and generate relevant outputs\n",
    "\n",
    "From the candidates, we do the following steps:\n",
    "* get their tarball from ArXiv (and extract data)\n",
    "* find the main .tex file: find one with \\documentclass{...} (sometimes it's non trivial)\n",
    "* Check affiliations with :func:`validation`, which uses :func:`mpia.affiliation_verifications`\n",
    "* If passing the affiliations: we parse the .tex source\n",
    "   * inject sub-documents into the main (flatten the main document)\n",
    "   * parse structure, extract information (title, abstract, authors, figures...)\n",
    "   * handles `\\graphicspath` if provided\n",
    "* Generate the .md document."
   ]
  },
  {
   "cell_type": "code",
   "execution_count": 5,
   "id": "9576b79e",
   "metadata": {
    "execution": {
     "iopub.execute_input": "2025-10-02T04:13:26.710421Z",
     "iopub.status.busy": "2025-10-02T04:13:26.710168Z",
     "iopub.status.idle": "2025-10-02T04:16:44.785036Z",
     "shell.execute_reply": "2025-10-02T04:16:44.784093Z"
    },
    "papermill": {
     "duration": 198.085381,
     "end_time": "2025-10-02T04:16:44.791474",
     "exception": false,
     "start_time": "2025-10-02T04:13:26.706093",
     "status": "completed"
    },
    "scrolled": false,
    "tags": []
   },
   "outputs": [
    {
     "data": {
      "application/vnd.jupyter.widget-view+json": {
       "model_id": "8aa97fd4bff94ffdac6da0e0622d4061",
       "version_major": 2,
       "version_minor": 0
      },
      "text/plain": [
       "  0%|          | 0/10 [00:00<?, ?it/s]"
      ]
     },
     "metadata": {},
     "output_type": "display_data"
    },
    {
     "name": "stdout",
     "output_type": "stream",
     "text": [
      "Retrieving document from  https://arxiv.org/e-print/2510.00063\n"
     ]
    },
    {
     "name": "stdout",
     "output_type": "stream",
     "text": [
      "extracting tarball to tmp_2510.00063..."
     ]
    },
    {
     "name": "stdout",
     "output_type": "stream",
     "text": [
      " done.\n",
      "Retrieving document from  https://arxiv.org/e-print/2510.00102\n"
     ]
    },
    {
     "name": "stdout",
     "output_type": "stream",
     "text": [
      "extracting tarball to tmp_2510.00102..."
     ]
    },
    {
     "name": "stdout",
     "output_type": "stream",
     "text": [
      " done.\n"
     ]
    },
    {
     "name": "stdout",
     "output_type": "stream",
     "text": [
      "T. Henning  ->  T. Henning  |  ['T. Henning']\n",
      "J. Eberhardt  ->  J. Eberhardt  |  ['J. Eberhardt']\n"
     ]
    },
    {
     "name": "stdout",
     "output_type": "stream",
     "text": [
      "Found 131 bibliographic references in tmp_2510.00102/main.bbl.\n",
      "Issues with the citations\n",
      "syntax error in line 438: '=' expected\n",
      "Retrieving document from  https://arxiv.org/e-print/2510.00103\n",
      "extracting tarball to tmp_2510.00103..."
     ]
    },
    {
     "name": "stdout",
     "output_type": "stream",
     "text": [
      " done.\n"
     ]
    },
    {
     "name": "stderr",
     "output_type": "stream",
     "text": [
      "/opt/hostedtoolcache/Python/3.9.23/x64/lib/python3.9/site-packages/IPython/core/interactiveshell.py:3550: LatexWarning: Multiple tex files.\n",
      "\n",
      "  exec(code_obj, self.user_global_ns, self.user_ns)\n",
      "/opt/hostedtoolcache/Python/3.9.23/x64/lib/python3.9/site-packages/IPython/core/interactiveshell.py:3550: LatexWarning: Found documentclass in tmp_2510.00103/aanda.tex\n",
      "\n",
      "  exec(code_obj, self.user_global_ns, self.user_ns)\n",
      "/opt/hostedtoolcache/Python/3.9.23/x64/lib/python3.9/site-packages/arxiv_on_deck_2/latex.py:414: LatexWarning: Latex injecting: 'balmer_fitting_params' from 'tmp_2510.00103/balmer_fitting_params.tex'\n",
      "  warnings.warn(LatexWarning(f\"Latex injecting: '{ext}' from '{subsource}'\"))\n",
      "/opt/hostedtoolcache/Python/3.9.23/x64/lib/python3.9/site-packages/arxiv_on_deck_2/latex.py:414: LatexWarning: Latex injecting: 'feii_fit_table' from 'tmp_2510.00103/feii_fit_table.tex'\n",
      "  warnings.warn(LatexWarning(f\"Latex injecting: '{ext}' from '{subsource}'\"))\n",
      "/opt/hostedtoolcache/Python/3.9.23/x64/lib/python3.9/site-packages/arxiv_on_deck_2/latex.py:414: LatexWarning: Latex injecting: 'table_lines' from 'tmp_2510.00103/table_lines.tex'\n",
      "  warnings.warn(LatexWarning(f\"Latex injecting: '{ext}' from '{subsource}'\"))\n",
      "/opt/hostedtoolcache/Python/3.9.23/x64/lib/python3.9/site-packages/arxiv_on_deck_2/latex.py:414: LatexWarning: Latex injecting: 'balmer_fitting_params' from 'tmp_2510.00103/balmer_fitting_params.tex'\n",
      "  warnings.warn(LatexWarning(f\"Latex injecting: '{ext}' from '{subsource}'\"))\n"
     ]
    },
    {
     "name": "stdout",
     "output_type": "stream",
     "text": [
      "A. d. Graaff  ->  A. D. Graaff  |  ['A. D. Graaff']\n"
     ]
    },
    {
     "name": "stdout",
     "output_type": "stream",
     "text": [
      "Found 142 bibliographic references in tmp_2510.00103/aanda.bbl.\n",
      "Retrieving document from  https://arxiv.org/e-print/2510.00135\n"
     ]
    },
    {
     "name": "stdout",
     "output_type": "stream",
     "text": [
      "extracting tarball to tmp_2510.00135..."
     ]
    },
    {
     "name": "stdout",
     "output_type": "stream",
     "text": [
      " done.\n",
      "Retrieving document from  https://arxiv.org/e-print/2510.00176\n"
     ]
    },
    {
     "name": "stdout",
     "output_type": "stream",
     "text": [
      "extracting tarball to tmp_2510.00176..."
     ]
    },
    {
     "name": "stdout",
     "output_type": "stream",
     "text": [
      " done.\n",
      "Retrieving document from  https://arxiv.org/e-print/2510.00271\n",
      "extracting tarball to tmp_2510.00271..."
     ]
    },
    {
     "name": "stdout",
     "output_type": "stream",
     "text": [
      " done.\n",
      "Retrieving document from  https://arxiv.org/e-print/2510.00299\n"
     ]
    },
    {
     "name": "stdout",
     "output_type": "stream",
     "text": [
      "extracting tarball to tmp_2510.00299..."
     ]
    },
    {
     "name": "stdout",
     "output_type": "stream",
     "text": [
      " done.\n"
     ]
    },
    {
     "name": "stdout",
     "output_type": "stream",
     "text": [
      "T. Henning  ->  T. Henning  |  ['T. Henning']\n"
     ]
    },
    {
     "name": "stdout",
     "output_type": "stream",
     "text": [
      "Issues with the citations\n",
      "list index out of range\n",
      "Retrieving document from  https://arxiv.org/e-print/2510.00330\n",
      "extracting tarball to tmp_2510.00330..."
     ]
    },
    {
     "name": "stdout",
     "output_type": "stream",
     "text": [
      " done.\n"
     ]
    },
    {
     "name": "stderr",
     "output_type": "stream",
     "text": [
      "/opt/hostedtoolcache/Python/3.9.23/x64/lib/python3.9/site-packages/IPython/core/interactiveshell.py:3550: LatexWarning: Multiple tex files.\n",
      "\n",
      "  exec(code_obj, self.user_global_ns, self.user_ns)\n",
      "/opt/hostedtoolcache/Python/3.9.23/x64/lib/python3.9/site-packages/IPython/core/interactiveshell.py:3550: LatexWarning: Found documentclass in tmp_2510.00330/paper.tex\n",
      "\n",
      "  exec(code_obj, self.user_global_ns, self.user_ns)\n",
      "/opt/hostedtoolcache/Python/3.9.23/x64/lib/python3.9/site-packages/arxiv_on_deck_2/latex.py:414: LatexWarning: Latex injecting: 'reddening_table' from 'tmp_2510.00330/reddening_table.tex'\n",
      "  warnings.warn(LatexWarning(f\"Latex injecting: '{ext}' from '{subsource}'\"))\n",
      "/opt/hostedtoolcache/Python/3.9.23/x64/lib/python3.9/site-packages/arxiv_on_deck_2/latex.py:414: LatexWarning: Latex injecting: 'reddening_table' from 'tmp_2510.00330/reddening_table.tex'\n",
      "  warnings.warn(LatexWarning(f\"Latex injecting: '{ext}' from '{subsource}'\"))\n",
      "/opt/hostedtoolcache/Python/3.9.23/x64/lib/python3.9/site-packages/arxiv_on_deck_2/latex.py:414: LatexWarning: Latex injecting: 'ewd2ism_table' from 'tmp_2510.00330/ewd2ism_table.tex'\n",
      "  warnings.warn(LatexWarning(f\"Latex injecting: '{ext}' from '{subsource}'\"))\n"
     ]
    },
    {
     "name": "stdout",
     "output_type": "stream",
     "text": [
      "M. Häberle  ->  M. Häberle  |  ['M. Häberle']\n",
      "N. Neumayer  ->  N. Neumayer  |  ['N. Neumayer']\n",
      "C. Clontz  ->  C. Clontz  |  ['C. Clontz']\n"
     ]
    },
    {
     "name": "stdout",
     "output_type": "stream",
     "text": [
      "Found 104 bibliographic references in tmp_2510.00330/paper.bbl.\n",
      "Retrieving document from  https://arxiv.org/e-print/2510.00897\n"
     ]
    },
    {
     "name": "stdout",
     "output_type": "stream",
     "text": [
      "extracting tarball to tmp_2510.00897... done.\n",
      "Retrieving document from  https://arxiv.org/e-print/2510.00945\n"
     ]
    },
    {
     "name": "stdout",
     "output_type": "stream",
     "text": [
      "extracting tarball to tmp_2510.00945..."
     ]
    },
    {
     "name": "stdout",
     "output_type": "stream",
     "text": [
      " done.\n"
     ]
    },
    {
     "name": "stdout",
     "output_type": "stream",
     "text": [
      "Found 150 bibliographic references in tmp_2510.00945/blank.bbl.\n"
     ]
    }
   ],
   "source": [
    "documents = []\n",
    "failed = []\n",
    "for paper in tqdm(candidates):\n",
    "    # debug crap\n",
    "    paper['identifier'] = paper['identifier'].lower().replace('arxiv:', '').replace(r'\\n', '').strip()\n",
    "    paper_id = paper['identifier']\n",
    "    \n",
    "    folder = f'tmp_{paper_id}'\n",
    "\n",
    "    try:\n",
    "        if not os.path.isdir(folder):\n",
    "            folder = retrieve_document_source(f\"{paper_id}\", f'tmp_{paper_id}')\n",
    "        \n",
    "        try:\n",
    "            doc = latex.LatexDocument(folder, validation=validation)    \n",
    "        except AffiliationError as affilerror:\n",
    "            msg = f\"ArXiv:{paper_id:s} is not an MPIA paper... \" + str(affilerror)\n",
    "            failed.append((paper, \"affiliation error: \" + str(affilerror) ))\n",
    "            continue\n",
    "        \n",
    "        # Hack because sometimes author parsing does not work well\n",
    "        if (len(doc.authors) != len(paper['authors'])):\n",
    "            doc._authors = paper['authors']\n",
    "        else:\n",
    "            # highlight authors (FIXME: doc.highlight_authors)\n",
    "            # done on arxiv paper already\n",
    "            doc._authors = highlight_authors_in_list(\n",
    "                [get_initials(k) for k in doc.authors], \n",
    "                mpia_authors, verbose=True)\n",
    "        if (doc.abstract) in (None, ''):\n",
    "            doc._abstract = paper['abstract']\n",
    "            \n",
    "        doc.comment = (get_markdown_badge(paper_id) + \n",
    "                       \"<mark>Appeared on: \" + paper['date'] + \"</mark> - \")\n",
    "        if paper['comments']:\n",
    "            doc.comment += \" _\" + paper['comments'] + \"_\"\n",
    "        \n",
    "        full_md = doc.generate_markdown_text()\n",
    "        \n",
    "        full_md += get_markdown_qrcode(paper_id)\n",
    "        \n",
    "        # replace citations\n",
    "        try:\n",
    "            bibdata = latex_bib.LatexBib.from_doc(doc)\n",
    "            full_md = latex_bib.replace_citations(full_md, bibdata)\n",
    "        except Exception as e:\n",
    "            print(\"Issues with the citations\")\n",
    "            print(e)\n",
    "        \n",
    "        documents.append((paper_id, full_md))\n",
    "    except Exception as e:\n",
    "        warnings.warn(latex.LatexWarning(f\"{paper_id:s} did not run properly\\n\" +\n",
    "                                         str(e)\n",
    "                                        ))\n",
    "        failed.append((paper, \"latex error \" + str(e)))"
   ]
  },
  {
   "cell_type": "markdown",
   "id": "2505a25c",
   "metadata": {
    "papermill": {
     "duration": 0.004655,
     "end_time": "2025-10-02T04:16:44.800865",
     "exception": false,
     "start_time": "2025-10-02T04:16:44.796210",
     "status": "completed"
    },
    "tags": []
   },
   "source": [
    "### Export the logs\n",
    "\n",
    "Throughout, we also keep track of the logs per paper. see `logs-{today date}.md` "
   ]
  },
  {
   "cell_type": "code",
   "execution_count": 6,
   "id": "d733828a",
   "metadata": {
    "execution": {
     "iopub.execute_input": "2025-10-02T04:16:44.811464Z",
     "iopub.status.busy": "2025-10-02T04:16:44.811116Z",
     "iopub.status.idle": "2025-10-02T04:16:44.837148Z",
     "shell.execute_reply": "2025-10-02T04:16:44.836364Z"
    },
    "papermill": {
     "duration": 0.033381,
     "end_time": "2025-10-02T04:16:44.838799",
     "exception": false,
     "start_time": "2025-10-02T04:16:44.805418",
     "status": "completed"
    },
    "scrolled": false,
    "tags": []
   },
   "outputs": [
    {
     "data": {
      "text/markdown": [
       "## Successful papers"
      ],
      "text/plain": [
       "<IPython.core.display.Markdown object>"
      ]
     },
     "metadata": {},
     "output_type": "display_data"
    },
    {
     "data": {
      "text/markdown": [
       "\n",
       "|||\n",
       "|---:|:---|\n",
       "| [![arXiv](https://img.shields.io/badge/arXiv-2510.00102-b31b1b.svg)](https://arxiv.org/abs/2510.00102) | **A Cold and Super-Puffy Planet on a Polar Orbit**  |\n",
       "|| J. I. Espinoza-Retamal, et al. -- incl., <mark>T. Henning</mark>, <mark>J. Eberhardt</mark> |\n",
       "|*Appeared on*| *2025-10-02*|\n",
       "|*Comments*| *16 pages, 4 figures, submitted to AAS journals*|\n",
       "|**Abstract**|            We report the discovery of TOI-4507 b, a transiting sub-Saturn with a density $<0.3$ g/cm$^3$ on a 105-day polar orbit around a $700$ Myr old F star. The transits were detected using data from TESS as well as the Antarctic telescope ASTEP. A joint analysis of the light curves and radial velocities from HARPS, FEROS, and CORALIE confirmed the planetary nature of the signal by limiting the mass to be below $30\\,M_\\oplus$ at $95\\%$ confidence. The radial velocities also exhibit the Rossiter-McLaughlin effect and imply that the star's equatorial plane is tilted by $82.0_{-2.4}^{+2.6}$ deg with respect to the planet's orbital plane. With these characteristics, TOI-4507 b is one of longest-period planets for which the stellar obliquity has been measured, and is among the longest-period and youngest ''super-puff'' planets yet discovered.         |"
      ],
      "text/plain": [
       "[2510.00102] A Cold and Super-Puffy Planet on a Polar Orbit\n",
       "\tJ. I. Espinoza-Retamal, et al. -- incl., <mark>T. Henning</mark>, <mark>J. Eberhardt</mark>"
      ]
     },
     "metadata": {},
     "output_type": "display_data"
    },
    {
     "data": {
      "text/markdown": [
       "\n",
       "|||\n",
       "|---:|:---|\n",
       "| [![arXiv](https://img.shields.io/badge/arXiv-2510.00103-b31b1b.svg)](https://arxiv.org/abs/2510.00103) | **The warm outer layer of a Little Red Dot as the source of [Fe II] and collisional Balmer lines with scattering wings**  |\n",
       "|| A. Torralba, et al. -- incl., <mark>A. d. Graaff</mark> |\n",
       "|*Appeared on*| *2025-10-02*|\n",
       "|*Comments*| *18 pages incl. references. Main figure: 4 ([Fe II] model). To be submitted to A&A. Comments welcome*|\n",
       "|**Abstract**|            The population of the Little Red Dots (LRDs) may represent a key phase of supermassive black hole (SMBH) growth. A cocoon of dense excited gas is emerging as key component to explain the most striking properties of LRDs, such as strong Balmer breaks and Balmer absorption, as well as the weak IR emission. To dissect the structure of LRDs, we analyze new deep JWST/NIRSpec PRISM and G395H spectra of FRESCO-GN-9771, one of the most luminous known LRDs at $z=5.5$. These reveal a strong Balmer break, broad Balmer lines and very narrow [O III] emission. We unveil a forest of optical [Fe II] lines, which we argue is emerging from a dense ($n_{\\rm H}=10^{9-10}$ cm$^{-3}$) warm layer with electron temperature $T_{\\rm e}\\approx7000$ K. The broad wings of H$\\alpha$ and H$\\beta$ have an exponential profile due to electron scattering in this same layer. The high $\\rm H\\alpha:H\\beta:H\\gamma$ flux ratio of $\\approx10.4:1:0.14$ is an indicator of collisional excitation and resonant scattering dominating the Balmer line emission. A narrow H$\\gamma$ component, unseen in the other two Balmer lines due to outshining by the broad components, could trace the ISM of a normal host galaxy with a star formation rate $\\sim5$ M$_{\\odot}$ yr$^{-1}$. The warm layer is mostly opaque to Balmer transitions, producing a characteristic P-Cygni profile in the line centers suggesting outflowing motions. This same layer is responsible for shaping the Balmer break. The broad-band spectrum can be reasonably matched by a simple photoionized slab model that dominates the $\\lambda>1500$ Å continuum and a low mass ($\\sim10^8$ M$_{\\odot}$) galaxy that could explain the narrow [O III], with only subdominant contribution to the UV continuum. Our findings indicate that Balmer lines are not directly tracing gas kinematics near the SMBH and that the BH mass scale is likely much lower than virial indicators suggest.         |"
      ],
      "text/plain": [
       "[2510.00103] The warm outer layer of a Little Red Dot as the source of [Fe II] and collisional Balmer lines with scattering wings\n",
       "\tA. Torralba, et al. -- incl., <mark>A. d. Graaff</mark>"
      ]
     },
     "metadata": {},
     "output_type": "display_data"
    },
    {
     "data": {
      "text/markdown": [
       "\n",
       "|||\n",
       "|---:|:---|\n",
       "| [![arXiv](https://img.shields.io/badge/arXiv-2510.00299-b31b1b.svg)](https://arxiv.org/abs/2510.00299) | **A planetary system with a sub-Neptune planet in the habitable zone of TOI-2093**  |\n",
       "|| J. Sanz-Forcada, et al. -- incl., <mark>T. Henning</mark> |\n",
       "|*Appeared on*| *2025-10-02*|\n",
       "|*Comments*| *Accepted by A&A. 12 pages, 7 figures, 5 tables in the main body (20 pages, 19 figures, 9 tables including appendices)*|\n",
       "|**Abstract**|            Aims. We aim to confirm and measure the mass of the transiting planet candidate around the K5V star TOI-2093, previously announced by the Transiting Exoplanet Survey Satellite (TESS) project. Methods. We combined photometric data from 32 sectors between 2019 and 2024 with 86 radial velocity measurements obtained with the CARMENES spectrograph over a period of 2.4 years, along with a series of ground-based, broadband photometric monitoring campaigns to characterize the host star and the transiting planet candidate, as well as to search for additional planets in the system. Our data indicate that TOI-2093 is a main-sequence star located at a distance of 83 pc, with solar metallicity, and a rotation period of 43.8 +- 1.8 d. Results. We have confirmed the planetary nature of the TESS transiting planet candidate, named TOI-2093 c, through the detection of its Keplerian signal in the spectroscopic data. We measured a planetary radius of 2.30 +- 0.12 Rearth, a Neptune-like mass of 15.8 +- 3.7 Mearth, and an orbital period of 53.81149 +- 0.00017 d. This makes TOI-2093 c the smallest exoplanet known in the habitable zone of a main-sequence FGK star. Given its size and relatively high density, TOI-2093 c belongs to a class of planets with no analog in the Solar System. In addition, the CARMENES data revealed the presence of a second planet candidate with a minimum mass of 10.6 +- 2.5 Mearth and an orbital period of 12.836 +- 0.021 d. This inner planet, which we designated TOI-2093 b, shows no detectable photometric transit in the TESS light curves. The orbital planes of the two planets are misaligned by more than 1.6 deg despite the near 4:1 mean-motion resonance of their orbital periods.         |"
      ],
      "text/plain": [
       "[2510.00299] A planetary system with a sub-Neptune planet in the habitable zone of TOI-2093\n",
       "\tJ. Sanz-Forcada, et al. -- incl., <mark>T. Henning</mark>"
      ]
     },
     "metadata": {},
     "output_type": "display_data"
    },
    {
     "data": {
      "text/markdown": [
       "\n",
       "|||\n",
       "|---:|:---|\n",
       "| [![arXiv](https://img.shields.io/badge/arXiv-2510.00330-b31b1b.svg)](https://arxiv.org/abs/2510.00330) | **oMEGACat. VII. Tracing Interstellar and Intracluster Medium of $ω$ Centauri using Sodium Absorptions**  |\n",
       "|| Z. Wang, et al. -- incl., <mark>M. Häberle</mark>, <mark>N. Neumayer</mark>, <mark>C. Clontz</mark> |\n",
       "|*Appeared on*| *2025-10-02*|\n",
       "|*Comments*| *23 pages, 11 figures, and 2 tables, accepted by ApJ. Machine-readable data is available in the online article*|\n",
       "|**Abstract**|            We investigate the foreground interstellar medium along the line of sight and intracluster medium of $\\omega$ Centauri ($\\omega$ Cen) by measuring the equivalent width of Na I D absorptions from MUSE observations. The large line-of-sight velocity difference between $\\omega$ Cen and the foreground enables us to separate Na I D absorption contributed from atomic gas in the interstellar and intracluster medium. We find that small-scale substructures in the foreground Na I D distribution correlate with differential reddening derived from photometric methods. Using an empirical Na I D equivalent width-reddening relation, we determine an average reddening of $E(B-V)=0.153\\pm0.003$ mag within the half-light radius of $\\omega$ Cen. However, the Na I D-inferred differential reddening is significantly larger than photometric estimates. This is likely due to scatter in the Na I D-reddening relation. We find no evidence for intracluster atomic gas from spectra of horizontal branch stars, as there is no significant Na I D absorption at $\\omega$ Cen's systemic velocity. Given this non-detection, we place the strongest upper limit to date on the intracluster atomic gas column density in $\\omega$ Cen of $\\lesssim2.17 \\times 10^{18}~\\rm{cm^{-2}}$. We also estimate the ionized gas density from pulsar dispersion measure variations, which exceed the atomic gas limit by $\\sim$50 times. Nevertheless, the strong correlation between dispersion measure and foreground Na I D suggests that much or all of this ionized gas resides in the foreground. Given ongoing mass loss from bright giant stars, our findings imply that the intracluster gas accumulation timescale is short, and gas removal in the cluster is likely not tied to stripping as $\\omega$ Cen passes through the Galactic disk.         |"
      ],
      "text/plain": [
       "[2510.00330] oMEGACat. VII. Tracing Interstellar and Intracluster Medium of $ω$ Centauri using Sodium Absorptions\n",
       "\tZ. Wang, et al. -- incl., <mark>M. Häberle</mark>, <mark>N. Neumayer</mark>, <mark>C. Clontz</mark>"
      ]
     },
     "metadata": {},
     "output_type": "display_data"
    },
    {
     "data": {
      "text/markdown": [
       "\n",
       "|||\n",
       "|---:|:---|\n",
       "| [![arXiv](https://img.shields.io/badge/arXiv-2510.00945-b31b1b.svg)](https://arxiv.org/abs/2510.00945) | **Euclid: Discovery of bright $z\\simeq7$ Lyman-break galaxies in UltraVISTA and Euclid COSMOS**  |\n",
       "|| R. G. Varadaraj, et al. -- incl., <mark>E. Bañados</mark>, <mark>K. Jahnke</mark> |\n",
       "|*Appeared on*| *2025-10-02*|\n",
       "|*Comments*| *18 pages, 13 figures, 5 tables, additional figures in appendix. Submitted to A&A*|\n",
       "|**Abstract**|            We present a search for $z\\simeq7$ Lyman-break galaxies using the $1.72 \\, \\rm{deg}^2$ near-infrared UltraVISTA survey in the COSMOS field, reaching $5\\,\\sigma$ depths in $Y$ of 26.2. We incorporate deep optical and Spitzer imaging for a full spectral energy distribution (SED) fitting analysis. We find 289 candidate galaxies at $6.5\\leq z \\leq 7.5$ covering $-22.6 \\leq M_{\\rm UV} \\leq -20.2$, faint enough to overlap with Hubble Space Telescope studies. We conduct a separate selection by including complementary Euclid performance verification imaging (reaching $5\\,\\sigma$ depths of $26.3$), yielding 140 galaxies in $0.65 \\, \\rm{deg}^2$, with 38 sources unique to this sample. We compute the rest-frame UV luminosity function (UV LF) from our samples, extending below the knee ($M^*=-21.14^{+0.28}_{-0.25}$). We find that the shape of the UV LF is consistent with both a Schechter function and double-power law (DPL) at the magnitudes probed by this sample, with a DPL preferred at $M_{\\rm UV}<-22.5$ when bright-end results are included. The UltraVISTA+Euclid sample provides a clean measurement of the LF due to the overlapping near-infrared filters identifying molecular absorption features in the SEDs of ultra-cool dwarf interlopers, and additional faint galaxies are recovered. A comparison with JWST LFs at $z>7$ suggests a gentle evolution in the bright-end slope, although this is limited by a lack of robust bright-end measurements at $z>9$. We forecast that in the Euclid Deep Fields, the removal of contaminant ultra-cool dwarfs as point sources will be possible at $J_{\\rm E} < 24.5$. Finally, we present a high-equivalent-width Lyman-$\\alpha$ emitter candidate identified by combining HSC, VISTA, and Euclid broadband photometry, highlighting the synergistic power these instruments will have in the Euclid Auxiliary Fields for identifying extreme sources in the Epoch of Reionisation.         |"
      ],
      "text/plain": [
       "[2510.00945] Euclid: Discovery of bright $z\\simeq7$ Lyman-break galaxies in UltraVISTA and Euclid COSMOS\n",
       "\tR. G. Varadaraj, et al. -- incl., <mark>E. Bañados</mark>, <mark>K. Jahnke</mark>"
      ]
     },
     "metadata": {},
     "output_type": "display_data"
    },
    {
     "data": {
      "text/markdown": [
       "## Failed papers"
      ],
      "text/plain": [
       "<IPython.core.display.Markdown object>"
      ]
     },
     "metadata": {},
     "output_type": "display_data"
    },
    {
     "data": {
      "text/markdown": [
       "\n",
       "|||\n",
       "|---:|:---|\n",
       "| [![arXiv](https://img.shields.io/badge/arXiv-2510.00271-b31b1b.svg)](https://arxiv.org/abs/2510.00271) | **Searching for Ultra-light Dark Matter in Spatial Correlations of White Dwarf Structure**  |\n",
       "|| N. R. Crumpler, N. L. Zakamska, G. A. Pallathadka, <mark>K. El-Badry</mark> |\n",
       "|*Appeared on*| *2025-10-02*|\n",
       "|*Comments*| *24 pages, 9 figures*|\n",
       "|**Abstract**|            If dark matter is ultra-light and has certain Standard Model interactions, it can change the mass-radius relation of white dwarf stars. The coherence length of ultra-light dark matter imparts spatial correlations in deviations from the canonical mass-radius relation, and thus white dwarfs can be used to reconstruct the coherence length, or equivalently the particle mass, of the dark matter field. We simulate the observability of such spatial correlations accounting for realistic complications like variable hydrogen envelope thickness, dust, binaries, measurement noise, and distance uncertainties in DA white dwarfs. Using a machine learning approach on simulated data, we measure the dark matter field coherence length and find that large deviations from the mass-radius relation ($\\sim10\\%$ change in radius) are needed to produce an observable signal given realistic noise sources. We apply our spatial correlation measurement routine to the SDSS catalog of 10,207 DA white dwarfs. We detect a positive spatial correlation among white dwarfs at separations corresponding to a coherence length of $300\\pm50$ pc, with an average Z-score of 85 for white dwarfs separated by less than this coherence length. We conclude that this signal is due to observational bias. The signal can be explained by an offset between measurements and theory for nearby cool white dwarfs, and the presence of few, low-temperature white dwarfs with noisy measurements at further distances. With future improvements in white dwarf models and measurement techniques, particularly for cool white dwarfs, this method can provide interesting constraints on ultra-light dark matter models.         |\n",
       "|<p style=\"color:green\"> **ERROR** </p>| <p style=\"color:green\">affiliation error: mpia.affiliation_verifications: '69117' keyword not found.</p> |"
      ],
      "text/plain": [
       "<IPython.core.display.Markdown object>"
      ]
     },
     "metadata": {},
     "output_type": "display_data"
    },
    {
     "data": {
      "text/markdown": [
       "\n",
       "|||\n",
       "|---:|:---|\n",
       "| [![arXiv](https://img.shields.io/badge/arXiv-2510.00063-b31b1b.svg)](https://arxiv.org/abs/2510.00063) | **AstroMMBench: A Benchmark for Evaluating Multimodal Large Language Models Capabilities in Astronomy**  |\n",
       "|| <mark>J. Shi</mark>, et al. |\n",
       "|*Appeared on*| *2025-10-02*|\n",
       "|*Comments*| **|\n",
       "|**Abstract**|            Astronomical image interpretation presents a significant challenge for applying multimodal large language models (MLLMs) to specialized scientific tasks. Existing benchmarks focus on general multimodal capabilities but fail to capture the complexity of astronomical data. To bridge this gap, we introduce AstroMMBench, the first comprehensive benchmark designed to evaluate MLLMs in astronomical image understanding. AstroMMBench comprises 621 multiple-choice questions across six astrophysical subfields, curated and reviewed by 15 domain experts for quality and relevance. We conducted an extensive evaluation of 25 diverse MLLMs, including 22 open-source and 3 closed-source models, using AstroMMBench. The results show that Ovis2-34B achieved the highest overall accuracy (70.5%), demonstrating leading capabilities even compared to strong closed-source models. Performance showed variations across the six astrophysical subfields, proving particularly challenging in domains like cosmology and high-energy astrophysics, while models performed relatively better in others, such as instrumentation and solar astrophysics. These findings underscore the vital role of domain-specific benchmarks like AstroMMBench in critically evaluating MLLM performance and guiding their targeted development for scientific applications. AstroMMBench provides a foundational resource and a dynamic tool to catalyze advancements at the intersection of AI and astronomy.         |\n",
       "|<p style=\"color:green\"> **ERROR** </p>| <p style=\"color:green\">affiliation error: mpia.affiliation_verifications: 'Heidelberg' keyword not found.</p> |"
      ],
      "text/plain": [
       "<IPython.core.display.Markdown object>"
      ]
     },
     "metadata": {},
     "output_type": "display_data"
    },
    {
     "data": {
      "text/markdown": [
       "\n",
       "|||\n",
       "|---:|:---|\n",
       "| [![arXiv](https://img.shields.io/badge/arXiv-2510.00135-b31b1b.svg)](https://arxiv.org/abs/2510.00135) | **SN 2025coe: A Triple-Peaked Calcium-Strong Transient from A White-Dwarf Progenitor**  |\n",
       "|| C. Chen, et al. -- incl., <mark>Y. Wang</mark> |\n",
       "|*Appeared on*| *2025-10-02*|\n",
       "|*Comments*| *12 pages, 9 figures, submitted to ApJ*|\n",
       "|**Abstract**|            SN 2025coe is a calcium-strong transient located at an extremely large projected offset $\\sim$39.3 kpc from the center of its host, the nearby early-type galaxy NGC 3277 at a distance of $\\sim$25.5 Mpc. In this paper, we present multi-band photometric and spectroscopic observations spanning $\\sim$100 days post-discovery. Its multi-band light curves display three distinct peaks: (1) an initial peak at $t \\approx 1.6$ days attributed to shock cooling emission, (2) a secondary peak of $M_{R, \\, peak} \\approx$ $-$15.8 mag at $t \\approx 10.2$ days powered by radioactive decay, and (3) a late-time bump at $t \\approx 42.8$ days likely caused by ejecta-circumstellar material/clump interaction. Spectral evolution of SN 2025coe reveals a fast transition to the nebular phase within 2 months, where it exhibits an exceptionally high [Ca II]/[O I] ratio larger than 6. Modeling of the bolometric light curve suggests an ejecta mass of $M_{\\rm ej} = 0.29^{+0.14}_{-0.15} \\, M_{\\odot}$, a $^{56}$Ni mass of $M_{\\rm ^{56}Ni} = 2.4^{+0.06}_{-0.05} \\times 10^{-2} M_{\\odot}$, and a progenitor envelope with mass $M_e = 1.4^{+6.9}_{-1.2} \\times 10^{-3} \\, M_{\\odot}$ and radius $R_e = 13.5^{+64.1}_{-11.1} \\, R_{\\odot}$. The tidal disruption of a hybrid HeCO white dwarf (WD) by a low-mass CO WD provides a natural explanation for the low ejecta mass, the small fraction of $^{56}$Ni, and the presence of an extended, low-mass envelope.         |\n",
       "|<p style=\"color:green\"> **ERROR** </p>| <p style=\"color:green\">affiliation error: mpia.affiliation_verifications: 'Heidelberg' keyword not found.</p> |"
      ],
      "text/plain": [
       "<IPython.core.display.Markdown object>"
      ]
     },
     "metadata": {},
     "output_type": "display_data"
    },
    {
     "data": {
      "text/markdown": [
       "\n",
       "|||\n",
       "|---:|:---|\n",
       "| [![arXiv](https://img.shields.io/badge/arXiv-2510.00176-b31b1b.svg)](https://arxiv.org/abs/2510.00176) | **The Simons Observatory: Characterization of All DC/RF Routing Wafers for Detector Modules**  |\n",
       "|| A. Middleton, et al. -- incl., <mark>Y. Wang</mark> |\n",
       "|*Appeared on*| *2025-10-02*|\n",
       "|*Comments*| *5 pages, 7 figures. Submitted to LTD 2025 conference proceedings*|\n",
       "|**Abstract**|            The Simons Observatory (SO) is a cosmic microwave background experiment with over 67,000 polarization-sensitive transition-edge sensor (TES) detectors currently installed for use in observations and plans to increase the total detector count to ${\\sim}$98,000 detectors with the Advanced SO upgrade. The TES arrays are packaged into Universal Focal-Plane Modules (UFMs), which also contain the multiplexing readout circuit. Within a readout module, a DC/RF routing wafer provides a cold interface between the detectors and the readout multiplexing chips. Each routing wafer hosts twelve bias lines, which contain the ${\\sim}$400 ${\\mu}{\\Omega}$ shunt resistors that are part of the TES bias circuitry. More than 70 routing wafers have been fabricated and tested both at room temperature and 100 mK before integration into UFMs. The lab measurements for all screened wafers have been compiled to show the distribution of measured average shunt resistance Rsh for each bias line, both across bias lines on a single routing wafer and across all routing wafers. The mean average shunt resistance for all wafers was found to be 396 ${\\mu}{\\Omega}$ with a standard deviation of 16 ${\\mu}{\\Omega}$, or ${\\sim}$4%. For each wafer, we note good uniformity of average Rsh between bias lines, with a slight downward trend with increasing distance from the center of the wafer. The fabrication data collected at room temperature shows agreement with the cryogenic measurements of Rsh distribution.         |\n",
       "|<p style=\"color:green\"> **ERROR** </p>| <p style=\"color:green\">affiliation error: mpia.affiliation_verifications: 'Heidelberg' keyword not found.</p> |"
      ],
      "text/plain": [
       "<IPython.core.display.Markdown object>"
      ]
     },
     "metadata": {},
     "output_type": "display_data"
    },
    {
     "data": {
      "text/markdown": [
       "\n",
       "|||\n",
       "|---:|:---|\n",
       "| [![arXiv](https://img.shields.io/badge/arXiv-2510.00897-b31b1b.svg)](https://arxiv.org/abs/2510.00897) | **The gas streamer G1-2-3 in the Galactic Center**  |\n",
       "|| S. Gillessen, et al. -- incl., <mark>S. Joharle</mark> |\n",
       "|*Appeared on*| *2025-10-02*|\n",
       "|*Comments*| *7 pages, 5 figures, under review at A&A*|\n",
       "|**Abstract**|            The black hole in the Galactic Center, Sgr A*, is prototypical for ultra-low-fed galactic nuclei. The discovery of a hand-full of gas clumps in the realm of a few Earth masses in its immediate vicinity provides a gas reservoir sufficient to power Sgr A*. In particular, the gas cloud G2 is of interest due to its extreme orbit, on which it passed at a pericenter distance of around 100 AU and notably lost kinetic energy during the fly-by due to the interaction with the black hole accretion flow. 13 years prior to G2, a resembling gas cloud called G1, passed Sgr A* on a similar orbit. The origin of G2 remained a topic of discussion, with models including a central (stellar) source still proposed as alternatives to pure gaseous clouds. Here, we report the orbit of a third gas clump moving again along (almost) the same orbital trace. Since the probability of finding three stars on close orbits is very small, this strongly argues against stellar-based source models. Instead, we show that the gas streamer G1-2-3 plausibly originates from the stellar wind of the massive binary star IRS16SW. This claim is substantiated by the fact that the small differences between the three orbits - the orientations of the orbital ellipses in their common plane as a function of time - are consistent with the orbital motion of IRS 16SW.         |\n",
       "|<p style=\"color:green\"> **ERROR** </p>| <p style=\"color:green\">affiliation error: mpia.affiliation_verifications: 'Heidelberg' keyword not found.</p> |"
      ],
      "text/plain": [
       "<IPython.core.display.Markdown object>"
      ]
     },
     "metadata": {},
     "output_type": "display_data"
    }
   ],
   "source": [
    "import datetime\n",
    "today = str(datetime.date.today())\n",
    "logfile = f\"_build/html/logs/log-{today}.md\"\n",
    "\n",
    "\n",
    "with open(logfile, 'w') as logs:\n",
    "    # Success\n",
    "    logs.write(f'# Arxiv on Deck 2: Logs - {today}\\n\\n')\n",
    "    logs.write(\"\"\"* Arxiv had {0:,d} new papers\\n\"\"\".format(len(new_papers)))\n",
    "    logs.write(\"\"\"    * {0:,d} with possible author matches\\n\\n\"\"\".format(len(candidates)))\n",
    "    logs.write(\"## Sucessful papers\\n\\n\")\n",
    "    display(Markdown(\"## Successful papers\"))\n",
    "    success = [k[0] for k in documents]\n",
    "    for candid in candidates:\n",
    "        if candid['identifier'].split(':')[-1] in success:\n",
    "            display(candid)\n",
    "            logs.write(candid.generate_markdown_text() + '\\n\\n')\n",
    "\n",
    "    ## failed\n",
    "    logs.write(\"## Failed papers\\n\\n\")\n",
    "    display(Markdown(\"## Failed papers\"))\n",
    "    failed = sorted(failed, key=lambda x: x[1])\n",
    "    current_reason = \"\"\n",
    "    for paper, reason in failed:\n",
    "        if 'affiliation' in reason:\n",
    "            color = 'green'\n",
    "        else:\n",
    "            color = 'red'\n",
    "        data = Markdown(\n",
    "                paper.generate_markdown_text() + \n",
    "                f'\\n|<p style=\"color:{color:s}\"> **ERROR** </p>| <p style=\"color:{color:s}\">{reason:s}</p> |'\n",
    "               )\n",
    "        if reason != current_reason:\n",
    "            logs.write(f'### {reason:s} \\n\\n')\n",
    "            current_reason = reason\n",
    "        logs.write(data.data + '\\n\\n')\n",
    "        \n",
    "        # only display here the important errors (all in logs)\n",
    "        # if color in ('red',):\n",
    "        display(data)"
   ]
  },
  {
   "cell_type": "markdown",
   "id": "472d20ee",
   "metadata": {
    "papermill": {
     "duration": 0.006187,
     "end_time": "2025-10-02T04:16:44.851125",
     "exception": false,
     "start_time": "2025-10-02T04:16:44.844938",
     "status": "completed"
    },
    "tags": []
   },
   "source": [
    "## Export documents\n",
    "\n",
    "We now write the .md files and export relevant images"
   ]
  },
  {
   "cell_type": "code",
   "execution_count": 7,
   "id": "d426aed9",
   "metadata": {
    "execution": {
     "iopub.execute_input": "2025-10-02T04:16:44.863971Z",
     "iopub.status.busy": "2025-10-02T04:16:44.863653Z",
     "iopub.status.idle": "2025-10-02T04:16:44.871384Z",
     "shell.execute_reply": "2025-10-02T04:16:44.870758Z"
    },
    "papermill": {
     "duration": 0.015577,
     "end_time": "2025-10-02T04:16:44.872429",
     "exception": false,
     "start_time": "2025-10-02T04:16:44.856852",
     "status": "completed"
    },
    "tags": []
   },
   "outputs": [],
   "source": [
    "def export_markdown_summary(md: str, md_fname:str, directory: str):\n",
    "    \"\"\"Export MD document and associated relevant images\"\"\"\n",
    "    import os\n",
    "    import shutil\n",
    "    import re\n",
    "\n",
    "    if (os.path.exists(directory) and not os.path.isdir(directory)):\n",
    "        raise RuntimeError(f\"a non-directory file exists with name {directory:s}\")\n",
    "\n",
    "    if (not os.path.exists(directory)):\n",
    "        print(f\"creating directory {directory:s}\")\n",
    "        os.mkdir(directory)\n",
    "\n",
    "    fig_fnames = (re.compile(r'\\[Fig.*\\]\\((.*)\\)').findall(md) + \n",
    "                  re.compile(r'\\<img src=\"([^>\\s]*)\"[^>]*/>').findall(md))\n",
    "    print(\"found figures\", fig_fnames)\n",
    "    for fname in fig_fnames:\n",
    "        if 'http' in fname:\n",
    "            # No need to copy online figures\n",
    "            continue\n",
    "        if not os.path.exists(fname):\n",
    "            print(\"file not found\", fname)\n",
    "            continue\n",
    "        print(\"copying \", fname, \"to\", directory)\n",
    "        destdir = os.path.join(directory, os.path.dirname(fname))\n",
    "        destfname = os.path.join(destdir, os.path.basename(fname))\n",
    "        try:\n",
    "            os.makedirs(destdir)\n",
    "        except FileExistsError:\n",
    "            pass\n",
    "        shutil.copy(fname, destfname)\n",
    "    with open(os.path.join(directory, md_fname), 'w') as fout:\n",
    "        fout.write(md)\n",
    "    print(\"exported in \", os.path.join(directory, md_fname))\n",
    "    [print(\"    + \" + os.path.join(directory,fk)) for fk in fig_fnames]"
   ]
  },
  {
   "cell_type": "code",
   "execution_count": 8,
   "id": "014d04a4",
   "metadata": {
    "execution": {
     "iopub.execute_input": "2025-10-02T04:16:44.885903Z",
     "iopub.status.busy": "2025-10-02T04:16:44.885601Z",
     "iopub.status.idle": "2025-10-02T04:16:44.903543Z",
     "shell.execute_reply": "2025-10-02T04:16:44.902753Z"
    },
    "papermill": {
     "duration": 0.025949,
     "end_time": "2025-10-02T04:16:44.904747",
     "exception": false,
     "start_time": "2025-10-02T04:16:44.878798",
     "status": "completed"
    },
    "tags": []
   },
   "outputs": [
    {
     "name": "stdout",
     "output_type": "stream",
     "text": [
      "found figures ['tmp_2510.00102/./TOI-4507_RV.png', 'tmp_2510.00102/./TOI-4507_LC.png', 'tmp_2510.00102/./SOAR.png', 'tmp_2510.00102/./Prot.png']\n",
      "copying  tmp_2510.00102/./TOI-4507_RV.png to _build/html/\n",
      "copying  tmp_2510.00102/./TOI-4507_LC.png to _build/html/\n",
      "copying  tmp_2510.00102/./SOAR.png to _build/html/\n",
      "copying  tmp_2510.00102/./Prot.png to _build/html/\n",
      "exported in  _build/html/2510.00102.md\n",
      "    + _build/html/tmp_2510.00102/./TOI-4507_RV.png\n",
      "    + _build/html/tmp_2510.00102/./TOI-4507_LC.png\n",
      "    + _build/html/tmp_2510.00102/./SOAR.png\n",
      "    + _build/html/tmp_2510.00102/./Prot.png\n",
      "found figures ['tmp_2510.00103/./figures/GN-9771_Ha_multiplicative_fit.png', 'tmp_2510.00103/./figures/BHS_line_emissivity_n10.png', 'tmp_2510.00103/./figures/GN-9771_Hb_multiplicative_fit.png']\n",
      "copying  tmp_2510.00103/./figures/GN-9771_Ha_multiplicative_fit.png to _build/html/\n",
      "copying  tmp_2510.00103/./figures/BHS_line_emissivity_n10.png to _build/html/\n",
      "copying  tmp_2510.00103/./figures/GN-9771_Hb_multiplicative_fit.png to _build/html/\n",
      "exported in  _build/html/2510.00103.md\n",
      "    + _build/html/tmp_2510.00103/./figures/GN-9771_Ha_multiplicative_fit.png\n",
      "    + _build/html/tmp_2510.00103/./figures/BHS_line_emissivity_n10.png\n",
      "    + _build/html/tmp_2510.00103/./figures/GN-9771_Hb_multiplicative_fit.png\n",
      "found figures ['tmp_2510.00299/./Figs/GLS_activity_period_v3.png', 'tmp_2510.00299/./Figs/GLS_output_graphic_window.png', 'tmp_2510.00299/./Figs/massrad.png', 'tmp_2510.00299/./Figs/teqvesc.png']\n",
      "copying  tmp_2510.00299/./Figs/GLS_activity_period_v3.png to _build/html/\n",
      "copying  tmp_2510.00299/./Figs/GLS_output_graphic_window.png to _build/html/\n",
      "copying  tmp_2510.00299/./Figs/massrad.png to _build/html/\n",
      "copying  tmp_2510.00299/./Figs/teqvesc.png to _build/html/\n",
      "exported in  _build/html/2510.00299.md\n",
      "    + _build/html/tmp_2510.00299/./Figs/GLS_activity_period_v3.png\n",
      "    + _build/html/tmp_2510.00299/./Figs/GLS_output_graphic_window.png\n",
      "    + _build/html/tmp_2510.00299/./Figs/massrad.png\n",
      "    + _build/html/tmp_2510.00299/./Figs/teqvesc.png\n",
      "found figures ['tmp_2510.00330/./CMD_rv_pm_samplev5.png', 'tmp_2510.00330/./fitting_examplev2.png', 'tmp_2510.00330/./ew_2d_distribution.png']\n",
      "copying  tmp_2510.00330/./CMD_rv_pm_samplev5.png to _build/html/\n",
      "copying  tmp_2510.00330/./fitting_examplev2.png to _build/html/\n",
      "copying  tmp_2510.00330/./ew_2d_distribution.png to _build/html/\n",
      "exported in  _build/html/2510.00330.md\n",
      "    + _build/html/tmp_2510.00330/./CMD_rv_pm_samplev5.png\n",
      "    + _build/html/tmp_2510.00330/./fitting_examplev2.png\n",
      "    + _build/html/tmp_2510.00330/./ew_2d_distribution.png\n",
      "found figures ['tmp_2510.00945/./figures/depths_and_model_mags.png', 'tmp_2510.00945/./figures/381772_no_euclid.png', 'tmp_2510.00945/./figures/381772_with_euclid.png', 'tmp_2510.00945/./figures/z_Muv_sample_marg.png', 'tmp_2510.00945/./figures/z_Muv_sample_with_euclid_marg.png']\n",
      "copying  tmp_2510.00945/./figures/depths_and_model_mags.png to _build/html/\n",
      "copying  tmp_2510.00945/./figures/381772_no_euclid.png to _build/html/\n",
      "copying  tmp_2510.00945/./figures/381772_with_euclid.png to _build/html/\n",
      "copying  tmp_2510.00945/./figures/z_Muv_sample_marg.png to _build/html/\n",
      "copying  tmp_2510.00945/./figures/z_Muv_sample_with_euclid_marg.png to _build/html/\n",
      "exported in  _build/html/2510.00945.md\n",
      "    + _build/html/tmp_2510.00945/./figures/depths_and_model_mags.png\n",
      "    + _build/html/tmp_2510.00945/./figures/381772_no_euclid.png\n",
      "    + _build/html/tmp_2510.00945/./figures/381772_with_euclid.png\n",
      "    + _build/html/tmp_2510.00945/./figures/z_Muv_sample_marg.png\n",
      "    + _build/html/tmp_2510.00945/./figures/z_Muv_sample_with_euclid_marg.png\n"
     ]
    }
   ],
   "source": [
    "for paper_id, md in documents:\n",
    "    export_markdown_summary(md, f\"{paper_id:s}.md\", '_build/html/')"
   ]
  },
  {
   "cell_type": "markdown",
   "id": "f087a0a7",
   "metadata": {
    "papermill": {
     "duration": 0.006079,
     "end_time": "2025-10-02T04:16:44.917197",
     "exception": false,
     "start_time": "2025-10-02T04:16:44.911118",
     "status": "completed"
    },
    "tags": []
   },
   "source": [
    "## Display the papers\n",
    "\n",
    "Not necessary but allows for a quick check."
   ]
  },
  {
   "cell_type": "code",
   "execution_count": 9,
   "id": "fd25f625",
   "metadata": {
    "execution": {
     "iopub.execute_input": "2025-10-02T04:16:44.930659Z",
     "iopub.status.busy": "2025-10-02T04:16:44.930311Z",
     "iopub.status.idle": "2025-10-02T04:16:44.941217Z",
     "shell.execute_reply": "2025-10-02T04:16:44.940631Z"
    },
    "papermill": {
     "duration": 0.019005,
     "end_time": "2025-10-02T04:16:44.942245",
     "exception": false,
     "start_time": "2025-10-02T04:16:44.923240",
     "status": "completed"
    },
    "scrolled": false,
    "tags": []
   },
   "outputs": [
    {
     "data": {
      "text/markdown": [
       "<div class=\"macros\" style=\"visibility:hidden;\">\n",
       "$\\newcommand{\\ensuremath}{}$\n",
       "$\\newcommand{\\xspace}{}$\n",
       "$\\newcommand{\\object}[1]{\\texttt{#1}}$\n",
       "$\\newcommand{\\farcs}{{.}''}$\n",
       "$\\newcommand{\\farcm}{{.}'}$\n",
       "$\\newcommand{\\arcsec}{''}$\n",
       "$\\newcommand{\\arcmin}{'}$\n",
       "$\\newcommand{\\ion}[2]{#1#2}$\n",
       "$\\newcommand{\\textsc}[1]{\\textrm{#1}}$\n",
       "$\\newcommand{\\hl}[1]{\\textrm{#1}}$\n",
       "$\\newcommand{\\footnote}[1]{}$\n",
       "$\\newcommand{\\vdag}{(v)^\\dagger}$\n",
       "$\\newcommand$\n",
       "$\\newcommand$\n",
       "$\\newcommand{\\red}{\\color{red}}$</div>\n",
       "\n",
       "\n",
       "\n",
       "<div id=\"title\">\n",
       "\n",
       "# A Cold and Super-Puffy Planet on a Polar Orbit\n",
       "\n",
       "</div>\n",
       "<div id=\"comments\">\n",
       "\n",
       "[![arXiv](https://img.shields.io/badge/arXiv-2510.00102-b31b1b.svg)](https://arxiv.org/abs/2510.00102)<mark>Appeared on: 2025-10-02</mark> -  _16 pages, 4 figures, submitted to AAS journals_\n",
       "\n",
       "</div>\n",
       "<div id=\"authors\">\n",
       "\n",
       "J. I. Espinoza-Retamal, et al. -- incl., <mark>T. Henning</mark>, <mark>J. Eberhardt</mark>\n",
       "\n",
       "</div>\n",
       "<div id=\"abstract\">\n",
       "\n",
       "**Abstract:** We report the discovery of TOI-4507 b, a transiting sub-Saturn with a density $<$ 0.3 g/cm $^3$ on a 105-day polar orbit around a 700 Myr old F star. The transits were detected using datafrom TESS as well as the Antarctic telescope ASTEP. A joint analysis of the light curves and radial velocities from HARPS, FEROS, and CORALIE confirmed the planetary nature of the signal by limitingthe mass to be below $30 M_\\oplus$ at 95 \\% confidence. The radial velocities alsoexhibit the Rossiter-McLaughlin effectand imply that the star's equatorial planeis tiltedby $82.0_{-2.4}^{+2.6}$ deg with respect to the planet'sorbital plane. With these characteristics, TOI-4507 bis one of longest-period planets forwhich the stellar obliquity has been measured,and is among the longest-period and youngest \"super-puff\" planetsyet discovered.\n",
       "\n",
       "</div>\n",
       "\n",
       "<div id=\"div_fig1\">\n",
       "\n",
       "<img src=\"tmp_2510.00102/./TOI-4507_RV.png\" alt=\"Fig2.1\" width=\"50%\"/><img src=\"tmp_2510.00102/./TOI-4507_LC.png\" alt=\"Fig2.2\" width=\"50%\"/>\n",
       "\n",
       "**Figure 2. -** Different observations of TOI-4507 along with the best model. All error bars include a white noise jitter term applied in quadrature to the RV and photometric data points. a) ESPRESSO observations of the RM effect. We show the best model as the red line, and the $1\\sigma$, $2\\sigma$, and $3\\sigma$ models as the shaded areas. b) Phase-folded out-of-transit RVs along with the best model. c) RVs as a function of time showing the long-term trend detected at $5\\sigma$. d-g) Different light curves along with the best model. Binned data are shown as solid black points.\n",
       "    The data used to create this figure are available as the data behind the figure.  (*fig:TOI-4507*)\n",
       "\n",
       "</div>\n",
       "<div id=\"div_fig2\">\n",
       "\n",
       "<img src=\"tmp_2510.00102/./SOAR.png\" alt=\"Fig1\" width=\"100%\"/>\n",
       "\n",
       "**Figure 1. -** High-resolution imaging observations of TOI-4507 taken with the 4.1 m SOAR telescope. We show the $5\\sigma$ detection sensitivity and speckle autocorrelation functions. No companions to TOI-4507 within $3^{\\prime\\prime}$ are found in these observations. (*fig:soar*)\n",
       "\n",
       "</div>\n",
       "<div id=\"div_fig3\">\n",
       "\n",
       "<img src=\"tmp_2510.00102/./Prot.png\" alt=\"Fig3\" width=\"100%\"/>\n",
       "\n",
       "**Figure 3. -** a) Lomb-Scargle periodogram of the 2-min cadence TESS light curve of TOI-4507. A false alarm probability (FAP) level of 1\\% is marked with a red dashed line. The black dashed line marks the highest-power peak, indicating the most likely stellar rotation period of 1.7 days. Aliases of this period are also shown as faint black dashed lines. b) TESS light curve phased to the rotational period of 1.7 days. All the work done here made use of the 2-min cadence light curve, but for illustrative purposes only, the 30-min cadence TESS light curve is shown here in blue, with binned data in red.\n",
       "    The amplitude of the seen variability is $\\sim500$ ppm. (*fig:Prot*)\n",
       "\n",
       "</div><div id=\"qrcode\"><img src=https://api.qrserver.com/v1/create-qr-code/?size=100x100&data=\"https://arxiv.org/abs/2510.00102\"></div>"
      ],
      "text/plain": [
       "<IPython.core.display.Markdown object>"
      ]
     },
     "metadata": {},
     "output_type": "display_data"
    },
    {
     "data": {
      "text/markdown": [
       "<div class=\"macros\" style=\"visibility:hidden;\">\n",
       "$\\newcommand{\\ensuremath}{}$\n",
       "$\\newcommand{\\xspace}{}$\n",
       "$\\newcommand{\\object}[1]{\\texttt{#1}}$\n",
       "$\\newcommand{\\farcs}{{.}''}$\n",
       "$\\newcommand{\\farcm}{{.}'}$\n",
       "$\\newcommand{\\arcsec}{''}$\n",
       "$\\newcommand{\\arcmin}{'}$\n",
       "$\\newcommand{\\ion}[2]{#1#2}$\n",
       "$\\newcommand{\\textsc}[1]{\\textrm{#1}}$\n",
       "$\\newcommand{\\hl}[1]{\\textrm{#1}}$\n",
       "$\\newcommand{\\footnote}[1]{}$\n",
       "$\\newcommand{\\lya}{{\\text{Ly}\\ensuremath{\\alpha}}}$\n",
       "$\\newcommand{\\Halpha}{{\\text{H}\\ensuremath{\\alpha}}}$\n",
       "$\\newcommand{\\Hbeta}{{\\text{H}\\ensuremath{\\beta}}}$\n",
       "$\\newcommand{\\Hgamma}{{\\text{H}\\ensuremath{\\gamma}}}$\n",
       "$\\newcommand{\\oiii}{{\\text{[\\ion{O}{iii}]}}}$\n",
       "$\\newcommand{\\niv}{{\\text{\\ion{N}{iv}]}}}$\n",
       "$\\newcommand{\\feii}{{\\text{\\ion{Fe}{ii}}}}$\n",
       "$\\newcommand{\\fesclya}{\\ensuremath{f_{\\rm esc}(\\lya )}}$\n",
       "$\\newcommand{\\fesclyc}{\\ensuremath{f_{\\rm esc}(\\rm LyC)}}$\n",
       "$\\newcommand{\\fcov}{\\ensuremath{f_{\\rm cov}}}$\n",
       "$\\newcommand{\\jwst}{{JWST}}$\n",
       "$\\newcommand{\\nircam}{NIRCam}$\n",
       "$\\newcommand{\\muse}{MUSE}$\n",
       "$\\newcommand{\\flambdaunits}{\\ensuremath{\\rm erg s^{-1} cm^{-2} {Å }^{-1}}}$\n",
       "$\\newcommand{\\contblue}{{\\it cont. blue}}$\n",
       "$\\newcommand{\\contred}{{\\it cont. red}}$\n",
       "$\\newcommand{\\Hden}{\\ensuremath{n_{\\rm H}}}$\n",
       "$\\newcommand{\\NH}{\\ensuremath{N_{\\rm H}}}$\n",
       "$\\newcommand{\\NHI}{\\ensuremath{N_{\\rm \\ion{H}{i}}}}$\n",
       "$\\newcommand{\\eden}{\\ensuremath{n_{\\rm e}}}$\n",
       "$\\newcommand{\\Ne}{\\ensuremath{N_{\\rm e}}}$\n",
       "$\\newcommand{\\Te}{\\ensuremath{T_{\\rm e}}}$\n",
       "$\\newcommand{\\logten}{\\ensuremath{\\log_{10}}}$\n",
       "$\\newcommand{\\vturb}{\\ensuremath{v_{\\rm turb}}}$\n",
       "$\\newcommand{\\logU}{\\ensuremath{\\logten U}}$\n",
       "$\\newcommand{\\attnote}[1]{{\\color{mycolor}[AT: #1]}}$</div>\n",
       "\n",
       "\n",
       "\n",
       "<div id=\"title\">\n",
       "\n",
       "# The warm outer layer of a Little Red Dot as the source of [$\\feii$ ] and collisional Balmer lines with scattering wings\n",
       "\n",
       "</div>\n",
       "<div id=\"comments\">\n",
       "\n",
       "[![arXiv](https://img.shields.io/badge/arXiv-2510.00103-b31b1b.svg)](https://arxiv.org/abs/2510.00103)<mark>Appeared on: 2025-10-02</mark> -  _18 pages incl. references. Main figure: 4 ([Fe II] model). To be submitted to A&A. Comments welcome_\n",
       "\n",
       "</div>\n",
       "<div id=\"authors\">\n",
       "\n",
       "A. Torralba, et al. -- incl., <mark>A. d. Graaff</mark>\n",
       "\n",
       "</div>\n",
       "<div id=\"abstract\">\n",
       "\n",
       "**Abstract:** The population of the Little Red Dots (LRDs) may represent a key phase of supermassive black hole (SMBH) growth. A cocoon of dense excited gas is emerging as key component to explain the most striking properties of LRDs, such as strong Balmer breaks and Balmer absorption, as well as the weak IR emission. To dissect the structure of LRDs, we analyze new deep JWST/NIRSpec PRISM and G395H spectra of FRESCO-GN-9771, one of the most luminous known LRDs at $z=5.5$ . These reveal a strong Balmer break, broad Balmer lines and very narrow [ O ${\\sc iii}$ ] emission. We unveil a forest of optical [ Fe ${\\sc ii}$ ] lines, which we argue is emerging from a dense ( $n_{\\rm H}=10^{9-10}$ cm $^{-3}$ ) warm layer with electron temperature $T_{\\rm e}\\approx7000$ K. The broad wings of H $\\alpha$ and H $\\beta$ have an exponential profile due to electron scattering in this same layer. The high $\\rm H\\alpha:H\\beta:H\\gamma$ flux ratio of $\\approx10.4:1:0.14$ is an indicator of collisional excitation and resonant scattering dominating the Balmer line emission. A narrow H $\\gamma$ component, unseen in the other two Balmer lines due to outshining by the broad components, could trace the ISM of a normal host galaxy with a star formation rate $\\sim5$ M $_{\\odot}$ yr $^{-1}$ . The warm layer is mostly opaque to Balmer transitions, producing a characteristic P-Cygni profile in the line centers suggesting outflowing motions. This same layer is responsible for shaping the Balmer break. The broad-band spectrum can be reasonably matched by a simple photoionized slab model that dominates the $\\lambda>1500$ ${Å}$ continuum and a low mass ( $\\sim10^8$ M $_{\\odot}$ ) galaxy that could explain the narrow [ O ${\\sc iii}$ ] , with only subdominant contribution to the UV continuum. Our findings indicate that Balmer lines are not directly tracing gas kinematics near the SMBH and that the BH mass scale is likely much lower than virial indicators suggest.\n",
       "\n",
       "</div>\n",
       "\n",
       "<div id=\"div_fig1\">\n",
       "\n",
       "<img src=\"tmp_2510.00103/./figures/GN-9771_Ha_multiplicative_fit.png\" alt=\"Fig1\" width=\"100%\"/>\n",
       "\n",
       "**Figure 1. -** ** Triangular P-Cygni H$\\pmb\\alpha$ spectrum of GN-9771.** The continuum-subtracted H$\\alpha$ spectrum based on the G395H data is shown in black, whereas the red line shows the best-fit combined model. Residuals to the model are shown in the middle panel.\n",
       "    The fiducial fitting model is described in Sect. \\ref{sec:balmer_O3}.\n",
       "    We indicate the masked regions based on the locations of possible narrow [$\\feii$] emission in [Véron-Cetty, Joly and Véron (2004)]()(teal) and $\\ion${He}{i}$\\lambda$6680 (purple). The [$\\ion${N}{ii}] component is not shown due to its relative flux being negligible. The bottom panel shows the $\\Halpha$  spectrum and best-fit after subtracting the exponential component to highlight the P-Cygni profile. (*fig:Ha_line_fit*)\n",
       "\n",
       "</div>\n",
       "<div id=\"div_fig2\">\n",
       "\n",
       "<img src=\"tmp_2510.00103/./figures/BHS_line_emissivity_n10.png\" alt=\"Fig8\" width=\"100%\"/>\n",
       "\n",
       "**Figure 8. -** ** Where do lines originate from?** The intrinsic emissivity of selected emission lines in the photoionized Cloudy model, for $\\Hden = 10^{10}$ \\unit{cm^{-3}}, and $\\NH = 10^{25}$ \\unit{cm^{-2}}. Emissivities are expressed in arbitrary units of energy per unit time per unit volume. The ionization parameter is $\\logU = -3$. The Hydrogen Balmer and Helium lines are intrinsically strong in the inner layers due to recombination emission, although the opacity of $\\Halpha$  and $\\Hbeta$  is high leading to scattering effects. [$\\feii$] is mostly emitted in a warm layer with $\\Te=6000$--7500 K, which is shielded from the far-UV ionizing radiation. (*fig:BHS_line_emissivities*)\n",
       "\n",
       "</div>\n",
       "<div id=\"div_fig3\">\n",
       "\n",
       "<img src=\"tmp_2510.00103/./figures/GN-9771_Hb_multiplicative_fit.png\" alt=\"Fig2\" width=\"100%\"/>\n",
       "\n",
       "**Figure 2. -** {** The H$\\pmb\\beta$  spectrum of GN-9771**. A similar model set-up was used as for H$\\alpha$ described in Fig. \\ref{fig:Ha_line_fit}}. Teal regions highlight that are masked due to possible $\\feii$  emission. The orange region indicates the masked $\\oiii$  wavelengths. The bottom panel shows the $\\Hbeta$  spectrum and best fit (red) after subtracting the exponential component to highlight the P-Cygni profile. Figure \\ref{fig:Hb_fit_fixed_exp} shows a version of the same fit with the exponential scale fixed to that fitted for $\\Halpha$ . (*fig:Hb_line_fit*)\n",
       "\n",
       "</div><div id=\"qrcode\"><img src=https://api.qrserver.com/v1/create-qr-code/?size=100x100&data=\"https://arxiv.org/abs/2510.00103\"></div>"
      ],
      "text/plain": [
       "<IPython.core.display.Markdown object>"
      ]
     },
     "metadata": {},
     "output_type": "display_data"
    },
    {
     "data": {
      "text/markdown": [
       "<div class=\"macros\" style=\"visibility:hidden;\">\n",
       "$\\newcommand{\\ensuremath}{}$\n",
       "$\\newcommand{\\xspace}{}$\n",
       "$\\newcommand{\\object}[1]{\\texttt{#1}}$\n",
       "$\\newcommand{\\farcs}{{.}''}$\n",
       "$\\newcommand{\\farcm}{{.}'}$\n",
       "$\\newcommand{\\arcsec}{''}$\n",
       "$\\newcommand{\\arcmin}{'}$\n",
       "$\\newcommand{\\ion}[2]{#1#2}$\n",
       "$\\newcommand{\\textsc}[1]{\\textrm{#1}}$\n",
       "$\\newcommand{\\hl}[1]{\\textrm{#1}}$\n",
       "$\\newcommand{\\footnote}[1]{}$\n",
       "$\\newcommand{\\arraystretch}{1.2}$\n",
       "$\\newcommand{\\arraystretch}{1.}$\n",
       "$\\newcommand{\\arraystretch}{1.3}$\n",
       "$\\newcommand{\\arraystretch}{1.}$\n",
       "$\\newcommand{\\arraystretch}{1.2}$\n",
       "$\\newcommand{\\arraystretch}{1.}$\n",
       "$\\newcommand{\\arraystretch}{1.3}$\n",
       "$\\newcommand{\\arraystretch}{1.}$\n",
       "$\\newcommand{\\arraystretch}{1.3}$\n",
       "$\\newcommand{\\arraystretch}{1.}$\n",
       "$\\newcommand\\natexlab{#1}$</div>\n",
       "\n",
       "\n",
       "\n",
       "<div id=\"title\">\n",
       "\n",
       "# A planetary system with a sub-Neptune planet \\ in the habitable zone of TOI-2093\n",
       "\n",
       "</div>\n",
       "<div id=\"comments\">\n",
       "\n",
       "[![arXiv](https://img.shields.io/badge/arXiv-2510.00299-b31b1b.svg)](https://arxiv.org/abs/2510.00299)<mark>Appeared on: 2025-10-02</mark> -  _Accepted by A&A. 12 pages, 7 figures, 5 tables in the main body (20 pages, 19 figures, 9 tables including appendices)_\n",
       "\n",
       "</div>\n",
       "<div id=\"authors\">\n",
       "\n",
       "J. Sanz-Forcada, et al. -- incl., <mark>T. Henning</mark>\n",
       "\n",
       "</div>\n",
       "<div id=\"abstract\">\n",
       "\n",
       "**Abstract:**            Aims. We aim to confirm and measure the mass of the transiting planet candidate around the K5V star TOI-2093, previously announced by the Transiting Exoplanet Survey Satellite (TESS) project. Methods. We combined photometric data from 32 sectors between 2019 and 2024 with 86 radial velocity measurements obtained with the CARMENES spectrograph over a period of 2.4 years, along with a series of ground-based, broadband photometric monitoring campaigns to characterize the host star and the transiting planet candidate, as well as to search for additional planets in the system. Our data indicate that TOI-2093 is a main-sequence star located at a distance of 83 pc, with solar metallicity, and a rotation period of 43.8 +- 1.8 d. Results. We have confirmed the planetary nature of the TESS transiting planet candidate, named TOI-2093 c, through the detection of its Keplerian signal in the spectroscopic data. We measured a planetary radius of 2.30 +- 0.12 Rearth, a Neptune-like mass of 15.8 +- 3.7 Mearth, and an orbital period of 53.81149 +- 0.00017 d. This makes TOI-2093 c the smallest exoplanet known in the habitable zone of a main-sequence FGK star. Given its size and relatively high density, TOI-2093 c belongs to a class of planets with no analog in the Solar System. In addition, the CARMENES data revealed the presence of a second planet candidate with a minimum mass of 10.6 +- 2.5 Mearth and an orbital period of 12.836 +- 0.021 d. This inner planet, which we designated TOI-2093 b, shows no detectable photometric transit in the TESS light curves. The orbital planes of the two planets are misaligned by more than 1.6 deg despite the near 4:1 mean-motion resonance of their orbital periods.         \n",
       "\n",
       "</div>\n",
       "\n",
       "<div id=\"div_fig1\">\n",
       "\n",
       "<img src=\"tmp_2510.00299/./Figs/GLS_activity_period_v3.png\" alt=\"Fig1\" width=\"100%\"/>\n",
       "\n",
       "**Figure 1. -** GLS periodograms of all photometric and spectroscopic data. Vertical dashed lines mark planetary orbital periods (transiting planet on a cyan band), and vertical green bands indicate stellar activity timescales (see text). Horizontal dashed lines show FAP levels (0.1 \\% in green, 1 \\% in orange, and 10 \\% in blue) across all panels. (*fig:glsgeneral*)\n",
       "\n",
       "</div>\n",
       "<div id=\"div_fig2\">\n",
       "\n",
       "<img src=\"tmp_2510.00299/./Figs/GLS_output_graphic_window.png\" alt=\"Fig8\" width=\"100%\"/>\n",
       "\n",
       "**Figure 8. -** Window function of TOI-2093 CARMENES VIS RV data. (*fig:window_carmenes_vis*)\n",
       "\n",
       "</div>\n",
       "<div id=\"div_fig3\">\n",
       "\n",
       "<img src=\"tmp_2510.00299/./Figs/massrad.png\" alt=\"Fig14.1\" width=\"50%\"/><img src=\"tmp_2510.00299/./Figs/teqvesc.png\" alt=\"Fig14.2\" width=\"50%\"/>\n",
       "\n",
       "**Figure 14. -** TOI 2093 c in the context of exoplanets with known mass and radius with errors smaller than 12\\%. * Left panel:* Planetary mass and radius, with theoretical models from \\citet{zen16}(see Sect. \\ref{sec:TOI-2093 planetary system}). * Right panel:* Escape velocity against equilibrium temperature (planetary data from the NASA exoplanets database).\n",
       " TOI 2093 b is included assuming $i_{\\rm b} \\gtrsim 50◦$,\n",
       "      with the planet radius calculated for a bulk density between 0.5 and 10 g cm$^{-3}$, with errors shown as a red band. (*fig:diagramaMR*)\n",
       "\n",
       "</div><div id=\"qrcode\"><img src=https://api.qrserver.com/v1/create-qr-code/?size=100x100&data=\"https://arxiv.org/abs/2510.00299\"></div>"
      ],
      "text/plain": [
       "<IPython.core.display.Markdown object>"
      ]
     },
     "metadata": {},
     "output_type": "display_data"
    },
    {
     "data": {
      "text/markdown": [
       "<div class=\"macros\" style=\"visibility:hidden;\">\n",
       "$\\newcommand{\\ensuremath}{}$\n",
       "$\\newcommand{\\xspace}{}$\n",
       "$\\newcommand{\\object}[1]{\\texttt{#1}}$\n",
       "$\\newcommand{\\farcs}{{.}''}$\n",
       "$\\newcommand{\\farcm}{{.}'}$\n",
       "$\\newcommand{\\arcsec}{''}$\n",
       "$\\newcommand{\\arcmin}{'}$\n",
       "$\\newcommand{\\ion}[2]{#1#2}$\n",
       "$\\newcommand{\\textsc}[1]{\\textrm{#1}}$\n",
       "$\\newcommand{\\hl}[1]{\\textrm{#1}}$\n",
       "$\\newcommand{\\footnote}[1]{}$\n",
       "$\\newcommand{\\vdag}{(v)^\\dagger}$\n",
       "$\\newcommand$\n",
       "$\\newcommand$\n",
       "$\\newcommand{\\omc}{\\omega Cen}$\n",
       "$\\newcommand{\\ebv}{\\ensuremath{E(B-V)}}$\n",
       "$\\newcommand{\\nad}{\\ensuremath{\\mathrm{Na \\textsc{i} D}}}$\n",
       "$\\newcommand{\\nadtwo}{\\ensuremath{\\mathrm{Na \\textsc{i} D_2}}}$\n",
       "$\\newcommand{\\nadone}{\\ensuremath{\\mathrm{Na \\textsc{i} D_1}}}$\n",
       "$\\newcommand{\\snrnad}{\\rm{S/N_{\\ensuremath{\\mathrm{Na \\textsc{i} D}}}}}$\n",
       "$\\newcommand{\\ewismdtwo}{\\rm{EW}_{\\rm{D2, ISM}}}$\n",
       "$\\newcommand{\\ewismdone}{\\rm{EW}_{\\rm{D1, ISM}}}$\n",
       "$\\newcommand{\\ewicmdtwo}{\\rm{EW}_{\\rm{D2, ICM}}}$\n",
       "$\\newcommand{\\ewicmdone}{\\rm{EW}_{\\rm{D1, ICM}}}$\n",
       "$\\newcommand{\\ewicmdoneul}{\\rm{EW}_{\\rm{D1, ICM}}^{\\rm{upper}}}$\n",
       "$\\newcommand{\\vlos}{V_{\\rm LOS}}$\n",
       "$\\newcommand{\\teff}{\\ensuremath{T_{\\mathrm{eff}}}}$\n",
       "$\\newcommand{\\maspyr}{\\rm{mas}~\\rm{yr}^{-1}}$\n",
       "$\\newcommand{\\perpixel}{\\text{pix}^{-1}}$\n",
       "$\\newcommand{\\maxperyr}{\\rm{mas}~\\rm{yr}^{-1}}$\n",
       "$\\newcommand{\\angstrom}{\\mbox{\\normalfontÅ}}$\n",
       "$\\newcommand{\\kms}{\\rm{km~s^{-1}}}$</div>\n",
       "\n",
       "\n",
       "\n",
       "<div id=\"title\">\n",
       "\n",
       "# oMEGACat. VII. Tracing Interstellar and Intracluster Medium of $\\omega$ Centauri using Sodium Absorptions\n",
       "\n",
       "</div>\n",
       "<div id=\"comments\">\n",
       "\n",
       "[![arXiv](https://img.shields.io/badge/arXiv-2510.00330-b31b1b.svg)](https://arxiv.org/abs/2510.00330)<mark>Appeared on: 2025-10-02</mark> -  _23 pages, 11 figures, and 2 tables, accepted by ApJ. Machine-readable data is available in the online article_\n",
       "\n",
       "</div>\n",
       "<div id=\"authors\">\n",
       "\n",
       "Z. Wang (王梓先), et al. -- incl., <mark>M. Häberle</mark>, <mark>N. Neumayer</mark>, <mark>C. Clontz</mark>\n",
       "\n",
       "</div>\n",
       "<div id=\"abstract\">\n",
       "\n",
       "**Abstract:** We investigate the foreground interstellar medium along the line of sight and intracluster medium of $\\omega$ Centauri ( $\\omc$ ) by measuring the equivalent width of $\\nad$ absorptions from MUSE observations.The large line-of-sight velocity difference between $\\omc$ and the foreground enables us to separate $\\nad$ absorption contributed from atomic gas in the interstellar and intracluster medium.We find that small-scale substructures in the foreground $\\nad$ distribution correlate with differential reddening derived from photometric methods.Using an empirical $\\nad$ equivalent width-reddening relation, we determine an average reddening of $E(B-V)=0.153\\pm0.003$ mag within the half-light radius of $\\omc$ .However, the $\\nad$ -inferred differential reddening is significantly larger than photometric estimates. This is likely due to scatter in the $\\nad$ -reddening relation.We find no evidence for intracluster atomic gas from spectra of horizontal branch stars, as there is no significant $\\nad$ absorption at $\\omc$ 's systemic velocity.Given this non-detection, we place the strongest upper limit to date on the intracluster atomic gas column density in $\\omc$ of $\\lesssim2.17 \\times 10^{18} \\rm{cm^{-2}}$ .We also estimate the ionized gas density from pulsar dispersion measure variations, which exceed the atomic gas limit by $\\sim$ 50 times.Nevertheless, the strong correlation between dispersion measure and foreground $\\nad$ suggests that much or all of this ionized gas resides in the foreground.Given ongoing mass loss from bright giant stars, our findings imply that the intracluster gas accumulation timescale is short, and gas removal in the cluster is likely not tied to stripping as $\\omc$ passes through the Galactic disk.\n",
       "\n",
       "</div>\n",
       "\n",
       "<div id=\"div_fig1\">\n",
       "\n",
       "<img src=\"tmp_2510.00330/./CMD_rv_pm_samplev5.png\" alt=\"Fig8\" width=\"100%\"/>\n",
       "\n",
       "**Figure 8. -** \n",
       "Data sample used in this study.\n",
       "**Panel (a):** CMD of the data sample in Section \\ref{subsec:data-muse-hst} using \\citetalias{2010ApJ...710.1032A} photometry.\n",
       "The blue region defines the selection of warm HB stars.\n",
       "The black dotted line shows the ZAHB track from the BaSTI model (see Section \\ref{subsubsec:data-target-selection-hb} for details).\n",
       "**Panel (b):**$\\vlos$  distribution of the warm HB stars and all other stars. The gray histogram indicates stars excluded based on the selection criteria for the two samples.\n",
       "**Panel (c):** Proper motion distribution of the same samples, with colors corresponding to panel (b).\n",
       "**Panel (d):** Re-estimated S/N distribution in the $\\nad$  region.\n",
       "**Panel (e) and (f):** Example MUSE spectra (black line) of warm HB and all other stars, with the S/N and $\\vlos$  indicated in the top left corner.\n",
       "The green lines show the residuals between the observed spectra and the best-fit SPEXXY model from \\citetalias{2023ApJ...958....8N}.\n",
       "Vertical lines are the positions of the $\\nad$  absorptions from foreground (solid, located at 0 $\\kms$) and intracluster (dashed, at 232.7 $\\kms$) atomic gas of $\\omc$ .\n",
       "An additional contribution from the stellar photosphere, seen as the right-most absorption feature, is present in panel (f).\n",
       " (*fig:samplefig*)\n",
       "\n",
       "</div>\n",
       "<div id=\"div_fig2\">\n",
       "\n",
       "<img src=\"tmp_2510.00330/./fitting_examplev2.png\" alt=\"Fig2\" width=\"100%\"/>\n",
       "\n",
       "**Figure 2. -** \n",
       "    Demonstration of spectral fitting to measure the EWs of $\\nad$ , as described in Section \\ref{subsec:methods-ew}.\n",
       "    The top panel shows an example spectrum of a warm HB star, while the bottom panel shows a Voronoi-binned residual spectrum from all other stars.\n",
       "    The equivalent widths (EWs) of the $\\nad$  lines, in units of Å , are labeled in each panel.\n",
       "    The red-shaded region indicates the wavelength range used for fitting.\n",
       "    The gray-shaded regions are used to estimate the continuum ($f_{c}$) in Eq. \\ref{eqn:nad-fit}.\n",
       "    Fitting residuals are shown in green as a separate sub-panel.\n",
       "    The warm HB spectrum is expected to have minimal photospheric contribution to $\\nad$  and thus we name them as \"ISM\" and \"ICM\".\n",
       "    For all other stars that are mostly cooler, contamination from the stellar photosphere could remain in the SPEXXY residuals.\n",
       "    Therefore, we label the absorptions at $\\omc$  systemic velocity as \"others\".\n",
       "    Note that the D2 line is at a shorter wavelength than the D1 line for both the ISM and ICM/others components.\n",
       "     (*fig:fitting-example*)\n",
       "\n",
       "</div>\n",
       "<div id=\"div_fig3\">\n",
       "\n",
       "<img src=\"tmp_2510.00330/./ew_2d_distribution.png\" alt=\"Fig9\" width=\"100%\"/>\n",
       "\n",
       "**Figure 9. -** \n",
       "    Spatial distribution of $\\ewismdtwo$  from the foreground Na atomic gas.\n",
       "    The left panel shows individual measurements from the original spectra of warm HB stars.\n",
       "    The right panel shows measurements from Voronoi-binned SPEXXY residual spectra \\citepalias{2023ApJ...958....8N} of all other stars.\n",
       "    The number of stars used for each panel is noted in the subtitles.\n",
       "    The x- and y-axes indicate coordinates in $(\\alpha, \\delta)$ relative to the center of $\\omc$ .\n",
       "    The two blank regions near the center of $\\omc$  are due to the lack of non-AO observations.\n",
       "    Both warm HB and all other stars demonstrate clear spatial substructures of foreground Na atomic gas, and they are consistent with the differential reddening distribution from previous studies (see Section \\ref{subsec:discuss-comparison} for detailed discussion).\n",
       "    The individual warm HB $\\ewismdtwo$  measurements and the Voronoi-binned $\\ewismdtwo$  map with uncertainties are available as a machine-readable table (columns listed in Table. \\ref{tab:ewd2ism_table}) and a FITS image, respectively.\n",
       "     (*fig:ew-ism-distribution*)\n",
       "\n",
       "</div><div id=\"qrcode\"><img src=https://api.qrserver.com/v1/create-qr-code/?size=100x100&data=\"https://arxiv.org/abs/2510.00330\"></div>"
      ],
      "text/plain": [
       "<IPython.core.display.Markdown object>"
      ]
     },
     "metadata": {},
     "output_type": "display_data"
    },
    {
     "data": {
      "text/markdown": [
       "<div class=\"macros\" style=\"visibility:hidden;\">\n",
       "$\\newcommand{\\ensuremath}{}$\n",
       "$\\newcommand{\\xspace}{}$\n",
       "$\\newcommand{\\object}[1]{\\texttt{#1}}$\n",
       "$\\newcommand{\\farcs}{{.}''}$\n",
       "$\\newcommand{\\farcm}{{.}'}$\n",
       "$\\newcommand{\\arcsec}{''}$\n",
       "$\\newcommand{\\arcmin}{'}$\n",
       "$\\newcommand{\\ion}[2]{#1#2}$\n",
       "$\\newcommand{\\textsc}[1]{\\textrm{#1}}$\n",
       "$\\newcommand{\\hl}[1]{\\textrm{#1}}$\n",
       "$\\newcommand{\\footnote}[1]{}$\n",
       "$\\newcommand{\\Muv}{M_{\\rm{UV}}}$\n",
       "$\\newcommand{\\spitzer}{\\textit{Spitzer}/IRAC\\xspace}$\n",
       "$\\newcommand{\\zphot}{z_{\\rm{phot}}}$\n",
       "$\\newcommand{\\orcid}[1]$</div>\n",
       "\n",
       "\n",
       "\n",
       "<div id=\"title\">\n",
       "\n",
       "# $\\Euclid$: Discovery of bright $\\boldsymbol{z\\simeq7}$ Lyman-break galaxies in UltraVISTA and $\\Euclid$ COSMOS$\\thanks{This paper is published on       behalf of the Euclid Consortium}$\n",
       "\n",
       "</div>\n",
       "<div id=\"comments\">\n",
       "\n",
       "[![arXiv](https://img.shields.io/badge/arXiv-2510.00945-b31b1b.svg)](https://arxiv.org/abs/2510.00945)<mark>Appeared on: 2025-10-02</mark> -  _18 pages, 13 figures, 5 tables, additional figures in appendix. Submitted to A&A_\n",
       "\n",
       "</div>\n",
       "<div id=\"authors\">\n",
       "\n",
       "R. G. Varadaraj, et al. -- incl., <mark>E. Bañados</mark>, <mark>K. Jahnke</mark>\n",
       "\n",
       "</div>\n",
       "<div id=\"abstract\">\n",
       "\n",
       "**Abstract:** We present a search for $z\\simeq7$ Lyman-break galaxies using the $1.72   \\rm{deg}^2$ near-infrared UltraVISTA survey in the COSMOS field, reaching $5 \\sigma$ depths in $Y$ of 26.2.We incorporate deep optical and _Spitzer_ imaging for a full spectral energy distribution (SED) fitting analysis.We find 289 candidate galaxies at $6.5\\leq z \\leq 7.5$ covering $-22.6 \\leq \\Muv \\leq -20.2$ , faint enough to overlap with _Hubble_ Space Telescope studies.We conduct a separate selection by including complementary $\\Euclid$ performance verification imaging (reaching $5 \\sigma$ depths of $26.3$ ), yielding 140 galaxies in $0.65   \\rm{deg}^2$ , with 38 sources unique to this sample.We compute the rest-frame UV luminosity function (UV LF) from our samples, extending below the knee ( $M^*=-21.14^{+0.28}_{-0.25}$ ).We find that the shape of the UV LF is consistent with both a Schechter function and double-power law (DPL) at the magnitudes probed by this sample, with a DPL preferred at $\\Muv<-22.5$ when bright-end results are included.The UltraVISTA+ $\\Euclid$ sample provides a clean measurement of the LF due to the overlapping near-infrared filters identifying molecular absorption features in the SEDs of ultra-cool dwarf interlopers, and additional faint galaxies are recovered.A comparison with JWST LFs at $z>7$ suggests a gentle evolution in the bright-end slope, although this is limited by a lack of robust bright-end measurements at $z>9$ .We forecast that in the Euclid Deep Fields, the removal of contaminant ultra-cool dwarfs as point sources will be possible at $\\JE < 24.5$ .Finally, we present a high-equivalent-width Lyman- $\\alpha$ emitter candidate identified by combining HSC, VISTA, and $\\Euclid$ broadband photometry, highlighting the synergistic power these instruments will have in the Euclid Auxiliary Fields for identifying extreme sources in the Epoch of Reionisation.\n",
       "\n",
       "</div>\n",
       "\n",
       "<div id=\"div_fig1\">\n",
       "\n",
       "<img src=\"tmp_2510.00945/./figures/depths_and_model_mags.png\" alt=\"Fig12\" width=\"100%\"/>\n",
       "\n",
       "**Figure 12. -** Limiting magnitudes, or modal depths ($5 \\sigma$) of the photometric filters used in this work within the COSMOS field.\n",
       "    The line widths represent the FWHM of the filter transmission curves, and the depths are reported in Table \\ref{tab:Depths}.\n",
       "    The HSC and VISTA filters are shown in black and orange, respectively, and the four \\Euclid filters are labelled.\n",
       "    We also show example SEDs of a UCD and a LBG with the solid and dashed lines, respectively.\n",
       "    The model photometry for the UCD and the LBG are shown by the stars and circles respectively, and are colour-coded by their filters.\n",
       "    Note that the \\Euclid NIR filters cover the gaps between the VISTA filters. These wavelengths are inaccessible from the ground due to the atmospheric absorption. (*fig:filters*)\n",
       "\n",
       "</div>\n",
       "<div id=\"div_fig2\">\n",
       "\n",
       "<img src=\"tmp_2510.00945/./figures/381772_no_euclid.png\" alt=\"Fig13.1\" width=\"50%\"/><img src=\"tmp_2510.00945/./figures/381772_with_euclid.png\" alt=\"Fig13.2\" width=\"50%\"/>\n",
       "\n",
       "**Figure 13. -** \n",
       "    SED fitting of a candidate LBG, EUCL J100041.40$+$020157.5 (hereafter LBG 10004$+$02015), at $z=6.90$.\n",
       "    Additional candidates are presented in Appendix \\ref{sec: candidate seds and stamps}.\n",
       "    *Left*: the SED fitting without \\Euclid data, as part of the U-only selection (see Sect. \\ref{sec: candidate selection}).\n",
       "    *Right*: the SED fitting including \\Euclid data, as part of the U+E selection.\n",
       "    The HSC, VISTA and \\Euclid photometry are shown by the points, diamonds and squares, respectively.\n",
       "    The photometry is coloured following Fig. \\ref{fig:filters}.\n",
       "    Non-detections are replaced with $2 \\sigma$ upper limits.\n",
       "    We also show the filter widths for VISTA and \\Euclid at the top of the plot.\n",
       "    The $\\spitzer$ model photometry and upper limit in the $3.6 \\micron$ filter is also shown.\n",
       "    The blue curve shows the best high-redshift solution, and the grey open circles are its expected model photometry.\n",
       "    The orange curve shows the best dusty low-redshift solution, and the red curve shows the best UCD solution.\n",
       "    The legend in the top right shows the redshift and $\\chi^2$ of the galaxy solutions, and the $\\chi^2$ and spectral type of the UCD solution.\n",
       "    The inset panel shows the redshift probability distribution for this source.\n",
       "    The inclusion of \\Euclid data reinforces the exclusion the UCD solution.\n",
       "    Also note that the inclusion of \\Euclid data prefers a bluer slope. (*fig:UVISTA euclid SED*)\n",
       "\n",
       "</div>\n",
       "<div id=\"div_fig3\">\n",
       "\n",
       "<img src=\"tmp_2510.00945/./figures/z_Muv_sample_marg.png\" alt=\"Fig2.1\" width=\"50%\"/><img src=\"tmp_2510.00945/./figures/z_Muv_sample_with_euclid_marg.png\" alt=\"Fig2.2\" width=\"50%\"/>\n",
       "\n",
       "**Figure 2. -** The $z\\simeq7$ LBG sample from this work plotted in photometric redshift $z_{\\rm{phot}}$ and absolute rest-frame UV magnitude $\\Muv$ space.\n",
       "    *Top*: the U-only sample (blue).\n",
       "    *Bottom*: the U+E sample (red).\n",
       "    The red squares with a black outline indicate galaxies which are not recovered in the U-only sample, and are thus unique to the U+E sample.\n",
       "    In both panels, we also show the candidates from \\citetalias{Varadaraj23} in the XMM-LSS and ECDF-S fields, and the HST-selected candidates from \\citetalias{Bouwens21}.\n",
       "    The dashed grey lines show the 30\\%, 40\\%, and 50\\% completeness limits, as derived from the injection-recovery simulation (see Sect. \\ref{sec:completeness}).\n",
       "    We also show the marginalised distributions in $z_{\\rm{phot}}$ and $\\Muv$ as normalised histograms, and also overplot the distribution of the other sample as the thinner, fainter line for comparison. The mean uncertainties are shown on the bottom left. (*fig:z-Muv*)\n",
       "\n",
       "</div><div id=\"qrcode\"><img src=https://api.qrserver.com/v1/create-qr-code/?size=100x100&data=\"https://arxiv.org/abs/2510.00945\"></div>"
      ],
      "text/plain": [
       "<IPython.core.display.Markdown object>"
      ]
     },
     "metadata": {},
     "output_type": "display_data"
    }
   ],
   "source": [
    "[display(Markdown(k[1])) for k in documents];"
   ]
  },
  {
   "cell_type": "markdown",
   "id": "873873a4",
   "metadata": {
    "papermill": {
     "duration": 0.007282,
     "end_time": "2025-10-02T04:16:44.956852",
     "exception": false,
     "start_time": "2025-10-02T04:16:44.949570",
     "status": "completed"
    },
    "tags": []
   },
   "source": [
    "# Create HTML index"
   ]
  },
  {
   "cell_type": "code",
   "execution_count": 10,
   "id": "cf665672",
   "metadata": {
    "execution": {
     "iopub.execute_input": "2025-10-02T04:16:44.971922Z",
     "iopub.status.busy": "2025-10-02T04:16:44.971632Z",
     "iopub.status.idle": "2025-10-02T04:16:44.979117Z",
     "shell.execute_reply": "2025-10-02T04:16:44.978547Z"
    },
    "papermill": {
     "duration": 0.016371,
     "end_time": "2025-10-02T04:16:44.980194",
     "exception": false,
     "start_time": "2025-10-02T04:16:44.963823",
     "status": "completed"
    },
    "tags": []
   },
   "outputs": [
    {
     "name": "stdout",
     "output_type": "stream",
     "text": [
      "130  publications files modified in the last 7 days.\n"
     ]
    }
   ],
   "source": [
    "from datetime import datetime, timedelta, timezone\n",
    "from glob import glob\n",
    "import os\n",
    "\n",
    "files = glob('_build/html/*.md')\n",
    "days = 7\n",
    "now = datetime.today()\n",
    "res = []\n",
    "for fk in files:\n",
    "    stat_result = os.stat(fk).st_ctime\n",
    "    modified = datetime.fromtimestamp(stat_result, tz=timezone.utc).replace(tzinfo=None)\n",
    "    delta = now.today() - modified\n",
    "    if delta <= timedelta(days=days):\n",
    "        res.append((delta.seconds, fk))\n",
    "res = [k[1] for k in reversed(sorted(res, key=lambda x:x[1]))]\n",
    "npub = len(res)\n",
    "print(len(res), f\" publications files modified in the last {days:d} days.\")\n",
    "# [ print('\\t', k) for k in res ];"
   ]
  },
  {
   "cell_type": "code",
   "execution_count": 11,
   "id": "015de740",
   "metadata": {
    "execution": {
     "iopub.execute_input": "2025-10-02T04:16:44.995402Z",
     "iopub.status.busy": "2025-10-02T04:16:44.995114Z",
     "iopub.status.idle": "2025-10-02T04:16:45.007818Z",
     "shell.execute_reply": "2025-10-02T04:16:45.007211Z"
    },
    "papermill": {
     "duration": 0.021604,
     "end_time": "2025-10-02T04:16:45.008878",
     "exception": false,
     "start_time": "2025-10-02T04:16:44.987274",
     "status": "completed"
    },
    "tags": []
   },
   "outputs": [
    {
     "name": "stdout",
     "output_type": "stream",
     "text": [
      "18  publications in the last 7 days.\n"
     ]
    }
   ],
   "source": [
    "import datetime\n",
    "from glob import glob\n",
    "\n",
    "def get_last_n_days(lst, days=1):\n",
    "    \"\"\" Get the documents from the last n days \"\"\"\n",
    "    sorted_lst = sorted(lst, key=lambda x: x[1], reverse=True)\n",
    "    for fname, date in sorted_lst:\n",
    "        if date >= str(datetime.date.today() - datetime.timedelta(days=days)):\n",
    "            yield fname\n",
    "\n",
    "def extract_appearance_dates(lst_file):\n",
    "    dates = []\n",
    "\n",
    "    def get_date(line):\n",
    "        return line\\\n",
    "            .split('Appeared on:')[-1]\\\n",
    "            .split('</mark>')[0].strip()\n",
    "\n",
    "    for fname in lst:\n",
    "        with open(fname, 'r') as f:\n",
    "            found_date = False\n",
    "            for line in f:\n",
    "                if not found_date:\n",
    "                    if \"Appeared on\" in line:\n",
    "                        found_date = True\n",
    "                        dates.append((fname, get_date(line)))\n",
    "                else:\n",
    "                    break\n",
    "    return dates\n",
    "\n",
    "from glob import glob\n",
    "lst = glob('_build/html/*md')\n",
    "days = 7\n",
    "dates = extract_appearance_dates(lst)\n",
    "res = list(get_last_n_days(dates, days))\n",
    "npub = len(res)\n",
    "print(len(res), f\" publications in the last {days:d} days.\")"
   ]
  },
  {
   "cell_type": "code",
   "execution_count": 12,
   "id": "52ca0208",
   "metadata": {
    "execution": {
     "iopub.execute_input": "2025-10-02T04:16:45.024461Z",
     "iopub.status.busy": "2025-10-02T04:16:45.024166Z",
     "iopub.status.idle": "2025-10-02T04:16:45.029444Z",
     "shell.execute_reply": "2025-10-02T04:16:45.028868Z"
    },
    "papermill": {
     "duration": 0.014425,
     "end_time": "2025-10-02T04:16:45.030611",
     "exception": false,
     "start_time": "2025-10-02T04:16:45.016186",
     "status": "completed"
    },
    "scrolled": false,
    "tags": []
   },
   "outputs": [],
   "source": [
    "def create_carousel(npub=4):\n",
    "    \"\"\" Generate the HTML code for a carousel with `npub` slides \"\"\"\n",
    "    carousel = [\"\"\"  <div class=\"carousel\" \"\"\",\n",
    "                \"\"\"       data-flickity='{ \"autoPlay\": 10000, \"adaptiveHeight\": true, \"resize\": true, \"wrapAround\": true, \"pauseAutoPlayOnHover\": true, \"groupCells\": 1 }' id=\"asyncTypeset\">\"\"\"\n",
    "                ]\n",
    "    \n",
    "    item_str = \"\"\"    <div class=\"carousel-cell\"> <div id=\"slide{k}\" class=\"md_view\">Content {k}</div> </div>\"\"\"\n",
    "    for k in range(1, npub + 1):\n",
    "        carousel.append(item_str.format(k=k))\n",
    "    carousel.append(\"  </div>\")\n",
    "    return '\\n'.join(carousel)\n",
    "\n",
    "def create_grid(npub=4):\n",
    "    \"\"\" Generate the HTML code for a flat grid with `npub` slides \"\"\"\n",
    "    grid = [\"\"\"  <div class=\"grid\"> \"\"\",\n",
    "                ]\n",
    "    \n",
    "    item_str = \"\"\"    <div class=\"grid-item\"> <div id=\"slide{k}\" class=\"md_view\">Content {k}</div> </div>\"\"\"\n",
    "    for k in range(1, npub + 1):\n",
    "        grid.append(item_str.format(k=k))\n",
    "    grid.append(\"  </div>\")\n",
    "    return '\\n'.join(grid)"
   ]
  },
  {
   "cell_type": "code",
   "execution_count": 13,
   "id": "a6eac5b6",
   "metadata": {
    "execution": {
     "iopub.execute_input": "2025-10-02T04:16:45.046253Z",
     "iopub.status.busy": "2025-10-02T04:16:45.045947Z",
     "iopub.status.idle": "2025-10-02T04:16:45.051578Z",
     "shell.execute_reply": "2025-10-02T04:16:45.051005Z"
    },
    "papermill": {
     "duration": 0.014699,
     "end_time": "2025-10-02T04:16:45.052632",
     "exception": false,
     "start_time": "2025-10-02T04:16:45.037933",
     "status": "completed"
    },
    "scrolled": false,
    "tags": []
   },
   "outputs": [],
   "source": [
    "carousel = create_carousel(npub)\n",
    "docs = ', '.join(['\"{0:s}\"'.format(k.split('/')[-1]) for k in res])\n",
    "slides = ', '.join([f'\"slide{k}\"' for k in range(1, npub + 1)])\n",
    "\n",
    "with open(\"daily_template.html\", \"r\") as tpl:\n",
    "    page = tpl.read()\n",
    "    page = page.replace(\"{%-- carousel:s --%}\", carousel)\\\n",
    "               .replace(\"{%-- suptitle:s --%}\",  \"7-day archives\" )\\\n",
    "               .replace(\"{%-- docs:s --%}\", docs)\\\n",
    "               .replace(\"{%-- slides:s --%}\", slides)\n",
    "    \n",
    "with open(\"_build/html/index_7days.html\", 'w') as fout:\n",
    "    fout.write(page)"
   ]
  },
  {
   "cell_type": "code",
   "execution_count": 14,
   "id": "adc1a1ec",
   "metadata": {
    "execution": {
     "iopub.execute_input": "2025-10-02T04:16:45.068229Z",
     "iopub.status.busy": "2025-10-02T04:16:45.067936Z",
     "iopub.status.idle": "2025-10-02T04:16:45.074990Z",
     "shell.execute_reply": "2025-10-02T04:16:45.074380Z"
    },
    "papermill": {
     "duration": 0.016109,
     "end_time": "2025-10-02T04:16:45.076072",
     "exception": false,
     "start_time": "2025-10-02T04:16:45.059963",
     "status": "completed"
    },
    "tags": []
   },
   "outputs": [
    {
     "name": "stdout",
     "output_type": "stream",
     "text": [
      "10  publications in the last day.\n"
     ]
    }
   ],
   "source": [
    "# redo for today\n",
    "days = 1\n",
    "res = list(get_last_n_days(dates, days))\n",
    "npub = len(res)\n",
    "print(len(res), f\" publications in the last day.\")\n",
    "\n",
    "carousel = create_carousel(npub)\n",
    "docs = ', '.join(['\"{0:s}\"'.format(k.split('/')[-1]) for k in res])\n",
    "slides = ', '.join([f'\"slide{k}\"' for k in range(1, npub + 1)])\n",
    "\n",
    "with open(\"daily_template.html\", \"r\") as tpl:\n",
    "    page = tpl.read()\n",
    "    page = page.replace(\"{%-- carousel:s --%}\", carousel)\\\n",
    "               .replace(\"{%-- suptitle:s --%}\",  \"Daily\" )\\\n",
    "               .replace(\"{%-- docs:s --%}\", docs)\\\n",
    "               .replace(\"{%-- slides:s --%}\", slides)\n",
    "    \n",
    "# print(carousel, docs, slides)\n",
    "# print(page)\n",
    "with open(\"_build/html/index_daily.html\", 'w') as fout:\n",
    "    fout.write(page)"
   ]
  },
  {
   "cell_type": "code",
   "execution_count": 15,
   "id": "00eece82",
   "metadata": {
    "execution": {
     "iopub.execute_input": "2025-10-02T04:16:45.091545Z",
     "iopub.status.busy": "2025-10-02T04:16:45.091226Z",
     "iopub.status.idle": "2025-10-02T04:16:45.098506Z",
     "shell.execute_reply": "2025-10-02T04:16:45.097804Z"
    },
    "papermill": {
     "duration": 0.016262,
     "end_time": "2025-10-02T04:16:45.099649",
     "exception": false,
     "start_time": "2025-10-02T04:16:45.083387",
     "status": "completed"
    },
    "scrolled": false,
    "tags": []
   },
   "outputs": [
    {
     "name": "stdout",
     "output_type": "stream",
     "text": [
      "6  6 publications selected.\n"
     ]
    }
   ],
   "source": [
    "# Create the flat grid of the last N papers (fixed number regardless of dates)\n",
    "from itertools import islice \n",
    "\n",
    "npub = 6\n",
    "res = [k[0] for k in (islice(reversed(sorted(dates, key=lambda x: x[1])), 6))]\n",
    "print(len(res), f\" {npub} publications selected.\")\n",
    "\n",
    "grid = create_grid(npub)\n",
    "docs = ', '.join(['\"{0:s}\"'.format(k.split('/')[-1]) for k in res])\n",
    "slides = ', '.join([f'\"slide{k}\"' for k in range(1, npub + 1)])\n",
    "\n",
    "with open(\"grid_template.html\", \"r\") as tpl:\n",
    "    page = tpl.read()\n",
    "    page = page.replace(\"{%-- grid-content:s --%}\", grid)\\\n",
    "               .replace(\"{%-- suptitle:s --%}\",  f\"Last {npub:,d} papers\" )\\\n",
    "               .replace(\"{%-- docs:s --%}\", docs)\\\n",
    "               .replace(\"{%-- slides:s --%}\", slides)\n",
    "    \n",
    "# print(grid, docs, slides)\n",
    "# print(page)\n",
    "with open(\"_build/html/index_npub_grid.html\", 'w') as fout:\n",
    "    fout.write(page)"
   ]
  }
 ],
 "metadata": {
  "kernelspec": {
   "display_name": "Python 3 (ipykernel)",
   "language": "python",
   "name": "python3"
  },
  "language_info": {
   "codemirror_mode": {
    "name": "ipython",
    "version": 3
   },
   "file_extension": ".py",
   "mimetype": "text/x-python",
   "name": "python",
   "nbconvert_exporter": "python",
   "pygments_lexer": "ipython3",
   "version": "3.9.23"
  },
  "papermill": {
   "default_parameters": {},
   "duration": 225.013134,
   "end_time": "2025-10-02T04:16:45.423400",
   "environment_variables": {},
   "exception": null,
   "input_path": "MPIA daily digest.ipynb",
   "output_path": "log.ipynb",
   "parameters": {},
   "start_time": "2025-10-02T04:13:00.410266",
   "version": "2.6.0"
  },
  "vscode": {
   "interpreter": {
    "hash": "aee8b7b246df8f9039afb4144a1f6fd8d2ca17a180786b69acc140d282b71a49"
   }
  },
  "widgets": {
   "application/vnd.jupyter.widget-state+json": {
    "state": {
     "0e7c1e5729d84348908d2ba272b03c50": {
      "model_module": "@jupyter-widgets/controls",
      "model_module_version": "2.0.0",
      "model_name": "HTMLModel",
      "state": {
       "_dom_classes": [],
       "_model_module": "@jupyter-widgets/controls",
       "_model_module_version": "2.0.0",
       "_model_name": "HTMLModel",
       "_view_count": null,
       "_view_module": "@jupyter-widgets/controls",
       "_view_module_version": "2.0.0",
       "_view_name": "HTMLView",
       "description": "",
       "description_allow_html": false,
       "layout": "IPY_MODEL_bf7ddc34444441ef9951f28b6ecad682",
       "placeholder": "​",
       "style": "IPY_MODEL_66271860dbea4c4ea3c4845f4b1017d0",
       "tabbable": null,
       "tooltip": null,
       "value": "100%"
      }
     },
     "2baa3e5aa5c54469aa2294e771ae74f5": {
      "model_module": "@jupyter-widgets/base",
      "model_module_version": "2.0.0",
      "model_name": "LayoutModel",
      "state": {
       "_model_module": "@jupyter-widgets/base",
       "_model_module_version": "2.0.0",
       "_model_name": "LayoutModel",
       "_view_count": null,
       "_view_module": "@jupyter-widgets/base",
       "_view_module_version": "2.0.0",
       "_view_name": "LayoutView",
       "align_content": null,
       "align_items": null,
       "align_self": null,
       "border_bottom": null,
       "border_left": null,
       "border_right": null,
       "border_top": null,
       "bottom": null,
       "display": null,
       "flex": null,
       "flex_flow": null,
       "grid_area": null,
       "grid_auto_columns": null,
       "grid_auto_flow": null,
       "grid_auto_rows": null,
       "grid_column": null,
       "grid_gap": null,
       "grid_row": null,
       "grid_template_areas": null,
       "grid_template_columns": null,
       "grid_template_rows": null,
       "height": null,
       "justify_content": null,
       "justify_items": null,
       "left": null,
       "margin": null,
       "max_height": null,
       "max_width": null,
       "min_height": null,
       "min_width": null,
       "object_fit": null,
       "object_position": null,
       "order": null,
       "overflow": null,
       "padding": null,
       "right": null,
       "top": null,
       "visibility": null,
       "width": null
      }
     },
     "37a23535eab54771b17282ad2f888cba": {
      "model_module": "@jupyter-widgets/controls",
      "model_module_version": "2.0.0",
      "model_name": "HTMLStyleModel",
      "state": {
       "_model_module": "@jupyter-widgets/controls",
       "_model_module_version": "2.0.0",
       "_model_name": "HTMLStyleModel",
       "_view_count": null,
       "_view_module": "@jupyter-widgets/base",
       "_view_module_version": "2.0.0",
       "_view_name": "StyleView",
       "background": null,
       "description_width": "",
       "font_size": null,
       "text_color": null
      }
     },
     "4c9fb01afb2641778ce2357c4bdd98c5": {
      "model_module": "@jupyter-widgets/controls",
      "model_module_version": "2.0.0",
      "model_name": "ProgressStyleModel",
      "state": {
       "_model_module": "@jupyter-widgets/controls",
       "_model_module_version": "2.0.0",
       "_model_name": "ProgressStyleModel",
       "_view_count": null,
       "_view_module": "@jupyter-widgets/base",
       "_view_module_version": "2.0.0",
       "_view_name": "StyleView",
       "bar_color": null,
       "description_width": ""
      }
     },
     "66271860dbea4c4ea3c4845f4b1017d0": {
      "model_module": "@jupyter-widgets/controls",
      "model_module_version": "2.0.0",
      "model_name": "HTMLStyleModel",
      "state": {
       "_model_module": "@jupyter-widgets/controls",
       "_model_module_version": "2.0.0",
       "_model_name": "HTMLStyleModel",
       "_view_count": null,
       "_view_module": "@jupyter-widgets/base",
       "_view_module_version": "2.0.0",
       "_view_name": "StyleView",
       "background": null,
       "description_width": "",
       "font_size": null,
       "text_color": null
      }
     },
     "6c98e3b258ea4cf7b4b1bc4ca1e439e6": {
      "model_module": "@jupyter-widgets/base",
      "model_module_version": "2.0.0",
      "model_name": "LayoutModel",
      "state": {
       "_model_module": "@jupyter-widgets/base",
       "_model_module_version": "2.0.0",
       "_model_name": "LayoutModel",
       "_view_count": null,
       "_view_module": "@jupyter-widgets/base",
       "_view_module_version": "2.0.0",
       "_view_name": "LayoutView",
       "align_content": null,
       "align_items": null,
       "align_self": null,
       "border_bottom": null,
       "border_left": null,
       "border_right": null,
       "border_top": null,
       "bottom": null,
       "display": null,
       "flex": null,
       "flex_flow": null,
       "grid_area": null,
       "grid_auto_columns": null,
       "grid_auto_flow": null,
       "grid_auto_rows": null,
       "grid_column": null,
       "grid_gap": null,
       "grid_row": null,
       "grid_template_areas": null,
       "grid_template_columns": null,
       "grid_template_rows": null,
       "height": null,
       "justify_content": null,
       "justify_items": null,
       "left": null,
       "margin": null,
       "max_height": null,
       "max_width": null,
       "min_height": null,
       "min_width": null,
       "object_fit": null,
       "object_position": null,
       "order": null,
       "overflow": null,
       "padding": null,
       "right": null,
       "top": null,
       "visibility": null,
       "width": null
      }
     },
     "8aa97fd4bff94ffdac6da0e0622d4061": {
      "model_module": "@jupyter-widgets/controls",
      "model_module_version": "2.0.0",
      "model_name": "HBoxModel",
      "state": {
       "_dom_classes": [],
       "_model_module": "@jupyter-widgets/controls",
       "_model_module_version": "2.0.0",
       "_model_name": "HBoxModel",
       "_view_count": null,
       "_view_module": "@jupyter-widgets/controls",
       "_view_module_version": "2.0.0",
       "_view_name": "HBoxView",
       "box_style": "",
       "children": [
        "IPY_MODEL_0e7c1e5729d84348908d2ba272b03c50",
        "IPY_MODEL_d290d660e87245e8836dae35c23ce42c",
        "IPY_MODEL_969f91db494644e78b6a41a55e65b7dc"
       ],
       "layout": "IPY_MODEL_c163270c5a3d4881ac105b7ddc220ffa",
       "tabbable": null,
       "tooltip": null
      }
     },
     "969f91db494644e78b6a41a55e65b7dc": {
      "model_module": "@jupyter-widgets/controls",
      "model_module_version": "2.0.0",
      "model_name": "HTMLModel",
      "state": {
       "_dom_classes": [],
       "_model_module": "@jupyter-widgets/controls",
       "_model_module_version": "2.0.0",
       "_model_name": "HTMLModel",
       "_view_count": null,
       "_view_module": "@jupyter-widgets/controls",
       "_view_module_version": "2.0.0",
       "_view_name": "HTMLView",
       "description": "",
       "description_allow_html": false,
       "layout": "IPY_MODEL_2baa3e5aa5c54469aa2294e771ae74f5",
       "placeholder": "​",
       "style": "IPY_MODEL_37a23535eab54771b17282ad2f888cba",
       "tabbable": null,
       "tooltip": null,
       "value": " 10/10 [03:18&lt;00:00, 34.88s/it]"
      }
     },
     "bf7ddc34444441ef9951f28b6ecad682": {
      "model_module": "@jupyter-widgets/base",
      "model_module_version": "2.0.0",
      "model_name": "LayoutModel",
      "state": {
       "_model_module": "@jupyter-widgets/base",
       "_model_module_version": "2.0.0",
       "_model_name": "LayoutModel",
       "_view_count": null,
       "_view_module": "@jupyter-widgets/base",
       "_view_module_version": "2.0.0",
       "_view_name": "LayoutView",
       "align_content": null,
       "align_items": null,
       "align_self": null,
       "border_bottom": null,
       "border_left": null,
       "border_right": null,
       "border_top": null,
       "bottom": null,
       "display": null,
       "flex": null,
       "flex_flow": null,
       "grid_area": null,
       "grid_auto_columns": null,
       "grid_auto_flow": null,
       "grid_auto_rows": null,
       "grid_column": null,
       "grid_gap": null,
       "grid_row": null,
       "grid_template_areas": null,
       "grid_template_columns": null,
       "grid_template_rows": null,
       "height": null,
       "justify_content": null,
       "justify_items": null,
       "left": null,
       "margin": null,
       "max_height": null,
       "max_width": null,
       "min_height": null,
       "min_width": null,
       "object_fit": null,
       "object_position": null,
       "order": null,
       "overflow": null,
       "padding": null,
       "right": null,
       "top": null,
       "visibility": null,
       "width": null
      }
     },
     "c163270c5a3d4881ac105b7ddc220ffa": {
      "model_module": "@jupyter-widgets/base",
      "model_module_version": "2.0.0",
      "model_name": "LayoutModel",
      "state": {
       "_model_module": "@jupyter-widgets/base",
       "_model_module_version": "2.0.0",
       "_model_name": "LayoutModel",
       "_view_count": null,
       "_view_module": "@jupyter-widgets/base",
       "_view_module_version": "2.0.0",
       "_view_name": "LayoutView",
       "align_content": null,
       "align_items": null,
       "align_self": null,
       "border_bottom": null,
       "border_left": null,
       "border_right": null,
       "border_top": null,
       "bottom": null,
       "display": null,
       "flex": null,
       "flex_flow": null,
       "grid_area": null,
       "grid_auto_columns": null,
       "grid_auto_flow": null,
       "grid_auto_rows": null,
       "grid_column": null,
       "grid_gap": null,
       "grid_row": null,
       "grid_template_areas": null,
       "grid_template_columns": null,
       "grid_template_rows": null,
       "height": null,
       "justify_content": null,
       "justify_items": null,
       "left": null,
       "margin": null,
       "max_height": null,
       "max_width": null,
       "min_height": null,
       "min_width": null,
       "object_fit": null,
       "object_position": null,
       "order": null,
       "overflow": null,
       "padding": null,
       "right": null,
       "top": null,
       "visibility": null,
       "width": null
      }
     },
     "d290d660e87245e8836dae35c23ce42c": {
      "model_module": "@jupyter-widgets/controls",
      "model_module_version": "2.0.0",
      "model_name": "FloatProgressModel",
      "state": {
       "_dom_classes": [],
       "_model_module": "@jupyter-widgets/controls",
       "_model_module_version": "2.0.0",
       "_model_name": "FloatProgressModel",
       "_view_count": null,
       "_view_module": "@jupyter-widgets/controls",
       "_view_module_version": "2.0.0",
       "_view_name": "ProgressView",
       "bar_style": "success",
       "description": "",
       "description_allow_html": false,
       "layout": "IPY_MODEL_6c98e3b258ea4cf7b4b1bc4ca1e439e6",
       "max": 10.0,
       "min": 0.0,
       "orientation": "horizontal",
       "style": "IPY_MODEL_4c9fb01afb2641778ce2357c4bdd98c5",
       "tabbable": null,
       "tooltip": null,
       "value": 10.0
      }
     }
    },
    "version_major": 2,
    "version_minor": 0
   }
  }
 },
 "nbformat": 4,
 "nbformat_minor": 5
}