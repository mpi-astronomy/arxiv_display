{
 "cells": [
  {
   "cell_type": "markdown",
   "id": "92bcb855",
   "metadata": {
    "papermill": {
     "duration": 0.003569,
     "end_time": "2023-12-15T04:08:13.971336",
     "exception": false,
     "start_time": "2023-12-15T04:08:13.967767",
     "status": "completed"
    },
    "tags": []
   },
   "source": [
    "# MPIA Arxiv on Deck 2\n",
    "\n",
    "Contains the steps to produce the paper extractions."
   ]
  },
  {
   "cell_type": "code",
   "execution_count": 1,
   "id": "3a0d6e11",
   "metadata": {
    "execution": {
     "iopub.execute_input": "2023-12-15T04:08:13.979718Z",
     "iopub.status.busy": "2023-12-15T04:08:13.979179Z",
     "iopub.status.idle": "2023-12-15T04:08:14.280614Z",
     "shell.execute_reply": "2023-12-15T04:08:14.279892Z"
    },
    "papermill": {
     "duration": 0.306938,
     "end_time": "2023-12-15T04:08:14.282402",
     "exception": false,
     "start_time": "2023-12-15T04:08:13.975464",
     "status": "completed"
    },
    "tags": []
   },
   "outputs": [],
   "source": [
    "# Imports\n",
    "import os\n",
    "from IPython.display import Markdown, display\n",
    "from tqdm.notebook import tqdm\n",
    "import warnings\n",
    "from PIL import Image \n",
    "\n",
    "# requires arxiv_on_deck_2\n",
    "\n",
    "from arxiv_on_deck_2.arxiv2 import (get_new_papers, \n",
    "                                    get_paper_from_identifier,\n",
    "                                    retrieve_document_source, \n",
    "                                    get_markdown_badge)\n",
    "from arxiv_on_deck_2 import (latex,\n",
    "                             latex_bib,\n",
    "                             mpia,\n",
    "                             highlight_authors_in_list)\n",
    "\n",
    "# Sometimes images are really big\n",
    "Image.MAX_IMAGE_PIXELS = 1000000000 "
   ]
  },
  {
   "cell_type": "code",
   "execution_count": 2,
   "id": "22aa9d44",
   "metadata": {
    "execution": {
     "iopub.execute_input": "2023-12-15T04:08:14.289475Z",
     "iopub.status.busy": "2023-12-15T04:08:14.288961Z",
     "iopub.status.idle": "2023-12-15T04:08:14.293902Z",
     "shell.execute_reply": "2023-12-15T04:08:14.293311Z"
    },
    "papermill": {
     "duration": 0.00984,
     "end_time": "2023-12-15T04:08:14.295242",
     "exception": false,
     "start_time": "2023-12-15T04:08:14.285402",
     "status": "completed"
    },
    "tags": []
   },
   "outputs": [],
   "source": [
    "# Some useful definitions.\n",
    "\n",
    "class AffiliationWarning(UserWarning):\n",
    "    pass\n",
    "\n",
    "class AffiliationError(RuntimeError):\n",
    "    pass\n",
    "\n",
    "def validation(source: str):\n",
    "    \"\"\"Raises error paper during parsing of source file\n",
    "    \n",
    "    Allows checks before parsing TeX code.\n",
    "    \n",
    "    Raises AffiliationWarning\n",
    "    \"\"\"\n",
    "    check = mpia.affiliation_verifications(source, verbose=True)\n",
    "    if check is not True:\n",
    "        raise AffiliationError(\"mpia.affiliation_verifications: \" + check)\n",
    "\n",
    "        \n",
    "warnings.simplefilter('always', AffiliationWarning)\n",
    "\n",
    "\n",
    "def get_markdown_qrcode(paper_id: str):\n",
    "    \"\"\" Generate a qrcode to the arxiv page using qrserver.com\n",
    "    \n",
    "    :param paper: Arxiv paper\n",
    "    :returns: markdown text\n",
    "    \"\"\"\n",
    "    url = r\"https://api.qrserver.com/v1/create-qr-code/?size=100x100&data=\"\n",
    "    txt = f\"\"\"<img src={url}\"https://arxiv.org/abs/{paper_id}\">\"\"\"\n",
    "    txt = '<div id=\"qrcode\">' + txt + '</div>'\n",
    "    return txt"
   ]
  },
  {
   "cell_type": "markdown",
   "id": "14bd6310",
   "metadata": {
    "papermill": {
     "duration": 0.00272,
     "end_time": "2023-12-15T04:08:14.300841",
     "exception": false,
     "start_time": "2023-12-15T04:08:14.298121",
     "status": "completed"
    },
    "tags": []
   },
   "source": [
    "## get list of arxiv paper candidates\n",
    "\n",
    "We use the MPIA mitarbeiter list webpage from mpia.de to get author names\n",
    "We then get all new papers from Arxiv and match authors"
   ]
  },
  {
   "cell_type": "code",
   "execution_count": 3,
   "id": "2645e73a",
   "metadata": {
    "execution": {
     "iopub.execute_input": "2023-12-15T04:08:14.307330Z",
     "iopub.status.busy": "2023-12-15T04:08:14.307000Z",
     "iopub.status.idle": "2023-12-15T04:08:33.052913Z",
     "shell.execute_reply": "2023-12-15T04:08:33.052300Z"
    },
    "papermill": {
     "duration": 18.750684,
     "end_time": "2023-12-15T04:08:33.054260",
     "exception": false,
     "start_time": "2023-12-15T04:08:14.303576",
     "status": "completed"
    },
    "tags": []
   },
   "outputs": [
    {
     "name": "stdout",
     "output_type": "stream",
     "text": [
      "P. Gaikwad  ->  P. Gaikwad  |  ['P. Gaikwad']\n",
      "F. Nasir  ->  F. Nasir  |  ['F. Nasir']\n",
      "A. Gould  ->  A. Gould  |  ['A. Gould']\n",
      "M. Flock  ->  M. Flock  |  ['M. Flock']\n",
      "H. Linz  ->  H. Linz  |  ['H. Linz']\n",
      "F. Walter  ->  F. Walter  |  ['F. Walter']\n",
      "T. Trifonov  ->  T. Trifonov  |  ['T. Trifonov']\n"
     ]
    },
    {
     "name": "stdout",
     "output_type": "stream",
     "text": [
      "Arxiv has 64 new papers today\n",
      "          5 with possible author matches\n"
     ]
    }
   ],
   "source": [
    "# get list from MPIA website\n",
    "# it automatically filters identified non-scientists :func:`mpia.filter_non_scientists`\n",
    "mpia_authors = mpia.get_mpia_mitarbeiter_list()\n",
    "normed_mpia_authors = [k[1] for k in mpia_authors]   # initials + fullname\n",
    "new_papers = get_new_papers()\n",
    "# add manual references\n",
    "add_paper_refs = []\n",
    "new_papers.extend([get_paper_from_identifier(k) for k in add_paper_refs])\n",
    "\n",
    "candidates = []\n",
    "for paperk in new_papers:\n",
    "    # Check author list with their initials\n",
    "    normed_author_list = [mpia.get_initials(k) for k in paperk['authors']]\n",
    "    hl_authors = highlight_authors_in_list(normed_author_list, normed_mpia_authors, verbose=True)\n",
    "    matches = [(hl, orig) for hl, orig in zip(hl_authors, paperk['authors']) if 'mark' in hl]\n",
    "    paperk['authors'] = hl_authors\n",
    "    if matches:\n",
    "        # only select paper if an author matched our list\n",
    "        candidates.append(paperk)\n",
    "print(\"\"\"Arxiv has {0:,d} new papers today\"\"\".format(len(new_papers)))        \n",
    "print(\"\"\"          {0:,d} with possible author matches\"\"\".format(len(candidates)))"
   ]
  },
  {
   "cell_type": "markdown",
   "id": "3543b34a",
   "metadata": {
    "papermill": {
     "duration": 0.002916,
     "end_time": "2023-12-15T04:08:33.060544",
     "exception": false,
     "start_time": "2023-12-15T04:08:33.057628",
     "status": "completed"
    },
    "tags": []
   },
   "source": [
    "# Parse sources and generate relevant outputs\n",
    "\n",
    "From the candidates, we do the following steps:\n",
    "* get their tarball from ArXiv (and extract data)\n",
    "* find the main .tex file: find one with \\documentclass{...} (sometimes it's non trivial)\n",
    "* Check affiliations with :func:`validation`, which uses :func:`mpia.affiliation_verifications`\n",
    "* If passing the affiliations: we parse the .tex source\n",
    "   * inject sub-documents into the main (flatten the main document)\n",
    "   * parse structure, extract information (title, abstract, authors, figures...)\n",
    "   * handles `\\graphicspath` if provided\n",
    "* Generate the .md document."
   ]
  },
  {
   "cell_type": "code",
   "execution_count": 4,
   "id": "9576b79e",
   "metadata": {
    "execution": {
     "iopub.execute_input": "2023-12-15T04:08:33.067614Z",
     "iopub.status.busy": "2023-12-15T04:08:33.067084Z",
     "iopub.status.idle": "2023-12-15T04:09:32.460360Z",
     "shell.execute_reply": "2023-12-15T04:09:32.459610Z"
    },
    "papermill": {
     "duration": 59.398502,
     "end_time": "2023-12-15T04:09:32.461900",
     "exception": false,
     "start_time": "2023-12-15T04:08:33.063398",
     "status": "completed"
    },
    "scrolled": false,
    "tags": []
   },
   "outputs": [
    {
     "data": {
      "application/vnd.jupyter.widget-view+json": {
       "model_id": "ff636efad25c4eaf84f04da248472e0a",
       "version_major": 2,
       "version_minor": 0
      },
      "text/plain": [
       "  0%|          | 0/5 [00:00<?, ?it/s]"
      ]
     },
     "metadata": {},
     "output_type": "display_data"
    },
    {
     "name": "stdout",
     "output_type": "stream",
     "text": [
      "Retrieving document from  https://arxiv.org/e-print/2312.08464\n"
     ]
    },
    {
     "name": "stdout",
     "output_type": "stream",
     "text": [
      "extracting tarball to tmp_2312.08464..."
     ]
    },
    {
     "name": "stdout",
     "output_type": "stream",
     "text": [
      " done.\n"
     ]
    },
    {
     "name": "stdout",
     "output_type": "stream",
     "text": [
      "P. Gaikwad  ->  P. Gaikwad  |  ['P. Gaikwad']\n",
      "F. Nasir  ->  F. Nasir  |  ['F. Nasir']\n"
     ]
    },
    {
     "name": "stdout",
     "output_type": "stream",
     "text": [
      "list index out of range\n",
      "Retrieving document from  https://arxiv.org/e-print/2312.08635\n"
     ]
    },
    {
     "name": "stdout",
     "output_type": "stream",
     "text": [
      "extracting tarball to tmp_2312.08635..."
     ]
    },
    {
     "name": "stdout",
     "output_type": "stream",
     "text": [
      " done.\n"
     ]
    },
    {
     "name": "stderr",
     "output_type": "stream",
     "text": [
      "/opt/hostedtoolcache/Python/3.9.18/x64/lib/python3.9/site-packages/IPython/core/interactiveshell.py:3550: LatexWarning: Multiple tex files.\n",
      "\n",
      "  exec(code_obj, self.user_global_ns, self.user_ns)\n",
      "/opt/hostedtoolcache/Python/3.9.18/x64/lib/python3.9/site-packages/IPython/core/interactiveshell.py:3550: LatexWarning: Found documentclass in tmp_2312.08635/main.tex\n",
      "\n",
      "  exec(code_obj, self.user_global_ns, self.user_ns)\n",
      "/opt/hostedtoolcache/Python/3.9.18/x64/lib/python3.9/site-packages/arxiv_on_deck_2/latex.py:399: LatexWarning: Latex injecting: 'summary' from 'tmp_2312.08635/summary.tex'\n",
      "  warnings.warn(LatexWarning(f\"Latex injecting: '{ext}' from '{subsource}'\"))\n",
      "/opt/hostedtoolcache/Python/3.9.18/x64/lib/python3.9/site-packages/arxiv_on_deck_2/latex.py:399: LatexWarning: Latex injecting: 'dis' from 'tmp_2312.08635/dis.tex'\n",
      "  warnings.warn(LatexWarning(f\"Latex injecting: '{ext}' from '{subsource}'\"))\n",
      "/opt/hostedtoolcache/Python/3.9.18/x64/lib/python3.9/site-packages/arxiv_on_deck_2/latex.py:399: LatexWarning: Latex injecting: 'lens' from 'tmp_2312.08635/lens.tex'\n",
      "  warnings.warn(LatexWarning(f\"Latex injecting: '{ext}' from '{subsource}'\"))\n",
      "/opt/hostedtoolcache/Python/3.9.18/x64/lib/python3.9/site-packages/arxiv_on_deck_2/latex.py:399: LatexWarning: Latex injecting: '1L2S' from 'tmp_2312.08635/1L2S.tex'\n",
      "  warnings.warn(LatexWarning(f\"Latex injecting: '{ext}' from '{subsource}'\"))\n",
      "/opt/hostedtoolcache/Python/3.9.18/x64/lib/python3.9/site-packages/arxiv_on_deck_2/latex.py:399: LatexWarning: Latex injecting: 'cmd' from 'tmp_2312.08635/cmd.tex'\n",
      "  warnings.warn(LatexWarning(f\"Latex injecting: '{ext}' from '{subsource}'\"))\n",
      "/opt/hostedtoolcache/Python/3.9.18/x64/lib/python3.9/site-packages/arxiv_on_deck_2/latex.py:399: LatexWarning: Latex injecting: '2L1S' from 'tmp_2312.08635/2L1S.tex'\n",
      "  warnings.warn(LatexWarning(f\"Latex injecting: '{ext}' from '{subsource}'\"))\n",
      "/opt/hostedtoolcache/Python/3.9.18/x64/lib/python3.9/site-packages/arxiv_on_deck_2/latex.py:399: LatexWarning: Latex injecting: 'obser' from 'tmp_2312.08635/obser.tex'\n",
      "  warnings.warn(LatexWarning(f\"Latex injecting: '{ext}' from '{subsource}'\"))\n",
      "/opt/hostedtoolcache/Python/3.9.18/x64/lib/python3.9/site-packages/arxiv_on_deck_2/latex.py:399: LatexWarning: Latex injecting: 'intro' from 'tmp_2312.08635/intro.tex'\n",
      "  warnings.warn(LatexWarning(f\"Latex injecting: '{ext}' from '{subsource}'\"))\n",
      "/opt/hostedtoolcache/Python/3.9.18/x64/lib/python3.9/site-packages/arxiv_on_deck_2/latex.py:399: LatexWarning: Latex injecting: 'abstract' from 'tmp_2312.08635/abstract.tex'\n",
      "  warnings.warn(LatexWarning(f\"Latex injecting: '{ext}' from '{subsource}'\"))\n",
      "/opt/hostedtoolcache/Python/3.9.18/x64/lib/python3.9/site-packages/arxiv_on_deck_2/latex.py:399: LatexWarning: Latex injecting: 'author.tex' from 'tmp_2312.08635/author.tex'\n",
      "  warnings.warn(LatexWarning(f\"Latex injecting: '{ext}' from '{subsource}'\"))\n"
     ]
    },
    {
     "name": "stdout",
     "output_type": "stream",
     "text": [
      "A. Gould  ->  A. Gould  |  ['A. Gould']\n",
      "Retrieving document from  https://arxiv.org/e-print/2312.08819\n"
     ]
    },
    {
     "name": "stderr",
     "output_type": "stream",
     "text": [
      "/tmp/ipykernel_2186/3009462391.py:49: LatexWarning: 2312.08635 did not run properly\n",
      "bad escape \\l at position 9\n",
      "  warnings.warn(latex.LatexWarning(f\"{paper_id:s} did not run properly\\n\" +\n"
     ]
    },
    {
     "name": "stdout",
     "output_type": "stream",
     "text": [
      "extracting tarball to tmp_2312.08819..."
     ]
    },
    {
     "name": "stdout",
     "output_type": "stream",
     "text": [
      " done.\n"
     ]
    },
    {
     "name": "stderr",
     "output_type": "stream",
     "text": [
      "/opt/hostedtoolcache/Python/3.9.18/x64/lib/python3.9/site-packages/arxiv_on_deck_2/latex.py:473: LatexWarning: Error parsing the document directly. Trying to recover.\n",
      "  warnings.warn(LatexWarning(f\"Error parsing the document directly. Trying to recover.\"))\n"
     ]
    },
    {
     "name": "stdout",
     "output_type": "stream",
     "text": [
      "✔ → 0:header\n",
      "  ↳ 6134:\\section{Introduction}\n",
      "✔ → 6134:\\section{Introduction}\n",
      "  ↳ 13704:\\section{Observations and data reduction}\n"
     ]
    },
    {
     "name": "stdout",
     "output_type": "stream",
     "text": [
      "✔ → 13704:\\section{Observations and data reduction}\n",
      "  ↳ 16619:\\section{Interferometric observables}\n",
      "✔ → 16619:\\section{Interferometric observables}\n",
      "  ↳ 19225:\\section{Imaging the K-band continuum emission around HD 58647}\n"
     ]
    },
    {
     "name": "stdout",
     "output_type": "stream",
     "text": [
      "✔ → 19225:\\section{Imaging the K-band continuum emission around HD 58647}\n",
      "  ↳ 25106:\\section{Imaging the HI $\\mathrm{Br}\\gamma$ line emission in HD 58647}\n"
     ]
    },
    {
     "name": "stdout",
     "output_type": "stream",
     "text": [
      "✔ → 25106:\\section{Imaging the HI $\\mathrm{Br}\\gamma$ line emission in HD 58647}\n",
      "  ↳ 32516:\\section{\\HI \\brg line Keplerian disk modelling}\n",
      "✔ → 32516:\\section{\\HI \\brg line Keplerian disk modelling}\n",
      "  ↳ 35331:\\section{Discussion}\n"
     ]
    },
    {
     "name": "stdout",
     "output_type": "stream",
     "text": [
      "✔ → 35331:\\section{Discussion}\n",
      "  ↳ 45741:\\section{Summary}\n",
      "✔ → 45741:\\section{Summary}\n",
      "  ↳ 49732:\\begin{appendix}\n",
      "✔ → 49732:\\begin{appendix}\n",
      "  ↳ 49749:\\section{Observation log}\n",
      "✔ → 49749:\\section{Observation log}\n",
      "  ↳ 50627:\\section{Observational data}\n",
      "✔ → 50627:\\section{Observational data}\n",
      "  ↳ 52321:\\section{Image reconstruction parameters}\n"
     ]
    },
    {
     "name": "stdout",
     "output_type": "stream",
     "text": [
      "✔ → 52321:\\section{Image reconstruction parameters}\n",
      "  ↳ 55079:\\section{Geometrical modelling of the K-band continuum}\n"
     ]
    },
    {
     "name": "stdout",
     "output_type": "stream",
     "text": [
      "✘ → 55079:\\section{Geometrical modelling of the K-band continuum}\n",
      "  ↳ 61395:\\section{\\brg   line continuum-corrected visibilities and differential phases}\n",
      "✔ → 61395:\\section{\\brg   line continuum-corrected visibilities and differential phases}\n",
      "  ↳ 65941:\\section{Continuum-corrected differential phases}\n"
     ]
    },
    {
     "name": "stdout",
     "output_type": "stream",
     "text": [
      "✔ → 65941:\\section{Continuum-corrected differential phases}\n",
      "  ↳ 68014:end\n"
     ]
    },
    {
     "name": "stdout",
     "output_type": "stream",
     "text": [
      "Found 65 bibliographic references in tmp_2312.08819/HD58647.bbl.\n",
      "Retrieving document from  https://arxiv.org/e-print/2312.08959\n"
     ]
    },
    {
     "name": "stdout",
     "output_type": "stream",
     "text": [
      "extracting tarball to tmp_2312.08959..."
     ]
    },
    {
     "name": "stdout",
     "output_type": "stream",
     "text": [
      " done.\n"
     ]
    },
    {
     "name": "stderr",
     "output_type": "stream",
     "text": [
      "/opt/hostedtoolcache/Python/3.9.18/x64/lib/python3.9/site-packages/arxiv_on_deck_2/latex.py:473: LatexWarning: Error parsing the document directly. Trying to recover.\n",
      "  warnings.warn(LatexWarning(f\"Error parsing the document directly. Trying to recover.\"))\n"
     ]
    },
    {
     "name": "stdout",
     "output_type": "stream",
     "text": [
      "✔ → 0:header\n",
      "  ↳ 5331:\\section{Introduction} \\label{sec:section_1}\n"
     ]
    },
    {
     "name": "stdout",
     "output_type": "stream",
     "text": [
      "✔ → 5331:\\section{Introduction} \\label{sec:section_1}\n",
      "  ↳ 14581:\\section{Data} \\label{sec:section_2}\n"
     ]
    },
    {
     "name": "stdout",
     "output_type": "stream",
     "text": [
      "✘ → 14581:\\section{Data} \\label{sec:section_2}\n",
      "  ↳ 37161:\\section{Method \\& Analysis} \\label{sec:section_3}\n"
     ]
    },
    {
     "name": "stdout",
     "output_type": "stream",
     "text": [
      "✔ → 37161:\\section{Method \\& Analysis} \\label{sec:section_3}\n",
      "  ↳ 60205:\\section{Results and Discussion} \\label{sec:section_4}\n"
     ]
    },
    {
     "name": "stdout",
     "output_type": "stream",
     "text": [
      "✘ → 60205:\\section{Results and Discussion} \\label{sec:section_4}\n",
      "  ↳ 96588:\\section{Summary \\& Conclusions} \\label{sec:section_5}\n",
      "✔ → 96588:\\section{Summary \\& Conclusions} \\label{sec:section_5}\n",
      "  ↳ 103802:\\section{HST Morphologies} \\label{sec:Appendix_HST}\n"
     ]
    },
    {
     "name": "stdout",
     "output_type": "stream",
     "text": [
      "✔ → 103802:\\section{HST Morphologies} \\label{sec:Appendix_HST}\n",
      "  ↳ 105653:\\section{Exploring the effects of resolution and SNR} \\label{sec:Appendix_Simulations}\n",
      "✔ → 105653:\\section{Exploring the effects of resolution and SNR} \\label{sec:Appendix_Simulations}\n",
      "  ↳ 111564:\\section{Fitting Diagnostics} \\label{sec:Appendix_fitting_diagnostics}\n"
     ]
    },
    {
     "name": "stdout",
     "output_type": "stream",
     "text": [
      "✔ → 111564:\\section{Fitting Diagnostics} \\label{sec:Appendix_fitting_diagnostics}\n",
      "  ↳ 121200:end\n"
     ]
    },
    {
     "name": "stderr",
     "output_type": "stream",
     "text": [
      "/opt/hostedtoolcache/Python/3.9.18/x64/lib/python3.9/site-packages/arxiv_on_deck_2/latex.py:120: LatexWarning: attempting recovering figure Figures/ALESS_041.1_fit_subplots_moment_1\n",
      "  warnings.warn(LatexWarning(f'attempting recovering figure {image}'))\n",
      "/opt/hostedtoolcache/Python/3.9.18/x64/lib/python3.9/site-packages/arxiv_on_deck_2/latex.py:125: LatexWarning: Recovered figure Figures/ALESS_041.1_fit_subplots_moment_1 as tmp_2312.08959/./Figures/ALESS_041.1_fit_subplots_moment_1.png\n",
      "  warnings.warn(LatexWarning(f'Recovered figure {image} as {fname}'))\n",
      "/opt/hostedtoolcache/Python/3.9.18/x64/lib/python3.9/site-packages/arxiv_on_deck_2/latex.py:120: LatexWarning: attempting recovering figure Figures/ALESS_041.1_fit_subplots_moment_2\n",
      "  warnings.warn(LatexWarning(f'attempting recovering figure {image}'))\n",
      "/opt/hostedtoolcache/Python/3.9.18/x64/lib/python3.9/site-packages/arxiv_on_deck_2/latex.py:125: LatexWarning: Recovered figure Figures/ALESS_041.1_fit_subplots_moment_2 as tmp_2312.08959/./Figures/ALESS_041.1_fit_subplots_moment_2.png\n",
      "  warnings.warn(LatexWarning(f'Recovered figure {image} as {fname}'))\n",
      "/opt/hostedtoolcache/Python/3.9.18/x64/lib/python3.9/site-packages/arxiv_on_deck_2/latex.py:120: LatexWarning: attempting recovering figure Figures/ALESS_071.1_fit_subplots_moment_1\n",
      "  warnings.warn(LatexWarning(f'attempting recovering figure {image}'))\n",
      "/opt/hostedtoolcache/Python/3.9.18/x64/lib/python3.9/site-packages/arxiv_on_deck_2/latex.py:125: LatexWarning: Recovered figure Figures/ALESS_071.1_fit_subplots_moment_1 as tmp_2312.08959/./Figures/ALESS_071.1_fit_subplots_moment_1.png\n",
      "  warnings.warn(LatexWarning(f'Recovered figure {image} as {fname}'))\n",
      "/opt/hostedtoolcache/Python/3.9.18/x64/lib/python3.9/site-packages/arxiv_on_deck_2/latex.py:120: LatexWarning: attempting recovering figure Figures/ALESS_071.1_fit_subplots_moment_2\n",
      "  warnings.warn(LatexWarning(f'attempting recovering figure {image}'))\n",
      "/opt/hostedtoolcache/Python/3.9.18/x64/lib/python3.9/site-packages/arxiv_on_deck_2/latex.py:125: LatexWarning: Recovered figure Figures/ALESS_071.1_fit_subplots_moment_2 as tmp_2312.08959/./Figures/ALESS_071.1_fit_subplots_moment_2.png\n",
      "  warnings.warn(LatexWarning(f'Recovered figure {image} as {fname}'))\n",
      "/opt/hostedtoolcache/Python/3.9.18/x64/lib/python3.9/site-packages/arxiv_on_deck_2/latex.py:120: LatexWarning: attempting recovering figure Figures/ALESS_075.1_fit_subplots_moment_1\n",
      "  warnings.warn(LatexWarning(f'attempting recovering figure {image}'))\n",
      "/opt/hostedtoolcache/Python/3.9.18/x64/lib/python3.9/site-packages/arxiv_on_deck_2/latex.py:125: LatexWarning: Recovered figure Figures/ALESS_075.1_fit_subplots_moment_1 as tmp_2312.08959/./Figures/ALESS_075.1_fit_subplots_moment_1.png\n",
      "  warnings.warn(LatexWarning(f'Recovered figure {image} as {fname}'))\n",
      "/opt/hostedtoolcache/Python/3.9.18/x64/lib/python3.9/site-packages/arxiv_on_deck_2/latex.py:120: LatexWarning: attempting recovering figure Figures/ALESS_075.1_fit_subplots_moment_2\n",
      "  warnings.warn(LatexWarning(f'attempting recovering figure {image}'))\n",
      "/opt/hostedtoolcache/Python/3.9.18/x64/lib/python3.9/site-packages/arxiv_on_deck_2/latex.py:125: LatexWarning: Recovered figure Figures/ALESS_075.1_fit_subplots_moment_2 as tmp_2312.08959/./Figures/ALESS_075.1_fit_subplots_moment_2.png\n",
      "  warnings.warn(LatexWarning(f'Recovered figure {image} as {fname}'))\n"
     ]
    },
    {
     "name": "stdout",
     "output_type": "stream",
     "text": [
      "Found 118 bibliographic references in tmp_2312.08959/main.bbl.\n",
      "syntax error in line 235: '=' expected\n",
      "Retrieving document from  https://arxiv.org/e-print/2312.09156\n"
     ]
    },
    {
     "name": "stdout",
     "output_type": "stream",
     "text": [
      "extracting tarball to tmp_2312.09156..."
     ]
    },
    {
     "name": "stdout",
     "output_type": "stream",
     "text": [
      " done.\n"
     ]
    },
    {
     "name": "stdout",
     "output_type": "stream",
     "text": [
      "Found 66 bibliographic references in tmp_2312.09156/main_text.bbl.\n"
     ]
    }
   ],
   "source": [
    "documents = []\n",
    "failed = []\n",
    "for paper in tqdm(candidates):\n",
    "    paper_id = paper['identifier'].lower().replace('arxiv:', '')\n",
    "    \n",
    "    folder = f'tmp_{paper_id}'\n",
    "\n",
    "    try:\n",
    "        if not os.path.isdir(folder):\n",
    "            folder = retrieve_document_source(f\"{paper_id}\", f'tmp_{paper_id}')\n",
    "        \n",
    "        try:\n",
    "            doc = latex.LatexDocument(folder, validation=validation)    \n",
    "        except AffiliationError as affilerror:\n",
    "            msg = f\"ArXiv:{paper_id:s} is not an MPIA paper... \" + str(affilerror)\n",
    "            failed.append((paper, \"affiliation error: \" + str(affilerror) ))\n",
    "            continue\n",
    "        \n",
    "        # Hack because sometimes author parsing does not work well\n",
    "        if (len(doc.authors) != len(paper['authors'])):\n",
    "            doc._authors = paper['authors']\n",
    "        else:\n",
    "            # highlight authors (FIXME: doc.highlight_authors)\n",
    "            # done on arxiv paper already\n",
    "            doc._authors = highlight_authors_in_list(\n",
    "                [mpia.get_initials(k) for k in doc.authors], \n",
    "                normed_mpia_authors, verbose=True)\n",
    "        if (doc.abstract) in (None, ''):\n",
    "            doc._abstract = paper['abstract']\n",
    "            \n",
    "        doc.comment = (get_markdown_badge(paper_id) + \n",
    "                       \"<mark>Appeared on: \" + paper['date'] + \"</mark> - \")\n",
    "        if paper['comments']:\n",
    "            doc.comment += \" _\" + paper['comments'] + \"_\"\n",
    "        \n",
    "        full_md = doc.generate_markdown_text()\n",
    "        \n",
    "        full_md += get_markdown_qrcode(paper_id)\n",
    "        \n",
    "        # replace citations\n",
    "        try:\n",
    "            bibdata = latex_bib.LatexBib.from_doc(doc)\n",
    "            full_md = latex_bib.replace_citations(full_md, bibdata)\n",
    "        except Exception as e:\n",
    "            print(e)\n",
    "        \n",
    "        documents.append((paper_id, full_md))\n",
    "    except Exception as e:\n",
    "        warnings.warn(latex.LatexWarning(f\"{paper_id:s} did not run properly\\n\" +\n",
    "                                         str(e)\n",
    "                                        ))\n",
    "        failed.append((paper, \"latex error \" + str(e)))"
   ]
  },
  {
   "cell_type": "markdown",
   "id": "2505a25c",
   "metadata": {
    "papermill": {
     "duration": 0.004866,
     "end_time": "2023-12-15T04:09:32.472026",
     "exception": false,
     "start_time": "2023-12-15T04:09:32.467160",
     "status": "completed"
    },
    "tags": []
   },
   "source": [
    "### Export the logs\n",
    "\n",
    "Throughout, we also keep track of the logs per paper. see `logs-{today date}.md` "
   ]
  },
  {
   "cell_type": "code",
   "execution_count": 5,
   "id": "d733828a",
   "metadata": {
    "execution": {
     "iopub.execute_input": "2023-12-15T04:09:32.482870Z",
     "iopub.status.busy": "2023-12-15T04:09:32.482612Z",
     "iopub.status.idle": "2023-12-15T04:09:32.499858Z",
     "shell.execute_reply": "2023-12-15T04:09:32.499323Z"
    },
    "papermill": {
     "duration": 0.024368,
     "end_time": "2023-12-15T04:09:32.501206",
     "exception": false,
     "start_time": "2023-12-15T04:09:32.476838",
     "status": "completed"
    },
    "scrolled": false,
    "tags": []
   },
   "outputs": [
    {
     "data": {
      "text/markdown": [
       "## Successful papers"
      ],
      "text/plain": [
       "<IPython.core.display.Markdown object>"
      ]
     },
     "metadata": {},
     "output_type": "display_data"
    },
    {
     "data": {
      "text/markdown": [
       "\n",
       "|||\n",
       "|---:|:---|\n",
       "| [![arXiv](https://img.shields.io/badge/arXiv-arXiv:2312.08464-b31b1b.svg)](https://arxiv.org/abs/arXiv:2312.08464) | **Constraints on the Evolution of the Ionizing Background and Ionizing  Photon Mean Free Path at the End of Reionization**  |\n",
       "|| F. B. Davies, et al. -- incl., <mark>P. Gaikwad</mark>, <mark>F. Nasir</mark> |\n",
       "|*Appeared on*| *2023-12-15*|\n",
       "|*Comments*| *23 pages, 13 figures, resubmitted to ApJ after referee's comments*|\n",
       "|**Abstract**| The variations in Ly$\\alpha$ forest opacity observed at $z>5.3$ between lines of sight to different background quasars are too strong to be caused by fluctuations in the density field alone. The leading hypothesis for the cause of this excess variance is a late, ongoing reionization process at redshifts below six. Another model proposes strong ionizing background fluctuations coupled to a short, spatially varying mean free path of ionizing photons, without explicitly invoking incomplete reionization. With recent observations suggesting a short mean free path at $z\\sim6$, and a dramatic improvement in $z>5$ Ly$\\alpha$ forest data quality, we revisit this latter possibility. Here we apply the likelihood-free inference technique of approximate Bayesian computation to jointly constrain the hydrogen photoionization rate $\\Gamma_{\\rm HI}$ and the mean free path of ionizing photons $\\lambda_{\\rm mfp}$ from the effective optical depth distributions at $z=5.0$-$6.1$ from XQR-30. We find that the observations are well-described by fluctuating mean free path models with average mean free paths that are consistent with the steep trend implied by independent measurements at $z\\sim5$-$6$, with a concomitant rapid evolution of the photoionization rate. |"
      ],
      "text/plain": [
       "[arXiv:2312.08464] Constraints on the Evolution of the Ionizing Background and Ionizing  Photon Mean Free Path at the End of Reionization\n",
       "\tF. B. Davies, et al. -- incl., <mark>P. Gaikwad</mark>, <mark>F. Nasir</mark>"
      ]
     },
     "metadata": {},
     "output_type": "display_data"
    },
    {
     "data": {
      "text/markdown": [
       "\n",
       "|||\n",
       "|---:|:---|\n",
       "| [![arXiv](https://img.shields.io/badge/arXiv-arXiv:2312.08819-b31b1b.svg)](https://arxiv.org/abs/arXiv:2312.08819) | **The GRAVITY young stellar object survey: XI. Imaging the hot gas  emission around the Herbig Ae star HD 58647**  |\n",
       "|| Y.-I. Bouarour, et al. -- incl., <mark>M. Flock</mark>, <mark>H. Linz</mark> |\n",
       "|*Appeared on*| *2023-12-15*|\n",
       "|*Comments*| *accepted in A&A on 20/11/2023*|\n",
       "|**Abstract**| We aim to investigate the origin of the HI Br$\\gamma$ emission in young stars by using GRAVITY to image the innermost region of circumstellar disks, where important physical processes such as accretion and winds occur. With high spectral and angular resolution, we focus on studying the continuum and the HI Br$\\gamma$-emitting area of the Herbig star HD58647. Using VLTI-GRAVITY, we conducted observations of HD58647 with both high spectral and high angular resolution. Thanks to the extensive $uv$ coverage, we were able to obtain detailed images of the circumstellar environment at a sub-au scale, specifically capturing the continuum and the Br$\\gamma$-emitting region. Through the analysis of velocity-dispersed images and photocentre shifts, we were able to investigate the kinematics of the HI Br$\\gamma$-emitting region. The recovered continuum images show extended emission where the disk major axis is oriented along a position angle of 14\\degr. The size of the continuum emission at 5-sigma levels is $\\sim$ 1.5 times more extended than the sizes reported from geometrical fitting (3.69 mas $\\pm$ 0.02 mas). This result supports the existence of dust particles close to the stellar surface, screened from the stellar radiation by an optically thick gaseous disk. Moreover, for the first time with GRAVITY, the hot gas component of HD58647 traced by the Br$\\gamma$ ,has been imaged. This allowed us to constrain the size of the Br$\\gamma$-emitting region and study the kinematics of the hot gas; we find its velocity field to be roughly consistent with gas that obeys Keplerian motion. The velocity-dispersed images show that the size of the hot gas emission is from a more compact region than the continuum (2.3 mas $\\pm$ 0.2 mas). Finally, the line phases show that the emission is not entirely consistent with Keplerian rotation, hinting at a more complex structure in the hot gaseous disk. |"
      ],
      "text/plain": [
       "[arXiv:2312.08819] The GRAVITY young stellar object survey: XI. Imaging the hot gas  emission around the Herbig Ae star HD 58647\n",
       "\tY.-I. Bouarour, et al. -- incl., <mark>M. Flock</mark>, <mark>H. Linz</mark>"
      ]
     },
     "metadata": {},
     "output_type": "display_data"
    },
    {
     "data": {
      "text/markdown": [
       "\n",
       "|||\n",
       "|---:|:---|\n",
       "| [![arXiv](https://img.shields.io/badge/arXiv-arXiv:2312.08959-b31b1b.svg)](https://arxiv.org/abs/arXiv:2312.08959) | **The kinematics of massive high-redshift dusty star-forming galaxies**  |\n",
       "|| A. Amvrosiadis, et al. -- incl., <mark>F. Walter</mark> |\n",
       "|*Appeared on*| *2023-12-15*|\n",
       "|*Comments*| **|\n",
       "|**Abstract**| We present a new method for modelling the kinematics of galaxies from interferometric observations by performing the optimization of the kinematic model parameters directly in visibility-space instead of the conventional approach of fitting velocity fields produced with the CLEAN algorithm in real-space. We demonstrate our method on ALMA observations of $^{12}$CO (2$-$1), (3$-$2) or (4$-$3) emission lines from an initial sample of 30 massive 850$\\mu$m-selected dusty star-forming galaxies with far-infrared luminosities $\\gtrsim$$\\,10^{12}\\,$L$_{\\odot}$ in the redshift range $z \\sim\\,$1.2$-$4.7. Using the results from our modelling analysis for the 12 sources with the highest signal-to-noise emission lines and disk-like kinematics, we conclude the following: (i) Our sample prefers a CO-to-$H_2$ conversion factor, of $\\alpha_{\\rm CO} = 0.92 \\pm 0.36$; (ii) These far-infrared luminous galaxies follow a similar Tully$-$Fisher relation between the circularized velocity, $V_{\\rm circ}$, and baryonic mass, $M_{\\rm b}$, as more typical star-forming samples at high redshift, but extend this relation to much higher masses $-$ showing that these are some of the most massive disk-like galaxies in the Universe; (iii) Finally, we demonstrate support for an evolutionary link between massive high-redshift dusty star-forming galaxies and the formation of local early-type galaxies using the both the distributions of the baryonic and kinematic masses of these two populations on the $M_{\\rm b}\\,-\\,\\sigma$ plane and their relative space densities. |"
      ],
      "text/plain": [
       "[arXiv:2312.08959] The kinematics of massive high-redshift dusty star-forming galaxies\n",
       "\tA. Amvrosiadis, et al. -- incl., <mark>F. Walter</mark>"
      ]
     },
     "metadata": {},
     "output_type": "display_data"
    },
    {
     "data": {
      "text/markdown": [
       "\n",
       "|||\n",
       "|---:|:---|\n",
       "| [![arXiv](https://img.shields.io/badge/arXiv-arXiv:2312.09156-b31b1b.svg)](https://arxiv.org/abs/arXiv:2312.09156) | **The EBLM Project XII. An eccentric, long-period eclipsing binary with a  companion near the hydrogen-burning limit**  |\n",
       "|| Y. T. Davis, et al. -- incl., <mark>T. Trifonov</mark> |\n",
       "|*Appeared on*| *2023-12-15*|\n",
       "|*Comments*| *Resubmitted to MNRAS after positive review*|\n",
       "|**Abstract**| In the hunt for Earth-like exoplanets it is crucial to have reliable host star parameters, as they have a direct impact on the accuracy and precision of the inferred parameters for any discovered exoplanet. For stars with masses between 0.35 and 0.5 ${\\rm M_{\\odot}}$ an unexplained radius inflation is observed relative to typical stellar models. However, for fully convective objects with a mass below 0.35 ${\\rm M_{\\odot}}$ it is not known whether this radius inflation is present as there are fewer objects with accurate measurements in this regime. Low-mass eclipsing binaries present a unique opportunity to determine empirical masses and radii for these low-mass stars. Here we report on such a star, EBLM J2114-39\\,B. We have used HARPS and FEROS radial-velocities and TESS photometry to perform a joint fit of the data, and produce one of the most precise estimates of a very low mass star's parameters. Using a precise and accurate radius for the primary star using Gaia DR3 data, we determine J2114-39 to be a $M_1 = 0.987 \\pm 0.059$ ${\\rm M_{\\odot}}$ primary star hosting a fully convective secondary with mass $M_2~=~0.0986~\\pm 0.0038~\\,\\mathrm{M_{\\odot}}$, which lies in a poorly populated region of parameter space. With a radius $R_2 =~0.1275~\\pm0.0020~\\,\\mathrm{R_{\\odot}}$, similar to TRAPPIST-1, we see no significant evidence of radius inflation in this system when compared to stellar evolution models. We speculate that stellar models in the regime where radius inflation is observed might be affected by how convective overshooting is treated. |"
      ],
      "text/plain": [
       "[arXiv:2312.09156] The EBLM Project XII. An eccentric, long-period eclipsing binary with a  companion near the hydrogen-burning limit\n",
       "\tY. T. Davis, et al. -- incl., <mark>T. Trifonov</mark>"
      ]
     },
     "metadata": {},
     "output_type": "display_data"
    },
    {
     "data": {
      "text/markdown": [
       "## Failed papers"
      ],
      "text/plain": [
       "<IPython.core.display.Markdown object>"
      ]
     },
     "metadata": {},
     "output_type": "display_data"
    },
    {
     "data": {
      "text/markdown": [
       "\n",
       "|||\n",
       "|---:|:---|\n",
       "| [![arXiv](https://img.shields.io/badge/arXiv-arXiv:2312.08635-b31b1b.svg)](https://arxiv.org/abs/arXiv:2312.08635) | **OGLE-2017-BLG-0448Lb: A Low Mass-Ratio Wide-Orbit Microlensing Planet?**  |\n",
       "|| R. Zhai, et al. -- incl., <mark>A. Gould</mark> |\n",
       "|*Appeared on*| *2023-12-15*|\n",
       "|*Comments*| *submitted to AJ*|\n",
       "|**Abstract**| The gravitational microlensing technique is most sensitive to planets in a Jupiter-like orbit and has detected more than 200 planets. However, only a few wide-orbit ($s > 2$) microlensing planets have been discovered, where $s$ is the planet-to-host separation normalized to the angular Einstein ring radius, $\\theta_{\\rm E}$. Here we present the discovery and analysis of a strong candidate wide-orbit microlensing planet in the event, OGLE-2017-BLG-0448. The whole light curve exhibits long-term residuals to the static binary-lens single-source model, so we investigate the residuals by adding the microlensing parallax, microlensing xallarap, an additional lens, or an additional source. For the first time, we observe a complex degeneracy between all four effects. The wide-orbit models with $s \\sim 2.5$ and a planet-to-host mass-ratio of $q \\sim 10^{-4}$ are significantly preferred, but we cannot rule out the close models with $s \\sim 0.35$ and $q \\sim 10^{-3}$. A Bayesian analysis based on a Galactic model indicates that, despite the complicated degeneracy, the surviving wide-orbit models all contain a super-Earth-mass to Neptune-mass planet at a projected planet-host separation of $\\sim 6$ au and the surviving close-orbit models all consist of a Jovian-mass planet at $\\sim 1$ au. The host star is probably an M or K dwarf. We discuss the implications of this dimension-degeneracy disaster on microlensing light-curve analysis and its potential impact on statistical studies. |\n",
       "|<p style=\"color:red\"> **ERROR** </p>| <p style=\"color:red\">latex error bad escape \\l at position 9</p> |"
      ],
      "text/plain": [
       "<IPython.core.display.Markdown object>"
      ]
     },
     "metadata": {},
     "output_type": "display_data"
    }
   ],
   "source": [
    "import datetime\n",
    "today = str(datetime.date.today())\n",
    "logfile = f\"_build/html/logs/log-{today}.md\"\n",
    "\n",
    "\n",
    "with open(logfile, 'w') as logs:\n",
    "    # Success\n",
    "    logs.write(f'# Arxiv on Deck 2: Logs - {today}\\n\\n')\n",
    "    logs.write(\"\"\"* Arxiv had {0:,d} new papers\\n\"\"\".format(len(new_papers)))\n",
    "    logs.write(\"\"\"    * {0:,d} with possible author matches\\n\\n\"\"\".format(len(candidates)))\n",
    "    logs.write(\"## Sucessful papers\\n\\n\")\n",
    "    display(Markdown(\"## Successful papers\"))\n",
    "    success = [k[0] for k in documents]\n",
    "    for candid in candidates:\n",
    "        if candid['identifier'].split(':')[-1] in success:\n",
    "            display(candid)\n",
    "            logs.write(candid.generate_markdown_text() + '\\n\\n')\n",
    "\n",
    "    ## failed\n",
    "    logs.write(\"## Failed papers\\n\\n\")\n",
    "    display(Markdown(\"## Failed papers\"))\n",
    "    failed = sorted(failed, key=lambda x: x[1])\n",
    "    current_reason = \"\"\n",
    "    for paper, reason in failed:\n",
    "        if 'affiliation' in reason:\n",
    "            color = 'green'\n",
    "        else:\n",
    "            color = 'red'\n",
    "        data = Markdown(\n",
    "                paper.generate_markdown_text() + \n",
    "                f'\\n|<p style=\"color:{color:s}\"> **ERROR** </p>| <p style=\"color:{color:s}\">{reason:s}</p> |'\n",
    "               )\n",
    "        if reason != current_reason:\n",
    "            logs.write(f'### {reason:s} \\n\\n')\n",
    "            current_reason = reason\n",
    "        logs.write(data.data + '\\n\\n')\n",
    "        \n",
    "        # only display here the important errors (all in logs)\n",
    "        # if color in ('red',):\n",
    "        display(data)"
   ]
  },
  {
   "cell_type": "markdown",
   "id": "472d20ee",
   "metadata": {
    "papermill": {
     "duration": 0.005378,
     "end_time": "2023-12-15T04:09:32.512071",
     "exception": false,
     "start_time": "2023-12-15T04:09:32.506693",
     "status": "completed"
    },
    "tags": []
   },
   "source": [
    "## Export documents\n",
    "\n",
    "We now write the .md files and export relevant images"
   ]
  },
  {
   "cell_type": "code",
   "execution_count": 6,
   "id": "d426aed9",
   "metadata": {
    "execution": {
     "iopub.execute_input": "2023-12-15T04:09:32.524180Z",
     "iopub.status.busy": "2023-12-15T04:09:32.523634Z",
     "iopub.status.idle": "2023-12-15T04:09:32.529925Z",
     "shell.execute_reply": "2023-12-15T04:09:32.529367Z"
    },
    "papermill": {
     "duration": 0.013682,
     "end_time": "2023-12-15T04:09:32.531179",
     "exception": false,
     "start_time": "2023-12-15T04:09:32.517497",
     "status": "completed"
    },
    "tags": []
   },
   "outputs": [],
   "source": [
    "def export_markdown_summary(md: str, md_fname:str, directory: str):\n",
    "    \"\"\"Export MD document and associated relevant images\"\"\"\n",
    "    import os\n",
    "    import shutil\n",
    "    import re\n",
    "\n",
    "    if (os.path.exists(directory) and not os.path.isdir(directory)):\n",
    "        raise RuntimeError(f\"a non-directory file exists with name {directory:s}\")\n",
    "\n",
    "    if (not os.path.exists(directory)):\n",
    "        print(f\"creating directory {directory:s}\")\n",
    "        os.mkdir(directory)\n",
    "\n",
    "    fig_fnames = (re.compile(r'\\[Fig.*\\]\\((.*)\\)').findall(md) + \n",
    "                  re.compile(r'\\<img src=\"([^>\\s]*)\"[^>]*/>').findall(md))\n",
    "    for fname in fig_fnames:\n",
    "        if 'http' in fname:\n",
    "            # No need to copy online figures\n",
    "            continue\n",
    "        destdir = os.path.join(directory, os.path.dirname(fname))\n",
    "        destfname = os.path.join(destdir, os.path.basename(fname))\n",
    "        try:\n",
    "            os.makedirs(destdir)\n",
    "        except FileExistsError:\n",
    "            pass\n",
    "        shutil.copy(fname, destfname)\n",
    "    with open(os.path.join(directory, md_fname), 'w') as fout:\n",
    "        fout.write(md)\n",
    "    print(\"exported in \", os.path.join(directory, md_fname))\n",
    "    [print(\"    + \" + os.path.join(directory,fk)) for fk in fig_fnames]"
   ]
  },
  {
   "cell_type": "code",
   "execution_count": 7,
   "id": "014d04a4",
   "metadata": {
    "execution": {
     "iopub.execute_input": "2023-12-15T04:09:32.543185Z",
     "iopub.status.busy": "2023-12-15T04:09:32.542984Z",
     "iopub.status.idle": "2023-12-15T04:09:32.554778Z",
     "shell.execute_reply": "2023-12-15T04:09:32.554237Z"
    },
    "papermill": {
     "duration": 0.01932,
     "end_time": "2023-12-15T04:09:32.556080",
     "exception": false,
     "start_time": "2023-12-15T04:09:32.536760",
     "status": "completed"
    },
    "tags": []
   },
   "outputs": [
    {
     "name": "stdout",
     "output_type": "stream",
     "text": [
      "exported in  _build/html/2312.08464.md\n",
      "    + _build/html/tmp_2312.08464/./abc_example.png\n",
      "    + _build/html/tmp_2312.08464/./xqr30_abc_ghi.png\n",
      "    + _build/html/tmp_2312.08464/./xqr30_abc_ghi_obs_new.png\n",
      "    + _build/html/tmp_2312.08464/./xqr30_abc_ghi_models_new.png\n",
      "exported in  _build/html/2312.08819.md\n",
      "    + _build/html/tmp_2312.08819/./Continuum_contours3510.png\n",
      "    + _build/html/tmp_2312.08819/./diff_obs_2.png\n",
      "    + _build/html/tmp_2312.08819/./BrG_contours_Veloc3510.png\n",
      "exported in  _build/html/2312.08959.md\n",
      "    + _build/html/tmp_2312.08959/./Figures/ALESS_class_II_HST_images.png\n",
      "    + _build/html/tmp_2312.08959/./Figures/ALESS_041.1_fit_subplots_moment_1.png\n",
      "    + _build/html/tmp_2312.08959/./Figures/ALESS_041.1_fit_subplots_moment_2.png\n",
      "    + _build/html/tmp_2312.08959/./Figures/ALESS_071.1_fit_subplots_moment_1.png\n",
      "    + _build/html/tmp_2312.08959/./Figures/ALESS_071.1_fit_subplots_moment_2.png\n",
      "    + _build/html/tmp_2312.08959/./Figures/ALESS_075.1_fit_subplots_moment_1.png\n",
      "    + _build/html/tmp_2312.08959/./Figures/ALESS_075.1_fit_subplots_moment_2.png\n",
      "    + _build/html/tmp_2312.08959/./Figures/sims/sims_0.5arcsec.png\n",
      "    + _build/html/tmp_2312.08959/./Figures/sims/sims_1.0arcsec.png\n",
      "exported in  _build/html/2312.09156.md\n",
      "    + _build/html/tmp_2312.09156/./Figures/MR_plot.png\n",
      "    + _build/html/tmp_2312.09156/./Figures/TESS_sec1spocphase.png\n",
      "    + _build/html/tmp_2312.09156/./Figures/phased_RV.png\n"
     ]
    }
   ],
   "source": [
    "for paper_id, md in documents:\n",
    "    export_markdown_summary(md, f\"{paper_id:s}.md\", '_build/html/')"
   ]
  },
  {
   "cell_type": "markdown",
   "id": "f087a0a7",
   "metadata": {
    "papermill": {
     "duration": 0.005589,
     "end_time": "2023-12-15T04:09:32.567415",
     "exception": false,
     "start_time": "2023-12-15T04:09:32.561826",
     "status": "completed"
    },
    "tags": []
   },
   "source": [
    "## Display the papers\n",
    "\n",
    "Not necessary but allows for a quick check."
   ]
  },
  {
   "cell_type": "code",
   "execution_count": 8,
   "id": "fd25f625",
   "metadata": {
    "execution": {
     "iopub.execute_input": "2023-12-15T04:09:32.579840Z",
     "iopub.status.busy": "2023-12-15T04:09:32.579413Z",
     "iopub.status.idle": "2023-12-15T04:09:32.587580Z",
     "shell.execute_reply": "2023-12-15T04:09:32.587061Z"
    },
    "papermill": {
     "duration": 0.015774,
     "end_time": "2023-12-15T04:09:32.588914",
     "exception": false,
     "start_time": "2023-12-15T04:09:32.573140",
     "status": "completed"
    },
    "scrolled": false,
    "tags": []
   },
   "outputs": [
    {
     "data": {
      "text/markdown": [
       "<div class=\"macros\" style=\"visibility:hidden;\">\n",
       "$\\newcommand{\\ensuremath}{}$\n",
       "$\\newcommand{\\xspace}{}$\n",
       "$\\newcommand{\\object}[1]{\\texttt{#1}}$\n",
       "$\\newcommand{\\farcs}{{.}''}$\n",
       "$\\newcommand{\\farcm}{{.}'}$\n",
       "$\\newcommand{\\arcsec}{''}$\n",
       "$\\newcommand{\\arcmin}{'}$\n",
       "$\\newcommand{\\ion}[2]{#1#2}$\n",
       "$\\newcommand{\\textsc}[1]{\\textrm{#1}}$\n",
       "$\\newcommand{\\hl}[1]{\\textrm{#1}}$\n",
       "$\\newcommand{\\footnote}[1]{}$\n",
       "$\\newcommand{\\url}[1]{\\href{#1}{#1}}$\n",
       "$\\newcommand{\\dodoi}[1]{doi:~\\href{http://doi.org/#1}{\\nolinkurl{#1}}}$\n",
       "$\\newcommand{\\doeprint}[1]{\\href{http://ascl.net/#1}{\\nolinkurl{http://ascl.net/#1}}}$\n",
       "$\\newcommand{\\doarXiv}[1]{\\href{https://arxiv.org/abs/#1}{\\nolinkurl{https://arxiv.org/abs/#1}}}$\n",
       "$\\newcommand{\\HI}{\\mathrm{H I}}$\n",
       "$\\newcommand{\\HII}{\\mathrm{H II}}$\n",
       "$\\newcommand{\\HeI}{\\mathrm{He I}}$\n",
       "$\\newcommand{\\HeII}{\\mathrm{He II}}$\n",
       "$\\newcommand{\\HeIII}{\\mathrm{He III}}$\n",
       "$\\newcommand{\\GHI}{\\Gamma_{\\HI}}$\n",
       "$\\newcommand{\\GHeII}{\\Gamma_{\\HeII}}$\n",
       "$\\newcommand{\\etath}{\\eta_{\\mathrm{thin}}}$\n",
       "$\\newcommand{\\mfp}{\\lambda_{\\mathrm{mfp}}}$\n",
       "$\\newcommand{\\LLS}{\\mathrm{LLS}}$\n",
       "$\\newcommand{\\lya}{Ly\\alpha }$\n",
       "$\\newcommand{\\lyb}{Ly\\beta }$\n",
       "$\\newcommand{\\lyam}{{\\mathrm{Ly}\\alpha}}$\n",
       "$\\newcommand{\\lybm}{{\\mathrm{Ly}\\beta}}$\n",
       "$\\newcommand{\\lyab}{Ly\\alpha+\\beta}$\n",
       "$\\newcommand{\\lyabm}{{\\mathrm{Ly}\\alpha+\\beta}}$\n",
       "$\\newcommand{\\teff}{\\tau_\\mathrm{eff}}$\n",
       "$\\newcommand{\\chimp}{Mpc/h}$\n",
       "$\\newcommand{\\xhi}{\\langle x_{\\rm HI}\\rangle}$\n",
       "$\\newcommand{\\noop}[1]$\n",
       "$\\newcommand{\\}{natexlab}$</div>\n",
       "\n",
       "\n",
       "\n",
       "<div id=\"title\">\n",
       "\n",
       "# $\\bf$ $\\large$ Constraints on the Evolution of the Ionizing Background and Ionizing Photon Mean Free Path at the End of Reionization\n",
       "\n",
       "</div>\n",
       "<div id=\"comments\">\n",
       "\n",
       "[![arXiv](https://img.shields.io/badge/arXiv-2312.08464-b31b1b.svg)](https://arxiv.org/abs/2312.08464)<mark>Appeared on: 2023-12-15</mark> -  _23 pages, 13 figures, resubmitted to ApJ after referee's comments_\n",
       "\n",
       "</div>\n",
       "<div id=\"authors\">\n",
       "\n",
       "F. B. Davies, et al. -- incl., <mark>P. Gaikwad</mark>, <mark>F. Nasir</mark>\n",
       "\n",
       "</div>\n",
       "<div id=\"abstract\">\n",
       "\n",
       "**Abstract:** The variations in Ly $\\alpha$ forest opacity observed at $z>5.3$ between lines of sight to different background quasars are too strong to be caused by fluctuations in the density field alone. The leading hypothesis for the cause of this excess variance is a late, ongoing reionization process at redshifts below six. Another model proposes strong ionizing background fluctuations coupled to a short, spatially varying mean free path of ionizing photons, without explicitly invoking incomplete reionization. With recent observations suggesting a short mean free path at $z\\sim6$ , and a dramatic improvement in $z>5$ Ly $\\alpha$ forest data quality, we revisit this latter possibility. Here we apply the likelihood-free inference technique of approximate Bayesian computation to jointly constrain the hydrogen photoionization rate $\\Gamma_{\\rm HI}$ and the mean free path of ionizing photons $\\lambda_{\\rm mfp}$ from the effective optical depth distributions at $z=5.0$ -- $6.1$ from XQR-30. We find that the observations are well-described by fluctuating mean free path models with average mean free paths that are consistent with the steep trend implied by independent measurements at $z\\sim5$ -- $6$ , with a concomitant rapid evolution of the photoionization rate.\n",
       "\n",
       "</div>\n",
       "\n",
       "<div id=\"div_fig1\">\n",
       "\n",
       "<img src=\"tmp_2312.08464/./abc_example.png\" alt=\"Fig7\" width=\"100%\"/>\n",
       "\n",
       "**Figure 7. -** Demonstration of ABC on a mock data set. The blue and red curves in the left panel correspond to the cumulative distribution functions of Ly$\\alpha$ forest effective optical depth from a mock XQR-30 data set, with non-detections treated as optimistic ($F=2\\times\\sigma_F$) or pessimistic ($F=0$), respectively, following \\citet{Bosman18,Bosman22}. The shaded regions correspond to the central 95\\% of the scatter of additional mock data sets with $\\Gamma_{\\rm HI}$ and $\\lambda_{\\rm mfp}$ set to their mean posterior estimates. The grey points in the upper halves of the middle and right panels show the distance metric $\\rho$(equation \\ref{eqn:abcdist}) computed from 1,000,000 mock data sets. The horizontal lines show three different $\\rho$ thresholds below which lie 50\\%, 10\\%, and 0.1\\% of the mock data samples from top to bottom. The corresponding posterior PDFs on $\\Gamma_{\\rm HI}$ and $\\lambda_{\\rm mfp}$ are shown in the lower panels, with the true values indicated by the vertical dashed lines. (*fig:abcexample*)\n",
       "\n",
       "</div>\n",
       "<div id=\"div_fig2\">\n",
       "\n",
       "<img src=\"tmp_2312.08464/./xqr30_abc_ghi.png\" alt=\"Fig2\" width=\"100%\"/>\n",
       "\n",
       "**Figure 2. -** Posterior medians (black circles) and central 68\\% credible intervals (black thin error bars) on $\\Gamma_{\\rm HI}$ from the XQR-30 data set assuming $z_{\\rm re}=7.2$. The dark grey shaded region shows the deviation of the posterior medians for $z_{\\rm re}=6.7$ and $z_{\\rm re}=7.7$, while the light grey shaded region shows the range from more extreme thermal models with $z_{\\rm re}=6.2$ and $z_{\\rm re}\\sim15$. The open orange points show the constraints without the correction for the coarse redshift snapshot sampling (see Appendix \\ref{sec:appendix_snaps}). The purple crosses show the posterior medians from the self-consistent model in the $L=100$ Mpc$/h$ hydrodynamical simulation volume, see \\S \\ref{sec:selfcon}. (*fig:abcghi*)\n",
       "\n",
       "</div>\n",
       "<div id=\"div_fig3\">\n",
       "\n",
       "<img src=\"tmp_2312.08464/./xqr30_abc_ghi_obs_new.png\" alt=\"Fig9.1\" width=\"50%\"/><img src=\"tmp_2312.08464/./xqr30_abc_ghi_models_new.png\" alt=\"Fig9.2\" width=\"50%\"/>\n",
       "\n",
       "**Figure 9. -** Left: Comparison of our $\\Gamma_{\\rm HI}$ constraints (black points with error bars, including statistical and systematic uncertainty) to previous measurements from the literature: \\citet{Calverley11}(brown diamonds; quasar proximity zone profiles); \\citet{WB11}, \\citet{BB13}, and \\citet{D'Aloisio18}(pink crosses, blue pentagons, and orange triangles; mean Ly$\\alpha$ forest transmission); \\citet{Davies17}(red squares; Ly$\\alpha$ and Ly$\\beta$ transmission spikes). No corrections have been made for differences in cosmology or assumptions of the IGM thermal state between these works. The grey points show our constraints with an approximate correction for a bias due to the lack of self-consistency. Right: Comparison to theoretical models of the ionizing background (curves), computed from 1D cosmological radiative transfer calculations by \\citet{HM12}(purple), \\citet{KS19}(green), \\citet{FG20}(blue) and 3D radiation-hydrodynamic cosmological simulations by \\citet{Keating19}(brown), \\citet{Garaldi22}(orange; THESAN), and \\citet{Lewis22}(red; CoDa-III). (*fig:abcghi2*)\n",
       "\n",
       "</div><div id=\"qrcode\"><img src=https://api.qrserver.com/v1/create-qr-code/?size=100x100&data=\"https://arxiv.org/abs/2312.08464\"></div>"
      ],
      "text/plain": [
       "<IPython.core.display.Markdown object>"
      ]
     },
     "metadata": {},
     "output_type": "display_data"
    },
    {
     "data": {
      "text/markdown": [
       "<div class=\"macros\" style=\"visibility:hidden;\">\n",
       "$\\newcommand{\\ensuremath}{}$\n",
       "$\\newcommand{\\xspace}{}$\n",
       "$\\newcommand{\\object}[1]{\\texttt{#1}}$\n",
       "$\\newcommand{\\farcs}{{.}''}$\n",
       "$\\newcommand{\\farcm}{{.}'}$\n",
       "$\\newcommand{\\arcsec}{''}$\n",
       "$\\newcommand{\\arcmin}{'}$\n",
       "$\\newcommand{\\ion}[2]{#1#2}$\n",
       "$\\newcommand{\\textsc}[1]{\\textrm{#1}}$\n",
       "$\\newcommand{\\hl}[1]{\\textrm{#1}}$\n",
       "$\\newcommand{\\footnote}[1]{}$\n",
       "$\\newcommand{\\HI}{\\ion{H}{i}}$\n",
       "$\\newcommand{\\HeI}{\\ion{He}{i}}$\n",
       "$\\newcommand{\\um}{\\mum}$\n",
       "$\\newcommand{\\brg}{Br\\gamma}$\n",
       "$\\newcommand{\\kms}{km s^{-1}}$\n",
       "$\\newcommand{\\rstar}{R_*}$\n",
       "$\\newcommand{\\macc}{\\dot{M}_{acc}}$\n",
       "$\\newcommand{\\msunyr}{{M}_{\\odot}yr^{-1}}$\n",
       "$\\newcommand{\\lsun}{L_\\odot}$</div>\n",
       "\n",
       "\n",
       "\n",
       "<div id=\"title\">\n",
       "\n",
       "# The GRAVITY  young stellar object survey \n",
       "\n",
       "</div>\n",
       "<div id=\"comments\">\n",
       "\n",
       "[![arXiv](https://img.shields.io/badge/arXiv-2312.08819-b31b1b.svg)](https://arxiv.org/abs/2312.08819)<mark>Appeared on: 2023-12-15</mark> -  _accepted in A&A on 20/11/2023_\n",
       "\n",
       "</div>\n",
       "<div id=\"authors\">\n",
       "\n",
       "Y.-I. Bouarour, et al. -- incl., <mark>M. Flock</mark>, <mark>H. Linz</mark>\n",
       "\n",
       "</div>\n",
       "<div id=\"abstract\">\n",
       "\n",
       "**Abstract:** We aim to investigate the origin of the HI Br$\\gamma$ emission in young stars by using GRAVITY to image the innermost region of circumstellar disks, where important physical processes such as accretion and winds occur. With high spectral and angular resolution, we focus on studying the continuum and the HI Br$\\gamma$-emitting area of the Herbig star HD58647. Using VLTI-GRAVITY, we conducted observations of HD58647 with both high spectral and high angular resolution. Thanks to the extensive $uv$ coverage, we were able to obtain detailed images of the circumstellar environment at a sub-au scale, specifically capturing the continuum and the Br$\\gamma$-emitting region. Through the analysis of velocity-dispersed images and photocentre shifts, we were able to investigate the kinematics of the HI Br$\\gamma$-emitting region. The recovered continuum images show extended emission where the disk major axis is oriented along a position angle of 14\\degr. The size of the continuum emission at 5-sigma levels is $\\sim$ 1.5 times more extended than the sizes reported from geometrical fitting (3.69 mas $\\pm$ 0.02 mas). This result supports the existence of dust particles close to the stellar surface, screened from the stellar radiation by an optically thick gaseous disk. Moreover, for the first time with GRAVITY, the hot gas component of HD58647 traced by the Br$\\gamma$ ,has been imaged. This allowed us to constrain the size of the Br$\\gamma$-emitting region and study the kinematics of the hot gas; we find its velocity field to be roughly consistent with gas that obeys Keplerian motion. The velocity-dispersed images show that the size of the hot gas emission is from a more compact region than the continuum (2.3 mas $\\pm$ 0.2 mas). Finally, the line phases show that the emission is not entirely consistent with Keplerian rotation, hinting at a more complex structure in the hot gaseous disk. \n",
       "\n",
       "</div>\n",
       "\n",
       "<div id=\"div_fig1\">\n",
       "\n",
       "<img src=\"tmp_2312.08819/./Continuum_contours3510.png\" alt=\"Fig6\" width=\"100%\"/>\n",
       "\n",
       "**Figure 6. -** Results of the image reconstruction. ** Left:** K-band continuum reconstructed images of HD 58647 at different wavelengths (reported in the labels). North is up, and east is to the left. The white hollow ellipse at the lower-left corner of the bottom panel represents the size of the clean beam. Contours represent 3, 5, and 10 $\\sigma$ pixel significance levels. ** Middle and right:** Squared visibilities ($\\left|V\\right|^2$; middle panel) and closure phases (T3$_{\\phi}$; right panel)  as a function of the spatial frequency. The observed data with their corresponding error bars are represented as black dots, while the synthetic observables extracted from the reconstructed images are shown in colour. (*contIM*)\n",
       "\n",
       "</div>\n",
       "<div id=\"div_fig2\">\n",
       "\n",
       "<img src=\"tmp_2312.08819/./diff_obs_2.png\" alt=\"Fig2\" width=\"100%\"/>\n",
       "\n",
       "**Figure 2. -** Example of HR GRAVITY interferometric observations of HD 58647 around the $\\HI$\\brg line position taken in January 2020 using the (J3-J2-G2-A0) configuration. From top to bottom: HR spectrum (red) and photospheric-corrected spectrum (blue); spectrally dispersed visibility amplitudes; differential phases; and closure phases. Different colours represent different projected baselines and baseline orientations (PAs; visibilities and differential phase panels) or triplets (closure phase panel), as indicated in the middle-top and bottom panel, respectively. (*diffobs*)\n",
       "\n",
       "</div>\n",
       "<div id=\"div_fig3\">\n",
       "\n",
       "<img src=\"tmp_2312.08819/./BrG_contours_Veloc3510.png\" alt=\"Fig7\" width=\"100%\"/>\n",
       "\n",
       "**Figure 7. -** Results of the image reconstruction. ** Left:**$\\HI$\\brg line reconstructed images of HD 58647. North is up, and east is to the left. Contours represent 3, 5, and 10 $\\sigma$. ** Middle and right:** Comparison of the observed  continuum-subtracted visibility amplitudes and absolute  phases (black circles with error bars) with the synthetic observables extracted from the reconstructed image. (*velomaps*)\n",
       "\n",
       "</div><div id=\"qrcode\"><img src=https://api.qrserver.com/v1/create-qr-code/?size=100x100&data=\"https://arxiv.org/abs/2312.08819\"></div>"
      ],
      "text/plain": [
       "<IPython.core.display.Markdown object>"
      ]
     },
     "metadata": {},
     "output_type": "display_data"
    },
    {
     "data": {
      "text/markdown": [
       "<div class=\"macros\" style=\"visibility:hidden;\">\n",
       "$\\newcommand{\\ensuremath}{}$\n",
       "$\\newcommand{\\xspace}{}$\n",
       "$\\newcommand{\\object}[1]{\\texttt{#1}}$\n",
       "$\\newcommand{\\farcs}{{.}''}$\n",
       "$\\newcommand{\\farcm}{{.}'}$\n",
       "$\\newcommand{\\arcsec}{''}$\n",
       "$\\newcommand{\\arcmin}{'}$\n",
       "$\\newcommand{\\ion}[2]{#1#2}$\n",
       "$\\newcommand{\\textsc}[1]{\\textrm{#1}}$\n",
       "$\\newcommand{\\hl}[1]{\\textrm{#1}}$\n",
       "$\\newcommand{\\footnote}[1]{}$\n",
       "$\\newcommand{\\cmark}{\\ding{51}}$\n",
       "$\\newcommand{\\xmark}{\\ding{55}}$\n",
       "$\\newcommand{\\gs}{\\mathrel{\\raise0.35ex\\hbox{\\scriptstyle >}$\n",
       "$\\lower0.40ex\\hbox{{\\scriptstyle \\sim}}}}$\n",
       "$\\newcommand{\\ls}{\\mathrel{\\raise0.35ex\\hbox{\\scriptstyle <}$\n",
       "$\\lower0.40ex\\hbox{{\\scriptstyle \\sim}}}}$</div>\n",
       "\n",
       "\n",
       "\n",
       "<div id=\"title\">\n",
       "\n",
       "# The  kinematics of massive high-redshift dusty star-forming galaxies\n",
       "\n",
       "</div>\n",
       "<div id=\"comments\">\n",
       "\n",
       "[![arXiv](https://img.shields.io/badge/arXiv-2312.08959-b31b1b.svg)](https://arxiv.org/abs/2312.08959)<mark>Appeared on: 2023-12-15</mark> - \n",
       "\n",
       "</div>\n",
       "<div id=\"authors\">\n",
       "\n",
       "A. Amvrosiadis, et al. -- incl., <mark>F. Walter</mark>\n",
       "\n",
       "</div>\n",
       "<div id=\"abstract\">\n",
       "\n",
       "**Abstract:** We present a new method for modelling the kinematics of galaxies from interferometric observations by performing the optimization of the kinematic model parameters directly in visibility-space instead of the conventional approach of fitting velocity fields produced with the ${\\sc clean}$ algorithm in  real-space. We demonstrate our method on ALMA observations of $^{12}$ CO (2 $-$ 1), (3 $-$ 2) or (4 $-$ 3) emission lines from an initial sample of 30 massive 850 $\\mu$ m-selected dusty star-forming galaxies with far-infrared luminosities $\\gtrsim 10^{12} $ L $_{\\odot}$ in the redshift range $z \\sim$ 1.2--4.7. Using the results from our modelling analysis for the 12 sources with the highest signal-to-noise emission lines and disk-like kinematics, we conclude the following: (i) Our sample prefers a CO-to- $H_2$ conversion factor,  of $\\alpha_{\\rm CO} = 0.92 \\pm 0.36$ ; (ii) These far-infrared luminous galaxies follow a similar Tully--Fisher relation between the circularized velocity, $V_{\\rm circ}$ , and baryonic mass, $M_{\\rm b}$ , as more typical star-forming samples at high redshift, but extend this relation to much higher masses -- showing that these are some of the most massive disk-like galaxies in the Universe; (iii) Finally, we demonstrate support for an evolutionary link between massive high-redshift dusty star-forming galaxies and the formation of local early-type galaxies using the both the distributions of the  baryonic and kinematic masses of these two populations on the $M_{\\rm b}$ -- $\\sigma$ plane and their relative space densities.\n",
       "\n",
       "</div>\n",
       "\n",
       "<div id=\"div_fig1\">\n",
       "\n",
       "<img src=\"tmp_2312.08959/./Figures/ALESS_class_II_HST_images.png\" alt=\"Fig2\" width=\"100%\"/>\n",
       "\n",
       "**Figure 2. -** HST images (greyscale) of three of the Class \\Romannum{2} sources in our sample (ALESS 088.1, 101.1, 112.1). The blue contours show the distribution of the CO emission, while the HST imaging suggests potentially complex morphologies for these sources. (*fig:figure_1_for_Appendix_A*)\n",
       "\n",
       "</div>\n",
       "<div id=\"div_fig2\">\n",
       "\n",
       "<img src=\"tmp_2312.08959/./Figures/ALESS_041.1_fit_subplots_moment_1.png\" alt=\"Fig1.1\" width=\"16%\"/><img src=\"tmp_2312.08959/./Figures/ALESS_041.1_fit_subplots_moment_2.png\" alt=\"Fig1.2\" width=\"16%\"/><img src=\"tmp_2312.08959/./Figures/ALESS_071.1_fit_subplots_moment_1.png\" alt=\"Fig1.3\" width=\"16%\"/><img src=\"tmp_2312.08959/./Figures/ALESS_071.1_fit_subplots_moment_2.png\" alt=\"Fig1.4\" width=\"16%\"/><img src=\"tmp_2312.08959/./Figures/ALESS_075.1_fit_subplots_moment_1.png\" alt=\"Fig1.5\" width=\"16%\"/><img src=\"tmp_2312.08959/./Figures/ALESS_075.1_fit_subplots_moment_2.png\" alt=\"Fig1.6\" width=\"16%\"/>\n",
       "\n",
       "**Figure 1. -** \n",
       "  Moment 1 (velocity; left column) and 2 (dispersion; right column) maps for three example sources in our sample (the name of each source is indicated at the top left corner). From left to right in each row we show the observed data, the maximum likelihood model and residual dirty moment maps (the moment maps were computed after masking any emission below $3\\sigma$). In these example sources (as well as for the other sources regarded as well described by our rotating disk model; see Section \\ref{sec:model_observations}) the model does a good job at reproducing the observed data. The black dotted line in each panel corresponds to the best-fit position angle, $\\theta$, of the major axis. The black ellipse in the bottom left corner represents the beam.  (*fig:figure_2*)\n",
       "\n",
       "</div>\n",
       "<div id=\"div_fig3\">\n",
       "\n",
       "<img src=\"tmp_2312.08959/./Figures/sims/sims_0.5arcsec.png\" alt=\"Fig3.1\" width=\"50%\"/><img src=\"tmp_2312.08959/./Figures/sims/sims_1.0arcsec.png\" alt=\"Fig3.2\" width=\"50%\"/>\n",
       "\n",
       "**Figure 3. -** Output versus input values for the two main parameters of interest, the maximum rotation velocity ($V_{\\rm max}$) and the velocity dispersion ($\\sigma$), color-coded by the true inclination. The different columns corresponds to datasets with different SNR, indicated at the top left corner of each panel. The top and bottom figures correspond to datasets with different resolution, 0.5 arcsec and 1.0 arcsec, respectively. (*fig:sims*)\n",
       "\n",
       "</div><div id=\"qrcode\"><img src=https://api.qrserver.com/v1/create-qr-code/?size=100x100&data=\"https://arxiv.org/abs/2312.08959\"></div>"
      ],
      "text/plain": [
       "<IPython.core.display.Markdown object>"
      ]
     },
     "metadata": {},
     "output_type": "display_data"
    },
    {
     "data": {
      "text/markdown": [
       "<div class=\"macros\" style=\"visibility:hidden;\">\n",
       "$\\newcommand{\\ensuremath}{}$\n",
       "$\\newcommand{\\xspace}{}$\n",
       "$\\newcommand{\\object}[1]{\\texttt{#1}}$\n",
       "$\\newcommand{\\farcs}{{.}''}$\n",
       "$\\newcommand{\\farcm}{{.}'}$\n",
       "$\\newcommand{\\arcsec}{''}$\n",
       "$\\newcommand{\\arcmin}{'}$\n",
       "$\\newcommand{\\ion}[2]{#1#2}$\n",
       "$\\newcommand{\\textsc}[1]{\\textrm{#1}}$\n",
       "$\\newcommand{\\hl}[1]{\\textrm{#1}}$\n",
       "$\\newcommand{\\footnote}[1]{}$\n",
       "$\\newcommand{\\mass}{M_2~=~0.0986~\\pm 0.0038~ \\mathrm{M_{\\sun}}}$\n",
       "$\\newcommand{\\radius}{R_2 =~0.1275~\\pm0.0020~ \\mathrm{R_{\\sun}}}$\n",
       "$\\newcommand{\\period}{P =~44.92471~\\pm0.00025~ \\rm{ day}}$\n",
       "$\\newcommand{\\loggsec}{\\log g_2 = 5.222 \\pm 0.0135}$\n",
       "$\\newcommand{\\massfunction}{f_m = 0.0008127\\pm0.0000028~ \\mathrm{M_{\\sun}}}$\n",
       "$\\newcommand{\\eccentricity}{e = 0.56767 \\pm 0.00045}$\n",
       "$\\newcommand{\\massratio}{q = 0.0999 \\pm 0.0022 }$\n",
       "$\\newcommand{\\arraystretch}{1.3}$\n",
       "$\\newcommand{\\arraystretch}{1.3}$\n",
       "$\\newcommand{\\thebibliography}{\\DeclareRobustCommand{\\VAN}[3]{##3}\\VANthebibliography}$</div>\n",
       "\n",
       "\n",
       "\n",
       "<div id=\"title\">\n",
       "\n",
       "# The EBLM Project XII.  An eccentric, long-period eclipsing binary with a companion near the hydrogen-burning limit\n",
       "\n",
       "</div>\n",
       "<div id=\"comments\">\n",
       "\n",
       "[![arXiv](https://img.shields.io/badge/arXiv-2312.09156-b31b1b.svg)](https://arxiv.org/abs/2312.09156)<mark>Appeared on: 2023-12-15</mark> -  _Resubmitted to MNRAS after positive review_\n",
       "\n",
       "</div>\n",
       "<div id=\"authors\">\n",
       "\n",
       "Y. T. Davis, et al. -- incl., <mark>T. Trifonov</mark>\n",
       "\n",
       "</div>\n",
       "<div id=\"abstract\">\n",
       "\n",
       "**Abstract:** In the hunt for Earth-like exoplanets it is crucial to have reliable host star parameters, as they have a direct impact on the accuracy and precision of the inferred parameters for any discovered exoplanet. For stars with masses between 0.35 and 0.5 ${\\rm M_{\\sun}}$ an unexplained radius inflation is observed relative to typical stellar models. However, for fully convective objects with a mass below 0.35 ${\\rm M_{\\sun}}$ it is not known whether this radius inflation is present as there are fewer objects with accurate measurements in this regime. Low-mass eclipsing binaries present a unique opportunity to determine empirical masses and radii for these low-mass stars. Here we report on such a star, EBLM J2114-39 B. We have used HARPS and FEROS radial-velocities and _TESS_ photometry to perform a joint fit of the data, and produce one of the most precise estimates of a very low mass star's parameters. Using a precise and accurate radius for the primary star using $_ Gaia_$ DR3 data, we determine J2114-39 to be a $M_1 = 0.987 \\pm 0.059$  ${\\rm M_{\\sun}}$ primary star hosting a fully convective secondary with mass $\\mass$ , which lies in a poorly populated region of parameter space. With a radius $\\radius$ , similar to TRAPPIST-1, we see no significant evidence of radius inflation in this system when compared to stellar evolution models. We speculate that stellar models in the regime where radius inflation is observed might be affected by how convective overshooting is treated.\n",
       "\n",
       "</div>\n",
       "\n",
       "<div id=\"div_fig1\">\n",
       "\n",
       "<img src=\"tmp_2312.09156/./Figures/MR_plot.png\" alt=\"Fig3\" width=\"100%\"/>\n",
       "\n",
       "**Figure 3. -** \n",
       "    Mass-radius diagram with logarithmic mass axis, showing published single-lined systems (SB1) in grey, double-lined binaries (SB2) in black and EBLM J2114-39 in coral colour. The $1 \\rm Gyr$ and $5 \\rm Gyr$ isochrones are shown in purple and teal respectively. The lower panel highlights differences between the objects and the $5 \\rm Gyr$ isochrone. Black and grey data points from compendium (and cited papers) in [ and Triaud (2020)](https://ui.adsabs.harvard.edu/abs/2020NatAs...4..650T), with additional points from [ and Morales (2009)](https://ui.adsabs.harvard.edu/abs/2009ApJ...691.1400M).\n",
       "     (*fig:mass_radius_plot*)\n",
       "\n",
       "</div>\n",
       "<div id=\"div_fig2\">\n",
       "\n",
       "<img src=\"tmp_2312.09156/./Figures/TESS_sec1spocphase.png\" alt=\"Fig1\" width=\"100%\"/>\n",
       "\n",
       "**Figure 1. -** \n",
       "    Top panel: Raw _ TESS_ data in purple with 20 random samples of the GP from the MCMC modelling the additional noise in blue. Middle panel: The phase-shifted eclipse of EBLM J2114-39, data shown in purple after the signal modelled by the GP has been removed. Twenty random samples from the MCMC run are displayed in teal colour. Bottom panel: The residuals to the best fit model. (*fig:phased_light_curve*)\n",
       "\n",
       "</div>\n",
       "<div id=\"div_fig3\">\n",
       "\n",
       "<img src=\"tmp_2312.09156/./Figures/phased_RV.png\" alt=\"Fig2\" width=\"100%\"/>\n",
       "\n",
       "**Figure 2. -** \n",
       "    Phased radial-velocity measurements for EBLM J2114-39 from the HARPS (in purple) and FEROS (in pink) spectrographs. A sample of 20 random models from the MCMC are shown in teal colour. The residuals to best fit model are shown in the lower panel. (*fig:phased_rv*)\n",
       "\n",
       "</div><div id=\"qrcode\"><img src=https://api.qrserver.com/v1/create-qr-code/?size=100x100&data=\"https://arxiv.org/abs/2312.09156\"></div>"
      ],
      "text/plain": [
       "<IPython.core.display.Markdown object>"
      ]
     },
     "metadata": {},
     "output_type": "display_data"
    }
   ],
   "source": [
    "[display(Markdown(k[1])) for k in documents];"
   ]
  },
  {
   "cell_type": "markdown",
   "id": "873873a4",
   "metadata": {
    "papermill": {
     "duration": 0.006141,
     "end_time": "2023-12-15T04:09:32.601427",
     "exception": false,
     "start_time": "2023-12-15T04:09:32.595286",
     "status": "completed"
    },
    "tags": []
   },
   "source": [
    "# Create HTML index"
   ]
  },
  {
   "cell_type": "code",
   "execution_count": 9,
   "id": "cf665672",
   "metadata": {
    "execution": {
     "iopub.execute_input": "2023-12-15T04:09:32.614884Z",
     "iopub.status.busy": "2023-12-15T04:09:32.614464Z",
     "iopub.status.idle": "2023-12-15T04:09:32.623998Z",
     "shell.execute_reply": "2023-12-15T04:09:32.623481Z"
    },
    "papermill": {
     "duration": 0.017622,
     "end_time": "2023-12-15T04:09:32.625273",
     "exception": false,
     "start_time": "2023-12-15T04:09:32.607651",
     "status": "completed"
    },
    "tags": []
   },
   "outputs": [
    {
     "name": "stdout",
     "output_type": "stream",
     "text": [
      "343  publications files modified in the last 7 days.\n"
     ]
    }
   ],
   "source": [
    "from datetime import datetime, timedelta, timezone\n",
    "from glob import glob\n",
    "import os\n",
    "\n",
    "files = glob('_build/html/*.md')\n",
    "days = 7\n",
    "now = datetime.today()\n",
    "res = []\n",
    "for fk in files:\n",
    "    stat_result = os.stat(fk).st_ctime\n",
    "    modified = datetime.fromtimestamp(stat_result, tz=timezone.utc).replace(tzinfo=None)\n",
    "    delta = now.today() - modified\n",
    "    if delta <= timedelta(days=days):\n",
    "        res.append((delta.seconds, fk))\n",
    "res = [k[1] for k in reversed(sorted(res, key=lambda x:x[1]))]\n",
    "npub = len(res)\n",
    "print(len(res), f\" publications files modified in the last {days:d} days.\")\n",
    "# [ print('\\t', k) for k in res ];"
   ]
  },
  {
   "cell_type": "code",
   "execution_count": 10,
   "id": "015de740",
   "metadata": {
    "execution": {
     "iopub.execute_input": "2023-12-15T04:09:32.639024Z",
     "iopub.status.busy": "2023-12-15T04:09:32.638604Z",
     "iopub.status.idle": "2023-12-15T04:09:32.658913Z",
     "shell.execute_reply": "2023-12-15T04:09:32.658380Z"
    },
    "papermill": {
     "duration": 0.028606,
     "end_time": "2023-12-15T04:09:32.660251",
     "exception": false,
     "start_time": "2023-12-15T04:09:32.631645",
     "status": "completed"
    },
    "tags": []
   },
   "outputs": [
    {
     "name": "stdout",
     "output_type": "stream",
     "text": [
      "8  publications in the last 7 days.\n"
     ]
    }
   ],
   "source": [
    "import datetime\n",
    "from glob import glob\n",
    "\n",
    "def get_last_n_days(lst, days=1):\n",
    "    \"\"\" Get the documents from the last n days \"\"\"\n",
    "    sorted_lst = sorted(lst, key=lambda x: x[1], reverse=True)\n",
    "    for fname, date in sorted_lst:\n",
    "        if date >= str(datetime.date.today() - datetime.timedelta(days=days)):\n",
    "            yield fname\n",
    "\n",
    "def extract_appearance_dates(lst_file):\n",
    "    dates = []\n",
    "\n",
    "    def get_date(line):\n",
    "        return line\\\n",
    "            .split('Appeared on:')[-1]\\\n",
    "            .split('</mark>')[0].strip()\n",
    "\n",
    "    for fname in lst:\n",
    "        with open(fname, 'r') as f:\n",
    "            found_date = False\n",
    "            for line in f:\n",
    "                if not found_date:\n",
    "                    if \"Appeared on\" in line:\n",
    "                        found_date = True\n",
    "                        dates.append((fname, get_date(line)))\n",
    "                else:\n",
    "                    break\n",
    "    return dates\n",
    "\n",
    "from glob import glob\n",
    "lst = glob('_build/html/*md')\n",
    "days = 7\n",
    "dates = extract_appearance_dates(lst)\n",
    "res = list(get_last_n_days(dates, days))\n",
    "npub = len(res)\n",
    "print(len(res), f\" publications in the last {days:d} days.\")"
   ]
  },
  {
   "cell_type": "code",
   "execution_count": 11,
   "id": "52ca0208",
   "metadata": {
    "execution": {
     "iopub.execute_input": "2023-12-15T04:09:32.674138Z",
     "iopub.status.busy": "2023-12-15T04:09:32.673765Z",
     "iopub.status.idle": "2023-12-15T04:09:32.678544Z",
     "shell.execute_reply": "2023-12-15T04:09:32.677990Z"
    },
    "papermill": {
     "duration": 0.013117,
     "end_time": "2023-12-15T04:09:32.679822",
     "exception": false,
     "start_time": "2023-12-15T04:09:32.666705",
     "status": "completed"
    },
    "scrolled": false,
    "tags": []
   },
   "outputs": [],
   "source": [
    "def create_carousel(npub=4):\n",
    "    \"\"\" Generate the HTML code for a carousel with `npub` slides \"\"\"\n",
    "    carousel = [\"\"\"  <div class=\"carousel\" \"\"\",\n",
    "                \"\"\"       data-flickity='{ \"autoPlay\": 10000, \"adaptiveHeight\": true, \"resize\": true, \"wrapAround\": true, \"pauseAutoPlayOnHover\": true, \"groupCells\": 1 }' id=\"asyncTypeset\">\"\"\"\n",
    "                ]\n",
    "    \n",
    "    item_str = \"\"\"    <div class=\"carousel-cell\"> <div id=\"slide{k}\" class=\"md_view\">Content {k}</div> </div>\"\"\"\n",
    "    for k in range(1, npub + 1):\n",
    "        carousel.append(item_str.format(k=k))\n",
    "    carousel.append(\"  </div>\")\n",
    "    return '\\n'.join(carousel)\n",
    "\n",
    "def create_grid(npub=4):\n",
    "    \"\"\" Generate the HTML code for a flat grid with `npub` slides \"\"\"\n",
    "    grid = [\"\"\"  <div class=\"grid\"> \"\"\",\n",
    "                ]\n",
    "    \n",
    "    item_str = \"\"\"    <div class=\"grid-item\"> <div id=\"slide{k}\" class=\"md_view\">Content {k}</div> </div>\"\"\"\n",
    "    for k in range(1, npub + 1):\n",
    "        grid.append(item_str.format(k=k))\n",
    "    grid.append(\"  </div>\")\n",
    "    return '\\n'.join(grid)"
   ]
  },
  {
   "cell_type": "code",
   "execution_count": 12,
   "id": "a6eac5b6",
   "metadata": {
    "execution": {
     "iopub.execute_input": "2023-12-15T04:09:32.693536Z",
     "iopub.status.busy": "2023-12-15T04:09:32.693356Z",
     "iopub.status.idle": "2023-12-15T04:09:32.698376Z",
     "shell.execute_reply": "2023-12-15T04:09:32.697847Z"
    },
    "papermill": {
     "duration": 0.013307,
     "end_time": "2023-12-15T04:09:32.699619",
     "exception": false,
     "start_time": "2023-12-15T04:09:32.686312",
     "status": "completed"
    },
    "scrolled": false,
    "tags": []
   },
   "outputs": [],
   "source": [
    "carousel = create_carousel(npub)\n",
    "docs = ', '.join(['\"{0:s}\"'.format(k.split('/')[-1]) for k in res])\n",
    "slides = ', '.join([f'\"slide{k}\"' for k in range(1, npub + 1)])\n",
    "\n",
    "with open(\"daily_template.html\", \"r\") as tpl:\n",
    "    page = tpl.read()\n",
    "    page = page.replace(\"{%-- carousel:s --%}\", carousel)\\\n",
    "               .replace(\"{%-- suptitle:s --%}\",  \"7-day archives\" )\\\n",
    "               .replace(\"{%-- docs:s --%}\", docs)\\\n",
    "               .replace(\"{%-- slides:s --%}\", slides)\n",
    "    \n",
    "with open(\"_build/html/index_7days.html\", 'w') as fout:\n",
    "    fout.write(page)"
   ]
  },
  {
   "cell_type": "code",
   "execution_count": 13,
   "id": "adc1a1ec",
   "metadata": {
    "execution": {
     "iopub.execute_input": "2023-12-15T04:09:32.713680Z",
     "iopub.status.busy": "2023-12-15T04:09:32.713246Z",
     "iopub.status.idle": "2023-12-15T04:09:32.719711Z",
     "shell.execute_reply": "2023-12-15T04:09:32.719188Z"
    },
    "papermill": {
     "duration": 0.014831,
     "end_time": "2023-12-15T04:09:32.721029",
     "exception": false,
     "start_time": "2023-12-15T04:09:32.706198",
     "status": "completed"
    },
    "tags": []
   },
   "outputs": [
    {
     "name": "stdout",
     "output_type": "stream",
     "text": [
      "4  publications in the last day.\n"
     ]
    }
   ],
   "source": [
    "# redo for today\n",
    "days = 1\n",
    "res = list(get_last_n_days(dates, days))\n",
    "npub = len(res)\n",
    "print(len(res), f\" publications in the last day.\")\n",
    "\n",
    "carousel = create_carousel(npub)\n",
    "docs = ', '.join(['\"{0:s}\"'.format(k.split('/')[-1]) for k in res])\n",
    "slides = ', '.join([f'\"slide{k}\"' for k in range(1, npub + 1)])\n",
    "\n",
    "with open(\"daily_template.html\", \"r\") as tpl:\n",
    "    page = tpl.read()\n",
    "    page = page.replace(\"{%-- carousel:s --%}\", carousel)\\\n",
    "               .replace(\"{%-- suptitle:s --%}\",  \"Daily\" )\\\n",
    "               .replace(\"{%-- docs:s --%}\", docs)\\\n",
    "               .replace(\"{%-- slides:s --%}\", slides)\n",
    "    \n",
    "# print(carousel, docs, slides)\n",
    "# print(page)\n",
    "with open(\"_build/html/index_daily.html\", 'w') as fout:\n",
    "    fout.write(page)"
   ]
  },
  {
   "cell_type": "code",
   "execution_count": 14,
   "id": "00eece82",
   "metadata": {
    "execution": {
     "iopub.execute_input": "2023-12-15T04:09:32.735095Z",
     "iopub.status.busy": "2023-12-15T04:09:32.734698Z",
     "iopub.status.idle": "2023-12-15T04:09:32.741100Z",
     "shell.execute_reply": "2023-12-15T04:09:32.740479Z"
    },
    "papermill": {
     "duration": 0.014842,
     "end_time": "2023-12-15T04:09:32.742429",
     "exception": false,
     "start_time": "2023-12-15T04:09:32.727587",
     "status": "completed"
    },
    "scrolled": false,
    "tags": []
   },
   "outputs": [
    {
     "name": "stdout",
     "output_type": "stream",
     "text": [
      "6  6 publications selected.\n"
     ]
    }
   ],
   "source": [
    "# Create the flat grid of the last N papers (fixed number regardless of dates)\n",
    "from itertools import islice \n",
    "\n",
    "npub = 6\n",
    "res = [k[0] for k in (islice(reversed(sorted(dates, key=lambda x: x[1])), 6))]\n",
    "print(len(res), f\" {npub} publications selected.\")\n",
    "\n",
    "grid = create_grid(npub)\n",
    "docs = ', '.join(['\"{0:s}\"'.format(k.split('/')[-1]) for k in res])\n",
    "slides = ', '.join([f'\"slide{k}\"' for k in range(1, npub + 1)])\n",
    "\n",
    "with open(\"grid_template.html\", \"r\") as tpl:\n",
    "    page = tpl.read()\n",
    "    page = page.replace(\"{%-- grid-content:s --%}\", grid)\\\n",
    "               .replace(\"{%-- suptitle:s --%}\",  f\"Last {npub:,d} papers\" )\\\n",
    "               .replace(\"{%-- docs:s --%}\", docs)\\\n",
    "               .replace(\"{%-- slides:s --%}\", slides)\n",
    "    \n",
    "# print(grid, docs, slides)\n",
    "# print(page)\n",
    "with open(\"_build/html/index_npub_grid.html\", 'w') as fout:\n",
    "    fout.write(page)"
   ]
  }
 ],
 "metadata": {
  "kernelspec": {
   "display_name": "Python 3 (ipykernel)",
   "language": "python",
   "name": "python3"
  },
  "language_info": {
   "codemirror_mode": {
    "name": "ipython",
    "version": 3
   },
   "file_extension": ".py",
   "mimetype": "text/x-python",
   "name": "python",
   "nbconvert_exporter": "python",
   "pygments_lexer": "ipython3",
   "version": "3.9.18"
  },
  "papermill": {
   "default_parameters": {},
   "duration": 79.877689,
   "end_time": "2023-12-15T04:09:32.965055",
   "environment_variables": {},
   "exception": null,
   "input_path": "MPIA daily digest.ipynb",
   "output_path": "log.ipynb",
   "parameters": {},
   "start_time": "2023-12-15T04:08:13.087366",
   "version": "2.5.0"
  },
  "vscode": {
   "interpreter": {
    "hash": "aee8b7b246df8f9039afb4144a1f6fd8d2ca17a180786b69acc140d282b71a49"
   }
  },
  "widgets": {
   "application/vnd.jupyter.widget-state+json": {
    "state": {
     "05f07391fec44d15bef07a270f271e94": {
      "model_module": "@jupyter-widgets/base",
      "model_module_version": "2.0.0",
      "model_name": "LayoutModel",
      "state": {
       "_model_module": "@jupyter-widgets/base",
       "_model_module_version": "2.0.0",
       "_model_name": "LayoutModel",
       "_view_count": null,
       "_view_module": "@jupyter-widgets/base",
       "_view_module_version": "2.0.0",
       "_view_name": "LayoutView",
       "align_content": null,
       "align_items": null,
       "align_self": null,
       "border_bottom": null,
       "border_left": null,
       "border_right": null,
       "border_top": null,
       "bottom": null,
       "display": null,
       "flex": null,
       "flex_flow": null,
       "grid_area": null,
       "grid_auto_columns": null,
       "grid_auto_flow": null,
       "grid_auto_rows": null,
       "grid_column": null,
       "grid_gap": null,
       "grid_row": null,
       "grid_template_areas": null,
       "grid_template_columns": null,
       "grid_template_rows": null,
       "height": null,
       "justify_content": null,
       "justify_items": null,
       "left": null,
       "margin": null,
       "max_height": null,
       "max_width": null,
       "min_height": null,
       "min_width": null,
       "object_fit": null,
       "object_position": null,
       "order": null,
       "overflow": null,
       "padding": null,
       "right": null,
       "top": null,
       "visibility": null,
       "width": null
      }
     },
     "5f598d0642ee4429880685528467e216": {
      "model_module": "@jupyter-widgets/controls",
      "model_module_version": "2.0.0",
      "model_name": "HTMLModel",
      "state": {
       "_dom_classes": [],
       "_model_module": "@jupyter-widgets/controls",
       "_model_module_version": "2.0.0",
       "_model_name": "HTMLModel",
       "_view_count": null,
       "_view_module": "@jupyter-widgets/controls",
       "_view_module_version": "2.0.0",
       "_view_name": "HTMLView",
       "description": "",
       "description_allow_html": false,
       "layout": "IPY_MODEL_7e66689495104e6fb0a239001cca4c77",
       "placeholder": "​",
       "style": "IPY_MODEL_9ab49732bfb24bf9b78c97df0a858f6a",
       "tabbable": null,
       "tooltip": null,
       "value": "100%"
      }
     },
     "6205c01c662749a7ac105149ea6646bc": {
      "model_module": "@jupyter-widgets/controls",
      "model_module_version": "2.0.0",
      "model_name": "FloatProgressModel",
      "state": {
       "_dom_classes": [],
       "_model_module": "@jupyter-widgets/controls",
       "_model_module_version": "2.0.0",
       "_model_name": "FloatProgressModel",
       "_view_count": null,
       "_view_module": "@jupyter-widgets/controls",
       "_view_module_version": "2.0.0",
       "_view_name": "ProgressView",
       "bar_style": "success",
       "description": "",
       "description_allow_html": false,
       "layout": "IPY_MODEL_05f07391fec44d15bef07a270f271e94",
       "max": 5.0,
       "min": 0.0,
       "orientation": "horizontal",
       "style": "IPY_MODEL_ce74e168f26b401b9ea7cfa4d7625310",
       "tabbable": null,
       "tooltip": null,
       "value": 5.0
      }
     },
     "699858991cfa4327b9a09374c0f5de5e": {
      "model_module": "@jupyter-widgets/controls",
      "model_module_version": "2.0.0",
      "model_name": "HTMLStyleModel",
      "state": {
       "_model_module": "@jupyter-widgets/controls",
       "_model_module_version": "2.0.0",
       "_model_name": "HTMLStyleModel",
       "_view_count": null,
       "_view_module": "@jupyter-widgets/base",
       "_view_module_version": "2.0.0",
       "_view_name": "StyleView",
       "background": null,
       "description_width": "",
       "font_size": null,
       "text_color": null
      }
     },
     "7e66689495104e6fb0a239001cca4c77": {
      "model_module": "@jupyter-widgets/base",
      "model_module_version": "2.0.0",
      "model_name": "LayoutModel",
      "state": {
       "_model_module": "@jupyter-widgets/base",
       "_model_module_version": "2.0.0",
       "_model_name": "LayoutModel",
       "_view_count": null,
       "_view_module": "@jupyter-widgets/base",
       "_view_module_version": "2.0.0",
       "_view_name": "LayoutView",
       "align_content": null,
       "align_items": null,
       "align_self": null,
       "border_bottom": null,
       "border_left": null,
       "border_right": null,
       "border_top": null,
       "bottom": null,
       "display": null,
       "flex": null,
       "flex_flow": null,
       "grid_area": null,
       "grid_auto_columns": null,
       "grid_auto_flow": null,
       "grid_auto_rows": null,
       "grid_column": null,
       "grid_gap": null,
       "grid_row": null,
       "grid_template_areas": null,
       "grid_template_columns": null,
       "grid_template_rows": null,
       "height": null,
       "justify_content": null,
       "justify_items": null,
       "left": null,
       "margin": null,
       "max_height": null,
       "max_width": null,
       "min_height": null,
       "min_width": null,
       "object_fit": null,
       "object_position": null,
       "order": null,
       "overflow": null,
       "padding": null,
       "right": null,
       "top": null,
       "visibility": null,
       "width": null
      }
     },
     "93728e51086a4245bd224ee7b0d56d33": {
      "model_module": "@jupyter-widgets/base",
      "model_module_version": "2.0.0",
      "model_name": "LayoutModel",
      "state": {
       "_model_module": "@jupyter-widgets/base",
       "_model_module_version": "2.0.0",
       "_model_name": "LayoutModel",
       "_view_count": null,
       "_view_module": "@jupyter-widgets/base",
       "_view_module_version": "2.0.0",
       "_view_name": "LayoutView",
       "align_content": null,
       "align_items": null,
       "align_self": null,
       "border_bottom": null,
       "border_left": null,
       "border_right": null,
       "border_top": null,
       "bottom": null,
       "display": null,
       "flex": null,
       "flex_flow": null,
       "grid_area": null,
       "grid_auto_columns": null,
       "grid_auto_flow": null,
       "grid_auto_rows": null,
       "grid_column": null,
       "grid_gap": null,
       "grid_row": null,
       "grid_template_areas": null,
       "grid_template_columns": null,
       "grid_template_rows": null,
       "height": null,
       "justify_content": null,
       "justify_items": null,
       "left": null,
       "margin": null,
       "max_height": null,
       "max_width": null,
       "min_height": null,
       "min_width": null,
       "object_fit": null,
       "object_position": null,
       "order": null,
       "overflow": null,
       "padding": null,
       "right": null,
       "top": null,
       "visibility": null,
       "width": null
      }
     },
     "9ab49732bfb24bf9b78c97df0a858f6a": {
      "model_module": "@jupyter-widgets/controls",
      "model_module_version": "2.0.0",
      "model_name": "HTMLStyleModel",
      "state": {
       "_model_module": "@jupyter-widgets/controls",
       "_model_module_version": "2.0.0",
       "_model_name": "HTMLStyleModel",
       "_view_count": null,
       "_view_module": "@jupyter-widgets/base",
       "_view_module_version": "2.0.0",
       "_view_name": "StyleView",
       "background": null,
       "description_width": "",
       "font_size": null,
       "text_color": null
      }
     },
     "9ba824c6f18c4eb68a1a4a21de642c70": {
      "model_module": "@jupyter-widgets/base",
      "model_module_version": "2.0.0",
      "model_name": "LayoutModel",
      "state": {
       "_model_module": "@jupyter-widgets/base",
       "_model_module_version": "2.0.0",
       "_model_name": "LayoutModel",
       "_view_count": null,
       "_view_module": "@jupyter-widgets/base",
       "_view_module_version": "2.0.0",
       "_view_name": "LayoutView",
       "align_content": null,
       "align_items": null,
       "align_self": null,
       "border_bottom": null,
       "border_left": null,
       "border_right": null,
       "border_top": null,
       "bottom": null,
       "display": null,
       "flex": null,
       "flex_flow": null,
       "grid_area": null,
       "grid_auto_columns": null,
       "grid_auto_flow": null,
       "grid_auto_rows": null,
       "grid_column": null,
       "grid_gap": null,
       "grid_row": null,
       "grid_template_areas": null,
       "grid_template_columns": null,
       "grid_template_rows": null,
       "height": null,
       "justify_content": null,
       "justify_items": null,
       "left": null,
       "margin": null,
       "max_height": null,
       "max_width": null,
       "min_height": null,
       "min_width": null,
       "object_fit": null,
       "object_position": null,
       "order": null,
       "overflow": null,
       "padding": null,
       "right": null,
       "top": null,
       "visibility": null,
       "width": null
      }
     },
     "ce74e168f26b401b9ea7cfa4d7625310": {
      "model_module": "@jupyter-widgets/controls",
      "model_module_version": "2.0.0",
      "model_name": "ProgressStyleModel",
      "state": {
       "_model_module": "@jupyter-widgets/controls",
       "_model_module_version": "2.0.0",
       "_model_name": "ProgressStyleModel",
       "_view_count": null,
       "_view_module": "@jupyter-widgets/base",
       "_view_module_version": "2.0.0",
       "_view_name": "StyleView",
       "bar_color": null,
       "description_width": ""
      }
     },
     "d7f0ec66085f44d0a42f5b08d6fe89ac": {
      "model_module": "@jupyter-widgets/controls",
      "model_module_version": "2.0.0",
      "model_name": "HTMLModel",
      "state": {
       "_dom_classes": [],
       "_model_module": "@jupyter-widgets/controls",
       "_model_module_version": "2.0.0",
       "_model_name": "HTMLModel",
       "_view_count": null,
       "_view_module": "@jupyter-widgets/controls",
       "_view_module_version": "2.0.0",
       "_view_name": "HTMLView",
       "description": "",
       "description_allow_html": false,
       "layout": "IPY_MODEL_9ba824c6f18c4eb68a1a4a21de642c70",
       "placeholder": "​",
       "style": "IPY_MODEL_699858991cfa4327b9a09374c0f5de5e",
       "tabbable": null,
       "tooltip": null,
       "value": " 5/5 [00:59&lt;00:00,  9.91s/it]"
      }
     },
     "ff636efad25c4eaf84f04da248472e0a": {
      "model_module": "@jupyter-widgets/controls",
      "model_module_version": "2.0.0",
      "model_name": "HBoxModel",
      "state": {
       "_dom_classes": [],
       "_model_module": "@jupyter-widgets/controls",
       "_model_module_version": "2.0.0",
       "_model_name": "HBoxModel",
       "_view_count": null,
       "_view_module": "@jupyter-widgets/controls",
       "_view_module_version": "2.0.0",
       "_view_name": "HBoxView",
       "box_style": "",
       "children": [
        "IPY_MODEL_5f598d0642ee4429880685528467e216",
        "IPY_MODEL_6205c01c662749a7ac105149ea6646bc",
        "IPY_MODEL_d7f0ec66085f44d0a42f5b08d6fe89ac"
       ],
       "layout": "IPY_MODEL_93728e51086a4245bd224ee7b0d56d33",
       "tabbable": null,
       "tooltip": null
      }
     }
    },
    "version_major": 2,
    "version_minor": 0
   }
  }
 },
 "nbformat": 4,
 "nbformat_minor": 5
}