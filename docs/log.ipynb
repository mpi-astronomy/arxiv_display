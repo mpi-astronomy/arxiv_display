{
 "cells": [
  {
   "cell_type": "markdown",
   "id": "92bcb855",
   "metadata": {
    "papermill": {
     "duration": 0.003856,
     "end_time": "2024-06-21T04:09:00.734210",
     "exception": false,
     "start_time": "2024-06-21T04:09:00.730354",
     "status": "completed"
    },
    "tags": []
   },
   "source": [
    "# MPIA Arxiv on Deck 2\n",
    "\n",
    "Contains the steps to produce the paper extractions."
   ]
  },
  {
   "cell_type": "code",
   "execution_count": 1,
   "id": "3a0d6e11",
   "metadata": {
    "execution": {
     "iopub.execute_input": "2024-06-21T04:09:00.741462Z",
     "iopub.status.busy": "2024-06-21T04:09:00.741061Z",
     "iopub.status.idle": "2024-06-21T04:09:01.254548Z",
     "shell.execute_reply": "2024-06-21T04:09:01.253922Z"
    },
    "papermill": {
     "duration": 0.518967,
     "end_time": "2024-06-21T04:09:01.256267",
     "exception": false,
     "start_time": "2024-06-21T04:09:00.737300",
     "status": "completed"
    },
    "tags": []
   },
   "outputs": [],
   "source": [
    "# Imports\n",
    "import os\n",
    "from IPython.display import Markdown, display\n",
    "from tqdm.notebook import tqdm\n",
    "import warnings\n",
    "from PIL import Image \n",
    "\n",
    "# requires arxiv_on_deck_2\n",
    "\n",
    "from arxiv_on_deck_2.arxiv2 import (get_new_papers, \n",
    "                                    get_paper_from_identifier,\n",
    "                                    retrieve_document_source, \n",
    "                                    get_markdown_badge)\n",
    "from arxiv_on_deck_2 import (latex,\n",
    "                             latex_bib,\n",
    "                             mpia,\n",
    "                             highlight_authors_in_list)\n",
    "\n",
    "# Sometimes images are really big\n",
    "Image.MAX_IMAGE_PIXELS = 1000000000 "
   ]
  },
  {
   "cell_type": "code",
   "execution_count": 2,
   "id": "22aa9d44",
   "metadata": {
    "execution": {
     "iopub.execute_input": "2024-06-21T04:09:01.263423Z",
     "iopub.status.busy": "2024-06-21T04:09:01.263166Z",
     "iopub.status.idle": "2024-06-21T04:09:01.268233Z",
     "shell.execute_reply": "2024-06-21T04:09:01.267684Z"
    },
    "papermill": {
     "duration": 0.01013,
     "end_time": "2024-06-21T04:09:01.269542",
     "exception": false,
     "start_time": "2024-06-21T04:09:01.259412",
     "status": "completed"
    },
    "tags": []
   },
   "outputs": [],
   "source": [
    "# Some useful definitions.\n",
    "\n",
    "class AffiliationWarning(UserWarning):\n",
    "    pass\n",
    "\n",
    "class AffiliationError(RuntimeError):\n",
    "    pass\n",
    "\n",
    "def validation(source: str):\n",
    "    \"\"\"Raises error paper during parsing of source file\n",
    "    \n",
    "    Allows checks before parsing TeX code.\n",
    "    \n",
    "    Raises AffiliationWarning\n",
    "    \"\"\"\n",
    "    check = mpia.affiliation_verifications(source, verbose=True)\n",
    "    if check is not True:\n",
    "        raise AffiliationError(\"mpia.affiliation_verifications: \" + check)\n",
    "\n",
    "        \n",
    "warnings.simplefilter('always', AffiliationWarning)\n",
    "\n",
    "\n",
    "def get_markdown_qrcode(paper_id: str):\n",
    "    \"\"\" Generate a qrcode to the arxiv page using qrserver.com\n",
    "    \n",
    "    :param paper: Arxiv paper\n",
    "    :returns: markdown text\n",
    "    \"\"\"\n",
    "    url = r\"https://api.qrserver.com/v1/create-qr-code/?size=100x100&data=\"\n",
    "    txt = f\"\"\"<img src={url}\"https://arxiv.org/abs/{paper_id}\">\"\"\"\n",
    "    txt = '<div id=\"qrcode\">' + txt + '</div>'\n",
    "    return txt"
   ]
  },
  {
   "cell_type": "markdown",
   "id": "14bd6310",
   "metadata": {
    "papermill": {
     "duration": 0.002839,
     "end_time": "2024-06-21T04:09:01.275271",
     "exception": false,
     "start_time": "2024-06-21T04:09:01.272432",
     "status": "completed"
    },
    "tags": []
   },
   "source": [
    "## get list of arxiv paper candidates\n",
    "\n",
    "We use the MPIA mitarbeiter list webpage from mpia.de to get author names\n",
    "We then get all new papers from Arxiv and match authors"
   ]
  },
  {
   "cell_type": "code",
   "execution_count": 3,
   "id": "7ea813a8",
   "metadata": {
    "execution": {
     "iopub.execute_input": "2024-06-21T04:09:01.282288Z",
     "iopub.status.busy": "2024-06-21T04:09:01.281817Z",
     "iopub.status.idle": "2024-06-21T04:09:17.446541Z",
     "shell.execute_reply": "2024-06-21T04:09:17.445919Z"
    },
    "papermill": {
     "duration": 16.169884,
     "end_time": "2024-06-21T04:09:17.448031",
     "exception": false,
     "start_time": "2024-06-21T04:09:01.278147",
     "status": "completed"
    },
    "tags": []
   },
   "outputs": [],
   "source": [
    "# deal with the author list and edge cases of people that cannot be consistent on their name  \n",
    "\n",
    "def filter_non_scientists(name: str) -> bool:\n",
    "    \"\"\" Loose filter on expected authorships\n",
    "\n",
    "    removing IT, administration, technical staff\n",
    "    :param name: name\n",
    "    :returns: False if name is not a scientist\n",
    "    \"\"\"\n",
    "    remove_list = ['Wolf', 'Licht', 'Binroth', 'Witzel', 'Jordan',\n",
    "                   'Zähringer', 'Scheerer', 'Hoffmann', 'Düe',\n",
    "                   'Hellmich', 'Enkler-Scharpegge', 'Witte-Nguy',\n",
    "                   'Dehen', 'Beckmann', 'Jager', 'Jäger'\n",
    "                  ]\n",
    "\n",
    "    for k in remove_list:\n",
    "        if k in name:\n",
    "            return False\n",
    "    return True\n",
    "\n",
    "def add_author_to_list(author_list: list) -> list:\n",
    "    \"\"\" Add author to list if not already in list\n",
    "    \n",
    "    :param author: author name\n",
    "    :param author_list: list of authors\n",
    "    :returns: updated list of authors\n",
    "    \"\"\"\n",
    "    add_list = ['T. Henning']\n",
    "\n",
    "    for author in add_list:\n",
    "        if author not in author_list:\n",
    "            author_list.append(author)\n",
    "    return author_list\n",
    "\n",
    "# get list from MPIA website\n",
    "# filter for non-scientists (mpia.get_mpia_mitarbeiter_list() does some filtering)\n",
    "mpia_authors = [k[1] for k in mpia.get_mpia_mitarbeiter_list() if filter_non_scientists(k[1])]\n",
    "# add some missing author because of inconsistencies in their MPIA name and author name on papers\n",
    "mpia_authors = add_author_to_list(mpia_authors)"
   ]
  },
  {
   "cell_type": "code",
   "execution_count": 4,
   "id": "2645e73a",
   "metadata": {
    "execution": {
     "iopub.execute_input": "2024-06-21T04:09:17.455457Z",
     "iopub.status.busy": "2024-06-21T04:09:17.455249Z",
     "iopub.status.idle": "2024-06-21T04:09:18.313237Z",
     "shell.execute_reply": "2024-06-21T04:09:18.312578Z"
    },
    "papermill": {
     "duration": 0.863326,
     "end_time": "2024-06-21T04:09:18.314643",
     "exception": false,
     "start_time": "2024-06-21T04:09:17.451317",
     "status": "completed"
    },
    "tags": []
   },
   "outputs": [
    {
     "name": "stdout",
     "output_type": "stream",
     "text": [
      "T. Henning  ->  T. Henning  |  ['T. Henning']\n",
      "P. Mollière  ->  P. Mollière  |  ['P. Mollière']\n",
      "L. Boogaard  ->  L. Boogaard  |  ['L. Boogaard']\n",
      "F. Walter  ->  F. Walter  |  ['F. Walter']\n"
     ]
    },
    {
     "name": "stdout",
     "output_type": "stream",
     "text": [
      "T. Henning  ->  T. Henning  |  ['T. Henning']\n",
      "M. Samland  ->  M. Samland  |  ['M. Samland']\n",
      "G. Perotti  ->  G. Perotti  |  ['G. Perotti']\n",
      "J. Bouwman  ->  J. Bouwman  |  ['J. Bouwman']\n",
      "S. Scheithauer  ->  S. Scheithauer  |  ['S. Scheithauer']\n",
      "J. Schreiber  ->  J. Schreiber  |  ['J. Schreiber']\n",
      "K. Schwarz  ->  K. Schwarz  |  ['K. Schwarz']\n",
      "Arxiv has 106 new papers today\n",
      "          4 with possible author matches\n"
     ]
    }
   ],
   "source": [
    "new_papers = get_new_papers()\n",
    "# add manual references\n",
    "add_paper_refs = []\n",
    "new_papers.extend([get_paper_from_identifier(k) for k in add_paper_refs])\n",
    "\n",
    "candidates = []\n",
    "for paperk in new_papers:\n",
    "    # Check author list with their initials\n",
    "    normed_author_list = [mpia.get_initials(k) for k in paperk['authors']]\n",
    "    hl_authors = highlight_authors_in_list(normed_author_list, mpia_authors, verbose=True)\n",
    "    matches = [(hl, orig) for hl, orig in zip(hl_authors, paperk['authors']) if 'mark' in hl]\n",
    "    paperk['authors'] = hl_authors\n",
    "    if matches:\n",
    "        # only select paper if an author matched our list\n",
    "        candidates.append(paperk)\n",
    "print(\"\"\"Arxiv has {0:,d} new papers today\"\"\".format(len(new_papers)))        \n",
    "print(\"\"\"          {0:,d} with possible author matches\"\"\".format(len(candidates)))"
   ]
  },
  {
   "cell_type": "markdown",
   "id": "3543b34a",
   "metadata": {
    "papermill": {
     "duration": 0.00393,
     "end_time": "2024-06-21T04:09:18.321994",
     "exception": false,
     "start_time": "2024-06-21T04:09:18.318064",
     "status": "completed"
    },
    "tags": []
   },
   "source": [
    "# Parse sources and generate relevant outputs\n",
    "\n",
    "From the candidates, we do the following steps:\n",
    "* get their tarball from ArXiv (and extract data)\n",
    "* find the main .tex file: find one with \\documentclass{...} (sometimes it's non trivial)\n",
    "* Check affiliations with :func:`validation`, which uses :func:`mpia.affiliation_verifications`\n",
    "* If passing the affiliations: we parse the .tex source\n",
    "   * inject sub-documents into the main (flatten the main document)\n",
    "   * parse structure, extract information (title, abstract, authors, figures...)\n",
    "   * handles `\\graphicspath` if provided\n",
    "* Generate the .md document."
   ]
  },
  {
   "cell_type": "code",
   "execution_count": 5,
   "id": "9576b79e",
   "metadata": {
    "execution": {
     "iopub.execute_input": "2024-06-21T04:09:18.329319Z",
     "iopub.status.busy": "2024-06-21T04:09:18.328928Z",
     "iopub.status.idle": "2024-06-21T04:10:39.278978Z",
     "shell.execute_reply": "2024-06-21T04:10:39.278154Z"
    },
    "papermill": {
     "duration": 80.955982,
     "end_time": "2024-06-21T04:10:39.281039",
     "exception": false,
     "start_time": "2024-06-21T04:09:18.325057",
     "status": "completed"
    },
    "scrolled": false,
    "tags": []
   },
   "outputs": [
    {
     "data": {
      "application/vnd.jupyter.widget-view+json": {
       "model_id": "77b8b5e1725a45b9aada9852453da762",
       "version_major": 2,
       "version_minor": 0
      },
      "text/plain": [
       "  0%|          | 0/4 [00:00<?, ?it/s]"
      ]
     },
     "metadata": {},
     "output_type": "display_data"
    },
    {
     "name": "stdout",
     "output_type": "stream",
     "text": [
      "Retrieving document from  https://arxiv.org/e-print/2406.12984\n"
     ]
    },
    {
     "name": "stdout",
     "output_type": "stream",
     "text": [
      "extracting tarball to tmp_2406.12984..."
     ]
    },
    {
     "name": "stdout",
     "output_type": "stream",
     "text": [
      " done.\n",
      "  1: tmp_2406.12984/aassymbols.tex, 579 lines\n",
      "  2: tmp_2406.12984/vla1623w.tex, 501 lines\n",
      "Retrieving document from  https://arxiv.org/e-print/2406.13037\n",
      "extracting tarball to tmp_2406.13037..."
     ]
    },
    {
     "name": "stderr",
     "output_type": "stream",
     "text": [
      "/opt/hostedtoolcache/Python/3.9.19/x64/lib/python3.9/site-packages/IPython/core/interactiveshell.py:3550: LatexWarning: Multiple tex files.\n",
      "\n",
      "  exec(code_obj, self.user_global_ns, self.user_ns)\n",
      "/opt/hostedtoolcache/Python/3.9.19/x64/lib/python3.9/site-packages/IPython/core/interactiveshell.py:3550: LatexWarning: Found 2 candidates with documentclass definition.\n",
      "  exec(code_obj, self.user_global_ns, self.user_ns)\n",
      "/opt/hostedtoolcache/Python/3.9.19/x64/lib/python3.9/site-packages/IPython/core/interactiveshell.py:3550: LatexWarning: Assuming tmp_2406.12984/aassymbols.tex as main document.\n",
      "  exec(code_obj, self.user_global_ns, self.user_ns)\n"
     ]
    },
    {
     "name": "stdout",
     "output_type": "stream",
     "text": [
      " done.\n"
     ]
    },
    {
     "name": "stdout",
     "output_type": "stream",
     "text": [
      "Found 64 bibliographic references in tmp_2406.13037/aanda.bbl.\n",
      "Retrieving document from  https://arxiv.org/e-print/2406.13554\n",
      "extracting tarball to tmp_2406.13554... done.\n"
     ]
    },
    {
     "name": "stdout",
     "output_type": "stream",
     "text": [
      "L. Boogaard  ->  L. Boogaard  |  ['L. Boogaard']\n",
      "F. Walter  ->  F. Walter  |  ['F. Walter']\n"
     ]
    },
    {
     "name": "stdout",
     "output_type": "stream",
     "text": [
      "Found 115 bibliographic references in tmp_2406.13554/Manuscript.bbl.\n",
      "Retrieving document from  https://arxiv.org/e-print/2406.14293\n"
     ]
    },
    {
     "name": "stderr",
     "output_type": "stream",
     "text": [
      "/tmp/ipykernel_2072/1211882699.py:51: LatexWarning: 2406.14293 did not run properly\n",
      "not a gzip file\n",
      "  warnings.warn(latex.LatexWarning(f\"{paper_id:s} did not run properly\\n\" +\n"
     ]
    }
   ],
   "source": [
    "documents = []\n",
    "failed = []\n",
    "for paper in tqdm(candidates):\n",
    "    # debug crap\n",
    "    paper['identifier'] = paper['identifier'].lower().replace('arxiv:', '').replace(r'\\n', '').strip()\n",
    "    paper_id = paper['identifier']\n",
    "    \n",
    "    folder = f'tmp_{paper_id}'\n",
    "\n",
    "    try:\n",
    "        if not os.path.isdir(folder):\n",
    "            folder = retrieve_document_source(f\"{paper_id}\", f'tmp_{paper_id}')\n",
    "        \n",
    "        try:\n",
    "            doc = latex.LatexDocument(folder, validation=validation)    \n",
    "        except AffiliationError as affilerror:\n",
    "            msg = f\"ArXiv:{paper_id:s} is not an MPIA paper... \" + str(affilerror)\n",
    "            failed.append((paper, \"affiliation error: \" + str(affilerror) ))\n",
    "            continue\n",
    "        \n",
    "        # Hack because sometimes author parsing does not work well\n",
    "        if (len(doc.authors) != len(paper['authors'])):\n",
    "            doc._authors = paper['authors']\n",
    "        else:\n",
    "            # highlight authors (FIXME: doc.highlight_authors)\n",
    "            # done on arxiv paper already\n",
    "            doc._authors = highlight_authors_in_list(\n",
    "                [mpia.get_initials(k) for k in doc.authors], \n",
    "                mpia_authors, verbose=True)\n",
    "        if (doc.abstract) in (None, ''):\n",
    "            doc._abstract = paper['abstract']\n",
    "            \n",
    "        doc.comment = (get_markdown_badge(paper_id) + \n",
    "                       \"<mark>Appeared on: \" + paper['date'] + \"</mark> - \")\n",
    "        if paper['comments']:\n",
    "            doc.comment += \" _\" + paper['comments'] + \"_\"\n",
    "        \n",
    "        full_md = doc.generate_markdown_text()\n",
    "        \n",
    "        full_md += get_markdown_qrcode(paper_id)\n",
    "        \n",
    "        # replace citations\n",
    "        try:\n",
    "            bibdata = latex_bib.LatexBib.from_doc(doc)\n",
    "            full_md = latex_bib.replace_citations(full_md, bibdata)\n",
    "        except Exception as e:\n",
    "            print(e)\n",
    "        \n",
    "        documents.append((paper_id, full_md))\n",
    "    except Exception as e:\n",
    "        warnings.warn(latex.LatexWarning(f\"{paper_id:s} did not run properly\\n\" +\n",
    "                                         str(e)\n",
    "                                        ))\n",
    "        failed.append((paper, \"latex error \" + str(e)))"
   ]
  },
  {
   "cell_type": "markdown",
   "id": "2505a25c",
   "metadata": {
    "papermill": {
     "duration": 0.003535,
     "end_time": "2024-06-21T04:10:39.288508",
     "exception": false,
     "start_time": "2024-06-21T04:10:39.284973",
     "status": "completed"
    },
    "tags": []
   },
   "source": [
    "### Export the logs\n",
    "\n",
    "Throughout, we also keep track of the logs per paper. see `logs-{today date}.md` "
   ]
  },
  {
   "cell_type": "code",
   "execution_count": 6,
   "id": "d733828a",
   "metadata": {
    "execution": {
     "iopub.execute_input": "2024-06-21T04:10:39.297060Z",
     "iopub.status.busy": "2024-06-21T04:10:39.296605Z",
     "iopub.status.idle": "2024-06-21T04:10:39.312591Z",
     "shell.execute_reply": "2024-06-21T04:10:39.312076Z"
    },
    "papermill": {
     "duration": 0.021817,
     "end_time": "2024-06-21T04:10:39.313916",
     "exception": false,
     "start_time": "2024-06-21T04:10:39.292099",
     "status": "completed"
    },
    "scrolled": false,
    "tags": []
   },
   "outputs": [
    {
     "data": {
      "text/markdown": [
       "## Successful papers"
      ],
      "text/plain": [
       "<IPython.core.display.Markdown object>"
      ]
     },
     "metadata": {},
     "output_type": "display_data"
    },
    {
     "data": {
      "text/markdown": [
       "\n",
       "|||\n",
       "|---:|:---|\n",
       "| [![arXiv](https://img.shields.io/badge/arXiv-2406.13037-b31b1b.svg)](https://arxiv.org/abs/2406.13037) | **Large Interferometer For Exoplanets (LIFE): XIII. The Value of Combining Thermal Emission and Reflected Light for the Characterization of Earth Twins**  |\n",
       "|| E. Alei, et al. -- incl., <mark>P. Mollière</mark> |\n",
       "|*Appeared on*| *2024-06-21*|\n",
       "|*Comments*| *16 pages (main text, incl. 12 figures) + appendix; accepted for publication in A&A (current version: post 1st revision). Thirteenth paper of LIFE telescope series*|\n",
       "|**Abstract**|            Following the recommendations to NASA and ESA, the search for life on exoplanets will be a priority in the next decades. Two direct imaging space mission concepts are being developed: the Habitable Worlds Observatory (HWO) and the Large Interferometer for Exoplanets (LIFE). HWO focuses on reflected light spectra in the ultraviolet/visible/near-infrared (UV/VIS/NIR), while LIFE captures the mid-infrared (MIR) emission of temperate exoplanets. We assess the potential of HWO and LIFE in characterizing a cloud-free Earth twin orbiting a Sun-like star at 10 pc, both separately and synergistically, aiming to quantify the increase in information from joint atmospheric retrievals on a habitable planet. We perform Bayesian retrievals on simulated data from an HWO-like and a LIFE-like mission separately, then jointly, considering the baseline spectral resolutions currently assumed for these concepts and using two increasingly complex noise simulations. HWO would constrain H$_2$O, O$_2$, and O$_3$, in the atmosphere, with ~ 100 K uncertainty on the temperature profile. LIFE would constrain CO$_2$, H$_2$O, O$_3$ and provide constraints on the thermal atmospheric structure and surface temperature (~ 10 K uncertainty). Both missions would provide an upper limit on CH$_4$. Joint retrievals on HWO and LIFE data would accurately define the atmospheric thermal profile and planetary parameters, decisively constrain CO$_2$, H$_2$O, O$_2$, and O$_3$, and weakly constrain CO and CH$_4$. The detection significance is greater or equal to single-instrument retrievals. Both missions provide specific information to characterize a terrestrial habitable exoplanet, but the scientific yield is maximized with synergistic UV/VIS/NIR+MIR observations. Using HWO and LIFE together will provide stronger constraints on biosignatures and life indicators, potentially transforming the search for life in the universe.         |"
      ],
      "text/plain": [
       "[2406.13037] Large Interferometer For Exoplanets (LIFE): XIII. The Value of Combining Thermal Emission and Reflected Light for the Characterization of Earth Twins\n",
       "\tE. Alei, et al. -- incl., <mark>P. Mollière</mark>"
      ]
     },
     "metadata": {},
     "output_type": "display_data"
    },
    {
     "data": {
      "text/markdown": [
       "\n",
       "|||\n",
       "|---:|:---|\n",
       "| [![arXiv](https://img.shields.io/badge/arXiv-2406.13554-b31b1b.svg)](https://arxiv.org/abs/2406.13554) | **The emergence of the Star Formation Main Sequence with redshift unfolded by JWST**  |\n",
       "|| P. Rinaldi, et al. -- incl., <mark>L. Boogaard</mark>, <mark>F. Walter</mark> |\n",
       "|*Appeared on*| *2024-06-21*|\n",
       "|*Comments*| *15 pages, 4 figures. Submitted to ApJ*|\n",
       "|**Abstract**|            We investigate the correlation between stellar mass (M*) and star formation rate (SFR) across the stellar mass range log10(M*/Msun)~6-11. We consider almost 50,000 star-forming galaxies at z~3-7, leveraging data from COSMOS/SMUVS, JADES/GOODS-SOUTH, and MIDIS/XDF. This is the first study spanning such a wide stellar mass range without relying on gravitational lensing effects. We locate our galaxies on the SFR-M* plane to assess how the location of galaxies in the star-formation main sequence (MS) and starburst (SB) region evolves with stellar mass and redshift. We find that the two star-forming modes tend to converge at log10(M*/Msun) < 7, with all galaxies found in the SB mode. By dissecting our galaxy sample in stellar mass and redshift, we show that the emergence of the star-formation MS is stellar-mass dependent: while in galaxies with log10(M*/Msun) > 9 the MS is already well in place at z = 5-7, for galaxies with log10(M*/Msun)~7-8 it only becomes significant at z<4. Overall, our results are in line with previous findings that the SB mode dominates amongst low stellar-mass galaxies. The earlier emergence of the MS for massive galaxies is consistent with galaxy downsizing.         |"
      ],
      "text/plain": [
       "[2406.13554] The emergence of the Star Formation Main Sequence with redshift unfolded by JWST\n",
       "\tP. Rinaldi, et al. -- incl., <mark>L. Boogaard</mark>, <mark>F. Walter</mark>"
      ]
     },
     "metadata": {},
     "output_type": "display_data"
    },
    {
     "data": {
      "text/markdown": [
       "## Failed papers"
      ],
      "text/plain": [
       "<IPython.core.display.Markdown object>"
      ]
     },
     "metadata": {},
     "output_type": "display_data"
    },
    {
     "data": {
      "text/markdown": [
       "\n",
       "|||\n",
       "|---:|:---|\n",
       "| [![arXiv](https://img.shields.io/badge/arXiv-2406.12984-b31b1b.svg)](https://arxiv.org/abs/2406.12984) | **Constraining the Stellar Masses and Origin of the Protostellar VLA 1623 System**  |\n",
       "|| S. I. Sadavoy, et al. -- incl., <mark>T. Henning</mark> |\n",
       "|*Appeared on*| *2024-06-21*|\n",
       "|*Comments*| *Accepted to A&A; 16 pages, 12 figures*|\n",
       "|**Abstract**|            We present ALMA Band 7 molecular line observations of the protostars within the VLA 1623 system. We map C$^{17}$O (3 - 2) in the circumbinary disk around VLA 1623A and the outflow cavity walls of the collimated outflow. We further detect red-shifted and blue-shifted velocity gradients in the circumstellar disks around VLA 1623B and VLA 1623W that are consistent with Keplerian rotation. We use the radiative transfer modeling code, pdspy, and simple flared disk models to measure stellar masses of $0.27 \\pm 0.03$ M$_\\odot$, $1.9^{+0.3}_{-0.2}$ M$_\\odot$, and $0.64 \\pm 0.06$ M$_\\odot$ for the VLA 1623A binary, VLA 1623B, and VLA 1623W, respectively. These results represent the strongest constraints on stellar mass for both VLA 1623B and VLA 1623W, and the first measurement of mass for all stellar components using the same tracer and methodology. We use these masses to discuss the relationship between the young stellar objects (YSOs) in the VLA 1623 system. We find that VLA 1623W is unlikely to be an ejected YSO, as has been previously proposed. While we cannot rule out that VLA 1623W is a unrelated YSO, we propose that it is a true companion star to the VLA 1623A/B system and that the these stars formed in situ through turbulent fragmentation and have had only some dynamical interactions since their inception.         |\n",
       "|<p style=\"color:green\"> **ERROR** </p>| <p style=\"color:green\">affiliation error: mpia.affiliation_verifications: 'Heidelberg' keyword not found.</p> |"
      ],
      "text/plain": [
       "<IPython.core.display.Markdown object>"
      ]
     },
     "metadata": {},
     "output_type": "display_data"
    },
    {
     "data": {
      "text/markdown": [
       "\n",
       "|||\n",
       "|---:|:---|\n",
       "| [![arXiv](https://img.shields.io/badge/arXiv-2406.14293-b31b1b.svg)](https://arxiv.org/abs/2406.14293) | **Abundant hydrocarbons in the disk around a very-low-mass star**  |\n",
       "|| A. M. Arabhavi, et al. -- incl., <mark>T. Henning</mark>, <mark>M. Samland</mark>, <mark>G. Perotti</mark>, <mark>J. Bouwman</mark>, <mark>S. Scheithauer</mark>, <mark>J. Schreiber</mark>, <mark>K. Schwarz</mark> |\n",
       "|*Appeared on*| *2024-06-21*|\n",
       "|*Comments*| *Published, 36 pages, 8 figures*|\n",
       "|**Abstract**|            Very low-mass stars (those <0.3 solar masses) host orbiting terrestrial planets more frequently than other types of stars, but the compositions of those planets are largely unknown. We use mid-infrared spectroscopy with the James Webb Space Telescope to investigate the chemical composition of the planet-forming disk around ISO-ChaI 147, a 0.11 solar-mass star. The inner disk has a carbon-rich chemistry: we identify emission from 13 carbon-bearing molecules including ethane and benzene. We derive large column densities of hydrocarbons indicating that we probe deep into the disk. The high carbon to oxygen ratio we infer indicates radial transport of material within the disk, which we predict would affect the bulk composition of any planets forming in the disk.         |\n",
       "|<p style=\"color:red\"> **ERROR** </p>| <p style=\"color:red\">latex error not a gzip file</p> |"
      ],
      "text/plain": [
       "<IPython.core.display.Markdown object>"
      ]
     },
     "metadata": {},
     "output_type": "display_data"
    }
   ],
   "source": [
    "import datetime\n",
    "today = str(datetime.date.today())\n",
    "logfile = f\"_build/html/logs/log-{today}.md\"\n",
    "\n",
    "\n",
    "with open(logfile, 'w') as logs:\n",
    "    # Success\n",
    "    logs.write(f'# Arxiv on Deck 2: Logs - {today}\\n\\n')\n",
    "    logs.write(\"\"\"* Arxiv had {0:,d} new papers\\n\"\"\".format(len(new_papers)))\n",
    "    logs.write(\"\"\"    * {0:,d} with possible author matches\\n\\n\"\"\".format(len(candidates)))\n",
    "    logs.write(\"## Sucessful papers\\n\\n\")\n",
    "    display(Markdown(\"## Successful papers\"))\n",
    "    success = [k[0] for k in documents]\n",
    "    for candid in candidates:\n",
    "        if candid['identifier'].split(':')[-1] in success:\n",
    "            display(candid)\n",
    "            logs.write(candid.generate_markdown_text() + '\\n\\n')\n",
    "\n",
    "    ## failed\n",
    "    logs.write(\"## Failed papers\\n\\n\")\n",
    "    display(Markdown(\"## Failed papers\"))\n",
    "    failed = sorted(failed, key=lambda x: x[1])\n",
    "    current_reason = \"\"\n",
    "    for paper, reason in failed:\n",
    "        if 'affiliation' in reason:\n",
    "            color = 'green'\n",
    "        else:\n",
    "            color = 'red'\n",
    "        data = Markdown(\n",
    "                paper.generate_markdown_text() + \n",
    "                f'\\n|<p style=\"color:{color:s}\"> **ERROR** </p>| <p style=\"color:{color:s}\">{reason:s}</p> |'\n",
    "               )\n",
    "        if reason != current_reason:\n",
    "            logs.write(f'### {reason:s} \\n\\n')\n",
    "            current_reason = reason\n",
    "        logs.write(data.data + '\\n\\n')\n",
    "        \n",
    "        # only display here the important errors (all in logs)\n",
    "        # if color in ('red',):\n",
    "        display(data)"
   ]
  },
  {
   "cell_type": "markdown",
   "id": "472d20ee",
   "metadata": {
    "papermill": {
     "duration": 0.004122,
     "end_time": "2024-06-21T04:10:39.322253",
     "exception": false,
     "start_time": "2024-06-21T04:10:39.318131",
     "status": "completed"
    },
    "tags": []
   },
   "source": [
    "## Export documents\n",
    "\n",
    "We now write the .md files and export relevant images"
   ]
  },
  {
   "cell_type": "code",
   "execution_count": 7,
   "id": "d426aed9",
   "metadata": {
    "execution": {
     "iopub.execute_input": "2024-06-21T04:10:39.331606Z",
     "iopub.status.busy": "2024-06-21T04:10:39.331181Z",
     "iopub.status.idle": "2024-06-21T04:10:39.338074Z",
     "shell.execute_reply": "2024-06-21T04:10:39.337529Z"
    },
    "papermill": {
     "duration": 0.012962,
     "end_time": "2024-06-21T04:10:39.339344",
     "exception": false,
     "start_time": "2024-06-21T04:10:39.326382",
     "status": "completed"
    },
    "tags": []
   },
   "outputs": [],
   "source": [
    "def export_markdown_summary(md: str, md_fname:str, directory: str):\n",
    "    \"\"\"Export MD document and associated relevant images\"\"\"\n",
    "    import os\n",
    "    import shutil\n",
    "    import re\n",
    "\n",
    "    if (os.path.exists(directory) and not os.path.isdir(directory)):\n",
    "        raise RuntimeError(f\"a non-directory file exists with name {directory:s}\")\n",
    "\n",
    "    if (not os.path.exists(directory)):\n",
    "        print(f\"creating directory {directory:s}\")\n",
    "        os.mkdir(directory)\n",
    "\n",
    "    fig_fnames = (re.compile(r'\\[Fig.*\\]\\((.*)\\)').findall(md) + \n",
    "                  re.compile(r'\\<img src=\"([^>\\s]*)\"[^>]*/>').findall(md))\n",
    "    print(\"found figures\", fig_fnames)\n",
    "    for fname in fig_fnames:\n",
    "        if 'http' in fname:\n",
    "            # No need to copy online figures\n",
    "            continue\n",
    "        if not os.path.exists(fname):\n",
    "            print(\"file not found\", fname)\n",
    "            continue\n",
    "        print(\"copying \", fname, \"to\", directory)\n",
    "        destdir = os.path.join(directory, os.path.dirname(fname))\n",
    "        destfname = os.path.join(destdir, os.path.basename(fname))\n",
    "        try:\n",
    "            os.makedirs(destdir)\n",
    "        except FileExistsError:\n",
    "            pass\n",
    "        shutil.copy(fname, destfname)\n",
    "    with open(os.path.join(directory, md_fname), 'w') as fout:\n",
    "        fout.write(md)\n",
    "    print(\"exported in \", os.path.join(directory, md_fname))\n",
    "    [print(\"    + \" + os.path.join(directory,fk)) for fk in fig_fnames]"
   ]
  },
  {
   "cell_type": "code",
   "execution_count": 8,
   "id": "014d04a4",
   "metadata": {
    "execution": {
     "iopub.execute_input": "2024-06-21T04:10:39.348871Z",
     "iopub.status.busy": "2024-06-21T04:10:39.348448Z",
     "iopub.status.idle": "2024-06-21T04:10:39.358481Z",
     "shell.execute_reply": "2024-06-21T04:10:39.357862Z"
    },
    "papermill": {
     "duration": 0.016252,
     "end_time": "2024-06-21T04:10:39.359811",
     "exception": false,
     "start_time": "2024-06-21T04:10:39.343559",
     "status": "completed"
    },
    "tags": []
   },
   "outputs": [
    {
     "name": "stdout",
     "output_type": "stream",
     "text": [
      "found figures ['tmp_2406.13037/./Figures/2_ConstantErrorbars/constanterrorbars_posteriors.png', 'tmp_2406.13037/./Figures/3_ScaledSNR/scaledsnr_rmse.png', 'tmp_2406.13037/./Figures/legend.png', 'tmp_2406.13037/./Figures/2_ConstantErrorbars/constanterrorbars_rmse.png', 'tmp_2406.13037/./Figures/legend.png']\n",
      "copying  tmp_2406.13037/./Figures/2_ConstantErrorbars/constanterrorbars_posteriors.png to _build/html/\n",
      "copying  tmp_2406.13037/./Figures/3_ScaledSNR/scaledsnr_rmse.png to _build/html/\n",
      "copying  tmp_2406.13037/./Figures/legend.png to _build/html/\n",
      "copying  tmp_2406.13037/./Figures/2_ConstantErrorbars/constanterrorbars_rmse.png to _build/html/\n",
      "copying  tmp_2406.13037/./Figures/legend.png to _build/html/\n",
      "exported in  _build/html/2406.13037.md\n",
      "    + _build/html/tmp_2406.13037/./Figures/2_ConstantErrorbars/constanterrorbars_posteriors.png\n",
      "    + _build/html/tmp_2406.13037/./Figures/3_ScaledSNR/scaledsnr_rmse.png\n",
      "    + _build/html/tmp_2406.13037/./Figures/legend.png\n",
      "    + _build/html/tmp_2406.13037/./Figures/2_ConstantErrorbars/constanterrorbars_rmse.png\n",
      "    + _build/html/tmp_2406.13037/./Figures/legend.png\n",
      "found figures ['tmp_2406.13554/./sSFR_MASS_evo.png', 'tmp_2406.13554/./SFR_M.png', 'tmp_2406.13554/./sSFR_REDSHIFT_evo.png']\n",
      "copying  tmp_2406.13554/./sSFR_MASS_evo.png to _build/html/\n",
      "copying  tmp_2406.13554/./SFR_M.png to _build/html/\n",
      "copying  tmp_2406.13554/./sSFR_REDSHIFT_evo.png to _build/html/\n",
      "exported in  _build/html/2406.13554.md\n",
      "    + _build/html/tmp_2406.13554/./sSFR_MASS_evo.png\n",
      "    + _build/html/tmp_2406.13554/./SFR_M.png\n",
      "    + _build/html/tmp_2406.13554/./sSFR_REDSHIFT_evo.png\n"
     ]
    }
   ],
   "source": [
    "for paper_id, md in documents:\n",
    "    export_markdown_summary(md, f\"{paper_id:s}.md\", '_build/html/')"
   ]
  },
  {
   "cell_type": "markdown",
   "id": "f087a0a7",
   "metadata": {
    "papermill": {
     "duration": 0.004226,
     "end_time": "2024-06-21T04:10:39.368354",
     "exception": false,
     "start_time": "2024-06-21T04:10:39.364128",
     "status": "completed"
    },
    "tags": []
   },
   "source": [
    "## Display the papers\n",
    "\n",
    "Not necessary but allows for a quick check."
   ]
  },
  {
   "cell_type": "code",
   "execution_count": 9,
   "id": "fd25f625",
   "metadata": {
    "execution": {
     "iopub.execute_input": "2024-06-21T04:10:39.377941Z",
     "iopub.status.busy": "2024-06-21T04:10:39.377583Z",
     "iopub.status.idle": "2024-06-21T04:10:39.383006Z",
     "shell.execute_reply": "2024-06-21T04:10:39.382483Z"
    },
    "papermill": {
     "duration": 0.011672,
     "end_time": "2024-06-21T04:10:39.384293",
     "exception": false,
     "start_time": "2024-06-21T04:10:39.372621",
     "status": "completed"
    },
    "scrolled": false,
    "tags": []
   },
   "outputs": [
    {
     "data": {
      "text/markdown": [
       "<div class=\"macros\" style=\"visibility:hidden;\">\n",
       "$\\newcommand{\\ensuremath}{}$\n",
       "$\\newcommand{\\xspace}{}$\n",
       "$\\newcommand{\\object}[1]{\\texttt{#1}}$\n",
       "$\\newcommand{\\farcs}{{.}''}$\n",
       "$\\newcommand{\\farcm}{{.}'}$\n",
       "$\\newcommand{\\arcsec}{''}$\n",
       "$\\newcommand{\\arcmin}{'}$\n",
       "$\\newcommand{\\ion}[2]{#1#2}$\n",
       "$\\newcommand{\\textsc}[1]{\\textrm{#1}}$\n",
       "$\\newcommand{\\hl}[1]{\\textrm{#1}}$\n",
       "$\\newcommand{\\footnote}[1]{}$\n",
       "$\\newcommand{\\R}[0]{\\ensuremath{R}}$\n",
       "$\\newcommand{\\Rv}[1]{\\ensuremath{R = #1}}$\n",
       "$\\newcommand{\\SN}[0]{\\ensuremath{S/N}}$\n",
       "$\\newcommand{\\SNv}[1]{\\ensuremath{S/N = #1}}$\n",
       "$\\newcommand{\\mic}[1]{\\ensuremath{#1}~\\textmu m}$\n",
       "$\\newcommand{\\val}[3]{\\ensuremath{#1^{+#2}_{-#3}}}$\n",
       "$\\newcommand{\\pt}[0]{\\textit{P}-\\textit{T}}$\n",
       "$\\newcommand{\\Rpl}[0]{\\ensuremath{R_{\\text{pl}}}}$\n",
       "$\\newcommand{\\Mpl}[0]{\\ensuremath{M_{\\text{pl}}}}$\n",
       "$\\newcommand{\\Teq}[0]{\\ensuremath{T_\\mathrm{eq}}}$\n",
       "$\\newcommand{\\Ab}[0]{\\ensuremath{A_\\mathrm{B}}}$\n",
       "$\\newcommand{\\Ps}[0]{\\ensuremath{P_0}}$\n",
       "$\\newcommand{\\Ts}[0]{\\ensuremath{T_0}}$\n",
       "$\\newcommand{\\life}[0]{LIFE}$\n",
       "$\\newcommand{\\hwo}[0]{HWO}$\n",
       "$\\newcommand{\\hwolife}[0]{HWO+LIFE}$\n",
       "$\\newcommand{\\uvvisnir}[0]{UV/VIS/NIR}$\n",
       "$\\newcommand{\\mir}[0]{MIR}$\n",
       "$\\newcommand{\\lifesim}[0]{LIFE\\textsc{sim}}$\n",
       "$\\newcommand{\\prt}[0]{\\texttt{petitRADTRANS}}$\n",
       "$\\newcommand{\\pI}[0]{LIFE Paper~I}$\n",
       "$\\newcommand{\\pII}[0]{LIFE Paper~II}$\n",
       "$\\newcommand{\\pIII}[0]{LIFE Paper~III}$\n",
       "$\\newcommand{\\pV}[0]{LIFE Paper~V}$\n",
       "$\\newcommand{\\pIIIaV}[0]{LIFE Papers~III and~V}$\n",
       "$\\newcommand$</div>\n",
       "\n",
       "\n",
       "\n",
       "<div id=\"title\">\n",
       "\n",
       "# Large Interferometer For Exoplanets (LIFE):\n",
       "\n",
       "</div>\n",
       "<div id=\"comments\">\n",
       "\n",
       "[![arXiv](https://img.shields.io/badge/arXiv-2406.13037-b31b1b.svg)](https://arxiv.org/abs/2406.13037)<mark>Appeared on: 2024-06-21</mark> -  _16 pages (main text, incl. 12 figures) + appendix; accepted for publication in A&A (current version: post 1st revision). Thirteenth paper of LIFE telescope series_\n",
       "\n",
       "</div>\n",
       "<div id=\"authors\">\n",
       "\n",
       "E. Alei, et al. -- incl., <mark>P. Mollière</mark>\n",
       "\n",
       "</div>\n",
       "<div id=\"abstract\">\n",
       "\n",
       "**Abstract:** Following the recommendations to NASA (in the Astro2020 Decadal survey) and ESA (through the Voyage2050 process), the search for life on exoplanets will be a priority in the next decades. Two concepts for direct imaging space missions are being developed for this purpose: the Habitable Worlds Observatory (HWO), and the Large Interferometer for Exoplanets (LIFE). These two concepts operate in different spectral regimes: HWO is focused on reflected light spectra in the ultraviolet/visible/near-infrared ( $\\uvvisnir$ ), while LIFE will operate in the mid-infrared ( $\\mir$ ) to capture the thermal emission of temperate exoplanets. In this study we aim to assess the potential of HWO and LIFE in characterizing a cloud-free Earth twin orbiting a Sun-like star at 10 parsec distance both as separate missions and in synergy with each other. We aim to quantify the increase in information that can be gathered by joint atmospheric retrievals on a habitable planet. We perform Bayesian retrievals on simulated data obtained by a $\\hwo$ -like and a $\\life$ -like mission separately, then jointly. We consider the baseline spectral resolutions currently assumed for these concepts and use two increasingly complex noise simulations, obtained using state-of-the-art noise simulators. A $\\hwo$ -like concept would allow to strongly constrain $\\ce{H2O}$ , $\\ce{O2}$ , and $\\ce{O3}$ , in the atmosphere of a cloud-free Earth twin, while the atmospheric temperature profile is not well constrained (with an average uncertainty $\\approx$ 100 K). $\\life$ -like observations would strongly constrain $\\ce{CO2}$ , $\\ce{H2O}$ , $\\ce{O3}$ and provide stronger constraints on the thermal atmospheric structure and surface temperature (down to $\\approx$ 10 K uncertainty). For all the investigated scenarios, both missions would provide an upper limit on $\\ce{CH4}$ . A joint retrieval on $\\hwo$ and $\\life$ data would accurately define the atmospheric thermal profile and planetary parameters. It would decisively constrain $\\ce{CO2}$ , $\\ce{H2O}$ , $\\ce{O2}$ , and $\\ce{O3}$ and find weak constraints on $\\ce{CO}$ and $\\ce{CH4}$ . The significance of the detection is in all cases greater or equal than the single-instrument retrievals. Both missions provide specific information that is relevant for the characterization of a terrestrial habitable exoplanet, but the scientific yield can be maximized by considering synergistic studies of $\\uvvisnir$ + $\\mir$ observations. The use of $\\hwo$ and $\\life$ together will provide stronger constraints on biosignatures and life indicators, with the potential of being transformative for the search for life in the universe.\n",
       "\n",
       "</div>\n",
       "\n",
       "<div id=\"div_fig1\">\n",
       "\n",
       "<img src=\"tmp_2406.13037/./Figures/2_ConstantErrorbars/constanterrorbars_posteriors.png\" alt=\"Fig3\" width=\"100%\"/>\n",
       "\n",
       "**Figure 3. -** Posterior density distributions from the second set of retrievals (simplified noise). The black lines indicate the expected values for every parameter. $\\hwo$ posteriors are shown in magenta with diagonal hatching; $\\life$ posteriors are shown in cyan with crossed hatching; $\\hwo$life posteriors are shown as fully colored gold histograms. (*fig:constanterrorbarsposteriors*)\n",
       "\n",
       "</div>\n",
       "<div id=\"div_fig2\">\n",
       "\n",
       "<img src=\"tmp_2406.13037/./Figures/3_ScaledSNR/scaledsnr_rmse.png\" alt=\"Fig8.1\" width=\"50%\"/><img src=\"tmp_2406.13037/./Figures/legend.png\" alt=\"Fig8.2\" width=\"50%\"/>\n",
       "\n",
       "**Figure 8. -** Square root of the mean squared error (see Equation \\ref{eq:mse}) for relevant parameters in the third set of retrievals (PSG/$\\life$sim noise).    (*fig:scaledsnrmse*)\n",
       "\n",
       "</div>\n",
       "<div id=\"div_fig3\">\n",
       "\n",
       "<img src=\"tmp_2406.13037/./Figures/2_ConstantErrorbars/constanterrorbars_rmse.png\" alt=\"Fig5.1\" width=\"50%\"/><img src=\"tmp_2406.13037/./Figures/legend.png\" alt=\"Fig5.2\" width=\"50%\"/>\n",
       "\n",
       "**Figure 5. -** Square root of the mean squared error (see Equation \\ref{eq:mse}) for relevant parameters in the second set of retrievals (simplified noise). (*fig:constanterrorbarsmse*)\n",
       "\n",
       "</div><div id=\"qrcode\"><img src=https://api.qrserver.com/v1/create-qr-code/?size=100x100&data=\"https://arxiv.org/abs/2406.13037\"></div>"
      ],
      "text/plain": [
       "<IPython.core.display.Markdown object>"
      ]
     },
     "metadata": {},
     "output_type": "display_data"
    },
    {
     "data": {
      "text/markdown": [
       "<div class=\"macros\" style=\"visibility:hidden;\">\n",
       "$\\newcommand{\\ensuremath}{}$\n",
       "$\\newcommand{\\xspace}{}$\n",
       "$\\newcommand{\\object}[1]{\\texttt{#1}}$\n",
       "$\\newcommand{\\farcs}{{.}''}$\n",
       "$\\newcommand{\\farcm}{{.}'}$\n",
       "$\\newcommand{\\arcsec}{''}$\n",
       "$\\newcommand{\\arcmin}{'}$\n",
       "$\\newcommand{\\ion}[2]{#1#2}$\n",
       "$\\newcommand{\\textsc}[1]{\\textrm{#1}}$\n",
       "$\\newcommand{\\hl}[1]{\\textrm{#1}}$\n",
       "$\\newcommand{\\footnote}[1]{}$\n",
       "$\\newcommand{\\gsim}{{\\;\\raise0.3ex\\hbox{>\\kern-0.75em\\raise-1.1ex\\hbox{\\sim}}\\;}}$</div>\n",
       "\n",
       "\n",
       "\n",
       "<div id=\"title\">\n",
       "\n",
       "# $\\bf{The emergence of the Star Formation Main Sequence with redshift unfolded by JWST}$\n",
       "\n",
       "</div>\n",
       "<div id=\"comments\">\n",
       "\n",
       "[![arXiv](https://img.shields.io/badge/arXiv-2406.13554-b31b1b.svg)](https://arxiv.org/abs/2406.13554)<mark>Appeared on: 2024-06-21</mark> -  _15 pages, 4 figures. Submitted to ApJ_\n",
       "\n",
       "</div>\n",
       "<div id=\"authors\">\n",
       "\n",
       "P. Rinaldi, et al. -- incl., <mark>L. Boogaard</mark>, <mark>F. Walter</mark>\n",
       "\n",
       "</div>\n",
       "<div id=\"abstract\">\n",
       "\n",
       "**Abstract:** We investigate the correlation between stellar mass (M $_{\\star}$ ) and star formation rate (SFR) across the stellar mass range $\\log_{10}(\\rm M_{\\star}/M_{\\odot}) \\approx 6-11$ . We consider almost 50,000 star-forming galaxies at $z\\approx3-7$ , leveraging data from COSMOS/SMUVS, JADES/GOODS-SOUTH, and MIDIS/XDF. This is the first study spanning such a wide  stellar mass range without relying on gravitational lensing effects. We locate our galaxies on the $\\mathrm{SFR - M_{\\star}}$ plane to assess how the location of galaxies in the star-formation  main sequence (MS) and starburst (SB) region evolves with stellar mass and redshift. We find that the two star-forming modes tend to converge at $\\log_{10}(\\rm M_{\\star}/M_{\\odot}) < 7$ , with all galaxies found in the SB mode. By dissecting our galaxy sample in stellar mass and redshift, we show that the emergence of the star-formation MS is stellar-mass dependent: while in galaxies with $\\log_{10}(\\rm M_{\\star}/M_{\\odot}) > 9$ the MS is already well in place at $z=5-7$ , for galaxies with $\\log_{10}(\\rm M_{\\star}/M_{\\odot}) \\approx 7-8$ it only becomes significant at $z<4$ .  Overall, our results are in line with previous findings that the SB mode dominates amongst low stellar-mass galaxies. The earlier emergence of the MS for massive galaxies is consistent with galaxy downsizing.\n",
       "\n",
       "</div>\n",
       "\n",
       "<div id=\"div_fig1\">\n",
       "\n",
       "<img src=\"tmp_2406.13554/./sSFR_MASS_evo.png\" alt=\"Fig2\" width=\"100%\"/>\n",
       "\n",
       "**Figure 2. -** The sSFR distribution of the entire sample (JADES/GOODS-SOUTH + COSMOS/SMUVS) divided in four distinct stellar mass bins. The entire plane is colour coded following the regions derived by [Caputi, Deshmukh and Ashby (2017)](): the star-formation MS for sSFR $>$ 10$^{-8.05}$ yr$^{-1}$, the Starburst cloud for sSFR $>$ 10$^{-7.60}$ yr$^{-1}$, and the Star Formation Valley for 10$^{-8.05}$ yr$^{-1}$$\\leq$ sSFR $\\leq$ 10$^{-7.60}$ yr$^{-1}$. The sSFR distribution are color coded by age, as derived by LePHARE. To consider the different areas covered by JADES/GOODS-SOUTH (67.7 arcmin$^{2}$) and COSMOS/SMUVS (0.66 deg$^{2}$), we normalized the JADES/GOODS-SOUTH counts to match the COSMOS/SMUVS survey area, which is approximately 35 times larger than that of JADES/GOODS-SOUTH. (*figure:ssfr_m_evo*)\n",
       "\n",
       "</div>\n",
       "<div id=\"div_fig2\">\n",
       "\n",
       "<img src=\"tmp_2406.13554/./SFR_M.png\" alt=\"Fig1\" width=\"100%\"/>\n",
       "\n",
       "**Figure 1. -** The $\\mathrm{SFR}-\\mathrm{M_{\\star}}$ plane, showcasing all sources (JADES/GOODS-SOUTH + COSMOS/SMUVS) analyzed in this study, divided in redshift bins as indicated. The pale blue region marks the lower envelope for SB galaxies, based on the criteria from [Caputi, Deshmukh and Ashby (2017)](), [Caputi, Caminha and Fujimoto (2021)](). Fits for the MS and SB are derived from [Rinaldi and Caputi (2022)](). The gray shaded area represents the SFR threshold derived from the 2$\\sigma$ detection of the JADES images used in this work. The vertical dashed line in each panel refers to the stellar mass completeness (75\\%) of JADES sample at each redshift. The error bar showed in gray (upper right panel) indicate the median uncertainties on M$_{\\star}$ and SFR. White contours are also presented to show the bimodality between MS and SB. (*figure:sfr_m_plane*)\n",
       "\n",
       "</div>\n",
       "<div id=\"div_fig3\">\n",
       "\n",
       "<img src=\"tmp_2406.13554/./sSFR_REDSHIFT_evo.png\" alt=\"Fig3\" width=\"100%\"/>\n",
       "\n",
       "**Figure 3. -** The sSFR distribution of the entire sample (JADES/GOODS-SOUTH + COSMOS/SMUVS) divided, this time, in four distinct stellar mass bins and four redshift bins. Each column refers to a specific redshift bin, while each row refers to a specific stellar mass bin. All 16 panels are color coded following [Caputi, Deshmukh and Ashby (2017)](): the star-formation MS for sSFR $>$ 10$^{-8.05}$ yr$^{-1}$, the Starburst cloud for sSFR $>$ 10$^{-7.60}$ yr$^{-1}$, and the Star Formation Valley for 10$^{-8.05}$ yr$^{-1}$$\\leq$ sSFR $\\leq$ 10$^{-7.60}$ yr$^{-1}$. Also in this case, as we did in Figure \\ref{figure:ssfr_m_evo}, to consider the different areas covered by JADES/GOODS-SOUTH (67.7 arcmin$^{2}$) and COSMOS/SMUVS (0.66 deg$^{2}$), we normalized the JADES/GOODS-SOUTH counts to match the COSMOS/SMUVS survey area, which is approximately 35 times larger than that of JADES/GOODS-SOUTH. (*figure:ssfr_z_evo*)\n",
       "\n",
       "</div><div id=\"qrcode\"><img src=https://api.qrserver.com/v1/create-qr-code/?size=100x100&data=\"https://arxiv.org/abs/2406.13554\"></div>"
      ],
      "text/plain": [
       "<IPython.core.display.Markdown object>"
      ]
     },
     "metadata": {},
     "output_type": "display_data"
    }
   ],
   "source": [
    "[display(Markdown(k[1])) for k in documents];"
   ]
  },
  {
   "cell_type": "markdown",
   "id": "873873a4",
   "metadata": {
    "papermill": {
     "duration": 0.004608,
     "end_time": "2024-06-21T04:10:39.393731",
     "exception": false,
     "start_time": "2024-06-21T04:10:39.389123",
     "status": "completed"
    },
    "tags": []
   },
   "source": [
    "# Create HTML index"
   ]
  },
  {
   "cell_type": "code",
   "execution_count": 10,
   "id": "cf665672",
   "metadata": {
    "execution": {
     "iopub.execute_input": "2024-06-21T04:10:39.404017Z",
     "iopub.status.busy": "2024-06-21T04:10:39.403670Z",
     "iopub.status.idle": "2024-06-21T04:10:39.410353Z",
     "shell.execute_reply": "2024-06-21T04:10:39.409759Z"
    },
    "papermill": {
     "duration": 0.013382,
     "end_time": "2024-06-21T04:10:39.411724",
     "exception": false,
     "start_time": "2024-06-21T04:10:39.398342",
     "status": "completed"
    },
    "tags": []
   },
   "outputs": [
    {
     "name": "stdout",
     "output_type": "stream",
     "text": [
      "100  publications files modified in the last 7 days.\n"
     ]
    }
   ],
   "source": [
    "from datetime import datetime, timedelta, timezone\n",
    "from glob import glob\n",
    "import os\n",
    "\n",
    "files = glob('_build/html/*.md')\n",
    "days = 7\n",
    "now = datetime.today()\n",
    "res = []\n",
    "for fk in files:\n",
    "    stat_result = os.stat(fk).st_ctime\n",
    "    modified = datetime.fromtimestamp(stat_result, tz=timezone.utc).replace(tzinfo=None)\n",
    "    delta = now.today() - modified\n",
    "    if delta <= timedelta(days=days):\n",
    "        res.append((delta.seconds, fk))\n",
    "res = [k[1] for k in reversed(sorted(res, key=lambda x:x[1]))]\n",
    "npub = len(res)\n",
    "print(len(res), f\" publications files modified in the last {days:d} days.\")\n",
    "# [ print('\\t', k) for k in res ];"
   ]
  },
  {
   "cell_type": "code",
   "execution_count": 11,
   "id": "015de740",
   "metadata": {
    "execution": {
     "iopub.execute_input": "2024-06-21T04:10:39.422562Z",
     "iopub.status.busy": "2024-06-21T04:10:39.422202Z",
     "iopub.status.idle": "2024-06-21T04:10:39.433208Z",
     "shell.execute_reply": "2024-06-21T04:10:39.432575Z"
    },
    "papermill": {
     "duration": 0.017759,
     "end_time": "2024-06-21T04:10:39.434492",
     "exception": false,
     "start_time": "2024-06-21T04:10:39.416733",
     "status": "completed"
    },
    "tags": []
   },
   "outputs": [
    {
     "name": "stdout",
     "output_type": "stream",
     "text": [
      "6  publications in the last 7 days.\n"
     ]
    }
   ],
   "source": [
    "import datetime\n",
    "from glob import glob\n",
    "\n",
    "def get_last_n_days(lst, days=1):\n",
    "    \"\"\" Get the documents from the last n days \"\"\"\n",
    "    sorted_lst = sorted(lst, key=lambda x: x[1], reverse=True)\n",
    "    for fname, date in sorted_lst:\n",
    "        if date >= str(datetime.date.today() - datetime.timedelta(days=days)):\n",
    "            yield fname\n",
    "\n",
    "def extract_appearance_dates(lst_file):\n",
    "    dates = []\n",
    "\n",
    "    def get_date(line):\n",
    "        return line\\\n",
    "            .split('Appeared on:')[-1]\\\n",
    "            .split('</mark>')[0].strip()\n",
    "\n",
    "    for fname in lst:\n",
    "        with open(fname, 'r') as f:\n",
    "            found_date = False\n",
    "            for line in f:\n",
    "                if not found_date:\n",
    "                    if \"Appeared on\" in line:\n",
    "                        found_date = True\n",
    "                        dates.append((fname, get_date(line)))\n",
    "                else:\n",
    "                    break\n",
    "    return dates\n",
    "\n",
    "from glob import glob\n",
    "lst = glob('_build/html/*md')\n",
    "days = 7\n",
    "dates = extract_appearance_dates(lst)\n",
    "res = list(get_last_n_days(dates, days))\n",
    "npub = len(res)\n",
    "print(len(res), f\" publications in the last {days:d} days.\")"
   ]
  },
  {
   "cell_type": "code",
   "execution_count": 12,
   "id": "52ca0208",
   "metadata": {
    "execution": {
     "iopub.execute_input": "2024-06-21T04:10:39.445202Z",
     "iopub.status.busy": "2024-06-21T04:10:39.444807Z",
     "iopub.status.idle": "2024-06-21T04:10:39.449726Z",
     "shell.execute_reply": "2024-06-21T04:10:39.449112Z"
    },
    "papermill": {
     "duration": 0.011776,
     "end_time": "2024-06-21T04:10:39.451030",
     "exception": false,
     "start_time": "2024-06-21T04:10:39.439254",
     "status": "completed"
    },
    "scrolled": false,
    "tags": []
   },
   "outputs": [],
   "source": [
    "def create_carousel(npub=4):\n",
    "    \"\"\" Generate the HTML code for a carousel with `npub` slides \"\"\"\n",
    "    carousel = [\"\"\"  <div class=\"carousel\" \"\"\",\n",
    "                \"\"\"       data-flickity='{ \"autoPlay\": 10000, \"adaptiveHeight\": true, \"resize\": true, \"wrapAround\": true, \"pauseAutoPlayOnHover\": true, \"groupCells\": 1 }' id=\"asyncTypeset\">\"\"\"\n",
    "                ]\n",
    "    \n",
    "    item_str = \"\"\"    <div class=\"carousel-cell\"> <div id=\"slide{k}\" class=\"md_view\">Content {k}</div> </div>\"\"\"\n",
    "    for k in range(1, npub + 1):\n",
    "        carousel.append(item_str.format(k=k))\n",
    "    carousel.append(\"  </div>\")\n",
    "    return '\\n'.join(carousel)\n",
    "\n",
    "def create_grid(npub=4):\n",
    "    \"\"\" Generate the HTML code for a flat grid with `npub` slides \"\"\"\n",
    "    grid = [\"\"\"  <div class=\"grid\"> \"\"\",\n",
    "                ]\n",
    "    \n",
    "    item_str = \"\"\"    <div class=\"grid-item\"> <div id=\"slide{k}\" class=\"md_view\">Content {k}</div> </div>\"\"\"\n",
    "    for k in range(1, npub + 1):\n",
    "        grid.append(item_str.format(k=k))\n",
    "    grid.append(\"  </div>\")\n",
    "    return '\\n'.join(grid)"
   ]
  },
  {
   "cell_type": "code",
   "execution_count": 13,
   "id": "a6eac5b6",
   "metadata": {
    "execution": {
     "iopub.execute_input": "2024-06-21T04:10:39.461586Z",
     "iopub.status.busy": "2024-06-21T04:10:39.461404Z",
     "iopub.status.idle": "2024-06-21T04:10:39.466468Z",
     "shell.execute_reply": "2024-06-21T04:10:39.465855Z"
    },
    "papermill": {
     "duration": 0.011857,
     "end_time": "2024-06-21T04:10:39.467804",
     "exception": false,
     "start_time": "2024-06-21T04:10:39.455947",
     "status": "completed"
    },
    "scrolled": false,
    "tags": []
   },
   "outputs": [],
   "source": [
    "carousel = create_carousel(npub)\n",
    "docs = ', '.join(['\"{0:s}\"'.format(k.split('/')[-1]) for k in res])\n",
    "slides = ', '.join([f'\"slide{k}\"' for k in range(1, npub + 1)])\n",
    "\n",
    "with open(\"daily_template.html\", \"r\") as tpl:\n",
    "    page = tpl.read()\n",
    "    page = page.replace(\"{%-- carousel:s --%}\", carousel)\\\n",
    "               .replace(\"{%-- suptitle:s --%}\",  \"7-day archives\" )\\\n",
    "               .replace(\"{%-- docs:s --%}\", docs)\\\n",
    "               .replace(\"{%-- slides:s --%}\", slides)\n",
    "    \n",
    "with open(\"_build/html/index_7days.html\", 'w') as fout:\n",
    "    fout.write(page)"
   ]
  },
  {
   "cell_type": "code",
   "execution_count": 14,
   "id": "adc1a1ec",
   "metadata": {
    "execution": {
     "iopub.execute_input": "2024-06-21T04:10:39.478537Z",
     "iopub.status.busy": "2024-06-21T04:10:39.478164Z",
     "iopub.status.idle": "2024-06-21T04:10:39.484296Z",
     "shell.execute_reply": "2024-06-21T04:10:39.483751Z"
    },
    "papermill": {
     "duration": 0.012925,
     "end_time": "2024-06-21T04:10:39.485568",
     "exception": false,
     "start_time": "2024-06-21T04:10:39.472643",
     "status": "completed"
    },
    "tags": []
   },
   "outputs": [
    {
     "name": "stdout",
     "output_type": "stream",
     "text": [
      "3  publications in the last day.\n"
     ]
    }
   ],
   "source": [
    "# redo for today\n",
    "days = 1\n",
    "res = list(get_last_n_days(dates, days))\n",
    "npub = len(res)\n",
    "print(len(res), f\" publications in the last day.\")\n",
    "\n",
    "carousel = create_carousel(npub)\n",
    "docs = ', '.join(['\"{0:s}\"'.format(k.split('/')[-1]) for k in res])\n",
    "slides = ', '.join([f'\"slide{k}\"' for k in range(1, npub + 1)])\n",
    "\n",
    "with open(\"daily_template.html\", \"r\") as tpl:\n",
    "    page = tpl.read()\n",
    "    page = page.replace(\"{%-- carousel:s --%}\", carousel)\\\n",
    "               .replace(\"{%-- suptitle:s --%}\",  \"Daily\" )\\\n",
    "               .replace(\"{%-- docs:s --%}\", docs)\\\n",
    "               .replace(\"{%-- slides:s --%}\", slides)\n",
    "    \n",
    "# print(carousel, docs, slides)\n",
    "# print(page)\n",
    "with open(\"_build/html/index_daily.html\", 'w') as fout:\n",
    "    fout.write(page)"
   ]
  },
  {
   "cell_type": "code",
   "execution_count": 15,
   "id": "00eece82",
   "metadata": {
    "execution": {
     "iopub.execute_input": "2024-06-21T04:10:39.496889Z",
     "iopub.status.busy": "2024-06-21T04:10:39.496325Z",
     "iopub.status.idle": "2024-06-21T04:10:39.502607Z",
     "shell.execute_reply": "2024-06-21T04:10:39.502104Z"
    },
    "papermill": {
     "duration": 0.013242,
     "end_time": "2024-06-21T04:10:39.503932",
     "exception": false,
     "start_time": "2024-06-21T04:10:39.490690",
     "status": "completed"
    },
    "scrolled": false,
    "tags": []
   },
   "outputs": [
    {
     "name": "stdout",
     "output_type": "stream",
     "text": [
      "6  6 publications selected.\n"
     ]
    }
   ],
   "source": [
    "# Create the flat grid of the last N papers (fixed number regardless of dates)\n",
    "from itertools import islice \n",
    "\n",
    "npub = 6\n",
    "res = [k[0] for k in (islice(reversed(sorted(dates, key=lambda x: x[1])), 6))]\n",
    "print(len(res), f\" {npub} publications selected.\")\n",
    "\n",
    "grid = create_grid(npub)\n",
    "docs = ', '.join(['\"{0:s}\"'.format(k.split('/')[-1]) for k in res])\n",
    "slides = ', '.join([f'\"slide{k}\"' for k in range(1, npub + 1)])\n",
    "\n",
    "with open(\"grid_template.html\", \"r\") as tpl:\n",
    "    page = tpl.read()\n",
    "    page = page.replace(\"{%-- grid-content:s --%}\", grid)\\\n",
    "               .replace(\"{%-- suptitle:s --%}\",  f\"Last {npub:,d} papers\" )\\\n",
    "               .replace(\"{%-- docs:s --%}\", docs)\\\n",
    "               .replace(\"{%-- slides:s --%}\", slides)\n",
    "    \n",
    "# print(grid, docs, slides)\n",
    "# print(page)\n",
    "with open(\"_build/html/index_npub_grid.html\", 'w') as fout:\n",
    "    fout.write(page)"
   ]
  }
 ],
 "metadata": {
  "kernelspec": {
   "display_name": "Python 3 (ipykernel)",
   "language": "python",
   "name": "python3"
  },
  "language_info": {
   "codemirror_mode": {
    "name": "ipython",
    "version": 3
   },
   "file_extension": ".py",
   "mimetype": "text/x-python",
   "name": "python",
   "nbconvert_exporter": "python",
   "pygments_lexer": "ipython3",
   "version": "3.9.19"
  },
  "papermill": {
   "default_parameters": {},
   "duration": 99.843336,
   "end_time": "2024-06-21T04:10:39.724820",
   "environment_variables": {},
   "exception": null,
   "input_path": "MPIA daily digest.ipynb",
   "output_path": "log.ipynb",
   "parameters": {},
   "start_time": "2024-06-21T04:08:59.881484",
   "version": "2.6.0"
  },
  "vscode": {
   "interpreter": {
    "hash": "aee8b7b246df8f9039afb4144a1f6fd8d2ca17a180786b69acc140d282b71a49"
   }
  },
  "widgets": {
   "application/vnd.jupyter.widget-state+json": {
    "state": {
     "2415a2664429492baf441ec8dad3cf39": {
      "model_module": "@jupyter-widgets/controls",
      "model_module_version": "2.0.0",
      "model_name": "ProgressStyleModel",
      "state": {
       "_model_module": "@jupyter-widgets/controls",
       "_model_module_version": "2.0.0",
       "_model_name": "ProgressStyleModel",
       "_view_count": null,
       "_view_module": "@jupyter-widgets/base",
       "_view_module_version": "2.0.0",
       "_view_name": "StyleView",
       "bar_color": null,
       "description_width": ""
      }
     },
     "2dd9fc3fe3054f8889568e106a574a99": {
      "model_module": "@jupyter-widgets/controls",
      "model_module_version": "2.0.0",
      "model_name": "HTMLStyleModel",
      "state": {
       "_model_module": "@jupyter-widgets/controls",
       "_model_module_version": "2.0.0",
       "_model_name": "HTMLStyleModel",
       "_view_count": null,
       "_view_module": "@jupyter-widgets/base",
       "_view_module_version": "2.0.0",
       "_view_name": "StyleView",
       "background": null,
       "description_width": "",
       "font_size": null,
       "text_color": null
      }
     },
     "34403d4ef9f34147be18433d2db95b67": {
      "model_module": "@jupyter-widgets/controls",
      "model_module_version": "2.0.0",
      "model_name": "HTMLModel",
      "state": {
       "_dom_classes": [],
       "_model_module": "@jupyter-widgets/controls",
       "_model_module_version": "2.0.0",
       "_model_name": "HTMLModel",
       "_view_count": null,
       "_view_module": "@jupyter-widgets/controls",
       "_view_module_version": "2.0.0",
       "_view_name": "HTMLView",
       "description": "",
       "description_allow_html": false,
       "layout": "IPY_MODEL_e0319487080544a29a38636f98115a78",
       "placeholder": "​",
       "style": "IPY_MODEL_2dd9fc3fe3054f8889568e106a574a99",
       "tabbable": null,
       "tooltip": null,
       "value": " 4/4 [01:20&lt;00:00, 16.29s/it]"
      }
     },
     "530fa42df58f4077a5afc012a0c05c1d": {
      "model_module": "@jupyter-widgets/controls",
      "model_module_version": "2.0.0",
      "model_name": "HTMLModel",
      "state": {
       "_dom_classes": [],
       "_model_module": "@jupyter-widgets/controls",
       "_model_module_version": "2.0.0",
       "_model_name": "HTMLModel",
       "_view_count": null,
       "_view_module": "@jupyter-widgets/controls",
       "_view_module_version": "2.0.0",
       "_view_name": "HTMLView",
       "description": "",
       "description_allow_html": false,
       "layout": "IPY_MODEL_580b7bfa24d6447c83d2a0022c784c1f",
       "placeholder": "​",
       "style": "IPY_MODEL_d555e0d1518d4c15bcd05db49fdf91b7",
       "tabbable": null,
       "tooltip": null,
       "value": "100%"
      }
     },
     "580b7bfa24d6447c83d2a0022c784c1f": {
      "model_module": "@jupyter-widgets/base",
      "model_module_version": "2.0.0",
      "model_name": "LayoutModel",
      "state": {
       "_model_module": "@jupyter-widgets/base",
       "_model_module_version": "2.0.0",
       "_model_name": "LayoutModel",
       "_view_count": null,
       "_view_module": "@jupyter-widgets/base",
       "_view_module_version": "2.0.0",
       "_view_name": "LayoutView",
       "align_content": null,
       "align_items": null,
       "align_self": null,
       "border_bottom": null,
       "border_left": null,
       "border_right": null,
       "border_top": null,
       "bottom": null,
       "display": null,
       "flex": null,
       "flex_flow": null,
       "grid_area": null,
       "grid_auto_columns": null,
       "grid_auto_flow": null,
       "grid_auto_rows": null,
       "grid_column": null,
       "grid_gap": null,
       "grid_row": null,
       "grid_template_areas": null,
       "grid_template_columns": null,
       "grid_template_rows": null,
       "height": null,
       "justify_content": null,
       "justify_items": null,
       "left": null,
       "margin": null,
       "max_height": null,
       "max_width": null,
       "min_height": null,
       "min_width": null,
       "object_fit": null,
       "object_position": null,
       "order": null,
       "overflow": null,
       "padding": null,
       "right": null,
       "top": null,
       "visibility": null,
       "width": null
      }
     },
     "62dadea815ac4d47a0f17122b798c5b8": {
      "model_module": "@jupyter-widgets/base",
      "model_module_version": "2.0.0",
      "model_name": "LayoutModel",
      "state": {
       "_model_module": "@jupyter-widgets/base",
       "_model_module_version": "2.0.0",
       "_model_name": "LayoutModel",
       "_view_count": null,
       "_view_module": "@jupyter-widgets/base",
       "_view_module_version": "2.0.0",
       "_view_name": "LayoutView",
       "align_content": null,
       "align_items": null,
       "align_self": null,
       "border_bottom": null,
       "border_left": null,
       "border_right": null,
       "border_top": null,
       "bottom": null,
       "display": null,
       "flex": null,
       "flex_flow": null,
       "grid_area": null,
       "grid_auto_columns": null,
       "grid_auto_flow": null,
       "grid_auto_rows": null,
       "grid_column": null,
       "grid_gap": null,
       "grid_row": null,
       "grid_template_areas": null,
       "grid_template_columns": null,
       "grid_template_rows": null,
       "height": null,
       "justify_content": null,
       "justify_items": null,
       "left": null,
       "margin": null,
       "max_height": null,
       "max_width": null,
       "min_height": null,
       "min_width": null,
       "object_fit": null,
       "object_position": null,
       "order": null,
       "overflow": null,
       "padding": null,
       "right": null,
       "top": null,
       "visibility": null,
       "width": null
      }
     },
     "77b8b5e1725a45b9aada9852453da762": {
      "model_module": "@jupyter-widgets/controls",
      "model_module_version": "2.0.0",
      "model_name": "HBoxModel",
      "state": {
       "_dom_classes": [],
       "_model_module": "@jupyter-widgets/controls",
       "_model_module_version": "2.0.0",
       "_model_name": "HBoxModel",
       "_view_count": null,
       "_view_module": "@jupyter-widgets/controls",
       "_view_module_version": "2.0.0",
       "_view_name": "HBoxView",
       "box_style": "",
       "children": [
        "IPY_MODEL_530fa42df58f4077a5afc012a0c05c1d",
        "IPY_MODEL_c6b8511b18ca4f6680c790823ddd129f",
        "IPY_MODEL_34403d4ef9f34147be18433d2db95b67"
       ],
       "layout": "IPY_MODEL_62dadea815ac4d47a0f17122b798c5b8",
       "tabbable": null,
       "tooltip": null
      }
     },
     "aa3b5345990c4caea9cb84335ad4cb38": {
      "model_module": "@jupyter-widgets/base",
      "model_module_version": "2.0.0",
      "model_name": "LayoutModel",
      "state": {
       "_model_module": "@jupyter-widgets/base",
       "_model_module_version": "2.0.0",
       "_model_name": "LayoutModel",
       "_view_count": null,
       "_view_module": "@jupyter-widgets/base",
       "_view_module_version": "2.0.0",
       "_view_name": "LayoutView",
       "align_content": null,
       "align_items": null,
       "align_self": null,
       "border_bottom": null,
       "border_left": null,
       "border_right": null,
       "border_top": null,
       "bottom": null,
       "display": null,
       "flex": null,
       "flex_flow": null,
       "grid_area": null,
       "grid_auto_columns": null,
       "grid_auto_flow": null,
       "grid_auto_rows": null,
       "grid_column": null,
       "grid_gap": null,
       "grid_row": null,
       "grid_template_areas": null,
       "grid_template_columns": null,
       "grid_template_rows": null,
       "height": null,
       "justify_content": null,
       "justify_items": null,
       "left": null,
       "margin": null,
       "max_height": null,
       "max_width": null,
       "min_height": null,
       "min_width": null,
       "object_fit": null,
       "object_position": null,
       "order": null,
       "overflow": null,
       "padding": null,
       "right": null,
       "top": null,
       "visibility": null,
       "width": null
      }
     },
     "c6b8511b18ca4f6680c790823ddd129f": {
      "model_module": "@jupyter-widgets/controls",
      "model_module_version": "2.0.0",
      "model_name": "FloatProgressModel",
      "state": {
       "_dom_classes": [],
       "_model_module": "@jupyter-widgets/controls",
       "_model_module_version": "2.0.0",
       "_model_name": "FloatProgressModel",
       "_view_count": null,
       "_view_module": "@jupyter-widgets/controls",
       "_view_module_version": "2.0.0",
       "_view_name": "ProgressView",
       "bar_style": "success",
       "description": "",
       "description_allow_html": false,
       "layout": "IPY_MODEL_aa3b5345990c4caea9cb84335ad4cb38",
       "max": 4.0,
       "min": 0.0,
       "orientation": "horizontal",
       "style": "IPY_MODEL_2415a2664429492baf441ec8dad3cf39",
       "tabbable": null,
       "tooltip": null,
       "value": 4.0
      }
     },
     "d555e0d1518d4c15bcd05db49fdf91b7": {
      "model_module": "@jupyter-widgets/controls",
      "model_module_version": "2.0.0",
      "model_name": "HTMLStyleModel",
      "state": {
       "_model_module": "@jupyter-widgets/controls",
       "_model_module_version": "2.0.0",
       "_model_name": "HTMLStyleModel",
       "_view_count": null,
       "_view_module": "@jupyter-widgets/base",
       "_view_module_version": "2.0.0",
       "_view_name": "StyleView",
       "background": null,
       "description_width": "",
       "font_size": null,
       "text_color": null
      }
     },
     "e0319487080544a29a38636f98115a78": {
      "model_module": "@jupyter-widgets/base",
      "model_module_version": "2.0.0",
      "model_name": "LayoutModel",
      "state": {
       "_model_module": "@jupyter-widgets/base",
       "_model_module_version": "2.0.0",
       "_model_name": "LayoutModel",
       "_view_count": null,
       "_view_module": "@jupyter-widgets/base",
       "_view_module_version": "2.0.0",
       "_view_name": "LayoutView",
       "align_content": null,
       "align_items": null,
       "align_self": null,
       "border_bottom": null,
       "border_left": null,
       "border_right": null,
       "border_top": null,
       "bottom": null,
       "display": null,
       "flex": null,
       "flex_flow": null,
       "grid_area": null,
       "grid_auto_columns": null,
       "grid_auto_flow": null,
       "grid_auto_rows": null,
       "grid_column": null,
       "grid_gap": null,
       "grid_row": null,
       "grid_template_areas": null,
       "grid_template_columns": null,
       "grid_template_rows": null,
       "height": null,
       "justify_content": null,
       "justify_items": null,
       "left": null,
       "margin": null,
       "max_height": null,
       "max_width": null,
       "min_height": null,
       "min_width": null,
       "object_fit": null,
       "object_position": null,
       "order": null,
       "overflow": null,
       "padding": null,
       "right": null,
       "top": null,
       "visibility": null,
       "width": null
      }
     }
    },
    "version_major": 2,
    "version_minor": 0
   }
  }
 },
 "nbformat": 4,
 "nbformat_minor": 5
}