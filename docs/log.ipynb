{
 "cells": [
  {
   "cell_type": "markdown",
   "id": "92bcb855",
   "metadata": {
    "papermill": {
     "duration": 0.003959,
     "end_time": "2024-09-12T04:10:31.416146",
     "exception": false,
     "start_time": "2024-09-12T04:10:31.412187",
     "status": "completed"
    },
    "tags": []
   },
   "source": [
    "# MPIA Arxiv on Deck 2\n",
    "\n",
    "Contains the steps to produce the paper extractions."
   ]
  },
  {
   "cell_type": "code",
   "execution_count": 1,
   "id": "3a0d6e11",
   "metadata": {
    "execution": {
     "iopub.execute_input": "2024-09-12T04:10:31.423856Z",
     "iopub.status.busy": "2024-09-12T04:10:31.423259Z",
     "iopub.status.idle": "2024-09-12T04:10:31.901744Z",
     "shell.execute_reply": "2024-09-12T04:10:31.901180Z"
    },
    "papermill": {
     "duration": 0.484179,
     "end_time": "2024-09-12T04:10:31.903472",
     "exception": false,
     "start_time": "2024-09-12T04:10:31.419293",
     "status": "completed"
    },
    "tags": []
   },
   "outputs": [],
   "source": [
    "# Imports\n",
    "import os\n",
    "from IPython.display import Markdown, display\n",
    "from tqdm.notebook import tqdm\n",
    "import warnings\n",
    "from PIL import Image \n",
    "\n",
    "# requires arxiv_on_deck_2\n",
    "\n",
    "from arxiv_on_deck_2.arxiv2 import (get_new_papers, \n",
    "                                    get_paper_from_identifier,\n",
    "                                    retrieve_document_source, \n",
    "                                    get_markdown_badge)\n",
    "from arxiv_on_deck_2 import (latex,\n",
    "                             latex_bib,\n",
    "                             mpia,\n",
    "                             highlight_authors_in_list)\n",
    "\n",
    "# Sometimes images are really big\n",
    "Image.MAX_IMAGE_PIXELS = 1000000000 "
   ]
  },
  {
   "cell_type": "code",
   "execution_count": 2,
   "id": "22aa9d44",
   "metadata": {
    "execution": {
     "iopub.execute_input": "2024-09-12T04:10:31.911048Z",
     "iopub.status.busy": "2024-09-12T04:10:31.910479Z",
     "iopub.status.idle": "2024-09-12T04:10:31.915544Z",
     "shell.execute_reply": "2024-09-12T04:10:31.914902Z"
    },
    "papermill": {
     "duration": 0.010197,
     "end_time": "2024-09-12T04:10:31.916848",
     "exception": false,
     "start_time": "2024-09-12T04:10:31.906651",
     "status": "completed"
    },
    "tags": []
   },
   "outputs": [],
   "source": [
    "# Some useful definitions.\n",
    "\n",
    "class AffiliationWarning(UserWarning):\n",
    "    pass\n",
    "\n",
    "class AffiliationError(RuntimeError):\n",
    "    pass\n",
    "\n",
    "def validation(source: str):\n",
    "    \"\"\"Raises error paper during parsing of source file\n",
    "    \n",
    "    Allows checks before parsing TeX code.\n",
    "    \n",
    "    Raises AffiliationWarning\n",
    "    \"\"\"\n",
    "    check = mpia.affiliation_verifications(source, verbose=True)\n",
    "    if check is not True:\n",
    "        raise AffiliationError(\"mpia.affiliation_verifications: \" + check)\n",
    "\n",
    "        \n",
    "warnings.simplefilter('always', AffiliationWarning)\n",
    "\n",
    "\n",
    "def get_markdown_qrcode(paper_id: str):\n",
    "    \"\"\" Generate a qrcode to the arxiv page using qrserver.com\n",
    "    \n",
    "    :param paper: Arxiv paper\n",
    "    :returns: markdown text\n",
    "    \"\"\"\n",
    "    url = r\"https://api.qrserver.com/v1/create-qr-code/?size=100x100&data=\"\n",
    "    txt = f\"\"\"<img src={url}\"https://arxiv.org/abs/{paper_id}\">\"\"\"\n",
    "    txt = '<div id=\"qrcode\">' + txt + '</div>'\n",
    "    return txt"
   ]
  },
  {
   "cell_type": "markdown",
   "id": "14bd6310",
   "metadata": {
    "papermill": {
     "duration": 0.002816,
     "end_time": "2024-09-12T04:10:31.922598",
     "exception": false,
     "start_time": "2024-09-12T04:10:31.919782",
     "status": "completed"
    },
    "tags": []
   },
   "source": [
    "## get list of arxiv paper candidates\n",
    "\n",
    "We use the MPIA mitarbeiter list webpage from mpia.de to get author names\n",
    "We then get all new papers from Arxiv and match authors"
   ]
  },
  {
   "cell_type": "code",
   "execution_count": 3,
   "id": "7ea813a8",
   "metadata": {
    "execution": {
     "iopub.execute_input": "2024-09-12T04:10:31.929385Z",
     "iopub.status.busy": "2024-09-12T04:10:31.929024Z",
     "iopub.status.idle": "2024-09-12T04:10:48.538425Z",
     "shell.execute_reply": "2024-09-12T04:10:48.537742Z"
    },
    "papermill": {
     "duration": 16.614624,
     "end_time": "2024-09-12T04:10:48.540132",
     "exception": false,
     "start_time": "2024-09-12T04:10:31.925508",
     "status": "completed"
    },
    "tags": []
   },
   "outputs": [],
   "source": [
    "# deal with the author list and edge cases of people that cannot be consistent on their name  \n",
    "\n",
    "def filter_non_scientists(name: str) -> bool:\n",
    "    \"\"\" Loose filter on expected authorships\n",
    "\n",
    "    removing IT, administration, technical staff\n",
    "    :param name: name\n",
    "    :returns: False if name is not a scientist\n",
    "    \"\"\"\n",
    "    remove_list = ['Wolf', 'Licht', 'Binroth', 'Witzel', 'Jordan',\n",
    "                   'Zähringer', 'Scheerer', 'Hoffmann', 'Düe',\n",
    "                   'Hellmich', 'Enkler-Scharpegge', 'Witte-Nguy',\n",
    "                   'Dehen', 'Beckmann', 'Jager', 'Jäger'\n",
    "                  ]\n",
    "\n",
    "    for k in remove_list:\n",
    "        if k in name:\n",
    "            return False\n",
    "    return True\n",
    "\n",
    "def add_author_to_list(author_list: list) -> list:\n",
    "    \"\"\" Add author to list if not already in list\n",
    "    \n",
    "    :param author: author name\n",
    "    :param author_list: list of authors\n",
    "    :returns: updated list of authors\n",
    "    \"\"\"\n",
    "    add_list = ['T. Henning']\n",
    "\n",
    "    for author in add_list:\n",
    "        if author not in author_list:\n",
    "            author_list.append(author)\n",
    "    return author_list\n",
    "\n",
    "# get list from MPIA website\n",
    "# filter for non-scientists (mpia.get_mpia_mitarbeiter_list() does some filtering)\n",
    "mpia_authors = [k[1] for k in mpia.get_mpia_mitarbeiter_list() if filter_non_scientists(k[1])]\n",
    "# add some missing author because of inconsistencies in their MPIA name and author name on papers\n",
    "mpia_authors = add_author_to_list(mpia_authors)"
   ]
  },
  {
   "cell_type": "code",
   "execution_count": 4,
   "id": "2645e73a",
   "metadata": {
    "execution": {
     "iopub.execute_input": "2024-09-12T04:10:48.548572Z",
     "iopub.status.busy": "2024-09-12T04:10:48.548209Z",
     "iopub.status.idle": "2024-09-12T04:10:49.027800Z",
     "shell.execute_reply": "2024-09-12T04:10:49.027225Z"
    },
    "papermill": {
     "duration": 0.484821,
     "end_time": "2024-09-12T04:10:49.029125",
     "exception": false,
     "start_time": "2024-09-12T04:10:48.544304",
     "status": "completed"
    },
    "tags": []
   },
   "outputs": [
    {
     "name": "stdout",
     "output_type": "stream",
     "text": [
      "E. Bañados  ->  E. Bañados  |  ['E. Bañados']\n",
      "Y. Khusanova  ->  Y. Khusanova  |  ['Y. Khusanova']\n",
      "I. J. M. Crossfield  ->  I. J. M. Crossfield  |  ['I. J. M. Crossfield']\n",
      "K. Jahnke  ->  K. Jahnke  |  ['K. Jahnke']\n",
      "J. Li  ->  J. Li  |  ['J. Li']\n",
      "F. Walter  ->  F. Walter  |  ['F. Walter']\n"
     ]
    },
    {
     "name": "stdout",
     "output_type": "stream",
     "text": [
      "Arxiv has 60 new papers today\n",
      "          3 with possible author matches\n"
     ]
    }
   ],
   "source": [
    "new_papers = get_new_papers()\n",
    "# add manual references\n",
    "add_paper_refs = []\n",
    "new_papers.extend([get_paper_from_identifier(k) for k in add_paper_refs])\n",
    "\n",
    "candidates = []\n",
    "for paperk in new_papers:\n",
    "    # Check author list with their initials\n",
    "    normed_author_list = [mpia.get_initials(k) for k in paperk['authors']]\n",
    "    hl_authors = highlight_authors_in_list(normed_author_list, mpia_authors, verbose=True)\n",
    "    matches = [(hl, orig) for hl, orig in zip(hl_authors, paperk['authors']) if 'mark' in hl]\n",
    "    paperk['authors'] = hl_authors\n",
    "    if matches:\n",
    "        # only select paper if an author matched our list\n",
    "        candidates.append(paperk)\n",
    "print(\"\"\"Arxiv has {0:,d} new papers today\"\"\".format(len(new_papers)))        \n",
    "print(\"\"\"          {0:,d} with possible author matches\"\"\".format(len(candidates)))"
   ]
  },
  {
   "cell_type": "markdown",
   "id": "3543b34a",
   "metadata": {
    "papermill": {
     "duration": 0.003091,
     "end_time": "2024-09-12T04:10:49.036559",
     "exception": false,
     "start_time": "2024-09-12T04:10:49.033468",
     "status": "completed"
    },
    "tags": []
   },
   "source": [
    "# Parse sources and generate relevant outputs\n",
    "\n",
    "From the candidates, we do the following steps:\n",
    "* get their tarball from ArXiv (and extract data)\n",
    "* find the main .tex file: find one with \\documentclass{...} (sometimes it's non trivial)\n",
    "* Check affiliations with :func:`validation`, which uses :func:`mpia.affiliation_verifications`\n",
    "* If passing the affiliations: we parse the .tex source\n",
    "   * inject sub-documents into the main (flatten the main document)\n",
    "   * parse structure, extract information (title, abstract, authors, figures...)\n",
    "   * handles `\\graphicspath` if provided\n",
    "* Generate the .md document."
   ]
  },
  {
   "cell_type": "code",
   "execution_count": 5,
   "id": "9576b79e",
   "metadata": {
    "execution": {
     "iopub.execute_input": "2024-09-12T04:10:49.043636Z",
     "iopub.status.busy": "2024-09-12T04:10:49.043426Z",
     "iopub.status.idle": "2024-09-12T04:11:38.578430Z",
     "shell.execute_reply": "2024-09-12T04:11:38.577641Z"
    },
    "papermill": {
     "duration": 49.544593,
     "end_time": "2024-09-12T04:11:38.584165",
     "exception": false,
     "start_time": "2024-09-12T04:10:49.039572",
     "status": "completed"
    },
    "scrolled": false,
    "tags": []
   },
   "outputs": [
    {
     "data": {
      "application/vnd.jupyter.widget-view+json": {
       "model_id": "0b62056951274124abd035477d1e5d4a",
       "version_major": 2,
       "version_minor": 0
      },
      "text/plain": [
       "  0%|          | 0/3 [00:00<?, ?it/s]"
      ]
     },
     "metadata": {},
     "output_type": "display_data"
    },
    {
     "name": "stdout",
     "output_type": "stream",
     "text": [
      "Retrieving document from  https://arxiv.org/e-print/2409.06772\n"
     ]
    },
    {
     "name": "stdout",
     "output_type": "stream",
     "text": [
      "extracting tarball to tmp_2409.06772..."
     ]
    },
    {
     "name": "stdout",
     "output_type": "stream",
     "text": [
      " done.\n"
     ]
    },
    {
     "name": "stdout",
     "output_type": "stream",
     "text": [
      "E. Bañados  ->  E. Bañados  |  ['E. Bañados']\n",
      "Y. Khusanova  ->  Y. Khusanova  |  ['Y. Khusanova']\n"
     ]
    },
    {
     "name": "stdout",
     "output_type": "stream",
     "text": [
      "Found 116 bibliographic references in tmp_2409.06772/main.bbl.\n",
      "Retrieving document from  https://arxiv.org/e-print/2409.07019\n",
      "extracting tarball to tmp_2409.07019..."
     ]
    },
    {
     "name": "stdout",
     "output_type": "stream",
     "text": [
      " done.\n",
      "Retrieving document from  https://arxiv.org/e-print/2409.07113\n",
      "extracting tarball to tmp_2409.07113..."
     ]
    },
    {
     "name": "stderr",
     "output_type": "stream",
     "text": [
      "/opt/hostedtoolcache/Python/3.9.19/x64/lib/python3.9/site-packages/IPython/core/interactiveshell.py:3550: LatexWarning: Multiple tex files.\n",
      "\n",
      "  exec(code_obj, self.user_global_ns, self.user_ns)\n",
      "/tmp/ipykernel_2694/1211882699.py:51: LatexWarning: 2409.07019 did not run properly\n",
      "'PosixPath' object is not subscriptable\n",
      "  warnings.warn(latex.LatexWarning(f\"{paper_id:s} did not run properly\\n\" +\n"
     ]
    },
    {
     "name": "stdout",
     "output_type": "stream",
     "text": [
      " done.\n"
     ]
    },
    {
     "name": "stdout",
     "output_type": "stream",
     "text": [
      "K. Jahnke  ->  K. Jahnke  |  ['K. Jahnke']\n",
      "J. Li  ->  J. Li  |  ['J. Li']\n",
      "F. Walter  ->  F. Walter  |  ['F. Walter']\n"
     ]
    },
    {
     "name": "stderr",
     "output_type": "stream",
     "text": [
      "/opt/hostedtoolcache/Python/3.9.19/x64/lib/python3.9/site-packages/arxiv_on_deck_2/latex.py:745: LatexWarning: Could not extract abstract from tmp_2409.07113/manuscript.tex\n",
      "  warnings.warn(LatexWarning(f\"Could not extract abstract from {self.main_file}\"))\n"
     ]
    },
    {
     "name": "stdout",
     "output_type": "stream",
     "text": [
      "list index out of range\n"
     ]
    }
   ],
   "source": [
    "documents = []\n",
    "failed = []\n",
    "for paper in tqdm(candidates):\n",
    "    # debug crap\n",
    "    paper['identifier'] = paper['identifier'].lower().replace('arxiv:', '').replace(r'\\n', '').strip()\n",
    "    paper_id = paper['identifier']\n",
    "    \n",
    "    folder = f'tmp_{paper_id}'\n",
    "\n",
    "    try:\n",
    "        if not os.path.isdir(folder):\n",
    "            folder = retrieve_document_source(f\"{paper_id}\", f'tmp_{paper_id}')\n",
    "        \n",
    "        try:\n",
    "            doc = latex.LatexDocument(folder, validation=validation)    \n",
    "        except AffiliationError as affilerror:\n",
    "            msg = f\"ArXiv:{paper_id:s} is not an MPIA paper... \" + str(affilerror)\n",
    "            failed.append((paper, \"affiliation error: \" + str(affilerror) ))\n",
    "            continue\n",
    "        \n",
    "        # Hack because sometimes author parsing does not work well\n",
    "        if (len(doc.authors) != len(paper['authors'])):\n",
    "            doc._authors = paper['authors']\n",
    "        else:\n",
    "            # highlight authors (FIXME: doc.highlight_authors)\n",
    "            # done on arxiv paper already\n",
    "            doc._authors = highlight_authors_in_list(\n",
    "                [mpia.get_initials(k) for k in doc.authors], \n",
    "                mpia_authors, verbose=True)\n",
    "        if (doc.abstract) in (None, ''):\n",
    "            doc._abstract = paper['abstract']\n",
    "            \n",
    "        doc.comment = (get_markdown_badge(paper_id) + \n",
    "                       \"<mark>Appeared on: \" + paper['date'] + \"</mark> - \")\n",
    "        if paper['comments']:\n",
    "            doc.comment += \" _\" + paper['comments'] + \"_\"\n",
    "        \n",
    "        full_md = doc.generate_markdown_text()\n",
    "        \n",
    "        full_md += get_markdown_qrcode(paper_id)\n",
    "        \n",
    "        # replace citations\n",
    "        try:\n",
    "            bibdata = latex_bib.LatexBib.from_doc(doc)\n",
    "            full_md = latex_bib.replace_citations(full_md, bibdata)\n",
    "        except Exception as e:\n",
    "            print(e)\n",
    "        \n",
    "        documents.append((paper_id, full_md))\n",
    "    except Exception as e:\n",
    "        warnings.warn(latex.LatexWarning(f\"{paper_id:s} did not run properly\\n\" +\n",
    "                                         str(e)\n",
    "                                        ))\n",
    "        failed.append((paper, \"latex error \" + str(e)))"
   ]
  },
  {
   "cell_type": "markdown",
   "id": "2505a25c",
   "metadata": {
    "papermill": {
     "duration": 0.003819,
     "end_time": "2024-09-12T04:11:38.591783",
     "exception": false,
     "start_time": "2024-09-12T04:11:38.587964",
     "status": "completed"
    },
    "tags": []
   },
   "source": [
    "### Export the logs\n",
    "\n",
    "Throughout, we also keep track of the logs per paper. see `logs-{today date}.md` "
   ]
  },
  {
   "cell_type": "code",
   "execution_count": 6,
   "id": "d733828a",
   "metadata": {
    "execution": {
     "iopub.execute_input": "2024-09-12T04:11:38.600463Z",
     "iopub.status.busy": "2024-09-12T04:11:38.600017Z",
     "iopub.status.idle": "2024-09-12T04:11:38.614591Z",
     "shell.execute_reply": "2024-09-12T04:11:38.613996Z"
    },
    "papermill": {
     "duration": 0.020441,
     "end_time": "2024-09-12T04:11:38.615935",
     "exception": false,
     "start_time": "2024-09-12T04:11:38.595494",
     "status": "completed"
    },
    "scrolled": false,
    "tags": []
   },
   "outputs": [
    {
     "data": {
      "text/markdown": [
       "## Successful papers"
      ],
      "text/plain": [
       "<IPython.core.display.Markdown object>"
      ]
     },
     "metadata": {},
     "output_type": "display_data"
    },
    {
     "data": {
      "text/markdown": [
       "\n",
       "|||\n",
       "|---:|:---|\n",
       "| [![arXiv](https://img.shields.io/badge/arXiv-2409.06772-b31b1b.svg)](https://arxiv.org/abs/2409.06772) | **Broad-Line AGN at $3.5<z<6$: The Black Hole Mass Function and a Connection with Little Red Dots**  |\n",
       "|| A. J. Taylor, et al. -- incl., <mark>E. Bañados</mark>, <mark>Y. Khusanova</mark> |\n",
       "|*Appeared on*| *2024-09-12*|\n",
       "|*Comments*| *28 pages, 14 figures, 4 tables. Submitted to ApJ*|\n",
       "|**Abstract**|            We present a sample of 50 H-alpha detected broad-line active galactic nuclei (BLAGN) at redshifts 3.5<z<6.8 using data from the CEERS and RUBIES surveys. We select these sources directly from JWST/NIRSpec G395M/F290LP spectra. We use a multi-step pre-selection and a Bayesian fitting procedure to ensure a high-quality sample of sources with broad Balmer lines and narrow forbidden lines. We compute rest-frame ultraviolet and optical spectral slopes for these objects, and determine that 10 BLAGN in our sample are also little red dots (LRDs). These LRD BLAGN, when examined in aggregate, show broader H-alpha line profiles and a higher fraction of broad-to-narrow component H-alpha emission than non-LRD BLAGN. Moreover, we find that ~66% of these objects are intrinsically reddened (beta (optical)>0), independent of the contributions of emission lines to the broadband photometry. We construct the black hole (BH) mass function at 3.5<z<6 after computing robust observational and line detection completeness corrections. This BH mass function shows broad agreement with both recent JWST/NIRSpec and JWST/NIRCam WFSS based BH mass functions, though we extend these earlier results to log(M(BH)/M(sun)) < 7. The derived BH mass function is consistent with a variety of theoretical models, indicating that the observed abundance of black holes in the early universe is not discrepant with physically-motivated predictions. The BH mass function shape resembles a largely featureless power-law, suggesting that any signature from black-hole seeding has been lost by redshift z~5-6. Finally, we compute the BLAGN UV luminosity function and find good agreement with JWST-detected BLAGN samples from recent works, finding that BLAGN hosts constitute <10% of the total observed UV luminosity at all but the brightest luminosities.         |"
      ],
      "text/plain": [
       "[2409.06772] Broad-Line AGN at $3.5<z<6$: The Black Hole Mass Function and a Connection with Little Red Dots\n",
       "\tA. J. Taylor, et al. -- incl., <mark>E. Bañados</mark>, <mark>Y. Khusanova</mark>"
      ]
     },
     "metadata": {},
     "output_type": "display_data"
    },
    {
     "data": {
      "text/markdown": [
       "\n",
       "|||\n",
       "|---:|:---|\n",
       "| [![arXiv](https://img.shields.io/badge/arXiv-2409.07113-b31b1b.svg)](https://arxiv.org/abs/2409.07113) | **A Post-Starburst Pathway to Forming Massive Galaxies and Their Black Holes at z>6**  |\n",
       "|| M. Onoue, et al. -- incl., <mark>K. Jahnke</mark>, <mark>J. Li</mark>, <mark>F. Walter</mark> |\n",
       "|*Appeared on*| *2024-09-12*|\n",
       "|*Comments*| *24 pages, 7 figures, submitted to a Nature journal*|\n",
       "|**Abstract**|            Understanding the rapid formation of supermassive black holes (SMBHs) in the early universe requires an understanding of how stellar mass grows in the host galaxies. Here, we perform an analysis of rest-frame optical spectra and imaging from JWST of two quasar host galaxies at z>6 which exhibit Balmer absorption lines. These features in the stellar continuum indicate a lack of young stars, similar to low-redshift post-starburst galaxies whose star formation was recently quenched. We find that the stellar mass (log(M_* / M_sun) > 10.6) of each quasar host grew in a starburst episode at redshift 7 or 8. One of the targets exhibits little ongoing star formation, as evidenced by the photometric signature of the Balmer break and a lack of spatially resolved H-alpha emission, placing it well below the star formation main sequence at z = 6. The other galaxy is transitioning to a quiescent phase; together, the two galaxies represent the most distant massive post-starburst galaxies known. The maturity of these two galaxies is further supported by the stellar velocity dispersions of their host galaxies, placing them slightly above the upper end of the local M_BH - sigma_* relation. The properties of our two post-starburst galaxies, each hosting an active SMBH with log(M_BH / M_sun) > 9, suggests that black holes played a major role in shaping the formation of the first massive galaxies in the Universe.         |"
      ],
      "text/plain": [
       "[2409.07113] A Post-Starburst Pathway to Forming Massive Galaxies and Their Black Holes at z>6\n",
       "\tM. Onoue, et al. -- incl., <mark>K. Jahnke</mark>, <mark>J. Li</mark>, <mark>F. Walter</mark>"
      ]
     },
     "metadata": {},
     "output_type": "display_data"
    },
    {
     "data": {
      "text/markdown": [
       "## Failed papers"
      ],
      "text/plain": [
       "<IPython.core.display.Markdown object>"
      ]
     },
     "metadata": {},
     "output_type": "display_data"
    },
    {
     "data": {
      "text/markdown": [
       "\n",
       "|||\n",
       "|---:|:---|\n",
       "| [![arXiv](https://img.shields.io/badge/arXiv-2409.07019-b31b1b.svg)](https://arxiv.org/abs/2409.07019) | **The K2 and TESS Synergy III: search and rescue of the lost ephemeris for K2's first planet**  |\n",
       "|| E. Thygesen, et al. -- incl., <mark>I. J. M. Crossfield</mark> |\n",
       "|*Appeared on*| *2024-09-12*|\n",
       "|*Comments*| *Accepted for publication in AJ. 15 pages, 6 figures, 8 tables*|\n",
       "|**Abstract**|            K2-2 b/HIP 116454 b, the first exoplanet discovery by K2 during its Two-Wheeled Concept Engineering Test, is a sub-Neptune (2.5 $\\pm$ 0.1 $R_\\oplus$, 9.7 $\\pm$ 1.2 $M_\\oplus$) orbiting a relatively bright (KS = 8.03) K-dwarf on a 9.1 day period. Unfortunately, due to a spurious follow-up transit detection and ephemeris degradation, the transit ephemeris for this planet was lost. In this work, we recover and refine the transit ephemeris for K2-2 b, showing a $\\sim40{\\sigma}$ discrepancy from the discovery results. To accurately measure the transit ephemeris and update the parameters of the system, we jointly fit space-based photometric observations from NASA's K2, TESS, and Spitzer missions with new photometric observations from the ground, as well as radial velocities from HARPS-N that are corrected for stellar activity using a new modeling technique. Ephemerides becoming lost or significantly degraded, as is the case for most transiting planets, highlights the importance of systematically updating transit ephemerides with upcoming large efforts expected to characterize hundreds of exoplanet atmospheres. K2-2 b sits at the high-mass peak of the known radius valley for sub-Neptunes, and is now well-suited for transmission spectroscopy with current and future facilities. Our updated transit ephemeris will ensure no more than a 13-minute uncertainty through 2030.         |\n",
       "|<p style=\"color:red\"> **ERROR** </p>| <p style=\"color:red\">latex error 'PosixPath' object is not subscriptable</p> |"
      ],
      "text/plain": [
       "<IPython.core.display.Markdown object>"
      ]
     },
     "metadata": {},
     "output_type": "display_data"
    }
   ],
   "source": [
    "import datetime\n",
    "today = str(datetime.date.today())\n",
    "logfile = f\"_build/html/logs/log-{today}.md\"\n",
    "\n",
    "\n",
    "with open(logfile, 'w') as logs:\n",
    "    # Success\n",
    "    logs.write(f'# Arxiv on Deck 2: Logs - {today}\\n\\n')\n",
    "    logs.write(\"\"\"* Arxiv had {0:,d} new papers\\n\"\"\".format(len(new_papers)))\n",
    "    logs.write(\"\"\"    * {0:,d} with possible author matches\\n\\n\"\"\".format(len(candidates)))\n",
    "    logs.write(\"## Sucessful papers\\n\\n\")\n",
    "    display(Markdown(\"## Successful papers\"))\n",
    "    success = [k[0] for k in documents]\n",
    "    for candid in candidates:\n",
    "        if candid['identifier'].split(':')[-1] in success:\n",
    "            display(candid)\n",
    "            logs.write(candid.generate_markdown_text() + '\\n\\n')\n",
    "\n",
    "    ## failed\n",
    "    logs.write(\"## Failed papers\\n\\n\")\n",
    "    display(Markdown(\"## Failed papers\"))\n",
    "    failed = sorted(failed, key=lambda x: x[1])\n",
    "    current_reason = \"\"\n",
    "    for paper, reason in failed:\n",
    "        if 'affiliation' in reason:\n",
    "            color = 'green'\n",
    "        else:\n",
    "            color = 'red'\n",
    "        data = Markdown(\n",
    "                paper.generate_markdown_text() + \n",
    "                f'\\n|<p style=\"color:{color:s}\"> **ERROR** </p>| <p style=\"color:{color:s}\">{reason:s}</p> |'\n",
    "               )\n",
    "        if reason != current_reason:\n",
    "            logs.write(f'### {reason:s} \\n\\n')\n",
    "            current_reason = reason\n",
    "        logs.write(data.data + '\\n\\n')\n",
    "        \n",
    "        # only display here the important errors (all in logs)\n",
    "        # if color in ('red',):\n",
    "        display(data)"
   ]
  },
  {
   "cell_type": "markdown",
   "id": "472d20ee",
   "metadata": {
    "papermill": {
     "duration": 0.004156,
     "end_time": "2024-09-12T04:11:38.624321",
     "exception": false,
     "start_time": "2024-09-12T04:11:38.620165",
     "status": "completed"
    },
    "tags": []
   },
   "source": [
    "## Export documents\n",
    "\n",
    "We now write the .md files and export relevant images"
   ]
  },
  {
   "cell_type": "code",
   "execution_count": 7,
   "id": "d426aed9",
   "metadata": {
    "execution": {
     "iopub.execute_input": "2024-09-12T04:11:38.633679Z",
     "iopub.status.busy": "2024-09-12T04:11:38.633333Z",
     "iopub.status.idle": "2024-09-12T04:11:38.640240Z",
     "shell.execute_reply": "2024-09-12T04:11:38.639605Z"
    },
    "papermill": {
     "duration": 0.013042,
     "end_time": "2024-09-12T04:11:38.641512",
     "exception": false,
     "start_time": "2024-09-12T04:11:38.628470",
     "status": "completed"
    },
    "tags": []
   },
   "outputs": [],
   "source": [
    "def export_markdown_summary(md: str, md_fname:str, directory: str):\n",
    "    \"\"\"Export MD document and associated relevant images\"\"\"\n",
    "    import os\n",
    "    import shutil\n",
    "    import re\n",
    "\n",
    "    if (os.path.exists(directory) and not os.path.isdir(directory)):\n",
    "        raise RuntimeError(f\"a non-directory file exists with name {directory:s}\")\n",
    "\n",
    "    if (not os.path.exists(directory)):\n",
    "        print(f\"creating directory {directory:s}\")\n",
    "        os.mkdir(directory)\n",
    "\n",
    "    fig_fnames = (re.compile(r'\\[Fig.*\\]\\((.*)\\)').findall(md) + \n",
    "                  re.compile(r'\\<img src=\"([^>\\s]*)\"[^>]*/>').findall(md))\n",
    "    print(\"found figures\", fig_fnames)\n",
    "    for fname in fig_fnames:\n",
    "        if 'http' in fname:\n",
    "            # No need to copy online figures\n",
    "            continue\n",
    "        if not os.path.exists(fname):\n",
    "            print(\"file not found\", fname)\n",
    "            continue\n",
    "        print(\"copying \", fname, \"to\", directory)\n",
    "        destdir = os.path.join(directory, os.path.dirname(fname))\n",
    "        destfname = os.path.join(destdir, os.path.basename(fname))\n",
    "        try:\n",
    "            os.makedirs(destdir)\n",
    "        except FileExistsError:\n",
    "            pass\n",
    "        shutil.copy(fname, destfname)\n",
    "    with open(os.path.join(directory, md_fname), 'w') as fout:\n",
    "        fout.write(md)\n",
    "    print(\"exported in \", os.path.join(directory, md_fname))\n",
    "    [print(\"    + \" + os.path.join(directory,fk)) for fk in fig_fnames]"
   ]
  },
  {
   "cell_type": "code",
   "execution_count": 8,
   "id": "014d04a4",
   "metadata": {
    "execution": {
     "iopub.execute_input": "2024-09-12T04:11:38.651243Z",
     "iopub.status.busy": "2024-09-12T04:11:38.650741Z",
     "iopub.status.idle": "2024-09-12T04:11:38.667352Z",
     "shell.execute_reply": "2024-09-12T04:11:38.666827Z"
    },
    "papermill": {
     "duration": 0.022804,
     "end_time": "2024-09-12T04:11:38.668587",
     "exception": false,
     "start_time": "2024-09-12T04:11:38.645783",
     "status": "completed"
    },
    "tags": []
   },
   "outputs": [
    {
     "name": "stdout",
     "output_type": "stream",
     "text": [
      "found figures ['tmp_2409.06772/./Figures/bhmf.png', 'tmp_2409.06772/./Figures/optvopt.png', 'tmp_2409.06772/./Figures/Field_CEERS.png', 'tmp_2409.06772/./Figures/Field_PRIMER.png']\n",
      "copying  tmp_2409.06772/./Figures/bhmf.png to _build/html/\n",
      "copying  tmp_2409.06772/./Figures/optvopt.png to _build/html/\n",
      "copying  tmp_2409.06772/./Figures/Field_CEERS.png to _build/html/\n",
      "copying  tmp_2409.06772/./Figures/Field_PRIMER.png to _build/html/\n",
      "exported in  _build/html/2409.06772.md\n",
      "    + _build/html/tmp_2409.06772/./Figures/bhmf.png\n",
      "    + _build/html/tmp_2409.06772/./Figures/optvopt.png\n",
      "    + _build/html/tmp_2409.06772/./Figures/Field_CEERS.png\n",
      "    + _build/html/tmp_2409.06772/./Figures/Field_PRIMER.png\n",
      "found figures ['tmp_2409.07113/./fig3_nat_v5.png', 'tmp_2409.07113/./fig1_nat1_v5.png', 'tmp_2409.07113/./fig1_nat2_v5.png', 'tmp_2409.07113/./fig4_nat_v3.png']\n",
      "copying  tmp_2409.07113/./fig3_nat_v5.png to _build/html/\n",
      "copying  tmp_2409.07113/./fig1_nat1_v5.png to _build/html/\n",
      "copying  tmp_2409.07113/./fig1_nat2_v5.png to _build/html/\n",
      "copying  tmp_2409.07113/./fig4_nat_v3.png to _build/html/\n",
      "exported in  _build/html/2409.07113.md\n",
      "    + _build/html/tmp_2409.07113/./fig3_nat_v5.png\n",
      "    + _build/html/tmp_2409.07113/./fig1_nat1_v5.png\n",
      "    + _build/html/tmp_2409.07113/./fig1_nat2_v5.png\n",
      "    + _build/html/tmp_2409.07113/./fig4_nat_v3.png\n"
     ]
    }
   ],
   "source": [
    "for paper_id, md in documents:\n",
    "    export_markdown_summary(md, f\"{paper_id:s}.md\", '_build/html/')"
   ]
  },
  {
   "cell_type": "markdown",
   "id": "f087a0a7",
   "metadata": {
    "papermill": {
     "duration": 0.004227,
     "end_time": "2024-09-12T04:11:38.677163",
     "exception": false,
     "start_time": "2024-09-12T04:11:38.672936",
     "status": "completed"
    },
    "tags": []
   },
   "source": [
    "## Display the papers\n",
    "\n",
    "Not necessary but allows for a quick check."
   ]
  },
  {
   "cell_type": "code",
   "execution_count": 9,
   "id": "fd25f625",
   "metadata": {
    "execution": {
     "iopub.execute_input": "2024-09-12T04:11:38.686752Z",
     "iopub.status.busy": "2024-09-12T04:11:38.686348Z",
     "iopub.status.idle": "2024-09-12T04:11:38.692375Z",
     "shell.execute_reply": "2024-09-12T04:11:38.691841Z"
    },
    "papermill": {
     "duration": 0.012332,
     "end_time": "2024-09-12T04:11:38.693728",
     "exception": false,
     "start_time": "2024-09-12T04:11:38.681396",
     "status": "completed"
    },
    "scrolled": false,
    "tags": []
   },
   "outputs": [
    {
     "data": {
      "text/markdown": [
       "<div class=\"macros\" style=\"visibility:hidden;\">\n",
       "$\\newcommand{\\ensuremath}{}$\n",
       "$\\newcommand{\\xspace}{}$\n",
       "$\\newcommand{\\object}[1]{\\texttt{#1}}$\n",
       "$\\newcommand{\\farcs}{{.}''}$\n",
       "$\\newcommand{\\farcm}{{.}'}$\n",
       "$\\newcommand{\\arcsec}{''}$\n",
       "$\\newcommand{\\arcmin}{'}$\n",
       "$\\newcommand{\\ion}[2]{#1#2}$\n",
       "$\\newcommand{\\textsc}[1]{\\textrm{#1}}$\n",
       "$\\newcommand{\\hl}[1]{\\textrm{#1}}$\n",
       "$\\newcommand{\\footnote}[1]{}$\n",
       "$\\newcommand$\n",
       "$\\newcommand$\n",
       "$\\newcommand{\\per}{\\ensuremath{^{-1}}\\xspace}$\n",
       "$\\newcommand{\\Ha}{H\\ensuremath{\\alpha}\\xspace}$</div>\n",
       "\n",
       "\n",
       "\n",
       "<div id=\"title\">\n",
       "\n",
       "# Broad-Line AGN at $\\mathbf{3.5<z<6}$:\\ The Black Hole Mass Function and a Connection with Little Red Dots\n",
       "\n",
       "</div>\n",
       "<div id=\"comments\">\n",
       "\n",
       "[![arXiv](https://img.shields.io/badge/arXiv-2409.06772-b31b1b.svg)](https://arxiv.org/abs/2409.06772)<mark>Appeared on: 2024-09-12</mark> -  _28 pages, 14 figures, 4 tables. Submitted to ApJ_\n",
       "\n",
       "</div>\n",
       "<div id=\"authors\">\n",
       "\n",
       "A. J. Taylor, et al. -- incl., <mark>E. Bañados</mark>, <mark>Y. Khusanova</mark>\n",
       "\n",
       "</div>\n",
       "<div id=\"abstract\">\n",
       "\n",
       "**Abstract:** We present a sample of 50 H $\\alpha$ detected broad-line active galactic nuclei (BLAGN) at redshifts $3.5<z<6.8$ using data from the CEERS and RUBIES surveys. We select these sources directly from _JWST_ /NIRSpec G395M/F290LP spectra. We use a multi-step pre-selection and a Bayesian fitting procedure to ensure a high-quality sample of sources with broad Balmer lines and narrow forbidden lines. We compute rest-frame ultraviolet and optical spectral slopes for these objects, and determine that 10 BLAGN in our sample are also little red dots (LRDs). These LRD BLAGN, when examined in aggregate, show broader $\\Ha$ line profiles and a higher fraction of broad-to-narrow component $\\Ha$ emission than non-LRD BLAGN. Moreover, we find that $\\sim66\\%$ of these objects are intrinsically reddened ( $\\beta_{opt}>0$ ), independent of the contributions of emission lines to the broadband photometry. We construct the black hole (BH) mass function at $3.5<z<6$ after computing robust observational and line detection completeness corrections. This BH mass function shows broad agreement with both recent _JWST_ /NIRSpec and _JWST_ /NIRCam WFSS based BH mass functions, though we extend these earlier results to log (M $_{BH}/M_{\\odot}) < 7$ . The derived BH mass function is consistent with a variety of theoretical models, indicating that the observed abundance of black holes in the early universe is not discrepant with physically-motivated predictions.  The BH mass function shape resembles a largely featureless power-law, suggesting that any signature from black-hole seeding has been lost by redshift $z\\sim$ 5--6.Finally, we compute the BLAGN UV luminosity function and find good agreement with _JWST_ -detected BLAGN samples from recent works, finding that BLAGN hosts constitute $\\lesssim$ 10 \\% of the total observed UV luminosity at all but the brightest luminosities.\n",
       "\n",
       "</div>\n",
       "\n",
       "<div id=\"div_fig1\">\n",
       "\n",
       "<img src=\"tmp_2409.06772/./Figures/bhmf.png\" alt=\"Fig12\" width=\"100%\"/>\n",
       "\n",
       "**Figure 12. -** The BLAGN BH mass function for $3.5<z<6$. Blue points indicate the fully completeness-corrected BH mass function from this work, and upward/downward pointing grey triangles indicate our BH mass function with only the line detection/observational correction applied. We mark our lightest mass point with a hollow blue point to indicate its low line detection completeness of $<20\\%$. Grey squares indicate our uncorrected BH mass function. All of our error bars are Poissonian (following the  ([ and Gehrels 1986]())  prescription). Our partially corrected or uncorrected BH mass functions share the same error bars (in logarithmic space) as our fully corrected BH mass function and are omitted to reduce visual clutter. Red diamonds show the BH mass function derived from NIRCam WFSS data in [Matthee, Naidu and Brammer (2024)](). Note that [Matthee, Naidu and Brammer (2024)]() acknowledge that their lightest mass point (marked with a hollow red diamond) likely suffers from incompleteness and does not indicate a turnover of the BH mass function at $M_{\\textrm{BH}}\\sim10^7 M_{\\odot}$. Yellow hexagons show the BH mass function at $3.5<z<4.25$ derived from ground-based SDSS+HSC data in [He, Akiyama and Enoki (2024)](). Green squares show the BH mass function at $z\\sim6$ from [Wu, Shen and Jiang (2022)](), and pink x's show the BH mass function from [Shen and Kelly (2012)](), both derived from SDSS data. We show a Schecter fit to our data from $10^{6.5}<M_{\\textrm{BH}}>10^{8.5}$ and the [He, Akiyama and Enoki (2024)]() data at $M_{\\textrm{BH}}>10^{8.5} M_{\\odot}$ as the dashed blue curve. Our corrected points show excellent agreement with the [Matthee, Naidu and Brammer (2024)]() points indicating that our observational completeness correction is performing well, and our overall BH mass function seems to extend the [He, Akiyama and Enoki (2024)]() BH mass function to lower masses. (*fig:BHmassfunction*)\n",
       "\n",
       "</div>\n",
       "<div id=\"div_fig2\">\n",
       "\n",
       "<img src=\"tmp_2409.06772/./Figures/optvopt.png\" alt=\"Fig6\" width=\"100%\"/>\n",
       "\n",
       "**Figure 6. -** Photometrically measured $\\beta_{opt}$ versus Spectroscopically measured $\\beta_{opt}$. We show the BLAGN in our sample that are identified as LRDs using the   ([Kocevski, Finkelstein and Barro 2024]())  criteria as red points, and  BLAGN in our sample that do not satisfy the  ([Kocevski, Finkelstein and Barro 2024]())  selection as blue points. Note that not all of our BLAGN have PRISM data, thus some are excluded from this figure. The black dashed line is the 1:1 line. Objects above this line show a redder $\\beta_{opt}$ when measured from photometry instead of spectroscopy likely due to emission line boosting. However, despite the emission line boosting effects, the LRDs still exhibit red to moderately red $\\beta_{opt}$, implying that they are intrinsically dust-reddened. (*fig:optvopt*)\n",
       "\n",
       "</div>\n",
       "<div id=\"div_fig3\">\n",
       "\n",
       "<img src=\"tmp_2409.06772/./Figures/Field_CEERS.png\" alt=\"Fig4.1\" width=\"50%\"/><img src=\"tmp_2409.06772/./Figures/Field_PRIMER.png\" alt=\"Fig4.2\" width=\"50%\"/>\n",
       "\n",
       "**Figure 4. -** Upper panel: the positions of the BLAGN sample (green circles), the CEERS NIRCam coverage (blue shading), and CEERS/RUBIES NIRSpec MSA footprints (black/red outlines). Lower panel: the same as the top panel, for the PRIMER-UDS field. Note that the sky areas shown in the two panels are not exactly to scale with one another. The BLAGN are broadly distributed over the observed areas of the CEERS and PRIMER-UDS fields. (*fig:fields*)\n",
       "\n",
       "</div><div id=\"qrcode\"><img src=https://api.qrserver.com/v1/create-qr-code/?size=100x100&data=\"https://arxiv.org/abs/2409.06772\"></div>"
      ],
      "text/plain": [
       "<IPython.core.display.Markdown object>"
      ]
     },
     "metadata": {},
     "output_type": "display_data"
    },
    {
     "data": {
      "text/markdown": [
       "<div class=\"macros\" style=\"visibility:hidden;\">\n",
       "$\\newcommand{\\ensuremath}{}$\n",
       "$\\newcommand{\\xspace}{}$\n",
       "$\\newcommand{\\object}[1]{\\texttt{#1}}$\n",
       "$\\newcommand{\\farcs}{{.}''}$\n",
       "$\\newcommand{\\farcm}{{.}'}$\n",
       "$\\newcommand{\\arcsec}{''}$\n",
       "$\\newcommand{\\arcmin}{'}$\n",
       "$\\newcommand{\\ion}[2]{#1#2}$\n",
       "$\\newcommand{\\textsc}[1]{\\textrm{#1}}$\n",
       "$\\newcommand{\\hl}[1]{\\textrm{#1}}$\n",
       "$\\newcommand{\\footnote}[1]{}$\n",
       "$\\newcommand{\\araa}{Annu. Rev. Astron. Astrophys.}$\n",
       "$\\newcommand{\\aar}{Astron. Astrophys. Rev.}$\n",
       "$\\newcommand{\\aj}{Astron. J.}$\n",
       "$\\newcommand{\\apj}{Astrophys. J.}$\n",
       "$\\newcommand{\\apjl}{Astrophys. J. Lett.}$\n",
       "$\\newcommand{\\apjs}{Astrophys. J. Suppl. Ser.}$\n",
       "$\\newcommand{\\apss}{Astrophys. Space Sci.}$\n",
       "$\\newcommand{\\aap}{Astron. Astrophys.}$\n",
       "$\\newcommand{\\aapr}{Astron. Astrophys. Rev.}$\n",
       "$\\newcommand{\\aaps}{Astron. Astrophys. Suppl.}$\n",
       "$\\newcommand{\\mnras}{Mon. Not. R. Astron. Soc.}$\n",
       "$\\newcommand{\\nar}{New Astronomy Reviews}$\n",
       "$\\newcommand{\\nat}{Nature}$\n",
       "$\\newcommand{\\nastro}{Nat. Astron.}$\n",
       "$\\newcommand{\\ncomms}{Nat. Commun.}$\n",
       "$\\newcommand{\\pasj}{Publ. Astron. Soc. Jpn}$\n",
       "$\\newcommand{\\pasp}{Publ. Astron. Soc. Pacific}$\n",
       "$\\newcommand{\\sci}{Science}$\n",
       "$\\newcommand{\\arcsec}{\\mbox{\\ensuremath{^{\\prime\\prime}}}}$\n",
       "$\\newcommand{\\farcs}{\\mbox{\\ensuremath{.\\!\\!^{\\prime\\prime}}}}$\n",
       "$\\newcommand{\\etal}{et al.}$\n",
       "$\\newcommand{\\hbeta}{H{\\beta}}$\n",
       "$\\newcommand{\\halpha}{H{\\alpha}}$\n",
       "$\\newcommand{\\hst}{{\\it HST}}$\n",
       "$\\newcommand{\\jw}{{\\it JWST}}$\n",
       "$\\newcommand{\\galight}{\\textsf{galight}}$\n",
       "$\\newcommand{\\sersic}{Sérsic}$\n",
       "$\\newcommand{\\reff}{R_{\\rm eff}}$\n",
       "$\\newcommand{\\av}{A_{\\rm v}}$\n",
       "$\\newcommand{\\red}[1]{\\textcolor{red}{{#1}}}$\n",
       "$\\newcommand{\\blue}[1]{\\textcolor{blue}{#1}}$\n",
       "$\\newcommand{\\todo}[1]{\\textcolor{blue}{\\textbf{TODO: #1}}}$\n",
       "$\\newcommand{\\note}[1]{\\textcolor{cyan}{\\textbf{NOTE: #1}}}$\n",
       "$\\newcommand{\\lt}{\\ensuremath <}$\n",
       "$\\newcommand{\\gt}{\\ensuremath >}$\n",
       "$\\newcommand{\\targetone}{J2236+0032}$\n",
       "$\\newcommand{\\targettwo}{J1512+4422}$\n",
       "$\\newcommand{\\@maketitle}{$\n",
       "${$\n",
       "$\\thispagestyle{empty}$\n",
       "$\\vskip-36pt$\n",
       "${\\raggedright\\sffamily\\bfseries\\fontsize{20}{25}\\selectfont \\@title\\par}$\n",
       "$\\vskip10pt$\n",
       "${\\raggedright\\sffamily\\fontsize{12}{16}\\selectfont  \\@author\\par}$\n",
       "$\\vskip25pt$\n",
       "$}$\n",
       "$}$\n",
       "$\\newcommand$\n",
       "$\\newcommand$\n",
       "$\\newcommand$\n",
       "$\\newcommand$\n",
       "$\\newcommand{\\mbh}{M_{\\rm BH}}$\n",
       "$\\newcommand{\\smass}{M_{*}}$</div>\n",
       "\n",
       "\n",
       "\n",
       "<div id=\"title\">\n",
       "\n",
       "# A Post-Starburst Pathway to Forming Massive Galaxies and Their Black Holes at $\\mathbf{z>6}$\n",
       "\n",
       "</div>\n",
       "<div id=\"comments\">\n",
       "\n",
       "[![arXiv](https://img.shields.io/badge/arXiv-2409.07113-b31b1b.svg)](https://arxiv.org/abs/2409.07113)<mark>Appeared on: 2024-09-12</mark> -  _24 pages, 7 figures, submitted to a Nature journal_\n",
       "\n",
       "</div>\n",
       "<div id=\"authors\">\n",
       "\n",
       "M. Onoue, et al. -- incl., <mark>K. Jahnke</mark>, <mark>J. Li</mark>, <mark>F. Walter</mark>\n",
       "\n",
       "</div>\n",
       "<div id=\"abstract\">\n",
       "\n",
       "**Abstract:**            Understanding the rapid formation of supermassive black holes (SMBHs) in the early universe requires an understanding of how stellar mass grows in the host galaxies. Here, we perform an analysis of rest-frame optical spectra and imaging from JWST of two quasar host galaxies at z>6 which exhibit Balmer absorption lines. These features in the stellar continuum indicate a lack of young stars, similar to low-redshift post-starburst galaxies whose star formation was recently quenched. We find that the stellar mass (log(M_* / M_sun) > 10.6) of each quasar host grew in a starburst episode at redshift 7 or 8. One of the targets exhibits little ongoing star formation, as evidenced by the photometric signature of the Balmer break and a lack of spatially resolved H-alpha emission, placing it well below the star formation main sequence at z = 6. The other galaxy is transitioning to a quiescent phase; together, the two galaxies represent the most distant massive post-starburst galaxies known. The maturity of these two galaxies is further supported by the stellar velocity dispersions of their host galaxies, placing them slightly above the upper end of the local M_BH - sigma_* relation. The properties of our two post-starburst galaxies, each hosting an active SMBH with log(M_BH / M_sun) > 9, suggests that black holes played a major role in shaping the formation of the first massive galaxies in the Universe.         \n",
       "\n",
       "</div>\n",
       "\n",
       "<div id=\"div_fig1\">\n",
       "\n",
       "<img src=\"tmp_2409.07113/./fig3_nat_v5.png\" alt=\"Fig4\" width=\"100%\"/>\n",
       "\n",
       "**Figure 4. -** **Growth pathways of the two quasar host galaxies and their SMBHs.**(_Left:_) Stellar mass assembly as a function of cosmic time based on the delayed-$\\tau$ SFH models (solid lines) and non-parametric SFH models (dotted lines).\n",
       "For comparison, the average growth curve from the \\textsf{Trinity} simulation (Zhang et al. 2023 \\cite{Zhang24}) is shown in green, and that based on the dark matter halo merger history from Scoggins \\& Haiman (2023) \\cite{Scoggins24} is shown in cyan.\n",
       " Both model curves are fine-tuned to match the observed stellar mass of $\\targetone$.\n",
       "(_Middle:_) BH mass assembly as a function of time.  The red line show cases in which $\\targetone$ continuously accretes at the Eddington limit (solid) or at the observed Eddington ratio ($10\\%$; dashed) both with $10\\%$ radiative efficiency.\n",
       "The blue lines show the models of ref \\cite{Scoggins24}, where the seed BH of $\\targetone$ is a light seed of $50 M_\\odot$(solid line), or a heavy seed of  $10^5 M_\\odot$(dashed line).\n",
       "The four grey lines show the semi-analytical model (SAM) from Li et al. (2023) \\cite{LiW23},  where seed BHs grow by changing Eddington ratios (including super-Eddington accretion rates) for short periods of time.\n",
       "The four BHs presented here are a representative sample of BHs that reach $\\sim 10^9 M_\\odot$ by $z=6$.\n",
       "These model growth curves are scaled to match the BH mass of $\\targetone$.\n",
       "(_Right:_) Evolution in the $M_\\mathrm{BH}$ -- $M_*$ plane (solid line: delayed-$\\tau$ SFH, dotted line: non-parametric SFH model).\n",
       "Luminous quasars whose host stellar emission is detected in JWST \\cite{Stone23, Stone24, Yue24}(pink) and faint  AGN from the JWST JADES program \\cite{Maiolino23b}(orange)  are shown for comparison.\n",
       "ALMA dynamical masses and Mg{\\sc ii}-based $M_\\mathrm{BH}$ of quasar hosts compiled in ref \\cite{Izumi21b} are shown as grey crosses.\n",
       "The $z=4.7$ quiescent galaxy GS-9209 \\cite{Carnall23} is shown in green.\n",
       "The stellar and BH masses of the two $z>6$ quasar host galaxies in the earlier study of ref \\cite{Ding23}, which includes $\\targetone$, are shown as open red stars.\n",
       "The local bulge mass -- BH mass relation from ref \\cite{KorHo13} is shown as the grey line.\n",
       " (*fig:J2236t*)\n",
       "\n",
       "</div>\n",
       "<div id=\"div_fig2\">\n",
       "\n",
       "<img src=\"tmp_2409.07113/./fig1_nat1_v5.png\" alt=\"Fig1.1\" width=\"50%\"/><img src=\"tmp_2409.07113/./fig1_nat2_v5.png\" alt=\"Fig1.2\" width=\"50%\"/>\n",
       "\n",
       "**Figure 1. -** **JWST NIRSpec G395M spectra** of $\\targetone$ and $\\targettwo$ with Balmer absorption lines seen in each, thus revealing their post-starburst nature.\n",
       "(_Top:_) The decomposed quasar and host galaxy components are shown in blue (dotted: power-law continuum; solid: continuum plus emission line model) and red, respectively.\n",
       "The grey solid line represents the error spectrum.\n",
       "Pixels affected by cosmic rays are masked.\n",
       "(_Bottom left:_) Best-fit galaxy SED models from \\textsf{Bagpipes} according to the delayed-$\\tau$ SFH model (dark blue).\n",
       "The extracted host galaxy spectrum is shown in cyan.\n",
       "The grey bar at the bottom shows the wavelength range used in the SED fit.\n",
       "NIRCam photometry is shown with the red symbols with the filter transmission curves displayed at the bottom.\n",
       "The inset panel zooms into the Balmer absorption lines.\n",
       "(_Bottom right:_) The recovered SFH of the host galaxy (delayed-$\\tau$: orange, non-parametric: blue).\n",
       "The solid lines are the 50 percentiles of the posterior, while the darker (lighter) shaded regions show the 16--84 (2--98) percentile intervals.\n",
       "For each SFH model, the inferred formation redshift $z_\\mathrm{form}$ and quenching redshift $z_\\mathrm{quench}$ are indicated by filled and open symbols, respectively.\n",
       " (*fig:spec*)\n",
       "\n",
       "</div>\n",
       "<div id=\"div_fig3\">\n",
       "\n",
       "<img src=\"tmp_2409.07113/./fig4_nat_v3.png\" alt=\"Fig5\" width=\"100%\"/>\n",
       "\n",
       "**Figure 5. -** **Stellar velocity dispersion measurements.**(_Left:_)  The  relationship between $M_\\mathrm{BH}$ and stellar velocity dispersion $\\sigma_*$.\n",
       " Symbols and colors are the same as in Figure \\ref{fig:J2236t}.\n",
       "Note that $\\sigma_*$ measurements are based on stellar absorption lines for our targets and GS-9209, while the JADES samples use [O {\\sc iii}]  emission line profiles to estimate $\\sigma_*$.\n",
       "For comparison, the $z<1$ quasars from the SDSS Reverberation Mapping project \\citep{Matsuoka15} are shown as cyan dots.\n",
       "The grey line and shading show the local relation \\cite{KorHo13} and its scatter.\n",
       "(_Right:_) The comparison of  $\\sigma_*$ measured from JWST spectroscopic data and values estimated from the width of the [O {\\sc iii}] emission line.\n",
       "The latter follows the procedure described in ref \\cite{Uebler23}.\n",
       "The diagonal dashed line is the one-to-one relation, while the dotted lines indicate the case where the [O {\\sc iii}]-based $\\sigma_*$ is offset from the spectroscopic $\\sigma_*$ by $+0.1$ and $+0.2$ dex, respectively.\n",
       "  (*fig:Msigma*)\n",
       "\n",
       "</div><div id=\"qrcode\"><img src=https://api.qrserver.com/v1/create-qr-code/?size=100x100&data=\"https://arxiv.org/abs/2409.07113\"></div>"
      ],
      "text/plain": [
       "<IPython.core.display.Markdown object>"
      ]
     },
     "metadata": {},
     "output_type": "display_data"
    }
   ],
   "source": [
    "[display(Markdown(k[1])) for k in documents];"
   ]
  },
  {
   "cell_type": "markdown",
   "id": "873873a4",
   "metadata": {
    "papermill": {
     "duration": 0.004779,
     "end_time": "2024-09-12T04:11:38.703470",
     "exception": false,
     "start_time": "2024-09-12T04:11:38.698691",
     "status": "completed"
    },
    "tags": []
   },
   "source": [
    "# Create HTML index"
   ]
  },
  {
   "cell_type": "code",
   "execution_count": 10,
   "id": "cf665672",
   "metadata": {
    "execution": {
     "iopub.execute_input": "2024-09-12T04:11:38.713988Z",
     "iopub.status.busy": "2024-09-12T04:11:38.713599Z",
     "iopub.status.idle": "2024-09-12T04:11:38.721065Z",
     "shell.execute_reply": "2024-09-12T04:11:38.720543Z"
    },
    "papermill": {
     "duration": 0.014217,
     "end_time": "2024-09-12T04:11:38.722371",
     "exception": false,
     "start_time": "2024-09-12T04:11:38.708154",
     "status": "completed"
    },
    "tags": []
   },
   "outputs": [
    {
     "name": "stdout",
     "output_type": "stream",
     "text": [
      "180  publications files modified in the last 7 days.\n"
     ]
    }
   ],
   "source": [
    "from datetime import datetime, timedelta, timezone\n",
    "from glob import glob\n",
    "import os\n",
    "\n",
    "files = glob('_build/html/*.md')\n",
    "days = 7\n",
    "now = datetime.today()\n",
    "res = []\n",
    "for fk in files:\n",
    "    stat_result = os.stat(fk).st_ctime\n",
    "    modified = datetime.fromtimestamp(stat_result, tz=timezone.utc).replace(tzinfo=None)\n",
    "    delta = now.today() - modified\n",
    "    if delta <= timedelta(days=days):\n",
    "        res.append((delta.seconds, fk))\n",
    "res = [k[1] for k in reversed(sorted(res, key=lambda x:x[1]))]\n",
    "npub = len(res)\n",
    "print(len(res), f\" publications files modified in the last {days:d} days.\")\n",
    "# [ print('\\t', k) for k in res ];"
   ]
  },
  {
   "cell_type": "code",
   "execution_count": 11,
   "id": "015de740",
   "metadata": {
    "execution": {
     "iopub.execute_input": "2024-09-12T04:11:38.733172Z",
     "iopub.status.busy": "2024-09-12T04:11:38.732645Z",
     "iopub.status.idle": "2024-09-12T04:11:38.747197Z",
     "shell.execute_reply": "2024-09-12T04:11:38.746649Z"
    },
    "papermill": {
     "duration": 0.021218,
     "end_time": "2024-09-12T04:11:38.748495",
     "exception": false,
     "start_time": "2024-09-12T04:11:38.727277",
     "status": "completed"
    },
    "tags": []
   },
   "outputs": [
    {
     "name": "stdout",
     "output_type": "stream",
     "text": [
      "9  publications in the last 7 days.\n"
     ]
    }
   ],
   "source": [
    "import datetime\n",
    "from glob import glob\n",
    "\n",
    "def get_last_n_days(lst, days=1):\n",
    "    \"\"\" Get the documents from the last n days \"\"\"\n",
    "    sorted_lst = sorted(lst, key=lambda x: x[1], reverse=True)\n",
    "    for fname, date in sorted_lst:\n",
    "        if date >= str(datetime.date.today() - datetime.timedelta(days=days)):\n",
    "            yield fname\n",
    "\n",
    "def extract_appearance_dates(lst_file):\n",
    "    dates = []\n",
    "\n",
    "    def get_date(line):\n",
    "        return line\\\n",
    "            .split('Appeared on:')[-1]\\\n",
    "            .split('</mark>')[0].strip()\n",
    "\n",
    "    for fname in lst:\n",
    "        with open(fname, 'r') as f:\n",
    "            found_date = False\n",
    "            for line in f:\n",
    "                if not found_date:\n",
    "                    if \"Appeared on\" in line:\n",
    "                        found_date = True\n",
    "                        dates.append((fname, get_date(line)))\n",
    "                else:\n",
    "                    break\n",
    "    return dates\n",
    "\n",
    "from glob import glob\n",
    "lst = glob('_build/html/*md')\n",
    "days = 7\n",
    "dates = extract_appearance_dates(lst)\n",
    "res = list(get_last_n_days(dates, days))\n",
    "npub = len(res)\n",
    "print(len(res), f\" publications in the last {days:d} days.\")"
   ]
  },
  {
   "cell_type": "code",
   "execution_count": 12,
   "id": "52ca0208",
   "metadata": {
    "execution": {
     "iopub.execute_input": "2024-09-12T04:11:38.759187Z",
     "iopub.status.busy": "2024-09-12T04:11:38.758949Z",
     "iopub.status.idle": "2024-09-12T04:11:38.763863Z",
     "shell.execute_reply": "2024-09-12T04:11:38.763295Z"
    },
    "papermill": {
     "duration": 0.011726,
     "end_time": "2024-09-12T04:11:38.765101",
     "exception": false,
     "start_time": "2024-09-12T04:11:38.753375",
     "status": "completed"
    },
    "scrolled": false,
    "tags": []
   },
   "outputs": [],
   "source": [
    "def create_carousel(npub=4):\n",
    "    \"\"\" Generate the HTML code for a carousel with `npub` slides \"\"\"\n",
    "    carousel = [\"\"\"  <div class=\"carousel\" \"\"\",\n",
    "                \"\"\"       data-flickity='{ \"autoPlay\": 10000, \"adaptiveHeight\": true, \"resize\": true, \"wrapAround\": true, \"pauseAutoPlayOnHover\": true, \"groupCells\": 1 }' id=\"asyncTypeset\">\"\"\"\n",
    "                ]\n",
    "    \n",
    "    item_str = \"\"\"    <div class=\"carousel-cell\"> <div id=\"slide{k}\" class=\"md_view\">Content {k}</div> </div>\"\"\"\n",
    "    for k in range(1, npub + 1):\n",
    "        carousel.append(item_str.format(k=k))\n",
    "    carousel.append(\"  </div>\")\n",
    "    return '\\n'.join(carousel)\n",
    "\n",
    "def create_grid(npub=4):\n",
    "    \"\"\" Generate the HTML code for a flat grid with `npub` slides \"\"\"\n",
    "    grid = [\"\"\"  <div class=\"grid\"> \"\"\",\n",
    "                ]\n",
    "    \n",
    "    item_str = \"\"\"    <div class=\"grid-item\"> <div id=\"slide{k}\" class=\"md_view\">Content {k}</div> </div>\"\"\"\n",
    "    for k in range(1, npub + 1):\n",
    "        grid.append(item_str.format(k=k))\n",
    "    grid.append(\"  </div>\")\n",
    "    return '\\n'.join(grid)"
   ]
  },
  {
   "cell_type": "code",
   "execution_count": 13,
   "id": "a6eac5b6",
   "metadata": {
    "execution": {
     "iopub.execute_input": "2024-09-12T04:11:38.775974Z",
     "iopub.status.busy": "2024-09-12T04:11:38.775603Z",
     "iopub.status.idle": "2024-09-12T04:11:38.780604Z",
     "shell.execute_reply": "2024-09-12T04:11:38.780085Z"
    },
    "papermill": {
     "duration": 0.011807,
     "end_time": "2024-09-12T04:11:38.781894",
     "exception": false,
     "start_time": "2024-09-12T04:11:38.770087",
     "status": "completed"
    },
    "scrolled": false,
    "tags": []
   },
   "outputs": [],
   "source": [
    "carousel = create_carousel(npub)\n",
    "docs = ', '.join(['\"{0:s}\"'.format(k.split('/')[-1]) for k in res])\n",
    "slides = ', '.join([f'\"slide{k}\"' for k in range(1, npub + 1)])\n",
    "\n",
    "with open(\"daily_template.html\", \"r\") as tpl:\n",
    "    page = tpl.read()\n",
    "    page = page.replace(\"{%-- carousel:s --%}\", carousel)\\\n",
    "               .replace(\"{%-- suptitle:s --%}\",  \"7-day archives\" )\\\n",
    "               .replace(\"{%-- docs:s --%}\", docs)\\\n",
    "               .replace(\"{%-- slides:s --%}\", slides)\n",
    "    \n",
    "with open(\"_build/html/index_7days.html\", 'w') as fout:\n",
    "    fout.write(page)"
   ]
  },
  {
   "cell_type": "code",
   "execution_count": 14,
   "id": "adc1a1ec",
   "metadata": {
    "execution": {
     "iopub.execute_input": "2024-09-12T04:11:38.792877Z",
     "iopub.status.busy": "2024-09-12T04:11:38.792508Z",
     "iopub.status.idle": "2024-09-12T04:11:38.798637Z",
     "shell.execute_reply": "2024-09-12T04:11:38.798030Z"
    },
    "papermill": {
     "duration": 0.012863,
     "end_time": "2024-09-12T04:11:38.799943",
     "exception": false,
     "start_time": "2024-09-12T04:11:38.787080",
     "status": "completed"
    },
    "tags": []
   },
   "outputs": [
    {
     "name": "stdout",
     "output_type": "stream",
     "text": [
      "4  publications in the last day.\n"
     ]
    }
   ],
   "source": [
    "# redo for today\n",
    "days = 1\n",
    "res = list(get_last_n_days(dates, days))\n",
    "npub = len(res)\n",
    "print(len(res), f\" publications in the last day.\")\n",
    "\n",
    "carousel = create_carousel(npub)\n",
    "docs = ', '.join(['\"{0:s}\"'.format(k.split('/')[-1]) for k in res])\n",
    "slides = ', '.join([f'\"slide{k}\"' for k in range(1, npub + 1)])\n",
    "\n",
    "with open(\"daily_template.html\", \"r\") as tpl:\n",
    "    page = tpl.read()\n",
    "    page = page.replace(\"{%-- carousel:s --%}\", carousel)\\\n",
    "               .replace(\"{%-- suptitle:s --%}\",  \"Daily\" )\\\n",
    "               .replace(\"{%-- docs:s --%}\", docs)\\\n",
    "               .replace(\"{%-- slides:s --%}\", slides)\n",
    "    \n",
    "# print(carousel, docs, slides)\n",
    "# print(page)\n",
    "with open(\"_build/html/index_daily.html\", 'w') as fout:\n",
    "    fout.write(page)"
   ]
  },
  {
   "cell_type": "code",
   "execution_count": 15,
   "id": "00eece82",
   "metadata": {
    "execution": {
     "iopub.execute_input": "2024-09-12T04:11:38.811275Z",
     "iopub.status.busy": "2024-09-12T04:11:38.810872Z",
     "iopub.status.idle": "2024-09-12T04:11:38.817048Z",
     "shell.execute_reply": "2024-09-12T04:11:38.816457Z"
    },
    "papermill": {
     "duration": 0.013209,
     "end_time": "2024-09-12T04:11:38.818323",
     "exception": false,
     "start_time": "2024-09-12T04:11:38.805114",
     "status": "completed"
    },
    "scrolled": false,
    "tags": []
   },
   "outputs": [
    {
     "name": "stdout",
     "output_type": "stream",
     "text": [
      "6  6 publications selected.\n"
     ]
    }
   ],
   "source": [
    "# Create the flat grid of the last N papers (fixed number regardless of dates)\n",
    "from itertools import islice \n",
    "\n",
    "npub = 6\n",
    "res = [k[0] for k in (islice(reversed(sorted(dates, key=lambda x: x[1])), 6))]\n",
    "print(len(res), f\" {npub} publications selected.\")\n",
    "\n",
    "grid = create_grid(npub)\n",
    "docs = ', '.join(['\"{0:s}\"'.format(k.split('/')[-1]) for k in res])\n",
    "slides = ', '.join([f'\"slide{k}\"' for k in range(1, npub + 1)])\n",
    "\n",
    "with open(\"grid_template.html\", \"r\") as tpl:\n",
    "    page = tpl.read()\n",
    "    page = page.replace(\"{%-- grid-content:s --%}\", grid)\\\n",
    "               .replace(\"{%-- suptitle:s --%}\",  f\"Last {npub:,d} papers\" )\\\n",
    "               .replace(\"{%-- docs:s --%}\", docs)\\\n",
    "               .replace(\"{%-- slides:s --%}\", slides)\n",
    "    \n",
    "# print(grid, docs, slides)\n",
    "# print(page)\n",
    "with open(\"_build/html/index_npub_grid.html\", 'w') as fout:\n",
    "    fout.write(page)"
   ]
  }
 ],
 "metadata": {
  "kernelspec": {
   "display_name": "Python 3 (ipykernel)",
   "language": "python",
   "name": "python3"
  },
  "language_info": {
   "codemirror_mode": {
    "name": "ipython",
    "version": 3
   },
   "file_extension": ".py",
   "mimetype": "text/x-python",
   "name": "python",
   "nbconvert_exporter": "python",
   "pygments_lexer": "ipython3",
   "version": "3.9.19"
  },
  "papermill": {
   "default_parameters": {},
   "duration": 68.486152,
   "end_time": "2024-09-12T04:11:39.039292",
   "environment_variables": {},
   "exception": null,
   "input_path": "MPIA daily digest.ipynb",
   "output_path": "log.ipynb",
   "parameters": {},
   "start_time": "2024-09-12T04:10:30.553140",
   "version": "2.6.0"
  },
  "vscode": {
   "interpreter": {
    "hash": "aee8b7b246df8f9039afb4144a1f6fd8d2ca17a180786b69acc140d282b71a49"
   }
  },
  "widgets": {
   "application/vnd.jupyter.widget-state+json": {
    "state": {
     "0b62056951274124abd035477d1e5d4a": {
      "model_module": "@jupyter-widgets/controls",
      "model_module_version": "2.0.0",
      "model_name": "HBoxModel",
      "state": {
       "_dom_classes": [],
       "_model_module": "@jupyter-widgets/controls",
       "_model_module_version": "2.0.0",
       "_model_name": "HBoxModel",
       "_view_count": null,
       "_view_module": "@jupyter-widgets/controls",
       "_view_module_version": "2.0.0",
       "_view_name": "HBoxView",
       "box_style": "",
       "children": [
        "IPY_MODEL_8b85ee4dddab4064872380daa1473f20",
        "IPY_MODEL_200913f0cc6c40a79b395f7087b1a287",
        "IPY_MODEL_e96b8bbf197b477baf9a5aabac905c48"
       ],
       "layout": "IPY_MODEL_c4f7b75da9334283842bf7eb0e95d502",
       "tabbable": null,
       "tooltip": null
      }
     },
     "0f0bb5eeb6874dbc921664bc9c314d04": {
      "model_module": "@jupyter-widgets/base",
      "model_module_version": "2.0.0",
      "model_name": "LayoutModel",
      "state": {
       "_model_module": "@jupyter-widgets/base",
       "_model_module_version": "2.0.0",
       "_model_name": "LayoutModel",
       "_view_count": null,
       "_view_module": "@jupyter-widgets/base",
       "_view_module_version": "2.0.0",
       "_view_name": "LayoutView",
       "align_content": null,
       "align_items": null,
       "align_self": null,
       "border_bottom": null,
       "border_left": null,
       "border_right": null,
       "border_top": null,
       "bottom": null,
       "display": null,
       "flex": null,
       "flex_flow": null,
       "grid_area": null,
       "grid_auto_columns": null,
       "grid_auto_flow": null,
       "grid_auto_rows": null,
       "grid_column": null,
       "grid_gap": null,
       "grid_row": null,
       "grid_template_areas": null,
       "grid_template_columns": null,
       "grid_template_rows": null,
       "height": null,
       "justify_content": null,
       "justify_items": null,
       "left": null,
       "margin": null,
       "max_height": null,
       "max_width": null,
       "min_height": null,
       "min_width": null,
       "object_fit": null,
       "object_position": null,
       "order": null,
       "overflow": null,
       "padding": null,
       "right": null,
       "top": null,
       "visibility": null,
       "width": null
      }
     },
     "200913f0cc6c40a79b395f7087b1a287": {
      "model_module": "@jupyter-widgets/controls",
      "model_module_version": "2.0.0",
      "model_name": "FloatProgressModel",
      "state": {
       "_dom_classes": [],
       "_model_module": "@jupyter-widgets/controls",
       "_model_module_version": "2.0.0",
       "_model_name": "FloatProgressModel",
       "_view_count": null,
       "_view_module": "@jupyter-widgets/controls",
       "_view_module_version": "2.0.0",
       "_view_name": "ProgressView",
       "bar_style": "success",
       "description": "",
       "description_allow_html": false,
       "layout": "IPY_MODEL_31f55c7d35e844fa940d8debf63abf0b",
       "max": 3.0,
       "min": 0.0,
       "orientation": "horizontal",
       "style": "IPY_MODEL_a836a6e157da4f5cbdcfddcbc9ed7853",
       "tabbable": null,
       "tooltip": null,
       "value": 3.0
      }
     },
     "225e8d0b9029464683908146ae22ac56": {
      "model_module": "@jupyter-widgets/controls",
      "model_module_version": "2.0.0",
      "model_name": "HTMLStyleModel",
      "state": {
       "_model_module": "@jupyter-widgets/controls",
       "_model_module_version": "2.0.0",
       "_model_name": "HTMLStyleModel",
       "_view_count": null,
       "_view_module": "@jupyter-widgets/base",
       "_view_module_version": "2.0.0",
       "_view_name": "StyleView",
       "background": null,
       "description_width": "",
       "font_size": null,
       "text_color": null
      }
     },
     "31f55c7d35e844fa940d8debf63abf0b": {
      "model_module": "@jupyter-widgets/base",
      "model_module_version": "2.0.0",
      "model_name": "LayoutModel",
      "state": {
       "_model_module": "@jupyter-widgets/base",
       "_model_module_version": "2.0.0",
       "_model_name": "LayoutModel",
       "_view_count": null,
       "_view_module": "@jupyter-widgets/base",
       "_view_module_version": "2.0.0",
       "_view_name": "LayoutView",
       "align_content": null,
       "align_items": null,
       "align_self": null,
       "border_bottom": null,
       "border_left": null,
       "border_right": null,
       "border_top": null,
       "bottom": null,
       "display": null,
       "flex": null,
       "flex_flow": null,
       "grid_area": null,
       "grid_auto_columns": null,
       "grid_auto_flow": null,
       "grid_auto_rows": null,
       "grid_column": null,
       "grid_gap": null,
       "grid_row": null,
       "grid_template_areas": null,
       "grid_template_columns": null,
       "grid_template_rows": null,
       "height": null,
       "justify_content": null,
       "justify_items": null,
       "left": null,
       "margin": null,
       "max_height": null,
       "max_width": null,
       "min_height": null,
       "min_width": null,
       "object_fit": null,
       "object_position": null,
       "order": null,
       "overflow": null,
       "padding": null,
       "right": null,
       "top": null,
       "visibility": null,
       "width": null
      }
     },
     "58d50109b5ab4345b1bbececdc37afda": {
      "model_module": "@jupyter-widgets/base",
      "model_module_version": "2.0.0",
      "model_name": "LayoutModel",
      "state": {
       "_model_module": "@jupyter-widgets/base",
       "_model_module_version": "2.0.0",
       "_model_name": "LayoutModel",
       "_view_count": null,
       "_view_module": "@jupyter-widgets/base",
       "_view_module_version": "2.0.0",
       "_view_name": "LayoutView",
       "align_content": null,
       "align_items": null,
       "align_self": null,
       "border_bottom": null,
       "border_left": null,
       "border_right": null,
       "border_top": null,
       "bottom": null,
       "display": null,
       "flex": null,
       "flex_flow": null,
       "grid_area": null,
       "grid_auto_columns": null,
       "grid_auto_flow": null,
       "grid_auto_rows": null,
       "grid_column": null,
       "grid_gap": null,
       "grid_row": null,
       "grid_template_areas": null,
       "grid_template_columns": null,
       "grid_template_rows": null,
       "height": null,
       "justify_content": null,
       "justify_items": null,
       "left": null,
       "margin": null,
       "max_height": null,
       "max_width": null,
       "min_height": null,
       "min_width": null,
       "object_fit": null,
       "object_position": null,
       "order": null,
       "overflow": null,
       "padding": null,
       "right": null,
       "top": null,
       "visibility": null,
       "width": null
      }
     },
     "8b85ee4dddab4064872380daa1473f20": {
      "model_module": "@jupyter-widgets/controls",
      "model_module_version": "2.0.0",
      "model_name": "HTMLModel",
      "state": {
       "_dom_classes": [],
       "_model_module": "@jupyter-widgets/controls",
       "_model_module_version": "2.0.0",
       "_model_name": "HTMLModel",
       "_view_count": null,
       "_view_module": "@jupyter-widgets/controls",
       "_view_module_version": "2.0.0",
       "_view_name": "HTMLView",
       "description": "",
       "description_allow_html": false,
       "layout": "IPY_MODEL_58d50109b5ab4345b1bbececdc37afda",
       "placeholder": "​",
       "style": "IPY_MODEL_f2c10633676945b3971cd75d061e1fc8",
       "tabbable": null,
       "tooltip": null,
       "value": "100%"
      }
     },
     "a836a6e157da4f5cbdcfddcbc9ed7853": {
      "model_module": "@jupyter-widgets/controls",
      "model_module_version": "2.0.0",
      "model_name": "ProgressStyleModel",
      "state": {
       "_model_module": "@jupyter-widgets/controls",
       "_model_module_version": "2.0.0",
       "_model_name": "ProgressStyleModel",
       "_view_count": null,
       "_view_module": "@jupyter-widgets/base",
       "_view_module_version": "2.0.0",
       "_view_name": "StyleView",
       "bar_color": null,
       "description_width": ""
      }
     },
     "c4f7b75da9334283842bf7eb0e95d502": {
      "model_module": "@jupyter-widgets/base",
      "model_module_version": "2.0.0",
      "model_name": "LayoutModel",
      "state": {
       "_model_module": "@jupyter-widgets/base",
       "_model_module_version": "2.0.0",
       "_model_name": "LayoutModel",
       "_view_count": null,
       "_view_module": "@jupyter-widgets/base",
       "_view_module_version": "2.0.0",
       "_view_name": "LayoutView",
       "align_content": null,
       "align_items": null,
       "align_self": null,
       "border_bottom": null,
       "border_left": null,
       "border_right": null,
       "border_top": null,
       "bottom": null,
       "display": null,
       "flex": null,
       "flex_flow": null,
       "grid_area": null,
       "grid_auto_columns": null,
       "grid_auto_flow": null,
       "grid_auto_rows": null,
       "grid_column": null,
       "grid_gap": null,
       "grid_row": null,
       "grid_template_areas": null,
       "grid_template_columns": null,
       "grid_template_rows": null,
       "height": null,
       "justify_content": null,
       "justify_items": null,
       "left": null,
       "margin": null,
       "max_height": null,
       "max_width": null,
       "min_height": null,
       "min_width": null,
       "object_fit": null,
       "object_position": null,
       "order": null,
       "overflow": null,
       "padding": null,
       "right": null,
       "top": null,
       "visibility": null,
       "width": null
      }
     },
     "e96b8bbf197b477baf9a5aabac905c48": {
      "model_module": "@jupyter-widgets/controls",
      "model_module_version": "2.0.0",
      "model_name": "HTMLModel",
      "state": {
       "_dom_classes": [],
       "_model_module": "@jupyter-widgets/controls",
       "_model_module_version": "2.0.0",
       "_model_name": "HTMLModel",
       "_view_count": null,
       "_view_module": "@jupyter-widgets/controls",
       "_view_module_version": "2.0.0",
       "_view_name": "HTMLView",
       "description": "",
       "description_allow_html": false,
       "layout": "IPY_MODEL_0f0bb5eeb6874dbc921664bc9c314d04",
       "placeholder": "​",
       "style": "IPY_MODEL_225e8d0b9029464683908146ae22ac56",
       "tabbable": null,
       "tooltip": null,
       "value": " 3/3 [00:49&lt;00:00, 19.23s/it]"
      }
     },
     "f2c10633676945b3971cd75d061e1fc8": {
      "model_module": "@jupyter-widgets/controls",
      "model_module_version": "2.0.0",
      "model_name": "HTMLStyleModel",
      "state": {
       "_model_module": "@jupyter-widgets/controls",
       "_model_module_version": "2.0.0",
       "_model_name": "HTMLStyleModel",
       "_view_count": null,
       "_view_module": "@jupyter-widgets/base",
       "_view_module_version": "2.0.0",
       "_view_name": "StyleView",
       "background": null,
       "description_width": "",
       "font_size": null,
       "text_color": null
      }
     }
    },
    "version_major": 2,
    "version_minor": 0
   }
  }
 },
 "nbformat": 4,
 "nbformat_minor": 5
}