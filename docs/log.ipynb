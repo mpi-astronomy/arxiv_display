{
 "cells": [
  {
   "cell_type": "markdown",
   "id": "92bcb855",
   "metadata": {
    "papermill": {
     "duration": 0.003801,
     "end_time": "2025-06-19T04:19:19.427712",
     "exception": false,
     "start_time": "2025-06-19T04:19:19.423911",
     "status": "completed"
    },
    "tags": []
   },
   "source": [
    "# MPIA Arxiv on Deck 2\n",
    "\n",
    "Contains the steps to produce the paper extractions."
   ]
  },
  {
   "cell_type": "code",
   "execution_count": 1,
   "id": "3a0d6e11",
   "metadata": {
    "execution": {
     "iopub.execute_input": "2025-06-19T04:19:19.435516Z",
     "iopub.status.busy": "2025-06-19T04:19:19.434850Z",
     "iopub.status.idle": "2025-06-19T04:19:19.907305Z",
     "shell.execute_reply": "2025-06-19T04:19:19.906539Z"
    },
    "papermill": {
     "duration": 0.477775,
     "end_time": "2025-06-19T04:19:19.908758",
     "exception": false,
     "start_time": "2025-06-19T04:19:19.430983",
     "status": "completed"
    },
    "tags": []
   },
   "outputs": [],
   "source": [
    "# Imports\n",
    "import os\n",
    "from IPython.display import Markdown, display\n",
    "from tqdm.notebook import tqdm\n",
    "import warnings\n",
    "from PIL import Image \n",
    "import re\n",
    "\n",
    "# requires arxiv_on_deck_2\n",
    "\n",
    "from arxiv_on_deck_2.arxiv2 import (get_new_papers, \n",
    "                                    get_paper_from_identifier,\n",
    "                                    retrieve_document_source, \n",
    "                                    get_markdown_badge)\n",
    "from arxiv_on_deck_2 import (latex,\n",
    "                             latex_bib,\n",
    "                             mpia,\n",
    "                             highlight_authors_in_list)\n",
    "\n",
    "# Sometimes images are really big\n",
    "Image.MAX_IMAGE_PIXELS = 1000000000 "
   ]
  },
  {
   "cell_type": "code",
   "execution_count": 2,
   "id": "22aa9d44",
   "metadata": {
    "execution": {
     "iopub.execute_input": "2025-06-19T04:19:19.916239Z",
     "iopub.status.busy": "2025-06-19T04:19:19.915758Z",
     "iopub.status.idle": "2025-06-19T04:19:19.924012Z",
     "shell.execute_reply": "2025-06-19T04:19:19.923450Z"
    },
    "papermill": {
     "duration": 0.013024,
     "end_time": "2025-06-19T04:19:19.925008",
     "exception": false,
     "start_time": "2025-06-19T04:19:19.911984",
     "status": "completed"
    },
    "tags": []
   },
   "outputs": [],
   "source": [
    "# Some useful definitions.\n",
    "\n",
    "class AffiliationWarning(UserWarning):\n",
    "    pass\n",
    "\n",
    "class AffiliationError(RuntimeError):\n",
    "    pass\n",
    "\n",
    "def validation(source: str):\n",
    "    \"\"\"Raises error paper during parsing of source file\n",
    "    \n",
    "    Allows checks before parsing TeX code.\n",
    "    \n",
    "    Raises AffiliationWarning\n",
    "    \"\"\"\n",
    "    check = mpia.affiliation_verifications(source, verbose=True)\n",
    "    if check is not True:\n",
    "        raise AffiliationError(\"mpia.affiliation_verifications: \" + check)\n",
    "\n",
    "        \n",
    "warnings.simplefilter('always', AffiliationWarning)\n",
    "\n",
    "\n",
    "def get_markdown_qrcode(paper_id: str):\n",
    "    \"\"\" Generate a qrcode to the arxiv page using qrserver.com\n",
    "    \n",
    "    :param paper: Arxiv paper\n",
    "    :returns: markdown text\n",
    "    \"\"\"\n",
    "    url = r\"https://api.qrserver.com/v1/create-qr-code/?size=100x100&data=\"\n",
    "    txt = f\"\"\"<img src={url}\"https://arxiv.org/abs/{paper_id}\">\"\"\"\n",
    "    txt = '<div id=\"qrcode\">' + txt + '</div>'\n",
    "    return txt\n",
    "\n",
    "\n",
    "def clean_non_western_encoded_characters_commands(text: str) -> str:\n",
    "    \"\"\" Remove non-western encoded characters from a string\n",
    "    List may need to grow.\n",
    "    \n",
    "    :param text: the text to clean\n",
    "    :return: the cleaned text\n",
    "    \"\"\"\n",
    "    text = re.sub(r\"(\\\\begin{CJK}{UTF8}{gbsn})(.*?)(\\\\end{CJK})\", r\"\\2\", text)\n",
    "    return text\n",
    "\n",
    "\n",
    "def get_initials(name: str) -> str:\n",
    "    \"\"\" Get the short name, e.g., A.-B. FamName\n",
    "    :param name: full name\n",
    "    :returns: initials\n",
    "    \"\"\"\n",
    "    initials = []\n",
    "    # account for non western names often in ()\n",
    "    if '(' in name:\n",
    "        name = clean_non_western_encoded_characters_commands(name)\n",
    "        suffix = re.findall(r\"\\((.*?)\\)\", name)[0]\n",
    "        name = name.replace(f\"({suffix})\", '')\n",
    "    else:\n",
    "        suffix = ''\n",
    "    split = name.split()\n",
    "    for token in split[:-1]:\n",
    "        if '-' in token:\n",
    "            current = '-'.join([k[0] + '.' for k in token.split('-')])\n",
    "        else:\n",
    "            current = token[0] + '.'\n",
    "        initials.append(current)\n",
    "    initials.append(split[-1].strip())\n",
    "    if suffix:\n",
    "        initials.append(f\"({suffix})\")\n",
    "    return ' '.join(initials)"
   ]
  },
  {
   "cell_type": "markdown",
   "id": "14bd6310",
   "metadata": {
    "papermill": {
     "duration": 0.002867,
     "end_time": "2025-06-19T04:19:19.930870",
     "exception": false,
     "start_time": "2025-06-19T04:19:19.928003",
     "status": "completed"
    },
    "tags": []
   },
   "source": [
    "## get list of arxiv paper candidates\n",
    "\n",
    "We use the MPIA mitarbeiter list webpage from mpia.de to get author names\n",
    "We then get all new papers from Arxiv and match authors"
   ]
  },
  {
   "cell_type": "code",
   "execution_count": 3,
   "id": "7ea813a8",
   "metadata": {
    "execution": {
     "iopub.execute_input": "2025-06-19T04:19:19.937877Z",
     "iopub.status.busy": "2025-06-19T04:19:19.937494Z",
     "iopub.status.idle": "2025-06-19T04:19:39.811721Z",
     "shell.execute_reply": "2025-06-19T04:19:39.810968Z"
    },
    "papermill": {
     "duration": 19.879172,
     "end_time": "2025-06-19T04:19:39.813037",
     "exception": false,
     "start_time": "2025-06-19T04:19:19.933865",
     "status": "completed"
    },
    "tags": []
   },
   "outputs": [],
   "source": [
    "# deal with the author list and edge cases of people that cannot be consistent on their name  \n",
    "\n",
    "def filter_non_scientists(name: str) -> bool:\n",
    "    \"\"\" Loose filter on expected authorships\n",
    "\n",
    "    removing IT, administration, technical staff\n",
    "    :param name: name\n",
    "    :returns: False if name is not a scientist\n",
    "    \"\"\"\n",
    "    remove_list = ['Licht', 'Binroth', 'Witzel', 'Jordan',\n",
    "                   'Zähringer', 'Scheerer', 'Hoffmann', 'Düe',\n",
    "                   'Hellmich', 'Enkler-Scharpegge', 'Witte-Nguy',\n",
    "                   'Dehen', 'Beckmann', 'Jager', 'Jäger'\n",
    "                  ]\n",
    "\n",
    "    for k in remove_list:\n",
    "        if k in name:\n",
    "            return False\n",
    "    return True\n",
    "\n",
    "def add_author_to_list(author_list: list) -> list:\n",
    "    \"\"\" Add author to list if not already in list\n",
    "    \n",
    "    :param author: author name\n",
    "    :param author_list: list of authors\n",
    "    :returns: updated list of authors\n",
    "    \"\"\"\n",
    "    add_list = ['T. Henning']\n",
    "\n",
    "    for author in add_list:\n",
    "        if author not in author_list:\n",
    "            author_list.append(author)\n",
    "    return author_list\n",
    "\n",
    "# get list from MPIA website\n",
    "# filter for non-scientists (mpia.get_mpia_mitarbeiter_list() does some filtering)\n",
    "mpia_authors = [k[1] for k in mpia.get_mpia_mitarbeiter_list() if filter_non_scientists(k[1])]\n",
    "# add some missing author because of inconsistencies in their MPIA name and author name on papers\n",
    "mpia_authors = add_author_to_list(mpia_authors)"
   ]
  },
  {
   "cell_type": "code",
   "execution_count": 4,
   "id": "2645e73a",
   "metadata": {
    "execution": {
     "iopub.execute_input": "2025-06-19T04:19:39.820475Z",
     "iopub.status.busy": "2025-06-19T04:19:39.820053Z",
     "iopub.status.idle": "2025-06-19T04:19:40.566204Z",
     "shell.execute_reply": "2025-06-19T04:19:40.565509Z"
    },
    "papermill": {
     "duration": 0.750894,
     "end_time": "2025-06-19T04:19:40.567276",
     "exception": false,
     "start_time": "2025-06-19T04:19:39.816382",
     "status": "completed"
    },
    "tags": []
   },
   "outputs": [
    {
     "name": "stdout",
     "output_type": "stream",
     "text": [
      "K. Kreckel  ->  K. Kreckel  |  ['K. Kreckel']\n",
      "E. Schinnerer  ->  E. Schinnerer  |  ['E. Schinnerer']\n",
      "Y. Wang  ->  Y. Wang  |  ['Y. Wang']\n",
      "Y. Wang  ->  Y. Wang  |  ['Y. Wang']\n",
      "Y. Wang  ->  Y. Wang  |  ['Y. Wang']\n",
      "F. Walter  ->  F. Walter  |  ['F. Walter']\n",
      "T. Henning  ->  T. Henning  |  ['T. Henning']\n"
     ]
    },
    {
     "name": "stdout",
     "output_type": "stream",
     "text": [
      "G. Rouillé  ->  G. Rouillé  |  ['G. Rouillé']\n",
      "Arxiv has 60 new papers today\n",
      "          4 with possible author matches\n"
     ]
    }
   ],
   "source": [
    "new_papers = get_new_papers()\n",
    "# add manual references\n",
    "add_paper_refs = []\n",
    "new_papers.extend([get_paper_from_identifier(k) for k in add_paper_refs])\n",
    "\n",
    "def robust_call(fn, value, *args, **kwargs):\n",
    "    try:\n",
    "        return fn(value, *args, **kwargs)\n",
    "    except Exception:\n",
    "        return value\n",
    "\n",
    "candidates = []\n",
    "for paperk in new_papers:\n",
    "    # Check author list with their initials\n",
    "    normed_author_list = [robust_call(mpia.get_initials, k) for k in paperk['authors']]\n",
    "    hl_authors = highlight_authors_in_list(normed_author_list, mpia_authors, verbose=True)\n",
    "    matches = [(hl, orig) for hl, orig in zip(hl_authors, paperk['authors']) if 'mark' in hl]\n",
    "    paperk['authors'] = hl_authors\n",
    "    if matches:\n",
    "        # only select paper if an author matched our list\n",
    "        candidates.append(paperk)\n",
    "print(\"\"\"Arxiv has {0:,d} new papers today\"\"\".format(len(new_papers)))        \n",
    "print(\"\"\"          {0:,d} with possible author matches\"\"\".format(len(candidates)))"
   ]
  },
  {
   "cell_type": "markdown",
   "id": "3543b34a",
   "metadata": {
    "papermill": {
     "duration": 0.003243,
     "end_time": "2025-06-19T04:19:40.574087",
     "exception": false,
     "start_time": "2025-06-19T04:19:40.570844",
     "status": "completed"
    },
    "tags": []
   },
   "source": [
    "# Parse sources and generate relevant outputs\n",
    "\n",
    "From the candidates, we do the following steps:\n",
    "* get their tarball from ArXiv (and extract data)\n",
    "* find the main .tex file: find one with \\documentclass{...} (sometimes it's non trivial)\n",
    "* Check affiliations with :func:`validation`, which uses :func:`mpia.affiliation_verifications`\n",
    "* If passing the affiliations: we parse the .tex source\n",
    "   * inject sub-documents into the main (flatten the main document)\n",
    "   * parse structure, extract information (title, abstract, authors, figures...)\n",
    "   * handles `\\graphicspath` if provided\n",
    "* Generate the .md document."
   ]
  },
  {
   "cell_type": "code",
   "execution_count": 5,
   "id": "9576b79e",
   "metadata": {
    "execution": {
     "iopub.execute_input": "2025-06-19T04:19:40.581872Z",
     "iopub.status.busy": "2025-06-19T04:19:40.581228Z",
     "iopub.status.idle": "2025-06-19T04:20:31.630897Z",
     "shell.execute_reply": "2025-06-19T04:20:31.630089Z"
    },
    "papermill": {
     "duration": 51.054783,
     "end_time": "2025-06-19T04:20:31.632023",
     "exception": false,
     "start_time": "2025-06-19T04:19:40.577240",
     "status": "completed"
    },
    "scrolled": false,
    "tags": []
   },
   "outputs": [
    {
     "data": {
      "application/vnd.jupyter.widget-view+json": {
       "model_id": "05d2eeb010f047eea7d85945f7471f30",
       "version_major": 2,
       "version_minor": 0
      },
      "text/plain": [
       "  0%|          | 0/4 [00:00<?, ?it/s]"
      ]
     },
     "metadata": {},
     "output_type": "display_data"
    },
    {
     "name": "stdout",
     "output_type": "stream",
     "text": [
      "Retrieving document from  https://arxiv.org/e-print/2506.14921\n"
     ]
    },
    {
     "name": "stdout",
     "output_type": "stream",
     "text": [
      "extracting tarball to tmp_2506.14921..."
     ]
    },
    {
     "name": "stdout",
     "output_type": "stream",
     "text": [
      " done.\n"
     ]
    },
    {
     "name": "stdout",
     "output_type": "stream",
     "text": [
      "Found 117 bibliographic references in tmp_2506.14921/aa54144-25.bbl.\n",
      "Retrieving document from  https://arxiv.org/e-print/2506.15039\n"
     ]
    },
    {
     "name": "stdout",
     "output_type": "stream",
     "text": [
      "extracting tarball to tmp_2506.15039... done.\n",
      "Retrieving document from  https://arxiv.org/e-print/2506.15286\n"
     ]
    },
    {
     "name": "stdout",
     "output_type": "stream",
     "text": [
      "extracting tarball to tmp_2506.15286..."
     ]
    },
    {
     "name": "stdout",
     "output_type": "stream",
     "text": [
      " done.\n"
     ]
    },
    {
     "name": "stderr",
     "output_type": "stream",
     "text": [
      "/opt/hostedtoolcache/Python/3.9.22/x64/lib/python3.9/site-packages/arxiv_on_deck_2/latex.py:488: LatexWarning: Error parsing the document directly. Trying to recover.\n",
      "  warnings.warn(LatexWarning(f\"Error parsing the document directly. Trying to recover.\"))\n"
     ]
    },
    {
     "name": "stdout",
     "output_type": "stream",
     "text": [
      "✔ → 0:header\n",
      "  ↳ 6294:\\section{Introduction}\\label{sec:introduction}\n"
     ]
    },
    {
     "name": "stdout",
     "output_type": "stream",
     "text": [
      "✘ → 6294:\\section{Introduction}\\label{sec:introduction}\n",
      "  ↳ 15263:\\section{MIRI-MRS observations}\\label{sec:observations}\n"
     ]
    },
    {
     "name": "stdout",
     "output_type": "stream",
     "text": [
      "✔ → 15263:\\section{MIRI-MRS observations}\\label{sec:observations}\n",
      "  ↳ 24265:\\section{Results}\\label{sec:results}\n"
     ]
    },
    {
     "name": "stdout",
     "output_type": "stream",
     "text": [
      "✔ → 24265:\\section{Results}\\label{sec:results}\n",
      "  ↳ 59144:\\section{Discussion and summary}\\label{sec:discussion}\n"
     ]
    },
    {
     "name": "stdout",
     "output_type": "stream",
     "text": [
      "✔ → 59144:\\section{Discussion and summary}\\label{sec:discussion}\n",
      "  ↳ 70336:\\begin{appendix}\n"
     ]
    },
    {
     "name": "stdout",
     "output_type": "stream",
     "text": [
      "✔ → 70336:\\begin{appendix}\n",
      "  ↳ 76815:end\n",
      "F. Walter  ->  F. Walter  |  ['F. Walter']\n",
      "T. Henning  ->  T. Henning  |  ['T. Henning']\n"
     ]
    },
    {
     "name": "stdout",
     "output_type": "stream",
     "text": [
      "Found 85 bibliographic references in tmp_2506.15286/paperCenA.bbl.\n",
      "Issues with the citations\n",
      "syntax error in line 18: '=' expected\n",
      "Retrieving document from  https://arxiv.org/e-print/2506.15550\n"
     ]
    },
    {
     "name": "stdout",
     "output_type": "stream",
     "text": [
      "extracting tarball to tmp_2506.15550... done.\n"
     ]
    }
   ],
   "source": [
    "documents = []\n",
    "failed = []\n",
    "for paper in tqdm(candidates):\n",
    "    # debug crap\n",
    "    paper['identifier'] = paper['identifier'].lower().replace('arxiv:', '').replace(r'\\n', '').strip()\n",
    "    paper_id = paper['identifier']\n",
    "    \n",
    "    folder = f'tmp_{paper_id}'\n",
    "\n",
    "    try:\n",
    "        if not os.path.isdir(folder):\n",
    "            folder = retrieve_document_source(f\"{paper_id}\", f'tmp_{paper_id}')\n",
    "        \n",
    "        try:\n",
    "            doc = latex.LatexDocument(folder, validation=validation)    \n",
    "        except AffiliationError as affilerror:\n",
    "            msg = f\"ArXiv:{paper_id:s} is not an MPIA paper... \" + str(affilerror)\n",
    "            failed.append((paper, \"affiliation error: \" + str(affilerror) ))\n",
    "            continue\n",
    "        \n",
    "        # Hack because sometimes author parsing does not work well\n",
    "        if (len(doc.authors) != len(paper['authors'])):\n",
    "            doc._authors = paper['authors']\n",
    "        else:\n",
    "            # highlight authors (FIXME: doc.highlight_authors)\n",
    "            # done on arxiv paper already\n",
    "            doc._authors = highlight_authors_in_list(\n",
    "                [get_initials(k) for k in doc.authors], \n",
    "                mpia_authors, verbose=True)\n",
    "        if (doc.abstract) in (None, ''):\n",
    "            doc._abstract = paper['abstract']\n",
    "            \n",
    "        doc.comment = (get_markdown_badge(paper_id) + \n",
    "                       \"<mark>Appeared on: \" + paper['date'] + \"</mark> - \")\n",
    "        if paper['comments']:\n",
    "            doc.comment += \" _\" + paper['comments'] + \"_\"\n",
    "        \n",
    "        full_md = doc.generate_markdown_text()\n",
    "        \n",
    "        full_md += get_markdown_qrcode(paper_id)\n",
    "        \n",
    "        # replace citations\n",
    "        try:\n",
    "            bibdata = latex_bib.LatexBib.from_doc(doc)\n",
    "            full_md = latex_bib.replace_citations(full_md, bibdata)\n",
    "        except Exception as e:\n",
    "            print(\"Issues with the citations\")\n",
    "            print(e)\n",
    "        \n",
    "        documents.append((paper_id, full_md))\n",
    "    except Exception as e:\n",
    "        warnings.warn(latex.LatexWarning(f\"{paper_id:s} did not run properly\\n\" +\n",
    "                                         str(e)\n",
    "                                        ))\n",
    "        failed.append((paper, \"latex error \" + str(e)))"
   ]
  },
  {
   "cell_type": "markdown",
   "id": "2505a25c",
   "metadata": {
    "papermill": {
     "duration": 0.003983,
     "end_time": "2025-06-19T04:20:31.640356",
     "exception": false,
     "start_time": "2025-06-19T04:20:31.636373",
     "status": "completed"
    },
    "tags": []
   },
   "source": [
    "### Export the logs\n",
    "\n",
    "Throughout, we also keep track of the logs per paper. see `logs-{today date}.md` "
   ]
  },
  {
   "cell_type": "code",
   "execution_count": 6,
   "id": "d733828a",
   "metadata": {
    "execution": {
     "iopub.execute_input": "2025-06-19T04:20:31.649850Z",
     "iopub.status.busy": "2025-06-19T04:20:31.649331Z",
     "iopub.status.idle": "2025-06-19T04:20:31.664845Z",
     "shell.execute_reply": "2025-06-19T04:20:31.664278Z"
    },
    "papermill": {
     "duration": 0.021467,
     "end_time": "2025-06-19T04:20:31.665854",
     "exception": false,
     "start_time": "2025-06-19T04:20:31.644387",
     "status": "completed"
    },
    "scrolled": false,
    "tags": []
   },
   "outputs": [
    {
     "data": {
      "text/markdown": [
       "## Successful papers"
      ],
      "text/plain": [
       "<IPython.core.display.Markdown object>"
      ]
     },
     "metadata": {},
     "output_type": "display_data"
    },
    {
     "data": {
      "text/markdown": [
       "\n",
       "|||\n",
       "|---:|:---|\n",
       "| [![arXiv](https://img.shields.io/badge/arXiv-2506.14921-b31b1b.svg)](https://arxiv.org/abs/2506.14921) | **The MUSE view of the Sculptor galaxy: survey overview and the planetary nebulae luminosity function**  |\n",
       "|| E. Congiu, et al. -- incl., <mark>K. Kreckel</mark>, <mark>E. Schinnerer</mark> |\n",
       "|*Appeared on*| *2025-06-19*|\n",
       "|*Comments*| *21 pages, 17 figures, accepted for publication in A&A*|\n",
       "|**Abstract**|            NGC 253, the Sculptor galaxy, is the southern, massive, star-forming disk galaxy closest to the Milky Way. In this work, we present a new 103-pointing MUSE mosaic of this galaxy covering the majority of its star-forming disk up to 0.75xR25. With an area of ~20x5 arcmin2 (~20x5 kpc2, projected) and a physical resolution of ~15 pc, this mosaic constitutes one of the largest, highest physical resolution integral field spectroscopy surveys of any star-forming galaxy to date. Here, we exploit the mosaic to identify a sample of ~500 planetary nebulae (~20 times larger than in previous studies) to build the planetary nebula luminosity function (PNLF) and obtain a new estimate of the distance to NGC 253. The value obtained is 17% higher than estimates returned by other reliable measurements, mainly obtained via the top of the red giant branch method (TRGB). The PNLF also varies between the centre (r < 4 kpc) and the disk of the galaxy. The distance derived from the PNLF of the outer disk is comparable to that of the full sample, while the PNLF of the centre returns a distance ~0.9 Mpc larger. Our analysis suggests that extinction related to the dust-rich interstellar medium and edge-on view of the galaxy (the average E(B-V) across the disk is ~0.35 mag) plays a major role in explaining both the larger distance recovered from the full PNLF and the difference between the PNLFs in the centre and in the disk.         |"
      ],
      "text/plain": [
       "[2506.14921] The MUSE view of the Sculptor galaxy: survey overview and the planetary nebulae luminosity function\n",
       "\tE. Congiu, et al. -- incl., <mark>K. Kreckel</mark>, <mark>E. Schinnerer</mark>"
      ]
     },
     "metadata": {},
     "output_type": "display_data"
    },
    {
     "data": {
      "text/markdown": [
       "\n",
       "|||\n",
       "|---:|:---|\n",
       "| [![arXiv](https://img.shields.io/badge/arXiv-2506.15286-b31b1b.svg)](https://arxiv.org/abs/2506.15286) | **MICONIC: JWST/MIRI MRS reveals a fast ionized gas outflow in the central region of Centaurus A**  |\n",
       "|| A. Alonso-Herrero, et al. -- incl., <mark>F. Walter</mark>, <mark>T. Henning</mark> |\n",
       "|*Appeared on*| *2025-06-19*|\n",
       "|*Comments*| *Accepted for publication in Astronomy & Astrophysics*|\n",
       "|**Abstract**|            We present a kinematical study of the ionized and molecular gas in the central region (~7-14\"~100-200pc) of the nearby radio galaxy Cen A. We used JWST/MIRI MRS 5-28$\\mu$m observations taken as part of the MIR Characterization of Nearby Iconic galaxy Centers (MICONIC) of the MIRI EC. The two gas phases present contrasting morphologies and kinematics. The brightest emission from the ionized gas, traced with a range of IP lines ([Fe II] to [Ne VI]), is extended along the direction of the radio jet. We also detected emission from low IP emission lines and H$_2$ transitions in the galaxy disk. Both gas phases present rotational motions but also complex kinematics. The observations reveal several ionized gas kinematical features that are consistent with simulation predictions of a jet-driven bubble and outflow interacting with the galaxy ISM. These include broad components in the nuclear line profiles ($\\sigma$~600km/s), high velocities (~ +1000, -1400km/s) confined within the nuclear region, velocities of hundreds of km/s in several directions in the central 2\", and enhanced velocity dispersions perpendicular to the radio jet. Moreover, we find evidence of shock excitation in the nuclear region based on MIR line ratios. We compared the ionized gas mass outflow rate with Cen A's AGN luminosity and radio jet power and demonstrate that both mechanisms provide sufficient energy to launch the outflow. The noncircular motions observed in the H$_2$ lines can be reproduced with either a warped rotating disk model or a radial component. The latter might be to related to gas streamers detected in cold molecular gas. There is no clear indication of a fast nuclear H$_2$ outflow, only a weak blueshifted component. This could be due to a relatively low nuclear warm H$_2$ column density and/or the limited geometrical coupling of Cen A's inner radio jet with the circumnuclear disk of the galaxy. (Abridged)         |"
      ],
      "text/plain": [
       "[2506.15286] MICONIC: JWST/MIRI MRS reveals a fast ionized gas outflow in the central region of Centaurus A\n",
       "\tA. Alonso-Herrero, et al. -- incl., <mark>F. Walter</mark>, <mark>T. Henning</mark>"
      ]
     },
     "metadata": {},
     "output_type": "display_data"
    },
    {
     "data": {
      "text/markdown": [
       "## Failed papers"
      ],
      "text/plain": [
       "<IPython.core.display.Markdown object>"
      ]
     },
     "metadata": {},
     "output_type": "display_data"
    },
    {
     "data": {
      "text/markdown": [
       "\n",
       "|||\n",
       "|---:|:---|\n",
       "| [![arXiv](https://img.shields.io/badge/arXiv-2506.15039-b31b1b.svg)](https://arxiv.org/abs/2506.15039) | **Unveiling the Cosmic Dance of Repeated Nuclear Transient ASASSN-14ko: Insights from Multiwavelength Observations**  |\n",
       "|| S. Huang, et al. -- incl., <mark>Y. Wang</mark>, <mark>Y. Wang</mark>, <mark>Y. Wang</mark> |\n",
       "|*Appeared on*| *2025-06-19*|\n",
       "|*Comments*| *Accepted for publication in ApJ, 16 pages, 10 figures*|\n",
       "|**Abstract**|            ASASSN-14ko is a periodically repeating nuclear transient. We conducted high-cadence, multiwavelength observations of this source, revealing several recurrent early bumps and rebrightenings in its UV/optical light curves. The energy released during these bumps and rebrightenings shows a diminishing trend in recent UV/optical outbursts, which we monitored through multiwavelength observations. These features can be ascribed to the interaction between stream debris and the expanded disk in the repeated partial tidal disruption event. The X-ray light curve exhibits an inverse pattern compared to the UV/optical bands, displaying sporadic outbursts. Furthermore, our observations demonstrate that the blackbody temperature and radius in each outburst increase with the UV/optical luminosity, and such evolution resembles that observed in X-ray quasiperiodic eruptions, whereas distinguishing it from typical tidal disruption events.         |\n",
       "|<p style=\"color:green\"> **ERROR** </p>| <p style=\"color:green\">affiliation error: mpia.affiliation_verifications: 'Heidelberg' keyword not found.</p> |"
      ],
      "text/plain": [
       "<IPython.core.display.Markdown object>"
      ]
     },
     "metadata": {},
     "output_type": "display_data"
    },
    {
     "data": {
      "text/markdown": [
       "\n",
       "|||\n",
       "|---:|:---|\n",
       "| [![arXiv](https://img.shields.io/badge/arXiv-2506.15550-b31b1b.svg)](https://arxiv.org/abs/2506.15550) | **Ultraviolet Spectra of Comets: Rejecting the Detection of Pentacene, Toluene, and Fe+**  |\n",
       "|| <mark>G. Rouillé</mark> |\n",
       "|*Appeared on*| *2025-06-19*|\n",
       "|*Comments*| *Accepted for publication in Journal of Astrophysics and Astronomy, 11 pages, 9 figures*|\n",
       "|**Abstract**|            A recent study announced the detection of three bands in the ultraviolet emission spectra of more than a dozen comets, assigning two of them to pentacene (C$_{22}$H$_{14}$) and the third one to toluene (C$_7$H$_8$). The comparison of the spectra with the results of exploitable laboratorymeasurements on rare-gas-matrix-isolated pentacene and on jet-cooled toluene does not reveal elements that would justify the assignment, which is therefore unsubstantiated. The study also claimed the detection of an Fe II line in the gas of all but one comet. Yet, spectroscopic data on Fe II do not corroborate the attribution. Because spectroscopic measurements on the ultraviolet emission of pentacene in the gas phase are not available, this work also presents a synthetic spectrum of the S$_5$ $\\rightarrow$ S$_0$ transition relevant to the wavelength range of the observations. Calculated using density functional theory and its time-dependent extension, the synthetic spectrum may facilitate the search for pentacene fluorescence in cometary spectra until laboratory measurements are accessible.         |\n",
       "|<p style=\"color:green\"> **ERROR** </p>| <p style=\"color:green\">affiliation error: mpia.affiliation_verifications: 'Heidelberg' keyword not found.</p> |"
      ],
      "text/plain": [
       "<IPython.core.display.Markdown object>"
      ]
     },
     "metadata": {},
     "output_type": "display_data"
    }
   ],
   "source": [
    "import datetime\n",
    "today = str(datetime.date.today())\n",
    "logfile = f\"_build/html/logs/log-{today}.md\"\n",
    "\n",
    "\n",
    "with open(logfile, 'w') as logs:\n",
    "    # Success\n",
    "    logs.write(f'# Arxiv on Deck 2: Logs - {today}\\n\\n')\n",
    "    logs.write(\"\"\"* Arxiv had {0:,d} new papers\\n\"\"\".format(len(new_papers)))\n",
    "    logs.write(\"\"\"    * {0:,d} with possible author matches\\n\\n\"\"\".format(len(candidates)))\n",
    "    logs.write(\"## Sucessful papers\\n\\n\")\n",
    "    display(Markdown(\"## Successful papers\"))\n",
    "    success = [k[0] for k in documents]\n",
    "    for candid in candidates:\n",
    "        if candid['identifier'].split(':')[-1] in success:\n",
    "            display(candid)\n",
    "            logs.write(candid.generate_markdown_text() + '\\n\\n')\n",
    "\n",
    "    ## failed\n",
    "    logs.write(\"## Failed papers\\n\\n\")\n",
    "    display(Markdown(\"## Failed papers\"))\n",
    "    failed = sorted(failed, key=lambda x: x[1])\n",
    "    current_reason = \"\"\n",
    "    for paper, reason in failed:\n",
    "        if 'affiliation' in reason:\n",
    "            color = 'green'\n",
    "        else:\n",
    "            color = 'red'\n",
    "        data = Markdown(\n",
    "                paper.generate_markdown_text() + \n",
    "                f'\\n|<p style=\"color:{color:s}\"> **ERROR** </p>| <p style=\"color:{color:s}\">{reason:s}</p> |'\n",
    "               )\n",
    "        if reason != current_reason:\n",
    "            logs.write(f'### {reason:s} \\n\\n')\n",
    "            current_reason = reason\n",
    "        logs.write(data.data + '\\n\\n')\n",
    "        \n",
    "        # only display here the important errors (all in logs)\n",
    "        # if color in ('red',):\n",
    "        display(data)"
   ]
  },
  {
   "cell_type": "markdown",
   "id": "472d20ee",
   "metadata": {
    "papermill": {
     "duration": 0.00456,
     "end_time": "2025-06-19T04:20:31.675735",
     "exception": false,
     "start_time": "2025-06-19T04:20:31.671175",
     "status": "completed"
    },
    "tags": []
   },
   "source": [
    "## Export documents\n",
    "\n",
    "We now write the .md files and export relevant images"
   ]
  },
  {
   "cell_type": "code",
   "execution_count": 7,
   "id": "d426aed9",
   "metadata": {
    "execution": {
     "iopub.execute_input": "2025-06-19T04:20:31.686262Z",
     "iopub.status.busy": "2025-06-19T04:20:31.685794Z",
     "iopub.status.idle": "2025-06-19T04:20:31.692982Z",
     "shell.execute_reply": "2025-06-19T04:20:31.692437Z"
    },
    "papermill": {
     "duration": 0.01364,
     "end_time": "2025-06-19T04:20:31.693999",
     "exception": false,
     "start_time": "2025-06-19T04:20:31.680359",
     "status": "completed"
    },
    "tags": []
   },
   "outputs": [],
   "source": [
    "def export_markdown_summary(md: str, md_fname:str, directory: str):\n",
    "    \"\"\"Export MD document and associated relevant images\"\"\"\n",
    "    import os\n",
    "    import shutil\n",
    "    import re\n",
    "\n",
    "    if (os.path.exists(directory) and not os.path.isdir(directory)):\n",
    "        raise RuntimeError(f\"a non-directory file exists with name {directory:s}\")\n",
    "\n",
    "    if (not os.path.exists(directory)):\n",
    "        print(f\"creating directory {directory:s}\")\n",
    "        os.mkdir(directory)\n",
    "\n",
    "    fig_fnames = (re.compile(r'\\[Fig.*\\]\\((.*)\\)').findall(md) + \n",
    "                  re.compile(r'\\<img src=\"([^>\\s]*)\"[^>]*/>').findall(md))\n",
    "    print(\"found figures\", fig_fnames)\n",
    "    for fname in fig_fnames:\n",
    "        if 'http' in fname:\n",
    "            # No need to copy online figures\n",
    "            continue\n",
    "        if not os.path.exists(fname):\n",
    "            print(\"file not found\", fname)\n",
    "            continue\n",
    "        print(\"copying \", fname, \"to\", directory)\n",
    "        destdir = os.path.join(directory, os.path.dirname(fname))\n",
    "        destfname = os.path.join(destdir, os.path.basename(fname))\n",
    "        try:\n",
    "            os.makedirs(destdir)\n",
    "        except FileExistsError:\n",
    "            pass\n",
    "        shutil.copy(fname, destfname)\n",
    "    with open(os.path.join(directory, md_fname), 'w') as fout:\n",
    "        fout.write(md)\n",
    "    print(\"exported in \", os.path.join(directory, md_fname))\n",
    "    [print(\"    + \" + os.path.join(directory,fk)) for fk in fig_fnames]"
   ]
  },
  {
   "cell_type": "code",
   "execution_count": 8,
   "id": "014d04a4",
   "metadata": {
    "execution": {
     "iopub.execute_input": "2025-06-19T04:20:31.704751Z",
     "iopub.status.busy": "2025-06-19T04:20:31.704253Z",
     "iopub.status.idle": "2025-06-19T04:20:31.721503Z",
     "shell.execute_reply": "2025-06-19T04:20:31.720883Z"
    },
    "papermill": {
     "duration": 0.023633,
     "end_time": "2025-06-19T04:20:31.722559",
     "exception": false,
     "start_time": "2025-06-19T04:20:31.698926",
     "status": "completed"
    },
    "tags": []
   },
   "outputs": [
    {
     "name": "stdout",
     "output_type": "stream",
     "text": [
      "found figures ['tmp_2506.14921/./fig/NGC253_EBV.png', 'tmp_2506.14921/./fig/Comparison_all.png', 'tmp_2506.14921/./fig/NGC253_FULL.png']\n",
      "copying  tmp_2506.14921/./fig/NGC253_EBV.png to _build/html/\n",
      "copying  tmp_2506.14921/./fig/Comparison_all.png to _build/html/\n",
      "copying  tmp_2506.14921/./fig/NGC253_FULL.png to _build/html/\n",
      "exported in  _build/html/2506.14921.md\n",
      "    + _build/html/tmp_2506.14921/./fig/NGC253_EBV.png\n",
      "    + _build/html/tmp_2506.14921/./fig/Comparison_all.png\n",
      "    + _build/html/tmp_2506.14921/./fig/NGC253_FULL.png\n",
      "found figures ['tmp_2506.15286/./figure6a.png', 'tmp_2506.15286/./figure6b.png', 'tmp_2506.15286/./figure6c.png', 'tmp_2506.15286/./figure6d.png', 'tmp_2506.15286/./figure5a.png', 'tmp_2506.15286/./figure5b.png', 'tmp_2506.15286/./figureA3_1.png', 'tmp_2506.15286/./figureA3_2.png', 'tmp_2506.15286/./figureA3_3.png', 'tmp_2506.15286/./figureA3_4.png', 'tmp_2506.15286/./figureA3_5.png']\n",
      "copying  tmp_2506.15286/./figure6a.png to _build/html/\n",
      "copying  tmp_2506.15286/./figure6b.png to _build/html/\n",
      "copying  tmp_2506.15286/./figure6c.png to _build/html/\n",
      "copying  tmp_2506.15286/./figure6d.png to _build/html/\n",
      "copying  tmp_2506.15286/./figure5a.png to _build/html/\n",
      "copying  tmp_2506.15286/./figure5b.png to _build/html/\n",
      "copying  tmp_2506.15286/./figureA3_1.png to _build/html/\n",
      "copying  tmp_2506.15286/./figureA3_2.png to _build/html/\n",
      "copying  tmp_2506.15286/./figureA3_3.png to _build/html/\n",
      "copying  tmp_2506.15286/./figureA3_4.png to _build/html/\n",
      "copying  tmp_2506.15286/./figureA3_5.png to _build/html/\n",
      "exported in  _build/html/2506.15286.md\n",
      "    + _build/html/tmp_2506.15286/./figure6a.png\n",
      "    + _build/html/tmp_2506.15286/./figure6b.png\n",
      "    + _build/html/tmp_2506.15286/./figure6c.png\n",
      "    + _build/html/tmp_2506.15286/./figure6d.png\n",
      "    + _build/html/tmp_2506.15286/./figure5a.png\n",
      "    + _build/html/tmp_2506.15286/./figure5b.png\n",
      "    + _build/html/tmp_2506.15286/./figureA3_1.png\n",
      "    + _build/html/tmp_2506.15286/./figureA3_2.png\n",
      "    + _build/html/tmp_2506.15286/./figureA3_3.png\n",
      "    + _build/html/tmp_2506.15286/./figureA3_4.png\n",
      "    + _build/html/tmp_2506.15286/./figureA3_5.png\n"
     ]
    }
   ],
   "source": [
    "for paper_id, md in documents:\n",
    "    export_markdown_summary(md, f\"{paper_id:s}.md\", '_build/html/')"
   ]
  },
  {
   "cell_type": "markdown",
   "id": "f087a0a7",
   "metadata": {
    "papermill": {
     "duration": 0.004698,
     "end_time": "2025-06-19T04:20:31.732218",
     "exception": false,
     "start_time": "2025-06-19T04:20:31.727520",
     "status": "completed"
    },
    "tags": []
   },
   "source": [
    "## Display the papers\n",
    "\n",
    "Not necessary but allows for a quick check."
   ]
  },
  {
   "cell_type": "code",
   "execution_count": 9,
   "id": "fd25f625",
   "metadata": {
    "execution": {
     "iopub.execute_input": "2025-06-19T04:20:31.743268Z",
     "iopub.status.busy": "2025-06-19T04:20:31.742784Z",
     "iopub.status.idle": "2025-06-19T04:20:31.748992Z",
     "shell.execute_reply": "2025-06-19T04:20:31.748433Z"
    },
    "papermill": {
     "duration": 0.012864,
     "end_time": "2025-06-19T04:20:31.750010",
     "exception": false,
     "start_time": "2025-06-19T04:20:31.737146",
     "status": "completed"
    },
    "scrolled": false,
    "tags": []
   },
   "outputs": [
    {
     "data": {
      "text/markdown": [
       "<div class=\"macros\" style=\"visibility:hidden;\">\n",
       "$\\newcommand{\\ensuremath}{}$\n",
       "$\\newcommand{\\xspace}{}$\n",
       "$\\newcommand{\\object}[1]{\\texttt{#1}}$\n",
       "$\\newcommand{\\farcs}{{.}''}$\n",
       "$\\newcommand{\\farcm}{{.}'}$\n",
       "$\\newcommand{\\arcsec}{''}$\n",
       "$\\newcommand{\\arcmin}{'}$\n",
       "$\\newcommand{\\ion}[2]{#1#2}$\n",
       "$\\newcommand{\\textsc}[1]{\\textrm{#1}}$\n",
       "$\\newcommand{\\hl}[1]{\\textrm{#1}}$\n",
       "$\\newcommand{\\footnote}[1]{}$\n",
       "$\\newcommand{\\Hb}{\\hbox{H\\beta}}$\n",
       "$\\newcommand{\\Ha}{\\hbox{H\\alpha}}$\n",
       "$\\newcommand{\\oi}{[O~\\textsc{i}]\\lambda6300}$\n",
       "$\\newcommand{\\oiii}{[O~\\textsc{iii}]\\lambda5007}$\n",
       "$\\newcommand{\\nii}{[N~\\textsc{ii}]\\lambda6584}$\n",
       "$\\newcommand{\\siia}{[S~\\textsc{ii}]\\lambda6717}$\n",
       "$\\newcommand{\\siib}{[S~\\textsc{ii}]\\lambda6731}$\n",
       "$\\newcommand{\\sii}{[S~\\textsc{ii}]\\lambda\\lambda6717,6731}$\n",
       "$\\newcommand{\\siii}{[S~\\textsc{iii}]\\lambda9068}$\n",
       "$\\newcommand{\\hei}{He~\\textsc{i}~\\lambda5875}$\n",
       "$\\newcommand{\\heii}{He~\\textsc{ii}~\\lambda4685}$\n",
       "$\\newcommand{\\oion}{[O~\\textsc{i}]}$\n",
       "$\\newcommand{\\oiion}{[O~\\textsc{ii}]}$\n",
       "$\\newcommand{\\oiiion}{[O~\\textsc{iii}]}$\n",
       "$\\newcommand{\\niion}{[N~\\textsc{ii}]}$\n",
       "$\\newcommand{\\siiion}{[S~\\textsc{iii}]}$\n",
       "$\\newcommand{\\siion}{[S~\\textsc{ii}]}$\n",
       "$\\newcommand{\\heion}{He~\\textsc{i}}$\n",
       "$\\newcommand{\\heiion}{He~\\textsc{ii}}$\n",
       "$\\newcommand{\\ngc}{NGC~}$\n",
       "$\\newcommand{\\Msun}{\\mbox{M}_{\\sun}}$\n",
       "$\\newcommand{\\Lsun}{\\mbox{L}_{\\sun}}$\n",
       "$\\newcommand{\\hii}{H~{\\sc ii}}$\n",
       "$\\newcommand{\\sn}{S/N}$\n",
       "$\\newcommand{\\ebv}{E(B-V)}$\n",
       "$\\newcommand{\\izi}{{\\tt IZI}}$\n",
       "$\\newcommand{\\arraystretch}{1.5}$\n",
       "$\\newcommand{\\arraystretch}{1.5}$\n",
       "$\\newcommand{\\arraystretch}{1.1}$\n",
       "$\\newcommand{\\arraystretch}{1.1}$</div>\n",
       "\n",
       "\n",
       "\n",
       "<div id=\"title\">\n",
       "\n",
       "# The MUSE view of the Sculptor galaxy: survey overview and the planetary nebulae luminosity function.\n",
       "\n",
       "</div>\n",
       "<div id=\"comments\">\n",
       "\n",
       "[![arXiv](https://img.shields.io/badge/arXiv-2506.14921-b31b1b.svg)](https://arxiv.org/abs/2506.14921)<mark>Appeared on: 2025-06-19</mark> -  _21 pages, 17 figures, accepted for publication in A&A_\n",
       "\n",
       "</div>\n",
       "<div id=\"authors\">\n",
       "\n",
       "E. Congiu, et al. -- incl., <mark>K. Kreckel</mark>, <mark>E. Schinnerer</mark>\n",
       "\n",
       "</div>\n",
       "<div id=\"abstract\">\n",
       "\n",
       "**Abstract:** $\\ngc$ 253, the Sculptor galaxy, is the southern, massive, star-forming disk galaxy closest to the Milky Way.  In this work, we present a new 103-pointing MUSE mosaic of this galaxy covering the majority of its star-forming disk up to $0.75\\times$ R $_{25}$ .  With an area of $\\sim20\\times5 \\si{arcmin^2}$ ( $\\sim20\\times5 \\si{kpc^2}$ , projected) and a physical resolution of $\\sim 15 \\si{pc}$ , this mosaic constitutes one of the largest, highest physical resolution integral field spectroscopy surveys of any star-forming galaxy to date.  Here, we exploit the mosaic to identify a sample of $\\sim$ 500 planetary nebulae ( $\\sim 20$ times larger than in previous studies) to build the planetary nebula luminosity function (PNLF) and obtain a new estimate of the distance to $\\ngc$ 253.  The value obtained is $17\\%$ higher than estimates returned by other reliable measurements, mainly obtained via the top of the red giant branch method (TRGB).  The PNLF also varies between the centre (r $< 4 \\si{kpc}$ ) and the disk of the galaxy.  The distance derived from the PNLF of the outer disk is comparable to that of the full sample, while the PNLF of the centre returns a distance $\\sim$ $\\SI{0.9}{Mpc}$ larger.  Our analysis suggests that extinction related to the dust-rich interstellar medium and edge-on view of the galaxy (the average $\\ebv$ across the disk is $\\sim 0.35 \\si{mag}$ ) plays a major role in explaining both the larger distance recovered from the full PNLF and the difference between the PNLFs in the centre and in the disk.\n",
       "\n",
       "</div>\n",
       "\n",
       "<div id=\"div_fig1\">\n",
       "\n",
       "<img src=\"tmp_2506.14921/./fig/NGC253_EBV.png\" alt=\"Fig17\" width=\"100%\"/>\n",
       "\n",
       "**Figure 17. -** $\\ebv$ map of $\\ngc$253. The $\\ebv$ has been calculated from the Balmer decrement using a convolved (to a \\SI{5}{arcsec} FWHM Gaussian PSF) and binned version of the data, in order to detect both $\\Ha$ and $\\Hb$ across the majority of the FOV. (*fig:ebv*)\n",
       "\n",
       "</div>\n",
       "<div id=\"div_fig2\">\n",
       "\n",
       "<img src=\"tmp_2506.14921/./fig/Comparison_all.png\" alt=\"Fig4\" width=\"100%\"/>\n",
       "\n",
       "**Figure 4. -** Comparison between our PNe photometry, [Rekola, Richer and McCall (2005)]() and [Jacoby, et. al (2024)](). For [Jacoby, et. al (2024)]() we performed the comparison using both the data reduced by us, and the cubes directly recovered from the ESO archive. Solid symbols represent PNe that were used by the original authors in their PNLF computation. Open symbols represent objects that were not included in the final fit. (*fig:phot_comp*)\n",
       "\n",
       "</div>\n",
       "<div id=\"div_fig3\">\n",
       "\n",
       "<img src=\"tmp_2506.14921/./fig/NGC253_FULL.png\" alt=\"Fig12\" width=\"100%\"/>\n",
       "\n",
       "**Figure 12. -** Colour images of $\\ngc$253 produced by combining broad-band images and emission line maps extracted from the MUSE data cube. The mosaic covers an area of $20\\times5 \\si{arcmin^2}$ and it includes roughly 9 million independent spectra. The top panel show a composition of three broad-band filters: g-band in blue, r-band in green, and i-band in red (Acknowledgement: ESO/M. Kornmesser). We can see the full structure of the galaxy disk, with the prominent bar and complex dust filaments that follow the distribution of the spiral arms of the galaxy. We can also see the change in colour caused by the presence of the central starburst of the galaxy.\n",
       "    The bottom panel is a composition of emission line maps with $\\oi$ii in blue, $\\Ha$ in green and $\\sii$ in red.\n",
       "    This highlights the multitude of ionised gas structures we observe in the galaxy.\n",
       "    The $\\hii$ regions distribution highlights the structure of the spiral arms, while the $\\oi$ii and $\\sii$ emission clearly show the outline of the outflow. Nebulae with different properties can be identified across the field, like the blue, $\\oi$ii emitting PNe, the green $\\Ha$ bright $\\hii$ regions, and the pink, $\\sii$ emitting SNRs. (*fig:ngc253_vri*)\n",
       "\n",
       "</div><div id=\"qrcode\"><img src=https://api.qrserver.com/v1/create-qr-code/?size=100x100&data=\"https://arxiv.org/abs/2506.14921\"></div>"
      ],
      "text/plain": [
       "<IPython.core.display.Markdown object>"
      ]
     },
     "metadata": {},
     "output_type": "display_data"
    },
    {
     "data": {
      "text/markdown": [
       "<div class=\"macros\" style=\"visibility:hidden;\">\n",
       "$\\newcommand{\\ensuremath}{}$\n",
       "$\\newcommand{\\xspace}{}$\n",
       "$\\newcommand{\\object}[1]{\\texttt{#1}}$\n",
       "$\\newcommand{\\farcs}{{.}''}$\n",
       "$\\newcommand{\\farcm}{{.}'}$\n",
       "$\\newcommand{\\arcsec}{''}$\n",
       "$\\newcommand{\\arcmin}{'}$\n",
       "$\\newcommand{\\ion}[2]{#1#2}$\n",
       "$\\newcommand{\\textsc}[1]{\\textrm{#1}}$\n",
       "$\\newcommand{\\hl}[1]{\\textrm{#1}}$\n",
       "$\\newcommand{\\footnote}[1]{}$</div>\n",
       "\n",
       "\n",
       "\n",
       "<div id=\"title\">\n",
       "\n",
       "# MICONIC: JWST/MIRI MRS reveals a fast ionized gas    outflow in the central region of    Centaurus A\n",
       "\n",
       "</div>\n",
       "<div id=\"comments\">\n",
       "\n",
       "[![arXiv](https://img.shields.io/badge/arXiv-2506.15286-b31b1b.svg)](https://arxiv.org/abs/2506.15286)<mark>Appeared on: 2025-06-19</mark> -  _Accepted for publication in Astronomy & Astrophysics_\n",
       "\n",
       "</div>\n",
       "<div id=\"authors\">\n",
       "\n",
       "A. A. Herrero, et al. -- incl., <mark>F. Walter</mark>, <mark>T. Henning</mark>\n",
       "\n",
       "</div>\n",
       "<div id=\"abstract\">\n",
       "\n",
       "**Abstract:** We present a kinematical study of the ionized and molecular gas in  the central region ( $\\sim$ 7--14 $\\arcsec$ $\\sim$ 100--200 pc) of the  nearby radio galaxy Centaurus A  (Cen A). We used JWST/MIRI MRS $\\sim 5-28 \\mu$ m observations taken as part of the Mid-Infrared   Characterization of Nearby Iconic galaxy Centers(MICONIC) of the MIRI EuropeanConsortium. The two gas phases present contrasting morphologiesand kinematics in Cen A. The brightest emission from the ionized gas, tracedwith a range of ionization potential (IP) lines analyzed here (from [ Fe ${\\sc ii}$ ] to [ Ne ${\\sc vi}$ ] ), is extended along the direction of the radio jet.  We also detectedemission from low IP emission lines and $H_2$ transitions in thegalaxy disk region mapped with MRS. Both gas phases present rotationalmotions in the disk but also complex kinematics. The MRS observationsreveal  several ionized gas kinematical features that are consistent with simulationpredictions of a jet-driven bubble and outflow interacting with the galaxyinterstellar medium. Theseinclude broad components in the nuclear line profiles ( $\\sigma\\sim600 {\\rm km s}^{-1}$ in [ Ar ${\\sc ii}$ ] and [ Ne ${\\sc iii}$ ] ),  highvelocities (reaching approximately +1000, $-1400 {\\rm km s}^{-1}$ )confined within the nuclear region, velocities of hundreds ofkilometers per secondin several directions in the central 2 $\\arcsec$ , and enhanced velocitydispersions perpendicular to the radio jet. Moreover, we find evidenceof shock excitation in the nuclear region of Cen Abased on mid-infrared line ratios. We compared the ionized gas mass outflow ratewith Cen A's active galactic nucleus (AGN) luminosity and radio jetpower and demonstrate that bothmechanisms provide sufficient energy to launch the outflow. Thenoncircular motions observed in the mid-infrared $H_2$ lines can bereproduced with either a  warped rotating disk model or a radialcomponent. The latter might be to related to gas streamers detected incold molecular gas. Notably, there is no clear indication of a fast $nuclearH_2$ outflow in Cen A, only a weak blueshifted component in the lineprofiles. This could be due to a relatively low nuclear warm $H_2$ column density and/or the limited geometricalcoupling of Cen A's inner radiojet with the circumnuclear disk of the galaxy.\n",
       "\n",
       "</div>\n",
       "\n",
       "<div id=\"div_fig1\">\n",
       "\n",
       "<img src=\"tmp_2506.15286/./figure6a.png\" alt=\"Fig16.1\" width=\"25%\"/><img src=\"tmp_2506.15286/./figure6b.png\" alt=\"Fig16.2\" width=\"25%\"/><img src=\"tmp_2506.15286/./figure6c.png\" alt=\"Fig16.3\" width=\"25%\"/><img src=\"tmp_2506.15286/./figure6d.png\" alt=\"Fig16.4\" width=\"25%\"/>\n",
       "\n",
       "**Figure 16. -** Same as Fig. \\ref{fig:maintextalucinemapsH2} but for\n",
       "    [Ar {\\sc ii}], [Ne {\\sc vi}],\n",
       "       [Ne {\\sc iii}], and [O {\\sc iv}](from top to\n",
       "       bottom). (*fig:maintextalucinemapsFSL*)\n",
       "\n",
       "</div>\n",
       "<div id=\"div_fig2\">\n",
       "\n",
       "<img src=\"tmp_2506.15286/./figure5a.png\" alt=\"Fig15.1\" width=\"50%\"/><img src=\"tmp_2506.15286/./figure5b.png\" alt=\"Fig15.2\" width=\"50%\"/>\n",
       "\n",
       "**Figure 15. -** Maps of  $H_2$ S(5) at $6.909 \\mu$m (top) and\n",
       "         $H_2$ S(1) at $17.03 \\mu$m (bottom)  constructed as\n",
       "       explained in Sect. \\ref{subsec:analysis}.\n",
       "       Panels show  the intensity and contours in a square root\n",
       "       scale in arbitrary units (left),\n",
       "       the mean-velocity field in units of km s$^{-1}$(middle),\n",
       "       and the velocity dispersion map $\\sigma$(corrected for instrumental\n",
       "       resolution)\n",
       "       in units of km s$^{-1}$(right). The velocity contours are in a linear\n",
       "       scale (solid lines positive values and dashed lines negative\n",
       "       values). The star symbol marks the peak of the continuum\n",
       "       adjacent to the line, that is, the AGN position. The\n",
       "       0,0 point on the axes refers to the center of the corresponding sub-channel\n",
       "       array. North is up and east to the left. (*fig:maintextalucinemapsH2*)\n",
       "\n",
       "</div>\n",
       "<div id=\"div_fig3\">\n",
       "\n",
       "<img src=\"tmp_2506.15286/./figureA3_1.png\" alt=\"Fig19.1\" width=\"20%\"/><img src=\"tmp_2506.15286/./figureA3_2.png\" alt=\"Fig19.2\" width=\"20%\"/><img src=\"tmp_2506.15286/./figureA3_3.png\" alt=\"Fig19.3\" width=\"20%\"/><img src=\"tmp_2506.15286/./figureA3_4.png\" alt=\"Fig19.4\" width=\"20%\"/><img src=\"tmp_2506.15286/./figureA3_5.png\" alt=\"Fig19.5\" width=\"20%\"/>\n",
       "\n",
       "**Figure 19. -** Same as Fig. \\ref{fig:maintextalucinemapsFSL} but for  [Fe {\\sc\n",
       "      ii}] at $5.34 \\mu$m, [S {\\sc iv}],  [Ne {\\sc ii}], [Ne {\\sc v}] at $14.32 \\mu$m, and\n",
       "[S {\\sc iii}](from top to bottom). (*fig:appendixalucinemaps*)\n",
       "\n",
       "</div><div id=\"qrcode\"><img src=https://api.qrserver.com/v1/create-qr-code/?size=100x100&data=\"https://arxiv.org/abs/2506.15286\"></div>"
      ],
      "text/plain": [
       "<IPython.core.display.Markdown object>"
      ]
     },
     "metadata": {},
     "output_type": "display_data"
    }
   ],
   "source": [
    "[display(Markdown(k[1])) for k in documents];"
   ]
  },
  {
   "cell_type": "markdown",
   "id": "873873a4",
   "metadata": {
    "papermill": {
     "duration": 0.005196,
     "end_time": "2025-06-19T04:20:31.760626",
     "exception": false,
     "start_time": "2025-06-19T04:20:31.755430",
     "status": "completed"
    },
    "tags": []
   },
   "source": [
    "# Create HTML index"
   ]
  },
  {
   "cell_type": "code",
   "execution_count": 10,
   "id": "cf665672",
   "metadata": {
    "execution": {
     "iopub.execute_input": "2025-06-19T04:20:31.773155Z",
     "iopub.status.busy": "2025-06-19T04:20:31.772631Z",
     "iopub.status.idle": "2025-06-19T04:20:31.784171Z",
     "shell.execute_reply": "2025-06-19T04:20:31.783581Z"
    },
    "papermill": {
     "duration": 0.019132,
     "end_time": "2025-06-19T04:20:31.785337",
     "exception": false,
     "start_time": "2025-06-19T04:20:31.766205",
     "status": "completed"
    },
    "tags": []
   },
   "outputs": [
    {
     "name": "stdout",
     "output_type": "stream",
     "text": [
      "532  publications files modified in the last 7 days.\n"
     ]
    }
   ],
   "source": [
    "from datetime import datetime, timedelta, timezone\n",
    "from glob import glob\n",
    "import os\n",
    "\n",
    "files = glob('_build/html/*.md')\n",
    "days = 7\n",
    "now = datetime.today()\n",
    "res = []\n",
    "for fk in files:\n",
    "    stat_result = os.stat(fk).st_ctime\n",
    "    modified = datetime.fromtimestamp(stat_result, tz=timezone.utc).replace(tzinfo=None)\n",
    "    delta = now.today() - modified\n",
    "    if delta <= timedelta(days=days):\n",
    "        res.append((delta.seconds, fk))\n",
    "res = [k[1] for k in reversed(sorted(res, key=lambda x:x[1]))]\n",
    "npub = len(res)\n",
    "print(len(res), f\" publications files modified in the last {days:d} days.\")\n",
    "# [ print('\\t', k) for k in res ];"
   ]
  },
  {
   "cell_type": "code",
   "execution_count": 11,
   "id": "015de740",
   "metadata": {
    "execution": {
     "iopub.execute_input": "2025-06-19T04:20:31.797388Z",
     "iopub.status.busy": "2025-06-19T04:20:31.796797Z",
     "iopub.status.idle": "2025-06-19T04:20:31.823624Z",
     "shell.execute_reply": "2025-06-19T04:20:31.822902Z"
    },
    "papermill": {
     "duration": 0.033996,
     "end_time": "2025-06-19T04:20:31.824766",
     "exception": false,
     "start_time": "2025-06-19T04:20:31.790770",
     "status": "completed"
    },
    "tags": []
   },
   "outputs": [
    {
     "name": "stdout",
     "output_type": "stream",
     "text": [
      "15  publications in the last 7 days.\n"
     ]
    }
   ],
   "source": [
    "import datetime\n",
    "from glob import glob\n",
    "\n",
    "def get_last_n_days(lst, days=1):\n",
    "    \"\"\" Get the documents from the last n days \"\"\"\n",
    "    sorted_lst = sorted(lst, key=lambda x: x[1], reverse=True)\n",
    "    for fname, date in sorted_lst:\n",
    "        if date >= str(datetime.date.today() - datetime.timedelta(days=days)):\n",
    "            yield fname\n",
    "\n",
    "def extract_appearance_dates(lst_file):\n",
    "    dates = []\n",
    "\n",
    "    def get_date(line):\n",
    "        return line\\\n",
    "            .split('Appeared on:')[-1]\\\n",
    "            .split('</mark>')[0].strip()\n",
    "\n",
    "    for fname in lst:\n",
    "        with open(fname, 'r') as f:\n",
    "            found_date = False\n",
    "            for line in f:\n",
    "                if not found_date:\n",
    "                    if \"Appeared on\" in line:\n",
    "                        found_date = True\n",
    "                        dates.append((fname, get_date(line)))\n",
    "                else:\n",
    "                    break\n",
    "    return dates\n",
    "\n",
    "from glob import glob\n",
    "lst = glob('_build/html/*md')\n",
    "days = 7\n",
    "dates = extract_appearance_dates(lst)\n",
    "res = list(get_last_n_days(dates, days))\n",
    "npub = len(res)\n",
    "print(len(res), f\" publications in the last {days:d} days.\")"
   ]
  },
  {
   "cell_type": "code",
   "execution_count": 12,
   "id": "52ca0208",
   "metadata": {
    "execution": {
     "iopub.execute_input": "2025-06-19T04:20:31.837358Z",
     "iopub.status.busy": "2025-06-19T04:20:31.836784Z",
     "iopub.status.idle": "2025-06-19T04:20:31.842165Z",
     "shell.execute_reply": "2025-06-19T04:20:31.841582Z"
    },
    "papermill": {
     "duration": 0.012776,
     "end_time": "2025-06-19T04:20:31.843244",
     "exception": false,
     "start_time": "2025-06-19T04:20:31.830468",
     "status": "completed"
    },
    "scrolled": false,
    "tags": []
   },
   "outputs": [],
   "source": [
    "def create_carousel(npub=4):\n",
    "    \"\"\" Generate the HTML code for a carousel with `npub` slides \"\"\"\n",
    "    carousel = [\"\"\"  <div class=\"carousel\" \"\"\",\n",
    "                \"\"\"       data-flickity='{ \"autoPlay\": 10000, \"adaptiveHeight\": true, \"resize\": true, \"wrapAround\": true, \"pauseAutoPlayOnHover\": true, \"groupCells\": 1 }' id=\"asyncTypeset\">\"\"\"\n",
    "                ]\n",
    "    \n",
    "    item_str = \"\"\"    <div class=\"carousel-cell\"> <div id=\"slide{k}\" class=\"md_view\">Content {k}</div> </div>\"\"\"\n",
    "    for k in range(1, npub + 1):\n",
    "        carousel.append(item_str.format(k=k))\n",
    "    carousel.append(\"  </div>\")\n",
    "    return '\\n'.join(carousel)\n",
    "\n",
    "def create_grid(npub=4):\n",
    "    \"\"\" Generate the HTML code for a flat grid with `npub` slides \"\"\"\n",
    "    grid = [\"\"\"  <div class=\"grid\"> \"\"\",\n",
    "                ]\n",
    "    \n",
    "    item_str = \"\"\"    <div class=\"grid-item\"> <div id=\"slide{k}\" class=\"md_view\">Content {k}</div> </div>\"\"\"\n",
    "    for k in range(1, npub + 1):\n",
    "        grid.append(item_str.format(k=k))\n",
    "    grid.append(\"  </div>\")\n",
    "    return '\\n'.join(grid)"
   ]
  },
  {
   "cell_type": "code",
   "execution_count": 13,
   "id": "a6eac5b6",
   "metadata": {
    "execution": {
     "iopub.execute_input": "2025-06-19T04:20:31.855513Z",
     "iopub.status.busy": "2025-06-19T04:20:31.855024Z",
     "iopub.status.idle": "2025-06-19T04:20:31.860873Z",
     "shell.execute_reply": "2025-06-19T04:20:31.860316Z"
    },
    "papermill": {
     "duration": 0.013059,
     "end_time": "2025-06-19T04:20:31.861915",
     "exception": false,
     "start_time": "2025-06-19T04:20:31.848856",
     "status": "completed"
    },
    "scrolled": false,
    "tags": []
   },
   "outputs": [],
   "source": [
    "carousel = create_carousel(npub)\n",
    "docs = ', '.join(['\"{0:s}\"'.format(k.split('/')[-1]) for k in res])\n",
    "slides = ', '.join([f'\"slide{k}\"' for k in range(1, npub + 1)])\n",
    "\n",
    "with open(\"daily_template.html\", \"r\") as tpl:\n",
    "    page = tpl.read()\n",
    "    page = page.replace(\"{%-- carousel:s --%}\", carousel)\\\n",
    "               .replace(\"{%-- suptitle:s --%}\",  \"7-day archives\" )\\\n",
    "               .replace(\"{%-- docs:s --%}\", docs)\\\n",
    "               .replace(\"{%-- slides:s --%}\", slides)\n",
    "    \n",
    "with open(\"_build/html/index_7days.html\", 'w') as fout:\n",
    "    fout.write(page)"
   ]
  },
  {
   "cell_type": "code",
   "execution_count": 14,
   "id": "adc1a1ec",
   "metadata": {
    "execution": {
     "iopub.execute_input": "2025-06-19T04:20:31.874467Z",
     "iopub.status.busy": "2025-06-19T04:20:31.873836Z",
     "iopub.status.idle": "2025-06-19T04:20:31.882175Z",
     "shell.execute_reply": "2025-06-19T04:20:31.881490Z"
    },
    "papermill": {
     "duration": 0.015752,
     "end_time": "2025-06-19T04:20:31.883237",
     "exception": false,
     "start_time": "2025-06-19T04:20:31.867485",
     "status": "completed"
    },
    "tags": []
   },
   "outputs": [
    {
     "name": "stdout",
     "output_type": "stream",
     "text": [
      "4  publications in the last day.\n"
     ]
    }
   ],
   "source": [
    "# redo for today\n",
    "days = 1\n",
    "res = list(get_last_n_days(dates, days))\n",
    "npub = len(res)\n",
    "print(len(res), f\" publications in the last day.\")\n",
    "\n",
    "carousel = create_carousel(npub)\n",
    "docs = ', '.join(['\"{0:s}\"'.format(k.split('/')[-1]) for k in res])\n",
    "slides = ', '.join([f'\"slide{k}\"' for k in range(1, npub + 1)])\n",
    "\n",
    "with open(\"daily_template.html\", \"r\") as tpl:\n",
    "    page = tpl.read()\n",
    "    page = page.replace(\"{%-- carousel:s --%}\", carousel)\\\n",
    "               .replace(\"{%-- suptitle:s --%}\",  \"Daily\" )\\\n",
    "               .replace(\"{%-- docs:s --%}\", docs)\\\n",
    "               .replace(\"{%-- slides:s --%}\", slides)\n",
    "    \n",
    "# print(carousel, docs, slides)\n",
    "# print(page)\n",
    "with open(\"_build/html/index_daily.html\", 'w') as fout:\n",
    "    fout.write(page)"
   ]
  },
  {
   "cell_type": "code",
   "execution_count": 15,
   "id": "00eece82",
   "metadata": {
    "execution": {
     "iopub.execute_input": "2025-06-19T04:20:31.896081Z",
     "iopub.status.busy": "2025-06-19T04:20:31.895570Z",
     "iopub.status.idle": "2025-06-19T04:20:31.902870Z",
     "shell.execute_reply": "2025-06-19T04:20:31.902228Z"
    },
    "papermill": {
     "duration": 0.014937,
     "end_time": "2025-06-19T04:20:31.903951",
     "exception": false,
     "start_time": "2025-06-19T04:20:31.889014",
     "status": "completed"
    },
    "scrolled": false,
    "tags": []
   },
   "outputs": [
    {
     "name": "stdout",
     "output_type": "stream",
     "text": [
      "6  6 publications selected.\n"
     ]
    }
   ],
   "source": [
    "# Create the flat grid of the last N papers (fixed number regardless of dates)\n",
    "from itertools import islice \n",
    "\n",
    "npub = 6\n",
    "res = [k[0] for k in (islice(reversed(sorted(dates, key=lambda x: x[1])), 6))]\n",
    "print(len(res), f\" {npub} publications selected.\")\n",
    "\n",
    "grid = create_grid(npub)\n",
    "docs = ', '.join(['\"{0:s}\"'.format(k.split('/')[-1]) for k in res])\n",
    "slides = ', '.join([f'\"slide{k}\"' for k in range(1, npub + 1)])\n",
    "\n",
    "with open(\"grid_template.html\", \"r\") as tpl:\n",
    "    page = tpl.read()\n",
    "    page = page.replace(\"{%-- grid-content:s --%}\", grid)\\\n",
    "               .replace(\"{%-- suptitle:s --%}\",  f\"Last {npub:,d} papers\" )\\\n",
    "               .replace(\"{%-- docs:s --%}\", docs)\\\n",
    "               .replace(\"{%-- slides:s --%}\", slides)\n",
    "    \n",
    "# print(grid, docs, slides)\n",
    "# print(page)\n",
    "with open(\"_build/html/index_npub_grid.html\", 'w') as fout:\n",
    "    fout.write(page)"
   ]
  }
 ],
 "metadata": {
  "kernelspec": {
   "display_name": "Python 3 (ipykernel)",
   "language": "python",
   "name": "python3"
  },
  "language_info": {
   "codemirror_mode": {
    "name": "ipython",
    "version": 3
   },
   "file_extension": ".py",
   "mimetype": "text/x-python",
   "name": "python",
   "nbconvert_exporter": "python",
   "pygments_lexer": "ipython3",
   "version": "3.9.22"
  },
  "papermill": {
   "default_parameters": {},
   "duration": 73.686423,
   "end_time": "2025-06-19T04:20:32.226786",
   "environment_variables": {},
   "exception": null,
   "input_path": "MPIA daily digest.ipynb",
   "output_path": "log.ipynb",
   "parameters": {},
   "start_time": "2025-06-19T04:19:18.540363",
   "version": "2.6.0"
  },
  "vscode": {
   "interpreter": {
    "hash": "aee8b7b246df8f9039afb4144a1f6fd8d2ca17a180786b69acc140d282b71a49"
   }
  },
  "widgets": {
   "application/vnd.jupyter.widget-state+json": {
    "state": {
     "05d2eeb010f047eea7d85945f7471f30": {
      "model_module": "@jupyter-widgets/controls",
      "model_module_version": "2.0.0",
      "model_name": "HBoxModel",
      "state": {
       "_dom_classes": [],
       "_model_module": "@jupyter-widgets/controls",
       "_model_module_version": "2.0.0",
       "_model_name": "HBoxModel",
       "_view_count": null,
       "_view_module": "@jupyter-widgets/controls",
       "_view_module_version": "2.0.0",
       "_view_name": "HBoxView",
       "box_style": "",
       "children": [
        "IPY_MODEL_0ab094c5544b49ad802acbcca8a93fe3",
        "IPY_MODEL_11f2b95859af4df881e3df2ac6043eaa",
        "IPY_MODEL_3ffecddf1cde4567b639cd19bf58e7f1"
       ],
       "layout": "IPY_MODEL_30a28cd4ef7d43aaa173b752b2c0b1cf",
       "tabbable": null,
       "tooltip": null
      }
     },
     "0ab094c5544b49ad802acbcca8a93fe3": {
      "model_module": "@jupyter-widgets/controls",
      "model_module_version": "2.0.0",
      "model_name": "HTMLModel",
      "state": {
       "_dom_classes": [],
       "_model_module": "@jupyter-widgets/controls",
       "_model_module_version": "2.0.0",
       "_model_name": "HTMLModel",
       "_view_count": null,
       "_view_module": "@jupyter-widgets/controls",
       "_view_module_version": "2.0.0",
       "_view_name": "HTMLView",
       "description": "",
       "description_allow_html": false,
       "layout": "IPY_MODEL_10bfafb152da4ba7a6b71ea569c3e3da",
       "placeholder": "​",
       "style": "IPY_MODEL_b7b9bc6cbebe4b7ab9c6fa87971ad824",
       "tabbable": null,
       "tooltip": null,
       "value": "100%"
      }
     },
     "10bfafb152da4ba7a6b71ea569c3e3da": {
      "model_module": "@jupyter-widgets/base",
      "model_module_version": "2.0.0",
      "model_name": "LayoutModel",
      "state": {
       "_model_module": "@jupyter-widgets/base",
       "_model_module_version": "2.0.0",
       "_model_name": "LayoutModel",
       "_view_count": null,
       "_view_module": "@jupyter-widgets/base",
       "_view_module_version": "2.0.0",
       "_view_name": "LayoutView",
       "align_content": null,
       "align_items": null,
       "align_self": null,
       "border_bottom": null,
       "border_left": null,
       "border_right": null,
       "border_top": null,
       "bottom": null,
       "display": null,
       "flex": null,
       "flex_flow": null,
       "grid_area": null,
       "grid_auto_columns": null,
       "grid_auto_flow": null,
       "grid_auto_rows": null,
       "grid_column": null,
       "grid_gap": null,
       "grid_row": null,
       "grid_template_areas": null,
       "grid_template_columns": null,
       "grid_template_rows": null,
       "height": null,
       "justify_content": null,
       "justify_items": null,
       "left": null,
       "margin": null,
       "max_height": null,
       "max_width": null,
       "min_height": null,
       "min_width": null,
       "object_fit": null,
       "object_position": null,
       "order": null,
       "overflow": null,
       "padding": null,
       "right": null,
       "top": null,
       "visibility": null,
       "width": null
      }
     },
     "11f2b95859af4df881e3df2ac6043eaa": {
      "model_module": "@jupyter-widgets/controls",
      "model_module_version": "2.0.0",
      "model_name": "FloatProgressModel",
      "state": {
       "_dom_classes": [],
       "_model_module": "@jupyter-widgets/controls",
       "_model_module_version": "2.0.0",
       "_model_name": "FloatProgressModel",
       "_view_count": null,
       "_view_module": "@jupyter-widgets/controls",
       "_view_module_version": "2.0.0",
       "_view_name": "ProgressView",
       "bar_style": "success",
       "description": "",
       "description_allow_html": false,
       "layout": "IPY_MODEL_5bfa4a01ba204604b261564a6984cff3",
       "max": 4.0,
       "min": 0.0,
       "orientation": "horizontal",
       "style": "IPY_MODEL_5b32e86afb6c4ecd962293ffbde30240",
       "tabbable": null,
       "tooltip": null,
       "value": 4.0
      }
     },
     "30a28cd4ef7d43aaa173b752b2c0b1cf": {
      "model_module": "@jupyter-widgets/base",
      "model_module_version": "2.0.0",
      "model_name": "LayoutModel",
      "state": {
       "_model_module": "@jupyter-widgets/base",
       "_model_module_version": "2.0.0",
       "_model_name": "LayoutModel",
       "_view_count": null,
       "_view_module": "@jupyter-widgets/base",
       "_view_module_version": "2.0.0",
       "_view_name": "LayoutView",
       "align_content": null,
       "align_items": null,
       "align_self": null,
       "border_bottom": null,
       "border_left": null,
       "border_right": null,
       "border_top": null,
       "bottom": null,
       "display": null,
       "flex": null,
       "flex_flow": null,
       "grid_area": null,
       "grid_auto_columns": null,
       "grid_auto_flow": null,
       "grid_auto_rows": null,
       "grid_column": null,
       "grid_gap": null,
       "grid_row": null,
       "grid_template_areas": null,
       "grid_template_columns": null,
       "grid_template_rows": null,
       "height": null,
       "justify_content": null,
       "justify_items": null,
       "left": null,
       "margin": null,
       "max_height": null,
       "max_width": null,
       "min_height": null,
       "min_width": null,
       "object_fit": null,
       "object_position": null,
       "order": null,
       "overflow": null,
       "padding": null,
       "right": null,
       "top": null,
       "visibility": null,
       "width": null
      }
     },
     "3ffecddf1cde4567b639cd19bf58e7f1": {
      "model_module": "@jupyter-widgets/controls",
      "model_module_version": "2.0.0",
      "model_name": "HTMLModel",
      "state": {
       "_dom_classes": [],
       "_model_module": "@jupyter-widgets/controls",
       "_model_module_version": "2.0.0",
       "_model_name": "HTMLModel",
       "_view_count": null,
       "_view_module": "@jupyter-widgets/controls",
       "_view_module_version": "2.0.0",
       "_view_name": "HTMLView",
       "description": "",
       "description_allow_html": false,
       "layout": "IPY_MODEL_e772f6c15985413f96ca47f2db4e4066",
       "placeholder": "​",
       "style": "IPY_MODEL_b9afc947834748c2a9d45280990d85ee",
       "tabbable": null,
       "tooltip": null,
       "value": " 4/4 [00:51&lt;00:00, 11.55s/it]"
      }
     },
     "5b32e86afb6c4ecd962293ffbde30240": {
      "model_module": "@jupyter-widgets/controls",
      "model_module_version": "2.0.0",
      "model_name": "ProgressStyleModel",
      "state": {
       "_model_module": "@jupyter-widgets/controls",
       "_model_module_version": "2.0.0",
       "_model_name": "ProgressStyleModel",
       "_view_count": null,
       "_view_module": "@jupyter-widgets/base",
       "_view_module_version": "2.0.0",
       "_view_name": "StyleView",
       "bar_color": null,
       "description_width": ""
      }
     },
     "5bfa4a01ba204604b261564a6984cff3": {
      "model_module": "@jupyter-widgets/base",
      "model_module_version": "2.0.0",
      "model_name": "LayoutModel",
      "state": {
       "_model_module": "@jupyter-widgets/base",
       "_model_module_version": "2.0.0",
       "_model_name": "LayoutModel",
       "_view_count": null,
       "_view_module": "@jupyter-widgets/base",
       "_view_module_version": "2.0.0",
       "_view_name": "LayoutView",
       "align_content": null,
       "align_items": null,
       "align_self": null,
       "border_bottom": null,
       "border_left": null,
       "border_right": null,
       "border_top": null,
       "bottom": null,
       "display": null,
       "flex": null,
       "flex_flow": null,
       "grid_area": null,
       "grid_auto_columns": null,
       "grid_auto_flow": null,
       "grid_auto_rows": null,
       "grid_column": null,
       "grid_gap": null,
       "grid_row": null,
       "grid_template_areas": null,
       "grid_template_columns": null,
       "grid_template_rows": null,
       "height": null,
       "justify_content": null,
       "justify_items": null,
       "left": null,
       "margin": null,
       "max_height": null,
       "max_width": null,
       "min_height": null,
       "min_width": null,
       "object_fit": null,
       "object_position": null,
       "order": null,
       "overflow": null,
       "padding": null,
       "right": null,
       "top": null,
       "visibility": null,
       "width": null
      }
     },
     "b7b9bc6cbebe4b7ab9c6fa87971ad824": {
      "model_module": "@jupyter-widgets/controls",
      "model_module_version": "2.0.0",
      "model_name": "HTMLStyleModel",
      "state": {
       "_model_module": "@jupyter-widgets/controls",
       "_model_module_version": "2.0.0",
       "_model_name": "HTMLStyleModel",
       "_view_count": null,
       "_view_module": "@jupyter-widgets/base",
       "_view_module_version": "2.0.0",
       "_view_name": "StyleView",
       "background": null,
       "description_width": "",
       "font_size": null,
       "text_color": null
      }
     },
     "b9afc947834748c2a9d45280990d85ee": {
      "model_module": "@jupyter-widgets/controls",
      "model_module_version": "2.0.0",
      "model_name": "HTMLStyleModel",
      "state": {
       "_model_module": "@jupyter-widgets/controls",
       "_model_module_version": "2.0.0",
       "_model_name": "HTMLStyleModel",
       "_view_count": null,
       "_view_module": "@jupyter-widgets/base",
       "_view_module_version": "2.0.0",
       "_view_name": "StyleView",
       "background": null,
       "description_width": "",
       "font_size": null,
       "text_color": null
      }
     },
     "e772f6c15985413f96ca47f2db4e4066": {
      "model_module": "@jupyter-widgets/base",
      "model_module_version": "2.0.0",
      "model_name": "LayoutModel",
      "state": {
       "_model_module": "@jupyter-widgets/base",
       "_model_module_version": "2.0.0",
       "_model_name": "LayoutModel",
       "_view_count": null,
       "_view_module": "@jupyter-widgets/base",
       "_view_module_version": "2.0.0",
       "_view_name": "LayoutView",
       "align_content": null,
       "align_items": null,
       "align_self": null,
       "border_bottom": null,
       "border_left": null,
       "border_right": null,
       "border_top": null,
       "bottom": null,
       "display": null,
       "flex": null,
       "flex_flow": null,
       "grid_area": null,
       "grid_auto_columns": null,
       "grid_auto_flow": null,
       "grid_auto_rows": null,
       "grid_column": null,
       "grid_gap": null,
       "grid_row": null,
       "grid_template_areas": null,
       "grid_template_columns": null,
       "grid_template_rows": null,
       "height": null,
       "justify_content": null,
       "justify_items": null,
       "left": null,
       "margin": null,
       "max_height": null,
       "max_width": null,
       "min_height": null,
       "min_width": null,
       "object_fit": null,
       "object_position": null,
       "order": null,
       "overflow": null,
       "padding": null,
       "right": null,
       "top": null,
       "visibility": null,
       "width": null
      }
     }
    },
    "version_major": 2,
    "version_minor": 0
   }
  }
 },
 "nbformat": 4,
 "nbformat_minor": 5
}