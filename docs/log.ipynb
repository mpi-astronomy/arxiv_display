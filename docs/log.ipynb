{
 "cells": [
  {
   "cell_type": "markdown",
   "id": "92bcb855",
   "metadata": {
    "papermill": {
     "duration": 0.005701,
     "end_time": "2022-09-21T05:17:35.119402",
     "exception": false,
     "start_time": "2022-09-21T05:17:35.113701",
     "status": "completed"
    },
    "tags": []
   },
   "source": [
    "# MPIA Arxiv on Deck 2\n",
    "\n",
    "Contains the steps to produce the paper extractions."
   ]
  },
  {
   "cell_type": "code",
   "execution_count": 1,
   "id": "3a0d6e11",
   "metadata": {
    "execution": {
     "iopub.execute_input": "2022-09-21T05:17:35.129820Z",
     "iopub.status.busy": "2022-09-21T05:17:35.129305Z",
     "iopub.status.idle": "2022-09-21T05:17:35.307368Z",
     "shell.execute_reply": "2022-09-21T05:17:35.306597Z"
    },
    "papermill": {
     "duration": 0.186366,
     "end_time": "2022-09-21T05:17:35.310080",
     "exception": false,
     "start_time": "2022-09-21T05:17:35.123714",
     "status": "completed"
    },
    "tags": []
   },
   "outputs": [],
   "source": [
    "# Imports\n",
    "import os\n",
    "from IPython.display import Markdown, display\n",
    "from tqdm.notebook import tqdm\n",
    "import warnings\n",
    "from PIL import Image \n",
    "\n",
    "# requires arxiv_on_deck_2\n",
    "\n",
    "from arxiv_on_deck_2.arxiv2 import (get_new_papers, \n",
    "                                    get_paper_from_identifier,\n",
    "                                    retrieve_document_source, \n",
    "                                    get_markdown_badge)\n",
    "from arxiv_on_deck_2 import (latex, \n",
    "                             mpia,\n",
    "                             highlight_authors_in_list)\n",
    "\n",
    "# Sometimes images are really big\n",
    "Image.MAX_IMAGE_PIXELS = 1000000000 "
   ]
  },
  {
   "cell_type": "code",
   "execution_count": 2,
   "id": "22aa9d44",
   "metadata": {
    "execution": {
     "iopub.execute_input": "2022-09-21T05:17:35.320182Z",
     "iopub.status.busy": "2022-09-21T05:17:35.319528Z",
     "iopub.status.idle": "2022-09-21T05:17:35.324618Z",
     "shell.execute_reply": "2022-09-21T05:17:35.324085Z"
    },
    "papermill": {
     "duration": 0.011981,
     "end_time": "2022-09-21T05:17:35.326351",
     "exception": false,
     "start_time": "2022-09-21T05:17:35.314370",
     "status": "completed"
    },
    "tags": []
   },
   "outputs": [],
   "source": [
    "# Some useful definitions.\n",
    "\n",
    "class AffiliationWarning(UserWarning):\n",
    "    pass\n",
    "\n",
    "class AffiliationError(RuntimeError):\n",
    "    pass\n",
    "\n",
    "def validation(source: str):\n",
    "    \"\"\"Raises error paper during parsing of source file\n",
    "    \n",
    "    Allows checks before parsing TeX code.\n",
    "    \n",
    "    Raises AffiliationWarning\n",
    "    \"\"\"\n",
    "    check = mpia.affiliation_verifications(source, verbose=True)\n",
    "    if check is not True:\n",
    "        raise AffiliationError(\"mpia.affiliation_verifications: \" + check)\n",
    "\n",
    "        \n",
    "warnings.simplefilter('always', AffiliationWarning)"
   ]
  },
  {
   "cell_type": "code",
   "execution_count": 3,
   "id": "14622700",
   "metadata": {
    "execution": {
     "iopub.execute_input": "2022-09-21T05:17:35.335841Z",
     "iopub.status.busy": "2022-09-21T05:17:35.335301Z",
     "iopub.status.idle": "2022-09-21T05:17:35.339387Z",
     "shell.execute_reply": "2022-09-21T05:17:35.338744Z"
    },
    "papermill": {
     "duration": 0.010844,
     "end_time": "2022-09-21T05:17:35.341062",
     "exception": false,
     "start_time": "2022-09-21T05:17:35.330218",
     "status": "completed"
    },
    "tags": []
   },
   "outputs": [],
   "source": [
    "# additional CSS to consider. \n",
    "# TODO: Current into each exported file. \n",
    "#       This should be set once into the webpages directly.\n",
    "#       With only the class/id definitions in the .md files.\n",
    "\n",
    "debug_html = \"\"\"\n",
    "<style>\n",
    "#wrap{ overflow:auto; }\n",
    "#fig1{ background:yellow; width:100%; float:left; padding:5px;  }\n",
    "#fig2{ background:red; width:50%; float:left; clear:left; padding:5px;  }\n",
    "#fig3{ background:green; width:50%; float:left; padding:5px;   }\n",
    ".macros{ background:yellow; visibility:visible;}\n",
    "h1 {margin: 0 0 0 0;}\n",
    "mark {background-color:#fff3b6;}\n",
    "img {object-fit:contain; max-height:250px; display:inline-block; text-align: center;}\n",
    "</style>\n",
    "\"\"\" \n",
    "html = \"\"\"\n",
    "<style>\n",
    "#wrap{ overflow:auto; }\n",
    "#fig1{ width:100%; float:left; padding: 5px;  }\n",
    "#fig2{ width:50%; float:left; clear:left; padding: 5px;  }\n",
    "#fig3{ width:50%; float:left; padding: 5px;  }\n",
    ".macros{ visibility:hidden; height:0px; }\n",
    "h1 {margin: 0em 0 0 0;}\n",
    "mark {background-color:#fff3b6;}\n",
    "img {object-fit:contain; max-height:250px; display:inline-block; text-align: center;}\n",
    "</style>\n",
    "\"\"\""
   ]
  },
  {
   "cell_type": "markdown",
   "id": "14bd6310",
   "metadata": {
    "papermill": {
     "duration": 0.003948,
     "end_time": "2022-09-21T05:17:35.348913",
     "exception": false,
     "start_time": "2022-09-21T05:17:35.344965",
     "status": "completed"
    },
    "tags": []
   },
   "source": [
    "## get list of arxiv paper candidates\n",
    "\n",
    "We use the MPIA mitarbeiter list webpage from mpia.de to get author names\n",
    "We then get all new papers from Arxiv and match authors"
   ]
  },
  {
   "cell_type": "code",
   "execution_count": 4,
   "id": "2645e73a",
   "metadata": {
    "execution": {
     "iopub.execute_input": "2022-09-21T05:17:35.358775Z",
     "iopub.status.busy": "2022-09-21T05:17:35.358054Z",
     "iopub.status.idle": "2022-09-21T05:17:59.154061Z",
     "shell.execute_reply": "2022-09-21T05:17:59.153173Z"
    },
    "papermill": {
     "duration": 23.803182,
     "end_time": "2022-09-21T05:17:59.156044",
     "exception": false,
     "start_time": "2022-09-21T05:17:35.352862",
     "status": "completed"
    },
    "tags": []
   },
   "outputs": [
    {
     "name": "stdout",
     "output_type": "stream",
     "text": [
      "Arxiv has 60 new papers today\n",
      "          30 with possible author matches\n"
     ]
    }
   ],
   "source": [
    "# get list from MPIA website\n",
    "# it automatically filters identified non-scientists :func:`mpia.filter_non_scientists`\n",
    "mpia_authors = mpia.get_mpia_mitarbeiter_list()\n",
    "new_papers = get_new_papers()\n",
    "# add manual references\n",
    "add_paper_refs = []\n",
    "new_papers.extend([get_paper_from_identifier(k) for k in add_paper_refs])\n",
    "\n",
    "# select only papers with matching author names and highlight authors\n",
    "hl_list = [k[0] for k in mpia_authors]\n",
    "\n",
    "candidates = []\n",
    "for paperk in new_papers:\n",
    "    hl_authors = highlight_authors_in_list(paperk['authors'], hl_list)\n",
    "    matches = [(hl, orig) for hl, orig in zip(hl_authors, paperk['authors']) if 'mark' in hl]\n",
    "    paperk['authors'] = hl_authors\n",
    "    if matches:\n",
    "        candidates.append(paperk)\n",
    "print(\"\"\"Arxiv has {0:,d} new papers today\"\"\".format(len(new_papers)))        \n",
    "print(\"\"\"          {0:,d} with possible author matches\"\"\".format(len(candidates)))"
   ]
  },
  {
   "cell_type": "markdown",
   "id": "3543b34a",
   "metadata": {
    "papermill": {
     "duration": 0.004474,
     "end_time": "2022-09-21T05:17:59.167085",
     "exception": false,
     "start_time": "2022-09-21T05:17:59.162611",
     "status": "completed"
    },
    "tags": []
   },
   "source": [
    "# Parse sources and generate relevant outputs\n",
    "\n",
    "From the candidates, we do the following steps:\n",
    "* get their tarball from ArXiv (and extract data)\n",
    "* find the main .tex file: find one with \\documentclass{...} (sometimes it's non trivial)\n",
    "* Check affiliations with :func:`validation`, which uses :func:`mpia.affiliation_verifications`\n",
    "* If passing the affiliations: we parse the .tex source\n",
    "   * inject sub-documents into the main (flatten the main document)\n",
    "   * parse structure, extract information (title, abstract, authors, figures...)\n",
    "   * handles `\\graphicspath` if provided\n",
    "* Generate the .md document."
   ]
  },
  {
   "cell_type": "code",
   "execution_count": 5,
   "id": "9576b79e",
   "metadata": {
    "execution": {
     "iopub.execute_input": "2022-09-21T05:17:59.177096Z",
     "iopub.status.busy": "2022-09-21T05:17:59.176420Z",
     "iopub.status.idle": "2022-09-21T05:19:26.188566Z",
     "shell.execute_reply": "2022-09-21T05:19:26.187791Z"
    },
    "papermill": {
     "duration": 87.019877,
     "end_time": "2022-09-21T05:19:26.190989",
     "exception": false,
     "start_time": "2022-09-21T05:17:59.171112",
     "status": "completed"
    },
    "scrolled": false,
    "tags": []
   },
   "outputs": [
    {
     "data": {
      "application/vnd.jupyter.widget-view+json": {
       "model_id": "760e96cc0e0b4a409455105ba44d3798",
       "version_major": 2,
       "version_minor": 0
      },
      "text/plain": [
       "  0%|          | 0/29 [00:00<?, ?it/s]"
      ]
     },
     "metadata": {},
     "output_type": "display_data"
    },
    {
     "name": "stdout",
     "output_type": "stream",
     "text": [
      "Retrieving document from  https://arxiv.org/e-print/2209.09252\n"
     ]
    },
    {
     "name": "stdout",
     "output_type": "stream",
     "text": [
      "extracting tarball to tmp_2209.09252... done.\n"
     ]
    },
    {
     "name": "stdout",
     "output_type": "stream",
     "text": [
      "Retrieving document from  https://arxiv.org/e-print/2209.09253\n"
     ]
    },
    {
     "name": "stdout",
     "output_type": "stream",
     "text": [
      "extracting tarball to tmp_2209.09253... done.\n",
      "Retrieving document from  https://arxiv.org/e-print/2209.09255\n"
     ]
    },
    {
     "name": "stdout",
     "output_type": "stream",
     "text": [
      "extracting tarball to tmp_2209.09255..."
     ]
    },
    {
     "name": "stdout",
     "output_type": "stream",
     "text": [
      " done.\n",
      "Retrieving document from  https://arxiv.org/e-print/2209.09257\n"
     ]
    },
    {
     "name": "stdout",
     "output_type": "stream",
     "text": [
      "extracting tarball to tmp_2209.09257..."
     ]
    },
    {
     "name": "stdout",
     "output_type": "stream",
     "text": [
      " done.\n",
      "Retrieving document from  https://arxiv.org/e-print/2209.09259\n"
     ]
    },
    {
     "name": "stdout",
     "output_type": "stream",
     "text": [
      "extracting tarball to tmp_2209.09259..."
     ]
    },
    {
     "name": "stdout",
     "output_type": "stream",
     "text": [
      " done.\n",
      "Retrieving document from  https://arxiv.org/e-print/2209.09266\n"
     ]
    },
    {
     "name": "stderr",
     "output_type": "stream",
     "text": [
      "/opt/hostedtoolcache/Python/3.9.13/x64/lib/python3.9/site-packages/IPython/core/interactiveshell.py:3378: LatexWarning: Multiple tex files.\n",
      "\n",
      "  exec(code_obj, self.user_global_ns, self.user_ns)\n",
      "/opt/hostedtoolcache/Python/3.9.13/x64/lib/python3.9/site-packages/IPython/core/interactiveshell.py:3378: LatexWarning: Found documentclass in tmp_2209.09259/Spiral.tex\n",
      "\n",
      "  exec(code_obj, self.user_global_ns, self.user_ns)\n",
      "/opt/hostedtoolcache/Python/3.9.13/x64/lib/python3.9/site-packages/arxiv_on_deck_2/latex.py:292: LatexWarning: Latex injecting: 'Definitions.tex' from 'tmp_2209.09259/Definitions.tex'\n",
      "  warnings.warn(LatexWarning(f\"Latex injecting: '{ext}' from '{subsource}'\"))\n"
     ]
    },
    {
     "name": "stdout",
     "output_type": "stream",
     "text": [
      "extracting tarball to tmp_2209.09266..."
     ]
    },
    {
     "name": "stdout",
     "output_type": "stream",
     "text": [
      " done.\n",
      "Retrieving document from  https://arxiv.org/e-print/2209.09272\n"
     ]
    },
    {
     "name": "stdout",
     "output_type": "stream",
     "text": [
      "extracting tarball to tmp_2209.09272..."
     ]
    },
    {
     "name": "stdout",
     "output_type": "stream",
     "text": [
      " done.\n",
      "Retrieving document from  https://arxiv.org/e-print/2209.09286\n"
     ]
    },
    {
     "name": "stdout",
     "output_type": "stream",
     "text": [
      "extracting tarball to tmp_2209.09286..."
     ]
    },
    {
     "name": "stdout",
     "output_type": "stream",
     "text": [
      " done.\n",
      "Retrieving document from  https://arxiv.org/e-print/2209.09305\n"
     ]
    },
    {
     "name": "stdout",
     "output_type": "stream",
     "text": [
      "extracting tarball to tmp_2209.09305..."
     ]
    },
    {
     "name": "stdout",
     "output_type": "stream",
     "text": [
      " done.\n",
      "Retrieving document from  https://arxiv.org/e-print/2209.09347\n"
     ]
    },
    {
     "name": "stdout",
     "output_type": "stream",
     "text": [
      "extracting tarball to tmp_2209.09347... done.\n",
      "Retrieving document from  https://arxiv.org/e-print/2209.09381\n"
     ]
    },
    {
     "name": "stderr",
     "output_type": "stream",
     "text": [
      "/opt/hostedtoolcache/Python/3.9.13/x64/lib/python3.9/site-packages/IPython/core/interactiveshell.py:3378: LatexWarning: Multiple tex files.\n",
      "\n",
      "  exec(code_obj, self.user_global_ns, self.user_ns)\n",
      "/opt/hostedtoolcache/Python/3.9.13/x64/lib/python3.9/site-packages/IPython/core/interactiveshell.py:3378: LatexWarning: Found documentclass in tmp_2209.09347/natbib.tex\n",
      "\n",
      "  exec(code_obj, self.user_global_ns, self.user_ns)\n"
     ]
    },
    {
     "name": "stdout",
     "output_type": "stream",
     "text": [
      "extracting tarball to tmp_2209.09381..."
     ]
    },
    {
     "name": "stdout",
     "output_type": "stream",
     "text": [
      " done.\n",
      "Retrieving document from  https://arxiv.org/e-print/2209.09399\n"
     ]
    },
    {
     "name": "stderr",
     "output_type": "stream",
     "text": [
      "/opt/hostedtoolcache/Python/3.9.13/x64/lib/python3.9/site-packages/IPython/core/interactiveshell.py:3378: LatexWarning: Multiple tex files.\n",
      "\n",
      "  exec(code_obj, self.user_global_ns, self.user_ns)\n",
      "/opt/hostedtoolcache/Python/3.9.13/x64/lib/python3.9/site-packages/IPython/core/interactiveshell.py:3378: LatexWarning: Found documentclass in tmp_2209.09381/DoD.tex\n",
      "\n",
      "  exec(code_obj, self.user_global_ns, self.user_ns)\n",
      "/opt/hostedtoolcache/Python/3.9.13/x64/lib/python3.9/site-packages/arxiv_on_deck_2/latex.py:292: LatexWarning: Latex injecting: 'tables-appendix/deltas-19.tex' from 'tmp_2209.09381/tables-appendix/deltas-19.tex'\n",
      "  warnings.warn(LatexWarning(f\"Latex injecting: '{ext}' from '{subsource}'\"))\n",
      "/opt/hostedtoolcache/Python/3.9.13/x64/lib/python3.9/site-packages/arxiv_on_deck_2/latex.py:292: LatexWarning: Latex injecting: 'tables-appendix/deltas-18.tex' from 'tmp_2209.09381/tables-appendix/deltas-18.tex'\n",
      "  warnings.warn(LatexWarning(f\"Latex injecting: '{ext}' from '{subsource}'\"))\n",
      "/opt/hostedtoolcache/Python/3.9.13/x64/lib/python3.9/site-packages/arxiv_on_deck_2/latex.py:292: LatexWarning: Latex injecting: 'tables-appendix/deltas-17.tex' from 'tmp_2209.09381/tables-appendix/deltas-17.tex'\n",
      "  warnings.warn(LatexWarning(f\"Latex injecting: '{ext}' from '{subsource}'\"))\n",
      "/opt/hostedtoolcache/Python/3.9.13/x64/lib/python3.9/site-packages/arxiv_on_deck_2/latex.py:292: LatexWarning: Latex injecting: 'tables-appendix/deltas-16.tex' from 'tmp_2209.09381/tables-appendix/deltas-16.tex'\n",
      "  warnings.warn(LatexWarning(f\"Latex injecting: '{ext}' from '{subsource}'\"))\n",
      "/opt/hostedtoolcache/Python/3.9.13/x64/lib/python3.9/site-packages/arxiv_on_deck_2/latex.py:292: LatexWarning: Latex injecting: 'tables-appendix/deltas-15.tex' from 'tmp_2209.09381/tables-appendix/deltas-15.tex'\n",
      "  warnings.warn(LatexWarning(f\"Latex injecting: '{ext}' from '{subsource}'\"))\n",
      "/opt/hostedtoolcache/Python/3.9.13/x64/lib/python3.9/site-packages/arxiv_on_deck_2/latex.py:292: LatexWarning: Latex injecting: 'tables-appendix/deltas-14.tex' from 'tmp_2209.09381/tables-appendix/deltas-14.tex'\n",
      "  warnings.warn(LatexWarning(f\"Latex injecting: '{ext}' from '{subsource}'\"))\n",
      "/opt/hostedtoolcache/Python/3.9.13/x64/lib/python3.9/site-packages/arxiv_on_deck_2/latex.py:292: LatexWarning: Latex injecting: 'tables-appendix/deltas-13.tex' from 'tmp_2209.09381/tables-appendix/deltas-13.tex'\n",
      "  warnings.warn(LatexWarning(f\"Latex injecting: '{ext}' from '{subsource}'\"))\n",
      "/opt/hostedtoolcache/Python/3.9.13/x64/lib/python3.9/site-packages/arxiv_on_deck_2/latex.py:292: LatexWarning: Latex injecting: 'tables-appendix/deltas-12.tex' from 'tmp_2209.09381/tables-appendix/deltas-12.tex'\n",
      "  warnings.warn(LatexWarning(f\"Latex injecting: '{ext}' from '{subsource}'\"))\n",
      "/opt/hostedtoolcache/Python/3.9.13/x64/lib/python3.9/site-packages/arxiv_on_deck_2/latex.py:292: LatexWarning: Latex injecting: 'tables-appendix/deltas-11.tex' from 'tmp_2209.09381/tables-appendix/deltas-11.tex'\n",
      "  warnings.warn(LatexWarning(f\"Latex injecting: '{ext}' from '{subsource}'\"))\n",
      "/opt/hostedtoolcache/Python/3.9.13/x64/lib/python3.9/site-packages/arxiv_on_deck_2/latex.py:292: LatexWarning: Latex injecting: 'tables-appendix/deltas-10.tex' from 'tmp_2209.09381/tables-appendix/deltas-10.tex'\n",
      "  warnings.warn(LatexWarning(f\"Latex injecting: '{ext}' from '{subsource}'\"))\n"
     ]
    },
    {
     "name": "stdout",
     "output_type": "stream",
     "text": [
      "extracting tarball to tmp_2209.09399..."
     ]
    },
    {
     "name": "stdout",
     "output_type": "stream",
     "text": [
      " done.\n",
      "Retrieving document from  https://arxiv.org/e-print/2209.09461\n"
     ]
    },
    {
     "name": "stderr",
     "output_type": "stream",
     "text": [
      "/opt/hostedtoolcache/Python/3.9.13/x64/lib/python3.9/site-packages/IPython/core/interactiveshell.py:3378: LatexWarning: Multiple tex files.\n",
      "\n",
      "  exec(code_obj, self.user_global_ns, self.user_ns)\n",
      "/opt/hostedtoolcache/Python/3.9.13/x64/lib/python3.9/site-packages/IPython/core/interactiveshell.py:3378: LatexWarning: Found documentclass in tmp_2209.09399/_main.tex\n",
      "\n",
      "  exec(code_obj, self.user_global_ns, self.user_ns)\n"
     ]
    },
    {
     "name": "stdout",
     "output_type": "stream",
     "text": [
      "extracting tarball to tmp_2209.09461..."
     ]
    },
    {
     "name": "stdout",
     "output_type": "stream",
     "text": [
      " done.\n",
      "Retrieving document from  https://arxiv.org/e-print/2209.09503\n"
     ]
    },
    {
     "name": "stderr",
     "output_type": "stream",
     "text": [
      "/opt/hostedtoolcache/Python/3.9.13/x64/lib/python3.9/site-packages/IPython/core/interactiveshell.py:3378: LatexWarning: Multiple tex files.\n",
      "\n",
      "  exec(code_obj, self.user_global_ns, self.user_ns)\n",
      "/opt/hostedtoolcache/Python/3.9.13/x64/lib/python3.9/site-packages/IPython/core/interactiveshell.py:3378: LatexWarning: Found documentclass in tmp_2209.09461/natbib.tex\n",
      "\n",
      "  exec(code_obj, self.user_global_ns, self.user_ns)\n"
     ]
    },
    {
     "name": "stdout",
     "output_type": "stream",
     "text": [
      "extracting tarball to tmp_2209.09503..."
     ]
    },
    {
     "name": "stdout",
     "output_type": "stream",
     "text": [
      " done.\n",
      "Retrieving document from  https://arxiv.org/e-print/2209.09504\n"
     ]
    },
    {
     "name": "stdout",
     "output_type": "stream",
     "text": [
      "extracting tarball to tmp_2209.09504..."
     ]
    },
    {
     "name": "stdout",
     "output_type": "stream",
     "text": [
      " done.\n",
      "Retrieving document from  https://arxiv.org/e-print/2209.09544\n"
     ]
    },
    {
     "name": "stdout",
     "output_type": "stream",
     "text": [
      "extracting tarball to tmp_2209.09544..."
     ]
    },
    {
     "name": "stdout",
     "output_type": "stream",
     "text": [
      " done.\n",
      "Retrieving document from  https://arxiv.org/e-print/2209.09555\n"
     ]
    },
    {
     "name": "stdout",
     "output_type": "stream",
     "text": [
      "extracting tarball to tmp_2209.09555..."
     ]
    },
    {
     "name": "stdout",
     "output_type": "stream",
     "text": [
      " done.\n",
      "Retrieving document from  https://arxiv.org/e-print/2209.09559\n"
     ]
    },
    {
     "name": "stderr",
     "output_type": "stream",
     "text": [
      "/opt/hostedtoolcache/Python/3.9.13/x64/lib/python3.9/site-packages/IPython/core/interactiveshell.py:3378: LatexWarning: Multiple tex files.\n",
      "\n",
      "  exec(code_obj, self.user_global_ns, self.user_ns)\n",
      "/opt/hostedtoolcache/Python/3.9.13/x64/lib/python3.9/site-packages/IPython/core/interactiveshell.py:3378: LatexWarning: Found documentclass in tmp_2209.09555/pasa.tex\n",
      "\n",
      "  exec(code_obj, self.user_global_ns, self.user_ns)\n",
      "/opt/hostedtoolcache/Python/3.9.13/x64/lib/python3.9/site-packages/arxiv_on_deck_2/latex.py:292: LatexWarning: Latex injecting: 'table_fake.tex' from 'tmp_2209.09555/table_fake.tex'\n",
      "  warnings.warn(LatexWarning(f\"Latex injecting: '{ext}' from '{subsource}'\"))\n",
      "/opt/hostedtoolcache/Python/3.9.13/x64/lib/python3.9/site-packages/arxiv_on_deck_2/latex.py:292: LatexWarning: Latex injecting: 'table_results.tex' from 'tmp_2209.09555/table_results.tex'\n",
      "  warnings.warn(LatexWarning(f\"Latex injecting: '{ext}' from '{subsource}'\"))\n",
      "/opt/hostedtoolcache/Python/3.9.13/x64/lib/python3.9/site-packages/arxiv_on_deck_2/latex.py:292: LatexWarning: Latex injecting: 'preamble.tex' from 'tmp_2209.09555/preamble.tex'\n",
      "  warnings.warn(LatexWarning(f\"Latex injecting: '{ext}' from '{subsource}'\"))\n"
     ]
    },
    {
     "name": "stdout",
     "output_type": "stream",
     "text": [
      "extracting tarball to tmp_2209.09559..."
     ]
    },
    {
     "name": "stdout",
     "output_type": "stream",
     "text": [
      " done.\n",
      "Retrieving document from  https://arxiv.org/e-print/2209.09597\n"
     ]
    },
    {
     "name": "stdout",
     "output_type": "stream",
     "text": [
      "extracting tarball to tmp_2209.09597..."
     ]
    },
    {
     "name": "stdout",
     "output_type": "stream",
     "text": [
      " done.\n",
      "Retrieving document from  https://arxiv.org/e-print/2209.09601\n"
     ]
    },
    {
     "name": "stderr",
     "output_type": "stream",
     "text": [
      "/opt/hostedtoolcache/Python/3.9.13/x64/lib/python3.9/site-packages/IPython/core/interactiveshell.py:3378: LatexWarning: Multiple tex files.\n",
      "\n",
      "  exec(code_obj, self.user_global_ns, self.user_ns)\n",
      "/opt/hostedtoolcache/Python/3.9.13/x64/lib/python3.9/site-packages/IPython/core/interactiveshell.py:3378: LatexWarning: Found documentclass in tmp_2209.09597/aanda.tex\n",
      "\n",
      "  exec(code_obj, self.user_global_ns, self.user_ns)\n",
      "/opt/hostedtoolcache/Python/3.9.13/x64/lib/python3.9/site-packages/arxiv_on_deck_2/latex.py:292: LatexWarning: Latex injecting: 'concl.tex' from 'tmp_2209.09597/concl.tex'\n",
      "  warnings.warn(LatexWarning(f\"Latex injecting: '{ext}' from '{subsource}'\"))\n",
      "/opt/hostedtoolcache/Python/3.9.13/x64/lib/python3.9/site-packages/arxiv_on_deck_2/latex.py:292: LatexWarning: Latex injecting: 'dynamics_atmospheres.tex' from 'tmp_2209.09597/dynamics_atmospheres.tex'\n",
      "  warnings.warn(LatexWarning(f\"Latex injecting: '{ext}' from '{subsource}'\"))\n",
      "/opt/hostedtoolcache/Python/3.9.13/x64/lib/python3.9/site-packages/arxiv_on_deck_2/latex.py:292: LatexWarning: Latex injecting: 'fps.tex' from 'tmp_2209.09597/fps.tex'\n",
      "  warnings.warn(LatexWarning(f\"Latex injecting: '{ext}' from '{subsource}'\"))\n",
      "/opt/hostedtoolcache/Python/3.9.13/x64/lib/python3.9/site-packages/arxiv_on_deck_2/latex.py:292: LatexWarning: Latex injecting: 'table1.tex' from 'tmp_2209.09597/table1.tex'\n",
      "  warnings.warn(LatexWarning(f\"Latex injecting: '{ext}' from '{subsource}'\"))\n",
      "/opt/hostedtoolcache/Python/3.9.13/x64/lib/python3.9/site-packages/arxiv_on_deck_2/latex.py:292: LatexWarning: Latex injecting: 'obs.tex' from 'tmp_2209.09597/obs.tex'\n",
      "  warnings.warn(LatexWarning(f\"Latex injecting: '{ext}' from '{subsource}'\"))\n",
      "/opt/hostedtoolcache/Python/3.9.13/x64/lib/python3.9/site-packages/arxiv_on_deck_2/latex.py:292: LatexWarning: Latex injecting: 'star.tex' from 'tmp_2209.09597/star.tex'\n",
      "  warnings.warn(LatexWarning(f\"Latex injecting: '{ext}' from '{subsource}'\"))\n",
      "/opt/hostedtoolcache/Python/3.9.13/x64/lib/python3.9/site-packages/arxiv_on_deck_2/latex.py:292: LatexWarning: Latex injecting: 'intro.tex' from 'tmp_2209.09597/intro.tex'\n",
      "  warnings.warn(LatexWarning(f\"Latex injecting: '{ext}' from '{subsource}'\"))\n"
     ]
    },
    {
     "name": "stdout",
     "output_type": "stream",
     "text": [
      "extracting tarball to tmp_2209.09601..."
     ]
    },
    {
     "name": "stdout",
     "output_type": "stream",
     "text": [
      " done.\n",
      "Retrieving document from  https://arxiv.org/e-print/2209.09604\n"
     ]
    },
    {
     "name": "stdout",
     "output_type": "stream",
     "text": [
      "extracting tarball to tmp_2209.09604..."
     ]
    },
    {
     "name": "stdout",
     "output_type": "stream",
     "text": [
      " done.\n",
      "Retrieving document from  https://arxiv.org/e-print/2209.09665\n"
     ]
    },
    {
     "name": "stderr",
     "output_type": "stream",
     "text": [
      "/opt/hostedtoolcache/Python/3.9.13/x64/lib/python3.9/site-packages/IPython/core/interactiveshell.py:3378: LatexWarning: Multiple tex files.\n",
      "\n",
      "  exec(code_obj, self.user_global_ns, self.user_ns)\n",
      "/opt/hostedtoolcache/Python/3.9.13/x64/lib/python3.9/site-packages/IPython/core/interactiveshell.py:3378: LatexWarning: Found documentclass in tmp_2209.09604/main.tex\n",
      "\n",
      "  exec(code_obj, self.user_global_ns, self.user_ns)\n"
     ]
    },
    {
     "name": "stdout",
     "output_type": "stream",
     "text": [
      "extracting tarball to tmp_2209.09665... done.\n",
      "Retrieving document from  https://arxiv.org/e-print/2209.09673\n"
     ]
    },
    {
     "name": "stdout",
     "output_type": "stream",
     "text": [
      "extracting tarball to tmp_2209.09673..."
     ]
    },
    {
     "name": "stdout",
     "output_type": "stream",
     "text": [
      " done.\n",
      "Retrieving document from  https://arxiv.org/e-print/2209.09695\n"
     ]
    },
    {
     "name": "stderr",
     "output_type": "stream",
     "text": [
      "/opt/hostedtoolcache/Python/3.9.13/x64/lib/python3.9/site-packages/IPython/core/interactiveshell.py:3378: LatexWarning: Multiple tex files.\n",
      "\n",
      "  exec(code_obj, self.user_global_ns, self.user_ns)\n",
      "/opt/hostedtoolcache/Python/3.9.13/x64/lib/python3.9/site-packages/IPython/core/interactiveshell.py:3378: LatexWarning: Found documentclass in tmp_2209.09673/manuscript_arxiv.tex\n",
      "\n",
      "  exec(code_obj, self.user_global_ns, self.user_ns)\n",
      "/opt/hostedtoolcache/Python/3.9.13/x64/lib/python3.9/site-packages/arxiv_on_deck_2/latex.py:292: LatexWarning: Latex injecting: 'tab_updated_ephemerides.tex' from 'tmp_2209.09673/tab_updated_ephemerides.tex'\n",
      "  warnings.warn(LatexWarning(f\"Latex injecting: '{ext}' from '{subsource}'\"))\n",
      "/opt/hostedtoolcache/Python/3.9.13/x64/lib/python3.9/site-packages/arxiv_on_deck_2/latex.py:292: LatexWarning: Latex injecting: 'tab_parameters.tex' from 'tmp_2209.09673/tab_parameters.tex'\n",
      "  warnings.warn(LatexWarning(f\"Latex injecting: '{ext}' from '{subsource}'\"))\n",
      "/opt/hostedtoolcache/Python/3.9.13/x64/lib/python3.9/site-packages/arxiv_on_deck_2/latex.py:292: LatexWarning: Latex injecting: 'authors.tex' from 'tmp_2209.09673/authors.tex'\n",
      "  warnings.warn(LatexWarning(f\"Latex injecting: '{ext}' from '{subsource}'\"))\n"
     ]
    },
    {
     "name": "stdout",
     "output_type": "stream",
     "text": [
      "extracting tarball to tmp_2209.09695..."
     ]
    },
    {
     "name": "stdout",
     "output_type": "stream",
     "text": [
      " done.\n",
      "Retrieving document from  https://arxiv.org/e-print/2209.09763\n"
     ]
    },
    {
     "name": "stdout",
     "output_type": "stream",
     "text": [
      "extracting tarball to tmp_2209.09763..."
     ]
    },
    {
     "name": "stdout",
     "output_type": "stream",
     "text": [
      " done.\n",
      "Retrieving document from  https://arxiv.org/e-print/2209.09782\n"
     ]
    },
    {
     "name": "stderr",
     "output_type": "stream",
     "text": [
      "/opt/hostedtoolcache/Python/3.9.13/x64/lib/python3.9/site-packages/IPython/core/interactiveshell.py:3378: LatexWarning: Multiple tex files.\n",
      "\n",
      "  exec(code_obj, self.user_global_ns, self.user_ns)\n",
      "/opt/hostedtoolcache/Python/3.9.13/x64/lib/python3.9/site-packages/IPython/core/interactiveshell.py:3378: LatexWarning: Found documentclass in tmp_2209.09763/ep.tex\n",
      "\n",
      "  exec(code_obj, self.user_global_ns, self.user_ns)\n",
      "/opt/hostedtoolcache/Python/3.9.13/x64/lib/python3.9/site-packages/arxiv_on_deck_2/latex.py:292: LatexWarning: Latex injecting: 'ep-references' from 'tmp_2209.09763/ep-references.tex'\n",
      "  warnings.warn(LatexWarning(f\"Latex injecting: '{ext}' from '{subsource}'\"))\n",
      "/opt/hostedtoolcache/Python/3.9.13/x64/lib/python3.9/site-packages/arxiv_on_deck_2/latex.py:292: LatexWarning: Latex injecting: 'ep-miss' from 'tmp_2209.09763/ep-miss.tex'\n",
      "  warnings.warn(LatexWarning(f\"Latex injecting: '{ext}' from '{subsource}'\"))\n",
      "/opt/hostedtoolcache/Python/3.9.13/x64/lib/python3.9/site-packages/arxiv_on_deck_2/latex.py:292: LatexWarning: Latex injecting: 'ep-fxt' from 'tmp_2209.09763/ep-fxt.tex'\n",
      "  warnings.warn(LatexWarning(f\"Latex injecting: '{ext}' from '{subsource}'\"))\n",
      "/opt/hostedtoolcache/Python/3.9.13/x64/lib/python3.9/site-packages/arxiv_on_deck_2/latex.py:292: LatexWarning: Latex injecting: 'ep-wxt' from 'tmp_2209.09763/ep-wxt.tex'\n",
      "  warnings.warn(LatexWarning(f\"Latex injecting: '{ext}' from '{subsource}'\"))\n",
      "/opt/hostedtoolcache/Python/3.9.13/x64/lib/python3.9/site-packages/arxiv_on_deck_2/latex.py:292: LatexWarning: Latex injecting: 'ep-tech' from 'tmp_2209.09763/ep-tech.tex'\n",
      "  warnings.warn(LatexWarning(f\"Latex injecting: '{ext}' from '{subsource}'\"))\n",
      "/opt/hostedtoolcache/Python/3.9.13/x64/lib/python3.9/site-packages/arxiv_on_deck_2/latex.py:292: LatexWarning: Latex injecting: 'ep-sci' from 'tmp_2209.09763/ep-sci.tex'\n",
      "  warnings.warn(LatexWarning(f\"Latex injecting: '{ext}' from '{subsource}'\"))\n",
      "/opt/hostedtoolcache/Python/3.9.13/x64/lib/python3.9/site-packages/arxiv_on_deck_2/latex.py:292: LatexWarning: Latex injecting: 'ep-intro' from 'tmp_2209.09763/ep-intro.tex'\n",
      "  warnings.warn(LatexWarning(f\"Latex injecting: '{ext}' from '{subsource}'\"))\n",
      "/tmp/ipykernel_2217/4030337529.py:34: LatexWarning: 2209.09763 did not run properly\n",
      "'utf-8' codec can't decode byte 0xd1 in position 10013: invalid continuation byte\n",
      "  warnings.warn(latex.LatexWarning(f\"{paper_id:s} did not run properly\\n\" +\n"
     ]
    },
    {
     "name": "stdout",
     "output_type": "stream",
     "text": [
      "extracting tarball to tmp_2209.09782..."
     ]
    },
    {
     "name": "stdout",
     "output_type": "stream",
     "text": [
      " done.\n",
      "Retrieving document from  https://arxiv.org/e-print/2209.09823\n"
     ]
    },
    {
     "name": "stderr",
     "output_type": "stream",
     "text": [
      "/opt/hostedtoolcache/Python/3.9.13/x64/lib/python3.9/site-packages/IPython/core/interactiveshell.py:3378: LatexWarning: Multiple tex files.\n",
      "\n",
      "  exec(code_obj, self.user_global_ns, self.user_ns)\n",
      "/opt/hostedtoolcache/Python/3.9.13/x64/lib/python3.9/site-packages/IPython/core/interactiveshell.py:3378: LatexWarning: Found documentclass in tmp_2209.09782/main.tex\n",
      "\n",
      "  exec(code_obj, self.user_global_ns, self.user_ns)\n",
      "/opt/hostedtoolcache/Python/3.9.13/x64/lib/python3.9/site-packages/arxiv_on_deck_2/latex.py:292: LatexWarning: Latex injecting: 'appendix_stat_error' from 'tmp_2209.09782/appendix_stat_error.tex'\n",
      "  warnings.warn(LatexWarning(f\"Latex injecting: '{ext}' from '{subsource}'\"))\n",
      "/opt/hostedtoolcache/Python/3.9.13/x64/lib/python3.9/site-packages/arxiv_on_deck_2/latex.py:292: LatexWarning: Latex injecting: 'appendix_params_ia_gt' from 'tmp_2209.09782/appendix_params_ia_gt.tex'\n",
      "  warnings.warn(LatexWarning(f\"Latex injecting: '{ext}' from '{subsource}'\"))\n",
      "/opt/hostedtoolcache/Python/3.9.13/x64/lib/python3.9/site-packages/arxiv_on_deck_2/latex.py:292: LatexWarning: Latex injecting: 'appendix_source_mag' from 'tmp_2209.09782/appendix_source_mag.tex'\n",
      "  warnings.warn(LatexWarning(f\"Latex injecting: '{ext}' from '{subsource}'\"))\n",
      "/opt/hostedtoolcache/Python/3.9.13/x64/lib/python3.9/site-packages/arxiv_on_deck_2/latex.py:292: LatexWarning: Latex injecting: 'appendix_balrog_sample' from 'tmp_2209.09782/appendix_balrog_sample.tex'\n",
      "  warnings.warn(LatexWarning(f\"Latex injecting: '{ext}' from '{subsource}'\"))\n",
      "/opt/hostedtoolcache/Python/3.9.13/x64/lib/python3.9/site-packages/arxiv_on_deck_2/latex.py:292: LatexWarning: Latex injecting: 'appendix_mag_formalism' from 'tmp_2209.09782/appendix_mag_formalism.tex'\n",
      "  warnings.warn(LatexWarning(f\"Latex injecting: '{ext}' from '{subsource}'\"))\n",
      "/opt/hostedtoolcache/Python/3.9.13/x64/lib/python3.9/site-packages/arxiv_on_deck_2/latex.py:292: LatexWarning: Latex injecting: 'affiliations' from 'tmp_2209.09782/affiliations.tex'\n",
      "  warnings.warn(LatexWarning(f\"Latex injecting: '{ext}' from '{subsource}'\"))\n",
      "/opt/hostedtoolcache/Python/3.9.13/x64/lib/python3.9/site-packages/arxiv_on_deck_2/latex.py:292: LatexWarning: Latex injecting: 'ack' from 'tmp_2209.09782/ack.tex'\n",
      "  warnings.warn(LatexWarning(f\"Latex injecting: '{ext}' from '{subsource}'\"))\n",
      "/opt/hostedtoolcache/Python/3.9.13/x64/lib/python3.9/site-packages/arxiv_on_deck_2/latex.py:292: LatexWarning: Latex injecting: 'conclusions' from 'tmp_2209.09782/conclusions.tex'\n",
      "  warnings.warn(LatexWarning(f\"Latex injecting: '{ext}' from '{subsource}'\"))\n",
      "/opt/hostedtoolcache/Python/3.9.13/x64/lib/python3.9/site-packages/arxiv_on_deck_2/latex.py:292: LatexWarning: Latex injecting: 'results' from 'tmp_2209.09782/results.tex'\n",
      "  warnings.warn(LatexWarning(f\"Latex injecting: '{ext}' from '{subsource}'\"))\n",
      "/opt/hostedtoolcache/Python/3.9.13/x64/lib/python3.9/site-packages/arxiv_on_deck_2/latex.py:292: LatexWarning: Latex injecting: 'buzzard' from 'tmp_2209.09782/buzzard.tex'\n",
      "  warnings.warn(LatexWarning(f\"Latex injecting: '{ext}' from '{subsource}'\"))\n",
      "/opt/hostedtoolcache/Python/3.9.13/x64/lib/python3.9/site-packages/arxiv_on_deck_2/latex.py:292: LatexWarning: Latex injecting: 'sim_results' from 'tmp_2209.09782/sim_results.tex'\n",
      "  warnings.warn(LatexWarning(f\"Latex injecting: '{ext}' from '{subsource}'\"))\n",
      "/opt/hostedtoolcache/Python/3.9.13/x64/lib/python3.9/site-packages/arxiv_on_deck_2/latex.py:292: LatexWarning: Latex injecting: 'methodology' from 'tmp_2209.09782/methodology.tex'\n",
      "  warnings.warn(LatexWarning(f\"Latex injecting: '{ext}' from '{subsource}'\"))\n",
      "/opt/hostedtoolcache/Python/3.9.13/x64/lib/python3.9/site-packages/arxiv_on_deck_2/latex.py:292: LatexWarning: Latex injecting: 'data' from 'tmp_2209.09782/data.tex'\n",
      "  warnings.warn(LatexWarning(f\"Latex injecting: '{ext}' from '{subsource}'\"))\n",
      "/opt/hostedtoolcache/Python/3.9.13/x64/lib/python3.9/site-packages/arxiv_on_deck_2/latex.py:292: LatexWarning: Latex injecting: 'theory' from 'tmp_2209.09782/theory.tex'\n",
      "  warnings.warn(LatexWarning(f\"Latex injecting: '{ext}' from '{subsource}'\"))\n",
      "/opt/hostedtoolcache/Python/3.9.13/x64/lib/python3.9/site-packages/arxiv_on_deck_2/latex.py:292: LatexWarning: Latex injecting: 'introduction' from 'tmp_2209.09782/introduction.tex'\n",
      "  warnings.warn(LatexWarning(f\"Latex injecting: '{ext}' from '{subsource}'\"))\n",
      "/opt/hostedtoolcache/Python/3.9.13/x64/lib/python3.9/site-packages/arxiv_on_deck_2/latex.py:292: LatexWarning: Latex injecting: 'authorlist.tex' from 'tmp_2209.09782/authorlist.tex'\n",
      "  warnings.warn(LatexWarning(f\"Latex injecting: '{ext}' from '{subsource}'\"))\n"
     ]
    },
    {
     "name": "stdout",
     "output_type": "stream",
     "text": [
      "extracting tarball to tmp_2209.09823..."
     ]
    },
    {
     "name": "stdout",
     "output_type": "stream",
     "text": [
      " done.\n"
     ]
    },
    {
     "name": "stderr",
     "output_type": "stream",
     "text": [
      "/opt/hostedtoolcache/Python/3.9.13/x64/lib/python3.9/site-packages/arxiv_on_deck_2/latex.py:366: LatexWarning: Error parsing the document directly. Trying to recover.\n",
      "  warnings.warn(LatexWarning(f\"Error parsing the document directly. Trying to recover.\"))\n"
     ]
    },
    {
     "name": "stdout",
     "output_type": "stream",
     "text": [
      "✔ → 0:header\n",
      "  ↳ 3367:\\section{Introduction}\n",
      "✔ → 3367:\\section{Introduction}\n",
      "  ↳ 7017:\\section{Magnetic TAR}\n"
     ]
    },
    {
     "name": "stdout",
     "output_type": "stream",
     "text": [
      "✘ → 7017:\\section{Magnetic TAR}\n",
      "  ↳ 9837:\\section{Detectability of equatorial and hemispheric toroidal magnetic fields}\n",
      "✔ → 9837:\\section{Detectability of equatorial and hemispheric toroidal magnetic fields}\n",
      "  ↳ 12752:\\section{Conclusions}\n",
      "✔ → 12752:\\section{Conclusions}\n",
      "  ↳ 13629:end\n"
     ]
    },
    {
     "name": "stderr",
     "output_type": "stream",
     "text": [
      "/opt/hostedtoolcache/Python/3.9.13/x64/lib/python3.9/site-packages/arxiv_on_deck_2/latex.py:118: LatexWarning: attempting recovering figure Dhouib_fig1\n",
      "  warnings.warn(LatexWarning(f'attempting recovering figure {image}'))\n",
      "/opt/hostedtoolcache/Python/3.9.13/x64/lib/python3.9/site-packages/arxiv_on_deck_2/latex.py:118: LatexWarning: attempting recovering figure Dhouib_fig2\n",
      "  warnings.warn(LatexWarning(f'attempting recovering figure {image}'))\n"
     ]
    },
    {
     "name": "stderr",
     "output_type": "stream",
     "text": [
      "/opt/hostedtoolcache/Python/3.9.13/x64/lib/python3.9/site-packages/arxiv_on_deck_2/latex.py:118: LatexWarning: attempting recovering figure Dhouib_fig3\n",
      "  warnings.warn(LatexWarning(f'attempting recovering figure {image}'))\n",
      "/opt/hostedtoolcache/Python/3.9.13/x64/lib/python3.9/site-packages/arxiv_on_deck_2/latex.py:118: LatexWarning: attempting recovering figure Dhouib_fig4\n",
      "  warnings.warn(LatexWarning(f'attempting recovering figure {image}'))\n"
     ]
    },
    {
     "name": "stdout",
     "output_type": "stream",
     "text": [
      "Retrieving document from  https://arxiv.org/e-print/2209.09864\n"
     ]
    },
    {
     "name": "stdout",
     "output_type": "stream",
     "text": [
      "extracting tarball to tmp_2209.09864..."
     ]
    },
    {
     "name": "stdout",
     "output_type": "stream",
     "text": [
      " done.\n",
      "Retrieving document from  https://arxiv.org/e-print/2209.09877\n"
     ]
    },
    {
     "name": "stderr",
     "output_type": "stream",
     "text": [
      "/opt/hostedtoolcache/Python/3.9.13/x64/lib/python3.9/site-packages/IPython/core/interactiveshell.py:3378: LatexWarning: Multiple tex files.\n",
      "\n",
      "  exec(code_obj, self.user_global_ns, self.user_ns)\n",
      "/opt/hostedtoolcache/Python/3.9.13/x64/lib/python3.9/site-packages/IPython/core/interactiveshell.py:3378: LatexWarning: Found documentclass in tmp_2209.09864/Master_LiteBIRD_Detectors_SPIE_2022.tex\n",
      "\n",
      "  exec(code_obj, self.user_global_ns, self.user_ns)\n",
      "/opt/hostedtoolcache/Python/3.9.13/x64/lib/python3.9/site-packages/arxiv_on_deck_2/latex.py:292: LatexWarning: Latex injecting: 'acronyms' from 'tmp_2209.09864/acronyms.tex'\n",
      "  warnings.warn(LatexWarning(f\"Latex injecting: '{ext}' from '{subsource}'\"))\n"
     ]
    },
    {
     "name": "stdout",
     "output_type": "stream",
     "text": [
      "extracting tarball to tmp_2209.09877..."
     ]
    },
    {
     "name": "stdout",
     "output_type": "stream",
     "text": [
      " done.\n"
     ]
    },
    {
     "name": "stderr",
     "output_type": "stream",
     "text": [
      "/opt/hostedtoolcache/Python/3.9.13/x64/lib/python3.9/site-packages/IPython/core/interactiveshell.py:3378: LatexWarning: Multiple tex files.\n",
      "\n",
      "  exec(code_obj, self.user_global_ns, self.user_ns)\n",
      "/opt/hostedtoolcache/Python/3.9.13/x64/lib/python3.9/site-packages/IPython/core/interactiveshell.py:3378: LatexWarning: Found documentclass in tmp_2209.09877/SARA_Photo_z.tex\n",
      "\n",
      "  exec(code_obj, self.user_global_ns, self.user_ns)\n"
     ]
    }
   ],
   "source": [
    "documents = []\n",
    "failed = []\n",
    "for paper in tqdm(candidates[:-1]):\n",
    "    paper_id = paper['identifier'].lower().replace('arxiv:', '')\n",
    "    \n",
    "    folder = f'tmp_{paper_id}'\n",
    "\n",
    "    try:\n",
    "        if not os.path.isdir(folder):\n",
    "            folder = retrieve_document_source(f\"{paper_id}\", f'tmp_{paper_id}')\n",
    "        \n",
    "        try:\n",
    "            doc = latex.LatexDocument(folder, validation=validation)    \n",
    "        except AffiliationError as affilerror:\n",
    "            msg = f\"ArXiv:{paper_id:s} is not an MPIA paper... \" + str(affilerror)\n",
    "            failed.append((paper, \"affiliation error: \" + str(affilerror) ))\n",
    "            continue\n",
    "        \n",
    "        # Hack because sometimes author parsing does not work well\n",
    "        if (len(doc.authors) != len(paper['authors'])):\n",
    "            doc._authors = paper['authors']\n",
    "        if (doc.abstract) in (None, ''):\n",
    "            doc._abstract = paper['abstract']\n",
    "            \n",
    "        doc.comment = (get_markdown_badge(paper_id) + \n",
    "                       \"<mark>Appeared on: \" + paper['date'] + \"</mark> - \" +\n",
    "                       \"_\" + paper['comments'] + \"_\")\n",
    "        doc.highlight_authors_in_list(hl_list)\n",
    "\n",
    "        full_md = doc.generate_markdown_text()\n",
    "        \n",
    "        documents.append((paper_id, full_md))\n",
    "    except Exception as e:\n",
    "        warnings.warn(latex.LatexWarning(f\"{paper_id:s} did not run properly\\n\" +\n",
    "                                         str(e)\n",
    "                                        ))\n",
    "        failed.append((paper, \"latex error \" + str(e)))"
   ]
  },
  {
   "cell_type": "markdown",
   "id": "2505a25c",
   "metadata": {
    "papermill": {
     "duration": 0.008071,
     "end_time": "2022-09-21T05:19:26.207671",
     "exception": false,
     "start_time": "2022-09-21T05:19:26.199600",
     "status": "completed"
    },
    "tags": []
   },
   "source": [
    "### Export the logs\n",
    "\n",
    "Throughout, we also keep track of the logs per paper. see `logs-{today date}.md` "
   ]
  },
  {
   "cell_type": "code",
   "execution_count": 6,
   "id": "d733828a",
   "metadata": {
    "execution": {
     "iopub.execute_input": "2022-09-21T05:19:26.225535Z",
     "iopub.status.busy": "2022-09-21T05:19:26.224738Z",
     "iopub.status.idle": "2022-09-21T05:19:26.265386Z",
     "shell.execute_reply": "2022-09-21T05:19:26.264651Z"
    },
    "papermill": {
     "duration": 0.05155,
     "end_time": "2022-09-21T05:19:26.267022",
     "exception": false,
     "start_time": "2022-09-21T05:19:26.215472",
     "status": "completed"
    },
    "scrolled": false,
    "tags": []
   },
   "outputs": [
    {
     "data": {
      "text/markdown": [
       "## Successful papers"
      ],
      "text/plain": [
       "<IPython.core.display.Markdown object>"
      ]
     },
     "metadata": {},
     "output_type": "display_data"
    },
    {
     "data": {
      "text/markdown": [
       "\n",
       "|||\n",
       "|---:|:---|\n",
       "| [![arXiv](https://img.shields.io/badge/arXiv-arXiv:2209.09823-b31b1b.svg)](https://arxiv.org/abs/arXiv:2209.09823) | **Can we detect deep axisymmetric toroidal magnetic fields in stars?**  |\n",
       "|| Hachem Dhouib, et al. -- incl., <mark>Lisa Bugnet</mark> |\n",
       "|*Appeared on*| *2022-09-21*|\n",
       "|*Comments*| *4 pages, 2 figures. Proceeding of the Annual meeting of the French Society of Astronomy and Astrophysics (SF2A 2022)*|\n",
       "|**Abstract**| One of the major discoveries of asteroseismology is the signature of a strong extraction of angular momentum (AM) in the radiative zones of stars across the entire Hertzsprung-Russell diagram, resulting in weak core-to-surface rotation contrasts. Despite all efforts, a consistent AM transport theory, which reproduces both the internal rotation and mixing probed thanks to the seismology of stars, remains one of the major open problems in modern stellar astrophysics. A possible key ingredient to figure out this puzzle is magnetic field with its various possible topologies. Among them, strong axisymmetric toroidal fields, which are subject to the so-called Tayler MHD instability, could play a major role. They could trigger a dynamo action in radiative layers while the resulting magnetic torque allows an efficient transport of AM. But is it possible to detect signatures of these deep toroidal magnetic fields? The only way to answer this question is asteroseismology and the best laboratories of study are intermediate-mass and massive stars because of their external radiative envelope. Since most of these are rapid rotators during their main-sequence, we have to study stellar pulsations propagating in stably stratified, rotating, and potentially strongly magnetised radiative zones. For that, we generalise the traditional approximation of rotation, which provides in its classic version a flexible treatment of the adiabatic propagation of gravito-inertial modes, by taking simultaneously general axisymmetric differential rotation and toroidal magnetic fields into account. Using this new non-perturbative formalism, we derive the asymptotic properties of magneto-gravito-inertial modes and we explore the different possible field configurations. We found that the magnetic effects should be detectable for equatorial fields using high-precision asteroseismic data. |"
      ],
      "text/plain": [
       "[arXiv:2209.09823] Can we detect deep axisymmetric toroidal magnetic fields in stars?\n",
       "\tHachem Dhouib, et al. -- incl., <mark>Lisa Bugnet</mark>"
      ]
     },
     "metadata": {},
     "output_type": "display_data"
    },
    {
     "data": {
      "text/markdown": [
       "## Failed papers"
      ],
      "text/plain": [
       "<IPython.core.display.Markdown object>"
      ]
     },
     "metadata": {},
     "output_type": "display_data"
    },
    {
     "data": {
      "text/markdown": [
       "\n",
       "|||\n",
       "|---:|:---|\n",
       "| [![arXiv](https://img.shields.io/badge/arXiv-arXiv:2209.09604-b31b1b.svg)](https://arxiv.org/abs/arXiv:2209.09604) | **The JCMT BISTRO Survey: Multi-wavelength polarimetry of bright regions  in NGC 2071 in the far-infrared/submillimetre range, with POL-2 and HAWC+**  |\n",
       "|| L. Fanciullo, et al. -- incl., <mark>C. W. Lee</mark>, <mark>T. Liu</mark> |\n",
       "|*Appeared on*| *2022-09-21*|\n",
       "|*Comments*| *Main article: 18 pages, 11 figures. Online supplemental material: 2 pages, 3 figures*|\n",
       "|**Abstract**| Polarized dust emission is a key tracer in the study of interstellar medium and of star formation. The observed polarization, however, is a product of magnetic field structure, dust grain properties and grain alignment efficiency, as well as their variations in the line of sight, making it difficult to interpret polarization unambiguously. The comparison of polarimetry at multiple wavelengths is a possible way of mitigating this problem. We use data from HAWC+/SOFIA and from SCUBA-2/POL-2 (from the BISTRO survey) to analyse the NGC 2071 molecular cloud at 154, 214 and 850 $\\mu$m. The polarization angle changes significantly with wavelength over part of NGC 2071, suggesting a change in magnetic field morphology on the line of sight as each wavelength best traces different dust populations. Other possible explanations are the existence of more than one polarization mechanism in the cloud or scattering from very large grains. The observed change of polarization fraction with wavelength, and the 214-to-154 $\\mu$m polarization ratio in particular, are difficult to reproduce with current dust models under the assumption of uniform alignment efficiency. We also show that the standard procedure of using monochromatic intensity as a proxy for column density may produce spurious results at HAWC+ wavelengths. Using both long-wavelength (POL-2, 850 $\\mu$m) and short-wavelength (HAWC+, $\\lesssim 200\\, \\mu$m) polarimetry is key in obtaining these results. This study clearly shows the importance of multi-wavelength polarimetry at submillimeter bands to understand the dust properties of molecular clouds and the relationship between magnetic field and star formation. |\n",
       "|<p style=\"color:green\"> **ERROR** </p>| <p style=\"color:green\">affiliation error: mpia.affiliation_verifications: '69117' keyword not found.</p> |"
      ],
      "text/plain": [
       "<IPython.core.display.Markdown object>"
      ]
     },
     "metadata": {},
     "output_type": "display_data"
    },
    {
     "data": {
      "text/markdown": [
       "\n",
       "|||\n",
       "|---:|:---|\n",
       "| [![arXiv](https://img.shields.io/badge/arXiv-arXiv:2209.09252-b31b1b.svg)](https://arxiv.org/abs/arXiv:2209.09252) | **Calibration of neutron star natal kick velocities to isolated pulsar  observations**  |\n",
       "|| Veome Kapil, Ilya Mandel, Emanuele Berti, <mark>Bernhard Müller</mark> |\n",
       "|*Appeared on*| *2022-09-21*|\n",
       "|*Comments*| *8 pages, 8 figures, 1 table*|\n",
       "|**Abstract**| Current prescriptions for supernova natal kicks in rapid binary population synthesis simulations are based on fits of simple functions to single pulsar velocity data. We explore a new parameterization of natal kicks received by neutron stars in isolated and binary systems developed by Mandel & M\\\"uller, which is based on 1D and 3D supernova simulations and accounts for the physical correlations between progenitor properties, remnant mass, and the kick velocity. We constrain two free parameters in this model using very long baseline interferometry velocity measurements of Galactic single pulsars. We find that the inferred values of natal kick parameters do not differ significantly between single and binary evolution scenarios. The best-fit values of these parameters are $v_{\\rm ns} = 520$ km s$^{-1}$ for the scaling pre-factor for neutron star kicks, and $\\sigma_{\\rm ns}=0.3$ for the fractional stochastic scatter in the kick velocities. |\n",
       "|<p style=\"color:green\"> **ERROR** </p>| <p style=\"color:green\">affiliation error: mpia.affiliation_verifications: 'Heidelberg' keyword not found.</p> |"
      ],
      "text/plain": [
       "<IPython.core.display.Markdown object>"
      ]
     },
     "metadata": {},
     "output_type": "display_data"
    },
    {
     "data": {
      "text/markdown": [
       "\n",
       "|||\n",
       "|---:|:---|\n",
       "| [![arXiv](https://img.shields.io/badge/arXiv-arXiv:2209.09253-b31b1b.svg)](https://arxiv.org/abs/arXiv:2209.09253) | **PSFs of coadded images**  |\n",
       "|| Rachel Mandelbaum, et al. -- incl., <mark>Tianqing Zhang</mark> |\n",
       "|*Appeared on*| *2022-09-21*|\n",
       "|*Comments*| *13 pages, 4 figures; pedagogical article for submission to the Open Journal of Astrophysics*|\n",
       "|**Abstract**| We provide a detailed exploration of the connection between choice of coaddition schemes and the point-spread function (PSF) of the resulting coadded images. In particular, we investigate what properties of the coaddition algorithm lead to the final coadded image having a well-defined PSF. The key elements of this discussion are as follows: 1. We provide an illustration of how linear coaddition schemes can produce a coadd that lacks a well-defined PSF even for relatively simple scenarios and choices of weight functions. 2. We provide a more formal demonstration of the fact that a linear coadd only has a well-defined PSF in the case that either (a) each input image has the same PSF or (b) the coadd is produced with weights that are independent of the signal. 3. We discuss some reasons that two plausible nonlinear coaddition algorithms (median and clipped-mean) fail to produce a consistent PSF profile for stars. 4. We demonstrate that all nonlinear coaddition procedures fail to produce a well-defined PSF for extended objects. In the end, we conclude that, for any purpose where a well-defined PSF is desired, one should use a linear coaddition scheme with weights that do not correlate with the signal and are approximately uniform across typical objects of interest. |\n",
       "|<p style=\"color:green\"> **ERROR** </p>| <p style=\"color:green\">affiliation error: mpia.affiliation_verifications: 'Heidelberg' keyword not found.</p> |"
      ],
      "text/plain": [
       "<IPython.core.display.Markdown object>"
      ]
     },
     "metadata": {},
     "output_type": "display_data"
    },
    {
     "data": {
      "text/markdown": [
       "\n",
       "|||\n",
       "|---:|:---|\n",
       "| [![arXiv](https://img.shields.io/badge/arXiv-arXiv:2209.09255-b31b1b.svg)](https://arxiv.org/abs/arXiv:2209.09255) | **H1821+643: The most X-ray and infrared luminous AGN in the Swift/BAT  survey in the process of rapid stellar and supermassive black hole mass  assembly**  |\n",
       "|| Hikaru Fukuchi, et al. -- incl., <mark>Ang Liu</mark> |\n",
       "|*Appeared on*| *2022-09-21*|\n",
       "|*Comments*| *20 pages, 8 figures, accepted for publication in ApJ*|\n",
       "|**Abstract**| H1821+643 is the most X-ray luminous non-beamed AGN of $L_\\mathrm{14-150 keV}= 5.2\\times 10^{45}$ erg s$^{-1}$ in the Swift/BAT ultra-hard X-ray survey and it is also a hyper-luminous infrared (IR) galaxy $L_\\mathrm{IR} = 10^{13.2} L_\\odot$ residing in the center of a massive galaxy cluster, which is a unique environment achieving the rapid mass assembly of black holes (BH) and host galaxies in the local universe. We decompose the X-ray to IR spectral energy distribution (SED) into the AGN and starburst component using the SED fitting tool CIGALE-2022.0 and show that H1821+643 consumes a large amount of cold gas ($\\dot{M}_\\mathrm{con}$) with star-formation rate of $\\log ( \\mathrm{SFR}/M_{\\odot}~\\mathrm{yr}^{-1}) = 3.01 \\pm 0.04$ and BH accretion rate of $\\log (\\dot{M}_\\mathrm{BH}/M_{\\odot}~\\mathrm{yr}^{-1}) = 1.20 \\pm 0.05$. This high $\\dot{M}_\\mathrm{con}$ is larger than the cooling rate ($\\dot{M}_\\mathrm{cool}$) of the intra-cluster medium (ICM), $\\dot{M}_\\mathrm{con}/\\dot{M}_\\mathrm{cool} \\gtrsim 1$, which is one to two order magnitude higher than the typical value of other systems, indicating that H1821 provides the unique and extreme environment of rapid gas consumption. We also show that H1821+643 has an efficient cooling path achieving from $10^7$ K to $10^2$ K thanks to [OIII] 63 $\\mu \\mathrm{m}$, which is a main coolant in low temperature range ($10^4$ K to $10^2$ K) with a cooling rate of $\\dot{M}_{\\mathrm{cool}}=3.2\\times 10^5\\ M_{\\odot}\\mathrm{~yr^{-1}}$, and the star-forming region extends over 40 kpc scale. |\n",
       "|<p style=\"color:green\"> **ERROR** </p>| <p style=\"color:green\">affiliation error: mpia.affiliation_verifications: 'Heidelberg' keyword not found.</p> |"
      ],
      "text/plain": [
       "<IPython.core.display.Markdown object>"
      ]
     },
     "metadata": {},
     "output_type": "display_data"
    },
    {
     "data": {
      "text/markdown": [
       "\n",
       "|||\n",
       "|---:|:---|\n",
       "| [![arXiv](https://img.shields.io/badge/arXiv-arXiv:2209.09257-b31b1b.svg)](https://arxiv.org/abs/arXiv:2209.09257) | **An experimental and theoretical investigation of HCN production in the  Hadean Earth atmosphere**  |\n",
       "|| Ben K. D. Pearce, <mark>Chao He</mark>, Sarah M. Hörst |\n",
       "|*Appeared on*| *2022-09-21*|\n",
       "|*Comments*| *Accepted for publication in ACS Earth and Space Chemistry, 24 pages, 7 figures, 5 tables, Supporting info*|\n",
       "|**Abstract**| A critical early stage for the origin of life on Earth may have involved the production of hydrogen cyanide (HCN) in a reducing, predominantly H$_2$ atmosphere. HCN is crucial for the origin of life as it is a possible precursor to several biomolecules that make up RNA and proteins including nucleobases, nucleotides, amino acids, and ribose. In this work, we perform an in depth experimental and theoretical investigation of HCN production in reducing atmospheric conditions (89-95% H$_2$) possibly representing the earliest stages of the Hadean eon, ~4.5-4.3 billion years ago. We make use of cold plasma discharges - a laboratory analog to shortwave UV radiation - to simulate HCN production in the upper layers of the atmosphere for CH$_4$ abundances ranging from 0.1-6.5%. We then combine experimental mass spectrum measurements with our theoretical plasma models to estimate the HCN concentrations produced in our experiments. We find that upper atmospheric HCN production scales linearly with CH$_4$ abundance with the relation [HCN] = 0.13 $\\pm$ 0.01[CH$_4$]. Concentrations of HCN near the surface of the Hadean Earth are expected to be about 2-3 orders of magnitude lower. The addition of 1% water to our experiments results in a ~50% reduction in HCN production. We find that four reactions are primarily responsible for HCN production in our experiments: (i) $^4$N + CH$_3$ -> H$_2$CN + H -> HCN + H$_2$, (ii) $^4$N + CH -> CN + H followed by CN + CH$_4$ -> HCN + CH$_3$, (iii) C$_2$H$_4$ + $^4$N -> HCN + CH$_3$, and (iv) $^4$N + $^3$CH$_2$ -> HCN + H. The most prebiotically favorable Hadean atmosphere would have been very rich in CH$_4$ (> 5%), and as a result of greenhouse effects the surface would be likely very hot. In such a prebiotic scenario, it may have been important to incorporate HCN into organic hazes that could later release biomolecules and precursors into the first ponds. |\n",
       "|<p style=\"color:green\"> **ERROR** </p>| <p style=\"color:green\">affiliation error: mpia.affiliation_verifications: 'Heidelberg' keyword not found.</p> |"
      ],
      "text/plain": [
       "<IPython.core.display.Markdown object>"
      ]
     },
     "metadata": {},
     "output_type": "display_data"
    },
    {
     "data": {
      "text/markdown": [
       "\n",
       "|||\n",
       "|---:|:---|\n",
       "| [![arXiv](https://img.shields.io/badge/arXiv-arXiv:2209.09259-b31b1b.svg)](https://arxiv.org/abs/arXiv:2209.09259) | **Quasi-spiral solution to the mixed intracluster medium and the universal  entropy profile of galaxy clusters**  |\n",
       "|| Uri Keshet, Itay Raveh, <mark>Arka Ghosh</mark> |\n",
       "|*Appeared on*| *2022-09-21*|\n",
       "|*Comments*| *23 pages, 22 figures; comments welcome*|\n",
       "|**Abstract**| Well-resolved galaxy clusters often show a large-scale quasi-spiral structure in deprojected density $\\rho$ and temperature $T$ fields, delineated by a tangential discontinuity known as a cold front, superimposed on a universal radial entropy profile with a linear $K(r)\\propto T\\rho^{-2/3}\\propto r$ adiabat. We show that a spiral structure provides a natural quasi-stationary solution for the mixed intracluster medium (ICM), introducing a modest pressure spiral that confines the locally buoyant or heavy plasma phases. The solution persists in the presence of uniform or differential rotation, and can accommodate both an inflow and an outflow. Hydrodynamic adiabatic simulations with perturbations that deposit angular momentum and mix the plasma thus asymptote to a self-similar spiral structure. We find similar spirals in Eulerian and Lagrangian simulations of 2D and 3D, merger and offset, clusters. The discontinuity surface is given in spherical coordinates $\\{r,\\theta,\\phi\\}$ by $\\phi\\propto \\Phi(r)$, where $\\Phi$ is the gravitational potential, combining a trailing spiral in the equatorial ($\\theta=\\pi/2$) plane and semicircles perpendicular to the plane, in resemblance of a snail shell. A local convective instability can develop between spiral windings, driving a modified global instability in sublinear $K(r)$ regions; evolved spirals thus imprint the observed $K\\propto r$ onto the ICM even after they dissipate. The spiral structure brings hot and cold phases to close proximity, suggesting that the observed fast outflows could sustain the structure even in the presence of radiative cooling. |\n",
       "|<p style=\"color:green\"> **ERROR** </p>| <p style=\"color:green\">affiliation error: mpia.affiliation_verifications: 'Heidelberg' keyword not found.</p> |"
      ],
      "text/plain": [
       "<IPython.core.display.Markdown object>"
      ]
     },
     "metadata": {},
     "output_type": "display_data"
    },
    {
     "data": {
      "text/markdown": [
       "\n",
       "|||\n",
       "|---:|:---|\n",
       "| [![arXiv](https://img.shields.io/badge/arXiv-arXiv:2209.09266-b31b1b.svg)](https://arxiv.org/abs/arXiv:2209.09266) | **An Exploration of Systematic Errors in Transiting Planets and Their Host  Stars**  |\n",
       "|| Alison Duck, B. Scott Gaudi, Jason D. Eastman, <mark>Joseph E. Rodriguez</mark> |\n",
       "|*Appeared on*| *2022-09-21*|\n",
       "|*Comments*| *12 Figures, 20 Tables, Submitted to ApJ*|\n",
       "|**Abstract**| Transiting planet systems offer the best opportunity to measure the masses and radii of a large sample of planets and their host stars. However, relative photometry and radial velocity measurements alone only constrain the density of the host star. Thus, there is a one-parameter degeneracy in the mass and radius of the host star, and by extension the planet. Several theoretical, semi-empirical, and nearly empirical methods have been used to break this degeneracy and independently measure the mass and radius of the host star and planets(s). As we approach an era of few percent precisions on some of these properties, it is critical to assess whether these different methods are providing accuracies that are of the same order, or better than, the stated statistical precisions. We investigate the differences in the planet parameter estimates inferred when using the Torres empirical relations, YY isochrones, MIST isochrones, and a nearly-direct empirical measurement of the radius of the host star using its spectral energy distribution, effective temperature, and \\textit{Gaia} parallax. We focus our analysis on modelling KELT-15b, a fairly typical hot Jupiter, using each of these methods. We globally model TESS photometry, optical-to-NIR flux densities of the host star, and \\textit{Gaia} parallaxes, in conjunction with extant KELT ground-based follow-up photometric and radial velocity measurements. We find systematic differences in several of the inferred parameters of the KELT-15 system when using different methods, including a $\\sim 6\\%$ ($\\sim 2\\sigma$) difference in the inferred stellar and planetary radii between the MIST isochrones and SED fitting. |\n",
       "|<p style=\"color:green\"> **ERROR** </p>| <p style=\"color:green\">affiliation error: mpia.affiliation_verifications: 'Heidelberg' keyword not found.</p> |"
      ],
      "text/plain": [
       "<IPython.core.display.Markdown object>"
      ]
     },
     "metadata": {},
     "output_type": "display_data"
    },
    {
     "data": {
      "text/markdown": [
       "\n",
       "|||\n",
       "|---:|:---|\n",
       "| [![arXiv](https://img.shields.io/badge/arXiv-arXiv:2209.09272-b31b1b.svg)](https://arxiv.org/abs/arXiv:2209.09272) | **The statistical properties of early-type stars from LAMOST DR8**  |\n",
       "|| <mark>Yanjun Guo</mark>, et al. -- incl., <mark>Chao Liu</mark>, <mark>Bo Zhang</mark> |\n",
       "|*Appeared on*| *2022-09-21*|\n",
       "|*Comments*| **|\n",
       "|**Abstract**| Massive binary stars play a crucial role in many astrophysical fields. Investigating the statistical properties of massive binary stars is essential to trace the formation of massive stars and constrain the evolution of stellar populations. However, no consensus has been achieved on the statistical properties of massive binary stars, mainly due to the lack of a large and homogeneous sample of spectroscopic observations. We study the intrinsic binary fraction $f_{\\rm b}^{\\rm in}$ and distributions of mass ratio $f(q)$ and orbital period $f(P)$ of early-type stars (comprised of O-, B-, and A-type stars) and investigate their dependences on effective temperature $T_{\\rm eff}$, stellar metallicity [M/H], and the projection velocity $v\\sin{i}$, based on the homogeneous spectroscopic sample from the Large Sky Area Multi-Object Fiber Spectroscopic Telescope (LAMOST) Data Release Eight (DR8). We found that $f_{\\rm b}^{\\rm in}$ increases with increasing $T_\\mathrm{eff}$. The binary fraction is positively correlated with metallicity for spectra in the sample. Over all the $v\\sin{i}$ values we considered, the $f_{\\rm b}^{\\rm in}$ have constant values of $\\sim$50\\%. It seems that the binary population is relatively evenly distributed over a wide range of $v\\sin{i}$ values, while the whole sample shows that most of the stars are concentrated at low values of $v\\sin{i}$ (probably from strong wind and magnetic braking of single massive stars) and at high values of $v\\sin{i}$ (likely from the merging of binary stars). Stellar evolution and binary interaction may be partly responsible for this.There are no correlations found between $\\pi$($\\gamma$) and $T_{\\rm eff}$, nor for $\\pi$($\\gamma$) and [M/H]. The uncertainties of the distribution decrease toward a larger sample size with higher observational cadence. |\n",
       "|<p style=\"color:green\"> **ERROR** </p>| <p style=\"color:green\">affiliation error: mpia.affiliation_verifications: 'Heidelberg' keyword not found.</p> |"
      ],
      "text/plain": [
       "<IPython.core.display.Markdown object>"
      ]
     },
     "metadata": {},
     "output_type": "display_data"
    },
    {
     "data": {
      "text/markdown": [
       "\n",
       "|||\n",
       "|---:|:---|\n",
       "| [![arXiv](https://img.shields.io/badge/arXiv-arXiv:2209.09286-b31b1b.svg)](https://arxiv.org/abs/arXiv:2209.09286) | **Disentangling protoplanetary disk gas mass and carbon depletion through  combined atomic and molecular tracers**  |\n",
       "|| J.A. Sturm, et al. -- incl., <mark>M. Leemker</mark> |\n",
       "|*Appeared on*| *2022-09-21*|\n",
       "|*Comments*| *16 pages, 8 figures. Accepted for publication in A&A*|\n",
       "|**Abstract**| The total disk gas mass and elemental C, N, O composition of protoplanetary disks are crucial ingredients for our understanding of planet formation. Measuring the gas mass is complicated, since H$_2$ cannot be detected in the cold bulk of the disk and the elemental abundances with respect to hydrogen are degenerate with gas mass in all disk models. We present new NOEMA observations of CO, $^{13}$CO, C$^{18}$O and optically thin C$^{17}$O $J$=2-1 lines, and use additional high angular resolution Atacama Large Millimeter Array millimeter continuum and CO data to construct a representative model of LkCa 15. The transitions that constrain the gas mass and carbon abundance most are C$^{17}$O 2-1, N${_2}$H$^+$ 3-2 and HD 1-0. Using these three molecules we find that the gas mass in the LkCa 15 disk is $M_\\mathrm{g}=0.01 ^{+0.01}_{-0.004} M_{\\odot}$, a factor of six lower than estimated before. The carbon abundance is C/H = ($3 \\pm 1.5) \\times10^{-5}$, implying a moderate depletion of elemental carbon by a factor of 3-9. All other analyzed transitions also agree with these numbers, within a modeling uncertainty of a factor of two. Using the resolved \\ce{C2H} image we find a C/O ratio of $\\sim$1, which is consistent with literature values of H$_2$O depletion in this disk. The lack of severe carbon depletion in the LkCa 15 disk is consistent with the young age of the disk, but contrasts with the higher depletions seen in older cold transition disks. Combining optically thin CO isotopologue lines with N$_2$H$^+$ is promising to break the degeneracy between gas mass and CO abundance. The moderate level of depletion for this source with a cold, but young disk, suggests that long carbon transformation timescales contribute to the evolutionary trend seen in the level of carbon depletion among disk populations, rather than evolving temperature effects and presence of dust traps alone. |\n",
       "|<p style=\"color:green\"> **ERROR** </p>| <p style=\"color:green\">affiliation error: mpia.affiliation_verifications: 'Heidelberg' keyword not found.</p> |"
      ],
      "text/plain": [
       "<IPython.core.display.Markdown object>"
      ]
     },
     "metadata": {},
     "output_type": "display_data"
    },
    {
     "data": {
      "text/markdown": [
       "\n",
       "|||\n",
       "|---:|:---|\n",
       "| [![arXiv](https://img.shields.io/badge/arXiv-arXiv:2209.09305-b31b1b.svg)](https://arxiv.org/abs/arXiv:2209.09305) | **A Double Layered Water Cherenkov Detector Array for Gamma-Ray Astronomy**  |\n",
       "|| Samridha Kunwar, et al. -- incl., <mark>Andrew Smith</mark> |\n",
       "|*Appeared on*| *2022-09-21*|\n",
       "|*Comments*| *18 pages, 26 figures*|\n",
       "|**Abstract**| Ground-level particle detection is now a well-established approach to TeV {\\gamma}-ray astronomy. Detection of Cherenkov light produced in water-filled detection units is a proven and cost-effective approach. Here we discuss the optimization of the units towards the future Southern Wide-field Gamma-ray Observatory (SWGO). We investigate a configuration in which each Water Cherenkov Detector (WCD) unit in the array comprises two chambers with black or reflective walls and a single PMT in each chamber. A shallow lower chamber with a PMT facing downwards enables muon tagging and the identification of hadron-induced air showers, which are the primary source of background in {\\gamma}-ray astronomy. We investigate how {\\gamma}/hadron separation power and achievable angular resolution depend on the geometry and wall reflectivity of the detector units in this configuration. We find that excellent angular resolution, background rejection power and low-energy response are achievable in this double-layer configuration, with some reflective surfaces in both chambers. |\n",
       "|<p style=\"color:green\"> **ERROR** </p>| <p style=\"color:green\">affiliation error: mpia.affiliation_verifications: 'Heidelberg' keyword not found.</p> |"
      ],
      "text/plain": [
       "<IPython.core.display.Markdown object>"
      ]
     },
     "metadata": {},
     "output_type": "display_data"
    },
    {
     "data": {
      "text/markdown": [
       "\n",
       "|||\n",
       "|---:|:---|\n",
       "| [![arXiv](https://img.shields.io/badge/arXiv-arXiv:2209.09347-b31b1b.svg)](https://arxiv.org/abs/arXiv:2209.09347) | **Identifying the most constraining ice observations to infer molecular  binding energies**  |\n",
       "|| <mark>Johannes Heyl</mark>, Elena Sellentin, Jonathan Holdship, Serena Viti |\n",
       "|*Appeared on*| *2022-09-21*|\n",
       "|*Comments*| *10 pages, 4 figures, accepted for publication in MNRAS*|\n",
       "|**Abstract**| In order to understand grain-surface chemistry, one must have a good understanding of the reaction rate parameters. For diffusion-based reactions, these parameters are binding energies of the reacting species. However, attempts to estimate these values from grain-surface abundances using Bayesian inference are inhibited by a lack of enough sufficiently constraining data. In this work, we use the Massive Optimised Parameter Estimation and Data (MOPED) compression algorithm to determine which species should be prioritised for future ice observations to better constrain molecular binding energies. Using the results from this algorithm, we make recommendations for which species future observations should focus on. |\n",
       "|<p style=\"color:green\"> **ERROR** </p>| <p style=\"color:green\">affiliation error: mpia.affiliation_verifications: 'Heidelberg' keyword not found.</p> |"
      ],
      "text/plain": [
       "<IPython.core.display.Markdown object>"
      ]
     },
     "metadata": {},
     "output_type": "display_data"
    },
    {
     "data": {
      "text/markdown": [
       "\n",
       "|||\n",
       "|---:|:---|\n",
       "| [![arXiv](https://img.shields.io/badge/arXiv-arXiv:2209.09381-b31b1b.svg)](https://arxiv.org/abs/arXiv:2209.09381) | **Characterizing the Umbral Magnetic Knots of $δ$-Sunspots**  |\n",
       "|| A. A. Norton, et al. -- incl., <mark>M. G. Linton</mark>, <mark>Y. Liu</mark> |\n",
       "|*Appeared on*| *2022-09-21*|\n",
       "|*Comments*| *Accepted by the Astrophysical Journal. 28 pages, 12 figures*|\n",
       "|**Abstract**| Delta ($\\delta$)-spots are active regions (ARs) in which positive and negative umbrae share a penumbra. They are known to be the source of strong flares. We introduce a new quantity, the degree of $\\delta$ (Do$\\delta$), to measure the fraction of umbral flux participating in the $\\delta$-configuration and to isolate the dynamics of the magnetic knot, i.e. adjacent umbrae in the $\\delta$-configuration. Using Helioseismic and Magnetic Imager data, we analyze 19 $\\delta$-spots and 11 $\\beta$-spots in detail, and 120 $\\delta$-spots in less detail. We find that $\\delta$-regions are not in a $\\delta$-configuration for the entire time but spend 55$\\%$ of their observed time as $\\delta$-spots with an average, maximum Do$\\delta$ of 72$\\%$. Compared to $\\beta$-spots, $\\delta$-spots have 2.6$\\times$ the maximum umbral flux, 1.9$\\times$ the flux emergence rate, 2.6$\\times$ the rotation, and 72$\\times$ the flare energy. On average, the magnetic knots rotate 17$^{\\circ}$ day$^{-1}$ while the $\\beta$-spots rotate 2$^{\\circ}$ day$^{-1}$. Approximately 72$\\%$ of the magnetic knots present anti-Hale or anti-Joy tilts, contrasting starkly with only 9$\\%$ of the $\\beta$-spots. A positive correlation exists between $\\phi_{Do\\delta}$ and the flare energy emitted by that region. The $\\delta$-spots obey the hemispheric current helicity rule 64$\\%$ of the time. 84$\\%$ of the $\\delta$-spots are formed by single flux emergence events and 58$\\%$ have a quadrupolar magnetic configuration. The $\\delta$-spot characteristics are consistent with the formation mechanism signatures as follows: 42$\\%$ with the kink instability or Sigma effect, 32$\\%$ with multi-segment buoyancy, 16$\\%$ with collisions and two active regions that are unclassified but consistent with a rising O-ring. |\n",
       "|<p style=\"color:green\"> **ERROR** </p>| <p style=\"color:green\">affiliation error: mpia.affiliation_verifications: 'Heidelberg' keyword not found.</p> |"
      ],
      "text/plain": [
       "<IPython.core.display.Markdown object>"
      ]
     },
     "metadata": {},
     "output_type": "display_data"
    },
    {
     "data": {
      "text/markdown": [
       "\n",
       "|||\n",
       "|---:|:---|\n",
       "| [![arXiv](https://img.shields.io/badge/arXiv-arXiv:2209.09399-b31b1b.svg)](https://arxiv.org/abs/arXiv:2209.09399) | **A Rogue Planet Helps Populate the Distant Kuiper Belt**  |\n",
       "|| Yukun Huang, Brett Gladman, Matthew Beaudoin, <mark>Kevin Zhang</mark> |\n",
       "|*Appeared on*| *2022-09-21*|\n",
       "|*Comments*| *14 pages, 5 figures. accepted for publication in ApJ Letter. For associated animated movies, see this https URL*|\n",
       "|**Abstract**| The orbital distribution of transneptunian objects (TNOs) in the distant Kuiper Belt (with semimajor axes beyond the 2:1 resonance, roughly $a$=50-100 au) provides constraints on the dynamical history of the outer solar system. Recent studies show two striking features of this region: 1) a very large population of objects in distant mean-motion resonances with Neptune, and 2) the existence of a substantial detached population (non-resonant objects largely decoupled from Neptune). Neptune migration models are able to implant some resonant and detached objects during the planet migration era, but many fail to match a variety of aspects of the orbital distribution. In this work, we report simulations carried out using an improved version of the GPU-based code GLISSE, following 100,000 test particles per simulation in parallel while handling their planetary close encounters. We demonstrate for the first time that a 2 Earth-mass rogue planet temporarily present during planet formation can abundantly populate both the distant resonances and the detached populations, surprisingly even without planetary migration. We show how weak encounters with the rogue greatly increase the efficiency of filling the resonances, while also dislodging TNOs out of resonance once they reach high perihelia. The rogue's secular gravitational influence simultaneously generates numerous detached objects observed at all semimajor axes. These results suggest that the early presence of additional planet(s) reproduces the observed TNO orbital structure in the distant Kuiper Belt. |\n",
       "|<p style=\"color:green\"> **ERROR** </p>| <p style=\"color:green\">affiliation error: mpia.affiliation_verifications: 'Heidelberg' keyword not found.</p> |"
      ],
      "text/plain": [
       "<IPython.core.display.Markdown object>"
      ]
     },
     "metadata": {},
     "output_type": "display_data"
    },
    {
     "data": {
      "text/markdown": [
       "\n",
       "|||\n",
       "|---:|:---|\n",
       "| [![arXiv](https://img.shields.io/badge/arXiv-arXiv:2209.09461-b31b1b.svg)](https://arxiv.org/abs/arXiv:2209.09461) | **Numerical Simulation of Hot Accretion Flow around Bondi Radius**  |\n",
       "|| Amin Mosallanezhad, et al. -- incl., <mark>Liquan Mei</mark> |\n",
       "|*Appeared on*| *2022-09-21*|\n",
       "|*Comments*| *15 pages, 8 figures, accepted for publication in ApJ*|\n",
       "|**Abstract**| Previous numerical simulations have shown that strong winds can be produced in the hot accretion flows around black holes. Most of those studies focus only on the region close to the central black hole, therefore it is unclear whether the wind production stops at large radii around Bondi radius. Bu et al. 2016 studied the hot accretion flow around the Bondi radius in the presence of nuclear star gravity. They find that when the nuclear stars gravity is important/comparable to the black hole gravity, winds can not be produced around the Bondi radius. However, for some galaxies, the nuclear stars gravity around Bondi radius may not be strong. In this case, whether winds can be produced around Bondi radius is not clear. We study the hot accretion flow around Bondi radius with and without thermal conduction by performing hydrodynamical simulations. We use the virtual particles trajectory method to study whether winds exist based on the simulation data. Our numerical results show that in the absence of nuclear stars gravity, winds can be produced around Bondi radius, which causes the mass inflow rate decreasing inwards. We confirm the results of Yuan et al. which indicates this is due to the mass loss of gas via wind rather convectional motions. |\n",
       "|<p style=\"color:green\"> **ERROR** </p>| <p style=\"color:green\">affiliation error: mpia.affiliation_verifications: 'Heidelberg' keyword not found.</p> |"
      ],
      "text/plain": [
       "<IPython.core.display.Markdown object>"
      ]
     },
     "metadata": {},
     "output_type": "display_data"
    },
    {
     "data": {
      "text/markdown": [
       "\n",
       "|||\n",
       "|---:|:---|\n",
       "| [![arXiv](https://img.shields.io/badge/arXiv-arXiv:2209.09503-b31b1b.svg)](https://arxiv.org/abs/arXiv:2209.09503) | **Galaxy clusters at z~1 imaged by ALMA with the Sunyaev-Zel'dovich effect**  |\n",
       "|| T. Kitayama, et al. -- incl., <mark>S. Ueda</mark>, <mark>J. P. Hughes</mark>, <mark>Y.-T. Lin</mark> |\n",
       "|*Appeared on*| *2022-09-21*|\n",
       "|*Comments*| *26 pages, 13 figures, 8 tables, submitted to PASJ*|\n",
       "|**Abstract**| We present high angular-resolution measurements of the thermal Sunyaev-Zel'dovich effect (SZE) toward two galaxy clusters, RCS J2319+0038 at z=0.9 and HSC J0947-0119 at z=1.1, by the Atacama Large Millimeter/submillimeter Array (ALMA) in Band 3. They are supplemented with available Chandra X-ray data, optical data taken by Hyper Suprime-Cam on Subaru, and millimeter-wave SZE data from the Atacama Cosmology Telescope. Taking into account departures from spherical symmetry, we have reconstructed non-parametrically the inner pressure profile of two clusters as well as electron temperature and density profiles for RCS J2319+0038. This is one of the first such measurements for an individual cluster at $z \\gtrsim 0.9$. We find that the inner pressure profile of both clusters is much shallower than that of local cool-core clusters. Our results consistently suggest that RCS J2319+0038 hosts a weak cool core, where radiative cooling is less significant than in local cool cores. On the other hand, HSC J0947-0119 exhibits an even shallower pressure profile than RCS J2319+0038 and is more likely a non-cool-core cluster. The SZE centroid position is offset by more than 140 $h_{70}^{-1}$kpc from the peaks of galaxy distribution in HSC J0947-0119, suggesting a stronger influence of mergers in this cluster. We conclude that these distant clusters are at a very early stage of developing the cool cores typically found in clusters at lower redshifts. |\n",
       "|<p style=\"color:green\"> **ERROR** </p>| <p style=\"color:green\">affiliation error: mpia.affiliation_verifications: 'Heidelberg' keyword not found.</p> |"
      ],
      "text/plain": [
       "<IPython.core.display.Markdown object>"
      ]
     },
     "metadata": {},
     "output_type": "display_data"
    },
    {
     "data": {
      "text/markdown": [
       "\n",
       "|||\n",
       "|---:|:---|\n",
       "| [![arXiv](https://img.shields.io/badge/arXiv-arXiv:2209.09504-b31b1b.svg)](https://arxiv.org/abs/arXiv:2209.09504) | **Performance Analysis Techniques for Real-time Broadband RFI Filtering  System of uGMRT**  |\n",
       "|| Kaushal D. Buch, et al. -- incl., <mark>Mekhala Muley</mark> |\n",
       "|*Appeared on*| *2022-09-21*|\n",
       "|*Comments*| *14 pages, 5 figures*|\n",
       "|**Abstract**| Electromagnetic radiation from human activities, known as man-made Radio Frequency Interference (RFI), adversely affects radio astronomy observations. In the vicinity of the Upgraded Giant Metrewave Radio Telescope (uGMRT) array, the sparking on power lines is the major cause of interference at observing frequencies less than 800 MHz. A real-time broadband RFI detection and filtering system is implemented as part of the uGMRT wideband signal processing backend to mitigate the effect of broadband RFI. Performance analysis techniques used for testing and commissioning the system for observations in the beamformer and correlator modes of the uGMRT are presented. The concept and implementation of recording simultaneous unfiltered and filtered data along with data analysis and interpretation is illustrated using an example. For the beamformer mode, spectrogram, single spectral channel, and its Fourier transform is used for performance analysis whereas, in the correlator mode, the cross-correlation function, closure phase, and visibilities from the simultaneously recorded unfiltered and filtered is carried out. These techniques are used for testing the performance of the broadband RFI filter and releasing it for uGMRT users. |\n",
       "|<p style=\"color:green\"> **ERROR** </p>| <p style=\"color:green\">affiliation error: mpia.affiliation_verifications: 'Heidelberg' keyword not found.</p> |"
      ],
      "text/plain": [
       "<IPython.core.display.Markdown object>"
      ]
     },
     "metadata": {},
     "output_type": "display_data"
    },
    {
     "data": {
      "text/markdown": [
       "\n",
       "|||\n",
       "|---:|:---|\n",
       "| [![arXiv](https://img.shields.io/badge/arXiv-arXiv:2209.09544-b31b1b.svg)](https://arxiv.org/abs/arXiv:2209.09544) | **Design of microstrip-line coupled kinetic inductance detectors for near  infrared astronomy**  |\n",
       "|| Shiling Yu, et al. -- incl., <mark>Lihui Yang</mark>, <mark>Di Li</mark> |\n",
       "|*Appeared on*| *2022-09-21*|\n",
       "|*Comments*| **|\n",
       "|**Abstract**| Kinetic inductance detectors (KID) have great potential in astronomical observation, such as searching for exoplanets, because of their low noise, fast response and photon counting characteristics. In this paper, we present the design process and simulation results of a microstrip line coupled KIDs array for near-infrared astronomical observation. Compared with coplanar waveguide (CPW) feedlines, microstrip feedlines do not require air bridges, which simplify fabrication process. In the design part, we mainly focus on the impedance transforming networks, the KID structure, and the frequency crosstalk simulations. The test array has a total of 104 resonators with 8 rows and 13 columns, which ranges from 4.899~GHz to 6.194~GHz. The pitch size is about 200~$\\mu$m and the frequency crosstalk is less than 50~kHz in simulation. |\n",
       "|<p style=\"color:green\"> **ERROR** </p>| <p style=\"color:green\">affiliation error: mpia.affiliation_verifications: 'Heidelberg' keyword not found.</p> |"
      ],
      "text/plain": [
       "<IPython.core.display.Markdown object>"
      ]
     },
     "metadata": {},
     "output_type": "display_data"
    },
    {
     "data": {
      "text/markdown": [
       "\n",
       "|||\n",
       "|---:|:---|\n",
       "| [![arXiv](https://img.shields.io/badge/arXiv-arXiv:2209.09555-b31b1b.svg)](https://arxiv.org/abs/arXiv:2209.09555) | **Baseline correction for FAST radio recombination lines: a modified  penalized least squares smoothing technique**  |\n",
       "|| <mark>Bin Liu</mark>, et al. -- incl., <mark>Lixin Wang</mark> |\n",
       "|*Appeared on*| *2022-09-21*|\n",
       "|*Comments*| *accepted for publication in PASA*|\n",
       "|**Abstract**| A pilot project has been proceeded to map 1 deg$^2$ on the Galactic plane for radio recombination lines (RRLs) using the Five hundred meter Aperture Spherical Telescope (FAST). The motivation is to verify the techniques and reliabilities for a large-scale Galactic plane RRL survey with FAST aiming to investigate the ionized environment in the Galaxy. The data shows that the bandpass of the FAST 19 beam L-band is severely affected by radio frequency interferences (RFIs) and standing wave ripples, which can hardly be corrected by traditional low order polynomials. In this paper, we investigate a series of penalized least square (PLS) based baseline correction methods for radio astronomical spectra that usually contain weak signals with high level of noise. Three promising penalized least squares based methods, AsLS, arPLS, and asPLS are evaluated. Adopting their advantages, a modified method named rrlPLS is developed to optimize the baseline fitting to our RRL spectra. To check their effectiveness, the four methods are tested by simulations and further verified using observed data sets. It turns out that the rrlPLS method, with optimized parameter $\\lambda = 2 \\times 10^8$ , reveals the most sensitive and reliable emission features in the RRL map. By injecting artificial line profiles into the real data cube, a further evaluation of profile distortion is conducted for rrlPLS. Comparing to simulated signals, the processed lines with low signal-to-noise ratio are less affected, of which the uncertainties are mainly caused by the rms noise. The rrlPLS method will be applied for baseline correction in future data processing pipeline of FAST RRL survey. Configured with proper parameters, the rrlPLS technique verified in this work may also be used for other spectroscopy projects. |\n",
       "|<p style=\"color:green\"> **ERROR** </p>| <p style=\"color:green\">affiliation error: mpia.affiliation_verifications: 'Heidelberg' keyword not found.</p> |"
      ],
      "text/plain": [
       "<IPython.core.display.Markdown object>"
      ]
     },
     "metadata": {},
     "output_type": "display_data"
    },
    {
     "data": {
      "text/markdown": [
       "\n",
       "|||\n",
       "|---:|:---|\n",
       "| [![arXiv](https://img.shields.io/badge/arXiv-arXiv:2209.09559-b31b1b.svg)](https://arxiv.org/abs/arXiv:2209.09559) | **Spectroscopic detection of Altair's non-radial pulsations**  |\n",
       "|| M. Rieutord, et al. -- incl., <mark>T. Böhm</mark> |\n",
       "|*Appeared on*| *2022-09-21*|\n",
       "|*Comments*| *8 pages, 8 figures, submitted to Astronomy and Astrophysics*|\n",
       "|**Abstract**| Context: Rapid rotation is a common feature of early-type stars but which remains a challenge for the models. The understanding of its effect on stellar evolution is however imperative to interpret the observed properties of numerous stars. Aims: We wish to bring more observational constraints on the properties of fast rotating stars, especially on their oscillation modes. Methods: We focus on the nearby star Altair which is known as a very rapidly rotating star with an equatorial velocity estimated recently at 313 km/s. We observed this star with the high-resolution spectropolarimeter Neo-Narval during six nights, with one night of interruption, in September 2020. Results: We detect significant line profile variations on the mean line profile of the spectra. Their time-frequency analysis shows that these variations are induced by gravito-inertial waves propagating at Altair's surface with azimuthal wavenumbers of order $m=10-15$. With a preliminary computation of the eigenspectrum using the most recent concordance model of Altair we can give a first modelling of the observed waves. Conclusions: Altair was known as the brightest $\\delta$ Scuti star. We now see that it is the brightest hybrid oscillating star with excited gravito-inertial waves and acoustic waves. Clearly, more observations and more advanced models are needed to explain the observations in greater details |\n",
       "|<p style=\"color:green\"> **ERROR** </p>| <p style=\"color:green\">affiliation error: mpia.affiliation_verifications: 'Heidelberg' keyword not found.</p> |"
      ],
      "text/plain": [
       "<IPython.core.display.Markdown object>"
      ]
     },
     "metadata": {},
     "output_type": "display_data"
    },
    {
     "data": {
      "text/markdown": [
       "\n",
       "|||\n",
       "|---:|:---|\n",
       "| [![arXiv](https://img.shields.io/badge/arXiv-arXiv:2209.09597-b31b1b.svg)](https://arxiv.org/abs/arXiv:2209.09597) | **TESS discovery of a super-Earth and two sub-Neptunes orbiting the  bright, nearby, Sun-like star HD 22946**  |\n",
       "|| Luca Cacciapuoti, et al. -- incl., <mark>Carl Ziegler</mark>, <mark>Livia Marcellino</mark>, <mark>Lisa Kaltenegger</mark> |\n",
       "|*Appeared on*| *2022-09-21*|\n",
       "|*Comments*| *21 pages, 12 figures. Accepted for publication on A&A*|\n",
       "|**Abstract**| We report the Transiting Exoplanet Survey Satellite (TESS) discovery of a three-planet system around the bright Sun-like star HD~22946(V=8.3 mag),also known as TIC~100990000, located 63 parsecs away.The system was observed by TESS in Sectors 3, 4, 30 and 31 and two planet candidates, labelled TESS Objects of Interest (TOIs) 411.01 (planet $c$) and 411.02 (planet $b$), were identified on orbits of 9.57 and 4.04 days, respectively. In this work, we validate the two planets and recover an additional single transit-like signal in the light curve, which suggests the presence of a third transiting planet with a longer period of about 46 days.We assess the veracity of the TESS transit signals and use follow-up imaging and time series photometry to rule out false positive scenarios, including unresolved binary systems, nearby eclipsing binaries or background/foreground stars contaminating the light curves. Parallax measurements from Gaia EDR3, together with broad-band photometry and spectroscopic follow-up by TFOP allowed us to constrain the stellar parameters of TOI-411, including its radius of$1.157\\pm0.025R_\\odot$. Adopting this value, we determined the radii for the three exoplanet candidates and found that planet $b$ is a super-Earth, with a radius of $1.72\\pm0.10R_\\oplus$, while planet $c$ and $d$ are sub-Neptunian planets, with radii of$2.74\\pm0.14R_\\oplus$ and $3.23\\pm0.19R_\\oplus$ respectively. By using dynamical simulations, we assessed the stability of the system and evaluated the possibility of the presence of other undetected, non-transiting planets by investigating its dynamical packing. We find that the system is dynamically stable and potentially unpacked, with enough space to host at least one more planet between $c$ and $d$.(Abridged) |\n",
       "|<p style=\"color:green\"> **ERROR** </p>| <p style=\"color:green\">affiliation error: mpia.affiliation_verifications: 'Heidelberg' keyword not found.</p> |"
      ],
      "text/plain": [
       "<IPython.core.display.Markdown object>"
      ]
     },
     "metadata": {},
     "output_type": "display_data"
    },
    {
     "data": {
      "text/markdown": [
       "\n",
       "|||\n",
       "|---:|:---|\n",
       "| [![arXiv](https://img.shields.io/badge/arXiv-arXiv:2209.09601-b31b1b.svg)](https://arxiv.org/abs/arXiv:2209.09601) | **CHEX-MATE: pressure profiles of 6 galaxy clusters as seen by SPT and  Planck**  |\n",
       "|| Filippo Oppizzi, et al. -- incl., <mark>Hervé Bourdin</mark> |\n",
       "|*Appeared on*| *2022-09-21*|\n",
       "|*Comments*| *19 pages, 13 figures, submitted to A&A*|\n",
       "|**Abstract**| Pressure profiles are sensitive probes of the thermodynamic conditions and the internal structure of galaxy clusters. The intra-cluster gas resides in hydrostatic equilibrium within the Dark Matter gravitational potential. However, this equilibrium may be perturbed, e.g. as a consequence of thermal energy losses, feedback and non-thermal pressure supports. Accurate measures of the gas pressure over the cosmic times are crucial to constrain the cluster evolution as well as the contribution of astrophysical processes. In this work we presented a novel algorithm to derive the pressure profiles of galaxy clusters from the Sunyaev-Zeldovich (SZ) signal measured on a combination of Planck and South Pole Telescope (SPT) observations. The synergy of the two instruments made it possible to track the profiles on a wide range of spatial scales. We exploited the sensitivity to the larger scales of the Planck High-Frequency Instrument to observe the faint peripheries, and the higher spatial resolution of SPT to solve the innermost regions. We developed a two-step pipeline to take advantage of the specifications of each instrument. We first performed a component separation on the two data-sets separately to remove the background (CMB) and foreground (galactic emission) contaminants. Then we jointly fitted a parametric pressure profile model on a combination of Planck and SPT data. We validated our technique on a sample of 6 CHEX-MATE clusters detected by SPT. We compare the results of the SZ analysis with profiles derived from X-ray observations with XMM-Newton. We find an excellent agreement between these two independent probes of the gas pressure structure. |\n",
       "|<p style=\"color:green\"> **ERROR** </p>| <p style=\"color:green\">affiliation error: mpia.affiliation_verifications: 'Heidelberg' keyword not found.</p> |"
      ],
      "text/plain": [
       "<IPython.core.display.Markdown object>"
      ]
     },
     "metadata": {},
     "output_type": "display_data"
    },
    {
     "data": {
      "text/markdown": [
       "\n",
       "|||\n",
       "|---:|:---|\n",
       "| [![arXiv](https://img.shields.io/badge/arXiv-arXiv:2209.09665-b31b1b.svg)](https://arxiv.org/abs/arXiv:2209.09665) | **Multi-scale dynamics in star-forming regions: the interplay between  gravity and turbulence**  |\n",
       "|| A. Traficante, et al. -- incl., <mark>M. H. Heyer</mark> |\n",
       "|*Appeared on*| *2022-09-21*|\n",
       "|*Comments*| *Proceedings of the \"Multi-line Diagnostics of the Interstellar Medium\" IRAM conference, Nice, France*|\n",
       "|**Abstract**| In the multi-scale view of the star formation process the material flows from large molecular clouds down to clumps and cores. In this paradigm it is still unclear if it is gravity or turbulence that drives the observed supersonic non-thermal motions during the collapse, in particular in high-mass regions, and at which scales gravity becomes eventually dominant over the turbulence of the interstellar medium. To investigate this problem we have combined the dynamics of a sample of 70 micron-quiet clumps, selected to cover a wide range of masses and surface densities, with the dynamics of the parent filaments in which they are embedded. We observe a continuous interplay between turbulence and gravity, where the former creates structures at all scales and the latter takes the lead when a critical value of the surface density is reached, Sigma_th = 0.1 g cm^-2. In the densest filaments this transition can occur at the parsec, or even larger scales, leading to a global collapse of the whole region and most likely to the formation of the massive objects. |\n",
       "|<p style=\"color:green\"> **ERROR** </p>| <p style=\"color:green\">affiliation error: mpia.affiliation_verifications: 'Heidelberg' keyword not found.</p> |"
      ],
      "text/plain": [
       "<IPython.core.display.Markdown object>"
      ]
     },
     "metadata": {},
     "output_type": "display_data"
    },
    {
     "data": {
      "text/markdown": [
       "\n",
       "|||\n",
       "|---:|:---|\n",
       "| [![arXiv](https://img.shields.io/badge/arXiv-arXiv:2209.09673-b31b1b.svg)](https://arxiv.org/abs/arXiv:2209.09673) | **ExoClock Project III: 450 new exoplanet ephemerides from ground and  space observations**  |\n",
       "|| A. Kokori, et al. -- incl., <mark>F. Walter</mark> |\n",
       "|*Appeared on*| *2022-09-21*|\n",
       "|*Comments*| *Recommended for publication to ApJS (reviewer's comments implemented). Main body: 13 pages, total: 77 pages, 7 figures, 7 tables. Data available at this http URL*|\n",
       "|**Abstract**| The ExoClock project has been created with the aim of increasing the efficiency of the Ariel mission. It will achieve this by continuously monitoring and updating the ephemerides of Ariel candidates over an extended period, in order to produce a consistent catalogue of reliable and precise ephemerides. This work presents a homogenous catalogue of updated ephemerides for 450 planets, generated by the integration of $\\sim$18000 data points from multiple sources. These sources include observations from ground-based telescopes (ExoClock network and ETD), mid-time values from the literature and light-curves from space telescopes (Kepler/K2 and TESS). With all the above, we manage to collect observations for half of the post-discovery years (median), with data that have a median uncertainty less than one minute. In comparison with literature, the ephemerides generated by the project are more precise and less biased. More than 40\\% of the initial literature ephemerides had to be updated to reach the goals of the project, as they were either of low precision or drifting. Moreover, the integrated approach of the project enables both the monitoring of the majority of the Ariel candidates (95\\%), and also the identification of missing data. The dedicated ExoClock network effectively supports this task by contributing additional observations when a gap in the data is identified. These results highlight the need for continuous monitoring to increase the observing coverage of the candidate planets. Finally, the extended observing coverage of planets allows us to detect trends (TTVs - Transit Timing Variations) for a sample of 19 planets. All products, data, and codes used in this work are open and accessible to the wider scientific community. |\n",
       "|<p style=\"color:green\"> **ERROR** </p>| <p style=\"color:green\">affiliation error: mpia.affiliation_verifications: 'Heidelberg' keyword not found.</p> |"
      ],
      "text/plain": [
       "<IPython.core.display.Markdown object>"
      ]
     },
     "metadata": {},
     "output_type": "display_data"
    },
    {
     "data": {
      "text/markdown": [
       "\n",
       "|||\n",
       "|---:|:---|\n",
       "| [![arXiv](https://img.shields.io/badge/arXiv-arXiv:2209.09695-b31b1b.svg)](https://arxiv.org/abs/arXiv:2209.09695) | **Searching for axion dark matter with MeerKAT Radio Telescope**  |\n",
       "|| Yun-Fan Zhou, et al. -- incl., <mark>Shao-Guang Guo</mark>, <mark>Mengtian Li</mark> |\n",
       "|*Appeared on*| *2022-09-21*|\n",
       "|*Comments*| *6 pages, 3 figures, accepted by Physical Review D*|\n",
       "|**Abstract**| Axions provide a natural and well-motivated dark matter candidate, with the capability to convert directly to photons in the presence of an electromagnetic field. A particularly compelling observational target is the conversion of dark matter axions into photons in the magnetospheres of highly magnetised neutron stars, which is expected to produce a narrow spectral peak centred at the frequency of the axion mass. We point the MeerKAT radio telescope towards the isolated neutron star J0806.4$-$4123 for $10$-hours of observation and obtain the radio spectra in the frequency range $769$-$1051$ MHz. By modelling the conversion process of infalling axion dark matter (DM) we then compare these spectra to theoretical expectations for a given choice of axion parameters. Whilst finding no signal above $5\\sigma$ in the data, we provide a unique constraint on the Primakoff coupling of axion DM, $g_{{\\rm a}\\gamma\\gamma}\\lesssim 9.3 \\times 10^{-12}\\,{\\rm GeV}^{-1}$ at the $95\\%$ confidence level, in the mass range $3.18$-$4.35\\,\\mu$eV. This result serves the strongest constraint in the axion mass range $4.20$-$4.35\\,\\mu$eV. |\n",
       "|<p style=\"color:green\"> **ERROR** </p>| <p style=\"color:green\">affiliation error: mpia.affiliation_verifications: 'Heidelberg' keyword not found.</p> |"
      ],
      "text/plain": [
       "<IPython.core.display.Markdown object>"
      ]
     },
     "metadata": {},
     "output_type": "display_data"
    },
    {
     "data": {
      "text/markdown": [
       "\n",
       "|||\n",
       "|---:|:---|\n",
       "| [![arXiv](https://img.shields.io/badge/arXiv-arXiv:2209.09782-b31b1b.svg)](https://arxiv.org/abs/arXiv:2209.09782) | **Dark Energy Survey Year 3 results: Magnification modeling and impact on  cosmological constraints from galaxy clustering and galaxy-galaxy lensing**  |\n",
       "|| J. Elvin-Poole, et al. -- incl., <mark>K. Herner</mark>, <mark>I. Harrison</mark>, <mark>E. Krause</mark>, <mark>A. R. Liddle</mark> |\n",
       "|*Appeared on*| *2022-09-21*|\n",
       "|*Comments*| *21 pages, 13 figures, See this this https URL URL for the full DES Y3 cosmology release*|\n",
       "|**Abstract**| We study the effect of magnification in the Dark Energy Survey Year 3 analysis of galaxy clustering and galaxy-galaxy lensing, using two different lens samples: a sample of Luminous red galaxies, redMaGiC, and a sample with a redshift-dependent magnitude limit, MagLim. We account for the effect of magnification on both the flux and size selection of galaxies, accounting for systematic effects using the Balrog image simulations. We estimate the impact of magnification on the galaxy clustering and galaxy-galaxy lensing cosmology analysis, finding it to be a significant systematic for the MagLim sample. We show cosmological constraints from the galaxy clustering auto-correlation and galaxy-galaxy lensing signal with different magnifications priors, finding broad consistency in cosmological parameters in $\\Lambda$CDM and $w$CDM. However, when magnification bias amplitude is allowed to be free, we find the two-point correlations functions prefer a different amplitude to the fiducial input derived from the image simulations. We validate the magnification analysis by comparing the cross-clustering between lens bins with the prediction from the baseline analysis, which uses only the auto-correlation of the lens bins, indicating systematics other than magnification may be the cause of the discrepancy. We show adding the cross-clustering between lens redshift bins to the fit significantly improves the constraints on lens magnification parameters and allows uninformative priors to be used on magnification coefficients, without any loss of constraining power or prior volume concerns. |\n",
       "|<p style=\"color:green\"> **ERROR** </p>| <p style=\"color:green\">affiliation error: mpia.affiliation_verifications: 'Heidelberg' keyword not found.</p> |"
      ],
      "text/plain": [
       "<IPython.core.display.Markdown object>"
      ]
     },
     "metadata": {},
     "output_type": "display_data"
    },
    {
     "data": {
      "text/markdown": [
       "\n",
       "|||\n",
       "|---:|:---|\n",
       "| [![arXiv](https://img.shields.io/badge/arXiv-arXiv:2209.09864-b31b1b.svg)](https://arxiv.org/abs/arXiv:2209.09864) | **Development of the Low Frequency Telescope Focal Plane Detector Modules  for LiteBIRD**  |\n",
       "|| Benjamin Westbrook, et al. -- incl., <mark>Adrian T. Lee</mark>, <mark>Michael J. Link</mark> |\n",
       "|*Appeared on*| *2022-09-21*|\n",
       "|*Comments*| *SPIE Astronomical Telescope + Instrumentation (AS22)*|\n",
       "|**Abstract**| LiteBIRD is a JAXA-led strategic large-class satellite mission designed to measure the polarization of the cosmic microwave background and Galactic foregrounds from 34 to 448 GHz across the entire sky from L2 in the late 2020s. The scientific payload includes three telescopes which are called the low-, mid-, and high-frequency telescopes each with their own receiver that covers a portion of the mission's frequency range. The low frequency telescope will map synchrotron radiation from the Galactic foreground and the cosmic microwave background. We discuss the design, fabrication, and characterization of the low-frequency focal plane modules for low-frequency telescope, which has a total bandwidth ranging from 34 to 161 GHz. There will be a total of 4 different pixel types with 8 overlapping bands to cover the full frequency range. These modules are housed in a single low-frequency focal plane unit which provides thermal isolation, mechanical support, and radiative baffling for the detectors. The module design implements multi-chroic lenslet-coupled sinuous antenna arrays coupled to transition edge sensor bolometers read out with frequency-domain mulitplexing. While this technology has strong heritage in ground-based cosmic microwave background experiments, the broad frequency coverage, low optical loading conditions, and the high cosmic ray background of the space environment require further development of this technology to be suitable for LiteBIRD. In these proceedings, we discuss the optical and bolometeric characterization of a triplexing prototype pixel with bands centered on 78, 100, and 140 GHz. |\n",
       "|<p style=\"color:green\"> **ERROR** </p>| <p style=\"color:green\">affiliation error: mpia.affiliation_verifications: 'Heidelberg' keyword not found.</p> |"
      ],
      "text/plain": [
       "<IPython.core.display.Markdown object>"
      ]
     },
     "metadata": {},
     "output_type": "display_data"
    },
    {
     "data": {
      "text/markdown": [
       "\n",
       "|||\n",
       "|---:|:---|\n",
       "| [![arXiv](https://img.shields.io/badge/arXiv-arXiv:2209.09877-b31b1b.svg)](https://arxiv.org/abs/arXiv:2209.09877) | **Revealing high-z Fermi-LAT BL Lacs using Swift and SARA data with  photometric analysis**  |\n",
       "|| Y. Sheng, et al. -- incl., <mark>N. Torres-Alba</mark> |\n",
       "|*Appeared on*| *2022-09-21*|\n",
       "|*Comments*| *16pages, 7 figures*|\n",
       "|**Abstract**| BL Lacertae (BL Lac) objects are one type of blazar, distinguished by their featureless optical spectrum. This presents a challenge in measuring the redshift of the BL Lacs. This paper uses the photometric dropout technique to measure the redshifts of BL Lac objects. Space-based telescope \\emph{Swift} and ground-based SARA telescopes are employed to provide magnitudes in the $uvw2,\\ uvm2,\\ uvw1,\\ u,\\ b,\\ v,\\ g',\\ r',\\ i',\\ z'$ filters. We observe 60 BL Lacs and report reliable redshift upper limits for 41 sources. We discover four high-$z$ BL Lacs ($z>1.3$), bringing the number of high-$z$ BL Lacs found by this method up to 20. We also discuss the blazar sequence, the \\emph{Fermi} blazar divide, and the gamma-ray horizon using the 4LAC catalog and all high-$z$ BL Lacs discovered with the photo-z technique. |\n",
       "|<p style=\"color:green\"> **ERROR** </p>| <p style=\"color:green\">affiliation error: mpia.affiliation_verifications: 'Heidelberg' keyword not found.</p> |"
      ],
      "text/plain": [
       "<IPython.core.display.Markdown object>"
      ]
     },
     "metadata": {},
     "output_type": "display_data"
    },
    {
     "data": {
      "text/markdown": [
       "\n",
       "|||\n",
       "|---:|:---|\n",
       "| [![arXiv](https://img.shields.io/badge/arXiv-arXiv:2209.09763-b31b1b.svg)](https://arxiv.org/abs/arXiv:2209.09763) | **The Einstein Probe Mission**  |\n",
       "|| Weimin Yuan, <mark>Chen Zhang</mark>, Yong Chen, <mark>Zhixing Ling</mark> |\n",
       "|*Appeared on*| *2022-09-21*|\n",
       "|*Comments*| *29 pages, 23 figures; Invited chapter for Handbook of X-ray and Gamma-ray Astrophysics (Eds. C. Bambi and A. Santangelo, Springer Singapore, expected in 2022)*|\n",
       "|**Abstract**| The Einstein Probe (EP) is a mission designed to monitor the sky in the soft X-ray band. It will perform systematic surveys and characterisation of high-energy transients and monitoring of variable objects at unprecedented sensitivity and monitoring cadences. It has a large instantaneous field-of-view (3,600 sq. deg.), that is realised via the lobster-eye micro-pore X-ray focusing optics. EP also carries a conventional X-ray focusing telescope with a larger effective area to perform followup observations and precise positioning of newly-discovered transients. Alerts for transient objects will be issued publicly and timely. The scientific goals of EP are concerned with discovering faint, distant or rare types of high-energy transients and variable sources. Within the confines of a modest-sized mission, EP will cover a wide range of scientific topics, from the nearby to high-redshift Universe. The Einstein Probe is a mission of the Chinese Academy of Sciences, and also an international collaborative project. This paper presents the background, scientific objectives, and the mission design including the micro-pore optics and CMOS technologies adopted, the instruments and their expected performance, and the mission profile. The development status of the project is also presented. |\n",
       "|<p style=\"color:red\"> **ERROR** </p>| <p style=\"color:red\">latex error 'utf-8' codec can't decode byte 0xd1 in position 10013: invalid continuation byte</p> |"
      ],
      "text/plain": [
       "<IPython.core.display.Markdown object>"
      ]
     },
     "metadata": {},
     "output_type": "display_data"
    }
   ],
   "source": [
    "import datetime\n",
    "today = str(datetime.date.today())\n",
    "logfile = f\"_build/html/logs/log-{today}.md\"\n",
    "\n",
    "\n",
    "with open(logfile, 'w') as logs:\n",
    "    # Success\n",
    "    logs.write(f'# Arxiv on Deck 2: Logs - {today}\\n\\n')\n",
    "    logs.write(\"\"\"* Arxiv had {0:,d} new papers\\n\"\"\".format(len(new_papers)))\n",
    "    logs.write(\"\"\"    * {0:,d} with possible author matches\\n\\n\"\"\".format(len(candidates)))\n",
    "    logs.write(\"## Sucessful papers\\n\\n\")\n",
    "    display(Markdown(\"## Successful papers\"))\n",
    "    success = [k[0] for k in documents]\n",
    "    for candid in candidates:\n",
    "        if candid['identifier'].split(':')[-1] in success:\n",
    "            display(candid)\n",
    "            logs.write(candid.generate_markdown_text() + '\\n\\n')\n",
    "\n",
    "    ## failed\n",
    "    logs.write(\"## Failed papers\\n\\n\")\n",
    "    display(Markdown(\"## Failed papers\"))\n",
    "    failed = sorted(failed, key=lambda x: x[1])\n",
    "    current_reason = \"\"\n",
    "    for paper, reason in failed:\n",
    "        if 'affiliation' in reason:\n",
    "            color = 'green'\n",
    "        else:\n",
    "            color = 'red'\n",
    "        data = Markdown(\n",
    "                paper.generate_markdown_text() + \n",
    "                f'\\n|<p style=\"color:{color:s}\"> **ERROR** </p>| <p style=\"color:{color:s}\">{reason:s}</p> |'\n",
    "               )\n",
    "        if reason != current_reason:\n",
    "            logs.write(f'### {reason:s} \\n\\n')\n",
    "            current_reason = reason\n",
    "        logs.write(data.data + '\\n\\n')\n",
    "        \n",
    "        # only display here the important errors (all in logs)\n",
    "        # if color in ('red',):\n",
    "        display(data)"
   ]
  },
  {
   "cell_type": "markdown",
   "id": "472d20ee",
   "metadata": {
    "papermill": {
     "duration": 0.011439,
     "end_time": "2022-09-21T05:19:26.290386",
     "exception": false,
     "start_time": "2022-09-21T05:19:26.278947",
     "status": "completed"
    },
    "tags": []
   },
   "source": [
    "## Export documents\n",
    "\n",
    "We now write the .md files and export relevant images"
   ]
  },
  {
   "cell_type": "code",
   "execution_count": 7,
   "id": "d426aed9",
   "metadata": {
    "execution": {
     "iopub.execute_input": "2022-09-21T05:19:26.315534Z",
     "iopub.status.busy": "2022-09-21T05:19:26.314723Z",
     "iopub.status.idle": "2022-09-21T05:19:26.323315Z",
     "shell.execute_reply": "2022-09-21T05:19:26.322633Z"
    },
    "papermill": {
     "duration": 0.022887,
     "end_time": "2022-09-21T05:19:26.324820",
     "exception": false,
     "start_time": "2022-09-21T05:19:26.301933",
     "status": "completed"
    },
    "tags": []
   },
   "outputs": [],
   "source": [
    "def export_markdown_summary(md: str, md_fname:str, directory: str):\n",
    "    \"\"\"Export MD document and associated relevant images\"\"\"\n",
    "    import os\n",
    "    import shutil\n",
    "    import re\n",
    "\n",
    "    if (os.path.exists(directory) and not os.path.isdir(directory)):\n",
    "        raise RuntimeError(f\"a non-directory file exists with name {directory:s}\")\n",
    "\n",
    "    if (not os.path.exists(directory)):\n",
    "        print(f\"creating directory {directory:s}\")\n",
    "        os.mkdir(directory)\n",
    "\n",
    "    fig_fnames = (re.compile(r'\\[Fig.*\\]\\((.*)\\)').findall(md) + \n",
    "                  re.compile(r'\\<img src=\"([^>\\s]*)\"[^>]*/>').findall(md))\n",
    "    for fname in fig_fnames:\n",
    "        if 'http' in fname:\n",
    "            # No need to copy online figures\n",
    "            continue\n",
    "        destdir = os.path.join(directory, os.path.dirname(fname))\n",
    "        destfname = os.path.join(destdir, os.path.basename(fname))\n",
    "        try:\n",
    "            os.makedirs(destdir)\n",
    "        except FileExistsError:\n",
    "            pass\n",
    "        shutil.copy(fname, destfname)\n",
    "    with open(os.path.join(directory, md_fname), 'w') as fout:\n",
    "        fout.write(md)\n",
    "    print(\"exported in \", os.path.join(directory, md_fname))\n",
    "    [print(\"    + \" + os.path.join(directory,fk)) for fk in fig_fnames]"
   ]
  },
  {
   "cell_type": "code",
   "execution_count": 8,
   "id": "014d04a4",
   "metadata": {
    "execution": {
     "iopub.execute_input": "2022-09-21T05:19:26.349705Z",
     "iopub.status.busy": "2022-09-21T05:19:26.349086Z",
     "iopub.status.idle": "2022-09-21T05:19:26.361409Z",
     "shell.execute_reply": "2022-09-21T05:19:26.360639Z"
    },
    "papermill": {
     "duration": 0.027007,
     "end_time": "2022-09-21T05:19:26.363041",
     "exception": false,
     "start_time": "2022-09-21T05:19:26.336034",
     "status": "completed"
    },
    "tags": []
   },
   "outputs": [
    {
     "name": "stdout",
     "output_type": "stream",
     "text": [
      "exported in  _build/html/2209.09823.md\n",
      "    + _build/html/tmp_2209.09823/./Dhouib_fig1.png\n",
      "    + _build/html/tmp_2209.09823/./Dhouib_fig2.png\n",
      "    + _build/html/tmp_2209.09823/./Dhouib_fig3.png\n",
      "    + _build/html/tmp_2209.09823/./Dhouib_fig4.png\n"
     ]
    }
   ],
   "source": [
    "for paper_id, md in documents:\n",
    "    export_markdown_summary(md, f\"{paper_id:s}.md\", '_build/html/')"
   ]
  },
  {
   "cell_type": "markdown",
   "id": "f087a0a7",
   "metadata": {
    "papermill": {
     "duration": 0.01166,
     "end_time": "2022-09-21T05:19:26.386288",
     "exception": false,
     "start_time": "2022-09-21T05:19:26.374628",
     "status": "completed"
    },
    "tags": []
   },
   "source": [
    "## Display the papers\n",
    "\n",
    "Not necessary but allows for a quick check."
   ]
  },
  {
   "cell_type": "code",
   "execution_count": 9,
   "id": "fd25f625",
   "metadata": {
    "execution": {
     "iopub.execute_input": "2022-09-21T05:19:26.412090Z",
     "iopub.status.busy": "2022-09-21T05:19:26.411297Z",
     "iopub.status.idle": "2022-09-21T05:19:26.420611Z",
     "shell.execute_reply": "2022-09-21T05:19:26.419845Z"
    },
    "papermill": {
     "duration": 0.024002,
     "end_time": "2022-09-21T05:19:26.422232",
     "exception": false,
     "start_time": "2022-09-21T05:19:26.398230",
     "status": "completed"
    },
    "scrolled": false,
    "tags": []
   },
   "outputs": [
    {
     "data": {
      "text/markdown": [
       "<div class=\"macros\" style=\"visibility:hidden;\">\n",
       "$\\newcommand{\\ensuremath}{}$\n",
       "$\\newcommand{\\xspace}{}$\n",
       "$\\newcommand{\\object}[1]{\\texttt{#1}}$\n",
       "$\\newcommand{\\farcs}{{.}''}$\n",
       "$\\newcommand{\\farcm}{{.}'}$\n",
       "$\\newcommand{\\arcsec}{''}$\n",
       "$\\newcommand{\\arcmin}{'}$\n",
       "$\\newcommand{\\ion}[2]{#1#2}$\n",
       "$\\newcommand{\\textsc}[1]{\\textrm{#1}}$\n",
       "$\\newcommand{\\hl}[1]{\\textrm{#1}}$\n",
       "$\\newcommand{\\kms}{{\\mathrm{km~s^{-1}}}}$\n",
       "$\\newcommand{\\kpc}{{\\mathrm{kpc}}}$\n",
       "$\\newcommand{\\thefootnote}{\\fnsymbol{footnote}}$\n",
       "$\\newcommand{\\BibTeX}{{\\rm B\\kern-.05em{\\sc i\\kern-.025em b}$\n",
       "$    T\\kern-.1667em\\lower.7ex\\hbox{E}\\kern-.125emX}}$</div>\n",
       "\n",
       "<div class=\"macros\" style=\"visibility:hidden;\">\n",
       "$\\newcommand{$\\ensuremath$}{}$\n",
       "$\\newcommand{$\\xspace$}{}$\n",
       "$\\newcommand{$\\object$}[1]{\\texttt{#1}}$\n",
       "$\\newcommand{$\\farcs$}{{.}''}$\n",
       "$\\newcommand{$\\farcm$}{{.}'}$\n",
       "$\\newcommand{$\\arcsec$}{''}$\n",
       "$\\newcommand{$\\arcmin$}{'}$\n",
       "$\\newcommand{$\\ion$}[2]{#1#2}$\n",
       "$\\newcommand{$\\textsc$}[1]{\\textrm{#1}}$\n",
       "$\\newcommand{$\\hl$}[1]{\\textrm{#1}}$\n",
       "$\\newcommand{$\\kms$}{{\\mathrm{km~s^{-1}}}}$\n",
       "$\\newcommand{$\\kpc$}{{\\mathrm{kpc}}}$\n",
       "$\\newcommand{$\\thefootnote$}{\\fnsymbol{footnote}}$\n",
       "$\\newcommand{\\BibTeX}{{\\rm B\\kern-.05em{\\sc i\\kern-.025em b}$\n",
       "$    T\\kern-.1667em\\lower.7ex\\hbox{E}\\kern-.125emX}}$</div>\n",
       "\n",
       "\n",
       "\n",
       "<div id=\"title\">\n",
       "\n",
       "#  stars?\n",
       "\n",
       "</div>\n",
       "<div id=\"comments\">\n",
       "\n",
       "[![arXiv](https://img.shields.io/badge/arXiv-2209.09823-b31b1b.svg)](https://arxiv.org/abs/2209.09823)<mark>Appeared on: 2022-09-21</mark> - _4 pages, 2 figures. Proceeding of the Annual meeting of the French Society of Astronomy and Astrophysics (SF2A 2022)_\n",
       "\n",
       "</div>\n",
       "<div id=\"authors\">\n",
       "\n",
       "H. Dhouib, et al.\n",
       "\n",
       "</div>\n",
       "<div id=\"abstract\">\n",
       "\n",
       "**Abstract:** One of the major discoveries of asteroseismology is the signature of a strong extraction of angular momentum (AM) in the radiative zones of stars across the entire Hertzsprung-Russell diagram, resulting in weak core-to-surface rotation contrasts. Despite all efforts, a consistent AM transport theory, which reproduces both the internal rotation and mixing probed thanks to the seismology of stars, remains one of the major open problems in modern stellar astrophysics.A possible key ingredient to figure out this puzzle is magnetic field with its various possible topologies. Among them, strong axisymmetric toroidal fields, which are subject to the so-called Tayler MHD instability, could play a major role. They could trigger a dynamo action in radiative layers while the resulting magnetic torque allows an efficient transport of AM.But is it possible to detect signatures of these deep toroidal magnetic fields?The only way to answer this question is asteroseismology and the best laboratories of study are intermediate-mass and massive stars because of their external radiative envelope. Since most of these are rapid rotators during their main-sequence, we have to study stellar pulsations propagating in stably stratified, rotating, and potentially strongly magnetised radiative zones.For that, we generalise the traditional approximation of rotation, which provides in its classic version a flexible treatment of the adiabatic propagation of gravito-inertial modes, by taking simultaneously general axisymmetric differential rotation and toroidal magnetic fields into account.Using this new non-perturbative formalism, we derive the asymptotic properties of magneto-gravito-inertial modes and we explore the different possible field configurations. We found that the magnetic effects should be detectable for equatorial fields using high-precision asteroseismic data.\n",
       "\n",
       "</div>\n",
       "\n",
       "<div id=\"div_fig1\">\n",
       "\n",
       "<img src=\"tmp_2209.09823/./Dhouib_fig1.png\" alt=\"Fig1.1\" width=\"50%\"/><img src=\"tmp_2209.09823/./Dhouib_fig2.png\" alt=\"Fig1.2\" width=\"50%\"/>\n",
       "\n",
       "**Figure 1. -** Equatorial {\\bf (Left)} and hemispheric {\\bf (Right)} toroidal magnetic configurations. (*fig:field*)\n",
       "\n",
       "</div>\n",
       "<div id=\"div_fig2\">\n",
       "\n",
       "<img src=\"tmp_2209.09823/./Dhouib_fig3.png\" alt=\"Fig2.1\" width=\"50%\"/><img src=\"tmp_2209.09823/./Dhouib_fig4.png\" alt=\"Fig2.2\" width=\"50%\"/>\n",
       "\n",
       "**Figure 2. -** Detectability of the effect of an equatorial {\\bf (Left)} and hemispheric {\\bf (Right)} toroidal magnetic fields on the $\\{k=0,m=1\\}$ mode as a function of the radial order  $n$ using a $1.6{\\rm M}_\\odot$$\\gamma $Dor model near ZAMS. (*fig:detect*)\n",
       "\n",
       "</div>"
      ],
      "text/plain": [
       "<IPython.core.display.Markdown object>"
      ]
     },
     "metadata": {},
     "output_type": "display_data"
    }
   ],
   "source": [
    "[display(Markdown(k[1])) for k in documents];"
   ]
  },
  {
   "cell_type": "markdown",
   "id": "873873a4",
   "metadata": {
    "papermill": {
     "duration": 0.011913,
     "end_time": "2022-09-21T05:19:26.446061",
     "exception": false,
     "start_time": "2022-09-21T05:19:26.434148",
     "status": "completed"
    },
    "tags": []
   },
   "source": [
    "# Create HTML index"
   ]
  },
  {
   "cell_type": "code",
   "execution_count": 10,
   "id": "cf665672",
   "metadata": {
    "execution": {
     "iopub.execute_input": "2022-09-21T05:19:26.471913Z",
     "iopub.status.busy": "2022-09-21T05:19:26.471114Z",
     "iopub.status.idle": "2022-09-21T05:19:26.480274Z",
     "shell.execute_reply": "2022-09-21T05:19:26.479524Z"
    },
    "papermill": {
     "duration": 0.02407,
     "end_time": "2022-09-21T05:19:26.481855",
     "exception": false,
     "start_time": "2022-09-21T05:19:26.457785",
     "status": "completed"
    },
    "tags": []
   },
   "outputs": [
    {
     "name": "stdout",
     "output_type": "stream",
     "text": [
      "39  publications in the last 7 days.\n",
      "\t _build/html/2209.09823.md\n",
      "\t _build/html/2209.08242.md\n",
      "\t _build/html/2209.08120.md\n",
      "\t _build/html/2209.08106.md\n",
      "\t _build/html/2209.07962.md\n",
      "\t _build/html/2209.07931.md\n",
      "\t _build/html/2209.06833.md\n",
      "\t _build/html/2209.05814.md\n",
      "\t _build/html/2209.05593.md\n",
      "\t _build/html/2209.04304.md\n",
      "\t _build/html/2209.03367.md\n",
      "\t _build/html/2209.02872.md\n",
      "\t _build/html/2209.02725.md\n",
      "\t _build/html/2209.02722.md\n",
      "\t _build/html/2209.02092.md\n",
      "\t _build/html/2209.01125.md\n",
      "\t _build/html/2209.00828.md\n",
      "\t _build/html/2209.00363.md\n",
      "\t _build/html/2208.14927.md\n",
      "\t _build/html/2208.09335.md\n",
      "\t _build/html/2208.08872.md\n",
      "\t _build/html/2204.06393.md\n",
      "\t _build/html/2204.03335.md\n",
      "\t _build/html/2204.03253.md\n",
      "\t _build/html/2204.02998.md\n",
      "\t _build/html/2204.02109.md\n",
      "\t _build/html/2204.02017.md\n",
      "\t _build/html/2204.01824.md\n",
      "\t _build/html/2204.01758.md\n",
      "\t _build/html/2204.01245.md\n",
      "\t _build/html/2204.00793.md\n",
      "\t _build/html/2204.00342.md\n",
      "\t _build/html/2203.16959.md\n",
      "\t _build/html/2203.16856.md\n",
      "\t _build/html/2203.16735.md\n",
      "\t _build/html/2203.16734.md\n",
      "\t _build/html/2203.16504.md\n",
      "\t _build/html/2203.15822.md\n",
      "\t _build/html/2203.15811.md\n"
     ]
    }
   ],
   "source": [
    "from datetime import datetime, timedelta, timezone\n",
    "from glob import glob\n",
    "\n",
    "files = glob('_build/html/*.md')\n",
    "days = 7\n",
    "now = datetime.today()\n",
    "res = []\n",
    "for fk in files:\n",
    "    stat_result = os.stat(fk).st_ctime\n",
    "    modified = datetime.fromtimestamp(stat_result, tz=timezone.utc).replace(tzinfo=None)\n",
    "    delta = now.today() - modified\n",
    "    if delta <= timedelta(days=days):\n",
    "        res.append((delta.seconds, fk))\n",
    "res = [k[1] for k in reversed(sorted(res, key=lambda x:x[1]))]\n",
    "npub = len(res)\n",
    "print(len(res), f\" publications in the last {days:d} days.\")\n",
    "[ print('\\t', k) for k in res ];"
   ]
  },
  {
   "cell_type": "code",
   "execution_count": 11,
   "id": "52ca0208",
   "metadata": {
    "execution": {
     "iopub.execute_input": "2022-09-21T05:19:26.507385Z",
     "iopub.status.busy": "2022-09-21T05:19:26.506802Z",
     "iopub.status.idle": "2022-09-21T05:19:26.514265Z",
     "shell.execute_reply": "2022-09-21T05:19:26.513492Z"
    },
    "papermill": {
     "duration": 0.022161,
     "end_time": "2022-09-21T05:19:26.515895",
     "exception": false,
     "start_time": "2022-09-21T05:19:26.493734",
     "status": "completed"
    },
    "scrolled": false,
    "tags": []
   },
   "outputs": [],
   "source": [
    "def create_carousel(npub=4):\n",
    "    \"\"\" Generate the HTML code for a carousel with `npub` slides \"\"\"\n",
    "    carousel = [\"\"\"<section class=\"carousel\" aria-label=\"Gallery\">\"\"\",\n",
    "                \"\"\"  <ol class=\"carousel__viewport\">\"\"\",\n",
    "    ]\n",
    "    for k in range(1, npub + 1):\n",
    "        prev_ = k - 1\n",
    "        next_ = k + 1\n",
    "        if prev_ <= 0:\n",
    "            prev_ = npub\n",
    "        if next_ > npub:\n",
    "            next_ = 1\n",
    "        text  = f\"\"\"    <li id=\"carousel__slide{k}\" tabindex=\"0\" class=\"carousel__slide\">\\n\"\"\"\n",
    "        text += f\"\"\"       <div class=\"carousel__snapper\">\\n\"\"\"\n",
    "        text += f\"\"\"         <a href=\"#carousel__slide{prev_}\" class=\"carousel__prev\">Go to previous slide</a>\\n\"\"\"\n",
    "        text += f\"\"\"         <a href=\"#carousel__slide{next_}\" class=\"carousel__next\">Go to next slide</a>\\n\"\"\"\n",
    "        text += f\"\"\"         <div id=\"slide{k}_content\" class=\"md_view\" >Content {k}</div>\\n\"\"\"\n",
    "        text += f\"\"\"       </div>\\n\"\"\"\n",
    "        text += f\"\"\"    </li>\"\"\"\n",
    "        carousel.append(text)\n",
    "\n",
    "    carousel.extend([\n",
    "        \"\"\"  </ol>\"\"\",\n",
    "        \"\"\"  <aside class=\"carousel__navigation\">\"\"\",\n",
    "        \"\"\"    <ol class=\"carousel__navigation-list\">\"\"\"])\n",
    "\n",
    "    for k in range(1, npub + 1):\n",
    "        text  = f\"\"\"      <li class=\"carousel__navigation-item\">\\n\"\"\"\n",
    "        text += f\"\"\"        <a href=\"#carousel__slide{k}\" class=\"carousel__navigation-button\">Go to {k}</a>\\n\"\"\"\n",
    "        text += f\"\"\"      </li>\"\"\"\n",
    "        carousel.append(text)\n",
    "    carousel.extend([\"\"\"    </ol>\"\"\", \"\"\"  </aside>\"\"\", \"\"\"</section>\"\"\"])\n",
    "\n",
    "    return '\\n'.join(carousel)"
   ]
  },
  {
   "cell_type": "code",
   "execution_count": 12,
   "id": "a6eac5b6",
   "metadata": {
    "execution": {
     "iopub.execute_input": "2022-09-21T05:19:26.541950Z",
     "iopub.status.busy": "2022-09-21T05:19:26.541644Z",
     "iopub.status.idle": "2022-09-21T05:19:26.548733Z",
     "shell.execute_reply": "2022-09-21T05:19:26.548047Z"
    },
    "papermill": {
     "duration": 0.022283,
     "end_time": "2022-09-21T05:19:26.550279",
     "exception": false,
     "start_time": "2022-09-21T05:19:26.527996",
     "status": "completed"
    },
    "scrolled": false,
    "tags": []
   },
   "outputs": [],
   "source": [
    "carousel = create_carousel(npub)\n",
    "docs = ', '.join(['\"{0:s}\"'.format(k.split('/')[-1]) for k in res])\n",
    "slides = ', '.join([f'\"slide{k}_content\"' for k in range(1, npub + 1)])\n",
    "\n",
    "script = f\"\"\"\n",
    "const docs = [{docs}]\n",
    "\n",
    "const slides = [{slides}]\n",
    "\"\"\" + \"\"\"\n",
    "async function run() {\n",
    "    for (let i = 0; i < docs.length; i++) {\n",
    "        let file = await fetch(docs[i]);\n",
    "        let text = await file.text()\n",
    "        document.getElementById(slides[i]).innerHTML =\n",
    "            marked.parse(text);\n",
    "    }\n",
    "    hljs.highlightAll();\n",
    "}\n",
    "run()\n",
    "\"\"\"\n",
    "\n",
    "page = f\"\"\"<!doctype html>\n",
    "<html lang=\"en\">\n",
    "\n",
    "<head>\n",
    "  <meta charset=\"utf-8\">\n",
    "  <meta name=\"viewport\" content=\"width=device-width, initial-scale=1\">\n",
    "  <!-- Bootstrap CSS -->\n",
    "  <link href=\"https://cdn.jsdelivr.net/npm/bootstrap@5.0.2/dist/css/bootstrap.min.css\" rel=\"stylesheet\"\n",
    "   integrity=\"sha384-EVSTQN3/azprG1Anm3QDgpJLIm9Nao0Yz1ztcQTwFspd3yD65VohhpuuCOmLASjC\" crossorigin=\"anonymous\">\n",
    "  <!-- highlight.js CSS -->\n",
    "  <link rel=\"stylesheet\" href=\"https://cdnjs.cloudflare.com/ajax/libs/highlight.js/11.1.0/styles/default.min.css\">\n",
    "  <!-- Mathjax 3 -->\n",
    "  <script type=\"text/javascript\" id=\"MathJax-config\" src=\"mathjax_config.js\"> </script>\n",
    "  <script type=\"text/javascript\" id=\"MathJax-script\" async \n",
    "    src=\"https://cdn.jsdelivr.net/npm/mathjax@3/es5/tex-mml-chtml.js\">\n",
    "  </script>\n",
    "  <link rel=\"stylesheet\" href=\"index_carousel.css\">\n",
    "  <link rel=\"icon\" type=\"image/x-icon\" href=\"https://www.mpia.de/assets/touch-icon-32x32-a66937bcebc4e8894ebff1f41a366c7c7220fd97a38869ee0f2db65a9f59b6c1.png\">\n",
    "  <title>MPIA Arxiv on deck!</title>\n",
    "</head>\n",
    "\n",
    "<body>\n",
    "  <div id=\"header\"> <img src=\"header_banner.png\" width=\"100%\"></div>\n",
    "  <div id=\"suptitle\"> 7-day archives </div>\n",
    "  <div id=\"info\">\n",
    "    <img src=\"https://pngimg.com/uploads/github/github_PNG58.png\" height=30rem></img>\n",
    "    <a href=https://github.com/mpi-astronomy/arxiv_display style=\"color:black;\">github/mpi-astronomy/arxiv_display</a> \n",
    "  </div>\n",
    "  {carousel:s}\n",
    "</body>\n",
    "\n",
    "<!-- Render Markdown -->\n",
    "\n",
    "<body>\n",
    "  <!-- highlight.js: https://highlightjs.org/download/ -->\n",
    "  <script src=\"https://cdnjs.cloudflare.com/ajax/libs/highlight.js/11.5.0/highlight.min.js\"></script>\n",
    "  <!-- marked.js -->\n",
    "  <script src=\"https://cdn.jsdelivr.net/npm/marked/marked.min.js\"></script>\n",
    "  <script>{script:s}</script>\n",
    "</body>\n",
    "</html>\n",
    "\"\"\"\n",
    "with open(\"_build/html/index_7days.html\", 'w') as fout:\n",
    "    fout.write(page)"
   ]
  },
  {
   "cell_type": "markdown",
   "id": "1cebacbc",
   "metadata": {
    "papermill": {
     "duration": 0.012005,
     "end_time": "2022-09-21T05:19:26.611160",
     "exception": false,
     "start_time": "2022-09-21T05:19:26.599155",
     "status": "completed"
    },
    "tags": []
   },
   "source": [
    "# Debugging papers"
   ]
  },
  {
   "cell_type": "raw",
   "id": "debe7cc6",
   "metadata": {
    "papermill": {
     "duration": 0.011791,
     "end_time": "2022-09-21T05:19:26.634675",
     "exception": false,
     "start_time": "2022-09-21T05:19:26.622884",
     "status": "completed"
    },
    "tags": []
   },
   "source": [
    "raise NotImplementedError(\"Manual Stop\")"
   ]
  },
  {
   "cell_type": "raw",
   "id": "eb169192",
   "metadata": {
    "papermill": {
     "duration": 0.011876,
     "end_time": "2022-09-21T05:19:26.664416",
     "exception": false,
     "start_time": "2022-09-21T05:19:26.652540",
     "status": "completed"
    },
    "scrolled": true,
    "tags": []
   },
   "source": [
    "from IPython.display import display, Markdown\n",
    "from TexSoup import TexSoup\n",
    "import re\n",
    "\n",
    "def bracket_error(source: str):\n",
    "    \"\"\" Find problematic portions of the document \"\"\"\n",
    "    \n",
    "    print(\"len(source)\", len(source))\n",
    "    \n",
    "    # Checking header\n",
    "    begin_doc = next(re.finditer(r'\\\\begin\\{document\\}', doc.source)).span()[1]\n",
    "    header = source[:begin_doc]\n",
    "    text = header + r\"\\n\\end{document}\"\n",
    "\n",
    "    try:\n",
    "        # print(\"Header check... \", end='')\n",
    "        TexSoup(text)\n",
    "        display(Markdown(f\"**[OK]** - Header\"))\n",
    "    except:\n",
    "        raise RuntimeError(\"Error in the header\")\n",
    "        \n",
    "    # Check the text per section until the end.\n",
    "    # Do not stop and try them all.\n",
    "    \n",
    "    problematic_text = []\n",
    "    \n",
    "    sections = ([(0, begin_doc, 'until first section')] + \n",
    "                [(g.span()[0], g.span()[1], g.group()) for g in re.finditer(r'\\\\section\\{.*\\}', source)] +\n",
    "                [(g.span()[0], g.span()[1], g.group()) for g in re.finditer(r'\\\\begin\\{appendix\\}', source)]\n",
    "               )\n",
    "    sections.append([len(source), len(source), 'end'])\n",
    "    \n",
    "    sections = sorted(sections, key=lambda x: x[0])\n",
    "    \n",
    "    prev_pos, prev_name = (0, 'header')\n",
    "    parsed = []\n",
    "    \n",
    "    for span, span_end, name in sections:\n",
    "\n",
    "        if span - prev_pos <= 0:\n",
    "            continue\n",
    "            \n",
    "\n",
    "        text = source[prev_pos:span]\n",
    "        if prev_pos > begin_doc:\n",
    "            text = r\"\\n\\begin{document}\" + text + r\"\\n\\end{document}\"\n",
    "        else:\n",
    "            text = text + r\"\\n\\end{document}\"\n",
    "        try:\n",
    "            #print(f\"{prev_pos}:{prev_name}-->{span}:{name} check... \", end='')\n",
    "            parsed.append(TexSoup(text, tolerance=1))  # allow not ending env\n",
    "            display(Markdown(f\"**[OK]** - *{prev_pos}*:{prev_name} &rarr; *{span}*:{name}\"))\n",
    "            # print(\"ok\")\n",
    "\n",
    "            prev_pos = span\n",
    "            prev_name = name\n",
    "        except:\n",
    "            # print(f\"error between {prev_pos} and {span}\")\n",
    "            display(Markdown(f\"**[ERR]** *{prev_pos}*:{prev_name} &rarr; *{span}*:{name}\"))\n",
    "            problematic_text.append((prev_pos, source[prev_pos:span]))\n",
    "            prev_pos = span\n",
    "            prev_name = name\n",
    "            # raise\n",
    "    return problematic_text, parsed\n",
    "\n",
    "\n",
    "def check_environment(text, offset=0):\n",
    "    \"\"\" Check environment \"\"\"\n",
    "    env = re.compile(r\"\\\\begin\\{(?P<env>.*)\\}(.*)\\\\end\\{(?P=env)\\}\", re.DOTALL)\n",
    "\n",
    "    for match in env.finditer(text):\n",
    "        beg, end = match.span()\n",
    "        beg += offset\n",
    "        end += offset\n",
    "        envname = match.groups()[0]\n",
    "        try:\n",
    "            latex.TexSoup(match.group())\n",
    "        except Exception as e:\n",
    "            display(e)\n",
    "            print(f\"Error in {envname:s} between {beg} and {end}\")\n",
    "            return match.groups()[1], beg, end"
   ]
  },
  {
   "cell_type": "raw",
   "id": "2315e835",
   "metadata": {
    "papermill": {
     "duration": 0.011752,
     "end_time": "2022-09-21T05:19:26.687824",
     "exception": false,
     "start_time": "2022-09-21T05:19:26.676072",
     "status": "completed"
    },
    "scrolled": false,
    "tags": []
   },
   "source": [
    "import importlib\n",
    "importlib.reload(latex)\n",
    "which = \"2204.03253\"\n",
    "paper_id = f'{which:s}'\n",
    "folder = f'tmp_{paper_id:s}'\n",
    "\n",
    "if not os.path.isdir(folder):\n",
    "    folder = retrieve_document_source(f\"{paper_id}\", f'tmp_{paper_id}')\n",
    "\n",
    "try:\n",
    "    doc = latex.LatexDocument(folder, validation=validation)    \n",
    "except AffiliationError as affilerror:\n",
    "    msg = f\"ArXiv:{paper_id:s} is not an MPIA paper... \" + str(affilerror)\n",
    "    print(msg)\n",
    "\n",
    "\n",
    "# Hack because sometimes author parsing does not work well\n",
    "if (len(doc.authors) != len(paper['authors'])):\n",
    "    doc._authors = paper['authors']\n",
    "if (doc.abstract) in (None, ''):\n",
    "    doc._abstract = paper['abstract']\n",
    "\n",
    "doc.comment = get_markdown_badge(paper_id) + \" _\" + paper['comments'] + \"_\"\n",
    "doc.highlight_authors_in_list(hl_list)\n",
    "\n",
    "full_md = doc.generate_markdown_text()"
   ]
  },
  {
   "cell_type": "raw",
   "id": "dd3781db",
   "metadata": {
    "papermill": {
     "duration": 0.012008,
     "end_time": "2022-09-21T05:19:26.712267",
     "exception": false,
     "start_time": "2022-09-21T05:19:26.700259",
     "status": "completed"
    },
    "scrolled": false,
    "tags": []
   },
   "source": [
    "doc"
   ]
  },
  {
   "cell_type": "raw",
   "id": "c6eed834",
   "metadata": {
    "papermill": {
     "duration": 0.011736,
     "end_time": "2022-09-21T05:19:26.735745",
     "exception": false,
     "start_time": "2022-09-21T05:19:26.724009",
     "status": "completed"
    },
    "tags": []
   },
   "source": [
    "# [check_environment(k) for k in bracket_error(doc.source)]\n",
    "_, _, a = latex.get_content_per_section(doc.source, verbose=True)\n",
    "if not a:\n",
    "    print(\"no issues per section\")\n",
    "for ak in a:\n",
    "    r = check_environment(ak[1], offset=ak[0])\n",
    "    print(r[1], r[2])\n",
    "    print(r[0])"
   ]
  },
  {
   "cell_type": "code",
   "execution_count": null,
   "id": "71ce768a",
   "metadata": {
    "papermill": {
     "duration": 0.011747,
     "end_time": "2022-09-21T05:19:26.759493",
     "exception": false,
     "start_time": "2022-09-21T05:19:26.747746",
     "status": "completed"
    },
    "tags": []
   },
   "outputs": [],
   "source": []
  }
 ],
 "metadata": {
  "kernelspec": {
   "display_name": "Python 3.10.6 64-bit",
   "language": "python",
   "name": "python3"
  },
  "language_info": {
   "codemirror_mode": {
    "name": "ipython",
    "version": 3
   },
   "file_extension": ".py",
   "mimetype": "text/x-python",
   "name": "python",
   "nbconvert_exporter": "python",
   "pygments_lexer": "ipython3",
   "version": "3.9.13"
  },
  "papermill": {
   "default_parameters": {},
   "duration": 113.207454,
   "end_time": "2022-09-21T05:19:26.990036",
   "environment_variables": {},
   "exception": null,
   "input_path": "MPIA daily digest.ipynb",
   "output_path": "log.ipynb",
   "parameters": {},
   "start_time": "2022-09-21T05:17:33.782582",
   "version": "2.4.0"
  },
  "vscode": {
   "interpreter": {
    "hash": "e7370f93d1d0cde622a1f8e1c04877d8463912d04d973331ad4851f04de6915a"
   }
  },
  "widgets": {
   "application/vnd.jupyter.widget-state+json": {
    "state": {
     "47c198667c9d40f8b6b58e736cd5a002": {
      "model_module": "@jupyter-widgets/base",
      "model_module_version": "2.0.0",
      "model_name": "LayoutModel",
      "state": {
       "_model_module": "@jupyter-widgets/base",
       "_model_module_version": "2.0.0",
       "_model_name": "LayoutModel",
       "_view_count": null,
       "_view_module": "@jupyter-widgets/base",
       "_view_module_version": "2.0.0",
       "_view_name": "LayoutView",
       "align_content": null,
       "align_items": null,
       "align_self": null,
       "border_bottom": null,
       "border_left": null,
       "border_right": null,
       "border_top": null,
       "bottom": null,
       "display": null,
       "flex": null,
       "flex_flow": null,
       "grid_area": null,
       "grid_auto_columns": null,
       "grid_auto_flow": null,
       "grid_auto_rows": null,
       "grid_column": null,
       "grid_gap": null,
       "grid_row": null,
       "grid_template_areas": null,
       "grid_template_columns": null,
       "grid_template_rows": null,
       "height": null,
       "justify_content": null,
       "justify_items": null,
       "left": null,
       "margin": null,
       "max_height": null,
       "max_width": null,
       "min_height": null,
       "min_width": null,
       "object_fit": null,
       "object_position": null,
       "order": null,
       "overflow": null,
       "padding": null,
       "right": null,
       "top": null,
       "visibility": null,
       "width": null
      }
     },
     "4c5d09447c534d41ad66c2f1b27ff593": {
      "model_module": "@jupyter-widgets/base",
      "model_module_version": "2.0.0",
      "model_name": "LayoutModel",
      "state": {
       "_model_module": "@jupyter-widgets/base",
       "_model_module_version": "2.0.0",
       "_model_name": "LayoutModel",
       "_view_count": null,
       "_view_module": "@jupyter-widgets/base",
       "_view_module_version": "2.0.0",
       "_view_name": "LayoutView",
       "align_content": null,
       "align_items": null,
       "align_self": null,
       "border_bottom": null,
       "border_left": null,
       "border_right": null,
       "border_top": null,
       "bottom": null,
       "display": null,
       "flex": null,
       "flex_flow": null,
       "grid_area": null,
       "grid_auto_columns": null,
       "grid_auto_flow": null,
       "grid_auto_rows": null,
       "grid_column": null,
       "grid_gap": null,
       "grid_row": null,
       "grid_template_areas": null,
       "grid_template_columns": null,
       "grid_template_rows": null,
       "height": null,
       "justify_content": null,
       "justify_items": null,
       "left": null,
       "margin": null,
       "max_height": null,
       "max_width": null,
       "min_height": null,
       "min_width": null,
       "object_fit": null,
       "object_position": null,
       "order": null,
       "overflow": null,
       "padding": null,
       "right": null,
       "top": null,
       "visibility": null,
       "width": null
      }
     },
     "64aad342c6914ce68aa5a8cc9679e43c": {
      "model_module": "@jupyter-widgets/controls",
      "model_module_version": "2.0.0",
      "model_name": "HTMLModel",
      "state": {
       "_dom_classes": [],
       "_model_module": "@jupyter-widgets/controls",
       "_model_module_version": "2.0.0",
       "_model_name": "HTMLModel",
       "_view_count": null,
       "_view_module": "@jupyter-widgets/controls",
       "_view_module_version": "2.0.0",
       "_view_name": "HTMLView",
       "description": "",
       "description_allow_html": false,
       "layout": "IPY_MODEL_797febf1367d4131b74250585093b573",
       "placeholder": "​",
       "style": "IPY_MODEL_e6fb9cd3f5a1483a9ac86c3c01e5da1d",
       "tabbable": null,
       "tooltip": null,
       "value": " 29/29 [01:26&lt;00:00,  4.90s/it]"
      }
     },
     "760e96cc0e0b4a409455105ba44d3798": {
      "model_module": "@jupyter-widgets/controls",
      "model_module_version": "2.0.0",
      "model_name": "HBoxModel",
      "state": {
       "_dom_classes": [],
       "_model_module": "@jupyter-widgets/controls",
       "_model_module_version": "2.0.0",
       "_model_name": "HBoxModel",
       "_view_count": null,
       "_view_module": "@jupyter-widgets/controls",
       "_view_module_version": "2.0.0",
       "_view_name": "HBoxView",
       "box_style": "",
       "children": [
        "IPY_MODEL_d56a3f0bf7f946db999f208f48569a97",
        "IPY_MODEL_fc52d601fc314140946a4e4bb8d3c581",
        "IPY_MODEL_64aad342c6914ce68aa5a8cc9679e43c"
       ],
       "layout": "IPY_MODEL_47c198667c9d40f8b6b58e736cd5a002",
       "tabbable": null,
       "tooltip": null
      }
     },
     "797febf1367d4131b74250585093b573": {
      "model_module": "@jupyter-widgets/base",
      "model_module_version": "2.0.0",
      "model_name": "LayoutModel",
      "state": {
       "_model_module": "@jupyter-widgets/base",
       "_model_module_version": "2.0.0",
       "_model_name": "LayoutModel",
       "_view_count": null,
       "_view_module": "@jupyter-widgets/base",
       "_view_module_version": "2.0.0",
       "_view_name": "LayoutView",
       "align_content": null,
       "align_items": null,
       "align_self": null,
       "border_bottom": null,
       "border_left": null,
       "border_right": null,
       "border_top": null,
       "bottom": null,
       "display": null,
       "flex": null,
       "flex_flow": null,
       "grid_area": null,
       "grid_auto_columns": null,
       "grid_auto_flow": null,
       "grid_auto_rows": null,
       "grid_column": null,
       "grid_gap": null,
       "grid_row": null,
       "grid_template_areas": null,
       "grid_template_columns": null,
       "grid_template_rows": null,
       "height": null,
       "justify_content": null,
       "justify_items": null,
       "left": null,
       "margin": null,
       "max_height": null,
       "max_width": null,
       "min_height": null,
       "min_width": null,
       "object_fit": null,
       "object_position": null,
       "order": null,
       "overflow": null,
       "padding": null,
       "right": null,
       "top": null,
       "visibility": null,
       "width": null
      }
     },
     "c9ed42c27b14439f950bb131ac4b14f6": {
      "model_module": "@jupyter-widgets/base",
      "model_module_version": "2.0.0",
      "model_name": "LayoutModel",
      "state": {
       "_model_module": "@jupyter-widgets/base",
       "_model_module_version": "2.0.0",
       "_model_name": "LayoutModel",
       "_view_count": null,
       "_view_module": "@jupyter-widgets/base",
       "_view_module_version": "2.0.0",
       "_view_name": "LayoutView",
       "align_content": null,
       "align_items": null,
       "align_self": null,
       "border_bottom": null,
       "border_left": null,
       "border_right": null,
       "border_top": null,
       "bottom": null,
       "display": null,
       "flex": null,
       "flex_flow": null,
       "grid_area": null,
       "grid_auto_columns": null,
       "grid_auto_flow": null,
       "grid_auto_rows": null,
       "grid_column": null,
       "grid_gap": null,
       "grid_row": null,
       "grid_template_areas": null,
       "grid_template_columns": null,
       "grid_template_rows": null,
       "height": null,
       "justify_content": null,
       "justify_items": null,
       "left": null,
       "margin": null,
       "max_height": null,
       "max_width": null,
       "min_height": null,
       "min_width": null,
       "object_fit": null,
       "object_position": null,
       "order": null,
       "overflow": null,
       "padding": null,
       "right": null,
       "top": null,
       "visibility": null,
       "width": null
      }
     },
     "d56a3f0bf7f946db999f208f48569a97": {
      "model_module": "@jupyter-widgets/controls",
      "model_module_version": "2.0.0",
      "model_name": "HTMLModel",
      "state": {
       "_dom_classes": [],
       "_model_module": "@jupyter-widgets/controls",
       "_model_module_version": "2.0.0",
       "_model_name": "HTMLModel",
       "_view_count": null,
       "_view_module": "@jupyter-widgets/controls",
       "_view_module_version": "2.0.0",
       "_view_name": "HTMLView",
       "description": "",
       "description_allow_html": false,
       "layout": "IPY_MODEL_4c5d09447c534d41ad66c2f1b27ff593",
       "placeholder": "​",
       "style": "IPY_MODEL_d9732a4f8ce0471d8673a68ad7811d1e",
       "tabbable": null,
       "tooltip": null,
       "value": "100%"
      }
     },
     "d9732a4f8ce0471d8673a68ad7811d1e": {
      "model_module": "@jupyter-widgets/controls",
      "model_module_version": "2.0.0",
      "model_name": "HTMLStyleModel",
      "state": {
       "_model_module": "@jupyter-widgets/controls",
       "_model_module_version": "2.0.0",
       "_model_name": "HTMLStyleModel",
       "_view_count": null,
       "_view_module": "@jupyter-widgets/base",
       "_view_module_version": "2.0.0",
       "_view_name": "StyleView",
       "background": null,
       "description_width": "",
       "font_size": null,
       "text_color": null
      }
     },
     "e6fb9cd3f5a1483a9ac86c3c01e5da1d": {
      "model_module": "@jupyter-widgets/controls",
      "model_module_version": "2.0.0",
      "model_name": "HTMLStyleModel",
      "state": {
       "_model_module": "@jupyter-widgets/controls",
       "_model_module_version": "2.0.0",
       "_model_name": "HTMLStyleModel",
       "_view_count": null,
       "_view_module": "@jupyter-widgets/base",
       "_view_module_version": "2.0.0",
       "_view_name": "StyleView",
       "background": null,
       "description_width": "",
       "font_size": null,
       "text_color": null
      }
     },
     "fc52d601fc314140946a4e4bb8d3c581": {
      "model_module": "@jupyter-widgets/controls",
      "model_module_version": "2.0.0",
      "model_name": "FloatProgressModel",
      "state": {
       "_dom_classes": [],
       "_model_module": "@jupyter-widgets/controls",
       "_model_module_version": "2.0.0",
       "_model_name": "FloatProgressModel",
       "_view_count": null,
       "_view_module": "@jupyter-widgets/controls",
       "_view_module_version": "2.0.0",
       "_view_name": "ProgressView",
       "bar_style": "success",
       "description": "",
       "description_allow_html": false,
       "layout": "IPY_MODEL_c9ed42c27b14439f950bb131ac4b14f6",
       "max": 29.0,
       "min": 0.0,
       "orientation": "horizontal",
       "style": "IPY_MODEL_fcb531503ccf46a3aeb08c0ccbdd08fd",
       "tabbable": null,
       "tooltip": null,
       "value": 29.0
      }
     },
     "fcb531503ccf46a3aeb08c0ccbdd08fd": {
      "model_module": "@jupyter-widgets/controls",
      "model_module_version": "2.0.0",
      "model_name": "ProgressStyleModel",
      "state": {
       "_model_module": "@jupyter-widgets/controls",
       "_model_module_version": "2.0.0",
       "_model_name": "ProgressStyleModel",
       "_view_count": null,
       "_view_module": "@jupyter-widgets/base",
       "_view_module_version": "2.0.0",
       "_view_name": "StyleView",
       "bar_color": null,
       "description_width": ""
      }
     }
    },
    "version_major": 2,
    "version_minor": 0
   }
  }
 },
 "nbformat": 4,
 "nbformat_minor": 5
}