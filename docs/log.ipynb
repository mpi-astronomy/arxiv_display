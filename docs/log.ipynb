{
 "cells": [
  {
   "cell_type": "markdown",
   "id": "92bcb855",
   "metadata": {
    "papermill": {
     "duration": 0.004037,
     "end_time": "2024-10-01T07:50:59.435774",
     "exception": false,
     "start_time": "2024-10-01T07:50:59.431737",
     "status": "completed"
    },
    "tags": []
   },
   "source": [
    "# MPIA Arxiv on Deck 2\n",
    "\n",
    "Contains the steps to produce the paper extractions."
   ]
  },
  {
   "cell_type": "code",
   "execution_count": 1,
   "id": "3a0d6e11",
   "metadata": {
    "execution": {
     "iopub.execute_input": "2024-10-01T07:50:59.443021Z",
     "iopub.status.busy": "2024-10-01T07:50:59.442777Z",
     "iopub.status.idle": "2024-10-01T07:50:59.847807Z",
     "shell.execute_reply": "2024-10-01T07:50:59.847220Z"
    },
    "papermill": {
     "duration": 0.409935,
     "end_time": "2024-10-01T07:50:59.849034",
     "exception": false,
     "start_time": "2024-10-01T07:50:59.439099",
     "status": "completed"
    },
    "tags": []
   },
   "outputs": [],
   "source": [
    "# Imports\n",
    "import os\n",
    "from IPython.display import Markdown, display\n",
    "from tqdm.notebook import tqdm\n",
    "import warnings\n",
    "from PIL import Image \n",
    "import re\n",
    "\n",
    "# requires arxiv_on_deck_2\n",
    "\n",
    "from arxiv_on_deck_2.arxiv2 import (get_new_papers, \n",
    "                                    get_paper_from_identifier,\n",
    "                                    retrieve_document_source, \n",
    "                                    get_markdown_badge)\n",
    "from arxiv_on_deck_2 import (latex,\n",
    "                             latex_bib,\n",
    "                             mpia,\n",
    "                             highlight_authors_in_list)\n",
    "\n",
    "# Sometimes images are really big\n",
    "Image.MAX_IMAGE_PIXELS = 1000000000 "
   ]
  },
  {
   "cell_type": "code",
   "execution_count": 2,
   "id": "22aa9d44",
   "metadata": {
    "execution": {
     "iopub.execute_input": "2024-10-01T07:50:59.856565Z",
     "iopub.status.busy": "2024-10-01T07:50:59.856080Z",
     "iopub.status.idle": "2024-10-01T07:50:59.863781Z",
     "shell.execute_reply": "2024-10-01T07:50:59.863244Z"
    },
    "papermill": {
     "duration": 0.012467,
     "end_time": "2024-10-01T07:50:59.864767",
     "exception": false,
     "start_time": "2024-10-01T07:50:59.852300",
     "status": "completed"
    },
    "tags": []
   },
   "outputs": [],
   "source": [
    "# Some useful definitions.\n",
    "\n",
    "class AffiliationWarning(UserWarning):\n",
    "    pass\n",
    "\n",
    "class AffiliationError(RuntimeError):\n",
    "    pass\n",
    "\n",
    "def validation(source: str):\n",
    "    \"\"\"Raises error paper during parsing of source file\n",
    "    \n",
    "    Allows checks before parsing TeX code.\n",
    "    \n",
    "    Raises AffiliationWarning\n",
    "    \"\"\"\n",
    "    check = mpia.affiliation_verifications(source, verbose=True)\n",
    "    if check is not True:\n",
    "        raise AffiliationError(\"mpia.affiliation_verifications: \" + check)\n",
    "\n",
    "        \n",
    "warnings.simplefilter('always', AffiliationWarning)\n",
    "\n",
    "\n",
    "def get_markdown_qrcode(paper_id: str):\n",
    "    \"\"\" Generate a qrcode to the arxiv page using qrserver.com\n",
    "    \n",
    "    :param paper: Arxiv paper\n",
    "    :returns: markdown text\n",
    "    \"\"\"\n",
    "    url = r\"https://api.qrserver.com/v1/create-qr-code/?size=100x100&data=\"\n",
    "    txt = f\"\"\"<img src={url}\"https://arxiv.org/abs/{paper_id}\">\"\"\"\n",
    "    txt = '<div id=\"qrcode\">' + txt + '</div>'\n",
    "    return txt\n",
    "\n",
    "\n",
    "def clean_non_western_encoded_characters_commands(text: str) -> str:\n",
    "    \"\"\" Remove non-western encoded characters from a string\n",
    "    List may need to grow.\n",
    "    \n",
    "    :param text: the text to clean\n",
    "    :return: the cleaned text\n",
    "    \"\"\"\n",
    "    text = re.sub(r\"(\\\\begin{CJK}{UTF8}{gbsn})(.*?)(\\\\end{CJK})\", r\"\\2\", text)\n",
    "    return text\n",
    "\n",
    "\n",
    "def get_initials(name: str) -> str:\n",
    "    \"\"\" Get the short name, e.g., A.-B. FamName\n",
    "    :param name: full name\n",
    "    :returns: initials\n",
    "    \"\"\"\n",
    "    initials = []\n",
    "    # account for non western names often in ()\n",
    "    if '(' in name:\n",
    "        name = clean_non_western_encoded_characters_commands(name)\n",
    "        suffix = re.findall(r\"\\((.*?)\\)\", name)[0]\n",
    "        name = name.replace(f\"({suffix})\", '')\n",
    "    else:\n",
    "        suffix = ''\n",
    "    split = name.split()\n",
    "    for token in split[:-1]:\n",
    "        if '-' in token:\n",
    "            current = '-'.join([k[0] + '.' for k in token.split('-')])\n",
    "        else:\n",
    "            current = token[0] + '.'\n",
    "        initials.append(current)\n",
    "    initials.append(split[-1].strip())\n",
    "    if suffix:\n",
    "        initials.append(f\"({suffix})\")\n",
    "    return ' '.join(initials)"
   ]
  },
  {
   "cell_type": "markdown",
   "id": "14bd6310",
   "metadata": {
    "papermill": {
     "duration": 0.002989,
     "end_time": "2024-10-01T07:50:59.870785",
     "exception": false,
     "start_time": "2024-10-01T07:50:59.867796",
     "status": "completed"
    },
    "tags": []
   },
   "source": [
    "## get list of arxiv paper candidates\n",
    "\n",
    "We use the MPIA mitarbeiter list webpage from mpia.de to get author names\n",
    "We then get all new papers from Arxiv and match authors"
   ]
  },
  {
   "cell_type": "code",
   "execution_count": 3,
   "id": "7ea813a8",
   "metadata": {
    "execution": {
     "iopub.execute_input": "2024-10-01T07:50:59.877420Z",
     "iopub.status.busy": "2024-10-01T07:50:59.877208Z",
     "iopub.status.idle": "2024-10-01T07:51:17.145430Z",
     "shell.execute_reply": "2024-10-01T07:51:17.144797Z"
    },
    "papermill": {
     "duration": 17.272789,
     "end_time": "2024-10-01T07:51:17.146557",
     "exception": false,
     "start_time": "2024-10-01T07:50:59.873768",
     "status": "completed"
    },
    "tags": []
   },
   "outputs": [],
   "source": [
    "# deal with the author list and edge cases of people that cannot be consistent on their name  \n",
    "\n",
    "def filter_non_scientists(name: str) -> bool:\n",
    "    \"\"\" Loose filter on expected authorships\n",
    "\n",
    "    removing IT, administration, technical staff\n",
    "    :param name: name\n",
    "    :returns: False if name is not a scientist\n",
    "    \"\"\"\n",
    "    remove_list = ['Licht', 'Binroth', 'Witzel', 'Jordan',\n",
    "                   'Zähringer', 'Scheerer', 'Hoffmann', 'Düe',\n",
    "                   'Hellmich', 'Enkler-Scharpegge', 'Witte-Nguy',\n",
    "                   'Dehen', 'Beckmann', 'Jager', 'Jäger'\n",
    "                  ]\n",
    "\n",
    "    for k in remove_list:\n",
    "        if k in name:\n",
    "            return False\n",
    "    return True\n",
    "\n",
    "def add_author_to_list(author_list: list) -> list:\n",
    "    \"\"\" Add author to list if not already in list\n",
    "    \n",
    "    :param author: author name\n",
    "    :param author_list: list of authors\n",
    "    :returns: updated list of authors\n",
    "    \"\"\"\n",
    "    add_list = ['T. Henning']\n",
    "\n",
    "    for author in add_list:\n",
    "        if author not in author_list:\n",
    "            author_list.append(author)\n",
    "    return author_list\n",
    "\n",
    "# get list from MPIA website\n",
    "# filter for non-scientists (mpia.get_mpia_mitarbeiter_list() does some filtering)\n",
    "mpia_authors = [k[1] for k in mpia.get_mpia_mitarbeiter_list() if filter_non_scientists(k[1])]\n",
    "# add some missing author because of inconsistencies in their MPIA name and author name on papers\n",
    "mpia_authors = add_author_to_list(mpia_authors)"
   ]
  },
  {
   "cell_type": "code",
   "execution_count": 4,
   "id": "2645e73a",
   "metadata": {
    "execution": {
     "iopub.execute_input": "2024-10-01T07:51:17.154105Z",
     "iopub.status.busy": "2024-10-01T07:51:17.153867Z",
     "iopub.status.idle": "2024-10-01T07:51:17.760820Z",
     "shell.execute_reply": "2024-10-01T07:51:17.760210Z"
    },
    "papermill": {
     "duration": 0.611807,
     "end_time": "2024-10-01T07:51:17.761803",
     "exception": false,
     "start_time": "2024-10-01T07:51:17.149996",
     "status": "completed"
    },
    "tags": []
   },
   "outputs": [
    {
     "name": "stdout",
     "output_type": "stream",
     "text": [
      "J. Neumann  ->  J. Neumann  |  ['J. Neumann']\n",
      "C. Mao  ->  C. Mao  |  ['C. Mao']\n",
      "E. Schinnerer  ->  E. Schinnerer  |  ['E. Schinnerer']\n",
      "G. Chauvin  ->  G. Chauvin  |  ['G. Chauvin']\n",
      "T. Henning  ->  T. Henning  |  ['T. Henning']\n",
      "G.-D. Marleau  ->  G.-D. Marleau  |  ['G.-D. Marleau']\n",
      "M. Samland  ->  M. Samland  |  ['M. Samland']\n"
     ]
    },
    {
     "name": "stdout",
     "output_type": "stream",
     "text": [
      "K. Jahnke  ->  K. Jahnke  |  ['K. Jahnke']\n",
      "Arxiv has 53 new papers today\n",
      "          3 with possible author matches\n"
     ]
    }
   ],
   "source": [
    "new_papers = get_new_papers()\n",
    "# add manual references\n",
    "add_paper_refs = []\n",
    "new_papers.extend([get_paper_from_identifier(k) for k in add_paper_refs])\n",
    "\n",
    "def robust_call(fn, value, *args, **kwargs):\n",
    "    try:\n",
    "        return fn(value, *args, **kwargs)\n",
    "    except Exception:\n",
    "        return value\n",
    "\n",
    "candidates = []\n",
    "for paperk in new_papers:\n",
    "    # Check author list with their initials\n",
    "    normed_author_list = [robust_call(mpia.get_initials, k) for k in paperk['authors']]\n",
    "    hl_authors = highlight_authors_in_list(normed_author_list, mpia_authors, verbose=True)\n",
    "    matches = [(hl, orig) for hl, orig in zip(hl_authors, paperk['authors']) if 'mark' in hl]\n",
    "    paperk['authors'] = hl_authors\n",
    "    if matches:\n",
    "        # only select paper if an author matched our list\n",
    "        candidates.append(paperk)\n",
    "print(\"\"\"Arxiv has {0:,d} new papers today\"\"\".format(len(new_papers)))        \n",
    "print(\"\"\"          {0:,d} with possible author matches\"\"\".format(len(candidates)))"
   ]
  },
  {
   "cell_type": "markdown",
   "id": "3543b34a",
   "metadata": {
    "papermill": {
     "duration": 0.003148,
     "end_time": "2024-10-01T07:51:17.768308",
     "exception": false,
     "start_time": "2024-10-01T07:51:17.765160",
     "status": "completed"
    },
    "tags": []
   },
   "source": [
    "# Parse sources and generate relevant outputs\n",
    "\n",
    "From the candidates, we do the following steps:\n",
    "* get their tarball from ArXiv (and extract data)\n",
    "* find the main .tex file: find one with \\documentclass{...} (sometimes it's non trivial)\n",
    "* Check affiliations with :func:`validation`, which uses :func:`mpia.affiliation_verifications`\n",
    "* If passing the affiliations: we parse the .tex source\n",
    "   * inject sub-documents into the main (flatten the main document)\n",
    "   * parse structure, extract information (title, abstract, authors, figures...)\n",
    "   * handles `\\graphicspath` if provided\n",
    "* Generate the .md document."
   ]
  },
  {
   "cell_type": "code",
   "execution_count": 5,
   "id": "9576b79e",
   "metadata": {
    "execution": {
     "iopub.execute_input": "2024-10-01T07:51:17.775445Z",
     "iopub.status.busy": "2024-10-01T07:51:17.775231Z",
     "iopub.status.idle": "2024-10-01T08:01:05.679470Z",
     "shell.execute_reply": "2024-10-01T08:01:05.678729Z"
    },
    "papermill": {
     "duration": 587.913032,
     "end_time": "2024-10-01T08:01:05.684548",
     "exception": false,
     "start_time": "2024-10-01T07:51:17.771516",
     "status": "completed"
    },
    "scrolled": false,
    "tags": []
   },
   "outputs": [
    {
     "data": {
      "application/vnd.jupyter.widget-view+json": {
       "model_id": "fd127c47aaea4dd9a0c78e60c78bbce9",
       "version_major": 2,
       "version_minor": 0
      },
      "text/plain": [
       "  0%|          | 0/3 [00:00<?, ?it/s]"
      ]
     },
     "metadata": {},
     "output_type": "display_data"
    },
    {
     "name": "stdout",
     "output_type": "stream",
     "text": [
      "Retrieving document from  https://arxiv.org/e-print/2409.18180\n",
      "extracting tarball to tmp_2409.18180..."
     ]
    },
    {
     "name": "stdout",
     "output_type": "stream",
     "text": [
      " done.\n"
     ]
    },
    {
     "name": "stdout",
     "output_type": "stream",
     "text": [
      "Found 170 bibliographic references in tmp_2409.18180/main.bbl.\n",
      "Issues with the citations\n",
      "syntax error in line 1166: '=' expected\n",
      "Retrieving document from  https://arxiv.org/e-print/2409.18793\n",
      "extracting tarball to tmp_2409.18793..."
     ]
    },
    {
     "name": "stdout",
     "output_type": "stream",
     "text": [
      " done.\n"
     ]
    },
    {
     "name": "stderr",
     "output_type": "stream",
     "text": [
      "/opt/hostedtoolcache/Python/3.9.20/x64/lib/python3.9/site-packages/IPython/core/interactiveshell.py:3550: LatexWarning: Multiple tex files.\n",
      "\n",
      "  exec(code_obj, self.user_global_ns, self.user_ns)\n",
      "/opt/hostedtoolcache/Python/3.9.20/x64/lib/python3.9/site-packages/IPython/core/interactiveshell.py:3550: LatexWarning: Found documentclass in tmp_2409.18793/main.tex\n",
      "\n",
      "  exec(code_obj, self.user_global_ns, self.user_ns)\n"
     ]
    },
    {
     "name": "stdout",
     "output_type": "stream",
     "text": [
      "G. Chauvin  ->  G. Chauvin  |  ['G. Chauvin']\n",
      "T. Henning  ->  T. Henning  |  ['T. Henning']\n",
      "G.-D. Marleau  ->  G.-D. Marleau  |  ['G.-D. Marleau']\n",
      "M. Samland  ->  M. Samland  |  ['M. Samland']\n"
     ]
    },
    {
     "name": "stdout",
     "output_type": "stream",
     "text": [
      "Found 94 bibliographic references in tmp_2409.18793/main.bbl.\n",
      "Retrieving document from  https://arxiv.org/e-print/2409.18882\n"
     ]
    },
    {
     "name": "stdout",
     "output_type": "stream",
     "text": [
      "extracting tarball to tmp_2409.18882..."
     ]
    },
    {
     "name": "stdout",
     "output_type": "stream",
     "text": [
      " done.\n",
      "  0: tmp_2409.18882/AandA.tex, 1,041 lines\n",
      "  1: tmp_2409.18882/old_main.tex, 1,534 lines\n",
      "  3: tmp_2409.18882/main.tex, 2,169 lines\n"
     ]
    },
    {
     "name": "stderr",
     "output_type": "stream",
     "text": [
      "/opt/hostedtoolcache/Python/3.9.20/x64/lib/python3.9/site-packages/IPython/core/interactiveshell.py:3550: LatexWarning: Multiple tex files.\n",
      "\n",
      "  exec(code_obj, self.user_global_ns, self.user_ns)\n",
      "/opt/hostedtoolcache/Python/3.9.20/x64/lib/python3.9/site-packages/IPython/core/interactiveshell.py:3550: LatexWarning: Found 3 candidates with documentclass definition.\n",
      "  exec(code_obj, self.user_global_ns, self.user_ns)\n",
      "/opt/hostedtoolcache/Python/3.9.20/x64/lib/python3.9/site-packages/IPython/core/interactiveshell.py:3550: LatexWarning: Assuming tmp_2409.18882/main.tex as main document.\n",
      "  exec(code_obj, self.user_global_ns, self.user_ns)\n"
     ]
    },
    {
     "name": "stdout",
     "output_type": "stream",
     "text": [
      "Found 39 bibliographic references in tmp_2409.18882/main.bbl.\n"
     ]
    }
   ],
   "source": [
    "documents = []\n",
    "failed = []\n",
    "for paper in tqdm(candidates):\n",
    "    # debug crap\n",
    "    paper['identifier'] = paper['identifier'].lower().replace('arxiv:', '').replace(r'\\n', '').strip()\n",
    "    paper_id = paper['identifier']\n",
    "    \n",
    "    folder = f'tmp_{paper_id}'\n",
    "\n",
    "    try:\n",
    "        if not os.path.isdir(folder):\n",
    "            folder = retrieve_document_source(f\"{paper_id}\", f'tmp_{paper_id}')\n",
    "        \n",
    "        try:\n",
    "            doc = latex.LatexDocument(folder, validation=validation)    \n",
    "        except AffiliationError as affilerror:\n",
    "            msg = f\"ArXiv:{paper_id:s} is not an MPIA paper... \" + str(affilerror)\n",
    "            failed.append((paper, \"affiliation error: \" + str(affilerror) ))\n",
    "            continue\n",
    "        \n",
    "        # Hack because sometimes author parsing does not work well\n",
    "        if (len(doc.authors) != len(paper['authors'])):\n",
    "            doc._authors = paper['authors']\n",
    "        else:\n",
    "            # highlight authors (FIXME: doc.highlight_authors)\n",
    "            # done on arxiv paper already\n",
    "            doc._authors = highlight_authors_in_list(\n",
    "                [get_initials(k) for k in doc.authors], \n",
    "                mpia_authors, verbose=True)\n",
    "        if (doc.abstract) in (None, ''):\n",
    "            doc._abstract = paper['abstract']\n",
    "            \n",
    "        doc.comment = (get_markdown_badge(paper_id) + \n",
    "                       \"<mark>Appeared on: \" + paper['date'] + \"</mark> - \")\n",
    "        if paper['comments']:\n",
    "            doc.comment += \" _\" + paper['comments'] + \"_\"\n",
    "        \n",
    "        full_md = doc.generate_markdown_text()\n",
    "        \n",
    "        full_md += get_markdown_qrcode(paper_id)\n",
    "        \n",
    "        # replace citations\n",
    "        try:\n",
    "            bibdata = latex_bib.LatexBib.from_doc(doc)\n",
    "            full_md = latex_bib.replace_citations(full_md, bibdata)\n",
    "        except Exception as e:\n",
    "            print(\"Issues with the citations\")\n",
    "            print(e)\n",
    "        \n",
    "        documents.append((paper_id, full_md))\n",
    "    except Exception as e:\n",
    "        warnings.warn(latex.LatexWarning(f\"{paper_id:s} did not run properly\\n\" +\n",
    "                                         str(e)\n",
    "                                        ))\n",
    "        failed.append((paper, \"latex error \" + str(e)))"
   ]
  },
  {
   "cell_type": "markdown",
   "id": "2505a25c",
   "metadata": {
    "papermill": {
     "duration": 0.003863,
     "end_time": "2024-10-01T08:01:05.692447",
     "exception": false,
     "start_time": "2024-10-01T08:01:05.688584",
     "status": "completed"
    },
    "tags": []
   },
   "source": [
    "### Export the logs\n",
    "\n",
    "Throughout, we also keep track of the logs per paper. see `logs-{today date}.md` "
   ]
  },
  {
   "cell_type": "code",
   "execution_count": 6,
   "id": "d733828a",
   "metadata": {
    "execution": {
     "iopub.execute_input": "2024-10-01T08:01:05.701234Z",
     "iopub.status.busy": "2024-10-01T08:01:05.700744Z",
     "iopub.status.idle": "2024-10-01T08:01:05.714055Z",
     "shell.execute_reply": "2024-10-01T08:01:05.713509Z"
    },
    "papermill": {
     "duration": 0.018876,
     "end_time": "2024-10-01T08:01:05.715078",
     "exception": false,
     "start_time": "2024-10-01T08:01:05.696202",
     "status": "completed"
    },
    "scrolled": false,
    "tags": []
   },
   "outputs": [
    {
     "data": {
      "text/markdown": [
       "## Successful papers"
      ],
      "text/plain": [
       "<IPython.core.display.Markdown object>"
      ]
     },
     "metadata": {},
     "output_type": "display_data"
    },
    {
     "data": {
      "text/markdown": [
       "\n",
       "|||\n",
       "|---:|:---|\n",
       "| [![arXiv](https://img.shields.io/badge/arXiv-2409.18180-b31b1b.svg)](https://arxiv.org/abs/2409.18180) | **Azimuthal Variations of Stellar Populations in Barred Galaxies**  |\n",
       "|| <mark>J. Neumann</mark>, et al. -- incl., <mark>C. Mao</mark>, <mark>E. Schinnerer</mark> |\n",
       "|*Appeared on*| *2024-10-01*|\n",
       "|*Comments*| *18 pages, 12 figures (+appendix), accepted for publication in MNRAS*|\n",
       "|**Abstract**|            Bars are expected to impact the distribution of stellar populations both during bar formation, as they rearrange stars into new orbits, and afterwards, due to the redistribution of star-formation-fuelling gas and transfer of angular momentum. We study the impact of stellar bars on the azimuthal variation of stellar population age, metallicity and mass surface density in $\\sim1\\,000$ nearby barred galaxies from the SDSS-IV/MaNGA survey. Bars have higher stellar mass density ($0.113^{+0.065}_{-0.067}$ dex) and are more metal-rich ($0.028^{+0.033}_{-0.040}$ dex) than the discs at the same radii. Stellar ages show a variety of bar to inter-bar contrasts with no consistent trend. The difference in metallicity increases with total stellar mass of the galaxy and distance below the star-forming main sequence. We discuss a combination of potentially responsible processes including kinematic separation, more extended star formation histories and more efficient recycling in bars and at bar-spiral arm connections. Additionally, we observe an offset (10°-40°) of the peak metallicity to the bar major axis in star-forming bars in low-mass galaxies, and more metal-rich regions outside the ends of the bar in long bars and quenched galaxies. Furthermore, there is a subtle trend of lower metallicities on the leading side of spiral arms compared to the trailing side. Finally, we report a spiral arm surface density feature, which could point towards a dominant bar-spiral connection and pitch angle of $\\alpha \\sim 25$°. We interpret these features in the context of bar formation and the impact of large-scale gas flows associated with their presence.         |"
      ],
      "text/plain": [
       "[2409.18180] Azimuthal Variations of Stellar Populations in Barred Galaxies\n",
       "\t<mark>J. Neumann</mark>, et al. -- incl., <mark>C. Mao</mark>, <mark>E. Schinnerer</mark>"
      ]
     },
     "metadata": {},
     "output_type": "display_data"
    },
    {
     "data": {
      "text/markdown": [
       "\n",
       "|||\n",
       "|---:|:---|\n",
       "| [![arXiv](https://img.shields.io/badge/arXiv-2409.18793-b31b1b.svg)](https://arxiv.org/abs/2409.18793) | **Giant planets population around B stars from the first part of the BEAST survey**  |\n",
       "|| P. Delorme, et al. -- incl., <mark>G. Chauvin</mark>, <mark>T. Henning</mark>, <mark>G.-D. Marleau</mark>, <mark>M. Samland</mark> |\n",
       "|*Appeared on*| *2024-10-01*|\n",
       "|*Comments*| *Accepted in A&A*|\n",
       "|**Abstract**|            Exoplanets form from circumstellar protoplanetary discs whose fundamental properties (notably their extent, composition, mass, temperature and lifetime) depend on the host star properties, such as their mass and luminosity. B-stars are among the most massive stars and their protoplanetary discs test extreme conditions for exoplanet formation. This paper investigates the frequency of giant planet companions around young B-stars (median age of 16 Myr) in the Scorpius-Centaurus association, the closest association containing a large population of B-stars. We systematically search for massive exoplanets with the high-contrast direct imaging instrument SPHERE using the data from the BEAST survey, that targets an homogeneous sample of young B-stars from the wide Sco-Cen association. We derive accurate detection limits in case of non-detections. We found evidence in previous papers for two substellar companions around 42 stars. The masses of these companions are straddling the ~13 Jupiter mass deuterium burning limit but their mass ratio with respect to their host star is close to that of Jupiter. We derive a frequency of such massive planetary mass companions around B stars of 11-5+7%, accounting for the survey sensitivity. The discoveries of substellar companions bcen b and mu2sco B happened after only few stars in the survey had been observed, raising the possibility that massive Jovian planets might be common around B-stars. However our statistical analysis show that the occurrence rate of such planets is similar around B-stars and around solar-type stars of similar age, while B-star companions exhibit low mass ratios and larger semi-major axis.         |"
      ],
      "text/plain": [
       "[2409.18793] Giant planets population around B stars from the first part of the BEAST survey\n",
       "\tP. Delorme, et al. -- incl., <mark>G. Chauvin</mark>, <mark>T. Henning</mark>, <mark>G.-D. Marleau</mark>, <mark>M. Samland</mark>"
      ]
     },
     "metadata": {},
     "output_type": "display_data"
    },
    {
     "data": {
      "text/markdown": [
       "\n",
       "|||\n",
       "|---:|:---|\n",
       "| [![arXiv](https://img.shields.io/badge/arXiv-2409.18882-b31b1b.svg)](https://arxiv.org/abs/2409.18882) | **Euclid preparation: 6x2 pt analysis of Euclid's spectroscopic and photometric data sets**  |\n",
       "|| E. Collaboration, et al. -- incl., <mark>K. Jahnke</mark> |\n",
       "|*Appeared on*| *2024-10-01*|\n",
       "|*Comments*| *32 pages, 20 figures. Comments are welcome*|\n",
       "|**Abstract**|            We present cosmological parameter forecasts for the Euclid 6x2pt statistics, which include the galaxy clustering and weak lensing main probes together with previously neglected cross-covariance and cross-correlation signals between imaging/photometric and spectroscopic data. The aim is understanding the impact of such terms on the Euclid performance. We produce 6x2pt cosmological forecasts, considering two different techniques: the so-called harmonic and hybrid approaches, respectively. In the first, we treat all the different Euclid probes in the same way, i.e. we consider only angular 2pt-statistics for spectroscopic and photometric clustering, as well as for weak lensing, analysing all their possible cross-covariances and cross-correlations in the spherical harmonic domain. In the second, we do not account for negligible cross-covariances between the 3D and 2D data, but consider the combination of their cross-correlation with the auto-correlation signals. We find that both cross-covariances and cross-correlation signals, have a negligible impact on the cosmological parameter constraints and, therefore, on the Euclid performance. In the case of the hybrid approach, we attribute this result to the effect of the cross-correlation between weak lensing and photometric data, which is dominant with respect to other cross-correlation signals. In the case of the 2D harmonic approach, we attribute this result to two main theoretical limitations of the 2D projected statistics implemented in this work according to the analysis of official Euclid forecasts: the high shot noise and the limited redshift range of the spectroscopic sample, together with the loss of radial information from subleading terms such as redshift-space distortions and lensing magnification. Our analysis suggests that 2D and 3D Euclid data can be safely treated as independent, with a great saving in computational resources.         |"
      ],
      "text/plain": [
       "[2409.18882] Euclid preparation: 6x2 pt analysis of Euclid's spectroscopic and photometric data sets\n",
       "\tE. Collaboration, et al. -- incl., <mark>K. Jahnke</mark>"
      ]
     },
     "metadata": {},
     "output_type": "display_data"
    },
    {
     "data": {
      "text/markdown": [
       "## Failed papers"
      ],
      "text/plain": [
       "<IPython.core.display.Markdown object>"
      ]
     },
     "metadata": {},
     "output_type": "display_data"
    }
   ],
   "source": [
    "import datetime\n",
    "today = str(datetime.date.today())\n",
    "logfile = f\"_build/html/logs/log-{today}.md\"\n",
    "\n",
    "\n",
    "with open(logfile, 'w') as logs:\n",
    "    # Success\n",
    "    logs.write(f'# Arxiv on Deck 2: Logs - {today}\\n\\n')\n",
    "    logs.write(\"\"\"* Arxiv had {0:,d} new papers\\n\"\"\".format(len(new_papers)))\n",
    "    logs.write(\"\"\"    * {0:,d} with possible author matches\\n\\n\"\"\".format(len(candidates)))\n",
    "    logs.write(\"## Sucessful papers\\n\\n\")\n",
    "    display(Markdown(\"## Successful papers\"))\n",
    "    success = [k[0] for k in documents]\n",
    "    for candid in candidates:\n",
    "        if candid['identifier'].split(':')[-1] in success:\n",
    "            display(candid)\n",
    "            logs.write(candid.generate_markdown_text() + '\\n\\n')\n",
    "\n",
    "    ## failed\n",
    "    logs.write(\"## Failed papers\\n\\n\")\n",
    "    display(Markdown(\"## Failed papers\"))\n",
    "    failed = sorted(failed, key=lambda x: x[1])\n",
    "    current_reason = \"\"\n",
    "    for paper, reason in failed:\n",
    "        if 'affiliation' in reason:\n",
    "            color = 'green'\n",
    "        else:\n",
    "            color = 'red'\n",
    "        data = Markdown(\n",
    "                paper.generate_markdown_text() + \n",
    "                f'\\n|<p style=\"color:{color:s}\"> **ERROR** </p>| <p style=\"color:{color:s}\">{reason:s}</p> |'\n",
    "               )\n",
    "        if reason != current_reason:\n",
    "            logs.write(f'### {reason:s} \\n\\n')\n",
    "            current_reason = reason\n",
    "        logs.write(data.data + '\\n\\n')\n",
    "        \n",
    "        # only display here the important errors (all in logs)\n",
    "        # if color in ('red',):\n",
    "        display(data)"
   ]
  },
  {
   "cell_type": "markdown",
   "id": "472d20ee",
   "metadata": {
    "papermill": {
     "duration": 0.004168,
     "end_time": "2024-10-01T08:01:05.723654",
     "exception": false,
     "start_time": "2024-10-01T08:01:05.719486",
     "status": "completed"
    },
    "tags": []
   },
   "source": [
    "## Export documents\n",
    "\n",
    "We now write the .md files and export relevant images"
   ]
  },
  {
   "cell_type": "code",
   "execution_count": 7,
   "id": "d426aed9",
   "metadata": {
    "execution": {
     "iopub.execute_input": "2024-10-01T08:01:05.733116Z",
     "iopub.status.busy": "2024-10-01T08:01:05.732724Z",
     "iopub.status.idle": "2024-10-01T08:01:05.739267Z",
     "shell.execute_reply": "2024-10-01T08:01:05.738762Z"
    },
    "papermill": {
     "duration": 0.012341,
     "end_time": "2024-10-01T08:01:05.740218",
     "exception": false,
     "start_time": "2024-10-01T08:01:05.727877",
     "status": "completed"
    },
    "tags": []
   },
   "outputs": [],
   "source": [
    "def export_markdown_summary(md: str, md_fname:str, directory: str):\n",
    "    \"\"\"Export MD document and associated relevant images\"\"\"\n",
    "    import os\n",
    "    import shutil\n",
    "    import re\n",
    "\n",
    "    if (os.path.exists(directory) and not os.path.isdir(directory)):\n",
    "        raise RuntimeError(f\"a non-directory file exists with name {directory:s}\")\n",
    "\n",
    "    if (not os.path.exists(directory)):\n",
    "        print(f\"creating directory {directory:s}\")\n",
    "        os.mkdir(directory)\n",
    "\n",
    "    fig_fnames = (re.compile(r'\\[Fig.*\\]\\((.*)\\)').findall(md) + \n",
    "                  re.compile(r'\\<img src=\"([^>\\s]*)\"[^>]*/>').findall(md))\n",
    "    print(\"found figures\", fig_fnames)\n",
    "    for fname in fig_fnames:\n",
    "        if 'http' in fname:\n",
    "            # No need to copy online figures\n",
    "            continue\n",
    "        if not os.path.exists(fname):\n",
    "            print(\"file not found\", fname)\n",
    "            continue\n",
    "        print(\"copying \", fname, \"to\", directory)\n",
    "        destdir = os.path.join(directory, os.path.dirname(fname))\n",
    "        destfname = os.path.join(destdir, os.path.basename(fname))\n",
    "        try:\n",
    "            os.makedirs(destdir)\n",
    "        except FileExistsError:\n",
    "            pass\n",
    "        shutil.copy(fname, destfname)\n",
    "    with open(os.path.join(directory, md_fname), 'w') as fout:\n",
    "        fout.write(md)\n",
    "    print(\"exported in \", os.path.join(directory, md_fname))\n",
    "    [print(\"    + \" + os.path.join(directory,fk)) for fk in fig_fnames]"
   ]
  },
  {
   "cell_type": "code",
   "execution_count": 8,
   "id": "014d04a4",
   "metadata": {
    "execution": {
     "iopub.execute_input": "2024-10-01T08:01:05.749753Z",
     "iopub.status.busy": "2024-10-01T08:01:05.749522Z",
     "iopub.status.idle": "2024-10-01T08:01:05.771819Z",
     "shell.execute_reply": "2024-10-01T08:01:05.771271Z"
    },
    "papermill": {
     "duration": 0.028234,
     "end_time": "2024-10-01T08:01:05.772785",
     "exception": false,
     "start_time": "2024-10-01T08:01:05.744551",
     "status": "completed"
    },
    "tags": []
   },
   "outputs": [
    {
     "name": "stdout",
     "output_type": "stream",
     "text": [
      "found figures ['tmp_2409.18180/./Figures/SFMS_10.png', 'tmp_2409.18180/./Figures/MILES_hm_rot.png', 'tmp_2409.18180/./Figures/violins_v7_fullsample_MILES.png']\n",
      "copying  tmp_2409.18180/./Figures/SFMS_10.png to _build/html/\n",
      "copying  tmp_2409.18180/./Figures/MILES_hm_rot.png to _build/html/\n",
      "copying  tmp_2409.18180/./Figures/violins_v7_fullsample_MILES.png to _build/html/\n",
      "exported in  _build/html/2409.18180.md\n",
      "    + _build/html/tmp_2409.18180/./Figures/SFMS_10.png\n",
      "    + _build/html/tmp_2409.18180/./Figures/MILES_hm_rot.png\n",
      "    + _build/html/tmp_2409.18180/./Figures/violins_v7_fullsample_MILES.png\n",
      "found figures ['tmp_2409.18793/./figs/CMD_BEAST_BCKG_K12.png', 'tmp_2409.18793/./figs/mean_ames_cond_detmaps.png', 'tmp_2409.18793/./figs/all_mean_detmaps.png']\n",
      "copying  tmp_2409.18793/./figs/CMD_BEAST_BCKG_K12.png to _build/html/\n",
      "copying  tmp_2409.18793/./figs/mean_ames_cond_detmaps.png to _build/html/\n",
      "copying  tmp_2409.18793/./figs/all_mean_detmaps.png to _build/html/\n",
      "exported in  _build/html/2409.18793.md\n",
      "    + _build/html/tmp_2409.18793/./figs/CMD_BEAST_BCKG_K12.png\n",
      "    + _build/html/tmp_2409.18793/./figs/mean_ames_cond_detmaps.png\n",
      "    + _build/html/tmp_2409.18793/./figs/all_mean_detmaps.png\n",
      "found figures ['tmp_2409.18882/./Figures/6x2pt/6x2pt_cov_impact.png', 'tmp_2409.18882/./Figures/weight_functions_plot.png', 'tmp_2409.18882/./Figures/6x2pt/6x2pt_harmonic_xcs_impact_ref_3x2ptxGCsp.png']\n",
      "copying  tmp_2409.18882/./Figures/6x2pt/6x2pt_cov_impact.png to _build/html/\n",
      "copying  tmp_2409.18882/./Figures/weight_functions_plot.png to _build/html/\n",
      "copying  tmp_2409.18882/./Figures/6x2pt/6x2pt_harmonic_xcs_impact_ref_3x2ptxGCsp.png to _build/html/\n",
      "exported in  _build/html/2409.18882.md\n",
      "    + _build/html/tmp_2409.18882/./Figures/6x2pt/6x2pt_cov_impact.png\n",
      "    + _build/html/tmp_2409.18882/./Figures/weight_functions_plot.png\n",
      "    + _build/html/tmp_2409.18882/./Figures/6x2pt/6x2pt_harmonic_xcs_impact_ref_3x2ptxGCsp.png\n"
     ]
    }
   ],
   "source": [
    "for paper_id, md in documents:\n",
    "    export_markdown_summary(md, f\"{paper_id:s}.md\", '_build/html/')"
   ]
  },
  {
   "cell_type": "markdown",
   "id": "f087a0a7",
   "metadata": {
    "papermill": {
     "duration": 0.004303,
     "end_time": "2024-10-01T08:01:05.781648",
     "exception": false,
     "start_time": "2024-10-01T08:01:05.777345",
     "status": "completed"
    },
    "tags": []
   },
   "source": [
    "## Display the papers\n",
    "\n",
    "Not necessary but allows for a quick check."
   ]
  },
  {
   "cell_type": "code",
   "execution_count": 9,
   "id": "fd25f625",
   "metadata": {
    "execution": {
     "iopub.execute_input": "2024-10-01T08:01:05.791289Z",
     "iopub.status.busy": "2024-10-01T08:01:05.791102Z",
     "iopub.status.idle": "2024-10-01T08:01:05.798096Z",
     "shell.execute_reply": "2024-10-01T08:01:05.797578Z"
    },
    "papermill": {
     "duration": 0.012973,
     "end_time": "2024-10-01T08:01:05.799076",
     "exception": false,
     "start_time": "2024-10-01T08:01:05.786103",
     "status": "completed"
    },
    "scrolled": false,
    "tags": []
   },
   "outputs": [
    {
     "data": {
      "text/markdown": [
       "<div class=\"macros\" style=\"visibility:hidden;\">\n",
       "$\\newcommand{\\ensuremath}{}$\n",
       "$\\newcommand{\\xspace}{}$\n",
       "$\\newcommand{\\object}[1]{\\texttt{#1}}$\n",
       "$\\newcommand{\\farcs}{{.}''}$\n",
       "$\\newcommand{\\farcm}{{.}'}$\n",
       "$\\newcommand{\\arcsec}{''}$\n",
       "$\\newcommand{\\arcmin}{'}$\n",
       "$\\newcommand{\\ion}[2]{#1#2}$\n",
       "$\\newcommand{\\textsc}[1]{\\textrm{#1}}$\n",
       "$\\newcommand{\\hl}[1]{\\textrm{#1}}$\n",
       "$\\newcommand{\\footnote}[1]{}$\n",
       "$\\newcommand{\\ff}{{\\sc firefly}}$\n",
       "$\\newcommand{\\ffvac}{\\texttt{MaNGA {\\sc firefly} VAC}}$\n",
       "$\\newcommand{\\arraystretch}{1.3}$\n",
       "$\\newcommand{\\thebibliography}{\\DeclareRobustCommand{\\VAN}[3]{##3}\\VANthebibliography}$</div>\n",
       "\n",
       "\n",
       "\n",
       "<div id=\"title\">\n",
       "\n",
       "# Azimuthal Variations of Stellar Populations in Barred Galaxies\n",
       "\n",
       "</div>\n",
       "<div id=\"comments\">\n",
       "\n",
       "[![arXiv](https://img.shields.io/badge/arXiv-2409.18180-b31b1b.svg)](https://arxiv.org/abs/2409.18180)<mark>Appeared on: 2024-10-01</mark> -  _18 pages, 12 figures (+appendix), accepted for publication in MNRAS_\n",
       "\n",
       "</div>\n",
       "<div id=\"authors\">\n",
       "\n",
       "<mark>J. Neumann</mark>, et al. -- incl., <mark>C. Mao</mark>, <mark>E. Schinnerer</mark>\n",
       "\n",
       "</div>\n",
       "<div id=\"abstract\">\n",
       "\n",
       "**Abstract:** Bars are expected to impact the distribution of stellar populations both during bar formation, as they rearrange stars into new orbits, and afterwards, due to the redistribution of star-formation-fuelling gas and transfer of angular momentum. We study the impact of stellar bars on the azimuthal variation of stellar population age, metallicity and mass surface density in $\\sim1 000$ nearby barred galaxies from the SDSS-IV/MaNGA survey. Bars have higher stellar mass density ( $0.113^{+0.065}_{-0.067}$ dex) and are more metal-rich ( $0.028^{+0.033}_{-0.040}$ dex) than the discs at the same radii. Stellar ages show a variety of bar to inter-bar contrasts with no consistent trend. The difference in metallicity increases with total stellar mass of the galaxy and distance below the star-forming main sequence. We discuss a combination of potentially responsible processes including kinematic separation, more extended star formation histories and more efficient recycling in bars and at bar-spiral arm connections. Additionally, we observe an offset ( $10◦$ - $40◦$ ) of the peak metallicity to the bar major axis in star-forming bars in low-mass galaxies, and more metal-rich regions outside the ends of the bar in long bars and quenched galaxies. Furthermore, there is a subtle trend of lower metallicities on the leading side of spiral arms compared to the trailing side. Finally, we report a spiral arm surface density feature, which could point towards a dominant bar-spiral connection and pitch angle of $\\alpha \\sim 25◦$ . We interpret these features in the context of bar formation and the impact of large-scale gas flows associated with their presence.\n",
       "\n",
       "</div>\n",
       "\n",
       "<div id=\"div_fig1\">\n",
       "\n",
       "<img src=\"tmp_2409.18180/./Figures/SFMS_10.png\" alt=\"Fig1\" width=\"100%\"/>\n",
       "\n",
       "**Figure 1. -** Sample representation in total SFR versus total stellar mass plane. SFRs are based on dust-corrected H$\\alpha$ measurements from \\texttt{Pipe3D}\\citep{Sanchez2022}. Points are coloured by scaled bar length with L$_\\mathrm{bar}$ as described in Sect. \\ref{sect:lbar} and R$_{90}$ from the enhanced NASA Sloan Atlas \\citep{Wake2017}. Star-forming bars are marked using the information provided in \\citet{FraserMcKelvie2020a}. The black solid line marks the star-forming main sequence (SFMS) as determined by \\citet{Renzini2015} and the dotted line 0.5 dex below the solid line represents our selection of galaxies on or below the main sequence. The two dashed vertical lines illustrate our subsamples separated in mass and the two white horizontal lines on the colourbar show our sample separation by bar length. Points outside the y-axis range are illustrated as arrows at the bottom. (*fig:sample*)\n",
       "\n",
       "</div>\n",
       "<div id=\"div_fig2\">\n",
       "\n",
       "<img src=\"tmp_2409.18180/./Figures/MILES_hm_rot.png\" alt=\"Fig4\" width=\"100%\"/>\n",
       "\n",
       "**Figure 4. -** Azimuthal variations of stellar populations for all high-mass galaxies with determinable sense of rotation, showing, from top to bottom, light-weighted age, [Z/H] and $\\Sigma_\\star$. Left panels show medians per polar grid cell, while the right panels show significance maps of these medians. The black solid circle marks the bar radius and the dashed circle marks the average 2$\\times$FWHM of the PSF across the subsample. The dotted line follows a log-spiral function with a pitch angle of $ 25.2◦$. Zero degree is towards the right, 90 degree towards the top. The arrow indicates the anti-clockwise rotation of the galaxies. (*fig:polar_example*)\n",
       "\n",
       "</div>\n",
       "<div id=\"div_fig3\">\n",
       "\n",
       "<img src=\"tmp_2409.18180/./Figures/violins_v7_fullsample_MILES.png\" alt=\"Fig11\" width=\"100%\"/>\n",
       "\n",
       "**Figure 11. -** Bar-to-inter-bar contrast of age, [Z/H] and $\\Sigma_\\star$ for all subsamples discussed in the text. Violins show the distribution of individual galaxies. Marked are the medians (white dots), interquartile ranges (vertical grey bars) and standard errors on the medians (black error bars). (*fig:violins*)\n",
       "\n",
       "</div><div id=\"qrcode\"><img src=https://api.qrserver.com/v1/create-qr-code/?size=100x100&data=\"https://arxiv.org/abs/2409.18180\"></div>"
      ],
      "text/plain": [
       "<IPython.core.display.Markdown object>"
      ]
     },
     "metadata": {},
     "output_type": "display_data"
    },
    {
     "data": {
      "text/markdown": [
       "<div class=\"macros\" style=\"visibility:hidden;\">\n",
       "$\\newcommand{\\ensuremath}{}$\n",
       "$\\newcommand{\\xspace}{}$\n",
       "$\\newcommand{\\object}[1]{\\texttt{#1}}$\n",
       "$\\newcommand{\\farcs}{{.}''}$\n",
       "$\\newcommand{\\farcm}{{.}'}$\n",
       "$\\newcommand{\\arcsec}{''}$\n",
       "$\\newcommand{\\arcmin}{'}$\n",
       "$\\newcommand{\\ion}[2]{#1#2}$\n",
       "$\\newcommand{\\textsc}[1]{\\textrm{#1}}$\n",
       "$\\newcommand{\\hl}[1]{\\textrm{#1}}$\n",
       "$\\newcommand{\\footnote}[1]{}$\n",
       "$\\newcommand{\\eg}{{\\it e.g.}, }$\n",
       "$\\newcommand{\\ie}{{\\it i.e.}, }$\n",
       "$\\newcommand{\\ms}{m s^{\\rm -1}}$\n",
       "$\\newcommand{\\kms}{\\ensuremath{\\mathrm{km} \\mathrm{s}^{-1}}}$\n",
       "$\\newcommand{\\mearth}{M_{\\rm Earth}}$\n",
       "$\\newcommand{\\vsini}{v\\sin{i}}$\n",
       "$\\newcommand{\\elodie}{E{\\small LODIE}}$\n",
       "$\\newcommand{\\sophie}{S{\\small OPHIE}}$\n",
       "$\\newcommand{\\harps}{H{\\small ARPS}}$\n",
       "$\\newcommand{\\thetacyg}{\\theta Cygni}$\n",
       "$\\newcommand{\\bp}{\\beta Pictoris }$\n",
       "$\\newcommand{\\bpic}{\\beta Pictoris }$\n",
       "$\\newcommand{\\mds}{\\mu ^2~Sco }$\n",
       "$\\newcommand{\\bcen}{b Centauri }$\n",
       "$\\newcommand$\n",
       "$\\newcommand$\n",
       "$\\newcommand{◦ee}{^{\\circ}}$\n",
       "$\\newcommand{\\arraystretch}{1.5}$\n",
       "$\\newcommand{\\DvtwoD}{\\ensuremath{v_{\\mathrm{2D}}}\\xspace}$\n",
       "$\\newcommand{\\DvthreeD}{\\ensuremath{v_{\\mathrm{3D}}}\\xspace}$\n",
       "$\\newcommand{\\pcapt}{\\ensuremath{p_{\\mathrm{capt}}\\xspace}}$\n",
       "$\\newcommand{\\rmin}{\\ensuremath{r_{\\mathrm{min}}\\xspace}}$</div>\n",
       "\n",
       "\n",
       "\n",
       "<div id=\"title\">\n",
       "\n",
       "# Giant planets population around B stars from the first part of the BEAST survey$\\thanks{Based on data obtained with the ESO/VLT SPHERE instrument under programs 1101.C-0258(A/B/C/D).}$\n",
       "\n",
       "</div>\n",
       "<div id=\"comments\">\n",
       "\n",
       "[![arXiv](https://img.shields.io/badge/arXiv-2409.18793-b31b1b.svg)](https://arxiv.org/abs/2409.18793)<mark>Appeared on: 2024-10-01</mark> -  _Accepted in A&A_\n",
       "\n",
       "</div>\n",
       "<div id=\"authors\">\n",
       "\n",
       "P. Delorme, et al. -- incl., <mark>G. Chauvin</mark>, <mark>T. Henning</mark>, <mark>G.-D. Marleau</mark>, <mark>M. Samland</mark>\n",
       "\n",
       "</div>\n",
       "<div id=\"abstract\">\n",
       "\n",
       "**Abstract:** Exoplanets form from circumstellar protoplanetary discs whose fundamental properties (notably their extent, composition, mass, temperature and lifetime) depend on the host star properties, such as their mass and luminosity. B-stars are among the most massive stars and their protoplanetary discs test extreme conditions for exoplanet formation. This paper investigates the frequency of giant planet companions around young B-stars (median age of 16 Myr) in the Scorpius-Centaurus association, the closest association containing a large population of B-stars. We systematically search for massive exoplanets with the high-contrast direct imaging instrument SPHERE using the data from the BEAST survey, that targets an homogeneous sample of young B-stars from the wide Sco-Cen association. We derive accurate detection limits in case of non-detections. We found evidence in previous papers for two substellar companions around 42 stars. The masses of these companions are straddling the $\\sim$ 13 Jupiter mass deuterium burning limit but their mass ratio with respect to their host star is close to that of Jupiter. We derive a frequency of such massive planetary mass companions around B stars of $11_{-5}^{+7}$ \\% , accounting for the survey sensitivity. The discoveries of substellar companions $\\bcen$ b and $\\mds$ B happened after only few stars in the survey had been observed, raising the possibility that massive Jovian planets might be common around B-stars. However our statistical analysis show that the occurrence rate of such planets is similar around B-stars and around solar-type stars of similar age, while B-star companions exhibit low mass ratios and larger semi-major axis.\n",
       "\n",
       "</div>\n",
       "\n",
       "<div id=\"div_fig1\">\n",
       "\n",
       "<img src=\"tmp_2409.18793/./figs/CMD_BEAST_BCKG_K12.png\" alt=\"Fig2\" width=\"100%\"/>\n",
       "\n",
       "**Figure 2. -** K1-K2 color-magnitude diagram of candidate companions found around the original, 42-strong, sample. Detected sources are represented by the hollow dots while the plain symbols represent the theoretical MLT track \\citep[][Appendix C]{Bonnefoy_GJ504_2018}. (*fig:CMD*)\n",
       "\n",
       "</div>\n",
       "<div id=\"div_fig2\">\n",
       "\n",
       "<img src=\"tmp_2409.18793/./figs/mean_ames_cond_detmaps.png\" alt=\"Fig4\" width=\"100%\"/>\n",
       "\n",
       "**Figure 4. -** Average detection probability of a companion of given mass/sma in the BEAST intermediary survey using the cond atmospheric model. The two detected planets in this survey are also represented with the mass / sma extracted from [Janson, Gratton and Rodet (2021)]() and [Squicciarini, et. al (2021)](). Jupiter is also added to provide comparison. In the case of $\\bcen$ b, no semi-major axis estimation is available, so we represented its projected separation. (*fig:sample_detmaps*)\n",
       "\n",
       "</div>\n",
       "<div id=\"div_fig3\">\n",
       "\n",
       "<img src=\"tmp_2409.18793/./figs/all_mean_detmaps.png\" alt=\"Fig9\" width=\"100%\"/>\n",
       "\n",
       "**Figure 9. -** Mean probability detection maps computed using 3 different model and the nominal, minimum and maximum age for all stars indicated in Table \\ref{tab:star_table}. (*fig:all_mean_detmaps*)\n",
       "\n",
       "</div><div id=\"qrcode\"><img src=https://api.qrserver.com/v1/create-qr-code/?size=100x100&data=\"https://arxiv.org/abs/2409.18793\"></div>"
      ],
      "text/plain": [
       "<IPython.core.display.Markdown object>"
      ]
     },
     "metadata": {},
     "output_type": "display_data"
    },
    {
     "data": {
      "text/markdown": [
       "<div class=\"macros\" style=\"visibility:hidden;\">\n",
       "$\\newcommand{\\ensuremath}{}$\n",
       "$\\newcommand{\\xspace}{}$\n",
       "$\\newcommand{\\object}[1]{\\texttt{#1}}$\n",
       "$\\newcommand{\\farcs}{{.}''}$\n",
       "$\\newcommand{\\farcm}{{.}'}$\n",
       "$\\newcommand{\\arcsec}{''}$\n",
       "$\\newcommand{\\arcmin}{'}$\n",
       "$\\newcommand{\\ion}[2]{#1#2}$\n",
       "$\\newcommand{\\textsc}[1]{\\textrm{#1}}$\n",
       "$\\newcommand{\\hl}[1]{\\textrm{#1}}$\n",
       "$\\newcommand{\\footnote}[1]{}$\n",
       "$\\newcommand$\n",
       "$\\newcommand$\n",
       "$\\newcommand{\\onesigma}{1\\mbox{--}\\sigma}$\n",
       "$\\newcommand{\\Omb}{\\Omega_\\mathrm{b}}$\n",
       "$\\newcommand{\\Omm}{\\Omega_\\mathrm{m}}$\n",
       "$\\newcommand{\\mnu}{M_\\nu}$\n",
       "$\\newcommand{\\GCph}{\\mathrm{GC}_\\mathrm{ph}}$\n",
       "$\\newcommand{\\GCsp}{\\mathrm{GC}_\\mathrm{sp}}$\n",
       "$\\newcommand{\\WL}{\\mathrm{WL}}$\n",
       "$\\newcommand{\\wz}{w_0}$\n",
       "$\\newcommand{\\wa}{w_a}$\n",
       "$\\newcommand{\\sige}{\\sigma_{8}}$\n",
       "$\\newcommand{\\FoM}{\\mathrm{FoM}}$\n",
       "$\\newcommand{\\LCDM}{\\Lambda\\mathrm{CDM}}$\n",
       "$\\newcommand{\\wzwaCDM}{\\wz\\wa\\mathrm{CDM}}$\n",
       "$\\newcommand{\\bivz}{b_{\\mathrm{v},i}(z)}$\n",
       "$\\newcommand{\\bv}{b_\\mathrm{v}}$\n",
       "$\\newcommand{\\bveff}{b_{\\mathrm{v}\\mathrm{eff}}}$\n",
       "$\\newcommand{\\nivz}{n_i^\\textrm{v}(z)}$\n",
       "$\\newcommand{\\vis}{VIS}$\n",
       "$\\newcommand{\\nisp}{NISP}$\n",
       "$\\newcommand{\\pkz}{P_{\\mathrm{mm}}(k,z)}$\n",
       "$\\newcommand{\\pmkz}{P_{\\mathrm{mm}}(k,z)}$\n",
       "$\\newcommand{\\pmlimb}{P_{\\textrm{mm}}\\left[\\frac{\\ell+1 / 2}{r(z)}, z\\right]}$\n",
       "$\\newcommand{\\cl}[3]{C^{#1}_{#2}({#3})}$\n",
       "$\\newcommand{\\cnol}[2]{C^{#1}_{#2}}$\n",
       "$\\newcommand{\\Halpha}{\\mathrm{H}\\alpha}$\n",
       "$\\newcommand{\\de}{\\mathrm{d}}$\n",
       "$\\newcommand{\\clest}{\\hat{C}(\\ell)}$\n",
       "$\\newcommand{\\clgg}{C^{\\gamma\\gamma}(\\ell)}$\n",
       "$\\newcommand{\\clABij}{C^\\mathrm{AB}_{ij}(\\ell)}$\n",
       "$\\newcommand{\\clestABij}{\\hat{C}^{\\mathrm{AB}}_{ij}(\\ell)}$\n",
       "$\\newcommand{\\clggij}{C^{\\gamma \\gamma}_{ij}(\\ell)}$\n",
       "$\\newcommand{\\lmax}{\\ell_{\\mathrm{max}}}$\n",
       "$\\newcommand{\\lmin}{\\ell_{\\min}}$\n",
       "$\\newcommand{\\fisher}{F_{\\alpha \\beta}}$\n",
       "$\\newcommand{\\CAMB}{\\texttt{CAMB}}$\n",
       "$\\newcommand{\\camb}{\\texttt{CAMB}}$\n",
       "$\\newcommand{\\lcdm}{\\Lambda \\mathrm{CDM}}$\n",
       "$\\newcommand{\\nlcdm}{\\nu \\lcdm}$\n",
       "$\\newcommand{\\wcdm}{w_0 w_a \\mathrm{CDM}}$\n",
       "$\\newcommand{\\nwcdm}{\\nu \\wcdm}$\n",
       "$\\newcommand{\\Hzero}{H_0}$\n",
       "$\\newcommand{\\HzeroUNIT}{\\text{km}   \\text{s}^{-1}   \\text{Mpc}^{-1}}$\n",
       "$\\newcommand{\\HzeroVAL}{100   \\HzeroUNIT}$\n",
       "$\\newcommand{\\Hz}{H(z)}$\n",
       "$\\newcommand{\\Ommhh}{\\Omm h^2}$\n",
       "$\\newcommand{\\omb}{\\omega_\\textrm{b}}$\n",
       "$\\newcommand{\\Ombhh}{\\Omb h^2}$\n",
       "$\\newcommand{\\omc}{\\omega_\\textrm{c}}$\n",
       "$\\newcommand{\\Omc}{\\Omega_\\textrm{c}}$\n",
       "$\\newcommand{\\Omchh}{\\Omc h^2}$\n",
       "$\\newcommand{\\Omn}{\\Omega_\\nu}$\n",
       "$\\newcommand{\\Omnhh}{\\Omn h^2}$\n",
       "$\\newcommand{\\OmL}{\\Omega_\\Lambda}$\n",
       "$\\newcommand{\\Mnu}{M_\\nu}$\n",
       "$\\newcommand{\\ns}{n_\\textrm{s}}$\n",
       "$\\newcommand{\\As}{A_\\textrm{s}}$\n",
       "$\\newcommand{\\sigeSCALE}{8 h^{-1} \\mbox{Mpc}}$\n",
       "$\\newcommand{\\refMnu}{0.06}$\n",
       "$\\newcommand{\\refMnueV}{\\refMnu   \\mbox{eV}}$\n",
       "$\\newcommand{\\wklens}{\\mathrm{WL}}$\n",
       "$\\newcommand{\\bigblock}[1]{\\vec{\\mathcal{#1}}(\\ell)}$\n",
       "$\\newcommand{\\tomoblock}[1]{\\mathbf{#1}(\\ell)}$\n",
       "$\\newcommand{\\deltac}{\\delta_\\mathrm{c}}$\n",
       "$\\newcommand{\\deltav}{\\delta_\\mathrm{v}}$\n",
       "$\\newcommand{\\pzpz}{p_{\\mathrm{ph}}\\left(z_{\\mathrm{p}} | z\\right)}$\n",
       "$\\newcommand{\\ngz}{n^\\mathrm{g}(z)}$\n",
       "$\\newcommand{\\nigz}{n_i^\\mathrm{g}(z)}$\n",
       "$\\newcommand{\\aIA}{\\mathcal{A}_{\\mathrm{IA}}}$\n",
       "$\\newcommand{\\betaIA}{\\beta_{\\mathrm{IA}}}$\n",
       "$\\newcommand{\\etaIA}{\\eta_{\\mathrm{IA}}}$\n",
       "$\\newcommand{\\CIA}{C_{\\mathrm{IA}}}$\n",
       "$\\newcommand{\\wlwl}{\\mathrm{wlwl}}$\n",
       "$\\newcommand{\\phph}{\\mathrm{phph}}$\n",
       "$\\newcommand{\\spsp}{\\mathrm{spsp}}$\n",
       "$\\newcommand{\\wlph}{\\mathrm{wlph}}$\n",
       "$\\newcommand{\\phwl}{\\mathrm{phwl}}$\n",
       "$\\newcommand{\\wlsp}{\\mathrm{wlsp}}$\n",
       "$\\newcommand{\\spwl}{\\mathrm{spwl}}$\n",
       "$\\newcommand{\\phsp}{\\mathrm{phsp}}$\n",
       "$\\newcommand{\\spph}{\\mathrm{spph}}$\n",
       "$\\newcommand{\\xc}[2]{\\mathrm{XC}(#1,#2)}$\n",
       "$\\newcommand{\\threetwoptShort}{\\ensuremath{\\textrm{3\\times2pt}}}$\n",
       "$\\newcommand{\\threetwoptLong}{\\WL+\\GCph+\\xc{\\WL}{\\GCph}}$\n",
       "$\\newcommand{\\sixtwoptShort}{\\ensuremath{\\textrm{6\\times2pt}}}$\n",
       "$\\newcommand{\\sixtwoptLong}{\\WL+\\GCph+\\GCsp+\\xc{\\WL}{\\GCph}+\\xc{\\WL}{\\GCsp}+\\xc{\\GCph}{\\GCsp}}$\n",
       "$\\newcommand{\\positive}[1]{\\textcolor{ForestGreen}{#1}}$\n",
       "$\\newcommand{\\negative}[1]{\\textcolor{red}{#1}}$\n",
       "$\\newcommand{ç}[1]{{\\textcolor{magenta}{#1}}}$\n",
       "$\\newcommand{\\bcl}[2]{\\mathbf{C}^{#1}(#2)}$\n",
       "$\\newcommand{\\hatbcl}[1]{\\hat{\\mathbf{C}}^{#1}(\\ell)}$\n",
       "$\\newcommand{\\sgl}[3]{\\Sigma^{#1}_{#2}(#3)}$\n",
       "$\\newcommand{\\bsgl}[2]{\\mathbf{\\Sigma}^{#1}(#2)}$\n",
       "$\\newcommand{\\cov}[2]{\\operatorname{Cov}\\left[#1, #2\\right]}$\n",
       "$\\newcommand{\\invcov}[2]{\\operatorname{Cov}^{-1}\\left[#1, #2\\right]}$\n",
       "$\\newcommand{\\pdv}[2]{\\frac{\\partial #1}{\\partial #2}}$\n",
       "$\\newcommand{\\orcid}[1]$\n",
       "$\\newcommand$\n",
       "$\\newcommand$\n",
       "$\\newcommand$\n",
       "$\\newcommand$\n",
       "$\\newcommand$\n",
       "$\\newcommand$\n",
       "$\\newcommand$\n",
       "$\\newcommand$\n",
       "$\\newcommand$</div>\n",
       "\n",
       "\n",
       "\n",
       "<div id=\"title\">\n",
       "\n",
       "# $\\Euclid$ preparation: 6$\\times$2pt analysis of $\\Euclid$'s spectroscopic and photometric data sets\n",
       "\n",
       "</div>\n",
       "<div id=\"comments\">\n",
       "\n",
       "[![arXiv](https://img.shields.io/badge/arXiv-2409.18882-b31b1b.svg)](https://arxiv.org/abs/2409.18882)<mark>Appeared on: 2024-10-01</mark> -  _32 pages, 20 figures. Comments are welcome_\n",
       "\n",
       "</div>\n",
       "<div id=\"authors\">\n",
       "\n",
       "E. Collaboration, et al. -- incl., <mark>K. Jahnke</mark>\n",
       "\n",
       "</div>\n",
       "<div id=\"abstract\">\n",
       "\n",
       "**Abstract:**            We present cosmological parameter forecasts for the Euclid 6x2pt statistics, which include the galaxy clustering and weak lensing main probes together with previously neglected cross-covariance and cross-correlation signals between imaging/photometric and spectroscopic data. The aim is understanding the impact of such terms on the Euclid performance. We produce 6x2pt cosmological forecasts, considering two different techniques: the so-called harmonic and hybrid approaches, respectively. In the first, we treat all the different Euclid probes in the same way, i.e. we consider only angular 2pt-statistics for spectroscopic and photometric clustering, as well as for weak lensing, analysing all their possible cross-covariances and cross-correlations in the spherical harmonic domain. In the second, we do not account for negligible cross-covariances between the 3D and 2D data, but consider the combination of their cross-correlation with the auto-correlation signals. We find that both cross-covariances and cross-correlation signals, have a negligible impact on the cosmological parameter constraints and, therefore, on the Euclid performance. In the case of the hybrid approach, we attribute this result to the effect of the cross-correlation between weak lensing and photometric data, which is dominant with respect to other cross-correlation signals. In the case of the 2D harmonic approach, we attribute this result to two main theoretical limitations of the 2D projected statistics implemented in this work according to the analysis of official Euclid forecasts: the high shot noise and the limited redshift range of the spectroscopic sample, together with the loss of radial information from subleading terms such as redshift-space distortions and lensing magnification. Our analysis suggests that 2D and 3D Euclid data can be safely treated as independent, with a great saving in computational resources.         \n",
       "\n",
       "</div>\n",
       "\n",
       "<div id=\"div_fig1\">\n",
       "\n",
       "<img src=\"tmp_2409.18882/./Figures/6x2pt/6x2pt_cov_impact.png\" alt=\"Fig14\" width=\"100%\"/>\n",
       "\n",
       "**Figure 14. -** Impact on FoM and marginalised 1-$\\sigma$ uncertainties, of cross covariances between $\\GCsp$ and $\\threetwoptShort  ([$\\WL$+$\\GCph$+$\\xc${$\\WL$}{$\\GCph$}])$, quantified with percentage differences on the constraints, in the optimistic (left) and pessimistic (right) scenarios. The reference for the percentage are the constraints of $[$\\threetwoptShort$] + [$\\GCsp$]$, where $\\GCsp$ is considered as *independent* from the rest. Note the opposite sign of the percentage differences for FoM and uncertainties. (*fig:3x2pt_sp_cov_impact*)\n",
       "\n",
       "</div>\n",
       "<div id=\"div_fig2\">\n",
       "\n",
       "<img src=\"tmp_2409.18882/./Figures/weight_functions_plot.png\" alt=\"Fig1\" width=\"100%\"/>\n",
       "\n",
       "**Figure 1. -** Weight functions for the three probes considered in the forecast. For $\\WL$ at high redshift bins, the weight function \\cref{eq:weak_lensing_full_weight}(solid line) becomes negative, due to the contribution of intrinsic alignment (IA). The shear weight function \\cref{eq:shear_weight}(dashed line) remains instead always positive as it should be. (*fig:weight_functions_plot*)\n",
       "\n",
       "</div>\n",
       "<div id=\"div_fig3\">\n",
       "\n",
       "<img src=\"tmp_2409.18882/./Figures/6x2pt/6x2pt_harmonic_xcs_impact_ref_3x2ptxGCsp.png\" alt=\"Fig15\" width=\"100%\"/>\n",
       "\n",
       "**Figure 15. -** Impact of the $\\xc{$\\GCph$}{$\\GCsp$}$ and $\\xc{$\\WL$}{$\\GCsp$}$ cross-correlations on marginalised $\\onesigma$ uncertainties, with respect to the constraints given by the $[$\\threetwoptShort$+$\\GCsp$]$ Fisher matrix, in which the cross-covariance between $\\threetwoptShort$ statistics and $\\GCsp$ is taken into account. The top panels refer to the optimistic scenario, while the bottom panels refer to the pessimistic one. The percentage differences related to $\\xc{$\\WL$}{$\\GCsp$}$ have been multiplied by $100$ to make them visible when using a single scale on the $y$ axis. (*fig:6x2pt_harmonic_xcs_impact_ref_3x2pt_gcsp_cov*)\n",
       "\n",
       "</div><div id=\"qrcode\"><img src=https://api.qrserver.com/v1/create-qr-code/?size=100x100&data=\"https://arxiv.org/abs/2409.18882\"></div>"
      ],
      "text/plain": [
       "<IPython.core.display.Markdown object>"
      ]
     },
     "metadata": {},
     "output_type": "display_data"
    }
   ],
   "source": [
    "[display(Markdown(k[1])) for k in documents];"
   ]
  },
  {
   "cell_type": "markdown",
   "id": "873873a4",
   "metadata": {
    "papermill": {
     "duration": 0.005084,
     "end_time": "2024-10-01T08:01:05.809583",
     "exception": false,
     "start_time": "2024-10-01T08:01:05.804499",
     "status": "completed"
    },
    "tags": []
   },
   "source": [
    "# Create HTML index"
   ]
  },
  {
   "cell_type": "code",
   "execution_count": 10,
   "id": "cf665672",
   "metadata": {
    "execution": {
     "iopub.execute_input": "2024-10-01T08:01:05.820480Z",
     "iopub.status.busy": "2024-10-01T08:01:05.820231Z",
     "iopub.status.idle": "2024-10-01T08:01:05.827868Z",
     "shell.execute_reply": "2024-10-01T08:01:05.827315Z"
    },
    "papermill": {
     "duration": 0.014267,
     "end_time": "2024-10-01T08:01:05.828872",
     "exception": false,
     "start_time": "2024-10-01T08:01:05.814605",
     "status": "completed"
    },
    "tags": []
   },
   "outputs": [
    {
     "name": "stdout",
     "output_type": "stream",
     "text": [
      "203  publications files modified in the last 7 days.\n"
     ]
    }
   ],
   "source": [
    "from datetime import datetime, timedelta, timezone\n",
    "from glob import glob\n",
    "import os\n",
    "\n",
    "files = glob('_build/html/*.md')\n",
    "days = 7\n",
    "now = datetime.today()\n",
    "res = []\n",
    "for fk in files:\n",
    "    stat_result = os.stat(fk).st_ctime\n",
    "    modified = datetime.fromtimestamp(stat_result, tz=timezone.utc).replace(tzinfo=None)\n",
    "    delta = now.today() - modified\n",
    "    if delta <= timedelta(days=days):\n",
    "        res.append((delta.seconds, fk))\n",
    "res = [k[1] for k in reversed(sorted(res, key=lambda x:x[1]))]\n",
    "npub = len(res)\n",
    "print(len(res), f\" publications files modified in the last {days:d} days.\")\n",
    "# [ print('\\t', k) for k in res ];"
   ]
  },
  {
   "cell_type": "code",
   "execution_count": 11,
   "id": "015de740",
   "metadata": {
    "execution": {
     "iopub.execute_input": "2024-10-01T08:01:05.840228Z",
     "iopub.status.busy": "2024-10-01T08:01:05.839767Z",
     "iopub.status.idle": "2024-10-01T08:01:05.854403Z",
     "shell.execute_reply": "2024-10-01T08:01:05.853676Z"
    },
    "papermill": {
     "duration": 0.021627,
     "end_time": "2024-10-01T08:01:05.855699",
     "exception": false,
     "start_time": "2024-10-01T08:01:05.834072",
     "status": "completed"
    },
    "tags": []
   },
   "outputs": [
    {
     "name": "stdout",
     "output_type": "stream",
     "text": [
      "14  publications in the last 7 days.\n"
     ]
    }
   ],
   "source": [
    "import datetime\n",
    "from glob import glob\n",
    "\n",
    "def get_last_n_days(lst, days=1):\n",
    "    \"\"\" Get the documents from the last n days \"\"\"\n",
    "    sorted_lst = sorted(lst, key=lambda x: x[1], reverse=True)\n",
    "    for fname, date in sorted_lst:\n",
    "        if date >= str(datetime.date.today() - datetime.timedelta(days=days)):\n",
    "            yield fname\n",
    "\n",
    "def extract_appearance_dates(lst_file):\n",
    "    dates = []\n",
    "\n",
    "    def get_date(line):\n",
    "        return line\\\n",
    "            .split('Appeared on:')[-1]\\\n",
    "            .split('</mark>')[0].strip()\n",
    "\n",
    "    for fname in lst:\n",
    "        with open(fname, 'r') as f:\n",
    "            found_date = False\n",
    "            for line in f:\n",
    "                if not found_date:\n",
    "                    if \"Appeared on\" in line:\n",
    "                        found_date = True\n",
    "                        dates.append((fname, get_date(line)))\n",
    "                else:\n",
    "                    break\n",
    "    return dates\n",
    "\n",
    "from glob import glob\n",
    "lst = glob('_build/html/*md')\n",
    "days = 7\n",
    "dates = extract_appearance_dates(lst)\n",
    "res = list(get_last_n_days(dates, days))\n",
    "npub = len(res)\n",
    "print(len(res), f\" publications in the last {days:d} days.\")"
   ]
  },
  {
   "cell_type": "code",
   "execution_count": 12,
   "id": "52ca0208",
   "metadata": {
    "execution": {
     "iopub.execute_input": "2024-10-01T08:01:05.867052Z",
     "iopub.status.busy": "2024-10-01T08:01:05.866687Z",
     "iopub.status.idle": "2024-10-01T08:01:05.871377Z",
     "shell.execute_reply": "2024-10-01T08:01:05.870826Z"
    },
    "papermill": {
     "duration": 0.011397,
     "end_time": "2024-10-01T08:01:05.872385",
     "exception": false,
     "start_time": "2024-10-01T08:01:05.860988",
     "status": "completed"
    },
    "scrolled": false,
    "tags": []
   },
   "outputs": [],
   "source": [
    "def create_carousel(npub=4):\n",
    "    \"\"\" Generate the HTML code for a carousel with `npub` slides \"\"\"\n",
    "    carousel = [\"\"\"  <div class=\"carousel\" \"\"\",\n",
    "                \"\"\"       data-flickity='{ \"autoPlay\": 10000, \"adaptiveHeight\": true, \"resize\": true, \"wrapAround\": true, \"pauseAutoPlayOnHover\": true, \"groupCells\": 1 }' id=\"asyncTypeset\">\"\"\"\n",
    "                ]\n",
    "    \n",
    "    item_str = \"\"\"    <div class=\"carousel-cell\"> <div id=\"slide{k}\" class=\"md_view\">Content {k}</div> </div>\"\"\"\n",
    "    for k in range(1, npub + 1):\n",
    "        carousel.append(item_str.format(k=k))\n",
    "    carousel.append(\"  </div>\")\n",
    "    return '\\n'.join(carousel)\n",
    "\n",
    "def create_grid(npub=4):\n",
    "    \"\"\" Generate the HTML code for a flat grid with `npub` slides \"\"\"\n",
    "    grid = [\"\"\"  <div class=\"grid\"> \"\"\",\n",
    "                ]\n",
    "    \n",
    "    item_str = \"\"\"    <div class=\"grid-item\"> <div id=\"slide{k}\" class=\"md_view\">Content {k}</div> </div>\"\"\"\n",
    "    for k in range(1, npub + 1):\n",
    "        grid.append(item_str.format(k=k))\n",
    "    grid.append(\"  </div>\")\n",
    "    return '\\n'.join(grid)"
   ]
  },
  {
   "cell_type": "code",
   "execution_count": 13,
   "id": "a6eac5b6",
   "metadata": {
    "execution": {
     "iopub.execute_input": "2024-10-01T08:01:05.883861Z",
     "iopub.status.busy": "2024-10-01T08:01:05.883467Z",
     "iopub.status.idle": "2024-10-01T08:01:05.888241Z",
     "shell.execute_reply": "2024-10-01T08:01:05.887705Z"
    },
    "papermill": {
     "duration": 0.011489,
     "end_time": "2024-10-01T08:01:05.889259",
     "exception": false,
     "start_time": "2024-10-01T08:01:05.877770",
     "status": "completed"
    },
    "scrolled": false,
    "tags": []
   },
   "outputs": [],
   "source": [
    "carousel = create_carousel(npub)\n",
    "docs = ', '.join(['\"{0:s}\"'.format(k.split('/')[-1]) for k in res])\n",
    "slides = ', '.join([f'\"slide{k}\"' for k in range(1, npub + 1)])\n",
    "\n",
    "with open(\"daily_template.html\", \"r\") as tpl:\n",
    "    page = tpl.read()\n",
    "    page = page.replace(\"{%-- carousel:s --%}\", carousel)\\\n",
    "               .replace(\"{%-- suptitle:s --%}\",  \"7-day archives\" )\\\n",
    "               .replace(\"{%-- docs:s --%}\", docs)\\\n",
    "               .replace(\"{%-- slides:s --%}\", slides)\n",
    "    \n",
    "with open(\"_build/html/index_7days.html\", 'w') as fout:\n",
    "    fout.write(page)"
   ]
  },
  {
   "cell_type": "code",
   "execution_count": 14,
   "id": "adc1a1ec",
   "metadata": {
    "execution": {
     "iopub.execute_input": "2024-10-01T08:01:05.900650Z",
     "iopub.status.busy": "2024-10-01T08:01:05.900244Z",
     "iopub.status.idle": "2024-10-01T08:01:05.908299Z",
     "shell.execute_reply": "2024-10-01T08:01:05.907614Z"
    },
    "papermill": {
     "duration": 0.014765,
     "end_time": "2024-10-01T08:01:05.909315",
     "exception": false,
     "start_time": "2024-10-01T08:01:05.894550",
     "status": "completed"
    },
    "tags": []
   },
   "outputs": [
    {
     "name": "stdout",
     "output_type": "stream",
     "text": [
      "4  publications in the last day.\n"
     ]
    }
   ],
   "source": [
    "# redo for today\n",
    "days = 1\n",
    "res = list(get_last_n_days(dates, days))\n",
    "npub = len(res)\n",
    "print(len(res), f\" publications in the last day.\")\n",
    "\n",
    "carousel = create_carousel(npub)\n",
    "docs = ', '.join(['\"{0:s}\"'.format(k.split('/')[-1]) for k in res])\n",
    "slides = ', '.join([f'\"slide{k}\"' for k in range(1, npub + 1)])\n",
    "\n",
    "with open(\"daily_template.html\", \"r\") as tpl:\n",
    "    page = tpl.read()\n",
    "    page = page.replace(\"{%-- carousel:s --%}\", carousel)\\\n",
    "               .replace(\"{%-- suptitle:s --%}\",  \"Daily\" )\\\n",
    "               .replace(\"{%-- docs:s --%}\", docs)\\\n",
    "               .replace(\"{%-- slides:s --%}\", slides)\n",
    "    \n",
    "# print(carousel, docs, slides)\n",
    "# print(page)\n",
    "with open(\"_build/html/index_daily.html\", 'w') as fout:\n",
    "    fout.write(page)"
   ]
  },
  {
   "cell_type": "code",
   "execution_count": 15,
   "id": "00eece82",
   "metadata": {
    "execution": {
     "iopub.execute_input": "2024-10-01T08:01:05.921246Z",
     "iopub.status.busy": "2024-10-01T08:01:05.920858Z",
     "iopub.status.idle": "2024-10-01T08:01:05.927138Z",
     "shell.execute_reply": "2024-10-01T08:01:05.926608Z"
    },
    "papermill": {
     "duration": 0.013208,
     "end_time": "2024-10-01T08:01:05.928117",
     "exception": false,
     "start_time": "2024-10-01T08:01:05.914909",
     "status": "completed"
    },
    "scrolled": false,
    "tags": []
   },
   "outputs": [
    {
     "name": "stdout",
     "output_type": "stream",
     "text": [
      "6  6 publications selected.\n"
     ]
    }
   ],
   "source": [
    "# Create the flat grid of the last N papers (fixed number regardless of dates)\n",
    "from itertools import islice \n",
    "\n",
    "npub = 6\n",
    "res = [k[0] for k in (islice(reversed(sorted(dates, key=lambda x: x[1])), 6))]\n",
    "print(len(res), f\" {npub} publications selected.\")\n",
    "\n",
    "grid = create_grid(npub)\n",
    "docs = ', '.join(['\"{0:s}\"'.format(k.split('/')[-1]) for k in res])\n",
    "slides = ', '.join([f'\"slide{k}\"' for k in range(1, npub + 1)])\n",
    "\n",
    "with open(\"grid_template.html\", \"r\") as tpl:\n",
    "    page = tpl.read()\n",
    "    page = page.replace(\"{%-- grid-content:s --%}\", grid)\\\n",
    "               .replace(\"{%-- suptitle:s --%}\",  f\"Last {npub:,d} papers\" )\\\n",
    "               .replace(\"{%-- docs:s --%}\", docs)\\\n",
    "               .replace(\"{%-- slides:s --%}\", slides)\n",
    "    \n",
    "# print(grid, docs, slides)\n",
    "# print(page)\n",
    "with open(\"_build/html/index_npub_grid.html\", 'w') as fout:\n",
    "    fout.write(page)"
   ]
  }
 ],
 "metadata": {
  "kernelspec": {
   "display_name": "Python 3 (ipykernel)",
   "language": "python",
   "name": "python3"
  },
  "language_info": {
   "codemirror_mode": {
    "name": "ipython",
    "version": 3
   },
   "file_extension": ".py",
   "mimetype": "text/x-python",
   "name": "python",
   "nbconvert_exporter": "python",
   "pygments_lexer": "ipython3",
   "version": "3.9.20"
  },
  "papermill": {
   "default_parameters": {},
   "duration": 607.659365,
   "end_time": "2024-10-01T08:01:06.249675",
   "environment_variables": {},
   "exception": null,
   "input_path": "MPIA daily digest.ipynb",
   "output_path": "log.ipynb",
   "parameters": {},
   "start_time": "2024-10-01T07:50:58.590310",
   "version": "2.6.0"
  },
  "vscode": {
   "interpreter": {
    "hash": "aee8b7b246df8f9039afb4144a1f6fd8d2ca17a180786b69acc140d282b71a49"
   }
  },
  "widgets": {
   "application/vnd.jupyter.widget-state+json": {
    "state": {
     "1cf1df85f98f4a48960ba69fe90afa9e": {
      "model_module": "@jupyter-widgets/controls",
      "model_module_version": "2.0.0",
      "model_name": "HTMLModel",
      "state": {
       "_dom_classes": [],
       "_model_module": "@jupyter-widgets/controls",
       "_model_module_version": "2.0.0",
       "_model_name": "HTMLModel",
       "_view_count": null,
       "_view_module": "@jupyter-widgets/controls",
       "_view_module_version": "2.0.0",
       "_view_name": "HTMLView",
       "description": "",
       "description_allow_html": false,
       "layout": "IPY_MODEL_fa714915d43345a9ae62a3a086f21a93",
       "placeholder": "​",
       "style": "IPY_MODEL_f8ee2005cbf34c2aa968e38fe9df86aa",
       "tabbable": null,
       "tooltip": null,
       "value": "100%"
      }
     },
     "3e06f6e5b5584168838615d5099ef320": {
      "model_module": "@jupyter-widgets/controls",
      "model_module_version": "2.0.0",
      "model_name": "ProgressStyleModel",
      "state": {
       "_model_module": "@jupyter-widgets/controls",
       "_model_module_version": "2.0.0",
       "_model_name": "ProgressStyleModel",
       "_view_count": null,
       "_view_module": "@jupyter-widgets/base",
       "_view_module_version": "2.0.0",
       "_view_name": "StyleView",
       "bar_color": null,
       "description_width": ""
      }
     },
     "8d6aa8c003d24ccc99640afc358767a7": {
      "model_module": "@jupyter-widgets/base",
      "model_module_version": "2.0.0",
      "model_name": "LayoutModel",
      "state": {
       "_model_module": "@jupyter-widgets/base",
       "_model_module_version": "2.0.0",
       "_model_name": "LayoutModel",
       "_view_count": null,
       "_view_module": "@jupyter-widgets/base",
       "_view_module_version": "2.0.0",
       "_view_name": "LayoutView",
       "align_content": null,
       "align_items": null,
       "align_self": null,
       "border_bottom": null,
       "border_left": null,
       "border_right": null,
       "border_top": null,
       "bottom": null,
       "display": null,
       "flex": null,
       "flex_flow": null,
       "grid_area": null,
       "grid_auto_columns": null,
       "grid_auto_flow": null,
       "grid_auto_rows": null,
       "grid_column": null,
       "grid_gap": null,
       "grid_row": null,
       "grid_template_areas": null,
       "grid_template_columns": null,
       "grid_template_rows": null,
       "height": null,
       "justify_content": null,
       "justify_items": null,
       "left": null,
       "margin": null,
       "max_height": null,
       "max_width": null,
       "min_height": null,
       "min_width": null,
       "object_fit": null,
       "object_position": null,
       "order": null,
       "overflow": null,
       "padding": null,
       "right": null,
       "top": null,
       "visibility": null,
       "width": null
      }
     },
     "8e13e2192ad740e4a3fb1c3a370bb007": {
      "model_module": "@jupyter-widgets/controls",
      "model_module_version": "2.0.0",
      "model_name": "FloatProgressModel",
      "state": {
       "_dom_classes": [],
       "_model_module": "@jupyter-widgets/controls",
       "_model_module_version": "2.0.0",
       "_model_name": "FloatProgressModel",
       "_view_count": null,
       "_view_module": "@jupyter-widgets/controls",
       "_view_module_version": "2.0.0",
       "_view_name": "ProgressView",
       "bar_style": "success",
       "description": "",
       "description_allow_html": false,
       "layout": "IPY_MODEL_8d6aa8c003d24ccc99640afc358767a7",
       "max": 3.0,
       "min": 0.0,
       "orientation": "horizontal",
       "style": "IPY_MODEL_3e06f6e5b5584168838615d5099ef320",
       "tabbable": null,
       "tooltip": null,
       "value": 3.0
      }
     },
     "b04f86592e0e41c8834db6c580b4c871": {
      "model_module": "@jupyter-widgets/controls",
      "model_module_version": "2.0.0",
      "model_name": "HTMLModel",
      "state": {
       "_dom_classes": [],
       "_model_module": "@jupyter-widgets/controls",
       "_model_module_version": "2.0.0",
       "_model_name": "HTMLModel",
       "_view_count": null,
       "_view_module": "@jupyter-widgets/controls",
       "_view_module_version": "2.0.0",
       "_view_name": "HTMLView",
       "description": "",
       "description_allow_html": false,
       "layout": "IPY_MODEL_c7358f79c6794bc9869c8c04a93b54ef",
       "placeholder": "​",
       "style": "IPY_MODEL_c613afb4dd964b888200e0613d85ecde",
       "tabbable": null,
       "tooltip": null,
       "value": " 3/3 [09:47&lt;00:00, 249.58s/it]"
      }
     },
     "c613afb4dd964b888200e0613d85ecde": {
      "model_module": "@jupyter-widgets/controls",
      "model_module_version": "2.0.0",
      "model_name": "HTMLStyleModel",
      "state": {
       "_model_module": "@jupyter-widgets/controls",
       "_model_module_version": "2.0.0",
       "_model_name": "HTMLStyleModel",
       "_view_count": null,
       "_view_module": "@jupyter-widgets/base",
       "_view_module_version": "2.0.0",
       "_view_name": "StyleView",
       "background": null,
       "description_width": "",
       "font_size": null,
       "text_color": null
      }
     },
     "c7358f79c6794bc9869c8c04a93b54ef": {
      "model_module": "@jupyter-widgets/base",
      "model_module_version": "2.0.0",
      "model_name": "LayoutModel",
      "state": {
       "_model_module": "@jupyter-widgets/base",
       "_model_module_version": "2.0.0",
       "_model_name": "LayoutModel",
       "_view_count": null,
       "_view_module": "@jupyter-widgets/base",
       "_view_module_version": "2.0.0",
       "_view_name": "LayoutView",
       "align_content": null,
       "align_items": null,
       "align_self": null,
       "border_bottom": null,
       "border_left": null,
       "border_right": null,
       "border_top": null,
       "bottom": null,
       "display": null,
       "flex": null,
       "flex_flow": null,
       "grid_area": null,
       "grid_auto_columns": null,
       "grid_auto_flow": null,
       "grid_auto_rows": null,
       "grid_column": null,
       "grid_gap": null,
       "grid_row": null,
       "grid_template_areas": null,
       "grid_template_columns": null,
       "grid_template_rows": null,
       "height": null,
       "justify_content": null,
       "justify_items": null,
       "left": null,
       "margin": null,
       "max_height": null,
       "max_width": null,
       "min_height": null,
       "min_width": null,
       "object_fit": null,
       "object_position": null,
       "order": null,
       "overflow": null,
       "padding": null,
       "right": null,
       "top": null,
       "visibility": null,
       "width": null
      }
     },
     "e2a000354ca142bf87cb0ce24d95b466": {
      "model_module": "@jupyter-widgets/base",
      "model_module_version": "2.0.0",
      "model_name": "LayoutModel",
      "state": {
       "_model_module": "@jupyter-widgets/base",
       "_model_module_version": "2.0.0",
       "_model_name": "LayoutModel",
       "_view_count": null,
       "_view_module": "@jupyter-widgets/base",
       "_view_module_version": "2.0.0",
       "_view_name": "LayoutView",
       "align_content": null,
       "align_items": null,
       "align_self": null,
       "border_bottom": null,
       "border_left": null,
       "border_right": null,
       "border_top": null,
       "bottom": null,
       "display": null,
       "flex": null,
       "flex_flow": null,
       "grid_area": null,
       "grid_auto_columns": null,
       "grid_auto_flow": null,
       "grid_auto_rows": null,
       "grid_column": null,
       "grid_gap": null,
       "grid_row": null,
       "grid_template_areas": null,
       "grid_template_columns": null,
       "grid_template_rows": null,
       "height": null,
       "justify_content": null,
       "justify_items": null,
       "left": null,
       "margin": null,
       "max_height": null,
       "max_width": null,
       "min_height": null,
       "min_width": null,
       "object_fit": null,
       "object_position": null,
       "order": null,
       "overflow": null,
       "padding": null,
       "right": null,
       "top": null,
       "visibility": null,
       "width": null
      }
     },
     "f8ee2005cbf34c2aa968e38fe9df86aa": {
      "model_module": "@jupyter-widgets/controls",
      "model_module_version": "2.0.0",
      "model_name": "HTMLStyleModel",
      "state": {
       "_model_module": "@jupyter-widgets/controls",
       "_model_module_version": "2.0.0",
       "_model_name": "HTMLStyleModel",
       "_view_count": null,
       "_view_module": "@jupyter-widgets/base",
       "_view_module_version": "2.0.0",
       "_view_name": "StyleView",
       "background": null,
       "description_width": "",
       "font_size": null,
       "text_color": null
      }
     },
     "fa714915d43345a9ae62a3a086f21a93": {
      "model_module": "@jupyter-widgets/base",
      "model_module_version": "2.0.0",
      "model_name": "LayoutModel",
      "state": {
       "_model_module": "@jupyter-widgets/base",
       "_model_module_version": "2.0.0",
       "_model_name": "LayoutModel",
       "_view_count": null,
       "_view_module": "@jupyter-widgets/base",
       "_view_module_version": "2.0.0",
       "_view_name": "LayoutView",
       "align_content": null,
       "align_items": null,
       "align_self": null,
       "border_bottom": null,
       "border_left": null,
       "border_right": null,
       "border_top": null,
       "bottom": null,
       "display": null,
       "flex": null,
       "flex_flow": null,
       "grid_area": null,
       "grid_auto_columns": null,
       "grid_auto_flow": null,
       "grid_auto_rows": null,
       "grid_column": null,
       "grid_gap": null,
       "grid_row": null,
       "grid_template_areas": null,
       "grid_template_columns": null,
       "grid_template_rows": null,
       "height": null,
       "justify_content": null,
       "justify_items": null,
       "left": null,
       "margin": null,
       "max_height": null,
       "max_width": null,
       "min_height": null,
       "min_width": null,
       "object_fit": null,
       "object_position": null,
       "order": null,
       "overflow": null,
       "padding": null,
       "right": null,
       "top": null,
       "visibility": null,
       "width": null
      }
     },
     "fd127c47aaea4dd9a0c78e60c78bbce9": {
      "model_module": "@jupyter-widgets/controls",
      "model_module_version": "2.0.0",
      "model_name": "HBoxModel",
      "state": {
       "_dom_classes": [],
       "_model_module": "@jupyter-widgets/controls",
       "_model_module_version": "2.0.0",
       "_model_name": "HBoxModel",
       "_view_count": null,
       "_view_module": "@jupyter-widgets/controls",
       "_view_module_version": "2.0.0",
       "_view_name": "HBoxView",
       "box_style": "",
       "children": [
        "IPY_MODEL_1cf1df85f98f4a48960ba69fe90afa9e",
        "IPY_MODEL_8e13e2192ad740e4a3fb1c3a370bb007",
        "IPY_MODEL_b04f86592e0e41c8834db6c580b4c871"
       ],
       "layout": "IPY_MODEL_e2a000354ca142bf87cb0ce24d95b466",
       "tabbable": null,
       "tooltip": null
      }
     }
    },
    "version_major": 2,
    "version_minor": 0
   }
  }
 },
 "nbformat": 4,
 "nbformat_minor": 5
}