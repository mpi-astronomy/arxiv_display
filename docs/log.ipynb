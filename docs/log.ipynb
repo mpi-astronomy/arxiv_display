{
 "cells": [
  {
   "cell_type": "markdown",
   "id": "92bcb855",
   "metadata": {
    "papermill": {
     "duration": 0.004577,
     "end_time": "2023-07-06T04:09:13.320165",
     "exception": false,
     "start_time": "2023-07-06T04:09:13.315588",
     "status": "completed"
    },
    "tags": []
   },
   "source": [
    "# MPIA Arxiv on Deck 2\n",
    "\n",
    "Contains the steps to produce the paper extractions."
   ]
  },
  {
   "cell_type": "code",
   "execution_count": 1,
   "id": "3a0d6e11",
   "metadata": {
    "execution": {
     "iopub.execute_input": "2023-07-06T04:09:13.328776Z",
     "iopub.status.busy": "2023-07-06T04:09:13.328213Z",
     "iopub.status.idle": "2023-07-06T04:09:13.542473Z",
     "shell.execute_reply": "2023-07-06T04:09:13.541839Z"
    },
    "papermill": {
     "duration": 0.220463,
     "end_time": "2023-07-06T04:09:13.544379",
     "exception": false,
     "start_time": "2023-07-06T04:09:13.323916",
     "status": "completed"
    },
    "tags": []
   },
   "outputs": [],
   "source": [
    "# Imports\n",
    "import os\n",
    "from IPython.display import Markdown, display\n",
    "from tqdm.notebook import tqdm\n",
    "import warnings\n",
    "from PIL import Image \n",
    "\n",
    "# requires arxiv_on_deck_2\n",
    "\n",
    "from arxiv_on_deck_2.arxiv2 import (get_new_papers, \n",
    "                                    get_paper_from_identifier,\n",
    "                                    retrieve_document_source, \n",
    "                                    get_markdown_badge)\n",
    "from arxiv_on_deck_2 import (latex,\n",
    "                             latex_bib,\n",
    "                             mpia,\n",
    "                             highlight_authors_in_list)\n",
    "\n",
    "# Sometimes images are really big\n",
    "Image.MAX_IMAGE_PIXELS = 1000000000 "
   ]
  },
  {
   "cell_type": "code",
   "execution_count": 2,
   "id": "22aa9d44",
   "metadata": {
    "execution": {
     "iopub.execute_input": "2023-07-06T04:09:13.552607Z",
     "iopub.status.busy": "2023-07-06T04:09:13.552391Z",
     "iopub.status.idle": "2023-07-06T04:09:13.557950Z",
     "shell.execute_reply": "2023-07-06T04:09:13.557340Z"
    },
    "papermill": {
     "duration": 0.011753,
     "end_time": "2023-07-06T04:09:13.559721",
     "exception": false,
     "start_time": "2023-07-06T04:09:13.547968",
     "status": "completed"
    },
    "tags": []
   },
   "outputs": [],
   "source": [
    "# Some useful definitions.\n",
    "\n",
    "class AffiliationWarning(UserWarning):\n",
    "    pass\n",
    "\n",
    "class AffiliationError(RuntimeError):\n",
    "    pass\n",
    "\n",
    "def validation(source: str):\n",
    "    \"\"\"Raises error paper during parsing of source file\n",
    "    \n",
    "    Allows checks before parsing TeX code.\n",
    "    \n",
    "    Raises AffiliationWarning\n",
    "    \"\"\"\n",
    "    check = mpia.affiliation_verifications(source, verbose=True)\n",
    "    if check is not True:\n",
    "        raise AffiliationError(\"mpia.affiliation_verifications: \" + check)\n",
    "\n",
    "        \n",
    "warnings.simplefilter('always', AffiliationWarning)\n",
    "\n",
    "\n",
    "def get_markdown_qrcode(paper_id: str):\n",
    "    \"\"\" Generate a qrcode to the arxiv page using qrserver.com\n",
    "    \n",
    "    :param paper: Arxiv paper\n",
    "    :returns: markdown text\n",
    "    \"\"\"\n",
    "    url = r\"https://api.qrserver.com/v1/create-qr-code/?size=100x100&data=\"\n",
    "    txt = f\"\"\"<img src={url}\"https://arxiv.org/abs/{paper_id}\">\"\"\"\n",
    "    txt = '<div id=\"qrcode\">' + txt + '</div>'\n",
    "    return txt"
   ]
  },
  {
   "cell_type": "markdown",
   "id": "14bd6310",
   "metadata": {
    "papermill": {
     "duration": 0.003229,
     "end_time": "2023-07-06T04:09:13.566253",
     "exception": false,
     "start_time": "2023-07-06T04:09:13.563024",
     "status": "completed"
    },
    "tags": []
   },
   "source": [
    "## get list of arxiv paper candidates\n",
    "\n",
    "We use the MPIA mitarbeiter list webpage from mpia.de to get author names\n",
    "We then get all new papers from Arxiv and match authors"
   ]
  },
  {
   "cell_type": "code",
   "execution_count": 3,
   "id": "2645e73a",
   "metadata": {
    "execution": {
     "iopub.execute_input": "2023-07-06T04:09:13.573769Z",
     "iopub.status.busy": "2023-07-06T04:09:13.573565Z",
     "iopub.status.idle": "2023-07-06T04:09:38.327633Z",
     "shell.execute_reply": "2023-07-06T04:09:38.326310Z"
    },
    "papermill": {
     "duration": 24.759999,
     "end_time": "2023-07-06T04:09:38.329580",
     "exception": false,
     "start_time": "2023-07-06T04:09:13.569581",
     "status": "completed"
    },
    "tags": []
   },
   "outputs": [
    {
     "name": "stdout",
     "output_type": "stream",
     "text": [
      "A. Dumont  ->  A. Dumont  |  ['A. Dumont']\n",
      "N. Neumayer  ->  N. Neumayer  |  ['N. Neumayer']\n",
      "A. Feldmeier-Krause  ->  A. Feldmeier-Krause  |  ['A. Feldmeier-Krause']\n",
      "A. Pillepich  ->  A. Pillepich  |  ['A. Pillepich']\n",
      "A. Pillepich  ->  A. Pillepich  |  ['A. Pillepich']\n",
      "A. Pillepich  ->  A. Pillepich  |  ['A. Pillepich']\n",
      "X. Zhang  ->  X. Zhang  |  ['X. Zhang']\n",
      "J. He  ->  J. He  |  ['J. He']\n"
     ]
    },
    {
     "name": "stdout",
     "output_type": "stream",
     "text": [
      "X. Zhang  ->  X. Zhang  |  ['X. Zhang']\n",
      "Arxiv has 112 new papers today\n",
      "          7 with possible author matches\n"
     ]
    }
   ],
   "source": [
    "# get list from MPIA website\n",
    "# it automatically filters identified non-scientists :func:`mpia.filter_non_scientists`\n",
    "mpia_authors = mpia.get_mpia_mitarbeiter_list()\n",
    "normed_mpia_authors = [k[1] for k in mpia_authors]   # initials + fullname\n",
    "new_papers = get_new_papers()\n",
    "# add manual references\n",
    "add_paper_refs = []\n",
    "new_papers.extend([get_paper_from_identifier(k) for k in add_paper_refs])\n",
    "\n",
    "candidates = []\n",
    "for paperk in new_papers:\n",
    "    # Check author list with their initials\n",
    "    normed_author_list = [mpia.get_initials(k) for k in paperk['authors']]\n",
    "    hl_authors = highlight_authors_in_list(normed_author_list, normed_mpia_authors, verbose=True)\n",
    "    matches = [(hl, orig) for hl, orig in zip(hl_authors, paperk['authors']) if 'mark' in hl]\n",
    "    paperk['authors'] = hl_authors\n",
    "    if matches:\n",
    "        # only select paper if an author matched our list\n",
    "        candidates.append(paperk)\n",
    "print(\"\"\"Arxiv has {0:,d} new papers today\"\"\".format(len(new_papers)))        \n",
    "print(\"\"\"          {0:,d} with possible author matches\"\"\".format(len(candidates)))"
   ]
  },
  {
   "cell_type": "markdown",
   "id": "3543b34a",
   "metadata": {
    "papermill": {
     "duration": 0.003596,
     "end_time": "2023-07-06T04:09:38.337043",
     "exception": false,
     "start_time": "2023-07-06T04:09:38.333447",
     "status": "completed"
    },
    "tags": []
   },
   "source": [
    "# Parse sources and generate relevant outputs\n",
    "\n",
    "From the candidates, we do the following steps:\n",
    "* get their tarball from ArXiv (and extract data)\n",
    "* find the main .tex file: find one with \\documentclass{...} (sometimes it's non trivial)\n",
    "* Check affiliations with :func:`validation`, which uses :func:`mpia.affiliation_verifications`\n",
    "* If passing the affiliations: we parse the .tex source\n",
    "   * inject sub-documents into the main (flatten the main document)\n",
    "   * parse structure, extract information (title, abstract, authors, figures...)\n",
    "   * handles `\\graphicspath` if provided\n",
    "* Generate the .md document."
   ]
  },
  {
   "cell_type": "code",
   "execution_count": 4,
   "id": "9576b79e",
   "metadata": {
    "execution": {
     "iopub.execute_input": "2023-07-06T04:09:38.345378Z",
     "iopub.status.busy": "2023-07-06T04:09:38.345127Z",
     "iopub.status.idle": "2023-07-06T04:13:57.845527Z",
     "shell.execute_reply": "2023-07-06T04:13:57.844751Z"
    },
    "papermill": {
     "duration": 259.506685,
     "end_time": "2023-07-06T04:13:57.847193",
     "exception": false,
     "start_time": "2023-07-06T04:09:38.340508",
     "status": "completed"
    },
    "scrolled": false,
    "tags": []
   },
   "outputs": [
    {
     "data": {
      "application/vnd.jupyter.widget-view+json": {
       "model_id": "05449b93e032471c9031af54929561ca",
       "version_major": 2,
       "version_minor": 0
      },
      "text/plain": [
       "  0%|          | 0/6 [00:00<?, ?it/s]"
      ]
     },
     "metadata": {},
     "output_type": "display_data"
    },
    {
     "name": "stdout",
     "output_type": "stream",
     "text": [
      "Retrieving document from  https://arxiv.org/e-print/2307.01252\n"
     ]
    },
    {
     "name": "stdout",
     "output_type": "stream",
     "text": [
      "extracting tarball to tmp_2307.01252..."
     ]
    },
    {
     "name": "stdout",
     "output_type": "stream",
     "text": [
      " done.\n"
     ]
    },
    {
     "name": "stdout",
     "output_type": "stream",
     "text": [
      "A. Dumont  ->  A. Dumont  |  ['A. Dumont']\n",
      "N. Neumayer  ->  N. Neumayer  |  ['N. Neumayer']\n",
      "A. Feldmeier-Krause  ->  A. Feldmeier-Krause  |  ['A. Feldmeier-Krause']\n"
     ]
    },
    {
     "name": "stdout",
     "output_type": "stream",
     "text": [
      "Found 100 bibliographic references in tmp_2307.01252/reveallagn0.bbl.\n",
      "syntax error in line 46: '=' expected\n",
      "Retrieving document from  https://arxiv.org/e-print/2307.01259\n"
     ]
    },
    {
     "name": "stdout",
     "output_type": "stream",
     "text": [
      "extracting tarball to tmp_2307.01259..."
     ]
    },
    {
     "name": "stdout",
     "output_type": "stream",
     "text": [
      " done.\n"
     ]
    },
    {
     "name": "stderr",
     "output_type": "stream",
     "text": [
      "/opt/hostedtoolcache/Python/3.9.17/x64/lib/python3.9/site-packages/IPython/core/interactiveshell.py:3508: LatexWarning: Multiple tex files.\n",
      "\n",
      "  exec(code_obj, self.user_global_ns, self.user_ns)\n",
      "/opt/hostedtoolcache/Python/3.9.17/x64/lib/python3.9/site-packages/IPython/core/interactiveshell.py:3508: LatexWarning: Found documentclass in tmp_2307.01259/main.tex\n",
      "\n",
      "  exec(code_obj, self.user_global_ns, self.user_ns)\n",
      "/opt/hostedtoolcache/Python/3.9.17/x64/lib/python3.9/site-packages/arxiv_on_deck_2/latex.py:399: LatexWarning: Latex injecting: 'table_Simba.tex' from 'tmp_2307.01259/table_Simba.tex'\n",
      "  warnings.warn(LatexWarning(f\"Latex injecting: '{ext}' from '{subsource}'\"))\n",
      "/opt/hostedtoolcache/Python/3.9.17/x64/lib/python3.9/site-packages/arxiv_on_deck_2/latex.py:399: LatexWarning: Latex injecting: 'table_Eagle.tex' from 'tmp_2307.01259/table_Eagle.tex'\n",
      "  warnings.warn(LatexWarning(f\"Latex injecting: '{ext}' from '{subsource}'\"))\n",
      "/opt/hostedtoolcache/Python/3.9.17/x64/lib/python3.9/site-packages/arxiv_on_deck_2/latex.py:399: LatexWarning: Latex injecting: 'table_TNG.tex' from 'tmp_2307.01259/table_TNG.tex'\n",
      "  warnings.warn(LatexWarning(f\"Latex injecting: '{ext}' from '{subsource}'\"))\n",
      "/opt/hostedtoolcache/Python/3.9.17/x64/lib/python3.9/site-packages/arxiv_on_deck_2/latex.py:399: LatexWarning: Latex injecting: 'table_samples' from 'tmp_2307.01259/table_samples.tex'\n",
      "  warnings.warn(LatexWarning(f\"Latex injecting: '{ext}' from '{subsource}'\"))\n"
     ]
    },
    {
     "name": "stdout",
     "output_type": "stream",
     "text": [
      "A. Pillepich  ->  A. Pillepich  |  ['A. Pillepich']\n"
     ]
    },
    {
     "name": "stdout",
     "output_type": "stream",
     "text": [
      "Found 139 bibliographic references in tmp_2307.01259/main.bbl.\n",
      "Retrieving document from  https://arxiv.org/e-print/2307.01269\n"
     ]
    },
    {
     "name": "stdout",
     "output_type": "stream",
     "text": [
      "extracting tarball to tmp_2307.01269..."
     ]
    },
    {
     "name": "stdout",
     "output_type": "stream",
     "text": [
      " done.\n"
     ]
    },
    {
     "name": "stdout",
     "output_type": "stream",
     "text": [
      "A. Pillepich  ->  A. Pillepich  |  ['A. Pillepich']\n"
     ]
    },
    {
     "name": "stdout",
     "output_type": "stream",
     "text": [
      "Found 103 bibliographic references in tmp_2307.01269/ms.bbl.\n",
      "Retrieving document from  https://arxiv.org/e-print/2307.01277\n"
     ]
    },
    {
     "name": "stdout",
     "output_type": "stream",
     "text": [
      "extracting tarball to tmp_2307.01277..."
     ]
    },
    {
     "name": "stdout",
     "output_type": "stream",
     "text": [
      " done.\n"
     ]
    },
    {
     "name": "stdout",
     "output_type": "stream",
     "text": [
      "Found 98 bibliographic references in tmp_2307.01277/paper.bbl.\n",
      "Retrieving document from  https://arxiv.org/e-print/2307.01605\n"
     ]
    },
    {
     "name": "stdout",
     "output_type": "stream",
     "text": [
      "extracting tarball to tmp_2307.01605..."
     ]
    },
    {
     "name": "stdout",
     "output_type": "stream",
     "text": [
      " done.\n",
      "Retrieving document from  https://arxiv.org/e-print/2307.01724\n"
     ]
    },
    {
     "name": "stdout",
     "output_type": "stream",
     "text": [
      "extracting tarball to tmp_2307.01724..."
     ]
    },
    {
     "name": "stdout",
     "output_type": "stream",
     "text": [
      " done.\n"
     ]
    }
   ],
   "source": [
    "documents = []\n",
    "failed = []\n",
    "for paper in tqdm(candidates[:-1]):\n",
    "    paper_id = paper['identifier'].lower().replace('arxiv:', '')\n",
    "    \n",
    "    folder = f'tmp_{paper_id}'\n",
    "\n",
    "    try:\n",
    "        if not os.path.isdir(folder):\n",
    "            folder = retrieve_document_source(f\"{paper_id}\", f'tmp_{paper_id}')\n",
    "        \n",
    "        try:\n",
    "            doc = latex.LatexDocument(folder, validation=validation)    \n",
    "        except AffiliationError as affilerror:\n",
    "            msg = f\"ArXiv:{paper_id:s} is not an MPIA paper... \" + str(affilerror)\n",
    "            failed.append((paper, \"affiliation error: \" + str(affilerror) ))\n",
    "            continue\n",
    "        \n",
    "        # Hack because sometimes author parsing does not work well\n",
    "        if (len(doc.authors) != len(paper['authors'])):\n",
    "            doc._authors = paper['authors']\n",
    "        else:\n",
    "            # highlight authors (FIXME: doc.highlight_authors)\n",
    "            # done on arxiv paper already\n",
    "            doc._authors = highlight_authors_in_list(\n",
    "                [mpia.get_initials(k) for k in doc.authors], \n",
    "                normed_mpia_authors, verbose=True)\n",
    "        if (doc.abstract) in (None, ''):\n",
    "            doc._abstract = paper['abstract']\n",
    "            \n",
    "        doc.comment = (get_markdown_badge(paper_id) + \n",
    "                       \"<mark>Appeared on: \" + paper['date'] + \"</mark> - \")\n",
    "        if paper['comments']:\n",
    "            doc.comment += \" _\" + paper['comments'] + \"_\"\n",
    "        \n",
    "        full_md = doc.generate_markdown_text()\n",
    "        \n",
    "        full_md += get_markdown_qrcode(paper_id)\n",
    "        \n",
    "        # replace citations\n",
    "        try:\n",
    "            bibdata = latex_bib.LatexBib.from_doc(doc)\n",
    "            full_md = latex_bib.replace_citations(full_md, bibdata)\n",
    "        except Exception as e:\n",
    "            print(e)\n",
    "        \n",
    "        documents.append((paper_id, full_md))\n",
    "    except Exception as e:\n",
    "        warnings.warn(latex.LatexWarning(f\"{paper_id:s} did not run properly\\n\" +\n",
    "                                         str(e)\n",
    "                                        ))\n",
    "        failed.append((paper, \"latex error \" + str(e)))"
   ]
  },
  {
   "cell_type": "markdown",
   "id": "2505a25c",
   "metadata": {
    "papermill": {
     "duration": 0.00476,
     "end_time": "2023-07-06T04:13:57.856921",
     "exception": false,
     "start_time": "2023-07-06T04:13:57.852161",
     "status": "completed"
    },
    "tags": []
   },
   "source": [
    "### Export the logs\n",
    "\n",
    "Throughout, we also keep track of the logs per paper. see `logs-{today date}.md` "
   ]
  },
  {
   "cell_type": "code",
   "execution_count": 5,
   "id": "d733828a",
   "metadata": {
    "execution": {
     "iopub.execute_input": "2023-07-06T04:13:57.867902Z",
     "iopub.status.busy": "2023-07-06T04:13:57.867239Z",
     "iopub.status.idle": "2023-07-06T04:13:57.884479Z",
     "shell.execute_reply": "2023-07-06T04:13:57.883848Z"
    },
    "papermill": {
     "duration": 0.024326,
     "end_time": "2023-07-06T04:13:57.885913",
     "exception": false,
     "start_time": "2023-07-06T04:13:57.861587",
     "status": "completed"
    },
    "scrolled": false,
    "tags": []
   },
   "outputs": [
    {
     "data": {
      "text/markdown": [
       "## Successful papers"
      ],
      "text/plain": [
       "<IPython.core.display.Markdown object>"
      ]
     },
     "metadata": {},
     "output_type": "display_data"
    },
    {
     "data": {
      "text/markdown": [
       "\n",
       "|||\n",
       "|---:|:---|\n",
       "| [![arXiv](https://img.shields.io/badge/arXiv-arXiv:2307.01252-b31b1b.svg)](https://arxiv.org/abs/arXiv:2307.01252) | **ReveaLLAGN 0: First Look at JWST MIRI data of Sombrero and NGC 1052**  |\n",
       "|| K. Goold, et al. -- incl., <mark>A. Dumont</mark>, <mark>N. Neumayer</mark>, <mark>A. Feldmeier-Krause</mark> |\n",
       "|*Appeared on*| *2023-07-06*|\n",
       "|*Comments*| *Submitted to ApJ*|\n",
       "|**Abstract**| We present the first results from the Revealing Low-Luminosity Active Galactic Nuclei (ReveaLLAGN) survey, a JWST survey of seven nearby LLAGN. We focus on two observations with the Mid-Infrared Instrument's (MIRI) Medium Resolution Spectrograph (MRS) of the nuclei of NGC 1052 and Sombrero (NGC 4594 / M104). We also compare these data to public JWST data of a higher-luminosity AGN, NGC 7319. JWST clearly resolves the AGN component even in Sombrero, the faintest target in our survey; the AGN components have very red spectra. We find that the emission-line widths in both NGC 1052 and Sombrero increase with increasing ionization potential, with FWHM > 1000 km/s for lines with ionization potential > 50 eV. These lines are also significantly blue-shifted in both LLAGN. The high ionization potential lines in NGC 7319 show neither broad widths or significant blue shifts. Many of the lower ionization potential emission lines in Sombrero show significant blue wings extending > 1000 km/s. These features and the emission-line maps in both galaxies are consistent with outflows along the jet direction. Sombrero has the lowest luminosity high-ionization potential lines ([Ne V] and [O IV]) ever measured in the mid-IR, but the relative strengths of these lines are consistent with higher luminosity AGN. On the other hand, the [Ne V] emission is much weaker relative to the [Ne III}] and [Ne II] lines of higher-luminosity AGN. These initial results show the great promise that JWST holds for identifying and studying the physical nature of LLAGN. |"
      ],
      "text/plain": [
       "[arXiv:2307.01252] ReveaLLAGN 0: First Look at JWST MIRI data of Sombrero and NGC 1052\n",
       "\tK. Goold, et al. -- incl., <mark>A. Dumont</mark>, <mark>N. Neumayer</mark>, <mark>A. Feldmeier-Krause</mark>"
      ]
     },
     "metadata": {},
     "output_type": "display_data"
    },
    {
     "data": {
      "text/markdown": [
       "\n",
       "|||\n",
       "|---:|:---|\n",
       "| [![arXiv](https://img.shields.io/badge/arXiv-arXiv:2307.01259-b31b1b.svg)](https://arxiv.org/abs/arXiv:2307.01259) | **Mapping the imprints of stellar and AGN feedback in the circumgalactic  medium with X-ray microcalorimeters**  |\n",
       "|| G. Schellenberger, et al. -- incl., <mark>A. Pillepich</mark> |\n",
       "|*Appeared on*| *2023-07-06*|\n",
       "|*Comments*| *38 pages, 18 figures, submitted to ApJ*|\n",
       "|**Abstract**| The Astro2020 Decadal Survey has identified the mapping of the circumgalactic medium (CGM, gaseous plasma around galaxies) as a key objective. We explore the prospects for characterizing the CGM in and around nearby galaxy halos with future large grasp X-ray microcalorimeters. We create realistic mock observations from hydrodynamical simulations (EAGLE, IllustrisTNG, and Simba) that demonstrate a wide range of potential measurements, which will address the open questions in galaxy formation and evolution. By including all background and foreground components in our mock observations, we show why it is impossible to perform these measurements with current instruments, such as X-ray CCDs, and only microcalorimeters will allow us to distinguish the faint CGM emission from the bright Milky Way (MW) foreground emission lines. We find that individual halos of MW mass can, on average, be traced out to large radii, around R500, and for larger galaxies even out to R200, using the OVII, OVIII, or FeXVII emission lines. Furthermore, we show that emission line ratios for individual halos can reveal the radial temperature structure. Substructure measurements show that it will be possible to relate azimuthal variations to the feedback mode of the galaxy. We demonstrate the ability to construct temperature, velocity, and abundance ratio maps from spectral fitting for individual galaxy halos, which reveal rotation features, AGN outbursts, and enrichment. |"
      ],
      "text/plain": [
       "[arXiv:2307.01259] Mapping the imprints of stellar and AGN feedback in the circumgalactic  medium with X-ray microcalorimeters\n",
       "\tG. Schellenberger, et al. -- incl., <mark>A. Pillepich</mark>"
      ]
     },
     "metadata": {},
     "output_type": "display_data"
    },
    {
     "data": {
      "text/markdown": [
       "\n",
       "|||\n",
       "|---:|:---|\n",
       "| [![arXiv](https://img.shields.io/badge/arXiv-arXiv:2307.01269-b31b1b.svg)](https://arxiv.org/abs/arXiv:2307.01269) | **Properties of the Line-of-Sight Velocity Field in the Hot and X-ray  Emitting Circumgalactic Medium of Nearby Simulated Disk Galaxies**  |\n",
       "|| J. A. ZuHone, et al. -- incl., <mark>A. Pillepich</mark> |\n",
       "|*Appeared on*| *2023-07-06*|\n",
       "|*Comments*| *41 pages, 29 figures, submitted to ApJ*|\n",
       "|**Abstract**| The hot, X-ray-emitting phase of the circumgalactic medium in galaxies is believed to be the reservoir of baryons from which gas flows onto the central galaxy and into which feedback from AGN and stars inject mass, momentum, energy, and metals. These effects shape the velocity fields of the hot gas, which can be observed by X-ray IFUs via the Doppler shifting and broadening of emission lines. In this work, we analyze the gas kinematics of the hot circumgalactic medium of Milky Way-mass disk galaxies from the TNG50 simulation with synthetic observations to determine how future instruments can probe this velocity structure. We find that the hot phase is often characterized by outflows outward from the disk driven by feedback processes, radial inflows near the galactic plane, and rotation, though in other cases the velocity field is more disorganized and turbulent. With a spectral resolution of $\\sim$1 eV, fast and hot outflows ($\\sim$200-500 km s$^{-1}$) can be measured, depending on the orientation of the galaxy on the sky. The rotation velocity of the hot phase ($\\sim$100-200 km s$^{-1}$) can be measured using line shifts in edge-on galaxies, and is slower than that of colder gas phases but similar to stellar rotation velocities. By contrast, the slow inflows ($\\sim$50-100 km s$^{-1}$) are difficult to measure in projection with these other components. We find that the velocity measured is sensitive to which emission lines are used. Measuring these flows will help constrain theories of how the gas in these galaxies forms and evolves. |"
      ],
      "text/plain": [
       "[arXiv:2307.01269] Properties of the Line-of-Sight Velocity Field in the Hot and X-ray  Emitting Circumgalactic Medium of Nearby Simulated Disk Galaxies\n",
       "\tJ. A. ZuHone, et al. -- incl., <mark>A. Pillepich</mark>"
      ]
     },
     "metadata": {},
     "output_type": "display_data"
    },
    {
     "data": {
      "text/markdown": [
       "\n",
       "|||\n",
       "|---:|:---|\n",
       "| [![arXiv](https://img.shields.io/badge/arXiv-arXiv:2307.01277-b31b1b.svg)](https://arxiv.org/abs/arXiv:2307.01277) | **X-ray metal line emission from the hot circumgalactic medium: probing  the effects of supermassive black hole feedback**  |\n",
       "|| N. Truong, et al. -- incl., <mark>A. Pillepich</mark> |\n",
       "|*Appeared on*| *2023-07-06*|\n",
       "|*Comments*| *21 pages, 15 figures. Submitted to MNRAS and received a positive referee report*|\n",
       "|**Abstract**| We derive predictions from state-of-the-art cosmological galaxy simulations for the spatial distribution of the hot circumgalactic medium (CGM, ${\\rm [0.1-1]R_{200c}}$) through its emission lines in the X-ray soft band ($[0.3-1.3]$ keV). In particular, we compare IllustrisTNG, EAGLE, and SIMBA and focus on galaxies with stellar mass $10^{10-11.6}\\, \\MSUN$ at $z=0$. The three simulation models return significantly different surface brightness radial profiles of prominent emission lines from ionized metals such as OVII(f), OVIII, and FeXVII as a function of galaxy mass. Likewise, the three simulations predict varying azimuthal distributions of line emission with respect to the galactic stellar planes, with IllustrisTNG predicting the strongest angular modulation of CGM physical properties at radial range ${\\gtrsim0.3-0.5\\,R_{200c}}$. This anisotropic signal is more prominent for higher-energy lines, where it can manifest as X-ray eROSITA-like bubbles. Despite different models of stellar and supermassive black hole (SMBH) feedback, the three simulations consistently predict a dichotomy between star-forming and quiescent galaxies at the Milky-Way and Andromeda mass range, where the former are X-ray brighter than the latter. This is a signature of SMBH-driven outflows, which are responsible for quenching star formation. Finally, we explore the prospect of testing these predictions with a microcalorimeter-based X-ray mission concept with a large field-of-view. Such a mission would probe the extended hot CGM via soft X-ray line emission, determine the physical properties of the CGM, including temperature, from the measurement of line ratios, and provide critical constraints on the efficiency and impact of SMBH feedback on the CGM. |"
      ],
      "text/plain": [
       "[arXiv:2307.01277] X-ray metal line emission from the hot circumgalactic medium: probing  the effects of supermassive black hole feedback\n",
       "\tN. Truong, et al. -- incl., <mark>A. Pillepich</mark>"
      ]
     },
     "metadata": {},
     "output_type": "display_data"
    },
    {
     "data": {
      "text/markdown": [
       "## Failed papers"
      ],
      "text/plain": [
       "<IPython.core.display.Markdown object>"
      ]
     },
     "metadata": {},
     "output_type": "display_data"
    },
    {
     "data": {
      "text/markdown": [
       "\n",
       "|||\n",
       "|---:|:---|\n",
       "| [![arXiv](https://img.shields.io/badge/arXiv-arXiv:2307.01605-b31b1b.svg)](https://arxiv.org/abs/arXiv:2307.01605) | **Cosmology with fast radio bursts in the era of SKA**  |\n",
       "|| J.-G. Zhang, et al. -- incl., <mark>X. Zhang</mark> |\n",
       "|*Appeared on*| *2023-07-06*|\n",
       "|*Comments*| *16 pages, 6 figures*|\n",
       "|**Abstract**| We present a forecast of the cosmological parameter estimation using fast radio bursts (FRBs) from the upcoming Square Kilometre Array (SKA), focusing on the issues of dark energy, the Hubble constant, and baryon density. We simulate $10^5$ and $10^6$ localized FRBs from a 10-year SKA observation, and find that: (i) using $10^6$ FRB data alone can tightly constrain dark-energy equation of state parameters better than CMB+BAO+SN, providing a single cosmological probe to explore dark energy; (ii) combining the FRB data with gravitational wave standard siren data from 10-year observation with the Einstein Telescope, the Hubble constant can be constrained to a sub-percent level, serving as a powerful low-redshift probe; (iii) using $10^6$ FRB data can constrain the baryon density $\\Omega_{\\rm b}h$ to a precision of $\\sim 0.1\\%$. Our results indicate that SKA-era FRBs will provide precise cosmological measurements to shed light on both dark energy and the missing baryon problem, and help resolve the Hubble tension. |\n",
       "|<p style=\"color:green\"> **ERROR** </p>| <p style=\"color:green\">affiliation error: mpia.affiliation_verifications: 'Heidelberg' keyword not found.</p> |"
      ],
      "text/plain": [
       "<IPython.core.display.Markdown object>"
      ]
     },
     "metadata": {},
     "output_type": "display_data"
    },
    {
     "data": {
      "text/markdown": [
       "\n",
       "|||\n",
       "|---:|:---|\n",
       "| [![arXiv](https://img.shields.io/badge/arXiv-arXiv:2307.01724-b31b1b.svg)](https://arxiv.org/abs/arXiv:2307.01724) | **Calibration of the in-orbit center-of-mass of TaiJi-1**  |\n",
       "|| X. Wei, et al. -- incl., <mark>J. He</mark> |\n",
       "|*Appeared on*| *2023-07-06*|\n",
       "|*Comments*| *8 pages, 9 figures*|\n",
       "|**Abstract**| Taiji program is a space mission aiming to detect gravitational waves in the low frequency band. Taiji-1 is the first technology demonstration satellite of the Taiji Program in Space, with the gravitational reference sensor (GRS) serving as one of its key scientific payloads. For accurate accelerometer measurements, the test-mass center of the GRS must be positioned precisely at the center of gravity of the satellite to avoid measurement disturbances caused by angular acceleration and gradient. Due to installation and measurement errors, fuel consumption during in-flight phase, and other factors, the offset between the test-mass center and the center-of-mass (COM) of the satellite can be significant, degrading the measurement accuracy of the accelerometer. Therefore, the offset needs to be estimated and controlled within the required range by the center-of-mass adjustment mechanism during the satellite's lifetime. In this paper, we present a novel method, the Extended Kalman Filter combined with Rauch-Tung-Striebel Smoother, to estimate the offset, while utilizing the chi-square test to eliminate outliers. Additionally, the nonlinear Least Squares estimation algorithm is employed as a crosscheck to estimate the offset of COM. The two methods are shown to give consistent results, with the offset estimated to be $dx \\approx $$-$$0.19$ mm, $dy \\approx 0.64$ mm, and $dz \\approx $$-$$0.82$ mm. The results indicate a significant improvement on the noise level of GRS after the COM calibration, which will be of great help for the future Taiji program. |\n",
       "|<p style=\"color:green\"> **ERROR** </p>| <p style=\"color:green\">affiliation error: mpia.affiliation_verifications: 'Heidelberg' keyword not found.</p> |"
      ],
      "text/plain": [
       "<IPython.core.display.Markdown object>"
      ]
     },
     "metadata": {},
     "output_type": "display_data"
    }
   ],
   "source": [
    "import datetime\n",
    "today = str(datetime.date.today())\n",
    "logfile = f\"_build/html/logs/log-{today}.md\"\n",
    "\n",
    "\n",
    "with open(logfile, 'w') as logs:\n",
    "    # Success\n",
    "    logs.write(f'# Arxiv on Deck 2: Logs - {today}\\n\\n')\n",
    "    logs.write(\"\"\"* Arxiv had {0:,d} new papers\\n\"\"\".format(len(new_papers)))\n",
    "    logs.write(\"\"\"    * {0:,d} with possible author matches\\n\\n\"\"\".format(len(candidates)))\n",
    "    logs.write(\"## Sucessful papers\\n\\n\")\n",
    "    display(Markdown(\"## Successful papers\"))\n",
    "    success = [k[0] for k in documents]\n",
    "    for candid in candidates:\n",
    "        if candid['identifier'].split(':')[-1] in success:\n",
    "            display(candid)\n",
    "            logs.write(candid.generate_markdown_text() + '\\n\\n')\n",
    "\n",
    "    ## failed\n",
    "    logs.write(\"## Failed papers\\n\\n\")\n",
    "    display(Markdown(\"## Failed papers\"))\n",
    "    failed = sorted(failed, key=lambda x: x[1])\n",
    "    current_reason = \"\"\n",
    "    for paper, reason in failed:\n",
    "        if 'affiliation' in reason:\n",
    "            color = 'green'\n",
    "        else:\n",
    "            color = 'red'\n",
    "        data = Markdown(\n",
    "                paper.generate_markdown_text() + \n",
    "                f'\\n|<p style=\"color:{color:s}\"> **ERROR** </p>| <p style=\"color:{color:s}\">{reason:s}</p> |'\n",
    "               )\n",
    "        if reason != current_reason:\n",
    "            logs.write(f'### {reason:s} \\n\\n')\n",
    "            current_reason = reason\n",
    "        logs.write(data.data + '\\n\\n')\n",
    "        \n",
    "        # only display here the important errors (all in logs)\n",
    "        # if color in ('red',):\n",
    "        display(data)"
   ]
  },
  {
   "cell_type": "markdown",
   "id": "472d20ee",
   "metadata": {
    "papermill": {
     "duration": 0.005597,
     "end_time": "2023-07-06T04:13:57.897282",
     "exception": false,
     "start_time": "2023-07-06T04:13:57.891685",
     "status": "completed"
    },
    "tags": []
   },
   "source": [
    "## Export documents\n",
    "\n",
    "We now write the .md files and export relevant images"
   ]
  },
  {
   "cell_type": "code",
   "execution_count": 6,
   "id": "d426aed9",
   "metadata": {
    "execution": {
     "iopub.execute_input": "2023-07-06T04:13:57.910104Z",
     "iopub.status.busy": "2023-07-06T04:13:57.909468Z",
     "iopub.status.idle": "2023-07-06T04:13:57.916897Z",
     "shell.execute_reply": "2023-07-06T04:13:57.916252Z"
    },
    "papermill": {
     "duration": 0.015427,
     "end_time": "2023-07-06T04:13:57.918369",
     "exception": false,
     "start_time": "2023-07-06T04:13:57.902942",
     "status": "completed"
    },
    "tags": []
   },
   "outputs": [],
   "source": [
    "def export_markdown_summary(md: str, md_fname:str, directory: str):\n",
    "    \"\"\"Export MD document and associated relevant images\"\"\"\n",
    "    import os\n",
    "    import shutil\n",
    "    import re\n",
    "\n",
    "    if (os.path.exists(directory) and not os.path.isdir(directory)):\n",
    "        raise RuntimeError(f\"a non-directory file exists with name {directory:s}\")\n",
    "\n",
    "    if (not os.path.exists(directory)):\n",
    "        print(f\"creating directory {directory:s}\")\n",
    "        os.mkdir(directory)\n",
    "\n",
    "    fig_fnames = (re.compile(r'\\[Fig.*\\]\\((.*)\\)').findall(md) + \n",
    "                  re.compile(r'\\<img src=\"([^>\\s]*)\"[^>]*/>').findall(md))\n",
    "    for fname in fig_fnames:\n",
    "        if 'http' in fname:\n",
    "            # No need to copy online figures\n",
    "            continue\n",
    "        destdir = os.path.join(directory, os.path.dirname(fname))\n",
    "        destfname = os.path.join(destdir, os.path.basename(fname))\n",
    "        try:\n",
    "            os.makedirs(destdir)\n",
    "        except FileExistsError:\n",
    "            pass\n",
    "        shutil.copy(fname, destfname)\n",
    "    with open(os.path.join(directory, md_fname), 'w') as fout:\n",
    "        fout.write(md)\n",
    "    print(\"exported in \", os.path.join(directory, md_fname))\n",
    "    [print(\"    + \" + os.path.join(directory,fk)) for fk in fig_fnames]"
   ]
  },
  {
   "cell_type": "code",
   "execution_count": 7,
   "id": "014d04a4",
   "metadata": {
    "execution": {
     "iopub.execute_input": "2023-07-06T04:13:57.930894Z",
     "iopub.status.busy": "2023-07-06T04:13:57.930461Z",
     "iopub.status.idle": "2023-07-06T04:13:57.953568Z",
     "shell.execute_reply": "2023-07-06T04:13:57.952890Z"
    },
    "papermill": {
     "duration": 0.031135,
     "end_time": "2023-07-06T04:13:57.955229",
     "exception": false,
     "start_time": "2023-07-06T04:13:57.924094",
     "status": "completed"
    },
    "tags": []
   },
   "outputs": [
    {
     "name": "stdout",
     "output_type": "stream",
     "text": [
      "exported in  _build/html/2307.01252.md\n",
      "    + _build/html/tmp_2307.01252/./IP_triple_plot_errbar.png\n",
      "    + _build/html/tmp_2307.01252/./compare_spitzer.png\n",
      "    + _build/html/tmp_2307.01252/./compare_spec.png\n",
      "exported in  _build/html/2307.01259.md\n",
      "    + _build/html/tmp_2307.01259/./osullivan_maps_358608_prediction.png\n",
      "    + _build/html/tmp_2307.01259/./osullivan_maps_467415_prediction.png\n",
      "    + _build/html/tmp_2307.01259/./Sample_Properties.png\n",
      "exported in  _build/html/2307.01269.md\n",
      "    + _build/html/tmp_2307.01269/./subhalo_372754_edge_maps.png\n",
      "    + _build/html/tmp_2307.01269/./subhalo_372754_face_maps.png\n",
      "    + _build/html/tmp_2307.01269/./372754_profiles.png\n",
      "    + _build/html/tmp_2307.01269/./subhalo_572328_edge_maps.png\n",
      "    + _build/html/tmp_2307.01269/./subhalo_572328_face_maps.png\n",
      "exported in  _build/html/2307.01277.md\n",
      "    + _build/html/tmp_2307.01277/./figures/Fig_Profile_Dens_Profiles_All.png\n",
      "    + _build/html/tmp_2307.01277/./figures/Fig_Profile_Tmw_Profiles_All_New.png\n",
      "    + _build/html/tmp_2307.01277/./figures/Fig_Profile_Zmw_Profiles_All_New.png\n",
      "    + _build/html/tmp_2307.01277/./figures/Fig_Profile_CV_Profiles_All_New.png\n",
      "    + _build/html/tmp_2307.01277/./figures/Fig_Profile_OVIIf_Profiles_All_New.png\n",
      "    + _build/html/tmp_2307.01277/./figures/Fig_Profile_OVIII_Profiles_All_New.png\n",
      "    + _build/html/tmp_2307.01277/./figures/Fig_Profile_FeXVII_Profiles_All_New.png\n",
      "    + _build/html/tmp_2307.01277/./figures/Fig_Profile_OVIIf_Profiles_Sf_vs_Quiescent.png\n",
      "    + _build/html/tmp_2307.01277/./figures/Fig_Profile_OVIII_Profiles_Sf_vs_Quiescent.png\n",
      "    + _build/html/tmp_2307.01277/./figures/Fig_Profile_FeXVII_Profiles_Sf_vs_Quiescent.png\n"
     ]
    }
   ],
   "source": [
    "for paper_id, md in documents:\n",
    "    export_markdown_summary(md, f\"{paper_id:s}.md\", '_build/html/')"
   ]
  },
  {
   "cell_type": "markdown",
   "id": "f087a0a7",
   "metadata": {
    "papermill": {
     "duration": 0.005849,
     "end_time": "2023-07-06T04:13:57.967036",
     "exception": false,
     "start_time": "2023-07-06T04:13:57.961187",
     "status": "completed"
    },
    "tags": []
   },
   "source": [
    "## Display the papers\n",
    "\n",
    "Not necessary but allows for a quick check."
   ]
  },
  {
   "cell_type": "code",
   "execution_count": 8,
   "id": "fd25f625",
   "metadata": {
    "execution": {
     "iopub.execute_input": "2023-07-06T04:13:57.980013Z",
     "iopub.status.busy": "2023-07-06T04:13:57.979499Z",
     "iopub.status.idle": "2023-07-06T04:13:57.987455Z",
     "shell.execute_reply": "2023-07-06T04:13:57.986836Z"
    },
    "papermill": {
     "duration": 0.016027,
     "end_time": "2023-07-06T04:13:57.988884",
     "exception": false,
     "start_time": "2023-07-06T04:13:57.972857",
     "status": "completed"
    },
    "scrolled": false,
    "tags": []
   },
   "outputs": [
    {
     "data": {
      "text/markdown": [
       "<div class=\"macros\" style=\"visibility:hidden;\">\n",
       "$\\newcommand{\\ensuremath}{}$\n",
       "$\\newcommand{\\xspace}{}$\n",
       "$\\newcommand{\\object}[1]{\\texttt{#1}}$\n",
       "$\\newcommand{\\farcs}{{.}''}$\n",
       "$\\newcommand{\\farcm}{{.}'}$\n",
       "$\\newcommand{\\arcsec}{''}$\n",
       "$\\newcommand{\\arcmin}{'}$\n",
       "$\\newcommand{\\ion}[2]{#1#2}$\n",
       "$\\newcommand{\\textsc}[1]{\\textrm{#1}}$\n",
       "$\\newcommand{\\hl}[1]{\\textrm{#1}}$\n",
       "$\\newcommand{\\footnote}[1]{}$\n",
       "$\\newcommand{\\vdag}{(v)^\\dagger}$\n",
       "$\\newcommand$\n",
       "$\\newcommand$\n",
       "$\\newcommand{\\oltext}[1]{\\textcolor{olive}{#1}}$\n",
       "$\\newcommand{\\rtext}[1]{\\textcolor{red}{#1}}$\n",
       "$\\newcommand{\\nefive}{[\\ion{Ne}{5}] \\lambda14.32 \\mum}$\n",
       "$\\newcommand{\\ofour}{[\\ion{O}{4}] \\lambda25.91 \\mum}$\n",
       "$\\newcommand{\\nethree}{[\\ion{Ne}{3}] \\lambda15.56 \\mum}$\n",
       "$\\newcommand{\\netwo}{[\\ion{Ne}{2}] \\lambda12.81 \\mum}$\n",
       "$\\newcommand{\\fetwo}{[\\ion{Fe}{2}] \\lambda5.34 \\mum}$</div>\n",
       "\n",
       "\n",
       "\n",
       "<div id=\"title\">\n",
       "\n",
       "# ReveaLLAGN 0: First Look at JWST MIRI data of Sombrero and NGC 1052\n",
       "\n",
       "</div>\n",
       "<div id=\"comments\">\n",
       "\n",
       "[![arXiv](https://img.shields.io/badge/arXiv-2307.01252-b31b1b.svg)](https://arxiv.org/abs/2307.01252)<mark>Appeared on: 2023-07-06</mark> -  _Submitted to ApJ_\n",
       "\n",
       "</div>\n",
       "<div id=\"authors\">\n",
       "\n",
       "K. Goold, et al. -- incl., <mark>A. Dumont</mark>, <mark>N. Neumayer</mark>, <mark>A. Feldmeier-Krause</mark>\n",
       "\n",
       "</div>\n",
       "<div id=\"abstract\">\n",
       "\n",
       "**Abstract:** We present the first results from the Revealing Low-Luminosity Active Galactic Nuclei (ReveaLLAGN) survey, a JWST survey of seven nearby LLAGN.  We focus on two observations with the Mid-Infrared Instrument's (MIRI) Medium Resolution Spectrograph (MRS) of the nuclei of NGC 1052 and Sombrero (NGC 4594 / M104).  We also compare these data to public JWST data of a higher-luminosity AGN, NGC 7319.   JWST clearly resolves the AGN component even in Sombrero, the faintest target in our survey; the AGN components have very red spectra.   We find that the emission-line widths in both NGC 1052 and Sombrero increase with increasing ionization potential, with FWHM $>$ 1000 km $ $ s $^{-1}$ for lines with ionization potential $\\gtrsim$ 50 eV.  These lines are also significantly blue-shifted in both LLAGN.  The high ionization potential lines in NGC 7319 show neither broad widths or significant blue shifts.  Many of the lower ionization potential emission lines in Sombrero show significant blue wings extending $>$ 1000 km $ $ s $^{-1}$ .  These features and the emission-line maps in both galaxies are consistent with outflows along the jet direction.  Sombrero has the lowest luminosity high-ionization potential lines ( [ $\\ion{Ne}{5}$ ] and [ $\\ion{O}{4}$ ] ) ever measured in the mid-IR, but the relative strengths of these lines are consistent with higher luminosity AGN.  On the other hand, the [ $\\ion{Ne}{5}$ ] emission is much weaker relative to the [ $\\ion{Ne}{3}$ ] and [ $\\ion{Ne}{2}$ ] lines of higher-luminosity AGN.  These initial results show the great promise that JWST holds for identifying and studying the physical nature of LLAGN.\n",
       "\n",
       "</div>\n",
       "\n",
       "<div id=\"div_fig1\">\n",
       "\n",
       "<img src=\"tmp_2307.01252/./IP_triple_plot_errbar.png\" alt=\"Fig1\" width=\"100%\"/>\n",
       "\n",
       "**Figure 1. -** Emission-line trends with ionization potential.  Emission features are listed along the x-axis ordered by their IP.  *Top -- Luminosity vs IP*. Emission-line luminosities scale with the Eddington ratio of sources. NGC 7319 has the highest Eddington ratio and the most luminous emission lines, followed by NGC 1052, and then Sombrero. The luminosities have a median fractional error of 15\\%.\n",
       "    *Middle -- FWHM$_{line*$ vs IP}. The FWHM$_{\\rm line}$ of emission features increases with IP in Sombrero and NGC 1052 while the FWHM$_{\\rm line}$ of NGC 7319 emission features stays relatively constant with IP. FWHM$_{\\rm line}$ in km s$^{-1}$ is shown on the y-axis with a median error of 30 km s$^{-1}$. Red and blue dashed lines represent the central stellar velocity dispersion measurements from \\citet{Ho2009b} translated to a FWHM.\n",
       "    *Bottom -- Peak Velocity vs IP*. Peak velocity of emission lines trend increasingly blue-shifted with increasing ionization potential in Sombrero and NGC 1052. The y-axis shows the peak velocity of the best fit Guassian model with a median error of 30 km s$^{-1}$.  (*fig:lum-fwhm-vel*)\n",
       "\n",
       "</div>\n",
       "<div id=\"div_fig2\">\n",
       "\n",
       "<img src=\"tmp_2307.01252/./compare_spitzer.png\" alt=\"Fig3\" width=\"100%\"/>\n",
       "\n",
       "**Figure 3. -** JWST enables us to separate LLAGN spectra from their host galaxy.\n",
       " Comparison of the aperture corrected nuclear extracted spectrum in Sombrero (red line; same as Figure \\ref{fig:nucspec}), to the integrated MIRI/MRS spectrum (gray line; FoV: 6$\\farcs$6$\\times$7$\\farcs$7),and the Spitzer LR spectrum  (magenta line; FoV: 27$\\farcs$7$\\times$51$\\farcs$8).  The black line shows the best fit high-spatial resolution power-law fit to Sombrero from \\citet{Fern2023} this is fit to the black points, which are photometry from Gemini \\citep{Asmus2014} and VLT \\citep{Fern2023} as well as  sub-arcsecond data at shorter wavelengths; both the data and fit are in good agreement with our nuclear spectrum. We show the integrated spectrum only out to 20 $\\mu$m as the poorly constrained MIRI channel 4 background levels significantly impact the integrated spectrum measurements at redder wavelengths.  (*fig:spitzercomp*)\n",
       "\n",
       "</div>\n",
       "<div id=\"div_fig3\">\n",
       "\n",
       "<img src=\"tmp_2307.01252/./compare_spec.png\" alt=\"Fig6\" width=\"100%\"/>\n",
       "\n",
       "**Figure 6. -** The first extracted nuclear spectra of ReveaLLAGN targets: Sombrero (red, bottom spectrum) and NGC 1052 (blue, top spectrum). NGC 7319 (black, middle spectrum) is a more distant Seyfert 2 AGN and is included to compare our low-luminosity sample to another spectrum taken with JWST MIRI/MRS.  Spectra are extracted from a $\\sim$1 FWHM radius aperture (see Section \\ref{sec:nuclear_extraction}) and are aperture corrected using point source observations.  A subset of strong emission lines are labeled.  Also apparent in the spectra at $\\sim$10 microns are broad Silicate absorption features (in NGC 7319) and emission features (in Sombrero and NGC 1052), and faint polycyclic aromatic hydrocarbon (PAH) emission at 11.3 $\\mu$m in Sombrero.  (*fig:nucspec*)\n",
       "\n",
       "</div><div id=\"qrcode\"><img src=https://api.qrserver.com/v1/create-qr-code/?size=100x100&data=\"https://arxiv.org/abs/2307.01252\"></div>"
      ],
      "text/plain": [
       "<IPython.core.display.Markdown object>"
      ]
     },
     "metadata": {},
     "output_type": "display_data"
    },
    {
     "data": {
      "text/markdown": [
       "<div class=\"macros\" style=\"visibility:hidden;\">\n",
       "$\\newcommand{\\ensuremath}{}$\n",
       "$\\newcommand{\\xspace}{}$\n",
       "$\\newcommand{\\object}[1]{\\texttt{#1}}$\n",
       "$\\newcommand{\\farcs}{{.}''}$\n",
       "$\\newcommand{\\farcm}{{.}'}$\n",
       "$\\newcommand{\\arcsec}{''}$\n",
       "$\\newcommand{\\arcmin}{'}$\n",
       "$\\newcommand{\\ion}[2]{#1#2}$\n",
       "$\\newcommand{\\textsc}[1]{\\textrm{#1}}$\n",
       "$\\newcommand{\\hl}[1]{\\textrm{#1}}$\n",
       "$\\newcommand{\\footnote}[1]{}$\n",
       "$\\newcommand{\\vdag}{(v)^\\dagger}$\n",
       "$\\newcommand$\n",
       "$\\newcommand$\n",
       "$\\newcommand{\\kms}{km s^{-1}}$</div>\n",
       "\n",
       "\n",
       "\n",
       "<div id=\"title\">\n",
       "\n",
       "# Mapping the imprints of stellar and AGN feedback in the circumgalactic medium with X-ray microcalorimeters\n",
       "\n",
       "</div>\n",
       "<div id=\"comments\">\n",
       "\n",
       "[![arXiv](https://img.shields.io/badge/arXiv-2307.01259-b31b1b.svg)](https://arxiv.org/abs/2307.01259)<mark>Appeared on: 2023-07-06</mark> -  _38 pages, 18 figures, submitted to ApJ_\n",
       "\n",
       "</div>\n",
       "<div id=\"authors\">\n",
       "\n",
       "G. Schellenberger, et al. -- incl., <mark>A. Pillepich</mark>\n",
       "\n",
       "</div>\n",
       "<div id=\"abstract\">\n",
       "\n",
       "**Abstract:** The Astro2020 Decadal Survey has identified the mapping of the circumgalactic medium (CGM, gaseous plasma around galaxies) as a key objective.We explore the prospects for characterizing the CGM in and around nearby galaxy halos with future large grasp X-ray microcalorimeters.We create realistic mock observations from hydrodynamical simulations (EAGLE, IllustrisTNG, and Simba) that demonstrate a wide range of potential measurements, which will address the open questions in galaxy formation and evolution.By including all background and foreground components in our mock observations, we show why it is impossible to perform these measurements with current instruments, such as X-ray CCDs, and only microcalorimeters will allow us to distinguish the faint CGM emission from the bright Milky Way (MW) foreground emission lines.We find that individual halos of MW mass can, on average, be traced out to large radii, around R $_{500}$ , and for larger galaxies even out to R $_{200}$ , using the O VII, O VIII, or Fe XVII emission lines.Furthermore, we show that emission line ratios for individual halos can reveal the radial temperature structure. Substructure measurements show that it will be possible to relate azimuthal variations to the feedback mode of the galaxy.We demonstrate the ability to construct temperature, velocity, and abundance ratio maps from spectral fitting for individual galaxy halos, which reveal rotation features, AGN outbursts, and enrichment.\n",
       "\n",
       "</div>\n",
       "\n",
       "<div id=\"div_fig1\">\n",
       "\n",
       "<img src=\"tmp_2307.01259/./osullivan_maps_358608_prediction.png\" alt=\"Fig15\" width=\"100%\"/>\n",
       "\n",
       "**Figure 15. -** Spectral map of galaxy 358608 from TNG50 (for details see text), showing observed O VIII surface brightness (a), and the predicted optical r-band signal (b), the simulated X-ray brightness (c), the observed temperature in keV (c, and error map d) from a simultaneous fit to O VII, O VIII, and Fe XVII lines), the emission weighted temperature from the simulation (f),\n",
       "    the observed average line velocity shift in $\\si{km s^{-1}}$(g, and error map h), the predicted, emission weighted LOS velocity in the simulation (i), the observed O/Fe abundance ratio (g, and error map h), and the predicted O/Fe brightness ratio in the simulation (l).  (*fig:specmap358608*)\n",
       "\n",
       "</div>\n",
       "<div id=\"div_fig2\">\n",
       "\n",
       "<img src=\"tmp_2307.01259/./osullivan_maps_467415_prediction.png\" alt=\"Fig16\" width=\"100%\"/>\n",
       "\n",
       "**Figure 16. -** As for Fig. \\ref{fig:specmap358608}, but for the lower mass galaxy from TNG50 (ID 467415, details in the text). (*fig:specmap467415*)\n",
       "\n",
       "</div>\n",
       "<div id=\"div_fig3\">\n",
       "\n",
       "<img src=\"tmp_2307.01259/./Sample_Properties.png\" alt=\"Fig7\" width=\"100%\"/>\n",
       "\n",
       "**Figure 7. -** Properties of the galaxies in the three samples (low/medium/high mass) for each of the three simulations (TNG100 in blue, EAGLE in orange, Simba in green). The x-axis of each of the three panels is the halo mass M$_{200}$ in log$_{10}$. The left panel shows the stellar mass dependence M$_\\star$, similar to what is shown in \\ref{fig:stellar_mass}. We also highlight the location of the Milky Way (purple star), and M31 (red star). The middle panel illustrates the specific star formation rate, sSFR in units of $\\si{yr^{-1}}$, clearly decreasing with increasing halo mass. The right panel shows the SMBH mass dependence, clearly indicating a different trend between the simulations, where EAGLE produces lower mass black holes than TNG100. (*fig:samples*)\n",
       "\n",
       "</div><div id=\"qrcode\"><img src=https://api.qrserver.com/v1/create-qr-code/?size=100x100&data=\"https://arxiv.org/abs/2307.01259\"></div>"
      ],
      "text/plain": [
       "<IPython.core.display.Markdown object>"
      ]
     },
     "metadata": {},
     "output_type": "display_data"
    },
    {
     "data": {
      "text/markdown": [
       "<div class=\"macros\" style=\"visibility:hidden;\">\n",
       "$\\newcommand{\\ensuremath}{}$\n",
       "$\\newcommand{\\xspace}{}$\n",
       "$\\newcommand{\\object}[1]{\\texttt{#1}}$\n",
       "$\\newcommand{\\farcs}{{.}''}$\n",
       "$\\newcommand{\\farcm}{{.}'}$\n",
       "$\\newcommand{\\arcsec}{''}$\n",
       "$\\newcommand{\\arcmin}{'}$\n",
       "$\\newcommand{\\ion}[2]{#1#2}$\n",
       "$\\newcommand{\\textsc}[1]{\\textrm{#1}}$\n",
       "$\\newcommand{\\hl}[1]{\\textrm{#1}}$\n",
       "$\\newcommand{\\footnote}[1]{}$</div>\n",
       "\n",
       "\n",
       "\n",
       "<div id=\"title\">\n",
       "\n",
       "# Properties of the Line-of-Sight Velocity Field in the Hot and X-ray Emitting Circumgalactic Medium of Nearby Simulated Disk Galaxies\n",
       "\n",
       "</div>\n",
       "<div id=\"comments\">\n",
       "\n",
       "[![arXiv](https://img.shields.io/badge/arXiv-2307.01269-b31b1b.svg)](https://arxiv.org/abs/2307.01269)<mark>Appeared on: 2023-07-06</mark> -  _41 pages, 29 figures, submitted to ApJ_\n",
       "\n",
       "</div>\n",
       "<div id=\"authors\">\n",
       "\n",
       "J. A. ZuHone, et al. -- incl., <mark>A. Pillepich</mark>\n",
       "\n",
       "</div>\n",
       "<div id=\"abstract\">\n",
       "\n",
       "**Abstract:** The hot, X-ray-emitting phase of the circumgalactic medium in galaxies is believed to be the reservoir of baryons from which gas flows onto the central galaxy and into which feedback from AGN and stars inject mass, momentum, energy, and metals. These effects shape the velocity fields of the hot gas, which can be observed by X-ray IFUs via the Doppler shifting and broadening of emission lines. In this work, we analyze the gas kinematics of the hot circumgalactic medium of Milky Way-mass disk galaxies from the TNG50 simulation, and produce synthetic observations to determine how future instruments can probe this velocity structure. We find that the hot phase is often characterized by outflows outward from the disk driven by feedback processes, radial inflows near the galactic plane, and rotation, though in other cases the velocity field is more disorganized and turbulent. With a spectral resolution of $\\sim$ 1 eV, fast and hot outflows ( $\\sim$ 200-500 km s $^{-1}$ ) can be measured using both line shifts and widths, depending on the orientation of the galaxy on the sky. The rotation velocity of the hot phase ( $\\sim$ 100-200 km s $^{-1}$ ) can be measured using line shifts in edge-on galaxies, and is slower than that of colder gas phases but similar to stellar rotation velocities. By contrast, the slow inflows ( $\\sim$ 50-100 km s $^{-1}$ ) are difficult to measure in projection with these other components. We find that the velocity measured is sensitive to which emission lines are used. Measuring these flows will help constrain theories of how the gas in these galaxies forms and evolves.\n",
       "\n",
       "</div>\n",
       "\n",
       "<div id=\"div_fig1\">\n",
       "\n",
       "<img src=\"tmp_2307.01269/./subhalo_372754_edge_maps.png\" alt=\"Fig1.1\" width=\"50%\"/><img src=\"tmp_2307.01269/./subhalo_372754_face_maps.png\" alt=\"Fig1.2\" width=\"50%\"/>\n",
       "\n",
       "**Figure 1. -** Projections of various quantities from galaxy 1, viewed edge-on (upper panels) and face-on (lower panels) with respect to the galactic plane. For each set, top row from left: Stellar mass density, X-ray SB in the 0.5-1.0 keV band, emission-weighted gas temperature. Bottom row from left: emission-weighted gas mean velocity, emission-weighted gas velocity dispersion. Each panel is 32' on a side, or $\\sim$407 kpc for the given redshift and cosmology. Hot outflows are evident in SB and temperature, which are associated with fast mean velocities and velocity dispersions near the center. The hot gas is also rotating, as seen in the edge-on projection. (*fig:gal1_proj*)\n",
       "\n",
       "</div>\n",
       "<div id=\"div_fig2\">\n",
       "\n",
       "<img src=\"tmp_2307.01269/./372754_profiles.png\" alt=\"Fig9\" width=\"100%\"/>\n",
       "\n",
       "**Figure 9. -** Azimuthally and height-averaged mass-weighted and emission-weighted radial profiles of the gas and stellar velocity for galaxy 1. The top panels show profiles of the $R$-component of the velocity, the middle panels show profiles of the $\\phi$-component, and the bottom panels show the $z$-component. Left panels show the mean velocity for each galaxy and right panels show the velocity dispersion. The same patterns of outflows, inflows, and rotation are seen as in the 2D profile in Figure \\ref{fig:gal1_phase}. The emission-weighted velocity profiles are similar to the mass-weighted profiles, but higher-energy lines (Fe XVII and Ne IX) track hotter and faster phases of gas. (*fig:gal1_profiles*)\n",
       "\n",
       "</div>\n",
       "<div id=\"div_fig3\">\n",
       "\n",
       "<img src=\"tmp_2307.01269/./subhalo_572328_edge_maps.png\" alt=\"Fig3.1\" width=\"50%\"/><img src=\"tmp_2307.01269/./subhalo_572328_face_maps.png\" alt=\"Fig3.2\" width=\"50%\"/>\n",
       "\n",
       "**Figure 3. -** Projections of various quantities from galaxy 6, viewed edge-on (upper panels) and face-on (lower panels) with respect to the plane of the galactic disk. Panel descriptions are the same as in Figure \\ref{fig:gal1_proj}. Each panel is 32' on a side, or $\\sim$407 kpc for the given redshift and cosmology. Unlike galaxies 1 and 2, this galaxy has no obvious pattern of rotation in the velocity map, and the fast outflow appears to not be aligned with the spin axis of the disk. (*fig:gal6_proj*)\n",
       "\n",
       "</div><div id=\"qrcode\"><img src=https://api.qrserver.com/v1/create-qr-code/?size=100x100&data=\"https://arxiv.org/abs/2307.01269\"></div>"
      ],
      "text/plain": [
       "<IPython.core.display.Markdown object>"
      ]
     },
     "metadata": {},
     "output_type": "display_data"
    },
    {
     "data": {
      "text/markdown": [
       "<div class=\"macros\" style=\"visibility:hidden;\">\n",
       "$\\newcommand{\\ensuremath}{}$\n",
       "$\\newcommand{\\xspace}{}$\n",
       "$\\newcommand{\\object}[1]{\\texttt{#1}}$\n",
       "$\\newcommand{\\farcs}{{.}''}$\n",
       "$\\newcommand{\\farcm}{{.}'}$\n",
       "$\\newcommand{\\arcsec}{''}$\n",
       "$\\newcommand{\\arcmin}{'}$\n",
       "$\\newcommand{\\ion}[2]{#1#2}$\n",
       "$\\newcommand{\\textsc}[1]{\\textrm{#1}}$\n",
       "$\\newcommand{\\hl}[1]{\\textrm{#1}}$\n",
       "$\\newcommand{\\footnote}[1]{}$\n",
       "$\\newcommand{\\MSUN}{\\rm{M}_{\\sun}}$\n",
       "$\\newcommand{\\RVIR}{{R}_{\\rm 200c}}$\n",
       "$\\newcommand{\\MHOST}{{M}_{\\rm 200c, host}}$\n",
       "$\\newcommand{\\MSTARS}{{M}_{*}}$\n",
       "$\\newcommand{\\ap}[1]{{\\color{magenta} #1}}$\n",
       "$\\newcommand{\\nt}[1]{{\\color{blue} #1}}$\n",
       "$\\newcommand{\\arraystretch}{1.1}$</div>\n",
       "\n",
       "\n",
       "\n",
       "<div id=\"title\">\n",
       "\n",
       "# X-ray metal line emission from the hot circumgalactic medium: probing the effects of supermassive black hole feedback\n",
       "\n",
       "</div>\n",
       "<div id=\"comments\">\n",
       "\n",
       "[![arXiv](https://img.shields.io/badge/arXiv-2307.01277-b31b1b.svg)](https://arxiv.org/abs/2307.01277)<mark>Appeared on: 2023-07-06</mark> -  _21 pages, 15 figures. Submitted to MNRAS and received a positive referee report_\n",
       "\n",
       "</div>\n",
       "<div id=\"authors\">\n",
       "\n",
       "N. Truong, et al. -- incl., <mark>A. Pillepich</mark>\n",
       "\n",
       "</div>\n",
       "<div id=\"abstract\">\n",
       "\n",
       "**Abstract:** We derive predictions from state-of-the-art cosmological galaxy simulations for the spatial distribution of the hot circumgalactic medium (CGM, ${\\rm[0.1-1]R_{200c}}$ ) through its emission lines in the X-ray soft band ( $[0.3-1.3]$ keV). In particular, we compare IllustrisTNG, EAGLE, and SIMBA and focus on galaxies with stellar mass $10^{10-11.6}  \\MSUN$ at $z=0$ . The three simulation models return significantly different surface brightness radial profiles of prominent emission lines from ionized metals such as OVII(f), OVIII, and FeXVII as a function of galaxy mass. Likewise, the three simulations predict varying azimuthal distributions of line emission with respect to the galactic stellar planes, with IllustrisTNG predicting the strongest angular modulation of CGM physical properties at radial range ${\\gtrsim0.3-0.5 R_{200c}}$ . This anisotropic signal is more prominent for higher-energy lines, where it can manifest as X-ray eROSITA-like bubbles. Despite different models of stellar and supermassive black hole (SMBH) feedback, the three simulations consistently predict a dichotomy between star-forming and quiescent galaxies at the Milky-Way and Andromeda mass range, where the former are X-ray brighter than the latter. This is a signature of SMBH-driven outflows, which are responsible for quenching star formation. Finally, we explore the prospect of testing these predictions with a microcalorimeter-based X-ray mission concept with a large field-of-view. Such a mission would probe the extended hot CGM via soft X-ray line emission, determine the physical properties of the CGM, including temperature, from the measurement of line ratios, and provide critical constraints on the efficiency and impact of SMBH feedback on the CGM.\n",
       "\n",
       "</div>\n",
       "\n",
       "<div id=\"div_fig1\">\n",
       "\n",
       "<img src=\"tmp_2307.01277/./figures/Fig_Profile_Dens_Profiles_All.png\" alt=\"Fig6.1\" width=\"33%\"/><img src=\"tmp_2307.01277/./figures/Fig_Profile_Tmw_Profiles_All_New.png\" alt=\"Fig6.2\" width=\"33%\"/><img src=\"tmp_2307.01277/./figures/Fig_Profile_Zmw_Profiles_All_New.png\" alt=\"Fig6.3\" width=\"33%\"/>\n",
       "\n",
       "**Figure 6. -** 2D projected radial profiles of the CGM thermodynamical and metal content across galaxy stellar mass ranges (different columns) in TNG100, EAGLE, and SIMBA. From _ top_ to _ bottom_ panels we show the gas column density (${\\rm \\Sigma_{gas}}$), gas mass-weighted temperature (${\\rm T_{mw}}$), and gas mass-weighted metallicity (${\\rm Z_{mw}}$). The solid lines represent the population median, whereas the shaded areas show the 16th and 84th percentiles, i.e. quantify the galaxy-to-galaxy variation. (*fig:3*)\n",
       "\n",
       "</div>\n",
       "<div id=\"div_fig2\">\n",
       "\n",
       "<img src=\"tmp_2307.01277/./figures/Fig_Profile_CV_Profiles_All_New.png\" alt=\"Fig7.1\" width=\"25%\"/><img src=\"tmp_2307.01277/./figures/Fig_Profile_OVIIf_Profiles_All_New.png\" alt=\"Fig7.2\" width=\"25%\"/><img src=\"tmp_2307.01277/./figures/Fig_Profile_OVIII_Profiles_All_New.png\" alt=\"Fig7.3\" width=\"25%\"/><img src=\"tmp_2307.01277/./figures/Fig_Profile_FeXVII_Profiles_All_New.png\" alt=\"Fig7.4\" width=\"25%\"/>\n",
       "\n",
       "**Figure 7. -** Similar to Fig. \\ref{fig:3} but for the surface brightness profile of a selected sample of emitting lines in the three simulations. From _ top_ to _ bottom_ we show profiles of: CVI, OVIIf, OVIII, and FeXVII (intrinsic emission from the diffuse gas, as per Section \\ref{sec:computation}). The horizontal grey lines represent the 20 per cent level of the LEM background plus foreground (see text for more details), and their horizontal extension specifies the area covered by LEM field of view at $z=0.01$(with radius given in $\\RVIR$). For context, the median $\\RVIR$ of the depicted TNG galaxies reads 188, 245, 354, 537 kpc, from left to right. (*fig:4*)\n",
       "\n",
       "</div>\n",
       "<div id=\"div_fig3\">\n",
       "\n",
       "<img src=\"tmp_2307.01277/./figures/Fig_Profile_OVIIf_Profiles_Sf_vs_Quiescent.png\" alt=\"Fig8.1\" width=\"33%\"/><img src=\"tmp_2307.01277/./figures/Fig_Profile_OVIII_Profiles_Sf_vs_Quiescent.png\" alt=\"Fig8.2\" width=\"33%\"/><img src=\"tmp_2307.01277/./figures/Fig_Profile_FeXVII_Profiles_Sf_vs_Quiescent.png\" alt=\"Fig8.3\" width=\"33%\"/>\n",
       "\n",
       "**Figure 8. -** Diversity between star-forming and quiescent galaxies at the MW-mass range (${$\\MSTARS$=10^{10.7\\pm0.1}  $\\MSUN$}$) according to TNG100, EAGLE and SIMBA at $z=0$. From _ top_ to _ bottom_, we show the intrinsic surface brightness profiles of OVIIf, OVIII, and FeXVII line emission, respectively. Galaxies are split based on their star-formation status: star-forming (blue) and quiescent (red) galaxies depending on their ${\\rm sSFR}$ with respect to quenched threshold ${\\rm< 10^{-11}yr^{-1}}$. The solid curves denote the median profile of each subgroup, and the shaded areas represent the 16th-84th percentile envelope. Despite the vastly different implementations of SMBH feedback, all considered galaxy formation models predict that, at this mass range, the (inner) CGM of star-forming galaxies is brighter than that around quiescent galaxies, in each of the specific soft X-ray emission lines we consider. This is because, according to the models, quiescent galaxies exhibit overall less dense, less enriched, but hotter halo gas in comparison to star-forming galaxies (see Fig. \\ref{fig:cgm_sf_q}). (*fig:6b*)\n",
       "\n",
       "</div><div id=\"qrcode\"><img src=https://api.qrserver.com/v1/create-qr-code/?size=100x100&data=\"https://arxiv.org/abs/2307.01277\"></div>"
      ],
      "text/plain": [
       "<IPython.core.display.Markdown object>"
      ]
     },
     "metadata": {},
     "output_type": "display_data"
    }
   ],
   "source": [
    "[display(Markdown(k[1])) for k in documents];"
   ]
  },
  {
   "cell_type": "markdown",
   "id": "873873a4",
   "metadata": {
    "papermill": {
     "duration": 0.006584,
     "end_time": "2023-07-06T04:13:58.002148",
     "exception": false,
     "start_time": "2023-07-06T04:13:57.995564",
     "status": "completed"
    },
    "tags": []
   },
   "source": [
    "# Create HTML index"
   ]
  },
  {
   "cell_type": "code",
   "execution_count": 9,
   "id": "cf665672",
   "metadata": {
    "execution": {
     "iopub.execute_input": "2023-07-06T04:13:58.016332Z",
     "iopub.status.busy": "2023-07-06T04:13:58.016102Z",
     "iopub.status.idle": "2023-07-06T04:13:58.025714Z",
     "shell.execute_reply": "2023-07-06T04:13:58.025219Z"
    },
    "papermill": {
     "duration": 0.01846,
     "end_time": "2023-07-06T04:13:58.027108",
     "exception": false,
     "start_time": "2023-07-06T04:13:58.008648",
     "status": "completed"
    },
    "tags": []
   },
   "outputs": [
    {
     "name": "stdout",
     "output_type": "stream",
     "text": [
      "226  publications files modified in the last 7 days.\n"
     ]
    }
   ],
   "source": [
    "from datetime import datetime, timedelta, timezone\n",
    "from glob import glob\n",
    "import os\n",
    "\n",
    "files = glob('_build/html/*.md')\n",
    "days = 7\n",
    "now = datetime.today()\n",
    "res = []\n",
    "for fk in files:\n",
    "    stat_result = os.stat(fk).st_ctime\n",
    "    modified = datetime.fromtimestamp(stat_result, tz=timezone.utc).replace(tzinfo=None)\n",
    "    delta = now.today() - modified\n",
    "    if delta <= timedelta(days=days):\n",
    "        res.append((delta.seconds, fk))\n",
    "res = [k[1] for k in reversed(sorted(res, key=lambda x:x[1]))]\n",
    "npub = len(res)\n",
    "print(len(res), f\" publications files modified in the last {days:d} days.\")\n",
    "# [ print('\\t', k) for k in res ];"
   ]
  },
  {
   "cell_type": "code",
   "execution_count": 10,
   "id": "015de740",
   "metadata": {
    "execution": {
     "iopub.execute_input": "2023-07-06T04:13:58.041969Z",
     "iopub.status.busy": "2023-07-06T04:13:58.041364Z",
     "iopub.status.idle": "2023-07-06T04:13:58.058779Z",
     "shell.execute_reply": "2023-07-06T04:13:58.058210Z"
    },
    "papermill": {
     "duration": 0.026525,
     "end_time": "2023-07-06T04:13:58.060292",
     "exception": false,
     "start_time": "2023-07-06T04:13:58.033767",
     "status": "completed"
    },
    "tags": []
   },
   "outputs": [
    {
     "name": "stdout",
     "output_type": "stream",
     "text": [
      "4  publications in the last 7 days.\n"
     ]
    }
   ],
   "source": [
    "import datetime\n",
    "from glob import glob\n",
    "\n",
    "def get_last_n_days(lst, days=1):\n",
    "    \"\"\" Get the documents from the last n days \"\"\"\n",
    "    sorted_lst = sorted(lst, key=lambda x: x[1], reverse=True)\n",
    "    for fname, date in sorted_lst:\n",
    "        if date >= str(datetime.date.today() - datetime.timedelta(days=days)):\n",
    "            yield fname\n",
    "\n",
    "def extract_appearance_dates(lst_file):\n",
    "    dates = []\n",
    "\n",
    "    def get_date(line):\n",
    "        return line\\\n",
    "            .split('Appeared on:')[-1]\\\n",
    "            .split('</mark>')[0].strip()\n",
    "\n",
    "    for fname in lst:\n",
    "        with open(fname, 'r') as f:\n",
    "            found_date = False\n",
    "            for line in f:\n",
    "                if not found_date:\n",
    "                    if \"Appeared on\" in line:\n",
    "                        found_date = True\n",
    "                        dates.append((fname, get_date(line)))\n",
    "                else:\n",
    "                    break\n",
    "    return dates\n",
    "\n",
    "from glob import glob\n",
    "lst = glob('_build/html/*md')\n",
    "days = 7\n",
    "dates = extract_appearance_dates(lst)\n",
    "res = list(get_last_n_days(dates, days))\n",
    "npub = len(res)\n",
    "print(len(res), f\" publications in the last {days:d} days.\")"
   ]
  },
  {
   "cell_type": "code",
   "execution_count": 11,
   "id": "52ca0208",
   "metadata": {
    "execution": {
     "iopub.execute_input": "2023-07-06T04:13:58.075007Z",
     "iopub.status.busy": "2023-07-06T04:13:58.074577Z",
     "iopub.status.idle": "2023-07-06T04:13:58.079688Z",
     "shell.execute_reply": "2023-07-06T04:13:58.079198Z"
    },
    "papermill": {
     "duration": 0.013918,
     "end_time": "2023-07-06T04:13:58.081067",
     "exception": false,
     "start_time": "2023-07-06T04:13:58.067149",
     "status": "completed"
    },
    "scrolled": false,
    "tags": []
   },
   "outputs": [],
   "source": [
    "def create_carousel(npub=4):\n",
    "    \"\"\" Generate the HTML code for a carousel with `npub` slides \"\"\"\n",
    "    carousel = [\"\"\"  <div class=\"carousel\" \"\"\",\n",
    "                \"\"\"       data-flickity='{ \"autoPlay\": 10000, \"adaptiveHeight\": true, \"resize\": true, \"wrapAround\": true, \"pauseAutoPlayOnHover\": true, \"groupCells\": 1 }' id=\"asyncTypeset\">\"\"\"\n",
    "                ]\n",
    "    \n",
    "    item_str = \"\"\"    <div class=\"carousel-cell\"> <div id=\"slide{k}\" class=\"md_view\">Content {k}</div> </div>\"\"\"\n",
    "    for k in range(1, npub + 1):\n",
    "        carousel.append(item_str.format(k=k))\n",
    "    carousel.append(\"  </div>\")\n",
    "    return '\\n'.join(carousel)\n",
    "\n",
    "def create_grid(npub=4):\n",
    "    \"\"\" Generate the HTML code for a flat grid with `npub` slides \"\"\"\n",
    "    grid = [\"\"\"  <div class=\"grid\"> \"\"\",\n",
    "                ]\n",
    "    \n",
    "    item_str = \"\"\"    <div class=\"grid-item\"> <div id=\"slide{k}\" class=\"md_view\">Content {k}</div> </div>\"\"\"\n",
    "    for k in range(1, npub + 1):\n",
    "        grid.append(item_str.format(k=k))\n",
    "    grid.append(\"  </div>\")\n",
    "    return '\\n'.join(grid)"
   ]
  },
  {
   "cell_type": "code",
   "execution_count": 12,
   "id": "a6eac5b6",
   "metadata": {
    "execution": {
     "iopub.execute_input": "2023-07-06T04:13:58.095886Z",
     "iopub.status.busy": "2023-07-06T04:13:58.095357Z",
     "iopub.status.idle": "2023-07-06T04:13:58.100868Z",
     "shell.execute_reply": "2023-07-06T04:13:58.100185Z"
    },
    "papermill": {
     "duration": 0.014673,
     "end_time": "2023-07-06T04:13:58.102426",
     "exception": false,
     "start_time": "2023-07-06T04:13:58.087753",
     "status": "completed"
    },
    "scrolled": false,
    "tags": []
   },
   "outputs": [],
   "source": [
    "carousel = create_carousel(npub)\n",
    "docs = ', '.join(['\"{0:s}\"'.format(k.split('/')[-1]) for k in res])\n",
    "slides = ', '.join([f'\"slide{k}\"' for k in range(1, npub + 1)])\n",
    "\n",
    "with open(\"daily_template.html\", \"r\") as tpl:\n",
    "    page = tpl.read()\n",
    "    page = page.replace(\"{%-- carousel:s --%}\", carousel)\\\n",
    "               .replace(\"{%-- suptitle:s --%}\",  \"7-day archives\" )\\\n",
    "               .replace(\"{%-- docs:s --%}\", docs)\\\n",
    "               .replace(\"{%-- slides:s --%}\", slides)\n",
    "    \n",
    "with open(\"_build/html/index_7days.html\", 'w') as fout:\n",
    "    fout.write(page)"
   ]
  },
  {
   "cell_type": "code",
   "execution_count": 13,
   "id": "adc1a1ec",
   "metadata": {
    "execution": {
     "iopub.execute_input": "2023-07-06T04:13:58.116847Z",
     "iopub.status.busy": "2023-07-06T04:13:58.116625Z",
     "iopub.status.idle": "2023-07-06T04:13:58.123486Z",
     "shell.execute_reply": "2023-07-06T04:13:58.122816Z"
    },
    "papermill": {
     "duration": 0.016044,
     "end_time": "2023-07-06T04:13:58.125184",
     "exception": false,
     "start_time": "2023-07-06T04:13:58.109140",
     "status": "completed"
    },
    "tags": []
   },
   "outputs": [
    {
     "name": "stdout",
     "output_type": "stream",
     "text": [
      "4  publications in the last day.\n"
     ]
    }
   ],
   "source": [
    "# redo for today\n",
    "days = 1\n",
    "res = list(get_last_n_days(dates, days))\n",
    "npub = len(res)\n",
    "print(len(res), f\" publications in the last day.\")\n",
    "\n",
    "carousel = create_carousel(npub)\n",
    "docs = ', '.join(['\"{0:s}\"'.format(k.split('/')[-1]) for k in res])\n",
    "slides = ', '.join([f'\"slide{k}\"' for k in range(1, npub + 1)])\n",
    "\n",
    "with open(\"daily_template.html\", \"r\") as tpl:\n",
    "    page = tpl.read()\n",
    "    page = page.replace(\"{%-- carousel:s --%}\", carousel)\\\n",
    "               .replace(\"{%-- suptitle:s --%}\",  \"Daily\" )\\\n",
    "               .replace(\"{%-- docs:s --%}\", docs)\\\n",
    "               .replace(\"{%-- slides:s --%}\", slides)\n",
    "    \n",
    "# print(carousel, docs, slides)\n",
    "# print(page)\n",
    "with open(\"_build/html/index_daily.html\", 'w') as fout:\n",
    "    fout.write(page)"
   ]
  },
  {
   "cell_type": "code",
   "execution_count": 14,
   "id": "00eece82",
   "metadata": {
    "execution": {
     "iopub.execute_input": "2023-07-06T04:13:58.140392Z",
     "iopub.status.busy": "2023-07-06T04:13:58.140030Z",
     "iopub.status.idle": "2023-07-06T04:13:58.147990Z",
     "shell.execute_reply": "2023-07-06T04:13:58.147303Z"
    },
    "papermill": {
     "duration": 0.017411,
     "end_time": "2023-07-06T04:13:58.149714",
     "exception": false,
     "start_time": "2023-07-06T04:13:58.132303",
     "status": "completed"
    },
    "scrolled": false,
    "tags": []
   },
   "outputs": [
    {
     "name": "stdout",
     "output_type": "stream",
     "text": [
      "6  6 publications selected.\n"
     ]
    }
   ],
   "source": [
    "# Create the flat grid of the last N papers (fixed number regardless of dates)\n",
    "from itertools import islice \n",
    "\n",
    "npub = 6\n",
    "res = [k[0] for k in (islice(reversed(sorted(dates, key=lambda x: x[1])), 6))]\n",
    "print(len(res), f\" {npub} publications selected.\")\n",
    "\n",
    "grid = create_grid(npub)\n",
    "docs = ', '.join(['\"{0:s}\"'.format(k.split('/')[-1]) for k in res])\n",
    "slides = ', '.join([f'\"slide{k}\"' for k in range(1, npub + 1)])\n",
    "\n",
    "with open(\"grid_template.html\", \"r\") as tpl:\n",
    "    page = tpl.read()\n",
    "    page = page.replace(\"{%-- grid-content:s --%}\", grid)\\\n",
    "               .replace(\"{%-- suptitle:s --%}\",  f\"Last {npub:,d} papers\" )\\\n",
    "               .replace(\"{%-- docs:s --%}\", docs)\\\n",
    "               .replace(\"{%-- slides:s --%}\", slides)\n",
    "    \n",
    "# print(grid, docs, slides)\n",
    "# print(page)\n",
    "with open(\"_build/html/index_npub_grid.html\", 'w') as fout:\n",
    "    fout.write(page)"
   ]
  }
 ],
 "metadata": {
  "kernelspec": {
   "display_name": "Python 3 (ipykernel)",
   "language": "python",
   "name": "python3"
  },
  "language_info": {
   "codemirror_mode": {
    "name": "ipython",
    "version": 3
   },
   "file_extension": ".py",
   "mimetype": "text/x-python",
   "name": "python",
   "nbconvert_exporter": "python",
   "pygments_lexer": "ipython3",
   "version": "3.9.17"
  },
  "papermill": {
   "default_parameters": {},
   "duration": 286.247561,
   "end_time": "2023-07-06T04:13:58.373965",
   "environment_variables": {},
   "exception": null,
   "input_path": "MPIA daily digest.ipynb",
   "output_path": "log.ipynb",
   "parameters": {},
   "start_time": "2023-07-06T04:09:12.126404",
   "version": "2.4.0"
  },
  "vscode": {
   "interpreter": {
    "hash": "aee8b7b246df8f9039afb4144a1f6fd8d2ca17a180786b69acc140d282b71a49"
   }
  },
  "widgets": {
   "application/vnd.jupyter.widget-state+json": {
    "state": {
     "04fe99c03abb4fc0b805adfbf94eb48d": {
      "model_module": "@jupyter-widgets/base",
      "model_module_version": "2.0.0",
      "model_name": "LayoutModel",
      "state": {
       "_model_module": "@jupyter-widgets/base",
       "_model_module_version": "2.0.0",
       "_model_name": "LayoutModel",
       "_view_count": null,
       "_view_module": "@jupyter-widgets/base",
       "_view_module_version": "2.0.0",
       "_view_name": "LayoutView",
       "align_content": null,
       "align_items": null,
       "align_self": null,
       "border_bottom": null,
       "border_left": null,
       "border_right": null,
       "border_top": null,
       "bottom": null,
       "display": null,
       "flex": null,
       "flex_flow": null,
       "grid_area": null,
       "grid_auto_columns": null,
       "grid_auto_flow": null,
       "grid_auto_rows": null,
       "grid_column": null,
       "grid_gap": null,
       "grid_row": null,
       "grid_template_areas": null,
       "grid_template_columns": null,
       "grid_template_rows": null,
       "height": null,
       "justify_content": null,
       "justify_items": null,
       "left": null,
       "margin": null,
       "max_height": null,
       "max_width": null,
       "min_height": null,
       "min_width": null,
       "object_fit": null,
       "object_position": null,
       "order": null,
       "overflow": null,
       "padding": null,
       "right": null,
       "top": null,
       "visibility": null,
       "width": null
      }
     },
     "05449b93e032471c9031af54929561ca": {
      "model_module": "@jupyter-widgets/controls",
      "model_module_version": "2.0.0",
      "model_name": "HBoxModel",
      "state": {
       "_dom_classes": [],
       "_model_module": "@jupyter-widgets/controls",
       "_model_module_version": "2.0.0",
       "_model_name": "HBoxModel",
       "_view_count": null,
       "_view_module": "@jupyter-widgets/controls",
       "_view_module_version": "2.0.0",
       "_view_name": "HBoxView",
       "box_style": "",
       "children": [
        "IPY_MODEL_174b4d9e3bc645e28f1037d1af186862",
        "IPY_MODEL_11df6cd2dbf84e668e19675e85244102",
        "IPY_MODEL_e0a01539049b41adb8e7e95ad0ace83d"
       ],
       "layout": "IPY_MODEL_295a5363b7ba431fb41708ff15047058",
       "tabbable": null,
       "tooltip": null
      }
     },
     "11df6cd2dbf84e668e19675e85244102": {
      "model_module": "@jupyter-widgets/controls",
      "model_module_version": "2.0.0",
      "model_name": "FloatProgressModel",
      "state": {
       "_dom_classes": [],
       "_model_module": "@jupyter-widgets/controls",
       "_model_module_version": "2.0.0",
       "_model_name": "FloatProgressModel",
       "_view_count": null,
       "_view_module": "@jupyter-widgets/controls",
       "_view_module_version": "2.0.0",
       "_view_name": "ProgressView",
       "bar_style": "success",
       "description": "",
       "description_allow_html": false,
       "layout": "IPY_MODEL_ecadcb5beca047e38a03fd8ee179a164",
       "max": 6.0,
       "min": 0.0,
       "orientation": "horizontal",
       "style": "IPY_MODEL_a78e7e426ac14707b7fc50e7b7cc4be4",
       "tabbable": null,
       "tooltip": null,
       "value": 6.0
      }
     },
     "174b4d9e3bc645e28f1037d1af186862": {
      "model_module": "@jupyter-widgets/controls",
      "model_module_version": "2.0.0",
      "model_name": "HTMLModel",
      "state": {
       "_dom_classes": [],
       "_model_module": "@jupyter-widgets/controls",
       "_model_module_version": "2.0.0",
       "_model_name": "HTMLModel",
       "_view_count": null,
       "_view_module": "@jupyter-widgets/controls",
       "_view_module_version": "2.0.0",
       "_view_name": "HTMLView",
       "description": "",
       "description_allow_html": false,
       "layout": "IPY_MODEL_91f5829e68b0435e8c3e6109678e8083",
       "placeholder": "​",
       "style": "IPY_MODEL_5c940765fc3f440e9e2a5695becf54eb",
       "tabbable": null,
       "tooltip": null,
       "value": "100%"
      }
     },
     "18e22f78ea8b4c609d4a355a01cf1572": {
      "model_module": "@jupyter-widgets/controls",
      "model_module_version": "2.0.0",
      "model_name": "HTMLStyleModel",
      "state": {
       "_model_module": "@jupyter-widgets/controls",
       "_model_module_version": "2.0.0",
       "_model_name": "HTMLStyleModel",
       "_view_count": null,
       "_view_module": "@jupyter-widgets/base",
       "_view_module_version": "2.0.0",
       "_view_name": "StyleView",
       "background": null,
       "description_width": "",
       "font_size": null,
       "text_color": null
      }
     },
     "295a5363b7ba431fb41708ff15047058": {
      "model_module": "@jupyter-widgets/base",
      "model_module_version": "2.0.0",
      "model_name": "LayoutModel",
      "state": {
       "_model_module": "@jupyter-widgets/base",
       "_model_module_version": "2.0.0",
       "_model_name": "LayoutModel",
       "_view_count": null,
       "_view_module": "@jupyter-widgets/base",
       "_view_module_version": "2.0.0",
       "_view_name": "LayoutView",
       "align_content": null,
       "align_items": null,
       "align_self": null,
       "border_bottom": null,
       "border_left": null,
       "border_right": null,
       "border_top": null,
       "bottom": null,
       "display": null,
       "flex": null,
       "flex_flow": null,
       "grid_area": null,
       "grid_auto_columns": null,
       "grid_auto_flow": null,
       "grid_auto_rows": null,
       "grid_column": null,
       "grid_gap": null,
       "grid_row": null,
       "grid_template_areas": null,
       "grid_template_columns": null,
       "grid_template_rows": null,
       "height": null,
       "justify_content": null,
       "justify_items": null,
       "left": null,
       "margin": null,
       "max_height": null,
       "max_width": null,
       "min_height": null,
       "min_width": null,
       "object_fit": null,
       "object_position": null,
       "order": null,
       "overflow": null,
       "padding": null,
       "right": null,
       "top": null,
       "visibility": null,
       "width": null
      }
     },
     "5c940765fc3f440e9e2a5695becf54eb": {
      "model_module": "@jupyter-widgets/controls",
      "model_module_version": "2.0.0",
      "model_name": "HTMLStyleModel",
      "state": {
       "_model_module": "@jupyter-widgets/controls",
       "_model_module_version": "2.0.0",
       "_model_name": "HTMLStyleModel",
       "_view_count": null,
       "_view_module": "@jupyter-widgets/base",
       "_view_module_version": "2.0.0",
       "_view_name": "StyleView",
       "background": null,
       "description_width": "",
       "font_size": null,
       "text_color": null
      }
     },
     "91f5829e68b0435e8c3e6109678e8083": {
      "model_module": "@jupyter-widgets/base",
      "model_module_version": "2.0.0",
      "model_name": "LayoutModel",
      "state": {
       "_model_module": "@jupyter-widgets/base",
       "_model_module_version": "2.0.0",
       "_model_name": "LayoutModel",
       "_view_count": null,
       "_view_module": "@jupyter-widgets/base",
       "_view_module_version": "2.0.0",
       "_view_name": "LayoutView",
       "align_content": null,
       "align_items": null,
       "align_self": null,
       "border_bottom": null,
       "border_left": null,
       "border_right": null,
       "border_top": null,
       "bottom": null,
       "display": null,
       "flex": null,
       "flex_flow": null,
       "grid_area": null,
       "grid_auto_columns": null,
       "grid_auto_flow": null,
       "grid_auto_rows": null,
       "grid_column": null,
       "grid_gap": null,
       "grid_row": null,
       "grid_template_areas": null,
       "grid_template_columns": null,
       "grid_template_rows": null,
       "height": null,
       "justify_content": null,
       "justify_items": null,
       "left": null,
       "margin": null,
       "max_height": null,
       "max_width": null,
       "min_height": null,
       "min_width": null,
       "object_fit": null,
       "object_position": null,
       "order": null,
       "overflow": null,
       "padding": null,
       "right": null,
       "top": null,
       "visibility": null,
       "width": null
      }
     },
     "a78e7e426ac14707b7fc50e7b7cc4be4": {
      "model_module": "@jupyter-widgets/controls",
      "model_module_version": "2.0.0",
      "model_name": "ProgressStyleModel",
      "state": {
       "_model_module": "@jupyter-widgets/controls",
       "_model_module_version": "2.0.0",
       "_model_name": "ProgressStyleModel",
       "_view_count": null,
       "_view_module": "@jupyter-widgets/base",
       "_view_module_version": "2.0.0",
       "_view_name": "StyleView",
       "bar_color": null,
       "description_width": ""
      }
     },
     "e0a01539049b41adb8e7e95ad0ace83d": {
      "model_module": "@jupyter-widgets/controls",
      "model_module_version": "2.0.0",
      "model_name": "HTMLModel",
      "state": {
       "_dom_classes": [],
       "_model_module": "@jupyter-widgets/controls",
       "_model_module_version": "2.0.0",
       "_model_name": "HTMLModel",
       "_view_count": null,
       "_view_module": "@jupyter-widgets/controls",
       "_view_module_version": "2.0.0",
       "_view_name": "HTMLView",
       "description": "",
       "description_allow_html": false,
       "layout": "IPY_MODEL_04fe99c03abb4fc0b805adfbf94eb48d",
       "placeholder": "​",
       "style": "IPY_MODEL_18e22f78ea8b4c609d4a355a01cf1572",
       "tabbable": null,
       "tooltip": null,
       "value": " 6/6 [04:19&lt;00:00, 32.58s/it]"
      }
     },
     "ecadcb5beca047e38a03fd8ee179a164": {
      "model_module": "@jupyter-widgets/base",
      "model_module_version": "2.0.0",
      "model_name": "LayoutModel",
      "state": {
       "_model_module": "@jupyter-widgets/base",
       "_model_module_version": "2.0.0",
       "_model_name": "LayoutModel",
       "_view_count": null,
       "_view_module": "@jupyter-widgets/base",
       "_view_module_version": "2.0.0",
       "_view_name": "LayoutView",
       "align_content": null,
       "align_items": null,
       "align_self": null,
       "border_bottom": null,
       "border_left": null,
       "border_right": null,
       "border_top": null,
       "bottom": null,
       "display": null,
       "flex": null,
       "flex_flow": null,
       "grid_area": null,
       "grid_auto_columns": null,
       "grid_auto_flow": null,
       "grid_auto_rows": null,
       "grid_column": null,
       "grid_gap": null,
       "grid_row": null,
       "grid_template_areas": null,
       "grid_template_columns": null,
       "grid_template_rows": null,
       "height": null,
       "justify_content": null,
       "justify_items": null,
       "left": null,
       "margin": null,
       "max_height": null,
       "max_width": null,
       "min_height": null,
       "min_width": null,
       "object_fit": null,
       "object_position": null,
       "order": null,
       "overflow": null,
       "padding": null,
       "right": null,
       "top": null,
       "visibility": null,
       "width": null
      }
     }
    },
    "version_major": 2,
    "version_minor": 0
   }
  }
 },
 "nbformat": 4,
 "nbformat_minor": 5
}