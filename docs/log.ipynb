{
 "cells": [
  {
   "cell_type": "markdown",
   "id": "92bcb855",
   "metadata": {
    "papermill": {
     "duration": 0.003845,
     "end_time": "2025-04-21T04:12:52.997349",
     "exception": false,
     "start_time": "2025-04-21T04:12:52.993504",
     "status": "completed"
    },
    "tags": []
   },
   "source": [
    "# MPIA Arxiv on Deck 2\n",
    "\n",
    "Contains the steps to produce the paper extractions."
   ]
  },
  {
   "cell_type": "code",
   "execution_count": 1,
   "id": "3a0d6e11",
   "metadata": {
    "execution": {
     "iopub.execute_input": "2025-04-21T04:12:53.005346Z",
     "iopub.status.busy": "2025-04-21T04:12:53.004627Z",
     "iopub.status.idle": "2025-04-21T04:12:53.490610Z",
     "shell.execute_reply": "2025-04-21T04:12:53.489934Z"
    },
    "papermill": {
     "duration": 0.491334,
     "end_time": "2025-04-21T04:12:53.491991",
     "exception": false,
     "start_time": "2025-04-21T04:12:53.000657",
     "status": "completed"
    },
    "tags": []
   },
   "outputs": [],
   "source": [
    "# Imports\n",
    "import os\n",
    "from IPython.display import Markdown, display\n",
    "from tqdm.notebook import tqdm\n",
    "import warnings\n",
    "from PIL import Image \n",
    "import re\n",
    "\n",
    "# requires arxiv_on_deck_2\n",
    "\n",
    "from arxiv_on_deck_2.arxiv2 import (get_new_papers, \n",
    "                                    get_paper_from_identifier,\n",
    "                                    retrieve_document_source, \n",
    "                                    get_markdown_badge)\n",
    "from arxiv_on_deck_2 import (latex,\n",
    "                             latex_bib,\n",
    "                             mpia,\n",
    "                             highlight_authors_in_list)\n",
    "\n",
    "# Sometimes images are really big\n",
    "Image.MAX_IMAGE_PIXELS = 1000000000 "
   ]
  },
  {
   "cell_type": "code",
   "execution_count": 2,
   "id": "22aa9d44",
   "metadata": {
    "execution": {
     "iopub.execute_input": "2025-04-21T04:12:53.499684Z",
     "iopub.status.busy": "2025-04-21T04:12:53.499160Z",
     "iopub.status.idle": "2025-04-21T04:12:53.507219Z",
     "shell.execute_reply": "2025-04-21T04:12:53.506673Z"
    },
    "papermill": {
     "duration": 0.012979,
     "end_time": "2025-04-21T04:12:53.508325",
     "exception": false,
     "start_time": "2025-04-21T04:12:53.495346",
     "status": "completed"
    },
    "tags": []
   },
   "outputs": [],
   "source": [
    "# Some useful definitions.\n",
    "\n",
    "class AffiliationWarning(UserWarning):\n",
    "    pass\n",
    "\n",
    "class AffiliationError(RuntimeError):\n",
    "    pass\n",
    "\n",
    "def validation(source: str):\n",
    "    \"\"\"Raises error paper during parsing of source file\n",
    "    \n",
    "    Allows checks before parsing TeX code.\n",
    "    \n",
    "    Raises AffiliationWarning\n",
    "    \"\"\"\n",
    "    check = mpia.affiliation_verifications(source, verbose=True)\n",
    "    if check is not True:\n",
    "        raise AffiliationError(\"mpia.affiliation_verifications: \" + check)\n",
    "\n",
    "        \n",
    "warnings.simplefilter('always', AffiliationWarning)\n",
    "\n",
    "\n",
    "def get_markdown_qrcode(paper_id: str):\n",
    "    \"\"\" Generate a qrcode to the arxiv page using qrserver.com\n",
    "    \n",
    "    :param paper: Arxiv paper\n",
    "    :returns: markdown text\n",
    "    \"\"\"\n",
    "    url = r\"https://api.qrserver.com/v1/create-qr-code/?size=100x100&data=\"\n",
    "    txt = f\"\"\"<img src={url}\"https://arxiv.org/abs/{paper_id}\">\"\"\"\n",
    "    txt = '<div id=\"qrcode\">' + txt + '</div>'\n",
    "    return txt\n",
    "\n",
    "\n",
    "def clean_non_western_encoded_characters_commands(text: str) -> str:\n",
    "    \"\"\" Remove non-western encoded characters from a string\n",
    "    List may need to grow.\n",
    "    \n",
    "    :param text: the text to clean\n",
    "    :return: the cleaned text\n",
    "    \"\"\"\n",
    "    text = re.sub(r\"(\\\\begin{CJK}{UTF8}{gbsn})(.*?)(\\\\end{CJK})\", r\"\\2\", text)\n",
    "    return text\n",
    "\n",
    "\n",
    "def get_initials(name: str) -> str:\n",
    "    \"\"\" Get the short name, e.g., A.-B. FamName\n",
    "    :param name: full name\n",
    "    :returns: initials\n",
    "    \"\"\"\n",
    "    initials = []\n",
    "    # account for non western names often in ()\n",
    "    if '(' in name:\n",
    "        name = clean_non_western_encoded_characters_commands(name)\n",
    "        suffix = re.findall(r\"\\((.*?)\\)\", name)[0]\n",
    "        name = name.replace(f\"({suffix})\", '')\n",
    "    else:\n",
    "        suffix = ''\n",
    "    split = name.split()\n",
    "    for token in split[:-1]:\n",
    "        if '-' in token:\n",
    "            current = '-'.join([k[0] + '.' for k in token.split('-')])\n",
    "        else:\n",
    "            current = token[0] + '.'\n",
    "        initials.append(current)\n",
    "    initials.append(split[-1].strip())\n",
    "    if suffix:\n",
    "        initials.append(f\"({suffix})\")\n",
    "    return ' '.join(initials)"
   ]
  },
  {
   "cell_type": "markdown",
   "id": "14bd6310",
   "metadata": {
    "papermill": {
     "duration": 0.002911,
     "end_time": "2025-04-21T04:12:53.514342",
     "exception": false,
     "start_time": "2025-04-21T04:12:53.511431",
     "status": "completed"
    },
    "tags": []
   },
   "source": [
    "## get list of arxiv paper candidates\n",
    "\n",
    "We use the MPIA mitarbeiter list webpage from mpia.de to get author names\n",
    "We then get all new papers from Arxiv and match authors"
   ]
  },
  {
   "cell_type": "code",
   "execution_count": 3,
   "id": "7ea813a8",
   "metadata": {
    "execution": {
     "iopub.execute_input": "2025-04-21T04:12:53.521301Z",
     "iopub.status.busy": "2025-04-21T04:12:53.521026Z",
     "iopub.status.idle": "2025-04-21T04:13:20.454168Z",
     "shell.execute_reply": "2025-04-21T04:13:20.453511Z"
    },
    "papermill": {
     "duration": 26.938092,
     "end_time": "2025-04-21T04:13:20.455414",
     "exception": false,
     "start_time": "2025-04-21T04:12:53.517322",
     "status": "completed"
    },
    "tags": []
   },
   "outputs": [],
   "source": [
    "# deal with the author list and edge cases of people that cannot be consistent on their name  \n",
    "\n",
    "def filter_non_scientists(name: str) -> bool:\n",
    "    \"\"\" Loose filter on expected authorships\n",
    "\n",
    "    removing IT, administration, technical staff\n",
    "    :param name: name\n",
    "    :returns: False if name is not a scientist\n",
    "    \"\"\"\n",
    "    remove_list = ['Licht', 'Binroth', 'Witzel', 'Jordan',\n",
    "                   'Zähringer', 'Scheerer', 'Hoffmann', 'Düe',\n",
    "                   'Hellmich', 'Enkler-Scharpegge', 'Witte-Nguy',\n",
    "                   'Dehen', 'Beckmann', 'Jager', 'Jäger'\n",
    "                  ]\n",
    "\n",
    "    for k in remove_list:\n",
    "        if k in name:\n",
    "            return False\n",
    "    return True\n",
    "\n",
    "def add_author_to_list(author_list: list) -> list:\n",
    "    \"\"\" Add author to list if not already in list\n",
    "    \n",
    "    :param author: author name\n",
    "    :param author_list: list of authors\n",
    "    :returns: updated list of authors\n",
    "    \"\"\"\n",
    "    add_list = ['T. Henning']\n",
    "\n",
    "    for author in add_list:\n",
    "        if author not in author_list:\n",
    "            author_list.append(author)\n",
    "    return author_list\n",
    "\n",
    "# get list from MPIA website\n",
    "# filter for non-scientists (mpia.get_mpia_mitarbeiter_list() does some filtering)\n",
    "mpia_authors = [k[1] for k in mpia.get_mpia_mitarbeiter_list() if filter_non_scientists(k[1])]\n",
    "# add some missing author because of inconsistencies in their MPIA name and author name on papers\n",
    "mpia_authors = add_author_to_list(mpia_authors)"
   ]
  },
  {
   "cell_type": "code",
   "execution_count": 4,
   "id": "2645e73a",
   "metadata": {
    "execution": {
     "iopub.execute_input": "2025-04-21T04:13:20.462807Z",
     "iopub.status.busy": "2025-04-21T04:13:20.462531Z",
     "iopub.status.idle": "2025-04-21T04:13:20.929801Z",
     "shell.execute_reply": "2025-04-21T04:13:20.929128Z"
    },
    "papermill": {
     "duration": 0.472149,
     "end_time": "2025-04-21T04:13:20.930912",
     "exception": false,
     "start_time": "2025-04-21T04:13:20.458763",
     "status": "completed"
    },
    "tags": []
   },
   "outputs": [
    {
     "name": "stdout",
     "output_type": "stream",
     "text": [
      "H. Baehr  ->  H. Baehr  |  ['H. Baehr']\n",
      "A. Kospal  ->  A. Kospal  |  ['A. Kospal']\n",
      "J. Bouwman  ->  J. Bouwman  |  ['J. Bouwman']\n",
      "T. Henning  ->  T. Henning  |  ['T. Henning']\n",
      "X. Zhang  ->  X. Zhang  |  ['X. Zhang']\n",
      "Arxiv has 30 new papers today\n",
      "          4 with possible author matches\n"
     ]
    }
   ],
   "source": [
    "new_papers = get_new_papers()\n",
    "# add manual references\n",
    "add_paper_refs = []\n",
    "new_papers.extend([get_paper_from_identifier(k) for k in add_paper_refs])\n",
    "\n",
    "def robust_call(fn, value, *args, **kwargs):\n",
    "    try:\n",
    "        return fn(value, *args, **kwargs)\n",
    "    except Exception:\n",
    "        return value\n",
    "\n",
    "candidates = []\n",
    "for paperk in new_papers:\n",
    "    # Check author list with their initials\n",
    "    normed_author_list = [robust_call(mpia.get_initials, k) for k in paperk['authors']]\n",
    "    hl_authors = highlight_authors_in_list(normed_author_list, mpia_authors, verbose=True)\n",
    "    matches = [(hl, orig) for hl, orig in zip(hl_authors, paperk['authors']) if 'mark' in hl]\n",
    "    paperk['authors'] = hl_authors\n",
    "    if matches:\n",
    "        # only select paper if an author matched our list\n",
    "        candidates.append(paperk)\n",
    "print(\"\"\"Arxiv has {0:,d} new papers today\"\"\".format(len(new_papers)))        \n",
    "print(\"\"\"          {0:,d} with possible author matches\"\"\".format(len(candidates)))"
   ]
  },
  {
   "cell_type": "markdown",
   "id": "3543b34a",
   "metadata": {
    "papermill": {
     "duration": 0.003143,
     "end_time": "2025-04-21T04:13:20.937554",
     "exception": false,
     "start_time": "2025-04-21T04:13:20.934411",
     "status": "completed"
    },
    "tags": []
   },
   "source": [
    "# Parse sources and generate relevant outputs\n",
    "\n",
    "From the candidates, we do the following steps:\n",
    "* get their tarball from ArXiv (and extract data)\n",
    "* find the main .tex file: find one with \\documentclass{...} (sometimes it's non trivial)\n",
    "* Check affiliations with :func:`validation`, which uses :func:`mpia.affiliation_verifications`\n",
    "* If passing the affiliations: we parse the .tex source\n",
    "   * inject sub-documents into the main (flatten the main document)\n",
    "   * parse structure, extract information (title, abstract, authors, figures...)\n",
    "   * handles `\\graphicspath` if provided\n",
    "* Generate the .md document."
   ]
  },
  {
   "cell_type": "code",
   "execution_count": 5,
   "id": "9576b79e",
   "metadata": {
    "execution": {
     "iopub.execute_input": "2025-04-21T04:13:20.944792Z",
     "iopub.status.busy": "2025-04-21T04:13:20.944284Z",
     "iopub.status.idle": "2025-04-21T04:14:01.059981Z",
     "shell.execute_reply": "2025-04-21T04:14:01.059261Z"
    },
    "papermill": {
     "duration": 40.120677,
     "end_time": "2025-04-21T04:14:01.061244",
     "exception": false,
     "start_time": "2025-04-21T04:13:20.940567",
     "status": "completed"
    },
    "scrolled": false,
    "tags": []
   },
   "outputs": [
    {
     "data": {
      "application/vnd.jupyter.widget-view+json": {
       "model_id": "77b0c3d2b1b14763a1194798b3c2ae3c",
       "version_major": 2,
       "version_minor": 0
      },
      "text/plain": [
       "  0%|          | 0/4 [00:00<?, ?it/s]"
      ]
     },
     "metadata": {},
     "output_type": "display_data"
    },
    {
     "name": "stdout",
     "output_type": "stream",
     "text": [
      "Retrieving document from  https://arxiv.org/e-print/2504.13246\n"
     ]
    },
    {
     "name": "stdout",
     "output_type": "stream",
     "text": [
      "extracting tarball to tmp_2504.13246..."
     ]
    },
    {
     "name": "stdout",
     "output_type": "stream",
     "text": [
      " done.\n",
      "Retrieving document from  https://arxiv.org/e-print/2504.13377\n"
     ]
    },
    {
     "name": "stdout",
     "output_type": "stream",
     "text": [
      "extracting tarball to tmp_2504.13377..."
     ]
    },
    {
     "name": "stdout",
     "output_type": "stream",
     "text": [
      " done.\n"
     ]
    },
    {
     "name": "stdout",
     "output_type": "stream",
     "text": [
      "J. Bouwman  ->  J. Bouwman  |  ['J. Bouwman']\n"
     ]
    },
    {
     "name": "stdout",
     "output_type": "stream",
     "text": [
      "Found 139 bibliographic references in tmp_2504.13377/EXLup_MIRI.bbl.\n",
      "Issues with the citations\n",
      "syntax error in line 46: '=' expected\n",
      "Retrieving document from  https://arxiv.org/e-print/2504.13679\n"
     ]
    },
    {
     "name": "stdout",
     "output_type": "stream",
     "text": [
      "extracting tarball to tmp_2504.13679..."
     ]
    },
    {
     "name": "stdout",
     "output_type": "stream",
     "text": [
      " done.\n"
     ]
    },
    {
     "name": "stdout",
     "output_type": "stream",
     "text": [
      "T. Henning  ->  T. Henning  |  ['T. Henning']\n"
     ]
    },
    {
     "name": "stdout",
     "output_type": "stream",
     "text": [
      "Found 65 bibliographic references in tmp_2504.13679/HD106906_disk.bbl.\n",
      "Retrieving document from  https://arxiv.org/e-print/2504.13766\n"
     ]
    },
    {
     "name": "stdout",
     "output_type": "stream",
     "text": [
      "extracting tarball to tmp_2504.13766..."
     ]
    },
    {
     "name": "stdout",
     "output_type": "stream",
     "text": [
      " done.\n",
      "  0: tmp_2504.13766/natnotes.tex, 332 lines\n",
      "  1: tmp_2504.13766/natbib.tex, 96 lines\n",
      "  2: tmp_2504.13766/aassymbols.tex, 579 lines\n",
      "  3: tmp_2504.13766/sample631.tex, 1,421 lines\n"
     ]
    },
    {
     "name": "stderr",
     "output_type": "stream",
     "text": [
      "/opt/hostedtoolcache/Python/3.9.22/x64/lib/python3.9/site-packages/IPython/core/interactiveshell.py:3550: LatexWarning: Multiple tex files.\n",
      "\n",
      "  exec(code_obj, self.user_global_ns, self.user_ns)\n",
      "/opt/hostedtoolcache/Python/3.9.22/x64/lib/python3.9/site-packages/IPython/core/interactiveshell.py:3550: LatexWarning: Found 4 candidates with documentclass definition.\n",
      "  exec(code_obj, self.user_global_ns, self.user_ns)\n",
      "/opt/hostedtoolcache/Python/3.9.22/x64/lib/python3.9/site-packages/IPython/core/interactiveshell.py:3550: LatexWarning: Assuming tmp_2504.13766/sample631.tex as main document.\n",
      "  exec(code_obj, self.user_global_ns, self.user_ns)\n"
     ]
    }
   ],
   "source": [
    "documents = []\n",
    "failed = []\n",
    "for paper in tqdm(candidates):\n",
    "    # debug crap\n",
    "    paper['identifier'] = paper['identifier'].lower().replace('arxiv:', '').replace(r'\\n', '').strip()\n",
    "    paper_id = paper['identifier']\n",
    "    \n",
    "    folder = f'tmp_{paper_id}'\n",
    "\n",
    "    try:\n",
    "        if not os.path.isdir(folder):\n",
    "            folder = retrieve_document_source(f\"{paper_id}\", f'tmp_{paper_id}')\n",
    "        \n",
    "        try:\n",
    "            doc = latex.LatexDocument(folder, validation=validation)    \n",
    "        except AffiliationError as affilerror:\n",
    "            msg = f\"ArXiv:{paper_id:s} is not an MPIA paper... \" + str(affilerror)\n",
    "            failed.append((paper, \"affiliation error: \" + str(affilerror) ))\n",
    "            continue\n",
    "        \n",
    "        # Hack because sometimes author parsing does not work well\n",
    "        if (len(doc.authors) != len(paper['authors'])):\n",
    "            doc._authors = paper['authors']\n",
    "        else:\n",
    "            # highlight authors (FIXME: doc.highlight_authors)\n",
    "            # done on arxiv paper already\n",
    "            doc._authors = highlight_authors_in_list(\n",
    "                [get_initials(k) for k in doc.authors], \n",
    "                mpia_authors, verbose=True)\n",
    "        if (doc.abstract) in (None, ''):\n",
    "            doc._abstract = paper['abstract']\n",
    "            \n",
    "        doc.comment = (get_markdown_badge(paper_id) + \n",
    "                       \"<mark>Appeared on: \" + paper['date'] + \"</mark> - \")\n",
    "        if paper['comments']:\n",
    "            doc.comment += \" _\" + paper['comments'] + \"_\"\n",
    "        \n",
    "        full_md = doc.generate_markdown_text()\n",
    "        \n",
    "        full_md += get_markdown_qrcode(paper_id)\n",
    "        \n",
    "        # replace citations\n",
    "        try:\n",
    "            bibdata = latex_bib.LatexBib.from_doc(doc)\n",
    "            full_md = latex_bib.replace_citations(full_md, bibdata)\n",
    "        except Exception as e:\n",
    "            print(\"Issues with the citations\")\n",
    "            print(e)\n",
    "        \n",
    "        documents.append((paper_id, full_md))\n",
    "    except Exception as e:\n",
    "        warnings.warn(latex.LatexWarning(f\"{paper_id:s} did not run properly\\n\" +\n",
    "                                         str(e)\n",
    "                                        ))\n",
    "        failed.append((paper, \"latex error \" + str(e)))"
   ]
  },
  {
   "cell_type": "markdown",
   "id": "2505a25c",
   "metadata": {
    "papermill": {
     "duration": 0.003868,
     "end_time": "2025-04-21T04:14:01.069256",
     "exception": false,
     "start_time": "2025-04-21T04:14:01.065388",
     "status": "completed"
    },
    "tags": []
   },
   "source": [
    "### Export the logs\n",
    "\n",
    "Throughout, we also keep track of the logs per paper. see `logs-{today date}.md` "
   ]
  },
  {
   "cell_type": "code",
   "execution_count": 6,
   "id": "d733828a",
   "metadata": {
    "execution": {
     "iopub.execute_input": "2025-04-21T04:14:01.078222Z",
     "iopub.status.busy": "2025-04-21T04:14:01.077624Z",
     "iopub.status.idle": "2025-04-21T04:14:01.094616Z",
     "shell.execute_reply": "2025-04-21T04:14:01.093981Z"
    },
    "papermill": {
     "duration": 0.022435,
     "end_time": "2025-04-21T04:14:01.095538",
     "exception": false,
     "start_time": "2025-04-21T04:14:01.073103",
     "status": "completed"
    },
    "scrolled": false,
    "tags": []
   },
   "outputs": [
    {
     "data": {
      "text/markdown": [
       "## Successful papers"
      ],
      "text/plain": [
       "<IPython.core.display.Markdown object>"
      ]
     },
     "metadata": {},
     "output_type": "display_data"
    },
    {
     "data": {
      "text/markdown": [
       "\n",
       "|||\n",
       "|---:|:---|\n",
       "| [![arXiv](https://img.shields.io/badge/arXiv-2504.13377-b31b1b.svg)](https://arxiv.org/abs/2504.13377) | **JWST's sharper view of EX Lup: cold water from ice sublimation during accretion outbursts**  |\n",
       "|| S. A. Smith, et al. -- incl., <mark>A. Kospal</mark>, <mark>J. Bouwman</mark> |\n",
       "|*Appeared on*| *2025-04-21*|\n",
       "|*Comments*| *Accepted for publication in ApJ Letters*|\n",
       "|**Abstract**|            The unstable accretion phases during pre-main-sequence evolution of T Tauri stars produce variable irradiation and heating of planet-forming regions. A strong accretion outburst was observed with Spitzer-IRS in 2008 in EX Lup, the prototype of EXor variables, and found to increase the mid-infrared water and OH emission and decrease organic emission, suggesting large chemical changes. We present here two JWST-MIRI epochs of quiescent EX Lup in 2022 and 2023 obtained over a decade after the 2008 outburst and several months after a moderate burst in 2022. With JWST's sharper spectral view, we can now analyze water emission as a function of temperature in the two MIRI epochs and, approximately, also in the previous Spitzer epochs. This new analysis shows a strong cold water vapor ``burst\" in low-energy lines during the 2008 outburst, which we consider clear evidence for enhanced ice sublimation due to a recession of the snowline, as found in protostellar envelopes. JWST shows that EX Lup still has an unusually strong emission from cold water in comparison to other T Tauri disks, suggesting > 10-yr-long freeze-out timescales in the inner disk surface. EX Lup demonstrates that outbursts can significantly change the observed organic-to-water ratios and increase the cold water reservoir, providing chemical signatures to study the recent accretion history of disks. This study provides an unprecedented demonstration of the chemical evolution triggered by accretion outbursts in the Class II phase and of the high potential of time-domain experiments to reveal processes that may have fundamental implications on planet-forming bodies near the snowline.         |"
      ],
      "text/plain": [
       "[2504.13377] JWST's sharper view of EX Lup: cold water from ice sublimation during accretion outbursts\n",
       "\tS. A. Smith, et al. -- incl., <mark>A. Kospal</mark>, <mark>J. Bouwman</mark>"
      ]
     },
     "metadata": {},
     "output_type": "display_data"
    },
    {
     "data": {
      "text/markdown": [
       "\n",
       "|||\n",
       "|---:|:---|\n",
       "| [![arXiv](https://img.shields.io/badge/arXiv-2504.13679-b31b1b.svg)](https://arxiv.org/abs/2504.13679) | **MIRI-JWST mid-infrared direct imaging of the debris disk of HD106906**  |\n",
       "|| D. Rouan, et al. -- incl., <mark>T. Henning</mark> |\n",
       "|*Appeared on*| *2025-04-21*|\n",
       "|*Comments*| **|\n",
       "|**Abstract**|            We report MIRI-JWST coronagraphic observations at 11.3 and 15.5 mic of the debris disk around the young star HD 106906. The observations were made to characterize the structure, temperature and mass of the disk through the thermal emission of the dust heated by the central star. Another goal was also to constrain the size distribution of the grains. The data were reduced and calibrated using the JWST pipeline. The analysis was based on a forward-modeling of the images using a multiparameter radiative transfer model coupled to an optical code for coronagraphy processing. The disk is clearly detected at both wavelengths. The slight asymmetry is geometrically consistent with the asymmetry observed in the near-IR, but it is inconsistent the brightness distribution. The observed structure is well reproduced with a model of a disk (or belt) with a critical radius 70 au, a mildly inward-increasing density (index 2) and a steeper decrease outward (index -6). This indication of a filled disk inside the critical radius is inconsistent with sculpting from an inner massive planet. The size distribution of the grains that cause the mid-IR emission is well constrained by the flux ratio at the two wavelengths : 0.45 10 mic and 0.65 10 mic for silicate and graphite grains, respectively. The minimum size is consistent with predictions of blowout through radiative pressure. We derive a mass of the dust that causes the mid-IR emission of 3.3 5.0 E3 Mearth. When the larger grains (up to 1 cm) that cause the millimeter emission are included, we extrapolate this mass to 0.10 0.16 Mearth. We point out to that this is fully consistent with ALMA observations of the disk in terms of dust mass and of its millimeter flux. We estimate the average dust temperature in the planetesimal belt to be 74 K, and a temperature range within the whole disk from 40 to 130 K.         |"
      ],
      "text/plain": [
       "[2504.13679] MIRI-JWST mid-infrared direct imaging of the debris disk of HD106906\n",
       "\tD. Rouan, et al. -- incl., <mark>T. Henning</mark>"
      ]
     },
     "metadata": {},
     "output_type": "display_data"
    },
    {
     "data": {
      "text/markdown": [
       "## Failed papers"
      ],
      "text/plain": [
       "<IPython.core.display.Markdown object>"
      ]
     },
     "metadata": {},
     "output_type": "display_data"
    },
    {
     "data": {
      "text/markdown": [
       "\n",
       "|||\n",
       "|---:|:---|\n",
       "| [![arXiv](https://img.shields.io/badge/arXiv-2504.13246-b31b1b.svg)](https://arxiv.org/abs/2504.13246) | **Turbulence Inhibits Planetesimal Formation in Class 0/I Disks Subject to Infall**  |\n",
       "|| D. Carrera, et al. -- incl., <mark>H. Baehr</mark> |\n",
       "|*Appeared on*| *2025-04-21*|\n",
       "|*Comments*| *20 pages, 13 figures, submitted to ApJ*|\n",
       "|**Abstract**|            There is growing evidence that planet formation begins early, within the $\\lesssim 1$Myr Class 0/I phase, when infall dominates disk dynamics. Our goal is to determine if Class 0/I disks reach the conditions needed to form planetesimals ($\\sim 100$km planet building blocks) by the streaming instability (SI). We focus on a recent suggestion that early infall causes an ``inflationary'' phase in which dust grains are advected outward. We modified the \\texttt{DustPy} code to build a 1D disk that includes dust evolution, infall, and heating and cooling sources. We ran six models and examined the implications for the SI, taking into account recent works on how the SI responds to external turbulence. In line with other works, we find that grains are advected outward, which leads to ``advection-condensation-drift'' loop that greatly enhances the dust density at the water snowline. However, we do not see this process at the silicate line. Instead, we find a new pile up at the edge of the expanding disk. However, despite these localized enhancements, even a modest amount of turbulence ($\\alpha = 10^{-3}$) leaves planetesimal formation far out of reach. The midplane dust-to-gas ratio is at least an order of magnitude below the SI threshold, even taking into account recent results on how dust coagulation boosts the SI. For planetesimals to form in the Class 0/I phase may require a way to transport angular momentum without turbulence (e.g., disk winds) or a non-SI mechanism to form planetesimals.         |\n",
       "|<p style=\"color:green\"> **ERROR** </p>| <p style=\"color:green\">affiliation error: mpia.affiliation_verifications: 'Heidelberg' keyword not found.</p> |"
      ],
      "text/plain": [
       "<IPython.core.display.Markdown object>"
      ]
     },
     "metadata": {},
     "output_type": "display_data"
    },
    {
     "data": {
      "text/markdown": [
       "\n",
       "|||\n",
       "|---:|:---|\n",
       "| [![arXiv](https://img.shields.io/badge/arXiv-2504.13766-b31b1b.svg)](https://arxiv.org/abs/2504.13766) | **The impact of new ($α$, n) reaction rates on the weak s-process in metal-poor massive stars**  |\n",
       "|| W. Xin, et al. -- incl., <mark>X. Zhang</mark> |\n",
       "|*Appeared on*| *2025-04-21*|\n",
       "|*Comments*| *16 pages, 15 figures*|\n",
       "|**Abstract**|            Massive stars are significant sites for the weak s-process (ws-process). $^{22}$Ne and $^{16}$O are, respectively, the main neutron source and poison for the ws-process. In the metal-poor stars, the abundance of $^{22}$Ne is limited by the metallicity, so that the contribution of $^{22}$Ne($\\alpha$, n)$^{25}$Mg reaction on the s-process is small. Conversely, the $^{17}$O($\\alpha$, n)$^{20}$Ne reaction is more evident in more metal-poor stars due to the most abundant $^{16}$O in all metallicities. In this work, we calculate the evolution of four metal-poor models ($Z=10^{-3}$) for the Zero-Age Main-Sequence (ZAMS) masses of $M ({\\rm ZAMS})=$ 15, 20, 25, and 30 M$_{\\odot}$ to investigate the effect of reaction rates on the ws-process. We adopt the new $^{17}$O($\\alpha$, n)$^{20}$Ne and $^{17}$O($\\alpha, \\gamma$)$^{21}$Ne reaction rates suggested by Wiescher et al. (2023) and $^{22}$Ne($\\alpha$, n)$^{25}$Mg and $^{22}$Ne($\\alpha, \\gamma$)$^{26}$Mg from Best et al. (2013). The yields of the s-process isotope with updated reaction rates are compared with the results using default reaction rates from JINA REACLIB. We find that the effects of new $^{17}$O+$\\alpha$ are much more significant than those of new $^{22}$Ne+$\\alpha$ reaction rates in the non-rotation stars.         |\n",
       "|<p style=\"color:green\"> **ERROR** </p>| <p style=\"color:green\">affiliation error: mpia.affiliation_verifications: 'Heidelberg' keyword not found.</p> |"
      ],
      "text/plain": [
       "<IPython.core.display.Markdown object>"
      ]
     },
     "metadata": {},
     "output_type": "display_data"
    }
   ],
   "source": [
    "import datetime\n",
    "today = str(datetime.date.today())\n",
    "logfile = f\"_build/html/logs/log-{today}.md\"\n",
    "\n",
    "\n",
    "with open(logfile, 'w') as logs:\n",
    "    # Success\n",
    "    logs.write(f'# Arxiv on Deck 2: Logs - {today}\\n\\n')\n",
    "    logs.write(\"\"\"* Arxiv had {0:,d} new papers\\n\"\"\".format(len(new_papers)))\n",
    "    logs.write(\"\"\"    * {0:,d} with possible author matches\\n\\n\"\"\".format(len(candidates)))\n",
    "    logs.write(\"## Sucessful papers\\n\\n\")\n",
    "    display(Markdown(\"## Successful papers\"))\n",
    "    success = [k[0] for k in documents]\n",
    "    for candid in candidates:\n",
    "        if candid['identifier'].split(':')[-1] in success:\n",
    "            display(candid)\n",
    "            logs.write(candid.generate_markdown_text() + '\\n\\n')\n",
    "\n",
    "    ## failed\n",
    "    logs.write(\"## Failed papers\\n\\n\")\n",
    "    display(Markdown(\"## Failed papers\"))\n",
    "    failed = sorted(failed, key=lambda x: x[1])\n",
    "    current_reason = \"\"\n",
    "    for paper, reason in failed:\n",
    "        if 'affiliation' in reason:\n",
    "            color = 'green'\n",
    "        else:\n",
    "            color = 'red'\n",
    "        data = Markdown(\n",
    "                paper.generate_markdown_text() + \n",
    "                f'\\n|<p style=\"color:{color:s}\"> **ERROR** </p>| <p style=\"color:{color:s}\">{reason:s}</p> |'\n",
    "               )\n",
    "        if reason != current_reason:\n",
    "            logs.write(f'### {reason:s} \\n\\n')\n",
    "            current_reason = reason\n",
    "        logs.write(data.data + '\\n\\n')\n",
    "        \n",
    "        # only display here the important errors (all in logs)\n",
    "        # if color in ('red',):\n",
    "        display(data)"
   ]
  },
  {
   "cell_type": "markdown",
   "id": "472d20ee",
   "metadata": {
    "papermill": {
     "duration": 0.004463,
     "end_time": "2025-04-21T04:14:01.104537",
     "exception": false,
     "start_time": "2025-04-21T04:14:01.100074",
     "status": "completed"
    },
    "tags": []
   },
   "source": [
    "## Export documents\n",
    "\n",
    "We now write the .md files and export relevant images"
   ]
  },
  {
   "cell_type": "code",
   "execution_count": 7,
   "id": "d426aed9",
   "metadata": {
    "execution": {
     "iopub.execute_input": "2025-04-21T04:14:01.114439Z",
     "iopub.status.busy": "2025-04-21T04:14:01.114049Z",
     "iopub.status.idle": "2025-04-21T04:14:01.121061Z",
     "shell.execute_reply": "2025-04-21T04:14:01.120412Z"
    },
    "papermill": {
     "duration": 0.01313,
     "end_time": "2025-04-21T04:14:01.122128",
     "exception": false,
     "start_time": "2025-04-21T04:14:01.108998",
     "status": "completed"
    },
    "tags": []
   },
   "outputs": [],
   "source": [
    "def export_markdown_summary(md: str, md_fname:str, directory: str):\n",
    "    \"\"\"Export MD document and associated relevant images\"\"\"\n",
    "    import os\n",
    "    import shutil\n",
    "    import re\n",
    "\n",
    "    if (os.path.exists(directory) and not os.path.isdir(directory)):\n",
    "        raise RuntimeError(f\"a non-directory file exists with name {directory:s}\")\n",
    "\n",
    "    if (not os.path.exists(directory)):\n",
    "        print(f\"creating directory {directory:s}\")\n",
    "        os.mkdir(directory)\n",
    "\n",
    "    fig_fnames = (re.compile(r'\\[Fig.*\\]\\((.*)\\)').findall(md) + \n",
    "                  re.compile(r'\\<img src=\"([^>\\s]*)\"[^>]*/>').findall(md))\n",
    "    print(\"found figures\", fig_fnames)\n",
    "    for fname in fig_fnames:\n",
    "        if 'http' in fname:\n",
    "            # No need to copy online figures\n",
    "            continue\n",
    "        if not os.path.exists(fname):\n",
    "            print(\"file not found\", fname)\n",
    "            continue\n",
    "        print(\"copying \", fname, \"to\", directory)\n",
    "        destdir = os.path.join(directory, os.path.dirname(fname))\n",
    "        destfname = os.path.join(destdir, os.path.basename(fname))\n",
    "        try:\n",
    "            os.makedirs(destdir)\n",
    "        except FileExistsError:\n",
    "            pass\n",
    "        shutil.copy(fname, destfname)\n",
    "    with open(os.path.join(directory, md_fname), 'w') as fout:\n",
    "        fout.write(md)\n",
    "    print(\"exported in \", os.path.join(directory, md_fname))\n",
    "    [print(\"    + \" + os.path.join(directory,fk)) for fk in fig_fnames]"
   ]
  },
  {
   "cell_type": "code",
   "execution_count": 8,
   "id": "014d04a4",
   "metadata": {
    "execution": {
     "iopub.execute_input": "2025-04-21T04:14:01.132104Z",
     "iopub.status.busy": "2025-04-21T04:14:01.131664Z",
     "iopub.status.idle": "2025-04-21T04:14:01.139496Z",
     "shell.execute_reply": "2025-04-21T04:14:01.138950Z"
    },
    "papermill": {
     "duration": 0.013835,
     "end_time": "2025-04-21T04:14:01.140474",
     "exception": false,
     "start_time": "2025-04-21T04:14:01.126639",
     "status": "completed"
    },
    "tags": []
   },
   "outputs": [
    {
     "name": "stdout",
     "output_type": "stream",
     "text": [
      "found figures ['tmp_2504.13377/./EXLup_23umlines_ratios.png', 'tmp_2504.13377/./all_spectra.png', 'tmp_2504.13377/./EXLup_diagnostic_diagram.png']\n",
      "copying  tmp_2504.13377/./EXLup_23umlines_ratios.png to _build/html/\n",
      "copying  tmp_2504.13377/./all_spectra.png to _build/html/\n",
      "copying  tmp_2504.13377/./EXLup_diagnostic_diagram.png to _build/html/\n",
      "exported in  _build/html/2504.13377.md\n",
      "    + _build/html/tmp_2504.13377/./EXLup_23umlines_ratios.png\n",
      "    + _build/html/tmp_2504.13377/./all_spectra.png\n",
      "    + _build/html/tmp_2504.13377/./EXLup_diagnostic_diagram.png\n",
      "found figures ['tmp_2504.13679/./F15F11_Sil.png', 'tmp_2504.13679/./HD106906_fig1_paper.png', 'tmp_2504.13679/./HD106906_fig2_contours.png']\n",
      "copying  tmp_2504.13679/./F15F11_Sil.png to _build/html/\n",
      "copying  tmp_2504.13679/./HD106906_fig1_paper.png to _build/html/\n",
      "copying  tmp_2504.13679/./HD106906_fig2_contours.png to _build/html/\n",
      "exported in  _build/html/2504.13679.md\n",
      "    + _build/html/tmp_2504.13679/./F15F11_Sil.png\n",
      "    + _build/html/tmp_2504.13679/./HD106906_fig1_paper.png\n",
      "    + _build/html/tmp_2504.13679/./HD106906_fig2_contours.png\n"
     ]
    }
   ],
   "source": [
    "for paper_id, md in documents:\n",
    "    export_markdown_summary(md, f\"{paper_id:s}.md\", '_build/html/')"
   ]
  },
  {
   "cell_type": "markdown",
   "id": "f087a0a7",
   "metadata": {
    "papermill": {
     "duration": 0.004571,
     "end_time": "2025-04-21T04:14:01.150127",
     "exception": false,
     "start_time": "2025-04-21T04:14:01.145556",
     "status": "completed"
    },
    "tags": []
   },
   "source": [
    "## Display the papers\n",
    "\n",
    "Not necessary but allows for a quick check."
   ]
  },
  {
   "cell_type": "code",
   "execution_count": 9,
   "id": "fd25f625",
   "metadata": {
    "execution": {
     "iopub.execute_input": "2025-04-21T04:14:01.160376Z",
     "iopub.status.busy": "2025-04-21T04:14:01.159957Z",
     "iopub.status.idle": "2025-04-21T04:14:01.165802Z",
     "shell.execute_reply": "2025-04-21T04:14:01.165273Z"
    },
    "papermill": {
     "duration": 0.012025,
     "end_time": "2025-04-21T04:14:01.166781",
     "exception": false,
     "start_time": "2025-04-21T04:14:01.154756",
     "status": "completed"
    },
    "scrolled": false,
    "tags": []
   },
   "outputs": [
    {
     "data": {
      "text/markdown": [
       "<div class=\"macros\" style=\"visibility:hidden;\">\n",
       "$\\newcommand{\\ensuremath}{}$\n",
       "$\\newcommand{\\xspace}{}$\n",
       "$\\newcommand{\\object}[1]{\\texttt{#1}}$\n",
       "$\\newcommand{\\farcs}{{.}''}$\n",
       "$\\newcommand{\\farcm}{{.}'}$\n",
       "$\\newcommand{\\arcsec}{''}$\n",
       "$\\newcommand{\\arcmin}{'}$\n",
       "$\\newcommand{\\ion}[2]{#1#2}$\n",
       "$\\newcommand{\\textsc}[1]{\\textrm{#1}}$\n",
       "$\\newcommand{\\hl}[1]{\\textrm{#1}}$\n",
       "$\\newcommand{\\footnote}[1]{}$\n",
       "$\\newcommand{\\tblspc}{-0.1cm}$\n",
       "$\\newcommand{\\rev}[1]{\\textcolor{black}{#1}}$\n",
       "$\\newcommand$\n",
       "$\\newcommand$\n",
       "$\\newcommand$\n",
       "$\\newcommand$\n",
       "$\\newcommand{\\farcs}{\\hbox{.\\!\\!^{\\prime\\prime}}}$</div>\n",
       "\n",
       "\n",
       "\n",
       "<div id=\"title\">\n",
       "\n",
       "# JWST's sharper view of EX Lup: cold water from ice sublimation during accretion outbursts\n",
       "\n",
       "</div>\n",
       "<div id=\"comments\">\n",
       "\n",
       "[![arXiv](https://img.shields.io/badge/arXiv-2504.13377-b31b1b.svg)](https://arxiv.org/abs/2504.13377)<mark>Appeared on: 2025-04-21</mark> -  _Accepted for publication in ApJ Letters_\n",
       "\n",
       "</div>\n",
       "<div id=\"authors\">\n",
       "\n",
       "S. A. Smith, et al. -- incl., <mark>J. Bouwman</mark>\n",
       "\n",
       "</div>\n",
       "<div id=\"abstract\">\n",
       "\n",
       "**Abstract:** The unstable accretion phases during pre-main-sequence evolution of T Tauri stars produce variable irradiation and heating of planet-forming regions. A strong accretion outburst was observed with Spitzer-IRS in 2008 in EX Lup, the prototype of EXor variables, and found to increase the mid-infrared water and OH emission and decrease organic emission, suggesting large chemical changes. We present here two JWST-MIRI epochs of quiescent EX Lup in 2022 and 2023 obtained over a decade after the 2008 outburst and several months after a moderate burst in 2022. With JWST's sharper spectral view, we can now analyze water emission as a function of temperature in the two MIRI epochs and, approximately, also in the previous Spitzer epochs. This new analysis shows a strong cold water vapor \"burst\" in low-energy lines during the 2008 outburst, which we consider clear evidence for enhanced ice sublimation due to a recession of the snowline, as found in protostellar envelopes. JWST shows that EX Lup still has an unusually strong emission from cold water in comparison to other T Tauri disks, $\\rev{suggesting $> 10$-yr-long freeze-out timescales in the inner disk surface}$ . EX Lup demonstrates that outbursts can significantly change the observed organic-to-water ratios and increase the cold water reservoir, providing chemical signatures to study the recent accretion history of disks. This study provides an unprecedented demonstration of the chemical evolution triggered by accretion outbursts in the Class II phase and of the high potential of time-domain experiments to reveal processes that may have fundamental implications on planet-forming bodies near the snowline.\n",
       "\n",
       "</div>\n",
       "\n",
       "<div id=\"div_fig1\">\n",
       "\n",
       "<img src=\"tmp_2504.13377/./EXLup_23umlines_ratios.png\" alt=\"Fig1\" width=\"100%\"/>\n",
       "\n",
       "**Figure 1. -** Coldest water detected in EX Lup, in comparison to the JDISCS sample from \\citet{banzatti24}. The 23 $\\mu$m line flux asymmetry diagnostic (the 1448/1615 K flux ratio) shows one of the largest values ever measured before, consistent with ice sublimation in the inner disk \\citep[$\\rev${the temperatures associated to specific 1448/1615 K values assume a column density of $N = 10^{17}$ cm$^{-2}$, see}][]{banzatti24}. The other object near EX Lup (JW2) is the young disk of IRAS 04385-2550. (*fig: 23umlines_ratios*)\n",
       "\n",
       "</div>\n",
       "<div id=\"div_fig2\">\n",
       "\n",
       "<img src=\"tmp_2504.13377/./all_spectra.png\" alt=\"Fig7\" width=\"100%\"/>\n",
       "\n",
       "**Figure 7. -** Mid-infrared spectral line variability observed with Spitzer-IRS \\citep{banz12} and JWST-MIRI (this work) in the T Tauri disk of EX Lup over $\\sim 20$ years (from 2005 with the SP1 epoch, to 2023 with the JW2 epoch). The two MIRI epochs are plotted in grey (JW1) and black (JW2) without offset, to demonstrate their similarity. The individual molecular models obtained for the JW2 epoch (Table \\ref{tab: slab results}) are shown in different colors, their sum in grey. The same models are shown as downgraded to the resolving power of Spitzer-IRS for comparison to the SP1 and SP2 data, $\\rev${with multiplication factors as labeled for each molecule;} additional models for water and OH are shown on top of the SP2 epoch to explain the more complex structure observed (see text for details). The vertical dashed lines show the range where the line flux of organic molecules is measured for Figure \\ref{fig: IRS_correl}. $\\rev${The lowest-energy lines covered by MIRI ($E_u$ = 878--1448 K), which are more sensitive to the snowline region at T $< 180 K$, are marked with a star (see also Figure \\ref{fig: 23umlines_ratios}).} (*fig: all_spectra*)\n",
       "\n",
       "</div>\n",
       "<div id=\"div_fig3\">\n",
       "\n",
       "<img src=\"tmp_2504.13377/./EXLup_diagnostic_diagram.png\" alt=\"Fig8\" width=\"100%\"/>\n",
       "\n",
       "**Figure 8. -** Water diagnostic diagrams from \\citet{banzatti24}, with the JDISCS sample from that work shown for reference in light green. The position of the JW2 spectrum of EX Lup (large blue datapoint) in these diagrams shows: 1) a moderate slab radius ($\\approx 0.3$ au) for the hot water component (left plot), 2) optically thick emission ($N \\approx 10^{18}$ cm$^{-2}$) in the warm water component (middle plot), and 3) a temperature gradient with negative slope $\\approx 0.45$--0.55 and with strong cold water enrichment (right plot, see also Figure \\ref{fig: 23umlines_ratios}). These estimates are confirmed by the slab fit results both with discrete components and with the radial gradient (Sections \\ref{sec: slab_model} and \\ref{sec: cooler}). $\\rev${The line ratios from the outburst SP2 spectrum are more uncertain due to line blending (see Appendix \\ref{app: deblending}), but indicate a larger and colder water reservoir (see also Figure \\ref{fig: 23umlines_ratios}).} (*fig: diagnostic_diagram*)\n",
       "\n",
       "</div><div id=\"qrcode\"><img src=https://api.qrserver.com/v1/create-qr-code/?size=100x100&data=\"https://arxiv.org/abs/2504.13377\"></div>"
      ],
      "text/plain": [
       "<IPython.core.display.Markdown object>"
      ]
     },
     "metadata": {},
     "output_type": "display_data"
    },
    {
     "data": {
      "text/markdown": [
       "<div class=\"macros\" style=\"visibility:hidden;\">\n",
       "$\\newcommand{\\ensuremath}{}$\n",
       "$\\newcommand{\\xspace}{}$\n",
       "$\\newcommand{\\object}[1]{\\texttt{#1}}$\n",
       "$\\newcommand{\\farcs}{{.}''}$\n",
       "$\\newcommand{\\farcm}{{.}'}$\n",
       "$\\newcommand{\\arcsec}{''}$\n",
       "$\\newcommand{\\arcmin}{'}$\n",
       "$\\newcommand{\\ion}[2]{#1#2}$\n",
       "$\\newcommand{\\textsc}[1]{\\textrm{#1}}$\n",
       "$\\newcommand{\\hl}[1]{\\textrm{#1}}$\n",
       "$\\newcommand{\\footnote}[1]{}$\n",
       "$\\newcommand{\\Msun}{\\ensuremath{ {M}_\\odot}}$\n",
       "$\\newcommand{\\Rsun}{\\ensuremath{ {R}_\\odot}}$\n",
       "$\\newcommand{\\Lsun}{\\ensuremath{ {L}_\\odot}}$\n",
       "$\\newcommand{\\Teff}{\\ensuremath{T_{\\rm eff}}}$\n",
       "$\\newcommand{\\logg}{\\ensuremath{\\log g}}$\n",
       "$\\newcommand{\\Mjup}{\\ensuremath{ {M}_{\\rm Jup}}}$\n",
       "$\\newcommand{\\Rjup}{\\ensuremath{ {R}_{\\rm Jup}}}$\n",
       "$\\newcommand{\\mic}{\\ensuremath{{\\mu{m}}} }$\n",
       "$\\newcommand{\\Rearth}{\\ensuremath{ {R}_{\\bigoplus}}}$\n",
       "$\\newcommand{\\Mearth}{\\ensuremath{ {M}_{\\bigoplus}}}$\n",
       "$\\newcommand{\\Teq}{\\ensuremath{T_{\\rm eq}}}$\n",
       "$\\newcommand{\\safronov}{\\ensuremath{\\Theta}}$\n",
       "$\\newcommand{\\as}{\\ensuremath{^{\\prime\\prime}}}$\n",
       "$\\newcommand{\\am}{\\ensuremath{^\\prime}}$\n",
       "$\\newcommand{\\mc}[1]{\\multicolumn{2}{c}{#1}}$\n",
       "$\\newcommand{\\mcc}[1]{\\multicolumn{3}{c}{#1}}$\n",
       "$\\newcommand{\\er}[3]{\\ensuremath{#1^{+#2}_{-#3}}}$\n",
       "$\\newcommand{\\erc}[3]{\\mc{\\ensuremath{#1^{+#2}_{-#3}}}}$\n",
       "$\\newcommand{\\erm}[3]{\\mc{\\ensuremath{#1^{+#2}_{-#3}}}}$\n",
       "$\\newcommand{\\ercc}[3]{\\mcc{\\ensuremath{#1^{+#2}_{-#3}}}}$\n",
       "$\\newcommand{\\ermcc}[5]{\\mcc{\\ensuremath{{#1 ^{+#2}_{-#3}} ^{+#4}_{-#5}}}}$\n",
       "$\\newcommand{\\reff}[1]{{#1}}$\n",
       "$\\newcommand{\\red}{\\textcolor{red}}$\n",
       "$\\newcommand{\\change}[1]{\\textcolor{green}{#1}}$\n",
       "$\\newcommand{◦}{\\hbox{^\\circ}}$</div>\n",
       "\n",
       "\n",
       "\n",
       "<div id=\"title\">\n",
       "\n",
       "# MIRI-JWST mid-infrared direct imaging of the debris disk of HD106906 : Structure and mass of the disk\n",
       "\n",
       "</div>\n",
       "<div id=\"comments\">\n",
       "\n",
       "[![arXiv](https://img.shields.io/badge/arXiv-2504.13679-b31b1b.svg)](https://arxiv.org/abs/2504.13679)<mark>Appeared on: 2025-04-21</mark> - \n",
       "\n",
       "</div>\n",
       "<div id=\"authors\">\n",
       "\n",
       "D. Rouan, et al. -- incl., <mark>T. Henning</mark>\n",
       "\n",
       "</div>\n",
       "<div id=\"abstract\">\n",
       "\n",
       "**Abstract:** We report MIRI-JWST coronagraphic observations at 11.3 and 15.5 $\\mic$ of the debris disk around the young star HD 106906. The wavelength range is sensitive to the thermal\t  emission of the dust heated by the central star. The observations were made to characterize the structure of the disk through the thermal emission, to search for clues to the presence of a central void of dust particles, and to derive the mass of the dust and the temperature\t  distribution. Another goal was also to constrain the size distribution of the grains. The data were reduced and calibrated  using the JWST pipeline. The  analysis was based on a forward-modeling of the images using a multiparameter radiative\t  transfer model coupled to an optical code for coronagraphy processing. The disk is clearly detected at both wavelengths. The slight asymmetry is\t  geometrically consistent with the asymmetry observed in the near-IR, but it is inconsistent the brightness distribution. The observed\t  structure is well reproduced with a model of a disk (or belt) with a critical radius 70 au, a mildly\t  inward-increasing density (index 2) and a steeper decrease outward (index -6).\tThis indication of a filled disk inside the critical radius is inconsistent with sculpting from an\t  inner massive planet.\t  The size distribution of the grains that cause the mid-IR emission is  well\t  constrained by the flux ratio at the two wavelengths : 0.45 -- 10 $\\mic$ and 0.65 -- 10 $\\mic$ for silicate and graphite grains, respectively. The minimum size is consistent with predictions\t  of blowout through radiative pressure. We derive a mass of the dust that causes the mid-IR emission of 3.3 -- 5.0 $10^{-3} \\Mearth$ .\t  When the larger grains (up to 1 cm) that cause the\t  millimeter emission are included, we extrapolate this mass to 0.10 -- 0.16 $\\Mearth$ .\t  We point out to that this is fully consistent with ALMA observations of the disk\t  in terms of dust mass and of its millimeter flux. We estimate the average dust temperature\t  in the planetesimal belt to be 74 K, but the temperature range within the whole disk is rather wide: from 40 to 130 K.\n",
       "\n",
       "</div>\n",
       "\n",
       "<div id=\"div_fig1\">\n",
       "\n",
       "<img src=\"tmp_2504.13679/./F15F11_Sil.png\" alt=\"Fig6\" width=\"100%\"/>\n",
       "\n",
       "**Figure 6. -** \n",
       "\t   \tDependence of the ratio $R_f = F_{15.5} / F_{11.4}$ on the grain size\n",
       "\t   \tdistribution. The ratio $R_f$ is deduced from the model after integration\n",
       "\t   \tof the flux in the considered size range.\n",
       "\t   \t$R_f$  is plotted for a selection of different size ranges, all following a distribution in $a^{-3.5}$.\n",
       "     Each segment depicts a range that is plotted in blue for silicate grains and in orange for graphite grains.\n",
       "     The  dots correspond to single sizes of silicate grains.\n",
       "\t The two retained ranges are indicated by thicker dash-dot segments.\n",
       "     The  range of ratios deduced from observations is indicated by\n",
       "        shaded purple. (*fig:F7*)\n",
       "\n",
       "</div>\n",
       "<div id=\"div_fig2\">\n",
       "\n",
       "<img src=\"tmp_2504.13679/./HD106906_fig1_paper.png\" alt=\"Fig1\" width=\"100%\"/>\n",
       "\n",
       "**Figure 1. -** Top: MIRI F1140C (left) and  F1550C (right)\n",
       "\t   \tfull-field coronagraphic images after data reduction (see text) and\n",
       "\t   \treference subtraction. The planet HD 106906 b can be seen at 7.3\n",
       "\t   \tarcsec NW. Bottom: Same after zooming and binning by a factor 2.\n",
       "\t   \tThe orientation is standard (north is up, and east is to the left). The field of view is 22 $\\times$ 22 arcsec$^2$ at the top and 11 $\\times$ 11\n",
       "\t   \tarcsec$^2$ at the bottom.  (*fig:F1*)\n",
       "\n",
       "</div>\n",
       "<div id=\"div_fig3\">\n",
       "\n",
       "<img src=\"tmp_2504.13679/./HD106906_fig2_contours.png\" alt=\"Fig2\" width=\"100%\"/>\n",
       "\n",
       "**Figure 2. -** MIRI 11.4 $\\mu m$ coronagraphic image. The contours of\n",
       "\t   \tthe SPHERE H1-H2 image of Lagrange et al. (2015) are superimposed. (*fig:F2*)\n",
       "\n",
       "</div><div id=\"qrcode\"><img src=https://api.qrserver.com/v1/create-qr-code/?size=100x100&data=\"https://arxiv.org/abs/2504.13679\"></div>"
      ],
      "text/plain": [
       "<IPython.core.display.Markdown object>"
      ]
     },
     "metadata": {},
     "output_type": "display_data"
    }
   ],
   "source": [
    "[display(Markdown(k[1])) for k in documents];"
   ]
  },
  {
   "cell_type": "markdown",
   "id": "873873a4",
   "metadata": {
    "papermill": {
     "duration": 0.004902,
     "end_time": "2025-04-21T04:14:01.176858",
     "exception": false,
     "start_time": "2025-04-21T04:14:01.171956",
     "status": "completed"
    },
    "tags": []
   },
   "source": [
    "# Create HTML index"
   ]
  },
  {
   "cell_type": "code",
   "execution_count": 10,
   "id": "cf665672",
   "metadata": {
    "execution": {
     "iopub.execute_input": "2025-04-21T04:14:01.187516Z",
     "iopub.status.busy": "2025-04-21T04:14:01.187289Z",
     "iopub.status.idle": "2025-04-21T04:14:01.197127Z",
     "shell.execute_reply": "2025-04-21T04:14:01.196558Z"
    },
    "papermill": {
     "duration": 0.016412,
     "end_time": "2025-04-21T04:14:01.198176",
     "exception": false,
     "start_time": "2025-04-21T04:14:01.181764",
     "status": "completed"
    },
    "tags": []
   },
   "outputs": [
    {
     "name": "stdout",
     "output_type": "stream",
     "text": [
      "448  publications files modified in the last 7 days.\n"
     ]
    }
   ],
   "source": [
    "from datetime import datetime, timedelta, timezone\n",
    "from glob import glob\n",
    "import os\n",
    "\n",
    "files = glob('_build/html/*.md')\n",
    "days = 7\n",
    "now = datetime.today()\n",
    "res = []\n",
    "for fk in files:\n",
    "    stat_result = os.stat(fk).st_ctime\n",
    "    modified = datetime.fromtimestamp(stat_result, tz=timezone.utc).replace(tzinfo=None)\n",
    "    delta = now.today() - modified\n",
    "    if delta <= timedelta(days=days):\n",
    "        res.append((delta.seconds, fk))\n",
    "res = [k[1] for k in reversed(sorted(res, key=lambda x:x[1]))]\n",
    "npub = len(res)\n",
    "print(len(res), f\" publications files modified in the last {days:d} days.\")\n",
    "# [ print('\\t', k) for k in res ];"
   ]
  },
  {
   "cell_type": "code",
   "execution_count": 11,
   "id": "015de740",
   "metadata": {
    "execution": {
     "iopub.execute_input": "2025-04-21T04:14:01.209140Z",
     "iopub.status.busy": "2025-04-21T04:14:01.208934Z",
     "iopub.status.idle": "2025-04-21T04:14:01.232449Z",
     "shell.execute_reply": "2025-04-21T04:14:01.231857Z"
    },
    "papermill": {
     "duration": 0.030106,
     "end_time": "2025-04-21T04:14:01.233481",
     "exception": false,
     "start_time": "2025-04-21T04:14:01.203375",
     "status": "completed"
    },
    "tags": []
   },
   "outputs": [
    {
     "name": "stdout",
     "output_type": "stream",
     "text": [
      "13  publications in the last 7 days.\n"
     ]
    }
   ],
   "source": [
    "import datetime\n",
    "from glob import glob\n",
    "\n",
    "def get_last_n_days(lst, days=1):\n",
    "    \"\"\" Get the documents from the last n days \"\"\"\n",
    "    sorted_lst = sorted(lst, key=lambda x: x[1], reverse=True)\n",
    "    for fname, date in sorted_lst:\n",
    "        if date >= str(datetime.date.today() - datetime.timedelta(days=days)):\n",
    "            yield fname\n",
    "\n",
    "def extract_appearance_dates(lst_file):\n",
    "    dates = []\n",
    "\n",
    "    def get_date(line):\n",
    "        return line\\\n",
    "            .split('Appeared on:')[-1]\\\n",
    "            .split('</mark>')[0].strip()\n",
    "\n",
    "    for fname in lst:\n",
    "        with open(fname, 'r') as f:\n",
    "            found_date = False\n",
    "            for line in f:\n",
    "                if not found_date:\n",
    "                    if \"Appeared on\" in line:\n",
    "                        found_date = True\n",
    "                        dates.append((fname, get_date(line)))\n",
    "                else:\n",
    "                    break\n",
    "    return dates\n",
    "\n",
    "from glob import glob\n",
    "lst = glob('_build/html/*md')\n",
    "days = 7\n",
    "dates = extract_appearance_dates(lst)\n",
    "res = list(get_last_n_days(dates, days))\n",
    "npub = len(res)\n",
    "print(len(res), f\" publications in the last {days:d} days.\")"
   ]
  },
  {
   "cell_type": "code",
   "execution_count": 12,
   "id": "52ca0208",
   "metadata": {
    "execution": {
     "iopub.execute_input": "2025-04-21T04:14:01.244460Z",
     "iopub.status.busy": "2025-04-21T04:14:01.244261Z",
     "iopub.status.idle": "2025-04-21T04:14:01.249206Z",
     "shell.execute_reply": "2025-04-21T04:14:01.248659Z"
    },
    "papermill": {
     "duration": 0.011551,
     "end_time": "2025-04-21T04:14:01.250213",
     "exception": false,
     "start_time": "2025-04-21T04:14:01.238662",
     "status": "completed"
    },
    "scrolled": false,
    "tags": []
   },
   "outputs": [],
   "source": [
    "def create_carousel(npub=4):\n",
    "    \"\"\" Generate the HTML code for a carousel with `npub` slides \"\"\"\n",
    "    carousel = [\"\"\"  <div class=\"carousel\" \"\"\",\n",
    "                \"\"\"       data-flickity='{ \"autoPlay\": 10000, \"adaptiveHeight\": true, \"resize\": true, \"wrapAround\": true, \"pauseAutoPlayOnHover\": true, \"groupCells\": 1 }' id=\"asyncTypeset\">\"\"\"\n",
    "                ]\n",
    "    \n",
    "    item_str = \"\"\"    <div class=\"carousel-cell\"> <div id=\"slide{k}\" class=\"md_view\">Content {k}</div> </div>\"\"\"\n",
    "    for k in range(1, npub + 1):\n",
    "        carousel.append(item_str.format(k=k))\n",
    "    carousel.append(\"  </div>\")\n",
    "    return '\\n'.join(carousel)\n",
    "\n",
    "def create_grid(npub=4):\n",
    "    \"\"\" Generate the HTML code for a flat grid with `npub` slides \"\"\"\n",
    "    grid = [\"\"\"  <div class=\"grid\"> \"\"\",\n",
    "                ]\n",
    "    \n",
    "    item_str = \"\"\"    <div class=\"grid-item\"> <div id=\"slide{k}\" class=\"md_view\">Content {k}</div> </div>\"\"\"\n",
    "    for k in range(1, npub + 1):\n",
    "        grid.append(item_str.format(k=k))\n",
    "    grid.append(\"  </div>\")\n",
    "    return '\\n'.join(grid)"
   ]
  },
  {
   "cell_type": "code",
   "execution_count": 13,
   "id": "a6eac5b6",
   "metadata": {
    "execution": {
     "iopub.execute_input": "2025-04-21T04:14:01.261575Z",
     "iopub.status.busy": "2025-04-21T04:14:01.261132Z",
     "iopub.status.idle": "2025-04-21T04:14:01.266140Z",
     "shell.execute_reply": "2025-04-21T04:14:01.265577Z"
    },
    "papermill": {
     "duration": 0.01165,
     "end_time": "2025-04-21T04:14:01.267113",
     "exception": false,
     "start_time": "2025-04-21T04:14:01.255463",
     "status": "completed"
    },
    "scrolled": false,
    "tags": []
   },
   "outputs": [],
   "source": [
    "carousel = create_carousel(npub)\n",
    "docs = ', '.join(['\"{0:s}\"'.format(k.split('/')[-1]) for k in res])\n",
    "slides = ', '.join([f'\"slide{k}\"' for k in range(1, npub + 1)])\n",
    "\n",
    "with open(\"daily_template.html\", \"r\") as tpl:\n",
    "    page = tpl.read()\n",
    "    page = page.replace(\"{%-- carousel:s --%}\", carousel)\\\n",
    "               .replace(\"{%-- suptitle:s --%}\",  \"7-day archives\" )\\\n",
    "               .replace(\"{%-- docs:s --%}\", docs)\\\n",
    "               .replace(\"{%-- slides:s --%}\", slides)\n",
    "    \n",
    "with open(\"_build/html/index_7days.html\", 'w') as fout:\n",
    "    fout.write(page)"
   ]
  },
  {
   "cell_type": "code",
   "execution_count": 14,
   "id": "adc1a1ec",
   "metadata": {
    "execution": {
     "iopub.execute_input": "2025-04-21T04:14:01.278715Z",
     "iopub.status.busy": "2025-04-21T04:14:01.278285Z",
     "iopub.status.idle": "2025-04-21T04:14:01.285308Z",
     "shell.execute_reply": "2025-04-21T04:14:01.284768Z"
    },
    "papermill": {
     "duration": 0.013833,
     "end_time": "2025-04-21T04:14:01.286283",
     "exception": false,
     "start_time": "2025-04-21T04:14:01.272450",
     "status": "completed"
    },
    "tags": []
   },
   "outputs": [
    {
     "name": "stdout",
     "output_type": "stream",
     "text": [
      "2  publications in the last day.\n"
     ]
    }
   ],
   "source": [
    "# redo for today\n",
    "days = 1\n",
    "res = list(get_last_n_days(dates, days))\n",
    "npub = len(res)\n",
    "print(len(res), f\" publications in the last day.\")\n",
    "\n",
    "carousel = create_carousel(npub)\n",
    "docs = ', '.join(['\"{0:s}\"'.format(k.split('/')[-1]) for k in res])\n",
    "slides = ', '.join([f'\"slide{k}\"' for k in range(1, npub + 1)])\n",
    "\n",
    "with open(\"daily_template.html\", \"r\") as tpl:\n",
    "    page = tpl.read()\n",
    "    page = page.replace(\"{%-- carousel:s --%}\", carousel)\\\n",
    "               .replace(\"{%-- suptitle:s --%}\",  \"Daily\" )\\\n",
    "               .replace(\"{%-- docs:s --%}\", docs)\\\n",
    "               .replace(\"{%-- slides:s --%}\", slides)\n",
    "    \n",
    "# print(carousel, docs, slides)\n",
    "# print(page)\n",
    "with open(\"_build/html/index_daily.html\", 'w') as fout:\n",
    "    fout.write(page)"
   ]
  },
  {
   "cell_type": "code",
   "execution_count": 15,
   "id": "00eece82",
   "metadata": {
    "execution": {
     "iopub.execute_input": "2025-04-21T04:14:01.298427Z",
     "iopub.status.busy": "2025-04-21T04:14:01.297935Z",
     "iopub.status.idle": "2025-04-21T04:14:01.304838Z",
     "shell.execute_reply": "2025-04-21T04:14:01.304267Z"
    },
    "papermill": {
     "duration": 0.014113,
     "end_time": "2025-04-21T04:14:01.305890",
     "exception": false,
     "start_time": "2025-04-21T04:14:01.291777",
     "status": "completed"
    },
    "scrolled": false,
    "tags": []
   },
   "outputs": [
    {
     "name": "stdout",
     "output_type": "stream",
     "text": [
      "6  6 publications selected.\n"
     ]
    }
   ],
   "source": [
    "# Create the flat grid of the last N papers (fixed number regardless of dates)\n",
    "from itertools import islice \n",
    "\n",
    "npub = 6\n",
    "res = [k[0] for k in (islice(reversed(sorted(dates, key=lambda x: x[1])), 6))]\n",
    "print(len(res), f\" {npub} publications selected.\")\n",
    "\n",
    "grid = create_grid(npub)\n",
    "docs = ', '.join(['\"{0:s}\"'.format(k.split('/')[-1]) for k in res])\n",
    "slides = ', '.join([f'\"slide{k}\"' for k in range(1, npub + 1)])\n",
    "\n",
    "with open(\"grid_template.html\", \"r\") as tpl:\n",
    "    page = tpl.read()\n",
    "    page = page.replace(\"{%-- grid-content:s --%}\", grid)\\\n",
    "               .replace(\"{%-- suptitle:s --%}\",  f\"Last {npub:,d} papers\" )\\\n",
    "               .replace(\"{%-- docs:s --%}\", docs)\\\n",
    "               .replace(\"{%-- slides:s --%}\", slides)\n",
    "    \n",
    "# print(grid, docs, slides)\n",
    "# print(page)\n",
    "with open(\"_build/html/index_npub_grid.html\", 'w') as fout:\n",
    "    fout.write(page)"
   ]
  }
 ],
 "metadata": {
  "kernelspec": {
   "display_name": "Python 3 (ipykernel)",
   "language": "python",
   "name": "python3"
  },
  "language_info": {
   "codemirror_mode": {
    "name": "ipython",
    "version": 3
   },
   "file_extension": ".py",
   "mimetype": "text/x-python",
   "name": "python",
   "nbconvert_exporter": "python",
   "pygments_lexer": "ipython3",
   "version": "3.9.22"
  },
  "papermill": {
   "default_parameters": {},
   "duration": 69.413831,
   "end_time": "2025-04-21T04:14:01.527270",
   "environment_variables": {},
   "exception": null,
   "input_path": "MPIA daily digest.ipynb",
   "output_path": "log.ipynb",
   "parameters": {},
   "start_time": "2025-04-21T04:12:52.113439",
   "version": "2.6.0"
  },
  "vscode": {
   "interpreter": {
    "hash": "aee8b7b246df8f9039afb4144a1f6fd8d2ca17a180786b69acc140d282b71a49"
   }
  },
  "widgets": {
   "application/vnd.jupyter.widget-state+json": {
    "state": {
     "31f8809f32724ae8b02da661d150252f": {
      "model_module": "@jupyter-widgets/controls",
      "model_module_version": "2.0.0",
      "model_name": "HTMLStyleModel",
      "state": {
       "_model_module": "@jupyter-widgets/controls",
       "_model_module_version": "2.0.0",
       "_model_name": "HTMLStyleModel",
       "_view_count": null,
       "_view_module": "@jupyter-widgets/base",
       "_view_module_version": "2.0.0",
       "_view_name": "StyleView",
       "background": null,
       "description_width": "",
       "font_size": null,
       "text_color": null
      }
     },
     "7502af19043b4417a7a0ec08e16f7de8": {
      "model_module": "@jupyter-widgets/base",
      "model_module_version": "2.0.0",
      "model_name": "LayoutModel",
      "state": {
       "_model_module": "@jupyter-widgets/base",
       "_model_module_version": "2.0.0",
       "_model_name": "LayoutModel",
       "_view_count": null,
       "_view_module": "@jupyter-widgets/base",
       "_view_module_version": "2.0.0",
       "_view_name": "LayoutView",
       "align_content": null,
       "align_items": null,
       "align_self": null,
       "border_bottom": null,
       "border_left": null,
       "border_right": null,
       "border_top": null,
       "bottom": null,
       "display": null,
       "flex": null,
       "flex_flow": null,
       "grid_area": null,
       "grid_auto_columns": null,
       "grid_auto_flow": null,
       "grid_auto_rows": null,
       "grid_column": null,
       "grid_gap": null,
       "grid_row": null,
       "grid_template_areas": null,
       "grid_template_columns": null,
       "grid_template_rows": null,
       "height": null,
       "justify_content": null,
       "justify_items": null,
       "left": null,
       "margin": null,
       "max_height": null,
       "max_width": null,
       "min_height": null,
       "min_width": null,
       "object_fit": null,
       "object_position": null,
       "order": null,
       "overflow": null,
       "padding": null,
       "right": null,
       "top": null,
       "visibility": null,
       "width": null
      }
     },
     "77b0c3d2b1b14763a1194798b3c2ae3c": {
      "model_module": "@jupyter-widgets/controls",
      "model_module_version": "2.0.0",
      "model_name": "HBoxModel",
      "state": {
       "_dom_classes": [],
       "_model_module": "@jupyter-widgets/controls",
       "_model_module_version": "2.0.0",
       "_model_name": "HBoxModel",
       "_view_count": null,
       "_view_module": "@jupyter-widgets/controls",
       "_view_module_version": "2.0.0",
       "_view_name": "HBoxView",
       "box_style": "",
       "children": [
        "IPY_MODEL_fcc9f6240b664c1887e4bb07b8d54bf4",
        "IPY_MODEL_b89c1a5a8f5d4743bdbdd556d78d6489",
        "IPY_MODEL_ad94cb9016054ccf873b03e0dde8276b"
       ],
       "layout": "IPY_MODEL_7502af19043b4417a7a0ec08e16f7de8",
       "tabbable": null,
       "tooltip": null
      }
     },
     "823477211e584270939901adb17b9920": {
      "model_module": "@jupyter-widgets/controls",
      "model_module_version": "2.0.0",
      "model_name": "ProgressStyleModel",
      "state": {
       "_model_module": "@jupyter-widgets/controls",
       "_model_module_version": "2.0.0",
       "_model_name": "ProgressStyleModel",
       "_view_count": null,
       "_view_module": "@jupyter-widgets/base",
       "_view_module_version": "2.0.0",
       "_view_name": "StyleView",
       "bar_color": null,
       "description_width": ""
      }
     },
     "91c90bb94869452ead38ebe245f19684": {
      "model_module": "@jupyter-widgets/base",
      "model_module_version": "2.0.0",
      "model_name": "LayoutModel",
      "state": {
       "_model_module": "@jupyter-widgets/base",
       "_model_module_version": "2.0.0",
       "_model_name": "LayoutModel",
       "_view_count": null,
       "_view_module": "@jupyter-widgets/base",
       "_view_module_version": "2.0.0",
       "_view_name": "LayoutView",
       "align_content": null,
       "align_items": null,
       "align_self": null,
       "border_bottom": null,
       "border_left": null,
       "border_right": null,
       "border_top": null,
       "bottom": null,
       "display": null,
       "flex": null,
       "flex_flow": null,
       "grid_area": null,
       "grid_auto_columns": null,
       "grid_auto_flow": null,
       "grid_auto_rows": null,
       "grid_column": null,
       "grid_gap": null,
       "grid_row": null,
       "grid_template_areas": null,
       "grid_template_columns": null,
       "grid_template_rows": null,
       "height": null,
       "justify_content": null,
       "justify_items": null,
       "left": null,
       "margin": null,
       "max_height": null,
       "max_width": null,
       "min_height": null,
       "min_width": null,
       "object_fit": null,
       "object_position": null,
       "order": null,
       "overflow": null,
       "padding": null,
       "right": null,
       "top": null,
       "visibility": null,
       "width": null
      }
     },
     "a1eff757a0e24311a3799182973339ad": {
      "model_module": "@jupyter-widgets/base",
      "model_module_version": "2.0.0",
      "model_name": "LayoutModel",
      "state": {
       "_model_module": "@jupyter-widgets/base",
       "_model_module_version": "2.0.0",
       "_model_name": "LayoutModel",
       "_view_count": null,
       "_view_module": "@jupyter-widgets/base",
       "_view_module_version": "2.0.0",
       "_view_name": "LayoutView",
       "align_content": null,
       "align_items": null,
       "align_self": null,
       "border_bottom": null,
       "border_left": null,
       "border_right": null,
       "border_top": null,
       "bottom": null,
       "display": null,
       "flex": null,
       "flex_flow": null,
       "grid_area": null,
       "grid_auto_columns": null,
       "grid_auto_flow": null,
       "grid_auto_rows": null,
       "grid_column": null,
       "grid_gap": null,
       "grid_row": null,
       "grid_template_areas": null,
       "grid_template_columns": null,
       "grid_template_rows": null,
       "height": null,
       "justify_content": null,
       "justify_items": null,
       "left": null,
       "margin": null,
       "max_height": null,
       "max_width": null,
       "min_height": null,
       "min_width": null,
       "object_fit": null,
       "object_position": null,
       "order": null,
       "overflow": null,
       "padding": null,
       "right": null,
       "top": null,
       "visibility": null,
       "width": null
      }
     },
     "ad94cb9016054ccf873b03e0dde8276b": {
      "model_module": "@jupyter-widgets/controls",
      "model_module_version": "2.0.0",
      "model_name": "HTMLModel",
      "state": {
       "_dom_classes": [],
       "_model_module": "@jupyter-widgets/controls",
       "_model_module_version": "2.0.0",
       "_model_name": "HTMLModel",
       "_view_count": null,
       "_view_module": "@jupyter-widgets/controls",
       "_view_module_version": "2.0.0",
       "_view_name": "HTMLView",
       "description": "",
       "description_allow_html": false,
       "layout": "IPY_MODEL_91c90bb94869452ead38ebe245f19684",
       "placeholder": "​",
       "style": "IPY_MODEL_eea9ead410514f73a8653d7e9479e4e4",
       "tabbable": null,
       "tooltip": null,
       "value": " 4/4 [00:40&lt;00:00,  9.71s/it]"
      }
     },
     "b85f457576cb4a75b6673d6c1eab4e3b": {
      "model_module": "@jupyter-widgets/base",
      "model_module_version": "2.0.0",
      "model_name": "LayoutModel",
      "state": {
       "_model_module": "@jupyter-widgets/base",
       "_model_module_version": "2.0.0",
       "_model_name": "LayoutModel",
       "_view_count": null,
       "_view_module": "@jupyter-widgets/base",
       "_view_module_version": "2.0.0",
       "_view_name": "LayoutView",
       "align_content": null,
       "align_items": null,
       "align_self": null,
       "border_bottom": null,
       "border_left": null,
       "border_right": null,
       "border_top": null,
       "bottom": null,
       "display": null,
       "flex": null,
       "flex_flow": null,
       "grid_area": null,
       "grid_auto_columns": null,
       "grid_auto_flow": null,
       "grid_auto_rows": null,
       "grid_column": null,
       "grid_gap": null,
       "grid_row": null,
       "grid_template_areas": null,
       "grid_template_columns": null,
       "grid_template_rows": null,
       "height": null,
       "justify_content": null,
       "justify_items": null,
       "left": null,
       "margin": null,
       "max_height": null,
       "max_width": null,
       "min_height": null,
       "min_width": null,
       "object_fit": null,
       "object_position": null,
       "order": null,
       "overflow": null,
       "padding": null,
       "right": null,
       "top": null,
       "visibility": null,
       "width": null
      }
     },
     "b89c1a5a8f5d4743bdbdd556d78d6489": {
      "model_module": "@jupyter-widgets/controls",
      "model_module_version": "2.0.0",
      "model_name": "FloatProgressModel",
      "state": {
       "_dom_classes": [],
       "_model_module": "@jupyter-widgets/controls",
       "_model_module_version": "2.0.0",
       "_model_name": "FloatProgressModel",
       "_view_count": null,
       "_view_module": "@jupyter-widgets/controls",
       "_view_module_version": "2.0.0",
       "_view_name": "ProgressView",
       "bar_style": "success",
       "description": "",
       "description_allow_html": false,
       "layout": "IPY_MODEL_b85f457576cb4a75b6673d6c1eab4e3b",
       "max": 4.0,
       "min": 0.0,
       "orientation": "horizontal",
       "style": "IPY_MODEL_823477211e584270939901adb17b9920",
       "tabbable": null,
       "tooltip": null,
       "value": 4.0
      }
     },
     "eea9ead410514f73a8653d7e9479e4e4": {
      "model_module": "@jupyter-widgets/controls",
      "model_module_version": "2.0.0",
      "model_name": "HTMLStyleModel",
      "state": {
       "_model_module": "@jupyter-widgets/controls",
       "_model_module_version": "2.0.0",
       "_model_name": "HTMLStyleModel",
       "_view_count": null,
       "_view_module": "@jupyter-widgets/base",
       "_view_module_version": "2.0.0",
       "_view_name": "StyleView",
       "background": null,
       "description_width": "",
       "font_size": null,
       "text_color": null
      }
     },
     "fcc9f6240b664c1887e4bb07b8d54bf4": {
      "model_module": "@jupyter-widgets/controls",
      "model_module_version": "2.0.0",
      "model_name": "HTMLModel",
      "state": {
       "_dom_classes": [],
       "_model_module": "@jupyter-widgets/controls",
       "_model_module_version": "2.0.0",
       "_model_name": "HTMLModel",
       "_view_count": null,
       "_view_module": "@jupyter-widgets/controls",
       "_view_module_version": "2.0.0",
       "_view_name": "HTMLView",
       "description": "",
       "description_allow_html": false,
       "layout": "IPY_MODEL_a1eff757a0e24311a3799182973339ad",
       "placeholder": "​",
       "style": "IPY_MODEL_31f8809f32724ae8b02da661d150252f",
       "tabbable": null,
       "tooltip": null,
       "value": "100%"
      }
     }
    },
    "version_major": 2,
    "version_minor": 0
   }
  }
 },
 "nbformat": 4,
 "nbformat_minor": 5
}