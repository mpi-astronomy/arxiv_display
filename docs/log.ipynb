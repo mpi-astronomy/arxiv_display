{
 "cells": [
  {
   "cell_type": "markdown",
   "id": "92bcb855",
   "metadata": {
    "papermill": {
     "duration": 0.00382,
     "end_time": "2025-01-31T04:10:33.543681",
     "exception": false,
     "start_time": "2025-01-31T04:10:33.539861",
     "status": "completed"
    },
    "tags": []
   },
   "source": [
    "# MPIA Arxiv on Deck 2\n",
    "\n",
    "Contains the steps to produce the paper extractions."
   ]
  },
  {
   "cell_type": "code",
   "execution_count": 1,
   "id": "3a0d6e11",
   "metadata": {
    "execution": {
     "iopub.execute_input": "2025-01-31T04:10:33.551521Z",
     "iopub.status.busy": "2025-01-31T04:10:33.550980Z",
     "iopub.status.idle": "2025-01-31T04:10:34.186557Z",
     "shell.execute_reply": "2025-01-31T04:10:34.185803Z"
    },
    "papermill": {
     "duration": 0.641032,
     "end_time": "2025-01-31T04:10:34.188067",
     "exception": false,
     "start_time": "2025-01-31T04:10:33.547035",
     "status": "completed"
    },
    "tags": []
   },
   "outputs": [],
   "source": [
    "# Imports\n",
    "import os\n",
    "from IPython.display import Markdown, display\n",
    "from tqdm.notebook import tqdm\n",
    "import warnings\n",
    "from PIL import Image \n",
    "import re\n",
    "\n",
    "# requires arxiv_on_deck_2\n",
    "\n",
    "from arxiv_on_deck_2.arxiv2 import (get_new_papers, \n",
    "                                    get_paper_from_identifier,\n",
    "                                    retrieve_document_source, \n",
    "                                    get_markdown_badge)\n",
    "from arxiv_on_deck_2 import (latex,\n",
    "                             latex_bib,\n",
    "                             mpia,\n",
    "                             highlight_authors_in_list)\n",
    "\n",
    "# Sometimes images are really big\n",
    "Image.MAX_IMAGE_PIXELS = 1000000000 "
   ]
  },
  {
   "cell_type": "code",
   "execution_count": 2,
   "id": "22aa9d44",
   "metadata": {
    "execution": {
     "iopub.execute_input": "2025-01-31T04:10:34.196207Z",
     "iopub.status.busy": "2025-01-31T04:10:34.195410Z",
     "iopub.status.idle": "2025-01-31T04:10:34.203970Z",
     "shell.execute_reply": "2025-01-31T04:10:34.203414Z"
    },
    "papermill": {
     "duration": 0.013531,
     "end_time": "2025-01-31T04:10:34.204959",
     "exception": false,
     "start_time": "2025-01-31T04:10:34.191428",
     "status": "completed"
    },
    "tags": []
   },
   "outputs": [],
   "source": [
    "# Some useful definitions.\n",
    "\n",
    "class AffiliationWarning(UserWarning):\n",
    "    pass\n",
    "\n",
    "class AffiliationError(RuntimeError):\n",
    "    pass\n",
    "\n",
    "def validation(source: str):\n",
    "    \"\"\"Raises error paper during parsing of source file\n",
    "    \n",
    "    Allows checks before parsing TeX code.\n",
    "    \n",
    "    Raises AffiliationWarning\n",
    "    \"\"\"\n",
    "    check = mpia.affiliation_verifications(source, verbose=True)\n",
    "    if check is not True:\n",
    "        raise AffiliationError(\"mpia.affiliation_verifications: \" + check)\n",
    "\n",
    "        \n",
    "warnings.simplefilter('always', AffiliationWarning)\n",
    "\n",
    "\n",
    "def get_markdown_qrcode(paper_id: str):\n",
    "    \"\"\" Generate a qrcode to the arxiv page using qrserver.com\n",
    "    \n",
    "    :param paper: Arxiv paper\n",
    "    :returns: markdown text\n",
    "    \"\"\"\n",
    "    url = r\"https://api.qrserver.com/v1/create-qr-code/?size=100x100&data=\"\n",
    "    txt = f\"\"\"<img src={url}\"https://arxiv.org/abs/{paper_id}\">\"\"\"\n",
    "    txt = '<div id=\"qrcode\">' + txt + '</div>'\n",
    "    return txt\n",
    "\n",
    "\n",
    "def clean_non_western_encoded_characters_commands(text: str) -> str:\n",
    "    \"\"\" Remove non-western encoded characters from a string\n",
    "    List may need to grow.\n",
    "    \n",
    "    :param text: the text to clean\n",
    "    :return: the cleaned text\n",
    "    \"\"\"\n",
    "    text = re.sub(r\"(\\\\begin{CJK}{UTF8}{gbsn})(.*?)(\\\\end{CJK})\", r\"\\2\", text)\n",
    "    return text\n",
    "\n",
    "\n",
    "def get_initials(name: str) -> str:\n",
    "    \"\"\" Get the short name, e.g., A.-B. FamName\n",
    "    :param name: full name\n",
    "    :returns: initials\n",
    "    \"\"\"\n",
    "    initials = []\n",
    "    # account for non western names often in ()\n",
    "    if '(' in name:\n",
    "        name = clean_non_western_encoded_characters_commands(name)\n",
    "        suffix = re.findall(r\"\\((.*?)\\)\", name)[0]\n",
    "        name = name.replace(f\"({suffix})\", '')\n",
    "    else:\n",
    "        suffix = ''\n",
    "    split = name.split()\n",
    "    for token in split[:-1]:\n",
    "        if '-' in token:\n",
    "            current = '-'.join([k[0] + '.' for k in token.split('-')])\n",
    "        else:\n",
    "            current = token[0] + '.'\n",
    "        initials.append(current)\n",
    "    initials.append(split[-1].strip())\n",
    "    if suffix:\n",
    "        initials.append(f\"({suffix})\")\n",
    "    return ' '.join(initials)"
   ]
  },
  {
   "cell_type": "markdown",
   "id": "14bd6310",
   "metadata": {
    "papermill": {
     "duration": 0.002893,
     "end_time": "2025-01-31T04:10:34.211000",
     "exception": false,
     "start_time": "2025-01-31T04:10:34.208107",
     "status": "completed"
    },
    "tags": []
   },
   "source": [
    "## get list of arxiv paper candidates\n",
    "\n",
    "We use the MPIA mitarbeiter list webpage from mpia.de to get author names\n",
    "We then get all new papers from Arxiv and match authors"
   ]
  },
  {
   "cell_type": "code",
   "execution_count": 3,
   "id": "7ea813a8",
   "metadata": {
    "execution": {
     "iopub.execute_input": "2025-01-31T04:10:34.218399Z",
     "iopub.status.busy": "2025-01-31T04:10:34.217873Z",
     "iopub.status.idle": "2025-01-31T04:10:52.209433Z",
     "shell.execute_reply": "2025-01-31T04:10:52.208759Z"
    },
    "papermill": {
     "duration": 17.996776,
     "end_time": "2025-01-31T04:10:52.210724",
     "exception": false,
     "start_time": "2025-01-31T04:10:34.213948",
     "status": "completed"
    },
    "tags": []
   },
   "outputs": [],
   "source": [
    "# deal with the author list and edge cases of people that cannot be consistent on their name  \n",
    "\n",
    "def filter_non_scientists(name: str) -> bool:\n",
    "    \"\"\" Loose filter on expected authorships\n",
    "\n",
    "    removing IT, administration, technical staff\n",
    "    :param name: name\n",
    "    :returns: False if name is not a scientist\n",
    "    \"\"\"\n",
    "    remove_list = ['Licht', 'Binroth', 'Witzel', 'Jordan',\n",
    "                   'Zähringer', 'Scheerer', 'Hoffmann', 'Düe',\n",
    "                   'Hellmich', 'Enkler-Scharpegge', 'Witte-Nguy',\n",
    "                   'Dehen', 'Beckmann', 'Jager', 'Jäger'\n",
    "                  ]\n",
    "\n",
    "    for k in remove_list:\n",
    "        if k in name:\n",
    "            return False\n",
    "    return True\n",
    "\n",
    "def add_author_to_list(author_list: list) -> list:\n",
    "    \"\"\" Add author to list if not already in list\n",
    "    \n",
    "    :param author: author name\n",
    "    :param author_list: list of authors\n",
    "    :returns: updated list of authors\n",
    "    \"\"\"\n",
    "    add_list = ['T. Henning']\n",
    "\n",
    "    for author in add_list:\n",
    "        if author not in author_list:\n",
    "            author_list.append(author)\n",
    "    return author_list\n",
    "\n",
    "# get list from MPIA website\n",
    "# filter for non-scientists (mpia.get_mpia_mitarbeiter_list() does some filtering)\n",
    "mpia_authors = [k[1] for k in mpia.get_mpia_mitarbeiter_list() if filter_non_scientists(k[1])]\n",
    "# add some missing author because of inconsistencies in their MPIA name and author name on papers\n",
    "mpia_authors = add_author_to_list(mpia_authors)"
   ]
  },
  {
   "cell_type": "code",
   "execution_count": 4,
   "id": "2645e73a",
   "metadata": {
    "execution": {
     "iopub.execute_input": "2025-01-31T04:10:52.218522Z",
     "iopub.status.busy": "2025-01-31T04:10:52.218037Z",
     "iopub.status.idle": "2025-01-31T04:10:52.764526Z",
     "shell.execute_reply": "2025-01-31T04:10:52.763769Z"
    },
    "papermill": {
     "duration": 0.551519,
     "end_time": "2025-01-31T04:10:52.765644",
     "exception": false,
     "start_time": "2025-01-31T04:10:52.214125",
     "status": "completed"
    },
    "tags": []
   },
   "outputs": [
    {
     "name": "stdout",
     "output_type": "stream",
     "text": [
      "M. Sharma  ->  Y. M. Sharma  |  ['M. Sharma']\n",
      "D. Ostertag  ->  D. Ostertag  |  ['D. Ostertag']\n",
      "M. Flock  ->  M. Flock  |  ['M. Flock']\n",
      "E.-M. Ahrer  ->  E.-M. Ahrer  |  ['E.-M. Ahrer']\n",
      "Arxiv has 49 new papers today\n",
      "          3 with possible author matches\n"
     ]
    }
   ],
   "source": [
    "new_papers = get_new_papers()\n",
    "# add manual references\n",
    "add_paper_refs = []\n",
    "new_papers.extend([get_paper_from_identifier(k) for k in add_paper_refs])\n",
    "\n",
    "def robust_call(fn, value, *args, **kwargs):\n",
    "    try:\n",
    "        return fn(value, *args, **kwargs)\n",
    "    except Exception:\n",
    "        return value\n",
    "\n",
    "candidates = []\n",
    "for paperk in new_papers:\n",
    "    # Check author list with their initials\n",
    "    normed_author_list = [robust_call(mpia.get_initials, k) for k in paperk['authors']]\n",
    "    hl_authors = highlight_authors_in_list(normed_author_list, mpia_authors, verbose=True)\n",
    "    matches = [(hl, orig) for hl, orig in zip(hl_authors, paperk['authors']) if 'mark' in hl]\n",
    "    paperk['authors'] = hl_authors\n",
    "    if matches:\n",
    "        # only select paper if an author matched our list\n",
    "        candidates.append(paperk)\n",
    "print(\"\"\"Arxiv has {0:,d} new papers today\"\"\".format(len(new_papers)))        \n",
    "print(\"\"\"          {0:,d} with possible author matches\"\"\".format(len(candidates)))"
   ]
  },
  {
   "cell_type": "markdown",
   "id": "3543b34a",
   "metadata": {
    "papermill": {
     "duration": 0.003045,
     "end_time": "2025-01-31T04:10:52.772227",
     "exception": false,
     "start_time": "2025-01-31T04:10:52.769182",
     "status": "completed"
    },
    "tags": []
   },
   "source": [
    "# Parse sources and generate relevant outputs\n",
    "\n",
    "From the candidates, we do the following steps:\n",
    "* get their tarball from ArXiv (and extract data)\n",
    "* find the main .tex file: find one with \\documentclass{...} (sometimes it's non trivial)\n",
    "* Check affiliations with :func:`validation`, which uses :func:`mpia.affiliation_verifications`\n",
    "* If passing the affiliations: we parse the .tex source\n",
    "   * inject sub-documents into the main (flatten the main document)\n",
    "   * parse structure, extract information (title, abstract, authors, figures...)\n",
    "   * handles `\\graphicspath` if provided\n",
    "* Generate the .md document."
   ]
  },
  {
   "cell_type": "code",
   "execution_count": 5,
   "id": "9576b79e",
   "metadata": {
    "execution": {
     "iopub.execute_input": "2025-01-31T04:10:52.779768Z",
     "iopub.status.busy": "2025-01-31T04:10:52.779198Z",
     "iopub.status.idle": "2025-01-31T04:14:41.125350Z",
     "shell.execute_reply": "2025-01-31T04:14:41.124549Z"
    },
    "papermill": {
     "duration": 228.354898,
     "end_time": "2025-01-31T04:14:41.130247",
     "exception": false,
     "start_time": "2025-01-31T04:10:52.775349",
     "status": "completed"
    },
    "scrolled": false,
    "tags": []
   },
   "outputs": [
    {
     "data": {
      "application/vnd.jupyter.widget-view+json": {
       "model_id": "7873d41c5b0f4a6ab60b21d472768fd0",
       "version_major": 2,
       "version_minor": 0
      },
      "text/plain": [
       "  0%|          | 0/3 [00:00<?, ?it/s]"
      ]
     },
     "metadata": {},
     "output_type": "display_data"
    },
    {
     "name": "stdout",
     "output_type": "stream",
     "text": [
      "Retrieving document from  https://arxiv.org/e-print/2501.18034\n"
     ]
    },
    {
     "name": "stdout",
     "output_type": "stream",
     "text": [
      "extracting tarball to tmp_2501.18034... done.\n",
      "Retrieving document from  https://arxiv.org/e-print/2501.18424\n"
     ]
    },
    {
     "name": "stdout",
     "output_type": "stream",
     "text": [
      "extracting tarball to tmp_2501.18424..."
     ]
    },
    {
     "name": "stdout",
     "output_type": "stream",
     "text": [
      " done.\n"
     ]
    },
    {
     "name": "stdout",
     "output_type": "stream",
     "text": [
      "D. Ostertag  ->  D. Ostertag  |  ['D. Ostertag']\n",
      "M. Flock  ->  M. Flock  |  ['M. Flock']\n"
     ]
    },
    {
     "name": "stdout",
     "output_type": "stream",
     "text": [
      "Found 39 bibliographic references in tmp_2501.18424/main.bbl.\n",
      "Retrieving document from  https://arxiv.org/e-print/2501.18477\n",
      "extracting tarball to tmp_2501.18477..."
     ]
    },
    {
     "name": "stdout",
     "output_type": "stream",
     "text": [
      " done.\n"
     ]
    },
    {
     "name": "stdout",
     "output_type": "stream",
     "text": [
      "E.-M. Ahrer  ->  E.-M. Ahrer  |  ['E.-M. Ahrer']\n"
     ]
    },
    {
     "name": "stdout",
     "output_type": "stream",
     "text": [
      "Found 167 bibliographic references in tmp_2501.18477/K2-18b.bbl.\n"
     ]
    }
   ],
   "source": [
    "documents = []\n",
    "failed = []\n",
    "for paper in tqdm(candidates):\n",
    "    # debug crap\n",
    "    paper['identifier'] = paper['identifier'].lower().replace('arxiv:', '').replace(r'\\n', '').strip()\n",
    "    paper_id = paper['identifier']\n",
    "    \n",
    "    folder = f'tmp_{paper_id}'\n",
    "\n",
    "    try:\n",
    "        if not os.path.isdir(folder):\n",
    "            folder = retrieve_document_source(f\"{paper_id}\", f'tmp_{paper_id}')\n",
    "        \n",
    "        try:\n",
    "            doc = latex.LatexDocument(folder, validation=validation)    \n",
    "        except AffiliationError as affilerror:\n",
    "            msg = f\"ArXiv:{paper_id:s} is not an MPIA paper... \" + str(affilerror)\n",
    "            failed.append((paper, \"affiliation error: \" + str(affilerror) ))\n",
    "            continue\n",
    "        \n",
    "        # Hack because sometimes author parsing does not work well\n",
    "        if (len(doc.authors) != len(paper['authors'])):\n",
    "            doc._authors = paper['authors']\n",
    "        else:\n",
    "            # highlight authors (FIXME: doc.highlight_authors)\n",
    "            # done on arxiv paper already\n",
    "            doc._authors = highlight_authors_in_list(\n",
    "                [get_initials(k) for k in doc.authors], \n",
    "                mpia_authors, verbose=True)\n",
    "        if (doc.abstract) in (None, ''):\n",
    "            doc._abstract = paper['abstract']\n",
    "            \n",
    "        doc.comment = (get_markdown_badge(paper_id) + \n",
    "                       \"<mark>Appeared on: \" + paper['date'] + \"</mark> - \")\n",
    "        if paper['comments']:\n",
    "            doc.comment += \" _\" + paper['comments'] + \"_\"\n",
    "        \n",
    "        full_md = doc.generate_markdown_text()\n",
    "        \n",
    "        full_md += get_markdown_qrcode(paper_id)\n",
    "        \n",
    "        # replace citations\n",
    "        try:\n",
    "            bibdata = latex_bib.LatexBib.from_doc(doc)\n",
    "            full_md = latex_bib.replace_citations(full_md, bibdata)\n",
    "        except Exception as e:\n",
    "            print(\"Issues with the citations\")\n",
    "            print(e)\n",
    "        \n",
    "        documents.append((paper_id, full_md))\n",
    "    except Exception as e:\n",
    "        warnings.warn(latex.LatexWarning(f\"{paper_id:s} did not run properly\\n\" +\n",
    "                                         str(e)\n",
    "                                        ))\n",
    "        failed.append((paper, \"latex error \" + str(e)))"
   ]
  },
  {
   "cell_type": "markdown",
   "id": "2505a25c",
   "metadata": {
    "papermill": {
     "duration": 0.003557,
     "end_time": "2025-01-31T04:14:41.137589",
     "exception": false,
     "start_time": "2025-01-31T04:14:41.134032",
     "status": "completed"
    },
    "tags": []
   },
   "source": [
    "### Export the logs\n",
    "\n",
    "Throughout, we also keep track of the logs per paper. see `logs-{today date}.md` "
   ]
  },
  {
   "cell_type": "code",
   "execution_count": 6,
   "id": "d733828a",
   "metadata": {
    "execution": {
     "iopub.execute_input": "2025-01-31T04:14:41.146085Z",
     "iopub.status.busy": "2025-01-31T04:14:41.145590Z",
     "iopub.status.idle": "2025-01-31T04:14:41.159394Z",
     "shell.execute_reply": "2025-01-31T04:14:41.158867Z"
    },
    "papermill": {
     "duration": 0.019198,
     "end_time": "2025-01-31T04:14:41.160392",
     "exception": false,
     "start_time": "2025-01-31T04:14:41.141194",
     "status": "completed"
    },
    "scrolled": false,
    "tags": []
   },
   "outputs": [
    {
     "data": {
      "text/markdown": [
       "## Successful papers"
      ],
      "text/plain": [
       "<IPython.core.display.Markdown object>"
      ]
     },
     "metadata": {},
     "output_type": "display_data"
    },
    {
     "data": {
      "text/markdown": [
       "\n",
       "|||\n",
       "|---:|:---|\n",
       "| [![arXiv](https://img.shields.io/badge/arXiv-2501.18424-b31b1b.svg)](https://arxiv.org/abs/2501.18424) | **Strong clumping in global streaming instability simulations with a dusty fluid**  |\n",
       "|| <mark>D. Ostertag</mark>, <mark>M. Flock</mark> |\n",
       "|*Appeared on*| *2025-01-31*|\n",
       "|*Comments*| *7 pages, 6 figures*|\n",
       "|**Abstract**|            Context: How planets form in protoplanetary disks and what drives the formation of their seeds is still a major unknown. It is an accepted theory that multiple processes can trap dusty material in radially narrow rings or vortex-like structures, preventing the dust from drifting inwards. However, the relevant process for clumping this dusty material until it collapses under gravity still needs to be identified. One promising candidate is the streaming instability arising from the aerodynamic interaction between dust and gas once they reach similar densities. Aims: We investigate with a global disk model based on recent observational constraints if streaming instability can form dust clumps, which might gravitationally collapse. Further, our goal is to verify the observability of the produced structures using ALMA or ngVLA. Methods. For the first time, we present global 2D (R, z) hydrodynamic simulations using FARGO3D in which the dust is treated as a pressureless fluid. The disk model assumes stratification, realistic boundary conditions, and meaningful resolution to resolve the fast-growing modes. We choose two values for the total dust-to-gas mass ratio Z = 0.01 and Z = 0.02, compare the maximum clump density to the local Hill density, and compute the optical depth of the dust disk. Results: With a dust-to-gas mass ratio of Z = 0.01, we confirm previous streaming instability simulations, not showing the ability to form strong concentrations of dust clumps. With Z = 0.02, dense clumps form within 20 orbits, however reaching only 30% of the Hill density even following disk parameters from the massive protoplanetary disks GM Aur, HD163296, IM Lup, MWC 480, and TW Hya, which all share astonishingly similar surface density profiles.         |"
      ],
      "text/plain": [
       "[2501.18424] Strong clumping in global streaming instability simulations with a dusty fluid\n",
       "\t<mark>D. Ostertag</mark>, <mark>M. Flock</mark>"
      ]
     },
     "metadata": {},
     "output_type": "display_data"
    },
    {
     "data": {
      "text/markdown": [
       "\n",
       "|||\n",
       "|---:|:---|\n",
       "| [![arXiv](https://img.shields.io/badge/arXiv-2501.18477-b31b1b.svg)](https://arxiv.org/abs/2501.18477) | **A Comprehensive Reanalysis of K2-18 b's JWST NIRISS+NIRSpec Transmission Spectrum**  |\n",
       "|| S. P. Schmidt, et al. -- incl., <mark>E.-M. Ahrer</mark> |\n",
       "|*Appeared on*| *2025-01-31*|\n",
       "|*Comments*| *42 pages, 20 figures. Submitted to AAS Journals*|\n",
       "|**Abstract**|            Sub-Neptunes are the most common type of planet in our galaxy. Interior structure models suggest that the coldest sub-Neptunes could host liquid water oceans underneath their hydrogen envelopes - sometimes called 'hycean' planets. JWST transmission spectra of the $\\sim$ 250 K sub-Neptune K2-18 b were recently used to report detections of CH$_4$ and CO$_2$, alongside weaker evidence of (CH$_3$)$_2$S (dimethyl sulfide, or DMS). Atmospheric CO$_2$ was interpreted as evidence for a liquid water ocean, while DMS was highlighted as a potential biomarker. However, these notable claims were derived using a single data reduction and retrieval modeling framework, which did not allow for standard robustness tests. Here we present a comprehensive reanalysis of K2-18 b's JWST NIRISS SOSS and NIRSpec G395H transmission spectra, including the first analysis of the second-order NIRISS SOSS data. We incorporate multiple well-tested data reduction pipelines and retrieval codes, spanning 60 different data treatments and over 250 atmospheric retrievals. We confirm the detection of CH$_4$ ($\\approx$ 4$\\sigma$), with a volume mixing ratio of log CH$_4$ = $-1.15^{+0.40}_{-0.52}$, but we find no statistically significant or reliable evidence for CO$_2$ or DMS. Finally, we quantify the observed atmospheric composition using photochemical-climate and interior models, demonstrating that our revised composition of K2-18 b can be explained by an oxygen-poor mini-Neptune without requiring a liquid water surface or life.         |"
      ],
      "text/plain": [
       "[2501.18477] A Comprehensive Reanalysis of K2-18 b's JWST NIRISS+NIRSpec Transmission Spectrum\n",
       "\tS. P. Schmidt, et al. -- incl., <mark>E.-M. Ahrer</mark>"
      ]
     },
     "metadata": {},
     "output_type": "display_data"
    },
    {
     "data": {
      "text/markdown": [
       "## Failed papers"
      ],
      "text/plain": [
       "<IPython.core.display.Markdown object>"
      ]
     },
     "metadata": {},
     "output_type": "display_data"
    },
    {
     "data": {
      "text/markdown": [
       "\n",
       "|||\n",
       "|---:|:---|\n",
       "| [![arXiv](https://img.shields.io/badge/arXiv-2501.18034-b31b1b.svg)](https://arxiv.org/abs/2501.18034) | **An energetic absorption outflow in QSO J1402+2330: Analysis of DESI observations**  |\n",
       "|| M. Dehghanian, et al. -- incl., <mark>M. Sharma</mark> |\n",
       "|*Appeared on*| *2025-01-31*|\n",
       "|*Comments*| *8 pages, 7 figures, accepted for publication in A&A*|\n",
       "|**Abstract**|            Context. Quasar outflows play a significant role in the active galactic nucleus (AGN) feedback, impacting the interstellar medium and potentially influencing galaxy evolution. Characterizing these outflows is essential for understanding AGN-driven processes. Aims. We aim to analyze the physical properties of the mini-broad absorption line outflow in quasar J1402+2330 using data from the Dark Energy Spectroscopic Instrument (DESI) survey. We seek to measure the outflows location, energetics, and potential impact on AGN feedback processes. Methods. In the spectrum of J1402+2330, we identify multiple ionic absorption lines, including ground and excited states. We measure the ionic column densities and then use photoionization models to determine the total hydrogen column density and ionization parameter of the outflow. We utilized the population ratio of the excited state to the ground state of N iii and S iv to determine the electron number density. Results. The derived electron number density, combined with the ionization parameter, indicates an outflow distance of approximately 2200 pc from the central source. Having a mass outflow rate of more than one thousand solar masses per year and a kinetic energy output exceeding 5 percent of the Eddington luminosity, this outflow can significantly contribute to AGN feedback. Conclusions. Our findings suggest the absorption outflow in J1402+2330 plays a potentially significant role in AGN feedback processes. This study highlights the value of DESI data in exploring AGN feedback mechanisms.         |\n",
       "|<p style=\"color:green\"> **ERROR** </p>| <p style=\"color:green\">affiliation error: mpia.affiliation_verifications: 'Heidelberg' keyword not found.</p> |"
      ],
      "text/plain": [
       "<IPython.core.display.Markdown object>"
      ]
     },
     "metadata": {},
     "output_type": "display_data"
    }
   ],
   "source": [
    "import datetime\n",
    "today = str(datetime.date.today())\n",
    "logfile = f\"_build/html/logs/log-{today}.md\"\n",
    "\n",
    "\n",
    "with open(logfile, 'w') as logs:\n",
    "    # Success\n",
    "    logs.write(f'# Arxiv on Deck 2: Logs - {today}\\n\\n')\n",
    "    logs.write(\"\"\"* Arxiv had {0:,d} new papers\\n\"\"\".format(len(new_papers)))\n",
    "    logs.write(\"\"\"    * {0:,d} with possible author matches\\n\\n\"\"\".format(len(candidates)))\n",
    "    logs.write(\"## Sucessful papers\\n\\n\")\n",
    "    display(Markdown(\"## Successful papers\"))\n",
    "    success = [k[0] for k in documents]\n",
    "    for candid in candidates:\n",
    "        if candid['identifier'].split(':')[-1] in success:\n",
    "            display(candid)\n",
    "            logs.write(candid.generate_markdown_text() + '\\n\\n')\n",
    "\n",
    "    ## failed\n",
    "    logs.write(\"## Failed papers\\n\\n\")\n",
    "    display(Markdown(\"## Failed papers\"))\n",
    "    failed = sorted(failed, key=lambda x: x[1])\n",
    "    current_reason = \"\"\n",
    "    for paper, reason in failed:\n",
    "        if 'affiliation' in reason:\n",
    "            color = 'green'\n",
    "        else:\n",
    "            color = 'red'\n",
    "        data = Markdown(\n",
    "                paper.generate_markdown_text() + \n",
    "                f'\\n|<p style=\"color:{color:s}\"> **ERROR** </p>| <p style=\"color:{color:s}\">{reason:s}</p> |'\n",
    "               )\n",
    "        if reason != current_reason:\n",
    "            logs.write(f'### {reason:s} \\n\\n')\n",
    "            current_reason = reason\n",
    "        logs.write(data.data + '\\n\\n')\n",
    "        \n",
    "        # only display here the important errors (all in logs)\n",
    "        # if color in ('red',):\n",
    "        display(data)"
   ]
  },
  {
   "cell_type": "markdown",
   "id": "472d20ee",
   "metadata": {
    "papermill": {
     "duration": 0.004059,
     "end_time": "2025-01-31T04:14:41.168568",
     "exception": false,
     "start_time": "2025-01-31T04:14:41.164509",
     "status": "completed"
    },
    "tags": []
   },
   "source": [
    "## Export documents\n",
    "\n",
    "We now write the .md files and export relevant images"
   ]
  },
  {
   "cell_type": "code",
   "execution_count": 7,
   "id": "d426aed9",
   "metadata": {
    "execution": {
     "iopub.execute_input": "2025-01-31T04:14:41.177525Z",
     "iopub.status.busy": "2025-01-31T04:14:41.177291Z",
     "iopub.status.idle": "2025-01-31T04:14:41.183986Z",
     "shell.execute_reply": "2025-01-31T04:14:41.183474Z"
    },
    "papermill": {
     "duration": 0.012399,
     "end_time": "2025-01-31T04:14:41.184992",
     "exception": false,
     "start_time": "2025-01-31T04:14:41.172593",
     "status": "completed"
    },
    "tags": []
   },
   "outputs": [],
   "source": [
    "def export_markdown_summary(md: str, md_fname:str, directory: str):\n",
    "    \"\"\"Export MD document and associated relevant images\"\"\"\n",
    "    import os\n",
    "    import shutil\n",
    "    import re\n",
    "\n",
    "    if (os.path.exists(directory) and not os.path.isdir(directory)):\n",
    "        raise RuntimeError(f\"a non-directory file exists with name {directory:s}\")\n",
    "\n",
    "    if (not os.path.exists(directory)):\n",
    "        print(f\"creating directory {directory:s}\")\n",
    "        os.mkdir(directory)\n",
    "\n",
    "    fig_fnames = (re.compile(r'\\[Fig.*\\]\\((.*)\\)').findall(md) + \n",
    "                  re.compile(r'\\<img src=\"([^>\\s]*)\"[^>]*/>').findall(md))\n",
    "    print(\"found figures\", fig_fnames)\n",
    "    for fname in fig_fnames:\n",
    "        if 'http' in fname:\n",
    "            # No need to copy online figures\n",
    "            continue\n",
    "        if not os.path.exists(fname):\n",
    "            print(\"file not found\", fname)\n",
    "            continue\n",
    "        print(\"copying \", fname, \"to\", directory)\n",
    "        destdir = os.path.join(directory, os.path.dirname(fname))\n",
    "        destfname = os.path.join(destdir, os.path.basename(fname))\n",
    "        try:\n",
    "            os.makedirs(destdir)\n",
    "        except FileExistsError:\n",
    "            pass\n",
    "        shutil.copy(fname, destfname)\n",
    "    with open(os.path.join(directory, md_fname), 'w') as fout:\n",
    "        fout.write(md)\n",
    "    print(\"exported in \", os.path.join(directory, md_fname))\n",
    "    [print(\"    + \" + os.path.join(directory,fk)) for fk in fig_fnames]"
   ]
  },
  {
   "cell_type": "code",
   "execution_count": 8,
   "id": "014d04a4",
   "metadata": {
    "execution": {
     "iopub.execute_input": "2025-01-31T04:14:41.194408Z",
     "iopub.status.busy": "2025-01-31T04:14:41.193949Z",
     "iopub.status.idle": "2025-01-31T04:14:41.201612Z",
     "shell.execute_reply": "2025-01-31T04:14:41.201068Z"
    },
    "papermill": {
     "duration": 0.013385,
     "end_time": "2025-01-31T04:14:41.202592",
     "exception": false,
     "start_time": "2025-01-31T04:14:41.189207",
     "status": "completed"
    },
    "tags": []
   },
   "outputs": [
    {
     "name": "stdout",
     "output_type": "stream",
     "text": [
      "found figures ['tmp_2501.18424/./plots/DensityProfileComparisonHillDensity.png', 'tmp_2501.18424/./plots/dustDensity2D_EvolDTG_4096x1024_Z002_FARGO.png', 'tmp_2501.18424/./plots/evolutionMaxDustDensity_4096x1024_Z001Z002.png']\n",
      "copying  tmp_2501.18424/./plots/DensityProfileComparisonHillDensity.png to _build/html/\n",
      "copying  tmp_2501.18424/./plots/dustDensity2D_EvolDTG_4096x1024_Z002_FARGO.png to _build/html/\n",
      "copying  tmp_2501.18424/./plots/evolutionMaxDustDensity_4096x1024_Z001Z002.png to _build/html/\n",
      "exported in  _build/html/2501.18424.md\n",
      "    + _build/html/tmp_2501.18424/./plots/DensityProfileComparisonHillDensity.png\n",
      "    + _build/html/tmp_2501.18424/./plots/dustDensity2D_EvolDTG_4096x1024_Z002_FARGO.png\n",
      "    + _build/html/tmp_2501.18424/./plots/evolutionMaxDustDensity_4096x1024_Z001Z002.png\n",
      "found figures ['tmp_2501.18477/./plot/K2-18b_Detection_Significance_Grids.png', 'tmp_2501.18477/./plot/K2-18b_Retrieval_Average_Posterior.png', 'tmp_2501.18477/./plot/Nep-100Xsolar.png', 'tmp_2501.18477/./plot/Nep-100Xsolar-00002XN.png']\n",
      "copying  tmp_2501.18477/./plot/K2-18b_Detection_Significance_Grids.png to _build/html/\n",
      "copying  tmp_2501.18477/./plot/K2-18b_Retrieval_Average_Posterior.png to _build/html/\n",
      "copying  tmp_2501.18477/./plot/Nep-100Xsolar.png to _build/html/\n",
      "copying  tmp_2501.18477/./plot/Nep-100Xsolar-00002XN.png to _build/html/\n",
      "exported in  _build/html/2501.18477.md\n",
      "    + _build/html/tmp_2501.18477/./plot/K2-18b_Detection_Significance_Grids.png\n",
      "    + _build/html/tmp_2501.18477/./plot/K2-18b_Retrieval_Average_Posterior.png\n",
      "    + _build/html/tmp_2501.18477/./plot/Nep-100Xsolar.png\n",
      "    + _build/html/tmp_2501.18477/./plot/Nep-100Xsolar-00002XN.png\n"
     ]
    }
   ],
   "source": [
    "for paper_id, md in documents:\n",
    "    export_markdown_summary(md, f\"{paper_id:s}.md\", '_build/html/')"
   ]
  },
  {
   "cell_type": "markdown",
   "id": "f087a0a7",
   "metadata": {
    "papermill": {
     "duration": 0.004144,
     "end_time": "2025-01-31T04:14:41.211121",
     "exception": false,
     "start_time": "2025-01-31T04:14:41.206977",
     "status": "completed"
    },
    "tags": []
   },
   "source": [
    "## Display the papers\n",
    "\n",
    "Not necessary but allows for a quick check."
   ]
  },
  {
   "cell_type": "code",
   "execution_count": 9,
   "id": "fd25f625",
   "metadata": {
    "execution": {
     "iopub.execute_input": "2025-01-31T04:14:41.220555Z",
     "iopub.status.busy": "2025-01-31T04:14:41.220111Z",
     "iopub.status.idle": "2025-01-31T04:14:41.226121Z",
     "shell.execute_reply": "2025-01-31T04:14:41.225522Z"
    },
    "papermill": {
     "duration": 0.011795,
     "end_time": "2025-01-31T04:14:41.227108",
     "exception": false,
     "start_time": "2025-01-31T04:14:41.215313",
     "status": "completed"
    },
    "scrolled": false,
    "tags": []
   },
   "outputs": [
    {
     "data": {
      "text/markdown": [
       "<div class=\"macros\" style=\"visibility:hidden;\">\n",
       "$\\newcommand{\\ensuremath}{}$\n",
       "$\\newcommand{\\xspace}{}$\n",
       "$\\newcommand{\\object}[1]{\\texttt{#1}}$\n",
       "$\\newcommand{\\farcs}{{.}''}$\n",
       "$\\newcommand{\\farcm}{{.}'}$\n",
       "$\\newcommand{\\arcsec}{''}$\n",
       "$\\newcommand{\\arcmin}{'}$\n",
       "$\\newcommand{\\ion}[2]{#1#2}$\n",
       "$\\newcommand{\\textsc}[1]{\\textrm{#1}}$\n",
       "$\\newcommand{\\hl}[1]{\\textrm{#1}}$\n",
       "$\\newcommand{\\footnote}[1]{}$</div>\n",
       "\n",
       "\n",
       "\n",
       "<div id=\"title\">\n",
       "\n",
       "# Strong clumping in global streaming instability simulations with a dusty fluid\n",
       "\n",
       "</div>\n",
       "<div id=\"comments\">\n",
       "\n",
       "[![arXiv](https://img.shields.io/badge/arXiv-2501.18424-b31b1b.svg)](https://arxiv.org/abs/2501.18424)<mark>Appeared on: 2025-01-31</mark> -  _7 pages, 6 figures_\n",
       "\n",
       "</div>\n",
       "<div id=\"authors\">\n",
       "\n",
       "<mark>D. Ostertag</mark>, <mark>M. Flock</mark>\n",
       "\n",
       "</div>\n",
       "<div id=\"abstract\">\n",
       "\n",
       "**Abstract:** How planets form in protoplanetary disks and what drives the formation of their seeds is still a major unknown. It is an accepted theory that multiple processes can trap dusty material in radially narrow rings or vortex-like structures, preventing the dust from drifting inwards. However, the relevant process for clumping this dusty material until it collapses under gravity still needs to be identified. One promising candidate is the streaming instability arising from the aerodynamic interaction between dust and gas once they reach similar densities. We investigate with a global disk model based on recent observational constraints if streaming instability can form dust clumps, which might gravitationally collapse. Further, our goal is to verify the observability of the produced structures using ALMA or ngVLA. For the first time, we present global 2D ( $R,z$ ) hydrodynamic simulations using FARGO3D in which the dust is treated as a pressureless fluid. The disk model assumes stratification, realistic boundary conditions, and meaningful resolution to resolve the fast-growing modes. We choose two values for the total dust-to-gas mass ratio $Z=0.01$ and $Z=0.02$ , compare the maximum clump density to the local Hill density, and compute the optical depth of the dust disk. With a dust-to-gas mass ratio of $Z=0.01$ , we confirm previous streaming instability simulations, not showing the ability to form strong concentrations of dust clumps.With $Z=0.02$ , dense clumps form within 20 orbits, however reaching only 30 $\\%$ of the Hill density even following disk parameters from the massive protoplanetary disks GM Aur, HD163296, IM Lup, MWC 480, and TW Hya, which all share an astonishing similar surface density profiles. Our results show that clumping by the streaming instability to trigger self-gravity is less efficient than previously thought, especially when applying more realistic density profiles. By extrapolating our results, we estimate the gravitational collapse of concentrated pebbles earliest at 480 orbits, while for more frequent, less massive, or more compact disks, this time can reach 1000 orbits.Our results predict that substructures caused by streaming instability can vary between optical thin and optical thick at ALMA Band 1 wavelength for less massive disks.However, the average clump separation is 0.03 au at 10 au distance to the star, far too small to be observable with ALMA and even ngVLA.For the currently observed disks and best-fit surface density profiles, we predict efficient planetesimal formation outside 10 au, where the ratio of Hill- and gas midplane density is sufficiently small. Our results suggest that even for massive Class II disks, the critical Hill density can be reached in dust concentrations during 480 - 1000 orbits, corresponding to tens or hundreds of thousands of years, depending on the radial position.\n",
       "\n",
       "</div>\n",
       "\n",
       "<div id=\"div_fig1\">\n",
       "\n",
       "<img src=\"tmp_2501.18424/./plots/DensityProfileComparisonHillDensity.png\" alt=\"Fig3\" width=\"100%\"/>\n",
       "\n",
       "**Figure 3. -** Comparison between five midplane gas density profiles (grey) and their critical Hill densities (blue). For reference, the red dot indicates our work's central location and gas density. A similar plot, though with only one gas density profile, was already shown in [ and Klahr (2020)](). (*fig:densityProfileComparison*)\n",
       "\n",
       "</div>\n",
       "<div id=\"div_fig2\">\n",
       "\n",
       "<img src=\"tmp_2501.18424/./plots/dustDensity2D_EvolDTG_4096x1024_Z002_FARGO.png\" alt=\"Fig1\" width=\"100%\"/>\n",
       "\n",
       "**Figure 1. -** Evolution of the disk with $\\Sigma_{\\mathrm{d}}/\\Sigma_{\\mathrm{g}}=0.02$. Top: 2D dust density after 160 orbits, bottom: Evolution of the surface density ratio over 160 orbits. The white dashed line shows the theoretical radial drift with a constant drift velocity of $v_{\\mathrm{r, clump}}$ = \\qty{30}{cm.s^{-1}}. (*fig:EvolutionDTGRatio_Z002*)\n",
       "\n",
       "</div>\n",
       "<div id=\"div_fig3\">\n",
       "\n",
       "<img src=\"tmp_2501.18424/./plots/evolutionMaxDustDensity_4096x1024_Z001Z002.png\" alt=\"Fig2\" width=\"100%\"/>\n",
       "\n",
       "**Figure 2. -** Evolution of the maximum dust density between 9.4 and 10.4 au over 160 orbits for the considered simulations. The black line indicates the density ratio that clumps need to reach to collapse under their own gravity. The domain is chosen not to consider clumps that are an artifact from the outer boundary. (*fig:evolutionMaxDustDensity*)\n",
       "\n",
       "</div><div id=\"qrcode\"><img src=https://api.qrserver.com/v1/create-qr-code/?size=100x100&data=\"https://arxiv.org/abs/2501.18424\"></div>"
      ],
      "text/plain": [
       "<IPython.core.display.Markdown object>"
      ]
     },
     "metadata": {},
     "output_type": "display_data"
    },
    {
     "data": {
      "text/markdown": [
       "<div class=\"macros\" style=\"visibility:hidden;\">\n",
       "$\\newcommand{\\ensuremath}{}$\n",
       "$\\newcommand{\\xspace}{}$\n",
       "$\\newcommand{\\object}[1]{\\texttt{#1}}$\n",
       "$\\newcommand{\\farcs}{{.}''}$\n",
       "$\\newcommand{\\farcm}{{.}'}$\n",
       "$\\newcommand{\\arcsec}{''}$\n",
       "$\\newcommand{\\arcmin}{'}$\n",
       "$\\newcommand{\\ion}[2]{#1#2}$\n",
       "$\\newcommand{\\textsc}[1]{\\textrm{#1}}$\n",
       "$\\newcommand{\\hl}[1]{\\textrm{#1}}$\n",
       "$\\newcommand{\\footnote}[1]{}$\n",
       "$\\newcommand{\\vdag}{(v)^\\dagger}$\n",
       "$\\newcommand$\n",
       "$\\newcommand$\n",
       "$\\newcommand{\\eureka}{\\texttt{Eureka!}\\xspace}$</div>\n",
       "\n",
       "\n",
       "\n",
       "<div id=\"title\">\n",
       "\n",
       "# A Comprehensive Reanalysis of K2-18 b's JWST NIRISS+NIRSpec Transmission Spectrum\n",
       "\n",
       "</div>\n",
       "<div id=\"comments\">\n",
       "\n",
       "[![arXiv](https://img.shields.io/badge/arXiv-2501.18477-b31b1b.svg)](https://arxiv.org/abs/2501.18477)<mark>Appeared on: 2025-01-31</mark> -  _42 pages, 20 figures. Submitted to AAS Journals_\n",
       "\n",
       "</div>\n",
       "<div id=\"authors\">\n",
       "\n",
       "S. P. Schmidt, et al. -- incl., <mark>E.-M. Ahrer</mark>\n",
       "\n",
       "</div>\n",
       "<div id=\"abstract\">\n",
       "\n",
       "**Abstract:** $\\noindent$ Sub-Neptunes are the most common type of planet in our galaxy. Interior structure models suggest that the coldest sub-Neptunes could host liquid water oceans underneath their hydrogen envelopes---sometimes called \"hycean\" planets. JWST transmission spectra of the $\\sim$ 250 K sub-Neptune K2-18 b were recently used to report detections of $CH_4$ and $CO_2$ , alongside weaker evidence of ($CH_3$ ) $_2$ S (dimethyl sulfide, or DMS). Atmospheric $CO_2$ was interpreted as evidence for a liquid water ocean, while DMS was highlighted as a potential biomarker. However, these notable claims were derived using a single data reduction and retrieval modeling framework, which did not allow for standard robustness tests. Here we present a comprehensive reanalysis of K2-18 b's JWST NIRISS SOSS and NIRSpec G395H transmission spectra, including the first analysis of the second-order NIRISS SOSS data. We incorporate multiple well-tested data reduction pipelines and retrieval codes, spanning 60 different data treatments and over 250 atmospheric retrievals. We confirm the detection of $CH_4$ ( $\\approx 4\\sigma$ ), with a volume mixing ratio of $\\log \\mathrm{CH_4} = -1.15^{+0.40}_{-0.52}$ , but we find no statistically significant or reliable evidence for $CO_2$ or DMS. Finally, we quantify the observed atmospheric composition using photochemical-climate and interior models, demonstrating that our revised composition of K2-18 b can be explained by an oxygen-poor mini-Neptune without requiring a liquid water surface or life.\n",
       "\n",
       "</div>\n",
       "\n",
       "<div id=\"div_fig1\">\n",
       "\n",
       "<img src=\"tmp_2501.18477/./plot/K2-18b_Detection_Significance_Grids.png\" alt=\"Fig1\" width=\"100%\"/>\n",
       "\n",
       "**Figure 1. -** Detection significances of $CH_4$, $CO_2$, and DMS from \\texttt{POSEIDON} retrievals of K2-18 b's JWST NIRISS SOSS + NIRSpec G395H transmission spectrum. Each grid cell represents a Bayesian model comparison between two retrievals, one with and one without a molecule, for a specific NIRISS SOSS and NIRSpec G395H data variant pair. The data variants are ordered with increasing spectral resolution to the right (for NIRSpec) and down (for NIRISS). The cells are colored and annotated according to the detection significance equivalent to the calculated Bayes factor \\citep[e.g.,][]{Trotta2008,Benneke2013}. Bayes factors $<3$(equivalent to $< 2.1\\sigma$), corresponding to no evidence on the Jeffreys' scale, are donated by `---'. Our retrievals demonstrate strong evidence for $CH_4$, but find no reliable statistical evidence for $CO_2$ or DMS in K2-18 b's atmosphere.\n",
       "     (*fig:retrieval_detection_significances*)\n",
       "\n",
       "</div>\n",
       "<div id=\"div_fig2\">\n",
       "\n",
       "<img src=\"tmp_2501.18477/./plot/K2-18b_Retrieval_Average_Posterior.png\" alt=\"Fig13\" width=\"100%\"/>\n",
       "\n",
       "**Figure 13. -** Atmospheric, planetary, and stellar properties retrieved from K2-18 b's JWST NIRISS SOSS + NIRSpec G395H transmission spectrum by \\texttt{POSEIDON}. Top block: retrieved atmospheric $\\log_{\\rm{10}}$ volume mixing ratios. Middle row: retrieved 10 mbar temperature, planetary mass, and cloud-top pressure. Bottom row: retrieved starspot (stellar heterogeneity) coverage fraction, starspot temperature, and stellar photosphere temperature. Parameters with clear upper and lower limits are annotated with the median and $\\pm 1\\sigma$ credible interval (vertical and dashed lines). Non-detected molecules are annotated with upper limits representing the 95\\% credible interval (solid lines and left-pointing arrows). The non-detected cloud pressure is annotated with the lower limit representing the 5\\% credible interval (solid line with right-pointing arrow). The \\texttt{POSEIDON} posteriors shown here are the combined retrieval results from 60 NIRISS SOSS and NIRSpec G395H data variants (spanning different reduction codes and final spectral resolution); thus, they represent the marginalized posterior over all data-level analysis choices considered in this study. (*fig:retrieval_average_posterior*)\n",
       "\n",
       "</div>\n",
       "<div id=\"div_fig3\">\n",
       "\n",
       "<img src=\"tmp_2501.18477/./plot/Nep-100Xsolar.png\" alt=\"Fig3.1\" width=\"50%\"/><img src=\"tmp_2501.18477/./plot/Nep-100Xsolar-00002XN.png\" alt=\"Fig3.2\" width=\"50%\"/>\n",
       "\n",
       "**Figure 3. -** Self-consistent mini-Neptune models of K2-18 b's atmosphere. Upper panel: 100$\\times$ solar metallicity case. Lower panel: the same metallicity, but with 5000 $\\times$ nitrogen depletion. The temperature (black lines) and composition profiles (colored lines) from \\texttt{VULCAN}-\\texttt{HELIOS}(solid lines) and \\texttt{Photochem}-\\texttt{PICASO}(dashed lines) with the 1 $\\sigma$ $CH_4$ constraint (orange error bar) and 95\\% upper limits for other molecules (arrows) from the ensemble  retrieval posterior (Figure \\ref{fig:retrieval_average_posterior}). (*fig:Nep_clouds*)\n",
       "\n",
       "</div><div id=\"qrcode\"><img src=https://api.qrserver.com/v1/create-qr-code/?size=100x100&data=\"https://arxiv.org/abs/2501.18477\"></div>"
      ],
      "text/plain": [
       "<IPython.core.display.Markdown object>"
      ]
     },
     "metadata": {},
     "output_type": "display_data"
    }
   ],
   "source": [
    "[display(Markdown(k[1])) for k in documents];"
   ]
  },
  {
   "cell_type": "markdown",
   "id": "873873a4",
   "metadata": {
    "papermill": {
     "duration": 0.004535,
     "end_time": "2025-01-31T04:14:41.236320",
     "exception": false,
     "start_time": "2025-01-31T04:14:41.231785",
     "status": "completed"
    },
    "tags": []
   },
   "source": [
    "# Create HTML index"
   ]
  },
  {
   "cell_type": "code",
   "execution_count": 10,
   "id": "cf665672",
   "metadata": {
    "execution": {
     "iopub.execute_input": "2025-01-31T04:14:41.246740Z",
     "iopub.status.busy": "2025-01-31T04:14:41.246232Z",
     "iopub.status.idle": "2025-01-31T04:14:41.255287Z",
     "shell.execute_reply": "2025-01-31T04:14:41.254757Z"
    },
    "papermill": {
     "duration": 0.015428,
     "end_time": "2025-01-31T04:14:41.256380",
     "exception": false,
     "start_time": "2025-01-31T04:14:41.240952",
     "status": "completed"
    },
    "tags": []
   },
   "outputs": [
    {
     "name": "stdout",
     "output_type": "stream",
     "text": [
      "324  publications files modified in the last 7 days.\n"
     ]
    }
   ],
   "source": [
    "from datetime import datetime, timedelta, timezone\n",
    "from glob import glob\n",
    "import os\n",
    "\n",
    "files = glob('_build/html/*.md')\n",
    "days = 7\n",
    "now = datetime.today()\n",
    "res = []\n",
    "for fk in files:\n",
    "    stat_result = os.stat(fk).st_ctime\n",
    "    modified = datetime.fromtimestamp(stat_result, tz=timezone.utc).replace(tzinfo=None)\n",
    "    delta = now.today() - modified\n",
    "    if delta <= timedelta(days=days):\n",
    "        res.append((delta.seconds, fk))\n",
    "res = [k[1] for k in reversed(sorted(res, key=lambda x:x[1]))]\n",
    "npub = len(res)\n",
    "print(len(res), f\" publications files modified in the last {days:d} days.\")\n",
    "# [ print('\\t', k) for k in res ];"
   ]
  },
  {
   "cell_type": "code",
   "execution_count": 11,
   "id": "015de740",
   "metadata": {
    "execution": {
     "iopub.execute_input": "2025-01-31T04:14:41.267106Z",
     "iopub.status.busy": "2025-01-31T04:14:41.266640Z",
     "iopub.status.idle": "2025-01-31T04:14:41.286047Z",
     "shell.execute_reply": "2025-01-31T04:14:41.285355Z"
    },
    "papermill": {
     "duration": 0.026325,
     "end_time": "2025-01-31T04:14:41.287384",
     "exception": false,
     "start_time": "2025-01-31T04:14:41.261059",
     "status": "completed"
    },
    "tags": []
   },
   "outputs": [
    {
     "name": "stdout",
     "output_type": "stream",
     "text": [
      "10  publications in the last 7 days.\n"
     ]
    }
   ],
   "source": [
    "import datetime\n",
    "from glob import glob\n",
    "\n",
    "def get_last_n_days(lst, days=1):\n",
    "    \"\"\" Get the documents from the last n days \"\"\"\n",
    "    sorted_lst = sorted(lst, key=lambda x: x[1], reverse=True)\n",
    "    for fname, date in sorted_lst:\n",
    "        if date >= str(datetime.date.today() - datetime.timedelta(days=days)):\n",
    "            yield fname\n",
    "\n",
    "def extract_appearance_dates(lst_file):\n",
    "    dates = []\n",
    "\n",
    "    def get_date(line):\n",
    "        return line\\\n",
    "            .split('Appeared on:')[-1]\\\n",
    "            .split('</mark>')[0].strip()\n",
    "\n",
    "    for fname in lst:\n",
    "        with open(fname, 'r') as f:\n",
    "            found_date = False\n",
    "            for line in f:\n",
    "                if not found_date:\n",
    "                    if \"Appeared on\" in line:\n",
    "                        found_date = True\n",
    "                        dates.append((fname, get_date(line)))\n",
    "                else:\n",
    "                    break\n",
    "    return dates\n",
    "\n",
    "from glob import glob\n",
    "lst = glob('_build/html/*md')\n",
    "days = 7\n",
    "dates = extract_appearance_dates(lst)\n",
    "res = list(get_last_n_days(dates, days))\n",
    "npub = len(res)\n",
    "print(len(res), f\" publications in the last {days:d} days.\")"
   ]
  },
  {
   "cell_type": "code",
   "execution_count": 12,
   "id": "52ca0208",
   "metadata": {
    "execution": {
     "iopub.execute_input": "2025-01-31T04:14:41.298776Z",
     "iopub.status.busy": "2025-01-31T04:14:41.298074Z",
     "iopub.status.idle": "2025-01-31T04:14:41.303640Z",
     "shell.execute_reply": "2025-01-31T04:14:41.303068Z"
    },
    "papermill": {
     "duration": 0.012152,
     "end_time": "2025-01-31T04:14:41.304661",
     "exception": false,
     "start_time": "2025-01-31T04:14:41.292509",
     "status": "completed"
    },
    "scrolled": false,
    "tags": []
   },
   "outputs": [],
   "source": [
    "def create_carousel(npub=4):\n",
    "    \"\"\" Generate the HTML code for a carousel with `npub` slides \"\"\"\n",
    "    carousel = [\"\"\"  <div class=\"carousel\" \"\"\",\n",
    "                \"\"\"       data-flickity='{ \"autoPlay\": 10000, \"adaptiveHeight\": true, \"resize\": true, \"wrapAround\": true, \"pauseAutoPlayOnHover\": true, \"groupCells\": 1 }' id=\"asyncTypeset\">\"\"\"\n",
    "                ]\n",
    "    \n",
    "    item_str = \"\"\"    <div class=\"carousel-cell\"> <div id=\"slide{k}\" class=\"md_view\">Content {k}</div> </div>\"\"\"\n",
    "    for k in range(1, npub + 1):\n",
    "        carousel.append(item_str.format(k=k))\n",
    "    carousel.append(\"  </div>\")\n",
    "    return '\\n'.join(carousel)\n",
    "\n",
    "def create_grid(npub=4):\n",
    "    \"\"\" Generate the HTML code for a flat grid with `npub` slides \"\"\"\n",
    "    grid = [\"\"\"  <div class=\"grid\"> \"\"\",\n",
    "                ]\n",
    "    \n",
    "    item_str = \"\"\"    <div class=\"grid-item\"> <div id=\"slide{k}\" class=\"md_view\">Content {k}</div> </div>\"\"\"\n",
    "    for k in range(1, npub + 1):\n",
    "        grid.append(item_str.format(k=k))\n",
    "    grid.append(\"  </div>\")\n",
    "    return '\\n'.join(grid)"
   ]
  },
  {
   "cell_type": "code",
   "execution_count": 13,
   "id": "a6eac5b6",
   "metadata": {
    "execution": {
     "iopub.execute_input": "2025-01-31T04:14:41.315437Z",
     "iopub.status.busy": "2025-01-31T04:14:41.315021Z",
     "iopub.status.idle": "2025-01-31T04:14:41.320450Z",
     "shell.execute_reply": "2025-01-31T04:14:41.319878Z"
    },
    "papermill": {
     "duration": 0.011919,
     "end_time": "2025-01-31T04:14:41.321476",
     "exception": false,
     "start_time": "2025-01-31T04:14:41.309557",
     "status": "completed"
    },
    "scrolled": false,
    "tags": []
   },
   "outputs": [],
   "source": [
    "carousel = create_carousel(npub)\n",
    "docs = ', '.join(['\"{0:s}\"'.format(k.split('/')[-1]) for k in res])\n",
    "slides = ', '.join([f'\"slide{k}\"' for k in range(1, npub + 1)])\n",
    "\n",
    "with open(\"daily_template.html\", \"r\") as tpl:\n",
    "    page = tpl.read()\n",
    "    page = page.replace(\"{%-- carousel:s --%}\", carousel)\\\n",
    "               .replace(\"{%-- suptitle:s --%}\",  \"7-day archives\" )\\\n",
    "               .replace(\"{%-- docs:s --%}\", docs)\\\n",
    "               .replace(\"{%-- slides:s --%}\", slides)\n",
    "    \n",
    "with open(\"_build/html/index_7days.html\", 'w') as fout:\n",
    "    fout.write(page)"
   ]
  },
  {
   "cell_type": "code",
   "execution_count": 14,
   "id": "adc1a1ec",
   "metadata": {
    "execution": {
     "iopub.execute_input": "2025-01-31T04:14:41.332209Z",
     "iopub.status.busy": "2025-01-31T04:14:41.331787Z",
     "iopub.status.idle": "2025-01-31T04:14:41.338867Z",
     "shell.execute_reply": "2025-01-31T04:14:41.338228Z"
    },
    "papermill": {
     "duration": 0.013525,
     "end_time": "2025-01-31T04:14:41.339919",
     "exception": false,
     "start_time": "2025-01-31T04:14:41.326394",
     "status": "completed"
    },
    "tags": []
   },
   "outputs": [
    {
     "name": "stdout",
     "output_type": "stream",
     "text": [
      "2  publications in the last day.\n"
     ]
    }
   ],
   "source": [
    "# redo for today\n",
    "days = 1\n",
    "res = list(get_last_n_days(dates, days))\n",
    "npub = len(res)\n",
    "print(len(res), f\" publications in the last day.\")\n",
    "\n",
    "carousel = create_carousel(npub)\n",
    "docs = ', '.join(['\"{0:s}\"'.format(k.split('/')[-1]) for k in res])\n",
    "slides = ', '.join([f'\"slide{k}\"' for k in range(1, npub + 1)])\n",
    "\n",
    "with open(\"daily_template.html\", \"r\") as tpl:\n",
    "    page = tpl.read()\n",
    "    page = page.replace(\"{%-- carousel:s --%}\", carousel)\\\n",
    "               .replace(\"{%-- suptitle:s --%}\",  \"Daily\" )\\\n",
    "               .replace(\"{%-- docs:s --%}\", docs)\\\n",
    "               .replace(\"{%-- slides:s --%}\", slides)\n",
    "    \n",
    "# print(carousel, docs, slides)\n",
    "# print(page)\n",
    "with open(\"_build/html/index_daily.html\", 'w') as fout:\n",
    "    fout.write(page)"
   ]
  },
  {
   "cell_type": "code",
   "execution_count": 15,
   "id": "00eece82",
   "metadata": {
    "execution": {
     "iopub.execute_input": "2025-01-31T04:14:41.351505Z",
     "iopub.status.busy": "2025-01-31T04:14:41.350965Z",
     "iopub.status.idle": "2025-01-31T04:14:41.358106Z",
     "shell.execute_reply": "2025-01-31T04:14:41.357497Z"
    },
    "papermill": {
     "duration": 0.014,
     "end_time": "2025-01-31T04:14:41.359134",
     "exception": false,
     "start_time": "2025-01-31T04:14:41.345134",
     "status": "completed"
    },
    "scrolled": false,
    "tags": []
   },
   "outputs": [
    {
     "name": "stdout",
     "output_type": "stream",
     "text": [
      "6  6 publications selected.\n"
     ]
    }
   ],
   "source": [
    "# Create the flat grid of the last N papers (fixed number regardless of dates)\n",
    "from itertools import islice \n",
    "\n",
    "npub = 6\n",
    "res = [k[0] for k in (islice(reversed(sorted(dates, key=lambda x: x[1])), 6))]\n",
    "print(len(res), f\" {npub} publications selected.\")\n",
    "\n",
    "grid = create_grid(npub)\n",
    "docs = ', '.join(['\"{0:s}\"'.format(k.split('/')[-1]) for k in res])\n",
    "slides = ', '.join([f'\"slide{k}\"' for k in range(1, npub + 1)])\n",
    "\n",
    "with open(\"grid_template.html\", \"r\") as tpl:\n",
    "    page = tpl.read()\n",
    "    page = page.replace(\"{%-- grid-content:s --%}\", grid)\\\n",
    "               .replace(\"{%-- suptitle:s --%}\",  f\"Last {npub:,d} papers\" )\\\n",
    "               .replace(\"{%-- docs:s --%}\", docs)\\\n",
    "               .replace(\"{%-- slides:s --%}\", slides)\n",
    "    \n",
    "# print(grid, docs, slides)\n",
    "# print(page)\n",
    "with open(\"_build/html/index_npub_grid.html\", 'w') as fout:\n",
    "    fout.write(page)"
   ]
  }
 ],
 "metadata": {
  "kernelspec": {
   "display_name": "Python 3 (ipykernel)",
   "language": "python",
   "name": "python3"
  },
  "language_info": {
   "codemirror_mode": {
    "name": "ipython",
    "version": 3
   },
   "file_extension": ".py",
   "mimetype": "text/x-python",
   "name": "python",
   "nbconvert_exporter": "python",
   "pygments_lexer": "ipython3",
   "version": "3.9.21"
  },
  "papermill": {
   "default_parameters": {},
   "duration": 249.057754,
   "end_time": "2025-01-31T04:14:41.682023",
   "environment_variables": {},
   "exception": null,
   "input_path": "MPIA daily digest.ipynb",
   "output_path": "log.ipynb",
   "parameters": {},
   "start_time": "2025-01-31T04:10:32.624269",
   "version": "2.6.0"
  },
  "vscode": {
   "interpreter": {
    "hash": "aee8b7b246df8f9039afb4144a1f6fd8d2ca17a180786b69acc140d282b71a49"
   }
  },
  "widgets": {
   "application/vnd.jupyter.widget-state+json": {
    "state": {
     "0fc8a23799cc480e9f9c53423b509eb8": {
      "model_module": "@jupyter-widgets/controls",
      "model_module_version": "2.0.0",
      "model_name": "ProgressStyleModel",
      "state": {
       "_model_module": "@jupyter-widgets/controls",
       "_model_module_version": "2.0.0",
       "_model_name": "ProgressStyleModel",
       "_view_count": null,
       "_view_module": "@jupyter-widgets/base",
       "_view_module_version": "2.0.0",
       "_view_name": "StyleView",
       "bar_color": null,
       "description_width": ""
      }
     },
     "41a15b1ab8df4b69ab6b5fc56e74fde8": {
      "model_module": "@jupyter-widgets/base",
      "model_module_version": "2.0.0",
      "model_name": "LayoutModel",
      "state": {
       "_model_module": "@jupyter-widgets/base",
       "_model_module_version": "2.0.0",
       "_model_name": "LayoutModel",
       "_view_count": null,
       "_view_module": "@jupyter-widgets/base",
       "_view_module_version": "2.0.0",
       "_view_name": "LayoutView",
       "align_content": null,
       "align_items": null,
       "align_self": null,
       "border_bottom": null,
       "border_left": null,
       "border_right": null,
       "border_top": null,
       "bottom": null,
       "display": null,
       "flex": null,
       "flex_flow": null,
       "grid_area": null,
       "grid_auto_columns": null,
       "grid_auto_flow": null,
       "grid_auto_rows": null,
       "grid_column": null,
       "grid_gap": null,
       "grid_row": null,
       "grid_template_areas": null,
       "grid_template_columns": null,
       "grid_template_rows": null,
       "height": null,
       "justify_content": null,
       "justify_items": null,
       "left": null,
       "margin": null,
       "max_height": null,
       "max_width": null,
       "min_height": null,
       "min_width": null,
       "object_fit": null,
       "object_position": null,
       "order": null,
       "overflow": null,
       "padding": null,
       "right": null,
       "top": null,
       "visibility": null,
       "width": null
      }
     },
     "45bb2268a3f74b13b3fa34500850e747": {
      "model_module": "@jupyter-widgets/controls",
      "model_module_version": "2.0.0",
      "model_name": "HTMLModel",
      "state": {
       "_dom_classes": [],
       "_model_module": "@jupyter-widgets/controls",
       "_model_module_version": "2.0.0",
       "_model_name": "HTMLModel",
       "_view_count": null,
       "_view_module": "@jupyter-widgets/controls",
       "_view_module_version": "2.0.0",
       "_view_name": "HTMLView",
       "description": "",
       "description_allow_html": false,
       "layout": "IPY_MODEL_edb658a67ca44e338cbb206253dfccb1",
       "placeholder": "​",
       "style": "IPY_MODEL_fbfc9e2fd13240459220446fe5ba093a",
       "tabbable": null,
       "tooltip": null,
       "value": " 3/3 [03:48&lt;00:00, 103.73s/it]"
      }
     },
     "7873d41c5b0f4a6ab60b21d472768fd0": {
      "model_module": "@jupyter-widgets/controls",
      "model_module_version": "2.0.0",
      "model_name": "HBoxModel",
      "state": {
       "_dom_classes": [],
       "_model_module": "@jupyter-widgets/controls",
       "_model_module_version": "2.0.0",
       "_model_name": "HBoxModel",
       "_view_count": null,
       "_view_module": "@jupyter-widgets/controls",
       "_view_module_version": "2.0.0",
       "_view_name": "HBoxView",
       "box_style": "",
       "children": [
        "IPY_MODEL_ec25f195e2654615bb7b3a3d388c1324",
        "IPY_MODEL_9f2ea52329414315bd79a3c19f0e60fd",
        "IPY_MODEL_45bb2268a3f74b13b3fa34500850e747"
       ],
       "layout": "IPY_MODEL_e4b6f8ce1b1b46c49cc5e761178c0ac6",
       "tabbable": null,
       "tooltip": null
      }
     },
     "97be2f01864841c98357a60b72d6510a": {
      "model_module": "@jupyter-widgets/base",
      "model_module_version": "2.0.0",
      "model_name": "LayoutModel",
      "state": {
       "_model_module": "@jupyter-widgets/base",
       "_model_module_version": "2.0.0",
       "_model_name": "LayoutModel",
       "_view_count": null,
       "_view_module": "@jupyter-widgets/base",
       "_view_module_version": "2.0.0",
       "_view_name": "LayoutView",
       "align_content": null,
       "align_items": null,
       "align_self": null,
       "border_bottom": null,
       "border_left": null,
       "border_right": null,
       "border_top": null,
       "bottom": null,
       "display": null,
       "flex": null,
       "flex_flow": null,
       "grid_area": null,
       "grid_auto_columns": null,
       "grid_auto_flow": null,
       "grid_auto_rows": null,
       "grid_column": null,
       "grid_gap": null,
       "grid_row": null,
       "grid_template_areas": null,
       "grid_template_columns": null,
       "grid_template_rows": null,
       "height": null,
       "justify_content": null,
       "justify_items": null,
       "left": null,
       "margin": null,
       "max_height": null,
       "max_width": null,
       "min_height": null,
       "min_width": null,
       "object_fit": null,
       "object_position": null,
       "order": null,
       "overflow": null,
       "padding": null,
       "right": null,
       "top": null,
       "visibility": null,
       "width": null
      }
     },
     "9f2ea52329414315bd79a3c19f0e60fd": {
      "model_module": "@jupyter-widgets/controls",
      "model_module_version": "2.0.0",
      "model_name": "FloatProgressModel",
      "state": {
       "_dom_classes": [],
       "_model_module": "@jupyter-widgets/controls",
       "_model_module_version": "2.0.0",
       "_model_name": "FloatProgressModel",
       "_view_count": null,
       "_view_module": "@jupyter-widgets/controls",
       "_view_module_version": "2.0.0",
       "_view_name": "ProgressView",
       "bar_style": "success",
       "description": "",
       "description_allow_html": false,
       "layout": "IPY_MODEL_97be2f01864841c98357a60b72d6510a",
       "max": 3.0,
       "min": 0.0,
       "orientation": "horizontal",
       "style": "IPY_MODEL_0fc8a23799cc480e9f9c53423b509eb8",
       "tabbable": null,
       "tooltip": null,
       "value": 3.0
      }
     },
     "e4b6f8ce1b1b46c49cc5e761178c0ac6": {
      "model_module": "@jupyter-widgets/base",
      "model_module_version": "2.0.0",
      "model_name": "LayoutModel",
      "state": {
       "_model_module": "@jupyter-widgets/base",
       "_model_module_version": "2.0.0",
       "_model_name": "LayoutModel",
       "_view_count": null,
       "_view_module": "@jupyter-widgets/base",
       "_view_module_version": "2.0.0",
       "_view_name": "LayoutView",
       "align_content": null,
       "align_items": null,
       "align_self": null,
       "border_bottom": null,
       "border_left": null,
       "border_right": null,
       "border_top": null,
       "bottom": null,
       "display": null,
       "flex": null,
       "flex_flow": null,
       "grid_area": null,
       "grid_auto_columns": null,
       "grid_auto_flow": null,
       "grid_auto_rows": null,
       "grid_column": null,
       "grid_gap": null,
       "grid_row": null,
       "grid_template_areas": null,
       "grid_template_columns": null,
       "grid_template_rows": null,
       "height": null,
       "justify_content": null,
       "justify_items": null,
       "left": null,
       "margin": null,
       "max_height": null,
       "max_width": null,
       "min_height": null,
       "min_width": null,
       "object_fit": null,
       "object_position": null,
       "order": null,
       "overflow": null,
       "padding": null,
       "right": null,
       "top": null,
       "visibility": null,
       "width": null
      }
     },
     "ec25f195e2654615bb7b3a3d388c1324": {
      "model_module": "@jupyter-widgets/controls",
      "model_module_version": "2.0.0",
      "model_name": "HTMLModel",
      "state": {
       "_dom_classes": [],
       "_model_module": "@jupyter-widgets/controls",
       "_model_module_version": "2.0.0",
       "_model_name": "HTMLModel",
       "_view_count": null,
       "_view_module": "@jupyter-widgets/controls",
       "_view_module_version": "2.0.0",
       "_view_name": "HTMLView",
       "description": "",
       "description_allow_html": false,
       "layout": "IPY_MODEL_41a15b1ab8df4b69ab6b5fc56e74fde8",
       "placeholder": "​",
       "style": "IPY_MODEL_fece10fb84e74a8ab6765fcbeca4dd80",
       "tabbable": null,
       "tooltip": null,
       "value": "100%"
      }
     },
     "edb658a67ca44e338cbb206253dfccb1": {
      "model_module": "@jupyter-widgets/base",
      "model_module_version": "2.0.0",
      "model_name": "LayoutModel",
      "state": {
       "_model_module": "@jupyter-widgets/base",
       "_model_module_version": "2.0.0",
       "_model_name": "LayoutModel",
       "_view_count": null,
       "_view_module": "@jupyter-widgets/base",
       "_view_module_version": "2.0.0",
       "_view_name": "LayoutView",
       "align_content": null,
       "align_items": null,
       "align_self": null,
       "border_bottom": null,
       "border_left": null,
       "border_right": null,
       "border_top": null,
       "bottom": null,
       "display": null,
       "flex": null,
       "flex_flow": null,
       "grid_area": null,
       "grid_auto_columns": null,
       "grid_auto_flow": null,
       "grid_auto_rows": null,
       "grid_column": null,
       "grid_gap": null,
       "grid_row": null,
       "grid_template_areas": null,
       "grid_template_columns": null,
       "grid_template_rows": null,
       "height": null,
       "justify_content": null,
       "justify_items": null,
       "left": null,
       "margin": null,
       "max_height": null,
       "max_width": null,
       "min_height": null,
       "min_width": null,
       "object_fit": null,
       "object_position": null,
       "order": null,
       "overflow": null,
       "padding": null,
       "right": null,
       "top": null,
       "visibility": null,
       "width": null
      }
     },
     "fbfc9e2fd13240459220446fe5ba093a": {
      "model_module": "@jupyter-widgets/controls",
      "model_module_version": "2.0.0",
      "model_name": "HTMLStyleModel",
      "state": {
       "_model_module": "@jupyter-widgets/controls",
       "_model_module_version": "2.0.0",
       "_model_name": "HTMLStyleModel",
       "_view_count": null,
       "_view_module": "@jupyter-widgets/base",
       "_view_module_version": "2.0.0",
       "_view_name": "StyleView",
       "background": null,
       "description_width": "",
       "font_size": null,
       "text_color": null
      }
     },
     "fece10fb84e74a8ab6765fcbeca4dd80": {
      "model_module": "@jupyter-widgets/controls",
      "model_module_version": "2.0.0",
      "model_name": "HTMLStyleModel",
      "state": {
       "_model_module": "@jupyter-widgets/controls",
       "_model_module_version": "2.0.0",
       "_model_name": "HTMLStyleModel",
       "_view_count": null,
       "_view_module": "@jupyter-widgets/base",
       "_view_module_version": "2.0.0",
       "_view_name": "StyleView",
       "background": null,
       "description_width": "",
       "font_size": null,
       "text_color": null
      }
     }
    },
    "version_major": 2,
    "version_minor": 0
   }
  }
 },
 "nbformat": 4,
 "nbformat_minor": 5
}