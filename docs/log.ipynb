{
 "cells": [
  {
   "cell_type": "markdown",
   "id": "92bcb855",
   "metadata": {
    "papermill": {
     "duration": 0.005239,
     "end_time": "2023-02-07T04:07:17.130097",
     "exception": false,
     "start_time": "2023-02-07T04:07:17.124858",
     "status": "completed"
    },
    "tags": []
   },
   "source": [
    "# MPIA Arxiv on Deck 2\n",
    "\n",
    "Contains the steps to produce the paper extractions."
   ]
  },
  {
   "cell_type": "code",
   "execution_count": 1,
   "id": "3a0d6e11",
   "metadata": {
    "execution": {
     "iopub.execute_input": "2023-02-07T04:07:17.140090Z",
     "iopub.status.busy": "2023-02-07T04:07:17.139546Z",
     "iopub.status.idle": "2023-02-07T04:07:17.327220Z",
     "shell.execute_reply": "2023-02-07T04:07:17.326579Z"
    },
    "papermill": {
     "duration": 0.194659,
     "end_time": "2023-02-07T04:07:17.329174",
     "exception": false,
     "start_time": "2023-02-07T04:07:17.134515",
     "status": "completed"
    },
    "tags": []
   },
   "outputs": [],
   "source": [
    "# Imports\n",
    "import os\n",
    "from IPython.display import Markdown, display\n",
    "from tqdm.notebook import tqdm\n",
    "import warnings\n",
    "from PIL import Image \n",
    "\n",
    "# requires arxiv_on_deck_2\n",
    "\n",
    "from arxiv_on_deck_2.arxiv2 import (get_new_papers, \n",
    "                                    get_paper_from_identifier,\n",
    "                                    retrieve_document_source, \n",
    "                                    get_markdown_badge)\n",
    "from arxiv_on_deck_2 import (latex, \n",
    "                             mpia,\n",
    "                             highlight_authors_in_list)\n",
    "\n",
    "# Sometimes images are really big\n",
    "Image.MAX_IMAGE_PIXELS = 1000000000 "
   ]
  },
  {
   "cell_type": "code",
   "execution_count": 2,
   "id": "22aa9d44",
   "metadata": {
    "execution": {
     "iopub.execute_input": "2023-02-07T04:07:17.339188Z",
     "iopub.status.busy": "2023-02-07T04:07:17.338594Z",
     "iopub.status.idle": "2023-02-07T04:07:17.343393Z",
     "shell.execute_reply": "2023-02-07T04:07:17.342777Z"
    },
    "papermill": {
     "duration": 0.01157,
     "end_time": "2023-02-07T04:07:17.344970",
     "exception": false,
     "start_time": "2023-02-07T04:07:17.333400",
     "status": "completed"
    },
    "tags": []
   },
   "outputs": [],
   "source": [
    "# Some useful definitions.\n",
    "\n",
    "class AffiliationWarning(UserWarning):\n",
    "    pass\n",
    "\n",
    "class AffiliationError(RuntimeError):\n",
    "    pass\n",
    "\n",
    "def validation(source: str):\n",
    "    \"\"\"Raises error paper during parsing of source file\n",
    "    \n",
    "    Allows checks before parsing TeX code.\n",
    "    \n",
    "    Raises AffiliationWarning\n",
    "    \"\"\"\n",
    "    check = mpia.affiliation_verifications(source, verbose=True)\n",
    "    if check is not True:\n",
    "        raise AffiliationError(\"mpia.affiliation_verifications: \" + check)\n",
    "\n",
    "        \n",
    "warnings.simplefilter('always', AffiliationWarning)"
   ]
  },
  {
   "cell_type": "code",
   "execution_count": 3,
   "id": "14622700",
   "metadata": {
    "execution": {
     "iopub.execute_input": "2023-02-07T04:07:17.354116Z",
     "iopub.status.busy": "2023-02-07T04:07:17.353700Z",
     "iopub.status.idle": "2023-02-07T04:07:17.357295Z",
     "shell.execute_reply": "2023-02-07T04:07:17.356671Z"
    },
    "papermill": {
     "duration": 0.009912,
     "end_time": "2023-02-07T04:07:17.358945",
     "exception": false,
     "start_time": "2023-02-07T04:07:17.349033",
     "status": "completed"
    },
    "tags": []
   },
   "outputs": [],
   "source": [
    "# additional CSS to consider. \n",
    "# TODO: Current into each exported file. \n",
    "#       This should be set once into the webpages directly.\n",
    "#       With only the class/id definitions in the .md files.\n",
    "\n",
    "debug_html = \"\"\"\n",
    "<style>\n",
    "#wrap{ overflow:auto; }\n",
    "#fig1{ background:yellow; width:100%; float:left; padding:5px;  }\n",
    "#fig2{ background:red; width:50%; float:left; clear:left; padding:5px;  }\n",
    "#fig3{ background:green; width:50%; float:left; padding:5px;   }\n",
    ".macros{ background:yellow; visibility:visible;}\n",
    "h1 {margin: 0 0 0 0;}\n",
    "mark {background-color:#fff3b6;}\n",
    "img {object-fit:contain; max-height:250px; display:inline-block; text-align: center;}\n",
    "</style>\n",
    "\"\"\" \n",
    "html = \"\"\"\n",
    "<style>\n",
    "#wrap{ overflow:auto; }\n",
    "#fig1{ width:100%; float:left; padding: 5px;  }\n",
    "#fig2{ width:50%; float:left; clear:left; padding: 5px;  }\n",
    "#fig3{ width:50%; float:left; padding: 5px;  }\n",
    ".macros{ visibility:hidden; height:0px; }\n",
    "h1 {margin: 0em 0 0 0;}\n",
    "mark {background-color:#fff3b6;}\n",
    "img {object-fit:contain; max-height:250px; display:inline-block; text-align: center;}\n",
    "</style>\n",
    "\"\"\""
   ]
  },
  {
   "cell_type": "markdown",
   "id": "14bd6310",
   "metadata": {
    "papermill": {
     "duration": 0.003999,
     "end_time": "2023-02-07T04:07:17.366930",
     "exception": false,
     "start_time": "2023-02-07T04:07:17.362931",
     "status": "completed"
    },
    "tags": []
   },
   "source": [
    "## get list of arxiv paper candidates\n",
    "\n",
    "We use the MPIA mitarbeiter list webpage from mpia.de to get author names\n",
    "We then get all new papers from Arxiv and match authors"
   ]
  },
  {
   "cell_type": "code",
   "execution_count": 4,
   "id": "2645e73a",
   "metadata": {
    "execution": {
     "iopub.execute_input": "2023-02-07T04:07:17.376092Z",
     "iopub.status.busy": "2023-02-07T04:07:17.375542Z",
     "iopub.status.idle": "2023-02-07T04:07:42.387284Z",
     "shell.execute_reply": "2023-02-07T04:07:42.386724Z"
    },
    "papermill": {
     "duration": 25.018048,
     "end_time": "2023-02-07T04:07:42.388901",
     "exception": false,
     "start_time": "2023-02-07T04:07:17.370853",
     "status": "completed"
    },
    "tags": []
   },
   "outputs": [
    {
     "name": "stdout",
     "output_type": "stream",
     "text": [
      "Arxiv has 67 new papers today\n",
      "          27 with possible author matches\n"
     ]
    }
   ],
   "source": [
    "# get list from MPIA website\n",
    "# it automatically filters identified non-scientists :func:`mpia.filter_non_scientists`\n",
    "mpia_authors = mpia.get_mpia_mitarbeiter_list()\n",
    "new_papers = get_new_papers()\n",
    "# add manual references\n",
    "add_paper_refs = []\n",
    "new_papers.extend([get_paper_from_identifier(k) for k in add_paper_refs])\n",
    "\n",
    "# select only papers with matching author names and highlight authors\n",
    "hl_list = [k[0] for k in mpia_authors]\n",
    "\n",
    "candidates = []\n",
    "for paperk in new_papers:\n",
    "    hl_authors = highlight_authors_in_list(paperk['authors'], hl_list)\n",
    "    matches = [(hl, orig) for hl, orig in zip(hl_authors, paperk['authors']) if 'mark' in hl]\n",
    "    paperk['authors'] = hl_authors\n",
    "    if matches:\n",
    "        candidates.append(paperk)\n",
    "print(\"\"\"Arxiv has {0:,d} new papers today\"\"\".format(len(new_papers)))        \n",
    "print(\"\"\"          {0:,d} with possible author matches\"\"\".format(len(candidates)))"
   ]
  },
  {
   "cell_type": "markdown",
   "id": "3543b34a",
   "metadata": {
    "papermill": {
     "duration": 0.004346,
     "end_time": "2023-02-07T04:07:42.397749",
     "exception": false,
     "start_time": "2023-02-07T04:07:42.393403",
     "status": "completed"
    },
    "tags": []
   },
   "source": [
    "# Parse sources and generate relevant outputs\n",
    "\n",
    "From the candidates, we do the following steps:\n",
    "* get their tarball from ArXiv (and extract data)\n",
    "* find the main .tex file: find one with \\documentclass{...} (sometimes it's non trivial)\n",
    "* Check affiliations with :func:`validation`, which uses :func:`mpia.affiliation_verifications`\n",
    "* If passing the affiliations: we parse the .tex source\n",
    "   * inject sub-documents into the main (flatten the main document)\n",
    "   * parse structure, extract information (title, abstract, authors, figures...)\n",
    "   * handles `\\graphicspath` if provided\n",
    "* Generate the .md document."
   ]
  },
  {
   "cell_type": "code",
   "execution_count": 5,
   "id": "9576b79e",
   "metadata": {
    "execution": {
     "iopub.execute_input": "2023-02-07T04:07:42.407108Z",
     "iopub.status.busy": "2023-02-07T04:07:42.406727Z",
     "iopub.status.idle": "2023-02-07T04:08:58.163482Z",
     "shell.execute_reply": "2023-02-07T04:08:58.162863Z"
    },
    "papermill": {
     "duration": 75.763566,
     "end_time": "2023-02-07T04:08:58.165363",
     "exception": false,
     "start_time": "2023-02-07T04:07:42.401797",
     "status": "completed"
    },
    "scrolled": false,
    "tags": []
   },
   "outputs": [
    {
     "data": {
      "application/vnd.jupyter.widget-view+json": {
       "model_id": "0ae660a4422d4ddfb747baebede714d3",
       "version_major": 2,
       "version_minor": 0
      },
      "text/plain": [
       "  0%|          | 0/26 [00:00<?, ?it/s]"
      ]
     },
     "metadata": {},
     "output_type": "display_data"
    },
    {
     "name": "stdout",
     "output_type": "stream",
     "text": [
      "Retrieving document from  https://arxiv.org/e-print/2302.01946\n"
     ]
    },
    {
     "name": "stdout",
     "output_type": "stream",
     "text": [
      "extracting tarball to tmp_2302.01946..."
     ]
    },
    {
     "name": "stdout",
     "output_type": "stream",
     "text": [
      " done.\n",
      "Retrieving document from  https://arxiv.org/e-print/2302.02005\n"
     ]
    },
    {
     "name": "stdout",
     "output_type": "stream",
     "text": [
      "extracting tarball to tmp_2302.02005..."
     ]
    },
    {
     "name": "stdout",
     "output_type": "stream",
     "text": [
      " done.\n",
      "Retrieving document from  https://arxiv.org/e-print/2302.02021\n"
     ]
    },
    {
     "name": "stdout",
     "output_type": "stream",
     "text": [
      "extracting tarball to tmp_2302.02021..."
     ]
    },
    {
     "name": "stdout",
     "output_type": "stream",
     "text": [
      " done.\n",
      "Retrieving document from  https://arxiv.org/e-print/2302.02135\n"
     ]
    },
    {
     "name": "stderr",
     "output_type": "stream",
     "text": [
      "/opt/hostedtoolcache/Python/3.9.16/x64/lib/python3.9/site-packages/IPython/core/interactiveshell.py:3442: LatexWarning: Multiple tex files.\n",
      "\n",
      "  exec(code_obj, self.user_global_ns, self.user_ns)\n",
      "/opt/hostedtoolcache/Python/3.9.16/x64/lib/python3.9/site-packages/IPython/core/interactiveshell.py:3442: LatexWarning: Found documentclass in tmp_2302.02021/main.tex\n",
      "\n",
      "  exec(code_obj, self.user_global_ns, self.user_ns)\n"
     ]
    },
    {
     "name": "stdout",
     "output_type": "stream",
     "text": [
      "extracting tarball to tmp_2302.02135..."
     ]
    },
    {
     "name": "stdout",
     "output_type": "stream",
     "text": [
      " done.\n",
      "Retrieving document from  https://arxiv.org/e-print/2302.02167\n"
     ]
    },
    {
     "name": "stdout",
     "output_type": "stream",
     "text": [
      "extracting tarball to tmp_2302.02167..."
     ]
    },
    {
     "name": "stdout",
     "output_type": "stream",
     "text": [
      " done.\n",
      "Retrieving document from  https://arxiv.org/e-print/2302.02359\n"
     ]
    },
    {
     "name": "stderr",
     "output_type": "stream",
     "text": [
      "/tmp/ipykernel_2056/4030337529.py:34: LatexWarning: 2302.02359 did not run properly\n",
      "not a gzip file\n",
      "  warnings.warn(latex.LatexWarning(f\"{paper_id:s} did not run properly\\n\" +\n"
     ]
    },
    {
     "name": "stdout",
     "output_type": "stream",
     "text": [
      "Retrieving document from  https://arxiv.org/e-print/2302.02429\n"
     ]
    },
    {
     "name": "stdout",
     "output_type": "stream",
     "text": [
      "extracting tarball to tmp_2302.02429..."
     ]
    },
    {
     "name": "stdout",
     "output_type": "stream",
     "text": [
      " done.\n"
     ]
    },
    {
     "name": "stderr",
     "output_type": "stream",
     "text": [
      "/opt/hostedtoolcache/Python/3.9.16/x64/lib/python3.9/site-packages/IPython/core/interactiveshell.py:3442: LatexWarning: Multiple tex files.\n",
      "\n",
      "  exec(code_obj, self.user_global_ns, self.user_ns)\n",
      "/opt/hostedtoolcache/Python/3.9.16/x64/lib/python3.9/site-packages/IPython/core/interactiveshell.py:3442: LatexWarning: Found documentclass in tmp_2302.02429/perezgonzalez_mirigto_nircampar_highz.tex\n",
      "\n",
      "  exec(code_obj, self.user_global_ns, self.user_ns)\n",
      "/opt/hostedtoolcache/Python/3.9.16/x64/lib/python3.9/site-packages/arxiv_on_deck_2/latex.py:292: LatexWarning: Latex injecting: 'table_final_sample_v20230121' from 'tmp_2302.02429/table_final_sample_v20230121.tex'\n",
      "  warnings.warn(LatexWarning(f\"Latex injecting: '{ext}' from '{subsource}'\"))\n",
      "/opt/hostedtoolcache/Python/3.9.16/x64/lib/python3.9/site-packages/arxiv_on_deck_2/latex.py:292: LatexWarning: Latex injecting: 'table_schechter' from 'tmp_2302.02429/table_schechter.tex'\n",
      "  warnings.warn(LatexWarning(f\"Latex injecting: '{ext}' from '{subsource}'\"))\n",
      "/opt/hostedtoolcache/Python/3.9.16/x64/lib/python3.9/site-packages/arxiv_on_deck_2/latex.py:292: LatexWarning: Latex injecting: 'table_LF' from 'tmp_2302.02429/table_LF.tex'\n",
      "  warnings.warn(LatexWarning(f\"Latex injecting: '{ext}' from '{subsource}'\"))\n",
      "/opt/hostedtoolcache/Python/3.9.16/x64/lib/python3.9/site-packages/arxiv_on_deck_2/latex.py:292: LatexWarning: Latex injecting: 'table1' from 'tmp_2302.02429/table1.tex'\n",
      "  warnings.warn(LatexWarning(f\"Latex injecting: '{ext}' from '{subsource}'\"))\n"
     ]
    },
    {
     "name": "stdout",
     "output_type": "stream",
     "text": [
      "Retrieving document from  https://arxiv.org/e-print/2302.02496\n"
     ]
    },
    {
     "name": "stdout",
     "output_type": "stream",
     "text": [
      "extracting tarball to tmp_2302.02496..."
     ]
    },
    {
     "name": "stdout",
     "output_type": "stream",
     "text": [
      " done.\n",
      "Retrieving document from  https://arxiv.org/e-print/2302.02559\n"
     ]
    },
    {
     "name": "stdout",
     "output_type": "stream",
     "text": [
      "extracting tarball to tmp_2302.02559..."
     ]
    },
    {
     "name": "stdout",
     "output_type": "stream",
     "text": [
      " done.\n",
      "Retrieving document from  https://arxiv.org/e-print/2302.02572\n"
     ]
    },
    {
     "name": "stdout",
     "output_type": "stream",
     "text": [
      "extracting tarball to tmp_2302.02572..."
     ]
    },
    {
     "name": "stdout",
     "output_type": "stream",
     "text": [
      " done.\n",
      "Retrieving document from  https://arxiv.org/e-print/2302.02611\n"
     ]
    },
    {
     "name": "stderr",
     "output_type": "stream",
     "text": [
      "/opt/hostedtoolcache/Python/3.9.16/x64/lib/python3.9/site-packages/IPython/core/interactiveshell.py:3442: LatexWarning: Multiple tex files.\n",
      "\n",
      "  exec(code_obj, self.user_global_ns, self.user_ns)\n",
      "/opt/hostedtoolcache/Python/3.9.16/x64/lib/python3.9/site-packages/IPython/core/interactiveshell.py:3442: LatexWarning: Found documentclass in tmp_2302.02572/main.tex\n",
      "\n",
      "  exec(code_obj, self.user_global_ns, self.user_ns)\n"
     ]
    },
    {
     "name": "stdout",
     "output_type": "stream",
     "text": [
      "extracting tarball to tmp_2302.02611..."
     ]
    },
    {
     "name": "stdout",
     "output_type": "stream",
     "text": [
      " done.\n"
     ]
    },
    {
     "name": "stdout",
     "output_type": "stream",
     "text": [
      "Retrieving document from  https://arxiv.org/e-print/2302.02646\n"
     ]
    },
    {
     "name": "stdout",
     "output_type": "stream",
     "text": [
      "extracting tarball to tmp_2302.02646... done.\n",
      "Retrieving document from  https://arxiv.org/e-print/2302.02683\n"
     ]
    },
    {
     "name": "stdout",
     "output_type": "stream",
     "text": [
      "extracting tarball to tmp_2302.02683..."
     ]
    },
    {
     "name": "stdout",
     "output_type": "stream",
     "text": [
      " done.\n",
      "Retrieving document from  https://arxiv.org/e-print/2302.02696\n"
     ]
    },
    {
     "name": "stderr",
     "output_type": "stream",
     "text": [
      "/opt/hostedtoolcache/Python/3.9.16/x64/lib/python3.9/site-packages/IPython/core/interactiveshell.py:3442: LatexWarning: Multiple tex files.\n",
      "\n",
      "  exec(code_obj, self.user_global_ns, self.user_ns)\n",
      "/opt/hostedtoolcache/Python/3.9.16/x64/lib/python3.9/site-packages/IPython/core/interactiveshell.py:3442: LatexWarning: Found documentclass in tmp_2302.02683/1overf.tex\n",
      "\n",
      "  exec(code_obj, self.user_global_ns, self.user_ns)\n"
     ]
    },
    {
     "name": "stdout",
     "output_type": "stream",
     "text": [
      "extracting tarball to tmp_2302.02696..."
     ]
    },
    {
     "name": "stdout",
     "output_type": "stream",
     "text": [
      " done.\n",
      "Retrieving document from  https://arxiv.org/e-print/2302.02710\n"
     ]
    },
    {
     "name": "stdout",
     "output_type": "stream",
     "text": [
      "extracting tarball to tmp_2302.02710..."
     ]
    },
    {
     "name": "stdout",
     "output_type": "stream",
     "text": [
      " done.\n",
      "Retrieving document from  https://arxiv.org/e-print/2302.02722\n"
     ]
    },
    {
     "name": "stderr",
     "output_type": "stream",
     "text": [
      "/opt/hostedtoolcache/Python/3.9.16/x64/lib/python3.9/site-packages/IPython/core/interactiveshell.py:3442: LatexWarning: Multiple tex files.\n",
      "\n",
      "  exec(code_obj, self.user_global_ns, self.user_ns)\n",
      "/opt/hostedtoolcache/Python/3.9.16/x64/lib/python3.9/site-packages/IPython/core/interactiveshell.py:3442: LatexWarning: Found documentclass in tmp_2302.02710/DEBoo_ref.tex\n",
      "\n",
      "  exec(code_obj, self.user_global_ns, self.user_ns)\n"
     ]
    },
    {
     "name": "stdout",
     "output_type": "stream",
     "text": [
      "extracting tarball to tmp_2302.02722..."
     ]
    },
    {
     "name": "stdout",
     "output_type": "stream",
     "text": [
      " done.\n",
      "Retrieving document from  https://arxiv.org/e-print/2302.02723\n"
     ]
    },
    {
     "name": "stderr",
     "output_type": "stream",
     "text": [
      "/opt/hostedtoolcache/Python/3.9.16/x64/lib/python3.9/site-packages/IPython/core/interactiveshell.py:3442: LatexWarning: Multiple tex files.\n",
      "\n",
      "  exec(code_obj, self.user_global_ns, self.user_ns)\n",
      "/opt/hostedtoolcache/Python/3.9.16/x64/lib/python3.9/site-packages/IPython/core/interactiveshell.py:3442: LatexWarning: Found documentclass in tmp_2302.02722/mnras_template.tex\n",
      "\n",
      "  exec(code_obj, self.user_global_ns, self.user_ns)\n"
     ]
    },
    {
     "name": "stdout",
     "output_type": "stream",
     "text": [
      "extracting tarball to tmp_2302.02723..."
     ]
    },
    {
     "name": "stdout",
     "output_type": "stream",
     "text": [
      " done.\n",
      "Retrieving document from  https://arxiv.org/e-print/2302.02739\n"
     ]
    },
    {
     "name": "stdout",
     "output_type": "stream",
     "text": [
      "extracting tarball to tmp_2302.02739..."
     ]
    },
    {
     "name": "stdout",
     "output_type": "stream",
     "text": [
      " done.\n",
      "Retrieving document from  https://arxiv.org/e-print/2302.02750\n"
     ]
    },
    {
     "name": "stdout",
     "output_type": "stream",
     "text": [
      "extracting tarball to tmp_2302.02750..."
     ]
    },
    {
     "name": "stdout",
     "output_type": "stream",
     "text": [
      " done.\n",
      "Retrieving document from  https://arxiv.org/e-print/2302.02802\n"
     ]
    },
    {
     "name": "stdout",
     "output_type": "stream",
     "text": [
      "extracting tarball to tmp_2302.02802..."
     ]
    },
    {
     "name": "stdout",
     "output_type": "stream",
     "text": [
      " done.\n",
      "Retrieving document from  https://arxiv.org/e-print/2302.02854\n"
     ]
    },
    {
     "name": "stdout",
     "output_type": "stream",
     "text": [
      "extracting tarball to tmp_2302.02854..."
     ]
    },
    {
     "name": "stdout",
     "output_type": "stream",
     "text": [
      " done.\n",
      "Retrieving document from  https://arxiv.org/e-print/2302.02890\n"
     ]
    },
    {
     "name": "stderr",
     "output_type": "stream",
     "text": [
      "/opt/hostedtoolcache/Python/3.9.16/x64/lib/python3.9/site-packages/IPython/core/interactiveshell.py:3442: LatexWarning: Multiple tex files.\n",
      "\n",
      "  exec(code_obj, self.user_global_ns, self.user_ns)\n",
      "/opt/hostedtoolcache/Python/3.9.16/x64/lib/python3.9/site-packages/IPython/core/interactiveshell.py:3442: LatexWarning: Found documentclass in tmp_2302.02854/main.tex\n",
      "\n",
      "  exec(code_obj, self.user_global_ns, self.user_ns)\n"
     ]
    },
    {
     "name": "stdout",
     "output_type": "stream",
     "text": [
      "extracting tarball to tmp_2302.02890..."
     ]
    },
    {
     "name": "stdout",
     "output_type": "stream",
     "text": [
      " done.\n"
     ]
    },
    {
     "name": "stderr",
     "output_type": "stream",
     "text": [
      "/opt/hostedtoolcache/Python/3.9.16/x64/lib/python3.9/site-packages/arxiv_on_deck_2/latex.py:118: LatexWarning: attempting recovering figure CMD\n",
      "  warnings.warn(LatexWarning(f'attempting recovering figure {image}'))\n",
      "/opt/hostedtoolcache/Python/3.9.16/x64/lib/python3.9/site-packages/arxiv_on_deck_2/latex.py:118: LatexWarning: attempting recovering figure proper_motions\n",
      "  warnings.warn(LatexWarning(f'attempting recovering figure {image}'))\n"
     ]
    },
    {
     "name": "stderr",
     "output_type": "stream",
     "text": [
      "/opt/hostedtoolcache/Python/3.9.16/x64/lib/python3.9/site-packages/arxiv_on_deck_2/latex.py:118: LatexWarning: attempting recovering figure extinction_maps\n",
      "  warnings.warn(LatexWarning(f'attempting recovering figure {image}'))\n",
      "/opt/hostedtoolcache/Python/3.9.16/x64/lib/python3.9/site-packages/arxiv_on_deck_2/latex.py:118: LatexWarning: attempting recovering figure KLFs\n",
      "  warnings.warn(LatexWarning(f'attempting recovering figure {image}'))\n"
     ]
    },
    {
     "name": "stderr",
     "output_type": "stream",
     "text": [
      "/opt/hostedtoolcache/Python/3.9.16/x64/lib/python3.9/site-packages/arxiv_on_deck_2/latex.py:118: LatexWarning: attempting recovering figure scheme\n",
      "  warnings.warn(LatexWarning(f'attempting recovering figure {image}'))\n",
      "/opt/hostedtoolcache/Python/3.9.16/x64/lib/python3.9/site-packages/arxiv_on_deck_2/latex.py:118: LatexWarning: attempting recovering figure res_fit\n",
      "  warnings.warn(LatexWarning(f'attempting recovering figure {image}'))\n"
     ]
    },
    {
     "name": "stdout",
     "output_type": "stream",
     "text": [
      "Retrieving document from  https://arxiv.org/e-print/2302.02897\n"
     ]
    },
    {
     "name": "stdout",
     "output_type": "stream",
     "text": [
      "extracting tarball to tmp_2302.02897..."
     ]
    },
    {
     "name": "stdout",
     "output_type": "stream",
     "text": [
      " done.\n",
      "Retrieving document from  https://arxiv.org/e-print/2302.02901\n"
     ]
    },
    {
     "name": "stderr",
     "output_type": "stream",
     "text": [
      "/opt/hostedtoolcache/Python/3.9.16/x64/lib/python3.9/site-packages/IPython/core/interactiveshell.py:3442: LatexWarning: Multiple tex files.\n",
      "\n",
      "  exec(code_obj, self.user_global_ns, self.user_ns)\n",
      "/opt/hostedtoolcache/Python/3.9.16/x64/lib/python3.9/site-packages/IPython/core/interactiveshell.py:3442: LatexWarning: Found documentclass in tmp_2302.02897/document.tex\n",
      "\n",
      "  exec(code_obj, self.user_global_ns, self.user_ns)\n"
     ]
    },
    {
     "name": "stdout",
     "output_type": "stream",
     "text": [
      "extracting tarball to tmp_2302.02901..."
     ]
    },
    {
     "name": "stdout",
     "output_type": "stream",
     "text": [
      " done.\n",
      "Retrieving document from  https://arxiv.org/e-print/2302.02915\n"
     ]
    },
    {
     "name": "stdout",
     "output_type": "stream",
     "text": [
      "extracting tarball to tmp_2302.02915..."
     ]
    },
    {
     "name": "stdout",
     "output_type": "stream",
     "text": [
      " done.\n",
      "Retrieving document from  https://arxiv.org/e-print/2302.02927\n"
     ]
    },
    {
     "name": "stderr",
     "output_type": "stream",
     "text": [
      "/opt/hostedtoolcache/Python/3.9.16/x64/lib/python3.9/site-packages/IPython/core/interactiveshell.py:3442: LatexWarning: Multiple tex files.\n",
      "\n",
      "  exec(code_obj, self.user_global_ns, self.user_ns)\n",
      "/opt/hostedtoolcache/Python/3.9.16/x64/lib/python3.9/site-packages/IPython/core/interactiveshell.py:3442: LatexWarning: Found documentclass in tmp_2302.02915/Egal2023a.tex\n",
      "\n",
      "  exec(code_obj, self.user_global_ns, self.user_ns)\n"
     ]
    },
    {
     "name": "stdout",
     "output_type": "stream",
     "text": [
      "extracting tarball to tmp_2302.02927..."
     ]
    },
    {
     "name": "stdout",
     "output_type": "stream",
     "text": [
      " done.\n"
     ]
    }
   ],
   "source": [
    "documents = []\n",
    "failed = []\n",
    "for paper in tqdm(candidates[:-1]):\n",
    "    paper_id = paper['identifier'].lower().replace('arxiv:', '')\n",
    "    \n",
    "    folder = f'tmp_{paper_id}'\n",
    "\n",
    "    try:\n",
    "        if not os.path.isdir(folder):\n",
    "            folder = retrieve_document_source(f\"{paper_id}\", f'tmp_{paper_id}')\n",
    "        \n",
    "        try:\n",
    "            doc = latex.LatexDocument(folder, validation=validation)    \n",
    "        except AffiliationError as affilerror:\n",
    "            msg = f\"ArXiv:{paper_id:s} is not an MPIA paper... \" + str(affilerror)\n",
    "            failed.append((paper, \"affiliation error: \" + str(affilerror) ))\n",
    "            continue\n",
    "        \n",
    "        # Hack because sometimes author parsing does not work well\n",
    "        if (len(doc.authors) != len(paper['authors'])):\n",
    "            doc._authors = paper['authors']\n",
    "        if (doc.abstract) in (None, ''):\n",
    "            doc._abstract = paper['abstract']\n",
    "            \n",
    "        doc.comment = (get_markdown_badge(paper_id) + \n",
    "                       \"<mark>Appeared on: \" + paper['date'] + \"</mark> - \" +\n",
    "                       \"_\" + paper['comments'] + \"_\")\n",
    "        doc.highlight_authors_in_list(hl_list)\n",
    "\n",
    "        full_md = doc.generate_markdown_text()\n",
    "        \n",
    "        documents.append((paper_id, full_md))\n",
    "    except Exception as e:\n",
    "        warnings.warn(latex.LatexWarning(f\"{paper_id:s} did not run properly\\n\" +\n",
    "                                         str(e)\n",
    "                                        ))\n",
    "        failed.append((paper, \"latex error \" + str(e)))"
   ]
  },
  {
   "cell_type": "markdown",
   "id": "2505a25c",
   "metadata": {
    "papermill": {
     "duration": 0.007391,
     "end_time": "2023-02-07T04:08:58.180472",
     "exception": false,
     "start_time": "2023-02-07T04:08:58.173081",
     "status": "completed"
    },
    "tags": []
   },
   "source": [
    "### Export the logs\n",
    "\n",
    "Throughout, we also keep track of the logs per paper. see `logs-{today date}.md` "
   ]
  },
  {
   "cell_type": "code",
   "execution_count": 6,
   "id": "d733828a",
   "metadata": {
    "execution": {
     "iopub.execute_input": "2023-02-07T04:08:58.197186Z",
     "iopub.status.busy": "2023-02-07T04:08:58.196725Z",
     "iopub.status.idle": "2023-02-07T04:08:58.233815Z",
     "shell.execute_reply": "2023-02-07T04:08:58.233134Z"
    },
    "papermill": {
     "duration": 0.056028,
     "end_time": "2023-02-07T04:08:58.243927",
     "exception": false,
     "start_time": "2023-02-07T04:08:58.187899",
     "status": "completed"
    },
    "scrolled": false,
    "tags": []
   },
   "outputs": [
    {
     "data": {
      "text/markdown": [
       "## Successful papers"
      ],
      "text/plain": [
       "<IPython.core.display.Markdown object>"
      ]
     },
     "metadata": {},
     "output_type": "display_data"
    },
    {
     "data": {
      "text/markdown": [
       "\n",
       "|||\n",
       "|---:|:---|\n",
       "| [![arXiv](https://img.shields.io/badge/arXiv-arXiv:2302.02429-b31b1b.svg)](https://arxiv.org/abs/arXiv:2302.02429) | **Life beyond 30: probing the -20<M_UV<-17 luminosity function at 8<z<13  with the NIRCam parallel field of the MIRI Deep Survey**  |\n",
       "|| Pablo G. Pérez-González, et al. -- incl., <mark>Danial Langeroodi</mark>, <mark>Almudena Alonso-Herrero</mark>, <mark>Fabian Walter</mark>, <mark>Sarah E. I. Bosman</mark> |\n",
       "|*Appeared on*| *2023-02-07*|\n",
       "|*Comments*| *Submitted to ApJL, in memoriam Hans Ulrik Noorgaard-Nielsen and Olivier Le F\\`evre*|\n",
       "|**Abstract**| We present the ultraviolet luminosity function and an estimate of the cosmic star formation rate density at $8<z<13$ derived from deep NIRCam observations taken in parallel with the MIRI Deep Survey (MDS) of the Hubble Ultra Deep Field (HUDF), NIRCam covering the parallel field 2 (HUDF-P2). Our deep (40~hours) NIRCam observations reach a $F277W$ magnitude of 32 at the $5\\sigma$ level, more than 2 magnitudes deeper than JWST public datasets already analyzed to find high redshift galaxies. We select a sample of 45 $z>8$ galaxy candidates based on their dropout nature in the $F115W$ and/or $F150W$ filters, a high probability for their photometric redshifts, estimated with three different codes, being at $z>8$, good fits based on $\\chi^2$ calculations, and predominant solutions compared to $z<8$ alternatives. We find mild evolution in the luminosity function from $z\\sim13$ to $z\\sim8$, i.e., only a small increase in the average number density of $\\sim$0.2~dex, while the faint-end slope and absolute magnitude of the knee remain approximately constant, with values $\\alpha=-2.3\\pm0.2$ and $M^*=-20.8\\pm0.2$~mag. Comparing our results with the predictions of a wide range of state-of-the-art galaxy evolution models, we find two main results: (1) a slower increase with time in the cosmic star formation rate density compared to a steeper rise predicted by models; (2) nearly a factor of 10 higher star formation activity concentrated in scales around 2~kpc in galaxies with stellar masses $\\sim10^8$~M$_\\odot$ during the first 350~Myr of the Universe ($z\\sim12$), with models matching better the observations $\\sim$150~Myr later, by $z\\sim9$. |"
      ],
      "text/plain": [
       "[arXiv:2302.02429] Life beyond 30: probing the -20<M_UV<-17 luminosity function at 8<z<13  with the NIRCam parallel field of the MIRI Deep Survey\n",
       "\tPablo G. Pérez-González, et al. -- incl., <mark>Danial Langeroodi</mark>, <mark>Almudena Alonso-Herrero</mark>, <mark>Fabian Walter</mark>, <mark>Sarah E. I. Bosman</mark>"
      ]
     },
     "metadata": {},
     "output_type": "display_data"
    },
    {
     "data": {
      "text/markdown": [
       "\n",
       "|||\n",
       "|---:|:---|\n",
       "| [![arXiv](https://img.shields.io/badge/arXiv-arXiv:2302.02611-b31b1b.svg)](https://arxiv.org/abs/arXiv:2302.02611) | **Robust Data-driven Metallicities for 120 Million Stars from Gaia XP  Spectra**  |\n",
       "|| <mark>Rene Andrae</mark>, <mark>Hans-Walter Rix</mark>, Vedant Chandra |\n",
       "|*Appeared on*| *2023-02-07*|\n",
       "|*Comments*| *18 pages, 17 figures, submitted to ApJS*|\n",
       "|**Abstract**| We derive and publish data-driven estimates of stellar metallicities [M/H] for ~120 million stars with low-resolution XP spectra published in Gaia DR3. The [M/H] values, along with Teff and logg, are derived using the XGBoost algorithm, trained on stellar parameters from APOGEE, augmented by a set of very metal-poor stars. XGBoost draws on a number of data features: the full set of XP spectral coefficients, narrowband fluxes derived from XP spectra, and broadband magnitudes. In particular, we include AllWISE magnitudes, as they reduce the degeneracy of Teff and dust reddening. We also include the parallax as a data feature, which helps constrain logg and [M/H]. The resulting mean stellar parameter precision is 0.1dex in [M/H], 50K in Teff, and 0.08dex in logg. This all-sky [M/H] sample is two orders of magnitude larger than published samples of comparable fidelity across -3<[M/H]<+0.5. Additionally, we provide a catalog of over 13 million bright (G<16) red giants whose [M/H] are vetted to be precise and pure. We present all-sky maps of the Milky Way in different [M/H] regimes that illustrate the purity of the dataset, and demonstrate the power of this unprecedented sample to reveal the Milky Way's structure from its heart to its disk. |"
      ],
      "text/plain": [
       "[arXiv:2302.02611] Robust Data-driven Metallicities for 120 Million Stars from Gaia XP  Spectra\n",
       "\t<mark>Rene Andrae</mark>, <mark>Hans-Walter Rix</mark>, Vedant Chandra"
      ]
     },
     "metadata": {},
     "output_type": "display_data"
    },
    {
     "data": {
      "text/markdown": [
       "\n",
       "|||\n",
       "|---:|:---|\n",
       "| [![arXiv](https://img.shields.io/badge/arXiv-arXiv:2302.02890-b31b1b.svg)](https://arxiv.org/abs/arXiv:2302.02890) | **Evidence of an age gradient along the line of sight in the nuclear  stellar disc of the Milky Way**  |\n",
       "|| <mark>F. Nogueras-Lara</mark>, et al. |\n",
       "|*Appeared on*| *2023-02-07*|\n",
       "|*Comments*| *Submitted to A&A*|\n",
       "|**Abstract**| The nuclear stellar disc (NSD) is a flat dense stellar structure at the heart of the Milky Way. Recent work shows that analogous structures are common in the nuclei of external spiral galaxies, where there is evidence of an age gradient that indicates that they form inside-out. However, the characterisation of the age of the NSD stellar population along the line of sight is still missing due to its extreme source crowding and the high interstellar extinction towards the Galactic centre. We aim to characterise the age of the stellar population at different average Galactocentric NSD radii to investigate for the first time the presence of an age gradient along the line of sight. We selected two groups of stars at different NSD radii via their different extinction and proper motion distribution. We analysed their stellar population by fitting their de-reddened $K_s$ luminosity functions with a linear combination of theoretical models. We find significant differences in the stellar population at different NSD radii, indicating the presence of an age gradient along the line of sight. Our sample from the closest edge of the NSD contains a significant fraction ($\\sim40$ % of its total stellar mass) of intermediate-age stars (2-7 Gyr), that is not present in the sample from stars deeper inside the NSD, in which $\\sim90 %$ of the stellar mass is older than 7 Gyr. Our results suggest that the NSD age distribution is similar as the one found in external galaxies and imply that bar-driven processes observed in external galaxies are similarly at play in the Milky Way. |"
      ],
      "text/plain": [
       "[arXiv:2302.02890] Evidence of an age gradient along the line of sight in the nuclear  stellar disc of the Milky Way\n",
       "\t<mark>F. Nogueras-Lara</mark>, et al."
      ]
     },
     "metadata": {},
     "output_type": "display_data"
    },
    {
     "data": {
      "text/markdown": [
       "## Failed papers"
      ],
      "text/plain": [
       "<IPython.core.display.Markdown object>"
      ]
     },
     "metadata": {},
     "output_type": "display_data"
    },
    {
     "data": {
      "text/markdown": [
       "\n",
       "|||\n",
       "|---:|:---|\n",
       "| [![arXiv](https://img.shields.io/badge/arXiv-arXiv:2302.02901-b31b1b.svg)](https://arxiv.org/abs/arXiv:2302.02901) | **A Distance Measurement to M33 Using Optical Photometry of Mira Variables**  |\n",
       "|| Jia-Yu Ou, et al. -- incl., <mark>Frank J. Masci</mark> |\n",
       "|*Appeared on*| *2023-02-07*|\n",
       "|*Comments*| **|\n",
       "|**Abstract**| We present a systematic analysis to determine and improve the pulsation periods of 1637 known long-period Mira variables in M33 using $gri$-band light curves spanning $\\sim18$~years from several surveys, including M33 variability survey, Panoramic Survey Telescope and Rapid Response System, Palomar Transient Factory (PTF), intermediate PTF, and Zwicky Transient Facility. Based on these collections of light curves, we found that optical band light curves that are as complete as possible are crucial to determine the periods of distant Miras. We demonstrated that the machine learning techniques can be used to classify Miras into O-rich and C-rich based on the $(J-K_s)$ period--color plane. Finally, We derived the distance modulus to M33 using O-rich Miras at maximum light together with our improved periods as $24.67 \\pm 0.06$~mag, which is in good agreement with the recommended value given in the literature. |\n",
       "|<p style=\"color:green\"> **ERROR** </p>| <p style=\"color:green\">affiliation error: mpia.affiliation_verifications: '69117' keyword not found.</p> |"
      ],
      "text/plain": [
       "<IPython.core.display.Markdown object>"
      ]
     },
     "metadata": {},
     "output_type": "display_data"
    },
    {
     "data": {
      "text/markdown": [
       "\n",
       "|||\n",
       "|---:|:---|\n",
       "| [![arXiv](https://img.shields.io/badge/arXiv-arXiv:2302.01946-b31b1b.svg)](https://arxiv.org/abs/arXiv:2302.01946) | **Can the Universe decelerate in the future?**  |\n",
       "|| A. A. Escobal, J. F. Jesus, S. H. Pereira, <mark>J. A. S. Lima</mark> |\n",
       "|*Appeared on*| *2023-02-07*|\n",
       "|*Comments*| *18 pages, 5 figures*|\n",
       "|**Abstract**| The possibility of an expanding decelerating Universe in the distant future is investigated in the context of a quintessence scalar field cosmology [1]. Such a conceivable evolution is tested against SNe Ia and $H(z)$ data, and also through a model independent method based on Gaussian Processes. The scalar field model is an extension of the exponential Ratra-Peebles quintessence whose potential [2] depends on a pair of parameters ($\\alpha, \\lambda)$ and predicts a decelerated expansion in the future. The model analysis is updated with the most recent SNe Ia and $H(z)$ data thereby obtaining $H_0 =68.6\\pm3.7$ km/s/Mpc, $\\Omega_{\\Phi0} = 0.735^{+0.083}_{-0.069} $, $\\alpha < 6.56$ and $\\lambda< 0.879 $ (at $2\\sigma$ c.l.). It is found that the model allows for a future deceleration both for $H(z)$ and SNe Ia data. In the (model-independent) Gaussian Processes analysis, however, future deceleration is allowed only in the case of $H(z)$ data. |\n",
       "|<p style=\"color:green\"> **ERROR** </p>| <p style=\"color:green\">affiliation error: mpia.affiliation_verifications: 'Heidelberg' keyword not found.</p> |"
      ],
      "text/plain": [
       "<IPython.core.display.Markdown object>"
      ]
     },
     "metadata": {},
     "output_type": "display_data"
    },
    {
     "data": {
      "text/markdown": [
       "\n",
       "|||\n",
       "|---:|:---|\n",
       "| [![arXiv](https://img.shields.io/badge/arXiv-arXiv:2302.02005-b31b1b.svg)](https://arxiv.org/abs/arXiv:2302.02005) | **DeepAstroUDA: Semi-Supervised Universal Domain Adaptation for  Cross-Survey Galaxy Morphology Classification and Anomaly Detection**  |\n",
       "|| A. Ćiprijanović, et al. -- incl., <mark>A. Lewis</mark> |\n",
       "|*Appeared on*| *2023-02-07*|\n",
       "|*Comments*| *Submitted to Machine Learning Science and Technology (MLST); 22 pages, 12 figures*|\n",
       "|**Abstract**| Artificial intelligence methods show great promise in increasing the quality and speed of work with large astronomical datasets, but the high complexity of these methods leads to the extraction of dataset-specific, non-robust features. Therefore, such methods do not generalize well across multiple datasets. We present a universal domain adaptation method, \\textit{DeepAstroUDA}, as an approach to overcome this challenge. This algorithm performs semi-supervised domain adaptation and can be applied to datasets with different data distributions and class overlaps. Non-overlapping classes can be present in any of the two datasets (the labeled source domain, or the unlabeled target domain), and the method can even be used in the presence of unknown classes. We apply our method to three examples of galaxy morphology classification tasks of different complexities ($3$-class and $10$-class problems), with anomaly detection: 1) datasets created after different numbers of observing years from a single survey (LSST mock data of $1$ and $10$ years of observations); 2) data from different surveys (SDSS and DECaLS); and 3) data from observing fields with different depths within one survey (wide field and Stripe 82 deep field of SDSS). For the first time, we demonstrate the successful use of domain adaptation between very discrepant observational datasets. \\textit{DeepAstroUDA} is capable of bridging the gap between two astronomical surveys, increasing classification accuracy in both domains (up to $40\\%$ on the unlabeled data), and making model performance consistent across datasets. Furthermore, our method also performs well as an anomaly detection algorithm and successfully clusters unknown class samples even in the unlabeled target dataset. |\n",
       "|<p style=\"color:green\"> **ERROR** </p>| <p style=\"color:green\">affiliation error: mpia.affiliation_verifications: 'Heidelberg' keyword not found.</p> |"
      ],
      "text/plain": [
       "<IPython.core.display.Markdown object>"
      ]
     },
     "metadata": {},
     "output_type": "display_data"
    },
    {
     "data": {
      "text/markdown": [
       "\n",
       "|||\n",
       "|---:|:---|\n",
       "| [![arXiv](https://img.shields.io/badge/arXiv-arXiv:2302.02021-b31b1b.svg)](https://arxiv.org/abs/arXiv:2302.02021) | **Glycolaldehyde formation mediated by interstellar amorphous ice: a  computational study**  |\n",
       "|| Mateus A. M. Paiva, et al. -- incl., <mark>Heitor A. De Abreu</mark> |\n",
       "|*Appeared on*| *2023-02-07*|\n",
       "|*Comments*| *10 pages, 9 figures, supplementary data. Accepted for publication in Monthly Notices of the Royal Astronomical Society*|\n",
       "|**Abstract**| Glycolaldehyde (HOCH2CHO) is the most straightforward sugar detected in the Interstellar Medium (ISM) and participates in the formation pathways of molecules fundamental to life, red such as ribose and derivatives. Although detected in several regions of the ISM, its formation route is still debated and its abundance cannot be explained only by reactions in the gas phase. This work explores a new gas-phase formation mechanism for glycolaldehyde and compares the energy barrier reduction when the same route happens on the surface of amorphous ices. The first step of the mechanism involves the formation of a carbon-carbon bond between formaldehyde (H2CO) and the formyl radical (HCO), with an energy barrier of 27 kJ mol-1 (gas-phase). The second step consists of barrierless hydrogen addition. Density functional calculations under periodic boundary conditions were applied to study this reaction path on 10 different amorphous ice surfaces through an Eley-Rideal type mechanism. It was found that the energy barrier is reduced on average by 49 per cent, leading in some cases to a 100 per cent reduction. The calculated adsorption energy of glycolaldehyde suggests that it can be promptly desorbed to the gas phase after its formation. This work, thus contributes to explaining the detected relative abundances of glycolaldehyde and opens a new methodological framework for studying the formation routes for Complex Organic Molecules (COMs) in interstellar icy grains. |\n",
       "|<p style=\"color:green\"> **ERROR** </p>| <p style=\"color:green\">affiliation error: mpia.affiliation_verifications: 'Heidelberg' keyword not found.</p> |"
      ],
      "text/plain": [
       "<IPython.core.display.Markdown object>"
      ]
     },
     "metadata": {},
     "output_type": "display_data"
    },
    {
     "data": {
      "text/markdown": [
       "\n",
       "|||\n",
       "|---:|:---|\n",
       "| [![arXiv](https://img.shields.io/badge/arXiv-arXiv:2302.02135-b31b1b.svg)](https://arxiv.org/abs/arXiv:2302.02135) | **Magnetic activity variability from H$α$ line intensive monitoring  for two F-type stars having a hot-Jupiter, $τ$ Bootis A and $\\upsilon$  Andromedae A**  |\n",
       "|| <mark>Sanghee Lee</mark>, Yuta Notsu, Bun'ei Sato |\n",
       "|*Appeared on*| *2023-02-07*|\n",
       "|*Comments*| *27 pages, 20 figures, 1 table, Accepted by Publications of the Astronomical Society of Japan*|\n",
       "|**Abstract**| We report the results of intensive monitoring of the variability in the H$\\alpha$ line for two F-type stars, $\\tau$ Boo and $\\upsilon$ And, during the last four years 2019-2022, in order to investigate their stellar magnetic activity. The 4-year H$\\alpha$ line intensity data taken with the 1.88-m reflector at Okayama Branch Office, Subaru Telescope, shows the existence of a possible $\\sim$ 123-day magnetic activity cycle of $\\tau$ Boo. The result of the H$\\alpha$ variability as another tracer of the magnetic activity on the chromosphere is consistent with previous studies of the Ca II H&K line and suggests that the magnetic activity cycle is persisted in $\\tau$ Boo. For $\\upsilon$ And, we suggest a quadratic long-term trend in the H$\\alpha$ variability. Meanwhile, the short-term monitoring shows no significant period corresponding to specific variations likely induced by their hot-Jupiter in both cases ($\\approx$ 3.31 and 4.62 days, respectively). In this H$\\alpha$ observation, we could not find any signature of the Star-Planet Magnetic Interaction. It is speculated that the detected magnetic activity variability of the two F-type stars is related to the stellar intrinsic dynamo. |\n",
       "|<p style=\"color:green\"> **ERROR** </p>| <p style=\"color:green\">affiliation error: mpia.affiliation_verifications: 'Heidelberg' keyword not found.</p> |"
      ],
      "text/plain": [
       "<IPython.core.display.Markdown object>"
      ]
     },
     "metadata": {},
     "output_type": "display_data"
    },
    {
     "data": {
      "text/markdown": [
       "\n",
       "|||\n",
       "|---:|:---|\n",
       "| [![arXiv](https://img.shields.io/badge/arXiv-arXiv:2302.02167-b31b1b.svg)](https://arxiv.org/abs/arXiv:2302.02167) | **Timing analysis of EXO 2030+375 during its 2021 giant outburst observed  with Insight-HXMT**  |\n",
       "|| Yu-Cong Fu, et al. -- incl., <mark>S. Zhang</mark>, <mark>S. N. Zhang</mark>, <mark>J. Zhang</mark>, <mark>L. Zhang</mark>, <mark>T. M. Li</mark>, <mark>H. X. Liu</mark> |\n",
       "|*Appeared on*| *2023-02-07*|\n",
       "|*Comments*| **|\n",
       "|**Abstract**| We report the evolution of the X-ray pulsations of EXO 2030+375 during its 2021 outburst using the observations from Insight-HXMT. Based on the accretion torque model, we study the correlation between the spin frequency derivatives and the luminosity. Pulsations can be detected in the energy band of 1--160 keV. The pulse profile evolves significantly with luminosity during the outburst and this divides the whole outburst into several parts with different characteristics. The evolution of the pulse profile reveals the transition between the super-critical (fan-beam dominated) and the sub-critical accretion (pencil-beam dominated) mode. From the accretion torque model and the critical luminosity model, we calculate the magnetic fields of $(0.41-0.74) \\times 10^{12}$ G and $(3.48-3.96) \\times 10^{12}$ G based on a distance of 7.1 kpc, or the magnetic fields of $(2.4-4.3) \\times 10^{13}$ G and $(0.98-1.11)\\times 10^{12}$ G based on a distance of 3.6 kpc. Two different sets of magnetic fields both support the presence of multipole magnetic fields of the neutron star. |\n",
       "|<p style=\"color:green\"> **ERROR** </p>| <p style=\"color:green\">affiliation error: mpia.affiliation_verifications: 'Heidelberg' keyword not found.</p> |"
      ],
      "text/plain": [
       "<IPython.core.display.Markdown object>"
      ]
     },
     "metadata": {},
     "output_type": "display_data"
    },
    {
     "data": {
      "text/markdown": [
       "\n",
       "|||\n",
       "|---:|:---|\n",
       "| [![arXiv](https://img.shields.io/badge/arXiv-arXiv:2302.02496-b31b1b.svg)](https://arxiv.org/abs/arXiv:2302.02496) | **Autoencoding Galaxy Spectra II: Redshift Invariance and Outlier  Detection**  |\n",
       "|| <mark>Yan Liang</mark>, et al. -- incl., <mark>Andy Goulding</mark> |\n",
       "|*Appeared on*| *2023-02-07*|\n",
       "|*Comments*| *12 pages, 7 figures, submitted to AJ. Code available at this https URL*|\n",
       "|**Abstract**| We present an unsupervised outlier detection method for galaxy spectra based on the spectrum autoencoder architecture spender, which reliably captures spectral features and provides highly realistic reconstructions for SDSS galaxy spectra. We interpret the sample density in the autoencoder latent space as a probability distribution, and identify outliers as low-probability objects with a normalizing flow. However, we found that the latent-space position is not, as expected from the architecture, redshift invariant, which introduces stochasticity into the latent space and the outlier detection method. We solve this problem by adding two novel loss terms during training, which explicitly link latent-space distances to data-space distances, preserving locality in the autoencoding process. Minimizing the additional losses leads to a redshift-invariant, non-degenerate latent space distribution with clear separations between common and anomalous data. We inspect the spectra with the lowest probability and find them to include blends with foreground stars, extremely reddened galaxies, galaxy pairs and triples, and stars that are misclassified as galaxies. We release the newly trained spender model and the latent-space probability for the entire SDSS-I galaxy sample to aid further investigations. |\n",
       "|<p style=\"color:green\"> **ERROR** </p>| <p style=\"color:green\">affiliation error: mpia.affiliation_verifications: 'Heidelberg' keyword not found.</p> |"
      ],
      "text/plain": [
       "<IPython.core.display.Markdown object>"
      ]
     },
     "metadata": {},
     "output_type": "display_data"
    },
    {
     "data": {
      "text/markdown": [
       "\n",
       "|||\n",
       "|---:|:---|\n",
       "| [![arXiv](https://img.shields.io/badge/arXiv-arXiv:2302.02559-b31b1b.svg)](https://arxiv.org/abs/arXiv:2302.02559) | **Cosmography via Gaussian Process with Gamma Ray Bursts**  |\n",
       "|| Yuhao Mu, Baorong Chang, <mark>Lixin Xu</mark> |\n",
       "|*Appeared on*| *2023-02-07*|\n",
       "|*Comments*| *18 pages, 5 figures and 1 table. comments welcome*|\n",
       "|**Abstract**| In this paper, we firstly calibrate the Amati relation (the $E_{\\rm p}-E_{\\rm iso}$ correlation) of gamma ray bursts (GRBs) at low redshifts ($z<0.8$) via Gaussian process by using the type Ia supernovae samples from Pantheon+ under the philosophy that objects at the same redshift should have the same luminosity distance in any cosmology. As a result, this calibration derives the distance moduli of GRBs at high redshifts ($z>0.8$). For an application of these derived distance modulus of GRBs to cosmology, via Gaussian process again, a series of cosmography parameters, which describe kinematics of our Universe, up to the fifth oder, i.e. the Hubble parameter $H(z)$, the deceleration parameter $q(z)$, the jerk parameter $j(z)$, the snap parameter $s(z)$ and the lerk parameter $l(z)$, are reconstructed from the cosmic observations. The result shows that the current quality of GRBs data points are not good enough to give viable prediction of the kinematics of our Universe at high redshifts. |\n",
       "|<p style=\"color:green\"> **ERROR** </p>| <p style=\"color:green\">affiliation error: mpia.affiliation_verifications: 'Heidelberg' keyword not found.</p> |"
      ],
      "text/plain": [
       "<IPython.core.display.Markdown object>"
      ]
     },
     "metadata": {},
     "output_type": "display_data"
    },
    {
     "data": {
      "text/markdown": [
       "\n",
       "|||\n",
       "|---:|:---|\n",
       "| [![arXiv](https://img.shields.io/badge/arXiv-arXiv:2302.02572-b31b1b.svg)](https://arxiv.org/abs/arXiv:2302.02572) | **183 GHz water megamasers in active galactic nuclei: a new accretion disk  tracer**  |\n",
       "|| Dominic W. Pesce, et al. -- incl., <mark>Christian Henkel</mark> |\n",
       "|*Appeared on*| *2023-02-07*|\n",
       "|*Comments*| *23 pages, 8 figures, submitted to ApJ*|\n",
       "|**Abstract**| We present the results of an ALMA survey to identify 183 GHz H$_2$O maser emission from AGN already known to host 22 GHz megamaser systems. Out of 20 sources observed, we detect significant 183 GHz maser emission from 13; this survey thus increases the number of AGN known to host (sub)millimeter megamasers by a factor of 5. We find that the 183 GHz emission is systematically fainter than the 22 GHz emission from the same targets, with typical flux densities being roughly an order of magnitude lower at 183 GHz than at 22 GHz. However, the isotropic luminosities of the detected 183 GHz sources are comparable to their 22 GHz values. For two of our sources -- ESO 269-G012 and the Circinus galaxy -- we detect rich 183 GHz spectral structure containing multiple line complexes. The 183 GHz spectrum of ESO 269-G012 exhibits the triple-peaked structure characteristic of an edge-on AGN disk system. The Circinus galaxy contains the strongest 183 GHz emission detected in our sample, peaking at a flux density of nearly 5 Jy. The high signal-to-noise ratios achieved by these strong lines enable a coarse mapping of the 183 GHz maser system, in which the masers appear to be distributed similarly to those seen in VLBI maps of the 22 GHz system in the same galaxy and may be tracing the circumnuclear accretion disk at larger orbital radii than are occupied by the 22 GHz masers. This newly identified population of AGN disk megamasers presents a motivation for developing VLBI capabilities at 183 GHz. |\n",
       "|<p style=\"color:green\"> **ERROR** </p>| <p style=\"color:green\">affiliation error: mpia.affiliation_verifications: 'Heidelberg' keyword not found.</p> |"
      ],
      "text/plain": [
       "<IPython.core.display.Markdown object>"
      ]
     },
     "metadata": {},
     "output_type": "display_data"
    },
    {
     "data": {
      "text/markdown": [
       "\n",
       "|||\n",
       "|---:|:---|\n",
       "| [![arXiv](https://img.shields.io/badge/arXiv-arXiv:2302.02646-b31b1b.svg)](https://arxiv.org/abs/arXiv:2302.02646) | **Discovery of an isolated dark dwarf galaxy in the nearby universe**  |\n",
       "|| Jin-Long Xu, et al. -- incl., <mark>Chuan-Peng Zhang</mark>, <mark>Xiao-Lan Liu</mark> |\n",
       "|*Appeared on*| *2023-02-07*|\n",
       "|*Comments*| *13 pages, 3 figures, Accepted for publication in the ApJ Letters*|\n",
       "|**Abstract**| Based on a new HI survey using the Five-hundred-meter Aperture Spherical radio Telescope (FAST), combined with the Pan-STARRS1 images, we identified an isolated HI cloud without any optical counterpart, named FAST J0139+4328. The newly discovered HI cloud appears to be a typical disk galaxy since it has a double-peak shape in the global HI profile and an S-like rotation structure in the velocity-position diagram. Moreover, this disk galaxy has an extremely low absolute magnitude (M_B>-10.0 mag) and stellar mass (<6.9*10^5 Msun). Furthermore, we obtained that the HI mass of this galaxy is 8.3*10^7 Msun, and the dynamical mass to total baryonic mass ratio is 47+-27, implying that dark matter dominates over baryons in FAST J0139+4328. These findings provide observational evidence that FAST J0139+4328 is an isolated dark dwarf galaxy with a redshift of z=0.0083. This is the first time that an isolated dark galaxy has been detected in the nearby universe. |\n",
       "|<p style=\"color:green\"> **ERROR** </p>| <p style=\"color:green\">affiliation error: mpia.affiliation_verifications: 'Heidelberg' keyword not found.</p> |"
      ],
      "text/plain": [
       "<IPython.core.display.Markdown object>"
      ]
     },
     "metadata": {},
     "output_type": "display_data"
    },
    {
     "data": {
      "text/markdown": [
       "\n",
       "|||\n",
       "|---:|:---|\n",
       "| [![arXiv](https://img.shields.io/badge/arXiv-arXiv:2302.02683-b31b1b.svg)](https://arxiv.org/abs/arXiv:2302.02683) | **MeerKLASS simulations: Mitigating 1/f noise for auto-correlation  intensity mapping measurements**  |\n",
       "|| Melis O. Irfan, et al. -- incl., <mark>Yichao Li</mark> |\n",
       "|*Appeared on*| *2023-02-07*|\n",
       "|*Comments*| *13 pages, 11 figures, submitted to MNRAS*|\n",
       "|**Abstract**| We present and compare several methods to mitigate time-correlated (1/f) noise within the HI intensity mapping component of the MeerKAT Large Area Synoptic Survey (MeerKLASS). By simulating scan strategies, the HI signal, white and correlated noise, we assess the ability of various data processing pipelines to recover the power spectrum of HI brightness temperature fluctuations. We use MeerKAT pilot data to assess the level of 1/f noise expected for the MeerKLASS survey and use these measurements to create realistic levels of time-correlated noise for our simulations. We find the time-correlated noise component within the pilot data to be between 16 and 23 times higher than the white noise level at the scale of k = 0.04 Mpc^-1. Having determined that the MeerKAT 1/f noise is partially correlated across all the frequency channels, we employ Singular Value Decomposition (SVD) as a technique to remove 1/f noise but find that over-cleaning results in the removal of HI power at large (angular and radial) scales; a power loss of 20 per cent is seen for a 2-mode SVD clean at the scale of k = 0.04 Mpc^-1. We compare the impact of map-making using weighting by the full noise covariance (i.e. including a 1/f component), as opposed to just a simple unweighted binning, finding that including the time-correlated noise information reduces the excess power added by 1/f noise by up to 30 per cent. |\n",
       "|<p style=\"color:green\"> **ERROR** </p>| <p style=\"color:green\">affiliation error: mpia.affiliation_verifications: 'Heidelberg' keyword not found.</p> |"
      ],
      "text/plain": [
       "<IPython.core.display.Markdown object>"
      ]
     },
     "metadata": {},
     "output_type": "display_data"
    },
    {
     "data": {
      "text/markdown": [
       "\n",
       "|||\n",
       "|---:|:---|\n",
       "| [![arXiv](https://img.shields.io/badge/arXiv-arXiv:2302.02696-b31b1b.svg)](https://arxiv.org/abs/arXiv:2302.02696) | **A survey for variable young stars with small telescopes: VI -- Analysis  of the outbursting Be stars NSW284, Gaia19eyy, and VES263**  |\n",
       "|| Dirk Froebrich, et al. -- incl., <mark>Carys Herbert</mark>, <mark>Franky Dubois</mark>, <mark>Heinz-Bernd Eggenstein</mark> |\n",
       "|*Appeared on*| *2023-02-07*|\n",
       "|*Comments*| *Accepted for publication by MNRAS. 20 pages, 11 figures, 2 tables*|\n",
       "|**Abstract**| This paper is one in a series reporting results from small telescope observations of variable young stars. Here, we study the repeating outbursts of three likely Be stars based on long-term optical, near-infrared, and mid-infrared photometry for all three objects, along with follow-up spectra for two of the three. The sources are characterised as rare, truly regularly outbursting Be stars. We interpret the photometric data within a framework for modelling light curve morphology, and find that the models correctly predict the burst shapes, including their larger amplitudes and later peaks towards longer wavelengths. We are thus able to infer the start and end times of mass loading into the circumstellar disks of these stars. The disk sizes are typically 3-6 times the areas of the central star. The disk temperatures are ~40%, and the disk luminosities are ~10% of those of the central Be star, respectively. The available spectroscopy is consistent with inside-out evolution of the disk. Higher excitation lines have larger velocity widths in their double-horned shaped emission profiles. Our observations and analysis support the decretion disk model for outbursting Be stars. |\n",
       "|<p style=\"color:green\"> **ERROR** </p>| <p style=\"color:green\">affiliation error: mpia.affiliation_verifications: 'Heidelberg' keyword not found.</p> |"
      ],
      "text/plain": [
       "<IPython.core.display.Markdown object>"
      ]
     },
     "metadata": {},
     "output_type": "display_data"
    },
    {
     "data": {
      "text/markdown": [
       "\n",
       "|||\n",
       "|---:|:---|\n",
       "| [![arXiv](https://img.shields.io/badge/arXiv-arXiv:2302.02710-b31b1b.svg)](https://arxiv.org/abs/arXiv:2302.02710) | **Glancing through the debris disk: Photometric analysis of DE Boo with  CHEOPS**  |\n",
       "|| Á. Boldog, et al. -- incl., <mark>G. Olofsson</mark>, <mark>M. B. Davies</mark> |\n",
       "|*Appeared on*| *2023-02-07*|\n",
       "|*Comments*| *10 pages, 4 figures, 5 tables; accepted by Astronomy and Astrophysics*|\n",
       "|**Abstract**| DE Boo is a unique system, with an edge-on view through the debris disk around the star. The disk, which is analogous to the Kuiper belt in the Solar System, was reported to extend from 74 to 84 AU from the central star. The high photometric precision of the Characterising Exoplanet Satellite (CHEOPS) provided an exceptional opportunity to observe small variations in the light curve due to transiting material in the disk. This is a unique chance to investigate processes in the debris disk. Photometric observations of DE Boo of a total of four days were carried out with CHEOPS. Photometric variations due to spots on the stellar surface were subtracted from the light curves by applying a two-spot model and a fourth-order polynomial. The photometric observations were accompanied by spectroscopic measurements with the 1m RCC telescope at Piszk\\'estet\\H{o} and with the SOPHIE spectrograph in order to refine the astrophysical parameters of DE Boo. We present a detailed analysis of the photometric observation of DE Boo. We report the presence of nonperiodic transient features in the residual light curves with a transit duration of 0.3-0.8 days. We calculated the maximum distance of the material responsible for these variations to be 2.47 AU from the central star, much closer than most of the mass of the debris disk. Furthermore, we report the first observation of flaring events in this system. We interpreted the transient features as the result of scattering in an inner debris disk around DE Boo. The processes responsible for these variations were investigated in the context of interactions between planetesimals in the system. |\n",
       "|<p style=\"color:green\"> **ERROR** </p>| <p style=\"color:green\">affiliation error: mpia.affiliation_verifications: 'Heidelberg' keyword not found.</p> |"
      ],
      "text/plain": [
       "<IPython.core.display.Markdown object>"
      ]
     },
     "metadata": {},
     "output_type": "display_data"
    },
    {
     "data": {
      "text/markdown": [
       "\n",
       "|||\n",
       "|---:|:---|\n",
       "| [![arXiv](https://img.shields.io/badge/arXiv-arXiv:2302.02722-b31b1b.svg)](https://arxiv.org/abs/arXiv:2302.02722) | **Pulsar Scintillation Studies with LOFAR: II. Dual-frequency scattering  study of PSR J0826+2637 with LOFAR and NenuFAR**  |\n",
       "|| Ziwei Wu, et al. -- incl., <mark>Yulan Liu</mark>, <mark>Michael Kramer</mark> |\n",
       "|*Appeared on*| *2023-02-07*|\n",
       "|*Comments*| *Accepted for publication in MNRAS*|\n",
       "|**Abstract**| Interstellar scattering (ISS) of radio pulsar emission can be used as a probe of the ionised interstellar medium (IISM) and causes corruptions in pulsar timing experiments. Two types of ISS phenomena (intensity scintillation and pulse broadening) are caused by electron density fluctuations on small scales (< 0.01 AU). Theory predicts that these are related, and both have been widely employed to study the properties of the IISM. Larger scales ($\\sim$1-100\\,AU) cause measurable changes in dispersion and these can be correlated with ISS observations to estimate the fluctuation spectrum over a very wide scale range. IISM measurements can often be modeled by a homogeneous power-law spatial spectrum of electron density with the Kolmogorov ($-11/3$) spectral exponent. Here we aim to test the validity of using the Kolmogorov exponent with PSR~J0826+2637. We do so using observations of intensity scintillation, pulse broadening and dispersion variations across a wide fractional bandwidth (20 -- 180\\,MHz). We present that the frequency dependence of the intensity scintillation in the high frequency band matches the expectations of a Kolmogorov spectral exponent but the pulse broadening in the low frequency band does not change as rapidly as predicted with this assumption. We show that this behavior is due to an inhomogeneity in the scattering region, specifically that the scattering is dominated by a region of transverse size $\\sim$40\\,AU. The power spectrum of the electron density, however, maintains the Kolmogorov spectral exponent from spatial scales of 5$\\times10^{-6}$\\,AU to $\\sim$100\\,AU. |\n",
       "|<p style=\"color:green\"> **ERROR** </p>| <p style=\"color:green\">affiliation error: mpia.affiliation_verifications: 'Heidelberg' keyword not found.</p> |"
      ],
      "text/plain": [
       "<IPython.core.display.Markdown object>"
      ]
     },
     "metadata": {},
     "output_type": "display_data"
    },
    {
     "data": {
      "text/markdown": [
       "\n",
       "|||\n",
       "|---:|:---|\n",
       "| [![arXiv](https://img.shields.io/badge/arXiv-arXiv:2302.02723-b31b1b.svg)](https://arxiv.org/abs/arXiv:2302.02723) | **Multi-frequency VLBI observations of maser lines during the 6.7~GHz  maser flare in the high-mass young stellar object G24.33$+$0.14}**  |\n",
       "|| A. Kobak, et al. -- incl., <mark>R.A. Burns</mark>, <mark>S.P. van den Heever</mark> |\n",
       "|*Appeared on*| *2023-02-07*|\n",
       "|*Comments*| *Accepted by A\\&A*|\n",
       "|**Abstract**| Recent studies have shown that 6.7 GHz methanol maser flares can be a powerful tool for verifying the mechanisms of maser production and even the specific signatures of accretion rate changes in the early stages of high-mass star formation. We characterize the spatial structure and evolution of methanol and water masers during a flare of methanol maser emission at 6.7 GHz in the HMYSO G24.33$+$0.14. VLBA was used to image the 6.7 and 12.2 GHz methanol and 22.2 GHz water vapor masers at three epochs guided by monitoring the methanol line with the Torun 32m telescope. The 6.7 GHz maser maps were also obtained with the EVN and LBA during the flare. WISE data were used to find correlations between the 6.7 GHz maser and IR fluxes. The 6.7 GHz methanol maser cloudlets are distributed over $\\sim$3500 au, and the morphology of most of them is stable although their brightness varies following the course of the total flux density on a timescale of two months. The 12.2 GHz methanol maser cloudlets cover an area an order of magnitude smaller than that of 6.7 GHz emission, and both transitions emerge from the same masing gas. The 22.2 GHz maser cloudlets lie in the central region and show a systematic increase in brightness and moderate changes in size and orientation, together with the velocity drift of the strongest cloudlet during two months of the VLBI observing period. Time lag estimates imply the propagation of changes in the physical conditions of the masing region with a subluminal speed ($\\sim$0.3c). A tight correlation of IR (4.6$\\mu$m) and 6.7 GHz flux densities is found, supporting the radiative pumping model. Comparison with the 230 GHz ALMA data indicates that the methanol masers are distributed in the inner part of the rotating disk, whereas the 22.2 GHz emission traces the compact inner component of the bipolar outflow or a jet structure. |\n",
       "|<p style=\"color:green\"> **ERROR** </p>| <p style=\"color:green\">affiliation error: mpia.affiliation_verifications: 'Heidelberg' keyword not found.</p> |"
      ],
      "text/plain": [
       "<IPython.core.display.Markdown object>"
      ]
     },
     "metadata": {},
     "output_type": "display_data"
    },
    {
     "data": {
      "text/markdown": [
       "\n",
       "|||\n",
       "|---:|:---|\n",
       "| [![arXiv](https://img.shields.io/badge/arXiv-arXiv:2302.02739-b31b1b.svg)](https://arxiv.org/abs/arXiv:2302.02739) | **Envelopes for orbits around axially symmetric sources with spheroidal  shape**  |\n",
       "|| <mark>Javier Ramos-Caro</mark>, Ronaldo S. S. Vieira |\n",
       "|*Appeared on*| *2023-02-07*|\n",
       "|*Comments*| *7 pages, 12 figures, submitted to MNRAS in 06/02/2023*|\n",
       "|**Abstract**| We introduce a method to obtain the envelopes of eccentric orbits in axially symmetric potentials, $\\Phi(R,z)$, endowed with $z$-symmetry of reflection. By making the transformation $z\\rightarrow a+\\sqrt{a^{2}+ z^{2}}$, with $a>0$, we compute the resulting mass density, referred here as the \\emph{effective density} $\\rho_{\\rm ef}(R,z;a)$, in order to calculate the envelopes $Z(R)$ of orbits in the meridional plane $(R,z)$. We find that they obey the approximated formula $Z(R)\\propto [\\Sigma_{\\rm ef}(R;a\\approx 0)]^{-1/3}$, where $\\Sigma_{\\rm ef}(R;a)$ is the integrated surface density associated with $\\rho_{\\rm ef}(R,z;a)$. As examples we consider the dynamics in two potentials: the monopole plus quadrupole and the Kalnajs disc. |\n",
       "|<p style=\"color:green\"> **ERROR** </p>| <p style=\"color:green\">affiliation error: mpia.affiliation_verifications: 'Heidelberg' keyword not found.</p> |"
      ],
      "text/plain": [
       "<IPython.core.display.Markdown object>"
      ]
     },
     "metadata": {},
     "output_type": "display_data"
    },
    {
     "data": {
      "text/markdown": [
       "\n",
       "|||\n",
       "|---:|:---|\n",
       "| [![arXiv](https://img.shields.io/badge/arXiv-arXiv:2302.02750-b31b1b.svg)](https://arxiv.org/abs/arXiv:2302.02750) | **A detection of the layered structure of nearby open clusters**  |\n",
       "|| Qingshun Hu, et al. -- incl., <mark>Yu Zhang</mark> |\n",
       "|*Appeared on*| *2023-02-07*|\n",
       "|*Comments*| *11 pages, 9 figures, 6 tables, accepted for publication in A&A*|\n",
       "|**Abstract**| We applied the newly developed rose diagram overlay method to detect the layered structure of 88 nearby open clusters ($\\leq$500~pc) on the three projections after the distance correction of their member stars, based on the catalog in literature. The results show that with the rose diagram overlay method, a total of 74 clusters in our sample have a layered structure, while the remaining clusters are without a clear layered structure. We for the first time defined the layered structure parameters for the sample clusters. Meanwhile, we found that the layered circle core area ($s$) has a strong positive correlation with the number of cluster members, while the kernel instability index ($\\eta$) has a strong negative correlation with the number of cluster members. Our study provides a novel perspective for the detection of the layered structure of open clusters. |\n",
       "|<p style=\"color:green\"> **ERROR** </p>| <p style=\"color:green\">affiliation error: mpia.affiliation_verifications: 'Heidelberg' keyword not found.</p> |"
      ],
      "text/plain": [
       "<IPython.core.display.Markdown object>"
      ]
     },
     "metadata": {},
     "output_type": "display_data"
    },
    {
     "data": {
      "text/markdown": [
       "\n",
       "|||\n",
       "|---:|:---|\n",
       "| [![arXiv](https://img.shields.io/badge/arXiv-arXiv:2302.02854-b31b1b.svg)](https://arxiv.org/abs/arXiv:2302.02854) | **NA-SODINN: a deep learning algorithm for exoplanet image detection based  on residual noise regimes**  |\n",
       "|| Carles Cantero, Olivier Absil, <mark>Carl-Henrik Dahlqvist</mark>, Marc Van Droogenbroeck |\n",
       "|*Appeared on*| *2023-02-07*|\n",
       "|*Comments*| *Submitted to A&A journal.Comments on the submitted version are welcome*|\n",
       "|**Abstract**| Supervised machine learning was recently introduced in high-contrast imaging (HCI) through the SODINN algorithm, a convolutional neural network designed for exoplanet detection in angular differential imaging (ADI) data sets. The benchmarking of HCI algorithms within the Exoplanet Imaging Data Challenge (EIDC) showed that (i) SODINN can produce a high number of false positives in the final detection maps, and (ii) algorithms processing images in a more local manner perform better. This work aims to improve the SODINN detection performance by introducing new local processing approaches and adapting its learning process accordingly. We propose NA-SODINN, a new deep learning architecture that better captures image noise correlations by training an independent SODINN model per noise regime over the processed frame. The identification of these noise regimes is based on a novel technique, named PCA-pmaps, which allows to estimate the distance from the star in the image from which background noise starts to dominate over residual speckle noise. NA-SODINN is also fed with local discriminators, such as S/N curves, which complement spatio-temporal feature maps when training the model.Our new approach is tested against its predecessor, as well as two SODINN-based hybrid models and a more standard annular-PCA approach, through local ROC analysis of ADI sequences from VLT/SPHERE and Keck/NIRC-2 instruments. Results show that NA-SODINN enhances SODINN in both the sensitivity and specificity, especially in the speckle-dominated noise regime. NA-SODINN is also benchmarked against the complete set of submitted detection algorithms in EIDC, in which we show that its final detection score matches or outperforms the most powerful detection algorithms, reaching a performance similar to that of the Regime Switching Model algorithm. |\n",
       "|<p style=\"color:green\"> **ERROR** </p>| <p style=\"color:green\">affiliation error: mpia.affiliation_verifications: 'Heidelberg' keyword not found.</p> |"
      ],
      "text/plain": [
       "<IPython.core.display.Markdown object>"
      ]
     },
     "metadata": {},
     "output_type": "display_data"
    },
    {
     "data": {
      "text/markdown": [
       "\n",
       "|||\n",
       "|---:|:---|\n",
       "| [![arXiv](https://img.shields.io/badge/arXiv-arXiv:2302.02897-b31b1b.svg)](https://arxiv.org/abs/arXiv:2302.02897) | **Understanding and predicting cadence effects in the characterization of  exoplanet transits**  |\n",
       "|| <mark>Julio Hernandez Camero</mark>, Cynthia S. K. Ho, Vincent Van Eylen |\n",
       "|*Appeared on*| *2023-02-07*|\n",
       "|*Comments*| *15 pages, 9 figures. Accepted for publication in MNRAS*|\n",
       "|**Abstract**| We investigate the effect of observing cadence on the precision of radius ratio values obtained from transit light curves by performing uniform Markov Chain Monte Carlo fits of 46 exoplanets observed by the Transiting Exoplanet Survey Satellite (TESS) in multiple cadences. We find median improvements of almost 50% when comparing fits to 20s and 120s cadence light curves to 1800s cadence light curves, and of 37% when comparing 600s cadence to 1800s cadence. Such improvements in radius precision are important, for example, to precisely constrain the properties of the radius valley or to characterize exoplanet atmospheres. We also implement a numerical Information Analysis to predict the precision of parameter estimates for different observing cadences. We tested this analysis on our sample and found it reliably predicts the effect of shortening observing cadence with errors in the predicted % precision of <0,5% for most cases. We apply this method to 157 TESS object of interest that have only been observed with 1800s cadence to predict the precision improvement that could be obtained by reobservations with shorter cadences and provide the full table of expected improvements. We report the 10 planet candidates that would benefit the most from reobservations at short cadence. Our implementation of the Information Analysis for the prediction of the precision of exoplanet parameters, Prediction of Exoplanet Precisions using Information in Transit Analysis (PEPITA) is made publicly available. |\n",
       "|<p style=\"color:green\"> **ERROR** </p>| <p style=\"color:green\">affiliation error: mpia.affiliation_verifications: 'Heidelberg' keyword not found.</p> |"
      ],
      "text/plain": [
       "<IPython.core.display.Markdown object>"
      ]
     },
     "metadata": {},
     "output_type": "display_data"
    },
    {
     "data": {
      "text/markdown": [
       "\n",
       "|||\n",
       "|---:|:---|\n",
       "| [![arXiv](https://img.shields.io/badge/arXiv-arXiv:2302.02915-b31b1b.svg)](https://arxiv.org/abs/arXiv:2302.02915) | **Modelling the 2022 τ-Herculid outburst**  |\n",
       "|| Auriane Egal, Paul A. Wiegert, <mark>Peter G. Brown</mark>, Denis Vida |\n",
       "|*Appeared on*| *2023-02-07*|\n",
       "|*Comments*| *Accepted for publication in the Astrophysical Journal (Feb. 3, 2023)*|\n",
       "|**Abstract**| The $\\tau$-Herculids (IAU shower number #61 TAH) is a minor meteor shower associated with comet 73P/Schwassmann-Wachmann 3, a Jupiter-Family comet that disintegrated into several fragments in 1995. As a consequence of the nucleus break-up, possible increased meteor rates were predicted for 2022. On May 30-31, observation networks around the world reported two distinct peaks of TAH activity, around solar longitudes 69.02{\\deg} and 69.42{\\deg}. This work examines the encounter conditions of the Earth with meteoroids ejected from 73P during the splitting event and on previous perihelion passages. Numerical simulations suggest that the main peak observed in 2022 was caused by meteoroids ejected from the splitting nucleus with four times the typical cometary gas expansion speed. High-resolution measurements performed with the Canadian Automated Meteor Observatory indicate that these meteoroids are fragile, with estimated bulk densities of 250 kg/m$^3$. In contrast with the main peak, the first TAH activity peak in 2022 is best modelled with trails ejected prior to 1960. We find that ordinary cometary activity could have produced other TAH apparitions observed in the past, including in 1930 and 2017. The extension of our model to future years predicts significant returns of the shower in 2033 and 2049. |\n",
       "|<p style=\"color:green\"> **ERROR** </p>| <p style=\"color:green\">affiliation error: mpia.affiliation_verifications: 'Heidelberg' keyword not found.</p> |"
      ],
      "text/plain": [
       "<IPython.core.display.Markdown object>"
      ]
     },
     "metadata": {},
     "output_type": "display_data"
    },
    {
     "data": {
      "text/markdown": [
       "\n",
       "|||\n",
       "|---:|:---|\n",
       "| [![arXiv](https://img.shields.io/badge/arXiv-arXiv:2302.02927-b31b1b.svg)](https://arxiv.org/abs/arXiv:2302.02927) | **Handling Background in IXPE polarimetric data**  |\n",
       "|| Alessandro Di Marco, et al. -- incl., <mark>Fei Xie</mark> |\n",
       "|*Appeared on*| *2023-02-07*|\n",
       "|*Comments*| **|\n",
       "|**Abstract**| IXPE (Imaging X-ray Polarimetry Explorer) is a Small Explorer mission by NASA and ASI, launched on December 9$^{th}$ 2021, dedicated to investigating X-ray polarimetry allowing angular-, time- and energy-resolved observations in the 2--8 keV energy band. IXPE is in Science Observation phase since January 2022; it comprises of three identical telescopes with grazing-incidence mirrors, each one having in the focal plane a Gas Pixel Detector (GPD). In this paper, we present a possible guideline to obtain an optimal background selection in polarimetric analysis, and a rejection strategy to remove instrumental background. This work is based on the analysis of IXPE observations, aiming to improve as much as possible the polarimetric sensitivity. In particular, the developed strategies have been applied ``as a case study'' to the IXPE observation of the 4U 0142+61 magnetar. |\n",
       "|<p style=\"color:green\"> **ERROR** </p>| <p style=\"color:green\">affiliation error: mpia.affiliation_verifications: 'Heidelberg' keyword not found.</p> |"
      ],
      "text/plain": [
       "<IPython.core.display.Markdown object>"
      ]
     },
     "metadata": {},
     "output_type": "display_data"
    },
    {
     "data": {
      "text/markdown": [
       "\n",
       "|||\n",
       "|---:|:---|\n",
       "| [![arXiv](https://img.shields.io/badge/arXiv-arXiv:2302.02802-b31b1b.svg)](https://arxiv.org/abs/arXiv:2302.02802) | **A Systematic Search for Short-period Close White Dwarf Binary Candidates  Based on Gaia EDR3 Catalog and Zwicky Transient Facility Data**  |\n",
       "|| <mark>Liangliang Ren</mark>, et al. -- incl., <mark>Chengyuan Li</mark> |\n",
       "|*Appeared on*| *2023-02-07*|\n",
       "|*Comments*| *40 pages, 20 figures*|\n",
       "|**Abstract**| Galactic short-period close white dwarf binaries (CWDBs) are important objects for space-borne gravitational-wave (GW) detectors in the millihertz frequency bands. Due to the intrinsically low luminosity, only about 25 identified CWDBs are detectable by the Laser Interferometer Space Antenna (LISA), which are also known as verification binaries (VBs). The Gaia Early Data Release 3 (EDR3) provids a catalog containing a large number of CWDB candidates, which also includes parallax and photometry measurements. We crossmatch the Gaia EDR3 and Zwicky Transient Facility public data release 8, and apply period-finding algorithms to obtain a sample of periodic variables. The phase-folded light curves are inspected, and finally we obtain a binary sample containing 429 CWDB candidates. We further classify the samples into eclipsing binaries (including 58 HW Vir-type binaries, 65 EA-type binaries, 56 EB-type binaries, and 41 EW-type binaries) and ellipsoidal variations (209 ELL-type binaries). We discovered four ultrashort period binary candidates with unique light-curve shapes. We estimate the GW amplitude of all of our binary candidates, and calculate the corresponding signal-to-noise ratio (S/N) for TianQin and LISA. We find two (six) potential GW candidates with S/Ns greater than 5 in the nominal mission time of TianQin (LISA), which increases the total number of candidate VBs for TianQin (LISA) to 18 (31). |\n",
       "|<p style=\"color:green\"> **ERROR** </p>| <p style=\"color:green\">affiliation error: mpia.affiliation_verifications: 'Planck' keyword not found.</p> |"
      ],
      "text/plain": [
       "<IPython.core.display.Markdown object>"
      ]
     },
     "metadata": {},
     "output_type": "display_data"
    },
    {
     "data": {
      "text/markdown": [
       "\n",
       "|||\n",
       "|---:|:---|\n",
       "| [![arXiv](https://img.shields.io/badge/arXiv-arXiv:2302.02359-b31b1b.svg)](https://arxiv.org/abs/arXiv:2302.02359) | **A Real-Time Re-Scheduling Algorithm for Spacecraft Instrument Operations  Optimization**  |\n",
       "|| J. Pergoli, et al. -- incl., <mark>P. Di Lizia</mark> |\n",
       "|*Appeared on*| *2023-02-07*|\n",
       "|*Comments*| **|\n",
       "|**Abstract**| The operation-planning of satellites, aimed at introducing a certain level of supervised automation during the execution of the operations, poses a great challenge to both designers and operators. From one side, the routine operations for an Earth Observation mission are predictable and typically repeatable; both these aspects are suitable for computerisation. On the other hand, not every non-nominal scenario can be anticipated and correctly formulated in terms of operations. Dealing with contingency presents risks which need to be addressed as early as possible, hopefully already during the operations preparation. It is also possible, however, to intervene at a later operational stage of the mission, optimising the tools already in use to support the operations execution. In this paper, having in mind the idea to improve existing processes in place at EUMETSAT, we present an algorithm able to reschedule the spacecraft's activities in case of anomaly. The main goal is to support the decision-making process while overcoming contingencies both avoiding overloading the spacecraft and planning engineers and ensuring the continuity of the mission, in particular giving the highest priority to the onboard computer memory size and data quality. We tested the method with the data of Sentinel-6, which carries the altimeter POSEIDON-4 operated by EUMETSAT, and the results are hereby presented. |\n",
       "|<p style=\"color:red\"> **ERROR** </p>| <p style=\"color:red\">latex error not a gzip file</p> |"
      ],
      "text/plain": [
       "<IPython.core.display.Markdown object>"
      ]
     },
     "metadata": {},
     "output_type": "display_data"
    }
   ],
   "source": [
    "import datetime\n",
    "today = str(datetime.date.today())\n",
    "logfile = f\"_build/html/logs/log-{today}.md\"\n",
    "\n",
    "\n",
    "with open(logfile, 'w') as logs:\n",
    "    # Success\n",
    "    logs.write(f'# Arxiv on Deck 2: Logs - {today}\\n\\n')\n",
    "    logs.write(\"\"\"* Arxiv had {0:,d} new papers\\n\"\"\".format(len(new_papers)))\n",
    "    logs.write(\"\"\"    * {0:,d} with possible author matches\\n\\n\"\"\".format(len(candidates)))\n",
    "    logs.write(\"## Sucessful papers\\n\\n\")\n",
    "    display(Markdown(\"## Successful papers\"))\n",
    "    success = [k[0] for k in documents]\n",
    "    for candid in candidates:\n",
    "        if candid['identifier'].split(':')[-1] in success:\n",
    "            display(candid)\n",
    "            logs.write(candid.generate_markdown_text() + '\\n\\n')\n",
    "\n",
    "    ## failed\n",
    "    logs.write(\"## Failed papers\\n\\n\")\n",
    "    display(Markdown(\"## Failed papers\"))\n",
    "    failed = sorted(failed, key=lambda x: x[1])\n",
    "    current_reason = \"\"\n",
    "    for paper, reason in failed:\n",
    "        if 'affiliation' in reason:\n",
    "            color = 'green'\n",
    "        else:\n",
    "            color = 'red'\n",
    "        data = Markdown(\n",
    "                paper.generate_markdown_text() + \n",
    "                f'\\n|<p style=\"color:{color:s}\"> **ERROR** </p>| <p style=\"color:{color:s}\">{reason:s}</p> |'\n",
    "               )\n",
    "        if reason != current_reason:\n",
    "            logs.write(f'### {reason:s} \\n\\n')\n",
    "            current_reason = reason\n",
    "        logs.write(data.data + '\\n\\n')\n",
    "        \n",
    "        # only display here the important errors (all in logs)\n",
    "        # if color in ('red',):\n",
    "        display(data)"
   ]
  },
  {
   "cell_type": "markdown",
   "id": "472d20ee",
   "metadata": {
    "papermill": {
     "duration": 0.010598,
     "end_time": "2023-02-07T04:08:58.265633",
     "exception": false,
     "start_time": "2023-02-07T04:08:58.255035",
     "status": "completed"
    },
    "tags": []
   },
   "source": [
    "## Export documents\n",
    "\n",
    "We now write the .md files and export relevant images"
   ]
  },
  {
   "cell_type": "code",
   "execution_count": 7,
   "id": "d426aed9",
   "metadata": {
    "execution": {
     "iopub.execute_input": "2023-02-07T04:08:58.288917Z",
     "iopub.status.busy": "2023-02-07T04:08:58.288171Z",
     "iopub.status.idle": "2023-02-07T04:08:58.295707Z",
     "shell.execute_reply": "2023-02-07T04:08:58.295033Z"
    },
    "papermill": {
     "duration": 0.020751,
     "end_time": "2023-02-07T04:08:58.297184",
     "exception": false,
     "start_time": "2023-02-07T04:08:58.276433",
     "status": "completed"
    },
    "tags": []
   },
   "outputs": [],
   "source": [
    "def export_markdown_summary(md: str, md_fname:str, directory: str):\n",
    "    \"\"\"Export MD document and associated relevant images\"\"\"\n",
    "    import os\n",
    "    import shutil\n",
    "    import re\n",
    "\n",
    "    if (os.path.exists(directory) and not os.path.isdir(directory)):\n",
    "        raise RuntimeError(f\"a non-directory file exists with name {directory:s}\")\n",
    "\n",
    "    if (not os.path.exists(directory)):\n",
    "        print(f\"creating directory {directory:s}\")\n",
    "        os.mkdir(directory)\n",
    "\n",
    "    fig_fnames = (re.compile(r'\\[Fig.*\\]\\((.*)\\)').findall(md) + \n",
    "                  re.compile(r'\\<img src=\"([^>\\s]*)\"[^>]*/>').findall(md))\n",
    "    for fname in fig_fnames:\n",
    "        if 'http' in fname:\n",
    "            # No need to copy online figures\n",
    "            continue\n",
    "        destdir = os.path.join(directory, os.path.dirname(fname))\n",
    "        destfname = os.path.join(destdir, os.path.basename(fname))\n",
    "        try:\n",
    "            os.makedirs(destdir)\n",
    "        except FileExistsError:\n",
    "            pass\n",
    "        shutil.copy(fname, destfname)\n",
    "    with open(os.path.join(directory, md_fname), 'w') as fout:\n",
    "        fout.write(md)\n",
    "    print(\"exported in \", os.path.join(directory, md_fname))\n",
    "    [print(\"    + \" + os.path.join(directory,fk)) for fk in fig_fnames]"
   ]
  },
  {
   "cell_type": "code",
   "execution_count": 8,
   "id": "014d04a4",
   "metadata": {
    "execution": {
     "iopub.execute_input": "2023-02-07T04:08:58.319715Z",
     "iopub.status.busy": "2023-02-07T04:08:58.319244Z",
     "iopub.status.idle": "2023-02-07T04:08:58.327565Z",
     "shell.execute_reply": "2023-02-07T04:08:58.326906Z"
    },
    "papermill": {
     "duration": 0.021236,
     "end_time": "2023-02-07T04:08:58.329059",
     "exception": false,
     "start_time": "2023-02-07T04:08:58.307823",
     "status": "completed"
    },
    "tags": []
   },
   "outputs": [
    {
     "name": "stdout",
     "output_type": "stream",
     "text": [
      "exported in  _build/html/2302.02429.md\n",
      "    + _build/html/tmp_2302.02429/./fig_density_v20230121.png\n",
      "    + _build/html/tmp_2302.02429/./plot_lf_v20230121.png\n",
      "    + _build/html/tmp_2302.02429/./fig_mag_reshift_v20230121.png\n",
      "exported in  _build/html/2302.02611.md\n",
      "    + _build/html/tmp_2302.02611/./internal-x-validation-XGBoost.png\n",
      "    + _build/html/tmp_2302.02611/./Praesepe-MH-vs-colour.png\n",
      "    + _build/html/tmp_2302.02611/./skymap-mh-slice-A.png\n",
      "    + _build/html/tmp_2302.02611/./skymap-mh-slice-B.png\n",
      "    + _build/html/tmp_2302.02611/./skymap-mh-slice-C.png\n",
      "    + _build/html/tmp_2302.02611/./skymap-vetted-mh-slice-A.png\n",
      "    + _build/html/tmp_2302.02611/./skymap-vetted-mh-slice-B.png\n",
      "    + _build/html/tmp_2302.02611/./skymap-vetted-mh-slice-C.png\n",
      "exported in  _build/html/2302.02890.md\n",
      "    + _build/html/tmp_2302.02890/./CMD.png\n",
      "    + _build/html/tmp_2302.02890/./res_fit.png\n",
      "    + _build/html/tmp_2302.02890/./KLFs.png\n"
     ]
    }
   ],
   "source": [
    "for paper_id, md in documents:\n",
    "    export_markdown_summary(md, f\"{paper_id:s}.md\", '_build/html/')"
   ]
  },
  {
   "cell_type": "markdown",
   "id": "f087a0a7",
   "metadata": {
    "papermill": {
     "duration": 0.010573,
     "end_time": "2023-02-07T04:08:58.350335",
     "exception": false,
     "start_time": "2023-02-07T04:08:58.339762",
     "status": "completed"
    },
    "tags": []
   },
   "source": [
    "## Display the papers\n",
    "\n",
    "Not necessary but allows for a quick check."
   ]
  },
  {
   "cell_type": "code",
   "execution_count": 9,
   "id": "fd25f625",
   "metadata": {
    "execution": {
     "iopub.execute_input": "2023-02-07T04:08:58.372916Z",
     "iopub.status.busy": "2023-02-07T04:08:58.372337Z",
     "iopub.status.idle": "2023-02-07T04:08:58.382561Z",
     "shell.execute_reply": "2023-02-07T04:08:58.382066Z"
    },
    "papermill": {
     "duration": 0.024198,
     "end_time": "2023-02-07T04:08:58.385114",
     "exception": false,
     "start_time": "2023-02-07T04:08:58.360916",
     "status": "completed"
    },
    "scrolled": false,
    "tags": []
   },
   "outputs": [
    {
     "data": {
      "text/markdown": [
       "<div class=\"macros\" style=\"visibility:hidden;\">\n",
       "$\\newcommand{\\ensuremath}{}$\n",
       "$\\newcommand{\\xspace}{}$\n",
       "$\\newcommand{\\object}[1]{\\texttt{#1}}$\n",
       "$\\newcommand{\\farcs}{{.}''}$\n",
       "$\\newcommand{\\farcm}{{.}'}$\n",
       "$\\newcommand{\\arcsec}{''}$\n",
       "$\\newcommand{\\arcmin}{'}$\n",
       "$\\newcommand{\\ion}[2]{#1#2}$\n",
       "$\\newcommand{\\textsc}[1]{\\textrm{#1}}$\n",
       "$\\newcommand{\\hl}[1]{\\textrm{#1}}$\n",
       "$\\newcommand{\\lucacomment}[1]{{\\color{magenta} [{#1}]}}$\n",
       "$\\newcommand{\\luca}[1]{\\lucacomment{{\\bf #1}}}$\n",
       "$\\newcommand{\\mariannacomment}[1]{{\\color{blue} [{#1}]}}$\n",
       "$\\newcommand{\\MA}[1]{\\mariannacomment{{\\bf #1}}}$\n",
       "$\\newcommand{\\danial}[1]{{\\color{teal}{#1}}}$\n",
       "$\\newcommand{\\johncomment}[1]{{\\color{green} [{#1}]}}$\n",
       "$\\newcommand{\\john}[1]{\\johncomment{{\\bf #1}}}$\n",
       "$\\newcommand{\\vdag}{(v)^\\dagger}$\n",
       "$\\newcommand$\n",
       "$\\newcommand$</div>\n",
       "\n",
       "<div class=\"macros\" style=\"visibility:hidden;\">\n",
       "$\\newcommand{$\\ensuremath$}{}$\n",
       "$\\newcommand{$\\xspace$}{}$\n",
       "$\\newcommand{$\\object$}[1]{\\texttt{#1}}$\n",
       "$\\newcommand{$\\farcs$}{{.}''}$\n",
       "$\\newcommand{$\\farcm$}{{.}'}$\n",
       "$\\newcommand{$\\arcsec$}{''}$\n",
       "$\\newcommand{$\\arcmin$}{'}$\n",
       "$\\newcommand{$\\ion$}[2]{#1#2}$\n",
       "$\\newcommand{$\\textsc$}[1]{\\textrm{#1}}$\n",
       "$\\newcommand{$\\hl$}[1]{\\textrm{#1}}$\n",
       "$\\newcommand{$\\lucacomment$}[1]{{\\color{magenta} [{#1}]}}$\n",
       "$\\newcommand{$\\luca$}[1]{$\\lucacomment${{\\bf #1}}}$\n",
       "$\\newcommand{$\\mariannacomment$}[1]{{\\color{blue} [{#1}]}}$\n",
       "$\\newcommand{$\\MA$}[1]{$\\mariannacomment${{\\bf #1}}}$\n",
       "$\\newcommand{$\\danial$}[1]{{\\color{teal}{#1}}}$\n",
       "$\\newcommand{$\\johncomment$}[1]{{\\color{green} [{#1}]}}$\n",
       "$\\newcommand{$\\john$}[1]{$\\johncomment${{\\bf #1}}}$\n",
       "$\\newcommand{$\\vdag$}{(v)^\\dagger}$\n",
       "$\\newcommand$\n",
       "$\\newcommand$</div>\n",
       "\n",
       "\n",
       "\n",
       "<div id=\"title\">\n",
       "\n",
       "#  with the NIRCam parallel field of the MIRI Deep Survey\n",
       "\n",
       "</div>\n",
       "<div id=\"comments\">\n",
       "\n",
       "[![arXiv](https://img.shields.io/badge/arXiv-2302.02429-b31b1b.svg)](https://arxiv.org/abs/2302.02429)<mark>Appeared on: 2023-02-07</mark> - _Submitted to ApJL, in memoriam Hans Ulrik Noorgaard-Nielsen and Olivier Le F\\`evre_\n",
       "\n",
       "</div>\n",
       "<div id=\"authors\">\n",
       "\n",
       "Pablo G. P\\'erez-Gonz\\'alez, et al. -- incl., <mark>Danial Langeroodi</mark>, <mark>Almudena Alonso-Herrero</mark>, <mark>Fabian Walter</mark>, <mark>Sarah E.~I.~Bosman</mark>\n",
       "\n",
       "</div>\n",
       "<div id=\"abstract\">\n",
       "\n",
       "**Abstract:** We present the ultraviolet luminosity function and an estimate of the cosmic star formation rate density at$8<z<13$derived from deep NIRCam observations taken in parallel with the MIRI Deep Survey (MDS) of the Hubble Ultra Deep Field (HUDF), NIRCam covering the parallel field 2 (HUDF-P2). Our deep (40 hours) NIRCam observations reach a$F277W$magnitude of 32 at the$5\\sigma$level, more than 2 magnitudes deeper than JWST public datasets already analyzed to find high redshift galaxies. We select a sample of 45$z>8$galaxy candidates based on their dropout nature in the$F115W$and/or$F150W$filters, a high probability for their photometric redshifts, estimated with three different codes, being at$z>8$, good fits based on$\\chi^2$calculations, and predominant solutions compared to$z<8$alternatives. We find mild evolution in the luminosity function from$z\\sim13$to$z\\sim8$, i.e., only a small increase in the average number density of$\\sim$0.2 dex, while the faint-end slope and absolute magnitude of the knee remain approximately constant, with values$\\alpha=-2.3\\pm0.2$and$M^*=-20.8\\pm0.2$mag. Comparing our results with the predictions of a wide range of state-of-the-art galaxy evolution models, we find two main results: (1) a slower increase with time in the cosmic star formation rate density compared to a steeper rise predicted by models; (2) nearly a factor of 10 higher star formation activity concentrated in scales around 2 kpc in galaxies with stellar masses$\\sim10^8$M$_\\odot$during the first 350 Myr of the Universe ($z\\sim12$), with models matching better the observations$\\sim$150 Myr later, by$z\\sim9$.\n",
       "\n",
       "</div>\n",
       "\n",
       "<div id=\"div_fig1\">\n",
       "\n",
       "<img src=\"tmp_2302.02429/./fig_density_v20230121.png\" alt=\"Fig4\" width=\"100%\"/>\n",
       "\n",
       "**Figure 4. -** \\label{fig:density}Evolution of the UV luminosity density, transformed into SFR density on the right vertical axis (assuming a \\citealt{2003PASP..115..763C} IMF). Our results are plotted with a red shaded region. Estimates from the literature are plotted with gray symbols \\citep{2018ApJ...855..105O,2022arXiv221206683B,2022arXiv221102607B,2023MNRAS.518.6011D,2022arXiv220801612H}. We also plot predictions from several galaxy formation simulations, listed in the following lines. The Illustris-1, {\\sc TNG50, TNG100, TNG300} results are plotted with blue continuous, dashed, dotted, and dash-dotted lines, respectively, all  referring to SFRs measured in 0.5$\\arcsec$  diameter apertures for $\\mathrm{M\\!_\\star}>10^{7}$ M$_\\odot$ galaxies, except for {\\sc TNG300}, cut at $\\mathrm{M\\!_\\star}>10^{8}$ M$_\\odot$). The thick dotted line refers to {\\sc TNG100} results using whole galaxy measurements \\citealt{2014MNRAS.444.1518V, 2015A&C....13...12N, 2018MNRAS.475..676S, 2018MNRAS.477.1206N, 2018MNRAS.480.5113M, 2018MNRAS.475..624N, 2018MNRAS.475..648P, 2019MNRAS.490.3196P,2019MNRAS.490.3234N}). The {\\sc EAGLE} simulations \\citep{2015MNRAS.446..521S,2015MNRAS.450.1937C} are plotted in green for galaxy samples cut in stellar masses $\\mathrm{M\\!_\\star}>10^{6,7,8}$ M$_\\odot$ in continuous, dotted, dashed lines. The {\\sc simba} predictions are shown with a brown continuous line for all galaxies, dashed line for $F277W<31$ mag sources \\citep{2019MNRAS.486.2827D}. The {\\sc thesan-1} and {\\sc thesan-sdao-2} simulations \\citep{2022MNRAS.511.4005K} are shown in magenta with continuous and dotted lines, respectively (see text for differences). The {\\sc FLARES} predictions are shown in cyan \\citep{2021MNRAS.500.2127L,2021MNRAS.501.3289V}. The  UniverseMachine semi-empirical model \\citep{2020MNRAS.499.5702B} is shown in orange with the same mass cuts and line styles mentioned for {\\sc EAGLE}. Finally, the models in \\citet{2022arXiv221103620M} are shown in yellow. (*fig:density*)\n",
       "\n",
       "</div>\n",
       "<div id=\"div_fig2\">\n",
       "\n",
       "<img src=\"tmp_2302.02429/./plot_lf_v20230121.png\" alt=\"Fig3\" width=\"100%\"/>\n",
       "\n",
       "**Figure 3. -** \\label{fig:lf}From left to right, UV luminosity functions at $z\\sim9$, $z\\sim11$ and $z\\sim12$. We plot our results with red hexagons (uncertainties smaller than data points in some cases, see Table \\ref{tab:lf}), and compare with literature estimations from \\citet{2023MNRAS.518.6011D,2022arXiv220709434N,2022arXiv221105792F,2022arXiv221206683B},  \\citet{2022arXiv220801612H}, and \\citet{2022arXiv221206666C}. We fit all points (ours and those in the literature) to a  \\citet{1976ApJ...203..297S} function, which is plotted with red continuous lines in each panel, with the fits for other redshifts shown with dashed lines. (*fig:lf*)\n",
       "\n",
       "</div>\n",
       "<div id=\"div_fig3\">\n",
       "\n",
       "<img src=\"tmp_2302.02429/./fig_mag_reshift_v20230121.png\" alt=\"Fig2\" width=\"100%\"/>\n",
       "\n",
       "**Figure 2. -** \\label{fig:z-mag}Magnitude in the NIRCam $F277W$ filter vs$.$ photometric redshift for $z>8$ galaxies. General galaxy samples extracted from the catalogs released by G. Brammer for the SMACS0723, GLASS, and CEERS datasets gathered in 2022 are plotted with blue small dots  to illustrate the magnitude limits of the surveys and the number of high-redshift galaxies in unsupervised and unvetted photometric catalogs. Our parent galaxy sample is plotted with red small dots, and the final sample of $z>8$ galaxy candidates with red hexagons. We depict $1\\sigma$ uncertainties plotted in both axes and the data point referring to the zPDF peak redshift. We also plot the photometric high-redshift galaxy candidates of \\citet{2023MNRAS.518.6011D}, \\citet{2022arXiv220709434N}, \\citet{2022arXiv221206683B}, and \\citet{2022arXiv221105792F} with large black circles (samples not providing $F277W$ magnitudes are not shown, e.g., \\citet{2022arXiv220801612H}, and we do not remove repeated sources with different measurements), as well as spectroscopically confirmed galaxies from JADES \\citep{2022arXiv221204568C,2022arXiv221204480R} and lensing clusters \\citep[][not corrected for magnification]{2023MNRAS.518L..45C,2022arXiv221015699W,2022arXiv221202491L,2022arXiv221015639R} in green. The top panel shows the histogram of redshifts for these samples of high-redshift galaxy candidates. The right panel shows the magnitude distribution of the different datasets mentioned before, with the three 2022 surveys plotted with  transparency. Our deeper data (peaking around 2 magnitudes fainter than previous surveys) probe the 29 to 31 mag regime, providing candidates at the previously unexplored faint-end of the luminosity functions. (*fig:z-mag*)\n",
       "\n",
       "</div>"
      ],
      "text/plain": [
       "<IPython.core.display.Markdown object>"
      ]
     },
     "metadata": {},
     "output_type": "display_data"
    },
    {
     "data": {
      "text/markdown": [
       "<div class=\"macros\" style=\"visibility:hidden;\">\n",
       "$\\newcommand{\\ensuremath}{}$\n",
       "$\\newcommand{\\xspace}{}$\n",
       "$\\newcommand{\\object}[1]{\\texttt{#1}}$\n",
       "$\\newcommand{\\farcs}{{.}''}$\n",
       "$\\newcommand{\\farcm}{{.}'}$\n",
       "$\\newcommand{\\arcsec}{''}$\n",
       "$\\newcommand{\\arcmin}{'}$\n",
       "$\\newcommand{\\ion}[2]{#1#2}$\n",
       "$\\newcommand{\\textsc}[1]{\\textrm{#1}}$\n",
       "$\\newcommand{\\hl}[1]{\\textrm{#1}}$\n",
       "$\\newcommand{\\vdag}{(v)^\\dagger}$\n",
       "$\\newcommand$\n",
       "$\\newcommand$\n",
       "$\\newcommand$\n",
       "$\\newcommand$\n",
       "$\\newcommand$\n",
       "$\\newcommand$</div>\n",
       "\n",
       "<div class=\"macros\" style=\"visibility:hidden;\">\n",
       "$\\newcommand{$\\ensuremath$}{}$\n",
       "$\\newcommand{$\\xspace$}{}$\n",
       "$\\newcommand{$\\object$}[1]{\\texttt{#1}}$\n",
       "$\\newcommand{$\\farcs$}{{.}''}$\n",
       "$\\newcommand{$\\farcm$}{{.}'}$\n",
       "$\\newcommand{$\\arcsec$}{''}$\n",
       "$\\newcommand{$\\arcmin$}{'}$\n",
       "$\\newcommand{$\\ion$}[2]{#1#2}$\n",
       "$\\newcommand{$\\textsc$}[1]{\\textrm{#1}}$\n",
       "$\\newcommand{$\\hl$}[1]{\\textrm{#1}}$\n",
       "$\\newcommand{$\\vdag$}{(v)^\\dagger}$\n",
       "$\\newcommand$\n",
       "$\\newcommand$\n",
       "$\\newcommand$\n",
       "$\\newcommand$\n",
       "$\\newcommand$\n",
       "$\\newcommand$</div>\n",
       "\n",
       "\n",
       "\n",
       "<div id=\"title\">\n",
       "\n",
       "# Robust Data-driven Metallicities for 120 Million Stars from Gaia XP Spectra\n",
       "\n",
       "</div>\n",
       "<div id=\"comments\">\n",
       "\n",
       "[![arXiv](https://img.shields.io/badge/arXiv-2302.02611-b31b1b.svg)](https://arxiv.org/abs/2302.02611)<mark>Appeared on: 2023-02-07</mark> - _18 pages, 17 figures, submitted to ApJS_\n",
       "\n",
       "</div>\n",
       "<div id=\"authors\">\n",
       "\n",
       "<mark>Ren\\'e Andrae</mark>, <mark>Hans-Walter Rix</mark>, Vedant Chandra\n",
       "\n",
       "</div>\n",
       "<div id=\"abstract\">\n",
       "\n",
       "**Abstract:** We derive and publish data-driven estimates of stellar metallicities\\MHfor$\\gtrsim 120$million stars with low-resolution XP spectra published in Gaia DR3.The\\MHvalues, along with\\Teffand\\logg,are derived using the XGBoost algorithm, trained on stellar parameters from APOGEE, augmented by a set of very metal-poor stars.XGBoost draws on a number of data features: the full set of XP spectral coefficients, narrowband fluxes derived from XP spectra, and broadband magnitudes.  In particular, we include AllWISE magnitudes, as they reduce the degeneracy of\\Teffand dust reddening.  We also include the parallax as a data feature, which helps constrain\\loggand\\MH. The resulting mean stellar parameter precision is 0.1 dex in\\MH, 50 K in\\Teff, and 0.08 dex in\\logg.This all-sky\\MHsample  is two orders of magnitude larger than published samples of comparable fidelity across$-3\\lesssim \\MH \\lesssim +0.5$.Additionally, we provide a catalog of over 13 million bright ($G<16$) red giants whose\\MHare vetted to be precise and pure.We present all-sky maps of the Milky Way in different\\MHregimes that illustrate the purity of the dataset, and demonstrate the power of this unprecedented sample to reveal the Milky Way's structure from its heart to its disk.\n",
       "\n",
       "</div>\n",
       "\n",
       "<div id=\"div_fig1\">\n",
       "\n",
       "<img src=\"tmp_2302.02611/./internal-x-validation-XGBoost.png\" alt=\"Fig14\" width=\"100%\"/>\n",
       "\n",
       "**Figure 14. -** Cross-validation of the XGBoost parameters derived from the XP spectra with SDSS-APOGEE DR17. The plots show the results of the twenty-fold cross-validation of the 5\\% portions of the training sample, withheld in the training. Rows from top to bottom show \\MH residuals, \\Teff residuals and \\logg residuals. Columns from left to right show residuals vs. APOGEE's \\MH, APOGEE's \\Teff, APOGEE's \\logg and Gaia's apparent $G_\\textrm{BP}$ magnitude. The numbers in the top right corners quote the median absolute difference (MedAD) and the root mean square difference (RMSD). The density map is logarithmic. These plots illustrate the remarkable precision of the approach: 0.10 dex in \\MH, 50K in \\Teff , and 0.08 dex in \\logg . Note that these variances still include all the uncertainties in the APOGEE estimates. (*fig:internal-x-validation-XGBoost*)\n",
       "\n",
       "</div>\n",
       "<div id=\"div_fig2\">\n",
       "\n",
       "<img src=\"tmp_2302.02611/./Praesepe-MH-vs-colour.png\" alt=\"Fig7\" width=\"100%\"/>\n",
       "\n",
       "**Figure 7. -** Validation of the \\MH estimates in the main sequence, using the Praesepe cluster. The cluster's color-magnitude diagram of all 640 members with \\MH is illustrated in panel (a). Their \\MH estimates are shown as a function of color in panel (b). The horizontal dashed line indicates the metallicity of 0.16 quoted by \\citet{2018A&A...618A..93C}. For $0.5<G_\\textrm{BP}-G_\\textrm{RP}<1.5$ the metallicity agreement is excellent, whereas for $1.5<G_\\textrm{BP}-G_\\textrm{RP}<2.5$ they are systematically too low by 0.15 dex. Outside of these color-ranges the agreement is poor. We attribute the offsets and the poor estimates to possible systematics and poor sampling of the CMD space in the training sample. The \\MH estimates for main-sequence stars with colors outside $0.5<G_\\textrm{BP}-G_\\textrm{RP}<2.5$ are manifestly unreliable. (*fig:Praesepe-MH-vs-colour*)\n",
       "\n",
       "</div>\n",
       "<div id=\"div_fig3\">\n",
       "\n",
       "<img src=\"tmp_2302.02611/./skymap-mh-slice-A.png\" alt=\"Fig16.1\" width=\"16%\"/><img src=\"tmp_2302.02611/./skymap-mh-slice-B.png\" alt=\"Fig16.2\" width=\"16%\"/><img src=\"tmp_2302.02611/./skymap-mh-slice-C.png\" alt=\"Fig16.3\" width=\"16%\"/><img src=\"tmp_2302.02611/./skymap-vetted-mh-slice-A.png\" alt=\"Fig16.4\" width=\"16%\"/><img src=\"tmp_2302.02611/./skymap-vetted-mh-slice-B.png\" alt=\"Fig16.5\" width=\"16%\"/><img src=\"tmp_2302.02611/./skymap-vetted-mh-slice-C.png\" alt=\"Fig16.6\" width=\"16%\"/>\n",
       "\n",
       "**Figure 16. -** Skymaps showing the logarithmic number density of all \\emph{unfiltered} stars with $-3<\\MH<-1.2$(top panel), $-0.9<\\MH<-0.6$(middle panel) and $-0.3<\\MH<0.1$(bottom panel). These illustrate two important issues: the incompleteness of XP spectra in the two sickle-shaped regions at high latitude. And a significant contamination of the metal-poor bin in the unfiltered sample, which manifests itself as a thin disk near the Galactic plane; these are presumably hotter and highly reddened stars with weaker metal lines that are not recognized as such by our algorithm, as it lacks good training sets in this CMD regime.Skymaps showing the logarithmic number density of \\emph{vetted} RGB stars for $-3<\\MH<-1.2$(top panel), $-0.9<\\MH<-0.6$(middle panel) and $-0.3<\\MH<0.1$(bottom panel). This vetted sample (see Fig. \\ref{fig:clean-RGB-cuts}) is restricted to red giants with good S/N ($G<16$), \\Teff cuts that eliminate contaminants in the low-metallicity subsample and significant parallax (which explains the \"disapperance\" of the Magellanic Clouds compared to Fig. \\ref{fig:mono-abundance-all-sky}. The top panel qualitatively illustrates how clean the metal-poor subsample is: it prominently shows the \\emph{Poor Old Heart of the Galaxy}\\citep{Rix2022}, without any traces of spurious sample members in the disk that is so dominant in the high-metallicity subsample (bottom panel). (*fig:mono-abundance-all-sky*)\n",
       "\n",
       "</div>"
      ],
      "text/plain": [
       "<IPython.core.display.Markdown object>"
      ]
     },
     "metadata": {},
     "output_type": "display_data"
    },
    {
     "data": {
      "text/markdown": [
       "<div class=\"macros\" style=\"visibility:hidden;\">\n",
       "$\\newcommand{\\ensuremath}{}$\n",
       "$\\newcommand{\\xspace}{}$\n",
       "$\\newcommand{\\object}[1]{\\texttt{#1}}$\n",
       "$\\newcommand{\\farcs}{{.}''}$\n",
       "$\\newcommand{\\farcm}{{.}'}$\n",
       "$\\newcommand{\\arcsec}{''}$\n",
       "$\\newcommand{\\arcmin}{'}$\n",
       "$\\newcommand{\\ion}[2]{#1#2}$\n",
       "$\\newcommand{\\textsc}[1]{\\textrm{#1}}$\n",
       "$\\newcommand{\\hl}[1]{\\textrm{#1}}$</div>\n",
       "\n",
       "<div class=\"macros\" style=\"visibility:hidden;\">\n",
       "$\\newcommand{$\\ensuremath$}{}$\n",
       "$\\newcommand{$\\xspace$}{}$\n",
       "$\\newcommand{$\\object$}[1]{\\texttt{#1}}$\n",
       "$\\newcommand{$\\farcs$}{{.}''}$\n",
       "$\\newcommand{$\\farcm$}{{.}'}$\n",
       "$\\newcommand{$\\arcsec$}{''}$\n",
       "$\\newcommand{$\\arcmin$}{'}$\n",
       "$\\newcommand{$\\ion$}[2]{#1#2}$\n",
       "$\\newcommand{$\\textsc$}[1]{\\textrm{#1}}$\n",
       "$\\newcommand{$\\hl$}[1]{\\textrm{#1}}$</div>\n",
       "\n",
       "\n",
       "\n",
       "<div id=\"title\">\n",
       "\n",
       "# Evidence of an age gradient along the line of sight in the nuclear stellar disc of the Milky Way\n",
       "\n",
       "</div>\n",
       "<div id=\"comments\">\n",
       "\n",
       "[![arXiv](https://img.shields.io/badge/arXiv-2302.02890-b31b1b.svg)](https://arxiv.org/abs/2302.02890)<mark>Appeared on: 2023-02-07</mark> - _Submitted to A&A_\n",
       "\n",
       "</div>\n",
       "<div id=\"authors\">\n",
       "\n",
       "<mark>F. Nogueras-Lara</mark>, et al.\n",
       "\n",
       "</div>\n",
       "<div id=\"abstract\">\n",
       "\n",
       "**Abstract:** The nuclear stellar disc (NSD) is a flat dense stellar structure at the heart of the Milky Way. Recent work shows that analogous structures are common in the nuclei of external spiral galaxies, where there is evidence of an age gradient that indicates that they form inside-out. However, the characterisation of the age of the NSD stellar population along the line of sight is still missing due to its extreme source crowding and the high interstellar extinction towards the Galactic centre.We aim to characterise the age of the stellar population at different average Galactocentric NSD radii to investigate for the first time the presence of an age gradient along the line of sight.We selected two groups of stars at different NSD radii via their different extinction and proper motion distribution. We analysed their stellar population by fitting their de-reddened$K_s$luminosity functions with a linear combination of theoretical models.We find significant differences in the stellar population at different NSD radii, indicating the presence of an age gradient along the line of sight. Our sample from the closest edge of the NSD contains a significant fraction ($\\sim40$\\%of its total stellar mass) of intermediate-age stars (2-7 Gyr), that is not present in the sample from stars deeper inside the NSD, in which$\\sim90 \\%$of the stellar mass is older than 7 Gyr. Our results suggest that the NSD age distribution is similar as the one found in external galaxies and  imply that bar-driven processes observed in external galaxies are similarly at play in the Milky Way.\n",
       "\n",
       "</div>\n",
       "\n",
       "<div id=\"div_fig1\">\n",
       "\n",
       "<img src=\"tmp_2302.02890/./CMD.png\" alt=\"Fig1\" width=\"100%\"/>\n",
       "\n",
       "**Figure 1. -** CMD $K_s$ versus $H-K_s$. The blue and salmon coloured regions indicate the two target groups of stars with different reddening dominated on average by stars from the closest edge of the NSD (NSD outer region) and stars deeper inside the NSD  (NSD inner region), respectively. The dashed boxes show the reference stars used to build the extinction maps for each of the stellar groups analysed (see Sect, \\ref{extinct}). The black arrow indicates the reddening vector. (*CMD*)\n",
       "\n",
       "</div>\n",
       "<div id=\"div_fig2\">\n",
       "\n",
       "<img src=\"tmp_2302.02890/./res_fit.png\" alt=\"Fig6\" width=\"100%\"/>\n",
       "\n",
       "**Figure 6. -** Stellar populations present in the NSD outer region (left panel), inner region (central panel), and all the NSD stars in the sample (right panel). The numbers indicate the percentage of mass due to a given age bin and its standard deviation. (*SFH*)\n",
       "\n",
       "</div>\n",
       "<div id=\"div_fig3\">\n",
       "\n",
       "<img src=\"tmp_2302.02890/./KLFs.png\" alt=\"Fig4\" width=\"100%\"/>\n",
       "\n",
       "**Figure 4. -** Analysis of the de-reddened luminosity functions corresponding to the NSD outer (left panel) and inner (right panel) regions. The reduced $\\chi^2$ of the fit is shown in each panel. The 14 theoretical models used are grouped into 5 broader age bins to decrease the degeneracy between models with similar ages. (*KLFs*)\n",
       "\n",
       "</div>"
      ],
      "text/plain": [
       "<IPython.core.display.Markdown object>"
      ]
     },
     "metadata": {},
     "output_type": "display_data"
    }
   ],
   "source": [
    "[display(Markdown(k[1])) for k in documents];"
   ]
  },
  {
   "cell_type": "markdown",
   "id": "873873a4",
   "metadata": {
    "papermill": {
     "duration": 0.011734,
     "end_time": "2023-02-07T04:08:58.434807",
     "exception": false,
     "start_time": "2023-02-07T04:08:58.423073",
     "status": "completed"
    },
    "tags": []
   },
   "source": [
    "# Create HTML index"
   ]
  },
  {
   "cell_type": "code",
   "execution_count": 10,
   "id": "cf665672",
   "metadata": {
    "execution": {
     "iopub.execute_input": "2023-02-07T04:08:58.459012Z",
     "iopub.status.busy": "2023-02-07T04:08:58.458438Z",
     "iopub.status.idle": "2023-02-07T04:08:58.469571Z",
     "shell.execute_reply": "2023-02-07T04:08:58.468905Z"
    },
    "papermill": {
     "duration": 0.024962,
     "end_time": "2023-02-07T04:08:58.471017",
     "exception": false,
     "start_time": "2023-02-07T04:08:58.446055",
     "status": "completed"
    },
    "tags": []
   },
   "outputs": [
    {
     "name": "stdout",
     "output_type": "stream",
     "text": [
      "192  publications in the last 7 days.\n",
      "\t _build/html/2302.02890.md\n",
      "\t _build/html/2302.02611.md\n",
      "\t _build/html/2302.02429.md\n",
      "\t _build/html/2302.01678.md\n",
      "\t _build/html/2302.00450.md\n",
      "\t _build/html/2301.13766.md\n",
      "\t _build/html/2301.13526.md\n",
      "\t _build/html/2301.12890.md\n",
      "\t _build/html/2301.11942.md\n",
      "\t _build/html/2301.10717.md\n",
      "\t _build/html/2301.10666.md\n",
      "\t _build/html/2301.10496.md\n",
      "\t _build/html/2301.09621.md\n",
      "\t _build/html/2301.09140.md\n",
      "\t _build/html/2301.08770.md\n",
      "\t _build/html/2301.08310.md\n",
      "\t _build/html/2301.07990.md\n",
      "\t _build/html/2301.07366.md\n",
      "\t _build/html/2301.07199.md\n",
      "\t _build/html/2301.07116.md\n",
      "\t _build/html/2301.06873.md\n",
      "\t _build/html/2301.06819.md\n",
      "\t _build/html/2301.06575.md\n",
      "\t _build/html/2301.05720.md\n",
      "\t _build/html/2301.05718.md\n",
      "\t _build/html/2301.05034.md\n",
      "\t _build/html/2301.04656.md\n",
      "\t _build/html/2301.04533.md\n",
      "\t _build/html/2301.04442.md\n",
      "\t _build/html/2301.03811.md\n",
      "\t _build/html/2301.03689.md\n",
      "\t _build/html/2301.03387.md\n",
      "\t _build/html/2301.03209.md\n",
      "\t _build/html/2301.02671.md\n",
      "\t _build/html/2301.02477.md\n",
      "\t _build/html/2301.02313.md\n",
      "\t _build/html/2301.02265.md\n",
      "\t _build/html/2301.01937.md\n",
      "\t _build/html/2301.01895.md\n",
      "\t _build/html/2301.01684.md\n",
      "\t _build/html/2301.01306.md\n",
      "\t _build/html/2301.00881.md\n",
      "\t _build/html/2301.00854.md\n",
      "\t _build/html/2301.00578.md\n",
      "\t _build/html/2212.12039.md\n",
      "\t _build/html/2212.11991.md\n",
      "\t _build/html/2212.11425.md\n",
      "\t _build/html/2212.11177.md\n",
      "\t _build/html/2212.10804.md\n",
      "\t _build/html/2212.10512.md\n",
      "\t _build/html/2212.09766.md\n",
      "\t _build/html/2212.09675.md\n",
      "\t _build/html/2212.09661.md\n",
      "\t _build/html/2212.09652.md\n",
      "\t _build/html/2212.09443.md\n",
      "\t _build/html/2212.09307.md\n",
      "\t _build/html/2212.09168.md\n",
      "\t _build/html/2212.09159.md\n",
      "\t _build/html/2212.08702.md\n",
      "\t _build/html/2212.07332.md\n",
      "\t _build/html/2212.06434.md\n",
      "\t _build/html/2212.04710.md\n",
      "\t _build/html/2212.04026.md\n",
      "\t _build/html/2212.03563.md\n",
      "\t _build/html/2212.03514.md\n",
      "\t _build/html/2212.02667.md\n",
      "\t _build/html/2212.02627.md\n",
      "\t _build/html/2212.02235.md\n",
      "\t _build/html/2212.01707.md\n",
      "\t _build/html/2212.01526.md\n",
      "\t _build/html/2212.01397.md\n",
      "\t _build/html/2212.01291.md\n",
      "\t _build/html/2212.01281.md\n",
      "\t _build/html/2212.00812.md\n",
      "\t _build/html/2212.00811.md\n",
      "\t _build/html/2212.00806.md\n",
      "\t _build/html/2212.00047.md\n",
      "\t _build/html/2212.00032.md\n",
      "\t _build/html/2211.16996.md\n",
      "\t _build/html/2211.16510.md\n",
      "\t _build/html/2211.16123.md\n",
      "\t _build/html/2211.15816.md\n",
      "\t _build/html/2211.15698.md\n",
      "\t _build/html/2211.15576.md\n",
      "\t _build/html/2211.15434.md\n",
      "\t _build/html/2211.15288.md\n",
      "\t _build/html/2211.15224.md\n",
      "\t _build/html/2211.14543.md\n",
      "\t _build/html/2211.14330.md\n",
      "\t _build/html/2211.14322.md\n",
      "\t _build/html/2211.14132.md\n",
      "\t _build/html/2211.13811.md\n",
      "\t _build/html/2211.13426.md\n",
      "\t _build/html/2211.13318.md\n",
      "\t _build/html/2211.13146.md\n",
      "\t _build/html/2211.12613.md\n",
      "\t _build/html/2211.11767.md\n",
      "\t _build/html/2211.09840.md\n",
      "\t _build/html/2211.09217.md\n",
      "\t _build/html/2211.08493.md\n",
      "\t _build/html/2211.08487.md\n",
      "\t _build/html/2211.08294.md\n",
      "\t _build/html/2211.07667.md\n",
      "\t _build/html/2211.07659.md\n",
      "\t _build/html/2211.06454.md\n",
      "\t _build/html/2211.06205.md\n",
      "\t _build/html/2211.06194.md\n",
      "\t _build/html/2211.05022.md\n",
      "\t _build/html/2211.04048.md\n",
      "\t _build/html/2211.03641.md\n",
      "\t _build/html/2211.02502.md\n",
      "\t _build/html/2211.01474.md\n",
      "\t _build/html/2211.00667.md\n",
      "\t _build/html/2211.00657.md\n",
      "\t _build/html/2211.00087.md\n",
      "\t _build/html/2211.00036.md\n",
      "\t _build/html/2211.00020.md\n",
      "\t _build/html/2211.00010.md\n",
      "\t _build/html/2210.17434.md\n",
      "\t _build/html/2210.12412.md\n",
      "\t _build/html/2210.11926.md\n",
      "\t _build/html/2210.11551.md\n",
      "\t _build/html/2210.11103.md\n",
      "\t _build/html/2210.10707.md\n",
      "\t _build/html/2210.09930.md\n",
      "\t _build/html/2210.08996.md\n",
      "\t _build/html/2210.08517.md\n",
      "\t _build/html/2210.08510.md\n",
      "\t _build/html/2210.08078.md\n",
      "\t _build/html/2210.06504.md\n",
      "\t _build/html/2210.05695.md\n",
      "\t _build/html/2210.05595.md\n",
      "\t _build/html/2210.05505.md\n",
      "\t _build/html/2210.04721.md\n",
      "\t _build/html/2210.03615.md\n",
      "\t _build/html/2210.01811.md\n",
      "\t _build/html/2210.01809.md\n",
      "\t _build/html/2210.01556.md\n",
      "\t _build/html/2210.00863.md\n",
      "\t _build/html/2210.00560.md\n",
      "\t _build/html/2209.15403.md\n",
      "\t _build/html/2209.15110.md\n",
      "\t _build/html/2209.14410.md\n",
      "\t _build/html/2209.14396.md\n",
      "\t _build/html/2209.13717.md\n",
      "\t _build/html/2209.13336.md\n",
      "\t _build/html/2209.12906.md\n",
      "\t _build/html/2209.11781.md\n",
      "\t _build/html/2209.11602.md\n",
      "\t _build/html/2209.11248.md\n",
      "\t _build/html/2209.11096.md\n",
      "\t _build/html/2209.10618.md\n",
      "\t _build/html/2209.09914.md\n",
      "\t _build/html/2209.09823.md\n",
      "\t _build/html/2209.08242.md\n",
      "\t _build/html/2209.08120.md\n",
      "\t _build/html/2209.08106.md\n",
      "\t _build/html/2209.07962.md\n",
      "\t _build/html/2209.07931.md\n",
      "\t _build/html/2209.06833.md\n",
      "\t _build/html/2209.05814.md\n",
      "\t _build/html/2209.05593.md\n",
      "\t _build/html/2209.04304.md\n",
      "\t _build/html/2209.03367.md\n",
      "\t _build/html/2209.02872.md\n",
      "\t _build/html/2209.02725.md\n",
      "\t _build/html/2209.02722.md\n",
      "\t _build/html/2209.02092.md\n",
      "\t _build/html/2209.01125.md\n",
      "\t _build/html/2209.00828.md\n",
      "\t _build/html/2209.00363.md\n",
      "\t _build/html/2208.14927.md\n",
      "\t _build/html/2208.09335.md\n",
      "\t _build/html/2208.08872.md\n",
      "\t _build/html/2204.06393.md\n",
      "\t _build/html/2204.03335.md\n",
      "\t _build/html/2204.03253.md\n",
      "\t _build/html/2204.02998.md\n",
      "\t _build/html/2204.02109.md\n",
      "\t _build/html/2204.02017.md\n",
      "\t _build/html/2204.01824.md\n",
      "\t _build/html/2204.01758.md\n",
      "\t _build/html/2204.01245.md\n",
      "\t _build/html/2204.00793.md\n",
      "\t _build/html/2204.00342.md\n",
      "\t _build/html/2203.16959.md\n",
      "\t _build/html/2203.16856.md\n",
      "\t _build/html/2203.16735.md\n",
      "\t _build/html/2203.16734.md\n",
      "\t _build/html/2203.16504.md\n",
      "\t _build/html/2203.15822.md\n",
      "\t _build/html/2203.15811.md\n"
     ]
    }
   ],
   "source": [
    "from datetime import datetime, timedelta, timezone\n",
    "from glob import glob\n",
    "\n",
    "files = glob('_build/html/*.md')\n",
    "days = 7\n",
    "now = datetime.today()\n",
    "res = []\n",
    "for fk in files:\n",
    "    stat_result = os.stat(fk).st_ctime\n",
    "    modified = datetime.fromtimestamp(stat_result, tz=timezone.utc).replace(tzinfo=None)\n",
    "    delta = now.today() - modified\n",
    "    if delta <= timedelta(days=days):\n",
    "        res.append((delta.seconds, fk))\n",
    "res = [k[1] for k in reversed(sorted(res, key=lambda x:x[1]))]\n",
    "npub = len(res)\n",
    "print(len(res), f\" publications in the last {days:d} days.\")\n",
    "[ print('\\t', k) for k in res ];"
   ]
  },
  {
   "cell_type": "code",
   "execution_count": 11,
   "id": "015de740",
   "metadata": {
    "execution": {
     "iopub.execute_input": "2023-02-07T04:08:58.495403Z",
     "iopub.status.busy": "2023-02-07T04:08:58.494844Z",
     "iopub.status.idle": "2023-02-07T04:08:58.515340Z",
     "shell.execute_reply": "2023-02-07T04:08:58.514717Z"
    },
    "papermill": {
     "duration": 0.034163,
     "end_time": "2023-02-07T04:08:58.516780",
     "exception": false,
     "start_time": "2023-02-07T04:08:58.482617",
     "status": "completed"
    },
    "tags": []
   },
   "outputs": [
    {
     "name": "stdout",
     "output_type": "stream",
     "text": [
      "9  publications in the last 7 days.\n"
     ]
    }
   ],
   "source": [
    "import datetime\n",
    "from glob import glob\n",
    "\n",
    "def get_last_n_days(lst, days=1):\n",
    "    \"\"\" Get the documents from the last n days \"\"\"\n",
    "    sorted_lst = sorted(lst, key=lambda x: x[1], reverse=True)\n",
    "    for fname, date in sorted_lst:\n",
    "        if date >= str(datetime.date.today() - datetime.timedelta(days=days)):\n",
    "            yield fname\n",
    "\n",
    "def extract_appearance_dates(lst_file):\n",
    "    dates = []\n",
    "\n",
    "    def get_date(line):\n",
    "        return line\\\n",
    "            .split('Appeared on:')[-1]\\\n",
    "            .split('</mark>')[0].strip()\n",
    "\n",
    "    for fname in lst:\n",
    "        with open(fname, 'r') as f:\n",
    "            found_date = False\n",
    "            for line in f:\n",
    "                if not found_date:\n",
    "                    if \"Appeared on\" in line:\n",
    "                        found_date = True\n",
    "                        dates.append((fname, get_date(line)))\n",
    "                else:\n",
    "                    break\n",
    "    return dates\n",
    "\n",
    "from glob import glob\n",
    "lst = glob('_build/html/*md')\n",
    "days = 7\n",
    "dates = extract_appearance_dates(lst)\n",
    "res = list(get_last_n_days(dates, days))\n",
    "npub = len(res)\n",
    "print(len(res), f\" publications in the last {days:d} days.\")"
   ]
  },
  {
   "cell_type": "code",
   "execution_count": 12,
   "id": "52ca0208",
   "metadata": {
    "execution": {
     "iopub.execute_input": "2023-02-07T04:08:58.542045Z",
     "iopub.status.busy": "2023-02-07T04:08:58.541800Z",
     "iopub.status.idle": "2023-02-07T04:08:58.549257Z",
     "shell.execute_reply": "2023-02-07T04:08:58.548545Z"
    },
    "papermill": {
     "duration": 0.022465,
     "end_time": "2023-02-07T04:08:58.551042",
     "exception": false,
     "start_time": "2023-02-07T04:08:58.528577",
     "status": "completed"
    },
    "scrolled": false,
    "tags": []
   },
   "outputs": [],
   "source": [
    "def create_carousel(npub=4):\n",
    "    \"\"\" Generate the HTML code for a carousel with `npub` slides \"\"\"\n",
    "    carousel = [\"\"\"<section class=\"carousel\" aria-label=\"Gallery\">\"\"\",\n",
    "                \"\"\"  <ol class=\"carousel__viewport\">\"\"\",\n",
    "    ]\n",
    "    for k in range(1, npub + 1):\n",
    "        prev_ = k - 1\n",
    "        next_ = k + 1\n",
    "        if prev_ <= 0:\n",
    "            prev_ = npub\n",
    "        if next_ > npub:\n",
    "            next_ = 1\n",
    "        text  = f\"\"\"    <li id=\"carousel__slide{k}\" tabindex=\"0\" class=\"carousel__slide\">\\n\"\"\"\n",
    "        text += f\"\"\"       <div class=\"carousel__snapper\">\\n\"\"\"\n",
    "        text += f\"\"\"         <a href=\"#carousel__slide{prev_}\" class=\"carousel__prev\">Go to previous slide</a>\\n\"\"\"\n",
    "        text += f\"\"\"         <a href=\"#carousel__slide{next_}\" class=\"carousel__next\">Go to next slide</a>\\n\"\"\"\n",
    "        text += f\"\"\"         <div id=\"slide{k}_content\" class=\"md_view\" >Content {k}</div>\\n\"\"\"\n",
    "        text += f\"\"\"       </div>\\n\"\"\"\n",
    "        text += f\"\"\"    </li>\"\"\"\n",
    "        carousel.append(text)\n",
    "\n",
    "    carousel.extend([\n",
    "        \"\"\"  </ol>\"\"\",\n",
    "        \"\"\"  <aside class=\"carousel__navigation\">\"\"\",\n",
    "        \"\"\"    <ol class=\"carousel__navigation-list\">\"\"\"])\n",
    "\n",
    "    for k in range(1, npub + 1):\n",
    "        text  = f\"\"\"      <li class=\"carousel__navigation-item\">\\n\"\"\"\n",
    "        text += f\"\"\"        <a href=\"#carousel__slide{k}\" class=\"carousel__navigation-button\">Go to {k}</a>\\n\"\"\"\n",
    "        text += f\"\"\"      </li>\"\"\"\n",
    "        carousel.append(text)\n",
    "    carousel.extend([\"\"\"    </ol>\"\"\", \"\"\"  </aside>\"\"\", \"\"\"</section>\"\"\"])\n",
    "\n",
    "    return '\\n'.join(carousel)"
   ]
  },
  {
   "cell_type": "code",
   "execution_count": 13,
   "id": "a6eac5b6",
   "metadata": {
    "execution": {
     "iopub.execute_input": "2023-02-07T04:08:58.575508Z",
     "iopub.status.busy": "2023-02-07T04:08:58.575077Z",
     "iopub.status.idle": "2023-02-07T04:08:58.581156Z",
     "shell.execute_reply": "2023-02-07T04:08:58.580510Z"
    },
    "papermill": {
     "duration": 0.019962,
     "end_time": "2023-02-07T04:08:58.582627",
     "exception": false,
     "start_time": "2023-02-07T04:08:58.562665",
     "status": "completed"
    },
    "scrolled": false,
    "tags": []
   },
   "outputs": [],
   "source": [
    "carousel = create_carousel(npub)\n",
    "docs = ', '.join(['\"{0:s}\"'.format(k.split('/')[-1]) for k in res])\n",
    "slides = ', '.join([f'\"slide{k}_content\"' for k in range(1, npub + 1)])\n",
    "\n",
    "script = f\"\"\"\n",
    "const docs = [{docs}]\n",
    "\n",
    "const slides = [{slides}]\n",
    "\"\"\" + \"\"\"\n",
    "async function run() {\n",
    "    for (let i = 0; i < docs.length; i++) {\n",
    "        let file = await fetch(docs[i]);\n",
    "        let text = await file.text()\n",
    "        document.getElementById(slides[i]).innerHTML =\n",
    "            marked.parse(text);\n",
    "    }\n",
    "    hljs.highlightAll();\n",
    "}\n",
    "run()\n",
    "\"\"\"\n",
    "\n",
    "page = f\"\"\"<!doctype html>\n",
    "<html lang=\"en\">\n",
    "\n",
    "<head>\n",
    "  <meta charset=\"utf-8\">\n",
    "  <meta name=\"viewport\" content=\"width=device-width, initial-scale=1\">\n",
    "  <!-- Bootstrap CSS -->\n",
    "  <link href=\"https://cdn.jsdelivr.net/npm/bootstrap@5.0.2/dist/css/bootstrap.min.css\" rel=\"stylesheet\"\n",
    "   integrity=\"sha384-EVSTQN3/azprG1Anm3QDgpJLIm9Nao0Yz1ztcQTwFspd3yD65VohhpuuCOmLASjC\" crossorigin=\"anonymous\">\n",
    "  <!-- highlight.js CSS -->\n",
    "  <link rel=\"stylesheet\" href=\"https://cdnjs.cloudflare.com/ajax/libs/highlight.js/11.1.0/styles/default.min.css\">\n",
    "  <!-- Mathjax 3 -->\n",
    "  <script type=\"text/javascript\" id=\"MathJax-config\" src=\"mathjax_config.js\"> </script>\n",
    "  <script type=\"text/javascript\" id=\"MathJax-script\" async \n",
    "    src=\"https://cdn.jsdelivr.net/npm/mathjax@3/es5/tex-mml-chtml.js\">\n",
    "  </script>\n",
    "  <link rel=\"stylesheet\" href=\"index_carousel.css\">\n",
    "  <link rel=\"icon\" type=\"image/x-icon\" href=\"https://www.mpia.de/assets/touch-icon-32x32-a66937bcebc4e8894ebff1f41a366c7c7220fd97a38869ee0f2db65a9f59b6c1.png\">\n",
    "  <title>MPIA Arxiv on deck!</title>\n",
    "</head>\n",
    "\n",
    "<body>\n",
    "  <div id=\"header\"> <img src=\"header_banner.png\" width=\"100%\"></div>\n",
    "  <div id=\"suptitle\"> 7-day archives </div>\n",
    "  <div id=\"info\">\n",
    "    <img src=\"https://pngimg.com/uploads/github/github_PNG58.png\" height=30rem></img>\n",
    "    <a href=https://github.com/mpi-astronomy/arxiv_display style=\"color:black;\">github/mpi-astronomy/arxiv_display</a> \n",
    "  </div>\n",
    "  {carousel:s}\n",
    "</body>\n",
    "\n",
    "<!-- Render Markdown -->\n",
    "\n",
    "<body>\n",
    "  <!-- highlight.js: https://highlightjs.org/download/ -->\n",
    "  <script src=\"https://cdnjs.cloudflare.com/ajax/libs/highlight.js/11.5.0/highlight.min.js\"></script>\n",
    "  <!-- marked.js -->\n",
    "  <script src=\"https://cdn.jsdelivr.net/npm/marked/marked.min.js\"></script>\n",
    "  <script>{script:s}</script>\n",
    "</body>\n",
    "</html>\n",
    "\"\"\"\n",
    "with open(\"_build/html/index_7days.html\", 'w') as fout:\n",
    "    fout.write(page)"
   ]
  },
  {
   "cell_type": "markdown",
   "id": "1cebacbc",
   "metadata": {
    "papermill": {
     "duration": 0.01152,
     "end_time": "2023-02-07T04:08:58.605901",
     "exception": false,
     "start_time": "2023-02-07T04:08:58.594381",
     "status": "completed"
    },
    "tags": []
   },
   "source": [
    "# Debugging papers"
   ]
  },
  {
   "cell_type": "raw",
   "id": "debe7cc6",
   "metadata": {
    "papermill": {
     "duration": 0.011672,
     "end_time": "2023-02-07T04:08:58.629177",
     "exception": false,
     "start_time": "2023-02-07T04:08:58.617505",
     "status": "completed"
    },
    "tags": []
   },
   "source": [
    "raise NotImplementedError(\"Manual Stop\")"
   ]
  },
  {
   "cell_type": "raw",
   "id": "eb169192",
   "metadata": {
    "papermill": {
     "duration": 0.011624,
     "end_time": "2023-02-07T04:08:58.652618",
     "exception": false,
     "start_time": "2023-02-07T04:08:58.640994",
     "status": "completed"
    },
    "scrolled": true,
    "tags": []
   },
   "source": [
    "from IPython.display import display, Markdown\n",
    "from TexSoup import TexSoup\n",
    "import re\n",
    "\n",
    "def bracket_error(source: str):\n",
    "    \"\"\" Find problematic portions of the document \"\"\"\n",
    "    \n",
    "    print(\"len(source)\", len(source))\n",
    "    \n",
    "    # Checking header\n",
    "    begin_doc = next(re.finditer(r'\\\\begin\\{document\\}', doc.source)).span()[1]\n",
    "    header = source[:begin_doc]\n",
    "    text = header + r\"\\n\\end{document}\"\n",
    "\n",
    "    try:\n",
    "        # print(\"Header check... \", end='')\n",
    "        TexSoup(text)\n",
    "        display(Markdown(f\"**[OK]** - Header\"))\n",
    "    except:\n",
    "        raise RuntimeError(\"Error in the header\")\n",
    "        \n",
    "    # Check the text per section until the end.\n",
    "    # Do not stop and try them all.\n",
    "    \n",
    "    problematic_text = []\n",
    "    \n",
    "    sections = ([(0, begin_doc, 'until first section')] + \n",
    "                [(g.span()[0], g.span()[1], g.group()) for g in re.finditer(r'\\\\section\\{.*\\}', source)] +\n",
    "                [(g.span()[0], g.span()[1], g.group()) for g in re.finditer(r'\\\\begin\\{appendix\\}', source)]\n",
    "               )\n",
    "    sections.append([len(source), len(source), 'end'])\n",
    "    \n",
    "    sections = sorted(sections, key=lambda x: x[0])\n",
    "    \n",
    "    prev_pos, prev_name = (0, 'header')\n",
    "    parsed = []\n",
    "    \n",
    "    for span, span_end, name in sections:\n",
    "\n",
    "        if span - prev_pos <= 0:\n",
    "            continue\n",
    "            \n",
    "\n",
    "        text = source[prev_pos:span]\n",
    "        if prev_pos > begin_doc:\n",
    "            text = r\"\\n\\begin{document}\" + text + r\"\\n\\end{document}\"\n",
    "        else:\n",
    "            text = text + r\"\\n\\end{document}\"\n",
    "        try:\n",
    "            #print(f\"{prev_pos}:{prev_name}-->{span}:{name} check... \", end='')\n",
    "            parsed.append(TexSoup(text, tolerance=1))  # allow not ending env\n",
    "            display(Markdown(f\"**[OK]** - *{prev_pos}*:{prev_name} &rarr; *{span}*:{name}\"))\n",
    "            # print(\"ok\")\n",
    "\n",
    "            prev_pos = span\n",
    "            prev_name = name\n",
    "        except:\n",
    "            # print(f\"error between {prev_pos} and {span}\")\n",
    "            display(Markdown(f\"**[ERR]** *{prev_pos}*:{prev_name} &rarr; *{span}*:{name}\"))\n",
    "            problematic_text.append((prev_pos, source[prev_pos:span]))\n",
    "            prev_pos = span\n",
    "            prev_name = name\n",
    "            # raise\n",
    "    return problematic_text, parsed\n",
    "\n",
    "\n",
    "def check_environment(text, offset=0):\n",
    "    \"\"\" Check environment \"\"\"\n",
    "    env = re.compile(r\"\\\\begin\\{(?P<env>.*)\\}(.*)\\\\end\\{(?P=env)\\}\", re.DOTALL)\n",
    "\n",
    "    for match in env.finditer(text):\n",
    "        beg, end = match.span()\n",
    "        beg += offset\n",
    "        end += offset\n",
    "        envname = match.groups()[0]\n",
    "        try:\n",
    "            latex.TexSoup(match.group())\n",
    "        except Exception as e:\n",
    "            display(e)\n",
    "            print(f\"Error in {envname:s} between {beg} and {end}\")\n",
    "            return match.groups()[1], beg, end"
   ]
  },
  {
   "cell_type": "raw",
   "id": "2315e835",
   "metadata": {
    "papermill": {
     "duration": 0.011573,
     "end_time": "2023-02-07T04:08:58.675820",
     "exception": false,
     "start_time": "2023-02-07T04:08:58.664247",
     "status": "completed"
    },
    "scrolled": false,
    "tags": []
   },
   "source": [
    "import importlib\n",
    "importlib.reload(latex)\n",
    "which = \"2204.03253\"\n",
    "paper_id = f'{which:s}'\n",
    "folder = f'tmp_{paper_id:s}'\n",
    "\n",
    "if not os.path.isdir(folder):\n",
    "    folder = retrieve_document_source(f\"{paper_id}\", f'tmp_{paper_id}')\n",
    "\n",
    "try:\n",
    "    doc = latex.LatexDocument(folder, validation=validation)    \n",
    "except AffiliationError as affilerror:\n",
    "    msg = f\"ArXiv:{paper_id:s} is not an MPIA paper... \" + str(affilerror)\n",
    "    print(msg)\n",
    "\n",
    "\n",
    "# Hack because sometimes author parsing does not work well\n",
    "if (len(doc.authors) != len(paper['authors'])):\n",
    "    doc._authors = paper['authors']\n",
    "if (doc.abstract) in (None, ''):\n",
    "    doc._abstract = paper['abstract']\n",
    "\n",
    "doc.comment = get_markdown_badge(paper_id) + \" _\" + paper['comments'] + \"_\"\n",
    "doc.highlight_authors_in_list(hl_list)\n",
    "\n",
    "full_md = doc.generate_markdown_text()"
   ]
  },
  {
   "cell_type": "raw",
   "id": "dd3781db",
   "metadata": {
    "papermill": {
     "duration": 0.011492,
     "end_time": "2023-02-07T04:08:58.698943",
     "exception": false,
     "start_time": "2023-02-07T04:08:58.687451",
     "status": "completed"
    },
    "scrolled": false,
    "tags": []
   },
   "source": [
    "doc"
   ]
  },
  {
   "cell_type": "raw",
   "id": "c6eed834",
   "metadata": {
    "papermill": {
     "duration": 0.01156,
     "end_time": "2023-02-07T04:08:58.722069",
     "exception": false,
     "start_time": "2023-02-07T04:08:58.710509",
     "status": "completed"
    },
    "tags": []
   },
   "source": [
    "# [check_environment(k) for k in bracket_error(doc.source)]\n",
    "_, _, a = latex.get_content_per_section(doc.source, verbose=True)\n",
    "if not a:\n",
    "    print(\"no issues per section\")\n",
    "for ak in a:\n",
    "    r = check_environment(ak[1], offset=ak[0])\n",
    "    print(r[1], r[2])\n",
    "    print(r[0])"
   ]
  },
  {
   "cell_type": "code",
   "execution_count": null,
   "id": "71ce768a",
   "metadata": {
    "papermill": {
     "duration": 0.011515,
     "end_time": "2023-02-07T04:08:58.745213",
     "exception": false,
     "start_time": "2023-02-07T04:08:58.733698",
     "status": "completed"
    },
    "tags": []
   },
   "outputs": [],
   "source": []
  }
 ],
 "metadata": {
  "kernelspec": {
   "display_name": "Python 3",
   "language": "python",
   "name": "python3"
  },
  "language_info": {
   "codemirror_mode": {
    "name": "ipython",
    "version": 3
   },
   "file_extension": ".py",
   "mimetype": "text/x-python",
   "name": "python",
   "nbconvert_exporter": "python",
   "pygments_lexer": "ipython3",
   "version": "3.9.16"
  },
  "papermill": {
   "default_parameters": {},
   "duration": 103.157794,
   "end_time": "2023-02-07T04:08:58.975160",
   "environment_variables": {},
   "exception": null,
   "input_path": "MPIA daily digest.ipynb",
   "output_path": "log.ipynb",
   "parameters": {},
   "start_time": "2023-02-07T04:07:15.817366",
   "version": "2.4.0"
  },
  "vscode": {
   "interpreter": {
    "hash": "aee8b7b246df8f9039afb4144a1f6fd8d2ca17a180786b69acc140d282b71a49"
   }
  },
  "widgets": {
   "application/vnd.jupyter.widget-state+json": {
    "state": {
     "0ae660a4422d4ddfb747baebede714d3": {
      "model_module": "@jupyter-widgets/controls",
      "model_module_version": "2.0.0",
      "model_name": "HBoxModel",
      "state": {
       "_dom_classes": [],
       "_model_module": "@jupyter-widgets/controls",
       "_model_module_version": "2.0.0",
       "_model_name": "HBoxModel",
       "_view_count": null,
       "_view_module": "@jupyter-widgets/controls",
       "_view_module_version": "2.0.0",
       "_view_name": "HBoxView",
       "box_style": "",
       "children": [
        "IPY_MODEL_b5b59dd28dc94da4a53e9c5f3a2fb3dc",
        "IPY_MODEL_97a63424219448f4bbe09e87dfc8fc19",
        "IPY_MODEL_48984534561c4cffbbd40edc86004c22"
       ],
       "layout": "IPY_MODEL_d2b1e481fdd3403c99ea3aa53dcbd2eb",
       "tabbable": null,
       "tooltip": null
      }
     },
     "0cea225a2b544df296168aa5eb7f019f": {
      "model_module": "@jupyter-widgets/controls",
      "model_module_version": "2.0.0",
      "model_name": "HTMLStyleModel",
      "state": {
       "_model_module": "@jupyter-widgets/controls",
       "_model_module_version": "2.0.0",
       "_model_name": "HTMLStyleModel",
       "_view_count": null,
       "_view_module": "@jupyter-widgets/base",
       "_view_module_version": "2.0.0",
       "_view_name": "StyleView",
       "background": null,
       "description_width": "",
       "font_size": null,
       "text_color": null
      }
     },
     "37d168ea8b324810ad1e2e9ea4c60dc0": {
      "model_module": "@jupyter-widgets/controls",
      "model_module_version": "2.0.0",
      "model_name": "ProgressStyleModel",
      "state": {
       "_model_module": "@jupyter-widgets/controls",
       "_model_module_version": "2.0.0",
       "_model_name": "ProgressStyleModel",
       "_view_count": null,
       "_view_module": "@jupyter-widgets/base",
       "_view_module_version": "2.0.0",
       "_view_name": "StyleView",
       "bar_color": null,
       "description_width": ""
      }
     },
     "46d22b827f934fdab1b84108e82468b0": {
      "model_module": "@jupyter-widgets/base",
      "model_module_version": "2.0.0",
      "model_name": "LayoutModel",
      "state": {
       "_model_module": "@jupyter-widgets/base",
       "_model_module_version": "2.0.0",
       "_model_name": "LayoutModel",
       "_view_count": null,
       "_view_module": "@jupyter-widgets/base",
       "_view_module_version": "2.0.0",
       "_view_name": "LayoutView",
       "align_content": null,
       "align_items": null,
       "align_self": null,
       "border_bottom": null,
       "border_left": null,
       "border_right": null,
       "border_top": null,
       "bottom": null,
       "display": null,
       "flex": null,
       "flex_flow": null,
       "grid_area": null,
       "grid_auto_columns": null,
       "grid_auto_flow": null,
       "grid_auto_rows": null,
       "grid_column": null,
       "grid_gap": null,
       "grid_row": null,
       "grid_template_areas": null,
       "grid_template_columns": null,
       "grid_template_rows": null,
       "height": null,
       "justify_content": null,
       "justify_items": null,
       "left": null,
       "margin": null,
       "max_height": null,
       "max_width": null,
       "min_height": null,
       "min_width": null,
       "object_fit": null,
       "object_position": null,
       "order": null,
       "overflow": null,
       "padding": null,
       "right": null,
       "top": null,
       "visibility": null,
       "width": null
      }
     },
     "48984534561c4cffbbd40edc86004c22": {
      "model_module": "@jupyter-widgets/controls",
      "model_module_version": "2.0.0",
      "model_name": "HTMLModel",
      "state": {
       "_dom_classes": [],
       "_model_module": "@jupyter-widgets/controls",
       "_model_module_version": "2.0.0",
       "_model_name": "HTMLModel",
       "_view_count": null,
       "_view_module": "@jupyter-widgets/controls",
       "_view_module_version": "2.0.0",
       "_view_name": "HTMLView",
       "description": "",
       "description_allow_html": false,
       "layout": "IPY_MODEL_d7549479cb6d4a34a2397efd543e5072",
       "placeholder": "​",
       "style": "IPY_MODEL_0cea225a2b544df296168aa5eb7f019f",
       "tabbable": null,
       "tooltip": null,
       "value": " 26/26 [01:15&lt;00:00,  3.03s/it]"
      }
     },
     "51615fd71e234d4eb3fdfdcd9c40ad61": {
      "model_module": "@jupyter-widgets/controls",
      "model_module_version": "2.0.0",
      "model_name": "HTMLStyleModel",
      "state": {
       "_model_module": "@jupyter-widgets/controls",
       "_model_module_version": "2.0.0",
       "_model_name": "HTMLStyleModel",
       "_view_count": null,
       "_view_module": "@jupyter-widgets/base",
       "_view_module_version": "2.0.0",
       "_view_name": "StyleView",
       "background": null,
       "description_width": "",
       "font_size": null,
       "text_color": null
      }
     },
     "97a63424219448f4bbe09e87dfc8fc19": {
      "model_module": "@jupyter-widgets/controls",
      "model_module_version": "2.0.0",
      "model_name": "FloatProgressModel",
      "state": {
       "_dom_classes": [],
       "_model_module": "@jupyter-widgets/controls",
       "_model_module_version": "2.0.0",
       "_model_name": "FloatProgressModel",
       "_view_count": null,
       "_view_module": "@jupyter-widgets/controls",
       "_view_module_version": "2.0.0",
       "_view_name": "ProgressView",
       "bar_style": "success",
       "description": "",
       "description_allow_html": false,
       "layout": "IPY_MODEL_46d22b827f934fdab1b84108e82468b0",
       "max": 26.0,
       "min": 0.0,
       "orientation": "horizontal",
       "style": "IPY_MODEL_37d168ea8b324810ad1e2e9ea4c60dc0",
       "tabbable": null,
       "tooltip": null,
       "value": 26.0
      }
     },
     "b5b59dd28dc94da4a53e9c5f3a2fb3dc": {
      "model_module": "@jupyter-widgets/controls",
      "model_module_version": "2.0.0",
      "model_name": "HTMLModel",
      "state": {
       "_dom_classes": [],
       "_model_module": "@jupyter-widgets/controls",
       "_model_module_version": "2.0.0",
       "_model_name": "HTMLModel",
       "_view_count": null,
       "_view_module": "@jupyter-widgets/controls",
       "_view_module_version": "2.0.0",
       "_view_name": "HTMLView",
       "description": "",
       "description_allow_html": false,
       "layout": "IPY_MODEL_fa3fe2010ea94ce79f763479f3a1c1a2",
       "placeholder": "​",
       "style": "IPY_MODEL_51615fd71e234d4eb3fdfdcd9c40ad61",
       "tabbable": null,
       "tooltip": null,
       "value": "100%"
      }
     },
     "d2b1e481fdd3403c99ea3aa53dcbd2eb": {
      "model_module": "@jupyter-widgets/base",
      "model_module_version": "2.0.0",
      "model_name": "LayoutModel",
      "state": {
       "_model_module": "@jupyter-widgets/base",
       "_model_module_version": "2.0.0",
       "_model_name": "LayoutModel",
       "_view_count": null,
       "_view_module": "@jupyter-widgets/base",
       "_view_module_version": "2.0.0",
       "_view_name": "LayoutView",
       "align_content": null,
       "align_items": null,
       "align_self": null,
       "border_bottom": null,
       "border_left": null,
       "border_right": null,
       "border_top": null,
       "bottom": null,
       "display": null,
       "flex": null,
       "flex_flow": null,
       "grid_area": null,
       "grid_auto_columns": null,
       "grid_auto_flow": null,
       "grid_auto_rows": null,
       "grid_column": null,
       "grid_gap": null,
       "grid_row": null,
       "grid_template_areas": null,
       "grid_template_columns": null,
       "grid_template_rows": null,
       "height": null,
       "justify_content": null,
       "justify_items": null,
       "left": null,
       "margin": null,
       "max_height": null,
       "max_width": null,
       "min_height": null,
       "min_width": null,
       "object_fit": null,
       "object_position": null,
       "order": null,
       "overflow": null,
       "padding": null,
       "right": null,
       "top": null,
       "visibility": null,
       "width": null
      }
     },
     "d7549479cb6d4a34a2397efd543e5072": {
      "model_module": "@jupyter-widgets/base",
      "model_module_version": "2.0.0",
      "model_name": "LayoutModel",
      "state": {
       "_model_module": "@jupyter-widgets/base",
       "_model_module_version": "2.0.0",
       "_model_name": "LayoutModel",
       "_view_count": null,
       "_view_module": "@jupyter-widgets/base",
       "_view_module_version": "2.0.0",
       "_view_name": "LayoutView",
       "align_content": null,
       "align_items": null,
       "align_self": null,
       "border_bottom": null,
       "border_left": null,
       "border_right": null,
       "border_top": null,
       "bottom": null,
       "display": null,
       "flex": null,
       "flex_flow": null,
       "grid_area": null,
       "grid_auto_columns": null,
       "grid_auto_flow": null,
       "grid_auto_rows": null,
       "grid_column": null,
       "grid_gap": null,
       "grid_row": null,
       "grid_template_areas": null,
       "grid_template_columns": null,
       "grid_template_rows": null,
       "height": null,
       "justify_content": null,
       "justify_items": null,
       "left": null,
       "margin": null,
       "max_height": null,
       "max_width": null,
       "min_height": null,
       "min_width": null,
       "object_fit": null,
       "object_position": null,
       "order": null,
       "overflow": null,
       "padding": null,
       "right": null,
       "top": null,
       "visibility": null,
       "width": null
      }
     },
     "fa3fe2010ea94ce79f763479f3a1c1a2": {
      "model_module": "@jupyter-widgets/base",
      "model_module_version": "2.0.0",
      "model_name": "LayoutModel",
      "state": {
       "_model_module": "@jupyter-widgets/base",
       "_model_module_version": "2.0.0",
       "_model_name": "LayoutModel",
       "_view_count": null,
       "_view_module": "@jupyter-widgets/base",
       "_view_module_version": "2.0.0",
       "_view_name": "LayoutView",
       "align_content": null,
       "align_items": null,
       "align_self": null,
       "border_bottom": null,
       "border_left": null,
       "border_right": null,
       "border_top": null,
       "bottom": null,
       "display": null,
       "flex": null,
       "flex_flow": null,
       "grid_area": null,
       "grid_auto_columns": null,
       "grid_auto_flow": null,
       "grid_auto_rows": null,
       "grid_column": null,
       "grid_gap": null,
       "grid_row": null,
       "grid_template_areas": null,
       "grid_template_columns": null,
       "grid_template_rows": null,
       "height": null,
       "justify_content": null,
       "justify_items": null,
       "left": null,
       "margin": null,
       "max_height": null,
       "max_width": null,
       "min_height": null,
       "min_width": null,
       "object_fit": null,
       "object_position": null,
       "order": null,
       "overflow": null,
       "padding": null,
       "right": null,
       "top": null,
       "visibility": null,
       "width": null
      }
     }
    },
    "version_major": 2,
    "version_minor": 0
   }
  }
 },
 "nbformat": 4,
 "nbformat_minor": 5
}