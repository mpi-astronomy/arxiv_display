{
 "cells": [
  {
   "cell_type": "markdown",
   "id": "92bcb855",
   "metadata": {
    "papermill": {
     "duration": 0.003767,
     "end_time": "2025-09-19T04:11:41.909055",
     "exception": false,
     "start_time": "2025-09-19T04:11:41.905288",
     "status": "completed"
    },
    "tags": []
   },
   "source": [
    "# MPIA Arxiv on Deck 2\n",
    "\n",
    "Contains the steps to produce the paper extractions."
   ]
  },
  {
   "cell_type": "code",
   "execution_count": 1,
   "id": "3a0d6e11",
   "metadata": {
    "execution": {
     "iopub.execute_input": "2025-09-19T04:11:41.916433Z",
     "iopub.status.busy": "2025-09-19T04:11:41.916135Z",
     "iopub.status.idle": "2025-09-19T04:11:42.122077Z",
     "shell.execute_reply": "2025-09-19T04:11:42.121338Z"
    },
    "papermill": {
     "duration": 0.211253,
     "end_time": "2025-09-19T04:11:42.123544",
     "exception": false,
     "start_time": "2025-09-19T04:11:41.912291",
     "status": "completed"
    },
    "tags": []
   },
   "outputs": [],
   "source": [
    "# Imports\n",
    "import os\n",
    "from IPython.display import Markdown, display\n",
    "from tqdm.notebook import tqdm\n",
    "import warnings\n",
    "from PIL import Image \n",
    "import re\n",
    "\n",
    "# requires arxiv_on_deck_2\n",
    "\n",
    "from arxiv_on_deck_2.arxiv2 import (get_new_papers, \n",
    "                                    get_paper_from_identifier,\n",
    "                                    retrieve_document_source, \n",
    "                                    get_markdown_badge)\n",
    "from arxiv_on_deck_2 import (latex,\n",
    "                             latex_bib,\n",
    "                             mpia,\n",
    "                             highlight_authors_in_list)\n",
    "\n",
    "# Sometimes images are really big\n",
    "Image.MAX_IMAGE_PIXELS = 1000000000 "
   ]
  },
  {
   "cell_type": "code",
   "execution_count": 2,
   "id": "22aa9d44",
   "metadata": {
    "execution": {
     "iopub.execute_input": "2025-09-19T04:11:42.130726Z",
     "iopub.status.busy": "2025-09-19T04:11:42.130533Z",
     "iopub.status.idle": "2025-09-19T04:11:42.138106Z",
     "shell.execute_reply": "2025-09-19T04:11:42.137582Z"
    },
    "papermill": {
     "duration": 0.012147,
     "end_time": "2025-09-19T04:11:42.139037",
     "exception": false,
     "start_time": "2025-09-19T04:11:42.126890",
     "status": "completed"
    },
    "tags": []
   },
   "outputs": [],
   "source": [
    "# Some useful definitions.\n",
    "\n",
    "class AffiliationWarning(UserWarning):\n",
    "    pass\n",
    "\n",
    "class AffiliationError(RuntimeError):\n",
    "    pass\n",
    "\n",
    "def validation(source: str):\n",
    "    \"\"\"Raises error paper during parsing of source file\n",
    "    \n",
    "    Allows checks before parsing TeX code.\n",
    "    \n",
    "    Raises AffiliationWarning\n",
    "    \"\"\"\n",
    "    check = mpia.affiliation_verifications(source, verbose=True)\n",
    "    if check is not True:\n",
    "        raise AffiliationError(\"mpia.affiliation_verifications: \" + check)\n",
    "\n",
    "        \n",
    "warnings.simplefilter('always', AffiliationWarning)\n",
    "\n",
    "\n",
    "def get_markdown_qrcode(paper_id: str):\n",
    "    \"\"\" Generate a qrcode to the arxiv page using qrserver.com\n",
    "    \n",
    "    :param paper: Arxiv paper\n",
    "    :returns: markdown text\n",
    "    \"\"\"\n",
    "    url = r\"https://api.qrserver.com/v1/create-qr-code/?size=100x100&data=\"\n",
    "    txt = f\"\"\"<img src={url}\"https://arxiv.org/abs/{paper_id}\">\"\"\"\n",
    "    txt = '<div id=\"qrcode\">' + txt + '</div>'\n",
    "    return txt\n",
    "\n",
    "\n",
    "def clean_non_western_encoded_characters_commands(text: str) -> str:\n",
    "    \"\"\" Remove non-western encoded characters from a string\n",
    "    List may need to grow.\n",
    "    \n",
    "    :param text: the text to clean\n",
    "    :return: the cleaned text\n",
    "    \"\"\"\n",
    "    text = re.sub(r\"(\\\\begin{CJK}{UTF8}{gbsn})(.*?)(\\\\end{CJK})\", r\"\\2\", text)\n",
    "    return text\n",
    "\n",
    "\n",
    "def get_initials(name: str) -> str:\n",
    "    \"\"\" Get the short name, e.g., A.-B. FamName\n",
    "    :param name: full name\n",
    "    :returns: initials\n",
    "    \"\"\"\n",
    "    initials = []\n",
    "    # account for non western names often in ()\n",
    "    if '(' in name:\n",
    "        name = clean_non_western_encoded_characters_commands(name)\n",
    "        suffix = re.findall(r\"\\((.*?)\\)\", name)[0]\n",
    "        name = name.replace(f\"({suffix})\", '')\n",
    "    else:\n",
    "        suffix = ''\n",
    "    split = name.split()\n",
    "    for token in split[:-1]:\n",
    "        if '-' in token:\n",
    "            current = '-'.join([k[0] + '.' for k in token.split('-')])\n",
    "        else:\n",
    "            current = token[0] + '.'\n",
    "        initials.append(current)\n",
    "    initials.append(split[-1].strip())\n",
    "    if suffix:\n",
    "        initials.append(f\"({suffix})\")\n",
    "    return ' '.join(initials)"
   ]
  },
  {
   "cell_type": "markdown",
   "id": "14bd6310",
   "metadata": {
    "papermill": {
     "duration": 0.002883,
     "end_time": "2025-09-19T04:11:42.144881",
     "exception": false,
     "start_time": "2025-09-19T04:11:42.141998",
     "status": "completed"
    },
    "tags": []
   },
   "source": [
    "## get list of arxiv paper candidates\n",
    "\n",
    "We use the MPIA mitarbeiter list webpage from mpia.de to get author names\n",
    "We then get all new papers from Arxiv and match authors"
   ]
  },
  {
   "cell_type": "code",
   "execution_count": 3,
   "id": "7ea813a8",
   "metadata": {
    "execution": {
     "iopub.execute_input": "2025-09-19T04:11:42.151436Z",
     "iopub.status.busy": "2025-09-19T04:11:42.151223Z",
     "iopub.status.idle": "2025-09-19T04:12:05.224539Z",
     "shell.execute_reply": "2025-09-19T04:12:05.223849Z"
    },
    "papermill": {
     "duration": 23.077989,
     "end_time": "2025-09-19T04:12:05.225795",
     "exception": false,
     "start_time": "2025-09-19T04:11:42.147806",
     "status": "completed"
    },
    "tags": []
   },
   "outputs": [],
   "source": [
    "# deal with the author list and edge cases of people that cannot be consistent on their name  \n",
    "\n",
    "def filter_non_scientists(name: str) -> bool:\n",
    "    \"\"\" Loose filter on expected authorships\n",
    "\n",
    "    removing IT, administration, technical staff\n",
    "    :param name: name\n",
    "    :returns: False if name is not a scientist\n",
    "    \"\"\"\n",
    "    remove_list = ['Licht', 'Binroth', 'Witzel', 'Jordan',\n",
    "                   'Zähringer', 'Scheerer', 'Hoffmann', 'Düe',\n",
    "                   'Hellmich', 'Enkler-Scharpegge', 'Witte-Nguy',\n",
    "                   'Dehen', 'Beckmann', 'Jager', 'Jäger'\n",
    "                  ]\n",
    "\n",
    "    for k in remove_list:\n",
    "        if k in name:\n",
    "            return False\n",
    "    return True\n",
    "\n",
    "def add_author_to_list(author_list: list) -> list:\n",
    "    \"\"\" Add author to list if not already in list\n",
    "    \n",
    "    :param author: author name\n",
    "    :param author_list: list of authors\n",
    "    :returns: updated list of authors\n",
    "    \"\"\"\n",
    "    add_list = ['T. Henning']\n",
    "\n",
    "    for author in add_list:\n",
    "        if author not in author_list:\n",
    "            author_list.append(author)\n",
    "    return author_list\n",
    "\n",
    "# get list from MPIA website\n",
    "# filter for non-scientists (mpia.get_mpia_mitarbeiter_list() does some filtering)\n",
    "mpia_authors = [k[1] for k in mpia.get_mpia_mitarbeiter_list() if filter_non_scientists(k[1])]\n",
    "# add some missing author because of inconsistencies in their MPIA name and author name on papers\n",
    "mpia_authors = add_author_to_list(mpia_authors)"
   ]
  },
  {
   "cell_type": "code",
   "execution_count": 4,
   "id": "2645e73a",
   "metadata": {
    "execution": {
     "iopub.execute_input": "2025-09-19T04:12:05.232970Z",
     "iopub.status.busy": "2025-09-19T04:12:05.232771Z",
     "iopub.status.idle": "2025-09-19T04:12:06.116691Z",
     "shell.execute_reply": "2025-09-19T04:12:06.116047Z"
    },
    "papermill": {
     "duration": 0.888612,
     "end_time": "2025-09-19T04:12:06.117738",
     "exception": false,
     "start_time": "2025-09-19T04:12:05.229126",
     "status": "completed"
    },
    "tags": []
   },
   "outputs": [
    {
     "name": "stdout",
     "output_type": "stream",
     "text": [
      "I. J. M. Crossfield  ->  I. J. M. Crossfield  |  ['I. J. M. Crossfield']\n",
      "E.-M. Ahrer  ->  E.-M. Ahrer  |  ['E.-M. Ahrer']\n",
      "L. Kreidberg  ->  L. Kreidberg  |  ['L. Kreidberg']\n",
      "G. Chauvin  ->  G. Chauvin  |  ['G. Chauvin']\n",
      "T. K. Henning  ->  T. K. Henning  |  ['T. K. Henning']\n",
      "F. Xu  ->  F. Xu  |  ['F. Xu']\n",
      "X. Zhang  ->  X. Zhang  |  ['X. Zhang']\n"
     ]
    },
    {
     "name": "stdout",
     "output_type": "stream",
     "text": [
      "X. Zhang  ->  X. Zhang  |  ['X. Zhang']\n",
      "J. Davies  ->  J. Davies  |  ['J. Davies']\n",
      "Arxiv has 73 new papers today\n",
      "          5 with possible author matches\n"
     ]
    }
   ],
   "source": [
    "new_papers = get_new_papers()\n",
    "# add manual references\n",
    "add_paper_refs = []\n",
    "new_papers.extend([get_paper_from_identifier(k) for k in add_paper_refs])\n",
    "\n",
    "def robust_call(fn, value, *args, **kwargs):\n",
    "    try:\n",
    "        return fn(value, *args, **kwargs)\n",
    "    except Exception:\n",
    "        return value\n",
    "\n",
    "candidates = []\n",
    "for paperk in new_papers:\n",
    "    # Check author list with their initials\n",
    "    normed_author_list = [robust_call(mpia.get_initials, k) for k in paperk['authors']]\n",
    "    hl_authors = highlight_authors_in_list(normed_author_list, mpia_authors, verbose=True)\n",
    "    matches = [(hl, orig) for hl, orig in zip(hl_authors, paperk['authors']) if 'mark' in hl]\n",
    "    paperk['authors'] = hl_authors\n",
    "    if matches:\n",
    "        # only select paper if an author matched our list\n",
    "        candidates.append(paperk)\n",
    "print(\"\"\"Arxiv has {0:,d} new papers today\"\"\".format(len(new_papers)))        \n",
    "print(\"\"\"          {0:,d} with possible author matches\"\"\".format(len(candidates)))"
   ]
  },
  {
   "cell_type": "markdown",
   "id": "3543b34a",
   "metadata": {
    "papermill": {
     "duration": 0.003091,
     "end_time": "2025-09-19T04:12:06.124381",
     "exception": false,
     "start_time": "2025-09-19T04:12:06.121290",
     "status": "completed"
    },
    "tags": []
   },
   "source": [
    "# Parse sources and generate relevant outputs\n",
    "\n",
    "From the candidates, we do the following steps:\n",
    "* get their tarball from ArXiv (and extract data)\n",
    "* find the main .tex file: find one with \\documentclass{...} (sometimes it's non trivial)\n",
    "* Check affiliations with :func:`validation`, which uses :func:`mpia.affiliation_verifications`\n",
    "* If passing the affiliations: we parse the .tex source\n",
    "   * inject sub-documents into the main (flatten the main document)\n",
    "   * parse structure, extract information (title, abstract, authors, figures...)\n",
    "   * handles `\\graphicspath` if provided\n",
    "* Generate the .md document."
   ]
  },
  {
   "cell_type": "code",
   "execution_count": 5,
   "id": "9576b79e",
   "metadata": {
    "execution": {
     "iopub.execute_input": "2025-09-19T04:12:06.131426Z",
     "iopub.status.busy": "2025-09-19T04:12:06.131186Z",
     "iopub.status.idle": "2025-09-19T04:12:48.071654Z",
     "shell.execute_reply": "2025-09-19T04:12:48.070788Z"
    },
    "papermill": {
     "duration": 41.945429,
     "end_time": "2025-09-19T04:12:48.072884",
     "exception": false,
     "start_time": "2025-09-19T04:12:06.127455",
     "status": "completed"
    },
    "scrolled": false,
    "tags": []
   },
   "outputs": [
    {
     "data": {
      "application/vnd.jupyter.widget-view+json": {
       "model_id": "465f624d24c64a55a856500be0a0e540",
       "version_major": 2,
       "version_minor": 0
      },
      "text/plain": [
       "  0%|          | 0/5 [00:00<?, ?it/s]"
      ]
     },
     "metadata": {},
     "output_type": "display_data"
    },
    {
     "name": "stdout",
     "output_type": "stream",
     "text": [
      "Retrieving document from  https://arxiv.org/e-print/2509.14318\n"
     ]
    },
    {
     "name": "stdout",
     "output_type": "stream",
     "text": [
      "extracting tarball to tmp_2509.14318... done.\n"
     ]
    },
    {
     "name": "stderr",
     "output_type": "stream",
     "text": [
      "/opt/hostedtoolcache/Python/3.9.23/x64/lib/python3.9/site-packages/arxiv_on_deck_2/latex.py:414: LatexWarning: Latex injecting: 'ms.bbl' from 'tmp_2509.14318/ms.tex'\n",
      "  warnings.warn(LatexWarning(f\"Latex injecting: '{ext}' from '{subsource}'\"))\n"
     ]
    },
    {
     "name": "stderr",
     "output_type": "stream",
     "text": [
      "/opt/hostedtoolcache/Python/3.9.23/x64/lib/python3.9/site-packages/arxiv_on_deck_2/latex.py:132: LatexWarning: attempting recovering figure 20250512_s_number_fractions_pies\n",
      "  warnings.warn(LatexWarning(f'attempting recovering figure {image}'))\n",
      "/opt/hostedtoolcache/Python/3.9.23/x64/lib/python3.9/site-packages/arxiv_on_deck_2/latex.py:137: LatexWarning: Recovered figure 20250512_s_number_fractions_pies as tmp_2509.14318/./20250512_s_number_fractions_pies.pdf\n",
      "  warnings.warn(LatexWarning(f'Recovered figure {image} as {fname}'))\n"
     ]
    },
    {
     "name": "stderr",
     "output_type": "stream",
     "text": [
      "/opt/hostedtoolcache/Python/3.9.23/x64/lib/python3.9/site-packages/arxiv_on_deck_2/latex.py:132: LatexWarning: attempting recovering figure 20250512_s_number_fractions_pies\n",
      "  warnings.warn(LatexWarning(f'attempting recovering figure {image}'))\n",
      "/opt/hostedtoolcache/Python/3.9.23/x64/lib/python3.9/site-packages/arxiv_on_deck_2/latex.py:137: LatexWarning: Recovered figure 20250512_s_number_fractions_pies as tmp_2509.14318/./20250512_s_number_fractions_pies.png\n",
      "  warnings.warn(LatexWarning(f'Recovered figure {image} as {fname}'))\n"
     ]
    },
    {
     "name": "stdout",
     "output_type": "stream",
     "text": [
      "Found 93 bibliographic references in tmp_2509.14318/ms.bbl.\n",
      "Retrieving document from  https://arxiv.org/e-print/2509.14321\n"
     ]
    },
    {
     "name": "stdout",
     "output_type": "stream",
     "text": [
      "extracting tarball to tmp_2509.14321..."
     ]
    },
    {
     "name": "stdout",
     "output_type": "stream",
     "text": [
      " done.\n"
     ]
    },
    {
     "name": "stderr",
     "output_type": "stream",
     "text": [
      "/opt/hostedtoolcache/Python/3.9.23/x64/lib/python3.9/site-packages/IPython/core/interactiveshell.py:3550: LatexWarning: Multiple tex files.\n",
      "\n",
      "  exec(code_obj, self.user_global_ns, self.user_ns)\n",
      "/opt/hostedtoolcache/Python/3.9.23/x64/lib/python3.9/site-packages/IPython/core/interactiveshell.py:3550: LatexWarning: Found documentclass in tmp_2509.14321/orbits.tex\n",
      "\n",
      "  exec(code_obj, self.user_global_ns, self.user_ns)\n",
      "/opt/hostedtoolcache/Python/3.9.23/x64/lib/python3.9/site-packages/arxiv_on_deck_2/latex.py:414: LatexWarning: Latex injecting: 'new_commands.tex' from 'tmp_2509.14321/new_commands.tex'\n",
      "  warnings.warn(LatexWarning(f\"Latex injecting: '{ext}' from '{subsource}'\"))\n"
     ]
    },
    {
     "name": "stdout",
     "output_type": "stream",
     "text": [
      "G. Chauvin  ->  G. Chauvin  |  ['G. Chauvin']\n",
      "T. K. Henning  ->  T. K. Henning  |  ['T. K. Henning']\n"
     ]
    },
    {
     "name": "stdout",
     "output_type": "stream",
     "text": [
      "Found 43 bibliographic references in tmp_2509.14321/orbits.bbl.\n",
      "Issues with the citations\n",
      "syntax error in line 5: unbalanced braces\n",
      "Retrieving document from  https://arxiv.org/e-print/2509.14691\n"
     ]
    },
    {
     "name": "stdout",
     "output_type": "stream",
     "text": [
      "extracting tarball to tmp_2509.14691..."
     ]
    },
    {
     "name": "stdout",
     "output_type": "stream",
     "text": [
      " done.\n",
      "Retrieving document from  https://arxiv.org/e-print/2509.15039\n"
     ]
    },
    {
     "name": "stdout",
     "output_type": "stream",
     "text": [
      "extracting tarball to tmp_2509.15039... done.\n",
      "Retrieving document from  https://arxiv.org/e-print/2509.15131\n"
     ]
    },
    {
     "name": "stdout",
     "output_type": "stream",
     "text": [
      "extracting tarball to tmp_2509.15131..."
     ]
    },
    {
     "name": "stdout",
     "output_type": "stream",
     "text": [
      " done.\n"
     ]
    }
   ],
   "source": [
    "documents = []\n",
    "failed = []\n",
    "for paper in tqdm(candidates):\n",
    "    # debug crap\n",
    "    paper['identifier'] = paper['identifier'].lower().replace('arxiv:', '').replace(r'\\n', '').strip()\n",
    "    paper_id = paper['identifier']\n",
    "    \n",
    "    folder = f'tmp_{paper_id}'\n",
    "\n",
    "    try:\n",
    "        if not os.path.isdir(folder):\n",
    "            folder = retrieve_document_source(f\"{paper_id}\", f'tmp_{paper_id}')\n",
    "        \n",
    "        try:\n",
    "            doc = latex.LatexDocument(folder, validation=validation)    \n",
    "        except AffiliationError as affilerror:\n",
    "            msg = f\"ArXiv:{paper_id:s} is not an MPIA paper... \" + str(affilerror)\n",
    "            failed.append((paper, \"affiliation error: \" + str(affilerror) ))\n",
    "            continue\n",
    "        \n",
    "        # Hack because sometimes author parsing does not work well\n",
    "        if (len(doc.authors) != len(paper['authors'])):\n",
    "            doc._authors = paper['authors']\n",
    "        else:\n",
    "            # highlight authors (FIXME: doc.highlight_authors)\n",
    "            # done on arxiv paper already\n",
    "            doc._authors = highlight_authors_in_list(\n",
    "                [get_initials(k) for k in doc.authors], \n",
    "                mpia_authors, verbose=True)\n",
    "        if (doc.abstract) in (None, ''):\n",
    "            doc._abstract = paper['abstract']\n",
    "            \n",
    "        doc.comment = (get_markdown_badge(paper_id) + \n",
    "                       \"<mark>Appeared on: \" + paper['date'] + \"</mark> - \")\n",
    "        if paper['comments']:\n",
    "            doc.comment += \" _\" + paper['comments'] + \"_\"\n",
    "        \n",
    "        full_md = doc.generate_markdown_text()\n",
    "        \n",
    "        full_md += get_markdown_qrcode(paper_id)\n",
    "        \n",
    "        # replace citations\n",
    "        try:\n",
    "            bibdata = latex_bib.LatexBib.from_doc(doc)\n",
    "            full_md = latex_bib.replace_citations(full_md, bibdata)\n",
    "        except Exception as e:\n",
    "            print(\"Issues with the citations\")\n",
    "            print(e)\n",
    "        \n",
    "        documents.append((paper_id, full_md))\n",
    "    except Exception as e:\n",
    "        warnings.warn(latex.LatexWarning(f\"{paper_id:s} did not run properly\\n\" +\n",
    "                                         str(e)\n",
    "                                        ))\n",
    "        failed.append((paper, \"latex error \" + str(e)))"
   ]
  },
  {
   "cell_type": "markdown",
   "id": "2505a25c",
   "metadata": {
    "papermill": {
     "duration": 0.003955,
     "end_time": "2025-09-19T04:12:48.081188",
     "exception": false,
     "start_time": "2025-09-19T04:12:48.077233",
     "status": "completed"
    },
    "tags": []
   },
   "source": [
    "### Export the logs\n",
    "\n",
    "Throughout, we also keep track of the logs per paper. see `logs-{today date}.md` "
   ]
  },
  {
   "cell_type": "code",
   "execution_count": 6,
   "id": "d733828a",
   "metadata": {
    "execution": {
     "iopub.execute_input": "2025-09-19T04:12:48.090526Z",
     "iopub.status.busy": "2025-09-19T04:12:48.090188Z",
     "iopub.status.idle": "2025-09-19T04:12:48.106401Z",
     "shell.execute_reply": "2025-09-19T04:12:48.105805Z"
    },
    "papermill": {
     "duration": 0.022262,
     "end_time": "2025-09-19T04:12:48.107456",
     "exception": false,
     "start_time": "2025-09-19T04:12:48.085194",
     "status": "completed"
    },
    "scrolled": false,
    "tags": []
   },
   "outputs": [
    {
     "data": {
      "text/markdown": [
       "## Successful papers"
      ],
      "text/plain": [
       "<IPython.core.display.Markdown object>"
      ]
     },
     "metadata": {},
     "output_type": "display_data"
    },
    {
     "data": {
      "text/markdown": [
       "\n",
       "|||\n",
       "|---:|:---|\n",
       "| [![arXiv](https://img.shields.io/badge/arXiv-2509.14318-b31b1b.svg)](https://arxiv.org/abs/2509.14318) | **Mapping the SO2 Shoreline in Gas Giant Exoplanets**  |\n",
       "|| <mark>I. J. M. Crossfield</mark>, et al. -- incl., <mark>E.-M. Ahrer</mark>, <mark>L. Kreidberg</mark> |\n",
       "|*Appeared on*| *2025-09-19*|\n",
       "|*Comments*| *16 pages, 7 figures, >900 models and spectra at this https URL . Resubmitted to ApJ (on 29 Aug) after referee review*|\n",
       "|**Abstract**|            JWST has revealed sulfur chemistry in giant exoplanet atmospheres, where molecules such as SO2 trace photochemistry, metallicity, and formation and migration. To ascertain the conditions that determine whether (or how much) SO2, H2S, and other sulfur-bearing species are present in exoplanet atmospheres, we present a grid of planetary atmospheres covering metallicities from 0.3-1000x Solar and temperatures from 250-2050 K. These models map out the 'SO2 shoreline,' the region of metallicity and irradiation for which SO2 may be sufficiently abundant to be detectable. SO2 is a sensitive indicator of metallicity; expected SO2 abundances also depend strongly on overall temperature and C/O ratio; the SO2 abundance depends surprisingly weakly on XUV irradiation, also weakly on Kzz (for Teq > 600 K), and is essentially independent of internal temperature. Despite its detection in a growing number of giant planets, SO2 is never the dominant sulfur-bearing molecule: depending on temperature and metallicity, H2S, S2, NS, SO, SH, and even S8 or atomic S are frequently as common (or more so) as SO2. Nonetheless SO2 remains the most easily detectable sulfur-bearing species, followed by H2S, though perhaps SO and SH could be detectable in some gas giants. Aside from a pressing need for additional observational constraints on sulfur, we also identify the need for future work to account for the effects of clouds and hazes, fully self-consistent atmospheric models, 2D and 3D models, a wider range of planetary masses and radii, and studies to measure and refine reaction rates and molecular opacities of sulfur-bearing species         |"
      ],
      "text/plain": [
       "[2509.14318] Mapping the SO2 Shoreline in Gas Giant Exoplanets\n",
       "\t<mark>I. J. M. Crossfield</mark>, et al. -- incl., <mark>E.-M. Ahrer</mark>, <mark>L. Kreidberg</mark>"
      ]
     },
     "metadata": {},
     "output_type": "display_data"
    },
    {
     "data": {
      "text/markdown": [
       "\n",
       "|||\n",
       "|---:|:---|\n",
       "| [![arXiv](https://img.shields.io/badge/arXiv-2509.14321-b31b1b.svg)](https://arxiv.org/abs/2509.14321) | **New Orbital Constraints for YSES 1 b and HR 2562 B from High-Precision Astrometry and Planetary Radial Velocities**  |\n",
       "|| J. Roberts, et al. -- incl., <mark>G. Chauvin</mark>, <mark>T. K. Henning</mark> |\n",
       "|*Appeared on*| *2025-09-19*|\n",
       "|*Comments*| **|\n",
       "|**Abstract**|            We present new VLTI/GRAVITY astrometry and updated orbit fits for the directly imaged companions YSES 1 b and HR 2562 B, substellar objects straddling the planet-brown dwarf boundary. Using high-precision astrometry, radial velocity (RV) data, and proper motions, we derive revised orbital parameters with orbitize! arXiv:1910.01756. For YSES 1 b, the inclusion of GRAVITY astrometry and a relative radial velocity measurement from arXiv:2409.16660 overcomes the traditional challenge of constraining eccentricities for distant companions, enabling the first orbit fit and yielding a constrained eccentricity of 0.44 (0.20). This represents the first full orbit fit for the system. Additionally, we calculate a median line-of-sight stellar obliquity of 12 (+11, -8) degrees, providing further insight into the system's dynamical architecture. For HR 2562 B, our analysis agrees with arXiv:2302.04893, confirming a low-eccentricity orbit (0.34 (0.20)) and an inclination of 87 (1) degrees. We find HR 2562 B's orbit to be nearly coplanar with the debris disk, with a mutual inclination of 3.7 (0.3) degrees. For both YSES 1 b and HR 2562 B the lower eccentricities favor an in situ formation scenario over extreme scattering or cloud fragmentation.         |"
      ],
      "text/plain": [
       "[2509.14321] New Orbital Constraints for YSES 1 b and HR 2562 B from High-Precision Astrometry and Planetary Radial Velocities\n",
       "\tJ. Roberts, et al. -- incl., <mark>G. Chauvin</mark>, <mark>T. K. Henning</mark>"
      ]
     },
     "metadata": {},
     "output_type": "display_data"
    },
    {
     "data": {
      "text/markdown": [
       "## Failed papers"
      ],
      "text/plain": [
       "<IPython.core.display.Markdown object>"
      ]
     },
     "metadata": {},
     "output_type": "display_data"
    },
    {
     "data": {
      "text/markdown": [
       "\n",
       "|||\n",
       "|---:|:---|\n",
       "| [![arXiv](https://img.shields.io/badge/arXiv-2509.14691-b31b1b.svg)](https://arxiv.org/abs/2509.14691) | **MCI: Multi-Channel Imager on the Chinese Space Station Survey Telescope**  |\n",
       "|| Z.-Y. Zheng, et al. -- incl., <mark>F. Xu</mark>, <mark>X. Zhang</mark> |\n",
       "|*Appeared on*| *2025-09-19*|\n",
       "|*Comments*| *11 pages, 5 figures, submitted to RAA. Comments are welcome!*|\n",
       "|**Abstract**|            The Multi-Channel Imager (MCI) is a powerful near-ultraviolet (NUV) and visible imager onboard the Chinese Space Station Survey Telescope (CSST). The MCI provides three imaging channels, which are the NUV channel, the Optical-blue channel and the Optical-red channel, with the wavelength range of 255-430 nm, 430-700 nm, and 700-1000 nm, respectively. The three channels can target the same field simultaneously. Each channel employs a CCD focal plane of 9216 x 9232 pixels and $\\sim$7.5 x 7.5 arcmin$^2$ field of view. The MCI's three channels feature unprecedented sensitivities and field of views, as well as rich filter sets, which complements the NUV and visible capabilities of the CSST for the high-precision photometry, the weak-signal detection, and the related sciences. Here we present key design features, results of current ground tests, and suggested observing strategies of the MCI.         |\n",
       "|<p style=\"color:green\"> **ERROR** </p>| <p style=\"color:green\">affiliation error: mpia.affiliation_verifications: 'Heidelberg' keyword not found.</p> |"
      ],
      "text/plain": [
       "<IPython.core.display.Markdown object>"
      ]
     },
     "metadata": {},
     "output_type": "display_data"
    },
    {
     "data": {
      "text/markdown": [
       "\n",
       "|||\n",
       "|---:|:---|\n",
       "| [![arXiv](https://img.shields.io/badge/arXiv-2509.15039-b31b1b.svg)](https://arxiv.org/abs/2509.15039) | **A dark energy model for coasting cosmology**  |\n",
       "|| Y. Ren, et al. -- incl., <mark>X. Zhang</mark> |\n",
       "|*Appeared on*| *2025-09-19*|\n",
       "|*Comments*| *15 pages, 3 figures*|\n",
       "|**Abstract**|            Coasting cosmology offers an intriguing and straightforward framework for understanding the universe. In this work, we employ the Trans-Planckian Censorship Criterion (TCC) conjecture to test the viability of the coasting cosmology and propose an entropic dark energy (EDE) model within this framework. By applying the holographic principle to constrain the dark energy density and adopting the Bekenstein entropy and Tsallis entropy as the constraining entropies of the system, we find that, in a holographic coasting cosmological framework where dark energy and dark matter evolve independently, the Tsallis entropy satisfies certain general assumptions better than the Bekenstein entropy. Thus, there may be a fundamental relationship between Tsallis entropy and dark energy. We utilize observational data from Type Ia Supernovae (SNIa), Baryon Acoustic Oscillations (BAO), and Cosmic Chronometers (CC) to constrain EDE model. The optimal Tsallis parameter obtained aligns well with theoretical expectations. To evaluate the model's fit to the observed data, we calculate the Akaike Information Criterion (AIC), Bayesian Information Criterion (BIC), and Kullback Information Criterion (KIC), and compare these metrics with those derived from $\\Lambda$CDM, under which the model shows some improvement. Overall, this model provides a novel and simple on the evolution of the universe.         |\n",
       "|<p style=\"color:green\"> **ERROR** </p>| <p style=\"color:green\">affiliation error: mpia.affiliation_verifications: 'Heidelberg' keyword not found.</p> |"
      ],
      "text/plain": [
       "<IPython.core.display.Markdown object>"
      ]
     },
     "metadata": {},
     "output_type": "display_data"
    },
    {
     "data": {
      "text/markdown": [
       "\n",
       "|||\n",
       "|---:|:---|\n",
       "| [![arXiv](https://img.shields.io/badge/arXiv-2509.15131-b31b1b.svg)](https://arxiv.org/abs/2509.15131) | **Polarimeter to Unify the Corona and Heliosphere (PUNCH)**  |\n",
       "|| C. DeForest, et al. -- incl., <mark>J. Davies</mark> |\n",
       "|*Appeared on*| *2025-09-19*|\n",
       "|*Comments*| *Submitted to the journal Solar Physics; this preprint is not yet peer reviewed*|\n",
       "|**Abstract**|            The Polarimeter to Unify the Corona and Heliosphere (PUNCH) mission is a NASA Small Explorer to determine the cross-scale processes that unify the solar corona and heliosphere. PUNCH has two science objectives: (1) understand how coronal structures become the ambient solar wind, and (2) understand the dynamic evolution of transient structures, such as coronal mass ejections, in the young solar wind. To address these objectives, PUNCH uses a constellation of four small spacecraft in Sun-synchronous low Earth orbit, to collect linearly polarized images of the K corona and young solar wind. The four spacecraft each carry one visible-light imager in a 1+3 configuration: a single Narrow Field Imager solar coronagraph captures images of the outer corona at all position angles, and at solar elongations from 1.5° (6 R$_\\odot$) to 8° (32 R$_\\odot$); and three separate Wide Field Imager heliospheric imagers together capture views of the entire inner solar system, at solar elongations from 3° (12 R$_\\odot$) to 45° (180 R$_\\odot$) from the Sun. PUNCH images include linear-polarization data, to enable inferring the three-dimensional structure of visible features without stereoscopy. The instruments are matched in wavelength passband, support overlapping instantaneous fields of view, and are operated synchronously, to act as a single ``virtual instrument'' with a 90° wide field of view, centered on the Sun. PUNCH launched in March of 2025 and began science operations in June of 2025. PUNCH has an open data policy with no proprietary period, and PUNCH Science Team Meetings are open to all.         |\n",
       "|<p style=\"color:green\"> **ERROR** </p>| <p style=\"color:green\">affiliation error: mpia.affiliation_verifications: 'Heidelberg' keyword not found.</p> |"
      ],
      "text/plain": [
       "<IPython.core.display.Markdown object>"
      ]
     },
     "metadata": {},
     "output_type": "display_data"
    }
   ],
   "source": [
    "import datetime\n",
    "today = str(datetime.date.today())\n",
    "logfile = f\"_build/html/logs/log-{today}.md\"\n",
    "\n",
    "\n",
    "with open(logfile, 'w') as logs:\n",
    "    # Success\n",
    "    logs.write(f'# Arxiv on Deck 2: Logs - {today}\\n\\n')\n",
    "    logs.write(\"\"\"* Arxiv had {0:,d} new papers\\n\"\"\".format(len(new_papers)))\n",
    "    logs.write(\"\"\"    * {0:,d} with possible author matches\\n\\n\"\"\".format(len(candidates)))\n",
    "    logs.write(\"## Sucessful papers\\n\\n\")\n",
    "    display(Markdown(\"## Successful papers\"))\n",
    "    success = [k[0] for k in documents]\n",
    "    for candid in candidates:\n",
    "        if candid['identifier'].split(':')[-1] in success:\n",
    "            display(candid)\n",
    "            logs.write(candid.generate_markdown_text() + '\\n\\n')\n",
    "\n",
    "    ## failed\n",
    "    logs.write(\"## Failed papers\\n\\n\")\n",
    "    display(Markdown(\"## Failed papers\"))\n",
    "    failed = sorted(failed, key=lambda x: x[1])\n",
    "    current_reason = \"\"\n",
    "    for paper, reason in failed:\n",
    "        if 'affiliation' in reason:\n",
    "            color = 'green'\n",
    "        else:\n",
    "            color = 'red'\n",
    "        data = Markdown(\n",
    "                paper.generate_markdown_text() + \n",
    "                f'\\n|<p style=\"color:{color:s}\"> **ERROR** </p>| <p style=\"color:{color:s}\">{reason:s}</p> |'\n",
    "               )\n",
    "        if reason != current_reason:\n",
    "            logs.write(f'### {reason:s} \\n\\n')\n",
    "            current_reason = reason\n",
    "        logs.write(data.data + '\\n\\n')\n",
    "        \n",
    "        # only display here the important errors (all in logs)\n",
    "        # if color in ('red',):\n",
    "        display(data)"
   ]
  },
  {
   "cell_type": "markdown",
   "id": "472d20ee",
   "metadata": {
    "papermill": {
     "duration": 0.004505,
     "end_time": "2025-09-19T04:12:48.116828",
     "exception": false,
     "start_time": "2025-09-19T04:12:48.112323",
     "status": "completed"
    },
    "tags": []
   },
   "source": [
    "## Export documents\n",
    "\n",
    "We now write the .md files and export relevant images"
   ]
  },
  {
   "cell_type": "code",
   "execution_count": 7,
   "id": "d426aed9",
   "metadata": {
    "execution": {
     "iopub.execute_input": "2025-09-19T04:12:48.126809Z",
     "iopub.status.busy": "2025-09-19T04:12:48.126600Z",
     "iopub.status.idle": "2025-09-19T04:12:48.133606Z",
     "shell.execute_reply": "2025-09-19T04:12:48.132778Z"
    },
    "papermill": {
     "duration": 0.013235,
     "end_time": "2025-09-19T04:12:48.134642",
     "exception": false,
     "start_time": "2025-09-19T04:12:48.121407",
     "status": "completed"
    },
    "tags": []
   },
   "outputs": [],
   "source": [
    "def export_markdown_summary(md: str, md_fname:str, directory: str):\n",
    "    \"\"\"Export MD document and associated relevant images\"\"\"\n",
    "    import os\n",
    "    import shutil\n",
    "    import re\n",
    "\n",
    "    if (os.path.exists(directory) and not os.path.isdir(directory)):\n",
    "        raise RuntimeError(f\"a non-directory file exists with name {directory:s}\")\n",
    "\n",
    "    if (not os.path.exists(directory)):\n",
    "        print(f\"creating directory {directory:s}\")\n",
    "        os.mkdir(directory)\n",
    "\n",
    "    fig_fnames = (re.compile(r'\\[Fig.*\\]\\((.*)\\)').findall(md) + \n",
    "                  re.compile(r'\\<img src=\"([^>\\s]*)\"[^>]*/>').findall(md))\n",
    "    print(\"found figures\", fig_fnames)\n",
    "    for fname in fig_fnames:\n",
    "        if 'http' in fname:\n",
    "            # No need to copy online figures\n",
    "            continue\n",
    "        if not os.path.exists(fname):\n",
    "            print(\"file not found\", fname)\n",
    "            continue\n",
    "        print(\"copying \", fname, \"to\", directory)\n",
    "        destdir = os.path.join(directory, os.path.dirname(fname))\n",
    "        destfname = os.path.join(destdir, os.path.basename(fname))\n",
    "        try:\n",
    "            os.makedirs(destdir)\n",
    "        except FileExistsError:\n",
    "            pass\n",
    "        shutil.copy(fname, destfname)\n",
    "    with open(os.path.join(directory, md_fname), 'w') as fout:\n",
    "        fout.write(md)\n",
    "    print(\"exported in \", os.path.join(directory, md_fname))\n",
    "    [print(\"    + \" + os.path.join(directory,fk)) for fk in fig_fnames]"
   ]
  },
  {
   "cell_type": "code",
   "execution_count": 8,
   "id": "014d04a4",
   "metadata": {
    "execution": {
     "iopub.execute_input": "2025-09-19T04:12:48.145398Z",
     "iopub.status.busy": "2025-09-19T04:12:48.145132Z",
     "iopub.status.idle": "2025-09-19T04:12:48.151987Z",
     "shell.execute_reply": "2025-09-19T04:12:48.151374Z"
    },
    "papermill": {
     "duration": 0.013183,
     "end_time": "2025-09-19T04:12:48.153067",
     "exception": false,
     "start_time": "2025-09-19T04:12:48.139884",
     "status": "completed"
    },
    "tags": []
   },
   "outputs": [
    {
     "name": "stdout",
     "output_type": "stream",
     "text": [
      "found figures ['tmp_2509.14318/./shoreline_plot_v3.png', 'tmp_2509.14318/./shoreline_plot_v3.png', 'tmp_2509.14318/./tps_met_tint.png']\n",
      "copying  tmp_2509.14318/./shoreline_plot_v3.png to _build/html/\n",
      "copying  tmp_2509.14318/./shoreline_plot_v3.png to _build/html/\n",
      "copying  tmp_2509.14318/./tps_met_tint.png to _build/html/\n",
      "exported in  _build/html/2509.14318.md\n",
      "    + _build/html/tmp_2509.14318/./shoreline_plot_v3.png\n",
      "    + _build/html/tmp_2509.14318/./shoreline_plot_v3.png\n",
      "    + _build/html/tmp_2509.14318/./tps_met_tint.png\n",
      "found figures ['tmp_2509.14321/./mutual_inclination_histogram.png', 'tmp_2509.14321/./YSESLOS.png', 'tmp_2509.14321/./HR2562_fullcorner_paper.png']\n",
      "copying  tmp_2509.14321/./mutual_inclination_histogram.png to _build/html/\n",
      "copying  tmp_2509.14321/./YSESLOS.png to _build/html/\n",
      "copying  tmp_2509.14321/./HR2562_fullcorner_paper.png to _build/html/\n",
      "exported in  _build/html/2509.14321.md\n",
      "    + _build/html/tmp_2509.14321/./mutual_inclination_histogram.png\n",
      "    + _build/html/tmp_2509.14321/./YSESLOS.png\n",
      "    + _build/html/tmp_2509.14321/./HR2562_fullcorner_paper.png\n"
     ]
    }
   ],
   "source": [
    "for paper_id, md in documents:\n",
    "    export_markdown_summary(md, f\"{paper_id:s}.md\", '_build/html/')"
   ]
  },
  {
   "cell_type": "markdown",
   "id": "f087a0a7",
   "metadata": {
    "papermill": {
     "duration": 0.004697,
     "end_time": "2025-09-19T04:12:48.162530",
     "exception": false,
     "start_time": "2025-09-19T04:12:48.157833",
     "status": "completed"
    },
    "tags": []
   },
   "source": [
    "## Display the papers\n",
    "\n",
    "Not necessary but allows for a quick check."
   ]
  },
  {
   "cell_type": "code",
   "execution_count": 9,
   "id": "fd25f625",
   "metadata": {
    "execution": {
     "iopub.execute_input": "2025-09-19T04:12:48.172763Z",
     "iopub.status.busy": "2025-09-19T04:12:48.172564Z",
     "iopub.status.idle": "2025-09-19T04:12:48.178280Z",
     "shell.execute_reply": "2025-09-19T04:12:48.177709Z"
    },
    "papermill": {
     "duration": 0.012021,
     "end_time": "2025-09-19T04:12:48.179328",
     "exception": false,
     "start_time": "2025-09-19T04:12:48.167307",
     "status": "completed"
    },
    "scrolled": false,
    "tags": []
   },
   "outputs": [
    {
     "data": {
      "text/markdown": [
       "<div class=\"macros\" style=\"visibility:hidden;\">\n",
       "$\\newcommand{\\ensuremath}{}$\n",
       "$\\newcommand{\\xspace}{}$\n",
       "$\\newcommand{\\object}[1]{\\texttt{#1}}$\n",
       "$\\newcommand{\\farcs}{{.}''}$\n",
       "$\\newcommand{\\farcm}{{.}'}$\n",
       "$\\newcommand{\\arcsec}{''}$\n",
       "$\\newcommand{\\arcmin}{'}$\n",
       "$\\newcommand{\\ion}[2]{#1#2}$\n",
       "$\\newcommand{\\textsc}[1]{\\textrm{#1}}$\n",
       "$\\newcommand{\\hl}[1]{\\textrm{#1}}$\n",
       "$\\newcommand{\\footnote}[1]{}$\n",
       "$\\newcommand{\\vdag}{(v)^\\dagger}$\n",
       "$\\newcommand$\n",
       "$\\newcommand$\n",
       "$\\newcommand{\\ntarg}{26\\xspace}$\n",
       "$\\newcommand{\\ntoi}{30\\xspace}$\n",
       "$\\newcommand{\\vsini}{\\ensuremath{v \\sin i}\\xspace}$\n",
       "$\\newcommand{\\teff}{\\ensuremath{T_\\mathrm{eff}}\\xspace}$\n",
       "$\\newcommand{\\teq}{\\ensuremath{T_\\mathrm{eq}}\\xspace}$\n",
       "$\\newcommand{\\tint}{\\ensuremath{T_\\mathrm{int}}\\xspace}$\n",
       "$\\newcommand{\\kms}{km~s\\ensuremath{^{-1}}\\xspace}$\n",
       "$\\newcommand{\\kzz}{\\ensuremath{K_{zz}}}$\n",
       "$\\newcommand{\\soo}{SO_2\\xspace}$\n",
       "$\\newcommand{\\coo}{CO_2\\xspace}$\n",
       "$\\newcommand{\\water}{H_2O\\xspace}$\n",
       "$\\newcommand{\\hhs}{H_2S\\xspace}$\n",
       "$\\newcommand{\\methane}{CH_4\\xspace}$\n",
       "$\\newcommand{\\co}[2]{\\ensuremath{^{#1}\\textrm{C}^{#2}\\textrm{O}}\\xspace}$\n",
       "$\\newcommand{\\car}[1]{\\ensuremath{^{#1}\\textrm{C}}\\xspace}$\n",
       "$\\newcommand{\\ox}[1]{\\ensuremath{^{#1}\\textrm{O}}\\xspace}$\n",
       "$\\newcommand{\\update}$\n",
       "$\\newcommand{\\tirr}{\\ensuremath{T_\\mathrm{irr}}}$\n",
       "$\\newcommand{\\TESS}{{\\em TESS}}$\n",
       "$\\newcommand{\\tess}{{\\em TESS}}$\n",
       "$\\newcommand{\\spitzer}{{\\em Spitzer}}$\n",
       "$\\newcommand{\\gj}{GJ~1252}$\n",
       "$\\newcommand{\\gjb}{GJ~1252b}$\n",
       "$\\newcommand{\\rp}{1.180}$\n",
       "$\\newcommand{\\urp}{\\pm0.078}$\n",
       "$\\newcommand{\\vesc}{5.4}$\n",
       "$\\newcommand{\\uvesc}{\\pm0.8}$\n",
       "$\\newcommand{\\tday}{1410}$\n",
       "$\\newcommand{\\utday}{^{+91}_{-125}}$\n",
       "$\\newcommand{\\depth}{149}$\n",
       "$\\newcommand{\\udepth}{^{+25}_{-32}}$\n",
       "$\\newcommand{\\te}{2458668.3575}$\n",
       "$\\newcommand{\\ute}{^{+0.0019}_{-0.0007}}$\n",
       "$\\newcommand{\\dt}{+1.4}$\n",
       "$\\newcommand{\\udt}{^{+2.8}_{-1.0}}$\n",
       "$\\newcommand{\\abUL}{0.41}$\n",
       "$\\newcommand{\\fLL}{0.40}$\n",
       "$\\newcommand{\\fabLL}{0.37}$\n",
       "$\\newcommand{\\ecoswnosign}{0.0025}$\n",
       "$\\newcommand{\\ecosw}{+0.0025}$\n",
       "$\\newcommand{\\uecosw}{^{+0.0049}_{-0.0018}}$\n",
       "$\\newcommand{\\psurfUL}{8.9}$\n",
       "$\\newcommand{\\age}{3.9}$\n",
       "$\\newcommand{\\uage}{0.4}$\n",
       "$\\newcommand{\\referee}$\n",
       "$\\newcommand{\\vdag}{(v)^\\dagger}$\n",
       "$\\newcommand$\n",
       "$\\newcommand$\n",
       "$\\newcommand{\\ntarg}{26\\xspace}$\n",
       "$\\newcommand{\\ntoi}{30\\xspace}$\n",
       "$\\newcommand{\\vsini}{\\ensuremath{v \\sin i}\\xspace}$\n",
       "$\\newcommand{\\teff}{\\ensuremath{T_\\mathrm{eff}}\\xspace}$\n",
       "$\\newcommand{\\teq}{\\ensuremath{T_\\mathrm{eq}}\\xspace}$\n",
       "$\\newcommand{\\tint}{\\ensuremath{T_\\mathrm{int}}\\xspace}$\n",
       "$\\newcommand{\\kms}{km~s\\ensuremath{^{-1}}\\xspace}$\n",
       "$\\newcommand{\\kzz}{\\ensuremath{K_{zz}}}$\n",
       "$\\newcommand{\\soo}{SO_2\\xspace}$\n",
       "$\\newcommand{\\coo}{CO_2\\xspace}$\n",
       "$\\newcommand{\\water}{H_2O\\xspace}$\n",
       "$\\newcommand{\\hhs}{H_2S\\xspace}$\n",
       "$\\newcommand{\\methane}{CH_4\\xspace}$\n",
       "$\\newcommand{\\co}[2]{\\ensuremath{^{#1}\\textrm{C}^{#2}\\textrm{O}}\\xspace}$\n",
       "$\\newcommand{\\car}[1]{\\ensuremath{^{#1}\\textrm{C}}\\xspace}$\n",
       "$\\newcommand{\\ox}[1]{\\ensuremath{^{#1}\\textrm{O}}\\xspace}$\n",
       "$\\newcommand{\\update}$\n",
       "$\\newcommand{\\tirr}{\\ensuremath{T_\\mathrm{irr}}}$\n",
       "$\\newcommand{\\TESS}{{\\em TESS}}$\n",
       "$\\newcommand{\\tess}{{\\em TESS}}$\n",
       "$\\newcommand{\\spitzer}{{\\em Spitzer}}$\n",
       "$\\newcommand{\\gj}{GJ~1252}$\n",
       "$\\newcommand{\\gjb}{GJ~1252b}$\n",
       "$\\newcommand{\\rp}{1.180}$\n",
       "$\\newcommand{\\urp}{\\pm0.078}$\n",
       "$\\newcommand{\\vesc}{5.4}$\n",
       "$\\newcommand{\\uvesc}{\\pm0.8}$\n",
       "$\\newcommand{\\tday}{1410}$\n",
       "$\\newcommand{\\utday}{^{+91}_{-125}}$\n",
       "$\\newcommand{\\depth}{149}$\n",
       "$\\newcommand{\\udepth}{^{+25}_{-32}}$\n",
       "$\\newcommand{\\te}{2458668.3575}$\n",
       "$\\newcommand{\\ute}{^{+0.0019}_{-0.0007}}$\n",
       "$\\newcommand{\\dt}{+1.4}$\n",
       "$\\newcommand{\\udt}{^{+2.8}_{-1.0}}$\n",
       "$\\newcommand{\\abUL}{0.41}$\n",
       "$\\newcommand{\\fLL}{0.40}$\n",
       "$\\newcommand{\\fabLL}{0.37}$\n",
       "$\\newcommand{\\ecoswnosign}{0.0025}$\n",
       "$\\newcommand{\\ecosw}{+0.0025}$\n",
       "$\\newcommand{\\uecosw}{^{+0.0049}_{-0.0018}}$\n",
       "$\\newcommand{\\psurfUL}{8.9}$\n",
       "$\\newcommand{\\age}{3.9}$\n",
       "$\\newcommand{\\uage}{0.4}$\n",
       "$\\newcommand{\\referee}$</div>\n",
       "\n",
       "\n",
       "\n",
       "<div id=\"title\">\n",
       "\n",
       "# Mapping the $\\soo$ shoreline in gas giant exoplanets\n",
       "\n",
       "</div>\n",
       "<div id=\"comments\">\n",
       "\n",
       "[![arXiv](https://img.shields.io/badge/arXiv-2509.14318-b31b1b.svg)](https://arxiv.org/abs/2509.14318)<mark>Appeared on: 2025-09-19</mark> -  _16 pages, 7 figures, >900 models and spectra at this https URL . Resubmitted to ApJ (on 29 Aug) after referee review_\n",
       "\n",
       "</div>\n",
       "<div id=\"authors\">\n",
       "\n",
       "<mark>I. J. M. Crossfield</mark>, et al. -- incl., <mark>E.-M. Ahrer</mark>, <mark>L. Kreidberg</mark>\n",
       "\n",
       "</div>\n",
       "<div id=\"abstract\">\n",
       "\n",
       "**Abstract:** JWST has revealed sulfur chemistry in giant exoplanet atmospheres, where molecules such as SO2 trace photochemistry, metallicity, and formation and migration. To ascertain the conditions that determine whether (or how much) $\\soo$ , $\\hhs$ , and other sulfur-bearing species are present in exoplanet atmospheres, we present a grid of planetary atmospheres covering metallicities from 0.3--1000 $\\times$ Solar and temperatures from 250--2050 K. These models map out the ` $\\soo$ shoreline,' the region of metallicity and irradiation for which $\\soo$ may be sufficiently abundant to be detectable. $\\soo$ is a sensitive indicator of metallicity; expected $\\soo$ abundances also depend strongly on overall temperature and C/O ratio; the $\\soo$ abundance depends surprisingly weakly on XUV irradiation, also weakly on $\\kzz$ (for $T_\\mathrm{eq} \\gtrsim 600$ K), and is essentially independent of internal temperature. Despite its detection in a growing number of giant planets, $\\soo$ is never the dominant sulfur-bearing molecule: depending on temperature and metallicity, $H_2$ S, $S_2$ , NS, SO, SH, and even $S_8$ or atomic S are frequently as common (or more so) as $\\soo$ . Nonetheless $\\soo$ remains the most easily detectable sulfur-bearing species, followed by $\\hhs$ , though perhaps SO and SH could be detectable in some gas giants. Aside from a pressing need for additional observational constraints on sulfur, we also identify the need for future work to account for the effects of clouds and hazes, fully self-consistent atmospheric models, 2D and 3D models, a wider range of planetary masses and radii, and studies to measure and refine reaction rates and molecular opacities of sulfur-bearing species.\n",
       "\n",
       "</div>\n",
       "\n",
       "<div id=\"div_fig1\">\n",
       "\n",
       "<img src=\"tmp_2509.14318/./shoreline_plot_v3.png\" alt=\"Fig3\" width=\"100%\"/>\n",
       "\n",
       "**Figure 3. -** $\\soo$ abundance averaged from 1--100 $\\mu$bar for our\n",
       "  nominal model grid (color map), with the 1 ppm volume mixing ratio\n",
       "  indicated by the dashed line.  We term this the \"$\\soo$ shoreline,\"\n",
       "  below which $\\soo$ is unlikely to be detectable.  Markers show the\n",
       "  shoreline in the context of exoplanets observed by JWST in transit\n",
       "  with $R_P\\ge 1.8 R_\\oplus$.  Empty symbols indicate unpublished\n",
       "  observations; white hexagons show $\\soo$ nondetections while blue\n",
       "  hexagons show $\\soo$ detections. {$\\referee$ All four non-detections within the $\\soo$-rich region still allow for the presence of significant levels  of $\\soo$.} (*fig:shorelinemap*)\n",
       "\n",
       "</div>\n",
       "<div id=\"div_fig2\">\n",
       "\n",
       "<img src=\"tmp_2509.14318/./shoreline_plot_v3.png\" alt=\"Fig9\" width=\"100%\"/>\n",
       "\n",
       "**Figure 9. -** $\\soo$ abundance averaged from 1--100 $\\mu$bar for our\n",
       "  nominal model grid (color map), with the 1 ppm volume mixing ratio\n",
       "  indicated by the dashed line.  We term this the \"$\\soo$ shoreline,\"\n",
       "  below which $\\soo$ is unlikely to be detectable.  Markers show the\n",
       "  shoreline in the context of exoplanets observed by JWST in transit\n",
       "  with $R_P\\ge 1.8 R_\\oplus$.  Empty symbols indicate unpublished\n",
       "  observations; white hexagons show $\\soo$ nondetections while blue\n",
       "  hexagons show $\\soo$ detections. {$\\referee$ All four non-detections within the $\\soo$-rich region still allow for the presence of significant levels  of $\\soo$.} (*fig:shorelinemap*)\n",
       "\n",
       "</div>\n",
       "<div id=\"div_fig3\">\n",
       "\n",
       "<img src=\"tmp_2509.14318/./tps_met_tint.png\" alt=\"Fig1\" width=\"100%\"/>\n",
       "\n",
       "**Figure 1. -** Representative temperature profiles of our models, showing\n",
       "  two metallicities and two $T_\\mathrm{int}$ for equilibrium\n",
       "  temperatures of 250, 700, 1150, 1600, and 2050 K. Changing\n",
       "  $T_\\mathrm{int}$ affects the temperature profile at\n",
       "  $P\\gtrsim1$ mbar, at altitudes below where transmission spectra\n",
       "  probe and where $\\soo$ is produced. (*fig:tps*)\n",
       "\n",
       "</div><div id=\"qrcode\"><img src=https://api.qrserver.com/v1/create-qr-code/?size=100x100&data=\"https://arxiv.org/abs/2509.14318\"></div>"
      ],
      "text/plain": [
       "<IPython.core.display.Markdown object>"
      ]
     },
     "metadata": {},
     "output_type": "display_data"
    },
    {
     "data": {
      "text/markdown": [
       "<div class=\"macros\" style=\"visibility:hidden;\">\n",
       "$\\newcommand{\\ensuremath}{}$\n",
       "$\\newcommand{\\xspace}{}$\n",
       "$\\newcommand{\\object}[1]{\\texttt{#1}}$\n",
       "$\\newcommand{\\farcs}{{.}''}$\n",
       "$\\newcommand{\\farcm}{{.}'}$\n",
       "$\\newcommand{\\arcsec}{''}$\n",
       "$\\newcommand{\\arcmin}{'}$\n",
       "$\\newcommand{\\ion}[2]{#1#2}$\n",
       "$\\newcommand{\\textsc}[1]{\\textrm{#1}}$\n",
       "$\\newcommand{\\hl}[1]{\\textrm{#1}}$\n",
       "$\\newcommand{\\footnote}[1]{}$\n",
       "$\\newcommand{\\mstar}{\\ensuremath{M_\\star}}$\n",
       "$\\newcommand{\\msun}{\\ensuremath{M_\\odot}}$\n",
       "$\\newcommand{\\mjup}{\\ensuremath{M_J}}$\n",
       "$\\newcommand{\\rjup}{\\ensuremath{R_J}}$\n",
       "$\\newcommand{\\ms}{\\ensuremath{\\mathrm{km s^{-1}}}}$\n",
       "$\\newcommand{\\kms}{\\ensuremath{\\mathrm{km s^{-1}}}}$\n",
       "$\\newcommand{\\red}[1]{\\textcolor{red}{#1}}$\n",
       "$\\newcommand{\\blue}[1]{\\textcolor{blue}{#1}}$\n",
       "$\\newcommand{\\highlight}[1]{\\textbf{#1}}$</div>\n",
       "\n",
       "\n",
       "\n",
       "<div id=\"title\">\n",
       "\n",
       "# New Orbital Constraints for YSES 1 b and HR 2562 B from High-Precision Astrometry and Planetary Radial Velocities$\\footnote{Based on observations collected at the European Southern Observatory under ESO programmes 109.238N.002, 110.23U4.001, 109.238N.004, 113.26QU.001, 1104.C-0651(B), 109.238N.002, 109.238N.004, 60.A-9102(J), and 114.27UV.001}$\n",
       "\n",
       "</div>\n",
       "<div id=\"comments\">\n",
       "\n",
       "[![arXiv](https://img.shields.io/badge/arXiv-2509.14321-b31b1b.svg)](https://arxiv.org/abs/2509.14321)<mark>Appeared on: 2025-09-19</mark> - \n",
       "\n",
       "</div>\n",
       "<div id=\"authors\">\n",
       "\n",
       "J. Roberts, et al. -- incl., <mark>G. Chauvin</mark>, <mark>T. K. Henning</mark>\n",
       "\n",
       "</div>\n",
       "<div id=\"abstract\">\n",
       "\n",
       "**Abstract:** We present new VLTI/GRAVITY astrometry and updated orbit fits for the directly imaged companions YSES 1 b and HR 2562 B, substellar objects straddling the planet-brown dwarf boundary. Using high-precision astrometry, radial velocity (RV) data, and proper motions, we derive revised orbital parameters with \\texttt{orbitize!} \\citep{Blunt_2020} . For YSES 1 b, the inclusion of GRAVITY astrometry and a relative radial velocity measurement from \\citet{zhang2024} overcomes the traditional challenge of constraining eccentricities for distant companions, enabling the first orbit fit and yielding a constrained eccentricity of $0.44\\pm0.20$ . This represents the first full orbit fit for the system. Additionally, we calculate a median line-of-sight stellar obliquity of $12^{+11}_{-8}$ deg, providing further insight into the system's dynamical architecture. For HR 2562 B, our analysis agrees with \\citet{Zhang_2023} , confirming a low-eccentricity orbit ( $0.34\\pm0.20$ ) and an inclination of $87\\pm 1$ deg. We find HR 2562 B's orbit to be nearly coplanar with the debris disk, with a mutual inclination of $3.7\\pm 0.3$ deg. For both YSES 1 b and HR 2562 B the lower eccentricities favor an ${in situ}$ formation scenario over extreme scattering or cloud fragmentation.\n",
       "\n",
       "</div>\n",
       "\n",
       "<div id=\"div_fig1\">\n",
       "\n",
       "<img src=\"tmp_2509.14321/./mutual_inclination_histogram.png\" alt=\"Fig1\" width=\"100%\"/>\n",
       "\n",
       "**Figure 1. -** Histogram of the mutual inclination between the orbit of HR 2562 B and its disk. The distribution peaks median value of $3.70^\\circ$, indicating that HR 2562 B's orbit is nearly coplanar with the disk. (*fig:mutual_inc*)\n",
       "\n",
       "</div>\n",
       "<div id=\"div_fig2\">\n",
       "\n",
       "<img src=\"tmp_2509.14321/./YSESLOS.png\" alt=\"Fig2\" width=\"100%\"/>\n",
       "\n",
       "**Figure 2. -** Probability density distribution of the Line-of-Sight stellar obliquity for YSES 1. The median obliquity is 11.5° (red dashed line), with the 16th and 84th percentiles at 3.4° and 22.7° (black dotted lines), respectively.\n",
       " (*fig:yses_3*)\n",
       "\n",
       "</div>\n",
       "<div id=\"div_fig3\">\n",
       "\n",
       "<img src=\"tmp_2509.14321/./HR2562_fullcorner_paper.png\" alt=\"Fig3\" width=\"100%\"/>\n",
       "\n",
       "**Figure 3. -** Full Corner plot of HR 2562 B. The estimated posteriors are on the diagonals. The cross-sections represent the covariance with the 1, 2, and 3-$\\sigma$ errors.\n",
       " (*fig:HR2562_large*)\n",
       "\n",
       "</div><div id=\"qrcode\"><img src=https://api.qrserver.com/v1/create-qr-code/?size=100x100&data=\"https://arxiv.org/abs/2509.14321\"></div>"
      ],
      "text/plain": [
       "<IPython.core.display.Markdown object>"
      ]
     },
     "metadata": {},
     "output_type": "display_data"
    }
   ],
   "source": [
    "[display(Markdown(k[1])) for k in documents];"
   ]
  },
  {
   "cell_type": "markdown",
   "id": "873873a4",
   "metadata": {
    "papermill": {
     "duration": 0.005096,
     "end_time": "2025-09-19T04:12:48.189750",
     "exception": false,
     "start_time": "2025-09-19T04:12:48.184654",
     "status": "completed"
    },
    "tags": []
   },
   "source": [
    "# Create HTML index"
   ]
  },
  {
   "cell_type": "code",
   "execution_count": 10,
   "id": "cf665672",
   "metadata": {
    "execution": {
     "iopub.execute_input": "2025-09-19T04:12:48.200879Z",
     "iopub.status.busy": "2025-09-19T04:12:48.200634Z",
     "iopub.status.idle": "2025-09-19T04:12:48.208018Z",
     "shell.execute_reply": "2025-09-19T04:12:48.207444Z"
    },
    "papermill": {
     "duration": 0.014199,
     "end_time": "2025-09-19T04:12:48.209089",
     "exception": false,
     "start_time": "2025-09-19T04:12:48.194890",
     "status": "completed"
    },
    "tags": []
   },
   "outputs": [
    {
     "name": "stdout",
     "output_type": "stream",
     "text": [
      "133  publications files modified in the last 7 days.\n"
     ]
    }
   ],
   "source": [
    "from datetime import datetime, timedelta, timezone\n",
    "from glob import glob\n",
    "import os\n",
    "\n",
    "files = glob('_build/html/*.md')\n",
    "days = 7\n",
    "now = datetime.today()\n",
    "res = []\n",
    "for fk in files:\n",
    "    stat_result = os.stat(fk).st_ctime\n",
    "    modified = datetime.fromtimestamp(stat_result, tz=timezone.utc).replace(tzinfo=None)\n",
    "    delta = now.today() - modified\n",
    "    if delta <= timedelta(days=days):\n",
    "        res.append((delta.seconds, fk))\n",
    "res = [k[1] for k in reversed(sorted(res, key=lambda x:x[1]))]\n",
    "npub = len(res)\n",
    "print(len(res), f\" publications files modified in the last {days:d} days.\")\n",
    "# [ print('\\t', k) for k in res ];"
   ]
  },
  {
   "cell_type": "code",
   "execution_count": 11,
   "id": "015de740",
   "metadata": {
    "execution": {
     "iopub.execute_input": "2025-09-19T04:12:48.220197Z",
     "iopub.status.busy": "2025-09-19T04:12:48.220008Z",
     "iopub.status.idle": "2025-09-19T04:12:48.232273Z",
     "shell.execute_reply": "2025-09-19T04:12:48.231707Z"
    },
    "papermill": {
     "duration": 0.018936,
     "end_time": "2025-09-19T04:12:48.233267",
     "exception": false,
     "start_time": "2025-09-19T04:12:48.214331",
     "status": "completed"
    },
    "tags": []
   },
   "outputs": [
    {
     "name": "stdout",
     "output_type": "stream",
     "text": [
      "17  publications in the last 7 days.\n"
     ]
    }
   ],
   "source": [
    "import datetime\n",
    "from glob import glob\n",
    "\n",
    "def get_last_n_days(lst, days=1):\n",
    "    \"\"\" Get the documents from the last n days \"\"\"\n",
    "    sorted_lst = sorted(lst, key=lambda x: x[1], reverse=True)\n",
    "    for fname, date in sorted_lst:\n",
    "        if date >= str(datetime.date.today() - datetime.timedelta(days=days)):\n",
    "            yield fname\n",
    "\n",
    "def extract_appearance_dates(lst_file):\n",
    "    dates = []\n",
    "\n",
    "    def get_date(line):\n",
    "        return line\\\n",
    "            .split('Appeared on:')[-1]\\\n",
    "            .split('</mark>')[0].strip()\n",
    "\n",
    "    for fname in lst:\n",
    "        with open(fname, 'r') as f:\n",
    "            found_date = False\n",
    "            for line in f:\n",
    "                if not found_date:\n",
    "                    if \"Appeared on\" in line:\n",
    "                        found_date = True\n",
    "                        dates.append((fname, get_date(line)))\n",
    "                else:\n",
    "                    break\n",
    "    return dates\n",
    "\n",
    "from glob import glob\n",
    "lst = glob('_build/html/*md')\n",
    "days = 7\n",
    "dates = extract_appearance_dates(lst)\n",
    "res = list(get_last_n_days(dates, days))\n",
    "npub = len(res)\n",
    "print(len(res), f\" publications in the last {days:d} days.\")"
   ]
  },
  {
   "cell_type": "code",
   "execution_count": 12,
   "id": "52ca0208",
   "metadata": {
    "execution": {
     "iopub.execute_input": "2025-09-19T04:12:48.244759Z",
     "iopub.status.busy": "2025-09-19T04:12:48.244565Z",
     "iopub.status.idle": "2025-09-19T04:12:48.249160Z",
     "shell.execute_reply": "2025-09-19T04:12:48.248630Z"
    },
    "papermill": {
     "duration": 0.0115,
     "end_time": "2025-09-19T04:12:48.250184",
     "exception": false,
     "start_time": "2025-09-19T04:12:48.238684",
     "status": "completed"
    },
    "scrolled": false,
    "tags": []
   },
   "outputs": [],
   "source": [
    "def create_carousel(npub=4):\n",
    "    \"\"\" Generate the HTML code for a carousel with `npub` slides \"\"\"\n",
    "    carousel = [\"\"\"  <div class=\"carousel\" \"\"\",\n",
    "                \"\"\"       data-flickity='{ \"autoPlay\": 10000, \"adaptiveHeight\": true, \"resize\": true, \"wrapAround\": true, \"pauseAutoPlayOnHover\": true, \"groupCells\": 1 }' id=\"asyncTypeset\">\"\"\"\n",
    "                ]\n",
    "    \n",
    "    item_str = \"\"\"    <div class=\"carousel-cell\"> <div id=\"slide{k}\" class=\"md_view\">Content {k}</div> </div>\"\"\"\n",
    "    for k in range(1, npub + 1):\n",
    "        carousel.append(item_str.format(k=k))\n",
    "    carousel.append(\"  </div>\")\n",
    "    return '\\n'.join(carousel)\n",
    "\n",
    "def create_grid(npub=4):\n",
    "    \"\"\" Generate the HTML code for a flat grid with `npub` slides \"\"\"\n",
    "    grid = [\"\"\"  <div class=\"grid\"> \"\"\",\n",
    "                ]\n",
    "    \n",
    "    item_str = \"\"\"    <div class=\"grid-item\"> <div id=\"slide{k}\" class=\"md_view\">Content {k}</div> </div>\"\"\"\n",
    "    for k in range(1, npub + 1):\n",
    "        grid.append(item_str.format(k=k))\n",
    "    grid.append(\"  </div>\")\n",
    "    return '\\n'.join(grid)"
   ]
  },
  {
   "cell_type": "code",
   "execution_count": 13,
   "id": "a6eac5b6",
   "metadata": {
    "execution": {
     "iopub.execute_input": "2025-09-19T04:12:48.261810Z",
     "iopub.status.busy": "2025-09-19T04:12:48.261623Z",
     "iopub.status.idle": "2025-09-19T04:12:48.266430Z",
     "shell.execute_reply": "2025-09-19T04:12:48.265890Z"
    },
    "papermill": {
     "duration": 0.011706,
     "end_time": "2025-09-19T04:12:48.267439",
     "exception": false,
     "start_time": "2025-09-19T04:12:48.255733",
     "status": "completed"
    },
    "scrolled": false,
    "tags": []
   },
   "outputs": [],
   "source": [
    "carousel = create_carousel(npub)\n",
    "docs = ', '.join(['\"{0:s}\"'.format(k.split('/')[-1]) for k in res])\n",
    "slides = ', '.join([f'\"slide{k}\"' for k in range(1, npub + 1)])\n",
    "\n",
    "with open(\"daily_template.html\", \"r\") as tpl:\n",
    "    page = tpl.read()\n",
    "    page = page.replace(\"{%-- carousel:s --%}\", carousel)\\\n",
    "               .replace(\"{%-- suptitle:s --%}\",  \"7-day archives\" )\\\n",
    "               .replace(\"{%-- docs:s --%}\", docs)\\\n",
    "               .replace(\"{%-- slides:s --%}\", slides)\n",
    "    \n",
    "with open(\"_build/html/index_7days.html\", 'w') as fout:\n",
    "    fout.write(page)"
   ]
  },
  {
   "cell_type": "code",
   "execution_count": 14,
   "id": "adc1a1ec",
   "metadata": {
    "execution": {
     "iopub.execute_input": "2025-09-19T04:12:48.279058Z",
     "iopub.status.busy": "2025-09-19T04:12:48.278815Z",
     "iopub.status.idle": "2025-09-19T04:12:48.285192Z",
     "shell.execute_reply": "2025-09-19T04:12:48.284610Z"
    },
    "papermill": {
     "duration": 0.013346,
     "end_time": "2025-09-19T04:12:48.286210",
     "exception": false,
     "start_time": "2025-09-19T04:12:48.272864",
     "status": "completed"
    },
    "tags": []
   },
   "outputs": [
    {
     "name": "stdout",
     "output_type": "stream",
     "text": [
      "7  publications in the last day.\n"
     ]
    }
   ],
   "source": [
    "# redo for today\n",
    "days = 1\n",
    "res = list(get_last_n_days(dates, days))\n",
    "npub = len(res)\n",
    "print(len(res), f\" publications in the last day.\")\n",
    "\n",
    "carousel = create_carousel(npub)\n",
    "docs = ', '.join(['\"{0:s}\"'.format(k.split('/')[-1]) for k in res])\n",
    "slides = ', '.join([f'\"slide{k}\"' for k in range(1, npub + 1)])\n",
    "\n",
    "with open(\"daily_template.html\", \"r\") as tpl:\n",
    "    page = tpl.read()\n",
    "    page = page.replace(\"{%-- carousel:s --%}\", carousel)\\\n",
    "               .replace(\"{%-- suptitle:s --%}\",  \"Daily\" )\\\n",
    "               .replace(\"{%-- docs:s --%}\", docs)\\\n",
    "               .replace(\"{%-- slides:s --%}\", slides)\n",
    "    \n",
    "# print(carousel, docs, slides)\n",
    "# print(page)\n",
    "with open(\"_build/html/index_daily.html\", 'w') as fout:\n",
    "    fout.write(page)"
   ]
  },
  {
   "cell_type": "code",
   "execution_count": 15,
   "id": "00eece82",
   "metadata": {
    "execution": {
     "iopub.execute_input": "2025-09-19T04:12:48.298142Z",
     "iopub.status.busy": "2025-09-19T04:12:48.297935Z",
     "iopub.status.idle": "2025-09-19T04:12:48.304334Z",
     "shell.execute_reply": "2025-09-19T04:12:48.303762Z"
    },
    "papermill": {
     "duration": 0.013436,
     "end_time": "2025-09-19T04:12:48.305343",
     "exception": false,
     "start_time": "2025-09-19T04:12:48.291907",
     "status": "completed"
    },
    "scrolled": false,
    "tags": []
   },
   "outputs": [
    {
     "name": "stdout",
     "output_type": "stream",
     "text": [
      "6  6 publications selected.\n"
     ]
    }
   ],
   "source": [
    "# Create the flat grid of the last N papers (fixed number regardless of dates)\n",
    "from itertools import islice \n",
    "\n",
    "npub = 6\n",
    "res = [k[0] for k in (islice(reversed(sorted(dates, key=lambda x: x[1])), 6))]\n",
    "print(len(res), f\" {npub} publications selected.\")\n",
    "\n",
    "grid = create_grid(npub)\n",
    "docs = ', '.join(['\"{0:s}\"'.format(k.split('/')[-1]) for k in res])\n",
    "slides = ', '.join([f'\"slide{k}\"' for k in range(1, npub + 1)])\n",
    "\n",
    "with open(\"grid_template.html\", \"r\") as tpl:\n",
    "    page = tpl.read()\n",
    "    page = page.replace(\"{%-- grid-content:s --%}\", grid)\\\n",
    "               .replace(\"{%-- suptitle:s --%}\",  f\"Last {npub:,d} papers\" )\\\n",
    "               .replace(\"{%-- docs:s --%}\", docs)\\\n",
    "               .replace(\"{%-- slides:s --%}\", slides)\n",
    "    \n",
    "# print(grid, docs, slides)\n",
    "# print(page)\n",
    "with open(\"_build/html/index_npub_grid.html\", 'w') as fout:\n",
    "    fout.write(page)"
   ]
  }
 ],
 "metadata": {
  "kernelspec": {
   "display_name": "Python 3 (ipykernel)",
   "language": "python",
   "name": "python3"
  },
  "language_info": {
   "codemirror_mode": {
    "name": "ipython",
    "version": 3
   },
   "file_extension": ".py",
   "mimetype": "text/x-python",
   "name": "python",
   "nbconvert_exporter": "python",
   "pygments_lexer": "ipython3",
   "version": "3.9.23"
  },
  "papermill": {
   "default_parameters": {},
   "duration": 67.509508,
   "end_time": "2025-09-19T04:12:48.526430",
   "environment_variables": {},
   "exception": null,
   "input_path": "MPIA daily digest.ipynb",
   "output_path": "log.ipynb",
   "parameters": {},
   "start_time": "2025-09-19T04:11:41.016922",
   "version": "2.6.0"
  },
  "vscode": {
   "interpreter": {
    "hash": "aee8b7b246df8f9039afb4144a1f6fd8d2ca17a180786b69acc140d282b71a49"
   }
  },
  "widgets": {
   "application/vnd.jupyter.widget-state+json": {
    "state": {
     "18c566c98ea64ec781203e4ab4c2f06a": {
      "model_module": "@jupyter-widgets/base",
      "model_module_version": "2.0.0",
      "model_name": "LayoutModel",
      "state": {
       "_model_module": "@jupyter-widgets/base",
       "_model_module_version": "2.0.0",
       "_model_name": "LayoutModel",
       "_view_count": null,
       "_view_module": "@jupyter-widgets/base",
       "_view_module_version": "2.0.0",
       "_view_name": "LayoutView",
       "align_content": null,
       "align_items": null,
       "align_self": null,
       "border_bottom": null,
       "border_left": null,
       "border_right": null,
       "border_top": null,
       "bottom": null,
       "display": null,
       "flex": null,
       "flex_flow": null,
       "grid_area": null,
       "grid_auto_columns": null,
       "grid_auto_flow": null,
       "grid_auto_rows": null,
       "grid_column": null,
       "grid_gap": null,
       "grid_row": null,
       "grid_template_areas": null,
       "grid_template_columns": null,
       "grid_template_rows": null,
       "height": null,
       "justify_content": null,
       "justify_items": null,
       "left": null,
       "margin": null,
       "max_height": null,
       "max_width": null,
       "min_height": null,
       "min_width": null,
       "object_fit": null,
       "object_position": null,
       "order": null,
       "overflow": null,
       "padding": null,
       "right": null,
       "top": null,
       "visibility": null,
       "width": null
      }
     },
     "30ce16973dcc4aa8a7c6f2b8257ba347": {
      "model_module": "@jupyter-widgets/controls",
      "model_module_version": "2.0.0",
      "model_name": "HTMLStyleModel",
      "state": {
       "_model_module": "@jupyter-widgets/controls",
       "_model_module_version": "2.0.0",
       "_model_name": "HTMLStyleModel",
       "_view_count": null,
       "_view_module": "@jupyter-widgets/base",
       "_view_module_version": "2.0.0",
       "_view_name": "StyleView",
       "background": null,
       "description_width": "",
       "font_size": null,
       "text_color": null
      }
     },
     "3a04aad82a0e46508c5a0dc8adb3f644": {
      "model_module": "@jupyter-widgets/controls",
      "model_module_version": "2.0.0",
      "model_name": "FloatProgressModel",
      "state": {
       "_dom_classes": [],
       "_model_module": "@jupyter-widgets/controls",
       "_model_module_version": "2.0.0",
       "_model_name": "FloatProgressModel",
       "_view_count": null,
       "_view_module": "@jupyter-widgets/controls",
       "_view_module_version": "2.0.0",
       "_view_name": "ProgressView",
       "bar_style": "success",
       "description": "",
       "description_allow_html": false,
       "layout": "IPY_MODEL_e90882ffe9a8490091722aefedefbcae",
       "max": 5.0,
       "min": 0.0,
       "orientation": "horizontal",
       "style": "IPY_MODEL_786a1fab64d24aeabcde76228bed1431",
       "tabbable": null,
       "tooltip": null,
       "value": 5.0
      }
     },
     "465f624d24c64a55a856500be0a0e540": {
      "model_module": "@jupyter-widgets/controls",
      "model_module_version": "2.0.0",
      "model_name": "HBoxModel",
      "state": {
       "_dom_classes": [],
       "_model_module": "@jupyter-widgets/controls",
       "_model_module_version": "2.0.0",
       "_model_name": "HBoxModel",
       "_view_count": null,
       "_view_module": "@jupyter-widgets/controls",
       "_view_module_version": "2.0.0",
       "_view_name": "HBoxView",
       "box_style": "",
       "children": [
        "IPY_MODEL_a5cf5663ef9b4ce59c4f72b6fa5e39d0",
        "IPY_MODEL_3a04aad82a0e46508c5a0dc8adb3f644",
        "IPY_MODEL_fd81e82ce24a42e48e12bee9e4466d56"
       ],
       "layout": "IPY_MODEL_b8464d7f5804435cb76338d5e285b13c",
       "tabbable": null,
       "tooltip": null
      }
     },
     "786a1fab64d24aeabcde76228bed1431": {
      "model_module": "@jupyter-widgets/controls",
      "model_module_version": "2.0.0",
      "model_name": "ProgressStyleModel",
      "state": {
       "_model_module": "@jupyter-widgets/controls",
       "_model_module_version": "2.0.0",
       "_model_name": "ProgressStyleModel",
       "_view_count": null,
       "_view_module": "@jupyter-widgets/base",
       "_view_module_version": "2.0.0",
       "_view_name": "StyleView",
       "bar_color": null,
       "description_width": ""
      }
     },
     "a5cf5663ef9b4ce59c4f72b6fa5e39d0": {
      "model_module": "@jupyter-widgets/controls",
      "model_module_version": "2.0.0",
      "model_name": "HTMLModel",
      "state": {
       "_dom_classes": [],
       "_model_module": "@jupyter-widgets/controls",
       "_model_module_version": "2.0.0",
       "_model_name": "HTMLModel",
       "_view_count": null,
       "_view_module": "@jupyter-widgets/controls",
       "_view_module_version": "2.0.0",
       "_view_name": "HTMLView",
       "description": "",
       "description_allow_html": false,
       "layout": "IPY_MODEL_f65443a49a074119bc2e5519f705b269",
       "placeholder": "​",
       "style": "IPY_MODEL_30ce16973dcc4aa8a7c6f2b8257ba347",
       "tabbable": null,
       "tooltip": null,
       "value": "100%"
      }
     },
     "b8464d7f5804435cb76338d5e285b13c": {
      "model_module": "@jupyter-widgets/base",
      "model_module_version": "2.0.0",
      "model_name": "LayoutModel",
      "state": {
       "_model_module": "@jupyter-widgets/base",
       "_model_module_version": "2.0.0",
       "_model_name": "LayoutModel",
       "_view_count": null,
       "_view_module": "@jupyter-widgets/base",
       "_view_module_version": "2.0.0",
       "_view_name": "LayoutView",
       "align_content": null,
       "align_items": null,
       "align_self": null,
       "border_bottom": null,
       "border_left": null,
       "border_right": null,
       "border_top": null,
       "bottom": null,
       "display": null,
       "flex": null,
       "flex_flow": null,
       "grid_area": null,
       "grid_auto_columns": null,
       "grid_auto_flow": null,
       "grid_auto_rows": null,
       "grid_column": null,
       "grid_gap": null,
       "grid_row": null,
       "grid_template_areas": null,
       "grid_template_columns": null,
       "grid_template_rows": null,
       "height": null,
       "justify_content": null,
       "justify_items": null,
       "left": null,
       "margin": null,
       "max_height": null,
       "max_width": null,
       "min_height": null,
       "min_width": null,
       "object_fit": null,
       "object_position": null,
       "order": null,
       "overflow": null,
       "padding": null,
       "right": null,
       "top": null,
       "visibility": null,
       "width": null
      }
     },
     "e90882ffe9a8490091722aefedefbcae": {
      "model_module": "@jupyter-widgets/base",
      "model_module_version": "2.0.0",
      "model_name": "LayoutModel",
      "state": {
       "_model_module": "@jupyter-widgets/base",
       "_model_module_version": "2.0.0",
       "_model_name": "LayoutModel",
       "_view_count": null,
       "_view_module": "@jupyter-widgets/base",
       "_view_module_version": "2.0.0",
       "_view_name": "LayoutView",
       "align_content": null,
       "align_items": null,
       "align_self": null,
       "border_bottom": null,
       "border_left": null,
       "border_right": null,
       "border_top": null,
       "bottom": null,
       "display": null,
       "flex": null,
       "flex_flow": null,
       "grid_area": null,
       "grid_auto_columns": null,
       "grid_auto_flow": null,
       "grid_auto_rows": null,
       "grid_column": null,
       "grid_gap": null,
       "grid_row": null,
       "grid_template_areas": null,
       "grid_template_columns": null,
       "grid_template_rows": null,
       "height": null,
       "justify_content": null,
       "justify_items": null,
       "left": null,
       "margin": null,
       "max_height": null,
       "max_width": null,
       "min_height": null,
       "min_width": null,
       "object_fit": null,
       "object_position": null,
       "order": null,
       "overflow": null,
       "padding": null,
       "right": null,
       "top": null,
       "visibility": null,
       "width": null
      }
     },
     "f65443a49a074119bc2e5519f705b269": {
      "model_module": "@jupyter-widgets/base",
      "model_module_version": "2.0.0",
      "model_name": "LayoutModel",
      "state": {
       "_model_module": "@jupyter-widgets/base",
       "_model_module_version": "2.0.0",
       "_model_name": "LayoutModel",
       "_view_count": null,
       "_view_module": "@jupyter-widgets/base",
       "_view_module_version": "2.0.0",
       "_view_name": "LayoutView",
       "align_content": null,
       "align_items": null,
       "align_self": null,
       "border_bottom": null,
       "border_left": null,
       "border_right": null,
       "border_top": null,
       "bottom": null,
       "display": null,
       "flex": null,
       "flex_flow": null,
       "grid_area": null,
       "grid_auto_columns": null,
       "grid_auto_flow": null,
       "grid_auto_rows": null,
       "grid_column": null,
       "grid_gap": null,
       "grid_row": null,
       "grid_template_areas": null,
       "grid_template_columns": null,
       "grid_template_rows": null,
       "height": null,
       "justify_content": null,
       "justify_items": null,
       "left": null,
       "margin": null,
       "max_height": null,
       "max_width": null,
       "min_height": null,
       "min_width": null,
       "object_fit": null,
       "object_position": null,
       "order": null,
       "overflow": null,
       "padding": null,
       "right": null,
       "top": null,
       "visibility": null,
       "width": null
      }
     },
     "fd115e59f7d04b7eb0ed2a0dace5e9d8": {
      "model_module": "@jupyter-widgets/controls",
      "model_module_version": "2.0.0",
      "model_name": "HTMLStyleModel",
      "state": {
       "_model_module": "@jupyter-widgets/controls",
       "_model_module_version": "2.0.0",
       "_model_name": "HTMLStyleModel",
       "_view_count": null,
       "_view_module": "@jupyter-widgets/base",
       "_view_module_version": "2.0.0",
       "_view_name": "StyleView",
       "background": null,
       "description_width": "",
       "font_size": null,
       "text_color": null
      }
     },
     "fd81e82ce24a42e48e12bee9e4466d56": {
      "model_module": "@jupyter-widgets/controls",
      "model_module_version": "2.0.0",
      "model_name": "HTMLModel",
      "state": {
       "_dom_classes": [],
       "_model_module": "@jupyter-widgets/controls",
       "_model_module_version": "2.0.0",
       "_model_name": "HTMLModel",
       "_view_count": null,
       "_view_module": "@jupyter-widgets/controls",
       "_view_module_version": "2.0.0",
       "_view_name": "HTMLView",
       "description": "",
       "description_allow_html": false,
       "layout": "IPY_MODEL_18c566c98ea64ec781203e4ab4c2f06a",
       "placeholder": "​",
       "style": "IPY_MODEL_fd115e59f7d04b7eb0ed2a0dace5e9d8",
       "tabbable": null,
       "tooltip": null,
       "value": " 5/5 [00:41&lt;00:00,  5.09s/it]"
      }
     }
    },
    "version_major": 2,
    "version_minor": 0
   }
  }
 },
 "nbformat": 4,
 "nbformat_minor": 5
}