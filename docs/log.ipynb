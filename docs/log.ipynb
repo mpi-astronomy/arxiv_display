{
 "cells": [
  {
   "cell_type": "markdown",
   "id": "92bcb855",
   "metadata": {
    "papermill": {
     "duration": 0.003711,
     "end_time": "2025-05-12T04:15:34.577256",
     "exception": false,
     "start_time": "2025-05-12T04:15:34.573545",
     "status": "completed"
    },
    "tags": []
   },
   "source": [
    "# MPIA Arxiv on Deck 2\n",
    "\n",
    "Contains the steps to produce the paper extractions."
   ]
  },
  {
   "cell_type": "code",
   "execution_count": 1,
   "id": "3a0d6e11",
   "metadata": {
    "execution": {
     "iopub.execute_input": "2025-05-12T04:15:34.584824Z",
     "iopub.status.busy": "2025-05-12T04:15:34.584364Z",
     "iopub.status.idle": "2025-05-12T04:15:35.195873Z",
     "shell.execute_reply": "2025-05-12T04:15:35.195113Z"
    },
    "papermill": {
     "duration": 0.61666,
     "end_time": "2025-05-12T04:15:35.197234",
     "exception": false,
     "start_time": "2025-05-12T04:15:34.580574",
     "status": "completed"
    },
    "tags": []
   },
   "outputs": [],
   "source": [
    "# Imports\n",
    "import os\n",
    "from IPython.display import Markdown, display\n",
    "from tqdm.notebook import tqdm\n",
    "import warnings\n",
    "from PIL import Image \n",
    "import re\n",
    "\n",
    "# requires arxiv_on_deck_2\n",
    "\n",
    "from arxiv_on_deck_2.arxiv2 import (get_new_papers, \n",
    "                                    get_paper_from_identifier,\n",
    "                                    retrieve_document_source, \n",
    "                                    get_markdown_badge)\n",
    "from arxiv_on_deck_2 import (latex,\n",
    "                             latex_bib,\n",
    "                             mpia,\n",
    "                             highlight_authors_in_list)\n",
    "\n",
    "# Sometimes images are really big\n",
    "Image.MAX_IMAGE_PIXELS = 1000000000 "
   ]
  },
  {
   "cell_type": "code",
   "execution_count": 2,
   "id": "22aa9d44",
   "metadata": {
    "execution": {
     "iopub.execute_input": "2025-05-12T04:15:35.204744Z",
     "iopub.status.busy": "2025-05-12T04:15:35.204481Z",
     "iopub.status.idle": "2025-05-12T04:15:35.212443Z",
     "shell.execute_reply": "2025-05-12T04:15:35.211888Z"
    },
    "papermill": {
     "duration": 0.012877,
     "end_time": "2025-05-12T04:15:35.213399",
     "exception": false,
     "start_time": "2025-05-12T04:15:35.200522",
     "status": "completed"
    },
    "tags": []
   },
   "outputs": [],
   "source": [
    "# Some useful definitions.\n",
    "\n",
    "class AffiliationWarning(UserWarning):\n",
    "    pass\n",
    "\n",
    "class AffiliationError(RuntimeError):\n",
    "    pass\n",
    "\n",
    "def validation(source: str):\n",
    "    \"\"\"Raises error paper during parsing of source file\n",
    "    \n",
    "    Allows checks before parsing TeX code.\n",
    "    \n",
    "    Raises AffiliationWarning\n",
    "    \"\"\"\n",
    "    check = mpia.affiliation_verifications(source, verbose=True)\n",
    "    if check is not True:\n",
    "        raise AffiliationError(\"mpia.affiliation_verifications: \" + check)\n",
    "\n",
    "        \n",
    "warnings.simplefilter('always', AffiliationWarning)\n",
    "\n",
    "\n",
    "def get_markdown_qrcode(paper_id: str):\n",
    "    \"\"\" Generate a qrcode to the arxiv page using qrserver.com\n",
    "    \n",
    "    :param paper: Arxiv paper\n",
    "    :returns: markdown text\n",
    "    \"\"\"\n",
    "    url = r\"https://api.qrserver.com/v1/create-qr-code/?size=100x100&data=\"\n",
    "    txt = f\"\"\"<img src={url}\"https://arxiv.org/abs/{paper_id}\">\"\"\"\n",
    "    txt = '<div id=\"qrcode\">' + txt + '</div>'\n",
    "    return txt\n",
    "\n",
    "\n",
    "def clean_non_western_encoded_characters_commands(text: str) -> str:\n",
    "    \"\"\" Remove non-western encoded characters from a string\n",
    "    List may need to grow.\n",
    "    \n",
    "    :param text: the text to clean\n",
    "    :return: the cleaned text\n",
    "    \"\"\"\n",
    "    text = re.sub(r\"(\\\\begin{CJK}{UTF8}{gbsn})(.*?)(\\\\end{CJK})\", r\"\\2\", text)\n",
    "    return text\n",
    "\n",
    "\n",
    "def get_initials(name: str) -> str:\n",
    "    \"\"\" Get the short name, e.g., A.-B. FamName\n",
    "    :param name: full name\n",
    "    :returns: initials\n",
    "    \"\"\"\n",
    "    initials = []\n",
    "    # account for non western names often in ()\n",
    "    if '(' in name:\n",
    "        name = clean_non_western_encoded_characters_commands(name)\n",
    "        suffix = re.findall(r\"\\((.*?)\\)\", name)[0]\n",
    "        name = name.replace(f\"({suffix})\", '')\n",
    "    else:\n",
    "        suffix = ''\n",
    "    split = name.split()\n",
    "    for token in split[:-1]:\n",
    "        if '-' in token:\n",
    "            current = '-'.join([k[0] + '.' for k in token.split('-')])\n",
    "        else:\n",
    "            current = token[0] + '.'\n",
    "        initials.append(current)\n",
    "    initials.append(split[-1].strip())\n",
    "    if suffix:\n",
    "        initials.append(f\"({suffix})\")\n",
    "    return ' '.join(initials)"
   ]
  },
  {
   "cell_type": "markdown",
   "id": "14bd6310",
   "metadata": {
    "papermill": {
     "duration": 0.002852,
     "end_time": "2025-05-12T04:15:35.219220",
     "exception": false,
     "start_time": "2025-05-12T04:15:35.216368",
     "status": "completed"
    },
    "tags": []
   },
   "source": [
    "## get list of arxiv paper candidates\n",
    "\n",
    "We use the MPIA mitarbeiter list webpage from mpia.de to get author names\n",
    "We then get all new papers from Arxiv and match authors"
   ]
  },
  {
   "cell_type": "code",
   "execution_count": 3,
   "id": "7ea813a8",
   "metadata": {
    "execution": {
     "iopub.execute_input": "2025-05-12T04:15:35.226100Z",
     "iopub.status.busy": "2025-05-12T04:15:35.225730Z",
     "iopub.status.idle": "2025-05-12T04:15:54.956429Z",
     "shell.execute_reply": "2025-05-12T04:15:54.955772Z"
    },
    "papermill": {
     "duration": 19.735521,
     "end_time": "2025-05-12T04:15:54.957681",
     "exception": false,
     "start_time": "2025-05-12T04:15:35.222160",
     "status": "completed"
    },
    "tags": []
   },
   "outputs": [],
   "source": [
    "# deal with the author list and edge cases of people that cannot be consistent on their name  \n",
    "\n",
    "def filter_non_scientists(name: str) -> bool:\n",
    "    \"\"\" Loose filter on expected authorships\n",
    "\n",
    "    removing IT, administration, technical staff\n",
    "    :param name: name\n",
    "    :returns: False if name is not a scientist\n",
    "    \"\"\"\n",
    "    remove_list = ['Licht', 'Binroth', 'Witzel', 'Jordan',\n",
    "                   'Zähringer', 'Scheerer', 'Hoffmann', 'Düe',\n",
    "                   'Hellmich', 'Enkler-Scharpegge', 'Witte-Nguy',\n",
    "                   'Dehen', 'Beckmann', 'Jager', 'Jäger'\n",
    "                  ]\n",
    "\n",
    "    for k in remove_list:\n",
    "        if k in name:\n",
    "            return False\n",
    "    return True\n",
    "\n",
    "def add_author_to_list(author_list: list) -> list:\n",
    "    \"\"\" Add author to list if not already in list\n",
    "    \n",
    "    :param author: author name\n",
    "    :param author_list: list of authors\n",
    "    :returns: updated list of authors\n",
    "    \"\"\"\n",
    "    add_list = ['T. Henning']\n",
    "\n",
    "    for author in add_list:\n",
    "        if author not in author_list:\n",
    "            author_list.append(author)\n",
    "    return author_list\n",
    "\n",
    "# get list from MPIA website\n",
    "# filter for non-scientists (mpia.get_mpia_mitarbeiter_list() does some filtering)\n",
    "mpia_authors = [k[1] for k in mpia.get_mpia_mitarbeiter_list() if filter_non_scientists(k[1])]\n",
    "# add some missing author because of inconsistencies in their MPIA name and author name on papers\n",
    "mpia_authors = add_author_to_list(mpia_authors)"
   ]
  },
  {
   "cell_type": "code",
   "execution_count": 4,
   "id": "2645e73a",
   "metadata": {
    "execution": {
     "iopub.execute_input": "2025-05-12T04:15:54.965160Z",
     "iopub.status.busy": "2025-05-12T04:15:54.964744Z",
     "iopub.status.idle": "2025-05-12T04:15:55.462795Z",
     "shell.execute_reply": "2025-05-12T04:15:55.462128Z"
    },
    "papermill": {
     "duration": 0.50288,
     "end_time": "2025-05-12T04:15:55.463899",
     "exception": false,
     "start_time": "2025-05-12T04:15:54.961019",
     "status": "completed"
    },
    "tags": []
   },
   "outputs": [
    {
     "name": "stdout",
     "output_type": "stream",
     "text": [
      "A. Somigliana  ->  A. Somigliana  |  ['A. Somigliana']\n",
      "X. Zhang  ->  X. Zhang  |  ['X. Zhang']\n",
      "K. Lee  ->  K. Lee  |  ['K. Lee']\n",
      "A. Winter  ->  A. Winter  |  ['A. Winter']\n",
      "T. Henning  ->  T. Henning  |  ['T. Henning']\n",
      "J. Liu  ->  J. Liu  |  ['J. Liu']\n",
      "Y. Wang  ->  Y. Wang  |  ['Y. Wang']\n",
      "J. Liu  ->  J. Liu  |  ['J. Liu']\n",
      "Y. Wang  ->  Y. Wang  |  ['Y. Wang']\n",
      "Arxiv has 46 new papers today\n",
      "          6 with possible author matches\n"
     ]
    }
   ],
   "source": [
    "new_papers = get_new_papers()\n",
    "# add manual references\n",
    "add_paper_refs = []\n",
    "new_papers.extend([get_paper_from_identifier(k) for k in add_paper_refs])\n",
    "\n",
    "def robust_call(fn, value, *args, **kwargs):\n",
    "    try:\n",
    "        return fn(value, *args, **kwargs)\n",
    "    except Exception:\n",
    "        return value\n",
    "\n",
    "candidates = []\n",
    "for paperk in new_papers:\n",
    "    # Check author list with their initials\n",
    "    normed_author_list = [robust_call(mpia.get_initials, k) for k in paperk['authors']]\n",
    "    hl_authors = highlight_authors_in_list(normed_author_list, mpia_authors, verbose=True)\n",
    "    matches = [(hl, orig) for hl, orig in zip(hl_authors, paperk['authors']) if 'mark' in hl]\n",
    "    paperk['authors'] = hl_authors\n",
    "    if matches:\n",
    "        # only select paper if an author matched our list\n",
    "        candidates.append(paperk)\n",
    "print(\"\"\"Arxiv has {0:,d} new papers today\"\"\".format(len(new_papers)))        \n",
    "print(\"\"\"          {0:,d} with possible author matches\"\"\".format(len(candidates)))"
   ]
  },
  {
   "cell_type": "markdown",
   "id": "3543b34a",
   "metadata": {
    "papermill": {
     "duration": 0.00312,
     "end_time": "2025-05-12T04:15:55.470588",
     "exception": false,
     "start_time": "2025-05-12T04:15:55.467468",
     "status": "completed"
    },
    "tags": []
   },
   "source": [
    "# Parse sources and generate relevant outputs\n",
    "\n",
    "From the candidates, we do the following steps:\n",
    "* get their tarball from ArXiv (and extract data)\n",
    "* find the main .tex file: find one with \\documentclass{...} (sometimes it's non trivial)\n",
    "* Check affiliations with :func:`validation`, which uses :func:`mpia.affiliation_verifications`\n",
    "* If passing the affiliations: we parse the .tex source\n",
    "   * inject sub-documents into the main (flatten the main document)\n",
    "   * parse structure, extract information (title, abstract, authors, figures...)\n",
    "   * handles `\\graphicspath` if provided\n",
    "* Generate the .md document."
   ]
  },
  {
   "cell_type": "code",
   "execution_count": 5,
   "id": "9576b79e",
   "metadata": {
    "execution": {
     "iopub.execute_input": "2025-05-12T04:15:55.478013Z",
     "iopub.status.busy": "2025-05-12T04:15:55.477548Z",
     "iopub.status.idle": "2025-05-12T04:16:46.316000Z",
     "shell.execute_reply": "2025-05-12T04:16:46.315208Z"
    },
    "papermill": {
     "duration": 50.843422,
     "end_time": "2025-05-12T04:16:46.317092",
     "exception": false,
     "start_time": "2025-05-12T04:15:55.473670",
     "status": "completed"
    },
    "scrolled": false,
    "tags": []
   },
   "outputs": [
    {
     "data": {
      "application/vnd.jupyter.widget-view+json": {
       "model_id": "45f7a7c70bb1465e8844e19132714a39",
       "version_major": 2,
       "version_minor": 0
      },
      "text/plain": [
       "  0%|          | 0/6 [00:00<?, ?it/s]"
      ]
     },
     "metadata": {},
     "output_type": "display_data"
    },
    {
     "name": "stdout",
     "output_type": "stream",
     "text": [
      "Retrieving document from  https://arxiv.org/e-print/2505.05578\n"
     ]
    },
    {
     "name": "stdout",
     "output_type": "stream",
     "text": [
      "extracting tarball to tmp_2505.05578..."
     ]
    },
    {
     "name": "stdout",
     "output_type": "stream",
     "text": [
      " done.\n"
     ]
    },
    {
     "name": "stdout",
     "output_type": "stream",
     "text": [
      "A. Somigliana  ->  A. Somigliana  |  ['A. Somigliana']\n"
     ]
    },
    {
     "name": "stdout",
     "output_type": "stream",
     "text": [
      "Found 87 bibliographic references in tmp_2505.05578/aa54771-25.bbl.\n",
      "Retrieving document from  https://arxiv.org/e-print/2505.05945\n"
     ]
    },
    {
     "name": "stdout",
     "output_type": "stream",
     "text": [
      "extracting tarball to tmp_2505.05945..."
     ]
    },
    {
     "name": "stdout",
     "output_type": "stream",
     "text": [
      " done.\n",
      "Retrieving document from  https://arxiv.org/e-print/2505.06006\n"
     ]
    },
    {
     "name": "stdout",
     "output_type": "stream",
     "text": [
      "extracting tarball to tmp_2505.06006..."
     ]
    },
    {
     "name": "stdout",
     "output_type": "stream",
     "text": [
      " done.\n",
      "Retrieving document from  https://arxiv.org/e-print/2505.06093\n"
     ]
    },
    {
     "name": "stdout",
     "output_type": "stream",
     "text": [
      "extracting tarball to tmp_2505.06093..."
     ]
    },
    {
     "name": "stdout",
     "output_type": "stream",
     "text": [
      " done.\n"
     ]
    },
    {
     "name": "stdout",
     "output_type": "stream",
     "text": [
      "Found 146 bibliographic references in tmp_2505.06093/XUE_sample_submit.bbl.\n",
      "Issues with the citations\n",
      "syntax error in line 373: '}' expected\n",
      "Retrieving document from  https://arxiv.org/e-print/2505.06167\n"
     ]
    },
    {
     "name": "stdout",
     "output_type": "stream",
     "text": [
      "extracting tarball to tmp_2505.06167..."
     ]
    },
    {
     "name": "stdout",
     "output_type": "stream",
     "text": [
      " done.\n",
      "Retrieving document from  https://arxiv.org/e-print/2505.06192\n"
     ]
    },
    {
     "name": "stdout",
     "output_type": "stream",
     "text": [
      "extracting tarball to tmp_2505.06192..."
     ]
    },
    {
     "name": "stdout",
     "output_type": "stream",
     "text": [
      " done.\n"
     ]
    }
   ],
   "source": [
    "documents = []\n",
    "failed = []\n",
    "for paper in tqdm(candidates):\n",
    "    # debug crap\n",
    "    paper['identifier'] = paper['identifier'].lower().replace('arxiv:', '').replace(r'\\n', '').strip()\n",
    "    paper_id = paper['identifier']\n",
    "    \n",
    "    folder = f'tmp_{paper_id}'\n",
    "\n",
    "    try:\n",
    "        if not os.path.isdir(folder):\n",
    "            folder = retrieve_document_source(f\"{paper_id}\", f'tmp_{paper_id}')\n",
    "        \n",
    "        try:\n",
    "            doc = latex.LatexDocument(folder, validation=validation)    \n",
    "        except AffiliationError as affilerror:\n",
    "            msg = f\"ArXiv:{paper_id:s} is not an MPIA paper... \" + str(affilerror)\n",
    "            failed.append((paper, \"affiliation error: \" + str(affilerror) ))\n",
    "            continue\n",
    "        \n",
    "        # Hack because sometimes author parsing does not work well\n",
    "        if (len(doc.authors) != len(paper['authors'])):\n",
    "            doc._authors = paper['authors']\n",
    "        else:\n",
    "            # highlight authors (FIXME: doc.highlight_authors)\n",
    "            # done on arxiv paper already\n",
    "            doc._authors = highlight_authors_in_list(\n",
    "                [get_initials(k) for k in doc.authors], \n",
    "                mpia_authors, verbose=True)\n",
    "        if (doc.abstract) in (None, ''):\n",
    "            doc._abstract = paper['abstract']\n",
    "            \n",
    "        doc.comment = (get_markdown_badge(paper_id) + \n",
    "                       \"<mark>Appeared on: \" + paper['date'] + \"</mark> - \")\n",
    "        if paper['comments']:\n",
    "            doc.comment += \" _\" + paper['comments'] + \"_\"\n",
    "        \n",
    "        full_md = doc.generate_markdown_text()\n",
    "        \n",
    "        full_md += get_markdown_qrcode(paper_id)\n",
    "        \n",
    "        # replace citations\n",
    "        try:\n",
    "            bibdata = latex_bib.LatexBib.from_doc(doc)\n",
    "            full_md = latex_bib.replace_citations(full_md, bibdata)\n",
    "        except Exception as e:\n",
    "            print(\"Issues with the citations\")\n",
    "            print(e)\n",
    "        \n",
    "        documents.append((paper_id, full_md))\n",
    "    except Exception as e:\n",
    "        warnings.warn(latex.LatexWarning(f\"{paper_id:s} did not run properly\\n\" +\n",
    "                                         str(e)\n",
    "                                        ))\n",
    "        failed.append((paper, \"latex error \" + str(e)))"
   ]
  },
  {
   "cell_type": "markdown",
   "id": "2505a25c",
   "metadata": {
    "papermill": {
     "duration": 0.00401,
     "end_time": "2025-05-12T04:16:46.325437",
     "exception": false,
     "start_time": "2025-05-12T04:16:46.321427",
     "status": "completed"
    },
    "tags": []
   },
   "source": [
    "### Export the logs\n",
    "\n",
    "Throughout, we also keep track of the logs per paper. see `logs-{today date}.md` "
   ]
  },
  {
   "cell_type": "code",
   "execution_count": 6,
   "id": "d733828a",
   "metadata": {
    "execution": {
     "iopub.execute_input": "2025-05-12T04:16:46.334610Z",
     "iopub.status.busy": "2025-05-12T04:16:46.334114Z",
     "iopub.status.idle": "2025-05-12T04:16:46.351879Z",
     "shell.execute_reply": "2025-05-12T04:16:46.351364Z"
    },
    "papermill": {
     "duration": 0.023552,
     "end_time": "2025-05-12T04:16:46.352914",
     "exception": false,
     "start_time": "2025-05-12T04:16:46.329362",
     "status": "completed"
    },
    "scrolled": false,
    "tags": []
   },
   "outputs": [
    {
     "data": {
      "text/markdown": [
       "## Successful papers"
      ],
      "text/plain": [
       "<IPython.core.display.Markdown object>"
      ]
     },
     "metadata": {},
     "output_type": "display_data"
    },
    {
     "data": {
      "text/markdown": [
       "\n",
       "|||\n",
       "|---:|:---|\n",
       "| [![arXiv](https://img.shields.io/badge/arXiv-2505.05578-b31b1b.svg)](https://arxiv.org/abs/2505.05578) | **The survivorship bias of protoplanetary disc populations**  |\n",
       "|| L. A. Malanga, et al. -- incl., <mark>A. Somigliana</mark> |\n",
       "|*Appeared on*| *2025-05-12*|\n",
       "|*Comments*| *14 pages, 15 figures*|\n",
       "|**Abstract**|            The evolution of protoplanetary discs has a substantial impact on theories of planet formation. To date, neither of the two main competing evolutionary models, namely the viscous-photoevaporative paradigm and the MHD winds model, has been ruled out by observations. Due to the high number of sources observed by large surveys, population synthesis is a powerful tool to distinguish the evolution mechanism in observations. We explore the evolution of the mass distribution of synthetic populations under the assumptions of turbulence-driven accretion and dispersal caused by internal photoevaporation. We find that the rapid removal of light discs often results in an apparent increase of the median mass of the survived disc population. This occurs both when the disc properties are independent of each other, and when typical correlations between these quantities and the stellar mass are assumed. Furthermore, as MHD wind-driven accretion rarely manifests the same feature, this serves as a signature of the viscous-photoevaporative evolution when dispersal proceeds from inside-out. Therefore, we propose the evolution of the median mass as a new method to distinguish this model in observed populations. This survivorship bias is not shown by the median accretion rate, which, instead, decreases with time. Moreover, we introduce a new criterion that estimates the disc lifetime as a function of initial conditions and an analytical relation to predict whether internal photoevaporation triggers an inside-out or an outside-in dispersal. We verify both analytical relations with numerical simulations.         |"
      ],
      "text/plain": [
       "[2505.05578] The survivorship bias of protoplanetary disc populations\n",
       "\tL. A. Malanga, et al. -- incl., <mark>A. Somigliana</mark>"
      ]
     },
     "metadata": {},
     "output_type": "display_data"
    },
    {
     "data": {
      "text/markdown": [
       "\n",
       "|||\n",
       "|---:|:---|\n",
       "| [![arXiv](https://img.shields.io/badge/arXiv-2505.06093-b31b1b.svg)](https://arxiv.org/abs/2505.06093) | **XUE. JWST spectroscopy of externally irradiated disks around young intermediate-mass stars**  |\n",
       "|| M. C. Ramírez-Tannus, et al. -- incl., <mark>A. Winter</mark>, <mark>T. Henning</mark> |\n",
       "|*Appeared on*| *2025-05-12*|\n",
       "|*Comments*| *12 pages, 8 appendix, 16 figures, 2 tables. Submitted to A&A*|\n",
       "|**Abstract**|            Most young stars and therefore planetary systems form in high-mass star forming regions and are exposed to ultraviolet radiation, affecting the protoplanetary disk. These regions are located at large distances and only now with JWST become accessible to study the inner disks surrounding young stars. We present the eXtreme UV Environments (XUE) program, which provides the first detailed characterization of the physical and chemical properties of the inner disks around young intermediate-mass stars exposed to external irradiation from nearby massive stars. We present high signal to noise MIRI-MRS spectroscopy of 12 disks located in three sub-clusters of the high-mass star-forming region NGC 6357. Based on their mid-infrared spectral energy distribution, we classify the XUE sources into Group I and II based on the Meeus scheme. We analyze their molecular emission features, and compare their spectral indices and 10 $\\mu$m silicate emission profiles to those of nearby Herbig and intermediate T Tauri disks. Despite being more massive, the XUE stars host disks with molecular richness comparable to isolated T Tauri systems. The 10 $\\mu$m silicate features show lower F$_{11.3}$/F$_{9.8}$ ratios at a given F$_{\\mathrm{peak}}$, but current uncertainties prevent conclusions about their inner disk properties. Most disks display water emission from the inner disk, suggesting that even in these extreme environments rocky planets can form in the presence of water. The absence of strong line fluxes and other irradiation signatures suggests that the XUE disks have been truncated by external UV photons. However, this truncation does not appear to significantly impact the chemical richness of their inner regions. These findings indicate that even in extreme environments, IMTT disks can retain the ingredients necessary for rocky planet formation.         |"
      ],
      "text/plain": [
       "[2505.06093] XUE. JWST spectroscopy of externally irradiated disks around young intermediate-mass stars\n",
       "\tM. C. Ramírez-Tannus, et al. -- incl., <mark>A. Winter</mark>, <mark>T. Henning</mark>"
      ]
     },
     "metadata": {},
     "output_type": "display_data"
    },
    {
     "data": {
      "text/markdown": [
       "## Failed papers"
      ],
      "text/plain": [
       "<IPython.core.display.Markdown object>"
      ]
     },
     "metadata": {},
     "output_type": "display_data"
    },
    {
     "data": {
      "text/markdown": [
       "\n",
       "|||\n",
       "|---:|:---|\n",
       "| [![arXiv](https://img.shields.io/badge/arXiv-2505.05945-b31b1b.svg)](https://arxiv.org/abs/2505.05945) | **Optical QPOs with dual periodicities 1103days and 243days in the blue quasar SDSS J100438.8+151056**  |\n",
       "|| G. Liao, et al. -- incl., <mark>X. Zhang</mark> |\n",
       "|*Appeared on*| *2025-05-12*|\n",
       "|*Comments*| **|\n",
       "|**Abstract**|            This manuscript investigates the possible existence of a binary supermassive black holes (BSMBH) system in the blue quasar SDSS J100438.8+151056 (=SDSS J1004+1510) at z=0.219 based on the detection of robust optical QPOs. We determine QPOs using multiple analysis methods applied to the CSS-V, ZTFg/r band light curves, and additionally, combined with the characteristics of broad emission lines and explores potential mechanisms for the QPOs, including jet and disk precession models. Two distinct periodicities, $1103\\pm260$days and $243\\pm29$days, are identified in the ZTF g/r-band light curves with confidence level exceeding $5\\sigma$, through four different techniques. Meanwhile, the $1103\\pm260$days periodicity is also clearly detected in the CSS V-band light curve. The optical periodicities suggest a BSMBH system candidate in SDSS J1004+1510, with an estimated total virial BH mass of $(1.13\\pm0.14)\\times10^8 M_{\\odot}$ and a space separation of $0.0053\\pm0.0016$pc for the periodicity of $1103\\pm260$days. The second periodicity of $243\\pm29$days could be attributed to harmonic oscillations, considering $(1103\\pm260)/(243\\pm29)\\sim4.54\\pm0.47$ with large scatters. However, if the periodicity of $243\\pm29$days was from an independent QPO, a triple BH system candidate on sub-pc scale could be probably expected, with space separations of $0.00036\\pm0.00004$pc between a close BSMBH system and of $0.0053\\pm0.0016$pc between the BSMBH system and the third BH, after considering similar BH mass of the third BH as the total mass of the central BSMBH. These findings strongly demonstrate that combined light curves from the different sky survey projects can lead to more reliable QPOs candidates to be detected, and also indicate higher quality light curves could be helpful to find probably potential QPOs with multiple periodicities leading to rare detections of candidates for sub-pc triple BH systems.         |\n",
       "|<p style=\"color:green\"> **ERROR** </p>| <p style=\"color:green\">affiliation error: mpia.affiliation_verifications: 'Heidelberg' keyword not found.</p> |"
      ],
      "text/plain": [
       "<IPython.core.display.Markdown object>"
      ]
     },
     "metadata": {},
     "output_type": "display_data"
    },
    {
     "data": {
      "text/markdown": [
       "\n",
       "|||\n",
       "|---:|:---|\n",
       "| [![arXiv](https://img.shields.io/badge/arXiv-2505.06006-b31b1b.svg)](https://arxiv.org/abs/2505.06006) | **Periodic variation of magnetoionic environment of a fast radio burst source**  |\n",
       "|| J. Xu, et al. -- incl., <mark>K. Lee</mark> |\n",
       "|*Appeared on*| *2025-05-12*|\n",
       "|*Comments*| *Submitted, comments are welcome*|\n",
       "|**Abstract**|            Fast radio bursts (FRBs) are luminous, dispersed millisecond-duration radio bursts whose origin is poorly known. Recent observations suggest that some FRBs may reside in binary systems, even though conclusive evidence remains elusive. Here we report the detection of a 26.24$\\pm$0.02 day periodicity in Faraday rotation measure (RM) of an actively repeating source named FRB 20201124A. The detection was made from 3,106 bursts collected with the Five-hundred-meter Aperture Spherical radio Telescope (FAST) over ~365 days. The RM periodicity is coherently phase-connected across ~14 cycles over a 1-year duration. Our detection of RM periodicity corresponds to a natural logarithmic Bayesian factor of 1,168. The detection significances vary between 5.9-34 {\\sigma} under different assumptions. Such a periodicity provides evidence for the binary nature of FRB 20201124A, where the periodic RM variations arise from the orbital motion of the FRB source within the magnetoionic environment of the system. Together with previous observations, our result suggests that being in binary systems may be a common feature for actively repeating FRB sources.         |\n",
       "|<p style=\"color:green\"> **ERROR** </p>| <p style=\"color:green\">affiliation error: mpia.affiliation_verifications: 'Heidelberg' keyword not found.</p> |"
      ],
      "text/plain": [
       "<IPython.core.display.Markdown object>"
      ]
     },
     "metadata": {},
     "output_type": "display_data"
    },
    {
     "data": {
      "text/markdown": [
       "\n",
       "|||\n",
       "|---:|:---|\n",
       "| [![arXiv](https://img.shields.io/badge/arXiv-2505.06167-b31b1b.svg)](https://arxiv.org/abs/2505.06167) | **Pitch Angle Measurement Method based on Detector Counts Distribution. -I. Basic conception**  |\n",
       "|| C. Wang, et al. -- incl., <mark>J. Liu</mark>, <mark>Y. Wang</mark> |\n",
       "|*Appeared on*| *2025-05-12*|\n",
       "|*Comments*| **|\n",
       "|**Abstract**|            As an X-ray and gamma-ray all-sky monitor aiming for high energy astrophysical transients, Gravitational-wave high-energy Electromagnetic Counterpart All-sky Monitor (GECAM) has also made a series of observational discoveries on burst events of gamma-rays and particles in the low Earth orbit. Pitch angle is one of the key parameters of charged particles traveling around geomagnetic field. However, the usage of the GECAM-style instruments to measure the pitch angle of charged particles is still lacking. Here we propose a novel method for GECAM and similar instruments to measure the pitch angle of charged particles based on detector counts distribution. The basic conception of this method and simulation studies are described. With this method, the pitch angle of a peculiar electron precipitation event detected by GECAM-C is derived to be about 90$^\\circ$, demonstrating the feasibility of our method. We note that the application of this method on GECAM-style instruments may open a new window for studying space particle events, such as Terrestrial Electron Beams (TEBs) and Lightning-induced Electron Precipitations (LEPs).         |\n",
       "|<p style=\"color:green\"> **ERROR** </p>| <p style=\"color:green\">affiliation error: mpia.affiliation_verifications: 'Heidelberg' keyword not found.</p> |"
      ],
      "text/plain": [
       "<IPython.core.display.Markdown object>"
      ]
     },
     "metadata": {},
     "output_type": "display_data"
    },
    {
     "data": {
      "text/markdown": [
       "\n",
       "|||\n",
       "|---:|:---|\n",
       "| [![arXiv](https://img.shields.io/badge/arXiv-2505.06192-b31b1b.svg)](https://arxiv.org/abs/2505.06192) | **GECAM Discovery of Peculiar Oscillating Particle Precipitation Events**  |\n",
       "|| C. Wang, et al. -- incl., <mark>J. Liu</mark>, <mark>Y. Wang</mark> |\n",
       "|*Appeared on*| *2025-05-12*|\n",
       "|*Comments*| **|\n",
       "|**Abstract**|            Charged particle precipitation typically manifests as a gradual increase and decrease of flux observed by space detectors. Cases with rapidly flux variation are very rare. Periodic events are even more extraordinary. These oscillating particle precipitation (OPP) events are usually attributed to the bounce motion of electrons, which are induced by lightning. Owing to the observation limitations, there has been debate regarding whether these oscillations originate from temporal flux evolution or spatial structure evolution. Here we report three peculiar charged particle precipitation events detected by GECAM during a geomagnetic storm on March 21, 2024, with two exhibiting significant periodicity. These events were observed around the same region during three consecutive orbits. Through comprehensive temporal and spectral analyses, we revealed that one of the OPP events exhibited a transition in spectral lag of mini-pulses, shifting from \"softer-earlier\" to \"softer-later\" while showing no significant time evolution in overall frequency characteristics. And there is no association found between these two OPP events and lightning activity. Several possible scenarios are discussed to explain these charged particles with a life time of more than 3.5 hours, but the nature of these three events remains an enigma. We suggest that these GECAM-detected OPP events may represent a new type of particle precipitation event or a peculiar Lightning-induced Electron Precipitations (LEPs).         |\n",
       "|<p style=\"color:green\"> **ERROR** </p>| <p style=\"color:green\">affiliation error: mpia.affiliation_verifications: 'Heidelberg' keyword not found.</p> |"
      ],
      "text/plain": [
       "<IPython.core.display.Markdown object>"
      ]
     },
     "metadata": {},
     "output_type": "display_data"
    }
   ],
   "source": [
    "import datetime\n",
    "today = str(datetime.date.today())\n",
    "logfile = f\"_build/html/logs/log-{today}.md\"\n",
    "\n",
    "\n",
    "with open(logfile, 'w') as logs:\n",
    "    # Success\n",
    "    logs.write(f'# Arxiv on Deck 2: Logs - {today}\\n\\n')\n",
    "    logs.write(\"\"\"* Arxiv had {0:,d} new papers\\n\"\"\".format(len(new_papers)))\n",
    "    logs.write(\"\"\"    * {0:,d} with possible author matches\\n\\n\"\"\".format(len(candidates)))\n",
    "    logs.write(\"## Sucessful papers\\n\\n\")\n",
    "    display(Markdown(\"## Successful papers\"))\n",
    "    success = [k[0] for k in documents]\n",
    "    for candid in candidates:\n",
    "        if candid['identifier'].split(':')[-1] in success:\n",
    "            display(candid)\n",
    "            logs.write(candid.generate_markdown_text() + '\\n\\n')\n",
    "\n",
    "    ## failed\n",
    "    logs.write(\"## Failed papers\\n\\n\")\n",
    "    display(Markdown(\"## Failed papers\"))\n",
    "    failed = sorted(failed, key=lambda x: x[1])\n",
    "    current_reason = \"\"\n",
    "    for paper, reason in failed:\n",
    "        if 'affiliation' in reason:\n",
    "            color = 'green'\n",
    "        else:\n",
    "            color = 'red'\n",
    "        data = Markdown(\n",
    "                paper.generate_markdown_text() + \n",
    "                f'\\n|<p style=\"color:{color:s}\"> **ERROR** </p>| <p style=\"color:{color:s}\">{reason:s}</p> |'\n",
    "               )\n",
    "        if reason != current_reason:\n",
    "            logs.write(f'### {reason:s} \\n\\n')\n",
    "            current_reason = reason\n",
    "        logs.write(data.data + '\\n\\n')\n",
    "        \n",
    "        # only display here the important errors (all in logs)\n",
    "        # if color in ('red',):\n",
    "        display(data)"
   ]
  },
  {
   "cell_type": "markdown",
   "id": "472d20ee",
   "metadata": {
    "papermill": {
     "duration": 0.00461,
     "end_time": "2025-05-12T04:16:46.362346",
     "exception": false,
     "start_time": "2025-05-12T04:16:46.357736",
     "status": "completed"
    },
    "tags": []
   },
   "source": [
    "## Export documents\n",
    "\n",
    "We now write the .md files and export relevant images"
   ]
  },
  {
   "cell_type": "code",
   "execution_count": 7,
   "id": "d426aed9",
   "metadata": {
    "execution": {
     "iopub.execute_input": "2025-05-12T04:16:46.372761Z",
     "iopub.status.busy": "2025-05-12T04:16:46.372339Z",
     "iopub.status.idle": "2025-05-12T04:16:46.379149Z",
     "shell.execute_reply": "2025-05-12T04:16:46.378640Z"
    },
    "papermill": {
     "duration": 0.013139,
     "end_time": "2025-05-12T04:16:46.380181",
     "exception": false,
     "start_time": "2025-05-12T04:16:46.367042",
     "status": "completed"
    },
    "tags": []
   },
   "outputs": [],
   "source": [
    "def export_markdown_summary(md: str, md_fname:str, directory: str):\n",
    "    \"\"\"Export MD document and associated relevant images\"\"\"\n",
    "    import os\n",
    "    import shutil\n",
    "    import re\n",
    "\n",
    "    if (os.path.exists(directory) and not os.path.isdir(directory)):\n",
    "        raise RuntimeError(f\"a non-directory file exists with name {directory:s}\")\n",
    "\n",
    "    if (not os.path.exists(directory)):\n",
    "        print(f\"creating directory {directory:s}\")\n",
    "        os.mkdir(directory)\n",
    "\n",
    "    fig_fnames = (re.compile(r'\\[Fig.*\\]\\((.*)\\)').findall(md) + \n",
    "                  re.compile(r'\\<img src=\"([^>\\s]*)\"[^>]*/>').findall(md))\n",
    "    print(\"found figures\", fig_fnames)\n",
    "    for fname in fig_fnames:\n",
    "        if 'http' in fname:\n",
    "            # No need to copy online figures\n",
    "            continue\n",
    "        if not os.path.exists(fname):\n",
    "            print(\"file not found\", fname)\n",
    "            continue\n",
    "        print(\"copying \", fname, \"to\", directory)\n",
    "        destdir = os.path.join(directory, os.path.dirname(fname))\n",
    "        destfname = os.path.join(destdir, os.path.basename(fname))\n",
    "        try:\n",
    "            os.makedirs(destdir)\n",
    "        except FileExistsError:\n",
    "            pass\n",
    "        shutil.copy(fname, destfname)\n",
    "    with open(os.path.join(directory, md_fname), 'w') as fout:\n",
    "        fout.write(md)\n",
    "    print(\"exported in \", os.path.join(directory, md_fname))\n",
    "    [print(\"    + \" + os.path.join(directory,fk)) for fk in fig_fnames]"
   ]
  },
  {
   "cell_type": "code",
   "execution_count": 8,
   "id": "014d04a4",
   "metadata": {
    "execution": {
     "iopub.execute_input": "2025-05-12T04:16:46.390993Z",
     "iopub.status.busy": "2025-05-12T04:16:46.390555Z",
     "iopub.status.idle": "2025-05-12T04:16:46.397601Z",
     "shell.execute_reply": "2025-05-12T04:16:46.397061Z"
    },
    "papermill": {
     "duration": 0.013336,
     "end_time": "2025-05-12T04:16:46.398623",
     "exception": false,
     "start_time": "2025-05-12T04:16:46.385287",
     "status": "completed"
    },
    "tags": []
   },
   "outputs": [
    {
     "name": "stdout",
     "output_type": "stream",
     "text": [
      "found figures ['tmp_2505.05578/./mass_accrate.png', 'tmp_2505.05578/./medians.png', 'tmp_2505.05578/./surface_density.png']\n",
      "copying  tmp_2505.05578/./mass_accrate.png to _build/html/\n",
      "copying  tmp_2505.05578/./medians.png to _build/html/\n",
      "copying  tmp_2505.05578/./surface_density.png to _build/html/\n",
      "exported in  _build/html/2505.05578.md\n",
      "    + _build/html/tmp_2505.05578/./mass_accrate.png\n",
      "    + _build/html/tmp_2505.05578/./medians.png\n",
      "    + _build/html/tmp_2505.05578/./surface_density.png\n",
      "found figures ['tmp_2505.06093/./figures/CCD_CMD.png', 'tmp_2505.06093/./figures/4.9-5.3_region_overview.png', 'tmp_2505.06093/./figures/23.2-24.25_region_overview.png']\n",
      "copying  tmp_2505.06093/./figures/CCD_CMD.png to _build/html/\n",
      "copying  tmp_2505.06093/./figures/4.9-5.3_region_overview.png to _build/html/\n",
      "copying  tmp_2505.06093/./figures/23.2-24.25_region_overview.png to _build/html/\n",
      "exported in  _build/html/2505.06093.md\n",
      "    + _build/html/tmp_2505.06093/./figures/CCD_CMD.png\n",
      "    + _build/html/tmp_2505.06093/./figures/4.9-5.3_region_overview.png\n",
      "    + _build/html/tmp_2505.06093/./figures/23.2-24.25_region_overview.png\n"
     ]
    }
   ],
   "source": [
    "for paper_id, md in documents:\n",
    "    export_markdown_summary(md, f\"{paper_id:s}.md\", '_build/html/')"
   ]
  },
  {
   "cell_type": "markdown",
   "id": "f087a0a7",
   "metadata": {
    "papermill": {
     "duration": 0.004702,
     "end_time": "2025-05-12T04:16:46.408128",
     "exception": false,
     "start_time": "2025-05-12T04:16:46.403426",
     "status": "completed"
    },
    "tags": []
   },
   "source": [
    "## Display the papers\n",
    "\n",
    "Not necessary but allows for a quick check."
   ]
  },
  {
   "cell_type": "code",
   "execution_count": 9,
   "id": "fd25f625",
   "metadata": {
    "execution": {
     "iopub.execute_input": "2025-05-12T04:16:46.418580Z",
     "iopub.status.busy": "2025-05-12T04:16:46.418371Z",
     "iopub.status.idle": "2025-05-12T04:16:46.424697Z",
     "shell.execute_reply": "2025-05-12T04:16:46.424152Z"
    },
    "papermill": {
     "duration": 0.012712,
     "end_time": "2025-05-12T04:16:46.425675",
     "exception": false,
     "start_time": "2025-05-12T04:16:46.412963",
     "status": "completed"
    },
    "scrolled": false,
    "tags": []
   },
   "outputs": [
    {
     "data": {
      "text/markdown": [
       "<div class=\"macros\" style=\"visibility:hidden;\">\n",
       "$\\newcommand{\\ensuremath}{}$\n",
       "$\\newcommand{\\xspace}{}$\n",
       "$\\newcommand{\\object}[1]{\\texttt{#1}}$\n",
       "$\\newcommand{\\farcs}{{.}''}$\n",
       "$\\newcommand{\\farcm}{{.}'}$\n",
       "$\\newcommand{\\arcsec}{''}$\n",
       "$\\newcommand{\\arcmin}{'}$\n",
       "$\\newcommand{\\ion}[2]{#1#2}$\n",
       "$\\newcommand{\\textsc}[1]{\\textrm{#1}}$\n",
       "$\\newcommand{\\hl}[1]{\\textrm{#1}}$\n",
       "$\\newcommand{\\footnote}[1]{}$\n",
       "$\\newcommand{\\tildea}[1]{\\overset{\\sim}{#1}}$\n",
       "$\\newcommand{\\rev}[1]{#1}$\n",
       "$\\newcommand{\\theequation}{A.\\arabic{equation}}$</div>\n",
       "\n",
       "\n",
       "\n",
       "<div id=\"title\">\n",
       "\n",
       "# The survivorship bias of protoplanetary disc populations: Internal photoevaporation causes an apparent increase of the median total disc mass with time\n",
       "\n",
       "</div>\n",
       "<div id=\"comments\">\n",
       "\n",
       "[![arXiv](https://img.shields.io/badge/arXiv-2505.05578-b31b1b.svg)](https://arxiv.org/abs/2505.05578)<mark>Appeared on: 2025-05-12</mark> -  _14 pages, 15 figures_\n",
       "\n",
       "</div>\n",
       "<div id=\"authors\">\n",
       "\n",
       "L. A. Malanga, et al. -- incl., <mark>A. Somigliana</mark>\n",
       "\n",
       "</div>\n",
       "<div id=\"abstract\">\n",
       "\n",
       "**Abstract:** The evolution of protoplanetary discs has a substantial impact on theories of planet formation.   To date, $\\rev{neither}$ of the two main competing evolutionary models, namely the viscous-photoevaporative paradigm and the MHD winds model, has been ruled out by observations.   Due to the high number of sources observed by large surveys, population synthesis is a powerful tool to distinguish the evolution mechanism in observations.   We explore the evolution of the mass distribution of synthetic populations under the assumptions of turbulence-driven accretion and dispersal caused by internal photoevaporation.   We find that the rapid removal of light discs often results in an apparent increase of the median mass of the survived disc population.   This occurs both when the disc properties are independent of each other, and when typical correlations between these quantities and the stellar mass are assumed.   Furthermore, as MHD wind-driven accretion rarely manifests the same feature, this serves as a signature of the viscous-photoevaporative evolution when dispersal proceeds from inside-out.   Therefore, we propose the evolution of the median mass as a new method to distinguish this model in observed populations.   This survivorship bias is not shown by the median accretion rate, which, instead, decreases with time.   Moreover, we introduce a new criterion that estimates the disc lifetime as a function of initial conditions and an analytical relation to predict whether internal photoevaporation triggers an inside-out or an outside-in dispersal.   We verify both analytical relations with numerical simulations.\n",
       "\n",
       "</div>\n",
       "\n",
       "<div id=\"div_fig1\">\n",
       "\n",
       "<img src=\"tmp_2505.05578/./mass_accrate.png\" alt=\"Fig2\" width=\"100%\"/>\n",
       "\n",
       "**Figure 2. -** Evolution of the accretion rate (blue) and mass (black) of a disc with time. The vertical yellow line indicates the instant when the gap opens, which triggers a steep decrease of $\\dot{M$. The red line corresponds to the transition between accreting and non-accreting. The grey region corresponds to lower values of disc mass and accretion rate than the respective observational threshold.\n",
       "        } (*fig:mass_accrate*)\n",
       "\n",
       "</div>\n",
       "<div id=\"div_fig2\">\n",
       "\n",
       "<img src=\"tmp_2505.05578/./medians.png\" alt=\"Fig6\" width=\"100%\"/>\n",
       "\n",
       "**Figure 6. -** \\small{Comparison between the evolution of the median of the synthetic mass distribution with time and the analytical prediction for both dispersal criteria. The shaded region corresponds to $t<t_\\nu$, which is not considered in the model.\n",
       "        } (*fig:medians*)\n",
       "\n",
       "</div>\n",
       "<div id=\"div_fig3\">\n",
       "\n",
       "<img src=\"tmp_2505.05578/./surface_density.png\" alt=\"Fig1\" width=\"100%\"/>\n",
       "\n",
       "**Figure 1. -** Evolution of the surface density of a disc with time, obtained integrating equation \\eqref{eqn:master_pe with \\texttt{Diskpop}. This disc has $M_0 = 1.5 \\cdot 10^{-2}$ M$_\\odot$, $R_0 = 32.8$ au, $\\alpha = 10^{-3}$ and $\\dot{M}_\\text{w} = 2.5 \\cdot 10^{-9}$ M$_\\odot$ yr$^{-1}$. After the opening of the gap, the inner disc is dispersed within a short timescale.\n",
       "        } (*fig:surfacedensity_gap*)\n",
       "\n",
       "</div><div id=\"qrcode\"><img src=https://api.qrserver.com/v1/create-qr-code/?size=100x100&data=\"https://arxiv.org/abs/2505.05578\"></div>"
      ],
      "text/plain": [
       "<IPython.core.display.Markdown object>"
      ]
     },
     "metadata": {},
     "output_type": "display_data"
    },
    {
     "data": {
      "text/markdown": [
       "<div class=\"macros\" style=\"visibility:hidden;\">\n",
       "$\\newcommand{\\ensuremath}{}$\n",
       "$\\newcommand{\\xspace}{}$\n",
       "$\\newcommand{\\object}[1]{\\texttt{#1}}$\n",
       "$\\newcommand{\\farcs}{{.}''}$\n",
       "$\\newcommand{\\farcm}{{.}'}$\n",
       "$\\newcommand{\\arcsec}{''}$\n",
       "$\\newcommand{\\arcmin}{'}$\n",
       "$\\newcommand{\\ion}[2]{#1#2}$\n",
       "$\\newcommand{\\textsc}[1]{\\textrm{#1}}$\n",
       "$\\newcommand{\\hl}[1]{\\textrm{#1}}$\n",
       "$\\newcommand{\\footnote}[1]{}$\n",
       "$\\newcommand{\\vdag}{(v)^\\dagger}$\n",
       "$\\newcommand$\n",
       "$\\newcommand$\n",
       "$\\newcommand$\n",
       "$\\newcommand{\\green}[1]{\\textcolor{mygreen}{#1}}$\n",
       "$\\newcommand{\\red}[1]{\\textcolor{myred}{#1}}$\n",
       "$\\newcommand{\\yellow}[1]{\\textcolor{myyellow}{#1}}$\n",
       "$\\newcommand{\\purple}[1]{\\textcolor{mypurple}{#1}}$\n",
       "$\\newcommand{\\arraystretch}{1.3}$\n",
       "$\\newcommand{\\nodata}{...}$\n",
       "$\\newcommand{\\yes}{\\green{\\ding{51}}}$\n",
       "$\\newcommand{\\no}{\\red{\\ding{55}}}$\n",
       "$\\newcommand{\\maybe}{\\yellow{\\ding{51}^{?}}}$\n",
       "$\\newcommand{\\ngc6357}{NGC 6357}$\n",
       "$\\newcommand{\\mys}{MYStIX}$\n",
       "$\\newcommand{\\Hii}{H {\\sc ii}}$\n",
       "$\\newcommand{\\micron}{\\mum}$\n",
       "$\\newcommand{\\kms}{km s^{-1}}$\n",
       "$\\newcommand{\\cmss}{cm s^{-2}}$\n",
       "$\\newcommand{\\lsol}{L_{\\odot}}$\n",
       "$\\newcommand{\\msun}{M_{\\odot}}$\n",
       "$\\newcommand{\\msol}{M_{\\odot}}$\n",
       "$\\newcommand{\\rsol}{R_{\\odot}}$\n",
       "$\\newcommand{\\rsun}{R_{\\odot}}$\n",
       "$\\newcommand{\\Rsun}{R_{\\odot}}$\n",
       "$\\newcommand{\\s}{\\sigma}$\n",
       "$\\newcommand{\\w}{\\omega}$\n",
       "$\\newcommand{\\vsini}{v \\sin i}$\n",
       "$\\newcommand{\\sigrms}{\\sigma_\\mathrm{rms}}$\n",
       "$\\newcommand{\\srv}{\\sigma_\\mathrm{RV}}$\n",
       "$\\newcommand{\\Msol}{M_\\odot}$\n",
       "$\\newcommand{\\Msun}{M_\\odot}$\n",
       "$\\newcommand{\\Lsol}{L_\\odot}$\n",
       "$\\newcommand{\\Lsun}{L_\\odot}$\n",
       "$\\newcommand{\\s}{\\sigma}$\n",
       "$\\newcommand{\\feros}{{\\sc feros}}$\n",
       "$\\newcommand{\\lco}{{\\sc lco}}$\n",
       "$\\newcommand{\\uves}{{\\sc uves}}$\n",
       "$\\newcommand{\\iacob}{{\\sc iacob}}$\n",
       "$\\newcommand{\\l}{\\lambda}$\n",
       "$\\newcommand{\\ll}{\\lambda\\lambda}$\n",
       "$\\newcommand{\\palp}{Pa~\\alpha}$\n",
       "$\\newcommand{\\palph}{Pa~\\alpha}$\n",
       "$\\newcommand{\\palpha}{Pa~\\alpha}$\n",
       "$\\newcommand{\\pbet}{Pa~\\beta}$\n",
       "$\\newcommand{\\pbeta}{Pa~\\beta}$\n",
       "$\\newcommand{\\pdelt}{Pa~\\delta}$\n",
       "$\\newcommand{\\pgam}{Pa~\\gamma}$\n",
       "$\\newcommand{\\peps}{Pa~\\epsilon}$\n",
       "$\\newcommand{\\halp}{H~\\alpha}$\n",
       "$\\newcommand{\\halph}{H~\\alpha}$\n",
       "$\\newcommand{\\halpha}{H~\\alpha}$\n",
       "$\\newcommand{\\hbet}{H~\\beta}$\n",
       "$\\newcommand{\\hdelt}{H~\\delta}$\n",
       "$\\newcommand{\\hgam}{H~\\gamma}$\n",
       "$\\newcommand{\\ha}{H {\\sc i}}$\n",
       "$\\newcommand{\\hb}{H {\\sc ii}}$\n",
       "$\\newcommand{\\hea}{He {\\sc i}}$\n",
       "$\\newcommand{\\heb}{He {\\sc ii}}$\n",
       "$\\newcommand{\\nc}{N {\\sc iii}}$\n",
       "$\\newcommand{\\fea}{Fe {\\sc i}}$\n",
       "$\\newcommand{\\nd}{N {\\sc iv}}$\n",
       "$\\newcommand{\\ne}{N {\\sc v}}$\n",
       "$\\newcommand{\\mgb}{Mg {\\sc ii}}$\n",
       "$\\newcommand{\\ob}{O {\\sc ii}}$\n",
       "$\\newcommand{\\sic}{Si {\\sc iii}}$\n",
       "$\\newcommand{\\sid}{Si {\\sc iv}}$\n",
       "$\\newcommand{\\H2O}{H_{2}O}$\n",
       "$\\newcommand{\\C2H2}{C_{2}H_{2}}$\n",
       "$\\newcommand{\\CO2}{^{12}CO_{2}}$\n",
       "$\\newcommand{\\13CO}{^{13}CO_{2}}$\n",
       "$\\newcommand{\\13CO2}{^{13}CO_{2}}$\n",
       "$\\newcommand\\CH{3+}$</div>\n",
       "\n",
       "\n",
       "\n",
       "<div id=\"title\">\n",
       "\n",
       "# XUE. JWST spectroscopy of externally irradiated disks\\ around young intermediate-mass stars$\\thanks{Table \\ref{tab:full_properties}, containing all the properties of the XUE sources is available in online form.}$\n",
       "\n",
       "</div>\n",
       "<div id=\"comments\">\n",
       "\n",
       "[![arXiv](https://img.shields.io/badge/arXiv-2505.06093-b31b1b.svg)](https://arxiv.org/abs/2505.06093)<mark>Appeared on: 2025-05-12</mark> -  _12 pages, 8 appendix, 16 figures, 2 tables. Submitted to A&A_\n",
       "\n",
       "</div>\n",
       "<div id=\"authors\">\n",
       "\n",
       "M. C. Ramírez-Tannus, et al. -- incl., <mark>A. Winter</mark>, <mark>T. Henning</mark>\n",
       "\n",
       "</div>\n",
       "<div id=\"abstract\">\n",
       "\n",
       "**Abstract:** Our knowledge of the initial conditions of terrestrial planet formation is mainly based on the study of  protoplanetary disks around nearby isolated low-mass stars. However, most young stars and therefore planetary systems form in high-mass star forming regions and are exposed to ultraviolet radiation, affecting the protoplanetary disk. These regions are located at large distances and only now with JWST become accessible to study the inner disks surrounding young stars. We present the eXtreme UV Environments (XUE) program, which provides the first detailed characterization of the physical and chemical properties of the inner disks  around young intermediate-mass ( $1$ – $4$  $\\msun$ )  stars exposed to external irradiation from nearby massive stars. We present high signal to noise MIRI-MRS spectroscopy of 12 disks located in three sub-clusters of the high-mass star-forming region NGC 6357 ( $d\\sim1690$ pc). Based on their mid-infrared spectral energy distribution, we classify the XUE sources into Group I and II based on the Meeus scheme. We analyze their molecular emission features, and compare their spectral indices and 10 $\\micron$ silicate emission profiles to those of nearby Herbig and intermediate T Tauri (IMTT) disks. The XUE program provides the first detailed characterization of the rich molecular inventory within 10 au of IMTT disks, including water, CO, $CO_2$ , HCN, and $\\C$ 2H2.  Despite being more massive, the XUE stars host disks with molecular richness comparable to isolated T Tauri systems. The spectral indices are also consistent with similar-mass stars in nearby regions. The 10 $\\micron$ silicate features in the XUE sample show lower F $_{11.3}$ /F $_{9.8}$ ratios at a given F $_{\\mathrm{peak}}$ , although uncertainties in extinction prevent firm conclusions about their inner disk properties. The majority of disks display water emission from the inner disk, suggesting that even in these extreme environments rocky planets can form in the presence of water. Only one object shows PAH emission, contrasting with the higher PAH detection rates in IMTT surveys from lower-UV environments. The absence of strong line fluxes and other irradiation signatures suggests that the XUE disks have been truncated by external UV photons. However, this truncation does not appear to significantly impact the chemical richness of their inner regions. These findings indicate that even in extreme environments, IMTT disks can retain the ingredients necessary for rocky planet formation, comparable to those of lower mass T Tauri disks in low-mass star-forming regions.\n",
       "\n",
       "</div>\n",
       "\n",
       "<div id=\"div_fig1\">\n",
       "\n",
       "<img src=\"tmp_2505.06093/./figures/CCD_CMD.png\" alt=\"Fig13\" width=\"100%\"/>\n",
       "\n",
       "**Figure 13. -** Characteristics of XUE stars. In all panels, XUE stars are color-coded and labeled for clarity. The Orion Nebula young stars are represented by blue plus symbols, and NGC 6357 young stars are shown as grey crosses \\citep[][]{2005ApJS..160..319G, 2013ApJS..209...32B, 2013ApJS..209...28K, 2019ApJS..244...28T, 2022ApJ...935...43G}. (a, b) UKIRT/VVV NIR color-magnitude and color-color diagrams. PARSEC 1.2S PMS isochrones for 0.7 and 2 Myr are shown as solid and dashed curves, respectively. Reddening vectors corresponding to $A_V = 10$ mag are drawn as solid and dashed lines, originating from G0 stars at 0.7 Myr and F0 stars at 2 Myr. (c) Spitzer-IRAC MIR color-color diagram of NGC 6357 young stars with known IRAC photometry. Grey squares represent known disky stars, while purple circles indicate diskless stars \\citep[][]{2013ApJS..209...31P}. (d) Absolute $K$-band magnitude (uncorrected for extinction) as a function of stellar mass. (e) Intrinsic X-ray luminosity as a function of stellar mass. (f) X-ray column density plotted against visual-band extinction.\n",
       "    The names of the sources are displayed on the markers and are visible when zooming in. (*fig:CMD_CCD*)\n",
       "\n",
       "</div>\n",
       "<div id=\"div_fig2\">\n",
       "\n",
       "<img src=\"tmp_2505.06093/./figures/4.9-5.3_region_overview.png\" alt=\"Fig15\" width=\"100%\"/>\n",
       "\n",
       "**Figure 15. -** Overview of the spectral region between 4.9 and 5.3 $\\micron$ for all XUE sources. The lowermost spectrum shows the most prominent molecules in this region; CO at a temperature of 1500 K and a column density of 3$\\times10^{17}$ cm$^{-2}$(yellow) and $H_2$O at 850 K and $10^{18}$ cm$^{-2}$(blue). (*fig:4.9-5.3_region*)\n",
       "\n",
       "</div>\n",
       "<div id=\"div_fig3\">\n",
       "\n",
       "<img src=\"tmp_2505.06093/./figures/23.2-24.25_region_overview.png\" alt=\"Fig7\" width=\"100%\"/>\n",
       "\n",
       "**Figure 7. -** Same as Figure \\ref{fig:4.9-5.3_region} but for the region between 23.2 and 24.3 $\\micron$. The lowermost spectrum shows warm and hot $H_2$O at 400 K and $2.2\\times10^{16}$ cm$^{-2}$(blue) and at 900 K and $2.2\\times10^{16}$ cm$^{-2}$(purple). (*fig:23.2-24.25_region*)\n",
       "\n",
       "</div><div id=\"qrcode\"><img src=https://api.qrserver.com/v1/create-qr-code/?size=100x100&data=\"https://arxiv.org/abs/2505.06093\"></div>"
      ],
      "text/plain": [
       "<IPython.core.display.Markdown object>"
      ]
     },
     "metadata": {},
     "output_type": "display_data"
    }
   ],
   "source": [
    "[display(Markdown(k[1])) for k in documents];"
   ]
  },
  {
   "cell_type": "markdown",
   "id": "873873a4",
   "metadata": {
    "papermill": {
     "duration": 0.005199,
     "end_time": "2025-05-12T04:16:46.436194",
     "exception": false,
     "start_time": "2025-05-12T04:16:46.430995",
     "status": "completed"
    },
    "tags": []
   },
   "source": [
    "# Create HTML index"
   ]
  },
  {
   "cell_type": "code",
   "execution_count": 10,
   "id": "cf665672",
   "metadata": {
    "execution": {
     "iopub.execute_input": "2025-05-12T04:16:46.447394Z",
     "iopub.status.busy": "2025-05-12T04:16:46.447110Z",
     "iopub.status.idle": "2025-05-12T04:16:46.457257Z",
     "shell.execute_reply": "2025-05-12T04:16:46.456737Z"
    },
    "papermill": {
     "duration": 0.01688,
     "end_time": "2025-05-12T04:16:46.458241",
     "exception": false,
     "start_time": "2025-05-12T04:16:46.441361",
     "status": "completed"
    },
    "tags": []
   },
   "outputs": [
    {
     "name": "stdout",
     "output_type": "stream",
     "text": [
      "484  publications files modified in the last 7 days.\n"
     ]
    }
   ],
   "source": [
    "from datetime import datetime, timedelta, timezone\n",
    "from glob import glob\n",
    "import os\n",
    "\n",
    "files = glob('_build/html/*.md')\n",
    "days = 7\n",
    "now = datetime.today()\n",
    "res = []\n",
    "for fk in files:\n",
    "    stat_result = os.stat(fk).st_ctime\n",
    "    modified = datetime.fromtimestamp(stat_result, tz=timezone.utc).replace(tzinfo=None)\n",
    "    delta = now.today() - modified\n",
    "    if delta <= timedelta(days=days):\n",
    "        res.append((delta.seconds, fk))\n",
    "res = [k[1] for k in reversed(sorted(res, key=lambda x:x[1]))]\n",
    "npub = len(res)\n",
    "print(len(res), f\" publications files modified in the last {days:d} days.\")\n",
    "# [ print('\\t', k) for k in res ];"
   ]
  },
  {
   "cell_type": "code",
   "execution_count": 11,
   "id": "015de740",
   "metadata": {
    "execution": {
     "iopub.execute_input": "2025-05-12T04:16:46.469429Z",
     "iopub.status.busy": "2025-05-12T04:16:46.469204Z",
     "iopub.status.idle": "2025-05-12T04:16:46.492855Z",
     "shell.execute_reply": "2025-05-12T04:16:46.492293Z"
    },
    "papermill": {
     "duration": 0.030372,
     "end_time": "2025-05-12T04:16:46.493858",
     "exception": false,
     "start_time": "2025-05-12T04:16:46.463486",
     "status": "completed"
    },
    "tags": []
   },
   "outputs": [
    {
     "name": "stdout",
     "output_type": "stream",
     "text": [
      "10  publications in the last 7 days.\n"
     ]
    }
   ],
   "source": [
    "import datetime\n",
    "from glob import glob\n",
    "\n",
    "def get_last_n_days(lst, days=1):\n",
    "    \"\"\" Get the documents from the last n days \"\"\"\n",
    "    sorted_lst = sorted(lst, key=lambda x: x[1], reverse=True)\n",
    "    for fname, date in sorted_lst:\n",
    "        if date >= str(datetime.date.today() - datetime.timedelta(days=days)):\n",
    "            yield fname\n",
    "\n",
    "def extract_appearance_dates(lst_file):\n",
    "    dates = []\n",
    "\n",
    "    def get_date(line):\n",
    "        return line\\\n",
    "            .split('Appeared on:')[-1]\\\n",
    "            .split('</mark>')[0].strip()\n",
    "\n",
    "    for fname in lst:\n",
    "        with open(fname, 'r') as f:\n",
    "            found_date = False\n",
    "            for line in f:\n",
    "                if not found_date:\n",
    "                    if \"Appeared on\" in line:\n",
    "                        found_date = True\n",
    "                        dates.append((fname, get_date(line)))\n",
    "                else:\n",
    "                    break\n",
    "    return dates\n",
    "\n",
    "from glob import glob\n",
    "lst = glob('_build/html/*md')\n",
    "days = 7\n",
    "dates = extract_appearance_dates(lst)\n",
    "res = list(get_last_n_days(dates, days))\n",
    "npub = len(res)\n",
    "print(len(res), f\" publications in the last {days:d} days.\")"
   ]
  },
  {
   "cell_type": "code",
   "execution_count": 12,
   "id": "52ca0208",
   "metadata": {
    "execution": {
     "iopub.execute_input": "2025-05-12T04:16:46.505633Z",
     "iopub.status.busy": "2025-05-12T04:16:46.505416Z",
     "iopub.status.idle": "2025-05-12T04:16:46.510351Z",
     "shell.execute_reply": "2025-05-12T04:16:46.509807Z"
    },
    "papermill": {
     "duration": 0.011925,
     "end_time": "2025-05-12T04:16:46.511410",
     "exception": false,
     "start_time": "2025-05-12T04:16:46.499485",
     "status": "completed"
    },
    "scrolled": false,
    "tags": []
   },
   "outputs": [],
   "source": [
    "def create_carousel(npub=4):\n",
    "    \"\"\" Generate the HTML code for a carousel with `npub` slides \"\"\"\n",
    "    carousel = [\"\"\"  <div class=\"carousel\" \"\"\",\n",
    "                \"\"\"       data-flickity='{ \"autoPlay\": 10000, \"adaptiveHeight\": true, \"resize\": true, \"wrapAround\": true, \"pauseAutoPlayOnHover\": true, \"groupCells\": 1 }' id=\"asyncTypeset\">\"\"\"\n",
    "                ]\n",
    "    \n",
    "    item_str = \"\"\"    <div class=\"carousel-cell\"> <div id=\"slide{k}\" class=\"md_view\">Content {k}</div> </div>\"\"\"\n",
    "    for k in range(1, npub + 1):\n",
    "        carousel.append(item_str.format(k=k))\n",
    "    carousel.append(\"  </div>\")\n",
    "    return '\\n'.join(carousel)\n",
    "\n",
    "def create_grid(npub=4):\n",
    "    \"\"\" Generate the HTML code for a flat grid with `npub` slides \"\"\"\n",
    "    grid = [\"\"\"  <div class=\"grid\"> \"\"\",\n",
    "                ]\n",
    "    \n",
    "    item_str = \"\"\"    <div class=\"grid-item\"> <div id=\"slide{k}\" class=\"md_view\">Content {k}</div> </div>\"\"\"\n",
    "    for k in range(1, npub + 1):\n",
    "        grid.append(item_str.format(k=k))\n",
    "    grid.append(\"  </div>\")\n",
    "    return '\\n'.join(grid)"
   ]
  },
  {
   "cell_type": "code",
   "execution_count": 13,
   "id": "a6eac5b6",
   "metadata": {
    "execution": {
     "iopub.execute_input": "2025-05-12T04:16:46.525017Z",
     "iopub.status.busy": "2025-05-12T04:16:46.524811Z",
     "iopub.status.idle": "2025-05-12T04:16:46.529931Z",
     "shell.execute_reply": "2025-05-12T04:16:46.529441Z"
    },
    "papermill": {
     "duration": 0.01416,
     "end_time": "2025-05-12T04:16:46.530900",
     "exception": false,
     "start_time": "2025-05-12T04:16:46.516740",
     "status": "completed"
    },
    "scrolled": false,
    "tags": []
   },
   "outputs": [],
   "source": [
    "carousel = create_carousel(npub)\n",
    "docs = ', '.join(['\"{0:s}\"'.format(k.split('/')[-1]) for k in res])\n",
    "slides = ', '.join([f'\"slide{k}\"' for k in range(1, npub + 1)])\n",
    "\n",
    "with open(\"daily_template.html\", \"r\") as tpl:\n",
    "    page = tpl.read()\n",
    "    page = page.replace(\"{%-- carousel:s --%}\", carousel)\\\n",
    "               .replace(\"{%-- suptitle:s --%}\",  \"7-day archives\" )\\\n",
    "               .replace(\"{%-- docs:s --%}\", docs)\\\n",
    "               .replace(\"{%-- slides:s --%}\", slides)\n",
    "    \n",
    "with open(\"_build/html/index_7days.html\", 'w') as fout:\n",
    "    fout.write(page)"
   ]
  },
  {
   "cell_type": "code",
   "execution_count": 14,
   "id": "adc1a1ec",
   "metadata": {
    "execution": {
     "iopub.execute_input": "2025-05-12T04:16:46.543179Z",
     "iopub.status.busy": "2025-05-12T04:16:46.542712Z",
     "iopub.status.idle": "2025-05-12T04:16:46.549719Z",
     "shell.execute_reply": "2025-05-12T04:16:46.549180Z"
    },
    "papermill": {
     "duration": 0.014063,
     "end_time": "2025-05-12T04:16:46.550712",
     "exception": false,
     "start_time": "2025-05-12T04:16:46.536649",
     "status": "completed"
    },
    "tags": []
   },
   "outputs": [
    {
     "name": "stdout",
     "output_type": "stream",
     "text": [
      "2  publications in the last day.\n"
     ]
    }
   ],
   "source": [
    "# redo for today\n",
    "days = 1\n",
    "res = list(get_last_n_days(dates, days))\n",
    "npub = len(res)\n",
    "print(len(res), f\" publications in the last day.\")\n",
    "\n",
    "carousel = create_carousel(npub)\n",
    "docs = ', '.join(['\"{0:s}\"'.format(k.split('/')[-1]) for k in res])\n",
    "slides = ', '.join([f'\"slide{k}\"' for k in range(1, npub + 1)])\n",
    "\n",
    "with open(\"daily_template.html\", \"r\") as tpl:\n",
    "    page = tpl.read()\n",
    "    page = page.replace(\"{%-- carousel:s --%}\", carousel)\\\n",
    "               .replace(\"{%-- suptitle:s --%}\",  \"Daily\" )\\\n",
    "               .replace(\"{%-- docs:s --%}\", docs)\\\n",
    "               .replace(\"{%-- slides:s --%}\", slides)\n",
    "    \n",
    "# print(carousel, docs, slides)\n",
    "# print(page)\n",
    "with open(\"_build/html/index_daily.html\", 'w') as fout:\n",
    "    fout.write(page)"
   ]
  },
  {
   "cell_type": "code",
   "execution_count": 15,
   "id": "00eece82",
   "metadata": {
    "execution": {
     "iopub.execute_input": "2025-05-12T04:16:46.562723Z",
     "iopub.status.busy": "2025-05-12T04:16:46.562284Z",
     "iopub.status.idle": "2025-05-12T04:16:46.568992Z",
     "shell.execute_reply": "2025-05-12T04:16:46.568435Z"
    },
    "papermill": {
     "duration": 0.013791,
     "end_time": "2025-05-12T04:16:46.570007",
     "exception": false,
     "start_time": "2025-05-12T04:16:46.556216",
     "status": "completed"
    },
    "scrolled": false,
    "tags": []
   },
   "outputs": [
    {
     "name": "stdout",
     "output_type": "stream",
     "text": [
      "6  6 publications selected.\n"
     ]
    }
   ],
   "source": [
    "# Create the flat grid of the last N papers (fixed number regardless of dates)\n",
    "from itertools import islice \n",
    "\n",
    "npub = 6\n",
    "res = [k[0] for k in (islice(reversed(sorted(dates, key=lambda x: x[1])), 6))]\n",
    "print(len(res), f\" {npub} publications selected.\")\n",
    "\n",
    "grid = create_grid(npub)\n",
    "docs = ', '.join(['\"{0:s}\"'.format(k.split('/')[-1]) for k in res])\n",
    "slides = ', '.join([f'\"slide{k}\"' for k in range(1, npub + 1)])\n",
    "\n",
    "with open(\"grid_template.html\", \"r\") as tpl:\n",
    "    page = tpl.read()\n",
    "    page = page.replace(\"{%-- grid-content:s --%}\", grid)\\\n",
    "               .replace(\"{%-- suptitle:s --%}\",  f\"Last {npub:,d} papers\" )\\\n",
    "               .replace(\"{%-- docs:s --%}\", docs)\\\n",
    "               .replace(\"{%-- slides:s --%}\", slides)\n",
    "    \n",
    "# print(grid, docs, slides)\n",
    "# print(page)\n",
    "with open(\"_build/html/index_npub_grid.html\", 'w') as fout:\n",
    "    fout.write(page)"
   ]
  }
 ],
 "metadata": {
  "kernelspec": {
   "display_name": "Python 3 (ipykernel)",
   "language": "python",
   "name": "python3"
  },
  "language_info": {
   "codemirror_mode": {
    "name": "ipython",
    "version": 3
   },
   "file_extension": ".py",
   "mimetype": "text/x-python",
   "name": "python",
   "nbconvert_exporter": "python",
   "pygments_lexer": "ipython3",
   "version": "3.9.22"
  },
  "papermill": {
   "default_parameters": {},
   "duration": 73.125437,
   "end_time": "2025-05-12T04:16:46.791737",
   "environment_variables": {},
   "exception": null,
   "input_path": "MPIA daily digest.ipynb",
   "output_path": "log.ipynb",
   "parameters": {},
   "start_time": "2025-05-12T04:15:33.666300",
   "version": "2.6.0"
  },
  "vscode": {
   "interpreter": {
    "hash": "aee8b7b246df8f9039afb4144a1f6fd8d2ca17a180786b69acc140d282b71a49"
   }
  },
  "widgets": {
   "application/vnd.jupyter.widget-state+json": {
    "state": {
     "16445316d3154d9cb41f83b0f916bad7": {
      "model_module": "@jupyter-widgets/base",
      "model_module_version": "2.0.0",
      "model_name": "LayoutModel",
      "state": {
       "_model_module": "@jupyter-widgets/base",
       "_model_module_version": "2.0.0",
       "_model_name": "LayoutModel",
       "_view_count": null,
       "_view_module": "@jupyter-widgets/base",
       "_view_module_version": "2.0.0",
       "_view_name": "LayoutView",
       "align_content": null,
       "align_items": null,
       "align_self": null,
       "border_bottom": null,
       "border_left": null,
       "border_right": null,
       "border_top": null,
       "bottom": null,
       "display": null,
       "flex": null,
       "flex_flow": null,
       "grid_area": null,
       "grid_auto_columns": null,
       "grid_auto_flow": null,
       "grid_auto_rows": null,
       "grid_column": null,
       "grid_gap": null,
       "grid_row": null,
       "grid_template_areas": null,
       "grid_template_columns": null,
       "grid_template_rows": null,
       "height": null,
       "justify_content": null,
       "justify_items": null,
       "left": null,
       "margin": null,
       "max_height": null,
       "max_width": null,
       "min_height": null,
       "min_width": null,
       "object_fit": null,
       "object_position": null,
       "order": null,
       "overflow": null,
       "padding": null,
       "right": null,
       "top": null,
       "visibility": null,
       "width": null
      }
     },
     "19abcee826cb4b689b25315e85fdf0b5": {
      "model_module": "@jupyter-widgets/controls",
      "model_module_version": "2.0.0",
      "model_name": "FloatProgressModel",
      "state": {
       "_dom_classes": [],
       "_model_module": "@jupyter-widgets/controls",
       "_model_module_version": "2.0.0",
       "_model_name": "FloatProgressModel",
       "_view_count": null,
       "_view_module": "@jupyter-widgets/controls",
       "_view_module_version": "2.0.0",
       "_view_name": "ProgressView",
       "bar_style": "success",
       "description": "",
       "description_allow_html": false,
       "layout": "IPY_MODEL_f71334de33b84f64a72e0bcbade54c5f",
       "max": 6.0,
       "min": 0.0,
       "orientation": "horizontal",
       "style": "IPY_MODEL_e3e748821f6d4f4f873fd74129d66efa",
       "tabbable": null,
       "tooltip": null,
       "value": 6.0
      }
     },
     "2d1a0c26e01a4b2fa4a030617a150a1c": {
      "model_module": "@jupyter-widgets/controls",
      "model_module_version": "2.0.0",
      "model_name": "HTMLStyleModel",
      "state": {
       "_model_module": "@jupyter-widgets/controls",
       "_model_module_version": "2.0.0",
       "_model_name": "HTMLStyleModel",
       "_view_count": null,
       "_view_module": "@jupyter-widgets/base",
       "_view_module_version": "2.0.0",
       "_view_name": "StyleView",
       "background": null,
       "description_width": "",
       "font_size": null,
       "text_color": null
      }
     },
     "45f7a7c70bb1465e8844e19132714a39": {
      "model_module": "@jupyter-widgets/controls",
      "model_module_version": "2.0.0",
      "model_name": "HBoxModel",
      "state": {
       "_dom_classes": [],
       "_model_module": "@jupyter-widgets/controls",
       "_model_module_version": "2.0.0",
       "_model_name": "HBoxModel",
       "_view_count": null,
       "_view_module": "@jupyter-widgets/controls",
       "_view_module_version": "2.0.0",
       "_view_name": "HBoxView",
       "box_style": "",
       "children": [
        "IPY_MODEL_960d0831a86147fe9ad1fd608ba048e8",
        "IPY_MODEL_19abcee826cb4b689b25315e85fdf0b5",
        "IPY_MODEL_671a38f8312040498becce20b8c3a0da"
       ],
       "layout": "IPY_MODEL_795505622e614d7daa412bfa3bfee4ba",
       "tabbable": null,
       "tooltip": null
      }
     },
     "671a38f8312040498becce20b8c3a0da": {
      "model_module": "@jupyter-widgets/controls",
      "model_module_version": "2.0.0",
      "model_name": "HTMLModel",
      "state": {
       "_dom_classes": [],
       "_model_module": "@jupyter-widgets/controls",
       "_model_module_version": "2.0.0",
       "_model_name": "HTMLModel",
       "_view_count": null,
       "_view_module": "@jupyter-widgets/controls",
       "_view_module_version": "2.0.0",
       "_view_name": "HTMLView",
       "description": "",
       "description_allow_html": false,
       "layout": "IPY_MODEL_16445316d3154d9cb41f83b0f916bad7",
       "placeholder": "​",
       "style": "IPY_MODEL_fec303c8a0bb478699b7c7b23eff706d",
       "tabbable": null,
       "tooltip": null,
       "value": " 6/6 [00:50&lt;00:00,  8.16s/it]"
      }
     },
     "795505622e614d7daa412bfa3bfee4ba": {
      "model_module": "@jupyter-widgets/base",
      "model_module_version": "2.0.0",
      "model_name": "LayoutModel",
      "state": {
       "_model_module": "@jupyter-widgets/base",
       "_model_module_version": "2.0.0",
       "_model_name": "LayoutModel",
       "_view_count": null,
       "_view_module": "@jupyter-widgets/base",
       "_view_module_version": "2.0.0",
       "_view_name": "LayoutView",
       "align_content": null,
       "align_items": null,
       "align_self": null,
       "border_bottom": null,
       "border_left": null,
       "border_right": null,
       "border_top": null,
       "bottom": null,
       "display": null,
       "flex": null,
       "flex_flow": null,
       "grid_area": null,
       "grid_auto_columns": null,
       "grid_auto_flow": null,
       "grid_auto_rows": null,
       "grid_column": null,
       "grid_gap": null,
       "grid_row": null,
       "grid_template_areas": null,
       "grid_template_columns": null,
       "grid_template_rows": null,
       "height": null,
       "justify_content": null,
       "justify_items": null,
       "left": null,
       "margin": null,
       "max_height": null,
       "max_width": null,
       "min_height": null,
       "min_width": null,
       "object_fit": null,
       "object_position": null,
       "order": null,
       "overflow": null,
       "padding": null,
       "right": null,
       "top": null,
       "visibility": null,
       "width": null
      }
     },
     "960d0831a86147fe9ad1fd608ba048e8": {
      "model_module": "@jupyter-widgets/controls",
      "model_module_version": "2.0.0",
      "model_name": "HTMLModel",
      "state": {
       "_dom_classes": [],
       "_model_module": "@jupyter-widgets/controls",
       "_model_module_version": "2.0.0",
       "_model_name": "HTMLModel",
       "_view_count": null,
       "_view_module": "@jupyter-widgets/controls",
       "_view_module_version": "2.0.0",
       "_view_name": "HTMLView",
       "description": "",
       "description_allow_html": false,
       "layout": "IPY_MODEL_bc471757cb694c28b6f5d2154aec420d",
       "placeholder": "​",
       "style": "IPY_MODEL_2d1a0c26e01a4b2fa4a030617a150a1c",
       "tabbable": null,
       "tooltip": null,
       "value": "100%"
      }
     },
     "bc471757cb694c28b6f5d2154aec420d": {
      "model_module": "@jupyter-widgets/base",
      "model_module_version": "2.0.0",
      "model_name": "LayoutModel",
      "state": {
       "_model_module": "@jupyter-widgets/base",
       "_model_module_version": "2.0.0",
       "_model_name": "LayoutModel",
       "_view_count": null,
       "_view_module": "@jupyter-widgets/base",
       "_view_module_version": "2.0.0",
       "_view_name": "LayoutView",
       "align_content": null,
       "align_items": null,
       "align_self": null,
       "border_bottom": null,
       "border_left": null,
       "border_right": null,
       "border_top": null,
       "bottom": null,
       "display": null,
       "flex": null,
       "flex_flow": null,
       "grid_area": null,
       "grid_auto_columns": null,
       "grid_auto_flow": null,
       "grid_auto_rows": null,
       "grid_column": null,
       "grid_gap": null,
       "grid_row": null,
       "grid_template_areas": null,
       "grid_template_columns": null,
       "grid_template_rows": null,
       "height": null,
       "justify_content": null,
       "justify_items": null,
       "left": null,
       "margin": null,
       "max_height": null,
       "max_width": null,
       "min_height": null,
       "min_width": null,
       "object_fit": null,
       "object_position": null,
       "order": null,
       "overflow": null,
       "padding": null,
       "right": null,
       "top": null,
       "visibility": null,
       "width": null
      }
     },
     "e3e748821f6d4f4f873fd74129d66efa": {
      "model_module": "@jupyter-widgets/controls",
      "model_module_version": "2.0.0",
      "model_name": "ProgressStyleModel",
      "state": {
       "_model_module": "@jupyter-widgets/controls",
       "_model_module_version": "2.0.0",
       "_model_name": "ProgressStyleModel",
       "_view_count": null,
       "_view_module": "@jupyter-widgets/base",
       "_view_module_version": "2.0.0",
       "_view_name": "StyleView",
       "bar_color": null,
       "description_width": ""
      }
     },
     "f71334de33b84f64a72e0bcbade54c5f": {
      "model_module": "@jupyter-widgets/base",
      "model_module_version": "2.0.0",
      "model_name": "LayoutModel",
      "state": {
       "_model_module": "@jupyter-widgets/base",
       "_model_module_version": "2.0.0",
       "_model_name": "LayoutModel",
       "_view_count": null,
       "_view_module": "@jupyter-widgets/base",
       "_view_module_version": "2.0.0",
       "_view_name": "LayoutView",
       "align_content": null,
       "align_items": null,
       "align_self": null,
       "border_bottom": null,
       "border_left": null,
       "border_right": null,
       "border_top": null,
       "bottom": null,
       "display": null,
       "flex": null,
       "flex_flow": null,
       "grid_area": null,
       "grid_auto_columns": null,
       "grid_auto_flow": null,
       "grid_auto_rows": null,
       "grid_column": null,
       "grid_gap": null,
       "grid_row": null,
       "grid_template_areas": null,
       "grid_template_columns": null,
       "grid_template_rows": null,
       "height": null,
       "justify_content": null,
       "justify_items": null,
       "left": null,
       "margin": null,
       "max_height": null,
       "max_width": null,
       "min_height": null,
       "min_width": null,
       "object_fit": null,
       "object_position": null,
       "order": null,
       "overflow": null,
       "padding": null,
       "right": null,
       "top": null,
       "visibility": null,
       "width": null
      }
     },
     "fec303c8a0bb478699b7c7b23eff706d": {
      "model_module": "@jupyter-widgets/controls",
      "model_module_version": "2.0.0",
      "model_name": "HTMLStyleModel",
      "state": {
       "_model_module": "@jupyter-widgets/controls",
       "_model_module_version": "2.0.0",
       "_model_name": "HTMLStyleModel",
       "_view_count": null,
       "_view_module": "@jupyter-widgets/base",
       "_view_module_version": "2.0.0",
       "_view_name": "StyleView",
       "background": null,
       "description_width": "",
       "font_size": null,
       "text_color": null
      }
     }
    },
    "version_major": 2,
    "version_minor": 0
   }
  }
 },
 "nbformat": 4,
 "nbformat_minor": 5
}