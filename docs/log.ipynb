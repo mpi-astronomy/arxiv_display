{
 "cells": [
  {
   "cell_type": "markdown",
   "id": "92bcb855",
   "metadata": {
    "papermill": {
     "duration": 0.005521,
     "end_time": "2023-03-15T15:20:29.932161",
     "exception": false,
     "start_time": "2023-03-15T15:20:29.926640",
     "status": "completed"
    },
    "tags": []
   },
   "source": [
    "# MPIA Arxiv on Deck 2\n",
    "\n",
    "Contains the steps to produce the paper extractions."
   ]
  },
  {
   "cell_type": "code",
   "execution_count": 1,
   "id": "3a0d6e11",
   "metadata": {
    "execution": {
     "iopub.execute_input": "2023-03-15T15:20:29.941752Z",
     "iopub.status.busy": "2023-03-15T15:20:29.941004Z",
     "iopub.status.idle": "2023-03-15T15:20:30.170774Z",
     "shell.execute_reply": "2023-03-15T15:20:30.170067Z"
    },
    "papermill": {
     "duration": 0.236784,
     "end_time": "2023-03-15T15:20:30.172850",
     "exception": false,
     "start_time": "2023-03-15T15:20:29.936066",
     "status": "completed"
    },
    "tags": []
   },
   "outputs": [],
   "source": [
    "# Imports\n",
    "import os\n",
    "from IPython.display import Markdown, display\n",
    "from tqdm.notebook import tqdm\n",
    "import warnings\n",
    "from PIL import Image \n",
    "\n",
    "# requires arxiv_on_deck_2\n",
    "\n",
    "from arxiv_on_deck_2.arxiv2 import (get_new_papers, \n",
    "                                    get_paper_from_identifier,\n",
    "                                    retrieve_document_source, \n",
    "                                    get_markdown_badge)\n",
    "from arxiv_on_deck_2 import (latex,\n",
    "                             latex_bib,\n",
    "                             mpia,\n",
    "                             highlight_authors_in_list)\n",
    "\n",
    "# Sometimes images are really big\n",
    "Image.MAX_IMAGE_PIXELS = 1000000000 "
   ]
  },
  {
   "cell_type": "code",
   "execution_count": 2,
   "id": "22aa9d44",
   "metadata": {
    "execution": {
     "iopub.execute_input": "2023-03-15T15:20:30.184053Z",
     "iopub.status.busy": "2023-03-15T15:20:30.182424Z",
     "iopub.status.idle": "2023-03-15T15:20:30.188492Z",
     "shell.execute_reply": "2023-03-15T15:20:30.187844Z"
    },
    "papermill": {
     "duration": 0.012863,
     "end_time": "2023-03-15T15:20:30.190100",
     "exception": false,
     "start_time": "2023-03-15T15:20:30.177237",
     "status": "completed"
    },
    "tags": []
   },
   "outputs": [],
   "source": [
    "# Some useful definitions.\n",
    "\n",
    "class AffiliationWarning(UserWarning):\n",
    "    pass\n",
    "\n",
    "class AffiliationError(RuntimeError):\n",
    "    pass\n",
    "\n",
    "def validation(source: str):\n",
    "    \"\"\"Raises error paper during parsing of source file\n",
    "    \n",
    "    Allows checks before parsing TeX code.\n",
    "    \n",
    "    Raises AffiliationWarning\n",
    "    \"\"\"\n",
    "    check = mpia.affiliation_verifications(source, verbose=True)\n",
    "    if check is not True:\n",
    "        raise AffiliationError(\"mpia.affiliation_verifications: \" + check)\n",
    "\n",
    "        \n",
    "warnings.simplefilter('always', AffiliationWarning)"
   ]
  },
  {
   "cell_type": "code",
   "execution_count": 3,
   "id": "14622700",
   "metadata": {
    "execution": {
     "iopub.execute_input": "2023-03-15T15:20:30.198883Z",
     "iopub.status.busy": "2023-03-15T15:20:30.198286Z",
     "iopub.status.idle": "2023-03-15T15:20:30.202263Z",
     "shell.execute_reply": "2023-03-15T15:20:30.201597Z"
    },
    "papermill": {
     "duration": 0.010285,
     "end_time": "2023-03-15T15:20:30.204030",
     "exception": false,
     "start_time": "2023-03-15T15:20:30.193745",
     "status": "completed"
    },
    "tags": []
   },
   "outputs": [],
   "source": [
    "# additional CSS to consider. \n",
    "# TODO: Current into each exported file. \n",
    "#       This should be set once into the webpages directly.\n",
    "#       With only the class/id definitions in the .md files.\n",
    "\n",
    "debug_html = \"\"\"\n",
    "<style>\n",
    "#wrap{ overflow:auto; }\n",
    "#fig1{ background:yellow; width:100%; float:left; padding:5px;  }\n",
    "#fig2{ background:red; width:50%; float:left; clear:left; padding:5px;  }\n",
    "#fig3{ background:green; width:50%; float:left; padding:5px;   }\n",
    ".macros{ background:yellow; visibility:visible;}\n",
    "h1 {margin: 0 0 0 0;}\n",
    "mark {background-color:#fff3b6;}\n",
    "img {object-fit:contain; max-height:250px; display:inline-block; text-align: center;}\n",
    "</style>\n",
    "\"\"\" \n",
    "html = \"\"\"\n",
    "<style>\n",
    "#wrap{ overflow:auto; }\n",
    "#fig1{ width:100%; float:left; padding: 5px;  }\n",
    "#fig2{ width:50%; float:left; clear:left; padding: 5px;  }\n",
    "#fig3{ width:50%; float:left; padding: 5px;  }\n",
    ".macros{ visibility:hidden; height:0px; }\n",
    "h1 {margin: 0em 0 0 0;}\n",
    "mark {background-color:#fff3b6;}\n",
    "img {object-fit:contain; max-height:250px; display:inline-block; text-align: center;}\n",
    "</style>\n",
    "\"\"\""
   ]
  },
  {
   "cell_type": "markdown",
   "id": "14bd6310",
   "metadata": {
    "papermill": {
     "duration": 0.003515,
     "end_time": "2023-03-15T15:20:30.211128",
     "exception": false,
     "start_time": "2023-03-15T15:20:30.207613",
     "status": "completed"
    },
    "tags": []
   },
   "source": [
    "## get list of arxiv paper candidates\n",
    "\n",
    "We use the MPIA mitarbeiter list webpage from mpia.de to get author names\n",
    "We then get all new papers from Arxiv and match authors"
   ]
  },
  {
   "cell_type": "code",
   "execution_count": 4,
   "id": "2645e73a",
   "metadata": {
    "execution": {
     "iopub.execute_input": "2023-03-15T15:20:30.220099Z",
     "iopub.status.busy": "2023-03-15T15:20:30.219368Z",
     "iopub.status.idle": "2023-03-15T15:20:54.581925Z",
     "shell.execute_reply": "2023-03-15T15:20:54.580233Z"
    },
    "papermill": {
     "duration": 24.368945,
     "end_time": "2023-03-15T15:20:54.583639",
     "exception": false,
     "start_time": "2023-03-15T15:20:30.214694",
     "status": "completed"
    },
    "tags": []
   },
   "outputs": [
    {
     "name": "stdout",
     "output_type": "stream",
     "text": [
      "Arxiv has 65 new papers today\n",
      "          14 with possible author matches\n"
     ]
    }
   ],
   "source": [
    "# get list from MPIA website\n",
    "# it automatically filters identified non-scientists :func:`mpia.filter_non_scientists`\n",
    "mpia_authors = mpia.get_mpia_mitarbeiter_list()\n",
    "new_papers = get_new_papers()\n",
    "# add manual references\n",
    "add_paper_refs = []\n",
    "new_papers.extend([get_paper_from_identifier(k) for k in add_paper_refs])\n",
    "\n",
    "# select only papers with matching author names and highlight authors\n",
    "hl_list = [k[0] for k in mpia_authors]\n",
    "\n",
    "candidates = []\n",
    "for paperk in new_papers:\n",
    "    hl_authors = highlight_authors_in_list(paperk['authors'], hl_list)\n",
    "    matches = [(hl, orig) for hl, orig in zip(hl_authors, paperk['authors']) if 'mark' in hl]\n",
    "    paperk['authors'] = hl_authors\n",
    "    if matches:\n",
    "        candidates.append(paperk)\n",
    "print(\"\"\"Arxiv has {0:,d} new papers today\"\"\".format(len(new_papers)))        \n",
    "print(\"\"\"          {0:,d} with possible author matches\"\"\".format(len(candidates)))"
   ]
  },
  {
   "cell_type": "markdown",
   "id": "3543b34a",
   "metadata": {
    "papermill": {
     "duration": 0.00405,
     "end_time": "2023-03-15T15:20:54.591690",
     "exception": false,
     "start_time": "2023-03-15T15:20:54.587640",
     "status": "completed"
    },
    "tags": []
   },
   "source": [
    "# Parse sources and generate relevant outputs\n",
    "\n",
    "From the candidates, we do the following steps:\n",
    "* get their tarball from ArXiv (and extract data)\n",
    "* find the main .tex file: find one with \\documentclass{...} (sometimes it's non trivial)\n",
    "* Check affiliations with :func:`validation`, which uses :func:`mpia.affiliation_verifications`\n",
    "* If passing the affiliations: we parse the .tex source\n",
    "   * inject sub-documents into the main (flatten the main document)\n",
    "   * parse structure, extract information (title, abstract, authors, figures...)\n",
    "   * handles `\\graphicspath` if provided\n",
    "* Generate the .md document."
   ]
  },
  {
   "cell_type": "code",
   "execution_count": 5,
   "id": "9576b79e",
   "metadata": {
    "execution": {
     "iopub.execute_input": "2023-03-15T15:20:54.600448Z",
     "iopub.status.busy": "2023-03-15T15:20:54.599947Z",
     "iopub.status.idle": "2023-03-15T15:21:11.508627Z",
     "shell.execute_reply": "2023-03-15T15:21:11.507856Z"
    },
    "papermill": {
     "duration": 16.914897,
     "end_time": "2023-03-15T15:21:11.510211",
     "exception": false,
     "start_time": "2023-03-15T15:20:54.595314",
     "status": "completed"
    },
    "scrolled": false,
    "tags": []
   },
   "outputs": [
    {
     "data": {
      "application/vnd.jupyter.widget-view+json": {
       "model_id": "18718a8f3b28409fb3712cae8ae1f4c5",
       "version_major": 2,
       "version_minor": 0
      },
      "text/plain": [
       "  0%|          | 0/13 [00:00<?, ?it/s]"
      ]
     },
     "metadata": {},
     "output_type": "display_data"
    },
    {
     "name": "stdout",
     "output_type": "stream",
     "text": [
      "Retrieving document from  https://arxiv.org/e-print/2303.07353\n"
     ]
    },
    {
     "name": "stdout",
     "output_type": "stream",
     "text": [
      "extracting tarball to tmp_2303.07353... done.\n",
      "Retrieving document from  https://arxiv.org/e-print/2303.07376\n"
     ]
    },
    {
     "name": "stderr",
     "output_type": "stream",
     "text": [
      "/opt/hostedtoolcache/Python/3.9.16/x64/lib/python3.9/site-packages/IPython/core/interactiveshell.py:3460: LatexWarning: Multiple tex files.\n",
      "\n",
      "  exec(code_obj, self.user_global_ns, self.user_ns)\n",
      "/opt/hostedtoolcache/Python/3.9.16/x64/lib/python3.9/site-packages/IPython/core/interactiveshell.py:3460: LatexWarning: Found documentclass in tmp_2303.07353/skeleton.tex\n",
      "\n",
      "  exec(code_obj, self.user_global_ns, self.user_ns)\n",
      "/opt/hostedtoolcache/Python/3.9.16/x64/lib/python3.9/site-packages/arxiv_on_deck_2/latex.py:361: LatexWarning: Latex injecting: 'journals_mnras' from 'tmp_2303.07353/journals_mnras.tex'\n",
      "  warnings.warn(LatexWarning(f\"Latex injecting: '{ext}' from '{subsource}'\"))\n"
     ]
    },
    {
     "name": "stdout",
     "output_type": "stream",
     "text": [
      "extracting tarball to tmp_2303.07376... done.\n",
      "Retrieving document from  https://arxiv.org/e-print/2303.07387\n"
     ]
    },
    {
     "name": "stderr",
     "output_type": "stream",
     "text": [
      "/opt/hostedtoolcache/Python/3.9.16/x64/lib/python3.9/site-packages/IPython/core/interactiveshell.py:3460: LatexWarning: Multiple tex files.\n",
      "\n",
      "  exec(code_obj, self.user_global_ns, self.user_ns)\n",
      "/opt/hostedtoolcache/Python/3.9.16/x64/lib/python3.9/site-packages/IPython/core/interactiveshell.py:3460: LatexWarning: Found documentclass in tmp_2303.07376/metals_paper_draft1.tex\n",
      "\n",
      "  exec(code_obj, self.user_global_ns, self.user_ns)\n"
     ]
    },
    {
     "name": "stdout",
     "output_type": "stream",
     "text": [
      "extracting tarball to tmp_2303.07387..."
     ]
    },
    {
     "name": "stdout",
     "output_type": "stream",
     "text": [
      " done.\n",
      "Retrieving document from  https://arxiv.org/e-print/2303.07410\n"
     ]
    },
    {
     "name": "stderr",
     "output_type": "stream",
     "text": [
      "/opt/hostedtoolcache/Python/3.9.16/x64/lib/python3.9/site-packages/IPython/core/interactiveshell.py:3460: LatexWarning: Multiple tex files.\n",
      "\n",
      "  exec(code_obj, self.user_global_ns, self.user_ns)\n",
      "/opt/hostedtoolcache/Python/3.9.16/x64/lib/python3.9/site-packages/IPython/core/interactiveshell.py:3460: LatexWarning: Found documentclass in tmp_2303.07387/main.tex\n",
      "\n",
      "  exec(code_obj, self.user_global_ns, self.user_ns)\n",
      "/opt/hostedtoolcache/Python/3.9.16/x64/lib/python3.9/site-packages/arxiv_on_deck_2/latex.py:361: LatexWarning: Latex injecting: 'tables/summary_tab.tex' from 'tmp_2303.07387/tables/summary_tab.tex'\n",
      "  warnings.warn(LatexWarning(f\"Latex injecting: '{ext}' from '{subsource}'\"))\n",
      "/opt/hostedtoolcache/Python/3.9.16/x64/lib/python3.9/site-packages/arxiv_on_deck_2/latex.py:361: LatexWarning: Latex injecting: 'tables/dmhalos_tab.tex' from 'tmp_2303.07387/tables/dmhalos_tab.tex'\n",
      "  warnings.warn(LatexWarning(f\"Latex injecting: '{ext}' from '{subsource}'\"))\n",
      "/opt/hostedtoolcache/Python/3.9.16/x64/lib/python3.9/site-packages/arxiv_on_deck_2/latex.py:361: LatexWarning: Latex injecting: 'tables/tab_excessDM.tex' from 'tmp_2303.07387/tables/tab_excessDM.tex'\n",
      "  warnings.warn(LatexWarning(f\"Latex injecting: '{ext}' from '{subsource}'\"))\n"
     ]
    },
    {
     "name": "stdout",
     "output_type": "stream",
     "text": [
      "extracting tarball to tmp_2303.07410..."
     ]
    },
    {
     "name": "stdout",
     "output_type": "stream",
     "text": [
      " done.\n",
      "Retrieving document from  https://arxiv.org/e-print/2303.07501\n"
     ]
    },
    {
     "name": "stdout",
     "output_type": "stream",
     "text": [
      "extracting tarball to tmp_2303.07501... done.\n",
      "Retrieving document from  https://arxiv.org/e-print/2303.07549\n"
     ]
    },
    {
     "name": "stdout",
     "output_type": "stream",
     "text": [
      "extracting tarball to tmp_2303.07549..."
     ]
    },
    {
     "name": "stdout",
     "output_type": "stream",
     "text": [
      " done.\n",
      "Retrieving document from  https://arxiv.org/e-print/2303.07577\n"
     ]
    },
    {
     "name": "stdout",
     "output_type": "stream",
     "text": [
      "extracting tarball to tmp_2303.07577... done.\n",
      "Retrieving document from  https://arxiv.org/e-print/2303.07588\n"
     ]
    },
    {
     "name": "stdout",
     "output_type": "stream",
     "text": [
      "extracting tarball to tmp_2303.07588..."
     ]
    },
    {
     "name": "stdout",
     "output_type": "stream",
     "text": [
      " done.\n",
      "Retrieving document from  https://arxiv.org/e-print/2303.07619\n"
     ]
    },
    {
     "name": "stdout",
     "output_type": "stream",
     "text": [
      "extracting tarball to tmp_2303.07619..."
     ]
    },
    {
     "name": "stdout",
     "output_type": "stream",
     "text": [
      " done.\n",
      "Retrieving document from  https://arxiv.org/e-print/2303.07721\n"
     ]
    },
    {
     "name": "stderr",
     "output_type": "stream",
     "text": [
      "/opt/hostedtoolcache/Python/3.9.16/x64/lib/python3.9/site-packages/IPython/core/interactiveshell.py:3460: LatexWarning: Multiple tex files.\n",
      "\n",
      "  exec(code_obj, self.user_global_ns, self.user_ns)\n",
      "/opt/hostedtoolcache/Python/3.9.16/x64/lib/python3.9/site-packages/IPython/core/interactiveshell.py:3460: LatexWarning: Found documentclass in tmp_2303.07619/submission.tex\n",
      "\n",
      "  exec(code_obj, self.user_global_ns, self.user_ns)\n"
     ]
    },
    {
     "name": "stdout",
     "output_type": "stream",
     "text": [
      "extracting tarball to tmp_2303.07721... done.\n",
      "Retrieving document from  https://arxiv.org/e-print/2303.07832\n"
     ]
    },
    {
     "name": "stdout",
     "output_type": "stream",
     "text": [
      "extracting tarball to tmp_2303.07832... done.\n",
      "Retrieving document from  https://arxiv.org/e-print/2303.07943\n"
     ]
    },
    {
     "name": "stdout",
     "output_type": "stream",
     "text": [
      "extracting tarball to tmp_2303.07943..."
     ]
    },
    {
     "name": "stdout",
     "output_type": "stream",
     "text": [
      " done.\n",
      "Retrieving document from  https://arxiv.org/e-print/2303.08088\n"
     ]
    },
    {
     "name": "stderr",
     "output_type": "stream",
     "text": [
      "/opt/hostedtoolcache/Python/3.9.16/x64/lib/python3.9/site-packages/IPython/core/interactiveshell.py:3460: LatexWarning: Multiple tex files.\n",
      "\n",
      "  exec(code_obj, self.user_global_ns, self.user_ns)\n",
      "/opt/hostedtoolcache/Python/3.9.16/x64/lib/python3.9/site-packages/IPython/core/interactiveshell.py:3460: LatexWarning: Found documentclass in tmp_2303.07943/main.tex\n",
      "\n",
      "  exec(code_obj, self.user_global_ns, self.user_ns)\n"
     ]
    },
    {
     "name": "stdout",
     "output_type": "stream",
     "text": [
      "extracting tarball to tmp_2303.08088..."
     ]
    },
    {
     "name": "stdout",
     "output_type": "stream",
     "text": [
      " done.\n"
     ]
    },
    {
     "name": "stderr",
     "output_type": "stream",
     "text": [
      "/opt/hostedtoolcache/Python/3.9.16/x64/lib/python3.9/site-packages/IPython/core/interactiveshell.py:3460: LatexWarning: Multiple tex files.\n",
      "\n",
      "  exec(code_obj, self.user_global_ns, self.user_ns)\n",
      "/opt/hostedtoolcache/Python/3.9.16/x64/lib/python3.9/site-packages/IPython/core/interactiveshell.py:3460: LatexWarning: Found documentclass in tmp_2303.08088/PaperDraft.tex\n",
      "\n",
      "  exec(code_obj, self.user_global_ns, self.user_ns)\n"
     ]
    }
   ],
   "source": [
    "documents = []\n",
    "failed = []\n",
    "for paper in tqdm(candidates[:-1]):\n",
    "    paper_id = paper['identifier'].lower().replace('arxiv:', '')\n",
    "    \n",
    "    folder = f'tmp_{paper_id}'\n",
    "\n",
    "    try:\n",
    "        if not os.path.isdir(folder):\n",
    "            folder = retrieve_document_source(f\"{paper_id}\", f'tmp_{paper_id}')\n",
    "        \n",
    "        try:\n",
    "            doc = latex.LatexDocument(folder, validation=validation)    \n",
    "        except AffiliationError as affilerror:\n",
    "            msg = f\"ArXiv:{paper_id:s} is not an MPIA paper... \" + str(affilerror)\n",
    "            failed.append((paper, \"affiliation error: \" + str(affilerror) ))\n",
    "            continue\n",
    "        \n",
    "        # Hack because sometimes author parsing does not work well\n",
    "        if (len(doc.authors) != len(paper['authors'])):\n",
    "            doc._authors = paper['authors']\n",
    "        if (doc.abstract) in (None, ''):\n",
    "            doc._abstract = paper['abstract']\n",
    "            \n",
    "        doc.comment = (get_markdown_badge(paper_id) + \n",
    "                       \"<mark>Appeared on: \" + paper['date'] + \"</mark> - \" +\n",
    "                       \"_\" + paper['comments'] + \"_\")\n",
    "        doc.highlight_authors_in_list(hl_list)\n",
    "\n",
    "        full_md = doc.generate_markdown_text()\n",
    "        \n",
    "        # replace citations\n",
    "        try:\n",
    "            bibdata = latex_bib.LatexBib.from_doc(doc)\n",
    "            full_md = latex_bib.replace_citations(full_md, bibdata)\n",
    "        except Exception as e:\n",
    "            print(e)\n",
    "        \n",
    "        documents.append((paper_id, full_md))\n",
    "    except Exception as e:\n",
    "        warnings.warn(latex.LatexWarning(f\"{paper_id:s} did not run properly\\n\" +\n",
    "                                         str(e)\n",
    "                                        ))\n",
    "        failed.append((paper, \"latex error \" + str(e)))"
   ]
  },
  {
   "cell_type": "markdown",
   "id": "2505a25c",
   "metadata": {
    "papermill": {
     "duration": 0.00524,
     "end_time": "2023-03-15T15:21:11.521322",
     "exception": false,
     "start_time": "2023-03-15T15:21:11.516082",
     "status": "completed"
    },
    "tags": []
   },
   "source": [
    "### Export the logs\n",
    "\n",
    "Throughout, we also keep track of the logs per paper. see `logs-{today date}.md` "
   ]
  },
  {
   "cell_type": "code",
   "execution_count": 6,
   "id": "d733828a",
   "metadata": {
    "execution": {
     "iopub.execute_input": "2023-03-15T15:21:11.534597Z",
     "iopub.status.busy": "2023-03-15T15:21:11.533905Z",
     "iopub.status.idle": "2023-03-15T15:21:11.557553Z",
     "shell.execute_reply": "2023-03-15T15:21:11.556874Z"
    },
    "papermill": {
     "duration": 0.032581,
     "end_time": "2023-03-15T15:21:11.559124",
     "exception": false,
     "start_time": "2023-03-15T15:21:11.526543",
     "status": "completed"
    },
    "scrolled": false,
    "tags": []
   },
   "outputs": [
    {
     "data": {
      "text/markdown": [
       "## Successful papers"
      ],
      "text/plain": [
       "<IPython.core.display.Markdown object>"
      ]
     },
     "metadata": {},
     "output_type": "display_data"
    },
    {
     "data": {
      "text/markdown": [
       "## Failed papers"
      ],
      "text/plain": [
       "<IPython.core.display.Markdown object>"
      ]
     },
     "metadata": {},
     "output_type": "display_data"
    },
    {
     "data": {
      "text/markdown": [
       "\n",
       "|||\n",
       "|---:|:---|\n",
       "| [![arXiv](https://img.shields.io/badge/arXiv-arXiv:2303.07410-b31b1b.svg)](https://arxiv.org/abs/arXiv:2303.07410) | **Relative Alignment Between Magnetic Fields and Molecular Gas Structure  in Molecular Clouds**  |\n",
       "|| Renato Mazzei, et al. -- incl., <mark>Zhi-Yun Li</mark> |\n",
       "|*Appeared on*| *2023-03-15*|\n",
       "|*Comments*| *18 pages, 13 figures, accepted for publication in MNRAS*|\n",
       "|**Abstract**| We compare the structure of synthetic dust polarization with synthetic molecular line emission from radiative transfer calculations using a 3-dimensional, turbulent collapsing-cloud magnetohydrodynamics simulation. The histogram of relative orientations (HRO) technique and the projected Rayleigh statistic (PRS) are considered. In our trans-Alfv\\'enic (more strongly magnetized) simulation, there is a transition to perpendicular alignment at densities above $\\sim$$4 \\times 10^{3}$ cm$^{-3}$. This transition is recovered in most of our synthetic observations of optically thin molecular tracers, however for $^{12}$CO it does not occur and the PRS remains in parallel alignment across the whole observer-space. We calculate the physical depth of the optical depth $\\tau = 1$ surface and find that for $^{12}$CO it is largely located in front of the cloud midplane, suggesting that $^{12}$CO is too optically thick and instead mainly probes low volume density gas. In our super-Alfv\\'enic simulation, the magnetic field becomes significantly more tangled, and all observed tracers tend toward no preference for perpendicular or parallel alignment. An observable difference in alignment between optically thin and optically thick tracers may indicate the presence of a dynamically important magnetic field, though there is some degeneracy with viewing angle. We convolve our data with a Gaussian beam and compare it with HRO results of the Vela C molecular cloud. We find good agreement between these results and our sub-Alfv\\'enic simulations when viewed with the magnetic field in the plane-of-the-sky (especially when sensitivity limitations are considered), though the observations are also consistent with an intermediately inclined magnetic field. |\n",
       "|<p style=\"color:green\"> **ERROR** </p>| <p style=\"color:green\">affiliation error: mpia.affiliation_verifications: '69117' keyword not found.</p> |"
      ],
      "text/plain": [
       "<IPython.core.display.Markdown object>"
      ]
     },
     "metadata": {},
     "output_type": "display_data"
    },
    {
     "data": {
      "text/markdown": [
       "\n",
       "|||\n",
       "|---:|:---|\n",
       "| [![arXiv](https://img.shields.io/badge/arXiv-arXiv:2303.07353-b31b1b.svg)](https://arxiv.org/abs/arXiv:2303.07353) | **Minor Flares on Cygnus X-3 -- VLBI Prospects**  |\n",
       "|| Ralph E. Spencer, Justin D. Bray, <mark>David A. Green</mark>, Michael A. Garrett |\n",
       "|*Appeared on*| *2023-03-15*|\n",
       "|*Comments*| *Accepted to PoS (EVN2022): proceedings of 15th European VLBI Network Symposium*|\n",
       "|**Abstract**| The cm-wavelength radio flares on Cygnus X-3 have been studied for many years. Our recent paper (Spencer et al., 2022) looked again at the minor flares (flux density S of a few 100 mJy) and compared their properties with those of a sample of major flares (S > 1 Jy). We find that the minor flares have rise times and duration of ~ 1 hour, as opposed to ~ days for the major flares. Minor flares show more rapid expansion of the synchrotron radiation emitting material than in the strong flares. They also appear closer to the binary, whereas the large flares form a more developed jet, i.e. the jets formed in minor flares are short and wide, those in major flares are long and thin. We used the results of Fender & Bright (2019) to calculate the magnetic field and expansion velocity as a fraction B of the speed of light under minimum energy conditions when the source is optically thick for samples of minor and major flares. The minimum power in the source was found using the rise time of the flares. The minor flares have lower minimum power but have larger velocities and energy densities than the major flares. Minor flares can occur while a major flare is in progress, suggesting an indirect coupling between them. The spectral evolution of the minor flares can be explained by either an expanding synchrotron source or a shock model. Further investigation requires high resolution VLBI observations at the 1 mas level if we wish to understand the development of the source. The problem is that Cygnus X-3 is strongly scattered by the interstellar medium so high frequencies in the several 10s of GHz are required for the resolution needed. The minor flares are rapid [...] and hence only short snapshot VLBI observations can capture the structure. Large numbers of telescopes are required which is a problem at the highest frequencies. We discuss the VLBI possibilities and trade-offs for this awkward object. |\n",
       "|<p style=\"color:green\"> **ERROR** </p>| <p style=\"color:green\">affiliation error: mpia.affiliation_verifications: 'Heidelberg' keyword not found.</p> |"
      ],
      "text/plain": [
       "<IPython.core.display.Markdown object>"
      ]
     },
     "metadata": {},
     "output_type": "display_data"
    },
    {
     "data": {
      "text/markdown": [
       "\n",
       "|||\n",
       "|---:|:---|\n",
       "| [![arXiv](https://img.shields.io/badge/arXiv-arXiv:2303.07376-b31b1b.svg)](https://arxiv.org/abs/arXiv:2303.07376) | **Metal Factories in the Early Universe**  |\n",
       "|| Stephen Eales, et al. -- incl., <mark>Matthew W.L. Smith</mark> |\n",
       "|*Appeared on*| *2023-03-15*|\n",
       "|*Comments*| *Submitted to MNRAS*|\n",
       "|**Abstract**| We have measured the mass of metals in 13 submillimetre galaxies at z~4 in which the gas, based on previous observations, lies in a cold rotating disk. We measured the metal masses using either the submillimetre line or continuum emission from three tracers of the overall metal content - carbon atoms, carbon monoxide molecules and dust grains - using the first calibration of this technique that treats all three tracers simultaneously (Dunne et al. 2022). We obtain very similar mass estimates from the different tracers, which are similar to the entire metal content of a present-day massive early-type galaxy. We used the dynamical masses of these galaxies to set an upper limit on the mass of the interstellar medium in each galaxy, allowing us to set a lower limit on the metal abundance of the ISM, finding values for many of the galaxies well above the solar value. The only caveat to this result is that we cannot be certain for all galaxies that the emission from the tracer comes from within the region covered by the dynamical analysis. Our high values for the metal abundance are supported by a recent JWST study of one galaxy which found a super-solar metal abundance approximately 3 times greater than our lower limit. Using two chemical evolution models, we show that the high metal masses and metal abundances are what is expected shortly after the formation of a galaxy for a top-heavy IMF. We suggest a scenario for galaxy evolution in which massive galaxies reach a high metal abundance during their formation phase, which is then gradually reduced by dry mergers with lower mass galaxies. We use the chemical-evolution models to show that the metals in the outflows from massive early-type galaxies in their formation phase can quantitatively explain the long-standing puzzle that approximately 75% of the metals in clusters of galaxies is in the intracluster gas rather than in the galaxies. |\n",
       "|<p style=\"color:green\"> **ERROR** </p>| <p style=\"color:green\">affiliation error: mpia.affiliation_verifications: 'Heidelberg' keyword not found.</p> |"
      ],
      "text/plain": [
       "<IPython.core.display.Markdown object>"
      ]
     },
     "metadata": {},
     "output_type": "display_data"
    },
    {
     "data": {
      "text/markdown": [
       "\n",
       "|||\n",
       "|---:|:---|\n",
       "| [![arXiv](https://img.shields.io/badge/arXiv-arXiv:2303.07387-b31b1b.svg)](https://arxiv.org/abs/arXiv:2303.07387) | **Searching for the sources of excess extragalactic dispersion of FRBs**  |\n",
       "|| Sunil Simha, et al. -- incl., <mark>Khee-Gan Lee</mark>, <mark>Jielai Zhang</mark> |\n",
       "|*Appeared on*| *2023-03-15*|\n",
       "|*Comments*| *14 pages, 6 figures, 3 tables. Data access available here: this https URL*|\n",
       "|**Abstract**| The FLIMFLAM survey is collecting spectroscopic data of field galaxies near fast radio burst (FRB) sightlines to constrain key parameters describing the distribution of matter in the Universe. In this work, we leverage the survey data to determine the source of the excess extragalactic dispersion measure (DM), compared to the Macquart relation estimate of four FRBs: FRB20190714A, FRB20200430A, FRB20200906A, and FRB20210117A. By modeling the gas distribution around the foreground galaxy halos and galaxy groups of the sightlines, we estimate $\\rm DM_{halos}$, their contribution to the FRB dispersion measures. The FRB20190714A sightline shows a clear excess of foreground halos which contribute roughly 2/3$^{rd}$ of the observed excess DM, thus implying a baryon-dense sightline. FRB20200906A shows a smaller but non-negligible foreground halo contribution, and further analysis of the IGM is necessary to ascertain the true cosmic contribution to its DM. RB20200430A and FRB20210117A show negligible foreground contributions, implying a large host galaxy excess and/or progenitor environment excess. |\n",
       "|<p style=\"color:green\"> **ERROR** </p>| <p style=\"color:green\">affiliation error: mpia.affiliation_verifications: 'Heidelberg' keyword not found.</p> |"
      ],
      "text/plain": [
       "<IPython.core.display.Markdown object>"
      ]
     },
     "metadata": {},
     "output_type": "display_data"
    },
    {
     "data": {
      "text/markdown": [
       "\n",
       "|||\n",
       "|---:|:---|\n",
       "| [![arXiv](https://img.shields.io/badge/arXiv-arXiv:2303.07501-b31b1b.svg)](https://arxiv.org/abs/arXiv:2303.07501) | **High-Mass Starless Clumps: Dynamical State and Correlation Between  Physical Parameters**  |\n",
       "|| Bo Huang, et al. -- incl., <mark>Wenyu Jiao</mark>, <mark>Qianru He</mark> |\n",
       "|*Appeared on*| *2023-03-15*|\n",
       "|*Comments*| *20 pages, 8 figures*|\n",
       "|**Abstract**| In order to study the initial conditions of massive star formation, we have previously built a sample of 463 high-mass starless clumps (HMSCs) across the inner Galactic plane covered by multiple continuum surveys. Here, we use $^{13}$ CO(2-1) line data from the SEDIGISM survey, which covers 78$^{\\circ}$ in longitude ($-60^{\\circ}<l<18^{\\circ}$, $\\vert b\\vert<0.5^{\\circ}$) with 30$^{\\prime \\prime}$ resolution, to investigate the global dynamical state of these parsec-scale HMSCs (207 sources with good quality data, mass $10^{2}\\sim 10^{5}\\ \\rm M_{\\odot}$, size $0.1\\sim3.6$ pc). We find that most HMSCs are highly turbulent with a median Mach number $\\mathcal{M_{S}}\\sim$ 8.2, and 44\\%$\\sim$55\\% of them are gravitationally bound (with virial parameter $\\alpha_{\\rm vir} \\lesssim 2$) if no magnetic fields were present. A median magnetic field strength of 0.33$\\sim$0.37 mG would be needed to support these bound clumps against collapse, in agreement with previous observations of magnetic fields in massive star formation regions. Luminosity-to-mass ratio, an important tracer for evolutionary stage, is strongly correlated with dust temperature. Magnetic field strength is also corrected with density. The Larson linewidth-size scaling does not hold in HMSCs. This study advances our understanding of global properties of HMSCs, and our high-resolution ALMA observations are on the way to study the resolved properties. |\n",
       "|<p style=\"color:green\"> **ERROR** </p>| <p style=\"color:green\">affiliation error: mpia.affiliation_verifications: 'Heidelberg' keyword not found.</p> |"
      ],
      "text/plain": [
       "<IPython.core.display.Markdown object>"
      ]
     },
     "metadata": {},
     "output_type": "display_data"
    },
    {
     "data": {
      "text/markdown": [
       "\n",
       "|||\n",
       "|---:|:---|\n",
       "| [![arXiv](https://img.shields.io/badge/arXiv-arXiv:2303.07549-b31b1b.svg)](https://arxiv.org/abs/arXiv:2303.07549) | **VERTICO V: The environmentally driven evolution of the inner cold gas  discs of Virgo cluster galaxies**  |\n",
       "|| Adam B. Watts, et al. -- incl., <mark>Toby Brown</mark>, <mark>Bumhyun Lee</mark> |\n",
       "|*Appeared on*| *2023-03-15*|\n",
       "|*Comments*| *Accepted for publication in PASA. Main text is 19 pages including 12 figures and 3 tables, plus 1 appendix. A 2.5 min, high-level summary can be found at this https URL*|\n",
       "|**Abstract**| The quenching of cluster satellite galaxies is inextricably linked to the suppression of their cold interstellar medium (ISM) by environmental mechanisms. While the removal of neutral atomic hydrogen (HI) at large radii is well studied, how the environment impacts the remaining gas in the centres of galaxies, which are dominated by molecular gas, is less clear. Using new observations from the Virgo Environment traced in CO survey (VERTICO) and archival HI data, we study the HI and molecular gas within the optical discs of Virgo cluster galaxies on 1.2-kpc scales with spatially resolved scaling relations between stellar (${\\Sigma}_{\\star}$), HI (${\\Sigma}_\\mathrm{HI}$), and molecular gas (${\\Sigma}_\\mathrm{mol}$) surface densities. Adopting HI deficiency as a measure of environmental impact, we find evidence that, in addition to removing the HI at large radii, the cluster processes also lower the average ${\\Sigma}_\\mathrm{HI}$ of the remaining gas even in the central 1.2 kpc. The impact on molecular gas is comparatively weaker than on the HI, and we show that the lower ${\\Sigma}_\\mathrm{mol}$ gas is removed first. In the most HI-deficient galaxies, however, we find evidence that environmental processes reduce the typical ${\\Sigma}_\\mathrm{mol}$ of the remaining gas by nearly a factor of 3. We find no evidence for environment-driven elevation of ${\\Sigma}_\\mathrm{HI}$ or ${\\Sigma}_\\mathrm{mol}$ in HI-deficient galaxies. Using the ratio of ${\\Sigma}_\\mathrm{mol}$-to-${\\Sigma}_\\mathrm{HI}$ in individual regions, we show that changes in the ISM physical conditions, estimated using the total gas surface density and midplane hydrostatic pressure, cannot explain the observed reduction in molecular gas content. Instead, we suggest that direct stripping of the molecular gas is required to explain our results. |\n",
       "|<p style=\"color:green\"> **ERROR** </p>| <p style=\"color:green\">affiliation error: mpia.affiliation_verifications: 'Heidelberg' keyword not found.</p> |"
      ],
      "text/plain": [
       "<IPython.core.display.Markdown object>"
      ]
     },
     "metadata": {},
     "output_type": "display_data"
    },
    {
     "data": {
      "text/markdown": [
       "\n",
       "|||\n",
       "|---:|:---|\n",
       "| [![arXiv](https://img.shields.io/badge/arXiv-arXiv:2303.07577-b31b1b.svg)](https://arxiv.org/abs/arXiv:2303.07577) | **A broadband X-ray imaging spectroscopy in the 2030s: the FORCE mission**  |\n",
       "|| Koji Mori, et al. -- incl., <mark>Yoshihiro Ueda</mark>, <mark>William W. Zhang</mark> |\n",
       "|*Appeared on*| *2023-03-15*|\n",
       "|*Comments*| *12 pages, 8 figures. Proceedings of SPIE Astronomical Telescopes and Instrumentation 2022*|\n",
       "|**Abstract**| In this multi-messenger astronomy era, all the observational probes are improving their sensitivities and overall performance. The Focusing on Relativistic universe and Cosmic Evolution (FORCE) mission, the product of a JAXA/NASA collaboration, will reach a 10 times higher sensitivity in the hard X-ray band ($E >$ 10~keV) in comparison with any previous hard X-ray missions, and provide simultaneous soft X-ray coverage. FORCE aims to be launched in the early 2030s, providing a perfect hard X-ray complement to the ESA flagship mission Athena. FORCE will be the most powerful X-ray probe for discovering obscured/hidden black holes and studying high energy particle acceleration in our Universe and will address how relativistic processes in the universe are realized and how these affect cosmic evolution. FORCE, which will operate over 1--79 keV, is equipped with two identical pairs of supermirrors and wideband X-ray imagers. The mirror and imager are connected by a high mechanical stiffness extensible optical bench with alignment monitor systems with a focal length of 12~m. A light-weight silicon mirror with multi-layer coating realizes a high angular resolution of $<15''$ in half-power diameter in the broad bandpass. The imager is a hybrid of a brand-new SOI-CMOS silicon-pixel detector and a CdTe detector responsible for the softer and harder energy bands, respectively. FORCE will play an essential role in the multi-messenger astronomy in the 2030s with its broadband X-ray sensitivity. |\n",
       "|<p style=\"color:green\"> **ERROR** </p>| <p style=\"color:green\">affiliation error: mpia.affiliation_verifications: 'Heidelberg' keyword not found.</p> |"
      ],
      "text/plain": [
       "<IPython.core.display.Markdown object>"
      ]
     },
     "metadata": {},
     "output_type": "display_data"
    },
    {
     "data": {
      "text/markdown": [
       "\n",
       "|||\n",
       "|---:|:---|\n",
       "| [![arXiv](https://img.shields.io/badge/arXiv-arXiv:2303.07588-b31b1b.svg)](https://arxiv.org/abs/arXiv:2303.07588) | **Fast transitions of X-ray variability in the black hole transient GX  339--4: comparison with MAXI J1820+070 and MAXI J1348-630**  |\n",
       "|| Zi-Xu Yang, et al. -- incl., <mark>S.N. Zhang</mark>, <mark>He-Xin Liu</mark>, <mark>S. Zhang</mark>, <mark>T.M. Li</mark>, <mark>Yuexin Zhang</mark>, <mark>P.P Li</mark>, <mark>S.J. Zhao</mark>, <mark>Q.C. Zhao</mark> |\n",
       "|*Appeared on*| *2023-03-15*|\n",
       "|*Comments*| **|\n",
       "|**Abstract**| Fast transitions between different types of power density spectra (PDS) happening over timescales of several tens of seconds are rare phenomena in black hole X-ray binaries. In this paper, we report a broadband spectral-timing analysis of the fast transitions observed in the 2021 outburst of GX 339-4 using NICER and HXMT observations. We observe transitions between band-limited noise-dominated PDS and type-B quasi-periodic oscillations (QPOs), and their rapid appearance or disappearance. We also make a detailed comparison between the fast transitions in GX 339-4 with those seen in MAXI J1820+070 and MAXI J1348--630. By comparing the spectra of the periods with and without type-B QPOs, we find that the spectral ratios above 10 keV are nearly constant or slightly decreasing, and the values are different between sources. Below 10 keV, the flux change of the Comptonization component is inversely proportional to the flux change of the thermal component, suggesting that the appearance of type-B QPOs is associated with a redistribution of the accretion power between the disc and the Comptonizing emission region. The spectral ratios between the periods with type-B QPO and those with broadband noise are significantly different from that with type-B QPO and without type-B QPO, where the ratios (type-B QPO/broadband noise) show a maximum at around 4 keV and then decrease gradually towards high energies. Finally, we discuss the possible change of the geometry of the inner accretion flow and/or jet during the transitions. |\n",
       "|<p style=\"color:green\"> **ERROR** </p>| <p style=\"color:green\">affiliation error: mpia.affiliation_verifications: 'Heidelberg' keyword not found.</p> |"
      ],
      "text/plain": [
       "<IPython.core.display.Markdown object>"
      ]
     },
     "metadata": {},
     "output_type": "display_data"
    },
    {
     "data": {
      "text/markdown": [
       "\n",
       "|||\n",
       "|---:|:---|\n",
       "| [![arXiv](https://img.shields.io/badge/arXiv-arXiv:2303.07619-b31b1b.svg)](https://arxiv.org/abs/arXiv:2303.07619) | **Observational Evidence for Large-Scale Gas Heating in a Galaxy  Protocluster at z=2.30**  |\n",
       "|| Chenze Dong, et al. -- incl., <mark>Khee-Gan Lee</mark> |\n",
       "|*Appeared on*| *2023-03-15*|\n",
       "|*Comments*| *12 pages, 5 figures (including one interactive figure at this https URL). Accepted by ApJL*|\n",
       "|**Abstract**| We report a $z=2.30$ galaxy protocluster (COSTCO-I) in the COSMOS field, where the Lyman-$\\alpha$ forest as seen in the CLAMATO IGM tomography survey does not show significant absorption. This departs from the transmission-density relationship (often dubbed the fluctuating Gunn-Peterson approximation; FGPA) usually expected to hold at this epoch, which would lead one to predict strong Ly$\\alpha$ absorption at the overdensity. For comparison, we generate mock Lyman-$\\alpha$ forest maps by applying FGPA to constrained simulations of the COSMOS density field, and create mocks that incorporate the effects of finite sightline sampling, pixel noise, and Wiener filtering. Averaged over $r=15\\,h^{-1}\\,\\mathrm{Mpc}$ around the protocluster, the observed Lyman-$\\alpha$ forest is consistently more transparent in the real data than in the mocks, indicating a rejection of the null hypothesis that the gas in COSTCO-I follows FGPA ($p=0.0026$, or $2.79 \\sigma$ significance). It suggests that the large-scale gas associated with COSTCO-I is being heated above the expectations of FGPA, which might be due to either large-scale AGN jet feedback or early gravitational shock heating. COSTCO-I is the first known large-scale region of the IGM that is observed to be transitioning from the optically-thin photoionized regime at Cosmic Noon, to eventually coalesce into an intra-cluster medium (ICM) by $z=0$. Future observations of similar structures will shed light on the growth of the ICM and allow constraints on AGN feedback mechanisms. |\n",
       "|<p style=\"color:green\"> **ERROR** </p>| <p style=\"color:green\">affiliation error: mpia.affiliation_verifications: 'Heidelberg' keyword not found.</p> |"
      ],
      "text/plain": [
       "<IPython.core.display.Markdown object>"
      ]
     },
     "metadata": {},
     "output_type": "display_data"
    },
    {
     "data": {
      "text/markdown": [
       "\n",
       "|||\n",
       "|---:|:---|\n",
       "| [![arXiv](https://img.shields.io/badge/arXiv-arXiv:2303.07721-b31b1b.svg)](https://arxiv.org/abs/arXiv:2303.07721) | **Photometry and spectroscopy of the Type Icn supernova 2021ckj: The  diverse properties of the ejecta and circumstellar matter of Type Icn SNe**  |\n",
       "|| T. Nagao, et al. -- incl., <mark>T. E. Müller-Bravo</mark> |\n",
       "|*Appeared on*| *2023-03-15*|\n",
       "|*Comments*| *13 pages, 5 figures, accepted for publication in A&A*|\n",
       "|**Abstract**| We present photometric and spectroscopic observations of the Type Icn supernova (SN) 2021ckj. Spectral modeling of SN 2021ckj reveals that its composition is dominated by oxygen, carbon and iron group elements, and the photospheric velocity at peak is ~10000 km/s. From the light curve (LC) modeling applied to SNe 2021ckj, 2019hgp, and 2021csp, we find that the ejecta and CSM properties of Type Icn SNe are diverse. SNe 2021ckj and 2021csp likely have two ejecta components (an aspherical high-energy component and a spherical standard-energy component) with a roughly spherical CSM, while SN 2019hgp can be explained by a spherical ejecta-CSM interaction alone. The ejecta of SNe 2021ckj and 2021csp have larger energy per ejecta mass than the ejecta of SN 2019hgp. The density distribution of the CSM is similar in these three SNe, and is comparable to those of Type Ibn SNe. This may imply that the mass-loss mechanism is common between Type Icn (and also Type Ibn) SNe. The CSM masses of SN 2021ckj and SN 2021csp are higher than that of SN 2019hgp, although all these values are within the diversity seen in Type Ibn SNe. The early spectrum of SN 2021ckj shows narrow emission lines from C II and C III, without a clear absorption component, in contrast with that observed in SN 2021csp. The similarity of the emission components of these lines implies that the emitting regions of SNe 2021ckj and 2021csp have similar ionization states, and thus suggests that they have similar properties of the ejecta and CSM, which is inferred also from the LC modeling. Taking into account the difference in the strength of the absorption features, this heterogeneity may be attributed to viewing angle effects in otherwise common aspherical ejecta. |\n",
       "|<p style=\"color:green\"> **ERROR** </p>| <p style=\"color:green\">affiliation error: mpia.affiliation_verifications: 'Heidelberg' keyword not found.</p> |"
      ],
      "text/plain": [
       "<IPython.core.display.Markdown object>"
      ]
     },
     "metadata": {},
     "output_type": "display_data"
    },
    {
     "data": {
      "text/markdown": [
       "\n",
       "|||\n",
       "|---:|:---|\n",
       "| [![arXiv](https://img.shields.io/badge/arXiv-arXiv:2303.07832-b31b1b.svg)](https://arxiv.org/abs/arXiv:2303.07832) | **First Detailed Analysis of a Relatively Deep, Low Mass-ratio Contact  Binary: ATO J108.6991+27.8306**  |\n",
       "|| Shuo Ma, et al. -- incl., <mark>Yu Zhang</mark>, <mark>Chenyang He</mark> |\n",
       "|*Appeared on*| *2023-03-15*|\n",
       "|*Comments*| *7 pages, 6 figures*|\n",
       "|**Abstract**| We present the first detailed photometric analysis of ATO J108.6991+27.8306 (hereinafter as J108). The short-period close binary J108 was observed by the Nanshan 1 m Wide Field Telescope of the Xinjiang Astronomical Observatory. The obtained BVRI-band light curves were used to determine the photometric solution by using the 2003 version of the Wilson-Devinney code. J108 is a typical deep ( f > 50%), low mass ratio (q < 0.25) overcontact binary system with a mass ratio of q = 0.1501 and a fill-out factor of f = 50.1 %, suggesting that it is in the late evolutionary stage of contact binary systems. We found the target to be a W-type W UMa binary and provided evidence for the presence of starspots on both components. From the temperature-luminosity diagram, the main component is the evolved main sequence star with an evolutionary age of about 7.94 Gyr. |\n",
       "|<p style=\"color:green\"> **ERROR** </p>| <p style=\"color:green\">affiliation error: mpia.affiliation_verifications: 'Heidelberg' keyword not found.</p> |"
      ],
      "text/plain": [
       "<IPython.core.display.Markdown object>"
      ]
     },
     "metadata": {},
     "output_type": "display_data"
    },
    {
     "data": {
      "text/markdown": [
       "\n",
       "|||\n",
       "|---:|:---|\n",
       "| [![arXiv](https://img.shields.io/badge/arXiv-arXiv:2303.07943-b31b1b.svg)](https://arxiv.org/abs/arXiv:2303.07943) | **SKA Science Data Challenge 2: analysis and results**  |\n",
       "|| P. Hartley, et al. -- incl., <mark>L. Smith</mark>, <mark>L. Zhang</mark>, <mark>X. Zhang</mark>, <mark>Y. Zhang</mark> |\n",
       "|*Appeared on*| *2023-03-15*|\n",
       "|*Comments*| *Under review by MNRAS; 28 pages, 16 figures*|\n",
       "|**Abstract**| The Square Kilometre Array Observatory (SKAO) will explore the radio sky to new depths in order to conduct transformational science. SKAO data products made available to astronomers will be correspondingly large and complex, requiring the application of advanced analysis techniques to extract key science findings. To this end, SKAO is conducting a series of Science Data Challenges, each designed to familiarise the scientific community with SKAO data and to drive the development of new analysis techniques. We present the results from Science Data Challenge 2 (SDC2), which invited participants to find and characterise 233245 neutral hydrogen (Hi) sources in a simulated data product representing a 2000~h SKA MID spectral line observation from redshifts 0.25 to 0.5. Through the generous support of eight international supercomputing facilities, participants were able to undertake the Challenge using dedicated computational resources. Alongside the main challenge, `reproducibility awards' were made in recognition of those pipelines which demonstrated Open Science best practice. The Challenge saw over 100 participants develop a range of new and existing techniques, with results that highlight the strengths of multidisciplinary and collaborative effort. The winning strategy -- which combined predictions from two independent machine learning techniques to yield a 20 percent improvement in overall performance -- underscores one of the main Challenge outcomes: that of method complementarity. It is likely that the combination of methods in a so-called ensemble approach will be key to exploiting very large astronomical datasets. |\n",
       "|<p style=\"color:green\"> **ERROR** </p>| <p style=\"color:green\">affiliation error: mpia.affiliation_verifications: 'Heidelberg' keyword not found.</p> |"
      ],
      "text/plain": [
       "<IPython.core.display.Markdown object>"
      ]
     },
     "metadata": {},
     "output_type": "display_data"
    },
    {
     "data": {
      "text/markdown": [
       "\n",
       "|||\n",
       "|---:|:---|\n",
       "| [![arXiv](https://img.shields.io/badge/arXiv-arXiv:2303.08088-b31b1b.svg)](https://arxiv.org/abs/arXiv:2303.08088) | **How Cosmic Web Environment Affects Galaxy Quenching Across Cosmic Time**  |\n",
       "|| Farhanul Hasan, et al. -- incl., <mark>Joseph N. Burchett</mark> |\n",
       "|*Appeared on*| *2023-03-15*|\n",
       "|*Comments*| *5 Figures, 15 pages, submitted to ApJ Letters*|\n",
       "|**Abstract**| We investigate how cosmic web structures affect galaxy quenching in the IllustrisTNG (TNG-100) cosmological simulations by reconstructing the cosmic web in each snapshot using the DisPerSE framework. We measure the distance from each galaxy with stellar mass log(M*/Msun)>=8 to the nearest node (dnode) and the nearest filament spine (dfil) and study the dependence of both median specific star formation rate (<sSFR>) and median gas fraction (<fgas>) on these distances. We find that <sSFR> of galaxies is only dependent on cosmic web environment at z<2, with the dependence increasing with time. At z<=0.5, 8<=log(M*/Msun)<9 galaxies are quenched at dnode<1 Mpc, and significantly star formation-suppressed at dfil<1 Mpc, trends which are driven mostly by satellite galaxies. At z<=1, in contrast to the monotonic rise in <sSFR> of log(M*/Msun)<10 galaxies with dnode and dfil, log(M*/Msun)>=10 galaxies actually experience an upturn in <sSFR> at dnode<0.2 Mpc (this is caused by both satellites and centrals). Much of this cosmic web-dependence of star formation activity can be explained by the evolution in <fgas>. Our results suggest that in the past ~10 Gyr, low-mass satellites are quenched by rapid gas stripping in dense environments near nodes and gradual gas starvation in intermediate-density environments near filaments, while at earlier times cosmic web structures efficiently channeled cold gas into most galaxies. State-of-the-art ongoing spectroscopic surveys such as SDSS and DESI, as well as those planned with JWST and Roman are required to test our predictions against observations. |\n",
       "|<p style=\"color:green\"> **ERROR** </p>| <p style=\"color:green\">affiliation error: mpia.affiliation_verifications: 'Heidelberg' keyword not found.</p> |"
      ],
      "text/plain": [
       "<IPython.core.display.Markdown object>"
      ]
     },
     "metadata": {},
     "output_type": "display_data"
    }
   ],
   "source": [
    "import datetime\n",
    "today = str(datetime.date.today())\n",
    "logfile = f\"_build/html/logs/log-{today}.md\"\n",
    "\n",
    "\n",
    "with open(logfile, 'w') as logs:\n",
    "    # Success\n",
    "    logs.write(f'# Arxiv on Deck 2: Logs - {today}\\n\\n')\n",
    "    logs.write(\"\"\"* Arxiv had {0:,d} new papers\\n\"\"\".format(len(new_papers)))\n",
    "    logs.write(\"\"\"    * {0:,d} with possible author matches\\n\\n\"\"\".format(len(candidates)))\n",
    "    logs.write(\"## Sucessful papers\\n\\n\")\n",
    "    display(Markdown(\"## Successful papers\"))\n",
    "    success = [k[0] for k in documents]\n",
    "    for candid in candidates:\n",
    "        if candid['identifier'].split(':')[-1] in success:\n",
    "            display(candid)\n",
    "            logs.write(candid.generate_markdown_text() + '\\n\\n')\n",
    "\n",
    "    ## failed\n",
    "    logs.write(\"## Failed papers\\n\\n\")\n",
    "    display(Markdown(\"## Failed papers\"))\n",
    "    failed = sorted(failed, key=lambda x: x[1])\n",
    "    current_reason = \"\"\n",
    "    for paper, reason in failed:\n",
    "        if 'affiliation' in reason:\n",
    "            color = 'green'\n",
    "        else:\n",
    "            color = 'red'\n",
    "        data = Markdown(\n",
    "                paper.generate_markdown_text() + \n",
    "                f'\\n|<p style=\"color:{color:s}\"> **ERROR** </p>| <p style=\"color:{color:s}\">{reason:s}</p> |'\n",
    "               )\n",
    "        if reason != current_reason:\n",
    "            logs.write(f'### {reason:s} \\n\\n')\n",
    "            current_reason = reason\n",
    "        logs.write(data.data + '\\n\\n')\n",
    "        \n",
    "        # only display here the important errors (all in logs)\n",
    "        # if color in ('red',):\n",
    "        display(data)"
   ]
  },
  {
   "cell_type": "markdown",
   "id": "472d20ee",
   "metadata": {
    "papermill": {
     "duration": 0.006999,
     "end_time": "2023-03-15T15:21:11.573329",
     "exception": false,
     "start_time": "2023-03-15T15:21:11.566330",
     "status": "completed"
    },
    "tags": []
   },
   "source": [
    "## Export documents\n",
    "\n",
    "We now write the .md files and export relevant images"
   ]
  },
  {
   "cell_type": "code",
   "execution_count": 7,
   "id": "d426aed9",
   "metadata": {
    "execution": {
     "iopub.execute_input": "2023-03-15T15:21:11.588906Z",
     "iopub.status.busy": "2023-03-15T15:21:11.588441Z",
     "iopub.status.idle": "2023-03-15T15:21:11.596420Z",
     "shell.execute_reply": "2023-03-15T15:21:11.595724Z"
    },
    "papermill": {
     "duration": 0.017625,
     "end_time": "2023-03-15T15:21:11.597948",
     "exception": false,
     "start_time": "2023-03-15T15:21:11.580323",
     "status": "completed"
    },
    "tags": []
   },
   "outputs": [],
   "source": [
    "def export_markdown_summary(md: str, md_fname:str, directory: str):\n",
    "    \"\"\"Export MD document and associated relevant images\"\"\"\n",
    "    import os\n",
    "    import shutil\n",
    "    import re\n",
    "\n",
    "    if (os.path.exists(directory) and not os.path.isdir(directory)):\n",
    "        raise RuntimeError(f\"a non-directory file exists with name {directory:s}\")\n",
    "\n",
    "    if (not os.path.exists(directory)):\n",
    "        print(f\"creating directory {directory:s}\")\n",
    "        os.mkdir(directory)\n",
    "\n",
    "    fig_fnames = (re.compile(r'\\[Fig.*\\]\\((.*)\\)').findall(md) + \n",
    "                  re.compile(r'\\<img src=\"([^>\\s]*)\"[^>]*/>').findall(md))\n",
    "    for fname in fig_fnames:\n",
    "        if 'http' in fname:\n",
    "            # No need to copy online figures\n",
    "            continue\n",
    "        destdir = os.path.join(directory, os.path.dirname(fname))\n",
    "        destfname = os.path.join(destdir, os.path.basename(fname))\n",
    "        try:\n",
    "            os.makedirs(destdir)\n",
    "        except FileExistsError:\n",
    "            pass\n",
    "        shutil.copy(fname, destfname)\n",
    "    with open(os.path.join(directory, md_fname), 'w') as fout:\n",
    "        fout.write(md)\n",
    "    print(\"exported in \", os.path.join(directory, md_fname))\n",
    "    [print(\"    + \" + os.path.join(directory,fk)) for fk in fig_fnames]"
   ]
  },
  {
   "cell_type": "code",
   "execution_count": 8,
   "id": "014d04a4",
   "metadata": {
    "execution": {
     "iopub.execute_input": "2023-03-15T15:21:11.613937Z",
     "iopub.status.busy": "2023-03-15T15:21:11.613256Z",
     "iopub.status.idle": "2023-03-15T15:21:11.616951Z",
     "shell.execute_reply": "2023-03-15T15:21:11.616256Z"
    },
    "papermill": {
     "duration": 0.013386,
     "end_time": "2023-03-15T15:21:11.618461",
     "exception": false,
     "start_time": "2023-03-15T15:21:11.605075",
     "status": "completed"
    },
    "tags": []
   },
   "outputs": [],
   "source": [
    "for paper_id, md in documents:\n",
    "    export_markdown_summary(md, f\"{paper_id:s}.md\", '_build/html/')"
   ]
  },
  {
   "cell_type": "markdown",
   "id": "f087a0a7",
   "metadata": {
    "papermill": {
     "duration": 0.006987,
     "end_time": "2023-03-15T15:21:11.632647",
     "exception": false,
     "start_time": "2023-03-15T15:21:11.625660",
     "status": "completed"
    },
    "tags": []
   },
   "source": [
    "## Display the papers\n",
    "\n",
    "Not necessary but allows for a quick check."
   ]
  },
  {
   "cell_type": "code",
   "execution_count": 9,
   "id": "fd25f625",
   "metadata": {
    "execution": {
     "iopub.execute_input": "2023-03-15T15:21:11.648523Z",
     "iopub.status.busy": "2023-03-15T15:21:11.647969Z",
     "iopub.status.idle": "2023-03-15T15:21:11.652137Z",
     "shell.execute_reply": "2023-03-15T15:21:11.651431Z"
    },
    "papermill": {
     "duration": 0.013869,
     "end_time": "2023-03-15T15:21:11.653595",
     "exception": false,
     "start_time": "2023-03-15T15:21:11.639726",
     "status": "completed"
    },
    "scrolled": false,
    "tags": []
   },
   "outputs": [],
   "source": [
    "[display(Markdown(k[1])) for k in documents];"
   ]
  },
  {
   "cell_type": "markdown",
   "id": "873873a4",
   "metadata": {
    "papermill": {
     "duration": 0.007091,
     "end_time": "2023-03-15T15:21:11.667759",
     "exception": false,
     "start_time": "2023-03-15T15:21:11.660668",
     "status": "completed"
    },
    "tags": []
   },
   "source": [
    "# Create HTML index"
   ]
  },
  {
   "cell_type": "code",
   "execution_count": 10,
   "id": "cf665672",
   "metadata": {
    "execution": {
     "iopub.execute_input": "2023-03-15T15:21:11.683593Z",
     "iopub.status.busy": "2023-03-15T15:21:11.683011Z",
     "iopub.status.idle": "2023-03-15T15:21:11.693011Z",
     "shell.execute_reply": "2023-03-15T15:21:11.692289Z"
    },
    "papermill": {
     "duration": 0.019719,
     "end_time": "2023-03-15T15:21:11.694499",
     "exception": false,
     "start_time": "2023-03-15T15:21:11.674780",
     "status": "completed"
    },
    "tags": []
   },
   "outputs": [
    {
     "name": "stdout",
     "output_type": "stream",
     "text": [
      "196  publications files modified in the last 7 days.\n"
     ]
    }
   ],
   "source": [
    "from datetime import datetime, timedelta, timezone\n",
    "from glob import glob\n",
    "import os\n",
    "\n",
    "files = glob('_build/html/*.md')\n",
    "days = 7\n",
    "now = datetime.today()\n",
    "res = []\n",
    "for fk in files:\n",
    "    stat_result = os.stat(fk).st_ctime\n",
    "    modified = datetime.fromtimestamp(stat_result, tz=timezone.utc).replace(tzinfo=None)\n",
    "    delta = now.today() - modified\n",
    "    if delta <= timedelta(days=days):\n",
    "        res.append((delta.seconds, fk))\n",
    "res = [k[1] for k in reversed(sorted(res, key=lambda x:x[1]))]\n",
    "npub = len(res)\n",
    "print(len(res), f\" publications files modified in the last {days:d} days.\")\n",
    "# [ print('\\t', k) for k in res ];"
   ]
  },
  {
   "cell_type": "code",
   "execution_count": 11,
   "id": "015de740",
   "metadata": {
    "execution": {
     "iopub.execute_input": "2023-03-15T15:21:11.710571Z",
     "iopub.status.busy": "2023-03-15T15:21:11.710149Z",
     "iopub.status.idle": "2023-03-15T15:21:11.731670Z",
     "shell.execute_reply": "2023-03-15T15:21:11.730963Z"
    },
    "papermill": {
     "duration": 0.031437,
     "end_time": "2023-03-15T15:21:11.733288",
     "exception": false,
     "start_time": "2023-03-15T15:21:11.701851",
     "status": "completed"
    },
    "tags": []
   },
   "outputs": [
    {
     "name": "stdout",
     "output_type": "stream",
     "text": [
      "3  publications in the last 7 days.\n"
     ]
    }
   ],
   "source": [
    "import datetime\n",
    "from glob import glob\n",
    "\n",
    "def get_last_n_days(lst, days=1):\n",
    "    \"\"\" Get the documents from the last n days \"\"\"\n",
    "    sorted_lst = sorted(lst, key=lambda x: x[1], reverse=True)\n",
    "    for fname, date in sorted_lst:\n",
    "        if date >= str(datetime.date.today() - datetime.timedelta(days=days)):\n",
    "            yield fname\n",
    "\n",
    "def extract_appearance_dates(lst_file):\n",
    "    dates = []\n",
    "\n",
    "    def get_date(line):\n",
    "        return line\\\n",
    "            .split('Appeared on:')[-1]\\\n",
    "            .split('</mark>')[0].strip()\n",
    "\n",
    "    for fname in lst:\n",
    "        with open(fname, 'r') as f:\n",
    "            found_date = False\n",
    "            for line in f:\n",
    "                if not found_date:\n",
    "                    if \"Appeared on\" in line:\n",
    "                        found_date = True\n",
    "                        dates.append((fname, get_date(line)))\n",
    "                else:\n",
    "                    break\n",
    "    return dates\n",
    "\n",
    "from glob import glob\n",
    "lst = glob('_build/html/*md')\n",
    "days = 7\n",
    "dates = extract_appearance_dates(lst)\n",
    "res = list(get_last_n_days(dates, days))\n",
    "npub = len(res)\n",
    "print(len(res), f\" publications in the last {days:d} days.\")"
   ]
  },
  {
   "cell_type": "code",
   "execution_count": 12,
   "id": "52ca0208",
   "metadata": {
    "execution": {
     "iopub.execute_input": "2023-03-15T15:21:11.750552Z",
     "iopub.status.busy": "2023-03-15T15:21:11.749817Z",
     "iopub.status.idle": "2023-03-15T15:21:11.757264Z",
     "shell.execute_reply": "2023-03-15T15:21:11.756640Z"
    },
    "papermill": {
     "duration": 0.017871,
     "end_time": "2023-03-15T15:21:11.758763",
     "exception": false,
     "start_time": "2023-03-15T15:21:11.740892",
     "status": "completed"
    },
    "scrolled": false,
    "tags": []
   },
   "outputs": [],
   "source": [
    "def create_carousel(npub=4):\n",
    "    \"\"\" Generate the HTML code for a carousel with `npub` slides \"\"\"\n",
    "    carousel = [\"\"\"  <div class=\"carousel\" \"\"\",\n",
    "                \"\"\"       data-flickity='{ \"autoPlay\": 10000, \"adaptiveHeight\": true, \"resize\": true, \"wrapAround\": true, \"pauseAutoPlayOnHover\": true, \"groupCells\": 1 }' id=\"asyncTypeset\">\"\"\"\n",
    "                ]\n",
    "    \n",
    "    item_str = \"\"\"    <div class=\"carousel-cell\"> <div id=\"slide{k}\" class=\"md_view\">Content {k}</div> </div>\"\"\"\n",
    "    for k in range(1, npub + 1):\n",
    "        carousel.append(item_str.format(k=k))\n",
    "    carousel.append(\"  </div>\")\n",
    "    return '\\n'.join(carousel)\n",
    "\n",
    "def create_grid(npub=4):\n",
    "    \"\"\" Generate the HTML code for a flat grid with `npub` slides \"\"\"\n",
    "    grid = [\"\"\"  <div class=\"grid\"> \"\"\",\n",
    "                ]\n",
    "    \n",
    "    item_str = \"\"\"    <div class=\"grid-item\"> <div id=\"slide{k}\" class=\"md_view\">Content {k}</div> </div>\"\"\"\n",
    "    for k in range(1, npub + 1):\n",
    "        grid.append(item_str.format(k=k))\n",
    "    grid.append(\"  </div>\")\n",
    "    return '\\n'.join(grid)"
   ]
  },
  {
   "cell_type": "code",
   "execution_count": 13,
   "id": "a6eac5b6",
   "metadata": {
    "execution": {
     "iopub.execute_input": "2023-03-15T15:21:11.775278Z",
     "iopub.status.busy": "2023-03-15T15:21:11.774635Z",
     "iopub.status.idle": "2023-03-15T15:21:11.780469Z",
     "shell.execute_reply": "2023-03-15T15:21:11.779819Z"
    },
    "papermill": {
     "duration": 0.015785,
     "end_time": "2023-03-15T15:21:11.781927",
     "exception": false,
     "start_time": "2023-03-15T15:21:11.766142",
     "status": "completed"
    },
    "scrolled": false,
    "tags": []
   },
   "outputs": [],
   "source": [
    "carousel = create_carousel(npub)\n",
    "docs = ', '.join(['\"{0:s}\"'.format(k.split('/')[-1]) for k in res])\n",
    "slides = ', '.join([f'\"slide{k}\"' for k in range(1, npub + 1)])\n",
    "\n",
    "with open(\"daily_template.html\", \"r\") as tpl:\n",
    "    page = tpl.read()\n",
    "    page = page.replace(\"{%-- carousel:s --%}\", carousel)\\\n",
    "               .replace(\"{%-- suptitle:s --%}\",  \"7-day archives\" )\\\n",
    "               .replace(\"{%-- docs:s --%}\", docs)\\\n",
    "               .replace(\"{%-- slides:s --%}\", slides)\n",
    "    \n",
    "with open(\"_build/html/index_7days.html\", 'w') as fout:\n",
    "    fout.write(page)"
   ]
  },
  {
   "cell_type": "code",
   "execution_count": 14,
   "id": "adc1a1ec",
   "metadata": {
    "execution": {
     "iopub.execute_input": "2023-03-15T15:21:11.798289Z",
     "iopub.status.busy": "2023-03-15T15:21:11.797846Z",
     "iopub.status.idle": "2023-03-15T15:21:11.805277Z",
     "shell.execute_reply": "2023-03-15T15:21:11.804608Z"
    },
    "papermill": {
     "duration": 0.017425,
     "end_time": "2023-03-15T15:21:11.806801",
     "exception": false,
     "start_time": "2023-03-15T15:21:11.789376",
     "status": "completed"
    },
    "tags": []
   },
   "outputs": [
    {
     "name": "stdout",
     "output_type": "stream",
     "text": [
      "1  publications in the last day.\n"
     ]
    }
   ],
   "source": [
    "# redo for today\n",
    "days = 1\n",
    "res = list(get_last_n_days(dates, days))\n",
    "npub = len(res)\n",
    "print(len(res), f\" publications in the last day.\")\n",
    "\n",
    "carousel = create_carousel(npub)\n",
    "docs = ', '.join(['\"{0:s}\"'.format(k.split('/')[-1]) for k in res])\n",
    "slides = ', '.join([f'\"slide{k}\"' for k in range(1, npub + 1)])\n",
    "\n",
    "with open(\"daily_template.html\", \"r\") as tpl:\n",
    "    page = tpl.read()\n",
    "    page = page.replace(\"{%-- carousel:s --%}\", carousel)\\\n",
    "               .replace(\"{%-- suptitle:s --%}\",  \"Daily\" )\\\n",
    "               .replace(\"{%-- docs:s --%}\", docs)\\\n",
    "               .replace(\"{%-- slides:s --%}\", slides)\n",
    "    \n",
    "# print(carousel, docs, slides)\n",
    "# print(page)\n",
    "with open(\"_build/html/index_daily.html\", 'w') as fout:\n",
    "    fout.write(page)"
   ]
  },
  {
   "cell_type": "code",
   "execution_count": 15,
   "id": "14540840",
   "metadata": {
    "execution": {
     "iopub.execute_input": "2023-03-15T15:21:11.823168Z",
     "iopub.status.busy": "2023-03-15T15:21:11.822764Z",
     "iopub.status.idle": "2023-03-15T15:21:11.829786Z",
     "shell.execute_reply": "2023-03-15T15:21:11.829149Z"
    },
    "papermill": {
     "duration": 0.016977,
     "end_time": "2023-03-15T15:21:11.831254",
     "exception": false,
     "start_time": "2023-03-15T15:21:11.814277",
     "status": "completed"
    },
    "scrolled": false,
    "tags": []
   },
   "outputs": [
    {
     "name": "stdout",
     "output_type": "stream",
     "text": [
      "3  publications in the last 7 days.\n"
     ]
    }
   ],
   "source": [
    "# Create the flat grid\n",
    "days = 7\n",
    "res = list(get_last_n_days(dates, days))\n",
    "npub = len(res)\n",
    "print(len(res), f\" publications in the last {days} days.\")\n",
    "\n",
    "grid = create_grid(npub)\n",
    "docs = ', '.join(['\"{0:s}\"'.format(k.split('/')[-1]) for k in res])\n",
    "slides = ', '.join([f'\"slide{k}\"' for k in range(1, npub + 1)])\n",
    "\n",
    "with open(\"grid_template.html\", \"r\") as tpl:\n",
    "    page = tpl.read()\n",
    "    page = page.replace(\"{%-- grid-content:s --%}\", grid)\\\n",
    "               .replace(\"{%-- suptitle:s --%}\",  \"7 Days\" )\\\n",
    "               .replace(\"{%-- docs:s --%}\", docs)\\\n",
    "               .replace(\"{%-- slides:s --%}\", slides)\n",
    "    \n",
    "# print(grid, docs, slides)\n",
    "# print(page)\n",
    "with open(\"_build/html/index_7days_grid.html\", 'w') as fout:\n",
    "    fout.write(page)"
   ]
  },
  {
   "cell_type": "code",
   "execution_count": null,
   "id": "0740220c",
   "metadata": {
    "papermill": {
     "duration": 0.007462,
     "end_time": "2023-03-15T15:21:11.846096",
     "exception": false,
     "start_time": "2023-03-15T15:21:11.838634",
     "status": "completed"
    },
    "tags": []
   },
   "outputs": [],
   "source": []
  }
 ],
 "metadata": {
  "kernelspec": {
   "display_name": "Python 3 (ipykernel)",
   "language": "python",
   "name": "python3"
  },
  "language_info": {
   "codemirror_mode": {
    "name": "ipython",
    "version": 3
   },
   "file_extension": ".py",
   "mimetype": "text/x-python",
   "name": "python",
   "nbconvert_exporter": "python",
   "pygments_lexer": "ipython3",
   "version": "3.9.16"
  },
  "papermill": {
   "default_parameters": {},
   "duration": 43.465427,
   "end_time": "2023-03-15T15:21:12.072296",
   "environment_variables": {},
   "exception": null,
   "input_path": "MPIA daily digest.ipynb",
   "output_path": "log.ipynb",
   "parameters": {},
   "start_time": "2023-03-15T15:20:28.606869",
   "version": "2.4.0"
  },
  "vscode": {
   "interpreter": {
    "hash": "aee8b7b246df8f9039afb4144a1f6fd8d2ca17a180786b69acc140d282b71a49"
   }
  },
  "widgets": {
   "application/vnd.jupyter.widget-state+json": {
    "state": {
     "18718a8f3b28409fb3712cae8ae1f4c5": {
      "model_module": "@jupyter-widgets/controls",
      "model_module_version": "2.0.0",
      "model_name": "HBoxModel",
      "state": {
       "_dom_classes": [],
       "_model_module": "@jupyter-widgets/controls",
       "_model_module_version": "2.0.0",
       "_model_name": "HBoxModel",
       "_view_count": null,
       "_view_module": "@jupyter-widgets/controls",
       "_view_module_version": "2.0.0",
       "_view_name": "HBoxView",
       "box_style": "",
       "children": [
        "IPY_MODEL_52d4f91a17ff4a14be907b5933acb11c",
        "IPY_MODEL_c4d21488c3ec44ffa41e43faf39596f2",
        "IPY_MODEL_40c9e188257242d39c58fa49cffcfea6"
       ],
       "layout": "IPY_MODEL_bc7a63195c1a4d45bfccb69001968e06",
       "tabbable": null,
       "tooltip": null
      }
     },
     "1e87ffc3978e43a39f405511e1c9a69e": {
      "model_module": "@jupyter-widgets/base",
      "model_module_version": "2.0.0",
      "model_name": "LayoutModel",
      "state": {
       "_model_module": "@jupyter-widgets/base",
       "_model_module_version": "2.0.0",
       "_model_name": "LayoutModel",
       "_view_count": null,
       "_view_module": "@jupyter-widgets/base",
       "_view_module_version": "2.0.0",
       "_view_name": "LayoutView",
       "align_content": null,
       "align_items": null,
       "align_self": null,
       "border_bottom": null,
       "border_left": null,
       "border_right": null,
       "border_top": null,
       "bottom": null,
       "display": null,
       "flex": null,
       "flex_flow": null,
       "grid_area": null,
       "grid_auto_columns": null,
       "grid_auto_flow": null,
       "grid_auto_rows": null,
       "grid_column": null,
       "grid_gap": null,
       "grid_row": null,
       "grid_template_areas": null,
       "grid_template_columns": null,
       "grid_template_rows": null,
       "height": null,
       "justify_content": null,
       "justify_items": null,
       "left": null,
       "margin": null,
       "max_height": null,
       "max_width": null,
       "min_height": null,
       "min_width": null,
       "object_fit": null,
       "object_position": null,
       "order": null,
       "overflow": null,
       "padding": null,
       "right": null,
       "top": null,
       "visibility": null,
       "width": null
      }
     },
     "2017fc5b311449c48e4363619794e2eb": {
      "model_module": "@jupyter-widgets/base",
      "model_module_version": "2.0.0",
      "model_name": "LayoutModel",
      "state": {
       "_model_module": "@jupyter-widgets/base",
       "_model_module_version": "2.0.0",
       "_model_name": "LayoutModel",
       "_view_count": null,
       "_view_module": "@jupyter-widgets/base",
       "_view_module_version": "2.0.0",
       "_view_name": "LayoutView",
       "align_content": null,
       "align_items": null,
       "align_self": null,
       "border_bottom": null,
       "border_left": null,
       "border_right": null,
       "border_top": null,
       "bottom": null,
       "display": null,
       "flex": null,
       "flex_flow": null,
       "grid_area": null,
       "grid_auto_columns": null,
       "grid_auto_flow": null,
       "grid_auto_rows": null,
       "grid_column": null,
       "grid_gap": null,
       "grid_row": null,
       "grid_template_areas": null,
       "grid_template_columns": null,
       "grid_template_rows": null,
       "height": null,
       "justify_content": null,
       "justify_items": null,
       "left": null,
       "margin": null,
       "max_height": null,
       "max_width": null,
       "min_height": null,
       "min_width": null,
       "object_fit": null,
       "object_position": null,
       "order": null,
       "overflow": null,
       "padding": null,
       "right": null,
       "top": null,
       "visibility": null,
       "width": null
      }
     },
     "3929a2a9dd34444aaa652365c805991f": {
      "model_module": "@jupyter-widgets/base",
      "model_module_version": "2.0.0",
      "model_name": "LayoutModel",
      "state": {
       "_model_module": "@jupyter-widgets/base",
       "_model_module_version": "2.0.0",
       "_model_name": "LayoutModel",
       "_view_count": null,
       "_view_module": "@jupyter-widgets/base",
       "_view_module_version": "2.0.0",
       "_view_name": "LayoutView",
       "align_content": null,
       "align_items": null,
       "align_self": null,
       "border_bottom": null,
       "border_left": null,
       "border_right": null,
       "border_top": null,
       "bottom": null,
       "display": null,
       "flex": null,
       "flex_flow": null,
       "grid_area": null,
       "grid_auto_columns": null,
       "grid_auto_flow": null,
       "grid_auto_rows": null,
       "grid_column": null,
       "grid_gap": null,
       "grid_row": null,
       "grid_template_areas": null,
       "grid_template_columns": null,
       "grid_template_rows": null,
       "height": null,
       "justify_content": null,
       "justify_items": null,
       "left": null,
       "margin": null,
       "max_height": null,
       "max_width": null,
       "min_height": null,
       "min_width": null,
       "object_fit": null,
       "object_position": null,
       "order": null,
       "overflow": null,
       "padding": null,
       "right": null,
       "top": null,
       "visibility": null,
       "width": null
      }
     },
     "40c9e188257242d39c58fa49cffcfea6": {
      "model_module": "@jupyter-widgets/controls",
      "model_module_version": "2.0.0",
      "model_name": "HTMLModel",
      "state": {
       "_dom_classes": [],
       "_model_module": "@jupyter-widgets/controls",
       "_model_module_version": "2.0.0",
       "_model_name": "HTMLModel",
       "_view_count": null,
       "_view_module": "@jupyter-widgets/controls",
       "_view_module_version": "2.0.0",
       "_view_name": "HTMLView",
       "description": "",
       "description_allow_html": false,
       "layout": "IPY_MODEL_1e87ffc3978e43a39f405511e1c9a69e",
       "placeholder": "​",
       "style": "IPY_MODEL_523a5332abe74255bc3d1bd8b4ba0198",
       "tabbable": null,
       "tooltip": null,
       "value": " 13/13 [00:16&lt;00:00,  2.15s/it]"
      }
     },
     "523a5332abe74255bc3d1bd8b4ba0198": {
      "model_module": "@jupyter-widgets/controls",
      "model_module_version": "2.0.0",
      "model_name": "HTMLStyleModel",
      "state": {
       "_model_module": "@jupyter-widgets/controls",
       "_model_module_version": "2.0.0",
       "_model_name": "HTMLStyleModel",
       "_view_count": null,
       "_view_module": "@jupyter-widgets/base",
       "_view_module_version": "2.0.0",
       "_view_name": "StyleView",
       "background": null,
       "description_width": "",
       "font_size": null,
       "text_color": null
      }
     },
     "52d4f91a17ff4a14be907b5933acb11c": {
      "model_module": "@jupyter-widgets/controls",
      "model_module_version": "2.0.0",
      "model_name": "HTMLModel",
      "state": {
       "_dom_classes": [],
       "_model_module": "@jupyter-widgets/controls",
       "_model_module_version": "2.0.0",
       "_model_name": "HTMLModel",
       "_view_count": null,
       "_view_module": "@jupyter-widgets/controls",
       "_view_module_version": "2.0.0",
       "_view_name": "HTMLView",
       "description": "",
       "description_allow_html": false,
       "layout": "IPY_MODEL_2017fc5b311449c48e4363619794e2eb",
       "placeholder": "​",
       "style": "IPY_MODEL_88d65d7f0b0e4456a6a6cc936936d3e6",
       "tabbable": null,
       "tooltip": null,
       "value": "100%"
      }
     },
     "64576603245c4f5d9c6f88fe466ae5ab": {
      "model_module": "@jupyter-widgets/controls",
      "model_module_version": "2.0.0",
      "model_name": "ProgressStyleModel",
      "state": {
       "_model_module": "@jupyter-widgets/controls",
       "_model_module_version": "2.0.0",
       "_model_name": "ProgressStyleModel",
       "_view_count": null,
       "_view_module": "@jupyter-widgets/base",
       "_view_module_version": "2.0.0",
       "_view_name": "StyleView",
       "bar_color": null,
       "description_width": ""
      }
     },
     "88d65d7f0b0e4456a6a6cc936936d3e6": {
      "model_module": "@jupyter-widgets/controls",
      "model_module_version": "2.0.0",
      "model_name": "HTMLStyleModel",
      "state": {
       "_model_module": "@jupyter-widgets/controls",
       "_model_module_version": "2.0.0",
       "_model_name": "HTMLStyleModel",
       "_view_count": null,
       "_view_module": "@jupyter-widgets/base",
       "_view_module_version": "2.0.0",
       "_view_name": "StyleView",
       "background": null,
       "description_width": "",
       "font_size": null,
       "text_color": null
      }
     },
     "bc7a63195c1a4d45bfccb69001968e06": {
      "model_module": "@jupyter-widgets/base",
      "model_module_version": "2.0.0",
      "model_name": "LayoutModel",
      "state": {
       "_model_module": "@jupyter-widgets/base",
       "_model_module_version": "2.0.0",
       "_model_name": "LayoutModel",
       "_view_count": null,
       "_view_module": "@jupyter-widgets/base",
       "_view_module_version": "2.0.0",
       "_view_name": "LayoutView",
       "align_content": null,
       "align_items": null,
       "align_self": null,
       "border_bottom": null,
       "border_left": null,
       "border_right": null,
       "border_top": null,
       "bottom": null,
       "display": null,
       "flex": null,
       "flex_flow": null,
       "grid_area": null,
       "grid_auto_columns": null,
       "grid_auto_flow": null,
       "grid_auto_rows": null,
       "grid_column": null,
       "grid_gap": null,
       "grid_row": null,
       "grid_template_areas": null,
       "grid_template_columns": null,
       "grid_template_rows": null,
       "height": null,
       "justify_content": null,
       "justify_items": null,
       "left": null,
       "margin": null,
       "max_height": null,
       "max_width": null,
       "min_height": null,
       "min_width": null,
       "object_fit": null,
       "object_position": null,
       "order": null,
       "overflow": null,
       "padding": null,
       "right": null,
       "top": null,
       "visibility": null,
       "width": null
      }
     },
     "c4d21488c3ec44ffa41e43faf39596f2": {
      "model_module": "@jupyter-widgets/controls",
      "model_module_version": "2.0.0",
      "model_name": "FloatProgressModel",
      "state": {
       "_dom_classes": [],
       "_model_module": "@jupyter-widgets/controls",
       "_model_module_version": "2.0.0",
       "_model_name": "FloatProgressModel",
       "_view_count": null,
       "_view_module": "@jupyter-widgets/controls",
       "_view_module_version": "2.0.0",
       "_view_name": "ProgressView",
       "bar_style": "success",
       "description": "",
       "description_allow_html": false,
       "layout": "IPY_MODEL_3929a2a9dd34444aaa652365c805991f",
       "max": 13.0,
       "min": 0.0,
       "orientation": "horizontal",
       "style": "IPY_MODEL_64576603245c4f5d9c6f88fe466ae5ab",
       "tabbable": null,
       "tooltip": null,
       "value": 13.0
      }
     }
    },
    "version_major": 2,
    "version_minor": 0
   }
  }
 },
 "nbformat": 4,
 "nbformat_minor": 5
}