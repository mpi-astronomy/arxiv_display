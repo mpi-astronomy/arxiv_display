{
 "cells": [
  {
   "cell_type": "markdown",
   "id": "92bcb855",
   "metadata": {
    "papermill": {
     "duration": 0.006066,
     "end_time": "2022-10-05T04:33:05.920984",
     "exception": false,
     "start_time": "2022-10-05T04:33:05.914918",
     "status": "completed"
    },
    "tags": []
   },
   "source": [
    "# MPIA Arxiv on Deck 2\n",
    "\n",
    "Contains the steps to produce the paper extractions."
   ]
  },
  {
   "cell_type": "code",
   "execution_count": 1,
   "id": "3a0d6e11",
   "metadata": {
    "execution": {
     "iopub.execute_input": "2022-10-05T04:33:05.933316Z",
     "iopub.status.busy": "2022-10-05T04:33:05.932218Z",
     "iopub.status.idle": "2022-10-05T04:33:06.134457Z",
     "shell.execute_reply": "2022-10-05T04:33:06.133207Z"
    },
    "papermill": {
     "duration": 0.212178,
     "end_time": "2022-10-05T04:33:06.138044",
     "exception": false,
     "start_time": "2022-10-05T04:33:05.925866",
     "status": "completed"
    },
    "tags": []
   },
   "outputs": [],
   "source": [
    "# Imports\n",
    "import os\n",
    "from IPython.display import Markdown, display\n",
    "from tqdm.notebook import tqdm\n",
    "import warnings\n",
    "from PIL import Image \n",
    "\n",
    "# requires arxiv_on_deck_2\n",
    "\n",
    "from arxiv_on_deck_2.arxiv2 import (get_new_papers, \n",
    "                                    get_paper_from_identifier,\n",
    "                                    retrieve_document_source, \n",
    "                                    get_markdown_badge)\n",
    "from arxiv_on_deck_2 import (latex, \n",
    "                             mpia,\n",
    "                             highlight_authors_in_list)\n",
    "\n",
    "# Sometimes images are really big\n",
    "Image.MAX_IMAGE_PIXELS = 1000000000 "
   ]
  },
  {
   "cell_type": "code",
   "execution_count": 2,
   "id": "22aa9d44",
   "metadata": {
    "execution": {
     "iopub.execute_input": "2022-10-05T04:33:06.150116Z",
     "iopub.status.busy": "2022-10-05T04:33:06.149540Z",
     "iopub.status.idle": "2022-10-05T04:33:06.155417Z",
     "shell.execute_reply": "2022-10-05T04:33:06.154618Z"
    },
    "papermill": {
     "duration": 0.014311,
     "end_time": "2022-10-05T04:33:06.157792",
     "exception": false,
     "start_time": "2022-10-05T04:33:06.143481",
     "status": "completed"
    },
    "tags": []
   },
   "outputs": [],
   "source": [
    "# Some useful definitions.\n",
    "\n",
    "class AffiliationWarning(UserWarning):\n",
    "    pass\n",
    "\n",
    "class AffiliationError(RuntimeError):\n",
    "    pass\n",
    "\n",
    "def validation(source: str):\n",
    "    \"\"\"Raises error paper during parsing of source file\n",
    "    \n",
    "    Allows checks before parsing TeX code.\n",
    "    \n",
    "    Raises AffiliationWarning\n",
    "    \"\"\"\n",
    "    check = mpia.affiliation_verifications(source, verbose=True)\n",
    "    if check is not True:\n",
    "        raise AffiliationError(\"mpia.affiliation_verifications: \" + check)\n",
    "\n",
    "        \n",
    "warnings.simplefilter('always', AffiliationWarning)"
   ]
  },
  {
   "cell_type": "code",
   "execution_count": 3,
   "id": "14622700",
   "metadata": {
    "execution": {
     "iopub.execute_input": "2022-10-05T04:33:06.170343Z",
     "iopub.status.busy": "2022-10-05T04:33:06.169579Z",
     "iopub.status.idle": "2022-10-05T04:33:06.174153Z",
     "shell.execute_reply": "2022-10-05T04:33:06.173384Z"
    },
    "papermill": {
     "duration": 0.013768,
     "end_time": "2022-10-05T04:33:06.176071",
     "exception": false,
     "start_time": "2022-10-05T04:33:06.162303",
     "status": "completed"
    },
    "tags": []
   },
   "outputs": [],
   "source": [
    "# additional CSS to consider. \n",
    "# TODO: Current into each exported file. \n",
    "#       This should be set once into the webpages directly.\n",
    "#       With only the class/id definitions in the .md files.\n",
    "\n",
    "debug_html = \"\"\"\n",
    "<style>\n",
    "#wrap{ overflow:auto; }\n",
    "#fig1{ background:yellow; width:100%; float:left; padding:5px;  }\n",
    "#fig2{ background:red; width:50%; float:left; clear:left; padding:5px;  }\n",
    "#fig3{ background:green; width:50%; float:left; padding:5px;   }\n",
    ".macros{ background:yellow; visibility:visible;}\n",
    "h1 {margin: 0 0 0 0;}\n",
    "mark {background-color:#fff3b6;}\n",
    "img {object-fit:contain; max-height:250px; display:inline-block; text-align: center;}\n",
    "</style>\n",
    "\"\"\" \n",
    "html = \"\"\"\n",
    "<style>\n",
    "#wrap{ overflow:auto; }\n",
    "#fig1{ width:100%; float:left; padding: 5px;  }\n",
    "#fig2{ width:50%; float:left; clear:left; padding: 5px;  }\n",
    "#fig3{ width:50%; float:left; padding: 5px;  }\n",
    ".macros{ visibility:hidden; height:0px; }\n",
    "h1 {margin: 0em 0 0 0;}\n",
    "mark {background-color:#fff3b6;}\n",
    "img {object-fit:contain; max-height:250px; display:inline-block; text-align: center;}\n",
    "</style>\n",
    "\"\"\""
   ]
  },
  {
   "cell_type": "markdown",
   "id": "14bd6310",
   "metadata": {
    "papermill": {
     "duration": 0.004569,
     "end_time": "2022-10-05T04:33:06.185138",
     "exception": false,
     "start_time": "2022-10-05T04:33:06.180569",
     "status": "completed"
    },
    "tags": []
   },
   "source": [
    "## get list of arxiv paper candidates\n",
    "\n",
    "We use the MPIA mitarbeiter list webpage from mpia.de to get author names\n",
    "We then get all new papers from Arxiv and match authors"
   ]
  },
  {
   "cell_type": "code",
   "execution_count": 4,
   "id": "2645e73a",
   "metadata": {
    "execution": {
     "iopub.execute_input": "2022-10-05T04:33:06.196123Z",
     "iopub.status.busy": "2022-10-05T04:33:06.195339Z",
     "iopub.status.idle": "2022-10-05T04:33:32.422937Z",
     "shell.execute_reply": "2022-10-05T04:33:32.421577Z"
    },
    "papermill": {
     "duration": 26.235225,
     "end_time": "2022-10-05T04:33:32.424957",
     "exception": false,
     "start_time": "2022-10-05T04:33:06.189732",
     "status": "completed"
    },
    "tags": []
   },
   "outputs": [
    {
     "name": "stdout",
     "output_type": "stream",
     "text": [
      "Arxiv has 56 new papers today\n",
      "          21 with possible author matches\n"
     ]
    }
   ],
   "source": [
    "# get list from MPIA website\n",
    "# it automatically filters identified non-scientists :func:`mpia.filter_non_scientists`\n",
    "mpia_authors = mpia.get_mpia_mitarbeiter_list()\n",
    "new_papers = get_new_papers()\n",
    "# add manual references\n",
    "add_paper_refs = []\n",
    "new_papers.extend([get_paper_from_identifier(k) for k in add_paper_refs])\n",
    "\n",
    "# select only papers with matching author names and highlight authors\n",
    "hl_list = [k[0] for k in mpia_authors]\n",
    "\n",
    "candidates = []\n",
    "for paperk in new_papers:\n",
    "    hl_authors = highlight_authors_in_list(paperk['authors'], hl_list)\n",
    "    matches = [(hl, orig) for hl, orig in zip(hl_authors, paperk['authors']) if 'mark' in hl]\n",
    "    paperk['authors'] = hl_authors\n",
    "    if matches:\n",
    "        candidates.append(paperk)\n",
    "print(\"\"\"Arxiv has {0:,d} new papers today\"\"\".format(len(new_papers)))        \n",
    "print(\"\"\"          {0:,d} with possible author matches\"\"\".format(len(candidates)))"
   ]
  },
  {
   "cell_type": "markdown",
   "id": "3543b34a",
   "metadata": {
    "papermill": {
     "duration": 0.005912,
     "end_time": "2022-10-05T04:33:32.436318",
     "exception": false,
     "start_time": "2022-10-05T04:33:32.430406",
     "status": "completed"
    },
    "tags": []
   },
   "source": [
    "# Parse sources and generate relevant outputs\n",
    "\n",
    "From the candidates, we do the following steps:\n",
    "* get their tarball from ArXiv (and extract data)\n",
    "* find the main .tex file: find one with \\documentclass{...} (sometimes it's non trivial)\n",
    "* Check affiliations with :func:`validation`, which uses :func:`mpia.affiliation_verifications`\n",
    "* If passing the affiliations: we parse the .tex source\n",
    "   * inject sub-documents into the main (flatten the main document)\n",
    "   * parse structure, extract information (title, abstract, authors, figures...)\n",
    "   * handles `\\graphicspath` if provided\n",
    "* Generate the .md document."
   ]
  },
  {
   "cell_type": "code",
   "execution_count": 5,
   "id": "9576b79e",
   "metadata": {
    "execution": {
     "iopub.execute_input": "2022-10-05T04:33:32.448669Z",
     "iopub.status.busy": "2022-10-05T04:33:32.448116Z",
     "iopub.status.idle": "2022-10-05T04:34:40.718706Z",
     "shell.execute_reply": "2022-10-05T04:34:40.717888Z"
    },
    "papermill": {
     "duration": 68.278522,
     "end_time": "2022-10-05T04:34:40.720511",
     "exception": false,
     "start_time": "2022-10-05T04:33:32.441989",
     "status": "completed"
    },
    "scrolled": false,
    "tags": []
   },
   "outputs": [
    {
     "data": {
      "application/vnd.jupyter.widget-view+json": {
       "model_id": "fcca4fc4ba8d4230b5b85e6d56d56efc",
       "version_major": 2,
       "version_minor": 0
      },
      "text/plain": [
       "  0%|          | 0/20 [00:00<?, ?it/s]"
      ]
     },
     "metadata": {},
     "output_type": "display_data"
    },
    {
     "name": "stdout",
     "output_type": "stream",
     "text": [
      "Retrieving document from  https://arxiv.org/e-print/2210.01218\n"
     ]
    },
    {
     "name": "stdout",
     "output_type": "stream",
     "text": [
      "extracting tarball to tmp_2210.01218..."
     ]
    },
    {
     "name": "stdout",
     "output_type": "stream",
     "text": [
      " done.\n",
      "Retrieving document from  https://arxiv.org/e-print/2210.01228\n"
     ]
    },
    {
     "name": "stdout",
     "output_type": "stream",
     "text": [
      "extracting tarball to tmp_2210.01228..."
     ]
    },
    {
     "name": "stdout",
     "output_type": "stream",
     "text": [
      " done.\n",
      "Retrieving document from  https://arxiv.org/e-print/2210.01291\n"
     ]
    },
    {
     "name": "stderr",
     "output_type": "stream",
     "text": [
      "/opt/hostedtoolcache/Python/3.9.14/x64/lib/python3.9/site-packages/IPython/core/interactiveshell.py:3378: LatexWarning: Multiple tex files.\n",
      "\n",
      "  exec(code_obj, self.user_global_ns, self.user_ns)\n",
      "/opt/hostedtoolcache/Python/3.9.14/x64/lib/python3.9/site-packages/IPython/core/interactiveshell.py:3378: LatexWarning: Found documentclass in tmp_2210.01228/B2224.tex\n",
      "\n",
      "  exec(code_obj, self.user_global_ns, self.user_ns)\n"
     ]
    },
    {
     "name": "stderr",
     "output_type": "stream",
     "text": [
      "/tmp/ipykernel_2274/4030337529.py:34: LatexWarning: 2210.01291 did not run properly\n",
      "not a gzip file\n",
      "  warnings.warn(latex.LatexWarning(f\"{paper_id:s} did not run properly\\n\" +\n"
     ]
    },
    {
     "name": "stdout",
     "output_type": "stream",
     "text": [
      "Retrieving document from  https://arxiv.org/e-print/2210.01316\n"
     ]
    },
    {
     "name": "stdout",
     "output_type": "stream",
     "text": [
      "extracting tarball to tmp_2210.01316..."
     ]
    },
    {
     "name": "stdout",
     "output_type": "stream",
     "text": [
      " done.\n",
      "Retrieving document from  https://arxiv.org/e-print/2210.01352\n"
     ]
    },
    {
     "name": "stdout",
     "output_type": "stream",
     "text": [
      "extracting tarball to tmp_2210.01352..."
     ]
    },
    {
     "name": "stdout",
     "output_type": "stream",
     "text": [
      " done.\n",
      "Retrieving document from  https://arxiv.org/e-print/2210.01356\n"
     ]
    },
    {
     "name": "stderr",
     "output_type": "stream",
     "text": [
      "/opt/hostedtoolcache/Python/3.9.14/x64/lib/python3.9/site-packages/IPython/core/interactiveshell.py:3378: LatexWarning: Multiple tex files.\n",
      "\n",
      "  exec(code_obj, self.user_global_ns, self.user_ns)\n",
      "/opt/hostedtoolcache/Python/3.9.14/x64/lib/python3.9/site-packages/IPython/core/interactiveshell.py:3378: LatexWarning: Found documentclass in tmp_2210.01352/name.tex\n",
      "\n",
      "  exec(code_obj, self.user_global_ns, self.user_ns)\n"
     ]
    },
    {
     "name": "stdout",
     "output_type": "stream",
     "text": [
      "extracting tarball to tmp_2210.01356..."
     ]
    },
    {
     "name": "stdout",
     "output_type": "stream",
     "text": [
      " done.\n",
      "Retrieving document from  https://arxiv.org/e-print/2210.01394\n"
     ]
    },
    {
     "name": "stdout",
     "output_type": "stream",
     "text": [
      "extracting tarball to tmp_2210.01394..."
     ]
    },
    {
     "name": "stdout",
     "output_type": "stream",
     "text": [
      " done.\n",
      "Retrieving document from  https://arxiv.org/e-print/2210.01420\n"
     ]
    },
    {
     "name": "stdout",
     "output_type": "stream",
     "text": [
      "extracting tarball to tmp_2210.01420..."
     ]
    },
    {
     "name": "stdout",
     "output_type": "stream",
     "text": [
      " done.\n",
      "Retrieving document from  https://arxiv.org/e-print/2210.01444\n"
     ]
    },
    {
     "name": "stderr",
     "output_type": "stream",
     "text": [
      "/opt/hostedtoolcache/Python/3.9.14/x64/lib/python3.9/site-packages/IPython/core/interactiveshell.py:3378: LatexWarning: Multiple tex files.\n",
      "\n",
      "  exec(code_obj, self.user_global_ns, self.user_ns)\n",
      "/opt/hostedtoolcache/Python/3.9.14/x64/lib/python3.9/site-packages/IPython/core/interactiveshell.py:3378: LatexWarning: Found documentclass in tmp_2210.01420/Rotation_in_Praesepe.tex\n",
      "\n",
      "  exec(code_obj, self.user_global_ns, self.user_ns)\n"
     ]
    },
    {
     "name": "stdout",
     "output_type": "stream",
     "text": [
      "extracting tarball to tmp_2210.01444..."
     ]
    },
    {
     "name": "stdout",
     "output_type": "stream",
     "text": [
      " done.\n",
      "Retrieving document from  https://arxiv.org/e-print/2210.01453\n"
     ]
    },
    {
     "name": "stderr",
     "output_type": "stream",
     "text": [
      "/opt/hostedtoolcache/Python/3.9.14/x64/lib/python3.9/site-packages/IPython/core/interactiveshell.py:3378: LatexWarning: Multiple tex files.\n",
      "\n",
      "  exec(code_obj, self.user_global_ns, self.user_ns)\n",
      "/opt/hostedtoolcache/Python/3.9.14/x64/lib/python3.9/site-packages/IPython/core/interactiveshell.py:3378: LatexWarning: Found documentclass in tmp_2210.01444/MaxEnt2022_MDPI_templates.tex\n",
      "\n",
      "  exec(code_obj, self.user_global_ns, self.user_ns)\n",
      "/opt/hostedtoolcache/Python/3.9.14/x64/lib/python3.9/site-packages/arxiv_on_deck_2/latex.py:292: LatexWarning: Latex injecting: 'main_texte.tex' from 'tmp_2210.01444/main_texte.tex'\n",
      "  warnings.warn(LatexWarning(f\"Latex injecting: '{ext}' from '{subsource}'\"))\n"
     ]
    },
    {
     "name": "stdout",
     "output_type": "stream",
     "text": [
      "extracting tarball to tmp_2210.01453..."
     ]
    },
    {
     "name": "stdout",
     "output_type": "stream",
     "text": [
      " done.\n",
      "Retrieving document from  https://arxiv.org/e-print/2210.01457\n"
     ]
    },
    {
     "name": "stdout",
     "output_type": "stream",
     "text": [
      "extracting tarball to tmp_2210.01457..."
     ]
    },
    {
     "name": "stdout",
     "output_type": "stream",
     "text": [
      " done.\n",
      "Retrieving document from  https://arxiv.org/e-print/2210.01464\n"
     ]
    },
    {
     "name": "stderr",
     "output_type": "stream",
     "text": [
      "/opt/hostedtoolcache/Python/3.9.14/x64/lib/python3.9/site-packages/IPython/core/interactiveshell.py:3378: LatexWarning: Multiple tex files.\n",
      "\n",
      "  exec(code_obj, self.user_global_ns, self.user_ns)\n",
      "/opt/hostedtoolcache/Python/3.9.14/x64/lib/python3.9/site-packages/IPython/core/interactiveshell.py:3378: LatexWarning: Found documentclass in tmp_2210.01457/sn-article.tex\n",
      "\n",
      "  exec(code_obj, self.user_global_ns, self.user_ns)\n"
     ]
    },
    {
     "name": "stdout",
     "output_type": "stream",
     "text": [
      "extracting tarball to tmp_2210.01464... done.\n",
      "Retrieving document from  https://arxiv.org/e-print/2210.01466\n"
     ]
    },
    {
     "name": "stdout",
     "output_type": "stream",
     "text": [
      "extracting tarball to tmp_2210.01466..."
     ]
    },
    {
     "name": "stdout",
     "output_type": "stream",
     "text": [
      " done.\n",
      "Retrieving document from  https://arxiv.org/e-print/2210.01521\n"
     ]
    },
    {
     "name": "stdout",
     "output_type": "stream",
     "text": [
      "extracting tarball to tmp_2210.01521..."
     ]
    },
    {
     "name": "stdout",
     "output_type": "stream",
     "text": [
      " done.\n",
      "Retrieving document from  https://arxiv.org/e-print/2210.01544\n"
     ]
    },
    {
     "name": "stdout",
     "output_type": "stream",
     "text": [
      "extracting tarball to tmp_2210.01544..."
     ]
    },
    {
     "name": "stdout",
     "output_type": "stream",
     "text": [
      " done.\n",
      "Retrieving document from  https://arxiv.org/e-print/2210.01556\n"
     ]
    },
    {
     "name": "stdout",
     "output_type": "stream",
     "text": [
      "extracting tarball to tmp_2210.01556..."
     ]
    },
    {
     "name": "stdout",
     "output_type": "stream",
     "text": [
      " done.\n"
     ]
    },
    {
     "name": "stdout",
     "output_type": "stream",
     "text": [
      "Retrieving document from  https://arxiv.org/e-print/2210.01576\n"
     ]
    },
    {
     "name": "stdout",
     "output_type": "stream",
     "text": [
      "extracting tarball to tmp_2210.01576..."
     ]
    },
    {
     "name": "stdout",
     "output_type": "stream",
     "text": [
      " done.\n",
      "Retrieving document from  https://arxiv.org/e-print/2210.01608\n"
     ]
    },
    {
     "name": "stderr",
     "output_type": "stream",
     "text": [
      "/opt/hostedtoolcache/Python/3.9.14/x64/lib/python3.9/site-packages/IPython/core/interactiveshell.py:3378: LatexWarning: Multiple tex files.\n",
      "\n",
      "  exec(code_obj, self.user_global_ns, self.user_ns)\n",
      "/opt/hostedtoolcache/Python/3.9.14/x64/lib/python3.9/site-packages/IPython/core/interactiveshell.py:3378: LatexWarning: Found documentclass in tmp_2210.01576/mnras_template.tex\n",
      "\n",
      "  exec(code_obj, self.user_global_ns, self.user_ns)\n"
     ]
    },
    {
     "name": "stdout",
     "output_type": "stream",
     "text": [
      "extracting tarball to tmp_2210.01608..."
     ]
    },
    {
     "name": "stdout",
     "output_type": "stream",
     "text": [
      " done.\n",
      "Retrieving document from  https://arxiv.org/e-print/2210.01666\n"
     ]
    },
    {
     "name": "stderr",
     "output_type": "stream",
     "text": [
      "/opt/hostedtoolcache/Python/3.9.14/x64/lib/python3.9/site-packages/IPython/core/interactiveshell.py:3378: LatexWarning: Multiple tex files.\n",
      "\n",
      "  exec(code_obj, self.user_global_ns, self.user_ns)\n",
      "/opt/hostedtoolcache/Python/3.9.14/x64/lib/python3.9/site-packages/IPython/core/interactiveshell.py:3378: LatexWarning: Found documentclass in tmp_2210.01608/main.tex\n",
      "\n",
      "  exec(code_obj, self.user_global_ns, self.user_ns)\n",
      "/opt/hostedtoolcache/Python/3.9.14/x64/lib/python3.9/site-packages/arxiv_on_deck_2/latex.py:292: LatexWarning: Latex injecting: 'table3' from 'tmp_2210.01608/table3.tex'\n",
      "  warnings.warn(LatexWarning(f\"Latex injecting: '{ext}' from '{subsource}'\"))\n"
     ]
    },
    {
     "name": "stdout",
     "output_type": "stream",
     "text": [
      "extracting tarball to tmp_2210.01666..."
     ]
    },
    {
     "name": "stdout",
     "output_type": "stream",
     "text": [
      " done.\n",
      "Retrieving document from  https://arxiv.org/e-print/2210.01755\n"
     ]
    },
    {
     "name": "stderr",
     "output_type": "stream",
     "text": [
      "/opt/hostedtoolcache/Python/3.9.14/x64/lib/python3.9/site-packages/IPython/core/interactiveshell.py:3378: LatexWarning: Multiple tex files.\n",
      "\n",
      "  exec(code_obj, self.user_global_ns, self.user_ns)\n",
      "/opt/hostedtoolcache/Python/3.9.14/x64/lib/python3.9/site-packages/IPython/core/interactiveshell.py:3378: LatexWarning: Found documentclass in tmp_2210.01666/main.tex\n",
      "\n",
      "  exec(code_obj, self.user_global_ns, self.user_ns)\n"
     ]
    },
    {
     "name": "stdout",
     "output_type": "stream",
     "text": [
      "extracting tarball to tmp_2210.01755..."
     ]
    },
    {
     "name": "stdout",
     "output_type": "stream",
     "text": [
      " done.\n"
     ]
    }
   ],
   "source": [
    "documents = []\n",
    "failed = []\n",
    "for paper in tqdm(candidates[:-1]):\n",
    "    paper_id = paper['identifier'].lower().replace('arxiv:', '')\n",
    "    \n",
    "    folder = f'tmp_{paper_id}'\n",
    "\n",
    "    try:\n",
    "        if not os.path.isdir(folder):\n",
    "            folder = retrieve_document_source(f\"{paper_id}\", f'tmp_{paper_id}')\n",
    "        \n",
    "        try:\n",
    "            doc = latex.LatexDocument(folder, validation=validation)    \n",
    "        except AffiliationError as affilerror:\n",
    "            msg = f\"ArXiv:{paper_id:s} is not an MPIA paper... \" + str(affilerror)\n",
    "            failed.append((paper, \"affiliation error: \" + str(affilerror) ))\n",
    "            continue\n",
    "        \n",
    "        # Hack because sometimes author parsing does not work well\n",
    "        if (len(doc.authors) != len(paper['authors'])):\n",
    "            doc._authors = paper['authors']\n",
    "        if (doc.abstract) in (None, ''):\n",
    "            doc._abstract = paper['abstract']\n",
    "            \n",
    "        doc.comment = (get_markdown_badge(paper_id) + \n",
    "                       \"<mark>Appeared on: \" + paper['date'] + \"</mark> - \" +\n",
    "                       \"_\" + paper['comments'] + \"_\")\n",
    "        doc.highlight_authors_in_list(hl_list)\n",
    "\n",
    "        full_md = doc.generate_markdown_text()\n",
    "        \n",
    "        documents.append((paper_id, full_md))\n",
    "    except Exception as e:\n",
    "        warnings.warn(latex.LatexWarning(f\"{paper_id:s} did not run properly\\n\" +\n",
    "                                         str(e)\n",
    "                                        ))\n",
    "        failed.append((paper, \"latex error \" + str(e)))"
   ]
  },
  {
   "cell_type": "markdown",
   "id": "2505a25c",
   "metadata": {
    "papermill": {
     "duration": 0.008369,
     "end_time": "2022-10-05T04:34:40.736673",
     "exception": false,
     "start_time": "2022-10-05T04:34:40.728304",
     "status": "completed"
    },
    "tags": []
   },
   "source": [
    "### Export the logs\n",
    "\n",
    "Throughout, we also keep track of the logs per paper. see `logs-{today date}.md` "
   ]
  },
  {
   "cell_type": "code",
   "execution_count": 6,
   "id": "d733828a",
   "metadata": {
    "execution": {
     "iopub.execute_input": "2022-10-05T04:34:40.757757Z",
     "iopub.status.busy": "2022-10-05T04:34:40.757178Z",
     "iopub.status.idle": "2022-10-05T04:34:40.793139Z",
     "shell.execute_reply": "2022-10-05T04:34:40.792299Z"
    },
    "papermill": {
     "duration": 0.049995,
     "end_time": "2022-10-05T04:34:40.795078",
     "exception": false,
     "start_time": "2022-10-05T04:34:40.745083",
     "status": "completed"
    },
    "scrolled": false,
    "tags": []
   },
   "outputs": [
    {
     "data": {
      "text/markdown": [
       "## Successful papers"
      ],
      "text/plain": [
       "<IPython.core.display.Markdown object>"
      ]
     },
     "metadata": {},
     "output_type": "display_data"
    },
    {
     "data": {
      "text/markdown": [
       "\n",
       "|||\n",
       "|---:|:---|\n",
       "| [![arXiv](https://img.shields.io/badge/arXiv-arXiv:2210.01556-b31b1b.svg)](https://arxiv.org/abs/arXiv:2210.01556) | **Nuclear star cluster formation in star-forming dwarf galaxies**  |\n",
       "|| Katja Fahrion, et al. -- incl., <mark>Oliver Müller</mark>, <mark>Nadine Neumayer</mark>, <mark>Francesca Pinna</mark> |\n",
       "|*Appeared on*| *2022-10-05*|\n",
       "|*Comments*| *13 pages, 6 figures, accepted for publication in Astronomy & Astrophysics*|\n",
       "|**Abstract**| Nuclear star clusters (NSCs) are massive star clusters found in all types of galaxies from dwarfs to massive galaxies. Recent studies show that while low-mass NSCs in dwarf galaxies ($M_\\text{gal} < 10^{9} M_\\odot$) form predominantly out of the merger of globular clusters (GCs), high-mass NSCs in massive galaxies have assembled most of their mass through central enriched star formation. So far, these results of a transition in the dominant NSC formation channel have been based on studies of early-type galaxies and massive late-type galaxies. Here, we present the first spectroscopic analysis of a sample of nine nucleated late-type dwarf galaxies with the aim of identifying the dominant NSC formation pathway. We use integral-field spectroscopy data obtained with the Multi Unit Spectroscopic Explorer (MUSE) instrument to analyse the ages, metallicities, star formation histories, and star formation rates of the NSCs and their surroundings. Our sample includes galaxies with stellar masses $M_\\text{gal} = 10^7 - 10^9 M_\\odot$ and NSC masses $M_\\text{NSC} = 6 \\times 10^4 - 6 \\times 10^{6} M_\\odot$. Although all NSC spectra show emission lines, this emission is not always connected to star formation within the NSC, but rather to other regions along the line-of-sight. The NSC star formation histories reveal that metal-poor and old populations dominate the stellar populations in five NSCs, possibly stemming from the inspiral of GCs. The NSCs of the most massive galaxies in our sample show significant contributions from young and enriched populations that indicate additional mass growth through central star formation. Our results support previous findings of a transition in the dominant NSC formation channel with galaxy mass, showing that the NSCs in low-mass galaxies predominantly grow through the inspiral of GCs, while central star formation can contribute to NSC growth in more massive galaxies. |"
      ],
      "text/plain": [
       "[arXiv:2210.01556] Nuclear star cluster formation in star-forming dwarf galaxies\n",
       "\tKatja Fahrion, et al. -- incl., <mark>Oliver Müller</mark>, <mark>Nadine Neumayer</mark>, <mark>Francesca Pinna</mark>"
      ]
     },
     "metadata": {},
     "output_type": "display_data"
    },
    {
     "data": {
      "text/markdown": [
       "## Failed papers"
      ],
      "text/plain": [
       "<IPython.core.display.Markdown object>"
      ]
     },
     "metadata": {},
     "output_type": "display_data"
    },
    {
     "data": {
      "text/markdown": [
       "\n",
       "|||\n",
       "|---:|:---|\n",
       "| [![arXiv](https://img.shields.io/badge/arXiv-arXiv:2210.01755-b31b1b.svg)](https://arxiv.org/abs/arXiv:2210.01755) | **Late-time H/He-poor circumstellar interaction in the normal-looking  type-Ic supernova SN 2021ocs: an exposed oxygen-magnesium layer and extreme  stripping of the progenitor**  |\n",
       "|| H. Kuncarayakti, et al. -- incl., <mark>M. E. Huber</mark>, <mark>K. W. Smith</mark> |\n",
       "|*Appeared on*| *2022-10-05*|\n",
       "|*Comments*| *9 pages, 5 figures, submitted*|\n",
       "|**Abstract**| Supernova (SN) 2021ocs was discovered in the galaxy NGC 7828 within the interacting system Arp 144, and subsequently classified as a normal type-Ic SN around peak brightness. VLT/FORS2 observations in the nebular phase at 150 d reveal that the spectrum is dominated by oxygen and magnesium emission lines of different transitions and ionization states: O I, [O I], [O II], [O III], Mg I, and Mg II. Such a spectrum has no counterpart in the literature, though it bears a few features similar to those of some interacting type Ibn and Icn SNe. Additionally, SN 2021ocs showed a blue color, $(g-r) \\lesssim -0.5$ mag, after the peak, atypical for a type-Ic SN. Together with the nebular spectrum, this suggests that SN 2021ocs underwent late-time interaction with an H/He-poor circumstellar medium (CSM), resulting from the pre-SN progenitor mass loss during its final $\\sim$1000 days. The strong O and Mg lines and the absence of strong C and He lines suggest that the progenitor star's O-Mg layer is exposed, which places SN 2021ocs as the most extreme case of massive progenitor star's envelope stripping in interacting SNe, followed by type-Icn (stripped C-O layer) and Ibn (stripped He-rich layer) SNe. This is the first time such case is reported in the literature. SN 2021ocs emphasizes the importance of late-time spectroscopy of even seemingly normal SNe, which reveals the inner ejecta and progenitor star's mass loss history. |\n",
       "|<p style=\"color:green\"> **ERROR** </p>| <p style=\"color:green\">affiliation error: mpia.affiliation_verifications: '69117' keyword not found.</p> |"
      ],
      "text/plain": [
       "<IPython.core.display.Markdown object>"
      ]
     },
     "metadata": {},
     "output_type": "display_data"
    },
    {
     "data": {
      "text/markdown": [
       "\n",
       "|||\n",
       "|---:|:---|\n",
       "| [![arXiv](https://img.shields.io/badge/arXiv-arXiv:2210.01218-b31b1b.svg)](https://arxiv.org/abs/arXiv:2210.01218) | **Unraveling Twisty Linear Polarization Morphologies in Black Hole Images**  |\n",
       "|| Razieh Emami, et al. -- incl., <mark>Lindy Blackburn</mark>, <mark>Matthew Liska</mark>, <mark>Lars Hernquist</mark>, <mark>Randall Smith</mark> |\n",
       "|*Appeared on*| *2022-10-05*|\n",
       "|*Comments*| *25 pages, 19 figures*|\n",
       "|**Abstract**| We investigate general relativistic magnetohydrodynamic simulations (GRMHD) to determine the physical origin of the twisty patterns of linear polarization seen in spatially resolved black hole images and explain their morphological dependence on black hole spin. By characterising the observed emission with a simple analytic ring model, we find that the twisty morphology is determined by the magnetic field structure in the emitting region. Moreover, the dependence of this twisty pattern on spin can be attributed to changes in the magnetic field geometry that occur due to the frame dragging. By studying an analytic ring model, we find that the roles of Doppler boosting and lensing are subdominant. Faraday rotation may cause a systematic shift in the linear polarization pattern, but we find that its impact is subdominant for models with strong magnetic fields and modest ion-to-electron temperature ratios. Models with weaker magnetic fields are much more strongly affected by Faraday rotation and have more complicated emission geometries than can be captured by a ring model. However, these models are currently disfavoured by the recent EHT observations of M87*. Our results suggest that linear polarization maps can provide a probe of the underlying magnetic field structure around a black hole, which may then be usable to indirectly infer black hole spins. The generality of these results should be tested with alternative codes, initial conditions, and plasma physics prescriptions. |\n",
       "|<p style=\"color:green\"> **ERROR** </p>| <p style=\"color:green\">affiliation error: mpia.affiliation_verifications: 'Heidelberg' keyword not found.</p> |"
      ],
      "text/plain": [
       "<IPython.core.display.Markdown object>"
      ]
     },
     "metadata": {},
     "output_type": "display_data"
    },
    {
     "data": {
      "text/markdown": [
       "\n",
       "|||\n",
       "|---:|:---|\n",
       "| [![arXiv](https://img.shields.io/badge/arXiv-arXiv:2210.01228-b31b1b.svg)](https://arxiv.org/abs/arXiv:2210.01228) | **A Quarter Century of Guitar Nebula/Filament Evolution**  |\n",
       "|| Martijn de Vries, et al. -- incl., <mark>George Pavlov</mark> |\n",
       "|*Appeared on*| *2022-10-05*|\n",
       "|*Comments*| *13 pages, 10 figures, accepted for publication in ApJ*|\n",
       "|**Abstract**| We have collected a new deep {\\it Chandra X-ray Observatory} ({\\it CXO}) exposure of PSR B2224+65 and the `Guitar Nebula', mapping the complex X-ray structure. This is accompanied by a new {\\it HST} H$\\alpha$ image of the head of the Guitar. Comparing the {\\it HST} and {\\it CXO} structures in 4 epochs over 25 years, we constrain the evolution of the TeV particles that light up the filament. Cross-field diffusion appears to be enhanced, likely by the injected particles, behind the filament's sharp leading edge, explaining the filament width and its evolving surface brightness profile. |\n",
       "|<p style=\"color:green\"> **ERROR** </p>| <p style=\"color:green\">affiliation error: mpia.affiliation_verifications: 'Heidelberg' keyword not found.</p> |"
      ],
      "text/plain": [
       "<IPython.core.display.Markdown object>"
      ]
     },
     "metadata": {},
     "output_type": "display_data"
    },
    {
     "data": {
      "text/markdown": [
       "\n",
       "|||\n",
       "|---:|:---|\n",
       "| [![arXiv](https://img.shields.io/badge/arXiv-arXiv:2210.01316-b31b1b.svg)](https://arxiv.org/abs/arXiv:2210.01316) | **The $σ_{\\rm Hβ}$-based dimensionless accretion rate and its  connection with the corona for AGN**  |\n",
       "|| Y. Q. Chen, <mark>Y. S. Liu</mark>, W. H. Bian |\n",
       "|*Appeared on*| *2022-10-05*|\n",
       "|*Comments*| *18 pages, 9 figures, ApJ, in press*|\n",
       "|**Abstract**| With respect to the $\\rm H\\beta$ full width at half-maximum ($\\rm FWHM_{H\\beta}$), the broad $\\rm H\\beta$ line dispersion ($\\sigma_{\\rm H\\beta}$) was preferred as a velocity tracer to calculate the single-epoch supermassive black hole mass ($M_{\\rm BH}$) suggested by \\cite{Yu2020b}. For a compiled sample of 311 broad-line active galactic nuclei (AGN) with measured hard X-ray photon index ($z<0.7$), $\\sigma_{\\rm H\\beta}$ and the optical Fe II relative strength ($R_{\\rm Fe}$) are measured from their optical spectra, which are used to calculate $\\sigma_{\\rm H\\beta}$-based virial $M_{\\rm BH}$ and dimensionless accretion rate ($\\dot{\\mathscr{M}}$). With respect to $\\rm FWHM_{\\rm H\\beta}$, it is found that the mean value of $\\sigma_{\\rm H\\beta}$-based $M_{\\rm BH}$ is on average larger by 0.26 dex, and the mean value of $\\sigma_{\\rm H\\beta}$-based $\\dot{\\mathscr{M}}$ is on average smaller by 0.51 dex. It is found that there exists a non-linear relationship between the Eddington ratio ($L_{\\rm Bol}/L_{\\rm Edd}$) and $\\dot{\\mathscr{M}}$, i.e., $L_{\\rm Bol}/L_{\\rm Edd} \\propto \\dot{\\mathscr{M}}^{0.56\\pm 0.01}$. This non-linear relationship comes from the accretion efficiency $\\eta$, which is smaller for AGN with higher $\\dot{\\mathscr{M}}$. We find a strong bivariate correlation of the fraction of energy released in the corona $F_{\\rm X}$ with $\\dot{\\mathscr{M}}$ and \\mbh, $F_{\\rm X} \\propto \\dot{\\mathscr{M}}^{-0.57\\pm 0.05} M_{\\rm BH}^{-0.54\\pm 0.06}$. The flat slope of $-0.57\\pm 0.05$ favours the shear stress tensor of the accretion disk being proportional to the geometric mean of gas pressure and total pressure. We find a strong bivariate relation of $\\Gamma$ with $\\dot{\\mathscr{M}}$ and $F_{\\rm X}$, $\\Gamma \\propto \\dot{\\mathscr{M}}^{-0.21\\pm 0.02}F_{\\rm X}^{0.02\\pm 0.04}$. The hard X-ray spectrum becomes softer with increasing of $F_{\\rm X}$, although the scatter is large. |\n",
       "|<p style=\"color:green\"> **ERROR** </p>| <p style=\"color:green\">affiliation error: mpia.affiliation_verifications: 'Heidelberg' keyword not found.</p> |"
      ],
      "text/plain": [
       "<IPython.core.display.Markdown object>"
      ]
     },
     "metadata": {},
     "output_type": "display_data"
    },
    {
     "data": {
      "text/markdown": [
       "\n",
       "|||\n",
       "|---:|:---|\n",
       "| [![arXiv](https://img.shields.io/badge/arXiv-arXiv:2210.01352-b31b1b.svg)](https://arxiv.org/abs/arXiv:2210.01352) | **Diffuse $γ$-ray emission around the massive star forming region of  Carina Nebula Complex**  |\n",
       "|| Ting-Ting Ge, et al. -- incl., <mark>Yun-Feng Liang</mark>, <mark>En-Wei Liang</mark> |\n",
       "|*Appeared on*| *2022-10-05*|\n",
       "|*Comments*| *8 pages, 7 figures. Accepted for publication in MNRAS*|\n",
       "|**Abstract**| We report the Fermi Large Area Telescope (Fermi-LAT) detection of the $\\gamma$-ray emission toward the massive star forming region of Carina Nebula Complex (CNC). Using the latest source catalog and diffuse background models, we found that the GeV $\\gamma$-ray emission in this region can be resolved into three different components. The GeV $\\gamma$-ray emission from the central point source is considered to originate from the Eta Carina ($\\eta$ Car). We further found the diffuse GeV $\\gamma$-ray emission around the CNC which can be modelled by two Gaussian disks with radii of 0.4\\deg (region A) and 0.75\\deg (region B), respectively. The GeV $\\gamma$-ray emission from both the regions A and B have good spatial consistency with the derived molecular gas in projection on the sky. The GeV $\\gamma$-ray emission of region A reveals a characteristic spectral shape of the pion-decay process, which indicates that the $\\gamma$-rays are produced by the interactions of hadronic cosmic rays with ambient gas. The $\\gamma$-rays spectrum of region B has a hard photon index of 2.12 $\\pm$ 0.02, which is similar to other young massive star clusters. We argue that the diffuse GeV $\\gamma$-ray emission in region A and region B likely originate from the interaction of accelerated protons in clusters with the ambient gas. |\n",
       "|<p style=\"color:green\"> **ERROR** </p>| <p style=\"color:green\">affiliation error: mpia.affiliation_verifications: 'Heidelberg' keyword not found.</p> |"
      ],
      "text/plain": [
       "<IPython.core.display.Markdown object>"
      ]
     },
     "metadata": {},
     "output_type": "display_data"
    },
    {
     "data": {
      "text/markdown": [
       "\n",
       "|||\n",
       "|---:|:---|\n",
       "| [![arXiv](https://img.shields.io/badge/arXiv-arXiv:2210.01356-b31b1b.svg)](https://arxiv.org/abs/arXiv:2210.01356) | **Panoramic SETI: Program Update and High-Energy Astrophysics Applications**  |\n",
       "|| Jérôme Maire, et al. -- incl., <mark>Aaron Brown</mark>, <mark>Olivier Hervet</mark>, <mark>Ryan Lee</mark>, <mark>Wei Liu</mark> |\n",
       "|*Appeared on*| *2022-10-05*|\n",
       "|*Comments*| *9 pages, 5 figures, SPIE Astronomical Telescopes + Instrumentation conference, 2022, Montr\\'eal, Qu\\'ebec, Canada*|\n",
       "|**Abstract**| Optical SETI (Search for Extraterrestrial Intelligence) instruments that can explore the very fast time domain, especially with large sky coverage, offer an opportunity for new discoveries that can complement multimessenger and time domain astrophysics. The Panoramic SETI experiment (PANOSETI) aims to observe optical transients with nanosecond to second duration over a wide field-of-view ($\\thicksim$2,500 sq.deg.) by using two assemblies of tens of telescopes to reject spurious signals by coincidence detection. Three PANOSETI telescopes, connected to a White Rabbit timing network used to synchronize clocks at the nanosecond level, have been deployed at Lick Observatory on two sites separated by a distance of 677 meters to distinguish nearby light sources (such as Cherenkov light from particle showers in the Earth's atmosphere) from astrophysical sources at large distances. In parallel to this deployment, we present results obtained during four nights of simultaneous observations with the four 12-meter VERITAS gamma-ray telescopes and two PANOSETI telescopes at the Fred Lawrence Whipple Observatory. We report PANOSETI's first detection of astrophysical gamma rays, comprising three events with energies in the range between $\\thicksim$15 TeV and $\\thicksim$50 TeV. These were emitted by the Crab Nebula, and identified as gamma rays using joint VERITAS observations. |\n",
       "|<p style=\"color:green\"> **ERROR** </p>| <p style=\"color:green\">affiliation error: mpia.affiliation_verifications: 'Heidelberg' keyword not found.</p> |"
      ],
      "text/plain": [
       "<IPython.core.display.Markdown object>"
      ]
     },
     "metadata": {},
     "output_type": "display_data"
    },
    {
     "data": {
      "text/markdown": [
       "\n",
       "|||\n",
       "|---:|:---|\n",
       "| [![arXiv](https://img.shields.io/badge/arXiv-arXiv:2210.01394-b31b1b.svg)](https://arxiv.org/abs/arXiv:2210.01394) | **Material Properties of Organic Liquids, Ices, and Hazes on Titan**  |\n",
       "|| Xinting Yu, et al. -- incl., <mark>Jialin Li</mark>, <mark>Xi Zhang</mark> |\n",
       "|*Appeared on*| *2022-10-05*|\n",
       "|*Comments*| *56 pages, 4 figures, 17 tables*|\n",
       "|**Abstract**| Titan has a diverse range of materials in its atmosphere and on its surface: the simple organics that reside in various phases (gas, liquid, ice) and the solid complex refractory organics that form Titan's haze layers. These materials all actively participate in various physical processes on Titan, and many material properties are found to be important in shaping these processes. Future in-situ exploration on Titan would likely encounter a range of materials, and a comprehensive database to archive the material properties of all possible material candidates will be needed. Here we summarize several important material properties of the organic liquids, ices, and the refractory hazes on Titan that are available in the literature and/or that we have computed. These properties include thermodynamic properties (phase change points, sublimation and vaporization saturation vapor pressure, and latent heat), physical property (density), and surface properties (liquid surface tensions and solid surface energies). We have developed a new database to provide a repository for these data and make them available to the science community. These data can be used as inputs for various theoretical models to interpret current and future remote sensing and in-situ atmospheric and surface measurements on Titan. The material properties of the simple organics may also be applicable for giant planets and icy bodies in the outer solar system, interstellar medium, and protoplanetary disks. |\n",
       "|<p style=\"color:green\"> **ERROR** </p>| <p style=\"color:green\">affiliation error: mpia.affiliation_verifications: 'Heidelberg' keyword not found.</p> |"
      ],
      "text/plain": [
       "<IPython.core.display.Markdown object>"
      ]
     },
     "metadata": {},
     "output_type": "display_data"
    },
    {
     "data": {
      "text/markdown": [
       "\n",
       "|||\n",
       "|---:|:---|\n",
       "| [![arXiv](https://img.shields.io/badge/arXiv-arXiv:2210.01420-b31b1b.svg)](https://arxiv.org/abs/arXiv:2210.01420) | **On the nature of rotation in the Praesepe cluster**  |\n",
       "|| C. J. Hao, et al. -- incl., <mark>Z. H. Lin</mark>, <mark>Y. J. Li</mark>, <mark>D. J. Liu</mark> |\n",
       "|*Appeared on*| *2022-10-05*|\n",
       "|*Comments*| *12 pages, 6 figures, Accepted for publication in ApJ*|\n",
       "|**Abstract**| Although a large number of Galactic open clusters (OCs) have been identified, the internal kinematic properties (e.g., rotation) of almost all the known OCs are still far from clear. With the high-precision astrometric data of Gaia EDR3, we have developed a methodology to unveil the rotational properties of the Praesepe cluster. Statistics of the three-dimensional residual motions of the member stars reveal the presence of Praesepe's rotation and determine its spatial rotation axis. The mean rotation velocity of the Praesepe cluster within its tidal radius is estimated to be 0.2 $\\pm$ 0.05 km s$^{-1}$, and the corresponding rotation axis is tilted in relation to the Galactic plane with an angle of 41 $\\pm$ 12 degree. We also analysed the rms rotational velocity of the member stars around the rotation axis, and found that the rotation of the member stars within the tidal radius of Praesepe probably follows the Newton's classical theorems. |\n",
       "|<p style=\"color:green\"> **ERROR** </p>| <p style=\"color:green\">affiliation error: mpia.affiliation_verifications: 'Heidelberg' keyword not found.</p> |"
      ],
      "text/plain": [
       "<IPython.core.display.Markdown object>"
      ]
     },
     "metadata": {},
     "output_type": "display_data"
    },
    {
     "data": {
      "text/markdown": [
       "\n",
       "|||\n",
       "|---:|:---|\n",
       "| [![arXiv](https://img.shields.io/badge/arXiv-arXiv:2210.01444-b31b1b.svg)](https://arxiv.org/abs/arXiv:2210.01444) | **Bayesian and Machine Learning Methods in the Big Data era for  astronomical imaging**  |\n",
       "|| Fabrizia Guglielmetti, et al. -- incl., <mark>Eric Villard</mark> |\n",
       "|*Appeared on*| *2022-10-05*|\n",
       "|*Comments*| *8 pages, 5 figures, proceedings International Workshop on Bayesian Inference and Maximum Entropy Methods in Science and Engineering, IHP, Paris, July 18-22, 2022*|\n",
       "|**Abstract**| The Atacama Large Millimeter/submillimeter Array with the planned electronic upgrades will deliver an unprecedented amount of deep and high resolution observations. Wider fields of view are possible with the consequential cost of image reconstruction. Alternatives to commonly used applications in image processing have to be sought and tested. Advanced image reconstruction methods are critical to meet the data requirements needed for operational purposes. Astrostatistics and astroinformatics techniques are employed. Evidence is given that these interdisciplinary fields of study applied to synthesis imaging meet the Big Data challenges and have the potentials to enable new scientific discoveries in radio astronomy and astrophysics. |\n",
       "|<p style=\"color:green\"> **ERROR** </p>| <p style=\"color:green\">affiliation error: mpia.affiliation_verifications: 'Heidelberg' keyword not found.</p> |"
      ],
      "text/plain": [
       "<IPython.core.display.Markdown object>"
      ]
     },
     "metadata": {},
     "output_type": "display_data"
    },
    {
     "data": {
      "text/markdown": [
       "\n",
       "|||\n",
       "|---:|:---|\n",
       "| [![arXiv](https://img.shields.io/badge/arXiv-arXiv:2210.01453-b31b1b.svg)](https://arxiv.org/abs/arXiv:2210.01453) | **Massive stars in metal-poor dwarf galaxies are often extreme rotators**  |\n",
       "|| Abel Schootemeijer, et al. -- incl., <mark>Norbert Langer</mark> |\n",
       "|*Appeared on*| *2022-10-05*|\n",
       "|*Comments*| *Conference proceedings for a talk in IAU Symposium 361: Massive Stars Near and Far, Ballyconnell, Ireland, 9-13 May 2022*|\n",
       "|**Abstract**| We probe how common extremely rapid rotation is among massive stars in the early universe by measuring the OBe star fraction in nearby metal-poor dwarf galaxies. We apply a new method that uses broad-band photometry to measure the galaxy-wide OBe star fractions in the Magellanic Clouds and three more distant, more metal-poor dwarf galaxies. We find OBe star fractions of ~20% in the Large Magellanic Cloud (0.5 Z_Solar), and ~30% in the Small Magellanic Cloud (0.2 Z_Solar) as well as in the so-far unexplored metallicity range from 0.1 Z_solar to 0.2 Z_solar occupied by the other three dwarf galaxies. Our results imply that extremely rapid rotation is common among massive stars in metal-poor environments such as the early universe. |\n",
       "|<p style=\"color:green\"> **ERROR** </p>| <p style=\"color:green\">affiliation error: mpia.affiliation_verifications: 'Heidelberg' keyword not found.</p> |"
      ],
      "text/plain": [
       "<IPython.core.display.Markdown object>"
      ]
     },
     "metadata": {},
     "output_type": "display_data"
    },
    {
     "data": {
      "text/markdown": [
       "\n",
       "|||\n",
       "|---:|:---|\n",
       "| [![arXiv](https://img.shields.io/badge/arXiv-arXiv:2210.01457-b31b1b.svg)](https://arxiv.org/abs/arXiv:2210.01457) | **Proton Irradiation of SiPM arrays for POLAR-2**  |\n",
       "|| Slawomir Mianowski, et al. -- incl., <mark>Hancheng Li</mark> |\n",
       "|*Appeared on*| *2022-10-05*|\n",
       "|*Comments*| **|\n",
       "|**Abstract**| POLAR-2 is a space-borne polarimeter, built to investigate the polarization of Gamma-Ray Bursts and help elucidate their mechanisms. The instrument is targeted for launch in 2024 or 2025 aboard the China Space Station and is being developed by a collaboration between institutes from Switzerland, Germany, Poland and China. The instrument will orbit at altitudes between 340km and 450km with an inclination of 42$^{\\circ}$ and will be subjected to background radiation from cosmic rays and solar events. It is therefore pertinent to better understand the performance of sensitive devices under space-like conditions. In this paper we focus on the radiation damage of the silicon photomultiplier arrays S13361-6075NE-04 and S14161-6050HS-04 from Hamamatsu. The S13361 are irradiated with 58MeV protons at several doses up to 4.96Gy, whereas the newer series S14161 are irradiated at doses of 0.254Gy and 2.31Gy. Their respective performance degradation due to radiation damage are discussed. The equivalent exposure time in space for silicon photomultipliers inside POLAR-2 with a dose of 4.96Gy is 62.9 years (or 1.78 years when disregarding the shielding from the instrument). Primary characteristics of the I-V curves are an increase in the dark current and dark counts, mostly through cross-talk events. Annealing processes at $25^{\\circ}C$ were observed but not studied in further detail. Biasing channels while being irradiated have not resulted in any significant impact. Activation analyses showed a dominant contribution of $\\beta^{+}$ particles around 511keV. These resulted primarily from copper and carbon, mostly with decay times shorter than the orbital period. |\n",
       "|<p style=\"color:green\"> **ERROR** </p>| <p style=\"color:green\">affiliation error: mpia.affiliation_verifications: 'Heidelberg' keyword not found.</p> |"
      ],
      "text/plain": [
       "<IPython.core.display.Markdown object>"
      ]
     },
     "metadata": {},
     "output_type": "display_data"
    },
    {
     "data": {
      "text/markdown": [
       "\n",
       "|||\n",
       "|---:|:---|\n",
       "| [![arXiv](https://img.shields.io/badge/arXiv-arXiv:2210.01464-b31b1b.svg)](https://arxiv.org/abs/arXiv:2210.01464) | **Variability of eclipse timing:the case of V471 Tauri**  |\n",
       "|| Emil Kundra, et al. -- incl., <mark>Franky Dubois</mark> |\n",
       "|*Appeared on*| *2022-10-05*|\n",
       "|*Comments*| *10 pages, 4 figures, to be published in MNRAS*|\n",
       "|**Abstract**| The post-common envelope binary V471 Tauri has been an object of interest for decades. V471 Tau shows various phenomena due to its evolutionary state and unique properties, e.g. its magnetic accretion and eclipse timing variation (ETV). Previous authors explained the ETVs by different, sometimes contradictory theories. In this paper, we present and analyse the variability of the eclipse timing of this star. We observed V471 Tauri over the last ten years and covered the second cycle of its period variation. Based on our analysis of the presented data, we assess the possible existence of a brown dwarf in this system and derive its orbital parameters. We compare the results of our dynamical modelling to the solution predicted by Applegate-mechanism theories, which have been developed in recent studies. We found that the observed ETV cannot be explained only by the presence of additional components to the binary. |\n",
       "|<p style=\"color:green\"> **ERROR** </p>| <p style=\"color:green\">affiliation error: mpia.affiliation_verifications: 'Heidelberg' keyword not found.</p> |"
      ],
      "text/plain": [
       "<IPython.core.display.Markdown object>"
      ]
     },
     "metadata": {},
     "output_type": "display_data"
    },
    {
     "data": {
      "text/markdown": [
       "\n",
       "|||\n",
       "|---:|:---|\n",
       "| [![arXiv](https://img.shields.io/badge/arXiv-arXiv:2210.01466-b31b1b.svg)](https://arxiv.org/abs/arXiv:2210.01466) | **No evidence for radius inflation in hot Jupiters from vertical advection  of heat**  |\n",
       "|| Aaron David Schneider, et al. -- incl., <mark>Leen Decin</mark>, <mark>Christiane Helling</mark> |\n",
       "|*Appeared on*| *2022-10-05*|\n",
       "|*Comments*| *Accepted for publication in Astronomy and Astrophysics, Letters to the editor*|\n",
       "|**Abstract**| Understanding the radiative-dynamical coupling between upper photosphere and deeper atmosphere is a key in understanding the abnormal large radii of hot Jupiters. One needs very long integration times of 3D general circulation models (GCMs) with self consistent radiative transfer to achieve a better understanding of the feedback process between dynamics and radiation. We here present the longest 3D non-gray GCM study (86000 d) of an ultra hot Jupiter (WASP-76 b) published to this date that reached a final converged state. Furthermore, we present a method that can be used to accelerate the path towards temperature convergence in the deep atmospheric layers. We find that the final converged temperature profile is cold in the deep atmospheric layers, lacking any sign of vertical transport of potential temperature by large scale atmospheric motions. We thus conclude that the coupling between radiation and dynamics alone is not sufficient to explain the abnormal large radii of inflated hot gas giants. |\n",
       "|<p style=\"color:green\"> **ERROR** </p>| <p style=\"color:green\">affiliation error: mpia.affiliation_verifications: 'Heidelberg' keyword not found.</p> |"
      ],
      "text/plain": [
       "<IPython.core.display.Markdown object>"
      ]
     },
     "metadata": {},
     "output_type": "display_data"
    },
    {
     "data": {
      "text/markdown": [
       "\n",
       "|||\n",
       "|---:|:---|\n",
       "| [![arXiv](https://img.shields.io/badge/arXiv-arXiv:2210.01521-b31b1b.svg)](https://arxiv.org/abs/arXiv:2210.01521) | **Open clusters housing classical Cepheids in Gaia DR3**  |\n",
       "|| C. J. Hao, et al. -- incl., <mark>Z. H. Lin</mark>, <mark>Y. J. Li</mark>, <mark>D. J. Liu</mark> |\n",
       "|*Appeared on*| *2022-10-05*|\n",
       "|*Comments*| *14 pages, 4 figures, Accepted for publication in A&A*|\n",
       "|**Abstract**| The latest Gaia Data Release 3 provides an opportunity to expand the census of Galactic open clusters harboring classical Cepheid variables, thereby bolstering the cosmic distance scale. A comprehensive analysis yielded a total of 50 classical Cepheids associated with 45 open clusters, of which 39 open cluster-classical Cepheid pairs are considered probable, with the remaining 11 pairs considered improbable but worth following up. Two previously identified clusters by us possibly host classical Cepheids (OC-0125/V1788 Cyg and OC-0675/OGLE-BLG-CEP-114). In addition, we identify 38 new open cluster candidates within the Galactic disk. |\n",
       "|<p style=\"color:green\"> **ERROR** </p>| <p style=\"color:green\">affiliation error: mpia.affiliation_verifications: 'Heidelberg' keyword not found.</p> |"
      ],
      "text/plain": [
       "<IPython.core.display.Markdown object>"
      ]
     },
     "metadata": {},
     "output_type": "display_data"
    },
    {
     "data": {
      "text/markdown": [
       "\n",
       "|||\n",
       "|---:|:---|\n",
       "| [![arXiv](https://img.shields.io/badge/arXiv-arXiv:2210.01544-b31b1b.svg)](https://arxiv.org/abs/arXiv:2210.01544) | **The First Survey of Quiet Sun Features Observed in Hard X-Rays With  NuSTAR**  |\n",
       "|| <mark>Sarah Paterson</mark>, et al. -- incl., <mark>Lindsay Glesener</mark>, <mark>David M. Smith</mark> |\n",
       "|*Appeared on*| *2022-10-05*|\n",
       "|*Comments*| **|\n",
       "|**Abstract**| We present the first survey of quiet Sun features observed in hard X-rays (HXRs), using the the Nuclear Spectroscopic Telescope ARray (NuSTAR), a HXR focusing optics telescope. The recent solar minimum combined with NuSTAR's high sensitivity has presented a unique opportunity to perform the first HXR imaging spectroscopy on a range of features in the quiet Sun. By studying the HXR emission of these features we can detect or constrain the presence of high temperature (>5 MK) or non-thermal sources, to help understand how they relate to larger more energetic solar phenomena, and determine their contribution to heating the solar atmosphere. We report on several features observed in the 28 September 2018 NuSTAR full-disk quiet Sun mosaics, the first of the NuSTAR quiet Sun observing campaigns, which mostly include steady features of X-ray bright points and an emerging flux region which later evolved into an active region, as well as a short-lived jet. We find that the features' HXR spectra are well fitted with isothermal models with temperatures ranging between 2.0-3.2 MK. Combining the NuSTAR data with softer X-ray emission from Hinode/XRT and EUV from SDO/AIA we recover the differential emission measures, confirming little significant emission above 4 MK. The NuSTAR HXR spectra allow us to constrain the possible non-thermal emission that would still be consistent with a null HXR detection. We found that for only one of the features (the jet) was there a potential non-thermal upper limit capable of powering the heating observed. However, even here the non-thermal electron distribution had to be very steep (effectively mono-energetic) with a low energy cut-off between 3-4 keV. The higher temperature or non-thermal sources in the typical quiet Sun features found in this September 2018 data are therefore found to be very weak, if present at all. |\n",
       "|<p style=\"color:green\"> **ERROR** </p>| <p style=\"color:green\">affiliation error: mpia.affiliation_verifications: 'Heidelberg' keyword not found.</p> |"
      ],
      "text/plain": [
       "<IPython.core.display.Markdown object>"
      ]
     },
     "metadata": {},
     "output_type": "display_data"
    },
    {
     "data": {
      "text/markdown": [
       "\n",
       "|||\n",
       "|---:|:---|\n",
       "| [![arXiv](https://img.shields.io/badge/arXiv-arXiv:2210.01576-b31b1b.svg)](https://arxiv.org/abs/arXiv:2210.01576) | **Star formation timescale in the molecular filament WB 673**  |\n",
       "|| O. L. Ryabukhina, M. S. Kirsanova, <mark>C. Henkel</mark>, D. S. Wiebe |\n",
       "|*Appeared on*| *2022-10-05*|\n",
       "|*Comments*| *10 pages, 7 figures, accepted for publication in MNRAS*|\n",
       "|**Abstract**| We present observations of ammonia emission lines toward the interstellar filament WB~673 hosting the dense clumps WB~673, WB~668, S233-IR and G173.57+2.43. LTE analysis of the lines allows us to estimate gas kinetic temperature ($\\lesssim$ 30~K in all the clumps), number density ($7-17\\times10^3$~cm$^{-3}$), and ammonia column density ($\\approx 1-1.5\\times 10^{15}$~cm$^{-2}$) in the dense clumps. We find signatures of collapse in WB 673 and presence of compact spatially unresolved dense clumps in S233-IR. We reconstruct 1D density and temperature distributions in the clumps and estimate their ages using astrochemical modelling. Considering CO, CS, NH$_3$ and N$_2$H$^+$ molecules (plus HCN and HNC for WB~673), we find a chemical age of $t_{\\rm chem}=1-3\\times 10^5$~yrs providing the best agreement between the simulated and observed column densities in all the clumps. Therefore, we consider $t_{\\rm chem}$ as the chemical age of the entire filament. A long preceding low-density stage of gas accumulation in the astrochemical model would break the agreement between the simulated and observed column densities. We suggest that rapid star formation over a $\\sim 10^5$~yrs timescale take place in the filament. |\n",
       "|<p style=\"color:green\"> **ERROR** </p>| <p style=\"color:green\">affiliation error: mpia.affiliation_verifications: 'Heidelberg' keyword not found.</p> |"
      ],
      "text/plain": [
       "<IPython.core.display.Markdown object>"
      ]
     },
     "metadata": {},
     "output_type": "display_data"
    },
    {
     "data": {
      "text/markdown": [
       "\n",
       "|||\n",
       "|---:|:---|\n",
       "| [![arXiv](https://img.shields.io/badge/arXiv-arXiv:2210.01666-b31b1b.svg)](https://arxiv.org/abs/arXiv:2210.01666) | **Neural Network Based Point Spread Function Deconvolution For  Astronomical Applications**  |\n",
       "|| Hong Wang, et al. -- incl., <mark>Yuewei Lin</mark> |\n",
       "|*Appeared on*| *2022-10-05*|\n",
       "|*Comments*| *12 pages, 6 figures*|\n",
       "|**Abstract**| Optical astronomical images are strongly affected by the point spread function (PSF) of the optical system and the atmosphere (seeing) which blurs the observed image. The amount of blurring depends both on the observed band, and more crucially, on the atmospheric conditions during observation. A typical astronomical image will therefore have a unique PSF that is non-circular and different in different bands. Observations of known stars give us a determination of this PSF. Therefore, any serious candidate for production analysis of astronomical images must take the known PSF into account during the image analysis. So far the majority of applications of neural networks (NN) to astronomical image analysis have ignored this problem by assuming a fixed PSF in training and validation. We present a neural network based deconvolution algorithm based on Deep Wiener Deconvolution Network (DWDN) that takes the PSF shape into account when performing deconvolution as an example of one possible approach to enabling neural network to use the PSF information. We study the performance of several versions of this algorithm under realistic observational conditions in terms of recovery of most relevant astronomical quantities such as colors, ellipticities and orientations. We also investigate the performance of custom loss functions and find that they cause modest improvements in the recovery of astronomical quantities. |\n",
       "|<p style=\"color:green\"> **ERROR** </p>| <p style=\"color:green\">affiliation error: mpia.affiliation_verifications: 'Heidelberg' keyword not found.</p> |"
      ],
      "text/plain": [
       "<IPython.core.display.Markdown object>"
      ]
     },
     "metadata": {},
     "output_type": "display_data"
    },
    {
     "data": {
      "text/markdown": [
       "\n",
       "|||\n",
       "|---:|:---|\n",
       "| [![arXiv](https://img.shields.io/badge/arXiv-arXiv:2210.01608-b31b1b.svg)](https://arxiv.org/abs/arXiv:2210.01608) | **$\\textit{Gaia}$ white dwarfs within 40 pc III: spectroscopic  observations of new candidates in the southern hemisphere**  |\n",
       "|| Mairi W. O'Brien, et al. -- incl., <mark>N. P. Gentile Fusillo</mark>, <mark>J. J. Hermes</mark>, <mark>B. L. Klein</mark>, <mark>S. J. Kleinman</mark>, <mark>M. R. Schreiber</mark>, <mark>S. Torres</mark> |\n",
       "|*Appeared on*| *2022-10-05*|\n",
       "|*Comments*| *49 pages, 19 figures. Submitted to MNRAS on 4 October, 2022*|\n",
       "|**Abstract**| We present a spectroscopic survey of 248 white dwarf candidates within 40 pc of the Sun; of these 244 are in the southern hemisphere. Observations were performed mostly with the Very Large Telescope (X-Shooter) and Southern Astrophysical Research Telescope. Almost all candidates were selected from $\\textit{Gaia}$ Data Release 3 (DR3). We find a total of 246 confirmed white dwarfs, 209 of which had no previously published spectra, and two main-sequence star contaminants. Of these, 100 white dwarfs display hydrogen Balmer lines, 69 have featureless spectra, and two show only neutral helium lines. Additionally, 14 white dwarfs display traces of carbon, while 37 have traces of other elements that are heavier than helium. We observe 36 magnetic white dwarfs through the detection of Zeeman splitting of their hydrogen Balmer or metal spectral lines. High spectroscopic completeness (> 97 per cent) has now been reached, such that we have 1058 confirmed $\\textit{Gaia}$ DR3 white dwarfs out of 1083 candidates within 40 pc of the Sun at all declinations. |\n",
       "|<p style=\"color:green\"> **ERROR** </p>| <p style=\"color:green\">affiliation error: mpia.affiliation_verifications: 'Max' keyword not found.</p> |"
      ],
      "text/plain": [
       "<IPython.core.display.Markdown object>"
      ]
     },
     "metadata": {},
     "output_type": "display_data"
    },
    {
     "data": {
      "text/markdown": [
       "\n",
       "|||\n",
       "|---:|:---|\n",
       "| [![arXiv](https://img.shields.io/badge/arXiv-arXiv:2210.01291-b31b1b.svg)](https://arxiv.org/abs/arXiv:2210.01291) | **Seismic Monitoring of the Sun's Far Hemisphere: A Crucial Component in  Future Space Weather Forecasting (A White Paper Submitted to the Decadal  Survey for Solar and Space Physics (Heliophysics) -- SSPH 2024-2033)**  |\n",
       "|| Kiran Jain, et al. -- incl., <mark>C. Lindsey</mark>, <mark>C. J. Henney</mark> |\n",
       "|*Appeared on*| *2022-10-05*|\n",
       "|*Comments*| **|\n",
       "|**Abstract**| The purpose of this white paper is to put together a coherent vision for the role of helioseismic monitoring of magnetic activity in the Sun's far hemisphere that will contribute to improving space weather forecasting as well as fundamental research in the coming decade. Our goal fits into the broader context of helioseismology in solar research for any number of endeavors when helioseismic monitors may be the sole synoptic view of the Sun's far hemisphere. It is intended to foster a growing understanding of solar activity, as realistically monitored in both hemispheres, and its relationship to all known aspects of the near-Earth and terrestrial environment. Some of the questions and goals that can be fruitfully pursued through seismic monitoring of farside solar activity in the coming decade include: What is the relationship between helioseismic signatures and their associated magnetic configurations, and how is this relationship connected to the solar EUV irradiance over the period of a solar rotation?; How can helioseismic monitoring contribute to data-driven global magnetic-field models for precise space weather forecasting?; What can helioseismic monitors tell us about prospects of a flare, CME or high-speed stream that impacts the terrestrial environment over the period of a solar rotation?; How does the inclusion of farside information contribute to forecasts of interplanetary space weather and the environments to be encountered by human crews in interplanetary space? Thus, it is crucial for the development of farside monitoring of the Sun be continued into the next decade either through ground-based or space-borne observations. |\n",
       "|<p style=\"color:red\"> **ERROR** </p>| <p style=\"color:red\">latex error not a gzip file</p> |"
      ],
      "text/plain": [
       "<IPython.core.display.Markdown object>"
      ]
     },
     "metadata": {},
     "output_type": "display_data"
    }
   ],
   "source": [
    "import datetime\n",
    "today = str(datetime.date.today())\n",
    "logfile = f\"_build/html/logs/log-{today}.md\"\n",
    "\n",
    "\n",
    "with open(logfile, 'w') as logs:\n",
    "    # Success\n",
    "    logs.write(f'# Arxiv on Deck 2: Logs - {today}\\n\\n')\n",
    "    logs.write(\"\"\"* Arxiv had {0:,d} new papers\\n\"\"\".format(len(new_papers)))\n",
    "    logs.write(\"\"\"    * {0:,d} with possible author matches\\n\\n\"\"\".format(len(candidates)))\n",
    "    logs.write(\"## Sucessful papers\\n\\n\")\n",
    "    display(Markdown(\"## Successful papers\"))\n",
    "    success = [k[0] for k in documents]\n",
    "    for candid in candidates:\n",
    "        if candid['identifier'].split(':')[-1] in success:\n",
    "            display(candid)\n",
    "            logs.write(candid.generate_markdown_text() + '\\n\\n')\n",
    "\n",
    "    ## failed\n",
    "    logs.write(\"## Failed papers\\n\\n\")\n",
    "    display(Markdown(\"## Failed papers\"))\n",
    "    failed = sorted(failed, key=lambda x: x[1])\n",
    "    current_reason = \"\"\n",
    "    for paper, reason in failed:\n",
    "        if 'affiliation' in reason:\n",
    "            color = 'green'\n",
    "        else:\n",
    "            color = 'red'\n",
    "        data = Markdown(\n",
    "                paper.generate_markdown_text() + \n",
    "                f'\\n|<p style=\"color:{color:s}\"> **ERROR** </p>| <p style=\"color:{color:s}\">{reason:s}</p> |'\n",
    "               )\n",
    "        if reason != current_reason:\n",
    "            logs.write(f'### {reason:s} \\n\\n')\n",
    "            current_reason = reason\n",
    "        logs.write(data.data + '\\n\\n')\n",
    "        \n",
    "        # only display here the important errors (all in logs)\n",
    "        # if color in ('red',):\n",
    "        display(data)"
   ]
  },
  {
   "cell_type": "markdown",
   "id": "472d20ee",
   "metadata": {
    "papermill": {
     "duration": 0.014966,
     "end_time": "2022-10-05T04:34:40.823808",
     "exception": false,
     "start_time": "2022-10-05T04:34:40.808842",
     "status": "completed"
    },
    "tags": []
   },
   "source": [
    "## Export documents\n",
    "\n",
    "We now write the .md files and export relevant images"
   ]
  },
  {
   "cell_type": "code",
   "execution_count": 7,
   "id": "d426aed9",
   "metadata": {
    "execution": {
     "iopub.execute_input": "2022-10-05T04:34:40.851408Z",
     "iopub.status.busy": "2022-10-05T04:34:40.850556Z",
     "iopub.status.idle": "2022-10-05T04:34:40.859763Z",
     "shell.execute_reply": "2022-10-05T04:34:40.858971Z"
    },
    "papermill": {
     "duration": 0.025284,
     "end_time": "2022-10-05T04:34:40.861592",
     "exception": false,
     "start_time": "2022-10-05T04:34:40.836308",
     "status": "completed"
    },
    "tags": []
   },
   "outputs": [],
   "source": [
    "def export_markdown_summary(md: str, md_fname:str, directory: str):\n",
    "    \"\"\"Export MD document and associated relevant images\"\"\"\n",
    "    import os\n",
    "    import shutil\n",
    "    import re\n",
    "\n",
    "    if (os.path.exists(directory) and not os.path.isdir(directory)):\n",
    "        raise RuntimeError(f\"a non-directory file exists with name {directory:s}\")\n",
    "\n",
    "    if (not os.path.exists(directory)):\n",
    "        print(f\"creating directory {directory:s}\")\n",
    "        os.mkdir(directory)\n",
    "\n",
    "    fig_fnames = (re.compile(r'\\[Fig.*\\]\\((.*)\\)').findall(md) + \n",
    "                  re.compile(r'\\<img src=\"([^>\\s]*)\"[^>]*/>').findall(md))\n",
    "    for fname in fig_fnames:\n",
    "        if 'http' in fname:\n",
    "            # No need to copy online figures\n",
    "            continue\n",
    "        destdir = os.path.join(directory, os.path.dirname(fname))\n",
    "        destfname = os.path.join(destdir, os.path.basename(fname))\n",
    "        try:\n",
    "            os.makedirs(destdir)\n",
    "        except FileExistsError:\n",
    "            pass\n",
    "        shutil.copy(fname, destfname)\n",
    "    with open(os.path.join(directory, md_fname), 'w') as fout:\n",
    "        fout.write(md)\n",
    "    print(\"exported in \", os.path.join(directory, md_fname))\n",
    "    [print(\"    + \" + os.path.join(directory,fk)) for fk in fig_fnames]"
   ]
  },
  {
   "cell_type": "code",
   "execution_count": 8,
   "id": "014d04a4",
   "metadata": {
    "execution": {
     "iopub.execute_input": "2022-10-05T04:34:40.884502Z",
     "iopub.status.busy": "2022-10-05T04:34:40.883719Z",
     "iopub.status.idle": "2022-10-05T04:34:40.892976Z",
     "shell.execute_reply": "2022-10-05T04:34:40.892177Z"
    },
    "papermill": {
     "duration": 0.022892,
     "end_time": "2022-10-05T04:34:40.894882",
     "exception": false,
     "start_time": "2022-10-05T04:34:40.871990",
     "status": "completed"
    },
    "tags": []
   },
   "outputs": [
    {
     "name": "stdout",
     "output_type": "stream",
     "text": [
      "exported in  _build/html/2210.01556.md\n",
      "    + _build/html/tmp_2210.01556/./Figures/galaxy_starformationrates_small.png\n",
      "    + _build/html/tmp_2210.01556/./Figures/galaxy_sample.png\n",
      "    + _build/html/tmp_2210.01556/./Figures/NSC_spectra.png\n"
     ]
    }
   ],
   "source": [
    "for paper_id, md in documents:\n",
    "    export_markdown_summary(md, f\"{paper_id:s}.md\", '_build/html/')"
   ]
  },
  {
   "cell_type": "markdown",
   "id": "f087a0a7",
   "metadata": {
    "papermill": {
     "duration": 0.010552,
     "end_time": "2022-10-05T04:34:40.916094",
     "exception": false,
     "start_time": "2022-10-05T04:34:40.905542",
     "status": "completed"
    },
    "tags": []
   },
   "source": [
    "## Display the papers\n",
    "\n",
    "Not necessary but allows for a quick check."
   ]
  },
  {
   "cell_type": "code",
   "execution_count": 9,
   "id": "fd25f625",
   "metadata": {
    "execution": {
     "iopub.execute_input": "2022-10-05T04:34:40.940095Z",
     "iopub.status.busy": "2022-10-05T04:34:40.939062Z",
     "iopub.status.idle": "2022-10-05T04:34:40.945713Z",
     "shell.execute_reply": "2022-10-05T04:34:40.944923Z"
    },
    "papermill": {
     "duration": 0.020539,
     "end_time": "2022-10-05T04:34:40.947622",
     "exception": false,
     "start_time": "2022-10-05T04:34:40.927083",
     "status": "completed"
    },
    "scrolled": false,
    "tags": []
   },
   "outputs": [
    {
     "data": {
      "text/markdown": [
       "<div class=\"macros\" style=\"visibility:hidden;\">\n",
       "$\\newcommand{\\ensuremath}{}$\n",
       "$\\newcommand{\\xspace}{}$\n",
       "$\\newcommand{\\object}[1]{\\texttt{#1}}$\n",
       "$\\newcommand{\\farcs}{{.}''}$\n",
       "$\\newcommand{\\farcm}{{.}'}$\n",
       "$\\newcommand{\\arcsec}{''}$\n",
       "$\\newcommand{\\arcmin}{'}$\n",
       "$\\newcommand{\\ion}[2]{#1#2}$\n",
       "$\\newcommand{\\textsc}[1]{\\textrm{#1}}$\n",
       "$\\newcommand{\\hl}[1]{\\textrm{#1}}$\n",
       "$\\newcommand$</div>\n",
       "\n",
       "<div class=\"macros\" style=\"visibility:hidden;\">\n",
       "$\\newcommand{$\\ensuremath$}{}$\n",
       "$\\newcommand{$\\xspace$}{}$\n",
       "$\\newcommand{$\\object$}[1]{\\texttt{#1}}$\n",
       "$\\newcommand{$\\farcs$}{{.}''}$\n",
       "$\\newcommand{$\\farcm$}{{.}'}$\n",
       "$\\newcommand{$\\arcsec$}{''}$\n",
       "$\\newcommand{$\\arcmin$}{'}$\n",
       "$\\newcommand{$\\ion$}[2]{#1#2}$\n",
       "$\\newcommand{$\\textsc$}[1]{\\textrm{#1}}$\n",
       "$\\newcommand{$\\hl$}[1]{\\textrm{#1}}$\n",
       "$\\newcommand$</div>\n",
       "\n",
       "\n",
       "\n",
       "<div id=\"title\">\n",
       "\n",
       "# Based on observations collected at the ESO Paranal La Silla Observatory, Chile, Prog. ID 108.220K.001, 0104.D-0503, 0100.B-0116, and 095.B-0.532.\n",
       "\n",
       "</div>\n",
       "<div id=\"comments\">\n",
       "\n",
       "[![arXiv](https://img.shields.io/badge/arXiv-2210.01556-b31b1b.svg)](https://arxiv.org/abs/2210.01556)<mark>Appeared on: 2022-10-05</mark> - _13 pages, 6 figures, accepted for publication in Astronomy & Astrophysics_\n",
       "\n",
       "</div>\n",
       "<div id=\"authors\">\n",
       "\n",
       "Katja Fahrion, et al. -- incl., <mark><mark>Oliver Müller</mark></mark>, <mark><mark>Nadine Neumayer</mark></mark>, <mark><mark>Francesca Pinna</mark></mark>\n",
       "\n",
       "</div>\n",
       "<div id=\"abstract\">\n",
       "\n",
       "**Abstract:** Nuclear star clusters (NSCs) are massive star clusters found in all types of galaxies from dwarfs to massive galaxies. Recent studies show that while low-mass NSCs in dwarf galaxies ($M_\\text{gal} < 10^{9} M_\\odot$) form predominantly out of the merger of globular clusters (GCs), high-mass NSCs in massive galaxies have assembled most of their mass through central enriched star formation. So far, these results of a transition in the dominant NSC formation channel have been based on studies of early-type galaxies and massive late-type galaxies. Here, we present the first spectroscopic analysis of a sample of nine nucleated late-type dwarf galaxies with the aim of identifying the dominant NSC formation pathway. We use integral-field spectroscopy data obtained with the Multi Unit Spectroscopic Explorer (MUSE) instrument to analyse the ages, metallicities, star formation histories, and star formation rates of the NSCs and their surroundings. Our sample includes galaxies with stellar masses$M_\\text{gal} = 10^7 - 10^9 M_\\odot$and NSC masses$M_\\text{NSC} = 6 \\times 10^4 - 6 \\times 10^{6} M_\\odot$. Although all NSC spectra show emission lines, this emission is not always connected to star formation within the NSC, but rather to other regions along the line of sight. The NSC star formation histories reveal that metal-poor and old populations dominate the stellar populations in five NSCs, possibly stemming from the inspiral of GCs. The NSCs of the most massive galaxies in our sample show significant contributions from young and enriched populations that indicate additional mass growth through central star formation. Our results support previous findings of a transition in the dominant NSC formation channel with galaxy mass, showing that the NSCs in low-mass galaxies predominantly grow through the inspiral of GCs, while central star formation can contribute to NSC growth in more massive galaxies.\n",
       "\n",
       "</div>\n",
       "\n",
       "<div id=\"div_fig1\">\n",
       "\n",
       "<img src=\"tmp_2210.01556/./Figures/galaxy_starformationrates_small.png\" alt=\"Fig3\" width=\"100%\"/>\n",
       "\n",
       "**Figure 3. -** Star formation rate surface densities $\\Sigma_{\\text{SFR}}$ for the different galaxies. Each panel shows the 10$\\arcsec$$\\times$ 10$\\arcsec$  zoom to the region around the NSCs. The positions of the NSCs are highlighted by the circles. Each circle has a radius corresponding to the PSF FWHM. The dashed circles highlight the circumnuclear region at 2$\\arcsec$, defined by an annulus with inner radius of 8 pixel = 1.6$\\arcsec$ and outer radius of 13 pixel = 2.6$\\arcsec$. Regions with low signal-to-noise in the H$\\alpha$ flux were masked. (*fig:SFRs*)\n",
       "\n",
       "</div>\n",
       "<div id=\"div_fig2\">\n",
       "\n",
       "<img src=\"tmp_2210.01556/./Figures/galaxy_sample.png\" alt=\"Fig4\" width=\"100%\"/>\n",
       "\n",
       "**Figure 4. -** RGB images of the sample galaxies based on synthetic $V$, $I$, and $R$ band images obtained from the MUSE cubes. The inset shows a zoom to a 10$\\arcsec$$\\times$ 10$\\arcsec$ region around each NSC. The conversion from arcseconds to kpc is shown in white. North is up, east is to the left. (*fig:galaxy_sample*)\n",
       "\n",
       "</div>\n",
       "<div id=\"div_fig3\">\n",
       "\n",
       "<img src=\"tmp_2210.01556/./Figures/NSC_spectra.png\" alt=\"Fig1\" width=\"100%\"/>\n",
       "\n",
       "**Figure 1. -** NSC spectra in black with $\\textsc${pPXF} fit in orange, showing a fit of both the absorption and emission lines. The light purple regions were masked during the fits. Each panel corresponds to one galaxy. We note that the y-axis scale is not the same in all panels. The range is chosen to highlight the absorption line features. For observations acquired with AO, the region around the Na D line is blocked. (*fig:NSC_spectra*)\n",
       "\n",
       "</div>"
      ],
      "text/plain": [
       "<IPython.core.display.Markdown object>"
      ]
     },
     "metadata": {},
     "output_type": "display_data"
    }
   ],
   "source": [
    "[display(Markdown(k[1])) for k in documents];"
   ]
  },
  {
   "cell_type": "markdown",
   "id": "873873a4",
   "metadata": {
    "papermill": {
     "duration": 0.010863,
     "end_time": "2022-10-05T04:34:40.969485",
     "exception": false,
     "start_time": "2022-10-05T04:34:40.958622",
     "status": "completed"
    },
    "tags": []
   },
   "source": [
    "# Create HTML index"
   ]
  },
  {
   "cell_type": "code",
   "execution_count": 10,
   "id": "cf665672",
   "metadata": {
    "execution": {
     "iopub.execute_input": "2022-10-05T04:34:40.993072Z",
     "iopub.status.busy": "2022-10-05T04:34:40.992142Z",
     "iopub.status.idle": "2022-10-05T04:34:41.002600Z",
     "shell.execute_reply": "2022-10-05T04:34:41.001781Z"
    },
    "papermill": {
     "duration": 0.024388,
     "end_time": "2022-10-05T04:34:41.004397",
     "exception": false,
     "start_time": "2022-10-05T04:34:40.980009",
     "status": "completed"
    },
    "tags": []
   },
   "outputs": [
    {
     "name": "stdout",
     "output_type": "stream",
     "text": [
      "55  publications in the last 7 days.\n",
      "\t _build/html/2210.01556.md\n",
      "\t _build/html/2210.00863.md\n",
      "\t _build/html/2210.00560.md\n",
      "\t _build/html/2209.15403.md\n",
      "\t _build/html/2209.15110.md\n",
      "\t _build/html/2209.14410.md\n",
      "\t _build/html/2209.14396.md\n",
      "\t _build/html/2209.13717.md\n",
      "\t _build/html/2209.13336.md\n",
      "\t _build/html/2209.12906.md\n",
      "\t _build/html/2209.11781.md\n",
      "\t _build/html/2209.11602.md\n",
      "\t _build/html/2209.11248.md\n",
      "\t _build/html/2209.11096.md\n",
      "\t _build/html/2209.10618.md\n",
      "\t _build/html/2209.09914.md\n",
      "\t _build/html/2209.09823.md\n",
      "\t _build/html/2209.08242.md\n",
      "\t _build/html/2209.08120.md\n",
      "\t _build/html/2209.08106.md\n",
      "\t _build/html/2209.07962.md\n",
      "\t _build/html/2209.07931.md\n",
      "\t _build/html/2209.06833.md\n",
      "\t _build/html/2209.05814.md\n",
      "\t _build/html/2209.05593.md\n",
      "\t _build/html/2209.04304.md\n",
      "\t _build/html/2209.03367.md\n",
      "\t _build/html/2209.02872.md\n",
      "\t _build/html/2209.02725.md\n",
      "\t _build/html/2209.02722.md\n",
      "\t _build/html/2209.02092.md\n",
      "\t _build/html/2209.01125.md\n",
      "\t _build/html/2209.00828.md\n",
      "\t _build/html/2209.00363.md\n",
      "\t _build/html/2208.14927.md\n",
      "\t _build/html/2208.09335.md\n",
      "\t _build/html/2208.08872.md\n",
      "\t _build/html/2204.06393.md\n",
      "\t _build/html/2204.03335.md\n",
      "\t _build/html/2204.03253.md\n",
      "\t _build/html/2204.02998.md\n",
      "\t _build/html/2204.02109.md\n",
      "\t _build/html/2204.02017.md\n",
      "\t _build/html/2204.01824.md\n",
      "\t _build/html/2204.01758.md\n",
      "\t _build/html/2204.01245.md\n",
      "\t _build/html/2204.00793.md\n",
      "\t _build/html/2204.00342.md\n",
      "\t _build/html/2203.16959.md\n",
      "\t _build/html/2203.16856.md\n",
      "\t _build/html/2203.16735.md\n",
      "\t _build/html/2203.16734.md\n",
      "\t _build/html/2203.16504.md\n",
      "\t _build/html/2203.15822.md\n",
      "\t _build/html/2203.15811.md\n"
     ]
    }
   ],
   "source": [
    "from datetime import datetime, timedelta, timezone\n",
    "from glob import glob\n",
    "\n",
    "files = glob('_build/html/*.md')\n",
    "days = 7\n",
    "now = datetime.today()\n",
    "res = []\n",
    "for fk in files:\n",
    "    stat_result = os.stat(fk).st_ctime\n",
    "    modified = datetime.fromtimestamp(stat_result, tz=timezone.utc).replace(tzinfo=None)\n",
    "    delta = now.today() - modified\n",
    "    if delta <= timedelta(days=days):\n",
    "        res.append((delta.seconds, fk))\n",
    "res = [k[1] for k in reversed(sorted(res, key=lambda x:x[1]))]\n",
    "npub = len(res)\n",
    "print(len(res), f\" publications in the last {days:d} days.\")\n",
    "[ print('\\t', k) for k in res ];"
   ]
  },
  {
   "cell_type": "code",
   "execution_count": 11,
   "id": "52ca0208",
   "metadata": {
    "execution": {
     "iopub.execute_input": "2022-10-05T04:34:41.027833Z",
     "iopub.status.busy": "2022-10-05T04:34:41.027206Z",
     "iopub.status.idle": "2022-10-05T04:34:41.035779Z",
     "shell.execute_reply": "2022-10-05T04:34:41.035018Z"
    },
    "papermill": {
     "duration": 0.022595,
     "end_time": "2022-10-05T04:34:41.037758",
     "exception": false,
     "start_time": "2022-10-05T04:34:41.015163",
     "status": "completed"
    },
    "scrolled": false,
    "tags": []
   },
   "outputs": [],
   "source": [
    "def create_carousel(npub=4):\n",
    "    \"\"\" Generate the HTML code for a carousel with `npub` slides \"\"\"\n",
    "    carousel = [\"\"\"<section class=\"carousel\" aria-label=\"Gallery\">\"\"\",\n",
    "                \"\"\"  <ol class=\"carousel__viewport\">\"\"\",\n",
    "    ]\n",
    "    for k in range(1, npub + 1):\n",
    "        prev_ = k - 1\n",
    "        next_ = k + 1\n",
    "        if prev_ <= 0:\n",
    "            prev_ = npub\n",
    "        if next_ > npub:\n",
    "            next_ = 1\n",
    "        text  = f\"\"\"    <li id=\"carousel__slide{k}\" tabindex=\"0\" class=\"carousel__slide\">\\n\"\"\"\n",
    "        text += f\"\"\"       <div class=\"carousel__snapper\">\\n\"\"\"\n",
    "        text += f\"\"\"         <a href=\"#carousel__slide{prev_}\" class=\"carousel__prev\">Go to previous slide</a>\\n\"\"\"\n",
    "        text += f\"\"\"         <a href=\"#carousel__slide{next_}\" class=\"carousel__next\">Go to next slide</a>\\n\"\"\"\n",
    "        text += f\"\"\"         <div id=\"slide{k}_content\" class=\"md_view\" >Content {k}</div>\\n\"\"\"\n",
    "        text += f\"\"\"       </div>\\n\"\"\"\n",
    "        text += f\"\"\"    </li>\"\"\"\n",
    "        carousel.append(text)\n",
    "\n",
    "    carousel.extend([\n",
    "        \"\"\"  </ol>\"\"\",\n",
    "        \"\"\"  <aside class=\"carousel__navigation\">\"\"\",\n",
    "        \"\"\"    <ol class=\"carousel__navigation-list\">\"\"\"])\n",
    "\n",
    "    for k in range(1, npub + 1):\n",
    "        text  = f\"\"\"      <li class=\"carousel__navigation-item\">\\n\"\"\"\n",
    "        text += f\"\"\"        <a href=\"#carousel__slide{k}\" class=\"carousel__navigation-button\">Go to {k}</a>\\n\"\"\"\n",
    "        text += f\"\"\"      </li>\"\"\"\n",
    "        carousel.append(text)\n",
    "    carousel.extend([\"\"\"    </ol>\"\"\", \"\"\"  </aside>\"\"\", \"\"\"</section>\"\"\"])\n",
    "\n",
    "    return '\\n'.join(carousel)"
   ]
  },
  {
   "cell_type": "code",
   "execution_count": 12,
   "id": "a6eac5b6",
   "metadata": {
    "execution": {
     "iopub.execute_input": "2022-10-05T04:34:41.062663Z",
     "iopub.status.busy": "2022-10-05T04:34:41.061753Z",
     "iopub.status.idle": "2022-10-05T04:34:41.072655Z",
     "shell.execute_reply": "2022-10-05T04:34:41.071671Z"
    },
    "papermill": {
     "duration": 0.026321,
     "end_time": "2022-10-05T04:34:41.074784",
     "exception": false,
     "start_time": "2022-10-05T04:34:41.048463",
     "status": "completed"
    },
    "scrolled": false,
    "tags": []
   },
   "outputs": [],
   "source": [
    "carousel = create_carousel(npub)\n",
    "docs = ', '.join(['\"{0:s}\"'.format(k.split('/')[-1]) for k in res])\n",
    "slides = ', '.join([f'\"slide{k}_content\"' for k in range(1, npub + 1)])\n",
    "\n",
    "script = f\"\"\"\n",
    "const docs = [{docs}]\n",
    "\n",
    "const slides = [{slides}]\n",
    "\"\"\" + \"\"\"\n",
    "async function run() {\n",
    "    for (let i = 0; i < docs.length; i++) {\n",
    "        let file = await fetch(docs[i]);\n",
    "        let text = await file.text()\n",
    "        document.getElementById(slides[i]).innerHTML =\n",
    "            marked.parse(text);\n",
    "    }\n",
    "    hljs.highlightAll();\n",
    "}\n",
    "run()\n",
    "\"\"\"\n",
    "\n",
    "page = f\"\"\"<!doctype html>\n",
    "<html lang=\"en\">\n",
    "\n",
    "<head>\n",
    "  <meta charset=\"utf-8\">\n",
    "  <meta name=\"viewport\" content=\"width=device-width, initial-scale=1\">\n",
    "  <!-- Bootstrap CSS -->\n",
    "  <link href=\"https://cdn.jsdelivr.net/npm/bootstrap@5.0.2/dist/css/bootstrap.min.css\" rel=\"stylesheet\"\n",
    "   integrity=\"sha384-EVSTQN3/azprG1Anm3QDgpJLIm9Nao0Yz1ztcQTwFspd3yD65VohhpuuCOmLASjC\" crossorigin=\"anonymous\">\n",
    "  <!-- highlight.js CSS -->\n",
    "  <link rel=\"stylesheet\" href=\"https://cdnjs.cloudflare.com/ajax/libs/highlight.js/11.1.0/styles/default.min.css\">\n",
    "  <!-- Mathjax 3 -->\n",
    "  <script type=\"text/javascript\" id=\"MathJax-config\" src=\"mathjax_config.js\"> </script>\n",
    "  <script type=\"text/javascript\" id=\"MathJax-script\" async \n",
    "    src=\"https://cdn.jsdelivr.net/npm/mathjax@3/es5/tex-mml-chtml.js\">\n",
    "  </script>\n",
    "  <link rel=\"stylesheet\" href=\"index_carousel.css\">\n",
    "  <link rel=\"icon\" type=\"image/x-icon\" href=\"https://www.mpia.de/assets/touch-icon-32x32-a66937bcebc4e8894ebff1f41a366c7c7220fd97a38869ee0f2db65a9f59b6c1.png\">\n",
    "  <title>MPIA Arxiv on deck!</title>\n",
    "</head>\n",
    "\n",
    "<body>\n",
    "  <div id=\"header\"> <img src=\"header_banner.png\" width=\"100%\"></div>\n",
    "  <div id=\"suptitle\"> 7-day archives </div>\n",
    "  <div id=\"info\">\n",
    "    <img src=\"https://pngimg.com/uploads/github/github_PNG58.png\" height=30rem></img>\n",
    "    <a href=https://github.com/mpi-astronomy/arxiv_display style=\"color:black;\">github/mpi-astronomy/arxiv_display</a> \n",
    "  </div>\n",
    "  {carousel:s}\n",
    "</body>\n",
    "\n",
    "<!-- Render Markdown -->\n",
    "\n",
    "<body>\n",
    "  <!-- highlight.js: https://highlightjs.org/download/ -->\n",
    "  <script src=\"https://cdnjs.cloudflare.com/ajax/libs/highlight.js/11.5.0/highlight.min.js\"></script>\n",
    "  <!-- marked.js -->\n",
    "  <script src=\"https://cdn.jsdelivr.net/npm/marked/marked.min.js\"></script>\n",
    "  <script>{script:s}</script>\n",
    "</body>\n",
    "</html>\n",
    "\"\"\"\n",
    "with open(\"_build/html/index_7days.html\", 'w') as fout:\n",
    "    fout.write(page)"
   ]
  },
  {
   "cell_type": "markdown",
   "id": "1cebacbc",
   "metadata": {
    "papermill": {
     "duration": 0.011168,
     "end_time": "2022-10-05T04:34:41.097380",
     "exception": false,
     "start_time": "2022-10-05T04:34:41.086212",
     "status": "completed"
    },
    "tags": []
   },
   "source": [
    "# Debugging papers"
   ]
  },
  {
   "cell_type": "raw",
   "id": "debe7cc6",
   "metadata": {
    "papermill": {
     "duration": 0.011401,
     "end_time": "2022-10-05T04:34:41.119734",
     "exception": false,
     "start_time": "2022-10-05T04:34:41.108333",
     "status": "completed"
    },
    "tags": []
   },
   "source": [
    "raise NotImplementedError(\"Manual Stop\")"
   ]
  },
  {
   "cell_type": "raw",
   "id": "eb169192",
   "metadata": {
    "papermill": {
     "duration": 0.011141,
     "end_time": "2022-10-05T04:34:41.178465",
     "exception": false,
     "start_time": "2022-10-05T04:34:41.167324",
     "status": "completed"
    },
    "scrolled": true,
    "tags": []
   },
   "source": [
    "from IPython.display import display, Markdown\n",
    "from TexSoup import TexSoup\n",
    "import re\n",
    "\n",
    "def bracket_error(source: str):\n",
    "    \"\"\" Find problematic portions of the document \"\"\"\n",
    "    \n",
    "    print(\"len(source)\", len(source))\n",
    "    \n",
    "    # Checking header\n",
    "    begin_doc = next(re.finditer(r'\\\\begin\\{document\\}', doc.source)).span()[1]\n",
    "    header = source[:begin_doc]\n",
    "    text = header + r\"\\n\\end{document}\"\n",
    "\n",
    "    try:\n",
    "        # print(\"Header check... \", end='')\n",
    "        TexSoup(text)\n",
    "        display(Markdown(f\"**[OK]** - Header\"))\n",
    "    except:\n",
    "        raise RuntimeError(\"Error in the header\")\n",
    "        \n",
    "    # Check the text per section until the end.\n",
    "    # Do not stop and try them all.\n",
    "    \n",
    "    problematic_text = []\n",
    "    \n",
    "    sections = ([(0, begin_doc, 'until first section')] + \n",
    "                [(g.span()[0], g.span()[1], g.group()) for g in re.finditer(r'\\\\section\\{.*\\}', source)] +\n",
    "                [(g.span()[0], g.span()[1], g.group()) for g in re.finditer(r'\\\\begin\\{appendix\\}', source)]\n",
    "               )\n",
    "    sections.append([len(source), len(source), 'end'])\n",
    "    \n",
    "    sections = sorted(sections, key=lambda x: x[0])\n",
    "    \n",
    "    prev_pos, prev_name = (0, 'header')\n",
    "    parsed = []\n",
    "    \n",
    "    for span, span_end, name in sections:\n",
    "\n",
    "        if span - prev_pos <= 0:\n",
    "            continue\n",
    "            \n",
    "\n",
    "        text = source[prev_pos:span]\n",
    "        if prev_pos > begin_doc:\n",
    "            text = r\"\\n\\begin{document}\" + text + r\"\\n\\end{document}\"\n",
    "        else:\n",
    "            text = text + r\"\\n\\end{document}\"\n",
    "        try:\n",
    "            #print(f\"{prev_pos}:{prev_name}-->{span}:{name} check... \", end='')\n",
    "            parsed.append(TexSoup(text, tolerance=1))  # allow not ending env\n",
    "            display(Markdown(f\"**[OK]** - *{prev_pos}*:{prev_name} &rarr; *{span}*:{name}\"))\n",
    "            # print(\"ok\")\n",
    "\n",
    "            prev_pos = span\n",
    "            prev_name = name\n",
    "        except:\n",
    "            # print(f\"error between {prev_pos} and {span}\")\n",
    "            display(Markdown(f\"**[ERR]** *{prev_pos}*:{prev_name} &rarr; *{span}*:{name}\"))\n",
    "            problematic_text.append((prev_pos, source[prev_pos:span]))\n",
    "            prev_pos = span\n",
    "            prev_name = name\n",
    "            # raise\n",
    "    return problematic_text, parsed\n",
    "\n",
    "\n",
    "def check_environment(text, offset=0):\n",
    "    \"\"\" Check environment \"\"\"\n",
    "    env = re.compile(r\"\\\\begin\\{(?P<env>.*)\\}(.*)\\\\end\\{(?P=env)\\}\", re.DOTALL)\n",
    "\n",
    "    for match in env.finditer(text):\n",
    "        beg, end = match.span()\n",
    "        beg += offset\n",
    "        end += offset\n",
    "        envname = match.groups()[0]\n",
    "        try:\n",
    "            latex.TexSoup(match.group())\n",
    "        except Exception as e:\n",
    "            display(e)\n",
    "            print(f\"Error in {envname:s} between {beg} and {end}\")\n",
    "            return match.groups()[1], beg, end"
   ]
  },
  {
   "cell_type": "raw",
   "id": "2315e835",
   "metadata": {
    "papermill": {
     "duration": 0.01097,
     "end_time": "2022-10-05T04:34:41.200552",
     "exception": false,
     "start_time": "2022-10-05T04:34:41.189582",
     "status": "completed"
    },
    "scrolled": false,
    "tags": []
   },
   "source": [
    "import importlib\n",
    "importlib.reload(latex)\n",
    "which = \"2204.03253\"\n",
    "paper_id = f'{which:s}'\n",
    "folder = f'tmp_{paper_id:s}'\n",
    "\n",
    "if not os.path.isdir(folder):\n",
    "    folder = retrieve_document_source(f\"{paper_id}\", f'tmp_{paper_id}')\n",
    "\n",
    "try:\n",
    "    doc = latex.LatexDocument(folder, validation=validation)    \n",
    "except AffiliationError as affilerror:\n",
    "    msg = f\"ArXiv:{paper_id:s} is not an MPIA paper... \" + str(affilerror)\n",
    "    print(msg)\n",
    "\n",
    "\n",
    "# Hack because sometimes author parsing does not work well\n",
    "if (len(doc.authors) != len(paper['authors'])):\n",
    "    doc._authors = paper['authors']\n",
    "if (doc.abstract) in (None, ''):\n",
    "    doc._abstract = paper['abstract']\n",
    "\n",
    "doc.comment = get_markdown_badge(paper_id) + \" _\" + paper['comments'] + \"_\"\n",
    "doc.highlight_authors_in_list(hl_list)\n",
    "\n",
    "full_md = doc.generate_markdown_text()"
   ]
  },
  {
   "cell_type": "raw",
   "id": "dd3781db",
   "metadata": {
    "papermill": {
     "duration": 0.011068,
     "end_time": "2022-10-05T04:34:41.222630",
     "exception": false,
     "start_time": "2022-10-05T04:34:41.211562",
     "status": "completed"
    },
    "scrolled": false,
    "tags": []
   },
   "source": [
    "doc"
   ]
  },
  {
   "cell_type": "raw",
   "id": "c6eed834",
   "metadata": {
    "papermill": {
     "duration": 0.010978,
     "end_time": "2022-10-05T04:34:41.244543",
     "exception": false,
     "start_time": "2022-10-05T04:34:41.233565",
     "status": "completed"
    },
    "tags": []
   },
   "source": [
    "# [check_environment(k) for k in bracket_error(doc.source)]\n",
    "_, _, a = latex.get_content_per_section(doc.source, verbose=True)\n",
    "if not a:\n",
    "    print(\"no issues per section\")\n",
    "for ak in a:\n",
    "    r = check_environment(ak[1], offset=ak[0])\n",
    "    print(r[1], r[2])\n",
    "    print(r[0])"
   ]
  },
  {
   "cell_type": "code",
   "execution_count": null,
   "id": "71ce768a",
   "metadata": {
    "papermill": {
     "duration": 0.011025,
     "end_time": "2022-10-05T04:34:41.266453",
     "exception": false,
     "start_time": "2022-10-05T04:34:41.255428",
     "status": "completed"
    },
    "tags": []
   },
   "outputs": [],
   "source": []
  }
 ],
 "metadata": {
  "kernelspec": {
   "display_name": "Python 3.10.6 64-bit",
   "language": "python",
   "name": "python3"
  },
  "language_info": {
   "codemirror_mode": {
    "name": "ipython",
    "version": 3
   },
   "file_extension": ".py",
   "mimetype": "text/x-python",
   "name": "python",
   "nbconvert_exporter": "python",
   "pygments_lexer": "ipython3",
   "version": "3.9.14"
  },
  "papermill": {
   "default_parameters": {},
   "duration": 97.007949,
   "end_time": "2022-10-05T04:34:41.496946",
   "environment_variables": {},
   "exception": null,
   "input_path": "MPIA daily digest.ipynb",
   "output_path": "log.ipynb",
   "parameters": {},
   "start_time": "2022-10-05T04:33:04.488997",
   "version": "2.4.0"
  },
  "vscode": {
   "interpreter": {
    "hash": "e7370f93d1d0cde622a1f8e1c04877d8463912d04d973331ad4851f04de6915a"
   }
  },
  "widgets": {
   "application/vnd.jupyter.widget-state+json": {
    "state": {
     "3d7b85a4f45e4f4692278eae60c8d7ec": {
      "model_module": "@jupyter-widgets/base",
      "model_module_version": "2.0.0",
      "model_name": "LayoutModel",
      "state": {
       "_model_module": "@jupyter-widgets/base",
       "_model_module_version": "2.0.0",
       "_model_name": "LayoutModel",
       "_view_count": null,
       "_view_module": "@jupyter-widgets/base",
       "_view_module_version": "2.0.0",
       "_view_name": "LayoutView",
       "align_content": null,
       "align_items": null,
       "align_self": null,
       "border_bottom": null,
       "border_left": null,
       "border_right": null,
       "border_top": null,
       "bottom": null,
       "display": null,
       "flex": null,
       "flex_flow": null,
       "grid_area": null,
       "grid_auto_columns": null,
       "grid_auto_flow": null,
       "grid_auto_rows": null,
       "grid_column": null,
       "grid_gap": null,
       "grid_row": null,
       "grid_template_areas": null,
       "grid_template_columns": null,
       "grid_template_rows": null,
       "height": null,
       "justify_content": null,
       "justify_items": null,
       "left": null,
       "margin": null,
       "max_height": null,
       "max_width": null,
       "min_height": null,
       "min_width": null,
       "object_fit": null,
       "object_position": null,
       "order": null,
       "overflow": null,
       "padding": null,
       "right": null,
       "top": null,
       "visibility": null,
       "width": null
      }
     },
     "6015cbc441c6439c916c2673a50c7eb4": {
      "model_module": "@jupyter-widgets/controls",
      "model_module_version": "2.0.0",
      "model_name": "HTMLStyleModel",
      "state": {
       "_model_module": "@jupyter-widgets/controls",
       "_model_module_version": "2.0.0",
       "_model_name": "HTMLStyleModel",
       "_view_count": null,
       "_view_module": "@jupyter-widgets/base",
       "_view_module_version": "2.0.0",
       "_view_name": "StyleView",
       "background": null,
       "description_width": "",
       "font_size": null,
       "text_color": null
      }
     },
     "71c4164bc6254d359946a3958066e747": {
      "model_module": "@jupyter-widgets/controls",
      "model_module_version": "2.0.0",
      "model_name": "FloatProgressModel",
      "state": {
       "_dom_classes": [],
       "_model_module": "@jupyter-widgets/controls",
       "_model_module_version": "2.0.0",
       "_model_name": "FloatProgressModel",
       "_view_count": null,
       "_view_module": "@jupyter-widgets/controls",
       "_view_module_version": "2.0.0",
       "_view_name": "ProgressView",
       "bar_style": "success",
       "description": "",
       "description_allow_html": false,
       "layout": "IPY_MODEL_9b5edc00d21241ee853875569779e88d",
       "max": 20.0,
       "min": 0.0,
       "orientation": "horizontal",
       "style": "IPY_MODEL_8aba65071ce6489a8e5da54f74aff1c2",
       "tabbable": null,
       "tooltip": null,
       "value": 20.0
      }
     },
     "75901650391d4d4cbc290552117af950": {
      "model_module": "@jupyter-widgets/controls",
      "model_module_version": "2.0.0",
      "model_name": "HTMLStyleModel",
      "state": {
       "_model_module": "@jupyter-widgets/controls",
       "_model_module_version": "2.0.0",
       "_model_name": "HTMLStyleModel",
       "_view_count": null,
       "_view_module": "@jupyter-widgets/base",
       "_view_module_version": "2.0.0",
       "_view_name": "StyleView",
       "background": null,
       "description_width": "",
       "font_size": null,
       "text_color": null
      }
     },
     "78a6e6583ecb40bb81ba1b2d5a34ee2c": {
      "model_module": "@jupyter-widgets/base",
      "model_module_version": "2.0.0",
      "model_name": "LayoutModel",
      "state": {
       "_model_module": "@jupyter-widgets/base",
       "_model_module_version": "2.0.0",
       "_model_name": "LayoutModel",
       "_view_count": null,
       "_view_module": "@jupyter-widgets/base",
       "_view_module_version": "2.0.0",
       "_view_name": "LayoutView",
       "align_content": null,
       "align_items": null,
       "align_self": null,
       "border_bottom": null,
       "border_left": null,
       "border_right": null,
       "border_top": null,
       "bottom": null,
       "display": null,
       "flex": null,
       "flex_flow": null,
       "grid_area": null,
       "grid_auto_columns": null,
       "grid_auto_flow": null,
       "grid_auto_rows": null,
       "grid_column": null,
       "grid_gap": null,
       "grid_row": null,
       "grid_template_areas": null,
       "grid_template_columns": null,
       "grid_template_rows": null,
       "height": null,
       "justify_content": null,
       "justify_items": null,
       "left": null,
       "margin": null,
       "max_height": null,
       "max_width": null,
       "min_height": null,
       "min_width": null,
       "object_fit": null,
       "object_position": null,
       "order": null,
       "overflow": null,
       "padding": null,
       "right": null,
       "top": null,
       "visibility": null,
       "width": null
      }
     },
     "8860d0430c23421c8b46dcacf537abe3": {
      "model_module": "@jupyter-widgets/controls",
      "model_module_version": "2.0.0",
      "model_name": "HTMLModel",
      "state": {
       "_dom_classes": [],
       "_model_module": "@jupyter-widgets/controls",
       "_model_module_version": "2.0.0",
       "_model_name": "HTMLModel",
       "_view_count": null,
       "_view_module": "@jupyter-widgets/controls",
       "_view_module_version": "2.0.0",
       "_view_name": "HTMLView",
       "description": "",
       "description_allow_html": false,
       "layout": "IPY_MODEL_cd18f27378514d678c44f7615fd78780",
       "placeholder": "​",
       "style": "IPY_MODEL_6015cbc441c6439c916c2673a50c7eb4",
       "tabbable": null,
       "tooltip": null,
       "value": " 20/20 [01:08&lt;00:00,  3.33s/it]"
      }
     },
     "8aba65071ce6489a8e5da54f74aff1c2": {
      "model_module": "@jupyter-widgets/controls",
      "model_module_version": "2.0.0",
      "model_name": "ProgressStyleModel",
      "state": {
       "_model_module": "@jupyter-widgets/controls",
       "_model_module_version": "2.0.0",
       "_model_name": "ProgressStyleModel",
       "_view_count": null,
       "_view_module": "@jupyter-widgets/base",
       "_view_module_version": "2.0.0",
       "_view_name": "StyleView",
       "bar_color": null,
       "description_width": ""
      }
     },
     "9b5edc00d21241ee853875569779e88d": {
      "model_module": "@jupyter-widgets/base",
      "model_module_version": "2.0.0",
      "model_name": "LayoutModel",
      "state": {
       "_model_module": "@jupyter-widgets/base",
       "_model_module_version": "2.0.0",
       "_model_name": "LayoutModel",
       "_view_count": null,
       "_view_module": "@jupyter-widgets/base",
       "_view_module_version": "2.0.0",
       "_view_name": "LayoutView",
       "align_content": null,
       "align_items": null,
       "align_self": null,
       "border_bottom": null,
       "border_left": null,
       "border_right": null,
       "border_top": null,
       "bottom": null,
       "display": null,
       "flex": null,
       "flex_flow": null,
       "grid_area": null,
       "grid_auto_columns": null,
       "grid_auto_flow": null,
       "grid_auto_rows": null,
       "grid_column": null,
       "grid_gap": null,
       "grid_row": null,
       "grid_template_areas": null,
       "grid_template_columns": null,
       "grid_template_rows": null,
       "height": null,
       "justify_content": null,
       "justify_items": null,
       "left": null,
       "margin": null,
       "max_height": null,
       "max_width": null,
       "min_height": null,
       "min_width": null,
       "object_fit": null,
       "object_position": null,
       "order": null,
       "overflow": null,
       "padding": null,
       "right": null,
       "top": null,
       "visibility": null,
       "width": null
      }
     },
     "cd18f27378514d678c44f7615fd78780": {
      "model_module": "@jupyter-widgets/base",
      "model_module_version": "2.0.0",
      "model_name": "LayoutModel",
      "state": {
       "_model_module": "@jupyter-widgets/base",
       "_model_module_version": "2.0.0",
       "_model_name": "LayoutModel",
       "_view_count": null,
       "_view_module": "@jupyter-widgets/base",
       "_view_module_version": "2.0.0",
       "_view_name": "LayoutView",
       "align_content": null,
       "align_items": null,
       "align_self": null,
       "border_bottom": null,
       "border_left": null,
       "border_right": null,
       "border_top": null,
       "bottom": null,
       "display": null,
       "flex": null,
       "flex_flow": null,
       "grid_area": null,
       "grid_auto_columns": null,
       "grid_auto_flow": null,
       "grid_auto_rows": null,
       "grid_column": null,
       "grid_gap": null,
       "grid_row": null,
       "grid_template_areas": null,
       "grid_template_columns": null,
       "grid_template_rows": null,
       "height": null,
       "justify_content": null,
       "justify_items": null,
       "left": null,
       "margin": null,
       "max_height": null,
       "max_width": null,
       "min_height": null,
       "min_width": null,
       "object_fit": null,
       "object_position": null,
       "order": null,
       "overflow": null,
       "padding": null,
       "right": null,
       "top": null,
       "visibility": null,
       "width": null
      }
     },
     "edcbad7d1a0847d7bc8f0f608b16d5b4": {
      "model_module": "@jupyter-widgets/controls",
      "model_module_version": "2.0.0",
      "model_name": "HTMLModel",
      "state": {
       "_dom_classes": [],
       "_model_module": "@jupyter-widgets/controls",
       "_model_module_version": "2.0.0",
       "_model_name": "HTMLModel",
       "_view_count": null,
       "_view_module": "@jupyter-widgets/controls",
       "_view_module_version": "2.0.0",
       "_view_name": "HTMLView",
       "description": "",
       "description_allow_html": false,
       "layout": "IPY_MODEL_3d7b85a4f45e4f4692278eae60c8d7ec",
       "placeholder": "​",
       "style": "IPY_MODEL_75901650391d4d4cbc290552117af950",
       "tabbable": null,
       "tooltip": null,
       "value": "100%"
      }
     },
     "fcca4fc4ba8d4230b5b85e6d56d56efc": {
      "model_module": "@jupyter-widgets/controls",
      "model_module_version": "2.0.0",
      "model_name": "HBoxModel",
      "state": {
       "_dom_classes": [],
       "_model_module": "@jupyter-widgets/controls",
       "_model_module_version": "2.0.0",
       "_model_name": "HBoxModel",
       "_view_count": null,
       "_view_module": "@jupyter-widgets/controls",
       "_view_module_version": "2.0.0",
       "_view_name": "HBoxView",
       "box_style": "",
       "children": [
        "IPY_MODEL_edcbad7d1a0847d7bc8f0f608b16d5b4",
        "IPY_MODEL_71c4164bc6254d359946a3958066e747",
        "IPY_MODEL_8860d0430c23421c8b46dcacf537abe3"
       ],
       "layout": "IPY_MODEL_78a6e6583ecb40bb81ba1b2d5a34ee2c",
       "tabbable": null,
       "tooltip": null
      }
     }
    },
    "version_major": 2,
    "version_minor": 0
   }
  }
 },
 "nbformat": 4,
 "nbformat_minor": 5
}