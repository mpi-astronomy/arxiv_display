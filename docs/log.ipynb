{
 "cells": [
  {
   "cell_type": "markdown",
   "id": "92bcb855",
   "metadata": {
    "papermill": {
     "duration": 0.005709,
     "end_time": "2022-10-26T04:41:49.482196",
     "exception": false,
     "start_time": "2022-10-26T04:41:49.476487",
     "status": "completed"
    },
    "tags": []
   },
   "source": [
    "# MPIA Arxiv on Deck 2\n",
    "\n",
    "Contains the steps to produce the paper extractions."
   ]
  },
  {
   "cell_type": "code",
   "execution_count": 1,
   "id": "3a0d6e11",
   "metadata": {
    "execution": {
     "iopub.execute_input": "2022-10-26T04:41:49.492068Z",
     "iopub.status.busy": "2022-10-26T04:41:49.491550Z",
     "iopub.status.idle": "2022-10-26T04:41:49.664742Z",
     "shell.execute_reply": "2022-10-26T04:41:49.664062Z"
    },
    "papermill": {
     "duration": 0.180373,
     "end_time": "2022-10-26T04:41:49.666842",
     "exception": false,
     "start_time": "2022-10-26T04:41:49.486469",
     "status": "completed"
    },
    "tags": []
   },
   "outputs": [],
   "source": [
    "# Imports\n",
    "import os\n",
    "from IPython.display import Markdown, display\n",
    "from tqdm.notebook import tqdm\n",
    "import warnings\n",
    "from PIL import Image \n",
    "\n",
    "# requires arxiv_on_deck_2\n",
    "\n",
    "from arxiv_on_deck_2.arxiv2 import (get_new_papers, \n",
    "                                    get_paper_from_identifier,\n",
    "                                    retrieve_document_source, \n",
    "                                    get_markdown_badge)\n",
    "from arxiv_on_deck_2 import (latex, \n",
    "                             mpia,\n",
    "                             highlight_authors_in_list)\n",
    "\n",
    "# Sometimes images are really big\n",
    "Image.MAX_IMAGE_PIXELS = 1000000000 "
   ]
  },
  {
   "cell_type": "code",
   "execution_count": 2,
   "id": "22aa9d44",
   "metadata": {
    "execution": {
     "iopub.execute_input": "2022-10-26T04:41:49.683007Z",
     "iopub.status.busy": "2022-10-26T04:41:49.682530Z",
     "iopub.status.idle": "2022-10-26T04:41:49.688611Z",
     "shell.execute_reply": "2022-10-26T04:41:49.687904Z"
    },
    "papermill": {
     "duration": 0.019002,
     "end_time": "2022-10-26T04:41:49.690097",
     "exception": false,
     "start_time": "2022-10-26T04:41:49.671095",
     "status": "completed"
    },
    "tags": []
   },
   "outputs": [],
   "source": [
    "# Some useful definitions.\n",
    "\n",
    "class AffiliationWarning(UserWarning):\n",
    "    pass\n",
    "\n",
    "class AffiliationError(RuntimeError):\n",
    "    pass\n",
    "\n",
    "def validation(source: str):\n",
    "    \"\"\"Raises error paper during parsing of source file\n",
    "    \n",
    "    Allows checks before parsing TeX code.\n",
    "    \n",
    "    Raises AffiliationWarning\n",
    "    \"\"\"\n",
    "    check = mpia.affiliation_verifications(source, verbose=True)\n",
    "    if check is not True:\n",
    "        raise AffiliationError(\"mpia.affiliation_verifications: \" + check)\n",
    "\n",
    "        \n",
    "warnings.simplefilter('always', AffiliationWarning)"
   ]
  },
  {
   "cell_type": "code",
   "execution_count": 3,
   "id": "14622700",
   "metadata": {
    "execution": {
     "iopub.execute_input": "2022-10-26T04:41:49.700728Z",
     "iopub.status.busy": "2022-10-26T04:41:49.700285Z",
     "iopub.status.idle": "2022-10-26T04:41:49.704107Z",
     "shell.execute_reply": "2022-10-26T04:41:49.703464Z"
    },
    "papermill": {
     "duration": 0.011778,
     "end_time": "2022-10-26T04:41:49.705738",
     "exception": false,
     "start_time": "2022-10-26T04:41:49.693960",
     "status": "completed"
    },
    "tags": []
   },
   "outputs": [],
   "source": [
    "# additional CSS to consider. \n",
    "# TODO: Current into each exported file. \n",
    "#       This should be set once into the webpages directly.\n",
    "#       With only the class/id definitions in the .md files.\n",
    "\n",
    "debug_html = \"\"\"\n",
    "<style>\n",
    "#wrap{ overflow:auto; }\n",
    "#fig1{ background:yellow; width:100%; float:left; padding:5px;  }\n",
    "#fig2{ background:red; width:50%; float:left; clear:left; padding:5px;  }\n",
    "#fig3{ background:green; width:50%; float:left; padding:5px;   }\n",
    ".macros{ background:yellow; visibility:visible;}\n",
    "h1 {margin: 0 0 0 0;}\n",
    "mark {background-color:#fff3b6;}\n",
    "img {object-fit:contain; max-height:250px; display:inline-block; text-align: center;}\n",
    "</style>\n",
    "\"\"\" \n",
    "html = \"\"\"\n",
    "<style>\n",
    "#wrap{ overflow:auto; }\n",
    "#fig1{ width:100%; float:left; padding: 5px;  }\n",
    "#fig2{ width:50%; float:left; clear:left; padding: 5px;  }\n",
    "#fig3{ width:50%; float:left; padding: 5px;  }\n",
    ".macros{ visibility:hidden; height:0px; }\n",
    "h1 {margin: 0em 0 0 0;}\n",
    "mark {background-color:#fff3b6;}\n",
    "img {object-fit:contain; max-height:250px; display:inline-block; text-align: center;}\n",
    "</style>\n",
    "\"\"\""
   ]
  },
  {
   "cell_type": "markdown",
   "id": "14bd6310",
   "metadata": {
    "papermill": {
     "duration": 0.003929,
     "end_time": "2022-10-26T04:41:49.713486",
     "exception": false,
     "start_time": "2022-10-26T04:41:49.709557",
     "status": "completed"
    },
    "tags": []
   },
   "source": [
    "## get list of arxiv paper candidates\n",
    "\n",
    "We use the MPIA mitarbeiter list webpage from mpia.de to get author names\n",
    "We then get all new papers from Arxiv and match authors"
   ]
  },
  {
   "cell_type": "code",
   "execution_count": 4,
   "id": "2645e73a",
   "metadata": {
    "execution": {
     "iopub.execute_input": "2022-10-26T04:41:49.722380Z",
     "iopub.status.busy": "2022-10-26T04:41:49.722161Z",
     "iopub.status.idle": "2022-10-26T04:42:13.455901Z",
     "shell.execute_reply": "2022-10-26T04:42:13.455301Z"
    },
    "papermill": {
     "duration": 23.740245,
     "end_time": "2022-10-26T04:42:13.457631",
     "exception": false,
     "start_time": "2022-10-26T04:41:49.717386",
     "status": "completed"
    },
    "tags": []
   },
   "outputs": [
    {
     "name": "stdout",
     "output_type": "stream",
     "text": [
      "Arxiv has 62 new papers today\n",
      "          23 with possible author matches\n"
     ]
    }
   ],
   "source": [
    "# get list from MPIA website\n",
    "# it automatically filters identified non-scientists :func:`mpia.filter_non_scientists`\n",
    "mpia_authors = mpia.get_mpia_mitarbeiter_list()\n",
    "new_papers = get_new_papers()\n",
    "# add manual references\n",
    "add_paper_refs = []\n",
    "new_papers.extend([get_paper_from_identifier(k) for k in add_paper_refs])\n",
    "\n",
    "# select only papers with matching author names and highlight authors\n",
    "hl_list = [k[0] for k in mpia_authors]\n",
    "\n",
    "candidates = []\n",
    "for paperk in new_papers:\n",
    "    hl_authors = highlight_authors_in_list(paperk['authors'], hl_list)\n",
    "    matches = [(hl, orig) for hl, orig in zip(hl_authors, paperk['authors']) if 'mark' in hl]\n",
    "    paperk['authors'] = hl_authors\n",
    "    if matches:\n",
    "        candidates.append(paperk)\n",
    "print(\"\"\"Arxiv has {0:,d} new papers today\"\"\".format(len(new_papers)))        \n",
    "print(\"\"\"          {0:,d} with possible author matches\"\"\".format(len(candidates)))"
   ]
  },
  {
   "cell_type": "markdown",
   "id": "3543b34a",
   "metadata": {
    "papermill": {
     "duration": 0.004433,
     "end_time": "2022-10-26T04:42:13.466493",
     "exception": false,
     "start_time": "2022-10-26T04:42:13.462060",
     "status": "completed"
    },
    "tags": []
   },
   "source": [
    "# Parse sources and generate relevant outputs\n",
    "\n",
    "From the candidates, we do the following steps:\n",
    "* get their tarball from ArXiv (and extract data)\n",
    "* find the main .tex file: find one with \\documentclass{...} (sometimes it's non trivial)\n",
    "* Check affiliations with :func:`validation`, which uses :func:`mpia.affiliation_verifications`\n",
    "* If passing the affiliations: we parse the .tex source\n",
    "   * inject sub-documents into the main (flatten the main document)\n",
    "   * parse structure, extract information (title, abstract, authors, figures...)\n",
    "   * handles `\\graphicspath` if provided\n",
    "* Generate the .md document."
   ]
  },
  {
   "cell_type": "code",
   "execution_count": 5,
   "id": "9576b79e",
   "metadata": {
    "execution": {
     "iopub.execute_input": "2022-10-26T04:42:13.476448Z",
     "iopub.status.busy": "2022-10-26T04:42:13.475788Z",
     "iopub.status.idle": "2022-10-26T04:42:37.916507Z",
     "shell.execute_reply": "2022-10-26T04:42:37.915860Z"
    },
    "papermill": {
     "duration": 24.448104,
     "end_time": "2022-10-26T04:42:37.918596",
     "exception": false,
     "start_time": "2022-10-26T04:42:13.470492",
     "status": "completed"
    },
    "scrolled": false,
    "tags": []
   },
   "outputs": [
    {
     "data": {
      "application/vnd.jupyter.widget-view+json": {
       "model_id": "561ac08ebe3c4972984544b589fad651",
       "version_major": 2,
       "version_minor": 0
      },
      "text/plain": [
       "  0%|          | 0/22 [00:00<?, ?it/s]"
      ]
     },
     "metadata": {},
     "output_type": "display_data"
    },
    {
     "name": "stdout",
     "output_type": "stream",
     "text": [
      "Retrieving document from  https://arxiv.org/e-print/2210.13472\n"
     ]
    },
    {
     "name": "stdout",
     "output_type": "stream",
     "text": [
      "extracting tarball to tmp_2210.13472..."
     ]
    },
    {
     "name": "stdout",
     "output_type": "stream",
     "text": [
      " done.\n",
      "Retrieving document from  https://arxiv.org/e-print/2210.13483\n"
     ]
    },
    {
     "name": "stdout",
     "output_type": "stream",
     "text": [
      "extracting tarball to tmp_2210.13483... done.\n",
      "Retrieving document from  https://arxiv.org/e-print/2210.13489\n"
     ]
    },
    {
     "name": "stdout",
     "output_type": "stream",
     "text": [
      "extracting tarball to tmp_2210.13489..."
     ]
    },
    {
     "name": "stdout",
     "output_type": "stream",
     "text": [
      " done.\n",
      "Retrieving document from  https://arxiv.org/e-print/2210.13492\n"
     ]
    },
    {
     "name": "stdout",
     "output_type": "stream",
     "text": [
      "extracting tarball to tmp_2210.13492..."
     ]
    },
    {
     "name": "stdout",
     "output_type": "stream",
     "text": [
      " done.\n",
      "Retrieving document from  https://arxiv.org/e-print/2210.13506\n"
     ]
    },
    {
     "name": "stdout",
     "output_type": "stream",
     "text": [
      "extracting tarball to tmp_2210.13506... done.\n",
      "Retrieving document from  https://arxiv.org/e-print/2210.13511\n"
     ]
    },
    {
     "name": "stdout",
     "output_type": "stream",
     "text": [
      "extracting tarball to tmp_2210.13511..."
     ]
    },
    {
     "name": "stdout",
     "output_type": "stream",
     "text": [
      " done.\n",
      "Retrieving document from  https://arxiv.org/e-print/2210.13519\n"
     ]
    },
    {
     "name": "stdout",
     "output_type": "stream",
     "text": [
      "extracting tarball to tmp_2210.13519... done.\n",
      "Retrieving document from  https://arxiv.org/e-print/2210.13614\n"
     ]
    },
    {
     "name": "stdout",
     "output_type": "stream",
     "text": [
      "extracting tarball to tmp_2210.13614..."
     ]
    },
    {
     "name": "stdout",
     "output_type": "stream",
     "text": [
      " done.\n",
      "Retrieving document from  https://arxiv.org/e-print/2210.13615\n"
     ]
    },
    {
     "name": "stdout",
     "output_type": "stream",
     "text": [
      "extracting tarball to tmp_2210.13615..."
     ]
    },
    {
     "name": "stdout",
     "output_type": "stream",
     "text": [
      " done.\n",
      "Retrieving document from  https://arxiv.org/e-print/2210.13696\n"
     ]
    },
    {
     "name": "stdout",
     "output_type": "stream",
     "text": [
      "extracting tarball to tmp_2210.13696..."
     ]
    },
    {
     "name": "stdout",
     "output_type": "stream",
     "text": [
      " done.\n",
      "Retrieving document from  https://arxiv.org/e-print/2210.13717\n"
     ]
    },
    {
     "name": "stderr",
     "output_type": "stream",
     "text": [
      "/opt/hostedtoolcache/Python/3.9.15/x64/lib/python3.9/site-packages/IPython/core/interactiveshell.py:3378: LatexWarning: Multiple tex files.\n",
      "\n",
      "  exec(code_obj, self.user_global_ns, self.user_ns)\n",
      "/opt/hostedtoolcache/Python/3.9.15/x64/lib/python3.9/site-packages/IPython/core/interactiveshell.py:3378: LatexWarning: Found documentclass in tmp_2210.13696/DEVILSFundamentalPlane.tex\n",
      "\n",
      "  exec(code_obj, self.user_global_ns, self.user_ns)\n"
     ]
    },
    {
     "name": "stdout",
     "output_type": "stream",
     "text": [
      "extracting tarball to tmp_2210.13717... done.\n",
      "Retrieving document from  https://arxiv.org/e-print/2210.13775\n"
     ]
    },
    {
     "name": "stdout",
     "output_type": "stream",
     "text": [
      "extracting tarball to tmp_2210.13775..."
     ]
    },
    {
     "name": "stdout",
     "output_type": "stream",
     "text": [
      " done.\n",
      "Retrieving document from  https://arxiv.org/e-print/2210.13860\n"
     ]
    },
    {
     "name": "stderr",
     "output_type": "stream",
     "text": [
      "/opt/hostedtoolcache/Python/3.9.15/x64/lib/python3.9/site-packages/IPython/core/interactiveshell.py:3378: LatexWarning: Multiple tex files.\n",
      "\n",
      "  exec(code_obj, self.user_global_ns, self.user_ns)\n",
      "/opt/hostedtoolcache/Python/3.9.15/x64/lib/python3.9/site-packages/IPython/core/interactiveshell.py:3378: LatexWarning: Found documentclass in tmp_2210.13775/ms.tex\n",
      "\n",
      "  exec(code_obj, self.user_global_ns, self.user_ns)\n",
      "/opt/hostedtoolcache/Python/3.9.15/x64/lib/python3.9/site-packages/arxiv_on_deck_2/latex.py:292: LatexWarning: Latex injecting: 'prolonged_table' from 'tmp_2210.13775/prolonged_table.tex'\n",
      "  warnings.warn(LatexWarning(f\"Latex injecting: '{ext}' from '{subsource}'\"))\n"
     ]
    },
    {
     "name": "stdout",
     "output_type": "stream",
     "text": [
      "extracting tarball to tmp_2210.13860..."
     ]
    },
    {
     "name": "stdout",
     "output_type": "stream",
     "text": [
      " done.\n",
      "Retrieving document from  https://arxiv.org/e-print/2210.13866\n"
     ]
    },
    {
     "name": "stderr",
     "output_type": "stream",
     "text": [
      "/tmp/ipykernel_2393/4030337529.py:34: LatexWarning: 2210.13866 did not run properly\n",
      "not a gzip file\n",
      "  warnings.warn(latex.LatexWarning(f\"{paper_id:s} did not run properly\\n\" +\n"
     ]
    },
    {
     "name": "stdout",
     "output_type": "stream",
     "text": [
      "Retrieving document from  https://arxiv.org/e-print/2210.13894\n"
     ]
    },
    {
     "name": "stdout",
     "output_type": "stream",
     "text": [
      "extracting tarball to tmp_2210.13894..."
     ]
    },
    {
     "name": "stdout",
     "output_type": "stream",
     "text": [
      " done.\n",
      "Retrieving document from  https://arxiv.org/e-print/2210.13939\n"
     ]
    },
    {
     "name": "stdout",
     "output_type": "stream",
     "text": [
      "extracting tarball to tmp_2210.13939..."
     ]
    },
    {
     "name": "stdout",
     "output_type": "stream",
     "text": [
      " done.\n",
      "Retrieving document from  https://arxiv.org/e-print/2210.14052\n"
     ]
    },
    {
     "name": "stdout",
     "output_type": "stream",
     "text": [
      "extracting tarball to tmp_2210.14052..."
     ]
    },
    {
     "name": "stdout",
     "output_type": "stream",
     "text": [
      " done.\n",
      "Retrieving document from  https://arxiv.org/e-print/2210.14076\n"
     ]
    },
    {
     "name": "stdout",
     "output_type": "stream",
     "text": [
      "extracting tarball to tmp_2210.14076..."
     ]
    },
    {
     "name": "stdout",
     "output_type": "stream",
     "text": [
      " done.\n",
      "Retrieving document from  https://arxiv.org/e-print/2210.14089\n"
     ]
    },
    {
     "name": "stderr",
     "output_type": "stream",
     "text": [
      "/opt/hostedtoolcache/Python/3.9.15/x64/lib/python3.9/site-packages/IPython/core/interactiveshell.py:3378: LatexWarning: Multiple tex files.\n",
      "\n",
      "  exec(code_obj, self.user_global_ns, self.user_ns)\n",
      "/opt/hostedtoolcache/Python/3.9.15/x64/lib/python3.9/site-packages/IPython/core/interactiveshell.py:3378: LatexWarning: Found documentclass in tmp_2210.14076/17hcc_arXiv_revision.tex\n",
      "\n",
      "  exec(code_obj, self.user_global_ns, self.user_ns)\n",
      "/opt/hostedtoolcache/Python/3.9.15/x64/lib/python3.9/site-packages/arxiv_on_deck_2/latex.py:292: LatexWarning: Latex injecting: 'tables/comp_objects.tex' from 'tmp_2210.14076/tables/comp_objects.tex'\n",
      "  warnings.warn(LatexWarning(f\"Latex injecting: '{ext}' from '{subsource}'\"))\n",
      "/opt/hostedtoolcache/Python/3.9.15/x64/lib/python3.9/site-packages/arxiv_on_deck_2/latex.py:292: LatexWarning: Latex injecting: 'tables/spectra_log.tex' from 'tmp_2210.14076/tables/spectra_log.tex'\n",
      "  warnings.warn(LatexWarning(f\"Latex injecting: '{ext}' from '{subsource}'\"))\n",
      "/opt/hostedtoolcache/Python/3.9.15/x64/lib/python3.9/site-packages/arxiv_on_deck_2/latex.py:292: LatexWarning: Latex injecting: 'tables/photometry_log.tex' from 'tmp_2210.14076/tables/photometry_log.tex'\n",
      "  warnings.warn(LatexWarning(f\"Latex injecting: '{ext}' from '{subsource}'\"))\n"
     ]
    },
    {
     "name": "stdout",
     "output_type": "stream",
     "text": [
      "extracting tarball to tmp_2210.14089..."
     ]
    },
    {
     "name": "stdout",
     "output_type": "stream",
     "text": [
      " done.\n",
      "Retrieving document from  https://arxiv.org/e-print/2210.14116\n"
     ]
    },
    {
     "name": "stdout",
     "output_type": "stream",
     "text": [
      "extracting tarball to tmp_2210.14116... done.\n",
      "Retrieving document from  https://arxiv.org/e-print/2210.14123\n"
     ]
    },
    {
     "name": "stdout",
     "output_type": "stream",
     "text": [
      "extracting tarball to tmp_2210.14123..."
     ]
    },
    {
     "name": "stdout",
     "output_type": "stream",
     "text": [
      " done.\n",
      "Retrieving document from  https://arxiv.org/e-print/2210.14125\n"
     ]
    },
    {
     "name": "stderr",
     "output_type": "stream",
     "text": [
      "/opt/hostedtoolcache/Python/3.9.15/x64/lib/python3.9/site-packages/IPython/core/interactiveshell.py:3378: LatexWarning: Multiple tex files.\n",
      "\n",
      "  exec(code_obj, self.user_global_ns, self.user_ns)\n",
      "/opt/hostedtoolcache/Python/3.9.15/x64/lib/python3.9/site-packages/IPython/core/interactiveshell.py:3378: LatexWarning: Found documentclass in tmp_2210.14123/main.tex\n",
      "\n",
      "  exec(code_obj, self.user_global_ns, self.user_ns)\n",
      "/opt/hostedtoolcache/Python/3.9.15/x64/lib/python3.9/site-packages/arxiv_on_deck_2/latex.py:292: LatexWarning: Latex injecting: 'clumps' from 'tmp_2210.14123/clumps.tex'\n",
      "  warnings.warn(LatexWarning(f\"Latex injecting: '{ext}' from '{subsource}'\"))\n",
      "/opt/hostedtoolcache/Python/3.9.15/x64/lib/python3.9/site-packages/arxiv_on_deck_2/latex.py:292: LatexWarning: Latex injecting: 'individual' from 'tmp_2210.14123/individual.tex'\n",
      "  warnings.warn(LatexWarning(f\"Latex injecting: '{ext}' from '{subsource}'\"))\n",
      "/opt/hostedtoolcache/Python/3.9.15/x64/lib/python3.9/site-packages/arxiv_on_deck_2/latex.py:292: LatexWarning: Latex injecting: 'properties' from 'tmp_2210.14123/properties.tex'\n",
      "  warnings.warn(LatexWarning(f\"Latex injecting: '{ext}' from '{subsource}'\"))\n",
      "/opt/hostedtoolcache/Python/3.9.15/x64/lib/python3.9/site-packages/arxiv_on_deck_2/latex.py:292: LatexWarning: Latex injecting: 'sedfitting' from 'tmp_2210.14123/sedfitting.tex'\n",
      "  warnings.warn(LatexWarning(f\"Latex injecting: '{ext}' from '{subsource}'\"))\n",
      "/opt/hostedtoolcache/Python/3.9.15/x64/lib/python3.9/site-packages/arxiv_on_deck_2/latex.py:292: LatexWarning: Latex injecting: 'photometry_individual' from 'tmp_2210.14123/photometry_individual.tex'\n",
      "  warnings.warn(LatexWarning(f\"Latex injecting: '{ext}' from '{subsource}'\"))\n",
      "/opt/hostedtoolcache/Python/3.9.15/x64/lib/python3.9/site-packages/arxiv_on_deck_2/latex.py:292: LatexWarning: Latex injecting: 'photometry' from 'tmp_2210.14123/photometry.tex'\n",
      "  warnings.warn(LatexWarning(f\"Latex injecting: '{ext}' from '{subsource}'\"))\n",
      "/opt/hostedtoolcache/Python/3.9.15/x64/lib/python3.9/site-packages/arxiv_on_deck_2/latex.py:292: LatexWarning: Latex injecting: 'recalibration' from 'tmp_2210.14123/recalibration.tex'\n",
      "  warnings.warn(LatexWarning(f\"Latex injecting: '{ext}' from '{subsource}'\"))\n",
      "/opt/hostedtoolcache/Python/3.9.15/x64/lib/python3.9/site-packages/arxiv_on_deck_2/latex.py:292: LatexWarning: Latex injecting: 'observations' from 'tmp_2210.14123/observations.tex'\n",
      "  warnings.warn(LatexWarning(f\"Latex injecting: '{ext}' from '{subsource}'\"))\n",
      "/opt/hostedtoolcache/Python/3.9.15/x64/lib/python3.9/site-packages/arxiv_on_deck_2/latex.py:292: LatexWarning: Latex injecting: 'newcommands' from 'tmp_2210.14123/newcommands.tex'\n",
      "  warnings.warn(LatexWarning(f\"Latex injecting: '{ext}' from '{subsource}'\"))\n"
     ]
    },
    {
     "name": "stdout",
     "output_type": "stream",
     "text": [
      "extracting tarball to tmp_2210.14125..."
     ]
    },
    {
     "name": "stdout",
     "output_type": "stream",
     "text": [
      " done.\n"
     ]
    }
   ],
   "source": [
    "documents = []\n",
    "failed = []\n",
    "for paper in tqdm(candidates[:-1]):\n",
    "    paper_id = paper['identifier'].lower().replace('arxiv:', '')\n",
    "    \n",
    "    folder = f'tmp_{paper_id}'\n",
    "\n",
    "    try:\n",
    "        if not os.path.isdir(folder):\n",
    "            folder = retrieve_document_source(f\"{paper_id}\", f'tmp_{paper_id}')\n",
    "        \n",
    "        try:\n",
    "            doc = latex.LatexDocument(folder, validation=validation)    \n",
    "        except AffiliationError as affilerror:\n",
    "            msg = f\"ArXiv:{paper_id:s} is not an MPIA paper... \" + str(affilerror)\n",
    "            failed.append((paper, \"affiliation error: \" + str(affilerror) ))\n",
    "            continue\n",
    "        \n",
    "        # Hack because sometimes author parsing does not work well\n",
    "        if (len(doc.authors) != len(paper['authors'])):\n",
    "            doc._authors = paper['authors']\n",
    "        if (doc.abstract) in (None, ''):\n",
    "            doc._abstract = paper['abstract']\n",
    "            \n",
    "        doc.comment = (get_markdown_badge(paper_id) + \n",
    "                       \"<mark>Appeared on: \" + paper['date'] + \"</mark> - \" +\n",
    "                       \"_\" + paper['comments'] + \"_\")\n",
    "        doc.highlight_authors_in_list(hl_list)\n",
    "\n",
    "        full_md = doc.generate_markdown_text()\n",
    "        \n",
    "        documents.append((paper_id, full_md))\n",
    "    except Exception as e:\n",
    "        warnings.warn(latex.LatexWarning(f\"{paper_id:s} did not run properly\\n\" +\n",
    "                                         str(e)\n",
    "                                        ))\n",
    "        failed.append((paper, \"latex error \" + str(e)))"
   ]
  },
  {
   "cell_type": "markdown",
   "id": "2505a25c",
   "metadata": {
    "papermill": {
     "duration": 0.006341,
     "end_time": "2022-10-26T04:42:37.931682",
     "exception": false,
     "start_time": "2022-10-26T04:42:37.925341",
     "status": "completed"
    },
    "tags": []
   },
   "source": [
    "### Export the logs\n",
    "\n",
    "Throughout, we also keep track of the logs per paper. see `logs-{today date}.md` "
   ]
  },
  {
   "cell_type": "code",
   "execution_count": 6,
   "id": "d733828a",
   "metadata": {
    "execution": {
     "iopub.execute_input": "2022-10-26T04:42:37.945953Z",
     "iopub.status.busy": "2022-10-26T04:42:37.945348Z",
     "iopub.status.idle": "2022-10-26T04:42:37.977733Z",
     "shell.execute_reply": "2022-10-26T04:42:37.977042Z"
    },
    "papermill": {
     "duration": 0.041354,
     "end_time": "2022-10-26T04:42:37.979289",
     "exception": false,
     "start_time": "2022-10-26T04:42:37.937935",
     "status": "completed"
    },
    "scrolled": false,
    "tags": []
   },
   "outputs": [
    {
     "data": {
      "text/markdown": [
       "## Successful papers"
      ],
      "text/plain": [
       "<IPython.core.display.Markdown object>"
      ]
     },
     "metadata": {},
     "output_type": "display_data"
    },
    {
     "data": {
      "text/markdown": [
       "## Failed papers"
      ],
      "text/plain": [
       "<IPython.core.display.Markdown object>"
      ]
     },
     "metadata": {},
     "output_type": "display_data"
    },
    {
     "data": {
      "text/markdown": [
       "\n",
       "|||\n",
       "|---:|:---|\n",
       "| [![arXiv](https://img.shields.io/badge/arXiv-arXiv:2210.13511-b31b1b.svg)](https://arxiv.org/abs/arXiv:2210.13511) | **SDSS-IV MaStar: Stellar Parameter Determination with  Continuum-Supplemented Full-Spectrum Fitting**  |\n",
       "|| Daniel Lazarz, et al. -- incl., <mark>Lewis Hill</mark> |\n",
       "|*Appeared on*| *2022-10-26*|\n",
       "|*Comments*| *22 pages, 21 figures. A&A in press*|\n",
       "|**Abstract**| We present a stellar parameter catalog built to accompany the MaStar Stellar Library, which is a comprehensive collection of empirical, medium-resolution stellar spectra. We constructed this parameter catalog by using a multicomponent $\\chi^{2}$ fitting approach to match MaStar spectra to models generated by interpolating the ATLAS9-based BOSZ model spectra. The total $\\chi^{2}$ for a given model is defined as the sum of components constructed to characterize narrow-band features of observed spectra (e.g., absorption lines) and the broadband continuum shape separately. Extinction and systematics due to flux calibration were taken into account in the fitting. The $\\chi^{2}$ distribution for a given region of model space was sampled using a Markov Chain Monte Carlo (MCMC) algorithm, the data from which were then used to extract atmospheric parameter estimates ($T_{eff}$, log g, [Fe/H], and [$\\alpha$/Fe]), their corresponding uncertainties, and direct extinction measurements. Two methods were used to extract parameters and uncertainties: one that accepts the MCMC's prescribed minimum-$\\chi^{2}$ result, and one that uses Bayesian inference to compute a likelihood-weighted mean from the $\\chi^{2}$ distribution sampled by the MCMC. Results were evaluated for internal consistency using repeat observations where available and by comparing them with external data sets (e.g., APOGEE-2 and Gaia DR2). Our spectral-fitting exercise reveals possible deficiencies in current theoretical model spectra, illustrating the potential power of MaStar spectra for helping to improve the models. This paper represents an update to the parameters that were originally presented with SDSS-IV DR17. The MaStar parameter catalog containing our BestFit results is available on the SDSS-IV DR17 website as part of version 2 of the MaStar stellar parameter value-added catalog. |\n",
       "|<p style=\"color:green\"> **ERROR** </p>| <p style=\"color:green\">affiliation error: mpia.affiliation_verifications: '69117' keyword not found.</p> |"
      ],
      "text/plain": [
       "<IPython.core.display.Markdown object>"
      ]
     },
     "metadata": {},
     "output_type": "display_data"
    },
    {
     "data": {
      "text/markdown": [
       "\n",
       "|||\n",
       "|---:|:---|\n",
       "| [![arXiv](https://img.shields.io/badge/arXiv-arXiv:2210.14076-b31b1b.svg)](https://arxiv.org/abs/arXiv:2210.14076) | **A long life of excess: The interacting transient SN 2017hcc**  |\n",
       "|| S. Moran, et al. -- incl., <mark>P.J. Brown</mark> |\n",
       "|*Appeared on*| *2022-10-26*|\n",
       "|*Comments*| *Accepted to A&A*|\n",
       "|**Abstract**| In this study we present the results of a five-year follow-up campaign of the long-lived type IIn supernova SN 2017hcc, found in a spiral dwarf host of near-solar metallicity. The long rise time (57 $\\pm$ 2 days, ATLAS $o$ band) and high luminosity (peaking at $-$20.78 $\\pm$ 0.01 mag in the ATLAS $o$ band) point towards an interaction of massive ejecta with massive and dense circumstellar material (CSM). The evolution of SN 2017hcc is slow, both spectroscopically and photometrically, reminiscent of the long-lived type IIn, SN 2010jl. An infrared (IR) excess was apparent soon after the peak, and blueshifts were noticeable in the Balmer lines starting from a few hundred days, but appeared to be fading by around +1200 days. We posit that an IR light echo from pre-existing dust dominates at early times, with some possible condensation of new dust grains occurring at epochs >$\\sim$+800 days. |\n",
       "|<p style=\"color:green\"> **ERROR** </p>| <p style=\"color:green\">affiliation error: mpia.affiliation_verifications: '69117' keyword not found.</p> |"
      ],
      "text/plain": [
       "<IPython.core.display.Markdown object>"
      ]
     },
     "metadata": {},
     "output_type": "display_data"
    },
    {
     "data": {
      "text/markdown": [
       "\n",
       "|||\n",
       "|---:|:---|\n",
       "| [![arXiv](https://img.shields.io/badge/arXiv-arXiv:2210.13472-b31b1b.svg)](https://arxiv.org/abs/arXiv:2210.13472) | **Asymmetrical tidal tails of open star clusters: stars crossing their  cluster's prah challenge Newtonian gravitation**  |\n",
       "|| Pavel Kroupa, et al. -- incl., <mark>Henri M.J. Boffin</mark> |\n",
       "|*Appeared on*| *2022-10-26*|\n",
       "|*Comments*| *28 pages, 19 figures, MNRAS, published*|\n",
       "|**Abstract**| After their birth a significant fraction of all stars pass through the tidal threshold (prah) of their cluster of origin into the classical tidal tails. The asymmetry between the number of stars in the leading and trailing tails tests gravitational theory. All five open clusters with tail data (Hyades, Praesepe, Coma Berenices, COIN-Gaia 13, NGC 752) have visibly more stars within dcl = 50 pc of their centre in their leading than their trailing tail. Using the Jerabkova-compact-convergent-point (CCP) method, the extended tails have been mapped out for four nearby 600-2000 Myr old open clusters to dcl>50 pc. These are on near-circular Galactocentric orbits, a formula for estimating the orbital eccentricity of an open cluster being derived. Applying the Phantom of Ramses code to this problem, in Newtonian gravitation the tails are near-symmetrical. In Milgromian dynamics (MOND) the asymmetry reaches the observed values for 50 < dcl/pc < 200, being maximal near peri-galacticon, and can slightly invert near apo-galacticon, and the K\\\"upper epicyclic overdensities are asymmetrically spaced. Clusters on circular orbits develop orbital eccentricity due to the asymmetrical spill-out, therewith spinning up opposite to their orbital angular momentum. This positive dynamical feedback suggests Milgromian open clusters to demise rapidly as their orbital eccentricity keeps increasing. Future work is necessary to better delineate the tidal tails around open clusters of different ages and to develop a Milgromian direct n-body code. |\n",
       "|<p style=\"color:green\"> **ERROR** </p>| <p style=\"color:green\">affiliation error: mpia.affiliation_verifications: 'Heidelberg' keyword not found.</p> |"
      ],
      "text/plain": [
       "<IPython.core.display.Markdown object>"
      ]
     },
     "metadata": {},
     "output_type": "display_data"
    },
    {
     "data": {
      "text/markdown": [
       "\n",
       "|||\n",
       "|---:|:---|\n",
       "| [![arXiv](https://img.shields.io/badge/arXiv-arXiv:2210.13483-b31b1b.svg)](https://arxiv.org/abs/arXiv:2210.13483) | **Global CD/EoR Signal Detection with a Dense Digital Beamforming Array  and Beyond**  |\n",
       "|| Junhua Gu, et al. -- incl., <mark>Quan Guo</mark>, <mark>Kuanjun Li</mark>, <mark>Tianyang Liu</mark> |\n",
       "|*Appeared on*| *2022-10-26*|\n",
       "|*Comments*| *11 pages, 8 figures, submitted to MNRAS*|\n",
       "|**Abstract**| The global neutral hydrogen 21 cm signal extracted from the all-sky averaged radio spectra is one of the signatures of the Cosmic Dawn and Epoch of Reionization (CD/EoR). The frequency-dependency of antenna beam patterns coupled with the strong foreground emission could introduce artificial spectral structures and cause false detection. A digital beamforming array could be potentially employed to form achromatic station beam patterns to overcome this problem. In this work, we discuss the method of forming achromatic beam patterns with a dense regular beamforming array to detect the global CD/EoR signal, covering topics including the array configuration, antenna weight optimization, and error estimation. We also show that based on the equivalence between a beamforming array and an interferometer, most antennas in the array can be removed by canceling redundant baselines. We present an example array design, optimize the antenna weights, and show the final array configuration by canceling redundant baselines. The performance of the example array is evaluated based on a simulation, which provides a positive indication towards the feasibility of detecting the CD/EoR signal using a dense digital beamforming array. |\n",
       "|<p style=\"color:green\"> **ERROR** </p>| <p style=\"color:green\">affiliation error: mpia.affiliation_verifications: 'Heidelberg' keyword not found.</p> |"
      ],
      "text/plain": [
       "<IPython.core.display.Markdown object>"
      ]
     },
     "metadata": {},
     "output_type": "display_data"
    },
    {
     "data": {
      "text/markdown": [
       "\n",
       "|||\n",
       "|---:|:---|\n",
       "| [![arXiv](https://img.shields.io/badge/arXiv-arXiv:2210.13489-b31b1b.svg)](https://arxiv.org/abs/arXiv:2210.13489) | **A Negative Long Lag from the Optical to the UV Continuum in Fairall 9**  |\n",
       "|| Philippe Z. Yao, et al. -- incl., <mark>Jenny E. Greene</mark>, <mark>Ashley Villar</mark> |\n",
       "|*Appeared on*| *2022-10-26*|\n",
       "|*Comments*| *24 pages, 14 figures, submitted to ApJ*|\n",
       "|**Abstract**| We report the detection of a long-timescale negative lag, where the blue bands lag the red bands, in the nearby Seyfert 1 galaxy Fairall 9. Active Galactic Nuclei (AGN) light curves show variability over a wide range of timescales. By measuring time lags between different wavelengths, the otherwise inaccessible structure and kinematics of the accretion disk can be studied. One common approach, reverberation mapping, quantifies the continuum and line lags moving outwards through the disk at the light-travel time, revealing the size and temperature profile of the disk. Inspired by numerical simulations, we expect longer lags to exist in AGN light curves that travel inward on longer timescales, tracing the accretion process itself. By analyzing AGN light curves in both temporal and frequency space, we report the detection of long-timescale lags ($\\sim -70$ days) in Fairall 9 which propagate in the opposite direction to the reverberation lag. The short continuum lag ($<10$ days) is also detected and is consistent with reverberation lags reported in the literature. When fitting the longer lag as a function of frequency with a model motivated by the thin disk model, we find that the disk scale height likely increases outward in the disk. This detection raises the exciting prospect of mapping accretion disk structures across a wide range of AGN parameters. |\n",
       "|<p style=\"color:green\"> **ERROR** </p>| <p style=\"color:green\">affiliation error: mpia.affiliation_verifications: 'Heidelberg' keyword not found.</p> |"
      ],
      "text/plain": [
       "<IPython.core.display.Markdown object>"
      ]
     },
     "metadata": {},
     "output_type": "display_data"
    },
    {
     "data": {
      "text/markdown": [
       "\n",
       "|||\n",
       "|---:|:---|\n",
       "| [![arXiv](https://img.shields.io/badge/arXiv-arXiv:2210.13492-b31b1b.svg)](https://arxiv.org/abs/arXiv:2210.13492) | **The Intermediate Polar FO Aquarii Has Not Been the Same Since Recovering  from a Series of Low States**  |\n",
       "|| Peter Garnavich, <mark>Colin Littlefield</mark>, Rebecca S. Boyle, Mark Kennedy |\n",
       "|*Appeared on*| *2022-10-26*|\n",
       "|*Comments*| *4 pages, 1 figure (in 4 parts). Accepted for publication in the RNAAS*|\n",
       "|**Abstract**| FO Aqr is a bright intermediate polar that has long displayed large amplitude photometric variations corresponding to the 20.9 min spin period of its white dwarf. Between 2016 and 2020, the system suffered a series of unprecedented low-states, but recent data shows that it has now recovered to its normal optical luminosity. We compare the light curves obtained by K2/Kepler in 2014 with photometry from the TESS mission obtained in 2021. We find that the spin pulse that had been the dominant feature of the light curve in 2014 is now weak over the second half the binary orbit and that a beat pulse is enhanced in the TESS photometry. Variations at approximately twice the spin frequency are now seen over the second half of the orbit. These photometric properties may be the new normal for FO Aqr now that its white dwarf has begun to spin down. |\n",
       "|<p style=\"color:green\"> **ERROR** </p>| <p style=\"color:green\">affiliation error: mpia.affiliation_verifications: 'Heidelberg' keyword not found.</p> |"
      ],
      "text/plain": [
       "<IPython.core.display.Markdown object>"
      ]
     },
     "metadata": {},
     "output_type": "display_data"
    },
    {
     "data": {
      "text/markdown": [
       "\n",
       "|||\n",
       "|---:|:---|\n",
       "| [![arXiv](https://img.shields.io/badge/arXiv-arXiv:2210.13506-b31b1b.svg)](https://arxiv.org/abs/arXiv:2210.13506) | **Propagation of a Strong Fast Magnetosonic Wave in the Magnetosphere of a  Neutron Star**  |\n",
       "|| Alexander Y. Chen, Yajie Yuan, <mark>Xinyu Li</mark>, <mark>Jens F. Mahlmann</mark> |\n",
       "|*Appeared on*| *2022-10-26*|\n",
       "|*Comments*| *10 pages, 3 figures, submitted to ApJ. Comments welcome!*|\n",
       "|**Abstract**| We study the propagation of a strong, low frequency, linearly polarized fast magnetosonic wave inside the magnetosphere of a neutron star. The relative strength $\\delta B/B$ of the wave grows as a function of radius before it reaches the light cylinder, and what starts as a small perturbation can grow to become nonlinear before it escapes the magnetosphere. Using first-principles Particle-in-Cell (PIC) simulations, we study in detail the evolution of the wave as it becomes nonlinear. We find that an initially sinusoidal wave becomes strongly distorted as $\\delta B/B$ approaches order unity. The wave steepens into a shock in each wavelength. The plasma particles drift into the shock and undergo coherent gyration in the rest of the wave, and subsequently become thermalized. This process quickly dissipates the energy of an FRB emitted deep within the magnetosphere of magnetar, effectively preventing GHz waves produced in the closed field line zone from escaping. This mechanism may also provide an effective way to launch shocks in the magnetosphere from kHz fast magnetosonic waves without requiring a relativistic ejecta. The resulting shock can propagate to large distances and may produce FRBs as a synchrotron maser. |\n",
       "|<p style=\"color:green\"> **ERROR** </p>| <p style=\"color:green\">affiliation error: mpia.affiliation_verifications: 'Heidelberg' keyword not found.</p> |"
      ],
      "text/plain": [
       "<IPython.core.display.Markdown object>"
      ]
     },
     "metadata": {},
     "output_type": "display_data"
    },
    {
     "data": {
      "text/markdown": [
       "\n",
       "|||\n",
       "|---:|:---|\n",
       "| [![arXiv](https://img.shields.io/badge/arXiv-arXiv:2210.13519-b31b1b.svg)](https://arxiv.org/abs/arXiv:2210.13519) | **Phosphine in the Venusian Atmosphere: A Strict Upper Limit from SOFIA  GREAT Observations**  |\n",
       "|| M. A. Cordiner, et al. -- incl., <mark>G. Liuzzi</mark> |\n",
       "|*Appeared on*| *2022-10-26*|\n",
       "|*Comments*| *Accepted for publication in Geophysical Research Letters*|\n",
       "|**Abstract**| The presence of phosphine (PH$_3$) in the atmosphere of Venus was reported by Greaves et al. (2021a), based on observations of the J=1-0 transition at 267 GHz using ground-based, millimeter-wave spectroscopy. This unexpected discovery presents a challenge for our understanding of Venus's atmosphere, and has led to a reappraisal of the possible sources and sinks of atmospheric phosphorous-bearing gases. Here we present results from a search for PH$_3$ on Venus using the GREAT instrument aboard the SOFIA aircraft, over three flights conducted in November 2021. Multiple PH$_3$ transitions were targeted at frequencies centered on 533 GHz and 1067 GHz, but no evidence for atmospheric PH$_3$ was detected. Through radiative transfer modeling, we derived a disk-averaged upper limit on the PH$_3$ abundance of 0.8 ppb in the altitude range 75-110 km, which is more stringent than previous ground-based studies. |\n",
       "|<p style=\"color:green\"> **ERROR** </p>| <p style=\"color:green\">affiliation error: mpia.affiliation_verifications: 'Heidelberg' keyword not found.</p> |"
      ],
      "text/plain": [
       "<IPython.core.display.Markdown object>"
      ]
     },
     "metadata": {},
     "output_type": "display_data"
    },
    {
     "data": {
      "text/markdown": [
       "\n",
       "|||\n",
       "|---:|:---|\n",
       "| [![arXiv](https://img.shields.io/badge/arXiv-arXiv:2210.13614-b31b1b.svg)](https://arxiv.org/abs/arXiv:2210.13614) | **An Atmospheric Retrieval of the Brown Dwarf Gliese 229B**  |\n",
       "|| Emily Calamari, et al. -- incl., <mark>Ben Burningham</mark> |\n",
       "|*Appeared on*| *2022-10-26*|\n",
       "|*Comments*| *26 pages, 8 tables, 8 figures. Accepted for publication in ApJ*|\n",
       "|**Abstract**| We present results from an atmospheric retrieval analysis of Gl 229B using the BREWSTER retrieval code. We find the best fit model to be cloud-free, consistent with the T dwarf retrieval work of Line et al. 2017, Zalesky et al. 2022 and Gonzales et al. 2020. Fundamental parameters (mass, radius, log(L_{Bol}/L_{Sun}), log(g)) determined from our model agree within 1\\sigma to SED-derived values except for T_{eff} where our retrieved T_{eff} is approximately 100 K cooler than the evolutionary model-based SED value. We find a retrieved mass of 50^{+12}_{-9} M_{Jup}, however, we also find that the observables of Gl 229B can be explained by a cloud-free model with a prior on mass at the dynamical value, 70 M_{Jup}. We are able to constrain abundances for H_2O, CO, CH_4, NH_3, Na and K and find a supersolar C/O ratio as compared to its primary, Gl 229A. We report an overall subsolar metallicity due to atmospheric oxygen depletion but find a solar [C/H], which matches that of the primary. We find that this work contributes to a growing trend in retrieval-based studies, particularly for brown dwarfs, toward supersolar C/O ratios and discuss the implications of this result on formation mechanisms, internal physical processes as well as model biases. |\n",
       "|<p style=\"color:green\"> **ERROR** </p>| <p style=\"color:green\">affiliation error: mpia.affiliation_verifications: 'Heidelberg' keyword not found.</p> |"
      ],
      "text/plain": [
       "<IPython.core.display.Markdown object>"
      ]
     },
     "metadata": {},
     "output_type": "display_data"
    },
    {
     "data": {
      "text/markdown": [
       "\n",
       "|||\n",
       "|---:|:---|\n",
       "| [![arXiv](https://img.shields.io/badge/arXiv-arXiv:2210.13615-b31b1b.svg)](https://arxiv.org/abs/arXiv:2210.13615) | **Studying the properties of compressible MHD turbulence by synchrotron  fluctuation statistics**  |\n",
       "|| Ru-Yue Wang, et al. -- incl., <mark>Jian-Fu Zhang</mark> |\n",
       "|*Appeared on*| *2022-10-26*|\n",
       "|*Comments*| *Accepted by ApJ. 15 pages, 9 figures and 1 Table*|\n",
       "|**Abstract**| We study the observable properties of compressible MHD turbulence covering different turbulence regimes, based on synthetic synchrotron observations arising from 3D MHD numerical simulations. Using the synchrotron emissivity and intensity, we first explore how the cosmic ray spectral indices affect the measurements of turbulence properties by employing normalized correlation functions. We then study how the anisotropy of synchrotron total and polarization intensities arising from three fundamental MHD modes vary with the viewing angle, i.e., the angle between the mean magnetic field and the line of sight. We employ the ratio of quadrupole moment to the monopole one (QM) for this purpose. Our numerical results demonstrate that: (1) the two-point correlation function of synchrotron statistics for the arbitrary cosmic ray spectral index is related to the special case of magnetic field index $\\gamma=2$ in agreement with the analytical formulae provided by Lazarian \\& Pogosyan (2012); (2) the anisotropy of synchrotron total and polarization intensities arising from Alfv\\'en and slow modes increases with the increase of the viewing angle, while that of fast mode remains almost unchanged with the viewing angle; (3) the analytical formulae of synchrotron intensities for studying turbulence can be applied to describing statistics of polarization intensities, and the QM can be successfully used to recover turbulence anisotropy. This study validates Lazarian \\& Pogosyan's analytical approach and opens a way to study turbulence from observations. |\n",
       "|<p style=\"color:green\"> **ERROR** </p>| <p style=\"color:green\">affiliation error: mpia.affiliation_verifications: 'Heidelberg' keyword not found.</p> |"
      ],
      "text/plain": [
       "<IPython.core.display.Markdown object>"
      ]
     },
     "metadata": {},
     "output_type": "display_data"
    },
    {
     "data": {
      "text/markdown": [
       "\n",
       "|||\n",
       "|---:|:---|\n",
       "| [![arXiv](https://img.shields.io/badge/arXiv-arXiv:2210.13696-b31b1b.svg)](https://arxiv.org/abs/arXiv:2210.13696) | **DEVILS: Cosmic evolution of SED-derived metallicities and their  connection to star-formation histories**  |\n",
       "|| Jessica E. Thorne, et al. -- incl., <mark>Luke J. M. Davies</mark> |\n",
       "|*Appeared on*| *2022-10-26*|\n",
       "|*Comments*| *25 pages, 20 figures. Accepted for publication in MNRAS*|\n",
       "|**Abstract**| Gas-phase metallicities of galaxies are typically measured through auroral or nebular emission lines, but metallicity also leaves an imprint on the overall spectral energy distribution (SED) of a galaxy and can be estimated through SED fitting. We use the ProSpect SED fitting code with a flexible parametric star formation history and an evolving metallicity history to self-consistently measure metallicities, stellar mass, and other galaxy properties for $\\sim90\\,000$ galaxies from the Deep Extragalactic VIsible Legacy Survey (DEVILS) and Galaxy and Mass Assembly (GAMA) survey. We use these to trace the evolution of the mass-metallicity relation (MZR) and show that the MZR only evolves in normalisation by $\\sim0.1\\,$dex at stellar mass $M_\\star = 10^{10.5}\\,M_\\odot$. We find no difference in the MZR between galaxies with and without SED evidence of active galactic nuclei emission at low redshifts ($z<0.3$). Our results suggest an anti-correlation between metallicity and star formation activity at fixed stellar mass for galaxies with $M_\\star > 10^{10.5}\\,M_\\odot$ for $z<0.3$. Using the star formation histories extracted using ProSpect we explore higher-order correlations of the MZR with properties of the star formation history including age, width, and shape. We find that at a given stellar mass, galaxies with higher metallicities formed most of their mass over shorter timescales, and before their peak star formation rate. This work highlights the value of exploring the connection of a galaxy's current gas-phase metallicity to its star formation history in order to understand the physical processes shaping the MZR. |\n",
       "|<p style=\"color:green\"> **ERROR** </p>| <p style=\"color:green\">affiliation error: mpia.affiliation_verifications: 'Heidelberg' keyword not found.</p> |"
      ],
      "text/plain": [
       "<IPython.core.display.Markdown object>"
      ]
     },
     "metadata": {},
     "output_type": "display_data"
    },
    {
     "data": {
      "text/markdown": [
       "\n",
       "|||\n",
       "|---:|:---|\n",
       "| [![arXiv](https://img.shields.io/badge/arXiv-arXiv:2210.13717-b31b1b.svg)](https://arxiv.org/abs/arXiv:2210.13717) | **An unbiased method of measuring the ratio of two data sets**  |\n",
       "|| Zeyang Sun, et al. -- incl., <mark>Pengjie Zhang</mark> |\n",
       "|*Appeared on*| *2022-10-26*|\n",
       "|*Comments*| *10 pages, 8 figures, submitted to MNRAS*|\n",
       "|**Abstract**| In certain cases of astronomical data analysis, the meaningful physical quantity to extract is the ratio $R$ between two data sets. Examples include the lensing ratio, the interloper rate in spectroscopic redshift samples, the decay rate of gravitational potential and $E_G$ to test gravity. However, simply taking the ratio of the two data sets is biased, since it renders (even statistical) errors in the denominator into systematic errors in $R$. Furthermore, it is not optimal in minimizing statistical errors of $R$. Based on the Bayesian analysis and the usual assumption of Gaussian error in the data, we derive an analytical expression of the posterior PDF $P(R)$. This result enables fast and unbiased $R$ measurement, with minimal statistical errors. Furthermore, it relies on no underlying model other than the proportionality relation between the two data sets. Even more generally, it applies to the cases where the proportionality relation holds for the underlying physics/statistics instead of the two data sets directly. It also applies to the case of multiple ratios ($R\\rightarrow {\\bf R}=(R_1,R_2,\\cdots)$). We take the lensing ratio as an example to demonstrate our method. We take lenses as DESI imaging survey galaxies, and sources as DECaLS cosmic shear and \\emph{Planck} CMB lensing. We restrict the analysis to the ratio between CMB lensing and cosmic shear. The resulting $P(R$), for multiple lens-shear pairs, are all nearly Gaussian. The S/N of measured $R$ ranges from $5.3$ to $8.4$. We perform several tests to verify the robustness of the above result. |\n",
       "|<p style=\"color:green\"> **ERROR** </p>| <p style=\"color:green\">affiliation error: mpia.affiliation_verifications: 'Heidelberg' keyword not found.</p> |"
      ],
      "text/plain": [
       "<IPython.core.display.Markdown object>"
      ]
     },
     "metadata": {},
     "output_type": "display_data"
    },
    {
     "data": {
      "text/markdown": [
       "\n",
       "|||\n",
       "|---:|:---|\n",
       "| [![arXiv](https://img.shields.io/badge/arXiv-arXiv:2210.13775-b31b1b.svg)](https://arxiv.org/abs/arXiv:2210.13775) | **Modelling Cosmic Radiation Events in the Tree-ring Radiocarbon Record**  |\n",
       "|| <mark>Qingyuan Zhang</mark>, et al. -- incl., <mark>Utkarsh Sharma</mark> |\n",
       "|*Appeared on*| *2022-10-26*|\n",
       "|*Comments*| *Accepted Proceedings of the Royal Society A. 19 pages 6 figures body, 12 pages appendices which are supplementary material in the published version*|\n",
       "|**Abstract**| Annually-resolved measurements of the radiocarbon content in tree-rings have revealed rare sharp rises in carbon-14 production. These 'Miyake events' are likely produced by rare increases in cosmic radiation from the Sun or other energetic astrophysical sources. The radiocarbon produced is not only circulated through the Earth's atmosphere and oceans, but also absorbed by the biosphere and locked in the annual growth rings of trees. To interpret high-resolution tree-ring radiocarbon measurements therefore necessitates modelling the entire global carbon cycle. Here, we introduce 'ticktack', the first open-source Python package that connects box models of the carbon cycle with modern Bayesian inference tools. We use this to analyse all public annual 14C tree data, and infer posterior parameters for all six known Miyake events. They do not show a consistent relationship to the solar cycle, and several display extended durations that challenge either astrophysical or geophysical models. |\n",
       "|<p style=\"color:green\"> **ERROR** </p>| <p style=\"color:green\">affiliation error: mpia.affiliation_verifications: 'Heidelberg' keyword not found.</p> |"
      ],
      "text/plain": [
       "<IPython.core.display.Markdown object>"
      ]
     },
     "metadata": {},
     "output_type": "display_data"
    },
    {
     "data": {
      "text/markdown": [
       "\n",
       "|||\n",
       "|---:|:---|\n",
       "| [![arXiv](https://img.shields.io/badge/arXiv-arXiv:2210.13860-b31b1b.svg)](https://arxiv.org/abs/arXiv:2210.13860) | **Calibration of the first detector flight models for the HERMES  constellation and the SpIRIT mission**  |\n",
       "|| R. Campana, et al. -- incl., <mark>P. Hedderman</mark> |\n",
       "|*Appeared on*| *2022-10-26*|\n",
       "|*Comments*| *9 pages, 7 figures. Proceedings of SPIE Astronomical Telescopes and Instrumentation 2022*|\n",
       "|**Abstract**| HERMES (High Energy Rapid Modular Ensemble of Satellites) is a space-borne mission based on a constellation of six 3U CubeSats flying in a low-Earth orbit, hosting new miniaturized instruments based on a hybrid Silicon Drift Detector/GAGG:Ce scintillator photodetector system sensitive to X-rays and gamma-rays. Moreover, the HERMES constellation will operate in conjunction with the Australian-Italian Space Industry Responsive Intelligent Thermal (SpIRIT) 6U CubeSat, that will carry in a Sun-synchronous orbit (SSO) an actively cooled HERMES detector system payload. In this paper we provide an overview of the ground calibrations of the first HERMES and SpIRIT flight detectors, outlining the calibration plan, detector performance and characterization. |\n",
       "|<p style=\"color:green\"> **ERROR** </p>| <p style=\"color:green\">affiliation error: mpia.affiliation_verifications: 'Heidelberg' keyword not found.</p> |"
      ],
      "text/plain": [
       "<IPython.core.display.Markdown object>"
      ]
     },
     "metadata": {},
     "output_type": "display_data"
    },
    {
     "data": {
      "text/markdown": [
       "\n",
       "|||\n",
       "|---:|:---|\n",
       "| [![arXiv](https://img.shields.io/badge/arXiv-arXiv:2210.13894-b31b1b.svg)](https://arxiv.org/abs/arXiv:2210.13894) | **Prospects and challenges of numerical modelling of the Sun at millimetre  wavelengths**  |\n",
       "|| Sven Wedemeyer, et al. -- incl., <mark>Henrik Eklund</mark> |\n",
       "|*Appeared on*| *2022-10-26*|\n",
       "|*Comments*| *32 pages, 7 figures. Accepted for publication in Frontiers in Astronomy and Space Sciences (Stellar and Solar Physics)*|\n",
       "|**Abstract**| The Atacama Large Millimeter/submillimeter Array (ALMA) offers new diagnostic possibilities that complement other commonly used diagnostics for the study of our Sun. In particular, ALMA's ability to serve as an essentially linear thermometer of the chromospheric gas at unprecedented spatial resolution at millimetre wavelengths and future polarisation measurements have great diagnostic potential. Solar ALMA observations are therefore expected to contribute significantly to answering long-standing questions about the structure, dynamics and energy balance of the outer layers of the solar atmosphere. In this regard, current and future ALMA data are also important for constraining and further developing numerical models of the solar atmosphere, which in turn are often vital for the interpretation of observations. The latter is particularly important given the Sun's highly intermittent and dynamic nature that involves a plethora of processes occurring over extended ranges in spatial and temporal scales. Realistic forward modelling of the Sun therefore requires time-dependent three-dimensional radiation magnetohydrodynamics that account for non-equilibrium effects and, typically as a separate step, detailed radiative transfer calculations, resulting in synthetic observables that can be compared to observations. Such artificial observations sometimes also account for instrumental and seeing effects, which, in addition to aiding the interpretation of observations, provide instructive tools for designing and optimising ALMA's solar observing modes. In the other direction, ALMA data in combination with other simultaneous observations enables the reconstruction of the solar atmospheric structure via data inversion techniques. This article highlights central aspects of the impact of ALMA for numerical modelling for the Sun, their potential and challenges, together with selected examples. |\n",
       "|<p style=\"color:green\"> **ERROR** </p>| <p style=\"color:green\">affiliation error: mpia.affiliation_verifications: 'Heidelberg' keyword not found.</p> |"
      ],
      "text/plain": [
       "<IPython.core.display.Markdown object>"
      ]
     },
     "metadata": {},
     "output_type": "display_data"
    },
    {
     "data": {
      "text/markdown": [
       "\n",
       "|||\n",
       "|---:|:---|\n",
       "| [![arXiv](https://img.shields.io/badge/arXiv-arXiv:2210.13939-b31b1b.svg)](https://arxiv.org/abs/arXiv:2210.13939) | **Three low-mass companions around aged stars discovered by TESS**  |\n",
       "|| <mark>Zitao Lin</mark>, et al. -- incl., <mark>Coel Hellier</mark>, <mark>Carl Ziegler</mark>, <mark>Colin Littlefield</mark> |\n",
       "|*Appeared on*| *2022-10-26*|\n",
       "|*Comments*| *20 pages, 13 figures; submitted to MNRAS*|\n",
       "|**Abstract**| We report the discovery of three transiting low-mass companions to aged stars: a brown dwarf (TOI-2336b) and two objects near the hydrogen burning mass limit (TOI-1608b and TOI-2521b). These three systems were first identified using data from the Transiting Exoplanet Survey Satellite (TESS). TOI-2336b has a radius of $1.05\\pm 0.04\\ R_J$, a mass of $69.9\\pm 2.3\\ M_J$ and an orbital period of 7.71 days. TOI-1608b has a radius of $1.21\\pm 0.06\\ R_J$, a mass of $90.7\\pm 3.7\\ M_J$ and an orbital period of 2.47 days. TOI-2521b has a radius of $1.01\\pm 0.04\\ R_J$, a mass of $77.5\\pm 3.3\\ M_J$ and an orbital period of 5.56 days. We found all these low-mass companions are inflated. We fitted a relation between radius, mass and incident flux using the sample of known transiting brown dwarfs and low-mass M dwarfs. We found a positive correlation between the flux and the radius for brown dwarfs and for low-mass stars that is weaker than the correlation observed for giant planets. |\n",
       "|<p style=\"color:green\"> **ERROR** </p>| <p style=\"color:green\">affiliation error: mpia.affiliation_verifications: 'Heidelberg' keyword not found.</p> |"
      ],
      "text/plain": [
       "<IPython.core.display.Markdown object>"
      ]
     },
     "metadata": {},
     "output_type": "display_data"
    },
    {
     "data": {
      "text/markdown": [
       "\n",
       "|||\n",
       "|---:|:---|\n",
       "| [![arXiv](https://img.shields.io/badge/arXiv-arXiv:2210.14052-b31b1b.svg)](https://arxiv.org/abs/arXiv:2210.14052) | **The dispersion measure of Fast Radio Bursts host galaxies: estimation  from cosmological simulations**  |\n",
       "|| Jian-Feng Mo, et al. -- incl., <mark>Lin Tang</mark> |\n",
       "|*Appeared on*| *2022-10-26*|\n",
       "|*Comments*| *16 pages, 12 figures, accepted for publication in MNRAS*|\n",
       "|**Abstract**| The dispersion measure(DM) of fast radio burst encodes important information such as its distance, properties of intervening medium. Based on simulations in the Illustris and IllustrisTNG projects, we analyze the DM of FRBs contributed by the interstellar medium and circumgalactic medium in the hosts, $\\rm{DM_{host}}$. We explore two population models - tracing the star formation rate (SFR), and the stellar mass, i.e. young and old progenitors respectively. The distribution of $\\rm{DM_{host}}$ shows significant differences at $z=0$ between two populations: the stellar mass model exhibits an excess at the low DM end with respect to the SFR model. The SFR (stellar mass) model has a median value of $\\rm{DM_{host}}$=179 (63) $\\rm{pc\\, cm^{-3}}$ for galaxies with $M_*=10^{8-13}\\,M_{\\odot}$ in the TNG100-1. Galaxies in the Illustris-1 have a much smaller $\\rm{DM_{host}}$. The distributions of $\\rm{DM_{host}}$ deviate from log-normal function for both models. Furthermore, two populations differ moderately in the spatial offset from host galaxy's center, in the stellar mass function of hosts. $\\rm{DM_{host}}$ increases with the stellar mass of hosts when $M_*<10^{10.5}\\,M_{\\odot}$, and fluctuate at higher mass. At $0<z<2$, $\\rm{DM_{host}}$ increases with redshift. The differences in $\\rm{DM_{host}}$ between two populations declines with increasing redshift. With more localized events available in the future, statistics such as $\\rm{DM_{host}}$, the offset from galaxy center and the stellar mass function of hosts will be of great helpful to ascertain the origin of FRB. Meanwhile, statistics of $\\rm{DM_{host}}$ of localized FRB events could help to constrain the baryon physics models in galaxy evolution. |\n",
       "|<p style=\"color:green\"> **ERROR** </p>| <p style=\"color:green\">affiliation error: mpia.affiliation_verifications: 'Heidelberg' keyword not found.</p> |"
      ],
      "text/plain": [
       "<IPython.core.display.Markdown object>"
      ]
     },
     "metadata": {},
     "output_type": "display_data"
    },
    {
     "data": {
      "text/markdown": [
       "\n",
       "|||\n",
       "|---:|:---|\n",
       "| [![arXiv](https://img.shields.io/badge/arXiv-arXiv:2210.14089-b31b1b.svg)](https://arxiv.org/abs/arXiv:2210.14089) | **Transverse oscillations in 3D along Ca II K bright fibrils in the Solar  chromosphere**  |\n",
       "|| Sepideh Kianfar, et al. -- incl., <mark>Jorrit Leenaarts</mark> |\n",
       "|*Appeared on*| *2022-10-26*|\n",
       "|*Comments*| *12 pages, 12 figures*|\n",
       "|**Abstract**| Fibrils in the solar chromosphere carry transverse oscillations as determined from non-spectroscopic imaging data. They are estimated to carry an energy flux of several kW m$^{-2}$, which is a significant fraction of the average chromospheric radiative energy losses. We aim to determine oscillation properties of fibrils not only in the plane-of-the-sky (horizontal) direction, but also along the line-of-sight (vertical) direction. We obtained imaging-spectroscopy data in Fe I 6173, Ca II 8542, and Ca II K obtained with the Swedish 1-m Solar Telescope. We created a sample of 120 bright Ca II K fibrils and measured their horizontal motions. Their vertical motion was determined through non-LTE inversion of the observed spectra. We determined the periods and velocity amplitudes of the fibril oscillations, as well as phase differences between vertical and horizontal oscillations in the fibrils. The bright Ca II K fibrils carry transverse waves with a mean period of $2.2\\times10^2$ s, and a horizontal velocity amplitude of 2 km s$^{-1}$, consistent with earlier results. The mean vertical velocity amplitude is 1 km s$^{-1}$. We find that 118 out of the 120 fibrils carry waves in both the vertical and horizontal directions, and 55 of those have identical periods. For those 55, we find that all phase differences between $0$ and $2\\pi$ occur, with a mild but significant preference for linearly polarized waves (phase difference of $0$ or $\\pi$). The results are consistent with the scenario where transverse waves are excited by granular buffeting at the photospheric footpoints of the fibrils. Estimates of transverse wave flux based on imaging data only are too low because they ignore the contribution of the vertical velocity. |\n",
       "|<p style=\"color:green\"> **ERROR** </p>| <p style=\"color:green\">affiliation error: mpia.affiliation_verifications: 'Heidelberg' keyword not found.</p> |"
      ],
      "text/plain": [
       "<IPython.core.display.Markdown object>"
      ]
     },
     "metadata": {},
     "output_type": "display_data"
    },
    {
     "data": {
      "text/markdown": [
       "\n",
       "|||\n",
       "|---:|:---|\n",
       "| [![arXiv](https://img.shields.io/badge/arXiv-arXiv:2210.14116-b31b1b.svg)](https://arxiv.org/abs/arXiv:2210.14116) | **Model constraints based on the IceCube neutrino non-detection of GRB  201009A**  |\n",
       "|| Shunke Ai, <mark>He Gao</mark> |\n",
       "|*Appeared on*| *2022-10-26*|\n",
       "|*Comments*| *6 pages, 2 figures*|\n",
       "|**Abstract**| GRB 221009A is a bright Gamma-ray burst (GRB) with isotropic energy being larger than $10^{54} ~{\\rm ergs}$. Its fairly low redshift makes it a promising candidate for high energy neutrino detection. However, a neutrino search for this GRB reported by the \\emph{IceCube} collaboration yielded a null result. In this paper, we utilize the upper limit from IceCube observation to test different GRB prompt emission models. We find that, at least for this specific burst, the dissipative photosphere model could be ruled out in a large parameter space. The internal shock model can survive only with a large bulk motion Lorentz factor $\\Gamma$, where the most stringent and conservative constraints are $\\Gamma > \\sim 400$ and $\\Gamma > \\sim 200$, respectively. For the Internal-collision-induced Magnetic Reconnection and Turbulence (ICMART) model, the constraint from GRB 221009A is modest. Under ICMART model, only for extreme situations when most dissipated energy deposit into protons and all accelerated protons are suitable for producing neutrinos, a slightly large bulk motion ($\\Gamma > \\sim 400$) is required. |\n",
       "|<p style=\"color:green\"> **ERROR** </p>| <p style=\"color:green\">affiliation error: mpia.affiliation_verifications: 'Heidelberg' keyword not found.</p> |"
      ],
      "text/plain": [
       "<IPython.core.display.Markdown object>"
      ]
     },
     "metadata": {},
     "output_type": "display_data"
    },
    {
     "data": {
      "text/markdown": [
       "\n",
       "|||\n",
       "|---:|:---|\n",
       "| [![arXiv](https://img.shields.io/badge/arXiv-arXiv:2210.14123-b31b1b.svg)](https://arxiv.org/abs/arXiv:2210.14123) | **JWST reveals a possible $z \\sim 11$ galaxy merger in triply-lensed  MACS0647$-$JD**  |\n",
       "|| Tiger Yu-Yang Hsiao, et al. -- incl., <mark>Lily Whitler</mark>, <mark>Lillian Santos-Olmsted</mark>, <mark>Alaina Henry</mark>, <mark>Lisa Kewley</mark> |\n",
       "|*Appeared on*| *2022-10-26*|\n",
       "|*Comments*| *27 pages, 14 figures, submitted to Nature*|\n",
       "|**Abstract**| MACS0647$-$JD is a triply-lensed $z\\sim11$ galaxy originally discovered with the Hubble Space Telescope. Here we report new JWST imaging, which clearly resolves MACS0647$-$JD as having two components that are either merging galaxies or stellar complexes within a single galaxy. Both are very small, with stellar masses $\\sim10^8\\,M_\\odot$ and radii $r<100\\,\\rm pc$. The brighter larger component \"A\" is intrinsically very blue ($\\beta\\sim-2.6$), likely due to very recent star formation and no dust, and is spatially extended with an effective radius $\\sim70\\,\\rm pc$. The smaller component \"B\" appears redder ($\\beta\\sim-2$), likely because it is older ($100-200\\,\\rm Myr$) with mild dust extinction ($A_V\\sim0.1\\,\\rm mag$), and a smaller radius $\\sim20\\,\\rm pc$. We identify galaxies with similar colors in a high-redshift simulation, finding their star formation histories to be out of phase. With an estimated stellar mass ratio of roughly 2:1 and physical projected separation $\\sim400\\,\\rm pc$, we may be witnessing a galaxy merger 400 million years after the Big Bang. We also identify a candidate companion galaxy C $\\sim3\\,{\\rm kpc}$ away, likely destined to merge with galaxies A and B. The combined light from galaxies A+B is magnified by factors of $\\sim$8, 5, and 2 in three lensed images JD1, 2, and 3 with F356W fluxes $\\sim322$, $203$, $86\\,\\rm nJy$ (AB mag 25.1, 25.6, 26.6). MACS0647$-$JD is significantly brighter than other galaxies recently discovered at similar redshifts with JWST. Without magnification, it would have AB mag 27.3 ($M_{UV}=-20.4$). With a high confidence level, we obtain a photometric redshift of $z=10.6\\pm0.3$ based on photometry measured in 6 NIRCam filters spanning $1-5\\rm\\mu m$, out to $4300\\,\\r{A}$ rest-frame. JWST NIRSpec observations planned for January 2023 will deliver a spectroscopic redshift and a more detailed study of the physical properties of MACS0647$-$JD. |\n",
       "|<p style=\"color:green\"> **ERROR** </p>| <p style=\"color:green\">affiliation error: mpia.affiliation_verifications: 'Heidelberg' keyword not found.</p> |"
      ],
      "text/plain": [
       "<IPython.core.display.Markdown object>"
      ]
     },
     "metadata": {},
     "output_type": "display_data"
    },
    {
     "data": {
      "text/markdown": [
       "\n",
       "|||\n",
       "|---:|:---|\n",
       "| [![arXiv](https://img.shields.io/badge/arXiv-arXiv:2210.14125-b31b1b.svg)](https://arxiv.org/abs/arXiv:2210.14125) | **Rossiter-McLaughlin detection of the 9-month period transiting exoplanet  HIP41378 d**  |\n",
       "|| S. Grouffal, et al. -- incl., <mark>J. Lillo-Box</mark> |\n",
       "|*Appeared on*| *2022-10-26*|\n",
       "|*Comments*| *Accepted for publication in A&A*|\n",
       "|**Abstract**| The Rossiter-McLaughlin (RM) effect is a method that allows us to measure the orbital obliquity of planets, which is an important constraint that has been used to understand the formation and migration mechanisms of planets, especially for hot Jupiters. In this paper, we present the RM observation of the Neptune-sized long-period transiting planet HIP41378 d. Those observations were obtained using the HARPS-N/TNG and ESPRESSO/ESO-VLT spectrographs over two transit events in 2019 and 2022. The analysis of the data with both the classical RM and the RM Revolutions methods allows us to confirm that the orbital period of this planet is 278 days and that the planet is on a prograde orbit with an obliquity of $\\lambda$ = 57.1+26.4-17.9 degrees, a value which is consistent between both methods. HIP41378 d is the longest period planet for which the obliquity was measured so far. We do not detect transit timing variations with a precision of 30 and 100 minutes for the 2019 and 2022 transits, respectively. This result also illustrates that the RM effect provides a solution to follow-up from the ground the transit of small and long-period planets such as those that will be detected by the forthcoming ESA's PLATO mission. |\n",
       "|<p style=\"color:green\"> **ERROR** </p>| <p style=\"color:green\">affiliation error: mpia.affiliation_verifications: 'Heidelberg' keyword not found.</p> |"
      ],
      "text/plain": [
       "<IPython.core.display.Markdown object>"
      ]
     },
     "metadata": {},
     "output_type": "display_data"
    },
    {
     "data": {
      "text/markdown": [
       "\n",
       "|||\n",
       "|---:|:---|\n",
       "| [![arXiv](https://img.shields.io/badge/arXiv-arXiv:2210.13866-b31b1b.svg)](https://arxiv.org/abs/arXiv:2210.13866) | **Design, integration, and test of the scientific payloads on-board the  HERMES constellation and the SpIRIT mission**  |\n",
       "|| Y. Evangelista, et al. -- incl., <mark>P. Hedderman</mark> |\n",
       "|*Appeared on*| *2022-10-26*|\n",
       "|*Comments*| *arXiv admin note: substantial text overlap with arXiv:2101.03032*|\n",
       "|**Abstract**| HERMES (High Energy Rapid Modular Ensemble of Satellites) is a space-borne mission based on a constellation of nano-satellites flying in a low-Earth orbit (LEO). The six 3U CubeSat buses host new miniaturized instruments hosting a hybrid Silicon Drift Detector/GAGG:Ce scintillator photodetector system sensitive to X-rays and gamma-rays. HERMES will probe the temporal emission of bright high-energy transients such as Gamma-Ray Bursts (GRBs), ensuring a fast transient localization (with arcmin-level accuracy) in a field of view of several steradians exploiting the triangulation technique. With a foreseen launch date in late 2023, HERMES transient monitoring represents a keystone capability to complement the next generation of gravitational wave experiments. Moreover, the HERMES constellation will operate in conjunction with the Space Industry Responsive Intelligent Thermal (SpIRIT) 6U CubeSat, to be launched in early 2023. SpIRIT is an Australian-Italian mission for high-energy astrophysics that will carry in a Sun-synchronous orbit (SSO) an actively cooled HERMES detector system payload. On behalf of the HERMES collaboration, in this paper we will illustrate the HERMES and SpIRIT payload design, integration and tests, highlighting the technical solutions adopted to allow a wide-energy-band and sensitive X-ray and gamma-ray detector to be accommodated in a 1U Cubesat volume. |\n",
       "|<p style=\"color:red\"> **ERROR** </p>| <p style=\"color:red\">latex error not a gzip file</p> |"
      ],
      "text/plain": [
       "<IPython.core.display.Markdown object>"
      ]
     },
     "metadata": {},
     "output_type": "display_data"
    }
   ],
   "source": [
    "import datetime\n",
    "today = str(datetime.date.today())\n",
    "logfile = f\"_build/html/logs/log-{today}.md\"\n",
    "\n",
    "\n",
    "with open(logfile, 'w') as logs:\n",
    "    # Success\n",
    "    logs.write(f'# Arxiv on Deck 2: Logs - {today}\\n\\n')\n",
    "    logs.write(\"\"\"* Arxiv had {0:,d} new papers\\n\"\"\".format(len(new_papers)))\n",
    "    logs.write(\"\"\"    * {0:,d} with possible author matches\\n\\n\"\"\".format(len(candidates)))\n",
    "    logs.write(\"## Sucessful papers\\n\\n\")\n",
    "    display(Markdown(\"## Successful papers\"))\n",
    "    success = [k[0] for k in documents]\n",
    "    for candid in candidates:\n",
    "        if candid['identifier'].split(':')[-1] in success:\n",
    "            display(candid)\n",
    "            logs.write(candid.generate_markdown_text() + '\\n\\n')\n",
    "\n",
    "    ## failed\n",
    "    logs.write(\"## Failed papers\\n\\n\")\n",
    "    display(Markdown(\"## Failed papers\"))\n",
    "    failed = sorted(failed, key=lambda x: x[1])\n",
    "    current_reason = \"\"\n",
    "    for paper, reason in failed:\n",
    "        if 'affiliation' in reason:\n",
    "            color = 'green'\n",
    "        else:\n",
    "            color = 'red'\n",
    "        data = Markdown(\n",
    "                paper.generate_markdown_text() + \n",
    "                f'\\n|<p style=\"color:{color:s}\"> **ERROR** </p>| <p style=\"color:{color:s}\">{reason:s}</p> |'\n",
    "               )\n",
    "        if reason != current_reason:\n",
    "            logs.write(f'### {reason:s} \\n\\n')\n",
    "            current_reason = reason\n",
    "        logs.write(data.data + '\\n\\n')\n",
    "        \n",
    "        # only display here the important errors (all in logs)\n",
    "        # if color in ('red',):\n",
    "        display(data)"
   ]
  },
  {
   "cell_type": "markdown",
   "id": "472d20ee",
   "metadata": {
    "papermill": {
     "duration": 0.008876,
     "end_time": "2022-10-26T04:42:37.997327",
     "exception": false,
     "start_time": "2022-10-26T04:42:37.988451",
     "status": "completed"
    },
    "tags": []
   },
   "source": [
    "## Export documents\n",
    "\n",
    "We now write the .md files and export relevant images"
   ]
  },
  {
   "cell_type": "code",
   "execution_count": 7,
   "id": "d426aed9",
   "metadata": {
    "execution": {
     "iopub.execute_input": "2022-10-26T04:42:38.016674Z",
     "iopub.status.busy": "2022-10-26T04:42:38.016125Z",
     "iopub.status.idle": "2022-10-26T04:42:38.024336Z",
     "shell.execute_reply": "2022-10-26T04:42:38.023678Z"
    },
    "papermill": {
     "duration": 0.019789,
     "end_time": "2022-10-26T04:42:38.025911",
     "exception": false,
     "start_time": "2022-10-26T04:42:38.006122",
     "status": "completed"
    },
    "tags": []
   },
   "outputs": [],
   "source": [
    "def export_markdown_summary(md: str, md_fname:str, directory: str):\n",
    "    \"\"\"Export MD document and associated relevant images\"\"\"\n",
    "    import os\n",
    "    import shutil\n",
    "    import re\n",
    "\n",
    "    if (os.path.exists(directory) and not os.path.isdir(directory)):\n",
    "        raise RuntimeError(f\"a non-directory file exists with name {directory:s}\")\n",
    "\n",
    "    if (not os.path.exists(directory)):\n",
    "        print(f\"creating directory {directory:s}\")\n",
    "        os.mkdir(directory)\n",
    "\n",
    "    fig_fnames = (re.compile(r'\\[Fig.*\\]\\((.*)\\)').findall(md) + \n",
    "                  re.compile(r'\\<img src=\"([^>\\s]*)\"[^>]*/>').findall(md))\n",
    "    for fname in fig_fnames:\n",
    "        if 'http' in fname:\n",
    "            # No need to copy online figures\n",
    "            continue\n",
    "        destdir = os.path.join(directory, os.path.dirname(fname))\n",
    "        destfname = os.path.join(destdir, os.path.basename(fname))\n",
    "        try:\n",
    "            os.makedirs(destdir)\n",
    "        except FileExistsError:\n",
    "            pass\n",
    "        shutil.copy(fname, destfname)\n",
    "    with open(os.path.join(directory, md_fname), 'w') as fout:\n",
    "        fout.write(md)\n",
    "    print(\"exported in \", os.path.join(directory, md_fname))\n",
    "    [print(\"    + \" + os.path.join(directory,fk)) for fk in fig_fnames]"
   ]
  },
  {
   "cell_type": "code",
   "execution_count": 8,
   "id": "014d04a4",
   "metadata": {
    "execution": {
     "iopub.execute_input": "2022-10-26T04:42:38.045557Z",
     "iopub.status.busy": "2022-10-26T04:42:38.044820Z",
     "iopub.status.idle": "2022-10-26T04:42:38.048430Z",
     "shell.execute_reply": "2022-10-26T04:42:38.047842Z"
    },
    "papermill": {
     "duration": 0.015006,
     "end_time": "2022-10-26T04:42:38.049967",
     "exception": false,
     "start_time": "2022-10-26T04:42:38.034961",
     "status": "completed"
    },
    "tags": []
   },
   "outputs": [],
   "source": [
    "for paper_id, md in documents:\n",
    "    export_markdown_summary(md, f\"{paper_id:s}.md\", '_build/html/')"
   ]
  },
  {
   "cell_type": "markdown",
   "id": "f087a0a7",
   "metadata": {
    "papermill": {
     "duration": 0.00888,
     "end_time": "2022-10-26T04:42:38.067714",
     "exception": false,
     "start_time": "2022-10-26T04:42:38.058834",
     "status": "completed"
    },
    "tags": []
   },
   "source": [
    "## Display the papers\n",
    "\n",
    "Not necessary but allows for a quick check."
   ]
  },
  {
   "cell_type": "code",
   "execution_count": 9,
   "id": "fd25f625",
   "metadata": {
    "execution": {
     "iopub.execute_input": "2022-10-26T04:42:38.087121Z",
     "iopub.status.busy": "2022-10-26T04:42:38.086561Z",
     "iopub.status.idle": "2022-10-26T04:42:38.090836Z",
     "shell.execute_reply": "2022-10-26T04:42:38.090136Z"
    },
    "papermill": {
     "duration": 0.015834,
     "end_time": "2022-10-26T04:42:38.092405",
     "exception": false,
     "start_time": "2022-10-26T04:42:38.076571",
     "status": "completed"
    },
    "scrolled": false,
    "tags": []
   },
   "outputs": [],
   "source": [
    "[display(Markdown(k[1])) for k in documents];"
   ]
  },
  {
   "cell_type": "markdown",
   "id": "873873a4",
   "metadata": {
    "papermill": {
     "duration": 0.008894,
     "end_time": "2022-10-26T04:42:38.110168",
     "exception": false,
     "start_time": "2022-10-26T04:42:38.101274",
     "status": "completed"
    },
    "tags": []
   },
   "source": [
    "# Create HTML index"
   ]
  },
  {
   "cell_type": "code",
   "execution_count": 10,
   "id": "cf665672",
   "metadata": {
    "execution": {
     "iopub.execute_input": "2022-10-26T04:42:38.130153Z",
     "iopub.status.busy": "2022-10-26T04:42:38.129713Z",
     "iopub.status.idle": "2022-10-26T04:42:38.138858Z",
     "shell.execute_reply": "2022-10-26T04:42:38.138146Z"
    },
    "papermill": {
     "duration": 0.020787,
     "end_time": "2022-10-26T04:42:38.140366",
     "exception": false,
     "start_time": "2022-10-26T04:42:38.119579",
     "status": "completed"
    },
    "tags": []
   },
   "outputs": [
    {
     "name": "stdout",
     "output_type": "stream",
     "text": [
      "73  publications in the last 7 days.\n",
      "\t _build/html/2210.12412.md\n",
      "\t _build/html/2210.11926.md\n",
      "\t _build/html/2210.11551.md\n",
      "\t _build/html/2210.11103.md\n",
      "\t _build/html/2210.10707.md\n",
      "\t _build/html/2210.09930.md\n",
      "\t _build/html/2210.08996.md\n",
      "\t _build/html/2210.08517.md\n",
      "\t _build/html/2210.08510.md\n",
      "\t _build/html/2210.08078.md\n",
      "\t _build/html/2210.06504.md\n",
      "\t _build/html/2210.05695.md\n",
      "\t _build/html/2210.05595.md\n",
      "\t _build/html/2210.05505.md\n",
      "\t _build/html/2210.04721.md\n",
      "\t _build/html/2210.03615.md\n",
      "\t _build/html/2210.01811.md\n",
      "\t _build/html/2210.01809.md\n",
      "\t _build/html/2210.01556.md\n",
      "\t _build/html/2210.00863.md\n",
      "\t _build/html/2210.00560.md\n",
      "\t _build/html/2209.15403.md\n",
      "\t _build/html/2209.15110.md\n",
      "\t _build/html/2209.14410.md\n",
      "\t _build/html/2209.14396.md\n",
      "\t _build/html/2209.13717.md\n",
      "\t _build/html/2209.13336.md\n",
      "\t _build/html/2209.12906.md\n",
      "\t _build/html/2209.11781.md\n",
      "\t _build/html/2209.11602.md\n",
      "\t _build/html/2209.11248.md\n",
      "\t _build/html/2209.11096.md\n",
      "\t _build/html/2209.10618.md\n",
      "\t _build/html/2209.09914.md\n",
      "\t _build/html/2209.09823.md\n",
      "\t _build/html/2209.08242.md\n",
      "\t _build/html/2209.08120.md\n",
      "\t _build/html/2209.08106.md\n",
      "\t _build/html/2209.07962.md\n",
      "\t _build/html/2209.07931.md\n",
      "\t _build/html/2209.06833.md\n",
      "\t _build/html/2209.05814.md\n",
      "\t _build/html/2209.05593.md\n",
      "\t _build/html/2209.04304.md\n",
      "\t _build/html/2209.03367.md\n",
      "\t _build/html/2209.02872.md\n",
      "\t _build/html/2209.02725.md\n",
      "\t _build/html/2209.02722.md\n",
      "\t _build/html/2209.02092.md\n",
      "\t _build/html/2209.01125.md\n",
      "\t _build/html/2209.00828.md\n",
      "\t _build/html/2209.00363.md\n",
      "\t _build/html/2208.14927.md\n",
      "\t _build/html/2208.09335.md\n",
      "\t _build/html/2208.08872.md\n",
      "\t _build/html/2204.06393.md\n",
      "\t _build/html/2204.03335.md\n",
      "\t _build/html/2204.03253.md\n",
      "\t _build/html/2204.02998.md\n",
      "\t _build/html/2204.02109.md\n",
      "\t _build/html/2204.02017.md\n",
      "\t _build/html/2204.01824.md\n",
      "\t _build/html/2204.01758.md\n",
      "\t _build/html/2204.01245.md\n",
      "\t _build/html/2204.00793.md\n",
      "\t _build/html/2204.00342.md\n",
      "\t _build/html/2203.16959.md\n",
      "\t _build/html/2203.16856.md\n",
      "\t _build/html/2203.16735.md\n",
      "\t _build/html/2203.16734.md\n",
      "\t _build/html/2203.16504.md\n",
      "\t _build/html/2203.15822.md\n",
      "\t _build/html/2203.15811.md\n"
     ]
    }
   ],
   "source": [
    "from datetime import datetime, timedelta, timezone\n",
    "from glob import glob\n",
    "\n",
    "files = glob('_build/html/*.md')\n",
    "days = 7\n",
    "now = datetime.today()\n",
    "res = []\n",
    "for fk in files:\n",
    "    stat_result = os.stat(fk).st_ctime\n",
    "    modified = datetime.fromtimestamp(stat_result, tz=timezone.utc).replace(tzinfo=None)\n",
    "    delta = now.today() - modified\n",
    "    if delta <= timedelta(days=days):\n",
    "        res.append((delta.seconds, fk))\n",
    "res = [k[1] for k in reversed(sorted(res, key=lambda x:x[1]))]\n",
    "npub = len(res)\n",
    "print(len(res), f\" publications in the last {days:d} days.\")\n",
    "[ print('\\t', k) for k in res ];"
   ]
  },
  {
   "cell_type": "code",
   "execution_count": 11,
   "id": "52ca0208",
   "metadata": {
    "execution": {
     "iopub.execute_input": "2022-10-26T04:42:38.160091Z",
     "iopub.status.busy": "2022-10-26T04:42:38.159525Z",
     "iopub.status.idle": "2022-10-26T04:42:38.166045Z",
     "shell.execute_reply": "2022-10-26T04:42:38.165397Z"
    },
    "papermill": {
     "duration": 0.018057,
     "end_time": "2022-10-26T04:42:38.167598",
     "exception": false,
     "start_time": "2022-10-26T04:42:38.149541",
     "status": "completed"
    },
    "scrolled": false,
    "tags": []
   },
   "outputs": [],
   "source": [
    "def create_carousel(npub=4):\n",
    "    \"\"\" Generate the HTML code for a carousel with `npub` slides \"\"\"\n",
    "    carousel = [\"\"\"<section class=\"carousel\" aria-label=\"Gallery\">\"\"\",\n",
    "                \"\"\"  <ol class=\"carousel__viewport\">\"\"\",\n",
    "    ]\n",
    "    for k in range(1, npub + 1):\n",
    "        prev_ = k - 1\n",
    "        next_ = k + 1\n",
    "        if prev_ <= 0:\n",
    "            prev_ = npub\n",
    "        if next_ > npub:\n",
    "            next_ = 1\n",
    "        text  = f\"\"\"    <li id=\"carousel__slide{k}\" tabindex=\"0\" class=\"carousel__slide\">\\n\"\"\"\n",
    "        text += f\"\"\"       <div class=\"carousel__snapper\">\\n\"\"\"\n",
    "        text += f\"\"\"         <a href=\"#carousel__slide{prev_}\" class=\"carousel__prev\">Go to previous slide</a>\\n\"\"\"\n",
    "        text += f\"\"\"         <a href=\"#carousel__slide{next_}\" class=\"carousel__next\">Go to next slide</a>\\n\"\"\"\n",
    "        text += f\"\"\"         <div id=\"slide{k}_content\" class=\"md_view\" >Content {k}</div>\\n\"\"\"\n",
    "        text += f\"\"\"       </div>\\n\"\"\"\n",
    "        text += f\"\"\"    </li>\"\"\"\n",
    "        carousel.append(text)\n",
    "\n",
    "    carousel.extend([\n",
    "        \"\"\"  </ol>\"\"\",\n",
    "        \"\"\"  <aside class=\"carousel__navigation\">\"\"\",\n",
    "        \"\"\"    <ol class=\"carousel__navigation-list\">\"\"\"])\n",
    "\n",
    "    for k in range(1, npub + 1):\n",
    "        text  = f\"\"\"      <li class=\"carousel__navigation-item\">\\n\"\"\"\n",
    "        text += f\"\"\"        <a href=\"#carousel__slide{k}\" class=\"carousel__navigation-button\">Go to {k}</a>\\n\"\"\"\n",
    "        text += f\"\"\"      </li>\"\"\"\n",
    "        carousel.append(text)\n",
    "    carousel.extend([\"\"\"    </ol>\"\"\", \"\"\"  </aside>\"\"\", \"\"\"</section>\"\"\"])\n",
    "\n",
    "    return '\\n'.join(carousel)"
   ]
  },
  {
   "cell_type": "code",
   "execution_count": 12,
   "id": "a6eac5b6",
   "metadata": {
    "execution": {
     "iopub.execute_input": "2022-10-26T04:42:38.187277Z",
     "iopub.status.busy": "2022-10-26T04:42:38.187017Z",
     "iopub.status.idle": "2022-10-26T04:42:38.193983Z",
     "shell.execute_reply": "2022-10-26T04:42:38.193329Z"
    },
    "papermill": {
     "duration": 0.018765,
     "end_time": "2022-10-26T04:42:38.195524",
     "exception": false,
     "start_time": "2022-10-26T04:42:38.176759",
     "status": "completed"
    },
    "scrolled": false,
    "tags": []
   },
   "outputs": [],
   "source": [
    "carousel = create_carousel(npub)\n",
    "docs = ', '.join(['\"{0:s}\"'.format(k.split('/')[-1]) for k in res])\n",
    "slides = ', '.join([f'\"slide{k}_content\"' for k in range(1, npub + 1)])\n",
    "\n",
    "script = f\"\"\"\n",
    "const docs = [{docs}]\n",
    "\n",
    "const slides = [{slides}]\n",
    "\"\"\" + \"\"\"\n",
    "async function run() {\n",
    "    for (let i = 0; i < docs.length; i++) {\n",
    "        let file = await fetch(docs[i]);\n",
    "        let text = await file.text()\n",
    "        document.getElementById(slides[i]).innerHTML =\n",
    "            marked.parse(text);\n",
    "    }\n",
    "    hljs.highlightAll();\n",
    "}\n",
    "run()\n",
    "\"\"\"\n",
    "\n",
    "page = f\"\"\"<!doctype html>\n",
    "<html lang=\"en\">\n",
    "\n",
    "<head>\n",
    "  <meta charset=\"utf-8\">\n",
    "  <meta name=\"viewport\" content=\"width=device-width, initial-scale=1\">\n",
    "  <!-- Bootstrap CSS -->\n",
    "  <link href=\"https://cdn.jsdelivr.net/npm/bootstrap@5.0.2/dist/css/bootstrap.min.css\" rel=\"stylesheet\"\n",
    "   integrity=\"sha384-EVSTQN3/azprG1Anm3QDgpJLIm9Nao0Yz1ztcQTwFspd3yD65VohhpuuCOmLASjC\" crossorigin=\"anonymous\">\n",
    "  <!-- highlight.js CSS -->\n",
    "  <link rel=\"stylesheet\" href=\"https://cdnjs.cloudflare.com/ajax/libs/highlight.js/11.1.0/styles/default.min.css\">\n",
    "  <!-- Mathjax 3 -->\n",
    "  <script type=\"text/javascript\" id=\"MathJax-config\" src=\"mathjax_config.js\"> </script>\n",
    "  <script type=\"text/javascript\" id=\"MathJax-script\" async \n",
    "    src=\"https://cdn.jsdelivr.net/npm/mathjax@3/es5/tex-mml-chtml.js\">\n",
    "  </script>\n",
    "  <link rel=\"stylesheet\" href=\"index_carousel.css\">\n",
    "  <link rel=\"icon\" type=\"image/x-icon\" href=\"https://www.mpia.de/assets/touch-icon-32x32-a66937bcebc4e8894ebff1f41a366c7c7220fd97a38869ee0f2db65a9f59b6c1.png\">\n",
    "  <title>MPIA Arxiv on deck!</title>\n",
    "</head>\n",
    "\n",
    "<body>\n",
    "  <div id=\"header\"> <img src=\"header_banner.png\" width=\"100%\"></div>\n",
    "  <div id=\"suptitle\"> 7-day archives </div>\n",
    "  <div id=\"info\">\n",
    "    <img src=\"https://pngimg.com/uploads/github/github_PNG58.png\" height=30rem></img>\n",
    "    <a href=https://github.com/mpi-astronomy/arxiv_display style=\"color:black;\">github/mpi-astronomy/arxiv_display</a> \n",
    "  </div>\n",
    "  {carousel:s}\n",
    "</body>\n",
    "\n",
    "<!-- Render Markdown -->\n",
    "\n",
    "<body>\n",
    "  <!-- highlight.js: https://highlightjs.org/download/ -->\n",
    "  <script src=\"https://cdnjs.cloudflare.com/ajax/libs/highlight.js/11.5.0/highlight.min.js\"></script>\n",
    "  <!-- marked.js -->\n",
    "  <script src=\"https://cdn.jsdelivr.net/npm/marked/marked.min.js\"></script>\n",
    "  <script>{script:s}</script>\n",
    "</body>\n",
    "</html>\n",
    "\"\"\"\n",
    "with open(\"_build/html/index_7days.html\", 'w') as fout:\n",
    "    fout.write(page)"
   ]
  },
  {
   "cell_type": "markdown",
   "id": "1cebacbc",
   "metadata": {
    "papermill": {
     "duration": 0.00907,
     "end_time": "2022-10-26T04:42:38.213559",
     "exception": false,
     "start_time": "2022-10-26T04:42:38.204489",
     "status": "completed"
    },
    "tags": []
   },
   "source": [
    "# Debugging papers"
   ]
  },
  {
   "cell_type": "raw",
   "id": "debe7cc6",
   "metadata": {
    "papermill": {
     "duration": 0.009004,
     "end_time": "2022-10-26T04:42:38.231518",
     "exception": false,
     "start_time": "2022-10-26T04:42:38.222514",
     "status": "completed"
    },
    "tags": []
   },
   "source": [
    "raise NotImplementedError(\"Manual Stop\")"
   ]
  },
  {
   "cell_type": "raw",
   "id": "eb169192",
   "metadata": {
    "papermill": {
     "duration": 0.009051,
     "end_time": "2022-10-26T04:42:38.249529",
     "exception": false,
     "start_time": "2022-10-26T04:42:38.240478",
     "status": "completed"
    },
    "scrolled": true,
    "tags": []
   },
   "source": [
    "from IPython.display import display, Markdown\n",
    "from TexSoup import TexSoup\n",
    "import re\n",
    "\n",
    "def bracket_error(source: str):\n",
    "    \"\"\" Find problematic portions of the document \"\"\"\n",
    "    \n",
    "    print(\"len(source)\", len(source))\n",
    "    \n",
    "    # Checking header\n",
    "    begin_doc = next(re.finditer(r'\\\\begin\\{document\\}', doc.source)).span()[1]\n",
    "    header = source[:begin_doc]\n",
    "    text = header + r\"\\n\\end{document}\"\n",
    "\n",
    "    try:\n",
    "        # print(\"Header check... \", end='')\n",
    "        TexSoup(text)\n",
    "        display(Markdown(f\"**[OK]** - Header\"))\n",
    "    except:\n",
    "        raise RuntimeError(\"Error in the header\")\n",
    "        \n",
    "    # Check the text per section until the end.\n",
    "    # Do not stop and try them all.\n",
    "    \n",
    "    problematic_text = []\n",
    "    \n",
    "    sections = ([(0, begin_doc, 'until first section')] + \n",
    "                [(g.span()[0], g.span()[1], g.group()) for g in re.finditer(r'\\\\section\\{.*\\}', source)] +\n",
    "                [(g.span()[0], g.span()[1], g.group()) for g in re.finditer(r'\\\\begin\\{appendix\\}', source)]\n",
    "               )\n",
    "    sections.append([len(source), len(source), 'end'])\n",
    "    \n",
    "    sections = sorted(sections, key=lambda x: x[0])\n",
    "    \n",
    "    prev_pos, prev_name = (0, 'header')\n",
    "    parsed = []\n",
    "    \n",
    "    for span, span_end, name in sections:\n",
    "\n",
    "        if span - prev_pos <= 0:\n",
    "            continue\n",
    "            \n",
    "\n",
    "        text = source[prev_pos:span]\n",
    "        if prev_pos > begin_doc:\n",
    "            text = r\"\\n\\begin{document}\" + text + r\"\\n\\end{document}\"\n",
    "        else:\n",
    "            text = text + r\"\\n\\end{document}\"\n",
    "        try:\n",
    "            #print(f\"{prev_pos}:{prev_name}-->{span}:{name} check... \", end='')\n",
    "            parsed.append(TexSoup(text, tolerance=1))  # allow not ending env\n",
    "            display(Markdown(f\"**[OK]** - *{prev_pos}*:{prev_name} &rarr; *{span}*:{name}\"))\n",
    "            # print(\"ok\")\n",
    "\n",
    "            prev_pos = span\n",
    "            prev_name = name\n",
    "        except:\n",
    "            # print(f\"error between {prev_pos} and {span}\")\n",
    "            display(Markdown(f\"**[ERR]** *{prev_pos}*:{prev_name} &rarr; *{span}*:{name}\"))\n",
    "            problematic_text.append((prev_pos, source[prev_pos:span]))\n",
    "            prev_pos = span\n",
    "            prev_name = name\n",
    "            # raise\n",
    "    return problematic_text, parsed\n",
    "\n",
    "\n",
    "def check_environment(text, offset=0):\n",
    "    \"\"\" Check environment \"\"\"\n",
    "    env = re.compile(r\"\\\\begin\\{(?P<env>.*)\\}(.*)\\\\end\\{(?P=env)\\}\", re.DOTALL)\n",
    "\n",
    "    for match in env.finditer(text):\n",
    "        beg, end = match.span()\n",
    "        beg += offset\n",
    "        end += offset\n",
    "        envname = match.groups()[0]\n",
    "        try:\n",
    "            latex.TexSoup(match.group())\n",
    "        except Exception as e:\n",
    "            display(e)\n",
    "            print(f\"Error in {envname:s} between {beg} and {end}\")\n",
    "            return match.groups()[1], beg, end"
   ]
  },
  {
   "cell_type": "raw",
   "id": "2315e835",
   "metadata": {
    "papermill": {
     "duration": 0.009275,
     "end_time": "2022-10-26T04:42:38.268055",
     "exception": false,
     "start_time": "2022-10-26T04:42:38.258780",
     "status": "completed"
    },
    "scrolled": false,
    "tags": []
   },
   "source": [
    "import importlib\n",
    "importlib.reload(latex)\n",
    "which = \"2204.03253\"\n",
    "paper_id = f'{which:s}'\n",
    "folder = f'tmp_{paper_id:s}'\n",
    "\n",
    "if not os.path.isdir(folder):\n",
    "    folder = retrieve_document_source(f\"{paper_id}\", f'tmp_{paper_id}')\n",
    "\n",
    "try:\n",
    "    doc = latex.LatexDocument(folder, validation=validation)    \n",
    "except AffiliationError as affilerror:\n",
    "    msg = f\"ArXiv:{paper_id:s} is not an MPIA paper... \" + str(affilerror)\n",
    "    print(msg)\n",
    "\n",
    "\n",
    "# Hack because sometimes author parsing does not work well\n",
    "if (len(doc.authors) != len(paper['authors'])):\n",
    "    doc._authors = paper['authors']\n",
    "if (doc.abstract) in (None, ''):\n",
    "    doc._abstract = paper['abstract']\n",
    "\n",
    "doc.comment = get_markdown_badge(paper_id) + \" _\" + paper['comments'] + \"_\"\n",
    "doc.highlight_authors_in_list(hl_list)\n",
    "\n",
    "full_md = doc.generate_markdown_text()"
   ]
  },
  {
   "cell_type": "raw",
   "id": "dd3781db",
   "metadata": {
    "papermill": {
     "duration": 0.009301,
     "end_time": "2022-10-26T04:42:38.321039",
     "exception": false,
     "start_time": "2022-10-26T04:42:38.311738",
     "status": "completed"
    },
    "scrolled": false,
    "tags": []
   },
   "source": [
    "doc"
   ]
  },
  {
   "cell_type": "raw",
   "id": "c6eed834",
   "metadata": {
    "papermill": {
     "duration": 0.009211,
     "end_time": "2022-10-26T04:42:38.339503",
     "exception": false,
     "start_time": "2022-10-26T04:42:38.330292",
     "status": "completed"
    },
    "tags": []
   },
   "source": [
    "# [check_environment(k) for k in bracket_error(doc.source)]\n",
    "_, _, a = latex.get_content_per_section(doc.source, verbose=True)\n",
    "if not a:\n",
    "    print(\"no issues per section\")\n",
    "for ak in a:\n",
    "    r = check_environment(ak[1], offset=ak[0])\n",
    "    print(r[1], r[2])\n",
    "    print(r[0])"
   ]
  },
  {
   "cell_type": "code",
   "execution_count": null,
   "id": "71ce768a",
   "metadata": {
    "papermill": {
     "duration": 0.00923,
     "end_time": "2022-10-26T04:42:38.357875",
     "exception": false,
     "start_time": "2022-10-26T04:42:38.348645",
     "status": "completed"
    },
    "tags": []
   },
   "outputs": [],
   "source": []
  }
 ],
 "metadata": {
  "kernelspec": {
   "display_name": "Python 3.10.6 64-bit",
   "language": "python",
   "name": "python3"
  },
  "language_info": {
   "codemirror_mode": {
    "name": "ipython",
    "version": 3
   },
   "file_extension": ".py",
   "mimetype": "text/x-python",
   "name": "python",
   "nbconvert_exporter": "python",
   "pygments_lexer": "ipython3",
   "version": "3.9.15"
  },
  "papermill": {
   "default_parameters": {},
   "duration": 50.417705,
   "end_time": "2022-10-26T04:42:38.586447",
   "environment_variables": {},
   "exception": null,
   "input_path": "MPIA daily digest.ipynb",
   "output_path": "log.ipynb",
   "parameters": {},
   "start_time": "2022-10-26T04:41:48.168742",
   "version": "2.4.0"
  },
  "vscode": {
   "interpreter": {
    "hash": "e7370f93d1d0cde622a1f8e1c04877d8463912d04d973331ad4851f04de6915a"
   }
  },
  "widgets": {
   "application/vnd.jupyter.widget-state+json": {
    "state": {
     "0c32e4e4ab9f4caaa20306b1caa16ec9": {
      "model_module": "@jupyter-widgets/controls",
      "model_module_version": "2.0.0",
      "model_name": "HTMLStyleModel",
      "state": {
       "_model_module": "@jupyter-widgets/controls",
       "_model_module_version": "2.0.0",
       "_model_name": "HTMLStyleModel",
       "_view_count": null,
       "_view_module": "@jupyter-widgets/base",
       "_view_module_version": "2.0.0",
       "_view_name": "StyleView",
       "background": null,
       "description_width": "",
       "font_size": null,
       "text_color": null
      }
     },
     "20100383587e41b7a94cf85ee917cd25": {
      "model_module": "@jupyter-widgets/base",
      "model_module_version": "2.0.0",
      "model_name": "LayoutModel",
      "state": {
       "_model_module": "@jupyter-widgets/base",
       "_model_module_version": "2.0.0",
       "_model_name": "LayoutModel",
       "_view_count": null,
       "_view_module": "@jupyter-widgets/base",
       "_view_module_version": "2.0.0",
       "_view_name": "LayoutView",
       "align_content": null,
       "align_items": null,
       "align_self": null,
       "border_bottom": null,
       "border_left": null,
       "border_right": null,
       "border_top": null,
       "bottom": null,
       "display": null,
       "flex": null,
       "flex_flow": null,
       "grid_area": null,
       "grid_auto_columns": null,
       "grid_auto_flow": null,
       "grid_auto_rows": null,
       "grid_column": null,
       "grid_gap": null,
       "grid_row": null,
       "grid_template_areas": null,
       "grid_template_columns": null,
       "grid_template_rows": null,
       "height": null,
       "justify_content": null,
       "justify_items": null,
       "left": null,
       "margin": null,
       "max_height": null,
       "max_width": null,
       "min_height": null,
       "min_width": null,
       "object_fit": null,
       "object_position": null,
       "order": null,
       "overflow": null,
       "padding": null,
       "right": null,
       "top": null,
       "visibility": null,
       "width": null
      }
     },
     "4a9bc57b467740c5b6a4b7c62ebc0a51": {
      "model_module": "@jupyter-widgets/controls",
      "model_module_version": "2.0.0",
      "model_name": "HTMLModel",
      "state": {
       "_dom_classes": [],
       "_model_module": "@jupyter-widgets/controls",
       "_model_module_version": "2.0.0",
       "_model_name": "HTMLModel",
       "_view_count": null,
       "_view_module": "@jupyter-widgets/controls",
       "_view_module_version": "2.0.0",
       "_view_name": "HTMLView",
       "description": "",
       "description_allow_html": false,
       "layout": "IPY_MODEL_71d6de4eb31a4507952f193e37c00a2e",
       "placeholder": "​",
       "style": "IPY_MODEL_0c32e4e4ab9f4caaa20306b1caa16ec9",
       "tabbable": null,
       "tooltip": null,
       "value": " 22/22 [00:24&lt;00:00,  1.09s/it]"
      }
     },
     "561ac08ebe3c4972984544b589fad651": {
      "model_module": "@jupyter-widgets/controls",
      "model_module_version": "2.0.0",
      "model_name": "HBoxModel",
      "state": {
       "_dom_classes": [],
       "_model_module": "@jupyter-widgets/controls",
       "_model_module_version": "2.0.0",
       "_model_name": "HBoxModel",
       "_view_count": null,
       "_view_module": "@jupyter-widgets/controls",
       "_view_module_version": "2.0.0",
       "_view_name": "HBoxView",
       "box_style": "",
       "children": [
        "IPY_MODEL_5b621b6f00fd4bb6ad6a3e3aebe0e564",
        "IPY_MODEL_8978114d98054a30b79d460e289b8a11",
        "IPY_MODEL_4a9bc57b467740c5b6a4b7c62ebc0a51"
       ],
       "layout": "IPY_MODEL_bcc6c6a9808b4739b57013874d53258a",
       "tabbable": null,
       "tooltip": null
      }
     },
     "5b621b6f00fd4bb6ad6a3e3aebe0e564": {
      "model_module": "@jupyter-widgets/controls",
      "model_module_version": "2.0.0",
      "model_name": "HTMLModel",
      "state": {
       "_dom_classes": [],
       "_model_module": "@jupyter-widgets/controls",
       "_model_module_version": "2.0.0",
       "_model_name": "HTMLModel",
       "_view_count": null,
       "_view_module": "@jupyter-widgets/controls",
       "_view_module_version": "2.0.0",
       "_view_name": "HTMLView",
       "description": "",
       "description_allow_html": false,
       "layout": "IPY_MODEL_20100383587e41b7a94cf85ee917cd25",
       "placeholder": "​",
       "style": "IPY_MODEL_bdcf3a688ba9420d934388195d0b8b31",
       "tabbable": null,
       "tooltip": null,
       "value": "100%"
      }
     },
     "71d6de4eb31a4507952f193e37c00a2e": {
      "model_module": "@jupyter-widgets/base",
      "model_module_version": "2.0.0",
      "model_name": "LayoutModel",
      "state": {
       "_model_module": "@jupyter-widgets/base",
       "_model_module_version": "2.0.0",
       "_model_name": "LayoutModel",
       "_view_count": null,
       "_view_module": "@jupyter-widgets/base",
       "_view_module_version": "2.0.0",
       "_view_name": "LayoutView",
       "align_content": null,
       "align_items": null,
       "align_self": null,
       "border_bottom": null,
       "border_left": null,
       "border_right": null,
       "border_top": null,
       "bottom": null,
       "display": null,
       "flex": null,
       "flex_flow": null,
       "grid_area": null,
       "grid_auto_columns": null,
       "grid_auto_flow": null,
       "grid_auto_rows": null,
       "grid_column": null,
       "grid_gap": null,
       "grid_row": null,
       "grid_template_areas": null,
       "grid_template_columns": null,
       "grid_template_rows": null,
       "height": null,
       "justify_content": null,
       "justify_items": null,
       "left": null,
       "margin": null,
       "max_height": null,
       "max_width": null,
       "min_height": null,
       "min_width": null,
       "object_fit": null,
       "object_position": null,
       "order": null,
       "overflow": null,
       "padding": null,
       "right": null,
       "top": null,
       "visibility": null,
       "width": null
      }
     },
     "8978114d98054a30b79d460e289b8a11": {
      "model_module": "@jupyter-widgets/controls",
      "model_module_version": "2.0.0",
      "model_name": "FloatProgressModel",
      "state": {
       "_dom_classes": [],
       "_model_module": "@jupyter-widgets/controls",
       "_model_module_version": "2.0.0",
       "_model_name": "FloatProgressModel",
       "_view_count": null,
       "_view_module": "@jupyter-widgets/controls",
       "_view_module_version": "2.0.0",
       "_view_name": "ProgressView",
       "bar_style": "success",
       "description": "",
       "description_allow_html": false,
       "layout": "IPY_MODEL_bc9352a1eabc4daf95e37475839bf4da",
       "max": 22.0,
       "min": 0.0,
       "orientation": "horizontal",
       "style": "IPY_MODEL_c0758cf9dad54811baec41da701d12d3",
       "tabbable": null,
       "tooltip": null,
       "value": 22.0
      }
     },
     "bc9352a1eabc4daf95e37475839bf4da": {
      "model_module": "@jupyter-widgets/base",
      "model_module_version": "2.0.0",
      "model_name": "LayoutModel",
      "state": {
       "_model_module": "@jupyter-widgets/base",
       "_model_module_version": "2.0.0",
       "_model_name": "LayoutModel",
       "_view_count": null,
       "_view_module": "@jupyter-widgets/base",
       "_view_module_version": "2.0.0",
       "_view_name": "LayoutView",
       "align_content": null,
       "align_items": null,
       "align_self": null,
       "border_bottom": null,
       "border_left": null,
       "border_right": null,
       "border_top": null,
       "bottom": null,
       "display": null,
       "flex": null,
       "flex_flow": null,
       "grid_area": null,
       "grid_auto_columns": null,
       "grid_auto_flow": null,
       "grid_auto_rows": null,
       "grid_column": null,
       "grid_gap": null,
       "grid_row": null,
       "grid_template_areas": null,
       "grid_template_columns": null,
       "grid_template_rows": null,
       "height": null,
       "justify_content": null,
       "justify_items": null,
       "left": null,
       "margin": null,
       "max_height": null,
       "max_width": null,
       "min_height": null,
       "min_width": null,
       "object_fit": null,
       "object_position": null,
       "order": null,
       "overflow": null,
       "padding": null,
       "right": null,
       "top": null,
       "visibility": null,
       "width": null
      }
     },
     "bcc6c6a9808b4739b57013874d53258a": {
      "model_module": "@jupyter-widgets/base",
      "model_module_version": "2.0.0",
      "model_name": "LayoutModel",
      "state": {
       "_model_module": "@jupyter-widgets/base",
       "_model_module_version": "2.0.0",
       "_model_name": "LayoutModel",
       "_view_count": null,
       "_view_module": "@jupyter-widgets/base",
       "_view_module_version": "2.0.0",
       "_view_name": "LayoutView",
       "align_content": null,
       "align_items": null,
       "align_self": null,
       "border_bottom": null,
       "border_left": null,
       "border_right": null,
       "border_top": null,
       "bottom": null,
       "display": null,
       "flex": null,
       "flex_flow": null,
       "grid_area": null,
       "grid_auto_columns": null,
       "grid_auto_flow": null,
       "grid_auto_rows": null,
       "grid_column": null,
       "grid_gap": null,
       "grid_row": null,
       "grid_template_areas": null,
       "grid_template_columns": null,
       "grid_template_rows": null,
       "height": null,
       "justify_content": null,
       "justify_items": null,
       "left": null,
       "margin": null,
       "max_height": null,
       "max_width": null,
       "min_height": null,
       "min_width": null,
       "object_fit": null,
       "object_position": null,
       "order": null,
       "overflow": null,
       "padding": null,
       "right": null,
       "top": null,
       "visibility": null,
       "width": null
      }
     },
     "bdcf3a688ba9420d934388195d0b8b31": {
      "model_module": "@jupyter-widgets/controls",
      "model_module_version": "2.0.0",
      "model_name": "HTMLStyleModel",
      "state": {
       "_model_module": "@jupyter-widgets/controls",
       "_model_module_version": "2.0.0",
       "_model_name": "HTMLStyleModel",
       "_view_count": null,
       "_view_module": "@jupyter-widgets/base",
       "_view_module_version": "2.0.0",
       "_view_name": "StyleView",
       "background": null,
       "description_width": "",
       "font_size": null,
       "text_color": null
      }
     },
     "c0758cf9dad54811baec41da701d12d3": {
      "model_module": "@jupyter-widgets/controls",
      "model_module_version": "2.0.0",
      "model_name": "ProgressStyleModel",
      "state": {
       "_model_module": "@jupyter-widgets/controls",
       "_model_module_version": "2.0.0",
       "_model_name": "ProgressStyleModel",
       "_view_count": null,
       "_view_module": "@jupyter-widgets/base",
       "_view_module_version": "2.0.0",
       "_view_name": "StyleView",
       "bar_color": null,
       "description_width": ""
      }
     }
    },
    "version_major": 2,
    "version_minor": 0
   }
  }
 },
 "nbformat": 4,
 "nbformat_minor": 5
}