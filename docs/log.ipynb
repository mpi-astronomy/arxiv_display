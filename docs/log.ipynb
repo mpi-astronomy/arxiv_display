{
 "cells": [
  {
   "cell_type": "markdown",
   "id": "92bcb855",
   "metadata": {
    "papermill": {
     "duration": 0.005703,
     "end_time": "2022-09-26T05:21:45.367429",
     "exception": false,
     "start_time": "2022-09-26T05:21:45.361726",
     "status": "completed"
    },
    "tags": []
   },
   "source": [
    "# MPIA Arxiv on Deck 2\n",
    "\n",
    "Contains the steps to produce the paper extractions."
   ]
  },
  {
   "cell_type": "code",
   "execution_count": 1,
   "id": "3a0d6e11",
   "metadata": {
    "execution": {
     "iopub.execute_input": "2022-09-26T05:21:45.378818Z",
     "iopub.status.busy": "2022-09-26T05:21:45.378395Z",
     "iopub.status.idle": "2022-09-26T05:21:45.574711Z",
     "shell.execute_reply": "2022-09-26T05:21:45.573718Z"
    },
    "papermill": {
     "duration": 0.204778,
     "end_time": "2022-09-26T05:21:45.577101",
     "exception": false,
     "start_time": "2022-09-26T05:21:45.372323",
     "status": "completed"
    },
    "tags": []
   },
   "outputs": [],
   "source": [
    "# Imports\n",
    "import os\n",
    "from IPython.display import Markdown, display\n",
    "from tqdm.notebook import tqdm\n",
    "import warnings\n",
    "from PIL import Image \n",
    "\n",
    "# requires arxiv_on_deck_2\n",
    "\n",
    "from arxiv_on_deck_2.arxiv2 import (get_new_papers, \n",
    "                                    get_paper_from_identifier,\n",
    "                                    retrieve_document_source, \n",
    "                                    get_markdown_badge)\n",
    "from arxiv_on_deck_2 import (latex, \n",
    "                             mpia,\n",
    "                             highlight_authors_in_list)\n",
    "\n",
    "# Sometimes images are really big\n",
    "Image.MAX_IMAGE_PIXELS = 1000000000 "
   ]
  },
  {
   "cell_type": "code",
   "execution_count": 2,
   "id": "22aa9d44",
   "metadata": {
    "execution": {
     "iopub.execute_input": "2022-09-26T05:21:45.588249Z",
     "iopub.status.busy": "2022-09-26T05:21:45.587806Z",
     "iopub.status.idle": "2022-09-26T05:21:45.594954Z",
     "shell.execute_reply": "2022-09-26T05:21:45.594123Z"
    },
    "papermill": {
     "duration": 0.014462,
     "end_time": "2022-09-26T05:21:45.596718",
     "exception": false,
     "start_time": "2022-09-26T05:21:45.582256",
     "status": "completed"
    },
    "tags": []
   },
   "outputs": [],
   "source": [
    "# Some useful definitions.\n",
    "\n",
    "class AffiliationWarning(UserWarning):\n",
    "    pass\n",
    "\n",
    "class AffiliationError(RuntimeError):\n",
    "    pass\n",
    "\n",
    "def validation(source: str):\n",
    "    \"\"\"Raises error paper during parsing of source file\n",
    "    \n",
    "    Allows checks before parsing TeX code.\n",
    "    \n",
    "    Raises AffiliationWarning\n",
    "    \"\"\"\n",
    "    check = mpia.affiliation_verifications(source, verbose=True)\n",
    "    if check is not True:\n",
    "        raise AffiliationError(\"mpia.affiliation_verifications: \" + check)\n",
    "\n",
    "        \n",
    "warnings.simplefilter('always', AffiliationWarning)"
   ]
  },
  {
   "cell_type": "code",
   "execution_count": 3,
   "id": "14622700",
   "metadata": {
    "execution": {
     "iopub.execute_input": "2022-09-26T05:21:45.608833Z",
     "iopub.status.busy": "2022-09-26T05:21:45.608544Z",
     "iopub.status.idle": "2022-09-26T05:21:45.614722Z",
     "shell.execute_reply": "2022-09-26T05:21:45.613442Z"
    },
    "papermill": {
     "duration": 0.015616,
     "end_time": "2022-09-26T05:21:45.616822",
     "exception": false,
     "start_time": "2022-09-26T05:21:45.601206",
     "status": "completed"
    },
    "tags": []
   },
   "outputs": [],
   "source": [
    "# additional CSS to consider. \n",
    "# TODO: Current into each exported file. \n",
    "#       This should be set once into the webpages directly.\n",
    "#       With only the class/id definitions in the .md files.\n",
    "\n",
    "debug_html = \"\"\"\n",
    "<style>\n",
    "#wrap{ overflow:auto; }\n",
    "#fig1{ background:yellow; width:100%; float:left; padding:5px;  }\n",
    "#fig2{ background:red; width:50%; float:left; clear:left; padding:5px;  }\n",
    "#fig3{ background:green; width:50%; float:left; padding:5px;   }\n",
    ".macros{ background:yellow; visibility:visible;}\n",
    "h1 {margin: 0 0 0 0;}\n",
    "mark {background-color:#fff3b6;}\n",
    "img {object-fit:contain; max-height:250px; display:inline-block; text-align: center;}\n",
    "</style>\n",
    "\"\"\" \n",
    "html = \"\"\"\n",
    "<style>\n",
    "#wrap{ overflow:auto; }\n",
    "#fig1{ width:100%; float:left; padding: 5px;  }\n",
    "#fig2{ width:50%; float:left; clear:left; padding: 5px;  }\n",
    "#fig3{ width:50%; float:left; padding: 5px;  }\n",
    ".macros{ visibility:hidden; height:0px; }\n",
    "h1 {margin: 0em 0 0 0;}\n",
    "mark {background-color:#fff3b6;}\n",
    "img {object-fit:contain; max-height:250px; display:inline-block; text-align: center;}\n",
    "</style>\n",
    "\"\"\""
   ]
  },
  {
   "cell_type": "markdown",
   "id": "14bd6310",
   "metadata": {
    "papermill": {
     "duration": 0.004468,
     "end_time": "2022-09-26T05:21:45.625812",
     "exception": false,
     "start_time": "2022-09-26T05:21:45.621344",
     "status": "completed"
    },
    "tags": []
   },
   "source": [
    "## get list of arxiv paper candidates\n",
    "\n",
    "We use the MPIA mitarbeiter list webpage from mpia.de to get author names\n",
    "We then get all new papers from Arxiv and match authors"
   ]
  },
  {
   "cell_type": "code",
   "execution_count": 4,
   "id": "2645e73a",
   "metadata": {
    "execution": {
     "iopub.execute_input": "2022-09-26T05:21:45.636875Z",
     "iopub.status.busy": "2022-09-26T05:21:45.636310Z",
     "iopub.status.idle": "2022-09-26T05:22:14.711270Z",
     "shell.execute_reply": "2022-09-26T05:22:14.710279Z"
    },
    "papermill": {
     "duration": 29.082439,
     "end_time": "2022-09-26T05:22:14.713130",
     "exception": false,
     "start_time": "2022-09-26T05:21:45.630691",
     "status": "completed"
    },
    "tags": []
   },
   "outputs": [
    {
     "name": "stdout",
     "output_type": "stream",
     "text": [
      "Arxiv has 54 new papers today\n",
      "          20 with possible author matches\n"
     ]
    }
   ],
   "source": [
    "# get list from MPIA website\n",
    "# it automatically filters identified non-scientists :func:`mpia.filter_non_scientists`\n",
    "mpia_authors = mpia.get_mpia_mitarbeiter_list()\n",
    "new_papers = get_new_papers()\n",
    "# add manual references\n",
    "add_paper_refs = []\n",
    "new_papers.extend([get_paper_from_identifier(k) for k in add_paper_refs])\n",
    "\n",
    "# select only papers with matching author names and highlight authors\n",
    "hl_list = [k[0] for k in mpia_authors]\n",
    "\n",
    "candidates = []\n",
    "for paperk in new_papers:\n",
    "    hl_authors = highlight_authors_in_list(paperk['authors'], hl_list)\n",
    "    matches = [(hl, orig) for hl, orig in zip(hl_authors, paperk['authors']) if 'mark' in hl]\n",
    "    paperk['authors'] = hl_authors\n",
    "    if matches:\n",
    "        candidates.append(paperk)\n",
    "print(\"\"\"Arxiv has {0:,d} new papers today\"\"\".format(len(new_papers)))        \n",
    "print(\"\"\"          {0:,d} with possible author matches\"\"\".format(len(candidates)))"
   ]
  },
  {
   "cell_type": "markdown",
   "id": "3543b34a",
   "metadata": {
    "papermill": {
     "duration": 0.004932,
     "end_time": "2022-09-26T05:22:14.723141",
     "exception": false,
     "start_time": "2022-09-26T05:22:14.718209",
     "status": "completed"
    },
    "tags": []
   },
   "source": [
    "# Parse sources and generate relevant outputs\n",
    "\n",
    "From the candidates, we do the following steps:\n",
    "* get their tarball from ArXiv (and extract data)\n",
    "* find the main .tex file: find one with \\documentclass{...} (sometimes it's non trivial)\n",
    "* Check affiliations with :func:`validation`, which uses :func:`mpia.affiliation_verifications`\n",
    "* If passing the affiliations: we parse the .tex source\n",
    "   * inject sub-documents into the main (flatten the main document)\n",
    "   * parse structure, extract information (title, abstract, authors, figures...)\n",
    "   * handles `\\graphicspath` if provided\n",
    "* Generate the .md document."
   ]
  },
  {
   "cell_type": "code",
   "execution_count": 5,
   "id": "9576b79e",
   "metadata": {
    "execution": {
     "iopub.execute_input": "2022-09-26T05:22:14.733911Z",
     "iopub.status.busy": "2022-09-26T05:22:14.733418Z",
     "iopub.status.idle": "2022-09-26T05:24:08.240085Z",
     "shell.execute_reply": "2022-09-26T05:24:08.239251Z"
    },
    "papermill": {
     "duration": 113.515418,
     "end_time": "2022-09-26T05:24:08.243016",
     "exception": false,
     "start_time": "2022-09-26T05:22:14.727598",
     "status": "completed"
    },
    "scrolled": false,
    "tags": []
   },
   "outputs": [
    {
     "data": {
      "application/vnd.jupyter.widget-view+json": {
       "model_id": "13f814b13a694d5d938c8c863286d5cf",
       "version_major": 2,
       "version_minor": 0
      },
      "text/plain": [
       "  0%|          | 0/19 [00:00<?, ?it/s]"
      ]
     },
     "metadata": {},
     "output_type": "display_data"
    },
    {
     "name": "stdout",
     "output_type": "stream",
     "text": [
      "Retrieving document from  https://arxiv.org/e-print/2209.11238\n"
     ]
    },
    {
     "name": "stdout",
     "output_type": "stream",
     "text": [
      "extracting tarball to tmp_2209.11238..."
     ]
    },
    {
     "name": "stdout",
     "output_type": "stream",
     "text": [
      " done.\n",
      "Retrieving document from  https://arxiv.org/e-print/2209.11244\n"
     ]
    },
    {
     "name": "stdout",
     "output_type": "stream",
     "text": [
      "extracting tarball to tmp_2209.11244..."
     ]
    },
    {
     "name": "stdout",
     "output_type": "stream",
     "text": [
      " done.\n",
      "Retrieving document from  https://arxiv.org/e-print/2209.11248\n"
     ]
    },
    {
     "name": "stderr",
     "output_type": "stream",
     "text": [
      "/opt/hostedtoolcache/Python/3.9.14/x64/lib/python3.9/site-packages/IPython/core/interactiveshell.py:3378: LatexWarning: Multiple tex files.\n",
      "\n",
      "  exec(code_obj, self.user_global_ns, self.user_ns)\n",
      "/opt/hostedtoolcache/Python/3.9.14/x64/lib/python3.9/site-packages/IPython/core/interactiveshell.py:3378: LatexWarning: Found documentclass in tmp_2209.11244/main.tex\n",
      "\n",
      "  exec(code_obj, self.user_global_ns, self.user_ns)\n",
      "/opt/hostedtoolcache/Python/3.9.14/x64/lib/python3.9/site-packages/arxiv_on_deck_2/latex.py:292: LatexWarning: Latex injecting: 'style/definitions' from 'tmp_2209.11244/style/definitions.tex'\n",
      "  warnings.warn(LatexWarning(f\"Latex injecting: '{ext}' from '{subsource}'\"))\n",
      "/opt/hostedtoolcache/Python/3.9.14/x64/lib/python3.9/site-packages/arxiv_on_deck_2/latex.py:292: LatexWarning: Latex injecting: 'style/packages' from 'tmp_2209.11244/style/packages.tex'\n",
      "  warnings.warn(LatexWarning(f\"Latex injecting: '{ext}' from '{subsource}'\"))\n",
      "/opt/hostedtoolcache/Python/3.9.14/x64/lib/python3.9/site-packages/arxiv_on_deck_2/latex.py:292: LatexWarning: Latex injecting: 'style/settings' from 'tmp_2209.11244/style/settings.tex'\n",
      "  warnings.warn(LatexWarning(f\"Latex injecting: '{ext}' from '{subsource}'\"))\n"
     ]
    },
    {
     "name": "stdout",
     "output_type": "stream",
     "text": [
      "extracting tarball to tmp_2209.11248..."
     ]
    },
    {
     "name": "stdout",
     "output_type": "stream",
     "text": [
      " done.\n"
     ]
    },
    {
     "name": "stderr",
     "output_type": "stream",
     "text": [
      "/opt/hostedtoolcache/Python/3.9.14/x64/lib/python3.9/site-packages/IPython/core/interactiveshell.py:3378: LatexWarning: Multiple tex files.\n",
      "\n",
      "  exec(code_obj, self.user_global_ns, self.user_ns)\n",
      "/opt/hostedtoolcache/Python/3.9.14/x64/lib/python3.9/site-packages/IPython/core/interactiveshell.py:3378: LatexWarning: Found documentclass in tmp_2209.11248/ml.tex\n",
      "\n",
      "  exec(code_obj, self.user_global_ns, self.user_ns)\n",
      "/opt/hostedtoolcache/Python/3.9.14/x64/lib/python3.9/site-packages/arxiv_on_deck_2/latex.py:292: LatexWarning: Latex injecting: 'ml_app' from 'tmp_2209.11248/ml_app.tex'\n",
      "  warnings.warn(LatexWarning(f\"Latex injecting: '{ext}' from '{subsource}'\"))\n",
      "/opt/hostedtoolcache/Python/3.9.14/x64/lib/python3.9/site-packages/arxiv_on_deck_2/latex.py:292: LatexWarning: Latex injecting: 'ml_conclu' from 'tmp_2209.11248/ml_conclu.tex'\n",
      "  warnings.warn(LatexWarning(f\"Latex injecting: '{ext}' from '{subsource}'\"))\n",
      "/opt/hostedtoolcache/Python/3.9.14/x64/lib/python3.9/site-packages/arxiv_on_deck_2/latex.py:292: LatexWarning: Latex injecting: 'ml_body' from 'tmp_2209.11248/ml_body.tex'\n",
      "  warnings.warn(LatexWarning(f\"Latex injecting: '{ext}' from '{subsource}'\"))\n",
      "/opt/hostedtoolcache/Python/3.9.14/x64/lib/python3.9/site-packages/arxiv_on_deck_2/latex.py:292: LatexWarning: Latex injecting: 'ml_intro' from 'tmp_2209.11248/ml_intro.tex'\n",
      "  warnings.warn(LatexWarning(f\"Latex injecting: '{ext}' from '{subsource}'\"))\n",
      "/opt/hostedtoolcache/Python/3.9.14/x64/lib/python3.9/site-packages/arxiv_on_deck_2/latex.py:292: LatexWarning: Latex injecting: 'ml_abs' from 'tmp_2209.11248/ml_abs.tex'\n",
      "  warnings.warn(LatexWarning(f\"Latex injecting: '{ext}' from '{subsource}'\"))\n"
     ]
    },
    {
     "name": "stdout",
     "output_type": "stream",
     "text": [
      "Retrieving document from  https://arxiv.org/e-print/2209.11249\n"
     ]
    },
    {
     "name": "stdout",
     "output_type": "stream",
     "text": [
      "extracting tarball to tmp_2209.11249..."
     ]
    },
    {
     "name": "stdout",
     "output_type": "stream",
     "text": [
      " done.\n",
      "Retrieving document from  https://arxiv.org/e-print/2209.11251\n"
     ]
    },
    {
     "name": "stdout",
     "output_type": "stream",
     "text": [
      "extracting tarball to tmp_2209.11251..."
     ]
    },
    {
     "name": "stdout",
     "output_type": "stream",
     "text": [
      " done.\n",
      "Retrieving document from  https://arxiv.org/e-print/2209.11264\n"
     ]
    },
    {
     "name": "stderr",
     "output_type": "stream",
     "text": [
      "/opt/hostedtoolcache/Python/3.9.14/x64/lib/python3.9/site-packages/IPython/core/interactiveshell.py:3378: LatexWarning: Multiple tex files.\n",
      "\n",
      "  exec(code_obj, self.user_global_ns, self.user_ns)\n",
      "/opt/hostedtoolcache/Python/3.9.14/x64/lib/python3.9/site-packages/IPython/core/interactiveshell.py:3378: LatexWarning: Found documentclass in tmp_2209.11251/ms.tex\n",
      "\n",
      "  exec(code_obj, self.user_global_ns, self.user_ns)\n"
     ]
    },
    {
     "name": "stderr",
     "output_type": "stream",
     "text": [
      "/tmp/ipykernel_2225/4030337529.py:34: LatexWarning: 2209.11264 did not run properly\n",
      "not a gzip file\n",
      "  warnings.warn(latex.LatexWarning(f\"{paper_id:s} did not run properly\\n\" +\n"
     ]
    },
    {
     "name": "stdout",
     "output_type": "stream",
     "text": [
      "Retrieving document from  https://arxiv.org/e-print/2209.11314\n"
     ]
    },
    {
     "name": "stdout",
     "output_type": "stream",
     "text": [
      "extracting tarball to tmp_2209.11314..."
     ]
    },
    {
     "name": "stdout",
     "output_type": "stream",
     "text": [
      " done.\n",
      "Retrieving document from  https://arxiv.org/e-print/2209.11325\n"
     ]
    },
    {
     "name": "stdout",
     "output_type": "stream",
     "text": [
      "extracting tarball to tmp_2209.11325..."
     ]
    },
    {
     "name": "stdout",
     "output_type": "stream",
     "text": [
      " done.\n",
      "Retrieving document from  https://arxiv.org/e-print/2209.11376\n"
     ]
    },
    {
     "name": "stdout",
     "output_type": "stream",
     "text": [
      "extracting tarball to tmp_2209.11376..."
     ]
    },
    {
     "name": "stdout",
     "output_type": "stream",
     "text": [
      " done.\n",
      "Retrieving document from  https://arxiv.org/e-print/2209.11458\n"
     ]
    },
    {
     "name": "stdout",
     "output_type": "stream",
     "text": [
      "extracting tarball to tmp_2209.11458..."
     ]
    },
    {
     "name": "stdout",
     "output_type": "stream",
     "text": [
      " done.\n",
      "Retrieving document from  https://arxiv.org/e-print/2209.11496\n"
     ]
    },
    {
     "name": "stdout",
     "output_type": "stream",
     "text": [
      "extracting tarball to tmp_2209.11496... done.\n",
      "Retrieving document from  https://arxiv.org/e-print/2209.11511\n"
     ]
    },
    {
     "name": "stderr",
     "output_type": "stream",
     "text": [
      "/tmp/ipykernel_2225/4030337529.py:34: LatexWarning: 2209.11496 did not run properly\n",
      "'utf-8' codec can't decode byte 0xc3 in position 45384: invalid continuation byte\n",
      "  warnings.warn(latex.LatexWarning(f\"{paper_id:s} did not run properly\\n\" +\n"
     ]
    },
    {
     "name": "stdout",
     "output_type": "stream",
     "text": [
      "extracting tarball to tmp_2209.11511..."
     ]
    },
    {
     "name": "stdout",
     "output_type": "stream",
     "text": [
      " done.\n",
      "Retrieving document from  https://arxiv.org/e-print/2209.11602\n"
     ]
    },
    {
     "name": "stdout",
     "output_type": "stream",
     "text": [
      "extracting tarball to tmp_2209.11602..."
     ]
    },
    {
     "name": "stdout",
     "output_type": "stream",
     "text": [
      " done.\n"
     ]
    },
    {
     "name": "stderr",
     "output_type": "stream",
     "text": [
      "/opt/hostedtoolcache/Python/3.9.14/x64/lib/python3.9/site-packages/IPython/core/interactiveshell.py:3378: LatexWarning: Multiple tex files.\n",
      "\n",
      "  exec(code_obj, self.user_global_ns, self.user_ns)\n",
      "/opt/hostedtoolcache/Python/3.9.14/x64/lib/python3.9/site-packages/IPython/core/interactiveshell.py:3378: LatexWarning: Found documentclass in tmp_2209.11602/main.tex\n",
      "\n",
      "  exec(code_obj, self.user_global_ns, self.user_ns)\n"
     ]
    },
    {
     "name": "stdout",
     "output_type": "stream",
     "text": [
      "Retrieving document from  https://arxiv.org/e-print/2209.11609\n"
     ]
    },
    {
     "name": "stdout",
     "output_type": "stream",
     "text": [
      "extracting tarball to tmp_2209.11609... done.\n",
      "Retrieving document from  https://arxiv.org/e-print/2209.11630\n"
     ]
    },
    {
     "name": "stdout",
     "output_type": "stream",
     "text": [
      "extracting tarball to tmp_2209.11630..."
     ]
    },
    {
     "name": "stdout",
     "output_type": "stream",
     "text": [
      " done.\n",
      "Retrieving document from  https://arxiv.org/e-print/2209.11671\n"
     ]
    },
    {
     "name": "stdout",
     "output_type": "stream",
     "text": [
      "extracting tarball to tmp_2209.11671..."
     ]
    },
    {
     "name": "stdout",
     "output_type": "stream",
     "text": [
      " done.\n",
      "Retrieving document from  https://arxiv.org/e-print/2209.11685\n"
     ]
    },
    {
     "name": "stderr",
     "output_type": "stream",
     "text": [
      "/tmp/ipykernel_2225/4030337529.py:34: LatexWarning: 2209.11685 did not run properly\n",
      "not a gzip file\n",
      "  warnings.warn(latex.LatexWarning(f\"{paper_id:s} did not run properly\\n\" +\n"
     ]
    },
    {
     "name": "stdout",
     "output_type": "stream",
     "text": [
      "Retrieving document from  https://arxiv.org/e-print/2209.11701\n"
     ]
    },
    {
     "name": "stdout",
     "output_type": "stream",
     "text": [
      "extracting tarball to tmp_2209.11701..."
     ]
    },
    {
     "name": "stdout",
     "output_type": "stream",
     "text": [
      " done.\n",
      "Retrieving document from  https://arxiv.org/e-print/2209.11735\n"
     ]
    },
    {
     "name": "stdout",
     "output_type": "stream",
     "text": [
      "extracting tarball to tmp_2209.11735..."
     ]
    },
    {
     "name": "stdout",
     "output_type": "stream",
     "text": [
      " done.\n"
     ]
    }
   ],
   "source": [
    "documents = []\n",
    "failed = []\n",
    "for paper in tqdm(candidates[:-1]):\n",
    "    paper_id = paper['identifier'].lower().replace('arxiv:', '')\n",
    "    \n",
    "    folder = f'tmp_{paper_id}'\n",
    "\n",
    "    try:\n",
    "        if not os.path.isdir(folder):\n",
    "            folder = retrieve_document_source(f\"{paper_id}\", f'tmp_{paper_id}')\n",
    "        \n",
    "        try:\n",
    "            doc = latex.LatexDocument(folder, validation=validation)    \n",
    "        except AffiliationError as affilerror:\n",
    "            msg = f\"ArXiv:{paper_id:s} is not an MPIA paper... \" + str(affilerror)\n",
    "            failed.append((paper, \"affiliation error: \" + str(affilerror) ))\n",
    "            continue\n",
    "        \n",
    "        # Hack because sometimes author parsing does not work well\n",
    "        if (len(doc.authors) != len(paper['authors'])):\n",
    "            doc._authors = paper['authors']\n",
    "        if (doc.abstract) in (None, ''):\n",
    "            doc._abstract = paper['abstract']\n",
    "            \n",
    "        doc.comment = (get_markdown_badge(paper_id) + \n",
    "                       \"<mark>Appeared on: \" + paper['date'] + \"</mark> - \" +\n",
    "                       \"_\" + paper['comments'] + \"_\")\n",
    "        doc.highlight_authors_in_list(hl_list)\n",
    "\n",
    "        full_md = doc.generate_markdown_text()\n",
    "        \n",
    "        documents.append((paper_id, full_md))\n",
    "    except Exception as e:\n",
    "        warnings.warn(latex.LatexWarning(f\"{paper_id:s} did not run properly\\n\" +\n",
    "                                         str(e)\n",
    "                                        ))\n",
    "        failed.append((paper, \"latex error \" + str(e)))"
   ]
  },
  {
   "cell_type": "markdown",
   "id": "2505a25c",
   "metadata": {
    "papermill": {
     "duration": 0.007732,
     "end_time": "2022-09-26T05:24:08.258590",
     "exception": false,
     "start_time": "2022-09-26T05:24:08.250858",
     "status": "completed"
    },
    "tags": []
   },
   "source": [
    "### Export the logs\n",
    "\n",
    "Throughout, we also keep track of the logs per paper. see `logs-{today date}.md` "
   ]
  },
  {
   "cell_type": "code",
   "execution_count": 6,
   "id": "d733828a",
   "metadata": {
    "execution": {
     "iopub.execute_input": "2022-09-26T05:24:08.275526Z",
     "iopub.status.busy": "2022-09-26T05:24:08.274438Z",
     "iopub.status.idle": "2022-09-26T05:24:08.343231Z",
     "shell.execute_reply": "2022-09-26T05:24:08.342275Z"
    },
    "papermill": {
     "duration": 0.079649,
     "end_time": "2022-09-26T05:24:08.345495",
     "exception": false,
     "start_time": "2022-09-26T05:24:08.265846",
     "status": "completed"
    },
    "scrolled": false,
    "tags": []
   },
   "outputs": [
    {
     "data": {
      "text/markdown": [
       "## Successful papers"
      ],
      "text/plain": [
       "<IPython.core.display.Markdown object>"
      ]
     },
     "metadata": {},
     "output_type": "display_data"
    },
    {
     "data": {
      "text/markdown": [
       "\n",
       "|||\n",
       "|---:|:---|\n",
       "| [![arXiv](https://img.shields.io/badge/arXiv-arXiv:2209.11248-b31b1b.svg)](https://arxiv.org/abs/arXiv:2209.11248) | **Comparing simulated Milky Way satellite galaxies with observations using  unsupervised clustering**  |\n",
       "|| <mark>Li-Hsin Chen</mark>, Tilman Hartwig, Ralf S. Klessen, Simon C. O. Glover |\n",
       "|*Appeared on*| *2022-09-26*|\n",
       "|*Comments*| *11 pages, 7 figures, 3 tables. Submitted to MNRAS, comments are welcome*|\n",
       "|**Abstract**| We develop a new analysis method that allows us to compare multi-dimensional observables to a theoretical model. The method is based on unsupervised clustering algorithms which assign the observational and simulated data to clusters in high dimensionality. From the clustering result, a goodness of fit (the p-value) is determined with the Fisher-Freeman-Halton test. We first show that this approach is robust for 2D Gaussian distributions. We then apply the method to the observed MW satellites and simulated satellites from the fiducial model of our semi-analytic code A-SLOTH. We use the following 5 observables of the galaxies in the analysis: stellar mass, virial mass, heliocentric distance, mean stellar metallicity [Fe/H], and stellar metallicity dispersion {\\sigma}[Fe/H]. A low p-value returned from the analysis tells us that our A-SLOTH fiducial model does not reproduce the mean stellar metallicity of the observed MW satellites well. We implement an ad-hoc improvement to the physical model and show that the number of dark matter merger trees which have p-values > 0.01 increases from 3 to 6. This method can be extended to data with higher dimensionality easily. We plan to further improve the physical model in A-SLOTH using this method to study elemental abundances of stars in the observed MW satellites. |"
      ],
      "text/plain": [
       "[arXiv:2209.11248] Comparing simulated Milky Way satellite galaxies with observations using  unsupervised clustering\n",
       "\t<mark>Li-Hsin Chen</mark>, Tilman Hartwig, Ralf S. Klessen, Simon C. O. Glover"
      ]
     },
     "metadata": {},
     "output_type": "display_data"
    },
    {
     "data": {
      "text/markdown": [
       "\n",
       "|||\n",
       "|---:|:---|\n",
       "| [![arXiv](https://img.shields.io/badge/arXiv-arXiv:2209.11602-b31b1b.svg)](https://arxiv.org/abs/arXiv:2209.11602) | **GRAVITY+ Wide: Towards hundreds of z $\\sim$ 2 AGN**  |\n",
       "|| A. Drescher, et al. -- incl., <mark>L. Kreidberg</mark> |\n",
       "|*Appeared on*| *2022-09-26*|\n",
       "|*Comments*| *Proceeding of SPIE Astronomical Telescopes + Instrumentation 2022*|\n",
       "|**Abstract**| As part of the GRAVITY$^{+}$ project, the near-infrared beam combiner GRAVITY and the VLTI are currently undergoing a series of significant upgrades to further improve the performance and sky coverage. The instrumental changes will be transformational, and for instance uniquely position GRAVITY to observe the broad line region of hundreds of Active Galactic Nuclei (AGN) at a redshift of two and higher. The increased sky coverage is achieved by enlarging the maximum angular separation between the celestial science object (SC) and the off-axis fringe tracking (FT) star from currently 2 arcseconds (arcsec) up to unprecedented 30 arcsec, limited by the atmospheric conditions. This was successfully demonstrated at the VLTI for the first time. |"
      ],
      "text/plain": [
       "[arXiv:2209.11602] GRAVITY+ Wide: Towards hundreds of z $\\sim$ 2 AGN\n",
       "\tA. Drescher, et al. -- incl., <mark>L. Kreidberg</mark>"
      ]
     },
     "metadata": {},
     "output_type": "display_data"
    },
    {
     "data": {
      "text/markdown": [
       "## Failed papers"
      ],
      "text/plain": [
       "<IPython.core.display.Markdown object>"
      ]
     },
     "metadata": {},
     "output_type": "display_data"
    },
    {
     "data": {
      "text/markdown": [
       "\n",
       "|||\n",
       "|---:|:---|\n",
       "| [![arXiv](https://img.shields.io/badge/arXiv-arXiv:2209.11238-b31b1b.svg)](https://arxiv.org/abs/arXiv:2209.11238) | **Cosmicflows-4**  |\n",
       "|| R. Brent Tully, et al. -- incl., <mark>Thomas de Jaeger</mark>, <mark>Joseph B. Jensen</mark> |\n",
       "|*Appeared on*| *2022-09-26*|\n",
       "|*Comments*| *38 pages, 24 figures. catalogs available at edd.ifa.hawaii.edu. Accepted to ApJ*|\n",
       "|**Abstract**| With Cosmicflows-4, distances are compiled for 55,877 galaxies gathered into 38,065 groups. Eight methodologies are employed, with the largest numbers coming from the correlations between the photometric and kinematic properties of spiral galaxies (TF) and elliptical galaxies (FP). Supernovae that arise from degenerate progenitors (SNIa) are an important overlapping component. Smaller contributions come from distance estimates from the surface brightness fluctuations of elliptical galaxies (SBF) and the luminosities and expansion rates of core collapse supernovae (SNII). Cepheid Period-Luminosity Relation (CPLR) and Tip of the Red Giant Branch (TRGB) observations founded on local stellar parallax measurements along with the geometric maser distance to NGC 4258 provide the absolute scaling of distances. The assembly of galaxies into groups is an important feature of the study in facilitating overlaps between methodologies. Merging between multiple contributions within a methodology and between methodologies is carried out with Bayesian Markov chain Monte Carlo procedures. The final assembly of distances is compatible with a value of the Hubble constant of $H_0=75.0$ km s$^{-1}$ Mpc$^{-1}$ with the small statistical error $\\pm$ $0.8$ km s$^{-1}$ Mpc$^{-1}$ but a large potential systematic error ~3 km s$^{-1}$ Mpc$^{-1}$. Peculiar velocities can be inferred from the measured distances. The interpretation of the field of peculiar velocities is complex because of large errors on individual components and invites analyses beyond the scope of this study. |\n",
       "|<p style=\"color:green\"> **ERROR** </p>| <p style=\"color:green\">affiliation error: mpia.affiliation_verifications: 'Heidelberg' keyword not found.</p> |"
      ],
      "text/plain": [
       "<IPython.core.display.Markdown object>"
      ]
     },
     "metadata": {},
     "output_type": "display_data"
    },
    {
     "data": {
      "text/markdown": [
       "\n",
       "|||\n",
       "|---:|:---|\n",
       "| [![arXiv](https://img.shields.io/badge/arXiv-arXiv:2209.11244-b31b1b.svg)](https://arxiv.org/abs/arXiv:2209.11244) | **On the Sensitivity of Halo Shape Measurements**  |\n",
       "|| <mark>Moritz S. Fischer</mark>, Lucas M. Valenzuela |\n",
       "|*Appeared on*| *2022-09-26*|\n",
       "|*Comments*| *5 pages, 2 figures + appendices, submitted to A&A*|\n",
       "|**Abstract**| Shape measurements of galaxies and galaxy clusters are widespread in the analysis of cosmological simulations. But the limitations of those measurements have been poorly investigated. In this paper, we explain why the quality of the shape measurement does not only depend on the numerical resolution, but also on the density gradient. In particular, this can limit the quality of measurements in the central regions of haloes. We propose a criterion to estimate the sensitivity of the measured shapes based on the density gradient of the halo and apply it to cosmological simulations of collisionless and self-interacting dark matter. By this, we demonstrate where reliable measurements of the halo shape are possible and how cored density profiles limit their applicability. |\n",
       "|<p style=\"color:green\"> **ERROR** </p>| <p style=\"color:green\">affiliation error: mpia.affiliation_verifications: 'Heidelberg' keyword not found.</p> |"
      ],
      "text/plain": [
       "<IPython.core.display.Markdown object>"
      ]
     },
     "metadata": {},
     "output_type": "display_data"
    },
    {
     "data": {
      "text/markdown": [
       "\n",
       "|||\n",
       "|---:|:---|\n",
       "| [![arXiv](https://img.shields.io/badge/arXiv-arXiv:2209.11249-b31b1b.svg)](https://arxiv.org/abs/arXiv:2209.11249) | **A Close Quasar Pair in a Disk-Disk Galaxy Merger at z = 2.17**  |\n",
       "|| Yu-Ching Chen, et al. -- incl., <mark>Xin Liu</mark> |\n",
       "|*Appeared on*| *2022-09-26*|\n",
       "|*Comments*| *79 pages, 17 figures, 6 tables; submitted*|\n",
       "|**Abstract**| Most local massive galaxies, if not all, are believed to harbor a supermassive black hole (SMBH) at the center. Galaxy mergers have long been thought to drive strong gas inflows and accretion onto one or both central SMBH, triggering single or dual quasars as a natural stage of the hierarchical galaxy and SMBH evolution. While many dual active galactic nuclei -- the low-luminosity counterparts of quasars -- have been observed at low redshift, no unambiguous dual quasar is known at cosmic noon (z>~2) when both quasar activity and global star formation density peaked. While a handful of dual quasar candidates were known at z>1, competing explanations remained. Here we report multi-wavelength observations of SDSS J0749+2255 as the first kpc-scale dual quasar confirmed to be hosted by a galaxy merger at cosmic noon. Hubble Space Telescope NIR imaging reveals extended host galaxies underlying the compact double nuclei (separated by 0.46\" or 3.8 kpc) and tidal features as evidence for galactic interactions. We also present new multi-wavelength observations, all lending support to the dual quasar hypothesis. Unlike the low-redshift low-luminosity counterparts, the high-redshift dual quasar is hosted by two massive compact disk-dominated galaxies, which may be critical for efficient gas fueling onto the SMBHs in the early-stage merger. The apparent lack of stellar bulges and that SDSS J0749+2255 already follows the local SMBH mass-host stellar mass relation are at odds with the canonical SMBH-host co-evolution picture and suggest that at least some SMBHs may have formed before their host stellar bulges. While still at kpc-scale separations where the host-galaxy gravitational potential dominates, the SMBHs may evolve into a gravitationally bound binary system in ~0.22 Gyr. The merger products at low redshift are expected to be gravitational wave sources for pulsar-timing arrays (abridged). |\n",
       "|<p style=\"color:green\"> **ERROR** </p>| <p style=\"color:green\">affiliation error: mpia.affiliation_verifications: 'Heidelberg' keyword not found.</p> |"
      ],
      "text/plain": [
       "<IPython.core.display.Markdown object>"
      ]
     },
     "metadata": {},
     "output_type": "display_data"
    },
    {
     "data": {
      "text/markdown": [
       "\n",
       "|||\n",
       "|---:|:---|\n",
       "| [![arXiv](https://img.shields.io/badge/arXiv-arXiv:2209.11251-b31b1b.svg)](https://arxiv.org/abs/arXiv:2209.11251) | **Optical Time-Series Photometry of the Symbiotic Nova V1835 Aquilae**  |\n",
       "|| Robert V. Caddy, et al. -- incl., <mark>Tyler R. Linder</mark> |\n",
       "|*Appeared on*| *2022-09-26*|\n",
       "|*Comments*| *Main Paper: 28 pages, 5 figures, 5 tables. Supplement: 15 pages, 4 figures, 1 table. To be published in Publications of the Astronomical Society of the Pacific*|\n",
       "|**Abstract**| We present time-series CCD photometry in the $BVRI$ passbands of the recently identified symbiotic nova V1835 Aquilae (NSV 11749) over an interval of 5.1 years with 7-14 day cadence, observed during its quiescence. We find slow light variations with a range of $\\sim$0.9 mag in $V$ and $\\sim$0.3 mag in $I$. Analysis of these data show strong periodicity at $419 \\pm 10$ days, which we interpret to be the system's orbital period. A dip in the otherwise-sinusoidal phased light curve suggests a weak ellipsoidal effect due to tidal distortion of the giant star, which in turn opens the possibility that V1835 Aql transfers some of its mass to the hot component via Roche lobe overflow rather than via a stellar wind. We also find evidence that V1835 Aql is an S-type symbiotic star, relatively free of circumstellar dust, and include it among the nuclear burning group of symbiotics. Finally, we provide photometry, periods, and light curve classifications for 22 variable stars in the field around V1835 Aql, about half of which are newly identified. |\n",
       "|<p style=\"color:green\"> **ERROR** </p>| <p style=\"color:green\">affiliation error: mpia.affiliation_verifications: 'Heidelberg' keyword not found.</p> |"
      ],
      "text/plain": [
       "<IPython.core.display.Markdown object>"
      ]
     },
     "metadata": {},
     "output_type": "display_data"
    },
    {
     "data": {
      "text/markdown": [
       "\n",
       "|||\n",
       "|---:|:---|\n",
       "| [![arXiv](https://img.shields.io/badge/arXiv-arXiv:2209.11314-b31b1b.svg)](https://arxiv.org/abs/arXiv:2209.11314) | **X-ray Emission from the Exoplanet Hosting LTT 1445 Triple Star System**  |\n",
       "|| <mark>Alexander Brown</mark>, et al. |\n",
       "|*Appeared on*| *2022-09-26*|\n",
       "|*Comments*| *18 pages, 4 figures. Accepted to The Astronomical Journal (2022 September 1)*|\n",
       "|**Abstract**| JWST will be able to observe the atmospheres of rocky planets transiting nearby M dwarfs. The M dwarf triple star system LTT 1445, at a distance of 6.86 pc, hosts some of the nearest rocky terrestrial planets. These planets most likely orbit the M 3.5V star LTT 1445A. During a 28.6 ksec Chandra ACIS-S3 observation we have i) spatially resolved and detected all three stars in the LTT 1445 system, ii) measured the X-ray luminosity of the individual stars, including LTT 1445A, for the first time, iii) studied the flux variability of the X-ray sources and found strong variability from the A and C components, and iv) investigated how the coronal luminosities, temperatures and volume emission measures vary at different activity levels. Combining these X-ray data with upcoming HST ultraviolet observations will allow a differential emission measure (DEM) estimation of the star's EUV spectrum, thereby facilitating modeling of the rocky planets' atmospheres. |\n",
       "|<p style=\"color:green\"> **ERROR** </p>| <p style=\"color:green\">affiliation error: mpia.affiliation_verifications: 'Heidelberg' keyword not found.</p> |"
      ],
      "text/plain": [
       "<IPython.core.display.Markdown object>"
      ]
     },
     "metadata": {},
     "output_type": "display_data"
    },
    {
     "data": {
      "text/markdown": [
       "\n",
       "|||\n",
       "|---:|:---|\n",
       "| [![arXiv](https://img.shields.io/badge/arXiv-arXiv:2209.11325-b31b1b.svg)](https://arxiv.org/abs/arXiv:2209.11325) | **GALFIT-ing AGN Host Galaxies in COSMOS: HST vs. Subaru**  |\n",
       "|| Callum Dewsnap, et al. -- incl., <mark>Aritra Ghosh</mark> |\n",
       "|*Appeared on*| *2022-09-26*|\n",
       "|*Comments*| *25 pages, 17 figures. Accepted to be published in the Astrophysical Journal*|\n",
       "|**Abstract**| The COSMOS field has been extensively observed by most major telescopes, including Chandra, HST, and Subaru. HST imaging boasts very high spatial resolution and is used extensively in morphological studies of distant galaxies. Subaru provides lower spatial resolution imaging than HST but a substantially wider field of view with greater sensitivity. Both telescopes provide near-infrared imaging of COSMOS. Successful morphological fitting of Subaru data would allow us to measure morphologies of over $10^4$ known active galactic nucleus (AGN) hosts, accessible through Subaru wide-field surveys, currently not covered by HST. For 4016 AGN between $0.03<z<6.5$, we study the morphology of their galaxy hosts using GALFIT, fitting components representing the AGN and host galaxy simultaneously using the i-band imaging from both HST and Subaru. Comparing the fits for the differing telescope spatial resolutions and image signal-to-noise ratios, we identify parameter regimes for which there is strong disagreement between distributions of fitted parameters for HST and Subaru. In particular, the S\\'ersic index values strongly disagree between the two sets of data, including sources at lower redshifts. In contrast, the measured magnitude and radius parameters show reasonable agreement. Additionally, large variations in the S\\'ersic index have little effect on the $\\chi^2_\\nu$ of each fit whereas variations in other parameters have a more significant effect. These results indicate that the S\\'ersic index distributions of high-redshift galaxies that host AGN imaged at ground-based spatial resolution are not reliable indicators of galaxy type, and should be interpreted with caution. |\n",
       "|<p style=\"color:green\"> **ERROR** </p>| <p style=\"color:green\">affiliation error: mpia.affiliation_verifications: 'Heidelberg' keyword not found.</p> |"
      ],
      "text/plain": [
       "<IPython.core.display.Markdown object>"
      ]
     },
     "metadata": {},
     "output_type": "display_data"
    },
    {
     "data": {
      "text/markdown": [
       "\n",
       "|||\n",
       "|---:|:---|\n",
       "| [![arXiv](https://img.shields.io/badge/arXiv-arXiv:2209.11376-b31b1b.svg)](https://arxiv.org/abs/arXiv:2209.11376) | **The jet formation mechanism of Gamma-ray Narrow-line Seyfert 1 Galaxies**  |\n",
       "|| Chen Yongyun, et al. -- incl., <mark>Guo Xiaotong</mark> |\n",
       "|*Appeared on*| *2022-09-26*|\n",
       "|*Comments*| *9 pages,6 figures,accepted for publication in MNRAS*|\n",
       "|**Abstract**| Under the coronal magnetic field, we estimate the maximal jet power of the Blandford-\\Znajek (BZ) mechanism, Blandford-\\Payne (BP) mechanism, and hybrid model. The jet power of the BZ and Hybrid model mechanisms depends on the spin of a black hole, while the jet power of the BP mechanism does not depend on the spin of a black hole. At high black hole spin, the jet power of the hybrid model is greater than that of the BZ and BP mechanisms. We find that the jet power of almost all gamma-\\ray narrow line Seyfert 1 galaxies (gamma-\\NLS1s) can be explained by the hybrid model. However, one source with jet power 0.1~\\1 Eddington luminosity can not be explained by the hybrid model. We suggest that the magnetic field dragged inward by the accretion disk with magnetization-\\driven outflows may accelerate the jets in this gamma-\\NLS1. |\n",
       "|<p style=\"color:green\"> **ERROR** </p>| <p style=\"color:green\">affiliation error: mpia.affiliation_verifications: 'Heidelberg' keyword not found.</p> |"
      ],
      "text/plain": [
       "<IPython.core.display.Markdown object>"
      ]
     },
     "metadata": {},
     "output_type": "display_data"
    },
    {
     "data": {
      "text/markdown": [
       "\n",
       "|||\n",
       "|---:|:---|\n",
       "| [![arXiv](https://img.shields.io/badge/arXiv-arXiv:2209.11458-b31b1b.svg)](https://arxiv.org/abs/arXiv:2209.11458) | **Prospective Study on Observations of γ-Ray Sources in the Galaxy  Using the HADAR Experiment**  |\n",
       "|| Xiangli Qian, et al. -- incl., <mark>Yiqing Guo</mark>, <mark>Haijin Li</mark>, <mark>Cheng Liu</mark>, <mark>Maoyuan Liu</mark>, <mark>Wei Liu</mark>, <mark>Yi Zhang</mark> |\n",
       "|*Appeared on*| *2022-09-26*|\n",
       "|*Comments*| **|\n",
       "|**Abstract**| The High Altitude Detection of Astronomical Radiation (HADAR) experiment is a refracting terrestrial telescope array based on the atmospheric Cherenkov imaging technique. It focuses the Cherenkov light emitted by extensive air showers through a large aperture water-lens system for observing very-high-energy-rays and cosmic rays. With the advantages of a large field-of-view (FOV) and low energy threshold, the HADAR experiment operates in a large-scale sky scanning mode to observe galactic sources. This study presents the prospects of using the HADAR experiment for the sky survey of TeV {\\gamma}-ray sources from TeVCat and provids a one-year survey of statistical significance. Results from the simulation show that a total of 23 galactic point sources, including five supernova remnant sources and superbubbles, four pulsar wind nebula sources, and 14 unidentified sources, were detected in the HADAR FOV with a significance greater than 5 standard deviations ({\\sigma}). The statistical significance for the Crab Nebula during one year of operation reached 346.0 {\\sigma} and the one-year integral sensitivity of HADAR above 1TeV was ~1.3%-2.4% of the flux from the Crab Nebula. |\n",
       "|<p style=\"color:green\"> **ERROR** </p>| <p style=\"color:green\">affiliation error: mpia.affiliation_verifications: 'Heidelberg' keyword not found.</p> |"
      ],
      "text/plain": [
       "<IPython.core.display.Markdown object>"
      ]
     },
     "metadata": {},
     "output_type": "display_data"
    },
    {
     "data": {
      "text/markdown": [
       "\n",
       "|||\n",
       "|---:|:---|\n",
       "| [![arXiv](https://img.shields.io/badge/arXiv-arXiv:2209.11511-b31b1b.svg)](https://arxiv.org/abs/arXiv:2209.11511) | **MKID, an energy sensitive superconducting detector for the next  generation of XAO**  |\n",
       "|| Aurelie Magniez, <mark>Lisa Bardou</mark>, Tim Morris, Kieran O'Brien |\n",
       "|*Appeared on*| *2022-09-26*|\n",
       "|*Comments*| *Proceeding going with presentation done at SPIE 2022, 8 figures, 12 pages*|\n",
       "|**Abstract**| Selected for the next generation of adaptive optics (AO) systems, the pyramid wavefront sensor (PWFS) is recognised for its closed AO loop performance. As new technologies are emerging, it is necessary to explore new methods to improve it. Microwave Kinetic Inductance Detectors (MKID) are photon-counting devices that measure the arrival time and energy of each incident photon, providing new capabilities over existing detectors and significant AO performance benefits. After developing a multi-wavelength PWFS simulation, we study the benefits of using an energy sensitive detector, analyse the PWFS performance according to wavelength and explore the possibility of using fainter natural guide stars by widening the bandpass of the wavefront sensor. |\n",
       "|<p style=\"color:green\"> **ERROR** </p>| <p style=\"color:green\">affiliation error: mpia.affiliation_verifications: 'Heidelberg' keyword not found.</p> |"
      ],
      "text/plain": [
       "<IPython.core.display.Markdown object>"
      ]
     },
     "metadata": {},
     "output_type": "display_data"
    },
    {
     "data": {
      "text/markdown": [
       "\n",
       "|||\n",
       "|---:|:---|\n",
       "| [![arXiv](https://img.shields.io/badge/arXiv-arXiv:2209.11609-b31b1b.svg)](https://arxiv.org/abs/arXiv:2209.11609) | **Combined Effects of $f(R)$ Gravity and Massive Neutrinos on the  Turn-Around Radii of Dark Matter Halos**  |\n",
       "|| <mark>Jounghun Lee</mark>, Marco Baldi |\n",
       "|*Appeared on*| *2022-09-26*|\n",
       "|*Comments*| *Accepted for publication in ApJ, 6 figures, 1 table*|\n",
       "|**Abstract**| We present a new statistics based on the turn-around radii of cluster halos to break the dark sector degeneracy between the $\\Lambda$CDM model and the alternative ones with $f(R)$ gravity and massive neutrinos ($\\nu$) characterized by the strength of the fifth force, $\\vert f_{R0}\\vert$, and the total neutrino mass, $M_{\\nu}$. Analyzing the rockstar halo catalogs at the present epoch from the {\\small DUSTGRAIN}-{pathfinder} $N$-body simulations performed for four different cosmologies, namely, $\\Lambda$CDM ($\\vert f_{R0}\\vert=0$, $M_{\\nu}=0.0$eV), fR6 ($\\vert f_{R0}\\vert=10^{-6}$, $M_{\\nu}=0.0$eV), fR6+$0.06$eV ($\\vert f_{R0}\\vert=10^{-6}$, $M_{\\nu}=0.06$eV) and fR5+$0.15$eV ($\\vert f_{R0}\\vert=10^{-5}$, $M_{\\nu}=0.15$eV), which are known to yield very similar conventional statistics to one another. For each model, we select those cluster halos which do not neighbor any other larger halos in their bound zones and construct their bound-zone peculiar velocity profiles at $z=0$. Then, we determine the radial distance of each selected halo at which the bound-zone velocity becomes equal to the recession speed of the Hubble flow as its turn around radius, and evaluate the cumulative probability distribution of the ratios of the turn-around radii to the virial counterparts, $P(r_{t}/r_{v}\\ge \\alpha)$. The degeneracy between the fR6 and fR5+$0.15$eV models is found to be readily broken by the $10\\sigma_{\\Delta P}$ difference in the value of $P(\\alpha=4)$, while the $3.2\\sigma_{\\Delta P}$ difference between the $\\Lambda$CDM and fR6+$0.06$eV models is detected in the value of $P(\\alpha=8.5)$. It is also found that the four models yield smaller differences in $P(\\alpha)$ at higher redshifts. |\n",
       "|<p style=\"color:green\"> **ERROR** </p>| <p style=\"color:green\">affiliation error: mpia.affiliation_verifications: 'Heidelberg' keyword not found.</p> |"
      ],
      "text/plain": [
       "<IPython.core.display.Markdown object>"
      ]
     },
     "metadata": {},
     "output_type": "display_data"
    },
    {
     "data": {
      "text/markdown": [
       "\n",
       "|||\n",
       "|---:|:---|\n",
       "| [![arXiv](https://img.shields.io/badge/arXiv-arXiv:2209.11630-b31b1b.svg)](https://arxiv.org/abs/arXiv:2209.11630) | **Impact of local turbulence on high-order adaptive optics**  |\n",
       "|| Hugo Nowacki, et al. -- incl., <mark>Eric Stadler</mark> |\n",
       "|*Appeared on*| *2022-09-26*|\n",
       "|*Comments*| **|\n",
       "|**Abstract**| We present an experiment set to address a standard specification aiming at avoiding local turbulence inside the Coud\\'e train of telescopes. Namely, every optical surface should be kept within a 1.5$^\\circ$ range around ambient temperature. Such a specification represents an important concern and constraint when developing optical systems for astronomy. Our aim was to test its criticality in the context of the development of the VLTI/NAOMI and VLTI/GRAVITY+ adaptive optics. This experiment has been conducted using the hardware of the future Corrective Optics (CO) of GRAVITY+. Optical measurements were performed in order to observe the evolution of turbulence in front of a flat mirror for which the surface temperature was controlled in a range of $22^\\circ$ above ambient temperature. A time-dependent analysis of the turbulence was led along with a spatial analysis. This experiment shows no influence of temperature on local turbulence. It should be noted however that this result is only applicable to the very specific geometry described in this paper, which is representative of an adaptive optics (AO) system located inside the Coud\\'e train (facing-down mirror heated on its backface). |\n",
       "|<p style=\"color:green\"> **ERROR** </p>| <p style=\"color:green\">affiliation error: mpia.affiliation_verifications: 'Heidelberg' keyword not found.</p> |"
      ],
      "text/plain": [
       "<IPython.core.display.Markdown object>"
      ]
     },
     "metadata": {},
     "output_type": "display_data"
    },
    {
     "data": {
      "text/markdown": [
       "\n",
       "|||\n",
       "|---:|:---|\n",
       "| [![arXiv](https://img.shields.io/badge/arXiv-arXiv:2209.11671-b31b1b.svg)](https://arxiv.org/abs/arXiv:2209.11671) | **StaNdaRT: A repository of standardized test models and outputs for  supernova radiative transfer**  |\n",
       "|| Stéphane Blondin, et al. -- incl., <mark>Nathaniel Roth</mark>, <mark>Isaac G. Smith</mark>, <mark>Marc Williamson</mark> |\n",
       "|*Appeared on*| *2022-09-26*|\n",
       "|*Comments*| *Accepted for publication in A&A. 26 pages, 12 figures. The ejecta models and output files from the simulations are available at this https URL*|\n",
       "|**Abstract**| We present the first results of a comprehensive supernova (SN) radiative-transfer (RT) code-comparison initiative (StaNdaRT), where the emission from the same set of standardized test models is simulated by currently-used RT codes. A total of ten codes have been run on a set of four benchmark ejecta models of Type Ia supernovae. We consider two sub-Chandrasekhar-mass ($M_\\mathrm{tot} = 1.0$ M$_\\odot$) toy models with analytic density and composition profiles and two Chandrasekhar-mass delayed-detonation models that are outcomes of hydrodynamical simulations. We adopt spherical symmetry for all four models. The results of the different codes, including the light curves, spectra, and the evolution of several physical properties as a function of radius and time, are provided in electronic form in a standard format via a public repository. We also include the detailed test model profiles and several python scripts for accessing and presenting the input and output files. We also provide the code used to generate the toy models studied here. In this paper, we describe in detail the test models, radiative-transfer codes and output formats and provide access to the repository. We present example results of several key diagnostic features. |\n",
       "|<p style=\"color:green\"> **ERROR** </p>| <p style=\"color:green\">affiliation error: mpia.affiliation_verifications: 'Heidelberg' keyword not found.</p> |"
      ],
      "text/plain": [
       "<IPython.core.display.Markdown object>"
      ]
     },
     "metadata": {},
     "output_type": "display_data"
    },
    {
     "data": {
      "text/markdown": [
       "\n",
       "|||\n",
       "|---:|:---|\n",
       "| [![arXiv](https://img.shields.io/badge/arXiv-arXiv:2209.11701-b31b1b.svg)](https://arxiv.org/abs/arXiv:2209.11701) | **Foreground removal and 21 cm signal estimates: comparing different blind  methods for the BINGO Telescope**  |\n",
       "|| Alessandro Marins, et al. -- incl., <mark>Vincenzo Liccardo</mark>, <mark>Jiajun Zhang</mark> |\n",
       "|*Appeared on*| *2022-09-26*|\n",
       "|*Comments*| **|\n",
       "|**Abstract**| BINGO will observe hydrogen distribution by means of the 21 cm line signal by drift-scan mapping through a tomographic analysis called \\emph{Intensity Mapping} (IM) between 980 and 1260 MHz which aims at analyzing Dark Energy using \\emph{Baryon Acoustic Oscillations}. In the same frequency range, there are several other unwanted signals as well as instrumental noise, contaminating the target signal. There are many component separation methods to reconstruct signals. Here, we used just three blind methods (FastICA, GNILC and GMCA), which explore different ways to estimate foregrounds' contribution from observed signals from the sky. Subsequently, we estimate 21 cm signal from its mixing with noise. We also analyzed how different number of simulations affect the quality of the estimation, as well as the effect of the binning on angular power spectrum to estimate 21 cm from the mixing with noise. For the BINGO sky range and sensitivity and the foreground model considered in the current simulation, we find that the effective dimension of the foreground subspace leading to best results is equal to three, composed of non-physical templates. At this moment of the pipeline configuration, using 50 or 400 simulations is statistically equivalent. It is also possible to reduce the number of multipoles by half to speed up the process and maintain the quality of results. All three algorithms used to perform foreground removal yielded statistically equivalent results for estimating the 21cm signal when we assume 400 realizations and GMCA and FastICA's mixing matrix dimensions equal to three. However, concerning computational cost in this stage of the BINGO pipeline, FastICA is faster than other algorithms. A new comparison will be necessary when the time-ordered-data and map-making are available. |\n",
       "|<p style=\"color:green\"> **ERROR** </p>| <p style=\"color:green\">affiliation error: mpia.affiliation_verifications: 'Heidelberg' keyword not found.</p> |"
      ],
      "text/plain": [
       "<IPython.core.display.Markdown object>"
      ]
     },
     "metadata": {},
     "output_type": "display_data"
    },
    {
     "data": {
      "text/markdown": [
       "\n",
       "|||\n",
       "|---:|:---|\n",
       "| [![arXiv](https://img.shields.io/badge/arXiv-arXiv:2209.11735-b31b1b.svg)](https://arxiv.org/abs/arXiv:2209.11735) | **The GAPS Programme at TNG. XLI. The climate of KELT-9b revealed with a  new approach to high spectral resolution phase curves**  |\n",
       "|| L. Pino, et al. -- incl., <mark>A. Maggio</mark> |\n",
       "|*Appeared on*| *2022-09-26*|\n",
       "|*Comments*| *Recommended for publication on A&A after referee report, awaiting acceptance. 25 pages, 19 figures, 3 tables*|\n",
       "|**Abstract**| [Abridged] We present a novel method to study the thermal emission of exoplanets as a function of orbital phase at very high spectral resolution, and apply it to investigate the climate of the ultra-hot Jupiter KELT-9b. We combine 3 nights of HARPS-N and 2 nights of CARMENES optical spectra, covering orbital phases between quadratures (0.25 < phi < 0.75), when the planet shows its day-side hemisphere with different geometries. We co-add the signal of thousands of FeI lines through cross-correlation, which we map to a likelihood function. We investigate the phase-dependence of: (i) the line depths of FeI, and (ii) their Doppler shifts, by introducing a new method that exploits the very high spectral resolution of our observations. We confirm a previous detection of FeI emission and demonstrate a combined precision of 0.5 km s-1 on the orbital properties of KELT-9b. By studying the phase-resolved Doppler shift of FeI lines, we detect an anomaly in the planet's orbital radial velocity well-fitted with a slightly eccentric orbit (e = 0.016$\\pm$0.003, w = 150$^{+13\\circ}_{-11},~5\\sigma$ preference). However, we argue that such anomaly can be explained by a day-night wind of a few km s-1 blowing neutral iron gas. Additionally, we find that the FeI emission line depths are symmetric around the substellar point within 10 deg ($2\\sigma$). We show that these results are qualitatively compatible with predictions from general circulation models for ultra-hot Jupiter planets. Very high-resolution spectroscopy phase curves have the sensitivity to reveal a phase dependence in both the line depths and their Doppler shifts throughout the orbit. They are highly complementary to space-based phase curves obtained with HST and JWST, and open a new window into the still poorly understood climate and atmospheric structure of the hottest planets known. |\n",
       "|<p style=\"color:green\"> **ERROR** </p>| <p style=\"color:green\">affiliation error: mpia.affiliation_verifications: 'Heidelberg' keyword not found.</p> |"
      ],
      "text/plain": [
       "<IPython.core.display.Markdown object>"
      ]
     },
     "metadata": {},
     "output_type": "display_data"
    },
    {
     "data": {
      "text/markdown": [
       "\n",
       "|||\n",
       "|---:|:---|\n",
       "| [![arXiv](https://img.shields.io/badge/arXiv-arXiv:2209.11496-b31b1b.svg)](https://arxiv.org/abs/arXiv:2209.11496) | **Comparing the Super-Eddington accretion of SMC X-3 and RX J0209.6-7427  with Swift J0243.6+6124**  |\n",
       "|| <mark>Jiren Liu</mark>, et al. -- incl., <mark>Shuang-Nan Zhang</mark> |\n",
       "|*Appeared on*| *2022-09-26*|\n",
       "|*Comments*| *9 pages, 5 figs, to appear on MNRAS*|\n",
       "|**Abstract**| We study the giant outbursts of SMC X-3 and RX J0209.6-7427 to compare their super-Eddington accretion regime with that of Swift J0243.6+6124. The high double-peak profile of SMC X-3 is found to be 0.25 phase offset from that below $2.3\\times10^{38}$erg\\,s$^{-1}$, which is similar to Swift J0243 (happened around $0.9\\times10^{38}$erg\\,s$^{-1}$). The profile of RX J0209 shows a similar 0.25 phase offset between high double-peak and low double-peak around $1.25\\times10^{38}$erg\\,s$^{-1}$. The 0.25 phase offset corresponds to a 90 degree angle change of the emission beam and strongly supports for a transition from a fan beam to a pencil beam. Their critical luminosities imply a surface magnetic field $\\sim4\\times10^{13}$ G and $2\\times10^{13}$ G for SMC X-3 and RX J0209, respectively, based on the recently measured cyclotron line of Swift J0243. The spin-up rate and luminosity of SMC X-3 follows a relation of $\\dot{\\nu}\\propto L^{0.94\\pm0.03}$, while that of RX J0209 follows $\\dot{\\nu}\\propto L^{1.00\\pm0.03}$, which are similar to Swift J0243 and consistent with the prediction of a radiation-pressure-dominated (RPD) disk. These results indicate that accretion columns are indeed formed above Eddington luminosity, and the population of ULXPs likely corresponds to X-ray pulsars of highest magnetic field. |\n",
       "|<p style=\"color:red\"> **ERROR** </p>| <p style=\"color:red\">latex error 'utf-8' codec can't decode byte 0xc3 in position 45384: invalid continuation byte</p> |"
      ],
      "text/plain": [
       "<IPython.core.display.Markdown object>"
      ]
     },
     "metadata": {},
     "output_type": "display_data"
    },
    {
     "data": {
      "text/markdown": [
       "\n",
       "|||\n",
       "|---:|:---|\n",
       "| [![arXiv](https://img.shields.io/badge/arXiv-arXiv:2209.11264-b31b1b.svg)](https://arxiv.org/abs/arXiv:2209.11264) | **Titan Atmospheric Chemistry Revealed by Low-temperature N2-CH4 Plasma  Discharge Experiments**  |\n",
       "|| <mark>Chao He</mark>, et al. -- incl., <mark>Joseph Serigano</mark> |\n",
       "|*Appeared on*| *2022-09-26*|\n",
       "|*Comments*| *Accepted in ACS Earth and Space Chemistry, 6 figures*|\n",
       "|**Abstract**| Chemistry in Titan's N2-CH4 atmosphere produces complex organic aerosols. The chemical processes and the resulting organic compounds are still far from understood, although extensive observations, laboratory, and theoretical simulations have greatly improved physical and chemical constraints on Titan's atmosphere. Here, we conduct a series of Titan atmosphere simulation experiments with N2-CH4 gas mixtures and investigate the effect of initial CH4 ratio, pressure, and flow rate on the production rates and composition of the gas and solid products at a Titan relevant temperature (100 K) for the first time. We find that the production rate of the gas and solid products increases with increasing CH4 ratio. The nitrogen-containing species have much higher yield than hydrocarbons in the gas products, and the N-to-C ratio of the solid products appears to be the highest compared to previous plasma simulations with the same CH4 ratio. The greater degree of nitrogen incorporation in the low temperature simulation experiments suggests temperature may play an important role in nitrogen incorporation in Titan's cold atmosphere. We also find that H2 is the dominant gas product and serves as an indicator of the production rate of new organic molecules in the experiment, and that CH2NH may greatly contribute to the incorporation of both carbon and nitrogen into the solid particles. The pressure and flow rate affect the amount of time of the gas mixture exposed to the energy source and therefore impact the N2-CH4 chemistry initiated by the plasma discharge, emphasizing the influence of the energy flux in Titan atmospheric chemistry. |\n",
       "|<p style=\"color:red\"> **ERROR** </p>| <p style=\"color:red\">latex error not a gzip file</p> |"
      ],
      "text/plain": [
       "<IPython.core.display.Markdown object>"
      ]
     },
     "metadata": {},
     "output_type": "display_data"
    },
    {
     "data": {
      "text/markdown": [
       "\n",
       "|||\n",
       "|---:|:---|\n",
       "| [![arXiv](https://img.shields.io/badge/arXiv-arXiv:2209.11685-b31b1b.svg)](https://arxiv.org/abs/arXiv:2209.11685) | **Opportunities for Technosignature Science in the Planetary Science and  Astrobiology Decadal Survey**  |\n",
       "|| Jacob Haqq-Misra, et al. -- incl., <mark>Joseph Lazio</mark> |\n",
       "|*Appeared on*| *2022-09-26*|\n",
       "|*Comments*| *A report from the First Penn State SETI Symposium*|\n",
       "|**Abstract**| Solar system exploration provides numerous possibilities for advancing technosignature science. The search for life in the solar system includes missions designed to search for evidence of biosignatures on other planetary bodies, but many missions could also attempt to search for and constrain the presence of technology within the solar system. Technosignatures and biosignatures represent complementary approaches toward searching for evidence of life in our solar neighborhood, and beyond. This report summarizes the potential technosignature opportunities within ongoing solar system exploration and the recommendations of the \"Origins, Worlds, and Life\" Planetary Science and Astrobiology Decadal Survey. We discuss opportunities for constraining the prevalence of technosignatures within the solar system using current or future missions at negligible additional cost, and we present a preliminary assessment of gaps that may exist in the search for technosignatures within the solar system. |\n",
       "|<p style=\"color:red\"> **ERROR** </p>| <p style=\"color:red\">latex error not a gzip file</p> |"
      ],
      "text/plain": [
       "<IPython.core.display.Markdown object>"
      ]
     },
     "metadata": {},
     "output_type": "display_data"
    }
   ],
   "source": [
    "import datetime\n",
    "today = str(datetime.date.today())\n",
    "logfile = f\"_build/html/logs/log-{today}.md\"\n",
    "\n",
    "\n",
    "with open(logfile, 'w') as logs:\n",
    "    # Success\n",
    "    logs.write(f'# Arxiv on Deck 2: Logs - {today}\\n\\n')\n",
    "    logs.write(\"\"\"* Arxiv had {0:,d} new papers\\n\"\"\".format(len(new_papers)))\n",
    "    logs.write(\"\"\"    * {0:,d} with possible author matches\\n\\n\"\"\".format(len(candidates)))\n",
    "    logs.write(\"## Sucessful papers\\n\\n\")\n",
    "    display(Markdown(\"## Successful papers\"))\n",
    "    success = [k[0] for k in documents]\n",
    "    for candid in candidates:\n",
    "        if candid['identifier'].split(':')[-1] in success:\n",
    "            display(candid)\n",
    "            logs.write(candid.generate_markdown_text() + '\\n\\n')\n",
    "\n",
    "    ## failed\n",
    "    logs.write(\"## Failed papers\\n\\n\")\n",
    "    display(Markdown(\"## Failed papers\"))\n",
    "    failed = sorted(failed, key=lambda x: x[1])\n",
    "    current_reason = \"\"\n",
    "    for paper, reason in failed:\n",
    "        if 'affiliation' in reason:\n",
    "            color = 'green'\n",
    "        else:\n",
    "            color = 'red'\n",
    "        data = Markdown(\n",
    "                paper.generate_markdown_text() + \n",
    "                f'\\n|<p style=\"color:{color:s}\"> **ERROR** </p>| <p style=\"color:{color:s}\">{reason:s}</p> |'\n",
    "               )\n",
    "        if reason != current_reason:\n",
    "            logs.write(f'### {reason:s} \\n\\n')\n",
    "            current_reason = reason\n",
    "        logs.write(data.data + '\\n\\n')\n",
    "        \n",
    "        # only display here the important errors (all in logs)\n",
    "        # if color in ('red',):\n",
    "        display(data)"
   ]
  },
  {
   "cell_type": "markdown",
   "id": "472d20ee",
   "metadata": {
    "papermill": {
     "duration": 0.010079,
     "end_time": "2022-09-26T05:24:08.366899",
     "exception": false,
     "start_time": "2022-09-26T05:24:08.356820",
     "status": "completed"
    },
    "tags": []
   },
   "source": [
    "## Export documents\n",
    "\n",
    "We now write the .md files and export relevant images"
   ]
  },
  {
   "cell_type": "code",
   "execution_count": 7,
   "id": "d426aed9",
   "metadata": {
    "execution": {
     "iopub.execute_input": "2022-09-26T05:24:08.391284Z",
     "iopub.status.busy": "2022-09-26T05:24:08.390369Z",
     "iopub.status.idle": "2022-09-26T05:24:08.402264Z",
     "shell.execute_reply": "2022-09-26T05:24:08.401038Z"
    },
    "papermill": {
     "duration": 0.025967,
     "end_time": "2022-09-26T05:24:08.404420",
     "exception": false,
     "start_time": "2022-09-26T05:24:08.378453",
     "status": "completed"
    },
    "tags": []
   },
   "outputs": [],
   "source": [
    "def export_markdown_summary(md: str, md_fname:str, directory: str):\n",
    "    \"\"\"Export MD document and associated relevant images\"\"\"\n",
    "    import os\n",
    "    import shutil\n",
    "    import re\n",
    "\n",
    "    if (os.path.exists(directory) and not os.path.isdir(directory)):\n",
    "        raise RuntimeError(f\"a non-directory file exists with name {directory:s}\")\n",
    "\n",
    "    if (not os.path.exists(directory)):\n",
    "        print(f\"creating directory {directory:s}\")\n",
    "        os.mkdir(directory)\n",
    "\n",
    "    fig_fnames = (re.compile(r'\\[Fig.*\\]\\((.*)\\)').findall(md) + \n",
    "                  re.compile(r'\\<img src=\"([^>\\s]*)\"[^>]*/>').findall(md))\n",
    "    for fname in fig_fnames:\n",
    "        if 'http' in fname:\n",
    "            # No need to copy online figures\n",
    "            continue\n",
    "        destdir = os.path.join(directory, os.path.dirname(fname))\n",
    "        destfname = os.path.join(destdir, os.path.basename(fname))\n",
    "        try:\n",
    "            os.makedirs(destdir)\n",
    "        except FileExistsError:\n",
    "            pass\n",
    "        shutil.copy(fname, destfname)\n",
    "    with open(os.path.join(directory, md_fname), 'w') as fout:\n",
    "        fout.write(md)\n",
    "    print(\"exported in \", os.path.join(directory, md_fname))\n",
    "    [print(\"    + \" + os.path.join(directory,fk)) for fk in fig_fnames]"
   ]
  },
  {
   "cell_type": "code",
   "execution_count": 8,
   "id": "014d04a4",
   "metadata": {
    "execution": {
     "iopub.execute_input": "2022-09-26T05:24:08.429145Z",
     "iopub.status.busy": "2022-09-26T05:24:08.428417Z",
     "iopub.status.idle": "2022-09-26T05:24:08.438508Z",
     "shell.execute_reply": "2022-09-26T05:24:08.437535Z"
    },
    "papermill": {
     "duration": 0.025716,
     "end_time": "2022-09-26T05:24:08.440740",
     "exception": false,
     "start_time": "2022-09-26T05:24:08.415024",
     "status": "completed"
    },
    "tags": []
   },
   "outputs": [
    {
     "name": "stdout",
     "output_type": "stream",
     "text": [
      "exported in  _build/html/2209.11248.md\n",
      "    + _build/html/tmp_2209.11248/./figs/hist_comp.png\n",
      "    + _build/html/tmp_2209.11248/./figs/fid_nc5_mstellarmeanFeH_Agglomerative_-2.2.png\n",
      "    + _build/html/tmp_2209.11248/./figs/fid_Agglomerative_inditree_p_nc5.png\n",
      "exported in  _build/html/2209.11602.md\n",
      "    + _build/html/tmp_2209.11602/./figures/gwide_upgrades.png\n",
      "    + _build/html/tmp_2209.11602/./figures/ddl_m3_replacement.png\n",
      "    + _build/html/tmp_2209.11602/./figures/vis_loss_all_Gwide_20220819_v1.png\n"
     ]
    }
   ],
   "source": [
    "for paper_id, md in documents:\n",
    "    export_markdown_summary(md, f\"{paper_id:s}.md\", '_build/html/')"
   ]
  },
  {
   "cell_type": "markdown",
   "id": "f087a0a7",
   "metadata": {
    "papermill": {
     "duration": 0.010335,
     "end_time": "2022-09-26T05:24:08.462930",
     "exception": false,
     "start_time": "2022-09-26T05:24:08.452595",
     "status": "completed"
    },
    "tags": []
   },
   "source": [
    "## Display the papers\n",
    "\n",
    "Not necessary but allows for a quick check."
   ]
  },
  {
   "cell_type": "code",
   "execution_count": 9,
   "id": "fd25f625",
   "metadata": {
    "execution": {
     "iopub.execute_input": "2022-09-26T05:24:08.486857Z",
     "iopub.status.busy": "2022-09-26T05:24:08.486522Z",
     "iopub.status.idle": "2022-09-26T05:24:08.494982Z",
     "shell.execute_reply": "2022-09-26T05:24:08.494048Z"
    },
    "papermill": {
     "duration": 0.024002,
     "end_time": "2022-09-26T05:24:08.498369",
     "exception": false,
     "start_time": "2022-09-26T05:24:08.474367",
     "status": "completed"
    },
    "scrolled": false,
    "tags": []
   },
   "outputs": [
    {
     "data": {
      "text/markdown": [
       "<div class=\"macros\" style=\"visibility:hidden;\">\n",
       "$\\newcommand{\\ensuremath}{}$\n",
       "$\\newcommand{\\xspace}{}$\n",
       "$\\newcommand{\\object}[1]{\\texttt{#1}}$\n",
       "$\\newcommand{\\farcs}{{.}''}$\n",
       "$\\newcommand{\\farcm}{{.}'}$\n",
       "$\\newcommand{\\arcsec}{''}$\n",
       "$\\newcommand{\\arcmin}{'}$\n",
       "$\\newcommand{\\ion}[2]{#1#2}$\n",
       "$\\newcommand{\\textsc}[1]{\\textrm{#1}}$\n",
       "$\\newcommand{\\hl}[1]{\\textrm{#1}}$\n",
       "$\\newcommand{\\angstrom}{\\textup{\\AA}}$\n",
       "$\\newcommand{\\asloth}{\\textsc{a-sloth}\\xspace}$\n",
       "$\\newcommand{\\ctp}{\\textit{Caterpillar}\\xspace}$\n",
       "$\\newcommand{\\msun}{{\\rm M}_\\odot}$\n",
       "$\\newcommand{\\feh}{\\mathrm{[Fe/H]}}$\n",
       "$\\newcommand{\\tilman}[1]{\\textcolor{green}{{#1}}}$\n",
       "$\\newcommand{\\lhnote}[1]{\\textcolor{red}{{#1}}}$</div>\n",
       "\n",
       "<div class=\"macros\" style=\"visibility:hidden;\">\n",
       "$\\newcommand{$\\ensuremath$}{}$\n",
       "$\\newcommand{$\\xspace$}{}$\n",
       "$\\newcommand{$\\object$}[1]{\\texttt{#1}}$\n",
       "$\\newcommand{$\\farcs$}{{.}''}$\n",
       "$\\newcommand{$\\farcm$}{{.}'}$\n",
       "$\\newcommand{$\\arcsec$}{''}$\n",
       "$\\newcommand{$\\arcmin$}{'}$\n",
       "$\\newcommand{$\\ion$}[2]{#1#2}$\n",
       "$\\newcommand{$\\textsc$}[1]{\\textrm{#1}}$\n",
       "$\\newcommand{$\\hl$}[1]{\\textrm{#1}}$\n",
       "$\\newcommand{$\\angstrom$}{\\textup{\\AA}}$\n",
       "$\\newcommand{$\\asloth$}{$\\textsc${a-sloth}$\\xspace$}$\n",
       "$\\newcommand{$\\ctp$}{\\textit{Caterpillar}$\\xspace$}$\n",
       "$\\newcommand{$\\msun$}{{\\rm M}_\\odot}$\n",
       "$\\newcommand{$\\feh$}{\\mathrm{[Fe/H]}}$\n",
       "$\\newcommand{$\\tilman$}[1]{\\textcolor{green}{{#1}}}$\n",
       "$\\newcommand{$\\lhnote$}[1]{\\textcolor{red}{{#1}}}$</div>\n",
       "\n",
       "\n",
       "\n",
       "<div id=\"title\">\n",
       "\n",
       "# Comparing simulated Milky Way satellite galaxies with observations using unsupervised clustering\n",
       "\n",
       "</div>\n",
       "<div id=\"comments\">\n",
       "\n",
       "[![arXiv](https://img.shields.io/badge/arXiv-2209.11248-b31b1b.svg)](https://arxiv.org/abs/2209.11248)<mark>Appeared on: 2022-09-26</mark> - _11 pages, 7 figures, 3 tables. Submitted to MNRAS, comments are welcome_\n",
       "\n",
       "</div>\n",
       "<div id=\"authors\">\n",
       "\n",
       "<mark><mark>Li-Hsin Chen</mark></mark>, Tilman Hartwig, Ralf S. Klessen, Simon C. O. Glover\n",
       "\n",
       "</div>\n",
       "<div id=\"abstract\">\n",
       "\n",
       "**Abstract:** We develop a new analysis method that allows us to compare multi-dimensional observables to a theoretical model. The method is based on unsupervised clustering algorithms which assign the observational and simulated data to clusters in high dimensionality. From the clustering result, a goodness of fit (the p-value) is determined with the Fisher-Freeman-Halton test.We first show that this approach is robust for 2D Gaussian distributions. We then apply the method to the observed MW satellites and simulated satellites from the fiducial model of our semi-analytic code$\\asloth$. We use the following 5 observables of the galaxies in the analysis: stellar mass, virial mass, heliocentric distance, mean stellar metallicity$\\feh$, and stellar metallicity dispersion$\\sigma_$\\feh$$.A low p-value returned from the analysis tells us that our$\\asloth$fiducial model does not reproduce the mean stellar metallicity of the observed MW satellites well. We implement an ad-hoc improvement to the physical model and show that the number of dark matter merger trees which have p-values > 0.01 increases from 3 to 6.This method can be extended to data with higher dimensionality easily. We plan to further improve the physical model in$\\asloth$using this method to study elemental abundances of stars in the observed MW satellites.\n",
       "\n",
       "</div>\n",
       "\n",
       "<div id=\"div_fig1\">\n",
       "\n",
       "<img src=\"tmp_2209.11248/./figs/hist_comp.png\" alt=\"Fig4\" width=\"100%\"/>\n",
       "\n",
       "**Figure 4. -** Normalised, cumulative histogram of the five physical quantities used in the analysisNormalised, cumulative histogram of the five physical quantities used in the analysis from our fiducial model, improved model, and the observation. From top to bottom: stellar mass, helicocentric distance, mean stellar $\\feh$, standard deviation of stellar $\\feh$, and the virial mass of the halo. The observation is plotted in green, the $\\asloth$ fiducial model is plotted in blue, and the improved model is plotted in brown.  (*fig:hist_fid*)\n",
       "\n",
       "</div>\n",
       "<div id=\"div_fig2\">\n",
       "\n",
       "<img src=\"tmp_2209.11248/./figs/fid_nc5_mstellarmeanFeH_Agglomerative_-2.2.png\" alt=\"Fig1\" width=\"100%\"/>\n",
       "\n",
       "**Figure 1. -** Example of clustering results from $\\asloth$ fiducial model An example of unsupervised clustering from the fiducial model of $\\asloth$ and the observed satellites, which is projected onto the $\\langle$\\feh$\\rangle$-${M_*}$ space. The data is normalised in each dimension before we apply the unsupervised clustering and the means are shown in bold font. In this analysis we use Agglomerative with 5 clusters. Galaxies that are classified in different clusters are plotted with different colours. Observed MW satellites are shown in squares and $\\asloth$ simulated MW satellites are shown in circles. The p-value for this example is $10^{-2.2}$. (*fig:fid_clus*)\n",
       "\n",
       "</div>\n",
       "<div id=\"div_fig3\">\n",
       "\n",
       "<img src=\"tmp_2209.11248/./figs/fid_Agglomerative_inditree_p_nc5.png\" alt=\"Fig2\" width=\"100%\"/>\n",
       "\n",
       "**Figure 2. -** The p-values from 30 $\\ctp$ treesThe p-values from 30 Caterpillar trees as individual datasets and the p-value from the Ensemble (data from 30 trees combined before conducting the analysis). Mean and 1 standard deviation from 100 runs of the analysis are shown with error bars. (*fig:indi_pv*)\n",
       "\n",
       "</div>"
      ],
      "text/plain": [
       "<IPython.core.display.Markdown object>"
      ]
     },
     "metadata": {},
     "output_type": "display_data"
    },
    {
     "data": {
      "text/markdown": [
       "<div class=\"macros\" style=\"visibility:hidden;\">\n",
       "$\\newcommand{\\ensuremath}{}$\n",
       "$\\newcommand{\\xspace}{}$\n",
       "$\\newcommand{\\object}[1]{\\texttt{#1}}$\n",
       "$\\newcommand{\\farcs}{{.}''}$\n",
       "$\\newcommand{\\farcm}{{.}'}$\n",
       "$\\newcommand{\\arcsec}{''}$\n",
       "$\\newcommand{\\arcmin}{'}$\n",
       "$\\newcommand{\\ion}[2]{#1#2}$\n",
       "$\\newcommand{\\textsc}[1]{\\textrm{#1}}$\n",
       "$\\newcommand{\\hl}[1]{\\textrm{#1}}$\n",
       "$\\newcommand{\\gp}{GRAVITY^+}$\n",
       "$\\newcommand{\\gw}{GRAVITY Wide}$\n",
       "$\\newcommand{\\baselinestretch}{1.0}$</div>\n",
       "\n",
       "<div class=\"macros\" style=\"visibility:hidden;\">\n",
       "$\\newcommand{$\\ensuremath$}{}$\n",
       "$\\newcommand{$\\xspace$}{}$\n",
       "$\\newcommand{$\\object$}[1]{\\texttt{#1}}$\n",
       "$\\newcommand{$\\farcs$}{{.}''}$\n",
       "$\\newcommand{$\\farcm$}{{.}'}$\n",
       "$\\newcommand{$\\arcsec$}{''}$\n",
       "$\\newcommand{$\\arcmin$}{'}$\n",
       "$\\newcommand{$\\ion$}[2]{#1#2}$\n",
       "$\\newcommand{$\\textsc$}[1]{\\textrm{#1}}$\n",
       "$\\newcommand{$\\hl$}[1]{\\textrm{#1}}$\n",
       "$\\newcommand{$\\gp$}{GRAVITY^+}$\n",
       "$\\newcommand{$\\gw$}{GRAVITY Wide}$\n",
       "$\\newcommand{$\\baselinestretch$}{1.0}$</div>\n",
       "\n",
       "\n",
       "\n",
       "<div id=\"title\">\n",
       "\n",
       "#  2 AGN\n",
       "\n",
       "</div>\n",
       "<div id=\"comments\">\n",
       "\n",
       "[![arXiv](https://img.shields.io/badge/arXiv-2209.11602-b31b1b.svg)](https://arxiv.org/abs/2209.11602)<mark>Appeared on: 2022-09-26</mark> - _Proceeding of SPIE Astronomical Telescopes + Instrumentation 2022_\n",
       "\n",
       "</div>\n",
       "<div id=\"authors\">\n",
       "\n",
       "A. Drescher, et al. -- incl., <mark><mark>L. Kreidberg</mark></mark>\n",
       "\n",
       "</div>\n",
       "<div id=\"abstract\">\n",
       "\n",
       "**Abstract:** As part of the$\\gp$project, the near-infrared beam combiner GRAVITY and the VLTI are currently undergoing a series of significant upgrades to further improve the performance and sky coverage. The instrumental changes will be transformational, and for instance uniquely position GRAVITY to observe the broad line region of hundreds of Active Galactic Nuclei (AGN) at a redshift of two and higher. The increased sky coverage is achieved by enlarging the maximum angular separation between the celestial science object (SC) and the off-axis fringe tracking (FT) star from currently 2 arcseconds (arcsec) up to unprecedented 30 arcsec, limited by the atmospheric conditions. This was successfully demonstrated at the VLTI for the first time.\n",
       "\n",
       "</div>\n",
       "\n",
       "<div id=\"div_fig1\">\n",
       "\n",
       "<img src=\"tmp_2209.11602/./figures/gwide_upgrades.png\" alt=\"Fig1\" width=\"100%\"/>\n",
       "\n",
       "**Figure 1. -** Schematic overview of the VLTI switchyard and beam routing towards GRAVITY. In total, eight beams from four telescopes arrive at the switchyward: four beams dedicated to the FT target (beam A, black) and four beams dedicated to the SC target (beam B, blue). The figure shows the configuration for $\\gw$  observations with the periscopes in \"IN\" position. The switchyward reconfiguration relays the B beams coming from the beam compressors via the upgraded PRIMA DDLs to the periscopes to merge them into the A beams. (*fig:schematic-switchyard*)\n",
       "\n",
       "</div>\n",
       "<div id=\"div_fig2\">\n",
       "\n",
       "<img src=\"tmp_2209.11602/./figures/ddl_m3_replacement.png\" alt=\"Fig3\" width=\"100%\"/>\n",
       "\n",
       "**Figure 3. -** Replacement of the M3 mirrors of the PRIMA DDLs. The top figure shows a drawing of the PRIMA DDLs and the location of the M3 mirrors. The bottom left picture shows the piezo driven tip/tilt assembly that is accessible from the backside of the PRIMA DDLs. The red circles indicate the shim locations. The bottom right picture shows the newly fabricated M3 in the thermally clamped mount (here for a prototype, the final mounts were anodized black). (*fig:ddl_m3_replacement*)\n",
       "\n",
       "</div>\n",
       "<div id=\"div_fig3\">\n",
       "\n",
       "<img src=\"tmp_2209.11602/./figures/vis_loss_all_Gwide_20220819_v1.png\" alt=\"Fig5\" width=\"100%\"/>\n",
       "\n",
       "**Figure 5. -** Observed contrast loss versus FT--SC separation. The three curves indicate the contrast loss for different seeing and isoplanatic angle values as expected from atmospheric turbulence following Ref. \\citenum{elhalkouj2008} for the 1.8m ATs. Both the seeing, $\\epsilon$, and the isoplanatic angle, $\\theta_0$, are defined at 500 nm. (*fig:visloss_all_gwide*)\n",
       "\n",
       "</div>"
      ],
      "text/plain": [
       "<IPython.core.display.Markdown object>"
      ]
     },
     "metadata": {},
     "output_type": "display_data"
    }
   ],
   "source": [
    "[display(Markdown(k[1])) for k in documents];"
   ]
  },
  {
   "cell_type": "markdown",
   "id": "873873a4",
   "metadata": {
    "papermill": {
     "duration": 0.011772,
     "end_time": "2022-09-26T05:24:08.521515",
     "exception": false,
     "start_time": "2022-09-26T05:24:08.509743",
     "status": "completed"
    },
    "tags": []
   },
   "source": [
    "# Create HTML index"
   ]
  },
  {
   "cell_type": "code",
   "execution_count": 10,
   "id": "cf665672",
   "metadata": {
    "execution": {
     "iopub.execute_input": "2022-09-26T05:24:08.545614Z",
     "iopub.status.busy": "2022-09-26T05:24:08.545004Z",
     "iopub.status.idle": "2022-09-26T05:24:08.558305Z",
     "shell.execute_reply": "2022-09-26T05:24:08.557432Z"
    },
    "papermill": {
     "duration": 0.027735,
     "end_time": "2022-09-26T05:24:08.560311",
     "exception": false,
     "start_time": "2022-09-26T05:24:08.532576",
     "status": "completed"
    },
    "tags": []
   },
   "outputs": [
    {
     "name": "stdout",
     "output_type": "stream",
     "text": [
      "44  publications in the last 7 days.\n",
      "\t _build/html/2209.11602.md\n",
      "\t _build/html/2209.11248.md\n",
      "\t _build/html/2209.11096.md\n",
      "\t _build/html/2209.10618.md\n",
      "\t _build/html/2209.09914.md\n",
      "\t _build/html/2209.09823.md\n",
      "\t _build/html/2209.08242.md\n",
      "\t _build/html/2209.08120.md\n",
      "\t _build/html/2209.08106.md\n",
      "\t _build/html/2209.07962.md\n",
      "\t _build/html/2209.07931.md\n",
      "\t _build/html/2209.06833.md\n",
      "\t _build/html/2209.05814.md\n",
      "\t _build/html/2209.05593.md\n",
      "\t _build/html/2209.04304.md\n",
      "\t _build/html/2209.03367.md\n",
      "\t _build/html/2209.02872.md\n",
      "\t _build/html/2209.02725.md\n",
      "\t _build/html/2209.02722.md\n",
      "\t _build/html/2209.02092.md\n",
      "\t _build/html/2209.01125.md\n",
      "\t _build/html/2209.00828.md\n",
      "\t _build/html/2209.00363.md\n",
      "\t _build/html/2208.14927.md\n",
      "\t _build/html/2208.09335.md\n",
      "\t _build/html/2208.08872.md\n",
      "\t _build/html/2204.06393.md\n",
      "\t _build/html/2204.03335.md\n",
      "\t _build/html/2204.03253.md\n",
      "\t _build/html/2204.02998.md\n",
      "\t _build/html/2204.02109.md\n",
      "\t _build/html/2204.02017.md\n",
      "\t _build/html/2204.01824.md\n",
      "\t _build/html/2204.01758.md\n",
      "\t _build/html/2204.01245.md\n",
      "\t _build/html/2204.00793.md\n",
      "\t _build/html/2204.00342.md\n",
      "\t _build/html/2203.16959.md\n",
      "\t _build/html/2203.16856.md\n",
      "\t _build/html/2203.16735.md\n",
      "\t _build/html/2203.16734.md\n",
      "\t _build/html/2203.16504.md\n",
      "\t _build/html/2203.15822.md\n",
      "\t _build/html/2203.15811.md\n"
     ]
    }
   ],
   "source": [
    "from datetime import datetime, timedelta, timezone\n",
    "from glob import glob\n",
    "\n",
    "files = glob('_build/html/*.md')\n",
    "days = 7\n",
    "now = datetime.today()\n",
    "res = []\n",
    "for fk in files:\n",
    "    stat_result = os.stat(fk).st_ctime\n",
    "    modified = datetime.fromtimestamp(stat_result, tz=timezone.utc).replace(tzinfo=None)\n",
    "    delta = now.today() - modified\n",
    "    if delta <= timedelta(days=days):\n",
    "        res.append((delta.seconds, fk))\n",
    "res = [k[1] for k in reversed(sorted(res, key=lambda x:x[1]))]\n",
    "npub = len(res)\n",
    "print(len(res), f\" publications in the last {days:d} days.\")\n",
    "[ print('\\t', k) for k in res ];"
   ]
  },
  {
   "cell_type": "code",
   "execution_count": 11,
   "id": "52ca0208",
   "metadata": {
    "execution": {
     "iopub.execute_input": "2022-09-26T05:24:08.584590Z",
     "iopub.status.busy": "2022-09-26T05:24:08.584281Z",
     "iopub.status.idle": "2022-09-26T05:24:08.593663Z",
     "shell.execute_reply": "2022-09-26T05:24:08.592648Z"
    },
    "papermill": {
     "duration": 0.024346,
     "end_time": "2022-09-26T05:24:08.596158",
     "exception": false,
     "start_time": "2022-09-26T05:24:08.571812",
     "status": "completed"
    },
    "scrolled": false,
    "tags": []
   },
   "outputs": [],
   "source": [
    "def create_carousel(npub=4):\n",
    "    \"\"\" Generate the HTML code for a carousel with `npub` slides \"\"\"\n",
    "    carousel = [\"\"\"<section class=\"carousel\" aria-label=\"Gallery\">\"\"\",\n",
    "                \"\"\"  <ol class=\"carousel__viewport\">\"\"\",\n",
    "    ]\n",
    "    for k in range(1, npub + 1):\n",
    "        prev_ = k - 1\n",
    "        next_ = k + 1\n",
    "        if prev_ <= 0:\n",
    "            prev_ = npub\n",
    "        if next_ > npub:\n",
    "            next_ = 1\n",
    "        text  = f\"\"\"    <li id=\"carousel__slide{k}\" tabindex=\"0\" class=\"carousel__slide\">\\n\"\"\"\n",
    "        text += f\"\"\"       <div class=\"carousel__snapper\">\\n\"\"\"\n",
    "        text += f\"\"\"         <a href=\"#carousel__slide{prev_}\" class=\"carousel__prev\">Go to previous slide</a>\\n\"\"\"\n",
    "        text += f\"\"\"         <a href=\"#carousel__slide{next_}\" class=\"carousel__next\">Go to next slide</a>\\n\"\"\"\n",
    "        text += f\"\"\"         <div id=\"slide{k}_content\" class=\"md_view\" >Content {k}</div>\\n\"\"\"\n",
    "        text += f\"\"\"       </div>\\n\"\"\"\n",
    "        text += f\"\"\"    </li>\"\"\"\n",
    "        carousel.append(text)\n",
    "\n",
    "    carousel.extend([\n",
    "        \"\"\"  </ol>\"\"\",\n",
    "        \"\"\"  <aside class=\"carousel__navigation\">\"\"\",\n",
    "        \"\"\"    <ol class=\"carousel__navigation-list\">\"\"\"])\n",
    "\n",
    "    for k in range(1, npub + 1):\n",
    "        text  = f\"\"\"      <li class=\"carousel__navigation-item\">\\n\"\"\"\n",
    "        text += f\"\"\"        <a href=\"#carousel__slide{k}\" class=\"carousel__navigation-button\">Go to {k}</a>\\n\"\"\"\n",
    "        text += f\"\"\"      </li>\"\"\"\n",
    "        carousel.append(text)\n",
    "    carousel.extend([\"\"\"    </ol>\"\"\", \"\"\"  </aside>\"\"\", \"\"\"</section>\"\"\"])\n",
    "\n",
    "    return '\\n'.join(carousel)"
   ]
  },
  {
   "cell_type": "code",
   "execution_count": 12,
   "id": "a6eac5b6",
   "metadata": {
    "execution": {
     "iopub.execute_input": "2022-09-26T05:24:08.621816Z",
     "iopub.status.busy": "2022-09-26T05:24:08.621440Z",
     "iopub.status.idle": "2022-09-26T05:24:08.629242Z",
     "shell.execute_reply": "2022-09-26T05:24:08.628353Z"
    },
    "papermill": {
     "duration": 0.023766,
     "end_time": "2022-09-26T05:24:08.631645",
     "exception": false,
     "start_time": "2022-09-26T05:24:08.607879",
     "status": "completed"
    },
    "scrolled": false,
    "tags": []
   },
   "outputs": [],
   "source": [
    "carousel = create_carousel(npub)\n",
    "docs = ', '.join(['\"{0:s}\"'.format(k.split('/')[-1]) for k in res])\n",
    "slides = ', '.join([f'\"slide{k}_content\"' for k in range(1, npub + 1)])\n",
    "\n",
    "script = f\"\"\"\n",
    "const docs = [{docs}]\n",
    "\n",
    "const slides = [{slides}]\n",
    "\"\"\" + \"\"\"\n",
    "async function run() {\n",
    "    for (let i = 0; i < docs.length; i++) {\n",
    "        let file = await fetch(docs[i]);\n",
    "        let text = await file.text()\n",
    "        document.getElementById(slides[i]).innerHTML =\n",
    "            marked.parse(text);\n",
    "    }\n",
    "    hljs.highlightAll();\n",
    "}\n",
    "run()\n",
    "\"\"\"\n",
    "\n",
    "page = f\"\"\"<!doctype html>\n",
    "<html lang=\"en\">\n",
    "\n",
    "<head>\n",
    "  <meta charset=\"utf-8\">\n",
    "  <meta name=\"viewport\" content=\"width=device-width, initial-scale=1\">\n",
    "  <!-- Bootstrap CSS -->\n",
    "  <link href=\"https://cdn.jsdelivr.net/npm/bootstrap@5.0.2/dist/css/bootstrap.min.css\" rel=\"stylesheet\"\n",
    "   integrity=\"sha384-EVSTQN3/azprG1Anm3QDgpJLIm9Nao0Yz1ztcQTwFspd3yD65VohhpuuCOmLASjC\" crossorigin=\"anonymous\">\n",
    "  <!-- highlight.js CSS -->\n",
    "  <link rel=\"stylesheet\" href=\"https://cdnjs.cloudflare.com/ajax/libs/highlight.js/11.1.0/styles/default.min.css\">\n",
    "  <!-- Mathjax 3 -->\n",
    "  <script type=\"text/javascript\" id=\"MathJax-config\" src=\"mathjax_config.js\"> </script>\n",
    "  <script type=\"text/javascript\" id=\"MathJax-script\" async \n",
    "    src=\"https://cdn.jsdelivr.net/npm/mathjax@3/es5/tex-mml-chtml.js\">\n",
    "  </script>\n",
    "  <link rel=\"stylesheet\" href=\"index_carousel.css\">\n",
    "  <link rel=\"icon\" type=\"image/x-icon\" href=\"https://www.mpia.de/assets/touch-icon-32x32-a66937bcebc4e8894ebff1f41a366c7c7220fd97a38869ee0f2db65a9f59b6c1.png\">\n",
    "  <title>MPIA Arxiv on deck!</title>\n",
    "</head>\n",
    "\n",
    "<body>\n",
    "  <div id=\"header\"> <img src=\"header_banner.png\" width=\"100%\"></div>\n",
    "  <div id=\"suptitle\"> 7-day archives </div>\n",
    "  <div id=\"info\">\n",
    "    <img src=\"https://pngimg.com/uploads/github/github_PNG58.png\" height=30rem></img>\n",
    "    <a href=https://github.com/mpi-astronomy/arxiv_display style=\"color:black;\">github/mpi-astronomy/arxiv_display</a> \n",
    "  </div>\n",
    "  {carousel:s}\n",
    "</body>\n",
    "\n",
    "<!-- Render Markdown -->\n",
    "\n",
    "<body>\n",
    "  <!-- highlight.js: https://highlightjs.org/download/ -->\n",
    "  <script src=\"https://cdnjs.cloudflare.com/ajax/libs/highlight.js/11.5.0/highlight.min.js\"></script>\n",
    "  <!-- marked.js -->\n",
    "  <script src=\"https://cdn.jsdelivr.net/npm/marked/marked.min.js\"></script>\n",
    "  <script>{script:s}</script>\n",
    "</body>\n",
    "</html>\n",
    "\"\"\"\n",
    "with open(\"_build/html/index_7days.html\", 'w') as fout:\n",
    "    fout.write(page)"
   ]
  },
  {
   "cell_type": "markdown",
   "id": "1cebacbc",
   "metadata": {
    "papermill": {
     "duration": 0.012222,
     "end_time": "2022-09-26T05:24:08.655566",
     "exception": false,
     "start_time": "2022-09-26T05:24:08.643344",
     "status": "completed"
    },
    "tags": []
   },
   "source": [
    "# Debugging papers"
   ]
  },
  {
   "cell_type": "raw",
   "id": "debe7cc6",
   "metadata": {
    "papermill": {
     "duration": 0.011283,
     "end_time": "2022-09-26T05:24:08.679026",
     "exception": false,
     "start_time": "2022-09-26T05:24:08.667743",
     "status": "completed"
    },
    "tags": []
   },
   "source": [
    "raise NotImplementedError(\"Manual Stop\")"
   ]
  },
  {
   "cell_type": "raw",
   "id": "eb169192",
   "metadata": {
    "papermill": {
     "duration": 0.014441,
     "end_time": "2022-09-26T05:24:08.704658",
     "exception": false,
     "start_time": "2022-09-26T05:24:08.690217",
     "status": "completed"
    },
    "scrolled": true,
    "tags": []
   },
   "source": [
    "from IPython.display import display, Markdown\n",
    "from TexSoup import TexSoup\n",
    "import re\n",
    "\n",
    "def bracket_error(source: str):\n",
    "    \"\"\" Find problematic portions of the document \"\"\"\n",
    "    \n",
    "    print(\"len(source)\", len(source))\n",
    "    \n",
    "    # Checking header\n",
    "    begin_doc = next(re.finditer(r'\\\\begin\\{document\\}', doc.source)).span()[1]\n",
    "    header = source[:begin_doc]\n",
    "    text = header + r\"\\n\\end{document}\"\n",
    "\n",
    "    try:\n",
    "        # print(\"Header check... \", end='')\n",
    "        TexSoup(text)\n",
    "        display(Markdown(f\"**[OK]** - Header\"))\n",
    "    except:\n",
    "        raise RuntimeError(\"Error in the header\")\n",
    "        \n",
    "    # Check the text per section until the end.\n",
    "    # Do not stop and try them all.\n",
    "    \n",
    "    problematic_text = []\n",
    "    \n",
    "    sections = ([(0, begin_doc, 'until first section')] + \n",
    "                [(g.span()[0], g.span()[1], g.group()) for g in re.finditer(r'\\\\section\\{.*\\}', source)] +\n",
    "                [(g.span()[0], g.span()[1], g.group()) for g in re.finditer(r'\\\\begin\\{appendix\\}', source)]\n",
    "               )\n",
    "    sections.append([len(source), len(source), 'end'])\n",
    "    \n",
    "    sections = sorted(sections, key=lambda x: x[0])\n",
    "    \n",
    "    prev_pos, prev_name = (0, 'header')\n",
    "    parsed = []\n",
    "    \n",
    "    for span, span_end, name in sections:\n",
    "\n",
    "        if span - prev_pos <= 0:\n",
    "            continue\n",
    "            \n",
    "\n",
    "        text = source[prev_pos:span]\n",
    "        if prev_pos > begin_doc:\n",
    "            text = r\"\\n\\begin{document}\" + text + r\"\\n\\end{document}\"\n",
    "        else:\n",
    "            text = text + r\"\\n\\end{document}\"\n",
    "        try:\n",
    "            #print(f\"{prev_pos}:{prev_name}-->{span}:{name} check... \", end='')\n",
    "            parsed.append(TexSoup(text, tolerance=1))  # allow not ending env\n",
    "            display(Markdown(f\"**[OK]** - *{prev_pos}*:{prev_name} &rarr; *{span}*:{name}\"))\n",
    "            # print(\"ok\")\n",
    "\n",
    "            prev_pos = span\n",
    "            prev_name = name\n",
    "        except:\n",
    "            # print(f\"error between {prev_pos} and {span}\")\n",
    "            display(Markdown(f\"**[ERR]** *{prev_pos}*:{prev_name} &rarr; *{span}*:{name}\"))\n",
    "            problematic_text.append((prev_pos, source[prev_pos:span]))\n",
    "            prev_pos = span\n",
    "            prev_name = name\n",
    "            # raise\n",
    "    return problematic_text, parsed\n",
    "\n",
    "\n",
    "def check_environment(text, offset=0):\n",
    "    \"\"\" Check environment \"\"\"\n",
    "    env = re.compile(r\"\\\\begin\\{(?P<env>.*)\\}(.*)\\\\end\\{(?P=env)\\}\", re.DOTALL)\n",
    "\n",
    "    for match in env.finditer(text):\n",
    "        beg, end = match.span()\n",
    "        beg += offset\n",
    "        end += offset\n",
    "        envname = match.groups()[0]\n",
    "        try:\n",
    "            latex.TexSoup(match.group())\n",
    "        except Exception as e:\n",
    "            display(e)\n",
    "            print(f\"Error in {envname:s} between {beg} and {end}\")\n",
    "            return match.groups()[1], beg, end"
   ]
  },
  {
   "cell_type": "raw",
   "id": "2315e835",
   "metadata": {
    "papermill": {
     "duration": 0.043171,
     "end_time": "2022-09-26T05:24:08.759980",
     "exception": false,
     "start_time": "2022-09-26T05:24:08.716809",
     "status": "completed"
    },
    "scrolled": false,
    "tags": []
   },
   "source": [
    "import importlib\n",
    "importlib.reload(latex)\n",
    "which = \"2204.03253\"\n",
    "paper_id = f'{which:s}'\n",
    "folder = f'tmp_{paper_id:s}'\n",
    "\n",
    "if not os.path.isdir(folder):\n",
    "    folder = retrieve_document_source(f\"{paper_id}\", f'tmp_{paper_id}')\n",
    "\n",
    "try:\n",
    "    doc = latex.LatexDocument(folder, validation=validation)    \n",
    "except AffiliationError as affilerror:\n",
    "    msg = f\"ArXiv:{paper_id:s} is not an MPIA paper... \" + str(affilerror)\n",
    "    print(msg)\n",
    "\n",
    "\n",
    "# Hack because sometimes author parsing does not work well\n",
    "if (len(doc.authors) != len(paper['authors'])):\n",
    "    doc._authors = paper['authors']\n",
    "if (doc.abstract) in (None, ''):\n",
    "    doc._abstract = paper['abstract']\n",
    "\n",
    "doc.comment = get_markdown_badge(paper_id) + \" _\" + paper['comments'] + \"_\"\n",
    "doc.highlight_authors_in_list(hl_list)\n",
    "\n",
    "full_md = doc.generate_markdown_text()"
   ]
  },
  {
   "cell_type": "raw",
   "id": "dd3781db",
   "metadata": {
    "papermill": {
     "duration": 0.011248,
     "end_time": "2022-09-26T05:24:08.782831",
     "exception": false,
     "start_time": "2022-09-26T05:24:08.771583",
     "status": "completed"
    },
    "scrolled": false,
    "tags": []
   },
   "source": [
    "doc"
   ]
  },
  {
   "cell_type": "raw",
   "id": "c6eed834",
   "metadata": {
    "papermill": {
     "duration": 0.011596,
     "end_time": "2022-09-26T05:24:08.805744",
     "exception": false,
     "start_time": "2022-09-26T05:24:08.794148",
     "status": "completed"
    },
    "tags": []
   },
   "source": [
    "# [check_environment(k) for k in bracket_error(doc.source)]\n",
    "_, _, a = latex.get_content_per_section(doc.source, verbose=True)\n",
    "if not a:\n",
    "    print(\"no issues per section\")\n",
    "for ak in a:\n",
    "    r = check_environment(ak[1], offset=ak[0])\n",
    "    print(r[1], r[2])\n",
    "    print(r[0])"
   ]
  },
  {
   "cell_type": "code",
   "execution_count": null,
   "id": "71ce768a",
   "metadata": {
    "papermill": {
     "duration": 0.011621,
     "end_time": "2022-09-26T05:24:08.830131",
     "exception": false,
     "start_time": "2022-09-26T05:24:08.818510",
     "status": "completed"
    },
    "tags": []
   },
   "outputs": [],
   "source": []
  }
 ],
 "metadata": {
  "kernelspec": {
   "display_name": "Python 3.10.6 64-bit",
   "language": "python",
   "name": "python3"
  },
  "language_info": {
   "codemirror_mode": {
    "name": "ipython",
    "version": 3
   },
   "file_extension": ".py",
   "mimetype": "text/x-python",
   "name": "python",
   "nbconvert_exporter": "python",
   "pygments_lexer": "ipython3",
   "version": "3.9.14"
  },
  "papermill": {
   "default_parameters": {},
   "duration": 144.996352,
   "end_time": "2022-09-26T05:24:09.060603",
   "environment_variables": {},
   "exception": null,
   "input_path": "MPIA daily digest.ipynb",
   "output_path": "log.ipynb",
   "parameters": {},
   "start_time": "2022-09-26T05:21:44.064251",
   "version": "2.4.0"
  },
  "vscode": {
   "interpreter": {
    "hash": "e7370f93d1d0cde622a1f8e1c04877d8463912d04d973331ad4851f04de6915a"
   }
  },
  "widgets": {
   "application/vnd.jupyter.widget-state+json": {
    "state": {
     "061246fbeced4771ac9bb0ab3d26809b": {
      "model_module": "@jupyter-widgets/base",
      "model_module_version": "2.0.0",
      "model_name": "LayoutModel",
      "state": {
       "_model_module": "@jupyter-widgets/base",
       "_model_module_version": "2.0.0",
       "_model_name": "LayoutModel",
       "_view_count": null,
       "_view_module": "@jupyter-widgets/base",
       "_view_module_version": "2.0.0",
       "_view_name": "LayoutView",
       "align_content": null,
       "align_items": null,
       "align_self": null,
       "border_bottom": null,
       "border_left": null,
       "border_right": null,
       "border_top": null,
       "bottom": null,
       "display": null,
       "flex": null,
       "flex_flow": null,
       "grid_area": null,
       "grid_auto_columns": null,
       "grid_auto_flow": null,
       "grid_auto_rows": null,
       "grid_column": null,
       "grid_gap": null,
       "grid_row": null,
       "grid_template_areas": null,
       "grid_template_columns": null,
       "grid_template_rows": null,
       "height": null,
       "justify_content": null,
       "justify_items": null,
       "left": null,
       "margin": null,
       "max_height": null,
       "max_width": null,
       "min_height": null,
       "min_width": null,
       "object_fit": null,
       "object_position": null,
       "order": null,
       "overflow": null,
       "padding": null,
       "right": null,
       "top": null,
       "visibility": null,
       "width": null
      }
     },
     "0b9cf37614d949fbbcfb4bbbf17fe638": {
      "model_module": "@jupyter-widgets/base",
      "model_module_version": "2.0.0",
      "model_name": "LayoutModel",
      "state": {
       "_model_module": "@jupyter-widgets/base",
       "_model_module_version": "2.0.0",
       "_model_name": "LayoutModel",
       "_view_count": null,
       "_view_module": "@jupyter-widgets/base",
       "_view_module_version": "2.0.0",
       "_view_name": "LayoutView",
       "align_content": null,
       "align_items": null,
       "align_self": null,
       "border_bottom": null,
       "border_left": null,
       "border_right": null,
       "border_top": null,
       "bottom": null,
       "display": null,
       "flex": null,
       "flex_flow": null,
       "grid_area": null,
       "grid_auto_columns": null,
       "grid_auto_flow": null,
       "grid_auto_rows": null,
       "grid_column": null,
       "grid_gap": null,
       "grid_row": null,
       "grid_template_areas": null,
       "grid_template_columns": null,
       "grid_template_rows": null,
       "height": null,
       "justify_content": null,
       "justify_items": null,
       "left": null,
       "margin": null,
       "max_height": null,
       "max_width": null,
       "min_height": null,
       "min_width": null,
       "object_fit": null,
       "object_position": null,
       "order": null,
       "overflow": null,
       "padding": null,
       "right": null,
       "top": null,
       "visibility": null,
       "width": null
      }
     },
     "13f814b13a694d5d938c8c863286d5cf": {
      "model_module": "@jupyter-widgets/controls",
      "model_module_version": "2.0.0",
      "model_name": "HBoxModel",
      "state": {
       "_dom_classes": [],
       "_model_module": "@jupyter-widgets/controls",
       "_model_module_version": "2.0.0",
       "_model_name": "HBoxModel",
       "_view_count": null,
       "_view_module": "@jupyter-widgets/controls",
       "_view_module_version": "2.0.0",
       "_view_name": "HBoxView",
       "box_style": "",
       "children": [
        "IPY_MODEL_d5a99236d5c64c7890f2313f64cb83a9",
        "IPY_MODEL_434c1c7c525c41b78fc37ef79eaddd52",
        "IPY_MODEL_761065581e3d45b1bd74f62b0839c721"
       ],
       "layout": "IPY_MODEL_8936d82c805047048a2d73f4ab5b7aad",
       "tabbable": null,
       "tooltip": null
      }
     },
     "1ebeb5c1232949078e3ba1907050845f": {
      "model_module": "@jupyter-widgets/controls",
      "model_module_version": "2.0.0",
      "model_name": "ProgressStyleModel",
      "state": {
       "_model_module": "@jupyter-widgets/controls",
       "_model_module_version": "2.0.0",
       "_model_name": "ProgressStyleModel",
       "_view_count": null,
       "_view_module": "@jupyter-widgets/base",
       "_view_module_version": "2.0.0",
       "_view_name": "StyleView",
       "bar_color": null,
       "description_width": ""
      }
     },
     "434c1c7c525c41b78fc37ef79eaddd52": {
      "model_module": "@jupyter-widgets/controls",
      "model_module_version": "2.0.0",
      "model_name": "FloatProgressModel",
      "state": {
       "_dom_classes": [],
       "_model_module": "@jupyter-widgets/controls",
       "_model_module_version": "2.0.0",
       "_model_name": "FloatProgressModel",
       "_view_count": null,
       "_view_module": "@jupyter-widgets/controls",
       "_view_module_version": "2.0.0",
       "_view_name": "ProgressView",
       "bar_style": "success",
       "description": "",
       "description_allow_html": false,
       "layout": "IPY_MODEL_ee352b746f1b4cd08e60faefa735bcfd",
       "max": 19.0,
       "min": 0.0,
       "orientation": "horizontal",
       "style": "IPY_MODEL_1ebeb5c1232949078e3ba1907050845f",
       "tabbable": null,
       "tooltip": null,
       "value": 19.0
      }
     },
     "6dfd77acb96f4accbc1995ab1f320293": {
      "model_module": "@jupyter-widgets/controls",
      "model_module_version": "2.0.0",
      "model_name": "HTMLStyleModel",
      "state": {
       "_model_module": "@jupyter-widgets/controls",
       "_model_module_version": "2.0.0",
       "_model_name": "HTMLStyleModel",
       "_view_count": null,
       "_view_module": "@jupyter-widgets/base",
       "_view_module_version": "2.0.0",
       "_view_name": "StyleView",
       "background": null,
       "description_width": "",
       "font_size": null,
       "text_color": null
      }
     },
     "761065581e3d45b1bd74f62b0839c721": {
      "model_module": "@jupyter-widgets/controls",
      "model_module_version": "2.0.0",
      "model_name": "HTMLModel",
      "state": {
       "_dom_classes": [],
       "_model_module": "@jupyter-widgets/controls",
       "_model_module_version": "2.0.0",
       "_model_name": "HTMLModel",
       "_view_count": null,
       "_view_module": "@jupyter-widgets/controls",
       "_view_module_version": "2.0.0",
       "_view_name": "HTMLView",
       "description": "",
       "description_allow_html": false,
       "layout": "IPY_MODEL_061246fbeced4771ac9bb0ab3d26809b",
       "placeholder": "​",
       "style": "IPY_MODEL_9fedf349acc244cca13c8629bb919c5b",
       "tabbable": null,
       "tooltip": null,
       "value": " 19/19 [01:53&lt;00:00, 10.14s/it]"
      }
     },
     "8936d82c805047048a2d73f4ab5b7aad": {
      "model_module": "@jupyter-widgets/base",
      "model_module_version": "2.0.0",
      "model_name": "LayoutModel",
      "state": {
       "_model_module": "@jupyter-widgets/base",
       "_model_module_version": "2.0.0",
       "_model_name": "LayoutModel",
       "_view_count": null,
       "_view_module": "@jupyter-widgets/base",
       "_view_module_version": "2.0.0",
       "_view_name": "LayoutView",
       "align_content": null,
       "align_items": null,
       "align_self": null,
       "border_bottom": null,
       "border_left": null,
       "border_right": null,
       "border_top": null,
       "bottom": null,
       "display": null,
       "flex": null,
       "flex_flow": null,
       "grid_area": null,
       "grid_auto_columns": null,
       "grid_auto_flow": null,
       "grid_auto_rows": null,
       "grid_column": null,
       "grid_gap": null,
       "grid_row": null,
       "grid_template_areas": null,
       "grid_template_columns": null,
       "grid_template_rows": null,
       "height": null,
       "justify_content": null,
       "justify_items": null,
       "left": null,
       "margin": null,
       "max_height": null,
       "max_width": null,
       "min_height": null,
       "min_width": null,
       "object_fit": null,
       "object_position": null,
       "order": null,
       "overflow": null,
       "padding": null,
       "right": null,
       "top": null,
       "visibility": null,
       "width": null
      }
     },
     "9fedf349acc244cca13c8629bb919c5b": {
      "model_module": "@jupyter-widgets/controls",
      "model_module_version": "2.0.0",
      "model_name": "HTMLStyleModel",
      "state": {
       "_model_module": "@jupyter-widgets/controls",
       "_model_module_version": "2.0.0",
       "_model_name": "HTMLStyleModel",
       "_view_count": null,
       "_view_module": "@jupyter-widgets/base",
       "_view_module_version": "2.0.0",
       "_view_name": "StyleView",
       "background": null,
       "description_width": "",
       "font_size": null,
       "text_color": null
      }
     },
     "d5a99236d5c64c7890f2313f64cb83a9": {
      "model_module": "@jupyter-widgets/controls",
      "model_module_version": "2.0.0",
      "model_name": "HTMLModel",
      "state": {
       "_dom_classes": [],
       "_model_module": "@jupyter-widgets/controls",
       "_model_module_version": "2.0.0",
       "_model_name": "HTMLModel",
       "_view_count": null,
       "_view_module": "@jupyter-widgets/controls",
       "_view_module_version": "2.0.0",
       "_view_name": "HTMLView",
       "description": "",
       "description_allow_html": false,
       "layout": "IPY_MODEL_0b9cf37614d949fbbcfb4bbbf17fe638",
       "placeholder": "​",
       "style": "IPY_MODEL_6dfd77acb96f4accbc1995ab1f320293",
       "tabbable": null,
       "tooltip": null,
       "value": "100%"
      }
     },
     "ee352b746f1b4cd08e60faefa735bcfd": {
      "model_module": "@jupyter-widgets/base",
      "model_module_version": "2.0.0",
      "model_name": "LayoutModel",
      "state": {
       "_model_module": "@jupyter-widgets/base",
       "_model_module_version": "2.0.0",
       "_model_name": "LayoutModel",
       "_view_count": null,
       "_view_module": "@jupyter-widgets/base",
       "_view_module_version": "2.0.0",
       "_view_name": "LayoutView",
       "align_content": null,
       "align_items": null,
       "align_self": null,
       "border_bottom": null,
       "border_left": null,
       "border_right": null,
       "border_top": null,
       "bottom": null,
       "display": null,
       "flex": null,
       "flex_flow": null,
       "grid_area": null,
       "grid_auto_columns": null,
       "grid_auto_flow": null,
       "grid_auto_rows": null,
       "grid_column": null,
       "grid_gap": null,
       "grid_row": null,
       "grid_template_areas": null,
       "grid_template_columns": null,
       "grid_template_rows": null,
       "height": null,
       "justify_content": null,
       "justify_items": null,
       "left": null,
       "margin": null,
       "max_height": null,
       "max_width": null,
       "min_height": null,
       "min_width": null,
       "object_fit": null,
       "object_position": null,
       "order": null,
       "overflow": null,
       "padding": null,
       "right": null,
       "top": null,
       "visibility": null,
       "width": null
      }
     }
    },
    "version_major": 2,
    "version_minor": 0
   }
  }
 },
 "nbformat": 4,
 "nbformat_minor": 5
}