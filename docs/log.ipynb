{
 "cells": [
  {
   "cell_type": "markdown",
   "id": "92bcb855",
   "metadata": {
    "papermill": {
     "duration": 0.006123,
     "end_time": "2023-10-02T04:05:38.332375",
     "exception": false,
     "start_time": "2023-10-02T04:05:38.326252",
     "status": "completed"
    },
    "tags": []
   },
   "source": [
    "# MPIA Arxiv on Deck 2\n",
    "\n",
    "Contains the steps to produce the paper extractions."
   ]
  },
  {
   "cell_type": "code",
   "execution_count": 1,
   "id": "3a0d6e11",
   "metadata": {
    "execution": {
     "iopub.execute_input": "2023-10-02T04:05:38.345653Z",
     "iopub.status.busy": "2023-10-02T04:05:38.344958Z",
     "iopub.status.idle": "2023-10-02T04:05:38.879563Z",
     "shell.execute_reply": "2023-10-02T04:05:38.878568Z"
    },
    "papermill": {
     "duration": 0.54292,
     "end_time": "2023-10-02T04:05:38.881960",
     "exception": false,
     "start_time": "2023-10-02T04:05:38.339040",
     "status": "completed"
    },
    "tags": []
   },
   "outputs": [],
   "source": [
    "# Imports\n",
    "import os\n",
    "from IPython.display import Markdown, display\n",
    "from tqdm.notebook import tqdm\n",
    "import warnings\n",
    "from PIL import Image \n",
    "\n",
    "# requires arxiv_on_deck_2\n",
    "\n",
    "from arxiv_on_deck_2.arxiv2 import (get_new_papers, \n",
    "                                    get_paper_from_identifier,\n",
    "                                    retrieve_document_source, \n",
    "                                    get_markdown_badge)\n",
    "from arxiv_on_deck_2 import (latex,\n",
    "                             latex_bib,\n",
    "                             mpia,\n",
    "                             highlight_authors_in_list)\n",
    "\n",
    "# Sometimes images are really big\n",
    "Image.MAX_IMAGE_PIXELS = 1000000000 "
   ]
  },
  {
   "cell_type": "code",
   "execution_count": 2,
   "id": "22aa9d44",
   "metadata": {
    "execution": {
     "iopub.execute_input": "2023-10-02T04:05:38.892282Z",
     "iopub.status.busy": "2023-10-02T04:05:38.891878Z",
     "iopub.status.idle": "2023-10-02T04:05:38.898969Z",
     "shell.execute_reply": "2023-10-02T04:05:38.898129Z"
    },
    "papermill": {
     "duration": 0.014437,
     "end_time": "2023-10-02T04:05:38.900767",
     "exception": false,
     "start_time": "2023-10-02T04:05:38.886330",
     "status": "completed"
    },
    "tags": []
   },
   "outputs": [],
   "source": [
    "# Some useful definitions.\n",
    "\n",
    "class AffiliationWarning(UserWarning):\n",
    "    pass\n",
    "\n",
    "class AffiliationError(RuntimeError):\n",
    "    pass\n",
    "\n",
    "def validation(source: str):\n",
    "    \"\"\"Raises error paper during parsing of source file\n",
    "    \n",
    "    Allows checks before parsing TeX code.\n",
    "    \n",
    "    Raises AffiliationWarning\n",
    "    \"\"\"\n",
    "    check = mpia.affiliation_verifications(source, verbose=True)\n",
    "    if check is not True:\n",
    "        raise AffiliationError(\"mpia.affiliation_verifications: \" + check)\n",
    "\n",
    "        \n",
    "warnings.simplefilter('always', AffiliationWarning)\n",
    "\n",
    "\n",
    "def get_markdown_qrcode(paper_id: str):\n",
    "    \"\"\" Generate a qrcode to the arxiv page using qrserver.com\n",
    "    \n",
    "    :param paper: Arxiv paper\n",
    "    :returns: markdown text\n",
    "    \"\"\"\n",
    "    url = r\"https://api.qrserver.com/v1/create-qr-code/?size=100x100&data=\"\n",
    "    txt = f\"\"\"<img src={url}\"https://arxiv.org/abs/{paper_id}\">\"\"\"\n",
    "    txt = '<div id=\"qrcode\">' + txt + '</div>'\n",
    "    return txt"
   ]
  },
  {
   "cell_type": "markdown",
   "id": "14bd6310",
   "metadata": {
    "papermill": {
     "duration": 0.004081,
     "end_time": "2023-10-02T04:05:38.908729",
     "exception": false,
     "start_time": "2023-10-02T04:05:38.904648",
     "status": "completed"
    },
    "tags": []
   },
   "source": [
    "## get list of arxiv paper candidates\n",
    "\n",
    "We use the MPIA mitarbeiter list webpage from mpia.de to get author names\n",
    "We then get all new papers from Arxiv and match authors"
   ]
  },
  {
   "cell_type": "code",
   "execution_count": 3,
   "id": "2645e73a",
   "metadata": {
    "execution": {
     "iopub.execute_input": "2023-10-02T04:05:38.918473Z",
     "iopub.status.busy": "2023-10-02T04:05:38.917954Z",
     "iopub.status.idle": "2023-10-02T04:06:04.934549Z",
     "shell.execute_reply": "2023-10-02T04:06:04.933584Z"
    },
    "papermill": {
     "duration": 26.024028,
     "end_time": "2023-10-02T04:06:04.936811",
     "exception": false,
     "start_time": "2023-10-02T04:05:38.912783",
     "status": "completed"
    },
    "tags": []
   },
   "outputs": [
    {
     "name": "stdout",
     "output_type": "stream",
     "text": [
      "E. Bañados  ->  E. Bañados  |  ['E. Bañados']\n",
      "Z.-L. Xie  ->  Z.-L. Xie  |  ['Z.-L. Xie']\n",
      "N. Winkel  ->  N. Winkel  |  ['N. Winkel']\n",
      "I. Smirnova-Pinchukova  ->  I. Smirnova-Pinchukova  |  ['I. Smirnova-Pinchukova']\n",
      "J. Neumann  ->  J. Neumann  |  ['J. Neumann']\n",
      "J. Li  ->  J. Li  |  ['J. Li']\n"
     ]
    },
    {
     "name": "stdout",
     "output_type": "stream",
     "text": [
      "K. Jahnke  ->  K. Jahnke  |  ['K. Jahnke']\n",
      "K. Kreckel  ->  K. Kreckel  |  ['K. Kreckel']\n",
      "J. Neumann  ->  J. Neumann  |  ['J. Neumann']\n",
      "Arxiv has 62 new papers today\n",
      "          5 with possible author matches\n"
     ]
    }
   ],
   "source": [
    "# get list from MPIA website\n",
    "# it automatically filters identified non-scientists :func:`mpia.filter_non_scientists`\n",
    "mpia_authors = mpia.get_mpia_mitarbeiter_list()\n",
    "normed_mpia_authors = [k[1] for k in mpia_authors]   # initials + fullname\n",
    "new_papers = get_new_papers()\n",
    "# add manual references\n",
    "add_paper_refs = []\n",
    "new_papers.extend([get_paper_from_identifier(k) for k in add_paper_refs])\n",
    "\n",
    "candidates = []\n",
    "for paperk in new_papers:\n",
    "    # Check author list with their initials\n",
    "    normed_author_list = [mpia.get_initials(k) for k in paperk['authors']]\n",
    "    hl_authors = highlight_authors_in_list(normed_author_list, normed_mpia_authors, verbose=True)\n",
    "    matches = [(hl, orig) for hl, orig in zip(hl_authors, paperk['authors']) if 'mark' in hl]\n",
    "    paperk['authors'] = hl_authors\n",
    "    if matches:\n",
    "        # only select paper if an author matched our list\n",
    "        candidates.append(paperk)\n",
    "print(\"\"\"Arxiv has {0:,d} new papers today\"\"\".format(len(new_papers)))        \n",
    "print(\"\"\"          {0:,d} with possible author matches\"\"\".format(len(candidates)))"
   ]
  },
  {
   "cell_type": "markdown",
   "id": "3543b34a",
   "metadata": {
    "papermill": {
     "duration": 0.005657,
     "end_time": "2023-10-02T04:06:04.947347",
     "exception": false,
     "start_time": "2023-10-02T04:06:04.941690",
     "status": "completed"
    },
    "tags": []
   },
   "source": [
    "# Parse sources and generate relevant outputs\n",
    "\n",
    "From the candidates, we do the following steps:\n",
    "* get their tarball from ArXiv (and extract data)\n",
    "* find the main .tex file: find one with \\documentclass{...} (sometimes it's non trivial)\n",
    "* Check affiliations with :func:`validation`, which uses :func:`mpia.affiliation_verifications`\n",
    "* If passing the affiliations: we parse the .tex source\n",
    "   * inject sub-documents into the main (flatten the main document)\n",
    "   * parse structure, extract information (title, abstract, authors, figures...)\n",
    "   * handles `\\graphicspath` if provided\n",
    "* Generate the .md document."
   ]
  },
  {
   "cell_type": "code",
   "execution_count": 4,
   "id": "9576b79e",
   "metadata": {
    "execution": {
     "iopub.execute_input": "2023-10-02T04:06:04.957031Z",
     "iopub.status.busy": "2023-10-02T04:06:04.956501Z",
     "iopub.status.idle": "2023-10-02T04:07:36.127992Z",
     "shell.execute_reply": "2023-10-02T04:07:36.127009Z"
    },
    "papermill": {
     "duration": 91.181597,
     "end_time": "2023-10-02T04:07:36.132627",
     "exception": false,
     "start_time": "2023-10-02T04:06:04.951030",
     "status": "completed"
    },
    "scrolled": false,
    "tags": []
   },
   "outputs": [
    {
     "data": {
      "application/vnd.jupyter.widget-view+json": {
       "model_id": "4cd7a6678e034f23b0a8f50407d6c019",
       "version_major": 2,
       "version_minor": 0
      },
      "text/plain": [
       "  0%|          | 0/5 [00:00<?, ?it/s]"
      ]
     },
     "metadata": {},
     "output_type": "display_data"
    },
    {
     "name": "stdout",
     "output_type": "stream",
     "text": [
      "Retrieving document from  https://arxiv.org/e-print/2309.16757\n"
     ]
    },
    {
     "name": "stdout",
     "output_type": "stream",
     "text": [
      "extracting tarball to tmp_2309.16757..."
     ]
    },
    {
     "name": "stdout",
     "output_type": "stream",
     "text": [
      " done.\n"
     ]
    },
    {
     "name": "stderr",
     "output_type": "stream",
     "text": [
      "/opt/hostedtoolcache/Python/3.9.18/x64/lib/python3.9/site-packages/arxiv_on_deck_2/latex.py:473: LatexWarning: Error parsing the document directly. Trying to recover.\n",
      "  warnings.warn(LatexWarning(f\"Error parsing the document directly. Trying to recover.\"))\n"
     ]
    },
    {
     "name": "stdout",
     "output_type": "stream",
     "text": [
      "✔ → 0:header\n",
      "  ↳ 7947:\\section{Introduction} \\label{sec:intro}\n"
     ]
    },
    {
     "name": "stdout",
     "output_type": "stream",
     "text": [
      "✔ → 7947:\\section{Introduction} \\label{sec:intro}\n",
      "  ↳ 15386:\\section{Target Selection, Observations and Data Reduction} \\label{sec:data}\n"
     ]
    },
    {
     "name": "stdout",
     "output_type": "stream",
     "text": [
      "✘ → 15386:\\section{Target Selection, Observations and Data Reduction} \\label{sec:data}\n",
      "  ↳ 21375:\\section{Analysis \\& Results} \\label{sec:analysis}\n"
     ]
    },
    {
     "name": "stdout",
     "output_type": "stream",
     "text": [
      "✔ → 21375:\\section{Analysis \\& Results} \\label{sec:analysis}\n",
      "  ↳ 30091:\\section{discussion} \\label{sec:discussion}\n"
     ]
    },
    {
     "name": "stdout",
     "output_type": "stream",
     "text": [
      "✔ → 30091:\\section{discussion} \\label{sec:discussion}\n",
      "  ↳ 36888:\\section{Summary} \\label{sec:summary}\n"
     ]
    },
    {
     "name": "stdout",
     "output_type": "stream",
     "text": [
      "✔ → 36888:\\section{Summary} \\label{sec:summary}\n",
      "  ↳ 43573:end\n"
     ]
    },
    {
     "name": "stdout",
     "output_type": "stream",
     "text": [
      "Z.-L. Xie  ->  Z.-L. Xie  |  ['Z.-L. Xie']\n"
     ]
    },
    {
     "name": "stdout",
     "output_type": "stream",
     "text": [
      "Found 72 bibliographic references in tmp_2309.16757/sample631.bbl.\n",
      "Retrieving document from  https://arxiv.org/e-print/2309.16926\n"
     ]
    },
    {
     "name": "stdout",
     "output_type": "stream",
     "text": [
      "extracting tarball to tmp_2309.16926..."
     ]
    },
    {
     "name": "stdout",
     "output_type": "stream",
     "text": [
      " done.\n"
     ]
    },
    {
     "name": "stderr",
     "output_type": "stream",
     "text": [
      "/opt/hostedtoolcache/Python/3.9.18/x64/lib/python3.9/site-packages/arxiv_on_deck_2/latex.py:473: LatexWarning: Error parsing the document directly. Trying to recover.\n",
      "  warnings.warn(LatexWarning(f\"Error parsing the document directly. Trying to recover.\"))\n"
     ]
    },
    {
     "name": "stdout",
     "output_type": "stream",
     "text": [
      "✔ → 0:header\n",
      "  ↳ 5534:\\section{Introduction}\n"
     ]
    },
    {
     "name": "stdout",
     "output_type": "stream",
     "text": [
      "✔ → 5534:\\section{Introduction}\n",
      "  ↳ 14566:\\section{Data}\\label{sec:obs}\n"
     ]
    },
    {
     "name": "stdout",
     "output_type": "stream",
     "text": [
      "✔ → 14566:\\section{Data}\\label{sec:obs}\n",
      "  ↳ 23726:\\section{Analysis and Results}\\label{sec:analysis}\n"
     ]
    },
    {
     "name": "stdout",
     "output_type": "stream",
     "text": [
      "✔ → 23726:\\section{Analysis and Results}\\label{sec:analysis}\n",
      "  ↳ 78841:\\section{Discussion}\\label{sec:discussion}\n"
     ]
    },
    {
     "name": "stdout",
     "output_type": "stream",
     "text": [
      "✔ → 78841:\\section{Discussion}\\label{sec:discussion}\n",
      "  ↳ 96815:\\section{Conclusions}\\label{sec:conclusion}\n"
     ]
    },
    {
     "name": "stdout",
     "output_type": "stream",
     "text": [
      "✔ → 96815:\\section{Conclusions}\\label{sec:conclusion}\n",
      "  ↳ 103086:\\section{Fitting multi-component emission line spectra in the H$\\alpha$ window}\\label{appendix:Ha_NII}\n",
      "✔ → 103086:\\section{Fitting multi-component emission line spectra in the H$\\alpha$ window}\\label{appendix:Ha_NII}\n",
      "  ↳ 105615:\\section{Constraining the Morphology of the ionized gas cloud C1}\\label{appendix:deconvolution}\n"
     ]
    },
    {
     "name": "stdout",
     "output_type": "stream",
     "text": [
      "✔ → 105615:\\section{Constraining the Morphology of the ionized gas cloud C1}\\label{appendix:deconvolution}\n",
      "  ↳ 108467:end\n"
     ]
    },
    {
     "name": "stdout",
     "output_type": "stream",
     "text": [
      "Found 134 bibliographic references in tmp_2309.16926/ms.bbl.\n",
      "Retrieving document from  https://arxiv.org/e-print/2309.16958\n"
     ]
    },
    {
     "name": "stdout",
     "output_type": "stream",
     "text": [
      "extracting tarball to tmp_2309.16958..."
     ]
    },
    {
     "name": "stdout",
     "output_type": "stream",
     "text": [
      " done.\n",
      "Retrieving document from  https://arxiv.org/e-print/2309.17287\n"
     ]
    },
    {
     "name": "stderr",
     "output_type": "stream",
     "text": [
      "/opt/hostedtoolcache/Python/3.9.18/x64/lib/python3.9/site-packages/IPython/core/interactiveshell.py:3526: LatexWarning: Multiple tex files.\n",
      "\n",
      "  exec(code_obj, self.user_global_ns, self.user_ns)\n",
      "/opt/hostedtoolcache/Python/3.9.18/x64/lib/python3.9/site-packages/IPython/core/interactiveshell.py:3526: LatexWarning: Found documentclass in tmp_2309.16958/aassymbols.tex\n",
      "\n",
      "  exec(code_obj, self.user_global_ns, self.user_ns)\n"
     ]
    },
    {
     "name": "stdout",
     "output_type": "stream",
     "text": [
      "extracting tarball to tmp_2309.17287..."
     ]
    },
    {
     "name": "stdout",
     "output_type": "stream",
     "text": [
      " done.\n"
     ]
    },
    {
     "name": "stderr",
     "output_type": "stream",
     "text": [
      "/opt/hostedtoolcache/Python/3.9.18/x64/lib/python3.9/site-packages/arxiv_on_deck_2/latex.py:473: LatexWarning: Error parsing the document directly. Trying to recover.\n",
      "  warnings.warn(LatexWarning(f\"Error parsing the document directly. Trying to recover.\"))\n"
     ]
    },
    {
     "name": "stdout",
     "output_type": "stream",
     "text": [
      "✘ → 0:header\n",
      "  ↳ 20766:\\section{Introduction} \\label{sec:intro}\n"
     ]
    },
    {
     "name": "stdout",
     "output_type": "stream",
     "text": [
      "✔ → 20766:\\section{Introduction} \\label{sec:intro}\n",
      "  ↳ 27278:\\section{\\label{sec:theory}Primordial features and the early Universe}\n"
     ]
    },
    {
     "name": "stdout",
     "output_type": "stream",
     "text": [
      "✔ → 27278:\\section{\\label{sec:theory}Primordial features and the early Universe}\n",
      "  ↳ 33809:\\section{\\label{sec:probes}\\textbf{\\textit{Euclid}} probes}\n"
     ]
    },
    {
     "name": "stdout",
     "output_type": "stream",
     "text": [
      "✔ → 33809:\\section{\\label{sec:probes}\\textbf{\\textit{Euclid}} probes}\n",
      "  ↳ 50226:\\section{\\label{sec:modelling}Theoretical modelling of primordial features in galaxy surveys}\n"
     ]
    },
    {
     "name": "stdout",
     "output_type": "stream",
     "text": [
      "✔ → 50226:\\section{\\label{sec:modelling}Theoretical modelling of primordial features in galaxy surveys}\n",
      "  ↳ 77626:\\section{\\label{sec:results}Expected constraints from \\Euclid primary probes}\n"
     ]
    },
    {
     "name": "stdout",
     "output_type": "stream",
     "text": [
      "✔ → 77626:\\section{\\label{sec:results}Expected constraints from \\Euclid primary probes}\n",
      "  ↳ 87170:\\section{\\label{sec:bispectrum}Power spectrum and bispectrum combination}\n"
     ]
    },
    {
     "name": "stdout",
     "output_type": "stream",
     "text": [
      "✔ → 87170:\\section{\\label{sec:bispectrum}Power spectrum and bispectrum combination}\n",
      "  ↳ 99710:\\section{\\label{sec:CMB}Combination with CMB data}\n"
     ]
    },
    {
     "name": "stdout",
     "output_type": "stream",
     "text": [
      "✔ → 99710:\\section{\\label{sec:CMB}Combination with CMB data}\n",
      "  ↳ 105534:\\section{\\label{sec:conclusions}Conclusions}\n"
     ]
    },
    {
     "name": "stdout",
     "output_type": "stream",
     "text": [
      "✔ → 105534:\\section{\\label{sec:conclusions}Conclusions}\n",
      "  ↳ 114533:\\begin{appendix}\n",
      "✔ → 114533:\\begin{appendix}\n",
      "  ↳ 114550:\\section{\\label{sec:appendix1}}\n",
      "✔ → 114550:\\section{\\label{sec:appendix1}}\n",
      "  ↳ 116797:\\section{\\label{sec:appendix2}}\n"
     ]
    },
    {
     "name": "stdout",
     "output_type": "stream",
     "text": [
      "✔ → 116797:\\section{\\label{sec:appendix2}}\n",
      "  ↳ 118724:end\n"
     ]
    },
    {
     "name": "stderr",
     "output_type": "stream",
     "text": [
      "/tmp/ipykernel_2245/3009462391.py:49: LatexWarning: 2309.17287 did not run properly\n",
      "list index out of range\n",
      "  warnings.warn(latex.LatexWarning(f\"{paper_id:s} did not run properly\\n\" +\n"
     ]
    },
    {
     "name": "stdout",
     "output_type": "stream",
     "text": [
      "Retrieving document from  https://arxiv.org/e-print/2309.17440\n"
     ]
    },
    {
     "name": "stdout",
     "output_type": "stream",
     "text": [
      "extracting tarball to tmp_2309.17440..."
     ]
    },
    {
     "name": "stdout",
     "output_type": "stream",
     "text": [
      " done.\n"
     ]
    },
    {
     "name": "stderr",
     "output_type": "stream",
     "text": [
      "/opt/hostedtoolcache/Python/3.9.18/x64/lib/python3.9/site-packages/IPython/core/interactiveshell.py:3526: LatexWarning: Multiple tex files.\n",
      "\n",
      "  exec(code_obj, self.user_global_ns, self.user_ns)\n",
      "/opt/hostedtoolcache/Python/3.9.18/x64/lib/python3.9/site-packages/IPython/core/interactiveshell.py:3526: LatexWarning: Found documentclass in tmp_2309.17440/aassymbols.tex\n",
      "\n",
      "  exec(code_obj, self.user_global_ns, self.user_ns)\n"
     ]
    }
   ],
   "source": [
    "documents = []\n",
    "failed = []\n",
    "for paper in tqdm(candidates):\n",
    "    paper_id = paper['identifier'].lower().replace('arxiv:', '')\n",
    "    \n",
    "    folder = f'tmp_{paper_id}'\n",
    "\n",
    "    try:\n",
    "        if not os.path.isdir(folder):\n",
    "            folder = retrieve_document_source(f\"{paper_id}\", f'tmp_{paper_id}')\n",
    "        \n",
    "        try:\n",
    "            doc = latex.LatexDocument(folder, validation=validation)    \n",
    "        except AffiliationError as affilerror:\n",
    "            msg = f\"ArXiv:{paper_id:s} is not an MPIA paper... \" + str(affilerror)\n",
    "            failed.append((paper, \"affiliation error: \" + str(affilerror) ))\n",
    "            continue\n",
    "        \n",
    "        # Hack because sometimes author parsing does not work well\n",
    "        if (len(doc.authors) != len(paper['authors'])):\n",
    "            doc._authors = paper['authors']\n",
    "        else:\n",
    "            # highlight authors (FIXME: doc.highlight_authors)\n",
    "            # done on arxiv paper already\n",
    "            doc._authors = highlight_authors_in_list(\n",
    "                [mpia.get_initials(k) for k in doc.authors], \n",
    "                normed_mpia_authors, verbose=True)\n",
    "        if (doc.abstract) in (None, ''):\n",
    "            doc._abstract = paper['abstract']\n",
    "            \n",
    "        doc.comment = (get_markdown_badge(paper_id) + \n",
    "                       \"<mark>Appeared on: \" + paper['date'] + \"</mark> - \")\n",
    "        if paper['comments']:\n",
    "            doc.comment += \" _\" + paper['comments'] + \"_\"\n",
    "        \n",
    "        full_md = doc.generate_markdown_text()\n",
    "        \n",
    "        full_md += get_markdown_qrcode(paper_id)\n",
    "        \n",
    "        # replace citations\n",
    "        try:\n",
    "            bibdata = latex_bib.LatexBib.from_doc(doc)\n",
    "            full_md = latex_bib.replace_citations(full_md, bibdata)\n",
    "        except Exception as e:\n",
    "            print(e)\n",
    "        \n",
    "        documents.append((paper_id, full_md))\n",
    "    except Exception as e:\n",
    "        warnings.warn(latex.LatexWarning(f\"{paper_id:s} did not run properly\\n\" +\n",
    "                                         str(e)\n",
    "                                        ))\n",
    "        failed.append((paper, \"latex error \" + str(e)))"
   ]
  },
  {
   "cell_type": "markdown",
   "id": "2505a25c",
   "metadata": {
    "papermill": {
     "duration": 0.007059,
     "end_time": "2023-10-02T04:07:36.147080",
     "exception": false,
     "start_time": "2023-10-02T04:07:36.140021",
     "status": "completed"
    },
    "tags": []
   },
   "source": [
    "### Export the logs\n",
    "\n",
    "Throughout, we also keep track of the logs per paper. see `logs-{today date}.md` "
   ]
  },
  {
   "cell_type": "code",
   "execution_count": 5,
   "id": "d733828a",
   "metadata": {
    "execution": {
     "iopub.execute_input": "2023-10-02T04:07:36.163869Z",
     "iopub.status.busy": "2023-10-02T04:07:36.162880Z",
     "iopub.status.idle": "2023-10-02T04:07:36.183563Z",
     "shell.execute_reply": "2023-10-02T04:07:36.182683Z"
    },
    "papermill": {
     "duration": 0.034124,
     "end_time": "2023-10-02T04:07:36.188106",
     "exception": false,
     "start_time": "2023-10-02T04:07:36.153982",
     "status": "completed"
    },
    "scrolled": false,
    "tags": []
   },
   "outputs": [
    {
     "data": {
      "text/markdown": [
       "## Successful papers"
      ],
      "text/plain": [
       "<IPython.core.display.Markdown object>"
      ]
     },
     "metadata": {},
     "output_type": "display_data"
    },
    {
     "data": {
      "text/markdown": [
       "\n",
       "|||\n",
       "|---:|:---|\n",
       "| [![arXiv](https://img.shields.io/badge/arXiv-arXiv:2309.16757-b31b1b.svg)](https://arxiv.org/abs/arXiv:2309.16757) | **A SPectroscopic survey of biased halos In the Reionization Era (ASPIRE):  JWST Discovers an Overdensity around a Metal Absorption-selected Galaxy at  $z\\sim5.5$**  |\n",
       "|| Y. Wu, et al. -- incl., <mark>E. Bañados</mark>, <mark>Z.-L. Xie</mark> |\n",
       "|*Appeared on*| *2023-10-02*|\n",
       "|*Comments*| *Accepted for publication in ApJL. Main text 8 pages, 4 figures. For more information of the JWST ASPIRE program please check this https URL*|\n",
       "|**Abstract**| The launch of ${\\it JWST}$ opens a new window for studying the connection between metal-line absorbers and galaxies at the end of the Epoch of Reionization (EoR). Previous studies have detected absorber-galaxy pairs in limited quantities through ground-based observations. To enhance our understanding of the relationship between absorbers and their host galaxies at $z>5$, we utilized the NIRCam Wide Field Slitless Spectroscopy (WFSS) to search for absorber-associated galaxies by detecting their rest-frame optical emission lines (e.g., [OIII] + H$\\beta$). We report the discovery of a MgII-associated galaxy at $z=5.428$ using data from the ${\\it JWST}$ ASPIRE program. The MgII absorber is detected on the spectrum of quasar J0305--3150 with a rest-frame equivalent width of 0.74$\\mathring{A}$. The associated galaxy has an [OIII] luminosity of $10^{42.5}\\ {\\rm erg\\ s^{-1}}$ with an impact parameter of 24.9 proper kiloparsecs (pkpc). The joint ${\\it HST}$-${\\it JWST}$ spectral energy distribution (SED) implies a stellar mass and star-formation rate of ${\\rm M_* \\approx 10^{8.8}}$ ${\\rm M_{\\odot}}$, ${\\rm SFR}\\approx 10\\ {\\rm M_{\\odot}\\ yr^{-1}}$. Its [OIII] equivalent width and stellar mass are typical of [OIII] emitters at this redshift. Furthermore, connecting the outflow starting time to the SED-derived stellar age, the outflow velocity of this galaxy is $\\sim300\\ {\\rm km\\ s^{-1}}$, consistent with theoretical expectations. We identified six additional [OIII] emitters with impact parameters of up to $\\sim300$ pkpc at similar redshifts ($|dv|<1000\\ {\\rm km\\ s^{-1}}$). The observed number is consistent with that in cosmological simulations. This pilot study suggests that systematically investigating the absorber-galaxy connection within the ASPIRE program will provide insights into the metal-enrichment history in the early universe. |"
      ],
      "text/plain": [
       "[arXiv:2309.16757] A SPectroscopic survey of biased halos In the Reionization Era (ASPIRE):  JWST Discovers an Overdensity around a Metal Absorption-selected Galaxy at  $z\\sim5.5$\n",
       "\tY. Wu, et al. -- incl., <mark>E. Bañados</mark>, <mark>Z.-L. Xie</mark>"
      ]
     },
     "metadata": {},
     "output_type": "display_data"
    },
    {
     "data": {
      "text/markdown": [
       "\n",
       "|||\n",
       "|---:|:---|\n",
       "| [![arXiv](https://img.shields.io/badge/arXiv-arXiv:2309.16926-b31b1b.svg)](https://arxiv.org/abs/arXiv:2309.16926) | **The Close AGN Reference Survey (CARS): An interplay between radio jets  and AGN radiation in the radio-quiet AGN HE 0040-1105**  |\n",
       "|| M. Singha, et al. -- incl., <mark>N. Winkel</mark>, <mark>I. Smirnova-Pinchukova</mark>, <mark>J. Neumann</mark> |\n",
       "|*Appeared on*| *2023-10-02*|\n",
       "|*Comments*| *Accepted in ApJ for publication*|\n",
       "|**Abstract**| We present a case study of HE 0040-1105, an unobscured radio-quiet AGN at a high accretion rate (Eddington ratio = 0.19+/-0.04). This particular AGN hosts an ionized gas outflow with the largest spatial offset from its nucleus compared to all other AGNs in the Close AGN Reference Survey (CARS). By combining multi-wavelength observations from VLT/MUSE, HST/WFC3, VLA, and EVN we probe the ionization conditions, gas kinematics, and radio emission from host galaxy scales to the central few pc. We detect four kinematically distinct components, one of which is a spatially unresolved AGN-driven outflow located within the central 500 pc, where it locally dominates the ISM conditions. Its velocity is too low to escape the host galaxy's gravitational potential, and maybe re-accreted onto the central black hole via chaotic cold accretion. We detect compact radio emission in HE 0040-1105,within the region covered by the outflow, varying on ~20 yr timescale. We show that neither AGN coronal emission nor star formation processes wholly explain the radio morphology/spectrum. The spatial alignment between the outflowing ionized gas and the radio continuum emission on 100 pc, scales is consistent with a weak jet morphology rather than diffuse radio emission produced by AGN winds. > 90% of the outflowing ionized gas emission originates from the central 100 pc, within which the ionizing luminosity of the outflow is comparable to the mechanical power of the radio jet. Although radio jets might primarily drive the outflow in HE 0040-1105,, radiation pressure from the AGN may contribute in this process. |"
      ],
      "text/plain": [
       "[arXiv:2309.16926] The Close AGN Reference Survey (CARS): An interplay between radio jets  and AGN radiation in the radio-quiet AGN HE 0040-1105\n",
       "\tM. Singha, et al. -- incl., <mark>N. Winkel</mark>, <mark>I. Smirnova-Pinchukova</mark>, <mark>J. Neumann</mark>"
      ]
     },
     "metadata": {},
     "output_type": "display_data"
    },
    {
     "data": {
      "text/markdown": [
       "## Failed papers"
      ],
      "text/plain": [
       "<IPython.core.display.Markdown object>"
      ]
     },
     "metadata": {},
     "output_type": "display_data"
    },
    {
     "data": {
      "text/markdown": [
       "\n",
       "|||\n",
       "|---:|:---|\n",
       "| [![arXiv](https://img.shields.io/badge/arXiv-arXiv:2309.16958-b31b1b.svg)](https://arxiv.org/abs/arXiv:2309.16958) | **PopSED: Population-Level Inference for Galaxy Properties from Broadband  Photometry with Neural Density Estimation**  |\n",
       "|| <mark>J. Li</mark>, P. Melchior, C. Hahn, S. Huang |\n",
       "|*Appeared on*| *2023-10-02*|\n",
       "|*Comments*| *12 pages, 4 figures. Submitted to ApJ*|\n",
       "|**Abstract**| We present PopSED, a framework for population-level inference of galaxy properties from photometric data. Unlike the traditional approach of first analyzing individual galaxies and then combining the results to determine the physical properties of the entire galaxy population, we directly make the population distribution the inference objective. We train normalizing flows to approximate the population distribution by minimizing the Wasserstein distance between the synthetic photometry of the galaxy population and the observed data. We validate our method using mock observations and apply it to galaxies from the GAMA survey. PopSED reliably recovers the redshift and stellar mass distribution of $10^{5}$ galaxies using broadband photometry within $<1$ GPU-hour, being $10^{5-6}$ times faster than the traditional SED modeling method. From the population posterior we also recover the star-forming main sequence for GAMA galaxies at $z<0.1$. With the unprecedented number of galaxies in upcoming surveys, our method offers an efficient tool for studying galaxy evolution and deriving redshift distributions for cosmological analyses. |\n",
       "|<p style=\"color:green\"> **ERROR** </p>| <p style=\"color:green\">affiliation error: mpia.affiliation_verifications: 'Heidelberg' keyword not found.</p> |"
      ],
      "text/plain": [
       "<IPython.core.display.Markdown object>"
      ]
     },
     "metadata": {},
     "output_type": "display_data"
    },
    {
     "data": {
      "text/markdown": [
       "\n",
       "|||\n",
       "|---:|:---|\n",
       "| [![arXiv](https://img.shields.io/badge/arXiv-arXiv:2309.17440-b31b1b.svg)](https://arxiv.org/abs/arXiv:2309.17440) | **Investigating the Drivers of Electron Temperature Variations in HII  Regions with Keck-KCWI and VLT-MUSE**  |\n",
       "|| R. J. R. Vaught, et al. -- incl., <mark>K. Kreckel</mark>, <mark>J. Neumann</mark> |\n",
       "|*Appeared on*| *2023-10-02*|\n",
       "|*Comments*| *Submitted to ApJ, 62 pages, 35 figures*|\n",
       "|**Abstract**| HII region electron temperatures are a critical ingredient in metallicity determinations and recent observations reveal systematic variations in the temperatures measured using different ions. We present electron temperatures ($T_e$) measured using the optical auroral lines ([NII]$\\lambda5756$, [OII]$\\lambda\\lambda7320,7330$, [SII]$\\lambda\\lambda4069,4076$, [OIII]$\\lambda4363$, and [SIII]$\\lambda6312$) for a sample of HII regions in seven nearby galaxies. We use observations from the Physics at High Angular resolution in Nearby Galaxies survey (PHANGS) obtained with integral field spectrographs on Keck (Keck Cosmic Web Imager; KCWI) and the Very Large Telescope (Multi-Unit Spectroscopic Explorer; MUSE). We compare the different $T_e$ measurements with HII region and interstellar medium environmental properties such as electron density, ionization parameter, molecular gas velocity dispersion, and stellar association/cluster mass and age obtained from PHANGS. We find that the temperatures from [OII] and [SII] are likely over-estimated due to the presence of electron density inhomogeneities in HII regions. We observe that differences between [NII] and [SIII] temperatures are weakly correlated with stellar association mass and molecular gas velocity dispersion. We measure high [OIII] temperatures in a subset of regions with high molecular gas velocity dispersion and low ionization parameter, which may be explained by the presence of low-velocity shocks. Of all the temperatures considered, the $T_{\\rm{e}}$--$T_{\\rm{e}}$ between [NII] and [SIII] temperatures have the lowest observed scatter and generally follow predictions from photoionization modeling, which suggests that these tracers reflect HII region temperatures across the various ionization zones better than [OII], [SII], and [OIII]. |\n",
       "|<p style=\"color:green\"> **ERROR** </p>| <p style=\"color:green\">affiliation error: mpia.affiliation_verifications: 'Heidelberg' keyword not found.</p> |"
      ],
      "text/plain": [
       "<IPython.core.display.Markdown object>"
      ]
     },
     "metadata": {},
     "output_type": "display_data"
    },
    {
     "data": {
      "text/markdown": [
       "\n",
       "|||\n",
       "|---:|:---|\n",
       "| [![arXiv](https://img.shields.io/badge/arXiv-arXiv:2309.17287-b31b1b.svg)](https://arxiv.org/abs/arXiv:2309.17287) | **$Euclid$: The search for primordial features**  |\n",
       "|| M. Ballardini, et al. -- incl., <mark>K. Jahnke</mark> |\n",
       "|*Appeared on*| *2023-10-02*|\n",
       "|*Comments*| **|\n",
       "|**Abstract**| Primordial features, in particular oscillatory signals, imprinted in the primordial power spectrum of density perturbations represent a clear window of opportunity for detecting new physics at high-energy scales. Future spectroscopic and photometric measurements from the $Euclid$ space mission will provide unique constraints on the primordial power spectrum, thanks to the redshift coverage and high-accuracy measurement of nonlinear scales, thus allowing us to investigate deviations from the standard power-law primordial power spectrum. We consider two models with primordial undamped oscillations superimposed on the matter power spectrum, one linearly spaced in $k$-space the other logarithmically spaced in $k$-space. We forecast uncertainties applying a Fisher matrix method to spectroscopic galaxy clustering, weak lensing, photometric galaxy clustering, cross correlation between photometric probes, spectroscopic galaxy clustering bispectrum, CMB temperature and $E$-mode polarization, temperature-polarization cross correlation, and CMB weak lensing. We also study a nonlinear density reconstruction method to retrieve the oscillatory signals in the primordial power spectrum. We find the following percentage relative errors in the feature amplitude with $Euclid$ primary probes for the linear (logarithmic) feature model: 21% (22%) in the pessimistic settings and 18% (18%) in the optimistic settings at 68.3% confidence level (CL) using GC$_{\\rm sp}$+WL+GC$_{\\rm ph}$+XC. Combining all the sources of information explored expected from $Euclid$ in combination with future SO-like CMB experiment, we forecast ${\\cal A}_{\\rm lin} \\simeq 0.010 \\pm 0.001$ at 68.3% CL and ${\\cal A}_{\\rm log} \\simeq 0.010 \\pm 0.001$ for GC$_{\\rm sp}$(PS rec + BS)+WL+GC$_{\\rm ph}$+XC+SO-like both for the optimistic and pessimistic settings over the frequency range $(1,\\,10^{2.1})$. |\n",
       "|<p style=\"color:red\"> **ERROR** </p>| <p style=\"color:red\">latex error list index out of range</p> |"
      ],
      "text/plain": [
       "<IPython.core.display.Markdown object>"
      ]
     },
     "metadata": {},
     "output_type": "display_data"
    }
   ],
   "source": [
    "import datetime\n",
    "today = str(datetime.date.today())\n",
    "logfile = f\"_build/html/logs/log-{today}.md\"\n",
    "\n",
    "\n",
    "with open(logfile, 'w') as logs:\n",
    "    # Success\n",
    "    logs.write(f'# Arxiv on Deck 2: Logs - {today}\\n\\n')\n",
    "    logs.write(\"\"\"* Arxiv had {0:,d} new papers\\n\"\"\".format(len(new_papers)))\n",
    "    logs.write(\"\"\"    * {0:,d} with possible author matches\\n\\n\"\"\".format(len(candidates)))\n",
    "    logs.write(\"## Sucessful papers\\n\\n\")\n",
    "    display(Markdown(\"## Successful papers\"))\n",
    "    success = [k[0] for k in documents]\n",
    "    for candid in candidates:\n",
    "        if candid['identifier'].split(':')[-1] in success:\n",
    "            display(candid)\n",
    "            logs.write(candid.generate_markdown_text() + '\\n\\n')\n",
    "\n",
    "    ## failed\n",
    "    logs.write(\"## Failed papers\\n\\n\")\n",
    "    display(Markdown(\"## Failed papers\"))\n",
    "    failed = sorted(failed, key=lambda x: x[1])\n",
    "    current_reason = \"\"\n",
    "    for paper, reason in failed:\n",
    "        if 'affiliation' in reason:\n",
    "            color = 'green'\n",
    "        else:\n",
    "            color = 'red'\n",
    "        data = Markdown(\n",
    "                paper.generate_markdown_text() + \n",
    "                f'\\n|<p style=\"color:{color:s}\"> **ERROR** </p>| <p style=\"color:{color:s}\">{reason:s}</p> |'\n",
    "               )\n",
    "        if reason != current_reason:\n",
    "            logs.write(f'### {reason:s} \\n\\n')\n",
    "            current_reason = reason\n",
    "        logs.write(data.data + '\\n\\n')\n",
    "        \n",
    "        # only display here the important errors (all in logs)\n",
    "        # if color in ('red',):\n",
    "        display(data)"
   ]
  },
  {
   "cell_type": "markdown",
   "id": "472d20ee",
   "metadata": {
    "papermill": {
     "duration": 0.007044,
     "end_time": "2023-10-02T04:07:36.202931",
     "exception": false,
     "start_time": "2023-10-02T04:07:36.195887",
     "status": "completed"
    },
    "tags": []
   },
   "source": [
    "## Export documents\n",
    "\n",
    "We now write the .md files and export relevant images"
   ]
  },
  {
   "cell_type": "code",
   "execution_count": 6,
   "id": "d426aed9",
   "metadata": {
    "execution": {
     "iopub.execute_input": "2023-10-02T04:07:36.220808Z",
     "iopub.status.busy": "2023-10-02T04:07:36.219694Z",
     "iopub.status.idle": "2023-10-02T04:07:36.229001Z",
     "shell.execute_reply": "2023-10-02T04:07:36.228247Z"
    },
    "papermill": {
     "duration": 0.020216,
     "end_time": "2023-10-02T04:07:36.230684",
     "exception": false,
     "start_time": "2023-10-02T04:07:36.210468",
     "status": "completed"
    },
    "tags": []
   },
   "outputs": [],
   "source": [
    "def export_markdown_summary(md: str, md_fname:str, directory: str):\n",
    "    \"\"\"Export MD document and associated relevant images\"\"\"\n",
    "    import os\n",
    "    import shutil\n",
    "    import re\n",
    "\n",
    "    if (os.path.exists(directory) and not os.path.isdir(directory)):\n",
    "        raise RuntimeError(f\"a non-directory file exists with name {directory:s}\")\n",
    "\n",
    "    if (not os.path.exists(directory)):\n",
    "        print(f\"creating directory {directory:s}\")\n",
    "        os.mkdir(directory)\n",
    "\n",
    "    fig_fnames = (re.compile(r'\\[Fig.*\\]\\((.*)\\)').findall(md) + \n",
    "                  re.compile(r'\\<img src=\"([^>\\s]*)\"[^>]*/>').findall(md))\n",
    "    for fname in fig_fnames:\n",
    "        if 'http' in fname:\n",
    "            # No need to copy online figures\n",
    "            continue\n",
    "        destdir = os.path.join(directory, os.path.dirname(fname))\n",
    "        destfname = os.path.join(destdir, os.path.basename(fname))\n",
    "        try:\n",
    "            os.makedirs(destdir)\n",
    "        except FileExistsError:\n",
    "            pass\n",
    "        shutil.copy(fname, destfname)\n",
    "    with open(os.path.join(directory, md_fname), 'w') as fout:\n",
    "        fout.write(md)\n",
    "    print(\"exported in \", os.path.join(directory, md_fname))\n",
    "    [print(\"    + \" + os.path.join(directory,fk)) for fk in fig_fnames]"
   ]
  },
  {
   "cell_type": "code",
   "execution_count": 7,
   "id": "014d04a4",
   "metadata": {
    "execution": {
     "iopub.execute_input": "2023-10-02T04:07:36.250662Z",
     "iopub.status.busy": "2023-10-02T04:07:36.250036Z",
     "iopub.status.idle": "2023-10-02T04:07:36.260010Z",
     "shell.execute_reply": "2023-10-02T04:07:36.259135Z"
    },
    "papermill": {
     "duration": 0.02282,
     "end_time": "2023-10-02T04:07:36.261850",
     "exception": false,
     "start_time": "2023-10-02T04:07:36.239030",
     "status": "completed"
    },
    "tags": []
   },
   "outputs": [
    {
     "name": "stdout",
     "output_type": "stream",
     "text": [
      "exported in  _build/html/2309.16757.md\n",
      "    + _build/html/tmp_2309.16757/./Figure_1.png\n",
      "    + _build/html/tmp_2309.16757/./Figure_4.png\n",
      "    + _build/html/tmp_2309.16757/./Figure_3.png\n",
      "exported in  _build/html/2309.16926.md\n",
      "    + _build/html/tmp_2309.16926/figures/gas_maps.png\n",
      "    + _build/html/tmp_2309.16926/figures/C1.png\n",
      "    + _build/html/tmp_2309.16926/figures/kin_model.png\n"
     ]
    }
   ],
   "source": [
    "for paper_id, md in documents:\n",
    "    export_markdown_summary(md, f\"{paper_id:s}.md\", '_build/html/')"
   ]
  },
  {
   "cell_type": "markdown",
   "id": "f087a0a7",
   "metadata": {
    "papermill": {
     "duration": 0.010611,
     "end_time": "2023-10-02T04:07:36.280325",
     "exception": false,
     "start_time": "2023-10-02T04:07:36.269714",
     "status": "completed"
    },
    "tags": []
   },
   "source": [
    "## Display the papers\n",
    "\n",
    "Not necessary but allows for a quick check."
   ]
  },
  {
   "cell_type": "code",
   "execution_count": 8,
   "id": "fd25f625",
   "metadata": {
    "execution": {
     "iopub.execute_input": "2023-10-02T04:07:36.300755Z",
     "iopub.status.busy": "2023-10-02T04:07:36.300065Z",
     "iopub.status.idle": "2023-10-02T04:07:36.308324Z",
     "shell.execute_reply": "2023-10-02T04:07:36.307290Z"
    },
    "papermill": {
     "duration": 0.020752,
     "end_time": "2023-10-02T04:07:36.310125",
     "exception": false,
     "start_time": "2023-10-02T04:07:36.289373",
     "status": "completed"
    },
    "scrolled": false,
    "tags": []
   },
   "outputs": [
    {
     "data": {
      "text/markdown": [
       "<div class=\"macros\" style=\"visibility:hidden;\">\n",
       "$\\newcommand{\\ensuremath}{}$\n",
       "$\\newcommand{\\xspace}{}$\n",
       "$\\newcommand{\\object}[1]{\\texttt{#1}}$\n",
       "$\\newcommand{\\farcs}{{.}''}$\n",
       "$\\newcommand{\\farcm}{{.}'}$\n",
       "$\\newcommand{\\arcsec}{''}$\n",
       "$\\newcommand{\\arcmin}{'}$\n",
       "$\\newcommand{\\ion}[2]{#1#2}$\n",
       "$\\newcommand{\\textsc}[1]{\\textrm{#1}}$\n",
       "$\\newcommand{\\hl}[1]{\\textrm{#1}}$\n",
       "$\\newcommand{\\footnote}[1]{}$\n",
       "$\\newcommand{\\vdag}{(v)^\\dagger}$\n",
       "$\\newcommand$\n",
       "$\\newcommand$\n",
       "$\\newcommand{\\red}{\\color{red}}$\n",
       "$\\newcommand{\\blue}{\\color{blue}}$\n",
       "$\\newcommand{\\CII}{[C \\textsc{ii}]}$\n",
       "$\\newcommand{\\Msun}{M_\\odot\\xspace}$\n",
       "$\\newcommand{\\Mstar}{M_\\ast\\xspace}$\n",
       "$\\newcommand{\\oi}{\\mbox{\\ion{O}{1}}}$\n",
       "$\\newcommand{\\oiii}{\\mbox{[\\ion{O}{3}]}}$\n",
       "$\\newcommand{\\mgii}{\\ion{Mg}{2}}$\n",
       "$\\newcommand{\\feii}{\\ion{Fe}{2}}$\n",
       "$\\newcommand{\\civ}{\\ion{C}{4}}$\n",
       "$\\newcommand{\\siiv}{\\ion{Si}{4}}$\n",
       "$\\newcommand{\\targetname}{ASPIRE-J0305M31-O3-038}$</div>\n",
       "\n",
       "\n",
       "\n",
       "<div id=\"title\">\n",
       "\n",
       "# A SPectroscopic survey of biased halos In the Reionization Era (ASPIRE): JWST Discovers an Overdensity around a Metal Absorption-selected Galaxy at $z\\sim5.5$\n",
       "\n",
       "</div>\n",
       "<div id=\"comments\">\n",
       "\n",
       "[![arXiv](https://img.shields.io/badge/arXiv-2309.16757-b31b1b.svg)](https://arxiv.org/abs/2309.16757)<mark>Appeared on: 2023-10-02</mark> -  _Accepted for publication in ApJL. Main text 8 pages, 4 figures. For more information of the JWST ASPIRE program please check this https URL_\n",
       "\n",
       "</div>\n",
       "<div id=\"authors\">\n",
       "\n",
       "Y. Wu, et al. -- incl., <mark>Z.-L. Xie</mark>\n",
       "\n",
       "</div>\n",
       "<div id=\"abstract\">\n",
       "\n",
       "**Abstract:** The launch of $_ JWST_$ opens a new window for studying the connection between metal-line absorbers and galaxies at the end of the Epoch of Reionization (EoR). Previous studies have detected absorber-galaxy pairs in limited quantities through ground-based observations. To enhance our understanding of the relationship between absorbers and their host galaxies at $z>5$ , we utilized the NIRCam Wide Field Slitless Spectroscopy (WFSS) to search for absorber-associated galaxies by detecting their rest-frame optical emission lines (e.g., $\\oiii$ + H $\\beta$ ). We report the discovery of a $\\mgii$ -associated galaxy at $z=5.428$ using data from the $_ JWST_$ ASPIRE program. The $\\mgii$ absorber is detected on the spectrum of quasar J0305--3150 with a rest-frame equivalent width of 0.74 $Å$ . The associated galaxy has an $\\oiii$ luminosity of $10^{42.5} {\\rm erg s^{-1}}$ with an impact parameter of 24.9 proper kiloparsecs (pkpc). The joint $_ HST_$ - $_ JWST_$ spectral energy distribution (SED) implies a stellar mass and star-formation rate of ${\\rm M_* \\approx 10^{8.8}}$ ${\\rm M_{\\odot}}$ , ${\\rm SFR}\\approx 10 {\\rm M_{\\odot} yr^{-1}}$ . Its $\\oiii$ equivalent width and stellar mass are typical of $\\oiii$ emitters at this redshift. Furthermore, connecting the outflow starting time to the SED-derived stellar age, the outflow velocity of this galaxy is $\\sim300 {\\rm km s^{-1}}$ , consistent with theoretical expectations. We identified six additional $\\oiii$ emitters with impact parameters of up to $\\sim300$ pkpc at similar redshifts ( $|dv|<1000 {\\rm km s^{-1}}$ ). The observed number is consistent with that in cosmological simulations. This pilot study suggests that systematically investigating the absorber-galaxy connection within the ASPIRE program will provide insights into the metal-enrichment history in the early universe.\n",
       "\n",
       "</div>\n",
       "\n",
       "<div id=\"div_fig1\">\n",
       "\n",
       "<img src=\"tmp_2309.16757/./Figure_1.png\" alt=\"Fig2\" width=\"100%\"/>\n",
       "\n",
       "**Figure 2. -** ** Top Left**: The JWST/NIRCam WFSS spectrum of $\\targetname$. The error spectrum is shown in pink lines. ** Bottom Left**: Normalized X-SHOOTER spectrum of the quasar J0305 with $\\mgii$$\\lambda\\lambda 2796, 2803$ and $\\feii$${\\rm \\lambda} 2382, 2600$ absorptions at $z=5.4284$. Red-shaded regions denote the best-fit Voigt profile. Dashed blue lines indicate the redshift. ** Right:**_ JWST_/NIRCam composite RGB map of the quasar field with the pixel scale of 0.03$\\arcsec$(blue: F115W, green: F200W, red: F356W). White circles denote the location of $\\targetname$ and the quasar J0305. We note that the $\\mgii$ absorber is in front of the quasar with the redshift of $z=5.428$. The impact parameter between the $\\mgii$ absorber and $\\targetname$ is $4.1$\\arcsec, corresponding to 24.9 pkpc at $z=5.428$. (*spec_img*)\n",
       "\n",
       "</div>\n",
       "<div id=\"div_fig2\">\n",
       "\n",
       "<img src=\"tmp_2309.16757/./Figure_4.png\" alt=\"Fig1\" width=\"100%\"/>\n",
       "\n",
       "**Figure 1. -** Number excess of galaxies around $\\mgii$ absorbers at $z\\simeq5$, $\\xi_{\\rm gal-abs}(r) = \\frac{1}{n_0}\\frac{N}{\\Delta V} - 1$.\n",
       "    The red dots are the measurements obtained from our observations.\n",
       "    Error bars are estimated by assuming Poissonian uncertainties in the 84\\% confidence level  ([ and Gehrels 1986]()) .\n",
       "    The blue-solid line indicates simulation-predicted values obtained from [Doughty and Finlator (2023)](). The observed values are consistent with that predicted from cosmological simulations.  (*Comp_with_simu*)\n",
       "\n",
       "</div>\n",
       "<div id=\"div_fig3\">\n",
       "\n",
       "<img src=\"tmp_2309.16757/./Figure_3.png\" alt=\"Fig3\" width=\"100%\"/>\n",
       "\n",
       "**Figure 3. -** ** Left:**$\\oi$ii EWs and derived stellar masses at $z\\sim6$, compared to these of local galaxies (shaded region) (MPA-JHU catalog  ([Kauffmann, Heckman and White 2003](), [Brinchmann, Charlot and White 2004]()) ). The measurement of the absorber-associated $\\oi$ii emitter is shown as the red star. Grey dots indicate results obtained from the EIGER sample  ([Matthee, Mackenzie and Simcoe 2022]()) . ** Right:** SFR distribution of metal-absorber selected galaxies. Galaxies at $z>5$ are marked as dashed bars. At $z<5$, the $\\civ$-associated LAEs selected from the MAGG survey  ([Galbiati, Fumagalli and Fossati 2023]())  are shown in grey. The blue bars show the $\\civ$-associated LAEs at $z>5$ ([Cai, et. al 2017](), [Díaz, Ryan-Weber and Karman 2021]()) . At $z\\approx6$, One ALMA-detected $\\oi$-associated emitter is shown in pink  ([Wu, Cai and Neeleman 2021]()) . The $\\oi$ii emitter detected with _ JWST_ is shown in red.  (*sample_comp*)\n",
       "\n",
       "</div><div id=\"qrcode\"><img src=https://api.qrserver.com/v1/create-qr-code/?size=100x100&data=\"https://arxiv.org/abs/2309.16757\"></div>"
      ],
      "text/plain": [
       "<IPython.core.display.Markdown object>"
      ]
     },
     "metadata": {},
     "output_type": "display_data"
    },
    {
     "data": {
      "text/markdown": [
       "<div class=\"macros\" style=\"visibility:hidden;\">\n",
       "$\\newcommand{\\ensuremath}{}$\n",
       "$\\newcommand{\\xspace}{}$\n",
       "$\\newcommand{\\object}[1]{\\texttt{#1}}$\n",
       "$\\newcommand{\\farcs}{{.}''}$\n",
       "$\\newcommand{\\farcm}{{.}'}$\n",
       "$\\newcommand{\\arcsec}{''}$\n",
       "$\\newcommand{\\arcmin}{'}$\n",
       "$\\newcommand{\\ion}[2]{#1#2}$\n",
       "$\\newcommand{\\textsc}[1]{\\textrm{#1}}$\n",
       "$\\newcommand{\\hl}[1]{\\textrm{#1}}$\n",
       "$\\newcommand{\\footnote}[1]{}$</div>\n",
       "\n",
       "\n",
       "\n",
       "<div id=\"title\">\n",
       "\n",
       "# The Close AGN Reference Survey (CARS)$\\An interplay between radio jets and AGN radiation in the radio-quiet AGN HE 0040$$-$1105\n",
       "\n",
       "</div>\n",
       "<div id=\"comments\">\n",
       "\n",
       "[![arXiv](https://img.shields.io/badge/arXiv-2309.16926-b31b1b.svg)](https://arxiv.org/abs/2309.16926)<mark>Appeared on: 2023-10-02</mark> -  _Accepted in ApJ for publication_\n",
       "\n",
       "</div>\n",
       "<div id=\"authors\">\n",
       "\n",
       "M.~Singha, et al.\n",
       "\n",
       "</div>\n",
       "<div id=\"abstract\">\n",
       "\n",
       "**Abstract:** \\textcolor{black}{We present a case study of HE 0040$-$1105, an unobscured radio-quiet AGN at a high accretion rate $\\lambda_{Edd} = 0.19\\pm0.04$. This particular AGN hosts an ionized gas outflow with the largest spatial offset from its nucleus compared to all other AGNs in the Close AGN Reference Survey (CARS). By combining multi-wavelength observations from VLT/MUSE, HST/WFC3, VLA, and EVN we probe the ionization conditions, gas kinematics, and radio emission from host galaxy scales to the central few pc. We detect four kinematically distinct components, one of which is a spatially unresolved AGN-driven outflow located within the central $500 \\text{pc}$, where it locally dominates the ISM conditions. Its velocity is too low to escape the host galaxy's gravitational potential, and maybe re-accreted onto the central black hole via chaotic cold accretion. We detect compact radio emission in HE 0040$-$1105 within the region covered by the outflow, varying on $\\sim 20$ yr timescale.We show that neither AGN coronal emission nor star formation processes wholly explain the radio morphology/spectrum. The spatial alignment between the outflowing ionized gas and the radio continuum emission on $100 \\text{pc}$ scales is consistent with a weak jet morphology rather than diffuse radio emission produced by AGN winds.$> 90\\%$ of the outflowing ionized gas emission originates from the central $100 \\text{pc}$, within which the ionizing luminosity of the outflow is comparable to the mechanical power of the radio jet. Although radio jets might primarily drive the outflow in HE 0040$-$1105, radiation pressure from the AGN may contribute in this process.}\n",
       "\n",
       "</div>\n",
       "\n",
       "<div id=\"div_fig1\">\n",
       "\n",
       "<img src=\"tmp_2309.16926/figures/gas_maps.png\" alt=\"Fig2\" width=\"100%\"/>\n",
       "\n",
       "**Figure 2. -** Mapping HE 0040$-$1105's ionized gas flux and kinematics across the host galaxy. The left panels show the maps extracted from the single-component [$\\ion${O}{3}] model, and the right panels are those for H$\\alpha$. From top to bottom the panels show the emission line flux, rest-frame velocity $v$, and velocity dispersion $\\sigma$, respectively. The EELR that is local to the galaxy (see Section \\ref{subsection:energetics_comparison}) is highlighted by the red contour in panel (d). The contours of ionized gas outflow in the center (see Section \\ref{subsec:ionized_gas_outflow}) are shown as dashed cyan lines. In addition, we highlight the contours of the kinematic features analyzed in Section \\ref{subsec:resolved_host_galaxy_emission} where the red line in panel (b) describes the morphology of the receding shell C1, and the red line in panel (e) indicates the H$\\alpha$ emitting receding region C3. Both [$\\ion${O}{3}] emission line nebulae have similar morphologies. However, while the H$\\alpha$ velocity field has a clear rotational pattern and a nucleated peak of the velocity dispersion, the [$\\ion${O}{3}] shows a more chaotic motion with a velocity dispersion in C1 that is lower than average. (*fig:gas_maps*)\n",
       "\n",
       "</div>\n",
       "<div id=\"div_fig2\">\n",
       "\n",
       "<img src=\"tmp_2309.16926/figures/C1.png\" alt=\"Fig8\" width=\"100%\"/>\n",
       "\n",
       "**Figure 8. -** Multi-wavelength view of the region C1. _Left panel_: MUSE optical spectra extracted from a $3 \\times 3$ spaxel region (in gray), along with its multi-Gaussian component fit (in red). The green-shaded Gaussian components represent the narrow core which is a part of the EELR, whereas the dark brown-shaded components trace the red-wing component, corresponding to the region C1. _Right panel_: _HST_/WFC3 near-UV image centered at $3350 \\text{Å}$. The green region describes the area covered by the deconvolved C1, and the white line denotes its centroids. A clumpy structure on the northeastern side of the nucleus is shaded with white to showcase its spatial location and morphology. C1 overlaps with the gas clumps on the north where $S/N > 5$. Such spatial coincidence indicates that C1 is a part of the clumpy region. (*fig:C1*)\n",
       "\n",
       "</div>\n",
       "<div id=\"div_fig3\">\n",
       "\n",
       "<img src=\"tmp_2309.16926/figures/kin_model.png\" alt=\"Fig1\" width=\"100%\"/>\n",
       "\n",
       "**Figure 1. -** Kinematic modelling of HE 0040$-$1105's stellar (left columns) and H$\\alpha$ ionized gas (right columns) velocity field. From top to bottom the panels show the velocities measured from the MUSE observations (see Section \\ref{subsec:stellar_velocity_field} and Section \\ref{subsubsec:EELR}), the tilted-ring model fitted to it, and the map with the residual velocities normalized by the uncertainty. In both cases, the thin rotating disc provides a good description of the velocity field, although the rotation axis between both host galaxy components is tilted by $53\\arcdeg$. (*fig:stellar_vel_model*)\n",
       "\n",
       "</div><div id=\"qrcode\"><img src=https://api.qrserver.com/v1/create-qr-code/?size=100x100&data=\"https://arxiv.org/abs/2309.16926\"></div>"
      ],
      "text/plain": [
       "<IPython.core.display.Markdown object>"
      ]
     },
     "metadata": {},
     "output_type": "display_data"
    }
   ],
   "source": [
    "[display(Markdown(k[1])) for k in documents];"
   ]
  },
  {
   "cell_type": "markdown",
   "id": "873873a4",
   "metadata": {
    "papermill": {
     "duration": 0.009181,
     "end_time": "2023-10-02T04:07:36.327692",
     "exception": false,
     "start_time": "2023-10-02T04:07:36.318511",
     "status": "completed"
    },
    "tags": []
   },
   "source": [
    "# Create HTML index"
   ]
  },
  {
   "cell_type": "code",
   "execution_count": 9,
   "id": "cf665672",
   "metadata": {
    "execution": {
     "iopub.execute_input": "2023-10-02T04:07:36.346479Z",
     "iopub.status.busy": "2023-10-02T04:07:36.345986Z",
     "iopub.status.idle": "2023-10-02T04:07:36.358088Z",
     "shell.execute_reply": "2023-10-02T04:07:36.357220Z"
    },
    "papermill": {
     "duration": 0.024455,
     "end_time": "2023-10-02T04:07:36.360489",
     "exception": false,
     "start_time": "2023-10-02T04:07:36.336034",
     "status": "completed"
    },
    "tags": []
   },
   "outputs": [
    {
     "name": "stdout",
     "output_type": "stream",
     "text": [
      "285  publications files modified in the last 7 days.\n"
     ]
    }
   ],
   "source": [
    "from datetime import datetime, timedelta, timezone\n",
    "from glob import glob\n",
    "import os\n",
    "\n",
    "files = glob('_build/html/*.md')\n",
    "days = 7\n",
    "now = datetime.today()\n",
    "res = []\n",
    "for fk in files:\n",
    "    stat_result = os.stat(fk).st_ctime\n",
    "    modified = datetime.fromtimestamp(stat_result, tz=timezone.utc).replace(tzinfo=None)\n",
    "    delta = now.today() - modified\n",
    "    if delta <= timedelta(days=days):\n",
    "        res.append((delta.seconds, fk))\n",
    "res = [k[1] for k in reversed(sorted(res, key=lambda x:x[1]))]\n",
    "npub = len(res)\n",
    "print(len(res), f\" publications files modified in the last {days:d} days.\")\n",
    "# [ print('\\t', k) for k in res ];"
   ]
  },
  {
   "cell_type": "code",
   "execution_count": 10,
   "id": "015de740",
   "metadata": {
    "execution": {
     "iopub.execute_input": "2023-10-02T04:07:36.380410Z",
     "iopub.status.busy": "2023-10-02T04:07:36.379536Z",
     "iopub.status.idle": "2023-10-02T04:07:36.406218Z",
     "shell.execute_reply": "2023-10-02T04:07:36.405414Z"
    },
    "papermill": {
     "duration": 0.038464,
     "end_time": "2023-10-02T04:07:36.408007",
     "exception": false,
     "start_time": "2023-10-02T04:07:36.369543",
     "status": "completed"
    },
    "tags": []
   },
   "outputs": [
    {
     "name": "stdout",
     "output_type": "stream",
     "text": [
      "8  publications in the last 7 days.\n"
     ]
    }
   ],
   "source": [
    "import datetime\n",
    "from glob import glob\n",
    "\n",
    "def get_last_n_days(lst, days=1):\n",
    "    \"\"\" Get the documents from the last n days \"\"\"\n",
    "    sorted_lst = sorted(lst, key=lambda x: x[1], reverse=True)\n",
    "    for fname, date in sorted_lst:\n",
    "        if date >= str(datetime.date.today() - datetime.timedelta(days=days)):\n",
    "            yield fname\n",
    "\n",
    "def extract_appearance_dates(lst_file):\n",
    "    dates = []\n",
    "\n",
    "    def get_date(line):\n",
    "        return line\\\n",
    "            .split('Appeared on:')[-1]\\\n",
    "            .split('</mark>')[0].strip()\n",
    "\n",
    "    for fname in lst:\n",
    "        with open(fname, 'r') as f:\n",
    "            found_date = False\n",
    "            for line in f:\n",
    "                if not found_date:\n",
    "                    if \"Appeared on\" in line:\n",
    "                        found_date = True\n",
    "                        dates.append((fname, get_date(line)))\n",
    "                else:\n",
    "                    break\n",
    "    return dates\n",
    "\n",
    "from glob import glob\n",
    "lst = glob('_build/html/*md')\n",
    "days = 7\n",
    "dates = extract_appearance_dates(lst)\n",
    "res = list(get_last_n_days(dates, days))\n",
    "npub = len(res)\n",
    "print(len(res), f\" publications in the last {days:d} days.\")"
   ]
  },
  {
   "cell_type": "code",
   "execution_count": 11,
   "id": "52ca0208",
   "metadata": {
    "execution": {
     "iopub.execute_input": "2023-10-02T04:07:36.427037Z",
     "iopub.status.busy": "2023-10-02T04:07:36.426486Z",
     "iopub.status.idle": "2023-10-02T04:07:36.433079Z",
     "shell.execute_reply": "2023-10-02T04:07:36.432323Z"
    },
    "papermill": {
     "duration": 0.018139,
     "end_time": "2023-10-02T04:07:36.435042",
     "exception": false,
     "start_time": "2023-10-02T04:07:36.416903",
     "status": "completed"
    },
    "scrolled": false,
    "tags": []
   },
   "outputs": [],
   "source": [
    "def create_carousel(npub=4):\n",
    "    \"\"\" Generate the HTML code for a carousel with `npub` slides \"\"\"\n",
    "    carousel = [\"\"\"  <div class=\"carousel\" \"\"\",\n",
    "                \"\"\"       data-flickity='{ \"autoPlay\": 10000, \"adaptiveHeight\": true, \"resize\": true, \"wrapAround\": true, \"pauseAutoPlayOnHover\": true, \"groupCells\": 1 }' id=\"asyncTypeset\">\"\"\"\n",
    "                ]\n",
    "    \n",
    "    item_str = \"\"\"    <div class=\"carousel-cell\"> <div id=\"slide{k}\" class=\"md_view\">Content {k}</div> </div>\"\"\"\n",
    "    for k in range(1, npub + 1):\n",
    "        carousel.append(item_str.format(k=k))\n",
    "    carousel.append(\"  </div>\")\n",
    "    return '\\n'.join(carousel)\n",
    "\n",
    "def create_grid(npub=4):\n",
    "    \"\"\" Generate the HTML code for a flat grid with `npub` slides \"\"\"\n",
    "    grid = [\"\"\"  <div class=\"grid\"> \"\"\",\n",
    "                ]\n",
    "    \n",
    "    item_str = \"\"\"    <div class=\"grid-item\"> <div id=\"slide{k}\" class=\"md_view\">Content {k}</div> </div>\"\"\"\n",
    "    for k in range(1, npub + 1):\n",
    "        grid.append(item_str.format(k=k))\n",
    "    grid.append(\"  </div>\")\n",
    "    return '\\n'.join(grid)"
   ]
  },
  {
   "cell_type": "code",
   "execution_count": 12,
   "id": "a6eac5b6",
   "metadata": {
    "execution": {
     "iopub.execute_input": "2023-10-02T04:07:36.453465Z",
     "iopub.status.busy": "2023-10-02T04:07:36.452864Z",
     "iopub.status.idle": "2023-10-02T04:07:36.460052Z",
     "shell.execute_reply": "2023-10-02T04:07:36.459032Z"
    },
    "papermill": {
     "duration": 0.019318,
     "end_time": "2023-10-02T04:07:36.462203",
     "exception": false,
     "start_time": "2023-10-02T04:07:36.442885",
     "status": "completed"
    },
    "scrolled": false,
    "tags": []
   },
   "outputs": [],
   "source": [
    "carousel = create_carousel(npub)\n",
    "docs = ', '.join(['\"{0:s}\"'.format(k.split('/')[-1]) for k in res])\n",
    "slides = ', '.join([f'\"slide{k}\"' for k in range(1, npub + 1)])\n",
    "\n",
    "with open(\"daily_template.html\", \"r\") as tpl:\n",
    "    page = tpl.read()\n",
    "    page = page.replace(\"{%-- carousel:s --%}\", carousel)\\\n",
    "               .replace(\"{%-- suptitle:s --%}\",  \"7-day archives\" )\\\n",
    "               .replace(\"{%-- docs:s --%}\", docs)\\\n",
    "               .replace(\"{%-- slides:s --%}\", slides)\n",
    "    \n",
    "with open(\"_build/html/index_7days.html\", 'w') as fout:\n",
    "    fout.write(page)"
   ]
  },
  {
   "cell_type": "code",
   "execution_count": 13,
   "id": "adc1a1ec",
   "metadata": {
    "execution": {
     "iopub.execute_input": "2023-10-02T04:07:36.484529Z",
     "iopub.status.busy": "2023-10-02T04:07:36.483950Z",
     "iopub.status.idle": "2023-10-02T04:07:36.493223Z",
     "shell.execute_reply": "2023-10-02T04:07:36.492479Z"
    },
    "papermill": {
     "duration": 0.021995,
     "end_time": "2023-10-02T04:07:36.494864",
     "exception": false,
     "start_time": "2023-10-02T04:07:36.472869",
     "status": "completed"
    },
    "tags": []
   },
   "outputs": [
    {
     "name": "stdout",
     "output_type": "stream",
     "text": [
      "2  publications in the last day.\n"
     ]
    }
   ],
   "source": [
    "# redo for today\n",
    "days = 1\n",
    "res = list(get_last_n_days(dates, days))\n",
    "npub = len(res)\n",
    "print(len(res), f\" publications in the last day.\")\n",
    "\n",
    "carousel = create_carousel(npub)\n",
    "docs = ', '.join(['\"{0:s}\"'.format(k.split('/')[-1]) for k in res])\n",
    "slides = ', '.join([f'\"slide{k}\"' for k in range(1, npub + 1)])\n",
    "\n",
    "with open(\"daily_template.html\", \"r\") as tpl:\n",
    "    page = tpl.read()\n",
    "    page = page.replace(\"{%-- carousel:s --%}\", carousel)\\\n",
    "               .replace(\"{%-- suptitle:s --%}\",  \"Daily\" )\\\n",
    "               .replace(\"{%-- docs:s --%}\", docs)\\\n",
    "               .replace(\"{%-- slides:s --%}\", slides)\n",
    "    \n",
    "# print(carousel, docs, slides)\n",
    "# print(page)\n",
    "with open(\"_build/html/index_daily.html\", 'w') as fout:\n",
    "    fout.write(page)"
   ]
  },
  {
   "cell_type": "code",
   "execution_count": 14,
   "id": "00eece82",
   "metadata": {
    "execution": {
     "iopub.execute_input": "2023-10-02T04:07:36.513856Z",
     "iopub.status.busy": "2023-10-02T04:07:36.513128Z",
     "iopub.status.idle": "2023-10-02T04:07:36.521927Z",
     "shell.execute_reply": "2023-10-02T04:07:36.521116Z"
    },
    "papermill": {
     "duration": 0.020535,
     "end_time": "2023-10-02T04:07:36.523977",
     "exception": false,
     "start_time": "2023-10-02T04:07:36.503442",
     "status": "completed"
    },
    "scrolled": false,
    "tags": []
   },
   "outputs": [
    {
     "name": "stdout",
     "output_type": "stream",
     "text": [
      "6  6 publications selected.\n"
     ]
    }
   ],
   "source": [
    "# Create the flat grid of the last N papers (fixed number regardless of dates)\n",
    "from itertools import islice \n",
    "\n",
    "npub = 6\n",
    "res = [k[0] for k in (islice(reversed(sorted(dates, key=lambda x: x[1])), 6))]\n",
    "print(len(res), f\" {npub} publications selected.\")\n",
    "\n",
    "grid = create_grid(npub)\n",
    "docs = ', '.join(['\"{0:s}\"'.format(k.split('/')[-1]) for k in res])\n",
    "slides = ', '.join([f'\"slide{k}\"' for k in range(1, npub + 1)])\n",
    "\n",
    "with open(\"grid_template.html\", \"r\") as tpl:\n",
    "    page = tpl.read()\n",
    "    page = page.replace(\"{%-- grid-content:s --%}\", grid)\\\n",
    "               .replace(\"{%-- suptitle:s --%}\",  f\"Last {npub:,d} papers\" )\\\n",
    "               .replace(\"{%-- docs:s --%}\", docs)\\\n",
    "               .replace(\"{%-- slides:s --%}\", slides)\n",
    "    \n",
    "# print(grid, docs, slides)\n",
    "# print(page)\n",
    "with open(\"_build/html/index_npub_grid.html\", 'w') as fout:\n",
    "    fout.write(page)"
   ]
  }
 ],
 "metadata": {
  "kernelspec": {
   "display_name": "Python 3 (ipykernel)",
   "language": "python",
   "name": "python3"
  },
  "language_info": {
   "codemirror_mode": {
    "name": "ipython",
    "version": 3
   },
   "file_extension": ".py",
   "mimetype": "text/x-python",
   "name": "python",
   "nbconvert_exporter": "python",
   "pygments_lexer": "ipython3",
   "version": "3.9.18"
  },
  "papermill": {
   "default_parameters": {},
   "duration": 119.880682,
   "end_time": "2023-10-02T04:07:36.853353",
   "environment_variables": {},
   "exception": null,
   "input_path": "MPIA daily digest.ipynb",
   "output_path": "log.ipynb",
   "parameters": {},
   "start_time": "2023-10-02T04:05:36.972671",
   "version": "2.4.0"
  },
  "vscode": {
   "interpreter": {
    "hash": "aee8b7b246df8f9039afb4144a1f6fd8d2ca17a180786b69acc140d282b71a49"
   }
  },
  "widgets": {
   "application/vnd.jupyter.widget-state+json": {
    "state": {
     "16cdac26b6744eb581978c2414420de3": {
      "model_module": "@jupyter-widgets/base",
      "model_module_version": "2.0.0",
      "model_name": "LayoutModel",
      "state": {
       "_model_module": "@jupyter-widgets/base",
       "_model_module_version": "2.0.0",
       "_model_name": "LayoutModel",
       "_view_count": null,
       "_view_module": "@jupyter-widgets/base",
       "_view_module_version": "2.0.0",
       "_view_name": "LayoutView",
       "align_content": null,
       "align_items": null,
       "align_self": null,
       "border_bottom": null,
       "border_left": null,
       "border_right": null,
       "border_top": null,
       "bottom": null,
       "display": null,
       "flex": null,
       "flex_flow": null,
       "grid_area": null,
       "grid_auto_columns": null,
       "grid_auto_flow": null,
       "grid_auto_rows": null,
       "grid_column": null,
       "grid_gap": null,
       "grid_row": null,
       "grid_template_areas": null,
       "grid_template_columns": null,
       "grid_template_rows": null,
       "height": null,
       "justify_content": null,
       "justify_items": null,
       "left": null,
       "margin": null,
       "max_height": null,
       "max_width": null,
       "min_height": null,
       "min_width": null,
       "object_fit": null,
       "object_position": null,
       "order": null,
       "overflow": null,
       "padding": null,
       "right": null,
       "top": null,
       "visibility": null,
       "width": null
      }
     },
     "27d9228bde0a4f9cb9cd6fa82025fd49": {
      "model_module": "@jupyter-widgets/base",
      "model_module_version": "2.0.0",
      "model_name": "LayoutModel",
      "state": {
       "_model_module": "@jupyter-widgets/base",
       "_model_module_version": "2.0.0",
       "_model_name": "LayoutModel",
       "_view_count": null,
       "_view_module": "@jupyter-widgets/base",
       "_view_module_version": "2.0.0",
       "_view_name": "LayoutView",
       "align_content": null,
       "align_items": null,
       "align_self": null,
       "border_bottom": null,
       "border_left": null,
       "border_right": null,
       "border_top": null,
       "bottom": null,
       "display": null,
       "flex": null,
       "flex_flow": null,
       "grid_area": null,
       "grid_auto_columns": null,
       "grid_auto_flow": null,
       "grid_auto_rows": null,
       "grid_column": null,
       "grid_gap": null,
       "grid_row": null,
       "grid_template_areas": null,
       "grid_template_columns": null,
       "grid_template_rows": null,
       "height": null,
       "justify_content": null,
       "justify_items": null,
       "left": null,
       "margin": null,
       "max_height": null,
       "max_width": null,
       "min_height": null,
       "min_width": null,
       "object_fit": null,
       "object_position": null,
       "order": null,
       "overflow": null,
       "padding": null,
       "right": null,
       "top": null,
       "visibility": null,
       "width": null
      }
     },
     "3b756f622ef94604b8b1b3f27b9f4d5a": {
      "model_module": "@jupyter-widgets/controls",
      "model_module_version": "2.0.0",
      "model_name": "ProgressStyleModel",
      "state": {
       "_model_module": "@jupyter-widgets/controls",
       "_model_module_version": "2.0.0",
       "_model_name": "ProgressStyleModel",
       "_view_count": null,
       "_view_module": "@jupyter-widgets/base",
       "_view_module_version": "2.0.0",
       "_view_name": "StyleView",
       "bar_color": null,
       "description_width": ""
      }
     },
     "46ee7cd412ad4c42af1ebcb731aa94ef": {
      "model_module": "@jupyter-widgets/controls",
      "model_module_version": "2.0.0",
      "model_name": "HTMLStyleModel",
      "state": {
       "_model_module": "@jupyter-widgets/controls",
       "_model_module_version": "2.0.0",
       "_model_name": "HTMLStyleModel",
       "_view_count": null,
       "_view_module": "@jupyter-widgets/base",
       "_view_module_version": "2.0.0",
       "_view_name": "StyleView",
       "background": null,
       "description_width": "",
       "font_size": null,
       "text_color": null
      }
     },
     "4cd7a6678e034f23b0a8f50407d6c019": {
      "model_module": "@jupyter-widgets/controls",
      "model_module_version": "2.0.0",
      "model_name": "HBoxModel",
      "state": {
       "_dom_classes": [],
       "_model_module": "@jupyter-widgets/controls",
       "_model_module_version": "2.0.0",
       "_model_name": "HBoxModel",
       "_view_count": null,
       "_view_module": "@jupyter-widgets/controls",
       "_view_module_version": "2.0.0",
       "_view_name": "HBoxView",
       "box_style": "",
       "children": [
        "IPY_MODEL_dc53c20b27114c6c829bea1163d0ada4",
        "IPY_MODEL_b7fc5c661cda4d9193cca4895819a8ff",
        "IPY_MODEL_8cd2d5420a2444fb936e302bd1b04958"
       ],
       "layout": "IPY_MODEL_7acdc0190a3d4ac5a37c86bc6bc0f44d",
       "tabbable": null,
       "tooltip": null
      }
     },
     "508ff0d8474e4bb7975d54d6eb7ca977": {
      "model_module": "@jupyter-widgets/base",
      "model_module_version": "2.0.0",
      "model_name": "LayoutModel",
      "state": {
       "_model_module": "@jupyter-widgets/base",
       "_model_module_version": "2.0.0",
       "_model_name": "LayoutModel",
       "_view_count": null,
       "_view_module": "@jupyter-widgets/base",
       "_view_module_version": "2.0.0",
       "_view_name": "LayoutView",
       "align_content": null,
       "align_items": null,
       "align_self": null,
       "border_bottom": null,
       "border_left": null,
       "border_right": null,
       "border_top": null,
       "bottom": null,
       "display": null,
       "flex": null,
       "flex_flow": null,
       "grid_area": null,
       "grid_auto_columns": null,
       "grid_auto_flow": null,
       "grid_auto_rows": null,
       "grid_column": null,
       "grid_gap": null,
       "grid_row": null,
       "grid_template_areas": null,
       "grid_template_columns": null,
       "grid_template_rows": null,
       "height": null,
       "justify_content": null,
       "justify_items": null,
       "left": null,
       "margin": null,
       "max_height": null,
       "max_width": null,
       "min_height": null,
       "min_width": null,
       "object_fit": null,
       "object_position": null,
       "order": null,
       "overflow": null,
       "padding": null,
       "right": null,
       "top": null,
       "visibility": null,
       "width": null
      }
     },
     "7acdc0190a3d4ac5a37c86bc6bc0f44d": {
      "model_module": "@jupyter-widgets/base",
      "model_module_version": "2.0.0",
      "model_name": "LayoutModel",
      "state": {
       "_model_module": "@jupyter-widgets/base",
       "_model_module_version": "2.0.0",
       "_model_name": "LayoutModel",
       "_view_count": null,
       "_view_module": "@jupyter-widgets/base",
       "_view_module_version": "2.0.0",
       "_view_name": "LayoutView",
       "align_content": null,
       "align_items": null,
       "align_self": null,
       "border_bottom": null,
       "border_left": null,
       "border_right": null,
       "border_top": null,
       "bottom": null,
       "display": null,
       "flex": null,
       "flex_flow": null,
       "grid_area": null,
       "grid_auto_columns": null,
       "grid_auto_flow": null,
       "grid_auto_rows": null,
       "grid_column": null,
       "grid_gap": null,
       "grid_row": null,
       "grid_template_areas": null,
       "grid_template_columns": null,
       "grid_template_rows": null,
       "height": null,
       "justify_content": null,
       "justify_items": null,
       "left": null,
       "margin": null,
       "max_height": null,
       "max_width": null,
       "min_height": null,
       "min_width": null,
       "object_fit": null,
       "object_position": null,
       "order": null,
       "overflow": null,
       "padding": null,
       "right": null,
       "top": null,
       "visibility": null,
       "width": null
      }
     },
     "8cd2d5420a2444fb936e302bd1b04958": {
      "model_module": "@jupyter-widgets/controls",
      "model_module_version": "2.0.0",
      "model_name": "HTMLModel",
      "state": {
       "_dom_classes": [],
       "_model_module": "@jupyter-widgets/controls",
       "_model_module_version": "2.0.0",
       "_model_name": "HTMLModel",
       "_view_count": null,
       "_view_module": "@jupyter-widgets/controls",
       "_view_module_version": "2.0.0",
       "_view_name": "HTMLView",
       "description": "",
       "description_allow_html": false,
       "layout": "IPY_MODEL_508ff0d8474e4bb7975d54d6eb7ca977",
       "placeholder": "​",
       "style": "IPY_MODEL_46ee7cd412ad4c42af1ebcb731aa94ef",
       "tabbable": null,
       "tooltip": null,
       "value": " 5/5 [01:31&lt;00:00, 14.85s/it]"
      }
     },
     "b7fc5c661cda4d9193cca4895819a8ff": {
      "model_module": "@jupyter-widgets/controls",
      "model_module_version": "2.0.0",
      "model_name": "FloatProgressModel",
      "state": {
       "_dom_classes": [],
       "_model_module": "@jupyter-widgets/controls",
       "_model_module_version": "2.0.0",
       "_model_name": "FloatProgressModel",
       "_view_count": null,
       "_view_module": "@jupyter-widgets/controls",
       "_view_module_version": "2.0.0",
       "_view_name": "ProgressView",
       "bar_style": "success",
       "description": "",
       "description_allow_html": false,
       "layout": "IPY_MODEL_16cdac26b6744eb581978c2414420de3",
       "max": 5.0,
       "min": 0.0,
       "orientation": "horizontal",
       "style": "IPY_MODEL_3b756f622ef94604b8b1b3f27b9f4d5a",
       "tabbable": null,
       "tooltip": null,
       "value": 5.0
      }
     },
     "c10afd1b05654d7e85e28a7700b6a8c4": {
      "model_module": "@jupyter-widgets/controls",
      "model_module_version": "2.0.0",
      "model_name": "HTMLStyleModel",
      "state": {
       "_model_module": "@jupyter-widgets/controls",
       "_model_module_version": "2.0.0",
       "_model_name": "HTMLStyleModel",
       "_view_count": null,
       "_view_module": "@jupyter-widgets/base",
       "_view_module_version": "2.0.0",
       "_view_name": "StyleView",
       "background": null,
       "description_width": "",
       "font_size": null,
       "text_color": null
      }
     },
     "dc53c20b27114c6c829bea1163d0ada4": {
      "model_module": "@jupyter-widgets/controls",
      "model_module_version": "2.0.0",
      "model_name": "HTMLModel",
      "state": {
       "_dom_classes": [],
       "_model_module": "@jupyter-widgets/controls",
       "_model_module_version": "2.0.0",
       "_model_name": "HTMLModel",
       "_view_count": null,
       "_view_module": "@jupyter-widgets/controls",
       "_view_module_version": "2.0.0",
       "_view_name": "HTMLView",
       "description": "",
       "description_allow_html": false,
       "layout": "IPY_MODEL_27d9228bde0a4f9cb9cd6fa82025fd49",
       "placeholder": "​",
       "style": "IPY_MODEL_c10afd1b05654d7e85e28a7700b6a8c4",
       "tabbable": null,
       "tooltip": null,
       "value": "100%"
      }
     }
    },
    "version_major": 2,
    "version_minor": 0
   }
  }
 },
 "nbformat": 4,
 "nbformat_minor": 5
}