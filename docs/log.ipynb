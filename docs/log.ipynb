{
 "cells": [
  {
   "cell_type": "markdown",
   "id": "92bcb855",
   "metadata": {
    "papermill": {
     "duration": 0.005676,
     "end_time": "2022-09-22T05:13:21.338562",
     "exception": false,
     "start_time": "2022-09-22T05:13:21.332886",
     "status": "completed"
    },
    "tags": []
   },
   "source": [
    "# MPIA Arxiv on Deck 2\n",
    "\n",
    "Contains the steps to produce the paper extractions."
   ]
  },
  {
   "cell_type": "code",
   "execution_count": 1,
   "id": "3a0d6e11",
   "metadata": {
    "execution": {
     "iopub.execute_input": "2022-09-22T05:13:21.349044Z",
     "iopub.status.busy": "2022-09-22T05:13:21.348502Z",
     "iopub.status.idle": "2022-09-22T05:13:21.519531Z",
     "shell.execute_reply": "2022-09-22T05:13:21.518418Z"
    },
    "papermill": {
     "duration": 0.178476,
     "end_time": "2022-09-22T05:13:21.521835",
     "exception": false,
     "start_time": "2022-09-22T05:13:21.343359",
     "status": "completed"
    },
    "tags": []
   },
   "outputs": [],
   "source": [
    "# Imports\n",
    "import os\n",
    "from IPython.display import Markdown, display\n",
    "from tqdm.notebook import tqdm\n",
    "import warnings\n",
    "from PIL import Image \n",
    "\n",
    "# requires arxiv_on_deck_2\n",
    "\n",
    "from arxiv_on_deck_2.arxiv2 import (get_new_papers, \n",
    "                                    get_paper_from_identifier,\n",
    "                                    retrieve_document_source, \n",
    "                                    get_markdown_badge)\n",
    "from arxiv_on_deck_2 import (latex, \n",
    "                             mpia,\n",
    "                             highlight_authors_in_list)\n",
    "\n",
    "# Sometimes images are really big\n",
    "Image.MAX_IMAGE_PIXELS = 1000000000 "
   ]
  },
  {
   "cell_type": "code",
   "execution_count": 2,
   "id": "22aa9d44",
   "metadata": {
    "execution": {
     "iopub.execute_input": "2022-09-22T05:13:21.532059Z",
     "iopub.status.busy": "2022-09-22T05:13:21.531452Z",
     "iopub.status.idle": "2022-09-22T05:13:21.537439Z",
     "shell.execute_reply": "2022-09-22T05:13:21.536507Z"
    },
    "papermill": {
     "duration": 0.012464,
     "end_time": "2022-09-22T05:13:21.538940",
     "exception": false,
     "start_time": "2022-09-22T05:13:21.526476",
     "status": "completed"
    },
    "tags": []
   },
   "outputs": [],
   "source": [
    "# Some useful definitions.\n",
    "\n",
    "class AffiliationWarning(UserWarning):\n",
    "    pass\n",
    "\n",
    "class AffiliationError(RuntimeError):\n",
    "    pass\n",
    "\n",
    "def validation(source: str):\n",
    "    \"\"\"Raises error paper during parsing of source file\n",
    "    \n",
    "    Allows checks before parsing TeX code.\n",
    "    \n",
    "    Raises AffiliationWarning\n",
    "    \"\"\"\n",
    "    check = mpia.affiliation_verifications(source, verbose=True)\n",
    "    if check is not True:\n",
    "        raise AffiliationError(\"mpia.affiliation_verifications: \" + check)\n",
    "\n",
    "        \n",
    "warnings.simplefilter('always', AffiliationWarning)"
   ]
  },
  {
   "cell_type": "code",
   "execution_count": 3,
   "id": "14622700",
   "metadata": {
    "execution": {
     "iopub.execute_input": "2022-09-22T05:13:21.549509Z",
     "iopub.status.busy": "2022-09-22T05:13:21.548934Z",
     "iopub.status.idle": "2022-09-22T05:13:21.552743Z",
     "shell.execute_reply": "2022-09-22T05:13:21.552116Z"
    },
    "papermill": {
     "duration": 0.011633,
     "end_time": "2022-09-22T05:13:21.554344",
     "exception": false,
     "start_time": "2022-09-22T05:13:21.542711",
     "status": "completed"
    },
    "tags": []
   },
   "outputs": [],
   "source": [
    "# additional CSS to consider. \n",
    "# TODO: Current into each exported file. \n",
    "#       This should be set once into the webpages directly.\n",
    "#       With only the class/id definitions in the .md files.\n",
    "\n",
    "debug_html = \"\"\"\n",
    "<style>\n",
    "#wrap{ overflow:auto; }\n",
    "#fig1{ background:yellow; width:100%; float:left; padding:5px;  }\n",
    "#fig2{ background:red; width:50%; float:left; clear:left; padding:5px;  }\n",
    "#fig3{ background:green; width:50%; float:left; padding:5px;   }\n",
    ".macros{ background:yellow; visibility:visible;}\n",
    "h1 {margin: 0 0 0 0;}\n",
    "mark {background-color:#fff3b6;}\n",
    "img {object-fit:contain; max-height:250px; display:inline-block; text-align: center;}\n",
    "</style>\n",
    "\"\"\" \n",
    "html = \"\"\"\n",
    "<style>\n",
    "#wrap{ overflow:auto; }\n",
    "#fig1{ width:100%; float:left; padding: 5px;  }\n",
    "#fig2{ width:50%; float:left; clear:left; padding: 5px;  }\n",
    "#fig3{ width:50%; float:left; padding: 5px;  }\n",
    ".macros{ visibility:hidden; height:0px; }\n",
    "h1 {margin: 0em 0 0 0;}\n",
    "mark {background-color:#fff3b6;}\n",
    "img {object-fit:contain; max-height:250px; display:inline-block; text-align: center;}\n",
    "</style>\n",
    "\"\"\""
   ]
  },
  {
   "cell_type": "markdown",
   "id": "14bd6310",
   "metadata": {
    "papermill": {
     "duration": 0.00381,
     "end_time": "2022-09-22T05:13:21.561921",
     "exception": false,
     "start_time": "2022-09-22T05:13:21.558111",
     "status": "completed"
    },
    "tags": []
   },
   "source": [
    "## get list of arxiv paper candidates\n",
    "\n",
    "We use the MPIA mitarbeiter list webpage from mpia.de to get author names\n",
    "We then get all new papers from Arxiv and match authors"
   ]
  },
  {
   "cell_type": "code",
   "execution_count": 4,
   "id": "2645e73a",
   "metadata": {
    "execution": {
     "iopub.execute_input": "2022-09-22T05:13:21.570762Z",
     "iopub.status.busy": "2022-09-22T05:13:21.570339Z",
     "iopub.status.idle": "2022-09-22T05:13:45.061616Z",
     "shell.execute_reply": "2022-09-22T05:13:45.060954Z"
    },
    "papermill": {
     "duration": 23.497509,
     "end_time": "2022-09-22T05:13:45.063276",
     "exception": false,
     "start_time": "2022-09-22T05:13:21.565767",
     "status": "completed"
    },
    "tags": []
   },
   "outputs": [
    {
     "name": "stdout",
     "output_type": "stream",
     "text": [
      "Arxiv has 59 new papers today\n",
      "          21 with possible author matches\n"
     ]
    }
   ],
   "source": [
    "# get list from MPIA website\n",
    "# it automatically filters identified non-scientists :func:`mpia.filter_non_scientists`\n",
    "mpia_authors = mpia.get_mpia_mitarbeiter_list()\n",
    "new_papers = get_new_papers()\n",
    "# add manual references\n",
    "add_paper_refs = []\n",
    "new_papers.extend([get_paper_from_identifier(k) for k in add_paper_refs])\n",
    "\n",
    "# select only papers with matching author names and highlight authors\n",
    "hl_list = [k[0] for k in mpia_authors]\n",
    "\n",
    "candidates = []\n",
    "for paperk in new_papers:\n",
    "    hl_authors = highlight_authors_in_list(paperk['authors'], hl_list)\n",
    "    matches = [(hl, orig) for hl, orig in zip(hl_authors, paperk['authors']) if 'mark' in hl]\n",
    "    paperk['authors'] = hl_authors\n",
    "    if matches:\n",
    "        candidates.append(paperk)\n",
    "print(\"\"\"Arxiv has {0:,d} new papers today\"\"\".format(len(new_papers)))        \n",
    "print(\"\"\"          {0:,d} with possible author matches\"\"\".format(len(candidates)))"
   ]
  },
  {
   "cell_type": "markdown",
   "id": "3543b34a",
   "metadata": {
    "papermill": {
     "duration": 0.004032,
     "end_time": "2022-09-22T05:13:45.071666",
     "exception": false,
     "start_time": "2022-09-22T05:13:45.067634",
     "status": "completed"
    },
    "tags": []
   },
   "source": [
    "# Parse sources and generate relevant outputs\n",
    "\n",
    "From the candidates, we do the following steps:\n",
    "* get their tarball from ArXiv (and extract data)\n",
    "* find the main .tex file: find one with \\documentclass{...} (sometimes it's non trivial)\n",
    "* Check affiliations with :func:`validation`, which uses :func:`mpia.affiliation_verifications`\n",
    "* If passing the affiliations: we parse the .tex source\n",
    "   * inject sub-documents into the main (flatten the main document)\n",
    "   * parse structure, extract information (title, abstract, authors, figures...)\n",
    "   * handles `\\graphicspath` if provided\n",
    "* Generate the .md document."
   ]
  },
  {
   "cell_type": "code",
   "execution_count": 5,
   "id": "9576b79e",
   "metadata": {
    "execution": {
     "iopub.execute_input": "2022-09-22T05:13:45.081185Z",
     "iopub.status.busy": "2022-09-22T05:13:45.080594Z",
     "iopub.status.idle": "2022-09-22T05:14:39.553891Z",
     "shell.execute_reply": "2022-09-22T05:14:39.553264Z"
    },
    "papermill": {
     "duration": 54.480394,
     "end_time": "2022-09-22T05:14:39.555948",
     "exception": false,
     "start_time": "2022-09-22T05:13:45.075554",
     "status": "completed"
    },
    "scrolled": false,
    "tags": []
   },
   "outputs": [
    {
     "data": {
      "application/vnd.jupyter.widget-view+json": {
       "model_id": "e7d2c2ee8af14d9e94d36526db1e23f6",
       "version_major": 2,
       "version_minor": 0
      },
      "text/plain": [
       "  0%|          | 0/20 [00:00<?, ?it/s]"
      ]
     },
     "metadata": {},
     "output_type": "display_data"
    },
    {
     "name": "stdout",
     "output_type": "stream",
     "text": [
      "Retrieving document from  https://arxiv.org/e-print/2209.09909\n"
     ]
    },
    {
     "name": "stdout",
     "output_type": "stream",
     "text": [
      "extracting tarball to tmp_2209.09909..."
     ]
    },
    {
     "name": "stdout",
     "output_type": "stream",
     "text": [
      " done.\n",
      "Retrieving document from  https://arxiv.org/e-print/2209.09914\n"
     ]
    },
    {
     "name": "stdout",
     "output_type": "stream",
     "text": [
      "extracting tarball to tmp_2209.09914..."
     ]
    },
    {
     "name": "stdout",
     "output_type": "stream",
     "text": [
      " done.\n"
     ]
    },
    {
     "name": "stdout",
     "output_type": "stream",
     "text": [
      "Retrieving document from  https://arxiv.org/e-print/2209.09920\n"
     ]
    },
    {
     "name": "stdout",
     "output_type": "stream",
     "text": [
      "extracting tarball to tmp_2209.09920..."
     ]
    },
    {
     "name": "stdout",
     "output_type": "stream",
     "text": [
      " done.\n",
      "Retrieving document from  https://arxiv.org/e-print/2209.09926\n"
     ]
    },
    {
     "name": "stdout",
     "output_type": "stream",
     "text": [
      "extracting tarball to tmp_2209.09926..."
     ]
    },
    {
     "name": "stdout",
     "output_type": "stream",
     "text": [
      " done.\n",
      "Retrieving document from  https://arxiv.org/e-print/2209.09927\n"
     ]
    },
    {
     "name": "stderr",
     "output_type": "stream",
     "text": [
      "/tmp/ipykernel_2215/4030337529.py:34: LatexWarning: 2209.09927 did not run properly\n",
      "not a gzip file\n",
      "  warnings.warn(latex.LatexWarning(f\"{paper_id:s} did not run properly\\n\" +\n"
     ]
    },
    {
     "name": "stdout",
     "output_type": "stream",
     "text": [
      "Retrieving document from  https://arxiv.org/e-print/2209.09929\n"
     ]
    },
    {
     "name": "stdout",
     "output_type": "stream",
     "text": [
      "extracting tarball to tmp_2209.09929..."
     ]
    },
    {
     "name": "stdout",
     "output_type": "stream",
     "text": [
      " done.\n",
      "Retrieving document from  https://arxiv.org/e-print/2209.09944\n"
     ]
    },
    {
     "name": "stdout",
     "output_type": "stream",
     "text": [
      "extracting tarball to tmp_2209.09944..."
     ]
    },
    {
     "name": "stdout",
     "output_type": "stream",
     "text": [
      " done.\n",
      "Retrieving document from  https://arxiv.org/e-print/2209.09950\n"
     ]
    },
    {
     "name": "stdout",
     "output_type": "stream",
     "text": [
      "extracting tarball to tmp_2209.09950..."
     ]
    },
    {
     "name": "stdout",
     "output_type": "stream",
     "text": [
      " done.\n",
      "Retrieving document from  https://arxiv.org/e-print/2209.09951\n"
     ]
    },
    {
     "name": "stdout",
     "output_type": "stream",
     "text": [
      "extracting tarball to tmp_2209.09951... done.\n",
      "Retrieving document from  https://arxiv.org/e-print/2209.09993\n"
     ]
    },
    {
     "name": "stdout",
     "output_type": "stream",
     "text": [
      "extracting tarball to tmp_2209.09993..."
     ]
    },
    {
     "name": "stdout",
     "output_type": "stream",
     "text": [
      " done.\n",
      "Retrieving document from  https://arxiv.org/e-print/2209.10161\n"
     ]
    },
    {
     "name": "stdout",
     "output_type": "stream",
     "text": [
      "extracting tarball to tmp_2209.10161..."
     ]
    },
    {
     "name": "stdout",
     "output_type": "stream",
     "text": [
      " done.\n"
     ]
    },
    {
     "name": "stderr",
     "output_type": "stream",
     "text": [
      "/tmp/ipykernel_2215/4030337529.py:34: LatexWarning: 2209.10161 did not run properly\n",
      "sequence item 1: expected str instance, TexNode found\n",
      "  warnings.warn(latex.LatexWarning(f\"{paper_id:s} did not run properly\\n\" +\n"
     ]
    },
    {
     "name": "stdout",
     "output_type": "stream",
     "text": [
      "Retrieving document from  https://arxiv.org/e-print/2209.10196\n"
     ]
    },
    {
     "name": "stdout",
     "output_type": "stream",
     "text": [
      "extracting tarball to tmp_2209.10196..."
     ]
    },
    {
     "name": "stdout",
     "output_type": "stream",
     "text": [
      " done.\n",
      "Retrieving document from  https://arxiv.org/e-print/2209.10228\n"
     ]
    },
    {
     "name": "stdout",
     "output_type": "stream",
     "text": [
      "extracting tarball to tmp_2209.10228..."
     ]
    },
    {
     "name": "stdout",
     "output_type": "stream",
     "text": [
      " done.\n",
      "Retrieving document from  https://arxiv.org/e-print/2209.10333\n"
     ]
    },
    {
     "name": "stderr",
     "output_type": "stream",
     "text": [
      "/opt/hostedtoolcache/Python/3.9.13/x64/lib/python3.9/site-packages/IPython/core/interactiveshell.py:3378: LatexWarning: Multiple tex files.\n",
      "\n",
      "  exec(code_obj, self.user_global_ns, self.user_ns)\n",
      "/opt/hostedtoolcache/Python/3.9.13/x64/lib/python3.9/site-packages/IPython/core/interactiveshell.py:3378: LatexWarning: Found documentclass in tmp_2209.10228/EXO_1846-031_submission2.tex\n",
      "\n",
      "  exec(code_obj, self.user_global_ns, self.user_ns)\n"
     ]
    },
    {
     "name": "stdout",
     "output_type": "stream",
     "text": [
      "extracting tarball to tmp_2209.10333..."
     ]
    },
    {
     "name": "stdout",
     "output_type": "stream",
     "text": [
      " done.\n",
      "Retrieving document from  https://arxiv.org/e-print/2209.10347\n"
     ]
    },
    {
     "name": "stderr",
     "output_type": "stream",
     "text": [
      "/opt/hostedtoolcache/Python/3.9.13/x64/lib/python3.9/site-packages/IPython/core/interactiveshell.py:3378: LatexWarning: Multiple tex files.\n",
      "\n",
      "  exec(code_obj, self.user_global_ns, self.user_ns)\n",
      "/opt/hostedtoolcache/Python/3.9.13/x64/lib/python3.9/site-packages/IPython/core/interactiveshell.py:3378: LatexWarning: Found documentclass in tmp_2209.10333/main.tex\n",
      "\n",
      "  exec(code_obj, self.user_global_ns, self.user_ns)\n"
     ]
    },
    {
     "name": "stderr",
     "output_type": "stream",
     "text": [
      "/tmp/ipykernel_2215/4030337529.py:34: LatexWarning: 2209.10347 did not run properly\n",
      "not a gzip file\n",
      "  warnings.warn(latex.LatexWarning(f\"{paper_id:s} did not run properly\\n\" +\n"
     ]
    },
    {
     "name": "stdout",
     "output_type": "stream",
     "text": [
      "Retrieving document from  https://arxiv.org/e-print/2209.10376\n"
     ]
    },
    {
     "name": "stdout",
     "output_type": "stream",
     "text": [
      "extracting tarball to tmp_2209.10376..."
     ]
    },
    {
     "name": "stdout",
     "output_type": "stream",
     "text": [
      " done.\n",
      "Retrieving document from  https://arxiv.org/e-print/2209.10386\n"
     ]
    },
    {
     "name": "stderr",
     "output_type": "stream",
     "text": [
      "/opt/hostedtoolcache/Python/3.9.13/x64/lib/python3.9/site-packages/IPython/core/interactiveshell.py:3378: LatexWarning: Multiple tex files.\n",
      "\n",
      "  exec(code_obj, self.user_global_ns, self.user_ns)\n",
      "/opt/hostedtoolcache/Python/3.9.13/x64/lib/python3.9/site-packages/IPython/core/interactiveshell.py:3378: LatexWarning: Found documentclass in tmp_2209.10376/XTEJ1859_mass_spin_current.tex\n",
      "\n",
      "  exec(code_obj, self.user_global_ns, self.user_ns)\n",
      "/opt/hostedtoolcache/Python/3.9.13/x64/lib/python3.9/site-packages/arxiv_on_deck_2/latex.py:292: LatexWarning: Latex injecting: 'def_bibtex' from 'tmp_2209.10376/def_bibtex.tex'\n",
      "  warnings.warn(LatexWarning(f\"Latex injecting: '{ext}' from '{subsource}'\"))\n"
     ]
    },
    {
     "name": "stdout",
     "output_type": "stream",
     "text": [
      "extracting tarball to tmp_2209.10386..."
     ]
    },
    {
     "name": "stdout",
     "output_type": "stream",
     "text": [
      " done.\n",
      "Retrieving document from  https://arxiv.org/e-print/2209.10395\n"
     ]
    },
    {
     "name": "stderr",
     "output_type": "stream",
     "text": [
      "/opt/hostedtoolcache/Python/3.9.13/x64/lib/python3.9/site-packages/IPython/core/interactiveshell.py:3378: LatexWarning: Multiple tex files.\n",
      "\n",
      "  exec(code_obj, self.user_global_ns, self.user_ns)\n",
      "/opt/hostedtoolcache/Python/3.9.13/x64/lib/python3.9/site-packages/IPython/core/interactiveshell.py:3378: LatexWarning: Found documentclass in tmp_2209.10386/natbib.tex\n",
      "\n",
      "  exec(code_obj, self.user_global_ns, self.user_ns)\n"
     ]
    },
    {
     "name": "stdout",
     "output_type": "stream",
     "text": [
      "extracting tarball to tmp_2209.10395... done.\n",
      "Retrieving document from  https://arxiv.org/e-print/2209.10408\n"
     ]
    },
    {
     "name": "stdout",
     "output_type": "stream",
     "text": [
      "extracting tarball to tmp_2209.10408..."
     ]
    },
    {
     "name": "stdout",
     "output_type": "stream",
     "text": [
      " done.\n",
      "Retrieving document from  https://arxiv.org/e-print/2209.10455\n"
     ]
    },
    {
     "name": "stdout",
     "output_type": "stream",
     "text": [
      "extracting tarball to tmp_2209.10455... done.\n"
     ]
    }
   ],
   "source": [
    "documents = []\n",
    "failed = []\n",
    "for paper in tqdm(candidates[:-1]):\n",
    "    paper_id = paper['identifier'].lower().replace('arxiv:', '')\n",
    "    \n",
    "    folder = f'tmp_{paper_id}'\n",
    "\n",
    "    try:\n",
    "        if not os.path.isdir(folder):\n",
    "            folder = retrieve_document_source(f\"{paper_id}\", f'tmp_{paper_id}')\n",
    "        \n",
    "        try:\n",
    "            doc = latex.LatexDocument(folder, validation=validation)    \n",
    "        except AffiliationError as affilerror:\n",
    "            msg = f\"ArXiv:{paper_id:s} is not an MPIA paper... \" + str(affilerror)\n",
    "            failed.append((paper, \"affiliation error: \" + str(affilerror) ))\n",
    "            continue\n",
    "        \n",
    "        # Hack because sometimes author parsing does not work well\n",
    "        if (len(doc.authors) != len(paper['authors'])):\n",
    "            doc._authors = paper['authors']\n",
    "        if (doc.abstract) in (None, ''):\n",
    "            doc._abstract = paper['abstract']\n",
    "            \n",
    "        doc.comment = (get_markdown_badge(paper_id) + \n",
    "                       \"<mark>Appeared on: \" + paper['date'] + \"</mark> - \" +\n",
    "                       \"_\" + paper['comments'] + \"_\")\n",
    "        doc.highlight_authors_in_list(hl_list)\n",
    "\n",
    "        full_md = doc.generate_markdown_text()\n",
    "        \n",
    "        documents.append((paper_id, full_md))\n",
    "    except Exception as e:\n",
    "        warnings.warn(latex.LatexWarning(f\"{paper_id:s} did not run properly\\n\" +\n",
    "                                         str(e)\n",
    "                                        ))\n",
    "        failed.append((paper, \"latex error \" + str(e)))"
   ]
  },
  {
   "cell_type": "markdown",
   "id": "2505a25c",
   "metadata": {
    "papermill": {
     "duration": 0.006322,
     "end_time": "2022-09-22T05:14:39.568853",
     "exception": false,
     "start_time": "2022-09-22T05:14:39.562531",
     "status": "completed"
    },
    "tags": []
   },
   "source": [
    "### Export the logs\n",
    "\n",
    "Throughout, we also keep track of the logs per paper. see `logs-{today date}.md` "
   ]
  },
  {
   "cell_type": "code",
   "execution_count": 6,
   "id": "d733828a",
   "metadata": {
    "execution": {
     "iopub.execute_input": "2022-09-22T05:14:39.583489Z",
     "iopub.status.busy": "2022-09-22T05:14:39.582693Z",
     "iopub.status.idle": "2022-09-22T05:14:39.613650Z",
     "shell.execute_reply": "2022-09-22T05:14:39.612953Z"
    },
    "papermill": {
     "duration": 0.04015,
     "end_time": "2022-09-22T05:14:39.615215",
     "exception": false,
     "start_time": "2022-09-22T05:14:39.575065",
     "status": "completed"
    },
    "scrolled": false,
    "tags": []
   },
   "outputs": [
    {
     "data": {
      "text/markdown": [
       "## Successful papers"
      ],
      "text/plain": [
       "<IPython.core.display.Markdown object>"
      ]
     },
     "metadata": {},
     "output_type": "display_data"
    },
    {
     "data": {
      "text/markdown": [
       "\n",
       "|||\n",
       "|---:|:---|\n",
       "| [![arXiv](https://img.shields.io/badge/arXiv-arXiv:2209.09914-b31b1b.svg)](https://arxiv.org/abs/arXiv:2209.09914) | **CLusters in the Uv as EngineS (CLUES): I. Survey presentation \\& FUV  spectral analysis of the stellar light**  |\n",
       "|| M. Sirressi, et al. -- incl., <mark>S. Hernandez</mark>, <mark>L. J. Smith</mark>, <mark>E. Schinnerer</mark> |\n",
       "|*Appeared on*| *2022-09-22*|\n",
       "|*Comments*| *Accepted for publication on the Astronomical Journal on 16th September 2022. 26 pages, 12 figures*|\n",
       "|**Abstract**| The CLusters in the Uv as EngineS (CLUES) survey is a Cosmic Origins Spectrograph (COS) campaign aimed at acquiring the 1130 to 1770 {\\AA}, restframe spectroscopy of very young (<20 Myr) and massive (>10^4 solar masses) star clusters in galaxies that are part of the Hubble treasury program Legacy ExtraGalactic Uv Survey (LEGUS). In this first paper of a series, we describe the CLUES sample consisting of 20 young star clusters and report their physical properties as derived by both multi-wavelength photometry and far-UV (FUV) spectroscopy with Hubble Space Telescope (HST). Thanks to the synergy of the two different datasets we build a coherent picture of the diverse stellar populations found in each region (with sizes of 40 to 160 pc). We associate the FUV-brightest stellar population to the central targeted star cluster and the other modeled population to the diffuse stars that are included in the COS aperture. We observe better agreement between photometric and spectroscopic ages for star clusters younger than 5 Myr. For clusters older than 5 Myr, photometry and spectroscopy measurements deviate, with the latter producing older ages, due to the degeneracy of photometric models. FUV spectroscopy enables us to better constrain the stellar metallicities, a parameter that optical colors are insensitive to. Finally, the derived E(B-V) are quite similar, with a tendency for FUV spectroscopy to favor solutions with higher extinctions. The recovered masses are in agreement within a factor of 2 for all the clusters. |"
      ],
      "text/plain": [
       "[arXiv:2209.09914] CLusters in the Uv as EngineS (CLUES): I. Survey presentation \\& FUV  spectral analysis of the stellar light\n",
       "\tM. Sirressi, et al. -- incl., <mark>S. Hernandez</mark>, <mark>L. J. Smith</mark>, <mark>E. Schinnerer</mark>"
      ]
     },
     "metadata": {},
     "output_type": "display_data"
    },
    {
     "data": {
      "text/markdown": [
       "## Failed papers"
      ],
      "text/plain": [
       "<IPython.core.display.Markdown object>"
      ]
     },
     "metadata": {},
     "output_type": "display_data"
    },
    {
     "data": {
      "text/markdown": [
       "\n",
       "|||\n",
       "|---:|:---|\n",
       "| [![arXiv](https://img.shields.io/badge/arXiv-arXiv:2209.09944-b31b1b.svg)](https://arxiv.org/abs/arXiv:2209.09944) | **Deep learning reconstruction of sunspot vector magnetic fields for  forecasting solar storms**  |\n",
       "|| Dattaraj B. Dhuri, Shamik Bhattacharjee, Shravan M. Hanasoge, <mark>Sashi Kiran Mahapatra</mark> |\n",
       "|*Appeared on*| *2022-09-22*|\n",
       "|*Comments*| *19 Pages, 11 Figures, Accepted for publication in ApJ*|\n",
       "|**Abstract**| Solar magnetic activity produces extreme solar flares and coronal mass ejections, which pose grave threats to electronic infrastructure and can significantly disrupt economic activity. It is therefore important to appreciate the triggers of explosive solar activity and develop reliable space-weather forecasting. Photospheric vector-magnetic-field data capture sunspot magnetic-field complexity and can therefore improve the quality of space-weather prediction. However, state-of-the-art vector-field observations are consistently only available from Solar Dynamics Observatory/Helioseismic and Magnetic Imager (SDO/HMI) since 2010, with most other current and past missions and observational facilities such as Global Oscillations Network Group (GONG) only recording line-of-sight (LOS) fields. Here, using an inception-based convolutional neural network, we reconstruct HMI sunspot vector-field features from LOS magnetograms of HMI as well as GONG with high fidelity (~ 90% correlation) and sustained flare-forecasting accuracy. We rebuild vector-field features during the 2003 Halloween storms, for which only LOS-field observations are available, and the CNN-estimated electric-current-helicity accurately captures the observed rotation of the associated sunspot prior to the extreme flares, showing a striking increase. Our study thus paves the way for reconstructing three solar cycles worth of vector-field data from past LOS measurements, which are of great utility in improving space-weather forecasting models and gaining new insights about solar activity. |\n",
       "|<p style=\"color:green\"> **ERROR** </p>| <p style=\"color:green\">affiliation error: mpia.affiliation_verifications: '69117' keyword not found.</p> |"
      ],
      "text/plain": [
       "<IPython.core.display.Markdown object>"
      ]
     },
     "metadata": {},
     "output_type": "display_data"
    },
    {
     "data": {
      "text/markdown": [
       "\n",
       "|||\n",
       "|---:|:---|\n",
       "| [![arXiv](https://img.shields.io/badge/arXiv-arXiv:2209.09909-b31b1b.svg)](https://arxiv.org/abs/arXiv:2209.09909) | **Pulse Timing Discovery of a Three-Day Companion to the Hot Subdwarf BPM  36430**  |\n",
       "|| <mark>Bryce A. Smith</mark>, et al. -- incl., <mark>J.J. Hermes</mark> |\n",
       "|*Appeared on*| *2022-09-22*|\n",
       "|*Comments*| *7 pages, 5 figures, 4 tables. Accepted for publication in the Astrophysical Journal*|\n",
       "|**Abstract**| Hot subdwarf B stars are core-helium burning objects that have undergone envelope stripping, likely by a binary companion. Using high-speed photometry from the Transiting Exoplanet Survey Satellite, we have discovered the hot subdwarf BPM 36430 is a hybrid sdBV_rs pulsator exhibiting several low-amplitude g-modes and a strong p-mode pulsation. The latter shows a clear, periodic variation in its pulse arrival times. Fits to this phase oscillation imply BPM 36430 orbits a barycenter approximately 10 light-seconds away once every 3.1 d. Using the CHIRON echelle spectrograph on the CTIO 1.5-m telescope, we confirm the reflex motion by detecting a radial velocity variation with semi-amplitude, period, and phase in agreement with the pulse timings. We conclude that a white dwarf companion with minimum mass of 0.42 Msun orbits BPM 36430. Our study represents only the second time a companion orbiting a pulsating hot subdwarf or white dwarf has been detected from pulse timings and confirmed with radial velocities. |\n",
       "|<p style=\"color:green\"> **ERROR** </p>| <p style=\"color:green\">affiliation error: mpia.affiliation_verifications: 'Heidelberg' keyword not found.</p> |"
      ],
      "text/plain": [
       "<IPython.core.display.Markdown object>"
      ]
     },
     "metadata": {},
     "output_type": "display_data"
    },
    {
     "data": {
      "text/markdown": [
       "\n",
       "|||\n",
       "|---:|:---|\n",
       "| [![arXiv](https://img.shields.io/badge/arXiv-arXiv:2209.09920-b31b1b.svg)](https://arxiv.org/abs/arXiv:2209.09920) | **Measuring interacting binary mass functions with X-ray fluorescence**  |\n",
       "|| <mark>Cordelia Dashwood Brown</mark>, Poshak Gandhi, Phil Charles |\n",
       "|*Appeared on*| *2022-09-22*|\n",
       "|*Comments*| *MNRAS in press. 10 pages, 6 figures*|\n",
       "|**Abstract**| The masses of compact objects in X-ray binaries are best constrained through dynamical measurements, relying on radial velocity curves of the companion star. In anticipation of upcoming high X-ray spectral resolution telescopes, we explore their potential to constrain the mass function of the compact object. Fe K line fluorescence is a common feature in the spectra of luminous X-ray binaries, with a Doppler-broadened component from the inner accretion disc extensively studied. If a corresponding narrow line from the X-ray irradiated companion can be isolated, this provides am opportunity to further constrain the binary system properties. Here, we model binary geometry to determine the companion star's solid angle, and deduce the iron line's equivalent width. We find that for systems with a mass ratio $q > 0.1$, the expected K${\\alpha}$ equivalent width is 2-40 eV. Simulations using XSPEC indicate that new microcalorimeters will have sufficient resolution to be able to produce K${\\alpha}$ emission line radial velocity measurements with precision of 5-40 km s$^{-1}$, for source continuum fluxes exceeding $10^{-12}$ erg cm$^{-2}$ s$^{-1}$. Several caveats need to be considered; this method is dependent on successful isolation of the narrow line from the broad component, and the observation of clear changes in velocity independent of scatter arising from complex wind and disc behaviour. These issues remain to be proven with microcalorimeters, but this method has the potential to constrain binary parameters where optical measurements are not viable. |\n",
       "|<p style=\"color:green\"> **ERROR** </p>| <p style=\"color:green\">affiliation error: mpia.affiliation_verifications: 'Heidelberg' keyword not found.</p> |"
      ],
      "text/plain": [
       "<IPython.core.display.Markdown object>"
      ]
     },
     "metadata": {},
     "output_type": "display_data"
    },
    {
     "data": {
      "text/markdown": [
       "\n",
       "|||\n",
       "|---:|:---|\n",
       "| [![arXiv](https://img.shields.io/badge/arXiv-arXiv:2209.09926-b31b1b.svg)](https://arxiv.org/abs/arXiv:2209.09926) | **Orbital motion near Sagittarius A* -- Constraints from polarimetric ALMA  observations**  |\n",
       "|| Maciek Wielgus, et al. -- incl., <mark>Joseph Farah</mark> |\n",
       "|*Appeared on*| *2022-09-22*|\n",
       "|*Comments*| **|\n",
       "|**Abstract**| We report on the polarized light curves of the Galactic Center supermassive black hole Sagittarius A*, obtained at millimeter wavelength with the Atacama Large Millimeter/submillimeter Array (ALMA). The observations took place as a part of the Event Horizon Telescope campaign. We compare the observations taken during the low variability source state on 2017 Apr 6 and 7 with those taken immediately after the X-ray flare on 2017 Apr 11. For the latter case, we observe rotation of the electric vector position angle with a timescale of $\\sim 70$ min. We interpret this rotation as a signature of the equatorial clockwise orbital motion of a hot spot embedded in a magnetic field dominated by a dynamically important vertical component, observed at a low inclination $\\sim20^\\circ$. The hot spot radiates strongly polarized synchrotron emission, briefly dominating the linear polarization measured by ALMA in the unresolved source. Our simple emission model captures the overall features of the polarized light curves remarkably well. Assuming a Keplerian orbit, we find the hot spot orbital radius to be $\\sim$ 5 Schwarzschild radii. We observe hints of a positive black hole spin, that is, a prograde hot spot motion. Accounting for the rapidly varying rotation measure, we estimate the projected on-sky axis of the angular momentum of the hot spot to be $\\sim 60^\\circ$ east of north, with a 180$^\\circ$ ambiguity. These results suggest that the accretion structure in Sgr A* is a magnetically arrested disk rotating clockwise. |\n",
       "|<p style=\"color:green\"> **ERROR** </p>| <p style=\"color:green\">affiliation error: mpia.affiliation_verifications: 'Heidelberg' keyword not found.</p> |"
      ],
      "text/plain": [
       "<IPython.core.display.Markdown object>"
      ]
     },
     "metadata": {},
     "output_type": "display_data"
    },
    {
     "data": {
      "text/markdown": [
       "\n",
       "|||\n",
       "|---:|:---|\n",
       "| [![arXiv](https://img.shields.io/badge/arXiv-arXiv:2209.09929-b31b1b.svg)](https://arxiv.org/abs/arXiv:2209.09929) | **BASS XXXIII: Swift-BAT blazars and their jets through cosmic time**  |\n",
       "|| L. Marcotulli, et al. -- incl., <mark>Y. Ueda</mark>, <mark>F. Harrison</mark> |\n",
       "|*Appeared on*| *2022-09-22*|\n",
       "|*Comments*| *Accepted for publication in the Astrophysical Journal; 33 pages; 8 Tables; 16 Figures*|\n",
       "|**Abstract**| We derive the most up-to-date Swift-Burst Alert Telescope (BAT) blazar luminosity function in the 14-195 keV range, making use of a clean sample of 118 blazars detected in the BAT 105-month survey catalog, with newly obtained redshifts from the BAT AGN Spectroscopic Survey (BASS). We determine the best-fit X-ray luminosity function for the whole blazar population, as well as for Flat Spectrum Radio Quasars (FSRQs) alone. The main results are: (1) at any redshift, BAT detects the most luminous blazars, above any possible break in their luminosity distribution, which means we cannot differentiate between density and luminosity evolution; (2) the whole blazar population, dominated by FSRQs, evolves positively up to redshift z~4.3, confirming earlier results and implying lower number densities of blazars at higher redshifts than previously estimated. The contribution of this source class to the Cosmic X-ray Background at 14-195 keV can range from 5-18%, while possibly accounting for 100% of the MeV background. We also derived the average 14 keV-10 GeV SED for BAT blazars, which allows us to predict the number counts of sources in the MeV range, as well as the expected number of high-energy (>100 TeV) neutrinos. A mission like COSI, will detect 40 MeV blazars and 2 coincident neutrinos. Finally, taking into account beaming selection effects, the distribution and properties of the parent population of these extragalactic jets are derived. We find that the distribution of viewing angles is quite narrow, with most sources aligned within < 5{\\deg} of the line of sight. Moreover, the average Lorentz factor, <$\\Gamma$>= 8-12, is lower than previously suggested for these powerful sources. |\n",
       "|<p style=\"color:green\"> **ERROR** </p>| <p style=\"color:green\">affiliation error: mpia.affiliation_verifications: 'Heidelberg' keyword not found.</p> |"
      ],
      "text/plain": [
       "<IPython.core.display.Markdown object>"
      ]
     },
     "metadata": {},
     "output_type": "display_data"
    },
    {
     "data": {
      "text/markdown": [
       "\n",
       "|||\n",
       "|---:|:---|\n",
       "| [![arXiv](https://img.shields.io/badge/arXiv-arXiv:2209.09950-b31b1b.svg)](https://arxiv.org/abs/arXiv:2209.09950) | **Perfecting our set of spectrophotometric standard DA white dwarfs**  |\n",
       "|| A. Calamida, et al. -- incl., <mark>N. Gentile-Fusillo</mark> |\n",
       "|*Appeared on*| *2022-09-22*|\n",
       "|*Comments*| *48 pages, 50 figures, accepted for publication on ApJ*|\n",
       "|**Abstract**| We verified for photometric stability a set of DA white dwarfs with Hubble Space Telescope magnitudes from the near-ultraviolet to the near-infrared and ground-based spectroscopy by using time-spaced observations from the Las Cumbres Observatory network of telescopes. The initial list of 38 stars was whittled to 32 final ones which comprise a high quality set of spectrophotometric standards. These stars are homogeneously distributed around the sky and are all fainter than r ~ 16.5 mag. Their distribution is such that at least two of them would be available to be observed from any observatory on the ground at any time at airmass less than two. Light curves and different variability indices from the Las Cumbres Observatory data were used to determine the stability of the candidate standards. When available, Pan-STARRS1, Zwicky Transient Facility and TESS data were also used to confirm the star classification. Our analysis showed that four DA white dwarfs may exhibit evidence of photometric variability, while a fifth is cooler than our established lower temperature limit, and a sixth star might be a binary. In some instances, due to the presence of faint nearby red sources, care should be used when observing a few of the spectrophotometric standards with ground-based telescopes. Light curves and finding charts for all the stars are provided. |\n",
       "|<p style=\"color:green\"> **ERROR** </p>| <p style=\"color:green\">affiliation error: mpia.affiliation_verifications: 'Heidelberg' keyword not found.</p> |"
      ],
      "text/plain": [
       "<IPython.core.display.Markdown object>"
      ]
     },
     "metadata": {},
     "output_type": "display_data"
    },
    {
     "data": {
      "text/markdown": [
       "\n",
       "|||\n",
       "|---:|:---|\n",
       "| [![arXiv](https://img.shields.io/badge/arXiv-arXiv:2209.09951-b31b1b.svg)](https://arxiv.org/abs/arXiv:2209.09951) | **A Semi-Analytical Model for the Formation and Evolution of Radio Relics  in Galaxy Clusters**  |\n",
       "|| Yihao Zhou, et al. -- incl., <mark>Li Ji</mark>, <mark>Zhongli Zhang</mark> |\n",
       "|*Appeared on*| *2022-09-22*|\n",
       "|*Comments*| *15 pages, 20 figures. Accepted for publication in MNRAS. Comments welcome*|\n",
       "|**Abstract**| Radio relics are Mpc-sized synchrotron sources located in the peripheral regions of galaxy clusters. Models based on the diffuse shock acceleration (DSA) scenario have been widely accepted to explain the formation of radio relics. However, a critical challenge to these models is that most observed shocks seem too weak to generate detectable emission, unless fossil electrons, a population of mildly energetic electrons that have been accelerated previously, are included in the models. To address this issue, we present a new semi-analytical model to describe the formation and evolution of radio relics by incorporating fossil relativistic electrons into DSA theory, which is constrained by a sample of 14 observed relics, and employ the Press-Schechter formalism to simulate the relics in a $20^{\\circ} \\times 20^{\\circ}$ sky field at 50, 158, and 1400 MHz, respectively. Results show that fossil electrons contribute significantly to the radio emission, which can generate radiation four orders of magnitude brighter than that solely produced by thermal electrons at 158 MHz, and the power distribution of our simulated radio relic catalog can reconcile the observed $P_{1400}-M_{\\mathrm{vir}}$ relation. We predict that $7.1\\%$ clusters with $M_{\\mathrm{vir}} > 1.2\\times 10^{14}\\,\\mathrm{M}_{\\odot}$ would host relics at 158 MHz, which is consistent with the result of $10 \\pm 6\\%$ given by the LoTSS DR2. It is also found that radio relics are expected to cause severe foreground contamination in future EoR experiments, similar to that of radio halos. The possibility of AGN providing seed fossil relativistic electrons is evaluated by calculating the number of radio-loud AGNs that a shock is expected to encounter during its propagation. |\n",
       "|<p style=\"color:green\"> **ERROR** </p>| <p style=\"color:green\">affiliation error: mpia.affiliation_verifications: 'Heidelberg' keyword not found.</p> |"
      ],
      "text/plain": [
       "<IPython.core.display.Markdown object>"
      ]
     },
     "metadata": {},
     "output_type": "display_data"
    },
    {
     "data": {
      "text/markdown": [
       "\n",
       "|||\n",
       "|---:|:---|\n",
       "| [![arXiv](https://img.shields.io/badge/arXiv-arXiv:2209.09993-b31b1b.svg)](https://arxiv.org/abs/arXiv:2209.09993) | **Visual Orbits of Spectroscopic Binaries with the CHARA Array. IV. HD  61859, HD 89822, HD 109510, and HD 191692**  |\n",
       "|| Kathryn V. Lester, et al. -- incl., <mark>Todd J. Henry</mark>, <mark>Claire L. Davies</mark> |\n",
       "|*Appeared on*| *2022-09-22*|\n",
       "|*Comments*| *Accepted for publication in AJ. arXiv admin note: text overlap with arXiv:2005.00546*|\n",
       "|**Abstract**| We present the visual orbits of four spectroscopic binary stars, HD 61859, HD 89822, HD 109510, and HD 191692, using long baseline interferometry with the CHARA Array. We also obtained new radial velocities from echelle spectra using the APO 3.5 m, CTIO 1.5 m, and Fairborn Observatory 2.0 m telescopes. By combining the astrometric and spectroscopic observations, we solve for the full, three-dimensional orbits and determine the stellar masses to 1-12% uncertainty and distances to 0.4-6% uncertainty. We then estimate the effective temperature and radius of each component star through Doppler tomography and spectral energy distribution analyses. We found masses of 1.4-3.5 Msun, radii of 1.5-4.7 Rsun, and temperatures of 6400-10300K. We then compare the observed stellar parameters to the predictions of the stellar evolution models, but found that only one of our systems fits well with the evolutionary models. |\n",
       "|<p style=\"color:green\"> **ERROR** </p>| <p style=\"color:green\">affiliation error: mpia.affiliation_verifications: 'Heidelberg' keyword not found.</p> |"
      ],
      "text/plain": [
       "<IPython.core.display.Markdown object>"
      ]
     },
     "metadata": {},
     "output_type": "display_data"
    },
    {
     "data": {
      "text/markdown": [
       "\n",
       "|||\n",
       "|---:|:---|\n",
       "| [![arXiv](https://img.shields.io/badge/arXiv-arXiv:2209.10196-b31b1b.svg)](https://arxiv.org/abs/arXiv:2209.10196) | **3D chemical structure of the diffuse turbulent ISM II -- Origin of  CH$^+$, new solution to an 80 years mystery**  |\n",
       "|| Benjamin Godard, et al. -- incl., <mark>Patrick Hennebelle</mark> |\n",
       "|*Appeared on*| *2022-09-22*|\n",
       "|*Comments*| *Astronomy and Astrophysics, EDP Sciences, In press*|\n",
       "|**Abstract**| Aims: The large abundances of CH$^+$ in the diffuse interstellar medium (ISM) are a long standing issue of our understanding of the thermodynamical and chemical states of the gas. We investigate, here, the formation of CH+ in turbulent and multiphase environments, where the heating of the gas is almost solely driven by the photoelectric effect. Methods: The diffuse ISM is simulated using the magnetohydrodynamic (MHD) code RAMSES which self-consistently computes the dynamical and thermal evolution of the gas along with the time-dependent evolutions of the abundances of H$^+$, H, and H$_2$. The rest of the chemistry, including the abundance of CH$^+$, is computed in post-processing, at equilibrium, under the constraint of out-ofequilibrium of H$^+$, H, and H$_2$. The comparison with the observations is performed taking into account an often neglected, yet paramount, piece of information, namely the length of the intercepted diffuse matter along the observed lines of sight. Results: The quasi totality of the mass of CH$^+$ originates from the unstable gas, in environments where the kinetic temperature is larger than 600 K, the density ranges between 0.6 and 10 cm$^{-3}$, the electronic fraction ranges between 3 x 10$^{-4}$ and 6 x 10$^{-3}$, and the molecular fraction is smaller than 0.4. Its formation is driven by warm and out-of-equilibrium H$_2$ initially formed in the cold neutral medium (CNM) and injected in more diffuse environments and even the warm neutral medium (WNM) through a combination of advection and thermal instability. The simulation which displays the tightest agreement with the HI-to-H$_2$ transition and the thermal pressure distribution observed in the Solar Neighborhood is found to naturally reproduce the observed abundances of CH$^+$, the dispersion of observations, the probability of occurrence of most of the lines of sight, the fraction of non-detections of CH$^+$, and the distribution of its line profiles. The amount of CH$^+$ and the statistical properties of the simulated lines of sight are set by the fraction of unstable gas rich in H$_2$ which is controlled, on Galactic scales, by the mean density of the diffuse ISM (or, equivalently, its total mass), the amplitude of the mean UV radiation field, and the strength of the turbulent forcing. Conclusions: This work offers a new and natural solution to an 80 years old chemical riddle. The almost ubiquitous presence of CH$^+$ in the diffuse ISM likely results from the exchanges of matter between the CNM and the WNM induced by the combination of turbulent advection and thermal instability, without the need to invoke ambipolar diffusion or regions of intermittent turbulent dissipation. Through two phase turbulent mixing, CH$^+$ might thus be a tracer of the H$_2$ mass loss rate of CNM clouds. |\n",
       "|<p style=\"color:green\"> **ERROR** </p>| <p style=\"color:green\">affiliation error: mpia.affiliation_verifications: 'Heidelberg' keyword not found.</p> |"
      ],
      "text/plain": [
       "<IPython.core.display.Markdown object>"
      ]
     },
     "metadata": {},
     "output_type": "display_data"
    },
    {
     "data": {
      "text/markdown": [
       "\n",
       "|||\n",
       "|---:|:---|\n",
       "| [![arXiv](https://img.shields.io/badge/arXiv-arXiv:2209.10228-b31b1b.svg)](https://arxiv.org/abs/arXiv:2209.10228) | **Radio observations of the Black Hole X-ray Binary EXO 1846-031  re-awakening from a 34-year slumber**  |\n",
       "|| <mark>D. R. A. Williams</mark>, et al. -- incl., <mark>I. Heywood</mark>, <mark>D. A. Green</mark> |\n",
       "|*Appeared on*| *2022-09-22*|\n",
       "|*Comments*| *Accepted for publication in MNRAS on 20 September 2022, 17 pages, 6 figures*|\n",
       "|**Abstract**| We present radio [1.3 GHz MeerKAT, 4-8 GHz Karl G. Jansky Very Large Array (VLA) and 15.5 GHz Arcminute Microkelvin Imager Large Array (AMI-LA)] and X-ray (Swift and MAXI) data from the 2019 outburst of the candidate Black Hole X-ray Binary (BHXB) EXO 1846-031. We compute a Hardness-Intensity diagram, which shows the characteristic q-shaped hysteresis of BHXBs in outburst. EXO 1846-031 was monitored weekly with MeerKAT and approximately daily with AMI-LA. The VLA observations provide sub-arcsecond-resolution images at key points in the outburst, showing moving radio components. The radio and X-ray light curves broadly follow each other, showing a peak on ~MJD 58702, followed by a short decline before a second peak between ~MJD 58731-58739. We estimate the minimum energy of these radio flares from equipartition, calculating values of $E_{\\rm min} \\sim$ 4$\\times$10$^{41}$ and 5$\\times$10$^{42}$ erg, respectively. The exact date of the return to `quiescence' is missed in the X-ray and radio observations, but we suggest that it likely occurred between MJD 58887 and 58905. From the Swift X-ray flux on MJD 58905 and assuming the soft-to-hard transition happened at 0.3-3 per cent Eddington, we calculate a distance range of 2.4-7.5\\,kpc. We computed the radio:X-ray plane for EXO 1846-031 in the `hard' state, showing that it is most likely a `radio-quiet' BH, preferentially at 4.5 kpc. Using this distance and a jet inclination angle of $\\theta$=73$^{\\circ}$, the VLA data place limits on the intrinsic jet speed of $\\beta_{\\rm int} = 0.29c$, indicating sub-luminal jet motion. |\n",
       "|<p style=\"color:green\"> **ERROR** </p>| <p style=\"color:green\">affiliation error: mpia.affiliation_verifications: 'Heidelberg' keyword not found.</p> |"
      ],
      "text/plain": [
       "<IPython.core.display.Markdown object>"
      ]
     },
     "metadata": {},
     "output_type": "display_data"
    },
    {
     "data": {
      "text/markdown": [
       "\n",
       "|||\n",
       "|---:|:---|\n",
       "| [![arXiv](https://img.shields.io/badge/arXiv-arXiv:2209.10333-b31b1b.svg)](https://arxiv.org/abs/arXiv:2209.10333) | **A Deep Learning Approach to Infer Galaxy Cluster Masses from Planck  Compton$-y$ parameter maps**  |\n",
       "|| Daniel de Andres, et al. -- incl., <mark>Mahmoud Jarraya</mark> |\n",
       "|*Appeared on*| *2022-09-22*|\n",
       "|*Comments*| *17 pages, 3 Figures and Supplementary material (+11 figures). To be published soon. Comments are welcome*|\n",
       "|**Abstract**| Galaxy clusters are useful laboratories to investigate the evolution of the Universe, and accurately measuring their total masses allows us to constrain important cosmological parameters. However, estimating mass from observations that use different methods and spectral bands introduces various systematic errors. This paper evaluates the use of a Convolutional Neural Network (CNN) to reliably and accurately infer the masses of galaxy clusters from the Compton-y parameter maps provided by the Planck satellite. The CNN is trained with mock images generated from hydrodynamic simulations of galaxy clusters, with Planck's observational limitations taken into account. We observe that the CNN approach is not subject to the usual observational assumptions, and so is not affected by the same biases. By applying the trained CNNs to the real Planck maps, we find cluster masses compatible with Planck measurements within a 15% bias. Finally, we show that this mass bias can be explained by the well known hydrostatic equilibrium assumption in Planck masses, and the different parameters in the Y500-M500 scaling laws. This work highlights that CNNs, supported by hydrodynamic simulations, are a promising and independent tool for estimating cluster masses with high accuracy, which can be extended to other surveys as well as to observations in other bands. |\n",
       "|<p style=\"color:green\"> **ERROR** </p>| <p style=\"color:green\">affiliation error: mpia.affiliation_verifications: 'Heidelberg' keyword not found.</p> |"
      ],
      "text/plain": [
       "<IPython.core.display.Markdown object>"
      ]
     },
     "metadata": {},
     "output_type": "display_data"
    },
    {
     "data": {
      "text/markdown": [
       "\n",
       "|||\n",
       "|---:|:---|\n",
       "| [![arXiv](https://img.shields.io/badge/arXiv-arXiv:2209.10376-b31b1b.svg)](https://arxiv.org/abs/arXiv:2209.10376) | **Black hole mass and spin measurements through the Relativistic  Precession Model: XTE J1859+226**  |\n",
       "|| S.E Motta, et al. -- incl., <mark>M.A.P. Torres</mark> |\n",
       "|*Appeared on*| *2022-09-22*|\n",
       "|*Comments*| *8 pages, 5 figures, accepted for publication in MNRAs*|\n",
       "|**Abstract**| The X-ray light curves of accreting black holes and neutron stars in binary systems show various types of quasi-periodic oscillations (QPOs), the origin of which is still debated. The Relativistic Precession Model identifies the QPO frequencies with fundamental time scales from General Relativity, and has been proposed as a possible explanation of certain types of such oscillations. Under specific conditions (i.e., the detection of a particular QPOs triplet) such a model can be used to obtain self-consistent measurements of the mass and spin of the compact object. So far this has been possible only in the black hole binary GRO J1655-40. In the RXTE/PCA data from the 1999-2000 outburst of the black hole transient XTE J1859+226 we found a QPO triplet, and used the the Relativistic Precession Model to obtain high-precision measurements of the black hole mass and spin - M = (7.85+/-0.46) Msun, a* = 0.149+/-0.005 - the former being consistent with the most recent dynamical mass determination from optical measurements. Similarly to what has been already observed in other black hole systems, the frequencies of the QPOs and broad-band noise components match the general relativistic frequencies of particle motion close to the compact object predicted by the model. Our findings confirm previous results and further support the validity of the Relativistic Precession Model, which is the only electromagnetic-measurement-based method that so far has consistently yielded spins close to those from the gravitational waves produced by merging binary black holes. |\n",
       "|<p style=\"color:green\"> **ERROR** </p>| <p style=\"color:green\">affiliation error: mpia.affiliation_verifications: 'Heidelberg' keyword not found.</p> |"
      ],
      "text/plain": [
       "<IPython.core.display.Markdown object>"
      ]
     },
     "metadata": {},
     "output_type": "display_data"
    },
    {
     "data": {
      "text/markdown": [
       "\n",
       "|||\n",
       "|---:|:---|\n",
       "| [![arXiv](https://img.shields.io/badge/arXiv-arXiv:2209.10386-b31b1b.svg)](https://arxiv.org/abs/arXiv:2209.10386) | **ELM of ELM-WD: An extremely low mass hot donor star discovered in LAMOST  survey**  |\n",
       "|| Hailong Yuan, et al. -- incl., <mark>Zhenwei Li</mark>, <mark>Zhongrui Bai</mark>, <mark>Haotong Zhang</mark> |\n",
       "|*Appeared on*| *2022-09-22*|\n",
       "|*Comments*| *16 pages, 10 figures*|\n",
       "|**Abstract**| The Extremely Low Mass White Dwarfs (ELM WDs) and pre-ELM WDs are helium core white dwarfs with mass $<\\sim 0.3M_{\\odot}$. They are formed in close binaries and have lost over half of their initial masses via Common Envelope (CE) ejection or stable Roche Lobe Over Flow (RLOF). Both evolution simulations and observations show that a lower mass limit for ELM WDs exists at $\\approx0.14M_{\\odot}$. Here we report the discovery of an extremely low mass ELM WD, ID70904216 in LAMOST survey, that may be lower than the ELM WD mass limit. Based on LAMOST and P200 spectroscopic observations, ID70904216 shows orbital period $P_{orb} =$ 0.219658 days and radial velocity semi-amplitude $K1=317.33km/s$, which gives the mass function of 0.73$M_{\\odot}$, indicating the companion is a compact star. The low resolution spectra shows a F type star with $T_{\\rm eff} \\sim 7361K$ without emission features. The temperature is consistent with that derived from SED fitting($7440K$) and multi-color light curve solution($7400K$). The optical light curves, in ZTF g, r and i bands and Catalina V band, show ellipsoidal variability with amplitudes $\\approx30\\%$, suggesting that the visible companion is heavily tidal distorted. Combining with the distance from Gaia survey, the WD code modeling estimates that the mass of the visible star is $M1=0.08^{+0.06}_{-0.03}M_{\\odot}$, and the mass of the invisible star is $M2=0.94^{+0.45}_{-0.10}M_{\\odot}$. The radius of the visible donor is $R=0.29\\pm0.01R_{\\odot}$. The inclination angle is constrained between 60$^{\\circ}$ and 90$^{\\circ}$. The observations indicate the system is a pre-ELM WD + WD/NS binary system with an extremely low mass hot donor below the $0.14M_{\\odot}$ theoretical limit. |\n",
       "|<p style=\"color:green\"> **ERROR** </p>| <p style=\"color:green\">affiliation error: mpia.affiliation_verifications: 'Heidelberg' keyword not found.</p> |"
      ],
      "text/plain": [
       "<IPython.core.display.Markdown object>"
      ]
     },
     "metadata": {},
     "output_type": "display_data"
    },
    {
     "data": {
      "text/markdown": [
       "\n",
       "|||\n",
       "|---:|:---|\n",
       "| [![arXiv](https://img.shields.io/badge/arXiv-arXiv:2209.10395-b31b1b.svg)](https://arxiv.org/abs/arXiv:2209.10395) | **A refined dynamical mass for the black hole in the X-ray transient XTE  J1859+226**  |\n",
       "|| I. V. Yanes Rizo, et al. -- incl., <mark>M. A. P. Torres</mark> |\n",
       "|*Appeared on*| *2022-09-22*|\n",
       "|*Comments*| *7 pages, 5 figures*|\n",
       "|**Abstract**| We present two contiguous nights of simultaneous time-resolved GTC spectroscopy and WHT photometry of the black hole X-ray transient XTE J1859+226, obtained in 2017 July during quiescence. Cross-correlation of the individual spectra against a late K-type spectral template enabled us to constrain the orbital period to $0.276 \\pm 0.003$ d and the radial velocity semi-amplitude of the donor star to $K_2 = 550 \\pm 59$ km s$^{-1}$. An ellipsoidal modulation is detected in the photometric $r$- and $i$-band light curves, although it is strongly contaminated by flickering activity. By exploiting correlations between the properties of the double-peaked H$\\alpha$ emission-line profile and the binary parameters, we derived an orbital inclination of $66.6 \\pm 4.3$ deg, a refined $K_2 = 562 \\pm 40$ km s$^{-1}$ and mass ratio $q = M_2/M_1 = 0.07 \\pm 0.01$. From these values we obtained an updated black hole mass of $M_1 = 7.8 \\pm 1.9$ M$_\\odot$. An independent mass estimate based on X-ray timing agrees well with our value, which gives further support for the outburst QPO triplet being explained by the relativistic precession model. We also obtained a companion star mass $M_2 = 0.55 \\pm 0.16$ M$_\\odot$, which is consistent with its K5-K7 V spectral type. |\n",
       "|<p style=\"color:green\"> **ERROR** </p>| <p style=\"color:green\">affiliation error: mpia.affiliation_verifications: 'Heidelberg' keyword not found.</p> |"
      ],
      "text/plain": [
       "<IPython.core.display.Markdown object>"
      ]
     },
     "metadata": {},
     "output_type": "display_data"
    },
    {
     "data": {
      "text/markdown": [
       "\n",
       "|||\n",
       "|---:|:---|\n",
       "| [![arXiv](https://img.shields.io/badge/arXiv-arXiv:2209.10408-b31b1b.svg)](https://arxiv.org/abs/arXiv:2209.10408) | **Wavelet analysis of the transient QPOs in MAXI J1535$-$571 with  Insight-HXMT**  |\n",
       "|| X. Chen, et al. -- incl., <mark>P. Zhang</mark>, <mark>Q. Liu</mark>, <mark>S. Zhang</mark>, <mark>S. N. Zhang</mark> |\n",
       "|*Appeared on*| *2022-09-22*|\n",
       "|*Comments*| *10 pages, MNRAS in press*|\n",
       "|**Abstract**| Using wavelet analysis and power density spectrum, we investigate two transient quasi-periodic oscillations (QPOs) observed in MAXI J1535$-$571 observed with Insight-HXMT. The transient QPOs have a centroid frequency of $\\sim 10$ Hz with a FWHM $\\sim 0.6$ Hz and an rms amplitude $\\sim 14\\%$. Energy spectra of QPO and non-QPO regimes are also separated and analyzed, and the spectra become softer with higher $E_{cut}$ in the non-QPO regime compared to the QPO regime. Our results suggest that the transient QPOs detected in MJD 58016 and 58017 are still the type-C QPO, and the source remains in its HIMS. The duration of all type-C QPO signals based on wavelet is positively correlated with the mean count rate above $\\sim 10$ keV, implying appearance of QPOs in different time scales should be coupled with the corona. The transient QPO properties could be related to the jet or flares, perhaps the partial ejection of the corona is responsible for the disappearance of the type-C QPO. |\n",
       "|<p style=\"color:green\"> **ERROR** </p>| <p style=\"color:green\">affiliation error: mpia.affiliation_verifications: 'Heidelberg' keyword not found.</p> |"
      ],
      "text/plain": [
       "<IPython.core.display.Markdown object>"
      ]
     },
     "metadata": {},
     "output_type": "display_data"
    },
    {
     "data": {
      "text/markdown": [
       "\n",
       "|||\n",
       "|---:|:---|\n",
       "| [![arXiv](https://img.shields.io/badge/arXiv-arXiv:2209.10455-b31b1b.svg)](https://arxiv.org/abs/arXiv:2209.10455) | **High energy Millihertz quasi-periodic oscillations in 1A 0535+262 with  Insight-HXMT challenge current models**  |\n",
       "|| Ruican Ma, et al. -- incl., <mark>Lian Tao</mark>, <mark>Shuang-Nan Zhang</mark>, <mark>Liang Zhang</mark>, <mark>Liming Song</mark>, <mark>Shu Zhang</mark>, <mark>Hexin Liu</mark>, <mark>Lingda Kong</mark>, <mark>Panping Li</mark> |\n",
       "|*Appeared on*| *2022-09-22*|\n",
       "|*Comments*| *13 pages, 7 figures. Accepted for publication in MNRAS*|\n",
       "|**Abstract**| We studied the millihertz quasi-periodic oscillation (mHz QPO) in the 2020 outburst of the Be/X-ray binary 1A 0535+262 using Insight-HXMT data over a broad energy band. The mHz QPO is detected in the 27-120 keV energy band. The QPO centroid frequency is correlated with the source flux, and evolves in the 35-95 mHz range during the outburst. The QPO is most significant in the 50-65 keV band, with a significance of ~ 8 sigma, but is hardly detectable (<2 sigma) in the lowest (1-27 keV) and highest (>120 keV) energy bands. Notably, the detection of mHz QPO above 80 keV is the highest energy at which mHz QPOs have been detected so far. The fractional rms of the mHz QPO first increases and then decreases with energy, reaching the maximum amplitude at 50-65 keV. In addition, at the peak of the outburst, the mHz QPO shows a double-peak structure, with the difference between the two peaks being constant at ~0.02 Hz, twice the spin frequency of the neutron star in this system. We discuss different scenarios explaining the generation of the mHz QPO, including the beat frequency model, the Keplerian frequency model, the model of two jets in opposite directions, and the precession of the neutron star, but find that none of them can explain the origin of the QPO well. We conclude that the variability of non-thermal radiation may account for the mHz QPO, but further theoretical studies are needed to reveal the physical mechanism. |\n",
       "|<p style=\"color:green\"> **ERROR** </p>| <p style=\"color:green\">affiliation error: mpia.affiliation_verifications: 'Heidelberg' keyword not found.</p> |"
      ],
      "text/plain": [
       "<IPython.core.display.Markdown object>"
      ]
     },
     "metadata": {},
     "output_type": "display_data"
    },
    {
     "data": {
      "text/markdown": [
       "\n",
       "|||\n",
       "|---:|:---|\n",
       "| [![arXiv](https://img.shields.io/badge/arXiv-arXiv:2209.09927-b31b1b.svg)](https://arxiv.org/abs/arXiv:2209.09927) | **Mixing Interstellar Clouds Surrounding the Sun**  |\n",
       "|| Paweł Swaczyna, et al. -- incl., <mark>Jeffrey L. Linsky</mark> |\n",
       "|*Appeared on*| *2022-09-22*|\n",
       "|*Comments*| *13 pages, 5 figures, 1 table, accepted for publication in ApJL*|\n",
       "|**Abstract**| On its journey through the Galaxy, the Sun passes through diverse regions of the interstellar medium. High-resolution spectroscopic measurements of interstellar absorption lines in spectra of nearby stars show absorption components from more than a dozen warm partially ionized clouds within 15 pc of the Sun. The two nearest clouds - the Local Interstellar Cloud (LIC) and Galactic (G) cloud - move toward each other. Their bulk heliocentric velocities can be compared with the interstellar neutral helium flow velocity obtained from space-based experiments. We combine recent results from Ulysses, IBEX, and STEREO observations to find a more accurate estimate of the velocity and temperature of the very local interstellar medium. We find that, contrary to the widespread viewpoint that the Sun resides inside the LIC, the locally observed velocity of the interstellar neutral helium is consistent with a linear combination of the velocities of the LIC and G cloud, but not with either of these two velocities. This finding shows that the Sun travels through a mixed-cloud interstellar medium composed of material from both these clouds. Interactions between these clouds explain the substantially higher density of the interstellar hydrogen near the Sun and toward stars located within the interaction region of these two clouds. The observed asymmetry of the interstellar helium distribution function also supports this interaction. The structure and equilibrium in this region require further studies using in situ and telescopic observations. |\n",
       "|<p style=\"color:red\"> **ERROR** </p>| <p style=\"color:red\">latex error not a gzip file</p> |"
      ],
      "text/plain": [
       "<IPython.core.display.Markdown object>"
      ]
     },
     "metadata": {},
     "output_type": "display_data"
    },
    {
     "data": {
      "text/markdown": [
       "\n",
       "|||\n",
       "|---:|:---|\n",
       "| [![arXiv](https://img.shields.io/badge/arXiv-arXiv:2209.10347-b31b1b.svg)](https://arxiv.org/abs/arXiv:2209.10347) | **Presolar Silicon Carbide Grains of Types Y and Z: Their Strontium and  Barium Isotopic Compositions and Stellar Origins**  |\n",
       "|| <mark>Nan Liu</mark>, et al. |\n",
       "|*Appeared on*| *2022-09-22*|\n",
       "|*Comments*| *Accepted by EPJA*|\n",
       "|**Abstract**| We report the Sr and Ba isotopic compositions of 18 presolar SiC grains of types Y (11) and Z (7), rare types commonly argued to have formed in lower-than-solar metallicity asymptotic giant branch (AGB) stars. We find that the Y and Z grains show higher 88Sr/87Sr and more variable 138Ba/136Ba ratios than mainstream (MS) grains. According to FRANEC Torino AGB models, the Si, Sr, and Ba isotopic compositions of our Y and Z grains can be consistently explained if the grains came from low mass AGB stars with 0.15 Zsun <= Z < 1.00 Zsun, in which the 13C neutron exposure for the slow neutron-capture process is greatly reduced with respect to that required by MS grains for a 1.0 Z8 AGB star. This scenario is in line with the previous finding based on Ti isotopes, but it fails to explain the indistinguishable Mo isotopic compositions of MS, Y, and Z grains. |\n",
       "|<p style=\"color:red\"> **ERROR** </p>| <p style=\"color:red\">latex error not a gzip file</p> |"
      ],
      "text/plain": [
       "<IPython.core.display.Markdown object>"
      ]
     },
     "metadata": {},
     "output_type": "display_data"
    },
    {
     "data": {
      "text/markdown": [
       "\n",
       "|||\n",
       "|---:|:---|\n",
       "| [![arXiv](https://img.shields.io/badge/arXiv-arXiv:2209.10161-b31b1b.svg)](https://arxiv.org/abs/arXiv:2209.10161) | **The PAU Survey & Euclid: Improving broad-band photometric redshifts with  multi-task learning**  |\n",
       "|| L. Cabayol, et al. -- incl., <mark>E. Franceschi</mark> |\n",
       "|*Appeared on*| *2022-09-22*|\n",
       "|*Comments*| *20 pages, 16 figures*|\n",
       "|**Abstract**| Current and future imaging surveys require photometric redshifts (photo-z) to be estimated for millions of galaxies. Improving the photo-z quality is a major challenge to advance our understanding of cosmology. In this paper, we explore how the synergies between narrow-band photometric data and large imaging surveys can be exploited to improve broad-band photometric redshifts. We use a multi-task learning (MTL) network to improve broad-band photo-z estimates by simultaneously predicting the broad-band photo-z and the narrow-band photometry from the broad-band photometry. The narrow-band photometry is only required in the training field, which enables better photo-z predictions also for the galaxies without narrow-band photometry in the wide field. This technique is tested with data from the Physics of the Accelerating Universe Survey (PAUS) in the COSMOS field. We find that the method predicts photo-z that are 14% more precise down to magnitude i_AB<23, while reducing the outlier rate by 40% with respect to the baseline network mapping broad-band colours to only photo-zs. Furthermore, MTL significantly reduces the photo-z bias for high-redshift galaxies, improving the redshift distributions for tomographic bins with z>1. Applying this technique to deeper samples is crucial for future surveys like \\Euclid or LSST. For simulated data, training on a sample with i_AB <23, the method reduces the photo-z scatter by 15% for all galaxies with 24<i_AB<25. We also study the effects of extending the training sample with photometric galaxies using PAUS high-precision photo-zs, which further reduces the photo-z scatter. |\n",
       "|<p style=\"color:red\"> **ERROR** </p>| <p style=\"color:red\">latex error sequence item 1: expected str instance, TexNode found</p> |"
      ],
      "text/plain": [
       "<IPython.core.display.Markdown object>"
      ]
     },
     "metadata": {},
     "output_type": "display_data"
    }
   ],
   "source": [
    "import datetime\n",
    "today = str(datetime.date.today())\n",
    "logfile = f\"_build/html/logs/log-{today}.md\"\n",
    "\n",
    "\n",
    "with open(logfile, 'w') as logs:\n",
    "    # Success\n",
    "    logs.write(f'# Arxiv on Deck 2: Logs - {today}\\n\\n')\n",
    "    logs.write(\"\"\"* Arxiv had {0:,d} new papers\\n\"\"\".format(len(new_papers)))\n",
    "    logs.write(\"\"\"    * {0:,d} with possible author matches\\n\\n\"\"\".format(len(candidates)))\n",
    "    logs.write(\"## Sucessful papers\\n\\n\")\n",
    "    display(Markdown(\"## Successful papers\"))\n",
    "    success = [k[0] for k in documents]\n",
    "    for candid in candidates:\n",
    "        if candid['identifier'].split(':')[-1] in success:\n",
    "            display(candid)\n",
    "            logs.write(candid.generate_markdown_text() + '\\n\\n')\n",
    "\n",
    "    ## failed\n",
    "    logs.write(\"## Failed papers\\n\\n\")\n",
    "    display(Markdown(\"## Failed papers\"))\n",
    "    failed = sorted(failed, key=lambda x: x[1])\n",
    "    current_reason = \"\"\n",
    "    for paper, reason in failed:\n",
    "        if 'affiliation' in reason:\n",
    "            color = 'green'\n",
    "        else:\n",
    "            color = 'red'\n",
    "        data = Markdown(\n",
    "                paper.generate_markdown_text() + \n",
    "                f'\\n|<p style=\"color:{color:s}\"> **ERROR** </p>| <p style=\"color:{color:s}\">{reason:s}</p> |'\n",
    "               )\n",
    "        if reason != current_reason:\n",
    "            logs.write(f'### {reason:s} \\n\\n')\n",
    "            current_reason = reason\n",
    "        logs.write(data.data + '\\n\\n')\n",
    "        \n",
    "        # only display here the important errors (all in logs)\n",
    "        # if color in ('red',):\n",
    "        display(data)"
   ]
  },
  {
   "cell_type": "markdown",
   "id": "472d20ee",
   "metadata": {
    "papermill": {
     "duration": 0.008679,
     "end_time": "2022-09-22T05:14:39.632968",
     "exception": false,
     "start_time": "2022-09-22T05:14:39.624289",
     "status": "completed"
    },
    "tags": []
   },
   "source": [
    "## Export documents\n",
    "\n",
    "We now write the .md files and export relevant images"
   ]
  },
  {
   "cell_type": "code",
   "execution_count": 7,
   "id": "d426aed9",
   "metadata": {
    "execution": {
     "iopub.execute_input": "2022-09-22T05:14:39.651959Z",
     "iopub.status.busy": "2022-09-22T05:14:39.651158Z",
     "iopub.status.idle": "2022-09-22T05:14:39.658971Z",
     "shell.execute_reply": "2022-09-22T05:14:39.658379Z"
    },
    "papermill": {
     "duration": 0.018899,
     "end_time": "2022-09-22T05:14:39.660460",
     "exception": false,
     "start_time": "2022-09-22T05:14:39.641561",
     "status": "completed"
    },
    "tags": []
   },
   "outputs": [],
   "source": [
    "def export_markdown_summary(md: str, md_fname:str, directory: str):\n",
    "    \"\"\"Export MD document and associated relevant images\"\"\"\n",
    "    import os\n",
    "    import shutil\n",
    "    import re\n",
    "\n",
    "    if (os.path.exists(directory) and not os.path.isdir(directory)):\n",
    "        raise RuntimeError(f\"a non-directory file exists with name {directory:s}\")\n",
    "\n",
    "    if (not os.path.exists(directory)):\n",
    "        print(f\"creating directory {directory:s}\")\n",
    "        os.mkdir(directory)\n",
    "\n",
    "    fig_fnames = (re.compile(r'\\[Fig.*\\]\\((.*)\\)').findall(md) + \n",
    "                  re.compile(r'\\<img src=\"([^>\\s]*)\"[^>]*/>').findall(md))\n",
    "    for fname in fig_fnames:\n",
    "        if 'http' in fname:\n",
    "            # No need to copy online figures\n",
    "            continue\n",
    "        destdir = os.path.join(directory, os.path.dirname(fname))\n",
    "        destfname = os.path.join(destdir, os.path.basename(fname))\n",
    "        try:\n",
    "            os.makedirs(destdir)\n",
    "        except FileExistsError:\n",
    "            pass\n",
    "        shutil.copy(fname, destfname)\n",
    "    with open(os.path.join(directory, md_fname), 'w') as fout:\n",
    "        fout.write(md)\n",
    "    print(\"exported in \", os.path.join(directory, md_fname))\n",
    "    [print(\"    + \" + os.path.join(directory,fk)) for fk in fig_fnames]"
   ]
  },
  {
   "cell_type": "code",
   "execution_count": 8,
   "id": "014d04a4",
   "metadata": {
    "execution": {
     "iopub.execute_input": "2022-09-22T05:14:39.679368Z",
     "iopub.status.busy": "2022-09-22T05:14:39.679125Z",
     "iopub.status.idle": "2022-09-22T05:14:39.688590Z",
     "shell.execute_reply": "2022-09-22T05:14:39.687880Z"
    },
    "papermill": {
     "duration": 0.020777,
     "end_time": "2022-09-22T05:14:39.690039",
     "exception": false,
     "start_time": "2022-09-22T05:14:39.669262",
     "status": "completed"
    },
    "tags": []
   },
   "outputs": [
    {
     "name": "stdout",
     "output_type": "stream",
     "text": [
      "exported in  _build/html/2209.09914.md\n",
      "    + _build/html/tmp_2209.09914/./figures/ages.png\n",
      "    + _build/html/tmp_2209.09914/./figures/metals.png\n",
      "    + _build/html/tmp_2209.09914/./figures/ebvs.png\n",
      "    + _build/html/tmp_2209.09914/./figures/masses.png\n",
      "    + _build/html/tmp_2209.09914/./figures/color_plot_CLUESsel_pad_MW.png\n",
      "    + _build/html/tmp_2209.09914/./figures/age_mass_CLUESsel_pad_MW.png\n",
      "    + _build/html/tmp_2209.09914/./figures/M74-2-good.png\n",
      "    + _build/html/tmp_2209.09914/./figures/M74-2-good_ciii.png\n",
      "    + _build/html/tmp_2209.09914/./figures/M74-2-good_nv.png\n",
      "    + _build/html/tmp_2209.09914/./figures/M74-2-good_civ.png\n",
      "    + _build/html/tmp_2209.09914/./figures/NGC1566-2-bad.png\n",
      "    + _build/html/tmp_2209.09914/./figures/NGC1566-2-bad_ciii.png\n",
      "    + _build/html/tmp_2209.09914/./figures/NGC1566-2-bad_nv.png\n",
      "    + _build/html/tmp_2209.09914/./figures/NGC1566-2-bad_civ.png\n"
     ]
    }
   ],
   "source": [
    "for paper_id, md in documents:\n",
    "    export_markdown_summary(md, f\"{paper_id:s}.md\", '_build/html/')"
   ]
  },
  {
   "cell_type": "markdown",
   "id": "f087a0a7",
   "metadata": {
    "papermill": {
     "duration": 0.008883,
     "end_time": "2022-09-22T05:14:39.707740",
     "exception": false,
     "start_time": "2022-09-22T05:14:39.698857",
     "status": "completed"
    },
    "tags": []
   },
   "source": [
    "## Display the papers\n",
    "\n",
    "Not necessary but allows for a quick check."
   ]
  },
  {
   "cell_type": "code",
   "execution_count": 9,
   "id": "fd25f625",
   "metadata": {
    "execution": {
     "iopub.execute_input": "2022-09-22T05:14:39.727136Z",
     "iopub.status.busy": "2022-09-22T05:14:39.726645Z",
     "iopub.status.idle": "2022-09-22T05:14:39.732593Z",
     "shell.execute_reply": "2022-09-22T05:14:39.731878Z"
    },
    "papermill": {
     "duration": 0.017514,
     "end_time": "2022-09-22T05:14:39.734146",
     "exception": false,
     "start_time": "2022-09-22T05:14:39.716632",
     "status": "completed"
    },
    "scrolled": false,
    "tags": []
   },
   "outputs": [
    {
     "data": {
      "text/markdown": [
       "<div class=\"macros\" style=\"visibility:hidden;\">\n",
       "$\\newcommand{\\ensuremath}{}$\n",
       "$\\newcommand{\\xspace}{}$\n",
       "$\\newcommand{\\object}[1]{\\texttt{#1}}$\n",
       "$\\newcommand{\\farcs}{{.}''}$\n",
       "$\\newcommand{\\farcm}{{.}'}$\n",
       "$\\newcommand{\\arcsec}{''}$\n",
       "$\\newcommand{\\arcmin}{'}$\n",
       "$\\newcommand{\\ion}[2]{#1#2}$\n",
       "$\\newcommand{\\textsc}[1]{\\textrm{#1}}$\n",
       "$\\newcommand{\\hl}[1]{\\textrm{#1}}$\n",
       "$\\newcommand{\\vdag}{(v)^\\dagger}$\n",
       "$\\newcommand$\n",
       "$\\newcommand$\n",
       "$\\newcommand{\\Rsun}{\\hbox{R_\\odot}}$\n",
       "$\\newcommand{\\tr}{\\hbox{t_{\\rm relax}}}$\n",
       "$\\newcommand{\\mv}{\\hbox{M_{\\rm V}}}$\n",
       "$\\newcommand{\\lsun}{\\hbox{L_\\odot}}$\n",
       "$\\newcommand{\\msun}{\\hbox{M_\\odot}}$\n",
       "$\\newcommand{\\mstar}{\\hbox{M_\\star}}$\n",
       "$\\newcommand{\\t4}{\\hbox{t_{\\rm 4}}}$\n",
       "$\\newcommand{\\fmid}{\\hbox{F_{\\rm MID}}}$\n",
       "$\\newcommand{\\reff}{\\hbox{R_{\\rm eff}}}$\n",
       "$\\newcommand{\\dndt}{\\hbox{\\frac{d{\\rm N}}{dt}}}$\n",
       "$\\newcommand{\\cbound}{\\hbox{C_{\\rm bound}}}$\n",
       "$\\newcommand{\\relation}{\\hbox{SFR vs. M_{V}^{\\rm brightest}}}$\n",
       "$\\newcommand{\\clrelation}{\\hbox{CFR vs. M_{V}^{\\rm brightest}}}$\n",
       "$\\newcommand{\\mvten}{\\hbox{M_{\\rm V}^{10{\\rm Myr}}}}$\n",
       "$\\newcommand{\\lir}{\\hbox{L_{\\rm IR}}}$\n",
       "$\\newcommand{\\msunyr}{\\hbox{M_\\odotyr^{-1}}}$\n",
       "$\\newcommand{\\dsfr}{\\hbox{M_\\odotyr^{-1}kpc^{-2}}}$\n",
       "$\\newcommand{\\Ne}{\\hbox{N_{\\rm{e}}}}$\n",
       "$\\newcommand{\\Te}{\\hbox{T_{\\rm{e}}}}$\n",
       "$\\newcommand{\\kms}{\\hbox{km s^{-1}}}$\n",
       "$\\newcommand{\\cm3}{\\hbox{cm^{-3}}}$\n",
       "$\\newcommand{\\one}{ {\\sc i}}$\n",
       "$\\newcommand{\\two}{ {\\sc ii}}$\n",
       "$\\newcommand{\\three}{ {\\sc iii}}$\n",
       "$\\newcommand{\\four}{ {\\sc iv}}$</div>\n",
       "\n",
       "<div class=\"macros\" style=\"visibility:hidden;\">\n",
       "$\\newcommand{$\\ensuremath$}{}$\n",
       "$\\newcommand{$\\xspace$}{}$\n",
       "$\\newcommand{$\\object$}[1]{$\\t$exttt{#1}}$\n",
       "$\\newcommand{$\\farcs$}{{.}''}$\n",
       "$\\newcommand{$\\farcm$}{{.}'}$\n",
       "$\\newcommand{$\\arcsec$}{''}$\n",
       "$\\newcommand{$\\arcmin$}{'}$\n",
       "$\\newcommand{$\\ion$}[2]{#1#2}$\n",
       "$\\newcommand{$\\textsc$}[1]{$\\t$extrm{#1}}$\n",
       "$\\newcommand{$\\hl$}[1]{$\\t$extrm{#1}}$\n",
       "$\\newcommand{$\\vdag$}{(v)^\\dagger}$\n",
       "$\\newcommand$\n",
       "$\\newcommand$\n",
       "$\\newcommand{$\\Rsun$}{\\hbox{R_\\odot}}$\n",
       "$\\newcommand{$\\tr$}{\\hbox{t_{\\rm relax}}}$\n",
       "$\\newcommand{$\\mv$}{\\hbox{M_{\\rm V}}}$\n",
       "$\\newcommand{$\\lsun$}{\\hbox{L_\\odot}}$\n",
       "$\\newcommand{$\\msun$}{\\hbox{M_\\odot}}$\n",
       "$\\newcommand{$\\mstar$}{\\hbox{M_\\star}}$\n",
       "$\\newcommand{$\\t$4}{\\hbox{t_{\\rm 4}}}$\n",
       "$\\newcommand{$\\fmid$}{\\hbox{F_{\\rm MID}}}$\n",
       "$\\newcommand{$\\reff$}{\\hbox{R_{\\rm eff}}}$\n",
       "$\\newcommand{$\\dndt$}{\\hbox{\\frac{d{\\rm N}}{dt}}}$\n",
       "$\\newcommand{$\\cbound$}{\\hbox{C_{\\rm bound}}}$\n",
       "$\\newcommand{$\\relation$}{\\hbox{SFR vs. M_{V}^{\\rm brightest}}}$\n",
       "$\\newcommand{$\\clrelation$}{\\hbox{CFR vs. M_{V}^{\\rm brightest}}}$\n",
       "$\\newcommand{$\\mv$ten}{\\hbox{M_{\\rm V}^{10{\\rm Myr}}}}$\n",
       "$\\newcommand{$\\lir$}{\\hbox{L_{\\rm IR}}}$\n",
       "$\\newcommand{$\\msun$yr}{\\hbox{M_\\odotyr^{-1}}}$\n",
       "$\\newcommand{$\\dsfr$}{\\hbox{M_\\odotyr^{-1}kpc^{-2}}}$\n",
       "$\\newcommand{$\\Ne$}{\\hbox{N_{\\rm{e}}}}$\n",
       "$\\newcommand{$\\Te$}{\\hbox{T_{\\rm{e}}}}$\n",
       "$\\newcommand{$\\kms$}{\\hbox{km s^{-1}}}$\n",
       "$\\newcommand{$\\cm$3}{\\hbox{cm^{-3}}}$\n",
       "$\\newcommand{$\\one$}{ {\\sc i}}$\n",
       "$\\newcommand{$\\t$wo}{ {\\sc ii}}$\n",
       "$\\newcommand{$\\t$hree}{ {\\sc iii}}$\n",
       "$\\newcommand{$\\four$}{ {\\sc iv}}$</div>\n",
       "\n",
       "\n",
       "\n",
       "<div id=\"title\">\n",
       "\n",
       "#  FUV spectral analysis of the stellar light\n",
       "\n",
       "</div>\n",
       "<div id=\"comments\">\n",
       "\n",
       "[![arXiv](https://img.shields.io/badge/arXiv-2209.09914-b31b1b.svg)](https://arxiv.org/abs/2209.09914)<mark>Appeared on: 2022-09-22</mark> - _Accepted for publication on the Astronomical Journal on 16th September 2022. 26 pages, 12 figures_\n",
       "\n",
       "</div>\n",
       "<div id=\"authors\">\n",
       "\n",
       "M. Sirressi, et al. -- incl., <mark><mark>S. Hernandez</mark></mark>, <mark><mark>L. J. Smith</mark></mark>, <mark><mark>E. Schinnerer</mark></mark>\n",
       "\n",
       "</div>\n",
       "<div id=\"abstract\">\n",
       "\n",
       "**Abstract:** The CLusters in the Uv as EngineS (CLUES) survey is a Cosmic Origins Spectrograph (COS) campaign aimed at acquiring the 1130 to 1770\\AArestframe spectroscopy of very young ($<$20 Myr) and massive ($>10^4$\\msun) star clusters in galaxies that are part of the Hubble treasury program Legacy ExtraGalactic Uv Survey (LEGUS).In this first paper of a series, we describe the CLUES sample consisting of 20 young star clusters and report their physical properties as derived by both multi-wavelength photometry and far-UV (FUV) spectroscopy with Hubble Space Telescope (HST). Thanks to the synergy of the two different datasets we build a coherent picture of the diverse stellar populations found in each region (with sizes of 40 to 160 pc). We associate the FUV-brightest stellar population to the central targeted star cluster and the other modeled population to the diffuse stars that are included in the COS aperture. We observe better agreement between photometric and spectroscopic ages for star clusters younger than 5 Myr. For clusters older than 5 Myr, photometry and spectroscopy measurements deviate, with the latter producing older ages, due to the degeneracy of photometric models. FUV spectroscopy enables us to better constrain the stellar metallicities, a parameter that optical colors are insensitive to. Finally, the derived$E(B-V)$are quite similar, with a tendency for FUV spectroscopy to favor solutions with higher extinctions. The recovered masses are in agreement within a factor of 2 for all the clusters.\n",
       "\n",
       "</div>\n",
       "\n",
       "<div id=\"div_fig1\">\n",
       "\n",
       "<img src=\"tmp_2209.09914/./figures/ages.png\" alt=\"Fig7.1\" width=\"25%\"/><img src=\"tmp_2209.09914/./figures/metals.png\" alt=\"Fig7.2\" width=\"25%\"/><img src=\"tmp_2209.09914/./figures/ebvs.png\" alt=\"Fig7.3\" width=\"25%\"/><img src=\"tmp_2209.09914/./figures/masses.png\" alt=\"Fig7.4\" width=\"25%\"/>\n",
       "\n",
       "**Figure 7. -** Values of the best-fit parameters for ages, metallicities, reddening attenuations and masses of our different models. The grey dots represent the values derived from photometry. The blue and orange squares are the values for $\\t$extit{Pop 1} and $\\t$extit{Pop 2} respectively, of our double population model of the FUV spectroscopy, with their size proportional to their light flux contribution at 1270 Å. The green stars are the average values of our multiple population model. (*fig:parameters*)\n",
       "\n",
       "</div>\n",
       "<div id=\"div_fig2\">\n",
       "\n",
       "<img src=\"tmp_2209.09914/./figures/color_plot_CLUESsel_pad_MW.png\" alt=\"Fig2.1\" width=\"50%\"/><img src=\"tmp_2209.09914/./figures/age_mass_CLUESsel_pad_MW.png\" alt=\"Fig2.2\" width=\"50%\"/>\n",
       "\n",
       "**Figure 2. -** Parameter space spanned by the clusters belonging to the CLUES sample (cyan stars). The clusters that pass the first selection (class 1 and 2 with m$_{F275W} <$ 18 mag, $E(B-V)\\leq$ 0.3 mag, age $\\leq$ 30 Myr) are shown in both panels as grey dots. The left panel shows the FUV color, F275W$-$F438W (or F435W) vs. the optical color, F555W (or F606W)$-$F814W, of the clusters. Yggdrasil evolutionary tracks spanning the metallicity range of the LEGUS sample are included and the main age steps outlined. The arrow shows in which direction clusters would move if corrected by an internal reddening corresponding to $E(B-V)=0.3$ mag. In the right panel, we show the age vs. mass diagram of the sample. The violet band shows the detection limit corresponding m$_{F275W}=$18 mag as function of the metallicity (Z$=0.004$ and 0.02) and distance range of the LEGUS galaxies. (*fig:selection*)\n",
       "\n",
       "</div>\n",
       "<div id=\"div_fig3\">\n",
       "\n",
       "<img src=\"tmp_2209.09914/./figures/M74-2-good.png\" alt=\"Fig6.1\" width=\"12%\"/><img src=\"tmp_2209.09914/./figures/M74-2-good_ciii.png\" alt=\"Fig6.2\" width=\"12%\"/><img src=\"tmp_2209.09914/./figures/M74-2-good_nv.png\" alt=\"Fig6.3\" width=\"12%\"/><img src=\"tmp_2209.09914/./figures/M74-2-good_civ.png\" alt=\"Fig6.4\" width=\"12%\"/><img src=\"tmp_2209.09914/./figures/NGC1566-2-bad.png\" alt=\"Fig6.5\" width=\"12%\"/><img src=\"tmp_2209.09914/./figures/NGC1566-2-bad_ciii.png\" alt=\"Fig6.6\" width=\"12%\"/><img src=\"tmp_2209.09914/./figures/NGC1566-2-bad_nv.png\" alt=\"Fig6.7\" width=\"12%\"/><img src=\"tmp_2209.09914/./figures/NGC1566-2-bad_civ.png\" alt=\"Fig6.8\" width=\"12%\"/>\n",
       "\n",
       "**Figure 6. -** Two targets (M-74-YSC2 and NGC-1566-YSC2) as examples of the fits to the FUV spectra (black line) with the single/double-population model and the multi-population model (purple and green lines respectively). The two panels below each target show a zoom into the P-Cygni lines C III, N V and C IV. The example targets chosen for this figure are a good and a poor agreement for the stellar age between single/double pop. model and multi-pop. model. (*fig:example*)\n",
       "\n",
       "</div>"
      ],
      "text/plain": [
       "<IPython.core.display.Markdown object>"
      ]
     },
     "metadata": {},
     "output_type": "display_data"
    }
   ],
   "source": [
    "[display(Markdown(k[1])) for k in documents];"
   ]
  },
  {
   "cell_type": "markdown",
   "id": "873873a4",
   "metadata": {
    "papermill": {
     "duration": 0.009196,
     "end_time": "2022-09-22T05:14:39.753109",
     "exception": false,
     "start_time": "2022-09-22T05:14:39.743913",
     "status": "completed"
    },
    "tags": []
   },
   "source": [
    "# Create HTML index"
   ]
  },
  {
   "cell_type": "code",
   "execution_count": 10,
   "id": "cf665672",
   "metadata": {
    "execution": {
     "iopub.execute_input": "2022-09-22T05:14:39.773334Z",
     "iopub.status.busy": "2022-09-22T05:14:39.772618Z",
     "iopub.status.idle": "2022-09-22T05:14:39.781807Z",
     "shell.execute_reply": "2022-09-22T05:14:39.781141Z"
    },
    "papermill": {
     "duration": 0.021074,
     "end_time": "2022-09-22T05:14:39.783326",
     "exception": false,
     "start_time": "2022-09-22T05:14:39.762252",
     "status": "completed"
    },
    "tags": []
   },
   "outputs": [
    {
     "name": "stdout",
     "output_type": "stream",
     "text": [
      "40  publications in the last 7 days.\n",
      "\t _build/html/2209.09914.md\n",
      "\t _build/html/2209.09823.md\n",
      "\t _build/html/2209.08242.md\n",
      "\t _build/html/2209.08120.md\n",
      "\t _build/html/2209.08106.md\n",
      "\t _build/html/2209.07962.md\n",
      "\t _build/html/2209.07931.md\n",
      "\t _build/html/2209.06833.md\n",
      "\t _build/html/2209.05814.md\n",
      "\t _build/html/2209.05593.md\n",
      "\t _build/html/2209.04304.md\n",
      "\t _build/html/2209.03367.md\n",
      "\t _build/html/2209.02872.md\n",
      "\t _build/html/2209.02725.md\n",
      "\t _build/html/2209.02722.md\n",
      "\t _build/html/2209.02092.md\n",
      "\t _build/html/2209.01125.md\n",
      "\t _build/html/2209.00828.md\n",
      "\t _build/html/2209.00363.md\n",
      "\t _build/html/2208.14927.md\n",
      "\t _build/html/2208.09335.md\n",
      "\t _build/html/2208.08872.md\n",
      "\t _build/html/2204.06393.md\n",
      "\t _build/html/2204.03335.md\n",
      "\t _build/html/2204.03253.md\n",
      "\t _build/html/2204.02998.md\n",
      "\t _build/html/2204.02109.md\n",
      "\t _build/html/2204.02017.md\n",
      "\t _build/html/2204.01824.md\n",
      "\t _build/html/2204.01758.md\n",
      "\t _build/html/2204.01245.md\n",
      "\t _build/html/2204.00793.md\n",
      "\t _build/html/2204.00342.md\n",
      "\t _build/html/2203.16959.md\n",
      "\t _build/html/2203.16856.md\n",
      "\t _build/html/2203.16735.md\n",
      "\t _build/html/2203.16734.md\n",
      "\t _build/html/2203.16504.md\n",
      "\t _build/html/2203.15822.md\n",
      "\t _build/html/2203.15811.md\n"
     ]
    }
   ],
   "source": [
    "from datetime import datetime, timedelta, timezone\n",
    "from glob import glob\n",
    "\n",
    "files = glob('_build/html/*.md')\n",
    "days = 7\n",
    "now = datetime.today()\n",
    "res = []\n",
    "for fk in files:\n",
    "    stat_result = os.stat(fk).st_ctime\n",
    "    modified = datetime.fromtimestamp(stat_result, tz=timezone.utc).replace(tzinfo=None)\n",
    "    delta = now.today() - modified\n",
    "    if delta <= timedelta(days=days):\n",
    "        res.append((delta.seconds, fk))\n",
    "res = [k[1] for k in reversed(sorted(res, key=lambda x:x[1]))]\n",
    "npub = len(res)\n",
    "print(len(res), f\" publications in the last {days:d} days.\")\n",
    "[ print('\\t', k) for k in res ];"
   ]
  },
  {
   "cell_type": "code",
   "execution_count": 11,
   "id": "52ca0208",
   "metadata": {
    "execution": {
     "iopub.execute_input": "2022-09-22T05:14:39.803913Z",
     "iopub.status.busy": "2022-09-22T05:14:39.803080Z",
     "iopub.status.idle": "2022-09-22T05:14:39.809906Z",
     "shell.execute_reply": "2022-09-22T05:14:39.809291Z"
    },
    "papermill": {
     "duration": 0.018652,
     "end_time": "2022-09-22T05:14:39.811422",
     "exception": false,
     "start_time": "2022-09-22T05:14:39.792770",
     "status": "completed"
    },
    "scrolled": false,
    "tags": []
   },
   "outputs": [],
   "source": [
    "def create_carousel(npub=4):\n",
    "    \"\"\" Generate the HTML code for a carousel with `npub` slides \"\"\"\n",
    "    carousel = [\"\"\"<section class=\"carousel\" aria-label=\"Gallery\">\"\"\",\n",
    "                \"\"\"  <ol class=\"carousel__viewport\">\"\"\",\n",
    "    ]\n",
    "    for k in range(1, npub + 1):\n",
    "        prev_ = k - 1\n",
    "        next_ = k + 1\n",
    "        if prev_ <= 0:\n",
    "            prev_ = npub\n",
    "        if next_ > npub:\n",
    "            next_ = 1\n",
    "        text  = f\"\"\"    <li id=\"carousel__slide{k}\" tabindex=\"0\" class=\"carousel__slide\">\\n\"\"\"\n",
    "        text += f\"\"\"       <div class=\"carousel__snapper\">\\n\"\"\"\n",
    "        text += f\"\"\"         <a href=\"#carousel__slide{prev_}\" class=\"carousel__prev\">Go to previous slide</a>\\n\"\"\"\n",
    "        text += f\"\"\"         <a href=\"#carousel__slide{next_}\" class=\"carousel__next\">Go to next slide</a>\\n\"\"\"\n",
    "        text += f\"\"\"         <div id=\"slide{k}_content\" class=\"md_view\" >Content {k}</div>\\n\"\"\"\n",
    "        text += f\"\"\"       </div>\\n\"\"\"\n",
    "        text += f\"\"\"    </li>\"\"\"\n",
    "        carousel.append(text)\n",
    "\n",
    "    carousel.extend([\n",
    "        \"\"\"  </ol>\"\"\",\n",
    "        \"\"\"  <aside class=\"carousel__navigation\">\"\"\",\n",
    "        \"\"\"    <ol class=\"carousel__navigation-list\">\"\"\"])\n",
    "\n",
    "    for k in range(1, npub + 1):\n",
    "        text  = f\"\"\"      <li class=\"carousel__navigation-item\">\\n\"\"\"\n",
    "        text += f\"\"\"        <a href=\"#carousel__slide{k}\" class=\"carousel__navigation-button\">Go to {k}</a>\\n\"\"\"\n",
    "        text += f\"\"\"      </li>\"\"\"\n",
    "        carousel.append(text)\n",
    "    carousel.extend([\"\"\"    </ol>\"\"\", \"\"\"  </aside>\"\"\", \"\"\"</section>\"\"\"])\n",
    "\n",
    "    return '\\n'.join(carousel)"
   ]
  },
  {
   "cell_type": "code",
   "execution_count": 12,
   "id": "a6eac5b6",
   "metadata": {
    "execution": {
     "iopub.execute_input": "2022-09-22T05:14:39.831743Z",
     "iopub.status.busy": "2022-09-22T05:14:39.831243Z",
     "iopub.status.idle": "2022-09-22T05:14:39.839261Z",
     "shell.execute_reply": "2022-09-22T05:14:39.838633Z"
    },
    "papermill": {
     "duration": 0.020174,
     "end_time": "2022-09-22T05:14:39.840810",
     "exception": false,
     "start_time": "2022-09-22T05:14:39.820636",
     "status": "completed"
    },
    "scrolled": false,
    "tags": []
   },
   "outputs": [],
   "source": [
    "carousel = create_carousel(npub)\n",
    "docs = ', '.join(['\"{0:s}\"'.format(k.split('/')[-1]) for k in res])\n",
    "slides = ', '.join([f'\"slide{k}_content\"' for k in range(1, npub + 1)])\n",
    "\n",
    "script = f\"\"\"\n",
    "const docs = [{docs}]\n",
    "\n",
    "const slides = [{slides}]\n",
    "\"\"\" + \"\"\"\n",
    "async function run() {\n",
    "    for (let i = 0; i < docs.length; i++) {\n",
    "        let file = await fetch(docs[i]);\n",
    "        let text = await file.text()\n",
    "        document.getElementById(slides[i]).innerHTML =\n",
    "            marked.parse(text);\n",
    "    }\n",
    "    hljs.highlightAll();\n",
    "}\n",
    "run()\n",
    "\"\"\"\n",
    "\n",
    "page = f\"\"\"<!doctype html>\n",
    "<html lang=\"en\">\n",
    "\n",
    "<head>\n",
    "  <meta charset=\"utf-8\">\n",
    "  <meta name=\"viewport\" content=\"width=device-width, initial-scale=1\">\n",
    "  <!-- Bootstrap CSS -->\n",
    "  <link href=\"https://cdn.jsdelivr.net/npm/bootstrap@5.0.2/dist/css/bootstrap.min.css\" rel=\"stylesheet\"\n",
    "   integrity=\"sha384-EVSTQN3/azprG1Anm3QDgpJLIm9Nao0Yz1ztcQTwFspd3yD65VohhpuuCOmLASjC\" crossorigin=\"anonymous\">\n",
    "  <!-- highlight.js CSS -->\n",
    "  <link rel=\"stylesheet\" href=\"https://cdnjs.cloudflare.com/ajax/libs/highlight.js/11.1.0/styles/default.min.css\">\n",
    "  <!-- Mathjax 3 -->\n",
    "  <script type=\"text/javascript\" id=\"MathJax-config\" src=\"mathjax_config.js\"> </script>\n",
    "  <script type=\"text/javascript\" id=\"MathJax-script\" async \n",
    "    src=\"https://cdn.jsdelivr.net/npm/mathjax@3/es5/tex-mml-chtml.js\">\n",
    "  </script>\n",
    "  <link rel=\"stylesheet\" href=\"index_carousel.css\">\n",
    "  <link rel=\"icon\" type=\"image/x-icon\" href=\"https://www.mpia.de/assets/touch-icon-32x32-a66937bcebc4e8894ebff1f41a366c7c7220fd97a38869ee0f2db65a9f59b6c1.png\">\n",
    "  <title>MPIA Arxiv on deck!</title>\n",
    "</head>\n",
    "\n",
    "<body>\n",
    "  <div id=\"header\"> <img src=\"header_banner.png\" width=\"100%\"></div>\n",
    "  <div id=\"suptitle\"> 7-day archives </div>\n",
    "  <div id=\"info\">\n",
    "    <img src=\"https://pngimg.com/uploads/github/github_PNG58.png\" height=30rem></img>\n",
    "    <a href=https://github.com/mpi-astronomy/arxiv_display style=\"color:black;\">github/mpi-astronomy/arxiv_display</a> \n",
    "  </div>\n",
    "  {carousel:s}\n",
    "</body>\n",
    "\n",
    "<!-- Render Markdown -->\n",
    "\n",
    "<body>\n",
    "  <!-- highlight.js: https://highlightjs.org/download/ -->\n",
    "  <script src=\"https://cdnjs.cloudflare.com/ajax/libs/highlight.js/11.5.0/highlight.min.js\"></script>\n",
    "  <!-- marked.js -->\n",
    "  <script src=\"https://cdn.jsdelivr.net/npm/marked/marked.min.js\"></script>\n",
    "  <script>{script:s}</script>\n",
    "</body>\n",
    "</html>\n",
    "\"\"\"\n",
    "with open(\"_build/html/index_7days.html\", 'w') as fout:\n",
    "    fout.write(page)"
   ]
  },
  {
   "cell_type": "markdown",
   "id": "1cebacbc",
   "metadata": {
    "papermill": {
     "duration": 0.009399,
     "end_time": "2022-09-22T05:14:39.859542",
     "exception": false,
     "start_time": "2022-09-22T05:14:39.850143",
     "status": "completed"
    },
    "tags": []
   },
   "source": [
    "# Debugging papers"
   ]
  },
  {
   "cell_type": "raw",
   "id": "debe7cc6",
   "metadata": {
    "papermill": {
     "duration": 0.009357,
     "end_time": "2022-09-22T05:14:39.878241",
     "exception": false,
     "start_time": "2022-09-22T05:14:39.868884",
     "status": "completed"
    },
    "tags": []
   },
   "source": [
    "raise NotImplementedError(\"Manual Stop\")"
   ]
  },
  {
   "cell_type": "raw",
   "id": "eb169192",
   "metadata": {
    "papermill": {
     "duration": 0.009251,
     "end_time": "2022-09-22T05:14:39.897474",
     "exception": false,
     "start_time": "2022-09-22T05:14:39.888223",
     "status": "completed"
    },
    "scrolled": true,
    "tags": []
   },
   "source": [
    "from IPython.display import display, Markdown\n",
    "from TexSoup import TexSoup\n",
    "import re\n",
    "\n",
    "def bracket_error(source: str):\n",
    "    \"\"\" Find problematic portions of the document \"\"\"\n",
    "    \n",
    "    print(\"len(source)\", len(source))\n",
    "    \n",
    "    # Checking header\n",
    "    begin_doc = next(re.finditer(r'\\\\begin\\{document\\}', doc.source)).span()[1]\n",
    "    header = source[:begin_doc]\n",
    "    text = header + r\"\\n\\end{document}\"\n",
    "\n",
    "    try:\n",
    "        # print(\"Header check... \", end='')\n",
    "        TexSoup(text)\n",
    "        display(Markdown(f\"**[OK]** - Header\"))\n",
    "    except:\n",
    "        raise RuntimeError(\"Error in the header\")\n",
    "        \n",
    "    # Check the text per section until the end.\n",
    "    # Do not stop and try them all.\n",
    "    \n",
    "    problematic_text = []\n",
    "    \n",
    "    sections = ([(0, begin_doc, 'until first section')] + \n",
    "                [(g.span()[0], g.span()[1], g.group()) for g in re.finditer(r'\\\\section\\{.*\\}', source)] +\n",
    "                [(g.span()[0], g.span()[1], g.group()) for g in re.finditer(r'\\\\begin\\{appendix\\}', source)]\n",
    "               )\n",
    "    sections.append([len(source), len(source), 'end'])\n",
    "    \n",
    "    sections = sorted(sections, key=lambda x: x[0])\n",
    "    \n",
    "    prev_pos, prev_name = (0, 'header')\n",
    "    parsed = []\n",
    "    \n",
    "    for span, span_end, name in sections:\n",
    "\n",
    "        if span - prev_pos <= 0:\n",
    "            continue\n",
    "            \n",
    "\n",
    "        text = source[prev_pos:span]\n",
    "        if prev_pos > begin_doc:\n",
    "            text = r\"\\n\\begin{document}\" + text + r\"\\n\\end{document}\"\n",
    "        else:\n",
    "            text = text + r\"\\n\\end{document}\"\n",
    "        try:\n",
    "            #print(f\"{prev_pos}:{prev_name}-->{span}:{name} check... \", end='')\n",
    "            parsed.append(TexSoup(text, tolerance=1))  # allow not ending env\n",
    "            display(Markdown(f\"**[OK]** - *{prev_pos}*:{prev_name} &rarr; *{span}*:{name}\"))\n",
    "            # print(\"ok\")\n",
    "\n",
    "            prev_pos = span\n",
    "            prev_name = name\n",
    "        except:\n",
    "            # print(f\"error between {prev_pos} and {span}\")\n",
    "            display(Markdown(f\"**[ERR]** *{prev_pos}*:{prev_name} &rarr; *{span}*:{name}\"))\n",
    "            problematic_text.append((prev_pos, source[prev_pos:span]))\n",
    "            prev_pos = span\n",
    "            prev_name = name\n",
    "            # raise\n",
    "    return problematic_text, parsed\n",
    "\n",
    "\n",
    "def check_environment(text, offset=0):\n",
    "    \"\"\" Check environment \"\"\"\n",
    "    env = re.compile(r\"\\\\begin\\{(?P<env>.*)\\}(.*)\\\\end\\{(?P=env)\\}\", re.DOTALL)\n",
    "\n",
    "    for match in env.finditer(text):\n",
    "        beg, end = match.span()\n",
    "        beg += offset\n",
    "        end += offset\n",
    "        envname = match.groups()[0]\n",
    "        try:\n",
    "            latex.TexSoup(match.group())\n",
    "        except Exception as e:\n",
    "            display(e)\n",
    "            print(f\"Error in {envname:s} between {beg} and {end}\")\n",
    "            return match.groups()[1], beg, end"
   ]
  },
  {
   "cell_type": "raw",
   "id": "2315e835",
   "metadata": {
    "papermill": {
     "duration": 0.009538,
     "end_time": "2022-09-22T05:14:39.916338",
     "exception": false,
     "start_time": "2022-09-22T05:14:39.906800",
     "status": "completed"
    },
    "scrolled": false,
    "tags": []
   },
   "source": [
    "import importlib\n",
    "importlib.reload(latex)\n",
    "which = \"2204.03253\"\n",
    "paper_id = f'{which:s}'\n",
    "folder = f'tmp_{paper_id:s}'\n",
    "\n",
    "if not os.path.isdir(folder):\n",
    "    folder = retrieve_document_source(f\"{paper_id}\", f'tmp_{paper_id}')\n",
    "\n",
    "try:\n",
    "    doc = latex.LatexDocument(folder, validation=validation)    \n",
    "except AffiliationError as affilerror:\n",
    "    msg = f\"ArXiv:{paper_id:s} is not an MPIA paper... \" + str(affilerror)\n",
    "    print(msg)\n",
    "\n",
    "\n",
    "# Hack because sometimes author parsing does not work well\n",
    "if (len(doc.authors) != len(paper['authors'])):\n",
    "    doc._authors = paper['authors']\n",
    "if (doc.abstract) in (None, ''):\n",
    "    doc._abstract = paper['abstract']\n",
    "\n",
    "doc.comment = get_markdown_badge(paper_id) + \" _\" + paper['comments'] + \"_\"\n",
    "doc.highlight_authors_in_list(hl_list)\n",
    "\n",
    "full_md = doc.generate_markdown_text()"
   ]
  },
  {
   "cell_type": "raw",
   "id": "dd3781db",
   "metadata": {
    "papermill": {
     "duration": 0.009386,
     "end_time": "2022-09-22T05:14:39.967837",
     "exception": false,
     "start_time": "2022-09-22T05:14:39.958451",
     "status": "completed"
    },
    "scrolled": false,
    "tags": []
   },
   "source": [
    "doc"
   ]
  },
  {
   "cell_type": "raw",
   "id": "c6eed834",
   "metadata": {
    "papermill": {
     "duration": 0.009237,
     "end_time": "2022-09-22T05:14:39.986315",
     "exception": false,
     "start_time": "2022-09-22T05:14:39.977078",
     "status": "completed"
    },
    "tags": []
   },
   "source": [
    "# [check_environment(k) for k in bracket_error(doc.source)]\n",
    "_, _, a = latex.get_content_per_section(doc.source, verbose=True)\n",
    "if not a:\n",
    "    print(\"no issues per section\")\n",
    "for ak in a:\n",
    "    r = check_environment(ak[1], offset=ak[0])\n",
    "    print(r[1], r[2])\n",
    "    print(r[0])"
   ]
  },
  {
   "cell_type": "code",
   "execution_count": null,
   "id": "71ce768a",
   "metadata": {
    "papermill": {
     "duration": 0.010783,
     "end_time": "2022-09-22T05:14:40.006302",
     "exception": false,
     "start_time": "2022-09-22T05:14:39.995519",
     "status": "completed"
    },
    "tags": []
   },
   "outputs": [],
   "source": []
  }
 ],
 "metadata": {
  "kernelspec": {
   "display_name": "Python 3.10.6 64-bit",
   "language": "python",
   "name": "python3"
  },
  "language_info": {
   "codemirror_mode": {
    "name": "ipython",
    "version": 3
   },
   "file_extension": ".py",
   "mimetype": "text/x-python",
   "name": "python",
   "nbconvert_exporter": "python",
   "pygments_lexer": "ipython3",
   "version": "3.9.13"
  },
  "papermill": {
   "default_parameters": {},
   "duration": 80.214422,
   "end_time": "2022-09-22T05:14:40.233420",
   "environment_variables": {},
   "exception": null,
   "input_path": "MPIA daily digest.ipynb",
   "output_path": "log.ipynb",
   "parameters": {},
   "start_time": "2022-09-22T05:13:20.018998",
   "version": "2.4.0"
  },
  "vscode": {
   "interpreter": {
    "hash": "e7370f93d1d0cde622a1f8e1c04877d8463912d04d973331ad4851f04de6915a"
   }
  },
  "widgets": {
   "application/vnd.jupyter.widget-state+json": {
    "state": {
     "2f1d59c1d1ab4b4584c9a4f4d36df473": {
      "model_module": "@jupyter-widgets/base",
      "model_module_version": "2.0.0",
      "model_name": "LayoutModel",
      "state": {
       "_model_module": "@jupyter-widgets/base",
       "_model_module_version": "2.0.0",
       "_model_name": "LayoutModel",
       "_view_count": null,
       "_view_module": "@jupyter-widgets/base",
       "_view_module_version": "2.0.0",
       "_view_name": "LayoutView",
       "align_content": null,
       "align_items": null,
       "align_self": null,
       "border_bottom": null,
       "border_left": null,
       "border_right": null,
       "border_top": null,
       "bottom": null,
       "display": null,
       "flex": null,
       "flex_flow": null,
       "grid_area": null,
       "grid_auto_columns": null,
       "grid_auto_flow": null,
       "grid_auto_rows": null,
       "grid_column": null,
       "grid_gap": null,
       "grid_row": null,
       "grid_template_areas": null,
       "grid_template_columns": null,
       "grid_template_rows": null,
       "height": null,
       "justify_content": null,
       "justify_items": null,
       "left": null,
       "margin": null,
       "max_height": null,
       "max_width": null,
       "min_height": null,
       "min_width": null,
       "object_fit": null,
       "object_position": null,
       "order": null,
       "overflow": null,
       "padding": null,
       "right": null,
       "top": null,
       "visibility": null,
       "width": null
      }
     },
     "36727777b4b44de9ba49022be84cc327": {
      "model_module": "@jupyter-widgets/controls",
      "model_module_version": "2.0.0",
      "model_name": "HTMLModel",
      "state": {
       "_dom_classes": [],
       "_model_module": "@jupyter-widgets/controls",
       "_model_module_version": "2.0.0",
       "_model_name": "HTMLModel",
       "_view_count": null,
       "_view_module": "@jupyter-widgets/controls",
       "_view_module_version": "2.0.0",
       "_view_name": "HTMLView",
       "description": "",
       "description_allow_html": false,
       "layout": "IPY_MODEL_ae145824dabd45bcbcadd0edcc1bdb52",
       "placeholder": "​",
       "style": "IPY_MODEL_97167d813b7e4921bcdf0d3244b961d6",
       "tabbable": null,
       "tooltip": null,
       "value": " 20/20 [00:54&lt;00:00,  1.53s/it]"
      }
     },
     "4a6d367f5e0849b1a142c4b628306c74": {
      "model_module": "@jupyter-widgets/base",
      "model_module_version": "2.0.0",
      "model_name": "LayoutModel",
      "state": {
       "_model_module": "@jupyter-widgets/base",
       "_model_module_version": "2.0.0",
       "_model_name": "LayoutModel",
       "_view_count": null,
       "_view_module": "@jupyter-widgets/base",
       "_view_module_version": "2.0.0",
       "_view_name": "LayoutView",
       "align_content": null,
       "align_items": null,
       "align_self": null,
       "border_bottom": null,
       "border_left": null,
       "border_right": null,
       "border_top": null,
       "bottom": null,
       "display": null,
       "flex": null,
       "flex_flow": null,
       "grid_area": null,
       "grid_auto_columns": null,
       "grid_auto_flow": null,
       "grid_auto_rows": null,
       "grid_column": null,
       "grid_gap": null,
       "grid_row": null,
       "grid_template_areas": null,
       "grid_template_columns": null,
       "grid_template_rows": null,
       "height": null,
       "justify_content": null,
       "justify_items": null,
       "left": null,
       "margin": null,
       "max_height": null,
       "max_width": null,
       "min_height": null,
       "min_width": null,
       "object_fit": null,
       "object_position": null,
       "order": null,
       "overflow": null,
       "padding": null,
       "right": null,
       "top": null,
       "visibility": null,
       "width": null
      }
     },
     "554af5f6a4734be29afb0b8989be838f": {
      "model_module": "@jupyter-widgets/controls",
      "model_module_version": "2.0.0",
      "model_name": "HTMLStyleModel",
      "state": {
       "_model_module": "@jupyter-widgets/controls",
       "_model_module_version": "2.0.0",
       "_model_name": "HTMLStyleModel",
       "_view_count": null,
       "_view_module": "@jupyter-widgets/base",
       "_view_module_version": "2.0.0",
       "_view_name": "StyleView",
       "background": null,
       "description_width": "",
       "font_size": null,
       "text_color": null
      }
     },
     "804d43aa077a41cd8ff9f27f7bc2d4a3": {
      "model_module": "@jupyter-widgets/controls",
      "model_module_version": "2.0.0",
      "model_name": "ProgressStyleModel",
      "state": {
       "_model_module": "@jupyter-widgets/controls",
       "_model_module_version": "2.0.0",
       "_model_name": "ProgressStyleModel",
       "_view_count": null,
       "_view_module": "@jupyter-widgets/base",
       "_view_module_version": "2.0.0",
       "_view_name": "StyleView",
       "bar_color": null,
       "description_width": ""
      }
     },
     "837c1e9329184790830c3277ba13273b": {
      "model_module": "@jupyter-widgets/controls",
      "model_module_version": "2.0.0",
      "model_name": "HTMLModel",
      "state": {
       "_dom_classes": [],
       "_model_module": "@jupyter-widgets/controls",
       "_model_module_version": "2.0.0",
       "_model_name": "HTMLModel",
       "_view_count": null,
       "_view_module": "@jupyter-widgets/controls",
       "_view_module_version": "2.0.0",
       "_view_name": "HTMLView",
       "description": "",
       "description_allow_html": false,
       "layout": "IPY_MODEL_e85f4879a0b14ff49d85dafafe1d80ea",
       "placeholder": "​",
       "style": "IPY_MODEL_554af5f6a4734be29afb0b8989be838f",
       "tabbable": null,
       "tooltip": null,
       "value": "100%"
      }
     },
     "97167d813b7e4921bcdf0d3244b961d6": {
      "model_module": "@jupyter-widgets/controls",
      "model_module_version": "2.0.0",
      "model_name": "HTMLStyleModel",
      "state": {
       "_model_module": "@jupyter-widgets/controls",
       "_model_module_version": "2.0.0",
       "_model_name": "HTMLStyleModel",
       "_view_count": null,
       "_view_module": "@jupyter-widgets/base",
       "_view_module_version": "2.0.0",
       "_view_name": "StyleView",
       "background": null,
       "description_width": "",
       "font_size": null,
       "text_color": null
      }
     },
     "aa917fe8b23a49a89387513e2b5db97a": {
      "model_module": "@jupyter-widgets/controls",
      "model_module_version": "2.0.0",
      "model_name": "FloatProgressModel",
      "state": {
       "_dom_classes": [],
       "_model_module": "@jupyter-widgets/controls",
       "_model_module_version": "2.0.0",
       "_model_name": "FloatProgressModel",
       "_view_count": null,
       "_view_module": "@jupyter-widgets/controls",
       "_view_module_version": "2.0.0",
       "_view_name": "ProgressView",
       "bar_style": "success",
       "description": "",
       "description_allow_html": false,
       "layout": "IPY_MODEL_4a6d367f5e0849b1a142c4b628306c74",
       "max": 20.0,
       "min": 0.0,
       "orientation": "horizontal",
       "style": "IPY_MODEL_804d43aa077a41cd8ff9f27f7bc2d4a3",
       "tabbable": null,
       "tooltip": null,
       "value": 20.0
      }
     },
     "ae145824dabd45bcbcadd0edcc1bdb52": {
      "model_module": "@jupyter-widgets/base",
      "model_module_version": "2.0.0",
      "model_name": "LayoutModel",
      "state": {
       "_model_module": "@jupyter-widgets/base",
       "_model_module_version": "2.0.0",
       "_model_name": "LayoutModel",
       "_view_count": null,
       "_view_module": "@jupyter-widgets/base",
       "_view_module_version": "2.0.0",
       "_view_name": "LayoutView",
       "align_content": null,
       "align_items": null,
       "align_self": null,
       "border_bottom": null,
       "border_left": null,
       "border_right": null,
       "border_top": null,
       "bottom": null,
       "display": null,
       "flex": null,
       "flex_flow": null,
       "grid_area": null,
       "grid_auto_columns": null,
       "grid_auto_flow": null,
       "grid_auto_rows": null,
       "grid_column": null,
       "grid_gap": null,
       "grid_row": null,
       "grid_template_areas": null,
       "grid_template_columns": null,
       "grid_template_rows": null,
       "height": null,
       "justify_content": null,
       "justify_items": null,
       "left": null,
       "margin": null,
       "max_height": null,
       "max_width": null,
       "min_height": null,
       "min_width": null,
       "object_fit": null,
       "object_position": null,
       "order": null,
       "overflow": null,
       "padding": null,
       "right": null,
       "top": null,
       "visibility": null,
       "width": null
      }
     },
     "e7d2c2ee8af14d9e94d36526db1e23f6": {
      "model_module": "@jupyter-widgets/controls",
      "model_module_version": "2.0.0",
      "model_name": "HBoxModel",
      "state": {
       "_dom_classes": [],
       "_model_module": "@jupyter-widgets/controls",
       "_model_module_version": "2.0.0",
       "_model_name": "HBoxModel",
       "_view_count": null,
       "_view_module": "@jupyter-widgets/controls",
       "_view_module_version": "2.0.0",
       "_view_name": "HBoxView",
       "box_style": "",
       "children": [
        "IPY_MODEL_837c1e9329184790830c3277ba13273b",
        "IPY_MODEL_aa917fe8b23a49a89387513e2b5db97a",
        "IPY_MODEL_36727777b4b44de9ba49022be84cc327"
       ],
       "layout": "IPY_MODEL_2f1d59c1d1ab4b4584c9a4f4d36df473",
       "tabbable": null,
       "tooltip": null
      }
     },
     "e85f4879a0b14ff49d85dafafe1d80ea": {
      "model_module": "@jupyter-widgets/base",
      "model_module_version": "2.0.0",
      "model_name": "LayoutModel",
      "state": {
       "_model_module": "@jupyter-widgets/base",
       "_model_module_version": "2.0.0",
       "_model_name": "LayoutModel",
       "_view_count": null,
       "_view_module": "@jupyter-widgets/base",
       "_view_module_version": "2.0.0",
       "_view_name": "LayoutView",
       "align_content": null,
       "align_items": null,
       "align_self": null,
       "border_bottom": null,
       "border_left": null,
       "border_right": null,
       "border_top": null,
       "bottom": null,
       "display": null,
       "flex": null,
       "flex_flow": null,
       "grid_area": null,
       "grid_auto_columns": null,
       "grid_auto_flow": null,
       "grid_auto_rows": null,
       "grid_column": null,
       "grid_gap": null,
       "grid_row": null,
       "grid_template_areas": null,
       "grid_template_columns": null,
       "grid_template_rows": null,
       "height": null,
       "justify_content": null,
       "justify_items": null,
       "left": null,
       "margin": null,
       "max_height": null,
       "max_width": null,
       "min_height": null,
       "min_width": null,
       "object_fit": null,
       "object_position": null,
       "order": null,
       "overflow": null,
       "padding": null,
       "right": null,
       "top": null,
       "visibility": null,
       "width": null
      }
     }
    },
    "version_major": 2,
    "version_minor": 0
   }
  }
 },
 "nbformat": 4,
 "nbformat_minor": 5
}