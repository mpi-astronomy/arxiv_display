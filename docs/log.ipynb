{
 "cells": [
  {
   "cell_type": "markdown",
   "id": "92bcb855",
   "metadata": {
    "papermill": {
     "duration": 0.003603,
     "end_time": "2025-04-15T04:11:57.209966",
     "exception": false,
     "start_time": "2025-04-15T04:11:57.206363",
     "status": "completed"
    },
    "tags": []
   },
   "source": [
    "# MPIA Arxiv on Deck 2\n",
    "\n",
    "Contains the steps to produce the paper extractions."
   ]
  },
  {
   "cell_type": "code",
   "execution_count": 1,
   "id": "3a0d6e11",
   "metadata": {
    "execution": {
     "iopub.execute_input": "2025-04-15T04:11:57.217619Z",
     "iopub.status.busy": "2025-04-15T04:11:57.217012Z",
     "iopub.status.idle": "2025-04-15T04:11:57.681031Z",
     "shell.execute_reply": "2025-04-15T04:11:57.680403Z"
    },
    "papermill": {
     "duration": 0.469158,
     "end_time": "2025-04-15T04:11:57.682417",
     "exception": false,
     "start_time": "2025-04-15T04:11:57.213259",
     "status": "completed"
    },
    "tags": []
   },
   "outputs": [],
   "source": [
    "# Imports\n",
    "import os\n",
    "from IPython.display import Markdown, display\n",
    "from tqdm.notebook import tqdm\n",
    "import warnings\n",
    "from PIL import Image \n",
    "import re\n",
    "\n",
    "# requires arxiv_on_deck_2\n",
    "\n",
    "from arxiv_on_deck_2.arxiv2 import (get_new_papers, \n",
    "                                    get_paper_from_identifier,\n",
    "                                    retrieve_document_source, \n",
    "                                    get_markdown_badge)\n",
    "from arxiv_on_deck_2 import (latex,\n",
    "                             latex_bib,\n",
    "                             mpia,\n",
    "                             highlight_authors_in_list)\n",
    "\n",
    "# Sometimes images are really big\n",
    "Image.MAX_IMAGE_PIXELS = 1000000000 "
   ]
  },
  {
   "cell_type": "code",
   "execution_count": 2,
   "id": "22aa9d44",
   "metadata": {
    "execution": {
     "iopub.execute_input": "2025-04-15T04:11:57.689889Z",
     "iopub.status.busy": "2025-04-15T04:11:57.689431Z",
     "iopub.status.idle": "2025-04-15T04:11:57.697514Z",
     "shell.execute_reply": "2025-04-15T04:11:57.696854Z"
    },
    "papermill": {
     "duration": 0.012865,
     "end_time": "2025-04-15T04:11:57.698578",
     "exception": false,
     "start_time": "2025-04-15T04:11:57.685713",
     "status": "completed"
    },
    "tags": []
   },
   "outputs": [],
   "source": [
    "# Some useful definitions.\n",
    "\n",
    "class AffiliationWarning(UserWarning):\n",
    "    pass\n",
    "\n",
    "class AffiliationError(RuntimeError):\n",
    "    pass\n",
    "\n",
    "def validation(source: str):\n",
    "    \"\"\"Raises error paper during parsing of source file\n",
    "    \n",
    "    Allows checks before parsing TeX code.\n",
    "    \n",
    "    Raises AffiliationWarning\n",
    "    \"\"\"\n",
    "    check = mpia.affiliation_verifications(source, verbose=True)\n",
    "    if check is not True:\n",
    "        raise AffiliationError(\"mpia.affiliation_verifications: \" + check)\n",
    "\n",
    "        \n",
    "warnings.simplefilter('always', AffiliationWarning)\n",
    "\n",
    "\n",
    "def get_markdown_qrcode(paper_id: str):\n",
    "    \"\"\" Generate a qrcode to the arxiv page using qrserver.com\n",
    "    \n",
    "    :param paper: Arxiv paper\n",
    "    :returns: markdown text\n",
    "    \"\"\"\n",
    "    url = r\"https://api.qrserver.com/v1/create-qr-code/?size=100x100&data=\"\n",
    "    txt = f\"\"\"<img src={url}\"https://arxiv.org/abs/{paper_id}\">\"\"\"\n",
    "    txt = '<div id=\"qrcode\">' + txt + '</div>'\n",
    "    return txt\n",
    "\n",
    "\n",
    "def clean_non_western_encoded_characters_commands(text: str) -> str:\n",
    "    \"\"\" Remove non-western encoded characters from a string\n",
    "    List may need to grow.\n",
    "    \n",
    "    :param text: the text to clean\n",
    "    :return: the cleaned text\n",
    "    \"\"\"\n",
    "    text = re.sub(r\"(\\\\begin{CJK}{UTF8}{gbsn})(.*?)(\\\\end{CJK})\", r\"\\2\", text)\n",
    "    return text\n",
    "\n",
    "\n",
    "def get_initials(name: str) -> str:\n",
    "    \"\"\" Get the short name, e.g., A.-B. FamName\n",
    "    :param name: full name\n",
    "    :returns: initials\n",
    "    \"\"\"\n",
    "    initials = []\n",
    "    # account for non western names often in ()\n",
    "    if '(' in name:\n",
    "        name = clean_non_western_encoded_characters_commands(name)\n",
    "        suffix = re.findall(r\"\\((.*?)\\)\", name)[0]\n",
    "        name = name.replace(f\"({suffix})\", '')\n",
    "    else:\n",
    "        suffix = ''\n",
    "    split = name.split()\n",
    "    for token in split[:-1]:\n",
    "        if '-' in token:\n",
    "            current = '-'.join([k[0] + '.' for k in token.split('-')])\n",
    "        else:\n",
    "            current = token[0] + '.'\n",
    "        initials.append(current)\n",
    "    initials.append(split[-1].strip())\n",
    "    if suffix:\n",
    "        initials.append(f\"({suffix})\")\n",
    "    return ' '.join(initials)"
   ]
  },
  {
   "cell_type": "markdown",
   "id": "14bd6310",
   "metadata": {
    "papermill": {
     "duration": 0.002891,
     "end_time": "2025-04-15T04:11:57.704411",
     "exception": false,
     "start_time": "2025-04-15T04:11:57.701520",
     "status": "completed"
    },
    "tags": []
   },
   "source": [
    "## get list of arxiv paper candidates\n",
    "\n",
    "We use the MPIA mitarbeiter list webpage from mpia.de to get author names\n",
    "We then get all new papers from Arxiv and match authors"
   ]
  },
  {
   "cell_type": "code",
   "execution_count": 3,
   "id": "7ea813a8",
   "metadata": {
    "execution": {
     "iopub.execute_input": "2025-04-15T04:11:57.711355Z",
     "iopub.status.busy": "2025-04-15T04:11:57.710834Z",
     "iopub.status.idle": "2025-04-15T04:12:18.397320Z",
     "shell.execute_reply": "2025-04-15T04:12:18.396686Z"
    },
    "papermill": {
     "duration": 20.691277,
     "end_time": "2025-04-15T04:12:18.398592",
     "exception": false,
     "start_time": "2025-04-15T04:11:57.707315",
     "status": "completed"
    },
    "tags": []
   },
   "outputs": [],
   "source": [
    "# deal with the author list and edge cases of people that cannot be consistent on their name  \n",
    "\n",
    "def filter_non_scientists(name: str) -> bool:\n",
    "    \"\"\" Loose filter on expected authorships\n",
    "\n",
    "    removing IT, administration, technical staff\n",
    "    :param name: name\n",
    "    :returns: False if name is not a scientist\n",
    "    \"\"\"\n",
    "    remove_list = ['Licht', 'Binroth', 'Witzel', 'Jordan',\n",
    "                   'Zähringer', 'Scheerer', 'Hoffmann', 'Düe',\n",
    "                   'Hellmich', 'Enkler-Scharpegge', 'Witte-Nguy',\n",
    "                   'Dehen', 'Beckmann', 'Jager', 'Jäger'\n",
    "                  ]\n",
    "\n",
    "    for k in remove_list:\n",
    "        if k in name:\n",
    "            return False\n",
    "    return True\n",
    "\n",
    "def add_author_to_list(author_list: list) -> list:\n",
    "    \"\"\" Add author to list if not already in list\n",
    "    \n",
    "    :param author: author name\n",
    "    :param author_list: list of authors\n",
    "    :returns: updated list of authors\n",
    "    \"\"\"\n",
    "    add_list = ['T. Henning']\n",
    "\n",
    "    for author in add_list:\n",
    "        if author not in author_list:\n",
    "            author_list.append(author)\n",
    "    return author_list\n",
    "\n",
    "# get list from MPIA website\n",
    "# filter for non-scientists (mpia.get_mpia_mitarbeiter_list() does some filtering)\n",
    "mpia_authors = [k[1] for k in mpia.get_mpia_mitarbeiter_list() if filter_non_scientists(k[1])]\n",
    "# add some missing author because of inconsistencies in their MPIA name and author name on papers\n",
    "mpia_authors = add_author_to_list(mpia_authors)"
   ]
  },
  {
   "cell_type": "code",
   "execution_count": 4,
   "id": "2645e73a",
   "metadata": {
    "execution": {
     "iopub.execute_input": "2025-04-15T04:12:18.406149Z",
     "iopub.status.busy": "2025-04-15T04:12:18.405749Z",
     "iopub.status.idle": "2025-04-15T04:12:19.306933Z",
     "shell.execute_reply": "2025-04-15T04:12:19.306314Z"
    },
    "papermill": {
     "duration": 0.905926,
     "end_time": "2025-04-15T04:12:19.307943",
     "exception": false,
     "start_time": "2025-04-15T04:12:18.402017",
     "status": "completed"
    },
    "tags": []
   },
   "outputs": [
    {
     "name": "stdout",
     "output_type": "stream",
     "text": [
      "X. Zhang  ->  X. Zhang  |  ['X. Zhang']\n",
      "A. Hughes  ->  A. Hughes  |  ['A. Hughes']\n",
      "Arxiv has 91 new papers today\n",
      "          2 with possible author matches\n"
     ]
    }
   ],
   "source": [
    "new_papers = get_new_papers()\n",
    "# add manual references\n",
    "add_paper_refs = []\n",
    "new_papers.extend([get_paper_from_identifier(k) for k in add_paper_refs])\n",
    "\n",
    "def robust_call(fn, value, *args, **kwargs):\n",
    "    try:\n",
    "        return fn(value, *args, **kwargs)\n",
    "    except Exception:\n",
    "        return value\n",
    "\n",
    "candidates = []\n",
    "for paperk in new_papers:\n",
    "    # Check author list with their initials\n",
    "    normed_author_list = [robust_call(mpia.get_initials, k) for k in paperk['authors']]\n",
    "    hl_authors = highlight_authors_in_list(normed_author_list, mpia_authors, verbose=True)\n",
    "    matches = [(hl, orig) for hl, orig in zip(hl_authors, paperk['authors']) if 'mark' in hl]\n",
    "    paperk['authors'] = hl_authors\n",
    "    if matches:\n",
    "        # only select paper if an author matched our list\n",
    "        candidates.append(paperk)\n",
    "print(\"\"\"Arxiv has {0:,d} new papers today\"\"\".format(len(new_papers)))        \n",
    "print(\"\"\"          {0:,d} with possible author matches\"\"\".format(len(candidates)))"
   ]
  },
  {
   "cell_type": "markdown",
   "id": "3543b34a",
   "metadata": {
    "papermill": {
     "duration": 0.003003,
     "end_time": "2025-04-15T04:12:19.314480",
     "exception": false,
     "start_time": "2025-04-15T04:12:19.311477",
     "status": "completed"
    },
    "tags": []
   },
   "source": [
    "# Parse sources and generate relevant outputs\n",
    "\n",
    "From the candidates, we do the following steps:\n",
    "* get their tarball from ArXiv (and extract data)\n",
    "* find the main .tex file: find one with \\documentclass{...} (sometimes it's non trivial)\n",
    "* Check affiliations with :func:`validation`, which uses :func:`mpia.affiliation_verifications`\n",
    "* If passing the affiliations: we parse the .tex source\n",
    "   * inject sub-documents into the main (flatten the main document)\n",
    "   * parse structure, extract information (title, abstract, authors, figures...)\n",
    "   * handles `\\graphicspath` if provided\n",
    "* Generate the .md document."
   ]
  },
  {
   "cell_type": "code",
   "execution_count": 5,
   "id": "9576b79e",
   "metadata": {
    "execution": {
     "iopub.execute_input": "2025-04-15T04:12:19.321716Z",
     "iopub.status.busy": "2025-04-15T04:12:19.321303Z",
     "iopub.status.idle": "2025-04-15T04:12:31.347834Z",
     "shell.execute_reply": "2025-04-15T04:12:31.347140Z"
    },
    "papermill": {
     "duration": 12.031308,
     "end_time": "2025-04-15T04:12:31.348856",
     "exception": false,
     "start_time": "2025-04-15T04:12:19.317548",
     "status": "completed"
    },
    "scrolled": false,
    "tags": []
   },
   "outputs": [
    {
     "data": {
      "application/vnd.jupyter.widget-view+json": {
       "model_id": "5003ab3a732f4f79afd66f52753dd6b7",
       "version_major": 2,
       "version_minor": 0
      },
      "text/plain": [
       "  0%|          | 0/2 [00:00<?, ?it/s]"
      ]
     },
     "metadata": {},
     "output_type": "display_data"
    },
    {
     "name": "stdout",
     "output_type": "stream",
     "text": [
      "Retrieving document from  https://arxiv.org/e-print/2504.10032\n"
     ]
    },
    {
     "name": "stdout",
     "output_type": "stream",
     "text": [
      "extracting tarball to tmp_2504.10032..."
     ]
    },
    {
     "name": "stdout",
     "output_type": "stream",
     "text": [
      " done.\n",
      "Retrieving document from  https://arxiv.org/e-print/2504.10145\n"
     ]
    },
    {
     "name": "stdout",
     "output_type": "stream",
     "text": [
      "extracting tarball to tmp_2504.10145..."
     ]
    },
    {
     "name": "stdout",
     "output_type": "stream",
     "text": [
      " done.\n"
     ]
    },
    {
     "name": "stdout",
     "output_type": "stream",
     "text": [
      "A. Hughes  ->  A. Hughes  |  ['A. Hughes']\n"
     ]
    },
    {
     "name": "stdout",
     "output_type": "stream",
     "text": [
      "Found 78 bibliographic references in tmp_2504.10145/main.bbl.\n"
     ]
    }
   ],
   "source": [
    "documents = []\n",
    "failed = []\n",
    "for paper in tqdm(candidates):\n",
    "    # debug crap\n",
    "    paper['identifier'] = paper['identifier'].lower().replace('arxiv:', '').replace(r'\\n', '').strip()\n",
    "    paper_id = paper['identifier']\n",
    "    \n",
    "    folder = f'tmp_{paper_id}'\n",
    "\n",
    "    try:\n",
    "        if not os.path.isdir(folder):\n",
    "            folder = retrieve_document_source(f\"{paper_id}\", f'tmp_{paper_id}')\n",
    "        \n",
    "        try:\n",
    "            doc = latex.LatexDocument(folder, validation=validation)    \n",
    "        except AffiliationError as affilerror:\n",
    "            msg = f\"ArXiv:{paper_id:s} is not an MPIA paper... \" + str(affilerror)\n",
    "            failed.append((paper, \"affiliation error: \" + str(affilerror) ))\n",
    "            continue\n",
    "        \n",
    "        # Hack because sometimes author parsing does not work well\n",
    "        if (len(doc.authors) != len(paper['authors'])):\n",
    "            doc._authors = paper['authors']\n",
    "        else:\n",
    "            # highlight authors (FIXME: doc.highlight_authors)\n",
    "            # done on arxiv paper already\n",
    "            doc._authors = highlight_authors_in_list(\n",
    "                [get_initials(k) for k in doc.authors], \n",
    "                mpia_authors, verbose=True)\n",
    "        if (doc.abstract) in (None, ''):\n",
    "            doc._abstract = paper['abstract']\n",
    "            \n",
    "        doc.comment = (get_markdown_badge(paper_id) + \n",
    "                       \"<mark>Appeared on: \" + paper['date'] + \"</mark> - \")\n",
    "        if paper['comments']:\n",
    "            doc.comment += \" _\" + paper['comments'] + \"_\"\n",
    "        \n",
    "        full_md = doc.generate_markdown_text()\n",
    "        \n",
    "        full_md += get_markdown_qrcode(paper_id)\n",
    "        \n",
    "        # replace citations\n",
    "        try:\n",
    "            bibdata = latex_bib.LatexBib.from_doc(doc)\n",
    "            full_md = latex_bib.replace_citations(full_md, bibdata)\n",
    "        except Exception as e:\n",
    "            print(\"Issues with the citations\")\n",
    "            print(e)\n",
    "        \n",
    "        documents.append((paper_id, full_md))\n",
    "    except Exception as e:\n",
    "        warnings.warn(latex.LatexWarning(f\"{paper_id:s} did not run properly\\n\" +\n",
    "                                         str(e)\n",
    "                                        ))\n",
    "        failed.append((paper, \"latex error \" + str(e)))"
   ]
  },
  {
   "cell_type": "markdown",
   "id": "2505a25c",
   "metadata": {
    "papermill": {
     "duration": 0.003522,
     "end_time": "2025-04-15T04:12:31.356327",
     "exception": false,
     "start_time": "2025-04-15T04:12:31.352805",
     "status": "completed"
    },
    "tags": []
   },
   "source": [
    "### Export the logs\n",
    "\n",
    "Throughout, we also keep track of the logs per paper. see `logs-{today date}.md` "
   ]
  },
  {
   "cell_type": "code",
   "execution_count": 6,
   "id": "d733828a",
   "metadata": {
    "execution": {
     "iopub.execute_input": "2025-04-15T04:12:31.364408Z",
     "iopub.status.busy": "2025-04-15T04:12:31.363981Z",
     "iopub.status.idle": "2025-04-15T04:12:31.375845Z",
     "shell.execute_reply": "2025-04-15T04:12:31.375218Z"
    },
    "papermill": {
     "duration": 0.017046,
     "end_time": "2025-04-15T04:12:31.376852",
     "exception": false,
     "start_time": "2025-04-15T04:12:31.359806",
     "status": "completed"
    },
    "scrolled": false,
    "tags": []
   },
   "outputs": [
    {
     "data": {
      "text/markdown": [
       "## Successful papers"
      ],
      "text/plain": [
       "<IPython.core.display.Markdown object>"
      ]
     },
     "metadata": {},
     "output_type": "display_data"
    },
    {
     "data": {
      "text/markdown": [
       "\n",
       "|||\n",
       "|---:|:---|\n",
       "| [![arXiv](https://img.shields.io/badge/arXiv-2504.10145-b31b1b.svg)](https://arxiv.org/abs/2504.10145) | **Estimating the dense gas mass of molecular clouds using spatially unresolved 3 mm line observations**  |\n",
       "|| A. Zakardjian, et al. -- incl., <mark>A. Hughes</mark> |\n",
       "|*Appeared on*| *2025-04-15*|\n",
       "|*Comments*| *18 pages, 16 figures, submitted to A&A*|\n",
       "|**Abstract**|            We aim to develop a new method to infer the sub-beam probability density function (PDF) of H2 column densities and the dense gas mass within molecular clouds using spatially unresolved observations of molecular emission lines in the 3 mm band. We model spatially unresolved line integrated intensity measurements as the average of an emission function weighted by the sub-beam column density PDF. The emission function, which expresses the line integrated intensity as a function of the gas column density, is an empirical fit to high resolution (< 0.05 pc) multi-line observations of the Orion B molecular cloud. The column density PDF is assumed to be parametric, composed of a lognormal distribution at moderate column densities and a power law distribution at higher column densities. To estimate the sub-beam column density PDF, the emission model is combined with a Bayesian inversion algorithm (the Beetroots code), which takes account of thermal noise and calibration errors. We validate our method by demonstrating that it recovers the true column density PDF of the Orion B cloud, reproducing the observed emission line integrated intensities. We apply the method to 12CO(J=1-0), 13CO(J=1-0), C18O(J=1-0), HCN(J=1-0), HCO+(J=1-0) and N2H+(J=1-0) observations of a 700 x 700 pc2 field of view (FoV) in the nearby galaxy M51. On average, the model reproduces the observed intensities within 30%. The column density PDFs obtained for the spiral arm region within our test FoV are dominated by a power-law tail at high column densities, with slopes that are consistent with gravitational collapse. Outside the spiral arm, the column density PDFs are predominantly lognormal, consistent with supersonic isothermal turbulence. We calculate the mass associated with the powerlaw tail of the column density PDFs and observe a strong, linear correlation between this mass and the 24$\\mu$m surface brightness.         |"
      ],
      "text/plain": [
       "[2504.10145] Estimating the dense gas mass of molecular clouds using spatially unresolved 3 mm line observations\n",
       "\tA. Zakardjian, et al. -- incl., <mark>A. Hughes</mark>"
      ]
     },
     "metadata": {},
     "output_type": "display_data"
    },
    {
     "data": {
      "text/markdown": [
       "## Failed papers"
      ],
      "text/plain": [
       "<IPython.core.display.Markdown object>"
      ]
     },
     "metadata": {},
     "output_type": "display_data"
    },
    {
     "data": {
      "text/markdown": [
       "\n",
       "|||\n",
       "|---:|:---|\n",
       "| [![arXiv](https://img.shields.io/badge/arXiv-2504.10032-b31b1b.svg)](https://arxiv.org/abs/2504.10032) | **Broadband Polarized Radio Emission Detected from Starlink Satellites Below 100 MHz with NenuFAR**  |\n",
       "|| <mark>X. Zhang</mark>, et al. |\n",
       "|*Appeared on*| *2025-04-15*|\n",
       "|*Comments*| **|\n",
       "|**Abstract**|            This study evaluates the impact of Starlink satellites on low-frequency radio astronomy below 100 MHz, focusing on challenges on data processing and scientific goals. We conducted 40 hours of imaging observations using NenuFAR, in the 30.8-78.3 MHz range. Observations included both targeted tracking of specific satellites based on orbital predictions and untargeted searches focused on high-elevation regions of the sky. Images in total intensity and polarimetry were obtained, and full Stokes dynamic spectra were generated for several hundred directions within the Field of View. Detected signals were cross-matched with satellite orbital data to confirm satellite associations. Detailed analyses of the observed spectra, polarization, and temporal characteristics were performed to investigate the origin and properties of the detected emissions. We detected broadband emissions from Starlink satellites, predominantly between 54-66 MHz, with flux densities exceeding 500 Jy. These signals are highly polarized and unlikely to originate from ground-based RFI or reflected astronomical sources. Instead, they are likely intrinsic to the satellites, with distinct differences in emission properties observed between satellite generations. These findings highlight significant challenges to data processing and scientific discoveries at these low frequencies, emphasizing the need for effective mitigation strategies, particularly through collaboration between astronomers and satellite operators.         |\n",
       "|<p style=\"color:green\"> **ERROR** </p>| <p style=\"color:green\">affiliation error: mpia.affiliation_verifications: 'Heidelberg' keyword not found.</p> |"
      ],
      "text/plain": [
       "<IPython.core.display.Markdown object>"
      ]
     },
     "metadata": {},
     "output_type": "display_data"
    }
   ],
   "source": [
    "import datetime\n",
    "today = str(datetime.date.today())\n",
    "logfile = f\"_build/html/logs/log-{today}.md\"\n",
    "\n",
    "\n",
    "with open(logfile, 'w') as logs:\n",
    "    # Success\n",
    "    logs.write(f'# Arxiv on Deck 2: Logs - {today}\\n\\n')\n",
    "    logs.write(\"\"\"* Arxiv had {0:,d} new papers\\n\"\"\".format(len(new_papers)))\n",
    "    logs.write(\"\"\"    * {0:,d} with possible author matches\\n\\n\"\"\".format(len(candidates)))\n",
    "    logs.write(\"## Sucessful papers\\n\\n\")\n",
    "    display(Markdown(\"## Successful papers\"))\n",
    "    success = [k[0] for k in documents]\n",
    "    for candid in candidates:\n",
    "        if candid['identifier'].split(':')[-1] in success:\n",
    "            display(candid)\n",
    "            logs.write(candid.generate_markdown_text() + '\\n\\n')\n",
    "\n",
    "    ## failed\n",
    "    logs.write(\"## Failed papers\\n\\n\")\n",
    "    display(Markdown(\"## Failed papers\"))\n",
    "    failed = sorted(failed, key=lambda x: x[1])\n",
    "    current_reason = \"\"\n",
    "    for paper, reason in failed:\n",
    "        if 'affiliation' in reason:\n",
    "            color = 'green'\n",
    "        else:\n",
    "            color = 'red'\n",
    "        data = Markdown(\n",
    "                paper.generate_markdown_text() + \n",
    "                f'\\n|<p style=\"color:{color:s}\"> **ERROR** </p>| <p style=\"color:{color:s}\">{reason:s}</p> |'\n",
    "               )\n",
    "        if reason != current_reason:\n",
    "            logs.write(f'### {reason:s} \\n\\n')\n",
    "            current_reason = reason\n",
    "        logs.write(data.data + '\\n\\n')\n",
    "        \n",
    "        # only display here the important errors (all in logs)\n",
    "        # if color in ('red',):\n",
    "        display(data)"
   ]
  },
  {
   "cell_type": "markdown",
   "id": "472d20ee",
   "metadata": {
    "papermill": {
     "duration": 0.003921,
     "end_time": "2025-04-15T04:12:31.384689",
     "exception": false,
     "start_time": "2025-04-15T04:12:31.380768",
     "status": "completed"
    },
    "tags": []
   },
   "source": [
    "## Export documents\n",
    "\n",
    "We now write the .md files and export relevant images"
   ]
  },
  {
   "cell_type": "code",
   "execution_count": 7,
   "id": "d426aed9",
   "metadata": {
    "execution": {
     "iopub.execute_input": "2025-04-15T04:12:31.393770Z",
     "iopub.status.busy": "2025-04-15T04:12:31.393249Z",
     "iopub.status.idle": "2025-04-15T04:12:31.400164Z",
     "shell.execute_reply": "2025-04-15T04:12:31.399516Z"
    },
    "papermill": {
     "duration": 0.012527,
     "end_time": "2025-04-15T04:12:31.401235",
     "exception": false,
     "start_time": "2025-04-15T04:12:31.388708",
     "status": "completed"
    },
    "tags": []
   },
   "outputs": [],
   "source": [
    "def export_markdown_summary(md: str, md_fname:str, directory: str):\n",
    "    \"\"\"Export MD document and associated relevant images\"\"\"\n",
    "    import os\n",
    "    import shutil\n",
    "    import re\n",
    "\n",
    "    if (os.path.exists(directory) and not os.path.isdir(directory)):\n",
    "        raise RuntimeError(f\"a non-directory file exists with name {directory:s}\")\n",
    "\n",
    "    if (not os.path.exists(directory)):\n",
    "        print(f\"creating directory {directory:s}\")\n",
    "        os.mkdir(directory)\n",
    "\n",
    "    fig_fnames = (re.compile(r'\\[Fig.*\\]\\((.*)\\)').findall(md) + \n",
    "                  re.compile(r'\\<img src=\"([^>\\s]*)\"[^>]*/>').findall(md))\n",
    "    print(\"found figures\", fig_fnames)\n",
    "    for fname in fig_fnames:\n",
    "        if 'http' in fname:\n",
    "            # No need to copy online figures\n",
    "            continue\n",
    "        if not os.path.exists(fname):\n",
    "            print(\"file not found\", fname)\n",
    "            continue\n",
    "        print(\"copying \", fname, \"to\", directory)\n",
    "        destdir = os.path.join(directory, os.path.dirname(fname))\n",
    "        destfname = os.path.join(destdir, os.path.basename(fname))\n",
    "        try:\n",
    "            os.makedirs(destdir)\n",
    "        except FileExistsError:\n",
    "            pass\n",
    "        shutil.copy(fname, destfname)\n",
    "    with open(os.path.join(directory, md_fname), 'w') as fout:\n",
    "        fout.write(md)\n",
    "    print(\"exported in \", os.path.join(directory, md_fname))\n",
    "    [print(\"    + \" + os.path.join(directory,fk)) for fk in fig_fnames]"
   ]
  },
  {
   "cell_type": "code",
   "execution_count": 8,
   "id": "014d04a4",
   "metadata": {
    "execution": {
     "iopub.execute_input": "2025-04-15T04:12:31.410202Z",
     "iopub.status.busy": "2025-04-15T04:12:31.409648Z",
     "iopub.status.idle": "2025-04-15T04:12:31.415062Z",
     "shell.execute_reply": "2025-04-15T04:12:31.414432Z"
    },
    "papermill": {
     "duration": 0.010924,
     "end_time": "2025-04-15T04:12:31.416076",
     "exception": false,
     "start_time": "2025-04-15T04:12:31.405152",
     "status": "completed"
    },
    "tags": []
   },
   "outputs": [
    {
     "name": "stdout",
     "output_type": "stream",
     "text": [
      "found figures ['tmp_2504.10145/./figures/N0_sigv_emission_model.jpg', 'tmp_2504.10145/./figures/degen_sigma.jpg', 'tmp_2504.10145/./figures/degen_sigma_rthres.jpg']\n",
      "copying  tmp_2504.10145/./figures/N0_sigv_emission_model.jpg to _build/html/\n",
      "copying  tmp_2504.10145/./figures/degen_sigma.jpg to _build/html/\n",
      "copying  tmp_2504.10145/./figures/degen_sigma_rthres.jpg to _build/html/\n",
      "exported in  _build/html/2504.10145.md\n",
      "    + _build/html/tmp_2504.10145/./figures/N0_sigv_emission_model.jpg\n",
      "    + _build/html/tmp_2504.10145/./figures/degen_sigma.jpg\n",
      "    + _build/html/tmp_2504.10145/./figures/degen_sigma_rthres.jpg\n"
     ]
    }
   ],
   "source": [
    "for paper_id, md in documents:\n",
    "    export_markdown_summary(md, f\"{paper_id:s}.md\", '_build/html/')"
   ]
  },
  {
   "cell_type": "markdown",
   "id": "f087a0a7",
   "metadata": {
    "papermill": {
     "duration": 0.004027,
     "end_time": "2025-04-15T04:12:31.424181",
     "exception": false,
     "start_time": "2025-04-15T04:12:31.420154",
     "status": "completed"
    },
    "tags": []
   },
   "source": [
    "## Display the papers\n",
    "\n",
    "Not necessary but allows for a quick check."
   ]
  },
  {
   "cell_type": "code",
   "execution_count": 9,
   "id": "fd25f625",
   "metadata": {
    "execution": {
     "iopub.execute_input": "2025-04-15T04:12:31.433155Z",
     "iopub.status.busy": "2025-04-15T04:12:31.432745Z",
     "iopub.status.idle": "2025-04-15T04:12:31.437445Z",
     "shell.execute_reply": "2025-04-15T04:12:31.436776Z"
    },
    "papermill": {
     "duration": 0.010272,
     "end_time": "2025-04-15T04:12:31.438434",
     "exception": false,
     "start_time": "2025-04-15T04:12:31.428162",
     "status": "completed"
    },
    "scrolled": false,
    "tags": []
   },
   "outputs": [
    {
     "data": {
      "text/markdown": [
       "<div class=\"macros\" style=\"visibility:hidden;\">\n",
       "$\\newcommand{\\ensuremath}{}$\n",
       "$\\newcommand{\\xspace}{}$\n",
       "$\\newcommand{\\object}[1]{\\texttt{#1}}$\n",
       "$\\newcommand{\\farcs}{{.}''}$\n",
       "$\\newcommand{\\farcm}{{.}'}$\n",
       "$\\newcommand{\\arcsec}{''}$\n",
       "$\\newcommand{\\arcmin}{'}$\n",
       "$\\newcommand{\\ion}[2]{#1#2}$\n",
       "$\\newcommand{\\textsc}[1]{\\textrm{#1}}$\n",
       "$\\newcommand{\\hl}[1]{\\textrm{#1}}$\n",
       "$\\newcommand{\\footnote}[1]{}$\n",
       "$\\newcommand{\\tweco}{^{12}CO(J=1\\rightarrow0)}$\n",
       "$\\newcommand{\\thico}{^{13}CO(J=1\\rightarrow0)}$\n",
       "$\\newcommand{\\eigco}{C^{18}O(J=1\\rightarrow0)}$\n",
       "$\\newcommand{\\hcn}{HCN(J=1\\rightarrow0)}$\n",
       "$\\newcommand{\\hnc}{HNC(J=1\\rightarrow0)}$\n",
       "$\\newcommand{\\so}{SO(J_K=3_2\\rightarrow2_1)}$\n",
       "$\\newcommand{\\cs}{^{12}CS(J=2\\rightarrow1)}$\n",
       "$\\newcommand{\\hcop}{HCO^+(J=1\\rightarrow0)}$\n",
       "$\\newcommand{\\nhp}{N_2H^+(J=1\\rightarrow0)}$\n",
       "$\\newcommand{\\N}{N_0}$\n",
       "$\\newcommand{\\NH}{N_{\\rm{H_2}}}$\n",
       "$\\newcommand{\\addref}{\\textcolor{red}{ref}}$\n",
       "$\\newcommand{\\rthres}{r_{\\rm{thresh}}}$\n",
       "$\\newcommand{\\rthresh}{r_{\\rm{thresh}}}$\n",
       "$\\newcommand{\\todo}[1]{\\textbf{\\textcolor{red}{TODO:}} \\textcolor{red}{#1}}$\n",
       "$\\newcommand{\\modifi}[1]{\\textcolor{black}{#1}}$\n",
       "$\\newcommand{\\modifj}[1]{\\textcolor{black}{#1}}$\n",
       "$\\newcommand{\\VertCaption}[2]{$\n",
       "$  \\rotatebox{90}{\\parbox{#1}{$\n",
       "$      \\centering  \\textbf{#2}}}}$\n",
       "$\\newcommand{\\HoriCaption}[2]{$\n",
       "$  \\parbox{#1}{\\centering  \\textbf{#2}}}$\n",
       "$\\newcommand{\\FigEmissionFunction}{$\n",
       "$    \\begin{figure}$\n",
       "$        \\centering$\n",
       "$        \\includegraphics[width = 1\\linewidth]{figures/NH2_Int_pl.jpg}$\n",
       "$    \\caption{Binned trends of line integrated intensity as a function of column density. The data is binned in 30 equally sized bins of column density. Black circles correspond to the bin average, while the grey shading indicates the standard deviation in each bin. The black solid line is a smoothly varying double PL fit to the trends, specific to each emission line. The red dashed line shows for comparison the empirical fit to nearby clouds by [Tafalla, Usero and Hacar (2023)](), assuming a kinetic temperature of 11 K. Each panel shows a different emission line: \\tweco , \\thico  and \\hcop  (left to right, top row);  \\eigco , \\hcn  and \\cs  (middle); \\hnc  \\so  and \\nhp  (bottom). The standard Milky Way CO-to-H_2 conversion factor and its typical uncertainty  ([Bolatto, Wolfire and Leroy 2013]())  is indicated in the top left panel. An \\hcn  dense gas conversion factor of 60 M_\\odot (K km s^{-1})^{-1} is indicated in the central panel. }$\n",
       "$    \\label{fig:emission-function}$\n",
       "$    \\end{figure}$\n",
       "$}$\n",
       "$\\newcommand{\\PostPDFExampleCorr}{$\n",
       "$    \\begin{figure}$\n",
       "$        \\centering$\n",
       "$        \\includegraphics[width = 1\\linewidth]{figures/beetroots_test_orionb_post_pdf.jpg}$\n",
       "$    \\caption{Two-dimensional projections of the posterior PDF in the form of a scatter plot matrix. The matrix's diagonal shows the posterior PDF of each estimated parameter. The MAP estimation is represented as a vertical cyan line on the histograms and as a cyan square in the scatter plot. The true N-PDF parameters obtained by fitting the dust derived Orion B N-PDF is shown are shown as red crosses. The black dashed line show the range in PL index \\alpha of the N-PDF expected for gravitational collapse. The estimations closely match the reference values, although clear degeneracies are present in the posterior PDF. }$\n",
       "$    \\label{fig:orionb-post-pdf-corr}$\n",
       "$    \\end{figure}$\n",
       "$}$\n",
       "$\\newcommand{\\PostPDFExample}{$\n",
       "$    \\begin{figure}$\n",
       "$        \\centering$\n",
       "$        \\includegraphics[width = 0.8\\linewidth]{figures/beetroots_test_OrionB.jpg}$\n",
       "$    \\caption{A comparison of the reference and estimated$\n",
       "$     N-PDFs when inverting the N-PDF on the spatially and spectrally$\n",
       "$     averaged ORION-B data. The thick red line indicates the N-PDF as a histogram constructed directly from the dust-derived Orion B column densities, and the green line represents a \\chi^2 fit to the red histogram. The estimated N-PDFs from the 10 000 MCMC iterations to sample the Bayesian posterior are shown with blue$\n",
       "$     circles. The dashed orange line is the MAP estimation for the N-PDF. The vertical dotted black line indicates the limit below which the line intensities$\n",
       "$     predicted by the emission function fall below the typical noise level$\n",
       "$     of the data, that is 0.1 K km s^{-1}.}$\n",
       "$    \\label{fig:otrionb-post-pdf}$\n",
       "$    \\end{figure}$\n",
       "$}$\n",
       "$\\newcommand{\\ParamsMap}{$\n",
       "$    \\begin{figure}$\n",
       "$        \\centering$\n",
       "$        \\includegraphics[width = 1\\linewidth]{figures/map_params_arrow.png}$\n",
       "$    \\caption{MAP estimations of the sub-beam N-PDF parameters across our M51 test region. Clockwise from top left, the panels show the mean column density of the LN part of N-PDF (N_0), the width of the log-normal (\\sigma), the power-law index (\\alpha), and the column density of transition between the log-normal and power-law parts of the N-PDF (\\rthres). Red contours in each panel indicate \\thico  integrated intensities of 4~and 12~K km s^{-1} (dashed and solid contours, respectively). The white arrow indicates the direction to the galactic centre. To first order, the gas is denser and more gravitationally unstable inside the spiral arm$\n",
       "$     than outside the arm.$\n",
       "$  }$\n",
       "$  \\label{fig:m51:param-map}$\n",
       "$    \\end{figure}$\n",
       "$}$\n",
       "$\\newcommand{\\MdenseMap}{$\n",
       "$    \\begin{figure}$\n",
       "$        \\centering$\n",
       "$        \\includegraphics[width = 1\\linewidth]{figures/map_Mdense.jpg}$\n",
       "$    \\caption{The spatial distribution of$\n",
       "$     the mass of dense gas (left), the gas mass in the power-law$\n",
       "$     part of the N-PDF (middle), and the 24 \\mum surface brightness in our M51 target region. We use the 24 \\mum emission as a proxy for star formation. The masses are derived from the MAP estimate of the N-PDF, using equations$\n",
       "$     \\ref{eq:sigma_dense} and \\ref{eq:sigma_pl}. The red contours are the samed as in Figure~\\ref{fig:m51:param-map}. The masses of dense and PL gas appear highly correlated, with a similar spatial distribution as the 24\\mum emission. }$\n",
       "$    \\label{fig:m51:Mdense-map}$\n",
       "$    \\end{figure}$\n",
       "$}$\n",
       "$\\newcommand{\\MdenseSFR}{$\n",
       "$    \\begin{figure}$\n",
       "$        \\centering$\n",
       "$        \\includegraphics[width = 1\\linewidth]{figures/mdense_mpl_I24.jpg} \\     \\caption{Correlation between the 24\\mum integrated intensity and the mass of dense gas (\\textit{left}) and mass of gas in the power-law part of the N-PDF (\\textit{right}) for pixels within our M51 test region. Each data point corresponds to a pixel within our field. The symbol size and grey shading represent f_{\\rm PL}, the mass fraction of the gas in the power-law part of the N-PDF. Symbols with a red outline identify pixels where f_\\text{PL} \\geq 25\\% and the slope of the power-law \\alpha \\in [2.5,5]. The dotted line is a linear fit to the pixels where f_\\text{PL} < 5\\%. The thick red line is a fit to the points where f_\\text{PL} \\geq 25\\% and \\alpha \\in [2.5,5]. The latter fit has a correlation coefficient r = 0.85 and slope s = 1.0.}$\n",
       "$    \\label{fig:m51:mdense-sfr-corr}$\n",
       "$    \\end{figure}$\n",
       "$}$\n",
       "$\\newcommand{\\FigRatiosNSig}{$\n",
       "$    \\begin{figure*}[h]$\n",
       "$        \\centering$\n",
       "$        \\includegraphics[width = 0.9\\linewidth]{figures/N0_sigv_emission_model.jpg}$\n",
       "$    \\caption{Model predicted line integrated intensities ratios over \\tweco  as a function \\sigma and N_0 for a purely LN N-PDF. Top row shows the ratios of \\thico , \\hcop , \\hnc  and \\hcn  over \\tweco , from left to right. In this top row dashed lines show ratio isocontours increasing by factors of two. Bottom row shows the ratios of \\cs , \\eigco , \\so  and \\nhp  over \\tweco , from left to right. In the bottom row isocontours represent factors of tens.}$\n",
       "$    \\label{fig:emission-function:N0-sig0}$\n",
       "$    \\end{figure*}$\n",
       "$}$\n",
       "$\\newcommand{\\FigRatiosAlphaN}{$\n",
       "$    \\begin{figure*}[h]$\n",
       "$        \\centering$\n",
       "$        \\includegraphics[width = 0.9\\linewidth]{figures/ralpha_N0_emission_model.jpg}$\n",
       "$    \\caption{Same as Figure~\\ref{fig:emission-function:N0-sig0}, except that the N-PDF is composed of a LN and a PL, with varying N_0 and \\alpha while r_{\\rm{thres}} and \\sigma  are fixed to r_{\\rm{thres}} = 3 and \\sigma=0.8}$\n",
       "$    \\label{fig:emission-function:N0-alpha}$\n",
       "$    \\end{figure*}$\n",
       "$}$\n",
       "$\\newcommand{\\FigRatiosAlphaSig}{$\n",
       "$    \\begin{figure*}[h]$\n",
       "$        \\centering$\n",
       "$        \\includegraphics[width = 0.9\\linewidth]{figures/ralpha_sigv_emission_model.jpg}$\n",
       "$    \\caption{Same as Figure~\\ref{fig:emission-function:N0-sig0}, except that the N-PDF is composed of a LN and a PL, with varying \\sigma and \\alpha while r_{\\rm{thres}} and N_0 are fixed to N_0 = 5\\times10^{22} cm^{-2} and r_{\\rm{thres}}=5.}$\n",
       "$    \\label{fig:emission-function:alpha-sig0}$\n",
       "$    \\end{figure*}$\n",
       "$}$\n",
       "$\\newcommand{\\FigRatiosRthresSig}{$\n",
       "$    \\begin{figure*}[h]$\n",
       "$        \\centering$\n",
       "$        \\includegraphics[width = 0.9\\linewidth]{figures/rthres_sigv_emission_model.jpg}$\n",
       "$    \\caption{Same as Figure~\\ref{fig:emission-function:N0-sig0}, except that the N-PDF is composed of a LN and a PL, with varying r_{\\rm{thres}} and \\sigma while \\alpha and N_0 are fixed to N_0 = 5\\times10^{22} cm^{-2} and \\alpha=2.}$\n",
       "$    \\label{fig:emission-function:rthres-sig0}$\n",
       "$    \\end{figure*}$\n",
       "$}$\n",
       "$\\newcommand{\\FigRatiosRthresAlpha}{$\n",
       "$    \\begin{figure*}[h]$\n",
       "$        \\centering$\n",
       "$        \\includegraphics[width = 0.9\\linewidth]{figures/rthres_ralpha_emission_model.jpg}$\n",
       "$    \\caption{Same as Figure~\\ref{fig:emission-function:N0-sig0}, except that the N-PDF is composed of a LN and a PL, with varying r_{\\rm{thres}} and \\alpha while \\sigma and N_0 are fixed to N_0 = 5\\times10^{22} cm^{-2} and \\sigma=0.6.}$\n",
       "$    \\label{fig:emission-function:rthres-alpha}$\n",
       "$    \\end{figure*}$\n",
       "$}$</div>\n",
       "\n",
       "\n",
       "\n",
       "<div id=\"title\">\n",
       "\n",
       "# Estimating the dense gas mass of molecular clouds using spatially unresolved 3 mm line observations\n",
       "\n",
       "</div>\n",
       "<div id=\"comments\">\n",
       "\n",
       "[![arXiv](https://img.shields.io/badge/arXiv-2504.10145-b31b1b.svg)](https://arxiv.org/abs/2504.10145)<mark>Appeared on: 2025-04-15</mark> -  _18 pages, 16 figures, submitted to A&A_\n",
       "\n",
       "</div>\n",
       "<div id=\"authors\">\n",
       "\n",
       "A. Zakardjian, et al. -- incl., <mark>A. Hughes</mark>\n",
       "\n",
       "</div>\n",
       "<div id=\"abstract\">\n",
       "\n",
       "**Abstract:** Emission lines such as $\\hcn$ are commonly used by extragalactic studies to trace high density molecular gas (n ${_{\\rm{H_2}}}> \\sim10^{4}$ cm $^{-3}$ ). Recent Milky Way studies have challenged their utility as unambiguous dense gas tracers, suggesting that a large fraction of their emission in nearby clouds is excited in low density gas. We aim to develop a new method to infer the sub-beam probability density function (PDF) of $H_2$ column densities and the dense gas mass within molecular clouds using spatially unresolved observations of molecular emission lines in the 3 mm band. We model spatially unresolved line integrated intensity measurements as the average of an emission function weighted by the sub-beam column density PDF. The emission function, which expresses the line integrated intensity as a function of the gas column density, is an empirical fit to high resolution ( $<0.05$ pc) multi-line observations of the Orion B molecular cloud. The column density PDF is assumed to be parametric, composed of a lognormal distribution at moderate column densities and a power law distribution at higher column densities. To estimate the sub-beam column density PDF, the emission model is combined with a Bayesian inversion algorithm (implemented in the Beetroots code), which takes account of thermal noise and calibration errors. $\\modifi{We validate our method by demonstrating that it recovers the true column density PDF of the Orion B cloud, reproducing the observed emission line integrated intensities within noise and calibration uncertainties.    We apply the method to \\tweco , \\thico , \\eigco , \\hcn, \\hcop  and \\nhp  observations of a $700\\times700$ pc$^2$ field of view (FoV) in the nearby galaxy M51. On average, the model reproduces the observed intensities within 30\\%.    The column density PDFs obtained for the spiral arm region within our test FoV are dominated by a power-law tail at high column densities, with slopes that are consistent with gravitational collapse. Outside the spiral arm, the column density PDFs are predominantly lognormal, consistent with supersonic isothermal turbulence setting the dynamical state of the molecular gas.    We calculate the mass associated with the power-law tail of the column density PDFs and observe a strong, linear correlation between this mass and the 24$\\mu$m surface brightness.}$ $\\modifi{Our method is a promising approach to infer the physical conditions within extragalactic molecular clouds using spectral line observations that are feasible with current millimetre facilities. Future work will extend the method to include additional physical parameters that are relevant for the dynamical state and star formation activity of molecular clouds.}$\n",
       "\n",
       "</div>\n",
       "\n",
       "<div id=\"div_fig1\">\n",
       "\n",
       "<img src=\"tmp_2504.10145/./figures/N0_sigv_emission_model.jpg\" alt=\"Fig12\" width=\"100%\"/>\n",
       "\n",
       "**Figure 12. -** Model predicted line integrated intensities ratios over $\\tweco$  as a function $\\sigma$ and $N_0$ for a purely LN $N$-PDF. Top row shows the ratios of $\\thico$ , $\\hcop$ , $\\hnc$  and $\\hcn$  over $\\tweco$ , from left to right. In this top row dashed lines show ratio isocontours increasing by factors of two. Bottom row shows the ratios of $\\cs$ , $\\eigco$ , $\\so$  and $\\nhp$  over $\\tweco$ , from left to right. In the bottom row isocontours represent factors of tens. (*fig:emission-function:N0-sig0*)\n",
       "\n",
       "</div>\n",
       "<div id=\"div_fig2\">\n",
       "\n",
       "<img src=\"tmp_2504.10145/./figures/degen_sigma.jpg\" alt=\"Fig7\" width=\"100%\"/>\n",
       "\n",
       "**Figure 7. -** _Left:_ Model predicted integrated intensities for a piecewise LN and PL $N$-PDF, with $N_0 = 2\\times 10^{21}$ cm$^{-2}$, $r_{\\rm{thres}}$=1.5, $\\alpha=3$ and $\\sigma$ increasing from 0.3 to 0.8. All predicted integrated intensities vary by 10\\% at most, which illustrates the degeneracy on the parameter $\\sigma$ in the particular case of low $N_0$ and strong PL component. The right panels displays the corresponding $N$-PDF with varying $\\sigma$. The dashed vertical line shows the column density limit below which the emission of all lines is less than 0.1 K km s$^{-1}$. (*fig:degeneracies:sigma*)\n",
       "\n",
       "</div>\n",
       "<div id=\"div_fig3\">\n",
       "\n",
       "<img src=\"tmp_2504.10145/./figures/degen_sigma_rthres.jpg\" alt=\"Fig8\" width=\"100%\"/>\n",
       "\n",
       "**Figure 8. -** Same as Figure \\ref{fig:degeneracies:sigma}, except two specific $N$-PDF are illustrated: the first has a narrow LN width but a strong PL, while the other has a large LN width but a smaller PL. This illustrates how two $N$-PDF with notably different parameters can appear alike and give comparable average integrated intensities. (*fig:degeneracies:sigma-rthres*)\n",
       "\n",
       "</div><div id=\"qrcode\"><img src=https://api.qrserver.com/v1/create-qr-code/?size=100x100&data=\"https://arxiv.org/abs/2504.10145\"></div>"
      ],
      "text/plain": [
       "<IPython.core.display.Markdown object>"
      ]
     },
     "metadata": {},
     "output_type": "display_data"
    }
   ],
   "source": [
    "[display(Markdown(k[1])) for k in documents];"
   ]
  },
  {
   "cell_type": "markdown",
   "id": "873873a4",
   "metadata": {
    "papermill": {
     "duration": 0.004237,
     "end_time": "2025-04-15T04:12:31.447033",
     "exception": false,
     "start_time": "2025-04-15T04:12:31.442796",
     "status": "completed"
    },
    "tags": []
   },
   "source": [
    "# Create HTML index"
   ]
  },
  {
   "cell_type": "code",
   "execution_count": 10,
   "id": "cf665672",
   "metadata": {
    "execution": {
     "iopub.execute_input": "2025-04-15T04:12:31.456686Z",
     "iopub.status.busy": "2025-04-15T04:12:31.456144Z",
     "iopub.status.idle": "2025-04-15T04:12:31.466218Z",
     "shell.execute_reply": "2025-04-15T04:12:31.465559Z"
    },
    "papermill": {
     "duration": 0.015766,
     "end_time": "2025-04-15T04:12:31.467162",
     "exception": false,
     "start_time": "2025-04-15T04:12:31.451396",
     "status": "completed"
    },
    "tags": []
   },
   "outputs": [
    {
     "name": "stdout",
     "output_type": "stream",
     "text": [
      "439  publications files modified in the last 7 days.\n"
     ]
    }
   ],
   "source": [
    "from datetime import datetime, timedelta, timezone\n",
    "from glob import glob\n",
    "import os\n",
    "\n",
    "files = glob('_build/html/*.md')\n",
    "days = 7\n",
    "now = datetime.today()\n",
    "res = []\n",
    "for fk in files:\n",
    "    stat_result = os.stat(fk).st_ctime\n",
    "    modified = datetime.fromtimestamp(stat_result, tz=timezone.utc).replace(tzinfo=None)\n",
    "    delta = now.today() - modified\n",
    "    if delta <= timedelta(days=days):\n",
    "        res.append((delta.seconds, fk))\n",
    "res = [k[1] for k in reversed(sorted(res, key=lambda x:x[1]))]\n",
    "npub = len(res)\n",
    "print(len(res), f\" publications files modified in the last {days:d} days.\")\n",
    "# [ print('\\t', k) for k in res ];"
   ]
  },
  {
   "cell_type": "code",
   "execution_count": 11,
   "id": "015de740",
   "metadata": {
    "execution": {
     "iopub.execute_input": "2025-04-15T04:12:31.476761Z",
     "iopub.status.busy": "2025-04-15T04:12:31.476577Z",
     "iopub.status.idle": "2025-04-15T04:12:31.499364Z",
     "shell.execute_reply": "2025-04-15T04:12:31.498720Z"
    },
    "papermill": {
     "duration": 0.028817,
     "end_time": "2025-04-15T04:12:31.500451",
     "exception": false,
     "start_time": "2025-04-15T04:12:31.471634",
     "status": "completed"
    },
    "tags": []
   },
   "outputs": [
    {
     "name": "stdout",
     "output_type": "stream",
     "text": [
      "10  publications in the last 7 days.\n"
     ]
    }
   ],
   "source": [
    "import datetime\n",
    "from glob import glob\n",
    "\n",
    "def get_last_n_days(lst, days=1):\n",
    "    \"\"\" Get the documents from the last n days \"\"\"\n",
    "    sorted_lst = sorted(lst, key=lambda x: x[1], reverse=True)\n",
    "    for fname, date in sorted_lst:\n",
    "        if date >= str(datetime.date.today() - datetime.timedelta(days=days)):\n",
    "            yield fname\n",
    "\n",
    "def extract_appearance_dates(lst_file):\n",
    "    dates = []\n",
    "\n",
    "    def get_date(line):\n",
    "        return line\\\n",
    "            .split('Appeared on:')[-1]\\\n",
    "            .split('</mark>')[0].strip()\n",
    "\n",
    "    for fname in lst:\n",
    "        with open(fname, 'r') as f:\n",
    "            found_date = False\n",
    "            for line in f:\n",
    "                if not found_date:\n",
    "                    if \"Appeared on\" in line:\n",
    "                        found_date = True\n",
    "                        dates.append((fname, get_date(line)))\n",
    "                else:\n",
    "                    break\n",
    "    return dates\n",
    "\n",
    "from glob import glob\n",
    "lst = glob('_build/html/*md')\n",
    "days = 7\n",
    "dates = extract_appearance_dates(lst)\n",
    "res = list(get_last_n_days(dates, days))\n",
    "npub = len(res)\n",
    "print(len(res), f\" publications in the last {days:d} days.\")"
   ]
  },
  {
   "cell_type": "code",
   "execution_count": 12,
   "id": "52ca0208",
   "metadata": {
    "execution": {
     "iopub.execute_input": "2025-04-15T04:12:31.510599Z",
     "iopub.status.busy": "2025-04-15T04:12:31.510246Z",
     "iopub.status.idle": "2025-04-15T04:12:31.515087Z",
     "shell.execute_reply": "2025-04-15T04:12:31.514474Z"
    },
    "papermill": {
     "duration": 0.011158,
     "end_time": "2025-04-15T04:12:31.516082",
     "exception": false,
     "start_time": "2025-04-15T04:12:31.504924",
     "status": "completed"
    },
    "scrolled": false,
    "tags": []
   },
   "outputs": [],
   "source": [
    "def create_carousel(npub=4):\n",
    "    \"\"\" Generate the HTML code for a carousel with `npub` slides \"\"\"\n",
    "    carousel = [\"\"\"  <div class=\"carousel\" \"\"\",\n",
    "                \"\"\"       data-flickity='{ \"autoPlay\": 10000, \"adaptiveHeight\": true, \"resize\": true, \"wrapAround\": true, \"pauseAutoPlayOnHover\": true, \"groupCells\": 1 }' id=\"asyncTypeset\">\"\"\"\n",
    "                ]\n",
    "    \n",
    "    item_str = \"\"\"    <div class=\"carousel-cell\"> <div id=\"slide{k}\" class=\"md_view\">Content {k}</div> </div>\"\"\"\n",
    "    for k in range(1, npub + 1):\n",
    "        carousel.append(item_str.format(k=k))\n",
    "    carousel.append(\"  </div>\")\n",
    "    return '\\n'.join(carousel)\n",
    "\n",
    "def create_grid(npub=4):\n",
    "    \"\"\" Generate the HTML code for a flat grid with `npub` slides \"\"\"\n",
    "    grid = [\"\"\"  <div class=\"grid\"> \"\"\",\n",
    "                ]\n",
    "    \n",
    "    item_str = \"\"\"    <div class=\"grid-item\"> <div id=\"slide{k}\" class=\"md_view\">Content {k}</div> </div>\"\"\"\n",
    "    for k in range(1, npub + 1):\n",
    "        grid.append(item_str.format(k=k))\n",
    "    grid.append(\"  </div>\")\n",
    "    return '\\n'.join(grid)"
   ]
  },
  {
   "cell_type": "code",
   "execution_count": 13,
   "id": "a6eac5b6",
   "metadata": {
    "execution": {
     "iopub.execute_input": "2025-04-15T04:12:31.525808Z",
     "iopub.status.busy": "2025-04-15T04:12:31.525626Z",
     "iopub.status.idle": "2025-04-15T04:12:31.530748Z",
     "shell.execute_reply": "2025-04-15T04:12:31.530223Z"
    },
    "papermill": {
     "duration": 0.011086,
     "end_time": "2025-04-15T04:12:31.531696",
     "exception": false,
     "start_time": "2025-04-15T04:12:31.520610",
     "status": "completed"
    },
    "scrolled": false,
    "tags": []
   },
   "outputs": [],
   "source": [
    "carousel = create_carousel(npub)\n",
    "docs = ', '.join(['\"{0:s}\"'.format(k.split('/')[-1]) for k in res])\n",
    "slides = ', '.join([f'\"slide{k}\"' for k in range(1, npub + 1)])\n",
    "\n",
    "with open(\"daily_template.html\", \"r\") as tpl:\n",
    "    page = tpl.read()\n",
    "    page = page.replace(\"{%-- carousel:s --%}\", carousel)\\\n",
    "               .replace(\"{%-- suptitle:s --%}\",  \"7-day archives\" )\\\n",
    "               .replace(\"{%-- docs:s --%}\", docs)\\\n",
    "               .replace(\"{%-- slides:s --%}\", slides)\n",
    "    \n",
    "with open(\"_build/html/index_7days.html\", 'w') as fout:\n",
    "    fout.write(page)"
   ]
  },
  {
   "cell_type": "code",
   "execution_count": 14,
   "id": "adc1a1ec",
   "metadata": {
    "execution": {
     "iopub.execute_input": "2025-04-15T04:12:31.541516Z",
     "iopub.status.busy": "2025-04-15T04:12:31.541322Z",
     "iopub.status.idle": "2025-04-15T04:12:31.548129Z",
     "shell.execute_reply": "2025-04-15T04:12:31.547607Z"
    },
    "papermill": {
     "duration": 0.012802,
     "end_time": "2025-04-15T04:12:31.549068",
     "exception": false,
     "start_time": "2025-04-15T04:12:31.536266",
     "status": "completed"
    },
    "tags": []
   },
   "outputs": [
    {
     "name": "stdout",
     "output_type": "stream",
     "text": [
      "4  publications in the last day.\n"
     ]
    }
   ],
   "source": [
    "# redo for today\n",
    "days = 1\n",
    "res = list(get_last_n_days(dates, days))\n",
    "npub = len(res)\n",
    "print(len(res), f\" publications in the last day.\")\n",
    "\n",
    "carousel = create_carousel(npub)\n",
    "docs = ', '.join(['\"{0:s}\"'.format(k.split('/')[-1]) for k in res])\n",
    "slides = ', '.join([f'\"slide{k}\"' for k in range(1, npub + 1)])\n",
    "\n",
    "with open(\"daily_template.html\", \"r\") as tpl:\n",
    "    page = tpl.read()\n",
    "    page = page.replace(\"{%-- carousel:s --%}\", carousel)\\\n",
    "               .replace(\"{%-- suptitle:s --%}\",  \"Daily\" )\\\n",
    "               .replace(\"{%-- docs:s --%}\", docs)\\\n",
    "               .replace(\"{%-- slides:s --%}\", slides)\n",
    "    \n",
    "# print(carousel, docs, slides)\n",
    "# print(page)\n",
    "with open(\"_build/html/index_daily.html\", 'w') as fout:\n",
    "    fout.write(page)"
   ]
  },
  {
   "cell_type": "code",
   "execution_count": 15,
   "id": "00eece82",
   "metadata": {
    "execution": {
     "iopub.execute_input": "2025-04-15T04:12:31.559225Z",
     "iopub.status.busy": "2025-04-15T04:12:31.558832Z",
     "iopub.status.idle": "2025-04-15T04:12:31.565304Z",
     "shell.execute_reply": "2025-04-15T04:12:31.564671Z"
    },
    "papermill": {
     "duration": 0.012516,
     "end_time": "2025-04-15T04:12:31.566230",
     "exception": false,
     "start_time": "2025-04-15T04:12:31.553714",
     "status": "completed"
    },
    "scrolled": false,
    "tags": []
   },
   "outputs": [
    {
     "name": "stdout",
     "output_type": "stream",
     "text": [
      "6  6 publications selected.\n"
     ]
    }
   ],
   "source": [
    "# Create the flat grid of the last N papers (fixed number regardless of dates)\n",
    "from itertools import islice \n",
    "\n",
    "npub = 6\n",
    "res = [k[0] for k in (islice(reversed(sorted(dates, key=lambda x: x[1])), 6))]\n",
    "print(len(res), f\" {npub} publications selected.\")\n",
    "\n",
    "grid = create_grid(npub)\n",
    "docs = ', '.join(['\"{0:s}\"'.format(k.split('/')[-1]) for k in res])\n",
    "slides = ', '.join([f'\"slide{k}\"' for k in range(1, npub + 1)])\n",
    "\n",
    "with open(\"grid_template.html\", \"r\") as tpl:\n",
    "    page = tpl.read()\n",
    "    page = page.replace(\"{%-- grid-content:s --%}\", grid)\\\n",
    "               .replace(\"{%-- suptitle:s --%}\",  f\"Last {npub:,d} papers\" )\\\n",
    "               .replace(\"{%-- docs:s --%}\", docs)\\\n",
    "               .replace(\"{%-- slides:s --%}\", slides)\n",
    "    \n",
    "# print(grid, docs, slides)\n",
    "# print(page)\n",
    "with open(\"_build/html/index_npub_grid.html\", 'w') as fout:\n",
    "    fout.write(page)"
   ]
  }
 ],
 "metadata": {
  "kernelspec": {
   "display_name": "Python 3 (ipykernel)",
   "language": "python",
   "name": "python3"
  },
  "language_info": {
   "codemirror_mode": {
    "name": "ipython",
    "version": 3
   },
   "file_extension": ".py",
   "mimetype": "text/x-python",
   "name": "python",
   "nbconvert_exporter": "python",
   "pygments_lexer": "ipython3",
   "version": "3.9.21"
  },
  "papermill": {
   "default_parameters": {},
   "duration": 35.447701,
   "end_time": "2025-04-15T04:12:31.787125",
   "environment_variables": {},
   "exception": null,
   "input_path": "MPIA daily digest.ipynb",
   "output_path": "log.ipynb",
   "parameters": {},
   "start_time": "2025-04-15T04:11:56.339424",
   "version": "2.6.0"
  },
  "vscode": {
   "interpreter": {
    "hash": "aee8b7b246df8f9039afb4144a1f6fd8d2ca17a180786b69acc140d282b71a49"
   }
  },
  "widgets": {
   "application/vnd.jupyter.widget-state+json": {
    "state": {
     "48075f8a666f4aaf9aafe8420cabea1f": {
      "model_module": "@jupyter-widgets/base",
      "model_module_version": "2.0.0",
      "model_name": "LayoutModel",
      "state": {
       "_model_module": "@jupyter-widgets/base",
       "_model_module_version": "2.0.0",
       "_model_name": "LayoutModel",
       "_view_count": null,
       "_view_module": "@jupyter-widgets/base",
       "_view_module_version": "2.0.0",
       "_view_name": "LayoutView",
       "align_content": null,
       "align_items": null,
       "align_self": null,
       "border_bottom": null,
       "border_left": null,
       "border_right": null,
       "border_top": null,
       "bottom": null,
       "display": null,
       "flex": null,
       "flex_flow": null,
       "grid_area": null,
       "grid_auto_columns": null,
       "grid_auto_flow": null,
       "grid_auto_rows": null,
       "grid_column": null,
       "grid_gap": null,
       "grid_row": null,
       "grid_template_areas": null,
       "grid_template_columns": null,
       "grid_template_rows": null,
       "height": null,
       "justify_content": null,
       "justify_items": null,
       "left": null,
       "margin": null,
       "max_height": null,
       "max_width": null,
       "min_height": null,
       "min_width": null,
       "object_fit": null,
       "object_position": null,
       "order": null,
       "overflow": null,
       "padding": null,
       "right": null,
       "top": null,
       "visibility": null,
       "width": null
      }
     },
     "5003ab3a732f4f79afd66f52753dd6b7": {
      "model_module": "@jupyter-widgets/controls",
      "model_module_version": "2.0.0",
      "model_name": "HBoxModel",
      "state": {
       "_dom_classes": [],
       "_model_module": "@jupyter-widgets/controls",
       "_model_module_version": "2.0.0",
       "_model_name": "HBoxModel",
       "_view_count": null,
       "_view_module": "@jupyter-widgets/controls",
       "_view_module_version": "2.0.0",
       "_view_name": "HBoxView",
       "box_style": "",
       "children": [
        "IPY_MODEL_a9e1f8f59be649bf9c8036bda9133b33",
        "IPY_MODEL_75afc8e5047a44b6a36c55b4266de445",
        "IPY_MODEL_7258fa991c5c4ff98305f12dc2e57480"
       ],
       "layout": "IPY_MODEL_f92f4d9e9cb7420b8d4b88d4455be34a",
       "tabbable": null,
       "tooltip": null
      }
     },
     "7258fa991c5c4ff98305f12dc2e57480": {
      "model_module": "@jupyter-widgets/controls",
      "model_module_version": "2.0.0",
      "model_name": "HTMLModel",
      "state": {
       "_dom_classes": [],
       "_model_module": "@jupyter-widgets/controls",
       "_model_module_version": "2.0.0",
       "_model_name": "HTMLModel",
       "_view_count": null,
       "_view_module": "@jupyter-widgets/controls",
       "_view_module_version": "2.0.0",
       "_view_name": "HTMLView",
       "description": "",
       "description_allow_html": false,
       "layout": "IPY_MODEL_85addecd746e472e8b936bf95762d333",
       "placeholder": "​",
       "style": "IPY_MODEL_f54597ed87e7415a933207305a4dc2f9",
       "tabbable": null,
       "tooltip": null,
       "value": " 2/2 [00:12&lt;00:00,  6.88s/it]"
      }
     },
     "75afc8e5047a44b6a36c55b4266de445": {
      "model_module": "@jupyter-widgets/controls",
      "model_module_version": "2.0.0",
      "model_name": "FloatProgressModel",
      "state": {
       "_dom_classes": [],
       "_model_module": "@jupyter-widgets/controls",
       "_model_module_version": "2.0.0",
       "_model_name": "FloatProgressModel",
       "_view_count": null,
       "_view_module": "@jupyter-widgets/controls",
       "_view_module_version": "2.0.0",
       "_view_name": "ProgressView",
       "bar_style": "success",
       "description": "",
       "description_allow_html": false,
       "layout": "IPY_MODEL_48075f8a666f4aaf9aafe8420cabea1f",
       "max": 2.0,
       "min": 0.0,
       "orientation": "horizontal",
       "style": "IPY_MODEL_dc22a5cf907d43be855c1e473339f24b",
       "tabbable": null,
       "tooltip": null,
       "value": 2.0
      }
     },
     "85addecd746e472e8b936bf95762d333": {
      "model_module": "@jupyter-widgets/base",
      "model_module_version": "2.0.0",
      "model_name": "LayoutModel",
      "state": {
       "_model_module": "@jupyter-widgets/base",
       "_model_module_version": "2.0.0",
       "_model_name": "LayoutModel",
       "_view_count": null,
       "_view_module": "@jupyter-widgets/base",
       "_view_module_version": "2.0.0",
       "_view_name": "LayoutView",
       "align_content": null,
       "align_items": null,
       "align_self": null,
       "border_bottom": null,
       "border_left": null,
       "border_right": null,
       "border_top": null,
       "bottom": null,
       "display": null,
       "flex": null,
       "flex_flow": null,
       "grid_area": null,
       "grid_auto_columns": null,
       "grid_auto_flow": null,
       "grid_auto_rows": null,
       "grid_column": null,
       "grid_gap": null,
       "grid_row": null,
       "grid_template_areas": null,
       "grid_template_columns": null,
       "grid_template_rows": null,
       "height": null,
       "justify_content": null,
       "justify_items": null,
       "left": null,
       "margin": null,
       "max_height": null,
       "max_width": null,
       "min_height": null,
       "min_width": null,
       "object_fit": null,
       "object_position": null,
       "order": null,
       "overflow": null,
       "padding": null,
       "right": null,
       "top": null,
       "visibility": null,
       "width": null
      }
     },
     "89adac2ce2b441c48e8c905b2996a297": {
      "model_module": "@jupyter-widgets/controls",
      "model_module_version": "2.0.0",
      "model_name": "HTMLStyleModel",
      "state": {
       "_model_module": "@jupyter-widgets/controls",
       "_model_module_version": "2.0.0",
       "_model_name": "HTMLStyleModel",
       "_view_count": null,
       "_view_module": "@jupyter-widgets/base",
       "_view_module_version": "2.0.0",
       "_view_name": "StyleView",
       "background": null,
       "description_width": "",
       "font_size": null,
       "text_color": null
      }
     },
     "a9e1f8f59be649bf9c8036bda9133b33": {
      "model_module": "@jupyter-widgets/controls",
      "model_module_version": "2.0.0",
      "model_name": "HTMLModel",
      "state": {
       "_dom_classes": [],
       "_model_module": "@jupyter-widgets/controls",
       "_model_module_version": "2.0.0",
       "_model_name": "HTMLModel",
       "_view_count": null,
       "_view_module": "@jupyter-widgets/controls",
       "_view_module_version": "2.0.0",
       "_view_name": "HTMLView",
       "description": "",
       "description_allow_html": false,
       "layout": "IPY_MODEL_be7014aef84a4597a3a0e44dbbe079b9",
       "placeholder": "​",
       "style": "IPY_MODEL_89adac2ce2b441c48e8c905b2996a297",
       "tabbable": null,
       "tooltip": null,
       "value": "100%"
      }
     },
     "be7014aef84a4597a3a0e44dbbe079b9": {
      "model_module": "@jupyter-widgets/base",
      "model_module_version": "2.0.0",
      "model_name": "LayoutModel",
      "state": {
       "_model_module": "@jupyter-widgets/base",
       "_model_module_version": "2.0.0",
       "_model_name": "LayoutModel",
       "_view_count": null,
       "_view_module": "@jupyter-widgets/base",
       "_view_module_version": "2.0.0",
       "_view_name": "LayoutView",
       "align_content": null,
       "align_items": null,
       "align_self": null,
       "border_bottom": null,
       "border_left": null,
       "border_right": null,
       "border_top": null,
       "bottom": null,
       "display": null,
       "flex": null,
       "flex_flow": null,
       "grid_area": null,
       "grid_auto_columns": null,
       "grid_auto_flow": null,
       "grid_auto_rows": null,
       "grid_column": null,
       "grid_gap": null,
       "grid_row": null,
       "grid_template_areas": null,
       "grid_template_columns": null,
       "grid_template_rows": null,
       "height": null,
       "justify_content": null,
       "justify_items": null,
       "left": null,
       "margin": null,
       "max_height": null,
       "max_width": null,
       "min_height": null,
       "min_width": null,
       "object_fit": null,
       "object_position": null,
       "order": null,
       "overflow": null,
       "padding": null,
       "right": null,
       "top": null,
       "visibility": null,
       "width": null
      }
     },
     "dc22a5cf907d43be855c1e473339f24b": {
      "model_module": "@jupyter-widgets/controls",
      "model_module_version": "2.0.0",
      "model_name": "ProgressStyleModel",
      "state": {
       "_model_module": "@jupyter-widgets/controls",
       "_model_module_version": "2.0.0",
       "_model_name": "ProgressStyleModel",
       "_view_count": null,
       "_view_module": "@jupyter-widgets/base",
       "_view_module_version": "2.0.0",
       "_view_name": "StyleView",
       "bar_color": null,
       "description_width": ""
      }
     },
     "f54597ed87e7415a933207305a4dc2f9": {
      "model_module": "@jupyter-widgets/controls",
      "model_module_version": "2.0.0",
      "model_name": "HTMLStyleModel",
      "state": {
       "_model_module": "@jupyter-widgets/controls",
       "_model_module_version": "2.0.0",
       "_model_name": "HTMLStyleModel",
       "_view_count": null,
       "_view_module": "@jupyter-widgets/base",
       "_view_module_version": "2.0.0",
       "_view_name": "StyleView",
       "background": null,
       "description_width": "",
       "font_size": null,
       "text_color": null
      }
     },
     "f92f4d9e9cb7420b8d4b88d4455be34a": {
      "model_module": "@jupyter-widgets/base",
      "model_module_version": "2.0.0",
      "model_name": "LayoutModel",
      "state": {
       "_model_module": "@jupyter-widgets/base",
       "_model_module_version": "2.0.0",
       "_model_name": "LayoutModel",
       "_view_count": null,
       "_view_module": "@jupyter-widgets/base",
       "_view_module_version": "2.0.0",
       "_view_name": "LayoutView",
       "align_content": null,
       "align_items": null,
       "align_self": null,
       "border_bottom": null,
       "border_left": null,
       "border_right": null,
       "border_top": null,
       "bottom": null,
       "display": null,
       "flex": null,
       "flex_flow": null,
       "grid_area": null,
       "grid_auto_columns": null,
       "grid_auto_flow": null,
       "grid_auto_rows": null,
       "grid_column": null,
       "grid_gap": null,
       "grid_row": null,
       "grid_template_areas": null,
       "grid_template_columns": null,
       "grid_template_rows": null,
       "height": null,
       "justify_content": null,
       "justify_items": null,
       "left": null,
       "margin": null,
       "max_height": null,
       "max_width": null,
       "min_height": null,
       "min_width": null,
       "object_fit": null,
       "object_position": null,
       "order": null,
       "overflow": null,
       "padding": null,
       "right": null,
       "top": null,
       "visibility": null,
       "width": null
      }
     }
    },
    "version_major": 2,
    "version_minor": 0
   }
  }
 },
 "nbformat": 4,
 "nbformat_minor": 5
}