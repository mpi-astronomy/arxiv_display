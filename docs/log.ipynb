{
 "cells": [
  {
   "cell_type": "markdown",
   "id": "92bcb855",
   "metadata": {
    "papermill": {
     "duration": 0.004121,
     "end_time": "2024-12-24T04:10:36.145134",
     "exception": false,
     "start_time": "2024-12-24T04:10:36.141013",
     "status": "completed"
    },
    "tags": []
   },
   "source": [
    "# MPIA Arxiv on Deck 2\n",
    "\n",
    "Contains the steps to produce the paper extractions."
   ]
  },
  {
   "cell_type": "code",
   "execution_count": 1,
   "id": "3a0d6e11",
   "metadata": {
    "execution": {
     "iopub.execute_input": "2024-12-24T04:10:36.152954Z",
     "iopub.status.busy": "2024-12-24T04:10:36.152365Z",
     "iopub.status.idle": "2024-12-24T04:10:36.658571Z",
     "shell.execute_reply": "2024-12-24T04:10:36.657837Z"
    },
    "papermill": {
     "duration": 0.511555,
     "end_time": "2024-12-24T04:10:36.659972",
     "exception": false,
     "start_time": "2024-12-24T04:10:36.148417",
     "status": "completed"
    },
    "tags": []
   },
   "outputs": [],
   "source": [
    "# Imports\n",
    "import os\n",
    "from IPython.display import Markdown, display\n",
    "from tqdm.notebook import tqdm\n",
    "import warnings\n",
    "from PIL import Image \n",
    "import re\n",
    "\n",
    "# requires arxiv_on_deck_2\n",
    "\n",
    "from arxiv_on_deck_2.arxiv2 import (get_new_papers, \n",
    "                                    get_paper_from_identifier,\n",
    "                                    retrieve_document_source, \n",
    "                                    get_markdown_badge)\n",
    "from arxiv_on_deck_2 import (latex,\n",
    "                             latex_bib,\n",
    "                             mpia,\n",
    "                             highlight_authors_in_list)\n",
    "\n",
    "# Sometimes images are really big\n",
    "Image.MAX_IMAGE_PIXELS = 1000000000 "
   ]
  },
  {
   "cell_type": "code",
   "execution_count": 2,
   "id": "22aa9d44",
   "metadata": {
    "execution": {
     "iopub.execute_input": "2024-12-24T04:10:36.667566Z",
     "iopub.status.busy": "2024-12-24T04:10:36.667136Z",
     "iopub.status.idle": "2024-12-24T04:10:36.675465Z",
     "shell.execute_reply": "2024-12-24T04:10:36.674929Z"
    },
    "papermill": {
     "duration": 0.01311,
     "end_time": "2024-12-24T04:10:36.676442",
     "exception": false,
     "start_time": "2024-12-24T04:10:36.663332",
     "status": "completed"
    },
    "tags": []
   },
   "outputs": [],
   "source": [
    "# Some useful definitions.\n",
    "\n",
    "class AffiliationWarning(UserWarning):\n",
    "    pass\n",
    "\n",
    "class AffiliationError(RuntimeError):\n",
    "    pass\n",
    "\n",
    "def validation(source: str):\n",
    "    \"\"\"Raises error paper during parsing of source file\n",
    "    \n",
    "    Allows checks before parsing TeX code.\n",
    "    \n",
    "    Raises AffiliationWarning\n",
    "    \"\"\"\n",
    "    check = mpia.affiliation_verifications(source, verbose=True)\n",
    "    if check is not True:\n",
    "        raise AffiliationError(\"mpia.affiliation_verifications: \" + check)\n",
    "\n",
    "        \n",
    "warnings.simplefilter('always', AffiliationWarning)\n",
    "\n",
    "\n",
    "def get_markdown_qrcode(paper_id: str):\n",
    "    \"\"\" Generate a qrcode to the arxiv page using qrserver.com\n",
    "    \n",
    "    :param paper: Arxiv paper\n",
    "    :returns: markdown text\n",
    "    \"\"\"\n",
    "    url = r\"https://api.qrserver.com/v1/create-qr-code/?size=100x100&data=\"\n",
    "    txt = f\"\"\"<img src={url}\"https://arxiv.org/abs/{paper_id}\">\"\"\"\n",
    "    txt = '<div id=\"qrcode\">' + txt + '</div>'\n",
    "    return txt\n",
    "\n",
    "\n",
    "def clean_non_western_encoded_characters_commands(text: str) -> str:\n",
    "    \"\"\" Remove non-western encoded characters from a string\n",
    "    List may need to grow.\n",
    "    \n",
    "    :param text: the text to clean\n",
    "    :return: the cleaned text\n",
    "    \"\"\"\n",
    "    text = re.sub(r\"(\\\\begin{CJK}{UTF8}{gbsn})(.*?)(\\\\end{CJK})\", r\"\\2\", text)\n",
    "    return text\n",
    "\n",
    "\n",
    "def get_initials(name: str) -> str:\n",
    "    \"\"\" Get the short name, e.g., A.-B. FamName\n",
    "    :param name: full name\n",
    "    :returns: initials\n",
    "    \"\"\"\n",
    "    initials = []\n",
    "    # account for non western names often in ()\n",
    "    if '(' in name:\n",
    "        name = clean_non_western_encoded_characters_commands(name)\n",
    "        suffix = re.findall(r\"\\((.*?)\\)\", name)[0]\n",
    "        name = name.replace(f\"({suffix})\", '')\n",
    "    else:\n",
    "        suffix = ''\n",
    "    split = name.split()\n",
    "    for token in split[:-1]:\n",
    "        if '-' in token:\n",
    "            current = '-'.join([k[0] + '.' for k in token.split('-')])\n",
    "        else:\n",
    "            current = token[0] + '.'\n",
    "        initials.append(current)\n",
    "    initials.append(split[-1].strip())\n",
    "    if suffix:\n",
    "        initials.append(f\"({suffix})\")\n",
    "    return ' '.join(initials)"
   ]
  },
  {
   "cell_type": "markdown",
   "id": "14bd6310",
   "metadata": {
    "papermill": {
     "duration": 0.002979,
     "end_time": "2024-12-24T04:10:36.682482",
     "exception": false,
     "start_time": "2024-12-24T04:10:36.679503",
     "status": "completed"
    },
    "tags": []
   },
   "source": [
    "## get list of arxiv paper candidates\n",
    "\n",
    "We use the MPIA mitarbeiter list webpage from mpia.de to get author names\n",
    "We then get all new papers from Arxiv and match authors"
   ]
  },
  {
   "cell_type": "code",
   "execution_count": 3,
   "id": "7ea813a8",
   "metadata": {
    "execution": {
     "iopub.execute_input": "2024-12-24T04:10:36.689461Z",
     "iopub.status.busy": "2024-12-24T04:10:36.688977Z",
     "iopub.status.idle": "2024-12-24T04:10:57.521329Z",
     "shell.execute_reply": "2024-12-24T04:10:57.520700Z"
    },
    "papermill": {
     "duration": 20.837104,
     "end_time": "2024-12-24T04:10:57.522514",
     "exception": false,
     "start_time": "2024-12-24T04:10:36.685410",
     "status": "completed"
    },
    "tags": []
   },
   "outputs": [],
   "source": [
    "# deal with the author list and edge cases of people that cannot be consistent on their name  \n",
    "\n",
    "def filter_non_scientists(name: str) -> bool:\n",
    "    \"\"\" Loose filter on expected authorships\n",
    "\n",
    "    removing IT, administration, technical staff\n",
    "    :param name: name\n",
    "    :returns: False if name is not a scientist\n",
    "    \"\"\"\n",
    "    remove_list = ['Licht', 'Binroth', 'Witzel', 'Jordan',\n",
    "                   'Zähringer', 'Scheerer', 'Hoffmann', 'Düe',\n",
    "                   'Hellmich', 'Enkler-Scharpegge', 'Witte-Nguy',\n",
    "                   'Dehen', 'Beckmann', 'Jager', 'Jäger'\n",
    "                  ]\n",
    "\n",
    "    for k in remove_list:\n",
    "        if k in name:\n",
    "            return False\n",
    "    return True\n",
    "\n",
    "def add_author_to_list(author_list: list) -> list:\n",
    "    \"\"\" Add author to list if not already in list\n",
    "    \n",
    "    :param author: author name\n",
    "    :param author_list: list of authors\n",
    "    :returns: updated list of authors\n",
    "    \"\"\"\n",
    "    add_list = ['T. Henning']\n",
    "\n",
    "    for author in add_list:\n",
    "        if author not in author_list:\n",
    "            author_list.append(author)\n",
    "    return author_list\n",
    "\n",
    "# get list from MPIA website\n",
    "# filter for non-scientists (mpia.get_mpia_mitarbeiter_list() does some filtering)\n",
    "mpia_authors = [k[1] for k in mpia.get_mpia_mitarbeiter_list() if filter_non_scientists(k[1])]\n",
    "# add some missing author because of inconsistencies in their MPIA name and author name on papers\n",
    "mpia_authors = add_author_to_list(mpia_authors)"
   ]
  },
  {
   "cell_type": "code",
   "execution_count": 4,
   "id": "2645e73a",
   "metadata": {
    "execution": {
     "iopub.execute_input": "2024-12-24T04:10:57.529922Z",
     "iopub.status.busy": "2024-12-24T04:10:57.529700Z",
     "iopub.status.idle": "2024-12-24T04:10:58.362804Z",
     "shell.execute_reply": "2024-12-24T04:10:58.362171Z"
    },
    "papermill": {
     "duration": 0.837932,
     "end_time": "2024-12-24T04:10:58.363810",
     "exception": false,
     "start_time": "2024-12-24T04:10:57.525878",
     "status": "completed"
    },
    "tags": []
   },
   "outputs": [
    {
     "name": "stdout",
     "output_type": "stream",
     "text": [
      "X. Zhang  ->  X. Zhang  |  ['X. Zhang']\n",
      "J. Liu  ->  J. Liu  |  ['J. Liu']\n",
      "R. Klein  ->  R. Klein  |  ['R. Klein']\n",
      "M. Schirmer  ->  M. Schirmer  |  ['M. Schirmer']\n",
      "K. Jahnke  ->  K. Jahnke  |  ['K. Jahnke']\n",
      "J. Liu  ->  J. Liu  |  ['J. Liu']\n",
      "Arxiv has 55 new papers today\n",
      "          5 with possible author matches\n"
     ]
    }
   ],
   "source": [
    "new_papers = get_new_papers()\n",
    "# add manual references\n",
    "add_paper_refs = []\n",
    "new_papers.extend([get_paper_from_identifier(k) for k in add_paper_refs])\n",
    "\n",
    "def robust_call(fn, value, *args, **kwargs):\n",
    "    try:\n",
    "        return fn(value, *args, **kwargs)\n",
    "    except Exception:\n",
    "        return value\n",
    "\n",
    "candidates = []\n",
    "for paperk in new_papers:\n",
    "    # Check author list with their initials\n",
    "    normed_author_list = [robust_call(mpia.get_initials, k) for k in paperk['authors']]\n",
    "    hl_authors = highlight_authors_in_list(normed_author_list, mpia_authors, verbose=True)\n",
    "    matches = [(hl, orig) for hl, orig in zip(hl_authors, paperk['authors']) if 'mark' in hl]\n",
    "    paperk['authors'] = hl_authors\n",
    "    if matches:\n",
    "        # only select paper if an author matched our list\n",
    "        candidates.append(paperk)\n",
    "print(\"\"\"Arxiv has {0:,d} new papers today\"\"\".format(len(new_papers)))        \n",
    "print(\"\"\"          {0:,d} with possible author matches\"\"\".format(len(candidates)))"
   ]
  },
  {
   "cell_type": "markdown",
   "id": "3543b34a",
   "metadata": {
    "papermill": {
     "duration": 0.003151,
     "end_time": "2024-12-24T04:10:58.370407",
     "exception": false,
     "start_time": "2024-12-24T04:10:58.367256",
     "status": "completed"
    },
    "tags": []
   },
   "source": [
    "# Parse sources and generate relevant outputs\n",
    "\n",
    "From the candidates, we do the following steps:\n",
    "* get their tarball from ArXiv (and extract data)\n",
    "* find the main .tex file: find one with \\documentclass{...} (sometimes it's non trivial)\n",
    "* Check affiliations with :func:`validation`, which uses :func:`mpia.affiliation_verifications`\n",
    "* If passing the affiliations: we parse the .tex source\n",
    "   * inject sub-documents into the main (flatten the main document)\n",
    "   * parse structure, extract information (title, abstract, authors, figures...)\n",
    "   * handles `\\graphicspath` if provided\n",
    "* Generate the .md document."
   ]
  },
  {
   "cell_type": "code",
   "execution_count": 5,
   "id": "9576b79e",
   "metadata": {
    "execution": {
     "iopub.execute_input": "2024-12-24T04:10:58.377918Z",
     "iopub.status.busy": "2024-12-24T04:10:58.377367Z",
     "iopub.status.idle": "2024-12-24T04:30:46.130576Z",
     "shell.execute_reply": "2024-12-24T04:30:46.129853Z"
    },
    "papermill": {
     "duration": 1187.758242,
     "end_time": "2024-12-24T04:30:46.131750",
     "exception": false,
     "start_time": "2024-12-24T04:10:58.373508",
     "status": "completed"
    },
    "scrolled": false,
    "tags": []
   },
   "outputs": [
    {
     "data": {
      "application/vnd.jupyter.widget-view+json": {
       "model_id": "2e309761ab0743d8992f2f4c22ed274c",
       "version_major": 2,
       "version_minor": 0
      },
      "text/plain": [
       "  0%|          | 0/5 [00:00<?, ?it/s]"
      ]
     },
     "metadata": {},
     "output_type": "display_data"
    },
    {
     "name": "stdout",
     "output_type": "stream",
     "text": [
      "Retrieving document from  https://arxiv.org/e-print/2412.16853\n"
     ]
    },
    {
     "name": "stdout",
     "output_type": "stream",
     "text": [
      "extracting tarball to tmp_2412.16853..."
     ]
    },
    {
     "name": "stdout",
     "output_type": "stream",
     "text": [
      " done.\n",
      "Retrieving document from  https://arxiv.org/e-print/2412.16930\n"
     ]
    },
    {
     "name": "stdout",
     "output_type": "stream",
     "text": [
      "extracting tarball to tmp_2412.16930..."
     ]
    },
    {
     "name": "stdout",
     "output_type": "stream",
     "text": [
      " done.\n",
      "Retrieving document from  https://arxiv.org/e-print/2412.17645\n"
     ]
    },
    {
     "name": "stdout",
     "output_type": "stream",
     "text": [
      "extracting tarball to tmp_2412.17645..."
     ]
    },
    {
     "name": "stdout",
     "output_type": "stream",
     "text": [
      " done.\n",
      "Retrieving document from  https://arxiv.org/e-print/2412.17672\n"
     ]
    },
    {
     "name": "stdout",
     "output_type": "stream",
     "text": [
      "extracting tarball to tmp_2412.17672..."
     ]
    },
    {
     "name": "stdout",
     "output_type": "stream",
     "text": [
      " done.\n"
     ]
    },
    {
     "name": "stdout",
     "output_type": "stream",
     "text": [
      "Found 173 bibliographic references in tmp_2412.17672/main.bbl.\n",
      "Issues with the citations\n",
      "syntax error in line 403: '=' expected\n",
      "Retrieving document from  https://arxiv.org/e-print/2412.17716\n"
     ]
    },
    {
     "name": "stdout",
     "output_type": "stream",
     "text": [
      "extracting tarball to tmp_2412.17716..."
     ]
    },
    {
     "name": "stdout",
     "output_type": "stream",
     "text": [
      " done.\n"
     ]
    },
    {
     "name": "stderr",
     "output_type": "stream",
     "text": [
      "/opt/hostedtoolcache/Python/3.9.20/x64/lib/python3.9/site-packages/IPython/core/interactiveshell.py:3550: LatexWarning: Multiple tex files.\n",
      "\n",
      "  exec(code_obj, self.user_global_ns, self.user_ns)\n",
      "/opt/hostedtoolcache/Python/3.9.20/x64/lib/python3.9/site-packages/IPython/core/interactiveshell.py:3550: LatexWarning: Found documentclass in tmp_2412.17716/OrionISF_AAS_JintaiWu.tex\n",
      "\n",
      "  exec(code_obj, self.user_global_ns, self.user_ns)\n",
      "/opt/hostedtoolcache/Python/3.9.20/x64/lib/python3.9/site-packages/arxiv_on_deck_2/latex.py:414: LatexWarning: Latex injecting: 'bistro_authors' from 'tmp_2412.17716/bistro_authors.tex'\n",
      "  warnings.warn(LatexWarning(f\"Latex injecting: '{ext}' from '{subsource}'\"))\n"
     ]
    }
   ],
   "source": [
    "documents = []\n",
    "failed = []\n",
    "for paper in tqdm(candidates):\n",
    "    # debug crap\n",
    "    paper['identifier'] = paper['identifier'].lower().replace('arxiv:', '').replace(r'\\n', '').strip()\n",
    "    paper_id = paper['identifier']\n",
    "    \n",
    "    folder = f'tmp_{paper_id}'\n",
    "\n",
    "    try:\n",
    "        if not os.path.isdir(folder):\n",
    "            folder = retrieve_document_source(f\"{paper_id}\", f'tmp_{paper_id}')\n",
    "        \n",
    "        try:\n",
    "            doc = latex.LatexDocument(folder, validation=validation)    \n",
    "        except AffiliationError as affilerror:\n",
    "            msg = f\"ArXiv:{paper_id:s} is not an MPIA paper... \" + str(affilerror)\n",
    "            failed.append((paper, \"affiliation error: \" + str(affilerror) ))\n",
    "            continue\n",
    "        \n",
    "        # Hack because sometimes author parsing does not work well\n",
    "        if (len(doc.authors) != len(paper['authors'])):\n",
    "            doc._authors = paper['authors']\n",
    "        else:\n",
    "            # highlight authors (FIXME: doc.highlight_authors)\n",
    "            # done on arxiv paper already\n",
    "            doc._authors = highlight_authors_in_list(\n",
    "                [get_initials(k) for k in doc.authors], \n",
    "                mpia_authors, verbose=True)\n",
    "        if (doc.abstract) in (None, ''):\n",
    "            doc._abstract = paper['abstract']\n",
    "            \n",
    "        doc.comment = (get_markdown_badge(paper_id) + \n",
    "                       \"<mark>Appeared on: \" + paper['date'] + \"</mark> - \")\n",
    "        if paper['comments']:\n",
    "            doc.comment += \" _\" + paper['comments'] + \"_\"\n",
    "        \n",
    "        full_md = doc.generate_markdown_text()\n",
    "        \n",
    "        full_md += get_markdown_qrcode(paper_id)\n",
    "        \n",
    "        # replace citations\n",
    "        try:\n",
    "            bibdata = latex_bib.LatexBib.from_doc(doc)\n",
    "            full_md = latex_bib.replace_citations(full_md, bibdata)\n",
    "        except Exception as e:\n",
    "            print(\"Issues with the citations\")\n",
    "            print(e)\n",
    "        \n",
    "        documents.append((paper_id, full_md))\n",
    "    except Exception as e:\n",
    "        warnings.warn(latex.LatexWarning(f\"{paper_id:s} did not run properly\\n\" +\n",
    "                                         str(e)\n",
    "                                        ))\n",
    "        failed.append((paper, \"latex error \" + str(e)))"
   ]
  },
  {
   "cell_type": "markdown",
   "id": "2505a25c",
   "metadata": {
    "papermill": {
     "duration": 0.003768,
     "end_time": "2024-12-24T04:30:46.139599",
     "exception": false,
     "start_time": "2024-12-24T04:30:46.135831",
     "status": "completed"
    },
    "tags": []
   },
   "source": [
    "### Export the logs\n",
    "\n",
    "Throughout, we also keep track of the logs per paper. see `logs-{today date}.md` "
   ]
  },
  {
   "cell_type": "code",
   "execution_count": 6,
   "id": "d733828a",
   "metadata": {
    "execution": {
     "iopub.execute_input": "2024-12-24T04:30:46.148062Z",
     "iopub.status.busy": "2024-12-24T04:30:46.147772Z",
     "iopub.status.idle": "2024-12-24T04:30:46.164437Z",
     "shell.execute_reply": "2024-12-24T04:30:46.163736Z"
    },
    "papermill": {
     "duration": 0.022182,
     "end_time": "2024-12-24T04:30:46.165516",
     "exception": false,
     "start_time": "2024-12-24T04:30:46.143334",
     "status": "completed"
    },
    "scrolled": false,
    "tags": []
   },
   "outputs": [
    {
     "data": {
      "text/markdown": [
       "## Successful papers"
      ],
      "text/plain": [
       "<IPython.core.display.Markdown object>"
      ]
     },
     "metadata": {},
     "output_type": "display_data"
    },
    {
     "data": {
      "text/markdown": [
       "\n",
       "|||\n",
       "|---:|:---|\n",
       "| [![arXiv](https://img.shields.io/badge/arXiv-2412.17672-b31b1b.svg)](https://arxiv.org/abs/2412.17672) | **Euclid: Early Release Observations of diffuse stellar structures and globular clusters as probes of the mass assembly of galaxies in the Dorado group**  |\n",
       "|| M. Urbano, et al. -- incl., <mark>M. Schirmer</mark>, <mark>K. Jahnke</mark> |\n",
       "|*Appeared on*| *2024-12-24*|\n",
       "|*Comments*| *25 pages, 20 figures*|\n",
       "|**Abstract**|            Deep surveys reveal tidal debris and associated compact stellar systems. Euclid's unique combination of capabilities (spatial resolution, depth, and wide sky coverage) will make it a groundbreaking tool for galactic archaeology in the local Universe, bringing low surface brightness (LSB) science into the era of large-scale astronomical surveys. Euclid's Early Release Observations (ERO) demonstrate this potential with a field of view that includes several galaxies in the Dorado group. In this paper, we aim to derive from this image a mass assembly scenario for its main galaxies: NGC 1549, NGC 1553, and NGC 1546. We detect internal and external diffuse structures, and identify candidate globular clusters (GCs). By analysing the colours and distributions of the diffuse structures and candidate GCs, we can place constraints on the galaxies' mass assembly and merger histories. The results show that feature morphology, surface brightness, colours, and GC density profiles are consistent with galaxies that have undergone different merger scenarios. We classify NGC 1549 as a pure elliptical galaxy that has undergone a major merger. NGC 1553 appears to have recently transitioned from a late-type galaxy to early type, after a series of radial minor to intermediate mergers. NGC 1546 is a rare specimen of galaxy with an undisturbed disk and a prominent diffuse stellar halo, which we infer has been fed by minor mergers and then disturbed by the tidal effect from NGC 1553. Finally, we identify limitations specific to the observing conditions of this ERO, in particular stray light in the visible and persistence in the near-infrared bands. Once these issues are addressed and the extended emission from LSB objects is preserved by the data-processing pipeline, the Euclid Wide Survey will allow studies of the local Universe to be extended to statistical ensembles over a large part of the extragalactic sky.         |"
      ],
      "text/plain": [
       "[2412.17672] Euclid: Early Release Observations of diffuse stellar structures and globular clusters as probes of the mass assembly of galaxies in the Dorado group\n",
       "\tM. Urbano, et al. -- incl., <mark>M. Schirmer</mark>, <mark>K. Jahnke</mark>"
      ]
     },
     "metadata": {},
     "output_type": "display_data"
    },
    {
     "data": {
      "text/markdown": [
       "## Failed papers"
      ],
      "text/plain": [
       "<IPython.core.display.Markdown object>"
      ]
     },
     "metadata": {},
     "output_type": "display_data"
    },
    {
     "data": {
      "text/markdown": [
       "\n",
       "|||\n",
       "|---:|:---|\n",
       "| [![arXiv](https://img.shields.io/badge/arXiv-2412.16853-b31b1b.svg)](https://arxiv.org/abs/2412.16853) | **Application of 3D U-Net Neural Networks in Extracting the Epoch of Reionization Signal from SKA-Low Observations Based on Real Observations of NCP Field from LOFAR**  |\n",
       "|| L.-Y. Gao, et al. -- incl., <mark>X. Zhang</mark> |\n",
       "|*Appeared on*| *2024-12-24*|\n",
       "|*Comments*| *18 pages, 17 figures*|\n",
       "|**Abstract**|            Neutral hydrogen serves as a crucial probe for the Cosmic Dawn and the Epoch of Reionization (EoR). Actual observations of the 21-cm signal often encounter challenges such as thermal noise and various systematic effects. To overcome these challenges, we simulate SKA-Low-depth images and process them with a deep learning method. We utilized foreground residuals acquired by LOFAR during actual North Celestial Pole field observations, thermal and excess variances calculated via Gaussian process regression, and 21-cm signals generated with 21cmFAST for signal extraction tests. Our approach to overcome these foreground, thermal noise, and excess variance components employs a 3D U-Net neural network architecture for image analysis. When considering thermal noise corresponding to 1400 hours of integration, U-Net provides reliable 2D power spectrum predictions, and robustness tests ensure that we get realistic EoR signals. Adding foreground residuals, however, causes inconsistencies below the horizon delay-line. Lastly, evaluating both thermal and excess variance with observations up to 3700 and 14000 hours ensures reliable power spectrum estimations within the EoR window and across nearly all scales, respectively.         |\n",
       "|<p style=\"color:green\"> **ERROR** </p>| <p style=\"color:green\">affiliation error: mpia.affiliation_verifications: 'Heidelberg' keyword not found.</p> |"
      ],
      "text/plain": [
       "<IPython.core.display.Markdown object>"
      ]
     },
     "metadata": {},
     "output_type": "display_data"
    },
    {
     "data": {
      "text/markdown": [
       "\n",
       "|||\n",
       "|---:|:---|\n",
       "| [![arXiv](https://img.shields.io/badge/arXiv-2412.16930-b31b1b.svg)](https://arxiv.org/abs/2412.16930) | **Photometric Stellar Parameters for 195,478 Kepler Input Catalog (KIC) Stars**  |\n",
       "|| B. Zhang, et al. -- incl., <mark>J. Liu</mark> |\n",
       "|*Appeared on*| *2024-12-24*|\n",
       "|*Comments*| *26 pages, 22 figures. To be published in ApJS. For associated catalogs of the result, see this https URL*|\n",
       "|**Abstract**|            The stellar atmospheric parameters and physical properties of stars in the Kepler Input Catalog (KIC) are of great significance for the study of exoplanets, stellar activity, and asteroseismology. However, despite extensive effort over the past decades, accurate spectroscopic estimates of these parameters are available for only about half of the stars in the full KIC catalog. In our work, by training relationships between photometric colors and spectroscopic stellar parameters from Gaia DR3, the Kepler Issac-Newton Survey, LAMOST DR10, and APOGEE DR17, we have obtained atmospheric-parameter estimates for over 195,000 stars, accounting for 97% of the total sample of KIC stars. We obtain 1{\\sigma} uncertainties of 0.1 dex on metallicity [Fe/H], 100 K on effective temperature $T_{\\mathrm{eff}}$ , and 0.2 dex on surface gravity log $g$. In addition, based on these atmospheric parameters, we estimated the ages, masses, radii, and surface gravities of these stars using the commonly adopted isochrone-fitting approach. The resulting precisions are 20% for ages, 0.1 $M_{\\odot}$ for masses, 0.01 $R_{\\odot}$ for radii and 0.1 dex for surface gravities. These accurate parameters are expected to provide valuable insights for future studies on various fields.         |\n",
       "|<p style=\"color:green\"> **ERROR** </p>| <p style=\"color:green\">affiliation error: mpia.affiliation_verifications: 'Heidelberg' keyword not found.</p> |"
      ],
      "text/plain": [
       "<IPython.core.display.Markdown object>"
      ]
     },
     "metadata": {},
     "output_type": "display_data"
    },
    {
     "data": {
      "text/markdown": [
       "\n",
       "|||\n",
       "|---:|:---|\n",
       "| [![arXiv](https://img.shields.io/badge/arXiv-2412.17645-b31b1b.svg)](https://arxiv.org/abs/2412.17645) | **Full disc [CII] mapping of nearby star-forming galaxies: SOFIA FIFI/LS observations of NGC 3627, NGC 4321, and NGC 6946**  |\n",
       "|| I. Kovačić, et al. -- incl., <mark>R. Klein</mark> |\n",
       "|*Appeared on*| *2024-12-24*|\n",
       "|*Comments*| *17 pages, 10 figures*|\n",
       "|**Abstract**|            As a major cooling line of interstellar gas, the far-infrared 158 {\\mu}m line from singly ionised carbon [CII] is an important tracer of various components of the interstellar medium in galaxies across all spatial and morphological scales. Yet, there is still not a strong constraint on the origins of [CII] emission. In this work, we derive the resolved [CII] star formation rate relation and aim to unravel the complexity of the origin of [CII]. We used the Field-Imaging Far-Infrared Line Spectrometer on board the Stratospheric Observatory for Infrared Astronomy to map [CII] in three nearby star-forming galaxies at sub-kiloparsec scales, namely, NGC 3627, NGC 4321, and NGC 6946, and we compared these [CII] observations to the galactic properties derived from complementary data from the literature. We find that the relationship between the [CII] fine structure line and star formation rate shows variations between the galaxies as well as between different environments within each galaxy. Our results show that the use of [CII] as a tracer for star formation is much more tangled than has previously been suggested within the extragalactic literature, which typically focuses on small regions of galaxies and/or uses large-aperture sampling of many different physical environments. As found within resolved observations of the Milky Way, the picture obtained from [CII] observations is complicated by its local interstellar medium conditions. Future studies will require a larger sample and additional observational tracers, obtained on spatial scales within galaxies, in order to accurately disentangle the origin of [CII] and calibrate its use as a star formation tracer.         |\n",
       "|<p style=\"color:green\"> **ERROR** </p>| <p style=\"color:green\">affiliation error: mpia.affiliation_verifications: 'Heidelberg' keyword not found.</p> |"
      ],
      "text/plain": [
       "<IPython.core.display.Markdown object>"
      ]
     },
     "metadata": {},
     "output_type": "display_data"
    },
    {
     "data": {
      "text/markdown": [
       "\n",
       "|||\n",
       "|---:|:---|\n",
       "| [![arXiv](https://img.shields.io/badge/arXiv-2412.17716-b31b1b.svg)](https://arxiv.org/abs/2412.17716) | **A Tale of Three: Magnetic Fields along the Orion Integral-Shaped Filament as Revealed by JCMT BISTRO survey**  |\n",
       "|| J. Wu, et al. -- incl., <mark>J. Liu</mark> |\n",
       "|*Appeared on*| *2024-12-24*|\n",
       "|*Comments*| *published in the ApJ Letters*|\n",
       "|**Abstract**|            As part of the BISTRO survey, we present JCMT 850 $\\mu$m polarimetric observations towards the Orion Integral-Shaped Filament (ISF) that covers three portions known as OMC-1, OMC-2, and OMC-3. The magnetic field threading the ISF seen in the JCMT POL-2 map appears as a tale of three: pinched for OMC-1, twisted for OMC-2, and nearly uniform for OMC-3. A multi-scale analysis shows that the magnetic field structure in OMC-3 is very consistent at all the scales, whereas the field structure in OMC-2 shows no correlation across different scales. In OMC-1, the field retains its mean orientation from large to small scales, but shows some deviations at small scales. Histograms of relative orientations between the magnetic field and filaments reveal a bimodal distribution for OMC-1, a relatively random distribution for OMC-2, and a distribution with a predominant peak at 90$^\\circ$ for OMC-3. Furthermore, the magnetic fields in OMC-1 and OMC-3 both appear to be aligned perpendicular to the fibers, which are denser structures within the filament, but the field in OMC-2 is aligned along with the fibers. All these suggest that gravity, turbulence, and magnetic field are each playing a leading role in OMC-1, 2, and 3, respectively. While OMC-2 and 3 have almost the same gas mass, density, and non-thermal velocity dispersion, there are on average younger and fewer young stellar objects in OMC-3, providing evidence that a stronger magnetic field will induce slower and less efficient star formation in molecular clouds.         |\n",
       "|<p style=\"color:green\"> **ERROR** </p>| <p style=\"color:green\">affiliation error: mpia.affiliation_verifications: 'Heidelberg' keyword not found.</p> |"
      ],
      "text/plain": [
       "<IPython.core.display.Markdown object>"
      ]
     },
     "metadata": {},
     "output_type": "display_data"
    }
   ],
   "source": [
    "import datetime\n",
    "today = str(datetime.date.today())\n",
    "logfile = f\"_build/html/logs/log-{today}.md\"\n",
    "\n",
    "\n",
    "with open(logfile, 'w') as logs:\n",
    "    # Success\n",
    "    logs.write(f'# Arxiv on Deck 2: Logs - {today}\\n\\n')\n",
    "    logs.write(\"\"\"* Arxiv had {0:,d} new papers\\n\"\"\".format(len(new_papers)))\n",
    "    logs.write(\"\"\"    * {0:,d} with possible author matches\\n\\n\"\"\".format(len(candidates)))\n",
    "    logs.write(\"## Sucessful papers\\n\\n\")\n",
    "    display(Markdown(\"## Successful papers\"))\n",
    "    success = [k[0] for k in documents]\n",
    "    for candid in candidates:\n",
    "        if candid['identifier'].split(':')[-1] in success:\n",
    "            display(candid)\n",
    "            logs.write(candid.generate_markdown_text() + '\\n\\n')\n",
    "\n",
    "    ## failed\n",
    "    logs.write(\"## Failed papers\\n\\n\")\n",
    "    display(Markdown(\"## Failed papers\"))\n",
    "    failed = sorted(failed, key=lambda x: x[1])\n",
    "    current_reason = \"\"\n",
    "    for paper, reason in failed:\n",
    "        if 'affiliation' in reason:\n",
    "            color = 'green'\n",
    "        else:\n",
    "            color = 'red'\n",
    "        data = Markdown(\n",
    "                paper.generate_markdown_text() + \n",
    "                f'\\n|<p style=\"color:{color:s}\"> **ERROR** </p>| <p style=\"color:{color:s}\">{reason:s}</p> |'\n",
    "               )\n",
    "        if reason != current_reason:\n",
    "            logs.write(f'### {reason:s} \\n\\n')\n",
    "            current_reason = reason\n",
    "        logs.write(data.data + '\\n\\n')\n",
    "        \n",
    "        # only display here the important errors (all in logs)\n",
    "        # if color in ('red',):\n",
    "        display(data)"
   ]
  },
  {
   "cell_type": "markdown",
   "id": "472d20ee",
   "metadata": {
    "papermill": {
     "duration": 0.004605,
     "end_time": "2024-12-24T04:30:46.175460",
     "exception": false,
     "start_time": "2024-12-24T04:30:46.170855",
     "status": "completed"
    },
    "tags": []
   },
   "source": [
    "## Export documents\n",
    "\n",
    "We now write the .md files and export relevant images"
   ]
  },
  {
   "cell_type": "code",
   "execution_count": 7,
   "id": "d426aed9",
   "metadata": {
    "execution": {
     "iopub.execute_input": "2024-12-24T04:30:46.186105Z",
     "iopub.status.busy": "2024-12-24T04:30:46.185554Z",
     "iopub.status.idle": "2024-12-24T04:30:46.192648Z",
     "shell.execute_reply": "2024-12-24T04:30:46.192086Z"
    },
    "papermill": {
     "duration": 0.013538,
     "end_time": "2024-12-24T04:30:46.193585",
     "exception": false,
     "start_time": "2024-12-24T04:30:46.180047",
     "status": "completed"
    },
    "tags": []
   },
   "outputs": [],
   "source": [
    "def export_markdown_summary(md: str, md_fname:str, directory: str):\n",
    "    \"\"\"Export MD document and associated relevant images\"\"\"\n",
    "    import os\n",
    "    import shutil\n",
    "    import re\n",
    "\n",
    "    if (os.path.exists(directory) and not os.path.isdir(directory)):\n",
    "        raise RuntimeError(f\"a non-directory file exists with name {directory:s}\")\n",
    "\n",
    "    if (not os.path.exists(directory)):\n",
    "        print(f\"creating directory {directory:s}\")\n",
    "        os.mkdir(directory)\n",
    "\n",
    "    fig_fnames = (re.compile(r'\\[Fig.*\\]\\((.*)\\)').findall(md) + \n",
    "                  re.compile(r'\\<img src=\"([^>\\s]*)\"[^>]*/>').findall(md))\n",
    "    print(\"found figures\", fig_fnames)\n",
    "    for fname in fig_fnames:\n",
    "        if 'http' in fname:\n",
    "            # No need to copy online figures\n",
    "            continue\n",
    "        if not os.path.exists(fname):\n",
    "            print(\"file not found\", fname)\n",
    "            continue\n",
    "        print(\"copying \", fname, \"to\", directory)\n",
    "        destdir = os.path.join(directory, os.path.dirname(fname))\n",
    "        destfname = os.path.join(destdir, os.path.basename(fname))\n",
    "        try:\n",
    "            os.makedirs(destdir)\n",
    "        except FileExistsError:\n",
    "            pass\n",
    "        shutil.copy(fname, destfname)\n",
    "    with open(os.path.join(directory, md_fname), 'w') as fout:\n",
    "        fout.write(md)\n",
    "    print(\"exported in \", os.path.join(directory, md_fname))\n",
    "    [print(\"    + \" + os.path.join(directory,fk)) for fk in fig_fnames]"
   ]
  },
  {
   "cell_type": "code",
   "execution_count": 8,
   "id": "014d04a4",
   "metadata": {
    "execution": {
     "iopub.execute_input": "2024-12-24T04:30:46.203635Z",
     "iopub.status.busy": "2024-12-24T04:30:46.203400Z",
     "iopub.status.idle": "2024-12-24T04:30:46.213962Z",
     "shell.execute_reply": "2024-12-24T04:30:46.213451Z"
    },
    "papermill": {
     "duration": 0.01675,
     "end_time": "2024-12-24T04:30:46.214957",
     "exception": false,
     "start_time": "2024-12-24T04:30:46.198207",
     "status": "completed"
    },
    "tags": []
   },
   "outputs": [
    {
     "name": "stdout",
     "output_type": "stream",
     "text": [
      "found figures ['tmp_2412.17672/./figures/tidal_features_contours.png', 'tmp_2412.17672/./figures/tidal_features_SB.png', 'tmp_2412.17672/./figures/color_features.png', 'tmp_2412.17672/./figures/color_features_GCs.png', 'tmp_2412.17672/./figures/EGCs.png', 'tmp_2412.17672/./figures/zoom_EGCs.png', 'tmp_2412.17672/./figures/zoom_EGCs2.png', 'tmp_2412.17672/./figures/blue_EGCs.png', 'tmp_2412.17672/./figures/zoom_blue_EGCs.png', 'tmp_2412.17672/./figures/zoom_blue_EGCs2.png', 'tmp_2412.17672/./figures/red_EGCs.png', 'tmp_2412.17672/./figures/zoom_red_EGCs.png', 'tmp_2412.17672/./figures/zoom_red_EGCs2.png', 'tmp_2412.17672/./figures/color-color_age.png', 'tmp_2412.17672/./figures/color-color_metal.png']\n",
      "copying  tmp_2412.17672/./figures/tidal_features_contours.png to _build/html/\n",
      "copying  tmp_2412.17672/./figures/tidal_features_SB.png to _build/html/\n",
      "copying  tmp_2412.17672/./figures/color_features.png to _build/html/\n",
      "copying  tmp_2412.17672/./figures/color_features_GCs.png to _build/html/\n",
      "copying  tmp_2412.17672/./figures/EGCs.png to _build/html/\n",
      "copying  tmp_2412.17672/./figures/zoom_EGCs.png to _build/html/\n",
      "copying  tmp_2412.17672/./figures/zoom_EGCs2.png to _build/html/\n",
      "copying  tmp_2412.17672/./figures/blue_EGCs.png to _build/html/\n",
      "copying  tmp_2412.17672/./figures/zoom_blue_EGCs.png to _build/html/\n",
      "copying  tmp_2412.17672/./figures/zoom_blue_EGCs2.png to _build/html/\n",
      "copying  tmp_2412.17672/./figures/red_EGCs.png to _build/html/\n",
      "copying  tmp_2412.17672/./figures/zoom_red_EGCs.png to _build/html/\n",
      "copying  tmp_2412.17672/./figures/zoom_red_EGCs2.png to _build/html/\n",
      "copying  tmp_2412.17672/./figures/color-color_age.png to _build/html/\n",
      "copying  tmp_2412.17672/./figures/color-color_metal.png to _build/html/\n",
      "exported in  _build/html/2412.17672.md\n",
      "    + _build/html/tmp_2412.17672/./figures/tidal_features_contours.png\n",
      "    + _build/html/tmp_2412.17672/./figures/tidal_features_SB.png\n",
      "    + _build/html/tmp_2412.17672/./figures/color_features.png\n",
      "    + _build/html/tmp_2412.17672/./figures/color_features_GCs.png\n",
      "    + _build/html/tmp_2412.17672/./figures/EGCs.png\n",
      "    + _build/html/tmp_2412.17672/./figures/zoom_EGCs.png\n",
      "    + _build/html/tmp_2412.17672/./figures/zoom_EGCs2.png\n",
      "    + _build/html/tmp_2412.17672/./figures/blue_EGCs.png\n",
      "    + _build/html/tmp_2412.17672/./figures/zoom_blue_EGCs.png\n",
      "    + _build/html/tmp_2412.17672/./figures/zoom_blue_EGCs2.png\n",
      "    + _build/html/tmp_2412.17672/./figures/red_EGCs.png\n",
      "    + _build/html/tmp_2412.17672/./figures/zoom_red_EGCs.png\n",
      "    + _build/html/tmp_2412.17672/./figures/zoom_red_EGCs2.png\n",
      "    + _build/html/tmp_2412.17672/./figures/color-color_age.png\n",
      "    + _build/html/tmp_2412.17672/./figures/color-color_metal.png\n"
     ]
    }
   ],
   "source": [
    "for paper_id, md in documents:\n",
    "    export_markdown_summary(md, f\"{paper_id:s}.md\", '_build/html/')"
   ]
  },
  {
   "cell_type": "markdown",
   "id": "f087a0a7",
   "metadata": {
    "papermill": {
     "duration": 0.004528,
     "end_time": "2024-12-24T04:30:46.224114",
     "exception": false,
     "start_time": "2024-12-24T04:30:46.219586",
     "status": "completed"
    },
    "tags": []
   },
   "source": [
    "## Display the papers\n",
    "\n",
    "Not necessary but allows for a quick check."
   ]
  },
  {
   "cell_type": "code",
   "execution_count": 9,
   "id": "fd25f625",
   "metadata": {
    "execution": {
     "iopub.execute_input": "2024-12-24T04:30:46.234248Z",
     "iopub.status.busy": "2024-12-24T04:30:46.233863Z",
     "iopub.status.idle": "2024-12-24T04:30:46.238502Z",
     "shell.execute_reply": "2024-12-24T04:30:46.237944Z"
    },
    "papermill": {
     "duration": 0.010758,
     "end_time": "2024-12-24T04:30:46.239433",
     "exception": false,
     "start_time": "2024-12-24T04:30:46.228675",
     "status": "completed"
    },
    "scrolled": false,
    "tags": []
   },
   "outputs": [
    {
     "data": {
      "text/markdown": [
       "<div class=\"macros\" style=\"visibility:hidden;\">\n",
       "$\\newcommand{\\ensuremath}{}$\n",
       "$\\newcommand{\\xspace}{}$\n",
       "$\\newcommand{\\object}[1]{\\texttt{#1}}$\n",
       "$\\newcommand{\\farcs}{{.}''}$\n",
       "$\\newcommand{\\farcm}{{.}'}$\n",
       "$\\newcommand{\\arcsec}{''}$\n",
       "$\\newcommand{\\arcmin}{'}$\n",
       "$\\newcommand{\\ion}[2]{#1#2}$\n",
       "$\\newcommand{\\textsc}[1]{\\textrm{#1}}$\n",
       "$\\newcommand{\\hl}[1]{\\textrm{#1}}$\n",
       "$\\newcommand{\\footnote}[1]{}$\n",
       "$\\newcommand{\\AL}[1]{\\textcolor{teal}{#1}}$\n",
       "$\\newcommand{\\orcid}[1]$\n",
       "$\\newcommand{\\hms}[3]{#1\\textsuperscript{h} #2\\textsuperscript{m} #3\\textsuperscript{s}}$\n",
       "$\\newcommand{\\arraystretch}{1.2}$\n",
       "$\\newcommand{\\arraystretch}{1.2}$\n",
       "$\\newcommand{\\arraystretch}{1.2}$\n",
       "$\\newcommand{\\arraystretch}{1.2}$\n",
       "$\\newcommand{\\arraystretch}{1.2}$</div>\n",
       "\n",
       "\n",
       "\n",
       "<div id=\"title\">\n",
       "\n",
       "# $\\Euclid$: Early Release Observations of diffuse stellar structures and globular clusters as probes of the mass assembly of galaxies in the Dorado group$\\thanks{This paper is published on behalf of the Euclid Consortium}$\n",
       "\n",
       "</div>\n",
       "<div id=\"comments\">\n",
       "\n",
       "[![arXiv](https://img.shields.io/badge/arXiv-2412.17672-b31b1b.svg)](https://arxiv.org/abs/2412.17672)<mark>Appeared on: 2024-12-24</mark> -  _25 pages, 20 figures_\n",
       "\n",
       "</div>\n",
       "<div id=\"authors\">\n",
       "\n",
       "M. Urbano, et al. -- incl., <mark>M. Schirmer</mark>, <mark>K. Jahnke</mark>\n",
       "\n",
       "</div>\n",
       "<div id=\"abstract\">\n",
       "\n",
       "**Abstract:** Deep surveys have helped unveil the history of past and present galaxy mergers. In particular, they reveal their tidal debris and associated compact stellar systems. $\\Euclid$ 's unique combination of capabilities (spatial resolution, depth, and wide sky coverage) will make it a groundbreaking tool for galactic archaeology in the local Universe, bringing low surface brightness (LSB) science into the era of large-scale astronomical surveys. $\\Euclid$ 's Early Release Observations (ERO) demonstrate this potential with a field of view that includes several galaxies in the Dorado group. In this paper, we aim to derive from this image a mass assembly scenario for its main galaxies: NGC 1549, NGC 1553, and NGC 1546. We detect internal and external diffuse structures, and identify candidate globular clusters (GCs). By analysing the colours and distributions of the diffuse structures and candidate GCs, we can place constraints on the galaxies' mass assembly and merger histories. The results show that feature morphology, surface brightness, colours, and GC density profiles are consistent with galaxies that have undergone different merger scenarios. We classify NGC 1549 as a pure elliptical galaxy that has undergone a major merger. NGC 1553 appears to have recently transitioned from a late-type galaxy to early type, after a series of radial minor to intermediate mergers. NGC 1546 is a rare specimen of galaxy with an undisturbed disk and a prominent diffuse stellar halo, which we infer has been fed by minor mergers and then disturbed by the tidal effect from NGC 1553. Finally, we identify limitations specific to the observing conditions of this ERO, in particular stray light in the visible and persistence in the near-infrared bands. Once these issues are addressed and the extended emission from LSB objects is preserved by the data-processing pipeline, the Euclid Wide Survey will allow studies of the local Universe to be extended to statistical ensembles over a large part of the extragalactic sky.\n",
       "\n",
       "</div>\n",
       "\n",
       "<div id=\"div_fig1\">\n",
       "\n",
       "<img src=\"tmp_2412.17672/./figures/tidal_features_contours.png\" alt=\"Fig14.1\" width=\"25%\"/><img src=\"tmp_2412.17672/./figures/tidal_features_SB.png\" alt=\"Fig14.2\" width=\"25%\"/><img src=\"tmp_2412.17672/./figures/color_features.png\" alt=\"Fig14.3\" width=\"25%\"/><img src=\"tmp_2412.17672/./figures/color_features_GCs.png\" alt=\"Fig14.4\" width=\"25%\"/>\n",
       "\n",
       "**Figure 14. -** *Upper left*: features detected for each galaxy with the help of the $\\IE$ images and residuals. *Upper right*: $\\IE$ surface brightness map of the features. Those for which $\\IE$ photometry can be performed are coloured according to their surface brightness and numbered. Those for which this study is not possible are delineated in black. The photometry of the shells, of the uncertain features between NGC 1549 and NGC 1553, and of the features close to the galactic centres was not estimated. These features are delineated in black. *Lower left*: $\\IE-\\JE$ integrated fluxes colour map. The features with uncertain detection in the NIR bands appear in grey.  *Lower right*: $\\IE-\\JE$ GCs colour map. The average colours are weighted based on the uncertainties of the magnitudes that contribute to them. The features that encompass less than three bright GC candidates appear in grey. (*features_colours*)\n",
       "\n",
       "</div>\n",
       "<div id=\"div_fig2\">\n",
       "\n",
       "<img src=\"tmp_2412.17672/./figures/EGCs.png\" alt=\"Fig12.1\" width=\"11%\"/><img src=\"tmp_2412.17672/./figures/zoom_EGCs.png\" alt=\"Fig12.2\" width=\"11%\"/><img src=\"tmp_2412.17672/./figures/zoom_EGCs2.png\" alt=\"Fig12.3\" width=\"11%\"/><img src=\"tmp_2412.17672/./figures/blue_EGCs.png\" alt=\"Fig12.4\" width=\"11%\"/><img src=\"tmp_2412.17672/./figures/zoom_blue_EGCs.png\" alt=\"Fig12.5\" width=\"11%\"/><img src=\"tmp_2412.17672/./figures/zoom_blue_EGCs2.png\" alt=\"Fig12.6\" width=\"11%\"/><img src=\"tmp_2412.17672/./figures/red_EGCs.png\" alt=\"Fig12.7\" width=\"11%\"/><img src=\"tmp_2412.17672/./figures/zoom_red_EGCs.png\" alt=\"Fig12.8\" width=\"11%\"/><img src=\"tmp_2412.17672/./figures/zoom_red_EGCs2.png\" alt=\"Fig12.9\" width=\"11%\"/>\n",
       "\n",
       "**Figure 12. -** Bright GC candidates density maps of the full ERO-D FoV (left column), with zooms on the NGC 1549-NGC 1553 pair (middle column) and on NGC 1546 (right column). The colour scale is the same for both zooms, where the density fields were re-evaluated locally using the samples within the cutouts. All GCs, blue GCs, and red GCs are respectively represented in the upper, middle and lower rows. The threshold used to differentiate between blue and red GCs is the median value of the $\\IE-\\HE$ GC candidate colours. (*GC_distribution*)\n",
       "\n",
       "</div>\n",
       "<div id=\"div_fig3\">\n",
       "\n",
       "<img src=\"tmp_2412.17672/./figures/color-color_age.png\" alt=\"Fig15.1\" width=\"50%\"/><img src=\"tmp_2412.17672/./figures/color-color_metal.png\" alt=\"Fig15.2\" width=\"50%\"/>\n",
       "\n",
       "**Figure 15. -** Colour-colour plot of the ERO Dorado features, for both total flux photometry (square labels) and GCs photometry (round labels). The interpolated metallicities and ages are obtained using the PEGASE \\citep{2004A&A...425..881L} Single Stellar Population (SSP) model, however, the colour-coded area is consistent in age and metallicity across all other SSP models tested. (*fig:colour-colour*)\n",
       "\n",
       "</div><div id=\"qrcode\"><img src=https://api.qrserver.com/v1/create-qr-code/?size=100x100&data=\"https://arxiv.org/abs/2412.17672\"></div>"
      ],
      "text/plain": [
       "<IPython.core.display.Markdown object>"
      ]
     },
     "metadata": {},
     "output_type": "display_data"
    }
   ],
   "source": [
    "[display(Markdown(k[1])) for k in documents];"
   ]
  },
  {
   "cell_type": "markdown",
   "id": "873873a4",
   "metadata": {
    "papermill": {
     "duration": 0.004793,
     "end_time": "2024-12-24T04:30:46.249345",
     "exception": false,
     "start_time": "2024-12-24T04:30:46.244552",
     "status": "completed"
    },
    "tags": []
   },
   "source": [
    "# Create HTML index"
   ]
  },
  {
   "cell_type": "code",
   "execution_count": 10,
   "id": "cf665672",
   "metadata": {
    "execution": {
     "iopub.execute_input": "2024-12-24T04:30:46.259987Z",
     "iopub.status.busy": "2024-12-24T04:30:46.259519Z",
     "iopub.status.idle": "2024-12-24T04:30:46.267999Z",
     "shell.execute_reply": "2024-12-24T04:30:46.267387Z"
    },
    "papermill": {
     "duration": 0.01482,
     "end_time": "2024-12-24T04:30:46.268978",
     "exception": false,
     "start_time": "2024-12-24T04:30:46.254158",
     "status": "completed"
    },
    "tags": []
   },
   "outputs": [
    {
     "name": "stdout",
     "output_type": "stream",
     "text": [
      "291  publications files modified in the last 7 days.\n"
     ]
    }
   ],
   "source": [
    "from datetime import datetime, timedelta, timezone\n",
    "from glob import glob\n",
    "import os\n",
    "\n",
    "files = glob('_build/html/*.md')\n",
    "days = 7\n",
    "now = datetime.today()\n",
    "res = []\n",
    "for fk in files:\n",
    "    stat_result = os.stat(fk).st_ctime\n",
    "    modified = datetime.fromtimestamp(stat_result, tz=timezone.utc).replace(tzinfo=None)\n",
    "    delta = now.today() - modified\n",
    "    if delta <= timedelta(days=days):\n",
    "        res.append((delta.seconds, fk))\n",
    "res = [k[1] for k in reversed(sorted(res, key=lambda x:x[1]))]\n",
    "npub = len(res)\n",
    "print(len(res), f\" publications files modified in the last {days:d} days.\")\n",
    "# [ print('\\t', k) for k in res ];"
   ]
  },
  {
   "cell_type": "code",
   "execution_count": 11,
   "id": "015de740",
   "metadata": {
    "execution": {
     "iopub.execute_input": "2024-12-24T04:30:46.279776Z",
     "iopub.status.busy": "2024-12-24T04:30:46.279384Z",
     "iopub.status.idle": "2024-12-24T04:30:46.297119Z",
     "shell.execute_reply": "2024-12-24T04:30:46.296501Z"
    },
    "papermill": {
     "duration": 0.024202,
     "end_time": "2024-12-24T04:30:46.298169",
     "exception": false,
     "start_time": "2024-12-24T04:30:46.273967",
     "status": "completed"
    },
    "tags": []
   },
   "outputs": [
    {
     "name": "stdout",
     "output_type": "stream",
     "text": [
      "8  publications in the last 7 days.\n"
     ]
    }
   ],
   "source": [
    "import datetime\n",
    "from glob import glob\n",
    "\n",
    "def get_last_n_days(lst, days=1):\n",
    "    \"\"\" Get the documents from the last n days \"\"\"\n",
    "    sorted_lst = sorted(lst, key=lambda x: x[1], reverse=True)\n",
    "    for fname, date in sorted_lst:\n",
    "        if date >= str(datetime.date.today() - datetime.timedelta(days=days)):\n",
    "            yield fname\n",
    "\n",
    "def extract_appearance_dates(lst_file):\n",
    "    dates = []\n",
    "\n",
    "    def get_date(line):\n",
    "        return line\\\n",
    "            .split('Appeared on:')[-1]\\\n",
    "            .split('</mark>')[0].strip()\n",
    "\n",
    "    for fname in lst:\n",
    "        with open(fname, 'r') as f:\n",
    "            found_date = False\n",
    "            for line in f:\n",
    "                if not found_date:\n",
    "                    if \"Appeared on\" in line:\n",
    "                        found_date = True\n",
    "                        dates.append((fname, get_date(line)))\n",
    "                else:\n",
    "                    break\n",
    "    return dates\n",
    "\n",
    "from glob import glob\n",
    "lst = glob('_build/html/*md')\n",
    "days = 7\n",
    "dates = extract_appearance_dates(lst)\n",
    "res = list(get_last_n_days(dates, days))\n",
    "npub = len(res)\n",
    "print(len(res), f\" publications in the last {days:d} days.\")"
   ]
  },
  {
   "cell_type": "code",
   "execution_count": 12,
   "id": "52ca0208",
   "metadata": {
    "execution": {
     "iopub.execute_input": "2024-12-24T04:30:46.309041Z",
     "iopub.status.busy": "2024-12-24T04:30:46.308654Z",
     "iopub.status.idle": "2024-12-24T04:30:46.313429Z",
     "shell.execute_reply": "2024-12-24T04:30:46.312906Z"
    },
    "papermill": {
     "duration": 0.011199,
     "end_time": "2024-12-24T04:30:46.314395",
     "exception": false,
     "start_time": "2024-12-24T04:30:46.303196",
     "status": "completed"
    },
    "scrolled": false,
    "tags": []
   },
   "outputs": [],
   "source": [
    "def create_carousel(npub=4):\n",
    "    \"\"\" Generate the HTML code for a carousel with `npub` slides \"\"\"\n",
    "    carousel = [\"\"\"  <div class=\"carousel\" \"\"\",\n",
    "                \"\"\"       data-flickity='{ \"autoPlay\": 10000, \"adaptiveHeight\": true, \"resize\": true, \"wrapAround\": true, \"pauseAutoPlayOnHover\": true, \"groupCells\": 1 }' id=\"asyncTypeset\">\"\"\"\n",
    "                ]\n",
    "    \n",
    "    item_str = \"\"\"    <div class=\"carousel-cell\"> <div id=\"slide{k}\" class=\"md_view\">Content {k}</div> </div>\"\"\"\n",
    "    for k in range(1, npub + 1):\n",
    "        carousel.append(item_str.format(k=k))\n",
    "    carousel.append(\"  </div>\")\n",
    "    return '\\n'.join(carousel)\n",
    "\n",
    "def create_grid(npub=4):\n",
    "    \"\"\" Generate the HTML code for a flat grid with `npub` slides \"\"\"\n",
    "    grid = [\"\"\"  <div class=\"grid\"> \"\"\",\n",
    "                ]\n",
    "    \n",
    "    item_str = \"\"\"    <div class=\"grid-item\"> <div id=\"slide{k}\" class=\"md_view\">Content {k}</div> </div>\"\"\"\n",
    "    for k in range(1, npub + 1):\n",
    "        grid.append(item_str.format(k=k))\n",
    "    grid.append(\"  </div>\")\n",
    "    return '\\n'.join(grid)"
   ]
  },
  {
   "cell_type": "code",
   "execution_count": 13,
   "id": "a6eac5b6",
   "metadata": {
    "execution": {
     "iopub.execute_input": "2024-12-24T04:30:46.325574Z",
     "iopub.status.busy": "2024-12-24T04:30:46.325171Z",
     "iopub.status.idle": "2024-12-24T04:30:46.330761Z",
     "shell.execute_reply": "2024-12-24T04:30:46.330145Z"
    },
    "papermill": {
     "duration": 0.012169,
     "end_time": "2024-12-24T04:30:46.331737",
     "exception": false,
     "start_time": "2024-12-24T04:30:46.319568",
     "status": "completed"
    },
    "scrolled": false,
    "tags": []
   },
   "outputs": [],
   "source": [
    "carousel = create_carousel(npub)\n",
    "docs = ', '.join(['\"{0:s}\"'.format(k.split('/')[-1]) for k in res])\n",
    "slides = ', '.join([f'\"slide{k}\"' for k in range(1, npub + 1)])\n",
    "\n",
    "with open(\"daily_template.html\", \"r\") as tpl:\n",
    "    page = tpl.read()\n",
    "    page = page.replace(\"{%-- carousel:s --%}\", carousel)\\\n",
    "               .replace(\"{%-- suptitle:s --%}\",  \"7-day archives\" )\\\n",
    "               .replace(\"{%-- docs:s --%}\", docs)\\\n",
    "               .replace(\"{%-- slides:s --%}\", slides)\n",
    "    \n",
    "with open(\"_build/html/index_7days.html\", 'w') as fout:\n",
    "    fout.write(page)"
   ]
  },
  {
   "cell_type": "code",
   "execution_count": 14,
   "id": "adc1a1ec",
   "metadata": {
    "execution": {
     "iopub.execute_input": "2024-12-24T04:30:46.342811Z",
     "iopub.status.busy": "2024-12-24T04:30:46.342415Z",
     "iopub.status.idle": "2024-12-24T04:30:46.348605Z",
     "shell.execute_reply": "2024-12-24T04:30:46.348066Z"
    },
    "papermill": {
     "duration": 0.012758,
     "end_time": "2024-12-24T04:30:46.349608",
     "exception": false,
     "start_time": "2024-12-24T04:30:46.336850",
     "status": "completed"
    },
    "tags": []
   },
   "outputs": [
    {
     "name": "stdout",
     "output_type": "stream",
     "text": [
      "1  publications in the last day.\n"
     ]
    }
   ],
   "source": [
    "# redo for today\n",
    "days = 1\n",
    "res = list(get_last_n_days(dates, days))\n",
    "npub = len(res)\n",
    "print(len(res), f\" publications in the last day.\")\n",
    "\n",
    "carousel = create_carousel(npub)\n",
    "docs = ', '.join(['\"{0:s}\"'.format(k.split('/')[-1]) for k in res])\n",
    "slides = ', '.join([f'\"slide{k}\"' for k in range(1, npub + 1)])\n",
    "\n",
    "with open(\"daily_template.html\", \"r\") as tpl:\n",
    "    page = tpl.read()\n",
    "    page = page.replace(\"{%-- carousel:s --%}\", carousel)\\\n",
    "               .replace(\"{%-- suptitle:s --%}\",  \"Daily\" )\\\n",
    "               .replace(\"{%-- docs:s --%}\", docs)\\\n",
    "               .replace(\"{%-- slides:s --%}\", slides)\n",
    "    \n",
    "# print(carousel, docs, slides)\n",
    "# print(page)\n",
    "with open(\"_build/html/index_daily.html\", 'w') as fout:\n",
    "    fout.write(page)"
   ]
  },
  {
   "cell_type": "code",
   "execution_count": 15,
   "id": "00eece82",
   "metadata": {
    "execution": {
     "iopub.execute_input": "2024-12-24T04:30:46.361123Z",
     "iopub.status.busy": "2024-12-24T04:30:46.360721Z",
     "iopub.status.idle": "2024-12-24T04:30:46.366870Z",
     "shell.execute_reply": "2024-12-24T04:30:46.366351Z"
    },
    "papermill": {
     "duration": 0.012796,
     "end_time": "2024-12-24T04:30:46.367769",
     "exception": false,
     "start_time": "2024-12-24T04:30:46.354973",
     "status": "completed"
    },
    "scrolled": false,
    "tags": []
   },
   "outputs": [
    {
     "name": "stdout",
     "output_type": "stream",
     "text": [
      "6  6 publications selected.\n"
     ]
    }
   ],
   "source": [
    "# Create the flat grid of the last N papers (fixed number regardless of dates)\n",
    "from itertools import islice \n",
    "\n",
    "npub = 6\n",
    "res = [k[0] for k in (islice(reversed(sorted(dates, key=lambda x: x[1])), 6))]\n",
    "print(len(res), f\" {npub} publications selected.\")\n",
    "\n",
    "grid = create_grid(npub)\n",
    "docs = ', '.join(['\"{0:s}\"'.format(k.split('/')[-1]) for k in res])\n",
    "slides = ', '.join([f'\"slide{k}\"' for k in range(1, npub + 1)])\n",
    "\n",
    "with open(\"grid_template.html\", \"r\") as tpl:\n",
    "    page = tpl.read()\n",
    "    page = page.replace(\"{%-- grid-content:s --%}\", grid)\\\n",
    "               .replace(\"{%-- suptitle:s --%}\",  f\"Last {npub:,d} papers\" )\\\n",
    "               .replace(\"{%-- docs:s --%}\", docs)\\\n",
    "               .replace(\"{%-- slides:s --%}\", slides)\n",
    "    \n",
    "# print(grid, docs, slides)\n",
    "# print(page)\n",
    "with open(\"_build/html/index_npub_grid.html\", 'w') as fout:\n",
    "    fout.write(page)"
   ]
  }
 ],
 "metadata": {
  "kernelspec": {
   "display_name": "Python 3 (ipykernel)",
   "language": "python",
   "name": "python3"
  },
  "language_info": {
   "codemirror_mode": {
    "name": "ipython",
    "version": 3
   },
   "file_extension": ".py",
   "mimetype": "text/x-python",
   "name": "python",
   "nbconvert_exporter": "python",
   "pygments_lexer": "ipython3",
   "version": "3.9.20"
  },
  "papermill": {
   "default_parameters": {},
   "duration": 1211.306577,
   "end_time": "2024-12-24T04:30:46.588410",
   "environment_variables": {},
   "exception": null,
   "input_path": "MPIA daily digest.ipynb",
   "output_path": "log.ipynb",
   "parameters": {},
   "start_time": "2024-12-24T04:10:35.281833",
   "version": "2.6.0"
  },
  "vscode": {
   "interpreter": {
    "hash": "aee8b7b246df8f9039afb4144a1f6fd8d2ca17a180786b69acc140d282b71a49"
   }
  },
  "widgets": {
   "application/vnd.jupyter.widget-state+json": {
    "state": {
     "1e2dfa8a308f4f8fb8c3dd384d1d95f0": {
      "model_module": "@jupyter-widgets/controls",
      "model_module_version": "2.0.0",
      "model_name": "HTMLModel",
      "state": {
       "_dom_classes": [],
       "_model_module": "@jupyter-widgets/controls",
       "_model_module_version": "2.0.0",
       "_model_name": "HTMLModel",
       "_view_count": null,
       "_view_module": "@jupyter-widgets/controls",
       "_view_module_version": "2.0.0",
       "_view_name": "HTMLView",
       "description": "",
       "description_allow_html": false,
       "layout": "IPY_MODEL_6da5990ed281471882c2150287be7e33",
       "placeholder": "​",
       "style": "IPY_MODEL_b28a89ffb2004bb2ad104bbe7a062cd0",
       "tabbable": null,
       "tooltip": null,
       "value": "100%"
      }
     },
     "261739b534e544d4984d240f237eadc7": {
      "model_module": "@jupyter-widgets/controls",
      "model_module_version": "2.0.0",
      "model_name": "HTMLStyleModel",
      "state": {
       "_model_module": "@jupyter-widgets/controls",
       "_model_module_version": "2.0.0",
       "_model_name": "HTMLStyleModel",
       "_view_count": null,
       "_view_module": "@jupyter-widgets/base",
       "_view_module_version": "2.0.0",
       "_view_name": "StyleView",
       "background": null,
       "description_width": "",
       "font_size": null,
       "text_color": null
      }
     },
     "2e309761ab0743d8992f2f4c22ed274c": {
      "model_module": "@jupyter-widgets/controls",
      "model_module_version": "2.0.0",
      "model_name": "HBoxModel",
      "state": {
       "_dom_classes": [],
       "_model_module": "@jupyter-widgets/controls",
       "_model_module_version": "2.0.0",
       "_model_name": "HBoxModel",
       "_view_count": null,
       "_view_module": "@jupyter-widgets/controls",
       "_view_module_version": "2.0.0",
       "_view_name": "HBoxView",
       "box_style": "",
       "children": [
        "IPY_MODEL_1e2dfa8a308f4f8fb8c3dd384d1d95f0",
        "IPY_MODEL_860ac30b4639402faafbf2a9828305a8",
        "IPY_MODEL_b4dfc04b7f6042c18b3eb8b89fe51b03"
       ],
       "layout": "IPY_MODEL_c6f1ca2ab65e4e25a1107a600545c156",
       "tabbable": null,
       "tooltip": null
      }
     },
     "3d32b003fe024f41ad8e8e1df47af3cc": {
      "model_module": "@jupyter-widgets/base",
      "model_module_version": "2.0.0",
      "model_name": "LayoutModel",
      "state": {
       "_model_module": "@jupyter-widgets/base",
       "_model_module_version": "2.0.0",
       "_model_name": "LayoutModel",
       "_view_count": null,
       "_view_module": "@jupyter-widgets/base",
       "_view_module_version": "2.0.0",
       "_view_name": "LayoutView",
       "align_content": null,
       "align_items": null,
       "align_self": null,
       "border_bottom": null,
       "border_left": null,
       "border_right": null,
       "border_top": null,
       "bottom": null,
       "display": null,
       "flex": null,
       "flex_flow": null,
       "grid_area": null,
       "grid_auto_columns": null,
       "grid_auto_flow": null,
       "grid_auto_rows": null,
       "grid_column": null,
       "grid_gap": null,
       "grid_row": null,
       "grid_template_areas": null,
       "grid_template_columns": null,
       "grid_template_rows": null,
       "height": null,
       "justify_content": null,
       "justify_items": null,
       "left": null,
       "margin": null,
       "max_height": null,
       "max_width": null,
       "min_height": null,
       "min_width": null,
       "object_fit": null,
       "object_position": null,
       "order": null,
       "overflow": null,
       "padding": null,
       "right": null,
       "top": null,
       "visibility": null,
       "width": null
      }
     },
     "62e8a4c46af540c7a811d0f6351dbf6a": {
      "model_module": "@jupyter-widgets/base",
      "model_module_version": "2.0.0",
      "model_name": "LayoutModel",
      "state": {
       "_model_module": "@jupyter-widgets/base",
       "_model_module_version": "2.0.0",
       "_model_name": "LayoutModel",
       "_view_count": null,
       "_view_module": "@jupyter-widgets/base",
       "_view_module_version": "2.0.0",
       "_view_name": "LayoutView",
       "align_content": null,
       "align_items": null,
       "align_self": null,
       "border_bottom": null,
       "border_left": null,
       "border_right": null,
       "border_top": null,
       "bottom": null,
       "display": null,
       "flex": null,
       "flex_flow": null,
       "grid_area": null,
       "grid_auto_columns": null,
       "grid_auto_flow": null,
       "grid_auto_rows": null,
       "grid_column": null,
       "grid_gap": null,
       "grid_row": null,
       "grid_template_areas": null,
       "grid_template_columns": null,
       "grid_template_rows": null,
       "height": null,
       "justify_content": null,
       "justify_items": null,
       "left": null,
       "margin": null,
       "max_height": null,
       "max_width": null,
       "min_height": null,
       "min_width": null,
       "object_fit": null,
       "object_position": null,
       "order": null,
       "overflow": null,
       "padding": null,
       "right": null,
       "top": null,
       "visibility": null,
       "width": null
      }
     },
     "6da5990ed281471882c2150287be7e33": {
      "model_module": "@jupyter-widgets/base",
      "model_module_version": "2.0.0",
      "model_name": "LayoutModel",
      "state": {
       "_model_module": "@jupyter-widgets/base",
       "_model_module_version": "2.0.0",
       "_model_name": "LayoutModel",
       "_view_count": null,
       "_view_module": "@jupyter-widgets/base",
       "_view_module_version": "2.0.0",
       "_view_name": "LayoutView",
       "align_content": null,
       "align_items": null,
       "align_self": null,
       "border_bottom": null,
       "border_left": null,
       "border_right": null,
       "border_top": null,
       "bottom": null,
       "display": null,
       "flex": null,
       "flex_flow": null,
       "grid_area": null,
       "grid_auto_columns": null,
       "grid_auto_flow": null,
       "grid_auto_rows": null,
       "grid_column": null,
       "grid_gap": null,
       "grid_row": null,
       "grid_template_areas": null,
       "grid_template_columns": null,
       "grid_template_rows": null,
       "height": null,
       "justify_content": null,
       "justify_items": null,
       "left": null,
       "margin": null,
       "max_height": null,
       "max_width": null,
       "min_height": null,
       "min_width": null,
       "object_fit": null,
       "object_position": null,
       "order": null,
       "overflow": null,
       "padding": null,
       "right": null,
       "top": null,
       "visibility": null,
       "width": null
      }
     },
     "860ac30b4639402faafbf2a9828305a8": {
      "model_module": "@jupyter-widgets/controls",
      "model_module_version": "2.0.0",
      "model_name": "FloatProgressModel",
      "state": {
       "_dom_classes": [],
       "_model_module": "@jupyter-widgets/controls",
       "_model_module_version": "2.0.0",
       "_model_name": "FloatProgressModel",
       "_view_count": null,
       "_view_module": "@jupyter-widgets/controls",
       "_view_module_version": "2.0.0",
       "_view_name": "ProgressView",
       "bar_style": "success",
       "description": "",
       "description_allow_html": false,
       "layout": "IPY_MODEL_62e8a4c46af540c7a811d0f6351dbf6a",
       "max": 5.0,
       "min": 0.0,
       "orientation": "horizontal",
       "style": "IPY_MODEL_fa3238652c064276a026730e70f4b287",
       "tabbable": null,
       "tooltip": null,
       "value": 5.0
      }
     },
     "b28a89ffb2004bb2ad104bbe7a062cd0": {
      "model_module": "@jupyter-widgets/controls",
      "model_module_version": "2.0.0",
      "model_name": "HTMLStyleModel",
      "state": {
       "_model_module": "@jupyter-widgets/controls",
       "_model_module_version": "2.0.0",
       "_model_name": "HTMLStyleModel",
       "_view_count": null,
       "_view_module": "@jupyter-widgets/base",
       "_view_module_version": "2.0.0",
       "_view_name": "StyleView",
       "background": null,
       "description_width": "",
       "font_size": null,
       "text_color": null
      }
     },
     "b4dfc04b7f6042c18b3eb8b89fe51b03": {
      "model_module": "@jupyter-widgets/controls",
      "model_module_version": "2.0.0",
      "model_name": "HTMLModel",
      "state": {
       "_dom_classes": [],
       "_model_module": "@jupyter-widgets/controls",
       "_model_module_version": "2.0.0",
       "_model_name": "HTMLModel",
       "_view_count": null,
       "_view_module": "@jupyter-widgets/controls",
       "_view_module_version": "2.0.0",
       "_view_name": "HTMLView",
       "description": "",
       "description_allow_html": false,
       "layout": "IPY_MODEL_3d32b003fe024f41ad8e8e1df47af3cc",
       "placeholder": "​",
       "style": "IPY_MODEL_261739b534e544d4984d240f237eadc7",
       "tabbable": null,
       "tooltip": null,
       "value": " 5/5 [19:47&lt;00:00, 296.03s/it]"
      }
     },
     "c6f1ca2ab65e4e25a1107a600545c156": {
      "model_module": "@jupyter-widgets/base",
      "model_module_version": "2.0.0",
      "model_name": "LayoutModel",
      "state": {
       "_model_module": "@jupyter-widgets/base",
       "_model_module_version": "2.0.0",
       "_model_name": "LayoutModel",
       "_view_count": null,
       "_view_module": "@jupyter-widgets/base",
       "_view_module_version": "2.0.0",
       "_view_name": "LayoutView",
       "align_content": null,
       "align_items": null,
       "align_self": null,
       "border_bottom": null,
       "border_left": null,
       "border_right": null,
       "border_top": null,
       "bottom": null,
       "display": null,
       "flex": null,
       "flex_flow": null,
       "grid_area": null,
       "grid_auto_columns": null,
       "grid_auto_flow": null,
       "grid_auto_rows": null,
       "grid_column": null,
       "grid_gap": null,
       "grid_row": null,
       "grid_template_areas": null,
       "grid_template_columns": null,
       "grid_template_rows": null,
       "height": null,
       "justify_content": null,
       "justify_items": null,
       "left": null,
       "margin": null,
       "max_height": null,
       "max_width": null,
       "min_height": null,
       "min_width": null,
       "object_fit": null,
       "object_position": null,
       "order": null,
       "overflow": null,
       "padding": null,
       "right": null,
       "top": null,
       "visibility": null,
       "width": null
      }
     },
     "fa3238652c064276a026730e70f4b287": {
      "model_module": "@jupyter-widgets/controls",
      "model_module_version": "2.0.0",
      "model_name": "ProgressStyleModel",
      "state": {
       "_model_module": "@jupyter-widgets/controls",
       "_model_module_version": "2.0.0",
       "_model_name": "ProgressStyleModel",
       "_view_count": null,
       "_view_module": "@jupyter-widgets/base",
       "_view_module_version": "2.0.0",
       "_view_name": "StyleView",
       "bar_color": null,
       "description_width": ""
      }
     }
    },
    "version_major": 2,
    "version_minor": 0
   }
  }
 },
 "nbformat": 4,
 "nbformat_minor": 5
}