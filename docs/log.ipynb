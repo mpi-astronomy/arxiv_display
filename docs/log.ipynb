{
 "cells": [
  {
   "cell_type": "markdown",
   "id": "92bcb855",
   "metadata": {
    "papermill": {
     "duration": 0.003592,
     "end_time": "2024-01-08T04:09:10.401213",
     "exception": false,
     "start_time": "2024-01-08T04:09:10.397621",
     "status": "completed"
    },
    "tags": []
   },
   "source": [
    "# MPIA Arxiv on Deck 2\n",
    "\n",
    "Contains the steps to produce the paper extractions."
   ]
  },
  {
   "cell_type": "code",
   "execution_count": 1,
   "id": "3a0d6e11",
   "metadata": {
    "execution": {
     "iopub.execute_input": "2024-01-08T04:09:10.409758Z",
     "iopub.status.busy": "2024-01-08T04:09:10.409265Z",
     "iopub.status.idle": "2024-01-08T04:09:10.841660Z",
     "shell.execute_reply": "2024-01-08T04:09:10.841015Z"
    },
    "papermill": {
     "duration": 0.437965,
     "end_time": "2024-01-08T04:09:10.843372",
     "exception": false,
     "start_time": "2024-01-08T04:09:10.405407",
     "status": "completed"
    },
    "tags": []
   },
   "outputs": [],
   "source": [
    "# Imports\n",
    "import os\n",
    "from IPython.display import Markdown, display\n",
    "from tqdm.notebook import tqdm\n",
    "import warnings\n",
    "from PIL import Image \n",
    "\n",
    "# requires arxiv_on_deck_2\n",
    "\n",
    "from arxiv_on_deck_2.arxiv2 import (get_new_papers, \n",
    "                                    get_paper_from_identifier,\n",
    "                                    retrieve_document_source, \n",
    "                                    get_markdown_badge)\n",
    "from arxiv_on_deck_2 import (latex,\n",
    "                             latex_bib,\n",
    "                             mpia,\n",
    "                             highlight_authors_in_list)\n",
    "\n",
    "# Sometimes images are really big\n",
    "Image.MAX_IMAGE_PIXELS = 1000000000 "
   ]
  },
  {
   "cell_type": "code",
   "execution_count": 2,
   "id": "22aa9d44",
   "metadata": {
    "execution": {
     "iopub.execute_input": "2024-01-08T04:09:10.850532Z",
     "iopub.status.busy": "2024-01-08T04:09:10.850015Z",
     "iopub.status.idle": "2024-01-08T04:09:10.855341Z",
     "shell.execute_reply": "2024-01-08T04:09:10.854801Z"
    },
    "papermill": {
     "duration": 0.010402,
     "end_time": "2024-01-08T04:09:10.856795",
     "exception": false,
     "start_time": "2024-01-08T04:09:10.846393",
     "status": "completed"
    },
    "tags": []
   },
   "outputs": [],
   "source": [
    "# Some useful definitions.\n",
    "\n",
    "class AffiliationWarning(UserWarning):\n",
    "    pass\n",
    "\n",
    "class AffiliationError(RuntimeError):\n",
    "    pass\n",
    "\n",
    "def validation(source: str):\n",
    "    \"\"\"Raises error paper during parsing of source file\n",
    "    \n",
    "    Allows checks before parsing TeX code.\n",
    "    \n",
    "    Raises AffiliationWarning\n",
    "    \"\"\"\n",
    "    check = mpia.affiliation_verifications(source, verbose=True)\n",
    "    if check is not True:\n",
    "        raise AffiliationError(\"mpia.affiliation_verifications: \" + check)\n",
    "\n",
    "        \n",
    "warnings.simplefilter('always', AffiliationWarning)\n",
    "\n",
    "\n",
    "def get_markdown_qrcode(paper_id: str):\n",
    "    \"\"\" Generate a qrcode to the arxiv page using qrserver.com\n",
    "    \n",
    "    :param paper: Arxiv paper\n",
    "    :returns: markdown text\n",
    "    \"\"\"\n",
    "    url = r\"https://api.qrserver.com/v1/create-qr-code/?size=100x100&data=\"\n",
    "    txt = f\"\"\"<img src={url}\"https://arxiv.org/abs/{paper_id}\">\"\"\"\n",
    "    txt = '<div id=\"qrcode\">' + txt + '</div>'\n",
    "    return txt"
   ]
  },
  {
   "cell_type": "markdown",
   "id": "14bd6310",
   "metadata": {
    "papermill": {
     "duration": 0.002668,
     "end_time": "2024-01-08T04:09:10.862366",
     "exception": false,
     "start_time": "2024-01-08T04:09:10.859698",
     "status": "completed"
    },
    "tags": []
   },
   "source": [
    "## get list of arxiv paper candidates\n",
    "\n",
    "We use the MPIA mitarbeiter list webpage from mpia.de to get author names\n",
    "We then get all new papers from Arxiv and match authors"
   ]
  },
  {
   "cell_type": "code",
   "execution_count": 3,
   "id": "2645e73a",
   "metadata": {
    "execution": {
     "iopub.execute_input": "2024-01-08T04:09:10.869046Z",
     "iopub.status.busy": "2024-01-08T04:09:10.868645Z",
     "iopub.status.idle": "2024-01-08T04:09:33.193712Z",
     "shell.execute_reply": "2024-01-08T04:09:33.193061Z"
    },
    "papermill": {
     "duration": 22.330043,
     "end_time": "2024-01-08T04:09:33.195157",
     "exception": false,
     "start_time": "2024-01-08T04:09:10.865114",
     "status": "completed"
    },
    "tags": []
   },
   "outputs": [
    {
     "name": "stdout",
     "output_type": "stream",
     "text": [
      "N. Storm  ->  N. Storm  |  ['N. Storm']\n",
      "M. Bergemann  ->  M. Bergemann  |  ['M. Bergemann']\n",
      "H.-W. Rix  ->  H.-W. Rix  |  ['H.-W. Rix']\n",
      "X. Zhang  ->  X. Zhang  |  ['X. Zhang']\n",
      "G. Rouillé  ->  G. Rouillé  |  ['G. Rouillé']\n",
      "C. Jäger  ->  C. Jäger  |  ['C. Jäger']\n",
      "S. Ghosh  ->  S. Ghosh  |  ['S. Ghosh']\n"
     ]
    },
    {
     "name": "stdout",
     "output_type": "stream",
     "text": [
      "Arxiv has 62 new papers today\n",
      "          4 with possible author matches\n"
     ]
    }
   ],
   "source": [
    "# get list from MPIA website\n",
    "# it automatically filters identified non-scientists :func:`mpia.filter_non_scientists`\n",
    "mpia_authors = mpia.get_mpia_mitarbeiter_list()\n",
    "normed_mpia_authors = [k[1] for k in mpia_authors]   # initials + fullname\n",
    "new_papers = get_new_papers()\n",
    "# add manual references\n",
    "add_paper_refs = []\n",
    "new_papers.extend([get_paper_from_identifier(k) for k in add_paper_refs])\n",
    "\n",
    "candidates = []\n",
    "for paperk in new_papers:\n",
    "    # Check author list with their initials\n",
    "    normed_author_list = [mpia.get_initials(k) for k in paperk['authors']]\n",
    "    hl_authors = highlight_authors_in_list(normed_author_list, normed_mpia_authors, verbose=True)\n",
    "    matches = [(hl, orig) for hl, orig in zip(hl_authors, paperk['authors']) if 'mark' in hl]\n",
    "    paperk['authors'] = hl_authors\n",
    "    if matches:\n",
    "        # only select paper if an author matched our list\n",
    "        candidates.append(paperk)\n",
    "print(\"\"\"Arxiv has {0:,d} new papers today\"\"\".format(len(new_papers)))        \n",
    "print(\"\"\"          {0:,d} with possible author matches\"\"\".format(len(candidates)))"
   ]
  },
  {
   "cell_type": "markdown",
   "id": "3543b34a",
   "metadata": {
    "papermill": {
     "duration": 0.003033,
     "end_time": "2024-01-08T04:09:33.201894",
     "exception": false,
     "start_time": "2024-01-08T04:09:33.198861",
     "status": "completed"
    },
    "tags": []
   },
   "source": [
    "# Parse sources and generate relevant outputs\n",
    "\n",
    "From the candidates, we do the following steps:\n",
    "* get their tarball from ArXiv (and extract data)\n",
    "* find the main .tex file: find one with \\documentclass{...} (sometimes it's non trivial)\n",
    "* Check affiliations with :func:`validation`, which uses :func:`mpia.affiliation_verifications`\n",
    "* If passing the affiliations: we parse the .tex source\n",
    "   * inject sub-documents into the main (flatten the main document)\n",
    "   * parse structure, extract information (title, abstract, authors, figures...)\n",
    "   * handles `\\graphicspath` if provided\n",
    "* Generate the .md document."
   ]
  },
  {
   "cell_type": "code",
   "execution_count": 4,
   "id": "9576b79e",
   "metadata": {
    "execution": {
     "iopub.execute_input": "2024-01-08T04:09:33.208863Z",
     "iopub.status.busy": "2024-01-08T04:09:33.208474Z",
     "iopub.status.idle": "2024-01-08T04:11:08.165735Z",
     "shell.execute_reply": "2024-01-08T04:11:08.165012Z"
    },
    "papermill": {
     "duration": 94.963242,
     "end_time": "2024-01-08T04:11:08.168025",
     "exception": false,
     "start_time": "2024-01-08T04:09:33.204783",
     "status": "completed"
    },
    "scrolled": false,
    "tags": []
   },
   "outputs": [
    {
     "data": {
      "application/vnd.jupyter.widget-view+json": {
       "model_id": "55df2ece00d54be3b3538c4f861dc5bf",
       "version_major": 2,
       "version_minor": 0
      },
      "text/plain": [
       "  0%|          | 0/4 [00:00<?, ?it/s]"
      ]
     },
     "metadata": {},
     "output_type": "display_data"
    },
    {
     "name": "stdout",
     "output_type": "stream",
     "text": [
      "Retrieving document from  https://arxiv.org/e-print/2401.02484\n"
     ]
    },
    {
     "name": "stdout",
     "output_type": "stream",
     "text": [
      "extracting tarball to tmp_2401.02484..."
     ]
    },
    {
     "name": "stdout",
     "output_type": "stream",
     "text": [
      " done.\n"
     ]
    },
    {
     "name": "stderr",
     "output_type": "stream",
     "text": [
      "/opt/hostedtoolcache/Python/3.9.18/x64/lib/python3.9/site-packages/IPython/core/interactiveshell.py:3550: LatexWarning: Multiple tex files.\n",
      "\n",
      "  exec(code_obj, self.user_global_ns, self.user_ns)\n",
      "/opt/hostedtoolcache/Python/3.9.18/x64/lib/python3.9/site-packages/IPython/core/interactiveshell.py:3550: LatexWarning: Found documentclass in tmp_2401.02484/main.tex\n",
      "\n",
      "  exec(code_obj, self.user_global_ns, self.user_ns)\n",
      "/opt/hostedtoolcache/Python/3.9.18/x64/lib/python3.9/site-packages/arxiv_on_deck_2/latex.py:399: LatexWarning: Latex injecting: 'nucref' from 'tmp_2401.02484/nucref.tex'\n",
      "  warnings.warn(LatexWarning(f\"Latex injecting: '{ext}' from '{subsource}'\"))\n",
      "/opt/hostedtoolcache/Python/3.9.18/x64/lib/python3.9/site-packages/arxiv_on_deck_2/latex.py:399: LatexWarning: Latex injecting: 'abundtable' from 'tmp_2401.02484/abundtable.tex'\n",
      "  warnings.warn(LatexWarning(f\"Latex injecting: '{ext}' from '{subsource}'\"))\n",
      "/opt/hostedtoolcache/Python/3.9.18/x64/lib/python3.9/site-packages/arxiv_on_deck_2/latex.py:399: LatexWarning: Latex injecting: 'authors' from 'tmp_2401.02484/authors.tex'\n",
      "  warnings.warn(LatexWarning(f\"Latex injecting: '{ext}' from '{subsource}'\"))\n"
     ]
    },
    {
     "name": "stdout",
     "output_type": "stream",
     "text": [
      "list index out of range\n",
      "Retrieving document from  https://arxiv.org/e-print/2401.02640\n"
     ]
    },
    {
     "name": "stdout",
     "output_type": "stream",
     "text": [
      "extracting tarball to tmp_2401.02640..."
     ]
    },
    {
     "name": "stdout",
     "output_type": "stream",
     "text": [
      " done.\n",
      "Retrieving document from  https://arxiv.org/e-print/2401.02821\n"
     ]
    },
    {
     "name": "stdout",
     "output_type": "stream",
     "text": [
      "extracting tarball to tmp_2401.02821..."
     ]
    },
    {
     "name": "stdout",
     "output_type": "stream",
     "text": [
      " done.\n",
      "Retrieving document from  https://arxiv.org/e-print/2401.02876\n"
     ]
    },
    {
     "name": "stdout",
     "output_type": "stream",
     "text": [
      "extracting tarball to tmp_2401.02876..."
     ]
    },
    {
     "name": "stdout",
     "output_type": "stream",
     "text": [
      " done.\n"
     ]
    },
    {
     "name": "stdout",
     "output_type": "stream",
     "text": [
      "Found 129 bibliographic references in tmp_2401.02876/CIGs_1Ha-Stars.bbl.\n"
     ]
    }
   ],
   "source": [
    "documents = []\n",
    "failed = []\n",
    "for paper in tqdm(candidates):\n",
    "    paper_id = paper['identifier'].lower().replace('arxiv:', '')\n",
    "    \n",
    "    folder = f'tmp_{paper_id}'\n",
    "\n",
    "    try:\n",
    "        if not os.path.isdir(folder):\n",
    "            folder = retrieve_document_source(f\"{paper_id}\", f'tmp_{paper_id}')\n",
    "        \n",
    "        try:\n",
    "            doc = latex.LatexDocument(folder, validation=validation)    \n",
    "        except AffiliationError as affilerror:\n",
    "            msg = f\"ArXiv:{paper_id:s} is not an MPIA paper... \" + str(affilerror)\n",
    "            failed.append((paper, \"affiliation error: \" + str(affilerror) ))\n",
    "            continue\n",
    "        \n",
    "        # Hack because sometimes author parsing does not work well\n",
    "        if (len(doc.authors) != len(paper['authors'])):\n",
    "            doc._authors = paper['authors']\n",
    "        else:\n",
    "            # highlight authors (FIXME: doc.highlight_authors)\n",
    "            # done on arxiv paper already\n",
    "            doc._authors = highlight_authors_in_list(\n",
    "                [mpia.get_initials(k) for k in doc.authors], \n",
    "                normed_mpia_authors, verbose=True)\n",
    "        if (doc.abstract) in (None, ''):\n",
    "            doc._abstract = paper['abstract']\n",
    "            \n",
    "        doc.comment = (get_markdown_badge(paper_id) + \n",
    "                       \"<mark>Appeared on: \" + paper['date'] + \"</mark> - \")\n",
    "        if paper['comments']:\n",
    "            doc.comment += \" _\" + paper['comments'] + \"_\"\n",
    "        \n",
    "        full_md = doc.generate_markdown_text()\n",
    "        \n",
    "        full_md += get_markdown_qrcode(paper_id)\n",
    "        \n",
    "        # replace citations\n",
    "        try:\n",
    "            bibdata = latex_bib.LatexBib.from_doc(doc)\n",
    "            full_md = latex_bib.replace_citations(full_md, bibdata)\n",
    "        except Exception as e:\n",
    "            print(e)\n",
    "        \n",
    "        documents.append((paper_id, full_md))\n",
    "    except Exception as e:\n",
    "        warnings.warn(latex.LatexWarning(f\"{paper_id:s} did not run properly\\n\" +\n",
    "                                         str(e)\n",
    "                                        ))\n",
    "        failed.append((paper, \"latex error \" + str(e)))"
   ]
  },
  {
   "cell_type": "markdown",
   "id": "2505a25c",
   "metadata": {
    "papermill": {
     "duration": 0.003547,
     "end_time": "2024-01-08T04:11:08.175447",
     "exception": false,
     "start_time": "2024-01-08T04:11:08.171900",
     "status": "completed"
    },
    "tags": []
   },
   "source": [
    "### Export the logs\n",
    "\n",
    "Throughout, we also keep track of the logs per paper. see `logs-{today date}.md` "
   ]
  },
  {
   "cell_type": "code",
   "execution_count": 5,
   "id": "d733828a",
   "metadata": {
    "execution": {
     "iopub.execute_input": "2024-01-08T04:11:08.183965Z",
     "iopub.status.busy": "2024-01-08T04:11:08.183463Z",
     "iopub.status.idle": "2024-01-08T04:11:08.198615Z",
     "shell.execute_reply": "2024-01-08T04:11:08.198075Z"
    },
    "papermill": {
     "duration": 0.02087,
     "end_time": "2024-01-08T04:11:08.199946",
     "exception": false,
     "start_time": "2024-01-08T04:11:08.179076",
     "status": "completed"
    },
    "scrolled": false,
    "tags": []
   },
   "outputs": [
    {
     "data": {
      "text/markdown": [
       "## Successful papers"
      ],
      "text/plain": [
       "<IPython.core.display.Markdown object>"
      ]
     },
     "metadata": {},
     "output_type": "display_data"
    },
    {
     "data": {
      "text/markdown": [
       "\n",
       "|||\n",
       "|---:|:---|\n",
       "| [![arXiv](https://img.shields.io/badge/arXiv-arXiv:2401.02484-b31b1b.svg)](https://arxiv.org/abs/arXiv:2401.02484) | **Spectacular nucleosynthesis from early massive stars**  |\n",
       "|| A. P. Ji, et al. -- incl., <mark>N. Storm</mark>, <mark>M. Bergemann</mark>, <mark>H.-W. Rix</mark> |\n",
       "|*Appeared on*| *2024-01-08*|\n",
       "|*Comments*| *11 pages + 22 page appendix, accepted to ApJL*|\n",
       "|**Abstract**| Stars formed with initial mass over 50 Msun are very rare today, but they are thought to be more common in the early universe. The fates of those early, metal-poor, massive stars are highly uncertain. Most are expected to directly collapse to black holes, while some may explode as a result of rotationally powered engines or the pair-creation instability. We present the chemical abundances of J0931+0038, a nearby low-mass star identified in early followup of SDSS-V Milky Way Mapper, which preserves the signature of unusual nucleosynthesis from a massive star in the early universe. J0931+0038 has relatively high metallicity ([Fe/H] = -1.76 +/- 0.13) but an extreme odd-even abundance pattern, with some of the lowest known abundance ratios of [N/Fe], [Na/Fe], [K/Fe], [Sc/Fe], and [Ba/Fe]. The implication is that a majority of its metals originated in a single extremely metal-poor nucleosynthetic source. An extensive search through nucleosynthesis predictions finds a clear preference for progenitors with initial mass > 50 Msun, making J0931+0038 one of the first observational constraints on nucleosynthesis in this mass range. However the full abundance pattern is not matched by any models in the literature. J0931+0038 thus presents a challenge for the next generation of nucleosynthesis models and motivates study of high-mass progenitor stars impacted by convection, rotation, jets, and/or binary companions. Though rare, more examples of unusual early nucleosynthesis in metal-poor stars should be found in upcoming large spectroscopic surveys. |"
      ],
      "text/plain": [
       "[arXiv:2401.02484] Spectacular nucleosynthesis from early massive stars\n",
       "\tA. P. Ji, et al. -- incl., <mark>N. Storm</mark>, <mark>M. Bergemann</mark>, <mark>H.-W. Rix</mark>"
      ]
     },
     "metadata": {},
     "output_type": "display_data"
    },
    {
     "data": {
      "text/markdown": [
       "\n",
       "|||\n",
       "|---:|:---|\n",
       "| [![arXiv](https://img.shields.io/badge/arXiv-arXiv:2401.02876-b31b1b.svg)](https://arxiv.org/abs/arXiv:2401.02876) | **Extraplanar emission in isolated edge-on late-type galaxies. I. The  H$α$ distribution versus to the old and young stellar discs**  |\n",
       "|| M. M. Sardaneta, et al. -- incl., <mark>S. Ghosh</mark> |\n",
       "|*Appeared on*| *2024-01-08*|\n",
       "|*Comments*| *Accepted for its publication in MNRAS. Manuscript ID: MN-23-2536-MJ.R1*|\n",
       "|**Abstract**| Isolated galaxies are the ideal reference sample to study the galaxy structure minimising potential environmental effects. We selected a complete sample of 14 nearby, late-type, highly inclined ($i\\geq80^{\\circ}$), isolated galaxies from the Catalogue of Isolated Galaxies (CIG) which offers a vertical view of their disc structure. We aim to study extraplanar Diffuse Ionized Gas (eDIG) by comparing the old and young disc components traced by near-infrared (NIR) and Ultraviolet (UV) imaging with the H$\\alpha$ emission structure. We obtained H$\\alpha$ monochromatic maps from the Fabry-Perot (FP) interferometry, while the old and young discs structures are obtained from the photometric analysis of the 2MASS K$_{s}$-band, and GALEX NUV and FUV images, thereby identifying the stellar disc and whether the eDIG is present. The H$\\alpha$ morphology is peculiar in CIG 71, CIG 183, CIG 593 showing clear asymmetries. In general, geometric parameters (isophotal position angle, peak light distribution, inclination) measured from H$\\alpha$, UV and NIR show minimal differences (e.g. $\\Delta i\\leq\\pm$10$^{\\circ}$), suggesting that interaction does not play a significant role in shaping the morphology, as expected in isolated galaxies. From H$\\alpha$ maps, the eDIG was detected vertically in 11 out of 14 galaxies. Although the fraction of eDIG is high, the comparison between our sample and a generic sample of inclined spirals suggests that the phenomenon is uncorrelated to the galaxy environment. As suggested by the extraplanar UV emission found in 13 out of 14 galaxies the star formation extends well beyond the disc defined by the H$\\alpha$ map. |"
      ],
      "text/plain": [
       "[arXiv:2401.02876] Extraplanar emission in isolated edge-on late-type galaxies. I. The  H$α$ distribution versus to the old and young stellar discs\n",
       "\tM. M. Sardaneta, et al. -- incl., <mark>S. Ghosh</mark>"
      ]
     },
     "metadata": {},
     "output_type": "display_data"
    },
    {
     "data": {
      "text/markdown": [
       "## Failed papers"
      ],
      "text/plain": [
       "<IPython.core.display.Markdown object>"
      ]
     },
     "metadata": {},
     "output_type": "display_data"
    },
    {
     "data": {
      "text/markdown": [
       "\n",
       "|||\n",
       "|---:|:---|\n",
       "| [![arXiv](https://img.shields.io/badge/arXiv-arXiv:2401.02640-b31b1b.svg)](https://arxiv.org/abs/arXiv:2401.02640) | **The Fate of Simple Organics on Titan's Surface: A Theoretical  Perspective**  |\n",
       "|| X. Yu, et al. -- incl., <mark>X. Zhang</mark> |\n",
       "|*Appeared on*| *2024-01-08*|\n",
       "|*Comments*| *11 pages, 4 figures*|\n",
       "|**Abstract**| Atmospheric photochemistry on Titan continuously transforms methane and nitrogen gases into various organic compounds. This study explores the fate of these molecules when they land on Titan's surface. Our analytical exploration reveals that most simple organics found in Titan's atmosphere, including all nitriles, triple-bonded hydrocarbons, and benzene, land as solids. Only a few compounds are in the liquid phase, while only ethylene remains gaseous. For the simple organics that land as solids, we further examine their interactions with Titan's lake liquids. Utilizing principles of buoyancy, we found that flotation can be achieved via porosity-induced (25-60% porosity) or capillary force-induced buoyancy for HCN ices on ethane-rich lakes. Otherwise, these ices would sink and become lakebed sediments. By evaluating the timescale of flotation, our findings suggest that porosity-induced flotation of millimeter-sized and larger sediments is the only plausible mechanism for floating solids to explain the transient \"magic islands\" phenomena on Titan's lakes. |\n",
       "|<p style=\"color:green\"> **ERROR** </p>| <p style=\"color:green\">affiliation error: mpia.affiliation_verifications: 'Heidelberg' keyword not found.</p> |"
      ],
      "text/plain": [
       "<IPython.core.display.Markdown object>"
      ]
     },
     "metadata": {},
     "output_type": "display_data"
    },
    {
     "data": {
      "text/markdown": [
       "\n",
       "|||\n",
       "|---:|:---|\n",
       "| [![arXiv](https://img.shields.io/badge/arXiv-arXiv:2401.02821-b31b1b.svg)](https://arxiv.org/abs/arXiv:2401.02821) | **Water transport through mesoporous amorphous-carbon dust**  |\n",
       "|| R. Basalgète, <mark>G. Rouillé</mark>, <mark>C. Jäger</mark> |\n",
       "|*Appeared on*| *2024-01-08*|\n",
       "|*Comments*| **|\n",
       "|**Abstract**| The diffusion of water molecules through mesoporous dust of amorphous carbon (a-C) is a key process in the evolution of prestellar, protostellar, and protoplanetary dust, as well as in that of comets. It also plays a role in the formation of planets. Given the absence of data on this process, we experimentally studied the isothermal diffusion of water molecules desorbing from water ice buried at the bottom of a mesoporous layer of aggregated a-C nanoparticles, a material analogous to protostellar and cometary dust. We used infrared spectroscopy to monitor diffusion in low temperature (160 to 170 K) and pressure (6 $\\times$ 10$^{-5}$ to 8 $\\times$ 10$^{-4}$ Pa) conditions. Fick's first law of diffusion allowed us to derive diffusivity values on the order of 10$^{-2}$ cm$^2$ s$^{-1}$, which we linked to Knudsen diffusion. Water vapor molecular fluxes ranged from 5 $\\times$ 10$^{12}$ to 3 $\\times$ 10$^{14}$ cm$^{-2}$ s$^{-1}$ for thicknesses of the ice-free porous layer ranging from 60 to 1900 nm. Assimilating the layers of nanoparticles to assemblies of spheres, we attributed to this cosmic dust analog of porosity 0.80-0.90 a geometry correction factor, similar to the tortuosity factor of tubular pore systems, between 0.94 and 2.85. Applying the method to ices and refractory particles of other compositions will provides us with other useful data. |\n",
       "|<p style=\"color:green\"> **ERROR** </p>| <p style=\"color:green\">affiliation error: mpia.affiliation_verifications: 'Heidelberg' keyword not found.</p> |"
      ],
      "text/plain": [
       "<IPython.core.display.Markdown object>"
      ]
     },
     "metadata": {},
     "output_type": "display_data"
    }
   ],
   "source": [
    "import datetime\n",
    "today = str(datetime.date.today())\n",
    "logfile = f\"_build/html/logs/log-{today}.md\"\n",
    "\n",
    "\n",
    "with open(logfile, 'w') as logs:\n",
    "    # Success\n",
    "    logs.write(f'# Arxiv on Deck 2: Logs - {today}\\n\\n')\n",
    "    logs.write(\"\"\"* Arxiv had {0:,d} new papers\\n\"\"\".format(len(new_papers)))\n",
    "    logs.write(\"\"\"    * {0:,d} with possible author matches\\n\\n\"\"\".format(len(candidates)))\n",
    "    logs.write(\"## Sucessful papers\\n\\n\")\n",
    "    display(Markdown(\"## Successful papers\"))\n",
    "    success = [k[0] for k in documents]\n",
    "    for candid in candidates:\n",
    "        if candid['identifier'].split(':')[-1] in success:\n",
    "            display(candid)\n",
    "            logs.write(candid.generate_markdown_text() + '\\n\\n')\n",
    "\n",
    "    ## failed\n",
    "    logs.write(\"## Failed papers\\n\\n\")\n",
    "    display(Markdown(\"## Failed papers\"))\n",
    "    failed = sorted(failed, key=lambda x: x[1])\n",
    "    current_reason = \"\"\n",
    "    for paper, reason in failed:\n",
    "        if 'affiliation' in reason:\n",
    "            color = 'green'\n",
    "        else:\n",
    "            color = 'red'\n",
    "        data = Markdown(\n",
    "                paper.generate_markdown_text() + \n",
    "                f'\\n|<p style=\"color:{color:s}\"> **ERROR** </p>| <p style=\"color:{color:s}\">{reason:s}</p> |'\n",
    "               )\n",
    "        if reason != current_reason:\n",
    "            logs.write(f'### {reason:s} \\n\\n')\n",
    "            current_reason = reason\n",
    "        logs.write(data.data + '\\n\\n')\n",
    "        \n",
    "        # only display here the important errors (all in logs)\n",
    "        # if color in ('red',):\n",
    "        display(data)"
   ]
  },
  {
   "cell_type": "markdown",
   "id": "472d20ee",
   "metadata": {
    "papermill": {
     "duration": 0.00419,
     "end_time": "2024-01-08T04:11:08.208488",
     "exception": false,
     "start_time": "2024-01-08T04:11:08.204298",
     "status": "completed"
    },
    "tags": []
   },
   "source": [
    "## Export documents\n",
    "\n",
    "We now write the .md files and export relevant images"
   ]
  },
  {
   "cell_type": "code",
   "execution_count": 6,
   "id": "d426aed9",
   "metadata": {
    "execution": {
     "iopub.execute_input": "2024-01-08T04:11:08.217757Z",
     "iopub.status.busy": "2024-01-08T04:11:08.217512Z",
     "iopub.status.idle": "2024-01-08T04:11:08.224168Z",
     "shell.execute_reply": "2024-01-08T04:11:08.223624Z"
    },
    "papermill": {
     "duration": 0.012879,
     "end_time": "2024-01-08T04:11:08.225539",
     "exception": false,
     "start_time": "2024-01-08T04:11:08.212660",
     "status": "completed"
    },
    "tags": []
   },
   "outputs": [],
   "source": [
    "def export_markdown_summary(md: str, md_fname:str, directory: str):\n",
    "    \"\"\"Export MD document and associated relevant images\"\"\"\n",
    "    import os\n",
    "    import shutil\n",
    "    import re\n",
    "\n",
    "    if (os.path.exists(directory) and not os.path.isdir(directory)):\n",
    "        raise RuntimeError(f\"a non-directory file exists with name {directory:s}\")\n",
    "\n",
    "    if (not os.path.exists(directory)):\n",
    "        print(f\"creating directory {directory:s}\")\n",
    "        os.mkdir(directory)\n",
    "\n",
    "    fig_fnames = (re.compile(r'\\[Fig.*\\]\\((.*)\\)').findall(md) + \n",
    "                  re.compile(r'\\<img src=\"([^>\\s]*)\"[^>]*/>').findall(md))\n",
    "    for fname in fig_fnames:\n",
    "        if 'http' in fname:\n",
    "            # No need to copy online figures\n",
    "            continue\n",
    "        destdir = os.path.join(directory, os.path.dirname(fname))\n",
    "        destfname = os.path.join(destdir, os.path.basename(fname))\n",
    "        try:\n",
    "            os.makedirs(destdir)\n",
    "        except FileExistsError:\n",
    "            pass\n",
    "        shutil.copy(fname, destfname)\n",
    "    with open(os.path.join(directory, md_fname), 'w') as fout:\n",
    "        fout.write(md)\n",
    "    print(\"exported in \", os.path.join(directory, md_fname))\n",
    "    [print(\"    + \" + os.path.join(directory,fk)) for fk in fig_fnames]"
   ]
  },
  {
   "cell_type": "code",
   "execution_count": 7,
   "id": "014d04a4",
   "metadata": {
    "execution": {
     "iopub.execute_input": "2024-01-08T04:11:08.235313Z",
     "iopub.status.busy": "2024-01-08T04:11:08.234786Z",
     "iopub.status.idle": "2024-01-08T04:11:08.246238Z",
     "shell.execute_reply": "2024-01-08T04:11:08.245685Z"
    },
    "papermill": {
     "duration": 0.017599,
     "end_time": "2024-01-08T04:11:08.247527",
     "exception": false,
     "start_time": "2024-01-08T04:11:08.229928",
     "status": "completed"
    },
    "tags": []
   },
   "outputs": [
    {
     "name": "stdout",
     "output_type": "stream",
     "text": [
      "exported in  _build/html/2401.02484.md\n",
      "    + _build/html/tmp_2401.02484/./abund_Mini_v6.png\n",
      "    + _build/html/tmp_2401.02484/./feh_xh_withdg_v3.png\n",
      "    + _build/html/tmp_2401.02484/./best_nucl_models_v3.png\n",
      "exported in  _build/html/2401.02876.md\n",
      "    + _build/html/tmp_2401.02876/./figures/maps_cb_2/cig71-cb.png\n",
      "    + _build/html/tmp_2401.02876/./figures/isolation_3b.png\n",
      "    + _build/html/tmp_2401.02876/./figures/maps_cb_2/cig95-cb.png\n"
     ]
    }
   ],
   "source": [
    "for paper_id, md in documents:\n",
    "    export_markdown_summary(md, f\"{paper_id:s}.md\", '_build/html/')"
   ]
  },
  {
   "cell_type": "markdown",
   "id": "f087a0a7",
   "metadata": {
    "papermill": {
     "duration": 0.004334,
     "end_time": "2024-01-08T04:11:08.256365",
     "exception": false,
     "start_time": "2024-01-08T04:11:08.252031",
     "status": "completed"
    },
    "tags": []
   },
   "source": [
    "## Display the papers\n",
    "\n",
    "Not necessary but allows for a quick check."
   ]
  },
  {
   "cell_type": "code",
   "execution_count": 8,
   "id": "fd25f625",
   "metadata": {
    "execution": {
     "iopub.execute_input": "2024-01-08T04:11:08.265896Z",
     "iopub.status.busy": "2024-01-08T04:11:08.265658Z",
     "iopub.status.idle": "2024-01-08T04:11:08.271513Z",
     "shell.execute_reply": "2024-01-08T04:11:08.270928Z"
    },
    "papermill": {
     "duration": 0.012286,
     "end_time": "2024-01-08T04:11:08.272961",
     "exception": false,
     "start_time": "2024-01-08T04:11:08.260675",
     "status": "completed"
    },
    "scrolled": false,
    "tags": []
   },
   "outputs": [
    {
     "data": {
      "text/markdown": [
       "<div class=\"macros\" style=\"visibility:hidden;\">\n",
       "$\\newcommand{\\ensuremath}{}$\n",
       "$\\newcommand{\\xspace}{}$\n",
       "$\\newcommand{\\object}[1]{\\texttt{#1}}$\n",
       "$\\newcommand{\\farcs}{{.}''}$\n",
       "$\\newcommand{\\farcm}{{.}'}$\n",
       "$\\newcommand{\\arcsec}{''}$\n",
       "$\\newcommand{\\arcmin}{'}$\n",
       "$\\newcommand{\\ion}[2]{#1#2}$\n",
       "$\\newcommand{\\textsc}[1]{\\textrm{#1}}$\n",
       "$\\newcommand{\\hl}[1]{\\textrm{#1}}$\n",
       "$\\newcommand{\\footnote}[1]{}$\n",
       "$\\newcommand{\\url}[1]{\\href{#1}{#1}}$\n",
       "$\\newcommand{\\dodoi}[1]{doi:~\\href{http://doi.org/#1}{\\nolinkurl{#1}}}$\n",
       "$\\newcommand{\\doeprint}[1]{\\href{http://ascl.net/#1}{\\nolinkurl{http://ascl.net/#1}}}$\n",
       "$\\newcommand{\\doarXiv}[1]{\\href{https://arxiv.org/abs/#1}{\\nolinkurl{https://arxiv.org/abs/#1}}}$\n",
       "$\\newcommand{\\vdag}{(v)^\\dagger}$\n",
       "$\\newcommand$\n",
       "$\\newcommand$\n",
       "$\\newcommand{\\TheStar}{J0931+0038\\xspace}$\n",
       "$\\newcommand{\\GaiaID}{\\gaia DR3 3841101888330639872}$\n",
       "$\\newcommand{\\code}[1]{\\texttt{#1}\\xspace}$\n",
       "$\\newcommand{\\APJ}[1]{\\textcolor{orange}{[AJ: #1]}}$\n",
       "$\\newcommand{\\gaia}{\\textit{Gaia}\\xspace}$\n",
       "$\\newcommand{\\Gaia}{\\gaia}$\n",
       "$\\newcommand{\\unit}[1]{\\ensuremath{\\mathrm{ #1}}\\xspace}$\n",
       "$\\newcommand{\\feh}{\\unit{[Fe/H]}}$\n",
       "$\\newcommand{\\teff}{\\ensuremath{T_\\mathrm{eff}}\\xspace}$\n",
       "$\\newcommand{\\logg}{\\ensuremath{\\log g}\\xspace}$\n",
       "$\\newcommand{\\alphafe}{\\unit{[\\alpha/Fe]}}$\n",
       "$\\newcommand{\\vhel}{\\mbox{v_{\\mathrm{hel}}}}$\n",
       "$\\newcommand{\\sigmav}{\\mbox{{\\sigma_v}}}$\n",
       "$\\newcommand{\\sigmafeh}{\\mbox{\\sigma_{\\mathrm{[Fe/H]}}}}$\n",
       "$\\newcommand{\\kms}{\\unit{km s^{-1}}}$\n",
       "$\\newcommand{\\masyr}{\\unit{mas yr^{-1}}}$\n",
       "$\\newcommand{\\msun}{\\unit{M_\\odot}}$\n",
       "$\\newcommand{\\lsun}{\\unit{L_\\odot}}$\n",
       "$\\newcommand{\\sanj}[1]{\\textsf{\\color{cyan}{#1}}}$\n",
       "$\\newcommand{\\mb}[1]{\\textsf{\\color{brown}{#1}}}$\n",
       "$\\newcommand{\\minesweeper}{\\texttt{MINESweeper}\\xspace}$\n",
       "$\\newcommand{\\cmark}{\\ding{51}}$\n",
       "$\\newcommand{\\xmark}{\\ding{55}}$\n",
       "$\\newcommand{\\cxmark}{\\textsf{\\textcolor{red}{\\xmark}}\\xspace}$\n",
       "$\\newcommand{çmark}{\\textsf{\\textcolor{OliveGreen}{\\cmark}}\\xspace}$\n",
       "$\\newcommand{\\cxmarkq}{\\textsf{\\textcolor{Dandelion}{\\xmark?}}\\xspace}$\n",
       "$\\newcommand{çmarkq}{\\textsf{\\textcolor{YellowGreen}{\\cmark?}}\\xspace}$\n",
       "$\\newcommand{\\}{natexlab}$</div>\n",
       "\n",
       "\n",
       "\n",
       "<div id=\"title\">\n",
       "\n",
       "# Spectacular nucleosynthesis from early massive stars\n",
       "\n",
       "</div>\n",
       "<div id=\"comments\">\n",
       "\n",
       "[![arXiv](https://img.shields.io/badge/arXiv-2401.02484-b31b1b.svg)](https://arxiv.org/abs/2401.02484)<mark>Appeared on: 2024-01-08</mark> -  _11 pages + 22 page appendix, accepted to ApJL_\n",
       "\n",
       "</div>\n",
       "<div id=\"authors\">\n",
       "\n",
       "Alexander~P.~Ji, et al.\n",
       "\n",
       "</div>\n",
       "<div id=\"abstract\">\n",
       "\n",
       "**Abstract:** Stars formed with initial mass over 50 $M_\\odot$ are very rare today, but they are thought to be more common in the early universe.The fates of those early, metal-poor, massive stars are highly uncertain. Most are expected to directly collapse to black holes, while some may explode as a result of rotationally powered engines or the pair-creation instability.We present the chemical abundances of J0931+0038, a nearby low-mass star identified in early followup of SDSS-V Milky Way Mapper, which preserves the signature of unusual nucleosynthesis from a massive star in the early universe.J0931+0038 has relatively high metallicity ( [ Fe/H ] $= -1.76 \\pm 0.13$ ) but an extreme odd--even abundance pattern, with some of the lowest known abundance ratios of [ N/Fe ] , [ Na/Fe ] , [ K/Fe ] , [ Sc/Fe ] , and [ Ba/Fe ] .The implication is that a majority of its metals originated in a single extremely metal-poor nucleosynthetic source.An extensive search through nucleosynthesis predictions finds a clear preference for progenitors with initial mass $> 50 M_\\odot$ , making J0931+0038 one of the first observational constraints on nucleosynthesis in this mass range. However the full abundance pattern is not matched by any models in the literature.J0931+0038 thus presents a challenge for the next generation of nucleosynthesis models and motivates study of high-mass progenitor stars impacted by convection, rotation, jets, and/or binary companions.Though rare, more examples of unusual early nucleosynthesis in metal-poor stars should be found in upcoming large spectroscopic surveys.\n",
       "\n",
       "</div>\n",
       "\n",
       "<div id=\"div_fig1\">\n",
       "\n",
       "<img src=\"tmp_2401.02484/./abund_Mini_v6.png\" alt=\"Fig13\" width=\"100%\"/>\n",
       "\n",
       "**Figure 13. -** \n",
       "    Initial mass vs maximum [Fe/H], [C/O], [Na/Mg], [Mg/Fe], and [Zn/Fe]\n",
       "    for zero-metallicity supernovae from five yield grids:\n",
       "    CCSN from \\citealt{Heger10}(HW10, fiducial mixing, $E = 0.3-2.4$B in steps of 2x); HN from \\citealt{Grimmett2018MNRAS}(G18, no mixing, $E=5,10,50,100$B); PISN from \\citealt{Heger2002ApJ}(HW02); all types of SN from \\citealt{Nomoto2013}(NKT13), and CCSN from \\citealt{Ebinger2020ApJ}(E20).\n",
       "    Point sizes are proportional to log explosion energy (0.3-100B).\n",
       "    The horizontal red lines and shaded regions show the abundance of $\\TheStar$.\n",
       "    Top row: maximum [Fe/H] strongly prefers higher mass progenitor stars with $M > 50 $\\msun$$. Larger explosion energies tend to synthesize more Fe but dilute into more H, with the balance indicated by vertical trends in point sizes.\n",
       "    Second row: [C/O] rules out low-mass CCSN ($M \\lesssim 20 $\\msun$$).\n",
       "    Third and fourth row: [Na/Mg] and [Mg/Fe] disfavor intermediate-mass CCSN ($20-80 $\\msun$$).\n",
       "    Higher energy HN match the abundances better and allow progenitors down to $40 $\\msun$$, but these all strongly violate the [Fe/H] constraint.\n",
       "    E20 is removed from the [Na/Mg] plot as the Na yields are not predicted.\n",
       "    Fifth row: PISNe ($M > 140 $\\msun$$) are unable to produce significant Zn.\n",
       "    Bottom row: estimated stellar fate given initial mass for a single, metal-poor, non-rotating star \\citep{Heger2003}.\n",
       "     (*fig:abund_Mini*)\n",
       "\n",
       "</div>\n",
       "<div id=\"div_fig2\">\n",
       "\n",
       "<img src=\"tmp_2401.02484/./feh_xh_withdg_v3.png\" alt=\"Fig1\" width=\"100%\"/>\n",
       "\n",
       "**Figure 1. -** \n",
       "    Composition of $\\TheStar$(red square) for Na, Ba, Mg, and Sr compared to the SAGA database (grey points), higher mass classical dwarf galaxies (blue squares), and lower mass ultra-faint dwarf galaxies (yellow diamonds).\n",
       "    The dashed black line is an outlier-clipped 3rd order polynomial fit to the SAGA data.\n",
       "    The horizontal red line is the [X/H] of $\\TheStar$.\n",
       "    From the top two panels, the red shaded region indicates $\\mbox{[Fe/H]} < -3$, the ISM metallicity range that alone would contribute all of the Na, Ba, and other under-abundant elements like N, K, and Sc observed in $\\TheStar$.\n",
       "    The bottom two panels, Mg and Sr, show that explaining the low N, Na, K, Sc, and Ba by simply adding Fe (e.g. with a Type Ia supernova) would require extremely high abundances of other elements.\n",
       "     (*fig:fehxh*)\n",
       "\n",
       "</div>\n",
       "<div id=\"div_fig3\">\n",
       "\n",
       "<img src=\"tmp_2401.02484/./best_nucl_models_v3.png\" alt=\"Fig2\" width=\"100%\"/>\n",
       "\n",
       "**Figure 2. -** \n",
       "    Representative best matching nucleosynthesis models.\n",
       "    Abundances of $\\TheStar$ are given as red squares with error bars.\n",
       "    In the top panel, the large open blue circles connected by a solid line indicate the best-fit HN model \\citep{Grimmett2018MNRAS}\n",
       "    The dotted blue line with small points and dashed blue line with small open circles indicate adding the HN to a high-entropy proton-rich wind pattern \\citep{Bliss2018ApJ} and weak r-process pattern \\citep{Holmbeck2023}, respectively.\n",
       "    In the bottom panel, the solid purple circles with solid line indicate the best-fit PISN model \\citep{Heger2002ApJ}.\n",
       "    The dotted purple line with small open circles indicates the same model with a modified i-process (calculated using the framework in \\citealt{Roederer2022}, see Appendix \\ref{app:nuc} for details).\n",
       "    The HN is the best fit to the lighter elements and has leeway to fit the heavier elements, but the high energy underpredicts [Fe/H].\n",
       "    The PISN easily matches the high [Fe/H], and we speculate that a full calculation of a metal-enriched PISN progenitor and explosion with i-process could remedy the disadvantages seen here.\n",
       "     (*fig:nucl_best*)\n",
       "\n",
       "</div><div id=\"qrcode\"><img src=https://api.qrserver.com/v1/create-qr-code/?size=100x100&data=\"https://arxiv.org/abs/2401.02484\"></div>"
      ],
      "text/plain": [
       "<IPython.core.display.Markdown object>"
      ]
     },
     "metadata": {},
     "output_type": "display_data"
    },
    {
     "data": {
      "text/markdown": [
       "<div class=\"macros\" style=\"visibility:hidden;\">\n",
       "$\\newcommand{\\ensuremath}{}$\n",
       "$\\newcommand{\\xspace}{}$\n",
       "$\\newcommand{\\object}[1]{\\texttt{#1}}$\n",
       "$\\newcommand{\\farcs}{{.}''}$\n",
       "$\\newcommand{\\farcm}{{.}'}$\n",
       "$\\newcommand{\\arcsec}{''}$\n",
       "$\\newcommand{\\arcmin}{'}$\n",
       "$\\newcommand{\\ion}[2]{#1#2}$\n",
       "$\\newcommand{\\textsc}[1]{\\textrm{#1}}$\n",
       "$\\newcommand{\\hl}[1]{\\textrm{#1}}$\n",
       "$\\newcommand{\\footnote}[1]{}$\n",
       "$\\newcommand{\\thebibliography}{\\DeclareRobustCommand{\\VAN}[3]{##3}\\VANthebibliography}$</div>\n",
       "\n",
       "\n",
       "\n",
       "<div id=\"title\">\n",
       "\n",
       "# Extraplanar emission in isolated edge-on late-type galaxies. $\\I.The H$$\\alpha$ distribution versus to the old and youngstellar discs.$\\thanks{Based on observations obtained at the Observatoire deHaute Provence (OHP, France), operated by the French CNRS.}$\n",
       "\n",
       "</div>\n",
       "<div id=\"comments\">\n",
       "\n",
       "[![arXiv](https://img.shields.io/badge/arXiv-2401.02876-b31b1b.svg)](https://arxiv.org/abs/2401.02876)<mark>Appeared on: 2024-01-08</mark> -  _Accepted for its publication in MNRAS. Manuscript ID: MN-23-2536-MJ.R1_\n",
       "\n",
       "</div>\n",
       "<div id=\"authors\">\n",
       "\n",
       "M. M. Sardaneta, et al. -- incl., <mark>S. Ghosh</mark>\n",
       "\n",
       "</div>\n",
       "<div id=\"abstract\">\n",
       "\n",
       "**Abstract:** Isolated galaxies are the ideal reference sample to study the galaxy structure minimising potential environmental effects. We selected a complete sample of 14 nearby, late-type, highly inclined ( $i\\geq80^{\\circ}$ ), isolated galaxies from the Catalogue of Isolated Galaxies (CIG) which offers a vertical view of their disc structure.We aim to study extraplanar Diffuse Ionized Gas (eDIG) by comparing the old and young disc components traced by near-infrared ( _NIR_ ) and Ultraviolet ( _UV_ )  imaging with the H $\\alpha$ emission structure.We obtained H $\\alpha$ monochromatic maps from the Fabry-Perot (FP) interferometry, while the old and young discs structures are obtained from the photometric analysis of the 2MASS _K$_{s_$} -band, and GALEX _NUV_ and _FUV_ images, thereby identifying the stellar disc and whether the eDIG is present.The H $\\alpha$ morphology is peculiar in CIG 71, CIG 183, CIG 593 showing clear asymmetries.In general, geometric parameters (isophotal position angle, peak light distribution, inclination) measured from H $\\alpha$ , _UV_ and _NIR_ show minimal differences (e.g. $\\Delta i\\leq\\pm$ 10 $^{\\circ}$ ), suggesting that interaction does not play a significant role in shaping the morphology, as expected in isolated galaxies.From H $\\alpha$ maps, the eDIG was detected vertically in 11 out of 14 galaxies.Although the fraction of eDIG is high, the comparison between our sample and a generic sample of inclined spirals suggests that the phenomenon is uncorrelated to the galaxy environment. As suggested by the extraplanar _UV_ emission found in 13 out of 14  galaxies the star formation extends well beyond the disc defined by the H $\\alpha$ map.\n",
       "\n",
       "</div>\n",
       "\n",
       "<div id=\"div_fig1\">\n",
       "\n",
       "<img src=\"tmp_2401.02876/./figures/maps_cb_2/cig71-cb.png\" alt=\"Fig19\" width=\"100%\"/>\n",
       "\n",
       "**Figure 19. -** \n",
       "Example of the layout of the graphs and maps of each galaxy. CIG 71 (UGC 1301).\n",
       "Multiwavelength maps of the galaxy: (a) the H$\\alpha$ \tmonochromatic map from FP-GHASP data; (b) the 2MASS _K$_{s_$}-band image; (c) the  DSS _R_-band image; (d) and (e) the GALEX _NUV_ and _FUV_ images, respectively.\n",
       "In panels (f) and (g) the surface brightness profile of the _K$_{s_$}-band and _NUV/FUV_ emissions are plotted, respectively.\n",
       "In both panels, yellow vertical lines mark the surface brightness level at 1$\\sigma$(dotted line) and 3$\\sigma$(solid line) of the _K$_{s_$}-band image.\n",
       "In panel (g), vertical lines indicate the radii corresponding to the isophotes at a surface brightness level at $\\mu_{_NUV_,_FUV_}=$ 28 mag arcsec$^{-2}$ for the _NUV_(blue dot-dashed line) and _FUV_(red dashed line) maps, respectively. Additionally, the vertical black loosely-dashed line at $\\sim$5 arcsec shows the approximate FWHM of the GALEX point spread function \\citep[see e.g.][]{marino-2010}.\n",
       "The ellipses fitted to these isophotes are superimposed on the corresponding map with their associated colour.\n",
       "The common elements in in panels (a), (b), (d) and (e) are:\n",
       "a colour-bar indicating the flux in units of $\\mathrm{erg sec^{-1} cm^{-2}}$,\n",
       "the arrow tracing a scale of  30 arcsec,\n",
       "a black circle embedded in a box indicating the spatial resolution of the image,\n",
       "a black ellipse representing the surface brightness level at 3$\\sigma$ on the background of the _K$_{s_$}-band image\n",
       "and, a black cross ($\\times$) pointing the location of the _NIR_ band peak light distribution.\n",
       "At the bottom of panel (f) we show the relationship between the coefficient $B_{4}$ and the radius  using the _K$_{s_$}-band map to determine if the isophotes tend to have `disc-like’ ($B_4 < 0$) or `boxy’ ($B_4>0$) shape (see Section \\ref{Sec:stellarDisc}).\n",
       "Finally, in panel (a), on the H$\\alpha$ monochromatic map were overlaid the 1$\\sigma$ isophotes on the background of the _NUV_ and _FUV_ images.\n",
       " (*Fig:maps-example*)\n",
       "\n",
       "</div>\n",
       "<div id=\"div_fig2\">\n",
       "\n",
       "<img src=\"tmp_2401.02876/./figures/isolation_3b.png\" alt=\"Fig1\" width=\"100%\"/>\n",
       "\n",
       "**Figure 1. -** Comparison between the local number density ($\\eta_{k}$)  and tidal strength ($Q_{k}$) parameters for the CIG galaxies in our sample.  These parameters were obtained first, based on digitized photographic plates from POSS-1 and POSS-2 \\citep[][]{verley-2007, verley-2007-i}(red triangles) and later, on available  photometric and spectroscopic  data from SDSS-DR9  ([ and Argudo-Fernández 2013](https://ui.adsabs.harvard.edu/abs/2013A&A...560A...9A)) (blue circles). The CIG catalogue numbers are indicated on top the circles and below the triangles.\n",
       "According to [ and Verley (2007)](http://adsabs.harvard.edu/abs/2007A%26A...472..121V), the horizontal ($\\eta_{k}=2.4$)  and vertical ($Q_{k}=-2$) lines enclose the _ region of bona fide_ isolated galaxies in the AMIGA sample.\n",
       " (*Fig:isolation*)\n",
       "\n",
       "</div>\n",
       "<div id=\"div_fig3\">\n",
       "\n",
       "<img src=\"tmp_2401.02876/./figures/maps_cb_2/cig95-cb.png\" alt=\"Fig4\" width=\"100%\"/>\n",
       "\n",
       "**Figure 4. -** CIG 95 (UGC 1733). Same as Figure \\ref{Fig:maps-example}. (*Fig:maps-c95*)\n",
       "\n",
       "</div><div id=\"qrcode\"><img src=https://api.qrserver.com/v1/create-qr-code/?size=100x100&data=\"https://arxiv.org/abs/2401.02876\"></div>"
      ],
      "text/plain": [
       "<IPython.core.display.Markdown object>"
      ]
     },
     "metadata": {},
     "output_type": "display_data"
    }
   ],
   "source": [
    "[display(Markdown(k[1])) for k in documents];"
   ]
  },
  {
   "cell_type": "markdown",
   "id": "873873a4",
   "metadata": {
    "papermill": {
     "duration": 0.004654,
     "end_time": "2024-01-08T04:11:08.282519",
     "exception": false,
     "start_time": "2024-01-08T04:11:08.277865",
     "status": "completed"
    },
    "tags": []
   },
   "source": [
    "# Create HTML index"
   ]
  },
  {
   "cell_type": "code",
   "execution_count": 9,
   "id": "cf665672",
   "metadata": {
    "execution": {
     "iopub.execute_input": "2024-01-08T04:11:08.293053Z",
     "iopub.status.busy": "2024-01-08T04:11:08.292706Z",
     "iopub.status.idle": "2024-01-08T04:11:08.301630Z",
     "shell.execute_reply": "2024-01-08T04:11:08.301027Z"
    },
    "papermill": {
     "duration": 0.015804,
     "end_time": "2024-01-08T04:11:08.303095",
     "exception": false,
     "start_time": "2024-01-08T04:11:08.287291",
     "status": "completed"
    },
    "tags": []
   },
   "outputs": [
    {
     "name": "stdout",
     "output_type": "stream",
     "text": [
      "353  publications files modified in the last 7 days.\n"
     ]
    }
   ],
   "source": [
    "from datetime import datetime, timedelta, timezone\n",
    "from glob import glob\n",
    "import os\n",
    "\n",
    "files = glob('_build/html/*.md')\n",
    "days = 7\n",
    "now = datetime.today()\n",
    "res = []\n",
    "for fk in files:\n",
    "    stat_result = os.stat(fk).st_ctime\n",
    "    modified = datetime.fromtimestamp(stat_result, tz=timezone.utc).replace(tzinfo=None)\n",
    "    delta = now.today() - modified\n",
    "    if delta <= timedelta(days=days):\n",
    "        res.append((delta.seconds, fk))\n",
    "res = [k[1] for k in reversed(sorted(res, key=lambda x:x[1]))]\n",
    "npub = len(res)\n",
    "print(len(res), f\" publications files modified in the last {days:d} days.\")\n",
    "# [ print('\\t', k) for k in res ];"
   ]
  },
  {
   "cell_type": "code",
   "execution_count": 10,
   "id": "015de740",
   "metadata": {
    "execution": {
     "iopub.execute_input": "2024-01-08T04:11:08.313664Z",
     "iopub.status.busy": "2024-01-08T04:11:08.313322Z",
     "iopub.status.idle": "2024-01-08T04:11:08.333340Z",
     "shell.execute_reply": "2024-01-08T04:11:08.332710Z"
    },
    "papermill": {
     "duration": 0.026728,
     "end_time": "2024-01-08T04:11:08.334684",
     "exception": false,
     "start_time": "2024-01-08T04:11:08.307956",
     "status": "completed"
    },
    "tags": []
   },
   "outputs": [
    {
     "name": "stdout",
     "output_type": "stream",
     "text": [
      "6  publications in the last 7 days.\n"
     ]
    }
   ],
   "source": [
    "import datetime\n",
    "from glob import glob\n",
    "\n",
    "def get_last_n_days(lst, days=1):\n",
    "    \"\"\" Get the documents from the last n days \"\"\"\n",
    "    sorted_lst = sorted(lst, key=lambda x: x[1], reverse=True)\n",
    "    for fname, date in sorted_lst:\n",
    "        if date >= str(datetime.date.today() - datetime.timedelta(days=days)):\n",
    "            yield fname\n",
    "\n",
    "def extract_appearance_dates(lst_file):\n",
    "    dates = []\n",
    "\n",
    "    def get_date(line):\n",
    "        return line\\\n",
    "            .split('Appeared on:')[-1]\\\n",
    "            .split('</mark>')[0].strip()\n",
    "\n",
    "    for fname in lst:\n",
    "        with open(fname, 'r') as f:\n",
    "            found_date = False\n",
    "            for line in f:\n",
    "                if not found_date:\n",
    "                    if \"Appeared on\" in line:\n",
    "                        found_date = True\n",
    "                        dates.append((fname, get_date(line)))\n",
    "                else:\n",
    "                    break\n",
    "    return dates\n",
    "\n",
    "from glob import glob\n",
    "lst = glob('_build/html/*md')\n",
    "days = 7\n",
    "dates = extract_appearance_dates(lst)\n",
    "res = list(get_last_n_days(dates, days))\n",
    "npub = len(res)\n",
    "print(len(res), f\" publications in the last {days:d} days.\")"
   ]
  },
  {
   "cell_type": "code",
   "execution_count": 11,
   "id": "52ca0208",
   "metadata": {
    "execution": {
     "iopub.execute_input": "2024-01-08T04:11:08.345855Z",
     "iopub.status.busy": "2024-01-08T04:11:08.345372Z",
     "iopub.status.idle": "2024-01-08T04:11:08.350386Z",
     "shell.execute_reply": "2024-01-08T04:11:08.349856Z"
    },
    "papermill": {
     "duration": 0.011861,
     "end_time": "2024-01-08T04:11:08.351684",
     "exception": false,
     "start_time": "2024-01-08T04:11:08.339823",
     "status": "completed"
    },
    "scrolled": false,
    "tags": []
   },
   "outputs": [],
   "source": [
    "def create_carousel(npub=4):\n",
    "    \"\"\" Generate the HTML code for a carousel with `npub` slides \"\"\"\n",
    "    carousel = [\"\"\"  <div class=\"carousel\" \"\"\",\n",
    "                \"\"\"       data-flickity='{ \"autoPlay\": 10000, \"adaptiveHeight\": true, \"resize\": true, \"wrapAround\": true, \"pauseAutoPlayOnHover\": true, \"groupCells\": 1 }' id=\"asyncTypeset\">\"\"\"\n",
    "                ]\n",
    "    \n",
    "    item_str = \"\"\"    <div class=\"carousel-cell\"> <div id=\"slide{k}\" class=\"md_view\">Content {k}</div> </div>\"\"\"\n",
    "    for k in range(1, npub + 1):\n",
    "        carousel.append(item_str.format(k=k))\n",
    "    carousel.append(\"  </div>\")\n",
    "    return '\\n'.join(carousel)\n",
    "\n",
    "def create_grid(npub=4):\n",
    "    \"\"\" Generate the HTML code for a flat grid with `npub` slides \"\"\"\n",
    "    grid = [\"\"\"  <div class=\"grid\"> \"\"\",\n",
    "                ]\n",
    "    \n",
    "    item_str = \"\"\"    <div class=\"grid-item\"> <div id=\"slide{k}\" class=\"md_view\">Content {k}</div> </div>\"\"\"\n",
    "    for k in range(1, npub + 1):\n",
    "        grid.append(item_str.format(k=k))\n",
    "    grid.append(\"  </div>\")\n",
    "    return '\\n'.join(grid)"
   ]
  },
  {
   "cell_type": "code",
   "execution_count": 12,
   "id": "a6eac5b6",
   "metadata": {
    "execution": {
     "iopub.execute_input": "2024-01-08T04:11:08.362686Z",
     "iopub.status.busy": "2024-01-08T04:11:08.362134Z",
     "iopub.status.idle": "2024-01-08T04:11:08.367446Z",
     "shell.execute_reply": "2024-01-08T04:11:08.366919Z"
    },
    "papermill": {
     "duration": 0.012196,
     "end_time": "2024-01-08T04:11:08.368791",
     "exception": false,
     "start_time": "2024-01-08T04:11:08.356595",
     "status": "completed"
    },
    "scrolled": false,
    "tags": []
   },
   "outputs": [],
   "source": [
    "carousel = create_carousel(npub)\n",
    "docs = ', '.join(['\"{0:s}\"'.format(k.split('/')[-1]) for k in res])\n",
    "slides = ', '.join([f'\"slide{k}\"' for k in range(1, npub + 1)])\n",
    "\n",
    "with open(\"daily_template.html\", \"r\") as tpl:\n",
    "    page = tpl.read()\n",
    "    page = page.replace(\"{%-- carousel:s --%}\", carousel)\\\n",
    "               .replace(\"{%-- suptitle:s --%}\",  \"7-day archives\" )\\\n",
    "               .replace(\"{%-- docs:s --%}\", docs)\\\n",
    "               .replace(\"{%-- slides:s --%}\", slides)\n",
    "    \n",
    "with open(\"_build/html/index_7days.html\", 'w') as fout:\n",
    "    fout.write(page)"
   ]
  },
  {
   "cell_type": "code",
   "execution_count": 13,
   "id": "adc1a1ec",
   "metadata": {
    "execution": {
     "iopub.execute_input": "2024-01-08T04:11:08.379785Z",
     "iopub.status.busy": "2024-01-08T04:11:08.379375Z",
     "iopub.status.idle": "2024-01-08T04:11:08.386103Z",
     "shell.execute_reply": "2024-01-08T04:11:08.385568Z"
    },
    "papermill": {
     "duration": 0.013595,
     "end_time": "2024-01-08T04:11:08.387399",
     "exception": false,
     "start_time": "2024-01-08T04:11:08.373804",
     "status": "completed"
    },
    "tags": []
   },
   "outputs": [
    {
     "name": "stdout",
     "output_type": "stream",
     "text": [
      "2  publications in the last day.\n"
     ]
    }
   ],
   "source": [
    "# redo for today\n",
    "days = 1\n",
    "res = list(get_last_n_days(dates, days))\n",
    "npub = len(res)\n",
    "print(len(res), f\" publications in the last day.\")\n",
    "\n",
    "carousel = create_carousel(npub)\n",
    "docs = ', '.join(['\"{0:s}\"'.format(k.split('/')[-1]) for k in res])\n",
    "slides = ', '.join([f'\"slide{k}\"' for k in range(1, npub + 1)])\n",
    "\n",
    "with open(\"daily_template.html\", \"r\") as tpl:\n",
    "    page = tpl.read()\n",
    "    page = page.replace(\"{%-- carousel:s --%}\", carousel)\\\n",
    "               .replace(\"{%-- suptitle:s --%}\",  \"Daily\" )\\\n",
    "               .replace(\"{%-- docs:s --%}\", docs)\\\n",
    "               .replace(\"{%-- slides:s --%}\", slides)\n",
    "    \n",
    "# print(carousel, docs, slides)\n",
    "# print(page)\n",
    "with open(\"_build/html/index_daily.html\", 'w') as fout:\n",
    "    fout.write(page)"
   ]
  },
  {
   "cell_type": "code",
   "execution_count": 14,
   "id": "00eece82",
   "metadata": {
    "execution": {
     "iopub.execute_input": "2024-01-08T04:11:08.398785Z",
     "iopub.status.busy": "2024-01-08T04:11:08.398374Z",
     "iopub.status.idle": "2024-01-08T04:11:08.404744Z",
     "shell.execute_reply": "2024-01-08T04:11:08.404118Z"
    },
    "papermill": {
     "duration": 0.013563,
     "end_time": "2024-01-08T04:11:08.406089",
     "exception": false,
     "start_time": "2024-01-08T04:11:08.392526",
     "status": "completed"
    },
    "scrolled": false,
    "tags": []
   },
   "outputs": [
    {
     "name": "stdout",
     "output_type": "stream",
     "text": [
      "6  6 publications selected.\n"
     ]
    }
   ],
   "source": [
    "# Create the flat grid of the last N papers (fixed number regardless of dates)\n",
    "from itertools import islice \n",
    "\n",
    "npub = 6\n",
    "res = [k[0] for k in (islice(reversed(sorted(dates, key=lambda x: x[1])), 6))]\n",
    "print(len(res), f\" {npub} publications selected.\")\n",
    "\n",
    "grid = create_grid(npub)\n",
    "docs = ', '.join(['\"{0:s}\"'.format(k.split('/')[-1]) for k in res])\n",
    "slides = ', '.join([f'\"slide{k}\"' for k in range(1, npub + 1)])\n",
    "\n",
    "with open(\"grid_template.html\", \"r\") as tpl:\n",
    "    page = tpl.read()\n",
    "    page = page.replace(\"{%-- grid-content:s --%}\", grid)\\\n",
    "               .replace(\"{%-- suptitle:s --%}\",  f\"Last {npub:,d} papers\" )\\\n",
    "               .replace(\"{%-- docs:s --%}\", docs)\\\n",
    "               .replace(\"{%-- slides:s --%}\", slides)\n",
    "    \n",
    "# print(grid, docs, slides)\n",
    "# print(page)\n",
    "with open(\"_build/html/index_npub_grid.html\", 'w') as fout:\n",
    "    fout.write(page)"
   ]
  }
 ],
 "metadata": {
  "kernelspec": {
   "display_name": "Python 3 (ipykernel)",
   "language": "python",
   "name": "python3"
  },
  "language_info": {
   "codemirror_mode": {
    "name": "ipython",
    "version": 3
   },
   "file_extension": ".py",
   "mimetype": "text/x-python",
   "name": "python",
   "nbconvert_exporter": "python",
   "pygments_lexer": "ipython3",
   "version": "3.9.18"
  },
  "papermill": {
   "default_parameters": {},
   "duration": 119.126616,
   "end_time": "2024-01-08T04:11:08.627686",
   "environment_variables": {},
   "exception": null,
   "input_path": "MPIA daily digest.ipynb",
   "output_path": "log.ipynb",
   "parameters": {},
   "start_time": "2024-01-08T04:09:09.501070",
   "version": "2.5.0"
  },
  "vscode": {
   "interpreter": {
    "hash": "aee8b7b246df8f9039afb4144a1f6fd8d2ca17a180786b69acc140d282b71a49"
   }
  },
  "widgets": {
   "application/vnd.jupyter.widget-state+json": {
    "state": {
     "0bc65b43f4a4480eb9c9bf378ad2eaf5": {
      "model_module": "@jupyter-widgets/base",
      "model_module_version": "2.0.0",
      "model_name": "LayoutModel",
      "state": {
       "_model_module": "@jupyter-widgets/base",
       "_model_module_version": "2.0.0",
       "_model_name": "LayoutModel",
       "_view_count": null,
       "_view_module": "@jupyter-widgets/base",
       "_view_module_version": "2.0.0",
       "_view_name": "LayoutView",
       "align_content": null,
       "align_items": null,
       "align_self": null,
       "border_bottom": null,
       "border_left": null,
       "border_right": null,
       "border_top": null,
       "bottom": null,
       "display": null,
       "flex": null,
       "flex_flow": null,
       "grid_area": null,
       "grid_auto_columns": null,
       "grid_auto_flow": null,
       "grid_auto_rows": null,
       "grid_column": null,
       "grid_gap": null,
       "grid_row": null,
       "grid_template_areas": null,
       "grid_template_columns": null,
       "grid_template_rows": null,
       "height": null,
       "justify_content": null,
       "justify_items": null,
       "left": null,
       "margin": null,
       "max_height": null,
       "max_width": null,
       "min_height": null,
       "min_width": null,
       "object_fit": null,
       "object_position": null,
       "order": null,
       "overflow": null,
       "padding": null,
       "right": null,
       "top": null,
       "visibility": null,
       "width": null
      }
     },
     "15fefc0d374c4594a8f05b4aecf77e19": {
      "model_module": "@jupyter-widgets/controls",
      "model_module_version": "2.0.0",
      "model_name": "ProgressStyleModel",
      "state": {
       "_model_module": "@jupyter-widgets/controls",
       "_model_module_version": "2.0.0",
       "_model_name": "ProgressStyleModel",
       "_view_count": null,
       "_view_module": "@jupyter-widgets/base",
       "_view_module_version": "2.0.0",
       "_view_name": "StyleView",
       "bar_color": null,
       "description_width": ""
      }
     },
     "1f6d0014141944af90321fc6de8d4264": {
      "model_module": "@jupyter-widgets/controls",
      "model_module_version": "2.0.0",
      "model_name": "HTMLStyleModel",
      "state": {
       "_model_module": "@jupyter-widgets/controls",
       "_model_module_version": "2.0.0",
       "_model_name": "HTMLStyleModel",
       "_view_count": null,
       "_view_module": "@jupyter-widgets/base",
       "_view_module_version": "2.0.0",
       "_view_name": "StyleView",
       "background": null,
       "description_width": "",
       "font_size": null,
       "text_color": null
      }
     },
     "55df2ece00d54be3b3538c4f861dc5bf": {
      "model_module": "@jupyter-widgets/controls",
      "model_module_version": "2.0.0",
      "model_name": "HBoxModel",
      "state": {
       "_dom_classes": [],
       "_model_module": "@jupyter-widgets/controls",
       "_model_module_version": "2.0.0",
       "_model_name": "HBoxModel",
       "_view_count": null,
       "_view_module": "@jupyter-widgets/controls",
       "_view_module_version": "2.0.0",
       "_view_name": "HBoxView",
       "box_style": "",
       "children": [
        "IPY_MODEL_7f79189e33464b99a2e3aedd11119d36",
        "IPY_MODEL_9ada716b9176410e87cd53edf6907da6",
        "IPY_MODEL_fc2e2784375245c4942f08d582e6c861"
       ],
       "layout": "IPY_MODEL_0bc65b43f4a4480eb9c9bf378ad2eaf5",
       "tabbable": null,
       "tooltip": null
      }
     },
     "7f79189e33464b99a2e3aedd11119d36": {
      "model_module": "@jupyter-widgets/controls",
      "model_module_version": "2.0.0",
      "model_name": "HTMLModel",
      "state": {
       "_dom_classes": [],
       "_model_module": "@jupyter-widgets/controls",
       "_model_module_version": "2.0.0",
       "_model_name": "HTMLModel",
       "_view_count": null,
       "_view_module": "@jupyter-widgets/controls",
       "_view_module_version": "2.0.0",
       "_view_name": "HTMLView",
       "description": "",
       "description_allow_html": false,
       "layout": "IPY_MODEL_abc1582e81ae4a57bb2d0b380ecc74c6",
       "placeholder": "​",
       "style": "IPY_MODEL_fdc750ac6f474e47a4056f7872f3a5c1",
       "tabbable": null,
       "tooltip": null,
       "value": "100%"
      }
     },
     "884355d076854a098dcc9d36c16ce669": {
      "model_module": "@jupyter-widgets/base",
      "model_module_version": "2.0.0",
      "model_name": "LayoutModel",
      "state": {
       "_model_module": "@jupyter-widgets/base",
       "_model_module_version": "2.0.0",
       "_model_name": "LayoutModel",
       "_view_count": null,
       "_view_module": "@jupyter-widgets/base",
       "_view_module_version": "2.0.0",
       "_view_name": "LayoutView",
       "align_content": null,
       "align_items": null,
       "align_self": null,
       "border_bottom": null,
       "border_left": null,
       "border_right": null,
       "border_top": null,
       "bottom": null,
       "display": null,
       "flex": null,
       "flex_flow": null,
       "grid_area": null,
       "grid_auto_columns": null,
       "grid_auto_flow": null,
       "grid_auto_rows": null,
       "grid_column": null,
       "grid_gap": null,
       "grid_row": null,
       "grid_template_areas": null,
       "grid_template_columns": null,
       "grid_template_rows": null,
       "height": null,
       "justify_content": null,
       "justify_items": null,
       "left": null,
       "margin": null,
       "max_height": null,
       "max_width": null,
       "min_height": null,
       "min_width": null,
       "object_fit": null,
       "object_position": null,
       "order": null,
       "overflow": null,
       "padding": null,
       "right": null,
       "top": null,
       "visibility": null,
       "width": null
      }
     },
     "9ada716b9176410e87cd53edf6907da6": {
      "model_module": "@jupyter-widgets/controls",
      "model_module_version": "2.0.0",
      "model_name": "FloatProgressModel",
      "state": {
       "_dom_classes": [],
       "_model_module": "@jupyter-widgets/controls",
       "_model_module_version": "2.0.0",
       "_model_name": "FloatProgressModel",
       "_view_count": null,
       "_view_module": "@jupyter-widgets/controls",
       "_view_module_version": "2.0.0",
       "_view_name": "ProgressView",
       "bar_style": "success",
       "description": "",
       "description_allow_html": false,
       "layout": "IPY_MODEL_884355d076854a098dcc9d36c16ce669",
       "max": 4.0,
       "min": 0.0,
       "orientation": "horizontal",
       "style": "IPY_MODEL_15fefc0d374c4594a8f05b4aecf77e19",
       "tabbable": null,
       "tooltip": null,
       "value": 4.0
      }
     },
     "abc1582e81ae4a57bb2d0b380ecc74c6": {
      "model_module": "@jupyter-widgets/base",
      "model_module_version": "2.0.0",
      "model_name": "LayoutModel",
      "state": {
       "_model_module": "@jupyter-widgets/base",
       "_model_module_version": "2.0.0",
       "_model_name": "LayoutModel",
       "_view_count": null,
       "_view_module": "@jupyter-widgets/base",
       "_view_module_version": "2.0.0",
       "_view_name": "LayoutView",
       "align_content": null,
       "align_items": null,
       "align_self": null,
       "border_bottom": null,
       "border_left": null,
       "border_right": null,
       "border_top": null,
       "bottom": null,
       "display": null,
       "flex": null,
       "flex_flow": null,
       "grid_area": null,
       "grid_auto_columns": null,
       "grid_auto_flow": null,
       "grid_auto_rows": null,
       "grid_column": null,
       "grid_gap": null,
       "grid_row": null,
       "grid_template_areas": null,
       "grid_template_columns": null,
       "grid_template_rows": null,
       "height": null,
       "justify_content": null,
       "justify_items": null,
       "left": null,
       "margin": null,
       "max_height": null,
       "max_width": null,
       "min_height": null,
       "min_width": null,
       "object_fit": null,
       "object_position": null,
       "order": null,
       "overflow": null,
       "padding": null,
       "right": null,
       "top": null,
       "visibility": null,
       "width": null
      }
     },
     "d8bd3d6aa8c44058b56f8eab6fb891d5": {
      "model_module": "@jupyter-widgets/base",
      "model_module_version": "2.0.0",
      "model_name": "LayoutModel",
      "state": {
       "_model_module": "@jupyter-widgets/base",
       "_model_module_version": "2.0.0",
       "_model_name": "LayoutModel",
       "_view_count": null,
       "_view_module": "@jupyter-widgets/base",
       "_view_module_version": "2.0.0",
       "_view_name": "LayoutView",
       "align_content": null,
       "align_items": null,
       "align_self": null,
       "border_bottom": null,
       "border_left": null,
       "border_right": null,
       "border_top": null,
       "bottom": null,
       "display": null,
       "flex": null,
       "flex_flow": null,
       "grid_area": null,
       "grid_auto_columns": null,
       "grid_auto_flow": null,
       "grid_auto_rows": null,
       "grid_column": null,
       "grid_gap": null,
       "grid_row": null,
       "grid_template_areas": null,
       "grid_template_columns": null,
       "grid_template_rows": null,
       "height": null,
       "justify_content": null,
       "justify_items": null,
       "left": null,
       "margin": null,
       "max_height": null,
       "max_width": null,
       "min_height": null,
       "min_width": null,
       "object_fit": null,
       "object_position": null,
       "order": null,
       "overflow": null,
       "padding": null,
       "right": null,
       "top": null,
       "visibility": null,
       "width": null
      }
     },
     "fc2e2784375245c4942f08d582e6c861": {
      "model_module": "@jupyter-widgets/controls",
      "model_module_version": "2.0.0",
      "model_name": "HTMLModel",
      "state": {
       "_dom_classes": [],
       "_model_module": "@jupyter-widgets/controls",
       "_model_module_version": "2.0.0",
       "_model_name": "HTMLModel",
       "_view_count": null,
       "_view_module": "@jupyter-widgets/controls",
       "_view_module_version": "2.0.0",
       "_view_name": "HTMLView",
       "description": "",
       "description_allow_html": false,
       "layout": "IPY_MODEL_d8bd3d6aa8c44058b56f8eab6fb891d5",
       "placeholder": "​",
       "style": "IPY_MODEL_1f6d0014141944af90321fc6de8d4264",
       "tabbable": null,
       "tooltip": null,
       "value": " 4/4 [01:34&lt;00:00, 16.74s/it]"
      }
     },
     "fdc750ac6f474e47a4056f7872f3a5c1": {
      "model_module": "@jupyter-widgets/controls",
      "model_module_version": "2.0.0",
      "model_name": "HTMLStyleModel",
      "state": {
       "_model_module": "@jupyter-widgets/controls",
       "_model_module_version": "2.0.0",
       "_model_name": "HTMLStyleModel",
       "_view_count": null,
       "_view_module": "@jupyter-widgets/base",
       "_view_module_version": "2.0.0",
       "_view_name": "StyleView",
       "background": null,
       "description_width": "",
       "font_size": null,
       "text_color": null
      }
     }
    },
    "version_major": 2,
    "version_minor": 0
   }
  }
 },
 "nbformat": 4,
 "nbformat_minor": 5
}