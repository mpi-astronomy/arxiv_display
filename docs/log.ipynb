{
 "cells": [
  {
   "cell_type": "markdown",
   "id": "92bcb855",
   "metadata": {
    "papermill": {
     "duration": 0.007312,
     "end_time": "2022-12-09T04:08:12.405383",
     "exception": false,
     "start_time": "2022-12-09T04:08:12.398071",
     "status": "completed"
    },
    "tags": []
   },
   "source": [
    "# MPIA Arxiv on Deck 2\n",
    "\n",
    "Contains the steps to produce the paper extractions."
   ]
  },
  {
   "cell_type": "code",
   "execution_count": 1,
   "id": "3a0d6e11",
   "metadata": {
    "execution": {
     "iopub.execute_input": "2022-12-09T04:08:12.421995Z",
     "iopub.status.busy": "2022-12-09T04:08:12.416771Z",
     "iopub.status.idle": "2022-12-09T04:08:12.676246Z",
     "shell.execute_reply": "2022-12-09T04:08:12.675265Z"
    },
    "papermill": {
     "duration": 0.268265,
     "end_time": "2022-12-09T04:08:12.678911",
     "exception": false,
     "start_time": "2022-12-09T04:08:12.410646",
     "status": "completed"
    },
    "tags": []
   },
   "outputs": [],
   "source": [
    "# Imports\n",
    "import os\n",
    "from IPython.display import Markdown, display\n",
    "from tqdm.notebook import tqdm\n",
    "import warnings\n",
    "from PIL import Image \n",
    "\n",
    "# requires arxiv_on_deck_2\n",
    "\n",
    "from arxiv_on_deck_2.arxiv2 import (get_new_papers, \n",
    "                                    get_paper_from_identifier,\n",
    "                                    retrieve_document_source, \n",
    "                                    get_markdown_badge)\n",
    "from arxiv_on_deck_2 import (latex, \n",
    "                             mpia,\n",
    "                             highlight_authors_in_list)\n",
    "\n",
    "# Sometimes images are really big\n",
    "Image.MAX_IMAGE_PIXELS = 1000000000 "
   ]
  },
  {
   "cell_type": "code",
   "execution_count": 2,
   "id": "22aa9d44",
   "metadata": {
    "execution": {
     "iopub.execute_input": "2022-12-09T04:08:12.692891Z",
     "iopub.status.busy": "2022-12-09T04:08:12.692349Z",
     "iopub.status.idle": "2022-12-09T04:08:12.700019Z",
     "shell.execute_reply": "2022-12-09T04:08:12.699205Z"
    },
    "papermill": {
     "duration": 0.018324,
     "end_time": "2022-12-09T04:08:12.702215",
     "exception": false,
     "start_time": "2022-12-09T04:08:12.683891",
     "status": "completed"
    },
    "tags": []
   },
   "outputs": [],
   "source": [
    "# Some useful definitions.\n",
    "\n",
    "class AffiliationWarning(UserWarning):\n",
    "    pass\n",
    "\n",
    "class AffiliationError(RuntimeError):\n",
    "    pass\n",
    "\n",
    "def validation(source: str):\n",
    "    \"\"\"Raises error paper during parsing of source file\n",
    "    \n",
    "    Allows checks before parsing TeX code.\n",
    "    \n",
    "    Raises AffiliationWarning\n",
    "    \"\"\"\n",
    "    check = mpia.affiliation_verifications(source, verbose=True)\n",
    "    if check is not True:\n",
    "        raise AffiliationError(\"mpia.affiliation_verifications: \" + check)\n",
    "\n",
    "        \n",
    "warnings.simplefilter('always', AffiliationWarning)"
   ]
  },
  {
   "cell_type": "code",
   "execution_count": 3,
   "id": "14622700",
   "metadata": {
    "execution": {
     "iopub.execute_input": "2022-12-09T04:08:12.713412Z",
     "iopub.status.busy": "2022-12-09T04:08:12.712780Z",
     "iopub.status.idle": "2022-12-09T04:08:12.717369Z",
     "shell.execute_reply": "2022-12-09T04:08:12.716670Z"
    },
    "papermill": {
     "duration": 0.011728,
     "end_time": "2022-12-09T04:08:12.719165",
     "exception": false,
     "start_time": "2022-12-09T04:08:12.707437",
     "status": "completed"
    },
    "tags": []
   },
   "outputs": [],
   "source": [
    "# additional CSS to consider. \n",
    "# TODO: Current into each exported file. \n",
    "#       This should be set once into the webpages directly.\n",
    "#       With only the class/id definitions in the .md files.\n",
    "\n",
    "debug_html = \"\"\"\n",
    "<style>\n",
    "#wrap{ overflow:auto; }\n",
    "#fig1{ background:yellow; width:100%; float:left; padding:5px;  }\n",
    "#fig2{ background:red; width:50%; float:left; clear:left; padding:5px;  }\n",
    "#fig3{ background:green; width:50%; float:left; padding:5px;   }\n",
    ".macros{ background:yellow; visibility:visible;}\n",
    "h1 {margin: 0 0 0 0;}\n",
    "mark {background-color:#fff3b6;}\n",
    "img {object-fit:contain; max-height:250px; display:inline-block; text-align: center;}\n",
    "</style>\n",
    "\"\"\" \n",
    "html = \"\"\"\n",
    "<style>\n",
    "#wrap{ overflow:auto; }\n",
    "#fig1{ width:100%; float:left; padding: 5px;  }\n",
    "#fig2{ width:50%; float:left; clear:left; padding: 5px;  }\n",
    "#fig3{ width:50%; float:left; padding: 5px;  }\n",
    ".macros{ visibility:hidden; height:0px; }\n",
    "h1 {margin: 0em 0 0 0;}\n",
    "mark {background-color:#fff3b6;}\n",
    "img {object-fit:contain; max-height:250px; display:inline-block; text-align: center;}\n",
    "</style>\n",
    "\"\"\""
   ]
  },
  {
   "cell_type": "markdown",
   "id": "14bd6310",
   "metadata": {
    "papermill": {
     "duration": 0.004642,
     "end_time": "2022-12-09T04:08:12.728355",
     "exception": false,
     "start_time": "2022-12-09T04:08:12.723713",
     "status": "completed"
    },
    "tags": []
   },
   "source": [
    "## get list of arxiv paper candidates\n",
    "\n",
    "We use the MPIA mitarbeiter list webpage from mpia.de to get author names\n",
    "We then get all new papers from Arxiv and match authors"
   ]
  },
  {
   "cell_type": "code",
   "execution_count": 4,
   "id": "2645e73a",
   "metadata": {
    "execution": {
     "iopub.execute_input": "2022-12-09T04:08:12.738891Z",
     "iopub.status.busy": "2022-12-09T04:08:12.738398Z",
     "iopub.status.idle": "2022-12-09T04:08:41.503648Z",
     "shell.execute_reply": "2022-12-09T04:08:41.501795Z"
    },
    "papermill": {
     "duration": 28.773507,
     "end_time": "2022-12-09T04:08:41.506307",
     "exception": false,
     "start_time": "2022-12-09T04:08:12.732800",
     "status": "completed"
    },
    "tags": []
   },
   "outputs": [
    {
     "name": "stdout",
     "output_type": "stream",
     "text": [
      "Arxiv has 66 new papers today\n",
      "          33 with possible author matches\n"
     ]
    }
   ],
   "source": [
    "# get list from MPIA website\n",
    "# it automatically filters identified non-scientists :func:`mpia.filter_non_scientists`\n",
    "mpia_authors = mpia.get_mpia_mitarbeiter_list()\n",
    "new_papers = get_new_papers()\n",
    "# add manual references\n",
    "add_paper_refs = []\n",
    "new_papers.extend([get_paper_from_identifier(k) for k in add_paper_refs])\n",
    "\n",
    "# select only papers with matching author names and highlight authors\n",
    "hl_list = [k[0] for k in mpia_authors]\n",
    "\n",
    "candidates = []\n",
    "for paperk in new_papers:\n",
    "    hl_authors = highlight_authors_in_list(paperk['authors'], hl_list)\n",
    "    matches = [(hl, orig) for hl, orig in zip(hl_authors, paperk['authors']) if 'mark' in hl]\n",
    "    paperk['authors'] = hl_authors\n",
    "    if matches:\n",
    "        candidates.append(paperk)\n",
    "print(\"\"\"Arxiv has {0:,d} new papers today\"\"\".format(len(new_papers)))        \n",
    "print(\"\"\"          {0:,d} with possible author matches\"\"\".format(len(candidates)))"
   ]
  },
  {
   "cell_type": "markdown",
   "id": "3543b34a",
   "metadata": {
    "papermill": {
     "duration": 0.005396,
     "end_time": "2022-12-09T04:08:41.516319",
     "exception": false,
     "start_time": "2022-12-09T04:08:41.510923",
     "status": "completed"
    },
    "tags": []
   },
   "source": [
    "# Parse sources and generate relevant outputs\n",
    "\n",
    "From the candidates, we do the following steps:\n",
    "* get their tarball from ArXiv (and extract data)\n",
    "* find the main .tex file: find one with \\documentclass{...} (sometimes it's non trivial)\n",
    "* Check affiliations with :func:`validation`, which uses :func:`mpia.affiliation_verifications`\n",
    "* If passing the affiliations: we parse the .tex source\n",
    "   * inject sub-documents into the main (flatten the main document)\n",
    "   * parse structure, extract information (title, abstract, authors, figures...)\n",
    "   * handles `\\graphicspath` if provided\n",
    "* Generate the .md document."
   ]
  },
  {
   "cell_type": "code",
   "execution_count": 5,
   "id": "9576b79e",
   "metadata": {
    "execution": {
     "iopub.execute_input": "2022-12-09T04:08:41.527800Z",
     "iopub.status.busy": "2022-12-09T04:08:41.527208Z",
     "iopub.status.idle": "2022-12-09T04:12:28.343537Z",
     "shell.execute_reply": "2022-12-09T04:12:28.342649Z"
    },
    "papermill": {
     "duration": 226.825751,
     "end_time": "2022-12-09T04:12:28.346704",
     "exception": false,
     "start_time": "2022-12-09T04:08:41.520953",
     "status": "completed"
    },
    "scrolled": false,
    "tags": []
   },
   "outputs": [
    {
     "data": {
      "application/vnd.jupyter.widget-view+json": {
       "model_id": "bcb8159ff02844dc95562ad6440eed78",
       "version_major": 2,
       "version_minor": 0
      },
      "text/plain": [
       "  0%|          | 0/32 [00:00<?, ?it/s]"
      ]
     },
     "metadata": {},
     "output_type": "display_data"
    },
    {
     "name": "stdout",
     "output_type": "stream",
     "text": [
      "Retrieving document from  https://arxiv.org/e-print/2212.03872\n"
     ]
    },
    {
     "name": "stdout",
     "output_type": "stream",
     "text": [
      "extracting tarball to tmp_2212.03872..."
     ]
    },
    {
     "name": "stdout",
     "output_type": "stream",
     "text": [
      " done.\n",
      "Retrieving document from  https://arxiv.org/e-print/2212.03875\n"
     ]
    },
    {
     "name": "stdout",
     "output_type": "stream",
     "text": [
      "extracting tarball to tmp_2212.03875..."
     ]
    },
    {
     "name": "stdout",
     "output_type": "stream",
     "text": [
      " done.\n",
      "Retrieving document from  https://arxiv.org/e-print/2212.03891\n"
     ]
    },
    {
     "name": "stdout",
     "output_type": "stream",
     "text": [
      "extracting tarball to tmp_2212.03891..."
     ]
    },
    {
     "name": "stdout",
     "output_type": "stream",
     "text": [
      " done.\n",
      "Retrieving document from  https://arxiv.org/e-print/2212.03907\n"
     ]
    },
    {
     "name": "stdout",
     "output_type": "stream",
     "text": [
      "extracting tarball to tmp_2212.03907..."
     ]
    },
    {
     "name": "stdout",
     "output_type": "stream",
     "text": [
      " done.\n",
      "Retrieving document from  https://arxiv.org/e-print/2212.03926\n"
     ]
    },
    {
     "name": "stdout",
     "output_type": "stream",
     "text": [
      "extracting tarball to tmp_2212.03926..."
     ]
    },
    {
     "name": "stdout",
     "output_type": "stream",
     "text": [
      " done.\n",
      "Retrieving document from  https://arxiv.org/e-print/2212.03934\n"
     ]
    },
    {
     "name": "stderr",
     "output_type": "stream",
     "text": [
      "/opt/hostedtoolcache/Python/3.9.15/x64/lib/python3.9/site-packages/IPython/core/interactiveshell.py:3433: LatexWarning: Multiple tex files.\n",
      "\n",
      "  exec(code_obj, self.user_global_ns, self.user_ns)\n",
      "/opt/hostedtoolcache/Python/3.9.15/x64/lib/python3.9/site-packages/IPython/core/interactiveshell.py:3433: LatexWarning: Found documentclass in tmp_2212.03926/main-arxiv.tex\n",
      "\n",
      "  exec(code_obj, self.user_global_ns, self.user_ns)\n",
      "/opt/hostedtoolcache/Python/3.9.15/x64/lib/python3.9/site-packages/arxiv_on_deck_2/latex.py:292: LatexWarning: Latex injecting: 'binary2' from 'tmp_2212.03926/binary2.tex'\n",
      "  warnings.warn(LatexWarning(f\"Latex injecting: '{ext}' from '{subsource}'\"))\n",
      "/opt/hostedtoolcache/Python/3.9.15/x64/lib/python3.9/site-packages/arxiv_on_deck_2/latex.py:292: LatexWarning: Latex injecting: 'J1018' from 'tmp_2212.03926/J1018.tex'\n",
      "  warnings.warn(LatexWarning(f\"Latex injecting: '{ext}' from '{subsource}'\"))\n",
      "/opt/hostedtoolcache/Python/3.9.15/x64/lib/python3.9/site-packages/arxiv_on_deck_2/latex.py:292: LatexWarning: Latex injecting: 'pms.tex' from 'tmp_2212.03926/pms.tex'\n",
      "  warnings.warn(LatexWarning(f\"Latex injecting: '{ext}' from '{subsource}'\"))\n",
      "/opt/hostedtoolcache/Python/3.9.15/x64/lib/python3.9/site-packages/arxiv_on_deck_2/latex.py:292: LatexWarning: Latex injecting: 'derived' from 'tmp_2212.03926/derived.tex'\n",
      "  warnings.warn(LatexWarning(f\"Latex injecting: '{ext}' from '{subsource}'\"))\n",
      "/opt/hostedtoolcache/Python/3.9.15/x64/lib/python3.9/site-packages/arxiv_on_deck_2/latex.py:292: LatexWarning: Latex injecting: 'pos_dm' from 'tmp_2212.03926/pos_dm.tex'\n",
      "  warnings.warn(LatexWarning(f\"Latex injecting: '{ext}' from '{subsource}'\"))\n",
      "/opt/hostedtoolcache/Python/3.9.15/x64/lib/python3.9/site-packages/arxiv_on_deck_2/latex.py:292: LatexWarning: Latex injecting: 'rot_timing' from 'tmp_2212.03926/rot_timing.tex'\n",
      "  warnings.warn(LatexWarning(f\"Latex injecting: '{ext}' from '{subsource}'\"))\n",
      "/opt/hostedtoolcache/Python/3.9.15/x64/lib/python3.9/site-packages/arxiv_on_deck_2/latex.py:292: LatexWarning: Latex injecting: 'flux2.tex' from 'tmp_2212.03926/flux2.tex'\n",
      "  warnings.warn(LatexWarning(f\"Latex injecting: '{ext}' from '{subsource}'\"))\n"
     ]
    },
    {
     "name": "stdout",
     "output_type": "stream",
     "text": [
      "extracting tarball to tmp_2212.03934..."
     ]
    },
    {
     "name": "stdout",
     "output_type": "stream",
     "text": [
      " done.\n",
      "Retrieving document from  https://arxiv.org/e-print/2212.03952\n"
     ]
    },
    {
     "name": "stdout",
     "output_type": "stream",
     "text": [
      "extracting tarball to tmp_2212.03952..."
     ]
    },
    {
     "name": "stdout",
     "output_type": "stream",
     "text": [
      " done.\n",
      "Retrieving document from  https://arxiv.org/e-print/2212.03953\n"
     ]
    },
    {
     "name": "stderr",
     "output_type": "stream",
     "text": [
      "/opt/hostedtoolcache/Python/3.9.15/x64/lib/python3.9/site-packages/IPython/core/interactiveshell.py:3433: LatexWarning: Multiple tex files.\n",
      "\n",
      "  exec(code_obj, self.user_global_ns, self.user_ns)\n",
      "/opt/hostedtoolcache/Python/3.9.15/x64/lib/python3.9/site-packages/IPython/core/interactiveshell.py:3433: LatexWarning: Found documentclass in tmp_2212.03952/main.tex\n",
      "\n",
      "  exec(code_obj, self.user_global_ns, self.user_ns)\n"
     ]
    },
    {
     "name": "stdout",
     "output_type": "stream",
     "text": [
      "extracting tarball to tmp_2212.03953..."
     ]
    },
    {
     "name": "stdout",
     "output_type": "stream",
     "text": [
      " done.\n",
      "Retrieving document from  https://arxiv.org/e-print/2212.03972\n"
     ]
    },
    {
     "name": "stderr",
     "output_type": "stream",
     "text": [
      "/opt/hostedtoolcache/Python/3.9.15/x64/lib/python3.9/site-packages/IPython/core/interactiveshell.py:3433: LatexWarning: Multiple tex files.\n",
      "\n",
      "  exec(code_obj, self.user_global_ns, self.user_ns)\n",
      "/opt/hostedtoolcache/Python/3.9.15/x64/lib/python3.9/site-packages/IPython/core/interactiveshell.py:3433: LatexWarning: Found documentclass in tmp_2212.03953/main.tex\n",
      "\n",
      "  exec(code_obj, self.user_global_ns, self.user_ns)\n",
      "/opt/hostedtoolcache/Python/3.9.15/x64/lib/python3.9/site-packages/arxiv_on_deck_2/latex.py:292: LatexWarning: Latex injecting: 'rv_table_stub.tex' from 'tmp_2212.03953/rv_table_stub.tex'\n",
      "  warnings.warn(LatexWarning(f\"Latex injecting: '{ext}' from '{subsource}'\"))\n",
      "/opt/hostedtoolcache/Python/3.9.15/x64/lib/python3.9/site-packages/arxiv_on_deck_2/latex.py:292: LatexWarning: Latex injecting: 'authors' from 'tmp_2212.03953/authors.tex'\n",
      "  warnings.warn(LatexWarning(f\"Latex injecting: '{ext}' from '{subsource}'\"))\n"
     ]
    },
    {
     "name": "stdout",
     "output_type": "stream",
     "text": [
      "extracting tarball to tmp_2212.03972..."
     ]
    },
    {
     "name": "stdout",
     "output_type": "stream",
     "text": [
      " done.\n",
      "Retrieving document from  https://arxiv.org/e-print/2212.03981\n"
     ]
    },
    {
     "name": "stdout",
     "output_type": "stream",
     "text": [
      "extracting tarball to tmp_2212.03981..."
     ]
    },
    {
     "name": "stdout",
     "output_type": "stream",
     "text": [
      " done.\n",
      "Retrieving document from  https://arxiv.org/e-print/2212.03988\n"
     ]
    },
    {
     "name": "stderr",
     "output_type": "stream",
     "text": [
      "/opt/hostedtoolcache/Python/3.9.15/x64/lib/python3.9/site-packages/IPython/core/interactiveshell.py:3433: LatexWarning: Multiple tex files.\n",
      "\n",
      "  exec(code_obj, self.user_global_ns, self.user_ns)\n",
      "/opt/hostedtoolcache/Python/3.9.15/x64/lib/python3.9/site-packages/IPython/core/interactiveshell.py:3433: LatexWarning: Found documentclass in tmp_2212.03981/SJin_WEAVE_Survey.tex\n",
      "\n",
      "  exec(code_obj, self.user_global_ns, self.user_ns)\n",
      "/opt/hostedtoolcache/Python/3.9.15/x64/lib/python3.9/site-packages/arxiv_on_deck_2/latex.py:292: LatexWarning: Latex injecting: 'SJin_WEAVE_Survey_appendices' from 'tmp_2212.03981/SJin_WEAVE_Survey_appendices.tex'\n",
      "  warnings.warn(LatexWarning(f\"Latex injecting: '{ext}' from '{subsource}'\"))\n",
      "/opt/hostedtoolcache/Python/3.9.15/x64/lib/python3.9/site-packages/arxiv_on_deck_2/latex.py:292: LatexWarning: Latex injecting: 'SJin_WEAVE_Survey_acknowledgements' from 'tmp_2212.03981/SJin_WEAVE_Survey_acknowledgements.tex'\n",
      "  warnings.warn(LatexWarning(f\"Latex injecting: '{ext}' from '{subsource}'\"))\n",
      "/opt/hostedtoolcache/Python/3.9.15/x64/lib/python3.9/site-packages/arxiv_on_deck_2/latex.py:292: LatexWarning: Latex injecting: 'SJin_WEAVE_Survey_authors' from 'tmp_2212.03981/SJin_WEAVE_Survey_authors.tex'\n",
      "  warnings.warn(LatexWarning(f\"Latex injecting: '{ext}' from '{subsource}'\"))\n"
     ]
    },
    {
     "name": "stdout",
     "output_type": "stream",
     "text": [
      "extracting tarball to tmp_2212.03988..."
     ]
    },
    {
     "name": "stdout",
     "output_type": "stream",
     "text": [
      " done.\n",
      "Retrieving document from  https://arxiv.org/e-print/2212.04013\n"
     ]
    },
    {
     "name": "stderr",
     "output_type": "stream",
     "text": [
      "/opt/hostedtoolcache/Python/3.9.15/x64/lib/python3.9/site-packages/IPython/core/interactiveshell.py:3433: LatexWarning: Multiple tex files.\n",
      "\n",
      "  exec(code_obj, self.user_global_ns, self.user_ns)\n",
      "/opt/hostedtoolcache/Python/3.9.15/x64/lib/python3.9/site-packages/IPython/core/interactiveshell.py:3433: LatexWarning: Found documentclass in tmp_2212.03988/rvm.tex\n",
      "\n",
      "  exec(code_obj, self.user_global_ns, self.user_ns)\n",
      "/opt/hostedtoolcache/Python/3.9.15/x64/lib/python3.9/site-packages/arxiv_on_deck_2/latex.py:292: LatexWarning: Latex injecting: 'apptab.tex' from 'tmp_2212.03988/apptab.tex'\n",
      "  warnings.warn(LatexWarning(f\"Latex injecting: '{ext}' from '{subsource}'\"))\n"
     ]
    },
    {
     "name": "stdout",
     "output_type": "stream",
     "text": [
      "extracting tarball to tmp_2212.04013..."
     ]
    },
    {
     "name": "stdout",
     "output_type": "stream",
     "text": [
      " done.\n",
      "Retrieving document from  https://arxiv.org/e-print/2212.04026\n"
     ]
    },
    {
     "name": "stdout",
     "output_type": "stream",
     "text": [
      "extracting tarball to tmp_2212.04026..."
     ]
    },
    {
     "name": "stdout",
     "output_type": "stream",
     "text": [
      " done.\n"
     ]
    },
    {
     "name": "stdout",
     "output_type": "stream",
     "text": [
      "Retrieving document from  https://arxiv.org/e-print/2212.04027\n"
     ]
    },
    {
     "name": "stdout",
     "output_type": "stream",
     "text": [
      "extracting tarball to tmp_2212.04027..."
     ]
    },
    {
     "name": "stdout",
     "output_type": "stream",
     "text": [
      " done.\n",
      "Retrieving document from  https://arxiv.org/e-print/2212.04036\n"
     ]
    },
    {
     "name": "stdout",
     "output_type": "stream",
     "text": [
      "extracting tarball to tmp_2212.04036..."
     ]
    },
    {
     "name": "stdout",
     "output_type": "stream",
     "text": [
      " done.\n",
      "Retrieving document from  https://arxiv.org/e-print/2212.04040\n"
     ]
    },
    {
     "name": "stdout",
     "output_type": "stream",
     "text": [
      "extracting tarball to tmp_2212.04040... done.\n",
      "Retrieving document from  https://arxiv.org/e-print/2212.04044\n"
     ]
    },
    {
     "name": "stdout",
     "output_type": "stream",
     "text": [
      "extracting tarball to tmp_2212.04044..."
     ]
    },
    {
     "name": "stdout",
     "output_type": "stream",
     "text": [
      " done.\n",
      "Retrieving document from  https://arxiv.org/e-print/2212.04051\n"
     ]
    },
    {
     "name": "stdout",
     "output_type": "stream",
     "text": [
      "extracting tarball to tmp_2212.04051..."
     ]
    },
    {
     "name": "stdout",
     "output_type": "stream",
     "text": [
      " done.\n",
      "Retrieving document from  https://arxiv.org/e-print/2212.04139\n"
     ]
    },
    {
     "name": "stdout",
     "output_type": "stream",
     "text": [
      "extracting tarball to tmp_2212.04139..."
     ]
    },
    {
     "name": "stdout",
     "output_type": "stream",
     "text": [
      " done.\n",
      "Retrieving document from  https://arxiv.org/e-print/2212.04151\n"
     ]
    },
    {
     "name": "stdout",
     "output_type": "stream",
     "text": [
      "extracting tarball to tmp_2212.04151..."
     ]
    },
    {
     "name": "stdout",
     "output_type": "stream",
     "text": [
      " done.\n"
     ]
    },
    {
     "name": "stderr",
     "output_type": "stream",
     "text": [
      "/opt/hostedtoolcache/Python/3.9.15/x64/lib/python3.9/site-packages/IPython/core/interactiveshell.py:3433: LatexWarning: Multiple tex files.\n",
      "\n",
      "  exec(code_obj, self.user_global_ns, self.user_ns)\n",
      "/opt/hostedtoolcache/Python/3.9.15/x64/lib/python3.9/site-packages/IPython/core/interactiveshell.py:3433: LatexWarning: Found documentclass in tmp_2212.04151/main.tex\n",
      "\n",
      "  exec(code_obj, self.user_global_ns, self.user_ns)\n",
      "/opt/hostedtoolcache/Python/3.9.15/x64/lib/python3.9/site-packages/arxiv_on_deck_2/latex.py:292: LatexWarning: Latex injecting: 'data_tables.tex' from 'tmp_2212.04151/data_tables.tex'\n",
      "  warnings.warn(LatexWarning(f\"Latex injecting: '{ext}' from '{subsource}'\"))\n",
      "/opt/hostedtoolcache/Python/3.9.15/x64/lib/python3.9/site-packages/arxiv_on_deck_2/latex.py:292: LatexWarning: Latex injecting: 'uncertainties.tex' from 'tmp_2212.04151/uncertainties.tex'\n",
      "  warnings.warn(LatexWarning(f\"Latex injecting: '{ext}' from '{subsource}'\"))\n",
      "/opt/hostedtoolcache/Python/3.9.15/x64/lib/python3.9/site-packages/arxiv_on_deck_2/latex.py:292: LatexWarning: Latex injecting: 'conclusions.tex' from 'tmp_2212.04151/conclusions.tex'\n",
      "  warnings.warn(LatexWarning(f\"Latex injecting: '{ext}' from '{subsource}'\"))\n",
      "/opt/hostedtoolcache/Python/3.9.15/x64/lib/python3.9/site-packages/arxiv_on_deck_2/latex.py:292: LatexWarning: Latex injecting: 'discussion.tex' from 'tmp_2212.04151/discussion.tex'\n",
      "  warnings.warn(LatexWarning(f\"Latex injecting: '{ext}' from '{subsource}'\"))\n",
      "/opt/hostedtoolcache/Python/3.9.15/x64/lib/python3.9/site-packages/arxiv_on_deck_2/latex.py:292: LatexWarning: Latex injecting: 'results.tex' from 'tmp_2212.04151/results.tex'\n",
      "  warnings.warn(LatexWarning(f\"Latex injecting: '{ext}' from '{subsource}'\"))\n",
      "/opt/hostedtoolcache/Python/3.9.15/x64/lib/python3.9/site-packages/arxiv_on_deck_2/latex.py:292: LatexWarning: Latex injecting: 'analysis.tex' from 'tmp_2212.04151/analysis.tex'\n",
      "  warnings.warn(LatexWarning(f\"Latex injecting: '{ext}' from '{subsource}'\"))\n",
      "/opt/hostedtoolcache/Python/3.9.15/x64/lib/python3.9/site-packages/arxiv_on_deck_2/latex.py:292: LatexWarning: Latex injecting: 'identification.tex' from 'tmp_2212.04151/identification.tex'\n",
      "  warnings.warn(LatexWarning(f\"Latex injecting: '{ext}' from '{subsource}'\"))\n",
      "/opt/hostedtoolcache/Python/3.9.15/x64/lib/python3.9/site-packages/arxiv_on_deck_2/latex.py:292: LatexWarning: Latex injecting: 'introduction.tex' from 'tmp_2212.04151/introduction.tex'\n",
      "  warnings.warn(LatexWarning(f\"Latex injecting: '{ext}' from '{subsource}'\"))\n"
     ]
    },
    {
     "name": "stderr",
     "output_type": "stream",
     "text": [
      "/opt/hostedtoolcache/Python/3.9.15/x64/lib/python3.9/site-packages/arxiv_on_deck_2/latex.py:118: LatexWarning: attempting recovering figure density_mass.pdf\n",
      "  warnings.warn(LatexWarning(f'attempting recovering figure {image}'))\n",
      "/tmp/ipykernel_2037/4030337529.py:34: LatexWarning: 2212.04151 did not run properly\n",
      "Could not find figure density_mass.pdf\n",
      "  warnings.warn(latex.LatexWarning(f\"{paper_id:s} did not run properly\\n\" +\n"
     ]
    },
    {
     "name": "stdout",
     "output_type": "stream",
     "text": [
      "Retrieving document from  https://arxiv.org/e-print/2212.04179\n"
     ]
    },
    {
     "name": "stdout",
     "output_type": "stream",
     "text": [
      "extracting tarball to tmp_2212.04179..."
     ]
    },
    {
     "name": "stdout",
     "output_type": "stream",
     "text": [
      " done.\n",
      "Retrieving document from  https://arxiv.org/e-print/2212.04181\n"
     ]
    },
    {
     "name": "stderr",
     "output_type": "stream",
     "text": [
      "/opt/hostedtoolcache/Python/3.9.15/x64/lib/python3.9/site-packages/IPython/core/interactiveshell.py:3433: LatexWarning: Multiple tex files.\n",
      "\n",
      "  exec(code_obj, self.user_global_ns, self.user_ns)\n",
      "/opt/hostedtoolcache/Python/3.9.15/x64/lib/python3.9/site-packages/IPython/core/interactiveshell.py:3433: LatexWarning: Found documentclass in tmp_2212.04179/natbib.tex\n",
      "\n",
      "  exec(code_obj, self.user_global_ns, self.user_ns)\n"
     ]
    },
    {
     "name": "stdout",
     "output_type": "stream",
     "text": [
      "extracting tarball to tmp_2212.04181..."
     ]
    },
    {
     "name": "stdout",
     "output_type": "stream",
     "text": [
      " done.\n",
      "Retrieving document from  https://arxiv.org/e-print/2212.04236\n"
     ]
    },
    {
     "name": "stdout",
     "output_type": "stream",
     "text": [
      "extracting tarball to tmp_2212.04236..."
     ]
    },
    {
     "name": "stdout",
     "output_type": "stream",
     "text": [
      " done.\n",
      "Retrieving document from  https://arxiv.org/e-print/2212.04294\n"
     ]
    },
    {
     "name": "stderr",
     "output_type": "stream",
     "text": [
      "/opt/hostedtoolcache/Python/3.9.15/x64/lib/python3.9/site-packages/IPython/core/interactiveshell.py:3433: LatexWarning: Multiple tex files.\n",
      "\n",
      "  exec(code_obj, self.user_global_ns, self.user_ns)\n",
      "/opt/hostedtoolcache/Python/3.9.15/x64/lib/python3.9/site-packages/IPython/core/interactiveshell.py:3433: LatexWarning: Found documentclass in tmp_2212.04236/main.tex\n",
      "\n",
      "  exec(code_obj, self.user_global_ns, self.user_ns)\n",
      "/opt/hostedtoolcache/Python/3.9.15/x64/lib/python3.9/site-packages/arxiv_on_deck_2/latex.py:292: LatexWarning: Latex injecting: 'newcommands.tex' from 'tmp_2212.04236/newcommands.tex'\n",
      "  warnings.warn(LatexWarning(f\"Latex injecting: '{ext}' from '{subsource}'\"))\n",
      "/opt/hostedtoolcache/Python/3.9.15/x64/lib/python3.9/site-packages/arxiv_on_deck_2/latex.py:292: LatexWarning: Latex injecting: 'newcommands.tex' from 'tmp_2212.04236/Planetesimal Accretion in Massive Planetesimal Disk/newcommands.tex'\n",
      "  warnings.warn(LatexWarning(f\"Latex injecting: '{ext}' from '{subsource}'\"))\n"
     ]
    },
    {
     "name": "stdout",
     "output_type": "stream",
     "text": [
      "extracting tarball to tmp_2212.04294..."
     ]
    },
    {
     "name": "stdout",
     "output_type": "stream",
     "text": [
      " done.\n",
      "Retrieving document from  https://arxiv.org/e-print/2212.04306\n"
     ]
    },
    {
     "name": "stderr",
     "output_type": "stream",
     "text": [
      "/opt/hostedtoolcache/Python/3.9.15/x64/lib/python3.9/site-packages/IPython/core/interactiveshell.py:3433: LatexWarning: Multiple tex files.\n",
      "\n",
      "  exec(code_obj, self.user_global_ns, self.user_ns)\n",
      "/opt/hostedtoolcache/Python/3.9.15/x64/lib/python3.9/site-packages/IPython/core/interactiveshell.py:3433: LatexWarning: Found documentclass in tmp_2212.04294/sample631.tex\n",
      "\n",
      "  exec(code_obj, self.user_global_ns, self.user_ns)\n"
     ]
    },
    {
     "name": "stdout",
     "output_type": "stream",
     "text": [
      "extracting tarball to tmp_2212.04306..."
     ]
    },
    {
     "name": "stdout",
     "output_type": "stream",
     "text": [
      " done.\n",
      "Retrieving document from  https://arxiv.org/e-print/2212.04307\n"
     ]
    },
    {
     "name": "stdout",
     "output_type": "stream",
     "text": [
      "extracting tarball to tmp_2212.04307..."
     ]
    },
    {
     "name": "stdout",
     "output_type": "stream",
     "text": [
      " done.\n",
      "Retrieving document from  https://arxiv.org/e-print/2212.04390\n"
     ]
    },
    {
     "name": "stdout",
     "output_type": "stream",
     "text": [
      "extracting tarball to tmp_2212.04390..."
     ]
    },
    {
     "name": "stdout",
     "output_type": "stream",
     "text": [
      " done.\n",
      "Retrieving document from  https://arxiv.org/e-print/2212.04411\n"
     ]
    },
    {
     "name": "stdout",
     "output_type": "stream",
     "text": [
      "extracting tarball to tmp_2212.04411..."
     ]
    },
    {
     "name": "stdout",
     "output_type": "stream",
     "text": [
      " done.\n",
      "Retrieving document from  https://arxiv.org/e-print/2212.04452\n"
     ]
    },
    {
     "name": "stderr",
     "output_type": "stream",
     "text": [
      "/opt/hostedtoolcache/Python/3.9.15/x64/lib/python3.9/site-packages/IPython/core/interactiveshell.py:3433: LatexWarning: Multiple tex files.\n",
      "\n",
      "  exec(code_obj, self.user_global_ns, self.user_ns)\n",
      "/opt/hostedtoolcache/Python/3.9.15/x64/lib/python3.9/site-packages/IPython/core/interactiveshell.py:3433: LatexWarning: Found documentclass in tmp_2212.04411/main.tex\n",
      "\n",
      "  exec(code_obj, self.user_global_ns, self.user_ns)\n"
     ]
    },
    {
     "name": "stdout",
     "output_type": "stream",
     "text": [
      "extracting tarball to tmp_2212.04452..."
     ]
    },
    {
     "name": "stdout",
     "output_type": "stream",
     "text": [
      " done.\n"
     ]
    },
    {
     "name": "stderr",
     "output_type": "stream",
     "text": [
      "/opt/hostedtoolcache/Python/3.9.15/x64/lib/python3.9/site-packages/IPython/core/interactiveshell.py:3433: LatexWarning: Multiple tex files.\n",
      "\n",
      "  exec(code_obj, self.user_global_ns, self.user_ns)\n",
      "/opt/hostedtoolcache/Python/3.9.15/x64/lib/python3.9/site-packages/IPython/core/interactiveshell.py:3433: LatexWarning: Found documentclass in tmp_2212.04452/paper.tex\n",
      "\n",
      "  exec(code_obj, self.user_global_ns, self.user_ns)\n",
      "/opt/hostedtoolcache/Python/3.9.15/x64/lib/python3.9/site-packages/arxiv_on_deck_2/latex.py:292: LatexWarning: Latex injecting: 'tab4' from 'tmp_2212.04452/tab4.tex'\n",
      "  warnings.warn(LatexWarning(f\"Latex injecting: '{ext}' from '{subsource}'\"))\n",
      "/opt/hostedtoolcache/Python/3.9.15/x64/lib/python3.9/site-packages/arxiv_on_deck_2/latex.py:292: LatexWarning: Latex injecting: 'tab3' from 'tmp_2212.04452/tab3.tex'\n",
      "  warnings.warn(LatexWarning(f\"Latex injecting: '{ext}' from '{subsource}'\"))\n",
      "/opt/hostedtoolcache/Python/3.9.15/x64/lib/python3.9/site-packages/arxiv_on_deck_2/latex.py:292: LatexWarning: Latex injecting: 'tab2' from 'tmp_2212.04452/tab2.tex'\n",
      "  warnings.warn(LatexWarning(f\"Latex injecting: '{ext}' from '{subsource}'\"))\n",
      "/opt/hostedtoolcache/Python/3.9.15/x64/lib/python3.9/site-packages/arxiv_on_deck_2/latex.py:292: LatexWarning: Latex injecting: 'tab1_arxiv' from 'tmp_2212.04452/tab1_arxiv.tex'\n",
      "  warnings.warn(LatexWarning(f\"Latex injecting: '{ext}' from '{subsource}'\"))\n"
     ]
    },
    {
     "name": "stderr",
     "output_type": "stream",
     "text": [
      "/tmp/ipykernel_2037/4030337529.py:34: LatexWarning: 2212.04452 did not run properly\n",
      "sequence item 0: expected str instance, TexNode found\n",
      "  warnings.warn(latex.LatexWarning(f\"{paper_id:s} did not run properly\\n\" +\n"
     ]
    },
    {
     "name": "stdout",
     "output_type": "stream",
     "text": [
      "Retrieving document from  https://arxiv.org/e-print/2212.04455\n"
     ]
    },
    {
     "name": "stdout",
     "output_type": "stream",
     "text": [
      "extracting tarball to tmp_2212.04455..."
     ]
    },
    {
     "name": "stdout",
     "output_type": "stream",
     "text": [
      " done.\n",
      "Retrieving document from  https://arxiv.org/e-print/2212.04480\n"
     ]
    },
    {
     "name": "stderr",
     "output_type": "stream",
     "text": [
      "/tmp/ipykernel_2037/4030337529.py:34: LatexWarning: 2212.04480 did not run properly\n",
      "not a gzip file\n",
      "  warnings.warn(latex.LatexWarning(f\"{paper_id:s} did not run properly\\n\" +\n"
     ]
    },
    {
     "name": "stdout",
     "output_type": "stream",
     "text": [
      "Retrieving document from  https://arxiv.org/e-print/2212.04485\n"
     ]
    },
    {
     "name": "stdout",
     "output_type": "stream",
     "text": [
      "extracting tarball to tmp_2212.04485..."
     ]
    },
    {
     "name": "stdout",
     "output_type": "stream",
     "text": [
      " done.\n"
     ]
    },
    {
     "name": "stderr",
     "output_type": "stream",
     "text": [
      "/opt/hostedtoolcache/Python/3.9.15/x64/lib/python3.9/site-packages/IPython/core/interactiveshell.py:3433: LatexWarning: Multiple tex files.\n",
      "\n",
      "  exec(code_obj, self.user_global_ns, self.user_ns)\n",
      "/opt/hostedtoolcache/Python/3.9.15/x64/lib/python3.9/site-packages/IPython/core/interactiveshell.py:3433: LatexWarning: Found documentclass in tmp_2212.04485/main.tex\n",
      "\n",
      "  exec(code_obj, self.user_global_ns, self.user_ns)\n",
      "/opt/hostedtoolcache/Python/3.9.15/x64/lib/python3.9/site-packages/arxiv_on_deck_2/latex.py:292: LatexWarning: Latex injecting: 'myDefs.tex' from 'tmp_2212.04485/myDefs.tex'\n",
      "  warnings.warn(LatexWarning(f\"Latex injecting: '{ext}' from '{subsource}'\"))\n"
     ]
    }
   ],
   "source": [
    "documents = []\n",
    "failed = []\n",
    "for paper in tqdm(candidates[:-1]):\n",
    "    paper_id = paper['identifier'].lower().replace('arxiv:', '')\n",
    "    \n",
    "    folder = f'tmp_{paper_id}'\n",
    "\n",
    "    try:\n",
    "        if not os.path.isdir(folder):\n",
    "            folder = retrieve_document_source(f\"{paper_id}\", f'tmp_{paper_id}')\n",
    "        \n",
    "        try:\n",
    "            doc = latex.LatexDocument(folder, validation=validation)    \n",
    "        except AffiliationError as affilerror:\n",
    "            msg = f\"ArXiv:{paper_id:s} is not an MPIA paper... \" + str(affilerror)\n",
    "            failed.append((paper, \"affiliation error: \" + str(affilerror) ))\n",
    "            continue\n",
    "        \n",
    "        # Hack because sometimes author parsing does not work well\n",
    "        if (len(doc.authors) != len(paper['authors'])):\n",
    "            doc._authors = paper['authors']\n",
    "        if (doc.abstract) in (None, ''):\n",
    "            doc._abstract = paper['abstract']\n",
    "            \n",
    "        doc.comment = (get_markdown_badge(paper_id) + \n",
    "                       \"<mark>Appeared on: \" + paper['date'] + \"</mark> - \" +\n",
    "                       \"_\" + paper['comments'] + \"_\")\n",
    "        doc.highlight_authors_in_list(hl_list)\n",
    "\n",
    "        full_md = doc.generate_markdown_text()\n",
    "        \n",
    "        documents.append((paper_id, full_md))\n",
    "    except Exception as e:\n",
    "        warnings.warn(latex.LatexWarning(f\"{paper_id:s} did not run properly\\n\" +\n",
    "                                         str(e)\n",
    "                                        ))\n",
    "        failed.append((paper, \"latex error \" + str(e)))"
   ]
  },
  {
   "cell_type": "markdown",
   "id": "2505a25c",
   "metadata": {
    "papermill": {
     "duration": 0.009904,
     "end_time": "2022-12-09T04:12:28.367599",
     "exception": false,
     "start_time": "2022-12-09T04:12:28.357695",
     "status": "completed"
    },
    "tags": []
   },
   "source": [
    "### Export the logs\n",
    "\n",
    "Throughout, we also keep track of the logs per paper. see `logs-{today date}.md` "
   ]
  },
  {
   "cell_type": "code",
   "execution_count": 6,
   "id": "d733828a",
   "metadata": {
    "execution": {
     "iopub.execute_input": "2022-12-09T04:12:28.388262Z",
     "iopub.status.busy": "2022-12-09T04:12:28.387468Z",
     "iopub.status.idle": "2022-12-09T04:12:28.455529Z",
     "shell.execute_reply": "2022-12-09T04:12:28.454687Z"
    },
    "papermill": {
     "duration": 0.082003,
     "end_time": "2022-12-09T04:12:28.458710",
     "exception": false,
     "start_time": "2022-12-09T04:12:28.376707",
     "status": "completed"
    },
    "scrolled": false,
    "tags": []
   },
   "outputs": [
    {
     "data": {
      "text/markdown": [
       "## Successful papers"
      ],
      "text/plain": [
       "<IPython.core.display.Markdown object>"
      ]
     },
     "metadata": {},
     "output_type": "display_data"
    },
    {
     "data": {
      "text/markdown": [
       "\n",
       "|||\n",
       "|---:|:---|\n",
       "| [![arXiv](https://img.shields.io/badge/arXiv-arXiv:2212.04026-b31b1b.svg)](https://arxiv.org/abs/arXiv:2212.04026) | **The JWST UNCOVER Treasury survey: Ultradeep NIRSpec and NIRCam  ObserVations before the Epoch of Reionization**  |\n",
       "|| Rachel Bezanson, et al. -- incl., <mark>Natascha Forster Schreiber</mark>, <mark>Anna de Graaff</mark>, <mark>Jenny E. Greene</mark> |\n",
       "|*Appeared on*| *2022-12-09*|\n",
       "|*Comments*| *17 pages, 8 figures, 4 tables, submitted to ApJ, comments welcome*|\n",
       "|**Abstract**| In this paper we describe the survey design for the Ultradeep NIRSpec and NIRCam ObserVations before the Epoch of Reionization (UNCOVER) Cycle 1 JWST Treasury program, which executed its early imaging component in November 2022. The UNCOVER survey includes ultradeep ($\\sim29-30\\mathrm{AB}$) imaging of $\\sim$45 arcmin$^2$ on and around the well-studied Abell 2744 galaxy cluster at $z=0.308$ and will follow-up ${\\sim}500$ galaxies with extremely deep low-resolution spectroscopy with the NIRSpec/PRISM during the summer of 2023. We describe the science goals, survey design, target selection, and planned data releases. We also present and characterize the depths of the first NIRCam imaging mosaic, highlighting previously unparalleled resolved and ultradeep 2-4 micron imaging of known objects in the field. The UNCOVER primary NIRCam mosaic spans 28.8 arcmin$^2$ in seven filters (F115W, F150W, F200W, F277W, F356W, F410M, F444W) and 16.8 arcmin$^2$ in our NIRISS parallel (F115W, F150W, F200W, F356W, and F444W). To maximize early community use of the Treasury data set, we publicly release full reduced mosaics of public JWST imaging including 45 arcmin$^2$ NIRCam and 17 arcmin$^2$ NIRISS mosaics on and around the Abell 2744 cluster, including the Hubble Frontier Field primary and parallel footprints. |"
      ],
      "text/plain": [
       "[arXiv:2212.04026] The JWST UNCOVER Treasury survey: Ultradeep NIRSpec and NIRCam  ObserVations before the Epoch of Reionization\n",
       "\tRachel Bezanson, et al. -- incl., <mark>Natascha Forster Schreiber</mark>, <mark>Anna de Graaff</mark>, <mark>Jenny E. Greene</mark>"
      ]
     },
     "metadata": {},
     "output_type": "display_data"
    },
    {
     "data": {
      "text/markdown": [
       "## Failed papers"
      ],
      "text/plain": [
       "<IPython.core.display.Markdown object>"
      ]
     },
     "metadata": {},
     "output_type": "display_data"
    },
    {
     "data": {
      "text/markdown": [
       "\n",
       "|||\n",
       "|---:|:---|\n",
       "| [![arXiv](https://img.shields.io/badge/arXiv-arXiv:2212.03981-b31b1b.svg)](https://arxiv.org/abs/arXiv:2212.03981) | **The wide-field, multiplexed, spectroscopic facility WEAVE: Survey  design, overview, and simulated implementation**  |\n",
       "|| Shoko Jin, et al. -- incl., <mark>D. J. B. Smith</mark>, <mark>Lilian Domínguez-Palmero</mark>, <mark>Kelley M. Hess</mark>, <mark>Jim Lewis</mark> |\n",
       "|*Appeared on*| *2022-12-09*|\n",
       "|*Comments*| *41 pages, 27 figures, accepted for publication by MNRAS*|\n",
       "|**Abstract**| WEAVE, the new wide-field, massively multiplexed spectroscopic survey facility for the William Herschel Telescope, will see first light in late 2022. WEAVE comprises a new 2-degree field-of-view prime-focus corrector system, a nearly 1000-multiplex fibre positioner, 20 individually deployable 'mini' integral field units (IFUs), and a single large IFU. These fibre systems feed a dual-beam spectrograph covering the wavelength range 366$-$959\\,nm at $R\\sim5000$, or two shorter ranges at $R\\sim20\\,000$. After summarising the design and implementation of WEAVE and its data systems, we present the organisation, science drivers and design of a five- to seven-year programme of eight individual surveys to: (i) study our Galaxy's origins by completing Gaia's phase-space information, providing metallicities to its limiting magnitude for $\\sim$3 million stars and detailed abundances for $\\sim1.5$ million brighter field and open-cluster stars; (ii) survey $\\sim0.4$ million Galactic-plane OBA stars, young stellar objects and nearby gas to understand the evolution of young stars and their environments; (iii) perform an extensive spectral survey of white dwarfs; (iv) survey $\\sim400$ neutral-hydrogen-selected galaxies with the IFUs; (v) study properties and kinematics of stellar populations and ionised gas in $z<0.5$ cluster galaxies; (vi) survey stellar populations and kinematics in $\\sim25\\,000$ field galaxies at $0.3\\lesssim z \\lesssim 0.7$; (vii) study the cosmic evolution of accretion and star formation using $>1$ million spectra of LOFAR-selected radio sources; (viii) trace structures using intergalactic/circumgalactic gas at $z>2$. Finally, we describe the WEAVE Operational Rehearsals using the WEAVE Simulator. |\n",
       "|<p style=\"color:green\"> **ERROR** </p>| <p style=\"color:green\">affiliation error: mpia.affiliation_verifications: '69117' keyword not found.</p> |"
      ],
      "text/plain": [
       "<IPython.core.display.Markdown object>"
      ]
     },
     "metadata": {},
     "output_type": "display_data"
    },
    {
     "data": {
      "text/markdown": [
       "\n",
       "|||\n",
       "|---:|:---|\n",
       "| [![arXiv](https://img.shields.io/badge/arXiv-arXiv:2212.03872-b31b1b.svg)](https://arxiv.org/abs/arXiv:2212.03872) | **On the Application of Bayesian Leave-One-Out Cross-Validation to  Exoplanet Atmospheric Analysis**  |\n",
       "|| Luis Welbanks, Peter McGill, <mark>Michael Line</mark>, Nikku Madhusudhan |\n",
       "|*Appeared on*| *2022-12-09*|\n",
       "|*Comments*| *Accepted for publication in The Astronomical Journal*|\n",
       "|**Abstract**| Over the last decade, exoplanetary transmission spectra have yielded an unprecedented understanding about the physical and chemical nature of planets outside our solar system. Physical and chemical knowledge is mainly extracted via fitting competing models to spectroscopic data, based on some goodness-of-fit metric. However, current employed metrics shed little light on how exactly a given model is failing at the individual data point level and where it could be improved. As the quality of our data and complexity of our models increases, there is an urgent need to better understand which observations are driving our model interpretations. Here we present the application of Bayesian leave-one-out cross-validation to assess the performance of exoplanet atmospheric models and compute the expected log pointwise predictive density (elpd$_\\text{LOO}$). elpd$_\\text{LOO}$ estimates the out-of-sample predictive accuracy of an atmospheric model at data point resolution providing interpretable model criticism. We introduce and demonstrate this method on synthetic HST transmission spectra of a hot Jupiter. We apply elpd$_\\text{LOO}$ to interpret current observations of HAT-P-41b and assess the reliability of recent inferences of H$^-$ in its atmosphere. We find that previous detections of H$^{-}$ are dependent solely on a single data point. This new metric for exoplanetary retrievals complements and expands our repertoire of tools to better understand the limits of our models and data. elpd$_\\text{LOO}$ provides the means to interrogate models at the single data point level, a prerequisite for robustly interpreting the imminent wealth of spectroscopic information coming from JWST. |\n",
       "|<p style=\"color:green\"> **ERROR** </p>| <p style=\"color:green\">affiliation error: mpia.affiliation_verifications: 'Heidelberg' keyword not found.</p> |"
      ],
      "text/plain": [
       "<IPython.core.display.Markdown object>"
      ]
     },
     "metadata": {},
     "output_type": "display_data"
    },
    {
     "data": {
      "text/markdown": [
       "\n",
       "|||\n",
       "|---:|:---|\n",
       "| [![arXiv](https://img.shields.io/badge/arXiv-arXiv:2212.03875-b31b1b.svg)](https://arxiv.org/abs/arXiv:2212.03875) | **A Bayesian approach to modelling spectrometer data chromaticity  corrected using beam factors -- I. Mathematical formalism**  |\n",
       "|| Peter H. Sims, et al. -- incl., <mark>Nivedita Mahesh</mark> |\n",
       "|*Appeared on*| *2022-12-09*|\n",
       "|*Comments*| *26 pages, 8 figures*|\n",
       "|**Abstract**| Accurately accounting for spectral structure in spectrometer data induced by instrumental chromaticity on scales relevant for detection of the 21-cm signal is among the most significant challenges in global 21-cm signal analysis. In the publicly available EDGES low-band data set (Bowman et al. 2018), this complicating structure is suppressed using beam-factor based chromaticity correction (BFCC), which works by dividing the data by a sky-map-weighted model of the spectral structure of the instrument beam. Several analyses of this data have employed models that start with the assumption that this correction is complete; however, while BFCC mitigates the impact of instrumental chromaticity on the data, given realistic assumptions regarding the spectral structure of the foregrounds, the correction is only partial, which complicates the interpretation of fits to the data with intrinsic sky models. In this paper, we derive a BFCC data model from an analytic treatment of BFCC and demonstrate using simulated observations that the BFCC data model enables unbiased recovery of a simulated global 21-cm signal from beam factor chromaticity corrected data. |\n",
       "|<p style=\"color:green\"> **ERROR** </p>| <p style=\"color:green\">affiliation error: mpia.affiliation_verifications: 'Heidelberg' keyword not found.</p> |"
      ],
      "text/plain": [
       "<IPython.core.display.Markdown object>"
      ]
     },
     "metadata": {},
     "output_type": "display_data"
    },
    {
     "data": {
      "text/markdown": [
       "\n",
       "|||\n",
       "|---:|:---|\n",
       "| [![arXiv](https://img.shields.io/badge/arXiv-arXiv:2212.03891-b31b1b.svg)](https://arxiv.org/abs/arXiv:2212.03891) | **Tracing the kinematics of the whole ram pressure stripped tails in ESO  137-001**  |\n",
       "|| Rongxin Luo, et al. -- incl., <mark>Yuan Li</mark> |\n",
       "|*Appeared on*| *2022-12-09*|\n",
       "|*Comments*| *17 pages, 19 figures, 2 tables, submitted to MNRAS*|\n",
       "|**Abstract**| Ram pressure stripping (RPS) is an important process to affect the evolution of cluster galaxies and their surrounding environment. We present a large MUSE mosaic for ESO 137-001 and its stripped tails, and studied the detailed distributions and kinematics of the ionized gas and stars. The warm, ionized gas is detected to at least 87 kpc from the galaxy and splits into three tails. There is a clear velocity gradient roughly perpendicular to the stripping direction, which decreases along the tails and disappears beyond $\\sim45$ kpc downstream. The velocity dispersion of the ionized gas increases to $\\sim80$ km s$^{-1}$ at $\\sim20$ kpc downstream and stays flat beyond. The stars in the galaxy disk present a regular rotation motion, while the ionized gas is already disturbed by the ram pressure. Based on the observed velocity gradient, we construct the velocity model for the residual galactic rotation in the tails and discuss the origin and implication of its fading with distance. By comparing with theoretical studies, we interpreted the increased velocity dispersion as the result of the oscillations induced by the gas flows in the galaxy wake, which may imply an enhanced degree of turbulence there. We also compare the kinematic properties of the ionized gas and molecular gas from ALMA, which shows they are co-moving and kinematically mixed through the tails. Our study demonstrates the great potential of spatially resolved spectroscopy in probing the detailed kinematic properties of the stripped gas, which can provide important information for future simulations of RPS. |\n",
       "|<p style=\"color:green\"> **ERROR** </p>| <p style=\"color:green\">affiliation error: mpia.affiliation_verifications: 'Heidelberg' keyword not found.</p> |"
      ],
      "text/plain": [
       "<IPython.core.display.Markdown object>"
      ]
     },
     "metadata": {},
     "output_type": "display_data"
    },
    {
     "data": {
      "text/markdown": [
       "\n",
       "|||\n",
       "|---:|:---|\n",
       "| [![arXiv](https://img.shields.io/badge/arXiv-arXiv:2212.03907-b31b1b.svg)](https://arxiv.org/abs/arXiv:2212.03907) | **A Novel JupyterLab User Experience for Interactive Data Visualization**  |\n",
       "|| Peter K. G. Williams, Jonathan Carifio, <mark>Henrik Norman</mark>, A. David Weigel |\n",
       "|*Appeared on*| *2022-12-09*|\n",
       "|*Comments*| *Submitted to proceedings of ADASS32; 8 pages, 3 figures. Try the WWT app at this https URL*|\n",
       "|**Abstract**| In the Jupyter ecosystem, data visualization is usually done with \"widgets\" created as notebook cell outputs. While this mechanism works well in some circumstances, it is not well-suited to presenting interfaces that are long-lived, interactive, and visually rich. Unlike the traditional Jupyter notebook system, the newer JupyterLab application provides a sophisticated extension infrastructure that raises new design possibilities. Here we present a novel user experience (UX) for interactive data visualization in JupyterLab that is based on an \"app\" that runs alongside the user's notebooks, rather than widgets that are bound inside them. We have implemented this UX for the AAS WorldWide Telescope (WWT) visualization tool. JupyterLab's messaging APIs allow the app to smoothly exchange data with multiple computational kernels, allowing users to accomplish tasks that are not possible using the widget framework. A new Jupyter server extension allows the frontend to request data from kernels asynchronously over HTTP, enabling interactive exploration of gigapixel-scale imagery in WWT. While we have developed this UX for WWT, the overall design and the server extension are portable to other applications and have the potential to unlock a variety of new user activities that aren't currently possible in \"science platform\" interfaces. |\n",
       "|<p style=\"color:green\"> **ERROR** </p>| <p style=\"color:green\">affiliation error: mpia.affiliation_verifications: 'Heidelberg' keyword not found.</p> |"
      ],
      "text/plain": [
       "<IPython.core.display.Markdown object>"
      ]
     },
     "metadata": {},
     "output_type": "display_data"
    },
    {
     "data": {
      "text/markdown": [
       "\n",
       "|||\n",
       "|---:|:---|\n",
       "| [![arXiv](https://img.shields.io/badge/arXiv-arXiv:2212.03926-b31b1b.svg)](https://arxiv.org/abs/arXiv:2212.03926) | **The Green Bank North Celestial Cap Survey. VII. 12 New Pulsar Timing  Solutions**  |\n",
       "|| <mark>Joseph K. Swiggum</mark>, et al. -- incl., <mark>Joeri van Leeuwen</mark>, <mark>Lina Levin</mark>, <mark>Evan F. Lewis</mark> |\n",
       "|*Appeared on*| *2022-12-09*|\n",
       "|*Comments*| *21 pages, 5 figures, 7 tables*|\n",
       "|**Abstract**| We present timing solutions for 12 pulsars discovered in the Green Bank North Celestial Cap (GBNCC) 350 MHz pulsar survey, including six millisecond pulsars (MSPs), a double neutron star (DNS) system, and a pulsar orbiting a massive white dwarf companion. Timing solutions presented here include 350 and 820 MHz Green Bank Telescope data from initial confirmation and follow-up as well as a dedicated timing campaign spanning one year. PSR J1122$-$3546 is an isolated MSP, PSRs J1221$-$0633 and J1317$-$0157 are MSPs in black widow systems and regularly exhibit eclipses, and PSRs J2022+2534 and J2039$-$3616 are MSPs that can be timed with high precision and have been included in pulsar timing array experiments seeking to detect low-frequency gravitational waves. PSRs J1221$-$0633 and J2039$-$3616 have Fermi Large Area Telescope $\\gamma$-ray counterparts and also exhibit significant $\\gamma$-ray pulsations. We measure proper motion for three of the MSPs in this sample and estimate their space velocities, which are typical compared to those of other MSPs. We have detected the advance of periastron for PSR J1018$-$1523 and therefore measure the total mass of the double neutron star system, $m_{\\rm tot}=2.3\\pm0.3$ M$_{\\odot}$. Long-term pulsar timing with data spanning more than one year is critical for classifying recycled pulsars, carrying out detailed astrometry studies, and shedding light on the wealth of information in these systems post-discovery. |\n",
       "|<p style=\"color:green\"> **ERROR** </p>| <p style=\"color:green\">affiliation error: mpia.affiliation_verifications: 'Heidelberg' keyword not found.</p> |"
      ],
      "text/plain": [
       "<IPython.core.display.Markdown object>"
      ]
     },
     "metadata": {},
     "output_type": "display_data"
    },
    {
     "data": {
      "text/markdown": [
       "\n",
       "|||\n",
       "|---:|:---|\n",
       "| [![arXiv](https://img.shields.io/badge/arXiv-arXiv:2212.03934-b31b1b.svg)](https://arxiv.org/abs/arXiv:2212.03934) | **The Nominal Range of Rocky Planet Masses, Radii, Surface Gravities and  Bulk Densities**  |\n",
       "|| Cayman T. Unterborn, et al. -- incl., <mark>Joseph G. Schulze</mark> |\n",
       "|*Appeared on*| *2022-12-09*|\n",
       "|*Comments*| *41 pages, 21 figures, 2 tables. Accepted to ApJ*|\n",
       "|**Abstract**| The two primary observable quantities of an exoplanet--its mass and radius--alone are not sufficient to probe a rocky exoplanet's interior composition and mineralogy. To overcome this, host-star abundances of the primary planet-building elements (Mg, Si, Fe) are typically used as a proxy for the planet's bulk composition. The majority of small exoplanet hosts, however, do not have available abundance data. Here we present the open-source ExoPlex mass-radius-composition solver. Unlike previous open-source mass-radius solvers, ExoPlex calculates the core chemistry and equilibrium mantle mineralogy for a bulk composition, including effects of mantle FeO content, core light elements and surface water/ice. We utilize ExoPlex to calculate the planetary radii, surface gravities and bulk densities for 10$^6$ model planets up to 2 R$_\\oplus$ across these geochemistries, adopting the distribution of FGK stellar abundances to estimate of the range of bulk exoplanet compositions. We outline the $99.7\\%$ distribution of radii, surface gravity and bulk densities that define planets as \"nominally rocky.\" Planets outside this range require compositions outside those expected from stellar abundance data, likely making them either Fe-enriched super-Mercuries, or volatile-enriched mini-Neptunes. We apply our classification scheme to a sample of 85 well-resolved exoplanets without available host-star abundances. We estimate only 9 planets are within the \"nominally rocky planet zone\" at $>70\\%$ confidence, while $\\sim20\\%$ and $\\sim30\\%$ of this sample can be reasonably classified as super-Mercuries or volatile-rich, respectively. Our results provide observers with a self-consistent way to broadly classify a planet as likely rocky, Mercury-like or volatile-enriched, using mass and radius measurements alone. |\n",
       "|<p style=\"color:green\"> **ERROR** </p>| <p style=\"color:green\">affiliation error: mpia.affiliation_verifications: 'Heidelberg' keyword not found.</p> |"
      ],
      "text/plain": [
       "<IPython.core.display.Markdown object>"
      ]
     },
     "metadata": {},
     "output_type": "display_data"
    },
    {
     "data": {
      "text/markdown": [
       "\n",
       "|||\n",
       "|---:|:---|\n",
       "| [![arXiv](https://img.shields.io/badge/arXiv-arXiv:2212.03952-b31b1b.svg)](https://arxiv.org/abs/arXiv:2212.03952) | **A NuSTAR and Chandra Investigation of the Misaligned Outflow of PSR  J1101-6101 and the Lighthouse Pulsar Wind Nebula**  |\n",
       "|| Noel Klingler, et al. -- incl., <mark>George G. Pavlov</mark> |\n",
       "|*Appeared on*| *2022-12-09*|\n",
       "|*Comments*| *16 pages, 9 figures, ApJ submitted*|\n",
       "|**Abstract**| PSR J1101-6101 is an energetic young pulsar which powers the remarkable Lighthouse pulsar wind nebula (PWN). The pulsar belongs to the rare type of radio- and gamma-ray-quiet pulsars which are bright in hard X-rays. Moreover, the Lighthouse PWN is remarkable for its misaligned outflow (which gave rise to the PWN's nickname). Also known as \"pulsar filaments\", these collimated parsec-scale X-ray structures have been recently discovered in the vicinity of a handful of fast-moving pulsars, and appear unaffected by the ram pressure which confines pulsar tails. We report on NuSTAR observations of PSR J1101-6101 and its misaligned outflow -- the first observation of such a structure above ~10 keV. We detect the outflow up to 25 keV, spatially resolve its spectral evolution with distance from the pulsar, find unambiguous evidence of spectral cooling with distance from the pulsar, and infer physical properties of the particles and magnetic field in the outflow. We also reanalzye archival Chandra data and discuss the outflow's small-scale structure. We detect pulsations from PSR J1101-6101 up to 20 keV, present the X-ray pulse profile, confirm its period derivative, and perform phase-resolved spectroscopy. Lastly, we discuss the X-ray source 2CXO J110158.4-605649 = 2XMM J110158.5--605651 (a serendipitously observed blazar) and suggest it may be the X-ray counterpart to the GeV source 4FGL J1102.0--6054. |\n",
       "|<p style=\"color:green\"> **ERROR** </p>| <p style=\"color:green\">affiliation error: mpia.affiliation_verifications: 'Heidelberg' keyword not found.</p> |"
      ],
      "text/plain": [
       "<IPython.core.display.Markdown object>"
      ]
     },
     "metadata": {},
     "output_type": "display_data"
    },
    {
     "data": {
      "text/markdown": [
       "\n",
       "|||\n",
       "|---:|:---|\n",
       "| [![arXiv](https://img.shields.io/badge/arXiv-arXiv:2212.03953-b31b1b.svg)](https://arxiv.org/abs/arXiv:2212.03953) | **Measured Spin-Orbit Alignment of Ultra-Short Period Super-Earth 55  Cancri e**  |\n",
       "|| <mark>Lily L. Zhao</mark>, et al. -- incl., <mark>Christina Hedges</mark>, <mark>Debra A. Fischer</mark> |\n",
       "|*Appeared on*| *2022-12-09*|\n",
       "|*Comments*| *12 pages, 4 figures, published in Nature Astronomy*|\n",
       "|**Abstract**| A planet's orbital alignment places important constraints on how a planet formed and consequently evolved. The dominant formation pathway of ultra-short period planets ($P<1$ day) is particularly mysterious as such planets most likely formed further out, and it is not well understood what drove their migration inwards to their current positions. Measuring the orbital alignment is difficult for smaller super-Earth/sub-Neptune planets, which give rise to smaller amplitude signals. Here we present radial velocities across two transits of 55 Cancri e, an ultra-short period Super-Earth, observed with the Extreme Precision Spectrograph (EXPRES). Using the classical Rossiter-McLaughlin (RM) method, we measure 55 Cnc e's sky-projected stellar spin-orbit alignment (i.e., the projected angle between the planet's orbital axis and its host star's spin axis) to be $\\lambda=10\\substack{+17\\\\ -20}^{\\circ}$ with an unprojected angle of $\\psi=23\\substack{+14\\\\ -12}^{\\circ}$. The best-fit RM model to the EXPRES data has a radial velocity semi-amplitude of just $0.41\\substack{+0.09\\\\ -0.10} m s^{-1}$. The spin-orbit alignment of 55 Cnc e favors dynamically gentle migration theories for ultra-short period planets, namely tidal dissipation through low-eccentricity planet-planet interactions and/or planetary obliquity tides. |\n",
       "|<p style=\"color:green\"> **ERROR** </p>| <p style=\"color:green\">affiliation error: mpia.affiliation_verifications: 'Heidelberg' keyword not found.</p> |"
      ],
      "text/plain": [
       "<IPython.core.display.Markdown object>"
      ]
     },
     "metadata": {},
     "output_type": "display_data"
    },
    {
     "data": {
      "text/markdown": [
       "\n",
       "|||\n",
       "|---:|:---|\n",
       "| [![arXiv](https://img.shields.io/badge/arXiv-arXiv:2212.03972-b31b1b.svg)](https://arxiv.org/abs/arXiv:2212.03972) | **The Physics of Fast Radio Bursts**  |\n",
       "|| <mark>Bing Zhang</mark> |\n",
       "|*Appeared on*| *2022-12-09*|\n",
       "|*Comments*| *Review prepared for Review of Modern Physics, version after addressing referees' comments. Community input solicited. Helpful comments received within a week will be included in the final version. 79 pages*|\n",
       "|**Abstract**| Fast radio bursts (FRBs), millisecond-duration bursts prevailing in the radio sky, are the latest big puzzle in the universe and have been a subject of intense observational and theoretical investigations in recent years. The rapid accumulation of the observational data has painted the following sketch about the physical origin of FRBs: They predominantly originate from cosmological distances so that their sources produce the most extreme coherent radio emission in the universe; at least some, probably most, FRBs are repeating sources that do not invoke cataclysmic events; and at least some FRBs are produced by magnetars, neutron stars with the strongest magnetic fields in the universe. Many open questions regarding the physical origin(s) and mechanism(s) of FRBs remain. This article reviews the phenomenology and possible underlying physics of FRBs. Topics include: a summary of the observational data, basic plasma physics, general constraints on FRB models from the data, radiation mechanisms, source and environment models, propagation effects, as well as FRBs as cosmological probes. Current pressing problems and future prospects are also discussed. |\n",
       "|<p style=\"color:green\"> **ERROR** </p>| <p style=\"color:green\">affiliation error: mpia.affiliation_verifications: 'Heidelberg' keyword not found.</p> |"
      ],
      "text/plain": [
       "<IPython.core.display.Markdown object>"
      ]
     },
     "metadata": {},
     "output_type": "display_data"
    },
    {
     "data": {
      "text/markdown": [
       "\n",
       "|||\n",
       "|---:|:---|\n",
       "| [![arXiv](https://img.shields.io/badge/arXiv-arXiv:2212.03988-b31b1b.svg)](https://arxiv.org/abs/arXiv:2212.03988) | **The Thousand-Pulsar-Array programme on MeerKAT XI: Application of the  rotating vector model**  |\n",
       "|| Simon Johnston, et al. -- incl., <mark>Michael Kramer</mark> |\n",
       "|*Appeared on*| *2022-12-09*|\n",
       "|*Comments*| *accepted by MNRAS*|\n",
       "|**Abstract**| In spite of the rich phenomenology of the polarization properties of radio pulsars, the rotating vector model (RVM) created 50 years ago remains the best method to determine the beam geometry of a pulsar. We apply the RVM to a sample of 854 radio pulsars observed with the MeerKAT telescope in order to draw conclusions about the population of pulsars as a whole. The main results are that (i) the geometrical interpretation of the position angle traverse is valid in the majority of the population, (ii) the pulsars for which the RVM fails tend to have a high fraction of circular polarization compared to linear polarization, (iii) emission heights obtained through both geometrical and relativistic methods show that the majority of pulsars must have emission heights less than 1000~km independent of spin period, (iv) orthogonal mode jumps are seen in the position angle traverse in about one third of the population. All these results are weakly dependent on the pulsar spin-down energy. |\n",
       "|<p style=\"color:green\"> **ERROR** </p>| <p style=\"color:green\">affiliation error: mpia.affiliation_verifications: 'Heidelberg' keyword not found.</p> |"
      ],
      "text/plain": [
       "<IPython.core.display.Markdown object>"
      ]
     },
     "metadata": {},
     "output_type": "display_data"
    },
    {
     "data": {
      "text/markdown": [
       "\n",
       "|||\n",
       "|---:|:---|\n",
       "| [![arXiv](https://img.shields.io/badge/arXiv-arXiv:2212.04013-b31b1b.svg)](https://arxiv.org/abs/arXiv:2212.04013) | **On the Nature of the Three-part Structure of Solar Coronal Mass  Ejections**  |\n",
       "|| Hongqiang Song, et al. -- incl., <mark>Jie Zhang</mark>, <mark>Leping Li</mark>, <mark>Lidong Xia</mark> |\n",
       "|*Appeared on*| *2022-12-09*|\n",
       "|*Comments*| *10 pages, 4 figures, accepted by ApJ*|\n",
       "|**Abstract**| Coronal mass ejections (CMEs) result from eruptions of magnetic flux ropes (MFRs) and can possess a three-part structure in white-light coronagraphs, including a bright front, dark cavity and bright core. In the traditional opinion, the bright front forms due to the plasma pileup along the MFR border, the cavity represents the cross section of the MFR, and the bright core corresponds to the erupted prominence. However, this explanation on the nature of the three-part structure is being challenged. In this paper, we report an intriguing event occurred on 2014 June 14 that was recorded by multiple space- and ground-based instruments seamlessly, clearly showing that the CME front originates from the plasma pileup along the magnetic arcades overlying the MFR, and the core corresponds to a hot-channel MFR. Thus the dark cavity is not an MFR, instead it is a low-density zone between the CME front and a trailing MFR. These observations are consistent with a new explanation on the CME structure. If the new explanation is correct, most (if not all) CMEs should exhibit the three-part appearance in their early eruption stage. To examine this prediction, we make a survey study of all CMEs in 2011 and find that all limb events have the three-part feature in the low corona, regardless of their appearances in the high corona. Our studies suggest that the three-part structure is the intrinsic structure of CMEs, which has fundamental importance for understanding CMEs. |\n",
       "|<p style=\"color:green\"> **ERROR** </p>| <p style=\"color:green\">affiliation error: mpia.affiliation_verifications: 'Heidelberg' keyword not found.</p> |"
      ],
      "text/plain": [
       "<IPython.core.display.Markdown object>"
      ]
     },
     "metadata": {},
     "output_type": "display_data"
    },
    {
     "data": {
      "text/markdown": [
       "\n",
       "|||\n",
       "|---:|:---|\n",
       "| [![arXiv](https://img.shields.io/badge/arXiv-arXiv:2212.04027-b31b1b.svg)](https://arxiv.org/abs/arXiv:2212.04027) | **The molecular gas kinematics in the host galaxy of non-repeating FRB  180924B**  |\n",
       "|| Tzu-Yin Hsu, et al. -- incl., <mark>Chih Teng Ling</mark> |\n",
       "|*Appeared on*| *2022-12-09*|\n",
       "|*Comments*| *5 pages, 4 figures, Accepted for publication in MNRAS, this https URL&t=1s*|\n",
       "|**Abstract**| Fast radio bursts (FRBs) are millisecond-duration transients with large dispersion measures. The origin of FRBs is still mysterious. One of the methods to comprehend FRB origin is to probe the physical environments of FRB host galaxies. Mapping molecular-gas kinematics in FRB host galaxies is critical because it results in star formation that is likely connected to the birth of FRB progenitors. However, most previous works of FRB host galaxies have focused on its stellar component. Therefore, we, for the first time, report the molecular gas kinematics in the host galaxy of the non-repeating FRB 180924B at $z= 0.3216$. Two velocity components of the CO (3-2) emission line are detected in its host galaxy with the Atacama Large Millimeter/submillimeter Array (ALMA): the peak of one component ($-155.40$ km s$^{-1}$) is near the centre of the host galaxy, and another ($-7.76$ km s$^{-1}$) is near the FRB position. The CO (3-2) spectrum shows asymmetric profiles with A$_{\\rm peak}$ $=2.03\\pm 0.39$, where A$_{\\rm peak}$ is the peak flux density ratio between the two velocity components. The CO (3-2) velocity map also indicates an asymmetric velocity gradient from $-180$ km s$^{-1}$ to 8 km s$^{-1}$. These results indicate a disturbed kinetic structure of molecular gas in the host galaxy. Such disturbed kinetic structures are reported for repeating FRB host galaxies using HI emission lines in previous works. Our finding indicates that non-repeating and repeating FRBs could commonly appear in disturbed kinetic environments, suggesting a possible link between the gas kinematics and FRB progenitors. |\n",
       "|<p style=\"color:green\"> **ERROR** </p>| <p style=\"color:green\">affiliation error: mpia.affiliation_verifications: 'Heidelberg' keyword not found.</p> |"
      ],
      "text/plain": [
       "<IPython.core.display.Markdown object>"
      ]
     },
     "metadata": {},
     "output_type": "display_data"
    },
    {
     "data": {
      "text/markdown": [
       "\n",
       "|||\n",
       "|---:|:---|\n",
       "| [![arXiv](https://img.shields.io/badge/arXiv-arXiv:2212.04036-b31b1b.svg)](https://arxiv.org/abs/arXiv:2212.04036) | **A $γ$-ray emitting NLS1 galaxy SDSS J095909.51+460014.3 identified  by multiwavelength flares**  |\n",
       "|| <mark>Yang-Ji Li</mark>, et al. -- incl., <mark>Neng-Hui Liao</mark> |\n",
       "|*Appeared on*| *2022-12-09*|\n",
       "|*Comments*| *8 pages, 5 figures*|\n",
       "|**Abstract**| We report on the identification of a new $\\gamma$-ray emitting narrow-line Seyfert 1 galaxy ($\\gamma$-NLS1), SDSS J095909.51+460014.3 (hereinafter J0959+4600, $z$ = 0.399), by establishing its association with a $\\gamma$-ray source 4FGL 0959.6+4606, although its low-energy counterpart was suggested to be a radio galaxy 2MASX J09591976+4603515 (hereinafter J0959+4603). \\emph{WISE} long-term light curves of these two sources reveal diverse infrared variability patterns. Violent infrared variations of J0959+4600 with an amplitude up to one order of magnitude has been detected, while variability is mild for the other one. More importantly, the peaking time of the infrared flare of J0959+4603 is coincident with the time of brightening of 4FGL 0959.6+4606. At the same time, the flux level of J0959+4603 maintains in the quiescent state. A specific analysis of 15-month Fermi-LAT data, aiming at the high $\\gamma$-ray flux state, yields a significant source (TS =41). The corresponding localization analysis suggests that only J0959+4600 falls into the uncertainty area, further supporting the updated association relationship. A broadband spectral energy distribution of J0959+4600 has been drawn and well described by the classic single-zone homogeneous leptonic jet model. The jet properties of J0959+4600 are investigated and found to be comparable with other $\\gamma$-NLS1s. |\n",
       "|<p style=\"color:green\"> **ERROR** </p>| <p style=\"color:green\">affiliation error: mpia.affiliation_verifications: 'Heidelberg' keyword not found.</p> |"
      ],
      "text/plain": [
       "<IPython.core.display.Markdown object>"
      ]
     },
     "metadata": {},
     "output_type": "display_data"
    },
    {
     "data": {
      "text/markdown": [
       "\n",
       "|||\n",
       "|---:|:---|\n",
       "| [![arXiv](https://img.shields.io/badge/arXiv-arXiv:2212.04040-b31b1b.svg)](https://arxiv.org/abs/arXiv:2212.04040) | **Investigating the radiative properties of LHAASO J1908+0621**  |\n",
       "|| Keyao Wu, <mark>Liancheng Zhou</mark>, Yunlu Gong, Jun Fang |\n",
       "|*Appeared on*| *2022-12-09*|\n",
       "|*Comments*| *7 pages, 7 figures, MNRAS accepted*|\n",
       "|**Abstract**| LHAASO J1908+0621 has been recently detected as a source emitting $\\gamma$-rays with energies above 100 TeV, and the multiband observations show that a break around 1 TeV appears in the $\\gamma$-ray spectrum. We have reanalyzed the GeV $\\gamma$-ray properties for the 100 TeV source using 14 years of data recorded by the Fermi Large Area Telescope (Fermi-LAT). The spectrum in the energy range range 30-500 GeV has an index of 1.50 $\\pm$ 0.26, which is much smaller than that detected in the TeV $\\gamma$-rays. Additionally, the radiation properties of this source are investigated based on a one-zone time-dependent model. In the model, LHAASO J1908+0621 is associated with a pulsar wind nebula (PWN) powered by the pulsar PSR J1907$+$0602. High-energy particles composed of electrons and positrons are injected into the nebula. Multiband nonthermal emission is produced via synchrotron radiation and inverse Compton scattering (ICS). Taking the effect of radiative energy losses and adiabatic cooling into account, the spectral energy distribution from the model with a broken power-law for the distribution of the injected particles can explain the detected fluxes in the $\\gamma$-ray bands. The results support that LHAASO J1908+0621 originates from the PWN powered by PSR J1907$+$0602, and the $\\gamma$-rays with energy above 100 TeV are produced by the electrons/positrons in the nebula via ICS. |\n",
       "|<p style=\"color:green\"> **ERROR** </p>| <p style=\"color:green\">affiliation error: mpia.affiliation_verifications: 'Heidelberg' keyword not found.</p> |"
      ],
      "text/plain": [
       "<IPython.core.display.Markdown object>"
      ]
     },
     "metadata": {},
     "output_type": "display_data"
    },
    {
     "data": {
      "text/markdown": [
       "\n",
       "|||\n",
       "|---:|:---|\n",
       "| [![arXiv](https://img.shields.io/badge/arXiv-arXiv:2212.04044-b31b1b.svg)](https://arxiv.org/abs/arXiv:2212.04044) | **A possible tension between galaxy rotational velocity and observed  physical properties**  |\n",
       "|| <mark>Lior Shamir</mark>, Darius McAdam |\n",
       "|*Appeared on*| *2022-12-09*|\n",
       "|*Comments*| **|\n",
       "|**Abstract**| The discrepancy between the mass of galaxies and their rotational velocity is one of the most puzzling scientific phenomena. Despite over a century of research, this phenomenon is not fully understood. Common explanations include dark matter and MOND, among other theories. Here we report on another observation that shows tension between the physics of galaxy rotation and its rotational velocity. We compare the brightness of galaxies, and find that galaxies that spin in the same direction as the Milky Way have different brightness than galaxies that spin in the opposite direction. While such difference in brightness is expected due to Doppler shift, it is expected to be subtle. The results show that the difference in brightness is large enough to be detected by Earth-based telescopes. That observed difference corresponds to physical properties of galaxies with far greater rotational velocity than the rotational velocity of the Milky Way. The difference is consistent in both the Northern galactic pole and the Southern galactic pole, and is not observed in parts of the sky that are perpendicular to the galactic pole. The differences are observed by several different instruments such DECam, SDSS, Pan-STARRS, and HST. The observation is also consistent across annotation methods, including different computer-based methods, manual annotation, or crowdsourcing annotations through Galaxy Zoo, all show similar results. Another possible explanation to the observation is parity violation in the large-scale structure, such that the magnitude of the parity violation was stronger in the earlier Universe. It can also be linked to other anomalies such as the Ho tension. Analysis of Ho using Ia supernovae shows smaller Ho tension when the spin directions of the host galaxies are consistent, although these results are based on a small number of supernovae, and may not be statistically significant. |\n",
       "|<p style=\"color:green\"> **ERROR** </p>| <p style=\"color:green\">affiliation error: mpia.affiliation_verifications: 'Heidelberg' keyword not found.</p> |"
      ],
      "text/plain": [
       "<IPython.core.display.Markdown object>"
      ]
     },
     "metadata": {},
     "output_type": "display_data"
    },
    {
     "data": {
      "text/markdown": [
       "\n",
       "|||\n",
       "|---:|:---|\n",
       "| [![arXiv](https://img.shields.io/badge/arXiv-arXiv:2212.04051-b31b1b.svg)](https://arxiv.org/abs/arXiv:2212.04051) | **Searches for Shapiro delay in seven binary pulsars using the MeerKAT  telescope**  |\n",
       "|| Mohsen Shamohammadi, et al. -- incl., <mark>Michael Kramer</mark> |\n",
       "|*Appeared on*| *2022-12-09*|\n",
       "|*Comments*| *19 pages, 8 figures*|\n",
       "|**Abstract**| Precision timing of millisecond pulsars in binary systems enables observers to detect the relativistic Shapiro delay induced by space time curvature. When favourably aligned, this enables constraints to be placed on the component masses and system orientation. Here we present the results of timing campaigns on seven binary millisecond pulsars observed with the 64-antenna MeerKAT radio telescope that show evidence of Shapiro delay: PSRs~J0101$-$6422, J1101$-$6424, J1125$-$6014, J1514$-$4946, J1614$-$2230, J1732$-$5049, and J1909$-$3744. Evidence for Shapiro delay was found in all of the systems, and for three the orientations and data quality enabled strong constraints on their orbital inclinations and component masses. For PSRs~J1125$-$6014, J1614$-$2230 and J1909$-$3744, we determined pulsar masses to be $M_{\\rm p} = 1.68\\pm 0.17 \\, {\\rm M_{\\odot}} $, $1.94\\pm 0.03 \\, {\\rm M_{\\odot}} $ and $1.45 \\pm 0.03 \\, {\\rm M_{\\odot}}$, and companion masses to be $M_{\\rm c} = 0.33\\pm 0.02 \\, {\\rm M_{\\odot}} $, $0.495\\pm 0.005 \\, {\\rm M_{\\odot}} $ and $0.205 \\pm 0.003 \\, {\\rm M_{\\odot}}$, respectively. This provides the first independent confirmation of PSR~J1614$-$2230's mass, one of the highest known. The Shapiro delays measured for PSRs~J0101$-$6422, J1101$-$6424, J1514$-$4946, and J1732$-$5049 were only weak, and could not provide interesting component mass limits. Despite a large number of millisecond pulsars being routinely timed, relatively few have accurate masses via Shapiro delays. We use simulations to show that this is expected, and provide a formula for observers to assess how accurately a pulsar mass can be determined. We also discuss the observed correlation between pulsar companion masses and spin period, and the anti-correlation between recycled pulsar mass and their companion masses. |\n",
       "|<p style=\"color:green\"> **ERROR** </p>| <p style=\"color:green\">affiliation error: mpia.affiliation_verifications: 'Heidelberg' keyword not found.</p> |"
      ],
      "text/plain": [
       "<IPython.core.display.Markdown object>"
      ]
     },
     "metadata": {},
     "output_type": "display_data"
    },
    {
     "data": {
      "text/markdown": [
       "\n",
       "|||\n",
       "|---:|:---|\n",
       "| [![arXiv](https://img.shields.io/badge/arXiv-arXiv:2212.04139-b31b1b.svg)](https://arxiv.org/abs/arXiv:2212.04139) | **The design and performance of the XL-Calibur anticoincidence shield**  |\n",
       "|| N. K. Iyer, et al. -- incl., <mark>L. Lisalda</mark> |\n",
       "|*Appeared on*| *2022-12-09*|\n",
       "|*Comments*| *Submitted to Nuclear Instruments and Methods A*|\n",
       "|**Abstract**| The XL-Calibur balloon-borne hard X-ray polarimetry mission comprises a Compton-scattering polarimeter placed at the focal point of an X-ray mirror. The polarimeter is housed within a BGO anticoincidence shield, which is needed to mitigate the considerable background radiation present at the observation altitude of ~40 km. This paper details the design, construction and testing of the anticoincidence shield, as well as the performance measured during the week-long maiden flight from Esrange Space Centre to the Canadian Northwest Territories in July 2022. The in-flight performance of the shield followed design expectations, with a veto threshold <100 keV and a measured background rate of ~0.5 Hz (20-40 keV). This is compatible with the scientific goals of the mission, where %-level minimum detectable polarisation is sought for a Hz-level source rate. |\n",
       "|<p style=\"color:green\"> **ERROR** </p>| <p style=\"color:green\">affiliation error: mpia.affiliation_verifications: 'Heidelberg' keyword not found.</p> |"
      ],
      "text/plain": [
       "<IPython.core.display.Markdown object>"
      ]
     },
     "metadata": {},
     "output_type": "display_data"
    },
    {
     "data": {
      "text/markdown": [
       "\n",
       "|||\n",
       "|---:|:---|\n",
       "| [![arXiv](https://img.shields.io/badge/arXiv-arXiv:2212.04179-b31b1b.svg)](https://arxiv.org/abs/arXiv:2212.04179) | **The Pan-STARRS1 $\\mathbf{z>5.6}$ Quasar Survey: III. The  $\\mathbf{z\\approx6}$ Quasar Luminosity Function**  |\n",
       "|| Jan-Torge Schindler, et al. -- incl., <mark>Hans-Walter Rix</mark>, <mark>Fabian Walter</mark> |\n",
       "|*Appeared on*| *2022-12-09*|\n",
       "|*Comments*| *ApJ accepted, 40 pages, 19 Figures*|\n",
       "|**Abstract**| We present the $z\\!\\approx\\!6$ type-1 quasar luminosity function (QLF) based on the Pan-STARRS1 (PS1) quasar survey. The PS1 sample includes 125 quasars at $z\\approx5.7-6.2$ with $-28\\lesssim M_{1450}\\lesssim-25$. Complemented by 48 fainter quasars from the SHELLQs survey, we evaluate the $z\\approx6$ QLF over $-28\\lesssim M_{1450}\\lesssim-22$. Adopting a double power law with an exponential evolution of the quasar density ($\\Phi(z)\\propto10^{k(z-6)}$; $k=-0.7$), we use a maximum likelihood method to model our data. We find a break magnitude of $M^*=-26.38_{-0.60}^{+0.79}\\,\\text{mag}$, a faint end slope of $\\alpha=-1.70_{-0.19}^{+0.29}$, and a steep bright end slope with $\\beta=-3.84_{-1.21}^{+0.63}$. % Based on our new QLF model we determine the quasar comoving spatial density at $z\\!\\approx\\!6$ to be $n( M_{1450}<-26)=1.16_{-0.12}^{+0.13}\\,\\text{cGpc}^{-3}$. In comparison with the literature, we find the quasar density to evolve with a constant value of $k\\approx-0.7$ from $z\\approx7$ to $z\\approx4$. % Additionally, we derive an ionizing emissivity of $\\epsilon_{912}(z=6) =7.23_{-1.02}^{+1.65}\\times 10^{22}\\,\\text{erg}\\,\\text{s}^{-1}\\text{Hz}^{-1}\\text{cMpc}^{-3}$ based on the QLF measurement. Given standard assumptions and the recent measurement of the mean free path of Becker et al. (2021) at $z\\approx6$ we calculate an HI photoionizing rate of $\\Gamma_{\\text{HI}}(z{=}6) \\approx 6 \\times10^{-16}\\,\\text{s}^{-1}$, strongly disfavoring a dominant role of quasars in hydrogen reionization. |\n",
       "|<p style=\"color:green\"> **ERROR** </p>| <p style=\"color:green\">affiliation error: mpia.affiliation_verifications: 'Heidelberg' keyword not found.</p> |"
      ],
      "text/plain": [
       "<IPython.core.display.Markdown object>"
      ]
     },
     "metadata": {},
     "output_type": "display_data"
    },
    {
     "data": {
      "text/markdown": [
       "\n",
       "|||\n",
       "|---:|:---|\n",
       "| [![arXiv](https://img.shields.io/badge/arXiv-arXiv:2212.04181-b31b1b.svg)](https://arxiv.org/abs/arXiv:2212.04181) | **Optical flux and spectral variability of BL Lacertae during its  historical high outburst in 2020**  |\n",
       "|| Nibedita Kalita, et al. -- incl., <mark>Lang Cui</mark> |\n",
       "|*Appeared on*| *2022-12-09*|\n",
       "|*Comments*| *15 pages, 3 tables, 8 figures. Accepted for publication in ApJ*|\n",
       "|**Abstract**| BL Lacertae had undergone a series of historical high flux activity over a year, from August 2020 in the optical to VHE $\\gamma$-rays. In this paper, we report on optical flux and spectral variability of the first historical maxima outburst event during October-November in g, r and i bands with the 1.26m telescope at Xinglong observatory, China. We detected significant intranight variations with amplitude rising up to $\\sim 30$%, when the fastest variability timescale is found to be a few tens of minutes, giving an emitting region size of the order $10^{-3}$ pc, which corresponds to $\\sim 100$ Schwarzschild radius of the central black hole, likely coming from some jet mini-structures. Unlike on intranight timescale, a clear frequency dependent pattern along with symmetric timescales ($\\sim$ 11d) of flux variation are detected on long timescale. The spectral evolution was predominated by flattening of the spectra with increasing brightness i.e., a bluer-when-brighter trend in 96% of the cases. On the night before the outburst peak, the color indices clustered in two distinct branches in color--magnitude diagram within a period of $\\sim$ 6 hours that is connected to a hard-soft-hard spectral evolution trend extracted from time-resolved spectra. Such trend has never seen in BL Lac or any other blazars before to the best of our knowledge. The results obtained in this study can be explained in the context of shock induced particle acceleration or magnetic re-connection in the jet where turbulent processes most likely resulted the asymmetric flux variation on nightly timescale. |\n",
       "|<p style=\"color:green\"> **ERROR** </p>| <p style=\"color:green\">affiliation error: mpia.affiliation_verifications: 'Heidelberg' keyword not found.</p> |"
      ],
      "text/plain": [
       "<IPython.core.display.Markdown object>"
      ]
     },
     "metadata": {},
     "output_type": "display_data"
    },
    {
     "data": {
      "text/markdown": [
       "\n",
       "|||\n",
       "|---:|:---|\n",
       "| [![arXiv](https://img.shields.io/badge/arXiv-arXiv:2212.04236-b31b1b.svg)](https://arxiv.org/abs/arXiv:2212.04236) | **Heavy-element Accretion by Proto-Jupiter in a Massive Planetesimal Disk,  Revisited**  |\n",
       "|| Sho Shibata, <mark>Ravit Helled</mark>, Hiroshi Kobayashi |\n",
       "|*Appeared on*| *2022-12-09*|\n",
       "|*Comments*| *20 pages, 17 figures, accepted for publication in MNRAS*|\n",
       "|**Abstract**| Planetesimal accretion is a key source for heavy-element enrichment in giant planets. It has been suggested that Jupiter's enriched envelope is a result of planetesimal accretion during its growth assuming it formed in a massive planetesimal disk. In this study, we simulate Jupiter's formation in this scenario. We assume in-situ formation and perform N-body simulations to infer the solid accretion rate. We find that tens-Earth masses of planetesimals can be captured by proto-Jupiter during the rapid gas accretion phase. However, if several embryos are formed near Jupiter's core, which is an expected outcome in the case of a massive planetesimal disk, scattering from the embryos increases the eccentricity and inclination of planetesimals and therefore significantly reduces the accretion efficiency. We also compare our results with published semi-analytical models and show that these models cannot reproduce the N-body simulations especially when the planetesimal disk has a large eccentricity and inclination. We show that when the dynamical evolution of planetesimals is carefully modelled, the total mass of captured planetesimals $M_\\mathrm{cap,tot}$ is $2 M_\\oplus \\lesssim M_\\mathrm{cap,tot}\\lesssim 18 M_\\oplus$. The metallicity of Jupiter's envelope can be explained by the planetesimal accretion in our massive disk model despite the low accretion efficiency coming from the high eccentricity and inclination of planetesimals. Our study demonstrates the importance of detailed modelling of planetesimal accretion during the planetary growth and its implications to the heavy-element mass in gaseous planets. |\n",
       "|<p style=\"color:green\"> **ERROR** </p>| <p style=\"color:green\">affiliation error: mpia.affiliation_verifications: 'Heidelberg' keyword not found.</p> |"
      ],
      "text/plain": [
       "<IPython.core.display.Markdown object>"
      ]
     },
     "metadata": {},
     "output_type": "display_data"
    },
    {
     "data": {
      "text/markdown": [
       "\n",
       "|||\n",
       "|---:|:---|\n",
       "| [![arXiv](https://img.shields.io/badge/arXiv-arXiv:2212.04294-b31b1b.svg)](https://arxiv.org/abs/arXiv:2212.04294) | **Cosmic tidal reconstruction in redshift space**  |\n",
       "|| Shi-Hui Zang, Hong-Ming Zhu, Marcel Schmittfull, <mark>Ue-Li Pen</mark> |\n",
       "|*Appeared on*| *2022-12-09*|\n",
       "|*Comments*| *18 pages, 11 figures*|\n",
       "|**Abstract**| The gravitational coupling between large- and small-scale density perturbations leads to anisotropic distortions to the local small-scale matter fluctuations. Such local anisotropic distortions can be used to reconstruct the large-scale matter distribution, known as tidal reconstruction. In this paper, we apply the tidal reconstruction methods to simulated galaxies in redshift space. We find that redshift-space distortions lead to anisotropic reconstruction results. While the reconstructed radial modes are more noisy mainly due to the small-scale velocity dispersion, the transverse modes are still reconstructed with high fidelity, well correlated with the original large-scale density modes. The bias of the reconstructed field at large scales shows a simple angular dependence which can be described by a form similar to the linear redshift-space distortion. The noise power spectrum is nearly isotropic and scale-independent on large scales. This makes the reconstructed tides field an ideal tracer for cosmic variance cancellation and multi-tracer analysis and has profound implications for future 21~cm intensity mapping surveys. |\n",
       "|<p style=\"color:green\"> **ERROR** </p>| <p style=\"color:green\">affiliation error: mpia.affiliation_verifications: 'Heidelberg' keyword not found.</p> |"
      ],
      "text/plain": [
       "<IPython.core.display.Markdown object>"
      ]
     },
     "metadata": {},
     "output_type": "display_data"
    },
    {
     "data": {
      "text/markdown": [
       "\n",
       "|||\n",
       "|---:|:---|\n",
       "| [![arXiv](https://img.shields.io/badge/arXiv-arXiv:2212.04306-b31b1b.svg)](https://arxiv.org/abs/arXiv:2212.04306) | **Cosmic Ray Electrons Accounting for the North Polar Spur and the  Acceleration Efficiency of Weak Shocks**  |\n",
       "|| <mark>Guobin Mou</mark>, Jianhao Wu, Yoshiaki Sofue |\n",
       "|*Appeared on*| *2022-12-09*|\n",
       "|*Comments*| *5 pages, 3 figures, submitted. Comments are welcome!*|\n",
       "|**Abstract**| The parameters of cosmic ray electrons (CRe) and the strength of magnetic field are crucial for studying the particle acceleration of shocks. The recent discovery of eROSITA bubbles suggests that the well-known NPS/Loop I should be a 10-kpc sized relic in the Galactic halo instead of a small local structure near the Sun. By deriving the energy density of CRe and magnetic field strength accounting for the NPS, unprecedentedly precise parameter constraints on particle acceleration for weak shocks in the halo medium can be provided. The parameters of CRe and magnetic field can be derived independently by modeling the gamma-ray and the radio data of the NPS via inverse Compton scattering and synchrotron emission, respectively. Our main results are: (1), the energy density of CRe is $(2-5)\\times 10^{-14}$ erg cm-3, and the spectral index is $p\\simeq 2.0\\pm 0.1$ below the cooling break energy of $\\sim 4$ GeV; (2), the magnetic field strength is 4 $\\mu$G; (3), the shock acceleration efficiency of CRe is close to 1%. Given the Mach number of 1.5, the high acceleration efficiency and flat spectrum of CRe suggest that re-acceleration of preexisting relativistic electrons should exist in the NPS. In addition, the cooling break of $\\sim$ 4 GeV suggests that the cooling timescale is $10^7$ yr, in agreement with the age of the eROSITA bubbles. |\n",
       "|<p style=\"color:green\"> **ERROR** </p>| <p style=\"color:green\">affiliation error: mpia.affiliation_verifications: 'Heidelberg' keyword not found.</p> |"
      ],
      "text/plain": [
       "<IPython.core.display.Markdown object>"
      ]
     },
     "metadata": {},
     "output_type": "display_data"
    },
    {
     "data": {
      "text/markdown": [
       "\n",
       "|||\n",
       "|---:|:---|\n",
       "| [![arXiv](https://img.shields.io/badge/arXiv-arXiv:2212.04307-b31b1b.svg)](https://arxiv.org/abs/arXiv:2212.04307) | **Discovery of TOI-1260d and the characterisation of the multi-planet  system**  |\n",
       "|| Kristine W. F. Lam, et al. -- incl., <mark>M. B. Davies</mark>, <mark>M. Guedel</mark>, <mark>K. Heng</mark> |\n",
       "|*Appeared on*| *2022-12-09*|\n",
       "|*Comments*| *18 pages, 10 figures, accepted for publication in MNRAS*|\n",
       "|**Abstract**| We report the discovery of a third planet transiting the star TOI-1260, previously known to host two transiting sub-Neptune planets with orbital periods of 3.127 and 7.493 days, respectively. The nature of the third transiting planet with a 16.6-day orbit is supported by ground-based follow-up observations, including time-series photometry, high-angular resolution images, spectroscopy, and archival imagery. Precise photometric monitoring with CHEOPS allows to improve the constraints on the parameters of the system, improving our knowledge on their composition. The improved radii of TOI-1260b, TOI-1260c are $2.36 \\pm 0.06 \\rm R_{\\oplus}$, $2.82 \\pm 0.08 \\rm R_{\\oplus}$, respectively while the newly discovered third planet has a radius of $3.09 \\pm 0.09 \\rm R_{\\oplus}$. The radius uncertainties are in the range of 3\\%, allowing a precise interpretation of the interior structure of the three planets. Our planet interior composition model suggests that all three planets in the TOI-1260 system contains some fraction of gas. The innermost planet TOI-1260b has most likely lost all of its primordial hydrogen-dominated envelope. Planets c and d were also likely to have experienced significant loss of atmospheric through escape, but to a lesser extent compared to planet b. |\n",
       "|<p style=\"color:green\"> **ERROR** </p>| <p style=\"color:green\">affiliation error: mpia.affiliation_verifications: 'Heidelberg' keyword not found.</p> |"
      ],
      "text/plain": [
       "<IPython.core.display.Markdown object>"
      ]
     },
     "metadata": {},
     "output_type": "display_data"
    },
    {
     "data": {
      "text/markdown": [
       "\n",
       "|||\n",
       "|---:|:---|\n",
       "| [![arXiv](https://img.shields.io/badge/arXiv-arXiv:2212.04390-b31b1b.svg)](https://arxiv.org/abs/arXiv:2212.04390) | **Constraining surface properties of asteroid (162173) Ryugu from  numerical simulations of Hayabusa2 mission impact experiment**  |\n",
       "|| Martin Jutzi, et al. -- incl., <mark>Yun Zhang</mark> |\n",
       "|*Appeared on*| *2022-12-09*|\n",
       "|*Comments*| **|\n",
       "|**Abstract**| The Hayabusa2 mission impact experiment on asteroid Ryugu created an unexpectedly large crater. The associated regime of low-gravity, low-strength cratering remained largely unexplored so far, because these impact conditions cannot be re-created in laboratory experiments on Earth. Here we show that the target cohesion may be very low and the impact probably occurred in the transitional cratering regime, between strength and gravity. For such conditions, our numerical simulations are able to reproduce the outcome of the impact on Ryugu, including the effects of boulders originally located near the impact point. Consistent with most recent analysis of Ryugu and Bennu, cratering scaling-laws derived from our results suggest that surfaces of small asteroids must be very young. However, our results also show that the cratering efficiency can be strongly affected by the presence of a very small amount of cohesion. Consequently, the varying ages of different geological surface units on Ryugu may be due to the influence of cohesion. |\n",
       "|<p style=\"color:green\"> **ERROR** </p>| <p style=\"color:green\">affiliation error: mpia.affiliation_verifications: 'Heidelberg' keyword not found.</p> |"
      ],
      "text/plain": [
       "<IPython.core.display.Markdown object>"
      ]
     },
     "metadata": {},
     "output_type": "display_data"
    },
    {
     "data": {
      "text/markdown": [
       "\n",
       "|||\n",
       "|---:|:---|\n",
       "| [![arXiv](https://img.shields.io/badge/arXiv-arXiv:2212.04411-b31b1b.svg)](https://arxiv.org/abs/arXiv:2212.04411) | **Bimodal Star Formation in Simulations of Strongly Magnetized Giant  Molecular Clouds**  |\n",
       "|| Ronan Hix, <mark>Chong-Chong He</mark>, Massimo Ricotti |\n",
       "|*Appeared on*| *2022-12-09*|\n",
       "|*Comments*| *14 Pages, 10 Figures, Submitted to MNRAS*|\n",
       "|**Abstract**| We present the results of a set of radiation magnetohydrodynamic simulations of turbulent molecular clouds in which we vary the initial strength of the magnetic field within a range ($1 \\lesssim \\mu \\lesssim 5$) consistent with observations of local giant molecular clouds (GMCs). We find that as we increase the strength of the magnetic field, star formation transitions from unimodal (the baseline case, $\\mu=5$, with a single burst of star formation and Salpeter IMF) to bimodal. This effect is clearest in the most strongly magnetized GMCs ($\\mu=1$): a first burst of star formation with duration, intensity and IMF comparable to the baseline case, is followed by a second star formation episode in which only low-mass stars are formed. Overall, due to the second burst of star formation, the strongly magnetized case results in a longer star formation period and a higher efficiency of star formation. The second burst is produced by gas that is not expelled by radiative feedback, instead remaining trapped in the GMC by the large-scale B-field, producing a nearly one-dimensional flow of gas along the field lines. The trapped gas has a turbulent and magnetic topology that differs from that of the first phase and strongly suppresses gas accretion onto protostellar cores, reducing their masses. We speculate that this star formation bimodality may be an important ingredient to understand the origin of multiple stellar populations observed in massive globular clusters. |\n",
       "|<p style=\"color:green\"> **ERROR** </p>| <p style=\"color:green\">affiliation error: mpia.affiliation_verifications: 'Heidelberg' keyword not found.</p> |"
      ],
      "text/plain": [
       "<IPython.core.display.Markdown object>"
      ]
     },
     "metadata": {},
     "output_type": "display_data"
    },
    {
     "data": {
      "text/markdown": [
       "\n",
       "|||\n",
       "|---:|:---|\n",
       "| [![arXiv](https://img.shields.io/badge/arXiv-arXiv:2212.04455-b31b1b.svg)](https://arxiv.org/abs/arXiv:2212.04455) | **XMM-Newton and Chandra observations of the candidate Fermi-LAT pulsar  4FGL J1015.5-6030**  |\n",
       "|| Jeremy Hare, et al. -- incl., <mark>George G. Pavlov</mark> |\n",
       "|*Appeared on*| *2022-12-09*|\n",
       "|*Comments*| *Submitted to ApJ*|\n",
       "|**Abstract**| 4FGL J1015.5-6030 is an unidentified Fermi-LAT source hosting a bright, extended X-ray source whose X-ray spectrum is consistent with that of a young pulsar, yet no pulsations have been found. Here we report on XMM-Newton timing and Chandra imaging observations of the X-ray counterpart of 4FGL J1015.5-6030. We find no significant periodicity from the source and place a 3$\\sigma$ upper-limit on its pulsed fraction of 34$\\%$. The Chandra observations resolve the point source from the extended emission. We find that the point source's spectrum is well fit by a blackbody model, with temperature $kT=0.205\\pm0.009$ keV, plus a weak power-law component, which is consistent with a thermally emitting neutron star with a magnetospheric component. The extended emission spans angular scales of a few arcseconds up to about 30$''$ from the point source and its spectrum is well fit by a power-law model with a photon index $\\Gamma=1.70\\pm0.05$. The extended emission's spectrum and 0.5-10 keV luminosity of 4$\\times10^{32}$ erg s$^{-1}$ (at a plausible distance of 2 kpc) are consistent with that of a pulsar wind nebula. Based on a comparison to other GeV and X-ray pulsars, we find that this putative pulsar is likely a middle-aged (i.e., $\\tau\\sim 0.1$--1 Myr) radio-quiet pulsar with $\\dot{E}\\sim10^{34}-10^{35}$ erg s$^{-1}$. |\n",
       "|<p style=\"color:green\"> **ERROR** </p>| <p style=\"color:green\">affiliation error: mpia.affiliation_verifications: 'Heidelberg' keyword not found.</p> |"
      ],
      "text/plain": [
       "<IPython.core.display.Markdown object>"
      ]
     },
     "metadata": {},
     "output_type": "display_data"
    },
    {
     "data": {
      "text/markdown": [
       "\n",
       "|||\n",
       "|---:|:---|\n",
       "| [![arXiv](https://img.shields.io/badge/arXiv-arXiv:2212.04485-b31b1b.svg)](https://arxiv.org/abs/arXiv:2212.04485) | **A roadmap to cosmological parameter analysis with third-order shear  statistics II: Analytic covariance estimate**  |\n",
       "|| <mark>Laila Linke</mark>, <mark>Sven Heydenreich</mark>, Pierre A. Burger, Peter Schneider |\n",
       "|*Appeared on*| *2022-12-09*|\n",
       "|*Comments*| *21 pages + appendix, 15 figures, 1 table; submitted to Astronomy & Astrophysics*|\n",
       "|**Abstract**| Third-order weak lensing statistics are a promising tool for cosmological analyses since they extract cosmological information in the non-Gaussianity of the cosmic large-scale structure. However, such analyses require precise and accurate models for the covariance. In this second paper of a series on third-order weak lensing statistics, we derive and validate an analytic model for the covariance of the third-order aperture statistics $\\langle M_\\mathrm{ap}^3\\rangle$. We derive the covariance model from a real-space estimator for $\\langle M_\\mathrm{ap}^3\\rangle$. We validate the model by comparing it to estimates from simulated Gaussian random fields (GRF) and two sets of N-body simulations. Finally, we perform mock cosmological analyses with the model covariance and the simulation estimate to compare the resulting parameter constraints. We find good agreement between the model and the simulations, both for the GRF and the $N$-body simulations. The figure-of-merit in the $S_8$-$\\Omega_\\mathrm{m}$ plane from our covariance model is within 3\\% of the one obtained from the simulated covariances. We also show that our model, which is based on an estimator using convergence maps, can be used to obtain upper and lower bounds for the covariance of an estimator based on three-point shear correlation functions. This second estimator is required for realistic survey data. In our derivation, we find that the $\\langle M_\\mathrm{ap}^3\\rangle$ covariance cannot be obtained from the bispectrum covariance and that it includes several `finite-field terms' that do not scale with the inverse survey area. Our covariance model is sufficiently accurate for analysing stage III surveys. Covariances for statistics in Fourier space cannot always be straightforwardly converted into covariance for real-space statistics. The modelling code is available at https://github.com/sheydenreich/threepoint/releases/ . |\n",
       "|<p style=\"color:green\"> **ERROR** </p>| <p style=\"color:green\">affiliation error: mpia.affiliation_verifications: 'Heidelberg' keyword not found.</p> |"
      ],
      "text/plain": [
       "<IPython.core.display.Markdown object>"
      ]
     },
     "metadata": {},
     "output_type": "display_data"
    },
    {
     "data": {
      "text/markdown": [
       "\n",
       "|||\n",
       "|---:|:---|\n",
       "| [![arXiv](https://img.shields.io/badge/arXiv-arXiv:2212.04151-b31b1b.svg)](https://arxiv.org/abs/arXiv:2212.04151) | **Photometric and Structural Parameters of Newly Discovered Nuclear Star  Clusters in Local Volume Galaxies**  |\n",
       "|| Nils Hoyer, et al. -- incl., <mark>Nadine Neumayer</mark>, <mark>Jenny E. Greene</mark> |\n",
       "|*Appeared on*| *2022-12-09*|\n",
       "|*Comments*| *19 pages, 12 figures, 5 tables. Resubmitted to MNRAS*|\n",
       "|**Abstract**| We use high-resolution Hubble Space Telescope imaging data of dwarf galaxies in the Local Volume ($\\lesssim 11$ Mpc) to parameterise 19 newly discovered nuclear star clusters (NSCs). Most of the clusters have stellar masses of $M_{\\star}^{nsc} \\lesssim 10^6$ M$_{\\odot}$ and compare to Galactic globular clusters in terms of ellipticity, effective radius, stellar mass, and surface density. The clusters are modelled with a S\\'ersic profile and their surface brightness evaluated at the effective radius reveals a tight positive correlation to the host galaxy stellar mass. Our data also indicate an increase in slope of the density profiles with increasing mass, perhaps indicating an increasing role for in-situ star formation in more massive hosts. We evaluate the scaling relation between the clusters and their host galaxy stellar mass to find an environmental dependence: for NSCs in field galaxies, the slope of the relation is $\\alpha = 0.82^{+0.08}_{-0.08}$ whereas $\\alpha = 0.55^{+0.06}_{-0.05}$ for dwarfs in the core of the Virgo cluster. Restricting the fit for the cluster to $M_{\\star}^{gal} \\geq 10^{6.5}$ M$_{\\odot}$ yields $\\alpha = 0.70^{+0.08}_{-0.07}$, in agreement with the field environment within the $1\\sigma$ interval. The environmental dependence is due to the lowest-mass nucleated galaxies and we speculate that this is either due to an increased number of progenitor globular clusters merging to become an NSC, or due to the formation of more massive globular clusters in dense environments, depending on the initial globular cluster mass function. Our results clearly corroborate recent results in that there exists a tight connection between NSCs and globular clusters in dwarf galaxies. |\n",
       "|<p style=\"color:red\"> **ERROR** </p>| <p style=\"color:red\">latex error Could not find figure density_mass.pdf</p> |"
      ],
      "text/plain": [
       "<IPython.core.display.Markdown object>"
      ]
     },
     "metadata": {},
     "output_type": "display_data"
    },
    {
     "data": {
      "text/markdown": [
       "\n",
       "|||\n",
       "|---:|:---|\n",
       "| [![arXiv](https://img.shields.io/badge/arXiv-arXiv:2212.04480-b31b1b.svg)](https://arxiv.org/abs/arXiv:2212.04480) | **Discovery and properties of the earliest galaxies with confirmed  distances**  |\n",
       "|| B. E. Robertson, et al. -- incl., <mark>H.-W. Rix</mark>, <mark>A. de Graaff</mark> |\n",
       "|*Appeared on*| *2022-12-09*|\n",
       "|*Comments*| *Submitted November 17, 2022*|\n",
       "|**Abstract**| Surveys with James Webb Space Telescope (JWST) have discovered candidate galaxies in the first 400 Myr of cosmic time. The properties of these distant galaxies provide initial conditions for understanding early galaxy formation and cosmic reionisation. Preliminary indications have suggested these candidate galaxies may be more massive and abundant than previously thought. However, without spectroscopic confirmation of their distances to constrain their intrinsic brightnesses, their inferred properties remain uncertain. Here we report on four galaxies located in the JWST Advanced Deep Extragalactic Survey (JADES) Near-Infrared Camera (NIRCam) imaging with photometric redshifts $z\\sim10-13$ subsequently confirmed by JADES JWST Near- Infrared Spectrograph (NIRSpec) observations. These galaxies include the first redshift $z>12$ systems both discovered and spectroscopically confirmed by JWST. Using stellar population modelling, we find the galaxies typically contain a hundred million solar masses in stars, in stellar populations that are less than one hundred million years old. The moderate star formation rates and compact sizes suggest elevated star formation rate surface densities, a key indicator of their formation pathways. Taken together, these measurements show that the first galaxies contributing to cosmic reionisation formed rapidly and with intense internal radiation fields. |\n",
       "|<p style=\"color:red\"> **ERROR** </p>| <p style=\"color:red\">latex error not a gzip file</p> |"
      ],
      "text/plain": [
       "<IPython.core.display.Markdown object>"
      ]
     },
     "metadata": {},
     "output_type": "display_data"
    },
    {
     "data": {
      "text/markdown": [
       "\n",
       "|||\n",
       "|---:|:---|\n",
       "| [![arXiv](https://img.shields.io/badge/arXiv-arXiv:2212.04452-b31b1b.svg)](https://arxiv.org/abs/arXiv:2212.04452) | **The Pan-STARRS1 z>5.6 quasar survey II: Discovery of 55 Quasars at  5.6<z<6.5**  |\n",
       "|| Eduardo Banados, et al. -- incl., <mark>Romain A. Meyer</mark>, <mark>Fabian Walter</mark>, <mark>Joseph F. Hennawi</mark>, <mark>Yana Khusanova</mark>, <mark>Hans-Walter Rix</mark>, <mark>Joseph Simon</mark>, <mark>Zhang-Liang Xie</mark> |\n",
       "|*Appeared on*| *2022-12-09*|\n",
       "|*Comments*| *Version after addressing referee report. See companion paper by Schindler et al*|\n",
       "|**Abstract**| The identification of bright quasars at z>6 enables detailed studies of supermassive black holes, massive galaxies, structure formation, and the state of the intergalactic medium within the first billion years after the Big Bang. We present the spectroscopic confirmation of 55 quasars at redshifts 5.6<z<6.5 and UV magnitudes -24.5<M1450<-28.5 identified in the optical Pan-STARRS1 and near-IR VIKING surveys (48 and 7, respectively). Five of these quasars have been independently discovered in other studies. The quasar sample shows an extensive range of physical properties, including 17 objects with weak emission lines, ten broad absorption line quasars, and five with strong radio emission (radio-loud quasars). There are also a few notable sources in the sample, including a blazar candidate at z=6.23, a likely gravitationally lensed quasar at z=6.41, and a z=5.84 quasar in the outskirts of the nearby (D~3 Mpc) spiral galaxy M81. The blazar candidate remains undetected in NOEMA observations of the [CII] and underlying emission, implying a star-formation rate <30-70 Msun/yr. A significant fraction of the quasars presented here lies at the foundation of the first measurement of the z~6 quasar luminosity function from Pan-STARRS1 (introduced in a companion paper). The quasars presented here will enable further studies of the high-redshift quasar population with current and future facilities. |\n",
       "|<p style=\"color:red\"> **ERROR** </p>| <p style=\"color:red\">latex error sequence item 0: expected str instance, TexNode found</p> |"
      ],
      "text/plain": [
       "<IPython.core.display.Markdown object>"
      ]
     },
     "metadata": {},
     "output_type": "display_data"
    }
   ],
   "source": [
    "import datetime\n",
    "today = str(datetime.date.today())\n",
    "logfile = f\"_build/html/logs/log-{today}.md\"\n",
    "\n",
    "\n",
    "with open(logfile, 'w') as logs:\n",
    "    # Success\n",
    "    logs.write(f'# Arxiv on Deck 2: Logs - {today}\\n\\n')\n",
    "    logs.write(\"\"\"* Arxiv had {0:,d} new papers\\n\"\"\".format(len(new_papers)))\n",
    "    logs.write(\"\"\"    * {0:,d} with possible author matches\\n\\n\"\"\".format(len(candidates)))\n",
    "    logs.write(\"## Sucessful papers\\n\\n\")\n",
    "    display(Markdown(\"## Successful papers\"))\n",
    "    success = [k[0] for k in documents]\n",
    "    for candid in candidates:\n",
    "        if candid['identifier'].split(':')[-1] in success:\n",
    "            display(candid)\n",
    "            logs.write(candid.generate_markdown_text() + '\\n\\n')\n",
    "\n",
    "    ## failed\n",
    "    logs.write(\"## Failed papers\\n\\n\")\n",
    "    display(Markdown(\"## Failed papers\"))\n",
    "    failed = sorted(failed, key=lambda x: x[1])\n",
    "    current_reason = \"\"\n",
    "    for paper, reason in failed:\n",
    "        if 'affiliation' in reason:\n",
    "            color = 'green'\n",
    "        else:\n",
    "            color = 'red'\n",
    "        data = Markdown(\n",
    "                paper.generate_markdown_text() + \n",
    "                f'\\n|<p style=\"color:{color:s}\"> **ERROR** </p>| <p style=\"color:{color:s}\">{reason:s}</p> |'\n",
    "               )\n",
    "        if reason != current_reason:\n",
    "            logs.write(f'### {reason:s} \\n\\n')\n",
    "            current_reason = reason\n",
    "        logs.write(data.data + '\\n\\n')\n",
    "        \n",
    "        # only display here the important errors (all in logs)\n",
    "        # if color in ('red',):\n",
    "        display(data)"
   ]
  },
  {
   "cell_type": "markdown",
   "id": "472d20ee",
   "metadata": {
    "papermill": {
     "duration": 0.01306,
     "end_time": "2022-12-09T04:12:28.487462",
     "exception": false,
     "start_time": "2022-12-09T04:12:28.474402",
     "status": "completed"
    },
    "tags": []
   },
   "source": [
    "## Export documents\n",
    "\n",
    "We now write the .md files and export relevant images"
   ]
  },
  {
   "cell_type": "code",
   "execution_count": 7,
   "id": "d426aed9",
   "metadata": {
    "execution": {
     "iopub.execute_input": "2022-12-09T04:12:28.516534Z",
     "iopub.status.busy": "2022-12-09T04:12:28.516077Z",
     "iopub.status.idle": "2022-12-09T04:12:28.525997Z",
     "shell.execute_reply": "2022-12-09T04:12:28.525128Z"
    },
    "papermill": {
     "duration": 0.027873,
     "end_time": "2022-12-09T04:12:28.528606",
     "exception": false,
     "start_time": "2022-12-09T04:12:28.500733",
     "status": "completed"
    },
    "tags": []
   },
   "outputs": [],
   "source": [
    "def export_markdown_summary(md: str, md_fname:str, directory: str):\n",
    "    \"\"\"Export MD document and associated relevant images\"\"\"\n",
    "    import os\n",
    "    import shutil\n",
    "    import re\n",
    "\n",
    "    if (os.path.exists(directory) and not os.path.isdir(directory)):\n",
    "        raise RuntimeError(f\"a non-directory file exists with name {directory:s}\")\n",
    "\n",
    "    if (not os.path.exists(directory)):\n",
    "        print(f\"creating directory {directory:s}\")\n",
    "        os.mkdir(directory)\n",
    "\n",
    "    fig_fnames = (re.compile(r'\\[Fig.*\\]\\((.*)\\)').findall(md) + \n",
    "                  re.compile(r'\\<img src=\"([^>\\s]*)\"[^>]*/>').findall(md))\n",
    "    for fname in fig_fnames:\n",
    "        if 'http' in fname:\n",
    "            # No need to copy online figures\n",
    "            continue\n",
    "        destdir = os.path.join(directory, os.path.dirname(fname))\n",
    "        destfname = os.path.join(destdir, os.path.basename(fname))\n",
    "        try:\n",
    "            os.makedirs(destdir)\n",
    "        except FileExistsError:\n",
    "            pass\n",
    "        shutil.copy(fname, destfname)\n",
    "    with open(os.path.join(directory, md_fname), 'w') as fout:\n",
    "        fout.write(md)\n",
    "    print(\"exported in \", os.path.join(directory, md_fname))\n",
    "    [print(\"    + \" + os.path.join(directory,fk)) for fk in fig_fnames]"
   ]
  },
  {
   "cell_type": "code",
   "execution_count": 8,
   "id": "014d04a4",
   "metadata": {
    "execution": {
     "iopub.execute_input": "2022-12-09T04:12:28.559261Z",
     "iopub.status.busy": "2022-12-09T04:12:28.558569Z",
     "iopub.status.idle": "2022-12-09T04:12:28.567516Z",
     "shell.execute_reply": "2022-12-09T04:12:28.566720Z"
    },
    "papermill": {
     "duration": 0.026286,
     "end_time": "2022-12-09T04:12:28.570202",
     "exception": false,
     "start_time": "2022-12-09T04:12:28.543916",
     "status": "completed"
    },
    "tags": []
   },
   "outputs": [
    {
     "name": "stdout",
     "output_type": "stream",
     "text": [
      "exported in  _build/html/2212.04026.md\n",
      "    + _build/html/tmp_2212.04026/./figures/magnification_HFF.png\n",
      "    + _build/html/tmp_2212.04026/./figures/depth_area.png\n",
      "    + _build/html/tmp_2212.04026/./figures/Footprints.png\n"
     ]
    }
   ],
   "source": [
    "for paper_id, md in documents:\n",
    "    export_markdown_summary(md, f\"{paper_id:s}.md\", '_build/html/')"
   ]
  },
  {
   "cell_type": "markdown",
   "id": "f087a0a7",
   "metadata": {
    "papermill": {
     "duration": 0.013159,
     "end_time": "2022-12-09T04:12:28.598243",
     "exception": false,
     "start_time": "2022-12-09T04:12:28.585084",
     "status": "completed"
    },
    "tags": []
   },
   "source": [
    "## Display the papers\n",
    "\n",
    "Not necessary but allows for a quick check."
   ]
  },
  {
   "cell_type": "code",
   "execution_count": 9,
   "id": "fd25f625",
   "metadata": {
    "execution": {
     "iopub.execute_input": "2022-12-09T04:12:28.661212Z",
     "iopub.status.busy": "2022-12-09T04:12:28.660670Z",
     "iopub.status.idle": "2022-12-09T04:12:28.667032Z",
     "shell.execute_reply": "2022-12-09T04:12:28.666243Z"
    },
    "papermill": {
     "duration": 0.057362,
     "end_time": "2022-12-09T04:12:28.669729",
     "exception": false,
     "start_time": "2022-12-09T04:12:28.612367",
     "status": "completed"
    },
    "scrolled": false,
    "tags": []
   },
   "outputs": [
    {
     "data": {
      "text/markdown": [
       "<div class=\"macros\" style=\"visibility:hidden;\">\n",
       "$\\newcommand{\\ensuremath}{}$\n",
       "$\\newcommand{\\xspace}{}$\n",
       "$\\newcommand{\\object}[1]{\\texttt{#1}}$\n",
       "$\\newcommand{\\farcs}{{.}''}$\n",
       "$\\newcommand{\\farcm}{{.}'}$\n",
       "$\\newcommand{\\arcsec}{''}$\n",
       "$\\newcommand{\\arcmin}{'}$\n",
       "$\\newcommand{\\ion}[2]{#1#2}$\n",
       "$\\newcommand{\\textsc}[1]{\\textrm{#1}}$\n",
       "$\\newcommand{\\hl}[1]{\\textrm{#1}}$\n",
       "$\\newcommand{\\url}[1]{\\href{#1}{#1}}$\n",
       "$\\newcommand{\\dodoi}[1]{doi:~\\href{http://doi.org/#1}{\\nolinkurl{#1}}}$\n",
       "$\\newcommand{\\doeprint}[1]{\\href{http://ascl.net/#1}{\\nolinkurl{http://ascl.net/#1}}}$\n",
       "$\\newcommand{\\doarXiv}[1]{\\href{https://arxiv.org/abs/#1}{\\nolinkurl{https://arxiv.org/abs/#1}}}$\n",
       "$\\newcommand{\\vdag}{(v)^\\dagger}$\n",
       "$\\newcommand$\n",
       "$\\newcommand$\n",
       "$\\newcommand{\\minus}{\\scalebox{0.5}[1.0]{-}}$\n",
       "$\\newcommand{\\}{natexlab}$</div>\n",
       "\n",
       "<div class=\"macros\" style=\"visibility:hidden;\">\n",
       "$\\newcommand{$\\ensuremath$}{}$\n",
       "$\\newcommand{$\\xspace$}{}$\n",
       "$\\newcommand{$\\object$}[1]{\\texttt{#1}}$\n",
       "$\\newcommand{$\\farcs$}{{.}''}$\n",
       "$\\newcommand{$\\farcm$}{{.}'}$\n",
       "$\\newcommand{$\\arcsec$}{''}$\n",
       "$\\newcommand{$\\arcmin$}{'}$\n",
       "$\\newcommand{$\\ion$}[2]{#1#2}$\n",
       "$\\newcommand{$\\textsc$}[1]{\\textrm{#1}}$\n",
       "$\\newcommand{$\\hl$}[1]{\\textrm{#1}}$\n",
       "$\\newcommand{$\\url$}[1]{\\href{#1}{#1}}$\n",
       "$\\newcommand{$\\dodoi$}[1]{doi:~\\href{http://doi.org/#1}{\\nolinkurl{#1}}}$\n",
       "$\\newcommand{$\\doeprint$}[1]{\\href{http://ascl.net/#1}{\\nolinkurl{http://ascl.net/#1}}}$\n",
       "$\\newcommand{$\\doarXiv$}[1]{\\href{https://arxiv.org/abs/#1}{\\nolinkurl{https://arxiv.org/abs/#1}}}$\n",
       "$\\newcommand{$\\vdag$}{(v)^\\dagger}$\n",
       "$\\newcommand$\n",
       "$\\newcommand$\n",
       "$\\newcommand{$\\minus$}{\\scalebox{0.5}[1.0]{-}}$\n",
       "$\\newcommand{\\}{natexlab}$</div>\n",
       "\n",
       "\n",
       "\n",
       "<div id=\"title\">\n",
       "\n",
       "#  NIRSpec and NIRCam ObserVations before the Epoch of Reionization\n",
       "\n",
       "</div>\n",
       "<div id=\"comments\">\n",
       "\n",
       "[![arXiv](https://img.shields.io/badge/arXiv-2212.04026-b31b1b.svg)](https://arxiv.org/abs/2212.04026)<mark>Appeared on: 2022-12-09</mark> - _17 pages, 8 figures, 4 tables, submitted to ApJ, comments welcome_\n",
       "\n",
       "</div>\n",
       "<div id=\"authors\">\n",
       "\n",
       "Rachel Bezanson, et al. -- incl., <mark><mark>Natascha Forster Schreiber</mark></mark>, <mark><mark>Anna de Graaff</mark></mark>, <mark><mark>Jenny E. Greene</mark></mark>\n",
       "\n",
       "</div>\n",
       "<div id=\"abstract\">\n",
       "\n",
       "**Abstract:** In this paper we describe the survey design for the Ultradeep NIRSpec and NIRCam ObserVations before the Epoch of Reionization (UNCOVER) Cycle 1\\JWSTTreasury program, which executed its early imaging component in November 2022. The UNCOVER survey includes ultradeep ($\\sim29-30\\mathrm{AB}$) imaging of$\\sim$45 arcmin$^2$on and around the well-studied Abell 2744 galaxy cluster at$z=0.308$and will follow-up${\\sim}500$galaxies with extremely deep low-resolution spectroscopy with the NIRSpec/PRISM during the summer of 2023. We describe the science goals, survey design, target selection, and planned data releases. We also present and characterize the depths of the first NIRCam imaging mosaic, highlighting previously unparalleled resolved and ultradeep 2-4 micron imaging of known objects in the field. The UNCOVER primary NIRCam mosaic spans 28.8 arcmin$^2$in seven filters (F115W, F150W, F200W, F277W, F356W, F410M, F444W) and 16.8 arcmin$^2$in our NIRISS parallel (F115W, F150W, F200W, F356W, and F444W).  To maximize early community use of the Treasury data set, we publicly release full reduced mosaics of public\\JWSTimaging including 45 arcmin$^2$NIRCam and 17 arcmin$^2$NIRISS mosaics on and around the Abell 2744 cluster, including the Hubble Frontier Field primary and parallel footprints.\n",
       "\n",
       "</div>\n",
       "\n",
       "<div id=\"div_fig1\">\n",
       "\n",
       "<img src=\"tmp_2212.04026/./figures/magnification_HFF.png\" alt=\"Fig2\" width=\"100%\"/>\n",
       "\n",
       "**Figure 2. -** Gravitational lensing magnification contours in Abell 2744 are extremely extended, due to the complex structure of the multiple cluster cores. The above curves are taken from the CATS v4.1 \\citet{jauzac:15} model, originally used for our proposal. The UNCOVER NIRCam mosaic (dark purple) spans the $\\mu=2$ curve, which is significantly larger than the Hubble Frontier Field (black dashed outline). By extending to the northern subclumps and the UNCOVER mosaic will enable a more detailed mapping of that region. The UNCOVER-based lens model will be published soon (L. Furtak et al. in preparation).  (*fig:magnification*)\n",
       "\n",
       "</div>\n",
       "<div id=\"div_fig2\">\n",
       "\n",
       "<img src=\"tmp_2212.04026/./figures/depth_area.png\" alt=\"Fig1\" width=\"100%\"/>\n",
       "\n",
       "**Figure 1. -** The UNCOVER combined imaging (purple star) probes a unique regime in the context of \\HST extragalactic ultradeep fields (blue circles) and \\JWST Cycle 1 imaging surveys (red squares); without lensing it probes deeper than previous \\HST surveys and wide field programs. Gravitational lensing (approximate lensing vectors indicated by dashed arrows) from the Abell 2744 allows UNCOVER imaging to probe the intrinsically faintest objects of any \\JWST project in Cycle 1. We note that lensing vectors are approximate, as the UNCOVER survey includes lensed and unlensed areas of Abell 2744. (*fig:deptharea*)\n",
       "\n",
       "</div>\n",
       "<div id=\"div_fig3\">\n",
       "\n",
       "<img src=\"tmp_2212.04026/./figures/Footprints.png\" alt=\"Fig3\" width=\"100%\"/>\n",
       "\n",
       "**Figure 3. -** The Abell 2744 cluster has extensive deep optical/NIR (\\HST and \\emph{VLT}/MUSE) and \\JWST coverage. The \\JWST/UNCOVER footprints (purple) along with \\HST imaging (blue) and \\emph{VLT}/MUSE deep datacube (green, center) and \\JWST Cycle 1 imaging and spectroscopy (red, right) against imaging from the Legacy Imaging survey \\citep{dey:19}. In the left panel, we highlight the detailed layout of the UNCOVER dataset, differentiating between the first epoch (dark purple, NIRCam primary imaging and NIRISS parallel imaging) and second epoch (planned NIRSpec spectroscopy and NIRCam parallel imaging, light purple). The NIRCam mosaic is designed to match the $\\mu=2$ magnification curve (see Fig.\\ref{fig:magnification}). The footprints of the NIRSpec spectroscopy are provisional and subject to target selection. (*fig:footprints*)\n",
       "\n",
       "</div>"
      ],
      "text/plain": [
       "<IPython.core.display.Markdown object>"
      ]
     },
     "metadata": {},
     "output_type": "display_data"
    }
   ],
   "source": [
    "[display(Markdown(k[1])) for k in documents];"
   ]
  },
  {
   "cell_type": "markdown",
   "id": "873873a4",
   "metadata": {
    "papermill": {
     "duration": 0.014445,
     "end_time": "2022-12-09T04:12:28.698493",
     "exception": false,
     "start_time": "2022-12-09T04:12:28.684048",
     "status": "completed"
    },
    "tags": []
   },
   "source": [
    "# Create HTML index"
   ]
  },
  {
   "cell_type": "code",
   "execution_count": 10,
   "id": "cf665672",
   "metadata": {
    "execution": {
     "iopub.execute_input": "2022-12-09T04:12:28.733716Z",
     "iopub.status.busy": "2022-12-09T04:12:28.733371Z",
     "iopub.status.idle": "2022-12-09T04:12:28.745270Z",
     "shell.execute_reply": "2022-12-09T04:12:28.744502Z"
    },
    "papermill": {
     "duration": 0.030115,
     "end_time": "2022-12-09T04:12:28.747074",
     "exception": false,
     "start_time": "2022-12-09T04:12:28.716959",
     "status": "completed"
    },
    "tags": []
   },
   "outputs": [
    {
     "name": "stdout",
     "output_type": "stream",
     "text": [
      "130  publications in the last 7 days.\n",
      "\t _build/html/2212.04026.md\n",
      "\t _build/html/2212.03563.md\n",
      "\t _build/html/2212.03514.md\n",
      "\t _build/html/2212.02667.md\n",
      "\t _build/html/2212.02627.md\n",
      "\t _build/html/2212.02235.md\n",
      "\t _build/html/2212.01707.md\n",
      "\t _build/html/2212.01526.md\n",
      "\t _build/html/2212.01397.md\n",
      "\t _build/html/2212.01291.md\n",
      "\t _build/html/2212.01281.md\n",
      "\t _build/html/2212.00812.md\n",
      "\t _build/html/2212.00811.md\n",
      "\t _build/html/2212.00806.md\n",
      "\t _build/html/2212.00047.md\n",
      "\t _build/html/2212.00032.md\n",
      "\t _build/html/2211.16996.md\n",
      "\t _build/html/2211.16510.md\n",
      "\t _build/html/2211.16123.md\n",
      "\t _build/html/2211.15816.md\n",
      "\t _build/html/2211.15698.md\n",
      "\t _build/html/2211.15576.md\n",
      "\t _build/html/2211.15434.md\n",
      "\t _build/html/2211.15288.md\n",
      "\t _build/html/2211.15224.md\n",
      "\t _build/html/2211.14543.md\n",
      "\t _build/html/2211.14330.md\n",
      "\t _build/html/2211.14322.md\n",
      "\t _build/html/2211.14132.md\n",
      "\t _build/html/2211.13811.md\n",
      "\t _build/html/2211.13426.md\n",
      "\t _build/html/2211.13318.md\n",
      "\t _build/html/2211.13146.md\n",
      "\t _build/html/2211.12613.md\n",
      "\t _build/html/2211.11767.md\n",
      "\t _build/html/2211.09840.md\n",
      "\t _build/html/2211.09217.md\n",
      "\t _build/html/2211.08493.md\n",
      "\t _build/html/2211.08487.md\n",
      "\t _build/html/2211.08294.md\n",
      "\t _build/html/2211.07667.md\n",
      "\t _build/html/2211.07659.md\n",
      "\t _build/html/2211.06454.md\n",
      "\t _build/html/2211.06205.md\n",
      "\t _build/html/2211.06194.md\n",
      "\t _build/html/2211.05022.md\n",
      "\t _build/html/2211.04048.md\n",
      "\t _build/html/2211.03641.md\n",
      "\t _build/html/2211.02502.md\n",
      "\t _build/html/2211.01474.md\n",
      "\t _build/html/2211.00667.md\n",
      "\t _build/html/2211.00657.md\n",
      "\t _build/html/2211.00087.md\n",
      "\t _build/html/2211.00036.md\n",
      "\t _build/html/2211.00020.md\n",
      "\t _build/html/2211.00010.md\n",
      "\t _build/html/2210.17434.md\n",
      "\t _build/html/2210.12412.md\n",
      "\t _build/html/2210.11926.md\n",
      "\t _build/html/2210.11551.md\n",
      "\t _build/html/2210.11103.md\n",
      "\t _build/html/2210.10707.md\n",
      "\t _build/html/2210.09930.md\n",
      "\t _build/html/2210.08996.md\n",
      "\t _build/html/2210.08517.md\n",
      "\t _build/html/2210.08510.md\n",
      "\t _build/html/2210.08078.md\n",
      "\t _build/html/2210.06504.md\n",
      "\t _build/html/2210.05695.md\n",
      "\t _build/html/2210.05595.md\n",
      "\t _build/html/2210.05505.md\n",
      "\t _build/html/2210.04721.md\n",
      "\t _build/html/2210.03615.md\n",
      "\t _build/html/2210.01811.md\n",
      "\t _build/html/2210.01809.md\n",
      "\t _build/html/2210.01556.md\n",
      "\t _build/html/2210.00863.md\n",
      "\t _build/html/2210.00560.md\n",
      "\t _build/html/2209.15403.md\n",
      "\t _build/html/2209.15110.md\n",
      "\t _build/html/2209.14410.md\n",
      "\t _build/html/2209.14396.md\n",
      "\t _build/html/2209.13717.md\n",
      "\t _build/html/2209.13336.md\n",
      "\t _build/html/2209.12906.md\n",
      "\t _build/html/2209.11781.md\n",
      "\t _build/html/2209.11602.md\n",
      "\t _build/html/2209.11248.md\n",
      "\t _build/html/2209.11096.md\n",
      "\t _build/html/2209.10618.md\n",
      "\t _build/html/2209.09914.md\n",
      "\t _build/html/2209.09823.md\n",
      "\t _build/html/2209.08242.md\n",
      "\t _build/html/2209.08120.md\n",
      "\t _build/html/2209.08106.md\n",
      "\t _build/html/2209.07962.md\n",
      "\t _build/html/2209.07931.md\n",
      "\t _build/html/2209.06833.md\n",
      "\t _build/html/2209.05814.md\n",
      "\t _build/html/2209.05593.md\n",
      "\t _build/html/2209.04304.md\n",
      "\t _build/html/2209.03367.md\n",
      "\t _build/html/2209.02872.md\n",
      "\t _build/html/2209.02725.md\n",
      "\t _build/html/2209.02722.md\n",
      "\t _build/html/2209.02092.md\n",
      "\t _build/html/2209.01125.md\n",
      "\t _build/html/2209.00828.md\n",
      "\t _build/html/2209.00363.md\n",
      "\t _build/html/2208.14927.md\n",
      "\t _build/html/2208.09335.md\n",
      "\t _build/html/2208.08872.md\n",
      "\t _build/html/2204.06393.md\n",
      "\t _build/html/2204.03335.md\n",
      "\t _build/html/2204.03253.md\n",
      "\t _build/html/2204.02998.md\n",
      "\t _build/html/2204.02109.md\n",
      "\t _build/html/2204.02017.md\n",
      "\t _build/html/2204.01824.md\n",
      "\t _build/html/2204.01758.md\n",
      "\t _build/html/2204.01245.md\n",
      "\t _build/html/2204.00793.md\n",
      "\t _build/html/2204.00342.md\n",
      "\t _build/html/2203.16959.md\n",
      "\t _build/html/2203.16856.md\n",
      "\t _build/html/2203.16735.md\n",
      "\t _build/html/2203.16734.md\n",
      "\t _build/html/2203.16504.md\n",
      "\t _build/html/2203.15822.md\n",
      "\t _build/html/2203.15811.md\n"
     ]
    }
   ],
   "source": [
    "from datetime import datetime, timedelta, timezone\n",
    "from glob import glob\n",
    "\n",
    "files = glob('_build/html/*.md')\n",
    "days = 7\n",
    "now = datetime.today()\n",
    "res = []\n",
    "for fk in files:\n",
    "    stat_result = os.stat(fk).st_ctime\n",
    "    modified = datetime.fromtimestamp(stat_result, tz=timezone.utc).replace(tzinfo=None)\n",
    "    delta = now.today() - modified\n",
    "    if delta <= timedelta(days=days):\n",
    "        res.append((delta.seconds, fk))\n",
    "res = [k[1] for k in reversed(sorted(res, key=lambda x:x[1]))]\n",
    "npub = len(res)\n",
    "print(len(res), f\" publications in the last {days:d} days.\")\n",
    "[ print('\\t', k) for k in res ];"
   ]
  },
  {
   "cell_type": "code",
   "execution_count": 11,
   "id": "52ca0208",
   "metadata": {
    "execution": {
     "iopub.execute_input": "2022-12-09T04:12:28.776964Z",
     "iopub.status.busy": "2022-12-09T04:12:28.776552Z",
     "iopub.status.idle": "2022-12-09T04:12:28.784255Z",
     "shell.execute_reply": "2022-12-09T04:12:28.783440Z"
    },
    "papermill": {
     "duration": 0.024218,
     "end_time": "2022-12-09T04:12:28.786027",
     "exception": false,
     "start_time": "2022-12-09T04:12:28.761809",
     "status": "completed"
    },
    "scrolled": false,
    "tags": []
   },
   "outputs": [],
   "source": [
    "def create_carousel(npub=4):\n",
    "    \"\"\" Generate the HTML code for a carousel with `npub` slides \"\"\"\n",
    "    carousel = [\"\"\"<section class=\"carousel\" aria-label=\"Gallery\">\"\"\",\n",
    "                \"\"\"  <ol class=\"carousel__viewport\">\"\"\",\n",
    "    ]\n",
    "    for k in range(1, npub + 1):\n",
    "        prev_ = k - 1\n",
    "        next_ = k + 1\n",
    "        if prev_ <= 0:\n",
    "            prev_ = npub\n",
    "        if next_ > npub:\n",
    "            next_ = 1\n",
    "        text  = f\"\"\"    <li id=\"carousel__slide{k}\" tabindex=\"0\" class=\"carousel__slide\">\\n\"\"\"\n",
    "        text += f\"\"\"       <div class=\"carousel__snapper\">\\n\"\"\"\n",
    "        text += f\"\"\"         <a href=\"#carousel__slide{prev_}\" class=\"carousel__prev\">Go to previous slide</a>\\n\"\"\"\n",
    "        text += f\"\"\"         <a href=\"#carousel__slide{next_}\" class=\"carousel__next\">Go to next slide</a>\\n\"\"\"\n",
    "        text += f\"\"\"         <div id=\"slide{k}_content\" class=\"md_view\" >Content {k}</div>\\n\"\"\"\n",
    "        text += f\"\"\"       </div>\\n\"\"\"\n",
    "        text += f\"\"\"    </li>\"\"\"\n",
    "        carousel.append(text)\n",
    "\n",
    "    carousel.extend([\n",
    "        \"\"\"  </ol>\"\"\",\n",
    "        \"\"\"  <aside class=\"carousel__navigation\">\"\"\",\n",
    "        \"\"\"    <ol class=\"carousel__navigation-list\">\"\"\"])\n",
    "\n",
    "    for k in range(1, npub + 1):\n",
    "        text  = f\"\"\"      <li class=\"carousel__navigation-item\">\\n\"\"\"\n",
    "        text += f\"\"\"        <a href=\"#carousel__slide{k}\" class=\"carousel__navigation-button\">Go to {k}</a>\\n\"\"\"\n",
    "        text += f\"\"\"      </li>\"\"\"\n",
    "        carousel.append(text)\n",
    "    carousel.extend([\"\"\"    </ol>\"\"\", \"\"\"  </aside>\"\"\", \"\"\"</section>\"\"\"])\n",
    "\n",
    "    return '\\n'.join(carousel)"
   ]
  },
  {
   "cell_type": "code",
   "execution_count": 12,
   "id": "a6eac5b6",
   "metadata": {
    "execution": {
     "iopub.execute_input": "2022-12-09T04:12:28.818217Z",
     "iopub.status.busy": "2022-12-09T04:12:28.817852Z",
     "iopub.status.idle": "2022-12-09T04:12:28.828285Z",
     "shell.execute_reply": "2022-12-09T04:12:28.827467Z"
    },
    "papermill": {
     "duration": 0.028983,
     "end_time": "2022-12-09T04:12:28.830293",
     "exception": false,
     "start_time": "2022-12-09T04:12:28.801310",
     "status": "completed"
    },
    "scrolled": false,
    "tags": []
   },
   "outputs": [],
   "source": [
    "carousel = create_carousel(npub)\n",
    "docs = ', '.join(['\"{0:s}\"'.format(k.split('/')[-1]) for k in res])\n",
    "slides = ', '.join([f'\"slide{k}_content\"' for k in range(1, npub + 1)])\n",
    "\n",
    "script = f\"\"\"\n",
    "const docs = [{docs}]\n",
    "\n",
    "const slides = [{slides}]\n",
    "\"\"\" + \"\"\"\n",
    "async function run() {\n",
    "    for (let i = 0; i < docs.length; i++) {\n",
    "        let file = await fetch(docs[i]);\n",
    "        let text = await file.text()\n",
    "        document.getElementById(slides[i]).innerHTML =\n",
    "            marked.parse(text);\n",
    "    }\n",
    "    hljs.highlightAll();\n",
    "}\n",
    "run()\n",
    "\"\"\"\n",
    "\n",
    "page = f\"\"\"<!doctype html>\n",
    "<html lang=\"en\">\n",
    "\n",
    "<head>\n",
    "  <meta charset=\"utf-8\">\n",
    "  <meta name=\"viewport\" content=\"width=device-width, initial-scale=1\">\n",
    "  <!-- Bootstrap CSS -->\n",
    "  <link href=\"https://cdn.jsdelivr.net/npm/bootstrap@5.0.2/dist/css/bootstrap.min.css\" rel=\"stylesheet\"\n",
    "   integrity=\"sha384-EVSTQN3/azprG1Anm3QDgpJLIm9Nao0Yz1ztcQTwFspd3yD65VohhpuuCOmLASjC\" crossorigin=\"anonymous\">\n",
    "  <!-- highlight.js CSS -->\n",
    "  <link rel=\"stylesheet\" href=\"https://cdnjs.cloudflare.com/ajax/libs/highlight.js/11.1.0/styles/default.min.css\">\n",
    "  <!-- Mathjax 3 -->\n",
    "  <script type=\"text/javascript\" id=\"MathJax-config\" src=\"mathjax_config.js\"> </script>\n",
    "  <script type=\"text/javascript\" id=\"MathJax-script\" async \n",
    "    src=\"https://cdn.jsdelivr.net/npm/mathjax@3/es5/tex-mml-chtml.js\">\n",
    "  </script>\n",
    "  <link rel=\"stylesheet\" href=\"index_carousel.css\">\n",
    "  <link rel=\"icon\" type=\"image/x-icon\" href=\"https://www.mpia.de/assets/touch-icon-32x32-a66937bcebc4e8894ebff1f41a366c7c7220fd97a38869ee0f2db65a9f59b6c1.png\">\n",
    "  <title>MPIA Arxiv on deck!</title>\n",
    "</head>\n",
    "\n",
    "<body>\n",
    "  <div id=\"header\"> <img src=\"header_banner.png\" width=\"100%\"></div>\n",
    "  <div id=\"suptitle\"> 7-day archives </div>\n",
    "  <div id=\"info\">\n",
    "    <img src=\"https://pngimg.com/uploads/github/github_PNG58.png\" height=30rem></img>\n",
    "    <a href=https://github.com/mpi-astronomy/arxiv_display style=\"color:black;\">github/mpi-astronomy/arxiv_display</a> \n",
    "  </div>\n",
    "  {carousel:s}\n",
    "</body>\n",
    "\n",
    "<!-- Render Markdown -->\n",
    "\n",
    "<body>\n",
    "  <!-- highlight.js: https://highlightjs.org/download/ -->\n",
    "  <script src=\"https://cdnjs.cloudflare.com/ajax/libs/highlight.js/11.5.0/highlight.min.js\"></script>\n",
    "  <!-- marked.js -->\n",
    "  <script src=\"https://cdn.jsdelivr.net/npm/marked/marked.min.js\"></script>\n",
    "  <script>{script:s}</script>\n",
    "</body>\n",
    "</html>\n",
    "\"\"\"\n",
    "with open(\"_build/html/index_7days.html\", 'w') as fout:\n",
    "    fout.write(page)"
   ]
  },
  {
   "cell_type": "markdown",
   "id": "1cebacbc",
   "metadata": {
    "papermill": {
     "duration": 0.017647,
     "end_time": "2022-12-09T04:12:28.863581",
     "exception": false,
     "start_time": "2022-12-09T04:12:28.845934",
     "status": "completed"
    },
    "tags": []
   },
   "source": [
    "# Debugging papers"
   ]
  },
  {
   "cell_type": "raw",
   "id": "debe7cc6",
   "metadata": {
    "papermill": {
     "duration": 0.019503,
     "end_time": "2022-12-09T04:12:28.898483",
     "exception": false,
     "start_time": "2022-12-09T04:12:28.878980",
     "status": "completed"
    },
    "tags": []
   },
   "source": [
    "raise NotImplementedError(\"Manual Stop\")"
   ]
  },
  {
   "cell_type": "raw",
   "id": "eb169192",
   "metadata": {
    "papermill": {
     "duration": 0.021299,
     "end_time": "2022-12-09T04:12:28.949619",
     "exception": false,
     "start_time": "2022-12-09T04:12:28.928320",
     "status": "completed"
    },
    "scrolled": true,
    "tags": []
   },
   "source": [
    "from IPython.display import display, Markdown\n",
    "from TexSoup import TexSoup\n",
    "import re\n",
    "\n",
    "def bracket_error(source: str):\n",
    "    \"\"\" Find problematic portions of the document \"\"\"\n",
    "    \n",
    "    print(\"len(source)\", len(source))\n",
    "    \n",
    "    # Checking header\n",
    "    begin_doc = next(re.finditer(r'\\\\begin\\{document\\}', doc.source)).span()[1]\n",
    "    header = source[:begin_doc]\n",
    "    text = header + r\"\\n\\end{document}\"\n",
    "\n",
    "    try:\n",
    "        # print(\"Header check... \", end='')\n",
    "        TexSoup(text)\n",
    "        display(Markdown(f\"**[OK]** - Header\"))\n",
    "    except:\n",
    "        raise RuntimeError(\"Error in the header\")\n",
    "        \n",
    "    # Check the text per section until the end.\n",
    "    # Do not stop and try them all.\n",
    "    \n",
    "    problematic_text = []\n",
    "    \n",
    "    sections = ([(0, begin_doc, 'until first section')] + \n",
    "                [(g.span()[0], g.span()[1], g.group()) for g in re.finditer(r'\\\\section\\{.*\\}', source)] +\n",
    "                [(g.span()[0], g.span()[1], g.group()) for g in re.finditer(r'\\\\begin\\{appendix\\}', source)]\n",
    "               )\n",
    "    sections.append([len(source), len(source), 'end'])\n",
    "    \n",
    "    sections = sorted(sections, key=lambda x: x[0])\n",
    "    \n",
    "    prev_pos, prev_name = (0, 'header')\n",
    "    parsed = []\n",
    "    \n",
    "    for span, span_end, name in sections:\n",
    "\n",
    "        if span - prev_pos <= 0:\n",
    "            continue\n",
    "            \n",
    "\n",
    "        text = source[prev_pos:span]\n",
    "        if prev_pos > begin_doc:\n",
    "            text = r\"\\n\\begin{document}\" + text + r\"\\n\\end{document}\"\n",
    "        else:\n",
    "            text = text + r\"\\n\\end{document}\"\n",
    "        try:\n",
    "            #print(f\"{prev_pos}:{prev_name}-->{span}:{name} check... \", end='')\n",
    "            parsed.append(TexSoup(text, tolerance=1))  # allow not ending env\n",
    "            display(Markdown(f\"**[OK]** - *{prev_pos}*:{prev_name} &rarr; *{span}*:{name}\"))\n",
    "            # print(\"ok\")\n",
    "\n",
    "            prev_pos = span\n",
    "            prev_name = name\n",
    "        except:\n",
    "            # print(f\"error between {prev_pos} and {span}\")\n",
    "            display(Markdown(f\"**[ERR]** *{prev_pos}*:{prev_name} &rarr; *{span}*:{name}\"))\n",
    "            problematic_text.append((prev_pos, source[prev_pos:span]))\n",
    "            prev_pos = span\n",
    "            prev_name = name\n",
    "            # raise\n",
    "    return problematic_text, parsed\n",
    "\n",
    "\n",
    "def check_environment(text, offset=0):\n",
    "    \"\"\" Check environment \"\"\"\n",
    "    env = re.compile(r\"\\\\begin\\{(?P<env>.*)\\}(.*)\\\\end\\{(?P=env)\\}\", re.DOTALL)\n",
    "\n",
    "    for match in env.finditer(text):\n",
    "        beg, end = match.span()\n",
    "        beg += offset\n",
    "        end += offset\n",
    "        envname = match.groups()[0]\n",
    "        try:\n",
    "            latex.TexSoup(match.group())\n",
    "        except Exception as e:\n",
    "            display(e)\n",
    "            print(f\"Error in {envname:s} between {beg} and {end}\")\n",
    "            return match.groups()[1], beg, end"
   ]
  },
  {
   "cell_type": "raw",
   "id": "2315e835",
   "metadata": {
    "papermill": {
     "duration": 0.014632,
     "end_time": "2022-12-09T04:12:28.978908",
     "exception": false,
     "start_time": "2022-12-09T04:12:28.964276",
     "status": "completed"
    },
    "scrolled": false,
    "tags": []
   },
   "source": [
    "import importlib\n",
    "importlib.reload(latex)\n",
    "which = \"2204.03253\"\n",
    "paper_id = f'{which:s}'\n",
    "folder = f'tmp_{paper_id:s}'\n",
    "\n",
    "if not os.path.isdir(folder):\n",
    "    folder = retrieve_document_source(f\"{paper_id}\", f'tmp_{paper_id}')\n",
    "\n",
    "try:\n",
    "    doc = latex.LatexDocument(folder, validation=validation)    \n",
    "except AffiliationError as affilerror:\n",
    "    msg = f\"ArXiv:{paper_id:s} is not an MPIA paper... \" + str(affilerror)\n",
    "    print(msg)\n",
    "\n",
    "\n",
    "# Hack because sometimes author parsing does not work well\n",
    "if (len(doc.authors) != len(paper['authors'])):\n",
    "    doc._authors = paper['authors']\n",
    "if (doc.abstract) in (None, ''):\n",
    "    doc._abstract = paper['abstract']\n",
    "\n",
    "doc.comment = get_markdown_badge(paper_id) + \" _\" + paper['comments'] + \"_\"\n",
    "doc.highlight_authors_in_list(hl_list)\n",
    "\n",
    "full_md = doc.generate_markdown_text()"
   ]
  },
  {
   "cell_type": "raw",
   "id": "dd3781db",
   "metadata": {
    "papermill": {
     "duration": 0.013538,
     "end_time": "2022-12-09T04:12:29.006412",
     "exception": false,
     "start_time": "2022-12-09T04:12:28.992874",
     "status": "completed"
    },
    "scrolled": false,
    "tags": []
   },
   "source": [
    "doc"
   ]
  },
  {
   "cell_type": "raw",
   "id": "c6eed834",
   "metadata": {
    "papermill": {
     "duration": 0.014215,
     "end_time": "2022-12-09T04:12:29.035892",
     "exception": false,
     "start_time": "2022-12-09T04:12:29.021677",
     "status": "completed"
    },
    "tags": []
   },
   "source": [
    "# [check_environment(k) for k in bracket_error(doc.source)]\n",
    "_, _, a = latex.get_content_per_section(doc.source, verbose=True)\n",
    "if not a:\n",
    "    print(\"no issues per section\")\n",
    "for ak in a:\n",
    "    r = check_environment(ak[1], offset=ak[0])\n",
    "    print(r[1], r[2])\n",
    "    print(r[0])"
   ]
  },
  {
   "cell_type": "code",
   "execution_count": null,
   "id": "71ce768a",
   "metadata": {
    "papermill": {
     "duration": 0.020511,
     "end_time": "2022-12-09T04:12:29.069662",
     "exception": false,
     "start_time": "2022-12-09T04:12:29.049151",
     "status": "completed"
    },
    "tags": []
   },
   "outputs": [],
   "source": []
  }
 ],
 "metadata": {
  "kernelspec": {
   "display_name": "Python 3.10.6 64-bit",
   "language": "python",
   "name": "python3"
  },
  "language_info": {
   "codemirror_mode": {
    "name": "ipython",
    "version": 3
   },
   "file_extension": ".py",
   "mimetype": "text/x-python",
   "name": "python",
   "nbconvert_exporter": "python",
   "pygments_lexer": "ipython3",
   "version": "3.9.15"
  },
  "papermill": {
   "default_parameters": {},
   "duration": 258.617628,
   "end_time": "2022-12-09T04:12:29.505945",
   "environment_variables": {},
   "exception": null,
   "input_path": "MPIA daily digest.ipynb",
   "output_path": "log.ipynb",
   "parameters": {},
   "start_time": "2022-12-09T04:08:10.888317",
   "version": "2.4.0"
  },
  "vscode": {
   "interpreter": {
    "hash": "e7370f93d1d0cde622a1f8e1c04877d8463912d04d973331ad4851f04de6915a"
   }
  },
  "widgets": {
   "application/vnd.jupyter.widget-state+json": {
    "state": {
     "07376dd68f304d9bb499098ddafa81b7": {
      "model_module": "@jupyter-widgets/controls",
      "model_module_version": "2.0.0",
      "model_name": "HBoxModel",
      "state": {
       "_dom_classes": [],
       "_model_module": "@jupyter-widgets/controls",
       "_model_module_version": "2.0.0",
       "_model_name": "HBoxModel",
       "_view_count": null,
       "_view_module": "@jupyter-widgets/controls",
       "_view_module_version": "2.0.0",
       "_view_name": "HBoxView",
       "box_style": "",
       "children": [
        "IPY_MODEL_71b5caf60eed49a19aac911da410914c",
        "IPY_MODEL_158a81c71ca746db940ea39467c5daeb",
        "IPY_MODEL_fa2b737ef30245cc9527ec15470b22c8"
       ],
       "layout": "IPY_MODEL_b32b5895915747cbb2faa66fd2d90d9e",
       "tabbable": null,
       "tooltip": null
      }
     },
     "154a25153cdf47de9cf8c38a3c9a2434": {
      "model_module": "@jupyter-widgets/base",
      "model_module_version": "2.0.0",
      "model_name": "LayoutModel",
      "state": {
       "_model_module": "@jupyter-widgets/base",
       "_model_module_version": "2.0.0",
       "_model_name": "LayoutModel",
       "_view_count": null,
       "_view_module": "@jupyter-widgets/base",
       "_view_module_version": "2.0.0",
       "_view_name": "LayoutView",
       "align_content": null,
       "align_items": null,
       "align_self": null,
       "border_bottom": null,
       "border_left": null,
       "border_right": null,
       "border_top": null,
       "bottom": null,
       "display": null,
       "flex": null,
       "flex_flow": null,
       "grid_area": null,
       "grid_auto_columns": null,
       "grid_auto_flow": null,
       "grid_auto_rows": null,
       "grid_column": null,
       "grid_gap": null,
       "grid_row": null,
       "grid_template_areas": null,
       "grid_template_columns": null,
       "grid_template_rows": null,
       "height": null,
       "justify_content": null,
       "justify_items": null,
       "left": null,
       "margin": null,
       "max_height": null,
       "max_width": null,
       "min_height": null,
       "min_width": null,
       "object_fit": null,
       "object_position": null,
       "order": null,
       "overflow": null,
       "padding": null,
       "right": null,
       "top": null,
       "visibility": null,
       "width": null
      }
     },
     "158a81c71ca746db940ea39467c5daeb": {
      "model_module": "@jupyter-widgets/controls",
      "model_module_version": "2.0.0",
      "model_name": "FloatProgressModel",
      "state": {
       "_dom_classes": [],
       "_model_module": "@jupyter-widgets/controls",
       "_model_module_version": "2.0.0",
       "_model_name": "FloatProgressModel",
       "_view_count": null,
       "_view_module": "@jupyter-widgets/controls",
       "_view_module_version": "2.0.0",
       "_view_name": "ProgressView",
       "bar_style": "success",
       "description": "",
       "description_allow_html": false,
       "layout": "IPY_MODEL_7a64f2388d774a3c8cd5800604ba1a0c",
       "max": 32.0,
       "min": 0.0,
       "orientation": "horizontal",
       "style": "IPY_MODEL_1b6f912a5e4647a2a049b9ee46b414b6",
       "tabbable": null,
       "tooltip": null,
       "value": 32.0
      }
     },
     "1b6f912a5e4647a2a049b9ee46b414b6": {
      "model_module": "@jupyter-widgets/controls",
      "model_module_version": "2.0.0",
      "model_name": "ProgressStyleModel",
      "state": {
       "_model_module": "@jupyter-widgets/controls",
       "_model_module_version": "2.0.0",
       "_model_name": "ProgressStyleModel",
       "_view_count": null,
       "_view_module": "@jupyter-widgets/base",
       "_view_module_version": "2.0.0",
       "_view_name": "StyleView",
       "bar_color": null,
       "description_width": ""
      }
     },
     "1bde1f0aa71a403fb2613d5d7f0b2a12": {
      "model_module": "@jupyter-widgets/base",
      "model_module_version": "2.0.0",
      "model_name": "LayoutModel",
      "state": {
       "_model_module": "@jupyter-widgets/base",
       "_model_module_version": "2.0.0",
       "_model_name": "LayoutModel",
       "_view_count": null,
       "_view_module": "@jupyter-widgets/base",
       "_view_module_version": "2.0.0",
       "_view_name": "LayoutView",
       "align_content": null,
       "align_items": null,
       "align_self": null,
       "border_bottom": null,
       "border_left": null,
       "border_right": null,
       "border_top": null,
       "bottom": null,
       "display": null,
       "flex": null,
       "flex_flow": null,
       "grid_area": null,
       "grid_auto_columns": null,
       "grid_auto_flow": null,
       "grid_auto_rows": null,
       "grid_column": null,
       "grid_gap": null,
       "grid_row": null,
       "grid_template_areas": null,
       "grid_template_columns": null,
       "grid_template_rows": null,
       "height": null,
       "justify_content": null,
       "justify_items": null,
       "left": null,
       "margin": null,
       "max_height": null,
       "max_width": null,
       "min_height": null,
       "min_width": null,
       "object_fit": null,
       "object_position": null,
       "order": null,
       "overflow": null,
       "padding": null,
       "right": null,
       "top": null,
       "visibility": null,
       "width": null
      }
     },
     "1f866af2f12d4c019efab845dee7aa5d": {
      "model_module": "@jupyter-widgets/base",
      "model_module_version": "2.0.0",
      "model_name": "LayoutModel",
      "state": {
       "_model_module": "@jupyter-widgets/base",
       "_model_module_version": "2.0.0",
       "_model_name": "LayoutModel",
       "_view_count": null,
       "_view_module": "@jupyter-widgets/base",
       "_view_module_version": "2.0.0",
       "_view_name": "LayoutView",
       "align_content": null,
       "align_items": null,
       "align_self": null,
       "border_bottom": null,
       "border_left": null,
       "border_right": null,
       "border_top": null,
       "bottom": null,
       "display": null,
       "flex": null,
       "flex_flow": null,
       "grid_area": null,
       "grid_auto_columns": null,
       "grid_auto_flow": null,
       "grid_auto_rows": null,
       "grid_column": null,
       "grid_gap": null,
       "grid_row": null,
       "grid_template_areas": null,
       "grid_template_columns": null,
       "grid_template_rows": null,
       "height": null,
       "justify_content": null,
       "justify_items": null,
       "left": null,
       "margin": null,
       "max_height": null,
       "max_width": null,
       "min_height": null,
       "min_width": null,
       "object_fit": null,
       "object_position": null,
       "order": null,
       "overflow": null,
       "padding": null,
       "right": null,
       "top": null,
       "visibility": null,
       "width": null
      }
     },
     "48df184cece24faa96ee65346805e99e": {
      "model_module": "@jupyter-widgets/controls",
      "model_module_version": "2.0.0",
      "model_name": "HTMLModel",
      "state": {
       "_dom_classes": [],
       "_model_module": "@jupyter-widgets/controls",
       "_model_module_version": "2.0.0",
       "_model_name": "HTMLModel",
       "_view_count": null,
       "_view_module": "@jupyter-widgets/controls",
       "_view_module_version": "2.0.0",
       "_view_name": "HTMLView",
       "description": "",
       "description_allow_html": false,
       "layout": "IPY_MODEL_7ef9e6d00f73473fb53331e8fe7abbaa",
       "placeholder": "​",
       "style": "IPY_MODEL_843c8f988b1949de9b272a8355646b1a",
       "tabbable": null,
       "tooltip": null,
       "value": ""
      }
     },
     "57b9b926c5ec40fa970bb607c77504ef": {
      "model_module": "@jupyter-widgets/controls",
      "model_module_version": "2.0.0",
      "model_name": "HTMLStyleModel",
      "state": {
       "_model_module": "@jupyter-widgets/controls",
       "_model_module_version": "2.0.0",
       "_model_name": "HTMLStyleModel",
       "_view_count": null,
       "_view_module": "@jupyter-widgets/base",
       "_view_module_version": "2.0.0",
       "_view_name": "StyleView",
       "background": null,
       "description_width": "",
       "font_size": null,
       "text_color": null
      }
     },
     "71b5caf60eed49a19aac911da410914c": {
      "model_module": "@jupyter-widgets/controls",
      "model_module_version": "2.0.0",
      "model_name": "HTMLModel",
      "state": {
       "_dom_classes": [],
       "_model_module": "@jupyter-widgets/controls",
       "_model_module_version": "2.0.0",
       "_model_name": "HTMLModel",
       "_view_count": null,
       "_view_module": "@jupyter-widgets/controls",
       "_view_module_version": "2.0.0",
       "_view_name": "HTMLView",
       "description": "",
       "description_allow_html": false,
       "layout": "IPY_MODEL_7ef9e6d00f73473fb53331e8fe7abbaa",
       "placeholder": "​",
       "style": "IPY_MODEL_843c8f988b1949de9b272a8355646b1a",
       "tabbable": null,
       "tooltip": null,
       "value": "100%"
      }
     },
     "7a64f2388d774a3c8cd5800604ba1a0c": {
      "model_module": "@jupyter-widgets/base",
      "model_module_version": "2.0.0",
      "model_name": "LayoutModel",
      "state": {
       "_model_module": "@jupyter-widgets/base",
       "_model_module_version": "2.0.0",
       "_model_name": "LayoutModel",
       "_view_count": null,
       "_view_module": "@jupyter-widgets/base",
       "_view_module_version": "2.0.0",
       "_view_name": "LayoutView",
       "align_content": null,
       "align_items": null,
       "align_self": null,
       "border_bottom": null,
       "border_left": null,
       "border_right": null,
       "border_top": null,
       "bottom": null,
       "display": null,
       "flex": null,
       "flex_flow": null,
       "grid_area": null,
       "grid_auto_columns": null,
       "grid_auto_flow": null,
       "grid_auto_rows": null,
       "grid_column": null,
       "grid_gap": null,
       "grid_row": null,
       "grid_template_areas": null,
       "grid_template_columns": null,
       "grid_template_rows": null,
       "height": null,
       "justify_content": null,
       "justify_items": null,
       "left": null,
       "margin": null,
       "max_height": null,
       "max_width": null,
       "min_height": null,
       "min_width": null,
       "object_fit": null,
       "object_position": null,
       "order": null,
       "overflow": null,
       "padding": null,
       "right": null,
       "top": null,
       "visibility": null,
       "width": null
      }
     },
     "7ef9e6d00f73473fb53331e8fe7abbaa": {
      "model_module": "@jupyter-widgets/base",
      "model_module_version": "2.0.0",
      "model_name": "LayoutModel",
      "state": {
       "_model_module": "@jupyter-widgets/base",
       "_model_module_version": "2.0.0",
       "_model_name": "LayoutModel",
       "_view_count": null,
       "_view_module": "@jupyter-widgets/base",
       "_view_module_version": "2.0.0",
       "_view_name": "LayoutView",
       "align_content": null,
       "align_items": null,
       "align_self": null,
       "border_bottom": null,
       "border_left": null,
       "border_right": null,
       "border_top": null,
       "bottom": null,
       "display": null,
       "flex": null,
       "flex_flow": null,
       "grid_area": null,
       "grid_auto_columns": null,
       "grid_auto_flow": null,
       "grid_auto_rows": null,
       "grid_column": null,
       "grid_gap": null,
       "grid_row": null,
       "grid_template_areas": null,
       "grid_template_columns": null,
       "grid_template_rows": null,
       "height": null,
       "justify_content": null,
       "justify_items": null,
       "left": null,
       "margin": null,
       "max_height": null,
       "max_width": null,
       "min_height": null,
       "min_width": null,
       "object_fit": null,
       "object_position": null,
       "order": null,
       "overflow": null,
       "padding": null,
       "right": null,
       "top": null,
       "visibility": null,
       "width": null
      }
     },
     "843c8f988b1949de9b272a8355646b1a": {
      "model_module": "@jupyter-widgets/controls",
      "model_module_version": "2.0.0",
      "model_name": "HTMLStyleModel",
      "state": {
       "_model_module": "@jupyter-widgets/controls",
       "_model_module_version": "2.0.0",
       "_model_name": "HTMLStyleModel",
       "_view_count": null,
       "_view_module": "@jupyter-widgets/base",
       "_view_module_version": "2.0.0",
       "_view_name": "StyleView",
       "background": null,
       "description_width": "",
       "font_size": null,
       "text_color": null
      }
     },
     "a0de72f3ba8745949b8f84be775ca084": {
      "model_module": "@jupyter-widgets/controls",
      "model_module_version": "2.0.0",
      "model_name": "HTMLStyleModel",
      "state": {
       "_model_module": "@jupyter-widgets/controls",
       "_model_module_version": "2.0.0",
       "_model_name": "HTMLStyleModel",
       "_view_count": null,
       "_view_module": "@jupyter-widgets/base",
       "_view_module_version": "2.0.0",
       "_view_name": "StyleView",
       "background": null,
       "description_width": "",
       "font_size": null,
       "text_color": null
      }
     },
     "a4fced80e4a845df84d683ba5418a915": {
      "model_module": "@jupyter-widgets/base",
      "model_module_version": "2.0.0",
      "model_name": "LayoutModel",
      "state": {
       "_model_module": "@jupyter-widgets/base",
       "_model_module_version": "2.0.0",
       "_model_name": "LayoutModel",
       "_view_count": null,
       "_view_module": "@jupyter-widgets/base",
       "_view_module_version": "2.0.0",
       "_view_name": "LayoutView",
       "align_content": null,
       "align_items": null,
       "align_self": null,
       "border_bottom": null,
       "border_left": null,
       "border_right": null,
       "border_top": null,
       "bottom": null,
       "display": null,
       "flex": null,
       "flex_flow": null,
       "grid_area": null,
       "grid_auto_columns": null,
       "grid_auto_flow": null,
       "grid_auto_rows": null,
       "grid_column": null,
       "grid_gap": null,
       "grid_row": null,
       "grid_template_areas": null,
       "grid_template_columns": null,
       "grid_template_rows": null,
       "height": null,
       "justify_content": null,
       "justify_items": null,
       "left": null,
       "margin": null,
       "max_height": null,
       "max_width": null,
       "min_height": null,
       "min_width": null,
       "object_fit": null,
       "object_position": null,
       "order": null,
       "overflow": null,
       "padding": null,
       "right": null,
       "top": null,
       "visibility": null,
       "width": null
      }
     },
     "ad4409019dd441e1bdf8eee0f6e61637": {
      "model_module": "@jupyter-widgets/controls",
      "model_module_version": "2.0.0",
      "model_name": "ProgressStyleModel",
      "state": {
       "_model_module": "@jupyter-widgets/controls",
       "_model_module_version": "2.0.0",
       "_model_name": "ProgressStyleModel",
       "_view_count": null,
       "_view_module": "@jupyter-widgets/base",
       "_view_module_version": "2.0.0",
       "_view_name": "StyleView",
       "bar_color": null,
       "description_width": ""
      }
     },
     "b32b5895915747cbb2faa66fd2d90d9e": {
      "model_module": "@jupyter-widgets/base",
      "model_module_version": "2.0.0",
      "model_name": "LayoutModel",
      "state": {
       "_model_module": "@jupyter-widgets/base",
       "_model_module_version": "2.0.0",
       "_model_name": "LayoutModel",
       "_view_count": null,
       "_view_module": "@jupyter-widgets/base",
       "_view_module_version": "2.0.0",
       "_view_name": "LayoutView",
       "align_content": null,
       "align_items": null,
       "align_self": null,
       "border_bottom": null,
       "border_left": null,
       "border_right": null,
       "border_top": null,
       "bottom": null,
       "display": null,
       "flex": null,
       "flex_flow": null,
       "grid_area": null,
       "grid_auto_columns": null,
       "grid_auto_flow": null,
       "grid_auto_rows": null,
       "grid_column": null,
       "grid_gap": null,
       "grid_row": null,
       "grid_template_areas": null,
       "grid_template_columns": null,
       "grid_template_rows": null,
       "height": null,
       "justify_content": null,
       "justify_items": null,
       "left": null,
       "margin": null,
       "max_height": null,
       "max_width": null,
       "min_height": null,
       "min_width": null,
       "object_fit": null,
       "object_position": null,
       "order": null,
       "overflow": null,
       "padding": null,
       "right": null,
       "top": null,
       "visibility": null,
       "width": null
      }
     },
     "b7301ebb3bc34a4fa2237a6e44be7578": {
      "model_module": "@jupyter-widgets/base",
      "model_module_version": "2.0.0",
      "model_name": "LayoutModel",
      "state": {
       "_model_module": "@jupyter-widgets/base",
       "_model_module_version": "2.0.0",
       "_model_name": "LayoutModel",
       "_view_count": null,
       "_view_module": "@jupyter-widgets/base",
       "_view_module_version": "2.0.0",
       "_view_name": "LayoutView",
       "align_content": null,
       "align_items": null,
       "align_self": null,
       "border_bottom": null,
       "border_left": null,
       "border_right": null,
       "border_top": null,
       "bottom": null,
       "display": null,
       "flex": null,
       "flex_flow": null,
       "grid_area": null,
       "grid_auto_columns": null,
       "grid_auto_flow": null,
       "grid_auto_rows": null,
       "grid_column": null,
       "grid_gap": null,
       "grid_row": null,
       "grid_template_areas": null,
       "grid_template_columns": null,
       "grid_template_rows": null,
       "height": null,
       "justify_content": null,
       "justify_items": null,
       "left": null,
       "margin": null,
       "max_height": null,
       "max_width": null,
       "min_height": null,
       "min_width": null,
       "object_fit": null,
       "object_position": null,
       "order": null,
       "overflow": null,
       "padding": null,
       "right": null,
       "top": null,
       "visibility": null,
       "width": null
      }
     },
     "bcb8159ff02844dc95562ad6440eed78": {
      "model_module": "@jupyter-widgets/controls",
      "model_module_version": "2.0.0",
      "model_name": "HBoxModel",
      "state": {
       "_dom_classes": [],
       "_model_module": "@jupyter-widgets/controls",
       "_model_module_version": "2.0.0",
       "_model_name": "HBoxModel",
       "_view_count": null,
       "_view_module": "@jupyter-widgets/controls",
       "_view_module_version": "2.0.0",
       "_view_name": "HBoxView",
       "box_style": "",
       "children": [
        "IPY_MODEL_71b5caf60eed49a19aac911da410914c",
        "IPY_MODEL_158a81c71ca746db940ea39467c5daeb",
        "IPY_MODEL_fa2b737ef30245cc9527ec15470b22c8"
       ],
       "layout": "IPY_MODEL_b32b5895915747cbb2faa66fd2d90d9e",
       "tabbable": null,
       "tooltip": null
      }
     },
     "bf43a5c7d40e43c4b5b05d8b7bb264a6": {
      "model_module": "@jupyter-widgets/controls",
      "model_module_version": "2.0.0",
      "model_name": "FloatProgressModel",
      "state": {
       "_dom_classes": [],
       "_model_module": "@jupyter-widgets/controls",
       "_model_module_version": "2.0.0",
       "_model_name": "FloatProgressModel",
       "_view_count": null,
       "_view_module": "@jupyter-widgets/controls",
       "_view_module_version": "2.0.0",
       "_view_name": "ProgressView",
       "bar_style": "",
       "description": "",
       "description_allow_html": false,
       "layout": "IPY_MODEL_7a64f2388d774a3c8cd5800604ba1a0c",
       "max": 32.0,
       "min": 0.0,
       "orientation": "horizontal",
       "style": "IPY_MODEL_1b6f912a5e4647a2a049b9ee46b414b6",
       "tabbable": null,
       "tooltip": null,
       "value": 0.0
      }
     },
     "d5bcb35dd83e4d3db7f09c3797e22d00": {
      "model_module": "@jupyter-widgets/controls",
      "model_module_version": "2.0.0",
      "model_name": "HTMLStyleModel",
      "state": {
       "_model_module": "@jupyter-widgets/controls",
       "_model_module_version": "2.0.0",
       "_model_name": "HTMLStyleModel",
       "_view_count": null,
       "_view_module": "@jupyter-widgets/base",
       "_view_module_version": "2.0.0",
       "_view_name": "StyleView",
       "background": null,
       "description_width": "",
       "font_size": null,
       "text_color": null
      }
     },
     "f9405f8bb8124aa588b5d5b64c629748": {
      "model_module": "@jupyter-widgets/controls",
      "model_module_version": "2.0.0",
      "model_name": "HTMLModel",
      "state": {
       "_dom_classes": [],
       "_model_module": "@jupyter-widgets/controls",
       "_model_module_version": "2.0.0",
       "_model_name": "HTMLModel",
       "_view_count": null,
       "_view_module": "@jupyter-widgets/controls",
       "_view_module_version": "2.0.0",
       "_view_name": "HTMLView",
       "description": "",
       "description_allow_html": false,
       "layout": "IPY_MODEL_1f866af2f12d4c019efab845dee7aa5d",
       "placeholder": "​",
       "style": "IPY_MODEL_a0de72f3ba8745949b8f84be775ca084",
       "tabbable": null,
       "tooltip": null,
       "value": ""
      }
     },
     "fa2b737ef30245cc9527ec15470b22c8": {
      "model_module": "@jupyter-widgets/controls",
      "model_module_version": "2.0.0",
      "model_name": "HTMLModel",
      "state": {
       "_dom_classes": [],
       "_model_module": "@jupyter-widgets/controls",
       "_model_module_version": "2.0.0",
       "_model_name": "HTMLModel",
       "_view_count": null,
       "_view_module": "@jupyter-widgets/controls",
       "_view_module_version": "2.0.0",
       "_view_name": "HTMLView",
       "description": "",
       "description_allow_html": false,
       "layout": "IPY_MODEL_1f866af2f12d4c019efab845dee7aa5d",
       "placeholder": "​",
       "style": "IPY_MODEL_a0de72f3ba8745949b8f84be775ca084",
       "tabbable": null,
       "tooltip": null,
       "value": " 32/32 [03:46&lt;00:00,  4.83s/it]"
      }
     }
    },
    "version_major": 2,
    "version_minor": 0
   }
  }
 },
 "nbformat": 4,
 "nbformat_minor": 5
}