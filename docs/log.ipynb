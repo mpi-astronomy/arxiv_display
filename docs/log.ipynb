{
 "cells": [
  {
   "cell_type": "markdown",
   "id": "92bcb855",
   "metadata": {
    "papermill": {
     "duration": 0.003758,
     "end_time": "2025-04-04T04:11:44.451705",
     "exception": false,
     "start_time": "2025-04-04T04:11:44.447947",
     "status": "completed"
    },
    "tags": []
   },
   "source": [
    "# MPIA Arxiv on Deck 2\n",
    "\n",
    "Contains the steps to produce the paper extractions."
   ]
  },
  {
   "cell_type": "code",
   "execution_count": 1,
   "id": "3a0d6e11",
   "metadata": {
    "execution": {
     "iopub.execute_input": "2025-04-04T04:11:44.459293Z",
     "iopub.status.busy": "2025-04-04T04:11:44.459012Z",
     "iopub.status.idle": "2025-04-04T04:11:44.802182Z",
     "shell.execute_reply": "2025-04-04T04:11:44.801534Z"
    },
    "papermill": {
     "duration": 0.348467,
     "end_time": "2025-04-04T04:11:44.803521",
     "exception": false,
     "start_time": "2025-04-04T04:11:44.455054",
     "status": "completed"
    },
    "tags": []
   },
   "outputs": [],
   "source": [
    "# Imports\n",
    "import os\n",
    "from IPython.display import Markdown, display\n",
    "from tqdm.notebook import tqdm\n",
    "import warnings\n",
    "from PIL import Image \n",
    "import re\n",
    "\n",
    "# requires arxiv_on_deck_2\n",
    "\n",
    "from arxiv_on_deck_2.arxiv2 import (get_new_papers, \n",
    "                                    get_paper_from_identifier,\n",
    "                                    retrieve_document_source, \n",
    "                                    get_markdown_badge)\n",
    "from arxiv_on_deck_2 import (latex,\n",
    "                             latex_bib,\n",
    "                             mpia,\n",
    "                             highlight_authors_in_list)\n",
    "\n",
    "# Sometimes images are really big\n",
    "Image.MAX_IMAGE_PIXELS = 1000000000 "
   ]
  },
  {
   "cell_type": "code",
   "execution_count": 2,
   "id": "22aa9d44",
   "metadata": {
    "execution": {
     "iopub.execute_input": "2025-04-04T04:11:44.811196Z",
     "iopub.status.busy": "2025-04-04T04:11:44.810638Z",
     "iopub.status.idle": "2025-04-04T04:11:44.818619Z",
     "shell.execute_reply": "2025-04-04T04:11:44.818074Z"
    },
    "papermill": {
     "duration": 0.012826,
     "end_time": "2025-04-04T04:11:44.819595",
     "exception": false,
     "start_time": "2025-04-04T04:11:44.806769",
     "status": "completed"
    },
    "tags": []
   },
   "outputs": [],
   "source": [
    "# Some useful definitions.\n",
    "\n",
    "class AffiliationWarning(UserWarning):\n",
    "    pass\n",
    "\n",
    "class AffiliationError(RuntimeError):\n",
    "    pass\n",
    "\n",
    "def validation(source: str):\n",
    "    \"\"\"Raises error paper during parsing of source file\n",
    "    \n",
    "    Allows checks before parsing TeX code.\n",
    "    \n",
    "    Raises AffiliationWarning\n",
    "    \"\"\"\n",
    "    check = mpia.affiliation_verifications(source, verbose=True)\n",
    "    if check is not True:\n",
    "        raise AffiliationError(\"mpia.affiliation_verifications: \" + check)\n",
    "\n",
    "        \n",
    "warnings.simplefilter('always', AffiliationWarning)\n",
    "\n",
    "\n",
    "def get_markdown_qrcode(paper_id: str):\n",
    "    \"\"\" Generate a qrcode to the arxiv page using qrserver.com\n",
    "    \n",
    "    :param paper: Arxiv paper\n",
    "    :returns: markdown text\n",
    "    \"\"\"\n",
    "    url = r\"https://api.qrserver.com/v1/create-qr-code/?size=100x100&data=\"\n",
    "    txt = f\"\"\"<img src={url}\"https://arxiv.org/abs/{paper_id}\">\"\"\"\n",
    "    txt = '<div id=\"qrcode\">' + txt + '</div>'\n",
    "    return txt\n",
    "\n",
    "\n",
    "def clean_non_western_encoded_characters_commands(text: str) -> str:\n",
    "    \"\"\" Remove non-western encoded characters from a string\n",
    "    List may need to grow.\n",
    "    \n",
    "    :param text: the text to clean\n",
    "    :return: the cleaned text\n",
    "    \"\"\"\n",
    "    text = re.sub(r\"(\\\\begin{CJK}{UTF8}{gbsn})(.*?)(\\\\end{CJK})\", r\"\\2\", text)\n",
    "    return text\n",
    "\n",
    "\n",
    "def get_initials(name: str) -> str:\n",
    "    \"\"\" Get the short name, e.g., A.-B. FamName\n",
    "    :param name: full name\n",
    "    :returns: initials\n",
    "    \"\"\"\n",
    "    initials = []\n",
    "    # account for non western names often in ()\n",
    "    if '(' in name:\n",
    "        name = clean_non_western_encoded_characters_commands(name)\n",
    "        suffix = re.findall(r\"\\((.*?)\\)\", name)[0]\n",
    "        name = name.replace(f\"({suffix})\", '')\n",
    "    else:\n",
    "        suffix = ''\n",
    "    split = name.split()\n",
    "    for token in split[:-1]:\n",
    "        if '-' in token:\n",
    "            current = '-'.join([k[0] + '.' for k in token.split('-')])\n",
    "        else:\n",
    "            current = token[0] + '.'\n",
    "        initials.append(current)\n",
    "    initials.append(split[-1].strip())\n",
    "    if suffix:\n",
    "        initials.append(f\"({suffix})\")\n",
    "    return ' '.join(initials)"
   ]
  },
  {
   "cell_type": "markdown",
   "id": "14bd6310",
   "metadata": {
    "papermill": {
     "duration": 0.002877,
     "end_time": "2025-04-04T04:11:44.825446",
     "exception": false,
     "start_time": "2025-04-04T04:11:44.822569",
     "status": "completed"
    },
    "tags": []
   },
   "source": [
    "## get list of arxiv paper candidates\n",
    "\n",
    "We use the MPIA mitarbeiter list webpage from mpia.de to get author names\n",
    "We then get all new papers from Arxiv and match authors"
   ]
  },
  {
   "cell_type": "code",
   "execution_count": 3,
   "id": "7ea813a8",
   "metadata": {
    "execution": {
     "iopub.execute_input": "2025-04-04T04:11:44.832164Z",
     "iopub.status.busy": "2025-04-04T04:11:44.831903Z",
     "iopub.status.idle": "2025-04-04T04:12:09.481126Z",
     "shell.execute_reply": "2025-04-04T04:12:09.480389Z"
    },
    "papermill": {
     "duration": 24.654094,
     "end_time": "2025-04-04T04:12:09.482444",
     "exception": false,
     "start_time": "2025-04-04T04:11:44.828350",
     "status": "completed"
    },
    "tags": []
   },
   "outputs": [],
   "source": [
    "# deal with the author list and edge cases of people that cannot be consistent on their name  \n",
    "\n",
    "def filter_non_scientists(name: str) -> bool:\n",
    "    \"\"\" Loose filter on expected authorships\n",
    "\n",
    "    removing IT, administration, technical staff\n",
    "    :param name: name\n",
    "    :returns: False if name is not a scientist\n",
    "    \"\"\"\n",
    "    remove_list = ['Licht', 'Binroth', 'Witzel', 'Jordan',\n",
    "                   'Zähringer', 'Scheerer', 'Hoffmann', 'Düe',\n",
    "                   'Hellmich', 'Enkler-Scharpegge', 'Witte-Nguy',\n",
    "                   'Dehen', 'Beckmann', 'Jager', 'Jäger'\n",
    "                  ]\n",
    "\n",
    "    for k in remove_list:\n",
    "        if k in name:\n",
    "            return False\n",
    "    return True\n",
    "\n",
    "def add_author_to_list(author_list: list) -> list:\n",
    "    \"\"\" Add author to list if not already in list\n",
    "    \n",
    "    :param author: author name\n",
    "    :param author_list: list of authors\n",
    "    :returns: updated list of authors\n",
    "    \"\"\"\n",
    "    add_list = ['T. Henning']\n",
    "\n",
    "    for author in add_list:\n",
    "        if author not in author_list:\n",
    "            author_list.append(author)\n",
    "    return author_list\n",
    "\n",
    "# get list from MPIA website\n",
    "# filter for non-scientists (mpia.get_mpia_mitarbeiter_list() does some filtering)\n",
    "mpia_authors = [k[1] for k in mpia.get_mpia_mitarbeiter_list() if filter_non_scientists(k[1])]\n",
    "# add some missing author because of inconsistencies in their MPIA name and author name on papers\n",
    "mpia_authors = add_author_to_list(mpia_authors)"
   ]
  },
  {
   "cell_type": "code",
   "execution_count": 4,
   "id": "2645e73a",
   "metadata": {
    "execution": {
     "iopub.execute_input": "2025-04-04T04:12:09.489938Z",
     "iopub.status.busy": "2025-04-04T04:12:09.489472Z",
     "iopub.status.idle": "2025-04-04T04:12:10.185197Z",
     "shell.execute_reply": "2025-04-04T04:12:10.184431Z"
    },
    "papermill": {
     "duration": 0.700595,
     "end_time": "2025-04-04T04:12:10.186314",
     "exception": false,
     "start_time": "2025-04-04T04:12:09.485719",
     "status": "completed"
    },
    "tags": []
   },
   "outputs": [
    {
     "name": "stdout",
     "output_type": "stream",
     "text": [
      "M. Fouesneau  ->  M. Fouesneau  |  ['M. Fouesneau']\n",
      "M. Schirmer  ->  M. Schirmer  |  ['M. Schirmer']\n",
      "H. Beuther  ->  H. Beuther  |  ['H. Beuther']\n",
      "N. Wang  ->  N. Wang  |  ['N. Wang']\n",
      "E. Bañados  ->  E. Bañados  |  ['E. Bañados']\n",
      "T. Henning  ->  T. Henning  |  ['T. Henning']\n",
      "J. Li  ->  J. Li  |  ['J. Li']\n",
      "Y. Wang  ->  Y. Wang  |  ['Y. Wang']\n",
      "A. d. Graaff  ->  A. D. Graaff  |  ['A. D. Graaff']\n",
      "E. Schinnerer  ->  E. Schinnerer  |  ['E. Schinnerer']\n",
      "F. Walter  ->  F. Walter  |  ['F. Walter']\n"
     ]
    },
    {
     "name": "stdout",
     "output_type": "stream",
     "text": [
      "Arxiv has 66 new papers today\n",
      "          10 with possible author matches\n"
     ]
    }
   ],
   "source": [
    "new_papers = get_new_papers()\n",
    "# add manual references\n",
    "add_paper_refs = []\n",
    "new_papers.extend([get_paper_from_identifier(k) for k in add_paper_refs])\n",
    "\n",
    "def robust_call(fn, value, *args, **kwargs):\n",
    "    try:\n",
    "        return fn(value, *args, **kwargs)\n",
    "    except Exception:\n",
    "        return value\n",
    "\n",
    "candidates = []\n",
    "for paperk in new_papers:\n",
    "    # Check author list with their initials\n",
    "    normed_author_list = [robust_call(mpia.get_initials, k) for k in paperk['authors']]\n",
    "    hl_authors = highlight_authors_in_list(normed_author_list, mpia_authors, verbose=True)\n",
    "    matches = [(hl, orig) for hl, orig in zip(hl_authors, paperk['authors']) if 'mark' in hl]\n",
    "    paperk['authors'] = hl_authors\n",
    "    if matches:\n",
    "        # only select paper if an author matched our list\n",
    "        candidates.append(paperk)\n",
    "print(\"\"\"Arxiv has {0:,d} new papers today\"\"\".format(len(new_papers)))        \n",
    "print(\"\"\"          {0:,d} with possible author matches\"\"\".format(len(candidates)))"
   ]
  },
  {
   "cell_type": "markdown",
   "id": "3543b34a",
   "metadata": {
    "papermill": {
     "duration": 0.00306,
     "end_time": "2025-04-04T04:12:10.192951",
     "exception": false,
     "start_time": "2025-04-04T04:12:10.189891",
     "status": "completed"
    },
    "tags": []
   },
   "source": [
    "# Parse sources and generate relevant outputs\n",
    "\n",
    "From the candidates, we do the following steps:\n",
    "* get their tarball from ArXiv (and extract data)\n",
    "* find the main .tex file: find one with \\documentclass{...} (sometimes it's non trivial)\n",
    "* Check affiliations with :func:`validation`, which uses :func:`mpia.affiliation_verifications`\n",
    "* If passing the affiliations: we parse the .tex source\n",
    "   * inject sub-documents into the main (flatten the main document)\n",
    "   * parse structure, extract information (title, abstract, authors, figures...)\n",
    "   * handles `\\graphicspath` if provided\n",
    "* Generate the .md document."
   ]
  },
  {
   "cell_type": "code",
   "execution_count": 5,
   "id": "9576b79e",
   "metadata": {
    "execution": {
     "iopub.execute_input": "2025-04-04T04:12:10.200502Z",
     "iopub.status.busy": "2025-04-04T04:12:10.200017Z",
     "iopub.status.idle": "2025-04-04T04:19:46.486795Z",
     "shell.execute_reply": "2025-04-04T04:19:46.485986Z"
    },
    "papermill": {
     "duration": 456.296924,
     "end_time": "2025-04-04T04:19:46.492942",
     "exception": false,
     "start_time": "2025-04-04T04:12:10.196018",
     "status": "completed"
    },
    "scrolled": false,
    "tags": []
   },
   "outputs": [
    {
     "data": {
      "application/vnd.jupyter.widget-view+json": {
       "model_id": "8dcb0abce046461198315d17934fabfa",
       "version_major": 2,
       "version_minor": 0
      },
      "text/plain": [
       "  0%|          | 0/10 [00:00<?, ?it/s]"
      ]
     },
     "metadata": {},
     "output_type": "display_data"
    },
    {
     "name": "stdout",
     "output_type": "stream",
     "text": [
      "Retrieving document from  https://arxiv.org/e-print/2504.02035\n"
     ]
    },
    {
     "name": "stdout",
     "output_type": "stream",
     "text": [
      "extracting tarball to tmp_2504.02035..."
     ]
    },
    {
     "name": "stdout",
     "output_type": "stream",
     "text": [
      " done.\n",
      "Retrieving document from  https://arxiv.org/e-print/2504.02071\n"
     ]
    },
    {
     "name": "stdout",
     "output_type": "stream",
     "text": [
      "extracting tarball to tmp_2504.02071..."
     ]
    },
    {
     "name": "stdout",
     "output_type": "stream",
     "text": [
      " done.\n",
      "  0: tmp_2504.02071/martinez-delgado.tex, 1,796 lines\n",
      "  1: tmp_2504.02071/STREAMS_AMATEUR_TELESCOPES_ASTROPH/martinez-delgado.tex, 1,795 lines\n"
     ]
    },
    {
     "name": "stderr",
     "output_type": "stream",
     "text": [
      "/opt/hostedtoolcache/Python/3.9.21/x64/lib/python3.9/site-packages/IPython/core/interactiveshell.py:3550: LatexWarning: Multiple tex files.\n",
      "\n",
      "  exec(code_obj, self.user_global_ns, self.user_ns)\n",
      "/opt/hostedtoolcache/Python/3.9.21/x64/lib/python3.9/site-packages/IPython/core/interactiveshell.py:3550: LatexWarning: Found 2 candidates with documentclass definition.\n",
      "  exec(code_obj, self.user_global_ns, self.user_ns)\n",
      "/opt/hostedtoolcache/Python/3.9.21/x64/lib/python3.9/site-packages/IPython/core/interactiveshell.py:3550: LatexWarning: Assuming tmp_2504.02071/martinez-delgado.tex as main document.\n",
      "  exec(code_obj, self.user_global_ns, self.user_ns)\n"
     ]
    },
    {
     "name": "stderr",
     "output_type": "stream",
     "text": [
      "/opt/hostedtoolcache/Python/3.9.21/x64/lib/python3.9/site-packages/arxiv_on_deck_2/latex.py:132: LatexWarning: attempting recovering figure empty.eps\n",
      "  warnings.warn(LatexWarning(f'attempting recovering figure {image}'))\n",
      "/opt/hostedtoolcache/Python/3.9.21/x64/lib/python3.9/site-packages/arxiv_on_deck_2/latex.py:707: LatexWarning: Could not find graphic \\includegraphics[width=\\hsize]{empty.eps}\n",
      "  warnings.warn(LatexWarning(f\"Could not find graphic {k}\"))\n",
      "/opt/hostedtoolcache/Python/3.9.21/x64/lib/python3.9/site-packages/arxiv_on_deck_2/latex.py:132: LatexWarning: attempting recovering figure empty.eps\n",
      "  warnings.warn(LatexWarning(f'attempting recovering figure {image}'))\n",
      "/opt/hostedtoolcache/Python/3.9.21/x64/lib/python3.9/site-packages/arxiv_on_deck_2/latex.py:707: LatexWarning: Could not find graphic \\includegraphics[angle=-90,width=3cm]{empty.eps}\n",
      "  warnings.warn(LatexWarning(f\"Could not find graphic {k}\"))\n",
      "/opt/hostedtoolcache/Python/3.9.21/x64/lib/python3.9/site-packages/arxiv_on_deck_2/latex.py:132: LatexWarning: attempting recovering figure empty.eps\n",
      "  warnings.warn(LatexWarning(f'attempting recovering figure {image}'))\n",
      "/opt/hostedtoolcache/Python/3.9.21/x64/lib/python3.9/site-packages/arxiv_on_deck_2/latex.py:707: LatexWarning: Could not find graphic \\includegraphics[width=3cm]{empty.eps}\n",
      "  warnings.warn(LatexWarning(f\"Could not find graphic {k}\"))\n",
      "/opt/hostedtoolcache/Python/3.9.21/x64/lib/python3.9/site-packages/arxiv_on_deck_2/latex.py:132: LatexWarning: attempting recovering figure empty.eps\n",
      "  warnings.warn(LatexWarning(f'attempting recovering figure {image}'))\n",
      "/opt/hostedtoolcache/Python/3.9.21/x64/lib/python3.9/site-packages/arxiv_on_deck_2/latex.py:707: LatexWarning: Could not find graphic \\includegraphics[bb=10 20 100 300,width=3cm,clip]{empty.eps}\n",
      "  warnings.warn(LatexWarning(f\"Could not find graphic {k}\"))\n",
      "/opt/hostedtoolcache/Python/3.9.21/x64/lib/python3.9/site-packages/arxiv_on_deck_2/latex.py:132: LatexWarning: attempting recovering figure empty.eps\n",
      "  warnings.warn(LatexWarning(f'attempting recovering figure {image}'))\n",
      "/opt/hostedtoolcache/Python/3.9.21/x64/lib/python3.9/site-packages/arxiv_on_deck_2/latex.py:707: LatexWarning: Could not find graphic \\includegraphics[bb=10 20 100 300,clip]{empty.eps}\n",
      "  warnings.warn(LatexWarning(f\"Could not find graphic {k}\"))\n",
      "/opt/hostedtoolcache/Python/3.9.21/x64/lib/python3.9/site-packages/arxiv_on_deck_2/latex.py:132: LatexWarning: attempting recovering figure empty.eps\n",
      "  warnings.warn(LatexWarning(f'attempting recovering figure {image}'))\n",
      "/opt/hostedtoolcache/Python/3.9.21/x64/lib/python3.9/site-packages/arxiv_on_deck_2/latex.py:707: LatexWarning: Could not find graphic \\includegraphics[bb=10 20 100 300,clip]{empty.eps}\n",
      "  warnings.warn(LatexWarning(f\"Could not find graphic {k}\"))\n",
      "/opt/hostedtoolcache/Python/3.9.21/x64/lib/python3.9/site-packages/arxiv_on_deck_2/latex.py:132: LatexWarning: attempting recovering figure 1787f23.eps\n",
      "  warnings.warn(LatexWarning(f'attempting recovering figure {image}'))\n",
      "/opt/hostedtoolcache/Python/3.9.21/x64/lib/python3.9/site-packages/arxiv_on_deck_2/latex.py:707: LatexWarning: Could not find graphic \\includegraphics[width=10.9cm]{1787f23.eps}\n",
      "  warnings.warn(LatexWarning(f\"Could not find graphic {k}\"))\n",
      "/opt/hostedtoolcache/Python/3.9.21/x64/lib/python3.9/site-packages/arxiv_on_deck_2/latex.py:132: LatexWarning: attempting recovering figure 1787f24.ps\n",
      "  warnings.warn(LatexWarning(f'attempting recovering figure {image}'))\n",
      "/opt/hostedtoolcache/Python/3.9.21/x64/lib/python3.9/site-packages/arxiv_on_deck_2/latex.py:707: LatexWarning: Could not find graphic \\includegraphics[width=16.4cm,clip]{1787f24.ps}\n",
      "  warnings.warn(LatexWarning(f\"Could not find graphic {k}\"))\n",
      "/opt/hostedtoolcache/Python/3.9.21/x64/lib/python3.9/site-packages/arxiv_on_deck_2/latex.py:132: LatexWarning: attempting recovering figure empty.eps\n",
      "  warnings.warn(LatexWarning(f'attempting recovering figure {image}'))\n",
      "/opt/hostedtoolcache/Python/3.9.21/x64/lib/python3.9/site-packages/arxiv_on_deck_2/latex.py:707: LatexWarning: Could not find graphic \\includegraphics[bb=10 20 100 300,clip]{empty.eps}\n",
      "  warnings.warn(LatexWarning(f\"Could not find graphic {k}\"))\n",
      "/opt/hostedtoolcache/Python/3.9.21/x64/lib/python3.9/site-packages/arxiv_on_deck_2/latex.py:132: LatexWarning: attempting recovering figure 1787f23.eps\n",
      "  warnings.warn(LatexWarning(f'attempting recovering figure {image}'))\n",
      "/opt/hostedtoolcache/Python/3.9.21/x64/lib/python3.9/site-packages/arxiv_on_deck_2/latex.py:707: LatexWarning: Could not find graphic \\includegraphics[width=10.9cm]{1787f23.eps}\n",
      "  warnings.warn(LatexWarning(f\"Could not find graphic {k}\"))\n",
      "/opt/hostedtoolcache/Python/3.9.21/x64/lib/python3.9/site-packages/arxiv_on_deck_2/latex.py:132: LatexWarning: attempting recovering figure 1787f24.ps\n",
      "  warnings.warn(LatexWarning(f'attempting recovering figure {image}'))\n",
      "/opt/hostedtoolcache/Python/3.9.21/x64/lib/python3.9/site-packages/arxiv_on_deck_2/latex.py:707: LatexWarning: Could not find graphic \\includegraphics[width=16.4cm,clip]{1787f24.ps}\n",
      "  warnings.warn(LatexWarning(f\"Could not find graphic {k}\"))\n",
      "/opt/hostedtoolcache/Python/3.9.21/x64/lib/python3.9/site-packages/arxiv_on_deck_2/latex.py:132: LatexWarning: attempting recovering figure 1787f23.eps\n",
      "  warnings.warn(LatexWarning(f'attempting recovering figure {image}'))\n",
      "/opt/hostedtoolcache/Python/3.9.21/x64/lib/python3.9/site-packages/arxiv_on_deck_2/latex.py:707: LatexWarning: Could not find graphic \\includegraphics[width=10.9cm]{1787f23.eps}\n",
      "  warnings.warn(LatexWarning(f\"Could not find graphic {k}\"))\n",
      "/opt/hostedtoolcache/Python/3.9.21/x64/lib/python3.9/site-packages/arxiv_on_deck_2/latex.py:132: LatexWarning: attempting recovering figure 1787f24.ps\n",
      "  warnings.warn(LatexWarning(f'attempting recovering figure {image}'))\n",
      "/opt/hostedtoolcache/Python/3.9.21/x64/lib/python3.9/site-packages/arxiv_on_deck_2/latex.py:707: LatexWarning: Could not find graphic \\includegraphics[width=16.4cm,clip]{1787f24.ps}\n",
      "  warnings.warn(LatexWarning(f\"Could not find graphic {k}\"))\n"
     ]
    },
    {
     "name": "stdout",
     "output_type": "stream",
     "text": [
      "Found 133 bibliographic references in tmp_2504.02071/martinez-delgado.bbl.\n",
      "Issues with the citations\n",
      "syntax error in line 620: '=' expected\n",
      "Retrieving document from  https://arxiv.org/e-print/2504.02136\n"
     ]
    },
    {
     "name": "stdout",
     "output_type": "stream",
     "text": [
      "extracting tarball to tmp_2504.02136..."
     ]
    },
    {
     "name": "stdout",
     "output_type": "stream",
     "text": [
      " done.\n"
     ]
    },
    {
     "name": "stdout",
     "output_type": "stream",
     "text": [
      "H. Beuther  ->  H. Beuther  |  ['H. Beuther']\n"
     ]
    },
    {
     "name": "stdout",
     "output_type": "stream",
     "text": [
      "Found 63 bibliographic references in tmp_2504.02136/main.bbl.\n",
      "Error retrieving bib data for cardelli1989relationship: 'author'\n",
      "Retrieving document from  https://arxiv.org/e-print/2504.02294\n"
     ]
    },
    {
     "name": "stdout",
     "output_type": "stream",
     "text": [
      "extracting tarball to tmp_2504.02294... done.\n",
      "Retrieving document from  https://arxiv.org/e-print/2504.02305\n"
     ]
    },
    {
     "name": "stdout",
     "output_type": "stream",
     "text": [
      "extracting tarball to tmp_2504.02305..."
     ]
    },
    {
     "name": "stdout",
     "output_type": "stream",
     "text": [
      " done.\n"
     ]
    },
    {
     "name": "stdout",
     "output_type": "stream",
     "text": [
      "E. Bañados  ->  E. Bañados  |  ['E. Bañados']\n"
     ]
    },
    {
     "name": "stderr",
     "output_type": "stream",
     "text": [
      "/tmp/ipykernel_3292/2822249172.py:52: LatexWarning: 2504.02305 did not run properly\n",
      "list index out of range\n",
      "  warnings.warn(latex.LatexWarning(f\"{paper_id:s} did not run properly\\n\" +\n"
     ]
    },
    {
     "name": "stdout",
     "output_type": "stream",
     "text": [
      "Retrieving document from  https://arxiv.org/e-print/2504.02338\n"
     ]
    },
    {
     "name": "stdout",
     "output_type": "stream",
     "text": [
      "extracting tarball to tmp_2504.02338..."
     ]
    },
    {
     "name": "stdout",
     "output_type": "stream",
     "text": [
      " done.\n"
     ]
    },
    {
     "name": "stdout",
     "output_type": "stream",
     "text": [
      "Found 67 bibliographic references in tmp_2504.02338/aa51697-24corr.bbl.\n",
      "Issues with the citations\n",
      "syntax error in line 382: '=' expected\n",
      "Retrieving document from  https://arxiv.org/e-print/2504.02394\n"
     ]
    },
    {
     "name": "stderr",
     "output_type": "stream",
     "text": [
      "/opt/hostedtoolcache/Python/3.9.21/x64/lib/python3.9/site-packages/arxiv_on_deck_2/latex_bib.py:132: UserWarning: Error processing bibitem\n",
      " item = \\bibitem[{{Czesla} {et~al.}(2019){Czesla}, {Schr{ö}ter}, {Schneider},  {Huber}, {Pfeifer}, {Andreasen},  {Zechmeister}}]{pya}{Czesla}, S., {Schr{ö}ter}, S., {Schneider}, C.~P., {et~al.}  \\href{https://ui.adsabs.harvard.edu/abs/2019ascl.soft06010C}{, {PyA: Python  astronomy-related packages}, Astrophysics Source Code Library, record  ascl:1906.010}\n",
      " regex = \n",
      "        \\\\bibitem(\\[[^\\[\\]]*?\\]){(?P<bibkey>[a-zA-Z0-9\\-\\+\\.\\S]+?)}(?P<authors>|([\\D]*?))(?P<year>[12][0-9]{3}).*?href(.*?{(?P<url>http[\\S]*)})(?P<rest>.*)\n",
      "        \n",
      "  warnings.warn(str(e))\n",
      "/opt/hostedtoolcache/Python/3.9.21/x64/lib/python3.9/site-packages/arxiv_on_deck_2/latex_bib.py:132: UserWarning: Error processing bibitem\n",
      " item = \\bibitem[{{Giampapa}  {Liebert}(1986)}]{giampapa1986}{Giampapa}, M.~S.  {Liebert}, J.  \\href{https://ui.adsabs.harvard.edu/abs/1986LNP...254...62G}{, in Cool Stars,  Stellar Systems and the Sun, ed. M.~{Zeilik}  D.~M. {Gibson}, Vol. 254, 62}\n",
      " regex = \n",
      "        \\\\bibitem(\\[[^\\[\\]]*?\\]){(?P<bibkey>[a-zA-Z0-9\\-\\+\\.\\S]+?)}(?P<authors>|([\\D]*?))(?P<year>[12][0-9]{3}).*?href(.*?{(?P<url>http[\\S]*)})(?P<rest>.*)\n",
      "        \n",
      "  warnings.warn(str(e))\n",
      "/opt/hostedtoolcache/Python/3.9.21/x64/lib/python3.9/site-packages/arxiv_on_deck_2/latex_bib.py:132: UserWarning: Error processing bibitem\n",
      " item = \\bibitem[{{Hauschildt} {et~al.}(1999){Hauschildt}, {Allard},   {Baron}}]{Hauschildt1999}{Hauschildt}, P.~H., {Allard}, F.,  {Baron}, E. 1999,  \\href{http://adsabs.harvard.edu/cgi-bin/nph-bib_query?bibcode=1999ApJ...5  12..377H&amp;db_key=AST}{\\apj, 512, 377}\n",
      " regex = \n",
      "        \\\\bibitem(\\[[^\\[\\]]*?\\]){(?P<bibkey>[a-zA-Z0-9\\-\\+\\.\\S]+?)}(?P<authors>|([\\D]*?))(?P<year>[12][0-9]{3}).*?href(.*?{(?P<url>http[\\S]*)})(?P<rest>.*)\n",
      "        \n",
      "  warnings.warn(str(e))\n"
     ]
    },
    {
     "name": "stderr",
     "output_type": "stream",
     "text": [
      "/tmp/ipykernel_3292/2822249172.py:52: LatexWarning: 2504.02394 did not run properly\n",
      "not a gzip file\n",
      "  warnings.warn(latex.LatexWarning(f\"{paper_id:s} did not run properly\\n\" +\n"
     ]
    },
    {
     "name": "stdout",
     "output_type": "stream",
     "text": [
      "Retrieving document from  https://arxiv.org/e-print/2504.02415\n"
     ]
    },
    {
     "name": "stdout",
     "output_type": "stream",
     "text": [
      "extracting tarball to tmp_2504.02415..."
     ]
    },
    {
     "name": "stdout",
     "output_type": "stream",
     "text": [
      " done.\n",
      "Retrieving document from  https://arxiv.org/e-print/2504.02525\n"
     ]
    },
    {
     "name": "stdout",
     "output_type": "stream",
     "text": [
      "extracting tarball to tmp_2504.02525..."
     ]
    },
    {
     "name": "stdout",
     "output_type": "stream",
     "text": [
      " done.\n"
     ]
    },
    {
     "name": "stderr",
     "output_type": "stream",
     "text": [
      "/opt/hostedtoolcache/Python/3.9.21/x64/lib/python3.9/site-packages/arxiv_on_deck_2/latex.py:488: LatexWarning: Error parsing the document directly. Trying to recover.\n",
      "  warnings.warn(LatexWarning(f\"Error parsing the document directly. Trying to recover.\"))\n"
     ]
    },
    {
     "name": "stdout",
     "output_type": "stream",
     "text": [
      "✔ → 0:header\n",
      "  ↳ 5403:\\section{Introduction}\n"
     ]
    },
    {
     "name": "stdout",
     "output_type": "stream",
     "text": [
      "✔ → 5403:\\section{Introduction}\n",
      "  ↳ 20172:\\section{Velocity fields and correlated dipoles}\n"
     ]
    },
    {
     "name": "stdout",
     "output_type": "stream",
     "text": [
      "✔ → 20172:\\section{Velocity fields and correlated dipoles}\n",
      "  ↳ 47899:\\section{Dipoles in the ISW effect and gravitational lensing}\n"
     ]
    },
    {
     "name": "stdout",
     "output_type": "stream",
     "text": [
      "✔ → 47899:\\section{Dipoles in the ISW effect and gravitational lensing}\n",
      "  ↳ 67602:\\section{Observations of the dipoles}\n"
     ]
    },
    {
     "name": "stdout",
     "output_type": "stream",
     "text": [
      "✔ → 67602:\\section{Observations of the dipoles}\n",
      "  ↳ 87235:\\section{Results}\n"
     ]
    },
    {
     "name": "stdout",
     "output_type": "stream",
     "text": [
      "✔ → 87235:\\section{Results}\n",
      "  ↳ 96377:\\section{Dipole Modelling: growth and implications for gravity}\n"
     ]
    },
    {
     "name": "stdout",
     "output_type": "stream",
     "text": [
      "✔ → 96377:\\section{Dipole Modelling: growth and implications for gravity}\n",
      "  ↳ 103255:\\section{Discussion and conclusions}\n",
      "✔ → 103255:\\section{Discussion and conclusions}\n",
      "  ↳ 111326:\\section{measurements from simulations}\n"
     ]
    },
    {
     "name": "stdout",
     "output_type": "stream",
     "text": [
      "✔ → 111326:\\section{measurements from simulations}\n",
      "  ↳ 114979:\\section{Measuring velocity correlations from simulations}\n",
      "✔ → 114979:\\section{Measuring velocity correlations from simulations}\n",
      "  ↳ 116310:end\n"
     ]
    },
    {
     "name": "stdout",
     "output_type": "stream",
     "text": [
      "Found 86 bibliographic references in tmp_2504.02525/references.bbl.\n",
      "Retrieving document from  https://arxiv.org/e-print/2504.02538\n"
     ]
    },
    {
     "name": "stdout",
     "output_type": "stream",
     "text": [
      "extracting tarball to tmp_2504.02538..."
     ]
    },
    {
     "name": "stdout",
     "output_type": "stream",
     "text": [
      " done.\n"
     ]
    },
    {
     "name": "stderr",
     "output_type": "stream",
     "text": [
      "/opt/hostedtoolcache/Python/3.9.21/x64/lib/python3.9/site-packages/arxiv_on_deck_2/latex.py:488: LatexWarning: Error parsing the document directly. Trying to recover.\n",
      "  warnings.warn(LatexWarning(f\"Error parsing the document directly. Trying to recover.\"))\n"
     ]
    },
    {
     "name": "stdout",
     "output_type": "stream",
     "text": [
      "✔ → 0:header\n",
      "  ↳ 15760:\\section{Introduction}\n",
      "✔ → 15760:\\section{Introduction}\n",
      "  ↳ 20779:\\section{\\label{sec:observations}Observations}\n"
     ]
    },
    {
     "name": "stdout",
     "output_type": "stream",
     "text": [
      "✔ → 20779:\\section{\\label{sec:observations}Observations}\n",
      "  ↳ 25601:\\section{\\label{sec:deuteration} Deuteration of Hydrocarbons}\n",
      "✔ → 25601:\\section{\\label{sec:deuteration} Deuteration of Hydrocarbons}\n",
      "  ↳ 26849:\\section{\\label{sec:modeling} Modeling the Observed Emission}\n"
     ]
    },
    {
     "name": "stdout",
     "output_type": "stream",
     "text": [
      "✔ → 26849:\\section{\\label{sec:modeling} Modeling the Observed Emission}\n",
      "  ↳ 46915:\\section{\\label{sec:discussion} Results and Discussion}\n"
     ]
    },
    {
     "name": "stdout",
     "output_type": "stream",
     "text": [
      "✔ → 46915:\\section{\\label{sec:discussion} Results and Discussion}\n",
      "  ↳ 80192:\\section{\\label{sec:summary} Summary}\n",
      "✔ → 80192:\\section{\\label{sec:summary} Summary}\n",
      "  ↳ 85986:\\section{\\label{app:CO abs} CO Lines in Absorption}\n"
     ]
    },
    {
     "name": "stdout",
     "output_type": "stream",
     "text": [
      "✔ → 85986:\\section{\\label{app:CO abs} CO Lines in Absorption}\n",
      "  ↳ 87805:end\n"
     ]
    },
    {
     "name": "stdout",
     "output_type": "stream",
     "text": [
      "E. Schinnerer  ->  E. Schinnerer  |  ['E. Schinnerer']\n",
      "F. Walter  ->  F. Walter  |  ['F. Walter']\n"
     ]
    },
    {
     "name": "stdout",
     "output_type": "stream",
     "text": [
      "Found 59 bibliographic references in tmp_2504.02538/ms_arxiv.bbl.\n"
     ]
    }
   ],
   "source": [
    "documents = []\n",
    "failed = []\n",
    "for paper in tqdm(candidates):\n",
    "    # debug crap\n",
    "    paper['identifier'] = paper['identifier'].lower().replace('arxiv:', '').replace(r'\\n', '').strip()\n",
    "    paper_id = paper['identifier']\n",
    "    \n",
    "    folder = f'tmp_{paper_id}'\n",
    "\n",
    "    try:\n",
    "        if not os.path.isdir(folder):\n",
    "            folder = retrieve_document_source(f\"{paper_id}\", f'tmp_{paper_id}')\n",
    "        \n",
    "        try:\n",
    "            doc = latex.LatexDocument(folder, validation=validation)    \n",
    "        except AffiliationError as affilerror:\n",
    "            msg = f\"ArXiv:{paper_id:s} is not an MPIA paper... \" + str(affilerror)\n",
    "            failed.append((paper, \"affiliation error: \" + str(affilerror) ))\n",
    "            continue\n",
    "        \n",
    "        # Hack because sometimes author parsing does not work well\n",
    "        if (len(doc.authors) != len(paper['authors'])):\n",
    "            doc._authors = paper['authors']\n",
    "        else:\n",
    "            # highlight authors (FIXME: doc.highlight_authors)\n",
    "            # done on arxiv paper already\n",
    "            doc._authors = highlight_authors_in_list(\n",
    "                [get_initials(k) for k in doc.authors], \n",
    "                mpia_authors, verbose=True)\n",
    "        if (doc.abstract) in (None, ''):\n",
    "            doc._abstract = paper['abstract']\n",
    "            \n",
    "        doc.comment = (get_markdown_badge(paper_id) + \n",
    "                       \"<mark>Appeared on: \" + paper['date'] + \"</mark> - \")\n",
    "        if paper['comments']:\n",
    "            doc.comment += \" _\" + paper['comments'] + \"_\"\n",
    "        \n",
    "        full_md = doc.generate_markdown_text()\n",
    "        \n",
    "        full_md += get_markdown_qrcode(paper_id)\n",
    "        \n",
    "        # replace citations\n",
    "        try:\n",
    "            bibdata = latex_bib.LatexBib.from_doc(doc)\n",
    "            full_md = latex_bib.replace_citations(full_md, bibdata)\n",
    "        except Exception as e:\n",
    "            print(\"Issues with the citations\")\n",
    "            print(e)\n",
    "        \n",
    "        documents.append((paper_id, full_md))\n",
    "    except Exception as e:\n",
    "        warnings.warn(latex.LatexWarning(f\"{paper_id:s} did not run properly\\n\" +\n",
    "                                         str(e)\n",
    "                                        ))\n",
    "        failed.append((paper, \"latex error \" + str(e)))"
   ]
  },
  {
   "cell_type": "markdown",
   "id": "2505a25c",
   "metadata": {
    "papermill": {
     "duration": 0.005402,
     "end_time": "2025-04-04T04:19:46.503839",
     "exception": false,
     "start_time": "2025-04-04T04:19:46.498437",
     "status": "completed"
    },
    "tags": []
   },
   "source": [
    "### Export the logs\n",
    "\n",
    "Throughout, we also keep track of the logs per paper. see `logs-{today date}.md` "
   ]
  },
  {
   "cell_type": "code",
   "execution_count": 6,
   "id": "d733828a",
   "metadata": {
    "execution": {
     "iopub.execute_input": "2025-04-04T04:19:46.515459Z",
     "iopub.status.busy": "2025-04-04T04:19:46.515226Z",
     "iopub.status.idle": "2025-04-04T04:19:46.537557Z",
     "shell.execute_reply": "2025-04-04T04:19:46.537022Z"
    },
    "papermill": {
     "duration": 0.02935,
     "end_time": "2025-04-04T04:19:46.538503",
     "exception": false,
     "start_time": "2025-04-04T04:19:46.509153",
     "status": "completed"
    },
    "scrolled": false,
    "tags": []
   },
   "outputs": [
    {
     "data": {
      "text/markdown": [
       "## Successful papers"
      ],
      "text/plain": [
       "<IPython.core.display.Markdown object>"
      ]
     },
     "metadata": {},
     "output_type": "display_data"
    },
    {
     "data": {
      "text/markdown": [
       "\n",
       "|||\n",
       "|---:|:---|\n",
       "| [![arXiv](https://img.shields.io/badge/arXiv-2504.02071-b31b1b.svg)](https://arxiv.org/abs/2504.02071) | **Stellar tidal streams around nearby spiral galaxies with deep imaging from amateur telescopes**  |\n",
       "|| D. Martinez-Delgado, et al. -- incl., <mark>M. Schirmer</mark> |\n",
       "|*Appeared on*| *2025-04-04*|\n",
       "|*Comments*| *21 pages, 16 figures, 5 tables. Full resolution version available in this link: this https URL*|\n",
       "|**Abstract**|            Tidal interactions between massive galaxies and their satellites are fundamental processes in a Universe with L-Cold Dark Matter cosmology, redistributing material into faint features that preserve records of past galactic interactions. While stellar streams in the Local Group impressively demonstrate satellite disruption, they do not constitute a statistically significant sample. Constructing a substantial catalog of stellar streams beyond the Local Group remains challenging due to the difficulties in obtaining deep, wide-field images of galaxies. Despite their potential to illuminate dark matter distribution and galaxy formation processes, stellar streams remain underutilized as cosmological probes. The Stellar Tidal Stream Survey (STSS) addresses this observational gap by leveraging amateur telescopes to obtain deep, scientific-grade images of galactic outskirts, capable of building a more statistically meaningful sample of stellar streams. Over the last decade, the STSS has acquired deep (up to surface brightness limit 28.3 mag/arcsec^2 in the r-band), wide-field images of 15 nearby Milky Way analog galaxies using a network of robotic amateur telescopes, avoiding the issues associated with \"mosaicing\" smaller images taken with a professional telescope. Our survey has revealed a diverse range of previously unreported faint features related to dwarf satellite accretion - including stellar streams, shells, and umbrella-like structures. We discover an ultra-diffuse galaxy (NGC150-UDG1), which shows hints of tidal tails. The STSS demonstrates the suitability of modern amateur telescopes to detect and study faint, diffuse structures in large fields around nearby spiral galaxies. Their economic and accessibility advantages enable larger samples with deep imaging, essential for testing galaxy formation models and constraining the properties of minor merger events in the local Universe.         |"
      ],
      "text/plain": [
       "[2504.02071] Stellar tidal streams around nearby spiral galaxies with deep imaging from amateur telescopes\n",
       "\tD. Martinez-Delgado, et al. -- incl., <mark>M. Schirmer</mark>"
      ]
     },
     "metadata": {},
     "output_type": "display_data"
    },
    {
     "data": {
      "text/markdown": [
       "\n",
       "|||\n",
       "|---:|:---|\n",
       "| [![arXiv](https://img.shields.io/badge/arXiv-2504.02136-b31b1b.svg)](https://arxiv.org/abs/2504.02136) | **Mid-infrared extinction curve for protostellar envelopes from JWST-detected embedded jet emission: the case of TMC1A**  |\n",
       "|| K. D. Assani, et al. -- incl., <mark>H. Beuther</mark> |\n",
       "|*Appeared on*| *2025-04-04*|\n",
       "|*Comments*| *Submitted to A&A*|\n",
       "|**Abstract**|            Context: Dust grains are key components of the interstellar medium and play a central role in star formation, acting as catalysts for chemical reactions and as building blocks of planets. Extinction curves are essential for characterizing dust properties, but mid-infrared (MIR) extinction remains poorly constrained in protostellar environments. Gas-phase line ratios from embedded protostellar jets provide a spatially resolved method for probing extinction through protostellar envelopes, complementing background starlight approaches. Aims: We aim to derive MIR extinction curves along sightlines toward a protostellar jet embedded in an envelope and assess whether they differ from those in dense molecular clouds. Methods: We analyze JWST NIRSpec IFU and MIRI MRS observations of four positions along the blue-shifted TMC1A jet. We extract observed [Fe II] line intensities and model intrinsic ratios using the Cloudy spectral synthesis code across a range of electron densities and temperatures. By comparing observed near-IR (NIR) and MIR line ratios to Cloudy predictions, we infer the relative extinction between NIR and MIR wavelengths. Results: Electron densities (ne) derived from NIR [Fe II] lines range from ~5 x 10^4 to ~5 x 10^3 cm^-3 at scales <~350 AU. MIR extinction values show stronger reddening than the empirical dark cloud curve from McClure (2009) at similar ne and temperatures (~10^3 to 10^4 K). If MIR emission arises from cooler, lower-density gas, extinction curves remain consistent with background starlight measurements. Conclusions: This method enables spatially resolved MIR extinction curves in embedded protostellar systems. Results suggest either a change in dust size distribution (e.g., from grain growth) or that MIR emission originates from cooler, less dense regions than NIR emission. (Abstract shortened for arXiv. See PDF for full version.)         |"
      ],
      "text/plain": [
       "[2504.02136] Mid-infrared extinction curve for protostellar envelopes from JWST-detected embedded jet emission: the case of TMC1A\n",
       "\tK. D. Assani, et al. -- incl., <mark>H. Beuther</mark>"
      ]
     },
     "metadata": {},
     "output_type": "display_data"
    },
    {
     "data": {
      "text/markdown": [
       "\n",
       "|||\n",
       "|---:|:---|\n",
       "| [![arXiv](https://img.shields.io/badge/arXiv-2504.02338-b31b1b.svg)](https://arxiv.org/abs/2504.02338) | **Coronal and chromospheric activity of Teegarden's star**  |\n",
       "|| B. Fuhrmeister, et al. -- incl., <mark>T. Henning</mark> |\n",
       "|*Appeared on*| *2025-04-04*|\n",
       "|*Comments*| *15 pages, 20 figures*|\n",
       "|**Abstract**|            Teegarden's star is a late-type M-dwarf planet host, typically showing only rather low levels of activity. In this paper we present an extensive characterisation of this activity at photospheric, chromospheric, and coronal levels. We specifically investigated TESS observations of Teegarden's star, which showed two very large flares with an estimated flare fluence between 10$^{29}$ and 10$^{32}$\\,erg comparable to the largest solar flares. We furthermore analysed nearly 300 CARMENES spectra and 11 ESPRESSO spectra covering all the usually used chromospheric lines in the optical from the \\ion{Ca}{ii} H \\& K lines at 3930\\,Å\\, to the \\ion{He}{i} infrared triplet at 10830\\,Å. These lines show different behaviour: The \\ion{He}{i} infrared triplet is the only one absent in all spectra, some lines show up only during flares, and others are always present and highly variable. Specifically, the H$\\alpha$ line is more or less filled in during quiescence; however, the higher Balmer lines are still observed in emission. Many chromospheric lines show a correlation with H$\\alpha$ variability, which, in addition to stochastic behaviour, also shows systematic behaviour on different timescales including the rotation period. Moreover, we found several flares and also report hints of an erupting prominence, which may have led to a coronal mass ejection. Finally, we present X-ray observations of Teegarden's star (i.e. a discovery pointing obtained with the \\emph{Chandra} observatory) and an extensive study with the \\emph{XMM-Newton} observatory; when these two large flares were observed, one of them showed clear signatures of the Neupert effect, suggesting the production of hard X-rays in the system.         |"
      ],
      "text/plain": [
       "[2504.02338] Coronal and chromospheric activity of Teegarden's star\n",
       "\tB. Fuhrmeister, et al. -- incl., <mark>T. Henning</mark>"
      ]
     },
     "metadata": {},
     "output_type": "display_data"
    },
    {
     "data": {
      "text/markdown": [
       "\n",
       "|||\n",
       "|---:|:---|\n",
       "| [![arXiv](https://img.shields.io/badge/arXiv-2504.02525-b31b1b.svg)](https://arxiv.org/abs/2504.02525) | **Detection of cosmological dipoles aligned with transverse peculiar velocities**  |\n",
       "|| Y.-C. Cai, J. A. Peacock, <mark>A. d. Graaff</mark>, S. Alam |\n",
       "|*Appeared on*| *2025-04-04*|\n",
       "|*Comments*| *26 pages, 18 figures*|\n",
       "|**Abstract**|            We present the first observations of a novel dipole signature imprinted on the CMB by transverse velocities. Cosmological peculiar velocities point towards gravitational wells and away from potential hills, reflecting a large-scale dipole in the gravitational potential, coherent over hundreds of Mpc. We predict large-scale dipoles in all fields correlated with the potential, observable via effects of gravitational lensing and the integrated Sachs-Wolfe (ISW). The ISW dipole is distinct from the small-scale moving lens effect, which has a dipole of the opposite sign. We provide a unified framework for analysing these dipoles, and make the first detections in galaxy density, CMB lensing convergence and the ISW effect. We show that the observed signals are consistent with LCDM predictions, and set limits on modified gravity. The CMB dipole signal is independent of galaxy bias, and orthogonal to the monopole correlation function, so this new observable provides additional cosmological information (abridged).         |"
      ],
      "text/plain": [
       "[2504.02525] Detection of cosmological dipoles aligned with transverse peculiar velocities\n",
       "\tY.-C. Cai, J. A. Peacock, <mark>A. d. Graaff</mark>, S. Alam"
      ]
     },
     "metadata": {},
     "output_type": "display_data"
    },
    {
     "data": {
      "text/markdown": [
       "\n",
       "|||\n",
       "|---:|:---|\n",
       "| [![arXiv](https://img.shields.io/badge/arXiv-2504.02538-b31b1b.svg)](https://arxiv.org/abs/2504.02538) | **Detection of Deuterated Hydrocarbon Nanoparticles in the Whirlpool Galaxy, M51**  |\n",
       "|| B. T. Draine, et al. -- incl., <mark>E. Schinnerer</mark>, <mark>F. Walter</mark> |\n",
       "|*Appeared on*| *2025-04-04*|\n",
       "|*Comments*| *Accepted for publication in Astrophysical Journal Letters*|\n",
       "|**Abstract**|            Deuteration of hydrocarbon material, including polycyclic aromatic hydrocarbons (PAHs), has been proposed to account for the low gas-phase abundances of D in the interstellar medium. JWST spectra of four star-forming regions in M51 show an emission feature, with central wavelength $\\sim$4.647$\\mu$m and FWHM 0.0265$\\mu$m, corresponding to the C-D stretching mode in aliphatic hydrocarbons. The emitting aliphatic material is estimated to have (D/H)$_{\\rm aliph}\\approx 0.17\\pm0.02$ -- a factor $\\sim$$10^4$ enrichment relative to the overall interstellar medium (ISM). On $\\sim$$50\\,$pc scales, deuteration levels toward four H$\\,$II regions in M51 are 2-3 times higher than in the Orion Bar photodissociation region (PDR), with implications for the processes responsible for the formation and evolution of hydrocarbon nanoparticles, including PAHs. The deuteration of the aliphatic material is found to anticorrelate with helium ionization in the associated H$\\,$II, suggesting that harsh FUV radiation may act to lower the deuteration of aliphatics in PDRs near massive stars. No evidence is found for deuteration of aromatic material, with (D/H)$_{\\rm arom} \\lesssim 0.016$: deuteration of the aliphatic material exceeds that of the aromatic material by at least a factor 10. The observed levels of deuteration may account for the depletion of D observed in the Galactic interstellar medium. If so, the $4.65\\mu$m feature may be detectable in absorption.         |"
      ],
      "text/plain": [
       "[2504.02538] Detection of Deuterated Hydrocarbon Nanoparticles in the Whirlpool Galaxy, M51\n",
       "\tB. T. Draine, et al. -- incl., <mark>E. Schinnerer</mark>, <mark>F. Walter</mark>"
      ]
     },
     "metadata": {},
     "output_type": "display_data"
    },
    {
     "data": {
      "text/markdown": [
       "## Failed papers"
      ],
      "text/plain": [
       "<IPython.core.display.Markdown object>"
      ]
     },
     "metadata": {},
     "output_type": "display_data"
    },
    {
     "data": {
      "text/markdown": [
       "\n",
       "|||\n",
       "|---:|:---|\n",
       "| [![arXiv](https://img.shields.io/badge/arXiv-2504.02294-b31b1b.svg)](https://arxiv.org/abs/2504.02294) | **Search for Fast Radio Bursts and radio pulsars from pulsing Ultraluminous X-ray Sources**  |\n",
       "|| J. Bai, et al. -- incl., <mark>N. Wang</mark> |\n",
       "|*Appeared on*| *2025-04-04*|\n",
       "|*Comments*| *9 pages, 2 figures, 2 tables, Accepted for publication in ApJ*|\n",
       "|**Abstract**|            We conducted targeted fast radio burst (FRB) and pulsar searches on eight pulsing ultraluminous X-ray sources (PULXs) using the Five-hundred-meter Aperture Spherical Radio Telescope (FAST) and the Parkes 64-meter Radio Telescope (Murriyang) to investigate whether PULXs could be progenitors of FRBs. FAST carried out 12 observations of four PULXs, totaling 8 hours, while Parkes conducted 12 observations of the remaining four PULXs, totaling 11 hours. No significant signals were detected through single-pulse and periodic searches, covering a dispersion measure (DM) range of 0-5000 pc cm$^{-3}$, placing stringent upper limits on the radio flux density from these sources. The results imply that accretion processes and dense stellar winds in PULXs likely suppress or attenuate potential coherent emission in radio band. Additionally, the beaming factor and luminosity of FRBs associated with PULXs, as well as the highly relativistic and magnetized nature of their outflows, may limit detectability. Non-detection yielded from the observations covering the full orbital phases of PULXs can also constrain the theoretical models that link FRB emission to highly magnetized neutron stars in binary systems.         |\n",
       "|<p style=\"color:green\"> **ERROR** </p>| <p style=\"color:green\">affiliation error: mpia.affiliation_verifications: 'Heidelberg' keyword not found.</p> |"
      ],
      "text/plain": [
       "<IPython.core.display.Markdown object>"
      ]
     },
     "metadata": {},
     "output_type": "display_data"
    },
    {
     "data": {
      "text/markdown": [
       "\n",
       "|||\n",
       "|---:|:---|\n",
       "| [![arXiv](https://img.shields.io/badge/arXiv-2504.02415-b31b1b.svg)](https://arxiv.org/abs/2504.02415) | **Unveiling Spatiotemporal Properties of the Quasi-periodic Pulsations in the Balmer Continuum at 3600 Å in an X-class Solar White-light Flare**  |\n",
       "|| D.-C. Song, et al. -- incl., <mark>Y. Wang</mark> |\n",
       "|*Appeared on*| *2025-04-04*|\n",
       "|*Comments*| *19 pages, 6 figures, and two tables*|\n",
       "|**Abstract**|            Quasi-periodic pulsations (QPPs) in the Balmer continuum of solar white-light flares (WLFs) are rarely reported, and accurately pinpointing the spatial source of flaring QPPs remains a significant challenge. We present spatiotemporal characteristics of QPPs of an X2.8 two-ribbon solar WLF (SOL2023-12-14T17:02), which was well observed by the White-light Solar Telescope (WST) aboard the Advanced Space-based Solar Observatory, with high-cadence imaging (1--2 s) in the Balmer continuum at 3600 Å. Combined with additional multi-instrument data, we find that the enhancement of the WLF in both Balmer and Paschen continua shows strong spatiotemporal correlation with hard X-ray (HXR) emissions. Notably, the pulses in the WST Balmer continuum exhibited a near-zero time lag with most HXR pulses, whereas soft X-ray and extreme ultraviolet emissions showed a lag of 2--3 s. Interestingly, quasi-harmonic QPPs with periods of $\\sim$11 s and $\\sim$20 s were observed in multiple wavelengths in the rising phase of the white-light continuum. Furthermore, we employed Fourier transform to spatially locate the QPPs around 11 and 20 s, revealing that they primarily originated from the east flare ribbon, which exhibited the most substantial continuum enhancement. More interestingly, we find that the west ribbon contributed significantly to the 11-second QPP but had a weaker contribution to the 20-second QPP. Moreover, the occurrence of quasi-harmonic QPPs is temporally coincident with the rapid elongation and separation motions of flare ribbons. Possible mechanisms for the quasi-harmonic QPPs have been discussed. These observations provide valuable insights into QPP modeling for solar and stellar flares.         |\n",
       "|<p style=\"color:green\"> **ERROR** </p>| <p style=\"color:green\">affiliation error: mpia.affiliation_verifications: 'Heidelberg' keyword not found.</p> |"
      ],
      "text/plain": [
       "<IPython.core.display.Markdown object>"
      ]
     },
     "metadata": {},
     "output_type": "display_data"
    },
    {
     "data": {
      "text/markdown": [
       "\n",
       "|||\n",
       "|---:|:---|\n",
       "| [![arXiv](https://img.shields.io/badge/arXiv-2504.02035-b31b1b.svg)](https://arxiv.org/abs/2504.02035) | **Strikingly high fraction of fast rotators in Magellanic Cloud star clusters**  |\n",
       "|| G. Ettorre, et al. -- incl., <mark>M. Fouesneau</mark> |\n",
       "|*Appeared on*| *2025-04-04*|\n",
       "|*Comments*| *Accepted for publication in MNRAS. 19 pages, 16 figures, 3 tables (additional 5 pages and 5 figures in the appendix)*|\n",
       "|**Abstract**|            There has been growing evidence that the rich star clusters in the Magellanic Clouds contain significant fractions of rapidly rotating stars. In this work, we aim to constrain these fractions by studying the colour-magnitude diagrams of four star clusters, selected among those with the most striking signatures of fast rotators. Using isochrones derived from PARSEC v2.0 stellar tracks, we generate distinct stellar populations, each covering a limited interval of initial rotation rates $\\omega_\\mathrm{i}$, referred to as 'Partial Models' (PMs). Using optimization algorithms and Monte Carlo Markov Chains, PMs are combined to create the final best-fitting model. In our analysis, we adopt two key assumptions: a uniform age and an isotropic distribution of stellar spin axes within each cluster. The solutions are allowed to explore the entire range of $\\omega_\\mathrm{i}$, and different values of age, metallicity, distance and foreground extinction. We find that the rotational velocity distributions in all four clusters reveal a high fraction of stars with $\\omega_\\mathrm{i}$ close to the break-up value, in all cases. Specifically, the fraction of stars with $\\omega_\\mathrm{i}>0.7$ exceeds $80\\%$ in the clusters NGC 419 of the Small Magellanic Cloud (SMC) and NGC 1831 and NGC 1866 of the Large Magellanic Cloud (LMC). For NGC 2203 of the LMC, this fraction is smaller, although it still exceeds $50\\%$, confirming that also this cluster is mainly populated by fast-rotating stars.         |\n",
       "|<p style=\"color:green\"> **ERROR** </p>| <p style=\"color:green\">affiliation error: mpia.affiliation_verifications: 'Planck' keyword not found.</p> |"
      ],
      "text/plain": [
       "<IPython.core.display.Markdown object>"
      ]
     },
     "metadata": {},
     "output_type": "display_data"
    },
    {
     "data": {
      "text/markdown": [
       "\n",
       "|||\n",
       "|---:|:---|\n",
       "| [![arXiv](https://img.shields.io/badge/arXiv-2504.02305-b31b1b.svg)](https://arxiv.org/abs/2504.02305) | **Nuclear Winds Drive Large-Scale Cold Gas Outflows in Quasars during the Reionization Epoch**  |\n",
       "|| Y. Zhu, et al. -- incl., <mark>E. Bañados</mark> |\n",
       "|*Appeared on*| *2025-04-04*|\n",
       "|*Comments*| *14 pages; submitted*|\n",
       "|**Abstract**|            Accreting supermassive black holes (SMBHs) regulate the evolution of their host galaxies through powerful outflows and multi-phase feedback. This process plays a crucial role in shaping SMBH-galaxy co-evolution across cosmic time, but direct evidence linking nuclear winds to large-scale cold gas outflows, particularly in high-redshift quasars, has remained elusive. Here we present statistical evidence of a connection between nuclear winds and large-scale cold gas outflows in quasars at $z \\sim 5.5$. Using stacked [C II] 158 $\\mu$m emission profiles from ALMA observations, which trace galactic-scale neutral gas, we compare broad absorption line (BAL) quasars -- tracing parsec- to sub-kiloparsec-scale nuclear winds -- with non-BAL quasars. The BAL stack reveals a significant (S/N=4.45) broad component in the [C II] emission, indicating high-velocity neutral gas outflows with a velocity offset of $\\Delta v_{\\rm b} = -2.1 \\times 10^2 \\, \\rm km\\,s^{-1}$ and a full width at half maximum of $1.18 \\times 10^3 \\, \\rm km\\,s^{-1}$, while the non-BAL stack shows no such feature. We estimate that a few percent up to one-quarter of the BAL wind energy is transferred to neutral gas on kiloparsec scales. These findings provide direct observational evidence that nuclear winds couple with galactic-scale neutral gas flows, supporting multi-phase AGN feedback models. This mechanism may contribute to explaining the diversity of $M_{\\rm BH}/M_*$ ratios observed in some luminous AGN recently observed by JWST, compared to the Magorrian relation.         |\n",
       "|<p style=\"color:red\"> **ERROR** </p>| <p style=\"color:red\">latex error list index out of range</p> |"
      ],
      "text/plain": [
       "<IPython.core.display.Markdown object>"
      ]
     },
     "metadata": {},
     "output_type": "display_data"
    },
    {
     "data": {
      "text/markdown": [
       "\n",
       "|||\n",
       "|---:|:---|\n",
       "| [![arXiv](https://img.shields.io/badge/arXiv-2504.02394-b31b1b.svg)](https://arxiv.org/abs/2504.02394) | **Mass, Luminosity, and Stellar Age of Early-type Stars from the LAMOST Survey**  |\n",
       "|| Q. Li, et al. -- incl., <mark>J. Li</mark> |\n",
       "|*Appeared on*| *2025-04-04*|\n",
       "|*Comments*| **|\n",
       "|**Abstract**|            Mass ($M$) and luminosity ($L$) are fundamental parameters of stars but can only be measured indirectly. Typically, effective temperature ($T_{\\rm eff}$), surface gravity (${\\rm log}\\ g$) and metallicity ([M/H]) are derived from stellar spectra, then $M$, $L$ and stellar age ($t$) can be obtained by interpolating in the grid of stellar evolutionary models. In this paper, we use the Random Forest (RF) in combination with the evolutionary grid from PARSEC 1.2S to determine $M$, $L$, $t$ and initial mass ($M_{\\rm i}$) for early-type main-sequence stars ($T_{\\rm eff}\\geq 7,000\\ {\\rm K}$) as identified from the LAMOST survey. The convex hull algorithm is employed to select the main-sequence stars. The results demonstrate that the prediction precision is $32\\%$ and $9\\%$ for $L$ and $M$, respectively, which is comparable to that achieved by fitting evolutionary tracks. Furthermore, the predicted $L$ also aligns with Gaia's observations, with a relative difference of $36\\%$. The prediction for $t$ is relatively less accurate, indicating a difference of 0.44 Gyr for two components in wide binaries. This discrepancy is due to the inconsistent metallicity measurements. For the two sets of atmospheric parameters we used, the relative differences in $L$, $M$, $t$ and $M_{\\rm i}$ are $29\\%$, $7\\%$, $36\\%$ and $7\\%$, respectively. The influence of metallicity on these parameters is analyzed, with the conclusion that metallicity has the greatest impact on $t$. Consequently, two catalogs are presented, which would be useful for studying stellar populations such as the luminosity function and initial mass function of early-type stars.         |\n",
       "|<p style=\"color:red\"> **ERROR** </p>| <p style=\"color:red\">latex error not a gzip file</p> |"
      ],
      "text/plain": [
       "<IPython.core.display.Markdown object>"
      ]
     },
     "metadata": {},
     "output_type": "display_data"
    }
   ],
   "source": [
    "import datetime\n",
    "today = str(datetime.date.today())\n",
    "logfile = f\"_build/html/logs/log-{today}.md\"\n",
    "\n",
    "\n",
    "with open(logfile, 'w') as logs:\n",
    "    # Success\n",
    "    logs.write(f'# Arxiv on Deck 2: Logs - {today}\\n\\n')\n",
    "    logs.write(\"\"\"* Arxiv had {0:,d} new papers\\n\"\"\".format(len(new_papers)))\n",
    "    logs.write(\"\"\"    * {0:,d} with possible author matches\\n\\n\"\"\".format(len(candidates)))\n",
    "    logs.write(\"## Sucessful papers\\n\\n\")\n",
    "    display(Markdown(\"## Successful papers\"))\n",
    "    success = [k[0] for k in documents]\n",
    "    for candid in candidates:\n",
    "        if candid['identifier'].split(':')[-1] in success:\n",
    "            display(candid)\n",
    "            logs.write(candid.generate_markdown_text() + '\\n\\n')\n",
    "\n",
    "    ## failed\n",
    "    logs.write(\"## Failed papers\\n\\n\")\n",
    "    display(Markdown(\"## Failed papers\"))\n",
    "    failed = sorted(failed, key=lambda x: x[1])\n",
    "    current_reason = \"\"\n",
    "    for paper, reason in failed:\n",
    "        if 'affiliation' in reason:\n",
    "            color = 'green'\n",
    "        else:\n",
    "            color = 'red'\n",
    "        data = Markdown(\n",
    "                paper.generate_markdown_text() + \n",
    "                f'\\n|<p style=\"color:{color:s}\"> **ERROR** </p>| <p style=\"color:{color:s}\">{reason:s}</p> |'\n",
    "               )\n",
    "        if reason != current_reason:\n",
    "            logs.write(f'### {reason:s} \\n\\n')\n",
    "            current_reason = reason\n",
    "        logs.write(data.data + '\\n\\n')\n",
    "        \n",
    "        # only display here the important errors (all in logs)\n",
    "        # if color in ('red',):\n",
    "        display(data)"
   ]
  },
  {
   "cell_type": "markdown",
   "id": "472d20ee",
   "metadata": {
    "papermill": {
     "duration": 0.006525,
     "end_time": "2025-04-04T04:19:46.551599",
     "exception": false,
     "start_time": "2025-04-04T04:19:46.545074",
     "status": "completed"
    },
    "tags": []
   },
   "source": [
    "## Export documents\n",
    "\n",
    "We now write the .md files and export relevant images"
   ]
  },
  {
   "cell_type": "code",
   "execution_count": 7,
   "id": "d426aed9",
   "metadata": {
    "execution": {
     "iopub.execute_input": "2025-04-04T04:19:46.565550Z",
     "iopub.status.busy": "2025-04-04T04:19:46.565307Z",
     "iopub.status.idle": "2025-04-04T04:19:46.572392Z",
     "shell.execute_reply": "2025-04-04T04:19:46.571847Z"
    },
    "papermill": {
     "duration": 0.015162,
     "end_time": "2025-04-04T04:19:46.573334",
     "exception": false,
     "start_time": "2025-04-04T04:19:46.558172",
     "status": "completed"
    },
    "tags": []
   },
   "outputs": [],
   "source": [
    "def export_markdown_summary(md: str, md_fname:str, directory: str):\n",
    "    \"\"\"Export MD document and associated relevant images\"\"\"\n",
    "    import os\n",
    "    import shutil\n",
    "    import re\n",
    "\n",
    "    if (os.path.exists(directory) and not os.path.isdir(directory)):\n",
    "        raise RuntimeError(f\"a non-directory file exists with name {directory:s}\")\n",
    "\n",
    "    if (not os.path.exists(directory)):\n",
    "        print(f\"creating directory {directory:s}\")\n",
    "        os.mkdir(directory)\n",
    "\n",
    "    fig_fnames = (re.compile(r'\\[Fig.*\\]\\((.*)\\)').findall(md) + \n",
    "                  re.compile(r'\\<img src=\"([^>\\s]*)\"[^>]*/>').findall(md))\n",
    "    print(\"found figures\", fig_fnames)\n",
    "    for fname in fig_fnames:\n",
    "        if 'http' in fname:\n",
    "            # No need to copy online figures\n",
    "            continue\n",
    "        if not os.path.exists(fname):\n",
    "            print(\"file not found\", fname)\n",
    "            continue\n",
    "        print(\"copying \", fname, \"to\", directory)\n",
    "        destdir = os.path.join(directory, os.path.dirname(fname))\n",
    "        destfname = os.path.join(destdir, os.path.basename(fname))\n",
    "        try:\n",
    "            os.makedirs(destdir)\n",
    "        except FileExistsError:\n",
    "            pass\n",
    "        shutil.copy(fname, destfname)\n",
    "    with open(os.path.join(directory, md_fname), 'w') as fout:\n",
    "        fout.write(md)\n",
    "    print(\"exported in \", os.path.join(directory, md_fname))\n",
    "    [print(\"    + \" + os.path.join(directory,fk)) for fk in fig_fnames]"
   ]
  },
  {
   "cell_type": "code",
   "execution_count": 8,
   "id": "014d04a4",
   "metadata": {
    "execution": {
     "iopub.execute_input": "2025-04-04T04:19:46.587995Z",
     "iopub.status.busy": "2025-04-04T04:19:46.587430Z",
     "iopub.status.idle": "2025-04-04T04:19:46.613443Z",
     "shell.execute_reply": "2025-04-04T04:19:46.612854Z"
    },
    "papermill": {
     "duration": 0.034282,
     "end_time": "2025-04-04T04:19:46.614494",
     "exception": false,
     "start_time": "2025-04-04T04:19:46.580212",
     "status": "completed"
    },
    "tags": []
   },
   "outputs": [
    {
     "name": "stdout",
     "output_type": "stream",
     "text": [
      "found figures ['tmp_2504.02071/./Figure6_Sep30.jpg', 'tmp_2504.02071/./Figure7_Sept30.jpg', '', '', '', '']\n",
      "copying  tmp_2504.02071/./Figure6_Sep30.jpg to _build/html/\n",
      "copying  tmp_2504.02071/./Figure7_Sept30.jpg to _build/html/\n",
      "file not found \n",
      "file not found \n",
      "file not found \n",
      "file not found \n",
      "exported in  _build/html/2504.02071.md\n",
      "    + _build/html/tmp_2504.02071/./Figure6_Sep30.jpg\n",
      "    + _build/html/tmp_2504.02071/./Figure7_Sept30.jpg\n",
      "    + _build/html/\n",
      "    + _build/html/\n",
      "    + _build/html/\n",
      "    + _build/html/\n",
      "found figures ['tmp_2504.02136/./Figures_2/iron_detections_maps_with_summed_regions_subset_0_to_None.png', 'tmp_2504.02136/./Figures_2/iron_detections_with_summed_regions_shaded_lines_subset_0_to_None.png', 'tmp_2504.02136/./Figures_2/r_obs_v_rmodel_ne_limits_x_1.2_to_1.86_caseA_2.png', 'tmp_2504.02136/./Figures_2/r_obs_v_rmodel_ne_limits_x_4_to_27_caseA_2.png', 'tmp_2504.02136/./Figures_2/delta_Alambdas_dual_limits_x_1.2_to_1.86_caseA_2.png', 'tmp_2504.02136/./Figures_2/delta_Alambdas_dual_limits_x_4_to_27_caseA_2.png', 'tmp_2504.02136/./Figures_2/beta_1644_ne_dual_limits_x_1.2_to_1.86_caseA_2.png', 'tmp_2504.02136/./Figures_2/beta_1644_ne_dual_limits_x_4_to_27_caseA_2.png', 'tmp_2504.02136/./Figures_2/r_obs_v_rmodel_ne_limits_x_1.2_to_1.86_a4dj72.png', 'tmp_2504.02136/./Figures_2/delta_Alambdas_dual_limits_x_1.2_to_1.86_a4dj72.png', 'tmp_2504.02136/./Figures_2/beta_1644_ne_dual_limits_x_1.2_to_1.86_a4dj72.png']\n",
      "copying  tmp_2504.02136/./Figures_2/iron_detections_maps_with_summed_regions_subset_0_to_None.png to _build/html/\n",
      "copying  tmp_2504.02136/./Figures_2/iron_detections_with_summed_regions_shaded_lines_subset_0_to_None.png to _build/html/\n",
      "copying  tmp_2504.02136/./Figures_2/r_obs_v_rmodel_ne_limits_x_1.2_to_1.86_caseA_2.png to _build/html/\n",
      "copying  tmp_2504.02136/./Figures_2/r_obs_v_rmodel_ne_limits_x_4_to_27_caseA_2.png to _build/html/\n",
      "copying  tmp_2504.02136/./Figures_2/delta_Alambdas_dual_limits_x_1.2_to_1.86_caseA_2.png to _build/html/\n",
      "copying  tmp_2504.02136/./Figures_2/delta_Alambdas_dual_limits_x_4_to_27_caseA_2.png to _build/html/\n",
      "copying  tmp_2504.02136/./Figures_2/beta_1644_ne_dual_limits_x_1.2_to_1.86_caseA_2.png to _build/html/\n",
      "copying  tmp_2504.02136/./Figures_2/beta_1644_ne_dual_limits_x_4_to_27_caseA_2.png to _build/html/\n",
      "copying  tmp_2504.02136/./Figures_2/r_obs_v_rmodel_ne_limits_x_1.2_to_1.86_a4dj72.png to _build/html/\n",
      "copying  tmp_2504.02136/./Figures_2/delta_Alambdas_dual_limits_x_1.2_to_1.86_a4dj72.png to _build/html/\n",
      "copying  tmp_2504.02136/./Figures_2/beta_1644_ne_dual_limits_x_1.2_to_1.86_a4dj72.png to _build/html/\n",
      "exported in  _build/html/2504.02136.md\n",
      "    + _build/html/tmp_2504.02136/./Figures_2/iron_detections_maps_with_summed_regions_subset_0_to_None.png\n",
      "    + _build/html/tmp_2504.02136/./Figures_2/iron_detections_with_summed_regions_shaded_lines_subset_0_to_None.png\n",
      "    + _build/html/tmp_2504.02136/./Figures_2/r_obs_v_rmodel_ne_limits_x_1.2_to_1.86_caseA_2.png\n",
      "    + _build/html/tmp_2504.02136/./Figures_2/r_obs_v_rmodel_ne_limits_x_4_to_27_caseA_2.png\n",
      "    + _build/html/tmp_2504.02136/./Figures_2/delta_Alambdas_dual_limits_x_1.2_to_1.86_caseA_2.png\n",
      "    + _build/html/tmp_2504.02136/./Figures_2/delta_Alambdas_dual_limits_x_4_to_27_caseA_2.png\n",
      "    + _build/html/tmp_2504.02136/./Figures_2/beta_1644_ne_dual_limits_x_1.2_to_1.86_caseA_2.png\n",
      "    + _build/html/tmp_2504.02136/./Figures_2/beta_1644_ne_dual_limits_x_4_to_27_caseA_2.png\n",
      "    + _build/html/tmp_2504.02136/./Figures_2/r_obs_v_rmodel_ne_limits_x_1.2_to_1.86_a4dj72.png\n",
      "    + _build/html/tmp_2504.02136/./Figures_2/delta_Alambdas_dual_limits_x_1.2_to_1.86_a4dj72.png\n",
      "    + _build/html/tmp_2504.02136/./Figures_2/beta_1644_ne_dual_limits_x_1.2_to_1.86_a4dj72.png\n",
      "found figures ['tmp_2504.02338/./Fig/LindLbol.png', 'tmp_2504.02338/./Fig/teegarden_xmm_om.jpg', 'tmp_2504.02338/./Fig/flare2.jpg']\n",
      "copying  tmp_2504.02338/./Fig/LindLbol.png to _build/html/\n",
      "copying  tmp_2504.02338/./Fig/teegarden_xmm_om.jpg to _build/html/\n",
      "copying  tmp_2504.02338/./Fig/flare2.jpg to _build/html/\n",
      "exported in  _build/html/2504.02338.md\n",
      "    + _build/html/tmp_2504.02338/./Fig/LindLbol.png\n",
      "    + _build/html/tmp_2504.02338/./Fig/teegarden_xmm_om.jpg\n",
      "    + _build/html/tmp_2504.02338/./Fig/flare2.jpg\n",
      "found figures ['tmp_2504.02525/./Plots/v-correlation-2D_FullBox.png', 'tmp_2504.02525/./Plots/v-correlation-2D_vx_vy_FullBox.png', 'tmp_2504.02525/./Plots/v-ISW-2D_400Mpc.png', 'tmp_2504.02525/./Plots/slab_delta_rescaled.png', 'tmp_2504.02525/./Plots/slab_phi_rescaled.png']\n",
      "copying  tmp_2504.02525/./Plots/v-correlation-2D_FullBox.png to _build/html/\n",
      "copying  tmp_2504.02525/./Plots/v-correlation-2D_vx_vy_FullBox.png to _build/html/\n",
      "copying  tmp_2504.02525/./Plots/v-ISW-2D_400Mpc.png to _build/html/\n",
      "copying  tmp_2504.02525/./Plots/slab_delta_rescaled.png to _build/html/\n",
      "copying  tmp_2504.02525/./Plots/slab_phi_rescaled.png to _build/html/\n",
      "exported in  _build/html/2504.02525.md\n",
      "    + _build/html/tmp_2504.02525/./Plots/v-correlation-2D_FullBox.png\n",
      "    + _build/html/tmp_2504.02525/./Plots/v-correlation-2D_vx_vy_FullBox.png\n",
      "    + _build/html/tmp_2504.02525/./Plots/v-ISW-2D_400Mpc.png\n",
      "    + _build/html/tmp_2504.02525/./Plots/slab_delta_rescaled.png\n",
      "    + _build/html/tmp_2504.02525/./Plots/slab_phi_rescaled.png\n",
      "found figures ['tmp_2504.02538/./f2.png', 'tmp_2504.02538/./f9a.png', 'tmp_2504.02538/./f9b.png', 'tmp_2504.02538/./f10a.png', 'tmp_2504.02538/./f10b.png', 'tmp_2504.02538/./f10c.png', 'tmp_2504.02538/./f10d.png']\n",
      "copying  tmp_2504.02538/./f2.png to _build/html/\n",
      "copying  tmp_2504.02538/./f9a.png to _build/html/\n",
      "copying  tmp_2504.02538/./f9b.png to _build/html/\n",
      "copying  tmp_2504.02538/./f10a.png to _build/html/\n",
      "copying  tmp_2504.02538/./f10b.png to _build/html/\n",
      "copying  tmp_2504.02538/./f10c.png to _build/html/\n",
      "copying  tmp_2504.02538/./f10d.png to _build/html/\n",
      "exported in  _build/html/2504.02538.md\n",
      "    + _build/html/tmp_2504.02538/./f2.png\n",
      "    + _build/html/tmp_2504.02538/./f9a.png\n",
      "    + _build/html/tmp_2504.02538/./f9b.png\n",
      "    + _build/html/tmp_2504.02538/./f10a.png\n",
      "    + _build/html/tmp_2504.02538/./f10b.png\n",
      "    + _build/html/tmp_2504.02538/./f10c.png\n",
      "    + _build/html/tmp_2504.02538/./f10d.png\n"
     ]
    }
   ],
   "source": [
    "for paper_id, md in documents:\n",
    "    export_markdown_summary(md, f\"{paper_id:s}.md\", '_build/html/')"
   ]
  },
  {
   "cell_type": "markdown",
   "id": "f087a0a7",
   "metadata": {
    "papermill": {
     "duration": 0.006847,
     "end_time": "2025-04-04T04:19:46.628383",
     "exception": false,
     "start_time": "2025-04-04T04:19:46.621536",
     "status": "completed"
    },
    "tags": []
   },
   "source": [
    "## Display the papers\n",
    "\n",
    "Not necessary but allows for a quick check."
   ]
  },
  {
   "cell_type": "code",
   "execution_count": 9,
   "id": "fd25f625",
   "metadata": {
    "execution": {
     "iopub.execute_input": "2025-04-04T04:19:46.642659Z",
     "iopub.status.busy": "2025-04-04T04:19:46.642420Z",
     "iopub.status.idle": "2025-04-04T04:19:46.652278Z",
     "shell.execute_reply": "2025-04-04T04:19:46.651622Z"
    },
    "papermill": {
     "duration": 0.018268,
     "end_time": "2025-04-04T04:19:46.653304",
     "exception": false,
     "start_time": "2025-04-04T04:19:46.635036",
     "status": "completed"
    },
    "scrolled": false,
    "tags": []
   },
   "outputs": [
    {
     "data": {
      "text/markdown": [
       "<div class=\"macros\" style=\"visibility:hidden;\">\n",
       "$\\newcommand{\\ensuremath}{}$\n",
       "$\\newcommand{\\xspace}{}$\n",
       "$\\newcommand{\\object}[1]{\\texttt{#1}}$\n",
       "$\\newcommand{\\farcs}{{.}''}$\n",
       "$\\newcommand{\\farcm}{{.}'}$\n",
       "$\\newcommand{\\arcsec}{''}$\n",
       "$\\newcommand{\\arcmin}{'}$\n",
       "$\\newcommand{\\ion}[2]{#1#2}$\n",
       "$\\newcommand{\\textsc}[1]{\\textrm{#1}}$\n",
       "$\\newcommand{\\hl}[1]{\\textrm{#1}}$\n",
       "$\\newcommand{\\footnote}[1]{}$\n",
       "$\\newcommand{\\commentMS}[1]{\\textcolor{orange}{[MS: #1]}}$\n",
       "$\\newcommand$</div>\n",
       "\n",
       "\n",
       "\n",
       "<div id=\"title\">\n",
       "\n",
       "# Stellar tidal streams around nearby spiral galaxies with deep imaging from amateur telescopes\n",
       "\n",
       "</div>\n",
       "<div id=\"comments\">\n",
       "\n",
       "[![arXiv](https://img.shields.io/badge/arXiv-2504.02071-b31b1b.svg)](https://arxiv.org/abs/2504.02071)<mark>Appeared on: 2025-04-04</mark> -  _21 pages, 16 figures, 5 tables. Full resolution version available in this link: this https URL_\n",
       "\n",
       "</div>\n",
       "<div id=\"authors\">\n",
       "\n",
       "D. Martinez-Delgado, et al. -- incl., <mark>M. Schirmer</mark>\n",
       "\n",
       "</div>\n",
       "<div id=\"abstract\">\n",
       "\n",
       "**Abstract:** Tidal interactions between massive galaxies and their satellites are fundamental processes in a Universe with $\\Lambda$ -Cold Dark Matter ( $\\Lambda$ CDM) cosmology, redistributing material into faint features that preserve records of past galactic interactions. While stellar streams in the Local Group impressively demonstrate satellite disruption, they do not constitute a statistically significant sample. Constructing a substantial catalog of stellar streams beyond the Local Group remains challenging due to the difficulties in obtaining sufficiently deep, wide-field images of galaxies. Despite their potential to illuminate dark matter distribution and galaxy formation processes overall, stellar streams remain underutilized as cosmological probes. The Stellar Tidal Stream Survey (STSS) addresses this observational gap by leveraging amateur telescopes to obtain deep, scientific-grade images of galactic outskirts, capable of building a more statistically meaningful sample of stellar streams. Over the last decade, the STSS has acquired deep (up to surface brightness limit $\\sim$ 28.3 mag/arcsec $^2$ in the _r_ -band) wide-field images of 15 nearby Milky Way analog galaxies using a coordinated network of robotic amateur telescopes, avoiding the issues associated with `mosaicing’ smaller images taken with a single, professional telescope. Our survey has revealed a diverse range of previously unreported faint features related to dwarf satellite accretion— including stellar streams, shells, and umbrella-like structures. We serendipitously discover an ultra-diffuse galaxy (NGC150-UDG1) which shows hints of tidal tails. The STSS demonstrates the suitability of modern amateur telescopes to detect and study faint, diffuse structures in large fields around nearby spiral galaxies. Their economic and accessibility advantages enable larger statistical samples with deep imaging, essential for testing galaxy formation models and constraining the frequency and properties of minor merger events in the local Universe.\n",
       "\n",
       "</div>\n",
       "\n",
       "<div id=\"div_fig1\">\n",
       "\n",
       "<img src=\"tmp_2504.02071/./Figure6_Sep30.jpg\" alt=\"Fig20\" width=\"100%\"/>\n",
       "\n",
       "**Figure 20. -** Our STSS images of ESO 545-5, NGC 95, NGC 150, NGC 925, NGC 1511 and NGC 2775. North is up and East is left. See text for discussion on all six images. (*fig:cmd1*)\n",
       "\n",
       "</div>\n",
       "<div id=\"div_fig2\">\n",
       "\n",
       "<img src=\"tmp_2504.02071/./Figure7_Sept30.jpg\" alt=\"Fig23\" width=\"100%\"/>\n",
       "\n",
       "**Figure 23. -** Our STSS images of NGC 3041, NGC 3614, NGC3631, NGC 3631, NGC 4390, NGC 4414 and NGC 4684. See text for discussion on all six images. (*fig:cmd2*)\n",
       "\n",
       "</div>\n",
       "<div id=\"div_fig3\">\n",
       "\n",
       "<img src=\"\" alt=\"Fig5.1\" width=\"25%\"/><img src=\"\" alt=\"Fig5.2\" width=\"25%\"/><img src=\"\" alt=\"Fig5.3\" width=\"25%\"/><img src=\"\" alt=\"Fig5.4\" width=\"25%\"/>\n",
       "\n",
       "**Figure 5. -** Vibrational stability equation of state\n",
       "               $S_{\\mathrm{vib}}(\\lg e, \\lg \\rho)$.\n",
       "               $>0$ means vibrational stability.\n",
       "              Vibrational stability equation of state\n",
       "               $S_{\\mathrm{vib}}(\\lg e, \\lg \\rho)$.\n",
       "               $>0$ means vibrational stability.\n",
       "              Nonlinear Model ResultsNonlinear Model ResultsSpectral types and photometry for stars in the\n",
       "  region.Spectral types and photometry for stars in the\n",
       "  region.List of nearby SNe used in this work.Summary for ISOCAM sources with mid-IR excess\n",
       "(YSO candidates).Summary for ISOCAM sources with mid-IR excess\n",
       "(YSO candidates). Sample stars with absolute magnitudecontinued. Sample stars with absolute magnitudecontinued.Shown in greyscale is a...Plotted above...Complexes characterisation.Line data and abundances ...Continued. (*FigVibStab*)\n",
       "\n",
       "</div><div id=\"qrcode\"><img src=https://api.qrserver.com/v1/create-qr-code/?size=100x100&data=\"https://arxiv.org/abs/2504.02071\"></div>"
      ],
      "text/plain": [
       "<IPython.core.display.Markdown object>"
      ]
     },
     "metadata": {},
     "output_type": "display_data"
    },
    {
     "data": {
      "text/markdown": [
       "<div class=\"macros\" style=\"visibility:hidden;\">\n",
       "$\\newcommand{\\ensuremath}{}$\n",
       "$\\newcommand{\\xspace}{}$\n",
       "$\\newcommand{\\object}[1]{\\texttt{#1}}$\n",
       "$\\newcommand{\\farcs}{{.}''}$\n",
       "$\\newcommand{\\farcm}{{.}'}$\n",
       "$\\newcommand{\\arcsec}{''}$\n",
       "$\\newcommand{\\arcmin}{'}$\n",
       "$\\newcommand{\\ion}[2]{#1#2}$\n",
       "$\\newcommand{\\textsc}[1]{\\textrm{#1}}$\n",
       "$\\newcommand{\\hl}[1]{\\textrm{#1}}$\n",
       "$\\newcommand{\\footnote}[1]{}$</div>\n",
       "\n",
       "\n",
       "\n",
       "<div id=\"title\">\n",
       "\n",
       "# Mid-infrared extinction curve for protostellar envelopes from JWST-detected embedded jet emission: the case of TMC1A\n",
       "\n",
       "</div>\n",
       "<div id=\"comments\">\n",
       "\n",
       "[![arXiv](https://img.shields.io/badge/arXiv-2504.02136-b31b1b.svg)](https://arxiv.org/abs/2504.02136)<mark>Appeared on: 2025-04-04</mark> -  _Submitted to A&A_\n",
       "\n",
       "</div>\n",
       "<div id=\"authors\">\n",
       "\n",
       "K. D. Assani, et al. -- incl., <mark>H. Beuther</mark>\n",
       "\n",
       "</div>\n",
       "<div id=\"abstract\">\n",
       "\n",
       "**Abstract:** Dust grains are fundamental components of the interstellar medium and play a crucial role in star formation, serving as catalysts for chemical reactions and the building blocks of planets. Extinction curves serve as a tool for characterizing dust properties, yet mid-infrared (MIR) extinction remains less constrained in protostellar environments. Gas-phase line ratios from embedded protostellar jets offer a spatially resolved method to measure extinction from protostellar envelopes, complementing traditional background starlight techniques. We aim to derive mid-IR extinction curves along the lines of sight toward a protostellar jet embedded within an envelope and assess whether they differ from those inferred in dense molecular clouds. We analyze JWST NIRSpec IFU and MIRI MRS observations, focusing on four locations along the blue-shifted TMC1A jet. After extracting observed [ $\\ion{Fe}{II}$ ] line intensities, we model intrinsic line ratios using the Cloudy spectral synthesis code across a range of electron densities and temperatures. By comparing observed near-IR (NIR) and MIR line ratios to Cloudy-predicted intrinsic ratios, we infer the relative extinction between NIR and MIR wavelengths. Electron densities ( $n_e$ ) derived from NIR [ $\\ion{Fe}{II}$ ] lines range from $\\sim5 \\times 10^4$ to $\\sim5 \\times 10^3$ cm $^{-3}$ along the jet axis at scales $\\lesssim$ 350 AU, serving as reference points for comparing relative NIR and MIR extinction. The derived MIR extinction values exhibit higher reddening than the empirical dark cloud curve from [ and McClure (2009)]() at the corresponding $n_e$ and temperatures ranging from a few 10 $^3$ K to $\\sim$ 10 $^4$ K, as adopted from shock models. While both electron density and temperature influence the NIR-to-MIR [ $\\ion{Fe}{II}$ ] line ratios, the ratios are more strongly dependent on $n_e$ over the adopted range. If the MIR emission originates from gas that is less dense and cooler than the NIR-emitting region, the inferred extinction curves remain consistent with background star-derived values. This study introduces a new line-based method for deriving spatially resolved MIR extinction curves towards embedded protostellar sources exhibiting a bright [ $\\ion{Fe}{II}$ ] jet. The results suggest that protostellar envelopes may contain dust with a modified grain size distribution---such as an increased fraction of larger grains, potentially due to grain growth---if the MIR and NIR lines originate from similar regions along the same sightlines. Alternatively, if the grain size distribution has not changed (i.e., no grain growth), the MIR lines may trace cooler, less dense gas than the NIR lines along the same sightlines. This method provides a novel approach for studying dust properties in star-forming regions and can be extended to other protostellar systems to refine extinction models in embedded environments.\n",
       "\n",
       "</div>\n",
       "\n",
       "<div id=\"div_fig1\">\n",
       "\n",
       "<img src=\"tmp_2504.02136/./Figures_2/iron_detections_maps_with_summed_regions_subset_0_to_None.png\" alt=\"Fig5.1\" width=\"50%\"/><img src=\"tmp_2504.02136/./Figures_2/iron_detections_with_summed_regions_shaded_lines_subset_0_to_None.png\" alt=\"Fig5.2\" width=\"50%\"/>\n",
       "\n",
       "**Figure 5. -** [$\\ion${Fe}{II}] emission lines used in this study and detected with NIRSpec and MIRI, arranged in order of increasing upper energy ($E_U/k$). **Top panels**: moment-0 maps (in units of erg s$^{-1}$ cm$^{-2}$ sr$^{-1}$), constructed by integrating the emission across the frequency range indicated by the shaded regions in the corresponding spectra below. Although integration is performed in frequency space, the x-axis is displayed in velocity (km s$^{-1}$) for clarity. A 3-sigma threshold is applied. The maps are overlaid with circular, color-coded apertures (0.7\") used consistently throughout this study. **Bottom panels**: spectra (in units of erg s$^{-1}$ cm$^{-2}$ sr$^{-1}$ Hz$^{-1}$) extracted from each aperture, with shaded regions highlighting the velocity range used for integration, primarily focusing on blue-shifted emission. Each subplot includes the rest wavelength ($\\lambda_0$), transition and upper energies ($\\Delta E$, $E_U$), and Einstein-A value for reference. (*fig:iron_detections_subset*)\n",
       "\n",
       "</div>\n",
       "<div id=\"div_fig2\">\n",
       "\n",
       "<img src=\"tmp_2504.02136/./Figures_2/r_obs_v_rmodel_ne_limits_x_1.2_to_1.86_caseA_2.png\" alt=\"Fig6.1\" width=\"16%\"/><img src=\"tmp_2504.02136/./Figures_2/r_obs_v_rmodel_ne_limits_x_4_to_27_caseA_2.png\" alt=\"Fig6.2\" width=\"16%\"/><img src=\"tmp_2504.02136/./Figures_2/delta_Alambdas_dual_limits_x_1.2_to_1.86_caseA_2.png\" alt=\"Fig6.3\" width=\"16%\"/><img src=\"tmp_2504.02136/./Figures_2/delta_Alambdas_dual_limits_x_4_to_27_caseA_2.png\" alt=\"Fig6.4\" width=\"16%\"/><img src=\"tmp_2504.02136/./Figures_2/beta_1644_ne_dual_limits_x_1.2_to_1.86_caseA_2.png\" alt=\"Fig6.5\" width=\"16%\"/><img src=\"tmp_2504.02136/./Figures_2/beta_1644_ne_dual_limits_x_4_to_27_caseA_2.png\" alt=\"Fig6.6\" width=\"16%\"/>\n",
       "\n",
       "**Figure 6. -** _NIR and MIR extinction toward the TMC1A jet_. Same as Figure 2, but extended to include additional a$^4$D lines in the NIR (left) used for $n_{\\rm e}$ derivation, along with MIR lines (right). Model scatter points correspond to the derived electron density at 10,000 K (see Sect. \\ref{sec:4_electron_density_NIR}), with uncertainties reflecting the uncertainty range in the determined $n_{\\rm e}$ value and temperatures from 5,000–10,000 K. Commonly used NIR/MIR extinction curves are overplotted for comparison (see text). (*fig:MIR_derived_extinction_same_cond*)\n",
       "\n",
       "</div>\n",
       "<div id=\"div_fig3\">\n",
       "\n",
       "<img src=\"tmp_2504.02136/./Figures_2/r_obs_v_rmodel_ne_limits_x_1.2_to_1.86_a4dj72.png\" alt=\"Fig1.1\" width=\"33%\"/><img src=\"tmp_2504.02136/./Figures_2/delta_Alambdas_dual_limits_x_1.2_to_1.86_a4dj72.png\" alt=\"Fig1.2\" width=\"33%\"/><img src=\"tmp_2504.02136/./Figures_2/beta_1644_ne_dual_limits_x_1.2_to_1.86_a4dj72.png\" alt=\"Fig1.3\" width=\"33%\"/>\n",
       "\n",
       "**Figure 1. -** Near-infrared (NIR) extinction of a$^4$D J=7/2 lines relative to the 1.644 $\\mu$m line (horizontal and vertical dashed lines.).\n",
       "**Top:** Observed (\\texttt{'o'}) and modeled (\\texttt{'*'}) line ratios for all four jet locations in this study.\n",
       "**Middle:** The difference in extinction relative to the 1.644 $\\mu$m line.\n",
       "**Bottom:** Derived $\\beta_{\\lambda}$ values, normalized by the extinction at 1.644 $\\mu$m, which is computed as an average over existing NIR extinction curves. This is compared with empirically determined NIR extinction curves---C89 cardelli1989relationship, and modeled extinction curves---WD1 [ and Weingartner (2001)](), KP5 [Pontoppidan, et. al (2024)]().\n",
       "We include $R_V=3.1$ and $R_V=5.5$ for applicable curves to illustrate that NIR extinction in the 1.2–1.8 $\\mu$m range is largely independent of $R_V$ and shows minimal differences between independent studies. Dashed lines mark the reference line ratio, extinction difference, and $\\beta_{\\lambda}$ value at 1.644 $\\mu$m (horizontal) and the wavelength of 1.644 $\\mu$m (vertical) in all three panels. (*fig:a4dj72_extinction*)\n",
       "\n",
       "</div><div id=\"qrcode\"><img src=https://api.qrserver.com/v1/create-qr-code/?size=100x100&data=\"https://arxiv.org/abs/2504.02136\"></div>"
      ],
      "text/plain": [
       "<IPython.core.display.Markdown object>"
      ]
     },
     "metadata": {},
     "output_type": "display_data"
    },
    {
     "data": {
      "text/markdown": [
       "<div class=\"macros\" style=\"visibility:hidden;\">\n",
       "$\\newcommand{\\ensuremath}{}$\n",
       "$\\newcommand{\\xspace}{}$\n",
       "$\\newcommand{\\object}[1]{\\texttt{#1}}$\n",
       "$\\newcommand{\\farcs}{{.}''}$\n",
       "$\\newcommand{\\farcm}{{.}'}$\n",
       "$\\newcommand{\\arcsec}{''}$\n",
       "$\\newcommand{\\arcmin}{'}$\n",
       "$\\newcommand{\\ion}[2]{#1#2}$\n",
       "$\\newcommand{\\textsc}[1]{\\textrm{#1}}$\n",
       "$\\newcommand{\\hl}[1]{\\textrm{#1}}$\n",
       "$\\newcommand{\\footnote}[1]{}$\n",
       "$\\newcommand{\\gaia}{{\\it Gaia}\\xspace}$\n",
       "$\\newcommand{\\chandra}{{\\it Chandra}\\xspace}$</div>\n",
       "\n",
       "\n",
       "\n",
       "<div id=\"title\">\n",
       "\n",
       "# Coronal and chromospheric activity of Teegarden's star \n",
       "\n",
       "</div>\n",
       "<div id=\"comments\">\n",
       "\n",
       "[![arXiv](https://img.shields.io/badge/arXiv-2504.02338-b31b1b.svg)](https://arxiv.org/abs/2504.02338)<mark>Appeared on: 2025-04-04</mark> -  _15 pages, 20 figures_\n",
       "\n",
       "</div>\n",
       "<div id=\"authors\">\n",
       "\n",
       "B. Fuhrmeister, et al. -- incl., <mark>T. Henning</mark>\n",
       "\n",
       "</div>\n",
       "<div id=\"abstract\">\n",
       "\n",
       "**Abstract:** Teegarden's star is a late-type M-dwarf planet host, typically showing only rather low levels of activity. In this paper we present an extensive characterisation of this activity at photospheric, chromospheric, and coronal levels.  We specifically investigated TESS observations of Teegarden's star, which showed two very large flares with an estimated flare fluence between 10 $^{29}$ and 10 $^{32}$ erg comparable to the largest solar flares.  We furthermore analysed nearly 300 CARMENES spectra and 11 ESPRESSO spectra covering all the usually used chromospheric lines in the optical from the $\\ion{Ca}{ii}$ H \\& K lines at 3930 Å  to the $\\ion{He}{i}$ infrared triplet at 10830 Å. These lines show different behaviour: The $\\ion{He}{i}$ infrared triplet is the only one absent in all spectra,  some lines show up only during flares, and  others are always present and highly variable. Specifically, the H $\\alpha$ line is more or less filled in during quiescence; however, the higher Balmer lines are still observed in emission. Many chromospheric lines show a correlation with H $\\alpha$ variability, which, in addition to stochastic behaviour, also shows systematic behaviour on different timescales including the rotation period.    Moreover, we found several flares and also report hints of an erupting prominence, which may have led to a coronal mass ejection. Finally, we present X-ray observations of Teegarden's star (i.e. a discovery pointing obtained with the $*Chandra*$ observatory)    and an extensive study with the $*XMM-Newton*$ observatory; when  these    two large flares were observed, one of them showed clear signatures of the Neupert effect, suggesting the production of hard X-rays in the system.\n",
       "\n",
       "</div>\n",
       "\n",
       "<div id=\"div_fig1\">\n",
       "\n",
       "<img src=\"tmp_2504.02338/./Fig/LindLbol.png\" alt=\"Fig18\" width=\"100%\"/>\n",
       "\n",
       "**Figure 18. -**  Time series of $L_{\\mathrm{indicator}}/L_{\\mathrm{bol}}$. For the CARMENES\n",
       "  $L_{\\mathrm{H}\\alpha}/L_{\\mathrm{bol}}$ we mark low activity states as green and blue dots, high activity states as  red dots, flares as magenta dots, and spectra with an asymmetric H$\\alpha$ shape as cyan dots (see Sect. \\ref{sec:halpha} for a detailed discussion). The cyan and magenta dots are labelled with the flare number also used in Fig.\\ref{subtracspec}. Flare no. 14 is not shown here since the spectrum gets into absorption, and therefore no $L_{\\mathrm{indicator}}/L_{\\mathrm{bol}}$ can be calculated with the $\\chi$ method used here since it is only defined for emission lines.\n",
       "  The ESPRESSO H$\\alpha$ measurements are marked as black triangles.\n",
       "  The $L_{\\rm X}/L_{\\mathrm{bol}}$ measurement of the *Chandra* observation is marked as a black star; that of the *XMM-Newton* observation is marked as a black diamond.  The time spans of the TESS observations are marked as   small black dots connected by a black line. Since TESS is not photometrically calibrated, the position on the y-axis is arbitrary (we note here that for a blackbody of the temperature of Teegarden's star about 20 percent of the radiation is in the TESS band). The red triangles mark the positions of the clusters of the higher activity states.\n",
       " (*pEWhalpha*)\n",
       "\n",
       "</div>\n",
       "<div id=\"div_fig2\">\n",
       "\n",
       "<img src=\"tmp_2504.02338/./Fig/teegarden_xmm_om.jpg\" alt=\"Fig1\" width=\"100%\"/>\n",
       "\n",
       "**Figure 1. -** _ XMM-Newton_ light curve for Teegarden's star obtained with the\n",
       "OM in the U band (red data points, time resolution 10 s) and\n",
       "the EPIC pn detector (blue data points, time resolution 300 s). Flare III occurs at $\\sim$18.6 h and Flare IV occurs at $\\sim$20.9 h.\n",
       " (*fig:xmm_pn_om*)\n",
       "\n",
       "</div>\n",
       "<div id=\"div_fig3\">\n",
       "\n",
       "<img src=\"tmp_2504.02338/./Fig/flare2.jpg\" alt=\"Fig3\" width=\"100%\"/>\n",
       "\n",
       "**Figure 3. -**  Close-up view of _XMM-Newton_ data for Flare IV. The OM U band rate (1 sec bins) is shown as blue data points, while the arrival times of the recorded EPIC events are shown as red dots.  (*flare_2_higres*)\n",
       "\n",
       "</div><div id=\"qrcode\"><img src=https://api.qrserver.com/v1/create-qr-code/?size=100x100&data=\"https://arxiv.org/abs/2504.02338\"></div>"
      ],
      "text/plain": [
       "<IPython.core.display.Markdown object>"
      ]
     },
     "metadata": {},
     "output_type": "display_data"
    },
    {
     "data": {
      "text/markdown": [
       "<div class=\"macros\" style=\"visibility:hidden;\">\n",
       "$\\newcommand{\\ensuremath}{}$\n",
       "$\\newcommand{\\xspace}{}$\n",
       "$\\newcommand{\\object}[1]{\\texttt{#1}}$\n",
       "$\\newcommand{\\farcs}{{.}''}$\n",
       "$\\newcommand{\\farcm}{{.}'}$\n",
       "$\\newcommand{\\arcsec}{''}$\n",
       "$\\newcommand{\\arcmin}{'}$\n",
       "$\\newcommand{\\ion}[2]{#1#2}$\n",
       "$\\newcommand{\\textsc}[1]{\\textrm{#1}}$\n",
       "$\\newcommand{\\hl}[1]{\\textrm{#1}}$\n",
       "$\\newcommand{\\footnote}[1]{}$\n",
       "$\\newcommand{\\be}{\\begin{equation}}$\n",
       "$\\newcommand{\\ee}{\\end{equation}}$\n",
       "$\\newcommand{\\bes}{\\begin{equation*}}$\n",
       "$\\newcommand{\\ees}{\\end{equation*}}$\n",
       "$\\newcommand{\\bea}{\\begin{eqnarray}}$\n",
       "$\\newcommand{\\eea}{\\end{eqnarray}}$\n",
       "$\\newcommand{\\beas}{\\begin{eqnarray*}}$\n",
       "$\\newcommand{\\eeas}{\\end{eqnarray*}}$\n",
       "$\\newcommand{\\msun}{M_{\\odot}}$\n",
       "$\\newcommand{\\ten}{10^{10}}$\n",
       "$\\newcommand{\\eleven}{10^{11}}$\n",
       "$\\newcommand{\\twelve}{10^{12}}$\n",
       "$\\newcommand{\\thirteen}{10^{13}}$\n",
       "$\\newcommand{\\fourteen}{10^{14}}$\n",
       "$\\newcommand{\\Mpc}{ h^{-1}{\\rm Mpc}}$\n",
       "$\\newcommand{\\de}{{\\rm d}}$\n",
       "$\\newcommand{\\rhoin}{\\rho_{\\rm in}}$\n",
       "$\\newcommand{\\rhoout}{\\rho_{\\rm out}}$\n",
       "$\\newcommand{\\phiin}{\\phi_{\\rm in}}$\n",
       "$\\newcommand{\\phiout}{\\phi_{\\rm out}}$\n",
       "$\\newcommand{\\roll}{R_{\\rm roll}}$\n",
       "$\\newcommand{\\lamin}{\\lambda_{\\rm in}}$\n",
       "$\\newcommand{\\lamout}{\\lambda_{\\rm out}}$\n",
       "$\\newcommand{\\mpl}{M_{\\rm Pl}}$\n",
       "$\\newcommand{\\senv}{S_{\\rm env}}$\n",
       "$\\newcommand{\\renv}{R_{\\rm env}}$\n",
       "$\\newcommand{\\denv}{\\delta_{\\rm env}}$\n",
       "$\\newcommand{\\dsc}{\\delta_{\\rm sc}}$\n",
       "$\\newcommand{\\dv}{\\delta_{\\rm v}}$\n",
       "$\\newcommand{\\tcr}{\\textcolor{red}}$\n",
       "$\\newcommand{\\tcb}{\\textcolor{red}}$\n",
       "$\\newcommand\\bnabla{{\\boldsymbol{\\nabla}}}$\n",
       "$\\newcommand\\br{{\\bf r}}$\n",
       "$\\newcommand\\bg{{\\bf g}}$\n",
       "$\\newcommand\\bv{{\\bf v}}$\n",
       "$\\newcommand\\bx{{\\bf x}}$\n",
       "$\\newcommand\\bxhat{{\\hat \\bx}}$\n",
       "$\\newcommand{\\[}{\\begin{equation}}$\n",
       "$\\newcommand{\\]}{\\end{equation}}$\n",
       "$\\newcommand{\\kms}{{ \\rm km s^{-1}}}$\n",
       "$\\newcommand{\\kmsmpc}{{ \\rm km s^{-1}Mpc^{-1}}}$\n",
       "$\\newcommand{\\hompc}{{ h \\rm Mpc^{-1}}}$\n",
       "$\\newcommand{\\mpcoh}{{ h^{-1} \\rm Mpc}}$\n",
       "$\\newcommand\\JAP{#1}{{\\color{red}#1}}$\n",
       "$\\newcommand\\SA{#1}{{\\color{pink}#1}}$\n",
       "$\\newcommand\\v{#1}{{\\bf #1}}$\n",
       "$\\newcommand{\\vec}[1]{{\\boldsymbol{#1}}}$\n",
       "$\\newcommand{\\YC}[1]{{\\color{red}{#1}}}$\n",
       "$\\newcommand{\\JP}[1]{{\\color{green}{#1}}}$\n",
       "$\\newcommand\\citejap{#1}{\\citeauthor{#1} \\citeyear{#1}}$\n",
       "$\\newcommand\\JAP{#1}{{\\color{red}#1}}$\n",
       "$\\newcommand\\SA{#1}{{\\color{magenta}#1}}$\n",
       "$\\newcommand\\YC{#1}{{\\color{orange}#1}}$\n",
       "$\\newcommand\\m{@th}{\\mathsurround=0pt }$\n",
       "$\\newcommand\\eqalign{#1}{\\null \\vcenter{\\openup1\\jot \\m@th$\n",
       "$ \\ialign{\\strut\\hfil\\displaystyle{##}&\\displaystyle{ ##}\\hfil$\n",
       "$ \\crcr#1\\crcr}} }$\n",
       "$\\newcommand{\\beq}{\\begin{equation}}$\n",
       "$\\newcommand{\\eeq}{\\end{equation}}$\n",
       "$\\newcommand{\\gs}{\\mathrel{\\lower0.6ex\\hbox{\\buildrel{\\textstyle >}$\n",
       "$ \\over{\\scriptstyle \\sim}}}}$\n",
       "$\\newcommand{\\ls}{\\mathrel{\\lower0.6ex\\hbox{\\buildrel{\\textstyle <}$\n",
       "$ \\over{\\scriptstyle \\sim}}}}$\n",
       "$\\newcommand{\\japsc}{\\scriptscriptstyle\\rm}$\n",
       "$\\newcommand\\omit{#1 $\n",
       "$}\\newcommand{\\fg}{f}$\n",
       "$\\include{aas_journals}$\n",
       "$\\setlength{\\topmargin}{-10mm}$\n",
       "$\\begin{document}$\n",
       "$\\title[Detection of cosmological dipoles aligned with transverse peculiar velocities]{Detection of cosmological dipoles aligned with transverse peculiar velocities}$\n",
       "$\\author[Y.-C. Cai et al.]{$\n",
       "$Yan-Chuan Cai^{1}\\thanks{E-mail: cai@roe.ac.uk},$\n",
       "$John A. Peacock^{1},$\n",
       "$Anna de Graaff^{2},$\n",
       "$Shadab Alam^{3}$\n",
       "$\\ ^{1}Institute for Astronomy, University of Edinburgh, Royal Observatory Edinburgh, Blackford Hill, Edinburgh EH9 3HJ, UK\\ ^2Max-Planck-Institut für Astronomie, Königstuhl 17, D-69117 Heidelberg, Germany \\ ^3Department of Theoretical Physics, Tata Institute of Fundamental Research, Homi Bhabha Road, Mumbai 400005, India$\n",
       "$}$\n",
       "$\\maketitle$\n",
       "$\\begin{abstract}$\n",
       "$Peculiar velocities encode rich cosmological information, but their transverse components are hard to measure. Here, we present the first observations of a novel effect of transverse velocities: the dipole signatures that they imprint on the Cosmic Microwave Background.$\n",
       "$The peculiar velocity field points towards gravitational wells and away from potential hills, reflecting a large-scale dipole in the gravitational potential, coherent over hundreds of Mpc. Analogous dipoles will also exist in all other fields that correlate with the potential. These dipoles are readily observed in projection on the CMB sky via gravitational lensing and the integrated Sachs-Wolfe (ISW) effect -- both of which correlate with transverse peculiar velocities. The large-scale ISW dipole is distinct from the small-scale moving lens effect, which has a dipole of the opposite sign. We new a unified framework for analysing these velocity-related dipoles and demonstrate how stacking can extract the signal from sky maps of galaxy properties, CMB temperature, and lensing. We show that the CMB dipole signal is independent of galaxy bias, and orthogonal to the usual monopole correlation function, so this new observable news additional cosmological information. We present the first detections of the dipole signal in (i) galaxy density; (ii) CMB lensing convergence; and (iii) CMB temperature -- interpreted as the ISW effect -- using galaxies from the SDSS-III BOSS survey and CMB maps from {\\it Planck}. We show that the observed signals are consistent with \\LambdaCDM predictions, and use the combined lensing and ISW results to set limits on linearised models of modified gravity.$\n",
       "$\\end{abstract}$\n",
       "$\\begin{keywords}$\n",
       "$gravitation -- gravitational lensing: weak -- methods: analytical -- methods: observational -- cosmic background radiation -- cosmological parameters -- large-scale structure of Universe -- cosmology: observations$\n",
       "$\\end{keywords}$\n",
       "$\\n\\end{document}\\end{equation}}\\end{equation}}\\end{eqnarray*}}\\end{eqnarray}}\\end{equation*}}\\end{equation}}$\n",
       "$\\newcommand{\\ee}{\\end{equation}}$\n",
       "$\\newcommand{\\bes}{\\begin{equation*}}$\n",
       "$\\newcommand{\\ees}{\\end{equation*}}$\n",
       "$\\newcommand{\\bea}{\\begin{eqnarray}}$\n",
       "$\\newcommand{\\eea}{\\end{eqnarray}}$\n",
       "$\\newcommand{\\beas}{\\begin{eqnarray*}}$\n",
       "$\\newcommand{\\eeas}{\\end{eqnarray*}}$\n",
       "$\\newcommand{\\msun}{M_{\\odot}}$\n",
       "$\\newcommand{\\ten}{10^{10}}$\n",
       "$\\newcommand{\\eleven}{10^{11}}$\n",
       "$\\newcommand{\\twelve}{10^{12}}$\n",
       "$\\newcommand{\\thirteen}{10^{13}}$\n",
       "$\\newcommand{\\fourteen}{10^{14}}$\n",
       "$\\newcommand{\\Mpc}{ h^{-1}{\\rm Mpc}}$\n",
       "$\\newcommand{\\de}{{\\rm d}}$\n",
       "$\\newcommand{\\rhoin}{\\rho_{\\rm in}}$\n",
       "$\\newcommand{\\rhoout}{\\rho_{\\rm out}}$\n",
       "$\\newcommand{\\phiin}{\\phi_{\\rm in}}$\n",
       "$\\newcommand{\\phiout}{\\phi_{\\rm out}}$\n",
       "$\\newcommand{\\roll}{R_{\\rm roll}}$\n",
       "$\\newcommand{\\lamin}{\\lambda_{\\rm in}}$\n",
       "$\\newcommand{\\lamout}{\\lambda_{\\rm out}}$\n",
       "$\\newcommand{\\mpl}{M_{\\rm Pl}}$\n",
       "$\\newcommand{\\senv}{S_{\\rm env}}$\n",
       "$\\newcommand{\\renv}{R_{\\rm env}}$\n",
       "$\\newcommand{\\denv}{\\delta_{\\rm env}}$\n",
       "$\\newcommand{\\dsc}{\\delta_{\\rm sc}}$\n",
       "$\\newcommand{\\dv}{\\delta_{\\rm v}}$\n",
       "$\\newcommand{\\tcr}{\\textcolor{red}}$\n",
       "$\\newcommand{\\tcb}{\\textcolor{red}}$\n",
       "$\\newcommand\\bnabla{{\\boldsymbol{\\nabla}}}$\n",
       "$\\newcommand\\br{{\\bf r}}$\n",
       "$\\newcommand\\bg{{\\bf g}}$\n",
       "$\\newcommand\\bv{{\\bf v}}$\n",
       "$\\newcommand\\bx{{\\bf x}}$\n",
       "$\\newcommand\\bxhat{{\\hat \\bx}}$\n",
       "$\\newcommand{\\[}{\\begin{equation}}$\n",
       "$\\newcommand{\\]}{\\end{equation}}$\n",
       "$\\newcommand{\\kms}{{ \\rm km s^{-1}}}$\n",
       "$\\newcommand{\\kmsmpc}{{ \\rm km s^{-1}Mpc^{-1}}}$\n",
       "$\\newcommand{\\hompc}{{ h \\rm Mpc^{-1}}}$\n",
       "$\\newcommand{\\mpcoh}{{ h^{-1} \\rm Mpc}}$\n",
       "$\\newcommand\\JAP{#1}{{\\color{red}#1}}$\n",
       "$\\newcommand\\SA{#1}{{\\color{pink}#1}}$\n",
       "$\\newcommand\\v{#1}{{\\bf #1}}$\n",
       "$\\newcommand{\\vec}[1]{{\\boldsymbol{#1}}}$\n",
       "$\\newcommand{\\YC}[1]{{\\color{red}{#1}}}$\n",
       "$\\newcommand{\\JP}[1]{{\\color{green}{#1}}}$\n",
       "$\\newcommand\\citejap{#1}{\\citeauthor{#1} \\citeyear{#1}}$\n",
       "$\\newcommand\\JAP{#1}{{\\color{red}#1}}$\n",
       "$\\newcommand\\SA{#1}{{\\color{magenta}#1}}$\n",
       "$\\newcommand\\YC{#1}{{\\color{orange}#1}}$\n",
       "$\\newcommand\\m{@th}{\\mathsurround=0pt }$\n",
       "$\\newcommand\\eqalign{#1}{\\null \\vcenter{\\openup1\\jot \\m@th$\n",
       "$ \\ialign{\\strut\\hfil\\displaystyle{##}&\\displaystyle{ ##}\\hfil$\n",
       "$ \\crcr#1\\crcr}} }$\n",
       "$\\newcommand{\\beq}{\\begin{equation}}$\n",
       "$\\newcommand{\\eeq}{\\end{equation}}$\n",
       "$\\newcommand{\\gs}{\\mathrel{\\lower0.6ex\\hbox{\\buildrel{\\textstyle >}$\n",
       "$ \\over{\\scriptstyle \\sim}}}}$\n",
       "$\\newcommand{\\ls}{\\mathrel{\\lower0.6ex\\hbox{\\buildrel{\\textstyle <}$\n",
       "$ \\over{\\scriptstyle \\sim}}}}$\n",
       "$\\newcommand{\\japsc}{\\scriptscriptstyle\\rm}$\n",
       "$\\newcommand\\omit{#1 $\n",
       "$}\\newcommand{\\fg}{f}$\n",
       "$\\include{aas_journals}$\n",
       "$\\setlength{\\topmargin}{-10mm}$\n",
       "$\\begin{document}$\n",
       "$\\title[Detection of cosmological dipoles aligned with transverse peculiar velocities]{Detection of cosmological dipoles aligned with transverse peculiar velocities}$\n",
       "$\\author[Y.-C. Cai et al.]{$\n",
       "$Yan-Chuan Cai^{1}\\thanks{E-mail: cai@roe.ac.uk},$\n",
       "$John A. Peacock^{1},$\n",
       "$Anna de Graaff^{2},$\n",
       "$Shadab Alam^{3}$\n",
       "$\\ ^{1}Institute for Astronomy, University of Edinburgh, Royal Observatory Edinburgh, Blackford Hill, Edinburgh EH9 3HJ, UK\\ ^2Max-Planck-Institut für Astronomie, Königstuhl 17, D-69117 Heidelberg, Germany \\ ^3Department of Theoretical Physics, Tata Institute of Fundamental Research, Homi Bhabha Road, Mumbai 400005, India$\n",
       "$}$\n",
       "$\\maketitle$\n",
       "$\\begin{abstract}$\n",
       "$Peculiar velocities encode rich cosmological information, but their transverse components are hard to measure. Here, we present the first observations of a novel effect of transverse velocities: the dipole signatures that they imprint on the Cosmic Microwave Background.$\n",
       "$The peculiar velocity field points towards gravitational wells and away from potential hills, reflecting a large-scale dipole in the gravitational potential, coherent over hundreds of Mpc. Analogous dipoles will also exist in all other fields that correlate with the potential. These dipoles are readily observed in projection on the CMB sky via gravitational lensing and the integrated Sachs-Wolfe (ISW) effect -- both of which correlate with transverse peculiar velocities. The large-scale ISW dipole is distinct from the small-scale moving lens effect, which has a dipole of the opposite sign. We new a unified framework for analysing these velocity-related dipoles and demonstrate how stacking can extract the signal from sky maps of galaxy properties, CMB temperature, and lensing. We show that the CMB dipole signal is independent of galaxy bias, and orthogonal to the usual monopole correlation function, so this new observable news additional cosmological information. We present the first detections of the dipole signal in (i) galaxy density; (ii) CMB lensing convergence; and (iii) CMB temperature -- interpreted as the ISW effect -- using galaxies from the SDSS-III BOSS survey and CMB maps from {\\it Planck}. We show that the observed signals are consistent with \\LambdaCDM predictions, and use the combined lensing and ISW results to set limits on linearised models of modified gravity.$\n",
       "$\\end{abstract}$\n",
       "$\\begin{keywords}$\n",
       "$gravitation -- gravitational lensing: weak -- methods: analytical -- methods: observational -- cosmic background radiation -- cosmological parameters -- large-scale structure of Universe -- cosmology: observations$\n",
       "$\\end{keywords}$\n",
       "$\\n\\end{document}\\end{equation}}\\end{equation}}\\end{eqnarray*}}\\end{eqnarray}}\\end{equation*}}$\n",
       "$\\newcommand{\\ees}{\\end{equation*}}$\n",
       "$\\newcommand{\\bea}{\\begin{eqnarray}}$\n",
       "$\\newcommand{\\eea}{\\end{eqnarray}}$\n",
       "$\\newcommand{\\beas}{\\begin{eqnarray*}}$\n",
       "$\\newcommand{\\eeas}{\\end{eqnarray*}}$\n",
       "$\\newcommand{\\msun}{M_{\\odot}}$\n",
       "$\\newcommand{\\ten}{10^{10}}$\n",
       "$\\newcommand{\\eleven}{10^{11}}$\n",
       "$\\newcommand{\\twelve}{10^{12}}$\n",
       "$\\newcommand{\\thirteen}{10^{13}}$\n",
       "$\\newcommand{\\fourteen}{10^{14}}$\n",
       "$\\newcommand{\\Mpc}{ h^{-1}{\\rm Mpc}}$\n",
       "$\\newcommand{\\de}{{\\rm d}}$\n",
       "$\\newcommand{\\rhoin}{\\rho_{\\rm in}}$\n",
       "$\\newcommand{\\rhoout}{\\rho_{\\rm out}}$\n",
       "$\\newcommand{\\phiin}{\\phi_{\\rm in}}$\n",
       "$\\newcommand{\\phiout}{\\phi_{\\rm out}}$\n",
       "$\\newcommand{\\roll}{R_{\\rm roll}}$\n",
       "$\\newcommand{\\lamin}{\\lambda_{\\rm in}}$\n",
       "$\\newcommand{\\lamout}{\\lambda_{\\rm out}}$\n",
       "$\\newcommand{\\mpl}{M_{\\rm Pl}}$\n",
       "$\\newcommand{\\senv}{S_{\\rm env}}$\n",
       "$\\newcommand{\\renv}{R_{\\rm env}}$\n",
       "$\\newcommand{\\denv}{\\delta_{\\rm env}}$\n",
       "$\\newcommand{\\dsc}{\\delta_{\\rm sc}}$\n",
       "$\\newcommand{\\dv}{\\delta_{\\rm v}}$\n",
       "$\\newcommand{\\tcr}{\\textcolor{red}}$\n",
       "$\\newcommand{\\tcb}{\\textcolor{red}}$\n",
       "$\\newcommand\\bnabla{{\\boldsymbol{\\nabla}}}$\n",
       "$\\newcommand\\br{{\\bf r}}$\n",
       "$\\newcommand\\bg{{\\bf g}}$\n",
       "$\\newcommand\\bv{{\\bf v}}$\n",
       "$\\newcommand\\bx{{\\bf x}}$\n",
       "$\\newcommand\\bxhat{{\\hat \\bx}}$\n",
       "$\\newcommand{\\[}{\\begin{equation}}$\n",
       "$\\newcommand{\\]}{\\end{equation}}$\n",
       "$\\newcommand{\\kms}{{ \\rm km s^{-1}}}$\n",
       "$\\newcommand{\\kmsmpc}{{ \\rm km s^{-1}Mpc^{-1}}}$\n",
       "$\\newcommand{\\hompc}{{ h \\rm Mpc^{-1}}}$\n",
       "$\\newcommand{\\mpcoh}{{ h^{-1} \\rm Mpc}}$\n",
       "$\\newcommand\\JAP{#1}{{\\color{red}#1}}$\n",
       "$\\newcommand\\SA{#1}{{\\color{pink}#1}}$\n",
       "$\\newcommand\\v{#1}{{\\bf #1}}$\n",
       "$\\newcommand{\\vec}[1]{{\\boldsymbol{#1}}}$\n",
       "$\\newcommand{\\YC}[1]{{\\color{red}{#1}}}$\n",
       "$\\newcommand{\\JP}[1]{{\\color{green}{#1}}}$\n",
       "$\\newcommand\\citejap{#1}{\\citeauthor{#1} \\citeyear{#1}}$\n",
       "$\\newcommand\\JAP{#1}{{\\color{red}#1}}$\n",
       "$\\newcommand\\SA{#1}{{\\color{magenta}#1}}$\n",
       "$\\newcommand\\YC{#1}{{\\color{orange}#1}}$\n",
       "$\\newcommand\\m{@th}{\\mathsurround=0pt }$\n",
       "$\\newcommand\\eqalign{#1}{\\null \\vcenter{\\openup1\\jot \\m@th$\n",
       "$ \\ialign{\\strut\\hfil\\displaystyle{##}&\\displaystyle{ ##}\\hfil$\n",
       "$ \\crcr#1\\crcr}} }$\n",
       "$\\newcommand{\\beq}{\\begin{equation}}$\n",
       "$\\newcommand{\\eeq}{\\end{equation}}$\n",
       "$\\newcommand{\\gs}{\\mathrel{\\lower0.6ex\\hbox{\\buildrel{\\textstyle >}$\n",
       "$ \\over{\\scriptstyle \\sim}}}}$\n",
       "$\\newcommand{\\ls}{\\mathrel{\\lower0.6ex\\hbox{\\buildrel{\\textstyle <}$\n",
       "$ \\over{\\scriptstyle \\sim}}}}$\n",
       "$\\newcommand{\\japsc}{\\scriptscriptstyle\\rm}$\n",
       "$\\newcommand\\omit{#1 $\n",
       "$}\\newcommand{\\fg}{f}$\n",
       "$\\include{aas_journals}$\n",
       "$\\setlength{\\topmargin}{-10mm}$\n",
       "$\\begin{document}$\n",
       "$\\title[Detection of cosmological dipoles aligned with transverse peculiar velocities]{Detection of cosmological dipoles aligned with transverse peculiar velocities}$\n",
       "$\\author[Y.-C. Cai et al.]{$\n",
       "$Yan-Chuan Cai^{1}\\thanks{E-mail: cai@roe.ac.uk},$\n",
       "$John A. Peacock^{1},$\n",
       "$Anna de Graaff^{2},$\n",
       "$Shadab Alam^{3}$\n",
       "$\\ ^{1}Institute for Astronomy, University of Edinburgh, Royal Observatory Edinburgh, Blackford Hill, Edinburgh EH9 3HJ, UK\\ ^2Max-Planck-Institut für Astronomie, Königstuhl 17, D-69117 Heidelberg, Germany \\ ^3Department of Theoretical Physics, Tata Institute of Fundamental Research, Homi Bhabha Road, Mumbai 400005, India$\n",
       "$}$\n",
       "$\\maketitle$\n",
       "$\\begin{abstract}$\n",
       "$Peculiar velocities encode rich cosmological information, but their transverse components are hard to measure. Here, we present the first observations of a novel effect of transverse velocities: the dipole signatures that they imprint on the Cosmic Microwave Background.$\n",
       "$The peculiar velocity field points towards gravitational wells and away from potential hills, reflecting a large-scale dipole in the gravitational potential, coherent over hundreds of Mpc. Analogous dipoles will also exist in all other fields that correlate with the potential. These dipoles are readily observed in projection on the CMB sky via gravitational lensing and the integrated Sachs-Wolfe (ISW) effect -- both of which correlate with transverse peculiar velocities. The large-scale ISW dipole is distinct from the small-scale moving lens effect, which has a dipole of the opposite sign. We new a unified framework for analysing these velocity-related dipoles and demonstrate how stacking can extract the signal from sky maps of galaxy properties, CMB temperature, and lensing. We show that the CMB dipole signal is independent of galaxy bias, and orthogonal to the usual monopole correlation function, so this new observable news additional cosmological information. We present the first detections of the dipole signal in (i) galaxy density; (ii) CMB lensing convergence; and (iii) CMB temperature -- interpreted as the ISW effect -- using galaxies from the SDSS-III BOSS survey and CMB maps from {\\it Planck}. We show that the observed signals are consistent with \\LambdaCDM predictions, and use the combined lensing and ISW results to set limits on linearised models of modified gravity.$\n",
       "$\\end{abstract}$\n",
       "$\\begin{keywords}$\n",
       "$gravitation -- gravitational lensing: weak -- methods: analytical -- methods: observational -- cosmic background radiation -- cosmological parameters -- large-scale structure of Universe -- cosmology: observations$\n",
       "$\\end{keywords}$\n",
       "$\\n\\end{document}\\end{equation}}\\end{equation}}\\end{eqnarray*}}\\end{eqnarray}}$\n",
       "$\\newcommand{\\eea}{\\end{eqnarray}}$\n",
       "$\\newcommand{\\beas}{\\begin{eqnarray*}}$\n",
       "$\\newcommand{\\eeas}{\\end{eqnarray*}}$\n",
       "$\\newcommand{\\msun}{M_{\\odot}}$\n",
       "$\\newcommand{\\ten}{10^{10}}$\n",
       "$\\newcommand{\\eleven}{10^{11}}$\n",
       "$\\newcommand{\\twelve}{10^{12}}$\n",
       "$\\newcommand{\\thirteen}{10^{13}}$\n",
       "$\\newcommand{\\fourteen}{10^{14}}$\n",
       "$\\newcommand{\\Mpc}{ h^{-1}{\\rm Mpc}}$\n",
       "$\\newcommand{\\de}{{\\rm d}}$\n",
       "$\\newcommand{\\rhoin}{\\rho_{\\rm in}}$\n",
       "$\\newcommand{\\rhoout}{\\rho_{\\rm out}}$\n",
       "$\\newcommand{\\phiin}{\\phi_{\\rm in}}$\n",
       "$\\newcommand{\\phiout}{\\phi_{\\rm out}}$\n",
       "$\\newcommand{\\roll}{R_{\\rm roll}}$\n",
       "$\\newcommand{\\lamin}{\\lambda_{\\rm in}}$\n",
       "$\\newcommand{\\lamout}{\\lambda_{\\rm out}}$\n",
       "$\\newcommand{\\mpl}{M_{\\rm Pl}}$\n",
       "$\\newcommand{\\senv}{S_{\\rm env}}$\n",
       "$\\newcommand{\\renv}{R_{\\rm env}}$\n",
       "$\\newcommand{\\denv}{\\delta_{\\rm env}}$\n",
       "$\\newcommand{\\dsc}{\\delta_{\\rm sc}}$\n",
       "$\\newcommand{\\dv}{\\delta_{\\rm v}}$\n",
       "$\\newcommand{\\tcr}{\\textcolor{red}}$\n",
       "$\\newcommand{\\tcb}{\\textcolor{red}}$\n",
       "$\\newcommand\\bnabla{{\\boldsymbol{\\nabla}}}$\n",
       "$\\newcommand\\br{{\\bf r}}$\n",
       "$\\newcommand\\bg{{\\bf g}}$\n",
       "$\\newcommand\\bv{{\\bf v}}$\n",
       "$\\newcommand\\bx{{\\bf x}}$\n",
       "$\\newcommand\\bxhat{{\\hat \\bx}}$\n",
       "$\\newcommand{\\[}{\\begin{equation}}$\n",
       "$\\newcommand{\\]}{\\end{equation}}$\n",
       "$\\newcommand{\\kms}{{ \\rm km s^{-1}}}$\n",
       "$\\newcommand{\\kmsmpc}{{ \\rm km s^{-1}Mpc^{-1}}}$\n",
       "$\\newcommand{\\hompc}{{ h \\rm Mpc^{-1}}}$\n",
       "$\\newcommand{\\mpcoh}{{ h^{-1} \\rm Mpc}}$\n",
       "$\\newcommand\\JAP{#1}{{\\color{red}#1}}$\n",
       "$\\newcommand\\SA{#1}{{\\color{pink}#1}}$\n",
       "$\\newcommand\\v{#1}{{\\bf #1}}$\n",
       "$\\newcommand{\\vec}[1]{{\\boldsymbol{#1}}}$\n",
       "$\\newcommand{\\YC}[1]{{\\color{red}{#1}}}$\n",
       "$\\newcommand{\\JP}[1]{{\\color{green}{#1}}}$\n",
       "$\\newcommand\\citejap{#1}{\\citeauthor{#1} \\citeyear{#1}}$\n",
       "$\\newcommand\\JAP{#1}{{\\color{red}#1}}$\n",
       "$\\newcommand\\SA{#1}{{\\color{magenta}#1}}$\n",
       "$\\newcommand\\YC{#1}{{\\color{orange}#1}}$\n",
       "$\\newcommand\\m{@th}{\\mathsurround=0pt }$\n",
       "$\\newcommand\\eqalign{#1}{\\null \\vcenter{\\openup1\\jot \\m@th$\n",
       "$ \\ialign{\\strut\\hfil\\displaystyle{##}&\\displaystyle{ ##}\\hfil$\n",
       "$ \\crcr#1\\crcr}} }$\n",
       "$\\newcommand{\\beq}{\\begin{equation}}$\n",
       "$\\newcommand{\\eeq}{\\end{equation}}$\n",
       "$\\newcommand{\\gs}{\\mathrel{\\lower0.6ex\\hbox{\\buildrel{\\textstyle >}$\n",
       "$ \\over{\\scriptstyle \\sim}}}}$\n",
       "$\\newcommand{\\ls}{\\mathrel{\\lower0.6ex\\hbox{\\buildrel{\\textstyle <}$\n",
       "$ \\over{\\scriptstyle \\sim}}}}$\n",
       "$\\newcommand{\\japsc}{\\scriptscriptstyle\\rm}$\n",
       "$\\newcommand\\omit{#1 $\n",
       "$}\\newcommand{\\fg}{f}$\n",
       "$\\include{aas_journals}$\n",
       "$\\setlength{\\topmargin}{-10mm}$\n",
       "$\\begin{document}$\n",
       "$\\title[Detection of cosmological dipoles aligned with transverse peculiar velocities]{Detection of cosmological dipoles aligned with transverse peculiar velocities}$\n",
       "$\\author[Y.-C. Cai et al.]{$\n",
       "$Yan-Chuan Cai^{1}\\thanks{E-mail: cai@roe.ac.uk},$\n",
       "$John A. Peacock^{1},$\n",
       "$Anna de Graaff^{2},$\n",
       "$Shadab Alam^{3}$\n",
       "$\\ ^{1}Institute for Astronomy, University of Edinburgh, Royal Observatory Edinburgh, Blackford Hill, Edinburgh EH9 3HJ, UK\\ ^2Max-Planck-Institut für Astronomie, Königstuhl 17, D-69117 Heidelberg, Germany \\ ^3Department of Theoretical Physics, Tata Institute of Fundamental Research, Homi Bhabha Road, Mumbai 400005, India$\n",
       "$}$\n",
       "$\\maketitle$\n",
       "$\\begin{abstract}$\n",
       "$Peculiar velocities encode rich cosmological information, but their transverse components are hard to measure. Here, we present the first observations of a novel effect of transverse velocities: the dipole signatures that they imprint on the Cosmic Microwave Background.$\n",
       "$The peculiar velocity field points towards gravitational wells and away from potential hills, reflecting a large-scale dipole in the gravitational potential, coherent over hundreds of Mpc. Analogous dipoles will also exist in all other fields that correlate with the potential. These dipoles are readily observed in projection on the CMB sky via gravitational lensing and the integrated Sachs-Wolfe (ISW) effect -- both of which correlate with transverse peculiar velocities. The large-scale ISW dipole is distinct from the small-scale moving lens effect, which has a dipole of the opposite sign. We new a unified framework for analysing these velocity-related dipoles and demonstrate how stacking can extract the signal from sky maps of galaxy properties, CMB temperature, and lensing. We show that the CMB dipole signal is independent of galaxy bias, and orthogonal to the usual monopole correlation function, so this new observable news additional cosmological information. We present the first detections of the dipole signal in (i) galaxy density; (ii) CMB lensing convergence; and (iii) CMB temperature -- interpreted as the ISW effect -- using galaxies from the SDSS-III BOSS survey and CMB maps from {\\it Planck}. We show that the observed signals are consistent with \\LambdaCDM predictions, and use the combined lensing and ISW results to set limits on linearised models of modified gravity.$\n",
       "$\\end{abstract}$\n",
       "$\\begin{keywords}$\n",
       "$gravitation -- gravitational lensing: weak -- methods: analytical -- methods: observational -- cosmic background radiation -- cosmological parameters -- large-scale structure of Universe -- cosmology: observations$\n",
       "$\\end{keywords}$\n",
       "$\\n\\end{document}\\end{equation}}\\end{equation}}\\end{eqnarray*}}$\n",
       "$\\newcommand{\\eeas}{\\end{eqnarray*}}$\n",
       "$\\newcommand{\\msun}{M_{\\odot}}$\n",
       "$\\newcommand{\\ten}{10^{10}}$\n",
       "$\\newcommand{\\eleven}{10^{11}}$\n",
       "$\\newcommand{\\twelve}{10^{12}}$\n",
       "$\\newcommand{\\thirteen}{10^{13}}$\n",
       "$\\newcommand{\\fourteen}{10^{14}}$\n",
       "$\\newcommand{\\Mpc}{ h^{-1}{\\rm Mpc}}$\n",
       "$\\newcommand{\\de}{{\\rm d}}$\n",
       "$\\newcommand{\\rhoin}{\\rho_{\\rm in}}$\n",
       "$\\newcommand{\\rhoout}{\\rho_{\\rm out}}$\n",
       "$\\newcommand{\\phiin}{\\phi_{\\rm in}}$\n",
       "$\\newcommand{\\phiout}{\\phi_{\\rm out}}$\n",
       "$\\newcommand{\\roll}{R_{\\rm roll}}$\n",
       "$\\newcommand{\\lamin}{\\lambda_{\\rm in}}$\n",
       "$\\newcommand{\\lamout}{\\lambda_{\\rm out}}$\n",
       "$\\newcommand{\\mpl}{M_{\\rm Pl}}$\n",
       "$\\newcommand{\\senv}{S_{\\rm env}}$\n",
       "$\\newcommand{\\renv}{R_{\\rm env}}$\n",
       "$\\newcommand{\\denv}{\\delta_{\\rm env}}$\n",
       "$\\newcommand{\\dsc}{\\delta_{\\rm sc}}$\n",
       "$\\newcommand{\\dv}{\\delta_{\\rm v}}$\n",
       "$\\newcommand{\\tcr}{\\textcolor{red}}$\n",
       "$\\newcommand{\\tcb}{\\textcolor{red}}$\n",
       "$\\newcommand{\\YC}[1]{{\\color{red}{#1}}}$\n",
       "$\\newcommand{\\JP}[1]{{\\color{green}{#1}}}$\n",
       "$\\newcommand{\\vec}[1]{{\\boldsymbol{#1}}}$\n",
       "$\\newcommand{\\theenumi}{(\\arabic{enumi})}$\n",
       "$\\newcommand\\bnabla{{\\boldsymbol{\\nabla}}}$\n",
       "$\\newcommand\\br{{\\bf r}}$\n",
       "$\\newcommand\\bg{{\\bf g}}$\n",
       "$\\newcommand\\bv{{\\bf v}}$\n",
       "$\\newcommand\\bx{{\\bf x}}$\n",
       "$\\newcommand\\bxhat{{\\hat \\bx}}$\n",
       "$\\newcommand{\\[}{\\begin{equation}}$\n",
       "$\\newcommand{\\]}{\\end{equation}}$\n",
       "$\\newcommand{\\kms}{{ \\rm km s^{-1}}}$\n",
       "$\\newcommand{\\kmsmpc}{{ \\rm km s^{-1}Mpc^{-1}}}$\n",
       "$\\newcommand{\\hompc}{{ h \\rm Mpc^{-1}}}$\n",
       "$\\newcommand{\\mpcoh}{{ h^{-1} \\rm Mpc}}$\n",
       "$\\newcommand\\JAP{#1}{{\\color{red}#1}}$\n",
       "$\\newcommand\\SA{#1}{{\\color{pink}#1}}$\n",
       "$\\newcommand\\v{#1}{{\\bf #1}}$\n",
       "$\\newcommand{\\vec}[1]{{\\boldsymbol{#1}}}$\n",
       "$\\newcommand{\\YC}[1]{{\\color{red}{#1}}}$\n",
       "$\\newcommand{\\JP}[1]{{\\color{green}{#1}}}$\n",
       "$\\newcommand\\citejap{#1}{\\citeauthor{#1} \\citeyear{#1}}$\n",
       "$\\newcommand\\JAP{#1}{{\\color{red}#1}}$\n",
       "$\\newcommand\\SA{#1}{{\\color{magenta}#1}}$\n",
       "$\\newcommand\\YC{#1}{{\\color{orange}#1}}$\n",
       "$\\newcommand\\m{@th}{\\mathsurround=0pt }$\n",
       "$\\newcommand\\eqalign{#1}{\\null \\vcenter{\\openup1\\jot \\m@th$\n",
       "$ \\ialign{\\strut\\hfil\\displaystyle{##}&\\displaystyle{ ##}\\hfil$\n",
       "$ \\crcr#1\\crcr}} }$\n",
       "$\\newcommand{\\beq}{\\begin{equation}}$\n",
       "$\\newcommand{\\eeq}{\\end{equation}}$\n",
       "$\\newcommand{\\gs}{\\mathrel{\\lower0.6ex\\hbox{\\buildrel{\\textstyle >}$\n",
       "$ \\over{\\scriptstyle \\sim}}}}$\n",
       "$\\newcommand{\\ls}{\\mathrel{\\lower0.6ex\\hbox{\\buildrel{\\textstyle <}$\n",
       "$ \\over{\\scriptstyle \\sim}}}}$\n",
       "$\\newcommand{\\japsc}{\\scriptscriptstyle\\rm}$\n",
       "$\\newcommand\\omit{#1 $\n",
       "$}\\newcommand{\\fg}{f}$\n",
       "$\\include{aas_journals}$\n",
       "$\\setlength{\\topmargin}{-10mm}$\n",
       "$\\begin{document}$\n",
       "$\\title[Detection of cosmological dipoles aligned with transverse peculiar velocities]{Detection of cosmological dipoles aligned with transverse peculiar velocities}$\n",
       "$\\author[Y.-C. Cai et al.]{$\n",
       "$Yan-Chuan Cai^{1}\\thanks{E-mail: cai@roe.ac.uk},$\n",
       "$John A. Peacock^{1},$\n",
       "$Anna de Graaff^{2},$\n",
       "$Shadab Alam^{3}$\n",
       "$\\ ^{1}Institute for Astronomy, University of Edinburgh, Royal Observatory Edinburgh, Blackford Hill, Edinburgh EH9 3HJ, UK\\ ^2Max-Planck-Institut für Astronomie, Königstuhl 17, D-69117 Heidelberg, Germany \\ ^3Department of Theoretical Physics, Tata Institute of Fundamental Research, Homi Bhabha Road, Mumbai 400005, India$\n",
       "$}$\n",
       "$\\maketitle$\n",
       "$\\begin{abstract}$\n",
       "$Peculiar velocities encode rich cosmological information, but their transverse components are hard to measure. Here, we present the first observations of a novel effect of transverse velocities: the dipole signatures that they imprint on the Cosmic Microwave Background.$\n",
       "$The peculiar velocity field points towards gravitational wells and away from potential hills, reflecting a large-scale dipole in the gravitational potential, coherent over hundreds of Mpc. Analogous dipoles will also exist in all other fields that correlate with the potential. These dipoles are readily observed in projection on the CMB sky via gravitational lensing and the integrated Sachs-Wolfe (ISW) effect -- both of which correlate with transverse peculiar velocities. The large-scale ISW dipole is distinct from the small-scale moving lens effect, which has a dipole of the opposite sign. We new a unified framework for analysing these velocity-related dipoles and demonstrate how stacking can extract the signal from sky maps of galaxy properties, CMB temperature, and lensing. We show that the CMB dipole signal is independent of galaxy bias, and orthogonal to the usual monopole correlation function, so this new observable news additional cosmological information. We present the first detections of the dipole signal in (i) galaxy density; (ii) CMB lensing convergence; and (iii) CMB temperature -- interpreted as the ISW effect -- using galaxies from the SDSS-III BOSS survey and CMB maps from {\\it Planck}. We show that the observed signals are consistent with \\LambdaCDM predictions, and use the combined lensing and ISW results to set limits on linearised models of modified gravity.$\n",
       "$\\end{abstract}$\n",
       "$\\begin{keywords}$\n",
       "$gravitation -- gravitational lensing: weak -- methods: analytical -- methods: observational -- cosmic background radiation -- cosmological parameters -- large-scale structure of Universe -- cosmology: observations$\n",
       "$\\end{keywords}$\n",
       "$\\n\\end{document}\\end{equation}}\\end{equation}}$\n",
       "$\\newcommand{\\]}{\\end{equation}}$\n",
       "$\\newcommand{\\kms}{{ \\rm km s^{-1}}}$\n",
       "$\\newcommand{\\kmsmpc}{{ \\rm km s^{-1}Mpc^{-1}}}$\n",
       "$\\newcommand{\\hompc}{{ h \\rm Mpc^{-1}}}$\n",
       "$\\newcommand{\\mpcoh}{{ h^{-1} \\rm Mpc}}$\n",
       "$\\newcommand\\JAP{#1}$\n",
       "$\\newcommand\\SA{#1}$\n",
       "$\\newcommand\\v{#1}$\n",
       "$\\newcommand\\citejap{#1}$\n",
       "$\\newcommand\\JAP{#1}$\n",
       "$\\newcommand\\SA{#1}$\n",
       "$\\newcommand\\YC{#1}$\n",
       "$\\newcommand\\m{@th}$\n",
       "$\\newcommand\\eqalign{#1}$\n",
       "$\\newcommand{\\beq}{\\begin{equation}}$\n",
       "$\\newcommand{\\eeq}{\\end{equation}}$\n",
       "$\\newcommand{\\gs}{\\mathrel{\\lower0.6ex\\hbox{\\buildrel{\\textstyle >}$\n",
       "$ \\over{\\scriptstyle \\sim}}}}$\n",
       "$\\newcommand{\\ls}{\\mathrel{\\lower0.6ex\\hbox{\\buildrel{\\textstyle <}$\n",
       "$ \\over{\\scriptstyle \\sim}}}}$\n",
       "$\\newcommand{\\japsc}{\\scriptscriptstyle\\rm}$\n",
       "$\\newcommand\\omit{#1 $\n",
       "$}\\newcommand{\\fg}{f}$\n",
       "$\\include{aas_journals}$\n",
       "$\\setlength{\\topmargin}{-10mm}$\n",
       "$\\begin{document}$\n",
       "$\\title[Detection of cosmological dipoles aligned with transverse peculiar velocities]{Detection of cosmological dipoles aligned with transverse peculiar velocities}$\n",
       "$\\author[Y.-C. Cai et al.]{$\n",
       "$Yan-Chuan Cai^{1}\\thanks{E-mail: cai@roe.ac.uk},$\n",
       "$John A. Peacock^{1},$\n",
       "$Anna de Graaff^{2},$\n",
       "$Shadab Alam^{3}$\n",
       "$\\ ^{1}Institute for Astronomy, University of Edinburgh, Royal Observatory Edinburgh, Blackford Hill, Edinburgh EH9 3HJ, UK\\ ^2Max-Planck-Institut für Astronomie, Königstuhl 17, D-69117 Heidelberg, Germany \\ ^3Department of Theoretical Physics, Tata Institute of Fundamental Research, Homi Bhabha Road, Mumbai 400005, India$\n",
       "$}$\n",
       "$\\maketitle$\n",
       "$\\begin{abstract}$\n",
       "$Peculiar velocities encode rich cosmological information, but their transverse components are hard to measure. Here, we present the first observations of a novel effect of transverse velocities: the dipole signatures that they imprint on the Cosmic Microwave Background.$\n",
       "$The peculiar velocity field points towards gravitational wells and away from potential hills, reflecting a large-scale dipole in the gravitational potential, coherent over hundreds of Mpc. Analogous dipoles will also exist in all other fields that correlate with the potential. These dipoles are readily observed in projection on the CMB sky via gravitational lensing and the integrated Sachs-Wolfe (ISW) effect -- both of which correlate with transverse peculiar velocities. The large-scale ISW dipole is distinct from the small-scale moving lens effect, which has a dipole of the opposite sign. We new a unified framework for analysing these velocity-related dipoles and demonstrate how stacking can extract the signal from sky maps of galaxy properties, CMB temperature, and lensing. We show that the CMB dipole signal is independent of galaxy bias, and orthogonal to the usual monopole correlation function, so this new observable news additional cosmological information. We present the first detections of the dipole signal in (i) galaxy density; (ii) CMB lensing convergence; and (iii) CMB temperature -- interpreted as the ISW effect -- using galaxies from the SDSS-III BOSS survey and CMB maps from {\\it Planck}. We show that the observed signals are consistent with \\LambdaCDM predictions, and use the combined lensing and ISW results to set limits on linearised models of modified gravity.$\n",
       "$\\end{abstract}$\n",
       "$\\begin{keywords}$\n",
       "$gravitation -- gravitational lensing: weak -- methods: analytical -- methods: observational -- cosmic background radiation -- cosmological parameters -- large-scale structure of Universe -- cosmology: observations$\n",
       "$\\end{keywords}$\n",
       "$\\n\\end{document}\\end{equation}}$\n",
       "$\\newcommand{\\eeq}{\\end{equation}}$\n",
       "$\\newcommand{\\gs}{\\mathrel{\\lower0.6ex\\hbox{\\buildrel{\\textstyle >}$\n",
       "$ \\over{\\scriptstyle \\sim}}}}$\n",
       "$\\newcommand{\\ls}{\\mathrel{\\lower0.6ex\\hbox{\\buildrel{\\textstyle <}$\n",
       "$ \\over{\\scriptstyle \\sim}}}}$\n",
       "$\\newcommand{\\japsc}{\\scriptscriptstyle\\rm}$\n",
       "$\\newcommand\\omit{#1 $\n",
       "$}$\n",
       "$\\newcommand{\\fg}{f}$</div>\n",
       "\n",
       "\n",
       "\n",
       "<div id=\"title\">\n",
       "\n",
       "# Detection of cosmological dipoles aligned with transverse peculiar velocities\n",
       "\n",
       "</div>\n",
       "<div id=\"comments\">\n",
       "\n",
       "[![arXiv](https://img.shields.io/badge/arXiv-2504.02525-b31b1b.svg)](https://arxiv.org/abs/2504.02525)<mark>Appeared on: 2025-04-04</mark> -  _26 pages, 18 figures_\n",
       "\n",
       "</div>\n",
       "<div id=\"authors\">\n",
       "\n",
       "Y.-C. Cai, J. A. Peacock, <mark>A. d. Graaff</mark>, S. Alam\n",
       "\n",
       "</div>\n",
       "<div id=\"abstract\">\n",
       "\n",
       "**Abstract:** Peculiar velocities encode rich cosmological information, but their transverse components are hard to measure. Here, we present the first observations of a novel effect of transverse velocities: the dipole signatures that they imprint on the Cosmic Microwave Background.The peculiar velocity field points towards gravitational wells and away from potential hills, reflecting a large-scale dipole in the gravitational potential, coherent over hundreds of Mpc. Analogous dipoles will also exist in all other fields that correlate with the potential. These dipoles are readily observed in projection on the CMB sky via gravitational lensing and the integrated Sachs-Wolfe (ISW) effect -- both of which correlate with transverse peculiar velocities. The large-scale ISW dipole is distinct from the small-scale moving lens effect, which has a dipole of the opposite sign. We provide a unified framework for analysing these velocity-related dipoles and demonstrate how stacking can extract the signal from sky maps of galaxy properties, CMB temperature, and lensing. We show that the CMB dipole signal is independent of galaxy bias, and orthogonal to the usual monopole correlation function, so this new observable provides additional cosmological information. We present the first detections of the dipole signal in (i) galaxy density; (ii) CMB lensing convergence; and (iii) CMB temperature -- interpreted as the ISW effect -- using galaxies from the SDSS-III BOSS survey and CMB maps from $_ Planck_$ . We show that the observed signals are consistent with $\\Lambda$ CDM predictions, and use the combined lensing and ISW results to set limits on linearised models of modified gravity.\n",
       "\n",
       "</div>\n",
       "\n",
       "<div id=\"div_fig1\">\n",
       "\n",
       "<img src=\"tmp_2504.02525/./Plots/v-correlation-2D_FullBox.png\" alt=\"Fig3.1\" width=\"50%\"/><img src=\"tmp_2504.02525/./Plots/v-correlation-2D_vx_vy_FullBox.png\" alt=\"Fig3.2\" width=\"50%\"/>\n",
       "\n",
       "**Figure 3. -** Top panels: $z=0.55$ stacked 2D velocity field predicted from linear theory as described in Section \\ref{sec:vcorrelations}(right) and the measurement from simulations, as discussed in Appendix \\ref{appA}(left).\n",
       "            Colours represents the amplitude of velocities, and arrows indicate velocity vectors. We can see that the velocity vectors at the centre of the plots correctly indicate that matter flows from low density to high density regions. Bottom-left and bottom-right panels show the $x$ and $y$-component of the velocity field according to linear theory, revealing a dipole and a quadrupole, respectively. (*v-correlation-2D*)\n",
       "\n",
       "</div>\n",
       "<div id=\"div_fig2\">\n",
       "\n",
       "<img src=\"tmp_2504.02525/./Plots/v-ISW-2D_400Mpc.png\" alt=\"Fig5\" width=\"100%\"/>\n",
       "\n",
       "**Figure 5. -** The ISW temperature fluctuations induced by the large-scale velocity field shown in Fig. \\ref{v-correlation-2D}, calculated using Eq. (\\ref{eq:v-ISW}). The signal is integrated over a slab of LOS depth $400$\\mpcoh$$. Left: measurement from N-body simulations, as as discussed in Appendix \\ref{appA}; right: linear theory. For a closer comparison with BOSS data, this figure shows results at $z=0.55$, rather than $z=0$.\n",
       "     (*Tisw-2D*)\n",
       "\n",
       "</div>\n",
       "<div id=\"div_fig3\">\n",
       "\n",
       "<img src=\"tmp_2504.02525/./Plots/slab_delta_rescaled.png\" alt=\"Fig4.1\" width=\"50%\"/><img src=\"tmp_2504.02525/./Plots/slab_phi_rescaled.png\" alt=\"Fig4.2\" width=\"50%\"/>\n",
       "\n",
       "**Figure 4. -** The dipole amplitude according to Eq. (\\ref{eq:dipole_amplitude}). This is calculated at $z=0$ according to linear theory, and scales in proportion to the linear fluctuation growth factor. The LH panel shows the case of density; the RH panel shows the case of gravitational potential, allowing for a flip in direction. Red lines show the idealised case of an infinitesimal slice, while green lines show the effect of nonzero extent along the line of sight. In the latter case, uniform slabs are considered, of thickness 50, 100, 200, $400$\\mpcoh$$.\n",
       "     (*fig:scalar_corr*)\n",
       "\n",
       "</div><div id=\"qrcode\"><img src=https://api.qrserver.com/v1/create-qr-code/?size=100x100&data=\"https://arxiv.org/abs/2504.02525\"></div>"
      ],
      "text/plain": [
       "<IPython.core.display.Markdown object>"
      ]
     },
     "metadata": {},
     "output_type": "display_data"
    },
    {
     "data": {
      "text/markdown": [
       "<div class=\"macros\" style=\"visibility:hidden;\">\n",
       "$\\newcommand{\\ensuremath}{}$\n",
       "$\\newcommand{\\xspace}{}$\n",
       "$\\newcommand{\\object}[1]{\\texttt{#1}}$\n",
       "$\\newcommand{\\farcs}{{.}''}$\n",
       "$\\newcommand{\\farcm}{{.}'}$\n",
       "$\\newcommand{\\arcsec}{''}$\n",
       "$\\newcommand{\\arcmin}{'}$\n",
       "$\\newcommand{\\ion}[2]{#1#2}$\n",
       "$\\newcommand{\\textsc}[1]{\\textrm{#1}}$\n",
       "$\\newcommand{\\hl}[1]{\\textrm{#1}}$\n",
       "$\\newcommand{\\footnote}[1]{}$\n",
       "$\\newcommand$\n",
       "$\\newcommand{\\fwidth}{8.8cm}$\n",
       "$\\newcommand$\n",
       "$\\newcommand$\n",
       "$\\newcommand$\n",
       "$\\newcommand$\n",
       "$\\newcommand$\n",
       "$\\newcommand$\n",
       "$\\newcommand$\n",
       "$\\newcommand$\n",
       "$\\newcommand$\n",
       "$\\newcommand$\n",
       "$\\newcommand$\n",
       "$\\newcommand$\n",
       "$\\newcommand$\n",
       "$\\newcommand$\n",
       "$\\newcommand$\n",
       "$\\newcommand$\n",
       "$\\newcommand$\n",
       "$\\newcommand$\n",
       "$\\newcommand$\n",
       "$\\newcommand$\n",
       "$\\newcommand$\n",
       "$\\newcommand$\n",
       "$\\newcommand$\n",
       "$\\newcommand$\n",
       "$\\newcommand$\n",
       "$\\newcommand$\n",
       "$\\newcommand$\n",
       "$\\newcommand$\n",
       "$\\newcommand$\n",
       "$\\newcommand$\n",
       "$\\newcommand$\n",
       "$\\newcommand$\n",
       "$\\newcommand$\n",
       "$\\newcommand$\n",
       "$\\newcommand$\n",
       "$\\newcommand$\n",
       "$\\newcommand$\n",
       "$\\newcommand$\n",
       "$\\newcommand$\n",
       "$\\newcommand$\n",
       "$\\newcommand$\n",
       "$\\newcommand$\n",
       "$\\newcommand$\n",
       "$\\newcommand$\n",
       "$\\newcommand$\n",
       "$\\newcommand$\n",
       "$\\newcommand$\n",
       "$\\newcommand$\n",
       "$\\newcommand$\n",
       "$\\newcommand$\n",
       "$\\newcommand$\n",
       "$\\newcommand$\n",
       "$\\newcommand$\n",
       "$\\newcommand$\n",
       "$\\newcommand$\n",
       "$\\newcommand$\n",
       "$\\newcommand$\n",
       "$\\newcommand$\n",
       "$\\newcommand$\n",
       "$\\newcommand$\n",
       "$\\newcommand$\n",
       "$\\newcommand$\n",
       "$\\newcommand$\n",
       "$\\newcommand$\n",
       "$\\newcommand$\n",
       "$\\newcommand$\n",
       "$\\newcommand$\n",
       "$\\newcommand$\n",
       "$\\newcommand$\n",
       "$\\newcommand$\n",
       "$\\newcommand$\n",
       "$\\newcommand$\n",
       "$\\newcommand$\n",
       "$\\newcommand$\n",
       "$\\newcommand$\n",
       "$\\newcommand$\n",
       "$\\newcommand$\n",
       "$\\newcommand$\n",
       "$\\newcommand$\n",
       "$\\newcommand$\n",
       "$\\newcommand$\n",
       "$\\newcommand$\n",
       "$\\newcommand$\n",
       "$\\newcommand$\n",
       "$\\newcommand$\n",
       "$\\newcommand$\n",
       "$\\newcommand$\n",
       "$\\newcommand$\n",
       "$\\newcommand$\n",
       "$\\newcommand$\n",
       "$\\newcommand$\n",
       "$\\newcommand$\n",
       "$\\newcommand$\n",
       "$\\newcommand$\n",
       "$\\newcommand$\n",
       "$\\newcommand$\n",
       "$\\newcommand$\n",
       "$\\newcommand$\n",
       "$\\newcommand$\n",
       "$\\newcommand$\n",
       "$\\newcommand$\n",
       "$\\newcommand$\n",
       "$\\newcommand$\n",
       "$\\newcommand$\n",
       "$\\newcommand$\n",
       "$\\newcommand$\n",
       "$\\newcommand$\n",
       "$\\newcommand$\n",
       "$\\newcommand$\n",
       "$\\newcommand$\n",
       "$\\newcommand$\n",
       "$\\newcommand$\n",
       "$\\newcommand$\n",
       "$\\newcommand$\n",
       "$\\newcommand$\n",
       "$\\newcommand$\n",
       "$\\newcommand$\n",
       "$\\newcommand$\n",
       "$\\newcommand$\n",
       "$\\newcommand$\n",
       "$\\newcommand$\n",
       "$\\newcommand$\n",
       "$\\newcommand$\n",
       "$\\newcommand$\n",
       "$\\newcommand$\n",
       "$\\newcommand$\n",
       "$\\newcommand$\n",
       "$\\newcommand$\n",
       "$\\newcommand$\n",
       "$\\newcommand$\n",
       "$\\newcommand$\n",
       "$\\newcommand$\n",
       "$\\newcommand$\n",
       "$\\newcommand$\n",
       "$\\newcommand$\n",
       "$\\newcommand$\n",
       "$\\newcommand$\n",
       "$\\newcommand$\n",
       "$\\newcommand$\n",
       "$\\newcommand$\n",
       "$\\newcommand$\n",
       "$\\newcommand$\n",
       "$\\newcommand$\n",
       "$\\newcommand$\n",
       "$\\newcommand$\n",
       "$\\newcommand$\n",
       "$\\newcommand$\n",
       "$\\newcommand$\n",
       "$\\newcommand$\n",
       "$\\newcommand$\n",
       "$\\newcommand$\n",
       "$\\newcommand$\n",
       "$\\newcommand$\n",
       "$\\newcommand$\n",
       "$\\newcommand$\n",
       "$\\newcommand$\n",
       "$\\newcommand$\n",
       "$\\newcommand$\n",
       "$\\newcommand$\n",
       "$\\newcommand$\n",
       "$\\newcommand$\n",
       "$\\newcommand$\n",
       "$\\newcommand$\n",
       "$\\newcommand$\n",
       "$\\newcommand$\n",
       "$\\newcommand$\n",
       "$\\newcommand$\n",
       "$\\newcommand$\n",
       "$\\newcommand$\n",
       "$\\newcommand$\n",
       "$\\newcommand$\n",
       "$\\newcommand$\n",
       "$\\newcommand$\n",
       "$\\newcommand$\n",
       "$\\newcommand$\n",
       "$\\newcommand$\n",
       "$\\newcommand$\n",
       "$\\newcommand$\n",
       "$\\newcommand$\n",
       "$\\newcommand$\n",
       "$\\newcommand$\n",
       "$\\newcommand$\n",
       "$\\newcommand{\\btdnote}[1]$\n",
       "$\\newcommand{\\omittext}[1]$\n",
       "$\\newcommand{\\newtext}[1]{{\\color{blue}#1}}$\n",
       "$\\newcommand{\\subtext}[2]{{\\color{red}#1}{\\color{blue}#2}}$\n",
       "$\\newcommand$\n",
       "$\\newcommand$\n",
       "$\\newcommand$\n",
       "$\\newcommand$\n",
       "$\\newcommand$\n",
       "$\\newcommand$\n",
       "$\\newcommand$\n",
       "$\\newcommand$\n",
       "$\\newcommand$\n",
       "$\\newcommand$\n",
       "$\\newcommand$\n",
       "$\\newcommand$\n",
       "$\\newcommand$\n",
       "$\\newcommand$\n",
       "$\\newcommand{\\topfraction}{0.99}$</div>\n",
       "\n",
       "\n",
       "\n",
       "<div id=\"title\">\n",
       "\n",
       "#         $\\vspace*{-2.0em}{\\normalsize\\rm Accepted for publication in _ The Astrophysical Journal Letters_}$\\         $\\vspace*{1.0em}** Detection of Deuterated Hydrocarbon Nanoparticles in the          Whirlpool Galaxy, M51**$\t\n",
       "\n",
       "</div>\n",
       "<div id=\"comments\">\n",
       "\n",
       "[![arXiv](https://img.shields.io/badge/arXiv-2504.02538-b31b1b.svg)](https://arxiv.org/abs/2504.02538)<mark>Appeared on: 2025-04-04</mark> -  _Accepted for publication in Astrophysical Journal Letters_\n",
       "\n",
       "</div>\n",
       "<div id=\"authors\">\n",
       "\n",
       "B.~T.~Draine, et al. -- incl., <mark>E. Schinnerer</mark>, <mark>F. Walter</mark>\n",
       "\n",
       "</div>\n",
       "<div id=\"abstract\">\n",
       "\n",
       "**Abstract:** Deuteration of hydrocarbon material, including polycyclic aromatichydrocarbons (PAHs), has been proposed to account for the lowgas-phase abundances of D in the interstellar medium.  JWST spectra offour star-forming regions in M51 show an emission feature, withcentral wavelength $\\sim4.647\\micron$ and FWHM $0.0265\\micron$ ,corresponding to the C--D stretching mode in aliphatic hydrocarbons.The emitting aliphatic material is estimated to have ${\\rm D/H})_{\\rm aliph}\\approx 0.17\\pm0.02$ -- a factor $\\sim10^4$ enrichment relative to the overall interstellar medium (ISM).  On $\\sim50 $ pc scales, deuteration levels toward four $\\ion{H}{2}$ regions in M51 are 2-3 times higher than in the Orion Barphotodissociation region (PDR), with implications for the processesresponsible for the formation and evolution of hydrocarbonnanoparticles, including PAHs.  The deuteration of the aliphaticmaterial is found to anticorrelate with helium ionization in theassociated $\\ion{H}{2}$ , suggesting that harsh FUV radiation may act tolower the deuteration of aliphatics in PDRs near massive stars.  Noevidence is found for deuteration of aromatic material, with $({\\rm D/H})_{\\rm arom} \\ltsim 0.016$ : deuteration of the aliphatic materialexceeds that of the aromatic material by at least a factor 10.  Theobserved levels of deuteration may account for the depletion of Dobserved in the Galactic interstellar medium.  If so, the $4.65\\micron$ feature may be detectable in absorption.\n",
       "\n",
       "</div>\n",
       "\n",
       "<div id=\"div_fig1\">\n",
       "\n",
       "<img src=\"tmp_2504.02538/./f2.png\" alt=\"Fig2\" width=\"100%\"/>\n",
       "\n",
       "**Figure 2. -** $\\footnote$size$4-5\\micron$ spectra\n",
       "  ($R\\approx 1100$) of four star-forming regions in M 51 (see text).\n",
       "  Observed wavelengths have been corrected for redshift (see Table\n",
       "  \\ref{tab:params} for adopted radial velocities).  Three of the\n",
       "  spectra show $CO_2$ ice absorption (strongest in E-Strip\n",
       "  $\\ion${H}{2}).  The E-Strip $\\ion${H}{2} spectrum also shows\n",
       "  4.56-4.69$\\micron$ CO ice absorption.  A dust emission feature near\n",
       "  $4.65\\micron$ is present in all spectra.\n",
       "   (*fig:m51_4-5*)\n",
       "\n",
       "</div>\n",
       "<div id=\"div_fig2\">\n",
       "\n",
       "<img src=\"tmp_2504.02538/./f9a.png\" alt=\"Fig9.1\" width=\"50%\"/><img src=\"tmp_2504.02538/./f9b.png\" alt=\"Fig9.2\" width=\"50%\"/>\n",
       "\n",
       "**Figure 9. -** $\\footnote$size(a) $F(4.65)/F(3.4)$\n",
       "  vs. $F(3.4)/F(3.29)$, where $F(4.65)$ is the power in the\n",
       "  $4.65\\micron$ aliphatic C-D feature, $F(3.4)$ is the \"clipped\"\n",
       "  estimate of the non-aromatic C-H stretch power, and $F(3.29)$ is the\n",
       "  \"clipped\" estimate of the aromatic C-H stretch power (see Figure\n",
       "  \\ref{fig:CH}).  Right-hand scale shows estimated $(\\Da/\\Ha)_\\aliph$\n",
       "  in the emitting nanoparticles, assuming $K/f=1.2$.  Deuteration is\n",
       "  2-3 times higher in M51 than in the Orion Bar.  $(\\Da/\\Ha)_\\aliph$\n",
       "  does not appear to be correlated with nonaromatic fraction.  (b)\n",
       "  Same as (a), but plotted against $\\He^+/\\Ha^+$.  $(\\Da/\\Ha)_\\aliph$\n",
       "  appears to depend on the hardness of the radiation ionizing the\n",
       "  $\\ion${H}{2} region associated with the PDR where the PAHs are\n",
       "  located.   (*fig:cdr*)\n",
       "\n",
       "</div>\n",
       "<div id=\"div_fig3\">\n",
       "\n",
       "<img src=\"tmp_2504.02538/./f10a.png\" alt=\"Fig10.1\" width=\"25%\"/><img src=\"tmp_2504.02538/./f10b.png\" alt=\"Fig10.2\" width=\"25%\"/><img src=\"tmp_2504.02538/./f10c.png\" alt=\"Fig10.3\" width=\"25%\"/><img src=\"tmp_2504.02538/./f10d.png\" alt=\"Fig10.4\" width=\"25%\"/>\n",
       "\n",
       "**Figure 10. -** $\\footnote$size$4.2-4.6\\micron$ spectra\n",
       "  of the four sightlines in Figure \\ref{fig:m51_4-5}.  Black curves:\n",
       "  observed spectra.  Blue dashed curves: estimate of continuum without\n",
       "  ice absorption.  Green curves: continuum with ice absorption\n",
       "  applied.  Red curves: continuum plus emission lines of H, He, and\n",
       "  $H_2$(see text).  The expected wavelengths for nitrile CN\n",
       "  ($\\sim$4.35$\\mu$m) and aromatic C--D ($\\sim$4.40$\\mu$m) are\n",
       "  indicated.  In the M51 spectra there is no evidence of nitrile CN\n",
       "  emission or aromatic C--D emission; the inset profile shows our\n",
       "  estimated upper limit on the strength of either feature. (*fig:m51aromCD*)\n",
       "\n",
       "</div><div id=\"qrcode\"><img src=https://api.qrserver.com/v1/create-qr-code/?size=100x100&data=\"https://arxiv.org/abs/2504.02538\"></div>"
      ],
      "text/plain": [
       "<IPython.core.display.Markdown object>"
      ]
     },
     "metadata": {},
     "output_type": "display_data"
    }
   ],
   "source": [
    "[display(Markdown(k[1])) for k in documents];"
   ]
  },
  {
   "cell_type": "markdown",
   "id": "873873a4",
   "metadata": {
    "papermill": {
     "duration": 0.007841,
     "end_time": "2025-04-04T04:19:46.669315",
     "exception": false,
     "start_time": "2025-04-04T04:19:46.661474",
     "status": "completed"
    },
    "tags": []
   },
   "source": [
    "# Create HTML index"
   ]
  },
  {
   "cell_type": "code",
   "execution_count": 10,
   "id": "cf665672",
   "metadata": {
    "execution": {
     "iopub.execute_input": "2025-04-04T04:19:46.686351Z",
     "iopub.status.busy": "2025-04-04T04:19:46.685935Z",
     "iopub.status.idle": "2025-04-04T04:19:46.695963Z",
     "shell.execute_reply": "2025-04-04T04:19:46.695283Z"
    },
    "papermill": {
     "duration": 0.01967,
     "end_time": "2025-04-04T04:19:46.696994",
     "exception": false,
     "start_time": "2025-04-04T04:19:46.677324",
     "status": "completed"
    },
    "tags": []
   },
   "outputs": [
    {
     "name": "stdout",
     "output_type": "stream",
     "text": [
      "426  publications files modified in the last 7 days.\n"
     ]
    }
   ],
   "source": [
    "from datetime import datetime, timedelta, timezone\n",
    "from glob import glob\n",
    "import os\n",
    "\n",
    "files = glob('_build/html/*.md')\n",
    "days = 7\n",
    "now = datetime.today()\n",
    "res = []\n",
    "for fk in files:\n",
    "    stat_result = os.stat(fk).st_ctime\n",
    "    modified = datetime.fromtimestamp(stat_result, tz=timezone.utc).replace(tzinfo=None)\n",
    "    delta = now.today() - modified\n",
    "    if delta <= timedelta(days=days):\n",
    "        res.append((delta.seconds, fk))\n",
    "res = [k[1] for k in reversed(sorted(res, key=lambda x:x[1]))]\n",
    "npub = len(res)\n",
    "print(len(res), f\" publications files modified in the last {days:d} days.\")\n",
    "# [ print('\\t', k) for k in res ];"
   ]
  },
  {
   "cell_type": "code",
   "execution_count": 11,
   "id": "015de740",
   "metadata": {
    "execution": {
     "iopub.execute_input": "2025-04-04T04:19:46.713952Z",
     "iopub.status.busy": "2025-04-04T04:19:46.713684Z",
     "iopub.status.idle": "2025-04-04T04:19:46.736183Z",
     "shell.execute_reply": "2025-04-04T04:19:46.735636Z"
    },
    "papermill": {
     "duration": 0.031938,
     "end_time": "2025-04-04T04:19:46.737113",
     "exception": false,
     "start_time": "2025-04-04T04:19:46.705175",
     "status": "completed"
    },
    "tags": []
   },
   "outputs": [
    {
     "name": "stdout",
     "output_type": "stream",
     "text": [
      "18  publications in the last 7 days.\n"
     ]
    }
   ],
   "source": [
    "import datetime\n",
    "from glob import glob\n",
    "\n",
    "def get_last_n_days(lst, days=1):\n",
    "    \"\"\" Get the documents from the last n days \"\"\"\n",
    "    sorted_lst = sorted(lst, key=lambda x: x[1], reverse=True)\n",
    "    for fname, date in sorted_lst:\n",
    "        if date >= str(datetime.date.today() - datetime.timedelta(days=days)):\n",
    "            yield fname\n",
    "\n",
    "def extract_appearance_dates(lst_file):\n",
    "    dates = []\n",
    "\n",
    "    def get_date(line):\n",
    "        return line\\\n",
    "            .split('Appeared on:')[-1]\\\n",
    "            .split('</mark>')[0].strip()\n",
    "\n",
    "    for fname in lst:\n",
    "        with open(fname, 'r') as f:\n",
    "            found_date = False\n",
    "            for line in f:\n",
    "                if not found_date:\n",
    "                    if \"Appeared on\" in line:\n",
    "                        found_date = True\n",
    "                        dates.append((fname, get_date(line)))\n",
    "                else:\n",
    "                    break\n",
    "    return dates\n",
    "\n",
    "from glob import glob\n",
    "lst = glob('_build/html/*md')\n",
    "days = 7\n",
    "dates = extract_appearance_dates(lst)\n",
    "res = list(get_last_n_days(dates, days))\n",
    "npub = len(res)\n",
    "print(len(res), f\" publications in the last {days:d} days.\")"
   ]
  },
  {
   "cell_type": "code",
   "execution_count": 12,
   "id": "52ca0208",
   "metadata": {
    "execution": {
     "iopub.execute_input": "2025-04-04T04:19:46.754405Z",
     "iopub.status.busy": "2025-04-04T04:19:46.754209Z",
     "iopub.status.idle": "2025-04-04T04:19:46.759107Z",
     "shell.execute_reply": "2025-04-04T04:19:46.758556Z"
    },
    "papermill": {
     "duration": 0.014694,
     "end_time": "2025-04-04T04:19:46.760094",
     "exception": false,
     "start_time": "2025-04-04T04:19:46.745400",
     "status": "completed"
    },
    "scrolled": false,
    "tags": []
   },
   "outputs": [],
   "source": [
    "def create_carousel(npub=4):\n",
    "    \"\"\" Generate the HTML code for a carousel with `npub` slides \"\"\"\n",
    "    carousel = [\"\"\"  <div class=\"carousel\" \"\"\",\n",
    "                \"\"\"       data-flickity='{ \"autoPlay\": 10000, \"adaptiveHeight\": true, \"resize\": true, \"wrapAround\": true, \"pauseAutoPlayOnHover\": true, \"groupCells\": 1 }' id=\"asyncTypeset\">\"\"\"\n",
    "                ]\n",
    "    \n",
    "    item_str = \"\"\"    <div class=\"carousel-cell\"> <div id=\"slide{k}\" class=\"md_view\">Content {k}</div> </div>\"\"\"\n",
    "    for k in range(1, npub + 1):\n",
    "        carousel.append(item_str.format(k=k))\n",
    "    carousel.append(\"  </div>\")\n",
    "    return '\\n'.join(carousel)\n",
    "\n",
    "def create_grid(npub=4):\n",
    "    \"\"\" Generate the HTML code for a flat grid with `npub` slides \"\"\"\n",
    "    grid = [\"\"\"  <div class=\"grid\"> \"\"\",\n",
    "                ]\n",
    "    \n",
    "    item_str = \"\"\"    <div class=\"grid-item\"> <div id=\"slide{k}\" class=\"md_view\">Content {k}</div> </div>\"\"\"\n",
    "    for k in range(1, npub + 1):\n",
    "        grid.append(item_str.format(k=k))\n",
    "    grid.append(\"  </div>\")\n",
    "    return '\\n'.join(grid)"
   ]
  },
  {
   "cell_type": "code",
   "execution_count": 13,
   "id": "a6eac5b6",
   "metadata": {
    "execution": {
     "iopub.execute_input": "2025-04-04T04:19:46.777397Z",
     "iopub.status.busy": "2025-04-04T04:19:46.776977Z",
     "iopub.status.idle": "2025-04-04T04:19:46.782097Z",
     "shell.execute_reply": "2025-04-04T04:19:46.781554Z"
    },
    "papermill": {
     "duration": 0.014818,
     "end_time": "2025-04-04T04:19:46.783104",
     "exception": false,
     "start_time": "2025-04-04T04:19:46.768286",
     "status": "completed"
    },
    "scrolled": false,
    "tags": []
   },
   "outputs": [],
   "source": [
    "carousel = create_carousel(npub)\n",
    "docs = ', '.join(['\"{0:s}\"'.format(k.split('/')[-1]) for k in res])\n",
    "slides = ', '.join([f'\"slide{k}\"' for k in range(1, npub + 1)])\n",
    "\n",
    "with open(\"daily_template.html\", \"r\") as tpl:\n",
    "    page = tpl.read()\n",
    "    page = page.replace(\"{%-- carousel:s --%}\", carousel)\\\n",
    "               .replace(\"{%-- suptitle:s --%}\",  \"7-day archives\" )\\\n",
    "               .replace(\"{%-- docs:s --%}\", docs)\\\n",
    "               .replace(\"{%-- slides:s --%}\", slides)\n",
    "    \n",
    "with open(\"_build/html/index_7days.html\", 'w') as fout:\n",
    "    fout.write(page)"
   ]
  },
  {
   "cell_type": "code",
   "execution_count": 14,
   "id": "adc1a1ec",
   "metadata": {
    "execution": {
     "iopub.execute_input": "2025-04-04T04:19:46.800298Z",
     "iopub.status.busy": "2025-04-04T04:19:46.800111Z",
     "iopub.status.idle": "2025-04-04T04:19:46.807126Z",
     "shell.execute_reply": "2025-04-04T04:19:46.806551Z"
    },
    "papermill": {
     "duration": 0.016723,
     "end_time": "2025-04-04T04:19:46.808102",
     "exception": false,
     "start_time": "2025-04-04T04:19:46.791379",
     "status": "completed"
    },
    "tags": []
   },
   "outputs": [
    {
     "name": "stdout",
     "output_type": "stream",
     "text": [
      "7  publications in the last day.\n"
     ]
    }
   ],
   "source": [
    "# redo for today\n",
    "days = 1\n",
    "res = list(get_last_n_days(dates, days))\n",
    "npub = len(res)\n",
    "print(len(res), f\" publications in the last day.\")\n",
    "\n",
    "carousel = create_carousel(npub)\n",
    "docs = ', '.join(['\"{0:s}\"'.format(k.split('/')[-1]) for k in res])\n",
    "slides = ', '.join([f'\"slide{k}\"' for k in range(1, npub + 1)])\n",
    "\n",
    "with open(\"daily_template.html\", \"r\") as tpl:\n",
    "    page = tpl.read()\n",
    "    page = page.replace(\"{%-- carousel:s --%}\", carousel)\\\n",
    "               .replace(\"{%-- suptitle:s --%}\",  \"Daily\" )\\\n",
    "               .replace(\"{%-- docs:s --%}\", docs)\\\n",
    "               .replace(\"{%-- slides:s --%}\", slides)\n",
    "    \n",
    "# print(carousel, docs, slides)\n",
    "# print(page)\n",
    "with open(\"_build/html/index_daily.html\", 'w') as fout:\n",
    "    fout.write(page)"
   ]
  },
  {
   "cell_type": "code",
   "execution_count": 15,
   "id": "00eece82",
   "metadata": {
    "execution": {
     "iopub.execute_input": "2025-04-04T04:19:46.825695Z",
     "iopub.status.busy": "2025-04-04T04:19:46.825175Z",
     "iopub.status.idle": "2025-04-04T04:19:46.831976Z",
     "shell.execute_reply": "2025-04-04T04:19:46.831309Z"
    },
    "papermill": {
     "duration": 0.016691,
     "end_time": "2025-04-04T04:19:46.833047",
     "exception": false,
     "start_time": "2025-04-04T04:19:46.816356",
     "status": "completed"
    },
    "scrolled": false,
    "tags": []
   },
   "outputs": [
    {
     "name": "stdout",
     "output_type": "stream",
     "text": [
      "6  6 publications selected.\n"
     ]
    }
   ],
   "source": [
    "# Create the flat grid of the last N papers (fixed number regardless of dates)\n",
    "from itertools import islice \n",
    "\n",
    "npub = 6\n",
    "res = [k[0] for k in (islice(reversed(sorted(dates, key=lambda x: x[1])), 6))]\n",
    "print(len(res), f\" {npub} publications selected.\")\n",
    "\n",
    "grid = create_grid(npub)\n",
    "docs = ', '.join(['\"{0:s}\"'.format(k.split('/')[-1]) for k in res])\n",
    "slides = ', '.join([f'\"slide{k}\"' for k in range(1, npub + 1)])\n",
    "\n",
    "with open(\"grid_template.html\", \"r\") as tpl:\n",
    "    page = tpl.read()\n",
    "    page = page.replace(\"{%-- grid-content:s --%}\", grid)\\\n",
    "               .replace(\"{%-- suptitle:s --%}\",  f\"Last {npub:,d} papers\" )\\\n",
    "               .replace(\"{%-- docs:s --%}\", docs)\\\n",
    "               .replace(\"{%-- slides:s --%}\", slides)\n",
    "    \n",
    "# print(grid, docs, slides)\n",
    "# print(page)\n",
    "with open(\"_build/html/index_npub_grid.html\", 'w') as fout:\n",
    "    fout.write(page)"
   ]
  }
 ],
 "metadata": {
  "kernelspec": {
   "display_name": "Python 3 (ipykernel)",
   "language": "python",
   "name": "python3"
  },
  "language_info": {
   "codemirror_mode": {
    "name": "ipython",
    "version": 3
   },
   "file_extension": ".py",
   "mimetype": "text/x-python",
   "name": "python",
   "nbconvert_exporter": "python",
   "pygments_lexer": "ipython3",
   "version": "3.9.21"
  },
  "papermill": {
   "default_parameters": {},
   "duration": 483.463779,
   "end_time": "2025-04-04T04:19:47.056533",
   "environment_variables": {},
   "exception": null,
   "input_path": "MPIA daily digest.ipynb",
   "output_path": "log.ipynb",
   "parameters": {},
   "start_time": "2025-04-04T04:11:43.592754",
   "version": "2.6.0"
  },
  "vscode": {
   "interpreter": {
    "hash": "aee8b7b246df8f9039afb4144a1f6fd8d2ca17a180786b69acc140d282b71a49"
   }
  },
  "widgets": {
   "application/vnd.jupyter.widget-state+json": {
    "state": {
     "1bbbcbca45dd4677bd3f73b6b7c3fa0f": {
      "model_module": "@jupyter-widgets/controls",
      "model_module_version": "2.0.0",
      "model_name": "HTMLStyleModel",
      "state": {
       "_model_module": "@jupyter-widgets/controls",
       "_model_module_version": "2.0.0",
       "_model_name": "HTMLStyleModel",
       "_view_count": null,
       "_view_module": "@jupyter-widgets/base",
       "_view_module_version": "2.0.0",
       "_view_name": "StyleView",
       "background": null,
       "description_width": "",
       "font_size": null,
       "text_color": null
      }
     },
     "354f8e7c4bff45a6be07f3ac8ed0b149": {
      "model_module": "@jupyter-widgets/controls",
      "model_module_version": "2.0.0",
      "model_name": "HTMLModel",
      "state": {
       "_dom_classes": [],
       "_model_module": "@jupyter-widgets/controls",
       "_model_module_version": "2.0.0",
       "_model_name": "HTMLModel",
       "_view_count": null,
       "_view_module": "@jupyter-widgets/controls",
       "_view_module_version": "2.0.0",
       "_view_name": "HTMLView",
       "description": "",
       "description_allow_html": false,
       "layout": "IPY_MODEL_7a9c6696ace44eb2bbfd61741c41fd3c",
       "placeholder": "​",
       "style": "IPY_MODEL_780eea581a55410cbac4124a46f4d30d",
       "tabbable": null,
       "tooltip": null,
       "value": " 10/10 [07:36&lt;00:00, 87.57s/it]"
      }
     },
     "4eb5722e7042460e8583aa991138a7b7": {
      "model_module": "@jupyter-widgets/controls",
      "model_module_version": "2.0.0",
      "model_name": "FloatProgressModel",
      "state": {
       "_dom_classes": [],
       "_model_module": "@jupyter-widgets/controls",
       "_model_module_version": "2.0.0",
       "_model_name": "FloatProgressModel",
       "_view_count": null,
       "_view_module": "@jupyter-widgets/controls",
       "_view_module_version": "2.0.0",
       "_view_name": "ProgressView",
       "bar_style": "success",
       "description": "",
       "description_allow_html": false,
       "layout": "IPY_MODEL_ca139019caa4430c87b1fe73ed4a6cc6",
       "max": 10.0,
       "min": 0.0,
       "orientation": "horizontal",
       "style": "IPY_MODEL_96499a2fbde44a76856024b56c9c76a9",
       "tabbable": null,
       "tooltip": null,
       "value": 10.0
      }
     },
     "66dd52f4c8554d2b968992553867e42d": {
      "model_module": "@jupyter-widgets/base",
      "model_module_version": "2.0.0",
      "model_name": "LayoutModel",
      "state": {
       "_model_module": "@jupyter-widgets/base",
       "_model_module_version": "2.0.0",
       "_model_name": "LayoutModel",
       "_view_count": null,
       "_view_module": "@jupyter-widgets/base",
       "_view_module_version": "2.0.0",
       "_view_name": "LayoutView",
       "align_content": null,
       "align_items": null,
       "align_self": null,
       "border_bottom": null,
       "border_left": null,
       "border_right": null,
       "border_top": null,
       "bottom": null,
       "display": null,
       "flex": null,
       "flex_flow": null,
       "grid_area": null,
       "grid_auto_columns": null,
       "grid_auto_flow": null,
       "grid_auto_rows": null,
       "grid_column": null,
       "grid_gap": null,
       "grid_row": null,
       "grid_template_areas": null,
       "grid_template_columns": null,
       "grid_template_rows": null,
       "height": null,
       "justify_content": null,
       "justify_items": null,
       "left": null,
       "margin": null,
       "max_height": null,
       "max_width": null,
       "min_height": null,
       "min_width": null,
       "object_fit": null,
       "object_position": null,
       "order": null,
       "overflow": null,
       "padding": null,
       "right": null,
       "top": null,
       "visibility": null,
       "width": null
      }
     },
     "780eea581a55410cbac4124a46f4d30d": {
      "model_module": "@jupyter-widgets/controls",
      "model_module_version": "2.0.0",
      "model_name": "HTMLStyleModel",
      "state": {
       "_model_module": "@jupyter-widgets/controls",
       "_model_module_version": "2.0.0",
       "_model_name": "HTMLStyleModel",
       "_view_count": null,
       "_view_module": "@jupyter-widgets/base",
       "_view_module_version": "2.0.0",
       "_view_name": "StyleView",
       "background": null,
       "description_width": "",
       "font_size": null,
       "text_color": null
      }
     },
     "7a9c6696ace44eb2bbfd61741c41fd3c": {
      "model_module": "@jupyter-widgets/base",
      "model_module_version": "2.0.0",
      "model_name": "LayoutModel",
      "state": {
       "_model_module": "@jupyter-widgets/base",
       "_model_module_version": "2.0.0",
       "_model_name": "LayoutModel",
       "_view_count": null,
       "_view_module": "@jupyter-widgets/base",
       "_view_module_version": "2.0.0",
       "_view_name": "LayoutView",
       "align_content": null,
       "align_items": null,
       "align_self": null,
       "border_bottom": null,
       "border_left": null,
       "border_right": null,
       "border_top": null,
       "bottom": null,
       "display": null,
       "flex": null,
       "flex_flow": null,
       "grid_area": null,
       "grid_auto_columns": null,
       "grid_auto_flow": null,
       "grid_auto_rows": null,
       "grid_column": null,
       "grid_gap": null,
       "grid_row": null,
       "grid_template_areas": null,
       "grid_template_columns": null,
       "grid_template_rows": null,
       "height": null,
       "justify_content": null,
       "justify_items": null,
       "left": null,
       "margin": null,
       "max_height": null,
       "max_width": null,
       "min_height": null,
       "min_width": null,
       "object_fit": null,
       "object_position": null,
       "order": null,
       "overflow": null,
       "padding": null,
       "right": null,
       "top": null,
       "visibility": null,
       "width": null
      }
     },
     "8dcb0abce046461198315d17934fabfa": {
      "model_module": "@jupyter-widgets/controls",
      "model_module_version": "2.0.0",
      "model_name": "HBoxModel",
      "state": {
       "_dom_classes": [],
       "_model_module": "@jupyter-widgets/controls",
       "_model_module_version": "2.0.0",
       "_model_name": "HBoxModel",
       "_view_count": null,
       "_view_module": "@jupyter-widgets/controls",
       "_view_module_version": "2.0.0",
       "_view_name": "HBoxView",
       "box_style": "",
       "children": [
        "IPY_MODEL_ebab94cfaa6848f5ac1e8bf2d608e2f5",
        "IPY_MODEL_4eb5722e7042460e8583aa991138a7b7",
        "IPY_MODEL_354f8e7c4bff45a6be07f3ac8ed0b149"
       ],
       "layout": "IPY_MODEL_db348862475e43f4b7777f2cc7f3f431",
       "tabbable": null,
       "tooltip": null
      }
     },
     "96499a2fbde44a76856024b56c9c76a9": {
      "model_module": "@jupyter-widgets/controls",
      "model_module_version": "2.0.0",
      "model_name": "ProgressStyleModel",
      "state": {
       "_model_module": "@jupyter-widgets/controls",
       "_model_module_version": "2.0.0",
       "_model_name": "ProgressStyleModel",
       "_view_count": null,
       "_view_module": "@jupyter-widgets/base",
       "_view_module_version": "2.0.0",
       "_view_name": "StyleView",
       "bar_color": null,
       "description_width": ""
      }
     },
     "ca139019caa4430c87b1fe73ed4a6cc6": {
      "model_module": "@jupyter-widgets/base",
      "model_module_version": "2.0.0",
      "model_name": "LayoutModel",
      "state": {
       "_model_module": "@jupyter-widgets/base",
       "_model_module_version": "2.0.0",
       "_model_name": "LayoutModel",
       "_view_count": null,
       "_view_module": "@jupyter-widgets/base",
       "_view_module_version": "2.0.0",
       "_view_name": "LayoutView",
       "align_content": null,
       "align_items": null,
       "align_self": null,
       "border_bottom": null,
       "border_left": null,
       "border_right": null,
       "border_top": null,
       "bottom": null,
       "display": null,
       "flex": null,
       "flex_flow": null,
       "grid_area": null,
       "grid_auto_columns": null,
       "grid_auto_flow": null,
       "grid_auto_rows": null,
       "grid_column": null,
       "grid_gap": null,
       "grid_row": null,
       "grid_template_areas": null,
       "grid_template_columns": null,
       "grid_template_rows": null,
       "height": null,
       "justify_content": null,
       "justify_items": null,
       "left": null,
       "margin": null,
       "max_height": null,
       "max_width": null,
       "min_height": null,
       "min_width": null,
       "object_fit": null,
       "object_position": null,
       "order": null,
       "overflow": null,
       "padding": null,
       "right": null,
       "top": null,
       "visibility": null,
       "width": null
      }
     },
     "db348862475e43f4b7777f2cc7f3f431": {
      "model_module": "@jupyter-widgets/base",
      "model_module_version": "2.0.0",
      "model_name": "LayoutModel",
      "state": {
       "_model_module": "@jupyter-widgets/base",
       "_model_module_version": "2.0.0",
       "_model_name": "LayoutModel",
       "_view_count": null,
       "_view_module": "@jupyter-widgets/base",
       "_view_module_version": "2.0.0",
       "_view_name": "LayoutView",
       "align_content": null,
       "align_items": null,
       "align_self": null,
       "border_bottom": null,
       "border_left": null,
       "border_right": null,
       "border_top": null,
       "bottom": null,
       "display": null,
       "flex": null,
       "flex_flow": null,
       "grid_area": null,
       "grid_auto_columns": null,
       "grid_auto_flow": null,
       "grid_auto_rows": null,
       "grid_column": null,
       "grid_gap": null,
       "grid_row": null,
       "grid_template_areas": null,
       "grid_template_columns": null,
       "grid_template_rows": null,
       "height": null,
       "justify_content": null,
       "justify_items": null,
       "left": null,
       "margin": null,
       "max_height": null,
       "max_width": null,
       "min_height": null,
       "min_width": null,
       "object_fit": null,
       "object_position": null,
       "order": null,
       "overflow": null,
       "padding": null,
       "right": null,
       "top": null,
       "visibility": null,
       "width": null
      }
     },
     "ebab94cfaa6848f5ac1e8bf2d608e2f5": {
      "model_module": "@jupyter-widgets/controls",
      "model_module_version": "2.0.0",
      "model_name": "HTMLModel",
      "state": {
       "_dom_classes": [],
       "_model_module": "@jupyter-widgets/controls",
       "_model_module_version": "2.0.0",
       "_model_name": "HTMLModel",
       "_view_count": null,
       "_view_module": "@jupyter-widgets/controls",
       "_view_module_version": "2.0.0",
       "_view_name": "HTMLView",
       "description": "",
       "description_allow_html": false,
       "layout": "IPY_MODEL_66dd52f4c8554d2b968992553867e42d",
       "placeholder": "​",
       "style": "IPY_MODEL_1bbbcbca45dd4677bd3f73b6b7c3fa0f",
       "tabbable": null,
       "tooltip": null,
       "value": "100%"
      }
     }
    },
    "version_major": 2,
    "version_minor": 0
   }
  }
 },
 "nbformat": 4,
 "nbformat_minor": 5
}