{
 "cells": [
  {
   "cell_type": "markdown",
   "id": "92bcb855",
   "metadata": {
    "papermill": {
     "duration": 0.003814,
     "end_time": "2025-08-04T04:49:14.568944",
     "exception": false,
     "start_time": "2025-08-04T04:49:14.565130",
     "status": "completed"
    },
    "tags": []
   },
   "source": [
    "# MPIA Arxiv on Deck 2\n",
    "\n",
    "Contains the steps to produce the paper extractions."
   ]
  },
  {
   "cell_type": "code",
   "execution_count": 1,
   "id": "3a0d6e11",
   "metadata": {
    "execution": {
     "iopub.execute_input": "2025-08-04T04:49:14.576387Z",
     "iopub.status.busy": "2025-08-04T04:49:14.576111Z",
     "iopub.status.idle": "2025-08-04T04:49:14.805801Z",
     "shell.execute_reply": "2025-08-04T04:49:14.805186Z"
    },
    "papermill": {
     "duration": 0.234891,
     "end_time": "2025-08-04T04:49:14.807166",
     "exception": false,
     "start_time": "2025-08-04T04:49:14.572275",
     "status": "completed"
    },
    "tags": []
   },
   "outputs": [],
   "source": [
    "# Imports\n",
    "import os\n",
    "from IPython.display import Markdown, display\n",
    "from tqdm.notebook import tqdm\n",
    "import warnings\n",
    "from PIL import Image \n",
    "import re\n",
    "\n",
    "# requires arxiv_on_deck_2\n",
    "\n",
    "from arxiv_on_deck_2.arxiv2 import (get_new_papers, \n",
    "                                    get_paper_from_identifier,\n",
    "                                    retrieve_document_source, \n",
    "                                    get_markdown_badge)\n",
    "from arxiv_on_deck_2 import (latex,\n",
    "                             latex_bib,\n",
    "                             mpia,\n",
    "                             highlight_authors_in_list)\n",
    "\n",
    "# Sometimes images are really big\n",
    "Image.MAX_IMAGE_PIXELS = 1000000000 "
   ]
  },
  {
   "cell_type": "code",
   "execution_count": 2,
   "id": "22aa9d44",
   "metadata": {
    "execution": {
     "iopub.execute_input": "2025-08-04T04:49:14.814284Z",
     "iopub.status.busy": "2025-08-04T04:49:14.814072Z",
     "iopub.status.idle": "2025-08-04T04:49:14.822039Z",
     "shell.execute_reply": "2025-08-04T04:49:14.821446Z"
    },
    "papermill": {
     "duration": 0.012625,
     "end_time": "2025-08-04T04:49:14.823033",
     "exception": false,
     "start_time": "2025-08-04T04:49:14.810408",
     "status": "completed"
    },
    "tags": []
   },
   "outputs": [],
   "source": [
    "# Some useful definitions.\n",
    "\n",
    "class AffiliationWarning(UserWarning):\n",
    "    pass\n",
    "\n",
    "class AffiliationError(RuntimeError):\n",
    "    pass\n",
    "\n",
    "def validation(source: str):\n",
    "    \"\"\"Raises error paper during parsing of source file\n",
    "    \n",
    "    Allows checks before parsing TeX code.\n",
    "    \n",
    "    Raises AffiliationWarning\n",
    "    \"\"\"\n",
    "    check = mpia.affiliation_verifications(source, verbose=True)\n",
    "    if check is not True:\n",
    "        raise AffiliationError(\"mpia.affiliation_verifications: \" + check)\n",
    "\n",
    "        \n",
    "warnings.simplefilter('always', AffiliationWarning)\n",
    "\n",
    "\n",
    "def get_markdown_qrcode(paper_id: str):\n",
    "    \"\"\" Generate a qrcode to the arxiv page using qrserver.com\n",
    "    \n",
    "    :param paper: Arxiv paper\n",
    "    :returns: markdown text\n",
    "    \"\"\"\n",
    "    url = r\"https://api.qrserver.com/v1/create-qr-code/?size=100x100&data=\"\n",
    "    txt = f\"\"\"<img src={url}\"https://arxiv.org/abs/{paper_id}\">\"\"\"\n",
    "    txt = '<div id=\"qrcode\">' + txt + '</div>'\n",
    "    return txt\n",
    "\n",
    "\n",
    "def clean_non_western_encoded_characters_commands(text: str) -> str:\n",
    "    \"\"\" Remove non-western encoded characters from a string\n",
    "    List may need to grow.\n",
    "    \n",
    "    :param text: the text to clean\n",
    "    :return: the cleaned text\n",
    "    \"\"\"\n",
    "    text = re.sub(r\"(\\\\begin{CJK}{UTF8}{gbsn})(.*?)(\\\\end{CJK})\", r\"\\2\", text)\n",
    "    return text\n",
    "\n",
    "\n",
    "def get_initials(name: str) -> str:\n",
    "    \"\"\" Get the short name, e.g., A.-B. FamName\n",
    "    :param name: full name\n",
    "    :returns: initials\n",
    "    \"\"\"\n",
    "    initials = []\n",
    "    # account for non western names often in ()\n",
    "    if '(' in name:\n",
    "        name = clean_non_western_encoded_characters_commands(name)\n",
    "        suffix = re.findall(r\"\\((.*?)\\)\", name)[0]\n",
    "        name = name.replace(f\"({suffix})\", '')\n",
    "    else:\n",
    "        suffix = ''\n",
    "    split = name.split()\n",
    "    for token in split[:-1]:\n",
    "        if '-' in token:\n",
    "            current = '-'.join([k[0] + '.' for k in token.split('-')])\n",
    "        else:\n",
    "            current = token[0] + '.'\n",
    "        initials.append(current)\n",
    "    initials.append(split[-1].strip())\n",
    "    if suffix:\n",
    "        initials.append(f\"({suffix})\")\n",
    "    return ' '.join(initials)"
   ]
  },
  {
   "cell_type": "markdown",
   "id": "14bd6310",
   "metadata": {
    "papermill": {
     "duration": 0.002873,
     "end_time": "2025-08-04T04:49:14.828808",
     "exception": false,
     "start_time": "2025-08-04T04:49:14.825935",
     "status": "completed"
    },
    "tags": []
   },
   "source": [
    "## get list of arxiv paper candidates\n",
    "\n",
    "We use the MPIA mitarbeiter list webpage from mpia.de to get author names\n",
    "We then get all new papers from Arxiv and match authors"
   ]
  },
  {
   "cell_type": "code",
   "execution_count": 3,
   "id": "7ea813a8",
   "metadata": {
    "execution": {
     "iopub.execute_input": "2025-08-04T04:49:14.835395Z",
     "iopub.status.busy": "2025-08-04T04:49:14.835208Z",
     "iopub.status.idle": "2025-08-04T04:49:33.410332Z",
     "shell.execute_reply": "2025-08-04T04:49:33.409737Z"
    },
    "papermill": {
     "duration": 18.579985,
     "end_time": "2025-08-04T04:49:33.411673",
     "exception": false,
     "start_time": "2025-08-04T04:49:14.831688",
     "status": "completed"
    },
    "tags": []
   },
   "outputs": [],
   "source": [
    "# deal with the author list and edge cases of people that cannot be consistent on their name  \n",
    "\n",
    "def filter_non_scientists(name: str) -> bool:\n",
    "    \"\"\" Loose filter on expected authorships\n",
    "\n",
    "    removing IT, administration, technical staff\n",
    "    :param name: name\n",
    "    :returns: False if name is not a scientist\n",
    "    \"\"\"\n",
    "    remove_list = ['Licht', 'Binroth', 'Witzel', 'Jordan',\n",
    "                   'Zähringer', 'Scheerer', 'Hoffmann', 'Düe',\n",
    "                   'Hellmich', 'Enkler-Scharpegge', 'Witte-Nguy',\n",
    "                   'Dehen', 'Beckmann', 'Jager', 'Jäger'\n",
    "                  ]\n",
    "\n",
    "    for k in remove_list:\n",
    "        if k in name:\n",
    "            return False\n",
    "    return True\n",
    "\n",
    "def add_author_to_list(author_list: list) -> list:\n",
    "    \"\"\" Add author to list if not already in list\n",
    "    \n",
    "    :param author: author name\n",
    "    :param author_list: list of authors\n",
    "    :returns: updated list of authors\n",
    "    \"\"\"\n",
    "    add_list = ['T. Henning']\n",
    "\n",
    "    for author in add_list:\n",
    "        if author not in author_list:\n",
    "            author_list.append(author)\n",
    "    return author_list\n",
    "\n",
    "# get list from MPIA website\n",
    "# filter for non-scientists (mpia.get_mpia_mitarbeiter_list() does some filtering)\n",
    "mpia_authors = [k[1] for k in mpia.get_mpia_mitarbeiter_list() if filter_non_scientists(k[1])]\n",
    "# add some missing author because of inconsistencies in their MPIA name and author name on papers\n",
    "mpia_authors = add_author_to_list(mpia_authors)"
   ]
  },
  {
   "cell_type": "code",
   "execution_count": 4,
   "id": "2645e73a",
   "metadata": {
    "execution": {
     "iopub.execute_input": "2025-08-04T04:49:33.419060Z",
     "iopub.status.busy": "2025-08-04T04:49:33.418837Z",
     "iopub.status.idle": "2025-08-04T04:49:34.102685Z",
     "shell.execute_reply": "2025-08-04T04:49:34.102045Z"
    },
    "papermill": {
     "duration": 0.688491,
     "end_time": "2025-08-04T04:49:34.103714",
     "exception": false,
     "start_time": "2025-08-04T04:49:33.415223",
     "status": "completed"
    },
    "tags": []
   },
   "outputs": [
    {
     "name": "stdout",
     "output_type": "stream",
     "text": [
      "J. Li  ->  J. Li  |  ['J. Li']\n",
      "E. Bañados  ->  E. Bañados  |  ['E. Bañados']\n",
      "J. Shi  ->  J. Shi  |  ['J. Shi']\n",
      "J. Liu  ->  J. Liu  |  ['J. Liu']\n"
     ]
    },
    {
     "name": "stdout",
     "output_type": "stream",
     "text": [
      "X. Zhang  ->  X. Zhang  |  ['X. Zhang']\n",
      "H.-W. Rix  ->  H.-W. Rix  |  ['H.-W. Rix']\n",
      "Arxiv has 62 new papers today\n",
      "          6 with possible author matches\n"
     ]
    }
   ],
   "source": [
    "new_papers = get_new_papers()\n",
    "# add manual references\n",
    "add_paper_refs = []\n",
    "new_papers.extend([get_paper_from_identifier(k) for k in add_paper_refs])\n",
    "\n",
    "def robust_call(fn, value, *args, **kwargs):\n",
    "    try:\n",
    "        return fn(value, *args, **kwargs)\n",
    "    except Exception:\n",
    "        return value\n",
    "\n",
    "candidates = []\n",
    "for paperk in new_papers:\n",
    "    # Check author list with their initials\n",
    "    normed_author_list = [robust_call(mpia.get_initials, k) for k in paperk['authors']]\n",
    "    hl_authors = highlight_authors_in_list(normed_author_list, mpia_authors, verbose=True)\n",
    "    matches = [(hl, orig) for hl, orig in zip(hl_authors, paperk['authors']) if 'mark' in hl]\n",
    "    paperk['authors'] = hl_authors\n",
    "    if matches:\n",
    "        # only select paper if an author matched our list\n",
    "        candidates.append(paperk)\n",
    "print(\"\"\"Arxiv has {0:,d} new papers today\"\"\".format(len(new_papers)))        \n",
    "print(\"\"\"          {0:,d} with possible author matches\"\"\".format(len(candidates)))"
   ]
  },
  {
   "cell_type": "markdown",
   "id": "3543b34a",
   "metadata": {
    "papermill": {
     "duration": 0.003091,
     "end_time": "2025-08-04T04:49:34.110426",
     "exception": false,
     "start_time": "2025-08-04T04:49:34.107335",
     "status": "completed"
    },
    "tags": []
   },
   "source": [
    "# Parse sources and generate relevant outputs\n",
    "\n",
    "From the candidates, we do the following steps:\n",
    "* get their tarball from ArXiv (and extract data)\n",
    "* find the main .tex file: find one with \\documentclass{...} (sometimes it's non trivial)\n",
    "* Check affiliations with :func:`validation`, which uses :func:`mpia.affiliation_verifications`\n",
    "* If passing the affiliations: we parse the .tex source\n",
    "   * inject sub-documents into the main (flatten the main document)\n",
    "   * parse structure, extract information (title, abstract, authors, figures...)\n",
    "   * handles `\\graphicspath` if provided\n",
    "* Generate the .md document."
   ]
  },
  {
   "cell_type": "code",
   "execution_count": 5,
   "id": "9576b79e",
   "metadata": {
    "execution": {
     "iopub.execute_input": "2025-08-04T04:49:34.117435Z",
     "iopub.status.busy": "2025-08-04T04:49:34.117219Z",
     "iopub.status.idle": "2025-08-04T04:49:42.365883Z",
     "shell.execute_reply": "2025-08-04T04:49:42.365176Z"
    },
    "papermill": {
     "duration": 8.253688,
     "end_time": "2025-08-04T04:49:42.367239",
     "exception": false,
     "start_time": "2025-08-04T04:49:34.113551",
     "status": "completed"
    },
    "scrolled": false,
    "tags": []
   },
   "outputs": [
    {
     "data": {
      "application/vnd.jupyter.widget-view+json": {
       "model_id": "c8159753070840d7a1684be5eee81528",
       "version_major": 2,
       "version_minor": 0
      },
      "text/plain": [
       "  0%|          | 0/6 [00:00<?, ?it/s]"
      ]
     },
     "metadata": {},
     "output_type": "display_data"
    },
    {
     "name": "stdout",
     "output_type": "stream",
     "text": [
      "Retrieving document from  https://arxiv.org/e-print/2508.00059\n"
     ]
    },
    {
     "name": "stdout",
     "output_type": "stream",
     "text": [
      "extracting tarball to tmp_2508.00059... done.\n",
      "Retrieving document from  https://arxiv.org/e-print/2508.00209\n",
      "extracting tarball to tmp_2508.00209..."
     ]
    },
    {
     "name": "stdout",
     "output_type": "stream",
     "text": [
      " done.\n"
     ]
    },
    {
     "name": "stdout",
     "output_type": "stream",
     "text": [
      "E. Bañados  ->  E. Bañados  |  ['E. Bañados']\n"
     ]
    },
    {
     "name": "stdout",
     "output_type": "stream",
     "text": [
      "Found 47 bibliographic references in tmp_2508.00209/aa_fp_highz_letter.bbl.\n",
      "Issues with the citations\n",
      "syntax error in line 53: '=' expected\n",
      "Retrieving document from  https://arxiv.org/e-print/2508.00405\n",
      "extracting tarball to tmp_2508.00405... done.\n",
      "Retrieving document from  https://arxiv.org/e-print/2508.00550\n"
     ]
    },
    {
     "name": "stdout",
     "output_type": "stream",
     "text": [
      "extracting tarball to tmp_2508.00550... done.\n",
      "Retrieving document from  https://arxiv.org/e-print/2508.00672\n"
     ]
    },
    {
     "name": "stdout",
     "output_type": "stream",
     "text": [
      "extracting tarball to tmp_2508.00672... done.\n",
      "Retrieving document from  https://arxiv.org/e-print/2508.00818\n"
     ]
    },
    {
     "name": "stdout",
     "output_type": "stream",
     "text": [
      "extracting tarball to tmp_2508.00818..."
     ]
    },
    {
     "name": "stdout",
     "output_type": "stream",
     "text": [
      " done.\n"
     ]
    },
    {
     "name": "stderr",
     "output_type": "stream",
     "text": [
      "/tmp/ipykernel_3373/2822249172.py:52: LatexWarning: 2508.00818 did not run properly\n",
      "bad escape \\o at position 11\n",
      "  warnings.warn(latex.LatexWarning(f\"{paper_id:s} did not run properly\\n\" +\n"
     ]
    }
   ],
   "source": [
    "documents = []\n",
    "failed = []\n",
    "for paper in tqdm(candidates):\n",
    "    # debug crap\n",
    "    paper['identifier'] = paper['identifier'].lower().replace('arxiv:', '').replace(r'\\n', '').strip()\n",
    "    paper_id = paper['identifier']\n",
    "    \n",
    "    folder = f'tmp_{paper_id}'\n",
    "\n",
    "    try:\n",
    "        if not os.path.isdir(folder):\n",
    "            folder = retrieve_document_source(f\"{paper_id}\", f'tmp_{paper_id}')\n",
    "        \n",
    "        try:\n",
    "            doc = latex.LatexDocument(folder, validation=validation)    \n",
    "        except AffiliationError as affilerror:\n",
    "            msg = f\"ArXiv:{paper_id:s} is not an MPIA paper... \" + str(affilerror)\n",
    "            failed.append((paper, \"affiliation error: \" + str(affilerror) ))\n",
    "            continue\n",
    "        \n",
    "        # Hack because sometimes author parsing does not work well\n",
    "        if (len(doc.authors) != len(paper['authors'])):\n",
    "            doc._authors = paper['authors']\n",
    "        else:\n",
    "            # highlight authors (FIXME: doc.highlight_authors)\n",
    "            # done on arxiv paper already\n",
    "            doc._authors = highlight_authors_in_list(\n",
    "                [get_initials(k) for k in doc.authors], \n",
    "                mpia_authors, verbose=True)\n",
    "        if (doc.abstract) in (None, ''):\n",
    "            doc._abstract = paper['abstract']\n",
    "            \n",
    "        doc.comment = (get_markdown_badge(paper_id) + \n",
    "                       \"<mark>Appeared on: \" + paper['date'] + \"</mark> - \")\n",
    "        if paper['comments']:\n",
    "            doc.comment += \" _\" + paper['comments'] + \"_\"\n",
    "        \n",
    "        full_md = doc.generate_markdown_text()\n",
    "        \n",
    "        full_md += get_markdown_qrcode(paper_id)\n",
    "        \n",
    "        # replace citations\n",
    "        try:\n",
    "            bibdata = latex_bib.LatexBib.from_doc(doc)\n",
    "            full_md = latex_bib.replace_citations(full_md, bibdata)\n",
    "        except Exception as e:\n",
    "            print(\"Issues with the citations\")\n",
    "            print(e)\n",
    "        \n",
    "        documents.append((paper_id, full_md))\n",
    "    except Exception as e:\n",
    "        warnings.warn(latex.LatexWarning(f\"{paper_id:s} did not run properly\\n\" +\n",
    "                                         str(e)\n",
    "                                        ))\n",
    "        failed.append((paper, \"latex error \" + str(e)))"
   ]
  },
  {
   "cell_type": "markdown",
   "id": "2505a25c",
   "metadata": {
    "papermill": {
     "duration": 0.003738,
     "end_time": "2025-08-04T04:49:42.375208",
     "exception": false,
     "start_time": "2025-08-04T04:49:42.371470",
     "status": "completed"
    },
    "tags": []
   },
   "source": [
    "### Export the logs\n",
    "\n",
    "Throughout, we also keep track of the logs per paper. see `logs-{today date}.md` "
   ]
  },
  {
   "cell_type": "code",
   "execution_count": 6,
   "id": "d733828a",
   "metadata": {
    "execution": {
     "iopub.execute_input": "2025-08-04T04:49:42.383561Z",
     "iopub.status.busy": "2025-08-04T04:49:42.383345Z",
     "iopub.status.idle": "2025-08-04T04:49:42.400746Z",
     "shell.execute_reply": "2025-08-04T04:49:42.400222Z"
    },
    "papermill": {
     "duration": 0.022765,
     "end_time": "2025-08-04T04:49:42.401697",
     "exception": false,
     "start_time": "2025-08-04T04:49:42.378932",
     "status": "completed"
    },
    "scrolled": false,
    "tags": []
   },
   "outputs": [
    {
     "data": {
      "text/markdown": [
       "## Successful papers"
      ],
      "text/plain": [
       "<IPython.core.display.Markdown object>"
      ]
     },
     "metadata": {},
     "output_type": "display_data"
    },
    {
     "data": {
      "text/markdown": [
       "\n",
       "|||\n",
       "|---:|:---|\n",
       "| [![arXiv](https://img.shields.io/badge/arXiv-2508.00209-b31b1b.svg)](https://arxiv.org/abs/2508.00209) | **Accretion disc reverberation mapping in a high-redshift quasar**  |\n",
       "|| F. P. Nuñez, <mark>E. Bañados</mark>, S. Panda, J. Heidt |\n",
       "|*Appeared on*| *2025-08-04*|\n",
       "|*Comments*| *Accepted for publication in Astronomy & Astrophysics*|\n",
       "|**Abstract**|            Powered by supermassive black holes at their centers, quasars are among the most luminous objects in the Universe, serving as important probes of cosmic history and galaxy evolution. The size of the accretion disc surrounding the black hole is a critical parameter for understanding quasar physics and their potential use as standard candles in cosmology. However, direct measurements of accretion disc sizes have so far been confined to the Local Universe ($z<0.2$), limiting our understanding of quasars during the peak of cosmic activity. Here, we report the first direct measurement of the accretion disc size in the quasar QSO J0455-4216 at $z=2.66$, when the Universe was only $\\sim2$ Gyrs old. Medium-band filters mounted on the MPG/ESO 2.2-metre telescope at La Silla Observatory were used to isolate continuum emission regions during a six-month monitoring campaign. The light curves exhibit pronounced variability features and enabled the detection of inter-band time delays from different parts of the disc. We mapped the disc and located its ultraviolet-emitting outermost region at $3.02^{+0.33}_{-0.57}$ light-days from the black hole ($\\sim 500$ AU). Given a supermassive black hole 900 million times the mass of the Sun, these measurements validate accretion disc theory at an unprecedented redshift and pave the way for efficient black hole mass estimates, reducing decades-long spectroscopic reverberation campaigns to just a few years or less.         |"
      ],
      "text/plain": [
       "[2508.00209] Accretion disc reverberation mapping in a high-redshift quasar\n",
       "\tF. P. Nuñez, <mark>E. Bañados</mark>, S. Panda, J. Heidt"
      ]
     },
     "metadata": {},
     "output_type": "display_data"
    },
    {
     "data": {
      "text/markdown": [
       "## Failed papers"
      ],
      "text/plain": [
       "<IPython.core.display.Markdown object>"
      ]
     },
     "metadata": {},
     "output_type": "display_data"
    },
    {
     "data": {
      "text/markdown": [
       "\n",
       "|||\n",
       "|---:|:---|\n",
       "| [![arXiv](https://img.shields.io/badge/arXiv-2508.00059-b31b1b.svg)](https://arxiv.org/abs/2508.00059) | **The Discovery of 25 um Interstellar Methanol**  |\n",
       "|| S. L. Nickerson, et al. -- incl., <mark>J. Li</mark> |\n",
       "|*Appeared on*| *2025-08-04*|\n",
       "|*Comments*| *Accepted for publication in The Astrophysical Journal Letters (ApJL); 21 pages, 6 Figures*|\n",
       "|**Abstract**|            We present the first astrophysical detection of methanol (CH3OH) in the torsional band near 25 um. Using high resolution mid-infrared (MIR) spectroscopy, we identified over seventy gas-phase CH3OH absorption lines between 20 and 28 um towards the massive protostar NGC 7538 IRS 1 with SOFIA/EXES. We derive a temperature of 180 K and a total column density of 2 x 10^17 cm-2, comparable to sub-mm measurements. Complementary analysis of acetylene (C2H2) absorption lines is also included. Both CH3OH and C2H2 reveal an unresolved second velocity component. These MIR absorption lines likely probe the molecular material in two edge-on disks, supporting the scenario that NGC 7538 IRS 1 consists of multiple protostars. We provide an updated line list for the torsional band of CH3OH, which was generated from lab work and model calculations. This discovery and the updated line list will enable the search for CH3OH in JWST/MIRI spectra.         |\n",
       "|<p style=\"color:green\"> **ERROR** </p>| <p style=\"color:green\">affiliation error: mpia.affiliation_verifications: 'Heidelberg' keyword not found.</p> |"
      ],
      "text/plain": [
       "<IPython.core.display.Markdown object>"
      ]
     },
     "metadata": {},
     "output_type": "display_data"
    },
    {
     "data": {
      "text/markdown": [
       "\n",
       "|||\n",
       "|---:|:---|\n",
       "| [![arXiv](https://img.shields.io/badge/arXiv-2508.00405-b31b1b.svg)](https://arxiv.org/abs/2508.00405) | **Effect of Matter Accretion on Lithium Enhancement of Giants**  |\n",
       "|| X. Li, et al. -- incl., <mark>J. Shi</mark> |\n",
       "|*Appeared on*| *2025-08-04*|\n",
       "|*Comments*| *Accepted by ApJ*|\n",
       "|**Abstract**|            A subset of low-mass giants ($<2.2\\,M_{\\odot}$) exhibit anomalous lithium enhancement behavior, which is still an open topic. Given that more massive giants retain more surface lithium, increasing mass by accreting circumstellar matter could be a channel to enrich lithium. We evaluate this process in the current work. Using MESA, we construct a model of matter accretion, including mass loss, that evolves a star from the main sequence turnoff to the red giant branch tip. The mean accretion rate is estimated from the upper limit of the accreted mass and the evolutionary time of the star during this period, and a grid of accretion rates is constructed. We separately consider their effects on the lithium enhancement of giants, both in terms of the mass and the composition of accretion. Accreting matter with higher lithium abundances has a promoting effect on the lithium enhancement of giants. The accreted matter with excess lithium alleviates the dilution of lithium in the convective envelope during the first dredge-up. The added mass results in lower temperatures at the bottom of the convective envelope, which likewise weakens the depletion of surface lithium. Weak accretion of circumstellar matter is a possible route to lithium enhancement for giants, and it predicts an upper limit on the lithium abundance of $\\rm \\sim 2.5\\,dex$. However, the mass increment it requires poses a potential challenge to real astrophysical environments. Such accretion suppresses lithium dilution and depletion of the star during the first dredge-up, thus exhibiting lithium enhancement behavior.         |\n",
       "|<p style=\"color:green\"> **ERROR** </p>| <p style=\"color:green\">affiliation error: mpia.affiliation_verifications: 'Heidelberg' keyword not found.</p> |"
      ],
      "text/plain": [
       "<IPython.core.display.Markdown object>"
      ]
     },
     "metadata": {},
     "output_type": "display_data"
    },
    {
     "data": {
      "text/markdown": [
       "\n",
       "|||\n",
       "|---:|:---|\n",
       "| [![arXiv](https://img.shields.io/badge/arXiv-2508.00550-b31b1b.svg)](https://arxiv.org/abs/2508.00550) | **A late-time view of the progenitor candidates of the Type II-P SN 2009ib and SN 2012ec**  |\n",
       "|| Y.-H. Zhao, et al. -- incl., <mark>J. Liu</mark> |\n",
       "|*Appeared on*| *2025-08-04*|\n",
       "|*Comments*| *Submitted to ApJL. 9 pages, 6 figures*|\n",
       "|**Abstract**|            The progenitors of Type II-P supernovae (SNe) are generally considered to be red supergiants; however, the so-called \"red supergiant problem\" indicates that a deeper investigation into the progenitors of this class of SNe is necessary. SN 2009ib and SN 2012ec are two Type II-P SNe for which progenitor candidates have been identified in pre-explosion images. In this work, we use new, late-time Hubble Space Telescope observations to search for the disappearance of these two candidates and confirm their nature. In the case of SN 2009ib, the late-time high-resolution imaging reveals that the progenitor candidate is in fact a blend of multiple unresolved stars. Subsequent difference imaging shows no significant change in brightness at the SN's position even years after the explosion. These findings indicate that the flux from the previously identified source is dominated by unresolved field stars, with little to no contribution from the genuine progenitor. In the case of SN 2012ec, a comparison of pre-explosion and late-time images reveals that the progenitor candidate faded by about 0.6 mag in the F814W band seven years after the explosion, confirming the disappearance of the progenitor.         |\n",
       "|<p style=\"color:green\"> **ERROR** </p>| <p style=\"color:green\">affiliation error: mpia.affiliation_verifications: 'Heidelberg' keyword not found.</p> |"
      ],
      "text/plain": [
       "<IPython.core.display.Markdown object>"
      ]
     },
     "metadata": {},
     "output_type": "display_data"
    },
    {
     "data": {
      "text/markdown": [
       "\n",
       "|||\n",
       "|---:|:---|\n",
       "| [![arXiv](https://img.shields.io/badge/arXiv-2508.00672-b31b1b.svg)](https://arxiv.org/abs/2508.00672) | **On type 1 active galactic nuclei with double-peaked [O~{\\sc iii}]. II. properties of long-term optical variability**  |\n",
       "|| Q. Zheng, X. Zhu, <mark>X. Zhang</mark>, Q. Yuan |\n",
       "|*Appeared on*| *2025-08-04*|\n",
       "|*Comments*| *11 pages, 6 figures, accepted to be published in ApJ*|\n",
       "|**Abstract**|            Double-peaked \\oiii~profiles could potentially indicate kiloparsec-scale dual AGNs. We analyze long-term optical light curves of 35 type 1 AGNs with such features from our recent catalog in Zheng et al. (2025). These light curves are obtained from the Catalina Sky Survey and modeled using a Damped Random Walk (DRW) process. A control sample of 210 normal type 1 AGNs matched in redshift, intrinsic luminosity, and black hole mass is also studied. If the double-peaked \\oiii~are caused by two type 1 AGNs (dual type 1 AGN), then the combined variability from the two AGNs would be expected to differ from that of a single type 1 AGN. However, there is no statistically significant difference in the variability timescale $\\tau$ and intrinsic variability amplitude $\\sigma$ between these double-peaked AGNs and the control sample of 210 normal type 1 AGNs. Crucially, computer simulations reveal that dual AGN systems systematically produce lower variability amplitudes than single AGNs, which is inconsistent with the observed variability properties of our double-peaked \\oiii~sample. Moreover, simulations suggest that the fraction of dual type 1 AGNs is $\\sim$ 3\\%, indicating that double-peaked \\oiii~may not be a reliable indicator of dual type 1 AGNs in these systems. However, this does not rule out the possibility that some objects may still host dual AGNs involving other combinations, such as type 1+type 2 AGNs. Future studies with larger samples and higher-quality light curves will help clarify the true nature of these systems.         |\n",
       "|<p style=\"color:green\"> **ERROR** </p>| <p style=\"color:green\">affiliation error: mpia.affiliation_verifications: 'Heidelberg' keyword not found.</p> |"
      ],
      "text/plain": [
       "<IPython.core.display.Markdown object>"
      ]
     },
     "metadata": {},
     "output_type": "display_data"
    },
    {
     "data": {
      "text/markdown": [
       "\n",
       "|||\n",
       "|---:|:---|\n",
       "| [![arXiv](https://img.shields.io/badge/arXiv-2508.00818-b31b1b.svg)](https://arxiv.org/abs/2508.00818) | **A Large Catalog of DA White Dwarf Characteristics Using SDSS and Gaia Observations**  |\n",
       "|| N. R. Crumpler, et al. -- incl., <mark>H.-W. Rix</mark> |\n",
       "|*Appeared on*| *2025-08-04*|\n",
       "|*Comments*| **|\n",
       "|**Abstract**|            We present a catalog of 8545 and 19,257 unique DA white dwarfs observed in SDSS Data Release 19 and previous SDSS data releases, respectively. This is the largest catalog of both spectroscopic and photometric measurements of DA white dwarfs available to date, and we make this catalog and all code used to create it publicly available. We measure the apparent radial velocity, spectroscopic effective temperature and surface gravity, and photometric effective temperature and radius for all objects in our catalog. We validate our measurements against other published white dwarf catalogs. For apparent radial velocities, surface gravities, and effective temperatures measured from spectra with signal-to-noise ratios $>50$, our measurements agree with published SDSS white dwarf catalogs to within 7.5 km/s, 0.060 dex, and $2.4\\%$, respectively. For radii and effective temperatures measured with Gaia photometry, our measurements agree with other published Gaia datasets to within $0.0005$ $R_\\odot$ and $3\\%$, respectively. We use this catalog to investigate systematic discrepancies between white dwarfs observed in SDSS-V and previous generations of SDSS. For objects observed in both SDSS-V and previous generations, we uncover systematic differences between measured spectroscopic parameters depending on which set of survey data is used. On average, the measured apparent radial velocity of a DA white dwarf is $11.5$ km/s larger and the surface gravity is $0.015$ dex smaller when a white dwarf's spectroscopic parameters are measured using SDSS-V data compared to using data from previous generations of SDSS. These differences may be due to changes in the wavelength solution across survey generations.         |\n",
       "|<p style=\"color:red\"> **ERROR** </p>| <p style=\"color:red\">latex error bad escape \\o at position 11</p> |"
      ],
      "text/plain": [
       "<IPython.core.display.Markdown object>"
      ]
     },
     "metadata": {},
     "output_type": "display_data"
    }
   ],
   "source": [
    "import datetime\n",
    "today = str(datetime.date.today())\n",
    "logfile = f\"_build/html/logs/log-{today}.md\"\n",
    "\n",
    "\n",
    "with open(logfile, 'w') as logs:\n",
    "    # Success\n",
    "    logs.write(f'# Arxiv on Deck 2: Logs - {today}\\n\\n')\n",
    "    logs.write(\"\"\"* Arxiv had {0:,d} new papers\\n\"\"\".format(len(new_papers)))\n",
    "    logs.write(\"\"\"    * {0:,d} with possible author matches\\n\\n\"\"\".format(len(candidates)))\n",
    "    logs.write(\"## Sucessful papers\\n\\n\")\n",
    "    display(Markdown(\"## Successful papers\"))\n",
    "    success = [k[0] for k in documents]\n",
    "    for candid in candidates:\n",
    "        if candid['identifier'].split(':')[-1] in success:\n",
    "            display(candid)\n",
    "            logs.write(candid.generate_markdown_text() + '\\n\\n')\n",
    "\n",
    "    ## failed\n",
    "    logs.write(\"## Failed papers\\n\\n\")\n",
    "    display(Markdown(\"## Failed papers\"))\n",
    "    failed = sorted(failed, key=lambda x: x[1])\n",
    "    current_reason = \"\"\n",
    "    for paper, reason in failed:\n",
    "        if 'affiliation' in reason:\n",
    "            color = 'green'\n",
    "        else:\n",
    "            color = 'red'\n",
    "        data = Markdown(\n",
    "                paper.generate_markdown_text() + \n",
    "                f'\\n|<p style=\"color:{color:s}\"> **ERROR** </p>| <p style=\"color:{color:s}\">{reason:s}</p> |'\n",
    "               )\n",
    "        if reason != current_reason:\n",
    "            logs.write(f'### {reason:s} \\n\\n')\n",
    "            current_reason = reason\n",
    "        logs.write(data.data + '\\n\\n')\n",
    "        \n",
    "        # only display here the important errors (all in logs)\n",
    "        # if color in ('red',):\n",
    "        display(data)"
   ]
  },
  {
   "cell_type": "markdown",
   "id": "472d20ee",
   "metadata": {
    "papermill": {
     "duration": 0.004936,
     "end_time": "2025-08-04T04:49:42.411204",
     "exception": false,
     "start_time": "2025-08-04T04:49:42.406268",
     "status": "completed"
    },
    "tags": []
   },
   "source": [
    "## Export documents\n",
    "\n",
    "We now write the .md files and export relevant images"
   ]
  },
  {
   "cell_type": "code",
   "execution_count": 7,
   "id": "d426aed9",
   "metadata": {
    "execution": {
     "iopub.execute_input": "2025-08-04T04:49:42.420940Z",
     "iopub.status.busy": "2025-08-04T04:49:42.420734Z",
     "iopub.status.idle": "2025-08-04T04:49:42.427333Z",
     "shell.execute_reply": "2025-08-04T04:49:42.426807Z"
    },
    "papermill": {
     "duration": 0.012755,
     "end_time": "2025-08-04T04:49:42.428385",
     "exception": false,
     "start_time": "2025-08-04T04:49:42.415630",
     "status": "completed"
    },
    "tags": []
   },
   "outputs": [],
   "source": [
    "def export_markdown_summary(md: str, md_fname:str, directory: str):\n",
    "    \"\"\"Export MD document and associated relevant images\"\"\"\n",
    "    import os\n",
    "    import shutil\n",
    "    import re\n",
    "\n",
    "    if (os.path.exists(directory) and not os.path.isdir(directory)):\n",
    "        raise RuntimeError(f\"a non-directory file exists with name {directory:s}\")\n",
    "\n",
    "    if (not os.path.exists(directory)):\n",
    "        print(f\"creating directory {directory:s}\")\n",
    "        os.mkdir(directory)\n",
    "\n",
    "    fig_fnames = (re.compile(r'\\[Fig.*\\]\\((.*)\\)').findall(md) + \n",
    "                  re.compile(r'\\<img src=\"([^>\\s]*)\"[^>]*/>').findall(md))\n",
    "    print(\"found figures\", fig_fnames)\n",
    "    for fname in fig_fnames:\n",
    "        if 'http' in fname:\n",
    "            # No need to copy online figures\n",
    "            continue\n",
    "        if not os.path.exists(fname):\n",
    "            print(\"file not found\", fname)\n",
    "            continue\n",
    "        print(\"copying \", fname, \"to\", directory)\n",
    "        destdir = os.path.join(directory, os.path.dirname(fname))\n",
    "        destfname = os.path.join(destdir, os.path.basename(fname))\n",
    "        try:\n",
    "            os.makedirs(destdir)\n",
    "        except FileExistsError:\n",
    "            pass\n",
    "        shutil.copy(fname, destfname)\n",
    "    with open(os.path.join(directory, md_fname), 'w') as fout:\n",
    "        fout.write(md)\n",
    "    print(\"exported in \", os.path.join(directory, md_fname))\n",
    "    [print(\"    + \" + os.path.join(directory,fk)) for fk in fig_fnames]"
   ]
  },
  {
   "cell_type": "code",
   "execution_count": 8,
   "id": "014d04a4",
   "metadata": {
    "execution": {
     "iopub.execute_input": "2025-08-04T04:49:42.438088Z",
     "iopub.status.busy": "2025-08-04T04:49:42.437880Z",
     "iopub.status.idle": "2025-08-04T04:49:42.444001Z",
     "shell.execute_reply": "2025-08-04T04:49:42.443455Z"
    },
    "papermill": {
     "duration": 0.012048,
     "end_time": "2025-08-04T04:49:42.444933",
     "exception": false,
     "start_time": "2025-08-04T04:49:42.432885",
     "status": "completed"
    },
    "tags": []
   },
   "outputs": [
    {
     "name": "stdout",
     "output_type": "stream",
     "text": [
      "found figures ['tmp_2508.00209/./figures/lcs_ap.png', 'tmp_2508.00209/./figures/GPCC_delay_wave.png', 'tmp_2508.00209/./figures/AD_TF_models.png']\n",
      "copying  tmp_2508.00209/./figures/lcs_ap.png to _build/html/\n",
      "copying  tmp_2508.00209/./figures/GPCC_delay_wave.png to _build/html/\n",
      "copying  tmp_2508.00209/./figures/AD_TF_models.png to _build/html/\n",
      "exported in  _build/html/2508.00209.md\n",
      "    + _build/html/tmp_2508.00209/./figures/lcs_ap.png\n",
      "    + _build/html/tmp_2508.00209/./figures/GPCC_delay_wave.png\n",
      "    + _build/html/tmp_2508.00209/./figures/AD_TF_models.png\n"
     ]
    }
   ],
   "source": [
    "for paper_id, md in documents:\n",
    "    export_markdown_summary(md, f\"{paper_id:s}.md\", '_build/html/')"
   ]
  },
  {
   "cell_type": "markdown",
   "id": "f087a0a7",
   "metadata": {
    "papermill": {
     "duration": 0.004492,
     "end_time": "2025-08-04T04:49:42.454232",
     "exception": false,
     "start_time": "2025-08-04T04:49:42.449740",
     "status": "completed"
    },
    "tags": []
   },
   "source": [
    "## Display the papers\n",
    "\n",
    "Not necessary but allows for a quick check."
   ]
  },
  {
   "cell_type": "code",
   "execution_count": 9,
   "id": "fd25f625",
   "metadata": {
    "execution": {
     "iopub.execute_input": "2025-08-04T04:49:42.463938Z",
     "iopub.status.busy": "2025-08-04T04:49:42.463741Z",
     "iopub.status.idle": "2025-08-04T04:49:42.467938Z",
     "shell.execute_reply": "2025-08-04T04:49:42.467414Z"
    },
    "papermill": {
     "duration": 0.010177,
     "end_time": "2025-08-04T04:49:42.468927",
     "exception": false,
     "start_time": "2025-08-04T04:49:42.458750",
     "status": "completed"
    },
    "scrolled": false,
    "tags": []
   },
   "outputs": [
    {
     "data": {
      "text/markdown": [
       "<div class=\"macros\" style=\"visibility:hidden;\">\n",
       "$\\newcommand{\\ensuremath}{}$\n",
       "$\\newcommand{\\xspace}{}$\n",
       "$\\newcommand{\\object}[1]{\\texttt{#1}}$\n",
       "$\\newcommand{\\farcs}{{.}''}$\n",
       "$\\newcommand{\\farcm}{{.}'}$\n",
       "$\\newcommand{\\arcsec}{''}$\n",
       "$\\newcommand{\\arcmin}{'}$\n",
       "$\\newcommand{\\ion}[2]{#1#2}$\n",
       "$\\newcommand{\\textsc}[1]{\\textrm{#1}}$\n",
       "$\\newcommand{\\hl}[1]{\\textrm{#1}}$\n",
       "$\\newcommand{\\footnote}[1]{}$\n",
       "$\\newcommand{\\bd}[1]{\\mbox{\\boldmath #1}}$\n",
       "$\\newcommand{\\arraystretch}{1.4}$\n",
       "$\\newcommand{\\civ}{{C\\sc{iv}}\\/}$\n",
       "$\\newcommand{\\ciii}{{C\\sc{iii}]}\\/}$</div>\n",
       "\n",
       "\n",
       "\n",
       "<div id=\"title\">\n",
       "\n",
       "# Accretion disc reverberation mapping in a high-redshift quasar\n",
       "\n",
       "</div>\n",
       "<div id=\"comments\">\n",
       "\n",
       "[![arXiv](https://img.shields.io/badge/arXiv-2508.00209-b31b1b.svg)](https://arxiv.org/abs/2508.00209)<mark>Appeared on: 2025-08-04</mark> -  _Accepted for publication in Astronomy & Astrophysics_\n",
       "\n",
       "</div>\n",
       "<div id=\"authors\">\n",
       "\n",
       "F. P. Nuñez, <mark>E. Bañados</mark>, S. Panda, J. Heidt\n",
       "\n",
       "</div>\n",
       "<div id=\"abstract\">\n",
       "\n",
       "**Abstract:** Powered by supermassive black holes at their centers, quasars are among the most luminous objects in the Universe, serving as important probes of cosmic history and galaxy evolution. The size of the accretion disc surrounding the black hole is a critical parameter for understanding quasar physics and their potential use as standard candles in cosmology. However, direct measurements of accretion disc sizes have so far been confined to the Local Universe ( $z<0.2$ ), limiting our understanding of quasars during the peak of cosmic activity. Here, we report the first direct measurement of the accretion disc size in the quasar QSO J0455-4216 at $z=2.66$ , when the Universe was only $\\sim2$ Gyrs old. Medium-band filters mounted on the MPG/ESO 2.2-metre telescope at La Silla Observatory were used to isolate continuum emission regions during a six-month monitoring campaign. The light curves exhibit pronounced variability features and enabled the detection of inter-band time delays from different parts of the disc. We mapped the disc and located its ultraviolet-emitting outermost region at $\\( 3.02^{+0.33}_{-0.57} \\)$ light-days from the black hole ( $\\( \\sim 500 \\)$ AU). Given a supermassive black hole 900 million times the mass of the Sun, these measurements validate accretion disc theory at an unprecedented redshift and pave the way for efficient black hole mass estimates, reducing decades-long spectroscopic reverberation campaigns to just a few years or less.\n",
       "\n",
       "</div>\n",
       "\n",
       "<div id=\"div_fig1\">\n",
       "\n",
       "<img src=\"tmp_2508.00209/./figures/lcs_ap.png\" alt=\"Fig1\" width=\"100%\"/>\n",
       "\n",
       "**Figure 1. -** Multi-band light curves of QSO J0455-4216. Variability of around 7\\% is observed across all wavelengths for the entire campaign (6 months), while a smaller variability of about 5\\% is present within individual months of observations. Micro-variability on the order of 2\\%-3\\% is evident on timescales of days, with delayed features between bands of a few days. For comparison, the light curve of a representative reference star in the field used in constructing the AGN light curves is shown at the bottom. Dotted lines indicate a 1\\% variability and all light curves are vertically shifted for clarity. (*fig:Figure1*)\n",
       "\n",
       "</div>\n",
       "<div id=\"div_fig2\">\n",
       "\n",
       "<img src=\"tmp_2508.00209/./figures/GPCC_delay_wave.png\" alt=\"Fig2\" width=\"100%\"/>\n",
       "\n",
       "**Figure 2. -** Observed time delay spectrum. The shaded regions represent the time delay ($\\tau$) probability distributions obtained using the GPCC method (\\citealt{2023A&A...674A..83P}), with black dots indicating the most likely delay corresponding to the peak of each distribution. The solid line denotes the expected delay from an optically thick, geometrically thin accretion disc irradiated by a lamp post geometry. A summary of the physical parameters used in the model, including the black hole mass ($M_{\\rm BH}$), luminosity ($\\lambda L_{\\lambda_{1350}}$), and redshift ($z$), is provided. (*fig:Figure2*)\n",
       "\n",
       "</div>\n",
       "<div id=\"div_fig3\">\n",
       "\n",
       "<img src=\"tmp_2508.00209/./figures/AD_TF_models.png\" alt=\"Fig3\" width=\"100%\"/>\n",
       "\n",
       "**Figure 3. -** _Left_: Normalized accretion disc transfer functions \\(\\Psi(\\tau|\\lambda)\\) for the four photometric bands: \\( 4858   \\text{Å} \\)(blue), \\( 5315   \\text{Å} \\)(green), \\( 6043   \\text{Å} \\)(orange), and \\( 7705   \\text{Å} \\)(red). As predicted by standard thin-disc (SS73) and lamp-post models, the transfer functions broaden with increasing wavelength. Longer-wavelength emission arises from larger radii, resulting in longer time delays due to the greater light travel distance. _Right_: Observed normalized continuum light curves (points with error bars) compared with model predictions. Dashed lines show the results from a single-band modelling approach, in which a latent signal is inferred independently for each filter. Solid black lines show the model light curves computed from the joint GPCC-inferred latent signal, convolved with the corresponding transfer functions. The shaded regions represent the \\( 1\\sigma \\) uncertainties propagated through the model scaling process; see Appendix \\ref{ad:simul} for details. (*fig:Figure3*)\n",
       "\n",
       "</div><div id=\"qrcode\"><img src=https://api.qrserver.com/v1/create-qr-code/?size=100x100&data=\"https://arxiv.org/abs/2508.00209\"></div>"
      ],
      "text/plain": [
       "<IPython.core.display.Markdown object>"
      ]
     },
     "metadata": {},
     "output_type": "display_data"
    }
   ],
   "source": [
    "[display(Markdown(k[1])) for k in documents];"
   ]
  },
  {
   "cell_type": "markdown",
   "id": "873873a4",
   "metadata": {
    "papermill": {
     "duration": 0.004781,
     "end_time": "2025-08-04T04:49:42.478785",
     "exception": false,
     "start_time": "2025-08-04T04:49:42.474004",
     "status": "completed"
    },
    "tags": []
   },
   "source": [
    "# Create HTML index"
   ]
  },
  {
   "cell_type": "code",
   "execution_count": 10,
   "id": "cf665672",
   "metadata": {
    "execution": {
     "iopub.execute_input": "2025-08-04T04:49:42.488899Z",
     "iopub.status.busy": "2025-08-04T04:49:42.488710Z",
     "iopub.status.idle": "2025-08-04T04:49:42.495670Z",
     "shell.execute_reply": "2025-08-04T04:49:42.495115Z"
    },
    "papermill": {
     "duration": 0.013209,
     "end_time": "2025-08-04T04:49:42.496679",
     "exception": false,
     "start_time": "2025-08-04T04:49:42.483470",
     "status": "completed"
    },
    "tags": []
   },
   "outputs": [
    {
     "name": "stdout",
     "output_type": "stream",
     "text": [
      "133  publications files modified in the last 7 days.\n"
     ]
    }
   ],
   "source": [
    "from datetime import datetime, timedelta, timezone\n",
    "from glob import glob\n",
    "import os\n",
    "\n",
    "files = glob('_build/html/*.md')\n",
    "days = 7\n",
    "now = datetime.today()\n",
    "res = []\n",
    "for fk in files:\n",
    "    stat_result = os.stat(fk).st_ctime\n",
    "    modified = datetime.fromtimestamp(stat_result, tz=timezone.utc).replace(tzinfo=None)\n",
    "    delta = now.today() - modified\n",
    "    if delta <= timedelta(days=days):\n",
    "        res.append((delta.seconds, fk))\n",
    "res = [k[1] for k in reversed(sorted(res, key=lambda x:x[1]))]\n",
    "npub = len(res)\n",
    "print(len(res), f\" publications files modified in the last {days:d} days.\")\n",
    "# [ print('\\t', k) for k in res ];"
   ]
  },
  {
   "cell_type": "code",
   "execution_count": 11,
   "id": "015de740",
   "metadata": {
    "execution": {
     "iopub.execute_input": "2025-08-04T04:49:42.507121Z",
     "iopub.status.busy": "2025-08-04T04:49:42.506905Z",
     "iopub.status.idle": "2025-08-04T04:49:42.518943Z",
     "shell.execute_reply": "2025-08-04T04:49:42.518387Z"
    },
    "papermill": {
     "duration": 0.018339,
     "end_time": "2025-08-04T04:49:42.519941",
     "exception": false,
     "start_time": "2025-08-04T04:49:42.501602",
     "status": "completed"
    },
    "tags": []
   },
   "outputs": [
    {
     "name": "stdout",
     "output_type": "stream",
     "text": [
      "8  publications in the last 7 days.\n"
     ]
    }
   ],
   "source": [
    "import datetime\n",
    "from glob import glob\n",
    "\n",
    "def get_last_n_days(lst, days=1):\n",
    "    \"\"\" Get the documents from the last n days \"\"\"\n",
    "    sorted_lst = sorted(lst, key=lambda x: x[1], reverse=True)\n",
    "    for fname, date in sorted_lst:\n",
    "        if date >= str(datetime.date.today() - datetime.timedelta(days=days)):\n",
    "            yield fname\n",
    "\n",
    "def extract_appearance_dates(lst_file):\n",
    "    dates = []\n",
    "\n",
    "    def get_date(line):\n",
    "        return line\\\n",
    "            .split('Appeared on:')[-1]\\\n",
    "            .split('</mark>')[0].strip()\n",
    "\n",
    "    for fname in lst:\n",
    "        with open(fname, 'r') as f:\n",
    "            found_date = False\n",
    "            for line in f:\n",
    "                if not found_date:\n",
    "                    if \"Appeared on\" in line:\n",
    "                        found_date = True\n",
    "                        dates.append((fname, get_date(line)))\n",
    "                else:\n",
    "                    break\n",
    "    return dates\n",
    "\n",
    "from glob import glob\n",
    "lst = glob('_build/html/*md')\n",
    "days = 7\n",
    "dates = extract_appearance_dates(lst)\n",
    "res = list(get_last_n_days(dates, days))\n",
    "npub = len(res)\n",
    "print(len(res), f\" publications in the last {days:d} days.\")"
   ]
  },
  {
   "cell_type": "code",
   "execution_count": 12,
   "id": "52ca0208",
   "metadata": {
    "execution": {
     "iopub.execute_input": "2025-08-04T04:49:42.530462Z",
     "iopub.status.busy": "2025-08-04T04:49:42.530276Z",
     "iopub.status.idle": "2025-08-04T04:49:42.535067Z",
     "shell.execute_reply": "2025-08-04T04:49:42.534376Z"
    },
    "papermill": {
     "duration": 0.0112,
     "end_time": "2025-08-04T04:49:42.536086",
     "exception": false,
     "start_time": "2025-08-04T04:49:42.524886",
     "status": "completed"
    },
    "scrolled": false,
    "tags": []
   },
   "outputs": [],
   "source": [
    "def create_carousel(npub=4):\n",
    "    \"\"\" Generate the HTML code for a carousel with `npub` slides \"\"\"\n",
    "    carousel = [\"\"\"  <div class=\"carousel\" \"\"\",\n",
    "                \"\"\"       data-flickity='{ \"autoPlay\": 10000, \"adaptiveHeight\": true, \"resize\": true, \"wrapAround\": true, \"pauseAutoPlayOnHover\": true, \"groupCells\": 1 }' id=\"asyncTypeset\">\"\"\"\n",
    "                ]\n",
    "    \n",
    "    item_str = \"\"\"    <div class=\"carousel-cell\"> <div id=\"slide{k}\" class=\"md_view\">Content {k}</div> </div>\"\"\"\n",
    "    for k in range(1, npub + 1):\n",
    "        carousel.append(item_str.format(k=k))\n",
    "    carousel.append(\"  </div>\")\n",
    "    return '\\n'.join(carousel)\n",
    "\n",
    "def create_grid(npub=4):\n",
    "    \"\"\" Generate the HTML code for a flat grid with `npub` slides \"\"\"\n",
    "    grid = [\"\"\"  <div class=\"grid\"> \"\"\",\n",
    "                ]\n",
    "    \n",
    "    item_str = \"\"\"    <div class=\"grid-item\"> <div id=\"slide{k}\" class=\"md_view\">Content {k}</div> </div>\"\"\"\n",
    "    for k in range(1, npub + 1):\n",
    "        grid.append(item_str.format(k=k))\n",
    "    grid.append(\"  </div>\")\n",
    "    return '\\n'.join(grid)"
   ]
  },
  {
   "cell_type": "code",
   "execution_count": 13,
   "id": "a6eac5b6",
   "metadata": {
    "execution": {
     "iopub.execute_input": "2025-08-04T04:49:42.546743Z",
     "iopub.status.busy": "2025-08-04T04:49:42.546556Z",
     "iopub.status.idle": "2025-08-04T04:49:42.551512Z",
     "shell.execute_reply": "2025-08-04T04:49:42.550984Z"
    },
    "papermill": {
     "duration": 0.011365,
     "end_time": "2025-08-04T04:49:42.552521",
     "exception": false,
     "start_time": "2025-08-04T04:49:42.541156",
     "status": "completed"
    },
    "scrolled": false,
    "tags": []
   },
   "outputs": [],
   "source": [
    "carousel = create_carousel(npub)\n",
    "docs = ', '.join(['\"{0:s}\"'.format(k.split('/')[-1]) for k in res])\n",
    "slides = ', '.join([f'\"slide{k}\"' for k in range(1, npub + 1)])\n",
    "\n",
    "with open(\"daily_template.html\", \"r\") as tpl:\n",
    "    page = tpl.read()\n",
    "    page = page.replace(\"{%-- carousel:s --%}\", carousel)\\\n",
    "               .replace(\"{%-- suptitle:s --%}\",  \"7-day archives\" )\\\n",
    "               .replace(\"{%-- docs:s --%}\", docs)\\\n",
    "               .replace(\"{%-- slides:s --%}\", slides)\n",
    "    \n",
    "with open(\"_build/html/index_7days.html\", 'w') as fout:\n",
    "    fout.write(page)"
   ]
  },
  {
   "cell_type": "code",
   "execution_count": 14,
   "id": "adc1a1ec",
   "metadata": {
    "execution": {
     "iopub.execute_input": "2025-08-04T04:49:42.563189Z",
     "iopub.status.busy": "2025-08-04T04:49:42.563003Z",
     "iopub.status.idle": "2025-08-04T04:49:42.568889Z",
     "shell.execute_reply": "2025-08-04T04:49:42.568344Z"
    },
    "papermill": {
     "duration": 0.01237,
     "end_time": "2025-08-04T04:49:42.569887",
     "exception": false,
     "start_time": "2025-08-04T04:49:42.557517",
     "status": "completed"
    },
    "tags": []
   },
   "outputs": [
    {
     "name": "stdout",
     "output_type": "stream",
     "text": [
      "1  publications in the last day.\n"
     ]
    }
   ],
   "source": [
    "# redo for today\n",
    "days = 1\n",
    "res = list(get_last_n_days(dates, days))\n",
    "npub = len(res)\n",
    "print(len(res), f\" publications in the last day.\")\n",
    "\n",
    "carousel = create_carousel(npub)\n",
    "docs = ', '.join(['\"{0:s}\"'.format(k.split('/')[-1]) for k in res])\n",
    "slides = ', '.join([f'\"slide{k}\"' for k in range(1, npub + 1)])\n",
    "\n",
    "with open(\"daily_template.html\", \"r\") as tpl:\n",
    "    page = tpl.read()\n",
    "    page = page.replace(\"{%-- carousel:s --%}\", carousel)\\\n",
    "               .replace(\"{%-- suptitle:s --%}\",  \"Daily\" )\\\n",
    "               .replace(\"{%-- docs:s --%}\", docs)\\\n",
    "               .replace(\"{%-- slides:s --%}\", slides)\n",
    "    \n",
    "# print(carousel, docs, slides)\n",
    "# print(page)\n",
    "with open(\"_build/html/index_daily.html\", 'w') as fout:\n",
    "    fout.write(page)"
   ]
  },
  {
   "cell_type": "code",
   "execution_count": 15,
   "id": "00eece82",
   "metadata": {
    "execution": {
     "iopub.execute_input": "2025-08-04T04:49:42.581195Z",
     "iopub.status.busy": "2025-08-04T04:49:42.580995Z",
     "iopub.status.idle": "2025-08-04T04:49:42.587447Z",
     "shell.execute_reply": "2025-08-04T04:49:42.586770Z"
    },
    "papermill": {
     "duration": 0.013248,
     "end_time": "2025-08-04T04:49:42.588423",
     "exception": false,
     "start_time": "2025-08-04T04:49:42.575175",
     "status": "completed"
    },
    "scrolled": false,
    "tags": []
   },
   "outputs": [
    {
     "name": "stdout",
     "output_type": "stream",
     "text": [
      "6  6 publications selected.\n"
     ]
    }
   ],
   "source": [
    "# Create the flat grid of the last N papers (fixed number regardless of dates)\n",
    "from itertools import islice \n",
    "\n",
    "npub = 6\n",
    "res = [k[0] for k in (islice(reversed(sorted(dates, key=lambda x: x[1])), 6))]\n",
    "print(len(res), f\" {npub} publications selected.\")\n",
    "\n",
    "grid = create_grid(npub)\n",
    "docs = ', '.join(['\"{0:s}\"'.format(k.split('/')[-1]) for k in res])\n",
    "slides = ', '.join([f'\"slide{k}\"' for k in range(1, npub + 1)])\n",
    "\n",
    "with open(\"grid_template.html\", \"r\") as tpl:\n",
    "    page = tpl.read()\n",
    "    page = page.replace(\"{%-- grid-content:s --%}\", grid)\\\n",
    "               .replace(\"{%-- suptitle:s --%}\",  f\"Last {npub:,d} papers\" )\\\n",
    "               .replace(\"{%-- docs:s --%}\", docs)\\\n",
    "               .replace(\"{%-- slides:s --%}\", slides)\n",
    "    \n",
    "# print(grid, docs, slides)\n",
    "# print(page)\n",
    "with open(\"_build/html/index_npub_grid.html\", 'w') as fout:\n",
    "    fout.write(page)"
   ]
  }
 ],
 "metadata": {
  "kernelspec": {
   "display_name": "Python 3 (ipykernel)",
   "language": "python",
   "name": "python3"
  },
  "language_info": {
   "codemirror_mode": {
    "name": "ipython",
    "version": 3
   },
   "file_extension": ".py",
   "mimetype": "text/x-python",
   "name": "python",
   "nbconvert_exporter": "python",
   "pygments_lexer": "ipython3",
   "version": "3.9.23"
  },
  "papermill": {
   "default_parameters": {},
   "duration": 29.123535,
   "end_time": "2025-08-04T04:49:42.809815",
   "environment_variables": {},
   "exception": null,
   "input_path": "MPIA daily digest.ipynb",
   "output_path": "log.ipynb",
   "parameters": {},
   "start_time": "2025-08-04T04:49:13.686280",
   "version": "2.6.0"
  },
  "vscode": {
   "interpreter": {
    "hash": "aee8b7b246df8f9039afb4144a1f6fd8d2ca17a180786b69acc140d282b71a49"
   }
  },
  "widgets": {
   "application/vnd.jupyter.widget-state+json": {
    "state": {
     "163ffc70b15e43078398cd92d3db24fa": {
      "model_module": "@jupyter-widgets/base",
      "model_module_version": "2.0.0",
      "model_name": "LayoutModel",
      "state": {
       "_model_module": "@jupyter-widgets/base",
       "_model_module_version": "2.0.0",
       "_model_name": "LayoutModel",
       "_view_count": null,
       "_view_module": "@jupyter-widgets/base",
       "_view_module_version": "2.0.0",
       "_view_name": "LayoutView",
       "align_content": null,
       "align_items": null,
       "align_self": null,
       "border_bottom": null,
       "border_left": null,
       "border_right": null,
       "border_top": null,
       "bottom": null,
       "display": null,
       "flex": null,
       "flex_flow": null,
       "grid_area": null,
       "grid_auto_columns": null,
       "grid_auto_flow": null,
       "grid_auto_rows": null,
       "grid_column": null,
       "grid_gap": null,
       "grid_row": null,
       "grid_template_areas": null,
       "grid_template_columns": null,
       "grid_template_rows": null,
       "height": null,
       "justify_content": null,
       "justify_items": null,
       "left": null,
       "margin": null,
       "max_height": null,
       "max_width": null,
       "min_height": null,
       "min_width": null,
       "object_fit": null,
       "object_position": null,
       "order": null,
       "overflow": null,
       "padding": null,
       "right": null,
       "top": null,
       "visibility": null,
       "width": null
      }
     },
     "6ebb5346cc084a3d8130d5ffff5deaec": {
      "model_module": "@jupyter-widgets/controls",
      "model_module_version": "2.0.0",
      "model_name": "HTMLModel",
      "state": {
       "_dom_classes": [],
       "_model_module": "@jupyter-widgets/controls",
       "_model_module_version": "2.0.0",
       "_model_name": "HTMLModel",
       "_view_count": null,
       "_view_module": "@jupyter-widgets/controls",
       "_view_module_version": "2.0.0",
       "_view_name": "HTMLView",
       "description": "",
       "description_allow_html": false,
       "layout": "IPY_MODEL_7ceb7b496a5a4d028a58aa8c29e221da",
       "placeholder": "​",
       "style": "IPY_MODEL_e708e1c786df498b96bfb3d8b75d45d7",
       "tabbable": null,
       "tooltip": null,
       "value": "100%"
      }
     },
     "77465dd8db534d2d89fda3592d1edbf5": {
      "model_module": "@jupyter-widgets/controls",
      "model_module_version": "2.0.0",
      "model_name": "FloatProgressModel",
      "state": {
       "_dom_classes": [],
       "_model_module": "@jupyter-widgets/controls",
       "_model_module_version": "2.0.0",
       "_model_name": "FloatProgressModel",
       "_view_count": null,
       "_view_module": "@jupyter-widgets/controls",
       "_view_module_version": "2.0.0",
       "_view_name": "ProgressView",
       "bar_style": "success",
       "description": "",
       "description_allow_html": false,
       "layout": "IPY_MODEL_163ffc70b15e43078398cd92d3db24fa",
       "max": 6.0,
       "min": 0.0,
       "orientation": "horizontal",
       "style": "IPY_MODEL_a3ff7254225b4af0acdb8030eda01999",
       "tabbable": null,
       "tooltip": null,
       "value": 6.0
      }
     },
     "7ceb7b496a5a4d028a58aa8c29e221da": {
      "model_module": "@jupyter-widgets/base",
      "model_module_version": "2.0.0",
      "model_name": "LayoutModel",
      "state": {
       "_model_module": "@jupyter-widgets/base",
       "_model_module_version": "2.0.0",
       "_model_name": "LayoutModel",
       "_view_count": null,
       "_view_module": "@jupyter-widgets/base",
       "_view_module_version": "2.0.0",
       "_view_name": "LayoutView",
       "align_content": null,
       "align_items": null,
       "align_self": null,
       "border_bottom": null,
       "border_left": null,
       "border_right": null,
       "border_top": null,
       "bottom": null,
       "display": null,
       "flex": null,
       "flex_flow": null,
       "grid_area": null,
       "grid_auto_columns": null,
       "grid_auto_flow": null,
       "grid_auto_rows": null,
       "grid_column": null,
       "grid_gap": null,
       "grid_row": null,
       "grid_template_areas": null,
       "grid_template_columns": null,
       "grid_template_rows": null,
       "height": null,
       "justify_content": null,
       "justify_items": null,
       "left": null,
       "margin": null,
       "max_height": null,
       "max_width": null,
       "min_height": null,
       "min_width": null,
       "object_fit": null,
       "object_position": null,
       "order": null,
       "overflow": null,
       "padding": null,
       "right": null,
       "top": null,
       "visibility": null,
       "width": null
      }
     },
     "a3ff7254225b4af0acdb8030eda01999": {
      "model_module": "@jupyter-widgets/controls",
      "model_module_version": "2.0.0",
      "model_name": "ProgressStyleModel",
      "state": {
       "_model_module": "@jupyter-widgets/controls",
       "_model_module_version": "2.0.0",
       "_model_name": "ProgressStyleModel",
       "_view_count": null,
       "_view_module": "@jupyter-widgets/base",
       "_view_module_version": "2.0.0",
       "_view_name": "StyleView",
       "bar_color": null,
       "description_width": ""
      }
     },
     "a470748e9f144d08bdd51cd2eadc40e6": {
      "model_module": "@jupyter-widgets/controls",
      "model_module_version": "2.0.0",
      "model_name": "HTMLModel",
      "state": {
       "_dom_classes": [],
       "_model_module": "@jupyter-widgets/controls",
       "_model_module_version": "2.0.0",
       "_model_name": "HTMLModel",
       "_view_count": null,
       "_view_module": "@jupyter-widgets/controls",
       "_view_module_version": "2.0.0",
       "_view_name": "HTMLView",
       "description": "",
       "description_allow_html": false,
       "layout": "IPY_MODEL_bcdfb1b4883c408ebafe28233100e567",
       "placeholder": "​",
       "style": "IPY_MODEL_cdf83d7b38f6415c86dcc36cf8c93319",
       "tabbable": null,
       "tooltip": null,
       "value": " 6/6 [00:08&lt;00:00,  1.88s/it]"
      }
     },
     "a8129565e27d4ff9a6ca8f6fe21a9c93": {
      "model_module": "@jupyter-widgets/base",
      "model_module_version": "2.0.0",
      "model_name": "LayoutModel",
      "state": {
       "_model_module": "@jupyter-widgets/base",
       "_model_module_version": "2.0.0",
       "_model_name": "LayoutModel",
       "_view_count": null,
       "_view_module": "@jupyter-widgets/base",
       "_view_module_version": "2.0.0",
       "_view_name": "LayoutView",
       "align_content": null,
       "align_items": null,
       "align_self": null,
       "border_bottom": null,
       "border_left": null,
       "border_right": null,
       "border_top": null,
       "bottom": null,
       "display": null,
       "flex": null,
       "flex_flow": null,
       "grid_area": null,
       "grid_auto_columns": null,
       "grid_auto_flow": null,
       "grid_auto_rows": null,
       "grid_column": null,
       "grid_gap": null,
       "grid_row": null,
       "grid_template_areas": null,
       "grid_template_columns": null,
       "grid_template_rows": null,
       "height": null,
       "justify_content": null,
       "justify_items": null,
       "left": null,
       "margin": null,
       "max_height": null,
       "max_width": null,
       "min_height": null,
       "min_width": null,
       "object_fit": null,
       "object_position": null,
       "order": null,
       "overflow": null,
       "padding": null,
       "right": null,
       "top": null,
       "visibility": null,
       "width": null
      }
     },
     "bcdfb1b4883c408ebafe28233100e567": {
      "model_module": "@jupyter-widgets/base",
      "model_module_version": "2.0.0",
      "model_name": "LayoutModel",
      "state": {
       "_model_module": "@jupyter-widgets/base",
       "_model_module_version": "2.0.0",
       "_model_name": "LayoutModel",
       "_view_count": null,
       "_view_module": "@jupyter-widgets/base",
       "_view_module_version": "2.0.0",
       "_view_name": "LayoutView",
       "align_content": null,
       "align_items": null,
       "align_self": null,
       "border_bottom": null,
       "border_left": null,
       "border_right": null,
       "border_top": null,
       "bottom": null,
       "display": null,
       "flex": null,
       "flex_flow": null,
       "grid_area": null,
       "grid_auto_columns": null,
       "grid_auto_flow": null,
       "grid_auto_rows": null,
       "grid_column": null,
       "grid_gap": null,
       "grid_row": null,
       "grid_template_areas": null,
       "grid_template_columns": null,
       "grid_template_rows": null,
       "height": null,
       "justify_content": null,
       "justify_items": null,
       "left": null,
       "margin": null,
       "max_height": null,
       "max_width": null,
       "min_height": null,
       "min_width": null,
       "object_fit": null,
       "object_position": null,
       "order": null,
       "overflow": null,
       "padding": null,
       "right": null,
       "top": null,
       "visibility": null,
       "width": null
      }
     },
     "c8159753070840d7a1684be5eee81528": {
      "model_module": "@jupyter-widgets/controls",
      "model_module_version": "2.0.0",
      "model_name": "HBoxModel",
      "state": {
       "_dom_classes": [],
       "_model_module": "@jupyter-widgets/controls",
       "_model_module_version": "2.0.0",
       "_model_name": "HBoxModel",
       "_view_count": null,
       "_view_module": "@jupyter-widgets/controls",
       "_view_module_version": "2.0.0",
       "_view_name": "HBoxView",
       "box_style": "",
       "children": [
        "IPY_MODEL_6ebb5346cc084a3d8130d5ffff5deaec",
        "IPY_MODEL_77465dd8db534d2d89fda3592d1edbf5",
        "IPY_MODEL_a470748e9f144d08bdd51cd2eadc40e6"
       ],
       "layout": "IPY_MODEL_a8129565e27d4ff9a6ca8f6fe21a9c93",
       "tabbable": null,
       "tooltip": null
      }
     },
     "cdf83d7b38f6415c86dcc36cf8c93319": {
      "model_module": "@jupyter-widgets/controls",
      "model_module_version": "2.0.0",
      "model_name": "HTMLStyleModel",
      "state": {
       "_model_module": "@jupyter-widgets/controls",
       "_model_module_version": "2.0.0",
       "_model_name": "HTMLStyleModel",
       "_view_count": null,
       "_view_module": "@jupyter-widgets/base",
       "_view_module_version": "2.0.0",
       "_view_name": "StyleView",
       "background": null,
       "description_width": "",
       "font_size": null,
       "text_color": null
      }
     },
     "e708e1c786df498b96bfb3d8b75d45d7": {
      "model_module": "@jupyter-widgets/controls",
      "model_module_version": "2.0.0",
      "model_name": "HTMLStyleModel",
      "state": {
       "_model_module": "@jupyter-widgets/controls",
       "_model_module_version": "2.0.0",
       "_model_name": "HTMLStyleModel",
       "_view_count": null,
       "_view_module": "@jupyter-widgets/base",
       "_view_module_version": "2.0.0",
       "_view_name": "StyleView",
       "background": null,
       "description_width": "",
       "font_size": null,
       "text_color": null
      }
     }
    },
    "version_major": 2,
    "version_minor": 0
   }
  }
 },
 "nbformat": 4,
 "nbformat_minor": 5
}