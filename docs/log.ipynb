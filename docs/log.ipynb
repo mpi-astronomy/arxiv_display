{
 "cells": [
  {
   "cell_type": "markdown",
   "id": "92bcb855",
   "metadata": {
    "papermill": {
     "duration": 0.003684,
     "end_time": "2025-02-25T04:10:59.936524",
     "exception": false,
     "start_time": "2025-02-25T04:10:59.932840",
     "status": "completed"
    },
    "tags": []
   },
   "source": [
    "# MPIA Arxiv on Deck 2\n",
    "\n",
    "Contains the steps to produce the paper extractions."
   ]
  },
  {
   "cell_type": "code",
   "execution_count": 1,
   "id": "3a0d6e11",
   "metadata": {
    "execution": {
     "iopub.execute_input": "2025-02-25T04:10:59.943827Z",
     "iopub.status.busy": "2025-02-25T04:10:59.943405Z",
     "iopub.status.idle": "2025-02-25T04:11:00.281294Z",
     "shell.execute_reply": "2025-02-25T04:11:00.280567Z"
    },
    "papermill": {
     "duration": 0.342798,
     "end_time": "2025-02-25T04:11:00.282618",
     "exception": false,
     "start_time": "2025-02-25T04:10:59.939820",
     "status": "completed"
    },
    "tags": []
   },
   "outputs": [],
   "source": [
    "# Imports\n",
    "import os\n",
    "from IPython.display import Markdown, display\n",
    "from tqdm.notebook import tqdm\n",
    "import warnings\n",
    "from PIL import Image \n",
    "import re\n",
    "\n",
    "# requires arxiv_on_deck_2\n",
    "\n",
    "from arxiv_on_deck_2.arxiv2 import (get_new_papers, \n",
    "                                    get_paper_from_identifier,\n",
    "                                    retrieve_document_source, \n",
    "                                    get_markdown_badge)\n",
    "from arxiv_on_deck_2 import (latex,\n",
    "                             latex_bib,\n",
    "                             mpia,\n",
    "                             highlight_authors_in_list)\n",
    "\n",
    "# Sometimes images are really big\n",
    "Image.MAX_IMAGE_PIXELS = 1000000000 "
   ]
  },
  {
   "cell_type": "code",
   "execution_count": 2,
   "id": "22aa9d44",
   "metadata": {
    "execution": {
     "iopub.execute_input": "2025-02-25T04:11:00.290106Z",
     "iopub.status.busy": "2025-02-25T04:11:00.289576Z",
     "iopub.status.idle": "2025-02-25T04:11:00.297580Z",
     "shell.execute_reply": "2025-02-25T04:11:00.297046Z"
    },
    "papermill": {
     "duration": 0.012724,
     "end_time": "2025-02-25T04:11:00.298595",
     "exception": false,
     "start_time": "2025-02-25T04:11:00.285871",
     "status": "completed"
    },
    "tags": []
   },
   "outputs": [],
   "source": [
    "# Some useful definitions.\n",
    "\n",
    "class AffiliationWarning(UserWarning):\n",
    "    pass\n",
    "\n",
    "class AffiliationError(RuntimeError):\n",
    "    pass\n",
    "\n",
    "def validation(source: str):\n",
    "    \"\"\"Raises error paper during parsing of source file\n",
    "    \n",
    "    Allows checks before parsing TeX code.\n",
    "    \n",
    "    Raises AffiliationWarning\n",
    "    \"\"\"\n",
    "    check = mpia.affiliation_verifications(source, verbose=True)\n",
    "    if check is not True:\n",
    "        raise AffiliationError(\"mpia.affiliation_verifications: \" + check)\n",
    "\n",
    "        \n",
    "warnings.simplefilter('always', AffiliationWarning)\n",
    "\n",
    "\n",
    "def get_markdown_qrcode(paper_id: str):\n",
    "    \"\"\" Generate a qrcode to the arxiv page using qrserver.com\n",
    "    \n",
    "    :param paper: Arxiv paper\n",
    "    :returns: markdown text\n",
    "    \"\"\"\n",
    "    url = r\"https://api.qrserver.com/v1/create-qr-code/?size=100x100&data=\"\n",
    "    txt = f\"\"\"<img src={url}\"https://arxiv.org/abs/{paper_id}\">\"\"\"\n",
    "    txt = '<div id=\"qrcode\">' + txt + '</div>'\n",
    "    return txt\n",
    "\n",
    "\n",
    "def clean_non_western_encoded_characters_commands(text: str) -> str:\n",
    "    \"\"\" Remove non-western encoded characters from a string\n",
    "    List may need to grow.\n",
    "    \n",
    "    :param text: the text to clean\n",
    "    :return: the cleaned text\n",
    "    \"\"\"\n",
    "    text = re.sub(r\"(\\\\begin{CJK}{UTF8}{gbsn})(.*?)(\\\\end{CJK})\", r\"\\2\", text)\n",
    "    return text\n",
    "\n",
    "\n",
    "def get_initials(name: str) -> str:\n",
    "    \"\"\" Get the short name, e.g., A.-B. FamName\n",
    "    :param name: full name\n",
    "    :returns: initials\n",
    "    \"\"\"\n",
    "    initials = []\n",
    "    # account for non western names often in ()\n",
    "    if '(' in name:\n",
    "        name = clean_non_western_encoded_characters_commands(name)\n",
    "        suffix = re.findall(r\"\\((.*?)\\)\", name)[0]\n",
    "        name = name.replace(f\"({suffix})\", '')\n",
    "    else:\n",
    "        suffix = ''\n",
    "    split = name.split()\n",
    "    for token in split[:-1]:\n",
    "        if '-' in token:\n",
    "            current = '-'.join([k[0] + '.' for k in token.split('-')])\n",
    "        else:\n",
    "            current = token[0] + '.'\n",
    "        initials.append(current)\n",
    "    initials.append(split[-1].strip())\n",
    "    if suffix:\n",
    "        initials.append(f\"({suffix})\")\n",
    "    return ' '.join(initials)"
   ]
  },
  {
   "cell_type": "markdown",
   "id": "14bd6310",
   "metadata": {
    "papermill": {
     "duration": 0.002881,
     "end_time": "2025-02-25T04:11:00.304563",
     "exception": false,
     "start_time": "2025-02-25T04:11:00.301682",
     "status": "completed"
    },
    "tags": []
   },
   "source": [
    "## get list of arxiv paper candidates\n",
    "\n",
    "We use the MPIA mitarbeiter list webpage from mpia.de to get author names\n",
    "We then get all new papers from Arxiv and match authors"
   ]
  },
  {
   "cell_type": "code",
   "execution_count": 3,
   "id": "7ea813a8",
   "metadata": {
    "execution": {
     "iopub.execute_input": "2025-02-25T04:11:00.311563Z",
     "iopub.status.busy": "2025-02-25T04:11:00.311043Z",
     "iopub.status.idle": "2025-02-25T04:11:24.188643Z",
     "shell.execute_reply": "2025-02-25T04:11:24.187977Z"
    },
    "papermill": {
     "duration": 23.882498,
     "end_time": "2025-02-25T04:11:24.189974",
     "exception": false,
     "start_time": "2025-02-25T04:11:00.307476",
     "status": "completed"
    },
    "tags": []
   },
   "outputs": [],
   "source": [
    "# deal with the author list and edge cases of people that cannot be consistent on their name  \n",
    "\n",
    "def filter_non_scientists(name: str) -> bool:\n",
    "    \"\"\" Loose filter on expected authorships\n",
    "\n",
    "    removing IT, administration, technical staff\n",
    "    :param name: name\n",
    "    :returns: False if name is not a scientist\n",
    "    \"\"\"\n",
    "    remove_list = ['Licht', 'Binroth', 'Witzel', 'Jordan',\n",
    "                   'Zähringer', 'Scheerer', 'Hoffmann', 'Düe',\n",
    "                   'Hellmich', 'Enkler-Scharpegge', 'Witte-Nguy',\n",
    "                   'Dehen', 'Beckmann', 'Jager', 'Jäger'\n",
    "                  ]\n",
    "\n",
    "    for k in remove_list:\n",
    "        if k in name:\n",
    "            return False\n",
    "    return True\n",
    "\n",
    "def add_author_to_list(author_list: list) -> list:\n",
    "    \"\"\" Add author to list if not already in list\n",
    "    \n",
    "    :param author: author name\n",
    "    :param author_list: list of authors\n",
    "    :returns: updated list of authors\n",
    "    \"\"\"\n",
    "    add_list = ['T. Henning']\n",
    "\n",
    "    for author in add_list:\n",
    "        if author not in author_list:\n",
    "            author_list.append(author)\n",
    "    return author_list\n",
    "\n",
    "# get list from MPIA website\n",
    "# filter for non-scientists (mpia.get_mpia_mitarbeiter_list() does some filtering)\n",
    "mpia_authors = [k[1] for k in mpia.get_mpia_mitarbeiter_list() if filter_non_scientists(k[1])]\n",
    "# add some missing author because of inconsistencies in their MPIA name and author name on papers\n",
    "mpia_authors = add_author_to_list(mpia_authors)"
   ]
  },
  {
   "cell_type": "code",
   "execution_count": 4,
   "id": "2645e73a",
   "metadata": {
    "execution": {
     "iopub.execute_input": "2025-02-25T04:11:24.197346Z",
     "iopub.status.busy": "2025-02-25T04:11:24.196990Z",
     "iopub.status.idle": "2025-02-25T04:11:25.186821Z",
     "shell.execute_reply": "2025-02-25T04:11:25.186160Z"
    },
    "papermill": {
     "duration": 0.994576,
     "end_time": "2025-02-25T04:11:25.187885",
     "exception": false,
     "start_time": "2025-02-25T04:11:24.193309",
     "status": "completed"
    },
    "tags": []
   },
   "outputs": [
    {
     "name": "stdout",
     "output_type": "stream",
     "text": [
      "F. Walter  ->  F. Walter  |  ['F. Walter']\n",
      "I. J. M. Crossfield  ->  I. J. M. Crossfield  |  ['I. J. M. Crossfield']\n",
      "J. Liu  ->  J. Liu  |  ['J. Liu']\n",
      "X. Zhang  ->  X. Zhang  |  ['X. Zhang']\n",
      "X. Zhang  ->  X. Zhang  |  ['X. Zhang']\n",
      "S. Vaughan  ->  S. Vaughan  |  ['S. Vaughan']\n",
      "K. Lee  ->  K. Lee  |  ['K. Lee']\n",
      "N. Martin  ->  N. Martin  |  ['N. Martin']\n"
     ]
    },
    {
     "name": "stdout",
     "output_type": "stream",
     "text": [
      "Arxiv has 81 new papers today\n",
      "          8 with possible author matches\n"
     ]
    }
   ],
   "source": [
    "new_papers = get_new_papers()\n",
    "# add manual references\n",
    "add_paper_refs = []\n",
    "new_papers.extend([get_paper_from_identifier(k) for k in add_paper_refs])\n",
    "\n",
    "def robust_call(fn, value, *args, **kwargs):\n",
    "    try:\n",
    "        return fn(value, *args, **kwargs)\n",
    "    except Exception:\n",
    "        return value\n",
    "\n",
    "candidates = []\n",
    "for paperk in new_papers:\n",
    "    # Check author list with their initials\n",
    "    normed_author_list = [robust_call(mpia.get_initials, k) for k in paperk['authors']]\n",
    "    hl_authors = highlight_authors_in_list(normed_author_list, mpia_authors, verbose=True)\n",
    "    matches = [(hl, orig) for hl, orig in zip(hl_authors, paperk['authors']) if 'mark' in hl]\n",
    "    paperk['authors'] = hl_authors\n",
    "    if matches:\n",
    "        # only select paper if an author matched our list\n",
    "        candidates.append(paperk)\n",
    "print(\"\"\"Arxiv has {0:,d} new papers today\"\"\".format(len(new_papers)))        \n",
    "print(\"\"\"          {0:,d} with possible author matches\"\"\".format(len(candidates)))"
   ]
  },
  {
   "cell_type": "markdown",
   "id": "3543b34a",
   "metadata": {
    "papermill": {
     "duration": 0.003177,
     "end_time": "2025-02-25T04:11:25.194573",
     "exception": false,
     "start_time": "2025-02-25T04:11:25.191396",
     "status": "completed"
    },
    "tags": []
   },
   "source": [
    "# Parse sources and generate relevant outputs\n",
    "\n",
    "From the candidates, we do the following steps:\n",
    "* get their tarball from ArXiv (and extract data)\n",
    "* find the main .tex file: find one with \\documentclass{...} (sometimes it's non trivial)\n",
    "* Check affiliations with :func:`validation`, which uses :func:`mpia.affiliation_verifications`\n",
    "* If passing the affiliations: we parse the .tex source\n",
    "   * inject sub-documents into the main (flatten the main document)\n",
    "   * parse structure, extract information (title, abstract, authors, figures...)\n",
    "   * handles `\\graphicspath` if provided\n",
    "* Generate the .md document."
   ]
  },
  {
   "cell_type": "code",
   "execution_count": 5,
   "id": "9576b79e",
   "metadata": {
    "execution": {
     "iopub.execute_input": "2025-02-25T04:11:25.201855Z",
     "iopub.status.busy": "2025-02-25T04:11:25.201442Z",
     "iopub.status.idle": "2025-02-25T04:14:49.090903Z",
     "shell.execute_reply": "2025-02-25T04:14:49.090050Z"
    },
    "papermill": {
     "duration": 203.894344,
     "end_time": "2025-02-25T04:14:49.092040",
     "exception": false,
     "start_time": "2025-02-25T04:11:25.197696",
     "status": "completed"
    },
    "scrolled": false,
    "tags": []
   },
   "outputs": [
    {
     "data": {
      "application/vnd.jupyter.widget-view+json": {
       "model_id": "3c2bc5d8a31e4025be52271b94b03c4c",
       "version_major": 2,
       "version_minor": 0
      },
      "text/plain": [
       "  0%|          | 0/8 [00:00<?, ?it/s]"
      ]
     },
     "metadata": {},
     "output_type": "display_data"
    },
    {
     "name": "stdout",
     "output_type": "stream",
     "text": [
      "Retrieving document from  https://arxiv.org/e-print/2502.16018\n"
     ]
    },
    {
     "name": "stdout",
     "output_type": "stream",
     "text": [
      "extracting tarball to tmp_2502.16018..."
     ]
    },
    {
     "name": "stdout",
     "output_type": "stream",
     "text": [
      " done.\n"
     ]
    },
    {
     "name": "stdout",
     "output_type": "stream",
     "text": [
      "F. Walter  ->  F. Walter  |  ['F. Walter']\n"
     ]
    },
    {
     "name": "stdout",
     "output_type": "stream",
     "text": [
      "Found 54 bibliographic references in tmp_2502.16018/main_arxiv.bbl.\n",
      "Issues with the citations\n",
      "syntax error in line 242: '=' expected\n",
      "Retrieving document from  https://arxiv.org/e-print/2502.16087\n"
     ]
    },
    {
     "name": "stdout",
     "output_type": "stream",
     "text": [
      "extracting tarball to tmp_2502.16087..."
     ]
    },
    {
     "name": "stdout",
     "output_type": "stream",
     "text": [
      " done.\n",
      "Retrieving document from  https://arxiv.org/e-print/2502.16413\n"
     ]
    },
    {
     "name": "stderr",
     "output_type": "stream",
     "text": [
      "/opt/hostedtoolcache/Python/3.9.21/x64/lib/python3.9/site-packages/IPython/core/interactiveshell.py:3550: LatexWarning: Multiple tex files.\n",
      "\n",
      "  exec(code_obj, self.user_global_ns, self.user_ns)\n",
      "/opt/hostedtoolcache/Python/3.9.21/x64/lib/python3.9/site-packages/IPython/core/interactiveshell.py:3550: LatexWarning: Found documentclass in tmp_2502.16087/main.tex\n",
      "\n",
      "  exec(code_obj, self.user_global_ns, self.user_ns)\n",
      "/opt/hostedtoolcache/Python/3.9.21/x64/lib/python3.9/site-packages/arxiv_on_deck_2/latex.py:414: LatexWarning: Latex injecting: 'affil' from 'tmp_2502.16087/affil.tex'\n",
      "  warnings.warn(LatexWarning(f\"Latex injecting: '{ext}' from '{subsource}'\"))\n"
     ]
    },
    {
     "name": "stdout",
     "output_type": "stream",
     "text": [
      "extracting tarball to tmp_2502.16413..."
     ]
    },
    {
     "name": "stdout",
     "output_type": "stream",
     "text": [
      " done.\n",
      "Retrieving document from  https://arxiv.org/e-print/2502.16455\n"
     ]
    },
    {
     "name": "stdout",
     "output_type": "stream",
     "text": [
      "extracting tarball to tmp_2502.16455..."
     ]
    },
    {
     "name": "stdout",
     "output_type": "stream",
     "text": [
      " done.\n",
      "Retrieving document from  https://arxiv.org/e-print/2502.16458\n"
     ]
    },
    {
     "name": "stderr",
     "output_type": "stream",
     "text": [
      "/opt/hostedtoolcache/Python/3.9.21/x64/lib/python3.9/site-packages/IPython/core/interactiveshell.py:3550: LatexWarning: Multiple tex files.\n",
      "\n",
      "  exec(code_obj, self.user_global_ns, self.user_ns)\n",
      "/opt/hostedtoolcache/Python/3.9.21/x64/lib/python3.9/site-packages/IPython/core/interactiveshell.py:3550: LatexWarning: Found documentclass in tmp_2502.16455/aa52058-24corr.tex\n",
      "\n",
      "  exec(code_obj, self.user_global_ns, self.user_ns)\n"
     ]
    },
    {
     "name": "stdout",
     "output_type": "stream",
     "text": [
      "extracting tarball to tmp_2502.16458..."
     ]
    },
    {
     "name": "stdout",
     "output_type": "stream",
     "text": [
      " done.\n",
      "  1: tmp_2502.16458/gen_bbl.tex, 6 lines\n",
      "  2: tmp_2502.16458/sample631.tex, 1,243 lines\n",
      "Retrieving document from  https://arxiv.org/e-print/2502.16751\n"
     ]
    },
    {
     "name": "stderr",
     "output_type": "stream",
     "text": [
      "/opt/hostedtoolcache/Python/3.9.21/x64/lib/python3.9/site-packages/IPython/core/interactiveshell.py:3550: LatexWarning: Multiple tex files.\n",
      "\n",
      "  exec(code_obj, self.user_global_ns, self.user_ns)\n",
      "/opt/hostedtoolcache/Python/3.9.21/x64/lib/python3.9/site-packages/IPython/core/interactiveshell.py:3550: LatexWarning: Found 2 candidates with documentclass definition.\n",
      "  exec(code_obj, self.user_global_ns, self.user_ns)\n",
      "/opt/hostedtoolcache/Python/3.9.21/x64/lib/python3.9/site-packages/IPython/core/interactiveshell.py:3550: LatexWarning: Assuming tmp_2502.16458/sample631.tex as main document.\n",
      "  exec(code_obj, self.user_global_ns, self.user_ns)\n"
     ]
    },
    {
     "name": "stdout",
     "output_type": "stream",
     "text": [
      "extracting tarball to tmp_2502.16751..."
     ]
    },
    {
     "name": "stdout",
     "output_type": "stream",
     "text": [
      " done.\n",
      "Retrieving document from  https://arxiv.org/e-print/2502.16858\n"
     ]
    },
    {
     "name": "stderr",
     "output_type": "stream",
     "text": [
      "/opt/hostedtoolcache/Python/3.9.21/x64/lib/python3.9/site-packages/IPython/core/interactiveshell.py:3550: LatexWarning: Multiple tex files.\n",
      "\n",
      "  exec(code_obj, self.user_global_ns, self.user_ns)\n",
      "/opt/hostedtoolcache/Python/3.9.21/x64/lib/python3.9/site-packages/IPython/core/interactiveshell.py:3550: LatexWarning: Found documentclass in tmp_2502.16751/MAGPI_KinClass.tex\n",
      "\n",
      "  exec(code_obj, self.user_global_ns, self.user_ns)\n",
      "/opt/hostedtoolcache/Python/3.9.21/x64/lib/python3.9/site-packages/arxiv_on_deck_2/latex.py:414: LatexWarning: Latex injecting: 'table3' from 'tmp_2502.16751/table3.tex'\n",
      "  warnings.warn(LatexWarning(f\"Latex injecting: '{ext}' from '{subsource}'\"))\n",
      "/opt/hostedtoolcache/Python/3.9.21/x64/lib/python3.9/site-packages/arxiv_on_deck_2/latex.py:414: LatexWarning: Latex injecting: 'table2' from 'tmp_2502.16751/table2.tex'\n",
      "  warnings.warn(LatexWarning(f\"Latex injecting: '{ext}' from '{subsource}'\"))\n",
      "/opt/hostedtoolcache/Python/3.9.21/x64/lib/python3.9/site-packages/arxiv_on_deck_2/latex.py:414: LatexWarning: Latex injecting: 'table2' from 'tmp_2502.16751/Figures/table2.tex'\n",
      "  warnings.warn(LatexWarning(f\"Latex injecting: '{ext}' from '{subsource}'\"))\n",
      "/opt/hostedtoolcache/Python/3.9.21/x64/lib/python3.9/site-packages/arxiv_on_deck_2/latex.py:414: LatexWarning: Latex injecting: 'table1' from 'tmp_2502.16751/table1.tex'\n",
      "  warnings.warn(LatexWarning(f\"Latex injecting: '{ext}' from '{subsource}'\"))\n"
     ]
    },
    {
     "name": "stdout",
     "output_type": "stream",
     "text": [
      "extracting tarball to tmp_2502.16858..."
     ]
    },
    {
     "name": "stdout",
     "output_type": "stream",
     "text": [
      " done.\n",
      "Retrieving document from  https://arxiv.org/e-print/2502.17319\n"
     ]
    },
    {
     "name": "stdout",
     "output_type": "stream",
     "text": [
      "extracting tarball to tmp_2502.17319..."
     ]
    },
    {
     "name": "stdout",
     "output_type": "stream",
     "text": [
      " done.\n"
     ]
    },
    {
     "name": "stderr",
     "output_type": "stream",
     "text": [
      "/opt/hostedtoolcache/Python/3.9.21/x64/lib/python3.9/site-packages/arxiv_on_deck_2/latex.py:132: LatexWarning: attempting recovering figure example_spectra_with_fits\n",
      "  warnings.warn(LatexWarning(f'attempting recovering figure {image}'))\n",
      "/opt/hostedtoolcache/Python/3.9.21/x64/lib/python3.9/site-packages/arxiv_on_deck_2/latex.py:137: LatexWarning: Recovered figure example_spectra_with_fits as tmp_2502.17319/./example_spectra_with_fits.pdf\n",
      "  warnings.warn(LatexWarning(f'Recovered figure {image} as {fname}'))\n"
     ]
    },
    {
     "name": "stderr",
     "output_type": "stream",
     "text": [
      "/opt/hostedtoolcache/Python/3.9.21/x64/lib/python3.9/site-packages/arxiv_on_deck_2/latex.py:132: LatexWarning: attempting recovering figure \n",
      "      comparisonLOS_velocity_estimates_velocity_standards_main\n",
      "  warnings.warn(LatexWarning(f'attempting recovering figure {image}'))\n",
      "/opt/hostedtoolcache/Python/3.9.21/x64/lib/python3.9/site-packages/arxiv_on_deck_2/latex.py:707: LatexWarning: Could not find graphic \\includegraphics{\n",
      "      comparisonLOS_velocity_estimates_velocity_standards_main}\n",
      "  warnings.warn(LatexWarning(f\"Could not find graphic {k}\"))\n",
      "/opt/hostedtoolcache/Python/3.9.21/x64/lib/python3.9/site-packages/arxiv_on_deck_2/latex.py:132: LatexWarning: attempting recovering figure \n",
      "      class_candidateBHBstarsESO_programsP106_21L8Run1and2\n",
      "  warnings.warn(LatexWarning(f'attempting recovering figure {image}'))\n",
      "/opt/hostedtoolcache/Python/3.9.21/x64/lib/python3.9/site-packages/arxiv_on_deck_2/latex.py:707: LatexWarning: Could not find graphic \\includegraphics{\n",
      "      class_candidateBHBstarsESO_programsP106_21L8Run1and2}\n",
      "  warnings.warn(LatexWarning(f\"Could not find graphic {k}\"))\n",
      "/opt/hostedtoolcache/Python/3.9.21/x64/lib/python3.9/site-packages/arxiv_on_deck_2/latex.py:132: LatexWarning: attempting recovering figure adaptSesar_et_al2017b_figure1low_panel\n",
      "  warnings.warn(LatexWarning(f'attempting recovering figure {image}'))\n",
      "/opt/hostedtoolcache/Python/3.9.21/x64/lib/python3.9/site-packages/arxiv_on_deck_2/latex.py:137: LatexWarning: Recovered figure adaptSesar_et_al2017b_figure1low_panel as tmp_2502.17319/./adaptSesar_et_al2017b_figure1low_panel.pdf\n",
      "  warnings.warn(LatexWarning(f'Recovered figure {image} as {fname}'))\n"
     ]
    },
    {
     "name": "stderr",
     "output_type": "stream",
     "text": [
      "/opt/hostedtoolcache/Python/3.9.21/x64/lib/python3.9/site-packages/arxiv_on_deck_2/latex.py:132: LatexWarning: attempting recovering figure vel_struct_dist_trail_armSgr_stream_rescaling\n",
      "  warnings.warn(LatexWarning(f'attempting recovering figure {image}'))\n",
      "/opt/hostedtoolcache/Python/3.9.21/x64/lib/python3.9/site-packages/arxiv_on_deck_2/latex.py:137: LatexWarning: Recovered figure vel_struct_dist_trail_armSgr_stream_rescaling as tmp_2502.17319/./vel_struct_dist_trail_armSgr_stream_rescaling.pdf\n",
      "  warnings.warn(LatexWarning(f'Recovered figure {image} as {fname}'))\n"
     ]
    },
    {
     "name": "stderr",
     "output_type": "stream",
     "text": [
      "/opt/hostedtoolcache/Python/3.9.21/x64/lib/python3.9/site-packages/arxiv_on_deck_2/latex.py:132: LatexWarning: attempting recovering figure BobylevBaykova2023figure2adapt\n",
      "  warnings.warn(LatexWarning(f'attempting recovering figure {image}'))\n",
      "/opt/hostedtoolcache/Python/3.9.21/x64/lib/python3.9/site-packages/arxiv_on_deck_2/latex.py:137: LatexWarning: Recovered figure BobylevBaykova2023figure2adapt as tmp_2502.17319/./BobylevBaykova2023figure2adapt.pdf\n",
      "  warnings.warn(LatexWarning(f'Recovered figure {image} as {fname}'))\n",
      "/opt/hostedtoolcache/Python/3.9.21/x64/lib/python3.9/site-packages/arxiv_on_deck_2/latex.py:132: LatexWarning: attempting recovering figure proper_motions\n",
      "  warnings.warn(LatexWarning(f'attempting recovering figure {image}'))\n",
      "/opt/hostedtoolcache/Python/3.9.21/x64/lib/python3.9/site-packages/arxiv_on_deck_2/latex.py:137: LatexWarning: Recovered figure proper_motions as tmp_2502.17319/./proper_motions.pdf\n",
      "  warnings.warn(LatexWarning(f'Recovered figure {image} as {fname}'))\n"
     ]
    },
    {
     "name": "stderr",
     "output_type": "stream",
     "text": [
      "/opt/hostedtoolcache/Python/3.9.21/x64/lib/python3.9/site-packages/arxiv_on_deck_2/latex.py:132: LatexWarning: attempting recovering figure \n",
      "          linearPS_gr0color_idx_eff_temp_relBHBstarsBarbosa_et_al2022\n",
      "  warnings.warn(LatexWarning(f'attempting recovering figure {image}'))\n",
      "/opt/hostedtoolcache/Python/3.9.21/x64/lib/python3.9/site-packages/arxiv_on_deck_2/latex.py:707: LatexWarning: Could not find graphic \\includegraphics{\n",
      "          linearPS_gr0color_idx_eff_temp_relBHBstarsBarbosa_et_al2022}\n",
      "  warnings.warn(LatexWarning(f\"Could not find graphic {k}\"))\n",
      "/opt/hostedtoolcache/Python/3.9.21/x64/lib/python3.9/site-packages/arxiv_on_deck_2/latex.py:132: LatexWarning: attempting recovering figure comparisonLOS_vel_estimates_vel_sts_appendix\n",
      "  warnings.warn(LatexWarning(f'attempting recovering figure {image}'))\n",
      "/opt/hostedtoolcache/Python/3.9.21/x64/lib/python3.9/site-packages/arxiv_on_deck_2/latex.py:137: LatexWarning: Recovered figure comparisonLOS_vel_estimates_vel_sts_appendix as tmp_2502.17319/./comparisonLOS_vel_estimates_vel_sts_appendix.pdf\n",
      "  warnings.warn(LatexWarning(f'Recovered figure {image} as {fname}'))\n"
     ]
    },
    {
     "name": "stderr",
     "output_type": "stream",
     "text": [
      "/opt/hostedtoolcache/Python/3.9.21/x64/lib/python3.9/site-packages/arxiv_on_deck_2/latex.py:132: LatexWarning: attempting recovering figure target_selection\n",
      "  warnings.warn(LatexWarning(f'attempting recovering figure {image}'))\n",
      "/opt/hostedtoolcache/Python/3.9.21/x64/lib/python3.9/site-packages/arxiv_on_deck_2/latex.py:137: LatexWarning: Recovered figure target_selection as tmp_2502.17319/./target_selection.pdf\n",
      "  warnings.warn(LatexWarning(f'Recovered figure {image} as {fname}'))\n"
     ]
    },
    {
     "name": "stderr",
     "output_type": "stream",
     "text": [
      "/opt/hostedtoolcache/Python/3.9.21/x64/lib/python3.9/site-packages/arxiv_on_deck_2/latex.py:132: LatexWarning: attempting recovering figure vel_struct_dist_trail_armSgr_stream_main\n",
      "  warnings.warn(LatexWarning(f'attempting recovering figure {image}'))\n",
      "/opt/hostedtoolcache/Python/3.9.21/x64/lib/python3.9/site-packages/arxiv_on_deck_2/latex.py:137: LatexWarning: Recovered figure vel_struct_dist_trail_armSgr_stream_main as tmp_2502.17319/./vel_struct_dist_trail_armSgr_stream_main.pdf\n",
      "  warnings.warn(LatexWarning(f'Recovered figure {image} as {fname}'))\n"
     ]
    },
    {
     "name": "stderr",
     "output_type": "stream",
     "text": [
      "/opt/hostedtoolcache/Python/3.9.21/x64/lib/python3.9/site-packages/arxiv_on_deck_2/latex.py:132: LatexWarning: attempting recovering figure resolving_power\n",
      "  warnings.warn(LatexWarning(f'attempting recovering figure {image}'))\n",
      "/opt/hostedtoolcache/Python/3.9.21/x64/lib/python3.9/site-packages/arxiv_on_deck_2/latex.py:137: LatexWarning: Recovered figure resolving_power as tmp_2502.17319/./resolving_power.pdf\n",
      "  warnings.warn(LatexWarning(f'Recovered figure {image} as {fname}'))\n"
     ]
    },
    {
     "name": "stdout",
     "output_type": "stream",
     "text": [
      "Found 169 bibliographic references in tmp_2502.17319/eso_programs_p106_21l8run1and2_paper_v_arxiv.bbl.\n",
      "Error retrieving bib data for ps1: 'author'\n",
      "Error retrieving bib data for  magnier_et_al2020: 'author'\n",
      "Error retrieving bib data for sdss_dr18: 'author'\n",
      "Error retrieving bib data for starkenburg_et_al2017: 'author'\n",
      "Error retrieving bib data for vasiliev_et_al2021: 'author'\n",
      "Error retrieving bib data for dierickx_loeb2017: 'author'\n",
      "Error retrieving bib data for vasiliev_et_al2021: 'author'\n",
      "Error retrieving bib data for vasiliev_baumgardt2021: 'author'\n",
      "Error retrieving bib data for vasiliev_baumgardt2021: 'author'\n",
      "Error retrieving bib data for baumgardt_vasiliev2021: 'author'\n",
      "Error retrieving bib data for xue_et_al2008: 'author'\n",
      "Error retrieving bib data for xue_et_al2011: 'author'\n"
     ]
    }
   ],
   "source": [
    "documents = []\n",
    "failed = []\n",
    "for paper in tqdm(candidates):\n",
    "    # debug crap\n",
    "    paper['identifier'] = paper['identifier'].lower().replace('arxiv:', '').replace(r'\\n', '').strip()\n",
    "    paper_id = paper['identifier']\n",
    "    \n",
    "    folder = f'tmp_{paper_id}'\n",
    "\n",
    "    try:\n",
    "        if not os.path.isdir(folder):\n",
    "            folder = retrieve_document_source(f\"{paper_id}\", f'tmp_{paper_id}')\n",
    "        \n",
    "        try:\n",
    "            doc = latex.LatexDocument(folder, validation=validation)    \n",
    "        except AffiliationError as affilerror:\n",
    "            msg = f\"ArXiv:{paper_id:s} is not an MPIA paper... \" + str(affilerror)\n",
    "            failed.append((paper, \"affiliation error: \" + str(affilerror) ))\n",
    "            continue\n",
    "        \n",
    "        # Hack because sometimes author parsing does not work well\n",
    "        if (len(doc.authors) != len(paper['authors'])):\n",
    "            doc._authors = paper['authors']\n",
    "        else:\n",
    "            # highlight authors (FIXME: doc.highlight_authors)\n",
    "            # done on arxiv paper already\n",
    "            doc._authors = highlight_authors_in_list(\n",
    "                [get_initials(k) for k in doc.authors], \n",
    "                mpia_authors, verbose=True)\n",
    "        if (doc.abstract) in (None, ''):\n",
    "            doc._abstract = paper['abstract']\n",
    "            \n",
    "        doc.comment = (get_markdown_badge(paper_id) + \n",
    "                       \"<mark>Appeared on: \" + paper['date'] + \"</mark> - \")\n",
    "        if paper['comments']:\n",
    "            doc.comment += \" _\" + paper['comments'] + \"_\"\n",
    "        \n",
    "        full_md = doc.generate_markdown_text()\n",
    "        \n",
    "        full_md += get_markdown_qrcode(paper_id)\n",
    "        \n",
    "        # replace citations\n",
    "        try:\n",
    "            bibdata = latex_bib.LatexBib.from_doc(doc)\n",
    "            full_md = latex_bib.replace_citations(full_md, bibdata)\n",
    "        except Exception as e:\n",
    "            print(\"Issues with the citations\")\n",
    "            print(e)\n",
    "        \n",
    "        documents.append((paper_id, full_md))\n",
    "    except Exception as e:\n",
    "        warnings.warn(latex.LatexWarning(f\"{paper_id:s} did not run properly\\n\" +\n",
    "                                         str(e)\n",
    "                                        ))\n",
    "        failed.append((paper, \"latex error \" + str(e)))"
   ]
  },
  {
   "cell_type": "markdown",
   "id": "2505a25c",
   "metadata": {
    "papermill": {
     "duration": 0.004752,
     "end_time": "2025-02-25T04:14:49.101934",
     "exception": false,
     "start_time": "2025-02-25T04:14:49.097182",
     "status": "completed"
    },
    "tags": []
   },
   "source": [
    "### Export the logs\n",
    "\n",
    "Throughout, we also keep track of the logs per paper. see `logs-{today date}.md` "
   ]
  },
  {
   "cell_type": "code",
   "execution_count": 6,
   "id": "d733828a",
   "metadata": {
    "execution": {
     "iopub.execute_input": "2025-02-25T04:14:49.112758Z",
     "iopub.status.busy": "2025-02-25T04:14:49.112222Z",
     "iopub.status.idle": "2025-02-25T04:14:49.132044Z",
     "shell.execute_reply": "2025-02-25T04:14:49.131459Z"
    },
    "papermill": {
     "duration": 0.026473,
     "end_time": "2025-02-25T04:14:49.133085",
     "exception": false,
     "start_time": "2025-02-25T04:14:49.106612",
     "status": "completed"
    },
    "scrolled": false,
    "tags": []
   },
   "outputs": [
    {
     "data": {
      "text/markdown": [
       "## Successful papers"
      ],
      "text/plain": [
       "<IPython.core.display.Markdown object>"
      ]
     },
     "metadata": {},
     "output_type": "display_data"
    },
    {
     "data": {
      "text/markdown": [
       "\n",
       "|||\n",
       "|---:|:---|\n",
       "| [![arXiv](https://img.shields.io/badge/arXiv-2502.16018-b31b1b.svg)](https://arxiv.org/abs/2502.16018) | **Application of resolved low-J multi-CO line modeling with RADEX to constrain the molecular gas properties in the starburst M82**  |\n",
       "|| V. Zhang, et al. -- incl., <mark>F. Walter</mark> |\n",
       "|*Appeared on*| *2025-02-25*|\n",
       "|*Comments*| *14 pages, 6 figures, accepted for publication in ApJ*|\n",
       "|**Abstract**|            The distribution and physical conditions of molecular gas are closely linked to star formation and the subsequent evolution of galaxies. Emission from carbon monoxide (CO) and its isotopologues traces the bulk of molecular gas and provides constraints on the physical conditions through their line ratios. However, comprehensive understanding on how the particular choice of line modeling approach impacts derived molecular properties remain incomplete. Here, we study the nearby starburst galaxy M82, known for its intense star formation and molecular emission, using the large set of available multi-CO line observations. We present high-resolution (${\\sim}85$ pc) emission of seven CO isotopologue lines, including $^{12}$CO, $^{13}$CO, and C$^{18}$O from the $J = 1-0$, $2-1$ and $3-2$ transitions. Using \\texttt{RADEX} for radiative transfer modeling, we analyze M82\\textsc{\\char39}s molecular properties with (i) a one-zone model and (ii) a variable density model, comparing observed and simulated emissions via a minimum $\\chi^2$ analysis. We find that inferred gas conditions -- kinetic temperature and density -- are consistent across models, with minimal statistical differences. However, due to their low critical densities (${<}10^{4}$ cm$^{-3}$), low-$J$ CO isotopologue lines do not effectively probe higher density gas prevalent in starburst environments like that of M82. Our results further imply that this limitation extends to high-redshift ($z{\\gtrapprox}1$) galaxies with similar conditions, where low-$J$ CO lines are inadequate for density constraints. Future studies of extreme star-forming regions like M82 will require higher-$J$ CO lines or alternative molecular tracers with higher critical densities.         |"
      ],
      "text/plain": [
       "[2502.16018] Application of resolved low-J multi-CO line modeling with RADEX to constrain the molecular gas properties in the starburst M82\n",
       "\tV. Zhang, et al. -- incl., <mark>F. Walter</mark>"
      ]
     },
     "metadata": {},
     "output_type": "display_data"
    },
    {
     "data": {
      "text/markdown": [
       "\n",
       "|||\n",
       "|---:|:---|\n",
       "| [![arXiv](https://img.shields.io/badge/arXiv-2502.17319-b31b1b.svg)](https://arxiv.org/abs/2502.17319) | **A Pristine-UNIONS view on the Galaxy: Kinematics of the distant spur feature of the Sagittarius stream traced by Blue Horizontal Branch stars**  |\n",
       "|| M. Bayer, et al. -- incl., <mark>N. Martin</mark> |\n",
       "|*Appeared on*| *2025-02-25*|\n",
       "|*Comments*| *21 pages, 12 figures, submitted to A&A, abridged abstract*|\n",
       "|**Abstract**|            Providing a detailed picture of the Sagittarius (Sgr) stream offers important constraints on the build-up of the Galactic halo as well as its gravitational potential at large radii. While several attempts have been made to model the structure of the Sgr stream, no model has yet been able to match all the features observed for the stream. Moreover, for several of these features, observational characterisation of their properties is rather limited, particularly at large distances. The aim of this work is to investigate the kinematics of the Sgr stream outermost spur feature using blue horizontal branch (BHB) stars. Candidate BHB stars were selected by combining two approaches; one capitalising on Pan-STARRS1 3$\\Pi$ griz and u photometry taken as part of UNIONS, the other using Pristine Survey CaHK and SDSS ugr photometry. Follow-up optical spectra are obtained using ESO/VLT/FORS2 to confirm their BHB nature and obtain line-of-sight (LOS) velocities. Of our 25 candidates, 20 stars can be confirmed as bona fide BHB stars. Their LOS velocities, together with the 3D positions of these stars qualitatively match well with Sgr model predictions and trace the outer apocentre of the trailing arm and its spur feature very nicely. The quantitative offsets that are found between our data and the different models can be used to provide information about the Galactic gravitational potential at large distances. We present a first, tentative, analysis in this direction, showing that the model of Vasiliev et al. (2021) would provide better agreement with our observations if the enclosed mass of the Milky Way within 100 kpc were lowered to $(5.3\\!\\pm\\!0.4)\\!\\times\\!10^{11}$ M$_\\odot$ (versus $(5.6\\!\\pm\\!0.4)\\!\\times\\!10^{11}$ M$_\\odot$). Our selection of BHB stars provides a new view on the outermost structure in 3D positions and LOS velocities of the Sgr debris.         |"
      ],
      "text/plain": [
       "[2502.17319] A Pristine-UNIONS view on the Galaxy: Kinematics of the distant spur feature of the Sagittarius stream traced by Blue Horizontal Branch stars\n",
       "\tM. Bayer, et al. -- incl., <mark>N. Martin</mark>"
      ]
     },
     "metadata": {},
     "output_type": "display_data"
    },
    {
     "data": {
      "text/markdown": [
       "## Failed papers"
      ],
      "text/plain": [
       "<IPython.core.display.Markdown object>"
      ]
     },
     "metadata": {},
     "output_type": "display_data"
    },
    {
     "data": {
      "text/markdown": [
       "\n",
       "|||\n",
       "|---:|:---|\n",
       "| [![arXiv](https://img.shields.io/badge/arXiv-2502.16087-b31b1b.svg)](https://arxiv.org/abs/2502.16087) | **TOI-6324b: An Earth-Mass Ultra-Short-Period Planet Transiting a Nearby M Dwarf**  |\n",
       "|| R. A. Lee, et al. -- incl., <mark>I. J. M. Crossfield</mark> |\n",
       "|*Appeared on*| *2025-02-25*|\n",
       "|*Comments*| *16 pages, 5 figures, 2 tables*|\n",
       "|**Abstract**|            We report the confirmation of TOI-6324 b, an Earth-sized (1.059 $\\pm$ 0.041 R$_\\oplus$) ultra-short-period (USP) planet orbiting a nearby ($\\sim$20 pc) M dwarf. Using the newly commissioned Keck Planet Finder (KPF) spectrograph, we have measured the mass of TOI-6324 b 1.17 $\\pm$ 0.22 M$_\\oplus$. Because of its extremely short orbit of just $\\sim$6.7 hours, TOI-6324 b is intensely irradiated by its M dwarf host, and is expected to be stripped of any thick, H/He envelope. We were able to constrain its interior composition and found an iron core mass fraction (CMF = 27$\\pm$37%) consistent with that of Earth ($\\sim$33%) and other confirmed USPs. TOI-6324 b is the closest to Earth-sized USP confirmed to date. TOI-6324 b is a promising target for JWST phase curve and secondary eclipse observations (Emission Spectroscopy Metric = 25) which may reveal its surface mineralogy, day-night temperature contrast, and possible tidal deformation. From 7 sectors of TESS data, we report a tentative detection of the optical phase curve variation with an amplitude of 42$\\pm$28 ppm.         |\n",
       "|<p style=\"color:green\"> **ERROR** </p>| <p style=\"color:green\">affiliation error: mpia.affiliation_verifications: 'Heidelberg' keyword not found.</p> |"
      ],
      "text/plain": [
       "<IPython.core.display.Markdown object>"
      ]
     },
     "metadata": {},
     "output_type": "display_data"
    },
    {
     "data": {
      "text/markdown": [
       "\n",
       "|||\n",
       "|---:|:---|\n",
       "| [![arXiv](https://img.shields.io/badge/arXiv-2502.16413-b31b1b.svg)](https://arxiv.org/abs/2502.16413) | **Dense Cores in IRDC G14.225-0.506 revealed by ALMA Observations**  |\n",
       "|| Y. Zhao, et al. -- incl., <mark>J. Liu</mark> |\n",
       "|*Appeared on*| *2025-02-25*|\n",
       "|*Comments*| **|\n",
       "|**Abstract**|            Dense cores in massive, parsec-scale molecular clumps are sites that harbor protocluster formation. We present results from observations towards a hub-filament structure of a massive Infrared Dark Cloud (IRDC) G14.225-0.506 using the Atacama Large Millimeter/submillimeter Array (ALMA). The dense cores are revealed by the 1.3 mm dust continuum emission at an angular resolution of $\\sim$ 1.5'' and are identified through the hierarchical Dendrogram technique. Combining with the N$_2$D$^+$ 3-2 spectral line emission and gas temperatures derived from a previous NH$_3$ study, we analyze the thermodynamic properties of the dense cores. The results show transonic and supersonic-dominated turbulent motions. There is an inverse correlation between the virial parameter and the column density, which implies that denser regions may undergo stronger gravitational collapse. Molecular outflows are identified in the CO 2-1 and SiO 5-4 emission, indicating active protostellar activities in some cores. Besides these star formation signatures revealed by molecular outflows in the dense cores, previous studies in the infrared, X-ray, and radio wavelengths also found a rich and wide-spread population of young stellar objects (YSOs), showing active star formation both inside and outside of the dense cloud.         |\n",
       "|<p style=\"color:green\"> **ERROR** </p>| <p style=\"color:green\">affiliation error: mpia.affiliation_verifications: 'Heidelberg' keyword not found.</p> |"
      ],
      "text/plain": [
       "<IPython.core.display.Markdown object>"
      ]
     },
     "metadata": {},
     "output_type": "display_data"
    },
    {
     "data": {
      "text/markdown": [
       "\n",
       "|||\n",
       "|---:|:---|\n",
       "| [![arXiv](https://img.shields.io/badge/arXiv-2502.16455-b31b1b.svg)](https://arxiv.org/abs/2502.16455) | **Asteroid shape inversion with light curves using deep learning**  |\n",
       "|| Y. Tang, et al. -- incl., <mark>X. Zhang</mark> |\n",
       "|*Appeared on*| *2025-02-25*|\n",
       "|*Comments*| **|\n",
       "|**Abstract**|            Asteroid shape inversion using photometric data has been a key area of study in planetary science and astronomical this http URL, the current methods for asteroid shape inversion require extensive iterative calculations, making the process time-consuming and prone to becoming stuck in local optima. We directly established a mapping between photometric data and shape distribution through deep neural networks. In addition, we used 3D point clouds to represent asteroid shapes and utilized the deviation between the light curves of non-convex asteroids and their convex hulls to predict the concave areas of non-convex asteroids. We compared the results of different shape models using the Chamfer distance between traditional methods and ours and found that our method performs better, especially when handling special shapes. For the detection of concave areas on the convex hull, the intersection over union (IoU) of our predictions reached 0.89. We further validated this method using observational data from the Lowell Observatory to predict the convex shapes of the asteroids 3337 Milo and 1289 Kuta, and conducted light curve fitting experiments. The experimental results demonstrated the robustness and adaptability of the method         |\n",
       "|<p style=\"color:green\"> **ERROR** </p>| <p style=\"color:green\">affiliation error: mpia.affiliation_verifications: 'Heidelberg' keyword not found.</p> |"
      ],
      "text/plain": [
       "<IPython.core.display.Markdown object>"
      ]
     },
     "metadata": {},
     "output_type": "display_data"
    },
    {
     "data": {
      "text/markdown": [
       "\n",
       "|||\n",
       "|---:|:---|\n",
       "| [![arXiv](https://img.shields.io/badge/arXiv-2502.16458-b31b1b.svg)](https://arxiv.org/abs/2502.16458) | **Transformer-based Approach for Accurate Asteroid Spectra taxonomy and albedo estimation**  |\n",
       "|| Y. Tang, et al. -- incl., <mark>X. Zhang</mark> |\n",
       "|*Appeared on*| *2025-02-25*|\n",
       "|*Comments*| **|\n",
       "|**Abstract**|            China plans to launch a probe (Tianwen-2) around 2025, mainly for exploring the near-Earth asteroid 2016 HO3 . The mission involves close-range exploration, landing, and mining operations that require three-dimensional modeling of the asteroid, which requires prior knowledge of its material composition and uniformity. This information is crucial in progressive or ground exploration processes. Our research focuses on high-precision intelligent inversion of complex physical properties of asteroids based on spectral data, providing support for further analysis of aster oid materials, density, and structure. We have developed a platform for asteroid spectral classification, albedo estimation, and composition analysis, which includes three types of neural networks based on Transformer attention mechanism: One for spectral classification, achieving a four-class classification accuracy of 97.28% and an eleven-class classification accuracy of 95.69%; second one for albedo estimation, with an average absolute error of 0.0308 in S-type asteroid albedo estimation, and the third one for composition analysis, with a predicted spectral angular distance of only 0.0340 and a root mean square error of 0.1759 for the abundance of end members. These results indicate that our network can provide high-precision asteroid spectral classification, albedo estimation, and composition analysis results. In addition, we utilized the platform to analyze and provide results for six asteroids.         |\n",
       "|<p style=\"color:green\"> **ERROR** </p>| <p style=\"color:green\">affiliation error: mpia.affiliation_verifications: 'Heidelberg' keyword not found.</p> |"
      ],
      "text/plain": [
       "<IPython.core.display.Markdown object>"
      ]
     },
     "metadata": {},
     "output_type": "display_data"
    },
    {
     "data": {
      "text/markdown": [
       "\n",
       "|||\n",
       "|---:|:---|\n",
       "| [![arXiv](https://img.shields.io/badge/arXiv-2502.16751-b31b1b.svg)](https://arxiv.org/abs/2502.16751) | **The MAGPI Survey: the kinematic morphology-density relation (or lack thereof) and the Hubble sequence at $z\\sim0.3$**  |\n",
       "|| C. Foster, et al. -- incl., <mark>S. Vaughan</mark> |\n",
       "|*Appeared on*| *2025-02-25*|\n",
       "|*Comments*| *23 pages, 19 figures, 3 tables, accepted for publication in PASA*|\n",
       "|**Abstract**|            This work presents visual morphological and dynamical classifications for 637 spatially resolved galaxies, most of which are at intermediate redshift ($z\\sim0.3$), in the Middle-Ages Galaxy Properties with Integral field spectroscopy (MAGPI) Survey. For each galaxy, we obtain a minimum of 11 independent visual classifications by knowledgeable classifiers. We use an extension of the standard Dawid-Skene bayesian model introducing classifier-specific confidence parameters and galaxy-specific difficulty parameters to quantify classifier confidence and infer reliable statistical confidence estimates. Selecting sub-samples of 86 bright ($r<20$ mag) high-confidence ($>0.98$) morphological classifications at redshifts ($0.2 \\le z \\le0.4$), we confirm the full range of morphological types is represented in MAGPI as intended in the survey design. Similarly, with a sub-sample of 82 bright high-confidence stellar kinematic classifications, we find that the rotating and non-rotating galaxies seen at low redshift are already in place at intermediate redshifts. We \\textit{do not} find evidence that the kinematic morphology-density relation seen at $z\\sim0$ is established at $z\\sim0.3$. We suggest that galaxies without obvious stellar rotation are dynamically pre-processed sometime before $z\\sim0.3$ within lower mass groups before joining denser environments.         |\n",
       "|<p style=\"color:green\"> **ERROR** </p>| <p style=\"color:green\">affiliation error: mpia.affiliation_verifications: 'Heidelberg' keyword not found.</p> |"
      ],
      "text/plain": [
       "<IPython.core.display.Markdown object>"
      ]
     },
     "metadata": {},
     "output_type": "display_data"
    },
    {
     "data": {
      "text/markdown": [
       "\n",
       "|||\n",
       "|---:|:---|\n",
       "| [![arXiv](https://img.shields.io/badge/arXiv-2502.16858-b31b1b.svg)](https://arxiv.org/abs/2502.16858) | **No Galaxy-Scale [CII] Fast Outflow in the z=6.72 Red Quasar HSC J1205$-$0000**  |\n",
       "|| M. Sawamura, et al. -- incl., <mark>K. Lee</mark> |\n",
       "|*Appeared on*| *2025-02-25*|\n",
       "|*Comments*| *15 pages, 6 figures, accepted for publication in ApJ*|\n",
       "|**Abstract**|            HSC 120505.09-000027.9 (J1205$-$0000) is one of the highest redshift ($z=6.72$) dust-reddened quasars (red quasars) known to date. We present an improved analysis of Atacama Large Millimeter/submillimeter Array data of the [CII] $158\\ \\rm{\\mu m}$ line and the underlying rest-frame far-infrared (FIR) continuum emission, previously reported in Izumi et al. (2021a), toward J1205$-$0000. Red quasars are thought to be a transitional phase from an obscured starburst to a luminous blue quasar, in some cases associated with massive outflows driven by the active galactic nucleus (AGN). J1205$-$0000 has a high FIR luminosity, $L_{\\mathrm{FIR}}=2.5\\times 10^{12}\\ L_{\\odot}$ and a total IR luminosity of $L_{\\mathrm{TIR}}=3.5\\times 10^{12}\\ L_{\\odot}$, corresponding to a star formation rate (SFR) of $\\sim 528\\ M_{\\odot}\\ \\mathrm{yr}^{-1}$. With the [CII]-based dynamical mass of $\\sim 1 \\times 10^{11}~M_\\odot$, we conclude that J1205$-$0000 is hosted by a starburst galaxy. In contradiction to Izumi et al. (2021a), our improved analysis shows no hint of a broad component in the [CII] line spectrum. Thus there is no evidence for a host galaxy-scale fast [CII] outflow, despite the fact that J1205$-$0000 has fast nuclear ionized outflows seen in the rest-frame UV. We explore several scenarios for this discrepancy (e.g., early phase of AGN feedback, reliability of the [CII] line as a tracer of outflows), and we claim that it is still too early to conclude that there is no significant negative AGN feedback on star formation in this red quasar.         |\n",
       "|<p style=\"color:green\"> **ERROR** </p>| <p style=\"color:green\">affiliation error: mpia.affiliation_verifications: 'Heidelberg' keyword not found.</p> |"
      ],
      "text/plain": [
       "<IPython.core.display.Markdown object>"
      ]
     },
     "metadata": {},
     "output_type": "display_data"
    }
   ],
   "source": [
    "import datetime\n",
    "today = str(datetime.date.today())\n",
    "logfile = f\"_build/html/logs/log-{today}.md\"\n",
    "\n",
    "\n",
    "with open(logfile, 'w') as logs:\n",
    "    # Success\n",
    "    logs.write(f'# Arxiv on Deck 2: Logs - {today}\\n\\n')\n",
    "    logs.write(\"\"\"* Arxiv had {0:,d} new papers\\n\"\"\".format(len(new_papers)))\n",
    "    logs.write(\"\"\"    * {0:,d} with possible author matches\\n\\n\"\"\".format(len(candidates)))\n",
    "    logs.write(\"## Sucessful papers\\n\\n\")\n",
    "    display(Markdown(\"## Successful papers\"))\n",
    "    success = [k[0] for k in documents]\n",
    "    for candid in candidates:\n",
    "        if candid['identifier'].split(':')[-1] in success:\n",
    "            display(candid)\n",
    "            logs.write(candid.generate_markdown_text() + '\\n\\n')\n",
    "\n",
    "    ## failed\n",
    "    logs.write(\"## Failed papers\\n\\n\")\n",
    "    display(Markdown(\"## Failed papers\"))\n",
    "    failed = sorted(failed, key=lambda x: x[1])\n",
    "    current_reason = \"\"\n",
    "    for paper, reason in failed:\n",
    "        if 'affiliation' in reason:\n",
    "            color = 'green'\n",
    "        else:\n",
    "            color = 'red'\n",
    "        data = Markdown(\n",
    "                paper.generate_markdown_text() + \n",
    "                f'\\n|<p style=\"color:{color:s}\"> **ERROR** </p>| <p style=\"color:{color:s}\">{reason:s}</p> |'\n",
    "               )\n",
    "        if reason != current_reason:\n",
    "            logs.write(f'### {reason:s} \\n\\n')\n",
    "            current_reason = reason\n",
    "        logs.write(data.data + '\\n\\n')\n",
    "        \n",
    "        # only display here the important errors (all in logs)\n",
    "        # if color in ('red',):\n",
    "        display(data)"
   ]
  },
  {
   "cell_type": "markdown",
   "id": "472d20ee",
   "metadata": {
    "papermill": {
     "duration": 0.00564,
     "end_time": "2025-02-25T04:14:49.144648",
     "exception": false,
     "start_time": "2025-02-25T04:14:49.139008",
     "status": "completed"
    },
    "tags": []
   },
   "source": [
    "## Export documents\n",
    "\n",
    "We now write the .md files and export relevant images"
   ]
  },
  {
   "cell_type": "code",
   "execution_count": 7,
   "id": "d426aed9",
   "metadata": {
    "execution": {
     "iopub.execute_input": "2025-02-25T04:14:49.157226Z",
     "iopub.status.busy": "2025-02-25T04:14:49.156656Z",
     "iopub.status.idle": "2025-02-25T04:14:49.163924Z",
     "shell.execute_reply": "2025-02-25T04:14:49.163244Z"
    },
    "papermill": {
     "duration": 0.014689,
     "end_time": "2025-02-25T04:14:49.165016",
     "exception": false,
     "start_time": "2025-02-25T04:14:49.150327",
     "status": "completed"
    },
    "tags": []
   },
   "outputs": [],
   "source": [
    "def export_markdown_summary(md: str, md_fname:str, directory: str):\n",
    "    \"\"\"Export MD document and associated relevant images\"\"\"\n",
    "    import os\n",
    "    import shutil\n",
    "    import re\n",
    "\n",
    "    if (os.path.exists(directory) and not os.path.isdir(directory)):\n",
    "        raise RuntimeError(f\"a non-directory file exists with name {directory:s}\")\n",
    "\n",
    "    if (not os.path.exists(directory)):\n",
    "        print(f\"creating directory {directory:s}\")\n",
    "        os.mkdir(directory)\n",
    "\n",
    "    fig_fnames = (re.compile(r'\\[Fig.*\\]\\((.*)\\)').findall(md) + \n",
    "                  re.compile(r'\\<img src=\"([^>\\s]*)\"[^>]*/>').findall(md))\n",
    "    print(\"found figures\", fig_fnames)\n",
    "    for fname in fig_fnames:\n",
    "        if 'http' in fname:\n",
    "            # No need to copy online figures\n",
    "            continue\n",
    "        if not os.path.exists(fname):\n",
    "            print(\"file not found\", fname)\n",
    "            continue\n",
    "        print(\"copying \", fname, \"to\", directory)\n",
    "        destdir = os.path.join(directory, os.path.dirname(fname))\n",
    "        destfname = os.path.join(destdir, os.path.basename(fname))\n",
    "        try:\n",
    "            os.makedirs(destdir)\n",
    "        except FileExistsError:\n",
    "            pass\n",
    "        shutil.copy(fname, destfname)\n",
    "    with open(os.path.join(directory, md_fname), 'w') as fout:\n",
    "        fout.write(md)\n",
    "    print(\"exported in \", os.path.join(directory, md_fname))\n",
    "    [print(\"    + \" + os.path.join(directory,fk)) for fk in fig_fnames]"
   ]
  },
  {
   "cell_type": "code",
   "execution_count": 8,
   "id": "014d04a4",
   "metadata": {
    "execution": {
     "iopub.execute_input": "2025-02-25T04:14:49.177601Z",
     "iopub.status.busy": "2025-02-25T04:14:49.177156Z",
     "iopub.status.idle": "2025-02-25T04:14:49.188428Z",
     "shell.execute_reply": "2025-02-25T04:14:49.187863Z"
    },
    "papermill": {
     "duration": 0.018561,
     "end_time": "2025-02-25T04:14:49.189427",
     "exception": false,
     "start_time": "2025-02-25T04:14:49.170866",
     "status": "completed"
    },
    "tags": []
   },
   "outputs": [
    {
     "name": "stdout",
     "output_type": "stream",
     "text": [
      "found figures ['tmp_2502.16018/./Figures/fig3.png', 'tmp_2502.16018/./Figures/fig1.png', 'tmp_2502.16018/./Figures/fig2.png']\n",
      "copying  tmp_2502.16018/./Figures/fig3.png to _build/html/\n",
      "copying  tmp_2502.16018/./Figures/fig1.png to _build/html/\n",
      "copying  tmp_2502.16018/./Figures/fig2.png to _build/html/\n",
      "exported in  _build/html/2502.16018.md\n",
      "    + _build/html/tmp_2502.16018/./Figures/fig3.png\n",
      "    + _build/html/tmp_2502.16018/./Figures/fig1.png\n",
      "    + _build/html/tmp_2502.16018/./Figures/fig2.png\n",
      "found figures ['tmp_2502.17319/./vel_struct_dist_trail_armSgr_stream_main.png', 'tmp_2502.17319/./target_selection.png', 'tmp_2502.17319/./resolving_power.png']\n",
      "copying  tmp_2502.17319/./vel_struct_dist_trail_armSgr_stream_main.png to _build/html/\n",
      "copying  tmp_2502.17319/./target_selection.png to _build/html/\n",
      "copying  tmp_2502.17319/./resolving_power.png to _build/html/\n",
      "exported in  _build/html/2502.17319.md\n",
      "    + _build/html/tmp_2502.17319/./vel_struct_dist_trail_armSgr_stream_main.png\n",
      "    + _build/html/tmp_2502.17319/./target_selection.png\n",
      "    + _build/html/tmp_2502.17319/./resolving_power.png\n"
     ]
    }
   ],
   "source": [
    "for paper_id, md in documents:\n",
    "    export_markdown_summary(md, f\"{paper_id:s}.md\", '_build/html/')"
   ]
  },
  {
   "cell_type": "markdown",
   "id": "f087a0a7",
   "metadata": {
    "papermill": {
     "duration": 0.005719,
     "end_time": "2025-02-25T04:14:49.201159",
     "exception": false,
     "start_time": "2025-02-25T04:14:49.195440",
     "status": "completed"
    },
    "tags": []
   },
   "source": [
    "## Display the papers\n",
    "\n",
    "Not necessary but allows for a quick check."
   ]
  },
  {
   "cell_type": "code",
   "execution_count": 9,
   "id": "fd25f625",
   "metadata": {
    "execution": {
     "iopub.execute_input": "2025-02-25T04:14:49.214394Z",
     "iopub.status.busy": "2025-02-25T04:14:49.213937Z",
     "iopub.status.idle": "2025-02-25T04:14:49.220182Z",
     "shell.execute_reply": "2025-02-25T04:14:49.219614Z"
    },
    "papermill": {
     "duration": 0.014016,
     "end_time": "2025-02-25T04:14:49.221214",
     "exception": false,
     "start_time": "2025-02-25T04:14:49.207198",
     "status": "completed"
    },
    "scrolled": false,
    "tags": []
   },
   "outputs": [
    {
     "data": {
      "text/markdown": [
       "<div class=\"macros\" style=\"visibility:hidden;\">\n",
       "$\\newcommand{\\ensuremath}{}$\n",
       "$\\newcommand{\\xspace}{}$\n",
       "$\\newcommand{\\object}[1]{\\texttt{#1}}$\n",
       "$\\newcommand{\\farcs}{{.}''}$\n",
       "$\\newcommand{\\farcm}{{.}'}$\n",
       "$\\newcommand{\\arcsec}{''}$\n",
       "$\\newcommand{\\arcmin}{'}$\n",
       "$\\newcommand{\\ion}[2]{#1#2}$\n",
       "$\\newcommand{\\textsc}[1]{\\textrm{#1}}$\n",
       "$\\newcommand{\\hl}[1]{\\textrm{#1}}$\n",
       "$\\newcommand{\\footnote}[1]{}$\n",
       "$\\newcommand{\\vdag}{(v)^\\dagger}$\n",
       "$\\newcommand$\n",
       "$\\newcommand$\n",
       "$\\newcommand{\\co}{\\ifmmode{\\mathrm{CO}} \\else CO\\fi}$\n",
       "$\\newcommand{\\coeighteen}{\\ifmmode{\\mathrm{C}^{18}\\mathrm{O}} \\else C^{18}O\\fi}$\n",
       "$\\newcommand{\\thirteenco}{\\ifmmode{^{13}\\mathrm{CO}} \\else ^{13}CO\\fi}$\n",
       "$\\newcommand{\\hdens}{\\ifmmode{n_{\\mathrm{H}_{2}}} \\else n_{\\mathrm{H}_{2}}\\fi}$\n",
       "$\\newcommand{\\hdensLog}{\\ifmmode{n_{0,\\mathrm{H}_{2}}} \\else n_{0,\\mathrm{H}_{2}}\\fi}$\n",
       "$\\newcommand{\\tkin}{\\ifmmode{\\mathrm{T}_{\\mathrm{kin}}} \\else \\mathrm{T}_{\\mathrm{kin}}\\fi}$\n",
       "$\\newcommand{\\coldens}{\\ifmmode{N_{\\mathrm{CO}}} \\else N_{\\mathrm{CO}}\\fi}$\n",
       "$\\newcommand{\\width}{\\ifmmode{\\sigma} \\else \\sigma \\fi}$\n",
       "$\\newcommand{\\xthirteen}{\\ifmmode{{X}_{12/13}} \\else {X}_{12/13}\\fi}$\n",
       "$\\newcommand{\\xeighteen}{\\ifmmode{{X}_{13/18}} \\else {X}_{13/18}\\fi}$\n",
       "$\\newcommand{\\hydrogen}{\\ifmmode{\\mathrm{H}_{2}} \\else H_{2}\\fi}$\n",
       "$\\newcommand{\\bff}{\\ifmmode{\\Phi} \\else \\Phi\\fi}$\n",
       "$\\newcommand{\\conv}{\\ifmmode{\\textrm{CO-to-H}_{2}}   \\else CO-to-H_2 \\fi}$\n",
       "$\\newcommand{\\alphaco}{\\ifmmode{\\alpha_{\\mathrm{CO}}}   \\else \\alpha_{\\mathrm{CO}} \\fi}$\n",
       "$\\newcommand{\\Princeton}{\\affiliation{Department of Astrophysical Sciences, Princeton University, 4 Ivy Lane, Princeton, NJ 08544, USA}}$\n",
       "$\\newcommand{\\McMaster}{\\affiliation{Department of Physics and Astronomy, McMaster University, 1280 Main Street West, Hamilton, ON L8S 4M1, Canada}}$\n",
       "$\\newcommand{\\CITA}{\\affiliation{Canadian Institute for Theoretical Astrophysics (CITA), University of Toronto, 60 St George Street, Toronto, ON M5S 3H8, Canada}}$\n",
       "$\\newcommand{\\OSU}{\\affiliation{Department of Astronomy, The Ohio State University, 140 West 18th Avenue, Columbus, OH 43210, USA}}$\n",
       "$\\newcommand{ÇAPP}{\\affiliation{Center for Cosmology and Astroparticle Physics (CCAPP), 191 West Woodruff Avenue, Columbus, OH 43210, USA}}$\n",
       "$\\newcommand{\\Alberta}{\\affiliation{Department of Physics, University of Alberta, Edmonton, AB T6G 2E1, Canada}}$\n",
       "$\\newcommand{\\Cologne}{\\affiliation{I. Physikalisches Institut der Universität zu Köln, Zülpicher Straße 77, 50937, Köln, Germany}}$\n",
       "$\\newcommand{\\ANU}{\\affiliation{Research School of Astronomy and Astrophysics, Australian National University, Canberra, ACT 2611, Australia}}$\n",
       "$\\newcommand{\\Arizona}{\\affiliation{Steward Observatory, University of Arizona, 933 North Cherry Avenue, Tucson, AZ 85721, USA}}$\n",
       "$\\newcommand{\\ASIAA}{\\affiliation{Institute of Astronomy and Astrophysics, Academia Sinica, No. 1, Sec. 4, Roosevelt Road, Taipei 106216, Taiwan}}$\n",
       "$\\newcommand{\\ASTROThreeD}{\\affiliation{ARC Centre of Excellence for All Sky Astrophysics in 3 Dimensions (ASTRO 3D), Australia}}$\n",
       "$\\newcommand{\\Bonn}{\\affiliation{Argelander-Institut für Astronomie, Universität Bonn, Auf dem Hügel 71, 53121 Bonn, Germany}}$\n",
       "$\\newcommand{\\Carnegie}{\\affiliation{Observatories of the Carnegie Institution for Science, 813 Santa Barbara Street, Pasadena, CA 91101, USA}}$\n",
       "$\\newcommand{ÇA}{\\affiliation{Center for Computational Astrophysics, Flatiron Institute, 162 Fifth Avenue, New York, NY 10010, USA}}$\n",
       "$\\newcommand{\\CfA}{\\affiliation{Center for Astrophysics \\mid Harvard \\& Smithsonian, 60 Garden Street, Cambridge, MA 02138, USA}}$\n",
       "$\\newcommand{\\CITEVA}{\\affiliation{Centro de Astronomía (CITEVA), Universidad de Antofagasta, Avenida Angamos 601, Antofagasta, Chile}}$\n",
       "$\\newcommand{\\CNRS}{\\affiliation{CNRS, IRAP, 9 Av. du Colonel Roche, BP 44346, F-31028 Toulouse cedex 4, France}}$\n",
       "$\\newcommand{\\Connecticut}{\\affiliation{Department of Physics, University of Connecticut, 196A Auditorium Road, Storrs, CT 06269, USA}}$\n",
       "$\\newcommand{\\COOL}{\\affiliation{Cosmic Origins Of Life (COOL) Research DAO, coolresearch.io}}$\n",
       "$\\newcommand{\\EPFL}{\\affiliation{Institute of Physics, Laboratory for galaxy evolution and spectral modelling, EPFL, Observatoire de Sauverny, Chemin Pegais 51, 1290 Versoix, Switzerland}}$\n",
       "$\\newcommand{\\ESO}{\\affiliation{European Southern Observatory, Karl-Schwarzschild Stra{\\ss}e 2, D-85748 Garching bei München, Germany}}$\n",
       "$\\newcommand{\\Gent}{\\affiliation{Sterrenkundig Observatorium, Universiteit Gent, Krijgslaan 281 S9, B-9000 Gent, Belgium}}$\n",
       "$\\newcommand{\\Hawaii}{\\affiliation{Institute for Astronomy, University of Hawaii, 2680 Woodlawn Drive, Honolulu, HI 96822, USA}}$\n",
       "$\\newcommand{\\Heidelberg}{\\affiliation{Astronomisches Rechen-Institut, Zentrum für Astronomie der Universität Heidelberg, Mönchhofstra\\ss e 12-14, D-69120 Heidelberg, Germany}}$\n",
       "$\\newcommand{\\IAC}{\\affiliation{Instituto de Astrofísica de Canarias, C/ Vía Láctea s/n, E-38205, La Laguna, Spain}}$\n",
       "$\\newcommand{\\ICRAR}{\\affiliation{International Centre for Radio Astronomy Research, University of Western Australia, 35 Stirling Highway, Crawley, WA 6009, Australia}}$\n",
       "$\\newcommand{\\INAF}{\\affiliation{INAF -- Osservatorio Astrofisico di Arcetri, Largo E. Fermi 5, I-50157, Firenze, Italy}}$\n",
       "$\\newcommand{\\IPAC}{\\affiliation{Caltech-IPAC, 1200 E. California Blvd. Pasadena, CA 91125, USA}}$\n",
       "$\\newcommand{\\IPARC}{\\affiliation{Instituto de Física de Partículas y del Cosmos IPARCOS, Facultad de Ciencias Físicas, Universidad Complutense de Madrid, E-28040, Spain}}$\n",
       "$\\newcommand{\\IRAM}{\\affiliation{Institut de Radioastronomie Millimétrique (IRAM), 300 Rue de la Piscine, F-38406 Saint Martin d'Hères, France}}$\n",
       "$\\newcommand{\\ITA}{\\affiliation{Universität Heidelberg, Zentrum für Astronomie, Institut für Theoretische Astrophysik, Albert-Ueberle-Str 2, D-69120 Heidelberg, Germany}}$\n",
       "$\\newcommand{\\IWR}{\\affiliation{Universität Heidelberg, Interdisziplinäres Zentrum für Wissenschaftliches Rechnen, Im Neuenheimer Feld 205, D-69120 Heidelberg, Germany}}$\n",
       "$\\newcommand{\\JHU}{\\affiliation{Department of Physics and Astronomy, The Johns Hopkins University, Baltimore, MD 21218, USA}}$\n",
       "$\\newcommand{\\Kansas}{\\affiliation{Department of Physics and Astronomy, University of Kansas, 1251 Wescoe Hall Drive, Lawrence, KS 66045, USA}}$\n",
       "$\\newcommand{\\LAM}{\\affiliation{Aix Marseille Univ, CNRS, CNES, LAM (Laboratoire d’Astrophysique de Marseille), Marseille, France}}$\n",
       "$\\newcommand{\\Leiden}{\\affiliation{Leiden Observatory, Leiden University, P.O. Box 9513, 2300 RA Leiden, The Netherlands}}$\n",
       "$\\newcommand{\\Liverpool}{\\affiliation{Astrophysics Research Institute, Liverpool John Moores University, IC2, Liverpool Science Park, 146 Brownlow Hill, Liverpool L3 5RF, UK}}$\n",
       "$\\newcommand{\\Lyon}{\\affiliation{Univ Lyon, Univ Lyon 1, ENS de Lyon, CNRS, Centre de Recherche Astrophysique de Lyon UMR5574, F-69230 Saint-Genis-Laval, France}}$\n",
       "$\\newcommand{\\Maryland}{\\affiliation{Department of Astronomy and Joint Space-Science Institute, University of Maryland, 4296 Stadium Drive, College Park, MD 20742, USA}}$\n",
       "$\\newcommand{\\UMarry}{\\affiliation{Department of Astronomy, University of Maryland, 4296 Stadium Drive, College Park, MD 20742, USA}}$\n",
       "$\\newcommand{\\Yebes}{\\affiliation{Centro de Desarrollos Tecnológicos, Observatorio de Yebes (IGN), 19141 Yebes, Guadalajara, Spain}}$\n",
       "$\\newcommand{\\MPE}{\\affiliation{Max-Planck-Institut für extraterrestrische Physik, Giessenbachstra{\\ss}e 1, D-85748 Garching, Germany}}$\n",
       "$\\newcommand{\\MPIA}{\\affiliation{Max-Planck-Institut für Astronomie, Königstuhl 17, D-69117, Heidelberg, Germany}}$\n",
       "$\\newcommand{\\Nagoya}{\\affiliation{Department of Physics, Nagoya University, Furo-cho, Chikusa-ku, Nagoya, Aichi 464-8602, Japan}}$\n",
       "$\\newcommand{\\NAOJ}{\\affil{National Astronomical Observatory of Japan, 2-21-1 Osawa, Mitaka, Tokyo, 181-8588, Japan}}$\n",
       "$\\newcommand{\\Nichidai}{\\affil{Department of Physics, General Studies, College of Engineering, Nihon University, 1 Nakagawara, Tokusada, Tamuramachi, Koriyama, Fukushima, 963-8642, Japan}}$\n",
       "$\\newcommand{\\NRAO}{\\affiliation{National Radio Astronomy Observatory, 520 Edgemont Road, Charlottesville, VA 22903, USA}}$\n",
       "$\\newcommand{\\OAN}{\\affiliation{Observatorio Astronómico Nacional (IGN), C/Alfonso XII, 3, E-28014 Madrid, Spain}}$\n",
       "$\\newcommand{\\ObsParis}{\\affiliation{Sorbonne Université, Observatoire de Paris, Université PSL, CNRS, LERMA, F-75014, Paris, France}}$\n",
       "$\\newcommand{\\Oxford}{\\affiliation{Sub-department of Astrophysics, Department of Physics, University of Oxford, Keble Road, Oxford OX1 3RH, UK}}$\n",
       "$\\newcommand{\\Rutgers}{\\affiliation{Department of Physics and Astronomy, Rutgers, the State University of New Jersey, 136 Frelinghuysen Road, Piscataway, NJ 08854, USA}}$\n",
       "$\\newcommand{\\STScI}{\\affiliation{Space Telescope Science Institute, 3700 San Martin Drive, Baltimore, MD 21218, USA}}$\n",
       "$\\newcommand{\\STScIESA}{\\affiliation{AURA for the European Space Agency (ESA), Space Telescope Science Institute, 3700 San Martin Drive, Baltimore, MD 21218, USA}}$\n",
       "$\\newcommand{\\Surrey}{\\affiliation{Department of Physics, University of Surrey, Guildford GU2 7XH, UK}}$\n",
       "$\\newcommand{\\Sydney}{\\affiliation{Sydney Institute for Astronomy, School of Physics A28, The University of Sydney, NSW 2006, Australia}}$\n",
       "$\\newcommand{\\TAPIR}{\\affil{TAPIR, California Institute of Technology, Pasadena, CA 91125, USA}}$\n",
       "$\\newcommand{\\Tamkang}{\\affiliation{Department of Physics, Tamkang University, No.151, Yingzhuan Rd., Tamsui Dist., New Taipei City 251301, Taiwan}}$\n",
       "$\\newcommand{\\Toulouse}{\\affiliation{Université de Toulouse, UPS-OMP, IRAP, F-31028 Toulouse cedex 4, France}}$\n",
       "$\\newcommand{\\Toledo}{\\affiliation{University of Toledo, 2801 W. Bancroft St., Mail Stop 111, Toledo, OH 43606, USA}}$\n",
       "$\\newcommand{\\UChile}{\\affiliation{Departamento de Astronomía, Universidad de Chile, Camino del Observatorio 1515, Las Condes, Santiago, Chile}}$\n",
       "$\\newcommand{\\UCM}{\\affiliation{Departamento de Física de la Tierra y Astrofísica, Universidad Complutense de Madrid, E-28040, Spain}}$\n",
       "$\\newcommand{\\UCSD}{\\affiliation{Center for Astrophysics and Space Sciences, Department of Physics,  University of California, San Diego, 9500 Gilman Drive, La Jolla, CA 92093, USA}}$\n",
       "$\\newcommand{\\ULL}{\\affiliation{Departamento de Astrofísica, Universidad de La Laguna, Av. del Astrofísico Francisco Sánchez s/n, E-38206, La Laguna, Spain}}$\n",
       "$\\newcommand{\\UMass}{\\affiliation{University of Massachusetts—Amherst, 710 North Pleasant Street, Amherst, MA 01003, USA}}$\n",
       "$\\newcommand{\\UVa}{\\affiliation{University of Virginia, 530 McCormick Road, Charlottesville, VA 22904, USA}}$\n",
       "$\\newcommand{\\Wyoming}{\\affiliation{Department of Physics and Astronomy, University of Wyoming, Laramie, WY 82071, USA}}$\n",
       "$\\newcommand{\\Zurich}{\\affiliation{Institute for Computational Science, University of Zürich, Winterthurerstrasse 190, 8057 Zürich, Switzerland}}$\n",
       "$\\newcommand{\\Lund}{\\affiliation{Lund Observatory, Division of Astrophysics, Department of Physics, Lund University, Box 43, SE-221 00 Lund, Sweden}}$\n",
       "$\\newcommand{\\Rad}{\\affiliation{Radcliffe Institute for Advanced Studies at Harvard University, 10 Garden Street, Cambridge, MA 02138, U.S.A.}}$\n",
       "$\\newcommand{\\Phillips}{\\affiliation{Phillips Academy, Andover, MA 01810, USA}}$</div>\n",
       "\n",
       "\n",
       "\n",
       "<div id=\"title\">\n",
       "\n",
       "# Application of resolved low-$J$ multi-CO line modeling with \\texttt{RADEX} to constrain the molecular gas properties in the starburst M82\n",
       "\n",
       "</div>\n",
       "<div id=\"comments\">\n",
       "\n",
       "[![arXiv](https://img.shields.io/badge/arXiv-2502.16018-b31b1b.svg)](https://arxiv.org/abs/2502.16018)<mark>Appeared on: 2025-02-25</mark> -  _14 pages, 6 figures, accepted for publication in ApJ_\n",
       "\n",
       "</div>\n",
       "<div id=\"authors\">\n",
       "\n",
       "V. Zhang, et al. -- incl., <mark>F. Walter</mark>\n",
       "\n",
       "</div>\n",
       "<div id=\"abstract\">\n",
       "\n",
       "**Abstract:** The distribution and physical conditions of molecular gas are closely linked to star formation and the subsequent evolution of galaxies. Emission from carbon monoxide (CO) and its isotopologues traces the bulk of molecular gas and provides constraints on the physical conditions through their line ratios. However, comprehensive understanding on how the particular choice of line modeling approach impacts derived molecular properties remain incomplete. Here, we study the nearby starburst galaxy M82, known for its intense star formation and molecular emission, using the large set of available multi-CO line observations. We present high-resolution ( ${\\sim}85$ pc) emission of seven CO isotopologue lines, including $^{12}$ CO, $^{13}$ CO, and C $^{18}$ O from the $J = 1-0$ , $2-1$ and $3-2$ transitions. Using \\texttt{RADEX} for radiative transfer modeling, we analyze M82’s molecular properties with (i) a one-zone model and (ii) a variable density model, comparing observed and simulated emissions via a minimum $\\chi^2$ analysis. We find that inferred gas conditions—kinetic temperature and density—are consistent across models, with minimal statistical differences. However, due to their low critical densities ( ${<}10^{4}$ cm $^{-3}$ ), low- $J$ CO isotopologue lines do not effectively probe higher density gas prevalent in starburst environments like that of M82. Our results further imply that this limitation extends to high-redshift ( $z{\\gtrapprox}1$ ) galaxies with similar conditions, where low- $J$ CO lines are inadequate for density constraints. Future studies of extreme star-forming regions like M82 will require higher- $J$ CO lines or alternative molecular tracers with higher critical densities.\n",
       "\n",
       "</div>\n",
       "\n",
       "<div id=\"div_fig1\">\n",
       "\n",
       "<img src=\"tmp_2502.16018/./Figures/fig3.png\" alt=\"Fig3\" width=\"100%\"/>\n",
       "\n",
       "**Figure 3. -** ** Histogram of 1DMax fitted parameters for $\\xthirteen$, $\\xeighteen$, $\\coldens$, and $\\tkin$ from both models.** We plot histograms of 1DMax fitted parameters, with the one-zone model (red) and the log-normal density model  (blue). The vertical dotted line is the median of the 1DMax values. In the horizontal markers above, we plot the weighted 16$^{\\rm th}$-to-84$^{\\rm th}$ percentile range from our results, from results found in \\cite{Teng2023} for nearby barred galaxies, and from \\citet{denBrok2024_M51} for M51. (*fig:overlayhist*)\n",
       "\n",
       "</div>\n",
       "<div id=\"div_fig2\">\n",
       "\n",
       "<img src=\"tmp_2502.16018/./Figures/fig1.png\" alt=\"Fig1\" width=\"100%\"/>\n",
       "\n",
       "**Figure 1. -** ** Optical image, CO Isotopologue Emission and Moment 0 images of M82.** On the top left, we present an optical image of M82. On the top right, we plot emission spectra for two pixels in the center regions of the galaxy. Note that we scale emission from $\\thirteenco$ and $\\coeighteen$ for visibility purposes. On the lower panel, we present the (1--0) and (2--1) energy transitions from each of the isotopologues $\\co$, $\\thirteenco$, and $\\co$eighteen. \\ Credit for M82 optical Image: NASA, ESA and the Hubble Heritage Team (STScI/AURA). Acknowledgment: J. Gallagher (University of Wisconsin), M. Mountain (STScI) and P. Puxley (NSF). (*fig:spectramom0*)\n",
       "\n",
       "</div>\n",
       "<div id=\"div_fig3\">\n",
       "\n",
       "<img src=\"tmp_2502.16018/./Figures/fig2.png\" alt=\"Fig2\" width=\"100%\"/>\n",
       "\n",
       "**Figure 2. -** ** Marginalized 1D and 2D likelihood distributions from a bright central pixel.** The red (left) corner plot is derived from our one-zone model, and the blue (right) corner plot is derived from our log-normal model. The map in the middle depicts the integrated intensity with one sightline circled from which the two corner plots are generated. (*fig:bothcorner*)\n",
       "\n",
       "</div><div id=\"qrcode\"><img src=https://api.qrserver.com/v1/create-qr-code/?size=100x100&data=\"https://arxiv.org/abs/2502.16018\"></div>"
      ],
      "text/plain": [
       "<IPython.core.display.Markdown object>"
      ]
     },
     "metadata": {},
     "output_type": "display_data"
    },
    {
     "data": {
      "text/markdown": [
       "<div class=\"macros\" style=\"visibility:hidden;\">\n",
       "$\\newcommand{\\ensuremath}{}$\n",
       "$\\newcommand{\\xspace}{}$\n",
       "$\\newcommand{\\object}[1]{\\texttt{#1}}$\n",
       "$\\newcommand{\\farcs}{{.}''}$\n",
       "$\\newcommand{\\farcm}{{.}'}$\n",
       "$\\newcommand{\\arcsec}{''}$\n",
       "$\\newcommand{\\arcmin}{'}$\n",
       "$\\newcommand{\\ion}[2]{#1#2}$\n",
       "$\\newcommand{\\textsc}[1]{\\textrm{#1}}$\n",
       "$\\newcommand{\\hl}[1]{\\textrm{#1}}$\n",
       "$\\newcommand{\\footnote}[1]{}$\n",
       "$\\newcommand$\n",
       "$\\newcommand$\n",
       "$\\newcommand$</div>\n",
       "\n",
       "\n",
       "\n",
       "<div id=\"title\">\n",
       "\n",
       "# A Pristine-UNIONS view on the Galaxy: Kinematics of the         distant spur feature of the Sagittarius stream traced by Blue         Horizontal Branch stars\n",
       "\n",
       "</div>\n",
       "<div id=\"comments\">\n",
       "\n",
       "[![arXiv](https://img.shields.io/badge/arXiv-2502.17319-b31b1b.svg)](https://arxiv.org/abs/2502.17319)<mark>Appeared on: 2025-02-25</mark> -  _21 pages, 12 figures, submitted to A&A, abridged abstract_\n",
       "\n",
       "</div>\n",
       "<div id=\"authors\">\n",
       "\n",
       "M. Bayer, et al. -- incl., <mark>N. Martin</mark>\n",
       "\n",
       "</div>\n",
       "<div id=\"abstract\">\n",
       "\n",
       "**Abstract:** Providing a detailed picture of the Sagittarius (Sgr) stream offers   important constraints on the build-up of the Galactic halo as well   as its gravitational potential at large radii. While several   attempts have been made to model the structure of the Sgr stream, no   model has yet been able to match all the features observed for the   stream. Moreover, for several of these features, observational   characterisation of their properties is rather limited, particularly   at large distances. The aim of this work is to investigate the kinematics of the Sgr   stream outermost spur feature using blue horizontal branch (BHB)   stars. Candidate BHB stars were selected by combining two approaches; one   capitalising on Pan-STARRS1 3 $\\Pi$ _griz_ and _u_ photometry taken as part of UNIONS, the other using Pristine Survey _CaHK_ and SDSS _ugr_ photometry. Follow-up optical   spectra are obtained using ESO/VLT/FORS2 to confirm their BHB nature   and obtain line-of-sight (LOS) velocities. Of our 25 candidates, 20 stars can be confirmed as bona fide BHB   stars. Their LOS velocities, together with the 3D positions of these   stars qualitatively match well with Sgr model predictions and trace   the outer apocentre of the trailing arm and its spur feature very   nicely. The quantitative offsets that are found between our data and   the different models can be used to provide information about the   Galactic gravitational potential at large distances. We present a   first, tentative, analysis in this direction, showing that the model   of vasiliev_et_al2021 would provide better agreement with our   observations if the   enclosed mass of the Milky Way within 100 kpc   were lowered to $(5.3\\!\\pm\\!0.4)\\!\\times\\!10^{11} \\mathrm{M}_\\odot   \\left(\\text{versus} (5.6\\!\\pm\\!0.4)\\!\\times\\!10^{11}    \\mathrm{M}_\\odot\\right)$ . Our selection of BHB stars provides a new view on the outermost   structure in 3D positions and LOS velocities of the Sgr debris.\n",
       "\n",
       "</div>\n",
       "\n",
       "<div id=\"div_fig1\">\n",
       "\n",
       "<img src=\"tmp_2502.17319/./vel_struct_dist_trail_armSgr_stream_main.png\" alt=\"Fig11\" width=\"100%\"/>\n",
       "\n",
       "**Figure 11. -** Comparison of the observational data on the LOS velocities\n",
       "             in the Galactic Standard of Rest of the BHB stars (diamonds\n",
       "             and stars) and predictions from the\n",
       "             dierickx_loeb2017(lightgreyish points) and\n",
       "             vasiliev_et_al2021 without (darkgreyish points)\n",
       "             and with LMC (orange points) models in the same angular\n",
       "             range across the stream. Left panel: big diamond markers\n",
       "             indicate LOS velocities in Galactic Standard of Rest of BHB\n",
       "             stars estimated with \\lowercase{RVSpecFit} from\n",
       "             the FORS2 spectra. Right panel: stars represent the same\n",
       "             velocities with an applied shift as reported in Figs.\n",
       "             \\ref{fig:comparison_los_vel_estimates_vel_sts_main}\n",
       "             and\n",
       "             \\ref{\n",
       "               fig:comparison_los_vel_estimates_vel_sts_appendix\n",
       "             }.\n",
       "             The plot shows also the position of globular cluster\n",
       "             NGC 2419 (filled circle) in this projection of phase\n",
       "             space. The LOS velocity of NGC 2419 comes from\n",
       "             vasiliev_baumgardt2021 assuming also the right\n",
       "             ascension and declination provided in the\n",
       "             vasiliev_baumgardt2021 catalogue while we use the\n",
       "             heliocentric distance of NGC 2419 from\n",
       "             baumgardt_vasiliev2021. (*fig:dist_sgr_stream_vel_struct_main*)\n",
       "\n",
       "</div>\n",
       "<div id=\"div_fig2\">\n",
       "\n",
       "<img src=\"tmp_2502.17319/./target_selection.png\" alt=\"Fig10\" width=\"100%\"/>\n",
       "\n",
       "**Figure 10. -** An overview of the target stars in multiple colour-colour\n",
       "  \t         spaces is shown. Data were gathered from multiple sources.\n",
       "             These are: the Panoramic Survey Telescope and Rapid\n",
       "             Response System 1 3$\\Pi$ survey Data Release 2\n",
       "              (ps1,  magnier_et_al2020) ,\n",
       "             the Canada-France Imaging Survey, the Sloan Digital Sky\n",
       "             Survey Data Release 18  (sdss_dr18) , and\n",
       "             the Pristine Survey  (starkenburg_et_al2017) . The\n",
       "             candidate BHB stars in our sample are colour-coded\n",
       "             according to the number of their id given in\n",
       "             \\autoref{tab:cand_bhb_stars}. The background stars come\n",
       "             from two samples. The pink markers are blue straggler\n",
       "             stars from the xue_et_al2008 set while the brown\n",
       "             symbols represent BHB stars from the xue_et_al2011\n",
       "             dataset. (*fig:target_selection*)\n",
       "\n",
       "</div>\n",
       "<div id=\"div_fig3\">\n",
       "\n",
       "<img src=\"tmp_2502.17319/./resolving_power.png\" alt=\"Fig12\" width=\"100%\"/>\n",
       "\n",
       "**Figure 12. -** VLT/FORS2/600B+22 grism resolving power trends across\n",
       "               detector for gathered data of arc-lamps at\n",
       "               different observation times for the two used slit\n",
       "               configurations. (*fig:vlt_fors2_600b22_resolving_power_trend*)\n",
       "\n",
       "</div><div id=\"qrcode\"><img src=https://api.qrserver.com/v1/create-qr-code/?size=100x100&data=\"https://arxiv.org/abs/2502.17319\"></div>"
      ],
      "text/plain": [
       "<IPython.core.display.Markdown object>"
      ]
     },
     "metadata": {},
     "output_type": "display_data"
    }
   ],
   "source": [
    "[display(Markdown(k[1])) for k in documents];"
   ]
  },
  {
   "cell_type": "markdown",
   "id": "873873a4",
   "metadata": {
    "papermill": {
     "duration": 0.006492,
     "end_time": "2025-02-25T04:14:49.233997",
     "exception": false,
     "start_time": "2025-02-25T04:14:49.227505",
     "status": "completed"
    },
    "tags": []
   },
   "source": [
    "# Create HTML index"
   ]
  },
  {
   "cell_type": "code",
   "execution_count": 10,
   "id": "cf665672",
   "metadata": {
    "execution": {
     "iopub.execute_input": "2025-02-25T04:14:49.247610Z",
     "iopub.status.busy": "2025-02-25T04:14:49.247165Z",
     "iopub.status.idle": "2025-02-25T04:14:49.256555Z",
     "shell.execute_reply": "2025-02-25T04:14:49.255984Z"
    },
    "papermill": {
     "duration": 0.017308,
     "end_time": "2025-02-25T04:14:49.257541",
     "exception": false,
     "start_time": "2025-02-25T04:14:49.240233",
     "status": "completed"
    },
    "tags": []
   },
   "outputs": [
    {
     "name": "stdout",
     "output_type": "stream",
     "text": [
      "342  publications files modified in the last 7 days.\n"
     ]
    }
   ],
   "source": [
    "from datetime import datetime, timedelta, timezone\n",
    "from glob import glob\n",
    "import os\n",
    "\n",
    "files = glob('_build/html/*.md')\n",
    "days = 7\n",
    "now = datetime.today()\n",
    "res = []\n",
    "for fk in files:\n",
    "    stat_result = os.stat(fk).st_ctime\n",
    "    modified = datetime.fromtimestamp(stat_result, tz=timezone.utc).replace(tzinfo=None)\n",
    "    delta = now.today() - modified\n",
    "    if delta <= timedelta(days=days):\n",
    "        res.append((delta.seconds, fk))\n",
    "res = [k[1] for k in reversed(sorted(res, key=lambda x:x[1]))]\n",
    "npub = len(res)\n",
    "print(len(res), f\" publications files modified in the last {days:d} days.\")\n",
    "# [ print('\\t', k) for k in res ];"
   ]
  },
  {
   "cell_type": "code",
   "execution_count": 11,
   "id": "015de740",
   "metadata": {
    "execution": {
     "iopub.execute_input": "2025-02-25T04:14:49.271597Z",
     "iopub.status.busy": "2025-02-25T04:14:49.271140Z",
     "iopub.status.idle": "2025-02-25T04:14:49.291191Z",
     "shell.execute_reply": "2025-02-25T04:14:49.290615Z"
    },
    "papermill": {
     "duration": 0.028235,
     "end_time": "2025-02-25T04:14:49.292308",
     "exception": false,
     "start_time": "2025-02-25T04:14:49.264073",
     "status": "completed"
    },
    "tags": []
   },
   "outputs": [
    {
     "name": "stdout",
     "output_type": "stream",
     "text": [
      "8  publications in the last 7 days.\n"
     ]
    }
   ],
   "source": [
    "import datetime\n",
    "from glob import glob\n",
    "\n",
    "def get_last_n_days(lst, days=1):\n",
    "    \"\"\" Get the documents from the last n days \"\"\"\n",
    "    sorted_lst = sorted(lst, key=lambda x: x[1], reverse=True)\n",
    "    for fname, date in sorted_lst:\n",
    "        if date >= str(datetime.date.today() - datetime.timedelta(days=days)):\n",
    "            yield fname\n",
    "\n",
    "def extract_appearance_dates(lst_file):\n",
    "    dates = []\n",
    "\n",
    "    def get_date(line):\n",
    "        return line\\\n",
    "            .split('Appeared on:')[-1]\\\n",
    "            .split('</mark>')[0].strip()\n",
    "\n",
    "    for fname in lst:\n",
    "        with open(fname, 'r') as f:\n",
    "            found_date = False\n",
    "            for line in f:\n",
    "                if not found_date:\n",
    "                    if \"Appeared on\" in line:\n",
    "                        found_date = True\n",
    "                        dates.append((fname, get_date(line)))\n",
    "                else:\n",
    "                    break\n",
    "    return dates\n",
    "\n",
    "from glob import glob\n",
    "lst = glob('_build/html/*md')\n",
    "days = 7\n",
    "dates = extract_appearance_dates(lst)\n",
    "res = list(get_last_n_days(dates, days))\n",
    "npub = len(res)\n",
    "print(len(res), f\" publications in the last {days:d} days.\")"
   ]
  },
  {
   "cell_type": "code",
   "execution_count": 12,
   "id": "52ca0208",
   "metadata": {
    "execution": {
     "iopub.execute_input": "2025-02-25T04:14:49.306683Z",
     "iopub.status.busy": "2025-02-25T04:14:49.306255Z",
     "iopub.status.idle": "2025-02-25T04:14:49.311334Z",
     "shell.execute_reply": "2025-02-25T04:14:49.310813Z"
    },
    "papermill": {
     "duration": 0.013411,
     "end_time": "2025-02-25T04:14:49.312408",
     "exception": false,
     "start_time": "2025-02-25T04:14:49.298997",
     "status": "completed"
    },
    "scrolled": false,
    "tags": []
   },
   "outputs": [],
   "source": [
    "def create_carousel(npub=4):\n",
    "    \"\"\" Generate the HTML code for a carousel with `npub` slides \"\"\"\n",
    "    carousel = [\"\"\"  <div class=\"carousel\" \"\"\",\n",
    "                \"\"\"       data-flickity='{ \"autoPlay\": 10000, \"adaptiveHeight\": true, \"resize\": true, \"wrapAround\": true, \"pauseAutoPlayOnHover\": true, \"groupCells\": 1 }' id=\"asyncTypeset\">\"\"\"\n",
    "                ]\n",
    "    \n",
    "    item_str = \"\"\"    <div class=\"carousel-cell\"> <div id=\"slide{k}\" class=\"md_view\">Content {k}</div> </div>\"\"\"\n",
    "    for k in range(1, npub + 1):\n",
    "        carousel.append(item_str.format(k=k))\n",
    "    carousel.append(\"  </div>\")\n",
    "    return '\\n'.join(carousel)\n",
    "\n",
    "def create_grid(npub=4):\n",
    "    \"\"\" Generate the HTML code for a flat grid with `npub` slides \"\"\"\n",
    "    grid = [\"\"\"  <div class=\"grid\"> \"\"\",\n",
    "                ]\n",
    "    \n",
    "    item_str = \"\"\"    <div class=\"grid-item\"> <div id=\"slide{k}\" class=\"md_view\">Content {k}</div> </div>\"\"\"\n",
    "    for k in range(1, npub + 1):\n",
    "        grid.append(item_str.format(k=k))\n",
    "    grid.append(\"  </div>\")\n",
    "    return '\\n'.join(grid)"
   ]
  },
  {
   "cell_type": "code",
   "execution_count": 13,
   "id": "a6eac5b6",
   "metadata": {
    "execution": {
     "iopub.execute_input": "2025-02-25T04:14:49.326444Z",
     "iopub.status.busy": "2025-02-25T04:14:49.326238Z",
     "iopub.status.idle": "2025-02-25T04:14:49.331488Z",
     "shell.execute_reply": "2025-02-25T04:14:49.330958Z"
    },
    "papermill": {
     "duration": 0.013358,
     "end_time": "2025-02-25T04:14:49.332449",
     "exception": false,
     "start_time": "2025-02-25T04:14:49.319091",
     "status": "completed"
    },
    "scrolled": false,
    "tags": []
   },
   "outputs": [],
   "source": [
    "carousel = create_carousel(npub)\n",
    "docs = ', '.join(['\"{0:s}\"'.format(k.split('/')[-1]) for k in res])\n",
    "slides = ', '.join([f'\"slide{k}\"' for k in range(1, npub + 1)])\n",
    "\n",
    "with open(\"daily_template.html\", \"r\") as tpl:\n",
    "    page = tpl.read()\n",
    "    page = page.replace(\"{%-- carousel:s --%}\", carousel)\\\n",
    "               .replace(\"{%-- suptitle:s --%}\",  \"7-day archives\" )\\\n",
    "               .replace(\"{%-- docs:s --%}\", docs)\\\n",
    "               .replace(\"{%-- slides:s --%}\", slides)\n",
    "    \n",
    "with open(\"_build/html/index_7days.html\", 'w') as fout:\n",
    "    fout.write(page)"
   ]
  },
  {
   "cell_type": "code",
   "execution_count": 14,
   "id": "adc1a1ec",
   "metadata": {
    "execution": {
     "iopub.execute_input": "2025-02-25T04:14:49.346629Z",
     "iopub.status.busy": "2025-02-25T04:14:49.346159Z",
     "iopub.status.idle": "2025-02-25T04:14:49.353085Z",
     "shell.execute_reply": "2025-02-25T04:14:49.352533Z"
    },
    "papermill": {
     "duration": 0.015103,
     "end_time": "2025-02-25T04:14:49.354141",
     "exception": false,
     "start_time": "2025-02-25T04:14:49.339038",
     "status": "completed"
    },
    "tags": []
   },
   "outputs": [
    {
     "name": "stdout",
     "output_type": "stream",
     "text": [
      "3  publications in the last day.\n"
     ]
    }
   ],
   "source": [
    "# redo for today\n",
    "days = 1\n",
    "res = list(get_last_n_days(dates, days))\n",
    "npub = len(res)\n",
    "print(len(res), f\" publications in the last day.\")\n",
    "\n",
    "carousel = create_carousel(npub)\n",
    "docs = ', '.join(['\"{0:s}\"'.format(k.split('/')[-1]) for k in res])\n",
    "slides = ', '.join([f'\"slide{k}\"' for k in range(1, npub + 1)])\n",
    "\n",
    "with open(\"daily_template.html\", \"r\") as tpl:\n",
    "    page = tpl.read()\n",
    "    page = page.replace(\"{%-- carousel:s --%}\", carousel)\\\n",
    "               .replace(\"{%-- suptitle:s --%}\",  \"Daily\" )\\\n",
    "               .replace(\"{%-- docs:s --%}\", docs)\\\n",
    "               .replace(\"{%-- slides:s --%}\", slides)\n",
    "    \n",
    "# print(carousel, docs, slides)\n",
    "# print(page)\n",
    "with open(\"_build/html/index_daily.html\", 'w') as fout:\n",
    "    fout.write(page)"
   ]
  },
  {
   "cell_type": "code",
   "execution_count": 15,
   "id": "00eece82",
   "metadata": {
    "execution": {
     "iopub.execute_input": "2025-02-25T04:14:49.368484Z",
     "iopub.status.busy": "2025-02-25T04:14:49.368063Z",
     "iopub.status.idle": "2025-02-25T04:14:49.374965Z",
     "shell.execute_reply": "2025-02-25T04:14:49.374304Z"
    },
    "papermill": {
     "duration": 0.01532,
     "end_time": "2025-02-25T04:14:49.376079",
     "exception": false,
     "start_time": "2025-02-25T04:14:49.360759",
     "status": "completed"
    },
    "scrolled": false,
    "tags": []
   },
   "outputs": [
    {
     "name": "stdout",
     "output_type": "stream",
     "text": [
      "6  6 publications selected.\n"
     ]
    }
   ],
   "source": [
    "# Create the flat grid of the last N papers (fixed number regardless of dates)\n",
    "from itertools import islice \n",
    "\n",
    "npub = 6\n",
    "res = [k[0] for k in (islice(reversed(sorted(dates, key=lambda x: x[1])), 6))]\n",
    "print(len(res), f\" {npub} publications selected.\")\n",
    "\n",
    "grid = create_grid(npub)\n",
    "docs = ', '.join(['\"{0:s}\"'.format(k.split('/')[-1]) for k in res])\n",
    "slides = ', '.join([f'\"slide{k}\"' for k in range(1, npub + 1)])\n",
    "\n",
    "with open(\"grid_template.html\", \"r\") as tpl:\n",
    "    page = tpl.read()\n",
    "    page = page.replace(\"{%-- grid-content:s --%}\", grid)\\\n",
    "               .replace(\"{%-- suptitle:s --%}\",  f\"Last {npub:,d} papers\" )\\\n",
    "               .replace(\"{%-- docs:s --%}\", docs)\\\n",
    "               .replace(\"{%-- slides:s --%}\", slides)\n",
    "    \n",
    "# print(grid, docs, slides)\n",
    "# print(page)\n",
    "with open(\"_build/html/index_npub_grid.html\", 'w') as fout:\n",
    "    fout.write(page)"
   ]
  }
 ],
 "metadata": {
  "kernelspec": {
   "display_name": "Python 3 (ipykernel)",
   "language": "python",
   "name": "python3"
  },
  "language_info": {
   "codemirror_mode": {
    "name": "ipython",
    "version": 3
   },
   "file_extension": ".py",
   "mimetype": "text/x-python",
   "name": "python",
   "nbconvert_exporter": "python",
   "pygments_lexer": "ipython3",
   "version": "3.9.21"
  },
  "papermill": {
   "default_parameters": {},
   "duration": 230.510569,
   "end_time": "2025-02-25T04:14:49.598759",
   "environment_variables": {},
   "exception": null,
   "input_path": "MPIA daily digest.ipynb",
   "output_path": "log.ipynb",
   "parameters": {},
   "start_time": "2025-02-25T04:10:59.088190",
   "version": "2.6.0"
  },
  "vscode": {
   "interpreter": {
    "hash": "aee8b7b246df8f9039afb4144a1f6fd8d2ca17a180786b69acc140d282b71a49"
   }
  },
  "widgets": {
   "application/vnd.jupyter.widget-state+json": {
    "state": {
     "0a6fdf5144f544d49c275f71ff63483a": {
      "model_module": "@jupyter-widgets/controls",
      "model_module_version": "2.0.0",
      "model_name": "ProgressStyleModel",
      "state": {
       "_model_module": "@jupyter-widgets/controls",
       "_model_module_version": "2.0.0",
       "_model_name": "ProgressStyleModel",
       "_view_count": null,
       "_view_module": "@jupyter-widgets/base",
       "_view_module_version": "2.0.0",
       "_view_name": "StyleView",
       "bar_color": null,
       "description_width": ""
      }
     },
     "3c1988f47a564edf8d2e7fb541e3e7a0": {
      "model_module": "@jupyter-widgets/controls",
      "model_module_version": "2.0.0",
      "model_name": "HTMLModel",
      "state": {
       "_dom_classes": [],
       "_model_module": "@jupyter-widgets/controls",
       "_model_module_version": "2.0.0",
       "_model_name": "HTMLModel",
       "_view_count": null,
       "_view_module": "@jupyter-widgets/controls",
       "_view_module_version": "2.0.0",
       "_view_name": "HTMLView",
       "description": "",
       "description_allow_html": false,
       "layout": "IPY_MODEL_cded808ca54c4637bc458e65823c64b3",
       "placeholder": "​",
       "style": "IPY_MODEL_a7b0a2c3e0ad48e4bfbbb72d98bd0944",
       "tabbable": null,
       "tooltip": null,
       "value": "100%"
      }
     },
     "3c2bc5d8a31e4025be52271b94b03c4c": {
      "model_module": "@jupyter-widgets/controls",
      "model_module_version": "2.0.0",
      "model_name": "HBoxModel",
      "state": {
       "_dom_classes": [],
       "_model_module": "@jupyter-widgets/controls",
       "_model_module_version": "2.0.0",
       "_model_name": "HBoxModel",
       "_view_count": null,
       "_view_module": "@jupyter-widgets/controls",
       "_view_module_version": "2.0.0",
       "_view_name": "HBoxView",
       "box_style": "",
       "children": [
        "IPY_MODEL_3c1988f47a564edf8d2e7fb541e3e7a0",
        "IPY_MODEL_5b66da691413434894ab463b23d9fd5e",
        "IPY_MODEL_620c0b3096c64d9ebf57dc6ec239bfcb"
       ],
       "layout": "IPY_MODEL_682f05044563414686e833069f4c85fd",
       "tabbable": null,
       "tooltip": null
      }
     },
     "5b66da691413434894ab463b23d9fd5e": {
      "model_module": "@jupyter-widgets/controls",
      "model_module_version": "2.0.0",
      "model_name": "FloatProgressModel",
      "state": {
       "_dom_classes": [],
       "_model_module": "@jupyter-widgets/controls",
       "_model_module_version": "2.0.0",
       "_model_name": "FloatProgressModel",
       "_view_count": null,
       "_view_module": "@jupyter-widgets/controls",
       "_view_module_version": "2.0.0",
       "_view_name": "ProgressView",
       "bar_style": "success",
       "description": "",
       "description_allow_html": false,
       "layout": "IPY_MODEL_c94ce14be55f4c1d8412ec5dfaf6ee51",
       "max": 8.0,
       "min": 0.0,
       "orientation": "horizontal",
       "style": "IPY_MODEL_0a6fdf5144f544d49c275f71ff63483a",
       "tabbable": null,
       "tooltip": null,
       "value": 8.0
      }
     },
     "620c0b3096c64d9ebf57dc6ec239bfcb": {
      "model_module": "@jupyter-widgets/controls",
      "model_module_version": "2.0.0",
      "model_name": "HTMLModel",
      "state": {
       "_dom_classes": [],
       "_model_module": "@jupyter-widgets/controls",
       "_model_module_version": "2.0.0",
       "_model_name": "HTMLModel",
       "_view_count": null,
       "_view_module": "@jupyter-widgets/controls",
       "_view_module_version": "2.0.0",
       "_view_name": "HTMLView",
       "description": "",
       "description_allow_html": false,
       "layout": "IPY_MODEL_db95261031fc495083017ff1b30461b1",
       "placeholder": "​",
       "style": "IPY_MODEL_dbc2291f45df426d99f8d5790ef90f48",
       "tabbable": null,
       "tooltip": null,
       "value": " 8/8 [03:23&lt;00:00, 19.24s/it]"
      }
     },
     "682f05044563414686e833069f4c85fd": {
      "model_module": "@jupyter-widgets/base",
      "model_module_version": "2.0.0",
      "model_name": "LayoutModel",
      "state": {
       "_model_module": "@jupyter-widgets/base",
       "_model_module_version": "2.0.0",
       "_model_name": "LayoutModel",
       "_view_count": null,
       "_view_module": "@jupyter-widgets/base",
       "_view_module_version": "2.0.0",
       "_view_name": "LayoutView",
       "align_content": null,
       "align_items": null,
       "align_self": null,
       "border_bottom": null,
       "border_left": null,
       "border_right": null,
       "border_top": null,
       "bottom": null,
       "display": null,
       "flex": null,
       "flex_flow": null,
       "grid_area": null,
       "grid_auto_columns": null,
       "grid_auto_flow": null,
       "grid_auto_rows": null,
       "grid_column": null,
       "grid_gap": null,
       "grid_row": null,
       "grid_template_areas": null,
       "grid_template_columns": null,
       "grid_template_rows": null,
       "height": null,
       "justify_content": null,
       "justify_items": null,
       "left": null,
       "margin": null,
       "max_height": null,
       "max_width": null,
       "min_height": null,
       "min_width": null,
       "object_fit": null,
       "object_position": null,
       "order": null,
       "overflow": null,
       "padding": null,
       "right": null,
       "top": null,
       "visibility": null,
       "width": null
      }
     },
     "a7b0a2c3e0ad48e4bfbbb72d98bd0944": {
      "model_module": "@jupyter-widgets/controls",
      "model_module_version": "2.0.0",
      "model_name": "HTMLStyleModel",
      "state": {
       "_model_module": "@jupyter-widgets/controls",
       "_model_module_version": "2.0.0",
       "_model_name": "HTMLStyleModel",
       "_view_count": null,
       "_view_module": "@jupyter-widgets/base",
       "_view_module_version": "2.0.0",
       "_view_name": "StyleView",
       "background": null,
       "description_width": "",
       "font_size": null,
       "text_color": null
      }
     },
     "c94ce14be55f4c1d8412ec5dfaf6ee51": {
      "model_module": "@jupyter-widgets/base",
      "model_module_version": "2.0.0",
      "model_name": "LayoutModel",
      "state": {
       "_model_module": "@jupyter-widgets/base",
       "_model_module_version": "2.0.0",
       "_model_name": "LayoutModel",
       "_view_count": null,
       "_view_module": "@jupyter-widgets/base",
       "_view_module_version": "2.0.0",
       "_view_name": "LayoutView",
       "align_content": null,
       "align_items": null,
       "align_self": null,
       "border_bottom": null,
       "border_left": null,
       "border_right": null,
       "border_top": null,
       "bottom": null,
       "display": null,
       "flex": null,
       "flex_flow": null,
       "grid_area": null,
       "grid_auto_columns": null,
       "grid_auto_flow": null,
       "grid_auto_rows": null,
       "grid_column": null,
       "grid_gap": null,
       "grid_row": null,
       "grid_template_areas": null,
       "grid_template_columns": null,
       "grid_template_rows": null,
       "height": null,
       "justify_content": null,
       "justify_items": null,
       "left": null,
       "margin": null,
       "max_height": null,
       "max_width": null,
       "min_height": null,
       "min_width": null,
       "object_fit": null,
       "object_position": null,
       "order": null,
       "overflow": null,
       "padding": null,
       "right": null,
       "top": null,
       "visibility": null,
       "width": null
      }
     },
     "cded808ca54c4637bc458e65823c64b3": {
      "model_module": "@jupyter-widgets/base",
      "model_module_version": "2.0.0",
      "model_name": "LayoutModel",
      "state": {
       "_model_module": "@jupyter-widgets/base",
       "_model_module_version": "2.0.0",
       "_model_name": "LayoutModel",
       "_view_count": null,
       "_view_module": "@jupyter-widgets/base",
       "_view_module_version": "2.0.0",
       "_view_name": "LayoutView",
       "align_content": null,
       "align_items": null,
       "align_self": null,
       "border_bottom": null,
       "border_left": null,
       "border_right": null,
       "border_top": null,
       "bottom": null,
       "display": null,
       "flex": null,
       "flex_flow": null,
       "grid_area": null,
       "grid_auto_columns": null,
       "grid_auto_flow": null,
       "grid_auto_rows": null,
       "grid_column": null,
       "grid_gap": null,
       "grid_row": null,
       "grid_template_areas": null,
       "grid_template_columns": null,
       "grid_template_rows": null,
       "height": null,
       "justify_content": null,
       "justify_items": null,
       "left": null,
       "margin": null,
       "max_height": null,
       "max_width": null,
       "min_height": null,
       "min_width": null,
       "object_fit": null,
       "object_position": null,
       "order": null,
       "overflow": null,
       "padding": null,
       "right": null,
       "top": null,
       "visibility": null,
       "width": null
      }
     },
     "db95261031fc495083017ff1b30461b1": {
      "model_module": "@jupyter-widgets/base",
      "model_module_version": "2.0.0",
      "model_name": "LayoutModel",
      "state": {
       "_model_module": "@jupyter-widgets/base",
       "_model_module_version": "2.0.0",
       "_model_name": "LayoutModel",
       "_view_count": null,
       "_view_module": "@jupyter-widgets/base",
       "_view_module_version": "2.0.0",
       "_view_name": "LayoutView",
       "align_content": null,
       "align_items": null,
       "align_self": null,
       "border_bottom": null,
       "border_left": null,
       "border_right": null,
       "border_top": null,
       "bottom": null,
       "display": null,
       "flex": null,
       "flex_flow": null,
       "grid_area": null,
       "grid_auto_columns": null,
       "grid_auto_flow": null,
       "grid_auto_rows": null,
       "grid_column": null,
       "grid_gap": null,
       "grid_row": null,
       "grid_template_areas": null,
       "grid_template_columns": null,
       "grid_template_rows": null,
       "height": null,
       "justify_content": null,
       "justify_items": null,
       "left": null,
       "margin": null,
       "max_height": null,
       "max_width": null,
       "min_height": null,
       "min_width": null,
       "object_fit": null,
       "object_position": null,
       "order": null,
       "overflow": null,
       "padding": null,
       "right": null,
       "top": null,
       "visibility": null,
       "width": null
      }
     },
     "dbc2291f45df426d99f8d5790ef90f48": {
      "model_module": "@jupyter-widgets/controls",
      "model_module_version": "2.0.0",
      "model_name": "HTMLStyleModel",
      "state": {
       "_model_module": "@jupyter-widgets/controls",
       "_model_module_version": "2.0.0",
       "_model_name": "HTMLStyleModel",
       "_view_count": null,
       "_view_module": "@jupyter-widgets/base",
       "_view_module_version": "2.0.0",
       "_view_name": "StyleView",
       "background": null,
       "description_width": "",
       "font_size": null,
       "text_color": null
      }
     }
    },
    "version_major": 2,
    "version_minor": 0
   }
  }
 },
 "nbformat": 4,
 "nbformat_minor": 5
}