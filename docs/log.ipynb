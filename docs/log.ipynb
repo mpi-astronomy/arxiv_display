{
 "cells": [
  {
   "cell_type": "markdown",
   "id": "92bcb855",
   "metadata": {
    "papermill": {
     "duration": 0.003846,
     "end_time": "2025-03-28T04:12:01.784824",
     "exception": false,
     "start_time": "2025-03-28T04:12:01.780978",
     "status": "completed"
    },
    "tags": []
   },
   "source": [
    "# MPIA Arxiv on Deck 2\n",
    "\n",
    "Contains the steps to produce the paper extractions."
   ]
  },
  {
   "cell_type": "code",
   "execution_count": 1,
   "id": "3a0d6e11",
   "metadata": {
    "execution": {
     "iopub.execute_input": "2025-03-28T04:12:01.792579Z",
     "iopub.status.busy": "2025-03-28T04:12:01.792078Z",
     "iopub.status.idle": "2025-03-28T04:12:02.144119Z",
     "shell.execute_reply": "2025-03-28T04:12:02.143465Z"
    },
    "papermill": {
     "duration": 0.357261,
     "end_time": "2025-03-28T04:12:02.145438",
     "exception": false,
     "start_time": "2025-03-28T04:12:01.788177",
     "status": "completed"
    },
    "tags": []
   },
   "outputs": [],
   "source": [
    "# Imports\n",
    "import os\n",
    "from IPython.display import Markdown, display\n",
    "from tqdm.notebook import tqdm\n",
    "import warnings\n",
    "from PIL import Image \n",
    "import re\n",
    "\n",
    "# requires arxiv_on_deck_2\n",
    "\n",
    "from arxiv_on_deck_2.arxiv2 import (get_new_papers, \n",
    "                                    get_paper_from_identifier,\n",
    "                                    retrieve_document_source, \n",
    "                                    get_markdown_badge)\n",
    "from arxiv_on_deck_2 import (latex,\n",
    "                             latex_bib,\n",
    "                             mpia,\n",
    "                             highlight_authors_in_list)\n",
    "\n",
    "# Sometimes images are really big\n",
    "Image.MAX_IMAGE_PIXELS = 1000000000 "
   ]
  },
  {
   "cell_type": "code",
   "execution_count": 2,
   "id": "22aa9d44",
   "metadata": {
    "execution": {
     "iopub.execute_input": "2025-03-28T04:12:02.153440Z",
     "iopub.status.busy": "2025-03-28T04:12:02.152854Z",
     "iopub.status.idle": "2025-03-28T04:12:02.161201Z",
     "shell.execute_reply": "2025-03-28T04:12:02.160634Z"
    },
    "papermill": {
     "duration": 0.013497,
     "end_time": "2025-03-28T04:12:02.162274",
     "exception": false,
     "start_time": "2025-03-28T04:12:02.148777",
     "status": "completed"
    },
    "tags": []
   },
   "outputs": [],
   "source": [
    "# Some useful definitions.\n",
    "\n",
    "class AffiliationWarning(UserWarning):\n",
    "    pass\n",
    "\n",
    "class AffiliationError(RuntimeError):\n",
    "    pass\n",
    "\n",
    "def validation(source: str):\n",
    "    \"\"\"Raises error paper during parsing of source file\n",
    "    \n",
    "    Allows checks before parsing TeX code.\n",
    "    \n",
    "    Raises AffiliationWarning\n",
    "    \"\"\"\n",
    "    check = mpia.affiliation_verifications(source, verbose=True)\n",
    "    if check is not True:\n",
    "        raise AffiliationError(\"mpia.affiliation_verifications: \" + check)\n",
    "\n",
    "        \n",
    "warnings.simplefilter('always', AffiliationWarning)\n",
    "\n",
    "\n",
    "def get_markdown_qrcode(paper_id: str):\n",
    "    \"\"\" Generate a qrcode to the arxiv page using qrserver.com\n",
    "    \n",
    "    :param paper: Arxiv paper\n",
    "    :returns: markdown text\n",
    "    \"\"\"\n",
    "    url = r\"https://api.qrserver.com/v1/create-qr-code/?size=100x100&data=\"\n",
    "    txt = f\"\"\"<img src={url}\"https://arxiv.org/abs/{paper_id}\">\"\"\"\n",
    "    txt = '<div id=\"qrcode\">' + txt + '</div>'\n",
    "    return txt\n",
    "\n",
    "\n",
    "def clean_non_western_encoded_characters_commands(text: str) -> str:\n",
    "    \"\"\" Remove non-western encoded characters from a string\n",
    "    List may need to grow.\n",
    "    \n",
    "    :param text: the text to clean\n",
    "    :return: the cleaned text\n",
    "    \"\"\"\n",
    "    text = re.sub(r\"(\\\\begin{CJK}{UTF8}{gbsn})(.*?)(\\\\end{CJK})\", r\"\\2\", text)\n",
    "    return text\n",
    "\n",
    "\n",
    "def get_initials(name: str) -> str:\n",
    "    \"\"\" Get the short name, e.g., A.-B. FamName\n",
    "    :param name: full name\n",
    "    :returns: initials\n",
    "    \"\"\"\n",
    "    initials = []\n",
    "    # account for non western names often in ()\n",
    "    if '(' in name:\n",
    "        name = clean_non_western_encoded_characters_commands(name)\n",
    "        suffix = re.findall(r\"\\((.*?)\\)\", name)[0]\n",
    "        name = name.replace(f\"({suffix})\", '')\n",
    "    else:\n",
    "        suffix = ''\n",
    "    split = name.split()\n",
    "    for token in split[:-1]:\n",
    "        if '-' in token:\n",
    "            current = '-'.join([k[0] + '.' for k in token.split('-')])\n",
    "        else:\n",
    "            current = token[0] + '.'\n",
    "        initials.append(current)\n",
    "    initials.append(split[-1].strip())\n",
    "    if suffix:\n",
    "        initials.append(f\"({suffix})\")\n",
    "    return ' '.join(initials)"
   ]
  },
  {
   "cell_type": "markdown",
   "id": "14bd6310",
   "metadata": {
    "papermill": {
     "duration": 0.002981,
     "end_time": "2025-03-28T04:12:02.168456",
     "exception": false,
     "start_time": "2025-03-28T04:12:02.165475",
     "status": "completed"
    },
    "tags": []
   },
   "source": [
    "## get list of arxiv paper candidates\n",
    "\n",
    "We use the MPIA mitarbeiter list webpage from mpia.de to get author names\n",
    "We then get all new papers from Arxiv and match authors"
   ]
  },
  {
   "cell_type": "code",
   "execution_count": 3,
   "id": "7ea813a8",
   "metadata": {
    "execution": {
     "iopub.execute_input": "2025-03-28T04:12:02.176063Z",
     "iopub.status.busy": "2025-03-28T04:12:02.175493Z",
     "iopub.status.idle": "2025-03-28T04:12:22.149945Z",
     "shell.execute_reply": "2025-03-28T04:12:22.149232Z"
    },
    "papermill": {
     "duration": 19.979935,
     "end_time": "2025-03-28T04:12:22.151454",
     "exception": false,
     "start_time": "2025-03-28T04:12:02.171519",
     "status": "completed"
    },
    "tags": []
   },
   "outputs": [],
   "source": [
    "# deal with the author list and edge cases of people that cannot be consistent on their name  \n",
    "\n",
    "def filter_non_scientists(name: str) -> bool:\n",
    "    \"\"\" Loose filter on expected authorships\n",
    "\n",
    "    removing IT, administration, technical staff\n",
    "    :param name: name\n",
    "    :returns: False if name is not a scientist\n",
    "    \"\"\"\n",
    "    remove_list = ['Licht', 'Binroth', 'Witzel', 'Jordan',\n",
    "                   'Zähringer', 'Scheerer', 'Hoffmann', 'Düe',\n",
    "                   'Hellmich', 'Enkler-Scharpegge', 'Witte-Nguy',\n",
    "                   'Dehen', 'Beckmann', 'Jager', 'Jäger'\n",
    "                  ]\n",
    "\n",
    "    for k in remove_list:\n",
    "        if k in name:\n",
    "            return False\n",
    "    return True\n",
    "\n",
    "def add_author_to_list(author_list: list) -> list:\n",
    "    \"\"\" Add author to list if not already in list\n",
    "    \n",
    "    :param author: author name\n",
    "    :param author_list: list of authors\n",
    "    :returns: updated list of authors\n",
    "    \"\"\"\n",
    "    add_list = ['T. Henning']\n",
    "\n",
    "    for author in add_list:\n",
    "        if author not in author_list:\n",
    "            author_list.append(author)\n",
    "    return author_list\n",
    "\n",
    "# get list from MPIA website\n",
    "# filter for non-scientists (mpia.get_mpia_mitarbeiter_list() does some filtering)\n",
    "mpia_authors = [k[1] for k in mpia.get_mpia_mitarbeiter_list() if filter_non_scientists(k[1])]\n",
    "# add some missing author because of inconsistencies in their MPIA name and author name on papers\n",
    "mpia_authors = add_author_to_list(mpia_authors)"
   ]
  },
  {
   "cell_type": "code",
   "execution_count": 4,
   "id": "2645e73a",
   "metadata": {
    "execution": {
     "iopub.execute_input": "2025-03-28T04:12:22.159093Z",
     "iopub.status.busy": "2025-03-28T04:12:22.158553Z",
     "iopub.status.idle": "2025-03-28T04:12:22.916938Z",
     "shell.execute_reply": "2025-03-28T04:12:22.916231Z"
    },
    "papermill": {
     "duration": 0.763136,
     "end_time": "2025-03-28T04:12:22.917969",
     "exception": false,
     "start_time": "2025-03-28T04:12:22.154833",
     "status": "completed"
    },
    "tags": []
   },
   "outputs": [
    {
     "name": "stdout",
     "output_type": "stream",
     "text": [
      "A. Pillepich  ->  A. Pillepich  |  ['A. Pillepich']\n",
      "J. Neumann  ->  J. Neumann  |  ['J. Neumann']\n",
      "J. Baier  ->  J. Baier  |  ['J. Baier']\n",
      "X. Zhang  ->  X. Zhang  |  ['X. Zhang']\n"
     ]
    },
    {
     "name": "stdout",
     "output_type": "stream",
     "text": [
      "P. Mollière  ->  P. Mollière  |  ['P. Mollière']\n",
      "K. Jahnke  ->  K. Jahnke  |  ['K. Jahnke']\n",
      "L. Xie  ->  Z.-L. Xie  |  ['L. Xie']\n",
      "X. Zhang  ->  X. Zhang  |  ['X. Zhang']\n",
      "Arxiv has 79 new papers today\n",
      "          8 with possible author matches\n"
     ]
    }
   ],
   "source": [
    "new_papers = get_new_papers()\n",
    "# add manual references\n",
    "add_paper_refs = []\n",
    "new_papers.extend([get_paper_from_identifier(k) for k in add_paper_refs])\n",
    "\n",
    "def robust_call(fn, value, *args, **kwargs):\n",
    "    try:\n",
    "        return fn(value, *args, **kwargs)\n",
    "    except Exception:\n",
    "        return value\n",
    "\n",
    "candidates = []\n",
    "for paperk in new_papers:\n",
    "    # Check author list with their initials\n",
    "    normed_author_list = [robust_call(mpia.get_initials, k) for k in paperk['authors']]\n",
    "    hl_authors = highlight_authors_in_list(normed_author_list, mpia_authors, verbose=True)\n",
    "    matches = [(hl, orig) for hl, orig in zip(hl_authors, paperk['authors']) if 'mark' in hl]\n",
    "    paperk['authors'] = hl_authors\n",
    "    if matches:\n",
    "        # only select paper if an author matched our list\n",
    "        candidates.append(paperk)\n",
    "print(\"\"\"Arxiv has {0:,d} new papers today\"\"\".format(len(new_papers)))        \n",
    "print(\"\"\"          {0:,d} with possible author matches\"\"\".format(len(candidates)))"
   ]
  },
  {
   "cell_type": "markdown",
   "id": "3543b34a",
   "metadata": {
    "papermill": {
     "duration": 0.004392,
     "end_time": "2025-03-28T04:12:22.925986",
     "exception": false,
     "start_time": "2025-03-28T04:12:22.921594",
     "status": "completed"
    },
    "tags": []
   },
   "source": [
    "# Parse sources and generate relevant outputs\n",
    "\n",
    "From the candidates, we do the following steps:\n",
    "* get their tarball from ArXiv (and extract data)\n",
    "* find the main .tex file: find one with \\documentclass{...} (sometimes it's non trivial)\n",
    "* Check affiliations with :func:`validation`, which uses :func:`mpia.affiliation_verifications`\n",
    "* If passing the affiliations: we parse the .tex source\n",
    "   * inject sub-documents into the main (flatten the main document)\n",
    "   * parse structure, extract information (title, abstract, authors, figures...)\n",
    "   * handles `\\graphicspath` if provided\n",
    "* Generate the .md document."
   ]
  },
  {
   "cell_type": "code",
   "execution_count": 5,
   "id": "9576b79e",
   "metadata": {
    "execution": {
     "iopub.execute_input": "2025-03-28T04:12:22.933897Z",
     "iopub.status.busy": "2025-03-28T04:12:22.933333Z",
     "iopub.status.idle": "2025-03-28T04:14:43.625290Z",
     "shell.execute_reply": "2025-03-28T04:14:43.624597Z"
    },
    "papermill": {
     "duration": 140.697127,
     "end_time": "2025-03-28T04:14:43.626316",
     "exception": false,
     "start_time": "2025-03-28T04:12:22.929189",
     "status": "completed"
    },
    "scrolled": false,
    "tags": []
   },
   "outputs": [
    {
     "data": {
      "application/vnd.jupyter.widget-view+json": {
       "model_id": "dcd254e542e847b7a64ec0febd09cb28",
       "version_major": 2,
       "version_minor": 0
      },
      "text/plain": [
       "  0%|          | 0/8 [00:00<?, ?it/s]"
      ]
     },
     "metadata": {},
     "output_type": "display_data"
    },
    {
     "name": "stdout",
     "output_type": "stream",
     "text": [
      "Retrieving document from  https://arxiv.org/e-print/2503.20857\n",
      "extracting tarball to tmp_2503.20857..."
     ]
    },
    {
     "name": "stdout",
     "output_type": "stream",
     "text": [
      " done.\n"
     ]
    },
    {
     "name": "stderr",
     "output_type": "stream",
     "text": [
      "/opt/hostedtoolcache/Python/3.9.21/x64/lib/python3.9/site-packages/IPython/core/interactiveshell.py:3550: LatexWarning: Multiple tex files.\n",
      "\n",
      "  exec(code_obj, self.user_global_ns, self.user_ns)\n",
      "/opt/hostedtoolcache/Python/3.9.21/x64/lib/python3.9/site-packages/IPython/core/interactiveshell.py:3550: LatexWarning: Found documentclass in tmp_2503.20857/ICL_Squad_2.tex\n",
      "\n",
      "  exec(code_obj, self.user_global_ns, self.user_ns)\n",
      "/opt/hostedtoolcache/Python/3.9.21/x64/lib/python3.9/site-packages/arxiv_on_deck_2/latex.py:414: LatexWarning: Latex injecting: 'style/packages' from 'tmp_2503.20857/style/packages.tex'\n",
      "  warnings.warn(LatexWarning(f\"Latex injecting: '{ext}' from '{subsource}'\"))\n",
      "/opt/hostedtoolcache/Python/3.9.21/x64/lib/python3.9/site-packages/arxiv_on_deck_2/latex.py:414: LatexWarning: Latex injecting: 'style/settings' from 'tmp_2503.20857/style/settings.tex'\n",
      "  warnings.warn(LatexWarning(f\"Latex injecting: '{ext}' from '{subsource}'\"))\n"
     ]
    },
    {
     "name": "stdout",
     "output_type": "stream",
     "text": [
      "A. Pillepich  ->  A. Pillepich  |  ['A. Pillepich']\n"
     ]
    },
    {
     "name": "stdout",
     "output_type": "stream",
     "text": [
      "Found 195 bibliographic references in tmp_2503.20857/ICL_Squad_2.bbl.\n",
      "Issues with the citations\n",
      "syntax error in line 1334: '=' expected\n",
      "Retrieving document from  https://arxiv.org/e-print/2503.20864\n"
     ]
    },
    {
     "name": "stdout",
     "output_type": "stream",
     "text": [
      "extracting tarball to tmp_2503.20864..."
     ]
    },
    {
     "name": "stdout",
     "output_type": "stream",
     "text": [
      " done.\n"
     ]
    },
    {
     "name": "stderr",
     "output_type": "stream",
     "text": [
      "/opt/hostedtoolcache/Python/3.9.21/x64/lib/python3.9/site-packages/IPython/core/interactiveshell.py:3550: LatexWarning: Multiple tex files.\n",
      "\n",
      "  exec(code_obj, self.user_global_ns, self.user_ns)\n",
      "/opt/hostedtoolcache/Python/3.9.21/x64/lib/python3.9/site-packages/IPython/core/interactiveshell.py:3550: LatexWarning: Found documentclass in tmp_2503.20864/main.tex\n",
      "\n",
      "  exec(code_obj, self.user_global_ns, self.user_ns)\n",
      "/opt/hostedtoolcache/Python/3.9.21/x64/lib/python3.9/site-packages/arxiv_on_deck_2/latex.py:414: LatexWarning: Latex injecting: 'sections/appendix' from 'tmp_2503.20864/sections/appendix.tex'\n",
      "  warnings.warn(LatexWarning(f\"Latex injecting: '{ext}' from '{subsource}'\"))\n",
      "/opt/hostedtoolcache/Python/3.9.21/x64/lib/python3.9/site-packages/arxiv_on_deck_2/latex.py:414: LatexWarning: Latex injecting: 'sections/6_Conclusions' from 'tmp_2503.20864/sections/6_Conclusions.tex'\n",
      "  warnings.warn(LatexWarning(f\"Latex injecting: '{ext}' from '{subsource}'\"))\n",
      "/opt/hostedtoolcache/Python/3.9.21/x64/lib/python3.9/site-packages/arxiv_on_deck_2/latex.py:414: LatexWarning: Latex injecting: 'sections/5_Discussion' from 'tmp_2503.20864/sections/5_Discussion.tex'\n",
      "  warnings.warn(LatexWarning(f\"Latex injecting: '{ext}' from '{subsource}'\"))\n",
      "/opt/hostedtoolcache/Python/3.9.21/x64/lib/python3.9/site-packages/arxiv_on_deck_2/latex.py:414: LatexWarning: Latex injecting: 'sections/4_Results' from 'tmp_2503.20864/sections/4_Results.tex'\n",
      "  warnings.warn(LatexWarning(f\"Latex injecting: '{ext}' from '{subsource}'\"))\n",
      "/opt/hostedtoolcache/Python/3.9.21/x64/lib/python3.9/site-packages/arxiv_on_deck_2/latex.py:414: LatexWarning: Latex injecting: 'sections/3_Methodology' from 'tmp_2503.20864/sections/3_Methodology.tex'\n",
      "  warnings.warn(LatexWarning(f\"Latex injecting: '{ext}' from '{subsource}'\"))\n",
      "/opt/hostedtoolcache/Python/3.9.21/x64/lib/python3.9/site-packages/arxiv_on_deck_2/latex.py:414: LatexWarning: Latex injecting: 'sections/2_Sample' from 'tmp_2503.20864/sections/2_Sample.tex'\n",
      "  warnings.warn(LatexWarning(f\"Latex injecting: '{ext}' from '{subsource}'\"))\n",
      "/opt/hostedtoolcache/Python/3.9.21/x64/lib/python3.9/site-packages/arxiv_on_deck_2/latex.py:414: LatexWarning: Latex injecting: 'sections/1_Intro' from 'tmp_2503.20864/sections/1_Intro.tex'\n",
      "  warnings.warn(LatexWarning(f\"Latex injecting: '{ext}' from '{subsource}'\"))\n"
     ]
    },
    {
     "name": "stdout",
     "output_type": "stream",
     "text": [
      "J. Neumann  ->  J. Neumann  |  ['J. Neumann']\n"
     ]
    },
    {
     "name": "stdout",
     "output_type": "stream",
     "text": [
      "Found 152 bibliographic references in tmp_2503.20864/main.bbl.\n",
      "Error retrieving bib data for munoz2015spitzer: 'author'\n",
      "Error retrieving bib data for de2023new: 'author'\n",
      "Error retrieving bib data for de2023new: 'author'\n",
      "Retrieving document from  https://arxiv.org/e-print/2503.20949\n"
     ]
    },
    {
     "name": "stdout",
     "output_type": "stream",
     "text": [
      "extracting tarball to tmp_2503.20949..."
     ]
    },
    {
     "name": "stdout",
     "output_type": "stream",
     "text": [
      " done.\n",
      "Retrieving document from  https://arxiv.org/e-print/2503.21066\n"
     ]
    },
    {
     "name": "stdout",
     "output_type": "stream",
     "text": [
      "extracting tarball to tmp_2503.21066..."
     ]
    },
    {
     "name": "stdout",
     "output_type": "stream",
     "text": [
      " done.\n",
      "Retrieving document from  https://arxiv.org/e-print/2503.21266\n"
     ]
    },
    {
     "name": "stderr",
     "output_type": "stream",
     "text": [
      "/opt/hostedtoolcache/Python/3.9.21/x64/lib/python3.9/site-packages/IPython/core/interactiveshell.py:3550: LatexWarning: Multiple tex files.\n",
      "\n",
      "  exec(code_obj, self.user_global_ns, self.user_ns)\n",
      "/opt/hostedtoolcache/Python/3.9.21/x64/lib/python3.9/site-packages/IPython/core/interactiveshell.py:3550: LatexWarning: Found documentclass in tmp_2503.21066/aanda.tex\n",
      "\n",
      "  exec(code_obj, self.user_global_ns, self.user_ns)\n",
      "/opt/hostedtoolcache/Python/3.9.21/x64/lib/python3.9/site-packages/arxiv_on_deck_2/latex.py:414: LatexWarning: Latex injecting: 'unrelaxed_cluster.tex' from 'tmp_2503.21066/unrelaxed_cluster.tex'\n",
      "  warnings.warn(LatexWarning(f\"Latex injecting: '{ext}' from '{subsource}'\"))\n",
      "/opt/hostedtoolcache/Python/3.9.21/x64/lib/python3.9/site-packages/arxiv_on_deck_2/latex.py:414: LatexWarning: Latex injecting: 'relaxed_cluster.tex' from 'tmp_2503.21066/relaxed_cluster.tex'\n",
      "  warnings.warn(LatexWarning(f\"Latex injecting: '{ext}' from '{subsource}'\"))\n",
      "/opt/hostedtoolcache/Python/3.9.21/x64/lib/python3.9/site-packages/arxiv_on_deck_2/latex.py:414: LatexWarning: Latex injecting: 'relaxedunrelaxed_images' from 'tmp_2503.21066/relaxedunrelaxed_images.tex'\n",
      "  warnings.warn(LatexWarning(f\"Latex injecting: '{ext}' from '{subsource}'\"))\n",
      "/opt/hostedtoolcache/Python/3.9.21/x64/lib/python3.9/site-packages/arxiv_on_deck_2/latex.py:414: LatexWarning: Latex injecting: 'table_model9.tex' from 'tmp_2503.21066/table_model9.tex'\n",
      "  warnings.warn(LatexWarning(f\"Latex injecting: '{ext}' from '{subsource}'\"))\n",
      "/opt/hostedtoolcache/Python/3.9.21/x64/lib/python3.9/site-packages/arxiv_on_deck_2/latex.py:414: LatexWarning: Latex injecting: 'observations_table' from 'tmp_2503.21066/observations_table.tex'\n",
      "  warnings.warn(LatexWarning(f\"Latex injecting: '{ext}' from '{subsource}'\"))\n"
     ]
    },
    {
     "name": "stdout",
     "output_type": "stream",
     "text": [
      "extracting tarball to tmp_2503.21266..."
     ]
    },
    {
     "name": "stdout",
     "output_type": "stream",
     "text": [
      " done.\n"
     ]
    },
    {
     "name": "stdout",
     "output_type": "stream",
     "text": [
      "P. Mollière  ->  P. Mollière  |  ['P. Mollière']\n"
     ]
    },
    {
     "name": "stdout",
     "output_type": "stream",
     "text": [
      "Found 92 bibliographic references in tmp_2503.21266/main.bbl.\n",
      "Retrieving document from  https://arxiv.org/e-print/2503.21304\n",
      "extracting tarball to tmp_2503.21304..."
     ]
    },
    {
     "name": "stdout",
     "output_type": "stream",
     "text": [
      " done.\n"
     ]
    },
    {
     "name": "stderr",
     "output_type": "stream",
     "text": [
      "/opt/hostedtoolcache/Python/3.9.21/x64/lib/python3.9/site-packages/IPython/core/interactiveshell.py:3550: LatexWarning: Multiple tex files.\n",
      "\n",
      "  exec(code_obj, self.user_global_ns, self.user_ns)\n",
      "/opt/hostedtoolcache/Python/3.9.21/x64/lib/python3.9/site-packages/IPython/core/interactiveshell.py:3550: LatexWarning: Found documentclass in tmp_2503.21304/protoclusters_q1.tex\n",
      "\n",
      "  exec(code_obj, self.user_global_ns, self.user_ns)\n",
      "/opt/hostedtoolcache/Python/3.9.21/x64/lib/python3.9/site-packages/arxiv_on_deck_2/latex.py:414: LatexWarning: Latex injecting: 'authors_q1planckprotoclusters' from 'tmp_2503.21304/authors_q1planckprotoclusters.tex'\n",
      "  warnings.warn(LatexWarning(f\"Latex injecting: '{ext}' from '{subsource}'\"))\n"
     ]
    },
    {
     "name": "stderr",
     "output_type": "stream",
     "text": [
      "/opt/hostedtoolcache/Python/3.9.21/x64/lib/python3.9/site-packages/arxiv_on_deck_2/latex.py:132: LatexWarning: attempting recovering figure figs/colour-images/edff_G221.09-54.59-11-hr-new.pdf\n",
      "  warnings.warn(LatexWarning(f'attempting recovering figure {image}'))\n",
      "/opt/hostedtoolcache/Python/3.9.21/x64/lib/python3.9/site-packages/arxiv_on_deck_2/latex.py:707: LatexWarning: Could not find graphic \\includegraphics[width=0.875\\hsize]{figs/colour-images/edff_G221.09-54.59-11-hr-new.pdf}\n",
      "  warnings.warn(LatexWarning(f\"Could not find graphic {k}\"))\n",
      "/opt/hostedtoolcache/Python/3.9.21/x64/lib/python3.9/site-packages/arxiv_on_deck_2/latex.py:132: LatexWarning: attempting recovering figure figs/PLCK_PHZ_G221.09-54.59_overdensity_11.npz.png\n",
      "  warnings.warn(LatexWarning(f'attempting recovering figure {image}'))\n",
      "/opt/hostedtoolcache/Python/3.9.21/x64/lib/python3.9/site-packages/arxiv_on_deck_2/latex.py:707: LatexWarning: Could not find graphic \\includegraphics[trim= 0 0 0 80,clip,angle=0,width=0.35\\hsize]{figs/PLCK_PHZ_G221.09-54.59_overdensity_11.npz.png}\n",
      "  warnings.warn(LatexWarning(f\"Could not find graphic {k}\"))\n",
      "/opt/hostedtoolcache/Python/3.9.21/x64/lib/python3.9/site-packages/arxiv_on_deck_2/latex.py:132: LatexWarning: attempting recovering figure figs/PLCK_PHZ_G221.09-54.59_color_diagram_11.png\n",
      "  warnings.warn(LatexWarning(f'attempting recovering figure {image}'))\n",
      "/opt/hostedtoolcache/Python/3.9.21/x64/lib/python3.9/site-packages/arxiv_on_deck_2/latex.py:707: LatexWarning: Could not find graphic \\includegraphics[angle=0,width=0.4\\hsize]{figs/PLCK_PHZ_G221.09-54.59_color_diagram_11.png}\n",
      "  warnings.warn(LatexWarning(f\"Could not find graphic {k}\"))\n",
      "/opt/hostedtoolcache/Python/3.9.21/x64/lib/python3.9/site-packages/arxiv_on_deck_2/latex.py:132: LatexWarning: attempting recovering figure figs/PLCK_PHZ_G221.09-54.59_mags_counts_11.png\n",
      "  warnings.warn(LatexWarning(f'attempting recovering figure {image}'))\n",
      "/opt/hostedtoolcache/Python/3.9.21/x64/lib/python3.9/site-packages/arxiv_on_deck_2/latex.py:707: LatexWarning: Could not find graphic \\includegraphics[angle=0,width=0.4\\hsize]{figs/PLCK_PHZ_G221.09-54.59_mags_counts_11.png}\n",
      "  warnings.warn(LatexWarning(f\"Could not find graphic {k}\"))\n",
      "/opt/hostedtoolcache/Python/3.9.21/x64/lib/python3.9/site-packages/arxiv_on_deck_2/latex.py:132: LatexWarning: attempting recovering figure figs/main_sequence_G221.09_11.png\n",
      "  warnings.warn(LatexWarning(f'attempting recovering figure {image}'))\n",
      "/opt/hostedtoolcache/Python/3.9.21/x64/lib/python3.9/site-packages/arxiv_on_deck_2/latex.py:707: LatexWarning: Could not find graphic \\includegraphics[angle=0,width=0.4\\hsize]{figs/main_sequence_G221.09_11.png}\n",
      "  warnings.warn(LatexWarning(f\"Could not find graphic {k}\"))\n",
      "/opt/hostedtoolcache/Python/3.9.21/x64/lib/python3.9/site-packages/arxiv_on_deck_2/latex.py:132: LatexWarning: attempting recovering figure figs/colour-images/edfs_G254.49-47.73-17-hr-new.pdf\n",
      "  warnings.warn(LatexWarning(f'attempting recovering figure {image}'))\n",
      "/opt/hostedtoolcache/Python/3.9.21/x64/lib/python3.9/site-packages/arxiv_on_deck_2/latex.py:707: LatexWarning: Could not find graphic \\includegraphics[width=0.75\\hsize]{figs/colour-images/edfs_G254.49-47.73-17-hr-new.pdf}\n",
      "  warnings.warn(LatexWarning(f\"Could not find graphic {k}\"))\n",
      "/opt/hostedtoolcache/Python/3.9.21/x64/lib/python3.9/site-packages/arxiv_on_deck_2/latex.py:132: LatexWarning: attempting recovering figure figs/PLCK_PHZ_G254.49-47.73_overdensity_17.npz.png\n",
      "  warnings.warn(LatexWarning(f'attempting recovering figure {image}'))\n",
      "/opt/hostedtoolcache/Python/3.9.21/x64/lib/python3.9/site-packages/arxiv_on_deck_2/latex.py:707: LatexWarning: Could not find graphic \\includegraphics[trim= 0 0 0 100,clip, angle=0,width=0.35\\hsize]{figs/PLCK_PHZ_G254.49-47.73_overdensity_17.npz.png}\n",
      "  warnings.warn(LatexWarning(f\"Could not find graphic {k}\"))\n",
      "/opt/hostedtoolcache/Python/3.9.21/x64/lib/python3.9/site-packages/arxiv_on_deck_2/latex.py:132: LatexWarning: attempting recovering figure figs/PLCK_PHZ_G254.49-47.73_color_diagram_17.png\n",
      "  warnings.warn(LatexWarning(f'attempting recovering figure {image}'))\n",
      "/opt/hostedtoolcache/Python/3.9.21/x64/lib/python3.9/site-packages/arxiv_on_deck_2/latex.py:707: LatexWarning: Could not find graphic \\includegraphics[angle=0,width=0.4\\hsize]{figs/PLCK_PHZ_G254.49-47.73_color_diagram_17.png}\n",
      "  warnings.warn(LatexWarning(f\"Could not find graphic {k}\"))\n",
      "/opt/hostedtoolcache/Python/3.9.21/x64/lib/python3.9/site-packages/arxiv_on_deck_2/latex.py:132: LatexWarning: attempting recovering figure figs/PLCK_PHZ_G254.49-47.73_mags_counts_17.png\n",
      "  warnings.warn(LatexWarning(f'attempting recovering figure {image}'))\n",
      "/opt/hostedtoolcache/Python/3.9.21/x64/lib/python3.9/site-packages/arxiv_on_deck_2/latex.py:707: LatexWarning: Could not find graphic \\includegraphics[angle=0,width=0.4\\hsize]{figs/PLCK_PHZ_G254.49-47.73_mags_counts_17.png}\n",
      "  warnings.warn(LatexWarning(f\"Could not find graphic {k}\"))\n",
      "/opt/hostedtoolcache/Python/3.9.21/x64/lib/python3.9/site-packages/arxiv_on_deck_2/latex.py:132: LatexWarning: attempting recovering figure figs/main_sequence_G254.49_17.png\n",
      "  warnings.warn(LatexWarning(f'attempting recovering figure {image}'))\n",
      "/opt/hostedtoolcache/Python/3.9.21/x64/lib/python3.9/site-packages/arxiv_on_deck_2/latex.py:707: LatexWarning: Could not find graphic \\includegraphics[angle=0,width=0.4\\hsize]{figs/main_sequence_G254.49_17.png}\n",
      "  warnings.warn(LatexWarning(f\"Could not find graphic {k}\"))\n"
     ]
    },
    {
     "name": "stdout",
     "output_type": "stream",
     "text": [
      "Found 106 bibliographic references in tmp_2503.21304/protoclusters_q1.bbl.\n",
      "Retrieving document from  https://arxiv.org/e-print/2503.21368\n"
     ]
    },
    {
     "name": "stderr",
     "output_type": "stream",
     "text": [
      "/opt/hostedtoolcache/Python/3.9.21/x64/lib/python3.9/site-packages/arxiv_on_deck_2/latex_bib.py:132: UserWarning: Error processing bibitem\n",
      " item = \\bibitem[{{Euclid Quick Release Q1}(2025)}]{Q1cite}{Euclid Quick Release Q1}. 2025, \\url{https://doi.org/10.57780/esa-2853f3b}\n",
      " regex = \n",
      "        \\\\bibitem(\\[[^\\[\\]]*?\\]){(?P<bibkey>[a-zA-Z0-9\\-\\+\\.\\S]+?)}(?P<authors>|([\\D]*?))(?P<year>[12][0-9]{3})(?P<rest>.*)\n",
      "        \n",
      "  warnings.warn(str(e))\n"
     ]
    },
    {
     "name": "stdout",
     "output_type": "stream",
     "text": [
      "extracting tarball to tmp_2503.21368..."
     ]
    },
    {
     "name": "stdout",
     "output_type": "stream",
     "text": [
      " done.\n",
      "Retrieving document from  https://arxiv.org/e-print/2503.21600\n"
     ]
    },
    {
     "name": "stdout",
     "output_type": "stream",
     "text": [
      "extracting tarball to tmp_2503.21600... done.\n"
     ]
    }
   ],
   "source": [
    "documents = []\n",
    "failed = []\n",
    "for paper in tqdm(candidates):\n",
    "    # debug crap\n",
    "    paper['identifier'] = paper['identifier'].lower().replace('arxiv:', '').replace(r'\\n', '').strip()\n",
    "    paper_id = paper['identifier']\n",
    "    \n",
    "    folder = f'tmp_{paper_id}'\n",
    "\n",
    "    try:\n",
    "        if not os.path.isdir(folder):\n",
    "            folder = retrieve_document_source(f\"{paper_id}\", f'tmp_{paper_id}')\n",
    "        \n",
    "        try:\n",
    "            doc = latex.LatexDocument(folder, validation=validation)    \n",
    "        except AffiliationError as affilerror:\n",
    "            msg = f\"ArXiv:{paper_id:s} is not an MPIA paper... \" + str(affilerror)\n",
    "            failed.append((paper, \"affiliation error: \" + str(affilerror) ))\n",
    "            continue\n",
    "        \n",
    "        # Hack because sometimes author parsing does not work well\n",
    "        if (len(doc.authors) != len(paper['authors'])):\n",
    "            doc._authors = paper['authors']\n",
    "        else:\n",
    "            # highlight authors (FIXME: doc.highlight_authors)\n",
    "            # done on arxiv paper already\n",
    "            doc._authors = highlight_authors_in_list(\n",
    "                [get_initials(k) for k in doc.authors], \n",
    "                mpia_authors, verbose=True)\n",
    "        if (doc.abstract) in (None, ''):\n",
    "            doc._abstract = paper['abstract']\n",
    "            \n",
    "        doc.comment = (get_markdown_badge(paper_id) + \n",
    "                       \"<mark>Appeared on: \" + paper['date'] + \"</mark> - \")\n",
    "        if paper['comments']:\n",
    "            doc.comment += \" _\" + paper['comments'] + \"_\"\n",
    "        \n",
    "        full_md = doc.generate_markdown_text()\n",
    "        \n",
    "        full_md += get_markdown_qrcode(paper_id)\n",
    "        \n",
    "        # replace citations\n",
    "        try:\n",
    "            bibdata = latex_bib.LatexBib.from_doc(doc)\n",
    "            full_md = latex_bib.replace_citations(full_md, bibdata)\n",
    "        except Exception as e:\n",
    "            print(\"Issues with the citations\")\n",
    "            print(e)\n",
    "        \n",
    "        documents.append((paper_id, full_md))\n",
    "    except Exception as e:\n",
    "        warnings.warn(latex.LatexWarning(f\"{paper_id:s} did not run properly\\n\" +\n",
    "                                         str(e)\n",
    "                                        ))\n",
    "        failed.append((paper, \"latex error \" + str(e)))"
   ]
  },
  {
   "cell_type": "markdown",
   "id": "2505a25c",
   "metadata": {
    "papermill": {
     "duration": 0.004582,
     "end_time": "2025-03-28T04:14:43.635851",
     "exception": false,
     "start_time": "2025-03-28T04:14:43.631269",
     "status": "completed"
    },
    "tags": []
   },
   "source": [
    "### Export the logs\n",
    "\n",
    "Throughout, we also keep track of the logs per paper. see `logs-{today date}.md` "
   ]
  },
  {
   "cell_type": "code",
   "execution_count": 6,
   "id": "d733828a",
   "metadata": {
    "execution": {
     "iopub.execute_input": "2025-03-28T04:14:43.646191Z",
     "iopub.status.busy": "2025-03-28T04:14:43.645861Z",
     "iopub.status.idle": "2025-03-28T04:14:43.665343Z",
     "shell.execute_reply": "2025-03-28T04:14:43.664694Z"
    },
    "papermill": {
     "duration": 0.025786,
     "end_time": "2025-03-28T04:14:43.666292",
     "exception": false,
     "start_time": "2025-03-28T04:14:43.640506",
     "status": "completed"
    },
    "scrolled": false,
    "tags": []
   },
   "outputs": [
    {
     "data": {
      "text/markdown": [
       "## Successful papers"
      ],
      "text/plain": [
       "<IPython.core.display.Markdown object>"
      ]
     },
     "metadata": {},
     "output_type": "display_data"
    },
    {
     "data": {
      "text/markdown": [
       "\n",
       "|||\n",
       "|---:|:---|\n",
       "| [![arXiv](https://img.shields.io/badge/arXiv-2503.20857-b31b1b.svg)](https://arxiv.org/abs/2503.20857) | **Intra-Cluster Light as a Dynamical Clock for Galaxy Clusters: Insights from the MAGNETICUM, IllustrisTNG, Hydrangea and Horizon-AGN Simulations**  |\n",
       "|| L. C. Kimmig, et al. -- incl., <mark>A. Pillepich</mark> |\n",
       "|*Appeared on*| *2025-03-28*|\n",
       "|*Comments*| *23 pages, 16 figures, submitted to A&A -- comments welcome!*|\n",
       "|**Abstract**|            As the most massive nodes of the cosmic web, galaxy clusters represent the best probes of structure formation. Over time, they grow by accreting and disrupting satellite galaxies, adding those stars to the brightest cluster galaxy (BCG) and the intra-cluster light (ICL). However, the formation pathways of different galaxy clusters can vary significantly. To inform upcoming large surveys, we aim to identify observables that can distinguish galaxy cluster formation pathways. Using four different hydrodynamical simulations, Magneticum, TNG100 of IllustrisTNG, Horizon-AGN, and Hydrangea, we study how the fraction of stellar mass in the BCG and ICL ($f_{ICL+BCG}$) relates to the galaxy cluster mass assembly history. For all simulations, $f_{ICL+BCG}$ is the best tracer for the time at which the cluster has accumulated 50% of its mass ($z_{f}$), performing better than other typical dynamical tracers, such as the subhalo mass fraction, the halo mass, and the center shift. More relaxed clusters have higher $f_{ICL+BCG}$, in rare cases up to 90%, while dynamically active clusters have lower fractions, down to 20%, which we find to be independent of the exact implemented baryonic physics. We determine the average increase in $f_{ICL+BCG}$ from stripping and mergers to be between 3-4% per Gyr. $f_{ICL+BCG}$ is tightly traced by the stellar mass ratio between the BCG and both the second (M12) and fourth (M14) most massive cluster galaxy. The average galaxy cluster has assembled half of its halo mass by $z_{f}=0.67$ (about 6 Gyr ago), though individual histories vary significantly from $z_{f}=0.06$ to $z_{f}=1.77$ (0.8 to 10 Gyr ago). As all four cosmological simulations consistently find that $f_{ICL+BCG}$ is an excellent tracer of the cluster dynamical state, upcoming surveys can leverage measurements of $f_{ICL+BCG}$ to statistically quantify the assembly of the most massive structures.         |"
      ],
      "text/plain": [
       "[2503.20857] Intra-Cluster Light as a Dynamical Clock for Galaxy Clusters: Insights from the MAGNETICUM, IllustrisTNG, Hydrangea and Horizon-AGN Simulations\n",
       "\tL. C. Kimmig, et al. -- incl., <mark>A. Pillepich</mark>"
      ]
     },
     "metadata": {},
     "output_type": "display_data"
    },
    {
     "data": {
      "text/markdown": [
       "\n",
       "|||\n",
       "|---:|:---|\n",
       "| [![arXiv](https://img.shields.io/badge/arXiv-2503.20864-b31b1b.svg)](https://arxiv.org/abs/2503.20864) | **Bar ages derived for the first time in nearby galaxies: Insights on secular evolution from the TIMER sample**  |\n",
       "|| C. d. Sá-Freitas, et al. -- incl., <mark>J. Neumann</mark> |\n",
       "|*Appeared on*| *2025-03-28*|\n",
       "|*Comments*| *Accepted for publication in Astronomy & Astrophysics (A&A), 20 pages, 13 Figures, 3 Appendice Figures*|\n",
       "|**Abstract**|            Once galaxies settle their discs and become self-gravitating, stellar bars can form, driving the subsequent evolution of their host galaxy. Determining the ages of bars can therefore shed light on the epoch of the onset of secular evolution. In this work, we apply the first broadly applicable methodology to derive bar ages to a sample of 20 nearby galaxies. The method is based on the co-eval build-up of nuclear structures and bars and involves using IFS data from the MUSE instrument on VLT to disentangle the SFH of the nuclear disc from the background population. This allows us to derive the formation epoch of the nuclear disc and, thus, of the bar. We estimate the bar formation epoch of nearby galaxies - mostly from the TIMER survey-, creating the largest sample of galaxies with known bar ages to date. We find bar formation epochs between 1 and 13 Gyr ago, illustrating how disc-settling and bar formation are processes that first took place in the early Universe and are still taking place in some galaxies. We infer the bar fraction over cosmological time with our sample, finding remarkable agreement with that obtained from direct studies of galaxies at high redshifts. Additionally, for the first time, we can investigate secular evolution processes taking into account the ages of bars. Our results agree with the scenario in which bars aid the quenching of the host galaxy, with galaxies hosting older bars tending to be more \"quenched\". We also find that older bars tend to be longer, stronger, and host larger nuclear discs. Furthermore, we find evidence of the nuclear disc stellar mass build-up over time. On the other hand, we find no evidence of downsizing playing a role in bar formation, since we find that bar age is independent of galaxy stellar mass. With the means to estimate bar ages, we can begin to understand better when and how bars shape the observed properties of disc galaxies.         |"
      ],
      "text/plain": [
       "[2503.20864] Bar ages derived for the first time in nearby galaxies: Insights on secular evolution from the TIMER sample\n",
       "\tC. d. Sá-Freitas, et al. -- incl., <mark>J. Neumann</mark>"
      ]
     },
     "metadata": {},
     "output_type": "display_data"
    },
    {
     "data": {
      "text/markdown": [
       "\n",
       "|||\n",
       "|---:|:---|\n",
       "| [![arXiv](https://img.shields.io/badge/arXiv-2503.21266-b31b1b.svg)](https://arxiv.org/abs/2503.21266) | **The ESO SupJup Survey VII: Clouds and line asymmetries in CRIRES$^+$ J-band spectra of the Luhman 16 binary**  |\n",
       "|| S. d. Regt, et al. -- incl., <mark>P. Mollière</mark> |\n",
       "|*Appeared on*| *2025-03-28*|\n",
       "|*Comments*| *Accepted for publication in A&A*|\n",
       "|**Abstract**|            Brown dwarfs at the L-T transition likely experience an inhomogeneous clearing of the clouds in their atmospheres. The resulting surface of thin and thick cloudy patches has been put forward to explain the observed variability, J-band brightening, and re-emergence of FeH absorption. We study the closest brown dwarf binary, Luhman 16A and B, in an effort to constrain their chemical and cloud compositions. As this binary consists of an L7.5 and T0.5 component, we gain insight into the atmospheric properties at the L-T transition. As part of the ESO SupJup Survey, we observed Luhman 16AB at high spectral resolution in the J-band ($1.1-1.4\\ \\mathrm{\\mu m}$) using CRIRES$^+$. To analyse the spectra, we employ an atmospheric retrieval framework, coupling the radiative transfer code petitRADTRANS with the MultiNest sampling algorithm. For both objects, we report detections of H$_2$O, K, Na, FeH, and, for the first time in the J-band, hydrogen-fluoride (HF). The K doublet at $1250\\ \\mathrm{nm}$ shows asymmetric absorption in the blue line wings, which are reproduced via pressure- and temperature-dependent shifts of the line cores. We find evidence for clouds in both spectra and we place constraints on an FeH-depletion in the Luhman 16A photosphere. The inferred over-abundance of FeH for Luhman 16B opposes its predicted rainout into iron clouds. A two-column model, which emulates the patchy surface expected at the L-T transition, is weakly preferred ($\\sim 1.8\\sigma$) for component B but disfavoured for A ($\\sim 5.5\\sigma$). The results suggest a uniform surface on Luhman 16A, which is in good agreement with the reduced variability observed for this L-type component. While the presented evidence is not sufficient to draw conclusions about any inhomogeneity on Luhman 16B, future observations covering a broader wavelength range could help to test the cloud-clearing hypothesis.         |"
      ],
      "text/plain": [
       "[2503.21266] The ESO SupJup Survey VII: Clouds and line asymmetries in CRIRES$^+$ J-band spectra of the Luhman 16 binary\n",
       "\tS. d. Regt, et al. -- incl., <mark>P. Mollière</mark>"
      ]
     },
     "metadata": {},
     "output_type": "display_data"
    },
    {
     "data": {
      "text/markdown": [
       "\n",
       "|||\n",
       "|---:|:---|\n",
       "| [![arXiv](https://img.shields.io/badge/arXiv-2503.21304-b31b1b.svg)](https://arxiv.org/abs/2503.21304) | **Euclid Quick Data Release (Q1). The Euclid view on Planck galaxy protocluster candidates: towards a probe of the highest sites of star formation at cosmic noon**  |\n",
       "|| E. Collaboration, et al. -- incl., <mark>K. Jahnke</mark> |\n",
       "|*Appeared on*| *2025-03-28*|\n",
       "|*Comments*| *18 pages, 11 figures. Submitted to A&A*|\n",
       "|**Abstract**|            We search for galaxy protoclusters at redshifts $z > 1.5$ in the first data release (Q1) of the $\\textit{Euclid}$ survey. We make use of the catalogues delivered by the $\\textit{Euclid}$ Science Ground Segment (SGS). After a galaxy selection on the $H_\\textrm{E}$ magnitude and on the photometric redshift quality, we undertake the search using the $\\texttt{DETECTIFz}$ algorithm, an overdensity finder based on Delaunay tessellation that uses photometric redshift probability distributions through Monte Carlo simulations. In this pilot study, we conduct a search in the 11 $\\textit{Euclid}$ tiles that contain previously known $\\textit{Planck}$ high star-forming galaxy protocluster candidates and focus on the two detections that coincide with these regions. These counterparts lie at photometric redshifts $z_\\textrm{ph}=1.63^{+0.19}_{-0.23}$ and $z_\\textrm{ph}=1.56^{+0.18}_{-0.21}$ and have both been confirmed by two other independent protocluster detection algorithms. We study their colours, their derived stellar masses and star-formation rates, and we estimate their halo mass lower limits. We investigate whether we are intercepting these galaxy overdensities in their `dying' phase, such that the high star-formation rates would be due to their last unsustainable starburst before transitioning to groups or clusters of galaxies. Indeed, some galaxy members are found to lie above the main sequence of galaxies (star-formation rate versus stellar mass). These overdense regions occupy a specific position in the dark matter halo mass / redshift plane where forming galaxy clusters are expected to have experienced a transition between cold flows to shock heating in the halo. Finally, we empirically update the potential for galaxy protocluster discoveries at redshift up to $z \\simeq3$ (wide survey) and $z \\simeq5.5$ (deep survey) with $\\textit{Euclid}$ for the next data release (DR1).         |"
      ],
      "text/plain": [
       "[2503.21304] Euclid Quick Data Release (Q1). The Euclid view on Planck galaxy protocluster candidates: towards a probe of the highest sites of star formation at cosmic noon\n",
       "\tE. Collaboration, et al. -- incl., <mark>K. Jahnke</mark>"
      ]
     },
     "metadata": {},
     "output_type": "display_data"
    },
    {
     "data": {
      "text/markdown": [
       "## Failed papers"
      ],
      "text/plain": [
       "<IPython.core.display.Markdown object>"
      ]
     },
     "metadata": {},
     "output_type": "display_data"
    },
    {
     "data": {
      "text/markdown": [
       "\n",
       "|||\n",
       "|---:|:---|\n",
       "| [![arXiv](https://img.shields.io/badge/arXiv-2503.20949-b31b1b.svg)](https://arxiv.org/abs/2503.20949) | **Rapid Construction of Joint Pulsar Timing Array Datasets: The Lite Method**  |\n",
       "|| B. Larsen, et al. -- incl., <mark>J. Baier</mark> |\n",
       "|*Appeared on*| *2025-03-28*|\n",
       "|*Comments*| *Submitted to MNRAS*|\n",
       "|**Abstract**|            The International Pulsar Timing Array (IPTA)'s second data release (IPTA DR2) combines observations of 65 millisecond pulsars from 7 radio telescopes spanning decades, aiming to detect nanohertz gravitational waves (GWs). IPTA datasets are complex and take years to assemble, often excluding recent data crucial for low-frequency GW searches. To address this, we introduce the ``Lite'' analysis, a framework that informs the full data combination process. Using a Figure of Merit, we first select individual PTA datasets per pulsar, enabling immediate access to new data and providing an early estimate of fully combined dataset results. Applying this method to IPTA DR2, we create an uncombined dataset (DR2 Lite) and an early-combined subset (EDR2) before constructing the final Full DR2 dataset (IPTA DR2). We find that DR2 Lite can detect the common red noise process seen in Full DR2 but overestimates the amplitude as $A = 5.2^{+1.8}_{-1.7} \\times 10^{-15}$ at $\\gamma = 13/3$, likely due to unmodeled noise. In contrast, the combined datasets improve spectral characterization, with Full DR2 yielding an amplitude of $A = 4.0^{+1.0}_{-0.9} \\times 10^{-15}$ at $\\gamma = 13/3$. Furthermore, combined datasets yield higher, albeit small, detection statistics for Hellings-Downs correlations. Looking ahead, the Lite method will enable rapid synthesis of the latest PTA data, offering preliminary GW constraints before full dataset combinations are available while also motivating their construction.         |\n",
       "|<p style=\"color:green\"> **ERROR** </p>| <p style=\"color:green\">affiliation error: mpia.affiliation_verifications: 'Heidelberg' keyword not found.</p> |"
      ],
      "text/plain": [
       "<IPython.core.display.Markdown object>"
      ]
     },
     "metadata": {},
     "output_type": "display_data"
    },
    {
     "data": {
      "text/markdown": [
       "\n",
       "|||\n",
       "|---:|:---|\n",
       "| [![arXiv](https://img.shields.io/badge/arXiv-2503.21066-b31b1b.svg)](https://arxiv.org/abs/2503.21066) | **eROSITA clusters dynamical state and their impact on the BCG luminosity**  |\n",
       "|| A. Zenteno, et al. -- incl., <mark>X. Zhang</mark> |\n",
       "|*Appeared on*| *2025-03-28*|\n",
       "|*Comments*| *10 pages, 6 figures, accepted in A&A*|\n",
       "|**Abstract**|            The Spectrum Roentgen Gamma/eROSITA first public release contains 12,247 clusters and groups. We use the offset between the Brightest Cluster Galaxy (BCG) and the X--ray peak (D$_{\\rm BCG-X}$) to classify the cluster dynamical state of 3,946 galaxy clusters and groups. The X--ray peaks come from the eROSITA survey while the BCG positions come from the DECaLS DR10 optical data, which includes the DECam eROSITA Survey optical data. We aim to investigate the evolution of the merger and relaxed cluster distributions with redshift and mass, and their impact on the BCG. We model the distribution of D$_{\\rm BCG-X}$ as the sum of two Rayleigh distributions representing the cluster's relaxed and disturbed populations, and explore their evolution with redshift and mass. To explore the impact of the cluster's dynamical state on the BCG luminosity, we separate the main sample according to the dynamical state. We define clusters as relaxed if D$_{\\rm BCG-X}$ < 0.25$r_{500}$, disturbed if D$_{\\rm BCG-X}$>0.5$r_{500}$, and as `diverse' otherwise. We find no evolution of the merging fraction in redshift and mass. We observe that the width of the relaxed distribution to increase with redshift, while the width of the two Rayleigh distributions decreases with mass. The analysis reveals that BCGs in relaxed clusters are brighter than BCGs in both the disturbed and diverse cluster population. The most significant differences are found for high mass clusters at higher redshift. The results suggest that BCGs in low-mass clusters are less centrally bound than those in high-mass systems, irrespective of dynamical state. Over time, BCGs in relaxed clusters progressively align with the potential center. This alignment correlates with their luminosity growth relative to BCGs in dynamically disturbed clusters, underscoring the critical role of the clusters dynamical state in regulating BCG evolution. [Abridged]         |\n",
       "|<p style=\"color:green\"> **ERROR** </p>| <p style=\"color:green\">affiliation error: mpia.affiliation_verifications: 'Heidelberg' keyword not found.</p> |"
      ],
      "text/plain": [
       "<IPython.core.display.Markdown object>"
      ]
     },
     "metadata": {},
     "output_type": "display_data"
    },
    {
     "data": {
      "text/markdown": [
       "\n",
       "|||\n",
       "|---:|:---|\n",
       "| [![arXiv](https://img.shields.io/badge/arXiv-2503.21368-b31b1b.svg)](https://arxiv.org/abs/2503.21368) | **The Jiutian simulations for the CSST extra-galactic surveys**  |\n",
       "|| J. Han, et al. -- incl., <mark>L. Xie</mark> |\n",
       "|*Appeared on*| *2025-03-28*|\n",
       "|*Comments*| *simulation data products will be gradually released at this https URL*|\n",
       "|**Abstract**|            We provide an overview of the Jiutian simulations, a hybrid simulation suite for the China Space Survey Telescope (CSST) extragalactic surveys. It consists of four complementary modules: the primary runs with high resolutions under the fiducial concordance cosmology, the emulator runs exploring the parameter uncertainties around the fiducial cosmology, the reconstruction runs intended for recovering the observed Universe site by site, and the extension runs employing extended cosmologies beyond the standard model. For the primary runs, two independent pipelines are adopted to construct subhaloes and merger trees. On top of them, four sets of mock galaxy light-cone catalogs are produced from semi-analytical models and subhalo abundance matching, providing a variety of observational properties including galaxy SED, emission lines, lensing distortions, and mock images. The 129 emulator runs are used to train the CSST emulator, achieving one percent accuracy in predicting a variety of cosmological statistics over $k\\leq 10 h{\\rm Mpc}^{-1}$ and $z\\leq 2$. The reconstruction runs employ a number of subgrid baryonic models to predict the evolution and galaxy population of certain regions in the real Universe with constrained initial conditions, enabling controlled investigation of galaxy formation on top of structure formation. The extension runs cover models with warm dark matter, $f(R)$ gravity, interacting dark energy, and nonzero neutrino masses, revealing differences in the cosmic structure under alternative cosmological models. We introduce the specifications for each run, the data products derived from them, the corresponding pipeline developments, and present some main tests. Using the primary runs, we also show that the subhalo peak mass functions of different levels are approximately universal. These simulations form a comprehensive and open library for the CSST surveys.         |\n",
       "|<p style=\"color:green\"> **ERROR** </p>| <p style=\"color:green\">affiliation error: mpia.affiliation_verifications: 'Heidelberg' keyword not found.</p> |"
      ],
      "text/plain": [
       "<IPython.core.display.Markdown object>"
      ]
     },
     "metadata": {},
     "output_type": "display_data"
    },
    {
     "data": {
      "text/markdown": [
       "\n",
       "|||\n",
       "|---:|:---|\n",
       "| [![arXiv](https://img.shields.io/badge/arXiv-2503.21600-b31b1b.svg)](https://arxiv.org/abs/2503.21600) | **The Impact of the Hubble Tension on the Evidence for Dynamical Dark Energy**  |\n",
       "|| Y.-H. Pang, <mark>X. Zhang</mark>, Q.-G. Huang |\n",
       "|*Appeared on*| *2025-03-28*|\n",
       "|*Comments*| *5 pages, 1 figures, 3 tables*|\n",
       "|**Abstract**|            Recent findings from the Dark Energy Spectroscopic Instrument (DESI) Data Release 2 (DR2) favor a dynamical dark energy characterized by a phantom crossing feature. This result also implies a lower value of the Hubble constant, thereby intensifying the so-called Hubble tension. To alleviate the Hubble tension, we consider the early dark energy and explore its impact on the evidence for dynamical dark energy including the Hubble constant calibrated by the SH0ES collaboration. We find that incorporating SH0ES prior with CMB, DESI DR2 BAO and Pantheon Plus/Union3/DESY5 data reduces the preference to dynamical dark energy to $1.8\\sigma/1.8\\sigma/2.9\\sigma$ level, respectively. Our results suggest a potential tension between the Hubble constant $H_0$ of the SH0ES measurement and the phantom-to-quintessence transition in dark energy favored by DESI DR2 BAO data.         |\n",
       "|<p style=\"color:green\"> **ERROR** </p>| <p style=\"color:green\">affiliation error: mpia.affiliation_verifications: 'Heidelberg' keyword not found.</p> |"
      ],
      "text/plain": [
       "<IPython.core.display.Markdown object>"
      ]
     },
     "metadata": {},
     "output_type": "display_data"
    }
   ],
   "source": [
    "import datetime\n",
    "today = str(datetime.date.today())\n",
    "logfile = f\"_build/html/logs/log-{today}.md\"\n",
    "\n",
    "\n",
    "with open(logfile, 'w') as logs:\n",
    "    # Success\n",
    "    logs.write(f'# Arxiv on Deck 2: Logs - {today}\\n\\n')\n",
    "    logs.write(\"\"\"* Arxiv had {0:,d} new papers\\n\"\"\".format(len(new_papers)))\n",
    "    logs.write(\"\"\"    * {0:,d} with possible author matches\\n\\n\"\"\".format(len(candidates)))\n",
    "    logs.write(\"## Sucessful papers\\n\\n\")\n",
    "    display(Markdown(\"## Successful papers\"))\n",
    "    success = [k[0] for k in documents]\n",
    "    for candid in candidates:\n",
    "        if candid['identifier'].split(':')[-1] in success:\n",
    "            display(candid)\n",
    "            logs.write(candid.generate_markdown_text() + '\\n\\n')\n",
    "\n",
    "    ## failed\n",
    "    logs.write(\"## Failed papers\\n\\n\")\n",
    "    display(Markdown(\"## Failed papers\"))\n",
    "    failed = sorted(failed, key=lambda x: x[1])\n",
    "    current_reason = \"\"\n",
    "    for paper, reason in failed:\n",
    "        if 'affiliation' in reason:\n",
    "            color = 'green'\n",
    "        else:\n",
    "            color = 'red'\n",
    "        data = Markdown(\n",
    "                paper.generate_markdown_text() + \n",
    "                f'\\n|<p style=\"color:{color:s}\"> **ERROR** </p>| <p style=\"color:{color:s}\">{reason:s}</p> |'\n",
    "               )\n",
    "        if reason != current_reason:\n",
    "            logs.write(f'### {reason:s} \\n\\n')\n",
    "            current_reason = reason\n",
    "        logs.write(data.data + '\\n\\n')\n",
    "        \n",
    "        # only display here the important errors (all in logs)\n",
    "        # if color in ('red',):\n",
    "        display(data)"
   ]
  },
  {
   "cell_type": "markdown",
   "id": "472d20ee",
   "metadata": {
    "papermill": {
     "duration": 0.005564,
     "end_time": "2025-03-28T04:14:43.677510",
     "exception": false,
     "start_time": "2025-03-28T04:14:43.671946",
     "status": "completed"
    },
    "tags": []
   },
   "source": [
    "## Export documents\n",
    "\n",
    "We now write the .md files and export relevant images"
   ]
  },
  {
   "cell_type": "code",
   "execution_count": 7,
   "id": "d426aed9",
   "metadata": {
    "execution": {
     "iopub.execute_input": "2025-03-28T04:14:43.689508Z",
     "iopub.status.busy": "2025-03-28T04:14:43.689290Z",
     "iopub.status.idle": "2025-03-28T04:14:43.696356Z",
     "shell.execute_reply": "2025-03-28T04:14:43.695810Z"
    },
    "papermill": {
     "duration": 0.014382,
     "end_time": "2025-03-28T04:14:43.697412",
     "exception": false,
     "start_time": "2025-03-28T04:14:43.683030",
     "status": "completed"
    },
    "tags": []
   },
   "outputs": [],
   "source": [
    "def export_markdown_summary(md: str, md_fname:str, directory: str):\n",
    "    \"\"\"Export MD document and associated relevant images\"\"\"\n",
    "    import os\n",
    "    import shutil\n",
    "    import re\n",
    "\n",
    "    if (os.path.exists(directory) and not os.path.isdir(directory)):\n",
    "        raise RuntimeError(f\"a non-directory file exists with name {directory:s}\")\n",
    "\n",
    "    if (not os.path.exists(directory)):\n",
    "        print(f\"creating directory {directory:s}\")\n",
    "        os.mkdir(directory)\n",
    "\n",
    "    fig_fnames = (re.compile(r'\\[Fig.*\\]\\((.*)\\)').findall(md) + \n",
    "                  re.compile(r'\\<img src=\"([^>\\s]*)\"[^>]*/>').findall(md))\n",
    "    print(\"found figures\", fig_fnames)\n",
    "    for fname in fig_fnames:\n",
    "        if 'http' in fname:\n",
    "            # No need to copy online figures\n",
    "            continue\n",
    "        if not os.path.exists(fname):\n",
    "            print(\"file not found\", fname)\n",
    "            continue\n",
    "        print(\"copying \", fname, \"to\", directory)\n",
    "        destdir = os.path.join(directory, os.path.dirname(fname))\n",
    "        destfname = os.path.join(destdir, os.path.basename(fname))\n",
    "        try:\n",
    "            os.makedirs(destdir)\n",
    "        except FileExistsError:\n",
    "            pass\n",
    "        shutil.copy(fname, destfname)\n",
    "    with open(os.path.join(directory, md_fname), 'w') as fout:\n",
    "        fout.write(md)\n",
    "    print(\"exported in \", os.path.join(directory, md_fname))\n",
    "    [print(\"    + \" + os.path.join(directory,fk)) for fk in fig_fnames]"
   ]
  },
  {
   "cell_type": "code",
   "execution_count": 8,
   "id": "014d04a4",
   "metadata": {
    "execution": {
     "iopub.execute_input": "2025-03-28T04:14:43.709567Z",
     "iopub.status.busy": "2025-03-28T04:14:43.709160Z",
     "iopub.status.idle": "2025-03-28T04:14:43.721744Z",
     "shell.execute_reply": "2025-03-28T04:14:43.721180Z"
    },
    "papermill": {
     "duration": 0.019864,
     "end_time": "2025-03-28T04:14:43.722840",
     "exception": false,
     "start_time": "2025-03-28T04:14:43.702976",
     "status": "completed"
    },
    "tags": []
   },
   "outputs": [
    {
     "name": "stdout",
     "output_type": "stream",
     "text": [
      "found figures ['tmp_2503.20857/./figures_v1/Fig3_smhm.png', 'tmp_2503.20857/./figures_v1/Fig7_ficb.png', 'tmp_2503.20857/./figures_v1/Fig5_track.png']\n",
      "copying  tmp_2503.20857/./figures_v1/Fig3_smhm.png to _build/html/\n",
      "copying  tmp_2503.20857/./figures_v1/Fig7_ficb.png to _build/html/\n",
      "copying  tmp_2503.20857/./figures_v1/Fig5_track.png to _build/html/\n",
      "exported in  _build/html/2503.20857.md\n",
      "    + _build/html/tmp_2503.20857/./figures_v1/Fig3_smhm.png\n",
      "    + _build/html/tmp_2503.20857/./figures_v1/Fig7_ficb.png\n",
      "    + _build/html/tmp_2503.20857/./figures_v1/Fig5_track.png\n",
      "found figures ['tmp_2503.20864/./plots/barAge_mstar.png', 'tmp_2503.20864/./plots/mainResults_lSF.png', 'tmp_2503.20864/./plots/mainResults_hSF.png']\n",
      "copying  tmp_2503.20864/./plots/barAge_mstar.png to _build/html/\n",
      "copying  tmp_2503.20864/./plots/mainResults_lSF.png to _build/html/\n",
      "copying  tmp_2503.20864/./plots/mainResults_hSF.png to _build/html/\n",
      "exported in  _build/html/2503.20864.md\n",
      "    + _build/html/tmp_2503.20864/./plots/barAge_mstar.png\n",
      "    + _build/html/tmp_2503.20864/./plots/mainResults_lSF.png\n",
      "    + _build/html/tmp_2503.20864/./plots/mainResults_hSF.png\n",
      "found figures ['tmp_2503.21266/./plots/J_band_profiles.png', 'tmp_2503.21266/./plots/J_band_K_shift_param.png', 'tmp_2503.21266/./plots/J_band_spectrum.png']\n",
      "copying  tmp_2503.21266/./plots/J_band_profiles.png to _build/html/\n",
      "copying  tmp_2503.21266/./plots/J_band_K_shift_param.png to _build/html/\n",
      "copying  tmp_2503.21266/./plots/J_band_spectrum.png to _build/html/\n",
      "exported in  _build/html/2503.21266.md\n",
      "    + _build/html/tmp_2503.21266/./plots/J_band_profiles.png\n",
      "    + _build/html/tmp_2503.21266/./plots/J_band_K_shift_param.png\n",
      "    + _build/html/tmp_2503.21266/./plots/J_band_spectrum.png\n",
      "found figures ['tmp_2503.21304/./figs/new-figures/Mhvszall_arthur_log.png', 'tmp_2503.21304/./figs/new-figures/z_hist.png', 'tmp_2503.21304/./figs/new-figures/sfr_stellar_mass.png']\n",
      "copying  tmp_2503.21304/./figs/new-figures/Mhvszall_arthur_log.png to _build/html/\n",
      "copying  tmp_2503.21304/./figs/new-figures/z_hist.png to _build/html/\n",
      "copying  tmp_2503.21304/./figs/new-figures/sfr_stellar_mass.png to _build/html/\n",
      "exported in  _build/html/2503.21304.md\n",
      "    + _build/html/tmp_2503.21304/./figs/new-figures/Mhvszall_arthur_log.png\n",
      "    + _build/html/tmp_2503.21304/./figs/new-figures/z_hist.png\n",
      "    + _build/html/tmp_2503.21304/./figs/new-figures/sfr_stellar_mass.png\n"
     ]
    }
   ],
   "source": [
    "for paper_id, md in documents:\n",
    "    export_markdown_summary(md, f\"{paper_id:s}.md\", '_build/html/')"
   ]
  },
  {
   "cell_type": "markdown",
   "id": "f087a0a7",
   "metadata": {
    "papermill": {
     "duration": 0.005612,
     "end_time": "2025-03-28T04:14:43.734266",
     "exception": false,
     "start_time": "2025-03-28T04:14:43.728654",
     "status": "completed"
    },
    "tags": []
   },
   "source": [
    "## Display the papers\n",
    "\n",
    "Not necessary but allows for a quick check."
   ]
  },
  {
   "cell_type": "code",
   "execution_count": 9,
   "id": "fd25f625",
   "metadata": {
    "execution": {
     "iopub.execute_input": "2025-03-28T04:14:43.747058Z",
     "iopub.status.busy": "2025-03-28T04:14:43.746682Z",
     "iopub.status.idle": "2025-03-28T04:14:43.755433Z",
     "shell.execute_reply": "2025-03-28T04:14:43.754775Z"
    },
    "papermill": {
     "duration": 0.016388,
     "end_time": "2025-03-28T04:14:43.756468",
     "exception": false,
     "start_time": "2025-03-28T04:14:43.740080",
     "status": "completed"
    },
    "scrolled": false,
    "tags": []
   },
   "outputs": [
    {
     "data": {
      "text/markdown": [
       "<div class=\"macros\" style=\"visibility:hidden;\">\n",
       "$\\newcommand{\\ensuremath}{}$\n",
       "$\\newcommand{\\xspace}{}$\n",
       "$\\newcommand{\\object}[1]{\\texttt{#1}}$\n",
       "$\\newcommand{\\farcs}{{.}''}$\n",
       "$\\newcommand{\\farcm}{{.}'}$\n",
       "$\\newcommand{\\arcsec}{''}$\n",
       "$\\newcommand{\\arcmin}{'}$\n",
       "$\\newcommand{\\ion}[2]{#1#2}$\n",
       "$\\newcommand{\\textsc}[1]{\\textrm{#1}}$\n",
       "$\\newcommand{\\hl}[1]{\\textrm{#1}}$\n",
       "$\\newcommand{\\footnote}[1]{}$\n",
       "$\\newcommand{\\creflastconjunction}{, and\\nobreakspace}$\n",
       "$\\newcommand$\n",
       "$\\newcommand{\\bibfont}{\\aa@bibliographyfont}$\n",
       "$\\newcommand\\MSUN{M_{\\odot}}$</div>\n",
       "\n",
       "\n",
       "\n",
       "<div id=\"title\">\n",
       "\n",
       "# Intra-Cluster Light as a Dynamical Clock for Galaxy Clusters: Insights from the MAGNETICUM, IllustrisTNG, Hydrangea and Horizon-AGN Simulations\n",
       "\n",
       "</div>\n",
       "<div id=\"comments\">\n",
       "\n",
       "[![arXiv](https://img.shields.io/badge/arXiv-2503.20857-b31b1b.svg)](https://arxiv.org/abs/2503.20857)<mark>Appeared on: 2025-03-28</mark> -  _23 pages, 16 figures, submitted to A&A -- comments welcome!_\n",
       "\n",
       "</div>\n",
       "<div id=\"authors\">\n",
       "\n",
       "L. C. Kimmig, et al. -- incl., <mark>A. Pillepich</mark>\n",
       "\n",
       "</div>\n",
       "<div id=\"abstract\">\n",
       "\n",
       "**Abstract:** As the most massive nodes of the cosmic web, galaxy clusters represent the best probes of structure formation. Over time, they grow by accreting and disrupting satellite galaxies, adding those stars to the brightest cluster galaxy (BCG) and the intra-cluster light (ICL). However, the formation pathways of different galaxy clusters can vary significantly. To inform upcoming large surveys, we aim to identify observables that can distinguish galaxy cluster formation pathways. Using four different hydrodynamical simulations, Magneticum, TNG100 of IllustrisTNG, Horizon-AGN, and Hydrangea, we study how the fraction of stellar mass in the BCG and ICL ( $f_\\mathrm{ICL+BCG}$ ) relates to the galaxy cluster mass assembly history. For all simulations, $f_\\mathrm{ICL+BCG}$ is the best tracer for the time at which the cluster has accumulated 50 \\% of its mass ( $z_\\mathrm{form}$ ), performing better than other typical dynamical tracers, such as the subhalo mass fraction, the halo mass, and the position offset of the cluster mass barycenter to the BCG. More relaxed clusters have higher $f_\\mathrm{ICL+BCG}$ , in rare cases up to 90 \\% of all stellar mass, while dynamically active clusters have lower fractions, down to 20 \\% , which we find to be independent of the exact implemented baryonic physics. We determine the average increase in $f_\\mathrm{ICL+BCG}$ from stripping and mergers to be between 3-4 \\% per Gyr. $f_\\mathrm{ICL+BCG}$ itself is tightly traced by the stellar mass ratio between the BCG and both the second (M12) and fourth (M14) most massive cluster galaxy. The average galaxy cluster has assembled half of its halo mass by $z_\\mathrm{form}=0.67$ (about $6 $ Gyr ago), though individual histories vary significantly from $z_\\mathrm{form}=0.06$ to $z_\\mathrm{form}=1.77$ (0.8 to $10 $ Gyr ago). As all four cosmological simulations consistently find that $f_\\mathrm{ICL+BCG}$ is an excellent tracer of the cluster dynamical state, upcoming surveys can leverage measurements of $f_\\mathrm{ICL+BCG}$ to statistically quantify the assembly of the most massive structures through cosmic time.\n",
       "\n",
       "</div>\n",
       "\n",
       "<div id=\"div_fig1\">\n",
       "\n",
       "<img src=\"tmp_2503.20857/./figures_v1/Fig3_smhm.png\" alt=\"Fig7\" width=\"100%\"/>\n",
       "\n",
       "**Figure 7. -** _Left:_ Stellar mass of the central BCG within $100$ kpc versus the total halo mass $M_\\mathrm{200c}$ for the four simulations, scaled to a common $h$. Magneticum is plotted in blue, IllustrisTNG in purple, Hydrangea in orange and Horizon-AGN in gold. _Center:_ The same stellar mass plotted against the halo mass as given by $M_\\mathrm{500c}$. Also plotted are observations by \\citet{demaio18} and \\citet{kravtsov18}. _Right:_ The total stellar mass (BCG, ICL and satellites) against $M_\\mathrm{500c}$ for the simulations, as well as observations by \\citet{andreon:2012,lagana:2013,gonzalez13,budzynski14,kravtsov18,sartoris:2020}.\n",
       "     (*fig:smhm*)\n",
       "\n",
       "</div>\n",
       "<div id=\"div_fig2\">\n",
       "\n",
       "<img src=\"tmp_2503.20857/./figures_v1/Fig7_ficb.png\" alt=\"Fig3\" width=\"100%\"/>\n",
       "\n",
       "**Figure 3. -** _Upper panel:_$f_\\mathrm{ICL+BCG}$ versus formation redshift $z_\\mathrm{form}$, for the galaxy clusters from the Magneticum (blue), TNG100 (purple), Horizon-AGN (gold), and Hydrangea simulations (orange). The gray box displays the Pearson correlation coefficient for each simulation between $f_\\mathrm{ICL+BCG}$ and $z_\\mathrm{form}$. The closer the absolute value is to unity, the tighter the correlation. We further include best fit lines for each simulation determined via the least squares method (colored lines).\n",
       "    _Middle panel:_ The center shift between the $3$D gas barycenter and the location of the BCG (normalized by $R_\\mathrm{200c}$), plotted as a function of the formation redshift, with the colors the same as the upper panel.\n",
       "    _Lower panel:_ The fraction of the total halo mass mass which is in all subhalos $f_\\mathrm{sub}$(so excluding the central and diffuse halo) versus formation redshift, with colors as in the upper two panels.\n",
       "     (*fig:dyncor*)\n",
       "\n",
       "</div>\n",
       "<div id=\"div_fig3\">\n",
       "\n",
       "<img src=\"tmp_2503.20857/./figures_v1/Fig5_track.png\" alt=\"Fig8\" width=\"100%\"/>\n",
       "\n",
       "**Figure 8. -** _Upper row:_ Evolution of the halo mass $M_\\mathrm{200,c}$ with redshift $z$ for all clusters in the Magneticum Box2 hr simulation, normalized to the final mass $M_\\mathrm{200,c}(z=0)$. The black line shows the median, with the dark shaded area marking the $1\\sigma$-bounds and the light shaded area marking the $2\\sigma$-bounds. The colored lines and their $1\\sigma$-bounds show the evolution of a subset of clusters split by their formation redshift (_left_) or their $f_\\mathrm{ICL+BCG}$(_right_) as given in the legend. Black dash-dotted vertical lines mark the redshifts at which the average cluster has accumulated 20\\%, 50\\%, and 90\\% of its total mass (horizontal black lines), marked by $z_\\mathrm{20}$, $z_\\mathrm{50}$, and $z_\\mathrm{90}$, respectively. Note that $z_\\mathrm{50}$ is what we define as formation redshift of a cluster.\n",
       "    _Lower row_: Evolution of $f_\\mathrm{ICL+BCG}$ with redshift $z$. As in the upper panel, the black line marks the average evolution of all clusters from Magneticum, with the gray shaded areas showing the $1\\sigma$- and $2\\sigma$-bounds. The colored lines and regions show the median and $1\\sigma$-bounds for the same subsets of galaxy clusters.\n",
       "     (*fig:tracks*)\n",
       "\n",
       "</div><div id=\"qrcode\"><img src=https://api.qrserver.com/v1/create-qr-code/?size=100x100&data=\"https://arxiv.org/abs/2503.20857\"></div>"
      ],
      "text/plain": [
       "<IPython.core.display.Markdown object>"
      ]
     },
     "metadata": {},
     "output_type": "display_data"
    },
    {
     "data": {
      "text/markdown": [
       "<div class=\"macros\" style=\"visibility:hidden;\">\n",
       "$\\newcommand{\\ensuremath}{}$\n",
       "$\\newcommand{\\xspace}{}$\n",
       "$\\newcommand{\\object}[1]{\\texttt{#1}}$\n",
       "$\\newcommand{\\farcs}{{.}''}$\n",
       "$\\newcommand{\\farcm}{{.}'}$\n",
       "$\\newcommand{\\arcsec}{''}$\n",
       "$\\newcommand{\\arcmin}{'}$\n",
       "$\\newcommand{\\ion}[2]{#1#2}$\n",
       "$\\newcommand{\\textsc}[1]{\\textrm{#1}}$\n",
       "$\\newcommand{\\hl}[1]{\\textrm{#1}}$\n",
       "$\\newcommand{\\footnote}[1]{}$\n",
       "$\\newcommand{\\arraystretch}{1.2}$\n",
       "$\\newcommand{\\arraystretch}{1.1}$\n",
       "$\\newcommand{\\arraystretch}{1.5}$</div>\n",
       "\n",
       "\n",
       "\n",
       "<div id=\"title\">\n",
       "\n",
       "# Bar ages derived for the first time in nearby galaxies: Insights on secular evolution from the TIMER sample\n",
       "\n",
       "</div>\n",
       "<div id=\"comments\">\n",
       "\n",
       "[![arXiv](https://img.shields.io/badge/arXiv-2503.20864-b31b1b.svg)](https://arxiv.org/abs/2503.20864)<mark>Appeared on: 2025-03-28</mark> -  _Accepted for publication in Astronomy & Astrophysics (A&A), 20 pages, 13 Figures, 3 Appendice Figures_\n",
       "\n",
       "</div>\n",
       "<div id=\"authors\">\n",
       "\n",
       "C. d. Sá-Freitas, et al. -- incl., <mark>J. Neumann</mark>\n",
       "\n",
       "</div>\n",
       "<div id=\"abstract\">\n",
       "\n",
       "**Abstract:** Once galaxies settle their discs and become self-gravitating, stellar bars can form, driving the subsequent evolution of their host galaxy. Determining the ages of bars can therefore shed light on the epoch of the onset of secular evolution. In this work, we apply the first broadly applicable methodology to derive bar ages to a sample of 20 nearby galaxies. The method is based on the co-eval build-up of nuclear structures and bars, and involves using integral field spectroscopic (IFS) data from the Multi Unit Spectroscopic Explorer (MUSE) instrument on the Very Large Telescope to disentangle the star formation history of the nuclear disc from the background population. This allows us to derive the formation epoch of the nuclear disc and, thus, of the bar. We estimate the bar formation epoch of nearby galaxies -- mostly from the TIMER survey--, creating the largest sample of galaxies with known bar ages to date. We find bar formation epochs varying between $1$ and $13 \\mathrm{Gyr}$ ago, illustrating how disc-settling and bar formation are processes that first took place in the early Universe and are still taking place in some galaxies. We infer the bar fraction over cosmological time with our sample, finding remarkable agreement with that obtained from direct studies of galaxies at high redshifts. Additionally, for the first time we are able to investigate secular evolution processes taking into account the ages of bars. Our results agree with the scenario in which bars aid the quenching of the host galaxy, with galaxies hosting older bars tending to be more \"quenched\". We also find that older bars tend to be longer, stronger and host larger nuclear discs. \\textcolor{black}{Furthermore, we find evidence of the nuclear disc stellar mass build-up over time.} On the other hand, we find no evidence of downsizing playing a role on bar formation, since we find that bar age is independent of galaxy stellar mass. With the means to estimate bar ages, we can begin to understand better when and how bars shape the observed properties of disc galaxies.\n",
       "\n",
       "</div>\n",
       "\n",
       "<div id=\"div_fig1\">\n",
       "\n",
       "<img src=\"tmp_2503.20864/./plots/barAge_mstar.png\" alt=\"Fig3\" width=\"100%\"/>\n",
       "\n",
       "**Figure 3. -** **Stellar masses as a function of bar ages**. We consider the stellar masses from the S$^4$G survey, obtained with the $3.6\\mu\\mathrm{m}$ band (\\citealp{munoz2015spitzer}) and the bar ages derived in this work.  We bootstrapped our sample $1000$ times in order to robustly estimate the _Pearson_ correlation coefficient and the $p-value$, with associated uncertainties. Lastly, we display the mean errors in the bar age \\color{black} and stellar mass \\color{black}estimates (black-dot). \\color{black} As discussed in munoz2015spitzer, the main source of error in the galaxy stellar mass comes from errors in distance estimates, which translate to $\\pm0.32$ dex error in mass. \\color{black} Contrary to downsizing predictions, we find no correlation between the two properties, with a weak Pearson coefficient of $r=-0.180\\pm0.007$ -- illustrated by the dotted line. (*fig_barAge_mstar*)\n",
       "\n",
       "</div>\n",
       "<div id=\"div_fig2\">\n",
       "\n",
       "<img src=\"tmp_2503.20864/./plots/mainResults_lSF.png\" alt=\"Fig15\" width=\"100%\"/>\n",
       "\n",
       "**Figure 15. -** Individual measurements of bar age of the low-SF sample. Following the de2023new methodology, we define the bar age as the moment in which the SFH of the nuclear disc (dashed-blue line) overcome the SFH of the main disc (dot-dashed-green line). Additionally, based on the tests performed in de2023new and here, we estimate the systematic measurement error of $^{+1.8}_{-1.4} \\mathrm{Gyr}$.  (*fig_lSFmain*)\n",
       "\n",
       "</div>\n",
       "<div id=\"div_fig3\">\n",
       "\n",
       "<img src=\"tmp_2503.20864/./plots/mainResults_hSF.png\" alt=\"Fig16\" width=\"100%\"/>\n",
       "\n",
       "**Figure 16. -** Same as Fig. \\ref{fig_lSFmain}, for the high-SF sub-sample. (*fig_hSFmain*)\n",
       "\n",
       "</div><div id=\"qrcode\"><img src=https://api.qrserver.com/v1/create-qr-code/?size=100x100&data=\"https://arxiv.org/abs/2503.20864\"></div>"
      ],
      "text/plain": [
       "<IPython.core.display.Markdown object>"
      ]
     },
     "metadata": {},
     "output_type": "display_data"
    },
    {
     "data": {
      "text/markdown": [
       "<div class=\"macros\" style=\"visibility:hidden;\">\n",
       "$\\newcommand{\\ensuremath}{}$\n",
       "$\\newcommand{\\xspace}{}$\n",
       "$\\newcommand{\\object}[1]{\\texttt{#1}}$\n",
       "$\\newcommand{\\farcs}{{.}''}$\n",
       "$\\newcommand{\\farcm}{{.}'}$\n",
       "$\\newcommand{\\arcsec}{''}$\n",
       "$\\newcommand{\\arcmin}{'}$\n",
       "$\\newcommand{\\ion}[2]{#1#2}$\n",
       "$\\newcommand{\\textsc}[1]{\\textrm{#1}}$\n",
       "$\\newcommand{\\hl}[1]{\\textrm{#1}}$\n",
       "$\\newcommand{\\footnote}[1]{}$\n",
       "$\\newcommand{\\arraystretch}{1.4}$</div>\n",
       "\n",
       "\n",
       "\n",
       "<div id=\"title\">\n",
       "\n",
       "# The ESO SupJup Survey VII: Clouds and line asymmetries in CRIRES$^+$ J-band spectra of the Luhman 16 binary\n",
       "\n",
       "</div>\n",
       "<div id=\"comments\">\n",
       "\n",
       "[![arXiv](https://img.shields.io/badge/arXiv-2503.21266-b31b1b.svg)](https://arxiv.org/abs/2503.21266)<mark>Appeared on: 2025-03-28</mark> -  _Accepted for publication in A&A_\n",
       "\n",
       "</div>\n",
       "<div id=\"authors\">\n",
       "\n",
       "S. d. Regt, et al. -- incl., <mark>P. Mollière</mark>\n",
       "\n",
       "</div>\n",
       "<div id=\"abstract\">\n",
       "\n",
       "**Abstract:** Brown dwarfs at the L-T transition likely experience an inhomogeneous clearing of the clouds in their atmospheres. The resulting surface of thin and thick cloudy patches has been put forward to explain the observed variability, J-band brightening, and re-emergence of FeH absorption. We study the closest brown dwarf binary, Luhman 16A and B, in an effort to constrain their chemical and cloud compositions. As this binary consists of an L7.5 and T0.5 component, we gain insight into the atmospheric properties at the L-T transition. As part of the ESO SupJup Survey, we observed Luhman 16AB at high spectral resolution in the J-band ( $1.1$ -- $1.4 \\mathrm{\\mu m}$ ) using CRIRES $^+$ . To analyse the spectra, we employ an atmospheric retrieval framework, coupling the radiative transfer code \\texttt{petitRADTRANS} with the \\texttt{MultiNest} sampling algorithm. For both objects, we report detections of $H_2$ O, K, Na, FeH, and, for the first time in the J-band, hydrogen-fluoride (HF). The K doublet at $1250 \\mathrm{nm}$ shows asymmetric absorption in the blue line wings, which are reproduced via pressure- and temperature-dependent shifts of the line cores. We find evidence for clouds in both spectra and we place constraints on an FeH-depletion in the Luhman 16A photosphere. The inferred over-abundance of FeH for Luhman 16B opposes its predicted rainout into iron clouds. A two-column model, which emulates the patchy surface expected at the L-T transition, is weakly preferred ( $\\sim$ $1.8\\sigma$ ) for component B but disfavoured for A ( $\\sim$ $5.5\\sigma$ ). The results suggest a uniform surface on Luhman 16A, which is in good agreement with the reduced variability observed for this L-type component. While the presented evidence is not sufficient to draw conclusions about any inhomogeneity on Luhman 16B, future observations covering a broader wavelength range could help to test the cloud-clearing hypothesis.\n",
       "\n",
       "</div>\n",
       "\n",
       "<div id=\"div_fig1\">\n",
       "\n",
       "<img src=\"tmp_2503.21266/./plots/J_band_profiles.png\" alt=\"Fig7\" width=\"100%\"/>\n",
       "\n",
       "**Figure 7. -** Retrieved vertical profiles of Luhman 16A (solid) and Luhman 16B (dashed). _Left panel_: chemical abundances and the $68$, $95$ and $99.7\\%$ confidence envelopes of each species, for both brown dwarfs. The dotted lines show the chemical-equilibrium abundances computed with \\texttt{FastChem} ([Kitzmann, Stock and Patzer 2024]()) . With the exception of FeH, the modelled abundances are constant with altitude and thus do not show the drop-offs exhibited by the equilibrium profiles.\n",
       "    _Middle panel_: inferred temperature profiles and the condensation curves (dotted) of four cloud species  ([Visscher, Lodders and Fegley 2006](), [Visscher, Lodders and Fegley 2010]()) . _Right panel_: grey-cloud opacities retrieved as a function of altitude. The orange and blue shading in the panel gaps indicate the Luhman 16AB photospheres as obtained with the integrated emission contribution functions. (*fig:vertical_profiles*)\n",
       "\n",
       "</div>\n",
       "<div id=\"div_fig2\">\n",
       "\n",
       "<img src=\"tmp_2503.21266/./plots/J_band_K_shift_param.png\" alt=\"Fig1\" width=\"100%\"/>\n",
       "\n",
       "**Figure 1. -** Variation with temperature of the broadening ($\\gamma_W/n_p$, solid) and shift ($d/n_p$, dashed) rates of the $\\mathrm{4p^2P_{3/2}-5s}$(green) and $\\mathrm{4p^2P_{1/2}-5s}$(purple) lines, perturbed by $H_2$ and He. The van der Waals (vdW) broadening, computed with Eq. \\ref{eq:width_Kurucz}, is shown in black for comparison. (*fig:core_power_law*)\n",
       "\n",
       "</div>\n",
       "<div id=\"div_fig3\">\n",
       "\n",
       "<img src=\"tmp_2503.21266/./plots/J_band_spectrum.png\" alt=\"Fig3\" width=\"100%\"/>\n",
       "\n",
       "**Figure 3. -** CRIRES$^+$ J-band spectra of the Luhman 16 binary. _Top panel_: nine spectral orders covered in the J1226 wavelength setting. The two reddest order-detector pairs are omitted, as described in Sect. \\ref{sect:obs_and_red}. _Lower panels_: zoom-ins showing the similar absorption features between the brown dwarfs. (*fig:spectrum*)\n",
       "\n",
       "</div><div id=\"qrcode\"><img src=https://api.qrserver.com/v1/create-qr-code/?size=100x100&data=\"https://arxiv.org/abs/2503.21266\"></div>"
      ],
      "text/plain": [
       "<IPython.core.display.Markdown object>"
      ]
     },
     "metadata": {},
     "output_type": "display_data"
    },
    {
     "data": {
      "text/markdown": [
       "<div class=\"macros\" style=\"visibility:hidden;\">\n",
       "$\\newcommand{\\ensuremath}{}$\n",
       "$\\newcommand{\\xspace}{}$\n",
       "$\\newcommand{\\object}[1]{\\texttt{#1}}$\n",
       "$\\newcommand{\\farcs}{{.}''}$\n",
       "$\\newcommand{\\farcm}{{.}'}$\n",
       "$\\newcommand{\\arcsec}{''}$\n",
       "$\\newcommand{\\arcmin}{'}$\n",
       "$\\newcommand{\\ion}[2]{#1#2}$\n",
       "$\\newcommand{\\textsc}[1]{\\textrm{#1}}$\n",
       "$\\newcommand{\\hl}[1]{\\textrm{#1}}$\n",
       "$\\newcommand{\\footnote}[1]{}$\n",
       "$\\newcommand{\\N}[1]{\\textcolor{violet}{#1}}$\n",
       "$\\newcommand{\\T}[1]{\\textcolor{teal}{#1}}$\n",
       "$\\newcommand{\\BLF}[1]{\\textcolor{green}{#1}}$\n",
       "$\\newcommand{\\HD}[1]{\\textcolor{magenta}{#1}}$\n",
       "$\\newcommand{\\DS}[1]{\\textcolor{brown}{DS: #1}}$\n",
       "$\\newcommand{\\OC}[1]{\\textcolor{orange}{#1}}$\n",
       "$\\newcommand{\\Mh}[0]{M_{\\rm h}}$\n",
       "$\\newcommand{\\pd}{\\phantom{0}}$\n",
       "$\\newcommand{\\pa}{\\phantom{a}}$\n",
       "$\\newcommand{\\orcid}[1]$\n",
       "$\\newcommand{\\Planck}{\\textit{Planck}}$\n",
       "$\\newcommand{\\Herschel}{\\textit{Herschel}}$\n",
       "$\\newcommand{\\Spitzer}{\\textit{Spitzer}}$\n",
       "$\\newcommand{\\protoa}{G254\\_EUC\\_2}$\n",
       "$\\newcommand{\\protob}{G257\\_EUC\\_3}$</div>\n",
       "\n",
       "\n",
       "\n",
       "<div id=\"title\">\n",
       "\n",
       "# Euclid Quick Data Release (Q1): The $\\Euclid$ view on $\\Planck$ galaxy protocluster candidates: towards a probe of the highest sites of star formation at cosmic noon\n",
       "\n",
       "</div>\n",
       "<div id=\"comments\">\n",
       "\n",
       "[![arXiv](https://img.shields.io/badge/arXiv-2503.21304-b31b1b.svg)](https://arxiv.org/abs/2503.21304)<mark>Appeared on: 2025-03-28</mark> -  _18 pages, 11 figures. Submitted to A&A_\n",
       "\n",
       "</div>\n",
       "<div id=\"authors\">\n",
       "\n",
       "E. Collaboration, et al. -- incl., <mark>K. Jahnke</mark>\n",
       "\n",
       "</div>\n",
       "<div id=\"abstract\">\n",
       "\n",
       "**Abstract:** We search for galaxy protoclusters at redshifts $z > 1.5$ in the first data release (Q1) of the $\\Euclid$ survey. We make use of the catalogues delivered by the $\\Euclid$ Science Ground Segment (SGS), especially the positions, photometry, photometric redshifts, and derived physical parameters. After a galaxy selection on the $\\HE$ magnitude and on the photometric redshift quality, we undertake the search using the \\texttt{DETECTIFz} algorithm, an overdensity finder based on Delaunay tessellation that uses photometric redshift probability distributions through Monte Carlo simulations.In this pilot study, we conduct a search in the 11 $\\Euclid$ tiles that contain previously known $\\Planck$ high star-forming galaxy protocluster candidates, covering 2.75 deg $^2$ of the whole 63 deg $^2$ of Q1. We then focus on the two $\\Euclid$ protocluster candidates that coincide with these $\\Planck$ fields.These counterparts lie at photometric redshifts $z_{\\rm ph}=1.63^{+0.19}_{-0.23}$ and $z_{\\rm ph}=1.56^{+0.18}_{-0.21}$ . One of them also has partial $\\Herschel$ coverage. Both detections have been confirmed by the independent protocluster detection algorithms Poisson Probability Method (PPM) and Monte-Carlo Delaunay Tesselation Field Estimator (MC-DTFE-LoG). We study the colours, the derived stellar masses (regarded as lower limits) and star-formation rates of the detected protoclusters. We also estimate their halo mass lower limits using stellar mass-halo mass relations from the literature.We investigate whether we are intercepting these galaxy overdensities in their `dying' (or `swan song') phase, such that the high star-formation rates would be due to their last unsustainable starburst (or star-formation event) before transitioning and maturing to groups or clusters of galaxies. Some galaxy members are found to lie above the main sequence of galaxies (star-formation rate versus stellar mass). These $\\Planck$ and $\\Euclid$ overdense regions occupy a position in the dark matter halo mass ( $\\Mh$ ) / redshift ( $z$ ) plane at 13.0 $<\\log_{10} \\Mh<$ 13.5, $1.5<z<$ 2; in this locus, halos of forming galaxy clusters are expected to have experienced a transition between cold flows with no shock heating throughout the halo to shock heating in the halo.Finally, we empirically update the potential for galaxy protocluster discoveries at redshift up to $z \\simeq3$ (wide survey) and $z \\simeq5.5$ (deep survey) with $\\Euclid$ for the next data release (DR1).\n",
       "\n",
       "</div>\n",
       "\n",
       "<div id=\"div_fig1\">\n",
       "\n",
       "<img src=\"tmp_2503.21304/./figs/new-figures/Mhvszall_arthur_log.png\" alt=\"Fig9\" width=\"100%\"/>\n",
       "\n",
       "**Figure 9. -** Protocluster halo mass ($M_{\\rm h}$) versus redshift $z$(notice the log-log scale), colour-coded by star-formation rate (SFR, colour bar). \\Euclid protocluster lower limits: triangles, using Method B [S22]([Shuntov, McCracken and Gavazzi (2022)](), see Sect. \\ref{sect:mstar_mh} for details.\n",
       "Circles are protoclusters from the literature: [ and Casey (2016)](); [Polletta, Soucail and Dole (2021)](); [Laporte, Zitrin and Dole (2022)](); [Morishita, Roberts-Borsani and Treu (2023)](); [Morishita, Liu and Stiavelli (2024)](); [Sillassen, Jin and Magdis (2024)](); and [Shimakawa, Pérez-Martínez and Dannerbauer (2024)](). The lines illustrate the different predicted gas-cooling regimes: dotted lines come from [ and Dekel (2006)]()(red dashes) and [Daddi, Delvecchio and Dimauro (2022)]()(blue dashes) and separate loci of cold gas in a hot medium (top right) and hot gas (top left); halo masses below the horizontal red dashed line $M_{\\rm shock}$, coming from [ and Dekel (2006)](), are predicted to contain only cold flows with no shock heating within haloes at $z<5$.\n",
       " (*fig:arthur_mh_vs_z*)\n",
       "\n",
       "</div>\n",
       "<div id=\"div_fig2\">\n",
       "\n",
       "<img src=\"tmp_2503.21304/./figs/new-figures/z_hist.png\" alt=\"Fig1\" width=\"100%\"/>\n",
       "\n",
       "**Figure 1. -** Photometric distributions of the \\Euclid overdensities outside $\\Planck$ beams: red, overdensities with S/N $\\geq 2$; and blue, S/N $\\geq 3$ outside the $\\Planck$ beams. Vertical dashed lines represent the values corresponding to the detections inside the $\\Planck$ beams, with $2 \\leq$ S/N $<3$(red dashes) or S/N $\\geq 3$(blue dashes).\n",
       " (*fig:z_hist*)\n",
       "\n",
       "</div>\n",
       "<div id=\"div_fig3\">\n",
       "\n",
       "<img src=\"tmp_2503.21304/./figs/new-figures/sfr_stellar_mass.png\" alt=\"Fig2\" width=\"100%\"/>\n",
       "\n",
       "**Figure 2. -** Star-formation rate as a function of stellar mass of the \\Euclid protocluster candidates. Dots represent overdensities with a signal to noise ratio above 2 or 3 outside the $\\Planck$ beams, depending on their colour. The two squares are the protocluster candidates discussed in this pilot study. Histograms for stellar mass (top) and SFR (right) are plotted using only detections outside the $\\Planck$ beams.\n",
       " (*fig:SFR_vs_Mstar_stat_sample*)\n",
       "\n",
       "</div><div id=\"qrcode\"><img src=https://api.qrserver.com/v1/create-qr-code/?size=100x100&data=\"https://arxiv.org/abs/2503.21304\"></div>"
      ],
      "text/plain": [
       "<IPython.core.display.Markdown object>"
      ]
     },
     "metadata": {},
     "output_type": "display_data"
    }
   ],
   "source": [
    "[display(Markdown(k[1])) for k in documents];"
   ]
  },
  {
   "cell_type": "markdown",
   "id": "873873a4",
   "metadata": {
    "papermill": {
     "duration": 0.006228,
     "end_time": "2025-03-28T04:14:43.769074",
     "exception": false,
     "start_time": "2025-03-28T04:14:43.762846",
     "status": "completed"
    },
    "tags": []
   },
   "source": [
    "# Create HTML index"
   ]
  },
  {
   "cell_type": "code",
   "execution_count": 10,
   "id": "cf665672",
   "metadata": {
    "execution": {
     "iopub.execute_input": "2025-03-28T04:14:43.782846Z",
     "iopub.status.busy": "2025-03-28T04:14:43.782300Z",
     "iopub.status.idle": "2025-03-28T04:14:43.792144Z",
     "shell.execute_reply": "2025-03-28T04:14:43.791515Z"
    },
    "papermill": {
     "duration": 0.017659,
     "end_time": "2025-03-28T04:14:43.793156",
     "exception": false,
     "start_time": "2025-03-28T04:14:43.775497",
     "status": "completed"
    },
    "tags": []
   },
   "outputs": [
    {
     "name": "stdout",
     "output_type": "stream",
     "text": [
      "412  publications files modified in the last 7 days.\n"
     ]
    }
   ],
   "source": [
    "from datetime import datetime, timedelta, timezone\n",
    "from glob import glob\n",
    "import os\n",
    "\n",
    "files = glob('_build/html/*.md')\n",
    "days = 7\n",
    "now = datetime.today()\n",
    "res = []\n",
    "for fk in files:\n",
    "    stat_result = os.stat(fk).st_ctime\n",
    "    modified = datetime.fromtimestamp(stat_result, tz=timezone.utc).replace(tzinfo=None)\n",
    "    delta = now.today() - modified\n",
    "    if delta <= timedelta(days=days):\n",
    "        res.append((delta.seconds, fk))\n",
    "res = [k[1] for k in reversed(sorted(res, key=lambda x:x[1]))]\n",
    "npub = len(res)\n",
    "print(len(res), f\" publications files modified in the last {days:d} days.\")\n",
    "# [ print('\\t', k) for k in res ];"
   ]
  },
  {
   "cell_type": "code",
   "execution_count": 11,
   "id": "015de740",
   "metadata": {
    "execution": {
     "iopub.execute_input": "2025-03-28T04:14:43.806917Z",
     "iopub.status.busy": "2025-03-28T04:14:43.806576Z",
     "iopub.status.idle": "2025-03-28T04:14:43.828041Z",
     "shell.execute_reply": "2025-03-28T04:14:43.827415Z"
    },
    "papermill": {
     "duration": 0.029449,
     "end_time": "2025-03-28T04:14:43.829025",
     "exception": false,
     "start_time": "2025-03-28T04:14:43.799576",
     "status": "completed"
    },
    "tags": []
   },
   "outputs": [
    {
     "name": "stdout",
     "output_type": "stream",
     "text": [
      "19  publications in the last 7 days.\n"
     ]
    }
   ],
   "source": [
    "import datetime\n",
    "from glob import glob\n",
    "\n",
    "def get_last_n_days(lst, days=1):\n",
    "    \"\"\" Get the documents from the last n days \"\"\"\n",
    "    sorted_lst = sorted(lst, key=lambda x: x[1], reverse=True)\n",
    "    for fname, date in sorted_lst:\n",
    "        if date >= str(datetime.date.today() - datetime.timedelta(days=days)):\n",
    "            yield fname\n",
    "\n",
    "def extract_appearance_dates(lst_file):\n",
    "    dates = []\n",
    "\n",
    "    def get_date(line):\n",
    "        return line\\\n",
    "            .split('Appeared on:')[-1]\\\n",
    "            .split('</mark>')[0].strip()\n",
    "\n",
    "    for fname in lst:\n",
    "        with open(fname, 'r') as f:\n",
    "            found_date = False\n",
    "            for line in f:\n",
    "                if not found_date:\n",
    "                    if \"Appeared on\" in line:\n",
    "                        found_date = True\n",
    "                        dates.append((fname, get_date(line)))\n",
    "                else:\n",
    "                    break\n",
    "    return dates\n",
    "\n",
    "from glob import glob\n",
    "lst = glob('_build/html/*md')\n",
    "days = 7\n",
    "dates = extract_appearance_dates(lst)\n",
    "res = list(get_last_n_days(dates, days))\n",
    "npub = len(res)\n",
    "print(len(res), f\" publications in the last {days:d} days.\")"
   ]
  },
  {
   "cell_type": "code",
   "execution_count": 12,
   "id": "52ca0208",
   "metadata": {
    "execution": {
     "iopub.execute_input": "2025-03-28T04:14:43.843082Z",
     "iopub.status.busy": "2025-03-28T04:14:43.842598Z",
     "iopub.status.idle": "2025-03-28T04:14:43.847418Z",
     "shell.execute_reply": "2025-03-28T04:14:43.846874Z"
    },
    "papermill": {
     "duration": 0.012842,
     "end_time": "2025-03-28T04:14:43.848426",
     "exception": false,
     "start_time": "2025-03-28T04:14:43.835584",
     "status": "completed"
    },
    "scrolled": false,
    "tags": []
   },
   "outputs": [],
   "source": [
    "def create_carousel(npub=4):\n",
    "    \"\"\" Generate the HTML code for a carousel with `npub` slides \"\"\"\n",
    "    carousel = [\"\"\"  <div class=\"carousel\" \"\"\",\n",
    "                \"\"\"       data-flickity='{ \"autoPlay\": 10000, \"adaptiveHeight\": true, \"resize\": true, \"wrapAround\": true, \"pauseAutoPlayOnHover\": true, \"groupCells\": 1 }' id=\"asyncTypeset\">\"\"\"\n",
    "                ]\n",
    "    \n",
    "    item_str = \"\"\"    <div class=\"carousel-cell\"> <div id=\"slide{k}\" class=\"md_view\">Content {k}</div> </div>\"\"\"\n",
    "    for k in range(1, npub + 1):\n",
    "        carousel.append(item_str.format(k=k))\n",
    "    carousel.append(\"  </div>\")\n",
    "    return '\\n'.join(carousel)\n",
    "\n",
    "def create_grid(npub=4):\n",
    "    \"\"\" Generate the HTML code for a flat grid with `npub` slides \"\"\"\n",
    "    grid = [\"\"\"  <div class=\"grid\"> \"\"\",\n",
    "                ]\n",
    "    \n",
    "    item_str = \"\"\"    <div class=\"grid-item\"> <div id=\"slide{k}\" class=\"md_view\">Content {k}</div> </div>\"\"\"\n",
    "    for k in range(1, npub + 1):\n",
    "        grid.append(item_str.format(k=k))\n",
    "    grid.append(\"  </div>\")\n",
    "    return '\\n'.join(grid)"
   ]
  },
  {
   "cell_type": "code",
   "execution_count": 13,
   "id": "a6eac5b6",
   "metadata": {
    "execution": {
     "iopub.execute_input": "2025-03-28T04:14:43.862781Z",
     "iopub.status.busy": "2025-03-28T04:14:43.862389Z",
     "iopub.status.idle": "2025-03-28T04:14:43.867590Z",
     "shell.execute_reply": "2025-03-28T04:14:43.866915Z"
    },
    "papermill": {
     "duration": 0.013452,
     "end_time": "2025-03-28T04:14:43.868580",
     "exception": false,
     "start_time": "2025-03-28T04:14:43.855128",
     "status": "completed"
    },
    "scrolled": false,
    "tags": []
   },
   "outputs": [],
   "source": [
    "carousel = create_carousel(npub)\n",
    "docs = ', '.join(['\"{0:s}\"'.format(k.split('/')[-1]) for k in res])\n",
    "slides = ', '.join([f'\"slide{k}\"' for k in range(1, npub + 1)])\n",
    "\n",
    "with open(\"daily_template.html\", \"r\") as tpl:\n",
    "    page = tpl.read()\n",
    "    page = page.replace(\"{%-- carousel:s --%}\", carousel)\\\n",
    "               .replace(\"{%-- suptitle:s --%}\",  \"7-day archives\" )\\\n",
    "               .replace(\"{%-- docs:s --%}\", docs)\\\n",
    "               .replace(\"{%-- slides:s --%}\", slides)\n",
    "    \n",
    "with open(\"_build/html/index_7days.html\", 'w') as fout:\n",
    "    fout.write(page)"
   ]
  },
  {
   "cell_type": "code",
   "execution_count": 14,
   "id": "adc1a1ec",
   "metadata": {
    "execution": {
     "iopub.execute_input": "2025-03-28T04:14:43.882698Z",
     "iopub.status.busy": "2025-03-28T04:14:43.882268Z",
     "iopub.status.idle": "2025-03-28T04:14:43.889081Z",
     "shell.execute_reply": "2025-03-28T04:14:43.888574Z"
    },
    "papermill": {
     "duration": 0.014901,
     "end_time": "2025-03-28T04:14:43.889985",
     "exception": false,
     "start_time": "2025-03-28T04:14:43.875084",
     "status": "completed"
    },
    "tags": []
   },
   "outputs": [
    {
     "name": "stdout",
     "output_type": "stream",
     "text": [
      "5  publications in the last day.\n"
     ]
    }
   ],
   "source": [
    "# redo for today\n",
    "days = 1\n",
    "res = list(get_last_n_days(dates, days))\n",
    "npub = len(res)\n",
    "print(len(res), f\" publications in the last day.\")\n",
    "\n",
    "carousel = create_carousel(npub)\n",
    "docs = ', '.join(['\"{0:s}\"'.format(k.split('/')[-1]) for k in res])\n",
    "slides = ', '.join([f'\"slide{k}\"' for k in range(1, npub + 1)])\n",
    "\n",
    "with open(\"daily_template.html\", \"r\") as tpl:\n",
    "    page = tpl.read()\n",
    "    page = page.replace(\"{%-- carousel:s --%}\", carousel)\\\n",
    "               .replace(\"{%-- suptitle:s --%}\",  \"Daily\" )\\\n",
    "               .replace(\"{%-- docs:s --%}\", docs)\\\n",
    "               .replace(\"{%-- slides:s --%}\", slides)\n",
    "    \n",
    "# print(carousel, docs, slides)\n",
    "# print(page)\n",
    "with open(\"_build/html/index_daily.html\", 'w') as fout:\n",
    "    fout.write(page)"
   ]
  },
  {
   "cell_type": "code",
   "execution_count": 15,
   "id": "00eece82",
   "metadata": {
    "execution": {
     "iopub.execute_input": "2025-03-28T04:14:43.904157Z",
     "iopub.status.busy": "2025-03-28T04:14:43.903768Z",
     "iopub.status.idle": "2025-03-28T04:14:43.910274Z",
     "shell.execute_reply": "2025-03-28T04:14:43.909727Z"
    },
    "papermill": {
     "duration": 0.014613,
     "end_time": "2025-03-28T04:14:43.911206",
     "exception": false,
     "start_time": "2025-03-28T04:14:43.896593",
     "status": "completed"
    },
    "scrolled": false,
    "tags": []
   },
   "outputs": [
    {
     "name": "stdout",
     "output_type": "stream",
     "text": [
      "6  6 publications selected.\n"
     ]
    }
   ],
   "source": [
    "# Create the flat grid of the last N papers (fixed number regardless of dates)\n",
    "from itertools import islice \n",
    "\n",
    "npub = 6\n",
    "res = [k[0] for k in (islice(reversed(sorted(dates, key=lambda x: x[1])), 6))]\n",
    "print(len(res), f\" {npub} publications selected.\")\n",
    "\n",
    "grid = create_grid(npub)\n",
    "docs = ', '.join(['\"{0:s}\"'.format(k.split('/')[-1]) for k in res])\n",
    "slides = ', '.join([f'\"slide{k}\"' for k in range(1, npub + 1)])\n",
    "\n",
    "with open(\"grid_template.html\", \"r\") as tpl:\n",
    "    page = tpl.read()\n",
    "    page = page.replace(\"{%-- grid-content:s --%}\", grid)\\\n",
    "               .replace(\"{%-- suptitle:s --%}\",  f\"Last {npub:,d} papers\" )\\\n",
    "               .replace(\"{%-- docs:s --%}\", docs)\\\n",
    "               .replace(\"{%-- slides:s --%}\", slides)\n",
    "    \n",
    "# print(grid, docs, slides)\n",
    "# print(page)\n",
    "with open(\"_build/html/index_npub_grid.html\", 'w') as fout:\n",
    "    fout.write(page)"
   ]
  }
 ],
 "metadata": {
  "kernelspec": {
   "display_name": "Python 3 (ipykernel)",
   "language": "python",
   "name": "python3"
  },
  "language_info": {
   "codemirror_mode": {
    "name": "ipython",
    "version": 3
   },
   "file_extension": ".py",
   "mimetype": "text/x-python",
   "name": "python",
   "nbconvert_exporter": "python",
   "pygments_lexer": "ipython3",
   "version": "3.9.21"
  },
  "papermill": {
   "default_parameters": {},
   "duration": 163.203931,
   "end_time": "2025-03-28T04:14:44.133516",
   "environment_variables": {},
   "exception": null,
   "input_path": "MPIA daily digest.ipynb",
   "output_path": "log.ipynb",
   "parameters": {},
   "start_time": "2025-03-28T04:12:00.929585",
   "version": "2.6.0"
  },
  "vscode": {
   "interpreter": {
    "hash": "aee8b7b246df8f9039afb4144a1f6fd8d2ca17a180786b69acc140d282b71a49"
   }
  },
  "widgets": {
   "application/vnd.jupyter.widget-state+json": {
    "state": {
     "03500e7e270e42bc8636bfdb3a3386bd": {
      "model_module": "@jupyter-widgets/base",
      "model_module_version": "2.0.0",
      "model_name": "LayoutModel",
      "state": {
       "_model_module": "@jupyter-widgets/base",
       "_model_module_version": "2.0.0",
       "_model_name": "LayoutModel",
       "_view_count": null,
       "_view_module": "@jupyter-widgets/base",
       "_view_module_version": "2.0.0",
       "_view_name": "LayoutView",
       "align_content": null,
       "align_items": null,
       "align_self": null,
       "border_bottom": null,
       "border_left": null,
       "border_right": null,
       "border_top": null,
       "bottom": null,
       "display": null,
       "flex": null,
       "flex_flow": null,
       "grid_area": null,
       "grid_auto_columns": null,
       "grid_auto_flow": null,
       "grid_auto_rows": null,
       "grid_column": null,
       "grid_gap": null,
       "grid_row": null,
       "grid_template_areas": null,
       "grid_template_columns": null,
       "grid_template_rows": null,
       "height": null,
       "justify_content": null,
       "justify_items": null,
       "left": null,
       "margin": null,
       "max_height": null,
       "max_width": null,
       "min_height": null,
       "min_width": null,
       "object_fit": null,
       "object_position": null,
       "order": null,
       "overflow": null,
       "padding": null,
       "right": null,
       "top": null,
       "visibility": null,
       "width": null
      }
     },
     "2e1afa4f4b6c467cbf60df2acfb97a1d": {
      "model_module": "@jupyter-widgets/controls",
      "model_module_version": "2.0.0",
      "model_name": "HTMLModel",
      "state": {
       "_dom_classes": [],
       "_model_module": "@jupyter-widgets/controls",
       "_model_module_version": "2.0.0",
       "_model_name": "HTMLModel",
       "_view_count": null,
       "_view_module": "@jupyter-widgets/controls",
       "_view_module_version": "2.0.0",
       "_view_name": "HTMLView",
       "description": "",
       "description_allow_html": false,
       "layout": "IPY_MODEL_66aca970c9064e3ba97a2c649bf76255",
       "placeholder": "​",
       "style": "IPY_MODEL_344d9fcfcd9e4df58d1479fd51bc6e5f",
       "tabbable": null,
       "tooltip": null,
       "value": " 8/8 [02:20&lt;00:00, 14.43s/it]"
      }
     },
     "30bc61954a084a298fcb96d4b7d45de8": {
      "model_module": "@jupyter-widgets/controls",
      "model_module_version": "2.0.0",
      "model_name": "HTMLStyleModel",
      "state": {
       "_model_module": "@jupyter-widgets/controls",
       "_model_module_version": "2.0.0",
       "_model_name": "HTMLStyleModel",
       "_view_count": null,
       "_view_module": "@jupyter-widgets/base",
       "_view_module_version": "2.0.0",
       "_view_name": "StyleView",
       "background": null,
       "description_width": "",
       "font_size": null,
       "text_color": null
      }
     },
     "344d9fcfcd9e4df58d1479fd51bc6e5f": {
      "model_module": "@jupyter-widgets/controls",
      "model_module_version": "2.0.0",
      "model_name": "HTMLStyleModel",
      "state": {
       "_model_module": "@jupyter-widgets/controls",
       "_model_module_version": "2.0.0",
       "_model_name": "HTMLStyleModel",
       "_view_count": null,
       "_view_module": "@jupyter-widgets/base",
       "_view_module_version": "2.0.0",
       "_view_name": "StyleView",
       "background": null,
       "description_width": "",
       "font_size": null,
       "text_color": null
      }
     },
     "5d718e91bfc84189b7a6060c324a22c6": {
      "model_module": "@jupyter-widgets/controls",
      "model_module_version": "2.0.0",
      "model_name": "ProgressStyleModel",
      "state": {
       "_model_module": "@jupyter-widgets/controls",
       "_model_module_version": "2.0.0",
       "_model_name": "ProgressStyleModel",
       "_view_count": null,
       "_view_module": "@jupyter-widgets/base",
       "_view_module_version": "2.0.0",
       "_view_name": "StyleView",
       "bar_color": null,
       "description_width": ""
      }
     },
     "66aca970c9064e3ba97a2c649bf76255": {
      "model_module": "@jupyter-widgets/base",
      "model_module_version": "2.0.0",
      "model_name": "LayoutModel",
      "state": {
       "_model_module": "@jupyter-widgets/base",
       "_model_module_version": "2.0.0",
       "_model_name": "LayoutModel",
       "_view_count": null,
       "_view_module": "@jupyter-widgets/base",
       "_view_module_version": "2.0.0",
       "_view_name": "LayoutView",
       "align_content": null,
       "align_items": null,
       "align_self": null,
       "border_bottom": null,
       "border_left": null,
       "border_right": null,
       "border_top": null,
       "bottom": null,
       "display": null,
       "flex": null,
       "flex_flow": null,
       "grid_area": null,
       "grid_auto_columns": null,
       "grid_auto_flow": null,
       "grid_auto_rows": null,
       "grid_column": null,
       "grid_gap": null,
       "grid_row": null,
       "grid_template_areas": null,
       "grid_template_columns": null,
       "grid_template_rows": null,
       "height": null,
       "justify_content": null,
       "justify_items": null,
       "left": null,
       "margin": null,
       "max_height": null,
       "max_width": null,
       "min_height": null,
       "min_width": null,
       "object_fit": null,
       "object_position": null,
       "order": null,
       "overflow": null,
       "padding": null,
       "right": null,
       "top": null,
       "visibility": null,
       "width": null
      }
     },
     "76b321d638294b26997f04a5bb74d4ce": {
      "model_module": "@jupyter-widgets/base",
      "model_module_version": "2.0.0",
      "model_name": "LayoutModel",
      "state": {
       "_model_module": "@jupyter-widgets/base",
       "_model_module_version": "2.0.0",
       "_model_name": "LayoutModel",
       "_view_count": null,
       "_view_module": "@jupyter-widgets/base",
       "_view_module_version": "2.0.0",
       "_view_name": "LayoutView",
       "align_content": null,
       "align_items": null,
       "align_self": null,
       "border_bottom": null,
       "border_left": null,
       "border_right": null,
       "border_top": null,
       "bottom": null,
       "display": null,
       "flex": null,
       "flex_flow": null,
       "grid_area": null,
       "grid_auto_columns": null,
       "grid_auto_flow": null,
       "grid_auto_rows": null,
       "grid_column": null,
       "grid_gap": null,
       "grid_row": null,
       "grid_template_areas": null,
       "grid_template_columns": null,
       "grid_template_rows": null,
       "height": null,
       "justify_content": null,
       "justify_items": null,
       "left": null,
       "margin": null,
       "max_height": null,
       "max_width": null,
       "min_height": null,
       "min_width": null,
       "object_fit": null,
       "object_position": null,
       "order": null,
       "overflow": null,
       "padding": null,
       "right": null,
       "top": null,
       "visibility": null,
       "width": null
      }
     },
     "b05926379fd34b2381c944dc9cdaff89": {
      "model_module": "@jupyter-widgets/base",
      "model_module_version": "2.0.0",
      "model_name": "LayoutModel",
      "state": {
       "_model_module": "@jupyter-widgets/base",
       "_model_module_version": "2.0.0",
       "_model_name": "LayoutModel",
       "_view_count": null,
       "_view_module": "@jupyter-widgets/base",
       "_view_module_version": "2.0.0",
       "_view_name": "LayoutView",
       "align_content": null,
       "align_items": null,
       "align_self": null,
       "border_bottom": null,
       "border_left": null,
       "border_right": null,
       "border_top": null,
       "bottom": null,
       "display": null,
       "flex": null,
       "flex_flow": null,
       "grid_area": null,
       "grid_auto_columns": null,
       "grid_auto_flow": null,
       "grid_auto_rows": null,
       "grid_column": null,
       "grid_gap": null,
       "grid_row": null,
       "grid_template_areas": null,
       "grid_template_columns": null,
       "grid_template_rows": null,
       "height": null,
       "justify_content": null,
       "justify_items": null,
       "left": null,
       "margin": null,
       "max_height": null,
       "max_width": null,
       "min_height": null,
       "min_width": null,
       "object_fit": null,
       "object_position": null,
       "order": null,
       "overflow": null,
       "padding": null,
       "right": null,
       "top": null,
       "visibility": null,
       "width": null
      }
     },
     "b2d5aea2ae0147d1a9d334eb2ef32429": {
      "model_module": "@jupyter-widgets/controls",
      "model_module_version": "2.0.0",
      "model_name": "FloatProgressModel",
      "state": {
       "_dom_classes": [],
       "_model_module": "@jupyter-widgets/controls",
       "_model_module_version": "2.0.0",
       "_model_name": "FloatProgressModel",
       "_view_count": null,
       "_view_module": "@jupyter-widgets/controls",
       "_view_module_version": "2.0.0",
       "_view_name": "ProgressView",
       "bar_style": "success",
       "description": "",
       "description_allow_html": false,
       "layout": "IPY_MODEL_76b321d638294b26997f04a5bb74d4ce",
       "max": 8.0,
       "min": 0.0,
       "orientation": "horizontal",
       "style": "IPY_MODEL_5d718e91bfc84189b7a6060c324a22c6",
       "tabbable": null,
       "tooltip": null,
       "value": 8.0
      }
     },
     "dcd254e542e847b7a64ec0febd09cb28": {
      "model_module": "@jupyter-widgets/controls",
      "model_module_version": "2.0.0",
      "model_name": "HBoxModel",
      "state": {
       "_dom_classes": [],
       "_model_module": "@jupyter-widgets/controls",
       "_model_module_version": "2.0.0",
       "_model_name": "HBoxModel",
       "_view_count": null,
       "_view_module": "@jupyter-widgets/controls",
       "_view_module_version": "2.0.0",
       "_view_name": "HBoxView",
       "box_style": "",
       "children": [
        "IPY_MODEL_ec986e9b5a2d4b47a347f0cca961e16f",
        "IPY_MODEL_b2d5aea2ae0147d1a9d334eb2ef32429",
        "IPY_MODEL_2e1afa4f4b6c467cbf60df2acfb97a1d"
       ],
       "layout": "IPY_MODEL_b05926379fd34b2381c944dc9cdaff89",
       "tabbable": null,
       "tooltip": null
      }
     },
     "ec986e9b5a2d4b47a347f0cca961e16f": {
      "model_module": "@jupyter-widgets/controls",
      "model_module_version": "2.0.0",
      "model_name": "HTMLModel",
      "state": {
       "_dom_classes": [],
       "_model_module": "@jupyter-widgets/controls",
       "_model_module_version": "2.0.0",
       "_model_name": "HTMLModel",
       "_view_count": null,
       "_view_module": "@jupyter-widgets/controls",
       "_view_module_version": "2.0.0",
       "_view_name": "HTMLView",
       "description": "",
       "description_allow_html": false,
       "layout": "IPY_MODEL_03500e7e270e42bc8636bfdb3a3386bd",
       "placeholder": "​",
       "style": "IPY_MODEL_30bc61954a084a298fcb96d4b7d45de8",
       "tabbable": null,
       "tooltip": null,
       "value": "100%"
      }
     }
    },
    "version_major": 2,
    "version_minor": 0
   }
  }
 },
 "nbformat": 4,
 "nbformat_minor": 5
}