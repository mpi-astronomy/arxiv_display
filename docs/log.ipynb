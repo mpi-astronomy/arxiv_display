{
 "cells": [
  {
   "cell_type": "markdown",
   "id": "92bcb855",
   "metadata": {
    "papermill": {
     "duration": 0.006472,
     "end_time": "2023-08-03T04:05:39.555605",
     "exception": false,
     "start_time": "2023-08-03T04:05:39.549133",
     "status": "completed"
    },
    "tags": []
   },
   "source": [
    "# MPIA Arxiv on Deck 2\n",
    "\n",
    "Contains the steps to produce the paper extractions."
   ]
  },
  {
   "cell_type": "code",
   "execution_count": 1,
   "id": "3a0d6e11",
   "metadata": {
    "execution": {
     "iopub.execute_input": "2023-08-03T04:05:39.569512Z",
     "iopub.status.busy": "2023-08-03T04:05:39.568803Z",
     "iopub.status.idle": "2023-08-03T04:05:39.979608Z",
     "shell.execute_reply": "2023-08-03T04:05:39.978572Z"
    },
    "papermill": {
     "duration": 0.420436,
     "end_time": "2023-08-03T04:05:39.982131",
     "exception": false,
     "start_time": "2023-08-03T04:05:39.561695",
     "status": "completed"
    },
    "tags": []
   },
   "outputs": [],
   "source": [
    "# Imports\n",
    "import os\n",
    "from IPython.display import Markdown, display\n",
    "from tqdm.notebook import tqdm\n",
    "import warnings\n",
    "from PIL import Image \n",
    "\n",
    "# requires arxiv_on_deck_2\n",
    "\n",
    "from arxiv_on_deck_2.arxiv2 import (get_new_papers, \n",
    "                                    get_paper_from_identifier,\n",
    "                                    retrieve_document_source, \n",
    "                                    get_markdown_badge)\n",
    "from arxiv_on_deck_2 import (latex,\n",
    "                             latex_bib,\n",
    "                             mpia,\n",
    "                             highlight_authors_in_list)\n",
    "\n",
    "# Sometimes images are really big\n",
    "Image.MAX_IMAGE_PIXELS = 1000000000 "
   ]
  },
  {
   "cell_type": "code",
   "execution_count": 2,
   "id": "22aa9d44",
   "metadata": {
    "execution": {
     "iopub.execute_input": "2023-08-03T04:05:39.999977Z",
     "iopub.status.busy": "2023-08-03T04:05:39.998861Z",
     "iopub.status.idle": "2023-08-03T04:05:40.007420Z",
     "shell.execute_reply": "2023-08-03T04:05:40.006380Z"
    },
    "papermill": {
     "duration": 0.018111,
     "end_time": "2023-08-03T04:05:40.010078",
     "exception": false,
     "start_time": "2023-08-03T04:05:39.991967",
     "status": "completed"
    },
    "tags": []
   },
   "outputs": [],
   "source": [
    "# Some useful definitions.\n",
    "\n",
    "class AffiliationWarning(UserWarning):\n",
    "    pass\n",
    "\n",
    "class AffiliationError(RuntimeError):\n",
    "    pass\n",
    "\n",
    "def validation(source: str):\n",
    "    \"\"\"Raises error paper during parsing of source file\n",
    "    \n",
    "    Allows checks before parsing TeX code.\n",
    "    \n",
    "    Raises AffiliationWarning\n",
    "    \"\"\"\n",
    "    check = mpia.affiliation_verifications(source, verbose=True)\n",
    "    if check is not True:\n",
    "        raise AffiliationError(\"mpia.affiliation_verifications: \" + check)\n",
    "\n",
    "        \n",
    "warnings.simplefilter('always', AffiliationWarning)\n",
    "\n",
    "\n",
    "def get_markdown_qrcode(paper_id: str):\n",
    "    \"\"\" Generate a qrcode to the arxiv page using qrserver.com\n",
    "    \n",
    "    :param paper: Arxiv paper\n",
    "    :returns: markdown text\n",
    "    \"\"\"\n",
    "    url = r\"https://api.qrserver.com/v1/create-qr-code/?size=100x100&data=\"\n",
    "    txt = f\"\"\"<img src={url}\"https://arxiv.org/abs/{paper_id}\">\"\"\"\n",
    "    txt = '<div id=\"qrcode\">' + txt + '</div>'\n",
    "    return txt"
   ]
  },
  {
   "cell_type": "markdown",
   "id": "14bd6310",
   "metadata": {
    "papermill": {
     "duration": 0.004871,
     "end_time": "2023-08-03T04:05:40.019975",
     "exception": false,
     "start_time": "2023-08-03T04:05:40.015104",
     "status": "completed"
    },
    "tags": []
   },
   "source": [
    "## get list of arxiv paper candidates\n",
    "\n",
    "We use the MPIA mitarbeiter list webpage from mpia.de to get author names\n",
    "We then get all new papers from Arxiv and match authors"
   ]
  },
  {
   "cell_type": "code",
   "execution_count": 3,
   "id": "2645e73a",
   "metadata": {
    "execution": {
     "iopub.execute_input": "2023-08-03T04:05:40.033421Z",
     "iopub.status.busy": "2023-08-03T04:05:40.032598Z",
     "iopub.status.idle": "2023-08-03T04:06:02.343271Z",
     "shell.execute_reply": "2023-08-03T04:06:02.341788Z"
    },
    "papermill": {
     "duration": 22.319431,
     "end_time": "2023-08-03T04:06:02.345820",
     "exception": false,
     "start_time": "2023-08-03T04:05:40.026389",
     "status": "completed"
    },
    "tags": []
   },
   "outputs": [
    {
     "name": "stdout",
     "output_type": "stream",
     "text": [
      "H. Beuther  ->  H. Beuther  |  ['H. Beuther']\n",
      "J. Lian  ->  J. Lian  |  ['J. Lian']\n",
      "N. Storm  ->  N. Storm  |  ['N. Storm']\n",
      "G. Guiglion  ->  G. Guiglion  |  ['G. Guiglion']\n",
      "M. Bergemann  ->  M. Bergemann  |  ['M. Bergemann']\n",
      "A. Frank  ->  A. Frank  |  ['A. Frank']\n",
      "A. d. Graaff  ->  A. D. Graaff  |  ['A. D. Graaff']\n",
      "Arxiv has 56 new papers today\n",
      "          4 with possible author matches\n"
     ]
    }
   ],
   "source": [
    "# get list from MPIA website\n",
    "# it automatically filters identified non-scientists :func:`mpia.filter_non_scientists`\n",
    "mpia_authors = mpia.get_mpia_mitarbeiter_list()\n",
    "normed_mpia_authors = [k[1] for k in mpia_authors]   # initials + fullname\n",
    "new_papers = get_new_papers()\n",
    "# add manual references\n",
    "add_paper_refs = []\n",
    "new_papers.extend([get_paper_from_identifier(k) for k in add_paper_refs])\n",
    "\n",
    "candidates = []\n",
    "for paperk in new_papers:\n",
    "    # Check author list with their initials\n",
    "    normed_author_list = [mpia.get_initials(k) for k in paperk['authors']]\n",
    "    hl_authors = highlight_authors_in_list(normed_author_list, normed_mpia_authors, verbose=True)\n",
    "    matches = [(hl, orig) for hl, orig in zip(hl_authors, paperk['authors']) if 'mark' in hl]\n",
    "    paperk['authors'] = hl_authors\n",
    "    if matches:\n",
    "        # only select paper if an author matched our list\n",
    "        candidates.append(paperk)\n",
    "print(\"\"\"Arxiv has {0:,d} new papers today\"\"\".format(len(new_papers)))        \n",
    "print(\"\"\"          {0:,d} with possible author matches\"\"\".format(len(candidates)))"
   ]
  },
  {
   "cell_type": "markdown",
   "id": "3543b34a",
   "metadata": {
    "papermill": {
     "duration": 0.006655,
     "end_time": "2023-08-03T04:06:02.364803",
     "exception": false,
     "start_time": "2023-08-03T04:06:02.358148",
     "status": "completed"
    },
    "tags": []
   },
   "source": [
    "# Parse sources and generate relevant outputs\n",
    "\n",
    "From the candidates, we do the following steps:\n",
    "* get their tarball from ArXiv (and extract data)\n",
    "* find the main .tex file: find one with \\documentclass{...} (sometimes it's non trivial)\n",
    "* Check affiliations with :func:`validation`, which uses :func:`mpia.affiliation_verifications`\n",
    "* If passing the affiliations: we parse the .tex source\n",
    "   * inject sub-documents into the main (flatten the main document)\n",
    "   * parse structure, extract information (title, abstract, authors, figures...)\n",
    "   * handles `\\graphicspath` if provided\n",
    "* Generate the .md document."
   ]
  },
  {
   "cell_type": "code",
   "execution_count": 4,
   "id": "9576b79e",
   "metadata": {
    "execution": {
     "iopub.execute_input": "2023-08-03T04:06:02.377951Z",
     "iopub.status.busy": "2023-08-03T04:06:02.377315Z",
     "iopub.status.idle": "2023-08-03T04:10:30.980484Z",
     "shell.execute_reply": "2023-08-03T04:10:30.979353Z"
    },
    "papermill": {
     "duration": 268.619134,
     "end_time": "2023-08-03T04:10:30.989378",
     "exception": false,
     "start_time": "2023-08-03T04:06:02.370244",
     "status": "completed"
    },
    "scrolled": false,
    "tags": []
   },
   "outputs": [
    {
     "data": {
      "application/vnd.jupyter.widget-view+json": {
       "model_id": "1f8166402dd74ad6a0c170c8e7c6a0a8",
       "version_major": 2,
       "version_minor": 0
      },
      "text/plain": [
       "  0%|          | 0/4 [00:00<?, ?it/s]"
      ]
     },
     "metadata": {},
     "output_type": "display_data"
    },
    {
     "name": "stdout",
     "output_type": "stream",
     "text": [
      "Retrieving document from  https://arxiv.org/e-print/2308.00993\n"
     ]
    },
    {
     "name": "stdout",
     "output_type": "stream",
     "text": [
      "extracting tarball to tmp_2308.00993..."
     ]
    },
    {
     "name": "stdout",
     "output_type": "stream",
     "text": [
      " done.\n"
     ]
    },
    {
     "name": "stdout",
     "output_type": "stream",
     "text": [
      "Found 159 bibliographic references in tmp_2308.00993/cygnus.bbl.\n",
      "Retrieving document from  https://arxiv.org/e-print/2308.01111\n"
     ]
    },
    {
     "name": "stdout",
     "output_type": "stream",
     "text": [
      "extracting tarball to tmp_2308.01111..."
     ]
    },
    {
     "name": "stdout",
     "output_type": "stream",
     "text": [
      " done.\n"
     ]
    },
    {
     "name": "stdout",
     "output_type": "stream",
     "text": [
      "Found 119 bibliographic references in tmp_2308.01111/main.bbl.\n",
      "syntax error in line 179: '=' expected\n",
      "Retrieving document from  https://arxiv.org/e-print/2308.01160\n"
     ]
    },
    {
     "name": "stdout",
     "output_type": "stream",
     "text": [
      "extracting tarball to tmp_2308.01160... done.\n",
      "Retrieving document from  https://arxiv.org/e-print/2308.01230\n"
     ]
    },
    {
     "name": "stdout",
     "output_type": "stream",
     "text": [
      "extracting tarball to tmp_2308.01230..."
     ]
    },
    {
     "name": "stdout",
     "output_type": "stream",
     "text": [
      " done.\n"
     ]
    },
    {
     "name": "stderr",
     "output_type": "stream",
     "text": [
      "/opt/hostedtoolcache/Python/3.9.17/x64/lib/python3.9/site-packages/IPython/core/interactiveshell.py:3508: LatexWarning: Multiple tex files.\n",
      "\n",
      "  exec(code_obj, self.user_global_ns, self.user_ns)\n",
      "/opt/hostedtoolcache/Python/3.9.17/x64/lib/python3.9/site-packages/IPython/core/interactiveshell.py:3508: LatexWarning: Found documentclass in tmp_2308.01230/Infant_BHs.tex\n",
      "\n",
      "  exec(code_obj, self.user_global_ns, self.user_ns)\n",
      "/opt/hostedtoolcache/Python/3.9.17/x64/lib/python3.9/site-packages/arxiv_on_deck_2/latex.py:399: LatexWarning: Latex injecting: 'authors.tex' from 'tmp_2308.01230/authors.tex'\n",
      "  warnings.warn(LatexWarning(f\"Latex injecting: '{ext}' from '{subsource}'\"))\n",
      "/opt/hostedtoolcache/Python/3.9.17/x64/lib/python3.9/site-packages/arxiv_on_deck_2/latex.py:399: LatexWarning: Latex injecting: 'authors.tex' from 'tmp_2308.01230/authors.tex'\n",
      "  warnings.warn(LatexWarning(f\"Latex injecting: '{ext}' from '{subsource}'\"))\n",
      "/opt/hostedtoolcache/Python/3.9.17/x64/lib/python3.9/site-packages/arxiv_on_deck_2/latex.py:399: LatexWarning: Latex injecting: 'journal_abbrev' from 'tmp_2308.01230/journal_abbrev.tex'\n",
      "  warnings.warn(LatexWarning(f\"Latex injecting: '{ext}' from '{subsource}'\"))\n"
     ]
    },
    {
     "name": "stdout",
     "output_type": "stream",
     "text": [
      "Found 169 bibliographic references in tmp_2308.01230/Infant_BHs.bbl.\n"
     ]
    }
   ],
   "source": [
    "documents = []\n",
    "failed = []\n",
    "for paper in tqdm(candidates):\n",
    "    paper_id = paper['identifier'].lower().replace('arxiv:', '')\n",
    "    \n",
    "    folder = f'tmp_{paper_id}'\n",
    "\n",
    "    try:\n",
    "        if not os.path.isdir(folder):\n",
    "            folder = retrieve_document_source(f\"{paper_id}\", f'tmp_{paper_id}')\n",
    "        \n",
    "        try:\n",
    "            doc = latex.LatexDocument(folder, validation=validation)    \n",
    "        except AffiliationError as affilerror:\n",
    "            msg = f\"ArXiv:{paper_id:s} is not an MPIA paper... \" + str(affilerror)\n",
    "            failed.append((paper, \"affiliation error: \" + str(affilerror) ))\n",
    "            continue\n",
    "        \n",
    "        # Hack because sometimes author parsing does not work well\n",
    "        if (len(doc.authors) != len(paper['authors'])):\n",
    "            doc._authors = paper['authors']\n",
    "        else:\n",
    "            # highlight authors (FIXME: doc.highlight_authors)\n",
    "            # done on arxiv paper already\n",
    "            doc._authors = highlight_authors_in_list(\n",
    "                [mpia.get_initials(k) for k in doc.authors], \n",
    "                normed_mpia_authors, verbose=True)\n",
    "        if (doc.abstract) in (None, ''):\n",
    "            doc._abstract = paper['abstract']\n",
    "            \n",
    "        doc.comment = (get_markdown_badge(paper_id) + \n",
    "                       \"<mark>Appeared on: \" + paper['date'] + \"</mark> - \")\n",
    "        if paper['comments']:\n",
    "            doc.comment += \" _\" + paper['comments'] + \"_\"\n",
    "        \n",
    "        full_md = doc.generate_markdown_text()\n",
    "        \n",
    "        full_md += get_markdown_qrcode(paper_id)\n",
    "        \n",
    "        # replace citations\n",
    "        try:\n",
    "            bibdata = latex_bib.LatexBib.from_doc(doc)\n",
    "            full_md = latex_bib.replace_citations(full_md, bibdata)\n",
    "        except Exception as e:\n",
    "            print(e)\n",
    "        \n",
    "        documents.append((paper_id, full_md))\n",
    "    except Exception as e:\n",
    "        warnings.warn(latex.LatexWarning(f\"{paper_id:s} did not run properly\\n\" +\n",
    "                                         str(e)\n",
    "                                        ))\n",
    "        failed.append((paper, \"latex error \" + str(e)))"
   ]
  },
  {
   "cell_type": "markdown",
   "id": "2505a25c",
   "metadata": {
    "papermill": {
     "duration": 0.00607,
     "end_time": "2023-08-03T04:10:31.002461",
     "exception": false,
     "start_time": "2023-08-03T04:10:30.996391",
     "status": "completed"
    },
    "tags": []
   },
   "source": [
    "### Export the logs\n",
    "\n",
    "Throughout, we also keep track of the logs per paper. see `logs-{today date}.md` "
   ]
  },
  {
   "cell_type": "code",
   "execution_count": 5,
   "id": "d733828a",
   "metadata": {
    "execution": {
     "iopub.execute_input": "2023-08-03T04:10:31.020115Z",
     "iopub.status.busy": "2023-08-03T04:10:31.019478Z",
     "iopub.status.idle": "2023-08-03T04:10:31.044130Z",
     "shell.execute_reply": "2023-08-03T04:10:31.043235Z"
    },
    "papermill": {
     "duration": 0.035448,
     "end_time": "2023-08-03T04:10:31.046380",
     "exception": false,
     "start_time": "2023-08-03T04:10:31.010932",
     "status": "completed"
    },
    "scrolled": false,
    "tags": []
   },
   "outputs": [
    {
     "data": {
      "text/markdown": [
       "## Successful papers"
      ],
      "text/plain": [
       "<IPython.core.display.Markdown object>"
      ]
     },
     "metadata": {},
     "output_type": "display_data"
    },
    {
     "data": {
      "text/markdown": [
       "\n",
       "|||\n",
       "|---:|:---|\n",
       "| [![arXiv](https://img.shields.io/badge/arXiv-arXiv:2308.00993-b31b1b.svg)](https://arxiv.org/abs/arXiv:2308.00993) | **A global view on star formation: The GLOSTAR Galactic plane survey VIII.  Formaldehyde absorption in Cygnus~X**  |\n",
       "|| Y. Gong, et al. -- incl., <mark>H. Beuther</mark> |\n",
       "|*Appeared on*| *2023-08-03*|\n",
       "|*Comments*| *27 pages, 23 figures, accepted for publication in A&A*|\n",
       "|**Abstract**| Cygnus X is one of the closest and most active high-mass star-forming regions in our Galaxy, making it one of the best laboratories for studying massive star formation. As part of the GLOSTAR Galactic plane survey, we performed large scale simultaneous H$_{2}$CO (1$_{1,0}$-1$_{1,1}$) spectral line and radio continuum imaging observations toward Cygnus X at $\\lambda\\sim$6 cm with the Karl G. Jansky Very Large Array and the Effelsberg-100 m radio telescope. Our Effelsberg observations reveal widespread H$_{2}$CO (1$_{1,0}$-1$_{1,1}$) absorption with a spatial extent of $\\gtrsim$50 pc in Cygnus~X for the first time. On large scales of 4.4 pc, the relative orientation between local velocity gradient and magnetic field tends to be more parallel at H$_{2}$ column densities of $\\gtrsim$1.8$\\times 10^{22}$~cm$^{-2}$. On the smaller scale of 0.17 pc, our VLA+Effelsberg combined data reveal H$_{2}$CO absorption only toward three bright H{\\scriptsize II} regions. Our observations demonstrate that H$_{2}$CO (1$_{1,0}$-1$_{1,1}$) is commonly optically thin. Kinematic analysis supports the assertion that molecular clouds generally exhibit supersonic motions on scales of 0.17-4.4 pc. We show a non-negligible contribution of the cosmic microwave background radiation in producing extended absorption features in Cygnus X. Our observations suggest that H$_{2}$CO ($1_{1,0}-1_{1,1}$) can trace molecular gas with H$_{2}$ column densities of $\\gtrsim 5 \\times 10^{21}$ cm$^{-2}$. The ortho-H$_{2}$CO fractional abundance with respect to H$_{2}$ has a mean value of 7.0$\\times 10^{-10}$. A comparison of velocity dispersions on different linear scales suggests that the dominant $-3$ km s$^{-1}$ velocity component in the prominent DR21 region has nearly identical velocity dispersions on scales of 0.17-4.4 pc, which deviates from the expected behavior of classic turbulence. |"
      ],
      "text/plain": [
       "[arXiv:2308.00993] A global view on star formation: The GLOSTAR Galactic plane survey VIII.  Formaldehyde absorption in Cygnus~X\n",
       "\tY. Gong, et al. -- incl., <mark>H. Beuther</mark>"
      ]
     },
     "metadata": {},
     "output_type": "display_data"
    },
    {
     "data": {
      "text/markdown": [
       "\n",
       "|||\n",
       "|---:|:---|\n",
       "| [![arXiv](https://img.shields.io/badge/arXiv-arXiv:2308.01111-b31b1b.svg)](https://arxiv.org/abs/arXiv:2308.01111) | **Observational constraints on the origin of the elements. VI. Origin and  evolution of neutron-capture elements as probed by the Gaia-ESO survey**  |\n",
       "|| <mark>J. Lian</mark>, et al. -- incl., <mark>N. Storm</mark>, <mark>G. Guiglion</mark>, <mark>M. Bergemann</mark> |\n",
       "|*Appeared on*| *2023-08-03*|\n",
       "|*Comments*| *14 pages, 11 figures, accepted by MNRAS*|\n",
       "|**Abstract**| Most heavy elements beyond the iron peak are synthesized via neutron capture processes. The nature of the astrophysical sites of neutron capture processes is still very unclear. In this work we explore the observational constraints of the chemical abundances of s-process and r-process elements on the sites of neutron-capture processes by applying Galactic chemical evolution (GCE) models to the data from Gaia-ESO large spectroscopic stellar survey. For the r-process, the [Eu/Fe]-[Fe/H] distribution suggests a short delay time of the site that produces Eu. Other independent observations (e.g., NS-NS binaries), however, suggest a significant fraction of long delayed ($>1$Gyr) neutron star mergers (NSM). When assuming NSM as the only r-process sites, these two observational constraints are inconsistent at above 1$\\sigma$ level. Including short delayed r-process sites like magneto-rotational supernova can resolve this inconsistency. For the s-process, we find a weak metallicity dependence of the [Ba/Y] ratio, which traces the s-process efficiency. Our GCE model with up-to-date yields of AGB stars qualitatively reproduces this metallicity dependence, but the model predicts a much higher [Ba/Y] ratio compared to the data. This mismatch suggests that the s-process efficiency of low mass AGB stars in the current AGB nucleosynthesis models could be overestimated. |"
      ],
      "text/plain": [
       "[arXiv:2308.01111] Observational constraints on the origin of the elements. VI. Origin and  evolution of neutron-capture elements as probed by the Gaia-ESO survey\n",
       "\t<mark>J. Lian</mark>, et al. -- incl., <mark>N. Storm</mark>, <mark>G. Guiglion</mark>, <mark>M. Bergemann</mark>"
      ]
     },
     "metadata": {},
     "output_type": "display_data"
    },
    {
     "data": {
      "text/markdown": [
       "\n",
       "|||\n",
       "|---:|:---|\n",
       "| [![arXiv](https://img.shields.io/badge/arXiv-arXiv:2308.01230-b31b1b.svg)](https://arxiv.org/abs/arXiv:2308.01230) | **JADES. The diverse population of infant Black Holes at 4<z<11: merging,  tiny, poor, but mighty**  |\n",
       "|| R. Maiolino, et al. -- incl., <mark>A. d. Graaff</mark> |\n",
       "|*Appeared on*| *2023-08-03*|\n",
       "|*Comments*| *Submitted to A&A, 25 pages, 13 figures, 4 tables*|\n",
       "|**Abstract**| We present 12 new AGN at 4<z<7 in the JADES survey (in addition to the previously identified AGN in GN-z11 at z=10.6) revealed through the detection of a Broad Line Region as seen in the Balmer emission lines. The depth of JADES, together with the use of three different spectral resolutions, enables us to probe a lower mass regime relative to previous studies. In a few cases we find evidence for two broad components of Halpha which suggests that these could be candidate merging black holes (BHs). The inferred BH masses range between 8 x 10^7 Msun down to 4 x 10^5 Msun, interestingly probing the regime expected for Direct Collapse Black Holes. The inferred AGN bolometric luminosities (~10^44-10^45 erg/s) imply accretion rates that are < 0.5 times the Eddington rate in most cases. However, small BH, with M_BH ~ 10^6 Msun, tend to accrete at Eddington or super-Eddington rates. These BH at z~4-11 are over-massive relative to their host galaxies stellar masses when compared to the local M_BH-Mstar relation. However, we find that these early BH tend to be more consistent with the local relation between M_BH and velocity dispersion, as well as between M_BH and dynamical mass, suggesting that these are more fundamental and universal relations. On the BPT excitation-diagnostic diagram these AGN are located in the region that is that is locally occupied by star-forming galaxies, implying that they would be missed by the standard classification techniques if they did not display broad lines. Their location on the diagram is consistent with what expected for AGN hosted in metal poor galaxies (Z ~ 0.1-0.2 Zsun). The fraction of broad line AGN with L_AGN > 10^44 erg/s, among galaxies in the redshift range 4<z<6, is about 10%, suggesting that the contribution of AGN and their hosts to the reionization of the Universe is > 10%. |"
      ],
      "text/plain": [
       "[arXiv:2308.01230] JADES. The diverse population of infant Black Holes at 4<z<11: merging,  tiny, poor, but mighty\n",
       "\tR. Maiolino, et al. -- incl., <mark>A. d. Graaff</mark>"
      ]
     },
     "metadata": {},
     "output_type": "display_data"
    },
    {
     "data": {
      "text/markdown": [
       "## Failed papers"
      ],
      "text/plain": [
       "<IPython.core.display.Markdown object>"
      ]
     },
     "metadata": {},
     "output_type": "display_data"
    },
    {
     "data": {
      "text/markdown": [
       "\n",
       "|||\n",
       "|---:|:---|\n",
       "| [![arXiv](https://img.shields.io/badge/arXiv-arXiv:2308.01160-b31b1b.svg)](https://arxiv.org/abs/arXiv:2308.01160) | **The Oxygen Bottleneck for Technospheres**  |\n",
       "|| A. Balbi, <mark>A. Frank</mark> |\n",
       "|*Appeared on*| *2023-08-03*|\n",
       "|*Comments*| *10 pages, 2 figures*|\n",
       "|**Abstract**| On Earth, the development of technology required easy access to open air combustion, which is only possible when oxygen partial pressure, P(O$_2$), is above 18\\%. This suggests that only planets with significant atmospheric oxygen concentrations will be capable of developing ``advanced'' technospheres and hence detectable technosignatures. |\n",
       "|<p style=\"color:green\"> **ERROR** </p>| <p style=\"color:green\">affiliation error: mpia.affiliation_verifications: 'Heidelberg' keyword not found.</p> |"
      ],
      "text/plain": [
       "<IPython.core.display.Markdown object>"
      ]
     },
     "metadata": {},
     "output_type": "display_data"
    }
   ],
   "source": [
    "import datetime\n",
    "today = str(datetime.date.today())\n",
    "logfile = f\"_build/html/logs/log-{today}.md\"\n",
    "\n",
    "\n",
    "with open(logfile, 'w') as logs:\n",
    "    # Success\n",
    "    logs.write(f'# Arxiv on Deck 2: Logs - {today}\\n\\n')\n",
    "    logs.write(\"\"\"* Arxiv had {0:,d} new papers\\n\"\"\".format(len(new_papers)))\n",
    "    logs.write(\"\"\"    * {0:,d} with possible author matches\\n\\n\"\"\".format(len(candidates)))\n",
    "    logs.write(\"## Sucessful papers\\n\\n\")\n",
    "    display(Markdown(\"## Successful papers\"))\n",
    "    success = [k[0] for k in documents]\n",
    "    for candid in candidates:\n",
    "        if candid['identifier'].split(':')[-1] in success:\n",
    "            display(candid)\n",
    "            logs.write(candid.generate_markdown_text() + '\\n\\n')\n",
    "\n",
    "    ## failed\n",
    "    logs.write(\"## Failed papers\\n\\n\")\n",
    "    display(Markdown(\"## Failed papers\"))\n",
    "    failed = sorted(failed, key=lambda x: x[1])\n",
    "    current_reason = \"\"\n",
    "    for paper, reason in failed:\n",
    "        if 'affiliation' in reason:\n",
    "            color = 'green'\n",
    "        else:\n",
    "            color = 'red'\n",
    "        data = Markdown(\n",
    "                paper.generate_markdown_text() + \n",
    "                f'\\n|<p style=\"color:{color:s}\"> **ERROR** </p>| <p style=\"color:{color:s}\">{reason:s}</p> |'\n",
    "               )\n",
    "        if reason != current_reason:\n",
    "            logs.write(f'### {reason:s} \\n\\n')\n",
    "            current_reason = reason\n",
    "        logs.write(data.data + '\\n\\n')\n",
    "        \n",
    "        # only display here the important errors (all in logs)\n",
    "        # if color in ('red',):\n",
    "        display(data)"
   ]
  },
  {
   "cell_type": "markdown",
   "id": "472d20ee",
   "metadata": {
    "papermill": {
     "duration": 0.020601,
     "end_time": "2023-08-03T04:10:31.077237",
     "exception": false,
     "start_time": "2023-08-03T04:10:31.056636",
     "status": "completed"
    },
    "tags": []
   },
   "source": [
    "## Export documents\n",
    "\n",
    "We now write the .md files and export relevant images"
   ]
  },
  {
   "cell_type": "code",
   "execution_count": 6,
   "id": "d426aed9",
   "metadata": {
    "execution": {
     "iopub.execute_input": "2023-08-03T04:10:31.099557Z",
     "iopub.status.busy": "2023-08-03T04:10:31.097991Z",
     "iopub.status.idle": "2023-08-03T04:10:31.120003Z",
     "shell.execute_reply": "2023-08-03T04:10:31.118708Z"
    },
    "papermill": {
     "duration": 0.035682,
     "end_time": "2023-08-03T04:10:31.122796",
     "exception": false,
     "start_time": "2023-08-03T04:10:31.087114",
     "status": "completed"
    },
    "tags": []
   },
   "outputs": [],
   "source": [
    "def export_markdown_summary(md: str, md_fname:str, directory: str):\n",
    "    \"\"\"Export MD document and associated relevant images\"\"\"\n",
    "    import os\n",
    "    import shutil\n",
    "    import re\n",
    "\n",
    "    if (os.path.exists(directory) and not os.path.isdir(directory)):\n",
    "        raise RuntimeError(f\"a non-directory file exists with name {directory:s}\")\n",
    "\n",
    "    if (not os.path.exists(directory)):\n",
    "        print(f\"creating directory {directory:s}\")\n",
    "        os.mkdir(directory)\n",
    "\n",
    "    fig_fnames = (re.compile(r'\\[Fig.*\\]\\((.*)\\)').findall(md) + \n",
    "                  re.compile(r'\\<img src=\"([^>\\s]*)\"[^>]*/>').findall(md))\n",
    "    for fname in fig_fnames:\n",
    "        if 'http' in fname:\n",
    "            # No need to copy online figures\n",
    "            continue\n",
    "        destdir = os.path.join(directory, os.path.dirname(fname))\n",
    "        destfname = os.path.join(destdir, os.path.basename(fname))\n",
    "        try:\n",
    "            os.makedirs(destdir)\n",
    "        except FileExistsError:\n",
    "            pass\n",
    "        shutil.copy(fname, destfname)\n",
    "    with open(os.path.join(directory, md_fname), 'w') as fout:\n",
    "        fout.write(md)\n",
    "    print(\"exported in \", os.path.join(directory, md_fname))\n",
    "    [print(\"    + \" + os.path.join(directory,fk)) for fk in fig_fnames]"
   ]
  },
  {
   "cell_type": "code",
   "execution_count": 7,
   "id": "014d04a4",
   "metadata": {
    "execution": {
     "iopub.execute_input": "2023-08-03T04:10:31.141785Z",
     "iopub.status.busy": "2023-08-03T04:10:31.140986Z",
     "iopub.status.idle": "2023-08-03T04:10:31.172294Z",
     "shell.execute_reply": "2023-08-03T04:10:31.171190Z"
    },
    "papermill": {
     "duration": 0.046064,
     "end_time": "2023-08-03T04:10:31.176976",
     "exception": false,
     "start_time": "2023-08-03T04:10:31.130912",
     "status": "completed"
    },
    "tags": []
   },
   "outputs": [
    {
     "name": "stdout",
     "output_type": "stream",
     "text": [
      "exported in  _build/html/2308.00993.md\n",
      "    + _build/html/tmp_2308.00993/./fig/peak-abs.png\n",
      "    + _build/html/tmp_2308.00993/./fig/DR21-VE.png\n",
      "    + _build/html/tmp_2308.00993/./fig/DR22-VE.png\n",
      "    + _build/html/tmp_2308.00993/./fig/G76-VE.png\n",
      "    + _build/html/tmp_2308.00993/./fig/peaktau.png\n",
      "exported in  _build/html/2308.01111.md\n",
      "    + _build/html/tmp_2308.01111/./new_figures_ns/ls-hs-omega-zconst_v3.png\n",
      "    + _build/html/tmp_2308.01111/./ls-hs-yields-check.png\n",
      "    + _build/html/tmp_2308.01111/./eufe-feh-nsm-omega.png\n",
      "exported in  _build/html/2308.01230.md\n",
      "    + _build/html/tmp_2308.01230/./clara_gemma.png\n",
      "    + _build/html/tmp_2308.01230/./mbh_gal.png\n",
      "    + _build/html/tmp_2308.01230/./mbh_ledd.png\n"
     ]
    }
   ],
   "source": [
    "for paper_id, md in documents:\n",
    "    export_markdown_summary(md, f\"{paper_id:s}.md\", '_build/html/')"
   ]
  },
  {
   "cell_type": "markdown",
   "id": "f087a0a7",
   "metadata": {
    "papermill": {
     "duration": 0.006981,
     "end_time": "2023-08-03T04:10:31.194588",
     "exception": false,
     "start_time": "2023-08-03T04:10:31.187607",
     "status": "completed"
    },
    "tags": []
   },
   "source": [
    "## Display the papers\n",
    "\n",
    "Not necessary but allows for a quick check."
   ]
  },
  {
   "cell_type": "code",
   "execution_count": 8,
   "id": "fd25f625",
   "metadata": {
    "execution": {
     "iopub.execute_input": "2023-08-03T04:10:31.211223Z",
     "iopub.status.busy": "2023-08-03T04:10:31.210080Z",
     "iopub.status.idle": "2023-08-03T04:10:31.221579Z",
     "shell.execute_reply": "2023-08-03T04:10:31.220522Z"
    },
    "papermill": {
     "duration": 0.023368,
     "end_time": "2023-08-03T04:10:31.225049",
     "exception": false,
     "start_time": "2023-08-03T04:10:31.201681",
     "status": "completed"
    },
    "scrolled": false,
    "tags": []
   },
   "outputs": [
    {
     "data": {
      "text/markdown": [
       "<div class=\"macros\" style=\"visibility:hidden;\">\n",
       "$\\newcommand{\\ensuremath}{}$\n",
       "$\\newcommand{\\xspace}{}$\n",
       "$\\newcommand{\\object}[1]{\\texttt{#1}}$\n",
       "$\\newcommand{\\farcs}{{.}''}$\n",
       "$\\newcommand{\\farcm}{{.}'}$\n",
       "$\\newcommand{\\arcsec}{''}$\n",
       "$\\newcommand{\\arcmin}{'}$\n",
       "$\\newcommand{\\ion}[2]{#1#2}$\n",
       "$\\newcommand{\\textsc}[1]{\\textrm{#1}}$\n",
       "$\\newcommand{\\hl}[1]{\\textrm{#1}}$\n",
       "$\\newcommand{\\footnote}[1]{}$\n",
       "$\\newcommand{\\Teff}{T_{\\rm{eff}}}$\n",
       "$\\newcommand{\\kms}{km s^{-1}}$\n",
       "$\\newcommand{\\Wmq}{Wm^{-2}}$\n",
       "$\\newcommand{\\ergps}{erg s^{-1}}$\n",
       "$\\newcommand{\\mum}{ \\mum}$\n",
       "$\\newcommand{◦ee}{^{\\circ}}$\n",
       "$\\newcommand{\\Msun}{M_{\\odot}}$\n",
       "$\\newcommand{\\Lsun}{L_{\\odot}}$\n",
       "$\\newcommand{\\Msunyr}{ M_{\\odot}yr^{-1}}$\n",
       "$\\newcommand{\\OI}{[O I]}$\n",
       "$\\newcommand{\\SII}{[S II]}$\n",
       "$\\newcommand{\\NII}{[N II]}$\n",
       "$\\newcommand{\\CaII}{Ca II}$\n",
       "$\\newcommand{\\HeI}{He I}$\n",
       "$\\newcommand{\\LiI}{Li I}$\n",
       "$\\newcommand{\\nodata}{...}$\n",
       "$\\newcommand{\\accunit}{M_{\\odot} yr^{-1}}$\n",
       "$\\newcommand{\\rev}{ }$\n",
       "$\\newcommand{\\newrev}{ }$\n",
       "$\\newcommand{\\newnewrev}{\\bf }$\n",
       "$\\newcommand{\\fig}{Fig.}$\n",
       "$\\newcommand{\\Mjup}{M_{\\rm{Jup}}}$\n",
       "$\\newcommand{\\Mdotacc}{\\dot M_{\\rm{acc}}}$\n",
       "$\\newcommand{\\gisela}[1]{{\\bf \\color{black}[#1]}}$</div>\n",
       "\n",
       "\n",
       "\n",
       "<div id=\"title\">\n",
       "\n",
       "# A global view on star formation: The GLOSTAR Galactic plane survey\n",
       "\n",
       "</div>\n",
       "<div id=\"comments\">\n",
       "\n",
       "[![arXiv](https://img.shields.io/badge/arXiv-2308.00993-b31b1b.svg)](https://arxiv.org/abs/2308.00993)<mark>Appeared on: 2023-08-03</mark> -  _27 pages, 23 figures, accepted for publication in A&A_\n",
       "\n",
       "</div>\n",
       "<div id=\"authors\">\n",
       "\n",
       "Y. Gong, et al. -- incl., <mark>H. Beuther</mark>\n",
       "\n",
       "</div>\n",
       "<div id=\"abstract\">\n",
       "\n",
       "**Abstract:** Cygnus X is one of the closest and most active high-mass star-forming regions in our Galaxy, making it one of the best laboratories for studying massive star formation. We aim to investigate the properties of molecular gas structures on different linear scales with 4.8 GHz formaldehyde (H $_{2}$ CO) absorption line in Cygnus X. As part of the GLOSTAR Galactic plane survey, we performed large scale (7◦ee $\\times$ 3◦ee) simultaneous H $_{2}$ CO (1 $_{1,0}$ --1 $_{1,1}$ ) spectral line and radio continuum imaging observations toward Cygnus X at $\\lambda\\sim$ 6 cm with the Karl G. Jansky Very Large Array and the Effelsberg-100 m radio telescope. We used auxiliary HI, $^{13}$ CO (1--0), dust continuum, and dust polarization data for our analysis. Our Effelsberg observations reveal widespread H $_{2}$ CO (1 $_{1,0}$ --1 $_{1,1}$ ) absorption with a spatial extent of $\\gtrsim$ 50 pc in Cygnus X for the first time. On large scales of 4.4 pc, the relative orientation between local velocity gradient and magnetic field tends to be more parallel at H $_{2}$ column densities of $\\gtrsim$ 1.8 $\\times 10^{22}$ cm $^{-2}$ . On the smaller scale of 0.17 pc, our VLA+Effelsberg combined data reveal H $_{2}$ CO (1 $_{1,0}$ --1 $_{1,1}$ ) absorption only toward three bright H ${\\scriptsize II}$ regions. Our observations demonstrate that H $_{2}$ CO (1 $_{1,0}$ --1 $_{1,1}$ ) is commonly optically thin. Kinematic analysis supports the assertion that molecular clouds generally exhibit supersonic motions on scales of 0.17--4.4 pc. We show a non-negligible contribution of the cosmic microwave background radiation in producing extended absorption features in Cygnus X. Our observations suggest that H $_{2}$ CO ( $1_{1,0}-1_{1,1}$ ) can trace molecular gas with H $_{2}$ column densities of $\\gtrsim 5 \\times 10^{21}$ cm $^{-2}$ (i.e., $A_{\\rm V} \\gtrsim 5$ ). The ortho-H $_{2}$ CO fractional abundance with respect to H $_{2}$ has a mean value of 7.0 $\\times 10^{-10}$ .A comparison of velocity dispersions on different linear scales suggests that the dominant $-3$  $\\kms$ velocity component in the prominent DR21 region has nearly identical velocity dispersions on scales of 0.17--4.4 pc, which deviates from the expected behavior of classic turbulence.\n",
       "\n",
       "</div>\n",
       "\n",
       "<div id=\"div_fig1\">\n",
       "\n",
       "<img src=\"tmp_2308.00993/./fig/peak-abs.png\" alt=\"Fig10\" width=\"100%\"/>\n",
       "\n",
       "**Figure 10. -** {(a) Effelsberg 4.89 GHz radio continuum emission overlaid with the peak absorption contours of H$_{2}$CO (1$_{1,0}$--1$_{1,1}$). The corresponding HPBW of H$_{2}$CO (1$_{1,0}$--1$_{1,1}$) is 3$\\arcmin$. The color bar represents the flux densities of the radio continuum emission. The H$_{2}$CO absorption contours start from $-$0.5 K (5$\\sigma$), and decrease by 0.5 K. The developed H{\\scriptsize II} regions from [Anderson, Bania and Balser (2014)]() are marked with red solid circles, while SNR G78.2+2.1 is indicated by the orange dashed circle. Blue crosses represent the radio continuum sources and active star-forming objects, and the purple star represents the massive star cluster, Cygnus OB2. (b) Similar to Fig. \\ref{Fig:peak-abs}a but the corresponding HPBW of H$_{2}$CO (1$_{1,0}$--1$_{1,1}$) is 10$\\rlap{.}$\\arcmin8. The H$_{2}$CO absorption contours start from $-$0.08 K (4$\\sigma$), and decrease by 0.06 K. In both panels, the beam size is shown in the lower left corner.} (*Fig:peak-abs*)\n",
       "\n",
       "</div>\n",
       "<div id=\"div_fig2\">\n",
       "\n",
       "<img src=\"tmp_2308.00993/./fig/DR21-VE.png\" alt=\"Fig15.1\" width=\"33%\"/><img src=\"tmp_2308.00993/./fig/DR22-VE.png\" alt=\"Fig15.2\" width=\"33%\"/><img src=\"tmp_2308.00993/./fig/G76-VE.png\" alt=\"Fig15.3\" width=\"33%\"/>\n",
       "\n",
       "**Figure 15. -** {_Top_: Observed H$_{2}$CO (1$_{1,0}$--1$_{1,1}$) spectra of DR21 (a), DR22 (c), and G76.1883+0.0973 (e) overlaid on the fit results indicated by the brown dashed lines. The derived optical depth spectra are shown by the red lines. In panels (a), (c), (e), the black dashed vertical lines represent the LSR velocities of the H{\\scriptsize II} regions obtained from the radio recombination line measurements (Khan et al. in prep). _Bottom_: VLA+Effelsberg 4.9 GHz radio continuum emission of DR21 (b), DR22 (d), and G76.1883+0.0973 (f) overlaid with the H$_{2}$CO (1$_{1,0}$--1$_{1,1}$) absorption contours. For DR21, the blue and red contours represent the H$_{2}$CO (1$_{1,0}$--1$_{1,1}$) absorption peak for the $-$3 $\\kms$ and 8 $\\kms$ components, respectively. The contours start at $-$0.1 Jy beam$^{-1}$ (5$\\sigma$), with each subsequent contour being twice the previous one. For DR22 and G76.1883+0.0973, the contours start at $-$0.1 Jy beam$^{-1}$ (5$\\sigma$) and decrease by 0.04 Jy beam$^{-1}$. The synthesized beam is shown in the lower left corner of each panel. All the continuum and spectral line data are from the combination of the VLA D configuration and the Effelsberg single-dish observations.} (*Fig:vla-image*)\n",
       "\n",
       "</div>\n",
       "<div id=\"div_fig3\">\n",
       "\n",
       "<img src=\"tmp_2308.00993/./fig/peaktau.png\" alt=\"Fig11\" width=\"100%\"/>\n",
       "\n",
       "**Figure 11. -** {(a) Distribution of the peak optical depth of the H$_{2}$CO (1$_{1,0}$--1$_{1,1}$) line. The HPBW of the H$_{2}$CO image is 3$\\arcmin$. The color bar represents the peak optical depth. The H{\\scriptsize II} regions from [Anderson, Bania and Balser (2014)]() are marked with red solid circles, while SNR G78.2+2.1 is indicated by an orange dashed circle. The blue crosses represent the radio continuum sources and active star-forming objects, and the purple star represents the massive star cluster, Cygnus OB2. (b) Similar to Fig. \\ref{Fig:peaktau}a but the  HPBW of the H$_{2}$CO (1$_{1,0}$--1$_{1,1}$) image is 10$\\rlap{.}$\\arcmin8. (c) Similar to Fig. \\ref{Fig:peaktau}b but for the H$_{2}$CO column density in the 1$_{1,0}$ level.\n",
       "In all panels, the beam size is shown in the lower left corner.} (*Fig:peaktau*)\n",
       "\n",
       "</div><div id=\"qrcode\"><img src=https://api.qrserver.com/v1/create-qr-code/?size=100x100&data=\"https://arxiv.org/abs/2308.00993\"></div>"
      ],
      "text/plain": [
       "<IPython.core.display.Markdown object>"
      ]
     },
     "metadata": {},
     "output_type": "display_data"
    },
    {
     "data": {
      "text/markdown": [
       "<div class=\"macros\" style=\"visibility:hidden;\">\n",
       "$\\newcommand{\\ensuremath}{}$\n",
       "$\\newcommand{\\xspace}{}$\n",
       "$\\newcommand{\\object}[1]{\\texttt{#1}}$\n",
       "$\\newcommand{\\farcs}{{.}''}$\n",
       "$\\newcommand{\\farcm}{{.}'}$\n",
       "$\\newcommand{\\arcsec}{''}$\n",
       "$\\newcommand{\\arcmin}{'}$\n",
       "$\\newcommand{\\ion}[2]{#1#2}$\n",
       "$\\newcommand{\\textsc}[1]{\\textrm{#1}}$\n",
       "$\\newcommand{\\hl}[1]{\\textrm{#1}}$\n",
       "$\\newcommand{\\footnote}[1]{}$\n",
       "$\\newcommand{\\keywords}[1]$\n",
       "$\\newcommand{\\jl}{\\textcolor{orange}}$\n",
       "$\\newcommand{\\mb}{\\textcolor{red}}$\n",
       "$\\newcommand{\\as}{\\textcolor{pink}}$</div>\n",
       "\n",
       "\n",
       "\n",
       "<div id=\"title\">\n",
       "\n",
       "# Observational constraints on the origin of the elements. VI. Origin and evolution of neutron-capture elements as probed by the Gaia-ESO survey\n",
       "\n",
       "</div>\n",
       "<div id=\"comments\">\n",
       "\n",
       "[![arXiv](https://img.shields.io/badge/arXiv-2308.01111-b31b1b.svg)](https://arxiv.org/abs/2308.01111)<mark>Appeared on: 2023-08-03</mark> -  _14 pages, 11 figures, accepted by MNRAS_\n",
       "\n",
       "</div>\n",
       "<div id=\"authors\">\n",
       "\n",
       "<mark>J. Lian</mark>, et al. -- incl., <mark>N. Storm</mark>, <mark>G. Guiglion</mark>, <mark>M. Bergemann</mark>\n",
       "\n",
       "</div>\n",
       "<div id=\"abstract\">\n",
       "\n",
       "**Abstract:** Most heavy elements beyond the iron peak are synthesized via neutron capture processes . The nature of the ${astrophysical}$ sites of neutron capture processes ${is}$ still very unclear.In this work we explore the observational constraints of the chemical abundances of s-process and r-process elements on the sites of neutron-capture processes by applying ${Galactic}$ chemical evolution (GCE) models to the data from Gaia-ESO ${large spectroscopic stellar}$ survey. For the r-process, the [ Eu/Fe ] - [ Fe/H ] distribution suggests a short delay time of the site that produces Eu. Other independent observations (e.g., NS-NS binaries), however, suggest a significant fraction of long delayed ( $>1$ Gyr) neutron star mergers (NSM). When assuming NSM as the only r-process sites, these two observational constraints are inconsistent at above 1 $\\sigma$ level. Including short delayed r-process sites like ${magneto-rotational}$ supernova can resolve this inconsistency. For the s-process, we find a weak metallicity dependence of ${the}$ [ Ba/Y ] ratio,  which traces the s-process efficiency. Our GCE model with up-to-date yields of AGB stars qualitatively reproduces this metallicity dependence, ${but the model predicts a much higher [Ba/Y] ratio compared to the data.}$ This mismatch suggests that the s-process efficiency of low mass AGB stars in the current AGB nucleosynthesis ${models could be}$ overestimated.\n",
       "\n",
       "</div>\n",
       "\n",
       "<div id=\"div_fig1\">\n",
       "\n",
       "<img src=\"tmp_2308.01111/./new_figures_ns/ls-hs-omega-zconst_v3.png\" alt=\"Fig4\" width=\"100%\"/>\n",
       "\n",
       "**Figure 4. -** Relative abundance ratio between heavy {(Ba) and light (Y)} s-process elements as a function of [Fe/H]. Four GCE models with three test models deviating from the basic model in three aspects are included, one without rotating CCSN (blue dashed), one without AGB contribution (purple dotted), and one with AGB yields from Karakas et al. (magenta dash-dotted). (*ls-hs-omega*)\n",
       "\n",
       "</div>\n",
       "<div id=\"div_fig2\">\n",
       "\n",
       "<img src=\"tmp_2308.01111/./ls-hs-yields-check.png\" alt=\"Fig8\" width=\"100%\"/>\n",
       "\n",
       "**Figure 8. -** Heavy-to-light s-process abundance ratio ([hs/ls]) parameterized by the ratio [Ba/Y] in AGB yields from \\citet{cristallo2015}(left panel) and Karakas et al. (right panel). Different masses of AGB stars are shown in different colours. {See text}. (*ls-hs-agb*)\n",
       "\n",
       "</div>\n",
       "<div id=\"div_fig3\">\n",
       "\n",
       "<img src=\"tmp_2308.01111/./eufe-feh-nsm-omega.png\" alt=\"Fig9\" width=\"100%\"/>\n",
       "\n",
       "**Figure 9. -** [Eu/Fe]-[Fe/H] evolution predicted by GCE models with NSM as the only sites of r-process. NSM DTD is characterised by the maximum delay time ($\\tau_{\\rm max}$) and the slope of power-law DTD ($\\alpha$). Different NSM DTDs with different $\\tau_{\\rm max}$(left) and $\\alpha$(right) are assumed as illustrated in the legend. (*eufe-feh-nsm-omega*)\n",
       "\n",
       "</div><div id=\"qrcode\"><img src=https://api.qrserver.com/v1/create-qr-code/?size=100x100&data=\"https://arxiv.org/abs/2308.01111\"></div>"
      ],
      "text/plain": [
       "<IPython.core.display.Markdown object>"
      ]
     },
     "metadata": {},
     "output_type": "display_data"
    },
    {
     "data": {
      "text/markdown": [
       "<div class=\"macros\" style=\"visibility:hidden;\">\n",
       "$\\newcommand{\\ensuremath}{}$\n",
       "$\\newcommand{\\xspace}{}$\n",
       "$\\newcommand{\\object}[1]{\\texttt{#1}}$\n",
       "$\\newcommand{\\farcs}{{.}''}$\n",
       "$\\newcommand{\\farcm}{{.}'}$\n",
       "$\\newcommand{\\arcsec}{''}$\n",
       "$\\newcommand{\\arcmin}{'}$\n",
       "$\\newcommand{\\ion}[2]{#1#2}$\n",
       "$\\newcommand{\\textsc}[1]{\\textrm{#1}}$\n",
       "$\\newcommand{\\hl}[1]{\\textrm{#1}}$\n",
       "$\\newcommand{\\footnote}[1]{}$\n",
       "$\\newcommand{\\todo}[1]{\\textcolor{orange}{[to do: #1]}}$\n",
       "$\\newcommand$\n",
       "$\\newcommand$\n",
       "$\\newcommand$\n",
       "$\\newcommand$\n",
       "$\\newcommand$\n",
       "$\\newcommand$\n",
       "$\\newcommand$\n",
       "$\\newcommand$\n",
       "$\\newcommand$\n",
       "$\\newcommand$\n",
       "$\\newcommand$\n",
       "$\\newcommand$\n",
       "$\\newcommand$\n",
       "$\\newcommand$\n",
       "$\\newcommand$\n",
       "$\\newcommand$\n",
       "$\\newcommand$\n",
       "$\\newcommand$\n",
       "$\\newcommand$\n",
       "$\\newcommand$\n",
       "$\\newcommand$\n",
       "$\\newcommand$\n",
       "$\\newcommand$\n",
       "$\\newcommand$\n",
       "$\\newcommand$\n",
       "$\\newcommand$\n",
       "$\\newcommand$\n",
       "$\\newcommand$\n",
       "$\\newcommand$\n",
       "$\\newcommand$\n",
       "$\\newcommand$\n",
       "$\\newcommand$\n",
       "$\\newcommand$\n",
       "$\\newcommand$\n",
       "$\\newcommand$\n",
       "$\\newcommand$\n",
       "$\\newcommand$\n",
       "$\\newcommand$\n",
       "$\\newcommand$\n",
       "$\\newcommand$\n",
       "$\\newcommand$\n",
       "$\\newcommand$\n",
       "$\\newcommand$\n",
       "$\\newcommand$\n",
       "$\\newcommand$\n",
       "$\\newcommand$\n",
       "$\\newcommand$\n",
       "$\\newcommand$\n",
       "$\\newcommand$\n",
       "$\\newcommand$\n",
       "$\\newcommand$\n",
       "$\\newcommand$\n",
       "$\\newcommand$\n",
       "$\\newcommand$\n",
       "$\\newcommand$\n",
       "$\\newcommand$\n",
       "$\\newcommand$\n",
       "$\\newcommand$\n",
       "$\\newcommand$\n",
       "$\\newcommand$\n",
       "$\\newcommand$\n",
       "$\\newcommand{\\kms}{\\ensuremath{\\mathrm{km s^{-1}}}\\xspace}$\n",
       "$\\newcommand{Å}{\\oldAA\\xspace}$</div>\n",
       "\n",
       "\n",
       "\n",
       "<div id=\"title\">\n",
       "\n",
       "# JADES. The diverse population of infant Black Holes at 4$<$z$<$11: merging, tiny, poor, but mighty\n",
       "\n",
       "</div>\n",
       "<div id=\"comments\">\n",
       "\n",
       "[![arXiv](https://img.shields.io/badge/arXiv-2308.01230-b31b1b.svg)](https://arxiv.org/abs/2308.01230)<mark>Appeared on: 2023-08-03</mark> -  _Submitted to A&A, 25 pages, 13 figures, 4 tables_\n",
       "\n",
       "</div>\n",
       "<div id=\"authors\">\n",
       "\n",
       "R. Maiolino, et al. -- incl., <mark>A. d. Graaff</mark>\n",
       "\n",
       "</div>\n",
       "<div id=\"abstract\">\n",
       "\n",
       "**Abstract:** Spectroscopy with the James Webb Space Telescope has opened the possibility to identify moderate luminosity Active Galactic Nuclei (AGN) in the early Universe, at and beyond the epoch of reionization, complementing previous surveys of much more luminous (and much rarer) quasars. We present 12 new AGN at 4 $<$ z $<$ 7 in the JADES survey (in addition to the previously identified AGN in GN-z11 at z=10.6) revealed through the detection of a Broad Line Region as seen in the Balmer emission lines. The depth of JADES, together with the use of three different spectral resolutions,  enables us to probe a lower mass regime relative to previous studies. In a few cases we find evidence for two broad components of  H $\\alpha$ , which suggests that these could be candidate merging black holes (BHs). The inferred BH masses range between $\\rm 8\\times 10^7  M_\\odot$ down to $\\rm 4\\times 10^5  M_\\odot$ , interestingly probing the regime expected for Direct Collapse Black Holes. The inferred AGN bolometric luminosities ( $\\sim 10^{44}-10^{45}$ erg/s) imply accretion rates that are $< 0.5$ times the Eddington rate in most cases. However, small BHs, with $\\rm M_{BH} \\sim 10^6 M_\\odot$ , tend to accrete at Eddington or super-Eddington rates. These BHs at z $\\sim$ 4-11 are over-massive relative to their host galaxies stellar masses when compared to the local $\\rm M_{BH}-M_{star}$ relation. However, we find that these early BH tend to be more consistent with the local relation between $\\rm M_{BH}$ and velocity dispersion, as well as between $\\rm M_{BH}$ and dynamical mass, suggesting that these are more fundamental and universal relations. On the BPT excitation-diagnostic diagram these AGN are located in the region that is that is locally occupied by star-forming galaxies, implying that they would be missed by the standard classification techniques if they did not display broad lines. Their location on the diagram is consistent with what expected for AGN hosted in metal poor galaxies ( $\\rm Z \\sim 0.1-0.2 Z_\\odot$ ).The fraction of broad line AGN with $\\rm L_{AGN}>10^{44} erg/s$ among galaxies in the redshift range $4<z<6$ is about 10 \\% , suggesting that the contribution of AGN $_ and_$ their hosts to the reionization of the Universe is $>$ 10 \\% .\n",
       "\n",
       "</div>\n",
       "\n",
       "<div id=\"div_fig1\">\n",
       "\n",
       "<img src=\"tmp_2308.01230/./clara_gemma.png\" alt=\"Fig3\" width=\"100%\"/>\n",
       "\n",
       "**Figure 3. -** \n",
       "Spectra around H$\\alpha$ of ID 10013704, the highest redshift AGN showing indication for a dual BLR.\n",
       "The top and bottom panels show the medium and high resolution spectra, respectively. The line coding is the same as in Fig. \\ref{fig:spectra}, but in this case the violet dashed line shows the intermediate broad component that is needed to  reproduce the observed profile. The central and rightmost panels show the spectrum from which the narrow components, as well as one of the two broad components have been removed, to better highlight the significance of the other broad component.\n",
       " (*fig:clara_gemma*)\n",
       "\n",
       "</div>\n",
       "<div id=\"div_fig2\">\n",
       "\n",
       "<img src=\"tmp_2308.01230/./mbh_gal.png\" alt=\"Fig7\" width=\"100%\"/>\n",
       "\n",
       "**Figure 7. -** \n",
       "BH mass as a function of host galaxy properties, specifically: stellar mass (top-left),  velocity dispersion (bottom-left), dynamical mass (bottom-right). The JADES results presented in this work are shown with large golden circles. Orange dashed vertical lines connect candidate merging BHs. Blue symbols indicate measurements from other JWST surveys at high-z, as indicated in the legend (only detections at $>3\\sigma$ are shown). Gray triangles are measurements of high-z QSOs using ALMA data.  Small red symbols show the distribution of local galaxies as indicated in the legend; straight lines show the local relation fits (with shaded regions providing the scatter and slope uncertainty).\n",
       "In the top-left panel small orange circles show the  maximum stellar masses estimated for a few JADES AGN (see text), while in the bottom-left panel small squares indicate the effect of correcting for rotation velocity broadening within the slit.\n",
       " (*fig:mbh_host*)\n",
       "\n",
       "</div>\n",
       "<div id=\"div_fig3\">\n",
       "\n",
       "<img src=\"tmp_2308.01230/./mbh_ledd.png\" alt=\"Fig1\" width=\"100%\"/>\n",
       "\n",
       "**Figure 1. -** \n",
       "Distribution of black hole masses and Eddington ratios (L/L$_{\\rm Edd}$) for the broad line AGN in JADES (large golden circles). The orange dashed lines connect candidate dual AGN. We also show the results from other JWST surveys with blue symbols (see legend). Note that the apparent anticorrelation is probably spurious, as the BH mass is at the denominator of the Y-axis quantity. The plot has simply the purpose of visually illustrating the distribution of the two quantities.\n",
       " (*fig:mbh_ledd*)\n",
       "\n",
       "</div><div id=\"qrcode\"><img src=https://api.qrserver.com/v1/create-qr-code/?size=100x100&data=\"https://arxiv.org/abs/2308.01230\"></div>"
      ],
      "text/plain": [
       "<IPython.core.display.Markdown object>"
      ]
     },
     "metadata": {},
     "output_type": "display_data"
    }
   ],
   "source": [
    "[display(Markdown(k[1])) for k in documents];"
   ]
  },
  {
   "cell_type": "markdown",
   "id": "873873a4",
   "metadata": {
    "papermill": {
     "duration": 0.011181,
     "end_time": "2023-08-03T04:10:31.250374",
     "exception": false,
     "start_time": "2023-08-03T04:10:31.239193",
     "status": "completed"
    },
    "tags": []
   },
   "source": [
    "# Create HTML index"
   ]
  },
  {
   "cell_type": "code",
   "execution_count": 9,
   "id": "cf665672",
   "metadata": {
    "execution": {
     "iopub.execute_input": "2023-08-03T04:10:31.273930Z",
     "iopub.status.busy": "2023-08-03T04:10:31.273055Z",
     "iopub.status.idle": "2023-08-03T04:10:31.289737Z",
     "shell.execute_reply": "2023-08-03T04:10:31.288660Z"
    },
    "papermill": {
     "duration": 0.031514,
     "end_time": "2023-08-03T04:10:31.292245",
     "exception": false,
     "start_time": "2023-08-03T04:10:31.260731",
     "status": "completed"
    },
    "tags": []
   },
   "outputs": [
    {
     "name": "stdout",
     "output_type": "stream",
     "text": [
      "245  publications files modified in the last 7 days.\n"
     ]
    }
   ],
   "source": [
    "from datetime import datetime, timedelta, timezone\n",
    "from glob import glob\n",
    "import os\n",
    "\n",
    "files = glob('_build/html/*.md')\n",
    "days = 7\n",
    "now = datetime.today()\n",
    "res = []\n",
    "for fk in files:\n",
    "    stat_result = os.stat(fk).st_ctime\n",
    "    modified = datetime.fromtimestamp(stat_result, tz=timezone.utc).replace(tzinfo=None)\n",
    "    delta = now.today() - modified\n",
    "    if delta <= timedelta(days=days):\n",
    "        res.append((delta.seconds, fk))\n",
    "res = [k[1] for k in reversed(sorted(res, key=lambda x:x[1]))]\n",
    "npub = len(res)\n",
    "print(len(res), f\" publications files modified in the last {days:d} days.\")\n",
    "# [ print('\\t', k) for k in res ];"
   ]
  },
  {
   "cell_type": "code",
   "execution_count": 10,
   "id": "015de740",
   "metadata": {
    "execution": {
     "iopub.execute_input": "2023-08-03T04:10:31.325244Z",
     "iopub.status.busy": "2023-08-03T04:10:31.324343Z",
     "iopub.status.idle": "2023-08-03T04:10:31.354406Z",
     "shell.execute_reply": "2023-08-03T04:10:31.353539Z"
    },
    "papermill": {
     "duration": 0.051121,
     "end_time": "2023-08-03T04:10:31.357540",
     "exception": false,
     "start_time": "2023-08-03T04:10:31.306419",
     "status": "completed"
    },
    "tags": []
   },
   "outputs": [
    {
     "name": "stdout",
     "output_type": "stream",
     "text": [
      "11  publications in the last 7 days.\n"
     ]
    }
   ],
   "source": [
    "import datetime\n",
    "from glob import glob\n",
    "\n",
    "def get_last_n_days(lst, days=1):\n",
    "    \"\"\" Get the documents from the last n days \"\"\"\n",
    "    sorted_lst = sorted(lst, key=lambda x: x[1], reverse=True)\n",
    "    for fname, date in sorted_lst:\n",
    "        if date >= str(datetime.date.today() - datetime.timedelta(days=days)):\n",
    "            yield fname\n",
    "\n",
    "def extract_appearance_dates(lst_file):\n",
    "    dates = []\n",
    "\n",
    "    def get_date(line):\n",
    "        return line\\\n",
    "            .split('Appeared on:')[-1]\\\n",
    "            .split('</mark>')[0].strip()\n",
    "\n",
    "    for fname in lst:\n",
    "        with open(fname, 'r') as f:\n",
    "            found_date = False\n",
    "            for line in f:\n",
    "                if not found_date:\n",
    "                    if \"Appeared on\" in line:\n",
    "                        found_date = True\n",
    "                        dates.append((fname, get_date(line)))\n",
    "                else:\n",
    "                    break\n",
    "    return dates\n",
    "\n",
    "from glob import glob\n",
    "lst = glob('_build/html/*md')\n",
    "days = 7\n",
    "dates = extract_appearance_dates(lst)\n",
    "res = list(get_last_n_days(dates, days))\n",
    "npub = len(res)\n",
    "print(len(res), f\" publications in the last {days:d} days.\")"
   ]
  },
  {
   "cell_type": "code",
   "execution_count": 11,
   "id": "52ca0208",
   "metadata": {
    "execution": {
     "iopub.execute_input": "2023-08-03T04:10:31.378568Z",
     "iopub.status.busy": "2023-08-03T04:10:31.377745Z",
     "iopub.status.idle": "2023-08-03T04:10:31.386503Z",
     "shell.execute_reply": "2023-08-03T04:10:31.385337Z"
    },
    "papermill": {
     "duration": 0.021328,
     "end_time": "2023-08-03T04:10:31.389045",
     "exception": false,
     "start_time": "2023-08-03T04:10:31.367717",
     "status": "completed"
    },
    "scrolled": false,
    "tags": []
   },
   "outputs": [],
   "source": [
    "def create_carousel(npub=4):\n",
    "    \"\"\" Generate the HTML code for a carousel with `npub` slides \"\"\"\n",
    "    carousel = [\"\"\"  <div class=\"carousel\" \"\"\",\n",
    "                \"\"\"       data-flickity='{ \"autoPlay\": 10000, \"adaptiveHeight\": true, \"resize\": true, \"wrapAround\": true, \"pauseAutoPlayOnHover\": true, \"groupCells\": 1 }' id=\"asyncTypeset\">\"\"\"\n",
    "                ]\n",
    "    \n",
    "    item_str = \"\"\"    <div class=\"carousel-cell\"> <div id=\"slide{k}\" class=\"md_view\">Content {k}</div> </div>\"\"\"\n",
    "    for k in range(1, npub + 1):\n",
    "        carousel.append(item_str.format(k=k))\n",
    "    carousel.append(\"  </div>\")\n",
    "    return '\\n'.join(carousel)\n",
    "\n",
    "def create_grid(npub=4):\n",
    "    \"\"\" Generate the HTML code for a flat grid with `npub` slides \"\"\"\n",
    "    grid = [\"\"\"  <div class=\"grid\"> \"\"\",\n",
    "                ]\n",
    "    \n",
    "    item_str = \"\"\"    <div class=\"grid-item\"> <div id=\"slide{k}\" class=\"md_view\">Content {k}</div> </div>\"\"\"\n",
    "    for k in range(1, npub + 1):\n",
    "        grid.append(item_str.format(k=k))\n",
    "    grid.append(\"  </div>\")\n",
    "    return '\\n'.join(grid)"
   ]
  },
  {
   "cell_type": "code",
   "execution_count": 12,
   "id": "a6eac5b6",
   "metadata": {
    "execution": {
     "iopub.execute_input": "2023-08-03T04:10:31.411215Z",
     "iopub.status.busy": "2023-08-03T04:10:31.410103Z",
     "iopub.status.idle": "2023-08-03T04:10:31.418612Z",
     "shell.execute_reply": "2023-08-03T04:10:31.417680Z"
    },
    "papermill": {
     "duration": 0.022851,
     "end_time": "2023-08-03T04:10:31.421102",
     "exception": false,
     "start_time": "2023-08-03T04:10:31.398251",
     "status": "completed"
    },
    "scrolled": false,
    "tags": []
   },
   "outputs": [],
   "source": [
    "carousel = create_carousel(npub)\n",
    "docs = ', '.join(['\"{0:s}\"'.format(k.split('/')[-1]) for k in res])\n",
    "slides = ', '.join([f'\"slide{k}\"' for k in range(1, npub + 1)])\n",
    "\n",
    "with open(\"daily_template.html\", \"r\") as tpl:\n",
    "    page = tpl.read()\n",
    "    page = page.replace(\"{%-- carousel:s --%}\", carousel)\\\n",
    "               .replace(\"{%-- suptitle:s --%}\",  \"7-day archives\" )\\\n",
    "               .replace(\"{%-- docs:s --%}\", docs)\\\n",
    "               .replace(\"{%-- slides:s --%}\", slides)\n",
    "    \n",
    "with open(\"_build/html/index_7days.html\", 'w') as fout:\n",
    "    fout.write(page)"
   ]
  },
  {
   "cell_type": "code",
   "execution_count": 13,
   "id": "adc1a1ec",
   "metadata": {
    "execution": {
     "iopub.execute_input": "2023-08-03T04:10:31.442875Z",
     "iopub.status.busy": "2023-08-03T04:10:31.442035Z",
     "iopub.status.idle": "2023-08-03T04:10:31.454083Z",
     "shell.execute_reply": "2023-08-03T04:10:31.452856Z"
    },
    "papermill": {
     "duration": 0.02667,
     "end_time": "2023-08-03T04:10:31.457713",
     "exception": false,
     "start_time": "2023-08-03T04:10:31.431043",
     "status": "completed"
    },
    "tags": []
   },
   "outputs": [
    {
     "name": "stdout",
     "output_type": "stream",
     "text": [
      "3  publications in the last day.\n"
     ]
    }
   ],
   "source": [
    "# redo for today\n",
    "days = 1\n",
    "res = list(get_last_n_days(dates, days))\n",
    "npub = len(res)\n",
    "print(len(res), f\" publications in the last day.\")\n",
    "\n",
    "carousel = create_carousel(npub)\n",
    "docs = ', '.join(['\"{0:s}\"'.format(k.split('/')[-1]) for k in res])\n",
    "slides = ', '.join([f'\"slide{k}\"' for k in range(1, npub + 1)])\n",
    "\n",
    "with open(\"daily_template.html\", \"r\") as tpl:\n",
    "    page = tpl.read()\n",
    "    page = page.replace(\"{%-- carousel:s --%}\", carousel)\\\n",
    "               .replace(\"{%-- suptitle:s --%}\",  \"Daily\" )\\\n",
    "               .replace(\"{%-- docs:s --%}\", docs)\\\n",
    "               .replace(\"{%-- slides:s --%}\", slides)\n",
    "    \n",
    "# print(carousel, docs, slides)\n",
    "# print(page)\n",
    "with open(\"_build/html/index_daily.html\", 'w') as fout:\n",
    "    fout.write(page)"
   ]
  },
  {
   "cell_type": "code",
   "execution_count": 14,
   "id": "00eece82",
   "metadata": {
    "execution": {
     "iopub.execute_input": "2023-08-03T04:10:31.478604Z",
     "iopub.status.busy": "2023-08-03T04:10:31.477757Z",
     "iopub.status.idle": "2023-08-03T04:10:31.498387Z",
     "shell.execute_reply": "2023-08-03T04:10:31.497179Z"
    },
    "papermill": {
     "duration": 0.034551,
     "end_time": "2023-08-03T04:10:31.501167",
     "exception": false,
     "start_time": "2023-08-03T04:10:31.466616",
     "status": "completed"
    },
    "scrolled": false,
    "tags": []
   },
   "outputs": [
    {
     "name": "stdout",
     "output_type": "stream",
     "text": [
      "6  6 publications selected.\n"
     ]
    }
   ],
   "source": [
    "# Create the flat grid of the last N papers (fixed number regardless of dates)\n",
    "from itertools import islice \n",
    "\n",
    "npub = 6\n",
    "res = [k[0] for k in (islice(reversed(sorted(dates, key=lambda x: x[1])), 6))]\n",
    "print(len(res), f\" {npub} publications selected.\")\n",
    "\n",
    "grid = create_grid(npub)\n",
    "docs = ', '.join(['\"{0:s}\"'.format(k.split('/')[-1]) for k in res])\n",
    "slides = ', '.join([f'\"slide{k}\"' for k in range(1, npub + 1)])\n",
    "\n",
    "with open(\"grid_template.html\", \"r\") as tpl:\n",
    "    page = tpl.read()\n",
    "    page = page.replace(\"{%-- grid-content:s --%}\", grid)\\\n",
    "               .replace(\"{%-- suptitle:s --%}\",  f\"Last {npub:,d} papers\" )\\\n",
    "               .replace(\"{%-- docs:s --%}\", docs)\\\n",
    "               .replace(\"{%-- slides:s --%}\", slides)\n",
    "    \n",
    "# print(grid, docs, slides)\n",
    "# print(page)\n",
    "with open(\"_build/html/index_npub_grid.html\", 'w') as fout:\n",
    "    fout.write(page)"
   ]
  }
 ],
 "metadata": {
  "kernelspec": {
   "display_name": "Python 3 (ipykernel)",
   "language": "python",
   "name": "python3"
  },
  "language_info": {
   "codemirror_mode": {
    "name": "ipython",
    "version": 3
   },
   "file_extension": ".py",
   "mimetype": "text/x-python",
   "name": "python",
   "nbconvert_exporter": "python",
   "pygments_lexer": "ipython3",
   "version": "3.9.17"
  },
  "papermill": {
   "default_parameters": {},
   "duration": 294.239225,
   "end_time": "2023-08-03T04:10:31.938845",
   "environment_variables": {},
   "exception": null,
   "input_path": "MPIA daily digest.ipynb",
   "output_path": "log.ipynb",
   "parameters": {},
   "start_time": "2023-08-03T04:05:37.699620",
   "version": "2.4.0"
  },
  "vscode": {
   "interpreter": {
    "hash": "aee8b7b246df8f9039afb4144a1f6fd8d2ca17a180786b69acc140d282b71a49"
   }
  },
  "widgets": {
   "application/vnd.jupyter.widget-state+json": {
    "state": {
     "0216ce06ebac418cb6cd1306f1eb4739": {
      "model_module": "@jupyter-widgets/base",
      "model_module_version": "2.0.0",
      "model_name": "LayoutModel",
      "state": {
       "_model_module": "@jupyter-widgets/base",
       "_model_module_version": "2.0.0",
       "_model_name": "LayoutModel",
       "_view_count": null,
       "_view_module": "@jupyter-widgets/base",
       "_view_module_version": "2.0.0",
       "_view_name": "LayoutView",
       "align_content": null,
       "align_items": null,
       "align_self": null,
       "border_bottom": null,
       "border_left": null,
       "border_right": null,
       "border_top": null,
       "bottom": null,
       "display": null,
       "flex": null,
       "flex_flow": null,
       "grid_area": null,
       "grid_auto_columns": null,
       "grid_auto_flow": null,
       "grid_auto_rows": null,
       "grid_column": null,
       "grid_gap": null,
       "grid_row": null,
       "grid_template_areas": null,
       "grid_template_columns": null,
       "grid_template_rows": null,
       "height": null,
       "justify_content": null,
       "justify_items": null,
       "left": null,
       "margin": null,
       "max_height": null,
       "max_width": null,
       "min_height": null,
       "min_width": null,
       "object_fit": null,
       "object_position": null,
       "order": null,
       "overflow": null,
       "padding": null,
       "right": null,
       "top": null,
       "visibility": null,
       "width": null
      }
     },
     "1f8166402dd74ad6a0c170c8e7c6a0a8": {
      "model_module": "@jupyter-widgets/controls",
      "model_module_version": "2.0.0",
      "model_name": "HBoxModel",
      "state": {
       "_dom_classes": [],
       "_model_module": "@jupyter-widgets/controls",
       "_model_module_version": "2.0.0",
       "_model_name": "HBoxModel",
       "_view_count": null,
       "_view_module": "@jupyter-widgets/controls",
       "_view_module_version": "2.0.0",
       "_view_name": "HBoxView",
       "box_style": "",
       "children": [
        "IPY_MODEL_a20112c66f924a3e960a3ff82c14ffa1",
        "IPY_MODEL_acdf7d24c45c43bfa3957fff064027ad",
        "IPY_MODEL_c7deac98a76847edbaa345157e37099c"
       ],
       "layout": "IPY_MODEL_0216ce06ebac418cb6cd1306f1eb4739",
       "tabbable": null,
       "tooltip": null
      }
     },
     "2cd733db4163429f8f0daefd54ebe050": {
      "model_module": "@jupyter-widgets/controls",
      "model_module_version": "2.0.0",
      "model_name": "HTMLStyleModel",
      "state": {
       "_model_module": "@jupyter-widgets/controls",
       "_model_module_version": "2.0.0",
       "_model_name": "HTMLStyleModel",
       "_view_count": null,
       "_view_module": "@jupyter-widgets/base",
       "_view_module_version": "2.0.0",
       "_view_name": "StyleView",
       "background": null,
       "description_width": "",
       "font_size": null,
       "text_color": null
      }
     },
     "59fc3e97d474484b8fa5ddd9991f80cc": {
      "model_module": "@jupyter-widgets/controls",
      "model_module_version": "2.0.0",
      "model_name": "ProgressStyleModel",
      "state": {
       "_model_module": "@jupyter-widgets/controls",
       "_model_module_version": "2.0.0",
       "_model_name": "ProgressStyleModel",
       "_view_count": null,
       "_view_module": "@jupyter-widgets/base",
       "_view_module_version": "2.0.0",
       "_view_name": "StyleView",
       "bar_color": null,
       "description_width": ""
      }
     },
     "60af101fc7e84aa1bf7f7128dd722d1d": {
      "model_module": "@jupyter-widgets/base",
      "model_module_version": "2.0.0",
      "model_name": "LayoutModel",
      "state": {
       "_model_module": "@jupyter-widgets/base",
       "_model_module_version": "2.0.0",
       "_model_name": "LayoutModel",
       "_view_count": null,
       "_view_module": "@jupyter-widgets/base",
       "_view_module_version": "2.0.0",
       "_view_name": "LayoutView",
       "align_content": null,
       "align_items": null,
       "align_self": null,
       "border_bottom": null,
       "border_left": null,
       "border_right": null,
       "border_top": null,
       "bottom": null,
       "display": null,
       "flex": null,
       "flex_flow": null,
       "grid_area": null,
       "grid_auto_columns": null,
       "grid_auto_flow": null,
       "grid_auto_rows": null,
       "grid_column": null,
       "grid_gap": null,
       "grid_row": null,
       "grid_template_areas": null,
       "grid_template_columns": null,
       "grid_template_rows": null,
       "height": null,
       "justify_content": null,
       "justify_items": null,
       "left": null,
       "margin": null,
       "max_height": null,
       "max_width": null,
       "min_height": null,
       "min_width": null,
       "object_fit": null,
       "object_position": null,
       "order": null,
       "overflow": null,
       "padding": null,
       "right": null,
       "top": null,
       "visibility": null,
       "width": null
      }
     },
     "87cf4d9b9bb44f0fa593c80a7b70fcb6": {
      "model_module": "@jupyter-widgets/base",
      "model_module_version": "2.0.0",
      "model_name": "LayoutModel",
      "state": {
       "_model_module": "@jupyter-widgets/base",
       "_model_module_version": "2.0.0",
       "_model_name": "LayoutModel",
       "_view_count": null,
       "_view_module": "@jupyter-widgets/base",
       "_view_module_version": "2.0.0",
       "_view_name": "LayoutView",
       "align_content": null,
       "align_items": null,
       "align_self": null,
       "border_bottom": null,
       "border_left": null,
       "border_right": null,
       "border_top": null,
       "bottom": null,
       "display": null,
       "flex": null,
       "flex_flow": null,
       "grid_area": null,
       "grid_auto_columns": null,
       "grid_auto_flow": null,
       "grid_auto_rows": null,
       "grid_column": null,
       "grid_gap": null,
       "grid_row": null,
       "grid_template_areas": null,
       "grid_template_columns": null,
       "grid_template_rows": null,
       "height": null,
       "justify_content": null,
       "justify_items": null,
       "left": null,
       "margin": null,
       "max_height": null,
       "max_width": null,
       "min_height": null,
       "min_width": null,
       "object_fit": null,
       "object_position": null,
       "order": null,
       "overflow": null,
       "padding": null,
       "right": null,
       "top": null,
       "visibility": null,
       "width": null
      }
     },
     "a20112c66f924a3e960a3ff82c14ffa1": {
      "model_module": "@jupyter-widgets/controls",
      "model_module_version": "2.0.0",
      "model_name": "HTMLModel",
      "state": {
       "_dom_classes": [],
       "_model_module": "@jupyter-widgets/controls",
       "_model_module_version": "2.0.0",
       "_model_name": "HTMLModel",
       "_view_count": null,
       "_view_module": "@jupyter-widgets/controls",
       "_view_module_version": "2.0.0",
       "_view_name": "HTMLView",
       "description": "",
       "description_allow_html": false,
       "layout": "IPY_MODEL_60af101fc7e84aa1bf7f7128dd722d1d",
       "placeholder": "​",
       "style": "IPY_MODEL_2cd733db4163429f8f0daefd54ebe050",
       "tabbable": null,
       "tooltip": null,
       "value": "100%"
      }
     },
     "acdf7d24c45c43bfa3957fff064027ad": {
      "model_module": "@jupyter-widgets/controls",
      "model_module_version": "2.0.0",
      "model_name": "FloatProgressModel",
      "state": {
       "_dom_classes": [],
       "_model_module": "@jupyter-widgets/controls",
       "_model_module_version": "2.0.0",
       "_model_name": "FloatProgressModel",
       "_view_count": null,
       "_view_module": "@jupyter-widgets/controls",
       "_view_module_version": "2.0.0",
       "_view_name": "ProgressView",
       "bar_style": "success",
       "description": "",
       "description_allow_html": false,
       "layout": "IPY_MODEL_87cf4d9b9bb44f0fa593c80a7b70fcb6",
       "max": 4.0,
       "min": 0.0,
       "orientation": "horizontal",
       "style": "IPY_MODEL_59fc3e97d474484b8fa5ddd9991f80cc",
       "tabbable": null,
       "tooltip": null,
       "value": 4.0
      }
     },
     "c7deac98a76847edbaa345157e37099c": {
      "model_module": "@jupyter-widgets/controls",
      "model_module_version": "2.0.0",
      "model_name": "HTMLModel",
      "state": {
       "_dom_classes": [],
       "_model_module": "@jupyter-widgets/controls",
       "_model_module_version": "2.0.0",
       "_model_name": "HTMLModel",
       "_view_count": null,
       "_view_module": "@jupyter-widgets/controls",
       "_view_module_version": "2.0.0",
       "_view_name": "HTMLView",
       "description": "",
       "description_allow_html": false,
       "layout": "IPY_MODEL_e5f0bfaeb7014942a133c55619d99c1b",
       "placeholder": "​",
       "style": "IPY_MODEL_ed07005526a045ac9e082c1d61da3545",
       "tabbable": null,
       "tooltip": null,
       "value": " 4/4 [04:28&lt;00:00, 56.34s/it]"
      }
     },
     "e5f0bfaeb7014942a133c55619d99c1b": {
      "model_module": "@jupyter-widgets/base",
      "model_module_version": "2.0.0",
      "model_name": "LayoutModel",
      "state": {
       "_model_module": "@jupyter-widgets/base",
       "_model_module_version": "2.0.0",
       "_model_name": "LayoutModel",
       "_view_count": null,
       "_view_module": "@jupyter-widgets/base",
       "_view_module_version": "2.0.0",
       "_view_name": "LayoutView",
       "align_content": null,
       "align_items": null,
       "align_self": null,
       "border_bottom": null,
       "border_left": null,
       "border_right": null,
       "border_top": null,
       "bottom": null,
       "display": null,
       "flex": null,
       "flex_flow": null,
       "grid_area": null,
       "grid_auto_columns": null,
       "grid_auto_flow": null,
       "grid_auto_rows": null,
       "grid_column": null,
       "grid_gap": null,
       "grid_row": null,
       "grid_template_areas": null,
       "grid_template_columns": null,
       "grid_template_rows": null,
       "height": null,
       "justify_content": null,
       "justify_items": null,
       "left": null,
       "margin": null,
       "max_height": null,
       "max_width": null,
       "min_height": null,
       "min_width": null,
       "object_fit": null,
       "object_position": null,
       "order": null,
       "overflow": null,
       "padding": null,
       "right": null,
       "top": null,
       "visibility": null,
       "width": null
      }
     },
     "ed07005526a045ac9e082c1d61da3545": {
      "model_module": "@jupyter-widgets/controls",
      "model_module_version": "2.0.0",
      "model_name": "HTMLStyleModel",
      "state": {
       "_model_module": "@jupyter-widgets/controls",
       "_model_module_version": "2.0.0",
       "_model_name": "HTMLStyleModel",
       "_view_count": null,
       "_view_module": "@jupyter-widgets/base",
       "_view_module_version": "2.0.0",
       "_view_name": "StyleView",
       "background": null,
       "description_width": "",
       "font_size": null,
       "text_color": null
      }
     }
    },
    "version_major": 2,
    "version_minor": 0
   }
  }
 },
 "nbformat": 4,
 "nbformat_minor": 5
}