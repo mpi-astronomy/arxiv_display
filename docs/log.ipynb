{
 "cells": [
  {
   "cell_type": "markdown",
   "id": "92bcb855",
   "metadata": {
    "papermill": {
     "duration": 0.003836,
     "end_time": "2025-10-06T04:11:39.165053",
     "exception": false,
     "start_time": "2025-10-06T04:11:39.161217",
     "status": "completed"
    },
    "tags": []
   },
   "source": [
    "# MPIA Arxiv on Deck 2\n",
    "\n",
    "Contains the steps to produce the paper extractions."
   ]
  },
  {
   "cell_type": "code",
   "execution_count": 1,
   "id": "3a0d6e11",
   "metadata": {
    "execution": {
     "iopub.execute_input": "2025-10-06T04:11:39.172422Z",
     "iopub.status.busy": "2025-10-06T04:11:39.172108Z",
     "iopub.status.idle": "2025-10-06T04:11:39.378435Z",
     "shell.execute_reply": "2025-10-06T04:11:39.377802Z"
    },
    "papermill": {
     "duration": 0.211553,
     "end_time": "2025-10-06T04:11:39.379848",
     "exception": false,
     "start_time": "2025-10-06T04:11:39.168295",
     "status": "completed"
    },
    "tags": []
   },
   "outputs": [],
   "source": [
    "# Imports\n",
    "import os\n",
    "from IPython.display import Markdown, display\n",
    "from tqdm.notebook import tqdm\n",
    "import warnings\n",
    "from PIL import Image \n",
    "import re\n",
    "\n",
    "# requires arxiv_on_deck_2\n",
    "\n",
    "from arxiv_on_deck_2.arxiv2 import (get_new_papers, \n",
    "                                    get_paper_from_identifier,\n",
    "                                    retrieve_document_source, \n",
    "                                    get_markdown_badge)\n",
    "from arxiv_on_deck_2 import (latex,\n",
    "                             latex_bib,\n",
    "                             mpia,\n",
    "                             highlight_authors_in_list)\n",
    "\n",
    "# Sometimes images are really big\n",
    "Image.MAX_IMAGE_PIXELS = 1000000000 "
   ]
  },
  {
   "cell_type": "code",
   "execution_count": 2,
   "id": "22aa9d44",
   "metadata": {
    "execution": {
     "iopub.execute_input": "2025-10-06T04:11:39.386986Z",
     "iopub.status.busy": "2025-10-06T04:11:39.386757Z",
     "iopub.status.idle": "2025-10-06T04:11:39.394559Z",
     "shell.execute_reply": "2025-10-06T04:11:39.394023Z"
    },
    "papermill": {
     "duration": 0.012419,
     "end_time": "2025-10-06T04:11:39.395579",
     "exception": false,
     "start_time": "2025-10-06T04:11:39.383160",
     "status": "completed"
    },
    "tags": []
   },
   "outputs": [],
   "source": [
    "# Some useful definitions.\n",
    "\n",
    "class AffiliationWarning(UserWarning):\n",
    "    pass\n",
    "\n",
    "class AffiliationError(RuntimeError):\n",
    "    pass\n",
    "\n",
    "def validation(source: str):\n",
    "    \"\"\"Raises error paper during parsing of source file\n",
    "    \n",
    "    Allows checks before parsing TeX code.\n",
    "    \n",
    "    Raises AffiliationWarning\n",
    "    \"\"\"\n",
    "    check = mpia.affiliation_verifications(source, verbose=True)\n",
    "    if check is not True:\n",
    "        raise AffiliationError(\"mpia.affiliation_verifications: \" + check)\n",
    "\n",
    "        \n",
    "warnings.simplefilter('always', AffiliationWarning)\n",
    "\n",
    "\n",
    "def get_markdown_qrcode(paper_id: str):\n",
    "    \"\"\" Generate a qrcode to the arxiv page using qrserver.com\n",
    "    \n",
    "    :param paper: Arxiv paper\n",
    "    :returns: markdown text\n",
    "    \"\"\"\n",
    "    url = r\"https://api.qrserver.com/v1/create-qr-code/?size=100x100&data=\"\n",
    "    txt = f\"\"\"<img src={url}\"https://arxiv.org/abs/{paper_id}\">\"\"\"\n",
    "    txt = '<div id=\"qrcode\">' + txt + '</div>'\n",
    "    return txt\n",
    "\n",
    "\n",
    "def clean_non_western_encoded_characters_commands(text: str) -> str:\n",
    "    \"\"\" Remove non-western encoded characters from a string\n",
    "    List may need to grow.\n",
    "    \n",
    "    :param text: the text to clean\n",
    "    :return: the cleaned text\n",
    "    \"\"\"\n",
    "    text = re.sub(r\"(\\\\begin{CJK}{UTF8}{gbsn})(.*?)(\\\\end{CJK})\", r\"\\2\", text)\n",
    "    return text\n",
    "\n",
    "\n",
    "def get_initials(name: str) -> str:\n",
    "    \"\"\" Get the short name, e.g., A.-B. FamName\n",
    "    :param name: full name\n",
    "    :returns: initials\n",
    "    \"\"\"\n",
    "    initials = []\n",
    "    # account for non western names often in ()\n",
    "    if '(' in name:\n",
    "        name = clean_non_western_encoded_characters_commands(name)\n",
    "        suffix = re.findall(r\"\\((.*?)\\)\", name)[0]\n",
    "        name = name.replace(f\"({suffix})\", '')\n",
    "    else:\n",
    "        suffix = ''\n",
    "    split = name.split()\n",
    "    for token in split[:-1]:\n",
    "        if '-' in token:\n",
    "            current = '-'.join([k[0] + '.' for k in token.split('-')])\n",
    "        else:\n",
    "            current = token[0] + '.'\n",
    "        initials.append(current)\n",
    "    initials.append(split[-1].strip())\n",
    "    if suffix:\n",
    "        initials.append(f\"({suffix})\")\n",
    "    return ' '.join(initials)"
   ]
  },
  {
   "cell_type": "markdown",
   "id": "14bd6310",
   "metadata": {
    "papermill": {
     "duration": 0.002839,
     "end_time": "2025-10-06T04:11:39.401377",
     "exception": false,
     "start_time": "2025-10-06T04:11:39.398538",
     "status": "completed"
    },
    "tags": []
   },
   "source": [
    "## get list of arxiv paper candidates\n",
    "\n",
    "We use the MPIA mitarbeiter list webpage from mpia.de to get author names\n",
    "We then get all new papers from Arxiv and match authors"
   ]
  },
  {
   "cell_type": "code",
   "execution_count": 3,
   "id": "7ea813a8",
   "metadata": {
    "execution": {
     "iopub.execute_input": "2025-10-06T04:11:39.407993Z",
     "iopub.status.busy": "2025-10-06T04:11:39.407777Z",
     "iopub.status.idle": "2025-10-06T04:12:00.399354Z",
     "shell.execute_reply": "2025-10-06T04:12:00.398714Z"
    },
    "papermill": {
     "duration": 20.996348,
     "end_time": "2025-10-06T04:12:00.400684",
     "exception": false,
     "start_time": "2025-10-06T04:11:39.404336",
     "status": "completed"
    },
    "tags": []
   },
   "outputs": [],
   "source": [
    "# deal with the author list and edge cases of people that cannot be consistent on their name  \n",
    "\n",
    "def filter_non_scientists(name: str) -> bool:\n",
    "    \"\"\" Loose filter on expected authorships\n",
    "\n",
    "    removing IT, administration, technical staff\n",
    "    :param name: name\n",
    "    :returns: False if name is not a scientist\n",
    "    \"\"\"\n",
    "    remove_list = ['Licht', 'Binroth', 'Witzel', 'Jordan',\n",
    "                   'Zähringer', 'Scheerer', 'Hoffmann', 'Düe',\n",
    "                   'Hellmich', 'Enkler-Scharpegge', 'Witte-Nguy',\n",
    "                   'Dehen', 'Beckmann', 'Jager', 'Jäger'\n",
    "                  ]\n",
    "\n",
    "    for k in remove_list:\n",
    "        if k in name:\n",
    "            return False\n",
    "    return True\n",
    "\n",
    "def add_author_to_list(author_list: list) -> list:\n",
    "    \"\"\" Add author to list if not already in list\n",
    "    \n",
    "    :param author: author name\n",
    "    :param author_list: list of authors\n",
    "    :returns: updated list of authors\n",
    "    \"\"\"\n",
    "    add_list = ['T. Henning']\n",
    "\n",
    "    for author in add_list:\n",
    "        if author not in author_list:\n",
    "            author_list.append(author)\n",
    "    return author_list\n",
    "\n",
    "# get list from MPIA website\n",
    "# filter for non-scientists (mpia.get_mpia_mitarbeiter_list() does some filtering)\n",
    "mpia_authors = [k[1] for k in mpia.get_mpia_mitarbeiter_list() if filter_non_scientists(k[1])]\n",
    "# add some missing author because of inconsistencies in their MPIA name and author name on papers\n",
    "mpia_authors = add_author_to_list(mpia_authors)"
   ]
  },
  {
   "cell_type": "code",
   "execution_count": 4,
   "id": "2645e73a",
   "metadata": {
    "execution": {
     "iopub.execute_input": "2025-10-06T04:12:00.408042Z",
     "iopub.status.busy": "2025-10-06T04:12:00.407793Z",
     "iopub.status.idle": "2025-10-06T04:12:01.055826Z",
     "shell.execute_reply": "2025-10-06T04:12:01.055112Z"
    },
    "papermill": {
     "duration": 0.652795,
     "end_time": "2025-10-06T04:12:01.056892",
     "exception": false,
     "start_time": "2025-10-06T04:12:00.404097",
     "status": "completed"
    },
    "tags": []
   },
   "outputs": [
    {
     "name": "stdout",
     "output_type": "stream",
     "text": [
      "K. Lee  ->  K. Lee  |  ['K. Lee']\n",
      "C. Fendt  ->  C. Fendt  |  ['C. Fendt']\n",
      "D. Hogg  ->  D. Hogg  |  ['D. Hogg']\n",
      "H.-W. Rix  ->  H.-W. Rix  |  ['H.-W. Rix']\n",
      "Arxiv has 82 new papers today\n",
      "          3 with possible author matches\n"
     ]
    }
   ],
   "source": [
    "new_papers = get_new_papers()\n",
    "# add manual references\n",
    "add_paper_refs = []\n",
    "new_papers.extend([get_paper_from_identifier(k) for k in add_paper_refs])\n",
    "\n",
    "def robust_call(fn, value, *args, **kwargs):\n",
    "    try:\n",
    "        return fn(value, *args, **kwargs)\n",
    "    except Exception:\n",
    "        return value\n",
    "\n",
    "candidates = []\n",
    "for paperk in new_papers:\n",
    "    # Check author list with their initials\n",
    "    normed_author_list = [robust_call(mpia.get_initials, k) for k in paperk['authors']]\n",
    "    hl_authors = highlight_authors_in_list(normed_author_list, mpia_authors, verbose=True)\n",
    "    matches = [(hl, orig) for hl, orig in zip(hl_authors, paperk['authors']) if 'mark' in hl]\n",
    "    paperk['authors'] = hl_authors\n",
    "    if matches:\n",
    "        # only select paper if an author matched our list\n",
    "        candidates.append(paperk)\n",
    "print(\"\"\"Arxiv has {0:,d} new papers today\"\"\".format(len(new_papers)))        \n",
    "print(\"\"\"          {0:,d} with possible author matches\"\"\".format(len(candidates)))"
   ]
  },
  {
   "cell_type": "markdown",
   "id": "3543b34a",
   "metadata": {
    "papermill": {
     "duration": 0.003121,
     "end_time": "2025-10-06T04:12:01.063586",
     "exception": false,
     "start_time": "2025-10-06T04:12:01.060465",
     "status": "completed"
    },
    "tags": []
   },
   "source": [
    "# Parse sources and generate relevant outputs\n",
    "\n",
    "From the candidates, we do the following steps:\n",
    "* get their tarball from ArXiv (and extract data)\n",
    "* find the main .tex file: find one with \\documentclass{...} (sometimes it's non trivial)\n",
    "* Check affiliations with :func:`validation`, which uses :func:`mpia.affiliation_verifications`\n",
    "* If passing the affiliations: we parse the .tex source\n",
    "   * inject sub-documents into the main (flatten the main document)\n",
    "   * parse structure, extract information (title, abstract, authors, figures...)\n",
    "   * handles `\\graphicspath` if provided\n",
    "* Generate the .md document."
   ]
  },
  {
   "cell_type": "code",
   "execution_count": 5,
   "id": "9576b79e",
   "metadata": {
    "execution": {
     "iopub.execute_input": "2025-10-06T04:12:01.070455Z",
     "iopub.status.busy": "2025-10-06T04:12:01.070227Z",
     "iopub.status.idle": "2025-10-06T04:12:26.095113Z",
     "shell.execute_reply": "2025-10-06T04:12:26.094361Z"
    },
    "papermill": {
     "duration": 25.029617,
     "end_time": "2025-10-06T04:12:26.096208",
     "exception": false,
     "start_time": "2025-10-06T04:12:01.066591",
     "status": "completed"
    },
    "scrolled": false,
    "tags": []
   },
   "outputs": [
    {
     "data": {
      "application/vnd.jupyter.widget-view+json": {
       "model_id": "ecbe0f230e0d4d009fe164865616bdff",
       "version_major": 2,
       "version_minor": 0
      },
      "text/plain": [
       "  0%|          | 0/3 [00:00<?, ?it/s]"
      ]
     },
     "metadata": {},
     "output_type": "display_data"
    },
    {
     "name": "stdout",
     "output_type": "stream",
     "text": [
      "Retrieving document from  https://arxiv.org/e-print/2510.02801\n"
     ]
    },
    {
     "name": "stdout",
     "output_type": "stream",
     "text": [
      "extracting tarball to tmp_2510.02801..."
     ]
    },
    {
     "name": "stdout",
     "output_type": "stream",
     "text": [
      " done.\n",
      "Retrieving document from  https://arxiv.org/e-print/2510.03037\n",
      "extracting tarball to tmp_2510.03037..."
     ]
    },
    {
     "name": "stdout",
     "output_type": "stream",
     "text": [
      " done.\n"
     ]
    },
    {
     "name": "stdout",
     "output_type": "stream",
     "text": [
      "C. Fendt  ->  C. Fendt  |  ['C. Fendt']\n"
     ]
    },
    {
     "name": "stdout",
     "output_type": "stream",
     "text": [
      "Found 126 bibliographic references in tmp_2510.03037/ms_giri.bbl.\n",
      "Retrieving document from  https://arxiv.org/e-print/2510.03221\n"
     ]
    },
    {
     "name": "stdout",
     "output_type": "stream",
     "text": [
      "extracting tarball to tmp_2510.03221... done.\n"
     ]
    },
    {
     "name": "stdout",
     "output_type": "stream",
     "text": [
      "H.-W. Rix  ->  H.-W. Rix  |  ['H.-W. Rix']\n"
     ]
    },
    {
     "name": "stdout",
     "output_type": "stream",
     "text": [
      "Found 102 bibliographic references in tmp_2510.03221/main.bbl.\n"
     ]
    }
   ],
   "source": [
    "documents = []\n",
    "failed = []\n",
    "for paper in tqdm(candidates):\n",
    "    # debug crap\n",
    "    paper['identifier'] = paper['identifier'].lower().replace('arxiv:', '').replace(r'\\n', '').strip()\n",
    "    paper_id = paper['identifier']\n",
    "    \n",
    "    folder = f'tmp_{paper_id}'\n",
    "\n",
    "    try:\n",
    "        if not os.path.isdir(folder):\n",
    "            folder = retrieve_document_source(f\"{paper_id}\", f'tmp_{paper_id}')\n",
    "        \n",
    "        try:\n",
    "            doc = latex.LatexDocument(folder, validation=validation)    \n",
    "        except AffiliationError as affilerror:\n",
    "            msg = f\"ArXiv:{paper_id:s} is not an MPIA paper... \" + str(affilerror)\n",
    "            failed.append((paper, \"affiliation error: \" + str(affilerror) ))\n",
    "            continue\n",
    "        \n",
    "        # Hack because sometimes author parsing does not work well\n",
    "        if (len(doc.authors) != len(paper['authors'])):\n",
    "            doc._authors = paper['authors']\n",
    "        else:\n",
    "            # highlight authors (FIXME: doc.highlight_authors)\n",
    "            # done on arxiv paper already\n",
    "            doc._authors = highlight_authors_in_list(\n",
    "                [get_initials(k) for k in doc.authors], \n",
    "                mpia_authors, verbose=True)\n",
    "        if (doc.abstract) in (None, ''):\n",
    "            doc._abstract = paper['abstract']\n",
    "            \n",
    "        doc.comment = (get_markdown_badge(paper_id) + \n",
    "                       \"<mark>Appeared on: \" + paper['date'] + \"</mark> - \")\n",
    "        if paper['comments']:\n",
    "            doc.comment += \" _\" + paper['comments'] + \"_\"\n",
    "        \n",
    "        full_md = doc.generate_markdown_text()\n",
    "        \n",
    "        full_md += get_markdown_qrcode(paper_id)\n",
    "        \n",
    "        # replace citations\n",
    "        try:\n",
    "            bibdata = latex_bib.LatexBib.from_doc(doc)\n",
    "            full_md = latex_bib.replace_citations(full_md, bibdata)\n",
    "        except Exception as e:\n",
    "            print(\"Issues with the citations\")\n",
    "            print(e)\n",
    "        \n",
    "        documents.append((paper_id, full_md))\n",
    "    except Exception as e:\n",
    "        warnings.warn(latex.LatexWarning(f\"{paper_id:s} did not run properly\\n\" +\n",
    "                                         str(e)\n",
    "                                        ))\n",
    "        failed.append((paper, \"latex error \" + str(e)))"
   ]
  },
  {
   "cell_type": "markdown",
   "id": "2505a25c",
   "metadata": {
    "papermill": {
     "duration": 0.003714,
     "end_time": "2025-10-06T04:12:26.104068",
     "exception": false,
     "start_time": "2025-10-06T04:12:26.100354",
     "status": "completed"
    },
    "tags": []
   },
   "source": [
    "### Export the logs\n",
    "\n",
    "Throughout, we also keep track of the logs per paper. see `logs-{today date}.md` "
   ]
  },
  {
   "cell_type": "code",
   "execution_count": 6,
   "id": "d733828a",
   "metadata": {
    "execution": {
     "iopub.execute_input": "2025-10-06T04:12:26.112352Z",
     "iopub.status.busy": "2025-10-06T04:12:26.112083Z",
     "iopub.status.idle": "2025-10-06T04:12:26.125369Z",
     "shell.execute_reply": "2025-10-06T04:12:26.124703Z"
    },
    "papermill": {
     "duration": 0.018706,
     "end_time": "2025-10-06T04:12:26.126410",
     "exception": false,
     "start_time": "2025-10-06T04:12:26.107704",
     "status": "completed"
    },
    "scrolled": false,
    "tags": []
   },
   "outputs": [
    {
     "data": {
      "text/markdown": [
       "## Successful papers"
      ],
      "text/plain": [
       "<IPython.core.display.Markdown object>"
      ]
     },
     "metadata": {},
     "output_type": "display_data"
    },
    {
     "data": {
      "text/markdown": [
       "\n",
       "|||\n",
       "|---:|:---|\n",
       "| [![arXiv](https://img.shields.io/badge/arXiv-2510.03037-b31b1b.svg)](https://arxiv.org/abs/2510.03037) | **Probing the formation of megaparsec-scale giant radio galaxies II. Continuum & polarization behavior from MHD simulations**  |\n",
       "|| G. Giri, et al. -- incl., <mark>C. Fendt</mark> |\n",
       "|*Appeared on*| *2025-10-06*|\n",
       "|*Comments*| *Accepted for publication in A&A journal*|\n",
       "|**Abstract**|            The persistence of radiative signatures in giant radio galaxies remains a frontier topic of research, with contemporary telescopes revealing intricate features that require investigation. This study aims to examine the emission characteristics of simulated GRGs, and correlate them with their underlying 3D dynamical properties. Sky-projected continuum and polarization maps at 1 GHz were computed from five 3D-RMHD simulations by integrating the synthesized emissivity data along the line of sight, with the integration path chosen to reflect the GRG evolution in the sky plane. The emissivities were derived from these RMHD simulations, featuring FR-I and FR-II jets injected from different locations of the large-scale environment. The jet-cocoon morphologies are strongly shaped by the triaxiality of the environment, resulting in features like wings and asymmetric cocoons, thereby making morphology a crucial indicator of GRG formation mechanisms. The decollimation of the bulk flow in GRG jets gives rise to intricate cocoon features, most notably filamentary structures-magnetically dominated threads with lifespans of a few Myr. High-jet-power cases frequently display enhanced emission zones at mid-cocoon distances (alongside warmspots around the jet-head), contradicting the interpretations of the GRG as a restarting source. In such cases, examining the lateral intensity variation of the cocoon may reveal the source's state, with a gradual decrease in emission suggesting a low-active stage. This study highlights that applying a simple radio power-jet power relation to a statistical GRG sample is unfeasible, as it depends on growth conditions of individual GRGs. Effects such as inverse-Compton CMB cooling and matter entrainment significantly impact the long-term emission persistence of GRGs. The diminishing fractional polarization with GRG evolution reflects increasing turbulence in the cocoon.         |"
      ],
      "text/plain": [
       "[2510.03037] Probing the formation of megaparsec-scale giant radio galaxies II. Continuum & polarization behavior from MHD simulations\n",
       "\tG. Giri, et al. -- incl., <mark>C. Fendt</mark>"
      ]
     },
     "metadata": {},
     "output_type": "display_data"
    },
    {
     "data": {
      "text/markdown": [
       "\n",
       "|||\n",
       "|---:|:---|\n",
       "| [![arXiv](https://img.shields.io/badge/arXiv-2510.03221-b31b1b.svg)](https://arxiv.org/abs/2510.03221) | **Inferring Stellar Densities with Flexible Models I: The Distribution of RR Lyrae in the Milky Way with $\\textit{Gaia}$ DR3**  |\n",
       "|| M. Lucey, et al. -- incl., <mark>D. Hogg</mark>, <mark>H.-W. Rix</mark> |\n",
       "|*Appeared on*| *2025-10-06*|\n",
       "|*Comments*| *13 pages, 6 figures, submitted to ApJ, comments welcome!*|\n",
       "|**Abstract**|            Understanding the formation and evolutionary history of the Milky Way requires detailed mapping of its stellar components, which preserve fossil records of the Galaxy's assembly through cosmic time. RR Lyrae stars are particularly well-suited for this endeavor, as they are old, standard candle variables that probe the Galaxy's earliest formation epochs. In this work, we employ a hierarchical Bayesian Gaussian Mixture Model (GMM) to characterize the three-dimensional density distribution of RR Lyrae stars in the Milky Way. This approach provides a flexible framework for modeling complex stellar distributions, particularly in the inner Galaxy where the bulge, disk, and halo components overlap. Our analysis reveals that the inner Galaxy is dominated by a distinct prolate stellar population with axis ratio $q$=1.30. Consistent with previous work, we find the halo follows a $r^{-4}$ power-law profile that flattens within 12 kpc of the Galactic center. We also confirm the halo is oblate ($q$=0.62) with a tilt angle of $12.22^{\\circ}$. We report for the first time that this tilt aligns the halo major axis in the direction of the Sagittarius dwarf galaxy. These results establish GMMs as an effective and flexible tool for modeling Galactic structure and provide new constraints on the distribution of old stars in the inner Galaxy.         |"
      ],
      "text/plain": [
       "[2510.03221] Inferring Stellar Densities with Flexible Models I: The Distribution of RR Lyrae in the Milky Way with $\\textit{Gaia}$ DR3\n",
       "\tM. Lucey, et al. -- incl., <mark>D. Hogg</mark>, <mark>H.-W. Rix</mark>"
      ]
     },
     "metadata": {},
     "output_type": "display_data"
    },
    {
     "data": {
      "text/markdown": [
       "## Failed papers"
      ],
      "text/plain": [
       "<IPython.core.display.Markdown object>"
      ]
     },
     "metadata": {},
     "output_type": "display_data"
    },
    {
     "data": {
      "text/markdown": [
       "\n",
       "|||\n",
       "|---:|:---|\n",
       "| [![arXiv](https://img.shields.io/badge/arXiv-2510.02801-b31b1b.svg)](https://arxiv.org/abs/2510.02801) | **A $z\\simeq0.4$ Little Red Dot analog: An Extended Starburst with an Overmassive Black hole**  |\n",
       "|| X. Chen, et al. -- incl., <mark>K. Lee</mark> |\n",
       "|*Appeared on*| *2025-10-06*|\n",
       "|*Comments*| *18 pages, 9 figures, submitted to ApJ*|\n",
       "|**Abstract**|            One of the most remarkable discoveries of JWST is a population of compact, red sources at z > 4, commonly referred to as Little Red Dots (LRDs). Spectroscopic identifications reported that most LRDs are active galactic nuclei (AGNs), which are preferentially found around z~6 and could imply a key phase in the formation and growth of black holes (BHs) in the early universe. Photometric surveys at lower redshift have recently been carried out to trace their evolution across cosmic time, and a small number of LRDs have been spectroscopically identified at both Cosmic Noon and in the local universe. Here we report the discovery of one of the lowest-z analogs of LRDs, J204837.26-002437.2 (hereafter J2048) at z = 0.4332, using new Gemini-N/GMOS IFU observations combined with archival multi-band photometric SED data. The GMOS data reveal extended blue emission from starburst with a star formation rate of 400 Msun yr-1, together with an extended, highly fast ionized outflow. This is the first spectroscopic confirmation of extended host emission and outflow in an LRD-like galaxy, providing a unique laboratory for understanding the nature of their high-redshift counterparts. Moreover, J2048 would host an extremely overmassive BH with a BH-to-stellar mass ratio of 0.6, with the BH mass and host stellar mass estimated to be 10^10.2 and 10^10.4 Msun, respectively. We discuss the origin and evolutionary fate of J2048, and the implications that such low-z analogs have for interpreting the properties of high-z LRDs.         |\n",
       "|<p style=\"color:green\"> **ERROR** </p>| <p style=\"color:green\">affiliation error: mpia.affiliation_verifications: 'Heidelberg' keyword not found.</p> |"
      ],
      "text/plain": [
       "<IPython.core.display.Markdown object>"
      ]
     },
     "metadata": {},
     "output_type": "display_data"
    }
   ],
   "source": [
    "import datetime\n",
    "today = str(datetime.date.today())\n",
    "logfile = f\"_build/html/logs/log-{today}.md\"\n",
    "\n",
    "\n",
    "with open(logfile, 'w') as logs:\n",
    "    # Success\n",
    "    logs.write(f'# Arxiv on Deck 2: Logs - {today}\\n\\n')\n",
    "    logs.write(\"\"\"* Arxiv had {0:,d} new papers\\n\"\"\".format(len(new_papers)))\n",
    "    logs.write(\"\"\"    * {0:,d} with possible author matches\\n\\n\"\"\".format(len(candidates)))\n",
    "    logs.write(\"## Sucessful papers\\n\\n\")\n",
    "    display(Markdown(\"## Successful papers\"))\n",
    "    success = [k[0] for k in documents]\n",
    "    for candid in candidates:\n",
    "        if candid['identifier'].split(':')[-1] in success:\n",
    "            display(candid)\n",
    "            logs.write(candid.generate_markdown_text() + '\\n\\n')\n",
    "\n",
    "    ## failed\n",
    "    logs.write(\"## Failed papers\\n\\n\")\n",
    "    display(Markdown(\"## Failed papers\"))\n",
    "    failed = sorted(failed, key=lambda x: x[1])\n",
    "    current_reason = \"\"\n",
    "    for paper, reason in failed:\n",
    "        if 'affiliation' in reason:\n",
    "            color = 'green'\n",
    "        else:\n",
    "            color = 'red'\n",
    "        data = Markdown(\n",
    "                paper.generate_markdown_text() + \n",
    "                f'\\n|<p style=\"color:{color:s}\"> **ERROR** </p>| <p style=\"color:{color:s}\">{reason:s}</p> |'\n",
    "               )\n",
    "        if reason != current_reason:\n",
    "            logs.write(f'### {reason:s} \\n\\n')\n",
    "            current_reason = reason\n",
    "        logs.write(data.data + '\\n\\n')\n",
    "        \n",
    "        # only display here the important errors (all in logs)\n",
    "        # if color in ('red',):\n",
    "        display(data)"
   ]
  },
  {
   "cell_type": "markdown",
   "id": "472d20ee",
   "metadata": {
    "papermill": {
     "duration": 0.004009,
     "end_time": "2025-10-06T04:12:26.134684",
     "exception": false,
     "start_time": "2025-10-06T04:12:26.130675",
     "status": "completed"
    },
    "tags": []
   },
   "source": [
    "## Export documents\n",
    "\n",
    "We now write the .md files and export relevant images"
   ]
  },
  {
   "cell_type": "code",
   "execution_count": 7,
   "id": "d426aed9",
   "metadata": {
    "execution": {
     "iopub.execute_input": "2025-10-06T04:12:26.143671Z",
     "iopub.status.busy": "2025-10-06T04:12:26.143389Z",
     "iopub.status.idle": "2025-10-06T04:12:26.150322Z",
     "shell.execute_reply": "2025-10-06T04:12:26.149665Z"
    },
    "papermill": {
     "duration": 0.012536,
     "end_time": "2025-10-06T04:12:26.151280",
     "exception": false,
     "start_time": "2025-10-06T04:12:26.138744",
     "status": "completed"
    },
    "tags": []
   },
   "outputs": [],
   "source": [
    "def export_markdown_summary(md: str, md_fname:str, directory: str):\n",
    "    \"\"\"Export MD document and associated relevant images\"\"\"\n",
    "    import os\n",
    "    import shutil\n",
    "    import re\n",
    "\n",
    "    if (os.path.exists(directory) and not os.path.isdir(directory)):\n",
    "        raise RuntimeError(f\"a non-directory file exists with name {directory:s}\")\n",
    "\n",
    "    if (not os.path.exists(directory)):\n",
    "        print(f\"creating directory {directory:s}\")\n",
    "        os.mkdir(directory)\n",
    "\n",
    "    fig_fnames = (re.compile(r'\\[Fig.*\\]\\((.*)\\)').findall(md) + \n",
    "                  re.compile(r'\\<img src=\"([^>\\s]*)\"[^>]*/>').findall(md))\n",
    "    print(\"found figures\", fig_fnames)\n",
    "    for fname in fig_fnames:\n",
    "        if 'http' in fname:\n",
    "            # No need to copy online figures\n",
    "            continue\n",
    "        if not os.path.exists(fname):\n",
    "            print(\"file not found\", fname)\n",
    "            continue\n",
    "        print(\"copying \", fname, \"to\", directory)\n",
    "        destdir = os.path.join(directory, os.path.dirname(fname))\n",
    "        destfname = os.path.join(destdir, os.path.basename(fname))\n",
    "        try:\n",
    "            os.makedirs(destdir)\n",
    "        except FileExistsError:\n",
    "            pass\n",
    "        shutil.copy(fname, destfname)\n",
    "    with open(os.path.join(directory, md_fname), 'w') as fout:\n",
    "        fout.write(md)\n",
    "    print(\"exported in \", os.path.join(directory, md_fname))\n",
    "    [print(\"    + \" + os.path.join(directory,fk)) for fk in fig_fnames]"
   ]
  },
  {
   "cell_type": "code",
   "execution_count": 8,
   "id": "014d04a4",
   "metadata": {
    "execution": {
     "iopub.execute_input": "2025-10-06T04:12:26.160277Z",
     "iopub.status.busy": "2025-10-06T04:12:26.160045Z",
     "iopub.status.idle": "2025-10-06T04:12:26.178538Z",
     "shell.execute_reply": "2025-10-06T04:12:26.177931Z"
    },
    "papermill": {
     "duration": 0.024118,
     "end_time": "2025-10-06T04:12:26.179545",
     "exception": false,
     "start_time": "2025-10-06T04:12:26.155427",
     "status": "completed"
    },
    "tags": []
   },
   "outputs": [
    {
     "name": "stdout",
     "output_type": "stream",
     "text": [
      "found figures ['tmp_2510.03037/./GRG-II_Fig4A.png', 'tmp_2510.03037/./GRG-II_Fig12.png', 'tmp_2510.03037/./GRG-II_Fig2.png']\n",
      "copying  tmp_2510.03037/./GRG-II_Fig4A.png to _build/html/\n",
      "copying  tmp_2510.03037/./GRG-II_Fig12.png to _build/html/\n",
      "copying  tmp_2510.03037/./GRG-II_Fig2.png to _build/html/\n",
      "exported in  _build/html/2510.03037.md\n",
      "    + _build/html/tmp_2510.03037/./GRG-II_Fig4A.png\n",
      "    + _build/html/tmp_2510.03037/./GRG-II_Fig12.png\n",
      "    + _build/html/tmp_2510.03037/./GRG-II_Fig2.png\n",
      "found figures ['tmp_2510.03221/./sky_plot.png', 'tmp_2510.03221/./complet.png', 'tmp_2510.03221/./sky_model.png']\n",
      "copying  tmp_2510.03221/./sky_plot.png to _build/html/\n",
      "copying  tmp_2510.03221/./complet.png to _build/html/\n",
      "copying  tmp_2510.03221/./sky_model.png to _build/html/\n",
      "exported in  _build/html/2510.03221.md\n",
      "    + _build/html/tmp_2510.03221/./sky_plot.png\n",
      "    + _build/html/tmp_2510.03221/./complet.png\n",
      "    + _build/html/tmp_2510.03221/./sky_model.png\n"
     ]
    }
   ],
   "source": [
    "for paper_id, md in documents:\n",
    "    export_markdown_summary(md, f\"{paper_id:s}.md\", '_build/html/')"
   ]
  },
  {
   "cell_type": "markdown",
   "id": "f087a0a7",
   "metadata": {
    "papermill": {
     "duration": 0.004635,
     "end_time": "2025-10-06T04:12:26.188543",
     "exception": false,
     "start_time": "2025-10-06T04:12:26.183908",
     "status": "completed"
    },
    "tags": []
   },
   "source": [
    "## Display the papers\n",
    "\n",
    "Not necessary but allows for a quick check."
   ]
  },
  {
   "cell_type": "code",
   "execution_count": 9,
   "id": "fd25f625",
   "metadata": {
    "execution": {
     "iopub.execute_input": "2025-10-06T04:12:26.197594Z",
     "iopub.status.busy": "2025-10-06T04:12:26.197358Z",
     "iopub.status.idle": "2025-10-06T04:12:26.203562Z",
     "shell.execute_reply": "2025-10-06T04:12:26.202897Z"
    },
    "papermill": {
     "duration": 0.011996,
     "end_time": "2025-10-06T04:12:26.204661",
     "exception": false,
     "start_time": "2025-10-06T04:12:26.192665",
     "status": "completed"
    },
    "scrolled": false,
    "tags": []
   },
   "outputs": [
    {
     "data": {
      "text/markdown": [
       "<div class=\"macros\" style=\"visibility:hidden;\">\n",
       "$\\newcommand{\\ensuremath}{}$\n",
       "$\\newcommand{\\xspace}{}$\n",
       "$\\newcommand{\\object}[1]{\\texttt{#1}}$\n",
       "$\\newcommand{\\farcs}{{.}''}$\n",
       "$\\newcommand{\\farcm}{{.}'}$\n",
       "$\\newcommand{\\arcsec}{''}$\n",
       "$\\newcommand{\\arcmin}{'}$\n",
       "$\\newcommand{\\ion}[2]{#1#2}$\n",
       "$\\newcommand{\\textsc}[1]{\\textrm{#1}}$\n",
       "$\\newcommand{\\hl}[1]{\\textrm{#1}}$\n",
       "$\\newcommand{\\footnote}[1]{}$\n",
       "$\\newcommand{\\cf}{\\color{magenta}}$\n",
       "$\\newcommand{\\fpath}{figures/}$\n",
       "$\\newcommand{\\labelenumi}{\\Roman{enumi}.}$</div>\n",
       "\n",
       "\n",
       "\n",
       "<div id=\"title\">\n",
       "\n",
       "# Probing the formation of megaparsec-scale giant radio galaxies\\ II. Continuum \\& polarization behavior from MHD simulations\n",
       "\n",
       "</div>\n",
       "<div id=\"comments\">\n",
       "\n",
       "[![arXiv](https://img.shields.io/badge/arXiv-2510.03037-b31b1b.svg)](https://arxiv.org/abs/2510.03037)<mark>Appeared on: 2025-10-06</mark> -  _Accepted for publication in A&A journal_\n",
       "\n",
       "</div>\n",
       "<div id=\"authors\">\n",
       "\n",
       "G. Giri, et al. -- incl., <mark>C. Fendt</mark>\n",
       "\n",
       "</div>\n",
       "<div id=\"abstract\">\n",
       "\n",
       "**Abstract:** The persistence of radiative signatures in giant radio galaxies (GRGs $\\gtrsim 700$ kpc) remains a frontier topic of research, with contemporary telescopes revealing intricate features that require investigation. This study aims to examine the emission characteristics of simulated GRGs, and correlate them with their underlying three-dimensional dynamical properties. Sky-projected continuum and polarization maps at 1 GHz were computed from five 3D relativistic magnetohydrodynamical (RMHD) simulations by integrating the synthesized emissivity data along the line of sight, with the integration path chosen to reflect the GRG evolution in the sky plane. The emissivities were derived from these RMHD simulations, featuring FR-I and FR-II jets injected from different locations of the large-scale environment, with propagation along varying jet frustration paths. Morphologies, such as widened lobes from low-power jets and collimated flows from high-power jets, are strongly shaped by the triaxiality of the environment, resulting in features like wings and asymmetric cocoons, thereby making morphology a crucial indicator of GRG formation mechanisms. The decollimation of the bulk flow in GRG jets gives rise to intricate cocoon features, most notably filamentary structures—magnetically dominated threads with lifespans of a few Myr. High-jet-power cases frequently display enhanced emission zones at mid-cocoon distances (alongside warmspots around the jet-head), contradicting the interpretations of the GRG as a restarting source. In such cases, examining the lateral intensity variation of the cocoon may reveal the source's state, with a gradual decrease in emission suggesting a low-active stage. This study highlights that applying a simple radio power–jet power relation to a statistical GRG sample is unfeasible, as it depends on growth conditions of individual GRGs. Effects such as inverse-Compton CMB cooling and matter entrainment significantly impact the long-term emission persistence of GRGs. The diminishing fractional polarization with GRG evolution reflects increasing turbulence, underscoring the importance of modeling this characteristic further, particularly for even larger-scaled sources.\n",
       "\n",
       "</div>\n",
       "\n",
       "<div id=\"div_fig1\">\n",
       "\n",
       "<img src=\"tmp_2510.03037/./GRG-II_Fig4A.png\" alt=\"Fig2\" width=\"100%\"/>\n",
       "\n",
       "**Figure 2. -** A. Intensity maps (log $I_{\\nu}$) at 1 GHz radio frequency are presented for two simulation cases: a low-power jet (\"GRG\\_lp\\_min\"; _top_) and a high-power jet (\"GRG\\_hp\\_min\"; _bottom_), both propagating along the minor axis of the ambient medium. While the overall structures resemble the dynamical maps from \\citetalias{Giri2025}, the emission maps offer deeper insights, highlighting crucial aspects of the observability of these simulated giant radio structures at their evolved stages ($\\sim$ 167 Myr: _top_; $\\sim$ 69 Myr: _bottom_). (*Fig:Emission_minor*)\n",
       "\n",
       "</div>\n",
       "<div id=\"div_fig2\">\n",
       "\n",
       "<img src=\"tmp_2510.03037/./GRG-II_Fig12.png\" alt=\"Fig15\" width=\"100%\"/>\n",
       "\n",
       "**Figure 15. -** Intensity variation maps (as background) for five simulated scenarios at their evolved stages, presented as colormaps, overlaid with projected magnetic field distributions. The line lengths indicate proportionality to the corresponding fractional polarization (FP) values at each point. Median FP values are noted for `GRG\\_lp\\_min' (41.9\\%), `GRG\\_hp\\_min' (45.8\\%), `GRG\\_lp\\_maj' (38.4\\%), `GRG\\_hp\\_maj' (39.2\\%), and 'GRG\\_hp\\_edge' (35.1\\%), and are annotated in each subfigure alongside a scale bar for reference. (*Fig:Polarization*)\n",
       "\n",
       "</div>\n",
       "<div id=\"div_fig3\">\n",
       "\n",
       "<img src=\"tmp_2510.03037/./GRG-II_Fig2.png\" alt=\"Fig10\" width=\"100%\"/>\n",
       "\n",
       "**Figure 10. -** Sliced velocity maps ($x-y$ plane, $z=0$) for the resultant giant radio galaxy morphologies from five simulation cases (labels indicated in each plot) are shown, illustrating the underlying matter-transport mechanisms responsible for these structures. These maps are displayed at dynamical ages of $\\sim$ 167 Myr (GRG\\_lp\\_min), 196 Myr (GRG\\_lp\\_maj), 49 Myr (GRG\\_hp\\_edge), 137 Myr (GRG\\_hp\\_maj), and 69 Myr (GRG\\_hp\\_min), as also highlighted in \\citetalias{Giri2025}. The colormap represents the $x-$component of velocity, capturing the bulk-flow (in blue) and back-flow (in red) dynamics, while the contours depict the $y-$component of velocity, with solid lines indicating $0.005c$ and dashed lines indicating $-0.005c$, to highlight the behavior of secondary structures forming within the domain. To analyze the impact of jet power on morphology and the influence of the tri-axial environment on the resulting structure, comparisons are made column-wise and row-wise, respectively. (*Fig:Velocity_dynamics*)\n",
       "\n",
       "</div><div id=\"qrcode\"><img src=https://api.qrserver.com/v1/create-qr-code/?size=100x100&data=\"https://arxiv.org/abs/2510.03037\"></div>"
      ],
      "text/plain": [
       "<IPython.core.display.Markdown object>"
      ]
     },
     "metadata": {},
     "output_type": "display_data"
    },
    {
     "data": {
      "text/markdown": [
       "<div class=\"macros\" style=\"visibility:hidden;\">\n",
       "$\\newcommand{\\ensuremath}{}$\n",
       "$\\newcommand{\\xspace}{}$\n",
       "$\\newcommand{\\object}[1]{\\texttt{#1}}$\n",
       "$\\newcommand{\\farcs}{{.}''}$\n",
       "$\\newcommand{\\farcm}{{.}'}$\n",
       "$\\newcommand{\\arcsec}{''}$\n",
       "$\\newcommand{\\arcmin}{'}$\n",
       "$\\newcommand{\\ion}[2]{#1#2}$\n",
       "$\\newcommand{\\textsc}[1]{\\textrm{#1}}$\n",
       "$\\newcommand{\\hl}[1]{\\textrm{#1}}$\n",
       "$\\newcommand{\\footnote}[1]{}$\n",
       "$\\newcommand{\\vdag}{(v)^\\dagger}$\n",
       "$\\newcommand$\n",
       "$\\newcommand$\n",
       "$\\newcommand{\\ml}[1]{\\textcolor{red}{#1}}$\n",
       "$\\newcommand{\\cmj}[1]{\\textcolor{magenta}{#1}}$\n",
       "$\\newcommand{\\bs}[1]{\\boldsymbol{#1}}$\n",
       "$\\newcommand{\\vec}[1]{\\boldsymbol{#1}}$</div>\n",
       "\n",
       "\n",
       "\n",
       "<div id=\"title\">\n",
       "\n",
       "# Inferring Stellar Densities with Flexible Models I: The Distribution of RR Lyrae in the Milky Way with _Gaia_ DR3\n",
       "\n",
       "</div>\n",
       "<div id=\"comments\">\n",
       "\n",
       "[![arXiv](https://img.shields.io/badge/arXiv-2510.03221-b31b1b.svg)](https://arxiv.org/abs/2510.03221)<mark>Appeared on: 2025-10-06</mark> -  _13 pages, 6 figures, submitted to ApJ, comments welcome!_\n",
       "\n",
       "</div>\n",
       "<div id=\"authors\">\n",
       "\n",
       "M. Lucey, et al. -- incl., <mark>H.-W. Rix</mark>\n",
       "\n",
       "</div>\n",
       "<div id=\"abstract\">\n",
       "\n",
       "**Abstract:** Understanding the formation and evolutionary history of the Milky Way requires detailed mapping of its stellar components, which preserve fossil records of the Galaxy's assembly through cosmic time. RR Lyrae stars are particularly well-suited for this endeavor, as they are old, standard candle variables that probe the Galaxy's earliest formation epochs. In this work, we employ a hierarchical Bayesian Gaussian Mixture Model (GMM) to characterize the three-dimensional density distribution of RR Lyrae stars in the Milky Way. This approach provides a flexible framework for modeling complex stellar distributions, particularly in the inner Galaxy where the bulge, disk, and halo components overlap. Our analysis reveals that the inner Galaxy is dominated by a distinct prolate stellar population with axis ratio $q$ =1.30. Consistent with previous work, we find the halo follows a $r^{-4}$ power-law profile that flattens within 12 kpc of the Galactic center. We also confirm the halo is oblate $q$ =0.62 with a tilt angle of $12.22^{\\circ}$ . We report for the first time that this tilt aligns the halo major axis in the direction of the Sagittarius dwarf galaxy. These results establish GMMs as an effective and flexible tool for modeling Galactic structure and provide new constraints on the distribution of old stars in the inner Galaxy.\n",
       "\n",
       "</div>\n",
       "\n",
       "<div id=\"div_fig1\">\n",
       "\n",
       "<img src=\"tmp_2510.03221/./sky_plot.png\" alt=\"Fig2\" width=\"100%\"/>\n",
       "\n",
       "**Figure 2. -** The sky distribution in Galactic coordinates ($l,b$) of our RR Lyrae sample. stars in our sample. The top panel shows the log density for the entire sample of 128,353 RR Lyrae. After removing the XMCs with a cut in RA and DEC, there are 105,325 RRL that we use in our analysis as shown in the middle panel. The bottom panel shows the sky distribution of our final sample colored by the _Gaia_ G magnitude, which, because of their standard-candle nature, is strongly correlated with the distance.  (*fig:sky*)\n",
       "\n",
       "</div>\n",
       "<div id=\"div_fig2\">\n",
       "\n",
       "<img src=\"tmp_2510.03221/./complet.png\" alt=\"Fig3\" width=\"100%\"/>\n",
       "\n",
       "**Figure 3. -** Empirical Completeness Maps of the RR Lyrae sample in Galactic Coordinates at distances of 5 kpc (top left), 10 kpc (middle left), and 20 kpc (bottom left). We show corresponding slices of the data in distance bins of 1 kpc in the right panels. At small distances, the completeness is degraded because of the bright limits of surveys. The dominant structure in the completeness map is consistent with the _Gaia_ scanning law.   (*fig:sf*)\n",
       "\n",
       "</div>\n",
       "<div id=\"div_fig3\">\n",
       "\n",
       "<img src=\"tmp_2510.03221/./sky_model.png\" alt=\"Fig4\" width=\"100%\"/>\n",
       "\n",
       "**Figure 4. -**  Comparison of the sky projected densities of our model to the data in Galactic coordinates ($l, b$). The top left panel is sky projection of our model where the darkest patches indicate the highest density of RRL. The top right panel shows the same but convolved with our model for the selection function. The bottom panel shows the equivalent sky projection of the RRL sample used in this work. In general, the sky projected model is similar to the data when convolved with the selection.    (*fig:skymodel*)\n",
       "\n",
       "</div><div id=\"qrcode\"><img src=https://api.qrserver.com/v1/create-qr-code/?size=100x100&data=\"https://arxiv.org/abs/2510.03221\"></div>"
      ],
      "text/plain": [
       "<IPython.core.display.Markdown object>"
      ]
     },
     "metadata": {},
     "output_type": "display_data"
    }
   ],
   "source": [
    "[display(Markdown(k[1])) for k in documents];"
   ]
  },
  {
   "cell_type": "markdown",
   "id": "873873a4",
   "metadata": {
    "papermill": {
     "duration": 0.004893,
     "end_time": "2025-10-06T04:12:26.214426",
     "exception": false,
     "start_time": "2025-10-06T04:12:26.209533",
     "status": "completed"
    },
    "tags": []
   },
   "source": [
    "# Create HTML index"
   ]
  },
  {
   "cell_type": "code",
   "execution_count": 10,
   "id": "cf665672",
   "metadata": {
    "execution": {
     "iopub.execute_input": "2025-10-06T04:12:26.224470Z",
     "iopub.status.busy": "2025-10-06T04:12:26.224256Z",
     "iopub.status.idle": "2025-10-06T04:12:26.231489Z",
     "shell.execute_reply": "2025-10-06T04:12:26.230936Z"
    },
    "papermill": {
     "duration": 0.013419,
     "end_time": "2025-10-06T04:12:26.232480",
     "exception": false,
     "start_time": "2025-10-06T04:12:26.219061",
     "status": "completed"
    },
    "tags": []
   },
   "outputs": [
    {
     "name": "stdout",
     "output_type": "stream",
     "text": [
      "131  publications files modified in the last 7 days.\n"
     ]
    }
   ],
   "source": [
    "from datetime import datetime, timedelta, timezone\n",
    "from glob import glob\n",
    "import os\n",
    "\n",
    "files = glob('_build/html/*.md')\n",
    "days = 7\n",
    "now = datetime.today()\n",
    "res = []\n",
    "for fk in files:\n",
    "    stat_result = os.stat(fk).st_ctime\n",
    "    modified = datetime.fromtimestamp(stat_result, tz=timezone.utc).replace(tzinfo=None)\n",
    "    delta = now.today() - modified\n",
    "    if delta <= timedelta(days=days):\n",
    "        res.append((delta.seconds, fk))\n",
    "res = [k[1] for k in reversed(sorted(res, key=lambda x:x[1]))]\n",
    "npub = len(res)\n",
    "print(len(res), f\" publications files modified in the last {days:d} days.\")\n",
    "# [ print('\\t', k) for k in res ];"
   ]
  },
  {
   "cell_type": "code",
   "execution_count": 11,
   "id": "015de740",
   "metadata": {
    "execution": {
     "iopub.execute_input": "2025-10-06T04:12:26.242535Z",
     "iopub.status.busy": "2025-10-06T04:12:26.242350Z",
     "iopub.status.idle": "2025-10-06T04:12:26.254127Z",
     "shell.execute_reply": "2025-10-06T04:12:26.253585Z"
    },
    "papermill": {
     "duration": 0.017907,
     "end_time": "2025-10-06T04:12:26.255090",
     "exception": false,
     "start_time": "2025-10-06T04:12:26.237183",
     "status": "completed"
    },
    "tags": []
   },
   "outputs": [
    {
     "name": "stdout",
     "output_type": "stream",
     "text": [
      "19  publications in the last 7 days.\n"
     ]
    }
   ],
   "source": [
    "import datetime\n",
    "from glob import glob\n",
    "\n",
    "def get_last_n_days(lst, days=1):\n",
    "    \"\"\" Get the documents from the last n days \"\"\"\n",
    "    sorted_lst = sorted(lst, key=lambda x: x[1], reverse=True)\n",
    "    for fname, date in sorted_lst:\n",
    "        if date >= str(datetime.date.today() - datetime.timedelta(days=days)):\n",
    "            yield fname\n",
    "\n",
    "def extract_appearance_dates(lst_file):\n",
    "    dates = []\n",
    "\n",
    "    def get_date(line):\n",
    "        return line\\\n",
    "            .split('Appeared on:')[-1]\\\n",
    "            .split('</mark>')[0].strip()\n",
    "\n",
    "    for fname in lst:\n",
    "        with open(fname, 'r') as f:\n",
    "            found_date = False\n",
    "            for line in f:\n",
    "                if not found_date:\n",
    "                    if \"Appeared on\" in line:\n",
    "                        found_date = True\n",
    "                        dates.append((fname, get_date(line)))\n",
    "                else:\n",
    "                    break\n",
    "    return dates\n",
    "\n",
    "from glob import glob\n",
    "lst = glob('_build/html/*md')\n",
    "days = 7\n",
    "dates = extract_appearance_dates(lst)\n",
    "res = list(get_last_n_days(dates, days))\n",
    "npub = len(res)\n",
    "print(len(res), f\" publications in the last {days:d} days.\")"
   ]
  },
  {
   "cell_type": "code",
   "execution_count": 12,
   "id": "52ca0208",
   "metadata": {
    "execution": {
     "iopub.execute_input": "2025-10-06T04:12:26.265374Z",
     "iopub.status.busy": "2025-10-06T04:12:26.265182Z",
     "iopub.status.idle": "2025-10-06T04:12:26.269811Z",
     "shell.execute_reply": "2025-10-06T04:12:26.269270Z"
    },
    "papermill": {
     "duration": 0.010972,
     "end_time": "2025-10-06T04:12:26.270827",
     "exception": false,
     "start_time": "2025-10-06T04:12:26.259855",
     "status": "completed"
    },
    "scrolled": false,
    "tags": []
   },
   "outputs": [],
   "source": [
    "def create_carousel(npub=4):\n",
    "    \"\"\" Generate the HTML code for a carousel with `npub` slides \"\"\"\n",
    "    carousel = [\"\"\"  <div class=\"carousel\" \"\"\",\n",
    "                \"\"\"       data-flickity='{ \"autoPlay\": 10000, \"adaptiveHeight\": true, \"resize\": true, \"wrapAround\": true, \"pauseAutoPlayOnHover\": true, \"groupCells\": 1 }' id=\"asyncTypeset\">\"\"\"\n",
    "                ]\n",
    "    \n",
    "    item_str = \"\"\"    <div class=\"carousel-cell\"> <div id=\"slide{k}\" class=\"md_view\">Content {k}</div> </div>\"\"\"\n",
    "    for k in range(1, npub + 1):\n",
    "        carousel.append(item_str.format(k=k))\n",
    "    carousel.append(\"  </div>\")\n",
    "    return '\\n'.join(carousel)\n",
    "\n",
    "def create_grid(npub=4):\n",
    "    \"\"\" Generate the HTML code for a flat grid with `npub` slides \"\"\"\n",
    "    grid = [\"\"\"  <div class=\"grid\"> \"\"\",\n",
    "                ]\n",
    "    \n",
    "    item_str = \"\"\"    <div class=\"grid-item\"> <div id=\"slide{k}\" class=\"md_view\">Content {k}</div> </div>\"\"\"\n",
    "    for k in range(1, npub + 1):\n",
    "        grid.append(item_str.format(k=k))\n",
    "    grid.append(\"  </div>\")\n",
    "    return '\\n'.join(grid)"
   ]
  },
  {
   "cell_type": "code",
   "execution_count": 13,
   "id": "a6eac5b6",
   "metadata": {
    "execution": {
     "iopub.execute_input": "2025-10-06T04:12:26.281085Z",
     "iopub.status.busy": "2025-10-06T04:12:26.280893Z",
     "iopub.status.idle": "2025-10-06T04:12:26.285855Z",
     "shell.execute_reply": "2025-10-06T04:12:26.285210Z"
    },
    "papermill": {
     "duration": 0.011306,
     "end_time": "2025-10-06T04:12:26.286899",
     "exception": false,
     "start_time": "2025-10-06T04:12:26.275593",
     "status": "completed"
    },
    "scrolled": false,
    "tags": []
   },
   "outputs": [],
   "source": [
    "carousel = create_carousel(npub)\n",
    "docs = ', '.join(['\"{0:s}\"'.format(k.split('/')[-1]) for k in res])\n",
    "slides = ', '.join([f'\"slide{k}\"' for k in range(1, npub + 1)])\n",
    "\n",
    "with open(\"daily_template.html\", \"r\") as tpl:\n",
    "    page = tpl.read()\n",
    "    page = page.replace(\"{%-- carousel:s --%}\", carousel)\\\n",
    "               .replace(\"{%-- suptitle:s --%}\",  \"7-day archives\" )\\\n",
    "               .replace(\"{%-- docs:s --%}\", docs)\\\n",
    "               .replace(\"{%-- slides:s --%}\", slides)\n",
    "    \n",
    "with open(\"_build/html/index_7days.html\", 'w') as fout:\n",
    "    fout.write(page)"
   ]
  },
  {
   "cell_type": "code",
   "execution_count": 14,
   "id": "adc1a1ec",
   "metadata": {
    "execution": {
     "iopub.execute_input": "2025-10-06T04:12:26.297212Z",
     "iopub.status.busy": "2025-10-06T04:12:26.297030Z",
     "iopub.status.idle": "2025-10-06T04:12:26.303097Z",
     "shell.execute_reply": "2025-10-06T04:12:26.302522Z"
    },
    "papermill": {
     "duration": 0.012268,
     "end_time": "2025-10-06T04:12:26.304049",
     "exception": false,
     "start_time": "2025-10-06T04:12:26.291781",
     "status": "completed"
    },
    "tags": []
   },
   "outputs": [
    {
     "name": "stdout",
     "output_type": "stream",
     "text": [
      "2  publications in the last day.\n"
     ]
    }
   ],
   "source": [
    "# redo for today\n",
    "days = 1\n",
    "res = list(get_last_n_days(dates, days))\n",
    "npub = len(res)\n",
    "print(len(res), f\" publications in the last day.\")\n",
    "\n",
    "carousel = create_carousel(npub)\n",
    "docs = ', '.join(['\"{0:s}\"'.format(k.split('/')[-1]) for k in res])\n",
    "slides = ', '.join([f'\"slide{k}\"' for k in range(1, npub + 1)])\n",
    "\n",
    "with open(\"daily_template.html\", \"r\") as tpl:\n",
    "    page = tpl.read()\n",
    "    page = page.replace(\"{%-- carousel:s --%}\", carousel)\\\n",
    "               .replace(\"{%-- suptitle:s --%}\",  \"Daily\" )\\\n",
    "               .replace(\"{%-- docs:s --%}\", docs)\\\n",
    "               .replace(\"{%-- slides:s --%}\", slides)\n",
    "    \n",
    "# print(carousel, docs, slides)\n",
    "# print(page)\n",
    "with open(\"_build/html/index_daily.html\", 'w') as fout:\n",
    "    fout.write(page)"
   ]
  },
  {
   "cell_type": "code",
   "execution_count": 15,
   "id": "00eece82",
   "metadata": {
    "execution": {
     "iopub.execute_input": "2025-10-06T04:12:26.314403Z",
     "iopub.status.busy": "2025-10-06T04:12:26.314176Z",
     "iopub.status.idle": "2025-10-06T04:12:26.320317Z",
     "shell.execute_reply": "2025-10-06T04:12:26.319823Z"
    },
    "papermill": {
     "duration": 0.012402,
     "end_time": "2025-10-06T04:12:26.321297",
     "exception": false,
     "start_time": "2025-10-06T04:12:26.308895",
     "status": "completed"
    },
    "scrolled": false,
    "tags": []
   },
   "outputs": [
    {
     "name": "stdout",
     "output_type": "stream",
     "text": [
      "6  6 publications selected.\n"
     ]
    }
   ],
   "source": [
    "# Create the flat grid of the last N papers (fixed number regardless of dates)\n",
    "from itertools import islice \n",
    "\n",
    "npub = 6\n",
    "res = [k[0] for k in (islice(reversed(sorted(dates, key=lambda x: x[1])), 6))]\n",
    "print(len(res), f\" {npub} publications selected.\")\n",
    "\n",
    "grid = create_grid(npub)\n",
    "docs = ', '.join(['\"{0:s}\"'.format(k.split('/')[-1]) for k in res])\n",
    "slides = ', '.join([f'\"slide{k}\"' for k in range(1, npub + 1)])\n",
    "\n",
    "with open(\"grid_template.html\", \"r\") as tpl:\n",
    "    page = tpl.read()\n",
    "    page = page.replace(\"{%-- grid-content:s --%}\", grid)\\\n",
    "               .replace(\"{%-- suptitle:s --%}\",  f\"Last {npub:,d} papers\" )\\\n",
    "               .replace(\"{%-- docs:s --%}\", docs)\\\n",
    "               .replace(\"{%-- slides:s --%}\", slides)\n",
    "    \n",
    "# print(grid, docs, slides)\n",
    "# print(page)\n",
    "with open(\"_build/html/index_npub_grid.html\", 'w') as fout:\n",
    "    fout.write(page)"
   ]
  }
 ],
 "metadata": {
  "kernelspec": {
   "display_name": "Python 3 (ipykernel)",
   "language": "python",
   "name": "python3"
  },
  "language_info": {
   "codemirror_mode": {
    "name": "ipython",
    "version": 3
   },
   "file_extension": ".py",
   "mimetype": "text/x-python",
   "name": "python",
   "nbconvert_exporter": "python",
   "pygments_lexer": "ipython3",
   "version": "3.9.23"
  },
  "papermill": {
   "default_parameters": {},
   "duration": 48.341023,
   "end_time": "2025-10-06T04:12:26.541543",
   "environment_variables": {},
   "exception": null,
   "input_path": "MPIA daily digest.ipynb",
   "output_path": "log.ipynb",
   "parameters": {},
   "start_time": "2025-10-06T04:11:38.200520",
   "version": "2.6.0"
  },
  "vscode": {
   "interpreter": {
    "hash": "aee8b7b246df8f9039afb4144a1f6fd8d2ca17a180786b69acc140d282b71a49"
   }
  },
  "widgets": {
   "application/vnd.jupyter.widget-state+json": {
    "state": {
     "3e735d0c23f1461dab25e148d651e34c": {
      "model_module": "@jupyter-widgets/controls",
      "model_module_version": "2.0.0",
      "model_name": "ProgressStyleModel",
      "state": {
       "_model_module": "@jupyter-widgets/controls",
       "_model_module_version": "2.0.0",
       "_model_name": "ProgressStyleModel",
       "_view_count": null,
       "_view_module": "@jupyter-widgets/base",
       "_view_module_version": "2.0.0",
       "_view_name": "StyleView",
       "bar_color": null,
       "description_width": ""
      }
     },
     "670d97455a2d444596a165ef0b21d592": {
      "model_module": "@jupyter-widgets/controls",
      "model_module_version": "2.0.0",
      "model_name": "HTMLModel",
      "state": {
       "_dom_classes": [],
       "_model_module": "@jupyter-widgets/controls",
       "_model_module_version": "2.0.0",
       "_model_name": "HTMLModel",
       "_view_count": null,
       "_view_module": "@jupyter-widgets/controls",
       "_view_module_version": "2.0.0",
       "_view_name": "HTMLView",
       "description": "",
       "description_allow_html": false,
       "layout": "IPY_MODEL_833f576cd31d4a379df48bb4feaeef2c",
       "placeholder": "​",
       "style": "IPY_MODEL_aafee964a1bb41f5a87473764cffe0ce",
       "tabbable": null,
       "tooltip": null,
       "value": " 3/3 [00:25&lt;00:00,  8.25s/it]"
      }
     },
     "7567f97373a0472f9bffe4dd6f00882c": {
      "model_module": "@jupyter-widgets/base",
      "model_module_version": "2.0.0",
      "model_name": "LayoutModel",
      "state": {
       "_model_module": "@jupyter-widgets/base",
       "_model_module_version": "2.0.0",
       "_model_name": "LayoutModel",
       "_view_count": null,
       "_view_module": "@jupyter-widgets/base",
       "_view_module_version": "2.0.0",
       "_view_name": "LayoutView",
       "align_content": null,
       "align_items": null,
       "align_self": null,
       "border_bottom": null,
       "border_left": null,
       "border_right": null,
       "border_top": null,
       "bottom": null,
       "display": null,
       "flex": null,
       "flex_flow": null,
       "grid_area": null,
       "grid_auto_columns": null,
       "grid_auto_flow": null,
       "grid_auto_rows": null,
       "grid_column": null,
       "grid_gap": null,
       "grid_row": null,
       "grid_template_areas": null,
       "grid_template_columns": null,
       "grid_template_rows": null,
       "height": null,
       "justify_content": null,
       "justify_items": null,
       "left": null,
       "margin": null,
       "max_height": null,
       "max_width": null,
       "min_height": null,
       "min_width": null,
       "object_fit": null,
       "object_position": null,
       "order": null,
       "overflow": null,
       "padding": null,
       "right": null,
       "top": null,
       "visibility": null,
       "width": null
      }
     },
     "7af12f0043d64609bb3423b08b857b08": {
      "model_module": "@jupyter-widgets/controls",
      "model_module_version": "2.0.0",
      "model_name": "HTMLStyleModel",
      "state": {
       "_model_module": "@jupyter-widgets/controls",
       "_model_module_version": "2.0.0",
       "_model_name": "HTMLStyleModel",
       "_view_count": null,
       "_view_module": "@jupyter-widgets/base",
       "_view_module_version": "2.0.0",
       "_view_name": "StyleView",
       "background": null,
       "description_width": "",
       "font_size": null,
       "text_color": null
      }
     },
     "833f576cd31d4a379df48bb4feaeef2c": {
      "model_module": "@jupyter-widgets/base",
      "model_module_version": "2.0.0",
      "model_name": "LayoutModel",
      "state": {
       "_model_module": "@jupyter-widgets/base",
       "_model_module_version": "2.0.0",
       "_model_name": "LayoutModel",
       "_view_count": null,
       "_view_module": "@jupyter-widgets/base",
       "_view_module_version": "2.0.0",
       "_view_name": "LayoutView",
       "align_content": null,
       "align_items": null,
       "align_self": null,
       "border_bottom": null,
       "border_left": null,
       "border_right": null,
       "border_top": null,
       "bottom": null,
       "display": null,
       "flex": null,
       "flex_flow": null,
       "grid_area": null,
       "grid_auto_columns": null,
       "grid_auto_flow": null,
       "grid_auto_rows": null,
       "grid_column": null,
       "grid_gap": null,
       "grid_row": null,
       "grid_template_areas": null,
       "grid_template_columns": null,
       "grid_template_rows": null,
       "height": null,
       "justify_content": null,
       "justify_items": null,
       "left": null,
       "margin": null,
       "max_height": null,
       "max_width": null,
       "min_height": null,
       "min_width": null,
       "object_fit": null,
       "object_position": null,
       "order": null,
       "overflow": null,
       "padding": null,
       "right": null,
       "top": null,
       "visibility": null,
       "width": null
      }
     },
     "90e34bc8b78a43eebe357872b92ff071": {
      "model_module": "@jupyter-widgets/base",
      "model_module_version": "2.0.0",
      "model_name": "LayoutModel",
      "state": {
       "_model_module": "@jupyter-widgets/base",
       "_model_module_version": "2.0.0",
       "_model_name": "LayoutModel",
       "_view_count": null,
       "_view_module": "@jupyter-widgets/base",
       "_view_module_version": "2.0.0",
       "_view_name": "LayoutView",
       "align_content": null,
       "align_items": null,
       "align_self": null,
       "border_bottom": null,
       "border_left": null,
       "border_right": null,
       "border_top": null,
       "bottom": null,
       "display": null,
       "flex": null,
       "flex_flow": null,
       "grid_area": null,
       "grid_auto_columns": null,
       "grid_auto_flow": null,
       "grid_auto_rows": null,
       "grid_column": null,
       "grid_gap": null,
       "grid_row": null,
       "grid_template_areas": null,
       "grid_template_columns": null,
       "grid_template_rows": null,
       "height": null,
       "justify_content": null,
       "justify_items": null,
       "left": null,
       "margin": null,
       "max_height": null,
       "max_width": null,
       "min_height": null,
       "min_width": null,
       "object_fit": null,
       "object_position": null,
       "order": null,
       "overflow": null,
       "padding": null,
       "right": null,
       "top": null,
       "visibility": null,
       "width": null
      }
     },
     "9bd0f5d4c0384281a3a66f551efa776b": {
      "model_module": "@jupyter-widgets/base",
      "model_module_version": "2.0.0",
      "model_name": "LayoutModel",
      "state": {
       "_model_module": "@jupyter-widgets/base",
       "_model_module_version": "2.0.0",
       "_model_name": "LayoutModel",
       "_view_count": null,
       "_view_module": "@jupyter-widgets/base",
       "_view_module_version": "2.0.0",
       "_view_name": "LayoutView",
       "align_content": null,
       "align_items": null,
       "align_self": null,
       "border_bottom": null,
       "border_left": null,
       "border_right": null,
       "border_top": null,
       "bottom": null,
       "display": null,
       "flex": null,
       "flex_flow": null,
       "grid_area": null,
       "grid_auto_columns": null,
       "grid_auto_flow": null,
       "grid_auto_rows": null,
       "grid_column": null,
       "grid_gap": null,
       "grid_row": null,
       "grid_template_areas": null,
       "grid_template_columns": null,
       "grid_template_rows": null,
       "height": null,
       "justify_content": null,
       "justify_items": null,
       "left": null,
       "margin": null,
       "max_height": null,
       "max_width": null,
       "min_height": null,
       "min_width": null,
       "object_fit": null,
       "object_position": null,
       "order": null,
       "overflow": null,
       "padding": null,
       "right": null,
       "top": null,
       "visibility": null,
       "width": null
      }
     },
     "a286f12401674f50b9a84dee4d2cf38c": {
      "model_module": "@jupyter-widgets/controls",
      "model_module_version": "2.0.0",
      "model_name": "FloatProgressModel",
      "state": {
       "_dom_classes": [],
       "_model_module": "@jupyter-widgets/controls",
       "_model_module_version": "2.0.0",
       "_model_name": "FloatProgressModel",
       "_view_count": null,
       "_view_module": "@jupyter-widgets/controls",
       "_view_module_version": "2.0.0",
       "_view_name": "ProgressView",
       "bar_style": "success",
       "description": "",
       "description_allow_html": false,
       "layout": "IPY_MODEL_90e34bc8b78a43eebe357872b92ff071",
       "max": 3.0,
       "min": 0.0,
       "orientation": "horizontal",
       "style": "IPY_MODEL_3e735d0c23f1461dab25e148d651e34c",
       "tabbable": null,
       "tooltip": null,
       "value": 3.0
      }
     },
     "aafee964a1bb41f5a87473764cffe0ce": {
      "model_module": "@jupyter-widgets/controls",
      "model_module_version": "2.0.0",
      "model_name": "HTMLStyleModel",
      "state": {
       "_model_module": "@jupyter-widgets/controls",
       "_model_module_version": "2.0.0",
       "_model_name": "HTMLStyleModel",
       "_view_count": null,
       "_view_module": "@jupyter-widgets/base",
       "_view_module_version": "2.0.0",
       "_view_name": "StyleView",
       "background": null,
       "description_width": "",
       "font_size": null,
       "text_color": null
      }
     },
     "c04908025cd7460fb59a895e87af3dfd": {
      "model_module": "@jupyter-widgets/controls",
      "model_module_version": "2.0.0",
      "model_name": "HTMLModel",
      "state": {
       "_dom_classes": [],
       "_model_module": "@jupyter-widgets/controls",
       "_model_module_version": "2.0.0",
       "_model_name": "HTMLModel",
       "_view_count": null,
       "_view_module": "@jupyter-widgets/controls",
       "_view_module_version": "2.0.0",
       "_view_name": "HTMLView",
       "description": "",
       "description_allow_html": false,
       "layout": "IPY_MODEL_7567f97373a0472f9bffe4dd6f00882c",
       "placeholder": "​",
       "style": "IPY_MODEL_7af12f0043d64609bb3423b08b857b08",
       "tabbable": null,
       "tooltip": null,
       "value": "100%"
      }
     },
     "ecbe0f230e0d4d009fe164865616bdff": {
      "model_module": "@jupyter-widgets/controls",
      "model_module_version": "2.0.0",
      "model_name": "HBoxModel",
      "state": {
       "_dom_classes": [],
       "_model_module": "@jupyter-widgets/controls",
       "_model_module_version": "2.0.0",
       "_model_name": "HBoxModel",
       "_view_count": null,
       "_view_module": "@jupyter-widgets/controls",
       "_view_module_version": "2.0.0",
       "_view_name": "HBoxView",
       "box_style": "",
       "children": [
        "IPY_MODEL_c04908025cd7460fb59a895e87af3dfd",
        "IPY_MODEL_a286f12401674f50b9a84dee4d2cf38c",
        "IPY_MODEL_670d97455a2d444596a165ef0b21d592"
       ],
       "layout": "IPY_MODEL_9bd0f5d4c0384281a3a66f551efa776b",
       "tabbable": null,
       "tooltip": null
      }
     }
    },
    "version_major": 2,
    "version_minor": 0
   }
  }
 },
 "nbformat": 4,
 "nbformat_minor": 5
}