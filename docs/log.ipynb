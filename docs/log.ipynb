{
 "cells": [
  {
   "cell_type": "markdown",
   "id": "92bcb855",
   "metadata": {
    "papermill": {
     "duration": 0.004035,
     "end_time": "2024-10-30T04:11:08.171945",
     "exception": false,
     "start_time": "2024-10-30T04:11:08.167910",
     "status": "completed"
    },
    "tags": []
   },
   "source": [
    "# MPIA Arxiv on Deck 2\n",
    "\n",
    "Contains the steps to produce the paper extractions."
   ]
  },
  {
   "cell_type": "code",
   "execution_count": 1,
   "id": "3a0d6e11",
   "metadata": {
    "execution": {
     "iopub.execute_input": "2024-10-30T04:11:08.179578Z",
     "iopub.status.busy": "2024-10-30T04:11:08.179113Z",
     "iopub.status.idle": "2024-10-30T04:11:08.576770Z",
     "shell.execute_reply": "2024-10-30T04:11:08.576141Z"
    },
    "papermill": {
     "duration": 0.402952,
     "end_time": "2024-10-30T04:11:08.578170",
     "exception": false,
     "start_time": "2024-10-30T04:11:08.175218",
     "status": "completed"
    },
    "tags": []
   },
   "outputs": [],
   "source": [
    "# Imports\n",
    "import os\n",
    "from IPython.display import Markdown, display\n",
    "from tqdm.notebook import tqdm\n",
    "import warnings\n",
    "from PIL import Image \n",
    "import re\n",
    "\n",
    "# requires arxiv_on_deck_2\n",
    "\n",
    "from arxiv_on_deck_2.arxiv2 import (get_new_papers, \n",
    "                                    get_paper_from_identifier,\n",
    "                                    retrieve_document_source, \n",
    "                                    get_markdown_badge)\n",
    "from arxiv_on_deck_2 import (latex,\n",
    "                             latex_bib,\n",
    "                             mpia,\n",
    "                             highlight_authors_in_list)\n",
    "\n",
    "# Sometimes images are really big\n",
    "Image.MAX_IMAGE_PIXELS = 1000000000 "
   ]
  },
  {
   "cell_type": "code",
   "execution_count": 2,
   "id": "22aa9d44",
   "metadata": {
    "execution": {
     "iopub.execute_input": "2024-10-30T04:11:08.585617Z",
     "iopub.status.busy": "2024-10-30T04:11:08.585213Z",
     "iopub.status.idle": "2024-10-30T04:11:08.593172Z",
     "shell.execute_reply": "2024-10-30T04:11:08.592657Z"
    },
    "papermill": {
     "duration": 0.012771,
     "end_time": "2024-10-30T04:11:08.594212",
     "exception": false,
     "start_time": "2024-10-30T04:11:08.581441",
     "status": "completed"
    },
    "tags": []
   },
   "outputs": [],
   "source": [
    "# Some useful definitions.\n",
    "\n",
    "class AffiliationWarning(UserWarning):\n",
    "    pass\n",
    "\n",
    "class AffiliationError(RuntimeError):\n",
    "    pass\n",
    "\n",
    "def validation(source: str):\n",
    "    \"\"\"Raises error paper during parsing of source file\n",
    "    \n",
    "    Allows checks before parsing TeX code.\n",
    "    \n",
    "    Raises AffiliationWarning\n",
    "    \"\"\"\n",
    "    check = mpia.affiliation_verifications(source, verbose=True)\n",
    "    if check is not True:\n",
    "        raise AffiliationError(\"mpia.affiliation_verifications: \" + check)\n",
    "\n",
    "        \n",
    "warnings.simplefilter('always', AffiliationWarning)\n",
    "\n",
    "\n",
    "def get_markdown_qrcode(paper_id: str):\n",
    "    \"\"\" Generate a qrcode to the arxiv page using qrserver.com\n",
    "    \n",
    "    :param paper: Arxiv paper\n",
    "    :returns: markdown text\n",
    "    \"\"\"\n",
    "    url = r\"https://api.qrserver.com/v1/create-qr-code/?size=100x100&data=\"\n",
    "    txt = f\"\"\"<img src={url}\"https://arxiv.org/abs/{paper_id}\">\"\"\"\n",
    "    txt = '<div id=\"qrcode\">' + txt + '</div>'\n",
    "    return txt\n",
    "\n",
    "\n",
    "def clean_non_western_encoded_characters_commands(text: str) -> str:\n",
    "    \"\"\" Remove non-western encoded characters from a string\n",
    "    List may need to grow.\n",
    "    \n",
    "    :param text: the text to clean\n",
    "    :return: the cleaned text\n",
    "    \"\"\"\n",
    "    text = re.sub(r\"(\\\\begin{CJK}{UTF8}{gbsn})(.*?)(\\\\end{CJK})\", r\"\\2\", text)\n",
    "    return text\n",
    "\n",
    "\n",
    "def get_initials(name: str) -> str:\n",
    "    \"\"\" Get the short name, e.g., A.-B. FamName\n",
    "    :param name: full name\n",
    "    :returns: initials\n",
    "    \"\"\"\n",
    "    initials = []\n",
    "    # account for non western names often in ()\n",
    "    if '(' in name:\n",
    "        name = clean_non_western_encoded_characters_commands(name)\n",
    "        suffix = re.findall(r\"\\((.*?)\\)\", name)[0]\n",
    "        name = name.replace(f\"({suffix})\", '')\n",
    "    else:\n",
    "        suffix = ''\n",
    "    split = name.split()\n",
    "    for token in split[:-1]:\n",
    "        if '-' in token:\n",
    "            current = '-'.join([k[0] + '.' for k in token.split('-')])\n",
    "        else:\n",
    "            current = token[0] + '.'\n",
    "        initials.append(current)\n",
    "    initials.append(split[-1].strip())\n",
    "    if suffix:\n",
    "        initials.append(f\"({suffix})\")\n",
    "    return ' '.join(initials)"
   ]
  },
  {
   "cell_type": "markdown",
   "id": "14bd6310",
   "metadata": {
    "papermill": {
     "duration": 0.002938,
     "end_time": "2024-10-30T04:11:08.600124",
     "exception": false,
     "start_time": "2024-10-30T04:11:08.597186",
     "status": "completed"
    },
    "tags": []
   },
   "source": [
    "## get list of arxiv paper candidates\n",
    "\n",
    "We use the MPIA mitarbeiter list webpage from mpia.de to get author names\n",
    "We then get all new papers from Arxiv and match authors"
   ]
  },
  {
   "cell_type": "code",
   "execution_count": 3,
   "id": "7ea813a8",
   "metadata": {
    "execution": {
     "iopub.execute_input": "2024-10-30T04:11:08.606951Z",
     "iopub.status.busy": "2024-10-30T04:11:08.606575Z",
     "iopub.status.idle": "2024-10-30T04:11:25.621136Z",
     "shell.execute_reply": "2024-10-30T04:11:25.620445Z"
    },
    "papermill": {
     "duration": 17.0195,
     "end_time": "2024-10-30T04:11:25.622568",
     "exception": false,
     "start_time": "2024-10-30T04:11:08.603068",
     "status": "completed"
    },
    "tags": []
   },
   "outputs": [],
   "source": [
    "# deal with the author list and edge cases of people that cannot be consistent on their name  \n",
    "\n",
    "def filter_non_scientists(name: str) -> bool:\n",
    "    \"\"\" Loose filter on expected authorships\n",
    "\n",
    "    removing IT, administration, technical staff\n",
    "    :param name: name\n",
    "    :returns: False if name is not a scientist\n",
    "    \"\"\"\n",
    "    remove_list = ['Licht', 'Binroth', 'Witzel', 'Jordan',\n",
    "                   'Zähringer', 'Scheerer', 'Hoffmann', 'Düe',\n",
    "                   'Hellmich', 'Enkler-Scharpegge', 'Witte-Nguy',\n",
    "                   'Dehen', 'Beckmann', 'Jager', 'Jäger'\n",
    "                  ]\n",
    "\n",
    "    for k in remove_list:\n",
    "        if k in name:\n",
    "            return False\n",
    "    return True\n",
    "\n",
    "def add_author_to_list(author_list: list) -> list:\n",
    "    \"\"\" Add author to list if not already in list\n",
    "    \n",
    "    :param author: author name\n",
    "    :param author_list: list of authors\n",
    "    :returns: updated list of authors\n",
    "    \"\"\"\n",
    "    add_list = ['T. Henning']\n",
    "\n",
    "    for author in add_list:\n",
    "        if author not in author_list:\n",
    "            author_list.append(author)\n",
    "    return author_list\n",
    "\n",
    "# get list from MPIA website\n",
    "# filter for non-scientists (mpia.get_mpia_mitarbeiter_list() does some filtering)\n",
    "mpia_authors = [k[1] for k in mpia.get_mpia_mitarbeiter_list() if filter_non_scientists(k[1])]\n",
    "# add some missing author because of inconsistencies in their MPIA name and author name on papers\n",
    "mpia_authors = add_author_to_list(mpia_authors)"
   ]
  },
  {
   "cell_type": "code",
   "execution_count": 4,
   "id": "2645e73a",
   "metadata": {
    "execution": {
     "iopub.execute_input": "2024-10-30T04:11:25.630015Z",
     "iopub.status.busy": "2024-10-30T04:11:25.629763Z",
     "iopub.status.idle": "2024-10-30T04:11:26.434756Z",
     "shell.execute_reply": "2024-10-30T04:11:26.434123Z"
    },
    "papermill": {
     "duration": 0.809815,
     "end_time": "2024-10-30T04:11:26.435722",
     "exception": false,
     "start_time": "2024-10-30T04:11:25.625907",
     "status": "completed"
    },
    "tags": []
   },
   "outputs": [
    {
     "name": "stdout",
     "output_type": "stream",
     "text": [
      "P. Mollière  ->  P. Mollière  |  ['P. Mollière']\n",
      "M. Prunier  ->  M. Prunier  |  ['M. Prunier']\n",
      "A. Pillepich  ->  A. Pillepich  |  ['A. Pillepich']\n",
      "E. Schinnerer  ->  E. Schinnerer  |  ['E. Schinnerer']\n",
      "S. Stuber  ->  S. Stuber  |  ['S. Stuber']\n",
      "J. Li  ->  J. Li  |  ['J. Li']\n"
     ]
    },
    {
     "name": "stdout",
     "output_type": "stream",
     "text": [
      "T. Cantat-Gaudin  ->  T. Cantat-Gaudin  |  ['T. Cantat-Gaudin']\n",
      "M. Fouesneau  ->  M. Fouesneau  |  ['M. Fouesneau']\n",
      "H.-W. Rix  ->  H.-W. Rix  |  ['H.-W. Rix']\n",
      "T. Cantat-Gaudin  ->  T. Cantat-Gaudin  |  ['T. Cantat-Gaudin']\n",
      "M. Fouesneau  ->  M. Fouesneau  |  ['M. Fouesneau']\n",
      "H.-W. Rix  ->  H.-W. Rix  |  ['H.-W. Rix']\n",
      "Arxiv has 92 new papers today\n",
      "          6 with possible author matches\n"
     ]
    }
   ],
   "source": [
    "new_papers = get_new_papers()\n",
    "# add manual references\n",
    "add_paper_refs = []\n",
    "new_papers.extend([get_paper_from_identifier(k) for k in add_paper_refs])\n",
    "\n",
    "def robust_call(fn, value, *args, **kwargs):\n",
    "    try:\n",
    "        return fn(value, *args, **kwargs)\n",
    "    except Exception:\n",
    "        return value\n",
    "\n",
    "candidates = []\n",
    "for paperk in new_papers:\n",
    "    # Check author list with their initials\n",
    "    normed_author_list = [robust_call(mpia.get_initials, k) for k in paperk['authors']]\n",
    "    hl_authors = highlight_authors_in_list(normed_author_list, mpia_authors, verbose=True)\n",
    "    matches = [(hl, orig) for hl, orig in zip(hl_authors, paperk['authors']) if 'mark' in hl]\n",
    "    paperk['authors'] = hl_authors\n",
    "    if matches:\n",
    "        # only select paper if an author matched our list\n",
    "        candidates.append(paperk)\n",
    "print(\"\"\"Arxiv has {0:,d} new papers today\"\"\".format(len(new_papers)))        \n",
    "print(\"\"\"          {0:,d} with possible author matches\"\"\".format(len(candidates)))"
   ]
  },
  {
   "cell_type": "markdown",
   "id": "3543b34a",
   "metadata": {
    "papermill": {
     "duration": 0.003282,
     "end_time": "2024-10-30T04:11:26.442535",
     "exception": false,
     "start_time": "2024-10-30T04:11:26.439253",
     "status": "completed"
    },
    "tags": []
   },
   "source": [
    "# Parse sources and generate relevant outputs\n",
    "\n",
    "From the candidates, we do the following steps:\n",
    "* get their tarball from ArXiv (and extract data)\n",
    "* find the main .tex file: find one with \\documentclass{...} (sometimes it's non trivial)\n",
    "* Check affiliations with :func:`validation`, which uses :func:`mpia.affiliation_verifications`\n",
    "* If passing the affiliations: we parse the .tex source\n",
    "   * inject sub-documents into the main (flatten the main document)\n",
    "   * parse structure, extract information (title, abstract, authors, figures...)\n",
    "   * handles `\\graphicspath` if provided\n",
    "* Generate the .md document."
   ]
  },
  {
   "cell_type": "code",
   "execution_count": 5,
   "id": "9576b79e",
   "metadata": {
    "execution": {
     "iopub.execute_input": "2024-10-30T04:11:26.449991Z",
     "iopub.status.busy": "2024-10-30T04:11:26.449386Z",
     "iopub.status.idle": "2024-10-30T04:14:38.186400Z",
     "shell.execute_reply": "2024-10-30T04:14:38.185681Z"
    },
    "papermill": {
     "duration": 191.74654,
     "end_time": "2024-10-30T04:14:38.192223",
     "exception": false,
     "start_time": "2024-10-30T04:11:26.445683",
     "status": "completed"
    },
    "scrolled": false,
    "tags": []
   },
   "outputs": [
    {
     "data": {
      "application/vnd.jupyter.widget-view+json": {
       "model_id": "4fe4a94b844641fb8a6ec5fdff2ab255",
       "version_major": 2,
       "version_minor": 0
      },
      "text/plain": [
       "  0%|          | 0/6 [00:00<?, ?it/s]"
      ]
     },
     "metadata": {},
     "output_type": "display_data"
    },
    {
     "name": "stdout",
     "output_type": "stream",
     "text": [
      "Retrieving document from  https://arxiv.org/e-print/2410.21364\n"
     ]
    },
    {
     "name": "stdout",
     "output_type": "stream",
     "text": [
      "extracting tarball to tmp_2410.21364... done.\n",
      "Retrieving document from  https://arxiv.org/e-print/2410.21366\n",
      "extracting tarball to tmp_2410.21366..."
     ]
    },
    {
     "name": "stdout",
     "output_type": "stream",
     "text": [
      " done.\n"
     ]
    },
    {
     "name": "stderr",
     "output_type": "stream",
     "text": [
      "/opt/hostedtoolcache/Python/3.9.20/x64/lib/python3.9/site-packages/arxiv_on_deck_2/latex.py:132: LatexWarning: attempting recovering figure figures/A1_Atlas_Of_cavities_v4.pdf\n",
      "  warnings.warn(LatexWarning(f'attempting recovering figure {image}'))\n",
      "/opt/hostedtoolcache/Python/3.9.20/x64/lib/python3.9/site-packages/arxiv_on_deck_2/latex.py:707: LatexWarning: Could not find graphic \\includegraphics[trim=9cm 8cm 0cm 10cm, clip, width=\\paperwidth]{figures/A1_Atlas_Of_cavities_v4.pdf}\n",
      "  warnings.warn(LatexWarning(f\"Could not find graphic {k}\"))\n",
      "/opt/hostedtoolcache/Python/3.9.20/x64/lib/python3.9/site-packages/arxiv_on_deck_2/latex.py:132: LatexWarning: attempting recovering figure figures/A1_Hist_Fract_cavities.pdf\n",
      "  warnings.warn(LatexWarning(f'attempting recovering figure {image}'))\n",
      "/opt/hostedtoolcache/Python/3.9.20/x64/lib/python3.9/site-packages/arxiv_on_deck_2/latex.py:707: LatexWarning: Could not find graphic \\includegraphics[width=\\textwidth]{figures/A1_Hist_Fract_cavities.pdf}\n",
      "  warnings.warn(LatexWarning(f\"Could not find graphic {k}\"))\n",
      "/opt/hostedtoolcache/Python/3.9.20/x64/lib/python3.9/site-packages/arxiv_on_deck_2/latex.py:132: LatexWarning: attempting recovering figure figures/A1_Pie_Fract_cavities_v2\n",
      "  warnings.warn(LatexWarning(f'attempting recovering figure {image}'))\n",
      "/opt/hostedtoolcache/Python/3.9.20/x64/lib/python3.9/site-packages/arxiv_on_deck_2/latex.py:707: LatexWarning: Could not find graphic \\includegraphics[width=1.2\\linewidth, height=1.2\\linewidth]{figures/A1_Pie_Fract_cavities_v2}\n",
      "  warnings.warn(LatexWarning(f\"Could not find graphic {k}\"))\n",
      "/opt/hostedtoolcache/Python/3.9.20/x64/lib/python3.9/site-packages/arxiv_on_deck_2/latex.py:132: LatexWarning: attempting recovering figure figures/A1_Hist_Fract_CC_cavities.pdf\n",
      "  warnings.warn(LatexWarning(f'attempting recovering figure {image}'))\n",
      "/opt/hostedtoolcache/Python/3.9.20/x64/lib/python3.9/site-packages/arxiv_on_deck_2/latex.py:707: LatexWarning: Could not find graphic \\includegraphics[width=\\textwidth]{figures/A1_Hist_Fract_CC_cavities.pdf}\n",
      "  warnings.warn(LatexWarning(f\"Could not find graphic {k}\"))\n"
     ]
    },
    {
     "name": "stderr",
     "output_type": "stream",
     "text": [
      "/opt/hostedtoolcache/Python/3.9.20/x64/lib/python3.9/site-packages/arxiv_on_deck_2/latex.py:132: LatexWarning: attempting recovering figure figures/A1_2008_mdot_mgrowth.pdf\n",
      "\n",
      "  warnings.warn(LatexWarning(f'attempting recovering figure {image}'))\n",
      "/opt/hostedtoolcache/Python/3.9.20/x64/lib/python3.9/site-packages/arxiv_on_deck_2/latex.py:707: LatexWarning: Could not find graphic \\includegraphics[width=\\textwidth]{figures/A1_2008_mdot_mgrowth.pdf\n",
      "}\n",
      "  warnings.warn(LatexWarning(f\"Could not find graphic {k}\"))\n"
     ]
    },
    {
     "name": "stdout",
     "output_type": "stream",
     "text": [
      "Found 117 bibliographic references in tmp_2410.21366/Main_XCavTNG-Cluster.bbl.\n",
      "Retrieving document from  https://arxiv.org/e-print/2410.21399\n",
      "extracting tarball to tmp_2410.21399..."
     ]
    },
    {
     "name": "stdout",
     "output_type": "stream",
     "text": [
      " done.\n"
     ]
    },
    {
     "name": "stdout",
     "output_type": "stream",
     "text": [
      "E. Schinnerer  ->  E. Schinnerer  |  ['E. Schinnerer']\n",
      "S. Stuber  ->  S. Stuber  |  ['S. Stuber']\n"
     ]
    },
    {
     "name": "stdout",
     "output_type": "stream",
     "text": [
      "Found 110 bibliographic references in tmp_2410.21399/main.bbl.\n",
      "Retrieving document from  https://arxiv.org/e-print/2410.21617\n"
     ]
    },
    {
     "name": "stdout",
     "output_type": "stream",
     "text": [
      "extracting tarball to tmp_2410.21617..."
     ]
    },
    {
     "name": "stdout",
     "output_type": "stream",
     "text": [
      " done.\n",
      "Retrieving document from  https://arxiv.org/e-print/2410.22036\n"
     ]
    },
    {
     "name": "stderr",
     "output_type": "stream",
     "text": [
      "/opt/hostedtoolcache/Python/3.9.20/x64/lib/python3.9/site-packages/arxiv_on_deck_2/latex.py:414: LatexWarning: Latex injecting: 'ep240408_v4.bbl' from 'tmp_2410.21617/ep240408_v4.tex'\n",
      "  warnings.warn(LatexWarning(f\"Latex injecting: '{ext}' from '{subsource}'\"))\n"
     ]
    },
    {
     "name": "stdout",
     "output_type": "stream",
     "text": [
      "extracting tarball to tmp_2410.22036..."
     ]
    },
    {
     "name": "stdout",
     "output_type": "stream",
     "text": [
      " done.\n"
     ]
    },
    {
     "name": "stdout",
     "output_type": "stream",
     "text": [
      "T. Cantat-Gaudin  ->  T. Cantat-Gaudin  |  ['T. Cantat-Gaudin']\n",
      "M. Fouesneau  ->  M. Fouesneau  |  ['M. Fouesneau']\n",
      "H.-W. Rix  ->  H.-W. Rix  |  ['H.-W. Rix']\n"
     ]
    },
    {
     "name": "stdout",
     "output_type": "stream",
     "text": [
      "Found 112 bibliographic references in tmp_2410.22036/paper.bbl.\n",
      "Issues with the citations\n",
      "syntax error in line 102: '=' expected\n",
      "Retrieving document from  https://arxiv.org/e-print/2410.22250\n"
     ]
    },
    {
     "name": "stdout",
     "output_type": "stream",
     "text": [
      "extracting tarball to tmp_2410.22250..."
     ]
    },
    {
     "name": "stdout",
     "output_type": "stream",
     "text": [
      " done.\n"
     ]
    },
    {
     "name": "stderr",
     "output_type": "stream",
     "text": [
      "/opt/hostedtoolcache/Python/3.9.20/x64/lib/python3.9/site-packages/arxiv_on_deck_2/latex.py:132: LatexWarning: attempting recovering figure model-convergence\n",
      "  warnings.warn(LatexWarning(f'attempting recovering figure {image}'))\n",
      "/opt/hostedtoolcache/Python/3.9.20/x64/lib/python3.9/site-packages/arxiv_on_deck_2/latex.py:137: LatexWarning: Recovered figure model-convergence as tmp_2410.22250/fig/model-convergence.pdf\n",
      "  warnings.warn(LatexWarning(f'Recovered figure {image} as {fname}'))\n",
      "/opt/hostedtoolcache/Python/3.9.20/x64/lib/python3.9/site-packages/arxiv_on_deck_2/latex.py:132: LatexWarning: attempting recovering figure model-sharp-nogse-summary\n",
      "  warnings.warn(LatexWarning(f'attempting recovering figure {image}'))\n",
      "/opt/hostedtoolcache/Python/3.9.20/x64/lib/python3.9/site-packages/arxiv_on_deck_2/latex.py:137: LatexWarning: Recovered figure model-sharp-nogse-summary as tmp_2410.22250/fig/model-sharp-nogse-summary.pdf\n",
      "  warnings.warn(LatexWarning(f'Recovered figure {image} as {fname}'))\n"
     ]
    },
    {
     "name": "stderr",
     "output_type": "stream",
     "text": [
      "/opt/hostedtoolcache/Python/3.9.20/x64/lib/python3.9/site-packages/arxiv_on_deck_2/latex.py:132: LatexWarning: attempting recovering figure model-radial-horta-flat-sc-0\n",
      "  warnings.warn(LatexWarning(f'attempting recovering figure {image}'))\n",
      "/opt/hostedtoolcache/Python/3.9.20/x64/lib/python3.9/site-packages/arxiv_on_deck_2/latex.py:137: LatexWarning: Recovered figure model-radial-horta-flat-sc-0 as tmp_2410.22250/fig/model-radial-horta-flat-sc-0.pdf\n",
      "  warnings.warn(LatexWarning(f'Recovered figure {image} as {fname}'))\n",
      "/opt/hostedtoolcache/Python/3.9.20/x64/lib/python3.9/site-packages/arxiv_on_deck_2/latex.py:132: LatexWarning: attempting recovering figure model-radial-sharp-nogse-0\n",
      "  warnings.warn(LatexWarning(f'attempting recovering figure {image}'))\n",
      "/opt/hostedtoolcache/Python/3.9.20/x64/lib/python3.9/site-packages/arxiv_on_deck_2/latex.py:137: LatexWarning: Recovered figure model-radial-sharp-nogse-0 as tmp_2410.22250/fig/model-radial-sharp-nogse-0.pdf\n",
      "  warnings.warn(LatexWarning(f'Recovered figure {image} as {fname}'))\n"
     ]
    },
    {
     "name": "stderr",
     "output_type": "stream",
     "text": [
      "/opt/hostedtoolcache/Python/3.9.20/x64/lib/python3.9/site-packages/arxiv_on_deck_2/latex.py:132: LatexWarning: attempting recovering figure model-loglikes\n",
      "  warnings.warn(LatexWarning(f'attempting recovering figure {image}'))\n",
      "/opt/hostedtoolcache/Python/3.9.20/x64/lib/python3.9/site-packages/arxiv_on_deck_2/latex.py:137: LatexWarning: Recovered figure model-loglikes as tmp_2410.22250/fig/model-loglikes.pdf\n",
      "  warnings.warn(LatexWarning(f'Recovered figure {image} as {fname}'))\n",
      "/opt/hostedtoolcache/Python/3.9.20/x64/lib/python3.9/site-packages/arxiv_on_deck_2/latex.py:132: LatexWarning: attempting recovering figure model-flat-sc-summary\n",
      "  warnings.warn(LatexWarning(f'attempting recovering figure {image}'))\n",
      "/opt/hostedtoolcache/Python/3.9.20/x64/lib/python3.9/site-packages/arxiv_on_deck_2/latex.py:137: LatexWarning: Recovered figure model-flat-sc-summary as tmp_2410.22250/fig/model-flat-sc-summary.pdf\n",
      "  warnings.warn(LatexWarning(f'Recovered figure {image} as {fname}'))\n"
     ]
    },
    {
     "name": "stderr",
     "output_type": "stream",
     "text": [
      "/opt/hostedtoolcache/Python/3.9.20/x64/lib/python3.9/site-packages/arxiv_on_deck_2/latex.py:132: LatexWarning: attempting recovering figure model-radial-flat-sc-0\n",
      "  warnings.warn(LatexWarning(f'attempting recovering figure {image}'))\n",
      "/opt/hostedtoolcache/Python/3.9.20/x64/lib/python3.9/site-packages/arxiv_on_deck_2/latex.py:137: LatexWarning: Recovered figure model-radial-flat-sc-0 as tmp_2410.22250/fig/model-radial-flat-sc-0.pdf\n",
      "  warnings.warn(LatexWarning(f'Recovered figure {image} as {fname}'))\n",
      "/opt/hostedtoolcache/Python/3.9.20/x64/lib/python3.9/site-packages/arxiv_on_deck_2/latex.py:132: LatexWarning: attempting recovering figure model-radial-aurora-flat-sc\n",
      "  warnings.warn(LatexWarning(f'attempting recovering figure {image}'))\n",
      "/opt/hostedtoolcache/Python/3.9.20/x64/lib/python3.9/site-packages/arxiv_on_deck_2/latex.py:137: LatexWarning: Recovered figure model-radial-aurora-flat-sc as tmp_2410.22250/fig/model-radial-aurora-flat-sc.pdf\n",
      "  warnings.warn(LatexWarning(f'Recovered figure {image} as {fname}'))\n"
     ]
    },
    {
     "name": "stderr",
     "output_type": "stream",
     "text": [
      "/opt/hostedtoolcache/Python/3.9.20/x64/lib/python3.9/site-packages/arxiv_on_deck_2/latex.py:132: LatexWarning: attempting recovering figure rho_au_slope_comp\n",
      "  warnings.warn(LatexWarning(f'attempting recovering figure {image}'))\n",
      "/opt/hostedtoolcache/Python/3.9.20/x64/lib/python3.9/site-packages/arxiv_on_deck_2/latex.py:137: LatexWarning: Recovered figure rho_au_slope_comp as tmp_2410.22250/fig/rho_au_slope_comp.pdf\n",
      "  warnings.warn(LatexWarning(f'Recovered figure {image} as {fname}'))\n"
     ]
    },
    {
     "name": "stderr",
     "output_type": "stream",
     "text": [
      "/opt/hostedtoolcache/Python/3.9.20/x64/lib/python3.9/site-packages/arxiv_on_deck_2/latex.py:132: LatexWarning: attempting recovering figure model-plx-conv-ker\n",
      "  warnings.warn(LatexWarning(f'attempting recovering figure {image}'))\n",
      "/opt/hostedtoolcache/Python/3.9.20/x64/lib/python3.9/site-packages/arxiv_on_deck_2/latex.py:137: LatexWarning: Recovered figure model-plx-conv-ker as tmp_2410.22250/fig/model-plx-conv-ker.pdf\n",
      "  warnings.warn(LatexWarning(f'Recovered figure {image} as {fname}'))\n",
      "/opt/hostedtoolcache/Python/3.9.20/x64/lib/python3.9/site-packages/arxiv_on_deck_2/latex.py:132: LatexWarning: attempting recovering figure data-plxerr-sky\n",
      "  warnings.warn(LatexWarning(f'attempting recovering figure {image}'))\n",
      "/opt/hostedtoolcache/Python/3.9.20/x64/lib/python3.9/site-packages/arxiv_on_deck_2/latex.py:137: LatexWarning: Recovered figure data-plxerr-sky as tmp_2410.22250/fig/data-plxerr-sky.pdf\n",
      "  warnings.warn(LatexWarning(f'Recovered figure {image} as {fname}'))\n"
     ]
    },
    {
     "name": "stderr",
     "output_type": "stream",
     "text": [
      "/opt/hostedtoolcache/Python/3.9.20/x64/lib/python3.9/site-packages/arxiv_on_deck_2/latex.py:132: LatexWarning: attempting recovering figure data-sfxp-sky\n",
      "  warnings.warn(LatexWarning(f'attempting recovering figure {image}'))\n",
      "/opt/hostedtoolcache/Python/3.9.20/x64/lib/python3.9/site-packages/arxiv_on_deck_2/latex.py:137: LatexWarning: Recovered figure data-sfxp-sky as tmp_2410.22250/fig/data-sfxp-sky.pdf\n",
      "  warnings.warn(LatexWarning(f'Recovered figure {image} as {fname}'))\n"
     ]
    },
    {
     "name": "stderr",
     "output_type": "stream",
     "text": [
      "/opt/hostedtoolcache/Python/3.9.20/x64/lib/python3.9/site-packages/arxiv_on_deck_2/latex.py:132: LatexWarning: attempting recovering figure data-sfxp\n",
      "  warnings.warn(LatexWarning(f'attempting recovering figure {image}'))\n",
      "/opt/hostedtoolcache/Python/3.9.20/x64/lib/python3.9/site-packages/arxiv_on_deck_2/latex.py:137: LatexWarning: Recovered figure data-sfxp as tmp_2410.22250/fig/data-sfxp.pdf\n",
      "  warnings.warn(LatexWarning(f'Recovered figure {image} as {fname}'))\n",
      "/opt/hostedtoolcache/Python/3.9.20/x64/lib/python3.9/site-packages/arxiv_on_deck_2/latex.py:132: LatexWarning: attempting recovering figure data-kinem-all\n",
      "  warnings.warn(LatexWarning(f'attempting recovering figure {image}'))\n",
      "/opt/hostedtoolcache/Python/3.9.20/x64/lib/python3.9/site-packages/arxiv_on_deck_2/latex.py:137: LatexWarning: Recovered figure data-kinem-all as tmp_2410.22250/fig/data-kinem-all.pdf\n",
      "  warnings.warn(LatexWarning(f'Recovered figure {image} as {fname}'))\n"
     ]
    },
    {
     "name": "stderr",
     "output_type": "stream",
     "text": [
      "/opt/hostedtoolcache/Python/3.9.20/x64/lib/python3.9/site-packages/arxiv_on_deck_2/latex.py:132: LatexWarning: attempting recovering figure data-magnitudes\n",
      "  warnings.warn(LatexWarning(f'attempting recovering figure {image}'))\n",
      "/opt/hostedtoolcache/Python/3.9.20/x64/lib/python3.9/site-packages/arxiv_on_deck_2/latex.py:137: LatexWarning: Recovered figure data-magnitudes as tmp_2410.22250/fig/data-magnitudes.pdf\n",
      "  warnings.warn(LatexWarning(f'Recovered figure {image} as {fname}'))\n"
     ]
    },
    {
     "name": "stderr",
     "output_type": "stream",
     "text": [
      "/opt/hostedtoolcache/Python/3.9.20/x64/lib/python3.9/site-packages/arxiv_on_deck_2/latex.py:132: LatexWarning: attempting recovering figure NGC_6397\n",
      "  warnings.warn(LatexWarning(f'attempting recovering figure {image}'))\n",
      "/opt/hostedtoolcache/Python/3.9.20/x64/lib/python3.9/site-packages/arxiv_on_deck_2/latex.py:137: LatexWarning: Recovered figure NGC_6397 as tmp_2410.22250/fig/NGC_6397.pdf\n",
      "  warnings.warn(LatexWarning(f'Recovered figure {image} as {fname}'))\n"
     ]
    },
    {
     "name": "stderr",
     "output_type": "stream",
     "text": [
      "/opt/hostedtoolcache/Python/3.9.20/x64/lib/python3.9/site-packages/arxiv_on_deck_2/latex.py:132: LatexWarning: attempting recovering figure data-obs-sky\n",
      "  warnings.warn(LatexWarning(f'attempting recovering figure {image}'))\n",
      "/opt/hostedtoolcache/Python/3.9.20/x64/lib/python3.9/site-packages/arxiv_on_deck_2/latex.py:137: LatexWarning: Recovered figure data-obs-sky as tmp_2410.22250/fig/data-obs-sky.pdf\n",
      "  warnings.warn(LatexWarning(f'Recovered figure {image} as {fname}'))\n"
     ]
    },
    {
     "name": "stderr",
     "output_type": "stream",
     "text": [
      "/opt/hostedtoolcache/Python/3.9.20/x64/lib/python3.9/site-packages/arxiv_on_deck_2/latex.py:132: LatexWarning: attempting recovering figure model-cuts-widemh\n",
      "  warnings.warn(LatexWarning(f'attempting recovering figure {image}'))\n",
      "/opt/hostedtoolcache/Python/3.9.20/x64/lib/python3.9/site-packages/arxiv_on_deck_2/latex.py:137: LatexWarning: Recovered figure model-cuts-widemh as tmp_2410.22250/fig/model-cuts-widemh.pdf\n",
      "  warnings.warn(LatexWarning(f'Recovered figure {image} as {fname}'))\n"
     ]
    },
    {
     "name": "stderr",
     "output_type": "stream",
     "text": [
      "/opt/hostedtoolcache/Python/3.9.20/x64/lib/python3.9/site-packages/arxiv_on_deck_2/latex.py:132: LatexWarning: attempting recovering figure model-proj-widemh\n",
      "  warnings.warn(LatexWarning(f'attempting recovering figure {image}'))\n",
      "/opt/hostedtoolcache/Python/3.9.20/x64/lib/python3.9/site-packages/arxiv_on_deck_2/latex.py:137: LatexWarning: Recovered figure model-proj-widemh as tmp_2410.22250/fig/model-proj-widemh.pdf\n",
      "  warnings.warn(LatexWarning(f'Recovered figure {image} as {fname}'))\n"
     ]
    },
    {
     "name": "stderr",
     "output_type": "stream",
     "text": [
      "/opt/hostedtoolcache/Python/3.9.20/x64/lib/python3.9/site-packages/arxiv_on_deck_2/latex.py:132: LatexWarning: attempting recovering figure data-plxerr\n",
      "  warnings.warn(LatexWarning(f'attempting recovering figure {image}'))\n",
      "/opt/hostedtoolcache/Python/3.9.20/x64/lib/python3.9/site-packages/arxiv_on_deck_2/latex.py:137: LatexWarning: Recovered figure data-plxerr as tmp_2410.22250/fig/data-plxerr.png\n",
      "  warnings.warn(LatexWarning(f'Recovered figure {image} as {fname}'))\n",
      "/opt/hostedtoolcache/Python/3.9.20/x64/lib/python3.9/site-packages/arxiv_on_deck_2/latex.py:132: LatexWarning: attempting recovering figure model-radial-sharp-nogse-1\n",
      "  warnings.warn(LatexWarning(f'attempting recovering figure {image}'))\n",
      "/opt/hostedtoolcache/Python/3.9.20/x64/lib/python3.9/site-packages/arxiv_on_deck_2/latex.py:137: LatexWarning: Recovered figure model-radial-sharp-nogse-1 as tmp_2410.22250/fig/model-radial-sharp-nogse-1.pdf\n",
      "  warnings.warn(LatexWarning(f'Recovered figure {image} as {fname}'))\n",
      "/opt/hostedtoolcache/Python/3.9.20/x64/lib/python3.9/site-packages/arxiv_on_deck_2/latex.py:132: LatexWarning: attempting recovering figure model-radial-sharp-nogse-2\n",
      "  warnings.warn(LatexWarning(f'attempting recovering figure {image}'))\n",
      "/opt/hostedtoolcache/Python/3.9.20/x64/lib/python3.9/site-packages/arxiv_on_deck_2/latex.py:137: LatexWarning: Recovered figure model-radial-sharp-nogse-2 as tmp_2410.22250/fig/model-radial-sharp-nogse-2.pdf\n",
      "  warnings.warn(LatexWarning(f'Recovered figure {image} as {fname}'))\n",
      "/opt/hostedtoolcache/Python/3.9.20/x64/lib/python3.9/site-packages/arxiv_on_deck_2/latex.py:132: LatexWarning: attempting recovering figure model-radial-sharp-nogse-3\n",
      "  warnings.warn(LatexWarning(f'attempting recovering figure {image}'))\n",
      "/opt/hostedtoolcache/Python/3.9.20/x64/lib/python3.9/site-packages/arxiv_on_deck_2/latex.py:137: LatexWarning: Recovered figure model-radial-sharp-nogse-3 as tmp_2410.22250/fig/model-radial-sharp-nogse-3.pdf\n",
      "  warnings.warn(LatexWarning(f'Recovered figure {image} as {fname}'))\n",
      "/opt/hostedtoolcache/Python/3.9.20/x64/lib/python3.9/site-packages/arxiv_on_deck_2/latex.py:132: LatexWarning: attempting recovering figure model-radial-sharp-nogse-4\n",
      "  warnings.warn(LatexWarning(f'attempting recovering figure {image}'))\n",
      "/opt/hostedtoolcache/Python/3.9.20/x64/lib/python3.9/site-packages/arxiv_on_deck_2/latex.py:137: LatexWarning: Recovered figure model-radial-sharp-nogse-4 as tmp_2410.22250/fig/model-radial-sharp-nogse-4.pdf\n",
      "  warnings.warn(LatexWarning(f'Recovered figure {image} as {fname}'))\n"
     ]
    },
    {
     "name": "stderr",
     "output_type": "stream",
     "text": [
      "/opt/hostedtoolcache/Python/3.9.20/x64/lib/python3.9/site-packages/arxiv_on_deck_2/latex.py:132: LatexWarning: attempting recovering figure model-radial-flat-sc-1\n",
      "  warnings.warn(LatexWarning(f'attempting recovering figure {image}'))\n",
      "/opt/hostedtoolcache/Python/3.9.20/x64/lib/python3.9/site-packages/arxiv_on_deck_2/latex.py:137: LatexWarning: Recovered figure model-radial-flat-sc-1 as tmp_2410.22250/fig/model-radial-flat-sc-1.pdf\n",
      "  warnings.warn(LatexWarning(f'Recovered figure {image} as {fname}'))\n",
      "/opt/hostedtoolcache/Python/3.9.20/x64/lib/python3.9/site-packages/arxiv_on_deck_2/latex.py:132: LatexWarning: attempting recovering figure model-radial-flat-sc-2\n",
      "  warnings.warn(LatexWarning(f'attempting recovering figure {image}'))\n",
      "/opt/hostedtoolcache/Python/3.9.20/x64/lib/python3.9/site-packages/arxiv_on_deck_2/latex.py:137: LatexWarning: Recovered figure model-radial-flat-sc-2 as tmp_2410.22250/fig/model-radial-flat-sc-2.pdf\n",
      "  warnings.warn(LatexWarning(f'Recovered figure {image} as {fname}'))\n",
      "/opt/hostedtoolcache/Python/3.9.20/x64/lib/python3.9/site-packages/arxiv_on_deck_2/latex.py:132: LatexWarning: attempting recovering figure model-radial-flat-sc-3\n",
      "  warnings.warn(LatexWarning(f'attempting recovering figure {image}'))\n",
      "/opt/hostedtoolcache/Python/3.9.20/x64/lib/python3.9/site-packages/arxiv_on_deck_2/latex.py:137: LatexWarning: Recovered figure model-radial-flat-sc-3 as tmp_2410.22250/fig/model-radial-flat-sc-3.pdf\n",
      "  warnings.warn(LatexWarning(f'Recovered figure {image} as {fname}'))\n",
      "/opt/hostedtoolcache/Python/3.9.20/x64/lib/python3.9/site-packages/arxiv_on_deck_2/latex.py:132: LatexWarning: attempting recovering figure model-radial-flat-sc-4\n",
      "  warnings.warn(LatexWarning(f'attempting recovering figure {image}'))\n",
      "/opt/hostedtoolcache/Python/3.9.20/x64/lib/python3.9/site-packages/arxiv_on_deck_2/latex.py:137: LatexWarning: Recovered figure model-radial-flat-sc-4 as tmp_2410.22250/fig/model-radial-flat-sc-4.pdf\n",
      "  warnings.warn(LatexWarning(f'Recovered figure {image} as {fname}'))\n"
     ]
    },
    {
     "name": "stderr",
     "output_type": "stream",
     "text": [
      "/opt/hostedtoolcache/Python/3.9.20/x64/lib/python3.9/site-packages/arxiv_on_deck_2/latex.py:132: LatexWarning: attempting recovering figure model-flat-bpl-summary\n",
      "  warnings.warn(LatexWarning(f'attempting recovering figure {image}'))\n",
      "/opt/hostedtoolcache/Python/3.9.20/x64/lib/python3.9/site-packages/arxiv_on_deck_2/latex.py:137: LatexWarning: Recovered figure model-flat-bpl-summary as tmp_2410.22250/fig/model-flat-bpl-summary.pdf\n",
      "  warnings.warn(LatexWarning(f'Recovered figure {image} as {fname}'))\n",
      "/opt/hostedtoolcache/Python/3.9.20/x64/lib/python3.9/site-packages/arxiv_on_deck_2/latex.py:132: LatexWarning: attempting recovering figure model-radial-flat-bpl-0\n",
      "  warnings.warn(LatexWarning(f'attempting recovering figure {image}'))\n",
      "/opt/hostedtoolcache/Python/3.9.20/x64/lib/python3.9/site-packages/arxiv_on_deck_2/latex.py:137: LatexWarning: Recovered figure model-radial-flat-bpl-0 as tmp_2410.22250/fig/model-radial-flat-bpl-0.pdf\n",
      "  warnings.warn(LatexWarning(f'Recovered figure {image} as {fname}'))\n",
      "/opt/hostedtoolcache/Python/3.9.20/x64/lib/python3.9/site-packages/arxiv_on_deck_2/latex.py:132: LatexWarning: attempting recovering figure model-radial-flat-bpl-1\n",
      "  warnings.warn(LatexWarning(f'attempting recovering figure {image}'))\n",
      "/opt/hostedtoolcache/Python/3.9.20/x64/lib/python3.9/site-packages/arxiv_on_deck_2/latex.py:137: LatexWarning: Recovered figure model-radial-flat-bpl-1 as tmp_2410.22250/fig/model-radial-flat-bpl-1.pdf\n",
      "  warnings.warn(LatexWarning(f'Recovered figure {image} as {fname}'))\n",
      "/opt/hostedtoolcache/Python/3.9.20/x64/lib/python3.9/site-packages/arxiv_on_deck_2/latex.py:132: LatexWarning: attempting recovering figure model-radial-flat-bpl-2\n",
      "  warnings.warn(LatexWarning(f'attempting recovering figure {image}'))\n",
      "/opt/hostedtoolcache/Python/3.9.20/x64/lib/python3.9/site-packages/arxiv_on_deck_2/latex.py:137: LatexWarning: Recovered figure model-radial-flat-bpl-2 as tmp_2410.22250/fig/model-radial-flat-bpl-2.pdf\n",
      "  warnings.warn(LatexWarning(f'Recovered figure {image} as {fname}'))\n",
      "/opt/hostedtoolcache/Python/3.9.20/x64/lib/python3.9/site-packages/arxiv_on_deck_2/latex.py:132: LatexWarning: attempting recovering figure model-radial-flat-bpl-3\n",
      "  warnings.warn(LatexWarning(f'attempting recovering figure {image}'))\n",
      "/opt/hostedtoolcache/Python/3.9.20/x64/lib/python3.9/site-packages/arxiv_on_deck_2/latex.py:137: LatexWarning: Recovered figure model-radial-flat-bpl-3 as tmp_2410.22250/fig/model-radial-flat-bpl-3.pdf\n",
      "  warnings.warn(LatexWarning(f'Recovered figure {image} as {fname}'))\n",
      "/opt/hostedtoolcache/Python/3.9.20/x64/lib/python3.9/site-packages/arxiv_on_deck_2/latex.py:132: LatexWarning: attempting recovering figure model-radial-flat-bpl-4\n",
      "  warnings.warn(LatexWarning(f'attempting recovering figure {image}'))\n",
      "/opt/hostedtoolcache/Python/3.9.20/x64/lib/python3.9/site-packages/arxiv_on_deck_2/latex.py:137: LatexWarning: Recovered figure model-radial-flat-bpl-4 as tmp_2410.22250/fig/model-radial-flat-bpl-4.pdf\n",
      "  warnings.warn(LatexWarning(f'Recovered figure {image} as {fname}'))\n"
     ]
    },
    {
     "name": "stderr",
     "output_type": "stream",
     "text": [
      "/opt/hostedtoolcache/Python/3.9.20/x64/lib/python3.9/site-packages/arxiv_on_deck_2/latex.py:132: LatexWarning: attempting recovering figure model-flat-dbpld-summary\n",
      "  warnings.warn(LatexWarning(f'attempting recovering figure {image}'))\n",
      "/opt/hostedtoolcache/Python/3.9.20/x64/lib/python3.9/site-packages/arxiv_on_deck_2/latex.py:137: LatexWarning: Recovered figure model-flat-dbpld-summary as tmp_2410.22250/fig/model-flat-dbpld-summary.pdf\n",
      "  warnings.warn(LatexWarning(f'Recovered figure {image} as {fname}'))\n",
      "/opt/hostedtoolcache/Python/3.9.20/x64/lib/python3.9/site-packages/arxiv_on_deck_2/latex.py:132: LatexWarning: attempting recovering figure model-radial-flat-dbpld-0\n",
      "  warnings.warn(LatexWarning(f'attempting recovering figure {image}'))\n",
      "/opt/hostedtoolcache/Python/3.9.20/x64/lib/python3.9/site-packages/arxiv_on_deck_2/latex.py:137: LatexWarning: Recovered figure model-radial-flat-dbpld-0 as tmp_2410.22250/fig/model-radial-flat-dbpld-0.pdf\n",
      "  warnings.warn(LatexWarning(f'Recovered figure {image} as {fname}'))\n",
      "/opt/hostedtoolcache/Python/3.9.20/x64/lib/python3.9/site-packages/arxiv_on_deck_2/latex.py:132: LatexWarning: attempting recovering figure model-radial-flat-dbpld-1\n",
      "  warnings.warn(LatexWarning(f'attempting recovering figure {image}'))\n",
      "/opt/hostedtoolcache/Python/3.9.20/x64/lib/python3.9/site-packages/arxiv_on_deck_2/latex.py:137: LatexWarning: Recovered figure model-radial-flat-dbpld-1 as tmp_2410.22250/fig/model-radial-flat-dbpld-1.pdf\n",
      "  warnings.warn(LatexWarning(f'Recovered figure {image} as {fname}'))\n",
      "/opt/hostedtoolcache/Python/3.9.20/x64/lib/python3.9/site-packages/arxiv_on_deck_2/latex.py:132: LatexWarning: attempting recovering figure model-radial-flat-dbpld-2\n",
      "  warnings.warn(LatexWarning(f'attempting recovering figure {image}'))\n",
      "/opt/hostedtoolcache/Python/3.9.20/x64/lib/python3.9/site-packages/arxiv_on_deck_2/latex.py:137: LatexWarning: Recovered figure model-radial-flat-dbpld-2 as tmp_2410.22250/fig/model-radial-flat-dbpld-2.pdf\n",
      "  warnings.warn(LatexWarning(f'Recovered figure {image} as {fname}'))\n",
      "/opt/hostedtoolcache/Python/3.9.20/x64/lib/python3.9/site-packages/arxiv_on_deck_2/latex.py:132: LatexWarning: attempting recovering figure model-radial-flat-dbpld-3\n",
      "  warnings.warn(LatexWarning(f'attempting recovering figure {image}'))\n",
      "/opt/hostedtoolcache/Python/3.9.20/x64/lib/python3.9/site-packages/arxiv_on_deck_2/latex.py:137: LatexWarning: Recovered figure model-radial-flat-dbpld-3 as tmp_2410.22250/fig/model-radial-flat-dbpld-3.pdf\n",
      "  warnings.warn(LatexWarning(f'Recovered figure {image} as {fname}'))\n",
      "/opt/hostedtoolcache/Python/3.9.20/x64/lib/python3.9/site-packages/arxiv_on_deck_2/latex.py:132: LatexWarning: attempting recovering figure model-radial-flat-dbpld-4\n",
      "  warnings.warn(LatexWarning(f'attempting recovering figure {image}'))\n",
      "/opt/hostedtoolcache/Python/3.9.20/x64/lib/python3.9/site-packages/arxiv_on_deck_2/latex.py:137: LatexWarning: Recovered figure model-radial-flat-dbpld-4 as tmp_2410.22250/fig/model-radial-flat-dbpld-4.pdf\n",
      "  warnings.warn(LatexWarning(f'Recovered figure {image} as {fname}'))\n"
     ]
    },
    {
     "name": "stdout",
     "output_type": "stream",
     "text": [
      "Found 117 bibliographic references in tmp_2410.22250/paper.bbl.\n"
     ]
    }
   ],
   "source": [
    "documents = []\n",
    "failed = []\n",
    "for paper in tqdm(candidates):\n",
    "    # debug crap\n",
    "    paper['identifier'] = paper['identifier'].lower().replace('arxiv:', '').replace(r'\\n', '').strip()\n",
    "    paper_id = paper['identifier']\n",
    "    \n",
    "    folder = f'tmp_{paper_id}'\n",
    "\n",
    "    try:\n",
    "        if not os.path.isdir(folder):\n",
    "            folder = retrieve_document_source(f\"{paper_id}\", f'tmp_{paper_id}')\n",
    "        \n",
    "        try:\n",
    "            doc = latex.LatexDocument(folder, validation=validation)    \n",
    "        except AffiliationError as affilerror:\n",
    "            msg = f\"ArXiv:{paper_id:s} is not an MPIA paper... \" + str(affilerror)\n",
    "            failed.append((paper, \"affiliation error: \" + str(affilerror) ))\n",
    "            continue\n",
    "        \n",
    "        # Hack because sometimes author parsing does not work well\n",
    "        if (len(doc.authors) != len(paper['authors'])):\n",
    "            doc._authors = paper['authors']\n",
    "        else:\n",
    "            # highlight authors (FIXME: doc.highlight_authors)\n",
    "            # done on arxiv paper already\n",
    "            doc._authors = highlight_authors_in_list(\n",
    "                [get_initials(k) for k in doc.authors], \n",
    "                mpia_authors, verbose=True)\n",
    "        if (doc.abstract) in (None, ''):\n",
    "            doc._abstract = paper['abstract']\n",
    "            \n",
    "        doc.comment = (get_markdown_badge(paper_id) + \n",
    "                       \"<mark>Appeared on: \" + paper['date'] + \"</mark> - \")\n",
    "        if paper['comments']:\n",
    "            doc.comment += \" _\" + paper['comments'] + \"_\"\n",
    "        \n",
    "        full_md = doc.generate_markdown_text()\n",
    "        \n",
    "        full_md += get_markdown_qrcode(paper_id)\n",
    "        \n",
    "        # replace citations\n",
    "        try:\n",
    "            bibdata = latex_bib.LatexBib.from_doc(doc)\n",
    "            full_md = latex_bib.replace_citations(full_md, bibdata)\n",
    "        except Exception as e:\n",
    "            print(\"Issues with the citations\")\n",
    "            print(e)\n",
    "        \n",
    "        documents.append((paper_id, full_md))\n",
    "    except Exception as e:\n",
    "        warnings.warn(latex.LatexWarning(f\"{paper_id:s} did not run properly\\n\" +\n",
    "                                         str(e)\n",
    "                                        ))\n",
    "        failed.append((paper, \"latex error \" + str(e)))"
   ]
  },
  {
   "cell_type": "markdown",
   "id": "2505a25c",
   "metadata": {
    "papermill": {
     "duration": 0.005032,
     "end_time": "2024-10-30T04:14:38.202484",
     "exception": false,
     "start_time": "2024-10-30T04:14:38.197452",
     "status": "completed"
    },
    "tags": []
   },
   "source": [
    "### Export the logs\n",
    "\n",
    "Throughout, we also keep track of the logs per paper. see `logs-{today date}.md` "
   ]
  },
  {
   "cell_type": "code",
   "execution_count": 6,
   "id": "d733828a",
   "metadata": {
    "execution": {
     "iopub.execute_input": "2024-10-30T04:14:38.213857Z",
     "iopub.status.busy": "2024-10-30T04:14:38.213331Z",
     "iopub.status.idle": "2024-10-30T04:14:38.230729Z",
     "shell.execute_reply": "2024-10-30T04:14:38.230103Z"
    },
    "papermill": {
     "duration": 0.024278,
     "end_time": "2024-10-30T04:14:38.231806",
     "exception": false,
     "start_time": "2024-10-30T04:14:38.207528",
     "status": "completed"
    },
    "scrolled": false,
    "tags": []
   },
   "outputs": [
    {
     "data": {
      "text/markdown": [
       "## Successful papers"
      ],
      "text/plain": [
       "<IPython.core.display.Markdown object>"
      ]
     },
     "metadata": {},
     "output_type": "display_data"
    },
    {
     "data": {
      "text/markdown": [
       "\n",
       "|||\n",
       "|---:|:---|\n",
       "| [![arXiv](https://img.shields.io/badge/arXiv-2410.21366-b31b1b.svg)](https://arxiv.org/abs/2410.21366) | **X-ray cavities in TNG-Cluster: AGN phenomena in the full cosmological context**  |\n",
       "|| <mark>M. Prunier</mark>, et al. -- incl., <mark>A. Pillepich</mark> |\n",
       "|*Appeared on*| *2024-10-30*|\n",
       "|*Comments*| *Submitted to MNRAS. See further TNG-Cluster papers from Eric Rohr, and Urmila Chadayammuri over the next days, and on the TNG-Cluster website: this https URL*|\n",
       "|**Abstract**|            Active galactic nuclei (AGN) feedback from supermassive black holes (SMBHs) at the centers of galaxy clusters plays a key role in regulating star formation and shaping the intracluster medium (ICM), often manifesting through prominent X-ray cavities embedded in the cluster's hot atmosphere. Here we show that X-ray cavities arise naturally due to AGN feedback in TNG-Cluster. This is a new suite of magnetohydrodynamic cosmological simulations of galaxy formation and evolution, and hence of galaxy clusters, whereby cold dark matter, baryon dynamics, galactic astrophysics, and magnetic fields are evolved together consistently. We construct mock Chandra X-ray observations of the central regions of the 352 simulated clusters at $z=0$ and find that $\\sim$39 per cent contain X-ray cavities. Identified X-ray cavities vary in configuration (single, pairs, or multiples), with some still attached to SMBHs, while others have buoyantly risen. Their size ranges from a few to several tens of kpc. In terms of gas physical properties, TNG-Cluster X-ray cavities are underdense compared to the surrounding halo and filled with hot gas ($\\sim$10$^8$K); 25 per cent of them are surrounded by an X-ray bright and compressed rim associated with a weak shock (Mach number $\\sim 1.5$). Clusters exhibiting X-ray cavities are preferentially strong or weak cool-cores, are dynamically relaxed, and host SMBHs accreting at low Eddington rates. We show that TNG-Cluster X-ray cavities originate from episodic, wind-like energy injections from central AGN. Our results illustrate the existence and diversity of X-ray cavities simulated in state-of-the-art models within realistic cosmological environments and show that these can form without necessarily invoking bipolar, collimated, or relativistic jets.         |"
      ],
      "text/plain": [
       "[2410.21366] X-ray cavities in TNG-Cluster: AGN phenomena in the full cosmological context\n",
       "\t<mark>M. Prunier</mark>, et al. -- incl., <mark>A. Pillepich</mark>"
      ]
     },
     "metadata": {},
     "output_type": "display_data"
    },
    {
     "data": {
      "text/markdown": [
       "\n",
       "|||\n",
       "|---:|:---|\n",
       "| [![arXiv](https://img.shields.io/badge/arXiv-2410.21399-b31b1b.svg)](https://arxiv.org/abs/2410.21399) | **CO isotopologue-derived molecular gas conditions and CO-to-H$_2$ conversion factors in M51**  |\n",
       "|| J. d. Brok, et al. -- incl., <mark>E. Schinnerer</mark>, <mark>S. Stuber</mark> |\n",
       "|*Appeared on*| *2024-10-30*|\n",
       "|*Comments*| *accepted for publication in AJ; 31 pages, 16 figures, 7 tables*|\n",
       "|**Abstract**|            Over the past decade, several millimeter interferometer programs have mapped the nearby star-forming galaxy M51 at a spatial resolution of ${\\le}170$ pc. This study combines observations from three major programs: the PdBI Arcsecond Whirlpool Survey (PAWS), the SMA M51 large program (SMA-PAWS), and the Surveying the Whirlpool at Arcseconds with NOEMA (SWAN). The dataset includes the (1-0) and (2-1) rotational transitions of $^{12}$CO, $^{13}$CO, and C$^{18}$O isotopologues. The observations cover the $r{<}\\rm 3\\,kpc$ region including center and part of the disk, thereby ensuring strong detections of the weaker $^{13}$CO and C$^{18}$O lines. All observations are convolved in this analysis to an angular resolution of 4$''$, corresponding to a physical scale of ${\\sim}$170 pc. We investigate empirical line ratio relations and quantitatively evaluate molecular gas conditions such as temperature, density, and the CO-to-H$_2$ conversion factor ($\\alpha_{\\rm CO}$). We employ two approaches to study the molecular gas conditions: (i) assuming local thermal equilibrium (LTE) to analytically determine the CO column density and $\\alpha_{\\rm CO}$, and (ii) using non-LTE modeling with RADEX to fit physical conditions to observed CO isotopologue intensities. We find that the $\\alpha_{\\rm CO}$ values {in the center and along the inner spiral arm} are $\\sim$0.5 dex (LTE) and ${\\sim}$0.1 dex (non-LTE) below the Milky Way inner disk value. The average non-LTE $\\alpha_{\\rm CO}$ is $2.4{\\pm}0.5$ M$_\\odot$ pc$^{-2}$ (K km s$^{-1}$)$^{-1}$. While both methods show dispersion due to underlying assumptions, the scatter is larger for LTE-derived values. This study underscores the necessity for robust CO line modeling to accurately constrain the molecular ISM's physical and chemical conditions in nearby galaxies.         |"
      ],
      "text/plain": [
       "[2410.21399] CO isotopologue-derived molecular gas conditions and CO-to-H$_2$ conversion factors in M51\n",
       "\tJ. d. Brok, et al. -- incl., <mark>E. Schinnerer</mark>, <mark>S. Stuber</mark>"
      ]
     },
     "metadata": {},
     "output_type": "display_data"
    },
    {
     "data": {
      "text/markdown": [
       "\n",
       "|||\n",
       "|---:|:---|\n",
       "| [![arXiv](https://img.shields.io/badge/arXiv-2410.22036-b31b1b.svg)](https://arxiv.org/abs/2410.22036) | **GaiaUnlimited: The old stellar disc of the Milky Way as traced by the Red Clump**  |\n",
       "|| S. Khanna, et al. -- incl., <mark>T. Cantat-Gaudin</mark>, <mark>M. Fouesneau</mark>, <mark>H.-W. Rix</mark> |\n",
       "|*Appeared on*| *2024-10-30*|\n",
       "|*Comments*| *27 pages, submitted to A&A*|\n",
       "|**Abstract**|            We present an exploration of the Milky Way's structural parameters using an all-sky sample of RC giants to map the stellar density from the inner to the outer parts of the Galactic disc. These evolved giants are considered to be standard candles due to their low intrinsic variance in their absolute luminosities, allowing us to estimate their distances with reasonable confidence. We exploit all-sky photometry from the AllWISE mid-infrared survey and the Gaia survey, along with astrometry from Gaia Data Release 3 and recent 3D extinction maps, to develop a probabilistic scheme in order to select with high confidence \\rc{}-like stars. Our curated catalogue contains about 10 million sources, for which we estimate photometric distances based on the WISE $W1$ photometry. We then derive the selection function for our sample, which is the combined selection function of sources with both \\gaia{} and \\allwise{} photometry. Using the distances and accounting for the full selection function of our observables, we are able to fit a two-disc, multi-parameter model to constrain the scale height (\\hz{}), scale-length (\\rd{}), flaring, and the relative mass ratios of the two disc components. We illustrate and verify our methodology using mock catalogues of \\rc{} stars. We find that the \\rc{} population is best described by a flared thin disc with scale length \\rd{}=$3.56\\pm0.32$ kpc and scale height at the Sun of \\hzsun{}=$0.17\\pm0.01$ kpc, and a shorter and thicker disc with \\rd{}=$2.59\\pm0.11$ kpc, \\hzsun{}=$0.45\\pm0.11$ kpc, with no flare. The thicker disc constitutes 64\\% of the \\rc{} stellar mass beyond 3 kpc, while the thin disk shows evidence of being warped beyond 9 kpc from the Galactic center. The residuals between the predicted number density of RC stars from our axisymmetric model and the measured counts show possible evidence of a two-armed spiral perturbation in the disc of the Milky Way.         |"
      ],
      "text/plain": [
       "[2410.22036] GaiaUnlimited: The old stellar disc of the Milky Way as traced by the Red Clump\n",
       "\tS. Khanna, et al. -- incl., <mark>T. Cantat-Gaudin</mark>, <mark>M. Fouesneau</mark>, <mark>H.-W. Rix</mark>"
      ]
     },
     "metadata": {},
     "output_type": "display_data"
    },
    {
     "data": {
      "text/markdown": [
       "\n",
       "|||\n",
       "|---:|:---|\n",
       "| [![arXiv](https://img.shields.io/badge/arXiv-2410.22250-b31b1b.svg)](https://arxiv.org/abs/2410.22250) | **The realm of Aurora. Density distribution of metal-poor giants in the heart of the Galaxy**  |\n",
       "|| E. P. Kurbatov, et al. -- incl., <mark>T. Cantat-Gaudin</mark>, <mark>M. Fouesneau</mark>, <mark>H.-W. Rix</mark> |\n",
       "|*Appeared on*| *2024-10-30*|\n",
       "|*Comments*| *Submitted to MNRAS*|\n",
       "|**Abstract**|            The innermost portions of the Milky Way's stellar halo have avoided scrutiny until recently. The lack of wide-area survey data, made it difficult to reconstruct an uninterrupted view of the density distribution of the metal-poor stars inside the Solar radius. In this study, we utilize red giant branch (RGB) stars from Gaia, with metallicities estimated using spectro-photometry from Gaia Data Release 3. Accounting for Gaia's selection function, we examine the spatial distribution of metal-poor ([M/H]<-1.3) RGB stars, from the Galactic centre (r~1 kpc) out to beyond the Solar radius (r~18 kpc). Our best-fitting single-component cored power-law model shows a vertical flattening of ~0.5 and a slope -3.4, consistent with previous studies. Motivated by the mounting evidence for two distinct stellar populations in the inner halo, we additionally test a range of two-component models. One of the components models the tidal debris from the Gaia Sausage/Enceladus merger, while the other captures the Aurora population -- stars that predate the Galactic disk formation. Our best-fit two-component model suggests that both populations contribute equally around the Solar radius, but Aurora dominates the inner halo with a steeper power-law index of -4.5, in agreement with the nitrogen-rich star distribution measured by Horta et al. (2021).         |"
      ],
      "text/plain": [
       "[2410.22250] The realm of Aurora. Density distribution of metal-poor giants in the heart of the Galaxy\n",
       "\tE. P. Kurbatov, et al. -- incl., <mark>T. Cantat-Gaudin</mark>, <mark>M. Fouesneau</mark>, <mark>H.-W. Rix</mark>"
      ]
     },
     "metadata": {},
     "output_type": "display_data"
    },
    {
     "data": {
      "text/markdown": [
       "## Failed papers"
      ],
      "text/plain": [
       "<IPython.core.display.Markdown object>"
      ]
     },
     "metadata": {},
     "output_type": "display_data"
    },
    {
     "data": {
      "text/markdown": [
       "\n",
       "|||\n",
       "|---:|:---|\n",
       "| [![arXiv](https://img.shields.io/badge/arXiv-2410.21364-b31b1b.svg)](https://arxiv.org/abs/2410.21364) | **easyCHEM: A Python package for calculating chemical equilibrium abundances in exoplanet atmospheres**  |\n",
       "|| E. Lei, <mark>P. Mollière</mark> |\n",
       "|*Appeared on*| *2024-10-30*|\n",
       "|*Comments*| *Submitted for review to the Journal of Open Source Software (JOSS)*|\n",
       "|**Abstract**|            For modeling the spectra of exoplanets one must know their atmospheric composition. This is necessary because the abundance of molecules, atoms, ions and condensates is needed to construct the total cross-section for the interaction between electro-magnetic radiation and matter. In addition, when solving for the temperature structure of an atmosphere the so-called adiabatic temperature gradient must be known, which describes the pressure-temperature dependence in convectively unstable regions well. Depending on the planetary properties, the composition and adiabatic gradients may be well described by equilibrium chemistry, which means that chemical reactions occur faster than any other relevant processes in the atmosphere, such as mixing. What is more, the equilibrium assumption often serves as a useful starting point for non-equilibrium calculations. Efficient and easy-to-use codes for determining equilibrium abundances are therefore needed. Here we report on our easyCHEM Python package that calculates atmospheric compositions and adiabatic temperature gradients in chemical equilibrium for any user-specified elemental composition.         |\n",
       "|<p style=\"color:green\"> **ERROR** </p>| <p style=\"color:green\">affiliation error: mpia.affiliation_verifications: '69117' keyword not found.</p> |"
      ],
      "text/plain": [
       "<IPython.core.display.Markdown object>"
      ]
     },
     "metadata": {},
     "output_type": "display_data"
    },
    {
     "data": {
      "text/markdown": [
       "\n",
       "|||\n",
       "|---:|:---|\n",
       "| [![arXiv](https://img.shields.io/badge/arXiv-2410.21617-b31b1b.svg)](https://arxiv.org/abs/2410.21617) | **Einstein Probe discovery of EP240408a: a peculiar X-ray transient with an intermediate timescale**  |\n",
       "|| W. Zhang, et al. -- incl., <mark>J. Li</mark> |\n",
       "|*Appeared on*| *2024-10-30*|\n",
       "|*Comments*| *25 pages, 11 figures*|\n",
       "|**Abstract**|            We report the discovery of a peculiar X-ray transient, EP240408a, by Einstein Probe (EP) and follow-up studies made with EP, Swift, NICER, GROND, ATCA and other ground-based multi-wavelength telescopes. The new transient was first detected with Wide-field X-ray Telescope (WXT) on board EP on April 8th, 2024, manifested in an intense yet brief X-ray flare lasting for 12 seconds. The flare reached a peak flux of 3.9x10^(-9) erg/cm2/s in 0.5-4 keV, about 300 times brighter than the underlying X-ray emission detected throughout the observation. Rapid and more precise follow-up observations by EP/FXT, Swift and NICER confirmed the finding of this new transient. Its X-ray spectrum is non-thermal in 0.5-10 keV, with a power-law photon index varying within 1.8-2.5. The X-ray light curve shows a plateau lasting for about 4 days, followed by a steep decay till becoming undetectable about 10 days after the initial detection. Based on its temporal property and constraints from previous EP observations, an unusual timescale in the range of 7-23 days is found for EP240408a, which is intermediate between the commonly found fast and long-term transients. No counterparts have been found in optical and near-infrared, with the earliest observation at 17 hours after the initial X-ray detection, suggestive of intrinsically weak emission in these bands. We demonstrate that the remarkable properties of EP240408a are inconsistent with any of the transient types known so far, by comparison with, in particular, jetted tidal disruption events, gamma-ray bursts, X-ray binaries and fast blue optical transients. The nature of EP240408a thus remains an enigma. We suggest that EP240408a may represent a new type of transients with intermediate timescales of the order of about 10 days. The detection and follow-ups of more of such objects are essential for revealing their origin.         |\n",
       "|<p style=\"color:green\"> **ERROR** </p>| <p style=\"color:green\">affiliation error: mpia.affiliation_verifications: 'Heidelberg' keyword not found.</p> |"
      ],
      "text/plain": [
       "<IPython.core.display.Markdown object>"
      ]
     },
     "metadata": {},
     "output_type": "display_data"
    }
   ],
   "source": [
    "import datetime\n",
    "today = str(datetime.date.today())\n",
    "logfile = f\"_build/html/logs/log-{today}.md\"\n",
    "\n",
    "\n",
    "with open(logfile, 'w') as logs:\n",
    "    # Success\n",
    "    logs.write(f'# Arxiv on Deck 2: Logs - {today}\\n\\n')\n",
    "    logs.write(\"\"\"* Arxiv had {0:,d} new papers\\n\"\"\".format(len(new_papers)))\n",
    "    logs.write(\"\"\"    * {0:,d} with possible author matches\\n\\n\"\"\".format(len(candidates)))\n",
    "    logs.write(\"## Sucessful papers\\n\\n\")\n",
    "    display(Markdown(\"## Successful papers\"))\n",
    "    success = [k[0] for k in documents]\n",
    "    for candid in candidates:\n",
    "        if candid['identifier'].split(':')[-1] in success:\n",
    "            display(candid)\n",
    "            logs.write(candid.generate_markdown_text() + '\\n\\n')\n",
    "\n",
    "    ## failed\n",
    "    logs.write(\"## Failed papers\\n\\n\")\n",
    "    display(Markdown(\"## Failed papers\"))\n",
    "    failed = sorted(failed, key=lambda x: x[1])\n",
    "    current_reason = \"\"\n",
    "    for paper, reason in failed:\n",
    "        if 'affiliation' in reason:\n",
    "            color = 'green'\n",
    "        else:\n",
    "            color = 'red'\n",
    "        data = Markdown(\n",
    "                paper.generate_markdown_text() + \n",
    "                f'\\n|<p style=\"color:{color:s}\"> **ERROR** </p>| <p style=\"color:{color:s}\">{reason:s}</p> |'\n",
    "               )\n",
    "        if reason != current_reason:\n",
    "            logs.write(f'### {reason:s} \\n\\n')\n",
    "            current_reason = reason\n",
    "        logs.write(data.data + '\\n\\n')\n",
    "        \n",
    "        # only display here the important errors (all in logs)\n",
    "        # if color in ('red',):\n",
    "        display(data)"
   ]
  },
  {
   "cell_type": "markdown",
   "id": "472d20ee",
   "metadata": {
    "papermill": {
     "duration": 0.005781,
     "end_time": "2024-10-30T04:14:38.243591",
     "exception": false,
     "start_time": "2024-10-30T04:14:38.237810",
     "status": "completed"
    },
    "tags": []
   },
   "source": [
    "## Export documents\n",
    "\n",
    "We now write the .md files and export relevant images"
   ]
  },
  {
   "cell_type": "code",
   "execution_count": 7,
   "id": "d426aed9",
   "metadata": {
    "execution": {
     "iopub.execute_input": "2024-10-30T04:14:38.256356Z",
     "iopub.status.busy": "2024-10-30T04:14:38.255897Z",
     "iopub.status.idle": "2024-10-30T04:14:38.262836Z",
     "shell.execute_reply": "2024-10-30T04:14:38.262293Z"
    },
    "papermill": {
     "duration": 0.014455,
     "end_time": "2024-10-30T04:14:38.263857",
     "exception": false,
     "start_time": "2024-10-30T04:14:38.249402",
     "status": "completed"
    },
    "tags": []
   },
   "outputs": [],
   "source": [
    "def export_markdown_summary(md: str, md_fname:str, directory: str):\n",
    "    \"\"\"Export MD document and associated relevant images\"\"\"\n",
    "    import os\n",
    "    import shutil\n",
    "    import re\n",
    "\n",
    "    if (os.path.exists(directory) and not os.path.isdir(directory)):\n",
    "        raise RuntimeError(f\"a non-directory file exists with name {directory:s}\")\n",
    "\n",
    "    if (not os.path.exists(directory)):\n",
    "        print(f\"creating directory {directory:s}\")\n",
    "        os.mkdir(directory)\n",
    "\n",
    "    fig_fnames = (re.compile(r'\\[Fig.*\\]\\((.*)\\)').findall(md) + \n",
    "                  re.compile(r'\\<img src=\"([^>\\s]*)\"[^>]*/>').findall(md))\n",
    "    print(\"found figures\", fig_fnames)\n",
    "    for fname in fig_fnames:\n",
    "        if 'http' in fname:\n",
    "            # No need to copy online figures\n",
    "            continue\n",
    "        if not os.path.exists(fname):\n",
    "            print(\"file not found\", fname)\n",
    "            continue\n",
    "        print(\"copying \", fname, \"to\", directory)\n",
    "        destdir = os.path.join(directory, os.path.dirname(fname))\n",
    "        destfname = os.path.join(destdir, os.path.basename(fname))\n",
    "        try:\n",
    "            os.makedirs(destdir)\n",
    "        except FileExistsError:\n",
    "            pass\n",
    "        shutil.copy(fname, destfname)\n",
    "    with open(os.path.join(directory, md_fname), 'w') as fout:\n",
    "        fout.write(md)\n",
    "    print(\"exported in \", os.path.join(directory, md_fname))\n",
    "    [print(\"    + \" + os.path.join(directory,fk)) for fk in fig_fnames]"
   ]
  },
  {
   "cell_type": "code",
   "execution_count": 8,
   "id": "014d04a4",
   "metadata": {
    "execution": {
     "iopub.execute_input": "2024-10-30T04:14:38.276595Z",
     "iopub.status.busy": "2024-10-30T04:14:38.276180Z",
     "iopub.status.idle": "2024-10-30T04:14:38.320900Z",
     "shell.execute_reply": "2024-10-30T04:14:38.320326Z"
    },
    "papermill": {
     "duration": 0.052211,
     "end_time": "2024-10-30T04:14:38.321973",
     "exception": false,
     "start_time": "2024-10-30T04:14:38.269762",
     "status": "completed"
    },
    "tags": []
   },
   "outputs": [
    {
     "name": "stdout",
     "output_type": "stream",
     "text": [
      "found figures ['tmp_2410.21366/./figures/clusterMaps_default_tng_8192_99_ID-16921354_200_kpc_10.png', '', '', '', 'tmp_2410.21366/./figures/A1_Demog_tcool_Lx500.png', 'tmp_2410.21366/./figures/A1_Demog_XrayOff_Tcool.png', 'tmp_2410.21366/./figures/A1_subboxe_panel_2008.png', 'tmp_2410.21366/./figures/2008_subplots_UM.png', 'tmp_2410.21366/./figures/A1_gas_cells_KE_2008.png', 'tmp_2410.21366/./figures/A1_gas_cells_outflows_2008.png', '']\n",
      "copying  tmp_2410.21366/./figures/clusterMaps_default_tng_8192_99_ID-16921354_200_kpc_10.png to _build/html/\n",
      "file not found \n",
      "file not found \n",
      "file not found \n",
      "copying  tmp_2410.21366/./figures/A1_Demog_tcool_Lx500.png to _build/html/\n",
      "copying  tmp_2410.21366/./figures/A1_Demog_XrayOff_Tcool.png to _build/html/\n",
      "copying  tmp_2410.21366/./figures/A1_subboxe_panel_2008.png to _build/html/\n",
      "copying  tmp_2410.21366/./figures/2008_subplots_UM.png to _build/html/\n",
      "copying  tmp_2410.21366/./figures/A1_gas_cells_KE_2008.png to _build/html/\n",
      "copying  tmp_2410.21366/./figures/A1_gas_cells_outflows_2008.png to _build/html/\n",
      "file not found \n",
      "exported in  _build/html/2410.21366.md\n",
      "    + _build/html/tmp_2410.21366/./figures/clusterMaps_default_tng_8192_99_ID-16921354_200_kpc_10.png\n",
      "    + _build/html/\n",
      "    + _build/html/\n",
      "    + _build/html/\n",
      "    + _build/html/tmp_2410.21366/./figures/A1_Demog_tcool_Lx500.png\n",
      "    + _build/html/tmp_2410.21366/./figures/A1_Demog_XrayOff_Tcool.png\n",
      "    + _build/html/tmp_2410.21366/./figures/A1_subboxe_panel_2008.png\n",
      "    + _build/html/tmp_2410.21366/./figures/2008_subplots_UM.png\n",
      "    + _build/html/tmp_2410.21366/./figures/A1_gas_cells_KE_2008.png\n",
      "    + _build/html/tmp_2410.21366/./figures/A1_gas_cells_outflows_2008.png\n",
      "    + _build/html/\n",
      "found figures ['tmp_2410.21399/./Figures/ratio_1.png', 'tmp_2410.21399/./Figures/outine_M51.png', 'tmp_2410.21399/./Figures/ratio_2.png']\n",
      "copying  tmp_2410.21399/./Figures/ratio_1.png to _build/html/\n",
      "copying  tmp_2410.21399/./Figures/outine_M51.png to _build/html/\n",
      "copying  tmp_2410.21399/./Figures/ratio_2.png to _build/html/\n",
      "exported in  _build/html/2410.21399.md\n",
      "    + _build/html/tmp_2410.21399/./Figures/ratio_1.png\n",
      "    + _build/html/tmp_2410.21399/./Figures/outine_M51.png\n",
      "    + _build/html/tmp_2410.21399/./Figures/ratio_2.png\n",
      "found figures ['tmp_2410.22036/./figures/sf_illus_nodust.png', 'tmp_2410.22036/./figures/warp_visual_outerbt1.png', 'tmp_2410.22036/./figures/residuals_polar_2.png', 'tmp_2410.22036/./figures/residuals_polar_0.png', 'tmp_2410.22036/./figures/residuals_polar_1.png']\n",
      "copying  tmp_2410.22036/./figures/sf_illus_nodust.png to _build/html/\n",
      "copying  tmp_2410.22036/./figures/warp_visual_outerbt1.png to _build/html/\n",
      "copying  tmp_2410.22036/./figures/residuals_polar_2.png to _build/html/\n",
      "copying  tmp_2410.22036/./figures/residuals_polar_0.png to _build/html/\n",
      "copying  tmp_2410.22036/./figures/residuals_polar_1.png to _build/html/\n",
      "exported in  _build/html/2410.22036.md\n",
      "    + _build/html/tmp_2410.22036/./figures/sf_illus_nodust.png\n",
      "    + _build/html/tmp_2410.22036/./figures/warp_visual_outerbt1.png\n",
      "    + _build/html/tmp_2410.22036/./figures/residuals_polar_2.png\n",
      "    + _build/html/tmp_2410.22036/./figures/residuals_polar_0.png\n",
      "    + _build/html/tmp_2410.22036/./figures/residuals_polar_1.png\n",
      "found figures ['tmp_2410.22250/fig/model-radial-flat-sc-0.png', 'tmp_2410.22250/fig/model-flat-sc-summary.png', 'tmp_2410.22250/fig/data-kinem-all.png']\n",
      "copying  tmp_2410.22250/fig/model-radial-flat-sc-0.png to _build/html/\n",
      "copying  tmp_2410.22250/fig/model-flat-sc-summary.png to _build/html/\n",
      "copying  tmp_2410.22250/fig/data-kinem-all.png to _build/html/\n",
      "exported in  _build/html/2410.22250.md\n",
      "    + _build/html/tmp_2410.22250/fig/model-radial-flat-sc-0.png\n",
      "    + _build/html/tmp_2410.22250/fig/model-flat-sc-summary.png\n",
      "    + _build/html/tmp_2410.22250/fig/data-kinem-all.png\n"
     ]
    }
   ],
   "source": [
    "for paper_id, md in documents:\n",
    "    export_markdown_summary(md, f\"{paper_id:s}.md\", '_build/html/')"
   ]
  },
  {
   "cell_type": "markdown",
   "id": "f087a0a7",
   "metadata": {
    "papermill": {
     "duration": 0.006017,
     "end_time": "2024-10-30T04:14:38.334369",
     "exception": false,
     "start_time": "2024-10-30T04:14:38.328352",
     "status": "completed"
    },
    "tags": []
   },
   "source": [
    "## Display the papers\n",
    "\n",
    "Not necessary but allows for a quick check."
   ]
  },
  {
   "cell_type": "code",
   "execution_count": 9,
   "id": "fd25f625",
   "metadata": {
    "execution": {
     "iopub.execute_input": "2024-10-30T04:14:38.347903Z",
     "iopub.status.busy": "2024-10-30T04:14:38.347310Z",
     "iopub.status.idle": "2024-10-30T04:14:38.356200Z",
     "shell.execute_reply": "2024-10-30T04:14:38.355659Z"
    },
    "papermill": {
     "duration": 0.016757,
     "end_time": "2024-10-30T04:14:38.357218",
     "exception": false,
     "start_time": "2024-10-30T04:14:38.340461",
     "status": "completed"
    },
    "scrolled": false,
    "tags": []
   },
   "outputs": [
    {
     "data": {
      "text/markdown": [
       "<div class=\"macros\" style=\"visibility:hidden;\">\n",
       "$\\newcommand{\\ensuremath}{}$\n",
       "$\\newcommand{\\xspace}{}$\n",
       "$\\newcommand{\\object}[1]{\\texttt{#1}}$\n",
       "$\\newcommand{\\farcs}{{.}''}$\n",
       "$\\newcommand{\\farcm}{{.}'}$\n",
       "$\\newcommand{\\arcsec}{''}$\n",
       "$\\newcommand{\\arcmin}{'}$\n",
       "$\\newcommand{\\ion}[2]{#1#2}$\n",
       "$\\newcommand{\\textsc}[1]{\\textrm{#1}}$\n",
       "$\\newcommand{\\hl}[1]{\\textrm{#1}}$\n",
       "$\\newcommand{\\footnote}[1]{}$\n",
       "$\\newcommand{\\mvir}{M_{\\rm 200c}}$\n",
       "$\\newcommand{\\mvirhost}{\\mvir^{\\rm host}}$\n",
       "$\\newcommand{\\rvir}{R_{\\rm 200c}}$\n",
       "$\\newcommand{\\rvirhost}{\\rvir^{\\rm host}}$\n",
       "$\\newcommand{\\mgas}{M_{\\rm gas}}$\n",
       "$\\newcommand{\\mgassat}{\\mgas^{\\rm sat}}$\n",
       "$\\newcommand{\\mcgas}{M_{\\rm ColdGas}}$\n",
       "$\\newcommand{\\mcgassat}{\\mcgas^{\\rm sat}}$\n",
       "$\\newcommand{\\mhgas}{M_{\\rm HotGas}}$\n",
       "$\\newcommand{\\mhgassat}{\\mhgas^{\\rm sat}}$\n",
       "$\\newcommand{\\mcgassub}{\\mcgas^{\\rm subhalo}}$\n",
       "$\\newcommand{\\mstar}{M_\\star}$\n",
       "$\\newcommand{\\mstarsat}{\\mstar^{\\rm sat}}$\n",
       "$\\newcommand{\\mcgm}{M_{\\rm CGM}}$\n",
       "$\\newcommand{\\mcgmsat}{\\mcgm^{\\rm sat}}$\n",
       "$\\newcommand{\\mism}{M_{\\rm ISM}}$\n",
       "$\\newcommand{\\mismsat}{\\mism^{\\rm sat}}$\n",
       "$\\newcommand{\\rhalfstar}{R_{\\rm half,\\star}}$\n",
       "$\\newcommand{\\rgal}{R_{\\rm gal}}$\n",
       "$\\newcommand{\\dsathost}{d_{\\rm sat}^{\\rm host}}$\n",
       "$\\newcommand{\\sublink}{\\textsc{sublink}}$\n",
       "$\\newcommand{\\sublinkgal}{\\sublink\\_\\textsc{gal} }$\n",
       "$\\newcommand{\\subfind}{\\textsc{subfind} }$\n",
       "$\\newcommand{\\msun}{ M_{\\odot}}$\n",
       "$\\newcommand{\\kpc}{{\\rm kpc}}$\n",
       "$\\newcommand{\\thebibliography}{\\DeclareRobustCommand{\\VAN}[3]{##3}\\VANthebibliography}$</div>\n",
       "\n",
       "\n",
       "\n",
       "<div id=\"title\">\n",
       "\n",
       "# X-ray cavities in TNG-Cluster: AGN phenomena in the full cosmological context\n",
       "\n",
       "</div>\n",
       "<div id=\"comments\">\n",
       "\n",
       "[![arXiv](https://img.shields.io/badge/arXiv-2410.21366-b31b1b.svg)](https://arxiv.org/abs/2410.21366)<mark>Appeared on: 2024-10-30</mark> -  _Submitted to MNRAS. See further TNG-Cluster papers from Eric Rohr, and Urmila Chadayammuri over the next days, and on the TNG-Cluster website: this https URL_\n",
       "\n",
       "</div>\n",
       "<div id=\"authors\">\n",
       "\n",
       "<mark>M. Prunier</mark>, et al. -- incl., <mark>A. Pillepich</mark>\n",
       "\n",
       "</div>\n",
       "<div id=\"abstract\">\n",
       "\n",
       "**Abstract:** Active galactic nuclei (AGN) feedback from supermassive black holes (SMBHs) at the centers of galaxy clusters plays a key role in determining the properties of the intracluster medium (ICM) and in regulating star formation, often manifesting through prominent X-ray cavities embedded in the cluster's hot atmosphere. Here we show that X-ray cavities arise naturally due to AGN feedback in TNG-Cluster. This is a new suite of magnetohydrodynamic cosmological simulations of galaxy formation and evolution, and hence of galaxy clusters, whereby cold dark matter, baryon dynamics, galactic astrophysics, and magnetic fields are evolved together consistently. We construct mock Chandra X-ray observations of the central region of the 352 galaxy clusters in the simulation at $z=0$ and inspect them for X-ray cavities as typically done in observations. We show that X-ray cavities are common in TNG-Cluster, with $\\sim$ 39 per cent of the simulated clusters featuring one or more X-ray cavities. Identified X-ray cavities come in a variety of configurations, including single, pairs, and multiples. Some are still attached to SMBHs, while others have buoyantly risen to larger distances. Their size ranges from a few to several tens of kpc. In terms of gas physical properties, TNG-Cluster X-ray cavities are underdense compared to the surrounding halo and filled with hot gas ( $\\sim$ 10 $^8$ K); 25 per cent of them are surrounded by an X-ray bright and compressed rim associated with a weak shock (Mach number $\\sim 1.5$ ). Clusters exhibiting X-ray cavities are preferentially strong or weak cool-cores, are dynamically relaxed, and host SMBHs accreting at low Eddington rates. We show that TNG-Cluster X-ray cavities originate from episodic, wind-like energy injections from central AGN. Our results illustrate the existence and diversity of X-ray cavities simulated in state-of-the-art models within realistic cosmological environments and show that these can form without necessarily invoking bipolar, collimated, or relativistic jets.\n",
       "\n",
       "</div>\n",
       "\n",
       "<div id=\"div_fig1\">\n",
       "\n",
       "<img src=\"tmp_2410.21366/./figures/clusterMaps_default_tng_8192_99_ID-16921354_200_kpc_10.png\" alt=\"Fig4\" width=\"100%\"/>\n",
       "\n",
       "**Figure 4. -** Maps of the thermodynamic and kinematic properties of the gas within an example TNG-Cluster system (Halo 16921354; maps side length: 200 kpc, depth: 20 kpc). Two X-ray cavities are visible: the first is attached to the central SMBH and exhibits a bright rim, while the second is detached and rising in the ICM. These X-ray cavities appear as under-dense and under-X-ray luminous regions filled with hot gas. Additionally, the attached X-ray cavity has an over-pressurized edge and a weak shock front with a Mach number of $\\sim$ 1.3 (mass-weighted average Mach number along the line of sight, according to the shock finder: here the averages are obtained by only considering gas cells with shock Mach number larger than 0.9), while the detached X-ray cavity does not display such a feature. This panel illustrates the varying thermodynamic states of the gas within and surrounding the X-ray cavities. It highlights the typical properties of the X-ray cavity population identified in the TNG-Cluster simulation. (*fig:panel_cav_phys_pro*)\n",
       "\n",
       "</div>\n",
       "<div id=\"div_fig2\">\n",
       "\n",
       "<img src=\"\" alt=\"Fig5.1\" width=\"20%\"/><img src=\"\" alt=\"Fig5.2\" width=\"20%\"/><img src=\"\" alt=\"Fig5.3\" width=\"20%\"/><img src=\"tmp_2410.21366/./figures/A1_Demog_tcool_Lx500.png\" alt=\"Fig5.4\" width=\"20%\"/><img src=\"tmp_2410.21366/./figures/A1_Demog_XrayOff_Tcool.png\" alt=\"Fig5.5\" width=\"20%\"/>\n",
       "\n",
       "**Figure 5. -** Demographics of clusters with and without identified X-ray cavities in the TNG-Cluster simulation at $z=0$. _Top left:_ Percentage of clusters with identified X-ray cavities. _Top right:_ Among clusters with identified X-ray cavities, percentage of clusters having one, two, three, or four X-ray cavities.     _Bottom Left:_ Percentage distribution of cool-core (CC), weak cool-core (WCC), and non-cool-core (NCC) clusters for each category of clusters with or without identified X-ray cavities. The plot shows, for clusters with two X-ray cavities (x-label \"2\"), that 54 per cent of the TNG-Cluster halos hosting two X-ray cavities are SCCs and 46 per cent WCCs. _ Bottom middle:_ Central cooling time vs. X-ray luminosity within $r_{500\\text{c}}$ for each halo, color-coded by the number of identified X-ray cavities. _Bottom Right:_ Central cooling time vs. the distance between the SMBH and the X-ray luminosity peak, i.e. a measure of un/relaxedness, color-coded by the number of identified X-ray cavities. In TNG-Cluster, $\\sim$ 39 per cent of clusters exhibit at least one X-ray cavity. Clusters with identified X-ray cavities tend to have shorter central cooling times and higher X-ray luminosities, and to be more relaxed (smaller X-ray peak offset). (*fig:panel*)\n",
       "\n",
       "</div>\n",
       "<div id=\"div_fig3\">\n",
       "\n",
       "<img src=\"tmp_2410.21366/./figures/A1_subboxe_panel_2008.png\" alt=\"Fig6.1\" width=\"20%\"/><img src=\"tmp_2410.21366/./figures/2008_subplots_UM.png\" alt=\"Fig6.2\" width=\"20%\"/><img src=\"tmp_2410.21366/./figures/A1_gas_cells_KE_2008.png\" alt=\"Fig6.3\" width=\"20%\"/><img src=\"tmp_2410.21366/./figures/A1_gas_cells_outflows_2008.png\" alt=\"Fig6.4\" width=\"20%\"/><img src=\"\" alt=\"Fig6.5\" width=\"20%\"/>\n",
       "\n",
       "**Figure 6. -** Time evolution of selected quantities from the TNG300 most massive cluster, for which high temporal cadence output is available. The top two rows show six X-ray emission maps of the central region of the cluster, across 55 Myr, featuring two X-ray cavity events occurring in the second and last frame: mock Chandra surface brightness maps and the same maps processed with an unsharp mask filter to highlight X-ray-depleted regions, respectively. From top to bottom, the lower three panels quantify the time evolution of: _i)_ energy injected in kinetic mode by the SMBH between two successive snapshots, i.e. across time spans of about 10 Myrs; _ii)_ maximum radial outflow velocities (95th percentile) of the gas at different distances from the SMBH; and _iii)_ SMBH accretion rate. In all panels, the two dotted vertical lines indicate the frames just before the first and second X-ray cavities appear. The two events are characterized by a 10$^{42-43}$ erg s$^{-1}$ kinetic energy release and high-velocity gas outflows, as well as concomitant decreases in the SMBH accretion rate. See continuation in Figure \\ref{fig:subboxe_1gyr}. (*fig:subboxe_panel*)\n",
       "\n",
       "</div><div id=\"qrcode\"><img src=https://api.qrserver.com/v1/create-qr-code/?size=100x100&data=\"https://arxiv.org/abs/2410.21366\"></div>"
      ],
      "text/plain": [
       "<IPython.core.display.Markdown object>"
      ]
     },
     "metadata": {},
     "output_type": "display_data"
    },
    {
     "data": {
      "text/markdown": [
       "<div class=\"macros\" style=\"visibility:hidden;\">\n",
       "$\\newcommand{\\ensuremath}{}$\n",
       "$\\newcommand{\\xspace}{}$\n",
       "$\\newcommand{\\object}[1]{\\texttt{#1}}$\n",
       "$\\newcommand{\\farcs}{{.}''}$\n",
       "$\\newcommand{\\farcm}{{.}'}$\n",
       "$\\newcommand{\\arcsec}{''}$\n",
       "$\\newcommand{\\arcmin}{'}$\n",
       "$\\newcommand{\\ion}[2]{#1#2}$\n",
       "$\\newcommand{\\textsc}[1]{\\textrm{#1}}$\n",
       "$\\newcommand{\\hl}[1]{\\textrm{#1}}$\n",
       "$\\newcommand{\\footnote}[1]{}$\n",
       "$\\newcommand{\\vdag}{(v)^\\dagger}$\n",
       "$\\newcommand$\n",
       "$\\newcommand$\n",
       "$\\newcommand{\\arraystretch}{1.3}$</div>\n",
       "\n",
       "\n",
       "\n",
       "<div id=\"title\">\n",
       "\n",
       "# CO isotopologue-derived molecular gas conditions and CO-to-$H_2$ conversion factors in M51\n",
       "\n",
       "</div>\n",
       "<div id=\"comments\">\n",
       "\n",
       "[![arXiv](https://img.shields.io/badge/arXiv-2410.21399-b31b1b.svg)](https://arxiv.org/abs/2410.21399)<mark>Appeared on: 2024-10-30</mark> -  _accepted for publication in AJ; 31 pages, 16 figures, 7 tables_\n",
       "\n",
       "</div>\n",
       "<div id=\"authors\">\n",
       "\n",
       "J. d. Brok, et al. -- incl., <mark>E. Schinnerer</mark>, <mark>S. Stuber</mark>\n",
       "\n",
       "</div>\n",
       "<div id=\"abstract\">\n",
       "\n",
       "**Abstract:** Over the past decade, several millimeter interferometer programs have mapped the nearby star-forming galaxy M51 at a spatial resolution of ${\\le}170$ pc. This study combines observations from three major programs: the $*PdBI Arcsecond Whirlpool Survey*$ (PAWS), the SMA M51 large program (SMA-PAWS), and the $*Surveying the Whirlpool at Arcseconds with NOEMA*$ (SWAN). The dataset includes the (1-0) and (2-1) rotational transitions of $^{12}$ CO, $^{13}$ CO, and C $^{18}$ O isotopologues. ${The observations cover the $r{<}\\rm 3 kpc$ region including center and part of the disk, thereby ensuring strong detections of the weaker $^{13}$CO and C$^{18}$O lines.}$ All observations are convolved in this analysis to an angular resolution of 4 $\\arcsec$ , corresponding to a physical scale of ${\\sim}$ 170 pc. We investigate empirical line ratio relations and quantitatively evaluate molecular gas conditions such as temperature, density, and the CO-to-$H_2$ conversion factor ( $\\alpha_{\\rm CO}$ ). We employ two approaches to study the molecular gas conditions: (i) assuming local thermal equilibrium (LTE) to analytically determine the CO column density and $\\alpha_{\\rm CO}$ , and (ii) using non-LTE modeling with \\texttt{RADEX} to fit physical conditions to observed CO isotopologue intensities. We find that the $\\alpha_{\\rm CO}$ values ${in the center and along the inner spiral arm}$ are $\\sim$ 0.5 dex (LTE) and ${\\sim}$ 0.1 dex (non-LTE) below the Milky Way inner disk value. The average non-LTE $\\alpha_{\\rm CO}$ is $2.4{\\pm}0.5$ M $_\\odot$ pc $^{-2}$ (K km s $^{-1}$ ) $^{-1}$ . While both methods show dispersion due to underlying assumptions, the scatter is larger for LTE-derived values. This study underscores the necessity for robust CO line modeling to accurately constrain the molecular ISM's physical and chemical conditions in nearby galaxies.\n",
       "\n",
       "</div>\n",
       "\n",
       "<div id=\"div_fig1\">\n",
       "\n",
       "<img src=\"tmp_2410.21399/./Figures/ratio_1.png\" alt=\"Fig8\" width=\"100%\"/>\n",
       "\n",
       "**Figure 8. -** ** CO Isotopologue Ratio Trends** These panels show the line ratio as a function of galactocentric radius (left), SFR surface density (middle), and FWHM of $^{12}$CO(1-0) (right) panel. Only lines of sight within the NOEMA field-of-view are considered. We show the individual sightlines where both lines have $\\rm S/N{\\ge}5$ as colored points. The small black triangles indicate 5$\\sigma$ upper limits. In addition, the orange line depicts the stacked line ratio trend. We stack all points for which $^{12}$CO(1-0) is significantly detected. The red line in the left panels is the radial trend obtained at low-angular resolution from \\citetalias{denBrok2022}. The red shaded region in the right panels indicates where the FWHM is below two times the channel width of our data (10 km s$^{-1}$). The histograms show the distribution of these significantly detected data points per line ratio. The black line represents the weighted average (weighted by the $^{12}$CO(1-0) intensity) and the dotted lines the weighted 16$^{\\rm th}$-to-84$^{\\rm th}$ percentile range. (*fig:rgal_ratio*)\n",
       "\n",
       "</div>\n",
       "<div id=\"div_fig2\">\n",
       "\n",
       "<img src=\"tmp_2410.21399/./Figures/outine_M51.png\" alt=\"Fig1\" width=\"100%\"/>\n",
       "\n",
       "**Figure 1. -** ** Spatial Coverage of Observations** In this study, we rely on Plateau de Bure Interferometer (PdBI), Northern Extended Millimeter Array (NOEMA), and Submillimeter Array (SMA) observations, each of which covered some extent of the disk of M51. The boxes indicate which lines were observed by each respective program. Background HST image credit: NASA, ESA, S. Beckwith (STScI), and The Hubble Heritage Team (STScI/AURA). (*fig:outline*)\n",
       "\n",
       "</div>\n",
       "<div id=\"div_fig3\">\n",
       "\n",
       "<img src=\"tmp_2410.21399/./Figures/ratio_2.png\" alt=\"Fig9\" width=\"100%\"/>\n",
       "\n",
       "**Figure 9. -** ** CO Isotopologue Ratio Trends (continued).** These panels have the same description as in \\autoref{fig:rgal_ratio}. (*fig:rgal_ratio_2*)\n",
       "\n",
       "</div><div id=\"qrcode\"><img src=https://api.qrserver.com/v1/create-qr-code/?size=100x100&data=\"https://arxiv.org/abs/2410.21399\"></div>"
      ],
      "text/plain": [
       "<IPython.core.display.Markdown object>"
      ]
     },
     "metadata": {},
     "output_type": "display_data"
    },
    {
     "data": {
      "text/markdown": [
       "<div class=\"macros\" style=\"visibility:hidden;\">\n",
       "$\\newcommand{\\ensuremath}{}$\n",
       "$\\newcommand{\\xspace}{}$\n",
       "$\\newcommand{\\object}[1]{\\texttt{#1}}$\n",
       "$\\newcommand{\\farcs}{{.}''}$\n",
       "$\\newcommand{\\farcm}{{.}'}$\n",
       "$\\newcommand{\\arcsec}{''}$\n",
       "$\\newcommand{\\arcmin}{'}$\n",
       "$\\newcommand{\\ion}[2]{#1#2}$\n",
       "$\\newcommand{\\textsc}[1]{\\textrm{#1}}$\n",
       "$\\newcommand{\\hl}[1]{\\textrm{#1}}$\n",
       "$\\newcommand{\\footnote}[1]{}$\n",
       "$\\newcommand{\\kms}{\\ensuremath{\\rm  km s^{-1}}\\xspace}$\n",
       "$\\newcommand{\\masyr}{\\ensuremath{\\rm  mas yr^{-1}}\\xspace}$\n",
       "$\\newcommand{\\kmskpc}{\\ensuremath{\\rm  km s^{-1} kpc^{-1}\\xspace}}$\n",
       "$\\newcommand{\\teff}{\\ensuremath{{T_{\\rm eff}}}\\xspace}$\n",
       "$\\newcommand{\\lum}{\\ensuremath{{L}}\\xspace}$\n",
       "$\\newcommand{\\loglum}{\\ensuremath{\\log\\lum}\\xspace}$\n",
       "$\\newcommand{\\loggrav}{\\ensuremath{\\log g}\\xspace}$\n",
       "$\\newcommand{\\mass}{\\ensuremath{{M}}\\xspace}$\n",
       "$\\newcommand{\\radius}{\\ensuremath{{R}}\\xspace}$\n",
       "$\\newcommand{\\Zabun}{\\ensuremath{{Z}}\\xspace}$\n",
       "$\\newcommand{\\azero}{\\ensuremath{A_0}\\xspace}$\n",
       "$\\newcommand{\\rzero}{\\ensuremath{R_0}\\xspace}$\n",
       "$\\newcommand{\\ebpminrp}{\\ensuremath{E(G_{\\rm BP} - G_{\\rm RP})}\\xspace}$\n",
       "$\\newcommand{\\gmag}{\\ensuremath{G}}$\n",
       "$\\newcommand{\\bpmag}{\\ensuremath{G_\\mathrm{BP}}}$\n",
       "$\\newcommand{\\rpmag}{\\ensuremath{G_\\mathrm{RP}}}$\n",
       "$\\newcommand{\\mg}{M_\\gmag}$\n",
       "$\\newcommand{\\ag}{\\ensuremath{A_G}\\xspace}$\n",
       "$\\newcommand{\\ra}{\\ensuremath{\\alpha}}$\n",
       "$\\newcommand{\\dec}{\\ensuremath{\\delta}}$\n",
       "$\\newcommand{\\parallax}{\\ensuremath{\\varpi}}$\n",
       "$\\newcommand{\\sigparallax}{\\ensuremath{\\sigma_{\\varpi}}}$\n",
       "$\\newcommand{\\parzp}{\\ensuremath{\\varpi_{\\rm zp}}}$\n",
       "$\\newcommand{\\pmra}{\\ensuremath{\\mu_{\\ra\\ast}}}$\n",
       "$\\newcommand{\\pmdec}{\\ensuremath{\\mu_\\dec}}$\n",
       "$\\newcommand{\\propm}{\\ensuremath{\\mu}}$\n",
       "$\\newcommand{\\glon}{\\ensuremath{\\ell}}$\n",
       "$\\newcommand{\\glat}{\\ensuremath{b}}$\n",
       "$\\newcommand{\\mag}{\\ensuremath{ \\mathrm{mag}}\\xspace}$\n",
       "$\\newcommand{\\nm}{\\ensuremath{ \\mathrm{nm}}\\xspace}$\n",
       "$\\newcommand{\\um}{\\ensuremath{ \\mu\\mathrm{m}}\\xspace}$\n",
       "$\\newcommand{\\erg}{\\ensuremath{ \\rm erg}\\xspace}$\n",
       "$\\newcommand{\\ergs}{\\ensuremath{ \\rm erg~s}\\xspace}$\n",
       "$\\newcommand{\\yr}{\\ensuremath{ \\rm yr}\\xspace}$\n",
       "$\\newcommand{\\Myr}{\\ensuremath{ \\rm Myr}\\xspace}$\n",
       "$\\newcommand{\\Gyr}{\\ensuremath{ \\rm Gyr}\\xspace}$\n",
       "$\\newcommand{\\pc}{\\ensuremath{ \\rm pc}\\xspace}$\n",
       "$\\newcommand{\\kpc}{\\ensuremath{ \\rm kpc}\\xspace}$\n",
       "$\\newcommand{\\Mpc}{\\ensuremath{ \\rm Mpc}\\xspace}$\n",
       "$\\newcommand{\\Lsun}{\\ensuremath{ {\\lum}_{\\odot}}\\xspace}$\n",
       "$\\newcommand{\\Msun}{\\ensuremath{ {\\mass}_{\\odot}}\\xspace}$\n",
       "$\\newcommand{\\Rsun}{\\ensuremath{ {\\radius}_{\\odot}}\\xspace}$\n",
       "$\\newcommand{\\Zsun}{\\ensuremath{ {\\Zabun}_{\\odot}}\\xspace}$\n",
       "$\\newcommand{\\ang}{\\ensuremath{ \\text{Å}}\\xspace}$\n",
       "$\\newcommand{\\mas}{\\ensuremath{ \\mathrm{mas}}\\xspace}$\n",
       "$\\newcommand{\\kms}{\\ensuremath{\\textrm{km s}^{-1}}}$\n",
       "$\\newcommand{\\maspyr}{\\ensuremath{\\textrm{mas yr}^{-1}}}$\n",
       "$\\newcommand{\\masyr}{\\ensuremath{\\textrm{mas yr}^{-1}}}$\n",
       "$\\newcommand{\\msun}{\\mass_\\odot}$\n",
       "$\\newcommand{◦ee}{\\ensuremath{^\\circ}}$\n",
       "$\\newcommand{\\rpmag}{\\ensuremath{G_\\mathrm{RP}}}$\n",
       "$\\newcommand$\n",
       "$\\newcommand$\n",
       "$\\newcommand{\\healpix}{{\\sl HEALPix}}$\n",
       "$\\newcommand{\\galaxia}{{\\sl Galaxia}}$\n",
       "$\\newcommand{\\agama}{{\\sl AGAMA}}$\n",
       "$\\newcommand{\\parsec}{{\\sl PARSEC}}$\n",
       "$\\newcommand{\\esagaia}{{\\sl Gaia}}$\n",
       "$\\newcommand$\n",
       "$\\newcommand$\n",
       "$\\newcommand$\n",
       "$\\newcommand$\n",
       "$\\newcommand$\n",
       "$\\newcommand$\n",
       "$\\newcommand$\n",
       "$\\newcommand$\n",
       "$\\newcommand$\n",
       "$\\newcommand$\n",
       "$\\newcommand$\n",
       "$\\newcommand$\n",
       "$\\newcommand$\n",
       "$\\newcommand$\n",
       "$\\newcommand$\n",
       "$\\newcommand$\n",
       "$\\newcommand$\n",
       "$\\newcommand$\n",
       "$\\newcommand$\n",
       "$\\newcommand{\\absg}{M_{G}}$\n",
       "$\\newcommand{\\absw}{M_{W1}}$\n",
       "$\\newcommand{\\gunlim}{\\textit{GaiaUnlimited}}$\n",
       "$\\newcommand{\\absmag}{M_{\\lambda}}$\n",
       "$\\newcommand{\\appmag}{m_{\\lambda}}$\n",
       "$\\newcommand{\\appmaglim}{m_{\\lambda, lim}}$\n",
       "$\\newcommand{\\alambda}{A_{\\lambda}}$\n",
       "$\\newcommand{\\twomass}{\\textit{2MASS}}$\n",
       "$\\newcommand{\\panstars}{\\textit{Pan-STARRS}}$\n",
       "$\\newcommand{\\allwise}{\\textit{AllWISE}}$\n",
       "$\\newcommand{\\wise}{\\textit{WISE}}$\n",
       "$\\newcommand{\\bayestar}{\\textit{Bayestar}}$\n",
       "$\\newcommand{\\gaussian}{\\textit{Gaussian}}$\n",
       "$\\newcommand{\\hi}{\\mbox{H{\\sc i}}}$\n",
       "$\\newcommand{\\los}{l.o.s}$\n",
       "$\\newcommand{\\alfe}{\\ensuremath{[\\mathrm{\\alpha/Fe}]}}$\n",
       "$\\newcommand{\\feh}{\\ensuremath{[\\mathrm{Fe/H}]}}$\n",
       "$\\newcommand{\\dex}{\\ensuremath{ \\mathrm{dex}}}$\n",
       "$\\newcommand{\\logg}{\\mbox{\\log g}}$\n",
       "$\\newcommand{\\kiel}{{\\sl Kiel}}$\n",
       "$\\newcommand{\\corehel}{{\\sc CHeB}}$\n",
       "$\\newcommand{\\jkzero}{(J-K)_{0}}$\n",
       "$\\newcommand{\\clr}{(J-K)_{0}}$\n",
       "$\\newcommand{\\camd}{CaMD}$\n",
       "$\\newcommand{\\cmd}{CMD}$\n",
       "$\\newcommand{\\hpix}{HEALPix}$\n",
       "$\\newcommand{\\AC}{{AC20-\\piepi>3 }}$\n",
       "$\\newcommand{\\ACf}{{AC20-\\piepi>3}}$\n",
       "$\\newcommand{\\bprp}{{ G_\\mathrm{BP} - G_\\mathrm{RP}}}$\n",
       "$\\newcommand{\\grp}{{ G - G_\\mathrm{RP}}}$\n",
       "$\\newcommand{\\gaiaG}{{G}}$\n",
       "$\\newcommand{\\ruwe}{\\textit{RUWE}}$\n",
       "$\\newcommand{\\astromexnoise}{\\textit{astrometric\\_excess\\_noise }}$\n",
       "$\\newcommand{\\visibperiods}{\\textit{visibility\\_periods\\_used }}$\n",
       "$\\newcommand{\\errorovparallax}{\\sigma_{\\varpi}/\\varpi}$\n",
       "$\\newcommand{\\cbj}{{\\sl CBJ21}}$\n",
       "$\\newcommand{\\schlegel}{{\\sl S98}}$\n",
       "$\\newcommand{\\geo}{{d_{\\rm geo}}}$\n",
       "$\\newcommand{\\photogeo}{{d_{\\rm photgeo}}}$\n",
       "$\\newcommand{\\mumaxdust}{\\mu\\_max_{i}}$\n",
       "$\\newcommand{\\fsel}{{F}}$\n",
       "$\\newcommand{\\fseli}{{F_{\\rm i}}}$\n",
       "$\\newcommand{\\fselitop}{{S_{\\rm top, i}}}$\n",
       "$\\newcommand{\\fselisub}{{S_{\\rm sub, i}}}$\n",
       "$\\newcommand{\\rcut}{{R_{\\rm cut}}}$\n",
       "$\\newcommand{\\rdtwo}{{R_{\\rm d2}}}$\n",
       "$\\newcommand{\\rd}{{R_{\\rm d}}}$\n",
       "$\\newcommand{\\hz}{{\\sl h_{z}}}$\n",
       "$\\newcommand{\\hztwo}{{\\sl h_{z2,\\odot}}}$\n",
       "$\\newcommand{\\hzsun}{{\\sl h_{z,\\odot}}}$\n",
       "$\\newcommand{\\logrflare}{{\\log R_{fl}}}$\n",
       "$\\newcommand{\\rflare}{\\ensuremath{R_{\\rm fl}}}$\n",
       "$\\newcommand{\\fdisc}{{\\sl f_{d1}}}$\n",
       "$\\newcommand{\\zwarp}{{z_{\\rm w}}}$\n",
       "$\\newcommand{\\awarp}{{a_{\\rm w}}}$\n",
       "$\\newcommand{\\rwarp}{{R_{\\rm w}}}$\n",
       "$\\newcommand{\\hwarp}{{h_{\\rm w0}}}$\n",
       "$\\newcommand{\\phiwarp}{{\\phi_{\\rm w}}}$\n",
       "$\\newcommand{\\phiprime}{\\phi^{'}}$\n",
       "$\\newcommand{\\rgal}{{\\sl R}}$\n",
       "$\\newcommand{\\zgal}{{\\sl Z_{GC}}}$\n",
       "$\\newcommand{\\xgc}{{\\sl X_{GC}}}$\n",
       "$\\newcommand{\\ygc}{{\\sl Y_{GC}}}$\n",
       "$\\newcommand{\\zgc}{{\\sl Z_{GC}}}$\n",
       "$\\newcommand{\\mir}{{MIR}}$\n",
       "$\\newcommand{\\rdratio}{{\\sl R_{d2}/R_{d1}}}$\n",
       "$\\newcommand{\\hzratio}{{\\sl h_{z2}/h_{z1}}}$\n",
       "$\\newcommand{\\nrproj}{{\\sl N(R|z=0)}}$\n",
       "$\\newcommand{\\nzproj}{{\\sl N(z|R)}}$\n",
       "$\\newcommand{\\nmin}{{N_{\\rm min, i}}}$\n",
       "$\\newcommand{\\lucey}{{L20}}$\n",
       "$\\newcommand{\\jie}{{Yu18}}$\n",
       "$\\newcommand{\\elsworth}{{Els19}}$\n",
       "$\\newcommand{\\andrae}{{A23}}$\n",
       "$\\newcommand{\\orcit}[1]{\\protect\\href{https://orcid.org/#1}{\\protect\\includegraphics[width=8pt]{orcid.png}}}$\n",
       "$\\newcommand$</div>\n",
       "\n",
       "\n",
       "\n",
       "<div id=\"title\">\n",
       "\n",
       "# GaiaUnlimited: The old stellar disc of the Milky Way \\\\as traced by the Red Clump\n",
       "\n",
       "</div>\n",
       "<div id=\"comments\">\n",
       "\n",
       "[![arXiv](https://img.shields.io/badge/arXiv-2410.22036-b31b1b.svg)](https://arxiv.org/abs/2410.22036)<mark>Appeared on: 2024-10-30</mark> -  _27 pages, submitted to A&A_\n",
       "\n",
       "</div>\n",
       "<div id=\"authors\">\n",
       "\n",
       "S. Khanna, et al. -- incl., <mark>T. Cantat-Gaudin</mark>, <mark>M. Fouesneau</mark>, <mark>H.-W. Rix</mark>\n",
       "\n",
       "</div>\n",
       "<div id=\"abstract\">\n",
       "\n",
       "**Abstract:** We present an exploration of the Milky Way's structural parameters using an all-sky sample of $\\rcfull$ (RC) giants to map the stellar density from the inner to the outer parts of the Galactic disc. These evolved giants are considered to be standard candles due to their low intrinsic variance in their absolute luminosities, allowing us to estimate their distances with reasonable confidence. We exploit all-sky photometry from the AllWISE mid-infrared survey and the Gaia survey, along with astrometry from Gaia Data Release 3 and recent 3D extinction maps, to develop a probabilistic scheme in order to select with high confidence $\\rc$ -like stars.Our curated catalogue contains about 10 million sources, for which we estimate photometric distances based on the WISE $W1$ photometry. We then derive the selection function for our sample, which is the combined selection function of sources with both $\\gaia$ and $\\allwise$ photometry.  Using the distances and accounting for the full selection function of our observables, we are able to fit a two-disc, multi-parameter model to constrain the scale height ( $\\hz$ ), scale-length ( $\\rd$ ), flaring, and the relative mass ratios of the two disc components. We illustrate and verify our methodology using mock catalogues of $\\rc$ stars. We find that the $\\rc$ population is best described by a flared thin disc with scale length $\\rd$ = $3.56\\pm0.32$ kpc and scale height at the Sun of $\\hzsun$ = $0.17\\pm0.01$ kpc, and a shorter and thicker disc with $\\rd$ = $2.59\\pm0.11$ kpc, $\\hzsun$ = $0.45\\pm0.11$ kpc, with no flare. The thicker disc constitutes 64 \\% of the $\\rc$ stellar mass beyond 3 kpc, while the thin disk shows evidence of being warped beyond 9 kpc from the Galactic center. The residuals between the predicted number density of RC stars from our axisymmetric model and the measured counts show possible evidence of a two-armed spiral perturbation in the disc of the Milky Way.\n",
       "\n",
       "</div>\n",
       "\n",
       "<div id=\"div_fig1\">\n",
       "\n",
       "<img src=\"tmp_2410.22036/./figures/sf_illus_nodust.png\" alt=\"Fig10\" width=\"100%\"/>\n",
       "\n",
       "**Figure 10. -** Illustration of the selection function projected in $\\phi-$\\rgal  space, for the case without dust at $\\zgal$ =0 kpc (midplane). Panel (a) shows the map of the selection fraction computed using the sub-binning method, panel (b) shows the same for the method without sub-binning, while panel (c) shows the distance to all voxels that are within a distance of $d_{max} < 12.94 $\\kpc$$ of the Sun. Panel (a) also shows the additional voxels that would be missed by assuming the median values of observables ($l,b,G$). In all panels, the location of the Sun is indicated by the black star. (*fig:sf_illus_nodust*)\n",
       "\n",
       "</div>\n",
       "<div id=\"div_fig2\">\n",
       "\n",
       "<img src=\"tmp_2410.22036/./figures/warp_visual_outerbt1.png\" alt=\"Fig19\" width=\"100%\"/>\n",
       "\n",
       "**Figure 19. -** Residuals between the model and data in the $\\phi$,$\\zgal$  projection, same as \\autoref{fig:residuals_phiz_inner} but for the outer disc ($9.5$ kpc$<$\\rgal$<14.5$ kpc). (*fig:residuals_phiz_outer*)\n",
       "\n",
       "</div>\n",
       "<div id=\"div_fig3\">\n",
       "\n",
       "<img src=\"tmp_2410.22036/./figures/residuals_polar_2.png\" alt=\"Fig20.1\" width=\"33%\"/><img src=\"tmp_2410.22036/./figures/residuals_polar_0.png\" alt=\"Fig20.2\" width=\"33%\"/><img src=\"tmp_2410.22036/./figures/residuals_polar_1.png\" alt=\"Fig20.3\" width=\"33%\"/>\n",
       "\n",
       "**Figure 20. -** Relative residual (1-model/data) for Model 2 from \\autoref{tab:bestfitdatamodel}, applied to \\gaiawise{[RC]}, and shown in polar coordinates. The residuals are shown for three slices in $\\zgal$ , above the plane (panel a), in the midplane (panel b), and below the plane (panel c). The 2-arm NIR spiral model from \\cite{Drimmel:2000} is overplotted as black curves. (*fig:residuals_polar*)\n",
       "\n",
       "</div><div id=\"qrcode\"><img src=https://api.qrserver.com/v1/create-qr-code/?size=100x100&data=\"https://arxiv.org/abs/2410.22036\"></div>"
      ],
      "text/plain": [
       "<IPython.core.display.Markdown object>"
      ]
     },
     "metadata": {},
     "output_type": "display_data"
    },
    {
     "data": {
      "text/markdown": [
       "<div class=\"macros\" style=\"visibility:hidden;\">\n",
       "$\\newcommand{\\ensuremath}{}$\n",
       "$\\newcommand{\\xspace}{}$\n",
       "$\\newcommand{\\object}[1]{\\texttt{#1}}$\n",
       "$\\newcommand{\\farcs}{{.}''}$\n",
       "$\\newcommand{\\farcm}{{.}'}$\n",
       "$\\newcommand{\\arcsec}{''}$\n",
       "$\\newcommand{\\arcmin}{'}$\n",
       "$\\newcommand{\\ion}[2]{#1#2}$\n",
       "$\\newcommand{\\textsc}[1]{\\textrm{#1}}$\n",
       "$\\newcommand{\\hl}[1]{\\textrm{#1}}$\n",
       "$\\newcommand{\\footnote}[1]{}$\n",
       "$\\newcommand{\\note}[1]{\\textit{\\textcolor{red}{#1}}}$\n",
       "$\\newcommand{\\mathdash}{ \\text{---} }$\n",
       "$\\newcommand{\\diff}[2]{{\\frac{d{#1}}{d{#2}}}}$\n",
       "$\\newcommand{\\pdiff}[2]{{\\frac{\\partial{#1}}{\\partial{#2}}}}$\n",
       "$\\newcommand{\\vec}[1]{{\\bm{\\mathrm{#1}}}}$</div>\n",
       "\n",
       "\n",
       "\n",
       "<div id=\"title\">\n",
       "\n",
       "# The realm of Aurora. Density distribution of metal-poor giants in the heart of the Galaxy\n",
       "\n",
       "</div>\n",
       "<div id=\"comments\">\n",
       "\n",
       "[![arXiv](https://img.shields.io/badge/arXiv-2410.22250-b31b1b.svg)](https://arxiv.org/abs/2410.22250)<mark>Appeared on: 2024-10-30</mark> -  _Submitted to MNRAS_\n",
       "\n",
       "</div>\n",
       "<div id=\"authors\">\n",
       "\n",
       "E. P. Kurbatov, et al. -- incl., <mark>T. Cantat-Gaudin</mark>, <mark>M. Fouesneau</mark>, <mark>H.-W. Rix</mark>\n",
       "\n",
       "</div>\n",
       "<div id=\"abstract\">\n",
       "\n",
       "**Abstract:** The innermost portions of the Milky Way's stellar halo have avoided scrutiny until recently. The lack of wide-area survey data, made it difficult to reconstruct an uninterrupted view of the density distribution of the metal-poor stars inside the Solar radius. In this study, we utilize red giant branch (RGB) stars from _Gaia_ , with metallicities estimated using spectrophotometry from _Gaia_ Data Release 3. Accounting for _Gaia_ 's selection function, we examine the spatial distribution of metal-poor ( [ M/H ] $<-1.3$ ) RGB stars, from the Galactic center ( $r \\approx 1$ kpc) out to beyond the Solar radius ( $r \\approx 18$ kpc). Our best-fitting single-component cored power-law model shows a vertical flattening of $\\approx 0.5$ and a slope $\\approx -3.4$ , consistent with previous studies. Motivated by the mounting evidence for two distinct stellar populations in the inner halo, we additionally test a range of two-component models. One of the components models the tidal debris from the _Gaia_ Sausage/Enceladus merger, while the other captures the Aurora population -- stars that predate the Galactic disk formation. Our best-fit two-component model suggests that both populations contribute equally around the Solar radius, but Aurora dominates the inner halo with a steeper power-law index of $\\approx -4.5$ , in agreement with the nitrogen-rich star distribution measured by [ and Horta (2021)](https://ui.adsabs.harvard.edu/abs/2021MNRAS.500.5462H) .\n",
       "\n",
       "</div>\n",
       "\n",
       "<div id=\"div_fig1\">\n",
       "\n",
       "<img src=\"tmp_2410.22250/fig/model-radial-flat-sc-0.png\" alt=\"Fig7\" width=\"100%\"/>\n",
       "\n",
       "**Figure 7. -** DPL Aurora \\& SC GS/E model. Radial density profiles for sample (blue line), for Aurora model (dashed orange line), for GS/E model (dashed grey), for sum of the last two (dashed black), and for total density after selections applied (solid black line). Bottom panel shows the relative residuals between the sample and the model after the selections applied: $(\\mathtt{model} - \\mathtt{data}) / (\\mathtt{model} + \\mathtt{data})$. (*fig:model-two-comp-radial*)\n",
       "\n",
       "</div>\n",
       "<div id=\"div_fig2\">\n",
       "\n",
       "<img src=\"tmp_2410.22250/fig/model-flat-sc-summary.png\" alt=\"Fig6\" width=\"100%\"/>\n",
       "\n",
       "**Figure 6. -** A two-component model with DPL Aurora \\& SC GS/E. Similar to Figure \\ref{fig:model-summary-nogse}, this gives  a summary of the best-fit model parameters in various metallicity bins, see \\autoref{tab:summary-dpl}. ** Top left panel:** horizontal (blue) and vertical (red) scales of the model. ** Top right:** Flattening $a/b$. ** Bottom left:** Power-law index of the inner slope.  ** Bottom right:** Estimated stellar mass of the Aurora (orange) and the GS/E (grey) populations. (*fig:model-two-comp-params*)\n",
       "\n",
       "</div>\n",
       "<div id=\"div_fig3\">\n",
       "\n",
       "<img src=\"tmp_2410.22250/fig/data-kinem-all.png\" alt=\"Fig14\" width=\"100%\"/>\n",
       "\n",
       "**Figure 14. -** Orbital properties of the vetted RGB sample in [Andrae, Rix and Chandra (2023)](https://ui.adsabs.harvard.edu/abs/2023ApJS..267....8A). ** Left:** Column-normalized distribution of orbital circularity vs. metallicity. ** Middle:** orbital circularity vs. apocentric distance. ** Right:** energy vs. the vertical component of the angular momentum. In the last two panels, stars are subjected to a metallicity selection $-2.0 < [\\mathrm{M}/\\mathrm{H}] \\leq -1.5$. The approximate locations of two halo populations are marked in colour: the Aurora stars are in blue, and the GS/E stars are in green. The stars likely captured by bar resonances  are shown in magenta. See Section \\ref{sec:sample-selection} for further details. The dotted black line in the right panel shows the boundary  separating the in-situ and accreted populations according to [Belokurov and Kravtsov (2023)](https://ui.adsabs.harvard.edu/abs/2023MNRAS.525.4456B). (*fig:data-kinem-all*)\n",
       "\n",
       "</div><div id=\"qrcode\"><img src=https://api.qrserver.com/v1/create-qr-code/?size=100x100&data=\"https://arxiv.org/abs/2410.22250\"></div>"
      ],
      "text/plain": [
       "<IPython.core.display.Markdown object>"
      ]
     },
     "metadata": {},
     "output_type": "display_data"
    }
   ],
   "source": [
    "[display(Markdown(k[1])) for k in documents];"
   ]
  },
  {
   "cell_type": "markdown",
   "id": "873873a4",
   "metadata": {
    "papermill": {
     "duration": 0.006715,
     "end_time": "2024-10-30T04:14:38.370915",
     "exception": false,
     "start_time": "2024-10-30T04:14:38.364200",
     "status": "completed"
    },
    "tags": []
   },
   "source": [
    "# Create HTML index"
   ]
  },
  {
   "cell_type": "code",
   "execution_count": 10,
   "id": "cf665672",
   "metadata": {
    "execution": {
     "iopub.execute_input": "2024-10-30T04:14:38.385784Z",
     "iopub.status.busy": "2024-10-30T04:14:38.385228Z",
     "iopub.status.idle": "2024-10-30T04:14:38.394145Z",
     "shell.execute_reply": "2024-10-30T04:14:38.393473Z"
    },
    "papermill": {
     "duration": 0.017285,
     "end_time": "2024-10-30T04:14:38.395142",
     "exception": false,
     "start_time": "2024-10-30T04:14:38.377857",
     "status": "completed"
    },
    "tags": []
   },
   "outputs": [
    {
     "name": "stdout",
     "output_type": "stream",
     "text": [
      "235  publications files modified in the last 7 days.\n"
     ]
    }
   ],
   "source": [
    "from datetime import datetime, timedelta, timezone\n",
    "from glob import glob\n",
    "import os\n",
    "\n",
    "files = glob('_build/html/*.md')\n",
    "days = 7\n",
    "now = datetime.today()\n",
    "res = []\n",
    "for fk in files:\n",
    "    stat_result = os.stat(fk).st_ctime\n",
    "    modified = datetime.fromtimestamp(stat_result, tz=timezone.utc).replace(tzinfo=None)\n",
    "    delta = now.today() - modified\n",
    "    if delta <= timedelta(days=days):\n",
    "        res.append((delta.seconds, fk))\n",
    "res = [k[1] for k in reversed(sorted(res, key=lambda x:x[1]))]\n",
    "npub = len(res)\n",
    "print(len(res), f\" publications files modified in the last {days:d} days.\")\n",
    "# [ print('\\t', k) for k in res ];"
   ]
  },
  {
   "cell_type": "code",
   "execution_count": 11,
   "id": "015de740",
   "metadata": {
    "execution": {
     "iopub.execute_input": "2024-10-30T04:14:38.410135Z",
     "iopub.status.busy": "2024-10-30T04:14:38.409542Z",
     "iopub.status.idle": "2024-10-30T04:14:38.425928Z",
     "shell.execute_reply": "2024-10-30T04:14:38.425343Z"
    },
    "papermill": {
     "duration": 0.024814,
     "end_time": "2024-10-30T04:14:38.426866",
     "exception": false,
     "start_time": "2024-10-30T04:14:38.402052",
     "status": "completed"
    },
    "tags": []
   },
   "outputs": [
    {
     "name": "stdout",
     "output_type": "stream",
     "text": [
      "11  publications in the last 7 days.\n"
     ]
    }
   ],
   "source": [
    "import datetime\n",
    "from glob import glob\n",
    "\n",
    "def get_last_n_days(lst, days=1):\n",
    "    \"\"\" Get the documents from the last n days \"\"\"\n",
    "    sorted_lst = sorted(lst, key=lambda x: x[1], reverse=True)\n",
    "    for fname, date in sorted_lst:\n",
    "        if date >= str(datetime.date.today() - datetime.timedelta(days=days)):\n",
    "            yield fname\n",
    "\n",
    "def extract_appearance_dates(lst_file):\n",
    "    dates = []\n",
    "\n",
    "    def get_date(line):\n",
    "        return line\\\n",
    "            .split('Appeared on:')[-1]\\\n",
    "            .split('</mark>')[0].strip()\n",
    "\n",
    "    for fname in lst:\n",
    "        with open(fname, 'r') as f:\n",
    "            found_date = False\n",
    "            for line in f:\n",
    "                if not found_date:\n",
    "                    if \"Appeared on\" in line:\n",
    "                        found_date = True\n",
    "                        dates.append((fname, get_date(line)))\n",
    "                else:\n",
    "                    break\n",
    "    return dates\n",
    "\n",
    "from glob import glob\n",
    "lst = glob('_build/html/*md')\n",
    "days = 7\n",
    "dates = extract_appearance_dates(lst)\n",
    "res = list(get_last_n_days(dates, days))\n",
    "npub = len(res)\n",
    "print(len(res), f\" publications in the last {days:d} days.\")"
   ]
  },
  {
   "cell_type": "code",
   "execution_count": 12,
   "id": "52ca0208",
   "metadata": {
    "execution": {
     "iopub.execute_input": "2024-10-30T04:14:38.441973Z",
     "iopub.status.busy": "2024-10-30T04:14:38.441724Z",
     "iopub.status.idle": "2024-10-30T04:14:38.446981Z",
     "shell.execute_reply": "2024-10-30T04:14:38.446469Z"
    },
    "papermill": {
     "duration": 0.014004,
     "end_time": "2024-10-30T04:14:38.448026",
     "exception": false,
     "start_time": "2024-10-30T04:14:38.434022",
     "status": "completed"
    },
    "scrolled": false,
    "tags": []
   },
   "outputs": [],
   "source": [
    "def create_carousel(npub=4):\n",
    "    \"\"\" Generate the HTML code for a carousel with `npub` slides \"\"\"\n",
    "    carousel = [\"\"\"  <div class=\"carousel\" \"\"\",\n",
    "                \"\"\"       data-flickity='{ \"autoPlay\": 10000, \"adaptiveHeight\": true, \"resize\": true, \"wrapAround\": true, \"pauseAutoPlayOnHover\": true, \"groupCells\": 1 }' id=\"asyncTypeset\">\"\"\"\n",
    "                ]\n",
    "    \n",
    "    item_str = \"\"\"    <div class=\"carousel-cell\"> <div id=\"slide{k}\" class=\"md_view\">Content {k}</div> </div>\"\"\"\n",
    "    for k in range(1, npub + 1):\n",
    "        carousel.append(item_str.format(k=k))\n",
    "    carousel.append(\"  </div>\")\n",
    "    return '\\n'.join(carousel)\n",
    "\n",
    "def create_grid(npub=4):\n",
    "    \"\"\" Generate the HTML code for a flat grid with `npub` slides \"\"\"\n",
    "    grid = [\"\"\"  <div class=\"grid\"> \"\"\",\n",
    "                ]\n",
    "    \n",
    "    item_str = \"\"\"    <div class=\"grid-item\"> <div id=\"slide{k}\" class=\"md_view\">Content {k}</div> </div>\"\"\"\n",
    "    for k in range(1, npub + 1):\n",
    "        grid.append(item_str.format(k=k))\n",
    "    grid.append(\"  </div>\")\n",
    "    return '\\n'.join(grid)"
   ]
  },
  {
   "cell_type": "code",
   "execution_count": 13,
   "id": "a6eac5b6",
   "metadata": {
    "execution": {
     "iopub.execute_input": "2024-10-30T04:14:38.463125Z",
     "iopub.status.busy": "2024-10-30T04:14:38.462652Z",
     "iopub.status.idle": "2024-10-30T04:14:38.467732Z",
     "shell.execute_reply": "2024-10-30T04:14:38.467212Z"
    },
    "papermill": {
     "duration": 0.013621,
     "end_time": "2024-10-30T04:14:38.468705",
     "exception": false,
     "start_time": "2024-10-30T04:14:38.455084",
     "status": "completed"
    },
    "scrolled": false,
    "tags": []
   },
   "outputs": [],
   "source": [
    "carousel = create_carousel(npub)\n",
    "docs = ', '.join(['\"{0:s}\"'.format(k.split('/')[-1]) for k in res])\n",
    "slides = ', '.join([f'\"slide{k}\"' for k in range(1, npub + 1)])\n",
    "\n",
    "with open(\"daily_template.html\", \"r\") as tpl:\n",
    "    page = tpl.read()\n",
    "    page = page.replace(\"{%-- carousel:s --%}\", carousel)\\\n",
    "               .replace(\"{%-- suptitle:s --%}\",  \"7-day archives\" )\\\n",
    "               .replace(\"{%-- docs:s --%}\", docs)\\\n",
    "               .replace(\"{%-- slides:s --%}\", slides)\n",
    "    \n",
    "with open(\"_build/html/index_7days.html\", 'w') as fout:\n",
    "    fout.write(page)"
   ]
  },
  {
   "cell_type": "code",
   "execution_count": 14,
   "id": "adc1a1ec",
   "metadata": {
    "execution": {
     "iopub.execute_input": "2024-10-30T04:14:38.486175Z",
     "iopub.status.busy": "2024-10-30T04:14:38.485712Z",
     "iopub.status.idle": "2024-10-30T04:14:38.492644Z",
     "shell.execute_reply": "2024-10-30T04:14:38.492083Z"
    },
    "papermill": {
     "duration": 0.01731,
     "end_time": "2024-10-30T04:14:38.493633",
     "exception": false,
     "start_time": "2024-10-30T04:14:38.476323",
     "status": "completed"
    },
    "tags": []
   },
   "outputs": [
    {
     "name": "stdout",
     "output_type": "stream",
     "text": [
      "6  publications in the last day.\n"
     ]
    }
   ],
   "source": [
    "# redo for today\n",
    "days = 1\n",
    "res = list(get_last_n_days(dates, days))\n",
    "npub = len(res)\n",
    "print(len(res), f\" publications in the last day.\")\n",
    "\n",
    "carousel = create_carousel(npub)\n",
    "docs = ', '.join(['\"{0:s}\"'.format(k.split('/')[-1]) for k in res])\n",
    "slides = ', '.join([f'\"slide{k}\"' for k in range(1, npub + 1)])\n",
    "\n",
    "with open(\"daily_template.html\", \"r\") as tpl:\n",
    "    page = tpl.read()\n",
    "    page = page.replace(\"{%-- carousel:s --%}\", carousel)\\\n",
    "               .replace(\"{%-- suptitle:s --%}\",  \"Daily\" )\\\n",
    "               .replace(\"{%-- docs:s --%}\", docs)\\\n",
    "               .replace(\"{%-- slides:s --%}\", slides)\n",
    "    \n",
    "# print(carousel, docs, slides)\n",
    "# print(page)\n",
    "with open(\"_build/html/index_daily.html\", 'w') as fout:\n",
    "    fout.write(page)"
   ]
  },
  {
   "cell_type": "code",
   "execution_count": 15,
   "id": "00eece82",
   "metadata": {
    "execution": {
     "iopub.execute_input": "2024-10-30T04:14:38.509023Z",
     "iopub.status.busy": "2024-10-30T04:14:38.508560Z",
     "iopub.status.idle": "2024-10-30T04:14:38.515065Z",
     "shell.execute_reply": "2024-10-30T04:14:38.514532Z"
    },
    "papermill": {
     "duration": 0.015224,
     "end_time": "2024-10-30T04:14:38.516045",
     "exception": false,
     "start_time": "2024-10-30T04:14:38.500821",
     "status": "completed"
    },
    "scrolled": false,
    "tags": []
   },
   "outputs": [
    {
     "name": "stdout",
     "output_type": "stream",
     "text": [
      "6  6 publications selected.\n"
     ]
    }
   ],
   "source": [
    "# Create the flat grid of the last N papers (fixed number regardless of dates)\n",
    "from itertools import islice \n",
    "\n",
    "npub = 6\n",
    "res = [k[0] for k in (islice(reversed(sorted(dates, key=lambda x: x[1])), 6))]\n",
    "print(len(res), f\" {npub} publications selected.\")\n",
    "\n",
    "grid = create_grid(npub)\n",
    "docs = ', '.join(['\"{0:s}\"'.format(k.split('/')[-1]) for k in res])\n",
    "slides = ', '.join([f'\"slide{k}\"' for k in range(1, npub + 1)])\n",
    "\n",
    "with open(\"grid_template.html\", \"r\") as tpl:\n",
    "    page = tpl.read()\n",
    "    page = page.replace(\"{%-- grid-content:s --%}\", grid)\\\n",
    "               .replace(\"{%-- suptitle:s --%}\",  f\"Last {npub:,d} papers\" )\\\n",
    "               .replace(\"{%-- docs:s --%}\", docs)\\\n",
    "               .replace(\"{%-- slides:s --%}\", slides)\n",
    "    \n",
    "# print(grid, docs, slides)\n",
    "# print(page)\n",
    "with open(\"_build/html/index_npub_grid.html\", 'w') as fout:\n",
    "    fout.write(page)"
   ]
  }
 ],
 "metadata": {
  "kernelspec": {
   "display_name": "Python 3 (ipykernel)",
   "language": "python",
   "name": "python3"
  },
  "language_info": {
   "codemirror_mode": {
    "name": "ipython",
    "version": 3
   },
   "file_extension": ".py",
   "mimetype": "text/x-python",
   "name": "python",
   "nbconvert_exporter": "python",
   "pygments_lexer": "ipython3",
   "version": "3.9.20"
  },
  "papermill": {
   "default_parameters": {},
   "duration": 211.516132,
   "end_time": "2024-10-30T04:14:38.840727",
   "environment_variables": {},
   "exception": null,
   "input_path": "MPIA daily digest.ipynb",
   "output_path": "log.ipynb",
   "parameters": {},
   "start_time": "2024-10-30T04:11:07.324595",
   "version": "2.6.0"
  },
  "vscode": {
   "interpreter": {
    "hash": "aee8b7b246df8f9039afb4144a1f6fd8d2ca17a180786b69acc140d282b71a49"
   }
  },
  "widgets": {
   "application/vnd.jupyter.widget-state+json": {
    "state": {
     "03a592a1562d457f8a1d2f84c9627852": {
      "model_module": "@jupyter-widgets/base",
      "model_module_version": "2.0.0",
      "model_name": "LayoutModel",
      "state": {
       "_model_module": "@jupyter-widgets/base",
       "_model_module_version": "2.0.0",
       "_model_name": "LayoutModel",
       "_view_count": null,
       "_view_module": "@jupyter-widgets/base",
       "_view_module_version": "2.0.0",
       "_view_name": "LayoutView",
       "align_content": null,
       "align_items": null,
       "align_self": null,
       "border_bottom": null,
       "border_left": null,
       "border_right": null,
       "border_top": null,
       "bottom": null,
       "display": null,
       "flex": null,
       "flex_flow": null,
       "grid_area": null,
       "grid_auto_columns": null,
       "grid_auto_flow": null,
       "grid_auto_rows": null,
       "grid_column": null,
       "grid_gap": null,
       "grid_row": null,
       "grid_template_areas": null,
       "grid_template_columns": null,
       "grid_template_rows": null,
       "height": null,
       "justify_content": null,
       "justify_items": null,
       "left": null,
       "margin": null,
       "max_height": null,
       "max_width": null,
       "min_height": null,
       "min_width": null,
       "object_fit": null,
       "object_position": null,
       "order": null,
       "overflow": null,
       "padding": null,
       "right": null,
       "top": null,
       "visibility": null,
       "width": null
      }
     },
     "186702a4a0a14488b52373857178fd70": {
      "model_module": "@jupyter-widgets/controls",
      "model_module_version": "2.0.0",
      "model_name": "HTMLModel",
      "state": {
       "_dom_classes": [],
       "_model_module": "@jupyter-widgets/controls",
       "_model_module_version": "2.0.0",
       "_model_name": "HTMLModel",
       "_view_count": null,
       "_view_module": "@jupyter-widgets/controls",
       "_view_module_version": "2.0.0",
       "_view_name": "HTMLView",
       "description": "",
       "description_allow_html": false,
       "layout": "IPY_MODEL_da91aa965e1049568520e3cfb6c2721b",
       "placeholder": "​",
       "style": "IPY_MODEL_dd3edd65be264b519177ecbff9d65b0e",
       "tabbable": null,
       "tooltip": null,
       "value": " 6/6 [03:11&lt;00:00, 32.85s/it]"
      }
     },
     "25a57aafce984fe68472b27dc3793994": {
      "model_module": "@jupyter-widgets/controls",
      "model_module_version": "2.0.0",
      "model_name": "FloatProgressModel",
      "state": {
       "_dom_classes": [],
       "_model_module": "@jupyter-widgets/controls",
       "_model_module_version": "2.0.0",
       "_model_name": "FloatProgressModel",
       "_view_count": null,
       "_view_module": "@jupyter-widgets/controls",
       "_view_module_version": "2.0.0",
       "_view_name": "ProgressView",
       "bar_style": "success",
       "description": "",
       "description_allow_html": false,
       "layout": "IPY_MODEL_52b0d5a8f76546e7bf31148a04e74494",
       "max": 6.0,
       "min": 0.0,
       "orientation": "horizontal",
       "style": "IPY_MODEL_cc39207237544c0984bbc0d5ab707b73",
       "tabbable": null,
       "tooltip": null,
       "value": 6.0
      }
     },
     "4fe4a94b844641fb8a6ec5fdff2ab255": {
      "model_module": "@jupyter-widgets/controls",
      "model_module_version": "2.0.0",
      "model_name": "HBoxModel",
      "state": {
       "_dom_classes": [],
       "_model_module": "@jupyter-widgets/controls",
       "_model_module_version": "2.0.0",
       "_model_name": "HBoxModel",
       "_view_count": null,
       "_view_module": "@jupyter-widgets/controls",
       "_view_module_version": "2.0.0",
       "_view_name": "HBoxView",
       "box_style": "",
       "children": [
        "IPY_MODEL_5ec73fbc6a064defa220c8991ec80125",
        "IPY_MODEL_25a57aafce984fe68472b27dc3793994",
        "IPY_MODEL_186702a4a0a14488b52373857178fd70"
       ],
       "layout": "IPY_MODEL_d49dba820232468eaaa22a1fd9cc1c6d",
       "tabbable": null,
       "tooltip": null
      }
     },
     "52b0d5a8f76546e7bf31148a04e74494": {
      "model_module": "@jupyter-widgets/base",
      "model_module_version": "2.0.0",
      "model_name": "LayoutModel",
      "state": {
       "_model_module": "@jupyter-widgets/base",
       "_model_module_version": "2.0.0",
       "_model_name": "LayoutModel",
       "_view_count": null,
       "_view_module": "@jupyter-widgets/base",
       "_view_module_version": "2.0.0",
       "_view_name": "LayoutView",
       "align_content": null,
       "align_items": null,
       "align_self": null,
       "border_bottom": null,
       "border_left": null,
       "border_right": null,
       "border_top": null,
       "bottom": null,
       "display": null,
       "flex": null,
       "flex_flow": null,
       "grid_area": null,
       "grid_auto_columns": null,
       "grid_auto_flow": null,
       "grid_auto_rows": null,
       "grid_column": null,
       "grid_gap": null,
       "grid_row": null,
       "grid_template_areas": null,
       "grid_template_columns": null,
       "grid_template_rows": null,
       "height": null,
       "justify_content": null,
       "justify_items": null,
       "left": null,
       "margin": null,
       "max_height": null,
       "max_width": null,
       "min_height": null,
       "min_width": null,
       "object_fit": null,
       "object_position": null,
       "order": null,
       "overflow": null,
       "padding": null,
       "right": null,
       "top": null,
       "visibility": null,
       "width": null
      }
     },
     "5ec73fbc6a064defa220c8991ec80125": {
      "model_module": "@jupyter-widgets/controls",
      "model_module_version": "2.0.0",
      "model_name": "HTMLModel",
      "state": {
       "_dom_classes": [],
       "_model_module": "@jupyter-widgets/controls",
       "_model_module_version": "2.0.0",
       "_model_name": "HTMLModel",
       "_view_count": null,
       "_view_module": "@jupyter-widgets/controls",
       "_view_module_version": "2.0.0",
       "_view_name": "HTMLView",
       "description": "",
       "description_allow_html": false,
       "layout": "IPY_MODEL_03a592a1562d457f8a1d2f84c9627852",
       "placeholder": "​",
       "style": "IPY_MODEL_d4dbf7a4c6b94fdead8f2caee3795706",
       "tabbable": null,
       "tooltip": null,
       "value": "100%"
      }
     },
     "cc39207237544c0984bbc0d5ab707b73": {
      "model_module": "@jupyter-widgets/controls",
      "model_module_version": "2.0.0",
      "model_name": "ProgressStyleModel",
      "state": {
       "_model_module": "@jupyter-widgets/controls",
       "_model_module_version": "2.0.0",
       "_model_name": "ProgressStyleModel",
       "_view_count": null,
       "_view_module": "@jupyter-widgets/base",
       "_view_module_version": "2.0.0",
       "_view_name": "StyleView",
       "bar_color": null,
       "description_width": ""
      }
     },
     "d49dba820232468eaaa22a1fd9cc1c6d": {
      "model_module": "@jupyter-widgets/base",
      "model_module_version": "2.0.0",
      "model_name": "LayoutModel",
      "state": {
       "_model_module": "@jupyter-widgets/base",
       "_model_module_version": "2.0.0",
       "_model_name": "LayoutModel",
       "_view_count": null,
       "_view_module": "@jupyter-widgets/base",
       "_view_module_version": "2.0.0",
       "_view_name": "LayoutView",
       "align_content": null,
       "align_items": null,
       "align_self": null,
       "border_bottom": null,
       "border_left": null,
       "border_right": null,
       "border_top": null,
       "bottom": null,
       "display": null,
       "flex": null,
       "flex_flow": null,
       "grid_area": null,
       "grid_auto_columns": null,
       "grid_auto_flow": null,
       "grid_auto_rows": null,
       "grid_column": null,
       "grid_gap": null,
       "grid_row": null,
       "grid_template_areas": null,
       "grid_template_columns": null,
       "grid_template_rows": null,
       "height": null,
       "justify_content": null,
       "justify_items": null,
       "left": null,
       "margin": null,
       "max_height": null,
       "max_width": null,
       "min_height": null,
       "min_width": null,
       "object_fit": null,
       "object_position": null,
       "order": null,
       "overflow": null,
       "padding": null,
       "right": null,
       "top": null,
       "visibility": null,
       "width": null
      }
     },
     "d4dbf7a4c6b94fdead8f2caee3795706": {
      "model_module": "@jupyter-widgets/controls",
      "model_module_version": "2.0.0",
      "model_name": "HTMLStyleModel",
      "state": {
       "_model_module": "@jupyter-widgets/controls",
       "_model_module_version": "2.0.0",
       "_model_name": "HTMLStyleModel",
       "_view_count": null,
       "_view_module": "@jupyter-widgets/base",
       "_view_module_version": "2.0.0",
       "_view_name": "StyleView",
       "background": null,
       "description_width": "",
       "font_size": null,
       "text_color": null
      }
     },
     "da91aa965e1049568520e3cfb6c2721b": {
      "model_module": "@jupyter-widgets/base",
      "model_module_version": "2.0.0",
      "model_name": "LayoutModel",
      "state": {
       "_model_module": "@jupyter-widgets/base",
       "_model_module_version": "2.0.0",
       "_model_name": "LayoutModel",
       "_view_count": null,
       "_view_module": "@jupyter-widgets/base",
       "_view_module_version": "2.0.0",
       "_view_name": "LayoutView",
       "align_content": null,
       "align_items": null,
       "align_self": null,
       "border_bottom": null,
       "border_left": null,
       "border_right": null,
       "border_top": null,
       "bottom": null,
       "display": null,
       "flex": null,
       "flex_flow": null,
       "grid_area": null,
       "grid_auto_columns": null,
       "grid_auto_flow": null,
       "grid_auto_rows": null,
       "grid_column": null,
       "grid_gap": null,
       "grid_row": null,
       "grid_template_areas": null,
       "grid_template_columns": null,
       "grid_template_rows": null,
       "height": null,
       "justify_content": null,
       "justify_items": null,
       "left": null,
       "margin": null,
       "max_height": null,
       "max_width": null,
       "min_height": null,
       "min_width": null,
       "object_fit": null,
       "object_position": null,
       "order": null,
       "overflow": null,
       "padding": null,
       "right": null,
       "top": null,
       "visibility": null,
       "width": null
      }
     },
     "dd3edd65be264b519177ecbff9d65b0e": {
      "model_module": "@jupyter-widgets/controls",
      "model_module_version": "2.0.0",
      "model_name": "HTMLStyleModel",
      "state": {
       "_model_module": "@jupyter-widgets/controls",
       "_model_module_version": "2.0.0",
       "_model_name": "HTMLStyleModel",
       "_view_count": null,
       "_view_module": "@jupyter-widgets/base",
       "_view_module_version": "2.0.0",
       "_view_name": "StyleView",
       "background": null,
       "description_width": "",
       "font_size": null,
       "text_color": null
      }
     }
    },
    "version_major": 2,
    "version_minor": 0
   }
  }
 },
 "nbformat": 4,
 "nbformat_minor": 5
}