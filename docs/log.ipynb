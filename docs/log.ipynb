{
 "cells": [
  {
   "cell_type": "markdown",
   "id": "92bcb855",
   "metadata": {
    "papermill": {
     "duration": 0.003812,
     "end_time": "2025-04-09T04:11:52.373109",
     "exception": false,
     "start_time": "2025-04-09T04:11:52.369297",
     "status": "completed"
    },
    "tags": []
   },
   "source": [
    "# MPIA Arxiv on Deck 2\n",
    "\n",
    "Contains the steps to produce the paper extractions."
   ]
  },
  {
   "cell_type": "code",
   "execution_count": 1,
   "id": "3a0d6e11",
   "metadata": {
    "execution": {
     "iopub.execute_input": "2025-04-09T04:11:52.380334Z",
     "iopub.status.busy": "2025-04-09T04:11:52.379934Z",
     "iopub.status.idle": "2025-04-09T04:11:53.057792Z",
     "shell.execute_reply": "2025-04-09T04:11:53.057081Z"
    },
    "papermill": {
     "duration": 0.682983,
     "end_time": "2025-04-09T04:11:53.059300",
     "exception": false,
     "start_time": "2025-04-09T04:11:52.376317",
     "status": "completed"
    },
    "tags": []
   },
   "outputs": [],
   "source": [
    "# Imports\n",
    "import os\n",
    "from IPython.display import Markdown, display\n",
    "from tqdm.notebook import tqdm\n",
    "import warnings\n",
    "from PIL import Image \n",
    "import re\n",
    "\n",
    "# requires arxiv_on_deck_2\n",
    "\n",
    "from arxiv_on_deck_2.arxiv2 import (get_new_papers, \n",
    "                                    get_paper_from_identifier,\n",
    "                                    retrieve_document_source, \n",
    "                                    get_markdown_badge)\n",
    "from arxiv_on_deck_2 import (latex,\n",
    "                             latex_bib,\n",
    "                             mpia,\n",
    "                             highlight_authors_in_list)\n",
    "\n",
    "# Sometimes images are really big\n",
    "Image.MAX_IMAGE_PIXELS = 1000000000 "
   ]
  },
  {
   "cell_type": "code",
   "execution_count": 2,
   "id": "22aa9d44",
   "metadata": {
    "execution": {
     "iopub.execute_input": "2025-04-09T04:11:53.067093Z",
     "iopub.status.busy": "2025-04-09T04:11:53.066590Z",
     "iopub.status.idle": "2025-04-09T04:11:53.074466Z",
     "shell.execute_reply": "2025-04-09T04:11:53.073963Z"
    },
    "papermill": {
     "duration": 0.012713,
     "end_time": "2025-04-09T04:11:53.075475",
     "exception": false,
     "start_time": "2025-04-09T04:11:53.062762",
     "status": "completed"
    },
    "tags": []
   },
   "outputs": [],
   "source": [
    "# Some useful definitions.\n",
    "\n",
    "class AffiliationWarning(UserWarning):\n",
    "    pass\n",
    "\n",
    "class AffiliationError(RuntimeError):\n",
    "    pass\n",
    "\n",
    "def validation(source: str):\n",
    "    \"\"\"Raises error paper during parsing of source file\n",
    "    \n",
    "    Allows checks before parsing TeX code.\n",
    "    \n",
    "    Raises AffiliationWarning\n",
    "    \"\"\"\n",
    "    check = mpia.affiliation_verifications(source, verbose=True)\n",
    "    if check is not True:\n",
    "        raise AffiliationError(\"mpia.affiliation_verifications: \" + check)\n",
    "\n",
    "        \n",
    "warnings.simplefilter('always', AffiliationWarning)\n",
    "\n",
    "\n",
    "def get_markdown_qrcode(paper_id: str):\n",
    "    \"\"\" Generate a qrcode to the arxiv page using qrserver.com\n",
    "    \n",
    "    :param paper: Arxiv paper\n",
    "    :returns: markdown text\n",
    "    \"\"\"\n",
    "    url = r\"https://api.qrserver.com/v1/create-qr-code/?size=100x100&data=\"\n",
    "    txt = f\"\"\"<img src={url}\"https://arxiv.org/abs/{paper_id}\">\"\"\"\n",
    "    txt = '<div id=\"qrcode\">' + txt + '</div>'\n",
    "    return txt\n",
    "\n",
    "\n",
    "def clean_non_western_encoded_characters_commands(text: str) -> str:\n",
    "    \"\"\" Remove non-western encoded characters from a string\n",
    "    List may need to grow.\n",
    "    \n",
    "    :param text: the text to clean\n",
    "    :return: the cleaned text\n",
    "    \"\"\"\n",
    "    text = re.sub(r\"(\\\\begin{CJK}{UTF8}{gbsn})(.*?)(\\\\end{CJK})\", r\"\\2\", text)\n",
    "    return text\n",
    "\n",
    "\n",
    "def get_initials(name: str) -> str:\n",
    "    \"\"\" Get the short name, e.g., A.-B. FamName\n",
    "    :param name: full name\n",
    "    :returns: initials\n",
    "    \"\"\"\n",
    "    initials = []\n",
    "    # account for non western names often in ()\n",
    "    if '(' in name:\n",
    "        name = clean_non_western_encoded_characters_commands(name)\n",
    "        suffix = re.findall(r\"\\((.*?)\\)\", name)[0]\n",
    "        name = name.replace(f\"({suffix})\", '')\n",
    "    else:\n",
    "        suffix = ''\n",
    "    split = name.split()\n",
    "    for token in split[:-1]:\n",
    "        if '-' in token:\n",
    "            current = '-'.join([k[0] + '.' for k in token.split('-')])\n",
    "        else:\n",
    "            current = token[0] + '.'\n",
    "        initials.append(current)\n",
    "    initials.append(split[-1].strip())\n",
    "    if suffix:\n",
    "        initials.append(f\"({suffix})\")\n",
    "    return ' '.join(initials)"
   ]
  },
  {
   "cell_type": "markdown",
   "id": "14bd6310",
   "metadata": {
    "papermill": {
     "duration": 0.002847,
     "end_time": "2025-04-09T04:11:53.081225",
     "exception": false,
     "start_time": "2025-04-09T04:11:53.078378",
     "status": "completed"
    },
    "tags": []
   },
   "source": [
    "## get list of arxiv paper candidates\n",
    "\n",
    "We use the MPIA mitarbeiter list webpage from mpia.de to get author names\n",
    "We then get all new papers from Arxiv and match authors"
   ]
  },
  {
   "cell_type": "code",
   "execution_count": 3,
   "id": "7ea813a8",
   "metadata": {
    "execution": {
     "iopub.execute_input": "2025-04-09T04:11:53.088131Z",
     "iopub.status.busy": "2025-04-09T04:11:53.087685Z",
     "iopub.status.idle": "2025-04-09T04:12:11.817923Z",
     "shell.execute_reply": "2025-04-09T04:12:11.817238Z"
    },
    "papermill": {
     "duration": 18.735106,
     "end_time": "2025-04-09T04:12:11.819234",
     "exception": false,
     "start_time": "2025-04-09T04:11:53.084128",
     "status": "completed"
    },
    "tags": []
   },
   "outputs": [],
   "source": [
    "# deal with the author list and edge cases of people that cannot be consistent on their name  \n",
    "\n",
    "def filter_non_scientists(name: str) -> bool:\n",
    "    \"\"\" Loose filter on expected authorships\n",
    "\n",
    "    removing IT, administration, technical staff\n",
    "    :param name: name\n",
    "    :returns: False if name is not a scientist\n",
    "    \"\"\"\n",
    "    remove_list = ['Licht', 'Binroth', 'Witzel', 'Jordan',\n",
    "                   'Zähringer', 'Scheerer', 'Hoffmann', 'Düe',\n",
    "                   'Hellmich', 'Enkler-Scharpegge', 'Witte-Nguy',\n",
    "                   'Dehen', 'Beckmann', 'Jager', 'Jäger'\n",
    "                  ]\n",
    "\n",
    "    for k in remove_list:\n",
    "        if k in name:\n",
    "            return False\n",
    "    return True\n",
    "\n",
    "def add_author_to_list(author_list: list) -> list:\n",
    "    \"\"\" Add author to list if not already in list\n",
    "    \n",
    "    :param author: author name\n",
    "    :param author_list: list of authors\n",
    "    :returns: updated list of authors\n",
    "    \"\"\"\n",
    "    add_list = ['T. Henning']\n",
    "\n",
    "    for author in add_list:\n",
    "        if author not in author_list:\n",
    "            author_list.append(author)\n",
    "    return author_list\n",
    "\n",
    "# get list from MPIA website\n",
    "# filter for non-scientists (mpia.get_mpia_mitarbeiter_list() does some filtering)\n",
    "mpia_authors = [k[1] for k in mpia.get_mpia_mitarbeiter_list() if filter_non_scientists(k[1])]\n",
    "# add some missing author because of inconsistencies in their MPIA name and author name on papers\n",
    "mpia_authors = add_author_to_list(mpia_authors)"
   ]
  },
  {
   "cell_type": "code",
   "execution_count": 4,
   "id": "2645e73a",
   "metadata": {
    "execution": {
     "iopub.execute_input": "2025-04-09T04:12:11.826813Z",
     "iopub.status.busy": "2025-04-09T04:12:11.826421Z",
     "iopub.status.idle": "2025-04-09T04:12:12.385110Z",
     "shell.execute_reply": "2025-04-09T04:12:12.384363Z"
    },
    "papermill": {
     "duration": 0.56361,
     "end_time": "2025-04-09T04:12:12.386239",
     "exception": false,
     "start_time": "2025-04-09T04:12:11.822629",
     "status": "completed"
    },
    "tags": []
   },
   "outputs": [
    {
     "name": "stdout",
     "output_type": "stream",
     "text": [
      "F. Walter  ->  F. Walter  |  ['F. Walter']\n",
      "J. Li  ->  J. Li  |  ['J. Li']\n",
      "T. Suhasaria  ->  T. Suhasaria  |  ['T. Suhasaria']\n",
      "Y. Wang  ->  Y. Wang  |  ['Y. Wang']\n"
     ]
    },
    {
     "name": "stdout",
     "output_type": "stream",
     "text": [
      "Arxiv has 68 new papers today\n",
      "          4 with possible author matches\n"
     ]
    }
   ],
   "source": [
    "new_papers = get_new_papers()\n",
    "# add manual references\n",
    "add_paper_refs = []\n",
    "new_papers.extend([get_paper_from_identifier(k) for k in add_paper_refs])\n",
    "\n",
    "def robust_call(fn, value, *args, **kwargs):\n",
    "    try:\n",
    "        return fn(value, *args, **kwargs)\n",
    "    except Exception:\n",
    "        return value\n",
    "\n",
    "candidates = []\n",
    "for paperk in new_papers:\n",
    "    # Check author list with their initials\n",
    "    normed_author_list = [robust_call(mpia.get_initials, k) for k in paperk['authors']]\n",
    "    hl_authors = highlight_authors_in_list(normed_author_list, mpia_authors, verbose=True)\n",
    "    matches = [(hl, orig) for hl, orig in zip(hl_authors, paperk['authors']) if 'mark' in hl]\n",
    "    paperk['authors'] = hl_authors\n",
    "    if matches:\n",
    "        # only select paper if an author matched our list\n",
    "        candidates.append(paperk)\n",
    "print(\"\"\"Arxiv has {0:,d} new papers today\"\"\".format(len(new_papers)))        \n",
    "print(\"\"\"          {0:,d} with possible author matches\"\"\".format(len(candidates)))"
   ]
  },
  {
   "cell_type": "markdown",
   "id": "3543b34a",
   "metadata": {
    "papermill": {
     "duration": 0.003057,
     "end_time": "2025-04-09T04:12:12.392929",
     "exception": false,
     "start_time": "2025-04-09T04:12:12.389872",
     "status": "completed"
    },
    "tags": []
   },
   "source": [
    "# Parse sources and generate relevant outputs\n",
    "\n",
    "From the candidates, we do the following steps:\n",
    "* get their tarball from ArXiv (and extract data)\n",
    "* find the main .tex file: find one with \\documentclass{...} (sometimes it's non trivial)\n",
    "* Check affiliations with :func:`validation`, which uses :func:`mpia.affiliation_verifications`\n",
    "* If passing the affiliations: we parse the .tex source\n",
    "   * inject sub-documents into the main (flatten the main document)\n",
    "   * parse structure, extract information (title, abstract, authors, figures...)\n",
    "   * handles `\\graphicspath` if provided\n",
    "* Generate the .md document."
   ]
  },
  {
   "cell_type": "code",
   "execution_count": 5,
   "id": "9576b79e",
   "metadata": {
    "execution": {
     "iopub.execute_input": "2025-04-09T04:12:12.400197Z",
     "iopub.status.busy": "2025-04-09T04:12:12.399750Z",
     "iopub.status.idle": "2025-04-09T04:13:18.210310Z",
     "shell.execute_reply": "2025-04-09T04:13:18.209566Z"
    },
    "papermill": {
     "duration": 65.815544,
     "end_time": "2025-04-09T04:13:18.211557",
     "exception": false,
     "start_time": "2025-04-09T04:12:12.396013",
     "status": "completed"
    },
    "scrolled": false,
    "tags": []
   },
   "outputs": [
    {
     "data": {
      "application/vnd.jupyter.widget-view+json": {
       "model_id": "969da0ddbe2649aaa264cf1ed5941ed5",
       "version_major": 2,
       "version_minor": 0
      },
      "text/plain": [
       "  0%|          | 0/4 [00:00<?, ?it/s]"
      ]
     },
     "metadata": {},
     "output_type": "display_data"
    },
    {
     "name": "stdout",
     "output_type": "stream",
     "text": [
      "Retrieving document from  https://arxiv.org/e-print/2504.05430\n"
     ]
    },
    {
     "name": "stdout",
     "output_type": "stream",
     "text": [
      "extracting tarball to tmp_2504.05430..."
     ]
    },
    {
     "name": "stdout",
     "output_type": "stream",
     "text": [
      " done.\n"
     ]
    },
    {
     "name": "stdout",
     "output_type": "stream",
     "text": [
      "Found 87 bibliographic references in tmp_2504.05430/output.bbl.\n",
      "Retrieving document from  https://arxiv.org/e-print/2504.05645\n"
     ]
    },
    {
     "name": "stdout",
     "output_type": "stream",
     "text": [
      "extracting tarball to tmp_2504.05645..."
     ]
    },
    {
     "name": "stdout",
     "output_type": "stream",
     "text": [
      " done.\n",
      "Retrieving document from  https://arxiv.org/e-print/2504.06005\n"
     ]
    },
    {
     "name": "stdout",
     "output_type": "stream",
     "text": [
      "extracting tarball to tmp_2504.06005..."
     ]
    },
    {
     "name": "stdout",
     "output_type": "stream",
     "text": [
      " done.\n"
     ]
    },
    {
     "name": "stdout",
     "output_type": "stream",
     "text": [
      "T. Suhasaria  ->  T. Suhasaria  |  ['T. Suhasaria']\n"
     ]
    },
    {
     "name": "stderr",
     "output_type": "stream",
     "text": [
      "/tmp/ipykernel_3241/2822249172.py:52: LatexWarning: 2504.06005 did not run properly\n",
      "list index out of range\n",
      "  warnings.warn(latex.LatexWarning(f\"{paper_id:s} did not run properly\\n\" +\n"
     ]
    },
    {
     "name": "stdout",
     "output_type": "stream",
     "text": [
      "Retrieving document from  https://arxiv.org/e-print/2504.06118\n"
     ]
    },
    {
     "name": "stdout",
     "output_type": "stream",
     "text": [
      "extracting tarball to tmp_2504.06118..."
     ]
    },
    {
     "name": "stdout",
     "output_type": "stream",
     "text": [
      " done.\n"
     ]
    }
   ],
   "source": [
    "documents = []\n",
    "failed = []\n",
    "for paper in tqdm(candidates):\n",
    "    # debug crap\n",
    "    paper['identifier'] = paper['identifier'].lower().replace('arxiv:', '').replace(r'\\n', '').strip()\n",
    "    paper_id = paper['identifier']\n",
    "    \n",
    "    folder = f'tmp_{paper_id}'\n",
    "\n",
    "    try:\n",
    "        if not os.path.isdir(folder):\n",
    "            folder = retrieve_document_source(f\"{paper_id}\", f'tmp_{paper_id}')\n",
    "        \n",
    "        try:\n",
    "            doc = latex.LatexDocument(folder, validation=validation)    \n",
    "        except AffiliationError as affilerror:\n",
    "            msg = f\"ArXiv:{paper_id:s} is not an MPIA paper... \" + str(affilerror)\n",
    "            failed.append((paper, \"affiliation error: \" + str(affilerror) ))\n",
    "            continue\n",
    "        \n",
    "        # Hack because sometimes author parsing does not work well\n",
    "        if (len(doc.authors) != len(paper['authors'])):\n",
    "            doc._authors = paper['authors']\n",
    "        else:\n",
    "            # highlight authors (FIXME: doc.highlight_authors)\n",
    "            # done on arxiv paper already\n",
    "            doc._authors = highlight_authors_in_list(\n",
    "                [get_initials(k) for k in doc.authors], \n",
    "                mpia_authors, verbose=True)\n",
    "        if (doc.abstract) in (None, ''):\n",
    "            doc._abstract = paper['abstract']\n",
    "            \n",
    "        doc.comment = (get_markdown_badge(paper_id) + \n",
    "                       \"<mark>Appeared on: \" + paper['date'] + \"</mark> - \")\n",
    "        if paper['comments']:\n",
    "            doc.comment += \" _\" + paper['comments'] + \"_\"\n",
    "        \n",
    "        full_md = doc.generate_markdown_text()\n",
    "        \n",
    "        full_md += get_markdown_qrcode(paper_id)\n",
    "        \n",
    "        # replace citations\n",
    "        try:\n",
    "            bibdata = latex_bib.LatexBib.from_doc(doc)\n",
    "            full_md = latex_bib.replace_citations(full_md, bibdata)\n",
    "        except Exception as e:\n",
    "            print(\"Issues with the citations\")\n",
    "            print(e)\n",
    "        \n",
    "        documents.append((paper_id, full_md))\n",
    "    except Exception as e:\n",
    "        warnings.warn(latex.LatexWarning(f\"{paper_id:s} did not run properly\\n\" +\n",
    "                                         str(e)\n",
    "                                        ))\n",
    "        failed.append((paper, \"latex error \" + str(e)))"
   ]
  },
  {
   "cell_type": "markdown",
   "id": "2505a25c",
   "metadata": {
    "papermill": {
     "duration": 0.003803,
     "end_time": "2025-04-09T04:13:18.219522",
     "exception": false,
     "start_time": "2025-04-09T04:13:18.215719",
     "status": "completed"
    },
    "tags": []
   },
   "source": [
    "### Export the logs\n",
    "\n",
    "Throughout, we also keep track of the logs per paper. see `logs-{today date}.md` "
   ]
  },
  {
   "cell_type": "code",
   "execution_count": 6,
   "id": "d733828a",
   "metadata": {
    "execution": {
     "iopub.execute_input": "2025-04-09T04:13:18.228956Z",
     "iopub.status.busy": "2025-04-09T04:13:18.228455Z",
     "iopub.status.idle": "2025-04-09T04:13:18.243672Z",
     "shell.execute_reply": "2025-04-09T04:13:18.243061Z"
    },
    "papermill": {
     "duration": 0.021154,
     "end_time": "2025-04-09T04:13:18.244774",
     "exception": false,
     "start_time": "2025-04-09T04:13:18.223620",
     "status": "completed"
    },
    "scrolled": false,
    "tags": []
   },
   "outputs": [
    {
     "data": {
      "text/markdown": [
       "## Successful papers"
      ],
      "text/plain": [
       "<IPython.core.display.Markdown object>"
      ]
     },
     "metadata": {},
     "output_type": "display_data"
    },
    {
     "data": {
      "text/markdown": [
       "\n",
       "|||\n",
       "|---:|:---|\n",
       "| [![arXiv](https://img.shields.io/badge/arXiv-2504.05430-b31b1b.svg)](https://arxiv.org/abs/2504.05430) | **An Investigation of Disk Thickness in M51 from H-alpha, Pa-alpha, and Mid-Infrared Power Spectra**  |\n",
       "|| B. G. Elmegreen, et al. -- incl., <mark>F. Walter</mark> |\n",
       "|*Appeared on*| *2025-04-09*|\n",
       "|*Comments*| *20 pages, 7 figures, accepted by Astrophysical Journal April 5, 2025*|\n",
       "|**Abstract**|            Power spectra (PS) of high-resolution images of M51 (NGC 5194) taken with the Hubble Space Telescope and the James Webb Space Telescope have been examined for evidence of disk thickness in the form of a change in slope between large scales, which map two-dimensional correlated structures, and small scales, which map three-dimensional correlated structures. Such a slope change is observed here in H-alpha, and possibly Pa-alpha, using average PS of azimuthal intensity scans that avoid bright peaks. The physical scale of the slope change occurs at ~120 pc and ~170 pc for these two transitions, respectively. A radial dependence in the shape of the H-alpha PS also suggests that the length scale drops from ~180 pc at 5 kpc, to ~90 pc at 2 kpc, to ~25 pc in the central ~kpc. We interpret these lengths as comparable to the thicknesses of the star-forming disk traced by HII regions. The corresponding emission measure is ~100 times larger than what is expected from the diffuse ionized gas. PS of JWST Mid-IR Instrument (MIRI) images in 8 passbands have more gradual changes in slope, making it difficult to determine a specific value of the thickness for this emission.         |"
      ],
      "text/plain": [
       "[2504.05430] An Investigation of Disk Thickness in M51 from H-alpha, Pa-alpha, and Mid-Infrared Power Spectra\n",
       "\tB. G. Elmegreen, et al. -- incl., <mark>F. Walter</mark>"
      ]
     },
     "metadata": {},
     "output_type": "display_data"
    },
    {
     "data": {
      "text/markdown": [
       "## Failed papers"
      ],
      "text/plain": [
       "<IPython.core.display.Markdown object>"
      ]
     },
     "metadata": {},
     "output_type": "display_data"
    },
    {
     "data": {
      "text/markdown": [
       "\n",
       "|||\n",
       "|---:|:---|\n",
       "| [![arXiv](https://img.shields.io/badge/arXiv-2504.05645-b31b1b.svg)](https://arxiv.org/abs/2504.05645) | **A Study of Multiple Molecular Lines at the 3 mm Band toward Gas Infalling Sources**  |\n",
       "|| Y. Yang, et al. -- incl., <mark>J. Li</mark> |\n",
       "|*Appeared on*| *2025-04-09*|\n",
       "|*Comments*| **|\n",
       "|**Abstract**|            The study of multiple molecular spectral lines in gas infalling sources can provide the physical and chemical properties of these sources and help us estimate their evolutionary stages. We report line detections within the 3 mm band using the FTS wide-sideband mode of the IRAM 30 m telescope toward 20 gas-infalling sources. Using XCLASS, we identify the emission lines of up to 22 molecular species (including a few isotopologues) and one hydrogen radio recombination line in these sources. H$^{13}$CO$^+$, HCO$^+$, HCN, HNC, c-C$_3$H$_2$, and CCH lines are detected in 15 sources. We estimate the rotation temperatures and column densities of these molecular species using the LTE radiative transfer model, and compare the molecular abundances of these sources with those from nine high-mass star-forming regions reported in previous studies and with those from the chemical model. Our results suggest that G012.79-0.20, G012.87-0.22 clump A and B, and G012.96-0.23 clump A may be in the high-mass protostellar object stage, while sources with fewer detected species may be in the earlier evolutionary stage. Additionally, the CCH and c-C$_3$H$_2$ column densities in our sources reveal a linear correlation, with a ratio of N(CCH)/N(c-C$_3$H$_2$) = 89.2$\\pm$5.6, which is higher than the ratios reported in the literature. When considering only sources with lower column densities, this ratio decreases to 29.0$\\pm$6.1, consistent with those of diffuse clouds. Furthermore, a comparison between the N(CCH)/N(c-C$_3$H$_2$) ratio and the sources' physical parameters reveals a correlation, with sources exhibiting higher ratios tending to have higher kinetic temperatures and H$_2$ column densities.         |\n",
       "|<p style=\"color:green\"> **ERROR** </p>| <p style=\"color:green\">affiliation error: mpia.affiliation_verifications: 'Heidelberg' keyword not found.</p> |"
      ],
      "text/plain": [
       "<IPython.core.display.Markdown object>"
      ]
     },
     "metadata": {},
     "output_type": "display_data"
    },
    {
     "data": {
      "text/markdown": [
       "\n",
       "|||\n",
       "|---:|:---|\n",
       "| [![arXiv](https://img.shields.io/badge/arXiv-2504.06118-b31b1b.svg)](https://arxiv.org/abs/2504.06118) | **Dynamical Dark Energy in light of the DESI DR2 Baryonic Acoustic Oscillations Measurements**  |\n",
       "|| G. Gu, et al. -- incl., <mark>Y. Wang</mark> |\n",
       "|*Appeared on*| *2025-04-09*|\n",
       "|*Comments*| *14+9 pages, 5+7 figures*|\n",
       "|**Abstract**|            We investigate whether dark energy deviates from the cosmological constant ($\\Lambda$CDM) by analyzing baryon acoustic oscillation (BAO) measurements from the Data Release 1 (DR1) and Data Release 2 (DR2) of DESI observations, in combination with Type Ia supernovae (SNe) and cosmic microwave background (CMB) distance information. We find that with the larger statistical power and wider redshift coverage of the DR2 dataset the preference for dynamical dark energy does not decrease and remains at approximately the same statistical significance as for DESI~DR1. Employing both a shape-function reconstruction and non-parametric methods with a correlation prior derived from Horndeski theory, we consistently find that the dark energy equation of state $w(z)$ evolves with redshift. While DESI DR1 and DR2 BAO data alone provide modest constraints, combining them with independent SNe samples (PantheonPlus, Union3, and the DES 5-year survey) and a CMB distance prior strengthens the evidence for dynamical dark energy. Bayesian model-selection tests show moderate support for dark energy dynamics when multiple degrees of freedom in $w(z)$ are allowed, pointing to increasing tension with $\\Lambda$CDM at a level of roughly $3\\sigma$ (or more in certain data combinations). Although the methodology adopted in this work is different from those used in companion DESI papers, we find consistent results, demonstrating the complementarity of dark energy studies performed by the DESI collaboration. Although possible systematic effects must be carefully considered, it currently seems implausible that $\\Lambda$CDM will be rescued by future high-precision surveys, such as the complete DESI, Euclid, and next-generation CMB experiments. These results therefore highlight the possibility of new physics driving cosmic acceleration and motivate further investigation into dynamical dark energy models.         |\n",
       "|<p style=\"color:green\"> **ERROR** </p>| <p style=\"color:green\">affiliation error: mpia.affiliation_verifications: 'Heidelberg' keyword not found.</p> |"
      ],
      "text/plain": [
       "<IPython.core.display.Markdown object>"
      ]
     },
     "metadata": {},
     "output_type": "display_data"
    },
    {
     "data": {
      "text/markdown": [
       "\n",
       "|||\n",
       "|---:|:---|\n",
       "| [![arXiv](https://img.shields.io/badge/arXiv-2504.06005-b31b1b.svg)](https://arxiv.org/abs/2504.06005) | **A deep search for Complex Organic Molecules toward the protoplanetary disk of V883 Ori**  |\n",
       "|| A. M. A. Fadul, et al. -- incl., <mark>T. Suhasaria</mark> |\n",
       "|*Appeared on*| *2025-04-09*|\n",
       "|*Comments*| *42 pages, 27 figures, accepted for publication in Astronomical Journal (AJ)*|\n",
       "|**Abstract**|            Complex Organic Molecules (COMs) in the form of prebiotic molecules are potentially building blocks of life. Using Atacama Large Millimeter/submillimeter Array (ALMA) Band 7 observations in spectral scanning mode, we carried out a deep search for COMs within the disk of V883 Ori, covering frequency ranges of $\\sim$ 348 - 366 GHz. V883 Ori is an FUor object currently undergoing an accretion burst, which increases its luminosity and consequently increases the temperature of the surrounding protoplanetary disk, facilitating the detection of COMs in the gas phase. We identified 26 molecules, including 14 COMs and 12 other molecules, with first detection in this source of the molecules: CH3OD, H2C17O, and H213CO. We searched for multiple nitrogen-bearing COMs, as CH3CN had been the only nitrogen-bearing COM that has been identified so far in this source. We also detected CH3CN, and tentatively detect CH3CH2CN, CH2CHCN, CH3OCN, CH3NCO, and NH2CHO. We compared the abundances relative to CH3OH with those in the handful of objects with previous detections of these species: the Class 0 protostars IRAS 16293-2422 A, IRAS 16293-2422 B and B1-c, the high-mass star-forming region Sagittarius B2 (North), the Solar System comet 67P/Churyumov-Gerasimenko, and the protoplanetary disk of Oph-IRS 48. We report $\\sim$ 1 to 3 orders of magnitude higher abundances compared to Class 0 protostars and $\\sim$ 1 to 3 orders of magnitude lower abundances compared to the protoplanetary disk, Sagittarius B2 (North), and 67P/C-G. These results indicate that the protoplanetary disk phase could contribute to build up of COMs.         |\n",
       "|<p style=\"color:red\"> **ERROR** </p>| <p style=\"color:red\">latex error list index out of range</p> |"
      ],
      "text/plain": [
       "<IPython.core.display.Markdown object>"
      ]
     },
     "metadata": {},
     "output_type": "display_data"
    }
   ],
   "source": [
    "import datetime\n",
    "today = str(datetime.date.today())\n",
    "logfile = f\"_build/html/logs/log-{today}.md\"\n",
    "\n",
    "\n",
    "with open(logfile, 'w') as logs:\n",
    "    # Success\n",
    "    logs.write(f'# Arxiv on Deck 2: Logs - {today}\\n\\n')\n",
    "    logs.write(\"\"\"* Arxiv had {0:,d} new papers\\n\"\"\".format(len(new_papers)))\n",
    "    logs.write(\"\"\"    * {0:,d} with possible author matches\\n\\n\"\"\".format(len(candidates)))\n",
    "    logs.write(\"## Sucessful papers\\n\\n\")\n",
    "    display(Markdown(\"## Successful papers\"))\n",
    "    success = [k[0] for k in documents]\n",
    "    for candid in candidates:\n",
    "        if candid['identifier'].split(':')[-1] in success:\n",
    "            display(candid)\n",
    "            logs.write(candid.generate_markdown_text() + '\\n\\n')\n",
    "\n",
    "    ## failed\n",
    "    logs.write(\"## Failed papers\\n\\n\")\n",
    "    display(Markdown(\"## Failed papers\"))\n",
    "    failed = sorted(failed, key=lambda x: x[1])\n",
    "    current_reason = \"\"\n",
    "    for paper, reason in failed:\n",
    "        if 'affiliation' in reason:\n",
    "            color = 'green'\n",
    "        else:\n",
    "            color = 'red'\n",
    "        data = Markdown(\n",
    "                paper.generate_markdown_text() + \n",
    "                f'\\n|<p style=\"color:{color:s}\"> **ERROR** </p>| <p style=\"color:{color:s}\">{reason:s}</p> |'\n",
    "               )\n",
    "        if reason != current_reason:\n",
    "            logs.write(f'### {reason:s} \\n\\n')\n",
    "            current_reason = reason\n",
    "        logs.write(data.data + '\\n\\n')\n",
    "        \n",
    "        # only display here the important errors (all in logs)\n",
    "        # if color in ('red',):\n",
    "        display(data)"
   ]
  },
  {
   "cell_type": "markdown",
   "id": "472d20ee",
   "metadata": {
    "papermill": {
     "duration": 0.004425,
     "end_time": "2025-04-09T04:13:18.253684",
     "exception": false,
     "start_time": "2025-04-09T04:13:18.249259",
     "status": "completed"
    },
    "tags": []
   },
   "source": [
    "## Export documents\n",
    "\n",
    "We now write the .md files and export relevant images"
   ]
  },
  {
   "cell_type": "code",
   "execution_count": 7,
   "id": "d426aed9",
   "metadata": {
    "execution": {
     "iopub.execute_input": "2025-04-09T04:13:18.263596Z",
     "iopub.status.busy": "2025-04-09T04:13:18.263168Z",
     "iopub.status.idle": "2025-04-09T04:13:18.270409Z",
     "shell.execute_reply": "2025-04-09T04:13:18.269879Z"
    },
    "papermill": {
     "duration": 0.013165,
     "end_time": "2025-04-09T04:13:18.271350",
     "exception": false,
     "start_time": "2025-04-09T04:13:18.258185",
     "status": "completed"
    },
    "tags": []
   },
   "outputs": [],
   "source": [
    "def export_markdown_summary(md: str, md_fname:str, directory: str):\n",
    "    \"\"\"Export MD document and associated relevant images\"\"\"\n",
    "    import os\n",
    "    import shutil\n",
    "    import re\n",
    "\n",
    "    if (os.path.exists(directory) and not os.path.isdir(directory)):\n",
    "        raise RuntimeError(f\"a non-directory file exists with name {directory:s}\")\n",
    "\n",
    "    if (not os.path.exists(directory)):\n",
    "        print(f\"creating directory {directory:s}\")\n",
    "        os.mkdir(directory)\n",
    "\n",
    "    fig_fnames = (re.compile(r'\\[Fig.*\\]\\((.*)\\)').findall(md) + \n",
    "                  re.compile(r'\\<img src=\"([^>\\s]*)\"[^>]*/>').findall(md))\n",
    "    print(\"found figures\", fig_fnames)\n",
    "    for fname in fig_fnames:\n",
    "        if 'http' in fname:\n",
    "            # No need to copy online figures\n",
    "            continue\n",
    "        if not os.path.exists(fname):\n",
    "            print(\"file not found\", fname)\n",
    "            continue\n",
    "        print(\"copying \", fname, \"to\", directory)\n",
    "        destdir = os.path.join(directory, os.path.dirname(fname))\n",
    "        destfname = os.path.join(destdir, os.path.basename(fname))\n",
    "        try:\n",
    "            os.makedirs(destdir)\n",
    "        except FileExistsError:\n",
    "            pass\n",
    "        shutil.copy(fname, destfname)\n",
    "    with open(os.path.join(directory, md_fname), 'w') as fout:\n",
    "        fout.write(md)\n",
    "    print(\"exported in \", os.path.join(directory, md_fname))\n",
    "    [print(\"    + \" + os.path.join(directory,fk)) for fk in fig_fnames]"
   ]
  },
  {
   "cell_type": "code",
   "execution_count": 8,
   "id": "014d04a4",
   "metadata": {
    "execution": {
     "iopub.execute_input": "2025-04-09T04:13:18.281187Z",
     "iopub.status.busy": "2025-04-09T04:13:18.280752Z",
     "iopub.status.idle": "2025-04-09T04:13:18.286287Z",
     "shell.execute_reply": "2025-04-09T04:13:18.285718Z"
    },
    "papermill": {
     "duration": 0.011505,
     "end_time": "2025-04-09T04:13:18.287317",
     "exception": false,
     "start_time": "2025-04-09T04:13:18.275812",
     "status": "completed"
    },
    "tags": []
   },
   "outputs": [
    {
     "name": "stdout",
     "output_type": "stream",
     "text": [
      "found figures ['tmp_2504.05430/./feast_m51circle_dr3_cut_ha_pa_miri_slope_deriv_3panels.jpg', 'tmp_2504.05430/./m51_ha_eight_circles_dr3_screenshot_with_200pc_littlecircle.jpg', 'tmp_2504.05430/./m51_ha_four_circles_dr3_screenshot.jpg', 'tmp_2504.05430/./feast_m51_ha_circle_dr3_3_and_4.jpg']\n",
      "copying  tmp_2504.05430/./feast_m51circle_dr3_cut_ha_pa_miri_slope_deriv_3panels.jpg to _build/html/\n",
      "copying  tmp_2504.05430/./m51_ha_eight_circles_dr3_screenshot_with_200pc_littlecircle.jpg to _build/html/\n",
      "copying  tmp_2504.05430/./m51_ha_four_circles_dr3_screenshot.jpg to _build/html/\n",
      "copying  tmp_2504.05430/./feast_m51_ha_circle_dr3_3_and_4.jpg to _build/html/\n",
      "exported in  _build/html/2504.05430.md\n",
      "    + _build/html/tmp_2504.05430/./feast_m51circle_dr3_cut_ha_pa_miri_slope_deriv_3panels.jpg\n",
      "    + _build/html/tmp_2504.05430/./m51_ha_eight_circles_dr3_screenshot_with_200pc_littlecircle.jpg\n",
      "    + _build/html/tmp_2504.05430/./m51_ha_four_circles_dr3_screenshot.jpg\n",
      "    + _build/html/tmp_2504.05430/./feast_m51_ha_circle_dr3_3_and_4.jpg\n"
     ]
    }
   ],
   "source": [
    "for paper_id, md in documents:\n",
    "    export_markdown_summary(md, f\"{paper_id:s}.md\", '_build/html/')"
   ]
  },
  {
   "cell_type": "markdown",
   "id": "f087a0a7",
   "metadata": {
    "papermill": {
     "duration": 0.004537,
     "end_time": "2025-04-09T04:13:18.296607",
     "exception": false,
     "start_time": "2025-04-09T04:13:18.292070",
     "status": "completed"
    },
    "tags": []
   },
   "source": [
    "## Display the papers\n",
    "\n",
    "Not necessary but allows for a quick check."
   ]
  },
  {
   "cell_type": "code",
   "execution_count": 9,
   "id": "fd25f625",
   "metadata": {
    "execution": {
     "iopub.execute_input": "2025-04-09T04:13:18.306628Z",
     "iopub.status.busy": "2025-04-09T04:13:18.306235Z",
     "iopub.status.idle": "2025-04-09T04:13:18.310986Z",
     "shell.execute_reply": "2025-04-09T04:13:18.310467Z"
    },
    "papermill": {
     "duration": 0.010845,
     "end_time": "2025-04-09T04:13:18.311924",
     "exception": false,
     "start_time": "2025-04-09T04:13:18.301079",
     "status": "completed"
    },
    "scrolled": false,
    "tags": []
   },
   "outputs": [
    {
     "data": {
      "text/markdown": [
       "<div class=\"macros\" style=\"visibility:hidden;\">\n",
       "$\\newcommand{\\ensuremath}{}$\n",
       "$\\newcommand{\\xspace}{}$\n",
       "$\\newcommand{\\object}[1]{\\texttt{#1}}$\n",
       "$\\newcommand{\\farcs}{{.}''}$\n",
       "$\\newcommand{\\farcm}{{.}'}$\n",
       "$\\newcommand{\\arcsec}{''}$\n",
       "$\\newcommand{\\arcmin}{'}$\n",
       "$\\newcommand{\\ion}[2]{#1#2}$\n",
       "$\\newcommand{\\textsc}[1]{\\textrm{#1}}$\n",
       "$\\newcommand{\\hl}[1]{\\textrm{#1}}$\n",
       "$\\newcommand{\\footnote}[1]{}$\n",
       "$\\newcommand{\\vdag}{(v)^\\dagger}$\n",
       "$\\newcommand$\n",
       "$\\newcommand$</div>\n",
       "\n",
       "\n",
       "\n",
       "<div id=\"title\">\n",
       "\n",
       "# An Investigation of Disk Thickness in M51 from H$\\alpha$, Pa$\\alpha$, and Mid-Infrared Power Spectra\n",
       "\n",
       "</div>\n",
       "<div id=\"comments\">\n",
       "\n",
       "[![arXiv](https://img.shields.io/badge/arXiv-2504.05430-b31b1b.svg)](https://arxiv.org/abs/2504.05430)<mark>Appeared on: 2025-04-09</mark> -  _20 pages, 7 figures, accepted by Astrophysical Journal April 5, 2025_\n",
       "\n",
       "</div>\n",
       "<div id=\"authors\">\n",
       "\n",
       "B. G. Elmegreen, et al. -- incl., <mark>F. Walter</mark>\n",
       "\n",
       "</div>\n",
       "<div id=\"abstract\">\n",
       "\n",
       "**Abstract:** Power spectra (PS) of high-resolution images of M51 (NGC 5194) taken with the Hubble Space Telescope and the James Webb Space Telescope have been examined for evidence of disk thickness in the form of a change in slope between large scales, which map two-dimensional correlated structures, and small scales, which map three-dimensional correlated structures. Such a slope change is observed here in H $\\alpha$ , and possibly Pa $\\alpha$ , using average PS of azimuthal intensity scans that avoid bright peaks.  The physical scale of the slope change occurs at $\\sim120$ pc and $\\sim170$ pc for these two transitions, respectively.  A radial dependence in the shape of the H $\\alpha$ PS also suggests that the length scale drops from $\\sim180$ pc at 5 kpc, to $\\sim90$ pc at 2 kpc, to $\\sim25$ pc in the central $\\sim$ kpc. We interpret these lengths as comparable to the thicknesses of the star-forming disk traced by HII regions.  The corresponding emission measure is $\\sim100$ times larger than what is expected from the diffuse ionized gas. PS of JWST Mid-IR Instrument (MIRI) images in 8 passbands have more gradual changes in slope, making it difficult to determine a specific value of the thickness for this emission.\n",
       "\n",
       "</div>\n",
       "\n",
       "<div id=\"div_fig1\">\n",
       "\n",
       "<img src=\"tmp_2504.05430/./feast_m51circle_dr3_cut_ha_pa_miri_slope_deriv_3panels.jpg\" alt=\"Fig4\" width=\"100%\"/>\n",
       "\n",
       "**Figure 4. -** PS (top) and their running slopes (bottom) for H$\\alpha$(left), Pa$\\alpha$(middle), and eight mid-infrared passbands (right). The curves are shifted upward for clarity with slope zero-levels in the bottom panels indicated by circles.  For H$\\alpha$ and Pa$\\alpha$, the top curves in each panel have the lowest intensity limits and the smallest numbers of scans in the average PS, and the bottom curves in each panel have all the scans, excluding only those with negative intensity peaks. The 8 PS on the right correspond to the 8 near-infrared bands, as labeled in the bottom panel; each is from an average of the PS with the lowest intensity peaks.  A slight break at a size of $1/k\\sim120$ pc is visible in the top three H$\\alpha$ PS (at the vertical black line). A weaker break at $\\sim170$ pc is in some of the Pa$\\alpha$ PS. The mid-infrared PS on the right have a more gradual change in slope; there is no obvious break but a vertical line shows 100 pc. The running slopes in the bottom panels show sudden changes at the positions of the PS breaks. The horizontal black lines are least-square fits to the PS slopes at wavenumbers below the suggested breaks and at wavenumbers above the breaks and up to the value of $k/k_0$ corresponding to 5 times the FWHM of the PSF. The mid-infrared passbands on the right have little or no span of PS from the fiducial scale of 100 pc to the PSF. The cyan curve in the top left panel is the PS of an H$\\alpha$ intensity scans with a bright point-like source.  Radial ranges for the PS are indicated in the top panel.\n",
       " (*fig:derivatives*)\n",
       "\n",
       "</div>\n",
       "<div id=\"div_fig2\">\n",
       "\n",
       "<img src=\"tmp_2504.05430/./m51_ha_eight_circles_dr3_screenshot_with_200pc_littlecircle.jpg\" alt=\"Fig1.1\" width=\"50%\"/><img src=\"tmp_2504.05430/./m51_ha_four_circles_dr3_screenshot.jpg\" alt=\"Fig1.2\" width=\"50%\"/>\n",
       "\n",
       "**Figure 1. -** (Left:) Image of M51 in H$\\alpha$ with concentric circles at sample radii of azimuthal intensity scans used to derive the PS. The circles are spaced by 600 pixels, which is 200 scans, $24^{\\prime\\prime}$, or 872 pc. A small circle midway between the 4th and 5th annuli below the center has a diameter corresponding to 200 pc. (Right:) H$\\alpha$ with circles at $16^{\\prime\\prime}$, $35^{\\prime\\prime}$, $80^{\\prime\\prime}$, and $180^{\\prime\\prime}$ used to determine the radial intervals for separate evaluations of thickness. The images are plotted as log of the intensity. The scale bar indicates 1 kpc.\n",
       " (*fig:hacircles*)\n",
       "\n",
       "</div>\n",
       "<div id=\"div_fig3\">\n",
       "\n",
       "<img src=\"tmp_2504.05430/./feast_m51_ha_circle_dr3_3_and_4.jpg\" alt=\"Fig3\" width=\"100%\"/>\n",
       "\n",
       "**Figure 3. -** Left: H$\\alpha$ Intensity scans (with the indicated interval in units of $10^{-13}$ erg s$^{-1}$ cm$^{-2}$ arcsec$^{-2}$, top) and power spectra (in the square of these units, bottom) corresponding approximately to the positions of the circles in Fig. \\ref{fig:hacircles}. Both are shifted vertically by arbitrary amounts for clarity.  The intensity ordinate is a linear scale with one unit shown; factors of 2 and 20 compressions are used for the 2nd and 3rd scans up from the bottom.  The PS ordinate shows the 10 unit scale, which means the PS covers a range of $10^{10}$ in that interval. The lengths of the scans increase with radius. Right: Intensity scans (top) and PS (bottom) also corresponding to radii near the circles in Fig. \\ref{fig:hacircles}, but chosen to avoid strong sources. The PS in the lower left are irregular. For example, they are flat at low $\\log k/k_0$ when there are exceptionally strong sources in the scans. When there are no strong sources, the PS (lower right) are more uniform and may be averaged to give a better composite PS.\n",
       " (*fig:intensity*)\n",
       "\n",
       "</div><div id=\"qrcode\"><img src=https://api.qrserver.com/v1/create-qr-code/?size=100x100&data=\"https://arxiv.org/abs/2504.05430\"></div>"
      ],
      "text/plain": [
       "<IPython.core.display.Markdown object>"
      ]
     },
     "metadata": {},
     "output_type": "display_data"
    }
   ],
   "source": [
    "[display(Markdown(k[1])) for k in documents];"
   ]
  },
  {
   "cell_type": "markdown",
   "id": "873873a4",
   "metadata": {
    "papermill": {
     "duration": 0.004645,
     "end_time": "2025-04-09T04:13:18.321487",
     "exception": false,
     "start_time": "2025-04-09T04:13:18.316842",
     "status": "completed"
    },
    "tags": []
   },
   "source": [
    "# Create HTML index"
   ]
  },
  {
   "cell_type": "code",
   "execution_count": 10,
   "id": "cf665672",
   "metadata": {
    "execution": {
     "iopub.execute_input": "2025-04-09T04:13:18.332099Z",
     "iopub.status.busy": "2025-04-09T04:13:18.331366Z",
     "iopub.status.idle": "2025-04-09T04:13:18.341622Z",
     "shell.execute_reply": "2025-04-09T04:13:18.341038Z"
    },
    "papermill": {
     "duration": 0.016472,
     "end_time": "2025-04-09T04:13:18.342625",
     "exception": false,
     "start_time": "2025-04-09T04:13:18.326153",
     "status": "completed"
    },
    "tags": []
   },
   "outputs": [
    {
     "name": "stdout",
     "output_type": "stream",
     "text": [
      "432  publications files modified in the last 7 days.\n"
     ]
    }
   ],
   "source": [
    "from datetime import datetime, timedelta, timezone\n",
    "from glob import glob\n",
    "import os\n",
    "\n",
    "files = glob('_build/html/*.md')\n",
    "days = 7\n",
    "now = datetime.today()\n",
    "res = []\n",
    "for fk in files:\n",
    "    stat_result = os.stat(fk).st_ctime\n",
    "    modified = datetime.fromtimestamp(stat_result, tz=timezone.utc).replace(tzinfo=None)\n",
    "    delta = now.today() - modified\n",
    "    if delta <= timedelta(days=days):\n",
    "        res.append((delta.seconds, fk))\n",
    "res = [k[1] for k in reversed(sorted(res, key=lambda x:x[1]))]\n",
    "npub = len(res)\n",
    "print(len(res), f\" publications files modified in the last {days:d} days.\")\n",
    "# [ print('\\t', k) for k in res ];"
   ]
  },
  {
   "cell_type": "code",
   "execution_count": 11,
   "id": "015de740",
   "metadata": {
    "execution": {
     "iopub.execute_input": "2025-04-09T04:13:18.353516Z",
     "iopub.status.busy": "2025-04-09T04:13:18.353109Z",
     "iopub.status.idle": "2025-04-09T04:13:18.375759Z",
     "shell.execute_reply": "2025-04-09T04:13:18.375117Z"
    },
    "papermill": {
     "duration": 0.029159,
     "end_time": "2025-04-09T04:13:18.376916",
     "exception": false,
     "start_time": "2025-04-09T04:13:18.347757",
     "status": "completed"
    },
    "tags": []
   },
   "outputs": [
    {
     "name": "stdout",
     "output_type": "stream",
     "text": [
      "14  publications in the last 7 days.\n"
     ]
    }
   ],
   "source": [
    "import datetime\n",
    "from glob import glob\n",
    "\n",
    "def get_last_n_days(lst, days=1):\n",
    "    \"\"\" Get the documents from the last n days \"\"\"\n",
    "    sorted_lst = sorted(lst, key=lambda x: x[1], reverse=True)\n",
    "    for fname, date in sorted_lst:\n",
    "        if date >= str(datetime.date.today() - datetime.timedelta(days=days)):\n",
    "            yield fname\n",
    "\n",
    "def extract_appearance_dates(lst_file):\n",
    "    dates = []\n",
    "\n",
    "    def get_date(line):\n",
    "        return line\\\n",
    "            .split('Appeared on:')[-1]\\\n",
    "            .split('</mark>')[0].strip()\n",
    "\n",
    "    for fname in lst:\n",
    "        with open(fname, 'r') as f:\n",
    "            found_date = False\n",
    "            for line in f:\n",
    "                if not found_date:\n",
    "                    if \"Appeared on\" in line:\n",
    "                        found_date = True\n",
    "                        dates.append((fname, get_date(line)))\n",
    "                else:\n",
    "                    break\n",
    "    return dates\n",
    "\n",
    "from glob import glob\n",
    "lst = glob('_build/html/*md')\n",
    "days = 7\n",
    "dates = extract_appearance_dates(lst)\n",
    "res = list(get_last_n_days(dates, days))\n",
    "npub = len(res)\n",
    "print(len(res), f\" publications in the last {days:d} days.\")"
   ]
  },
  {
   "cell_type": "code",
   "execution_count": 12,
   "id": "52ca0208",
   "metadata": {
    "execution": {
     "iopub.execute_input": "2025-04-09T04:13:18.387934Z",
     "iopub.status.busy": "2025-04-09T04:13:18.387395Z",
     "iopub.status.idle": "2025-04-09T04:13:18.392402Z",
     "shell.execute_reply": "2025-04-09T04:13:18.391905Z"
    },
    "papermill": {
     "duration": 0.011381,
     "end_time": "2025-04-09T04:13:18.393410",
     "exception": false,
     "start_time": "2025-04-09T04:13:18.382029",
     "status": "completed"
    },
    "scrolled": false,
    "tags": []
   },
   "outputs": [],
   "source": [
    "def create_carousel(npub=4):\n",
    "    \"\"\" Generate the HTML code for a carousel with `npub` slides \"\"\"\n",
    "    carousel = [\"\"\"  <div class=\"carousel\" \"\"\",\n",
    "                \"\"\"       data-flickity='{ \"autoPlay\": 10000, \"adaptiveHeight\": true, \"resize\": true, \"wrapAround\": true, \"pauseAutoPlayOnHover\": true, \"groupCells\": 1 }' id=\"asyncTypeset\">\"\"\"\n",
    "                ]\n",
    "    \n",
    "    item_str = \"\"\"    <div class=\"carousel-cell\"> <div id=\"slide{k}\" class=\"md_view\">Content {k}</div> </div>\"\"\"\n",
    "    for k in range(1, npub + 1):\n",
    "        carousel.append(item_str.format(k=k))\n",
    "    carousel.append(\"  </div>\")\n",
    "    return '\\n'.join(carousel)\n",
    "\n",
    "def create_grid(npub=4):\n",
    "    \"\"\" Generate the HTML code for a flat grid with `npub` slides \"\"\"\n",
    "    grid = [\"\"\"  <div class=\"grid\"> \"\"\",\n",
    "                ]\n",
    "    \n",
    "    item_str = \"\"\"    <div class=\"grid-item\"> <div id=\"slide{k}\" class=\"md_view\">Content {k}</div> </div>\"\"\"\n",
    "    for k in range(1, npub + 1):\n",
    "        grid.append(item_str.format(k=k))\n",
    "    grid.append(\"  </div>\")\n",
    "    return '\\n'.join(grid)"
   ]
  },
  {
   "cell_type": "code",
   "execution_count": 13,
   "id": "a6eac5b6",
   "metadata": {
    "execution": {
     "iopub.execute_input": "2025-04-09T04:13:18.405151Z",
     "iopub.status.busy": "2025-04-09T04:13:18.404428Z",
     "iopub.status.idle": "2025-04-09T04:13:18.409999Z",
     "shell.execute_reply": "2025-04-09T04:13:18.409361Z"
    },
    "papermill": {
     "duration": 0.012442,
     "end_time": "2025-04-09T04:13:18.411054",
     "exception": false,
     "start_time": "2025-04-09T04:13:18.398612",
     "status": "completed"
    },
    "scrolled": false,
    "tags": []
   },
   "outputs": [],
   "source": [
    "carousel = create_carousel(npub)\n",
    "docs = ', '.join(['\"{0:s}\"'.format(k.split('/')[-1]) for k in res])\n",
    "slides = ', '.join([f'\"slide{k}\"' for k in range(1, npub + 1)])\n",
    "\n",
    "with open(\"daily_template.html\", \"r\") as tpl:\n",
    "    page = tpl.read()\n",
    "    page = page.replace(\"{%-- carousel:s --%}\", carousel)\\\n",
    "               .replace(\"{%-- suptitle:s --%}\",  \"7-day archives\" )\\\n",
    "               .replace(\"{%-- docs:s --%}\", docs)\\\n",
    "               .replace(\"{%-- slides:s --%}\", slides)\n",
    "    \n",
    "with open(\"_build/html/index_7days.html\", 'w') as fout:\n",
    "    fout.write(page)"
   ]
  },
  {
   "cell_type": "code",
   "execution_count": 14,
   "id": "adc1a1ec",
   "metadata": {
    "execution": {
     "iopub.execute_input": "2025-04-09T04:13:18.422400Z",
     "iopub.status.busy": "2025-04-09T04:13:18.421691Z",
     "iopub.status.idle": "2025-04-09T04:13:18.428734Z",
     "shell.execute_reply": "2025-04-09T04:13:18.428228Z"
    },
    "papermill": {
     "duration": 0.013598,
     "end_time": "2025-04-09T04:13:18.429781",
     "exception": false,
     "start_time": "2025-04-09T04:13:18.416183",
     "status": "completed"
    },
    "tags": []
   },
   "outputs": [
    {
     "name": "stdout",
     "output_type": "stream",
     "text": [
      "3  publications in the last day.\n"
     ]
    }
   ],
   "source": [
    "# redo for today\n",
    "days = 1\n",
    "res = list(get_last_n_days(dates, days))\n",
    "npub = len(res)\n",
    "print(len(res), f\" publications in the last day.\")\n",
    "\n",
    "carousel = create_carousel(npub)\n",
    "docs = ', '.join(['\"{0:s}\"'.format(k.split('/')[-1]) for k in res])\n",
    "slides = ', '.join([f'\"slide{k}\"' for k in range(1, npub + 1)])\n",
    "\n",
    "with open(\"daily_template.html\", \"r\") as tpl:\n",
    "    page = tpl.read()\n",
    "    page = page.replace(\"{%-- carousel:s --%}\", carousel)\\\n",
    "               .replace(\"{%-- suptitle:s --%}\",  \"Daily\" )\\\n",
    "               .replace(\"{%-- docs:s --%}\", docs)\\\n",
    "               .replace(\"{%-- slides:s --%}\", slides)\n",
    "    \n",
    "# print(carousel, docs, slides)\n",
    "# print(page)\n",
    "with open(\"_build/html/index_daily.html\", 'w') as fout:\n",
    "    fout.write(page)"
   ]
  },
  {
   "cell_type": "code",
   "execution_count": 15,
   "id": "00eece82",
   "metadata": {
    "execution": {
     "iopub.execute_input": "2025-04-09T04:13:18.441022Z",
     "iopub.status.busy": "2025-04-09T04:13:18.440617Z",
     "iopub.status.idle": "2025-04-09T04:13:18.447438Z",
     "shell.execute_reply": "2025-04-09T04:13:18.446915Z"
    },
    "papermill": {
     "duration": 0.013463,
     "end_time": "2025-04-09T04:13:18.448410",
     "exception": false,
     "start_time": "2025-04-09T04:13:18.434947",
     "status": "completed"
    },
    "scrolled": false,
    "tags": []
   },
   "outputs": [
    {
     "name": "stdout",
     "output_type": "stream",
     "text": [
      "6  6 publications selected.\n"
     ]
    }
   ],
   "source": [
    "# Create the flat grid of the last N papers (fixed number regardless of dates)\n",
    "from itertools import islice \n",
    "\n",
    "npub = 6\n",
    "res = [k[0] for k in (islice(reversed(sorted(dates, key=lambda x: x[1])), 6))]\n",
    "print(len(res), f\" {npub} publications selected.\")\n",
    "\n",
    "grid = create_grid(npub)\n",
    "docs = ', '.join(['\"{0:s}\"'.format(k.split('/')[-1]) for k in res])\n",
    "slides = ', '.join([f'\"slide{k}\"' for k in range(1, npub + 1)])\n",
    "\n",
    "with open(\"grid_template.html\", \"r\") as tpl:\n",
    "    page = tpl.read()\n",
    "    page = page.replace(\"{%-- grid-content:s --%}\", grid)\\\n",
    "               .replace(\"{%-- suptitle:s --%}\",  f\"Last {npub:,d} papers\" )\\\n",
    "               .replace(\"{%-- docs:s --%}\", docs)\\\n",
    "               .replace(\"{%-- slides:s --%}\", slides)\n",
    "    \n",
    "# print(grid, docs, slides)\n",
    "# print(page)\n",
    "with open(\"_build/html/index_npub_grid.html\", 'w') as fout:\n",
    "    fout.write(page)"
   ]
  }
 ],
 "metadata": {
  "kernelspec": {
   "display_name": "Python 3 (ipykernel)",
   "language": "python",
   "name": "python3"
  },
  "language_info": {
   "codemirror_mode": {
    "name": "ipython",
    "version": 3
   },
   "file_extension": ".py",
   "mimetype": "text/x-python",
   "name": "python",
   "nbconvert_exporter": "python",
   "pygments_lexer": "ipython3",
   "version": "3.9.21"
  },
  "papermill": {
   "default_parameters": {},
   "duration": 87.200935,
   "end_time": "2025-04-09T04:13:18.669885",
   "environment_variables": {},
   "exception": null,
   "input_path": "MPIA daily digest.ipynb",
   "output_path": "log.ipynb",
   "parameters": {},
   "start_time": "2025-04-09T04:11:51.468950",
   "version": "2.6.0"
  },
  "vscode": {
   "interpreter": {
    "hash": "aee8b7b246df8f9039afb4144a1f6fd8d2ca17a180786b69acc140d282b71a49"
   }
  },
  "widgets": {
   "application/vnd.jupyter.widget-state+json": {
    "state": {
     "1549ec8f587e41198437633f9a1f50f9": {
      "model_module": "@jupyter-widgets/controls",
      "model_module_version": "2.0.0",
      "model_name": "ProgressStyleModel",
      "state": {
       "_model_module": "@jupyter-widgets/controls",
       "_model_module_version": "2.0.0",
       "_model_name": "ProgressStyleModel",
       "_view_count": null,
       "_view_module": "@jupyter-widgets/base",
       "_view_module_version": "2.0.0",
       "_view_name": "StyleView",
       "bar_color": null,
       "description_width": ""
      }
     },
     "3742a512f183494882f07e3c06f215ce": {
      "model_module": "@jupyter-widgets/controls",
      "model_module_version": "2.0.0",
      "model_name": "HTMLStyleModel",
      "state": {
       "_model_module": "@jupyter-widgets/controls",
       "_model_module_version": "2.0.0",
       "_model_name": "HTMLStyleModel",
       "_view_count": null,
       "_view_module": "@jupyter-widgets/base",
       "_view_module_version": "2.0.0",
       "_view_name": "StyleView",
       "background": null,
       "description_width": "",
       "font_size": null,
       "text_color": null
      }
     },
     "4af4f6c0ef2f446897d8414eda8735c6": {
      "model_module": "@jupyter-widgets/base",
      "model_module_version": "2.0.0",
      "model_name": "LayoutModel",
      "state": {
       "_model_module": "@jupyter-widgets/base",
       "_model_module_version": "2.0.0",
       "_model_name": "LayoutModel",
       "_view_count": null,
       "_view_module": "@jupyter-widgets/base",
       "_view_module_version": "2.0.0",
       "_view_name": "LayoutView",
       "align_content": null,
       "align_items": null,
       "align_self": null,
       "border_bottom": null,
       "border_left": null,
       "border_right": null,
       "border_top": null,
       "bottom": null,
       "display": null,
       "flex": null,
       "flex_flow": null,
       "grid_area": null,
       "grid_auto_columns": null,
       "grid_auto_flow": null,
       "grid_auto_rows": null,
       "grid_column": null,
       "grid_gap": null,
       "grid_row": null,
       "grid_template_areas": null,
       "grid_template_columns": null,
       "grid_template_rows": null,
       "height": null,
       "justify_content": null,
       "justify_items": null,
       "left": null,
       "margin": null,
       "max_height": null,
       "max_width": null,
       "min_height": null,
       "min_width": null,
       "object_fit": null,
       "object_position": null,
       "order": null,
       "overflow": null,
       "padding": null,
       "right": null,
       "top": null,
       "visibility": null,
       "width": null
      }
     },
     "945dfdef330b44329cf5da05218e7fed": {
      "model_module": "@jupyter-widgets/controls",
      "model_module_version": "2.0.0",
      "model_name": "HTMLModel",
      "state": {
       "_dom_classes": [],
       "_model_module": "@jupyter-widgets/controls",
       "_model_module_version": "2.0.0",
       "_model_name": "HTMLModel",
       "_view_count": null,
       "_view_module": "@jupyter-widgets/controls",
       "_view_module_version": "2.0.0",
       "_view_name": "HTMLView",
       "description": "",
       "description_allow_html": false,
       "layout": "IPY_MODEL_eed71277489d4081a9154fe117c506f7",
       "placeholder": "​",
       "style": "IPY_MODEL_f35fe067c9414118bc02aa4006c6202c",
       "tabbable": null,
       "tooltip": null,
       "value": " 4/4 [01:05&lt;00:00, 17.71s/it]"
      }
     },
     "969da0ddbe2649aaa264cf1ed5941ed5": {
      "model_module": "@jupyter-widgets/controls",
      "model_module_version": "2.0.0",
      "model_name": "HBoxModel",
      "state": {
       "_dom_classes": [],
       "_model_module": "@jupyter-widgets/controls",
       "_model_module_version": "2.0.0",
       "_model_name": "HBoxModel",
       "_view_count": null,
       "_view_module": "@jupyter-widgets/controls",
       "_view_module_version": "2.0.0",
       "_view_name": "HBoxView",
       "box_style": "",
       "children": [
        "IPY_MODEL_f60e772c4e794370b5f160e4033edfd6",
        "IPY_MODEL_ab6f63ba09ac4d6c9fa5dbb37d424387",
        "IPY_MODEL_945dfdef330b44329cf5da05218e7fed"
       ],
       "layout": "IPY_MODEL_4af4f6c0ef2f446897d8414eda8735c6",
       "tabbable": null,
       "tooltip": null
      }
     },
     "97a4b5f7fd504b648ac2c76990448e28": {
      "model_module": "@jupyter-widgets/base",
      "model_module_version": "2.0.0",
      "model_name": "LayoutModel",
      "state": {
       "_model_module": "@jupyter-widgets/base",
       "_model_module_version": "2.0.0",
       "_model_name": "LayoutModel",
       "_view_count": null,
       "_view_module": "@jupyter-widgets/base",
       "_view_module_version": "2.0.0",
       "_view_name": "LayoutView",
       "align_content": null,
       "align_items": null,
       "align_self": null,
       "border_bottom": null,
       "border_left": null,
       "border_right": null,
       "border_top": null,
       "bottom": null,
       "display": null,
       "flex": null,
       "flex_flow": null,
       "grid_area": null,
       "grid_auto_columns": null,
       "grid_auto_flow": null,
       "grid_auto_rows": null,
       "grid_column": null,
       "grid_gap": null,
       "grid_row": null,
       "grid_template_areas": null,
       "grid_template_columns": null,
       "grid_template_rows": null,
       "height": null,
       "justify_content": null,
       "justify_items": null,
       "left": null,
       "margin": null,
       "max_height": null,
       "max_width": null,
       "min_height": null,
       "min_width": null,
       "object_fit": null,
       "object_position": null,
       "order": null,
       "overflow": null,
       "padding": null,
       "right": null,
       "top": null,
       "visibility": null,
       "width": null
      }
     },
     "ab6f63ba09ac4d6c9fa5dbb37d424387": {
      "model_module": "@jupyter-widgets/controls",
      "model_module_version": "2.0.0",
      "model_name": "FloatProgressModel",
      "state": {
       "_dom_classes": [],
       "_model_module": "@jupyter-widgets/controls",
       "_model_module_version": "2.0.0",
       "_model_name": "FloatProgressModel",
       "_view_count": null,
       "_view_module": "@jupyter-widgets/controls",
       "_view_module_version": "2.0.0",
       "_view_name": "ProgressView",
       "bar_style": "success",
       "description": "",
       "description_allow_html": false,
       "layout": "IPY_MODEL_97a4b5f7fd504b648ac2c76990448e28",
       "max": 4.0,
       "min": 0.0,
       "orientation": "horizontal",
       "style": "IPY_MODEL_1549ec8f587e41198437633f9a1f50f9",
       "tabbable": null,
       "tooltip": null,
       "value": 4.0
      }
     },
     "c91feed869e0423596c26804ee4e5e21": {
      "model_module": "@jupyter-widgets/base",
      "model_module_version": "2.0.0",
      "model_name": "LayoutModel",
      "state": {
       "_model_module": "@jupyter-widgets/base",
       "_model_module_version": "2.0.0",
       "_model_name": "LayoutModel",
       "_view_count": null,
       "_view_module": "@jupyter-widgets/base",
       "_view_module_version": "2.0.0",
       "_view_name": "LayoutView",
       "align_content": null,
       "align_items": null,
       "align_self": null,
       "border_bottom": null,
       "border_left": null,
       "border_right": null,
       "border_top": null,
       "bottom": null,
       "display": null,
       "flex": null,
       "flex_flow": null,
       "grid_area": null,
       "grid_auto_columns": null,
       "grid_auto_flow": null,
       "grid_auto_rows": null,
       "grid_column": null,
       "grid_gap": null,
       "grid_row": null,
       "grid_template_areas": null,
       "grid_template_columns": null,
       "grid_template_rows": null,
       "height": null,
       "justify_content": null,
       "justify_items": null,
       "left": null,
       "margin": null,
       "max_height": null,
       "max_width": null,
       "min_height": null,
       "min_width": null,
       "object_fit": null,
       "object_position": null,
       "order": null,
       "overflow": null,
       "padding": null,
       "right": null,
       "top": null,
       "visibility": null,
       "width": null
      }
     },
     "eed71277489d4081a9154fe117c506f7": {
      "model_module": "@jupyter-widgets/base",
      "model_module_version": "2.0.0",
      "model_name": "LayoutModel",
      "state": {
       "_model_module": "@jupyter-widgets/base",
       "_model_module_version": "2.0.0",
       "_model_name": "LayoutModel",
       "_view_count": null,
       "_view_module": "@jupyter-widgets/base",
       "_view_module_version": "2.0.0",
       "_view_name": "LayoutView",
       "align_content": null,
       "align_items": null,
       "align_self": null,
       "border_bottom": null,
       "border_left": null,
       "border_right": null,
       "border_top": null,
       "bottom": null,
       "display": null,
       "flex": null,
       "flex_flow": null,
       "grid_area": null,
       "grid_auto_columns": null,
       "grid_auto_flow": null,
       "grid_auto_rows": null,
       "grid_column": null,
       "grid_gap": null,
       "grid_row": null,
       "grid_template_areas": null,
       "grid_template_columns": null,
       "grid_template_rows": null,
       "height": null,
       "justify_content": null,
       "justify_items": null,
       "left": null,
       "margin": null,
       "max_height": null,
       "max_width": null,
       "min_height": null,
       "min_width": null,
       "object_fit": null,
       "object_position": null,
       "order": null,
       "overflow": null,
       "padding": null,
       "right": null,
       "top": null,
       "visibility": null,
       "width": null
      }
     },
     "f35fe067c9414118bc02aa4006c6202c": {
      "model_module": "@jupyter-widgets/controls",
      "model_module_version": "2.0.0",
      "model_name": "HTMLStyleModel",
      "state": {
       "_model_module": "@jupyter-widgets/controls",
       "_model_module_version": "2.0.0",
       "_model_name": "HTMLStyleModel",
       "_view_count": null,
       "_view_module": "@jupyter-widgets/base",
       "_view_module_version": "2.0.0",
       "_view_name": "StyleView",
       "background": null,
       "description_width": "",
       "font_size": null,
       "text_color": null
      }
     },
     "f60e772c4e794370b5f160e4033edfd6": {
      "model_module": "@jupyter-widgets/controls",
      "model_module_version": "2.0.0",
      "model_name": "HTMLModel",
      "state": {
       "_dom_classes": [],
       "_model_module": "@jupyter-widgets/controls",
       "_model_module_version": "2.0.0",
       "_model_name": "HTMLModel",
       "_view_count": null,
       "_view_module": "@jupyter-widgets/controls",
       "_view_module_version": "2.0.0",
       "_view_name": "HTMLView",
       "description": "",
       "description_allow_html": false,
       "layout": "IPY_MODEL_c91feed869e0423596c26804ee4e5e21",
       "placeholder": "​",
       "style": "IPY_MODEL_3742a512f183494882f07e3c06f215ce",
       "tabbable": null,
       "tooltip": null,
       "value": "100%"
      }
     }
    },
    "version_major": 2,
    "version_minor": 0
   }
  }
 },
 "nbformat": 4,
 "nbformat_minor": 5
}