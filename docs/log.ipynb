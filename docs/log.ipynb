{
 "cells": [
  {
   "cell_type": "markdown",
   "id": "92bcb855",
   "metadata": {
    "papermill": {
     "duration": 0.00596,
     "end_time": "2023-02-17T04:07:55.181194",
     "exception": false,
     "start_time": "2023-02-17T04:07:55.175234",
     "status": "completed"
    },
    "tags": []
   },
   "source": [
    "# MPIA Arxiv on Deck 2\n",
    "\n",
    "Contains the steps to produce the paper extractions."
   ]
  },
  {
   "cell_type": "code",
   "execution_count": 1,
   "id": "3a0d6e11",
   "metadata": {
    "execution": {
     "iopub.execute_input": "2023-02-17T04:07:55.192769Z",
     "iopub.status.busy": "2023-02-17T04:07:55.192068Z",
     "iopub.status.idle": "2023-02-17T04:07:55.394920Z",
     "shell.execute_reply": "2023-02-17T04:07:55.394091Z"
    },
    "papermill": {
     "duration": 0.211354,
     "end_time": "2023-02-17T04:07:55.397447",
     "exception": false,
     "start_time": "2023-02-17T04:07:55.186093",
     "status": "completed"
    },
    "tags": []
   },
   "outputs": [],
   "source": [
    "# Imports\n",
    "import os\n",
    "from IPython.display import Markdown, display\n",
    "from tqdm.notebook import tqdm\n",
    "import warnings\n",
    "from PIL import Image \n",
    "\n",
    "# requires arxiv_on_deck_2\n",
    "\n",
    "from arxiv_on_deck_2.arxiv2 import (get_new_papers, \n",
    "                                    get_paper_from_identifier,\n",
    "                                    retrieve_document_source, \n",
    "                                    get_markdown_badge)\n",
    "from arxiv_on_deck_2 import (latex, \n",
    "                             mpia,\n",
    "                             highlight_authors_in_list)\n",
    "\n",
    "# Sometimes images are really big\n",
    "Image.MAX_IMAGE_PIXELS = 1000000000 "
   ]
  },
  {
   "cell_type": "code",
   "execution_count": 2,
   "id": "22aa9d44",
   "metadata": {
    "execution": {
     "iopub.execute_input": "2023-02-17T04:07:55.409069Z",
     "iopub.status.busy": "2023-02-17T04:07:55.408365Z",
     "iopub.status.idle": "2023-02-17T04:07:55.413911Z",
     "shell.execute_reply": "2023-02-17T04:07:55.413243Z"
    },
    "papermill": {
     "duration": 0.01301,
     "end_time": "2023-02-17T04:07:55.415603",
     "exception": false,
     "start_time": "2023-02-17T04:07:55.402593",
     "status": "completed"
    },
    "tags": []
   },
   "outputs": [],
   "source": [
    "# Some useful definitions.\n",
    "\n",
    "class AffiliationWarning(UserWarning):\n",
    "    pass\n",
    "\n",
    "class AffiliationError(RuntimeError):\n",
    "    pass\n",
    "\n",
    "def validation(source: str):\n",
    "    \"\"\"Raises error paper during parsing of source file\n",
    "    \n",
    "    Allows checks before parsing TeX code.\n",
    "    \n",
    "    Raises AffiliationWarning\n",
    "    \"\"\"\n",
    "    check = mpia.affiliation_verifications(source, verbose=True)\n",
    "    if check is not True:\n",
    "        raise AffiliationError(\"mpia.affiliation_verifications: \" + check)\n",
    "\n",
    "        \n",
    "warnings.simplefilter('always', AffiliationWarning)"
   ]
  },
  {
   "cell_type": "code",
   "execution_count": 3,
   "id": "14622700",
   "metadata": {
    "execution": {
     "iopub.execute_input": "2023-02-17T04:07:55.424922Z",
     "iopub.status.busy": "2023-02-17T04:07:55.424485Z",
     "iopub.status.idle": "2023-02-17T04:07:55.428315Z",
     "shell.execute_reply": "2023-02-17T04:07:55.427685Z"
    },
    "papermill": {
     "duration": 0.010414,
     "end_time": "2023-02-17T04:07:55.430018",
     "exception": false,
     "start_time": "2023-02-17T04:07:55.419604",
     "status": "completed"
    },
    "tags": []
   },
   "outputs": [],
   "source": [
    "# additional CSS to consider. \n",
    "# TODO: Current into each exported file. \n",
    "#       This should be set once into the webpages directly.\n",
    "#       With only the class/id definitions in the .md files.\n",
    "\n",
    "debug_html = \"\"\"\n",
    "<style>\n",
    "#wrap{ overflow:auto; }\n",
    "#fig1{ background:yellow; width:100%; float:left; padding:5px;  }\n",
    "#fig2{ background:red; width:50%; float:left; clear:left; padding:5px;  }\n",
    "#fig3{ background:green; width:50%; float:left; padding:5px;   }\n",
    ".macros{ background:yellow; visibility:visible;}\n",
    "h1 {margin: 0 0 0 0;}\n",
    "mark {background-color:#fff3b6;}\n",
    "img {object-fit:contain; max-height:250px; display:inline-block; text-align: center;}\n",
    "</style>\n",
    "\"\"\" \n",
    "html = \"\"\"\n",
    "<style>\n",
    "#wrap{ overflow:auto; }\n",
    "#fig1{ width:100%; float:left; padding: 5px;  }\n",
    "#fig2{ width:50%; float:left; clear:left; padding: 5px;  }\n",
    "#fig3{ width:50%; float:left; padding: 5px;  }\n",
    ".macros{ visibility:hidden; height:0px; }\n",
    "h1 {margin: 0em 0 0 0;}\n",
    "mark {background-color:#fff3b6;}\n",
    "img {object-fit:contain; max-height:250px; display:inline-block; text-align: center;}\n",
    "</style>\n",
    "\"\"\""
   ]
  },
  {
   "cell_type": "markdown",
   "id": "14bd6310",
   "metadata": {
    "papermill": {
     "duration": 0.003914,
     "end_time": "2023-02-17T04:07:55.437800",
     "exception": false,
     "start_time": "2023-02-17T04:07:55.433886",
     "status": "completed"
    },
    "tags": []
   },
   "source": [
    "## get list of arxiv paper candidates\n",
    "\n",
    "We use the MPIA mitarbeiter list webpage from mpia.de to get author names\n",
    "We then get all new papers from Arxiv and match authors"
   ]
  },
  {
   "cell_type": "code",
   "execution_count": 4,
   "id": "2645e73a",
   "metadata": {
    "execution": {
     "iopub.execute_input": "2023-02-17T04:07:55.447137Z",
     "iopub.status.busy": "2023-02-17T04:07:55.446518Z",
     "iopub.status.idle": "2023-02-17T04:08:28.430372Z",
     "shell.execute_reply": "2023-02-17T04:08:28.428270Z"
    },
    "papermill": {
     "duration": 32.99555,
     "end_time": "2023-02-17T04:08:28.437236",
     "exception": false,
     "start_time": "2023-02-17T04:07:55.441686",
     "status": "completed"
    },
    "tags": []
   },
   "outputs": [
    {
     "name": "stdout",
     "output_type": "stream",
     "text": [
      "Arxiv has 59 new papers today\n",
      "          27 with possible author matches\n"
     ]
    }
   ],
   "source": [
    "# get list from MPIA website\n",
    "# it automatically filters identified non-scientists :func:`mpia.filter_non_scientists`\n",
    "mpia_authors = mpia.get_mpia_mitarbeiter_list()\n",
    "new_papers = get_new_papers()\n",
    "# add manual references\n",
    "add_paper_refs = []\n",
    "new_papers.extend([get_paper_from_identifier(k) for k in add_paper_refs])\n",
    "\n",
    "# select only papers with matching author names and highlight authors\n",
    "hl_list = [k[0] for k in mpia_authors]\n",
    "\n",
    "candidates = []\n",
    "for paperk in new_papers:\n",
    "    hl_authors = highlight_authors_in_list(paperk['authors'], hl_list)\n",
    "    matches = [(hl, orig) for hl, orig in zip(hl_authors, paperk['authors']) if 'mark' in hl]\n",
    "    paperk['authors'] = hl_authors\n",
    "    if matches:\n",
    "        candidates.append(paperk)\n",
    "print(\"\"\"Arxiv has {0:,d} new papers today\"\"\".format(len(new_papers)))        \n",
    "print(\"\"\"          {0:,d} with possible author matches\"\"\".format(len(candidates)))"
   ]
  },
  {
   "cell_type": "markdown",
   "id": "3543b34a",
   "metadata": {
    "papermill": {
     "duration": 0.00427,
     "end_time": "2023-02-17T04:08:28.445786",
     "exception": false,
     "start_time": "2023-02-17T04:08:28.441516",
     "status": "completed"
    },
    "tags": []
   },
   "source": [
    "# Parse sources and generate relevant outputs\n",
    "\n",
    "From the candidates, we do the following steps:\n",
    "* get their tarball from ArXiv (and extract data)\n",
    "* find the main .tex file: find one with \\documentclass{...} (sometimes it's non trivial)\n",
    "* Check affiliations with :func:`validation`, which uses :func:`mpia.affiliation_verifications`\n",
    "* If passing the affiliations: we parse the .tex source\n",
    "   * inject sub-documents into the main (flatten the main document)\n",
    "   * parse structure, extract information (title, abstract, authors, figures...)\n",
    "   * handles `\\graphicspath` if provided\n",
    "* Generate the .md document."
   ]
  },
  {
   "cell_type": "code",
   "execution_count": 5,
   "id": "9576b79e",
   "metadata": {
    "execution": {
     "iopub.execute_input": "2023-02-17T04:08:28.455791Z",
     "iopub.status.busy": "2023-02-17T04:08:28.455200Z",
     "iopub.status.idle": "2023-02-17T04:14:42.526211Z",
     "shell.execute_reply": "2023-02-17T04:14:42.525392Z"
    },
    "papermill": {
     "duration": 374.079071,
     "end_time": "2023-02-17T04:14:42.528882",
     "exception": false,
     "start_time": "2023-02-17T04:08:28.449811",
     "status": "completed"
    },
    "scrolled": false,
    "tags": []
   },
   "outputs": [
    {
     "data": {
      "application/vnd.jupyter.widget-view+json": {
       "model_id": "377346a24795412c82132c539ad6bd8c",
       "version_major": 2,
       "version_minor": 0
      },
      "text/plain": [
       "  0%|          | 0/26 [00:00<?, ?it/s]"
      ]
     },
     "metadata": {},
     "output_type": "display_data"
    },
    {
     "name": "stdout",
     "output_type": "stream",
     "text": [
      "Retrieving document from  https://arxiv.org/e-print/2302.07874\n"
     ]
    },
    {
     "name": "stdout",
     "output_type": "stream",
     "text": [
      "extracting tarball to tmp_2302.07874... done.\n",
      "Retrieving document from  https://arxiv.org/e-print/2302.07878\n"
     ]
    },
    {
     "name": "stdout",
     "output_type": "stream",
     "text": [
      "extracting tarball to tmp_2302.07878..."
     ]
    },
    {
     "name": "stdout",
     "output_type": "stream",
     "text": [
      " done.\n",
      "Retrieving document from  https://arxiv.org/e-print/2302.07880\n"
     ]
    },
    {
     "name": "stdout",
     "output_type": "stream",
     "text": [
      "extracting tarball to tmp_2302.07880..."
     ]
    },
    {
     "name": "stdout",
     "output_type": "stream",
     "text": [
      " done.\n"
     ]
    },
    {
     "name": "stderr",
     "output_type": "stream",
     "text": [
      "/opt/hostedtoolcache/Python/3.9.16/x64/lib/python3.9/site-packages/arxiv_on_deck_2/latex.py:366: LatexWarning: Error parsing the document directly. Trying to recover.\n",
      "  warnings.warn(LatexWarning(f\"Error parsing the document directly. Trying to recover.\"))\n"
     ]
    },
    {
     "name": "stdout",
     "output_type": "stream",
     "text": [
      "✔ → 0:header\n",
      "  ↳ 4883:\\section{Introduction}\n",
      "✔ → 4883:\\section{Introduction}\n",
      "  ↳ 9937:\\section{Discovery}\n"
     ]
    },
    {
     "name": "stdout",
     "output_type": "stream",
     "text": [
      "✔ → 9937:\\section{Discovery}\n",
      "  ↳ 13311:\\section{Properties of the source}\n"
     ]
    },
    {
     "name": "stdout",
     "output_type": "stream",
     "text": [
      "✘ → 13311:\\section{Properties of the source}\n",
      "  ↳ 74288:\\section{Nature of the companion}\n"
     ]
    },
    {
     "name": "stdout",
     "output_type": "stream",
     "text": [
      "✔ → 74288:\\section{Nature of the companion}\n",
      "  ↳ 84556:\\section{Formation history}\n"
     ]
    },
    {
     "name": "stdout",
     "output_type": "stream",
     "text": [
      "✔ → 84556:\\section{Formation history}\n",
      "  ↳ 96481:\\section{An early assessment of the BH population revealed by \\textit{Gaia} DR3 }\n"
     ]
    },
    {
     "name": "stdout",
     "output_type": "stream",
     "text": [
      "✔ → 96481:\\section{An early assessment of the BH population revealed by \\textit{Gaia} DR3 }\n",
      "  ↳ 104055:\\section{Conclusions}\n"
     ]
    },
    {
     "name": "stdout",
     "output_type": "stream",
     "text": [
      "✔ → 104055:\\section{Conclusions}\n",
      "  ↳ 147454:\\section{{\\it Gaia} observations}\n",
      "✔ → 147454:\\section{{\\it Gaia} observations}\n",
      "  ↳ 153260:\\section{Gaia goodness of fit}\n"
     ]
    },
    {
     "name": "stdout",
     "output_type": "stream",
     "text": [
      "✔ → 153260:\\section{Gaia goodness of fit}\n",
      "  ↳ 156103:\\section{Pure RV constraints}\n",
      "✔ → 156103:\\section{Pure RV constraints}\n",
      "  ↳ 157900:\\section{TESS light curves}\n"
     ]
    },
    {
     "name": "stdout",
     "output_type": "stream",
     "text": [
      "✔ → 157900:\\section{TESS light curves}\n",
      "  ↳ 160406:end\n"
     ]
    },
    {
     "name": "stdout",
     "output_type": "stream",
     "text": [
      "Retrieving document from  https://arxiv.org/e-print/2302.07882\n"
     ]
    },
    {
     "name": "stdout",
     "output_type": "stream",
     "text": [
      "extracting tarball to tmp_2302.07882..."
     ]
    },
    {
     "name": "stdout",
     "output_type": "stream",
     "text": [
      " done.\n",
      "Retrieving document from  https://arxiv.org/e-print/2302.07884\n"
     ]
    },
    {
     "name": "stdout",
     "output_type": "stream",
     "text": [
      "extracting tarball to tmp_2302.07884..."
     ]
    },
    {
     "name": "stdout",
     "output_type": "stream",
     "text": [
      " done.\n",
      "Retrieving document from  https://arxiv.org/e-print/2302.07886\n"
     ]
    },
    {
     "name": "stdout",
     "output_type": "stream",
     "text": [
      "extracting tarball to tmp_2302.07886..."
     ]
    },
    {
     "name": "stdout",
     "output_type": "stream",
     "text": [
      " done.\n",
      "Retrieving document from  https://arxiv.org/e-print/2302.07891\n"
     ]
    },
    {
     "name": "stdout",
     "output_type": "stream",
     "text": [
      "extracting tarball to tmp_2302.07891..."
     ]
    },
    {
     "name": "stdout",
     "output_type": "stream",
     "text": [
      " done.\n",
      "Retrieving document from  https://arxiv.org/e-print/2302.07906\n"
     ]
    },
    {
     "name": "stdout",
     "output_type": "stream",
     "text": [
      "extracting tarball to tmp_2302.07906..."
     ]
    },
    {
     "name": "stdout",
     "output_type": "stream",
     "text": [
      " done.\n",
      "Retrieving document from  https://arxiv.org/e-print/2302.07916\n"
     ]
    },
    {
     "name": "stderr",
     "output_type": "stream",
     "text": [
      "/opt/hostedtoolcache/Python/3.9.16/x64/lib/python3.9/site-packages/IPython/core/interactiveshell.py:3460: LatexWarning: Multiple tex files.\n",
      "\n",
      "  exec(code_obj, self.user_global_ns, self.user_ns)\n",
      "/opt/hostedtoolcache/Python/3.9.16/x64/lib/python3.9/site-packages/IPython/core/interactiveshell.py:3460: LatexWarning: Found documentclass in tmp_2302.07906/scifile.tex\n",
      "\n",
      "  exec(code_obj, self.user_global_ns, self.user_ns)\n",
      "/opt/hostedtoolcache/Python/3.9.16/x64/lib/python3.9/site-packages/arxiv_on_deck_2/latex.py:292: LatexWarning: Latex injecting: 'affiliations.tex' from 'tmp_2302.07906/affiliations.tex'\n",
      "  warnings.warn(LatexWarning(f\"Latex injecting: '{ext}' from '{subsource}'\"))\n",
      "/opt/hostedtoolcache/Python/3.9.16/x64/lib/python3.9/site-packages/arxiv_on_deck_2/latex.py:292: LatexWarning: Latex injecting: 'affiliations.tex' from 'tmp_2302.07906/GRB 221009A Science Format (Final Version) (1)/affiliations.tex'\n",
      "  warnings.warn(LatexWarning(f\"Latex injecting: '{ext}' from '{subsource}'\"))\n"
     ]
    },
    {
     "name": "stdout",
     "output_type": "stream",
     "text": [
      "extracting tarball to tmp_2302.07916..."
     ]
    },
    {
     "name": "stdout",
     "output_type": "stream",
     "text": [
      " done.\n"
     ]
    },
    {
     "name": "stderr",
     "output_type": "stream",
     "text": [
      "/opt/hostedtoolcache/Python/3.9.16/x64/lib/python3.9/site-packages/arxiv_on_deck_2/latex.py:118: LatexWarning: attempting recovering figure figures/J07446+035/rvmethod_line7096_J07446+035\n",
      "  warnings.warn(LatexWarning(f'attempting recovering figure {image}'))\n"
     ]
    },
    {
     "name": "stderr",
     "output_type": "stream",
     "text": [
      "/opt/hostedtoolcache/Python/3.9.16/x64/lib/python3.9/site-packages/arxiv_on_deck_2/latex.py:118: LatexWarning: attempting recovering figure figures/J07446+035/stats_rvlineerr_w_2c\n",
      "  warnings.warn(LatexWarning(f'attempting recovering figure {image}'))\n"
     ]
    },
    {
     "name": "stderr",
     "output_type": "stream",
     "text": [
      "/opt/hostedtoolcache/Python/3.9.16/x64/lib/python3.9/site-packages/arxiv_on_deck_2/latex.py:118: LatexWarning: attempting recovering figure figures/J07446+035/ts_corr_ccfrvnzp_ccffwhm_ccfcontrast_ccfbis_servalcrx_servaldlw_servalhalpha_fitgaussianrvline_l06661.25_l07855.92_ph\n",
      "  warnings.warn(LatexWarning(f'attempting recovering figure {image}'))\n"
     ]
    },
    {
     "name": "stderr",
     "output_type": "stream",
     "text": [
      "/opt/hostedtoolcache/Python/3.9.16/x64/lib/python3.9/site-packages/arxiv_on_deck_2/latex.py:118: LatexWarning: attempting recovering figure figures/J07446+035/corner_rcoeff_ccfrvnzp_ccfbis_servalcrx\n",
      "  warnings.warn(LatexWarning(f'attempting recovering figure {image}'))\n",
      "/opt/hostedtoolcache/Python/3.9.16/x64/lib/python3.9/site-packages/arxiv_on_deck_2/latex.py:118: LatexWarning: attempting recovering figure figures/J05019+011/corner_rcoeff_ccfrvnzp_ccfbis_servalcrx\n",
      "  warnings.warn(LatexWarning(f'attempting recovering figure {image}'))\n",
      "/opt/hostedtoolcache/Python/3.9.16/x64/lib/python3.9/site-packages/arxiv_on_deck_2/latex.py:118: LatexWarning: attempting recovering figure figures/J22468+443/corner_rcoeff_ccfrvnzp_ccfbis_servalcrx\n",
      "  warnings.warn(LatexWarning(f'attempting recovering figure {image}'))\n",
      "/opt/hostedtoolcache/Python/3.9.16/x64/lib/python3.9/site-packages/arxiv_on_deck_2/latex.py:118: LatexWarning: attempting recovering figure figures/J10196+198/corner_rcoeff_ccfrvnzp_ccfbis_servalcrx\n",
      "  warnings.warn(LatexWarning(f'attempting recovering figure {image}'))\n",
      "/opt/hostedtoolcache/Python/3.9.16/x64/lib/python3.9/site-packages/arxiv_on_deck_2/latex.py:118: LatexWarning: attempting recovering figure figures/J15218+209/corner_rcoeff_ccfrvnzp_ccfbis_servalcrx\n",
      "  warnings.warn(LatexWarning(f'attempting recovering figure {image}'))\n",
      "/opt/hostedtoolcache/Python/3.9.16/x64/lib/python3.9/site-packages/arxiv_on_deck_2/latex.py:118: LatexWarning: attempting recovering figure figures/J11201-104/corner_rcoeff_ccfrvnzp_ccfbis_servalcrx\n",
      "  warnings.warn(LatexWarning(f'attempting recovering figure {image}'))\n"
     ]
    },
    {
     "name": "stderr",
     "output_type": "stream",
     "text": [
      "/opt/hostedtoolcache/Python/3.9.16/x64/lib/python3.9/site-packages/arxiv_on_deck_2/latex.py:118: LatexWarning: attempting recovering figure figures/J07446+035/rcoeff_ccfrvnzp_ccfbis_servalcrx_w_corr_stdwrvline_hist_2c\n",
      "  warnings.warn(LatexWarning(f'attempting recovering figure {image}'))\n"
     ]
    },
    {
     "name": "stderr",
     "output_type": "stream",
     "text": [
      "/opt/hostedtoolcache/Python/3.9.16/x64/lib/python3.9/site-packages/arxiv_on_deck_2/latex.py:118: LatexWarning: attempting recovering figure figures/J07446+035/correlation_ccfrvnzp_fitgaussianrvline/2dwstdrv_rcoeff_stdrvts\n",
      "  warnings.warn(LatexWarning(f'attempting recovering figure {image}'))\n",
      "/opt/hostedtoolcache/Python/3.9.16/x64/lib/python3.9/site-packages/arxiv_on_deck_2/latex.py:118: LatexWarning: attempting recovering figure figures/J07446+035/correlation_ccfbis_fitgaussianrvline/2dwstdrv_rcoeff_stdrvts\n",
      "  warnings.warn(LatexWarning(f'attempting recovering figure {image}'))\n",
      "/opt/hostedtoolcache/Python/3.9.16/x64/lib/python3.9/site-packages/arxiv_on_deck_2/latex.py:118: LatexWarning: attempting recovering figure figures/J07446+035/correlation_servalcrx_fitgaussianrvline/2dwstdrv_rcoeff_stdrvts\n",
      "  warnings.warn(LatexWarning(f'attempting recovering figure {image}'))\n"
     ]
    },
    {
     "name": "stderr",
     "output_type": "stream",
     "text": [
      "/opt/hostedtoolcache/Python/3.9.16/x64/lib/python3.9/site-packages/arxiv_on_deck_2/latex.py:118: LatexWarning: attempting recovering figure figures/J07446+035/correlation_ccfrvnzp_fitgaussianrvline/ts_nlin_histrcoeff_periodogram_all_rcoeff_cuts_-0.40_0.40_inside_stdwrvlinmax200_rcoeff_cuts_-0.30_0.30_inside_stdwrvlinmax200_rcoeff_cuts_-0.20_0.20_inside_stdwrvlinmax200_rcoeff_cuts_-0.10_0.10_inside_stdwrvlinmax200_rvline_mean_zoomprot\n",
      "  warnings.warn(LatexWarning(f'attempting recovering figure {image}'))\n"
     ]
    },
    {
     "name": "stderr",
     "output_type": "stream",
     "text": [
      "/opt/hostedtoolcache/Python/3.9.16/x64/lib/python3.9/site-packages/arxiv_on_deck_2/latex.py:118: LatexWarning: attempting recovering figure figures/J07446+035/correlation_ccfrvnzp_fitgaussianrvline/ts_nlin_histrcoeff_periodogram_all_rcoeff_cuts_-inf_0.40_outside_rcoeff_cuts_-inf_0.60_outside_rcoeff_cuts_-inf_0.80_outside_rvline_mean_zoomprot\n",
      "  warnings.warn(LatexWarning(f'attempting recovering figure {image}'))\n"
     ]
    },
    {
     "name": "stderr",
     "output_type": "stream",
     "text": [
      "/opt/hostedtoolcache/Python/3.9.16/x64/lib/python3.9/site-packages/arxiv_on_deck_2/latex.py:118: LatexWarning: attempting recovering figure figures/J07446+035/rcoeff_ccfrvnzp_J07446+035_rcoeff_cuts_-0.20_0.20_inside_stdwrvlinmax200_J05019+011_rcoeff_cuts_-0.30_0.30_inside_stdwrvlinmax300_w_corr_hist_2c\n",
      "  warnings.warn(LatexWarning(f'attempting recovering figure {image}'))\n"
     ]
    },
    {
     "name": "stderr",
     "output_type": "stream",
     "text": [
      "/opt/hostedtoolcache/Python/3.9.16/x64/lib/python3.9/site-packages/arxiv_on_deck_2/latex.py:118: LatexWarning: attempting recovering figure figures/J07446+035/rcoeff_ccfrvnzp_J07446+035_rcoeff_cuts_-0.20_0.20_inside_stdwrvlinmax200_J22468+443_rcoeff_cuts_-0.10_0.10_inside_stdwrvlinmax200_w_corr_hist_2c\n",
      "  warnings.warn(LatexWarning(f'attempting recovering figure {image}'))\n"
     ]
    },
    {
     "name": "stderr",
     "output_type": "stream",
     "text": [
      "/opt/hostedtoolcache/Python/3.9.16/x64/lib/python3.9/site-packages/arxiv_on_deck_2/latex.py:118: LatexWarning: attempting recovering figure figures/J22468+443/rcoeff_ccfrvnzp_J22468+443_rcoeff_cuts_-0.10_0.10_inside_stdwrvlinmax200_J05019+011_rcoeff_cuts_-0.30_0.30_inside_stdwrvlinmax300_w_corr_hist_2c\n",
      "  warnings.warn(LatexWarning(f'attempting recovering figure {image}'))\n"
     ]
    },
    {
     "name": "stderr",
     "output_type": "stream",
     "text": [
      "/opt/hostedtoolcache/Python/3.9.16/x64/lib/python3.9/site-packages/arxiv_on_deck_2/latex.py:118: LatexWarning: attempting recovering figure figures/J15218+209/rcoeff_ccfrvnzp_J15218+209_rcoeff_cuts_-0.10_0.10_inside_stdwrvlinmax300_J11201-104_rcoeff_cuts_-0.20_0.20_inside_stdwrvlinmax200_w_corr_hist_2c\n",
      "  warnings.warn(LatexWarning(f'attempting recovering figure {image}'))\n"
     ]
    },
    {
     "name": "stderr",
     "output_type": "stream",
     "text": [
      "/opt/hostedtoolcache/Python/3.9.16/x64/lib/python3.9/site-packages/arxiv_on_deck_2/latex.py:118: LatexWarning: attempting recovering figure figures/J07446+035/correlation_ccfrvnzp_fitgaussianrvline/ts_nlin_corrs_all_rvline_mean_servalrvc_ccfrv_nzp\n",
      "  warnings.warn(LatexWarning(f'attempting recovering figure {image}'))\n"
     ]
    },
    {
     "name": "stderr",
     "output_type": "stream",
     "text": [
      "/opt/hostedtoolcache/Python/3.9.16/x64/lib/python3.9/site-packages/arxiv_on_deck_2/latex.py:118: LatexWarning: attempting recovering figure figures/J05019+011/correlation_ccfrvnzp_fitgaussianrvline/ts_nlin_corrs_all_rvline_mean_servalrvc_ccfrv_nzp\n",
      "  warnings.warn(LatexWarning(f'attempting recovering figure {image}'))\n"
     ]
    },
    {
     "name": "stderr",
     "output_type": "stream",
     "text": [
      "/opt/hostedtoolcache/Python/3.9.16/x64/lib/python3.9/site-packages/arxiv_on_deck_2/latex.py:118: LatexWarning: attempting recovering figure figures/J22468+443/correlation_ccfrvnzp_fitgaussianrvline/ts_nlin_corrs_all_rvline_mean_servalrvc_ccfrv_nzp\n",
      "  warnings.warn(LatexWarning(f'attempting recovering figure {image}'))\n"
     ]
    },
    {
     "name": "stderr",
     "output_type": "stream",
     "text": [
      "/opt/hostedtoolcache/Python/3.9.16/x64/lib/python3.9/site-packages/arxiv_on_deck_2/latex.py:118: LatexWarning: attempting recovering figure figures/J10196+198/correlation_ccfrvnzp_fitgaussianrvline/ts_nlin_corrs_all_rvline_mean_servalrvc_ccfrv_nzp\n",
      "  warnings.warn(LatexWarning(f'attempting recovering figure {image}'))\n"
     ]
    },
    {
     "name": "stderr",
     "output_type": "stream",
     "text": [
      "/opt/hostedtoolcache/Python/3.9.16/x64/lib/python3.9/site-packages/arxiv_on_deck_2/latex.py:118: LatexWarning: attempting recovering figure figures/J15218+209/correlation_ccfrvnzp_fitgaussianrvline/ts_nlin_corrs_all_rvline_mean_servalrvc_ccfrv_nzp\n",
      "  warnings.warn(LatexWarning(f'attempting recovering figure {image}'))\n"
     ]
    },
    {
     "name": "stderr",
     "output_type": "stream",
     "text": [
      "/opt/hostedtoolcache/Python/3.9.16/x64/lib/python3.9/site-packages/arxiv_on_deck_2/latex.py:118: LatexWarning: attempting recovering figure figures/J11201-104/correlation_ccfrvnzp_fitgaussianrvline/ts_nlin_corrs_all_rvline_mean_servalrvc_ccfrv_nzp\n",
      "  warnings.warn(LatexWarning(f'attempting recovering figure {image}'))\n"
     ]
    },
    {
     "name": "stderr",
     "output_type": "stream",
     "text": [
      "/opt/hostedtoolcache/Python/3.9.16/x64/lib/python3.9/site-packages/arxiv_on_deck_2/latex.py:118: LatexWarning: attempting recovering figure figures/J07446+035/correlation_ccfbis_fitgaussianrvline/ts_nlin_histrcoeff_periodogram_all_rcoeff_cuts_-0.40_0.40_inside_stdwrvlinmax200_rcoeff_cuts_-0.30_0.30_inside_stdwrvlinmax200_rcoeff_cuts_-0.20_0.20_inside_stdwrvlinmax200_rcoeff_cuts_-0.10_0.10_inside_stdwrvlinmax200_rvline_mean_zoomprot\n",
      "  warnings.warn(LatexWarning(f'attempting recovering figure {image}'))\n"
     ]
    },
    {
     "name": "stderr",
     "output_type": "stream",
     "text": [
      "/opt/hostedtoolcache/Python/3.9.16/x64/lib/python3.9/site-packages/arxiv_on_deck_2/latex.py:118: LatexWarning: attempting recovering figure figures/J07446+035/correlation_servalcrx_fitgaussianrvline/ts_nlin_histrcoeff_periodogram_all_rcoeff_cuts_-0.40_0.40_inside_stdwrvlinmax200_rcoeff_cuts_-0.30_0.30_inside_stdwrvlinmax200_rcoeff_cuts_-0.20_0.20_inside_stdwrvlinmax200_rcoeff_cuts_-0.10_0.10_inside_stdwrvlinmax200_rvline_mean_zoomprot\n",
      "  warnings.warn(LatexWarning(f'attempting recovering figure {image}'))\n"
     ]
    },
    {
     "name": "stderr",
     "output_type": "stream",
     "text": [
      "/opt/hostedtoolcache/Python/3.9.16/x64/lib/python3.9/site-packages/arxiv_on_deck_2/latex.py:118: LatexWarning: attempting recovering figure figures/J07446+035/correlation_ccfbis_fitgaussianrvline/ts_nlin_histrcoeff_periodogram_all_rcoeff_cuts_-0.40_inf_outside_rcoeff_cuts_-0.60_inf_outside_rcoeff_cuts_-0.80_inf_outside_rvline_mean_zoomprot\n",
      "  warnings.warn(LatexWarning(f'attempting recovering figure {image}'))\n"
     ]
    },
    {
     "name": "stderr",
     "output_type": "stream",
     "text": [
      "/opt/hostedtoolcache/Python/3.9.16/x64/lib/python3.9/site-packages/arxiv_on_deck_2/latex.py:118: LatexWarning: attempting recovering figure figures/J07446+035/correlation_servalcrx_fitgaussianrvline/ts_nlin_histrcoeff_periodogram_all_rcoeff_cuts_-0.40_inf_outside_rcoeff_cuts_-0.60_inf_outside_rcoeff_cuts_-0.80_inf_outside_rvline_mean_zoomprot\n",
      "  warnings.warn(LatexWarning(f'attempting recovering figure {image}'))\n"
     ]
    },
    {
     "name": "stderr",
     "output_type": "stream",
     "text": [
      "/opt/hostedtoolcache/Python/3.9.16/x64/lib/python3.9/site-packages/arxiv_on_deck_2/latex.py:118: LatexWarning: attempting recovering figure figures/J05019+011/correlation_ccfrvnzp_fitgaussianrvline/2dwstdrv_rcoeff_stdrvts\n",
      "  warnings.warn(LatexWarning(f'attempting recovering figure {image}'))\n",
      "/opt/hostedtoolcache/Python/3.9.16/x64/lib/python3.9/site-packages/arxiv_on_deck_2/latex.py:118: LatexWarning: attempting recovering figure figures/J05019+011/correlation_ccfbis_fitgaussianrvline/2dwstdrv_rcoeff_stdrvts\n",
      "  warnings.warn(LatexWarning(f'attempting recovering figure {image}'))\n",
      "/opt/hostedtoolcache/Python/3.9.16/x64/lib/python3.9/site-packages/arxiv_on_deck_2/latex.py:118: LatexWarning: attempting recovering figure figures/J05019+011/correlation_servalcrx_fitgaussianrvline/2dwstdrv_rcoeff_stdrvts\n",
      "  warnings.warn(LatexWarning(f'attempting recovering figure {image}'))\n"
     ]
    },
    {
     "name": "stderr",
     "output_type": "stream",
     "text": [
      "/opt/hostedtoolcache/Python/3.9.16/x64/lib/python3.9/site-packages/arxiv_on_deck_2/latex.py:118: LatexWarning: attempting recovering figure figures/J05019+011/correlation_ccfrvnzp_fitgaussianrvline/ts_nlin_histrcoeff_periodogram_all_rcoeff_cuts_-0.40_0.40_inside_stdwrvlinmax300_rcoeff_cuts_-0.30_0.30_inside_stdwrvlinmax300_rcoeff_cuts_-0.20_0.20_inside_stdwrvlinmax300_rcoeff_cuts_-0.10_0.10_inside_stdwrvlinmax300_rvline_mean_zoomprot\n",
      "  warnings.warn(LatexWarning(f'attempting recovering figure {image}'))\n"
     ]
    },
    {
     "name": "stderr",
     "output_type": "stream",
     "text": [
      "/opt/hostedtoolcache/Python/3.9.16/x64/lib/python3.9/site-packages/arxiv_on_deck_2/latex.py:118: LatexWarning: attempting recovering figure figures/J05019+011/correlation_ccfbis_fitgaussianrvline/ts_nlin_histrcoeff_periodogram_all_rcoeff_cuts_-0.40_0.40_inside_stdwrvlinmax300_rcoeff_cuts_-0.30_0.30_inside_stdwrvlinmax300_rcoeff_cuts_-0.20_0.20_inside_stdwrvlinmax300_rcoeff_cuts_-0.10_0.10_inside_stdwrvlinmax300_rvline_mean_zoomprot\n",
      "  warnings.warn(LatexWarning(f'attempting recovering figure {image}'))\n"
     ]
    },
    {
     "name": "stderr",
     "output_type": "stream",
     "text": [
      "/opt/hostedtoolcache/Python/3.9.16/x64/lib/python3.9/site-packages/arxiv_on_deck_2/latex.py:118: LatexWarning: attempting recovering figure figures/J05019+011/correlation_servalcrx_fitgaussianrvline/ts_nlin_histrcoeff_periodogram_all_rcoeff_cuts_-0.40_0.40_inside_stdwrvlinmax300_rcoeff_cuts_-0.30_0.30_inside_stdwrvlinmax300_rcoeff_cuts_-0.20_0.20_inside_stdwrvlinmax300_rcoeff_cuts_-0.10_0.10_inside_stdwrvlinmax300_rvline_mean_zoomprot\n",
      "  warnings.warn(LatexWarning(f'attempting recovering figure {image}'))\n"
     ]
    },
    {
     "name": "stderr",
     "output_type": "stream",
     "text": [
      "/opt/hostedtoolcache/Python/3.9.16/x64/lib/python3.9/site-packages/arxiv_on_deck_2/latex.py:118: LatexWarning: attempting recovering figure figures/J05019+011/correlation_ccfrvnzp_fitgaussianrvline/ts_nlin_histrcoeff_periodogram_all_rcoeff_cuts_-inf_0.40_outside_rcoeff_cuts_-inf_0.60_outside_rcoeff_cuts_-inf_0.80_outside_rvline_mean_zoomprot\n",
      "  warnings.warn(LatexWarning(f'attempting recovering figure {image}'))\n"
     ]
    },
    {
     "name": "stderr",
     "output_type": "stream",
     "text": [
      "/opt/hostedtoolcache/Python/3.9.16/x64/lib/python3.9/site-packages/arxiv_on_deck_2/latex.py:118: LatexWarning: attempting recovering figure figures/J05019+011/correlation_ccfbis_fitgaussianrvline/ts_nlin_histrcoeff_periodogram_all_rcoeff_cuts_-0.40_inf_outside_rcoeff_cuts_-0.60_inf_outside_rcoeff_cuts_-0.80_inf_outside_rvline_mean_zoomprot\n",
      "  warnings.warn(LatexWarning(f'attempting recovering figure {image}'))\n"
     ]
    },
    {
     "name": "stderr",
     "output_type": "stream",
     "text": [
      "/opt/hostedtoolcache/Python/3.9.16/x64/lib/python3.9/site-packages/arxiv_on_deck_2/latex.py:118: LatexWarning: attempting recovering figure figures/J05019+011/correlation_servalcrx_fitgaussianrvline/ts_nlin_histrcoeff_periodogram_all_rcoeff_cuts_-0.40_inf_outside_rcoeff_cuts_-0.60_inf_outside_rcoeff_cuts_-0.80_inf_outside_rvline_mean_zoomprot\n",
      "  warnings.warn(LatexWarning(f'attempting recovering figure {image}'))\n"
     ]
    },
    {
     "name": "stderr",
     "output_type": "stream",
     "text": [
      "/opt/hostedtoolcache/Python/3.9.16/x64/lib/python3.9/site-packages/arxiv_on_deck_2/latex.py:118: LatexWarning: attempting recovering figure figures/J22468+443/correlation_ccfrvnzp_fitgaussianrvline/2dwstdrv_rcoeff_stdrvts\n",
      "  warnings.warn(LatexWarning(f'attempting recovering figure {image}'))\n",
      "/opt/hostedtoolcache/Python/3.9.16/x64/lib/python3.9/site-packages/arxiv_on_deck_2/latex.py:118: LatexWarning: attempting recovering figure figures/J22468+443/correlation_ccfbis_fitgaussianrvline/2dwstdrv_rcoeff_stdrvts\n",
      "  warnings.warn(LatexWarning(f'attempting recovering figure {image}'))\n",
      "/opt/hostedtoolcache/Python/3.9.16/x64/lib/python3.9/site-packages/arxiv_on_deck_2/latex.py:118: LatexWarning: attempting recovering figure figures/J22468+443/correlation_servalcrx_fitgaussianrvline/2dwstdrv_rcoeff_stdrvts\n",
      "  warnings.warn(LatexWarning(f'attempting recovering figure {image}'))\n"
     ]
    },
    {
     "name": "stderr",
     "output_type": "stream",
     "text": [
      "/opt/hostedtoolcache/Python/3.9.16/x64/lib/python3.9/site-packages/arxiv_on_deck_2/latex.py:118: LatexWarning: attempting recovering figure figures/J22468+443/correlation_ccfrvnzp_fitgaussianrvline/ts_nlin_histrcoeff_periodogram_all_rcoeff_cuts_-0.40_0.40_inside_stdwrvlinmax200_rcoeff_cuts_-0.30_0.30_inside_stdwrvlinmax200_rcoeff_cuts_-0.20_0.20_inside_stdwrvlinmax200_rcoeff_cuts_-0.10_0.10_inside_stdwrvlinmax200_rvline_mean_zoomprot\n",
      "  warnings.warn(LatexWarning(f'attempting recovering figure {image}'))\n"
     ]
    },
    {
     "name": "stderr",
     "output_type": "stream",
     "text": [
      "/opt/hostedtoolcache/Python/3.9.16/x64/lib/python3.9/site-packages/arxiv_on_deck_2/latex.py:118: LatexWarning: attempting recovering figure figures/J22468+443/correlation_ccfbis_fitgaussianrvline/ts_nlin_histrcoeff_periodogram_all_rcoeff_cuts_-0.40_0.40_inside_stdwrvlinmax200_rcoeff_cuts_-0.30_0.30_inside_stdwrvlinmax200_rcoeff_cuts_-0.20_0.20_inside_stdwrvlinmax200_rcoeff_cuts_-0.10_0.10_inside_stdwrvlinmax200_rvline_mean_zoomprot\n",
      "  warnings.warn(LatexWarning(f'attempting recovering figure {image}'))\n"
     ]
    },
    {
     "name": "stderr",
     "output_type": "stream",
     "text": [
      "/opt/hostedtoolcache/Python/3.9.16/x64/lib/python3.9/site-packages/arxiv_on_deck_2/latex.py:118: LatexWarning: attempting recovering figure figures/J22468+443/correlation_servalcrx_fitgaussianrvline/ts_nlin_histrcoeff_periodogram_all_rcoeff_cuts_-0.40_0.40_inside_stdwrvlinmax200_rcoeff_cuts_-0.30_0.30_inside_stdwrvlinmax200_rcoeff_cuts_-0.20_0.20_inside_stdwrvlinmax200_rcoeff_cuts_-0.10_0.10_inside_stdwrvlinmax200_rvline_mean_zoomprot\n",
      "  warnings.warn(LatexWarning(f'attempting recovering figure {image}'))\n"
     ]
    },
    {
     "name": "stderr",
     "output_type": "stream",
     "text": [
      "/opt/hostedtoolcache/Python/3.9.16/x64/lib/python3.9/site-packages/arxiv_on_deck_2/latex.py:118: LatexWarning: attempting recovering figure figures/J22468+443/correlation_ccfrvnzp_fitgaussianrvline/ts_nlin_histrcoeff_periodogram_all_rcoeff_cuts_-inf_0.30_outside_rcoeff_cuts_-inf_0.40_outside_rcoeff_cuts_-inf_0.60_outside_rvline_mean_zoomprot\n",
      "  warnings.warn(LatexWarning(f'attempting recovering figure {image}'))\n"
     ]
    },
    {
     "name": "stderr",
     "output_type": "stream",
     "text": [
      "/opt/hostedtoolcache/Python/3.9.16/x64/lib/python3.9/site-packages/arxiv_on_deck_2/latex.py:118: LatexWarning: attempting recovering figure figures/J22468+443/correlation_ccfbis_fitgaussianrvline/ts_nlin_histrcoeff_periodogram_all_rcoeff_cuts_-0.30_inf_outside_rcoeff_cuts_-0.40_inf_outside_rcoeff_cuts_-0.60_inf_outside_rvline_mean_zoomprot\n",
      "  warnings.warn(LatexWarning(f'attempting recovering figure {image}'))\n"
     ]
    },
    {
     "name": "stderr",
     "output_type": "stream",
     "text": [
      "/opt/hostedtoolcache/Python/3.9.16/x64/lib/python3.9/site-packages/arxiv_on_deck_2/latex.py:118: LatexWarning: attempting recovering figure figures/J22468+443/correlation_servalcrx_fitgaussianrvline/ts_nlin_histrcoeff_periodogram_all_rcoeff_cuts_-0.30_inf_outside_rcoeff_cuts_-0.40_inf_outside_rcoeff_cuts_-0.60_inf_outside_rvline_mean_zoomprot\n",
      "  warnings.warn(LatexWarning(f'attempting recovering figure {image}'))\n"
     ]
    },
    {
     "name": "stderr",
     "output_type": "stream",
     "text": [
      "/opt/hostedtoolcache/Python/3.9.16/x64/lib/python3.9/site-packages/arxiv_on_deck_2/latex.py:118: LatexWarning: attempting recovering figure figures/J10196+198/correlation_ccfrvnzp_fitgaussianrvline/2dwstdrv_rcoeff_stdrvts\n",
      "  warnings.warn(LatexWarning(f'attempting recovering figure {image}'))\n",
      "/opt/hostedtoolcache/Python/3.9.16/x64/lib/python3.9/site-packages/arxiv_on_deck_2/latex.py:118: LatexWarning: attempting recovering figure figures/J10196+198/correlation_ccfbis_fitgaussianrvline/2dwstdrv_rcoeff_stdrvts\n",
      "  warnings.warn(LatexWarning(f'attempting recovering figure {image}'))\n",
      "/opt/hostedtoolcache/Python/3.9.16/x64/lib/python3.9/site-packages/arxiv_on_deck_2/latex.py:118: LatexWarning: attempting recovering figure figures/J10196+198/correlation_servalcrx_fitgaussianrvline/2dwstdrv_rcoeff_stdrvts\n",
      "  warnings.warn(LatexWarning(f'attempting recovering figure {image}'))\n"
     ]
    },
    {
     "name": "stderr",
     "output_type": "stream",
     "text": [
      "/opt/hostedtoolcache/Python/3.9.16/x64/lib/python3.9/site-packages/arxiv_on_deck_2/latex.py:118: LatexWarning: attempting recovering figure figures/J10196+198/correlation_ccfrvnzp_fitgaussianrvline/ts_nlin_histrcoeff_periodogram_all_rcoeff_cuts_-0.40_0.40_inside_rcoeff_cuts_-0.30_0.30_inside_rcoeff_cuts_-0.20_0.20_inside_rcoeff_cuts_-0.10_0.10_inside_rvline_mean_zoomprot\n",
      "  warnings.warn(LatexWarning(f'attempting recovering figure {image}'))\n"
     ]
    },
    {
     "name": "stderr",
     "output_type": "stream",
     "text": [
      "/opt/hostedtoolcache/Python/3.9.16/x64/lib/python3.9/site-packages/arxiv_on_deck_2/latex.py:118: LatexWarning: attempting recovering figure figures/J10196+198/correlation_ccfbis_fitgaussianrvline/ts_nlin_histrcoeff_periodogram_all_rcoeff_cuts_-0.40_0.40_inside_rcoeff_cuts_-0.30_0.30_inside_rcoeff_cuts_-0.20_0.20_inside_rcoeff_cuts_-0.10_0.10_inside_rvline_mean_zoomprot\n",
      "  warnings.warn(LatexWarning(f'attempting recovering figure {image}'))\n"
     ]
    },
    {
     "name": "stderr",
     "output_type": "stream",
     "text": [
      "/opt/hostedtoolcache/Python/3.9.16/x64/lib/python3.9/site-packages/arxiv_on_deck_2/latex.py:118: LatexWarning: attempting recovering figure figures/J10196+198/correlation_servalcrx_fitgaussianrvline/ts_nlin_histrcoeff_periodogram_all_rcoeff_cuts_-0.40_0.40_inside_rcoeff_cuts_-0.30_0.30_inside_rcoeff_cuts_-0.20_0.20_inside_rcoeff_cuts_-0.10_0.10_inside_rvline_mean_zoomprot\n",
      "  warnings.warn(LatexWarning(f'attempting recovering figure {image}'))\n"
     ]
    },
    {
     "name": "stderr",
     "output_type": "stream",
     "text": [
      "/opt/hostedtoolcache/Python/3.9.16/x64/lib/python3.9/site-packages/arxiv_on_deck_2/latex.py:118: LatexWarning: attempting recovering figure figures/J10196+198/correlation_ccfrvnzp_fitgaussianrvline/ts_nlin_histrcoeff_periodogram_all_rcoeff_cuts_-inf_0.30_outside_rcoeff_cuts_-inf_0.40_outside_rcoeff_cuts_-inf_0.50_outside_rvline_mean_zoomprot\n",
      "  warnings.warn(LatexWarning(f'attempting recovering figure {image}'))\n"
     ]
    },
    {
     "name": "stderr",
     "output_type": "stream",
     "text": [
      "/opt/hostedtoolcache/Python/3.9.16/x64/lib/python3.9/site-packages/arxiv_on_deck_2/latex.py:118: LatexWarning: attempting recovering figure figures/J10196+198/correlation_ccfbis_fitgaussianrvline/ts_nlin_histrcoeff_periodogram_all_rcoeff_cuts_-0.30_inf_outside_rcoeff_cuts_-0.40_inf_outside_rcoeff_cuts_-0.50_inf_outside_rvline_mean_zoomprot\n",
      "  warnings.warn(LatexWarning(f'attempting recovering figure {image}'))\n"
     ]
    },
    {
     "name": "stderr",
     "output_type": "stream",
     "text": [
      "/opt/hostedtoolcache/Python/3.9.16/x64/lib/python3.9/site-packages/arxiv_on_deck_2/latex.py:118: LatexWarning: attempting recovering figure figures/J10196+198/correlation_servalcrx_fitgaussianrvline/ts_nlin_histrcoeff_periodogram_all_rcoeff_cuts_-0.30_inf_outside_rcoeff_cuts_-0.40_inf_outside_rcoeff_cuts_-0.50_inf_outside_rvline_mean_zoomprot\n",
      "  warnings.warn(LatexWarning(f'attempting recovering figure {image}'))\n"
     ]
    },
    {
     "name": "stderr",
     "output_type": "stream",
     "text": [
      "/opt/hostedtoolcache/Python/3.9.16/x64/lib/python3.9/site-packages/arxiv_on_deck_2/latex.py:118: LatexWarning: attempting recovering figure figures/J15218+209/correlation_ccfrvnzp_fitgaussianrvline/2dwstdrv_rcoeff_stdrvts\n",
      "  warnings.warn(LatexWarning(f'attempting recovering figure {image}'))\n",
      "/opt/hostedtoolcache/Python/3.9.16/x64/lib/python3.9/site-packages/arxiv_on_deck_2/latex.py:118: LatexWarning: attempting recovering figure figures/J15218+209/correlation_ccfbis_fitgaussianrvline/2dwstdrv_rcoeff_stdrvts\n",
      "  warnings.warn(LatexWarning(f'attempting recovering figure {image}'))\n",
      "/opt/hostedtoolcache/Python/3.9.16/x64/lib/python3.9/site-packages/arxiv_on_deck_2/latex.py:118: LatexWarning: attempting recovering figure figures/J15218+209/correlation_servalcrx_fitgaussianrvline/2dwstdrv_rcoeff_stdrvts\n",
      "  warnings.warn(LatexWarning(f'attempting recovering figure {image}'))\n"
     ]
    },
    {
     "name": "stderr",
     "output_type": "stream",
     "text": [
      "/opt/hostedtoolcache/Python/3.9.16/x64/lib/python3.9/site-packages/arxiv_on_deck_2/latex.py:118: LatexWarning: attempting recovering figure figures/J15218+209/correlation_ccfrvnzp_fitgaussianrvline/ts_nlin_histrcoeff_periodogram_all_rcoeff_cuts_-0.40_0.40_inside_stdwrvlinmax200_rcoeff_cuts_-0.30_0.30_inside_stdwrvlinmax200_rcoeff_cuts_-0.20_0.20_inside_stdwrvlinmax200_rcoeff_cuts_-0.10_0.10_inside_stdwrvlinmax200_rvline_mean_zoomprot\n",
      "  warnings.warn(LatexWarning(f'attempting recovering figure {image}'))\n"
     ]
    },
    {
     "name": "stderr",
     "output_type": "stream",
     "text": [
      "/opt/hostedtoolcache/Python/3.9.16/x64/lib/python3.9/site-packages/arxiv_on_deck_2/latex.py:118: LatexWarning: attempting recovering figure figures/J15218+209/correlation_ccfbis_fitgaussianrvline/ts_nlin_histrcoeff_periodogram_all_rcoeff_cuts_-0.40_0.40_inside_stdwrvlinmax200_rcoeff_cuts_-0.30_0.30_inside_stdwrvlinmax200_rcoeff_cuts_-0.20_0.20_inside_stdwrvlinmax200_rcoeff_cuts_-0.10_0.10_inside_stdwrvlinmax200_rvline_mean_zoomprot\n",
      "  warnings.warn(LatexWarning(f'attempting recovering figure {image}'))\n"
     ]
    },
    {
     "name": "stderr",
     "output_type": "stream",
     "text": [
      "/opt/hostedtoolcache/Python/3.9.16/x64/lib/python3.9/site-packages/arxiv_on_deck_2/latex.py:118: LatexWarning: attempting recovering figure figures/J15218+209/correlation_servalcrx_fitgaussianrvline/ts_nlin_histrcoeff_periodogram_all_rcoeff_cuts_-0.40_0.40_inside_stdwrvlinmax200_rcoeff_cuts_-0.30_0.30_inside_stdwrvlinmax200_rcoeff_cuts_-0.20_0.20_inside_stdwrvlinmax200_rcoeff_cuts_-0.10_0.10_inside_stdwrvlinmax200_rvline_mean_zoomprot\n",
      "  warnings.warn(LatexWarning(f'attempting recovering figure {image}'))\n"
     ]
    },
    {
     "name": "stderr",
     "output_type": "stream",
     "text": [
      "/opt/hostedtoolcache/Python/3.9.16/x64/lib/python3.9/site-packages/arxiv_on_deck_2/latex.py:118: LatexWarning: attempting recovering figure figures/J15218+209/correlation_ccfrvnzp_fitgaussianrvline/ts_nlin_histrcoeff_periodogram_all_rcoeff_cuts_-inf_0.30_outside_rcoeff_cuts_-inf_0.40_outside_rcoeff_cuts_-inf_0.60_outside_rvline_mean_zoomprot\n",
      "  warnings.warn(LatexWarning(f'attempting recovering figure {image}'))\n"
     ]
    },
    {
     "name": "stderr",
     "output_type": "stream",
     "text": [
      "/opt/hostedtoolcache/Python/3.9.16/x64/lib/python3.9/site-packages/arxiv_on_deck_2/latex.py:118: LatexWarning: attempting recovering figure figures/J15218+209/correlation_ccfbis_fitgaussianrvline/ts_nlin_histrcoeff_periodogram_all_rcoeff_cuts_-0.30_inf_outside_rcoeff_cuts_-0.40_inf_outside_rcoeff_cuts_-0.60_inf_outside_rvline_mean_zoomprot\n",
      "  warnings.warn(LatexWarning(f'attempting recovering figure {image}'))\n"
     ]
    },
    {
     "name": "stderr",
     "output_type": "stream",
     "text": [
      "/opt/hostedtoolcache/Python/3.9.16/x64/lib/python3.9/site-packages/arxiv_on_deck_2/latex.py:118: LatexWarning: attempting recovering figure figures/J15218+209/correlation_servalcrx_fitgaussianrvline/ts_nlin_histrcoeff_periodogram_all_rcoeff_cuts_-0.30_inf_outside_rcoeff_cuts_-0.40_inf_outside_rcoeff_cuts_-0.60_inf_outside_rvline_mean_zoomprot\n",
      "  warnings.warn(LatexWarning(f'attempting recovering figure {image}'))\n"
     ]
    },
    {
     "name": "stderr",
     "output_type": "stream",
     "text": [
      "/opt/hostedtoolcache/Python/3.9.16/x64/lib/python3.9/site-packages/arxiv_on_deck_2/latex.py:118: LatexWarning: attempting recovering figure figures/J11201-104/correlation_ccfrvnzp_fitgaussianrvline/2dwstdrv_rcoeff_stdrvts\n",
      "  warnings.warn(LatexWarning(f'attempting recovering figure {image}'))\n",
      "/opt/hostedtoolcache/Python/3.9.16/x64/lib/python3.9/site-packages/arxiv_on_deck_2/latex.py:118: LatexWarning: attempting recovering figure figures/J11201-104/correlation_ccfbis_fitgaussianrvline/2dwstdrv_rcoeff_stdrvts\n",
      "  warnings.warn(LatexWarning(f'attempting recovering figure {image}'))\n",
      "/opt/hostedtoolcache/Python/3.9.16/x64/lib/python3.9/site-packages/arxiv_on_deck_2/latex.py:118: LatexWarning: attempting recovering figure figures/J11201-104/correlation_servalcrx_fitgaussianrvline/2dwstdrv_rcoeff_stdrvts\n",
      "  warnings.warn(LatexWarning(f'attempting recovering figure {image}'))\n"
     ]
    },
    {
     "name": "stderr",
     "output_type": "stream",
     "text": [
      "/opt/hostedtoolcache/Python/3.9.16/x64/lib/python3.9/site-packages/arxiv_on_deck_2/latex.py:118: LatexWarning: attempting recovering figure figures/J11201-104/correlation_ccfrvnzp_fitgaussianrvline/ts_nlin_histrcoeff_periodogram_all_rcoeff_cuts_-0.40_0.40_inside_stdwrvlinmax200_rcoeff_cuts_-0.30_0.30_inside_stdwrvlinmax200_rcoeff_cuts_-0.20_0.20_inside_stdwrvlinmax200_rcoeff_cuts_-0.10_0.10_inside_stdwrvlinmax200_rvline_mean_zoomprot\n",
      "  warnings.warn(LatexWarning(f'attempting recovering figure {image}'))\n"
     ]
    },
    {
     "name": "stderr",
     "output_type": "stream",
     "text": [
      "/opt/hostedtoolcache/Python/3.9.16/x64/lib/python3.9/site-packages/arxiv_on_deck_2/latex.py:118: LatexWarning: attempting recovering figure figures/J11201-104/correlation_ccfbis_fitgaussianrvline/ts_nlin_histrcoeff_periodogram_all_rcoeff_cuts_-0.40_0.40_inside_stdwrvlinmax200_rcoeff_cuts_-0.30_0.30_inside_stdwrvlinmax200_rcoeff_cuts_-0.20_0.20_inside_stdwrvlinmax200_rcoeff_cuts_-0.10_0.10_inside_stdwrvlinmax200_rvline_mean_zoomprot\n",
      "  warnings.warn(LatexWarning(f'attempting recovering figure {image}'))\n"
     ]
    },
    {
     "name": "stderr",
     "output_type": "stream",
     "text": [
      "/opt/hostedtoolcache/Python/3.9.16/x64/lib/python3.9/site-packages/arxiv_on_deck_2/latex.py:118: LatexWarning: attempting recovering figure figures/J11201-104/correlation_servalcrx_fitgaussianrvline/ts_nlin_histrcoeff_periodogram_all_rcoeff_cuts_-0.40_0.40_inside_stdwrvlinmax200_rcoeff_cuts_-0.30_0.30_inside_stdwrvlinmax200_rcoeff_cuts_-0.20_0.20_inside_stdwrvlinmax200_rcoeff_cuts_-0.10_0.10_inside_stdwrvlinmax200_rvline_mean_zoomprot\n",
      "  warnings.warn(LatexWarning(f'attempting recovering figure {image}'))\n"
     ]
    },
    {
     "name": "stderr",
     "output_type": "stream",
     "text": [
      "/opt/hostedtoolcache/Python/3.9.16/x64/lib/python3.9/site-packages/arxiv_on_deck_2/latex.py:118: LatexWarning: attempting recovering figure figures/J11201-104/correlation_ccfrvnzp_fitgaussianrvline/ts_nlin_histrcoeff_periodogram_all_rcoeff_cuts_-inf_0.30_outside_rcoeff_cuts_-inf_0.40_outside_rcoeff_cuts_-inf_0.50_outside_rvline_mean_zoomprot\n",
      "  warnings.warn(LatexWarning(f'attempting recovering figure {image}'))\n"
     ]
    },
    {
     "name": "stderr",
     "output_type": "stream",
     "text": [
      "/opt/hostedtoolcache/Python/3.9.16/x64/lib/python3.9/site-packages/arxiv_on_deck_2/latex.py:118: LatexWarning: attempting recovering figure figures/J11201-104/correlation_ccfbis_fitgaussianrvline/ts_nlin_histrcoeff_periodogram_all_rcoeff_cuts_-0.30_inf_outside_rcoeff_cuts_-0.40_inf_outside_rcoeff_cuts_-0.50_inf_outside_rvline_mean_zoomprot\n",
      "  warnings.warn(LatexWarning(f'attempting recovering figure {image}'))\n"
     ]
    },
    {
     "name": "stderr",
     "output_type": "stream",
     "text": [
      "/opt/hostedtoolcache/Python/3.9.16/x64/lib/python3.9/site-packages/arxiv_on_deck_2/latex.py:118: LatexWarning: attempting recovering figure figures/J11201-104/correlation_servalcrx_fitgaussianrvline/ts_nlin_histrcoeff_periodogram_all_rcoeff_cuts_-0.30_inf_outside_rcoeff_cuts_-0.40_inf_outside_rcoeff_cuts_-0.50_inf_outside_rvline_mean_zoomprot\n",
      "  warnings.warn(LatexWarning(f'attempting recovering figure {image}'))\n"
     ]
    },
    {
     "name": "stderr",
     "output_type": "stream",
     "text": [
      "/opt/hostedtoolcache/Python/3.9.16/x64/lib/python3.9/site-packages/arxiv_on_deck_2/latex.py:118: LatexWarning: attempting recovering figure figures/J07446+035/ts_nlin_histrcoeff_periodogram_all_rcoeff_cuts_-0.20_0.20_inside_stdwrvlinmax200_J07446+035_rcoeff_cuts_-0.30_0.30_inside_stdwrvlinmax300_J05019+011_common_rvline_mean_zoomprot\n",
      "  warnings.warn(LatexWarning(f'attempting recovering figure {image}'))\n"
     ]
    },
    {
     "name": "stderr",
     "output_type": "stream",
     "text": [
      "/opt/hostedtoolcache/Python/3.9.16/x64/lib/python3.9/site-packages/arxiv_on_deck_2/latex.py:118: LatexWarning: attempting recovering figure figures/J05019+011/ts_nlin_histrcoeff_periodogram_all_rcoeff_cuts_-0.20_0.20_inside_stdwrvlinmax200_J07446+035_rcoeff_cuts_-0.30_0.30_inside_stdwrvlinmax300_J05019+011_common_rvline_mean_zoomprot\n",
      "  warnings.warn(LatexWarning(f'attempting recovering figure {image}'))\n"
     ]
    },
    {
     "name": "stderr",
     "output_type": "stream",
     "text": [
      "/opt/hostedtoolcache/Python/3.9.16/x64/lib/python3.9/site-packages/arxiv_on_deck_2/latex.py:118: LatexWarning: attempting recovering figure figures/J07446+035/ts_nlin_histrcoeff_periodogram_all_rcoeff_cuts_-0.20_0.20_inside_stdwrvlinmax200_J07446+035_rcoeff_cuts_-0.10_0.10_inside_stdwrvlinmax200_J22468+443_common_rvline_mean_zoomprot\n",
      "  warnings.warn(LatexWarning(f'attempting recovering figure {image}'))\n"
     ]
    },
    {
     "name": "stderr",
     "output_type": "stream",
     "text": [
      "/opt/hostedtoolcache/Python/3.9.16/x64/lib/python3.9/site-packages/arxiv_on_deck_2/latex.py:118: LatexWarning: attempting recovering figure figures/J22468+443/ts_nlin_histrcoeff_periodogram_all_rcoeff_cuts_-0.20_0.20_inside_stdwrvlinmax200_J07446+035_rcoeff_cuts_-0.10_0.10_inside_stdwrvlinmax200_J22468+443_common_rvline_mean_zoomprot\n",
      "  warnings.warn(LatexWarning(f'attempting recovering figure {image}'))\n"
     ]
    },
    {
     "name": "stderr",
     "output_type": "stream",
     "text": [
      "/opt/hostedtoolcache/Python/3.9.16/x64/lib/python3.9/site-packages/arxiv_on_deck_2/latex.py:118: LatexWarning: attempting recovering figure figures/J22468+443/ts_nlin_histrcoeff_periodogram_all_rcoeff_cuts_-0.10_0.10_inside_stdwrvlinmax200_J22468+443_rcoeff_cuts_-0.30_0.30_inside_stdwrvlinmax300_J05019+011_common_rvline_mean_zoomprot\n",
      "  warnings.warn(LatexWarning(f'attempting recovering figure {image}'))\n"
     ]
    },
    {
     "name": "stderr",
     "output_type": "stream",
     "text": [
      "/opt/hostedtoolcache/Python/3.9.16/x64/lib/python3.9/site-packages/arxiv_on_deck_2/latex.py:118: LatexWarning: attempting recovering figure figures/J05019+011/ts_nlin_histrcoeff_periodogram_all_rcoeff_cuts_-0.10_0.10_inside_stdwrvlinmax200_J22468+443_rcoeff_cuts_-0.30_0.30_inside_stdwrvlinmax300_J05019+011_common_rvline_mean_zoomprot\n",
      "  warnings.warn(LatexWarning(f'attempting recovering figure {image}'))\n"
     ]
    },
    {
     "name": "stderr",
     "output_type": "stream",
     "text": [
      "/opt/hostedtoolcache/Python/3.9.16/x64/lib/python3.9/site-packages/arxiv_on_deck_2/latex.py:118: LatexWarning: attempting recovering figure figures/J15218+209/ts_nlin_histrcoeff_periodogram_all_rcoeff_cuts_-0.10_0.10_inside_stdwrvlinmax300_J15218+209_rcoeff_cuts_-0.20_0.20_inside_stdwrvlinmax200_J11201-104_common_rvline_mean_zoomprot\n",
      "  warnings.warn(LatexWarning(f'attempting recovering figure {image}'))\n"
     ]
    },
    {
     "name": "stderr",
     "output_type": "stream",
     "text": [
      "/opt/hostedtoolcache/Python/3.9.16/x64/lib/python3.9/site-packages/arxiv_on_deck_2/latex.py:118: LatexWarning: attempting recovering figure figures/J11201-104/ts_nlin_histrcoeff_periodogram_all_rcoeff_cuts_-0.10_0.10_inside_stdwrvlinmax300_J15218+209_rcoeff_cuts_-0.20_0.20_inside_stdwrvlinmax200_J11201-104_common_rvline_mean_zoomprot\n",
      "  warnings.warn(LatexWarning(f'attempting recovering figure {image}'))\n"
     ]
    },
    {
     "name": "stdout",
     "output_type": "stream",
     "text": [
      "Retrieving document from  https://arxiv.org/e-print/2302.07929\n"
     ]
    },
    {
     "name": "stdout",
     "output_type": "stream",
     "text": [
      "extracting tarball to tmp_2302.07929..."
     ]
    },
    {
     "name": "stdout",
     "output_type": "stream",
     "text": [
      " done.\n",
      "Retrieving document from  https://arxiv.org/e-print/2302.07932\n"
     ]
    },
    {
     "name": "stdout",
     "output_type": "stream",
     "text": [
      "extracting tarball to tmp_2302.07932... done.\n",
      "Retrieving document from  https://arxiv.org/e-print/2302.07954\n"
     ]
    },
    {
     "name": "stderr",
     "output_type": "stream",
     "text": [
      "/tmp/ipykernel_2031/4030337529.py:34: LatexWarning: 2302.07954 did not run properly\n",
      "not a gzip file\n",
      "  warnings.warn(latex.LatexWarning(f\"{paper_id:s} did not run properly\\n\" +\n"
     ]
    },
    {
     "name": "stdout",
     "output_type": "stream",
     "text": [
      "Retrieving document from  https://arxiv.org/e-print/2302.07963\n"
     ]
    },
    {
     "name": "stdout",
     "output_type": "stream",
     "text": [
      "extracting tarball to tmp_2302.07963..."
     ]
    },
    {
     "name": "stdout",
     "output_type": "stream",
     "text": [
      " done.\n",
      "Retrieving document from  https://arxiv.org/e-print/2302.07969\n"
     ]
    },
    {
     "name": "stdout",
     "output_type": "stream",
     "text": [
      "extracting tarball to tmp_2302.07969..."
     ]
    },
    {
     "name": "stdout",
     "output_type": "stream",
     "text": [
      " done.\n",
      "Retrieving document from  https://arxiv.org/e-print/2302.08032\n"
     ]
    },
    {
     "name": "stderr",
     "output_type": "stream",
     "text": [
      "/opt/hostedtoolcache/Python/3.9.16/x64/lib/python3.9/site-packages/IPython/core/interactiveshell.py:3460: LatexWarning: Multiple tex files.\n",
      "\n",
      "  exec(code_obj, self.user_global_ns, self.user_ns)\n",
      "/opt/hostedtoolcache/Python/3.9.16/x64/lib/python3.9/site-packages/IPython/core/interactiveshell.py:3460: LatexWarning: Found documentclass in tmp_2302.07969/main.tex\n",
      "\n",
      "  exec(code_obj, self.user_global_ns, self.user_ns)\n",
      "/opt/hostedtoolcache/Python/3.9.16/x64/lib/python3.9/site-packages/arxiv_on_deck_2/latex.py:292: LatexWarning: Latex injecting: 'author-list' from 'tmp_2302.07969/author-list.tex'\n",
      "  warnings.warn(LatexWarning(f\"Latex injecting: '{ext}' from '{subsource}'\"))\n"
     ]
    },
    {
     "name": "stdout",
     "output_type": "stream",
     "text": [
      "extracting tarball to tmp_2302.08032..."
     ]
    },
    {
     "name": "stdout",
     "output_type": "stream",
     "text": [
      " done.\n",
      "Retrieving document from  https://arxiv.org/e-print/2302.08072\n"
     ]
    },
    {
     "name": "stderr",
     "output_type": "stream",
     "text": [
      "/tmp/ipykernel_2031/4030337529.py:34: LatexWarning: 2302.08072 did not run properly\n",
      "not a gzip file\n",
      "  warnings.warn(latex.LatexWarning(f\"{paper_id:s} did not run properly\\n\" +\n"
     ]
    },
    {
     "name": "stdout",
     "output_type": "stream",
     "text": [
      "Retrieving document from  https://arxiv.org/e-print/2302.08162\n"
     ]
    },
    {
     "name": "stdout",
     "output_type": "stream",
     "text": [
      "extracting tarball to tmp_2302.08162..."
     ]
    },
    {
     "name": "stdout",
     "output_type": "stream",
     "text": [
      " done.\n",
      "Retrieving document from  https://arxiv.org/e-print/2302.08165\n"
     ]
    },
    {
     "name": "stdout",
     "output_type": "stream",
     "text": [
      "extracting tarball to tmp_2302.08165..."
     ]
    },
    {
     "name": "stdout",
     "output_type": "stream",
     "text": [
      " done.\n",
      "Retrieving document from  https://arxiv.org/e-print/2302.08172\n"
     ]
    },
    {
     "name": "stdout",
     "output_type": "stream",
     "text": [
      "extracting tarball to tmp_2302.08172..."
     ]
    },
    {
     "name": "stdout",
     "output_type": "stream",
     "text": [
      " done.\n",
      "Retrieving document from  https://arxiv.org/e-print/2302.08228\n"
     ]
    },
    {
     "name": "stderr",
     "output_type": "stream",
     "text": [
      "/opt/hostedtoolcache/Python/3.9.16/x64/lib/python3.9/site-packages/IPython/core/interactiveshell.py:3460: LatexWarning: Multiple tex files.\n",
      "\n",
      "  exec(code_obj, self.user_global_ns, self.user_ns)\n",
      "/opt/hostedtoolcache/Python/3.9.16/x64/lib/python3.9/site-packages/IPython/core/interactiveshell.py:3460: LatexWarning: Found documentclass in tmp_2302.08172/main.tex\n",
      "\n",
      "  exec(code_obj, self.user_global_ns, self.user_ns)\n"
     ]
    },
    {
     "name": "stdout",
     "output_type": "stream",
     "text": [
      "extracting tarball to tmp_2302.08228..."
     ]
    },
    {
     "name": "stdout",
     "output_type": "stream",
     "text": [
      " done.\n",
      "Retrieving document from  https://arxiv.org/e-print/2302.08230\n"
     ]
    },
    {
     "name": "stdout",
     "output_type": "stream",
     "text": [
      "extracting tarball to tmp_2302.08230..."
     ]
    },
    {
     "name": "stdout",
     "output_type": "stream",
     "text": [
      " done.\n",
      "Retrieving document from  https://arxiv.org/e-print/2302.08255\n"
     ]
    },
    {
     "name": "stdout",
     "output_type": "stream",
     "text": [
      "extracting tarball to tmp_2302.08255..."
     ]
    },
    {
     "name": "stdout",
     "output_type": "stream",
     "text": [
      " done.\n",
      "Retrieving document from  https://arxiv.org/e-print/2302.08358\n"
     ]
    },
    {
     "name": "stdout",
     "output_type": "stream",
     "text": [
      "extracting tarball to tmp_2302.08358..."
     ]
    },
    {
     "name": "stdout",
     "output_type": "stream",
     "text": [
      " done.\n",
      "Retrieving document from  https://arxiv.org/e-print/2302.08386\n"
     ]
    },
    {
     "name": "stdout",
     "output_type": "stream",
     "text": [
      "extracting tarball to tmp_2302.08386..."
     ]
    },
    {
     "name": "stdout",
     "output_type": "stream",
     "text": [
      " done.\n",
      "Retrieving document from  https://arxiv.org/e-print/2302.08402\n"
     ]
    },
    {
     "name": "stdout",
     "output_type": "stream",
     "text": [
      "extracting tarball to tmp_2302.08402... done.\n",
      "Retrieving document from  https://arxiv.org/e-print/2302.08405\n"
     ]
    },
    {
     "name": "stdout",
     "output_type": "stream",
     "text": [
      "extracting tarball to tmp_2302.08405..."
     ]
    },
    {
     "name": "stdout",
     "output_type": "stream",
     "text": [
      " done.\n"
     ]
    }
   ],
   "source": [
    "documents = []\n",
    "failed = []\n",
    "for paper in tqdm(candidates[:-1]):\n",
    "    paper_id = paper['identifier'].lower().replace('arxiv:', '')\n",
    "    \n",
    "    folder = f'tmp_{paper_id}'\n",
    "\n",
    "    try:\n",
    "        if not os.path.isdir(folder):\n",
    "            folder = retrieve_document_source(f\"{paper_id}\", f'tmp_{paper_id}')\n",
    "        \n",
    "        try:\n",
    "            doc = latex.LatexDocument(folder, validation=validation)    \n",
    "        except AffiliationError as affilerror:\n",
    "            msg = f\"ArXiv:{paper_id:s} is not an MPIA paper... \" + str(affilerror)\n",
    "            failed.append((paper, \"affiliation error: \" + str(affilerror) ))\n",
    "            continue\n",
    "        \n",
    "        # Hack because sometimes author parsing does not work well\n",
    "        if (len(doc.authors) != len(paper['authors'])):\n",
    "            doc._authors = paper['authors']\n",
    "        if (doc.abstract) in (None, ''):\n",
    "            doc._abstract = paper['abstract']\n",
    "            \n",
    "        doc.comment = (get_markdown_badge(paper_id) + \n",
    "                       \"<mark>Appeared on: \" + paper['date'] + \"</mark> - \" +\n",
    "                       \"_\" + paper['comments'] + \"_\")\n",
    "        doc.highlight_authors_in_list(hl_list)\n",
    "\n",
    "        full_md = doc.generate_markdown_text()\n",
    "        \n",
    "        documents.append((paper_id, full_md))\n",
    "    except Exception as e:\n",
    "        warnings.warn(latex.LatexWarning(f\"{paper_id:s} did not run properly\\n\" +\n",
    "                                         str(e)\n",
    "                                        ))\n",
    "        failed.append((paper, \"latex error \" + str(e)))"
   ]
  },
  {
   "cell_type": "markdown",
   "id": "2505a25c",
   "metadata": {
    "papermill": {
     "duration": 0.01167,
     "end_time": "2023-02-17T04:14:42.552202",
     "exception": false,
     "start_time": "2023-02-17T04:14:42.540532",
     "status": "completed"
    },
    "tags": []
   },
   "source": [
    "### Export the logs\n",
    "\n",
    "Throughout, we also keep track of the logs per paper. see `logs-{today date}.md` "
   ]
  },
  {
   "cell_type": "code",
   "execution_count": 6,
   "id": "d733828a",
   "metadata": {
    "execution": {
     "iopub.execute_input": "2023-02-17T04:14:42.651165Z",
     "iopub.status.busy": "2023-02-17T04:14:42.649895Z",
     "iopub.status.idle": "2023-02-17T04:14:42.695183Z",
     "shell.execute_reply": "2023-02-17T04:14:42.694484Z"
    },
    "papermill": {
     "duration": 0.060516,
     "end_time": "2023-02-17T04:14:42.696831",
     "exception": false,
     "start_time": "2023-02-17T04:14:42.636315",
     "status": "completed"
    },
    "scrolled": false,
    "tags": []
   },
   "outputs": [
    {
     "data": {
      "text/markdown": [
       "## Successful papers"
      ],
      "text/plain": [
       "<IPython.core.display.Markdown object>"
      ]
     },
     "metadata": {},
     "output_type": "display_data"
    },
    {
     "data": {
      "text/markdown": [
       "\n",
       "|||\n",
       "|---:|:---|\n",
       "| [![arXiv](https://img.shields.io/badge/arXiv-arXiv:2302.07880-b31b1b.svg)](https://arxiv.org/abs/arXiv:2302.07880) | **A red giant orbiting a black hole**  |\n",
       "|| <mark>Kareem El-Badry</mark>, et al. -- incl., <mark>Hans-Walter Rix</mark>, <mark>Eleonora Zari</mark>, <mark>Melissa Hobson</mark>, <mark>Rhys Seeburger</mark> |\n",
       "|*Appeared on*| *2023-02-17*|\n",
       "|*Comments*| *22 pages, 15 figures. Submitted to MNRAS*|\n",
       "|**Abstract**| We report spectroscopic and photometric follow-up of a dormant black hole (BH) candidate from Gaia DR3. We show that the system, which we call Gaia BH2, contains a $\\sim 1M_{\\odot}$ red giant and a dark companion with mass $M_2 = 8.9\\pm 0.3\\,M_{\\odot}$ that is very likely a BH. The orbital period, $P_{\\rm orb} = 1277$ days, is much longer than that of any previously studied BH binary. Our radial velocity (RV) follow-up over a 6-month period spans most of the orbit's dynamic range in RV and is in excellent agreement with predictions of the Gaia solution. UV imaging and high-resolution optical spectra rule out all plausible luminous companions that could explain the orbit. The star is a bright ($G=12.3$), slightly metal-poor ($\\rm [Fe/H]=-0.22$) low-luminosity giant ($T_{\\rm eff}=4600\\,\\rm K$; $R = 7.9\\,R_{\\odot}$; $\\log\\left[g/\\left({\\rm cm\\,s^{-2}}\\right)\\right] = 2.6$). The binary's orbit is moderately eccentric ($e=0.52$). The giant is strongly enhanced in $\\alpha-$elements, with $\\rm [\\alpha/Fe] = +0.26$, but the system's Galactocentric orbit is typical of the thin disk. We obtained X-ray and radio nondetections of the source near periastron, which support BH accretion models in which the net accretion rate at the horizon is much lower than the Bondi-Hoyle-Lyttleton rate. At a distance of 1.16 kpc, Gaia BH2 is the second-nearest known BH, after Gaia BH1. Its orbit -- like that of Gaia BH1 -- seems too wide to have formed through common envelope evolution. Gaia BH1 and BH2 have orbital periods at opposite edges of the Gaia DR3 sensitivity curve, perhaps hinting at a bimodal intrinsic period distribution for wide BH binaries. Dormant BH binaries like Gaia BH1 and Gaia BH2 likely significantly outnumber their close, X-ray bright cousins, but their formation pathways remain uncertain. |"
      ],
      "text/plain": [
       "[arXiv:2302.07880] A red giant orbiting a black hole\n",
       "\t<mark>Kareem El-Badry</mark>, et al. -- incl., <mark>Hans-Walter Rix</mark>, <mark>Eleonora Zari</mark>, <mark>Melissa Hobson</mark>, <mark>Rhys Seeburger</mark>"
      ]
     },
     "metadata": {},
     "output_type": "display_data"
    },
    {
     "data": {
      "text/markdown": [
       "\n",
       "|||\n",
       "|---:|:---|\n",
       "| [![arXiv](https://img.shields.io/badge/arXiv-arXiv:2302.07916-b31b1b.svg)](https://arxiv.org/abs/arXiv:2302.07916) | **The CARMENES search for exoplanets around M dwarfs. Line-by-line  sensitivity to activity in M dwarfs**  |\n",
       "|| M. Lafarga, et al. -- incl., <mark>Th. Henning</mark>, <mark>M. Kürster</mark> |\n",
       "|*Appeared on*| *2023-02-17*|\n",
       "|*Comments*| *Accepted for publication in A&A*|\n",
       "|**Abstract**| Radial velocities (RVs) measured from high-resolution stellar spectra are routinely used to detect and characterise orbiting exoplanet companions. The different lines present in stellar spectra are created by several species, which are non-uniformly affected by stellar variability features such as spots or faculae. Stellar variability distorts the shape of the spectral absorption lines from which precise RVs are measured, posing one of the main problems in the study of exoplanets. In this work we aim to study how the spectral lines present in M dwarfs are independently impacted by stellar activity. We used CARMENES optical spectra of six active early- and mid-type M dwarfs to compute line-by-line RVs and study their correlation with several well-studied proxies of stellar activity. We are able to classify spectral lines based on their sensitivity to activity in five M dwarfs displaying high levels of stellar activity. We further used this line classification to compute RVs with activity-sensitive lines and less sensitive lines, enhancing or mitigating stellar activity effects in the RV time series. For specific sets of the least activity-sensitive lines, the RV scatter decreases by ~ 2 to 5 times the initial one, depending on the star. Finally, we compare these lines in the different stars analysed, finding the sensitivity to activity to vary from star to star. Despite the high density of lines and blends present in M dwarf stellar spectra, we find that a line-by-line approach is able to deliver precise RVs. Line-by-line RVs are also sensitive to stellar activity effects, and they allow for an accurate selection of activity-insensitive lines to mitigate activity effects in RV. However, we find stellar activity effects to vary in the same insensitive lines from star to star. |"
      ],
      "text/plain": [
       "[arXiv:2302.07916] The CARMENES search for exoplanets around M dwarfs. Line-by-line  sensitivity to activity in M dwarfs\n",
       "\tM. Lafarga, et al. -- incl., <mark>Th. Henning</mark>, <mark>M. Kürster</mark>"
      ]
     },
     "metadata": {},
     "output_type": "display_data"
    },
    {
     "data": {
      "text/markdown": [
       "## Failed papers"
      ],
      "text/plain": [
       "<IPython.core.display.Markdown object>"
      ]
     },
     "metadata": {},
     "output_type": "display_data"
    },
    {
     "data": {
      "text/markdown": [
       "\n",
       "|||\n",
       "|---:|:---|\n",
       "| [![arXiv](https://img.shields.io/badge/arXiv-arXiv:2302.07882-b31b1b.svg)](https://arxiv.org/abs/arXiv:2302.07882) | **The role of baryons in self-interacting dark matter mergers**  |\n",
       "|| <mark>Moritz S. Fischer</mark>, et al. -- incl., <mark>Nils-Henrik Durke</mark> |\n",
       "|*Appeared on*| *2023-02-17*|\n",
       "|*Comments*| *14 pages, 10 figures + appendices, submitted to MNRAS*|\n",
       "|**Abstract**| Mergers of galaxy clusters are promising probes of dark matter (DM) physics. For example, an offset between the DM component and the galaxy distribution can constrain DM self-interactions. We investigate the role of the intracluster medium (ICM) and its influence on DM-galaxy offsets in self-interacting dark matter (SIDM) models. To this end, we employ Smoothed Particle Hydrodynamics + N-body simulations to study idealised setups of equal- and unequal-mass mergers with head-on collisions. Our simulations show that the ICM hardly affects the offsets arising shortly after the first pericentre passage compared to DM-only (DMO) simulations. But later on, e.g. at the first apocentre, the offsets can be amplified by the presence of the ICM. Furthermore, we find that cross-sections small enough not to be excluded by measurements of the core sizes of relaxed galaxy clusters have a chance to produce observable offsets. We found that different DM models affect the DM distribution and also the galaxy and and ICM distribution, including its temperature. Potentially, the position of the shock fronts, combined with the brightest cluster galaxies (BCGs), provides further clues to the properties of DM. Overall our results demonstrate that mergers of galaxy clusters at stages about the first apocentre passage could be more interesting in terms of DM physics than those shortly after the first pericentre passage. This may motivate further studies of mergers at later evolutionary stages. |\n",
       "|<p style=\"color:green\"> **ERROR** </p>| <p style=\"color:green\">affiliation error: mpia.affiliation_verifications: '69117' keyword not found.</p> |"
      ],
      "text/plain": [
       "<IPython.core.display.Markdown object>"
      ]
     },
     "metadata": {},
     "output_type": "display_data"
    },
    {
     "data": {
      "text/markdown": [
       "\n",
       "|||\n",
       "|---:|:---|\n",
       "| [![arXiv](https://img.shields.io/badge/arXiv-arXiv:2302.08228-b31b1b.svg)](https://arxiv.org/abs/arXiv:2302.08228) | **SN 2021zny: an early flux excess combined with late-time oxygen emission  suggests a double white dwarf merger event**  |\n",
       "|| Georgios Dimitriadis, et al. -- incl., <mark>Chang Liu</mark>, <mark>Joseph P. Anderson</mark>, <mark>Tomás E. Müller-Bravo</mark> |\n",
       "|*Appeared on*| *2023-02-17*|\n",
       "|*Comments*| *19 pages, 16 figures, accepted for publication in MNRAS*|\n",
       "|**Abstract**| We present a photometric and spectroscopic analysis of the ultra-luminous and slowly evolving 03fg-like Type Ia SN 2021zny. Our observational campaign starts from $\\sim5.3$ hours after explosion (making SN 2021zny one of the earliest observed members of its class), with dense multi-wavelength coverage from a variety of ground- and space-based telescopes, and is concluded with a nebular spectrum $\\sim10$ months after peak brightness. SN 2021zny displayed several characteristics of its class, such as the peak brightness ($M_{B}=-19.95$ mag), the slow decline ($\\Delta m_{15}(B) = 0.62$ mag), the blue early-time colours, the low ejecta velocities and the presence of significant unburned material above the photosphere. However, a flux excess for the first $\\sim1.5$ days after explosion is observed in four photometric bands, making SN 2021zny the third 03fg-like event with this distinct behavior, while its $+313$ d spectrum shows prominent [O I] lines, a very unusual characteristic of thermonuclear SNe. The early flux excess can be explained as the outcome of the interaction of the ejecta with $\\sim0.04\\:\\mathrm{M_{\\odot}}$ of H/He-poor circumstellar material at a distance of $\\sim10^{12}$ cm, while the low ionization state of the late-time spectrum reveals low abundances of stable iron-peak elements. All our observations are in accordance with a progenitor system of two carbon/oxygen white dwarfs that undergo a merger event, with the disrupted white dwarf ejecting carbon-rich circumstellar material prior to the primary white dwarf detonation. |\n",
       "|<p style=\"color:green\"> **ERROR** </p>| <p style=\"color:green\">affiliation error: mpia.affiliation_verifications: '69117' keyword not found.</p> |"
      ],
      "text/plain": [
       "<IPython.core.display.Markdown object>"
      ]
     },
     "metadata": {},
     "output_type": "display_data"
    },
    {
     "data": {
      "text/markdown": [
       "\n",
       "|||\n",
       "|---:|:---|\n",
       "| [![arXiv](https://img.shields.io/badge/arXiv-arXiv:2302.07874-b31b1b.svg)](https://arxiv.org/abs/arXiv:2302.07874) | **C14 Automatic Imaging Telescope Photometry of GJ1214**  |\n",
       "|| <mark>Gregory W. Henry</mark>, Jacob L. Bean |\n",
       "|*Appeared on*| *2023-02-17*|\n",
       "|*Comments*| *arXiv only posting, contact Greg Henry for access to the data*|\n",
       "|**Abstract**| GJ1214b is the highest signal-to-noise sub-Neptune for atmospheric studies. Although most previous transmission spectroscopy measurements have revealed a frustratingly featureless spectrum, JWST observations are expected to give new insights to this benchmark planet. We have performed photometric monitoring of GJ1214 (the host star) to provide context for these observations. We find that GJ1214 entered a period of relatively high brightness during 2021 and 2022. This implies that the JWST MIRI/LRS phase curve observation of GJ1214b in July 2022 was obtained during an epoch of low activity for the spot-dominated host star. Like previous works, we are unable to definitively identify the star's rotation period. Nevertheless, we confirm that it is likely >50 days. |\n",
       "|<p style=\"color:green\"> **ERROR** </p>| <p style=\"color:green\">affiliation error: mpia.affiliation_verifications: 'Heidelberg' keyword not found.</p> |"
      ],
      "text/plain": [
       "<IPython.core.display.Markdown object>"
      ]
     },
     "metadata": {},
     "output_type": "display_data"
    },
    {
     "data": {
      "text/markdown": [
       "\n",
       "|||\n",
       "|---:|:---|\n",
       "| [![arXiv](https://img.shields.io/badge/arXiv-arXiv:2302.07878-b31b1b.svg)](https://arxiv.org/abs/arXiv:2302.07878) | **Observational evidence for cosmological coupling of black holes and its  implications for an astrophysical source of dark energy**  |\n",
       "|| Duncan Farrah, et al. -- incl., <mark>Lingyu Wang</mark> |\n",
       "|*Appeared on*| *2023-02-17*|\n",
       "|*Comments*| *10 pages, 3 figures, published in ApJ Letters*|\n",
       "|**Abstract**| Observations have found black holes spanning ten orders of magnitude in mass across most of cosmic history. The Kerr black hole solution is however provisional as its behavior at infinity is incompatible with an expanding universe. Black hole models with realistic behavior at infinity predict that the gravitating mass of a black hole can increase with the expansion of the universe independently of accretion or mergers, in a manner that depends on the black hole's interior solution. We test this prediction by considering the growth of supermassive black holes in elliptical galaxies over $0<z\\lesssim2.5$. We find evidence for cosmologically coupled mass growth among these black holes, with zero cosmological coupling excluded at 99.98% confidence. The redshift dependence of the mass growth implies that, at $z\\lesssim7$, black holes contribute an effectively constant cosmological energy density to Friedmann's equations. The continuity equation then requires that black holes contribute cosmologically as vacuum energy. We further show that black hole production from the cosmic star formation history gives the value of $\\Omega_{\\Lambda}$ measured by Planck while being consistent with constraints from massive compact halo objects. We thus propose that stellar remnant black holes are the astrophysical origin of dark energy, explaining the onset of accelerating expansion at $z \\sim 0.7$. |\n",
       "|<p style=\"color:green\"> **ERROR** </p>| <p style=\"color:green\">affiliation error: mpia.affiliation_verifications: 'Heidelberg' keyword not found.</p> |"
      ],
      "text/plain": [
       "<IPython.core.display.Markdown object>"
      ]
     },
     "metadata": {},
     "output_type": "display_data"
    },
    {
     "data": {
      "text/markdown": [
       "\n",
       "|||\n",
       "|---:|:---|\n",
       "| [![arXiv](https://img.shields.io/badge/arXiv-arXiv:2302.07884-b31b1b.svg)](https://arxiv.org/abs/arXiv:2302.07884) | **Keck Integral-Field Spectroscopy of M87 Reveals an Intrinsically  Triaxial Galaxy and a Revised Black Hole Mass**  |\n",
       "|| <mark>Emily R. Liepold</mark>, Chung-Pei Ma, Jonelle L. Walsh |\n",
       "|*Appeared on*| *2023-02-17*|\n",
       "|*Comments*| *Accepted for publication in ApJL. 15 pages, 8 figures*|\n",
       "|**Abstract**| The three-dimensional intrinsic shape of a galaxy and the mass of the central supermassive black hole provide key insight into the galaxy's growth history over cosmic time. Standard assumptions of a spherical or axisymmetric shape can be simplistic and can bias the black hole mass inferred from the motions of stars within a galaxy. Here we present spatially-resolved stellar kinematics of M87 over a two-dimensional $250\\mbox{$^{\\prime\\prime}$} \\times 300\\mbox{$^{\\prime\\prime}$}$ contiguous field covering a radial range of 50 pc to 12 kpc from integral-field spectroscopic observations at the Keck II Telescope. From about 5 kpc and outward, we detect a prominent 25 $\\mathrm{km~s}^{-1}$ rotational pattern, in which the kinematic axis (connecting the maximal receding and approaching velocities) is $40^\\circ$ misaligned with the photometric major axis of M87. The rotational amplitude and misalignment angle both decrease in the inner 5 kpc. Such misaligned and twisted velocity fields are a hallmark of triaxiality, indicating that M87 is not an axisymmetrically shaped galaxy. Triaxial Schwarzschild orbit modeling with more than 4000 observational constraints enabled us to determine simultaneously the shape and mass parameters. The models incorporate a radially declining profile for the stellar mass-to-light ratio suggested by stellar population studies. We find that M87 is strongly triaxial, with ratios of $p=0.845$ for the middle-to-long principal axes and $q=0.722$ for the short-to-long principal axes, and determine the black hole mass to be $(5.37^{+0.37}_{-0.25}\\pm 0.22)\\times 10^9 M_\\odot$, where the second error indicates the systematic uncertainty associated with the distance to M87. |\n",
       "|<p style=\"color:green\"> **ERROR** </p>| <p style=\"color:green\">affiliation error: mpia.affiliation_verifications: 'Heidelberg' keyword not found.</p> |"
      ],
      "text/plain": [
       "<IPython.core.display.Markdown object>"
      ]
     },
     "metadata": {},
     "output_type": "display_data"
    },
    {
     "data": {
      "text/markdown": [
       "\n",
       "|||\n",
       "|---:|:---|\n",
       "| [![arXiv](https://img.shields.io/badge/arXiv-arXiv:2302.07886-b31b1b.svg)](https://arxiv.org/abs/arXiv:2302.07886) | **Observational Signatures of Carbon-Oxygen White Dwarf Merger Remnants**  |\n",
       "|| Philippe Z. Yao, Eliot Quataert, <mark>Andy Goulding</mark> |\n",
       "|*Appeared on*| *2023-02-17*|\n",
       "|*Comments*| *12 pages, 8 figures, 2 tables, submitted to MNRAS*|\n",
       "|**Abstract**| Many double white dwarf (WD) mergers likely do not lead to a prompt thermonuclear explosion. We investigate the prospects for observationally detecting the surviving remnants of such mergers, focusing on the case of mergers of Carbon-Oxygen WDs. For $\\sim 10^4$ yr, the merger remnant is observationally similar to an extreme AGB star evolving to become a massive WD. Identifying merger remnants is thus easiest in galaxies with high stellar masses (high WD merger rate) and low star formation rates (low birth rate of $\\sim 6-10 \\,{\\rm M_{\\odot}}$ stars). Photometrically identifying merger remnants is challenging even in these cases because the merger remnants appear similar to He stars and post-outburst classical novae. We propose that the most promising technique for discovering WD merger remnants is through their unusual surrounding photoionized nebulae. We use CLOUDY photoionization calculations to investigate their unique spectral features. Merger remnants should produce weak hydrogen lines and strong carbon and oxygen recombination and fine-structure lines in the UV, optical and IR. With integral field spectrographs, we predict that hundreds of candidates are detectable in M87 and other nearby massive galaxies. Dust somewhat reduces the optical line emission for nebula radii $\\lesssim 10^{17}$ cm, but the sources spend most of their time with larger radii when dust is less important. Our models roughly reproduce the WISE nebula surrounding the Galactic WD merger candidate IRAS 00500+6713; we predict detectable [Ne VI] and [Mg VII] lines with JWST but that the mid-IR WISE emission is dominated by dust not fine-structure lines. |\n",
       "|<p style=\"color:green\"> **ERROR** </p>| <p style=\"color:green\">affiliation error: mpia.affiliation_verifications: 'Heidelberg' keyword not found.</p> |"
      ],
      "text/plain": [
       "<IPython.core.display.Markdown object>"
      ]
     },
     "metadata": {},
     "output_type": "display_data"
    },
    {
     "data": {
      "text/markdown": [
       "\n",
       "|||\n",
       "|---:|:---|\n",
       "| [![arXiv](https://img.shields.io/badge/arXiv-arXiv:2302.07891-b31b1b.svg)](https://arxiv.org/abs/arXiv:2302.07891) | **The brightest GRB ever detected: GRB 221009A as a highly luminous event  at z = 0.151**  |\n",
       "|| D. B. Malesani, et al. -- incl., <mark>K. E. Heintz</mark> |\n",
       "|*Appeared on*| *2023-02-17*|\n",
       "|*Comments*| *9 pages, 4 figures, submitted to Astronomy & Astrophysics*|\n",
       "|**Abstract**| Context: The extreme luminosity of gamma-ray bursts (GRBs) makes them powerful beacons for studies of the distant Universe. The most luminous bursts are typically detected at moderate/high redshift, where the volume for seeing such rare events is maximized and the star-formation activity is greater than at z = 0. For distant events, not all observations are feasible, such as at TeV energies. Aims: Here we present a spectroscopic redshift measurement for the exceptional GRB 221009A, the brightest GRB observed to date with emission extending well into the TeV regime. Methods: We used the X-shooter spectrograph at the ESO Very Large Telescope (VLT) to obtain simultaneous optical to near-IR spectroscopy of the burst afterglow 0.5 days after the explosion. Results: The spectra exhibit both absorption and emission lines from material in a host galaxy at z = 0.151. Thus GRB 221009A was a relatively nearby burst with a luminosity distance of 745 Mpc. Its host galaxy properties (star-formation rate and metallicity) are consistent with those of LGRB hosts at low redshift. This redshift measurement yields information on the energy of the burst. The inferred isotropic energy release, $E_{\\rm iso} > 5 \\times 10^{54}$ erg, lies at the high end of the distribution, making GRB 221009A one of the nearest and also most energetic GRBs observed to date. We estimate that such a combination (nearby as well as intrinsically bright) occurs between once every few decades to once per millennium. |\n",
       "|<p style=\"color:green\"> **ERROR** </p>| <p style=\"color:green\">affiliation error: mpia.affiliation_verifications: 'Heidelberg' keyword not found.</p> |"
      ],
      "text/plain": [
       "<IPython.core.display.Markdown object>"
      ]
     },
     "metadata": {},
     "output_type": "display_data"
    },
    {
     "data": {
      "text/markdown": [
       "\n",
       "|||\n",
       "|---:|:---|\n",
       "| [![arXiv](https://img.shields.io/badge/arXiv-arXiv:2302.07906-b31b1b.svg)](https://arxiv.org/abs/arXiv:2302.07906) | **A structured jet explains the extreme GRB 221009A**  |\n",
       "|| B. O'Connor, et al. -- incl., <mark>V. Lipunov</mark>, <mark>W. H. Lee</mark> |\n",
       "|*Appeared on*| *2023-02-17*|\n",
       "|*Comments*| *Submitted version. 53 pages, 9 figures, 6 tables*|\n",
       "|**Abstract**| Long duration gamma-ray bursts (GRBs) are powerful cosmic explosions, signaling the death of massive stars. Among them, GRB 221009A is by far the brightest burst ever observed. Due to its enormous energy ($E_\\textrm{iso}\\!\\approx$10$^{55}$ erg) and proximity ($z\\!\\approx$0.15), GRB 221009A is an exceptionally rare event that pushes the limits of our theories. We present multi-wavelength observations covering the first three months of its afterglow evolution. The X-ray brightness decays as a power-law with slope $\\approx\\!t^{-1.66}$, which is not consistent with standard predictions for jetted emission. We attribute this behavior to a shallow energy profile of the relativistic jet. A similar trend is observed in other energetic GRBs, suggesting that the most extreme explosions may be powered by structured jets launched by a common central engine. |\n",
       "|<p style=\"color:green\"> **ERROR** </p>| <p style=\"color:green\">affiliation error: mpia.affiliation_verifications: 'Heidelberg' keyword not found.</p> |"
      ],
      "text/plain": [
       "<IPython.core.display.Markdown object>"
      ]
     },
     "metadata": {},
     "output_type": "display_data"
    },
    {
     "data": {
      "text/markdown": [
       "\n",
       "|||\n",
       "|---:|:---|\n",
       "| [![arXiv](https://img.shields.io/badge/arXiv-arXiv:2302.07929-b31b1b.svg)](https://arxiv.org/abs/arXiv:2302.07929) | **Searching for TeV Dark Matter in Irregular dwarf galaxies with HAWC  Observatory**  |\n",
       "|| R. Alfaro, et al. -- incl., <mark>R. Diaz Hernandez</mark>, <mark>S. Hernández-Cadena</mark>, <mark>J. Lee</mark>, <mark>J.T. Linnemann</mark>, <mark>J.A. Matthews</mark> |\n",
       "|*Appeared on*| *2023-02-17*|\n",
       "|*Comments*| *22 pages, 11 figures, 3 tables*|\n",
       "|**Abstract**| We present the results of dark matter (DM) searches in a sample of 31 dwarf irregular (dIrr) galaxies within the field of view of the HAWC Observatory. dIrr galaxies are DM dominated objects, which astrophysical gamma-ray emission is estimated to be negligible with respect to the secondary gamma-ray flux expected by annihilation or decay of Weakly Interacting Massive Particles (WIMPs). While we do not see any statistically significant DM signal in dIrr galaxies, we present the exclusion limits ($95\\%~\\text{C.L.}$) for annihilation cross-section and decay lifetime for WIMP candidates with masses between $1$ and $100~\\text{TeV}$. Exclusion limits from dIrr galaxies are relevant and complementary to benchmark dwarf Spheroidal (dSph) galaxies. In fact, dIrr galaxies are targets kinematically different from benchmark dSph, preserving the footprints of different evolution histories. We compare the limits from dIrr galaxies to those from ultrafaint and classical dSph galaxies previously observed with HAWC. We find that the contraints are comparable to the limits from classical dSph galaxies and $\\thicksim2$ orders of magnitude weaker than the ultrafaint dSph limits. |\n",
       "|<p style=\"color:green\"> **ERROR** </p>| <p style=\"color:green\">affiliation error: mpia.affiliation_verifications: 'Heidelberg' keyword not found.</p> |"
      ],
      "text/plain": [
       "<IPython.core.display.Markdown object>"
      ]
     },
     "metadata": {},
     "output_type": "display_data"
    },
    {
     "data": {
      "text/markdown": [
       "\n",
       "|||\n",
       "|---:|:---|\n",
       "| [![arXiv](https://img.shields.io/badge/arXiv-arXiv:2302.07932-b31b1b.svg)](https://arxiv.org/abs/arXiv:2302.07932) | **The muon deficit problem: a new method to calculate the muon rescaling  factors and the Heitler-Matthews beta exponent**  |\n",
       "|| Kevin Almeida Cheminant, et al. -- incl., <mark>Henryk Wilczyński</mark> |\n",
       "|*Appeared on*| *2023-02-17*|\n",
       "|*Comments*| *8 pages, 5 figures, 2 tables, accepted for publication in the proceedings of the 27th European Cosmic Ray Symposium*|\n",
       "|**Abstract**| Simulations of extensive air showers using current hadronic interaction models predict too small numbers of muons compared to events observed in the air-shower experiments, which is known as the muon-deficit problem. In this work, we present a new method to calculate the factor by which the muon signal obtained via Monte-Carlo simulations must be rescaled to match the data, as well as the beta exponent from the Heitler-Matthews model which governs the number of muons found in an extensive air shower as a function of the mass and the energy of the primary cosmic ray. This method uses the so-called z variable (difference between the total reconstructed and the simulated signals), which is connected to the muon signal and is roughly independent of the zenith angle, but depends on the mass of the primary cosmic ray. Using a mock dataset built from QGSJetII-04, we show that such a method allows us to reproduce the average muon signal from this dataset using Monte-Carlo events generated with the EPOS-LHC hadronic model, with accuracy better than 6%. As a consequence of the good recovery of the muon signal for each primary included in the analysis, also the beta exponent can be obtained with accuracy of less than 1% for the studied system. Detailed simulations show a dependence of the beta exponent on hadronic interaction properties, thus the determination of this parameter is important for understanding the muon deficit problem. |\n",
       "|<p style=\"color:green\"> **ERROR** </p>| <p style=\"color:green\">affiliation error: mpia.affiliation_verifications: 'Heidelberg' keyword not found.</p> |"
      ],
      "text/plain": [
       "<IPython.core.display.Markdown object>"
      ]
     },
     "metadata": {},
     "output_type": "display_data"
    },
    {
     "data": {
      "text/markdown": [
       "\n",
       "|||\n",
       "|---:|:---|\n",
       "| [![arXiv](https://img.shields.io/badge/arXiv-arXiv:2302.07963-b31b1b.svg)](https://arxiv.org/abs/arXiv:2302.07963) | **WALLABY Pilot Survey: Hydra Cluster Galaxies UV and HI morphometrics**  |\n",
       "|| Benne W. Holwerda, et al. -- incl., <mark>Frank Bigiel</mark>, <mark>Helene M. Courtois</mark>, <mark>Helga Dénes</mark>, <mark>Karen Lee-Waddell</mark>, <mark>Se-Heon Oh</mark> |\n",
       "|*Appeared on*| *2023-02-17*|\n",
       "|*Comments*| *17 figures, 12 figures, 7 tables, accepted by MNRAS*|\n",
       "|**Abstract**| Galaxy morphology in atomic hydrogen (HI) and in the ultra-violet (UV) are closely linked. This has motivated their combined use to quantify morphology over the full H i disk for both H i and UV imaging. We apply galaxy morphometrics: Concentration, Asymmetry, Gini, M20 and Multimode-Intensity-Deviation statistics to the first moment-0 maps of the WALLABY survey of galaxies in the Hydra cluster center. Taking advantage of this new HI survey, we apply the same morphometrics over the full HI extent on archival GALEX FUV and NUV data to explore how well HI truncated, extended ultraviolet disk (XUV) and other morphological phenomena can be captured using pipeline WALLABY data products. Extended HI and UV disks can be identified relatively straightforward from their respective concentration. Combined with WALLABY HI, even the shallowest GALEX data is sufficient to identify XUV disks. Our second goal is to isolate galaxies undergoing ram-pressure stripping in the H i morphometric space. We employ four different machine learning techniques, a decision tree, a k-nearest neighbour, a support-vector machine, and a random forest. Up to 80% precision and recall are possible with the Random Forest giving the most robust results. |\n",
       "|<p style=\"color:green\"> **ERROR** </p>| <p style=\"color:green\">affiliation error: mpia.affiliation_verifications: 'Heidelberg' keyword not found.</p> |"
      ],
      "text/plain": [
       "<IPython.core.display.Markdown object>"
      ]
     },
     "metadata": {},
     "output_type": "display_data"
    },
    {
     "data": {
      "text/markdown": [
       "\n",
       "|||\n",
       "|---:|:---|\n",
       "| [![arXiv](https://img.shields.io/badge/arXiv-arXiv:2302.07969-b31b1b.svg)](https://arxiv.org/abs/arXiv:2302.07969) | **Search for the Epoch of Reionisation with HERA: Upper Limits on the  Closure Phase Delay Power Spectrum**  |\n",
       "|| Pascal M. Keller, et al. -- incl., <mark>Jacqueline N. Hewitt</mark> |\n",
       "|*Appeared on*| *2023-02-17*|\n",
       "|*Comments*| *16 pages, 14 figures, accepted for publication by MNRAS*|\n",
       "|**Abstract**| Radio interferometers aiming to measure the power spectrum of the redshifted 21 cm line during the Epoch of Reionisation (EoR) need to achieve an unprecedented dynamic range to separate the weak signal from overwhelming foreground emissions. Calibration inaccuracies can compromise the sensitivity of these measurements to the effect that a detection of the EoR is precluded. An alternative to standard analysis techniques makes use of the closure phase, which allows one to bypass antenna-based direction-independent calibration. Similarly to standard approaches, we use a delay spectrum technique to search for the EoR signal. Using 94 nights of data observed with Phase I of the Hydrogen Epoch of Reionization Array (HERA), we place approximate constraints on the 21 cm power spectrum at $z=7.7$. We find at 95% confidence that the 21 cm EoR brightness temperature is $\\le$(372)$^2$ \"pseudo\" mK$^2$ at 1.14 \"pseudo\" $h$ Mpc$^{-1}$, where the \"pseudo\" emphasises that these limits are to be interpreted as approximations to the actual distance scales and brightness temperatures. Using a fiducial EoR model, we demonstrate the feasibility of detecting the EoR with the full array. Compared to standard methods, the closure phase processing is relatively simple, thereby providing an important independent check on results derived using visibility intensities, or related. |\n",
       "|<p style=\"color:green\"> **ERROR** </p>| <p style=\"color:green\">affiliation error: mpia.affiliation_verifications: 'Heidelberg' keyword not found.</p> |"
      ],
      "text/plain": [
       "<IPython.core.display.Markdown object>"
      ]
     },
     "metadata": {},
     "output_type": "display_data"
    },
    {
     "data": {
      "text/markdown": [
       "\n",
       "|||\n",
       "|---:|:---|\n",
       "| [![arXiv](https://img.shields.io/badge/arXiv-arXiv:2302.08032-b31b1b.svg)](https://arxiv.org/abs/arXiv:2302.08032) | **Constraints on Extragalactic Background Light using TeV Observations of  BL Lacertae objects**  |\n",
       "|| Longhua Qin, et al. -- incl., <mark>Huaizhen Li</mark> |\n",
       "|*Appeared on*| *2023-02-17*|\n",
       "|*Comments*| *Accepted by MNRAS*|\n",
       "|**Abstract**| The extragalactic background light (EBL) in the IR to UV bands partly absorbs very high energy (VHE, $E \\geq$ 100GeV) $\\gamma-$ray photons travelling over cosmological distances via pair production. In this paper, to get stronger constraints on EBL, we use the deliberate selection of the EBL model and data of five BL Lacs with better statistics and the harder spectra to limit the EBL density and the radiation mechanism of BL Lacs. We constrain the upper limit of the EBL density by fitting the spectral energy distributions (SEDs) of TeV BL Lacs and find that our results are compatible with the published measurement, reaching 50 $\\rm{nW m^{-2} sr^{-1}}$. We also obtain that the EBL is not necessarily transparent to high VHE photons. We fix the intrinsic spectral index $\\Gamma_i$ of TeV BL Lacs as 1.0 and 1.5 under observation evidence and model assumption. Comparing the EBL density given by galaxy count and $Spitzer$ observations, we then obtain that 1ES 1101-232 has $\\Gamma_i$ $\\leq$ 1.0 and 1ES 0229+200 should have $\\Gamma_i$ not harder than 1.0. We demonstrate that the common radiation assumption of BL Lacs, in which the $\\Gamma_i$ is softer than 1.5, should be revisited. Furthermore, we propose that the upper EBL density could be given by fitting the hardest energy spectra of TeV BL Lacs. |\n",
       "|<p style=\"color:green\"> **ERROR** </p>| <p style=\"color:green\">affiliation error: mpia.affiliation_verifications: 'Heidelberg' keyword not found.</p> |"
      ],
      "text/plain": [
       "<IPython.core.display.Markdown object>"
      ]
     },
     "metadata": {},
     "output_type": "display_data"
    },
    {
     "data": {
      "text/markdown": [
       "\n",
       "|||\n",
       "|---:|:---|\n",
       "| [![arXiv](https://img.shields.io/badge/arXiv-arXiv:2302.08162-b31b1b.svg)](https://arxiv.org/abs/arXiv:2302.08162) | **Probing massive neutrinos with the Minkowski functionals of the galaxy  distribution**  |\n",
       "|| <mark>Wei Liu</mark>, Aoxiang Jiang, Wenjuan Fang |\n",
       "|*Appeared on*| *2023-02-17*|\n",
       "|*Comments*| *33 pages, 5 + 4 figures, 4 tables. To be submitted to JCAP. Comments welcome. arXiv admin note: text overlap with arXiv:2204.02945*|\n",
       "|**Abstract**| The characteristic signatures of massive neutrinos on large-scale structure (LSS), if fully captured, can be used to put a stringent constraint on their mass sum, $M_{\\nu}$. Previous work utilizing N-body simulations has shown the Minkowski functionals (MFs) of LSS can reveal the imprints of massive neutrinos on LSS, provide important complementary information to two-point statistics and significantly improve constraints on $M_{\\nu}$. In this work, we take a step forward and apply the statistics to the biased tracers of LSS, i.e. the galaxies, and in redshift space. We perform a Fisher matrix analysis and quantify the constraining power of the MFs by using the Molino mock galaxy catalogs, which are constructed based on the halo occupation distribution (HOD) framework with parameters for the SDSS $M_r < -21.5$ and -22 galaxy samples. We find the MFs give tighter constraints on all of the cosmological parameters that we consider than the power spectrum. The constraints on $\\Omega_{\\mathrm{m}}, \\Omega_{\\mathrm{b}}, h, n_s, \\sigma_8$, and $M_\\nu$ from the MFs are better by a factor of 1.9, 2.9, 3.7, 4.2, 2.5, and 5.7, respectively, after marginalizing over the HOD parameters. Specifically, for $M_{\\nu}$, we obtain a 1$\\sigma$ constraint of 0.059 eV with the MFs alone for a volume of only $\\left(1 h^{-1} \\mathrm{Gpc}\\right)^3$. |\n",
       "|<p style=\"color:green\"> **ERROR** </p>| <p style=\"color:green\">affiliation error: mpia.affiliation_verifications: 'Heidelberg' keyword not found.</p> |"
      ],
      "text/plain": [
       "<IPython.core.display.Markdown object>"
      ]
     },
     "metadata": {},
     "output_type": "display_data"
    },
    {
     "data": {
      "text/markdown": [
       "\n",
       "|||\n",
       "|---:|:---|\n",
       "| [![arXiv](https://img.shields.io/badge/arXiv-arXiv:2302.08165-b31b1b.svg)](https://arxiv.org/abs/arXiv:2302.08165) | **NOEMA spatially resolved view of the multi-phase outflow in  IRAS17020+4544: a shocked wind in action?**  |\n",
       "|| <mark>Anna Lia Longinotti</mark>, et al. |\n",
       "|*Appeared on*| *2023-02-17*|\n",
       "|*Comments*| *Accepted for publication on MNRAS, 17 pages, 7 figures*|\n",
       "|**Abstract**| The Narrow Line Seyfert 1 Galaxy IRAS17020+4544 is one of the few AGN where a galaxy-scale energy-conserving outflow was revealed. This paper reports on NOEMA observations addressed to constrain the spatial scale of the CO emission in outflow. The molecular outflowing gas is resolved in five components tracing approaching and receding gas, all located at a distance of 2-3~kpc on the West and East side of the active nucleus. This high velocity gas (up to v_out=~1900 km/s) is not coincident with the rotation pattern of the CO gas in the host galaxy disk. The estimated mass outflow rate shows that with a global mass output of $\\dot{M}_{H_2}$=~139$\\pm$20$~M_\\odot$~yr$^{-1}$, this powerful galaxy-scale outflow is consistent with the wind conserving its energy, and with a momentum rate boost of a factor of ~30 compared to the momentum rate of the nuclear X-ray wind. Preliminary results from ancillary X-ray (Chandra) and radio images (e-MERLIN) are reported. While the nature of the radio source is not conclusive, the Chandra image may tentatively trace extended emission, as expected by an expanding bubble of hot X-ray gas. The outcome of the NOEMA analysis and of past and ongoing publications dedicated to the description of the outflow multi-band phenomenology in IRAS17020+4544 concur to provide compelling reasons to postulate that an outflow shocking with the galaxy interstellar medium is driving the multi-phase wind in this peculiar AGN. |\n",
       "|<p style=\"color:green\"> **ERROR** </p>| <p style=\"color:green\">affiliation error: mpia.affiliation_verifications: 'Heidelberg' keyword not found.</p> |"
      ],
      "text/plain": [
       "<IPython.core.display.Markdown object>"
      ]
     },
     "metadata": {},
     "output_type": "display_data"
    },
    {
     "data": {
      "text/markdown": [
       "\n",
       "|||\n",
       "|---:|:---|\n",
       "| [![arXiv](https://img.shields.io/badge/arXiv-arXiv:2302.08172-b31b1b.svg)](https://arxiv.org/abs/arXiv:2302.08172) | **Exploring binary black hole mergers and host galaxies with {\\sc Shark}  and COMPAS**  |\n",
       "|| <mark>Liana Rauf</mark>, Cullan Howlett, Tamara M. Davis, Claudia D. P. Lagos |\n",
       "|*Appeared on*| *2023-02-17*|\n",
       "|*Comments*| *19 pages, 16 figures - Will be submitted to MNRAS*|\n",
       "|**Abstract**| In this work, we explore the connection between the gravitational wave (GW) merger rates of stellar-mass binary black holes (BBH) and galaxy properties. We do this by generating populations of stars using the binary synthesis code COMPAS and evolving them in galaxies from the semi-analytic galaxy formation model {\\sc Shark}, to determine the number of mergers occurring in each simulation time-step. We find that large, metal-rich galaxies with high star formation rates are more likely to have gravitational wave (GW) events compared to younger, more metal poor galaxies. Our simulation with the default input parameters predicts a higher local merger rate density compared to the third gravitational wave transient catalogue (GWTC-3) prediction from LIGO, VIRGO and KAGRA. This is due to short coalescence times, low metallicities and an high formation rate of stars at low redshift in the galaxy simulation, which produces more BBHs that merge within the age of the Universe compared to observations. We identify alternate remnant mass models that more accurately reproduce the observed volumetric rate and provide updated fits to the merger rate distribution as a function of redshift. We then investigate the relative fraction of GW events in our simulation volume that are in observable host galaxies from different upcoming photometric and spectroscopic surveys, determining which of those are more ideal for tracing host galaxies with high merger rates. The implications of this work can be utilised for numerous applications, including for constraining stellar evolution models, better informing follow-up programs, and placing more informative priors on potential host galaxies when measuring cosmological parameters such as the Hubble constant. |\n",
       "|<p style=\"color:green\"> **ERROR** </p>| <p style=\"color:green\">affiliation error: mpia.affiliation_verifications: 'Heidelberg' keyword not found.</p> |"
      ],
      "text/plain": [
       "<IPython.core.display.Markdown object>"
      ]
     },
     "metadata": {},
     "output_type": "display_data"
    },
    {
     "data": {
      "text/markdown": [
       "\n",
       "|||\n",
       "|---:|:---|\n",
       "| [![arXiv](https://img.shields.io/badge/arXiv-arXiv:2302.08230-b31b1b.svg)](https://arxiv.org/abs/arXiv:2302.08230) | **Numerical study of synchrotron and inverse-Compton radiation from  gamma-ray burst afterglows with decaying microturbulence**  |\n",
       "|| Yan Huang, <mark>Zhuo Li</mark> |\n",
       "|*Appeared on*| *2023-02-17*|\n",
       "|*Comments*| *14 pages, 9 figures, 3 tables, submitted to MNRAS, comments welcome*|\n",
       "|**Abstract**| The multiwavelength observations of GRB afterglows, together with some high-performance particle-in-cell simulations, hint that the magnetic field may decay behind the shock front. In this work, we develop a numerical code to calculate the evolution of the accelerated electron distribution, their synchrotron and inverse-Compton (IC) spectra and accordingly the light curves (LCs) under the assumption of decaying microturbulence (DM) downstream of the shock, $\\epsilon_B(t_p')\\propto t_p'^{\\alpha_t}$ with $t_p'$ the fluid proper time since injection. We find: (1) The synchrotron spectrum in the DM model is similar to that in the homogeneous turbulence (HT) model with very low magnetic field strength. However, the difference in the IC spectral component is relatively more obvious between them, due to the significant change of the postshock electron energy distribution with DM. (2) If the magnetic field decay faster, there are less electrons cool fast, and the IC spectral component becomes weaker. (3) The LCs in the DM model decay steeper than in the HT model, and the spectral evolution and the LCs in the DM model is similar to the HT model where the magnetic field energy fraction decreases with observer time, $\\epsilon_B(t) \\propto t^{5\\alpha_t /8}$. (4) The DM model can naturally produce a significant IC spectral component in TeV energy range, but due to the Klein-Nishina suppression the IC power cannot be far larger than the synchrotron power. We apply the DM model to describe the afterglow data of GRB 190114C and find the magnetic field decay exponent $\\alpha_t\\sim -0.4$ and the electron spectral index $p\\sim2.4$. Future TeV observations of the IC emission from GRB afterglows will further help to probe the poorly known microphysics of relativistic shocks. |\n",
       "|<p style=\"color:green\"> **ERROR** </p>| <p style=\"color:green\">affiliation error: mpia.affiliation_verifications: 'Heidelberg' keyword not found.</p> |"
      ],
      "text/plain": [
       "<IPython.core.display.Markdown object>"
      ]
     },
     "metadata": {},
     "output_type": "display_data"
    },
    {
     "data": {
      "text/markdown": [
       "\n",
       "|||\n",
       "|---:|:---|\n",
       "| [![arXiv](https://img.shields.io/badge/arXiv-arXiv:2302.08255-b31b1b.svg)](https://arxiv.org/abs/arXiv:2302.08255) | **Weak lensing peak statistics -- steepness versus height**  |\n",
       "|| <mark>Ziwei Li</mark>, <mark>Xiangkun Liu</mark>, Zuhui Fan |\n",
       "|*Appeared on*| *2023-02-17*|\n",
       "|*Comments*| *20 pages, 15 figures. Accepted for publication in MNRAS*|\n",
       "|**Abstract**| In weak-lensing cosmological studies, peak statistics is sensitive to nonlinear structures and thus complementary to cosmic shear two-point correlations. In this paper, we explore a new approach, namely, the peak steepness statistics, with the overall goal to understand the cosmological information embedded there in comparison with the commonly used peak height statistics. We perform the analyses with ray-tracing simulations considering different sets of cosmological parameters $\\Omega_{\\rm m}$ and $\\sigma_8$. A theoretical model to calculate the abundance of high peaks based on steepness is also presented, which can well describe the main trend of the peak distribution from simulations. We employ $\\Delta\\chi^2$ and Fisher analyses to study the cosmological dependence of the two peak statistics using our limited sets of simulations as well as our theoretical model. Within our considerations without including potential systematic effects, the results show that the steepness statistics tends to have higher sensitivities to the cosmological parameters than the peak height statistics and this advantage is diluted with the increase of the shape noise. Using the theoretical model, we investigate the physical reasons accounting for the different cosmological information embedded in the two statistics. Our analyses indicate that the projection effect from large-scale structures plays an important role to enhance the gain from the steepness statistics. The redshift and cosmology dependence of dark matter halo density profiles also contributes to the differences between the two statistics. |\n",
       "|<p style=\"color:green\"> **ERROR** </p>| <p style=\"color:green\">affiliation error: mpia.affiliation_verifications: 'Heidelberg' keyword not found.</p> |"
      ],
      "text/plain": [
       "<IPython.core.display.Markdown object>"
      ]
     },
     "metadata": {},
     "output_type": "display_data"
    },
    {
     "data": {
      "text/markdown": [
       "\n",
       "|||\n",
       "|---:|:---|\n",
       "| [![arXiv](https://img.shields.io/badge/arXiv-arXiv:2302.08358-b31b1b.svg)](https://arxiv.org/abs/arXiv:2302.08358) | **The effect of thermal non-equilibrium on kinetic nucleation**  |\n",
       "|| Sven Kiefer, David Gobrecht, <mark>Leen Decin</mark>, <mark>Christiane Helling</mark> |\n",
       "|*Appeared on*| *2023-02-17*|\n",
       "|*Comments*| *13 pages, 4 figures*|\n",
       "|**Abstract**| Nucleation is considered to be the first step in dust and cloud formation in the atmospheres of asymptotic giant branch (AGB) stars, exoplanets, and brown dwarfs. In these environments dust and cloud particles grow to macroscopic sizes when gas phase species condense onto cloud condensation nuclei (CCNs). Understanding the formation processes of CCNs and dust in AGB stars is important because the species that formed in their outflows enrich the interstellar medium. Although widely used, the validity of chemical and thermal equilibrium conditions is debatable in some of these highly dynamical astrophysical environments. We aim to derive a kinetic nucleation model that includes the effects of thermal non-equilibrium by adopting different temperatures for nucleating species, and to quantify the impact of thermal non-equilibrium on kinetic nucleation. Forward and backward rate coefficients are derived as part of a collisional kinetic nucleation theory ansatz. The endothermic backward rates are derived from the law of mass action in thermal non-equilibrium. We consider elastic collisions as thermal equilibrium drivers. For homogeneous TiO2 nucleation and a gas temperature of 1250 K, we find that differences in the kinetic cluster temperatures as small as 20 K increase the formation of larger TiO2 clusters by over an order of magnitude. An increase in cluster temperature of around 20 K at gas temperatures of 1000 K can reduce the formation of a larger TiO2 cluster by over an order of magnitude. Our results confirm and quantify the prediction of previous thermal non-equilibrium studies. Small thermal non-equilibria can cause a significant change in the synthesis of larger clusters. Therefore, it is important to use kinetic nucleation models that include thermal non-equilibrium to describe the formation of clusters in environments where even small thermal non-equilibria can be present. |\n",
       "|<p style=\"color:green\"> **ERROR** </p>| <p style=\"color:green\">affiliation error: mpia.affiliation_verifications: 'Heidelberg' keyword not found.</p> |"
      ],
      "text/plain": [
       "<IPython.core.display.Markdown object>"
      ]
     },
     "metadata": {},
     "output_type": "display_data"
    },
    {
     "data": {
      "text/markdown": [
       "\n",
       "|||\n",
       "|---:|:---|\n",
       "| [![arXiv](https://img.shields.io/badge/arXiv-arXiv:2302.08386-b31b1b.svg)](https://arxiv.org/abs/arXiv:2302.08386) | **Revealing the Dynamic Magneto-ionic Environments of Repeating Fast Radio  Burst Sources through Multi-year Polarimetric Monitoring with CHIME/FRB**  |\n",
       "|| R. Mckinven, et al. -- incl., <mark>D. Z. Li</mark> |\n",
       "|*Appeared on*| *2023-02-17*|\n",
       "|*Comments*| **|\n",
       "|**Abstract**| Fast radio bursts (FRBs) display a confounding variety of burst properties and host galaxy associations. Repeating FRBs offer insight into the FRB population by enabling spectral, temporal and polarimetric properties to be tracked over time. Here, we report on the polarized observations of 12 repeating sources using multi-year monitoring with the Canadian Hydrogen Intensity Mapping Experiment (CHIME) over 400-800 MHz. We observe significant RM variations from many sources in our sample, including RM changes of several hundred $\\rm{rad\\, m^{-2}}$ over month timescales from FRBs 20181119A, 20190303A and 20190417A, and more modest RM variability ($\\rm{\\Delta RM \\lesssim}$ few tens rad m$^{-2}$) from FRBs 20181030A, 20190208A, 20190213B and 20190117A over equivalent timescales. Several repeaters display a frequency dependent degree of linear polarization that is consistent with depolarization via scattering. Combining our measurements of RM variations with equivalent constraints on DM variability, we estimate the average line-of-sight magnetic field strength in the local environment of each repeater. In general, repeating FRBs display RM variations that are more prevalent/extreme than those seen from radio pulsars in the Milky Way and the Magellanic Clouds, suggesting repeating FRBs and pulsars occupy distinct magneto-ionic environments. |\n",
       "|<p style=\"color:green\"> **ERROR** </p>| <p style=\"color:green\">affiliation error: mpia.affiliation_verifications: 'Heidelberg' keyword not found.</p> |"
      ],
      "text/plain": [
       "<IPython.core.display.Markdown object>"
      ]
     },
     "metadata": {},
     "output_type": "display_data"
    },
    {
     "data": {
      "text/markdown": [
       "\n",
       "|||\n",
       "|---:|:---|\n",
       "| [![arXiv](https://img.shields.io/badge/arXiv-arXiv:2302.08402-b31b1b.svg)](https://arxiv.org/abs/arXiv:2302.08402) | **Continuum reverberation mapping of MCG 08-11-011**  |\n",
       "|| C. Fian, et al. -- incl., <mark>T. Lewis</mark> |\n",
       "|*Appeared on*| *2023-02-17*|\n",
       "|*Comments*| *arXiv admin note: text overlap with arXiv:2111.07385*|\n",
       "|**Abstract**| We report the results from a photometric reverberation mapping campaign carried out with the C18 telescope at the Wise Observatory from 2019 to 2020, targeting the active galactic nucleus (AGN) MCG 08-11-011. The monitoring was conducted on a daily basis with specially designed narrow-band filters, spanning from optical to near-infrared wavelengths ($\\sim4000$ to $8000${\\AA}) and avoiding prominent broad emission lines. We aim to measure inter-band continuum time lags, determine the size-wavelength relation, and estimate the host-subtracted AGN luminosity for this system. We used the point-spread function photometry to extract the continuum light curves and measure the inter-band time lags using several methods, including the interpolated cross-correlation function, the z-transformed discrete correlation function, a von Neumann estimator, JAVELIN (in spectroscopic and photometric mode), MICA, and a multivariate correlation function. We find wavelength-dependent lags, $\\tau(\\lambda)$, up to $\\sim$7 days between the multiband light curves of MCG 08-11-011. The observed lags are larger than predictions based on standard thin-disk theory by a factor of $\\sim3-7$. We discern a significantly steeper ($\\tau \\propto \\lambda^{4.74}$) size-wavelength relation than the $\\tau \\propto \\lambda^{4/3}$ expected for a geometrically thin and optically thick accretion disk, which may result from the contribution of diffuse continuum emission to the flux. These results are similar to those found by previous continuum reverberation mapping campaigns. |\n",
       "|<p style=\"color:green\"> **ERROR** </p>| <p style=\"color:green\">affiliation error: mpia.affiliation_verifications: 'Heidelberg' keyword not found.</p> |"
      ],
      "text/plain": [
       "<IPython.core.display.Markdown object>"
      ]
     },
     "metadata": {},
     "output_type": "display_data"
    },
    {
     "data": {
      "text/markdown": [
       "\n",
       "|||\n",
       "|---:|:---|\n",
       "| [![arXiv](https://img.shields.io/badge/arXiv-arXiv:2302.08405-b31b1b.svg)](https://arxiv.org/abs/arXiv:2302.08405) | **The X-ray invisible Universe. A look into the halos undetected by  eROSITA**  |\n",
       "|| P. Popesso, et al. -- incl., <mark>A. Liu</mark>, <mark>J. Liske</mark> |\n",
       "|*Appeared on*| *2023-02-17*|\n",
       "|*Comments*| *15 pages, 13 figures, Submitted to MNRAS*|\n",
       "|**Abstract**| The paper presents the analysis of GAMA spectroscopic groups and clusters detected and undetected in the SRG/eROSITA X-ray map of the eFEDS (eROSITA Final Equatorial Depth Survey) area, in the halo mass range $10^{13}-5x10^{14}$ $M_{\\odot}$ and at $z < 0.2$. We compare the X-ray surface brightness profiles of the eROSITA detected groups with the mean stacked profile of the undetected low-mass halos. Overall, we find that the undetected groups exhibit less concentrated X-ray surface brightness, dark matter, and galaxy distributions with respect to the X-ray detected halos. Consistently with the low mass concentration, the magnitude gap indicates that these are younger systems. The later assembly time is confirmed by the bluer average color of the BCG and of the galaxy population with respect to the detected systems. They reside with a higher probability in filaments while X-ray detected low-mass halos favor the nodes of the Cosmic Web. Because of the suppressed X-ray central emission, the undetected systems tend to be X-ray under-luminous at fixed halo mass, and to lie below the $L_X-M_{halo}$ relation. Interestingly, the X-ray detected systems inhabiting the nodes scatter the less around the relation, while those in filaments tend to lie below it. We do not observe any strong relation between the properties of detected and undetected systems with the AGN activity. The fraction of optically selected AGN in the galaxy population is consistent in the two samples. More interestingly, the probability that the BCG hosts a radio AGN is lower in the undetected groups. We, thus, argue that the observed differences between X-ray detected and undetected groups are ascribable to the Cosmic Web, and its role in the halo assembly bias. Our results suggest that the X-ray selection is biased to favor the most concentrated and old systems located in the nodes of the Cosmic Web. |\n",
       "|<p style=\"color:green\"> **ERROR** </p>| <p style=\"color:green\">affiliation error: mpia.affiliation_verifications: 'Heidelberg' keyword not found.</p> |"
      ],
      "text/plain": [
       "<IPython.core.display.Markdown object>"
      ]
     },
     "metadata": {},
     "output_type": "display_data"
    },
    {
     "data": {
      "text/markdown": [
       "\n",
       "|||\n",
       "|---:|:---|\n",
       "| [![arXiv](https://img.shields.io/badge/arXiv-arXiv:2302.07954-b31b1b.svg)](https://arxiv.org/abs/arXiv:2302.07954) | **ATLAS-TEIDE: The next generations of ATLAS units for the Teide  Observatory**  |\n",
       "|| <mark>Javier Licandro</mark>, et al. |\n",
       "|*Appeared on*| *2023-02-17*|\n",
       "|*Comments*| *5 pages, 8 figures, Conference paper*|\n",
       "|**Abstract**| In this work we present the design of the ATLAS unit (Asteroid Terrestrial-impact Last Alert System) that will be installed at Teide Observatory in Tenerife island (Spain). ATLAS-Teide will be built by the Instituto de Astrofisica de Canarias (IAC) and will be operated as part of the ATLAS network in the framework of an operation and science exploitation agreement between the IAC and the ATLAS team at University of Hawaii. ATLAS-Teide will be the first ATLAS unit based on commercial on the shelf (COTS) components. Its design is modular, each module (building block) consist of four Celestron RASA 11 telescopes that point to the same sky field, equipped with QHY600PRO CMOS cameras on an equatorial Direct Drive mount. Each module is equivalent to a 56cm effective diameter telescope and provides a 7.3 deg^2 field of view and a 1.26 arcsec/pix plate scale. ATLAS-Teide will consist of four ATLAS modules in a roll-off roof building. This configuration allows to cover the same sky area of the actual ATLAS telescopes. The first ATLAS module was installed in November 2022 in an existing clamshell at the TO. This module (ATLAS-P) is being used as a prototype to test the system capabilities, develop the needed software (control, image processing, etc.) and complete the fully integration of ATLAS-Teide in the ATLAS network. The preliminary results of the tests are presented here, and the benefits of the new ATLAS design are discussed. |\n",
       "|<p style=\"color:red\"> **ERROR** </p>| <p style=\"color:red\">latex error not a gzip file</p> |"
      ],
      "text/plain": [
       "<IPython.core.display.Markdown object>"
      ]
     },
     "metadata": {},
     "output_type": "display_data"
    },
    {
     "data": {
      "text/markdown": [
       "\n",
       "|||\n",
       "|---:|:---|\n",
       "| [![arXiv](https://img.shields.io/badge/arXiv-arXiv:2302.08072-b31b1b.svg)](https://arxiv.org/abs/arXiv:2302.08072) | **Polarized accretion shocks from the cosmic web**  |\n",
       "|| Tessa Vernstrom, et al. -- incl., <mark>George Heald</mark> |\n",
       "|*Appeared on*| *2023-02-17*|\n",
       "|*Comments*| *Published in Science Advances. Supplementary Materials available at this https URL*|\n",
       "|**Abstract**| On the largest scales, galaxies are pulled together by gravity to form clusters, which are connected by filaments making a web-like pattern. Radio emission is predicted from this cosmic web, which should originate from the strong accretion shocks around the cosmic structures. We present the first observational evidence that Fermi-type acceleration from strong shocks surrounding the filaments of the cosmic web, as well as in peripherals of low-mass clusters, is at work in the Universe. Using all-sky radio maps and stacking on clusters and filaments, we have detected the polarization signature of the synchrotron emission with polarization fractions >= 20%, which is best explained by the organization of local magnetic fields by strong shock waves both at the cluster peripheries and between clusters. Our interpretation is well supported by a detailed comparison with state-of-the-art cosmological simulations. |\n",
       "|<p style=\"color:red\"> **ERROR** </p>| <p style=\"color:red\">latex error not a gzip file</p> |"
      ],
      "text/plain": [
       "<IPython.core.display.Markdown object>"
      ]
     },
     "metadata": {},
     "output_type": "display_data"
    }
   ],
   "source": [
    "import datetime\n",
    "today = str(datetime.date.today())\n",
    "logfile = f\"_build/html/logs/log-{today}.md\"\n",
    "\n",
    "\n",
    "with open(logfile, 'w') as logs:\n",
    "    # Success\n",
    "    logs.write(f'# Arxiv on Deck 2: Logs - {today}\\n\\n')\n",
    "    logs.write(\"\"\"* Arxiv had {0:,d} new papers\\n\"\"\".format(len(new_papers)))\n",
    "    logs.write(\"\"\"    * {0:,d} with possible author matches\\n\\n\"\"\".format(len(candidates)))\n",
    "    logs.write(\"## Sucessful papers\\n\\n\")\n",
    "    display(Markdown(\"## Successful papers\"))\n",
    "    success = [k[0] for k in documents]\n",
    "    for candid in candidates:\n",
    "        if candid['identifier'].split(':')[-1] in success:\n",
    "            display(candid)\n",
    "            logs.write(candid.generate_markdown_text() + '\\n\\n')\n",
    "\n",
    "    ## failed\n",
    "    logs.write(\"## Failed papers\\n\\n\")\n",
    "    display(Markdown(\"## Failed papers\"))\n",
    "    failed = sorted(failed, key=lambda x: x[1])\n",
    "    current_reason = \"\"\n",
    "    for paper, reason in failed:\n",
    "        if 'affiliation' in reason:\n",
    "            color = 'green'\n",
    "        else:\n",
    "            color = 'red'\n",
    "        data = Markdown(\n",
    "                paper.generate_markdown_text() + \n",
    "                f'\\n|<p style=\"color:{color:s}\"> **ERROR** </p>| <p style=\"color:{color:s}\">{reason:s}</p> |'\n",
    "               )\n",
    "        if reason != current_reason:\n",
    "            logs.write(f'### {reason:s} \\n\\n')\n",
    "            current_reason = reason\n",
    "        logs.write(data.data + '\\n\\n')\n",
    "        \n",
    "        # only display here the important errors (all in logs)\n",
    "        # if color in ('red',):\n",
    "        display(data)"
   ]
  },
  {
   "cell_type": "markdown",
   "id": "472d20ee",
   "metadata": {
    "papermill": {
     "duration": 0.014649,
     "end_time": "2023-02-17T04:14:42.726784",
     "exception": false,
     "start_time": "2023-02-17T04:14:42.712135",
     "status": "completed"
    },
    "tags": []
   },
   "source": [
    "## Export documents\n",
    "\n",
    "We now write the .md files and export relevant images"
   ]
  },
  {
   "cell_type": "code",
   "execution_count": 7,
   "id": "d426aed9",
   "metadata": {
    "execution": {
     "iopub.execute_input": "2023-02-17T04:14:42.758791Z",
     "iopub.status.busy": "2023-02-17T04:14:42.757715Z",
     "iopub.status.idle": "2023-02-17T04:14:42.767103Z",
     "shell.execute_reply": "2023-02-17T04:14:42.766248Z"
    },
    "papermill": {
     "duration": 0.027955,
     "end_time": "2023-02-17T04:14:42.769081",
     "exception": false,
     "start_time": "2023-02-17T04:14:42.741126",
     "status": "completed"
    },
    "tags": []
   },
   "outputs": [],
   "source": [
    "def export_markdown_summary(md: str, md_fname:str, directory: str):\n",
    "    \"\"\"Export MD document and associated relevant images\"\"\"\n",
    "    import os\n",
    "    import shutil\n",
    "    import re\n",
    "\n",
    "    if (os.path.exists(directory) and not os.path.isdir(directory)):\n",
    "        raise RuntimeError(f\"a non-directory file exists with name {directory:s}\")\n",
    "\n",
    "    if (not os.path.exists(directory)):\n",
    "        print(f\"creating directory {directory:s}\")\n",
    "        os.mkdir(directory)\n",
    "\n",
    "    fig_fnames = (re.compile(r'\\[Fig.*\\]\\((.*)\\)').findall(md) + \n",
    "                  re.compile(r'\\<img src=\"([^>\\s]*)\"[^>]*/>').findall(md))\n",
    "    for fname in fig_fnames:\n",
    "        if 'http' in fname:\n",
    "            # No need to copy online figures\n",
    "            continue\n",
    "        destdir = os.path.join(directory, os.path.dirname(fname))\n",
    "        destfname = os.path.join(destdir, os.path.basename(fname))\n",
    "        try:\n",
    "            os.makedirs(destdir)\n",
    "        except FileExistsError:\n",
    "            pass\n",
    "        shutil.copy(fname, destfname)\n",
    "    with open(os.path.join(directory, md_fname), 'w') as fout:\n",
    "        fout.write(md)\n",
    "    print(\"exported in \", os.path.join(directory, md_fname))\n",
    "    [print(\"    + \" + os.path.join(directory,fk)) for fk in fig_fnames]"
   ]
  },
  {
   "cell_type": "code",
   "execution_count": 8,
   "id": "014d04a4",
   "metadata": {
    "execution": {
     "iopub.execute_input": "2023-02-17T04:14:42.801411Z",
     "iopub.status.busy": "2023-02-17T04:14:42.800324Z",
     "iopub.status.idle": "2023-02-17T04:14:42.815983Z",
     "shell.execute_reply": "2023-02-17T04:14:42.815235Z"
    },
    "papermill": {
     "duration": 0.034369,
     "end_time": "2023-02-17T04:14:42.818057",
     "exception": false,
     "start_time": "2023-02-17T04:14:42.783688",
     "status": "completed"
    },
    "tags": []
   },
   "outputs": [
    {
     "name": "stdout",
     "output_type": "stream",
     "text": [
      "exported in  _build/html/2302.07880.md\n",
      "    + _build/html/tmp_2302.07880/./gaia_bh2_population.png\n",
      "    + _build/html/tmp_2302.07880/./gaia_bh2_porb_distribution.png\n",
      "    + _build/html/tmp_2302.07880/./gaia_bh2_gost.png\n",
      "exported in  _build/html/2302.07916.md\n",
      "    + _build/html/tmp_2302.07916/./figures/J07446+035/correlation_ccfrvnzp_fitgaussianrvline/ts_nlin_histrcoeff_periodogram_all_rcoeff_cuts_-0.40_0.40_inside_stdwrvlinmax200_rcoeff_cuts_-0.30_0.30_inside_stdwrvlinmax200_rcoeff_cuts_-0.20_0.20_inside_stdwrvlinmax200_rcoeff_cuts_-0.10_0.10_inside_stdwrvlinmax200_rvline_mean_zoomprot.png\n",
      "    + _build/html/tmp_2302.07916/./figures/J07446+035/correlation_ccfbis_fitgaussianrvline/ts_nlin_histrcoeff_periodogram_all_rcoeff_cuts_-0.40_0.40_inside_stdwrvlinmax200_rcoeff_cuts_-0.30_0.30_inside_stdwrvlinmax200_rcoeff_cuts_-0.20_0.20_inside_stdwrvlinmax200_rcoeff_cuts_-0.10_0.10_inside_stdwrvlinmax200_rvline_mean_zoomprot.png\n",
      "    + _build/html/tmp_2302.07916/./figures/J07446+035/correlation_servalcrx_fitgaussianrvline/ts_nlin_histrcoeff_periodogram_all_rcoeff_cuts_-0.40_0.40_inside_stdwrvlinmax200_rcoeff_cuts_-0.30_0.30_inside_stdwrvlinmax200_rcoeff_cuts_-0.20_0.20_inside_stdwrvlinmax200_rcoeff_cuts_-0.10_0.10_inside_stdwrvlinmax200_rvline_mean_zoomprot.png\n"
     ]
    }
   ],
   "source": [
    "for paper_id, md in documents:\n",
    "    export_markdown_summary(md, f\"{paper_id:s}.md\", '_build/html/')"
   ]
  },
  {
   "cell_type": "markdown",
   "id": "f087a0a7",
   "metadata": {
    "papermill": {
     "duration": 0.014662,
     "end_time": "2023-02-17T04:14:42.847865",
     "exception": false,
     "start_time": "2023-02-17T04:14:42.833203",
     "status": "completed"
    },
    "tags": []
   },
   "source": [
    "## Display the papers\n",
    "\n",
    "Not necessary but allows for a quick check."
   ]
  },
  {
   "cell_type": "code",
   "execution_count": 9,
   "id": "fd25f625",
   "metadata": {
    "execution": {
     "iopub.execute_input": "2023-02-17T04:14:42.881450Z",
     "iopub.status.busy": "2023-02-17T04:14:42.880980Z",
     "iopub.status.idle": "2023-02-17T04:14:42.892663Z",
     "shell.execute_reply": "2023-02-17T04:14:42.891781Z"
    },
    "papermill": {
     "duration": 0.031752,
     "end_time": "2023-02-17T04:14:42.894483",
     "exception": false,
     "start_time": "2023-02-17T04:14:42.862731",
     "status": "completed"
    },
    "scrolled": false,
    "tags": []
   },
   "outputs": [
    {
     "data": {
      "text/markdown": [
       "<div class=\"macros\" style=\"visibility:hidden;\">\n",
       "$\\newcommand{\\ensuremath}{}$\n",
       "$\\newcommand{\\xspace}{}$\n",
       "$\\newcommand{\\object}[1]{\\texttt{#1}}$\n",
       "$\\newcommand{\\farcs}{{.}''}$\n",
       "$\\newcommand{\\farcm}{{.}'}$\n",
       "$\\newcommand{\\arcsec}{''}$\n",
       "$\\newcommand{\\arcmin}{'}$\n",
       "$\\newcommand{\\ion}[2]{#1#2}$\n",
       "$\\newcommand{\\textsc}[1]{\\textrm{#1}}$\n",
       "$\\newcommand{\\hl}[1]{\\textrm{#1}}$\n",
       "$\\newcommand{\\kb}[1]{[\\color{teal}{KB: #1}]}$\n",
       "$\\newcommand{\\red}[1]{\\textcolor{red}{#1}}$\n",
       "$\\newcommand{\\thebibliography}{\\DeclareRobustCommand{\\VAN}[3]{##3}\\VANthebibliography}$\n",
       "$\\newcommand{\\}{mn}$\n",
       "$\\newcommand{\\}{mn}$\n",
       "$\\newcommand{\\}{mn}$\n",
       "$\\newcommand{\\}{mn}$\n",
       "$\\newcommand{\\}{mn}$\n",
       "$\\newcommand{\\}{mn}$\n",
       "$\\newcommand{\\}{mn}$\n",
       "$\\newcommand{\\@}{tempa}$\n",
       "$\\newcommand{\\@}{tempa }$\n",
       "$\\newcommand{\\@}{tempb }$\n",
       "$\\newcommand{\\@}{tempc$\n",
       "$  }$\n",
       "$\\newcommand{\\@}{tempb }$</div>\n",
       "\n",
       "<div class=\"macros\" style=\"visibility:hidden;\">\n",
       "$\\newcommand{$\\ensuremath$}{}$\n",
       "$\\newcommand{$\\xspace$}{}$\n",
       "$\\newcommand{$\\object$}[1]{\\texttt{#1}}$\n",
       "$\\newcommand{$\\farcs$}{{.}''}$\n",
       "$\\newcommand{$\\farcm$}{{.}'}$\n",
       "$\\newcommand{$\\arcsec$}{''}$\n",
       "$\\newcommand{$\\arcmin$}{'}$\n",
       "$\\newcommand{$\\ion$}[2]{#1#2}$\n",
       "$\\newcommand{$\\textsc$}[1]{\\textrm{#1}}$\n",
       "$\\newcommand{$\\hl$}[1]{\\textrm{#1}}$\n",
       "$\\newcommand{$\\kb$}[1]{[\\color{teal}{KB: #1}]}$\n",
       "$\\newcommand{$\\red$}[1]{\\textcolor{red}{#1}}$\n",
       "$\\newcommand{$\\thebibliography$}{\\DeclareRobustCommand{\\VAN}[3]{##3}\\VANthebibliography}$\n",
       "$\\newcommand{\\}{mn}$\n",
       "$\\newcommand{\\}{mn}$\n",
       "$\\newcommand{\\}{mn}$\n",
       "$\\newcommand{\\}{mn}$\n",
       "$\\newcommand{\\}{mn}$\n",
       "$\\newcommand{\\}{mn}$\n",
       "$\\newcommand{\\}{mn}$\n",
       "$\\newcommand{\\@}{tempa}$\n",
       "$\\newcommand{\\@}{tempa }$\n",
       "$\\newcommand{\\@}{tempb }$\n",
       "$\\newcommand{\\@}{tempc$\n",
       "$  }$\n",
       "$\\newcommand{\\@}{tempb }$</div>\n",
       "\n",
       "\n",
       "\n",
       "<div id=\"title\">\n",
       "\n",
       "# A red giant orbiting a black hole\n",
       "\n",
       "</div>\n",
       "<div id=\"comments\">\n",
       "\n",
       "[![arXiv](https://img.shields.io/badge/arXiv-2302.07880-b31b1b.svg)](https://arxiv.org/abs/2302.07880)<mark>Appeared on: 2023-02-17</mark> - _22 pages, 15 figures. Submitted to MNRAS_\n",
       "\n",
       "</div>\n",
       "<div id=\"authors\">\n",
       "\n",
       "<mark><mark>Kareem El-Badry</mark></mark>, et al. -- incl., <mark><mark>Hans-Walter Rix</mark></mark>, <mark><mark>Eleonora Zari</mark></mark>, <mark><mark>Melissa Hobson</mark></mark>, <mark><mark>Rhys Seeburger</mark></mark>\n",
       "\n",
       "</div>\n",
       "<div id=\"abstract\">\n",
       "\n",
       "**Abstract:** We report spectroscopic and photometric follow-up of a dormant black hole (BH) candidate from{\\it Gaia}DR3. We show that the system, which we call Gaia BH2, contains a$\\sim$1$M_{\\odot}$red giant and a dark companion with mass$M_2 = 8.9\\pm 0.3 M_{\\odot}$that is very likely a BH. The orbital period,$P_{\\rm orb} = 1277$days, is much longer than that of any previously studied BH binary. Our radial velocity (RV) follow-up over a 6-month period spans most of the orbit's dynamic range in RV and is in excellent agreement with predictions of the{\\it Gaia}solution. UV imaging and high-resolution optical spectra rule out all plausible luminous companions that could explain the orbit. The  star is a bright ($G=12.3$), slightly metal-poor ($\\rm[Fe/H]=-0.22$) low-luminosity giant ($T_{\\rm eff}=4600 \\rm K$;$R = 7.9 R_{\\odot}$;$\\log\\left[g/\\left({\\rm cm s^{-2}}\\right)\\right] = 2.6$). The binary's orbit is moderately eccentric ($e=0.52$). The giant is strongly enhanced in$\\alpha-$elements, with$\\rm[\\alpha/Fe] = +0.26$, but the system's Galactocentric orbit is typical of the thin disk. We obtained X-ray and radio nondetections of the source near periastron, which support BH accretion models in which the net accretion rate at the horizon is much lower than the Bondi-Hoyle-Lyttleton rate. At a distance of 1.16 kpc, Gaia BH2 is the second-nearest known BH, after Gaia BH1.  Its orbit -- like that of Gaia BH1 -- seems too wide to have formed through common envelope evolution. Gaia BH1 and BH2 have orbital periods at opposite edges of the{\\it Gaia}DR3 sensitivity curve, perhaps hinting at a bimodal intrinsic period distribution for wide BH binaries. Dormant BH binaries like Gaia BH1 and Gaia BH2 likely significantly outnumber their close, X-ray bright cousins, but their formation pathways remain uncertain.\n",
       "\n",
       "</div>\n",
       "\n",
       "<div id=\"div_fig1\">\n",
       "\n",
       "<img src=\"tmp_2302.07880/./gaia_bh2_population.png\" alt=\"Fig6\" width=\"100%\"/>\n",
       "\n",
       "**Figure 6. -** Comparison of Gaia BH1 and BH2 (black points) to other known BHs. Red and blue symbols correspond to accreting BHs with low- and high-mass companions. Magenta symbols show detached binaries in the globular cluster NGC 3201, and cyan points show detached binaries in which the luminous star is a high-mass ($\\gtrsim 20 M_{\\odot}$) star. Gaia BH2 stands out from the rest of the population most strongly due to its orbital period, which is $7\\times$ longer than that of Gaia BH1 and $\\sim 1000$ times longer than the periods of typical X-ray binaries. (*fig:bh_pop*)\n",
       "\n",
       "</div>\n",
       "<div id=\"div_fig2\">\n",
       "\n",
       "<img src=\"tmp_2302.07880/./gaia_bh2_porb_distribution.png\" alt=\"Fig2\" width=\"100%\"/>\n",
       "\n",
       "**Figure 2. -** Orbital period distribution of all astrometric binaries in {\\it Gaia} DR3 (black) and Gaia BH1 and BH2 (red). In the bottom panel, we divide the observed period distribution of all astrometric binaries by the expected intrinsic binary period distribution for solar-type stars. This provides an approximate sensitivity function of {\\it Gaia} DR3 as a function of orbital period, marginalized over other observables. The two BHs have periods at the long- and short-period edges of the full observed period distribution, where DR3's sensitivity is $\\sim 10\\times$ lower than at its peak at 1.5 years. This is suggestive of a bimodal intrinsic period distribution, with fewer BHs at periods of 1-3 years. (*fig:porb_distribution*)\n",
       "\n",
       "</div>\n",
       "<div id=\"div_fig3\">\n",
       "\n",
       "<img src=\"tmp_2302.07880/./gaia_bh2_gost.png\" alt=\"Fig3\" width=\"100%\"/>\n",
       "\n",
       "**Figure 3. -** Predicted observation times of Gaia BH2 from the {\\it Gaia} observation scheduling tool (GOST). Black line shows the best-fit orbit from our combined fit. Red points show the predicted photocenter positions at the times when GOST predicts {\\it Gaia} would have observed the source. Note that we do not have access to the actual measured $\\Delta \\rm RA$, $\\Delta \\rm Dec$ and $\\rm RV$ values; only to the predicted scan times. Further caveats are discussed in the text. (*fig:gost*)\n",
       "\n",
       "</div>"
      ],
      "text/plain": [
       "<IPython.core.display.Markdown object>"
      ]
     },
     "metadata": {},
     "output_type": "display_data"
    },
    {
     "data": {
      "text/markdown": [
       "<div class=\"macros\" style=\"visibility:hidden;\">\n",
       "$\\newcommand{\\ensuremath}{}$\n",
       "$\\newcommand{\\xspace}{}$\n",
       "$\\newcommand{\\object}[1]{\\texttt{#1}}$\n",
       "$\\newcommand{\\farcs}{{.}''}$\n",
       "$\\newcommand{\\farcm}{{.}'}$\n",
       "$\\newcommand{\\arcsec}{''}$\n",
       "$\\newcommand{\\arcmin}{'}$\n",
       "$\\newcommand{\\ion}[2]{#1#2}$\n",
       "$\\newcommand{\\textsc}[1]{\\textrm{#1}}$\n",
       "$\\newcommand{\\hl}[1]{\\textrm{#1}}$\n",
       "$\\newcommand{\\ccf}{cross-correlation function\\xspace}$\n",
       "$\\newcommand{\\vsini}{\\ensuremath{v \\sin{i}}\\xspace}$\n",
       "$\\newcommand{\\ms}{\\ensuremath{\\mathrm{m s^{-1}}}\\xspace}$\n",
       "$\\newcommand{\\kms}{\\ensuremath{\\mathrm{km s^{-1}}}\\xspace}$\n",
       "$\\newcommand{\\A}{\\ensuremath{\\mathrm{\\AA}}\\xspace}$\n",
       "$\\newcommand{\\Halpha}{\\ensuremath{\\mathrm{H\\alpha}}\\xspace}$\n",
       "$\\newcommand{\\CaHK}{\\ion{Ca}{II} H\\&K\\xspace}$\n",
       "$\\newcommand{\\pEWHalpha}{pEW\\ensuremath{'(\\Halpha)}\\xspace}$\n",
       "$\\newcommand{\\IHalpha}{\\ensuremath{I_{\\Halpha}}\\xspace}$\n",
       "$\\newcommand{\\logLHalphaLbol}{\\ensuremath{\\log(L_{\\Halpha}/L_{\\mathrm{bol}})}\\xspace}$\n",
       "$\\newcommand{\\LXLJ}{\\ensuremath{L_X/L_J}\\xspace}$\n",
       "$\\newcommand{\\RHK}{\\ensuremath{R'_{\\mathrm{HK}}}\\xspace}$\n",
       "$\\newcommand{\\logRHK}{\\ensuremath{\\log R'_{\\mathrm{HK}}}\\xspace}$\n",
       "$\\newcommand{\\HeD}{\\ion{He}{I} \\ensuremath{\\mathrm{D_3}}\\xspace}$\n",
       "$\\newcommand{\\Heten}{\\ensuremath{\\mathrm{\\ion{He}{I}} \\lambda10833 \\mathrm{\\AA}}\\xspace}$\n",
       "$\\newcommand{\\Pabeta}{\\ensuremath{\\mathrm{Pa}\\beta}\\xspace}$\n",
       "$\\newcommand{\\NaD}{\\ensuremath{\\mathrm{\\ion{Na}{I} D}}\\xspace}$\n",
       "$\\newcommand{\\Caii}{\\ensuremath{\\mathrm{\\ion{Ca}{II}}}\\xspace}$\n",
       "$\\newcommand{\\Prot}{\\ensuremath{P_{\\mathrm{rot}}}\\xspace}$\n",
       "$\\newcommand{\\Prothalf}{\\ensuremath{\\frac{1}{2}P_{\\mathrm{rot}}}\\xspace}$\n",
       "$\\newcommand{\\Protthird}{\\ensuremath{\\frac{1}{3}P_{\\mathrm{rot}}}\\xspace}$\n",
       "$\\newcommand{\\Protalias}{\\ensuremath{P_{\\mathrm{rot}}\\mathrm{ 1 d a.}}\\xspace}$\n",
       "$\\newcommand{\\Prothalfalias}{\\ensuremath{\\frac{1}{2}P_{\\mathrm{rot}}\\mathrm{ 1 d a.}}\\xspace}$\n",
       "$\\newcommand{\\Protthirdalias}{\\ensuremath{\\frac{1}{3}P_{\\mathrm{rot}}\\mathrm{ 1 d a.}}\\xspace}$\n",
       "$\\newcommand{\\days}{\\ensuremath{\\mathrm{d}}\\xspace}$\n",
       "$\\newcommand{\\FAP}{\\ensuremath{\\mathrm{FAP}}\\xspace}$\n",
       "$\\newcommand{\\Msun}{\\ensuremath{\\mathrm{M_{\\odot}}}\\xspace}$\n",
       "$\\newcommand{\\Mearth}{\\ensuremath{\\mathrm{M_{\\oplus}}}\\xspace}$\n",
       "$\\newcommand{\\Mjup}{\\ensuremath{\\mathrm{M_{J}}}\\xspace}$\n",
       "$\\newcommand{\\caracal}{\\texttt{caracal}\\xspace}$\n",
       "$\\newcommand{\\serval}{\\texttt{serval}\\xspace}$\n",
       "$\\newcommand{\\raccoon}{\\texttt{raccoon}\\xspace}$</div>\n",
       "\n",
       "<div class=\"macros\" style=\"visibility:hidden;\">\n",
       "$\\newcommand{$\\ensuremath$}{}$\n",
       "$\\newcommand{$\\xspace$}{}$\n",
       "$\\newcommand{$\\object$}[1]{\\texttt{#1}}$\n",
       "$\\newcommand{$\\farcs$}{{.}''}$\n",
       "$\\newcommand{$\\farcm$}{{.}'}$\n",
       "$\\newcommand{$\\arcsec$}{''}$\n",
       "$\\newcommand{$\\arcmin$}{'}$\n",
       "$\\newcommand{$\\ion$}[2]{#1#2}$\n",
       "$\\newcommand{$\\textsc$}[1]{\\textrm{#1}}$\n",
       "$\\newcommand{$\\hl$}[1]{\\textrm{#1}}$\n",
       "$\\newcommand{$\\ccf$}{cross-correlation function$\\xspace$}$\n",
       "$\\newcommand{$\\vsini$}{$\\ensuremath${v \\sin{i}}$\\xspace$}$\n",
       "$\\newcommand{$\\ms$}{$\\ensuremath${\\mathrm{m s^{-1}}}$\\xspace$}$\n",
       "$\\newcommand{$\\kms$}{$\\ensuremath${\\mathrm{km s^{-1}}}$\\xspace$}$\n",
       "$\\newcommand{$\\A$}{$\\ensuremath${\\mathrm{$\\A$A}}$\\xspace$}$\n",
       "$\\newcommand{$\\Halpha$}{$\\ensuremath${\\mathrm{H\\alpha}}$\\xspace$}$\n",
       "$\\newcommand{$\\CaHK$}{$\\ion${Ca}{II} H\\&K$\\xspace$}$\n",
       "$\\newcommand{$\\pEWHalpha$}{pEW$\\ensuremath${'($\\Halpha$)}$\\xspace$}$\n",
       "$\\newcommand{$\\IHalpha$}{$\\ensuremath${I_{$\\Halpha$}}$\\xspace$}$\n",
       "$\\newcommand{$\\logLHalphaLbol$}{$\\ensuremath${\\log(L_{$\\Halpha$}/L_{\\mathrm{bol}})}$\\xspace$}$\n",
       "$\\newcommand{$\\LXLJ$}{$\\ensuremath${L_X/L_J}$\\xspace$}$\n",
       "$\\newcommand{$\\RHK$}{$\\ensuremath${R'_{\\mathrm{HK}}}$\\xspace$}$\n",
       "$\\newcommand{$\\logRHK$}{$\\ensuremath${\\log R'_{\\mathrm{HK}}}$\\xspace$}$\n",
       "$\\newcommand{$\\HeD$}{$\\ion${He}{I} $\\ensuremath${\\mathrm{D_3}}$\\xspace$}$\n",
       "$\\newcommand{$\\Heten$}{$\\ensuremath${\\mathrm{$\\ion${He}{I}} \\lambda10833 \\mathrm{$\\A$A}}$\\xspace$}$\n",
       "$\\newcommand{$\\Pabeta$}{$\\ensuremath${\\mathrm{Pa}\\beta}$\\xspace$}$\n",
       "$\\newcommand{$\\NaD$}{$\\ensuremath${\\mathrm{$\\ion${Na}{I} D}}$\\xspace$}$\n",
       "$\\newcommand{$\\Caii$}{$\\ensuremath${\\mathrm{$\\ion${Ca}{II}}}$\\xspace$}$\n",
       "$\\newcommand{$\\Prot$}{$\\ensuremath${P_{\\mathrm{rot}}}$\\xspace$}$\n",
       "$\\newcommand{$\\Prot$half}{$\\ensuremath${\\frac{1}{2}P_{\\mathrm{rot}}}$\\xspace$}$\n",
       "$\\newcommand{$\\Prot$third}{$\\ensuremath${\\frac{1}{3}P_{\\mathrm{rot}}}$\\xspace$}$\n",
       "$\\newcommand{$\\Prot$alias}{$\\ensuremath${P_{\\mathrm{rot}}\\mathrm{ 1 d a.}}$\\xspace$}$\n",
       "$\\newcommand{$\\Prot$halfalias}{$\\ensuremath${\\frac{1}{2}P_{\\mathrm{rot}}\\mathrm{ 1 d a.}}$\\xspace$}$\n",
       "$\\newcommand{$\\Prot$thirdalias}{$\\ensuremath${\\frac{1}{3}P_{\\mathrm{rot}}\\mathrm{ 1 d a.}}$\\xspace$}$\n",
       "$\\newcommand{$\\days$}{$\\ensuremath${\\mathrm{d}}$\\xspace$}$\n",
       "$\\newcommand{$\\FAP$}{$\\ensuremath${\\mathrm{FAP}}$\\xspace$}$\n",
       "$\\newcommand{$\\Msun$}{$\\ensuremath${\\mathrm{M_{\\odot}}}$\\xspace$}$\n",
       "$\\newcommand{$\\Mearth$}{$\\ensuremath${\\mathrm{M_{\\oplus}}}$\\xspace$}$\n",
       "$\\newcommand{$\\Mjup$}{$\\ensuremath${\\mathrm{M_{J}}}$\\xspace$}$\n",
       "$\\newcommand{$\\caracal$}{\\texttt{caracal}$\\xspace$}$\n",
       "$\\newcommand{$\\serval$}{\\texttt{serval}$\\xspace$}$\n",
       "$\\newcommand{$\\raccoon$}{\\texttt{raccoon}$\\xspace$}$</div>\n",
       "\n",
       "\n",
       "\n",
       "<div id=\"title\">\n",
       "\n",
       "# The CARMENES search for exoplanets around M dwarfs\n",
       "\n",
       "</div>\n",
       "<div id=\"comments\">\n",
       "\n",
       "[![arXiv](https://img.shields.io/badge/arXiv-2302.07916-b31b1b.svg)](https://arxiv.org/abs/2302.07916)<mark>Appeared on: 2023-02-17</mark> - _Accepted for publication in A&A_\n",
       "\n",
       "</div>\n",
       "<div id=\"authors\">\n",
       "\n",
       "M. Lafarga, et al. -- incl., <mark><mark>Th. Henning</mark></mark>, <mark><mark>M. Kürster</mark></mark>\n",
       "\n",
       "</div>\n",
       "<div id=\"abstract\">\n",
       "\n",
       "**Abstract:** Radial velocities (RVs) measured from high-resolution stellar spectra are routinely used to detect and characterise orbiting exoplanet companions. The different lines present in stellar spectra are created by several species, which are non-uniformly affected by stellar variability features such as spots or faculae. Stellar variability distorts the shape of the spectral absorption lines from which precise RVs  are measured, posing one of the main problems in the study of exoplanets.In this work we aim to study how the spectral lines present in M dwarfs are independently impacted by stellar activity.We used CARMENES optical spectra of six active early- and mid-type M dwarfs to compute line-by-line RVs and study their correlation with several well-studied proxies of stellar activity.We are able to classify spectral lines based on their sensitivity to activity in five M dwarfs displaying high levels of stellar activity. We further used this line classification to compute RVs with activity-sensitive lines and less sensitive lines, enhancing or mitigating stellar activity effects in the RV time series. For specific sets of the least activity-sensitive lines, the RV scatter decreases by$\\sim2$to 5 times the initial one, depending on the star. Finally, we compare these lines in the different stars analysed, finding the sensitivity to activity to vary from star to star.Despite the high density of lines and blends present in M dwarf stellar spectra, we find that a line-by-line approach is able to deliver precise RVs. Line-by-line RVs are also sensitive to stellar activity effects, and they allow for an accurate selection of activity-insensitive lines to mitigate activity effects in RV. However, we find stellar activity effects to vary in the same insensitive lines from star to star.\n",
       "\n",
       "</div>\n",
       "\n",
       "<div id=\"div_fig1\">\n",
       "\n",
       "<img src=\"tmp_2302.07916/./figures/J07446+035/correlation_ccfrvnzp_fitgaussianrvline/ts_nlin_histrcoeff_periodogram_all_rcoeff_cuts_-0.40_0.40_inside_stdwrvlinmax200_rcoeff_cuts_-0.30_0.30_inside_stdwrvlinmax200_rcoeff_cuts_-0.20_0.20_inside_stdwrvlinmax200_rcoeff_cuts_-0.10_0.10_inside_stdwrvlinmax200_rvline_mean_zoomprot.png\" alt=\"Fig7\" width=\"100%\"/>\n",
       "\n",
       "**Figure 7. -** Line-by-line results obtained using inactive lines for J07446+035 (YZ CMi). \\emph{Top left}: LAV RV time series obtained using RVs of selected inactive individual lines (colour), together with the LAV RV time series obtained using all the lines (black). The lines are selected based on the correlation of their RVs with the total spectrum RV, and their scatter. \\emph{Middle left}: Number of lines used to compute the average RV in each observation, for the different selection of lines used in the \\emph{top left panel}. \\emph{Top right}: Distribution of the Pearson's correlation coefficient R from the correlation between the individual line RVs and the total spectrum RV. The regions in colour indicate the different selection of lines used to compute the RVs of the \\emph{top left panel}. Additionally, we show in grey the distribution of R values after applying only the cut in line RV scatter (wstd). \\emph{Bottom left}: Periodograms of the RV datasets plotted on the \\emph{top left panel}. The horizontal lines correspond to the 0.1, 0.01, and 0.001 FAP levels, respectively. \\emph{Bottom right}: Zoom in of the periodogram region around the peak corresponding to the rotation period of the star. The text indicates the period and power of the highest peak of each periodogram. (*fig:tsnhpccfrvinactivebestJ07446+035*)\n",
       "\n",
       "</div>\n",
       "<div id=\"div_fig2\">\n",
       "\n",
       "<img src=\"tmp_2302.07916/./figures/J07446+035/correlation_ccfbis_fitgaussianrvline/ts_nlin_histrcoeff_periodogram_all_rcoeff_cuts_-0.40_0.40_inside_stdwrvlinmax200_rcoeff_cuts_-0.30_0.30_inside_stdwrvlinmax200_rcoeff_cuts_-0.20_0.20_inside_stdwrvlinmax200_rcoeff_cuts_-0.10_0.10_inside_stdwrvlinmax200_rvline_mean_zoomprot.png\" alt=\"Fig19\" width=\"100%\"/>\n",
       "\n",
       "**Figure 19. -** Same as Fig. \\ref{fig:tsnhpccfrvinactivebestJ07446+035}, but using R values from the correlation between the individual line RVs and CCF BIS. (*fig:tsnhpccfbisinactivebestJ07446+035*)\n",
       "\n",
       "</div>\n",
       "<div id=\"div_fig3\">\n",
       "\n",
       "<img src=\"tmp_2302.07916/./figures/J07446+035/correlation_servalcrx_fitgaussianrvline/ts_nlin_histrcoeff_periodogram_all_rcoeff_cuts_-0.40_0.40_inside_stdwrvlinmax200_rcoeff_cuts_-0.30_0.30_inside_stdwrvlinmax200_rcoeff_cuts_-0.20_0.20_inside_stdwrvlinmax200_rcoeff_cuts_-0.10_0.10_inside_stdwrvlinmax200_rvline_mean_zoomprot.png\" alt=\"Fig20\" width=\"100%\"/>\n",
       "\n",
       "**Figure 20. -** Same as Fig. \\ref{fig:tsnhpccfrvinactivebestJ07446+035}, but using R values from the correlation between the individual line RVs and CRX. (*fig:tsnhpservalcrxinactivebestJ07446+035*)\n",
       "\n",
       "</div>"
      ],
      "text/plain": [
       "<IPython.core.display.Markdown object>"
      ]
     },
     "metadata": {},
     "output_type": "display_data"
    }
   ],
   "source": [
    "[display(Markdown(k[1])) for k in documents];"
   ]
  },
  {
   "cell_type": "markdown",
   "id": "873873a4",
   "metadata": {
    "papermill": {
     "duration": 0.014945,
     "end_time": "2023-02-17T04:14:42.924769",
     "exception": false,
     "start_time": "2023-02-17T04:14:42.909824",
     "status": "completed"
    },
    "tags": []
   },
   "source": [
    "# Create HTML index"
   ]
  },
  {
   "cell_type": "code",
   "execution_count": 10,
   "id": "cf665672",
   "metadata": {
    "execution": {
     "iopub.execute_input": "2023-02-17T04:14:42.958030Z",
     "iopub.status.busy": "2023-02-17T04:14:42.957551Z",
     "iopub.status.idle": "2023-02-17T04:14:42.972400Z",
     "shell.execute_reply": "2023-02-17T04:14:42.971480Z"
    },
    "papermill": {
     "duration": 0.034683,
     "end_time": "2023-02-17T04:14:42.974894",
     "exception": false,
     "start_time": "2023-02-17T04:14:42.940211",
     "status": "completed"
    },
    "tags": []
   },
   "outputs": [
    {
     "name": "stdout",
     "output_type": "stream",
     "text": [
      "208  publications in the last 7 days.\n",
      "\t _build/html/2302.07916.md\n",
      "\t _build/html/2302.07880.md\n",
      "\t _build/html/2302.07497.md\n",
      "\t _build/html/2302.07277.md\n",
      "\t _build/html/2302.07256.md\n",
      "\t _build/html/2302.07234.md\n",
      "\t _build/html/2302.07057.md\n",
      "\t _build/html/2302.05694.md\n",
      "\t _build/html/2302.05465.md\n",
      "\t _build/html/2302.04507.md\n",
      "\t _build/html/2302.04239.md\n",
      "\t _build/html/2302.04138.md\n",
      "\t _build/html/2302.03699.md\n",
      "\t _build/html/2302.03576.md\n",
      "\t _build/html/2302.03042.md\n",
      "\t _build/html/2302.03039.md\n",
      "\t _build/html/2302.02890.md\n",
      "\t _build/html/2302.02611.md\n",
      "\t _build/html/2302.02429.md\n",
      "\t _build/html/2302.01678.md\n",
      "\t _build/html/2302.00450.md\n",
      "\t _build/html/2301.13766.md\n",
      "\t _build/html/2301.13526.md\n",
      "\t _build/html/2301.12890.md\n",
      "\t _build/html/2301.11942.md\n",
      "\t _build/html/2301.10717.md\n",
      "\t _build/html/2301.10666.md\n",
      "\t _build/html/2301.10496.md\n",
      "\t _build/html/2301.09621.md\n",
      "\t _build/html/2301.09140.md\n",
      "\t _build/html/2301.08770.md\n",
      "\t _build/html/2301.08310.md\n",
      "\t _build/html/2301.07990.md\n",
      "\t _build/html/2301.07366.md\n",
      "\t _build/html/2301.07199.md\n",
      "\t _build/html/2301.07116.md\n",
      "\t _build/html/2301.06873.md\n",
      "\t _build/html/2301.06819.md\n",
      "\t _build/html/2301.06575.md\n",
      "\t _build/html/2301.05720.md\n",
      "\t _build/html/2301.05718.md\n",
      "\t _build/html/2301.05034.md\n",
      "\t _build/html/2301.04656.md\n",
      "\t _build/html/2301.04533.md\n",
      "\t _build/html/2301.04442.md\n",
      "\t _build/html/2301.03811.md\n",
      "\t _build/html/2301.03689.md\n",
      "\t _build/html/2301.03387.md\n",
      "\t _build/html/2301.03209.md\n",
      "\t _build/html/2301.02671.md\n",
      "\t _build/html/2301.02477.md\n",
      "\t _build/html/2301.02313.md\n",
      "\t _build/html/2301.02265.md\n",
      "\t _build/html/2301.01937.md\n",
      "\t _build/html/2301.01895.md\n",
      "\t _build/html/2301.01684.md\n",
      "\t _build/html/2301.01306.md\n",
      "\t _build/html/2301.00881.md\n",
      "\t _build/html/2301.00854.md\n",
      "\t _build/html/2301.00578.md\n",
      "\t _build/html/2212.12039.md\n",
      "\t _build/html/2212.11991.md\n",
      "\t _build/html/2212.11425.md\n",
      "\t _build/html/2212.11177.md\n",
      "\t _build/html/2212.10804.md\n",
      "\t _build/html/2212.10512.md\n",
      "\t _build/html/2212.09766.md\n",
      "\t _build/html/2212.09675.md\n",
      "\t _build/html/2212.09661.md\n",
      "\t _build/html/2212.09652.md\n",
      "\t _build/html/2212.09443.md\n",
      "\t _build/html/2212.09307.md\n",
      "\t _build/html/2212.09168.md\n",
      "\t _build/html/2212.09159.md\n",
      "\t _build/html/2212.08702.md\n",
      "\t _build/html/2212.07332.md\n",
      "\t _build/html/2212.06434.md\n",
      "\t _build/html/2212.04710.md\n",
      "\t _build/html/2212.04026.md\n",
      "\t _build/html/2212.03563.md\n",
      "\t _build/html/2212.03514.md\n",
      "\t _build/html/2212.02667.md\n",
      "\t _build/html/2212.02627.md\n",
      "\t _build/html/2212.02235.md\n",
      "\t _build/html/2212.01707.md\n",
      "\t _build/html/2212.01526.md\n",
      "\t _build/html/2212.01397.md\n",
      "\t _build/html/2212.01291.md\n",
      "\t _build/html/2212.01281.md\n",
      "\t _build/html/2212.00812.md\n",
      "\t _build/html/2212.00811.md\n",
      "\t _build/html/2212.00806.md\n",
      "\t _build/html/2212.00047.md\n",
      "\t _build/html/2212.00032.md\n",
      "\t _build/html/2211.16996.md\n",
      "\t _build/html/2211.16510.md\n",
      "\t _build/html/2211.16123.md\n",
      "\t _build/html/2211.15816.md\n",
      "\t _build/html/2211.15698.md\n",
      "\t _build/html/2211.15576.md\n",
      "\t _build/html/2211.15434.md\n",
      "\t _build/html/2211.15288.md\n",
      "\t _build/html/2211.15224.md\n",
      "\t _build/html/2211.14543.md\n",
      "\t _build/html/2211.14330.md\n",
      "\t _build/html/2211.14322.md\n",
      "\t _build/html/2211.14132.md\n",
      "\t _build/html/2211.13811.md\n",
      "\t _build/html/2211.13426.md\n",
      "\t _build/html/2211.13318.md\n",
      "\t _build/html/2211.13146.md\n",
      "\t _build/html/2211.12613.md\n",
      "\t _build/html/2211.11767.md\n",
      "\t _build/html/2211.09840.md\n",
      "\t _build/html/2211.09217.md\n",
      "\t _build/html/2211.08493.md\n",
      "\t _build/html/2211.08487.md\n",
      "\t _build/html/2211.08294.md\n",
      "\t _build/html/2211.07667.md\n",
      "\t _build/html/2211.07659.md\n",
      "\t _build/html/2211.06454.md\n",
      "\t _build/html/2211.06205.md\n",
      "\t _build/html/2211.06194.md\n",
      "\t _build/html/2211.05022.md\n",
      "\t _build/html/2211.04048.md\n",
      "\t _build/html/2211.03641.md\n",
      "\t _build/html/2211.02502.md\n",
      "\t _build/html/2211.01474.md\n",
      "\t _build/html/2211.00667.md\n",
      "\t _build/html/2211.00657.md\n",
      "\t _build/html/2211.00087.md\n",
      "\t _build/html/2211.00036.md\n",
      "\t _build/html/2211.00020.md\n",
      "\t _build/html/2211.00010.md\n",
      "\t _build/html/2210.17434.md\n",
      "\t _build/html/2210.12412.md\n",
      "\t _build/html/2210.11926.md\n",
      "\t _build/html/2210.11551.md\n",
      "\t _build/html/2210.11103.md\n",
      "\t _build/html/2210.10707.md\n",
      "\t _build/html/2210.09930.md\n",
      "\t _build/html/2210.08996.md\n",
      "\t _build/html/2210.08517.md\n",
      "\t _build/html/2210.08510.md\n",
      "\t _build/html/2210.08078.md\n",
      "\t _build/html/2210.06504.md\n",
      "\t _build/html/2210.05695.md\n",
      "\t _build/html/2210.05595.md\n",
      "\t _build/html/2210.05505.md\n",
      "\t _build/html/2210.04721.md\n",
      "\t _build/html/2210.03615.md\n",
      "\t _build/html/2210.01811.md\n",
      "\t _build/html/2210.01809.md\n",
      "\t _build/html/2210.01556.md\n",
      "\t _build/html/2210.00863.md\n",
      "\t _build/html/2210.00560.md\n",
      "\t _build/html/2209.15403.md\n",
      "\t _build/html/2209.15110.md\n",
      "\t _build/html/2209.14410.md\n",
      "\t _build/html/2209.14396.md\n",
      "\t _build/html/2209.13717.md\n",
      "\t _build/html/2209.13336.md\n",
      "\t _build/html/2209.12906.md\n",
      "\t _build/html/2209.11781.md\n",
      "\t _build/html/2209.11602.md\n",
      "\t _build/html/2209.11248.md\n",
      "\t _build/html/2209.11096.md\n",
      "\t _build/html/2209.10618.md\n",
      "\t _build/html/2209.09914.md\n",
      "\t _build/html/2209.09823.md\n",
      "\t _build/html/2209.08242.md\n",
      "\t _build/html/2209.08120.md\n",
      "\t _build/html/2209.08106.md\n",
      "\t _build/html/2209.07962.md\n",
      "\t _build/html/2209.07931.md\n",
      "\t _build/html/2209.06833.md\n",
      "\t _build/html/2209.05814.md\n",
      "\t _build/html/2209.05593.md\n",
      "\t _build/html/2209.04304.md\n",
      "\t _build/html/2209.03367.md\n",
      "\t _build/html/2209.02872.md\n",
      "\t _build/html/2209.02725.md\n",
      "\t _build/html/2209.02722.md\n",
      "\t _build/html/2209.02092.md\n",
      "\t _build/html/2209.01125.md\n",
      "\t _build/html/2209.00828.md\n",
      "\t _build/html/2209.00363.md\n",
      "\t _build/html/2208.14927.md\n",
      "\t _build/html/2208.09335.md\n",
      "\t _build/html/2208.08872.md\n",
      "\t _build/html/2204.06393.md\n",
      "\t _build/html/2204.03335.md\n",
      "\t _build/html/2204.03253.md\n",
      "\t _build/html/2204.02998.md\n",
      "\t _build/html/2204.02109.md\n",
      "\t _build/html/2204.02017.md\n",
      "\t _build/html/2204.01824.md\n",
      "\t _build/html/2204.01758.md\n",
      "\t _build/html/2204.01245.md\n",
      "\t _build/html/2204.00793.md\n",
      "\t _build/html/2204.00342.md\n",
      "\t _build/html/2203.16959.md\n",
      "\t _build/html/2203.16856.md\n",
      "\t _build/html/2203.16735.md\n",
      "\t _build/html/2203.16734.md\n",
      "\t _build/html/2203.16504.md\n",
      "\t _build/html/2203.15822.md\n",
      "\t _build/html/2203.15811.md\n"
     ]
    }
   ],
   "source": [
    "from datetime import datetime, timedelta, timezone\n",
    "from glob import glob\n",
    "\n",
    "files = glob('_build/html/*.md')\n",
    "days = 7\n",
    "now = datetime.today()\n",
    "res = []\n",
    "for fk in files:\n",
    "    stat_result = os.stat(fk).st_ctime\n",
    "    modified = datetime.fromtimestamp(stat_result, tz=timezone.utc).replace(tzinfo=None)\n",
    "    delta = now.today() - modified\n",
    "    if delta <= timedelta(days=days):\n",
    "        res.append((delta.seconds, fk))\n",
    "res = [k[1] for k in reversed(sorted(res, key=lambda x:x[1]))]\n",
    "npub = len(res)\n",
    "print(len(res), f\" publications in the last {days:d} days.\")\n",
    "[ print('\\t', k) for k in res ];"
   ]
  },
  {
   "cell_type": "code",
   "execution_count": 11,
   "id": "015de740",
   "metadata": {
    "execution": {
     "iopub.execute_input": "2023-02-17T04:14:43.008858Z",
     "iopub.status.busy": "2023-02-17T04:14:43.008419Z",
     "iopub.status.idle": "2023-02-17T04:14:43.036802Z",
     "shell.execute_reply": "2023-02-17T04:14:43.035842Z"
    },
    "papermill": {
     "duration": 0.048867,
     "end_time": "2023-02-17T04:14:43.039983",
     "exception": false,
     "start_time": "2023-02-17T04:14:42.991116",
     "status": "completed"
    },
    "tags": []
   },
   "outputs": [
    {
     "name": "stdout",
     "output_type": "stream",
     "text": [
      "10  publications in the last 7 days.\n"
     ]
    }
   ],
   "source": [
    "import datetime\n",
    "from glob import glob\n",
    "\n",
    "def get_last_n_days(lst, days=1):\n",
    "    \"\"\" Get the documents from the last n days \"\"\"\n",
    "    sorted_lst = sorted(lst, key=lambda x: x[1], reverse=True)\n",
    "    for fname, date in sorted_lst:\n",
    "        if date >= str(datetime.date.today() - datetime.timedelta(days=days)):\n",
    "            yield fname\n",
    "\n",
    "def extract_appearance_dates(lst_file):\n",
    "    dates = []\n",
    "\n",
    "    def get_date(line):\n",
    "        return line\\\n",
    "            .split('Appeared on:')[-1]\\\n",
    "            .split('</mark>')[0].strip()\n",
    "\n",
    "    for fname in lst:\n",
    "        with open(fname, 'r') as f:\n",
    "            found_date = False\n",
    "            for line in f:\n",
    "                if not found_date:\n",
    "                    if \"Appeared on\" in line:\n",
    "                        found_date = True\n",
    "                        dates.append((fname, get_date(line)))\n",
    "                else:\n",
    "                    break\n",
    "    return dates\n",
    "\n",
    "from glob import glob\n",
    "lst = glob('_build/html/*md')\n",
    "days = 7\n",
    "dates = extract_appearance_dates(lst)\n",
    "res = list(get_last_n_days(dates, days))\n",
    "npub = len(res)\n",
    "print(len(res), f\" publications in the last {days:d} days.\")"
   ]
  },
  {
   "cell_type": "code",
   "execution_count": 12,
   "id": "52ca0208",
   "metadata": {
    "execution": {
     "iopub.execute_input": "2023-02-17T04:14:43.090669Z",
     "iopub.status.busy": "2023-02-17T04:14:43.090230Z",
     "iopub.status.idle": "2023-02-17T04:14:43.100420Z",
     "shell.execute_reply": "2023-02-17T04:14:43.099521Z"
    },
    "papermill": {
     "duration": 0.030144,
     "end_time": "2023-02-17T04:14:43.102709",
     "exception": false,
     "start_time": "2023-02-17T04:14:43.072565",
     "status": "completed"
    },
    "scrolled": false,
    "tags": []
   },
   "outputs": [],
   "source": [
    "def create_carousel(npub=4):\n",
    "    \"\"\" Generate the HTML code for a carousel with `npub` slides \"\"\"\n",
    "    carousel = [\"\"\"<section class=\"carousel\" aria-label=\"Gallery\">\"\"\",\n",
    "                \"\"\"  <ol class=\"carousel__viewport\">\"\"\",\n",
    "    ]\n",
    "    for k in range(1, npub + 1):\n",
    "        prev_ = k - 1\n",
    "        next_ = k + 1\n",
    "        if prev_ <= 0:\n",
    "            prev_ = npub\n",
    "        if next_ > npub:\n",
    "            next_ = 1\n",
    "        text  = f\"\"\"    <li id=\"carousel__slide{k}\" tabindex=\"0\" class=\"carousel__slide\">\\n\"\"\"\n",
    "        text += f\"\"\"       <div class=\"carousel__snapper\">\\n\"\"\"\n",
    "        text += f\"\"\"         <a href=\"#carousel__slide{prev_}\" class=\"carousel__prev\">Go to previous slide</a>\\n\"\"\"\n",
    "        text += f\"\"\"         <a href=\"#carousel__slide{next_}\" class=\"carousel__next\">Go to next slide</a>\\n\"\"\"\n",
    "        text += f\"\"\"         <div id=\"slide{k}_content\" class=\"md_view\" >Content {k}</div>\\n\"\"\"\n",
    "        text += f\"\"\"       </div>\\n\"\"\"\n",
    "        text += f\"\"\"    </li>\"\"\"\n",
    "        carousel.append(text)\n",
    "\n",
    "    carousel.extend([\n",
    "        \"\"\"  </ol>\"\"\",\n",
    "        \"\"\"  <aside class=\"carousel__navigation\">\"\"\",\n",
    "        \"\"\"    <ol class=\"carousel__navigation-list\">\"\"\"])\n",
    "\n",
    "    for k in range(1, npub + 1):\n",
    "        text  = f\"\"\"      <li class=\"carousel__navigation-item\">\\n\"\"\"\n",
    "        text += f\"\"\"        <a href=\"#carousel__slide{k}\" class=\"carousel__navigation-button\">Go to {k}</a>\\n\"\"\"\n",
    "        text += f\"\"\"      </li>\"\"\"\n",
    "        carousel.append(text)\n",
    "    carousel.extend([\"\"\"    </ol>\"\"\", \"\"\"  </aside>\"\"\", \"\"\"</section>\"\"\"])\n",
    "\n",
    "    return '\\n'.join(carousel)"
   ]
  },
  {
   "cell_type": "code",
   "execution_count": 13,
   "id": "a6eac5b6",
   "metadata": {
    "execution": {
     "iopub.execute_input": "2023-02-17T04:14:43.137613Z",
     "iopub.status.busy": "2023-02-17T04:14:43.136462Z",
     "iopub.status.idle": "2023-02-17T04:14:43.144528Z",
     "shell.execute_reply": "2023-02-17T04:14:43.143769Z"
    },
    "papermill": {
     "duration": 0.027886,
     "end_time": "2023-02-17T04:14:43.146317",
     "exception": false,
     "start_time": "2023-02-17T04:14:43.118431",
     "status": "completed"
    },
    "scrolled": false,
    "tags": []
   },
   "outputs": [],
   "source": [
    "carousel = create_carousel(npub)\n",
    "docs = ', '.join(['\"{0:s}\"'.format(k.split('/')[-1]) for k in res])\n",
    "slides = ', '.join([f'\"slide{k}_content\"' for k in range(1, npub + 1)])\n",
    "\n",
    "script = f\"\"\"\n",
    "const docs = [{docs}]\n",
    "\n",
    "const slides = [{slides}]\n",
    "\"\"\" + \"\"\"\n",
    "async function run() {\n",
    "    for (let i = 0; i < docs.length; i++) {\n",
    "        let file = await fetch(docs[i]);\n",
    "        let text = await file.text()\n",
    "        document.getElementById(slides[i]).innerHTML =\n",
    "            marked.parse(text);\n",
    "    }\n",
    "    hljs.highlightAll();\n",
    "}\n",
    "run()\n",
    "\"\"\"\n",
    "\n",
    "page = f\"\"\"<!doctype html>\n",
    "<html lang=\"en\">\n",
    "\n",
    "<head>\n",
    "  <meta charset=\"utf-8\">\n",
    "  <meta name=\"viewport\" content=\"width=device-width, initial-scale=1\">\n",
    "  <!-- Bootstrap CSS -->\n",
    "  <link href=\"https://cdn.jsdelivr.net/npm/bootstrap@5.0.2/dist/css/bootstrap.min.css\" rel=\"stylesheet\"\n",
    "   integrity=\"sha384-EVSTQN3/azprG1Anm3QDgpJLIm9Nao0Yz1ztcQTwFspd3yD65VohhpuuCOmLASjC\" crossorigin=\"anonymous\">\n",
    "  <!-- highlight.js CSS -->\n",
    "  <link rel=\"stylesheet\" href=\"https://cdnjs.cloudflare.com/ajax/libs/highlight.js/11.1.0/styles/default.min.css\">\n",
    "  <!-- Mathjax 3 -->\n",
    "  <script type=\"text/javascript\" id=\"MathJax-config\" src=\"mathjax_config.js\"> </script>\n",
    "  <script type=\"text/javascript\" id=\"MathJax-script\" async \n",
    "    src=\"https://cdn.jsdelivr.net/npm/mathjax@3/es5/tex-mml-chtml.js\">\n",
    "  </script>\n",
    "  <link rel=\"stylesheet\" href=\"index_carousel.css\">\n",
    "  <link rel=\"icon\" type=\"image/x-icon\" href=\"https://www.mpia.de/assets/touch-icon-32x32-a66937bcebc4e8894ebff1f41a366c7c7220fd97a38869ee0f2db65a9f59b6c1.png\">\n",
    "  <title>MPIA Arxiv on deck!</title>\n",
    "</head>\n",
    "\n",
    "<body>\n",
    "  <div id=\"header\"> <img src=\"header_banner.png\" width=\"100%\"></div>\n",
    "  <div id=\"suptitle\"> 7-day archives </div>\n",
    "  <div id=\"info\">\n",
    "    <img src=\"https://pngimg.com/uploads/github/github_PNG58.png\" height=30rem></img>\n",
    "    <a href=https://github.com/mpi-astronomy/arxiv_display style=\"color:black;\">github/mpi-astronomy/arxiv_display</a> \n",
    "  </div>\n",
    "  {carousel:s}\n",
    "</body>\n",
    "\n",
    "<!-- Render Markdown -->\n",
    "\n",
    "<body>\n",
    "  <!-- highlight.js: https://highlightjs.org/download/ -->\n",
    "  <script src=\"https://cdnjs.cloudflare.com/ajax/libs/highlight.js/11.5.0/highlight.min.js\"></script>\n",
    "  <!-- marked.js -->\n",
    "  <script src=\"https://cdn.jsdelivr.net/npm/marked/marked.min.js\"></script>\n",
    "  <script>{script:s}</script>\n",
    "</body>\n",
    "</html>\n",
    "\"\"\"\n",
    "with open(\"_build/html/index_7days.html\", 'w') as fout:\n",
    "    fout.write(page)"
   ]
  },
  {
   "cell_type": "markdown",
   "id": "1cebacbc",
   "metadata": {
    "papermill": {
     "duration": 0.015708,
     "end_time": "2023-02-17T04:14:43.177539",
     "exception": false,
     "start_time": "2023-02-17T04:14:43.161831",
     "status": "completed"
    },
    "tags": []
   },
   "source": [
    "# Debugging papers"
   ]
  },
  {
   "cell_type": "raw",
   "id": "debe7cc6",
   "metadata": {
    "papermill": {
     "duration": 0.015865,
     "end_time": "2023-02-17T04:14:43.209156",
     "exception": false,
     "start_time": "2023-02-17T04:14:43.193291",
     "status": "completed"
    },
    "tags": []
   },
   "source": [
    "raise NotImplementedError(\"Manual Stop\")"
   ]
  },
  {
   "cell_type": "raw",
   "id": "eb169192",
   "metadata": {
    "papermill": {
     "duration": 0.015754,
     "end_time": "2023-02-17T04:14:43.240474",
     "exception": false,
     "start_time": "2023-02-17T04:14:43.224720",
     "status": "completed"
    },
    "scrolled": true,
    "tags": []
   },
   "source": [
    "from IPython.display import display, Markdown\n",
    "from TexSoup import TexSoup\n",
    "import re\n",
    "\n",
    "def bracket_error(source: str):\n",
    "    \"\"\" Find problematic portions of the document \"\"\"\n",
    "    \n",
    "    print(\"len(source)\", len(source))\n",
    "    \n",
    "    # Checking header\n",
    "    begin_doc = next(re.finditer(r'\\\\begin\\{document\\}', doc.source)).span()[1]\n",
    "    header = source[:begin_doc]\n",
    "    text = header + r\"\\n\\end{document}\"\n",
    "\n",
    "    try:\n",
    "        # print(\"Header check... \", end='')\n",
    "        TexSoup(text)\n",
    "        display(Markdown(f\"**[OK]** - Header\"))\n",
    "    except:\n",
    "        raise RuntimeError(\"Error in the header\")\n",
    "        \n",
    "    # Check the text per section until the end.\n",
    "    # Do not stop and try them all.\n",
    "    \n",
    "    problematic_text = []\n",
    "    \n",
    "    sections = ([(0, begin_doc, 'until first section')] + \n",
    "                [(g.span()[0], g.span()[1], g.group()) for g in re.finditer(r'\\\\section\\{.*\\}', source)] +\n",
    "                [(g.span()[0], g.span()[1], g.group()) for g in re.finditer(r'\\\\begin\\{appendix\\}', source)]\n",
    "               )\n",
    "    sections.append([len(source), len(source), 'end'])\n",
    "    \n",
    "    sections = sorted(sections, key=lambda x: x[0])\n",
    "    \n",
    "    prev_pos, prev_name = (0, 'header')\n",
    "    parsed = []\n",
    "    \n",
    "    for span, span_end, name in sections:\n",
    "\n",
    "        if span - prev_pos <= 0:\n",
    "            continue\n",
    "            \n",
    "\n",
    "        text = source[prev_pos:span]\n",
    "        if prev_pos > begin_doc:\n",
    "            text = r\"\\n\\begin{document}\" + text + r\"\\n\\end{document}\"\n",
    "        else:\n",
    "            text = text + r\"\\n\\end{document}\"\n",
    "        try:\n",
    "            #print(f\"{prev_pos}:{prev_name}-->{span}:{name} check... \", end='')\n",
    "            parsed.append(TexSoup(text, tolerance=1))  # allow not ending env\n",
    "            display(Markdown(f\"**[OK]** - *{prev_pos}*:{prev_name} &rarr; *{span}*:{name}\"))\n",
    "            # print(\"ok\")\n",
    "\n",
    "            prev_pos = span\n",
    "            prev_name = name\n",
    "        except:\n",
    "            # print(f\"error between {prev_pos} and {span}\")\n",
    "            display(Markdown(f\"**[ERR]** *{prev_pos}*:{prev_name} &rarr; *{span}*:{name}\"))\n",
    "            problematic_text.append((prev_pos, source[prev_pos:span]))\n",
    "            prev_pos = span\n",
    "            prev_name = name\n",
    "            # raise\n",
    "    return problematic_text, parsed\n",
    "\n",
    "\n",
    "def check_environment(text, offset=0):\n",
    "    \"\"\" Check environment \"\"\"\n",
    "    env = re.compile(r\"\\\\begin\\{(?P<env>.*)\\}(.*)\\\\end\\{(?P=env)\\}\", re.DOTALL)\n",
    "\n",
    "    for match in env.finditer(text):\n",
    "        beg, end = match.span()\n",
    "        beg += offset\n",
    "        end += offset\n",
    "        envname = match.groups()[0]\n",
    "        try:\n",
    "            latex.TexSoup(match.group())\n",
    "        except Exception as e:\n",
    "            display(e)\n",
    "            print(f\"Error in {envname:s} between {beg} and {end}\")\n",
    "            return match.groups()[1], beg, end"
   ]
  },
  {
   "cell_type": "raw",
   "id": "2315e835",
   "metadata": {
    "papermill": {
     "duration": 0.015863,
     "end_time": "2023-02-17T04:14:43.273464",
     "exception": false,
     "start_time": "2023-02-17T04:14:43.257601",
     "status": "completed"
    },
    "scrolled": false,
    "tags": []
   },
   "source": [
    "import importlib\n",
    "importlib.reload(latex)\n",
    "which = \"2204.03253\"\n",
    "paper_id = f'{which:s}'\n",
    "folder = f'tmp_{paper_id:s}'\n",
    "\n",
    "if not os.path.isdir(folder):\n",
    "    folder = retrieve_document_source(f\"{paper_id}\", f'tmp_{paper_id}')\n",
    "\n",
    "try:\n",
    "    doc = latex.LatexDocument(folder, validation=validation)    \n",
    "except AffiliationError as affilerror:\n",
    "    msg = f\"ArXiv:{paper_id:s} is not an MPIA paper... \" + str(affilerror)\n",
    "    print(msg)\n",
    "\n",
    "\n",
    "# Hack because sometimes author parsing does not work well\n",
    "if (len(doc.authors) != len(paper['authors'])):\n",
    "    doc._authors = paper['authors']\n",
    "if (doc.abstract) in (None, ''):\n",
    "    doc._abstract = paper['abstract']\n",
    "\n",
    "doc.comment = get_markdown_badge(paper_id) + \" _\" + paper['comments'] + \"_\"\n",
    "doc.highlight_authors_in_list(hl_list)\n",
    "\n",
    "full_md = doc.generate_markdown_text()"
   ]
  },
  {
   "cell_type": "raw",
   "id": "dd3781db",
   "metadata": {
    "papermill": {
     "duration": 0.015599,
     "end_time": "2023-02-17T04:14:43.304529",
     "exception": false,
     "start_time": "2023-02-17T04:14:43.288930",
     "status": "completed"
    },
    "scrolled": false,
    "tags": []
   },
   "source": [
    "doc"
   ]
  },
  {
   "cell_type": "raw",
   "id": "c6eed834",
   "metadata": {
    "papermill": {
     "duration": 0.015548,
     "end_time": "2023-02-17T04:14:43.336072",
     "exception": false,
     "start_time": "2023-02-17T04:14:43.320524",
     "status": "completed"
    },
    "tags": []
   },
   "source": [
    "# [check_environment(k) for k in bracket_error(doc.source)]\n",
    "_, _, a = latex.get_content_per_section(doc.source, verbose=True)\n",
    "if not a:\n",
    "    print(\"no issues per section\")\n",
    "for ak in a:\n",
    "    r = check_environment(ak[1], offset=ak[0])\n",
    "    print(r[1], r[2])\n",
    "    print(r[0])"
   ]
  },
  {
   "cell_type": "code",
   "execution_count": null,
   "id": "71ce768a",
   "metadata": {
    "papermill": {
     "duration": 0.015632,
     "end_time": "2023-02-17T04:14:43.367282",
     "exception": false,
     "start_time": "2023-02-17T04:14:43.351650",
     "status": "completed"
    },
    "tags": []
   },
   "outputs": [],
   "source": []
  }
 ],
 "metadata": {
  "kernelspec": {
   "display_name": "Python 3",
   "language": "python",
   "name": "python3"
  },
  "language_info": {
   "codemirror_mode": {
    "name": "ipython",
    "version": 3
   },
   "file_extension": ".py",
   "mimetype": "text/x-python",
   "name": "python",
   "nbconvert_exporter": "python",
   "pygments_lexer": "ipython3",
   "version": "3.9.16"
  },
  "papermill": {
   "default_parameters": {},
   "duration": 410.087683,
   "end_time": "2023-02-17T04:14:43.906005",
   "environment_variables": {},
   "exception": null,
   "input_path": "MPIA daily digest.ipynb",
   "output_path": "log.ipynb",
   "parameters": {},
   "start_time": "2023-02-17T04:07:53.818322",
   "version": "2.4.0"
  },
  "vscode": {
   "interpreter": {
    "hash": "aee8b7b246df8f9039afb4144a1f6fd8d2ca17a180786b69acc140d282b71a49"
   }
  },
  "widgets": {
   "application/vnd.jupyter.widget-state+json": {
    "state": {
     "377346a24795412c82132c539ad6bd8c": {
      "model_module": "@jupyter-widgets/controls",
      "model_module_version": "2.0.0",
      "model_name": "HBoxModel",
      "state": {
       "_dom_classes": [],
       "_model_module": "@jupyter-widgets/controls",
       "_model_module_version": "2.0.0",
       "_model_name": "HBoxModel",
       "_view_count": null,
       "_view_module": "@jupyter-widgets/controls",
       "_view_module_version": "2.0.0",
       "_view_name": "HBoxView",
       "box_style": "",
       "children": [
        "IPY_MODEL_b3dfcb9044a54a2392f7f8933cc082a6",
        "IPY_MODEL_f9d0fa3c74684e73a5bf6b0dee229ad3",
        "IPY_MODEL_fbd57b3ae6b64d8ea76e3d25bd6bbbec"
       ],
       "layout": "IPY_MODEL_5f40fadbf4504100a24fd303d553ea4b",
       "tabbable": null,
       "tooltip": null
      }
     },
     "4790643367e445d2acfddf1bfb6fe170": {
      "model_module": "@jupyter-widgets/base",
      "model_module_version": "2.0.0",
      "model_name": "LayoutModel",
      "state": {
       "_model_module": "@jupyter-widgets/base",
       "_model_module_version": "2.0.0",
       "_model_name": "LayoutModel",
       "_view_count": null,
       "_view_module": "@jupyter-widgets/base",
       "_view_module_version": "2.0.0",
       "_view_name": "LayoutView",
       "align_content": null,
       "align_items": null,
       "align_self": null,
       "border_bottom": null,
       "border_left": null,
       "border_right": null,
       "border_top": null,
       "bottom": null,
       "display": null,
       "flex": null,
       "flex_flow": null,
       "grid_area": null,
       "grid_auto_columns": null,
       "grid_auto_flow": null,
       "grid_auto_rows": null,
       "grid_column": null,
       "grid_gap": null,
       "grid_row": null,
       "grid_template_areas": null,
       "grid_template_columns": null,
       "grid_template_rows": null,
       "height": null,
       "justify_content": null,
       "justify_items": null,
       "left": null,
       "margin": null,
       "max_height": null,
       "max_width": null,
       "min_height": null,
       "min_width": null,
       "object_fit": null,
       "object_position": null,
       "order": null,
       "overflow": null,
       "padding": null,
       "right": null,
       "top": null,
       "visibility": null,
       "width": null
      }
     },
     "5f40fadbf4504100a24fd303d553ea4b": {
      "model_module": "@jupyter-widgets/base",
      "model_module_version": "2.0.0",
      "model_name": "LayoutModel",
      "state": {
       "_model_module": "@jupyter-widgets/base",
       "_model_module_version": "2.0.0",
       "_model_name": "LayoutModel",
       "_view_count": null,
       "_view_module": "@jupyter-widgets/base",
       "_view_module_version": "2.0.0",
       "_view_name": "LayoutView",
       "align_content": null,
       "align_items": null,
       "align_self": null,
       "border_bottom": null,
       "border_left": null,
       "border_right": null,
       "border_top": null,
       "bottom": null,
       "display": null,
       "flex": null,
       "flex_flow": null,
       "grid_area": null,
       "grid_auto_columns": null,
       "grid_auto_flow": null,
       "grid_auto_rows": null,
       "grid_column": null,
       "grid_gap": null,
       "grid_row": null,
       "grid_template_areas": null,
       "grid_template_columns": null,
       "grid_template_rows": null,
       "height": null,
       "justify_content": null,
       "justify_items": null,
       "left": null,
       "margin": null,
       "max_height": null,
       "max_width": null,
       "min_height": null,
       "min_width": null,
       "object_fit": null,
       "object_position": null,
       "order": null,
       "overflow": null,
       "padding": null,
       "right": null,
       "top": null,
       "visibility": null,
       "width": null
      }
     },
     "62f02189c6bc4ca490dbba87ea31af20": {
      "model_module": "@jupyter-widgets/controls",
      "model_module_version": "2.0.0",
      "model_name": "HTMLStyleModel",
      "state": {
       "_model_module": "@jupyter-widgets/controls",
       "_model_module_version": "2.0.0",
       "_model_name": "HTMLStyleModel",
       "_view_count": null,
       "_view_module": "@jupyter-widgets/base",
       "_view_module_version": "2.0.0",
       "_view_name": "StyleView",
       "background": null,
       "description_width": "",
       "font_size": null,
       "text_color": null
      }
     },
     "7124b7f8f8884ae7ba9158c4251451cd": {
      "model_module": "@jupyter-widgets/base",
      "model_module_version": "2.0.0",
      "model_name": "LayoutModel",
      "state": {
       "_model_module": "@jupyter-widgets/base",
       "_model_module_version": "2.0.0",
       "_model_name": "LayoutModel",
       "_view_count": null,
       "_view_module": "@jupyter-widgets/base",
       "_view_module_version": "2.0.0",
       "_view_name": "LayoutView",
       "align_content": null,
       "align_items": null,
       "align_self": null,
       "border_bottom": null,
       "border_left": null,
       "border_right": null,
       "border_top": null,
       "bottom": null,
       "display": null,
       "flex": null,
       "flex_flow": null,
       "grid_area": null,
       "grid_auto_columns": null,
       "grid_auto_flow": null,
       "grid_auto_rows": null,
       "grid_column": null,
       "grid_gap": null,
       "grid_row": null,
       "grid_template_areas": null,
       "grid_template_columns": null,
       "grid_template_rows": null,
       "height": null,
       "justify_content": null,
       "justify_items": null,
       "left": null,
       "margin": null,
       "max_height": null,
       "max_width": null,
       "min_height": null,
       "min_width": null,
       "object_fit": null,
       "object_position": null,
       "order": null,
       "overflow": null,
       "padding": null,
       "right": null,
       "top": null,
       "visibility": null,
       "width": null
      }
     },
     "a0c10ffdb21a4fac831a91307ef30481": {
      "model_module": "@jupyter-widgets/controls",
      "model_module_version": "2.0.0",
      "model_name": "HTMLStyleModel",
      "state": {
       "_model_module": "@jupyter-widgets/controls",
       "_model_module_version": "2.0.0",
       "_model_name": "HTMLStyleModel",
       "_view_count": null,
       "_view_module": "@jupyter-widgets/base",
       "_view_module_version": "2.0.0",
       "_view_name": "StyleView",
       "background": null,
       "description_width": "",
       "font_size": null,
       "text_color": null
      }
     },
     "b3dfcb9044a54a2392f7f8933cc082a6": {
      "model_module": "@jupyter-widgets/controls",
      "model_module_version": "2.0.0",
      "model_name": "HTMLModel",
      "state": {
       "_dom_classes": [],
       "_model_module": "@jupyter-widgets/controls",
       "_model_module_version": "2.0.0",
       "_model_name": "HTMLModel",
       "_view_count": null,
       "_view_module": "@jupyter-widgets/controls",
       "_view_module_version": "2.0.0",
       "_view_name": "HTMLView",
       "description": "",
       "description_allow_html": false,
       "layout": "IPY_MODEL_7124b7f8f8884ae7ba9158c4251451cd",
       "placeholder": "​",
       "style": "IPY_MODEL_62f02189c6bc4ca490dbba87ea31af20",
       "tabbable": null,
       "tooltip": null,
       "value": "100%"
      }
     },
     "c4d9e634b2704b87a7cd9809e31fe0cb": {
      "model_module": "@jupyter-widgets/controls",
      "model_module_version": "2.0.0",
      "model_name": "ProgressStyleModel",
      "state": {
       "_model_module": "@jupyter-widgets/controls",
       "_model_module_version": "2.0.0",
       "_model_name": "ProgressStyleModel",
       "_view_count": null,
       "_view_module": "@jupyter-widgets/base",
       "_view_module_version": "2.0.0",
       "_view_name": "StyleView",
       "bar_color": null,
       "description_width": ""
      }
     },
     "f46069cd72b34fa2970a9693c9bd32d2": {
      "model_module": "@jupyter-widgets/base",
      "model_module_version": "2.0.0",
      "model_name": "LayoutModel",
      "state": {
       "_model_module": "@jupyter-widgets/base",
       "_model_module_version": "2.0.0",
       "_model_name": "LayoutModel",
       "_view_count": null,
       "_view_module": "@jupyter-widgets/base",
       "_view_module_version": "2.0.0",
       "_view_name": "LayoutView",
       "align_content": null,
       "align_items": null,
       "align_self": null,
       "border_bottom": null,
       "border_left": null,
       "border_right": null,
       "border_top": null,
       "bottom": null,
       "display": null,
       "flex": null,
       "flex_flow": null,
       "grid_area": null,
       "grid_auto_columns": null,
       "grid_auto_flow": null,
       "grid_auto_rows": null,
       "grid_column": null,
       "grid_gap": null,
       "grid_row": null,
       "grid_template_areas": null,
       "grid_template_columns": null,
       "grid_template_rows": null,
       "height": null,
       "justify_content": null,
       "justify_items": null,
       "left": null,
       "margin": null,
       "max_height": null,
       "max_width": null,
       "min_height": null,
       "min_width": null,
       "object_fit": null,
       "object_position": null,
       "order": null,
       "overflow": null,
       "padding": null,
       "right": null,
       "top": null,
       "visibility": null,
       "width": null
      }
     },
     "f9d0fa3c74684e73a5bf6b0dee229ad3": {
      "model_module": "@jupyter-widgets/controls",
      "model_module_version": "2.0.0",
      "model_name": "FloatProgressModel",
      "state": {
       "_dom_classes": [],
       "_model_module": "@jupyter-widgets/controls",
       "_model_module_version": "2.0.0",
       "_model_name": "FloatProgressModel",
       "_view_count": null,
       "_view_module": "@jupyter-widgets/controls",
       "_view_module_version": "2.0.0",
       "_view_name": "ProgressView",
       "bar_style": "success",
       "description": "",
       "description_allow_html": false,
       "layout": "IPY_MODEL_4790643367e445d2acfddf1bfb6fe170",
       "max": 26.0,
       "min": 0.0,
       "orientation": "horizontal",
       "style": "IPY_MODEL_c4d9e634b2704b87a7cd9809e31fe0cb",
       "tabbable": null,
       "tooltip": null,
       "value": 26.0
      }
     },
     "fbd57b3ae6b64d8ea76e3d25bd6bbbec": {
      "model_module": "@jupyter-widgets/controls",
      "model_module_version": "2.0.0",
      "model_name": "HTMLModel",
      "state": {
       "_dom_classes": [],
       "_model_module": "@jupyter-widgets/controls",
       "_model_module_version": "2.0.0",
       "_model_name": "HTMLModel",
       "_view_count": null,
       "_view_module": "@jupyter-widgets/controls",
       "_view_module_version": "2.0.0",
       "_view_name": "HTMLView",
       "description": "",
       "description_allow_html": false,
       "layout": "IPY_MODEL_f46069cd72b34fa2970a9693c9bd32d2",
       "placeholder": "​",
       "style": "IPY_MODEL_a0c10ffdb21a4fac831a91307ef30481",
       "tabbable": null,
       "tooltip": null,
       "value": " 26/26 [06:14&lt;00:00,  2.88s/it]"
      }
     }
    },
    "version_major": 2,
    "version_minor": 0
   }
  }
 },
 "nbformat": 4,
 "nbformat_minor": 5
}