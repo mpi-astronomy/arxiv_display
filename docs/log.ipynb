{
 "cells": [
  {
   "cell_type": "markdown",
   "id": "92bcb855",
   "metadata": {
    "papermill": {
     "duration": 0.00755,
     "end_time": "2023-08-31T04:05:00.578783",
     "exception": false,
     "start_time": "2023-08-31T04:05:00.571233",
     "status": "completed"
    },
    "tags": []
   },
   "source": [
    "# MPIA Arxiv on Deck 2\n",
    "\n",
    "Contains the steps to produce the paper extractions."
   ]
  },
  {
   "cell_type": "code",
   "execution_count": 1,
   "id": "3a0d6e11",
   "metadata": {
    "execution": {
     "iopub.execute_input": "2023-08-31T04:05:00.589899Z",
     "iopub.status.busy": "2023-08-31T04:05:00.589043Z",
     "iopub.status.idle": "2023-08-31T04:05:00.880512Z",
     "shell.execute_reply": "2023-08-31T04:05:00.879683Z"
    },
    "papermill": {
     "duration": 0.299227,
     "end_time": "2023-08-31T04:05:00.882817",
     "exception": false,
     "start_time": "2023-08-31T04:05:00.583590",
     "status": "completed"
    },
    "tags": []
   },
   "outputs": [],
   "source": [
    "# Imports\n",
    "import os\n",
    "from IPython.display import Markdown, display\n",
    "from tqdm.notebook import tqdm\n",
    "import warnings\n",
    "from PIL import Image \n",
    "\n",
    "# requires arxiv_on_deck_2\n",
    "\n",
    "from arxiv_on_deck_2.arxiv2 import (get_new_papers, \n",
    "                                    get_paper_from_identifier,\n",
    "                                    retrieve_document_source, \n",
    "                                    get_markdown_badge)\n",
    "from arxiv_on_deck_2 import (latex,\n",
    "                             latex_bib,\n",
    "                             mpia,\n",
    "                             highlight_authors_in_list)\n",
    "\n",
    "# Sometimes images are really big\n",
    "Image.MAX_IMAGE_PIXELS = 1000000000 "
   ]
  },
  {
   "cell_type": "code",
   "execution_count": 2,
   "id": "22aa9d44",
   "metadata": {
    "execution": {
     "iopub.execute_input": "2023-08-31T04:05:00.894199Z",
     "iopub.status.busy": "2023-08-31T04:05:00.893418Z",
     "iopub.status.idle": "2023-08-31T04:05:00.901432Z",
     "shell.execute_reply": "2023-08-31T04:05:00.900594Z"
    },
    "papermill": {
     "duration": 0.016403,
     "end_time": "2023-08-31T04:05:00.903768",
     "exception": false,
     "start_time": "2023-08-31T04:05:00.887365",
     "status": "completed"
    },
    "tags": []
   },
   "outputs": [],
   "source": [
    "# Some useful definitions.\n",
    "\n",
    "class AffiliationWarning(UserWarning):\n",
    "    pass\n",
    "\n",
    "class AffiliationError(RuntimeError):\n",
    "    pass\n",
    "\n",
    "def validation(source: str):\n",
    "    \"\"\"Raises error paper during parsing of source file\n",
    "    \n",
    "    Allows checks before parsing TeX code.\n",
    "    \n",
    "    Raises AffiliationWarning\n",
    "    \"\"\"\n",
    "    check = mpia.affiliation_verifications(source, verbose=True)\n",
    "    if check is not True:\n",
    "        raise AffiliationError(\"mpia.affiliation_verifications: \" + check)\n",
    "\n",
    "        \n",
    "warnings.simplefilter('always', AffiliationWarning)\n",
    "\n",
    "\n",
    "def get_markdown_qrcode(paper_id: str):\n",
    "    \"\"\" Generate a qrcode to the arxiv page using qrserver.com\n",
    "    \n",
    "    :param paper: Arxiv paper\n",
    "    :returns: markdown text\n",
    "    \"\"\"\n",
    "    url = r\"https://api.qrserver.com/v1/create-qr-code/?size=100x100&data=\"\n",
    "    txt = f\"\"\"<img src={url}\"https://arxiv.org/abs/{paper_id}\">\"\"\"\n",
    "    txt = '<div id=\"qrcode\">' + txt + '</div>'\n",
    "    return txt"
   ]
  },
  {
   "cell_type": "markdown",
   "id": "14bd6310",
   "metadata": {
    "papermill": {
     "duration": 0.004075,
     "end_time": "2023-08-31T04:05:00.912041",
     "exception": false,
     "start_time": "2023-08-31T04:05:00.907966",
     "status": "completed"
    },
    "tags": []
   },
   "source": [
    "## get list of arxiv paper candidates\n",
    "\n",
    "We use the MPIA mitarbeiter list webpage from mpia.de to get author names\n",
    "We then get all new papers from Arxiv and match authors"
   ]
  },
  {
   "cell_type": "code",
   "execution_count": 3,
   "id": "2645e73a",
   "metadata": {
    "execution": {
     "iopub.execute_input": "2023-08-31T04:05:00.923870Z",
     "iopub.status.busy": "2023-08-31T04:05:00.923110Z",
     "iopub.status.idle": "2023-08-31T04:05:27.689832Z",
     "shell.execute_reply": "2023-08-31T04:05:27.688926Z"
    },
    "papermill": {
     "duration": 26.774098,
     "end_time": "2023-08-31T04:05:27.691876",
     "exception": false,
     "start_time": "2023-08-31T04:05:00.917778",
     "status": "completed"
    },
    "tags": []
   },
   "outputs": [
    {
     "name": "stdout",
     "output_type": "stream",
     "text": [
      "M. Bergemann  ->  M. Bergemann  |  ['M. Bergemann']\n",
      "P. Eitner  ->  P. Eitner  |  ['P. Eitner']\n",
      "S. Rezaei  ->  S. Rezaei Kh.  |  ['S. Rezaei']\n"
     ]
    },
    {
     "name": "stdout",
     "output_type": "stream",
     "text": [
      "X. Zhang  ->  X. Zhang  |  ['X. Zhang']\n",
      "X. Zhang  ->  X. Zhang  |  ['X. Zhang']\n",
      "X. Zhang  ->  X. Zhang  |  ['X. Zhang']\n",
      "Arxiv has 68 new papers today\n",
      "          5 with possible author matches\n"
     ]
    }
   ],
   "source": [
    "# get list from MPIA website\n",
    "# it automatically filters identified non-scientists :func:`mpia.filter_non_scientists`\n",
    "mpia_authors = mpia.get_mpia_mitarbeiter_list()\n",
    "normed_mpia_authors = [k[1] for k in mpia_authors]   # initials + fullname\n",
    "new_papers = get_new_papers()\n",
    "# add manual references\n",
    "add_paper_refs = []\n",
    "new_papers.extend([get_paper_from_identifier(k) for k in add_paper_refs])\n",
    "\n",
    "candidates = []\n",
    "for paperk in new_papers:\n",
    "    # Check author list with their initials\n",
    "    normed_author_list = [mpia.get_initials(k) for k in paperk['authors']]\n",
    "    hl_authors = highlight_authors_in_list(normed_author_list, normed_mpia_authors, verbose=True)\n",
    "    matches = [(hl, orig) for hl, orig in zip(hl_authors, paperk['authors']) if 'mark' in hl]\n",
    "    paperk['authors'] = hl_authors\n",
    "    if matches:\n",
    "        # only select paper if an author matched our list\n",
    "        candidates.append(paperk)\n",
    "print(\"\"\"Arxiv has {0:,d} new papers today\"\"\".format(len(new_papers)))        \n",
    "print(\"\"\"          {0:,d} with possible author matches\"\"\".format(len(candidates)))"
   ]
  },
  {
   "cell_type": "markdown",
   "id": "3543b34a",
   "metadata": {
    "papermill": {
     "duration": 0.00447,
     "end_time": "2023-08-31T04:05:27.701109",
     "exception": false,
     "start_time": "2023-08-31T04:05:27.696639",
     "status": "completed"
    },
    "tags": []
   },
   "source": [
    "# Parse sources and generate relevant outputs\n",
    "\n",
    "From the candidates, we do the following steps:\n",
    "* get their tarball from ArXiv (and extract data)\n",
    "* find the main .tex file: find one with \\documentclass{...} (sometimes it's non trivial)\n",
    "* Check affiliations with :func:`validation`, which uses :func:`mpia.affiliation_verifications`\n",
    "* If passing the affiliations: we parse the .tex source\n",
    "   * inject sub-documents into the main (flatten the main document)\n",
    "   * parse structure, extract information (title, abstract, authors, figures...)\n",
    "   * handles `\\graphicspath` if provided\n",
    "* Generate the .md document."
   ]
  },
  {
   "cell_type": "code",
   "execution_count": 4,
   "id": "9576b79e",
   "metadata": {
    "execution": {
     "iopub.execute_input": "2023-08-31T04:05:27.712357Z",
     "iopub.status.busy": "2023-08-31T04:05:27.711944Z",
     "iopub.status.idle": "2023-08-31T04:06:41.677327Z",
     "shell.execute_reply": "2023-08-31T04:06:41.676547Z"
    },
    "papermill": {
     "duration": 73.974793,
     "end_time": "2023-08-31T04:06:41.680233",
     "exception": false,
     "start_time": "2023-08-31T04:05:27.705440",
     "status": "completed"
    },
    "scrolled": false,
    "tags": []
   },
   "outputs": [
    {
     "data": {
      "application/vnd.jupyter.widget-view+json": {
       "model_id": "402c6c16cbd04f9bb8f4dcb0aea849e7",
       "version_major": 2,
       "version_minor": 0
      },
      "text/plain": [
       "  0%|          | 0/5 [00:00<?, ?it/s]"
      ]
     },
     "metadata": {},
     "output_type": "display_data"
    },
    {
     "name": "stdout",
     "output_type": "stream",
     "text": [
      "Retrieving document from  https://arxiv.org/e-print/2308.15504\n"
     ]
    },
    {
     "name": "stdout",
     "output_type": "stream",
     "text": [
      "extracting tarball to tmp_2308.15504..."
     ]
    },
    {
     "name": "stdout",
     "output_type": "stream",
     "text": [
      " done.\n"
     ]
    },
    {
     "name": "stdout",
     "output_type": "stream",
     "text": [
      "M. Bergemann  ->  M. Bergemann  |  ['M. Bergemann']\n",
      "P. Eitner  ->  P. Eitner  |  ['P. Eitner']\n"
     ]
    },
    {
     "name": "stdout",
     "output_type": "stream",
     "text": [
      "Found 159 bibliographic references in tmp_2308.15504/planet_formation_throughout_the_milky_way.bbl.\n",
      "Retrieving document from  https://arxiv.org/e-print/2308.15859\n"
     ]
    },
    {
     "name": "stdout",
     "output_type": "stream",
     "text": [
      "extracting tarball to tmp_2308.15859..."
     ]
    },
    {
     "name": "stdout",
     "output_type": "stream",
     "text": [
      " done.\n",
      "Retrieving document from  https://arxiv.org/e-print/2308.16155\n"
     ]
    },
    {
     "name": "stdout",
     "output_type": "stream",
     "text": [
      "extracting tarball to tmp_2308.16155..."
     ]
    },
    {
     "name": "stdout",
     "output_type": "stream",
     "text": [
      " done.\n",
      "Retrieving document from  https://arxiv.org/e-print/2308.16156\n"
     ]
    },
    {
     "name": "stdout",
     "output_type": "stream",
     "text": [
      "extracting tarball to tmp_2308.16156..."
     ]
    },
    {
     "name": "stdout",
     "output_type": "stream",
     "text": [
      " done.\n",
      "Retrieving document from  https://arxiv.org/e-print/2308.16165\n"
     ]
    },
    {
     "name": "stdout",
     "output_type": "stream",
     "text": [
      "extracting tarball to tmp_2308.16165..."
     ]
    },
    {
     "name": "stdout",
     "output_type": "stream",
     "text": [
      " done.\n"
     ]
    }
   ],
   "source": [
    "documents = []\n",
    "failed = []\n",
    "for paper in tqdm(candidates):\n",
    "    paper_id = paper['identifier'].lower().replace('arxiv:', '')\n",
    "    \n",
    "    folder = f'tmp_{paper_id}'\n",
    "\n",
    "    try:\n",
    "        if not os.path.isdir(folder):\n",
    "            folder = retrieve_document_source(f\"{paper_id}\", f'tmp_{paper_id}')\n",
    "        \n",
    "        try:\n",
    "            doc = latex.LatexDocument(folder, validation=validation)    \n",
    "        except AffiliationError as affilerror:\n",
    "            msg = f\"ArXiv:{paper_id:s} is not an MPIA paper... \" + str(affilerror)\n",
    "            failed.append((paper, \"affiliation error: \" + str(affilerror) ))\n",
    "            continue\n",
    "        \n",
    "        # Hack because sometimes author parsing does not work well\n",
    "        if (len(doc.authors) != len(paper['authors'])):\n",
    "            doc._authors = paper['authors']\n",
    "        else:\n",
    "            # highlight authors (FIXME: doc.highlight_authors)\n",
    "            # done on arxiv paper already\n",
    "            doc._authors = highlight_authors_in_list(\n",
    "                [mpia.get_initials(k) for k in doc.authors], \n",
    "                normed_mpia_authors, verbose=True)\n",
    "        if (doc.abstract) in (None, ''):\n",
    "            doc._abstract = paper['abstract']\n",
    "            \n",
    "        doc.comment = (get_markdown_badge(paper_id) + \n",
    "                       \"<mark>Appeared on: \" + paper['date'] + \"</mark> - \")\n",
    "        if paper['comments']:\n",
    "            doc.comment += \" _\" + paper['comments'] + \"_\"\n",
    "        \n",
    "        full_md = doc.generate_markdown_text()\n",
    "        \n",
    "        full_md += get_markdown_qrcode(paper_id)\n",
    "        \n",
    "        # replace citations\n",
    "        try:\n",
    "            bibdata = latex_bib.LatexBib.from_doc(doc)\n",
    "            full_md = latex_bib.replace_citations(full_md, bibdata)\n",
    "        except Exception as e:\n",
    "            print(e)\n",
    "        \n",
    "        documents.append((paper_id, full_md))\n",
    "    except Exception as e:\n",
    "        warnings.warn(latex.LatexWarning(f\"{paper_id:s} did not run properly\\n\" +\n",
    "                                         str(e)\n",
    "                                        ))\n",
    "        failed.append((paper, \"latex error \" + str(e)))"
   ]
  },
  {
   "cell_type": "markdown",
   "id": "2505a25c",
   "metadata": {
    "papermill": {
     "duration": 0.006185,
     "end_time": "2023-08-31T04:06:41.692979",
     "exception": false,
     "start_time": "2023-08-31T04:06:41.686794",
     "status": "completed"
    },
    "tags": []
   },
   "source": [
    "### Export the logs\n",
    "\n",
    "Throughout, we also keep track of the logs per paper. see `logs-{today date}.md` "
   ]
  },
  {
   "cell_type": "code",
   "execution_count": 5,
   "id": "d733828a",
   "metadata": {
    "execution": {
     "iopub.execute_input": "2023-08-31T04:06:41.706657Z",
     "iopub.status.busy": "2023-08-31T04:06:41.705932Z",
     "iopub.status.idle": "2023-08-31T04:06:41.730925Z",
     "shell.execute_reply": "2023-08-31T04:06:41.729879Z"
    },
    "papermill": {
     "duration": 0.034031,
     "end_time": "2023-08-31T04:06:41.732849",
     "exception": false,
     "start_time": "2023-08-31T04:06:41.698818",
     "status": "completed"
    },
    "scrolled": false,
    "tags": []
   },
   "outputs": [
    {
     "data": {
      "text/markdown": [
       "## Successful papers"
      ],
      "text/plain": [
       "<IPython.core.display.Markdown object>"
      ]
     },
     "metadata": {},
     "output_type": "display_data"
    },
    {
     "data": {
      "text/markdown": [
       "\n",
       "|||\n",
       "|---:|:---|\n",
       "| [![arXiv](https://img.shields.io/badge/arXiv-arXiv:2308.15504-b31b1b.svg)](https://arxiv.org/abs/arXiv:2308.15504) | **Planet formation throughout the Milky Way: Planet populations in the  context of Galactic chemical evolution**  |\n",
       "|| J. Nielsen, et al. -- incl., <mark>M. Bergemann</mark>, <mark>P. Eitner</mark> |\n",
       "|*Appeared on*| *2023-08-31*|\n",
       "|*Comments*| *21 pages, 16 figures, accepted in A&A*|\n",
       "|**Abstract**| As stellar compositions evolve over time in the Milky Way, so will the resulting planet populations. In order to place planet formation in the context of Galactic chemical evolution, we make use of a large ($N = 5\\,325$) stellar sample representing the thin and thick discs, defined chemically, and the halo, and we simulate planet formation by pebble accretion around these stars. We build a chemical model of their protoplanetary discs, taking into account the relevant chemical transitions between vapour and refractory minerals, in order to track the resulting compositions of formed planets. We find that the masses of our synthetic planets increase on average with increasing stellar metallicity [Fe/H] and that giant planets and super-Earths are most common around thin-disc ($\\alpha$-poor) stars since these stars have an overall higher budget of solid particles. Giant planets are found to be very rare ($\\lesssim$1\\%) around thick-disc ($\\alpha$-rich) stars and nearly non-existent around halo stars. This indicates that the planet population is more diverse for more metal-rich stars in the thin disc. Water-rich planets are less common around low-metallicity stars since their low metallicity prohibits efficient growth beyond the water ice line. If we allow water to oxidise iron in the protoplanetary disc, this results in decreasing core mass fractions with increasing [Fe/H]. Excluding iron oxidation from our condensation model instead results in higher core mass fractions, in better agreement with the core-mass fraction of Earth, that increase with increasing [Fe/H]. Our work demonstrates how the Galactic chemical evolution and stellar parameters, such as stellar mass and chemical composition, can shape the resulting planet population. |"
      ],
      "text/plain": [
       "[arXiv:2308.15504] Planet formation throughout the Milky Way: Planet populations in the  context of Galactic chemical evolution\n",
       "\tJ. Nielsen, et al. -- incl., <mark>M. Bergemann</mark>, <mark>P. Eitner</mark>"
      ]
     },
     "metadata": {},
     "output_type": "display_data"
    },
    {
     "data": {
      "text/markdown": [
       "## Failed papers"
      ],
      "text/plain": [
       "<IPython.core.display.Markdown object>"
      ]
     },
     "metadata": {},
     "output_type": "display_data"
    },
    {
     "data": {
      "text/markdown": [
       "\n",
       "|||\n",
       "|---:|:---|\n",
       "| [![arXiv](https://img.shields.io/badge/arXiv-arXiv:2308.15859-b31b1b.svg)](https://arxiv.org/abs/arXiv:2308.15859) | **On the source counts of VLBI-detected radio sources and the prospects of  all-sky surveys with current and next generation instruments**  |\n",
       "|| <mark>S. Rezaei</mark>, J. P. McKean, A. T. Deller, J. F. Radcliffe |\n",
       "|*Appeared on*| *2023-08-31*|\n",
       "|*Comments*| **|\n",
       "|**Abstract**| We present an analysis of the detection fraction and the number counts of radio sources imaged with Very Long Baseline Interferometry (VLBI) at 1.4 GHz as part of the mJIVE-20 survey. From a sample of 24,903 radio sources identified by FIRST, 4,965 are detected on VLBI-scales, giving an overall detection fraction of $19.9\\pm2.9~$per cent. However, we find that the detection fraction falls from around 50 per cent at a peak surface brightness of $80~mJy~beam^{-1}$ in FIRST to around 8 per cent at the detection limit, which is likely dominated by the surface brightness sensitivity of the VLBI observations, with some contribution from a change in the radio source population. We also find that compactness at arcsec-scales is the dominant factor in determining whether a radio source is detected with VLBI, and that the median size of the VLBI-detected radio sources is 7.7 mas. After correcting for the survey completeness and effective sky area, we determine the slope of the differential number counts of VLBI-detected radio sources with flux densities $S_{\\rm 1.4~GHz} > 1~mJy$ to be $\\eta_{\\rm VLBI} = -1.74\\pm 0.02$, which is shallower than in the cases of the FIRST parent population ($\\eta_{\\rm FIRST} = -1.77\\pm 0.02$) and for compact radio sources selected at higher frequencies ($\\eta_{\\rm JBF} = -2.06\\pm 0.02$). From this, we find that all-sky ($3\\pi~sr$) surveys with the EVN and the VLBA have the potential to detect $(7.2\\pm0.9)\\times10^{5}$ radio sources at mas-resolution, and that the density of compact radio sources is sufficient (5.3~deg$^{-2}$) for in-beam phase referencing with multiple sources (3.9 per primary beam) in the case of a hypothetical SKA-VLBI array. |\n",
       "|<p style=\"color:green\"> **ERROR** </p>| <p style=\"color:green\">affiliation error: mpia.affiliation_verifications: 'Heidelberg' keyword not found.</p> |"
      ],
      "text/plain": [
       "<IPython.core.display.Markdown object>"
      ]
     },
     "metadata": {},
     "output_type": "display_data"
    },
    {
     "data": {
      "text/markdown": [
       "\n",
       "|||\n",
       "|---:|:---|\n",
       "| [![arXiv](https://img.shields.io/badge/arXiv-arXiv:2308.16155-b31b1b.svg)](https://arxiv.org/abs/arXiv:2308.16155) | **The Inhomogeneity Effect I: Inhomogeneous Surface and Atmosphere  Accelerate Planetary Cooling**  |\n",
       "|| <mark>X. Zhang</mark> |\n",
       "|*Appeared on*| *2023-08-31*|\n",
       "|*Comments*| *26 pages, 8 figures, part one of a series of papers, accepted for publication in The Astrophysical Journal*|\n",
       "|**Abstract**| We propose a general principle that under the radiative-convective equilibrium, the spatial and temporal variations in a planet's surface and atmosphere tend to increase its cooling. This principle is based on Jensen's inequality and the curvature of the response functions of surface temperature and outgoing cooling flux to changes in incoming stellar flux and atmospheric opacity. We use an analytical model to demonstrate that this principle holds for various planet types: (1) on an airless planet, the mean surface temperature is lower than its equilibrium temperature; (2) on terrestrial planets with atmospheres, the inhomogeneity of incoming stellar flux and atmospheric opacity reduces the mean surface temperature; (3) on giant planets, inhomogeneously distributed stellar flux and atmospheric opacity increase the outgoing infrared flux, cooling the interior. Although the inhomogeneity of visible opacity might sometimes heat the atmosphere, the effect is generally much smaller than the inhomogeneous cooling effect of infrared opacity. Compared with the homogeneous case, the mean surface temperature on inhomogeneous terrestrial planets can decrease by more than 20\\%, and the internal heat flux on giant planets can increase by over an order of magnitude. Despite simplifications in our analytical framework, the effect of stellar flux inhomogeneity appears to be robust, while further research is needed to fully understand the effects of opacity inhomogeneity in more realistic situations. This principle impacts our understanding of planetary habitability and the evolution of giant planets using low-resolution and one-dimensional frameworks that may have previously overlooked the role of inhomogeneity. |\n",
       "|<p style=\"color:green\"> **ERROR** </p>| <p style=\"color:green\">affiliation error: mpia.affiliation_verifications: 'Heidelberg' keyword not found.</p> |"
      ],
      "text/plain": [
       "<IPython.core.display.Markdown object>"
      ]
     },
     "metadata": {},
     "output_type": "display_data"
    },
    {
     "data": {
      "text/markdown": [
       "\n",
       "|||\n",
       "|---:|:---|\n",
       "| [![arXiv](https://img.shields.io/badge/arXiv-arXiv:2308.16156-b31b1b.svg)](https://arxiv.org/abs/arXiv:2308.16156) | **The Inhomogeneity Effect II: Rotational and Orbital States Impact  Planetary Cooling**  |\n",
       "|| <mark>X. Zhang</mark> |\n",
       "|*Appeared on*| *2023-08-31*|\n",
       "|*Comments*| *25 pages, 11 figures, part two of a series of papers, accepted for publication in The Astrophysical Journal*|\n",
       "|**Abstract**| We generalize the theory of the inhomogeneity effect to enable comparison among different inhomogeneous planets. A metric of inhomogeneity based on the cumulative distribution function is applied to investigate the dependence of planetary cooling on previously overlooked parameters. The mean surface temperature of airless planets increases with rotational rate and surface thermal inertia, which bounds the value in the tidally locked configuration and the equilibrium temperature. Using an analytical model, we demonstrate that the internal heat flux of giant planets exhibits significant spatial variability, primarily emitted from the nightside and high-latitude regions acting as ``radiator fins.\" Given a horizontally uniform interior temperature in the convective zone, the outgoing internal flux increases up to several folds as the inhomogeneity of the incoming stellar flux increases. The enhancement decreases with increasing heat redistribution through planetary dynamics or rotation. The outgoing internal flux on rapidly rotating planets generally increases with planetary obliquity and orbital eccentricity. The radiative timescale and true anomaly of the vernal equinox also play significant roles. If the radiative timescale is long, the outgoing internal flux shows a slightly decreasing but nonlinear trend with obliquity. Our findings indicate that rotational and orbital states greatly influence the cooling of planets and impact the interior evolution of giant planets, particularly for tidally locked planets and planets with high eccentricity and obliquity (such as Uranus), as well as the spatial and temporal variations of their cooling fluxes. |\n",
       "|<p style=\"color:green\"> **ERROR** </p>| <p style=\"color:green\">affiliation error: mpia.affiliation_verifications: 'Heidelberg' keyword not found.</p> |"
      ],
      "text/plain": [
       "<IPython.core.display.Markdown object>"
      ]
     },
     "metadata": {},
     "output_type": "display_data"
    },
    {
     "data": {
      "text/markdown": [
       "\n",
       "|||\n",
       "|---:|:---|\n",
       "| [![arXiv](https://img.shields.io/badge/arXiv-arXiv:2308.16165-b31b1b.svg)](https://arxiv.org/abs/arXiv:2308.16165) | **The Inhomogeneity Effect III: Weather Impacts on the Heat Flow of Hot  Jupiters**  |\n",
       "|| <mark>X. Zhang</mark>, C. Li, H. Ge, T. Le |\n",
       "|*Appeared on*| *2023-08-31*|\n",
       "|*Comments*| *36 pages, 13 figures, part three of a series of papers, accepted for publication in The Astrophysical Journal*|\n",
       "|**Abstract**| The interior flux of a giant planet impacts atmospheric motion, and the atmosphere dictates the interior's cooling. Here we use a non-hydrostatic general circulation model (SNAP) coupled with a multi-stream multi-scattering radiative module (HARP) to simulate the weather impacts on the heat flow of hot Jupiters. We found that the vertical heat flux is primarily transported by convection in the lower atmosphere and regulated by dynamics and radiation in the overlying ``radiation-circulation\" zone. The temperature inversion occurs on the dayside and reduces the upward radiative flux. The atmospheric dynamics relay the vertical heat transport until the radiation becomes efficient in the upper atmosphere. The cooling flux increases with atmospheric drag due to increased day-night contrast and spatial inhomogeneity. The temperature dependence of the infrared opacity greatly amplifies the opacity inhomogeneity. Although atmospheric circulation could transport heat downward in a narrow region above the radiative-convective boundary, the opacity inhomogeneity effect overcomes the dynamical effect and leads to a larger overall interior cooling than the local simulations with the same interior entropy and stellar flux. The enhancement depends critically on the equilibrium temperature, drag, and atmospheric opacity. In a strong-drag atmosphere hotter than 1600 K, a significant inhomogeneity effect in three-dimensional (3D) models can boost interior cooling several-fold compared to the 1D radiative-convection equilibrium models. This study confirms the analytical argument of the inhomogeneity effect in Zhang (2023ab). It highlights the importance of using 3D atmospheric models in understanding the inflation mechanisms of hot Jupiters and giant planet evolution in general. |\n",
       "|<p style=\"color:green\"> **ERROR** </p>| <p style=\"color:green\">affiliation error: mpia.affiliation_verifications: 'Heidelberg' keyword not found.</p> |"
      ],
      "text/plain": [
       "<IPython.core.display.Markdown object>"
      ]
     },
     "metadata": {},
     "output_type": "display_data"
    }
   ],
   "source": [
    "import datetime\n",
    "today = str(datetime.date.today())\n",
    "logfile = f\"_build/html/logs/log-{today}.md\"\n",
    "\n",
    "\n",
    "with open(logfile, 'w') as logs:\n",
    "    # Success\n",
    "    logs.write(f'# Arxiv on Deck 2: Logs - {today}\\n\\n')\n",
    "    logs.write(\"\"\"* Arxiv had {0:,d} new papers\\n\"\"\".format(len(new_papers)))\n",
    "    logs.write(\"\"\"    * {0:,d} with possible author matches\\n\\n\"\"\".format(len(candidates)))\n",
    "    logs.write(\"## Sucessful papers\\n\\n\")\n",
    "    display(Markdown(\"## Successful papers\"))\n",
    "    success = [k[0] for k in documents]\n",
    "    for candid in candidates:\n",
    "        if candid['identifier'].split(':')[-1] in success:\n",
    "            display(candid)\n",
    "            logs.write(candid.generate_markdown_text() + '\\n\\n')\n",
    "\n",
    "    ## failed\n",
    "    logs.write(\"## Failed papers\\n\\n\")\n",
    "    display(Markdown(\"## Failed papers\"))\n",
    "    failed = sorted(failed, key=lambda x: x[1])\n",
    "    current_reason = \"\"\n",
    "    for paper, reason in failed:\n",
    "        if 'affiliation' in reason:\n",
    "            color = 'green'\n",
    "        else:\n",
    "            color = 'red'\n",
    "        data = Markdown(\n",
    "                paper.generate_markdown_text() + \n",
    "                f'\\n|<p style=\"color:{color:s}\"> **ERROR** </p>| <p style=\"color:{color:s}\">{reason:s}</p> |'\n",
    "               )\n",
    "        if reason != current_reason:\n",
    "            logs.write(f'### {reason:s} \\n\\n')\n",
    "            current_reason = reason\n",
    "        logs.write(data.data + '\\n\\n')\n",
    "        \n",
    "        # only display here the important errors (all in logs)\n",
    "        # if color in ('red',):\n",
    "        display(data)"
   ]
  },
  {
   "cell_type": "markdown",
   "id": "472d20ee",
   "metadata": {
    "papermill": {
     "duration": 0.006794,
     "end_time": "2023-08-31T04:06:41.746425",
     "exception": false,
     "start_time": "2023-08-31T04:06:41.739631",
     "status": "completed"
    },
    "tags": []
   },
   "source": [
    "## Export documents\n",
    "\n",
    "We now write the .md files and export relevant images"
   ]
  },
  {
   "cell_type": "code",
   "execution_count": 6,
   "id": "d426aed9",
   "metadata": {
    "execution": {
     "iopub.execute_input": "2023-08-31T04:06:41.762811Z",
     "iopub.status.busy": "2023-08-31T04:06:41.761792Z",
     "iopub.status.idle": "2023-08-31T04:06:41.772683Z",
     "shell.execute_reply": "2023-08-31T04:06:41.771960Z"
    },
    "papermill": {
     "duration": 0.021362,
     "end_time": "2023-08-31T04:06:41.774576",
     "exception": false,
     "start_time": "2023-08-31T04:06:41.753214",
     "status": "completed"
    },
    "tags": []
   },
   "outputs": [],
   "source": [
    "def export_markdown_summary(md: str, md_fname:str, directory: str):\n",
    "    \"\"\"Export MD document and associated relevant images\"\"\"\n",
    "    import os\n",
    "    import shutil\n",
    "    import re\n",
    "\n",
    "    if (os.path.exists(directory) and not os.path.isdir(directory)):\n",
    "        raise RuntimeError(f\"a non-directory file exists with name {directory:s}\")\n",
    "\n",
    "    if (not os.path.exists(directory)):\n",
    "        print(f\"creating directory {directory:s}\")\n",
    "        os.mkdir(directory)\n",
    "\n",
    "    fig_fnames = (re.compile(r'\\[Fig.*\\]\\((.*)\\)').findall(md) + \n",
    "                  re.compile(r'\\<img src=\"([^>\\s]*)\"[^>]*/>').findall(md))\n",
    "    for fname in fig_fnames:\n",
    "        if 'http' in fname:\n",
    "            # No need to copy online figures\n",
    "            continue\n",
    "        destdir = os.path.join(directory, os.path.dirname(fname))\n",
    "        destfname = os.path.join(destdir, os.path.basename(fname))\n",
    "        try:\n",
    "            os.makedirs(destdir)\n",
    "        except FileExistsError:\n",
    "            pass\n",
    "        shutil.copy(fname, destfname)\n",
    "    with open(os.path.join(directory, md_fname), 'w') as fout:\n",
    "        fout.write(md)\n",
    "    print(\"exported in \", os.path.join(directory, md_fname))\n",
    "    [print(\"    + \" + os.path.join(directory,fk)) for fk in fig_fnames]"
   ]
  },
  {
   "cell_type": "code",
   "execution_count": 7,
   "id": "014d04a4",
   "metadata": {
    "execution": {
     "iopub.execute_input": "2023-08-31T04:06:41.789880Z",
     "iopub.status.busy": "2023-08-31T04:06:41.789359Z",
     "iopub.status.idle": "2023-08-31T04:06:41.796855Z",
     "shell.execute_reply": "2023-08-31T04:06:41.796017Z"
    },
    "papermill": {
     "duration": 0.017382,
     "end_time": "2023-08-31T04:06:41.798744",
     "exception": false,
     "start_time": "2023-08-31T04:06:41.781362",
     "status": "completed"
    },
    "tags": []
   },
   "outputs": [
    {
     "name": "stdout",
     "output_type": "stream",
     "text": [
      "exported in  _build/html/2308.15504.md\n",
      "    + _build/html/tmp_2308.15504/./Figures/MR_category_all.png\n",
      "    + _build/html/tmp_2308.15504/./Figures/mgfe_mgh_feh.png\n",
      "    + _build/html/tmp_2308.15504/./Figures/pebble_flux_st.png\n"
     ]
    }
   ],
   "source": [
    "for paper_id, md in documents:\n",
    "    export_markdown_summary(md, f\"{paper_id:s}.md\", '_build/html/')"
   ]
  },
  {
   "cell_type": "markdown",
   "id": "f087a0a7",
   "metadata": {
    "papermill": {
     "duration": 0.007037,
     "end_time": "2023-08-31T04:06:41.812688",
     "exception": false,
     "start_time": "2023-08-31T04:06:41.805651",
     "status": "completed"
    },
    "tags": []
   },
   "source": [
    "## Display the papers\n",
    "\n",
    "Not necessary but allows for a quick check."
   ]
  },
  {
   "cell_type": "code",
   "execution_count": 8,
   "id": "fd25f625",
   "metadata": {
    "execution": {
     "iopub.execute_input": "2023-08-31T04:06:41.828699Z",
     "iopub.status.busy": "2023-08-31T04:06:41.827813Z",
     "iopub.status.idle": "2023-08-31T04:06:41.834474Z",
     "shell.execute_reply": "2023-08-31T04:06:41.833591Z"
    },
    "papermill": {
     "duration": 0.016858,
     "end_time": "2023-08-31T04:06:41.836292",
     "exception": false,
     "start_time": "2023-08-31T04:06:41.819434",
     "status": "completed"
    },
    "scrolled": false,
    "tags": []
   },
   "outputs": [
    {
     "data": {
      "text/markdown": [
       "<div class=\"macros\" style=\"visibility:hidden;\">\n",
       "$\\newcommand{\\ensuremath}{}$\n",
       "$\\newcommand{\\xspace}{}$\n",
       "$\\newcommand{\\object}[1]{\\texttt{#1}}$\n",
       "$\\newcommand{\\farcs}{{.}''}$\n",
       "$\\newcommand{\\farcm}{{.}'}$\n",
       "$\\newcommand{\\arcsec}{''}$\n",
       "$\\newcommand{\\arcmin}{'}$\n",
       "$\\newcommand{\\ion}[2]{#1#2}$\n",
       "$\\newcommand{\\textsc}[1]{\\textrm{#1}}$\n",
       "$\\newcommand{\\hl}[1]{\\textrm{#1}}$\n",
       "$\\newcommand{\\footnote}[1]{}$\n",
       "$\\newcommand{\\maps}{M\\&PS}$\n",
       "$\\newcommand{\\feh}{\\text{[Fe/H]}}$\n",
       "$\\newcommand{\\abs}[1]{\\left\\lvert #1 \\right\\rvert}$\n",
       "$\\newcommand{\\enstatite}{\\text{MgSiO}_{3}}$\n",
       "$\\newcommand{\\forsterite}{\\text{Mg}_2\\text{SiO}_4}$\n",
       "$\\newcommand{\\water}{\\text{H}_2\\text{O}}$\n",
       "$\\newcommand{\\fayalite}{\\text{Fe}_2\\text{SiO}_4}$\n",
       "$\\newcommand{\\magnetite}{\\text{Fe}_3\\text{O}_4}$\n",
       "$\\newcommand{\\St}{{\\rm St}}$\n",
       "$\\newcommand{\\AU}{{\\rm AU}}$\n",
       "$\\newcommand{\\pluseq}{\\mathrel{{+}{=}}}$\n",
       "$\\newcommand{\\minuseq}{\\mathrel{{-}{=}}}$\n",
       "$\\newcommand{\\gas}{{\\rm (g)}}$\n",
       "$\\newcommand{\\solid}{{\\rm (s)}}$\n",
       "$\\newcommand{\\vf}{v_{\\rm f}}$\n",
       "$\\newcommand{\\msun}{\\ensuremath{\\rm M_\\odot}}$\n",
       "$\\newcommand{\\teff}{\\ensuremath{T_{\\rm eff}}}$\n",
       "$\\newcommand{\\logg}{\\ensuremath{\\log{g}}}$\n",
       "$\\newcommand{\\mb}{\\textcolor{red}}$</div>\n",
       "\n",
       "\n",
       "\n",
       "<div id=\"title\">\n",
       "\n",
       "# Planet formation throughout the Milky Way:\n",
       "\n",
       "</div>\n",
       "<div id=\"comments\">\n",
       "\n",
       "[![arXiv](https://img.shields.io/badge/arXiv-2308.15504-b31b1b.svg)](https://arxiv.org/abs/2308.15504)<mark>Appeared on: 2023-08-31</mark> -  _21 pages, 16 figures, accepted in A&A_\n",
       "\n",
       "</div>\n",
       "<div id=\"authors\">\n",
       "\n",
       "J. Nielsen, et al. -- incl., <mark>M. Bergemann</mark>, <mark>P. Eitner</mark>\n",
       "\n",
       "</div>\n",
       "<div id=\"abstract\">\n",
       "\n",
       "**Abstract:** As stellar compositions evolve over time in the Milky Way, so will the resulting planet populations. In order to place planet formation in the context of Galactic chemical evolution, we make use of a large ( $N = 5 325$ ) stellar sample representing the thin and thick discs, defined chemically, and the halo, and we simulate planet formation by pebble accretion around these stars. We build a chemical model of their protoplanetary discs, taking into account the relevant chemical transitions between vapour and refractory minerals, in order to track the resulting compositions of formed planets.We find that the masses of our synthetic planets increase on average with increasing stellar metallicity [ Fe/H ] and that giant planets and super-Earths are most common around thin-disc ( $\\alpha$ -poor) stars since these stars have an overall higher budget of solid particles. Giant planets are found to be very rare ( $\\lesssim$ 1 \\% ) around thick-disc ( $\\alpha$ -rich) stars and nearly non-existent around halo stars. This indicates that the planet population is more diverse for more metal-rich stars in the thin disc. Water-rich planets are less common around low-metallicity stars since their low metallicity prohibits efficient growth beyond the water ice line. If we allow water to oxidise iron in the protoplanetary disc, this results in decreasing core mass fractions with increasing [ Fe/H ] . Excluding iron oxidation from our condensation model instead results in higher core mass fractions, in better agreement with the core-mass fraction of Earth, that increase with increasing [ Fe/H ] . Our work demonstrates how the Galactic chemical evolution and stellar parameters, such as stellar mass and chemical composition, can shape the resulting planet population.\n",
       "\n",
       "</div>\n",
       "\n",
       "<div id=\"div_fig1\">\n",
       "\n",
       "<img src=\"tmp_2308.15504/./Figures/MR_category_all.png\" alt=\"Fig8\" width=\"100%\"/>\n",
       "\n",
       "**Figure 8. -** Resulting planet population for three solar-mass stars of varying composition. At low metallicity, it is difficult to form any planets beyond a few AU in the protoplanetary disc, so very few water-rich planets above 1 $M_\\oplus$ form in that case. For solar metallicity and above (middle and bottom panels), we start to form water-rich planets up to around a few $M_\\oplus$ far out in the disc. We note that due to our abundance scaling of the remaining elements, the middle panel has a slightly higher metallicity of 0.016 for solar [Fe/H] compared to the solar metallicity of 0.014. (*fig:MR_all*)\n",
       "\n",
       "</div>\n",
       "<div id=\"div_fig2\">\n",
       "\n",
       "<img src=\"tmp_2308.15504/./Figures/mgfe_mgh_feh.png\" alt=\"Fig1\" width=\"100%\"/>\n",
       "\n",
       "**Figure 1. -** Stellar abundances for our stellar sample where we have colour-coded the stars belonging to each population. **(a):**[Mg/Fe] as a function of [Fe/H]. **(b):**[Mg/H] as a function of [Fe/H] for the same stars as in the top panel. We also show the linear fit between [Mg/H] and [Fe/H] for each population which was used to determine all the other elements except for He. The fit slope ($k$) and intercept ($m$) for the full sample are shown in the bottom right. In both panels, the dashed black line shows the fit when considering the entire stellar sample. (*fig:mgfe_mgh_feh*)\n",
       "\n",
       "</div>\n",
       "<div id=\"div_fig3\">\n",
       "\n",
       "<img src=\"tmp_2308.15504/./Figures/pebble_flux_st.png\" alt=\"Fig4\" width=\"100%\"/>\n",
       "\n",
       "**Figure 4. -** The evolution of the dust over time in the protoplanetary disc. The different colours represent different distances to the star. **(a):** Pebble flux and flux ratio as a function of time around a star with solar mass and composition. The fragmentation velocity here was set to 2 m/s. The flux ratio starts at a moderately high value of $\\sim$0.015 but decreases rapidly after $\\sim10^5$ years. The sharp increase in pebble flux and flux ratio at 1 Myr is caused by the $CO_2$ iceline which is traveling inwards due to the decreasing luminosity of the star. **(b):** Stokes number as a function of time for the same distances as in the top panel. The Stokes number increases fast in the inner region of the disc, growing to 0.02 before 10$^3$ years. The size of the dust is mostly regulated by fragmentation either due to turbulence or differential radial drift. Only in the outermost regions of the disc is the growth of the dust slow enough for the Stokes number to be drift-limited. (*fig:pebble_flux*)\n",
       "\n",
       "</div><div id=\"qrcode\"><img src=https://api.qrserver.com/v1/create-qr-code/?size=100x100&data=\"https://arxiv.org/abs/2308.15504\"></div>"
      ],
      "text/plain": [
       "<IPython.core.display.Markdown object>"
      ]
     },
     "metadata": {},
     "output_type": "display_data"
    }
   ],
   "source": [
    "[display(Markdown(k[1])) for k in documents];"
   ]
  },
  {
   "cell_type": "markdown",
   "id": "873873a4",
   "metadata": {
    "papermill": {
     "duration": 0.007186,
     "end_time": "2023-08-31T04:06:41.850875",
     "exception": false,
     "start_time": "2023-08-31T04:06:41.843689",
     "status": "completed"
    },
    "tags": []
   },
   "source": [
    "# Create HTML index"
   ]
  },
  {
   "cell_type": "code",
   "execution_count": 9,
   "id": "cf665672",
   "metadata": {
    "execution": {
     "iopub.execute_input": "2023-08-31T04:06:41.866920Z",
     "iopub.status.busy": "2023-08-31T04:06:41.866280Z",
     "iopub.status.idle": "2023-08-31T04:06:41.884303Z",
     "shell.execute_reply": "2023-08-31T04:06:41.883557Z"
    },
    "papermill": {
     "duration": 0.028294,
     "end_time": "2023-08-31T04:06:41.886278",
     "exception": false,
     "start_time": "2023-08-31T04:06:41.857984",
     "status": "completed"
    },
    "tags": []
   },
   "outputs": [
    {
     "name": "stdout",
     "output_type": "stream",
     "text": [
      "258  publications files modified in the last 7 days.\n"
     ]
    }
   ],
   "source": [
    "from datetime import datetime, timedelta, timezone\n",
    "from glob import glob\n",
    "import os\n",
    "\n",
    "files = glob('_build/html/*.md')\n",
    "days = 7\n",
    "now = datetime.today()\n",
    "res = []\n",
    "for fk in files:\n",
    "    stat_result = os.stat(fk).st_ctime\n",
    "    modified = datetime.fromtimestamp(stat_result, tz=timezone.utc).replace(tzinfo=None)\n",
    "    delta = now.today() - modified\n",
    "    if delta <= timedelta(days=days):\n",
    "        res.append((delta.seconds, fk))\n",
    "res = [k[1] for k in reversed(sorted(res, key=lambda x:x[1]))]\n",
    "npub = len(res)\n",
    "print(len(res), f\" publications files modified in the last {days:d} days.\")\n",
    "# [ print('\\t', k) for k in res ];"
   ]
  },
  {
   "cell_type": "code",
   "execution_count": 10,
   "id": "015de740",
   "metadata": {
    "execution": {
     "iopub.execute_input": "2023-08-31T04:06:41.904110Z",
     "iopub.status.busy": "2023-08-31T04:06:41.903230Z",
     "iopub.status.idle": "2023-08-31T04:06:41.928657Z",
     "shell.execute_reply": "2023-08-31T04:06:41.927222Z"
    },
    "papermill": {
     "duration": 0.040369,
     "end_time": "2023-08-31T04:06:41.934988",
     "exception": false,
     "start_time": "2023-08-31T04:06:41.894619",
     "status": "completed"
    },
    "tags": []
   },
   "outputs": [
    {
     "name": "stdout",
     "output_type": "stream",
     "text": [
      "9  publications in the last 7 days.\n"
     ]
    }
   ],
   "source": [
    "import datetime\n",
    "from glob import glob\n",
    "\n",
    "def get_last_n_days(lst, days=1):\n",
    "    \"\"\" Get the documents from the last n days \"\"\"\n",
    "    sorted_lst = sorted(lst, key=lambda x: x[1], reverse=True)\n",
    "    for fname, date in sorted_lst:\n",
    "        if date >= str(datetime.date.today() - datetime.timedelta(days=days)):\n",
    "            yield fname\n",
    "\n",
    "def extract_appearance_dates(lst_file):\n",
    "    dates = []\n",
    "\n",
    "    def get_date(line):\n",
    "        return line\\\n",
    "            .split('Appeared on:')[-1]\\\n",
    "            .split('</mark>')[0].strip()\n",
    "\n",
    "    for fname in lst:\n",
    "        with open(fname, 'r') as f:\n",
    "            found_date = False\n",
    "            for line in f:\n",
    "                if not found_date:\n",
    "                    if \"Appeared on\" in line:\n",
    "                        found_date = True\n",
    "                        dates.append((fname, get_date(line)))\n",
    "                else:\n",
    "                    break\n",
    "    return dates\n",
    "\n",
    "from glob import glob\n",
    "lst = glob('_build/html/*md')\n",
    "days = 7\n",
    "dates = extract_appearance_dates(lst)\n",
    "res = list(get_last_n_days(dates, days))\n",
    "npub = len(res)\n",
    "print(len(res), f\" publications in the last {days:d} days.\")"
   ]
  },
  {
   "cell_type": "code",
   "execution_count": 11,
   "id": "52ca0208",
   "metadata": {
    "execution": {
     "iopub.execute_input": "2023-08-31T04:06:41.954323Z",
     "iopub.status.busy": "2023-08-31T04:06:41.953480Z",
     "iopub.status.idle": "2023-08-31T04:06:41.960880Z",
     "shell.execute_reply": "2023-08-31T04:06:41.959808Z"
    },
    "papermill": {
     "duration": 0.018934,
     "end_time": "2023-08-31T04:06:41.963008",
     "exception": false,
     "start_time": "2023-08-31T04:06:41.944074",
     "status": "completed"
    },
    "scrolled": false,
    "tags": []
   },
   "outputs": [],
   "source": [
    "def create_carousel(npub=4):\n",
    "    \"\"\" Generate the HTML code for a carousel with `npub` slides \"\"\"\n",
    "    carousel = [\"\"\"  <div class=\"carousel\" \"\"\",\n",
    "                \"\"\"       data-flickity='{ \"autoPlay\": 10000, \"adaptiveHeight\": true, \"resize\": true, \"wrapAround\": true, \"pauseAutoPlayOnHover\": true, \"groupCells\": 1 }' id=\"asyncTypeset\">\"\"\"\n",
    "                ]\n",
    "    \n",
    "    item_str = \"\"\"    <div class=\"carousel-cell\"> <div id=\"slide{k}\" class=\"md_view\">Content {k}</div> </div>\"\"\"\n",
    "    for k in range(1, npub + 1):\n",
    "        carousel.append(item_str.format(k=k))\n",
    "    carousel.append(\"  </div>\")\n",
    "    return '\\n'.join(carousel)\n",
    "\n",
    "def create_grid(npub=4):\n",
    "    \"\"\" Generate the HTML code for a flat grid with `npub` slides \"\"\"\n",
    "    grid = [\"\"\"  <div class=\"grid\"> \"\"\",\n",
    "                ]\n",
    "    \n",
    "    item_str = \"\"\"    <div class=\"grid-item\"> <div id=\"slide{k}\" class=\"md_view\">Content {k}</div> </div>\"\"\"\n",
    "    for k in range(1, npub + 1):\n",
    "        grid.append(item_str.format(k=k))\n",
    "    grid.append(\"  </div>\")\n",
    "    return '\\n'.join(grid)"
   ]
  },
  {
   "cell_type": "code",
   "execution_count": 12,
   "id": "a6eac5b6",
   "metadata": {
    "execution": {
     "iopub.execute_input": "2023-08-31T04:06:41.980255Z",
     "iopub.status.busy": "2023-08-31T04:06:41.979664Z",
     "iopub.status.idle": "2023-08-31T04:06:41.987245Z",
     "shell.execute_reply": "2023-08-31T04:06:41.986406Z"
    },
    "papermill": {
     "duration": 0.01886,
     "end_time": "2023-08-31T04:06:41.989638",
     "exception": false,
     "start_time": "2023-08-31T04:06:41.970778",
     "status": "completed"
    },
    "scrolled": false,
    "tags": []
   },
   "outputs": [],
   "source": [
    "carousel = create_carousel(npub)\n",
    "docs = ', '.join(['\"{0:s}\"'.format(k.split('/')[-1]) for k in res])\n",
    "slides = ', '.join([f'\"slide{k}\"' for k in range(1, npub + 1)])\n",
    "\n",
    "with open(\"daily_template.html\", \"r\") as tpl:\n",
    "    page = tpl.read()\n",
    "    page = page.replace(\"{%-- carousel:s --%}\", carousel)\\\n",
    "               .replace(\"{%-- suptitle:s --%}\",  \"7-day archives\" )\\\n",
    "               .replace(\"{%-- docs:s --%}\", docs)\\\n",
    "               .replace(\"{%-- slides:s --%}\", slides)\n",
    "    \n",
    "with open(\"_build/html/index_7days.html\", 'w') as fout:\n",
    "    fout.write(page)"
   ]
  },
  {
   "cell_type": "code",
   "execution_count": 13,
   "id": "adc1a1ec",
   "metadata": {
    "execution": {
     "iopub.execute_input": "2023-08-31T04:06:42.008045Z",
     "iopub.status.busy": "2023-08-31T04:06:42.006502Z",
     "iopub.status.idle": "2023-08-31T04:06:42.016860Z",
     "shell.execute_reply": "2023-08-31T04:06:42.015908Z"
    },
    "papermill": {
     "duration": 0.021678,
     "end_time": "2023-08-31T04:06:42.018815",
     "exception": false,
     "start_time": "2023-08-31T04:06:41.997137",
     "status": "completed"
    },
    "tags": []
   },
   "outputs": [
    {
     "name": "stdout",
     "output_type": "stream",
     "text": [
      "3  publications in the last day.\n"
     ]
    }
   ],
   "source": [
    "# redo for today\n",
    "days = 1\n",
    "res = list(get_last_n_days(dates, days))\n",
    "npub = len(res)\n",
    "print(len(res), f\" publications in the last day.\")\n",
    "\n",
    "carousel = create_carousel(npub)\n",
    "docs = ', '.join(['\"{0:s}\"'.format(k.split('/')[-1]) for k in res])\n",
    "slides = ', '.join([f'\"slide{k}\"' for k in range(1, npub + 1)])\n",
    "\n",
    "with open(\"daily_template.html\", \"r\") as tpl:\n",
    "    page = tpl.read()\n",
    "    page = page.replace(\"{%-- carousel:s --%}\", carousel)\\\n",
    "               .replace(\"{%-- suptitle:s --%}\",  \"Daily\" )\\\n",
    "               .replace(\"{%-- docs:s --%}\", docs)\\\n",
    "               .replace(\"{%-- slides:s --%}\", slides)\n",
    "    \n",
    "# print(carousel, docs, slides)\n",
    "# print(page)\n",
    "with open(\"_build/html/index_daily.html\", 'w') as fout:\n",
    "    fout.write(page)"
   ]
  },
  {
   "cell_type": "code",
   "execution_count": 14,
   "id": "00eece82",
   "metadata": {
    "execution": {
     "iopub.execute_input": "2023-08-31T04:06:42.037848Z",
     "iopub.status.busy": "2023-08-31T04:06:42.036989Z",
     "iopub.status.idle": "2023-08-31T04:06:42.047728Z",
     "shell.execute_reply": "2023-08-31T04:06:42.046922Z"
    },
    "papermill": {
     "duration": 0.022057,
     "end_time": "2023-08-31T04:06:42.049668",
     "exception": false,
     "start_time": "2023-08-31T04:06:42.027611",
     "status": "completed"
    },
    "scrolled": false,
    "tags": []
   },
   "outputs": [
    {
     "name": "stdout",
     "output_type": "stream",
     "text": [
      "6  6 publications selected.\n"
     ]
    }
   ],
   "source": [
    "# Create the flat grid of the last N papers (fixed number regardless of dates)\n",
    "from itertools import islice \n",
    "\n",
    "npub = 6\n",
    "res = [k[0] for k in (islice(reversed(sorted(dates, key=lambda x: x[1])), 6))]\n",
    "print(len(res), f\" {npub} publications selected.\")\n",
    "\n",
    "grid = create_grid(npub)\n",
    "docs = ', '.join(['\"{0:s}\"'.format(k.split('/')[-1]) for k in res])\n",
    "slides = ', '.join([f'\"slide{k}\"' for k in range(1, npub + 1)])\n",
    "\n",
    "with open(\"grid_template.html\", \"r\") as tpl:\n",
    "    page = tpl.read()\n",
    "    page = page.replace(\"{%-- grid-content:s --%}\", grid)\\\n",
    "               .replace(\"{%-- suptitle:s --%}\",  f\"Last {npub:,d} papers\" )\\\n",
    "               .replace(\"{%-- docs:s --%}\", docs)\\\n",
    "               .replace(\"{%-- slides:s --%}\", slides)\n",
    "    \n",
    "# print(grid, docs, slides)\n",
    "# print(page)\n",
    "with open(\"_build/html/index_npub_grid.html\", 'w') as fout:\n",
    "    fout.write(page)"
   ]
  }
 ],
 "metadata": {
  "kernelspec": {
   "display_name": "Python 3 (ipykernel)",
   "language": "python",
   "name": "python3"
  },
  "language_info": {
   "codemirror_mode": {
    "name": "ipython",
    "version": 3
   },
   "file_extension": ".py",
   "mimetype": "text/x-python",
   "name": "python",
   "nbconvert_exporter": "python",
   "pygments_lexer": "ipython3",
   "version": "3.9.17"
  },
  "papermill": {
   "default_parameters": {},
   "duration": 103.233119,
   "end_time": "2023-08-31T04:06:42.485119",
   "environment_variables": {},
   "exception": null,
   "input_path": "MPIA daily digest.ipynb",
   "output_path": "log.ipynb",
   "parameters": {},
   "start_time": "2023-08-31T04:04:59.252000",
   "version": "2.4.0"
  },
  "vscode": {
   "interpreter": {
    "hash": "aee8b7b246df8f9039afb4144a1f6fd8d2ca17a180786b69acc140d282b71a49"
   }
  },
  "widgets": {
   "application/vnd.jupyter.widget-state+json": {
    "state": {
     "19603b66f1ce4bc58c310de28eaecbff": {
      "model_module": "@jupyter-widgets/controls",
      "model_module_version": "2.0.0",
      "model_name": "FloatProgressModel",
      "state": {
       "_dom_classes": [],
       "_model_module": "@jupyter-widgets/controls",
       "_model_module_version": "2.0.0",
       "_model_name": "FloatProgressModel",
       "_view_count": null,
       "_view_module": "@jupyter-widgets/controls",
       "_view_module_version": "2.0.0",
       "_view_name": "ProgressView",
       "bar_style": "success",
       "description": "",
       "description_allow_html": false,
       "layout": "IPY_MODEL_ec2a80811efd4a1696ec71e05c2b74fc",
       "max": 5.0,
       "min": 0.0,
       "orientation": "horizontal",
       "style": "IPY_MODEL_f4ce143ed0e4471180ff901815dfe382",
       "tabbable": null,
       "tooltip": null,
       "value": 5.0
      }
     },
     "1b70e8e79a96458e86ca82db4bfff4ae": {
      "model_module": "@jupyter-widgets/controls",
      "model_module_version": "2.0.0",
      "model_name": "HTMLModel",
      "state": {
       "_dom_classes": [],
       "_model_module": "@jupyter-widgets/controls",
       "_model_module_version": "2.0.0",
       "_model_name": "HTMLModel",
       "_view_count": null,
       "_view_module": "@jupyter-widgets/controls",
       "_view_module_version": "2.0.0",
       "_view_name": "HTMLView",
       "description": "",
       "description_allow_html": false,
       "layout": "IPY_MODEL_29a8b43a218e4dabaf84d2196cec34c8",
       "placeholder": "​",
       "style": "IPY_MODEL_44ebb08a6fb148759fb3cfc1aaa0df30",
       "tabbable": null,
       "tooltip": null,
       "value": " 5/5 [01:13&lt;00:00,  8.28s/it]"
      }
     },
     "29a8b43a218e4dabaf84d2196cec34c8": {
      "model_module": "@jupyter-widgets/base",
      "model_module_version": "2.0.0",
      "model_name": "LayoutModel",
      "state": {
       "_model_module": "@jupyter-widgets/base",
       "_model_module_version": "2.0.0",
       "_model_name": "LayoutModel",
       "_view_count": null,
       "_view_module": "@jupyter-widgets/base",
       "_view_module_version": "2.0.0",
       "_view_name": "LayoutView",
       "align_content": null,
       "align_items": null,
       "align_self": null,
       "border_bottom": null,
       "border_left": null,
       "border_right": null,
       "border_top": null,
       "bottom": null,
       "display": null,
       "flex": null,
       "flex_flow": null,
       "grid_area": null,
       "grid_auto_columns": null,
       "grid_auto_flow": null,
       "grid_auto_rows": null,
       "grid_column": null,
       "grid_gap": null,
       "grid_row": null,
       "grid_template_areas": null,
       "grid_template_columns": null,
       "grid_template_rows": null,
       "height": null,
       "justify_content": null,
       "justify_items": null,
       "left": null,
       "margin": null,
       "max_height": null,
       "max_width": null,
       "min_height": null,
       "min_width": null,
       "object_fit": null,
       "object_position": null,
       "order": null,
       "overflow": null,
       "padding": null,
       "right": null,
       "top": null,
       "visibility": null,
       "width": null
      }
     },
     "402c6c16cbd04f9bb8f4dcb0aea849e7": {
      "model_module": "@jupyter-widgets/controls",
      "model_module_version": "2.0.0",
      "model_name": "HBoxModel",
      "state": {
       "_dom_classes": [],
       "_model_module": "@jupyter-widgets/controls",
       "_model_module_version": "2.0.0",
       "_model_name": "HBoxModel",
       "_view_count": null,
       "_view_module": "@jupyter-widgets/controls",
       "_view_module_version": "2.0.0",
       "_view_name": "HBoxView",
       "box_style": "",
       "children": [
        "IPY_MODEL_efc49d6436b940ad9839d4d352b69982",
        "IPY_MODEL_19603b66f1ce4bc58c310de28eaecbff",
        "IPY_MODEL_1b70e8e79a96458e86ca82db4bfff4ae"
       ],
       "layout": "IPY_MODEL_4ad8e58edd844595bc0034c4d9ce5d5e",
       "tabbable": null,
       "tooltip": null
      }
     },
     "44ebb08a6fb148759fb3cfc1aaa0df30": {
      "model_module": "@jupyter-widgets/controls",
      "model_module_version": "2.0.0",
      "model_name": "HTMLStyleModel",
      "state": {
       "_model_module": "@jupyter-widgets/controls",
       "_model_module_version": "2.0.0",
       "_model_name": "HTMLStyleModel",
       "_view_count": null,
       "_view_module": "@jupyter-widgets/base",
       "_view_module_version": "2.0.0",
       "_view_name": "StyleView",
       "background": null,
       "description_width": "",
       "font_size": null,
       "text_color": null
      }
     },
     "4ad8e58edd844595bc0034c4d9ce5d5e": {
      "model_module": "@jupyter-widgets/base",
      "model_module_version": "2.0.0",
      "model_name": "LayoutModel",
      "state": {
       "_model_module": "@jupyter-widgets/base",
       "_model_module_version": "2.0.0",
       "_model_name": "LayoutModel",
       "_view_count": null,
       "_view_module": "@jupyter-widgets/base",
       "_view_module_version": "2.0.0",
       "_view_name": "LayoutView",
       "align_content": null,
       "align_items": null,
       "align_self": null,
       "border_bottom": null,
       "border_left": null,
       "border_right": null,
       "border_top": null,
       "bottom": null,
       "display": null,
       "flex": null,
       "flex_flow": null,
       "grid_area": null,
       "grid_auto_columns": null,
       "grid_auto_flow": null,
       "grid_auto_rows": null,
       "grid_column": null,
       "grid_gap": null,
       "grid_row": null,
       "grid_template_areas": null,
       "grid_template_columns": null,
       "grid_template_rows": null,
       "height": null,
       "justify_content": null,
       "justify_items": null,
       "left": null,
       "margin": null,
       "max_height": null,
       "max_width": null,
       "min_height": null,
       "min_width": null,
       "object_fit": null,
       "object_position": null,
       "order": null,
       "overflow": null,
       "padding": null,
       "right": null,
       "top": null,
       "visibility": null,
       "width": null
      }
     },
     "7ec0eef0aaa0442b95b56d30e859be89": {
      "model_module": "@jupyter-widgets/base",
      "model_module_version": "2.0.0",
      "model_name": "LayoutModel",
      "state": {
       "_model_module": "@jupyter-widgets/base",
       "_model_module_version": "2.0.0",
       "_model_name": "LayoutModel",
       "_view_count": null,
       "_view_module": "@jupyter-widgets/base",
       "_view_module_version": "2.0.0",
       "_view_name": "LayoutView",
       "align_content": null,
       "align_items": null,
       "align_self": null,
       "border_bottom": null,
       "border_left": null,
       "border_right": null,
       "border_top": null,
       "bottom": null,
       "display": null,
       "flex": null,
       "flex_flow": null,
       "grid_area": null,
       "grid_auto_columns": null,
       "grid_auto_flow": null,
       "grid_auto_rows": null,
       "grid_column": null,
       "grid_gap": null,
       "grid_row": null,
       "grid_template_areas": null,
       "grid_template_columns": null,
       "grid_template_rows": null,
       "height": null,
       "justify_content": null,
       "justify_items": null,
       "left": null,
       "margin": null,
       "max_height": null,
       "max_width": null,
       "min_height": null,
       "min_width": null,
       "object_fit": null,
       "object_position": null,
       "order": null,
       "overflow": null,
       "padding": null,
       "right": null,
       "top": null,
       "visibility": null,
       "width": null
      }
     },
     "ce2e9d5790af438687be763d610d3dad": {
      "model_module": "@jupyter-widgets/controls",
      "model_module_version": "2.0.0",
      "model_name": "HTMLStyleModel",
      "state": {
       "_model_module": "@jupyter-widgets/controls",
       "_model_module_version": "2.0.0",
       "_model_name": "HTMLStyleModel",
       "_view_count": null,
       "_view_module": "@jupyter-widgets/base",
       "_view_module_version": "2.0.0",
       "_view_name": "StyleView",
       "background": null,
       "description_width": "",
       "font_size": null,
       "text_color": null
      }
     },
     "ec2a80811efd4a1696ec71e05c2b74fc": {
      "model_module": "@jupyter-widgets/base",
      "model_module_version": "2.0.0",
      "model_name": "LayoutModel",
      "state": {
       "_model_module": "@jupyter-widgets/base",
       "_model_module_version": "2.0.0",
       "_model_name": "LayoutModel",
       "_view_count": null,
       "_view_module": "@jupyter-widgets/base",
       "_view_module_version": "2.0.0",
       "_view_name": "LayoutView",
       "align_content": null,
       "align_items": null,
       "align_self": null,
       "border_bottom": null,
       "border_left": null,
       "border_right": null,
       "border_top": null,
       "bottom": null,
       "display": null,
       "flex": null,
       "flex_flow": null,
       "grid_area": null,
       "grid_auto_columns": null,
       "grid_auto_flow": null,
       "grid_auto_rows": null,
       "grid_column": null,
       "grid_gap": null,
       "grid_row": null,
       "grid_template_areas": null,
       "grid_template_columns": null,
       "grid_template_rows": null,
       "height": null,
       "justify_content": null,
       "justify_items": null,
       "left": null,
       "margin": null,
       "max_height": null,
       "max_width": null,
       "min_height": null,
       "min_width": null,
       "object_fit": null,
       "object_position": null,
       "order": null,
       "overflow": null,
       "padding": null,
       "right": null,
       "top": null,
       "visibility": null,
       "width": null
      }
     },
     "efc49d6436b940ad9839d4d352b69982": {
      "model_module": "@jupyter-widgets/controls",
      "model_module_version": "2.0.0",
      "model_name": "HTMLModel",
      "state": {
       "_dom_classes": [],
       "_model_module": "@jupyter-widgets/controls",
       "_model_module_version": "2.0.0",
       "_model_name": "HTMLModel",
       "_view_count": null,
       "_view_module": "@jupyter-widgets/controls",
       "_view_module_version": "2.0.0",
       "_view_name": "HTMLView",
       "description": "",
       "description_allow_html": false,
       "layout": "IPY_MODEL_7ec0eef0aaa0442b95b56d30e859be89",
       "placeholder": "​",
       "style": "IPY_MODEL_ce2e9d5790af438687be763d610d3dad",
       "tabbable": null,
       "tooltip": null,
       "value": "100%"
      }
     },
     "f4ce143ed0e4471180ff901815dfe382": {
      "model_module": "@jupyter-widgets/controls",
      "model_module_version": "2.0.0",
      "model_name": "ProgressStyleModel",
      "state": {
       "_model_module": "@jupyter-widgets/controls",
       "_model_module_version": "2.0.0",
       "_model_name": "ProgressStyleModel",
       "_view_count": null,
       "_view_module": "@jupyter-widgets/base",
       "_view_module_version": "2.0.0",
       "_view_name": "StyleView",
       "bar_color": null,
       "description_width": ""
      }
     }
    },
    "version_major": 2,
    "version_minor": 0
   }
  }
 },
 "nbformat": 4,
 "nbformat_minor": 5
}