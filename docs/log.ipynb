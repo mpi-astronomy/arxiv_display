{
 "cells": [
  {
   "cell_type": "markdown",
   "id": "92bcb855",
   "metadata": {
    "papermill": {
     "duration": 0.005034,
     "end_time": "2023-01-23T04:07:23.320259",
     "exception": false,
     "start_time": "2023-01-23T04:07:23.315225",
     "status": "completed"
    },
    "tags": []
   },
   "source": [
    "# MPIA Arxiv on Deck 2\n",
    "\n",
    "Contains the steps to produce the paper extractions."
   ]
  },
  {
   "cell_type": "code",
   "execution_count": 1,
   "id": "3a0d6e11",
   "metadata": {
    "execution": {
     "iopub.execute_input": "2023-01-23T04:07:23.329836Z",
     "iopub.status.busy": "2023-01-23T04:07:23.329546Z",
     "iopub.status.idle": "2023-01-23T04:07:23.517668Z",
     "shell.execute_reply": "2023-01-23T04:07:23.517007Z"
    },
    "papermill": {
     "duration": 0.194983,
     "end_time": "2023-01-23T04:07:23.519507",
     "exception": false,
     "start_time": "2023-01-23T04:07:23.324524",
     "status": "completed"
    },
    "tags": []
   },
   "outputs": [],
   "source": [
    "# Imports\n",
    "import os\n",
    "from IPython.display import Markdown, display\n",
    "from tqdm.notebook import tqdm\n",
    "import warnings\n",
    "from PIL import Image \n",
    "\n",
    "# requires arxiv_on_deck_2\n",
    "\n",
    "from arxiv_on_deck_2.arxiv2 import (get_new_papers, \n",
    "                                    get_paper_from_identifier,\n",
    "                                    retrieve_document_source, \n",
    "                                    get_markdown_badge)\n",
    "from arxiv_on_deck_2 import (latex, \n",
    "                             mpia,\n",
    "                             highlight_authors_in_list)\n",
    "\n",
    "# Sometimes images are really big\n",
    "Image.MAX_IMAGE_PIXELS = 1000000000 "
   ]
  },
  {
   "cell_type": "code",
   "execution_count": 2,
   "id": "22aa9d44",
   "metadata": {
    "execution": {
     "iopub.execute_input": "2023-01-23T04:07:23.529100Z",
     "iopub.status.busy": "2023-01-23T04:07:23.528846Z",
     "iopub.status.idle": "2023-01-23T04:07:23.534689Z",
     "shell.execute_reply": "2023-01-23T04:07:23.534100Z"
    },
    "papermill": {
     "duration": 0.012387,
     "end_time": "2023-01-23T04:07:23.536202",
     "exception": false,
     "start_time": "2023-01-23T04:07:23.523815",
     "status": "completed"
    },
    "tags": []
   },
   "outputs": [],
   "source": [
    "# Some useful definitions.\n",
    "\n",
    "class AffiliationWarning(UserWarning):\n",
    "    pass\n",
    "\n",
    "class AffiliationError(RuntimeError):\n",
    "    pass\n",
    "\n",
    "def validation(source: str):\n",
    "    \"\"\"Raises error paper during parsing of source file\n",
    "    \n",
    "    Allows checks before parsing TeX code.\n",
    "    \n",
    "    Raises AffiliationWarning\n",
    "    \"\"\"\n",
    "    check = mpia.affiliation_verifications(source, verbose=True)\n",
    "    if check is not True:\n",
    "        raise AffiliationError(\"mpia.affiliation_verifications: \" + check)\n",
    "\n",
    "        \n",
    "warnings.simplefilter('always', AffiliationWarning)"
   ]
  },
  {
   "cell_type": "code",
   "execution_count": 3,
   "id": "14622700",
   "metadata": {
    "execution": {
     "iopub.execute_input": "2023-01-23T04:07:23.545596Z",
     "iopub.status.busy": "2023-01-23T04:07:23.545011Z",
     "iopub.status.idle": "2023-01-23T04:07:23.548820Z",
     "shell.execute_reply": "2023-01-23T04:07:23.548209Z"
    },
    "papermill": {
     "duration": 0.010123,
     "end_time": "2023-01-23T04:07:23.550287",
     "exception": false,
     "start_time": "2023-01-23T04:07:23.540164",
     "status": "completed"
    },
    "tags": []
   },
   "outputs": [],
   "source": [
    "# additional CSS to consider. \n",
    "# TODO: Current into each exported file. \n",
    "#       This should be set once into the webpages directly.\n",
    "#       With only the class/id definitions in the .md files.\n",
    "\n",
    "debug_html = \"\"\"\n",
    "<style>\n",
    "#wrap{ overflow:auto; }\n",
    "#fig1{ background:yellow; width:100%; float:left; padding:5px;  }\n",
    "#fig2{ background:red; width:50%; float:left; clear:left; padding:5px;  }\n",
    "#fig3{ background:green; width:50%; float:left; padding:5px;   }\n",
    ".macros{ background:yellow; visibility:visible;}\n",
    "h1 {margin: 0 0 0 0;}\n",
    "mark {background-color:#fff3b6;}\n",
    "img {object-fit:contain; max-height:250px; display:inline-block; text-align: center;}\n",
    "</style>\n",
    "\"\"\" \n",
    "html = \"\"\"\n",
    "<style>\n",
    "#wrap{ overflow:auto; }\n",
    "#fig1{ width:100%; float:left; padding: 5px;  }\n",
    "#fig2{ width:50%; float:left; clear:left; padding: 5px;  }\n",
    "#fig3{ width:50%; float:left; padding: 5px;  }\n",
    ".macros{ visibility:hidden; height:0px; }\n",
    "h1 {margin: 0em 0 0 0;}\n",
    "mark {background-color:#fff3b6;}\n",
    "img {object-fit:contain; max-height:250px; display:inline-block; text-align: center;}\n",
    "</style>\n",
    "\"\"\""
   ]
  },
  {
   "cell_type": "markdown",
   "id": "14bd6310",
   "metadata": {
    "papermill": {
     "duration": 0.003925,
     "end_time": "2023-01-23T04:07:23.558157",
     "exception": false,
     "start_time": "2023-01-23T04:07:23.554232",
     "status": "completed"
    },
    "tags": []
   },
   "source": [
    "## get list of arxiv paper candidates\n",
    "\n",
    "We use the MPIA mitarbeiter list webpage from mpia.de to get author names\n",
    "We then get all new papers from Arxiv and match authors"
   ]
  },
  {
   "cell_type": "code",
   "execution_count": 4,
   "id": "2645e73a",
   "metadata": {
    "execution": {
     "iopub.execute_input": "2023-01-23T04:07:23.567440Z",
     "iopub.status.busy": "2023-01-23T04:07:23.566883Z",
     "iopub.status.idle": "2023-01-23T04:07:48.574217Z",
     "shell.execute_reply": "2023-01-23T04:07:48.572606Z"
    },
    "papermill": {
     "duration": 25.013753,
     "end_time": "2023-01-23T04:07:48.575921",
     "exception": false,
     "start_time": "2023-01-23T04:07:23.562168",
     "status": "completed"
    },
    "tags": []
   },
   "outputs": [
    {
     "name": "stdout",
     "output_type": "stream",
     "text": [
      "Arxiv has 45 new papers today\n",
      "          18 with possible author matches\n"
     ]
    }
   ],
   "source": [
    "# get list from MPIA website\n",
    "# it automatically filters identified non-scientists :func:`mpia.filter_non_scientists`\n",
    "mpia_authors = mpia.get_mpia_mitarbeiter_list()\n",
    "new_papers = get_new_papers()\n",
    "# add manual references\n",
    "add_paper_refs = []\n",
    "new_papers.extend([get_paper_from_identifier(k) for k in add_paper_refs])\n",
    "\n",
    "# select only papers with matching author names and highlight authors\n",
    "hl_list = [k[0] for k in mpia_authors]\n",
    "\n",
    "candidates = []\n",
    "for paperk in new_papers:\n",
    "    hl_authors = highlight_authors_in_list(paperk['authors'], hl_list)\n",
    "    matches = [(hl, orig) for hl, orig in zip(hl_authors, paperk['authors']) if 'mark' in hl]\n",
    "    paperk['authors'] = hl_authors\n",
    "    if matches:\n",
    "        candidates.append(paperk)\n",
    "print(\"\"\"Arxiv has {0:,d} new papers today\"\"\".format(len(new_papers)))        \n",
    "print(\"\"\"          {0:,d} with possible author matches\"\"\".format(len(candidates)))"
   ]
  },
  {
   "cell_type": "markdown",
   "id": "3543b34a",
   "metadata": {
    "papermill": {
     "duration": 0.004137,
     "end_time": "2023-01-23T04:07:48.584556",
     "exception": false,
     "start_time": "2023-01-23T04:07:48.580419",
     "status": "completed"
    },
    "tags": []
   },
   "source": [
    "# Parse sources and generate relevant outputs\n",
    "\n",
    "From the candidates, we do the following steps:\n",
    "* get their tarball from ArXiv (and extract data)\n",
    "* find the main .tex file: find one with \\documentclass{...} (sometimes it's non trivial)\n",
    "* Check affiliations with :func:`validation`, which uses :func:`mpia.affiliation_verifications`\n",
    "* If passing the affiliations: we parse the .tex source\n",
    "   * inject sub-documents into the main (flatten the main document)\n",
    "   * parse structure, extract information (title, abstract, authors, figures...)\n",
    "   * handles `\\graphicspath` if provided\n",
    "* Generate the .md document."
   ]
  },
  {
   "cell_type": "code",
   "execution_count": 5,
   "id": "9576b79e",
   "metadata": {
    "execution": {
     "iopub.execute_input": "2023-01-23T04:07:48.594311Z",
     "iopub.status.busy": "2023-01-23T04:07:48.593675Z",
     "iopub.status.idle": "2023-01-23T04:11:54.808154Z",
     "shell.execute_reply": "2023-01-23T04:11:54.807571Z"
    },
    "papermill": {
     "duration": 246.221603,
     "end_time": "2023-01-23T04:11:54.810197",
     "exception": false,
     "start_time": "2023-01-23T04:07:48.588594",
     "status": "completed"
    },
    "scrolled": false,
    "tags": []
   },
   "outputs": [
    {
     "data": {
      "application/vnd.jupyter.widget-view+json": {
       "model_id": "f6777efdfe13438b9f3f1d05b752db30",
       "version_major": 2,
       "version_minor": 0
      },
      "text/plain": [
       "  0%|          | 0/17 [00:00<?, ?it/s]"
      ]
     },
     "metadata": {},
     "output_type": "display_data"
    },
    {
     "name": "stdout",
     "output_type": "stream",
     "text": [
      "Retrieving document from  https://arxiv.org/e-print/2301.08258\n"
     ]
    },
    {
     "name": "stdout",
     "output_type": "stream",
     "text": [
      "extracting tarball to tmp_2301.08258..."
     ]
    },
    {
     "name": "stdout",
     "output_type": "stream",
     "text": [
      " done.\n",
      "Retrieving document from  https://arxiv.org/e-print/2301.08260\n"
     ]
    },
    {
     "name": "stdout",
     "output_type": "stream",
     "text": [
      "extracting tarball to tmp_2301.08260..."
     ]
    },
    {
     "name": "stdout",
     "output_type": "stream",
     "text": [
      " done.\n",
      "Retrieving document from  https://arxiv.org/e-print/2301.08263\n"
     ]
    },
    {
     "name": "stdout",
     "output_type": "stream",
     "text": [
      "extracting tarball to tmp_2301.08263..."
     ]
    },
    {
     "name": "stdout",
     "output_type": "stream",
     "text": [
      " done.\n",
      "Retrieving document from  https://arxiv.org/e-print/2301.08265\n"
     ]
    },
    {
     "name": "stdout",
     "output_type": "stream",
     "text": [
      "extracting tarball to tmp_2301.08265..."
     ]
    },
    {
     "name": "stdout",
     "output_type": "stream",
     "text": [
      " done.\n",
      "Retrieving document from  https://arxiv.org/e-print/2301.08271\n"
     ]
    },
    {
     "name": "stdout",
     "output_type": "stream",
     "text": [
      "extracting tarball to tmp_2301.08271..."
     ]
    },
    {
     "name": "stdout",
     "output_type": "stream",
     "text": [
      " done.\n",
      "Retrieving document from  https://arxiv.org/e-print/2301.08299\n"
     ]
    },
    {
     "name": "stdout",
     "output_type": "stream",
     "text": [
      "extracting tarball to tmp_2301.08299..."
     ]
    },
    {
     "name": "stdout",
     "output_type": "stream",
     "text": [
      " done.\n",
      "Retrieving document from  https://arxiv.org/e-print/2301.08310\n"
     ]
    },
    {
     "name": "stderr",
     "output_type": "stream",
     "text": [
      "/opt/hostedtoolcache/Python/3.9.16/x64/lib/python3.9/site-packages/IPython/core/interactiveshell.py:3442: LatexWarning: Multiple tex files.\n",
      "\n",
      "  exec(code_obj, self.user_global_ns, self.user_ns)\n",
      "/opt/hostedtoolcache/Python/3.9.16/x64/lib/python3.9/site-packages/IPython/core/interactiveshell.py:3442: LatexWarning: Found documentclass in tmp_2301.08299/main.tex\n",
      "\n",
      "  exec(code_obj, self.user_global_ns, self.user_ns)\n",
      "/opt/hostedtoolcache/Python/3.9.16/x64/lib/python3.9/site-packages/arxiv_on_deck_2/latex.py:292: LatexWarning: Latex injecting: 'supplement' from 'tmp_2301.08299/supplement.tex'\n",
      "  warnings.warn(LatexWarning(f\"Latex injecting: '{ext}' from '{subsource}'\"))\n"
     ]
    },
    {
     "name": "stdout",
     "output_type": "stream",
     "text": [
      "extracting tarball to tmp_2301.08310..."
     ]
    },
    {
     "name": "stdout",
     "output_type": "stream",
     "text": [
      " done.\n"
     ]
    },
    {
     "name": "stderr",
     "output_type": "stream",
     "text": [
      "/opt/hostedtoolcache/Python/3.9.16/x64/lib/python3.9/site-packages/IPython/core/interactiveshell.py:3442: LatexWarning: Multiple tex files.\n",
      "\n",
      "  exec(code_obj, self.user_global_ns, self.user_ns)\n",
      "/opt/hostedtoolcache/Python/3.9.16/x64/lib/python3.9/site-packages/IPython/core/interactiveshell.py:3442: LatexWarning: Found documentclass in tmp_2301.08310/ges.tex\n",
      "\n",
      "  exec(code_obj, self.user_global_ns, self.user_ns)\n",
      "/opt/hostedtoolcache/Python/3.9.16/x64/lib/python3.9/site-packages/arxiv_on_deck_2/latex.py:292: LatexWarning: Latex injecting: 'runaways' from 'tmp_2301.08310/runaways.tex'\n",
      "  warnings.warn(LatexWarning(f\"Latex injecting: '{ext}' from '{subsource}'\"))\n",
      "/opt/hostedtoolcache/Python/3.9.16/x64/lib/python3.9/site-packages/arxiv_on_deck_2/latex.py:292: LatexWarning: Latex injecting: 'bbinaries' from 'tmp_2301.08310/bbinaries.tex'\n",
      "  warnings.warn(LatexWarning(f\"Latex injecting: '{ext}' from '{subsource}'\"))\n",
      "/opt/hostedtoolcache/Python/3.9.16/x64/lib/python3.9/site-packages/arxiv_on_deck_2/latex.py:292: LatexWarning: Latex injecting: 'obinaries' from 'tmp_2301.08310/obinaries.tex'\n",
      "  warnings.warn(LatexWarning(f\"Latex injecting: '{ext}' from '{subsource}'\"))\n",
      "/opt/hostedtoolcache/Python/3.9.16/x64/lib/python3.9/site-packages/arxiv_on_deck_2/latex.py:292: LatexWarning: Latex injecting: 'six_members' from 'tmp_2301.08310/six_members.tex'\n",
      "  warnings.warn(LatexWarning(f\"Latex injecting: '{ext}' from '{subsource}'\"))\n",
      "/opt/hostedtoolcache/Python/3.9.16/x64/lib/python3.9/site-packages/arxiv_on_deck_2/latex.py:292: LatexWarning: Latex injecting: 'non_members' from 'tmp_2301.08310/non_members.tex'\n",
      "  warnings.warn(LatexWarning(f\"Latex injecting: '{ext}' from '{subsource}'\"))\n",
      "/opt/hostedtoolcache/Python/3.9.16/x64/lib/python3.9/site-packages/arxiv_on_deck_2/latex.py:292: LatexWarning: Latex injecting: 'table_A26' from 'tmp_2301.08310/table_A26.tex'\n",
      "  warnings.warn(LatexWarning(f\"Latex injecting: '{ext}' from '{subsource}'\"))\n",
      "/opt/hostedtoolcache/Python/3.9.16/x64/lib/python3.9/site-packages/arxiv_on_deck_2/latex.py:292: LatexWarning: Latex injecting: 'table_A25' from 'tmp_2301.08310/table_A25.tex'\n",
      "  warnings.warn(LatexWarning(f\"Latex injecting: '{ext}' from '{subsource}'\"))\n",
      "/opt/hostedtoolcache/Python/3.9.16/x64/lib/python3.9/site-packages/arxiv_on_deck_2/latex.py:292: LatexWarning: Latex injecting: 'table_A24' from 'tmp_2301.08310/table_A24.tex'\n",
      "  warnings.warn(LatexWarning(f\"Latex injecting: '{ext}' from '{subsource}'\"))\n",
      "/opt/hostedtoolcache/Python/3.9.16/x64/lib/python3.9/site-packages/arxiv_on_deck_2/latex.py:292: LatexWarning: Latex injecting: 'table_A23' from 'tmp_2301.08310/table_A23.tex'\n",
      "  warnings.warn(LatexWarning(f\"Latex injecting: '{ext}' from '{subsource}'\"))\n",
      "/opt/hostedtoolcache/Python/3.9.16/x64/lib/python3.9/site-packages/arxiv_on_deck_2/latex.py:292: LatexWarning: Latex injecting: 'table_A22' from 'tmp_2301.08310/table_A22.tex'\n",
      "  warnings.warn(LatexWarning(f\"Latex injecting: '{ext}' from '{subsource}'\"))\n",
      "/opt/hostedtoolcache/Python/3.9.16/x64/lib/python3.9/site-packages/arxiv_on_deck_2/latex.py:292: LatexWarning: Latex injecting: 'table_A21' from 'tmp_2301.08310/table_A21.tex'\n",
      "  warnings.warn(LatexWarning(f\"Latex injecting: '{ext}' from '{subsource}'\"))\n",
      "/opt/hostedtoolcache/Python/3.9.16/x64/lib/python3.9/site-packages/arxiv_on_deck_2/latex.py:292: LatexWarning: Latex injecting: 'table_A16' from 'tmp_2301.08310/table_A16.tex'\n",
      "  warnings.warn(LatexWarning(f\"Latex injecting: '{ext}' from '{subsource}'\"))\n",
      "/opt/hostedtoolcache/Python/3.9.16/x64/lib/python3.9/site-packages/arxiv_on_deck_2/latex.py:292: LatexWarning: Latex injecting: 'table_A15' from 'tmp_2301.08310/table_A15.tex'\n",
      "  warnings.warn(LatexWarning(f\"Latex injecting: '{ext}' from '{subsource}'\"))\n",
      "/opt/hostedtoolcache/Python/3.9.16/x64/lib/python3.9/site-packages/arxiv_on_deck_2/latex.py:292: LatexWarning: Latex injecting: 'table_A14' from 'tmp_2301.08310/table_A14.tex'\n",
      "  warnings.warn(LatexWarning(f\"Latex injecting: '{ext}' from '{subsource}'\"))\n",
      "/opt/hostedtoolcache/Python/3.9.16/x64/lib/python3.9/site-packages/arxiv_on_deck_2/latex.py:292: LatexWarning: Latex injecting: 'table_A13' from 'tmp_2301.08310/table_A13.tex'\n",
      "  warnings.warn(LatexWarning(f\"Latex injecting: '{ext}' from '{subsource}'\"))\n",
      "/opt/hostedtoolcache/Python/3.9.16/x64/lib/python3.9/site-packages/arxiv_on_deck_2/latex.py:292: LatexWarning: Latex injecting: 'table_A12' from 'tmp_2301.08310/table_A12.tex'\n",
      "  warnings.warn(LatexWarning(f\"Latex injecting: '{ext}' from '{subsource}'\"))\n",
      "/opt/hostedtoolcache/Python/3.9.16/x64/lib/python3.9/site-packages/arxiv_on_deck_2/latex.py:292: LatexWarning: Latex injecting: 'table_A11' from 'tmp_2301.08310/table_A11.tex'\n",
      "  warnings.warn(LatexWarning(f\"Latex injecting: '{ext}' from '{subsource}'\"))\n"
     ]
    },
    {
     "name": "stdout",
     "output_type": "stream",
     "text": [
      "Retrieving document from  https://arxiv.org/e-print/2301.08344\n"
     ]
    },
    {
     "name": "stdout",
     "output_type": "stream",
     "text": [
      "extracting tarball to tmp_2301.08344..."
     ]
    },
    {
     "name": "stdout",
     "output_type": "stream",
     "text": [
      " done.\n",
      "Retrieving document from  https://arxiv.org/e-print/2301.08463\n"
     ]
    },
    {
     "name": "stdout",
     "output_type": "stream",
     "text": [
      "extracting tarball to tmp_2301.08463..."
     ]
    },
    {
     "name": "stdout",
     "output_type": "stream",
     "text": [
      " done.\n",
      "Retrieving document from  https://arxiv.org/e-print/2301.08478\n"
     ]
    },
    {
     "name": "stdout",
     "output_type": "stream",
     "text": [
      "extracting tarball to tmp_2301.08478..."
     ]
    },
    {
     "name": "stdout",
     "output_type": "stream",
     "text": [
      " done.\n",
      "Retrieving document from  https://arxiv.org/e-print/2301.08492\n"
     ]
    },
    {
     "name": "stdout",
     "output_type": "stream",
     "text": [
      "extracting tarball to tmp_2301.08492..."
     ]
    },
    {
     "name": "stdout",
     "output_type": "stream",
     "text": [
      " done.\n",
      "Retrieving document from  https://arxiv.org/e-print/2301.08495\n"
     ]
    },
    {
     "name": "stdout",
     "output_type": "stream",
     "text": [
      "extracting tarball to tmp_2301.08495..."
     ]
    },
    {
     "name": "stdout",
     "output_type": "stream",
     "text": [
      " done.\n",
      "Retrieving document from  https://arxiv.org/e-print/2301.08497\n"
     ]
    },
    {
     "name": "stdout",
     "output_type": "stream",
     "text": [
      "extracting tarball to tmp_2301.08497..."
     ]
    },
    {
     "name": "stdout",
     "output_type": "stream",
     "text": [
      " done.\n",
      "Retrieving document from  https://arxiv.org/e-print/2301.08512\n"
     ]
    },
    {
     "name": "stdout",
     "output_type": "stream",
     "text": [
      "extracting tarball to tmp_2301.08512..."
     ]
    },
    {
     "name": "stdout",
     "output_type": "stream",
     "text": [
      " done.\n",
      "Retrieving document from  https://arxiv.org/e-print/2301.08640\n"
     ]
    },
    {
     "name": "stderr",
     "output_type": "stream",
     "text": [
      "/opt/hostedtoolcache/Python/3.9.16/x64/lib/python3.9/site-packages/IPython/core/interactiveshell.py:3442: LatexWarning: Multiple tex files.\n",
      "\n",
      "  exec(code_obj, self.user_global_ns, self.user_ns)\n",
      "/opt/hostedtoolcache/Python/3.9.16/x64/lib/python3.9/site-packages/IPython/core/interactiveshell.py:3442: LatexWarning: Found documentclass in tmp_2301.08512/natbib.tex\n",
      "\n",
      "  exec(code_obj, self.user_global_ns, self.user_ns)\n"
     ]
    },
    {
     "name": "stdout",
     "output_type": "stream",
     "text": [
      "extracting tarball to tmp_2301.08640..."
     ]
    },
    {
     "name": "stdout",
     "output_type": "stream",
     "text": [
      " done.\n",
      "Retrieving document from  https://arxiv.org/e-print/2301.08673\n"
     ]
    },
    {
     "name": "stdout",
     "output_type": "stream",
     "text": [
      "extracting tarball to tmp_2301.08673..."
     ]
    },
    {
     "name": "stdout",
     "output_type": "stream",
     "text": [
      " done.\n",
      "Retrieving document from  https://arxiv.org/e-print/2301.08692\n"
     ]
    },
    {
     "name": "stdout",
     "output_type": "stream",
     "text": [
      "extracting tarball to tmp_2301.08692..."
     ]
    },
    {
     "name": "stdout",
     "output_type": "stream",
     "text": [
      " done.\n"
     ]
    }
   ],
   "source": [
    "documents = []\n",
    "failed = []\n",
    "for paper in tqdm(candidates[:-1]):\n",
    "    paper_id = paper['identifier'].lower().replace('arxiv:', '')\n",
    "    \n",
    "    folder = f'tmp_{paper_id}'\n",
    "\n",
    "    try:\n",
    "        if not os.path.isdir(folder):\n",
    "            folder = retrieve_document_source(f\"{paper_id}\", f'tmp_{paper_id}')\n",
    "        \n",
    "        try:\n",
    "            doc = latex.LatexDocument(folder, validation=validation)    \n",
    "        except AffiliationError as affilerror:\n",
    "            msg = f\"ArXiv:{paper_id:s} is not an MPIA paper... \" + str(affilerror)\n",
    "            failed.append((paper, \"affiliation error: \" + str(affilerror) ))\n",
    "            continue\n",
    "        \n",
    "        # Hack because sometimes author parsing does not work well\n",
    "        if (len(doc.authors) != len(paper['authors'])):\n",
    "            doc._authors = paper['authors']\n",
    "        if (doc.abstract) in (None, ''):\n",
    "            doc._abstract = paper['abstract']\n",
    "            \n",
    "        doc.comment = (get_markdown_badge(paper_id) + \n",
    "                       \"<mark>Appeared on: \" + paper['date'] + \"</mark> - \" +\n",
    "                       \"_\" + paper['comments'] + \"_\")\n",
    "        doc.highlight_authors_in_list(hl_list)\n",
    "\n",
    "        full_md = doc.generate_markdown_text()\n",
    "        \n",
    "        documents.append((paper_id, full_md))\n",
    "    except Exception as e:\n",
    "        warnings.warn(latex.LatexWarning(f\"{paper_id:s} did not run properly\\n\" +\n",
    "                                         str(e)\n",
    "                                        ))\n",
    "        failed.append((paper, \"latex error \" + str(e)))"
   ]
  },
  {
   "cell_type": "markdown",
   "id": "2505a25c",
   "metadata": {
    "papermill": {
     "duration": 0.006153,
     "end_time": "2023-01-23T04:11:54.822699",
     "exception": false,
     "start_time": "2023-01-23T04:11:54.816546",
     "status": "completed"
    },
    "tags": []
   },
   "source": [
    "### Export the logs\n",
    "\n",
    "Throughout, we also keep track of the logs per paper. see `logs-{today date}.md` "
   ]
  },
  {
   "cell_type": "code",
   "execution_count": 6,
   "id": "d733828a",
   "metadata": {
    "execution": {
     "iopub.execute_input": "2023-01-23T04:11:54.836705Z",
     "iopub.status.busy": "2023-01-23T04:11:54.836136Z",
     "iopub.status.idle": "2023-01-23T04:11:54.861996Z",
     "shell.execute_reply": "2023-01-23T04:11:54.861270Z"
    },
    "papermill": {
     "duration": 0.034666,
     "end_time": "2023-01-23T04:11:54.863511",
     "exception": false,
     "start_time": "2023-01-23T04:11:54.828845",
     "status": "completed"
    },
    "scrolled": false,
    "tags": []
   },
   "outputs": [
    {
     "data": {
      "text/markdown": [
       "## Successful papers"
      ],
      "text/plain": [
       "<IPython.core.display.Markdown object>"
      ]
     },
     "metadata": {},
     "output_type": "display_data"
    },
    {
     "data": {
      "text/markdown": [
       "\n",
       "|||\n",
       "|---:|:---|\n",
       "| [![arXiv](https://img.shields.io/badge/arXiv-arXiv:2301.08310-b31b1b.svg)](https://arxiv.org/abs/arXiv:2301.08310) | **Gaia-ESO Survey: massive stars in the Carina Nebula. A new census of OB  stars**  |\n",
       "|| S. R. Berlanas, et al. -- incl., <mark>A. Herrero</mark>, <mark>L. Mahy</mark>, <mark>M. Bergemann</mark> |\n",
       "|*Appeared on*| *2023-01-23*|\n",
       "|*Comments*| *Accepted for publication in A&A, 62 pages, 8 figures*|\n",
       "|**Abstract**| The Gaia-ESO survey sample of massive OB stars in the Carina Nebula consists of 234 stars. The addition of brighter sources from the Galactic O-Star Spectroscopic Survey and additional sources from the literature allows us to create the most complete census of massive OB stars done so far in the region. It contains a total of 316 stars, being 18 of them in the background and four in the foreground. Of the 294 stellar systems in Car OB1, 74 are of O type, 214 are of non-supergiant B type and 6 are of WR or non-O supergiant (II to Ia) spectral class. We identify 20 spectroscopic binary systems with an O-star primary, of which 6 are reported for the first time, and another 18 with a B-star primary, of which 13 are new detections. The average observed double-lined binary fraction of O-type stars in the surveyed region is 0.35, which represents a lower limit. We find a good correlation between the spectroscopic n-qualifier and the projected rotational velocity of the stars. The fraction of candidate runaways among the stars with and without the n-qualifier is 4.4% and 2.4%, respectively, although non resolved double-lined binaries can be contaminating the fast rotators sample. |"
      ],
      "text/plain": [
       "[arXiv:2301.08310] Gaia-ESO Survey: massive stars in the Carina Nebula. A new census of OB  stars\n",
       "\tS. R. Berlanas, et al. -- incl., <mark>A. Herrero</mark>, <mark>L. Mahy</mark>, <mark>M. Bergemann</mark>"
      ]
     },
     "metadata": {},
     "output_type": "display_data"
    },
    {
     "data": {
      "text/markdown": [
       "## Failed papers"
      ],
      "text/plain": [
       "<IPython.core.display.Markdown object>"
      ]
     },
     "metadata": {},
     "output_type": "display_data"
    },
    {
     "data": {
      "text/markdown": [
       "\n",
       "|||\n",
       "|---:|:---|\n",
       "| [![arXiv](https://img.shields.io/badge/arXiv-arXiv:2301.08258-b31b1b.svg)](https://arxiv.org/abs/arXiv:2301.08258) | **Towards Robust Atmospheric Retrieval on Cloudy L Dwarfs: The Impact of  Thermal and Abundance Profile Assumptions**  |\n",
       "|| Melanie Rowland, Caroline Morley, <mark>Michael Line</mark> |\n",
       "|*Appeared on*| *2023-01-23*|\n",
       "|*Comments*| *20 pages, 12 figures, 5 tables, submitted to ApJ*|\n",
       "|**Abstract**| Constraining L dwarf properties from their spectra is challenging. Near-infrared spectra probe a limited range of pressures, while many species condense within their photospheres. Condensation creates two complexities: gas-phase species \"rain out\" (decreasing in abundances by many orders of magnitude) and clouds form. We designed tests using synthetic data to determine the best approach for retrieving L dwarf spectra, isolating the challenges in the absence of cloud opacity. We conducted atmospheric retrievals on synthetic cloud-free L dwarf spectra derived from the Sonora Bobcat models at SpeX resolution using a variety of thermal and chemical abundance profile parameterizations. For objects hotter than L5 (T$_{eff}$ ~ 1700 K), the limited pressure layers probed in the near-IR are mostly convective; parameterized PT profiles bias results and free, unsmoothed profiles should be used. Only when many layers both above and below the radiative-convective boundary are probed can parameterized profiles provide accurate results. Furthermore, a nonuniform abundance profile for iron hydride (FeH) is needed to accurately retrieve bulk properties of early- to mid- L dwarfs. Nonuniform prescriptions for other gases in near-IR retrievals may also be warranted near the L/T transition (CH$_{4}$) and early Y dwarfs (Na and K). We demonstrate the utility of using realistic self-consistent models to benchmark retrievals and suggest how they can be used in the future. |\n",
       "|<p style=\"color:green\"> **ERROR** </p>| <p style=\"color:green\">affiliation error: mpia.affiliation_verifications: 'Heidelberg' keyword not found.</p> |"
      ],
      "text/plain": [
       "<IPython.core.display.Markdown object>"
      ]
     },
     "metadata": {},
     "output_type": "display_data"
    },
    {
     "data": {
      "text/markdown": [
       "\n",
       "|||\n",
       "|---:|:---|\n",
       "| [![arXiv](https://img.shields.io/badge/arXiv-arXiv:2301.08260-b31b1b.svg)](https://arxiv.org/abs/arXiv:2301.08260) | **$S_8$ Tension in the Context of Dark Matter-Baryon Scattering**  |\n",
       "|| <mark>Adam He</mark>, Mikhail M. Ivanov, Rui An, Vera Gluscevic |\n",
       "|*Appeared on*| *2023-01-23*|\n",
       "|*Comments*| *21 pages, 10 figures, submitted to PRL*|\n",
       "|**Abstract**| We explore the concordance of cosmological data in the context of dark matter (DM) that interacts with baryons. Using the effective theory of large-scale structure, we perform the first analysis of galaxy clustering data for this scenario and find a mild $\\sim 3\\sigma$ preference for velocity-independent DM-baryon scattering, assuming 10% of DM is interacting. Our results indicate that a broad power suppression on small scales is a generic feature that may help resolve $S_8$ tension between cosmological data sets. The validity of this interacting DM model will be critically tested with incoming survey data. |\n",
       "|<p style=\"color:green\"> **ERROR** </p>| <p style=\"color:green\">affiliation error: mpia.affiliation_verifications: 'Heidelberg' keyword not found.</p> |"
      ],
      "text/plain": [
       "<IPython.core.display.Markdown object>"
      ]
     },
     "metadata": {},
     "output_type": "display_data"
    },
    {
     "data": {
      "text/markdown": [
       "\n",
       "|||\n",
       "|---:|:---|\n",
       "| [![arXiv](https://img.shields.io/badge/arXiv-arXiv:2301.08263-b31b1b.svg)](https://arxiv.org/abs/arXiv:2301.08263) | **What Causes The Formation of Disks and End of Bursty Star Formation?**  |\n",
       "|| Philip F. Hopkins, et al. -- incl., <mark>Andrew Wetzel</mark> |\n",
       "|*Appeared on*| *2023-01-23*|\n",
       "|*Comments*| *Submitted to MNRAS. 44 pages, 32 figures. Comments welcome*|\n",
       "|**Abstract**| As they grow, galaxies can transition from irregular/spheroidal with 'bursty' star formation histories (SFHs), to disky with smooth SFHs. But even in simulations, the direct physical cause of such transitions remains unclear. We therefore explore this in a large suite of numerical experiments re-running portions of cosmological simulations with widely varied physics, further validated with existing FIRE simulations. We show that gas supply, cooling/thermodynamics, star formation model, Toomre scale, galaxy dynamical times, and feedback properties do not have a direct causal effect on these transitions. Rather, both the formation of disks and cessation of bursty star formation are driven by the gravitational potential, but in different ways. Disk formation is promoted when the mass profile becomes sufficiently centrally-concentrated in shape (relative to circularization radii): we show that this provides a well-defined dynamical center, ceases to support the global 'breathing modes' which can persist indefinitely in less-concentrated profiles and efficiently destroy disks, promotes orbit mixing to form a coherent angular momentum, and stabilizes the disk. Smooth SF is promoted by the potential or escape velocity (not circular velocity) becoming sufficiently large at the radii of star formation that cool, mass-loaded (momentum-conserving) outflows are trapped/confined near the galaxy, as opposed to escaping after bursts. We discuss the detailed physics, how these conditions arise in cosmological contexts, their relation to other correlated phenomena (e.g. inner halo virialization, vertical disk 'settling'), and observations. |\n",
       "|<p style=\"color:green\"> **ERROR** </p>| <p style=\"color:green\">affiliation error: mpia.affiliation_verifications: 'Heidelberg' keyword not found.</p> |"
      ],
      "text/plain": [
       "<IPython.core.display.Markdown object>"
      ]
     },
     "metadata": {},
     "output_type": "display_data"
    },
    {
     "data": {
      "text/markdown": [
       "\n",
       "|||\n",
       "|---:|:---|\n",
       "| [![arXiv](https://img.shields.io/badge/arXiv-arXiv:2301.08271-b31b1b.svg)](https://arxiv.org/abs/arXiv:2301.08271) | **A Stability Timescale for Non-Hierarchical Three-Body Systems**  |\n",
       "|| <mark>Eric Zhang</mark>, Smadar Naoz, Clifford M. Will |\n",
       "|*Appeared on*| *2023-01-23*|\n",
       "|*Comments*| *16 pages, 8 figures*|\n",
       "|**Abstract**| The gravitational three-body problem is a fundamental problem in physics and has significant applications to astronomy. Three-body configurations are often considered stable as long the system is hierarchical; that is, the two orbital distances are well-separated. However, instability, which is often associated with significant energy exchange between orbits, takes time to develop. Assuming two massive objects in a circular orbit and a test particle in an eccentric orbit, we develop an analytical formula estimating the time it takes for the test particle's orbital energy to change by an order of itself. We show its consistency with results from N-body simulations. For eccentric orbits in particular, the instability is primarily driven not by close encounters of the test particle with one of the other bodies, but by the fundamental susceptibility of eccentric orbits to exchange energy at their periapsis. Motivated by recent suggestions that the galactic center may host an intermediate-mass black hole (IMBH) as a companion to the massive black hole Sgr A*, we use our timescale to explore the parameter space that could harbor an IMBH for the lifetime of the S-cluster of stars surrounding Sgr A*. Furthermore, we show that the orbit of an S-star can be stable for long timescales in the presence of other orbital crossing stars, thus suggesting that the S-cluster may be stable for the lifetimes of its member stars. |\n",
       "|<p style=\"color:green\"> **ERROR** </p>| <p style=\"color:green\">affiliation error: mpia.affiliation_verifications: 'Heidelberg' keyword not found.</p> |"
      ],
      "text/plain": [
       "<IPython.core.display.Markdown object>"
      ]
     },
     "metadata": {},
     "output_type": "display_data"
    },
    {
     "data": {
      "text/markdown": [
       "\n",
       "|||\n",
       "|---:|:---|\n",
       "| [![arXiv](https://img.shields.io/badge/arXiv-arXiv:2301.08299-b31b1b.svg)](https://arxiv.org/abs/arXiv:2301.08299) | **Can Neutrino Self-interactions Save Sterile Neutrino Dark Matter?**  |\n",
       "|| Rui An, Vera Gluscevic, Ethan O. Nadler, <mark>Yue Zhang</mark> |\n",
       "|*Appeared on*| *2023-01-23*|\n",
       "|*Comments*| *9 pages, 5 figures, comments are welcome*|\n",
       "|**Abstract**| Sterile neutrinos only interact with the Standard Model through the neutrino sector, and thus represent a simple dark matter (DM) candidate with many potential astrophysical and cosmological signatures. Recently, sterile neutrinos produced through self-interactions of active neutrinos have received attention as a particle candidate that can yield the entire observed DM relic abundance without violating the most stringent constraints from X-ray observations. We examine consistency of this production mechanism with the abundance of small-scale structure in the universe, as captured by the population of ultra-faint dwarf galaxies orbiting the Milky Way, and derive a lower bound on the sterile-neutrino particle mass of $37.2$ keV. Combining these results with previous limits from particle physics and astrophysics excludes $100\\%$ sterile neutrino DM produced by strong neutrino self-coupling, mediated by a heavy ($\\gtrsim 1~\\mathrm{GeV}$) scalar particle; however, data permits sterile-neutrino DM production via a light mediator. |\n",
       "|<p style=\"color:green\"> **ERROR** </p>| <p style=\"color:green\">affiliation error: mpia.affiliation_verifications: 'Heidelberg' keyword not found.</p> |"
      ],
      "text/plain": [
       "<IPython.core.display.Markdown object>"
      ]
     },
     "metadata": {},
     "output_type": "display_data"
    },
    {
     "data": {
      "text/markdown": [
       "\n",
       "|||\n",
       "|---:|:---|\n",
       "| [![arXiv](https://img.shields.io/badge/arXiv-arXiv:2301.08344-b31b1b.svg)](https://arxiv.org/abs/arXiv:2301.08344) | **On the cusp of cusps: a universal model for extreme scattering events in  the ISM**  |\n",
       "|| Dylan L. Jow, <mark>Ue-Li Pen</mark>, Daniel Baker |\n",
       "|*Appeared on*| *2023-01-23*|\n",
       "|*Comments*| *10 pages, 10 figures*|\n",
       "|**Abstract**| The scattering structures in the ISM responsible for so-called ``extreme scattering events\" (ESEs), observed in quasars and pulsars, remain enigmatic. Current models struggle to explain the high-frequency light curves of ESEs, and a recent analysis of a double lensing event in PSR\\,B0834+06 reveals features of ESEs that may also be challenging to accommodate via existing models. We propose that these features arise naturally when the lens has a cusp-like profile, described by the elementary $A_3$ cusp catastrophe. This is an extension of previous work describing pulsar scintillation as arising from $A_2$ fold catastrophes in thin, corrugated plasma sheets along the line of sight. We call this framework of describing the lens potentials via elementary catastrophes ``doubly catastrophic lensing\", as catastrophes (e.g. folds and cusps) have long been used to describe universal features in the light curves of lensing events that generically manifest, regardless of the precise details of the lens. Here, we argue that the lenses themselves may be described by these same elementary structures. If correct, the doubly catastrophic lensing framework would provide a unified description of scintillation and ESEs, where the lenses responsible for these scattering phenomena are universal and can be fully described by a small number of unfolding parameters. This could enable their application as giant cosmic lenses for precision measurements of coherent sources, including FRBs and pulsars. |\n",
       "|<p style=\"color:green\"> **ERROR** </p>| <p style=\"color:green\">affiliation error: mpia.affiliation_verifications: 'Heidelberg' keyword not found.</p> |"
      ],
      "text/plain": [
       "<IPython.core.display.Markdown object>"
      ]
     },
     "metadata": {},
     "output_type": "display_data"
    },
    {
     "data": {
      "text/markdown": [
       "\n",
       "|||\n",
       "|---:|:---|\n",
       "| [![arXiv](https://img.shields.io/badge/arXiv-arXiv:2301.08463-b31b1b.svg)](https://arxiv.org/abs/arXiv:2301.08463) | **Alfvén wave experiments with liquid rubidium in a pulsed magnetic  field**  |\n",
       "|| Th. Gundrum, et al. -- incl., <mark>Th. Herrmannsdörfer</mark> |\n",
       "|*Appeared on*| *2023-01-23*|\n",
       "|*Comments*| *7 pages, 4 figures*|\n",
       "|**Abstract**| Magnetic fields are key ingredients for heating the solar corona to temperatures of several million Kelvin. A particularly important region with respect to this is the so-called magnetic canopy below the corona, where sound and Alfv\\'en waves have roughly the same speed and can, therefore, easily transform into each other. We present the results of an Alfv\\'en-wave experiment with liquid rubidium carried out in a pulsed field of up to 63 T. At the critical point of 54 T, where the speeds of Alfv\\'en waves and sound coincide, a new 4 kHz signal appears in addition to the externally excited 8 kHz torsional wave. This emergence of an Alfv\\'en wave with a doubled period is in agreement with the theoretical predictions of a parametric resonance between the two wave types. We also present preliminary results from numerical simulations of Alfv\\'en and magneto-sonic waves using a compressible MHD code. |\n",
       "|<p style=\"color:green\"> **ERROR** </p>| <p style=\"color:green\">affiliation error: mpia.affiliation_verifications: 'Heidelberg' keyword not found.</p> |"
      ],
      "text/plain": [
       "<IPython.core.display.Markdown object>"
      ]
     },
     "metadata": {},
     "output_type": "display_data"
    },
    {
     "data": {
      "text/markdown": [
       "\n",
       "|||\n",
       "|---:|:---|\n",
       "| [![arXiv](https://img.shields.io/badge/arXiv-arXiv:2301.08478-b31b1b.svg)](https://arxiv.org/abs/arXiv:2301.08478) | **Interaction between the turbulent solar wind and a planetary  magnetosphere: a 2D comet example**  |\n",
       "|| Behar Etienne, <mark>Henri Pierre</mark> |\n",
       "|*Appeared on*| *2023-01-23*|\n",
       "|*Comments*| **|\n",
       "|**Abstract**| Using the newly developed code \\emph{Menura}, we present the first global picture of the interaction between a turbulent solar wind and a planetary obstacle in our solar system, namely a comet. This first publication aims at shedding lights on the macroscopic effect of the upstream solar wind turbulence on the induced magnetosphere of a comet. Using a hybrid Particle In Cell simulation code, we model a medium activity comet, using both a turbulent and a laminar solar wind input, for a direct comparison between the two regimes. We show how the turbulent characteristics of the solar wind lead to a smaller obstacle size. We then present how the upstream turbulent structures, traced by the perpendicular magnetic field fluctuations absent in the laminar case, self-consistently drape and pile-up around the denser inner coma, forming intense plasmoids downstream of the nucleus, pulling away dense cometary ion bubbles. This pseudo-periodic erosion phenomenon re-channels the global cometary ion escape and as a result, the innermost coma is found to be on average 45\\% less dense in the turbulent case than predicted by simulating a laminar upstream flow. |\n",
       "|<p style=\"color:green\"> **ERROR** </p>| <p style=\"color:green\">affiliation error: mpia.affiliation_verifications: 'Heidelberg' keyword not found.</p> |"
      ],
      "text/plain": [
       "<IPython.core.display.Markdown object>"
      ]
     },
     "metadata": {},
     "output_type": "display_data"
    },
    {
     "data": {
      "text/markdown": [
       "\n",
       "|||\n",
       "|---:|:---|\n",
       "| [![arXiv](https://img.shields.io/badge/arXiv-arXiv:2301.08492-b31b1b.svg)](https://arxiv.org/abs/arXiv:2301.08492) | **WASP-39b: exo-Saturn with patchy cloud composition, moderate  metallicity, and underdepleted S/O**  |\n",
       "|| Ludmila Carone, et al. -- incl., <mark>David A. Lewis</mark>, <mark>Christiane Helling</mark> |\n",
       "|*Appeared on*| *2023-01-23*|\n",
       "|*Comments*| *21 pages, 18 figures, submitted to A&A on 22. November 2022, in review since 8. December 2022*|\n",
       "|**Abstract**| WASP-39b is one of the first extrasolar giant gas planets that has been observed within the JWST ERS program. Fundamental properties that may enable the link to exoplanet formation differ amongst retrieval methods, for example metallicity and mineral ratios. In this work, the formation of clouds in the atmosphere of WASP-39b is explored to investigate how inhomogeneous cloud properties (particle sizes, material composition, opacity) may be for this intermediately warm gaseous exoplanet. WASP-39b's atmosphere has a comparable day-night temperature median with sufficiently low temperatures that clouds may form globally. The presence of clouds on WASP-39b can explain observations without resorting to a high (> 100x solar) metallicity atmosphere for a reduced vertical mixing efficiency. The assessment of mineral ratios shows an under-depletion of S/O due to condensation compared to C/O, Mg/O, Si/O, Fe/O ratios. Vertical patchiness due to heterogeneous cloud composition challenges simple cloud models. An equal mixture of silicates and metal oxides is expected to characterise the cloud top. Further, optical properties of Fe and Mg silicates in the mid-infrared differ significantly which will impact the interpretation of JWST observations. We conclude that WASP-39b's atmosphere contains clouds and the underdepletion of S/O by atmospheric condensation processes suggest the use of sulphur gas species as a possible link to primordial element abundances. Over-simplified cloud models do not capture the complex nature of mixed-condensate clouds in exoplanet atmospheres. The clouds in the observable upper atmosphere of WASP-39b are a mixture of different silicates and metal oxides. The use of constant particles sizes and/or one-material cloud particles alone to interpret spectra may not be sufficient to capture the full complexity available through JWST observations. |\n",
       "|<p style=\"color:green\"> **ERROR** </p>| <p style=\"color:green\">affiliation error: mpia.affiliation_verifications: 'Heidelberg' keyword not found.</p> |"
      ],
      "text/plain": [
       "<IPython.core.display.Markdown object>"
      ]
     },
     "metadata": {},
     "output_type": "display_data"
    },
    {
     "data": {
      "text/markdown": [
       "\n",
       "|||\n",
       "|---:|:---|\n",
       "| [![arXiv](https://img.shields.io/badge/arXiv-arXiv:2301.08495-b31b1b.svg)](https://arxiv.org/abs/arXiv:2301.08495) | **Magnetic Helicity and Free Magnetic Energy as Tools to Probe Eruptions  in two Differently Evolving Solar Active Regions**  |\n",
       "|| <mark>E. Liokati</mark>, A. Nindos, M. K. Georgoulis |\n",
       "|*Appeared on*| *2023-01-23*|\n",
       "|*Comments*| *17 pages, 11 figures, accepted for publication in Astronomy & Astrophysics (abbreviated abstract)*|\n",
       "|**Abstract**| Using vector magnetograms from the HMI/SDO and a magnetic connectivity-based method, we calculate the instantaneous relative magnetic helicity and free magnetic energy budgets for several days in two solar active regions (ARs), AR11890 and AR11618, both with complex photospheric magnetic field configurations. The ARs produced several major eruptive flares while their photospheric magnetic field exhibited primarily flux decay in AR11890 and primarily flux emergence in AR11618. Throughout much of their evolution both ARs featured substantial budgets of free magnetic energy and of both positive and negative helicity. In fact, the imbalance between the signed components of their helicity was as low as in the quiet Sun and their net helicity eventually changed sign 14-19 hours after their last major flare. Despite such incoherence, the eruptions occurred at times of net helicity peaks that were co-temporal with peaks in the free magnetic energy. The losses associated with the eruptive flares in the normalized free magnetic energy were in the range 10-60%. For the helicity, changes ranged from 25% to the removal of the entire excess helicity of the prevailing sign, leading a roughly zero net helicity, but with significant equal and opposite budgets of both helicity senses. The removal of the slowly varying background component of the free energy and helicity timeseries revealed that all eruption-related peaks of both quantities exceeded the 2$\\sigma$ levels of their detrended timeseries. There was no eruption when only one or none of these quantities exceeded its 2$\\sigma$ level. Our results indicate that differently evolving ARs may produce major eruptive flares even when, in addition to the accumulation of significant free magnetic energy budgets, they accumulate large amounts of both negative and positive helicity without a strong dominance of one handedness over the other. |\n",
       "|<p style=\"color:green\"> **ERROR** </p>| <p style=\"color:green\">affiliation error: mpia.affiliation_verifications: 'Heidelberg' keyword not found.</p> |"
      ],
      "text/plain": [
       "<IPython.core.display.Markdown object>"
      ]
     },
     "metadata": {},
     "output_type": "display_data"
    },
    {
     "data": {
      "text/markdown": [
       "\n",
       "|||\n",
       "|---:|:---|\n",
       "| [![arXiv](https://img.shields.io/badge/arXiv-arXiv:2301.08497-b31b1b.svg)](https://arxiv.org/abs/arXiv:2301.08497) | **Hierarchical Classification of Variable Stars Using Deep Convolutional  Neural Networks**  |\n",
       "|| <mark>Mahdi Abdollahi</mark>, Nooshin Torabi, Sadegh Raeisi, Sohrab Rahvar |\n",
       "|*Appeared on*| *2023-01-23*|\n",
       "|*Comments*| *15 pages, 6 figures*|\n",
       "|**Abstract**| The importance of using fast and automatic methods to classify variable stars for large amounts of data is undeniable. There have been many attempts to classify variable stars by traditional algorithms like Random Forest. In recent years, neural networks as classifiers have come to notice because of their lower computational cost compared to traditional algorithms. This paper uses the Hierarchical Classification technique, which contains two main steps of predicting class and then subclass of stars. All the models in both steps have same network structure and we test both Convolutional Neural Networks (CNN) and Recurrent Neural Networks (RNN). Our pre-processing method uses light curves and period of stars as input data. We consider most of the classes and subclasses of variable stars in OGLE-IV database and show that using Hierarchical Classification technique and designing appropriate preprocessing can increase accuracy of predicting smaller classes, ACep and T2Cep. We obtain an accuracy of 98% for class classification and 93% for subclasses classification. |\n",
       "|<p style=\"color:green\"> **ERROR** </p>| <p style=\"color:green\">affiliation error: mpia.affiliation_verifications: 'Heidelberg' keyword not found.</p> |"
      ],
      "text/plain": [
       "<IPython.core.display.Markdown object>"
      ]
     },
     "metadata": {},
     "output_type": "display_data"
    },
    {
     "data": {
      "text/markdown": [
       "\n",
       "|||\n",
       "|---:|:---|\n",
       "| [![arXiv](https://img.shields.io/badge/arXiv-arXiv:2301.08512-b31b1b.svg)](https://arxiv.org/abs/arXiv:2301.08512) | **A Unified Model for Bipolar Outflows from Young Stars: Apparent Magnetic  Jet Acceleration**  |\n",
       "|| Hsien Shang, Ruben Krasnopolsky, <mark>Chun-Fan Liu</mark> |\n",
       "|*Appeared on*| *2023-01-23*|\n",
       "|*Comments*| *21 pages, 8 figures, 1 table, to appear in Astrophysical Journal Letters (2023)*|\n",
       "|**Abstract**| We explore a new, efficient mechanism that can power toroidally magnetized jets up to two to three times their original terminal velocity after they enter a self-similar phase of magnetic acceleration. Underneath the elongated outflow lobe formed by a magnetized bubble, a wide-angle free wind, through the interplay with its ambient toroid, is compressed and accelerated around its axial jet. The extremely magnetic bubble can inflate over its original size, depending on the initial Alfv\\'en Mach number $M_A$ of the launched flow. The shape-independent slope $\\partial{}v_r/\\partial{}r=2/3t$ is a salient feature of the self-similarity in the acceleration phase. Peculiar kinematic signatures are observable in the position--velocity (PV) diagrams and can combine with other morphological signatures as probes for the density-collimated jets arising in toroidally dominated magnetized winds. The apparent second acceleration is powered by the decrease of the toroidal magnetic field but operates far beyond the scales of the primary magnetocentrifugal launch region and the free asymptotic terminal state. Rich implications may connect the jets arising from the youngest protostellar outflows such as HH 211 and HH 212 and similar systems with parsec-scale jets across the mass and evolutionary spectra. |\n",
       "|<p style=\"color:green\"> **ERROR** </p>| <p style=\"color:green\">affiliation error: mpia.affiliation_verifications: 'Heidelberg' keyword not found.</p> |"
      ],
      "text/plain": [
       "<IPython.core.display.Markdown object>"
      ]
     },
     "metadata": {},
     "output_type": "display_data"
    },
    {
     "data": {
      "text/markdown": [
       "\n",
       "|||\n",
       "|---:|:---|\n",
       "| [![arXiv](https://img.shields.io/badge/arXiv-arXiv:2301.08673-b31b1b.svg)](https://arxiv.org/abs/arXiv:2301.08673) | **Disintegration of Long-Period Comet C/2021 A1 (Leonard)**  |\n",
       "|| David Jewitt, et al. -- incl., <mark>Jing Li</mark> |\n",
       "|*Appeared on*| *2023-01-23*|\n",
       "|*Comments*| *35 pages, 7 figures*|\n",
       "|**Abstract**| We present imaging observations of the disintegrating long-period comet C/2021 A1 (Leonard). High resolution observations with Hubble Space Telescope show no evidence for surviving fragments, and place a 3 sigma upper limit to their possible radius about 60 m (albedo 0.1 assumed). In contrast, wide field observations from the Swan Hill Observatory, Australia, show an extensive debris cloud, the cross-section and estimated mass of which are consistent with complete disintegration of the nucleus near mid- December 2021 (at about 0.8 au). Two methods give the pre-disruption nucleus radius, r = 0.6+/-0.2 km. Tidal, collisional, sublimation and pressure-confined explosion models provide implausible explanations of the disintegration. However, rotational instability driven by outgassing torques has a very short timescale (of order 0.1 year) given the orbit and size of the C/2021 A1 nucleus, and offers the most plausible mechanism for the disruption. Initial rotational breakup is accelerated by the exposure and strong sublimation of previously buried volatiles, leading to catastrophic destruction of the nucleus. |\n",
       "|<p style=\"color:green\"> **ERROR** </p>| <p style=\"color:green\">affiliation error: mpia.affiliation_verifications: 'Heidelberg' keyword not found.</p> |"
      ],
      "text/plain": [
       "<IPython.core.display.Markdown object>"
      ]
     },
     "metadata": {},
     "output_type": "display_data"
    },
    {
     "data": {
      "text/markdown": [
       "\n",
       "|||\n",
       "|---:|:---|\n",
       "| [![arXiv](https://img.shields.io/badge/arXiv-arXiv:2301.08692-b31b1b.svg)](https://arxiv.org/abs/arXiv:2301.08692) | **Constraints on $S_8$ from a full-scale and full-shape analysis of  redshift-space clustering and galaxy-galaxy lensing in BOSS**  |\n",
       "|| <mark>Johannes U. Lange</mark>, et al. -- incl., <mark>Andrew P. Hearin</mark>, <mark>Frank C. van den Bosch</mark>, <mark>Hong Guo</mark>, <mark>Joseph DeRose</mark> |\n",
       "|*Appeared on*| *2023-01-23*|\n",
       "|*Comments*| *22 pages, 16 figures, submitted to MNRAS, comments welcome*|\n",
       "|**Abstract**| We present a novel simulation-based cosmological analysis of galaxy-galaxy lensing and galaxy redshift-space clustering. Compared to analysis methods based on perturbation theory, our simulation-based approach allows us to probe a much wider range of scales, $0.4 \\, h^{-1} \\, \\mathrm{Mpc}$ to $63 \\, h^{-1} \\, \\mathrm{Mpc}$, including highly non-linear scales, and marginalises over astrophysical effects such as assembly bias. We apply this framework to data from the Baryon Oscillation Spectroscopic Survey LOWZ sample cross-correlated with state-of-the-art gravitational lensing catalogues from the Kilo Degree Survey and the Dark Energy Survey. We show that gravitational lensing and redshift-space clustering when analysed over a large range of scales place tight constraints on the growth-of-structure parameter $S_8 = \\sigma_8 \\sqrt{\\Omega_{\\rm m} / 0.3}$. Overall, we infer $S_8 = 0.792 \\pm 0.022$ when analysing the combination of galaxy-galaxy lensing and projected galaxy clustering and $S_8 = 0.771 \\pm 0.027$ for galaxy redshift-space clustering. These findings highlight the potential constraining power of full-scale studies over studies analysing only large scales, and also showcase the benefits of analysing multiple large-scale structure surveys jointly. Our inferred values for $S_8$ fall below the value inferred from the CMB, $S_8 = 0.834 \\pm 0.016$. While this difference is not statistically significant by itself, our results mirror other findings in the literature whereby low-redshift large scale structure probes infer lower values for $S_8$ than the CMB, the so-called $S_8$-tension. |\n",
       "|<p style=\"color:green\"> **ERROR** </p>| <p style=\"color:green\">affiliation error: mpia.affiliation_verifications: 'Heidelberg' keyword not found.</p> |"
      ],
      "text/plain": [
       "<IPython.core.display.Markdown object>"
      ]
     },
     "metadata": {},
     "output_type": "display_data"
    },
    {
     "data": {
      "text/markdown": [
       "\n",
       "|||\n",
       "|---:|:---|\n",
       "| [![arXiv](https://img.shields.io/badge/arXiv-arXiv:2301.08265-b31b1b.svg)](https://arxiv.org/abs/arXiv:2301.08265) | **On the distribution of the CNM in spiral galaxies**  |\n",
       "|| <mark>Rowan J. Smith</mark>, et al. -- incl., <mark>Patrick Hennebelle</mark> |\n",
       "|*Appeared on*| *2023-01-23*|\n",
       "|*Comments*| *13 pages, 19 figures, submitted to MNRAS*|\n",
       "|**Abstract**| The Cold Neutral Medium (CNM) is an important part of the galactic gas cycle and a precondition for the formation of molecular and star forming gas, yet its distribution is still not fully understood. In this work we present extremely high resolution simulations of spiral galaxies with time-dependent chemistry such that we can track the formation of the CNM, its distribution within the galaxy, and its correlation with star formation. We find no strong radial dependence between the CNM fraction and total HI due to the decreasing interstellar radiation field counterbalancing the decreasing gas column density at larger galactic radii.However, the CNM fraction does increase in spiral arms where the CNM distribution is clumpy, rather than continuous, overlapping more closely with H2. The CNM doesn't extend out radially as far as HI, and the vertical scale height is smaller in the outer galaxy compared to HI with no flaring. The CNM column density scales with total midplane pressure and disappears from the gas phase below values of PT/kB =1000 K/cm3. We find that the star formation rate density follows a similar scaling law with CNM column density to the total gas Kennicutt-Schmidt law. In the outer galaxy we produce realistic vertical velocity dispersions in the HI purely from galactic dynamics but our models do not predict CNM at the extremely large radii observed in HI absorption studies of the Milky Way. We suggest that extended spiral arms might produce isolated clumps of CNM at these radii. |\n",
       "|<p style=\"color:green\"> **ERROR** </p>| <p style=\"color:green\">affiliation error: mpia.affiliation_verifications: 'Max' keyword not found.</p> |"
      ],
      "text/plain": [
       "<IPython.core.display.Markdown object>"
      ]
     },
     "metadata": {},
     "output_type": "display_data"
    },
    {
     "data": {
      "text/markdown": [
       "\n",
       "|||\n",
       "|---:|:---|\n",
       "| [![arXiv](https://img.shields.io/badge/arXiv-arXiv:2301.08640-b31b1b.svg)](https://arxiv.org/abs/arXiv:2301.08640) | **Tracing the Evolution of SMBHs and Stellar Objects in Galaxy Mergers: An  Multi-mass Direct N-body Model**  |\n",
       "|| <mark>Shuo Li</mark>, et al. -- incl., <mark>F.K. Liu</mark> |\n",
       "|*Appeared on*| *2023-01-23*|\n",
       "|*Comments*| *36 pages, 11 figures, and 1 table. Accepted for publication in ApJ*|\n",
       "|**Abstract**| By using direct N-body numerical simulations, we model the dynamical co-evolution of two supermassive black holes (SMBHs) and the surrounding stars in merging galaxies. In order to investigate how different stellar components evolve during the merger, we generate evolved stellar distributions with an initial mass function. Special schemes have also been developed to deal with some rare but interesting events, such as tidal disruption of main sequence stars, the plunge of low mass stars, white dwarfs, neutron stars and stellar mass black holes, and the partial tidal disruption of red giants or asymptotic giant branch stars. Our results indicate that the formation of a bound supermassive black hole binary (SMBHB) will enhance the capture rates of stellar objects by the SMBHs. Compared to the equal stellar mass model, the multi-mass model tends to result in a higher average mass of disrupted stars. Instead of being tidally disrupted by the SMBH, roughly half of the captured main sequence stars will directly plunge into the SMBH because of their small stellar radius. Giant stars, on the other hand, can be stripped of their envelopes if they are close enough to the SMBH. Though most remnants of the giant stars can survive after the disruption, a small fraction still could plunge into the SMBH quickly or after many orbital periods. Our results also indicate significant mass segregation of compact stars at the beginning of the merger, and then this effect is destroyed as the two SMBHs form a bound binary. |\n",
       "|<p style=\"color:green\"> **ERROR** </p>| <p style=\"color:green\">affiliation error: mpia.affiliation_verifications: 'Planck' keyword not found.</p> |"
      ],
      "text/plain": [
       "<IPython.core.display.Markdown object>"
      ]
     },
     "metadata": {},
     "output_type": "display_data"
    }
   ],
   "source": [
    "import datetime\n",
    "today = str(datetime.date.today())\n",
    "logfile = f\"_build/html/logs/log-{today}.md\"\n",
    "\n",
    "\n",
    "with open(logfile, 'w') as logs:\n",
    "    # Success\n",
    "    logs.write(f'# Arxiv on Deck 2: Logs - {today}\\n\\n')\n",
    "    logs.write(\"\"\"* Arxiv had {0:,d} new papers\\n\"\"\".format(len(new_papers)))\n",
    "    logs.write(\"\"\"    * {0:,d} with possible author matches\\n\\n\"\"\".format(len(candidates)))\n",
    "    logs.write(\"## Sucessful papers\\n\\n\")\n",
    "    display(Markdown(\"## Successful papers\"))\n",
    "    success = [k[0] for k in documents]\n",
    "    for candid in candidates:\n",
    "        if candid['identifier'].split(':')[-1] in success:\n",
    "            display(candid)\n",
    "            logs.write(candid.generate_markdown_text() + '\\n\\n')\n",
    "\n",
    "    ## failed\n",
    "    logs.write(\"## Failed papers\\n\\n\")\n",
    "    display(Markdown(\"## Failed papers\"))\n",
    "    failed = sorted(failed, key=lambda x: x[1])\n",
    "    current_reason = \"\"\n",
    "    for paper, reason in failed:\n",
    "        if 'affiliation' in reason:\n",
    "            color = 'green'\n",
    "        else:\n",
    "            color = 'red'\n",
    "        data = Markdown(\n",
    "                paper.generate_markdown_text() + \n",
    "                f'\\n|<p style=\"color:{color:s}\"> **ERROR** </p>| <p style=\"color:{color:s}\">{reason:s}</p> |'\n",
    "               )\n",
    "        if reason != current_reason:\n",
    "            logs.write(f'### {reason:s} \\n\\n')\n",
    "            current_reason = reason\n",
    "        logs.write(data.data + '\\n\\n')\n",
    "        \n",
    "        # only display here the important errors (all in logs)\n",
    "        # if color in ('red',):\n",
    "        display(data)"
   ]
  },
  {
   "cell_type": "markdown",
   "id": "472d20ee",
   "metadata": {
    "papermill": {
     "duration": 0.008248,
     "end_time": "2023-01-23T04:11:54.880301",
     "exception": false,
     "start_time": "2023-01-23T04:11:54.872053",
     "status": "completed"
    },
    "tags": []
   },
   "source": [
    "## Export documents\n",
    "\n",
    "We now write the .md files and export relevant images"
   ]
  },
  {
   "cell_type": "code",
   "execution_count": 7,
   "id": "d426aed9",
   "metadata": {
    "execution": {
     "iopub.execute_input": "2023-01-23T04:11:54.898499Z",
     "iopub.status.busy": "2023-01-23T04:11:54.897986Z",
     "iopub.status.idle": "2023-01-23T04:11:54.905776Z",
     "shell.execute_reply": "2023-01-23T04:11:54.904698Z"
    },
    "papermill": {
     "duration": 0.018573,
     "end_time": "2023-01-23T04:11:54.907220",
     "exception": false,
     "start_time": "2023-01-23T04:11:54.888647",
     "status": "completed"
    },
    "tags": []
   },
   "outputs": [],
   "source": [
    "def export_markdown_summary(md: str, md_fname:str, directory: str):\n",
    "    \"\"\"Export MD document and associated relevant images\"\"\"\n",
    "    import os\n",
    "    import shutil\n",
    "    import re\n",
    "\n",
    "    if (os.path.exists(directory) and not os.path.isdir(directory)):\n",
    "        raise RuntimeError(f\"a non-directory file exists with name {directory:s}\")\n",
    "\n",
    "    if (not os.path.exists(directory)):\n",
    "        print(f\"creating directory {directory:s}\")\n",
    "        os.mkdir(directory)\n",
    "\n",
    "    fig_fnames = (re.compile(r'\\[Fig.*\\]\\((.*)\\)').findall(md) + \n",
    "                  re.compile(r'\\<img src=\"([^>\\s]*)\"[^>]*/>').findall(md))\n",
    "    for fname in fig_fnames:\n",
    "        if 'http' in fname:\n",
    "            # No need to copy online figures\n",
    "            continue\n",
    "        destdir = os.path.join(directory, os.path.dirname(fname))\n",
    "        destfname = os.path.join(destdir, os.path.basename(fname))\n",
    "        try:\n",
    "            os.makedirs(destdir)\n",
    "        except FileExistsError:\n",
    "            pass\n",
    "        shutil.copy(fname, destfname)\n",
    "    with open(os.path.join(directory, md_fname), 'w') as fout:\n",
    "        fout.write(md)\n",
    "    print(\"exported in \", os.path.join(directory, md_fname))\n",
    "    [print(\"    + \" + os.path.join(directory,fk)) for fk in fig_fnames]"
   ]
  },
  {
   "cell_type": "code",
   "execution_count": 8,
   "id": "014d04a4",
   "metadata": {
    "execution": {
     "iopub.execute_input": "2023-01-23T04:11:54.925769Z",
     "iopub.status.busy": "2023-01-23T04:11:54.925066Z",
     "iopub.status.idle": "2023-01-23T04:11:54.933186Z",
     "shell.execute_reply": "2023-01-23T04:11:54.932485Z"
    },
    "papermill": {
     "duration": 0.018949,
     "end_time": "2023-01-23T04:11:54.934664",
     "exception": false,
     "start_time": "2023-01-23T04:11:54.915715",
     "status": "completed"
    },
    "tags": []
   },
   "outputs": [
    {
     "name": "stdout",
     "output_type": "stream",
     "text": [
      "exported in  _build/html/2301.08310.md\n",
      "    + _build/html/tmp_2301.08310/./Gaia_CMD.png\n",
      "    + _build/html/tmp_2301.08310/./pm_vsini_new4_1.png\n",
      "    + _build/html/tmp_2301.08310/./pm_vsini_new4_2.png\n",
      "    + _build/html/tmp_2301.08310/./location_new2.png\n"
     ]
    }
   ],
   "source": [
    "for paper_id, md in documents:\n",
    "    export_markdown_summary(md, f\"{paper_id:s}.md\", '_build/html/')"
   ]
  },
  {
   "cell_type": "markdown",
   "id": "f087a0a7",
   "metadata": {
    "papermill": {
     "duration": 0.008721,
     "end_time": "2023-01-23T04:11:54.951971",
     "exception": false,
     "start_time": "2023-01-23T04:11:54.943250",
     "status": "completed"
    },
    "tags": []
   },
   "source": [
    "## Display the papers\n",
    "\n",
    "Not necessary but allows for a quick check."
   ]
  },
  {
   "cell_type": "code",
   "execution_count": 9,
   "id": "fd25f625",
   "metadata": {
    "execution": {
     "iopub.execute_input": "2023-01-23T04:11:54.970601Z",
     "iopub.status.busy": "2023-01-23T04:11:54.970040Z",
     "iopub.status.idle": "2023-01-23T04:11:54.975206Z",
     "shell.execute_reply": "2023-01-23T04:11:54.974570Z"
    },
    "papermill": {
     "duration": 0.016141,
     "end_time": "2023-01-23T04:11:54.976726",
     "exception": false,
     "start_time": "2023-01-23T04:11:54.960585",
     "status": "completed"
    },
    "scrolled": false,
    "tags": []
   },
   "outputs": [
    {
     "data": {
      "text/markdown": [
       "<div class=\"macros\" style=\"visibility:hidden;\">\n",
       "$\\newcommand{\\ensuremath}{}$\n",
       "$\\newcommand{\\xspace}{}$\n",
       "$\\newcommand{\\object}[1]{\\texttt{#1}}$\n",
       "$\\newcommand{\\farcs}{{.}''}$\n",
       "$\\newcommand{\\farcm}{{.}'}$\n",
       "$\\newcommand{\\arcsec}{''}$\n",
       "$\\newcommand{\\arcmin}{'}$\n",
       "$\\newcommand{\\ion}[2]{#1#2}$\n",
       "$\\newcommand{\\textsc}[1]{\\textrm{#1}}$\n",
       "$\\newcommand{\\hl}[1]{\\textrm{#1}}$\n",
       "$\\newcommand{\\GG}{\\mbox{G_3}}$\n",
       "$\\newcommand{\\GGc}{\\mbox{G^\\prime_3}}$\n",
       "$\\newcommand{\\BP}{\\mbox{G_{\\rm BP3}}}$\n",
       "$\\newcommand{\\RP}{\\mbox{G_{\\rm RP3}}}$\n",
       "$\\newcommand{\\BPRP}{\\mbox{G_{\\rm BP3}-G_{\\rm RP3}}}$\n",
       "$\\newcommand{\\pic}{\\mbox{\\varpi_{\\rm c}}}$\n",
       "$\\newcommand{\\mci}[1]{\\multicolumn{1}{c}{#1}}$\n",
       "$\\newcommand{\\VO}[1]{Villafranca~O-{#1}}$\n",
       "$\\newcommand{\\EBV}{\\mbox{E(4405-5495)}}$\n",
       "$\\newcommand{\\RV}{\\mbox{R_{5495}}}$\n",
       "$\\newcommand{\\lili}{\\mbox{LiLiMaRlin}}$\n",
       "$\\newcommand{\\kms}{km s^{-1}}$\n",
       "$\\newcommand{\\Teff}{\\mbox{T_{\\rm eff}}}$\n",
       "$\\newcommand{\\bibname}{References}$</div>\n",
       "\n",
       "<div class=\"macros\" style=\"visibility:hidden;\">\n",
       "$\\newcommand{$\\ensuremath$}{}$\n",
       "$\\newcommand{$\\xspace$}{}$\n",
       "$\\newcommand{$\\object$}[1]{\\texttt{#1}}$\n",
       "$\\newcommand{$\\farcs$}{{.}''}$\n",
       "$\\newcommand{$\\farcm$}{{.}'}$\n",
       "$\\newcommand{$\\arcsec$}{''}$\n",
       "$\\newcommand{$\\arcmin$}{'}$\n",
       "$\\newcommand{$\\ion$}[2]{#1#2}$\n",
       "$\\newcommand{$\\textsc$}[1]{\\textrm{#1}}$\n",
       "$\\newcommand{$\\hl$}[1]{\\textrm{#1}}$\n",
       "$\\newcommand{$\\GG$}{\\mbox{G_3}}$\n",
       "$\\newcommand{$\\GG$c}{\\mbox{G^\\prime_3}}$\n",
       "$\\newcommand{$\\BP$}{\\mbox{G_{\\rm BP3}}}$\n",
       "$\\newcommand{$\\RP$}{\\mbox{G_{\\rm RP3}}}$\n",
       "$\\newcommand{$\\BP$RP}{\\mbox{G_{\\rm BP3}-G_{\\rm RP3}}}$\n",
       "$\\newcommand{$\\pic$}{\\mbox{\\varpi_{\\rm c}}}$\n",
       "$\\newcommand{$\\mci$}[1]{\\multicolumn{1}{c}{#1}}$\n",
       "$\\newcommand{$\\VO$}[1]{Villafranca~O-{#1}}$\n",
       "$\\newcommand{$\\EBV$}{\\mbox{E(4405-5495)}}$\n",
       "$\\newcommand{$\\RV$}{\\mbox{R_{5495}}}$\n",
       "$\\newcommand{$\\lili$}{\\mbox{LiLiMaRlin}}$\n",
       "$\\newcommand{$\\kms$}{km s^{-1}}$\n",
       "$\\newcommand{$\\Teff$}{\\mbox{T_{\\rm eff}}}$\n",
       "$\\newcommand{$\\bibname$}{References}$</div>\n",
       "\n",
       "\n",
       "\n",
       "<div id=\"title\">\n",
       "\n",
       "# Gaia-ESO Survey: massive stars in the Carina Nebula : I. A new census of OB stars\n",
       "\n",
       "</div>\n",
       "<div id=\"comments\">\n",
       "\n",
       "[![arXiv](https://img.shields.io/badge/arXiv-2301.08310-b31b1b.svg)](https://arxiv.org/abs/2301.08310)<mark>Appeared on: 2023-01-23</mark> - _Accepted for publication in A&A, 62 pages, 8 figures_\n",
       "\n",
       "</div>\n",
       "<div id=\"authors\">\n",
       "\n",
       "S. R. Berlanas, et al. -- incl., <mark><mark>A. Herrero</mark></mark>, <mark><mark>L. Mahy</mark></mark>, <mark><mark>M. Bergemann</mark></mark>\n",
       "\n",
       "</div>\n",
       "<div id=\"abstract\">\n",
       "\n",
       "**Abstract:** The Carina Nebula is one of the major massive star-forming regions in the Galaxy. Its relatively nearby distance (2.35 kpc) makes it an ideal laboratory for the study of massive star formation, structure and evolution, both for individual stars and stellar systems.   Thanks to the high-quality spectra provided by Gaia-ESO survey and the LiLiMaRlin library, as well as Gaia EDR3 astrometry, a detailed and homogeneous spectroscopic characterization of its massive stellar content can be carried out.Our main objective is to spectroscopically characterize all massive members of the Carina Nebula in the Gaia-ESO survey footprint to provide an updated census of massive stars in the region and an updated estimate of the binary fraction of O stars.We perform accurate spectral classification by using an interactive code that compares spectra with spectral libraries of OB standards, as well as line-based classic methods. Membership is calculated using our own algorithm based on Gaia EDR3 astrometry. To check the correlation between the spectroscopic n-qualifier and the rotational velocity, we use the semi-automated tool for the line-broadening characterization of OB stars  which is based on a combined Fourier Transform and Goodness-of-fit methodology.The Gaia-ESO survey sample of massive OB stars in the Carina Nebula consists of 234 stars. The addition of brighter sources from the Galactic O-Star Spectroscopic Survey and additional sources from the literature allows us to create the most complete census of massive OB stars done so far in the region. It contains a total of   316 stars, being 18 of them in the background and four in the foreground. Of the 294 stellar systems in Car OB1, 74 are of O type, 214 are of non-supergiant B type and 6 are of WR or non-O supergiant (II to Ia) spectral class. We identify 20 spectroscopic binary systems with an O-star primary, of which 6 are reported for the first time, and another 18 with a B-star primary, of which 13 are new detections. The average observed double-lined binary fraction of O-type stars in the surveyed region is 0.35, which represents a lower limit. We find a good correlation between the spectroscopic n-qualifier and the projected rotational velocity of the stars. The fraction of candidate runaways among the stars with and without the n-qualifier is 4.4$\\%$and 2.4$\\%$, respectively, although non resolved double-lined binaries can be contaminating the fast rotators sample.\n",
       "\n",
       "</div>\n",
       "\n",
       "<div id=\"div_fig1\">\n",
       "\n",
       "<img src=\"tmp_2301.08310/./Gaia_CMD.png\" alt=\"Fig3\" width=\"100%\"/>\n",
       "\n",
       "**Figure 3. -** First panel, see next page for the second one: {\\it Gaia} EDR3 CMD for the stars with spectral types in this paper. Different symbols and colors are used to represent stars with parallaxes compatible with being (or otherwise assumed to be) in the foreground (4), in the background (18), or in Car OB1 (294). Of the Car OB1 stars, 6 are of Wolf-Rayet or non-O supergiant (II to Ia) spectral class, 74 are of O type, and 214 are of non-supergiant B type. Four of the \\citet{Preietal21} stars are outside the frame towards the lower right due to their high extinction. Black lines show the average main sequence at a distance of 2.35 kpc with no extinction and with values of $\\EBV$ of 0.5, 1.0, 1.5, and 2.0 (labelled) using the extinction law of \\citet{Maizetal14a} with a value of $\\RV$ of 4.5, which is typical of the region but with a large dispersion  \\citep{MaizBarb18}. Solid orange lines show the $\\RV$ = 4.5 extinction tracks for average MS stars of $\\Teff$ of 52.5 kK, 30 kK, and 20 kK (labelled), respectively. The dotted orange line shows the $\\RV$ = 3.0 extinction track for $\\Teff$ = 30 kK. (*Gaia_CMD*)\n",
       "\n",
       "</div>\n",
       "<div id=\"div_fig2\">\n",
       "\n",
       "<img src=\"tmp_2301.08310/./pm_vsini_new4_1.png\" alt=\"Fig6.1\" width=\"50%\"/><img src=\"tmp_2301.08310/./pm_vsini_new4_2.png\" alt=\"Fig6.2\" width=\"50%\"/>\n",
       "\n",
       "**Figure 6. -** Proper motion distribution from Gaia EDR3 astrometry for all stars of our census in each assigned Villafranca group. Orange squares indicate those OB stars analyzed in this work that are rotating at $v\\sin i$$\\geq$ 200 km s$^{-1}$. Blue crosses represent identified binary systems. Circles represent group proper motion constraints, whose centers $\\mu_{\\alpha *,g}$  and  $\\mu_{\\delta,g}$ are those shown in Table \\ref{pm_groups} in the central columns. For comparison, red plus symbols indicate group centers from Villafranca II and III works. Note that stars labelled as Car OB1 members are not included in the panels. (*pm_fast*)\n",
       "\n",
       "</div>\n",
       "<div id=\"div_fig3\">\n",
       "\n",
       "<img src=\"tmp_2301.08310/./location_new2.png\" alt=\"Fig2\" width=\"100%\"/>\n",
       "\n",
       "**Figure 2. -** Negative image of the Great Carina Nebula by Robert Gendler and Stephane Guisard showing the location of the whole census of massive stars in the GES surveyed area presented in this work. Yellow and cyan colors indicate O and B-type stars, respectively. Green, red, purple and pink colors have been used to represent the sdO, LBV,  WR and RSG stars, respectively. Small filled-circles refer to the GES sample while rhombuses and squares refer to stars from GOSSS/LiLiMarlin and other works \\citep[][]{smith06a,Alexetal16,Preietal21} not present in GES, respectively. Red circles indicate the observing GES pointings while the blue ones indicate the Villafranca groups: O-002 (Trumpler 14), O-003 (Trumpler 16 W), O-025 (Trumpler 16 E), O-027 (Trumpler 15), O-028 (Collinder 228), O-029 (Collinder 232), and O-030 (Bochum 11). The V-shaped extinction lane that dominates the appearance of the nebula is clearly seen crossing the image from top to bottom. (*carina*)\n",
       "\n",
       "</div>"
      ],
      "text/plain": [
       "<IPython.core.display.Markdown object>"
      ]
     },
     "metadata": {},
     "output_type": "display_data"
    }
   ],
   "source": [
    "[display(Markdown(k[1])) for k in documents];"
   ]
  },
  {
   "cell_type": "markdown",
   "id": "873873a4",
   "metadata": {
    "papermill": {
     "duration": 0.008557,
     "end_time": "2023-01-23T04:11:54.993991",
     "exception": false,
     "start_time": "2023-01-23T04:11:54.985434",
     "status": "completed"
    },
    "tags": []
   },
   "source": [
    "# Create HTML index"
   ]
  },
  {
   "cell_type": "code",
   "execution_count": 10,
   "id": "cf665672",
   "metadata": {
    "execution": {
     "iopub.execute_input": "2023-01-23T04:11:55.014037Z",
     "iopub.status.busy": "2023-01-23T04:11:55.013517Z",
     "iopub.status.idle": "2023-01-23T04:11:55.024315Z",
     "shell.execute_reply": "2023-01-23T04:11:55.023677Z"
    },
    "papermill": {
     "duration": 0.022885,
     "end_time": "2023-01-23T04:11:55.025780",
     "exception": false,
     "start_time": "2023-01-23T04:11:55.002895",
     "status": "completed"
    },
    "tags": []
   },
   "outputs": [
    {
     "name": "stdout",
     "output_type": "stream",
     "text": [
      "177  publications in the last 7 days.\n",
      "\t _build/html/2301.08310.md\n",
      "\t _build/html/2301.07990.md\n",
      "\t _build/html/2301.07366.md\n",
      "\t _build/html/2301.07199.md\n",
      "\t _build/html/2301.07116.md\n",
      "\t _build/html/2301.06873.md\n",
      "\t _build/html/2301.06819.md\n",
      "\t _build/html/2301.06575.md\n",
      "\t _build/html/2301.05720.md\n",
      "\t _build/html/2301.05718.md\n",
      "\t _build/html/2301.05034.md\n",
      "\t _build/html/2301.04656.md\n",
      "\t _build/html/2301.04533.md\n",
      "\t _build/html/2301.04442.md\n",
      "\t _build/html/2301.03811.md\n",
      "\t _build/html/2301.03689.md\n",
      "\t _build/html/2301.03387.md\n",
      "\t _build/html/2301.03209.md\n",
      "\t _build/html/2301.02671.md\n",
      "\t _build/html/2301.02477.md\n",
      "\t _build/html/2301.02313.md\n",
      "\t _build/html/2301.02265.md\n",
      "\t _build/html/2301.01937.md\n",
      "\t _build/html/2301.01895.md\n",
      "\t _build/html/2301.01684.md\n",
      "\t _build/html/2301.01306.md\n",
      "\t _build/html/2301.00881.md\n",
      "\t _build/html/2301.00854.md\n",
      "\t _build/html/2301.00578.md\n",
      "\t _build/html/2212.12039.md\n",
      "\t _build/html/2212.11991.md\n",
      "\t _build/html/2212.11425.md\n",
      "\t _build/html/2212.11177.md\n",
      "\t _build/html/2212.10804.md\n",
      "\t _build/html/2212.10512.md\n",
      "\t _build/html/2212.09766.md\n",
      "\t _build/html/2212.09675.md\n",
      "\t _build/html/2212.09661.md\n",
      "\t _build/html/2212.09652.md\n",
      "\t _build/html/2212.09443.md\n",
      "\t _build/html/2212.09307.md\n",
      "\t _build/html/2212.09168.md\n",
      "\t _build/html/2212.09159.md\n",
      "\t _build/html/2212.08702.md\n",
      "\t _build/html/2212.07332.md\n",
      "\t _build/html/2212.06434.md\n",
      "\t _build/html/2212.04710.md\n",
      "\t _build/html/2212.04026.md\n",
      "\t _build/html/2212.03563.md\n",
      "\t _build/html/2212.03514.md\n",
      "\t _build/html/2212.02667.md\n",
      "\t _build/html/2212.02627.md\n",
      "\t _build/html/2212.02235.md\n",
      "\t _build/html/2212.01707.md\n",
      "\t _build/html/2212.01526.md\n",
      "\t _build/html/2212.01397.md\n",
      "\t _build/html/2212.01291.md\n",
      "\t _build/html/2212.01281.md\n",
      "\t _build/html/2212.00812.md\n",
      "\t _build/html/2212.00811.md\n",
      "\t _build/html/2212.00806.md\n",
      "\t _build/html/2212.00047.md\n",
      "\t _build/html/2212.00032.md\n",
      "\t _build/html/2211.16996.md\n",
      "\t _build/html/2211.16510.md\n",
      "\t _build/html/2211.16123.md\n",
      "\t _build/html/2211.15816.md\n",
      "\t _build/html/2211.15698.md\n",
      "\t _build/html/2211.15576.md\n",
      "\t _build/html/2211.15434.md\n",
      "\t _build/html/2211.15288.md\n",
      "\t _build/html/2211.15224.md\n",
      "\t _build/html/2211.14543.md\n",
      "\t _build/html/2211.14330.md\n",
      "\t _build/html/2211.14322.md\n",
      "\t _build/html/2211.14132.md\n",
      "\t _build/html/2211.13811.md\n",
      "\t _build/html/2211.13426.md\n",
      "\t _build/html/2211.13318.md\n",
      "\t _build/html/2211.13146.md\n",
      "\t _build/html/2211.12613.md\n",
      "\t _build/html/2211.11767.md\n",
      "\t _build/html/2211.09840.md\n",
      "\t _build/html/2211.09217.md\n",
      "\t _build/html/2211.08493.md\n",
      "\t _build/html/2211.08487.md\n",
      "\t _build/html/2211.08294.md\n",
      "\t _build/html/2211.07667.md\n",
      "\t _build/html/2211.07659.md\n",
      "\t _build/html/2211.06454.md\n",
      "\t _build/html/2211.06205.md\n",
      "\t _build/html/2211.06194.md\n",
      "\t _build/html/2211.05022.md\n",
      "\t _build/html/2211.04048.md\n",
      "\t _build/html/2211.03641.md\n",
      "\t _build/html/2211.02502.md\n",
      "\t _build/html/2211.01474.md\n",
      "\t _build/html/2211.00667.md\n",
      "\t _build/html/2211.00657.md\n",
      "\t _build/html/2211.00087.md\n",
      "\t _build/html/2211.00036.md\n",
      "\t _build/html/2211.00020.md\n",
      "\t _build/html/2211.00010.md\n",
      "\t _build/html/2210.17434.md\n",
      "\t _build/html/2210.12412.md\n",
      "\t _build/html/2210.11926.md\n",
      "\t _build/html/2210.11551.md\n",
      "\t _build/html/2210.11103.md\n",
      "\t _build/html/2210.10707.md\n",
      "\t _build/html/2210.09930.md\n",
      "\t _build/html/2210.08996.md\n",
      "\t _build/html/2210.08517.md\n",
      "\t _build/html/2210.08510.md\n",
      "\t _build/html/2210.08078.md\n",
      "\t _build/html/2210.06504.md\n",
      "\t _build/html/2210.05695.md\n",
      "\t _build/html/2210.05595.md\n",
      "\t _build/html/2210.05505.md\n",
      "\t _build/html/2210.04721.md\n",
      "\t _build/html/2210.03615.md\n",
      "\t _build/html/2210.01811.md\n",
      "\t _build/html/2210.01809.md\n",
      "\t _build/html/2210.01556.md\n",
      "\t _build/html/2210.00863.md\n",
      "\t _build/html/2210.00560.md\n",
      "\t _build/html/2209.15403.md\n",
      "\t _build/html/2209.15110.md\n",
      "\t _build/html/2209.14410.md\n",
      "\t _build/html/2209.14396.md\n",
      "\t _build/html/2209.13717.md\n",
      "\t _build/html/2209.13336.md\n",
      "\t _build/html/2209.12906.md\n",
      "\t _build/html/2209.11781.md\n",
      "\t _build/html/2209.11602.md\n",
      "\t _build/html/2209.11248.md\n",
      "\t _build/html/2209.11096.md\n",
      "\t _build/html/2209.10618.md\n",
      "\t _build/html/2209.09914.md\n",
      "\t _build/html/2209.09823.md\n",
      "\t _build/html/2209.08242.md\n",
      "\t _build/html/2209.08120.md\n",
      "\t _build/html/2209.08106.md\n",
      "\t _build/html/2209.07962.md\n",
      "\t _build/html/2209.07931.md\n",
      "\t _build/html/2209.06833.md\n",
      "\t _build/html/2209.05814.md\n",
      "\t _build/html/2209.05593.md\n",
      "\t _build/html/2209.04304.md\n",
      "\t _build/html/2209.03367.md\n",
      "\t _build/html/2209.02872.md\n",
      "\t _build/html/2209.02725.md\n",
      "\t _build/html/2209.02722.md\n",
      "\t _build/html/2209.02092.md\n",
      "\t _build/html/2209.01125.md\n",
      "\t _build/html/2209.00828.md\n",
      "\t _build/html/2209.00363.md\n",
      "\t _build/html/2208.14927.md\n",
      "\t _build/html/2208.09335.md\n",
      "\t _build/html/2208.08872.md\n",
      "\t _build/html/2204.06393.md\n",
      "\t _build/html/2204.03335.md\n",
      "\t _build/html/2204.03253.md\n",
      "\t _build/html/2204.02998.md\n",
      "\t _build/html/2204.02109.md\n",
      "\t _build/html/2204.02017.md\n",
      "\t _build/html/2204.01824.md\n",
      "\t _build/html/2204.01758.md\n",
      "\t _build/html/2204.01245.md\n",
      "\t _build/html/2204.00793.md\n",
      "\t _build/html/2204.00342.md\n",
      "\t _build/html/2203.16959.md\n",
      "\t _build/html/2203.16856.md\n",
      "\t _build/html/2203.16735.md\n",
      "\t _build/html/2203.16734.md\n",
      "\t _build/html/2203.16504.md\n",
      "\t _build/html/2203.15822.md\n",
      "\t _build/html/2203.15811.md\n"
     ]
    }
   ],
   "source": [
    "from datetime import datetime, timedelta, timezone\n",
    "from glob import glob\n",
    "\n",
    "files = glob('_build/html/*.md')\n",
    "days = 7\n",
    "now = datetime.today()\n",
    "res = []\n",
    "for fk in files:\n",
    "    stat_result = os.stat(fk).st_ctime\n",
    "    modified = datetime.fromtimestamp(stat_result, tz=timezone.utc).replace(tzinfo=None)\n",
    "    delta = now.today() - modified\n",
    "    if delta <= timedelta(days=days):\n",
    "        res.append((delta.seconds, fk))\n",
    "res = [k[1] for k in reversed(sorted(res, key=lambda x:x[1]))]\n",
    "npub = len(res)\n",
    "print(len(res), f\" publications in the last {days:d} days.\")\n",
    "[ print('\\t', k) for k in res ];"
   ]
  },
  {
   "cell_type": "code",
   "execution_count": 11,
   "id": "015de740",
   "metadata": {
    "execution": {
     "iopub.execute_input": "2023-01-23T04:11:55.045141Z",
     "iopub.status.busy": "2023-01-23T04:11:55.044417Z",
     "iopub.status.idle": "2023-01-23T04:11:55.063010Z",
     "shell.execute_reply": "2023-01-23T04:11:55.062452Z"
    },
    "papermill": {
     "duration": 0.029939,
     "end_time": "2023-01-23T04:11:55.064568",
     "exception": false,
     "start_time": "2023-01-23T04:11:55.034629",
     "status": "completed"
    },
    "tags": []
   },
   "outputs": [
    {
     "name": "stdout",
     "output_type": "stream",
     "text": [
      "10  publications in the last 7 days.\n"
     ]
    }
   ],
   "source": [
    "import datetime\n",
    "from glob import glob\n",
    "\n",
    "def get_last_n_days(lst, days=1):\n",
    "    \"\"\" Get the documents from the last n days \"\"\"\n",
    "    sorted_lst = sorted(lst, key=lambda x: x[1], reverse=True)\n",
    "    for fname, date in sorted_lst:\n",
    "        if date >= str(datetime.date.today() - datetime.timedelta(days=days)):\n",
    "            yield fname\n",
    "\n",
    "def extract_appearance_dates(lst_file):\n",
    "    dates = []\n",
    "\n",
    "    def get_date(line):\n",
    "        return line\\\n",
    "            .split('Appeared on:')[-1]\\\n",
    "            .split('</mark>')[0].strip()\n",
    "\n",
    "    for fname in lst:\n",
    "        with open(fname, 'r') as f:\n",
    "            found_date = False\n",
    "            for line in f:\n",
    "                if not found_date:\n",
    "                    if \"Appeared on\" in line:\n",
    "                        found_date = True\n",
    "                        dates.append((fname, get_date(line)))\n",
    "                else:\n",
    "                    break\n",
    "    return dates\n",
    "\n",
    "from glob import glob\n",
    "lst = glob('_build/html/*md')\n",
    "days = 7\n",
    "dates = extract_appearance_dates(lst)\n",
    "res = list(get_last_n_days(dates, days))\n",
    "npub = len(res)\n",
    "print(len(res), f\" publications in the last {days:d} days.\")"
   ]
  },
  {
   "cell_type": "code",
   "execution_count": 12,
   "id": "52ca0208",
   "metadata": {
    "execution": {
     "iopub.execute_input": "2023-01-23T04:11:55.084484Z",
     "iopub.status.busy": "2023-01-23T04:11:55.084200Z",
     "iopub.status.idle": "2023-01-23T04:11:55.091058Z",
     "shell.execute_reply": "2023-01-23T04:11:55.090193Z"
    },
    "papermill": {
     "duration": 0.018715,
     "end_time": "2023-01-23T04:11:55.092613",
     "exception": false,
     "start_time": "2023-01-23T04:11:55.073898",
     "status": "completed"
    },
    "scrolled": false,
    "tags": []
   },
   "outputs": [],
   "source": [
    "def create_carousel(npub=4):\n",
    "    \"\"\" Generate the HTML code for a carousel with `npub` slides \"\"\"\n",
    "    carousel = [\"\"\"<section class=\"carousel\" aria-label=\"Gallery\">\"\"\",\n",
    "                \"\"\"  <ol class=\"carousel__viewport\">\"\"\",\n",
    "    ]\n",
    "    for k in range(1, npub + 1):\n",
    "        prev_ = k - 1\n",
    "        next_ = k + 1\n",
    "        if prev_ <= 0:\n",
    "            prev_ = npub\n",
    "        if next_ > npub:\n",
    "            next_ = 1\n",
    "        text  = f\"\"\"    <li id=\"carousel__slide{k}\" tabindex=\"0\" class=\"carousel__slide\">\\n\"\"\"\n",
    "        text += f\"\"\"       <div class=\"carousel__snapper\">\\n\"\"\"\n",
    "        text += f\"\"\"         <a href=\"#carousel__slide{prev_}\" class=\"carousel__prev\">Go to previous slide</a>\\n\"\"\"\n",
    "        text += f\"\"\"         <a href=\"#carousel__slide{next_}\" class=\"carousel__next\">Go to next slide</a>\\n\"\"\"\n",
    "        text += f\"\"\"         <div id=\"slide{k}_content\" class=\"md_view\" >Content {k}</div>\\n\"\"\"\n",
    "        text += f\"\"\"       </div>\\n\"\"\"\n",
    "        text += f\"\"\"    </li>\"\"\"\n",
    "        carousel.append(text)\n",
    "\n",
    "    carousel.extend([\n",
    "        \"\"\"  </ol>\"\"\",\n",
    "        \"\"\"  <aside class=\"carousel__navigation\">\"\"\",\n",
    "        \"\"\"    <ol class=\"carousel__navigation-list\">\"\"\"])\n",
    "\n",
    "    for k in range(1, npub + 1):\n",
    "        text  = f\"\"\"      <li class=\"carousel__navigation-item\">\\n\"\"\"\n",
    "        text += f\"\"\"        <a href=\"#carousel__slide{k}\" class=\"carousel__navigation-button\">Go to {k}</a>\\n\"\"\"\n",
    "        text += f\"\"\"      </li>\"\"\"\n",
    "        carousel.append(text)\n",
    "    carousel.extend([\"\"\"    </ol>\"\"\", \"\"\"  </aside>\"\"\", \"\"\"</section>\"\"\"])\n",
    "\n",
    "    return '\\n'.join(carousel)"
   ]
  },
  {
   "cell_type": "code",
   "execution_count": 13,
   "id": "a6eac5b6",
   "metadata": {
    "execution": {
     "iopub.execute_input": "2023-01-23T04:11:55.142643Z",
     "iopub.status.busy": "2023-01-23T04:11:55.142362Z",
     "iopub.status.idle": "2023-01-23T04:11:55.149172Z",
     "shell.execute_reply": "2023-01-23T04:11:55.148521Z"
    },
    "papermill": {
     "duration": 0.018846,
     "end_time": "2023-01-23T04:11:55.150885",
     "exception": false,
     "start_time": "2023-01-23T04:11:55.132039",
     "status": "completed"
    },
    "scrolled": false,
    "tags": []
   },
   "outputs": [],
   "source": [
    "carousel = create_carousel(npub)\n",
    "docs = ', '.join(['\"{0:s}\"'.format(k.split('/')[-1]) for k in res])\n",
    "slides = ', '.join([f'\"slide{k}_content\"' for k in range(1, npub + 1)])\n",
    "\n",
    "script = f\"\"\"\n",
    "const docs = [{docs}]\n",
    "\n",
    "const slides = [{slides}]\n",
    "\"\"\" + \"\"\"\n",
    "async function run() {\n",
    "    for (let i = 0; i < docs.length; i++) {\n",
    "        let file = await fetch(docs[i]);\n",
    "        let text = await file.text()\n",
    "        document.getElementById(slides[i]).innerHTML =\n",
    "            marked.parse(text);\n",
    "    }\n",
    "    hljs.highlightAll();\n",
    "}\n",
    "run()\n",
    "\"\"\"\n",
    "\n",
    "page = f\"\"\"<!doctype html>\n",
    "<html lang=\"en\">\n",
    "\n",
    "<head>\n",
    "  <meta charset=\"utf-8\">\n",
    "  <meta name=\"viewport\" content=\"width=device-width, initial-scale=1\">\n",
    "  <!-- Bootstrap CSS -->\n",
    "  <link href=\"https://cdn.jsdelivr.net/npm/bootstrap@5.0.2/dist/css/bootstrap.min.css\" rel=\"stylesheet\"\n",
    "   integrity=\"sha384-EVSTQN3/azprG1Anm3QDgpJLIm9Nao0Yz1ztcQTwFspd3yD65VohhpuuCOmLASjC\" crossorigin=\"anonymous\">\n",
    "  <!-- highlight.js CSS -->\n",
    "  <link rel=\"stylesheet\" href=\"https://cdnjs.cloudflare.com/ajax/libs/highlight.js/11.1.0/styles/default.min.css\">\n",
    "  <!-- Mathjax 3 -->\n",
    "  <script type=\"text/javascript\" id=\"MathJax-config\" src=\"mathjax_config.js\"> </script>\n",
    "  <script type=\"text/javascript\" id=\"MathJax-script\" async \n",
    "    src=\"https://cdn.jsdelivr.net/npm/mathjax@3/es5/tex-mml-chtml.js\">\n",
    "  </script>\n",
    "  <link rel=\"stylesheet\" href=\"index_carousel.css\">\n",
    "  <link rel=\"icon\" type=\"image/x-icon\" href=\"https://www.mpia.de/assets/touch-icon-32x32-a66937bcebc4e8894ebff1f41a366c7c7220fd97a38869ee0f2db65a9f59b6c1.png\">\n",
    "  <title>MPIA Arxiv on deck!</title>\n",
    "</head>\n",
    "\n",
    "<body>\n",
    "  <div id=\"header\"> <img src=\"header_banner.png\" width=\"100%\"></div>\n",
    "  <div id=\"suptitle\"> 7-day archives </div>\n",
    "  <div id=\"info\">\n",
    "    <img src=\"https://pngimg.com/uploads/github/github_PNG58.png\" height=30rem></img>\n",
    "    <a href=https://github.com/mpi-astronomy/arxiv_display style=\"color:black;\">github/mpi-astronomy/arxiv_display</a> \n",
    "  </div>\n",
    "  {carousel:s}\n",
    "</body>\n",
    "\n",
    "<!-- Render Markdown -->\n",
    "\n",
    "<body>\n",
    "  <!-- highlight.js: https://highlightjs.org/download/ -->\n",
    "  <script src=\"https://cdnjs.cloudflare.com/ajax/libs/highlight.js/11.5.0/highlight.min.js\"></script>\n",
    "  <!-- marked.js -->\n",
    "  <script src=\"https://cdn.jsdelivr.net/npm/marked/marked.min.js\"></script>\n",
    "  <script>{script:s}</script>\n",
    "</body>\n",
    "</html>\n",
    "\"\"\"\n",
    "with open(\"_build/html/index_7days.html\", 'w') as fout:\n",
    "    fout.write(page)"
   ]
  },
  {
   "cell_type": "markdown",
   "id": "1cebacbc",
   "metadata": {
    "papermill": {
     "duration": 0.008994,
     "end_time": "2023-01-23T04:11:55.169027",
     "exception": false,
     "start_time": "2023-01-23T04:11:55.160033",
     "status": "completed"
    },
    "tags": []
   },
   "source": [
    "# Debugging papers"
   ]
  },
  {
   "cell_type": "raw",
   "id": "debe7cc6",
   "metadata": {
    "papermill": {
     "duration": 0.008974,
     "end_time": "2023-01-23T04:11:55.187277",
     "exception": false,
     "start_time": "2023-01-23T04:11:55.178303",
     "status": "completed"
    },
    "tags": []
   },
   "source": [
    "raise NotImplementedError(\"Manual Stop\")"
   ]
  },
  {
   "cell_type": "raw",
   "id": "eb169192",
   "metadata": {
    "papermill": {
     "duration": 0.008921,
     "end_time": "2023-01-23T04:11:55.205155",
     "exception": false,
     "start_time": "2023-01-23T04:11:55.196234",
     "status": "completed"
    },
    "scrolled": true,
    "tags": []
   },
   "source": [
    "from IPython.display import display, Markdown\n",
    "from TexSoup import TexSoup\n",
    "import re\n",
    "\n",
    "def bracket_error(source: str):\n",
    "    \"\"\" Find problematic portions of the document \"\"\"\n",
    "    \n",
    "    print(\"len(source)\", len(source))\n",
    "    \n",
    "    # Checking header\n",
    "    begin_doc = next(re.finditer(r'\\\\begin\\{document\\}', doc.source)).span()[1]\n",
    "    header = source[:begin_doc]\n",
    "    text = header + r\"\\n\\end{document}\"\n",
    "\n",
    "    try:\n",
    "        # print(\"Header check... \", end='')\n",
    "        TexSoup(text)\n",
    "        display(Markdown(f\"**[OK]** - Header\"))\n",
    "    except:\n",
    "        raise RuntimeError(\"Error in the header\")\n",
    "        \n",
    "    # Check the text per section until the end.\n",
    "    # Do not stop and try them all.\n",
    "    \n",
    "    problematic_text = []\n",
    "    \n",
    "    sections = ([(0, begin_doc, 'until first section')] + \n",
    "                [(g.span()[0], g.span()[1], g.group()) for g in re.finditer(r'\\\\section\\{.*\\}', source)] +\n",
    "                [(g.span()[0], g.span()[1], g.group()) for g in re.finditer(r'\\\\begin\\{appendix\\}', source)]\n",
    "               )\n",
    "    sections.append([len(source), len(source), 'end'])\n",
    "    \n",
    "    sections = sorted(sections, key=lambda x: x[0])\n",
    "    \n",
    "    prev_pos, prev_name = (0, 'header')\n",
    "    parsed = []\n",
    "    \n",
    "    for span, span_end, name in sections:\n",
    "\n",
    "        if span - prev_pos <= 0:\n",
    "            continue\n",
    "            \n",
    "\n",
    "        text = source[prev_pos:span]\n",
    "        if prev_pos > begin_doc:\n",
    "            text = r\"\\n\\begin{document}\" + text + r\"\\n\\end{document}\"\n",
    "        else:\n",
    "            text = text + r\"\\n\\end{document}\"\n",
    "        try:\n",
    "            #print(f\"{prev_pos}:{prev_name}-->{span}:{name} check... \", end='')\n",
    "            parsed.append(TexSoup(text, tolerance=1))  # allow not ending env\n",
    "            display(Markdown(f\"**[OK]** - *{prev_pos}*:{prev_name} &rarr; *{span}*:{name}\"))\n",
    "            # print(\"ok\")\n",
    "\n",
    "            prev_pos = span\n",
    "            prev_name = name\n",
    "        except:\n",
    "            # print(f\"error between {prev_pos} and {span}\")\n",
    "            display(Markdown(f\"**[ERR]** *{prev_pos}*:{prev_name} &rarr; *{span}*:{name}\"))\n",
    "            problematic_text.append((prev_pos, source[prev_pos:span]))\n",
    "            prev_pos = span\n",
    "            prev_name = name\n",
    "            # raise\n",
    "    return problematic_text, parsed\n",
    "\n",
    "\n",
    "def check_environment(text, offset=0):\n",
    "    \"\"\" Check environment \"\"\"\n",
    "    env = re.compile(r\"\\\\begin\\{(?P<env>.*)\\}(.*)\\\\end\\{(?P=env)\\}\", re.DOTALL)\n",
    "\n",
    "    for match in env.finditer(text):\n",
    "        beg, end = match.span()\n",
    "        beg += offset\n",
    "        end += offset\n",
    "        envname = match.groups()[0]\n",
    "        try:\n",
    "            latex.TexSoup(match.group())\n",
    "        except Exception as e:\n",
    "            display(e)\n",
    "            print(f\"Error in {envname:s} between {beg} and {end}\")\n",
    "            return match.groups()[1], beg, end"
   ]
  },
  {
   "cell_type": "raw",
   "id": "2315e835",
   "metadata": {
    "papermill": {
     "duration": 0.008967,
     "end_time": "2023-01-23T04:11:55.223064",
     "exception": false,
     "start_time": "2023-01-23T04:11:55.214097",
     "status": "completed"
    },
    "scrolled": false,
    "tags": []
   },
   "source": [
    "import importlib\n",
    "importlib.reload(latex)\n",
    "which = \"2204.03253\"\n",
    "paper_id = f'{which:s}'\n",
    "folder = f'tmp_{paper_id:s}'\n",
    "\n",
    "if not os.path.isdir(folder):\n",
    "    folder = retrieve_document_source(f\"{paper_id}\", f'tmp_{paper_id}')\n",
    "\n",
    "try:\n",
    "    doc = latex.LatexDocument(folder, validation=validation)    \n",
    "except AffiliationError as affilerror:\n",
    "    msg = f\"ArXiv:{paper_id:s} is not an MPIA paper... \" + str(affilerror)\n",
    "    print(msg)\n",
    "\n",
    "\n",
    "# Hack because sometimes author parsing does not work well\n",
    "if (len(doc.authors) != len(paper['authors'])):\n",
    "    doc._authors = paper['authors']\n",
    "if (doc.abstract) in (None, ''):\n",
    "    doc._abstract = paper['abstract']\n",
    "\n",
    "doc.comment = get_markdown_badge(paper_id) + \" _\" + paper['comments'] + \"_\"\n",
    "doc.highlight_authors_in_list(hl_list)\n",
    "\n",
    "full_md = doc.generate_markdown_text()"
   ]
  },
  {
   "cell_type": "raw",
   "id": "dd3781db",
   "metadata": {
    "papermill": {
     "duration": 0.008924,
     "end_time": "2023-01-23T04:11:55.240912",
     "exception": false,
     "start_time": "2023-01-23T04:11:55.231988",
     "status": "completed"
    },
    "scrolled": false,
    "tags": []
   },
   "source": [
    "doc"
   ]
  },
  {
   "cell_type": "raw",
   "id": "c6eed834",
   "metadata": {
    "papermill": {
     "duration": 0.00882,
     "end_time": "2023-01-23T04:11:55.258696",
     "exception": false,
     "start_time": "2023-01-23T04:11:55.249876",
     "status": "completed"
    },
    "tags": []
   },
   "source": [
    "# [check_environment(k) for k in bracket_error(doc.source)]\n",
    "_, _, a = latex.get_content_per_section(doc.source, verbose=True)\n",
    "if not a:\n",
    "    print(\"no issues per section\")\n",
    "for ak in a:\n",
    "    r = check_environment(ak[1], offset=ak[0])\n",
    "    print(r[1], r[2])\n",
    "    print(r[0])"
   ]
  },
  {
   "cell_type": "code",
   "execution_count": null,
   "id": "71ce768a",
   "metadata": {
    "papermill": {
     "duration": 0.008905,
     "end_time": "2023-01-23T04:11:55.276727",
     "exception": false,
     "start_time": "2023-01-23T04:11:55.267822",
     "status": "completed"
    },
    "tags": []
   },
   "outputs": [],
   "source": []
  }
 ],
 "metadata": {
  "kernelspec": {
   "display_name": "Python 3",
   "language": "python",
   "name": "python3"
  },
  "language_info": {
   "codemirror_mode": {
    "name": "ipython",
    "version": 3
   },
   "file_extension": ".py",
   "mimetype": "text/x-python",
   "name": "python",
   "nbconvert_exporter": "python",
   "pygments_lexer": "ipython3",
   "version": "3.9.16"
  },
  "papermill": {
   "default_parameters": {},
   "duration": 273.603212,
   "end_time": "2023-01-23T04:11:55.603813",
   "environment_variables": {},
   "exception": null,
   "input_path": "MPIA daily digest.ipynb",
   "output_path": "log.ipynb",
   "parameters": {},
   "start_time": "2023-01-23T04:07:22.000601",
   "version": "2.4.0"
  },
  "vscode": {
   "interpreter": {
    "hash": "aee8b7b246df8f9039afb4144a1f6fd8d2ca17a180786b69acc140d282b71a49"
   }
  },
  "widgets": {
   "application/vnd.jupyter.widget-state+json": {
    "state": {
     "33ae0be05c7b42ad8bc90687806596c1": {
      "model_module": "@jupyter-widgets/base",
      "model_module_version": "2.0.0",
      "model_name": "LayoutModel",
      "state": {
       "_model_module": "@jupyter-widgets/base",
       "_model_module_version": "2.0.0",
       "_model_name": "LayoutModel",
       "_view_count": null,
       "_view_module": "@jupyter-widgets/base",
       "_view_module_version": "2.0.0",
       "_view_name": "LayoutView",
       "align_content": null,
       "align_items": null,
       "align_self": null,
       "border_bottom": null,
       "border_left": null,
       "border_right": null,
       "border_top": null,
       "bottom": null,
       "display": null,
       "flex": null,
       "flex_flow": null,
       "grid_area": null,
       "grid_auto_columns": null,
       "grid_auto_flow": null,
       "grid_auto_rows": null,
       "grid_column": null,
       "grid_gap": null,
       "grid_row": null,
       "grid_template_areas": null,
       "grid_template_columns": null,
       "grid_template_rows": null,
       "height": null,
       "justify_content": null,
       "justify_items": null,
       "left": null,
       "margin": null,
       "max_height": null,
       "max_width": null,
       "min_height": null,
       "min_width": null,
       "object_fit": null,
       "object_position": null,
       "order": null,
       "overflow": null,
       "padding": null,
       "right": null,
       "top": null,
       "visibility": null,
       "width": null
      }
     },
     "774f2a8458a64957917492e8d9fd973e": {
      "model_module": "@jupyter-widgets/controls",
      "model_module_version": "2.0.0",
      "model_name": "ProgressStyleModel",
      "state": {
       "_model_module": "@jupyter-widgets/controls",
       "_model_module_version": "2.0.0",
       "_model_name": "ProgressStyleModel",
       "_view_count": null,
       "_view_module": "@jupyter-widgets/base",
       "_view_module_version": "2.0.0",
       "_view_name": "StyleView",
       "bar_color": null,
       "description_width": ""
      }
     },
     "81dd4c3d6e2c4b1cbda4453880324e2f": {
      "model_module": "@jupyter-widgets/base",
      "model_module_version": "2.0.0",
      "model_name": "LayoutModel",
      "state": {
       "_model_module": "@jupyter-widgets/base",
       "_model_module_version": "2.0.0",
       "_model_name": "LayoutModel",
       "_view_count": null,
       "_view_module": "@jupyter-widgets/base",
       "_view_module_version": "2.0.0",
       "_view_name": "LayoutView",
       "align_content": null,
       "align_items": null,
       "align_self": null,
       "border_bottom": null,
       "border_left": null,
       "border_right": null,
       "border_top": null,
       "bottom": null,
       "display": null,
       "flex": null,
       "flex_flow": null,
       "grid_area": null,
       "grid_auto_columns": null,
       "grid_auto_flow": null,
       "grid_auto_rows": null,
       "grid_column": null,
       "grid_gap": null,
       "grid_row": null,
       "grid_template_areas": null,
       "grid_template_columns": null,
       "grid_template_rows": null,
       "height": null,
       "justify_content": null,
       "justify_items": null,
       "left": null,
       "margin": null,
       "max_height": null,
       "max_width": null,
       "min_height": null,
       "min_width": null,
       "object_fit": null,
       "object_position": null,
       "order": null,
       "overflow": null,
       "padding": null,
       "right": null,
       "top": null,
       "visibility": null,
       "width": null
      }
     },
     "82cb9a946d1140cdbeb26be34e87a3ba": {
      "model_module": "@jupyter-widgets/base",
      "model_module_version": "2.0.0",
      "model_name": "LayoutModel",
      "state": {
       "_model_module": "@jupyter-widgets/base",
       "_model_module_version": "2.0.0",
       "_model_name": "LayoutModel",
       "_view_count": null,
       "_view_module": "@jupyter-widgets/base",
       "_view_module_version": "2.0.0",
       "_view_name": "LayoutView",
       "align_content": null,
       "align_items": null,
       "align_self": null,
       "border_bottom": null,
       "border_left": null,
       "border_right": null,
       "border_top": null,
       "bottom": null,
       "display": null,
       "flex": null,
       "flex_flow": null,
       "grid_area": null,
       "grid_auto_columns": null,
       "grid_auto_flow": null,
       "grid_auto_rows": null,
       "grid_column": null,
       "grid_gap": null,
       "grid_row": null,
       "grid_template_areas": null,
       "grid_template_columns": null,
       "grid_template_rows": null,
       "height": null,
       "justify_content": null,
       "justify_items": null,
       "left": null,
       "margin": null,
       "max_height": null,
       "max_width": null,
       "min_height": null,
       "min_width": null,
       "object_fit": null,
       "object_position": null,
       "order": null,
       "overflow": null,
       "padding": null,
       "right": null,
       "top": null,
       "visibility": null,
       "width": null
      }
     },
     "844f408331da402b9114ba63136ec738": {
      "model_module": "@jupyter-widgets/controls",
      "model_module_version": "2.0.0",
      "model_name": "HTMLStyleModel",
      "state": {
       "_model_module": "@jupyter-widgets/controls",
       "_model_module_version": "2.0.0",
       "_model_name": "HTMLStyleModel",
       "_view_count": null,
       "_view_module": "@jupyter-widgets/base",
       "_view_module_version": "2.0.0",
       "_view_name": "StyleView",
       "background": null,
       "description_width": "",
       "font_size": null,
       "text_color": null
      }
     },
     "9da59a967b904c4d9dc2d6e75d304806": {
      "model_module": "@jupyter-widgets/controls",
      "model_module_version": "2.0.0",
      "model_name": "HTMLModel",
      "state": {
       "_dom_classes": [],
       "_model_module": "@jupyter-widgets/controls",
       "_model_module_version": "2.0.0",
       "_model_name": "HTMLModel",
       "_view_count": null,
       "_view_module": "@jupyter-widgets/controls",
       "_view_module_version": "2.0.0",
       "_view_name": "HTMLView",
       "description": "",
       "description_allow_html": false,
       "layout": "IPY_MODEL_33ae0be05c7b42ad8bc90687806596c1",
       "placeholder": "​",
       "style": "IPY_MODEL_844f408331da402b9114ba63136ec738",
       "tabbable": null,
       "tooltip": null,
       "value": "100%"
      }
     },
     "9f89b7b26dd64ed5838ee40644e4bbff": {
      "model_module": "@jupyter-widgets/controls",
      "model_module_version": "2.0.0",
      "model_name": "HTMLModel",
      "state": {
       "_dom_classes": [],
       "_model_module": "@jupyter-widgets/controls",
       "_model_module_version": "2.0.0",
       "_model_name": "HTMLModel",
       "_view_count": null,
       "_view_module": "@jupyter-widgets/controls",
       "_view_module_version": "2.0.0",
       "_view_name": "HTMLView",
       "description": "",
       "description_allow_html": false,
       "layout": "IPY_MODEL_82cb9a946d1140cdbeb26be34e87a3ba",
       "placeholder": "​",
       "style": "IPY_MODEL_a91a383226224133af8ac6e0cbf2f4b5",
       "tabbable": null,
       "tooltip": null,
       "value": " 17/17 [04:06&lt;00:00,  5.31s/it]"
      }
     },
     "a91a383226224133af8ac6e0cbf2f4b5": {
      "model_module": "@jupyter-widgets/controls",
      "model_module_version": "2.0.0",
      "model_name": "HTMLStyleModel",
      "state": {
       "_model_module": "@jupyter-widgets/controls",
       "_model_module_version": "2.0.0",
       "_model_name": "HTMLStyleModel",
       "_view_count": null,
       "_view_module": "@jupyter-widgets/base",
       "_view_module_version": "2.0.0",
       "_view_name": "StyleView",
       "background": null,
       "description_width": "",
       "font_size": null,
       "text_color": null
      }
     },
     "f0c493ec835e495a9280ccdc094305de": {
      "model_module": "@jupyter-widgets/base",
      "model_module_version": "2.0.0",
      "model_name": "LayoutModel",
      "state": {
       "_model_module": "@jupyter-widgets/base",
       "_model_module_version": "2.0.0",
       "_model_name": "LayoutModel",
       "_view_count": null,
       "_view_module": "@jupyter-widgets/base",
       "_view_module_version": "2.0.0",
       "_view_name": "LayoutView",
       "align_content": null,
       "align_items": null,
       "align_self": null,
       "border_bottom": null,
       "border_left": null,
       "border_right": null,
       "border_top": null,
       "bottom": null,
       "display": null,
       "flex": null,
       "flex_flow": null,
       "grid_area": null,
       "grid_auto_columns": null,
       "grid_auto_flow": null,
       "grid_auto_rows": null,
       "grid_column": null,
       "grid_gap": null,
       "grid_row": null,
       "grid_template_areas": null,
       "grid_template_columns": null,
       "grid_template_rows": null,
       "height": null,
       "justify_content": null,
       "justify_items": null,
       "left": null,
       "margin": null,
       "max_height": null,
       "max_width": null,
       "min_height": null,
       "min_width": null,
       "object_fit": null,
       "object_position": null,
       "order": null,
       "overflow": null,
       "padding": null,
       "right": null,
       "top": null,
       "visibility": null,
       "width": null
      }
     },
     "f47bac3e4e394e96be6533a49ae60722": {
      "model_module": "@jupyter-widgets/controls",
      "model_module_version": "2.0.0",
      "model_name": "FloatProgressModel",
      "state": {
       "_dom_classes": [],
       "_model_module": "@jupyter-widgets/controls",
       "_model_module_version": "2.0.0",
       "_model_name": "FloatProgressModel",
       "_view_count": null,
       "_view_module": "@jupyter-widgets/controls",
       "_view_module_version": "2.0.0",
       "_view_name": "ProgressView",
       "bar_style": "success",
       "description": "",
       "description_allow_html": false,
       "layout": "IPY_MODEL_81dd4c3d6e2c4b1cbda4453880324e2f",
       "max": 17.0,
       "min": 0.0,
       "orientation": "horizontal",
       "style": "IPY_MODEL_774f2a8458a64957917492e8d9fd973e",
       "tabbable": null,
       "tooltip": null,
       "value": 17.0
      }
     },
     "f6777efdfe13438b9f3f1d05b752db30": {
      "model_module": "@jupyter-widgets/controls",
      "model_module_version": "2.0.0",
      "model_name": "HBoxModel",
      "state": {
       "_dom_classes": [],
       "_model_module": "@jupyter-widgets/controls",
       "_model_module_version": "2.0.0",
       "_model_name": "HBoxModel",
       "_view_count": null,
       "_view_module": "@jupyter-widgets/controls",
       "_view_module_version": "2.0.0",
       "_view_name": "HBoxView",
       "box_style": "",
       "children": [
        "IPY_MODEL_9da59a967b904c4d9dc2d6e75d304806",
        "IPY_MODEL_f47bac3e4e394e96be6533a49ae60722",
        "IPY_MODEL_9f89b7b26dd64ed5838ee40644e4bbff"
       ],
       "layout": "IPY_MODEL_f0c493ec835e495a9280ccdc094305de",
       "tabbable": null,
       "tooltip": null
      }
     }
    },
    "version_major": 2,
    "version_minor": 0
   }
  }
 },
 "nbformat": 4,
 "nbformat_minor": 5
}