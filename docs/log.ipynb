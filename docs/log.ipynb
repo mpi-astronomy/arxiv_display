{
 "cells": [
  {
   "cell_type": "markdown",
   "id": "92bcb855",
   "metadata": {
    "papermill": {
     "duration": 0.004767,
     "end_time": "2022-10-25T05:23:03.570015",
     "exception": false,
     "start_time": "2022-10-25T05:23:03.565248",
     "status": "completed"
    },
    "tags": []
   },
   "source": [
    "# MPIA Arxiv on Deck 2\n",
    "\n",
    "Contains the steps to produce the paper extractions."
   ]
  },
  {
   "cell_type": "code",
   "execution_count": 1,
   "id": "3a0d6e11",
   "metadata": {
    "execution": {
     "iopub.execute_input": "2022-10-25T05:23:03.579228Z",
     "iopub.status.busy": "2022-10-25T05:23:03.578958Z",
     "iopub.status.idle": "2022-10-25T05:23:03.742793Z",
     "shell.execute_reply": "2022-10-25T05:23:03.741891Z"
    },
    "papermill": {
     "duration": 0.170371,
     "end_time": "2022-10-25T05:23:03.744512",
     "exception": false,
     "start_time": "2022-10-25T05:23:03.574141",
     "status": "completed"
    },
    "tags": []
   },
   "outputs": [],
   "source": [
    "# Imports\n",
    "import os\n",
    "from IPython.display import Markdown, display\n",
    "from tqdm.notebook import tqdm\n",
    "import warnings\n",
    "from PIL import Image \n",
    "\n",
    "# requires arxiv_on_deck_2\n",
    "\n",
    "from arxiv_on_deck_2.arxiv2 import (get_new_papers, \n",
    "                                    get_paper_from_identifier,\n",
    "                                    retrieve_document_source, \n",
    "                                    get_markdown_badge)\n",
    "from arxiv_on_deck_2 import (latex, \n",
    "                             mpia,\n",
    "                             highlight_authors_in_list)\n",
    "\n",
    "# Sometimes images are really big\n",
    "Image.MAX_IMAGE_PIXELS = 1000000000 "
   ]
  },
  {
   "cell_type": "code",
   "execution_count": 2,
   "id": "22aa9d44",
   "metadata": {
    "execution": {
     "iopub.execute_input": "2022-10-25T05:23:03.753679Z",
     "iopub.status.busy": "2022-10-25T05:23:03.753468Z",
     "iopub.status.idle": "2022-10-25T05:23:03.758143Z",
     "shell.execute_reply": "2022-10-25T05:23:03.757555Z"
    },
    "papermill": {
     "duration": 0.011349,
     "end_time": "2022-10-25T05:23:03.759952",
     "exception": false,
     "start_time": "2022-10-25T05:23:03.748603",
     "status": "completed"
    },
    "tags": []
   },
   "outputs": [],
   "source": [
    "# Some useful definitions.\n",
    "\n",
    "class AffiliationWarning(UserWarning):\n",
    "    pass\n",
    "\n",
    "class AffiliationError(RuntimeError):\n",
    "    pass\n",
    "\n",
    "def validation(source: str):\n",
    "    \"\"\"Raises error paper during parsing of source file\n",
    "    \n",
    "    Allows checks before parsing TeX code.\n",
    "    \n",
    "    Raises AffiliationWarning\n",
    "    \"\"\"\n",
    "    check = mpia.affiliation_verifications(source, verbose=True)\n",
    "    if check is not True:\n",
    "        raise AffiliationError(\"mpia.affiliation_verifications: \" + check)\n",
    "\n",
    "        \n",
    "warnings.simplefilter('always', AffiliationWarning)"
   ]
  },
  {
   "cell_type": "code",
   "execution_count": 3,
   "id": "14622700",
   "metadata": {
    "execution": {
     "iopub.execute_input": "2022-10-25T05:23:03.770034Z",
     "iopub.status.busy": "2022-10-25T05:23:03.769829Z",
     "iopub.status.idle": "2022-10-25T05:23:03.773245Z",
     "shell.execute_reply": "2022-10-25T05:23:03.772650Z"
    },
    "papermill": {
     "duration": 0.011225,
     "end_time": "2022-10-25T05:23:03.774975",
     "exception": false,
     "start_time": "2022-10-25T05:23:03.763750",
     "status": "completed"
    },
    "tags": []
   },
   "outputs": [],
   "source": [
    "# additional CSS to consider. \n",
    "# TODO: Current into each exported file. \n",
    "#       This should be set once into the webpages directly.\n",
    "#       With only the class/id definitions in the .md files.\n",
    "\n",
    "debug_html = \"\"\"\n",
    "<style>\n",
    "#wrap{ overflow:auto; }\n",
    "#fig1{ background:yellow; width:100%; float:left; padding:5px;  }\n",
    "#fig2{ background:red; width:50%; float:left; clear:left; padding:5px;  }\n",
    "#fig3{ background:green; width:50%; float:left; padding:5px;   }\n",
    ".macros{ background:yellow; visibility:visible;}\n",
    "h1 {margin: 0 0 0 0;}\n",
    "mark {background-color:#fff3b6;}\n",
    "img {object-fit:contain; max-height:250px; display:inline-block; text-align: center;}\n",
    "</style>\n",
    "\"\"\" \n",
    "html = \"\"\"\n",
    "<style>\n",
    "#wrap{ overflow:auto; }\n",
    "#fig1{ width:100%; float:left; padding: 5px;  }\n",
    "#fig2{ width:50%; float:left; clear:left; padding: 5px;  }\n",
    "#fig3{ width:50%; float:left; padding: 5px;  }\n",
    ".macros{ visibility:hidden; height:0px; }\n",
    "h1 {margin: 0em 0 0 0;}\n",
    "mark {background-color:#fff3b6;}\n",
    "img {object-fit:contain; max-height:250px; display:inline-block; text-align: center;}\n",
    "</style>\n",
    "\"\"\""
   ]
  },
  {
   "cell_type": "markdown",
   "id": "14bd6310",
   "metadata": {
    "papermill": {
     "duration": 0.003843,
     "end_time": "2022-10-25T05:23:03.782618",
     "exception": false,
     "start_time": "2022-10-25T05:23:03.778775",
     "status": "completed"
    },
    "tags": []
   },
   "source": [
    "## get list of arxiv paper candidates\n",
    "\n",
    "We use the MPIA mitarbeiter list webpage from mpia.de to get author names\n",
    "We then get all new papers from Arxiv and match authors"
   ]
  },
  {
   "cell_type": "code",
   "execution_count": 4,
   "id": "2645e73a",
   "metadata": {
    "execution": {
     "iopub.execute_input": "2022-10-25T05:23:03.791397Z",
     "iopub.status.busy": "2022-10-25T05:23:03.791193Z",
     "iopub.status.idle": "2022-10-25T05:23:33.179069Z",
     "shell.execute_reply": "2022-10-25T05:23:33.177558Z"
    },
    "papermill": {
     "duration": 29.394498,
     "end_time": "2022-10-25T05:23:33.181039",
     "exception": false,
     "start_time": "2022-10-25T05:23:03.786541",
     "status": "completed"
    },
    "tags": []
   },
   "outputs": [
    {
     "name": "stdout",
     "output_type": "stream",
     "text": [
      "Arxiv has 100 new papers today\n",
      "          37 with possible author matches\n"
     ]
    }
   ],
   "source": [
    "# get list from MPIA website\n",
    "# it automatically filters identified non-scientists :func:`mpia.filter_non_scientists`\n",
    "mpia_authors = mpia.get_mpia_mitarbeiter_list()\n",
    "new_papers = get_new_papers()\n",
    "# add manual references\n",
    "add_paper_refs = []\n",
    "new_papers.extend([get_paper_from_identifier(k) for k in add_paper_refs])\n",
    "\n",
    "# select only papers with matching author names and highlight authors\n",
    "hl_list = [k[0] for k in mpia_authors]\n",
    "\n",
    "candidates = []\n",
    "for paperk in new_papers:\n",
    "    hl_authors = highlight_authors_in_list(paperk['authors'], hl_list)\n",
    "    matches = [(hl, orig) for hl, orig in zip(hl_authors, paperk['authors']) if 'mark' in hl]\n",
    "    paperk['authors'] = hl_authors\n",
    "    if matches:\n",
    "        candidates.append(paperk)\n",
    "print(\"\"\"Arxiv has {0:,d} new papers today\"\"\".format(len(new_papers)))        \n",
    "print(\"\"\"          {0:,d} with possible author matches\"\"\".format(len(candidates)))"
   ]
  },
  {
   "cell_type": "markdown",
   "id": "3543b34a",
   "metadata": {
    "papermill": {
     "duration": 0.004037,
     "end_time": "2022-10-25T05:23:33.189443",
     "exception": false,
     "start_time": "2022-10-25T05:23:33.185406",
     "status": "completed"
    },
    "tags": []
   },
   "source": [
    "# Parse sources and generate relevant outputs\n",
    "\n",
    "From the candidates, we do the following steps:\n",
    "* get their tarball from ArXiv (and extract data)\n",
    "* find the main .tex file: find one with \\documentclass{...} (sometimes it's non trivial)\n",
    "* Check affiliations with :func:`validation`, which uses :func:`mpia.affiliation_verifications`\n",
    "* If passing the affiliations: we parse the .tex source\n",
    "   * inject sub-documents into the main (flatten the main document)\n",
    "   * parse structure, extract information (title, abstract, authors, figures...)\n",
    "   * handles `\\graphicspath` if provided\n",
    "* Generate the .md document."
   ]
  },
  {
   "cell_type": "code",
   "execution_count": 5,
   "id": "9576b79e",
   "metadata": {
    "execution": {
     "iopub.execute_input": "2022-10-25T05:23:33.198775Z",
     "iopub.status.busy": "2022-10-25T05:23:33.198318Z",
     "iopub.status.idle": "2022-10-25T05:26:34.356083Z",
     "shell.execute_reply": "2022-10-25T05:26:34.355453Z"
    },
    "papermill": {
     "duration": 181.164786,
     "end_time": "2022-10-25T05:26:34.358145",
     "exception": false,
     "start_time": "2022-10-25T05:23:33.193359",
     "status": "completed"
    },
    "scrolled": false,
    "tags": []
   },
   "outputs": [
    {
     "data": {
      "application/vnd.jupyter.widget-view+json": {
       "model_id": "6f9aa50de17845b3a580cba45a5d878e",
       "version_major": 2,
       "version_minor": 0
      },
      "text/plain": [
       "  0%|          | 0/36 [00:00<?, ?it/s]"
      ]
     },
     "metadata": {},
     "output_type": "display_data"
    },
    {
     "name": "stdout",
     "output_type": "stream",
     "text": [
      "Retrieving document from  https://arxiv.org/e-print/2210.12199\n"
     ]
    },
    {
     "name": "stdout",
     "output_type": "stream",
     "text": [
      "extracting tarball to tmp_2210.12199..."
     ]
    },
    {
     "name": "stdout",
     "output_type": "stream",
     "text": [
      " done.\n",
      "Retrieving document from  https://arxiv.org/e-print/2210.12207\n"
     ]
    },
    {
     "name": "stderr",
     "output_type": "stream",
     "text": [
      "/opt/hostedtoolcache/Python/3.9.15/x64/lib/python3.9/site-packages/IPython/core/interactiveshell.py:3378: LatexWarning: Multiple tex files.\n",
      "\n",
      "  exec(code_obj, self.user_global_ns, self.user_ns)\n",
      "/opt/hostedtoolcache/Python/3.9.15/x64/lib/python3.9/site-packages/IPython/core/interactiveshell.py:3378: LatexWarning: Found documentclass in tmp_2210.12199/aassymbols.tex\n",
      "\n",
      "  exec(code_obj, self.user_global_ns, self.user_ns)\n"
     ]
    },
    {
     "name": "stdout",
     "output_type": "stream",
     "text": [
      "extracting tarball to tmp_2210.12207..."
     ]
    },
    {
     "name": "stdout",
     "output_type": "stream",
     "text": [
      " done.\n",
      "Retrieving document from  https://arxiv.org/e-print/2210.12264\n"
     ]
    },
    {
     "name": "stderr",
     "output_type": "stream",
     "text": [
      "/opt/hostedtoolcache/Python/3.9.15/x64/lib/python3.9/site-packages/IPython/core/interactiveshell.py:3378: LatexWarning: Multiple tex files.\n",
      "\n",
      "  exec(code_obj, self.user_global_ns, self.user_ns)\n",
      "/opt/hostedtoolcache/Python/3.9.15/x64/lib/python3.9/site-packages/IPython/core/interactiveshell.py:3378: LatexWarning: Found documentclass in tmp_2210.12207/natbib.tex\n",
      "\n",
      "  exec(code_obj, self.user_global_ns, self.user_ns)\n"
     ]
    },
    {
     "name": "stdout",
     "output_type": "stream",
     "text": [
      "extracting tarball to tmp_2210.12264..."
     ]
    },
    {
     "name": "stdout",
     "output_type": "stream",
     "text": [
      " done.\n",
      "Retrieving document from  https://arxiv.org/e-print/2210.12266\n"
     ]
    },
    {
     "name": "stderr",
     "output_type": "stream",
     "text": [
      "/opt/hostedtoolcache/Python/3.9.15/x64/lib/python3.9/site-packages/IPython/core/interactiveshell.py:3378: LatexWarning: Multiple tex files.\n",
      "\n",
      "  exec(code_obj, self.user_global_ns, self.user_ns)\n",
      "/opt/hostedtoolcache/Python/3.9.15/x64/lib/python3.9/site-packages/IPython/core/interactiveshell.py:3378: LatexWarning: Found documentclass in tmp_2210.12264/natnotes.tex\n",
      "\n",
      "  exec(code_obj, self.user_global_ns, self.user_ns)\n"
     ]
    },
    {
     "name": "stdout",
     "output_type": "stream",
     "text": [
      "extracting tarball to tmp_2210.12266..."
     ]
    },
    {
     "name": "stdout",
     "output_type": "stream",
     "text": [
      " done.\n",
      "Retrieving document from  https://arxiv.org/e-print/2210.12332\n"
     ]
    },
    {
     "name": "stdout",
     "output_type": "stream",
     "text": [
      "extracting tarball to tmp_2210.12332..."
     ]
    },
    {
     "name": "stdout",
     "output_type": "stream",
     "text": [
      " done.\n",
      "Retrieving document from  https://arxiv.org/e-print/2210.12336\n"
     ]
    },
    {
     "name": "stdout",
     "output_type": "stream",
     "text": [
      "extracting tarball to tmp_2210.12336..."
     ]
    },
    {
     "name": "stdout",
     "output_type": "stream",
     "text": [
      " done.\n",
      "Retrieving document from  https://arxiv.org/e-print/2210.12344\n"
     ]
    },
    {
     "name": "stdout",
     "output_type": "stream",
     "text": [
      "extracting tarball to tmp_2210.12344..."
     ]
    },
    {
     "name": "stdout",
     "output_type": "stream",
     "text": [
      " done.\n"
     ]
    },
    {
     "name": "stderr",
     "output_type": "stream",
     "text": [
      "/opt/hostedtoolcache/Python/3.9.15/x64/lib/python3.9/site-packages/IPython/core/interactiveshell.py:3378: LatexWarning: Multiple tex files.\n",
      "\n",
      "  exec(code_obj, self.user_global_ns, self.user_ns)\n",
      "/opt/hostedtoolcache/Python/3.9.15/x64/lib/python3.9/site-packages/IPython/core/interactiveshell.py:3378: LatexWarning: Found documentclass in tmp_2210.12344/main.tex\n",
      "\n",
      "  exec(code_obj, self.user_global_ns, self.user_ns)\n",
      "/opt/hostedtoolcache/Python/3.9.15/x64/lib/python3.9/site-packages/arxiv_on_deck_2/latex.py:292: LatexWarning: Latex injecting: 'table' from 'tmp_2210.12344/table.tex'\n",
      "  warnings.warn(LatexWarning(f\"Latex injecting: '{ext}' from '{subsource}'\"))\n",
      "/opt/hostedtoolcache/Python/3.9.15/x64/lib/python3.9/site-packages/arxiv_on_deck_2/latex.py:292: LatexWarning: Latex injecting: 'dis' from 'tmp_2210.12344/dis.tex'\n",
      "  warnings.warn(LatexWarning(f\"Latex injecting: '{ext}' from '{subsource}'\"))\n",
      "/opt/hostedtoolcache/Python/3.9.15/x64/lib/python3.9/site-packages/arxiv_on_deck_2/latex.py:292: LatexWarning: Latex injecting: 'lens' from 'tmp_2210.12344/lens.tex'\n",
      "  warnings.warn(LatexWarning(f\"Latex injecting: '{ext}' from '{subsource}'\"))\n",
      "/opt/hostedtoolcache/Python/3.9.15/x64/lib/python3.9/site-packages/arxiv_on_deck_2/latex.py:292: LatexWarning: Latex injecting: 'model' from 'tmp_2210.12344/model.tex'\n",
      "  warnings.warn(LatexWarning(f\"Latex injecting: '{ext}' from '{subsource}'\"))\n",
      "/opt/hostedtoolcache/Python/3.9.15/x64/lib/python3.9/site-packages/arxiv_on_deck_2/latex.py:292: LatexWarning: Latex injecting: 'obser' from 'tmp_2210.12344/obser.tex'\n",
      "  warnings.warn(LatexWarning(f\"Latex injecting: '{ext}' from '{subsource}'\"))\n",
      "/opt/hostedtoolcache/Python/3.9.15/x64/lib/python3.9/site-packages/arxiv_on_deck_2/latex.py:292: LatexWarning: Latex injecting: 'intro' from 'tmp_2210.12344/intro.tex'\n",
      "  warnings.warn(LatexWarning(f\"Latex injecting: '{ext}' from '{subsource}'\"))\n",
      "/opt/hostedtoolcache/Python/3.9.15/x64/lib/python3.9/site-packages/arxiv_on_deck_2/latex.py:292: LatexWarning: Latex injecting: 'abstract' from 'tmp_2210.12344/abstract.tex'\n",
      "  warnings.warn(LatexWarning(f\"Latex injecting: '{ext}' from '{subsource}'\"))\n",
      "/opt/hostedtoolcache/Python/3.9.15/x64/lib/python3.9/site-packages/arxiv_on_deck_2/latex.py:292: LatexWarning: Latex injecting: 'author.tex' from 'tmp_2210.12344/author.tex'\n",
      "  warnings.warn(LatexWarning(f\"Latex injecting: '{ext}' from '{subsource}'\"))\n"
     ]
    },
    {
     "name": "stderr",
     "output_type": "stream",
     "text": [
      "/opt/hostedtoolcache/Python/3.9.15/x64/lib/python3.9/site-packages/arxiv_on_deck_2/latex.py:366: LatexWarning: Error parsing the document directly. Trying to recover.\n",
      "  warnings.warn(LatexWarning(f\"Error parsing the document directly. Trying to recover.\"))\n"
     ]
    },
    {
     "name": "stdout",
     "output_type": "stream",
     "text": [
      "✔ → 0:header\n",
      "  ↳ 8514:\\section{Introduction}\\label{intro}\n",
      "✔ → 8514:\\section{Introduction}\\label{intro}\n",
      "  ↳ 13241:\\section{Observations and Data Reductions}\\label{obser}\n"
     ]
    },
    {
     "name": "stdout",
     "output_type": "stream",
     "text": [
      "✔ → 13241:\\section{Observations and Data Reductions}\\label{obser}\n",
      "  ↳ 16769:\\section{Light-curve Analysis}\\label{model}\n"
     ]
    },
    {
     "name": "stdout",
     "output_type": "stream",
     "text": [
      "✘ → 16769:\\section{Light-curve Analysis}\\label{model}\n",
      "  ↳ 56624:\\section{Source and Lens Properties}\\label{lens}\n"
     ]
    },
    {
     "name": "stdout",
     "output_type": "stream",
     "text": [
      "✔ → 56624:\\section{Source and Lens Properties}\\label{lens}\n",
      "  ↳ 81330:\\section{Discussion}\\label{dis}\n"
     ]
    },
    {
     "name": "stdout",
     "output_type": "stream",
     "text": [
      "✔ → 81330:\\section{Discussion}\\label{dis}\n",
      "  ↳ 103171:end\n"
     ]
    },
    {
     "name": "stderr",
     "output_type": "stream",
     "text": [
      "/tmp/ipykernel_2271/4030337529.py:34: LatexWarning: 2210.12344 did not run properly\n",
      "sequence item 0: expected str instance, TexNode found\n",
      "  warnings.warn(latex.LatexWarning(f\"{paper_id:s} did not run properly\\n\" +\n"
     ]
    },
    {
     "name": "stdout",
     "output_type": "stream",
     "text": [
      "Retrieving document from  https://arxiv.org/e-print/2210.12412\n"
     ]
    },
    {
     "name": "stdout",
     "output_type": "stream",
     "text": [
      "extracting tarball to tmp_2210.12412..."
     ]
    },
    {
     "name": "stdout",
     "output_type": "stream",
     "text": [
      " done.\n"
     ]
    },
    {
     "name": "stderr",
     "output_type": "stream",
     "text": [
      "/opt/hostedtoolcache/Python/3.9.15/x64/lib/python3.9/site-packages/IPython/core/interactiveshell.py:3378: LatexWarning: Multiple tex files.\n",
      "\n",
      "  exec(code_obj, self.user_global_ns, self.user_ns)\n",
      "/opt/hostedtoolcache/Python/3.9.15/x64/lib/python3.9/site-packages/IPython/core/interactiveshell.py:3378: LatexWarning: Found documentclass in tmp_2210.12412/main.tex\n",
      "\n",
      "  exec(code_obj, self.user_global_ns, self.user_ns)\n"
     ]
    },
    {
     "name": "stdout",
     "output_type": "stream",
     "text": [
      "Retrieving document from  https://arxiv.org/e-print/2210.12413\n"
     ]
    },
    {
     "name": "stdout",
     "output_type": "stream",
     "text": [
      "extracting tarball to tmp_2210.12413..."
     ]
    },
    {
     "name": "stdout",
     "output_type": "stream",
     "text": [
      " done.\n",
      "Retrieving document from  https://arxiv.org/e-print/2210.12422\n"
     ]
    },
    {
     "name": "stdout",
     "output_type": "stream",
     "text": [
      "extracting tarball to tmp_2210.12422... done.\n",
      "Retrieving document from  https://arxiv.org/e-print/2210.12474\n"
     ]
    },
    {
     "name": "stdout",
     "output_type": "stream",
     "text": [
      "extracting tarball to tmp_2210.12474..."
     ]
    },
    {
     "name": "stdout",
     "output_type": "stream",
     "text": [
      " done.\n",
      "Retrieving document from  https://arxiv.org/e-print/2210.12475\n"
     ]
    },
    {
     "name": "stdout",
     "output_type": "stream",
     "text": [
      "extracting tarball to tmp_2210.12475..."
     ]
    },
    {
     "name": "stdout",
     "output_type": "stream",
     "text": [
      " done.\n",
      "Retrieving document from  https://arxiv.org/e-print/2210.12477\n"
     ]
    },
    {
     "name": "stderr",
     "output_type": "stream",
     "text": [
      "/opt/hostedtoolcache/Python/3.9.15/x64/lib/python3.9/site-packages/IPython/core/interactiveshell.py:3378: LatexWarning: Multiple tex files.\n",
      "\n",
      "  exec(code_obj, self.user_global_ns, self.user_ns)\n",
      "/opt/hostedtoolcache/Python/3.9.15/x64/lib/python3.9/site-packages/IPython/core/interactiveshell.py:3378: LatexWarning: Found documentclass in tmp_2210.12475/natbib.tex\n",
      "\n",
      "  exec(code_obj, self.user_global_ns, self.user_ns)\n"
     ]
    },
    {
     "name": "stdout",
     "output_type": "stream",
     "text": [
      "extracting tarball to tmp_2210.12477..."
     ]
    },
    {
     "name": "stdout",
     "output_type": "stream",
     "text": [
      " done.\n",
      "Retrieving document from  https://arxiv.org/e-print/2210.12498\n"
     ]
    },
    {
     "name": "stdout",
     "output_type": "stream",
     "text": [
      "extracting tarball to tmp_2210.12498..."
     ]
    },
    {
     "name": "stdout",
     "output_type": "stream",
     "text": [
      " done.\n",
      "Retrieving document from  https://arxiv.org/e-print/2210.12588\n"
     ]
    },
    {
     "name": "stderr",
     "output_type": "stream",
     "text": [
      "/opt/hostedtoolcache/Python/3.9.15/x64/lib/python3.9/site-packages/IPython/core/interactiveshell.py:3378: LatexWarning: Multiple tex files.\n",
      "\n",
      "  exec(code_obj, self.user_global_ns, self.user_ns)\n",
      "/opt/hostedtoolcache/Python/3.9.15/x64/lib/python3.9/site-packages/IPython/core/interactiveshell.py:3378: LatexWarning: Found documentclass in tmp_2210.12498/main.tex\n",
      "\n",
      "  exec(code_obj, self.user_global_ns, self.user_ns)\n",
      "/opt/hostedtoolcache/Python/3.9.15/x64/lib/python3.9/site-packages/arxiv_on_deck_2/latex.py:292: LatexWarning: Latex injecting: 'LEGACY/NGC4636_v04' from 'tmp_2210.12498/LEGACY/NGC4636_v04.tex'\n",
      "  warnings.warn(LatexWarning(f\"Latex injecting: '{ext}' from '{subsource}'\"))\n",
      "/opt/hostedtoolcache/Python/3.9.15/x64/lib/python3.9/site-packages/arxiv_on_deck_2/latex.py:292: LatexWarning: Latex injecting: 'LEGACY/Eridanus_v04' from 'tmp_2210.12498/LEGACY/Eridanus_v04.tex'\n",
      "  warnings.warn(LatexWarning(f\"Latex injecting: '{ext}' from '{subsource}'\"))\n",
      "/opt/hostedtoolcache/Python/3.9.15/x64/lib/python3.9/site-packages/arxiv_on_deck_2/latex.py:292: LatexWarning: Latex injecting: 'LEGACY/Norma_v04' from 'tmp_2210.12498/LEGACY/Norma_v04.tex'\n",
      "  warnings.warn(LatexWarning(f\"Latex injecting: '{ext}' from '{subsource}'\"))\n",
      "/opt/hostedtoolcache/Python/3.9.15/x64/lib/python3.9/site-packages/arxiv_on_deck_2/latex.py:292: LatexWarning: Latex injecting: 'LEGACY/Hydra_v04' from 'tmp_2210.12498/LEGACY/Hydra_v04.tex'\n",
      "  warnings.warn(LatexWarning(f\"Latex injecting: '{ext}' from '{subsource}'\"))\n"
     ]
    },
    {
     "name": "stdout",
     "output_type": "stream",
     "text": [
      "extracting tarball to tmp_2210.12588..."
     ]
    },
    {
     "name": "stdout",
     "output_type": "stream",
     "text": [
      " done.\n",
      "Retrieving document from  https://arxiv.org/e-print/2210.12671\n"
     ]
    },
    {
     "name": "stdout",
     "output_type": "stream",
     "text": [
      "extracting tarball to tmp_2210.12671..."
     ]
    },
    {
     "name": "stdout",
     "output_type": "stream",
     "text": [
      " done.\n",
      "Retrieving document from  https://arxiv.org/e-print/2210.12679\n"
     ]
    },
    {
     "name": "stdout",
     "output_type": "stream",
     "text": [
      "extracting tarball to tmp_2210.12679..."
     ]
    },
    {
     "name": "stdout",
     "output_type": "stream",
     "text": [
      " done.\n",
      "Retrieving document from  https://arxiv.org/e-print/2210.12708\n"
     ]
    },
    {
     "name": "stderr",
     "output_type": "stream",
     "text": [
      "/tmp/ipykernel_2271/4030337529.py:34: LatexWarning: 2210.12708 did not run properly\n",
      "not a gzip file\n",
      "  warnings.warn(latex.LatexWarning(f\"{paper_id:s} did not run properly\\n\" +\n"
     ]
    },
    {
     "name": "stdout",
     "output_type": "stream",
     "text": [
      "Retrieving document from  https://arxiv.org/e-print/2210.12710\n"
     ]
    },
    {
     "name": "stderr",
     "output_type": "stream",
     "text": [
      "/tmp/ipykernel_2271/4030337529.py:34: LatexWarning: 2210.12710 did not run properly\n",
      "not a gzip file\n",
      "  warnings.warn(latex.LatexWarning(f\"{paper_id:s} did not run properly\\n\" +\n"
     ]
    },
    {
     "name": "stdout",
     "output_type": "stream",
     "text": [
      "Retrieving document from  https://arxiv.org/e-print/2210.12717\n"
     ]
    },
    {
     "name": "stdout",
     "output_type": "stream",
     "text": [
      "extracting tarball to tmp_2210.12717..."
     ]
    },
    {
     "name": "stdout",
     "output_type": "stream",
     "text": [
      " done.\n",
      "Retrieving document from  https://arxiv.org/e-print/2210.12744\n"
     ]
    },
    {
     "name": "stdout",
     "output_type": "stream",
     "text": [
      "extracting tarball to tmp_2210.12744..."
     ]
    },
    {
     "name": "stdout",
     "output_type": "stream",
     "text": [
      " done.\n",
      "Retrieving document from  https://arxiv.org/e-print/2210.12791\n"
     ]
    },
    {
     "name": "stdout",
     "output_type": "stream",
     "text": [
      "extracting tarball to tmp_2210.12791..."
     ]
    },
    {
     "name": "stdout",
     "output_type": "stream",
     "text": [
      " done.\n",
      "Retrieving document from  https://arxiv.org/e-print/2210.12815\n"
     ]
    },
    {
     "name": "stdout",
     "output_type": "stream",
     "text": [
      "extracting tarball to tmp_2210.12815..."
     ]
    },
    {
     "name": "stdout",
     "output_type": "stream",
     "text": [
      " done.\n",
      "Retrieving document from  https://arxiv.org/e-print/2210.12847\n"
     ]
    },
    {
     "name": "stdout",
     "output_type": "stream",
     "text": [
      "extracting tarball to tmp_2210.12847..."
     ]
    },
    {
     "name": "stdout",
     "output_type": "stream",
     "text": [
      " done.\n",
      "Retrieving document from  https://arxiv.org/e-print/2210.12880\n"
     ]
    },
    {
     "name": "stdout",
     "output_type": "stream",
     "text": [
      "extracting tarball to tmp_2210.12880..."
     ]
    },
    {
     "name": "stdout",
     "output_type": "stream",
     "text": [
      " done.\n",
      "Retrieving document from  https://arxiv.org/e-print/2210.12886\n"
     ]
    },
    {
     "name": "stdout",
     "output_type": "stream",
     "text": [
      "extracting tarball to tmp_2210.12886..."
     ]
    },
    {
     "name": "stdout",
     "output_type": "stream",
     "text": [
      " done.\n",
      "Retrieving document from  https://arxiv.org/e-print/2210.12939\n"
     ]
    },
    {
     "name": "stdout",
     "output_type": "stream",
     "text": [
      "extracting tarball to tmp_2210.12939..."
     ]
    },
    {
     "name": "stdout",
     "output_type": "stream",
     "text": [
      " done.\n",
      "Retrieving document from  https://arxiv.org/e-print/2210.12948\n"
     ]
    },
    {
     "name": "stdout",
     "output_type": "stream",
     "text": [
      "extracting tarball to tmp_2210.12948..."
     ]
    },
    {
     "name": "stdout",
     "output_type": "stream",
     "text": [
      " done.\n",
      "Retrieving document from  https://arxiv.org/e-print/2210.12959\n"
     ]
    },
    {
     "name": "stderr",
     "output_type": "stream",
     "text": [
      "/opt/hostedtoolcache/Python/3.9.15/x64/lib/python3.9/site-packages/IPython/core/interactiveshell.py:3378: LatexWarning: Multiple tex files.\n",
      "\n",
      "  exec(code_obj, self.user_global_ns, self.user_ns)\n",
      "/opt/hostedtoolcache/Python/3.9.15/x64/lib/python3.9/site-packages/IPython/core/interactiveshell.py:3378: LatexWarning: Found documentclass in tmp_2210.12948/aassymbols.tex\n",
      "\n",
      "  exec(code_obj, self.user_global_ns, self.user_ns)\n"
     ]
    },
    {
     "name": "stdout",
     "output_type": "stream",
     "text": [
      "extracting tarball to tmp_2210.12959..."
     ]
    },
    {
     "name": "stdout",
     "output_type": "stream",
     "text": [
      " done.\n",
      "Retrieving document from  https://arxiv.org/e-print/2210.13091\n"
     ]
    },
    {
     "name": "stderr",
     "output_type": "stream",
     "text": [
      "/opt/hostedtoolcache/Python/3.9.15/x64/lib/python3.9/site-packages/IPython/core/interactiveshell.py:3378: LatexWarning: Multiple tex files.\n",
      "\n",
      "  exec(code_obj, self.user_global_ns, self.user_ns)\n",
      "/opt/hostedtoolcache/Python/3.9.15/x64/lib/python3.9/site-packages/IPython/core/interactiveshell.py:3378: LatexWarning: Found documentclass in tmp_2210.12959/review.tex\n",
      "\n",
      "  exec(code_obj, self.user_global_ns, self.user_ns)\n",
      "/opt/hostedtoolcache/Python/3.9.15/x64/lib/python3.9/site-packages/arxiv_on_deck_2/latex.py:292: LatexWarning: Latex injecting: 'acknowledgements' from 'tmp_2210.12959/acknowledgements.tex'\n",
      "  warnings.warn(LatexWarning(f\"Latex injecting: '{ext}' from '{subsource}'\"))\n",
      "/opt/hostedtoolcache/Python/3.9.15/x64/lib/python3.9/site-packages/arxiv_on_deck_2/latex.py:292: LatexWarning: Latex injecting: 'pointsourcesandtransients' from 'tmp_2210.12959/pointsourcesandtransients.tex'\n",
      "  warnings.warn(LatexWarning(f\"Latex injecting: '{ext}' from '{subsource}'\"))\n",
      "/opt/hostedtoolcache/Python/3.9.15/x64/lib/python3.9/site-packages/arxiv_on_deck_2/latex.py:292: LatexWarning: Latex injecting: 'sd' from 'tmp_2210.12959/sd.tex'\n",
      "  warnings.warn(LatexWarning(f\"Latex injecting: '{ext}' from '{subsource}'\"))\n",
      "/opt/hostedtoolcache/Python/3.9.15/x64/lib/python3.9/site-packages/arxiv_on_deck_2/latex.py:292: LatexWarning: Latex injecting: 'hybrid_universality' from 'tmp_2210.12959/hybrid_universality.tex'\n",
      "  warnings.warn(LatexWarning(f\"Latex injecting: '{ext}' from '{subsource}'\"))\n",
      "/opt/hostedtoolcache/Python/3.9.15/x64/lib/python3.9/site-packages/arxiv_on_deck_2/latex.py:292: LatexWarning: Latex injecting: 'heco' from 'tmp_2210.12959/heco.tex'\n",
      "  warnings.warn(LatexWarning(f\"Latex injecting: '{ext}' from '{subsource}'\"))\n",
      "/opt/hostedtoolcache/Python/3.9.15/x64/lib/python3.9/site-packages/arxiv_on_deck_2/latex.py:292: LatexWarning: Latex injecting: 'authors_institutions' from 'tmp_2210.12959/authors_institutions.tex'\n",
      "  warnings.warn(LatexWarning(f\"Latex injecting: '{ext}' from '{subsource}'\"))\n",
      "/opt/hostedtoolcache/Python/3.9.15/x64/lib/python3.9/site-packages/arxiv_on_deck_2/latex.py:292: LatexWarning: Latex injecting: 'authors' from 'tmp_2210.12959/authors.tex'\n",
      "  warnings.warn(LatexWarning(f\"Latex injecting: '{ext}' from '{subsource}'\"))\n"
     ]
    },
    {
     "name": "stdout",
     "output_type": "stream",
     "text": [
      "extracting tarball to tmp_2210.13091..."
     ]
    },
    {
     "name": "stdout",
     "output_type": "stream",
     "text": [
      " done.\n",
      "Retrieving document from  https://arxiv.org/e-print/2210.13104\n"
     ]
    },
    {
     "name": "stdout",
     "output_type": "stream",
     "text": [
      "extracting tarball to tmp_2210.13104..."
     ]
    },
    {
     "name": "stdout",
     "output_type": "stream",
     "text": [
      " done.\n",
      "Retrieving document from  https://arxiv.org/e-print/2210.13152\n"
     ]
    },
    {
     "name": "stdout",
     "output_type": "stream",
     "text": [
      "extracting tarball to tmp_2210.13152..."
     ]
    },
    {
     "name": "stdout",
     "output_type": "stream",
     "text": [
      " done.\n",
      "Retrieving document from  https://arxiv.org/e-print/2210.13204\n"
     ]
    },
    {
     "name": "stdout",
     "output_type": "stream",
     "text": [
      "extracting tarball to tmp_2210.13204..."
     ]
    },
    {
     "name": "stdout",
     "output_type": "stream",
     "text": [
      " done.\n",
      "Retrieving document from  https://arxiv.org/e-print/2210.13249\n"
     ]
    },
    {
     "name": "stderr",
     "output_type": "stream",
     "text": [
      "/opt/hostedtoolcache/Python/3.9.15/x64/lib/python3.9/site-packages/IPython/core/interactiveshell.py:3378: LatexWarning: Multiple tex files.\n",
      "\n",
      "  exec(code_obj, self.user_global_ns, self.user_ns)\n",
      "/opt/hostedtoolcache/Python/3.9.15/x64/lib/python3.9/site-packages/IPython/core/interactiveshell.py:3378: LatexWarning: Found documentclass in tmp_2210.13204/natnotes.tex\n",
      "\n",
      "  exec(code_obj, self.user_global_ns, self.user_ns)\n"
     ]
    },
    {
     "name": "stdout",
     "output_type": "stream",
     "text": [
      "extracting tarball to tmp_2210.13249... done.\n",
      "Retrieving document from  https://arxiv.org/e-print/2210.13260\n"
     ]
    },
    {
     "name": "stdout",
     "output_type": "stream",
     "text": [
      "extracting tarball to tmp_2210.13260..."
     ]
    },
    {
     "name": "stdout",
     "output_type": "stream",
     "text": [
      " done.\n",
      "Retrieving document from  https://arxiv.org/e-print/2210.13294\n"
     ]
    },
    {
     "name": "stdout",
     "output_type": "stream",
     "text": [
      "extracting tarball to tmp_2210.13294..."
     ]
    },
    {
     "name": "stdout",
     "output_type": "stream",
     "text": [
      " done.\n"
     ]
    }
   ],
   "source": [
    "documents = []\n",
    "failed = []\n",
    "for paper in tqdm(candidates[:-1]):\n",
    "    paper_id = paper['identifier'].lower().replace('arxiv:', '')\n",
    "    \n",
    "    folder = f'tmp_{paper_id}'\n",
    "\n",
    "    try:\n",
    "        if not os.path.isdir(folder):\n",
    "            folder = retrieve_document_source(f\"{paper_id}\", f'tmp_{paper_id}')\n",
    "        \n",
    "        try:\n",
    "            doc = latex.LatexDocument(folder, validation=validation)    \n",
    "        except AffiliationError as affilerror:\n",
    "            msg = f\"ArXiv:{paper_id:s} is not an MPIA paper... \" + str(affilerror)\n",
    "            failed.append((paper, \"affiliation error: \" + str(affilerror) ))\n",
    "            continue\n",
    "        \n",
    "        # Hack because sometimes author parsing does not work well\n",
    "        if (len(doc.authors) != len(paper['authors'])):\n",
    "            doc._authors = paper['authors']\n",
    "        if (doc.abstract) in (None, ''):\n",
    "            doc._abstract = paper['abstract']\n",
    "            \n",
    "        doc.comment = (get_markdown_badge(paper_id) + \n",
    "                       \"<mark>Appeared on: \" + paper['date'] + \"</mark> - \" +\n",
    "                       \"_\" + paper['comments'] + \"_\")\n",
    "        doc.highlight_authors_in_list(hl_list)\n",
    "\n",
    "        full_md = doc.generate_markdown_text()\n",
    "        \n",
    "        documents.append((paper_id, full_md))\n",
    "    except Exception as e:\n",
    "        warnings.warn(latex.LatexWarning(f\"{paper_id:s} did not run properly\\n\" +\n",
    "                                         str(e)\n",
    "                                        ))\n",
    "        failed.append((paper, \"latex error \" + str(e)))"
   ]
  },
  {
   "cell_type": "markdown",
   "id": "2505a25c",
   "metadata": {
    "papermill": {
     "duration": 0.008769,
     "end_time": "2022-10-25T05:26:34.375622",
     "exception": false,
     "start_time": "2022-10-25T05:26:34.366853",
     "status": "completed"
    },
    "tags": []
   },
   "source": [
    "### Export the logs\n",
    "\n",
    "Throughout, we also keep track of the logs per paper. see `logs-{today date}.md` "
   ]
  },
  {
   "cell_type": "code",
   "execution_count": 6,
   "id": "d733828a",
   "metadata": {
    "execution": {
     "iopub.execute_input": "2022-10-25T05:26:34.394121Z",
     "iopub.status.busy": "2022-10-25T05:26:34.393587Z",
     "iopub.status.idle": "2022-10-25T05:26:34.435971Z",
     "shell.execute_reply": "2022-10-25T05:26:34.435214Z"
    },
    "papermill": {
     "duration": 0.053473,
     "end_time": "2022-10-25T05:26:34.437515",
     "exception": false,
     "start_time": "2022-10-25T05:26:34.384042",
     "status": "completed"
    },
    "scrolled": false,
    "tags": []
   },
   "outputs": [
    {
     "data": {
      "text/markdown": [
       "## Successful papers"
      ],
      "text/plain": [
       "<IPython.core.display.Markdown object>"
      ]
     },
     "metadata": {},
     "output_type": "display_data"
    },
    {
     "data": {
      "text/markdown": [
       "\n",
       "|||\n",
       "|---:|:---|\n",
       "| [![arXiv](https://img.shields.io/badge/arXiv-arXiv:2210.12412-b31b1b.svg)](https://arxiv.org/abs/arXiv:2210.12412) | **Impact of water vapor seeing on mid-infrared high-contrast imaging at  ELT scale**  |\n",
       "|| Olivier Absil, et al. -- incl., <mark>Roy van Boekel</mark> |\n",
       "|*Appeared on*| *2022-10-25*|\n",
       "|*Comments*| *13 pages, paper presented at SPIE Astronomical Telescopes + Instrumentation 2022*|\n",
       "|**Abstract**| The high-speed variability of the local water vapor content in the Earth atmosphere is a significant contributor to ground-based wavefront quality throughout the infrared domain. Unlike dry air, water vapor is highly chromatic, especially in the mid-infrared. This means that adaptive optics correction in the visible or near-infrared domain does not necessarily ensure a high wavefront quality at longer wavelengths. Here, we use literature measurements of water vapor seeing, and more recent infrared interferometric data from the Very Large Telescope Interferometer (VLTI), to evaluate the wavefront quality that will be delivered to the METIS mid-infrared camera and spectrograph for the Extremely Large Telescope (ELT), operating from 3 to 13 {\\mu}m, after single-conjugate adaptive optics correction in the near-infrared. We discuss how the additional wavefront error due to water vapor seeing is expected to dominate the wavefront quality budget at N band (8-13 {\\mu}m), and therefore to drive the performance of mid-infrared high-contrast imaging modes at ELT scale. Then we present how the METIS team is planning to mitigate the effect of water vapor seeing using focal-plane wavefront sensing techniques, and show with end-to-end simulations by how much the high-contrast imaging performance can be improved. |"
      ],
      "text/plain": [
       "[arXiv:2210.12412] Impact of water vapor seeing on mid-infrared high-contrast imaging at  ELT scale\n",
       "\tOlivier Absil, et al. -- incl., <mark>Roy van Boekel</mark>"
      ]
     },
     "metadata": {},
     "output_type": "display_data"
    },
    {
     "data": {
      "text/markdown": [
       "## Failed papers"
      ],
      "text/plain": [
       "<IPython.core.display.Markdown object>"
      ]
     },
     "metadata": {},
     "output_type": "display_data"
    },
    {
     "data": {
      "text/markdown": [
       "\n",
       "|||\n",
       "|---:|:---|\n",
       "| [![arXiv](https://img.shields.io/badge/arXiv-arXiv:2210.12199-b31b1b.svg)](https://arxiv.org/abs/arXiv:2210.12199) | **Resolved Molecular Gas Observations of MaNGA Post-starbursts Reveal a  Tumultuous Past**  |\n",
       "|| Justin Atsushi Otter, et al. -- incl., <mark>Timothy Heckman</mark>, <mark>Lihwai Lin</mark>, <mark>Charles Liu</mark> |\n",
       "|*Appeared on*| *2022-10-25*|\n",
       "|*Comments*| *Accepted for publication in The Astrophysical Journal*|\n",
       "|**Abstract**| Post-starburst galaxies (PSBs) have recently and rapidly quenched their star-formation, thus they are an important way to understand how galaxies transition from star-forming late-types to quiescent early-types. The recent discovery of large cold gas reservoirs in PSBs calls into question the theory that galaxies must lose their gas to become quiescent. Optical Integral Field Spectroscopy (IFS) surveys have revealed two classes of PSBs: central PSBs with central quenching regions and ring PSBs with quenching in their outskirts. We analyze a sample of 13 nearby (z < 0.1) PSBs with spatially resolved optical IFS data from the Mapping Nearby Galaxies at Apache Point Observatory (MaNGA) survey and matched resolution Atacama Large (sub-)Millimeter Array (ALMA) observations of $^{12}$CO(1-0). Disturbed stellar kinematics in 7/13 of our PSBs and centrally concentrated molecular gas is consistent with a recent merger for most of our sample. In galaxies without merger evidence, alternate processes may funnel gas inwards and suppress star-formation, which may include outflows, stellar bars, and minor mergers or interactions. The star-formation efficiencies of the post-starburst regions in nearly half our galaxies are suppressed while the gas fractions are consistent with star-forming galaxies. AGN feedback may drive this stabilization, and we observe AGN-consistent emission in the centers of 5/13 galaxies. Finally, our central and ring PSBs have similar properties except the ionized and molecular gas in central PSBs is more disturbed. Overall, the molecular gas in our PSBs tends to be compact and highly disturbed, resulting in concentrated gas reservoirs unable to form stars efficiently. |\n",
       "|<p style=\"color:green\"> **ERROR** </p>| <p style=\"color:green\">affiliation error: mpia.affiliation_verifications: 'Heidelberg' keyword not found.</p> |"
      ],
      "text/plain": [
       "<IPython.core.display.Markdown object>"
      ]
     },
     "metadata": {},
     "output_type": "display_data"
    },
    {
     "data": {
      "text/markdown": [
       "\n",
       "|||\n",
       "|---:|:---|\n",
       "| [![arXiv](https://img.shields.io/badge/arXiv-arXiv:2210.12207-b31b1b.svg)](https://arxiv.org/abs/arXiv:2210.12207) | **A New Distance to the Supernova Remnant DA 530 Based on HI Absorption of  Polarized Emission**  |\n",
       "|| Rebecca A. Booth, et al. -- incl., <mark>Jo-Anne Brown</mark> |\n",
       "|*Appeared on*| *2022-10-25*|\n",
       "|*Comments*| **|\n",
       "|**Abstract**| Supernova remnants (SNRs) are significant contributors of matter and energy to the interstellar medium. Understanding the impact and the mechanism of this contribution requires knowledge of the physical size, energy, and expansion rate of individual SNRs, which can only come if reliable distances can be obtained. We aim to determine the distance to the SNR DA 530 (G93.3+6.9), an object of low surface brightness. To achieve this, we used the Dominion Radio Astrophysical Observatory Synthesis Telescope and the National Radio Astronomy Observatory Very Large Array to observe the absorption by intervening HI of the polarized emission from DA 530. Significant absorption was detected at velocities $-28$ and -67 km/s (relative to the local standard of rest), corresponding to distances of 4.4 and 8.3 kpc, respectively. Based on the radio and X-ray characteristics of DA 530, we conclude that the minimum distance is 4.4$^{+0.4}_{-0.2}$ kpc. At this minimum distance, the diameter of the SNR is 34$^{+4}_{-1}$ pc, and the elevation above the Galactic plane is 537$^{+40}_{-32}$ pc. The $-67$ km/s absorption likely occurs in gas whose velocity is not determined by Galactic rotation. We present a new data processing method for combining Stokes $Q$ and $U$ observations of the emission from an SNR into a single HI absorption spectrum, which avoids the difficulties of the noise-bias subtraction required for the calculation of polarized intensity. The polarized absorption technique can be applied to determine distances to many more SNRs. |\n",
       "|<p style=\"color:green\"> **ERROR** </p>| <p style=\"color:green\">affiliation error: mpia.affiliation_verifications: 'Heidelberg' keyword not found.</p> |"
      ],
      "text/plain": [
       "<IPython.core.display.Markdown object>"
      ]
     },
     "metadata": {},
     "output_type": "display_data"
    },
    {
     "data": {
      "text/markdown": [
       "\n",
       "|||\n",
       "|---:|:---|\n",
       "| [![arXiv](https://img.shields.io/badge/arXiv-arXiv:2210.12264-b31b1b.svg)](https://arxiv.org/abs/arXiv:2210.12264) | **A machine learning approach to assessing the presence of substructure in  quasar host galaxies using the Hyper Suprime-Cam Subaru Strategic Program**  |\n",
       "|| Chris Nagele, et al. -- incl., <mark>Junyao Li</mark> |\n",
       "|*Appeared on*| *2022-10-25*|\n",
       "|*Comments*| *Comments are welcome*|\n",
       "|**Abstract**| The conditions under which galactic nuclear regions become active are largely unknown, although it has been hypothesized that secular processes related to galaxy morphology could play a significant role. We investigate this question using optical i-band images of 3096 SDSS quasars and galaxies at 0.3<z<0.6 from the Hyper Suprime-Cam Subaru Strategic Program, which posses a unique combination of area, depth and resolution, allowing the use of residual images, after removal of the quasar and smooth galaxy model, to investigate internal structural features. We employ a variational auto-encoder which is a generative model that acts as a form of dimensionality reduction. We analyze the lower dimensional latent space in search of features which correlate with nuclear activity. We find that the latent space does separate images based on the presence of nuclear activity which appears to be associated with more pronounced components (i.e., arcs, rings and bars) as compared to a matched control sample of inactive galaxies. These results suggest the importance of secular processes, and possibly mergers (by their remnant features) in activating or sustaining black hole growth. Our study highlights the breadth of information available in ground-based imaging taken under optimal seeing conditions and having accurate characterization of the point spread function (PSF) thus demonstrating future science to come from the Rubin Observatory. |\n",
       "|<p style=\"color:green\"> **ERROR** </p>| <p style=\"color:green\">affiliation error: mpia.affiliation_verifications: 'Heidelberg' keyword not found.</p> |"
      ],
      "text/plain": [
       "<IPython.core.display.Markdown object>"
      ]
     },
     "metadata": {},
     "output_type": "display_data"
    },
    {
     "data": {
      "text/markdown": [
       "\n",
       "|||\n",
       "|---:|:---|\n",
       "| [![arXiv](https://img.shields.io/badge/arXiv-arXiv:2210.12266-b31b1b.svg)](https://arxiv.org/abs/arXiv:2210.12266) | **An unusual pulse shape change event in PSR J1713+0747 observed with the  Green Bank Telescope and CHIME**  |\n",
       "|| Ross J. Jennings, et al. -- incl., <mark>T. Joseph W. Lazio</mark>, <mark>Bradley W. Meyers</mark>, <mark>Joseph K. Swiggum</mark> |\n",
       "|*Appeared on*| *2022-10-25*|\n",
       "|*Comments*| *17 pages, 9 figures. Submitted to ApJ. Data available at this https URL*|\n",
       "|**Abstract**| The millisecond pulsar J1713+0747 underwent a sudden and significant pulse shape change between April 16 and 17, 2021 (MJDs 59320 and 59321). Subsequently, the pulse shape gradually recovered over the course of several months. We report the results of continued multi-frequency radio observations of the pulsar made using the Canadian Hydrogen Intensity Mapping Experiment (CHIME) and the 100-meter Green Bank Telescope (GBT) in a two-year period encompassing the shape change event, between February 2020 and March 2022. The amplitude of the shape change and the accompanying TOA residuals display a strong non-monotonic dependence on radio frequency, demonstrating that the event is neither a glitch (the effects of which should be independent of frequency) nor a simple change in electron density along the line of sight (the effects of which should depend monotonically on frequency). However, it does bear some resemblance to the two previous \"chromatic timing events\" observed in J1713+0747 (Demorest et al. 2013; Lam et al. 2016), as well as to a similar event observed in PSR J1643-1224 in 2015 (Shannon et al. 2016). |\n",
       "|<p style=\"color:green\"> **ERROR** </p>| <p style=\"color:green\">affiliation error: mpia.affiliation_verifications: 'Heidelberg' keyword not found.</p> |"
      ],
      "text/plain": [
       "<IPython.core.display.Markdown object>"
      ]
     },
     "metadata": {},
     "output_type": "display_data"
    },
    {
     "data": {
      "text/markdown": [
       "\n",
       "|||\n",
       "|---:|:---|\n",
       "| [![arXiv](https://img.shields.io/badge/arXiv-arXiv:2210.12332-b31b1b.svg)](https://arxiv.org/abs/arXiv:2210.12332) | **Multiple Stellar Populations of Globular Clusters From Homogeneous  Ca-CN-CH-NH Photometry. VII. Metal-Poor Populations in 47 Tucanae (NGC 104)**  |\n",
       "|| <mark>Jae-Woo Lee</mark> |\n",
       "|*Appeared on*| *2022-10-25*|\n",
       "|*Comments*| *Accepted for publication in the Astrophysical Journal Supplement (18 Figures and 9 Tables)*|\n",
       "|**Abstract**| We present new large field-of-view ($\\sim$1\\deg$\\times$1\\deg) Ca-CN photometry of the prototypical metal-rich globular cluster 47 Tucanae (NGC 104). Our results are the following. (1) The populational number ratios of the red giant branch (RGB) and red horizontal branch (RHB) are in excellent agreement: n(CN-w):n(CN-s) = 30:70 ($\\pm$1--2), where the CN-w and CN-s stand for the CN-weak and CN-strong populations, respectively. Both the CN-s RGB and RHB populations are more centrally concentrated than those of CN-w populations are. (2) Our photometric metallicities of individual RGB stars in each population can be well described by bimodal distributions with two metallicity peaks, [Fe/H] $\\sim$ $-$0.72 and $-$0.92 dex, where the metal-poor components occupy $\\sim$ 13% of the total RGB stars. The metal-poor populations are more significantly centrally concentrated than the metal-rich populations, showing a similar result that we found in M3. (3) The RGB bump $V$ magnitudes of individual populations indicate that there is no difference in the helium abundance between the two metal-poor populations, while the helium enhancement of $\\Delta Y$ $\\sim$ 0.02--0.03 is required between the the two metal-rich populations. (4) The RHB morphology of 47 Tuc appears to support our idea of the bimodal metallicity distribution of the cluster. We suggest that 47 Tuc could be another example of merger remnants of two globular clusters, similar to M3 and M22. |\n",
       "|<p style=\"color:green\"> **ERROR** </p>| <p style=\"color:green\">affiliation error: mpia.affiliation_verifications: 'Heidelberg' keyword not found.</p> |"
      ],
      "text/plain": [
       "<IPython.core.display.Markdown object>"
      ]
     },
     "metadata": {},
     "output_type": "display_data"
    },
    {
     "data": {
      "text/markdown": [
       "\n",
       "|||\n",
       "|---:|:---|\n",
       "| [![arXiv](https://img.shields.io/badge/arXiv-arXiv:2210.12336-b31b1b.svg)](https://arxiv.org/abs/arXiv:2210.12336) | **Classifying globular clusters and applying them to estimate the mass of  the Milky Way**  |\n",
       "|| GuangChen Sun, et al. -- incl., <mark>Chao Liu</mark> |\n",
       "|*Appeared on*| *2022-10-25*|\n",
       "|*Comments*| *32 pages, 11 figures, Accepted to RAA*|\n",
       "|**Abstract**| We combine the kinematics of 159 globular clusters (GCs) provided by the Gaia Early Data Release 3 (EDR 3) with other observational data to classify the GCs, and to estimate the mass of Milky Way (MW). We use the age-metallicity relation, integrals of motion, action space and the GC orbits to identify the GCs as either formed in-situ (Bulge and Disk) or ex-situ (via accretion). We find that $45.3\\%$ have formed in-situ, $38.4\\%$ may be related to known merger events: Gaia-Sausage-Enceladus, the Sagittarius dwarf galaxy, the Helmi streams, the Sequoia galaxy, and the Kraken galaxy. We also further identify three new sub-structures associated with the Gaia-Sausage-Enceladus. The remaining $16.3\\%$ of GCs are unrelated to the known mergers and thought to be from small accretion events. We select 46 GCs which have the radii $8.0<r<37.3$ kpc and obtain the anisotropy parameter $\\beta=0.315_{-0.049}^{+0.055}$, which is lower than the recent result using the sample of GCs in Gaia Data Release 2, but still in agreement with it by considering the error bar. By using the same sample, we obtain the MW mass inside the outermost GC as $M(<37.3 kpc)=0.423_{-0.02}^{+0.02}\\times10^{12}M_{\\odot}$, and the corresponding $M_{200}=1.11_{-0.18}^{+0.25}$. The estimated mass is consistent with the results in many recent studies. We also find that the estimated $\\beta$ and mass depend on the selected sample of GCs. However, it is difficult to determine whether a GC fully traces the potential of the MW. |\n",
       "|<p style=\"color:green\"> **ERROR** </p>| <p style=\"color:green\">affiliation error: mpia.affiliation_verifications: 'Heidelberg' keyword not found.</p> |"
      ],
      "text/plain": [
       "<IPython.core.display.Markdown object>"
      ]
     },
     "metadata": {},
     "output_type": "display_data"
    },
    {
     "data": {
      "text/markdown": [
       "\n",
       "|||\n",
       "|---:|:---|\n",
       "| [![arXiv](https://img.shields.io/badge/arXiv-arXiv:2210.12413-b31b1b.svg)](https://arxiv.org/abs/arXiv:2210.12413) | **Evolved eclipsing binary systems in the Galactic bulge: Precise physical  and orbital parameters of OGLE-BLG-ECL-305487 and OGLE-BLG-ECL-116218**  |\n",
       "|| K. Suchomska, et al. -- incl., <mark>M. Lewis</mark> |\n",
       "|*Appeared on*| *2022-10-25*|\n",
       "|*Comments*| *12 pages, 5 figures, accepted in A&A*|\n",
       "|**Abstract**| Our goal is to determine, with high accuracy, the physical and orbital parameters of two double-lined eclipsing binary systems, where the components are two giant stars. We also aim to study the evolutionary status of the binaries, to derive the distances towards them by using a surface brightness-colour relation, and to compare these measurements with the measurements presented by the Gaia mission. In order to measure the physical and orbital parameters of the systems, we analysed the light curves and radial-velocity curves with the Wilson-Devinney code. We used V band and I-band photometry from the OGLE catalogue and near-infrared photometry obtained with the New Technology Telescope (NTT) equipped with the SOFI instrument. The spectroscopic data were collected with the HARPS spectrograph mounted at the ESO 3.6m telescope and the MIKE spectrograph mounted at the 6.5m Clay telescope. We present the first analysis of this kind for two evolved eclipsing binary systems from the OGLE catalogue: OGLE-BLG-ECL-305487 and OGLE-BLG-ECL-116218. The masses of the components of OGLE-BLG-ECL-305487 are $M_1$ = 1.059 $\\pm$ 0.019 and $M_2$ = 0.991 $\\pm$ 0.018 $M_\\odot$, and the radii are $R_1$ = 19.27 $\\pm$ 0.28 and $R_2$ = 29.99 $\\pm$ 0.24 R$_\\odot$. For OGLE-BLG-ECL-116218, the masses are $M_1$= 0.969 $\\pm$ 0.012 and $M_2$= 0.983 $\\pm$ 0.012 $M_\\odot$, while the radii are $R_1$= 16.73 $\\pm$ 0.28 and $R_2$= 22.06 $\\pm$ 0.26 $R_\\odot$. The evolutionary status of the systems is discussed based on the PARSEC and MIST isochrones. The ages of the systems were established to be between 7.3-10.9 Gyr for OGLE-BLG-ECL-305487 and around 10 Gyr for OGLE-BLG-ECL-116218. We also measured the distances to the binaries. For OGLE-BLG-ECL-305487, $d$= 7.80 $\\pm$ 0.18 (stat.) $\\pm$ 0.19 (syst.) kpc and for OGLE-BLG-ECL-116218, $d$= 7.57 $\\pm$ 0.28 (stat.) $\\pm$ 0.19 (syst.) kpc. |\n",
       "|<p style=\"color:green\"> **ERROR** </p>| <p style=\"color:green\">affiliation error: mpia.affiliation_verifications: 'Heidelberg' keyword not found.</p> |"
      ],
      "text/plain": [
       "<IPython.core.display.Markdown object>"
      ]
     },
     "metadata": {},
     "output_type": "display_data"
    },
    {
     "data": {
      "text/markdown": [
       "\n",
       "|||\n",
       "|---:|:---|\n",
       "| [![arXiv](https://img.shields.io/badge/arXiv-arXiv:2210.12422-b31b1b.svg)](https://arxiv.org/abs/arXiv:2210.12422) | **Fast On-orbit Pulse Phase Estimation of X-ray Crab Pulsar for XNAV  Flight Experiments**  |\n",
       "|| Yidi Wang, et al. -- incl., <mark>Shuangnan Zhang</mark> |\n",
       "|*Appeared on*| *2022-10-25*|\n",
       "|*Comments*| **|\n",
       "|**Abstract**| The recent flight experiments with Neutron Star Interior Composition Explorer (\\textit{NICER}) and \\textit{Insight}-Hard X-ray Modulation Telescope (\\textit{Insight}-HXMT) have demonstrated the feasibility of X-ray pulsar-based navigation (XNAV) in the space. However, the current pulse phase estimation and navigation methods employed in the above flight experiments are computationally too expensive for handling the Crab pulsar data. To solve this problem, this paper proposes a fast algorithm of on-orbit estimating the pulse phase of Crab pulsar called X-ray pulsar navigaTion usIng on-orbiT pulsAr timiNg (XTITAN). The pulse phase propagation model for Crab pulsar data from \\textit{Insight}-HXMT and \\textit{NICER} are derived. When an exposure on the Crab pulsar is divided into several sub-exposures, we derive an on-orbit timing method to estimate the hyperparameters of the pulse phase propagation model. Moreover, XTITAN is improved by iteratively estimating the pulse phase and the position and velocity of satellite. When applied to the Crab pulsar data from \\textit{NICER}, XTITAN is 58 times faster than the grid search method employed by \\textit{NICER} experiment. When applied to the Crab pulsar data from \\textit{Insight}-HXMT, XTITAN is 180 times faster than the Significance Enhancement of Pulse-profile with Orbit-dynamics (SEPO) which was employed in the flight experiments with \\textit{Insight}-HXMT. Thus, XTITAN is computationally much efficient and has the potential to be employed for onboard computation. |\n",
       "|<p style=\"color:green\"> **ERROR** </p>| <p style=\"color:green\">affiliation error: mpia.affiliation_verifications: 'Heidelberg' keyword not found.</p> |"
      ],
      "text/plain": [
       "<IPython.core.display.Markdown object>"
      ]
     },
     "metadata": {},
     "output_type": "display_data"
    },
    {
     "data": {
      "text/markdown": [
       "\n",
       "|||\n",
       "|---:|:---|\n",
       "| [![arXiv](https://img.shields.io/badge/arXiv-arXiv:2210.12474-b31b1b.svg)](https://arxiv.org/abs/arXiv:2210.12474) | **ExoMol line lists -- XLV. Rovibronic molecular line lists of calcium  monohydride (CaH) and magnesium monohydride (MgH)**  |\n",
       "|| Alec Owens, et al. -- incl., <mark>Guanming Zhang</mark> |\n",
       "|*Appeared on*| *2022-10-25*|\n",
       "|*Comments*| **|\n",
       "|**Abstract**| New molecular line lists for calcium monohydride ($^{40}$Ca$^{1}$H) and magnesium monohydride ($^{24}$Mg$^{1}$H) and its minor isotopologues ($^{25}$Mg$^{1}$H and $^{26}$Mg$^{1}$H) are presented. The rotation-vibration-electronic (rovibronic) line lists, named \\texttt{XAB}, consider transitions involving the \\X, \\A, and \\BBp\\ electronic states in the 0--30\\,000~cm$^{-1}$ region (wavelengths $\\lambda > 0.33$~$\\mu$m) and are suitable for temperatures up to 5000 K. A comprehensive analysis of the published spectroscopic literature on CaH and MgH is used to obtain new extensive datasets of accurate rovibronic energy levels with measurement uncertainties and consistent quantum number labelling. These datasets are used to produce new spectroscopic models for CaH and MgH, composed of newly empirically-refined potential energy curves and couplings in/between the different electronic states (e.g.\\ spin-orbit, electronic angular momentum, Born-Oppenheimer breakdown, spin-rotation, $\\Lambda$-doubling) and previously published \\textit{ab initio} transition dipole moment curves. Along with Einstein $A$ coefficients, state lifetimes and Land\\'e $g$-factors are provided, the latter being particularly useful as CaH and MgH can be used to probe stellar magnetic fields. Computed energy levels have been replaced with the more accurate empirical values (if available) when post-processing the line lists, thus tailoring the line lists to high resolution applications. The \\texttt{XAB} line lists are available from the ExoMol database at this http URL and the CDS astronomical database. |\n",
       "|<p style=\"color:green\"> **ERROR** </p>| <p style=\"color:green\">affiliation error: mpia.affiliation_verifications: 'Heidelberg' keyword not found.</p> |"
      ],
      "text/plain": [
       "<IPython.core.display.Markdown object>"
      ]
     },
     "metadata": {},
     "output_type": "display_data"
    },
    {
     "data": {
      "text/markdown": [
       "\n",
       "|||\n",
       "|---:|:---|\n",
       "| [![arXiv](https://img.shields.io/badge/arXiv-arXiv:2210.12475-b31b1b.svg)](https://arxiv.org/abs/arXiv:2210.12475) | **How magnetic field and stellar radiative feedback influences the  collapse and the stellar mass spectrum of a massive star forming clump**  |\n",
       "|| <mark>Patrick Hennebelle</mark>, et al. |\n",
       "|*Appeared on*| *2022-10-25*|\n",
       "|*Comments*| *accepted for publication in A&A*|\n",
       "|**Abstract**| In spite of decades of theoretical efforts, the physical origin of the stellar initial mass function (IMF) is still debated. We aim at understanding the influence of various physical processes such as radiative stellar feedback, magnetic field and non-ideal magneto-hydrodynamics on the IMF. We present a series of numerical simulations of collapsing 1000 M$_\\odot$ clumps taking into account radiative feedback and magnetic field with spatial resolution down to 1 AU. Both ideal and non-ideal MHD runs are performed and various radiative feedback efficiencies are considered. We also develop analytical models that we confront to the numerical results. The sum of the luminosities produced by the stars in the calculations is computed and it compares well with the bolometric luminosities reported in observations of massive star forming clumps. The temperatures, velocities and densities are also found to be in good agreement with recent observations. The stellar mass spectrum inferred for the simulations is, generally speaking, not strictly universal and in particular varies with magnetic intensity. It is also influenced by the choice of the radiative feedback efficiency. In all simulations, a sharp drop in the stellar distribution is found at about $M_{min} \\simeq$ 0.1 M$_\\odot$, which is likely a consequence of the adiabatic behaviour induced by dust opacities at high densities. As a consequence, when the combination of magnetic and thermal support is not too large, the mass distribution presents a peak located at 0.3-0.5 M$_\\odot$. When magnetic and thermal support are large, the mass distribution is better described by a plateau, i.e. $d N / d \\log M \\propto M^{-\\Gamma}$, $\\Gamma \\simeq 0$. Abridged |\n",
       "|<p style=\"color:green\"> **ERROR** </p>| <p style=\"color:green\">affiliation error: mpia.affiliation_verifications: 'Heidelberg' keyword not found.</p> |"
      ],
      "text/plain": [
       "<IPython.core.display.Markdown object>"
      ]
     },
     "metadata": {},
     "output_type": "display_data"
    },
    {
     "data": {
      "text/markdown": [
       "\n",
       "|||\n",
       "|---:|:---|\n",
       "| [![arXiv](https://img.shields.io/badge/arXiv-arXiv:2210.12477-b31b1b.svg)](https://arxiv.org/abs/arXiv:2210.12477) | **ExoMol line lists -- {XLVI}: Empirical rovibronic spectra of silicon  mononitrate (SiN) covering the 6 lowest electronic states and 4 isotopologues**  |\n",
       "|| <mark>Mikhail Semenov</mark>, et al. |\n",
       "|*Appeared on*| *2022-10-25*|\n",
       "|*Comments*| **|\n",
       "|**Abstract**| Silicon mononitride ($^{28}$Si$^{14}$N, $^{29}$Si$^{14}$N, $^{30}$Si$^{14}$N, $^{28}$Si$^{15}$N) line lists covering infrared, visible and ultraviolet regions are presented. The \\name\\ line lists produced by ExoMol include rovibronic transitions between six electronic states: \\XS, \\AS, \\BS, \\DS, \\asi, \\bsi. The \\ai\\ potential energy and coupling curves, computed at the multireference configuration interaction (MRCI/aug-cc-pVQZ) level of theory, are refined for the observed states by fitting their analytical representations to 1052 experimentally derived SiN energy levels determined from rovibronic bands belonging to the $X$--$X$, $A$--$X$ and $B$--$X$ electronic systems through the MARVEL procedure. The SiNful line lists are compared to previously observed spectra, recorded and calculated lifetimes, and previously calculated partition functions. SiNful is available via the \\url{www.exomol.com} database. |\n",
       "|<p style=\"color:green\"> **ERROR** </p>| <p style=\"color:green\">affiliation error: mpia.affiliation_verifications: 'Heidelberg' keyword not found.</p> |"
      ],
      "text/plain": [
       "<IPython.core.display.Markdown object>"
      ]
     },
     "metadata": {},
     "output_type": "display_data"
    },
    {
     "data": {
      "text/markdown": [
       "\n",
       "|||\n",
       "|---:|:---|\n",
       "| [![arXiv](https://img.shields.io/badge/arXiv-arXiv:2210.12498-b31b1b.svg)](https://arxiv.org/abs/arXiv:2210.12498) | **WALLABY Pre-Pilot and Pilot Survey: the Tully Fisher Relation in  Eridanus, Hydra, Norma and NGC4636 fields**  |\n",
       "|| Hélène M. Courtois, et al. -- incl., <mark>Lister Staveley-Smith</mark>, <mark>Dane Kleiner</mark>, <mark>Karen Lee-Waddell</mark>, <mark>Frank Bigiel</mark> |\n",
       "|*Appeared on*| *2022-10-25*|\n",
       "|*Comments*| *21 pages, 12 Figures, 6 Tables, accepted for publication in the MNRAS*|\n",
       "|**Abstract**| The WALLABY pilot survey has been conducted using the Australian SKA Pathfinder (ASKAP). The integrated 21-cm HI line spectra are formed in a very different manner compared to usual single-dish spectra Tully-Fisher measurements. It is thus extremely important to ensure that slight differences (e.g. biases due to missing flux) are quantified and understood in order to maximise the use of the large amount of data becoming available soon. This article is based on four fields for which the data are scientifically interesting by themselves. The pilot data discussed here consist of 614 galaxy spectra at a rest wavelength of 21cm. Of these spectra, 472 are of high enough quality to be used to potentially derive distances using the Tully-Fisher relation. We further restrict the sample to the 251 galaxies whose inclination is sufficiently close to edge-on. For these, we derive Tully-Fisher distances using the deprojected WALLABY velocity widths combined with infrared (WISE W1) magnitudes. The resulting Tully-Fisher distances for the Eridanus, Hydra, Norma and NGC 4636 clusters are 21.5, 53.5, 69.4 and 23.0 Mpc respectively, with uncertainties of 5--10\\%, which are better or equivalent to the ones obtained in studies using data obtained with giant single dish telescopes. The pilot survey data show the benefits of WALLABY over previous giant single-dish telescope surveys. WALLABY is expected to detect around half a million galaxies with a mean redshift of $z = 0.05 (200 Mpc)$. This study suggests that about 200,000 Tully-Fisher distances might result from the survey. |\n",
       "|<p style=\"color:green\"> **ERROR** </p>| <p style=\"color:green\">affiliation error: mpia.affiliation_verifications: 'Heidelberg' keyword not found.</p> |"
      ],
      "text/plain": [
       "<IPython.core.display.Markdown object>"
      ]
     },
     "metadata": {},
     "output_type": "display_data"
    },
    {
     "data": {
      "text/markdown": [
       "\n",
       "|||\n",
       "|---:|:---|\n",
       "| [![arXiv](https://img.shields.io/badge/arXiv-arXiv:2210.12588-b31b1b.svg)](https://arxiv.org/abs/arXiv:2210.12588) | **New continuum and polarization observations of the Cygnus Loop with FAST  II. Images and analyses**  |\n",
       "|| X. H. Sun, et al. -- incl., <mark>D. Li</mark>, <mark>X. H. Li</mark> |\n",
       "|*Appeared on*| *2022-10-25*|\n",
       "|*Comments*| *13 pages, 7 figures, accepted for publication at RAA*|\n",
       "|**Abstract**| We present total-intensity and polarized-intensity images of the Cygnus Loop supernova remnant (SNR) observed by the Five-hundred-meter Aperture Spherical radio Telescope (FAST). The high angular-resolution and high-sensitivity images enable us to thoroughly compare the properties of the northern part with the southern part of the SNR. The central filament in the northern part and the southern part have a similar foreground rotation measure, meaning their distances are likely similar. The polarization analysis indicates that the random magnetic field is larger than the regular field in the northern part, but negligible in the southern part. The total-intensity image is decomposed into components of various angular scales, and the brightness-temperature spectral index of the shell structures in the northern part is similar to that in the southern part in the component images. All these evidence suggest that the northern and southern part of the Cygnus Loop are situated and thus evolved in different environments of interstellar medium, while belonging to the same SNR. |\n",
       "|<p style=\"color:green\"> **ERROR** </p>| <p style=\"color:green\">affiliation error: mpia.affiliation_verifications: 'Heidelberg' keyword not found.</p> |"
      ],
      "text/plain": [
       "<IPython.core.display.Markdown object>"
      ]
     },
     "metadata": {},
     "output_type": "display_data"
    },
    {
     "data": {
      "text/markdown": [
       "\n",
       "|||\n",
       "|---:|:---|\n",
       "| [![arXiv](https://img.shields.io/badge/arXiv-arXiv:2210.12671-b31b1b.svg)](https://arxiv.org/abs/arXiv:2210.12671) | **Tomographic Alcock-Paczynski Method with Redshift Errors**  |\n",
       "|| <mark>Liang Xiao</mark>, et al. -- incl., <mark>Xiaodong Li</mark> |\n",
       "|*Appeared on*| *2022-10-25*|\n",
       "|*Comments*| *9 pages and 6 figures*|\n",
       "|**Abstract**| The tomographic Alcock-Paczynski (AP) method is a promising method that uses the redshift evolution of the anisotropic clustering in redshift space to calibrate cosmology. It extends the applicable range of AP method to substantially nonlinear scales, yielding very tight cosmological constraints. For future stage-IV slitless spectroscopic surveys, the non-negligible redshift errors might reduce the advantage of the tomographic AP method by suppressing the resolution of the nonlinear structure along the line of sight. The present work studies how redshift errors propagate to cosmological parameters in the tomographic AP analysis. We use a formula $\\sigma_z = \\sigma(1+z)^{\\alpha} $ to model the redshift errors, with $\\sigma$ varying from 0.001 to 0.006 and $\\alpha$ varying from 0.5 to 1.5. The redshift errors produce a signal of anisotropic clustering that is similar to a strong finger-of-god effect, which smears out both the AP signal and the contamination caused by the redshift space distortions (RSD). For the target precision of the Chinese Space Station Telescope optical survey ($\\sigma\\lesssim 0.002$), the decrement of constraining power on the dark energy equation of state is mild ($\\lesssim 50\\%$), and the suppression of RSD contamination leads to a smaller bias-to-signal ratio. Our results indicate that the tomographic AP method will remain a useful and complementary tool for analyses of future slitless spectroscopic surveys. |\n",
       "|<p style=\"color:green\"> **ERROR** </p>| <p style=\"color:green\">affiliation error: mpia.affiliation_verifications: 'Heidelberg' keyword not found.</p> |"
      ],
      "text/plain": [
       "<IPython.core.display.Markdown object>"
      ]
     },
     "metadata": {},
     "output_type": "display_data"
    },
    {
     "data": {
      "text/markdown": [
       "\n",
       "|||\n",
       "|---:|:---|\n",
       "| [![arXiv](https://img.shields.io/badge/arXiv-arXiv:2210.12679-b31b1b.svg)](https://arxiv.org/abs/arXiv:2210.12679) | **The Active Galactic Nuclei in the Hobby-Eberly Telescope Dark Energy  Experiment Survey (HETDEX) III. A red quasar with extremely high equivalent  widths showing powerful outflows**  |\n",
       "|| <mark>Chenxu Liu</mark>, et al. -- incl., <mark>Lindsay House</mark> |\n",
       "|*Appeared on*| *2022-10-25*|\n",
       "|*Comments*| *10 pages, 5 figures, 1 table, accepted for publication in ApJ*|\n",
       "|**Abstract**| We report an Active Galactic Nucleus (AGN) with extremely high equivalent width (EW), EW(LyA+NV,rest)>921 AA in the rest-frame, at z~2.24 in the Hobby-Eberly Telescope Dark Energy Experiment Survey (HETDEX) as a representative case of the high EW AGN population. The continuum level is a non-detection in the HETDEX spectrum, thus the measured EW is a lower limit. The source is detected with significant emission lines (>7sigma) at LyA+NV, CIV, and moderate emission line (~4sigma) at HeII within the wavelength coverage of HETDEX (3500 AA - 5500 AA). The r-band magnitude is 24.57 from the Hyper Suprime-Cam-HETDEX joint survey with a detection limit of r=25.12 at 5sigma. The LyA emission line spans a clearly resolved region of ~10 arcsec (85 kpc) in diameter. The LyA line profile is strongly double peaked. The spectral decomposed blue gas and red gas Ly$\\alpha$ emission are separated by ~1.2 arcsec (10.1 kpc) with a line-of-sight velocity offset of ~1100 km/s. This source is probably an obscured AGN with powerful winds. |\n",
       "|<p style=\"color:green\"> **ERROR** </p>| <p style=\"color:green\">affiliation error: mpia.affiliation_verifications: 'Heidelberg' keyword not found.</p> |"
      ],
      "text/plain": [
       "<IPython.core.display.Markdown object>"
      ]
     },
     "metadata": {},
     "output_type": "display_data"
    },
    {
     "data": {
      "text/markdown": [
       "\n",
       "|||\n",
       "|---:|:---|\n",
       "| [![arXiv](https://img.shields.io/badge/arXiv-arXiv:2210.12717-b31b1b.svg)](https://arxiv.org/abs/arXiv:2210.12717) | **Numerical Simulation of Solar Magnetic Flux Emergence Using the  AMR--CESE--MHD Code**  |\n",
       "|| <mark>Zhipeng Liu</mark>, et al. |\n",
       "|*Appeared on*| *2022-10-25*|\n",
       "|*Comments*| **|\n",
       "|**Abstract**| Magnetic flux emergence from the solar interior to the atmosphere is believed to be a key process of formation of solar active regions and driving solar eruptions. Due to the limited capability of observation, the flux emergence process is commonly studied using numerical simulations. In this paper, we developed a numerical model to simulate the emergence of a twisted magnetic flux tube from the convection zone to the corona using the AMR--CESE--MHD code, which is based on the conservation-element solution-element method with adaptive mesh refinement. The result of our simulation agrees with that of many previous ones with similar initial conditions but using different numerical codes. In the early stage, the flux tube rises from the convection zone as driven by the magnetic buoyancy until it reaches close to the photosphere. The emergence is decelerated there and with piling-up of the magnetic flux, the magnetic buoyancy instability is triggered, which allows the magnetic field to partially enter into the atmosphere. Meanwhile, two gradually separated polarity concentration zones appear in the photospheric layer, transporting the magnetic field and energy into the atmosphere through their vortical and shearing motions. Correspondingly, the coronal magnetic field has also been reshaped to a sigmoid configuration containing a thin current layer, which resembles the typical pre-eruptive magnetic configuration of an active region. Such a numerical framework of magnetic flux emergence as established will be applied in future investigations of how solar eruptions are initiated in flux emergence active regions. |\n",
       "|<p style=\"color:green\"> **ERROR** </p>| <p style=\"color:green\">affiliation error: mpia.affiliation_verifications: 'Heidelberg' keyword not found.</p> |"
      ],
      "text/plain": [
       "<IPython.core.display.Markdown object>"
      ]
     },
     "metadata": {},
     "output_type": "display_data"
    },
    {
     "data": {
      "text/markdown": [
       "\n",
       "|||\n",
       "|---:|:---|\n",
       "| [![arXiv](https://img.shields.io/badge/arXiv-arXiv:2210.12744-b31b1b.svg)](https://arxiv.org/abs/arXiv:2210.12744) | **Optimizing Fourier-Filtering WFS to reach sensitivity close to the  fundamental limit**  |\n",
       "|| Vincent Chambouleyron, et al. -- incl., <mark>Mahawa Cissé</mark> |\n",
       "|*Appeared on*| *2022-10-25*|\n",
       "|*Comments*| **|\n",
       "|**Abstract**| To reach the full potential of the new generation of ground based telescopes, an extremely fine adjustment of the phase is required. Wavefront control and correction before detection has therefore become one of the cornerstones of instruments to achieve targeted performance, especially for high-contrast imaging. A crucial feature of accurate wavefront control leans on the wavefront sensor (WFS). We present a strategy to design new Fourier-Filtering WFS that encode the phase close from the fundamental photon efficiency limit. This strategy seems promising as it generates highly sensitive sensors suited for different pupil shape configurations. |\n",
       "|<p style=\"color:green\"> **ERROR** </p>| <p style=\"color:green\">affiliation error: mpia.affiliation_verifications: 'Heidelberg' keyword not found.</p> |"
      ],
      "text/plain": [
       "<IPython.core.display.Markdown object>"
      ]
     },
     "metadata": {},
     "output_type": "display_data"
    },
    {
     "data": {
      "text/markdown": [
       "\n",
       "|||\n",
       "|---:|:---|\n",
       "| [![arXiv](https://img.shields.io/badge/arXiv-arXiv:2210.12791-b31b1b.svg)](https://arxiv.org/abs/arXiv:2210.12791) | **O-type Stars Stellar Parameter Estimation Using Recurrent Neural  Networks**  |\n",
       "|| <mark>Miguel Flores R.</mark>, Luis J. Corral, Celia R. Fierro-Santillán, Silvana G. Navarro |\n",
       "|*Appeared on*| *2022-10-25*|\n",
       "|*Comments*| **|\n",
       "|**Abstract**| In this paper, we present a deep learning system approach to estimating luminosity, effective temperature, and surface gravity of O-type stars using the optical region of the stellar spectra. In previous work, we compare a set of machine learning and deep learning algorithms in order to establish a reliable way to fit a stellar model using two methods: the classification of the stellar spectra models and the estimation of the physical parameters in a regression-type task. Here we present the process to estimate individual physical parameters from an artificial neural network perspective with the capacity to handle stellar spectra with a low signal-to-noise ratio (S/N), in the $<$20 S/N boundaries. The development of three different recurrent neural network systems, the training process using stellar spectra models, the test over nine different observed stellar spectra, and the comparison with estimations in previous works are presented. Additionally, characterization methods for stellar spectra in order to reduce the dimensionality of the input data for the system and optimize the computational resources are discussed. |\n",
       "|<p style=\"color:green\"> **ERROR** </p>| <p style=\"color:green\">affiliation error: mpia.affiliation_verifications: 'Heidelberg' keyword not found.</p> |"
      ],
      "text/plain": [
       "<IPython.core.display.Markdown object>"
      ]
     },
     "metadata": {},
     "output_type": "display_data"
    },
    {
     "data": {
      "text/markdown": [
       "\n",
       "|||\n",
       "|---:|:---|\n",
       "| [![arXiv](https://img.shields.io/badge/arXiv-arXiv:2210.12815-b31b1b.svg)](https://arxiv.org/abs/arXiv:2210.12815) | **Dwarf galaxy formation with and without dark matter-baryon streaming  velocities**  |\n",
       "|| Anna T. P. Schauer, et al. -- incl., <mark>Andrew Wetzel</mark> |\n",
       "|*Appeared on*| *2022-10-25*|\n",
       "|*Comments*| *12 pages, 8 figures, submitted to ApJ*|\n",
       "|**Abstract**| We study how supersonic streaming velocities of baryons relative to dark matter -- a large-scale effect imprinted at recombination and coherent over $\\sim 3$ Mpc scales -- affects the formation of dwarf galaxies at $z \\gtrsim 5$. We perform cosmological hydrodynamic simulations, including and excluding streaming velocities, in regions centered on halos with $M_{\\rm vir}(z=0) \\approx 10^{10}$ M$_{\\odot}$; the simulations are part of the Feedback In Realistic Environments (FIRE) project and run with FIRE-3 physics. Our simulations comprise many thousands of systems with halo masses between $M_{\\rm vir} = 2\\times10^{5}$ M$_{\\odot}$ and $2\\times10^9$ M$_{\\odot}$ in the redshift range $z=20-5$. A few hundred of these galaxies form stars and have stellar masses ranging from 100 to $10^7$ M$_{\\odot}$. While star formation is globally delayed by approximately 50 Myr in the streaming relative to non-streaming simulations and the number of luminous galaxies is correspondingly suppressed at high redshift in the streaming runs, these effects decay with time. By $z=5$, the properties of the simulated galaxies are nearly identical in the streaming versus non-streaming runs, indicating that any effects of streaming velocities on the properties of galaxies at the mass scale of classical dwarfs and larger do not persist to $z=0$. |\n",
       "|<p style=\"color:green\"> **ERROR** </p>| <p style=\"color:green\">affiliation error: mpia.affiliation_verifications: 'Heidelberg' keyword not found.</p> |"
      ],
      "text/plain": [
       "<IPython.core.display.Markdown object>"
      ]
     },
     "metadata": {},
     "output_type": "display_data"
    },
    {
     "data": {
      "text/markdown": [
       "\n",
       "|||\n",
       "|---:|:---|\n",
       "| [![arXiv](https://img.shields.io/badge/arXiv-arXiv:2210.12847-b31b1b.svg)](https://arxiv.org/abs/arXiv:2210.12847) | **The Mantis Network III: A titanium cold-trap on the ultra-hot Jupiter  WASP-121 b**  |\n",
       "|| H.J. Hoeijmakers, et al. -- incl., <mark>E. K. H. Lee</mark>, <mark>K. Heng</mark> |\n",
       "|*Appeared on*| *2022-10-25*|\n",
       "|*Comments*| *19 pages, submitted to A\\&A on September 13, 2022*|\n",
       "|**Abstract**| Observations of WASP-121 b have suggested an under-abundance of titanium and titanium-oxide from its terminator region. In this study, we aim to determine whether this depletion is global by investigating the day-side emission spectrum. We analyse 8 epochs of high-resolution spectra obtained with the ESPRESSO spectrograph at optical wavelengths, targeting orbital phases when the day-side is in view. We use a cross-correlation method to search for various atoms, TiO and VO and compare to models. We constrain the velocities and phase-function of the emission signal using a Bayesian framework. We report significant detections of Ca I, V I, Cr I, Fe I and Ni I, but not T i or TiO. Models containing Ti are unable to reproduce the data. The detected signals are consistent with the known orbital and systemic velocities and with peak emission originating from the sub-stellar point. We find that Ti is depleted from regions of the atmosphere where transmission and emission spectroscopy are sensitive. Supported by recent HST observations that constrain the night-side temperature, we interpret this as evidence for the night-side condensation of titanium, preventing it from being mixed back into the upper layers of the atmosphere elsewhere on the planet. Species with lower condensation temperatures are unaffected, implying sharp chemical transitions exist between ultra-hot Jupiters that have slight differences in temperature or dynamical properties. As TiO can act as a strong source of stratospheric heating, cold-trapping creates a coupling between the thermal structures on the day-side and night-side, and thus condensation chemistry needs to be included in global circulation models. Observed elemental abundances in hot Jupiters are not reliably representative of bulk abundances unless night-side condensation is accounted for or the planet is hot enough to avoid night-side cold-traps entirely. |\n",
       "|<p style=\"color:green\"> **ERROR** </p>| <p style=\"color:green\">affiliation error: mpia.affiliation_verifications: 'Heidelberg' keyword not found.</p> |"
      ],
      "text/plain": [
       "<IPython.core.display.Markdown object>"
      ]
     },
     "metadata": {},
     "output_type": "display_data"
    },
    {
     "data": {
      "text/markdown": [
       "\n",
       "|||\n",
       "|---:|:---|\n",
       "| [![arXiv](https://img.shields.io/badge/arXiv-arXiv:2210.12880-b31b1b.svg)](https://arxiv.org/abs/arXiv:2210.12880) | **Tidally excited gravity waves in the cores of solar-type stars:  resonances and critical-layer formation**  |\n",
       "|| <mark>Zhao Guo</mark>, Gordon I. Ogilvie, Adrian J. Barker |\n",
       "|*Appeared on*| *2022-10-25*|\n",
       "|*Comments*| *21 pages, 26 figures, MNRAS, submitted, comments welcome*|\n",
       "|**Abstract**| We simulate the propagation and dissipation of tidally induced nonlinear gravity waves in the cores of solar-type stars. We perform hydrodynamical simulations of a previously developed Boussinesq model using a spectral-element code to study the stellar core as a wave cavity that is periodically forced at the outer boundary with a given azimuthal wavenumber and an adjustable frequency. For low-amplitude forcing, the system exhibits resonances with standing g-modes at particular frequencies, corresponding to a situation in which the tidal torque is highly frequency-dependent. For high-amplitude forcing, the excited waves break promptly near the centre and spin up the core so that subsequent waves are absorbed in an expanding critical layer, as found in previous work, leading to a tidal torque with a smooth frequency-dependence. For intermediate-amplitude forcing, we find that linear damping of the waves gradually spins up the core such that the resonance condition can be altered drastically. The system can evolve towards or away from g-mode resonances, depending on the difference between the forcing frequency and the closest eigenfrequency. Eventually, a critical layer forms and absorbs the incoming waves, leading to a situation similar to the high-amplitude case in which the waves break promptly. We study the dependence of this process on the forcing amplitude and frequency, as well as on the diffusion coefficients. We emphasize that the small Prandtl number in the centre of solar-like stars facilitates the development of a differentially rotating core owing to the nonlinear feedback of waves. Our simulations and analysis reveal that this important mechanism may drastically change the phase of gravity waves and thus the classical picture of resonance locking in solar-type stars needs to be revised. |\n",
       "|<p style=\"color:green\"> **ERROR** </p>| <p style=\"color:green\">affiliation error: mpia.affiliation_verifications: 'Heidelberg' keyword not found.</p> |"
      ],
      "text/plain": [
       "<IPython.core.display.Markdown object>"
      ]
     },
     "metadata": {},
     "output_type": "display_data"
    },
    {
     "data": {
      "text/markdown": [
       "\n",
       "|||\n",
       "|---:|:---|\n",
       "| [![arXiv](https://img.shields.io/badge/arXiv-arXiv:2210.12886-b31b1b.svg)](https://arxiv.org/abs/arXiv:2210.12886) | **X-ray Emission from the Interstellar and Circumgalactic Medium of  Elliptical Galaxies based on MACER simulations**  |\n",
       "|| Aditi Vijayan, et al. -- incl., <mark>Miao Li</mark> |\n",
       "|*Appeared on*| *2022-10-25*|\n",
       "|*Comments*| *9 pages, 12 Figures, submitted to MNRAS. Comments welcome*|\n",
       "|**Abstract**| Interstellar (ISM) and circumgalactic medium (CGM) around galaxies are linked to several physical processes that drive galaxy evolution. For example, the X-ray emission from the CGM gas around ellipticals has been linked to the AGN feedback occurring in the host. Upcoming telescopes such as HUBS, with ~ 1 eV resolution, can provide us with deep insights about the hot gas properties of such galaxies thus constrain these processes. In this project, we discuss X-ray emission of the ISM and CGM of elliptical galaxies simulated using MACER code. We generate X-ray emission data from the MACER simulations with various feedback models and produce mock observations for an instrument with high spectral resolution, which is a necessary step of selecting sources for the future observations with planned mission such as HUBS. More importantly, we establish connections between the physics of AGN and stellar feedback with the emission spectra from the ISM and CGM to investigate the possibility of using observations to constrain feedback models. We fit the X-ray spectra from these simulations with standard fitting procedures and compare the retrieved physical properties with their counterparts from the simulations to understand whether the future high-resolution observations can reliably reveal the properties of the gas in the galaxies. |\n",
       "|<p style=\"color:green\"> **ERROR** </p>| <p style=\"color:green\">affiliation error: mpia.affiliation_verifications: 'Heidelberg' keyword not found.</p> |"
      ],
      "text/plain": [
       "<IPython.core.display.Markdown object>"
      ]
     },
     "metadata": {},
     "output_type": "display_data"
    },
    {
     "data": {
      "text/markdown": [
       "\n",
       "|||\n",
       "|---:|:---|\n",
       "| [![arXiv](https://img.shields.io/badge/arXiv-arXiv:2210.12939-b31b1b.svg)](https://arxiv.org/abs/arXiv:2210.12939) | **A Black-Hole Excision Scheme for General Relativistic Core-Collapse  Supernova Simulations**  |\n",
       "|| B. Sykes, et al. -- incl., <mark>B. Mueller</mark> |\n",
       "|*Appeared on*| *2022-10-25*|\n",
       "|*Comments*| *19 pages, 12 figures. Submitted to PRD*|\n",
       "|**Abstract**| Fallback supernovae and the collapsar scenario for long-gamma ray burst and hypernovae have received considerable interest as pathways to black-hole formation and extreme transient events. Consistent simulations of these scenarios require a general relativistic treatment and need to deal appropriately with the formation of a singularity. Free evolution schemes for the Einstein equations can handle the formation of black holes by means of excision or puncture schemes. However, in constrained schemes, which offer distinct advantages in long-term numerical stability in stellar collapse simulations over well above $10^{4}$ light-crossing time scales, the dynamical treatment of black-hole spacetimes is more challenging. Building on previous work on excision in conformally flat spacetimes, we here present the implementation of a black-hole excision scheme for supernova simulations with the CoCoNuT-FMT neutrino transport code. We describe in detail a choice of boundary conditions that ensures long-time numerical stability, and also address upgrades to the hydrodynamics solver that are required to stably evolve the relativistic accretion flow onto the black hole. The scheme is currently limited to a spherically symmetric metric, but the hydrodynamics can be treated multi-dimensionally. For demonstration, we present a spherically symmetric simulation of black-hole formation in an $85 M_\\odot$ star, as well as a two-dimensional simulation of the fallback explosion of the same progenitor. These extend past 9s and 0.3s after black-hole formation, respectively. |\n",
       "|<p style=\"color:green\"> **ERROR** </p>| <p style=\"color:green\">affiliation error: mpia.affiliation_verifications: 'Heidelberg' keyword not found.</p> |"
      ],
      "text/plain": [
       "<IPython.core.display.Markdown object>"
      ]
     },
     "metadata": {},
     "output_type": "display_data"
    },
    {
     "data": {
      "text/markdown": [
       "\n",
       "|||\n",
       "|---:|:---|\n",
       "| [![arXiv](https://img.shields.io/badge/arXiv-arXiv:2210.12948-b31b1b.svg)](https://arxiv.org/abs/arXiv:2210.12948) | **Searching for neutrinos from solar flares across solar cycles 23 and 24  with the Super-Kamiokande detector**  |\n",
       "|| K. Okamoto, et al. -- incl., <mark>S.H. Lee</mark>, <mark>I.T. Lim</mark>, <mark>C.W. Walter</mark> |\n",
       "|*Appeared on*| *2022-10-25*|\n",
       "|*Comments*| *36 pages, 18 figures, 9 tables*|\n",
       "|**Abstract**| Neutrinos associated with solar flares (solar-flare neutrinos) provide information on particle acceleration mechanisms during the impulsive phase of solar flares. We searched using the Super-Kamiokande detector for neutrinos from solar flares that occurred during solar cycles $23$ and $24$, including the largest solar flare (X28.0) on November 4th, 2003. In order to minimize the background rate we searched for neutrino interactions within narrow time windows coincident with $\\gamma$-rays and soft X-rays recorded by satellites. In addition, we performed the first attempt to search for solar-flare neutrinos from solar flares on the invisible side of the Sun by using the emission time of coronal mass ejections (CMEs). By selecting twenty powerful solar flares above X5.0 on the visible side and eight CMEs whose emission speed exceeds $2000$ $\\mathrm{km \\, s^{-1}}$ on the invisible side from 1996 to 2018, we found two (six) neutrino events coincident with solar flares occurring on the visible (invisible) side of the Sun, with a typical background rate of $0.10$ ($0.62$) events per flare in the MeV-GeV energy range. No significant solar-flare neutrino signal above the estimated background rate was observed. As a result we set the following upper limit on neutrino fluence at the Earth $\\mathit{\\Phi}<1.1\\times10^{6} \\mathrm{cm^{-2}}$ at the $90\\%$ confidence level for the largest solar flare. The resulting fluence limits allow us to constrain some of the theoretical models for solar-flare neutrino emission. |\n",
       "|<p style=\"color:green\"> **ERROR** </p>| <p style=\"color:green\">affiliation error: mpia.affiliation_verifications: 'Heidelberg' keyword not found.</p> |"
      ],
      "text/plain": [
       "<IPython.core.display.Markdown object>"
      ]
     },
     "metadata": {},
     "output_type": "display_data"
    },
    {
     "data": {
      "text/markdown": [
       "\n",
       "|||\n",
       "|---:|:---|\n",
       "| [![arXiv](https://img.shields.io/badge/arXiv-arXiv:2210.12959-b31b1b.svg)](https://arxiv.org/abs/arXiv:2210.12959) | **Searches for Ultra-High-Energy Photons at the Pierre Auger Observatory**  |\n",
       "|| Pierre Auger Collaboration, et al. |\n",
       "|*Appeared on*| *2022-10-25*|\n",
       "|*Comments*| *Review article accepted for publication in Universe (special issue on ultra-high energy photons)*|\n",
       "|**Abstract**| The Pierre Auger Observatory, being the largest air-shower experiment in the world, offers an unprecedented exposure to neutral particles at the highest energies. Since the start of data taking more than 18 years ago, various searches for ultra-high-energy (UHE, $E\\gtrsim10^{17}\\,\\text{eV}$) photons have been performed: either for a diffuse flux of UHE photons, for point sources of UHE photons or for UHE photons associated with transient events like gravitational wave events. In the present paper, we summarize these searches and review the current results obtained using the wealth of data collected by the Pierre Auger Observatory. |\n",
       "|<p style=\"color:green\"> **ERROR** </p>| <p style=\"color:green\">affiliation error: mpia.affiliation_verifications: 'Heidelberg' keyword not found.</p> |"
      ],
      "text/plain": [
       "<IPython.core.display.Markdown object>"
      ]
     },
     "metadata": {},
     "output_type": "display_data"
    },
    {
     "data": {
      "text/markdown": [
       "\n",
       "|||\n",
       "|---:|:---|\n",
       "| [![arXiv](https://img.shields.io/badge/arXiv-arXiv:2210.13091-b31b1b.svg)](https://arxiv.org/abs/arXiv:2210.13091) | **On the dust of tailless Oort-cloud comet C/2020 T2 (Palomar)**  |\n",
       "|| Yuna Grace Kwon, <mark>Joseph R. Masiero</mark>, Johannes Markkanen |\n",
       "|*Appeared on*| *2022-10-25*|\n",
       "|*Comments*| *Accepted for publication in Astronomy & Astrophysics*|\n",
       "|**Abstract**| We report our new analysis of Oort-cloud comet C/2020 T2 (Palomar) (T2) observed at 2.06 au from the Sun (phase angle of 28.5 deg) about two weeks before perihelion. T2 lacks a significant dust tail in scattered light, showing a strong central condensation of the coma throughout the apparition, reminiscent of so-called Manx comets. Its spectral slope of polarized light increases and decreases in the J (1.25 um) and H (1.65 um) bands, respectively, resulting in an overall negative (blue) slope (-0.31+/-0.14 % um^-1) in contrast to the red polarimetric color of active comets observed at similar geometries. The average polarization degree of T2 is 2.86+/-0.17 % for the J and 2.75+/-0.16 % for the H bands. Given that near-infrared wavelengths are sensitive to the intermediate-scale structure of cometary dust (i.e., dust aggregates), our light-scattering modeling of ballistic aggregates with different porosities and compositions shows that polarimetric properties of T2 are compatible with low-porosity (~66 %), absorbing dust aggregates with negligible ice contents on a scale of 10--100 um (density of ~652 kg m^-3). This is supported by the coma morphology of T2 which has a viable beta (the relative importance of solar radiation pressure on dust) range of <~10^-4. Secular evolution of the r-band activity of T2 from archival data reveals that the increase in its brightness accelerates around 2.4 au pre-perihelion, with its overall dust production rate ~100 times smaller than those of active Oort-cloud comets. We also found an apparent concentration of T2 and Manx comets toward ecliptic orbits. This paper underlines the heterogeneous nature of Oort-cloud comets which can be investigated in the near future with dedicated studies of their dust characteristics. |\n",
       "|<p style=\"color:green\"> **ERROR** </p>| <p style=\"color:green\">affiliation error: mpia.affiliation_verifications: 'Heidelberg' keyword not found.</p> |"
      ],
      "text/plain": [
       "<IPython.core.display.Markdown object>"
      ]
     },
     "metadata": {},
     "output_type": "display_data"
    },
    {
     "data": {
      "text/markdown": [
       "\n",
       "|||\n",
       "|---:|:---|\n",
       "| [![arXiv](https://img.shields.io/badge/arXiv-arXiv:2210.13104-b31b1b.svg)](https://arxiv.org/abs/arXiv:2210.13104) | **A Multi-Wavelength Study of Multiple Spectral Component Jets in AGN:  Testing the IC/CMB Model for the Large-Scale-Jet X-ray Emission**  |\n",
       "|| Peter Breiding, et al. -- incl., <mark>Eileen T. Meyer</mark> |\n",
       "|*Appeared on*| *2022-10-25*|\n",
       "|*Comments*| *Accepted for publication by MNRAS (October 21, 2022)*|\n",
       "|**Abstract**| Over 150 resolved, kpc-scale X-ray jets hosted by active galactic nuclei have been discovered with the Chandra X-ray Observatory. A significant fraction of these jets have an X-ray spectrum either too high in flux or too hard to be consistent with the high-energy extension of the radio-to-optical synchrotron spectrum, a subtype we identify as Multiple Spectral Component (MSC) X-ray jets. A leading hypothesis for the origin of the X-rays is the inverse-Compton scattering of the cosmic microwave background by the same electron population producing the radio-to-optical synchrotron spectrum (known as the IC/CMB model). In this work, we test the IC/CMB model in 45 extragalactic X-ray jets using observations from the Fermi Large Area Telescope to look for the expected high level of gamma-ray emission, utilizing observations from the Atacama Large Millimeter/submillimeter Array (ALMA) and the Hubble Space Telescope (HST) when possible to best constrain the predicted gamma-ray flux. Including this and previous works, we now find the IC/CMB model to be ruled out in a total of 24/45 MSC X-ray jets due to its overprediction for the observed MeV-to-GeV gamma-ray flux. We present additional evidence against the IC/CMB model, including the relative X-ray-to-radio relativistic beaming in these sources, and the general mismatch between radio and X-ray spectral indexes. Finally, we present upper limits on the large scale bulk-flow Lorentz factors for all jets based on the Fermi upper limits, which suggest that these jets are at most mildly relativistic. |\n",
       "|<p style=\"color:green\"> **ERROR** </p>| <p style=\"color:green\">affiliation error: mpia.affiliation_verifications: 'Heidelberg' keyword not found.</p> |"
      ],
      "text/plain": [
       "<IPython.core.display.Markdown object>"
      ]
     },
     "metadata": {},
     "output_type": "display_data"
    },
    {
     "data": {
      "text/markdown": [
       "\n",
       "|||\n",
       "|---:|:---|\n",
       "| [![arXiv](https://img.shields.io/badge/arXiv-arXiv:2210.13152-b31b1b.svg)](https://arxiv.org/abs/arXiv:2210.13152) | **Li-rich and super Li-rich giants produced by element diffusion**  |\n",
       "|| Jun Gao, et al. -- incl., <mark>Helei Liu</mark>, <mark>Guoliang Lü</mark> |\n",
       "|*Appeared on*| *2022-10-25*|\n",
       "|*Comments*| **|\n",
       "|**Abstract**| Context. About 0.2-2% of giant stars are Li-rich, whose lithium abundance (A(Li)) is higher than 1.5 dex. Among them, near 6% are super Li-rich with A(Li) exceeding 3.2 dex. Meanwhile, the formation mechanism of these Li-rich and super Li-rich giants is still under debate. Aims. Considering the compact He core of red giants, attention is paid to the effect of element diffusion on A(Li). In particular, when the He core flash occurs, the element diffusion makes the thermohaline mixing zone extend inward and connect to the inner convection region of stars. Then, a large amount of 7Be produced by the He flash can be transferred to stellar surface, finally turning into 7Li. Thus, the goal of this work is to propose the mechanism of A(Li) enrichment and achieve the consistency between the theoretical and observation data. Methods. Using the Modules for Experiments in Stellar Astrophysics (MESA), we simulate the evolution of low-mass stars, with considering the effects of element diffusion on the Li abundances. The timescale ratio of Li-rich giants to normal giants is estimated by population synthesis method. Then we get the theoretical value of A(Li) and make a comparison with observations. Results. Considering the influence of element diffusion in the model results in the increase of lithium abundance up to about 1.8dex, which can reveal Li-rich giants. Simultaneously, introducing high constant diffusive mixing coefficients (Dmix) with the values from 10e11 to 10e15in the model allows A(Li) to increase from 2.4 to 4.5dex, which can explain the most of Li-rich and super Li-rich giant stars. The population synthesis method reveals that the amount of Li-rich giants among giants is about 0.2-2%, which is consistent with observation estimated levels. |\n",
       "|<p style=\"color:green\"> **ERROR** </p>| <p style=\"color:green\">affiliation error: mpia.affiliation_verifications: 'Heidelberg' keyword not found.</p> |"
      ],
      "text/plain": [
       "<IPython.core.display.Markdown object>"
      ]
     },
     "metadata": {},
     "output_type": "display_data"
    },
    {
     "data": {
      "text/markdown": [
       "\n",
       "|||\n",
       "|---:|:---|\n",
       "| [![arXiv](https://img.shields.io/badge/arXiv-arXiv:2210.13204-b31b1b.svg)](https://arxiv.org/abs/arXiv:2210.13204) | **Prograde and Retrograde Gas Flow around Disk-embedded Companions:  Dependence on Eccentricity, Mass and Disk Properties**  |\n",
       "|| Yi-Xian Chen, Avery Bailey, James M. Stone, <mark>Zhaohuan Zhu</mark> |\n",
       "|*Appeared on*| *2022-10-25*|\n",
       "|*Comments*| *Accepted to ApJL, 10 pages, 5 figures*|\n",
       "|**Abstract**| We apply 3D hydrodynamical simulations to study the rotational aspect of gas flow patterns around eccentric companions embedded in an accretion disk around its primary host. We sample a wide range of companion mass ratio q and disk aspect ratio h, and confirm a generic transition from prograde (steady tidal interaction dominated) to retrograde (background Keplerian shear dominated) circum-companion flow when orbital eccentricity exceeds a critical value et. We find et \\sim h for sub-thermal companions while et \\sim (q/h)^1/3 for super-thermal companions, and propose an empirical formula to unify the two scenarios. Our results also suggest that et is insensitive to modest levels of turbulence, modeled in the form of a kinematic viscosity term. In the context of stellar-mass Black Holes (sBHs) embedded in AGN accretion disks, the bifurcation of their circum-stellar disk (CSD) rotation suggest the formation of a population of nearly anti-aligned sBHs, whose relevance to low spin gravitational waves (GW) events can be probed in more details with future population models of sBH evolution in AGN disks, making use of our quantitative scaling for et; In the context of circum-planetary disks (CPDs), our results suggest the possibility of forming retrograde satellites in-situ in retrograde CPDs around eccentric planets. |\n",
       "|<p style=\"color:green\"> **ERROR** </p>| <p style=\"color:green\">affiliation error: mpia.affiliation_verifications: 'Heidelberg' keyword not found.</p> |"
      ],
      "text/plain": [
       "<IPython.core.display.Markdown object>"
      ]
     },
     "metadata": {},
     "output_type": "display_data"
    },
    {
     "data": {
      "text/markdown": [
       "\n",
       "|||\n",
       "|---:|:---|\n",
       "| [![arXiv](https://img.shields.io/badge/arXiv-arXiv:2210.13249-b31b1b.svg)](https://arxiv.org/abs/arXiv:2210.13249) | **Constraining Type Ia supernovae through their heights in edge-on  galaxies**  |\n",
       "|| <mark>Lilit V. Barkhudaryan</mark> |\n",
       "|*Appeared on*| *2022-10-25*|\n",
       "|*Comments*| *6 pages, 2 figures, 6 tables, online data, resubmitted to MNRAS Letters after addressing referee's comments*|\n",
       "|**Abstract**| In this Letter, using classified 197 supernovae (SNe) Ia, we perform an analyses of their height distributions from the disc in edge-on spirals and investigate their light-curve (LC) decline rates $(\\Delta m_{15})$. We demonstrate, for the first time, that 91T-, 91bg-like, and normal SNe Ia subclasses are distributed differently toward the plane of their host disc. The average height from the disc and its comparison with scales of thin/thick disc components gives a possibility to roughly estimate the SNe Ia progenitor ages: 91T-like events, being at the smallest heights, originate from relatively younger progenitors with ages of about several 100 Myr, 91bg-like SNe, having the highest distribution, arise from progenitors with significantly older ages $\\sim 10$ Gyr, and normal SNe Ia, which distributed between those of the two others, are from progenitors of about one up to $\\sim 10$ Gyr. We find a correlation between LC decline rates and SN Ia heights, which is explained by the vertical age gradient of stellar population in discs and a sub-Chandrasekhar mass white dwarf explosion models, where the $\\Delta m_{15}$ parameter is a progenitor age indicator. |\n",
       "|<p style=\"color:green\"> **ERROR** </p>| <p style=\"color:green\">affiliation error: mpia.affiliation_verifications: 'Heidelberg' keyword not found.</p> |"
      ],
      "text/plain": [
       "<IPython.core.display.Markdown object>"
      ]
     },
     "metadata": {},
     "output_type": "display_data"
    },
    {
     "data": {
      "text/markdown": [
       "\n",
       "|||\n",
       "|---:|:---|\n",
       "| [![arXiv](https://img.shields.io/badge/arXiv-arXiv:2210.13260-b31b1b.svg)](https://arxiv.org/abs/arXiv:2210.13260) | **Almanac: Weak Lensing power spectra and map inference on the masked  sphere**  |\n",
       "|| A. Loureiro, et al. -- incl., <mark>A. F. Heavens</mark> |\n",
       "|*Appeared on*| *2022-10-25*|\n",
       "|*Comments*| *18 pages, 16 figures*|\n",
       "|**Abstract**| We present a field-based signal extraction of weak lensing from noisy observations on the curved and masked sky. We test the analysis on a simulated Euclid-like survey, using a Euclid-like mask and noise level. To make optimal use of the information available in such a galaxy survey, we present a Bayesian method for inferring the angular power spectra of the weak lensing fields, together with an inference of the noise-cleaned tomographic weak lensing shear and convergence (projected mass) maps. The latter can be used for field-level inference with the aim of extracting cosmological parameter information including non-gaussianity of cosmic fields. We jointly infer all-sky $E$-mode and $B$-mode tomographic auto- and cross-power spectra from the masked sky, and potentially parity-violating $EB$-mode power spectra, up to a maximum multipole of $\\ell_{\\rm max}=2048$. We use Hamiltonian Monte Carlo sampling, inferring simultaneously the power spectra and denoised maps with a total of $\\sim 16.8$ million free parameters. The main output and natural outcome is the set of samples of the posterior, which does not suffer from leakage of power from $E$ to $B$ unless reduced to point estimates. However, such point estimates of the power spectra, the mean and most likely maps, and their variances and covariances, can be computed if desired. |\n",
       "|<p style=\"color:green\"> **ERROR** </p>| <p style=\"color:green\">affiliation error: mpia.affiliation_verifications: 'Heidelberg' keyword not found.</p> |"
      ],
      "text/plain": [
       "<IPython.core.display.Markdown object>"
      ]
     },
     "metadata": {},
     "output_type": "display_data"
    },
    {
     "data": {
      "text/markdown": [
       "\n",
       "|||\n",
       "|---:|:---|\n",
       "| [![arXiv](https://img.shields.io/badge/arXiv-arXiv:2210.13294-b31b1b.svg)](https://arxiv.org/abs/arXiv:2210.13294) | **Quasi-spherical superclusters**  |\n",
       "|| <mark>Pekka Heinämäki</mark>, et al. |\n",
       "|*Appeared on*| *2022-10-25*|\n",
       "|*Comments*| *15 pages, 10 figures, 2 tables, accepted in Astronomy & Astrophysics*|\n",
       "|**Abstract**| Generally the dynamical state of superclusters is poorly known. We study properties of superclusters and select a sample of quasi-spherical superclusters, the dynamics of which can be studied using the $\\Lambda$ significance diagram. We extracted our supercluster sample with an adaptive local threshold density method from the Sloan Digital Sky Survey Data Release 7 (SDSS DR7) data and estimated their masses using the dynamical masses for member galaxies and groups. We used topological analysis based on Minkowski functionals and the positions of galaxies and galaxy groups in superclusters. Finally, we highlight the dynamical state of a few exceptional types of superclusters found in this study using the $\\Lambda$ significance diagram. Our final sample contains 65 superclusters in the distance range of 130 to 450 Mpc. Supercluster masses range between $1.1 \\times 10^{15} M_{\\sun}$ and $1.4 \\times 10^{16} M_{\\sun}$ and sizes between 25 Mpc and 87 Mpc. We find that pancake-type superclusters form the low-luminosity, small, poor and low-mass end of superclusters. We find four superclusters of unusual types, exhibiting exceptionally spherical shapes. These so-called quasi-spherical systems contain a high-density core surrounded by a relatively spherical density and galaxy distribution.The mass-to-light ratio of these quasi-sphericals is higher than those of the other superclusters, suggesting a relatively high dark matter content. Using the $\\Lambda$ significance diagram for oblate and prolate spheroids, we find that three quasi-spherical superclusters are gravitationally bound at the present epoch. Quasi-spherical superclusters are among the largest gravitationally bound systems found to date, and form a special class of giant systems that, dynamically, are in between large gravitationally unbound superclusters and clusters of galaxies in an equilibrium configuration. |\n",
       "|<p style=\"color:green\"> **ERROR** </p>| <p style=\"color:green\">affiliation error: mpia.affiliation_verifications: 'Heidelberg' keyword not found.</p> |"
      ],
      "text/plain": [
       "<IPython.core.display.Markdown object>"
      ]
     },
     "metadata": {},
     "output_type": "display_data"
    },
    {
     "data": {
      "text/markdown": [
       "\n",
       "|||\n",
       "|---:|:---|\n",
       "| [![arXiv](https://img.shields.io/badge/arXiv-arXiv:2210.12708-b31b1b.svg)](https://arxiv.org/abs/arXiv:2210.12708) | **Mid-Infrared Polarization of the Diffuse Interstellar Medium toward  CygOB2-12**  |\n",
       "|| Charles M. Telesco, et al. -- incl., <mark>Frank Varosi</mark> |\n",
       "|*Appeared on*| *2022-10-25*|\n",
       "|*Comments*| *Accepted Astrophysical Journal Letters, October 9, 2022*|\n",
       "|**Abstract**| We present the first mid-IR detection of the linear polarization toward the star CygOB2-12, a luminous blue hypergiant that, with AV of ~10 mag of foreground extinction, is a benchmark in the study of the properties of dust in the diffuse interstellar medium. The 8-13 micrometer spectropolarimetry, obtained with the CanariCam multi-mode camera at the Gran Telescopio Canarias (GTC), shows clear trends with wavelength characteristic of silicate grains aligned in the interstellar magnetic field. The maximum polarization, detected with 7.8 statistical significance near 10.2 micrometers, is (1.24 +/- 0.28) % with position angle (126 +/- 8) deg. We comment on these measurements in the context of recent models for the dust composition in the diffuse interstellar medium. |\n",
       "|<p style=\"color:red\"> **ERROR** </p>| <p style=\"color:red\">latex error not a gzip file</p> |"
      ],
      "text/plain": [
       "<IPython.core.display.Markdown object>"
      ]
     },
     "metadata": {},
     "output_type": "display_data"
    },
    {
     "data": {
      "text/markdown": [
       "\n",
       "|||\n",
       "|---:|:---|\n",
       "| [![arXiv](https://img.shields.io/badge/arXiv-arXiv:2210.12710-b31b1b.svg)](https://arxiv.org/abs/arXiv:2210.12710) | **L 363-38 b: a planet newly discovered with ESPRESSO orbiting a nearby M  dwarf star**  |\n",
       "|| <mark>Lia F. Sartori</mark>, et al. |\n",
       "|*Appeared on*| *2022-10-25*|\n",
       "|*Comments*| *12 pages, 11 figures*|\n",
       "|**Abstract**| Context. Planets around stars in the solar neighbourhood will be prime targets for characterisation with upcoming large space- and ground-based facilities. Since large-scale exoplanet searches will not be feasible with such telescopes, it is crucial to use currently available data and instruments to find possible target planets before next generation facilities come online. Aims. We aim at detecting new extrasolar planets around stars in the solar neighbourhood by blind radial velocity (RV) search with ESPRESSO. Our target sample consist of nearby stars (d < 11 pc) with little (< 10) or no previous RV measurements. Methods. We use 31 radial velocity measurements obtained with ESPRESSO at the VLT between December 2020 and February 2022 of the nearby M dwarf star (M_star = 0.21 M_sun, d = 10.23 pc) L 363-38 to derive the orbital parameters of the newly discovered planet. In addition, we use TESS photometry and archival VLT/NaCo high contrast imaging data to put further constraints on the orbit inclination and the possible planetary system architecture around L 363-38. Results. We present the detection of a new extrasolar planet orbiting the nearby M dwarf star L 363-38. L 363-38 b is a planet with minimum mass mp sin(i) = 4.67+/-0.43 M_Earth orbiting its star with a period P = 8.781+/-0.007 d, corresponding to a semi-major axis a = 0.048+/-0.006 AU, which is well inside the inner edge of the habitable zone. We further estimate a minimum radius rp sin(i) = 1.55 - 2.75 R_Earth and an equilibrium temperature Teq = 330K. |\n",
       "|<p style=\"color:red\"> **ERROR** </p>| <p style=\"color:red\">latex error not a gzip file</p> |"
      ],
      "text/plain": [
       "<IPython.core.display.Markdown object>"
      ]
     },
     "metadata": {},
     "output_type": "display_data"
    },
    {
     "data": {
      "text/markdown": [
       "\n",
       "|||\n",
       "|---:|:---|\n",
       "| [![arXiv](https://img.shields.io/badge/arXiv-arXiv:2210.12344-b31b1b.svg)](https://arxiv.org/abs/arXiv:2210.12344) | **Systematic KMTNet Planetary Anomaly Search, Paper VII: Complete Sample  of $q < 10^{-4}$ Planets from the First Four-Year Survey**  |\n",
       "|| Weicheng Zang, et al. -- incl., <mark>Xiangyu Zhang</mark>, <mark>Andrew Gould</mark>, <mark>Seung-Lee Kim</mark>, <mark>Chung-Uk Lee</mark>, <mark>Dong-Joo Lee</mark>, <mark>Yongseok Lee</mark>, <mark>Jiyuan Zhang</mark> |\n",
       "|*Appeared on*| *2022-10-25*|\n",
       "|*Comments*| *15 figures and 14 tables; submitted to AAS*|\n",
       "|**Abstract**| We present the analysis of seven microlensing planetary events with planet/host mass ratios $q < 10^{-4}$: KMT-2017-BLG-1194, KMT-2017-BLG-0428, KMT-2019-BLG-1806, KMT-2017-BLG-1003, KMT-2019-BLG-1367, OGLE-2017-BLG-1806, and KMT-2016-BLG-1105. They were identified by applying the Korea Microlensing Telescope Network (KMTNet) AnomalyFinder algorithm to 2016--2019 KMTNet events. A Bayesian analysis indicates that all the lens systems consist of a cold super-Earth orbiting an M or K dwarf. Together with 17 previously published and three that will be published elsewhere, AnomalyFinder has found a total of 27 planets that have solutions with $q < 10^{-4}$ from 2016--2019 KMTNet events, which lays the foundation for the first statistical analysis of the planetary mass-ratio function based on KMTNet data. By reviewing the 27 planets, we find that the missing planetary caustics problem in the KMTNet planetary sample has been solved by AnomalyFinder. We also find a desert of high-magnification planetary signals ($A \\gtrsim 65$), and a follow-up project for KMTNet high-magnification events could detect at least two more $q < 10^{-4}$ planets per year and form an independent statistical sample. |\n",
       "|<p style=\"color:red\"> **ERROR** </p>| <p style=\"color:red\">latex error sequence item 0: expected str instance, TexNode found</p> |"
      ],
      "text/plain": [
       "<IPython.core.display.Markdown object>"
      ]
     },
     "metadata": {},
     "output_type": "display_data"
    }
   ],
   "source": [
    "import datetime\n",
    "today = str(datetime.date.today())\n",
    "logfile = f\"_build/html/logs/log-{today}.md\"\n",
    "\n",
    "\n",
    "with open(logfile, 'w') as logs:\n",
    "    # Success\n",
    "    logs.write(f'# Arxiv on Deck 2: Logs - {today}\\n\\n')\n",
    "    logs.write(\"\"\"* Arxiv had {0:,d} new papers\\n\"\"\".format(len(new_papers)))\n",
    "    logs.write(\"\"\"    * {0:,d} with possible author matches\\n\\n\"\"\".format(len(candidates)))\n",
    "    logs.write(\"## Sucessful papers\\n\\n\")\n",
    "    display(Markdown(\"## Successful papers\"))\n",
    "    success = [k[0] for k in documents]\n",
    "    for candid in candidates:\n",
    "        if candid['identifier'].split(':')[-1] in success:\n",
    "            display(candid)\n",
    "            logs.write(candid.generate_markdown_text() + '\\n\\n')\n",
    "\n",
    "    ## failed\n",
    "    logs.write(\"## Failed papers\\n\\n\")\n",
    "    display(Markdown(\"## Failed papers\"))\n",
    "    failed = sorted(failed, key=lambda x: x[1])\n",
    "    current_reason = \"\"\n",
    "    for paper, reason in failed:\n",
    "        if 'affiliation' in reason:\n",
    "            color = 'green'\n",
    "        else:\n",
    "            color = 'red'\n",
    "        data = Markdown(\n",
    "                paper.generate_markdown_text() + \n",
    "                f'\\n|<p style=\"color:{color:s}\"> **ERROR** </p>| <p style=\"color:{color:s}\">{reason:s}</p> |'\n",
    "               )\n",
    "        if reason != current_reason:\n",
    "            logs.write(f'### {reason:s} \\n\\n')\n",
    "            current_reason = reason\n",
    "        logs.write(data.data + '\\n\\n')\n",
    "        \n",
    "        # only display here the important errors (all in logs)\n",
    "        # if color in ('red',):\n",
    "        display(data)"
   ]
  },
  {
   "cell_type": "markdown",
   "id": "472d20ee",
   "metadata": {
    "papermill": {
     "duration": 0.013258,
     "end_time": "2022-10-25T05:26:34.463772",
     "exception": false,
     "start_time": "2022-10-25T05:26:34.450514",
     "status": "completed"
    },
    "tags": []
   },
   "source": [
    "## Export documents\n",
    "\n",
    "We now write the .md files and export relevant images"
   ]
  },
  {
   "cell_type": "code",
   "execution_count": 7,
   "id": "d426aed9",
   "metadata": {
    "execution": {
     "iopub.execute_input": "2022-10-25T05:26:34.490566Z",
     "iopub.status.busy": "2022-10-25T05:26:34.489938Z",
     "iopub.status.idle": "2022-10-25T05:26:34.497143Z",
     "shell.execute_reply": "2022-10-25T05:26:34.496525Z"
    },
    "papermill": {
     "duration": 0.022029,
     "end_time": "2022-10-25T05:26:34.498576",
     "exception": false,
     "start_time": "2022-10-25T05:26:34.476547",
     "status": "completed"
    },
    "tags": []
   },
   "outputs": [],
   "source": [
    "def export_markdown_summary(md: str, md_fname:str, directory: str):\n",
    "    \"\"\"Export MD document and associated relevant images\"\"\"\n",
    "    import os\n",
    "    import shutil\n",
    "    import re\n",
    "\n",
    "    if (os.path.exists(directory) and not os.path.isdir(directory)):\n",
    "        raise RuntimeError(f\"a non-directory file exists with name {directory:s}\")\n",
    "\n",
    "    if (not os.path.exists(directory)):\n",
    "        print(f\"creating directory {directory:s}\")\n",
    "        os.mkdir(directory)\n",
    "\n",
    "    fig_fnames = (re.compile(r'\\[Fig.*\\]\\((.*)\\)').findall(md) + \n",
    "                  re.compile(r'\\<img src=\"([^>\\s]*)\"[^>]*/>').findall(md))\n",
    "    for fname in fig_fnames:\n",
    "        if 'http' in fname:\n",
    "            # No need to copy online figures\n",
    "            continue\n",
    "        destdir = os.path.join(directory, os.path.dirname(fname))\n",
    "        destfname = os.path.join(destdir, os.path.basename(fname))\n",
    "        try:\n",
    "            os.makedirs(destdir)\n",
    "        except FileExistsError:\n",
    "            pass\n",
    "        shutil.copy(fname, destfname)\n",
    "    with open(os.path.join(directory, md_fname), 'w') as fout:\n",
    "        fout.write(md)\n",
    "    print(\"exported in \", os.path.join(directory, md_fname))\n",
    "    [print(\"    + \" + os.path.join(directory,fk)) for fk in fig_fnames]"
   ]
  },
  {
   "cell_type": "code",
   "execution_count": 8,
   "id": "014d04a4",
   "metadata": {
    "execution": {
     "iopub.execute_input": "2022-10-25T05:26:34.526091Z",
     "iopub.status.busy": "2022-10-25T05:26:34.525857Z",
     "iopub.status.idle": "2022-10-25T05:26:34.531759Z",
     "shell.execute_reply": "2022-10-25T05:26:34.531126Z"
    },
    "papermill": {
     "duration": 0.021804,
     "end_time": "2022-10-25T05:26:34.533142",
     "exception": false,
     "start_time": "2022-10-25T05:26:34.511338",
     "status": "completed"
    },
    "tags": []
   },
   "outputs": [
    {
     "name": "stdout",
     "output_type": "stream",
     "text": [
      "exported in  _build/html/2210.12412.md\n",
      "    + _build/html/tmp_2210.12412/./WV_L_no_tiptilt.png\n",
      "    + _build/html/tmp_2210.12412/./WV_N2_no_tiptilt.png\n",
      "    + _build/html/tmp_2210.12412/./n_wda.png\n",
      "    + _build/html/tmp_2210.12412/./berio_fig.png\n",
      "    + _build/html/tmp_2210.12412/./time_sequence.png\n"
     ]
    }
   ],
   "source": [
    "for paper_id, md in documents:\n",
    "    export_markdown_summary(md, f\"{paper_id:s}.md\", '_build/html/')"
   ]
  },
  {
   "cell_type": "markdown",
   "id": "f087a0a7",
   "metadata": {
    "papermill": {
     "duration": 0.01267,
     "end_time": "2022-10-25T05:26:34.558449",
     "exception": false,
     "start_time": "2022-10-25T05:26:34.545779",
     "status": "completed"
    },
    "tags": []
   },
   "source": [
    "## Display the papers\n",
    "\n",
    "Not necessary but allows for a quick check."
   ]
  },
  {
   "cell_type": "code",
   "execution_count": 9,
   "id": "fd25f625",
   "metadata": {
    "execution": {
     "iopub.execute_input": "2022-10-25T05:26:34.586371Z",
     "iopub.status.busy": "2022-10-25T05:26:34.585927Z",
     "iopub.status.idle": "2022-10-25T05:26:34.590850Z",
     "shell.execute_reply": "2022-10-25T05:26:34.590206Z"
    },
    "papermill": {
     "duration": 0.021314,
     "end_time": "2022-10-25T05:26:34.592389",
     "exception": false,
     "start_time": "2022-10-25T05:26:34.571075",
     "status": "completed"
    },
    "scrolled": false,
    "tags": []
   },
   "outputs": [
    {
     "data": {
      "text/markdown": [
       "<div class=\"macros\" style=\"visibility:hidden;\">\n",
       "$\\newcommand{\\ensuremath}{}$\n",
       "$\\newcommand{\\xspace}{}$\n",
       "$\\newcommand{\\object}[1]{\\texttt{#1}}$\n",
       "$\\newcommand{\\farcs}{{.}''}$\n",
       "$\\newcommand{\\farcm}{{.}'}$\n",
       "$\\newcommand{\\arcsec}{''}$\n",
       "$\\newcommand{\\arcmin}{'}$\n",
       "$\\newcommand{\\ion}[2]{#1#2}$\n",
       "$\\newcommand{\\textsc}[1]{\\textrm{#1}}$\n",
       "$\\newcommand{\\hl}[1]{\\textrm{#1}}$\n",
       "$\\newcommand{\\baselinestretch}{1.0}$</div>\n",
       "\n",
       "<div class=\"macros\" style=\"visibility:hidden;\">\n",
       "$\\newcommand{$\\ensuremath$}{}$\n",
       "$\\newcommand{$\\xspace$}{}$\n",
       "$\\newcommand{$\\object$}[1]{\\texttt{#1}}$\n",
       "$\\newcommand{$\\farcs$}{{.}''}$\n",
       "$\\newcommand{$\\farcm$}{{.}'}$\n",
       "$\\newcommand{$\\arcsec$}{''}$\n",
       "$\\newcommand{$\\arcmin$}{'}$\n",
       "$\\newcommand{$\\ion$}[2]{#1#2}$\n",
       "$\\newcommand{$\\textsc$}[1]{\\textrm{#1}}$\n",
       "$\\newcommand{$\\hl$}[1]{\\textrm{#1}}$\n",
       "$\\newcommand{$\\baselinestretch$}{1.0}$</div>\n",
       "\n",
       "\n",
       "\n",
       "<div id=\"title\">\n",
       "\n",
       "# Impact of water vapor seeing on mid-infrared high-contrast imaging at ELT scale\n",
       "\n",
       "</div>\n",
       "<div id=\"comments\">\n",
       "\n",
       "[![arXiv](https://img.shields.io/badge/arXiv-2210.12412-b31b1b.svg)](https://arxiv.org/abs/2210.12412)<mark>Appeared on: 2022-10-25</mark> - _13 pages, paper presented at SPIE Astronomical Telescopes + Instrumentation 2022_\n",
       "\n",
       "</div>\n",
       "<div id=\"authors\">\n",
       "\n",
       "Olivier Absil, et al. -- incl., <mark>Roy~van~Boekel</mark>\n",
       "\n",
       "</div>\n",
       "<div id=\"abstract\">\n",
       "\n",
       "**Abstract:** The high-speed variability of the local water vapor content in the Earth atmosphere is a significant contributor to ground-based wavefront quality throughout the infrared domain. Unlike dry air, water vapor is highly chromatic, especially in the mid-infrared. This means that adaptive optics correction in the visible or near-infrared domain does not necessarily ensure a high wavefront quality at longer wavelengths. Here, we use literature measurements of water vapor seeing, and more recent infrared interferometric data from the Very Large Telescope Interferometer (VLTI), to evaluate the wavefront quality that will be delivered to the METIS mid-infrared camera and spectrograph for the Extremely Large Telescope (ELT), operating from 3 to 13$\\mu$m, after single-conjugate adaptive optics correction in the near-infrared. We discuss how the additional wavefront error due to water vapor seeing is expected to dominate the wavefront quality budget at N band (8--13$\\mu$m), and therefore to drive the performance of mid-infrared high-contrast imaging modes at ELT scale. Then we present how the METIS team is planning to mitigate the effect of water vapor seeing using focal-plane wavefront sensing techniques, and show with end-to-end simulations by how much the high-contrast imaging performance can be improved.\n",
       "\n",
       "</div>\n",
       "\n",
       "<div id=\"div_fig1\">\n",
       "\n",
       "<img src=\"tmp_2210.12412/./WV_L_no_tiptilt.png\" alt=\"Fig8.1\" width=\"50%\"/><img src=\"tmp_2210.12412/./WV_N2_no_tiptilt.png\" alt=\"Fig8.2\" width=\"50%\"/>\n",
       "\n",
       "**Figure 8. -** example\\label{fig:perf_kolmo}\n",
       "Post-ADI contrast curves for a 1-h observing sequence at L band (top) and N band (bottom), in the presence of SCAO residuals only (black), and of SCAO residual and WV seeing (blue). The orange curves show the performance after completely removing tip-tilt errors from the WV phase screens. These contrast curves were obtained with a ring-apodized vortex coronagraph (RAVC) concept at L band, and a classical vortex coronagraph (CVC) concept at N band, following the METIS design\\cite{Carlomagno20}. (*fig:perf_kolmo*)\n",
       "\n",
       "</div>\n",
       "<div id=\"div_fig2\">\n",
       "\n",
       "<img src=\"tmp_2210.12412/./n_wda.png\" alt=\"Fig2\" width=\"100%\"/>\n",
       "\n",
       "**Figure 2. -** example\\label{fig:refrac_wda}\n",
       "Reduced refractive index of WDA, for standard conditions at Cerro Paranal (288 K, 743 mbar). (*fig:refrac_wda*)\n",
       "\n",
       "</div>\n",
       "<div id=\"div_fig3\">\n",
       "\n",
       "<img src=\"tmp_2210.12412/./berio_fig.png\" alt=\"Fig4.1\" width=\"50%\"/><img src=\"tmp_2210.12412/./time_sequence.png\" alt=\"Fig4.2\" width=\"50%\"/>\n",
       "\n",
       "**Figure 4. -** example\\label{fig:gra4mat}\n",
       "Left. Comparison of the N-band fringe position estimated by the GRAVITY fringe tracker (red) with the actually measured fringe position with MATISSE (blue), adapted from RD08. Right. Representative time sequence of differential WV column density measured on a $\\sim 30$-m baseline at VLTI. (*fig:gra4mat*)\n",
       "\n",
       "</div>"
      ],
      "text/plain": [
       "<IPython.core.display.Markdown object>"
      ]
     },
     "metadata": {},
     "output_type": "display_data"
    }
   ],
   "source": [
    "[display(Markdown(k[1])) for k in documents];"
   ]
  },
  {
   "cell_type": "markdown",
   "id": "873873a4",
   "metadata": {
    "papermill": {
     "duration": 0.012845,
     "end_time": "2022-10-25T05:26:34.618217",
     "exception": false,
     "start_time": "2022-10-25T05:26:34.605372",
     "status": "completed"
    },
    "tags": []
   },
   "source": [
    "# Create HTML index"
   ]
  },
  {
   "cell_type": "code",
   "execution_count": 10,
   "id": "cf665672",
   "metadata": {
    "execution": {
     "iopub.execute_input": "2022-10-25T05:26:34.645731Z",
     "iopub.status.busy": "2022-10-25T05:26:34.645285Z",
     "iopub.status.idle": "2022-10-25T05:26:34.653902Z",
     "shell.execute_reply": "2022-10-25T05:26:34.653238Z"
    },
    "papermill": {
     "duration": 0.024234,
     "end_time": "2022-10-25T05:26:34.655338",
     "exception": false,
     "start_time": "2022-10-25T05:26:34.631104",
     "status": "completed"
    },
    "tags": []
   },
   "outputs": [
    {
     "name": "stdout",
     "output_type": "stream",
     "text": [
      "73  publications in the last 7 days.\n",
      "\t _build/html/2210.12412.md\n",
      "\t _build/html/2210.11926.md\n",
      "\t _build/html/2210.11551.md\n",
      "\t _build/html/2210.11103.md\n",
      "\t _build/html/2210.10707.md\n",
      "\t _build/html/2210.09930.md\n",
      "\t _build/html/2210.08996.md\n",
      "\t _build/html/2210.08517.md\n",
      "\t _build/html/2210.08510.md\n",
      "\t _build/html/2210.08078.md\n",
      "\t _build/html/2210.06504.md\n",
      "\t _build/html/2210.05695.md\n",
      "\t _build/html/2210.05595.md\n",
      "\t _build/html/2210.05505.md\n",
      "\t _build/html/2210.04721.md\n",
      "\t _build/html/2210.03615.md\n",
      "\t _build/html/2210.01811.md\n",
      "\t _build/html/2210.01809.md\n",
      "\t _build/html/2210.01556.md\n",
      "\t _build/html/2210.00863.md\n",
      "\t _build/html/2210.00560.md\n",
      "\t _build/html/2209.15403.md\n",
      "\t _build/html/2209.15110.md\n",
      "\t _build/html/2209.14410.md\n",
      "\t _build/html/2209.14396.md\n",
      "\t _build/html/2209.13717.md\n",
      "\t _build/html/2209.13336.md\n",
      "\t _build/html/2209.12906.md\n",
      "\t _build/html/2209.11781.md\n",
      "\t _build/html/2209.11602.md\n",
      "\t _build/html/2209.11248.md\n",
      "\t _build/html/2209.11096.md\n",
      "\t _build/html/2209.10618.md\n",
      "\t _build/html/2209.09914.md\n",
      "\t _build/html/2209.09823.md\n",
      "\t _build/html/2209.08242.md\n",
      "\t _build/html/2209.08120.md\n",
      "\t _build/html/2209.08106.md\n",
      "\t _build/html/2209.07962.md\n",
      "\t _build/html/2209.07931.md\n",
      "\t _build/html/2209.06833.md\n",
      "\t _build/html/2209.05814.md\n",
      "\t _build/html/2209.05593.md\n",
      "\t _build/html/2209.04304.md\n",
      "\t _build/html/2209.03367.md\n",
      "\t _build/html/2209.02872.md\n",
      "\t _build/html/2209.02725.md\n",
      "\t _build/html/2209.02722.md\n",
      "\t _build/html/2209.02092.md\n",
      "\t _build/html/2209.01125.md\n",
      "\t _build/html/2209.00828.md\n",
      "\t _build/html/2209.00363.md\n",
      "\t _build/html/2208.14927.md\n",
      "\t _build/html/2208.09335.md\n",
      "\t _build/html/2208.08872.md\n",
      "\t _build/html/2204.06393.md\n",
      "\t _build/html/2204.03335.md\n",
      "\t _build/html/2204.03253.md\n",
      "\t _build/html/2204.02998.md\n",
      "\t _build/html/2204.02109.md\n",
      "\t _build/html/2204.02017.md\n",
      "\t _build/html/2204.01824.md\n",
      "\t _build/html/2204.01758.md\n",
      "\t _build/html/2204.01245.md\n",
      "\t _build/html/2204.00793.md\n",
      "\t _build/html/2204.00342.md\n",
      "\t _build/html/2203.16959.md\n",
      "\t _build/html/2203.16856.md\n",
      "\t _build/html/2203.16735.md\n",
      "\t _build/html/2203.16734.md\n",
      "\t _build/html/2203.16504.md\n",
      "\t _build/html/2203.15822.md\n",
      "\t _build/html/2203.15811.md\n"
     ]
    }
   ],
   "source": [
    "from datetime import datetime, timedelta, timezone\n",
    "from glob import glob\n",
    "\n",
    "files = glob('_build/html/*.md')\n",
    "days = 7\n",
    "now = datetime.today()\n",
    "res = []\n",
    "for fk in files:\n",
    "    stat_result = os.stat(fk).st_ctime\n",
    "    modified = datetime.fromtimestamp(stat_result, tz=timezone.utc).replace(tzinfo=None)\n",
    "    delta = now.today() - modified\n",
    "    if delta <= timedelta(days=days):\n",
    "        res.append((delta.seconds, fk))\n",
    "res = [k[1] for k in reversed(sorted(res, key=lambda x:x[1]))]\n",
    "npub = len(res)\n",
    "print(len(res), f\" publications in the last {days:d} days.\")\n",
    "[ print('\\t', k) for k in res ];"
   ]
  },
  {
   "cell_type": "code",
   "execution_count": 11,
   "id": "52ca0208",
   "metadata": {
    "execution": {
     "iopub.execute_input": "2022-10-25T05:26:34.708407Z",
     "iopub.status.busy": "2022-10-25T05:26:34.707888Z",
     "iopub.status.idle": "2022-10-25T05:26:34.714252Z",
     "shell.execute_reply": "2022-10-25T05:26:34.713645Z"
    },
    "papermill": {
     "duration": 0.021944,
     "end_time": "2022-10-25T05:26:34.715759",
     "exception": false,
     "start_time": "2022-10-25T05:26:34.693815",
     "status": "completed"
    },
    "scrolled": false,
    "tags": []
   },
   "outputs": [],
   "source": [
    "def create_carousel(npub=4):\n",
    "    \"\"\" Generate the HTML code for a carousel with `npub` slides \"\"\"\n",
    "    carousel = [\"\"\"<section class=\"carousel\" aria-label=\"Gallery\">\"\"\",\n",
    "                \"\"\"  <ol class=\"carousel__viewport\">\"\"\",\n",
    "    ]\n",
    "    for k in range(1, npub + 1):\n",
    "        prev_ = k - 1\n",
    "        next_ = k + 1\n",
    "        if prev_ <= 0:\n",
    "            prev_ = npub\n",
    "        if next_ > npub:\n",
    "            next_ = 1\n",
    "        text  = f\"\"\"    <li id=\"carousel__slide{k}\" tabindex=\"0\" class=\"carousel__slide\">\\n\"\"\"\n",
    "        text += f\"\"\"       <div class=\"carousel__snapper\">\\n\"\"\"\n",
    "        text += f\"\"\"         <a href=\"#carousel__slide{prev_}\" class=\"carousel__prev\">Go to previous slide</a>\\n\"\"\"\n",
    "        text += f\"\"\"         <a href=\"#carousel__slide{next_}\" class=\"carousel__next\">Go to next slide</a>\\n\"\"\"\n",
    "        text += f\"\"\"         <div id=\"slide{k}_content\" class=\"md_view\" >Content {k}</div>\\n\"\"\"\n",
    "        text += f\"\"\"       </div>\\n\"\"\"\n",
    "        text += f\"\"\"    </li>\"\"\"\n",
    "        carousel.append(text)\n",
    "\n",
    "    carousel.extend([\n",
    "        \"\"\"  </ol>\"\"\",\n",
    "        \"\"\"  <aside class=\"carousel__navigation\">\"\"\",\n",
    "        \"\"\"    <ol class=\"carousel__navigation-list\">\"\"\"])\n",
    "\n",
    "    for k in range(1, npub + 1):\n",
    "        text  = f\"\"\"      <li class=\"carousel__navigation-item\">\\n\"\"\"\n",
    "        text += f\"\"\"        <a href=\"#carousel__slide{k}\" class=\"carousel__navigation-button\">Go to {k}</a>\\n\"\"\"\n",
    "        text += f\"\"\"      </li>\"\"\"\n",
    "        carousel.append(text)\n",
    "    carousel.extend([\"\"\"    </ol>\"\"\", \"\"\"  </aside>\"\"\", \"\"\"</section>\"\"\"])\n",
    "\n",
    "    return '\\n'.join(carousel)"
   ]
  },
  {
   "cell_type": "code",
   "execution_count": 12,
   "id": "a6eac5b6",
   "metadata": {
    "execution": {
     "iopub.execute_input": "2022-10-25T05:26:34.744676Z",
     "iopub.status.busy": "2022-10-25T05:26:34.744216Z",
     "iopub.status.idle": "2022-10-25T05:26:34.750618Z",
     "shell.execute_reply": "2022-10-25T05:26:34.749993Z"
    },
    "papermill": {
     "duration": 0.022233,
     "end_time": "2022-10-25T05:26:34.752042",
     "exception": false,
     "start_time": "2022-10-25T05:26:34.729809",
     "status": "completed"
    },
    "scrolled": false,
    "tags": []
   },
   "outputs": [],
   "source": [
    "carousel = create_carousel(npub)\n",
    "docs = ', '.join(['\"{0:s}\"'.format(k.split('/')[-1]) for k in res])\n",
    "slides = ', '.join([f'\"slide{k}_content\"' for k in range(1, npub + 1)])\n",
    "\n",
    "script = f\"\"\"\n",
    "const docs = [{docs}]\n",
    "\n",
    "const slides = [{slides}]\n",
    "\"\"\" + \"\"\"\n",
    "async function run() {\n",
    "    for (let i = 0; i < docs.length; i++) {\n",
    "        let file = await fetch(docs[i]);\n",
    "        let text = await file.text()\n",
    "        document.getElementById(slides[i]).innerHTML =\n",
    "            marked.parse(text);\n",
    "    }\n",
    "    hljs.highlightAll();\n",
    "}\n",
    "run()\n",
    "\"\"\"\n",
    "\n",
    "page = f\"\"\"<!doctype html>\n",
    "<html lang=\"en\">\n",
    "\n",
    "<head>\n",
    "  <meta charset=\"utf-8\">\n",
    "  <meta name=\"viewport\" content=\"width=device-width, initial-scale=1\">\n",
    "  <!-- Bootstrap CSS -->\n",
    "  <link href=\"https://cdn.jsdelivr.net/npm/bootstrap@5.0.2/dist/css/bootstrap.min.css\" rel=\"stylesheet\"\n",
    "   integrity=\"sha384-EVSTQN3/azprG1Anm3QDgpJLIm9Nao0Yz1ztcQTwFspd3yD65VohhpuuCOmLASjC\" crossorigin=\"anonymous\">\n",
    "  <!-- highlight.js CSS -->\n",
    "  <link rel=\"stylesheet\" href=\"https://cdnjs.cloudflare.com/ajax/libs/highlight.js/11.1.0/styles/default.min.css\">\n",
    "  <!-- Mathjax 3 -->\n",
    "  <script type=\"text/javascript\" id=\"MathJax-config\" src=\"mathjax_config.js\"> </script>\n",
    "  <script type=\"text/javascript\" id=\"MathJax-script\" async \n",
    "    src=\"https://cdn.jsdelivr.net/npm/mathjax@3/es5/tex-mml-chtml.js\">\n",
    "  </script>\n",
    "  <link rel=\"stylesheet\" href=\"index_carousel.css\">\n",
    "  <link rel=\"icon\" type=\"image/x-icon\" href=\"https://www.mpia.de/assets/touch-icon-32x32-a66937bcebc4e8894ebff1f41a366c7c7220fd97a38869ee0f2db65a9f59b6c1.png\">\n",
    "  <title>MPIA Arxiv on deck!</title>\n",
    "</head>\n",
    "\n",
    "<body>\n",
    "  <div id=\"header\"> <img src=\"header_banner.png\" width=\"100%\"></div>\n",
    "  <div id=\"suptitle\"> 7-day archives </div>\n",
    "  <div id=\"info\">\n",
    "    <img src=\"https://pngimg.com/uploads/github/github_PNG58.png\" height=30rem></img>\n",
    "    <a href=https://github.com/mpi-astronomy/arxiv_display style=\"color:black;\">github/mpi-astronomy/arxiv_display</a> \n",
    "  </div>\n",
    "  {carousel:s}\n",
    "</body>\n",
    "\n",
    "<!-- Render Markdown -->\n",
    "\n",
    "<body>\n",
    "  <!-- highlight.js: https://highlightjs.org/download/ -->\n",
    "  <script src=\"https://cdnjs.cloudflare.com/ajax/libs/highlight.js/11.5.0/highlight.min.js\"></script>\n",
    "  <!-- marked.js -->\n",
    "  <script src=\"https://cdn.jsdelivr.net/npm/marked/marked.min.js\"></script>\n",
    "  <script>{script:s}</script>\n",
    "</body>\n",
    "</html>\n",
    "\"\"\"\n",
    "with open(\"_build/html/index_7days.html\", 'w') as fout:\n",
    "    fout.write(page)"
   ]
  },
  {
   "cell_type": "markdown",
   "id": "1cebacbc",
   "metadata": {
    "papermill": {
     "duration": 0.013049,
     "end_time": "2022-10-25T05:26:34.778333",
     "exception": false,
     "start_time": "2022-10-25T05:26:34.765284",
     "status": "completed"
    },
    "tags": []
   },
   "source": [
    "# Debugging papers"
   ]
  },
  {
   "cell_type": "raw",
   "id": "debe7cc6",
   "metadata": {
    "papermill": {
     "duration": 0.01308,
     "end_time": "2022-10-25T05:26:34.804571",
     "exception": false,
     "start_time": "2022-10-25T05:26:34.791491",
     "status": "completed"
    },
    "tags": []
   },
   "source": [
    "raise NotImplementedError(\"Manual Stop\")"
   ]
  },
  {
   "cell_type": "raw",
   "id": "eb169192",
   "metadata": {
    "papermill": {
     "duration": 0.013075,
     "end_time": "2022-10-25T05:26:34.830624",
     "exception": false,
     "start_time": "2022-10-25T05:26:34.817549",
     "status": "completed"
    },
    "scrolled": true,
    "tags": []
   },
   "source": [
    "from IPython.display import display, Markdown\n",
    "from TexSoup import TexSoup\n",
    "import re\n",
    "\n",
    "def bracket_error(source: str):\n",
    "    \"\"\" Find problematic portions of the document \"\"\"\n",
    "    \n",
    "    print(\"len(source)\", len(source))\n",
    "    \n",
    "    # Checking header\n",
    "    begin_doc = next(re.finditer(r'\\\\begin\\{document\\}', doc.source)).span()[1]\n",
    "    header = source[:begin_doc]\n",
    "    text = header + r\"\\n\\end{document}\"\n",
    "\n",
    "    try:\n",
    "        # print(\"Header check... \", end='')\n",
    "        TexSoup(text)\n",
    "        display(Markdown(f\"**[OK]** - Header\"))\n",
    "    except:\n",
    "        raise RuntimeError(\"Error in the header\")\n",
    "        \n",
    "    # Check the text per section until the end.\n",
    "    # Do not stop and try them all.\n",
    "    \n",
    "    problematic_text = []\n",
    "    \n",
    "    sections = ([(0, begin_doc, 'until first section')] + \n",
    "                [(g.span()[0], g.span()[1], g.group()) for g in re.finditer(r'\\\\section\\{.*\\}', source)] +\n",
    "                [(g.span()[0], g.span()[1], g.group()) for g in re.finditer(r'\\\\begin\\{appendix\\}', source)]\n",
    "               )\n",
    "    sections.append([len(source), len(source), 'end'])\n",
    "    \n",
    "    sections = sorted(sections, key=lambda x: x[0])\n",
    "    \n",
    "    prev_pos, prev_name = (0, 'header')\n",
    "    parsed = []\n",
    "    \n",
    "    for span, span_end, name in sections:\n",
    "\n",
    "        if span - prev_pos <= 0:\n",
    "            continue\n",
    "            \n",
    "\n",
    "        text = source[prev_pos:span]\n",
    "        if prev_pos > begin_doc:\n",
    "            text = r\"\\n\\begin{document}\" + text + r\"\\n\\end{document}\"\n",
    "        else:\n",
    "            text = text + r\"\\n\\end{document}\"\n",
    "        try:\n",
    "            #print(f\"{prev_pos}:{prev_name}-->{span}:{name} check... \", end='')\n",
    "            parsed.append(TexSoup(text, tolerance=1))  # allow not ending env\n",
    "            display(Markdown(f\"**[OK]** - *{prev_pos}*:{prev_name} &rarr; *{span}*:{name}\"))\n",
    "            # print(\"ok\")\n",
    "\n",
    "            prev_pos = span\n",
    "            prev_name = name\n",
    "        except:\n",
    "            # print(f\"error between {prev_pos} and {span}\")\n",
    "            display(Markdown(f\"**[ERR]** *{prev_pos}*:{prev_name} &rarr; *{span}*:{name}\"))\n",
    "            problematic_text.append((prev_pos, source[prev_pos:span]))\n",
    "            prev_pos = span\n",
    "            prev_name = name\n",
    "            # raise\n",
    "    return problematic_text, parsed\n",
    "\n",
    "\n",
    "def check_environment(text, offset=0):\n",
    "    \"\"\" Check environment \"\"\"\n",
    "    env = re.compile(r\"\\\\begin\\{(?P<env>.*)\\}(.*)\\\\end\\{(?P=env)\\}\", re.DOTALL)\n",
    "\n",
    "    for match in env.finditer(text):\n",
    "        beg, end = match.span()\n",
    "        beg += offset\n",
    "        end += offset\n",
    "        envname = match.groups()[0]\n",
    "        try:\n",
    "            latex.TexSoup(match.group())\n",
    "        except Exception as e:\n",
    "            display(e)\n",
    "            print(f\"Error in {envname:s} between {beg} and {end}\")\n",
    "            return match.groups()[1], beg, end"
   ]
  },
  {
   "cell_type": "raw",
   "id": "2315e835",
   "metadata": {
    "papermill": {
     "duration": 0.01304,
     "end_time": "2022-10-25T05:26:34.856930",
     "exception": false,
     "start_time": "2022-10-25T05:26:34.843890",
     "status": "completed"
    },
    "scrolled": false,
    "tags": []
   },
   "source": [
    "import importlib\n",
    "importlib.reload(latex)\n",
    "which = \"2204.03253\"\n",
    "paper_id = f'{which:s}'\n",
    "folder = f'tmp_{paper_id:s}'\n",
    "\n",
    "if not os.path.isdir(folder):\n",
    "    folder = retrieve_document_source(f\"{paper_id}\", f'tmp_{paper_id}')\n",
    "\n",
    "try:\n",
    "    doc = latex.LatexDocument(folder, validation=validation)    \n",
    "except AffiliationError as affilerror:\n",
    "    msg = f\"ArXiv:{paper_id:s} is not an MPIA paper... \" + str(affilerror)\n",
    "    print(msg)\n",
    "\n",
    "\n",
    "# Hack because sometimes author parsing does not work well\n",
    "if (len(doc.authors) != len(paper['authors'])):\n",
    "    doc._authors = paper['authors']\n",
    "if (doc.abstract) in (None, ''):\n",
    "    doc._abstract = paper['abstract']\n",
    "\n",
    "doc.comment = get_markdown_badge(paper_id) + \" _\" + paper['comments'] + \"_\"\n",
    "doc.highlight_authors_in_list(hl_list)\n",
    "\n",
    "full_md = doc.generate_markdown_text()"
   ]
  },
  {
   "cell_type": "raw",
   "id": "dd3781db",
   "metadata": {
    "papermill": {
     "duration": 0.01303,
     "end_time": "2022-10-25T05:26:34.883165",
     "exception": false,
     "start_time": "2022-10-25T05:26:34.870135",
     "status": "completed"
    },
    "scrolled": false,
    "tags": []
   },
   "source": [
    "doc"
   ]
  },
  {
   "cell_type": "raw",
   "id": "c6eed834",
   "metadata": {
    "papermill": {
     "duration": 0.013051,
     "end_time": "2022-10-25T05:26:34.909226",
     "exception": false,
     "start_time": "2022-10-25T05:26:34.896175",
     "status": "completed"
    },
    "tags": []
   },
   "source": [
    "# [check_environment(k) for k in bracket_error(doc.source)]\n",
    "_, _, a = latex.get_content_per_section(doc.source, verbose=True)\n",
    "if not a:\n",
    "    print(\"no issues per section\")\n",
    "for ak in a:\n",
    "    r = check_environment(ak[1], offset=ak[0])\n",
    "    print(r[1], r[2])\n",
    "    print(r[0])"
   ]
  },
  {
   "cell_type": "code",
   "execution_count": null,
   "id": "71ce768a",
   "metadata": {
    "papermill": {
     "duration": 0.013054,
     "end_time": "2022-10-25T05:26:34.935264",
     "exception": false,
     "start_time": "2022-10-25T05:26:34.922210",
     "status": "completed"
    },
    "tags": []
   },
   "outputs": [],
   "source": []
  }
 ],
 "metadata": {
  "kernelspec": {
   "display_name": "Python 3.10.6 64-bit",
   "language": "python",
   "name": "python3"
  },
  "language_info": {
   "codemirror_mode": {
    "name": "ipython",
    "version": 3
   },
   "file_extension": ".py",
   "mimetype": "text/x-python",
   "name": "python",
   "nbconvert_exporter": "python",
   "pygments_lexer": "ipython3",
   "version": "3.9.15"
  },
  "papermill": {
   "default_parameters": {},
   "duration": 212.891904,
   "end_time": "2022-10-25T05:26:35.165173",
   "environment_variables": {},
   "exception": null,
   "input_path": "MPIA daily digest.ipynb",
   "output_path": "log.ipynb",
   "parameters": {},
   "start_time": "2022-10-25T05:23:02.273269",
   "version": "2.4.0"
  },
  "vscode": {
   "interpreter": {
    "hash": "e7370f93d1d0cde622a1f8e1c04877d8463912d04d973331ad4851f04de6915a"
   }
  },
  "widgets": {
   "application/vnd.jupyter.widget-state+json": {
    "state": {
     "0e4df0444c0e494b9fa46dfc81936b8e": {
      "model_module": "@jupyter-widgets/controls",
      "model_module_version": "2.0.0",
      "model_name": "HTMLModel",
      "state": {
       "_dom_classes": [],
       "_model_module": "@jupyter-widgets/controls",
       "_model_module_version": "2.0.0",
       "_model_name": "HTMLModel",
       "_view_count": null,
       "_view_module": "@jupyter-widgets/controls",
       "_view_module_version": "2.0.0",
       "_view_name": "HTMLView",
       "description": "",
       "description_allow_html": false,
       "layout": "IPY_MODEL_7ec7a689ab9a44639073b724dc5aae6e",
       "placeholder": "​",
       "style": "IPY_MODEL_ad0b5fe907734e338bf8811707ff99b0",
       "tabbable": null,
       "tooltip": null,
       "value": "100%"
      }
     },
     "1d1fbfbc6c514f928e90bd0a45fffb80": {
      "model_module": "@jupyter-widgets/base",
      "model_module_version": "2.0.0",
      "model_name": "LayoutModel",
      "state": {
       "_model_module": "@jupyter-widgets/base",
       "_model_module_version": "2.0.0",
       "_model_name": "LayoutModel",
       "_view_count": null,
       "_view_module": "@jupyter-widgets/base",
       "_view_module_version": "2.0.0",
       "_view_name": "LayoutView",
       "align_content": null,
       "align_items": null,
       "align_self": null,
       "border_bottom": null,
       "border_left": null,
       "border_right": null,
       "border_top": null,
       "bottom": null,
       "display": null,
       "flex": null,
       "flex_flow": null,
       "grid_area": null,
       "grid_auto_columns": null,
       "grid_auto_flow": null,
       "grid_auto_rows": null,
       "grid_column": null,
       "grid_gap": null,
       "grid_row": null,
       "grid_template_areas": null,
       "grid_template_columns": null,
       "grid_template_rows": null,
       "height": null,
       "justify_content": null,
       "justify_items": null,
       "left": null,
       "margin": null,
       "max_height": null,
       "max_width": null,
       "min_height": null,
       "min_width": null,
       "object_fit": null,
       "object_position": null,
       "order": null,
       "overflow": null,
       "padding": null,
       "right": null,
       "top": null,
       "visibility": null,
       "width": null
      }
     },
     "215a0388cb0b48169adfe7f1c302768a": {
      "model_module": "@jupyter-widgets/controls",
      "model_module_version": "2.0.0",
      "model_name": "ProgressStyleModel",
      "state": {
       "_model_module": "@jupyter-widgets/controls",
       "_model_module_version": "2.0.0",
       "_model_name": "ProgressStyleModel",
       "_view_count": null,
       "_view_module": "@jupyter-widgets/base",
       "_view_module_version": "2.0.0",
       "_view_name": "StyleView",
       "bar_color": null,
       "description_width": ""
      }
     },
     "4c32285292174007ae0521966e0ee2d2": {
      "model_module": "@jupyter-widgets/controls",
      "model_module_version": "2.0.0",
      "model_name": "HTMLStyleModel",
      "state": {
       "_model_module": "@jupyter-widgets/controls",
       "_model_module_version": "2.0.0",
       "_model_name": "HTMLStyleModel",
       "_view_count": null,
       "_view_module": "@jupyter-widgets/base",
       "_view_module_version": "2.0.0",
       "_view_name": "StyleView",
       "background": null,
       "description_width": "",
       "font_size": null,
       "text_color": null
      }
     },
     "67ab87708b1c4e2eae616dee2302cfab": {
      "model_module": "@jupyter-widgets/controls",
      "model_module_version": "2.0.0",
      "model_name": "HTMLModel",
      "state": {
       "_dom_classes": [],
       "_model_module": "@jupyter-widgets/controls",
       "_model_module_version": "2.0.0",
       "_model_name": "HTMLModel",
       "_view_count": null,
       "_view_module": "@jupyter-widgets/controls",
       "_view_module_version": "2.0.0",
       "_view_name": "HTMLView",
       "description": "",
       "description_allow_html": false,
       "layout": "IPY_MODEL_b2732aeda4dd48e08b6c0294374e013c",
       "placeholder": "​",
       "style": "IPY_MODEL_4c32285292174007ae0521966e0ee2d2",
       "tabbable": null,
       "tooltip": null,
       "value": " 36/36 [03:01&lt;00:00,  7.60s/it]"
      }
     },
     "6f9aa50de17845b3a580cba45a5d878e": {
      "model_module": "@jupyter-widgets/controls",
      "model_module_version": "2.0.0",
      "model_name": "HBoxModel",
      "state": {
       "_dom_classes": [],
       "_model_module": "@jupyter-widgets/controls",
       "_model_module_version": "2.0.0",
       "_model_name": "HBoxModel",
       "_view_count": null,
       "_view_module": "@jupyter-widgets/controls",
       "_view_module_version": "2.0.0",
       "_view_name": "HBoxView",
       "box_style": "",
       "children": [
        "IPY_MODEL_0e4df0444c0e494b9fa46dfc81936b8e",
        "IPY_MODEL_aeeb837bb2a5454ab115967727d84a19",
        "IPY_MODEL_67ab87708b1c4e2eae616dee2302cfab"
       ],
       "layout": "IPY_MODEL_1d1fbfbc6c514f928e90bd0a45fffb80",
       "tabbable": null,
       "tooltip": null
      }
     },
     "7ec7a689ab9a44639073b724dc5aae6e": {
      "model_module": "@jupyter-widgets/base",
      "model_module_version": "2.0.0",
      "model_name": "LayoutModel",
      "state": {
       "_model_module": "@jupyter-widgets/base",
       "_model_module_version": "2.0.0",
       "_model_name": "LayoutModel",
       "_view_count": null,
       "_view_module": "@jupyter-widgets/base",
       "_view_module_version": "2.0.0",
       "_view_name": "LayoutView",
       "align_content": null,
       "align_items": null,
       "align_self": null,
       "border_bottom": null,
       "border_left": null,
       "border_right": null,
       "border_top": null,
       "bottom": null,
       "display": null,
       "flex": null,
       "flex_flow": null,
       "grid_area": null,
       "grid_auto_columns": null,
       "grid_auto_flow": null,
       "grid_auto_rows": null,
       "grid_column": null,
       "grid_gap": null,
       "grid_row": null,
       "grid_template_areas": null,
       "grid_template_columns": null,
       "grid_template_rows": null,
       "height": null,
       "justify_content": null,
       "justify_items": null,
       "left": null,
       "margin": null,
       "max_height": null,
       "max_width": null,
       "min_height": null,
       "min_width": null,
       "object_fit": null,
       "object_position": null,
       "order": null,
       "overflow": null,
       "padding": null,
       "right": null,
       "top": null,
       "visibility": null,
       "width": null
      }
     },
     "ad0b5fe907734e338bf8811707ff99b0": {
      "model_module": "@jupyter-widgets/controls",
      "model_module_version": "2.0.0",
      "model_name": "HTMLStyleModel",
      "state": {
       "_model_module": "@jupyter-widgets/controls",
       "_model_module_version": "2.0.0",
       "_model_name": "HTMLStyleModel",
       "_view_count": null,
       "_view_module": "@jupyter-widgets/base",
       "_view_module_version": "2.0.0",
       "_view_name": "StyleView",
       "background": null,
       "description_width": "",
       "font_size": null,
       "text_color": null
      }
     },
     "aeeb837bb2a5454ab115967727d84a19": {
      "model_module": "@jupyter-widgets/controls",
      "model_module_version": "2.0.0",
      "model_name": "FloatProgressModel",
      "state": {
       "_dom_classes": [],
       "_model_module": "@jupyter-widgets/controls",
       "_model_module_version": "2.0.0",
       "_model_name": "FloatProgressModel",
       "_view_count": null,
       "_view_module": "@jupyter-widgets/controls",
       "_view_module_version": "2.0.0",
       "_view_name": "ProgressView",
       "bar_style": "success",
       "description": "",
       "description_allow_html": false,
       "layout": "IPY_MODEL_bcdd7137d2ba478482ab1796f76abf43",
       "max": 36.0,
       "min": 0.0,
       "orientation": "horizontal",
       "style": "IPY_MODEL_215a0388cb0b48169adfe7f1c302768a",
       "tabbable": null,
       "tooltip": null,
       "value": 36.0
      }
     },
     "b2732aeda4dd48e08b6c0294374e013c": {
      "model_module": "@jupyter-widgets/base",
      "model_module_version": "2.0.0",
      "model_name": "LayoutModel",
      "state": {
       "_model_module": "@jupyter-widgets/base",
       "_model_module_version": "2.0.0",
       "_model_name": "LayoutModel",
       "_view_count": null,
       "_view_module": "@jupyter-widgets/base",
       "_view_module_version": "2.0.0",
       "_view_name": "LayoutView",
       "align_content": null,
       "align_items": null,
       "align_self": null,
       "border_bottom": null,
       "border_left": null,
       "border_right": null,
       "border_top": null,
       "bottom": null,
       "display": null,
       "flex": null,
       "flex_flow": null,
       "grid_area": null,
       "grid_auto_columns": null,
       "grid_auto_flow": null,
       "grid_auto_rows": null,
       "grid_column": null,
       "grid_gap": null,
       "grid_row": null,
       "grid_template_areas": null,
       "grid_template_columns": null,
       "grid_template_rows": null,
       "height": null,
       "justify_content": null,
       "justify_items": null,
       "left": null,
       "margin": null,
       "max_height": null,
       "max_width": null,
       "min_height": null,
       "min_width": null,
       "object_fit": null,
       "object_position": null,
       "order": null,
       "overflow": null,
       "padding": null,
       "right": null,
       "top": null,
       "visibility": null,
       "width": null
      }
     },
     "bcdd7137d2ba478482ab1796f76abf43": {
      "model_module": "@jupyter-widgets/base",
      "model_module_version": "2.0.0",
      "model_name": "LayoutModel",
      "state": {
       "_model_module": "@jupyter-widgets/base",
       "_model_module_version": "2.0.0",
       "_model_name": "LayoutModel",
       "_view_count": null,
       "_view_module": "@jupyter-widgets/base",
       "_view_module_version": "2.0.0",
       "_view_name": "LayoutView",
       "align_content": null,
       "align_items": null,
       "align_self": null,
       "border_bottom": null,
       "border_left": null,
       "border_right": null,
       "border_top": null,
       "bottom": null,
       "display": null,
       "flex": null,
       "flex_flow": null,
       "grid_area": null,
       "grid_auto_columns": null,
       "grid_auto_flow": null,
       "grid_auto_rows": null,
       "grid_column": null,
       "grid_gap": null,
       "grid_row": null,
       "grid_template_areas": null,
       "grid_template_columns": null,
       "grid_template_rows": null,
       "height": null,
       "justify_content": null,
       "justify_items": null,
       "left": null,
       "margin": null,
       "max_height": null,
       "max_width": null,
       "min_height": null,
       "min_width": null,
       "object_fit": null,
       "object_position": null,
       "order": null,
       "overflow": null,
       "padding": null,
       "right": null,
       "top": null,
       "visibility": null,
       "width": null
      }
     }
    },
    "version_major": 2,
    "version_minor": 0
   }
  }
 },
 "nbformat": 4,
 "nbformat_minor": 5
}