{
 "cells": [
  {
   "cell_type": "markdown",
   "id": "92bcb855",
   "metadata": {
    "papermill": {
     "duration": 0.005219,
     "end_time": "2022-10-11T05:12:28.503485",
     "exception": false,
     "start_time": "2022-10-11T05:12:28.498266",
     "status": "completed"
    },
    "tags": []
   },
   "source": [
    "# MPIA Arxiv on Deck 2\n",
    "\n",
    "Contains the steps to produce the paper extractions."
   ]
  },
  {
   "cell_type": "code",
   "execution_count": 1,
   "id": "3a0d6e11",
   "metadata": {
    "execution": {
     "iopub.execute_input": "2022-10-11T05:12:28.514166Z",
     "iopub.status.busy": "2022-10-11T05:12:28.512683Z",
     "iopub.status.idle": "2022-10-11T05:12:28.682405Z",
     "shell.execute_reply": "2022-10-11T05:12:28.681442Z"
    },
    "papermill": {
     "duration": 0.176508,
     "end_time": "2022-10-11T05:12:28.684228",
     "exception": false,
     "start_time": "2022-10-11T05:12:28.507720",
     "status": "completed"
    },
    "tags": []
   },
   "outputs": [],
   "source": [
    "# Imports\n",
    "import os\n",
    "from IPython.display import Markdown, display\n",
    "from tqdm.notebook import tqdm\n",
    "import warnings\n",
    "from PIL import Image \n",
    "\n",
    "# requires arxiv_on_deck_2\n",
    "\n",
    "from arxiv_on_deck_2.arxiv2 import (get_new_papers, \n",
    "                                    get_paper_from_identifier,\n",
    "                                    retrieve_document_source, \n",
    "                                    get_markdown_badge)\n",
    "from arxiv_on_deck_2 import (latex, \n",
    "                             mpia,\n",
    "                             highlight_authors_in_list)\n",
    "\n",
    "# Sometimes images are really big\n",
    "Image.MAX_IMAGE_PIXELS = 1000000000 "
   ]
  },
  {
   "cell_type": "code",
   "execution_count": 2,
   "id": "22aa9d44",
   "metadata": {
    "execution": {
     "iopub.execute_input": "2022-10-11T05:12:28.693704Z",
     "iopub.status.busy": "2022-10-11T05:12:28.693355Z",
     "iopub.status.idle": "2022-10-11T05:12:28.698084Z",
     "shell.execute_reply": "2022-10-11T05:12:28.697482Z"
    },
    "papermill": {
     "duration": 0.011098,
     "end_time": "2022-10-11T05:12:28.699594",
     "exception": false,
     "start_time": "2022-10-11T05:12:28.688496",
     "status": "completed"
    },
    "tags": []
   },
   "outputs": [],
   "source": [
    "# Some useful definitions.\n",
    "\n",
    "class AffiliationWarning(UserWarning):\n",
    "    pass\n",
    "\n",
    "class AffiliationError(RuntimeError):\n",
    "    pass\n",
    "\n",
    "def validation(source: str):\n",
    "    \"\"\"Raises error paper during parsing of source file\n",
    "    \n",
    "    Allows checks before parsing TeX code.\n",
    "    \n",
    "    Raises AffiliationWarning\n",
    "    \"\"\"\n",
    "    check = mpia.affiliation_verifications(source, verbose=True)\n",
    "    if check is not True:\n",
    "        raise AffiliationError(\"mpia.affiliation_verifications: \" + check)\n",
    "\n",
    "        \n",
    "warnings.simplefilter('always', AffiliationWarning)"
   ]
  },
  {
   "cell_type": "code",
   "execution_count": 3,
   "id": "14622700",
   "metadata": {
    "execution": {
     "iopub.execute_input": "2022-10-11T05:12:28.709576Z",
     "iopub.status.busy": "2022-10-11T05:12:28.709370Z",
     "iopub.status.idle": "2022-10-11T05:12:28.713009Z",
     "shell.execute_reply": "2022-10-11T05:12:28.712422Z"
    },
    "papermill": {
     "duration": 0.011363,
     "end_time": "2022-10-11T05:12:28.714741",
     "exception": false,
     "start_time": "2022-10-11T05:12:28.703378",
     "status": "completed"
    },
    "tags": []
   },
   "outputs": [],
   "source": [
    "# additional CSS to consider. \n",
    "# TODO: Current into each exported file. \n",
    "#       This should be set once into the webpages directly.\n",
    "#       With only the class/id definitions in the .md files.\n",
    "\n",
    "debug_html = \"\"\"\n",
    "<style>\n",
    "#wrap{ overflow:auto; }\n",
    "#fig1{ background:yellow; width:100%; float:left; padding:5px;  }\n",
    "#fig2{ background:red; width:50%; float:left; clear:left; padding:5px;  }\n",
    "#fig3{ background:green; width:50%; float:left; padding:5px;   }\n",
    ".macros{ background:yellow; visibility:visible;}\n",
    "h1 {margin: 0 0 0 0;}\n",
    "mark {background-color:#fff3b6;}\n",
    "img {object-fit:contain; max-height:250px; display:inline-block; text-align: center;}\n",
    "</style>\n",
    "\"\"\" \n",
    "html = \"\"\"\n",
    "<style>\n",
    "#wrap{ overflow:auto; }\n",
    "#fig1{ width:100%; float:left; padding: 5px;  }\n",
    "#fig2{ width:50%; float:left; clear:left; padding: 5px;  }\n",
    "#fig3{ width:50%; float:left; padding: 5px;  }\n",
    ".macros{ visibility:hidden; height:0px; }\n",
    "h1 {margin: 0em 0 0 0;}\n",
    "mark {background-color:#fff3b6;}\n",
    "img {object-fit:contain; max-height:250px; display:inline-block; text-align: center;}\n",
    "</style>\n",
    "\"\"\""
   ]
  },
  {
   "cell_type": "markdown",
   "id": "14bd6310",
   "metadata": {
    "papermill": {
     "duration": 0.003841,
     "end_time": "2022-10-11T05:12:28.722363",
     "exception": false,
     "start_time": "2022-10-11T05:12:28.718522",
     "status": "completed"
    },
    "tags": []
   },
   "source": [
    "## get list of arxiv paper candidates\n",
    "\n",
    "We use the MPIA mitarbeiter list webpage from mpia.de to get author names\n",
    "We then get all new papers from Arxiv and match authors"
   ]
  },
  {
   "cell_type": "code",
   "execution_count": 4,
   "id": "2645e73a",
   "metadata": {
    "execution": {
     "iopub.execute_input": "2022-10-11T05:12:28.731097Z",
     "iopub.status.busy": "2022-10-11T05:12:28.730892Z",
     "iopub.status.idle": "2022-10-11T05:12:55.334218Z",
     "shell.execute_reply": "2022-10-11T05:12:55.332746Z"
    },
    "papermill": {
     "duration": 26.609747,
     "end_time": "2022-10-11T05:12:55.335974",
     "exception": false,
     "start_time": "2022-10-11T05:12:28.726227",
     "status": "completed"
    },
    "tags": []
   },
   "outputs": [
    {
     "name": "stdout",
     "output_type": "stream",
     "text": [
      "Arxiv has 78 new papers today\n",
      "          45 with possible author matches\n"
     ]
    }
   ],
   "source": [
    "# get list from MPIA website\n",
    "# it automatically filters identified non-scientists :func:`mpia.filter_non_scientists`\n",
    "mpia_authors = mpia.get_mpia_mitarbeiter_list()\n",
    "new_papers = get_new_papers()\n",
    "# add manual references\n",
    "add_paper_refs = []\n",
    "new_papers.extend([get_paper_from_identifier(k) for k in add_paper_refs])\n",
    "\n",
    "# select only papers with matching author names and highlight authors\n",
    "hl_list = [k[0] for k in mpia_authors]\n",
    "\n",
    "candidates = []\n",
    "for paperk in new_papers:\n",
    "    hl_authors = highlight_authors_in_list(paperk['authors'], hl_list)\n",
    "    matches = [(hl, orig) for hl, orig in zip(hl_authors, paperk['authors']) if 'mark' in hl]\n",
    "    paperk['authors'] = hl_authors\n",
    "    if matches:\n",
    "        candidates.append(paperk)\n",
    "print(\"\"\"Arxiv has {0:,d} new papers today\"\"\".format(len(new_papers)))        \n",
    "print(\"\"\"          {0:,d} with possible author matches\"\"\".format(len(candidates)))"
   ]
  },
  {
   "cell_type": "markdown",
   "id": "3543b34a",
   "metadata": {
    "papermill": {
     "duration": 0.004391,
     "end_time": "2022-10-11T05:12:55.344741",
     "exception": false,
     "start_time": "2022-10-11T05:12:55.340350",
     "status": "completed"
    },
    "tags": []
   },
   "source": [
    "# Parse sources and generate relevant outputs\n",
    "\n",
    "From the candidates, we do the following steps:\n",
    "* get their tarball from ArXiv (and extract data)\n",
    "* find the main .tex file: find one with \\documentclass{...} (sometimes it's non trivial)\n",
    "* Check affiliations with :func:`validation`, which uses :func:`mpia.affiliation_verifications`\n",
    "* If passing the affiliations: we parse the .tex source\n",
    "   * inject sub-documents into the main (flatten the main document)\n",
    "   * parse structure, extract information (title, abstract, authors, figures...)\n",
    "   * handles `\\graphicspath` if provided\n",
    "* Generate the .md document."
   ]
  },
  {
   "cell_type": "code",
   "execution_count": 5,
   "id": "9576b79e",
   "metadata": {
    "execution": {
     "iopub.execute_input": "2022-10-11T05:12:55.354406Z",
     "iopub.status.busy": "2022-10-11T05:12:55.353753Z",
     "iopub.status.idle": "2022-10-11T05:15:32.362979Z",
     "shell.execute_reply": "2022-10-11T05:15:32.362317Z"
    },
    "papermill": {
     "duration": 157.025163,
     "end_time": "2022-10-11T05:15:32.373827",
     "exception": false,
     "start_time": "2022-10-11T05:12:55.348664",
     "status": "completed"
    },
    "scrolled": false,
    "tags": []
   },
   "outputs": [
    {
     "data": {
      "application/vnd.jupyter.widget-view+json": {
       "model_id": "7c12094023104e9c95085e03f9b3e640",
       "version_major": 2,
       "version_minor": 0
      },
      "text/plain": [
       "  0%|          | 0/44 [00:00<?, ?it/s]"
      ]
     },
     "metadata": {},
     "output_type": "display_data"
    },
    {
     "name": "stdout",
     "output_type": "stream",
     "text": [
      "Retrieving document from  https://arxiv.org/e-print/2210.03748\n"
     ]
    },
    {
     "name": "stdout",
     "output_type": "stream",
     "text": [
      "extracting tarball to tmp_2210.03748..."
     ]
    },
    {
     "name": "stdout",
     "output_type": "stream",
     "text": [
      " done.\n",
      "Retrieving document from  https://arxiv.org/e-print/2210.03754\n"
     ]
    },
    {
     "name": "stdout",
     "output_type": "stream",
     "text": [
      "extracting tarball to tmp_2210.03754..."
     ]
    },
    {
     "name": "stdout",
     "output_type": "stream",
     "text": [
      " done.\n",
      "Retrieving document from  https://arxiv.org/e-print/2210.03755\n"
     ]
    },
    {
     "name": "stdout",
     "output_type": "stream",
     "text": [
      "extracting tarball to tmp_2210.03755..."
     ]
    },
    {
     "name": "stdout",
     "output_type": "stream",
     "text": [
      " done.\n",
      "Retrieving document from  https://arxiv.org/e-print/2210.03764\n"
     ]
    },
    {
     "name": "stderr",
     "output_type": "stream",
     "text": [
      "/opt/hostedtoolcache/Python/3.9.14/x64/lib/python3.9/site-packages/IPython/core/interactiveshell.py:3378: LatexWarning: Multiple tex files.\n",
      "\n",
      "  exec(code_obj, self.user_global_ns, self.user_ns)\n",
      "/opt/hostedtoolcache/Python/3.9.14/x64/lib/python3.9/site-packages/IPython/core/interactiveshell.py:3378: LatexWarning: Found documentclass in tmp_2210.03755/main.tex\n",
      "\n",
      "  exec(code_obj, self.user_global_ns, self.user_ns)\n"
     ]
    },
    {
     "name": "stdout",
     "output_type": "stream",
     "text": [
      "extracting tarball to tmp_2210.03764..."
     ]
    },
    {
     "name": "stdout",
     "output_type": "stream",
     "text": [
      " done.\n"
     ]
    },
    {
     "name": "stderr",
     "output_type": "stream",
     "text": [
      "/tmp/ipykernel_2437/4030337529.py:34: LatexWarning: 2210.03764 did not run properly\n",
      "list index out of range\n",
      "  warnings.warn(latex.LatexWarning(f\"{paper_id:s} did not run properly\\n\" +\n"
     ]
    },
    {
     "name": "stdout",
     "output_type": "stream",
     "text": [
      "Retrieving document from  https://arxiv.org/e-print/2210.03769\n"
     ]
    },
    {
     "name": "stdout",
     "output_type": "stream",
     "text": [
      "extracting tarball to tmp_2210.03769..."
     ]
    },
    {
     "name": "stdout",
     "output_type": "stream",
     "text": [
      " done.\n",
      "Retrieving document from  https://arxiv.org/e-print/2210.03770\n"
     ]
    },
    {
     "name": "stdout",
     "output_type": "stream",
     "text": [
      "extracting tarball to tmp_2210.03770..."
     ]
    },
    {
     "name": "stdout",
     "output_type": "stream",
     "text": [
      " done.\n",
      "Retrieving document from  https://arxiv.org/e-print/2210.03771\n"
     ]
    },
    {
     "name": "stdout",
     "output_type": "stream",
     "text": [
      "extracting tarball to tmp_2210.03771..."
     ]
    },
    {
     "name": "stdout",
     "output_type": "stream",
     "text": [
      " done.\n",
      "Retrieving document from  https://arxiv.org/e-print/2210.03823\n"
     ]
    },
    {
     "name": "stdout",
     "output_type": "stream",
     "text": [
      "extracting tarball to tmp_2210.03823..."
     ]
    },
    {
     "name": "stdout",
     "output_type": "stream",
     "text": [
      " done.\n",
      "Retrieving document from  https://arxiv.org/e-print/2210.03827\n"
     ]
    },
    {
     "name": "stderr",
     "output_type": "stream",
     "text": [
      "/opt/hostedtoolcache/Python/3.9.14/x64/lib/python3.9/site-packages/IPython/core/interactiveshell.py:3378: LatexWarning: Multiple tex files.\n",
      "\n",
      "  exec(code_obj, self.user_global_ns, self.user_ns)\n",
      "/opt/hostedtoolcache/Python/3.9.14/x64/lib/python3.9/site-packages/IPython/core/interactiveshell.py:3378: LatexWarning: Found documentclass in tmp_2210.03823/article.tex\n",
      "\n",
      "  exec(code_obj, self.user_global_ns, self.user_ns)\n"
     ]
    },
    {
     "name": "stdout",
     "output_type": "stream",
     "text": [
      "extracting tarball to tmp_2210.03827..."
     ]
    },
    {
     "name": "stdout",
     "output_type": "stream",
     "text": [
      " done.\n",
      "Retrieving document from  https://arxiv.org/e-print/2210.03845\n"
     ]
    },
    {
     "name": "stdout",
     "output_type": "stream",
     "text": [
      "extracting tarball to tmp_2210.03845..."
     ]
    },
    {
     "name": "stdout",
     "output_type": "stream",
     "text": [
      " done.\n",
      "Retrieving document from  https://arxiv.org/e-print/2210.03873\n"
     ]
    },
    {
     "name": "stderr",
     "output_type": "stream",
     "text": [
      "/opt/hostedtoolcache/Python/3.9.14/x64/lib/python3.9/site-packages/IPython/core/interactiveshell.py:3378: LatexWarning: Multiple tex files.\n",
      "\n",
      "  exec(code_obj, self.user_global_ns, self.user_ns)\n",
      "/opt/hostedtoolcache/Python/3.9.14/x64/lib/python3.9/site-packages/IPython/core/interactiveshell.py:3378: LatexWarning: Found documentclass in tmp_2210.03845/main.tex\n",
      "\n",
      "  exec(code_obj, self.user_global_ns, self.user_ns)\n"
     ]
    },
    {
     "name": "stderr",
     "output_type": "stream",
     "text": [
      "/tmp/ipykernel_2437/4030337529.py:34: LatexWarning: 2210.03873 did not run properly\n",
      "not a gzip file\n",
      "  warnings.warn(latex.LatexWarning(f\"{paper_id:s} did not run properly\\n\" +\n"
     ]
    },
    {
     "name": "stdout",
     "output_type": "stream",
     "text": [
      "Retrieving document from  https://arxiv.org/e-print/2210.03880\n"
     ]
    },
    {
     "name": "stdout",
     "output_type": "stream",
     "text": [
      "extracting tarball to tmp_2210.03880... done.\n",
      "Retrieving document from  https://arxiv.org/e-print/2210.03897\n"
     ]
    },
    {
     "name": "stdout",
     "output_type": "stream",
     "text": [
      "extracting tarball to tmp_2210.03897..."
     ]
    },
    {
     "name": "stdout",
     "output_type": "stream",
     "text": [
      " done.\n",
      "Retrieving document from  https://arxiv.org/e-print/2210.03977\n"
     ]
    },
    {
     "name": "stderr",
     "output_type": "stream",
     "text": [
      "/opt/hostedtoolcache/Python/3.9.14/x64/lib/python3.9/site-packages/IPython/core/interactiveshell.py:3378: LatexWarning: Multiple tex files.\n",
      "\n",
      "  exec(code_obj, self.user_global_ns, self.user_ns)\n",
      "/opt/hostedtoolcache/Python/3.9.14/x64/lib/python3.9/site-packages/IPython/core/interactiveshell.py:3378: LatexWarning: Found documentclass in tmp_2210.03897/LIVSME.tex\n",
      "\n",
      "  exec(code_obj, self.user_global_ns, self.user_ns)\n"
     ]
    },
    {
     "name": "stdout",
     "output_type": "stream",
     "text": [
      "extracting tarball to tmp_2210.03977..."
     ]
    },
    {
     "name": "stdout",
     "output_type": "stream",
     "text": [
      " done.\n",
      "Retrieving document from  https://arxiv.org/e-print/2210.04000\n"
     ]
    },
    {
     "name": "stdout",
     "output_type": "stream",
     "text": [
      "extracting tarball to tmp_2210.04000... done.\n",
      "Retrieving document from  https://arxiv.org/e-print/2210.04058\n"
     ]
    },
    {
     "name": "stderr",
     "output_type": "stream",
     "text": [
      "/tmp/ipykernel_2437/4030337529.py:34: LatexWarning: 2210.04000 did not run properly\n",
      "'utf-8' codec can't decode byte 0xb2 in position 34292: invalid start byte\n",
      "  warnings.warn(latex.LatexWarning(f\"{paper_id:s} did not run properly\\n\" +\n"
     ]
    },
    {
     "name": "stdout",
     "output_type": "stream",
     "text": [
      "extracting tarball to tmp_2210.04058..."
     ]
    },
    {
     "name": "stdout",
     "output_type": "stream",
     "text": [
      " done.\n",
      "Retrieving document from  https://arxiv.org/e-print/2210.04113\n"
     ]
    },
    {
     "name": "stdout",
     "output_type": "stream",
     "text": [
      "extracting tarball to tmp_2210.04113..."
     ]
    },
    {
     "name": "stdout",
     "output_type": "stream",
     "text": [
      " done.\n",
      "Retrieving document from  https://arxiv.org/e-print/2210.04115\n"
     ]
    },
    {
     "name": "stdout",
     "output_type": "stream",
     "text": [
      "extracting tarball to tmp_2210.04115... done.\n",
      "Retrieving document from  https://arxiv.org/e-print/2210.04117\n"
     ]
    },
    {
     "name": "stdout",
     "output_type": "stream",
     "text": [
      "extracting tarball to tmp_2210.04117..."
     ]
    },
    {
     "name": "stdout",
     "output_type": "stream",
     "text": [
      " done.\n",
      "Retrieving document from  https://arxiv.org/e-print/2210.04122\n"
     ]
    },
    {
     "name": "stderr",
     "output_type": "stream",
     "text": [
      "/opt/hostedtoolcache/Python/3.9.14/x64/lib/python3.9/site-packages/IPython/core/interactiveshell.py:3378: LatexWarning: Multiple tex files.\n",
      "\n",
      "  exec(code_obj, self.user_global_ns, self.user_ns)\n",
      "/opt/hostedtoolcache/Python/3.9.14/x64/lib/python3.9/site-packages/IPython/core/interactiveshell.py:3378: LatexWarning: Found documentclass in tmp_2210.04117/BenWestbrook_LTD17_Proceedings_Revised.tex\n",
      "\n",
      "  exec(code_obj, self.user_global_ns, self.user_ns)\n",
      "/opt/hostedtoolcache/Python/3.9.14/x64/lib/python3.9/site-packages/arxiv_on_deck_2/latex.py:292: LatexWarning: Latex injecting: 'references.bib' from 'tmp_2210.04117/references.tex'\n",
      "  warnings.warn(LatexWarning(f\"Latex injecting: '{ext}' from '{subsource}'\"))\n"
     ]
    },
    {
     "name": "stdout",
     "output_type": "stream",
     "text": [
      "extracting tarball to tmp_2210.04122..."
     ]
    },
    {
     "name": "stdout",
     "output_type": "stream",
     "text": [
      " done.\n",
      "Retrieving document from  https://arxiv.org/e-print/2210.04143\n"
     ]
    },
    {
     "name": "stdout",
     "output_type": "stream",
     "text": [
      "extracting tarball to tmp_2210.04143..."
     ]
    },
    {
     "name": "stdout",
     "output_type": "stream",
     "text": [
      " done.\n",
      "Retrieving document from  https://arxiv.org/e-print/2210.04162\n"
     ]
    },
    {
     "name": "stdout",
     "output_type": "stream",
     "text": [
      "extracting tarball to tmp_2210.04162..."
     ]
    },
    {
     "name": "stdout",
     "output_type": "stream",
     "text": [
      " done.\n",
      "Retrieving document from  https://arxiv.org/e-print/2210.04168\n"
     ]
    },
    {
     "name": "stdout",
     "output_type": "stream",
     "text": [
      "extracting tarball to tmp_2210.04168..."
     ]
    },
    {
     "name": "stdout",
     "output_type": "stream",
     "text": [
      " done.\n",
      "Retrieving document from  https://arxiv.org/e-print/2210.04190\n"
     ]
    },
    {
     "name": "stdout",
     "output_type": "stream",
     "text": [
      "extracting tarball to tmp_2210.04190..."
     ]
    },
    {
     "name": "stdout",
     "output_type": "stream",
     "text": [
      " done.\n",
      "Retrieving document from  https://arxiv.org/e-print/2210.04203\n"
     ]
    },
    {
     "name": "stdout",
     "output_type": "stream",
     "text": [
      "extracting tarball to tmp_2210.04203..."
     ]
    },
    {
     "name": "stdout",
     "output_type": "stream",
     "text": [
      " done.\n",
      "Retrieving document from  https://arxiv.org/e-print/2210.04228\n"
     ]
    },
    {
     "name": "stdout",
     "output_type": "stream",
     "text": [
      "extracting tarball to tmp_2210.04228..."
     ]
    },
    {
     "name": "stdout",
     "output_type": "stream",
     "text": [
      " done.\n",
      "Retrieving document from  https://arxiv.org/e-print/2210.04241\n"
     ]
    },
    {
     "name": "stdout",
     "output_type": "stream",
     "text": [
      "extracting tarball to tmp_2210.04241..."
     ]
    },
    {
     "name": "stdout",
     "output_type": "stream",
     "text": [
      " done.\n",
      "Retrieving document from  https://arxiv.org/e-print/2210.04316\n"
     ]
    },
    {
     "name": "stderr",
     "output_type": "stream",
     "text": [
      "/tmp/ipykernel_2437/4030337529.py:34: LatexWarning: 2210.04316 did not run properly\n",
      "not a gzip file\n",
      "  warnings.warn(latex.LatexWarning(f\"{paper_id:s} did not run properly\\n\" +\n"
     ]
    },
    {
     "name": "stdout",
     "output_type": "stream",
     "text": [
      "Retrieving document from  https://arxiv.org/e-print/2210.04344\n"
     ]
    },
    {
     "name": "stdout",
     "output_type": "stream",
     "text": [
      "extracting tarball to tmp_2210.04344..."
     ]
    },
    {
     "name": "stdout",
     "output_type": "stream",
     "text": [
      " done.\n",
      "Retrieving document from  https://arxiv.org/e-print/2210.04401\n"
     ]
    },
    {
     "name": "stderr",
     "output_type": "stream",
     "text": [
      "/opt/hostedtoolcache/Python/3.9.14/x64/lib/python3.9/site-packages/IPython/core/interactiveshell.py:3378: LatexWarning: Multiple tex files.\n",
      "\n",
      "  exec(code_obj, self.user_global_ns, self.user_ns)\n",
      "/opt/hostedtoolcache/Python/3.9.14/x64/lib/python3.9/site-packages/IPython/core/interactiveshell.py:3378: LatexWarning: Found documentclass in tmp_2210.04344/mnras_guide.tex\n",
      "\n",
      "  exec(code_obj, self.user_global_ns, self.user_ns)\n"
     ]
    },
    {
     "name": "stdout",
     "output_type": "stream",
     "text": [
      "extracting tarball to tmp_2210.04401..."
     ]
    },
    {
     "name": "stdout",
     "output_type": "stream",
     "text": [
      " done.\n",
      "Retrieving document from  https://arxiv.org/e-print/2210.04416\n"
     ]
    },
    {
     "name": "stdout",
     "output_type": "stream",
     "text": [
      "extracting tarball to tmp_2210.04416..."
     ]
    },
    {
     "name": "stdout",
     "output_type": "stream",
     "text": [
      " done.\n",
      "Retrieving document from  https://arxiv.org/e-print/2210.04437\n"
     ]
    },
    {
     "name": "stdout",
     "output_type": "stream",
     "text": [
      "extracting tarball to tmp_2210.04437..."
     ]
    },
    {
     "name": "stdout",
     "output_type": "stream",
     "text": [
      " done.\n",
      "Retrieving document from  https://arxiv.org/e-print/2210.04460\n"
     ]
    },
    {
     "name": "stdout",
     "output_type": "stream",
     "text": [
      "extracting tarball to tmp_2210.04460..."
     ]
    },
    {
     "name": "stdout",
     "output_type": "stream",
     "text": [
      " done.\n",
      "Retrieving document from  https://arxiv.org/e-print/2210.04461\n"
     ]
    },
    {
     "name": "stdout",
     "output_type": "stream",
     "text": [
      "extracting tarball to tmp_2210.04461..."
     ]
    },
    {
     "name": "stdout",
     "output_type": "stream",
     "text": [
      " done.\n",
      "Retrieving document from  https://arxiv.org/e-print/2210.04495\n"
     ]
    },
    {
     "name": "stdout",
     "output_type": "stream",
     "text": [
      "extracting tarball to tmp_2210.04495..."
     ]
    },
    {
     "name": "stdout",
     "output_type": "stream",
     "text": [
      " done.\n",
      "Retrieving document from  https://arxiv.org/e-print/2210.04499\n"
     ]
    },
    {
     "name": "stderr",
     "output_type": "stream",
     "text": [
      "/opt/hostedtoolcache/Python/3.9.14/x64/lib/python3.9/site-packages/IPython/core/interactiveshell.py:3378: LatexWarning: Multiple tex files.\n",
      "\n",
      "  exec(code_obj, self.user_global_ns, self.user_ns)\n",
      "/opt/hostedtoolcache/Python/3.9.14/x64/lib/python3.9/site-packages/IPython/core/interactiveshell.py:3378: LatexWarning: Found documentclass in tmp_2210.04495/macro_IAUS370.tex\n",
      "\n",
      "  exec(code_obj, self.user_global_ns, self.user_ns)\n"
     ]
    },
    {
     "name": "stdout",
     "output_type": "stream",
     "text": [
      "extracting tarball to tmp_2210.04499..."
     ]
    },
    {
     "name": "stdout",
     "output_type": "stream",
     "text": [
      " done.\n",
      "Retrieving document from  https://arxiv.org/e-print/2210.04647\n"
     ]
    },
    {
     "name": "stderr",
     "output_type": "stream",
     "text": [
      "/opt/hostedtoolcache/Python/3.9.14/x64/lib/python3.9/site-packages/IPython/core/interactiveshell.py:3378: LatexWarning: Multiple tex files.\n",
      "\n",
      "  exec(code_obj, self.user_global_ns, self.user_ns)\n",
      "/opt/hostedtoolcache/Python/3.9.14/x64/lib/python3.9/site-packages/IPython/core/interactiveshell.py:3378: LatexWarning: Found documentclass in tmp_2210.04499/main.tex\n",
      "\n",
      "  exec(code_obj, self.user_global_ns, self.user_ns)\n"
     ]
    },
    {
     "name": "stdout",
     "output_type": "stream",
     "text": [
      "extracting tarball to tmp_2210.04647..."
     ]
    },
    {
     "name": "stdout",
     "output_type": "stream",
     "text": [
      " done.\n",
      "Retrieving document from  https://arxiv.org/e-print/2210.04651\n"
     ]
    },
    {
     "name": "stdout",
     "output_type": "stream",
     "text": [
      "extracting tarball to tmp_2210.04651..."
     ]
    },
    {
     "name": "stdout",
     "output_type": "stream",
     "text": [
      " done.\n",
      "Retrieving document from  https://arxiv.org/e-print/2210.04658\n"
     ]
    },
    {
     "name": "stdout",
     "output_type": "stream",
     "text": [
      "extracting tarball to tmp_2210.04658..."
     ]
    },
    {
     "name": "stdout",
     "output_type": "stream",
     "text": [
      " done.\n",
      "Retrieving document from  https://arxiv.org/e-print/2210.04666\n"
     ]
    },
    {
     "name": "stderr",
     "output_type": "stream",
     "text": [
      "/opt/hostedtoolcache/Python/3.9.14/x64/lib/python3.9/site-packages/IPython/core/interactiveshell.py:3378: LatexWarning: Multiple tex files.\n",
      "\n",
      "  exec(code_obj, self.user_global_ns, self.user_ns)\n",
      "/opt/hostedtoolcache/Python/3.9.14/x64/lib/python3.9/site-packages/IPython/core/interactiveshell.py:3378: LatexWarning: Found documentclass in tmp_2210.04658/astroph_RAFGL5085.tex\n",
      "\n",
      "  exec(code_obj, self.user_global_ns, self.user_ns)\n"
     ]
    },
    {
     "name": "stdout",
     "output_type": "stream",
     "text": [
      "extracting tarball to tmp_2210.04666..."
     ]
    },
    {
     "name": "stdout",
     "output_type": "stream",
     "text": [
      " done.\n",
      "Retrieving document from  https://arxiv.org/e-print/2210.04685\n"
     ]
    },
    {
     "name": "stdout",
     "output_type": "stream",
     "text": [
      "extracting tarball to tmp_2210.04685..."
     ]
    },
    {
     "name": "stdout",
     "output_type": "stream",
     "text": [
      " done.\n",
      "Retrieving document from  https://arxiv.org/e-print/2210.04721\n"
     ]
    },
    {
     "name": "stdout",
     "output_type": "stream",
     "text": [
      "extracting tarball to tmp_2210.04721..."
     ]
    },
    {
     "name": "stdout",
     "output_type": "stream",
     "text": [
      " done.\n"
     ]
    },
    {
     "name": "stdout",
     "output_type": "stream",
     "text": [
      "Retrieving document from  https://arxiv.org/e-print/2210.04785\n"
     ]
    },
    {
     "name": "stdout",
     "output_type": "stream",
     "text": [
      "extracting tarball to tmp_2210.04785... done.\n",
      "Retrieving document from  https://arxiv.org/e-print/2210.04786\n"
     ]
    },
    {
     "name": "stdout",
     "output_type": "stream",
     "text": [
      "extracting tarball to tmp_2210.04786..."
     ]
    },
    {
     "name": "stdout",
     "output_type": "stream",
     "text": [
      " done.\n"
     ]
    }
   ],
   "source": [
    "documents = []\n",
    "failed = []\n",
    "for paper in tqdm(candidates[:-1]):\n",
    "    paper_id = paper['identifier'].lower().replace('arxiv:', '')\n",
    "    \n",
    "    folder = f'tmp_{paper_id}'\n",
    "\n",
    "    try:\n",
    "        if not os.path.isdir(folder):\n",
    "            folder = retrieve_document_source(f\"{paper_id}\", f'tmp_{paper_id}')\n",
    "        \n",
    "        try:\n",
    "            doc = latex.LatexDocument(folder, validation=validation)    \n",
    "        except AffiliationError as affilerror:\n",
    "            msg = f\"ArXiv:{paper_id:s} is not an MPIA paper... \" + str(affilerror)\n",
    "            failed.append((paper, \"affiliation error: \" + str(affilerror) ))\n",
    "            continue\n",
    "        \n",
    "        # Hack because sometimes author parsing does not work well\n",
    "        if (len(doc.authors) != len(paper['authors'])):\n",
    "            doc._authors = paper['authors']\n",
    "        if (doc.abstract) in (None, ''):\n",
    "            doc._abstract = paper['abstract']\n",
    "            \n",
    "        doc.comment = (get_markdown_badge(paper_id) + \n",
    "                       \"<mark>Appeared on: \" + paper['date'] + \"</mark> - \" +\n",
    "                       \"_\" + paper['comments'] + \"_\")\n",
    "        doc.highlight_authors_in_list(hl_list)\n",
    "\n",
    "        full_md = doc.generate_markdown_text()\n",
    "        \n",
    "        documents.append((paper_id, full_md))\n",
    "    except Exception as e:\n",
    "        warnings.warn(latex.LatexWarning(f\"{paper_id:s} did not run properly\\n\" +\n",
    "                                         str(e)\n",
    "                                        ))\n",
    "        failed.append((paper, \"latex error \" + str(e)))"
   ]
  },
  {
   "cell_type": "markdown",
   "id": "2505a25c",
   "metadata": {
    "papermill": {
     "duration": 0.008789,
     "end_time": "2022-10-11T05:15:32.391535",
     "exception": false,
     "start_time": "2022-10-11T05:15:32.382746",
     "status": "completed"
    },
    "tags": []
   },
   "source": [
    "### Export the logs\n",
    "\n",
    "Throughout, we also keep track of the logs per paper. see `logs-{today date}.md` "
   ]
  },
  {
   "cell_type": "code",
   "execution_count": 6,
   "id": "d733828a",
   "metadata": {
    "execution": {
     "iopub.execute_input": "2022-10-11T05:15:32.411247Z",
     "iopub.status.busy": "2022-10-11T05:15:32.410391Z",
     "iopub.status.idle": "2022-10-11T05:15:32.474284Z",
     "shell.execute_reply": "2022-10-11T05:15:32.473683Z"
    },
    "papermill": {
     "duration": 0.077121,
     "end_time": "2022-10-11T05:15:32.477441",
     "exception": false,
     "start_time": "2022-10-11T05:15:32.400320",
     "status": "completed"
    },
    "scrolled": false,
    "tags": []
   },
   "outputs": [
    {
     "data": {
      "text/markdown": [
       "## Successful papers"
      ],
      "text/plain": [
       "<IPython.core.display.Markdown object>"
      ]
     },
     "metadata": {},
     "output_type": "display_data"
    },
    {
     "data": {
      "text/markdown": [
       "\n",
       "|||\n",
       "|---:|:---|\n",
       "| [![arXiv](https://img.shields.io/badge/arXiv-arXiv:2210.04721-b31b1b.svg)](https://arxiv.org/abs/arXiv:2210.04721) | **The Gaia-ESO Survey: Lithium measurements and new curves of growth**  |\n",
       "|| E. Franciosini, et al. -- incl., <mark>K. Lind</mark>, <mark>G. Guiglion</mark>, <mark>E.J. Alfaro</mark>, <mark>M. Bergemann</mark>, <mark>U. Heiter</mark>, <mark>J. Lewis</mark> |\n",
       "|*Appeared on*| *2022-10-11*|\n",
       "|*Comments*| *15 pages, 15 figures. Accepted by Astronomy & Astrophysics*|\n",
       "|**Abstract**| The Gaia-ESO Survey (GES) is a large public spectroscopic survey that was carried out using the multi-object FLAMES spectrograph at the Very Large Telescope. The survey provides accurate radial velocities, stellar parameters, and elemental abundances for ~115,000 stars in all Milky Way components. In this paper we describe the method adopted in the final data release to derive lithium equivalent widths (EWs) and abundances. Lithium EWs were measured using two different approaches for FGK and M-type stars, to account for the intrinsic differences in the spectra. For FGK stars, we fitted the lithium line using Gaussian components, while direct integration over a predefined interval was adopted for M-type stars. Care was taken to ensure continuity between the two regimes. Abundances were derived using a new set of homogeneous curves of growth that were derived specifically for GES, and which were measured on a synthetic spectral grid consistently with the way the EWs were measured. The derived abundances were validated by comparison with those measured by other analysis groups using different methods. Lithium EWs were measured for ~40,000 stars, and abundances could be derived for ~38,000 of them. The vast majority of the measures (80%) have been obtained for stars in open cluster fields. The remaining objects are stars in globular clusters, or field stars in the Milky Way disc, bulge, and halo. The GES dataset of homogeneous lithium abundances described here will be valuable for our understanding of several processes, from stellar evolution and internal mixing in stars at different evolutionary stages to Galactic evolution. |"
      ],
      "text/plain": [
       "[arXiv:2210.04721] The Gaia-ESO Survey: Lithium measurements and new curves of growth\n",
       "\tE. Franciosini, et al. -- incl., <mark>K. Lind</mark>, <mark>G. Guiglion</mark>, <mark>E.J. Alfaro</mark>, <mark>M. Bergemann</mark>, <mark>U. Heiter</mark>, <mark>J. Lewis</mark>"
      ]
     },
     "metadata": {},
     "output_type": "display_data"
    },
    {
     "data": {
      "text/markdown": [
       "## Failed papers"
      ],
      "text/plain": [
       "<IPython.core.display.Markdown object>"
      ]
     },
     "metadata": {},
     "output_type": "display_data"
    },
    {
     "data": {
      "text/markdown": [
       "\n",
       "|||\n",
       "|---:|:---|\n",
       "| [![arXiv](https://img.shields.io/badge/arXiv-arXiv:2210.03755-b31b1b.svg)](https://arxiv.org/abs/arXiv:2210.03755) | **The metallicity's fundamental dependence on both local and global  galactic quantities**  |\n",
       "|| William M. Baker, et al. -- incl., <mark>Lihwai Lin</mark>, <mark>Mallory Thorp</mark> |\n",
       "|*Appeared on*| *2022-10-11*|\n",
       "|*Comments*| *22 pages, resubmitted to MNRAS following first referee report*|\n",
       "|**Abstract**| We study the scaling relations between gas-phase metallicity, stellar mass surface density ($\\Sigma _*$), star formation rate surface density ($\\Sigma _{SFR}$), and molecular gas surface density ($\\Sigma_{H_2}$) in local star-forming galaxies on scales of a kpc. We employ optical integral field spectroscopy from the MaNGA survey, and ALMA data for a subset of MaNGA galaxies. We use Partial Correlation Coefficients and Random Forest regression to determine the relative importance of local and global galactic properties in setting the gas-phase metallicity. We find that the local metallicity depends primarily on $\\Sigma _*$ (the resolved mass-metallicity relation, rMZR), and has a secondary anti-correlation with $\\Sigma _{SFR}$ (i.e. a spatially-resolved version of the `Fundamental Metallicity Relation', rFMR). We find that $\\Sigma_{H_2}$ has little effect in determining the local metallicity. This result indicates that gas accretion, resulting in local metallicity dilution and local boosting of star formation, cannot be the primary origin of the rFMR. Star-formation driven, metal-loaded winds may contribute to the anti-correlation between metallicity and SFR. The local metallicity depends also on the global properties of galaxies. We find a strong dependence on the total stellar mass ($M_*$) and a weaker (inverse) dependence on the total SFR. The global metallicity scaling relations, therefore, do not simply stem out of their resolved counterparts; global properties and processes, such as the global gravitational potential well, galaxy-scale winds and global redistribution/mixing of metals, likely contribute to the local metallicity, in addition to local production and retention. |\n",
       "|<p style=\"color:green\"> **ERROR** </p>| <p style=\"color:green\">affiliation error: mpia.affiliation_verifications: '69117' keyword not found.</p> |"
      ],
      "text/plain": [
       "<IPython.core.display.Markdown object>"
      ]
     },
     "metadata": {},
     "output_type": "display_data"
    },
    {
     "data": {
      "text/markdown": [
       "\n",
       "|||\n",
       "|---:|:---|\n",
       "| [![arXiv](https://img.shields.io/badge/arXiv-arXiv:2210.04685-b31b1b.svg)](https://arxiv.org/abs/arXiv:2210.04685) | **The Nearest Neutron Star Candidate in a Binary Revealed by Optical  Time-domain Surveys**  |\n",
       "|| <mark>Ling-Lin Zheng</mark>, et al. -- incl., <mark>Zhi-Xiang Zhang</mark>, <mark>Jia Zhang</mark>, <mark>Chun-Qian Li</mark>, <mark>Xiang-Dong Li</mark>, <mark>Zhongrui Bai</mark>, <mark>Haotong Zhang</mark>, <mark>Jifeng Liu</mark> |\n",
       "|*Appeared on*| *2022-10-11*|\n",
       "|*Comments*| *35 pages, 8 figures, to be submitted*|\n",
       "|**Abstract**| Recent studies have revealed the global deposition on Earth of radioactive elements (e.g., $^{60}$Fe) resulting from the metal-enriched ejecta of nearby (within $\\sim 100$ pc) supernova explosions. The majority of neutron stars in our Solar neighborhood remain to be discovered. Here we report the discovery of the nearest ($127.7 \\pm 0.3$ pc) neutron star candidate in the single-lined spectroscopic binary LAMOST J235456.76+335625.7 (hereafter J2354). Utilizing the multi-epoch spectra and high-cadence periodic light curves, we measure the mass of the visible star ($M_{\\rm vis}=0.70\\pm 0.05\\ M_{\\odot}$) and determine the mass function of the invisible object $f(M)=0.525 \\pm 0.004\\ M_{\\odot}$, i.e., the mass of the unseen compact object is $M_{\\rm inv} \\geq 1.26 \\pm 0.03\\ M_{\\odot}$. The excess UV emission due to a hot supramassive white dwarf is absent. Hence, it is likely that J2354 harbors a neutron star. J2354 is X-ray dim (the $0.1$--$2.4$ keV luminosity $<10^{30}\\ {\\rm erg\\ s^{-1}}$) since it is not detected in the ROSAT all-sky surveys in X-ray. One-hour exceptionally sensitive radio follow-up observations with FAST, the largest single-dish radio telescope, failed to reveal any radio pulsating signals (the potential pulse power at $1.4$ GHz is $<6.8\\times 10^{23}\\ {\\rm erg\\ s^{-1}}$). Hence, the neutron star candidate in J2354 can only be discovered via our time-resolved observations. The alternative scenario involving a nearby supramassive cold white dwarf cannot be fully excluded. Our discovery demonstrates a promising way to unveil the missing population of backyard inactive neutron stars or supramassive cold white dwarfs in binaries by exploring the optical time domain, thereby facilitating understanding of the supernovae explosion and metal-enrichment history in our Solar neighborhood. |\n",
       "|<p style=\"color:green\"> **ERROR** </p>| <p style=\"color:green\">affiliation error: mpia.affiliation_verifications: '69117' keyword not found.</p> |"
      ],
      "text/plain": [
       "<IPython.core.display.Markdown object>"
      ]
     },
     "metadata": {},
     "output_type": "display_data"
    },
    {
     "data": {
      "text/markdown": [
       "\n",
       "|||\n",
       "|---:|:---|\n",
       "| [![arXiv](https://img.shields.io/badge/arXiv-arXiv:2210.03748-b31b1b.svg)](https://arxiv.org/abs/arXiv:2210.03748) | **The Quenched Satellite Population Around Milky Way Analogs**  |\n",
       "|| Ananthan Karunakaran, et al. -- incl., <mark>Dennis Zaritsky</mark> |\n",
       "|*Appeared on*| *2022-10-11*|\n",
       "|*Comments*| *13 pages, 7 figures, 1 table, 1 appendix with 2 additional figures. Main results in Figure 3-6. Submitted to MNRAS and comments welcome!*|\n",
       "|**Abstract**| We study the relative fractions of quenched and star-forming satellite galaxies in the Satellites Around Galactic Analogs (SAGA) survey and Exploration of Local VolumE Satellites (ELVES) program, two nearby and complementary samples of Milky Way-like galaxies that take different approaches to identify faint satellite galaxy populations. We cross-check and validate sample cuts and selection criteria, as well as explore the effects of different star-formation definitions when determining the quenched satellite fraction of Milky Way analogs. We find the mean ELVES quenched fraction ($\\langle QF\\rangle$), derived using a specific star formation rate (sSFR) threshold, decreases from $\\sim$50% to $\\sim$27% after applying a cut in absolute magnitude to match that of the SAGA survey ($\\langle QF\\rangle_{SAGA}\\sim$9%). We show these results are consistent for alternative star-formation definitions. Furthermore, these quenched fractions remain virtually unchanged after applying an additional cut in surface brightness. Using a consistently-derived sSFR and absolute magnitude limit for both samples, we show that the quenched fraction and the cumulative number of satellites in the ELVES and SAGA samples broadly agree. We briefly explore radial trends in the ELVES and SAGA samples, finding general agreement in the number of star-forming satellites per host as a function of radius. Despite the broad agreement between the ELVES and SAGA samples, some tension remains with these quenched fractions in comparison to the Local Group and simulations of Milky Way analogs. |\n",
       "|<p style=\"color:green\"> **ERROR** </p>| <p style=\"color:green\">affiliation error: mpia.affiliation_verifications: 'Heidelberg' keyword not found.</p> |"
      ],
      "text/plain": [
       "<IPython.core.display.Markdown object>"
      ]
     },
     "metadata": {},
     "output_type": "display_data"
    },
    {
     "data": {
      "text/markdown": [
       "\n",
       "|||\n",
       "|---:|:---|\n",
       "| [![arXiv](https://img.shields.io/badge/arXiv-arXiv:2210.03754-b31b1b.svg)](https://arxiv.org/abs/arXiv:2210.03754) | **To See or Not to See a $z\\sim13$ Galaxy? That is the Question**  |\n",
       "|| Melanie Kaasinen, et al. -- incl., <mark>Ivanna Langan</mark> |\n",
       "|*Appeared on*| *2022-10-11*|\n",
       "|*Comments*| *Submitted to A&A, 9 pages, 6 figures,*|\n",
       "|**Abstract**| ``When did the first galaxies form?'' is still one of the greatest unanswered questions in astronomy. Theory and current stellar population models imply that the first galaxies formed at least at z=14-15. Yet, the highest redshift galaxy to have been securely confirmed remains GN-z11, at z$\\sim$11. The galaxy ``HD1'' was recently proposed to be a z=13.27 galaxy based on its potential Lyman break and tentative [O III] 88 {\\mu}m detection with ALMA. We hereby aim to test this scenario with new ALMA Band 4, DDT observations of what would be the [C II] 158 {\\mu}m emission, if HD1 is at z$\\sim$13.27. We carefully analyse the new ALMA Band 4 observations as well as re-analysing the existing ALMA Band 6 data on the source to determine the proposed redshift. We find a tentative $4\\sigma$ feature in the Band 4 data that is spatially offset by 1.7\" and spectrally offset by 190 km s-1 from the previously-reported $3.8\\sigma$ ``[O III] 88 {\\mu}m'' feature. Through various statistical tests, we demonstrate that these tentative features are fully consistent with being random noise features. The chances of finding a noise peak of the same significance as the tentative [C II] and [O III] features are 50\\% and 100\\%, respectively. Given the noise properties of the ALMA data, we recover at least a 50\\% chance of finding two, matched $\\geq3.8\\sigma$ noise peaks that are spatially and spectrally offset by $\\leq$10 kpc and 1000 km s-1. We conclude that we are more likely to be recovering noise features than both [O III] and [C II] emission from a source at $z\\sim 13.27$. Although we find no evidence of a $z\\sim 13.27$ galaxy, we cannot entirely rule out this scenario. Non-detections are also possible for a $z\\sim 13$ source with a low interstellar gas-phase metallicity and density. Determining where and exactly what type of galaxy HD1 is, will now likely require JWST/NIRSpec spectroscopy. |\n",
       "|<p style=\"color:green\"> **ERROR** </p>| <p style=\"color:green\">affiliation error: mpia.affiliation_verifications: 'Heidelberg' keyword not found.</p> |"
      ],
      "text/plain": [
       "<IPython.core.display.Markdown object>"
      ]
     },
     "metadata": {},
     "output_type": "display_data"
    },
    {
     "data": {
      "text/markdown": [
       "\n",
       "|||\n",
       "|---:|:---|\n",
       "| [![arXiv](https://img.shields.io/badge/arXiv-arXiv:2210.03769-b31b1b.svg)](https://arxiv.org/abs/arXiv:2210.03769) | **The PI Launchpad: Expanding the base of potential Principal  Investigators across space sciences**  |\n",
       "|| Erika Hamden, et al. -- incl., <mark>Michael Liemohn</mark> |\n",
       "|*Appeared on*| *2022-10-11*|\n",
       "|*Comments*| *7 Pages, 2 Figure, Accepted to Frontiers*|\n",
       "|**Abstract**| The PI Launchpad attempts to provide an entry level explanation of the process of space mission development for new Principal Investigators (PIs). In particular, PI launchpad has a focus on building teams, making partnerships, and science concept maturity for a space mission concept, not necessarily technical or engineering practices. Here we briefly summarize the goals of the PI Launchpad workshops and present some results from the workshops held in 2019 and 2021. The workshop attempts to describe the current process of space mission development (i.e. space-based telescopes and instrument platforms, planetary missions of all types, etc.), covering a wide range of topics that a new PI may need to successfully develop a team and write a proposal. It is not designed to replace real experience but to provide an easily accessible resource for potential PIs who seek to learn more about what it takes to submit a space mission proposal, and what the first steps to take can be. The PI Launchpad was created in response to the high barrier to entry for early career or any scientist who is unfamiliar with mission design. These barriers have been outlined in several recent papers and reports, and are called out in recent space science Decadal reports. |\n",
       "|<p style=\"color:green\"> **ERROR** </p>| <p style=\"color:green\">affiliation error: mpia.affiliation_verifications: 'Heidelberg' keyword not found.</p> |"
      ],
      "text/plain": [
       "<IPython.core.display.Markdown object>"
      ]
     },
     "metadata": {},
     "output_type": "display_data"
    },
    {
     "data": {
      "text/markdown": [
       "\n",
       "|||\n",
       "|---:|:---|\n",
       "| [![arXiv](https://img.shields.io/badge/arXiv-arXiv:2210.03770-b31b1b.svg)](https://arxiv.org/abs/arXiv:2210.03770) | **First results of the glitching pulsars monitoring program at the  Argentine Institute of Radioastronomy**  |\n",
       "|| Ezequiel Zubieta, et al. -- incl., <mark>Linwei Wang</mark> |\n",
       "|*Appeared on*| *2022-10-11*|\n",
       "|*Comments*| *13 pages, 13 figures, 13 tables*|\n",
       "|**Abstract**| We report here on the first results of a systematic monitoring of southern glitching pulsars at the Argentine Institute of Radio astronomy started on the year 2019. We detected a major glitch in the Vela pulsar (PSR J0835$-$4510) and two mini-glitches in PSR J1048$-$5832. For each glitch, we present the measurement of glitch parameters by fitting timing residuals. We then make an individual pulses study of Vela in observations previous and after the glitch. We selected 6 days of observations around the major glitch on July 22nd 2021 and study their statistical properties with machine learning techniques. We use Variational AutoEncoder (VAE) reconstruction of the pulses to separate them clearly from the noise. We perform a study with Self-Organizing Maps (SOM) clustering techniques and find an unusual behavior of the clusters two days prior to the glitch. This behavior is only visible in the the higher amplitude pulse clusters and if intrinsic to the pulsar could be interpreted as a precursor of the glitch. |\n",
       "|<p style=\"color:green\"> **ERROR** </p>| <p style=\"color:green\">affiliation error: mpia.affiliation_verifications: 'Heidelberg' keyword not found.</p> |"
      ],
      "text/plain": [
       "<IPython.core.display.Markdown object>"
      ]
     },
     "metadata": {},
     "output_type": "display_data"
    },
    {
     "data": {
      "text/markdown": [
       "\n",
       "|||\n",
       "|---:|:---|\n",
       "| [![arXiv](https://img.shields.io/badge/arXiv-arXiv:2210.03771-b31b1b.svg)](https://arxiv.org/abs/arXiv:2210.03771) | **Gamma-hadron Separation in Imaging Atmospheric Cherenkov Telescopes  using Quantum Classifiers**  |\n",
       "|| Jashwanth S, et al. -- incl., <mark>Sudeep Ghosh</mark> |\n",
       "|*Appeared on*| *2022-10-11*|\n",
       "|*Comments*| *24 pages with 6 figures*|\n",
       "|**Abstract**| In this paper we have introduced a novel method for gamma hadron separation in Imaging Atmospheric Cherenkov Telescopes (IACT) using Quantum Machine Learning. IACTs captures images of Extensive Air Showers (EAS) produced from very high energy gamma rays. We have used the QML Algorithms, Quantum Support Vector Classifier (QSVC) and Variational Quantum Classifier (VQC) for binary classification of the events into signals (Gamma) and background(hadron) using the image parameters. MAGIC Gamma Telescope dataset is used for this study which was generated from Monte Carlo Software Coriska. These quantum algorithms achieve performance comparable to standard multivariate classification techniques and can be used to solve variety of real-world problems. The classification accuracy is improved by hyper parameter tuning. We propose a new architecture for using QSVC efficiently on large datasets and found that clustering enhance the overall performance. |\n",
       "|<p style=\"color:green\"> **ERROR** </p>| <p style=\"color:green\">affiliation error: mpia.affiliation_verifications: 'Heidelberg' keyword not found.</p> |"
      ],
      "text/plain": [
       "<IPython.core.display.Markdown object>"
      ]
     },
     "metadata": {},
     "output_type": "display_data"
    },
    {
     "data": {
      "text/markdown": [
       "\n",
       "|||\n",
       "|---:|:---|\n",
       "| [![arXiv](https://img.shields.io/badge/arXiv-arXiv:2210.03823-b31b1b.svg)](https://arxiv.org/abs/arXiv:2210.03823) | **Three-sided pyramid wavefront sensor. II. Preliminary demonstration on  the new CACTI testbed**  |\n",
       "|| Lauren Schatz, et al. -- incl., <mark>Joseph D. Long</mark> |\n",
       "|*Appeared on*| *2022-10-11*|\n",
       "|*Comments*| *28 Pages, 15 Figures, and 4 Tables*|\n",
       "|**Abstract**| The next generation of giant ground and space telescopes will have the light-collecting power to detect and characterize potentially habitable terrestrial exoplanets using high-contrast imaging for the first time. This will only be achievable if the performance of Giant Segmented Mirror Telescopes (GSMTs) extreme adaptive optics (ExAO) systems are optimized to their full potential. A key component of an ExAO system is the wavefront sensor (WFS), which measures aberrations from atmospheric turbulence. A common choice in current and next-generation instruments is the pyramid wavefront sensor (PWFS). ExAO systems require high spatial and temporal sampling of wavefronts to optimize performance, and as a result, require large detectors for the WFS. We present a closed-loop testbed demonstration of a three-sided pyramid wavefront sensor (3PWFS) as an alternative to the conventional four-sided pyramid wavefront (4PWFS) sensor for GSMT-ExAO applications on the new Comprehensive Adaptive Optics and Coronagraph Test Instrument (CACTI). The 3PWFS is less sensitive to read noise than the 4PWFS because it uses fewer detector pixels. The 3PWFS has further benefits: a high-quality three-sided pyramid optic is easier to manufacture than a four-sided pyramid. We detail the design of the two components of the CACTI system, the adaptive optics simulator and the PWFS testbed that includes both a 3PWFS and 4PWFS. A preliminary experiment was performed on CACTI to study the performance of the 3PWFS to the 4PWFS in varying strengths of turbulence using both the Raw Intensity and Slopes Map signal processing methods. This experiment was repeated for a modulation radius of 1.6 lambda/D and 3.25 lambda/D. We found that the performance of the two wavefront sensors is comparable if modal loop gains are tuned. |\n",
       "|<p style=\"color:green\"> **ERROR** </p>| <p style=\"color:green\">affiliation error: mpia.affiliation_verifications: 'Heidelberg' keyword not found.</p> |"
      ],
      "text/plain": [
       "<IPython.core.display.Markdown object>"
      ]
     },
     "metadata": {},
     "output_type": "display_data"
    },
    {
     "data": {
      "text/markdown": [
       "\n",
       "|||\n",
       "|---:|:---|\n",
       "| [![arXiv](https://img.shields.io/badge/arXiv-arXiv:2210.03827-b31b1b.svg)](https://arxiv.org/abs/arXiv:2210.03827) | **Formation of c-C6H5CN ice using the SPACE TIGER experimental setup**  |\n",
       "|| Palo Maksyutenko, et al. -- incl., <mark>Mahesh Rajappan</mark> |\n",
       "|*Appeared on*| *2022-10-11*|\n",
       "|*Comments*| **|\n",
       "|**Abstract**| Benzonitrile (c-C6H5CN) has been recently detected in cold and dense regions of the interstellar medium (ISM), where it has been used as a signpost of a rich aromatic organic chemistry that might lead to the production of polycyclic aromatic hydrocarbons (PAHs). One possible origin of this benzonitrile is interstellar ice chemistry involving benzene (c-C6H6) and nitrile molecules (organic molecules containing the -CN group). We have addressed the plausibility of this c-C6H5CN formation pathway through laboratory experiments using our new setup SPACE TIGER. The SPACE TIGER experimental setup is designed to explore the physics and chemistry of interstellar ice mantles using laser-based ice processing and product detection methods. We have found that c-C6H5CN is formed upon irradiation of c-C6H6$:CH3CN binary ice mixtures with 2 keV electrons and Lyman-alpha photons at low temperatures (4-10 K). Formation of c-C6H5CN was also observed when c-C6H6 and CH3CN were embedded in a CO ice matrix, but it was efficiently quenched in a H2O ice matrix. The results presented in this work imply that interstellar ice chemistry involving benzene and nitrile molecules could contribute to the formation of the observed benzonitrile only if these species are present on top of the ice mantles or embedded in the CO-rich ice layer, instead of being mixed into the H2O-rich ice layer. |\n",
       "|<p style=\"color:green\"> **ERROR** </p>| <p style=\"color:green\">affiliation error: mpia.affiliation_verifications: 'Heidelberg' keyword not found.</p> |"
      ],
      "text/plain": [
       "<IPython.core.display.Markdown object>"
      ]
     },
     "metadata": {},
     "output_type": "display_data"
    },
    {
     "data": {
      "text/markdown": [
       "\n",
       "|||\n",
       "|---:|:---|\n",
       "| [![arXiv](https://img.shields.io/badge/arXiv-arXiv:2210.03845-b31b1b.svg)](https://arxiv.org/abs/arXiv:2210.03845) | **Born this way: thin disc, thick disc, and isotropic spheroid formation  in FIRE-2 Milky-Way-mass galaxy simulations**  |\n",
       "|| Sijie Yu, et al. -- incl., <mark>Andrew Wetzel</mark> |\n",
       "|*Appeared on*| *2022-10-11*|\n",
       "|*Comments*| *16 pages, 10 figures, submitted to MNRAS*|\n",
       "|**Abstract**| We investigate the formation of Milky-Way-mass galaxies using FIRE-2 LCDM cosmological zoom-in simulations by studying the orbital evolution of stars formed in the main progenitor of the galaxy, from birth to the present day. We classify in situ stars as isotropic spheroid, thick-disc, and thin-disc according to their orbital circularities and show that these components are assembled in a time-ordered sequence from early to late times, respectively. All simulated galaxies experience an early phase of bursty star formation that transitions to a late-time steady phase. This transition coincides with the time that the inner CGM virializes. During the early bursty phase, galaxies have irregular morphologies and new stars are born on radial orbits; these stars evolve into an isotropic spheroidal population today. The bulk of thick-disc stars form at intermediate times, during a clumpy-disc ``spin-up'' phase, slightly later than the peak of spheroid formation. At late times, once the CGM virializes and star formation ``cools down,\" stars are born on circular orbits within a narrow plane. Those stars mostly inhabit thin discs today. Broadly speaking, stars with disc-like or spheroid-like orbits today were born that way. Mergers onto discs and secular processes do affect kinematics in our simulations, but play only secondary roles in populating thick-disc and in situ spheroid populations at z=0. The age distributions of spheroid, thick disc, and thin disc populations scale self-similarly with the steady-phase transition time, which suggests that morphological age dating can be linked to the CGM virialization time in galaxies. |\n",
       "|<p style=\"color:green\"> **ERROR** </p>| <p style=\"color:green\">affiliation error: mpia.affiliation_verifications: 'Heidelberg' keyword not found.</p> |"
      ],
      "text/plain": [
       "<IPython.core.display.Markdown object>"
      ]
     },
     "metadata": {},
     "output_type": "display_data"
    },
    {
     "data": {
      "text/markdown": [
       "\n",
       "|||\n",
       "|---:|:---|\n",
       "| [![arXiv](https://img.shields.io/badge/arXiv-arXiv:2210.03880-b31b1b.svg)](https://arxiv.org/abs/arXiv:2210.03880) | **Constraining ultralight vector dark matter with the Parkes Pulsar Timing  Array second data release**  |\n",
       "|| Yu-Mei Wu, et al. -- incl., <mark>Qing-Guo Huang</mark> |\n",
       "|*Appeared on*| *2022-10-11*|\n",
       "|*Comments*| *9 pages, 3 figures, 2 tables; accepted for publication as a Letter in Phys. Rev. D*|\n",
       "|**Abstract**| Composed of ultralight bosons, fuzzy dark matter provides an intriguing solution to challenges that the standard cold dark matter model encounters on sub-galactic scales. The ultralight dark matter with mass $m\\sim10^{-23} \\rm{eV}$ will induce a periodic oscillation in gravitational potentials with a frequency in the nanohertz band, leading to observable effects in the arrival times of radio pulses from pulsars. Unlike scalar dark matter, pulsar timing signals induced by the vector dark matter are dependent on the oscillation direction of the vector fields. In this work, we search for ultralight vector dark matter in the mass range of $[2\\times 10^{-24}, 2\\times 10^{-22}]{\\rm{eV}}$ through its gravitational effect in the Parkes Pulsar Timing Array (PPTA) second data release. Since no statistically significant detection is made, we place $95\\%$ upper limits on the local dark matter density as $\\rho_{\\rm{\\tiny{VF}}} \\lesssim 5{\\rm{GeV/cm^{3}}}$ for $m\\lesssim 10^{-23}{\\rm{eV}}$. As no preferred direction is found for the vector dark matter, these constraints are comparable to those given by the scalar dark matter search with an earlier 12-year data set of PPTA. |\n",
       "|<p style=\"color:green\"> **ERROR** </p>| <p style=\"color:green\">affiliation error: mpia.affiliation_verifications: 'Heidelberg' keyword not found.</p> |"
      ],
      "text/plain": [
       "<IPython.core.display.Markdown object>"
      ]
     },
     "metadata": {},
     "output_type": "display_data"
    },
    {
     "data": {
      "text/markdown": [
       "\n",
       "|||\n",
       "|---:|:---|\n",
       "| [![arXiv](https://img.shields.io/badge/arXiv-arXiv:2210.03897-b31b1b.svg)](https://arxiv.org/abs/arXiv:2210.03897) | **Exploring Anisotropic Lorentz Invariance Violation from the Spectral-Lag  Transitions of Gamma-Ray Bursts**  |\n",
       "|| Jin-Nan Wei, et al. -- incl., <mark>Zi-Ke Liu</mark>, <mark>Bin-Bin Zhang</mark> |\n",
       "|*Appeared on*| *2022-10-11*|\n",
       "|*Comments*| *17 pages, 2 figures, 2 tables. Published by Universe. Constribution to the Special Issue \"Advances in Astrophysics and Cosmology-in Memory of Prof. Tan Lu\"*|\n",
       "|**Abstract**| The observed spectral lags of gamma-ray bursts (GRBs) have been widely used to explore possible violations of Lorentz invariance. However, these studies were generally performed by concentrating on the rough time lag of a single highest-energy photon and ignoring the intrinsic time lag at the source. A new way to test nonbirefringent Lorentz-violating effects has been proposed by analyzing the multi-photon spectral-lag behavior of a GRB that displays a positive-to-negative transition. This method gives both a plausible description of the intrinsic energy-dependent time lag and comparatively robust constraints on Lorentz-violating effects. In this work, we conduct a systematic search for Lorentz-violating photon dispersion from the spectral-lag transition features of 32 GRBs. By fitting the spectral-lag data of these 32 GRBs, we place constraints on a variety of isotropic and anisotropic Lorentz-violating coefficients with mass dimension $d=6$ and $8$. While our dispersion constraints are not competitive with existing bounds, they have the promise to complement the full coefficient space. |\n",
       "|<p style=\"color:green\"> **ERROR** </p>| <p style=\"color:green\">affiliation error: mpia.affiliation_verifications: 'Heidelberg' keyword not found.</p> |"
      ],
      "text/plain": [
       "<IPython.core.display.Markdown object>"
      ]
     },
     "metadata": {},
     "output_type": "display_data"
    },
    {
     "data": {
      "text/markdown": [
       "\n",
       "|||\n",
       "|---:|:---|\n",
       "| [![arXiv](https://img.shields.io/badge/arXiv-arXiv:2210.03977-b31b1b.svg)](https://arxiv.org/abs/arXiv:2210.03977) | **OzDES Reverberation Mapping Program: H$β$ lags from the 6-year  survey**  |\n",
       "|| Umang Malik, et al. -- incl., <mark>C. Lidman</mark>, <mark>G. F. Lewis</mark> |\n",
       "|*Appeared on*| *2022-10-11*|\n",
       "|*Comments*| *Submitted to MNRAS*|\n",
       "|**Abstract**| Reverberation mapping measurements have been used to constrain the relationship between the size of the broad-line region and luminosity of active galactic nuclei (AGN). This $R-L$ relation is used to estimate single-epoch virial black hole masses, and has been proposed for use to standardise AGN to determine cosmological distances. We present reverberation measurements made with H$\\beta$ from the six-year Australian Dark Energy Survey (OzDES) Reverberation Mapping Program. We successfully recover reverberation lags for eight AGN at $0.12<z< 0.71$, probing higher redshifts than the bulk of H$\\beta$ measurements made to date. Our fit to the $R-L$ relation has a slope of $\\alpha=0.41\\pm0.03$ and an intrinsic scatter of $\\sigma=0.23\\pm0.02$ dex. The results from our multi-object spectroscopic survey are consistent with previous measurements made by dedicated source-by-source campaigns, and with the observed dependence on accretion rate. Future surveys, including LSST, TiDES and SDSS-V, which will be revisiting some of our observed fields, will be able to build on the results of our first-generation multi-object reverberation mapping survey. |\n",
       "|<p style=\"color:green\"> **ERROR** </p>| <p style=\"color:green\">affiliation error: mpia.affiliation_verifications: 'Heidelberg' keyword not found.</p> |"
      ],
      "text/plain": [
       "<IPython.core.display.Markdown object>"
      ]
     },
     "metadata": {},
     "output_type": "display_data"
    },
    {
     "data": {
      "text/markdown": [
       "\n",
       "|||\n",
       "|---:|:---|\n",
       "| [![arXiv](https://img.shields.io/badge/arXiv-arXiv:2210.04058-b31b1b.svg)](https://arxiv.org/abs/arXiv:2210.04058) | **Optical variability of eight FRII-type quasars with 13-yr photometric  light curves**  |\n",
       "|| Agnieszka Kuźmicz, et al. -- incl., <mark>Arti Goyal</mark> |\n",
       "|*Appeared on*| *2022-10-11*|\n",
       "|*Comments*| *Accepted for publication in ApJS; 17 pages, 5 figures, 5 tables*|\n",
       "|**Abstract**| We characterize the optical variability properties of eight lobe-dominated radio quasars (QSOs): B2 0709$+$37, FBQS J095206.3$+$235245, PG 1004$+$130, [HB89] 1156$+$631, [HB89] 1425$+$267, [HB89] 1503$+$691, [HB89] 1721$+$343, 4C $+$74.26, systematically monitored for a duration of 13 years since 2009. The quasars are radio-loud objects with extended radio lobes that indicate their orientation close to the sky plane. Five of the eight QSOs are classified as giant radio quasars. All quasars showed variability during our monitoring, with magnitude variations between 0.3 and 1 mag for the least variable and the most variable QSO, respectively. We performed both structure function (SF) analysis and power spectrum density (PSD) analysis for the variability characterization and search for characteristic timescales and periodicities. As a result of our analysis, we obtained relatively steep SF slopes ($\\alpha$ ranging from 0.49 to 0.75) that are consistent with the derived PSD slopes ($\\sim$2--3). All the PSDs show a good fit to single power law forms, indicating a red-noise character of variability between $\\sim$13 years and weeks timescales. We did not measure reliable characteristic timescales of variability from the SF analysis which indicates that the duration of the gathered data is too short to reveal them. The absence of bends in the PSDs (change of slope from $\\geq$1 to $\\sim$0) on longer timescales indicates that optical variations are most likely caused by thermal instabilities in the accretion disk. |\n",
       "|<p style=\"color:green\"> **ERROR** </p>| <p style=\"color:green\">affiliation error: mpia.affiliation_verifications: 'Heidelberg' keyword not found.</p> |"
      ],
      "text/plain": [
       "<IPython.core.display.Markdown object>"
      ]
     },
     "metadata": {},
     "output_type": "display_data"
    },
    {
     "data": {
      "text/markdown": [
       "\n",
       "|||\n",
       "|---:|:---|\n",
       "| [![arXiv](https://img.shields.io/badge/arXiv-arXiv:2210.04113-b31b1b.svg)](https://arxiv.org/abs/arXiv:2210.04113) | **Multi-species Ion Acceleration in 3D Magnetic Reconnection**  |\n",
       "|| <mark>Qile Zhang</mark>, et al. -- incl., <mark>Fan Guo</mark>, <mark>Hui Li</mark> |\n",
       "|*Appeared on*| *2022-10-11*|\n",
       "|*Comments*| *9 pages, 5 figures*|\n",
       "|**Abstract**| Magnetic reconnection drives explosive particle acceleration in a wide range of space and astrophysical applications. The energized particles often include multiple species (electrons, protons, heavy ions), but the underlying acceleration mechanism is poorly understood. In-situ observations of these minority heavy ions offer a more stringent test of acceleration mechanisms, but the multi-scale nature of reconnection hinders studies on heavy-ion acceleration. Here we employ hybrid simulations (fluid electron, kinetic ions) to capture 3D reconnection over an unprecedented range of scales. For the first time, our simulations demonstrate nonthermal acceleration of all available ion species into power-law spectra. The reconnection layers consist of fragmented kinking flux ropes as part of the reconnection-driven turbulence, which produces field-line chaos critical for accelerating all species. The upstream ion velocities influence the first Fermi reflection for injection. Then lower charge/mass species initiate Fermi acceleration at later times as they interact with growing flux ropes. The resulting spectra have similar power-law indices $(p\\sim4.5)$, but different maximum energy/nucleon $\\propto($charge/mass$)^\\alpha$, with $\\alpha\\sim0.6$ for low plasma $\\beta$, and with $p$ and $\\alpha$ increasing as $\\beta$ approaches unity. These findings are consistent with observations at heliospheric current sheets and the magnetotail, and provide strong evidence suggesting Fermi acceleration as the dominant ion-acceleration mechanism. |\n",
       "|<p style=\"color:green\"> **ERROR** </p>| <p style=\"color:green\">affiliation error: mpia.affiliation_verifications: 'Heidelberg' keyword not found.</p> |"
      ],
      "text/plain": [
       "<IPython.core.display.Markdown object>"
      ]
     },
     "metadata": {},
     "output_type": "display_data"
    },
    {
     "data": {
      "text/markdown": [
       "\n",
       "|||\n",
       "|---:|:---|\n",
       "| [![arXiv](https://img.shields.io/badge/arXiv-arXiv:2210.04115-b31b1b.svg)](https://arxiv.org/abs/arXiv:2210.04115) | **The Study of Dust Formation of Six Tidal Disruption Events**  |\n",
       "|| Xian-Mao Cao, Shan-Qin Wang, Wen-Pei Gan, <mark>Jing-Yao Li</mark> |\n",
       "|*Appeared on*| *2022-10-11*|\n",
       "|*Comments*| *13 pages, 4 figures, 4 tables, submitted to ApJ*|\n",
       "|**Abstract**| This paper investigates eleven (UV-)optical-infrared (IR) spectral energy distributions (SEDs) of six tidal disruption events (TDEs), which are ASASSN-14li, ASASSN-15lh, ASASSN-18ul, ASASSN-18zj, PS18kh, and ZTF18acaqdaa. We find that all the SEDs show evident IR excesses. We invoke the blackbody plus dust emission model to fit the SEDs, and find that the model can account for the SEDs. The derived masses of the dust surrounding ASASSN-14li, ASASSN-15lh, ASASSN-18ul, ASASSN-18zj, PS18kh, and ZTF18acaqdaa are respectively $\\sim0.7-1.0\\,(1.5-2.2)\\times10^{-4}\\,M_\\odot$, $\\sim0.6-3.1\\,(1.4-6.3)\\times10^{-2}\\,M_\\odot$, $\\sim1.0\\,(2.8)\\times10^{-4}\\,M_\\odot$, $\\sim0.1-1.6\\,(0.3-3.3)\\times10^{-3}\\,M_\\odot$, $\\sim1.0\\,(2.0)\\times10^{-3}\\,M_\\odot$, and $\\sim 1.1\\,(2.9)\\times10^{-3}\\,M_\\odot$, if the dust is graphite (silicate). The temperature of the graphite (silicate) dust of the six TDEs are respectively $\\sim1140-1430\\,(1210-1520)$\\,K, $\\sim1030-1380\\,(1100-1460)$\\,K, $\\sim1530\\,(1540)$\\,K, $\\sim960-1380\\,(1020-1420)$\\,K, $\\sim900\\,(950)$\\,K, and $\\sim1600\\,(1610)$\\,K. By comparing the derived temperatures to the vaporization temperature of graphite ($\\sim 1900$\\,K) and silicate ($\\sim 1100-1500$\\,K), we suggest that the IR excesses of PS18kh can be explained by both the graphite and silicate dust, the rest five TDEs favor the graphite dust while the silicate dust model cannot be excluded. Moreover, we demonstrate the lower limits of the radii of the dust shells surrounding the six TDEs are significantly larger than those of the radii of the photospheres at the first epochs of SEDs, indicating that the dust might exist before the the TDEs occurred. |\n",
       "|<p style=\"color:green\"> **ERROR** </p>| <p style=\"color:green\">affiliation error: mpia.affiliation_verifications: 'Heidelberg' keyword not found.</p> |"
      ],
      "text/plain": [
       "<IPython.core.display.Markdown object>"
      ]
     },
     "metadata": {},
     "output_type": "display_data"
    },
    {
     "data": {
      "text/markdown": [
       "\n",
       "|||\n",
       "|---:|:---|\n",
       "| [![arXiv](https://img.shields.io/badge/arXiv-arXiv:2210.04117-b31b1b.svg)](https://arxiv.org/abs/arXiv:2210.04117) | **The POLARBEAR-2 and Simons Array Focal Plane Fabrication Status**  |\n",
       "|| B. Westbrook, et al. -- incl., <mark>A. T. Lee</mark>, <mark>E. Linder</mark> |\n",
       "|*Appeared on*| *2022-10-11*|\n",
       "|*Comments*| **|\n",
       "|**Abstract**| We present on the status of POLARBEAR-2 A (PB2-A) focal plane fabrication. The PB2-A is the first of three telescopes in the Simon Array (SA), which is an array of three cosmic microwave background (CMB) polarization sensitive telescopes located at the POLARBEAR (PB) site in Northern Chile. As the successor to the PB experiment, each telescope and receiver combination is named as PB2-A, PB2-B, and PB2-C. PB2-A and -B will have nearly identical receivers operating at 90 and 150 GHz while PB2-C will house a receiver operating at 220 and 270 GHz. Each receiver contains a focal plane consisting of seven close-hex packed lenslet coupled sinuous antenna transition edge sensor bolometer arrays. Each array contains 271 di-chroic optical pixels each of which have four TES bolometers for a total of 7588 detectors per receiver. We have produced a set of two types of candidate arrays for PB2-A. The first we call Version 11 (V11) and uses a silicon oxide (SiOx) for the transmission lines and cross-over process for orthogonal polarizations. The second we call Version 13 (V13) and uses silicon nitride (SiNx) for the transmission lines and cross-under process for orthogonal polarizations. We have produced enough of each type of array to fully populate the focal plane of the PB2-A receiver. The average wirebond yield for V11 and V13 arrays is 93.2% and 95.6% respectively. The V11 arrays had a superconducting transition temperature (Tc) of 452 +/- 15 mK, a normal resistance (Rn) of 1.25 +/- 0.20 Ohms, and saturations powers of 5.2 +/- 1.0 pW and 13 +/- 1.2 pW for the 90 and 150 GHz bands respectively. The V13 arrays had a superconducting transition temperature (Tc) of 456 +/-6 mK, a normal resistance (Rn) of 1.1 +/- 0.2 Ohms, and saturations powers of 10.8 +/- 1.8 pW and 22.9 +/- 2.6 pW for the 90 and 150 GHz bands respectively. |\n",
       "|<p style=\"color:green\"> **ERROR** </p>| <p style=\"color:green\">affiliation error: mpia.affiliation_verifications: 'Heidelberg' keyword not found.</p> |"
      ],
      "text/plain": [
       "<IPython.core.display.Markdown object>"
      ]
     },
     "metadata": {},
     "output_type": "display_data"
    },
    {
     "data": {
      "text/markdown": [
       "\n",
       "|||\n",
       "|---:|:---|\n",
       "| [![arXiv](https://img.shields.io/badge/arXiv-arXiv:2210.04122-b31b1b.svg)](https://arxiv.org/abs/arXiv:2210.04122) | **Inferring Line-of-Sight Velocities and Doppler Widths from Stokes  Profiles of GST/NIRIS Using Stacked Deep Neural Networks**  |\n",
       "|| Haodi Jiang, et al. -- incl., <mark>Qin Li</mark> |\n",
       "|*Appeared on*| *2022-10-11*|\n",
       "|*Comments*| *16 pages, 8 figures*|\n",
       "|**Abstract**| Obtaining high-quality magnetic and velocity fields through Stokes inversion is crucial in solar physics. In this paper, we present a new deep learning method, named Stacked Deep Neural Networks (SDNN), for inferring line-of-sight (LOS) velocities and Doppler widths from Stokes profiles collected by the Near InfraRed Imaging Spectropolarimeter (NIRIS) on the 1.6 m Goode Solar Telescope (GST) at the Big Bear Solar Observatory (BBSO). The training data of SDNN is prepared by a Milne-Eddington (ME) inversion code used by BBSO. We quantitatively assess SDNN, comparing its inversion results with those obtained by the ME inversion code and related machine learning (ML) algorithms such as multiple support vector regression, multilayer perceptrons and a pixel-level convolutional neural network. Major findings from our experimental study are summarized as follows. First, the SDNN-inferred LOS velocities are highly correlated to the ME-calculated ones with the Pearson product-moment correlation coefficient being close to 0.9 on average. Second, SDNN is faster, while producing smoother and cleaner LOS velocity and Doppler width maps, than the ME inversion code. Third, the maps produced by SDNN are closer to ME's maps than those from the related ML algorithms, demonstrating the better learning capability of SDNN than the ML algorithms. Finally, comparison between the inversion results of ME and SDNN based on GST/NIRIS and those from the Helioseismic and Magnetic Imager on board the Solar Dynamics Observatory in flare-prolific active region NOAA 12673 is presented. We also discuss extensions of SDNN for inferring vector magnetic fields with empirical evaluation. |\n",
       "|<p style=\"color:green\"> **ERROR** </p>| <p style=\"color:green\">affiliation error: mpia.affiliation_verifications: 'Heidelberg' keyword not found.</p> |"
      ],
      "text/plain": [
       "<IPython.core.display.Markdown object>"
      ]
     },
     "metadata": {},
     "output_type": "display_data"
    },
    {
     "data": {
      "text/markdown": [
       "\n",
       "|||\n",
       "|---:|:---|\n",
       "| [![arXiv](https://img.shields.io/badge/arXiv-arXiv:2210.04143-b31b1b.svg)](https://arxiv.org/abs/arXiv:2210.04143) | **Strong Gravitational Lensing Parameter Estimation with Vision  Transformer**  |\n",
       "|| Kuan-Wei Huang, et al. -- incl., <mark>Sheng-Chieh Lin</mark>, <mark>Joshua Yao-Yu Lin</mark> |\n",
       "|*Appeared on*| *2022-10-11*|\n",
       "|*Comments*| *Accepted by ECCV 2022 AI for Space Workshop*|\n",
       "|**Abstract**| Quantifying the parameters and corresponding uncertainties of hundreds of strongly lensed quasar systems holds the key to resolving one of the most important scientific questions: the Hubble constant ($H_{0}$) tension. The commonly used Markov chain Monte Carlo (MCMC) method has been too time-consuming to achieve this goal, yet recent work has shown that convolution neural networks (CNNs) can be an alternative with seven orders of magnitude improvement in speed. With 31,200 simulated strongly lensed quasar images, we explore the usage of Vision Transformer (ViT) for simulated strong gravitational lensing for the first time. We show that ViT could reach competitive results compared with CNNs, and is specifically good at some lensing parameters, including the most important mass-related parameters such as the center of lens $\\theta_{1}$ and $\\theta_{2}$, the ellipticities $e_1$ and $e_2$, and the radial power-law slope $\\gamma'$. With this promising preliminary result, we believe the ViT (or attention-based) network architecture can be an important tool for strong lensing science for the next generation of surveys. The open source of our code and data is in \\url{https://github.com/kuanweih/strong_lensing_vit_resnet}. |\n",
       "|<p style=\"color:green\"> **ERROR** </p>| <p style=\"color:green\">affiliation error: mpia.affiliation_verifications: 'Heidelberg' keyword not found.</p> |"
      ],
      "text/plain": [
       "<IPython.core.display.Markdown object>"
      ]
     },
     "metadata": {},
     "output_type": "display_data"
    },
    {
     "data": {
      "text/markdown": [
       "\n",
       "|||\n",
       "|---:|:---|\n",
       "| [![arXiv](https://img.shields.io/badge/arXiv-arXiv:2210.04162-b31b1b.svg)](https://arxiv.org/abs/arXiv:2210.04162) | **New Parameter Measurements for the Ultra-Short-Period Planet TOI-1807b**  |\n",
       "|| Peifeng Peng, et al. -- incl., <mark>He Li</mark>, <mark>Felix Li</mark> |\n",
       "|*Appeared on*| *2022-10-11*|\n",
       "|*Comments*| *24 pages, 18 figures, 4 tables*|\n",
       "|**Abstract**| The ultra-short-period (USP) planets are exoplanets with very short orbital periods ($\\textit{P} < 1$ day), and TOI-1807b is one such planet recently discovered by the TESS mission where it orbits in the TOI-1807 system that is still little known nowadays. In this paper, we re-analyzed the transit light curves of TOI-1807 using the latest TESS data from Sector 49, combined with previous data from Sector 22 and 23. By running the MCMC simulation through all three sectors, we found that our transit model fits the data from Sector 49 the best, and we deduced that TOI-1807b is a Super-Earth with a mass of $2.27^{+0.49}_{-0.58}\\, M_\\oplus$, a radius of $1.37^{+0.10}_{-0.09}\\, R_\\oplus$, a density of $0.875^{+0.264}_{-0.285}\\, \\rho_\\oplus$, and a surface temperature of $1499^{+82}_{-129}\\, \\mathrm{K}$. We confirmed that TOI-1807b orbits at approximately $0.0135^{+0.0013}_{-0.0022}\\, \\mathrm{AU}$ with a period of $0.54929^{+0.00012}_{-0.00005}\\, \\mathrm{days}$, which raises the possibility of the planet being tidally locked due to spin-orbit synchronization. In addition, we renewed an estimate for the conjunction time as $2651.98224^{+0.00112}_{-0.00064}\\, \\mathrm{BTJD}$. We suggest that TOI-1807b might slowly undergo its orbital decay process, and we further identify that TOI-1807b is in a circular, synchronous orbit and permanently deformed due to tides, leading to $\\sim$4\\% correction in density. Since TOI-1807 is such a young star with an age of only $300 \\pm 80\\, \\mathrm{Myr}$, we also imply that the radiation emitted from active TOI-1807 could be so intense that it might have destroyed most of the atmosphere over the surface of TOI-1807b. |\n",
       "|<p style=\"color:green\"> **ERROR** </p>| <p style=\"color:green\">affiliation error: mpia.affiliation_verifications: 'Heidelberg' keyword not found.</p> |"
      ],
      "text/plain": [
       "<IPython.core.display.Markdown object>"
      ]
     },
     "metadata": {},
     "output_type": "display_data"
    },
    {
     "data": {
      "text/markdown": [
       "\n",
       "|||\n",
       "|---:|:---|\n",
       "| [![arXiv](https://img.shields.io/badge/arXiv-arXiv:2210.04168-b31b1b.svg)](https://arxiv.org/abs/arXiv:2210.04168) | **Galaxy Spin Classification I: Z-wise vs S-wise Spirals With Chirality  Equivariant Residual Network**  |\n",
       "|| <mark>He Jia</mark>, Hong-Ming Zhu, <mark>Ue-Li Pen</mark> |\n",
       "|*Appeared on*| *2022-10-11*|\n",
       "|*Comments*| *13+4 pages, 11 figures, 2 tables, to be submitted to ApJ*|\n",
       "|**Abstract**| The angular momentum of galaxies (galaxy spin) contains rich information about the initial condition of the Universe, yet it is challenging to efficiently measure the spin direction for the tremendous amount of galaxies that are being mapped by the ongoing and forthcoming cosmological surveys. We present a machine learning based classifier for the Z-wise vs S-wise spirals, which can help to break the degeneracy in the galaxy spin direction measurement. The proposed Chirality Equivariant Residual Network (CE-ResNet) is manifestly equivariant under a reflection of the input image, which guarantees that there is no inherent asymmetry between the Z-wise and S-wise probability estimators. We train the model with Sloan Digital Sky Survey (SDSS) images, with the training labels given by the Galaxy Zoo 1 (GZ1) project. A combination of data augmentation tricks are used during the training, making the model more robust to be applied to other surveys. We find a $\\sim\\!30\\%$ increase of both types of spirals when Dark Energy Spectroscopic Instrument (DESI) images are used for classification, due to the better imaging quality of DESI. We verify that the $\\sim\\!7\\sigma$ difference between the numbers of Z-wise and S-wise spirals is due to human bias, since the discrepancy drops to $<\\!1.8\\sigma$ with our CE-ResNet classification results. We discuss the potential systematics that are relevant to the future cosmological applications. |\n",
       "|<p style=\"color:green\"> **ERROR** </p>| <p style=\"color:green\">affiliation error: mpia.affiliation_verifications: 'Heidelberg' keyword not found.</p> |"
      ],
      "text/plain": [
       "<IPython.core.display.Markdown object>"
      ]
     },
     "metadata": {},
     "output_type": "display_data"
    },
    {
     "data": {
      "text/markdown": [
       "\n",
       "|||\n",
       "|---:|:---|\n",
       "| [![arXiv](https://img.shields.io/badge/arXiv-arXiv:2210.04190-b31b1b.svg)](https://arxiv.org/abs/arXiv:2210.04190) | **A possible 250-second X-ray quasi-periodicity in the fast blue optical  transient AT2018cow**  |\n",
       "|| <mark>Wenjie Zhang</mark>, et al. -- incl., <mark>Lian Tao</mark>, <mark>LiMing Dou</mark>, <mark>Xue-Guang Zhang</mark>, <mark>Liang Zhang</mark> |\n",
       "|*Appeared on*| *2022-10-11*|\n",
       "|*Comments*| *18 pages, 10 figures. Accepted for publication in Research in Astronomy and Astrophysics*|\n",
       "|**Abstract**| The fast blue optical transients (FBOTs) are a new population of extragalactic transients of unclear physical origin. A variety of mechanisms have been proposed including failed supernova explosion, shock interaction with a dense medium, young magnetar, accretion onto a compact object, and stellar tidal disruption event, but none is conclusive. Here we report the discovery of a possible X-ray quasi-periodicity signal with a period of $\\sim$250 second (at a significance level of 99.76%) in the brightest FBOT AT2018cow through the analysis of XMM-Newton/PN data. The signal is independently detected at the same frequency in the average power density spectrum from data taken from the Swift telescope, with observations covering from 6 to 37 days after the optical discovery, though the significance level is lower (94.26%). This suggests that the QPO frequency may be stable over at least 1.1$\\times$ 10$^{4}$ cycles. Assuming the $\\sim$250 second QPO to be a scaled-down analogue of that typically seen in stellar mass black holes, a black hole mass of $\\sim10^{3}-10^{5}$ solar masses could be inferred. The overall X-ray luminosity evolution could be modeled with the stellar tidal disruption by a black hole of $\\sim10^4$ solar masses, providing a viable mechanism to produce AT2018cow. Our findings suggest that other bright FBOTs may also harbor intermediate-mass black holes. |\n",
       "|<p style=\"color:green\"> **ERROR** </p>| <p style=\"color:green\">affiliation error: mpia.affiliation_verifications: 'Heidelberg' keyword not found.</p> |"
      ],
      "text/plain": [
       "<IPython.core.display.Markdown object>"
      ]
     },
     "metadata": {},
     "output_type": "display_data"
    },
    {
     "data": {
      "text/markdown": [
       "\n",
       "|||\n",
       "|---:|:---|\n",
       "| [![arXiv](https://img.shields.io/badge/arXiv-arXiv:2210.04203-b31b1b.svg)](https://arxiv.org/abs/arXiv:2210.04203) | **Baryonic Effects on Lagrangian Clustering and Angular Momentum  Reconstruction**  |\n",
       "|| Ming-Jie Sheng, et al. -- incl., <mark>Sijia Li</mark>, <mark>Shihong Liao</mark> |\n",
       "|*Appeared on*| *2022-10-11*|\n",
       "|*Comments*| *7 pages, 5 figures, 1 table, comments welcome*|\n",
       "|**Abstract**| Recent studies illustrate the correlation between the angular momenta of cosmic structures and their Lagrangian properties. However, only baryons are observable and it is unclear whether they reliably trace the cosmic angular momenta. We study the Lagrangian mass distribution, spin correlation and predictability of dark matter, gas, and stellar components of galaxy-halo systems using IllustrisTNG, and show that the primordial segregations between components are typically small. Their proto-shapes are also similar in terms of the statistics of moment of inertia tensors. Under the common gravitational potential they are expected to be exerted the same tidal torque and the strong spin correlations are not destroyed by the nonlinear evolution and complicated baryonic effects, as confirmed by the high-resolution hydrodynamic simulations. We further show that their late time angular momenta traced by total gas, stars, or the central galaxies, can be reliably reconstructed by the initial perturbations. These results suggest that baryonic angular momenta can potentially be used in reconstructing the parameters and models related to the initial perturbations. |\n",
       "|<p style=\"color:green\"> **ERROR** </p>| <p style=\"color:green\">affiliation error: mpia.affiliation_verifications: 'Heidelberg' keyword not found.</p> |"
      ],
      "text/plain": [
       "<IPython.core.display.Markdown object>"
      ]
     },
     "metadata": {},
     "output_type": "display_data"
    },
    {
     "data": {
      "text/markdown": [
       "\n",
       "|||\n",
       "|---:|:---|\n",
       "| [![arXiv](https://img.shields.io/badge/arXiv-arXiv:2210.04228-b31b1b.svg)](https://arxiv.org/abs/arXiv:2210.04228) | **Deep learning method in testing the cosmic distance duality relation**  |\n",
       "|| <mark>Li Tang</mark>, <mark>Hai-Nan Lin</mark>, <mark>Liang Liu</mark> |\n",
       "|*Appeared on*| *2022-10-11*|\n",
       "|*Comments*| *11 pages,4 figures*|\n",
       "|**Abstract**| The cosmic distance duality relation (DDR) is constrained from the combination of type-Ia supernovae (SNe Ia) and strong gravitational lensing (SGL) systems using deep learning method. To make use of the full SGL data, we reconstruct the luminosity distance from SNe Ia up to the highest redshift of SGL using deep learning, then it is compared with the angular diameter distance obtained from SGL. Considering the influence of lens mass profile, we constrain the possible violation of DDR in three lens mass models. Results show that in the SIS model and EPL model, DDR is violated at high confidence level, with the violation parameter $\\eta_0=-0.193^{+0.021}_{-0.019}$ and $\\eta_0=-0.247^{+0.014}_{-0.013}$, respectively. In the PL model, however, DDR is verified within 1$\\sigma$ confidence level, with the violation parameter $\\eta_0=-0.014^{+0.053}_{-0.045}$. Our results demonstrate that the constraints on DDR strongly depend on the lens mass models. Given a specific lens mass model, DDR can be constrained at a precision of $\\textit{O}(10^{-2})$ using deep learning. |\n",
       "|<p style=\"color:green\"> **ERROR** </p>| <p style=\"color:green\">affiliation error: mpia.affiliation_verifications: 'Heidelberg' keyword not found.</p> |"
      ],
      "text/plain": [
       "<IPython.core.display.Markdown object>"
      ]
     },
     "metadata": {},
     "output_type": "display_data"
    },
    {
     "data": {
      "text/markdown": [
       "\n",
       "|||\n",
       "|---:|:---|\n",
       "| [![arXiv](https://img.shields.io/badge/arXiv-arXiv:2210.04241-b31b1b.svg)](https://arxiv.org/abs/arXiv:2210.04241) | **The Galactic Underworld: The spatial distribution of compact remnants**  |\n",
       "|| David Sweeney, Peter Tuthill, <mark>Sanjib Sharma</mark>, Ryosuke Hirai |\n",
       "|*Appeared on*| *2022-10-11*|\n",
       "|*Comments*| *9 pages, 11 figures*|\n",
       "|**Abstract**| We chart the expected Galactic distribution of neutron stars and black holes. These compact remnants of dead stars -- the Galactic underworld -- are found to exhibit a fundamentally different distribution and structure to the visible Galaxy. Compared to the visible Galaxy, concentration into a thin flattened disk structure is much less evident with the scale height more than tripling to 1260 +- 30 pc. This difference arises from two primary causes. Firstly, the distribution is in part inherited from the integration over the evolving structure of the Galaxy itself (and hence the changing distribution of the parent stars). Secondly, an even larger effect arises from the natal kick received by the remnant at the event of its supernova birth. Due to this kick we find 30% of remnants have sufficient kinetic energy to entirely escape the Galactic potential (40% of neutron stars and 2% of black holes) leading to a Galactic mass loss integrated to the present day of ~ 0.4% of the stellar mass of the Galaxy. The black hole -- neutron star fraction increases near the Galactic centre: a consequence of smaller kick velocities in the former (the assumption made is that kick velocity is inversely proportional to mass). Our simulated remnant distribution yields probable distances of 19 pc and 21 pc to the nearest neutron star and black hole respectively, while our nearest probable magnetar lies at 4.2 kpc. Although the underworld only contains of order ~ 1% of the Galaxy's mass, observational signatures and physical traces of its population, such as microlensing, will become increasingly present in data ranging from gravitational wave detectors to high precision surveys from space missions such as Gaia. |\n",
       "|<p style=\"color:green\"> **ERROR** </p>| <p style=\"color:green\">affiliation error: mpia.affiliation_verifications: 'Heidelberg' keyword not found.</p> |"
      ],
      "text/plain": [
       "<IPython.core.display.Markdown object>"
      ]
     },
     "metadata": {},
     "output_type": "display_data"
    },
    {
     "data": {
      "text/markdown": [
       "\n",
       "|||\n",
       "|---:|:---|\n",
       "| [![arXiv](https://img.shields.io/badge/arXiv-arXiv:2210.04344-b31b1b.svg)](https://arxiv.org/abs/arXiv:2210.04344) | **Testing source confusion and identification capability in Cherenkov  Telescope Array data**  |\n",
       "|| Enrique Mestre, <mark>Diego F. Torres</mark>, Emma de Oña Wilhelmi, Josep Martí |\n",
       "|*Appeared on*| *2022-10-11*|\n",
       "|*Comments*| *In press in MNRAS*|\n",
       "|**Abstract**| The Cherenkov Telescope Array will provide the deepest survey of the Galactic Plane performed at very-high-energy gamma-rays. Consequently, this survey will unavoidably face the challenge of source confusion, i.e., the non-unique attribution of signal to a source due to multiple overlapping sources. Among the known populations of Galactic gamma-ray sources and given their extension and number, pulsar wind nebulae (PWNe, and PWN TeV halos) will be the most affected. We aim to probe source confusion of TeV PWNe in forthcoming CTA data. For this purpose, we performed and analyzed simulations of artificially confused PWNe with CTA. As a basis for our simulations, we applied our study to TeV data collected from the H.E.S.S. Galactic Plane Survey for ten extended and two point-like firmly identified PWNe, probing various configurations of source confusion involving different projected separations, relative orientations, flux levels, and extensions among sources. Source confusion, defined here to appear when the sum of the Gaussian width of two sources is larger than the separation between their centroids, occurred in $\\sim$30% of the simulations. For this sample and 0.5$\\deg$ of average separation between sources, we found that CTA can likely resolve up to 60% of those confused sources above 500 GeV. Finally, we also considered simulations of isolated extended sources to see how well they could be matched to a library of morphological templates. The outcome of the simulations indicates a remarkable capability (more than 95% of the cases studied) to match a simulation with the correct input template in its proper orientation. |\n",
       "|<p style=\"color:green\"> **ERROR** </p>| <p style=\"color:green\">affiliation error: mpia.affiliation_verifications: 'Heidelberg' keyword not found.</p> |"
      ],
      "text/plain": [
       "<IPython.core.display.Markdown object>"
      ]
     },
     "metadata": {},
     "output_type": "display_data"
    },
    {
     "data": {
      "text/markdown": [
       "\n",
       "|||\n",
       "|---:|:---|\n",
       "| [![arXiv](https://img.shields.io/badge/arXiv-arXiv:2210.04401-b31b1b.svg)](https://arxiv.org/abs/arXiv:2210.04401) | **Polarisation of magnetospheric curvature radiation in repeating fast  radio bursts**  |\n",
       "|| Wei-Yang Wang, et al. -- incl., <mark>Kejia Lee</mark>, <mark>Bing Zhang</mark> |\n",
       "|*Appeared on*| *2022-10-11*|\n",
       "|*Comments*| *11 pages, 7 figures, submitted to MNRAS*|\n",
       "|**Abstract**| Fast radio busts (FRBs) can exhibit a wide variety of polarisation properties, not only between sources but also from burst to burst for a same one. In this work, we revisit the polarisation characters of coherent curvature radiation from a bulk of charged bunches in the magnetosphere of a highly magnetized neutron star. FRBs have been observed to have a variety of polarisation features, such as high levels of circular polarisation or a sign change of circular polarisation. High linear polarisation would appear when the line of sight is inside the emission beam (the on-beam geometry), whereas high circular polarisation would be present when it is outside (the off-beam geometry). By considering two scenarios of the ``bulk shapes'' (thick vs. thin), we apply the model to explain the polarisation features of three repeating FRBs (FRB 20201124A, FRB 20190520B and FRB 20121102A). Most bursts are dominated by linear polarisation and negligible events have sign changes in circular polarisation, suggesting that such FRBs are most likely to be emitted by the ``thin'' bulks with large opening angles. The higher probability of ``thin'' bulks could be meaningful for understanding repeating FRB central engine, i.e., the sparking dynamics to produce different bulks of energetic bunches on a neutron star surface. |\n",
       "|<p style=\"color:green\"> **ERROR** </p>| <p style=\"color:green\">affiliation error: mpia.affiliation_verifications: 'Heidelberg' keyword not found.</p> |"
      ],
      "text/plain": [
       "<IPython.core.display.Markdown object>"
      ]
     },
     "metadata": {},
     "output_type": "display_data"
    },
    {
     "data": {
      "text/markdown": [
       "\n",
       "|||\n",
       "|---:|:---|\n",
       "| [![arXiv](https://img.shields.io/badge/arXiv-arXiv:2210.04416-b31b1b.svg)](https://arxiv.org/abs/arXiv:2210.04416) | **A Spectral Classification System for Hydrogen-deficient Carbon Stars**  |\n",
       "|| Courtney L. Crawford, et al. -- incl., <mark>D. A. Garcia-Hernandez</mark> |\n",
       "|*Appeared on*| *2022-10-11*|\n",
       "|*Comments*| *30 pages, 18 figures, submitted to MNRAS*|\n",
       "|**Abstract**| Stellar spectral classification, and especially the Yerkes system, has been highly useful in the study of stars. While there is a currently accepted classification system for carbon stars, the subset of Hydrogen-deficient Carbon (HdC) stars has not been well described by such a system, due in part to their rarity and their variability. Here we present a new system for the classification of HdCs based on their spectra, which is made wholly on their observable appearance. We use a combination of dimensionality reduction and clustering algorithms with human classification to create such a system. We classify over half of the known sample of HdC stars using this, and roughly calibrate the temperatures of each class using their colors. Additionally, we express trends in the occurrence of certain spectral peculiarities such as the presence of Hydrogen and Lithium lines. We also present three previously unpublished spectra, and report the discovery of three new Galactic dustless HdC (dLHdC) stars and additionally discuss one especially unique star that appears to border between the hottest HdCs and the coolest Extreme Helium (EHe) stars. |\n",
       "|<p style=\"color:green\"> **ERROR** </p>| <p style=\"color:green\">affiliation error: mpia.affiliation_verifications: 'Heidelberg' keyword not found.</p> |"
      ],
      "text/plain": [
       "<IPython.core.display.Markdown object>"
      ]
     },
     "metadata": {},
     "output_type": "display_data"
    },
    {
     "data": {
      "text/markdown": [
       "\n",
       "|||\n",
       "|---:|:---|\n",
       "| [![arXiv](https://img.shields.io/badge/arXiv-arXiv:2210.04437-b31b1b.svg)](https://arxiv.org/abs/arXiv:2210.04437) | **The SCUBA-2 Cosmology Legacy Survey: The EGS deep field -- III. The  evolution of faint submillimeter galaxies at $z<4$**  |\n",
       "|| <mark>L. Cardona-Torres</mark>, et al. |\n",
       "|*Appeared on*| *2022-10-11*|\n",
       "|*Comments*| *Accepted for publication in MNRAS*|\n",
       "|**Abstract**| We present a demographic analysis of the physical and morphological properties of $450/850~\\mu\\rm m$-selected galaxies from the deep observations of the SCUBA-2 Cosmology Legacy Survey in the Extended Groth Strip that are detected below the classical submillimeter-galaxy regime ($S_{850 \\mu\\rm m}\\lesssim 6~\\rm mJy$/beam) and compare them with a sample of optically-selected star-forming galaxies detected in the Cosmic Assembly Near-infrared Deep Extragalactic Legacy Survey in the same field. We derive the evolution of the main sequence of star-forming galaxies, finding a steeper specific star formation rate versus stellar mass at $z>2.5$ than previous studies. Most faint submillimeter-galaxies fall within $3\\sigma$ of the main sequence, but 40~per cent are classified as starbursts. Faint submillimeter galaxies have 50~per cent larger sizes at $2<z<3$ than optically-selected star-forming galaxies of the same mass range. This is also the redshift bin where we find the largest fraction of starbursts, and hence we could be witnessing merging processes, as confirmed by the preference for visual-morphology classifications of these systems as irregular disk galaxies and mergers. Both populations show an increment towards lower redshifts ($z<2$) of their concentration in $H$-band morphology, but faint submillimeter galaxies on average show larger concentration values at later times. These findings support the claim that faint submillimeter galaxies are mostly a population of massive dust-obscured disk-like galaxies that develop larger bulge components at later epochs. While the similarities are great, the median sizes, starburst numbers and $H$-band concentration of faint submillimeter galaxies differ from those of optically-selected star-forming galaxies of the same stellar mass. |\n",
       "|<p style=\"color:green\"> **ERROR** </p>| <p style=\"color:green\">affiliation error: mpia.affiliation_verifications: 'Heidelberg' keyword not found.</p> |"
      ],
      "text/plain": [
       "<IPython.core.display.Markdown object>"
      ]
     },
     "metadata": {},
     "output_type": "display_data"
    },
    {
     "data": {
      "text/markdown": [
       "\n",
       "|||\n",
       "|---:|:---|\n",
       "| [![arXiv](https://img.shields.io/badge/arXiv-arXiv:2210.04460-b31b1b.svg)](https://arxiv.org/abs/arXiv:2210.04460) | **The small-scale dynamo in a multiphase supernova-driven medium**  |\n",
       "|| <mark>Frederick A. Gent</mark>, Mordecai-Mark Mac Low, Maarit J. Korpi-Lagg, Nishant K. Singh |\n",
       "|*Appeared on*| *2022-10-11*|\n",
       "|*Comments*| *27 pages, 12 figures, 4 tables*|\n",
       "|**Abstract**| Magnetic fields grow quickly, even at early cosmological times, suggesting the action of a small-scale dynamo (SSD) in the interstellar medium (ISM) of galaxies. Many studies have focused on idealized, isotropic, homogeneous, turbulent driving of the SSD. Here we analyze more realistic simulations of supernova-driven turbulence to understand how it drives an SSD. We find that SSD growth rates are intermittently variable as a result of the evolving multiphase ISM structure. Rapid growth in the magnetic field typically occurs in hot gas, with the highest overall growth rates occurring when the fractional volume of hot gas is large. SSD growth rates correlate most strongly with vorticity, which also correlates well with gas temperature. Rotational energy exceeds irrotational energy in all phases, but particularly in the hot phase while SSD growth is most rapid. Supernova (SN) rate does not significantly affect the ISM average kinetic energy density. Rather, higher temperatures associated with high SN rates tend to increase SSD growth rates. SSD saturates with total magnetic energy density around 5% of equipartition to kinetic energy density, increasing slightly with magnetic Prandtl number. While magnetic energy density in the hot gas can exceed that of the other phases when SSD grows most rapidly, it saturates below 5% of equipartition with kinetic energy in the hot gas, while in the cold gas it attains 100%. Fast, intermittent growth of the magnetic field appears to be a characteristic behavior of SN-driven, multiphase turbulence. |\n",
       "|<p style=\"color:green\"> **ERROR** </p>| <p style=\"color:green\">affiliation error: mpia.affiliation_verifications: 'Heidelberg' keyword not found.</p> |"
      ],
      "text/plain": [
       "<IPython.core.display.Markdown object>"
      ]
     },
     "metadata": {},
     "output_type": "display_data"
    },
    {
     "data": {
      "text/markdown": [
       "\n",
       "|||\n",
       "|---:|:---|\n",
       "| [![arXiv](https://img.shields.io/badge/arXiv-arXiv:2210.04461-b31b1b.svg)](https://arxiv.org/abs/arXiv:2210.04461) | **Evaluation of different recipes for chromospheric radiative losses in  solar flares**  |\n",
       "|| J.Tian, J.Hong, <mark>Y.Li</mark>, M.D.Ding |\n",
       "|*Appeared on*| *2022-10-11*|\n",
       "|*Comments*| *16 pages, 11 figures, 3 tables. A&A accepted*|\n",
       "|**Abstract**| Context. Radiative losses are an indispensable part in the numerical simulation of flares. Detailed calculations could be computationally expensive, especially in the chromosphere. There have been some approximate recipes for chromospheric radiative losses in flares, yet their feasibility in flare simulations needs further evaluation. Aims. We aim to evaluate the performance of different recipes for chromospheric radiative losses in flare simulations. Methods. We compare the atmospheric structure and line profiles in beam-heated flares calculated with detailed radiative losses and the approximate recipes. Results. Both GF90 and HCD22 recipes provide acceptable total radiative losses compared with detailed one, but there are discrepancies in the different atmospheric layers during the different evolutionary phases, which leads to misestimations of temperature and line intensity. The recipe of GF90 overestimates the coolings in the upper chromosphere greatly when temperature exceeds 10^5 K, which also affects the flare evolution and line asymmetries. Radiative heating in the middle chromosphere only functions in the initial stage and could be safely neglected. However, radiative heating from Lyman continuum could dominate near the transition region. |\n",
       "|<p style=\"color:green\"> **ERROR** </p>| <p style=\"color:green\">affiliation error: mpia.affiliation_verifications: 'Heidelberg' keyword not found.</p> |"
      ],
      "text/plain": [
       "<IPython.core.display.Markdown object>"
      ]
     },
     "metadata": {},
     "output_type": "display_data"
    },
    {
     "data": {
      "text/markdown": [
       "\n",
       "|||\n",
       "|---:|:---|\n",
       "| [![arXiv](https://img.shields.io/badge/arXiv-arXiv:2210.04495-b31b1b.svg)](https://arxiv.org/abs/arXiv:2210.04495) | **The effect of winds in red supergiants: modeling for interferometry**  |\n",
       "|| Gemma González-Torà, Markus Wittkowski, <mark>Ben Davies</mark>, Bertrand Plez |\n",
       "|*Appeared on*| *2022-10-11*|\n",
       "|*Comments*| *6 pages, 5 figures, to appear at the Proceedings of the IAUS370: Winds of stars and exoplanets. Eds: A. Vidotto and M. Smith-Spanier. Based on a contributed talk on preliminary work from Gonz\\'alez-Tor\\`a et al., submitted to A&A*|\n",
       "|**Abstract**| Red supergiants (RSGs) are evolved massive stars in a stage preceding core-collapse supernova. Understanding evolved-phases of these cool stars is key to understanding the cosmic matter cycle of our Universe, since they enrich the cosmos with newly formed elements. However, the physical processes that trigger mass loss in their atmospheres are still not fully understood, and remain one of the key questions in stellar astrophysics. We use a new method to study the extended atmospheres of these cold stars, exploring the effect of a stellar wind for both a simple radiative equilibrium model and a semi-empirical model that accounts for a chromospheric temperature structure. We then can compute the intensities, fluxes and visibilities matching the observations for the different instruments at the Very Large Telescope Interferometer (VLTI). Specifically, when comparing with the atmospheric structure of HD 95687 based on published VLTI/AMBER data, we find that our model can accurately match these observations in the Kband, showing the enormous potential of this methodology to reproduce extended atmospheres of RSGs. |\n",
       "|<p style=\"color:green\"> **ERROR** </p>| <p style=\"color:green\">affiliation error: mpia.affiliation_verifications: 'Heidelberg' keyword not found.</p> |"
      ],
      "text/plain": [
       "<IPython.core.display.Markdown object>"
      ]
     },
     "metadata": {},
     "output_type": "display_data"
    },
    {
     "data": {
      "text/markdown": [
       "\n",
       "|||\n",
       "|---:|:---|\n",
       "| [![arXiv](https://img.shields.io/badge/arXiv-arXiv:2210.04499-b31b1b.svg)](https://arxiv.org/abs/arXiv:2210.04499) | **The Opaque Heart of the Galaxy IC~860: Analogous Protostellar,  Kinematics, Morphology, and Chemistry**  |\n",
       "|| M. D. Gorski, et al. -- incl., <mark>S. König</mark> |\n",
       "|*Appeared on*| *2022-10-11*|\n",
       "|*Comments*| *17 pages, 14 figures, submitted to Astronomy and Astrophysics*|\n",
       "|**Abstract**| Compact Obscured Nuclei (CONs) account for a significant fraction of the population of luminous and ultraluminous infrared galaxies (LIRGs and ULIRGs). These galaxy nuclei are compact, with radii of 10-100~pc, with large optical depths at submm and far-infrared wavelengths, and characterized by vibrationally excited HCN emission. It is not known what powers the large luminosities of the CON host galaxies because of the extreme optical depths towards their nuclei. CONs represent an extreme phase of nuclear growth, hiding either a rapidly accreting supermassive black hole or an abnormal mode of star formation. Here we apply principal component analysis (PCA) tomography to high-resolution (0.06$^{\\prime\\prime}$) ALMA observations at frequencies 245 to 265~GHz of the nearby CON (59~Mpc) IC~860. PCA is a technique to unveil correlation in the data parameter space, and we apply it to explore the morphological and chemical properties of species in our dataset. The leading principal components reveal morphological features in molecular emission that suggest a rotating, infalling disk or envelope, and an outflow analogous to those seen in Galactic protostars. One particular molecule of astrochemical interest is methanimine (CH$_2$NH), a precursor to glycine, three transitions of which have been detected towards IC 860. We estimate the average CH$_2$NH column density towards the nucleus of IC~860 to be $\\sim10^{17}$cm$^{-2}$, with an abundance exceeding $10^{-8}$ relative to molecular hydrogen, using the rotation diagram method and non-LTE radiative transfer models. This CH$_2$NH abundance is consistent with those found in hot cores of molecular clouds in the Milky Way. Our analysis suggests that CONs are an important stage of chemical evolution in galaxies, that are chemically and morphologically similar to Milky Way hot cores. |\n",
       "|<p style=\"color:green\"> **ERROR** </p>| <p style=\"color:green\">affiliation error: mpia.affiliation_verifications: 'Heidelberg' keyword not found.</p> |"
      ],
      "text/plain": [
       "<IPython.core.display.Markdown object>"
      ]
     },
     "metadata": {},
     "output_type": "display_data"
    },
    {
     "data": {
      "text/markdown": [
       "\n",
       "|||\n",
       "|---:|:---|\n",
       "| [![arXiv](https://img.shields.io/badge/arXiv-arXiv:2210.04647-b31b1b.svg)](https://arxiv.org/abs/arXiv:2210.04647) | **The Obscured Nucleus and Shocked Environment of VV 114E Revealed by  JWST/MIRI Spectroscopy**  |\n",
       "|| F. R. Donnan, et al. -- incl., <mark>A. Alonso-Herrero</mark>, <mark>A. Hernán-Caballero</mark> |\n",
       "|*Appeared on*| *2022-10-11*|\n",
       "|*Comments*| *15 pages, 15 figures, submitted to MNRAS*|\n",
       "|**Abstract**| We present a spectroscopic analysis of the heavily obscured nucleus and the surrounding environment of the eastern region of the nearby ($z = 0.02007$) interacting galaxy VV 114 with the James Webb Space Telescope (JWST) Mid-InfraRed Instrument (MIRI). We model the spectrum from 4.9 - 28 $\\mu$m to extract Polycyclic Aromatic Hydrocarbon (PAH) emission and the underlying obscured continuum. We find that the NE nucleus (A) is highly obscured where the low PAH equivalent width (EW) ratio, EW(12.7)/EW(11.3), reveals a dust enshrouded continuum source. This is confirmed by decomposing the continuum into nuclear and star-forming where the nuclear component is found to be typical of Compact Obscured Nuclei (CONs). The 11.3/6.2 PAH flux ratio is consistent with originating in star-forming regions rather than typical AGN. The second nucleus (B) is much less obscured, with PAH flux ratios also typical of star-forming regions. We do not detect any high ionisation lines such as [Ne V] or [Ne VI] which suggests that if an AGN is present it must be highly obscured. Additionally, we detect a shock front south of the secondary nucleus (B) in the [Fe II] (5.34 $\\mu$m) line and in warm molecular hydrogen. The 6.2 PAH emission does not spatially coincide with the low-J transitions of H$_2$ but rather appears strong at the shock front which may suggest destruction of the ionised PAHs in the post-shock gas behind the shock front. |\n",
       "|<p style=\"color:green\"> **ERROR** </p>| <p style=\"color:green\">affiliation error: mpia.affiliation_verifications: 'Heidelberg' keyword not found.</p> |"
      ],
      "text/plain": [
       "<IPython.core.display.Markdown object>"
      ]
     },
     "metadata": {},
     "output_type": "display_data"
    },
    {
     "data": {
      "text/markdown": [
       "\n",
       "|||\n",
       "|---:|:---|\n",
       "| [![arXiv](https://img.shields.io/badge/arXiv-arXiv:2210.04651-b31b1b.svg)](https://arxiv.org/abs/arXiv:2210.04651) | **MIGHTEE-HI: The $M_{\\rm HI}-M_{\\star}$ relation over the last billion  years**  |\n",
       "|| <mark>Hengxing Pan</mark>, et al. -- incl., <mark>Bradley S. Frank</mark>, <mark>Martin J. Meyer</mark>, <mark>Gauri Sharma</mark> |\n",
       "|*Appeared on*| *2022-10-11*|\n",
       "|*Comments*| *14 pages, submitted to MNRAS*|\n",
       "|**Abstract**| We measure the $M_{\\rm HI}-M_{\\star}$ relation over the last billion years down to $M_{\\rm HI}\\sim 10^7 M_{\\odot}$ using the MIGHTEE Early Science data with a Bayesian technique. This technique is applied to the HI detections, without binning the datasets, while taking account of the intrinsic scatter in the $M_{\\rm HI}-M_{\\star}$ relation. We divide the full sample of 249 galaxies into 161 spirals, 64 irregulars, 15 mergers, and 9 elliptical galaxies to measure their $M_{\\rm HI}-M_{\\star}$ relations. We fit this relation with both linear and non-linear models, and find that the non-linear model is preferred over the linear one for the full HI-selected sample with a measured transition stellar mass of $\\log_{10}(M_\\star$/$M_{\\odot})$ = $9.15^{+0.8}_{-0.95}$, beyond which the measured slope flattens. This finding supports the view that the lack of HI gas is ultimately responsible for the decreasing star formation rate observed in the massive main sequence galaxies. For the spiral galaxies alone, which are biased towards those galaxies with the highest stellar masses in our sample, the slope beyond the transition mass is shallower than for the full sample, indicative of distinct gas processes ongoing for the spirals/high-mass galaxies from other types of galaxies with lower stellar masses. We also observe a moderate evolution of the $M_{\\rm HI}-M_{\\star}$ relation when splitting our samples into two redshift bins over the last billion years, which can largely be attributed to the effect of sample selection and hence highlights the potential of the full MIGHTEE survey. |\n",
       "|<p style=\"color:green\"> **ERROR** </p>| <p style=\"color:green\">affiliation error: mpia.affiliation_verifications: 'Heidelberg' keyword not found.</p> |"
      ],
      "text/plain": [
       "<IPython.core.display.Markdown object>"
      ]
     },
     "metadata": {},
     "output_type": "display_data"
    },
    {
     "data": {
      "text/markdown": [
       "\n",
       "|||\n",
       "|---:|:---|\n",
       "| [![arXiv](https://img.shields.io/badge/arXiv-arXiv:2210.04658-b31b1b.svg)](https://arxiv.org/abs/arXiv:2210.04658) | **Star-forming site RAFGL 5085: Is a perfect candidate of hub-filament  system ?**  |\n",
       "|| L. K. Dewangan, et al. -- incl., <mark>Saurabh Sharma</mark> |\n",
       "|*Appeared on*| *2022-10-11*|\n",
       "|*Comments*| *15 pages, 8 figures; Accepted for publication in Journal of Astrophysics and Astronomy (JOAA)*|\n",
       "|**Abstract**| To investigate the star formation process, we present a multi-wavelength study of a massive star-forming site RAFGL 5085, which has been associated with the molecular outflow, HII region, and near-infrared cluster. The continuum images at 12, 250, 350, and 500 $\\mu$m show a central region (having M$_{\\rm clump}$ $\\sim$225 M$_{\\odot}$) surrounded by five parsec-scale filaments, revealing a hub-filament system (HFS). In the {\\it Herschel} column density ($N({{\\rm{H}}}_{2})$) map, filaments are identified with higher aspect ratios (length/diameter) and lower $N({{\\rm{H}}}_{2})$ values ($\\sim$0.1--2.4 $\\times$10$^{21}$ cm$^{-2}$), while the central hub is found with a lower aspect ratio and higher $N({{\\rm{H}}}_{2})$ values ($\\sim$3.5--7.0 $\\times$10$^{21}$ cm$^{-2}$). The central hub displays a temperature range of [19, 22.5]~K in the {\\it Herschel} temperature map, and is observed with signatures of star formation (including radio continuum emission). The JCMT $^{13}$CO(J= 3--2) line data confirm the presence of the HFS and its hub is traced with supersonic and non-thermal motions having higher Mach number and lower thermal to non-thermal pressure ratio. In the $^{13}$CO position-velocity diagrams, velocity gradients along the filaments toward the HFS appear to be observed, suggesting the gas flow in the RAFGL 5085 HFS and the applicability of the clump-fed scenario. |\n",
       "|<p style=\"color:green\"> **ERROR** </p>| <p style=\"color:green\">affiliation error: mpia.affiliation_verifications: 'Heidelberg' keyword not found.</p> |"
      ],
      "text/plain": [
       "<IPython.core.display.Markdown object>"
      ]
     },
     "metadata": {},
     "output_type": "display_data"
    },
    {
     "data": {
      "text/markdown": [
       "\n",
       "|||\n",
       "|---:|:---|\n",
       "| [![arXiv](https://img.shields.io/badge/arXiv-arXiv:2210.04666-b31b1b.svg)](https://arxiv.org/abs/arXiv:2210.04666) | **The MADPSZ catalogue of Planck clusters over the DES region: extending  to lower mass and higher redshift**  |\n",
       "|| <mark>D. Hernández-Lang</mark>, et al. -- incl., <mark>J. J. Mohr</mark>, <mark>M. Klein</mark>, <mark>C. Lidman</mark> |\n",
       "|*Appeared on*| *2022-10-11*|\n",
       "|*Comments*| *20 pages, 5 Appendices, 17 figures, submitted to MNRAS*|\n",
       "|**Abstract**| We present the first systematic follow-up of Planck Sunyaev-Zeldovich effect (SZE) selected candidates down to signal-to-noise (S/N) of 3 over the 5000 deg$^2$ covered by the Dark Energy Survey. Using the MCMF cluster confirmation algorithm, we identify optical counterparts, determine photometric redshifts and richnesses and assign a parameter, $f_{\\rm cont}$, that reflects the probability that each SZE-optical pairing represents a real cluster rather than a random superposition of physically unassociated systems. The new MADPSZ cluster catalogue consists of 1092 MCMF confirmed clusters and has a purity of 85%. We present the properties of subsamples of the MADPSZ catalogue that have purities ranging from 90% to 97.5%, depending on the adopted $f_{\\rm cont}$ threshold. $M_{500}$ halo mass estimates, redshifts, richnesses, and optical centers are presented for all MADPSZ clusters. The MADPSZ catalogue adds 828 previously unknown Planck identified clusters over the DES footprint and provides redshifts for an additional 50 previously published Planck selected clusters with S/N>4.5. Using the subsample with spectroscopic redshifts, we demonstrate excellent cluster photo-$z$ performance with an RMS scatter in $\\Delta z/(1+z)$ of 0.47%. Our MCMF based analysis allows us to infer the contamination fraction of the initial S/N>3 Planck selected candidate list, which is 50%. We present a method of estimating the completeness of the MADPSZ cluster sample and $f_{\\rm cont}$ selected subsamples. In comparison to the previously published Planck cluster catalogues. this new S/N $>$ 3 MCMF confirmed cluster catalogue populates the lower mass regime at all redshifts and includes clusters up to z$\\sim$1.3. |\n",
       "|<p style=\"color:green\"> **ERROR** </p>| <p style=\"color:green\">affiliation error: mpia.affiliation_verifications: 'Heidelberg' keyword not found.</p> |"
      ],
      "text/plain": [
       "<IPython.core.display.Markdown object>"
      ]
     },
     "metadata": {},
     "output_type": "display_data"
    },
    {
     "data": {
      "text/markdown": [
       "\n",
       "|||\n",
       "|---:|:---|\n",
       "| [![arXiv](https://img.shields.io/badge/arXiv-arXiv:2210.04785-b31b1b.svg)](https://arxiv.org/abs/arXiv:2210.04785) | **TRAPUM upper limits on pulsed radio emission for SMC X-ray pulsar  J0058-7218**  |\n",
       "|| E. Carli, et al. -- incl., <mark>M. Kramer</mark> |\n",
       "|*Appeared on*| *2022-10-11*|\n",
       "|*Comments*| *7 pages, 2 figures, 1 table. Accepted for publication in Monthly Notices of the Royal Astronomical Society*|\n",
       "|**Abstract**| The TRAPUM collaboration has used the MeerKAT telescope to conduct a search for pulsed radio emission from the young Small Magellanic Cloud pulsar J0058-7218 located in the supernova remnant IKT 16, following its discovery in X-rays with XMM-Newton. We report no significant detection of dispersed, pulsed radio emission from this source in three 2-hour L-band observations using the core dishes of MeerKAT, setting an upper limit of 7.0 {\\mu}Jy on its mean flux density at 1284 MHz. This is nearly 7 times deeper than previous radio searches for this pulsar in Parkes L-band observations. This suggests that the radio emission of PSR J0058-7218 is not beamed towards Earth or that PSR J0058-7218 is similar to a handful of Pulsar Wind Nebulae systems that have a very low radio efficiency, such as PSR B0540-6919, the Large Magellanic Cloud Crab pulsar analogue. We have also searched for bright, dispersed, single radio pulses and found no candidates above a fluence of 93 mJy ms at 1284 MHz. |\n",
       "|<p style=\"color:green\"> **ERROR** </p>| <p style=\"color:green\">affiliation error: mpia.affiliation_verifications: 'Heidelberg' keyword not found.</p> |"
      ],
      "text/plain": [
       "<IPython.core.display.Markdown object>"
      ]
     },
     "metadata": {},
     "output_type": "display_data"
    },
    {
     "data": {
      "text/markdown": [
       "\n",
       "|||\n",
       "|---:|:---|\n",
       "| [![arXiv](https://img.shields.io/badge/arXiv-arXiv:2210.04786-b31b1b.svg)](https://arxiv.org/abs/arXiv:2210.04786) | **MUSE crowded field 3D spectroscopy in NGC 300 III. Characterizing  extremely faint HII regions and diffuse ionized gas**  |\n",
       "|| Genoveva Micheva, et al. -- incl., <mark>Martin M. Roth</mark> |\n",
       "|*Appeared on*| *2022-10-11*|\n",
       "|*Comments*| *Accepted in A&A*|\n",
       "|**Abstract**| There are known differences between the physical properties of HII and diffuse ionized gas (DIG), but most of the studied regions in the literature are relatively bright. We compiled a faint sample of 390 HII regions with median $\\log_{10}H\\alpha$=34.7 in the spiral galaxy NGC300, derived their physical properties in terms of metallicity, density, extinction, and kinematics, and performed a comparative analysis of the properties of the DIG. We used MUSE data of nine fields in NGC300, covering a galactocentric distance of zero to ~450 arcsec (~4 projected kpc), including spiral arm and inter-arm regions. We binned the data in dendrogram leaves and extracted all strong nebular emission lines. We identified HII and DIG regions and compared their electron densities, metallicity, extinction, and kinematic properties. We also tested the effectiveness of unsupervised machine-learning algorithms in distinguishing between the HII and DIG regions. The gas density in the HII and DIG regions is close to the low-density limit in all fields. The average velocity dispersion in the DIG is higher than in the HII regions, which can be explained by the DIG being 1.8 kK hotter than HII gas. The DIG manifests a lower ionization parameter than HII gas, and the DIG fractions vary between 15-77%, with strong evidence of a contribution by hot low-mass evolved stars and shocks to the DIG ionization. Most of the DIG is consistent with no extinction and an oxygen metallicity that is indistinguishable from that of the HII gas.We observe a flat metallicity profile in the central region, without a sign of a gradient. The differences between extremely faint HII and DIG regions follow the same trends and correlations as their much brighter cousins. HII and DIG are so heterogeneous, however, that the differences within each class are larger than the differences between the two classes. |\n",
       "|<p style=\"color:green\"> **ERROR** </p>| <p style=\"color:green\">affiliation error: mpia.affiliation_verifications: 'Heidelberg' keyword not found.</p> |"
      ],
      "text/plain": [
       "<IPython.core.display.Markdown object>"
      ]
     },
     "metadata": {},
     "output_type": "display_data"
    },
    {
     "data": {
      "text/markdown": [
       "\n",
       "|||\n",
       "|---:|:---|\n",
       "| [![arXiv](https://img.shields.io/badge/arXiv-arXiv:2210.04000-b31b1b.svg)](https://arxiv.org/abs/arXiv:2210.04000) | **Prospects for Constraining interacting dark energy cosmology with  gravitational-wave bright sirens detected by future SKA-era pulsar timing  arrays**  |\n",
       "|| Bo Wang, <mark>Dong-Ze He</mark>, <mark>Hai-Li Li</mark>, <mark>Yi Zhang</mark> |\n",
       "|*Appeared on*| *2022-10-11*|\n",
       "|*Comments*| **|\n",
       "|**Abstract**| Pulsar timing arrays (PTAs) have the potential to detect Nanohertz gravitational waves (GWs) that are usually generated by the individual inspiraling supermassive black hole binaries (SMBHBs) in the galactic centers. The GW signals as cosmological standard sirens can provide the absolute cosmic distances, thereby can be used to constrain the cosmological parameters. In this paper, we analyze the ability of future SKA-era PTAs to detect the existing SMBHBs candidates assuming the root mean square of timing noise $\\sigma_t=20\\ {\\rm ns}$, and use the simulated PTA data to constrain the interacting dark energy (IDE) models with energy transfer rate $Q = \\beta H\\rho_c$. We find that, the future SKA-era PTAs will play an important role in constraining the IDE cosmology. Using only the mock PTA data consisting of 100 pulsars, we obtain $\\sigma(H_0)=0.239\\ {\\rm km} \\ {\\rm s}^{-1} {\\rm Mpc}^{-1}$ and $\\sigma(\\Omega_m)=0.0103$ in the I$\\Lambda$CDM model, which are much better than the results from the Planck TT, TE, EE+lowE. However, the PTA data cannot provide a tight constraint on the coupling parameter $\\beta$ compared with Planck, but the data combination of Planck+PTA can provide a rather tight constraint, i.e., $\\sigma(\\beta)=0.00232$, since the PTA data could break the parameter degeneracies inherent in CMB. In the I$w$CDM model, we obtain $\\sigma(\\beta)=0.00137$ and $\\sigma(w)=0.0492$ from the Planck+PTA data combination. In addition, we also find that with the increase of the number of pulsars in PTA, the constraint results from the Planck+PTA will be further improved to some extent. We show that the observations of Nanohertz GWs with future SKA-era PTAs will provide a powerful tool for exploring the nature of dark energy and measuring the coupling between dark energy and dark matter. |\n",
       "|<p style=\"color:red\"> **ERROR** </p>| <p style=\"color:red\">latex error 'utf-8' codec can't decode byte 0xb2 in position 34292: invalid start byte</p> |"
      ],
      "text/plain": [
       "<IPython.core.display.Markdown object>"
      ]
     },
     "metadata": {},
     "output_type": "display_data"
    },
    {
     "data": {
      "text/markdown": [
       "\n",
       "|||\n",
       "|---:|:---|\n",
       "| [![arXiv](https://img.shields.io/badge/arXiv-arXiv:2210.03764-b31b1b.svg)](https://arxiv.org/abs/arXiv:2210.03764) | **VLBA reveals the absence of a compact radio core in the radio  intermediate quasar J2242+0334 at z =5.9**  |\n",
       "|| <mark>Yuanqi Liu</mark>, et al. -- incl., <mark>Yingkang Zhang</mark> |\n",
       "|*Appeared on*| *2022-10-11*|\n",
       "|*Comments*| *6 pages, 1 figure, accepted for publication in ApJL*|\n",
       "|**Abstract**| High-resolution imaging is crucial for exploring the origin and mechanism of radio emission in quasars, especially at high redshifts. We present 1.5 GHz Very Long Baseline Array (VLBA) images of the radio continuum emission from the radio-intermediate quasar (RIQ) J2242+0334 at $z = 5.9$. This object was previously detected at both 1.5 GHz and 3 GHz with the Karl G. Jansky Very Large Array (VLA) as a point source. However, there is no clear detection in the VLBA images at both the full resolution of 10.7 milliarcsecond (mas) $\\times$ 4.5 mas (61.7 pc $\\times$ 26.0 pc) and a tapered resolution of 26 mas $\\times$ 21 mas (150 pc $\\times$ 121 pc). This suggests that the radio emission from the quasar is diffuse on mas scales with surface brightness fainter than the $3\\sigma$ detection limit of 40.5 $\\mu \\rm Jy \\ beam^{-1}$ in the full resolution image. The radio emission in the RIQ J2242+0334 is likely to be wind-like (i.e., diffuse) rather than in the form of collimated jets. This is different from the previous radio detections of the most luminous quasars at $z \\sim$6 which are usually dominated by compact, high brightness temperature radio sources. Meanwhile, compared with RIQs at low redshifts, the case of J2242+0334 suggests that not all RIQs are beamed radio-quiet quasars. This optically faint RIQ provides an important and unique example to investigate the radio activity in the less powerful active galactic nuclei at the earliest cosmic epoch. |\n",
       "|<p style=\"color:red\"> **ERROR** </p>| <p style=\"color:red\">latex error list index out of range</p> |"
      ],
      "text/plain": [
       "<IPython.core.display.Markdown object>"
      ]
     },
     "metadata": {},
     "output_type": "display_data"
    },
    {
     "data": {
      "text/markdown": [
       "\n",
       "|||\n",
       "|---:|:---|\n",
       "| [![arXiv](https://img.shields.io/badge/arXiv-arXiv:2210.03873-b31b1b.svg)](https://arxiv.org/abs/arXiv:2210.03873) | **The Solar Neighborhood L: Spectroscopic Discovery of K Dwarfs Younger  than 1 Gyr and New Binaries within 30 Parsecs**  |\n",
       "|| Hodari-Sadiki Hubbard-James, et al. -- incl., <mark>Todd J. Henry</mark> |\n",
       "|*Appeared on*| *2022-10-11*|\n",
       "|*Comments*| *Accepted for publication in the Astronomical Journal. this https URL*|\n",
       "|**Abstract**| As part of a comprehensive effort to characterize the nearest stars, the CHIRON echelle spectrograph on the CTIO/SMARTS 1.5m telescope is being used to acquire high resolution (R = 80000) spectra of K dwarfs within 50 parsecs. This paper provides spectral details about 35 K dwarfs from five benchmark sets with estimated ages spanning 20 Myr -- 5.7 Gyr. Four spectral age and activity indicators are tested, three of which aligned with the estimated ages of the benchmark groups -- the Na I doublet (5889.95 $\\r{A}$ and 5895.92 $\\r{A}$), the H$\\alpha$ line (6562.8 $\\r{A}$), and the Li I resonance line (6707.8 $\\r{A}$). The benchmark stars are then used to evaluate seven field K dwarfs exhibiting variable radial velocities for which initial CHIRON data did not show obvious companions. Two of these stars are estimated to be younger than 700 Myr, while one exhibits stellar activity unusual for older K dwarf field stars and is possibly young. The four remaining stars turn out to be spectroscopic binaries, two of which are being reported here for the first time with orbital periods found using CHIRON data. Spectral analysis of the combined sample of 42 benchmark and variable radial velocity stars indicates temperatures ranging from 3900--5300 K and metallicities from $-$0.4 $<$ [Fe/H] $<$ $+$0.2. We also determine $log g$ = 4.5--4.7 for main sequence K dwarfs. Ultimately, this study will target several thousand of the nearest K dwarfs, and provide results that will serve present and future studies of stellar astrophysics and exoplanet habitability. |\n",
       "|<p style=\"color:red\"> **ERROR** </p>| <p style=\"color:red\">latex error not a gzip file</p> |"
      ],
      "text/plain": [
       "<IPython.core.display.Markdown object>"
      ]
     },
     "metadata": {},
     "output_type": "display_data"
    },
    {
     "data": {
      "text/markdown": [
       "\n",
       "|||\n",
       "|---:|:---|\n",
       "| [![arXiv](https://img.shields.io/badge/arXiv-arXiv:2210.04316-b31b1b.svg)](https://arxiv.org/abs/arXiv:2210.04316) | **In-flight radiometric calibration of the ExoMars TGO Colour and Stereo  Surface Imaging System**  |\n",
       "|| Antoine Pommerol, et al. -- incl., <mark>Livio L. Tornabene</mark> |\n",
       "|*Appeared on*| *2022-10-11*|\n",
       "|*Comments*| **|\n",
       "|**Abstract**| The Colour and Stereo Surface Science Imaging System (CaSSIS) of the ExoMars Trace Gas Orbiter returns on average twenty images per day of the Martian surface, most of them in 3 or 4 colours and some of them in stereo. CaSSIS uses a push-frame approach to acquire colour images, with four bandpass filters deposited directly above the sensor and an imaging cadence synchronized with the ground track velocity to cover the imaged area with tens of small, partially overlapping images. These \"framelets\" are later map-projected and mosaicked to build the final image. This approach offers both advantages and challenges in terms of radiometric calibration. While the collection of dark and flatfield frames is considerably enhanced by the frequent and fast acquisition of tens of successive images, mosaics assembled from the adjacent framelets highlight the straylight and changes in the bias of the detector. Both issues have been identified on CaSSIS images, with low intensities overall (up to a few percents), but sufficient to generate prominent artefacts on the final assembled colour images. We have therefore developed methods to correct these artefacts that are now included into the radiometric calibration pipeline. We detail here the different steps of the calibration procedure and the generation of the products used for calibration, and discuss the efficacy of the corrections. The relative uncertainties on the bias and flatfield frames are low, of the order of 0.2 and 0.1 percents, respectively. The uncertainty on the absolute radiometric calibration is of 3 percents, which is quite low for such an instrument. The straylight adds an estimated about 1 percent error to the absolute calibration. The residuals after corrections of the straylight and bias offsets are of the order of a few DNs to tens of DNs. |\n",
       "|<p style=\"color:red\"> **ERROR** </p>| <p style=\"color:red\">latex error not a gzip file</p> |"
      ],
      "text/plain": [
       "<IPython.core.display.Markdown object>"
      ]
     },
     "metadata": {},
     "output_type": "display_data"
    }
   ],
   "source": [
    "import datetime\n",
    "today = str(datetime.date.today())\n",
    "logfile = f\"_build/html/logs/log-{today}.md\"\n",
    "\n",
    "\n",
    "with open(logfile, 'w') as logs:\n",
    "    # Success\n",
    "    logs.write(f'# Arxiv on Deck 2: Logs - {today}\\n\\n')\n",
    "    logs.write(\"\"\"* Arxiv had {0:,d} new papers\\n\"\"\".format(len(new_papers)))\n",
    "    logs.write(\"\"\"    * {0:,d} with possible author matches\\n\\n\"\"\".format(len(candidates)))\n",
    "    logs.write(\"## Sucessful papers\\n\\n\")\n",
    "    display(Markdown(\"## Successful papers\"))\n",
    "    success = [k[0] for k in documents]\n",
    "    for candid in candidates:\n",
    "        if candid['identifier'].split(':')[-1] in success:\n",
    "            display(candid)\n",
    "            logs.write(candid.generate_markdown_text() + '\\n\\n')\n",
    "\n",
    "    ## failed\n",
    "    logs.write(\"## Failed papers\\n\\n\")\n",
    "    display(Markdown(\"## Failed papers\"))\n",
    "    failed = sorted(failed, key=lambda x: x[1])\n",
    "    current_reason = \"\"\n",
    "    for paper, reason in failed:\n",
    "        if 'affiliation' in reason:\n",
    "            color = 'green'\n",
    "        else:\n",
    "            color = 'red'\n",
    "        data = Markdown(\n",
    "                paper.generate_markdown_text() + \n",
    "                f'\\n|<p style=\"color:{color:s}\"> **ERROR** </p>| <p style=\"color:{color:s}\">{reason:s}</p> |'\n",
    "               )\n",
    "        if reason != current_reason:\n",
    "            logs.write(f'### {reason:s} \\n\\n')\n",
    "            current_reason = reason\n",
    "        logs.write(data.data + '\\n\\n')\n",
    "        \n",
    "        # only display here the important errors (all in logs)\n",
    "        # if color in ('red',):\n",
    "        display(data)"
   ]
  },
  {
   "cell_type": "markdown",
   "id": "472d20ee",
   "metadata": {
    "papermill": {
     "duration": 0.014235,
     "end_time": "2022-10-11T05:15:32.506858",
     "exception": false,
     "start_time": "2022-10-11T05:15:32.492623",
     "status": "completed"
    },
    "tags": []
   },
   "source": [
    "## Export documents\n",
    "\n",
    "We now write the .md files and export relevant images"
   ]
  },
  {
   "cell_type": "code",
   "execution_count": 7,
   "id": "d426aed9",
   "metadata": {
    "execution": {
     "iopub.execute_input": "2022-10-11T05:15:32.536498Z",
     "iopub.status.busy": "2022-10-11T05:15:32.535940Z",
     "iopub.status.idle": "2022-10-11T05:15:32.543241Z",
     "shell.execute_reply": "2022-10-11T05:15:32.542703Z"
    },
    "papermill": {
     "duration": 0.023929,
     "end_time": "2022-10-11T05:15:32.544672",
     "exception": false,
     "start_time": "2022-10-11T05:15:32.520743",
     "status": "completed"
    },
    "tags": []
   },
   "outputs": [],
   "source": [
    "def export_markdown_summary(md: str, md_fname:str, directory: str):\n",
    "    \"\"\"Export MD document and associated relevant images\"\"\"\n",
    "    import os\n",
    "    import shutil\n",
    "    import re\n",
    "\n",
    "    if (os.path.exists(directory) and not os.path.isdir(directory)):\n",
    "        raise RuntimeError(f\"a non-directory file exists with name {directory:s}\")\n",
    "\n",
    "    if (not os.path.exists(directory)):\n",
    "        print(f\"creating directory {directory:s}\")\n",
    "        os.mkdir(directory)\n",
    "\n",
    "    fig_fnames = (re.compile(r'\\[Fig.*\\]\\((.*)\\)').findall(md) + \n",
    "                  re.compile(r'\\<img src=\"([^>\\s]*)\"[^>]*/>').findall(md))\n",
    "    for fname in fig_fnames:\n",
    "        if 'http' in fname:\n",
    "            # No need to copy online figures\n",
    "            continue\n",
    "        destdir = os.path.join(directory, os.path.dirname(fname))\n",
    "        destfname = os.path.join(destdir, os.path.basename(fname))\n",
    "        try:\n",
    "            os.makedirs(destdir)\n",
    "        except FileExistsError:\n",
    "            pass\n",
    "        shutil.copy(fname, destfname)\n",
    "    with open(os.path.join(directory, md_fname), 'w') as fout:\n",
    "        fout.write(md)\n",
    "    print(\"exported in \", os.path.join(directory, md_fname))\n",
    "    [print(\"    + \" + os.path.join(directory,fk)) for fk in fig_fnames]"
   ]
  },
  {
   "cell_type": "code",
   "execution_count": 8,
   "id": "014d04a4",
   "metadata": {
    "execution": {
     "iopub.execute_input": "2022-10-11T05:15:32.574111Z",
     "iopub.status.busy": "2022-10-11T05:15:32.573687Z",
     "iopub.status.idle": "2022-10-11T05:15:32.579513Z",
     "shell.execute_reply": "2022-10-11T05:15:32.578863Z"
    },
    "papermill": {
     "duration": 0.022261,
     "end_time": "2022-10-11T05:15:32.580971",
     "exception": false,
     "start_time": "2022-10-11T05:15:32.558710",
     "status": "completed"
    },
    "tags": []
   },
   "outputs": [
    {
     "name": "stdout",
     "output_type": "stream",
     "text": [
      "exported in  _build/html/2210.04721.md\n",
      "    + _build/html/tmp_2210.04721/./compare_spectra_ug.png\n",
      "    + _build/html/tmp_2210.04721/./mtype_synth.png\n",
      "    + _build/html/tmp_2210.04721/./compare_nodes_gir.png\n"
     ]
    }
   ],
   "source": [
    "for paper_id, md in documents:\n",
    "    export_markdown_summary(md, f\"{paper_id:s}.md\", '_build/html/')"
   ]
  },
  {
   "cell_type": "markdown",
   "id": "f087a0a7",
   "metadata": {
    "papermill": {
     "duration": 0.014028,
     "end_time": "2022-10-11T05:15:32.609190",
     "exception": false,
     "start_time": "2022-10-11T05:15:32.595162",
     "status": "completed"
    },
    "tags": []
   },
   "source": [
    "## Display the papers\n",
    "\n",
    "Not necessary but allows for a quick check."
   ]
  },
  {
   "cell_type": "code",
   "execution_count": 9,
   "id": "fd25f625",
   "metadata": {
    "execution": {
     "iopub.execute_input": "2022-10-11T05:15:32.639008Z",
     "iopub.status.busy": "2022-10-11T05:15:32.638429Z",
     "iopub.status.idle": "2022-10-11T05:15:32.643700Z",
     "shell.execute_reply": "2022-10-11T05:15:32.643060Z"
    },
    "papermill": {
     "duration": 0.022006,
     "end_time": "2022-10-11T05:15:32.645217",
     "exception": false,
     "start_time": "2022-10-11T05:15:32.623211",
     "status": "completed"
    },
    "scrolled": false,
    "tags": []
   },
   "outputs": [
    {
     "data": {
      "text/markdown": [
       "<div class=\"macros\" style=\"visibility:hidden;\">\n",
       "$\\newcommand{\\ensuremath}{}$\n",
       "$\\newcommand{\\xspace}{}$\n",
       "$\\newcommand{\\object}[1]{\\texttt{#1}}$\n",
       "$\\newcommand{\\farcs}{{.}''}$\n",
       "$\\newcommand{\\farcm}{{.}'}$\n",
       "$\\newcommand{\\arcsec}{''}$\n",
       "$\\newcommand{\\arcmin}{'}$\n",
       "$\\newcommand{\\ion}[2]{#1#2}$\n",
       "$\\newcommand{\\textsc}[1]{\\textrm{#1}}$\n",
       "$\\newcommand{\\hl}[1]{\\textrm{#1}}$</div>\n",
       "\n",
       "<div class=\"macros\" style=\"visibility:hidden;\">\n",
       "$\\newcommand{$\\ensuremath$}{}$\n",
       "$\\newcommand{$\\xspace$}{}$\n",
       "$\\newcommand{$\\object$}[1]{\\texttt{#1}}$\n",
       "$\\newcommand{$\\farcs$}{{.}''}$\n",
       "$\\newcommand{$\\farcm$}{{.}'}$\n",
       "$\\newcommand{$\\arcsec$}{''}$\n",
       "$\\newcommand{$\\arcmin$}{'}$\n",
       "$\\newcommand{$\\ion$}[2]{#1#2}$\n",
       "$\\newcommand{$\\textsc$}[1]{\\textrm{#1}}$\n",
       "$\\newcommand{$\\hl$}[1]{\\textrm{#1}}$</div>\n",
       "\n",
       "\n",
       "\n",
       "<div id=\"title\">\n",
       "\n",
       "# Tables A.1--A.3 are fully available in electronic form at theCDS via anonymous ftp to cdsarc.u-strasbg.fr (130.79.128.5) or viahttp://cdsweb.u-strasbg.fr/cgi-bin/qcat?J/A+A/\n",
       "\n",
       "</div>\n",
       "<div id=\"comments\">\n",
       "\n",
       "[![arXiv](https://img.shields.io/badge/arXiv-2210.04721-b31b1b.svg)](https://arxiv.org/abs/2210.04721)<mark>Appeared on: 2022-10-11</mark> - _15 pages, 15 figures. Accepted by Astronomy & Astrophysics_\n",
       "\n",
       "</div>\n",
       "<div id=\"authors\">\n",
       "\n",
       "E. Franciosini, et al. -- incl., <mark><mark>K. Lind</mark></mark>, <mark><mark>G. Guiglion</mark></mark>, <mark><mark>E.J. Alfaro</mark></mark>, <mark><mark>M. Bergemann</mark></mark>, <mark><mark>U. Heiter</mark></mark>, <mark><mark>J. Lewis</mark></mark>\n",
       "\n",
       "</div>\n",
       "<div id=\"abstract\">\n",
       "\n",
       "**Abstract:** The Gaia-ESO Survey (GES) is a large public spectroscopic survey that wascarried out using the multi-object FLAMES spectrograph at the Very LargeTelescope. The survey provides accurate radial velocities, stellarparameters, and elemental abundances for$\\sim$115 000 stars in all MilkyWay components.In this paper we describe the method adopted in the final data release toderive lithium equivalent widths (EWs) and abundances.Lithium EWs were measured using two different approaches for FGK and M-typestars, to account for the intrinsic differences in the spectra. For FGKstars, we fitted the lithium line using Gaussian components, while directintegration over a predefined interval was adopted for M-type stars. Carewas taken to ensure continuity between the two regimes. Abundances werederived using a new set of homogeneous curves of growth that were derivedspecifically for GES, and which were measured on a synthetic spectral gridconsistently with the way the EWs were measured. The derived abundances werevalidated by comparison with those measured by other analysis groups usingdifferent methods.Lithium EWs were measured for$\\sim$40 000 stars, and abundances couldbe derived for$\\sim$38 000 of them. The vast majority of the measures(80\\%) have been obtained for stars in open cluster fields. The remainingobjects are stars in globular clusters, or field stars in the Milky Waydisc, bulge, and halo.The GES dataset of homogeneous lithium abundances described here will bevaluable for our understanding of several processes, from stellar evolutionand internal mixing in stars at different evolutionary stages to Galacticevolution.\n",
       "\n",
       "</div>\n",
       "\n",
       "<div id=\"div_fig1\">\n",
       "\n",
       "<img src=\"tmp_2210.04721/./compare_spectra_ug.png\" alt=\"Fig1\" width=\"100%\"/>\n",
       "\n",
       "**Figure 1. -** UVES (black, S/N=119) and Giraffe (orange, S/N=223) spectra of the\n",
       "giant star 07380545+2136507 which was observed with both instruments. The\n",
       "vertical green and blue dashed lines mark the positions of the lithium\n",
       "doublet and of the 6707.4 \\AA  iron line, respectively. (*fig:compare_ug*)\n",
       "\n",
       "</div>\n",
       "<div id=\"div_fig2\">\n",
       "\n",
       "<img src=\"tmp_2210.04721/./mtype_synth.png\" alt=\"Fig4\" width=\"100%\"/>\n",
       "\n",
       "**Figure 4. -** Synthetic spectra of M-type dwarf stars with $T_\\mathrm{eff}=4000$,\n",
       "3600 and 3200 K (from top to bottom), $\\log g=4.5$ and solar metallicity, at\n",
       "the Giraffe resolution. Spectra are plotted for $A\\mathrm{(Li)}=-1.0$(black\n",
       "line), 0.0 (red line), $+1.0$(green line), and $+3.0$(blue line). The\n",
       "vertical dotted line shows the mean position of the lithium doublet. (*fig:mtype_synt*)\n",
       "\n",
       "</div>\n",
       "<div id=\"div_fig3\">\n",
       "\n",
       "<img src=\"tmp_2210.04721/./compare_nodes_gir.png\" alt=\"Fig8\" width=\"100%\"/>\n",
       "\n",
       "**Figure 8. -** Comparison between the abundances derived by Arcetri with those\n",
       "derived by other nodes as a function of $T_\\mathrm{eff}$, for stars observed\n",
       "with Giraffe. The plotted differences $\\Delta A(\\mathrm{Li})$ are computed\n",
       "as the other node minus Arcetri, and are colour-coded by the Arcetri\n",
       "abundance. Only stars with detections in both nodes are plotted. The\n",
       "3-$\\sigma$ clipped average and standard deviation of the abundance\n",
       "differences are indicated in the respective panels. (*fig:comp_gir*)\n",
       "\n",
       "</div>"
      ],
      "text/plain": [
       "<IPython.core.display.Markdown object>"
      ]
     },
     "metadata": {},
     "output_type": "display_data"
    }
   ],
   "source": [
    "[display(Markdown(k[1])) for k in documents];"
   ]
  },
  {
   "cell_type": "markdown",
   "id": "873873a4",
   "metadata": {
    "papermill": {
     "duration": 0.014188,
     "end_time": "2022-10-11T05:15:32.673660",
     "exception": false,
     "start_time": "2022-10-11T05:15:32.659472",
     "status": "completed"
    },
    "tags": []
   },
   "source": [
    "# Create HTML index"
   ]
  },
  {
   "cell_type": "code",
   "execution_count": 10,
   "id": "cf665672",
   "metadata": {
    "execution": {
     "iopub.execute_input": "2022-10-11T05:15:32.731171Z",
     "iopub.status.busy": "2022-10-11T05:15:32.730592Z",
     "iopub.status.idle": "2022-10-11T05:15:32.739402Z",
     "shell.execute_reply": "2022-10-11T05:15:32.738776Z"
    },
    "papermill": {
     "duration": 0.052798,
     "end_time": "2022-10-11T05:15:32.740820",
     "exception": false,
     "start_time": "2022-10-11T05:15:32.688022",
     "status": "completed"
    },
    "tags": []
   },
   "outputs": [
    {
     "name": "stdout",
     "output_type": "stream",
     "text": [
      "59  publications in the last 7 days.\n",
      "\t _build/html/2210.04721.md\n",
      "\t _build/html/2210.03615.md\n",
      "\t _build/html/2210.01811.md\n",
      "\t _build/html/2210.01809.md\n",
      "\t _build/html/2210.01556.md\n",
      "\t _build/html/2210.00863.md\n",
      "\t _build/html/2210.00560.md\n",
      "\t _build/html/2209.15403.md\n",
      "\t _build/html/2209.15110.md\n",
      "\t _build/html/2209.14410.md\n",
      "\t _build/html/2209.14396.md\n",
      "\t _build/html/2209.13717.md\n",
      "\t _build/html/2209.13336.md\n",
      "\t _build/html/2209.12906.md\n",
      "\t _build/html/2209.11781.md\n",
      "\t _build/html/2209.11602.md\n",
      "\t _build/html/2209.11248.md\n",
      "\t _build/html/2209.11096.md\n",
      "\t _build/html/2209.10618.md\n",
      "\t _build/html/2209.09914.md\n",
      "\t _build/html/2209.09823.md\n",
      "\t _build/html/2209.08242.md\n",
      "\t _build/html/2209.08120.md\n",
      "\t _build/html/2209.08106.md\n",
      "\t _build/html/2209.07962.md\n",
      "\t _build/html/2209.07931.md\n",
      "\t _build/html/2209.06833.md\n",
      "\t _build/html/2209.05814.md\n",
      "\t _build/html/2209.05593.md\n",
      "\t _build/html/2209.04304.md\n",
      "\t _build/html/2209.03367.md\n",
      "\t _build/html/2209.02872.md\n",
      "\t _build/html/2209.02725.md\n",
      "\t _build/html/2209.02722.md\n",
      "\t _build/html/2209.02092.md\n",
      "\t _build/html/2209.01125.md\n",
      "\t _build/html/2209.00828.md\n",
      "\t _build/html/2209.00363.md\n",
      "\t _build/html/2208.14927.md\n",
      "\t _build/html/2208.09335.md\n",
      "\t _build/html/2208.08872.md\n",
      "\t _build/html/2204.06393.md\n",
      "\t _build/html/2204.03335.md\n",
      "\t _build/html/2204.03253.md\n",
      "\t _build/html/2204.02998.md\n",
      "\t _build/html/2204.02109.md\n",
      "\t _build/html/2204.02017.md\n",
      "\t _build/html/2204.01824.md\n",
      "\t _build/html/2204.01758.md\n",
      "\t _build/html/2204.01245.md\n",
      "\t _build/html/2204.00793.md\n",
      "\t _build/html/2204.00342.md\n",
      "\t _build/html/2203.16959.md\n",
      "\t _build/html/2203.16856.md\n",
      "\t _build/html/2203.16735.md\n",
      "\t _build/html/2203.16734.md\n",
      "\t _build/html/2203.16504.md\n",
      "\t _build/html/2203.15822.md\n",
      "\t _build/html/2203.15811.md\n"
     ]
    }
   ],
   "source": [
    "from datetime import datetime, timedelta, timezone\n",
    "from glob import glob\n",
    "\n",
    "files = glob('_build/html/*.md')\n",
    "days = 7\n",
    "now = datetime.today()\n",
    "res = []\n",
    "for fk in files:\n",
    "    stat_result = os.stat(fk).st_ctime\n",
    "    modified = datetime.fromtimestamp(stat_result, tz=timezone.utc).replace(tzinfo=None)\n",
    "    delta = now.today() - modified\n",
    "    if delta <= timedelta(days=days):\n",
    "        res.append((delta.seconds, fk))\n",
    "res = [k[1] for k in reversed(sorted(res, key=lambda x:x[1]))]\n",
    "npub = len(res)\n",
    "print(len(res), f\" publications in the last {days:d} days.\")\n",
    "[ print('\\t', k) for k in res ];"
   ]
  },
  {
   "cell_type": "code",
   "execution_count": 11,
   "id": "52ca0208",
   "metadata": {
    "execution": {
     "iopub.execute_input": "2022-10-11T05:15:32.771273Z",
     "iopub.status.busy": "2022-10-11T05:15:32.770583Z",
     "iopub.status.idle": "2022-10-11T05:15:32.777095Z",
     "shell.execute_reply": "2022-10-11T05:15:32.776525Z"
    },
    "papermill": {
     "duration": 0.023166,
     "end_time": "2022-10-11T05:15:32.778454",
     "exception": false,
     "start_time": "2022-10-11T05:15:32.755288",
     "status": "completed"
    },
    "scrolled": false,
    "tags": []
   },
   "outputs": [],
   "source": [
    "def create_carousel(npub=4):\n",
    "    \"\"\" Generate the HTML code for a carousel with `npub` slides \"\"\"\n",
    "    carousel = [\"\"\"<section class=\"carousel\" aria-label=\"Gallery\">\"\"\",\n",
    "                \"\"\"  <ol class=\"carousel__viewport\">\"\"\",\n",
    "    ]\n",
    "    for k in range(1, npub + 1):\n",
    "        prev_ = k - 1\n",
    "        next_ = k + 1\n",
    "        if prev_ <= 0:\n",
    "            prev_ = npub\n",
    "        if next_ > npub:\n",
    "            next_ = 1\n",
    "        text  = f\"\"\"    <li id=\"carousel__slide{k}\" tabindex=\"0\" class=\"carousel__slide\">\\n\"\"\"\n",
    "        text += f\"\"\"       <div class=\"carousel__snapper\">\\n\"\"\"\n",
    "        text += f\"\"\"         <a href=\"#carousel__slide{prev_}\" class=\"carousel__prev\">Go to previous slide</a>\\n\"\"\"\n",
    "        text += f\"\"\"         <a href=\"#carousel__slide{next_}\" class=\"carousel__next\">Go to next slide</a>\\n\"\"\"\n",
    "        text += f\"\"\"         <div id=\"slide{k}_content\" class=\"md_view\" >Content {k}</div>\\n\"\"\"\n",
    "        text += f\"\"\"       </div>\\n\"\"\"\n",
    "        text += f\"\"\"    </li>\"\"\"\n",
    "        carousel.append(text)\n",
    "\n",
    "    carousel.extend([\n",
    "        \"\"\"  </ol>\"\"\",\n",
    "        \"\"\"  <aside class=\"carousel__navigation\">\"\"\",\n",
    "        \"\"\"    <ol class=\"carousel__navigation-list\">\"\"\"])\n",
    "\n",
    "    for k in range(1, npub + 1):\n",
    "        text  = f\"\"\"      <li class=\"carousel__navigation-item\">\\n\"\"\"\n",
    "        text += f\"\"\"        <a href=\"#carousel__slide{k}\" class=\"carousel__navigation-button\">Go to {k}</a>\\n\"\"\"\n",
    "        text += f\"\"\"      </li>\"\"\"\n",
    "        carousel.append(text)\n",
    "    carousel.extend([\"\"\"    </ol>\"\"\", \"\"\"  </aside>\"\"\", \"\"\"</section>\"\"\"])\n",
    "\n",
    "    return '\\n'.join(carousel)"
   ]
  },
  {
   "cell_type": "code",
   "execution_count": 12,
   "id": "a6eac5b6",
   "metadata": {
    "execution": {
     "iopub.execute_input": "2022-10-11T05:15:32.808334Z",
     "iopub.status.busy": "2022-10-11T05:15:32.808105Z",
     "iopub.status.idle": "2022-10-11T05:15:32.814155Z",
     "shell.execute_reply": "2022-10-11T05:15:32.813595Z"
    },
    "papermill": {
     "duration": 0.022949,
     "end_time": "2022-10-11T05:15:32.815596",
     "exception": false,
     "start_time": "2022-10-11T05:15:32.792647",
     "status": "completed"
    },
    "scrolled": false,
    "tags": []
   },
   "outputs": [],
   "source": [
    "carousel = create_carousel(npub)\n",
    "docs = ', '.join(['\"{0:s}\"'.format(k.split('/')[-1]) for k in res])\n",
    "slides = ', '.join([f'\"slide{k}_content\"' for k in range(1, npub + 1)])\n",
    "\n",
    "script = f\"\"\"\n",
    "const docs = [{docs}]\n",
    "\n",
    "const slides = [{slides}]\n",
    "\"\"\" + \"\"\"\n",
    "async function run() {\n",
    "    for (let i = 0; i < docs.length; i++) {\n",
    "        let file = await fetch(docs[i]);\n",
    "        let text = await file.text()\n",
    "        document.getElementById(slides[i]).innerHTML =\n",
    "            marked.parse(text);\n",
    "    }\n",
    "    hljs.highlightAll();\n",
    "}\n",
    "run()\n",
    "\"\"\"\n",
    "\n",
    "page = f\"\"\"<!doctype html>\n",
    "<html lang=\"en\">\n",
    "\n",
    "<head>\n",
    "  <meta charset=\"utf-8\">\n",
    "  <meta name=\"viewport\" content=\"width=device-width, initial-scale=1\">\n",
    "  <!-- Bootstrap CSS -->\n",
    "  <link href=\"https://cdn.jsdelivr.net/npm/bootstrap@5.0.2/dist/css/bootstrap.min.css\" rel=\"stylesheet\"\n",
    "   integrity=\"sha384-EVSTQN3/azprG1Anm3QDgpJLIm9Nao0Yz1ztcQTwFspd3yD65VohhpuuCOmLASjC\" crossorigin=\"anonymous\">\n",
    "  <!-- highlight.js CSS -->\n",
    "  <link rel=\"stylesheet\" href=\"https://cdnjs.cloudflare.com/ajax/libs/highlight.js/11.1.0/styles/default.min.css\">\n",
    "  <!-- Mathjax 3 -->\n",
    "  <script type=\"text/javascript\" id=\"MathJax-config\" src=\"mathjax_config.js\"> </script>\n",
    "  <script type=\"text/javascript\" id=\"MathJax-script\" async \n",
    "    src=\"https://cdn.jsdelivr.net/npm/mathjax@3/es5/tex-mml-chtml.js\">\n",
    "  </script>\n",
    "  <link rel=\"stylesheet\" href=\"index_carousel.css\">\n",
    "  <link rel=\"icon\" type=\"image/x-icon\" href=\"https://www.mpia.de/assets/touch-icon-32x32-a66937bcebc4e8894ebff1f41a366c7c7220fd97a38869ee0f2db65a9f59b6c1.png\">\n",
    "  <title>MPIA Arxiv on deck!</title>\n",
    "</head>\n",
    "\n",
    "<body>\n",
    "  <div id=\"header\"> <img src=\"header_banner.png\" width=\"100%\"></div>\n",
    "  <div id=\"suptitle\"> 7-day archives </div>\n",
    "  <div id=\"info\">\n",
    "    <img src=\"https://pngimg.com/uploads/github/github_PNG58.png\" height=30rem></img>\n",
    "    <a href=https://github.com/mpi-astronomy/arxiv_display style=\"color:black;\">github/mpi-astronomy/arxiv_display</a> \n",
    "  </div>\n",
    "  {carousel:s}\n",
    "</body>\n",
    "\n",
    "<!-- Render Markdown -->\n",
    "\n",
    "<body>\n",
    "  <!-- highlight.js: https://highlightjs.org/download/ -->\n",
    "  <script src=\"https://cdnjs.cloudflare.com/ajax/libs/highlight.js/11.5.0/highlight.min.js\"></script>\n",
    "  <!-- marked.js -->\n",
    "  <script src=\"https://cdn.jsdelivr.net/npm/marked/marked.min.js\"></script>\n",
    "  <script>{script:s}</script>\n",
    "</body>\n",
    "</html>\n",
    "\"\"\"\n",
    "with open(\"_build/html/index_7days.html\", 'w') as fout:\n",
    "    fout.write(page)"
   ]
  },
  {
   "cell_type": "markdown",
   "id": "1cebacbc",
   "metadata": {
    "papermill": {
     "duration": 0.014522,
     "end_time": "2022-10-11T05:15:32.844340",
     "exception": false,
     "start_time": "2022-10-11T05:15:32.829818",
     "status": "completed"
    },
    "tags": []
   },
   "source": [
    "# Debugging papers"
   ]
  },
  {
   "cell_type": "raw",
   "id": "debe7cc6",
   "metadata": {
    "papermill": {
     "duration": 0.01468,
     "end_time": "2022-10-11T05:15:32.873708",
     "exception": false,
     "start_time": "2022-10-11T05:15:32.859028",
     "status": "completed"
    },
    "tags": []
   },
   "source": [
    "raise NotImplementedError(\"Manual Stop\")"
   ]
  },
  {
   "cell_type": "raw",
   "id": "eb169192",
   "metadata": {
    "papermill": {
     "duration": 0.014497,
     "end_time": "2022-10-11T05:15:32.902704",
     "exception": false,
     "start_time": "2022-10-11T05:15:32.888207",
     "status": "completed"
    },
    "scrolled": true,
    "tags": []
   },
   "source": [
    "from IPython.display import display, Markdown\n",
    "from TexSoup import TexSoup\n",
    "import re\n",
    "\n",
    "def bracket_error(source: str):\n",
    "    \"\"\" Find problematic portions of the document \"\"\"\n",
    "    \n",
    "    print(\"len(source)\", len(source))\n",
    "    \n",
    "    # Checking header\n",
    "    begin_doc = next(re.finditer(r'\\\\begin\\{document\\}', doc.source)).span()[1]\n",
    "    header = source[:begin_doc]\n",
    "    text = header + r\"\\n\\end{document}\"\n",
    "\n",
    "    try:\n",
    "        # print(\"Header check... \", end='')\n",
    "        TexSoup(text)\n",
    "        display(Markdown(f\"**[OK]** - Header\"))\n",
    "    except:\n",
    "        raise RuntimeError(\"Error in the header\")\n",
    "        \n",
    "    # Check the text per section until the end.\n",
    "    # Do not stop and try them all.\n",
    "    \n",
    "    problematic_text = []\n",
    "    \n",
    "    sections = ([(0, begin_doc, 'until first section')] + \n",
    "                [(g.span()[0], g.span()[1], g.group()) for g in re.finditer(r'\\\\section\\{.*\\}', source)] +\n",
    "                [(g.span()[0], g.span()[1], g.group()) for g in re.finditer(r'\\\\begin\\{appendix\\}', source)]\n",
    "               )\n",
    "    sections.append([len(source), len(source), 'end'])\n",
    "    \n",
    "    sections = sorted(sections, key=lambda x: x[0])\n",
    "    \n",
    "    prev_pos, prev_name = (0, 'header')\n",
    "    parsed = []\n",
    "    \n",
    "    for span, span_end, name in sections:\n",
    "\n",
    "        if span - prev_pos <= 0:\n",
    "            continue\n",
    "            \n",
    "\n",
    "        text = source[prev_pos:span]\n",
    "        if prev_pos > begin_doc:\n",
    "            text = r\"\\n\\begin{document}\" + text + r\"\\n\\end{document}\"\n",
    "        else:\n",
    "            text = text + r\"\\n\\end{document}\"\n",
    "        try:\n",
    "            #print(f\"{prev_pos}:{prev_name}-->{span}:{name} check... \", end='')\n",
    "            parsed.append(TexSoup(text, tolerance=1))  # allow not ending env\n",
    "            display(Markdown(f\"**[OK]** - *{prev_pos}*:{prev_name} &rarr; *{span}*:{name}\"))\n",
    "            # print(\"ok\")\n",
    "\n",
    "            prev_pos = span\n",
    "            prev_name = name\n",
    "        except:\n",
    "            # print(f\"error between {prev_pos} and {span}\")\n",
    "            display(Markdown(f\"**[ERR]** *{prev_pos}*:{prev_name} &rarr; *{span}*:{name}\"))\n",
    "            problematic_text.append((prev_pos, source[prev_pos:span]))\n",
    "            prev_pos = span\n",
    "            prev_name = name\n",
    "            # raise\n",
    "    return problematic_text, parsed\n",
    "\n",
    "\n",
    "def check_environment(text, offset=0):\n",
    "    \"\"\" Check environment \"\"\"\n",
    "    env = re.compile(r\"\\\\begin\\{(?P<env>.*)\\}(.*)\\\\end\\{(?P=env)\\}\", re.DOTALL)\n",
    "\n",
    "    for match in env.finditer(text):\n",
    "        beg, end = match.span()\n",
    "        beg += offset\n",
    "        end += offset\n",
    "        envname = match.groups()[0]\n",
    "        try:\n",
    "            latex.TexSoup(match.group())\n",
    "        except Exception as e:\n",
    "            display(e)\n",
    "            print(f\"Error in {envname:s} between {beg} and {end}\")\n",
    "            return match.groups()[1], beg, end"
   ]
  },
  {
   "cell_type": "raw",
   "id": "2315e835",
   "metadata": {
    "papermill": {
     "duration": 0.014649,
     "end_time": "2022-10-11T05:15:32.931863",
     "exception": false,
     "start_time": "2022-10-11T05:15:32.917214",
     "status": "completed"
    },
    "scrolled": false,
    "tags": []
   },
   "source": [
    "import importlib\n",
    "importlib.reload(latex)\n",
    "which = \"2204.03253\"\n",
    "paper_id = f'{which:s}'\n",
    "folder = f'tmp_{paper_id:s}'\n",
    "\n",
    "if not os.path.isdir(folder):\n",
    "    folder = retrieve_document_source(f\"{paper_id}\", f'tmp_{paper_id}')\n",
    "\n",
    "try:\n",
    "    doc = latex.LatexDocument(folder, validation=validation)    \n",
    "except AffiliationError as affilerror:\n",
    "    msg = f\"ArXiv:{paper_id:s} is not an MPIA paper... \" + str(affilerror)\n",
    "    print(msg)\n",
    "\n",
    "\n",
    "# Hack because sometimes author parsing does not work well\n",
    "if (len(doc.authors) != len(paper['authors'])):\n",
    "    doc._authors = paper['authors']\n",
    "if (doc.abstract) in (None, ''):\n",
    "    doc._abstract = paper['abstract']\n",
    "\n",
    "doc.comment = get_markdown_badge(paper_id) + \" _\" + paper['comments'] + \"_\"\n",
    "doc.highlight_authors_in_list(hl_list)\n",
    "\n",
    "full_md = doc.generate_markdown_text()"
   ]
  },
  {
   "cell_type": "raw",
   "id": "dd3781db",
   "metadata": {
    "papermill": {
     "duration": 0.014455,
     "end_time": "2022-10-11T05:15:32.960822",
     "exception": false,
     "start_time": "2022-10-11T05:15:32.946367",
     "status": "completed"
    },
    "scrolled": false,
    "tags": []
   },
   "source": [
    "doc"
   ]
  },
  {
   "cell_type": "raw",
   "id": "c6eed834",
   "metadata": {
    "papermill": {
     "duration": 0.014449,
     "end_time": "2022-10-11T05:15:32.989787",
     "exception": false,
     "start_time": "2022-10-11T05:15:32.975338",
     "status": "completed"
    },
    "tags": []
   },
   "source": [
    "# [check_environment(k) for k in bracket_error(doc.source)]\n",
    "_, _, a = latex.get_content_per_section(doc.source, verbose=True)\n",
    "if not a:\n",
    "    print(\"no issues per section\")\n",
    "for ak in a:\n",
    "    r = check_environment(ak[1], offset=ak[0])\n",
    "    print(r[1], r[2])\n",
    "    print(r[0])"
   ]
  },
  {
   "cell_type": "code",
   "execution_count": null,
   "id": "71ce768a",
   "metadata": {
    "papermill": {
     "duration": 0.014437,
     "end_time": "2022-10-11T05:15:33.018821",
     "exception": false,
     "start_time": "2022-10-11T05:15:33.004384",
     "status": "completed"
    },
    "tags": []
   },
   "outputs": [],
   "source": []
  }
 ],
 "metadata": {
  "kernelspec": {
   "display_name": "Python 3.10.6 64-bit",
   "language": "python",
   "name": "python3"
  },
  "language_info": {
   "codemirror_mode": {
    "name": "ipython",
    "version": 3
   },
   "file_extension": ".py",
   "mimetype": "text/x-python",
   "name": "python",
   "nbconvert_exporter": "python",
   "pygments_lexer": "ipython3",
   "version": "3.9.14"
  },
  "papermill": {
   "default_parameters": {},
   "duration": 185.921979,
   "end_time": "2022-10-11T05:15:33.250279",
   "environment_variables": {},
   "exception": null,
   "input_path": "MPIA daily digest.ipynb",
   "output_path": "log.ipynb",
   "parameters": {},
   "start_time": "2022-10-11T05:12:27.328300",
   "version": "2.4.0"
  },
  "vscode": {
   "interpreter": {
    "hash": "e7370f93d1d0cde622a1f8e1c04877d8463912d04d973331ad4851f04de6915a"
   }
  },
  "widgets": {
   "application/vnd.jupyter.widget-state+json": {
    "state": {
     "1c93e052324042568a7122d823006f22": {
      "model_module": "@jupyter-widgets/base",
      "model_module_version": "2.0.0",
      "model_name": "LayoutModel",
      "state": {
       "_model_module": "@jupyter-widgets/base",
       "_model_module_version": "2.0.0",
       "_model_name": "LayoutModel",
       "_view_count": null,
       "_view_module": "@jupyter-widgets/base",
       "_view_module_version": "2.0.0",
       "_view_name": "LayoutView",
       "align_content": null,
       "align_items": null,
       "align_self": null,
       "border_bottom": null,
       "border_left": null,
       "border_right": null,
       "border_top": null,
       "bottom": null,
       "display": null,
       "flex": null,
       "flex_flow": null,
       "grid_area": null,
       "grid_auto_columns": null,
       "grid_auto_flow": null,
       "grid_auto_rows": null,
       "grid_column": null,
       "grid_gap": null,
       "grid_row": null,
       "grid_template_areas": null,
       "grid_template_columns": null,
       "grid_template_rows": null,
       "height": null,
       "justify_content": null,
       "justify_items": null,
       "left": null,
       "margin": null,
       "max_height": null,
       "max_width": null,
       "min_height": null,
       "min_width": null,
       "object_fit": null,
       "object_position": null,
       "order": null,
       "overflow": null,
       "padding": null,
       "right": null,
       "top": null,
       "visibility": null,
       "width": null
      }
     },
     "2f1f2c547bcc45bf86a85888827196f2": {
      "model_module": "@jupyter-widgets/controls",
      "model_module_version": "2.0.0",
      "model_name": "HTMLStyleModel",
      "state": {
       "_model_module": "@jupyter-widgets/controls",
       "_model_module_version": "2.0.0",
       "_model_name": "HTMLStyleModel",
       "_view_count": null,
       "_view_module": "@jupyter-widgets/base",
       "_view_module_version": "2.0.0",
       "_view_name": "StyleView",
       "background": null,
       "description_width": "",
       "font_size": null,
       "text_color": null
      }
     },
     "4447337f50a74044a6dce64180e6ecee": {
      "model_module": "@jupyter-widgets/controls",
      "model_module_version": "2.0.0",
      "model_name": "FloatProgressModel",
      "state": {
       "_dom_classes": [],
       "_model_module": "@jupyter-widgets/controls",
       "_model_module_version": "2.0.0",
       "_model_name": "FloatProgressModel",
       "_view_count": null,
       "_view_module": "@jupyter-widgets/controls",
       "_view_module_version": "2.0.0",
       "_view_name": "ProgressView",
       "bar_style": "success",
       "description": "",
       "description_allow_html": false,
       "layout": "IPY_MODEL_8bc63641a80446c285f0d5cb68b36e74",
       "max": 44.0,
       "min": 0.0,
       "orientation": "horizontal",
       "style": "IPY_MODEL_e74a15a9575745c6aeb1ef679ed30ffe",
       "tabbable": null,
       "tooltip": null,
       "value": 44.0
      }
     },
     "4dcfd9d833f1447e8d45d8279f18373a": {
      "model_module": "@jupyter-widgets/controls",
      "model_module_version": "2.0.0",
      "model_name": "HTMLModel",
      "state": {
       "_dom_classes": [],
       "_model_module": "@jupyter-widgets/controls",
       "_model_module_version": "2.0.0",
       "_model_name": "HTMLModel",
       "_view_count": null,
       "_view_module": "@jupyter-widgets/controls",
       "_view_module_version": "2.0.0",
       "_view_name": "HTMLView",
       "description": "",
       "description_allow_html": false,
       "layout": "IPY_MODEL_1c93e052324042568a7122d823006f22",
       "placeholder": "​",
       "style": "IPY_MODEL_2f1f2c547bcc45bf86a85888827196f2",
       "tabbable": null,
       "tooltip": null,
       "value": "100%"
      }
     },
     "5ab5ee266b0a41fd9d9868df8f7b5134": {
      "model_module": "@jupyter-widgets/base",
      "model_module_version": "2.0.0",
      "model_name": "LayoutModel",
      "state": {
       "_model_module": "@jupyter-widgets/base",
       "_model_module_version": "2.0.0",
       "_model_name": "LayoutModel",
       "_view_count": null,
       "_view_module": "@jupyter-widgets/base",
       "_view_module_version": "2.0.0",
       "_view_name": "LayoutView",
       "align_content": null,
       "align_items": null,
       "align_self": null,
       "border_bottom": null,
       "border_left": null,
       "border_right": null,
       "border_top": null,
       "bottom": null,
       "display": null,
       "flex": null,
       "flex_flow": null,
       "grid_area": null,
       "grid_auto_columns": null,
       "grid_auto_flow": null,
       "grid_auto_rows": null,
       "grid_column": null,
       "grid_gap": null,
       "grid_row": null,
       "grid_template_areas": null,
       "grid_template_columns": null,
       "grid_template_rows": null,
       "height": null,
       "justify_content": null,
       "justify_items": null,
       "left": null,
       "margin": null,
       "max_height": null,
       "max_width": null,
       "min_height": null,
       "min_width": null,
       "object_fit": null,
       "object_position": null,
       "order": null,
       "overflow": null,
       "padding": null,
       "right": null,
       "top": null,
       "visibility": null,
       "width": null
      }
     },
     "7c12094023104e9c95085e03f9b3e640": {
      "model_module": "@jupyter-widgets/controls",
      "model_module_version": "2.0.0",
      "model_name": "HBoxModel",
      "state": {
       "_dom_classes": [],
       "_model_module": "@jupyter-widgets/controls",
       "_model_module_version": "2.0.0",
       "_model_name": "HBoxModel",
       "_view_count": null,
       "_view_module": "@jupyter-widgets/controls",
       "_view_module_version": "2.0.0",
       "_view_name": "HBoxView",
       "box_style": "",
       "children": [
        "IPY_MODEL_4dcfd9d833f1447e8d45d8279f18373a",
        "IPY_MODEL_4447337f50a74044a6dce64180e6ecee",
        "IPY_MODEL_a3bd4863f5f24f1d8200dbb7c170cf93"
       ],
       "layout": "IPY_MODEL_5ab5ee266b0a41fd9d9868df8f7b5134",
       "tabbable": null,
       "tooltip": null
      }
     },
     "8bc63641a80446c285f0d5cb68b36e74": {
      "model_module": "@jupyter-widgets/base",
      "model_module_version": "2.0.0",
      "model_name": "LayoutModel",
      "state": {
       "_model_module": "@jupyter-widgets/base",
       "_model_module_version": "2.0.0",
       "_model_name": "LayoutModel",
       "_view_count": null,
       "_view_module": "@jupyter-widgets/base",
       "_view_module_version": "2.0.0",
       "_view_name": "LayoutView",
       "align_content": null,
       "align_items": null,
       "align_self": null,
       "border_bottom": null,
       "border_left": null,
       "border_right": null,
       "border_top": null,
       "bottom": null,
       "display": null,
       "flex": null,
       "flex_flow": null,
       "grid_area": null,
       "grid_auto_columns": null,
       "grid_auto_flow": null,
       "grid_auto_rows": null,
       "grid_column": null,
       "grid_gap": null,
       "grid_row": null,
       "grid_template_areas": null,
       "grid_template_columns": null,
       "grid_template_rows": null,
       "height": null,
       "justify_content": null,
       "justify_items": null,
       "left": null,
       "margin": null,
       "max_height": null,
       "max_width": null,
       "min_height": null,
       "min_width": null,
       "object_fit": null,
       "object_position": null,
       "order": null,
       "overflow": null,
       "padding": null,
       "right": null,
       "top": null,
       "visibility": null,
       "width": null
      }
     },
     "a3bd4863f5f24f1d8200dbb7c170cf93": {
      "model_module": "@jupyter-widgets/controls",
      "model_module_version": "2.0.0",
      "model_name": "HTMLModel",
      "state": {
       "_dom_classes": [],
       "_model_module": "@jupyter-widgets/controls",
       "_model_module_version": "2.0.0",
       "_model_name": "HTMLModel",
       "_view_count": null,
       "_view_module": "@jupyter-widgets/controls",
       "_view_module_version": "2.0.0",
       "_view_name": "HTMLView",
       "description": "",
       "description_allow_html": false,
       "layout": "IPY_MODEL_f849f960937843278c32ea2400f90066",
       "placeholder": "​",
       "style": "IPY_MODEL_db727225e12d43b6a6d4b3f70d602e60",
       "tabbable": null,
       "tooltip": null,
       "value": " 44/44 [02:36&lt;00:00,  5.64s/it]"
      }
     },
     "db727225e12d43b6a6d4b3f70d602e60": {
      "model_module": "@jupyter-widgets/controls",
      "model_module_version": "2.0.0",
      "model_name": "HTMLStyleModel",
      "state": {
       "_model_module": "@jupyter-widgets/controls",
       "_model_module_version": "2.0.0",
       "_model_name": "HTMLStyleModel",
       "_view_count": null,
       "_view_module": "@jupyter-widgets/base",
       "_view_module_version": "2.0.0",
       "_view_name": "StyleView",
       "background": null,
       "description_width": "",
       "font_size": null,
       "text_color": null
      }
     },
     "e74a15a9575745c6aeb1ef679ed30ffe": {
      "model_module": "@jupyter-widgets/controls",
      "model_module_version": "2.0.0",
      "model_name": "ProgressStyleModel",
      "state": {
       "_model_module": "@jupyter-widgets/controls",
       "_model_module_version": "2.0.0",
       "_model_name": "ProgressStyleModel",
       "_view_count": null,
       "_view_module": "@jupyter-widgets/base",
       "_view_module_version": "2.0.0",
       "_view_name": "StyleView",
       "bar_color": null,
       "description_width": ""
      }
     },
     "f849f960937843278c32ea2400f90066": {
      "model_module": "@jupyter-widgets/base",
      "model_module_version": "2.0.0",
      "model_name": "LayoutModel",
      "state": {
       "_model_module": "@jupyter-widgets/base",
       "_model_module_version": "2.0.0",
       "_model_name": "LayoutModel",
       "_view_count": null,
       "_view_module": "@jupyter-widgets/base",
       "_view_module_version": "2.0.0",
       "_view_name": "LayoutView",
       "align_content": null,
       "align_items": null,
       "align_self": null,
       "border_bottom": null,
       "border_left": null,
       "border_right": null,
       "border_top": null,
       "bottom": null,
       "display": null,
       "flex": null,
       "flex_flow": null,
       "grid_area": null,
       "grid_auto_columns": null,
       "grid_auto_flow": null,
       "grid_auto_rows": null,
       "grid_column": null,
       "grid_gap": null,
       "grid_row": null,
       "grid_template_areas": null,
       "grid_template_columns": null,
       "grid_template_rows": null,
       "height": null,
       "justify_content": null,
       "justify_items": null,
       "left": null,
       "margin": null,
       "max_height": null,
       "max_width": null,
       "min_height": null,
       "min_width": null,
       "object_fit": null,
       "object_position": null,
       "order": null,
       "overflow": null,
       "padding": null,
       "right": null,
       "top": null,
       "visibility": null,
       "width": null
      }
     }
    },
    "version_major": 2,
    "version_minor": 0
   }
  }
 },
 "nbformat": 4,
 "nbformat_minor": 5
}