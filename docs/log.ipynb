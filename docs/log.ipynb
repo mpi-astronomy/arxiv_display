{
 "cells": [
  {
   "cell_type": "markdown",
   "id": "92bcb855",
   "metadata": {
    "papermill": {
     "duration": 0.004096,
     "end_time": "2024-07-12T04:08:45.772672",
     "exception": false,
     "start_time": "2024-07-12T04:08:45.768576",
     "status": "completed"
    },
    "tags": []
   },
   "source": [
    "# MPIA Arxiv on Deck 2\n",
    "\n",
    "Contains the steps to produce the paper extractions."
   ]
  },
  {
   "cell_type": "code",
   "execution_count": 1,
   "id": "3a0d6e11",
   "metadata": {
    "execution": {
     "iopub.execute_input": "2024-07-12T04:08:45.780128Z",
     "iopub.status.busy": "2024-07-12T04:08:45.779864Z",
     "iopub.status.idle": "2024-07-12T04:08:46.246480Z",
     "shell.execute_reply": "2024-07-12T04:08:46.245888Z"
    },
    "papermill": {
     "duration": 0.472314,
     "end_time": "2024-07-12T04:08:46.248170",
     "exception": false,
     "start_time": "2024-07-12T04:08:45.775856",
     "status": "completed"
    },
    "tags": []
   },
   "outputs": [],
   "source": [
    "# Imports\n",
    "import os\n",
    "from IPython.display import Markdown, display\n",
    "from tqdm.notebook import tqdm\n",
    "import warnings\n",
    "from PIL import Image \n",
    "\n",
    "# requires arxiv_on_deck_2\n",
    "\n",
    "from arxiv_on_deck_2.arxiv2 import (get_new_papers, \n",
    "                                    get_paper_from_identifier,\n",
    "                                    retrieve_document_source, \n",
    "                                    get_markdown_badge)\n",
    "from arxiv_on_deck_2 import (latex,\n",
    "                             latex_bib,\n",
    "                             mpia,\n",
    "                             highlight_authors_in_list)\n",
    "\n",
    "# Sometimes images are really big\n",
    "Image.MAX_IMAGE_PIXELS = 1000000000 "
   ]
  },
  {
   "cell_type": "code",
   "execution_count": 2,
   "id": "22aa9d44",
   "metadata": {
    "execution": {
     "iopub.execute_input": "2024-07-12T04:08:46.255605Z",
     "iopub.status.busy": "2024-07-12T04:08:46.255140Z",
     "iopub.status.idle": "2024-07-12T04:08:46.260211Z",
     "shell.execute_reply": "2024-07-12T04:08:46.259582Z"
    },
    "papermill": {
     "duration": 0.010202,
     "end_time": "2024-07-12T04:08:46.261584",
     "exception": false,
     "start_time": "2024-07-12T04:08:46.251382",
     "status": "completed"
    },
    "tags": []
   },
   "outputs": [],
   "source": [
    "# Some useful definitions.\n",
    "\n",
    "class AffiliationWarning(UserWarning):\n",
    "    pass\n",
    "\n",
    "class AffiliationError(RuntimeError):\n",
    "    pass\n",
    "\n",
    "def validation(source: str):\n",
    "    \"\"\"Raises error paper during parsing of source file\n",
    "    \n",
    "    Allows checks before parsing TeX code.\n",
    "    \n",
    "    Raises AffiliationWarning\n",
    "    \"\"\"\n",
    "    check = mpia.affiliation_verifications(source, verbose=True)\n",
    "    if check is not True:\n",
    "        raise AffiliationError(\"mpia.affiliation_verifications: \" + check)\n",
    "\n",
    "        \n",
    "warnings.simplefilter('always', AffiliationWarning)\n",
    "\n",
    "\n",
    "def get_markdown_qrcode(paper_id: str):\n",
    "    \"\"\" Generate a qrcode to the arxiv page using qrserver.com\n",
    "    \n",
    "    :param paper: Arxiv paper\n",
    "    :returns: markdown text\n",
    "    \"\"\"\n",
    "    url = r\"https://api.qrserver.com/v1/create-qr-code/?size=100x100&data=\"\n",
    "    txt = f\"\"\"<img src={url}\"https://arxiv.org/abs/{paper_id}\">\"\"\"\n",
    "    txt = '<div id=\"qrcode\">' + txt + '</div>'\n",
    "    return txt"
   ]
  },
  {
   "cell_type": "markdown",
   "id": "14bd6310",
   "metadata": {
    "papermill": {
     "duration": 0.00291,
     "end_time": "2024-07-12T04:08:46.267467",
     "exception": false,
     "start_time": "2024-07-12T04:08:46.264557",
     "status": "completed"
    },
    "tags": []
   },
   "source": [
    "## get list of arxiv paper candidates\n",
    "\n",
    "We use the MPIA mitarbeiter list webpage from mpia.de to get author names\n",
    "We then get all new papers from Arxiv and match authors"
   ]
  },
  {
   "cell_type": "code",
   "execution_count": 3,
   "id": "7ea813a8",
   "metadata": {
    "execution": {
     "iopub.execute_input": "2024-07-12T04:08:46.274495Z",
     "iopub.status.busy": "2024-07-12T04:08:46.274103Z",
     "iopub.status.idle": "2024-07-12T04:09:02.511604Z",
     "shell.execute_reply": "2024-07-12T04:09:02.510954Z"
    },
    "papermill": {
     "duration": 16.242847,
     "end_time": "2024-07-12T04:09:02.513253",
     "exception": false,
     "start_time": "2024-07-12T04:08:46.270406",
     "status": "completed"
    },
    "tags": []
   },
   "outputs": [],
   "source": [
    "# deal with the author list and edge cases of people that cannot be consistent on their name  \n",
    "\n",
    "def filter_non_scientists(name: str) -> bool:\n",
    "    \"\"\" Loose filter on expected authorships\n",
    "\n",
    "    removing IT, administration, technical staff\n",
    "    :param name: name\n",
    "    :returns: False if name is not a scientist\n",
    "    \"\"\"\n",
    "    remove_list = ['Wolf', 'Licht', 'Binroth', 'Witzel', 'Jordan',\n",
    "                   'Zähringer', 'Scheerer', 'Hoffmann', 'Düe',\n",
    "                   'Hellmich', 'Enkler-Scharpegge', 'Witte-Nguy',\n",
    "                   'Dehen', 'Beckmann', 'Jager', 'Jäger'\n",
    "                  ]\n",
    "\n",
    "    for k in remove_list:\n",
    "        if k in name:\n",
    "            return False\n",
    "    return True\n",
    "\n",
    "def add_author_to_list(author_list: list) -> list:\n",
    "    \"\"\" Add author to list if not already in list\n",
    "    \n",
    "    :param author: author name\n",
    "    :param author_list: list of authors\n",
    "    :returns: updated list of authors\n",
    "    \"\"\"\n",
    "    add_list = ['T. Henning']\n",
    "\n",
    "    for author in add_list:\n",
    "        if author not in author_list:\n",
    "            author_list.append(author)\n",
    "    return author_list\n",
    "\n",
    "# get list from MPIA website\n",
    "# filter for non-scientists (mpia.get_mpia_mitarbeiter_list() does some filtering)\n",
    "mpia_authors = [k[1] for k in mpia.get_mpia_mitarbeiter_list() if filter_non_scientists(k[1])]\n",
    "# add some missing author because of inconsistencies in their MPIA name and author name on papers\n",
    "mpia_authors = add_author_to_list(mpia_authors)"
   ]
  },
  {
   "cell_type": "code",
   "execution_count": 4,
   "id": "2645e73a",
   "metadata": {
    "execution": {
     "iopub.execute_input": "2024-07-12T04:09:02.520757Z",
     "iopub.status.busy": "2024-07-12T04:09:02.520531Z",
     "iopub.status.idle": "2024-07-12T04:09:03.207520Z",
     "shell.execute_reply": "2024-07-12T04:09:03.206810Z"
    },
    "papermill": {
     "duration": 0.692325,
     "end_time": "2024-07-12T04:09:03.208900",
     "exception": false,
     "start_time": "2024-07-12T04:09:02.516575",
     "status": "completed"
    },
    "tags": []
   },
   "outputs": [
    {
     "name": "stdout",
     "output_type": "stream",
     "text": [
      "K. Jahnke  ->  K. Jahnke  |  ['K. Jahnke']\n",
      "X. Zhang  ->  X. Zhang  |  ['X. Zhang']\n",
      "E.-M. Ahrer  ->  E.-M. Ahrer  |  ['E.-M. Ahrer']\n",
      "L. Kreidberg  ->  L. Kreidberg  |  ['L. Kreidberg']\n",
      "J. Liu  ->  J. Liu  |  ['J. Liu']\n",
      "F. Briegel  ->  F. Briegel  |  ['F. Briegel']\n",
      "M. Kuhlberg  ->  M. Kuhlberg  |  ['M. Kuhlberg']\n",
      "S. Savvidou  ->  S. Savvidou  |  ['S. Savvidou']\n"
     ]
    },
    {
     "name": "stdout",
     "output_type": "stream",
     "text": [
      "A. d. Graaff  ->  A. D. Graaff  |  ['A. D. Graaff']\n",
      "Arxiv has 58 new papers today\n",
      "          6 with possible author matches\n"
     ]
    }
   ],
   "source": [
    "new_papers = get_new_papers()\n",
    "# add manual references\n",
    "add_paper_refs = []\n",
    "new_papers.extend([get_paper_from_identifier(k) for k in add_paper_refs])\n",
    "\n",
    "candidates = []\n",
    "for paperk in new_papers:\n",
    "    # Check author list with their initials\n",
    "    normed_author_list = [mpia.get_initials(k) for k in paperk['authors']]\n",
    "    hl_authors = highlight_authors_in_list(normed_author_list, mpia_authors, verbose=True)\n",
    "    matches = [(hl, orig) for hl, orig in zip(hl_authors, paperk['authors']) if 'mark' in hl]\n",
    "    paperk['authors'] = hl_authors\n",
    "    if matches:\n",
    "        # only select paper if an author matched our list\n",
    "        candidates.append(paperk)\n",
    "print(\"\"\"Arxiv has {0:,d} new papers today\"\"\".format(len(new_papers)))        \n",
    "print(\"\"\"          {0:,d} with possible author matches\"\"\".format(len(candidates)))"
   ]
  },
  {
   "cell_type": "markdown",
   "id": "3543b34a",
   "metadata": {
    "papermill": {
     "duration": 0.004019,
     "end_time": "2024-07-12T04:09:03.216375",
     "exception": false,
     "start_time": "2024-07-12T04:09:03.212356",
     "status": "completed"
    },
    "tags": []
   },
   "source": [
    "# Parse sources and generate relevant outputs\n",
    "\n",
    "From the candidates, we do the following steps:\n",
    "* get their tarball from ArXiv (and extract data)\n",
    "* find the main .tex file: find one with \\documentclass{...} (sometimes it's non trivial)\n",
    "* Check affiliations with :func:`validation`, which uses :func:`mpia.affiliation_verifications`\n",
    "* If passing the affiliations: we parse the .tex source\n",
    "   * inject sub-documents into the main (flatten the main document)\n",
    "   * parse structure, extract information (title, abstract, authors, figures...)\n",
    "   * handles `\\graphicspath` if provided\n",
    "* Generate the .md document."
   ]
  },
  {
   "cell_type": "code",
   "execution_count": 5,
   "id": "9576b79e",
   "metadata": {
    "execution": {
     "iopub.execute_input": "2024-07-12T04:09:03.223872Z",
     "iopub.status.busy": "2024-07-12T04:09:03.223415Z",
     "iopub.status.idle": "2024-07-12T04:10:28.012021Z",
     "shell.execute_reply": "2024-07-12T04:10:28.011215Z"
    },
    "papermill": {
     "duration": 84.799471,
     "end_time": "2024-07-12T04:10:28.018928",
     "exception": false,
     "start_time": "2024-07-12T04:09:03.219457",
     "status": "completed"
    },
    "scrolled": false,
    "tags": []
   },
   "outputs": [
    {
     "data": {
      "application/vnd.jupyter.widget-view+json": {
       "model_id": "d0b3b618d5f14629b99d4f4ab8567c0a",
       "version_major": 2,
       "version_minor": 0
      },
      "text/plain": [
       "  0%|          | 0/6 [00:00<?, ?it/s]"
      ]
     },
     "metadata": {},
     "output_type": "display_data"
    },
    {
     "name": "stdout",
     "output_type": "stream",
     "text": [
      "Retrieving document from  https://arxiv.org/e-print/2407.07940\n"
     ]
    },
    {
     "name": "stdout",
     "output_type": "stream",
     "text": [
      "extracting tarball to tmp_2407.07940..."
     ]
    },
    {
     "name": "stdout",
     "output_type": "stream",
     "text": [
      " done.\n"
     ]
    },
    {
     "name": "stdout",
     "output_type": "stream",
     "text": [
      "Found 92 bibliographic references in tmp_2407.07940/aanda.bbl.\n",
      "syntax error in line 368: '=' expected\n",
      "Retrieving document from  https://arxiv.org/e-print/2407.07965\n",
      "extracting tarball to tmp_2407.07965..."
     ]
    },
    {
     "name": "stdout",
     "output_type": "stream",
     "text": [
      " done.\n",
      "Retrieving document from  https://arxiv.org/e-print/2407.08119\n",
      "extracting tarball to tmp_2407.08119... done.\n",
      "Retrieving document from  https://arxiv.org/e-print/2407.08319\n"
     ]
    },
    {
     "name": "stdout",
     "output_type": "stream",
     "text": [
      "extracting tarball to tmp_2407.08319..."
     ]
    },
    {
     "name": "stdout",
     "output_type": "stream",
     "text": [
      " done.\n"
     ]
    },
    {
     "name": "stdout",
     "output_type": "stream",
     "text": [
      "F. Briegel  ->  F. Briegel  |  ['F. Briegel']\n",
      "M. Kuhlberg  ->  M. Kuhlberg  |  ['M. Kuhlberg']\n"
     ]
    },
    {
     "name": "stderr",
     "output_type": "stream",
     "text": [
      "/opt/hostedtoolcache/Python/3.9.19/x64/lib/python3.9/site-packages/arxiv_on_deck_2/latex.py:132: LatexWarning: attempting recovering figure architecture.png\n",
      "  warnings.warn(LatexWarning(f'attempting recovering figure {image}'))\n",
      "/opt/hostedtoolcache/Python/3.9.19/x64/lib/python3.9/site-packages/arxiv_on_deck_2/latex.py:707: LatexWarning: Could not find graphic \\includegraphics[width=\\textwidth]{architecture.png}\n",
      "  warnings.warn(LatexWarning(f\"Could not find graphic {k}\"))\n"
     ]
    },
    {
     "name": "stdout",
     "output_type": "stream",
     "text": [
      "Found 55 bibliographic references in tmp_2407.08319/article.bbl.\n",
      "Retrieving document from  https://arxiv.org/e-print/2407.08533\n"
     ]
    },
    {
     "name": "stderr",
     "output_type": "stream",
     "text": [
      "/opt/hostedtoolcache/Python/3.9.19/x64/lib/python3.9/site-packages/arxiv_on_deck_2/latex_bib.py:132: UserWarning: Error processing bibitem\n",
      " item = \\bibitem{York+00}D.~G. York, J.~Adelman, J.~John E.~Anderson, {\\em et~al.}, ``{The Sloan Digital Sky Survey: Technical Summary},'' {\\em The Astronomical Journal} {\\bf 120}, 1579  (2000).\n",
      " regex = \n",
      "        \\\\bibitem(\\[[^\\[\\]]*?\\]){(?P<bibkey>[a-zA-Z0-9\\-\\+\\.\\S]+?)}(?P<authors>|([\\D]*?))(?P<year>[12][0-9]{3})(?P<rest>.*)\n",
      "        \n",
      "  warnings.warn(str(e))\n",
      "/opt/hostedtoolcache/Python/3.9.19/x64/lib/python3.9/site-packages/arxiv_on_deck_2/latex_bib.py:132: UserWarning: Error processing bibitem\n",
      " item = \\bibitem{Frieman+08}J.~A. Frieman, B.~Bassett, A.~Becker, {\\em et~al.}, ``{THE SLOAN DIGITAL SKY SURVEY-II SUPERNOVA SURVEY: TECHNICAL SUMMARY},'' {\\em The Astronomical Journal} {\\bf 135}, 338  (2007).\n",
      " regex = \n",
      "        \\\\bibitem(\\[[^\\[\\]]*?\\]){(?P<bibkey>[a-zA-Z0-9\\-\\+\\.\\S]+?)}(?P<authors>|([\\D]*?))(?P<year>[12][0-9]{3})(?P<rest>.*)\n",
      "        \n",
      "  warnings.warn(str(e))\n",
      "/opt/hostedtoolcache/Python/3.9.19/x64/lib/python3.9/site-packages/arxiv_on_deck_2/latex_bib.py:132: UserWarning: Error processing bibitem\n",
      " item = \\bibitem{Yanny+09}B.~Yanny, C.~Rockosi, H.~J. Newberg, {\\em et~al.}, ``{SEGUE: A SPECTROSCOPIC SURVEY OF 240,000 STARS WITH g = 14–20},'' {\\em The Astronomical Journal} {\\bf 137}, 4377  (2009).\n",
      " regex = \n",
      "        \\\\bibitem(\\[[^\\[\\]]*?\\]){(?P<bibkey>[a-zA-Z0-9\\-\\+\\.\\S]+?)}(?P<authors>|([\\D]*?))(?P<year>[12][0-9]{3})(?P<rest>.*)\n",
      "        \n",
      "  warnings.warn(str(e))\n",
      "/opt/hostedtoolcache/Python/3.9.19/x64/lib/python3.9/site-packages/arxiv_on_deck_2/latex_bib.py:132: UserWarning: Error processing bibitem\n",
      " item = \\bibitem{Eisenstein+11}D.~J. Eisenstein, D.~H. Weinberg, E.~Agol, {\\em et~al.}, ``{SDSS-III: MASSIVE SPECTROSCOPIC SURVEYS OF THE DISTANT UNIVERSE, THE MILKY WAY, AND EXTRA-SOLAR PLANETARY SYSTEMS},'' {\\em The Astronomical Journal} {\\bf 142}, 72  (2011).\n",
      " regex = \n",
      "        \\\\bibitem(\\[[^\\[\\]]*?\\]){(?P<bibkey>[a-zA-Z0-9\\-\\+\\.\\S]+?)}(?P<authors>|([\\D]*?))(?P<year>[12][0-9]{3})(?P<rest>.*)\n",
      "        \n",
      "  warnings.warn(str(e))\n",
      "/opt/hostedtoolcache/Python/3.9.19/x64/lib/python3.9/site-packages/arxiv_on_deck_2/latex_bib.py:132: UserWarning: Error processing bibitem\n",
      " item = \\bibitem{Gunn+06}J.~E. Gunn, W.~A. Siegmund, E.~J. Mannery, {\\em et~al.}, ``{The 2.5 m Telescope of the Sloan Digital Sky Survey},'' {\\em The Astronomical Journal} {\\bf 131}, 2332  (2006).\n",
      " regex = \n",
      "        \\\\bibitem(\\[[^\\[\\]]*?\\]){(?P<bibkey>[a-zA-Z0-9\\-\\+\\.\\S]+?)}(?P<authors>|([\\D]*?))(?P<year>[12][0-9]{3})(?P<rest>.*)\n",
      "        \n",
      "  warnings.warn(str(e))\n",
      "/opt/hostedtoolcache/Python/3.9.19/x64/lib/python3.9/site-packages/arxiv_on_deck_2/latex_bib.py:132: UserWarning: Error processing bibitem\n",
      " item = \\bibitem{Bowen+73}I.~S. Bowen and A.~H. Vaughan, ``{The Optical Design of the 40-in. Telescope and of the Irenee DuPont Telescope at Las Campanas Observatory, Chile},'' {\\em Applied Optics} {\\bf 12}, 1430--1435  (1973).\n",
      " regex = \n",
      "        \\\\bibitem(\\[[^\\[\\]]*?\\]){(?P<bibkey>[a-zA-Z0-9\\-\\+\\.\\S]+?)}(?P<authors>|([\\D]*?))(?P<year>[12][0-9]{3})(?P<rest>.*)\n",
      "        \n",
      "  warnings.warn(str(e))\n",
      "/opt/hostedtoolcache/Python/3.9.19/x64/lib/python3.9/site-packages/arxiv_on_deck_2/latex_bib.py:132: UserWarning: Error processing bibitem\n",
      " item = \\bibitem{Kollmeier+19}J.~Kollmeier, S.~F. Anderson, G.~A. Blanc, {\\em et~al.}, ``{SDSS-V Pioneering Panoptic Spectroscopy},'' {\\em Bulletin of the AAS} {\\bf 51}  (2019).\\newblock https://baas.aas.org/pub/2020n7i274.\n",
      " regex = \n",
      "        \\\\bibitem(\\[[^\\[\\]]*?\\]){(?P<bibkey>[a-zA-Z0-9\\-\\+\\.\\S]+?)}(?P<authors>|([\\D]*?))(?P<year>[12][0-9]{3})(?P<rest>.*)\n",
      "        \n",
      "  warnings.warn(str(e))\n",
      "/opt/hostedtoolcache/Python/3.9.19/x64/lib/python3.9/site-packages/arxiv_on_deck_2/latex_bib.py:132: UserWarning: Error processing bibitem\n",
      " item = \\bibitem{Konidaris+20}N.~P. Konidaris, N.~Drory, C.~S. Froning, {\\em et~al.}, ``{SDSS-V local volume mapper instrument: overview and status},'' in {\\em Ground-based and Airborne Instrumentation for Astronomy VIII},  C.~J. Evans, J.~J. Bryant, and K.~Motohara, Eds.,  {\\bf 11447}, 233 -- 250, International Society for Optics and Photonics, SPIE  (2020).\n",
      " regex = \n",
      "        \\\\bibitem(\\[[^\\[\\]]*?\\]){(?P<bibkey>[a-zA-Z0-9\\-\\+\\.\\S]+?)}(?P<authors>|([\\D]*?))(?P<year>[12][0-9]{3})(?P<rest>.*)\n",
      "        \n",
      "  warnings.warn(str(e))\n",
      "/opt/hostedtoolcache/Python/3.9.19/x64/lib/python3.9/site-packages/arxiv_on_deck_2/latex_bib.py:132: UserWarning: Error processing bibitem\n",
      " item = \\bibitem{Bundy+15}K.~Bundy, M.~A. Bershady, D.~R. Law, {\\em et~al.}, ``{OVERVIEW OF THE SDSS-IV MaNGA SURVEY: MAPPING NEARBY GALAXIES AT APACHE POINT OBSERVATORY},'' {\\em The Astrophysical Journal} {\\bf 798}, 7  (2014).\n",
      " regex = \n",
      "        \\\\bibitem(\\[[^\\[\\]]*?\\]){(?P<bibkey>[a-zA-Z0-9\\-\\+\\.\\S]+?)}(?P<authors>|([\\D]*?))(?P<year>[12][0-9]{3})(?P<rest>.*)\n",
      "        \n",
      "  warnings.warn(str(e))\n",
      "/opt/hostedtoolcache/Python/3.9.19/x64/lib/python3.9/site-packages/arxiv_on_deck_2/latex_bib.py:132: UserWarning: Error processing bibitem\n",
      " item = \\bibitem{Herbst+20}T.~M. Herbst, P.~Bilgi, P.~Bizenberger, {\\em et~al.}, ``{The SDSS-V local volume mapper telescope system},'' in {\\em Ground-based and Airborne Telescopes VIII},  H.~K. Marshall, J.~Spyromilio, and T.~Usuda, Eds.,  {\\bf 11445}, 83 -- 94, International Society for Optics and Photonics, SPIE  (2020).\n",
      " regex = \n",
      "        \\\\bibitem(\\[[^\\[\\]]*?\\]){(?P<bibkey>[a-zA-Z0-9\\-\\+\\.\\S]+?)}(?P<authors>|([\\D]*?))(?P<year>[12][0-9]{3})(?P<rest>.*)\n",
      "        \n",
      "  warnings.warn(str(e))\n",
      "/opt/hostedtoolcache/Python/3.9.19/x64/lib/python3.9/site-packages/arxiv_on_deck_2/latex_bib.py:132: UserWarning: Error processing bibitem\n",
      " item = \\bibitem{Richardson+90}E.~H. Richardson, W.~A. Grundmann, and G.~J. Odgers, ``{Altitude-altitude mounting for an 8-m telescope},'' in {\\em Advanced Technology Optical Telescopes IV},  L.~D. Barr, Ed.,  {\\bf 1236}, 897 -- 904, International Society for Optics and Photonics, SPIE  (1990).\n",
      " regex = \n",
      "        \\\\bibitem(\\[[^\\[\\]]*?\\]){(?P<bibkey>[a-zA-Z0-9\\-\\+\\.\\S]+?)}(?P<authors>|([\\D]*?))(?P<year>[12][0-9]{3})(?P<rest>.*)\n",
      "        \n",
      "  warnings.warn(str(e))\n",
      "/opt/hostedtoolcache/Python/3.9.19/x64/lib/python3.9/site-packages/arxiv_on_deck_2/latex_bib.py:132: UserWarning: Error processing bibitem\n",
      " item = \\bibitem{Riva+10}M.~Riva, F.~Bortoletto, C.~Bonoli, {\\em et~al.}, ``{Mechanical design considerations for a 3m class fast pointing telescope},'' in {\\em Ground-based and Airborne Telescopes III},  L.~M. Stepp, R.~Gilmozzi, and H.~J. Hall, Eds.,  {\\bf 7733}, 77330X, International Society for Optics and Photonics, SPIE  (2010).\n",
      " regex = \n",
      "        \\\\bibitem(\\[[^\\[\\]]*?\\]){(?P<bibkey>[a-zA-Z0-9\\-\\+\\.\\S]+?)}(?P<authors>|([\\D]*?))(?P<year>[12][0-9]{3})(?P<rest>.*)\n",
      "        \n",
      "  warnings.warn(str(e))\n",
      "/opt/hostedtoolcache/Python/3.9.19/x64/lib/python3.9/site-packages/arxiv_on_deck_2/latex_bib.py:132: UserWarning: Error processing bibitem\n",
      " item = \\bibitem{Durech+18}J.~{\\v D}urech, J.~Hanu{\\v s}, M.~Bro{\\v z}, {\\em et~al.}, ``{Shape models of asteroids based on lightcurve observations with BlueEye600 robotic observatory},'' {\\em Icarus} {\\bf 304}, 101--109  (2018).\n",
      " regex = \n",
      "        \\\\bibitem(\\[[^\\[\\]]*?\\]){(?P<bibkey>[a-zA-Z0-9\\-\\+\\.\\S]+?)}(?P<authors>|([\\D]*?))(?P<year>[12][0-9]{3})(?P<rest>.*)\n",
      "        \n",
      "  warnings.warn(str(e))\n",
      "/opt/hostedtoolcache/Python/3.9.19/x64/lib/python3.9/site-packages/arxiv_on_deck_2/latex_bib.py:132: UserWarning: Error processing bibitem\n",
      " item = \\bibitem{Reefe+22}M.~Reefe, O.~Alfaro, S.~Foster, {\\em et~al.}, ``{Asynchronous object-oriented approach to the automation of the 0.8-meter George Mason University campus telescope in Python},'' {\\em Journal of Astronomical Telescopes, Instruments, and Systems} {\\bf 8}(2), 027002  (2022).\n",
      " regex = \n",
      "        \\\\bibitem(\\[[^\\[\\]]*?\\]){(?P<bibkey>[a-zA-Z0-9\\-\\+\\.\\S]+?)}(?P<authors>|([\\D]*?))(?P<year>[12][0-9]{3})(?P<rest>.*)\n",
      "        \n",
      "  warnings.warn(str(e))\n",
      "/opt/hostedtoolcache/Python/3.9.19/x64/lib/python3.9/site-packages/arxiv_on_deck_2/latex_bib.py:132: UserWarning: Error processing bibitem\n",
      " item = \\bibitem{Dipper+04}N.~A. Dipper and C.~Blackburn, ``{The use of object-oriented techniques and CORBA in astronomical instrumentation control systems},'' in {\\em {Advanced Software, Control, and Communication Systems for Astronomy}},  H.~Lewis and G.~Raffi, Eds.,  {\\bf 5496}, 565 -- 573, International Society for Optics and Photonics, SPIE  (2004).\n",
      " regex = \n",
      "        \\\\bibitem(\\[[^\\[\\]]*?\\]){(?P<bibkey>[a-zA-Z0-9\\-\\+\\.\\S]+?)}(?P<authors>|([\\D]*?))(?P<year>[12][0-9]{3})(?P<rest>.*)\n",
      "        \n",
      "  warnings.warn(str(e))\n",
      "/opt/hostedtoolcache/Python/3.9.19/x64/lib/python3.9/site-packages/arxiv_on_deck_2/latex_bib.py:132: UserWarning: Error processing bibitem\n",
      " item = \\bibitem{Park+22TCS}J.~Park, J.-O. Lee, J.~Kim, {\\em et~al.}, ``{Application of NASA core Flight System to Telescope Control Software for 2017 Total Solar Eclipse Observation},'' {\\em Publications of the Astronomical Society of the Pacific} {\\bf 134}, 034504  (2022).\n",
      " regex = \n",
      "        \\\\bibitem(\\[[^\\[\\]]*?\\]){(?P<bibkey>[a-zA-Z0-9\\-\\+\\.\\S]+?)}(?P<authors>|([\\D]*?))(?P<year>[12][0-9]{3})(?P<rest>.*)\n",
      "        \n",
      "  warnings.warn(str(e))\n",
      "/opt/hostedtoolcache/Python/3.9.19/x64/lib/python3.9/site-packages/arxiv_on_deck_2/latex_bib.py:132: UserWarning: Error processing bibitem\n",
      " item = \\bibitem{Kim+23}C.~Kim, J.~S{á}nchez-Gallego, P.~Bilgi, {\\em et~al.}, ``{Automatic spectrograph control software for SDSS-V Local Volume Mapper},'' {\\em Journal of Astronomical Telescopes, Instruments, and Systems} {\\bf 9}(3), 037002  (2023).\n",
      " regex = \n",
      "        \\\\bibitem(\\[[^\\[\\]]*?\\]){(?P<bibkey>[a-zA-Z0-9\\-\\+\\.\\S]+?)}(?P<authors>|([\\D]*?))(?P<year>[12][0-9]{3})(?P<rest>.*)\n",
      "        \n",
      "  warnings.warn(str(e))\n",
      "/opt/hostedtoolcache/Python/3.9.19/x64/lib/python3.9/site-packages/arxiv_on_deck_2/latex_bib.py:132: UserWarning: Error processing bibitem\n",
      " item = \\bibitem{Bento+22}J.~Bento, R.~J. Smith, D.~M. Arnold, {\\em et~al.}, ``{Software architecture and development plan for a 4m fully autonomous observatory (New Robotic Telescope)},'' in {\\em Software and Cyberinfrastructure for Astronomy VII},  J.~Ibsen and G.~Chiozzi, Eds.,  {\\bf 12189}, 121890C, International Society for Optics and Photonics, SPIE  (2022).\n",
      " regex = \n",
      "        \\\\bibitem(\\[[^\\[\\]]*?\\]){(?P<bibkey>[a-zA-Z0-9\\-\\+\\.\\S]+?)}(?P<authors>|([\\D]*?))(?P<year>[12][0-9]{3})(?P<rest>.*)\n",
      "        \n",
      "  warnings.warn(str(e))\n",
      "/opt/hostedtoolcache/Python/3.9.19/x64/lib/python3.9/site-packages/arxiv_on_deck_2/latex_bib.py:132: UserWarning: Error processing bibitem\n",
      " item = \\bibitem{Ji+20}T.-G. Ji, E.~Cook, S.~Pak, {\\em et~al.}, ``{Camera articulation prototype of the Giant Magellan Telescope Multi-object Astronomical and Cosmological Spectrograph (GMACS)},'' in {\\em Software and Cyberinfrastructure for Astronomy VI},  J.~C. Guzman and J.~Ibsen, Eds.,  {\\bf 11452}, 1145224, International Society for Optics and Photonics, SPIE  (2020).\n",
      " regex = \n",
      "        \\\\bibitem(\\[[^\\[\\]]*?\\]){(?P<bibkey>[a-zA-Z0-9\\-\\+\\.\\S]+?)}(?P<authors>|([\\D]*?))(?P<year>[12][0-9]{3})(?P<rest>.*)\n",
      "        \n",
      "  warnings.warn(str(e))\n",
      "/opt/hostedtoolcache/Python/3.9.19/x64/lib/python3.9/site-packages/arxiv_on_deck_2/latex_bib.py:132: UserWarning: Error processing bibitem\n",
      " item = \\bibitem{Baxter+22}A.~L. Baxter, S.~Y. BenZvi, W.~Bonivento, {\\em et~al.}, ``{Collaborative experience between scientific software projects using Agile Scrum development},'' {\\em Software: Practice and Experience} {\\bf 52}(10), 2077--2096  (2022).\n",
      " regex = \n",
      "        \\\\bibitem(\\[[^\\[\\]]*?\\]){(?P<bibkey>[a-zA-Z0-9\\-\\+\\.\\S]+?)}(?P<authors>|([\\D]*?))(?P<year>[12][0-9]{3})(?P<rest>.*)\n",
      "        \n",
      "  warnings.warn(str(e))\n",
      "/opt/hostedtoolcache/Python/3.9.19/x64/lib/python3.9/site-packages/arxiv_on_deck_2/latex_bib.py:132: UserWarning: Error processing bibitem\n",
      " item = \\bibitem{Ravanmehr+14}R.~Ravanmehr and A.~Jafarzadeh, ``{INO340 telescope control system: software architecture and development},'' in {\\em Software and Cyberinfrastructure for Astronomy III},  G.~Chiozzi and N.~M. Radziwill, Eds.,  {\\bf 9152}, 91521Q, International Society for Optics and Photonics, SPIE  (2014).\n",
      " regex = \n",
      "        \\\\bibitem(\\[[^\\[\\]]*?\\]){(?P<bibkey>[a-zA-Z0-9\\-\\+\\.\\S]+?)}(?P<authors>|([\\D]*?))(?P<year>[12][0-9]{3})(?P<rest>.*)\n",
      "        \n",
      "  warnings.warn(str(e))\n",
      "/opt/hostedtoolcache/Python/3.9.19/x64/lib/python3.9/site-packages/arxiv_on_deck_2/latex_bib.py:132: UserWarning: Error processing bibitem\n",
      " item = \\bibitem{lvmscp}J.~S{á}nchez-Gallego, changgonKim, mmingyeong, {\\em et~al.}, ``sdss/lvmscp: lvmscp 0.6.6,''  (2023).\n",
      " regex = \n",
      "        \\\\bibitem(\\[[^\\[\\]]*?\\]){(?P<bibkey>[a-zA-Z0-9\\-\\+\\.\\S]+?)}(?P<authors>|([\\D]*?))(?P<year>[12][0-9]{3})(?P<rest>.*)\n",
      "        \n",
      "  warnings.warn(str(e))\n",
      "/opt/hostedtoolcache/Python/3.9.19/x64/lib/python3.9/site-packages/arxiv_on_deck_2/latex_bib.py:132: UserWarning: Error processing bibitem\n",
      " item = \\bibitem{lvmecp}mmingyeong, J.~S{á}nchez-Gallego, and F.~B., ``sdss/lvmecp: lvmecp 0.4.0,''  (2023).\n",
      " regex = \n",
      "        \\\\bibitem(\\[[^\\[\\]]*?\\]){(?P<bibkey>[a-zA-Z0-9\\-\\+\\.\\S]+?)}(?P<authors>|([\\D]*?))(?P<year>[12][0-9]{3})(?P<rest>.*)\n",
      "        \n",
      "  warnings.warn(str(e))\n",
      "/opt/hostedtoolcache/Python/3.9.19/x64/lib/python3.9/site-packages/arxiv_on_deck_2/latex_bib.py:132: UserWarning: Error processing bibitem\n",
      " item = \\bibitem{lvmpwi}F.~B., J.~S{á}nchez-Gallego, and HojaeAhn, ``sdss/lvmpwi: lvmpwi 0.0.36,''  (2023).\n",
      " regex = \n",
      "        \\\\bibitem(\\[[^\\[\\]]*?\\]){(?P<bibkey>[a-zA-Z0-9\\-\\+\\.\\S]+?)}(?P<authors>|([\\D]*?))(?P<year>[12][0-9]{3})(?P<rest>.*)\n",
      "        \n",
      "  warnings.warn(str(e))\n",
      "/opt/hostedtoolcache/Python/3.9.19/x64/lib/python3.9/site-packages/arxiv_on_deck_2/latex_bib.py:132: UserWarning: Error processing bibitem\n",
      " item = \\bibitem{L350}\\text{PlaneWave Instruments, Inc.}, ``{L-350 Mount specifications},''  (2024).\n",
      " regex = \n",
      "        \\\\bibitem(\\[[^\\[\\]]*?\\]){(?P<bibkey>[a-zA-Z0-9\\-\\+\\.\\S]+?)}(?P<authors>|([\\D]*?))(?P<year>[12][0-9]{3})(?P<rest>.*)\n",
      "        \n",
      "  warnings.warn(str(e))\n",
      "/opt/hostedtoolcache/Python/3.9.19/x64/lib/python3.9/site-packages/arxiv_on_deck_2/latex_bib.py:132: UserWarning: Error processing bibitem\n",
      " item = \\bibitem{lvmtan}F.~B., J.~S{á}nchez-Gallego, and changgonKim, ``sdss/lvmtan: lvmtan 0.2.4,''  (2023).\n",
      " regex = \n",
      "        \\\\bibitem(\\[[^\\[\\]]*?\\]){(?P<bibkey>[a-zA-Z0-9\\-\\+\\.\\S]+?)}(?P<authors>|([\\D]*?))(?P<year>[12][0-9]{3})(?P<rest>.*)\n",
      "        \n",
      "  warnings.warn(str(e))\n",
      "/opt/hostedtoolcache/Python/3.9.19/x64/lib/python3.9/site-packages/arxiv_on_deck_2/latex_bib.py:132: UserWarning: Error processing bibitem\n",
      " item = \\bibitem{lvmcam}M.~Jeon and leesumin KHU, ``sdss/lvmcam: v0.2.5,''  (2022).\n",
      " regex = \n",
      "        \\\\bibitem(\\[[^\\[\\]]*?\\]){(?P<bibkey>[a-zA-Z0-9\\-\\+\\.\\S]+?)}(?P<authors>|([\\D]*?))(?P<year>[12][0-9]{3})(?P<rest>.*)\n",
      "        \n",
      "  warnings.warn(str(e))\n",
      "/opt/hostedtoolcache/Python/3.9.19/x64/lib/python3.9/site-packages/arxiv_on_deck_2/latex_bib.py:132: UserWarning: Error processing bibitem\n",
      " item = \\bibitem{Gaia+21}{Gaia Collaboration}, {Brown, A. G. A.}, {Vallenari, A.}, {\\em et~al.}, ``{Gaia Early Data Release 3 - Summary of the contents and survey properties},'' {\\em Astronomy  Astrophysics} {\\bf 649}, A1  (2021).\n",
      " regex = \n",
      "        \\\\bibitem(\\[[^\\[\\]]*?\\]){(?P<bibkey>[a-zA-Z0-9\\-\\+\\.\\S]+?)}(?P<authors>|([\\D]*?))(?P<year>[12][0-9]{3})(?P<rest>.*)\n",
      "        \n",
      "  warnings.warn(str(e))\n",
      "/opt/hostedtoolcache/Python/3.9.19/x64/lib/python3.9/site-packages/arxiv_on_deck_2/latex_bib.py:132: UserWarning: Error processing bibitem\n",
      " item = \\bibitem{araviscam}J.~R. Sánchez-Gallego, F.~Briegel, and R.~J. Mathar, ``{araviscam repository},''  (2023).\n",
      " regex = \n",
      "        \\\\bibitem(\\[[^\\[\\]]*?\\]){(?P<bibkey>[a-zA-Z0-9\\-\\+\\.\\S]+?)}(?P<authors>|([\\D]*?))(?P<year>[12][0-9]{3})(?P<rest>.*)\n",
      "        \n",
      "  warnings.warn(str(e))\n",
      "/opt/hostedtoolcache/Python/3.9.19/x64/lib/python3.9/site-packages/arxiv_on_deck_2/latex_bib.py:132: UserWarning: Error processing bibitem\n",
      " item = \\bibitem{lvmnps}mmingyeong, changgonKim, F.~B., {\\em et~al.}, ``sdss/lvmnps: lvmnps 0.4.0,''  (2023).\n",
      " regex = \n",
      "        \\\\bibitem(\\[[^\\[\\]]*?\\]){(?P<bibkey>[a-zA-Z0-9\\-\\+\\.\\S]+?)}(?P<authors>|([\\D]*?))(?P<year>[12][0-9]{3})(?P<rest>.*)\n",
      "        \n",
      "  warnings.warn(str(e))\n",
      "/opt/hostedtoolcache/Python/3.9.19/x64/lib/python3.9/site-packages/arxiv_on_deck_2/latex_bib.py:132: UserWarning: Error processing bibitem\n",
      " item = \\bibitem{python_template}\\text{SDSS Collaboration}, ``{SDSS Python template documentation},''  (2017).\n",
      " regex = \n",
      "        \\\\bibitem(\\[[^\\[\\]]*?\\]){(?P<bibkey>[a-zA-Z0-9\\-\\+\\.\\S]+?)}(?P<authors>|([\\D]*?))(?P<year>[12][0-9]{3})(?P<rest>.*)\n",
      "        \n",
      "  warnings.warn(str(e))\n",
      "/opt/hostedtoolcache/Python/3.9.19/x64/lib/python3.9/site-packages/arxiv_on_deck_2/latex_bib.py:132: UserWarning: Error processing bibitem\n",
      " item = \\bibitem{cookiecutter}{Cookiecutter community}, ``Cookiecutter documentation,''  (2013).\n",
      " regex = \n",
      "        \\\\bibitem(\\[[^\\[\\]]*?\\]){(?P<bibkey>[a-zA-Z0-9\\-\\+\\.\\S]+?)}(?P<authors>|([\\D]*?))(?P<year>[12][0-9]{3})(?P<rest>.*)\n",
      "        \n",
      "  warnings.warn(str(e))\n",
      "/opt/hostedtoolcache/Python/3.9.19/x64/lib/python3.9/site-packages/arxiv_on_deck_2/latex_bib.py:132: UserWarning: Error processing bibitem\n",
      " item = \\bibitem{Vinoski06}S.~Vinoski, ``{Advanced Message Queuing Protocol},'' {\\em IEEE Internet Computing} {\\bf 10}(6), 87--89  (2006).\n",
      " regex = \n",
      "        \\\\bibitem(\\[[^\\[\\]]*?\\]){(?P<bibkey>[a-zA-Z0-9\\-\\+\\.\\S]+?)}(?P<authors>|([\\D]*?))(?P<year>[12][0-9]{3})(?P<rest>.*)\n",
      "        \n",
      "  warnings.warn(str(e))\n",
      "/opt/hostedtoolcache/Python/3.9.19/x64/lib/python3.9/site-packages/arxiv_on_deck_2/latex_bib.py:132: UserWarning: Error processing bibitem\n",
      " item = \\bibitem{RabbitMQ}Broadcom, ``{RabbitMQ homepage},''  (2005).\n",
      " regex = \n",
      "        \\\\bibitem(\\[[^\\[\\]]*?\\]){(?P<bibkey>[a-zA-Z0-9\\-\\+\\.\\S]+?)}(?P<authors>|([\\D]*?))(?P<year>[12][0-9]{3})(?P<rest>.*)\n",
      "        \n",
      "  warnings.warn(str(e))\n",
      "/opt/hostedtoolcache/Python/3.9.19/x64/lib/python3.9/site-packages/arxiv_on_deck_2/latex_bib.py:132: UserWarning: Error processing bibitem\n",
      " item = \\bibitem{clu}J.~S{á}nchez-Gallego and F.~B., ``{sdss/clu: CLU 2.0.2b1},''  (2023).\n",
      " regex = \n",
      "        \\\\bibitem(\\[[^\\[\\]]*?\\]){(?P<bibkey>[a-zA-Z0-9\\-\\+\\.\\S]+?)}(?P<authors>|([\\D]*?))(?P<year>[12][0-9]{3})(?P<rest>.*)\n",
      "        \n",
      "  warnings.warn(str(e))\n",
      "/opt/hostedtoolcache/Python/3.9.19/x64/lib/python3.9/site-packages/arxiv_on_deck_2/latex_bib.py:132: UserWarning: Error processing bibitem\n",
      " item = \\bibitem{click}Pallets, ``{Click documentation},''  (2014).\n",
      " regex = \n",
      "        \\\\bibitem(\\[[^\\[\\]]*?\\]){(?P<bibkey>[a-zA-Z0-9\\-\\+\\.\\S]+?)}(?P<authors>|([\\D]*?))(?P<year>[12][0-9]{3})(?P<rest>.*)\n",
      "        \n",
      "  warnings.warn(str(e))\n",
      "/opt/hostedtoolcache/Python/3.9.19/x64/lib/python3.9/site-packages/arxiv_on_deck_2/latex_bib.py:132: UserWarning: Error processing bibitem\n",
      " item = \\bibitem{asyncio}\\text{Python Software Foundation}, ``Asyncio documentation,''  (2001).\n",
      " regex = \n",
      "        \\\\bibitem(\\[[^\\[\\]]*?\\]){(?P<bibkey>[a-zA-Z0-9\\-\\+\\.\\S]+?)}(?P<authors>|([\\D]*?))(?P<year>[12][0-9]{3})(?P<rest>.*)\n",
      "        \n",
      "  warnings.warn(str(e))\n",
      "/opt/hostedtoolcache/Python/3.9.19/x64/lib/python3.9/site-packages/arxiv_on_deck_2/latex_bib.py:132: UserWarning: Error processing bibitem\n",
      " item = \\bibitem{cluplus}F.~Briegel, ``cluplus repository,''  (2023).\n",
      " regex = \n",
      "        \\\\bibitem(\\[[^\\[\\]]*?\\]){(?P<bibkey>[a-zA-Z0-9\\-\\+\\.\\S]+?)}(?P<authors>|([\\D]*?))(?P<year>[12][0-9]{3})(?P<rest>.*)\n",
      "        \n",
      "  warnings.warn(str(e))\n",
      "/opt/hostedtoolcache/Python/3.9.19/x64/lib/python3.9/site-packages/arxiv_on_deck_2/latex_bib.py:132: UserWarning: Error processing bibitem\n",
      " item = \\bibitem{Docker}\\text{Docker Inc.}, ``Docker homepage,''  (2023).\n",
      " regex = \n",
      "        \\\\bibitem(\\[[^\\[\\]]*?\\]){(?P<bibkey>[a-zA-Z0-9\\-\\+\\.\\S]+?)}(?P<authors>|([\\D]*?))(?P<year>[12][0-9]{3})(?P<rest>.*)\n",
      "        \n",
      "  warnings.warn(str(e))\n",
      "/opt/hostedtoolcache/Python/3.9.19/x64/lib/python3.9/site-packages/arxiv_on_deck_2/latex_bib.py:132: UserWarning: Error processing bibitem\n",
      " item = \\bibitem{Podman}Podman, ``Podman homepage,''  (2023).\n",
      " regex = \n",
      "        \\\\bibitem(\\[[^\\[\\]]*?\\]){(?P<bibkey>[a-zA-Z0-9\\-\\+\\.\\S]+?)}(?P<authors>|([\\D]*?))(?P<year>[12][0-9]{3})(?P<rest>.*)\n",
      "        \n",
      "  warnings.warn(str(e))\n",
      "/opt/hostedtoolcache/Python/3.9.19/x64/lib/python3.9/site-packages/arxiv_on_deck_2/latex_bib.py:132: UserWarning: Error processing bibitem\n",
      " item = \\bibitem{Haberle+22}M.~H{ä}berle, T.~M. Herbst, P.~Bizenberger, {\\em et~al.}, ``{Validating the local volume mapper acquisition and guiding hardware},'' in {\\em Ground-based and Airborne Instrumentation for Astronomy IX},  C.~J. Evans, J.~J. Bryant, and K.~Motohara, Eds.,  {\\bf 12184}, 121846U, International Society for Optics and Photonics, SPIE  (2022).\n",
      " regex = \n",
      "        \\\\bibitem(\\[[^\\[\\]]*?\\]){(?P<bibkey>[a-zA-Z0-9\\-\\+\\.\\S]+?)}(?P<authors>|([\\D]*?))(?P<year>[12][0-9]{3})(?P<rest>.*)\n",
      "        \n",
      "  warnings.warn(str(e))\n",
      "/opt/hostedtoolcache/Python/3.9.19/x64/lib/python3.9/site-packages/arxiv_on_deck_2/latex_bib.py:132: UserWarning: Error processing bibitem\n",
      " item = \\bibitem{Stetson87}P.~B. Stetson, ``{DAOPHOT: A COMPUTER PROGRAM FOR CROWDED-FIELD STELLAR PHOTOMETRY},'' {\\em Publications of the Astronomical Society of the Pacific} {\\bf 99}, 191  (1987).\n",
      " regex = \n",
      "        \\\\bibitem(\\[[^\\[\\]]*?\\]){(?P<bibkey>[a-zA-Z0-9\\-\\+\\.\\S]+?)}(?P<authors>|([\\D]*?))(?P<year>[12][0-9]{3})(?P<rest>.*)\n",
      "        \n",
      "  warnings.warn(str(e))\n",
      "/opt/hostedtoolcache/Python/3.9.19/x64/lib/python3.9/site-packages/arxiv_on_deck_2/latex_bib.py:132: UserWarning: Error processing bibitem\n",
      " item = \\bibitem{photutils}L.~Bradley, B.~Sipőcz, T.~Robitaille, {\\em et~al.}, ``astropy/photutils: 1.3.0,''  (2021).\n",
      " regex = \n",
      "        \\\\bibitem(\\[[^\\[\\]]*?\\]){(?P<bibkey>[a-zA-Z0-9\\-\\+\\.\\S]+?)}(?P<authors>|([\\D]*?))(?P<year>[12][0-9]{3})(?P<rest>.*)\n",
      "        \n",
      "  warnings.warn(str(e))\n",
      "/opt/hostedtoolcache/Python/3.9.19/x64/lib/python3.9/site-packages/arxiv_on_deck_2/latex_bib.py:132: UserWarning: Error processing bibitem\n",
      " item = \\bibitem{Maneewongvatana+99}S.~{Maneewongvatana} and D.~M. {Mount}, ``{Analysis of approximate nearest neighbor searching with clustered point sets},'' {\\em arXiv e-prints} , cs/9901013  (1999).\n",
      " regex = \n",
      "        \\\\bibitem(\\[[^\\[\\]]*?\\]){(?P<bibkey>[a-zA-Z0-9\\-\\+\\.\\S]+?)}(?P<authors>|([\\D]*?))(?P<year>[12][0-9]{3})(?P<rest>.*)\n",
      "        \n",
      "  warnings.warn(str(e))\n",
      "/opt/hostedtoolcache/Python/3.9.19/x64/lib/python3.9/site-packages/arxiv_on_deck_2/latex_bib.py:132: UserWarning: Error processing bibitem\n",
      " item = \\bibitem{Virtanen+20}P.~Virtanen, R.~Gommers, T.~E. Oliphant, {\\em et~al.}, ``{SciPy 1.0: Fundamental Algorithms for Scientific Computing in Python},'' {\\em Nature Methods} {\\bf 17}, 261--272  (2020).\n",
      " regex = \n",
      "        \\\\bibitem(\\[[^\\[\\]]*?\\]){(?P<bibkey>[a-zA-Z0-9\\-\\+\\.\\S]+?)}(?P<authors>|([\\D]*?))(?P<year>[12][0-9]{3})(?P<rest>.*)\n",
      "        \n",
      "  warnings.warn(str(e))\n",
      "/opt/hostedtoolcache/Python/3.9.19/x64/lib/python3.9/site-packages/arxiv_on_deck_2/latex_bib.py:132: UserWarning: Error processing bibitem\n",
      " item = \\bibitem{Lang+10}D.~{Lang}, D.~W. {Hogg}, K.~{Mierle}, {\\em et~al.}, ``{Astrometry.net: Blind Astrometric Calibration of Arbitrary Astronomical Images},'' {\\em The Astronomical Journal} {\\bf 139}, 1782--1800  (2010).\n",
      " regex = \n",
      "        \\\\bibitem(\\[[^\\[\\]]*?\\]){(?P<bibkey>[a-zA-Z0-9\\-\\+\\.\\S]+?)}(?P<authors>|([\\D]*?))(?P<year>[12][0-9]{3})(?P<rest>.*)\n",
      "        \n",
      "  warnings.warn(str(e))\n",
      "/opt/hostedtoolcache/Python/3.9.19/x64/lib/python3.9/site-packages/arxiv_on_deck_2/latex_bib.py:132: UserWarning: Error processing bibitem\n",
      " item = \\bibitem{Slocum10}A.~Slocum, ``{Kinematic couplings: A review of design principles and applications},'' {\\em International Journal of Machine Tools and Manufacture} {\\bf 50}(4), 310--327  (2010).\n",
      " regex = \n",
      "        \\\\bibitem(\\[[^\\[\\]]*?\\]){(?P<bibkey>[a-zA-Z0-9\\-\\+\\.\\S]+?)}(?P<authors>|([\\D]*?))(?P<year>[12][0-9]{3})(?P<rest>.*)\n",
      "        \n",
      "  warnings.warn(str(e))\n",
      "/opt/hostedtoolcache/Python/3.9.19/x64/lib/python3.9/site-packages/arxiv_on_deck_2/latex_bib.py:132: UserWarning: Error processing bibitem\n",
      " item = \\bibitem{Han+21}J.~Han, S.~Lee, B.~Moon, {\\em et~al.}, ``{Lightweight Aluminum Mirror with Duplex Layers},'' in {\\em OSA Optical Design and Fabrication 2021 (Flat Optics, Freeform, IODC, OFT)},  OW2B.7, Optica Publishing Group  (2021).\n",
      " regex = \n",
      "        \\\\bibitem(\\[[^\\[\\]]*?\\]){(?P<bibkey>[a-zA-Z0-9\\-\\+\\.\\S]+?)}(?P<authors>|([\\D]*?))(?P<year>[12][0-9]{3})(?P<rest>.*)\n",
      "        \n",
      "  warnings.warn(str(e))\n",
      "/opt/hostedtoolcache/Python/3.9.19/x64/lib/python3.9/site-packages/arxiv_on_deck_2/latex_bib.py:132: UserWarning: Error processing bibitem\n",
      " item = \\bibitem{Park+22TRT}W.~Park, S.~Lee, J.~Han, {\\em et~al.}, ``{Development of Lightweight Optical Telescope Kit using Aluminum Profile and Isogrid Structure},'' {\\em Journal of The Korean Astronomical Society} {\\bf 55}(1), 11--22  (2022).\n",
      " regex = \n",
      "        \\\\bibitem(\\[[^\\[\\]]*?\\]){(?P<bibkey>[a-zA-Z0-9\\-\\+\\.\\S]+?)}(?P<authors>|([\\D]*?))(?P<year>[12][0-9]{3})(?P<rest>.*)\n",
      "        \n",
      "  warnings.warn(str(e))\n",
      "/opt/hostedtoolcache/Python/3.9.19/x64/lib/python3.9/site-packages/arxiv_on_deck_2/latex_bib.py:132: UserWarning: Error processing bibitem\n",
      " item = \\bibitem{Ahmad+18}A.~Ahmad, {\\em {Handbook of Optomechanical Engineering}}, Optical sciences and applications of light, CRC Press  (2018).\n",
      " regex = \n",
      "        \\\\bibitem(\\[[^\\[\\]]*?\\]){(?P<bibkey>[a-zA-Z0-9\\-\\+\\.\\S]+?)}(?P<authors>|([\\D]*?))(?P<year>[12][0-9]{3})(?P<rest>.*)\n",
      "        \n",
      "  warnings.warn(str(e))\n",
      "/opt/hostedtoolcache/Python/3.9.19/x64/lib/python3.9/site-packages/arxiv_on_deck_2/latex_bib.py:132: UserWarning: Error processing bibitem\n",
      " item = \\bibitem{Solidworks}{Dassault Systémes - SolidWorks Corporation}, ``Solidworks homepage,''  (2002).\n",
      " regex = \n",
      "        \\\\bibitem(\\[[^\\[\\]]*?\\]){(?P<bibkey>[a-zA-Z0-9\\-\\+\\.\\S]+?)}(?P<authors>|([\\D]*?))(?P<year>[12][0-9]{3})(?P<rest>.*)\n",
      "        \n",
      "  warnings.warn(str(e))\n",
      "/opt/hostedtoolcache/Python/3.9.19/x64/lib/python3.9/site-packages/arxiv_on_deck_2/latex_bib.py:132: UserWarning: Error processing bibitem\n",
      " item = \\bibitem{Thomas+10}J.~E. Thomas-Osip, P.~McCarthy, G.~Prieto, {\\em et~al.}, ``{Giant Magellan Telescope site testing: summary},'' in {\\em Ground-based and Airborne Telescopes III},  L.~M. Stepp, R.~Gilmozzi, and H.~J. Hall, Eds.,  {\\bf 7733}, 77331L, International Society for Optics and Photonics, SPIE  (2010).\n",
      " regex = \n",
      "        \\\\bibitem(\\[[^\\[\\]]*?\\]){(?P<bibkey>[a-zA-Z0-9\\-\\+\\.\\S]+?)}(?P<authors>|([\\D]*?))(?P<year>[12][0-9]{3})(?P<rest>.*)\n",
      "        \n",
      "  warnings.warn(str(e))\n",
      "/opt/hostedtoolcache/Python/3.9.19/x64/lib/python3.9/site-packages/arxiv_on_deck_2/latex_bib.py:132: UserWarning: Error processing bibitem\n",
      " item = \\bibitem{Ullman17}D.~G. Ullman, {\\em {The Mechanical Design Process}}, McGraw-Hill Education  (2009).\n",
      " regex = \n",
      "        \\\\bibitem(\\[[^\\[\\]]*?\\]){(?P<bibkey>[a-zA-Z0-9\\-\\+\\.\\S]+?)}(?P<authors>|([\\D]*?))(?P<year>[12][0-9]{3})(?P<rest>.*)\n",
      "        \n",
      "  warnings.warn(str(e))\n",
      "/opt/hostedtoolcache/Python/3.9.19/x64/lib/python3.9/site-packages/arxiv_on_deck_2/latex_bib.py:132: UserWarning: Error processing bibitem\n",
      " item = \\bibitem{Im+21}M.~Im, Y.~Kim, C.-U. Lee, {\\em et~al.}, ``{SOMANGNET: SMALL TELESCOPE NETWORK OF KOREA},'' {\\em {Journal of The Korean Astronomical Society}} {\\bf {54}}, 89--102  (2021).\n",
      " regex = \n",
      "        \\\\bibitem(\\[[^\\[\\]]*?\\]){(?P<bibkey>[a-zA-Z0-9\\-\\+\\.\\S]+?)}(?P<authors>|([\\D]*?))(?P<year>[12][0-9]{3})(?P<rest>.*)\n",
      "        \n",
      "  warnings.warn(str(e))\n",
      "/opt/hostedtoolcache/Python/3.9.19/x64/lib/python3.9/site-packages/arxiv_on_deck_2/latex_bib.py:132: UserWarning: Error processing bibitem\n",
      " item = \\bibitem{Ahn+22}H.~Ahn, F.~Briegel, M.~Jeon, {\\em et~al.}, ``{LVMAGP: SDSS-V local volume mapper acquisition and guiding package},'' in {\\em Software and Cyberinfrastructure for Astronomy VII},  J.~Ibsen and G.~Chiozzi, Eds.,  {\\bf 12189}, 121892E, International Society for Optics and Photonics, SPIE  (2022).\\end{thebibliography}\n",
      " regex = \n",
      "        \\\\bibitem(\\[[^\\[\\]]*?\\]){(?P<bibkey>[a-zA-Z0-9\\-\\+\\.\\S]+?)}(?P<authors>|([\\D]*?))(?P<year>[12][0-9]{3})(?P<rest>.*)\n",
      "        \n",
      "  warnings.warn(str(e))\n"
     ]
    },
    {
     "name": "stdout",
     "output_type": "stream",
     "text": [
      "extracting tarball to tmp_2407.08533... done.\n"
     ]
    },
    {
     "name": "stderr",
     "output_type": "stream",
     "text": [
      "/opt/hostedtoolcache/Python/3.9.19/x64/lib/python3.9/site-packages/arxiv_on_deck_2/latex.py:488: LatexWarning: Error parsing the document directly. Trying to recover.\n",
      "  warnings.warn(LatexWarning(f\"Error parsing the document directly. Trying to recover.\"))\n"
     ]
    },
    {
     "name": "stdout",
     "output_type": "stream",
     "text": [
      "✔ → 0:header\n",
      "  ↳ 2419:\\section{Introduction}\n",
      "✔ → 2419:\\section{Introduction}\n",
      "  ↳ 6779:\\section{Methods}\n",
      "✔ → 6779:\\section{Methods}\n",
      "  ↳ 9985:\\section{Dust mass evolution during planet formation}\n"
     ]
    },
    {
     "name": "stdout",
     "output_type": "stream",
     "text": [
      "✔ → 9985:\\section{Dust mass evolution during planet formation}\n",
      "  ↳ 22059:\\section{The mass budget problem}\n",
      "✔ → 22059:\\section{The mass budget problem}\n",
      "  ↳ 27065:\\section{Conclusions}\n",
      "✔ → 27065:\\section{Conclusions}\n",
      "  ↳ 29461:\\begin{appendix}\n",
      "✔ → 29461:\\begin{appendix}\n",
      "  ↳ 29478:\\section{Parameter study}\n",
      "✔ → 29478:\\section{Parameter study}\n",
      "  ↳ 30574:\\section{Caveats}\n"
     ]
    },
    {
     "name": "stdout",
     "output_type": "stream",
     "text": [
      "✔ → 30574:\\section{Caveats}\n",
      "  ↳ 36775:end\n",
      "S. Savvidou  ->  S. Savvidou  |  ['S. Savvidou']\n"
     ]
    },
    {
     "name": "stderr",
     "output_type": "stream",
     "text": [
      "/opt/hostedtoolcache/Python/3.9.19/x64/lib/python3.9/site-packages/arxiv_on_deck_2/latex.py:132: LatexWarning: attempting recovering figure Mdust_opticallythin_evolution_main\n",
      "  warnings.warn(LatexWarning(f'attempting recovering figure {image}'))\n",
      "/opt/hostedtoolcache/Python/3.9.19/x64/lib/python3.9/site-packages/arxiv_on_deck_2/latex.py:137: LatexWarning: Recovered figure Mdust_opticallythin_evolution_main as tmp_2407.08533/./Mdust_opticallythin_evolution_main.pdf\n",
      "  warnings.warn(LatexWarning(f'Recovered figure {image} as {fname}'))\n"
     ]
    },
    {
     "name": "stderr",
     "output_type": "stream",
     "text": [
      "/opt/hostedtoolcache/Python/3.9.19/x64/lib/python3.9/site-packages/arxiv_on_deck_2/latex.py:132: LatexWarning: attempting recovering figure CDF_allMdust\n",
      "  warnings.warn(LatexWarning(f'attempting recovering figure {image}'))\n",
      "/opt/hostedtoolcache/Python/3.9.19/x64/lib/python3.9/site-packages/arxiv_on_deck_2/latex.py:137: LatexWarning: Recovered figure CDF_allMdust as tmp_2407.08533/./CDF_allMdust.pdf\n",
      "  warnings.warn(LatexWarning(f'Recovered figure {image} as {fname}'))\n"
     ]
    },
    {
     "name": "stderr",
     "output_type": "stream",
     "text": [
      "/opt/hostedtoolcache/Python/3.9.19/x64/lib/python3.9/site-packages/arxiv_on_deck_2/latex.py:132: LatexWarning: attempting recovering figure Mdust_opticallythin_evolution\n",
      "  warnings.warn(LatexWarning(f'attempting recovering figure {image}'))\n",
      "/opt/hostedtoolcache/Python/3.9.19/x64/lib/python3.9/site-packages/arxiv_on_deck_2/latex.py:137: LatexWarning: Recovered figure Mdust_opticallythin_evolution as tmp_2407.08533/./Mdust_opticallythin_evolution.pdf\n",
      "  warnings.warn(LatexWarning(f'Recovered figure {image} as {fname}'))\n"
     ]
    },
    {
     "name": "stderr",
     "output_type": "stream",
     "text": [
      "/opt/hostedtoolcache/Python/3.9.19/x64/lib/python3.9/site-packages/arxiv_on_deck_2/latex.py:132: LatexWarning: attempting recovering figure Intensity_plot\n",
      "  warnings.warn(LatexWarning(f'attempting recovering figure {image}'))\n",
      "/opt/hostedtoolcache/Python/3.9.19/x64/lib/python3.9/site-packages/arxiv_on_deck_2/latex.py:137: LatexWarning: Recovered figure Intensity_plot as tmp_2407.08533/./Intensity_plot.pdf\n",
      "  warnings.warn(LatexWarning(f'Recovered figure {image} as {fname}'))\n"
     ]
    },
    {
     "name": "stdout",
     "output_type": "stream",
     "text": [
      "Found 79 bibliographic references in tmp_2407.08533/SavvidouBitsch24.bbl.\n",
      "Retrieving document from  https://arxiv.org/e-print/2407.08643\n"
     ]
    },
    {
     "name": "stdout",
     "output_type": "stream",
     "text": [
      "extracting tarball to tmp_2407.08643..."
     ]
    },
    {
     "name": "stdout",
     "output_type": "stream",
     "text": [
      " done.\n"
     ]
    },
    {
     "name": "stdout",
     "output_type": "stream",
     "text": [
      "Found 154 bibliographic references in tmp_2407.08643/mnras_template.bbl.\n"
     ]
    }
   ],
   "source": [
    "documents = []\n",
    "failed = []\n",
    "for paper in tqdm(candidates):\n",
    "    # debug crap\n",
    "    paper['identifier'] = paper['identifier'].lower().replace('arxiv:', '').replace(r'\\n', '').strip()\n",
    "    paper_id = paper['identifier']\n",
    "    \n",
    "    folder = f'tmp_{paper_id}'\n",
    "\n",
    "    try:\n",
    "        if not os.path.isdir(folder):\n",
    "            folder = retrieve_document_source(f\"{paper_id}\", f'tmp_{paper_id}')\n",
    "        \n",
    "        try:\n",
    "            doc = latex.LatexDocument(folder, validation=validation)    \n",
    "        except AffiliationError as affilerror:\n",
    "            msg = f\"ArXiv:{paper_id:s} is not an MPIA paper... \" + str(affilerror)\n",
    "            failed.append((paper, \"affiliation error: \" + str(affilerror) ))\n",
    "            continue\n",
    "        \n",
    "        # Hack because sometimes author parsing does not work well\n",
    "        if (len(doc.authors) != len(paper['authors'])):\n",
    "            doc._authors = paper['authors']\n",
    "        else:\n",
    "            # highlight authors (FIXME: doc.highlight_authors)\n",
    "            # done on arxiv paper already\n",
    "            doc._authors = highlight_authors_in_list(\n",
    "                [mpia.get_initials(k) for k in doc.authors], \n",
    "                mpia_authors, verbose=True)\n",
    "        if (doc.abstract) in (None, ''):\n",
    "            doc._abstract = paper['abstract']\n",
    "            \n",
    "        doc.comment = (get_markdown_badge(paper_id) + \n",
    "                       \"<mark>Appeared on: \" + paper['date'] + \"</mark> - \")\n",
    "        if paper['comments']:\n",
    "            doc.comment += \" _\" + paper['comments'] + \"_\"\n",
    "        \n",
    "        full_md = doc.generate_markdown_text()\n",
    "        \n",
    "        full_md += get_markdown_qrcode(paper_id)\n",
    "        \n",
    "        # replace citations\n",
    "        try:\n",
    "            bibdata = latex_bib.LatexBib.from_doc(doc)\n",
    "            full_md = latex_bib.replace_citations(full_md, bibdata)\n",
    "        except Exception as e:\n",
    "            print(e)\n",
    "        \n",
    "        documents.append((paper_id, full_md))\n",
    "    except Exception as e:\n",
    "        warnings.warn(latex.LatexWarning(f\"{paper_id:s} did not run properly\\n\" +\n",
    "                                         str(e)\n",
    "                                        ))\n",
    "        failed.append((paper, \"latex error \" + str(e)))"
   ]
  },
  {
   "cell_type": "markdown",
   "id": "2505a25c",
   "metadata": {
    "papermill": {
     "duration": 0.004773,
     "end_time": "2024-07-12T04:10:28.028501",
     "exception": false,
     "start_time": "2024-07-12T04:10:28.023728",
     "status": "completed"
    },
    "tags": []
   },
   "source": [
    "### Export the logs\n",
    "\n",
    "Throughout, we also keep track of the logs per paper. see `logs-{today date}.md` "
   ]
  },
  {
   "cell_type": "code",
   "execution_count": 6,
   "id": "d733828a",
   "metadata": {
    "execution": {
     "iopub.execute_input": "2024-07-12T04:10:28.039242Z",
     "iopub.status.busy": "2024-07-12T04:10:28.038971Z",
     "iopub.status.idle": "2024-07-12T04:10:28.056972Z",
     "shell.execute_reply": "2024-07-12T04:10:28.056326Z"
    },
    "papermill": {
     "duration": 0.025234,
     "end_time": "2024-07-12T04:10:28.058419",
     "exception": false,
     "start_time": "2024-07-12T04:10:28.033185",
     "status": "completed"
    },
    "scrolled": false,
    "tags": []
   },
   "outputs": [
    {
     "data": {
      "text/markdown": [
       "## Successful papers"
      ],
      "text/plain": [
       "<IPython.core.display.Markdown object>"
      ]
     },
     "metadata": {},
     "output_type": "display_data"
    },
    {
     "data": {
      "text/markdown": [
       "\n",
       "|||\n",
       "|---:|:---|\n",
       "| [![arXiv](https://img.shields.io/badge/arXiv-2407.07940-b31b1b.svg)](https://arxiv.org/abs/2407.07940) | **Euclid preparation. Forecasting the recovery of galaxy physical properties and their relations with template-fitting and machine-learning methods**  |\n",
       "|| E. Collaboration, et al. -- incl., <mark>K. Jahnke</mark> |\n",
       "|*Appeared on*| *2024-07-12*|\n",
       "|*Comments*| *26 pages, 13 figures. Submitted to A&A*|\n",
       "|**Abstract**|            Euclid will collect an enormous amount of data during the mission's lifetime, observing billions of galaxies in the extragalactic sky. Along with traditional template-fitting methods, numerous Machine Learning algorithms have been presented for computing their photometric redshifts and physical parameters (PP), requiring significantly less computing effort while producing equivalent performance measures. However, their performance is limited by the quality and amount of input information, to the point where the recovery of some well-established physical relationships between parameters might not be guaranteed. To forecast the reliability of Euclid photo-$z$s and PPs calculations, we produced two mock catalogs simulating Euclid photometry. We simulated the Euclid Wide Survey (EWS) and Euclid Deep Fields (EDF). We tested the performance of a template-fitting algorithm (Phosphoros) and four ML methods in recovering photo-$z$s, stellar masses, star-formation rates, and the SFMS. To mimic the Euclid processing as closely as possible, the models were trained with Phosphoros-recovered labels. For the EWS, we found that the best results are achieved with a Mixed Labels approach, training the models with Wide survey features and labels from the Phosphoros results on deeper photometry, i.e., with the best possible set of labels for a given photometry. This imposes a prior, helping the models to better discern cases in degenerate regions of feature space, i.e., when galaxies have similar magnitudes and colors but different redshifts and PPs, with performance metrics even better than those found with Phosphoros. We found no more than $3\\%$ performance degradation using a COSMOS-like reference sample or removing $u$ band data, which will not be available until after data release DR1. The best results are obtained for the EDF, with appropriate recovery of photo-$z$, PPs, and the SFMS.         |"
      ],
      "text/plain": [
       "[2407.07940] Euclid preparation. Forecasting the recovery of galaxy physical properties and their relations with template-fitting and machine-learning methods\n",
       "\tE. Collaboration, et al. -- incl., <mark>K. Jahnke</mark>"
      ]
     },
     "metadata": {},
     "output_type": "display_data"
    },
    {
     "data": {
      "text/markdown": [
       "\n",
       "|||\n",
       "|---:|:---|\n",
       "| [![arXiv](https://img.shields.io/badge/arXiv-2407.08319-b31b1b.svg)](https://arxiv.org/abs/2407.08319) | **Telescope control software and proto-model siderostat for the SDSS-V Local Volume Mapper**  |\n",
       "|| H. Ahn, et al. -- incl., <mark>F. Briegel</mark>, <mark>M. Kuhlberg</mark> |\n",
       "|*Appeared on*| *2024-07-12*|\n",
       "|*Comments*| *29 pages, 15 figures, in press at Journal of Astronomical Telescopes, Instruments, and Systems*|\n",
       "|**Abstract**|            The fifth Sloan Digital Sky Survey (SDSS-V) Local Volume Mapper (LVM) is a wide-field integral field unit (IFU) survey that uses an array of four 160 mm fixed telescopes with siderostats to minimize the number of moving parts. Individual telescope observes the science field or calibration field independently and is synchronized with the science exposure. We developed the LVM Acquisition and Guiding Package (LVMAGP) optimized telescope control software program for LVM observations, which can simultaneously control four focusers, three K-mirrors, one fiber selector, four mounts (siderostats), and seven guide cameras. This software is built on a hierarchical architecture and the SDSS framework and provides three key sequences: autofocus, field acquisition, and autoguide. We designed and fabricated a proto-model siderostat to test the telescope pointing model and LVMAGP software. The mirrors of the proto-model were designed as an isogrid open-back type, which reduced the weight by 46% and enabled reaching thermal equilibrium quickly. Additionally, deflection due to bolting torque, self-gravity, and thermal deformation was simulated, and the maximum scatter of the pointing model induced by the tilt of optomechanics was predicted to be $4'.4$, which can be compensated for by the field acquisition sequence. We performed a real sky test of LVMAGP with the proto-model siderostat and obtained field acquisition and autoguide accuracies of $0''.38$ and $1''.5$, respectively. It met all requirements except for the autoguide specification, which will be resolved by more precise alignment among the hardware components at Las Campanas Observatory.         |"
      ],
      "text/plain": [
       "[2407.08319] Telescope control software and proto-model siderostat for the SDSS-V Local Volume Mapper\n",
       "\tH. Ahn, et al. -- incl., <mark>F. Briegel</mark>, <mark>M. Kuhlberg</mark>"
      ]
     },
     "metadata": {},
     "output_type": "display_data"
    },
    {
     "data": {
      "text/markdown": [
       "\n",
       "|||\n",
       "|---:|:---|\n",
       "| [![arXiv](https://img.shields.io/badge/arXiv-2407.08533-b31b1b.svg)](https://arxiv.org/abs/2407.08533) | **There is no disk mass budget problem of planet formation**  |\n",
       "|| <mark>S. Savvidou</mark>, B. Bitsch |\n",
       "|*Appeared on*| *2024-07-12*|\n",
       "|*Comments*| *8 pages, 4 figures, submitted to A&A*|\n",
       "|**Abstract**|            The inferred dust masses from Class II protoplanetary disk observations are lower than or equal to the masses of the observed exoplanet systems. This poses the question of how planets form if their natal environments do not contain enough mass. This hypothesis has entered the literature as the \"mass budget problem\" of planet formation. We utilize numerical simulations of planet formation via pebble and gas accretion, including migration, in a viscously evolving protoplanetary disk, while tracing the time evolution of the dust mass. As expected, we find that the presence of a giant planet in the disk can influence the evolution of the disk itself and prevent rapid dust mass loss by trapping the dust outside its orbit. Early formation is crucial for giant planet formation, as we found in our previous work; therefore, our findings strengthen the hypothesis that planet formation has already occurred or is ongoing in Class II disks. Most importantly, we find that the optically thin dust mass significantly underestimates the total dust mass in the presence of a dust-trapping deep gap. We also show that the beam convolution would smear out the feature from a deep gap, especially if the planet forms in the inner disk. Such hidden dust mass, along with early planet formation, could be the answer to the hypothetical mass budget problem.         |"
      ],
      "text/plain": [
       "[2407.08533] There is no disk mass budget problem of planet formation\n",
       "\t<mark>S. Savvidou</mark>, B. Bitsch"
      ]
     },
     "metadata": {},
     "output_type": "display_data"
    },
    {
     "data": {
      "text/markdown": [
       "\n",
       "|||\n",
       "|---:|:---|\n",
       "| [![arXiv](https://img.shields.io/badge/arXiv-2407.08643-b31b1b.svg)](https://arxiv.org/abs/2407.08643) | **JADES -- The Rosetta Stone of JWST-discovered AGN: deciphering the intriguing nature of early AGN**  |\n",
       "|| I. Juodžbalis, et al. -- incl., <mark>A. d. Graaff</mark> |\n",
       "|*Appeared on*| *2024-07-12*|\n",
       "|*Comments*| *21 pages 8 figures in main text. Submitted to MNRAS*|\n",
       "|**Abstract**|            JWST has discovered a large population of Active Galactic Nuclei (AGN) at high redshift. Many of these newly discovered AGN have broad permitted lines (typically H$\\alpha$), but are extremely weak in the X-rays. Here we present the NIRSpec spectrum of the most extreme of these objects, GN-28074, an AGN at $z=2.26$ with prominent Balmer, Paschen and \\HeI broad lines, and with the highest limit on the bolometric to X-ray luminosity ratio among all spectroscopically confirmed AGN in GOODS. This source is also characterized by a mid-IR excess, most likely associated with the AGN torus' hot dust. The high bolometric luminosity and moderate redshift of this AGN allow us to explore its properties more in depth relative to other JWST-discovered AGN. The NIRSpec spectrum reveals prominent, slightly blueshifted absorption of H$\\alpha$, H$\\beta$ and \\HeI$\\lambda$10830. The Balmer absorption lines require gas with densities of $n_{\\rm H}> 10^8~{\\rm cm}^{-3}$, inconsistent with an ISM origin, but fully consistent with clouds in the Broad Line Region (BLR). This finding suggests that at least part of the X-ray weakness is due to high (Compton thick) X-ray absorption by (dust-free) clouds in the BLR, or in its outer, slowly outflowing regions. GN-28074 is also extremely radio-weak. The radio weakness can also be explained in terms of absorption, as the inferred density of the clouds responsible for H$\\alpha$ absorption makes them optically thick to radio emission through free-free absorption. Alternatively, in this and other JWST-discovered AGN, the nuclear magnetic field may have not developed properly yet, resulting both in intrinsically weak radio emission and also lack of hot corona, hence intrinsic X-ray weakness. Finally, we show that recently proposed scenarios, invoking hyper-dense and ultra-metal-poor outflows or Raman scattering to explain the broad H$\\alpha$, are completely ruled out.         |"
      ],
      "text/plain": [
       "[2407.08643] JADES -- The Rosetta Stone of JWST-discovered AGN: deciphering the intriguing nature of early AGN\n",
       "\tI. Juodžbalis, et al. -- incl., <mark>A. d. Graaff</mark>"
      ]
     },
     "metadata": {},
     "output_type": "display_data"
    },
    {
     "data": {
      "text/markdown": [
       "## Failed papers"
      ],
      "text/plain": [
       "<IPython.core.display.Markdown object>"
      ]
     },
     "metadata": {},
     "output_type": "display_data"
    },
    {
     "data": {
      "text/markdown": [
       "\n",
       "|||\n",
       "|---:|:---|\n",
       "| [![arXiv](https://img.shields.io/badge/arXiv-2407.07965-b31b1b.svg)](https://arxiv.org/abs/2407.07965) | **Sulphur dioxide in the mid-infrared transmission spectrum of WASP-39b**  |\n",
       "|| D. Powell, et al. -- incl., <mark>X. Zhang</mark>, <mark>E.-M. Ahrer</mark>, <mark>L. Kreidberg</mark> |\n",
       "|*Appeared on*| *2024-07-12*|\n",
       "|*Comments*| *Published in Nature*|\n",
       "|**Abstract**|            The recent inference of sulphur dioxide (SO$_2$) in the atmosphere of the hot ($\\sim$1100 K), Saturn-mass exoplanet WASP-39b from near-infrared JWST observations suggests that photochemistry is a key process in high temperature exoplanet atmospheres. This is due to the low ($<$1 ppb) abundance of SO$_2$ under thermochemical equilibrium, compared to that produced from the photochemistry of H$_2$O and H$_2$S (1-10 ppm). However, the SO$_2$ inference was made from a single, small molecular feature in the transmission spectrum of WASP-39b at 4.05 $\\mu$m, and therefore the detection of other SO$_2$ absorption bands at different wavelengths is needed to better constrain the SO$_2$ abundance. Here we report the detection of SO$_2$ spectral features at 7.7 and 8.5 $\\mu$m in the 5-12 $\\mu$m transmission spectrum of WASP-39b measured by the JWST Mid-Infrared Instrument (MIRI) Low Resolution Spectrometer (LRS). Our observations suggest an abundance of SO$_2$ of 0.5-25 ppm (1$\\sigma$ range), consistent with previous findings. In addition to SO$_2$, we find broad water vapour absorption features, as well as an unexplained decrease in the transit depth at wavelengths longer than 10 $\\mu$m. Fitting the spectrum with a grid of atmospheric forward models, we derive an atmospheric heavy element content (metallicity) for WASP-39b of $\\sim$7.1-8.0 $\\times$ solar and demonstrate that photochemistry shapes the spectra of WASP-39b across a broad wavelength range.         |\n",
       "|<p style=\"color:green\"> **ERROR** </p>| <p style=\"color:green\">affiliation error: mpia.affiliation_verifications: '69117' keyword not found.</p> |"
      ],
      "text/plain": [
       "<IPython.core.display.Markdown object>"
      ]
     },
     "metadata": {},
     "output_type": "display_data"
    },
    {
     "data": {
      "text/markdown": [
       "\n",
       "|||\n",
       "|---:|:---|\n",
       "| [![arXiv](https://img.shields.io/badge/arXiv-2407.08119-b31b1b.svg)](https://arxiv.org/abs/2407.08119) | **Improving the Automated Coronal Jet Identification with U-NET**  |\n",
       "|| <mark>J. Liu</mark>, et al. |\n",
       "|*Appeared on*| *2024-07-12*|\n",
       "|*Comments*| *13 pages, 7 figures*|\n",
       "|**Abstract**|            Coronal jets are one of the most common eruptive activities in the solar atmosphere. They are related to rich physics processes, including but not limited to magnetic reconnection, flaring, instabilities, and plasma heating. Automated identification of off-limb coronal jets has been difficult due to their abundant nature, complex appearance, and relatively small size compared to other features in the corona. In this paper, we present an automated coronal jet identification algorithm (AJIA) that utilizes true and fake jets previously detected by a laborious semi-automated jet detection algorithm (SAJIA, Liu et al. 2023) as the input of an image segmentation neural network U-NET. It is found that AJIA could achieve a much higher (0.81) detecting precision than SAJIA (0.34), meanwhile giving the possibility of whether each pixel in an input image belongs to a jet. We demonstrate that with the aid of artificial neural networks, AJIA could enable fast, accurate, and real-time coronal jet identification from SDO/AIA 304 Åobservations, which are essential in studying the collective and long-term behavior of coronal jets and their relation with the solar activity cycles.         |\n",
       "|<p style=\"color:green\"> **ERROR** </p>| <p style=\"color:green\">affiliation error: mpia.affiliation_verifications: 'Heidelberg' keyword not found.</p> |"
      ],
      "text/plain": [
       "<IPython.core.display.Markdown object>"
      ]
     },
     "metadata": {},
     "output_type": "display_data"
    }
   ],
   "source": [
    "import datetime\n",
    "today = str(datetime.date.today())\n",
    "logfile = f\"_build/html/logs/log-{today}.md\"\n",
    "\n",
    "\n",
    "with open(logfile, 'w') as logs:\n",
    "    # Success\n",
    "    logs.write(f'# Arxiv on Deck 2: Logs - {today}\\n\\n')\n",
    "    logs.write(\"\"\"* Arxiv had {0:,d} new papers\\n\"\"\".format(len(new_papers)))\n",
    "    logs.write(\"\"\"    * {0:,d} with possible author matches\\n\\n\"\"\".format(len(candidates)))\n",
    "    logs.write(\"## Sucessful papers\\n\\n\")\n",
    "    display(Markdown(\"## Successful papers\"))\n",
    "    success = [k[0] for k in documents]\n",
    "    for candid in candidates:\n",
    "        if candid['identifier'].split(':')[-1] in success:\n",
    "            display(candid)\n",
    "            logs.write(candid.generate_markdown_text() + '\\n\\n')\n",
    "\n",
    "    ## failed\n",
    "    logs.write(\"## Failed papers\\n\\n\")\n",
    "    display(Markdown(\"## Failed papers\"))\n",
    "    failed = sorted(failed, key=lambda x: x[1])\n",
    "    current_reason = \"\"\n",
    "    for paper, reason in failed:\n",
    "        if 'affiliation' in reason:\n",
    "            color = 'green'\n",
    "        else:\n",
    "            color = 'red'\n",
    "        data = Markdown(\n",
    "                paper.generate_markdown_text() + \n",
    "                f'\\n|<p style=\"color:{color:s}\"> **ERROR** </p>| <p style=\"color:{color:s}\">{reason:s}</p> |'\n",
    "               )\n",
    "        if reason != current_reason:\n",
    "            logs.write(f'### {reason:s} \\n\\n')\n",
    "            current_reason = reason\n",
    "        logs.write(data.data + '\\n\\n')\n",
    "        \n",
    "        # only display here the important errors (all in logs)\n",
    "        # if color in ('red',):\n",
    "        display(data)"
   ]
  },
  {
   "cell_type": "markdown",
   "id": "472d20ee",
   "metadata": {
    "papermill": {
     "duration": 0.005504,
     "end_time": "2024-07-12T04:10:28.069624",
     "exception": false,
     "start_time": "2024-07-12T04:10:28.064120",
     "status": "completed"
    },
    "tags": []
   },
   "source": [
    "## Export documents\n",
    "\n",
    "We now write the .md files and export relevant images"
   ]
  },
  {
   "cell_type": "code",
   "execution_count": 7,
   "id": "d426aed9",
   "metadata": {
    "execution": {
     "iopub.execute_input": "2024-07-12T04:10:28.081997Z",
     "iopub.status.busy": "2024-07-12T04:10:28.081423Z",
     "iopub.status.idle": "2024-07-12T04:10:28.088500Z",
     "shell.execute_reply": "2024-07-12T04:10:28.087979Z"
    },
    "papermill": {
     "duration": 0.01479,
     "end_time": "2024-07-12T04:10:28.089875",
     "exception": false,
     "start_time": "2024-07-12T04:10:28.075085",
     "status": "completed"
    },
    "tags": []
   },
   "outputs": [],
   "source": [
    "def export_markdown_summary(md: str, md_fname:str, directory: str):\n",
    "    \"\"\"Export MD document and associated relevant images\"\"\"\n",
    "    import os\n",
    "    import shutil\n",
    "    import re\n",
    "\n",
    "    if (os.path.exists(directory) and not os.path.isdir(directory)):\n",
    "        raise RuntimeError(f\"a non-directory file exists with name {directory:s}\")\n",
    "\n",
    "    if (not os.path.exists(directory)):\n",
    "        print(f\"creating directory {directory:s}\")\n",
    "        os.mkdir(directory)\n",
    "\n",
    "    fig_fnames = (re.compile(r'\\[Fig.*\\]\\((.*)\\)').findall(md) + \n",
    "                  re.compile(r'\\<img src=\"([^>\\s]*)\"[^>]*/>').findall(md))\n",
    "    print(\"found figures\", fig_fnames)\n",
    "    for fname in fig_fnames:\n",
    "        if 'http' in fname:\n",
    "            # No need to copy online figures\n",
    "            continue\n",
    "        if not os.path.exists(fname):\n",
    "            print(\"file not found\", fname)\n",
    "            continue\n",
    "        print(\"copying \", fname, \"to\", directory)\n",
    "        destdir = os.path.join(directory, os.path.dirname(fname))\n",
    "        destfname = os.path.join(destdir, os.path.basename(fname))\n",
    "        try:\n",
    "            os.makedirs(destdir)\n",
    "        except FileExistsError:\n",
    "            pass\n",
    "        shutil.copy(fname, destfname)\n",
    "    with open(os.path.join(directory, md_fname), 'w') as fout:\n",
    "        fout.write(md)\n",
    "    print(\"exported in \", os.path.join(directory, md_fname))\n",
    "    [print(\"    + \" + os.path.join(directory,fk)) for fk in fig_fnames]"
   ]
  },
  {
   "cell_type": "code",
   "execution_count": 8,
   "id": "014d04a4",
   "metadata": {
    "execution": {
     "iopub.execute_input": "2024-07-12T04:10:28.102160Z",
     "iopub.status.busy": "2024-07-12T04:10:28.101693Z",
     "iopub.status.idle": "2024-07-12T04:10:28.131944Z",
     "shell.execute_reply": "2024-07-12T04:10:28.131291Z"
    },
    "papermill": {
     "duration": 0.037878,
     "end_time": "2024-07-12T04:10:28.133347",
     "exception": false,
     "start_time": "2024-07-12T04:10:28.095469",
     "status": "completed"
    },
    "tags": []
   },
   "outputs": [
    {
     "name": "stdout",
     "output_type": "stream",
     "text": [
      "found figures ['tmp_2407.07940/./images/WIDE/Photoz.png', 'tmp_2407.07940/./images/WIDE/SFR.png', 'tmp_2407.07940/./images/WIDE/StellarMass.png']\n",
      "copying  tmp_2407.07940/./images/WIDE/Photoz.png to _build/html/\n",
      "copying  tmp_2407.07940/./images/WIDE/SFR.png to _build/html/\n",
      "copying  tmp_2407.07940/./images/WIDE/StellarMass.png to _build/html/\n",
      "exported in  _build/html/2407.07940.md\n",
      "    + _build/html/tmp_2407.07940/./images/WIDE/Photoz.png\n",
      "    + _build/html/tmp_2407.07940/./images/WIDE/SFR.png\n",
      "    + _build/html/tmp_2407.07940/./images/WIDE/StellarMass.png\n",
      "found figures ['tmp_2407.08319/./architecture_allinst.png', 'tmp_2407.08319/./siderostat_design.png', 'tmp_2407.08319/./FEA_optomech.png']\n",
      "copying  tmp_2407.08319/./architecture_allinst.png to _build/html/\n",
      "copying  tmp_2407.08319/./siderostat_design.png to _build/html/\n",
      "copying  tmp_2407.08319/./FEA_optomech.png to _build/html/\n",
      "exported in  _build/html/2407.08319.md\n",
      "    + _build/html/tmp_2407.08319/./architecture_allinst.png\n",
      "    + _build/html/tmp_2407.08319/./siderostat_design.png\n",
      "    + _build/html/tmp_2407.08319/./FEA_optomech.png\n",
      "found figures ['tmp_2407.08533/./Mdust_opticallythin_evolution_main.png', 'tmp_2407.08533/./Mdust_opticallythin_evolution.png', 'tmp_2407.08533/./Intensity_plot.png']\n",
      "copying  tmp_2407.08533/./Mdust_opticallythin_evolution_main.png to _build/html/\n",
      "copying  tmp_2407.08533/./Mdust_opticallythin_evolution.png to _build/html/\n",
      "copying  tmp_2407.08533/./Intensity_plot.png to _build/html/\n",
      "exported in  _build/html/2407.08533.md\n",
      "    + _build/html/tmp_2407.08533/./Mdust_opticallythin_evolution_main.png\n",
      "    + _build/html/tmp_2407.08533/./Mdust_opticallythin_evolution.png\n",
      "    + _build/html/tmp_2407.08533/./Intensity_plot.png\n",
      "found figures ['tmp_2407.08643/./28074_spec.png', 'tmp_2407.08643/./Absorption_fig/Hbeta_OIII.png', 'tmp_2407.08643/./Absorption_fig/Halpha_SII.png', 'tmp_2407.08643/./Absorption_fig/HeI_PaG.png', 'tmp_2407.08643/./Absorption_fig/PaB_BLR.png', 'tmp_2407.08643/./hist_Xrays.png']\n",
      "copying  tmp_2407.08643/./28074_spec.png to _build/html/\n",
      "copying  tmp_2407.08643/./Absorption_fig/Hbeta_OIII.png to _build/html/\n",
      "copying  tmp_2407.08643/./Absorption_fig/Halpha_SII.png to _build/html/\n",
      "copying  tmp_2407.08643/./Absorption_fig/HeI_PaG.png to _build/html/\n",
      "copying  tmp_2407.08643/./Absorption_fig/PaB_BLR.png to _build/html/\n",
      "copying  tmp_2407.08643/./hist_Xrays.png to _build/html/\n",
      "exported in  _build/html/2407.08643.md\n",
      "    + _build/html/tmp_2407.08643/./28074_spec.png\n",
      "    + _build/html/tmp_2407.08643/./Absorption_fig/Hbeta_OIII.png\n",
      "    + _build/html/tmp_2407.08643/./Absorption_fig/Halpha_SII.png\n",
      "    + _build/html/tmp_2407.08643/./Absorption_fig/HeI_PaG.png\n",
      "    + _build/html/tmp_2407.08643/./Absorption_fig/PaB_BLR.png\n",
      "    + _build/html/tmp_2407.08643/./hist_Xrays.png\n"
     ]
    }
   ],
   "source": [
    "for paper_id, md in documents:\n",
    "    export_markdown_summary(md, f\"{paper_id:s}.md\", '_build/html/')"
   ]
  },
  {
   "cell_type": "markdown",
   "id": "f087a0a7",
   "metadata": {
    "papermill": {
     "duration": 0.005642,
     "end_time": "2024-07-12T04:10:28.145029",
     "exception": false,
     "start_time": "2024-07-12T04:10:28.139387",
     "status": "completed"
    },
    "tags": []
   },
   "source": [
    "## Display the papers\n",
    "\n",
    "Not necessary but allows for a quick check."
   ]
  },
  {
   "cell_type": "code",
   "execution_count": 9,
   "id": "fd25f625",
   "metadata": {
    "execution": {
     "iopub.execute_input": "2024-07-12T04:10:28.157628Z",
     "iopub.status.busy": "2024-07-12T04:10:28.157175Z",
     "iopub.status.idle": "2024-07-12T04:10:28.166113Z",
     "shell.execute_reply": "2024-07-12T04:10:28.165467Z"
    },
    "papermill": {
     "duration": 0.016778,
     "end_time": "2024-07-12T04:10:28.167516",
     "exception": false,
     "start_time": "2024-07-12T04:10:28.150738",
     "status": "completed"
    },
    "scrolled": false,
    "tags": []
   },
   "outputs": [
    {
     "data": {
      "text/markdown": [
       "<div class=\"macros\" style=\"visibility:hidden;\">\n",
       "$\\newcommand{\\ensuremath}{}$\n",
       "$\\newcommand{\\xspace}{}$\n",
       "$\\newcommand{\\object}[1]{\\texttt{#1}}$\n",
       "$\\newcommand{\\farcs}{{.}''}$\n",
       "$\\newcommand{\\farcm}{{.}'}$\n",
       "$\\newcommand{\\arcsec}{''}$\n",
       "$\\newcommand{\\arcmin}{'}$\n",
       "$\\newcommand{\\ion}[2]{#1#2}$\n",
       "$\\newcommand{\\textsc}[1]{\\textrm{#1}}$\n",
       "$\\newcommand{\\hl}[1]{\\textrm{#1}}$\n",
       "$\\newcommand{\\footnote}[1]{}$\n",
       "$\\newcommand{\\mambo}{\\texttt{Mambo}}$\n",
       "$\\newcommand{\\nnpz}{\\texttt{nnpz}}$\n",
       "$\\newcommand{\\phosphoros}{\\texttt{Phosphoros}}$\n",
       "$\\newcommand{\\catboost}{\\texttt{CatBoost}}$\n",
       "$\\newcommand{\\sfr}{\\logten \\mathrm{SFR}}$\n",
       "$\\newcommand{\\Mstar}{\\logten M_{\\star}}$\n",
       "$\\newcommand{\\logMsun}{\\logten M_\\odot}$\n",
       "$\\newcommand{\\logMsunyr}{\\logten(M_\\odot \\mathrm{yr}^{-1})}$\n",
       "$\\newcommand{\\Mstarwun}{\\logten(M_{\\star}/M_\\odot)}$\n",
       "$\\newcommand{\\sfrwun}{\\logten (\\mathrm{SFR}/M_\\odot \\mathrm{yr}^{-1})}$\n",
       "$\\newcommand{\\afme}[1]{ {\\color{teal}(\\it AE: #1)}}$\n",
       "$\\newcommand{\\MB}[1]{ {\\color{orange}(MB: #1)}}$\n",
       "$\\newcommand{\\LP}[1]{ {\\color{magenta}(LP: #1)}}$\n",
       "$\\newcommand{\\orcid}[1]$</div>\n",
       "\n",
       "\n",
       "\n",
       "<div id=\"title\">\n",
       "\n",
       "# $\\Euclid$\\/ preparation\n",
       "\n",
       "</div>\n",
       "<div id=\"comments\">\n",
       "\n",
       "[![arXiv](https://img.shields.io/badge/arXiv-2407.07940-b31b1b.svg)](https://arxiv.org/abs/2407.07940)<mark>Appeared on: 2024-07-12</mark> -  _26 pages, 13 figures. Submitted to A&A_\n",
       "\n",
       "</div>\n",
       "<div id=\"authors\">\n",
       "\n",
       "E. Collaboration, et al. -- incl., <mark>K. Jahnke</mark>\n",
       "\n",
       "</div>\n",
       "<div id=\"abstract\">\n",
       "\n",
       "**Abstract:** $\\Euclid$ will collect an enormous amount of data during the mission's lifetime, observing billions of galaxies in the extragalactic sky. Along with traditional template-fitting methods, numerous Machine Learning (ML) algorithms have been presented for computing their photometric redshifts and physical parameters (PP), requiring significantly less computing effort while producing equivalent performance measures. However, their performance is limited by the quality and amount of input information entering the model (the $_ features_$ ), to a level where the recovery of some well-established physical relationships between parameters might not be guaranteed (e.g., the star-forming main sequence, SFMS).   To forecast the reliability of $\\Euclid$ photo- $z$ s and PPs calculations, we produced two mock catalogs simulating the photometry with the UNIONS $ugriz$ and $\\Euclid$ filters. We simulated the Euclid Wide Survey (EWS) and Euclid Deep Fields (EDF), alongside two auxiliary fields. We tested the performance of a template-fitting algorithm ( $\\phosphoros$ ) and four ML methods in recovering photo- $z$ s, PPs (stellar masses and star-formation rates), and the SFMS on the simulated $\\Euclid$ fields. To mimic the $\\Euclid$ processing as closely as possible, the models were trained with $\\phosphoros$ -recovered labels and tested on the simulated ground truth. For the EWS, we found that the best results are achieved with a Mixed Labels approach, training the models with Wide survey features and labels from the $\\phosphoros$ results on deeper photometry, i.e., with the best possible set of labels for a given photometry. This imposes a prior to the input features, helping the models to better discern cases in degenerate regions of feature space, i.e., when galaxies have similar magnitudes and colors but different redshifts and PPs, with performance metrics even better than those found with $\\phosphoros$ . We found no more than 3 \\% performance degradation using a COSMOS-like reference sample or removing $u$ band data, which will not be available until after data release DR1. The best results are obtained for the EDF, with appropriate recovery of photo- $z$ , PPs, and the SFMS.\n",
       "\n",
       "</div>\n",
       "\n",
       "<div id=\"div_fig1\">\n",
       "\n",
       "<img src=\"tmp_2407.07940/./images/WIDE/Photoz.png\" alt=\"Fig7\" width=\"100%\"/>\n",
       "\n",
       "**Figure 7. -** Results for the \\gls{EWS} with the _ Mixed Labels_ approach. The true values on the $x$-axis are plotted against the predicted values on $y$. The black line is the 1:1 relation; the shaded area is the region beyond which a prediction is an outlier. Contours are the area containing $98\\%$, $86\\%$, $39\\%$(corresponding to the $3\\sigma$, $2\\sigma$ and $1\\sigma$ levels for a 2D histogram) and $20\\%$ of the sample. Each column represents the results for the methods described in Sect. \\ref{sec:Methodology}. In the first four rows, the training labels are the recovered ones, coming from $\\phosphoros$ results to the mock photometry at the same depth of the field reported in the leftmost plot legend and tested on the \\gls{EWS}(see Sect. \\ref{sec:Mocks} for further details). The T.lab Wide-Wide case is exactly the same as the Wide-Wide case in Table \\ref{tab:WideRec}. In the fifth row, we show the results of the \\gls{EWS} training the models with their true labels as the best-case scenario for that particular field. The reported metrics are NMAD (purple), the outlier fraction $f_{\\rm out}$(blue) and the bias (green) for the photometric redshifts and physical parameters, as well as the slope $m$, scatter $\\sigma$ and fraction of passive galaxies $f_{\\rm p}$ for the \\gls{ms}, all defined in Sect. \\ref{sec:metrics}). (*fig:WIDE_zphot*)\n",
       "\n",
       "</div>\n",
       "<div id=\"div_fig2\">\n",
       "\n",
       "<img src=\"tmp_2407.07940/./images/WIDE/SFR.png\" alt=\"Fig9\" width=\"100%\"/>\n",
       "\n",
       "**Figure 9. -** Same as in Fig. \\ref{fig:WIDE_zphot}, for star-formation rates. (*fig:WIDE_SFR*)\n",
       "\n",
       "</div>\n",
       "<div id=\"div_fig3\">\n",
       "\n",
       "<img src=\"tmp_2407.07940/./images/WIDE/StellarMass.png\" alt=\"Fig8\" width=\"100%\"/>\n",
       "\n",
       "**Figure 8. -** Same as in Fig. \\ref{fig:WIDE_zphot}, for stellar masses. (*fig:WIDE_M*)\n",
       "\n",
       "</div><div id=\"qrcode\"><img src=https://api.qrserver.com/v1/create-qr-code/?size=100x100&data=\"https://arxiv.org/abs/2407.07940\"></div>"
      ],
      "text/plain": [
       "<IPython.core.display.Markdown object>"
      ]
     },
     "metadata": {},
     "output_type": "display_data"
    },
    {
     "data": {
      "text/markdown": [
       "<div class=\"macros\" style=\"visibility:hidden;\">\n",
       "$\\newcommand{\\ensuremath}{}$\n",
       "$\\newcommand{\\xspace}{}$\n",
       "$\\newcommand{\\object}[1]{\\texttt{#1}}$\n",
       "$\\newcommand{\\farcs}{{.}''}$\n",
       "$\\newcommand{\\farcm}{{.}'}$\n",
       "$\\newcommand{\\arcsec}{''}$\n",
       "$\\newcommand{\\arcmin}{'}$\n",
       "$\\newcommand{\\ion}[2]{#1#2}$\n",
       "$\\newcommand{\\textsc}[1]{\\textrm{#1}}$\n",
       "$\\newcommand{\\hl}[1]{\\textrm{#1}}$\n",
       "$\\newcommand{\\footnote}[1]{}$\n",
       "$\\newcommand{\\cftdotsep}{\\cftnodots}$</div>\n",
       "\n",
       "\n",
       "\n",
       "<div id=\"title\">\n",
       "\n",
       "# Telescope control software and proto-model siderostat for the SDSS-V Local Volume Mapper\n",
       "\n",
       "</div>\n",
       "<div id=\"comments\">\n",
       "\n",
       "[![arXiv](https://img.shields.io/badge/arXiv-2407.08319-b31b1b.svg)](https://arxiv.org/abs/2407.08319)<mark>Appeared on: 2024-07-12</mark> -  _29 pages, 15 figures, in press at Journal of Astronomical Telescopes, Instruments, and Systems_\n",
       "\n",
       "</div>\n",
       "<div id=\"authors\">\n",
       "\n",
       "H. Ahn, et al. -- incl., <mark>F. Briegel</mark>, <mark>M. Kuhlberg</mark>\n",
       "\n",
       "</div>\n",
       "<div id=\"abstract\">\n",
       "\n",
       "**Abstract:** The fifth Sloan Digital Sky Survey (SDSS-V) Local Volume Mapper (LVM) is a wide-field integral field unit (IFU) survey that uses an array of four 160 mm fixed telescopes with siderostats to minimize the number of moving parts. Individual telescope observes the science field or calibration field independently and is synchronized with the science exposure. We developed the LVM Acquisition and Guiding Package (LVMAGP) optimized telescope control software program for LVM observations, which can simultaneously control four focusers, three K-mirrors, one fiber selector, four mounts (siderostats), and seven guide cameras. This software is built on a hierarchical architecture and the SDSS framework and provides three key sequences: autofocus, field acquisition, and autoguide. We designed and fabricated a proto-model siderostat to test the telescope pointing model and LVMAGP software. The mirrors of the proto-model were designed as an isogrid open-back type, which reduced the weight by 46 \\% and enabled reaching thermal equilibrium quickly. Additionally, deflection due to bolting torque, self-gravity, and thermal deformation was simulated, and the maximum scatter of the pointing model induced by the tilt of optomechanics was predicted to be $4'.4$ , which can be compensated for by the field acquisition sequence. We performed a real sky test of LVMAGP with the proto-model siderostat and obtained field acquisition and autoguide accuracies of $0\".38$ and $1\".5$ , respectively. It met all requirements except for the autoguide specification, which will be resolved by more precise alignment among the hardware components at Las Campanas Observatory.\n",
       "\n",
       "</div>\n",
       "\n",
       "<div id=\"div_fig1\">\n",
       "\n",
       "<img src=\"tmp_2407.08319/./architecture_allinst.png\" alt=\"Fig2\" width=\"100%\"/>\n",
       "\n",
       "**Figure 2. -** System architecture, including all individual instruments and ICS instances under the telescope subsystem\n",
       "    System architecture, including all individual instruments and ICS instances under the telescope subsystem. Each system element is denoted in the format \"telescope unit.element.\" Connections between components are illustrated by lines, with the type of connection indicated by the color of line. The chrome yellow oval indicates the container where the software runs. LVMAGP communicates with controllers in containers C4 to C11, although the arrow only points to the spec.LVMTAN actor to simplify the figure.\n",
       "     (*fig:architecture_allinst*)\n",
       "\n",
       "</div>\n",
       "<div id=\"div_fig2\">\n",
       "\n",
       "<img src=\"tmp_2407.08319/./siderostat_design.png\" alt=\"Fig7\" width=\"100%\"/>\n",
       "\n",
       "**Figure 7. -** 3D mechanical design of the proto-model siderostat in 3D view\n",
       "    3D mechanical design of the proto-model siderostat in 3D view (left) with the mount and (right) without the mount. The SAz and SEl mirrors are colored green and indicated by black arrows. The mirror holders (blue), adapters (orange), and base module (gray) are all assembled. The proto-model siderostat is in the home position, where it points to the zenith. In the left panel, the light path is expressed with light entering direction and indicated with a red arrow. In the right panel, the aluminum profile part is indicated with a black arrow. (*fig:siderostat_design*)\n",
       "\n",
       "</div>\n",
       "<div id=\"div_fig3\">\n",
       "\n",
       "<img src=\"tmp_2407.08319/./FEA_optomech.png\" alt=\"Fig9\" width=\"100%\"/>\n",
       "\n",
       "**Figure 9. -** Stress and displacement of the proto-model siderostat at the zenith position at the temperature of $-5^\\circ$C(left) Loaded von Mises stress and (right) displacement of the proto-model siderostat at the zenith position at the temperature of $-5^\\circ$C. The figures are 300 times more exaggerated than the actual variations. The maximum stress point is indicated in the left panel; however, this point is a stress singularity and should be excluded from the evaluation of FoS. Actual maximum stress is applied by bolting torque on section A-A$'$, where the wedge and mount are connected by bolting. (*fig:FEA_optomech*)\n",
       "\n",
       "</div><div id=\"qrcode\"><img src=https://api.qrserver.com/v1/create-qr-code/?size=100x100&data=\"https://arxiv.org/abs/2407.08319\"></div>"
      ],
      "text/plain": [
       "<IPython.core.display.Markdown object>"
      ]
     },
     "metadata": {},
     "output_type": "display_data"
    },
    {
     "data": {
      "text/markdown": [
       "<div class=\"macros\" style=\"visibility:hidden;\">\n",
       "$\\newcommand{\\ensuremath}{}$\n",
       "$\\newcommand{\\xspace}{}$\n",
       "$\\newcommand{\\object}[1]{\\texttt{#1}}$\n",
       "$\\newcommand{\\farcs}{{.}''}$\n",
       "$\\newcommand{\\farcm}{{.}'}$\n",
       "$\\newcommand{\\arcsec}{''}$\n",
       "$\\newcommand{\\arcmin}{'}$\n",
       "$\\newcommand{\\ion}[2]{#1#2}$\n",
       "$\\newcommand{\\textsc}[1]{\\textrm{#1}}$\n",
       "$\\newcommand{\\hl}[1]{\\textrm{#1}}$\n",
       "$\\newcommand{\\footnote}[1]{}$\n",
       "$\\newcommand{\\be}{\\begin{equation}}$\n",
       "$\\newcommand{\\ee}{\\end{equation}}$\n",
       "$\\newcommand{\\notes}[1]{\\textcolor{violet}{\\textit{#1}}}$\n",
       "$\\title{There is no disk mass budget problem of planet formation}$\n",
       "$\\author{Sofia Savvidou \\inst{1}$\n",
       "$\\and Bertram Bitsch \\inst{2,1}}$\n",
       "$\\offprints{S. Savvidou,\\ \\email{savvidou@mpia.de}}$\n",
       "$\\institute{$\n",
       "$Max-Planck-Institut für Astronomie, Königstuhl 17, 69117 Heidelberg, Germany$\n",
       "$\\and$\n",
       "$Department of Physics, University College Cork, Cork, Ireland}$\n",
       "$\\date{Received date / Accepted date }$\n",
       "$\\begin{document}$\n",
       "$\\abstract{The inferred dust masses from Class II protoplanetary disk observations are lower than or equal to the masses of the observed exoplanet systems. This poses the question of how planets form if their natal environments do not contain enough mass. This hypothesis has entered the literature as the \"mass budget problem\" of planet formation. We utilize numerical simulations of planet formation via pebble and gas accretion, including migration, in a viscously evolving protoplanetary disk, while tracing the time evolution of the dust mass. As expected, we find that the presence of a giant planet in the disk can influence the evolution of the disk itself and prevent rapid dust mass loss by trapping the dust outside its orbit. Early formation is crucial for giant planet formation, as we found in our previous work; therefore, our findings strengthen the hypothesis that planet formation has already occurred or is ongoing in Class II disks. Most importantly, we find that the optically thin dust mass significantly underestimates the total dust mass in the presence of a dust-trapping deep gap. We also show that the beam convolution would smear out the feature from a deep gap, especially if the planet forms in the inner disk. Such hidden dust mass, along with early planet formation, could be the answer to the hypothetical mass budget problem.}$\n",
       "$\\keywords{protoplanetary disks -- planets and satellites: formation, gaseous planets -- circumstellar matter -- methods: numerical}$\n",
       "$\\maketitle$\n",
       "$\\n\\end{document}\\end{equation}}$\n",
       "$\\newcommand{\\ee}{\\end{equation}}$\n",
       "$\\newcommand{\\notes}[1]{\\textcolor{violet}{\\textit{#1}}}$</div>\n",
       "\n",
       "\n",
       "\n",
       "<div id=\"title\">\n",
       "\n",
       "# There is no disk mass budget problem of planet formation\n",
       "\n",
       "</div>\n",
       "<div id=\"comments\">\n",
       "\n",
       "[![arXiv](https://img.shields.io/badge/arXiv-2407.08533-b31b1b.svg)](https://arxiv.org/abs/2407.08533)<mark>Appeared on: 2024-07-12</mark> -  _8 pages, 4 figures, submitted to A&A_\n",
       "\n",
       "</div>\n",
       "<div id=\"authors\">\n",
       "\n",
       "<mark>S. Savvidou</mark>, B. Bitsch\n",
       "\n",
       "</div>\n",
       "<div id=\"abstract\">\n",
       "\n",
       "**Abstract:** The inferred dust masses from Class II protoplanetary disk observations are lower than or equal to the masses of the observed exoplanet systems. This poses the question of how planets form if their natal environments do not contain enough mass. This hypothesis has entered the literature as the \"mass budget problem\" of planet formation. We utilize numerical simulations of planet formation via pebble and gas accretion, including migration, in a viscously evolving protoplanetary disk, while tracing the time evolution of the dust mass. As expected, we find that the presence of a giant planet in the disk can influence the evolution of the disk itself and prevent rapid dust mass loss by trapping the dust outside its orbit. Early formation is crucial for giant planet formation, as we found in our previous work; therefore, our findings strengthen the hypothesis that planet formation has already occurred or is ongoing in Class II disks. Most importantly, we find that the optically thin dust mass significantly underestimates the total dust mass in the presence of a dust-trapping deep gap. We also show that the beam convolution would smear out the feature from a deep gap, especially if the planet forms in the inner disk. Such hidden dust mass, along with early planet formation, could be the answer to the hypothetical mass budget problem.\n",
       "\n",
       "</div>\n",
       "\n",
       "<div id=\"div_fig1\">\n",
       "\n",
       "<img src=\"tmp_2407.08533/./Mdust_opticallythin_evolution_main.png\" alt=\"Fig1\" width=\"100%\"/>\n",
       "\n",
       "**Figure 1. -** Dust mass as a function of time for the same planets as in Fig. 1 in [ and Savvidou (2023)](), using the standard set of parameters (Table \\ref{Tab:parameters}). The dashed lines show the time evolution of the optically thin dust mass and the red line shows the time evolution of the dust mass for a simulation without a planet. The dot marks the last dust mass if a planet reaches the inner edge of the disk. (*Fig:t-Mdust_main*)\n",
       "\n",
       "</div>\n",
       "<div id=\"div_fig2\">\n",
       "\n",
       "<img src=\"tmp_2407.08533/./Mdust_opticallythin_evolution.png\" alt=\"Fig3\" width=\"100%\"/>\n",
       "\n",
       "**Figure 3. -** Same as Fig. \\ref{Fig:t-Mdust_main}, with one parameter changed (marked in each panel) compared to the standard model (bold in Table \\ref{Tab:parameters}). These correspond to the same planets as in Fig. 2 in [ and Savvidou (2023)](). (*Fig:t-Mdust*)\n",
       "\n",
       "</div>\n",
       "<div id=\"div_fig3\">\n",
       "\n",
       "<img src=\"tmp_2407.08533/./Intensity_plot.png\" alt=\"Fig4\" width=\"100%\"/>\n",
       "\n",
       "**Figure 4. -** Normalized intensity as a function of orbital distance at 1.5 Myr, comparing the uncolvolved intensity with the ones convolved with three different beams of 0.02\" and 0.04\" at 140 pc (2.8 and 5.6 AU), and 0.34\" at 232 pc (100 AU). The gray dashed lines show the evaporation fronts that mainly cause the spikes in the intensity. The examples with a giant correspond to the standard set of parameters (Fig. \\ref{Fig:t-Mdust_main}), while the example without a giant corresponds to a low-mass disk (top, left plot in Fig. \\ref{Fig:t-Mdust}). (*Fig:r-I*)\n",
       "\n",
       "</div><div id=\"qrcode\"><img src=https://api.qrserver.com/v1/create-qr-code/?size=100x100&data=\"https://arxiv.org/abs/2407.08533\"></div>"
      ],
      "text/plain": [
       "<IPython.core.display.Markdown object>"
      ]
     },
     "metadata": {},
     "output_type": "display_data"
    },
    {
     "data": {
      "text/markdown": [
       "<div class=\"macros\" style=\"visibility:hidden;\">\n",
       "$\\newcommand{\\ensuremath}{}$\n",
       "$\\newcommand{\\xspace}{}$\n",
       "$\\newcommand{\\object}[1]{\\texttt{#1}}$\n",
       "$\\newcommand{\\farcs}{{.}''}$\n",
       "$\\newcommand{\\farcm}{{.}'}$\n",
       "$\\newcommand{\\arcsec}{''}$\n",
       "$\\newcommand{\\arcmin}{'}$\n",
       "$\\newcommand{\\ion}[2]{#1#2}$\n",
       "$\\newcommand{\\textsc}[1]{\\textrm{#1}}$\n",
       "$\\newcommand{\\hl}[1]{\\textrm{#1}}$\n",
       "$\\newcommand{\\footnote}[1]{}$\n",
       "$\\newcommand{\\HII}{H {\\sc ii}\\rm }$\n",
       "$\\newcommand{\\NII}{{[N {\\sc ii}]}}$\n",
       "$\\newcommand{\\NIIs}{{[N {\\sc ii}] }}$\n",
       "$\\newcommand{\\NVs}{{[N {\\sc V}] }}$\n",
       "$\\newcommand{\\NVl}{{N {\\sc V} \\lambda}}$\n",
       "$\\newcommand{\\NIIl}{{[N {\\sc ii}] \\lambda}}$\n",
       "$\\newcommand{\\NeIII}{{[Ne {\\sc iii}]}}$\n",
       "$\\newcommand{\\NeIIIs}{{[Ne {\\sc iii}] }}$\n",
       "$\\newcommand{\\NeIIIl}{{[Ne {\\sc iii}] \\lambda}}$\n",
       "$\\newcommand{\\NeIV}{{[Ne {\\sc iv}]}}$\n",
       "$\\newcommand{\\NeIVs}{{[Ne {\\sc iv}] }}$\n",
       "$\\newcommand{\\NeIVl}{{[Ne {\\sc iv}] \\lambda}}$\n",
       "$\\newcommand{\\NeV}{{[Ne {\\sc v}]}}$\n",
       "$\\newcommand{\\NeVs}{{[Ne {\\sc v}] }}$\n",
       "$\\newcommand{\\NeVl}{{[Ne {\\sc v}] \\lambda}}$\n",
       "$\\newcommand{\\SII}{{[S {\\sc ii}]}}$\n",
       "$\\newcommand{\\SIIs}{{[S {\\sc ii}] }}$\n",
       "$\\newcommand{\\SIIl}{{[S {\\sc ii}] \\lambda}}$\n",
       "$\\newcommand{\\SIIll}{{[S {\\sc ii}] \\lambda\\lambda}}$\n",
       "$\\newcommand{\\SIII}{{[S {\\sc iii}]}}$\n",
       "$\\newcommand{\\SIIIs}{{[S {\\sc iii}] }}$\n",
       "$\\newcommand{\\SIIIl}{{[S {\\sc iii}] \\lambda}}$\n",
       "$\\newcommand{\\OIII}{{[O {\\sc iii}]}}$\n",
       "$\\newcommand{\\OIV}{{[O {\\sc iv}]}}$\n",
       "$\\newcommand{\\OIIIs}{{[O {\\sc iii}] }}$\n",
       "$\\newcommand{\\OIIIl}{{[O {\\sc iii}] \\lambda}}$\n",
       "$\\newcommand{\\OII}{{[O {\\sc ii}]}}$\n",
       "$\\newcommand{\\OIIs}{{[O {\\sc ii}] }}$\n",
       "$\\newcommand{\\OIIl}{{[O {\\sc ii}] \\lambda}}$\n",
       "$\\newcommand{\\OIIll}{{[O {\\sc ii}] \\lambda\\lambda}}$\n",
       "$\\newcommand{\\OI}{{[O {\\sc i}]}}$\n",
       "$\\newcommand{\\OIs}{{[O {\\sc i}] }}$\n",
       "$\\newcommand{\\OIl}{{[O {\\sc i}] \\lambda}}$\n",
       "$\\newcommand{\\CII}{{[C {\\sc ii}]}}$\n",
       "$\\newcommand{\\CIIs}{{C {\\sc ii}] }}$\n",
       "$\\newcommand{\\CIII}{{C {\\sc iii}]}}$\n",
       "$\\newcommand{\\CIIIs}{{C {\\sc iii}] }}$\n",
       "$\\newcommand{\\CIIIll}{\\CIIIs\\lambda\\lambda}$\n",
       "$\\newcommand{\\CIV}{{C {\\sc iv}}}$\n",
       "$\\newcommand{\\CIVs}{{C {\\sc iv} }}$\n",
       "$\\newcommand{\\CIVll}{{C {\\sc iv} \\lambda\\lambda}\\xspace}$\n",
       "$\\newcommand{\\CIVl}{{[C {\\sc iv} \\lambda}\\xspace}$\n",
       "$\\newcommand{\\HeII}{{He {\\sc ii} }}$\n",
       "$\\newcommand{\\HeI}{{He {\\sc i} }}$\n",
       "$\\newcommand{\\HeIIl}{{He {\\sc ii} \\lambda}}$\n",
       "$\\newcommand{\\FeII}{{[Fe {\\sc ii}] }}$\n",
       "$\\newcommand{\\Ha}{H\\alpha}$\n",
       "$\\newcommand{\\Has}{H\\alpha }$\n",
       "$\\newcommand{\\Hb}{H\\beta}$\n",
       "$\\newcommand{\\Hg}{H\\gamma}$\n",
       "$\\newcommand{\\Hbs}{H\\beta }$\n",
       "$\\newcommand{\\purpletxt}[1]{\\textcolor{purple}{#1}}$\n",
       "$\\newcommand{\\RMcomm}[1]{{\\color{teal}[RM: #1]}}$\n",
       "$\\newcommand{\\arraystretch}{1.5}$\n",
       "$\\newcommand{\\arraystretch}{1.3}$\n",
       "$\\newcommand{\\arraystretch}{1.3}$\n",
       "$\\newcommand{\\arraystretch}{1.3}$\n",
       "$\\newcommand{\\arraystretch}{1.3}$\n",
       "$\\newcommand{\\thebibliography}{\\DeclareRobustCommand{\\VAN}[3]{##3}\\VANthebibliography}$</div>\n",
       "\n",
       "\n",
       "\n",
       "<div id=\"title\">\n",
       "\n",
       "# JADES - The Rosetta Stone of JWST-discovered AGN: deciphering the intriguing nature of early AGN\n",
       "\n",
       "</div>\n",
       "<div id=\"comments\">\n",
       "\n",
       "[![arXiv](https://img.shields.io/badge/arXiv-2407.08643-b31b1b.svg)](https://arxiv.org/abs/2407.08643)<mark>Appeared on: 2024-07-12</mark> -  _21 pages 8 figures in main text. Submitted to MNRAS_\n",
       "\n",
       "</div>\n",
       "<div id=\"authors\">\n",
       "\n",
       "I. Juodžbalis, et al. -- incl., <mark>A. d. Graaff</mark>\n",
       "\n",
       "</div>\n",
       "<div id=\"abstract\">\n",
       "\n",
       "**Abstract:** JWST has discovered a large population of Active Galactic Nuclei (AGN) at high redshift. Many of these newly discovered AGN have broad permitted lines (typically H $\\alpha$ ), but are extremely weak in the X-rays.Here we present the NIRSpec spectrum of the most extreme of these objects, GN-28074, an AGN at $z=2.26$ with prominent Balmer, Paschen and $\\HeI$ broad lines, and with the highest limit on the bolometric to X-ray luminosity ratio among all spectroscopically confirmed AGN in GOODS. This source is also characterized by a mid-IR excess, most likely associated with the AGN torus' hot dust. The high bolometric luminosity and moderate redshift of this AGN allow us to explore its properties more in depth relative to other JWST-discovered AGN. The NIRSpec spectrum reveals prominent, slightly blueshifted absorption of H $\\alpha$ , H $\\beta$ and $\\HeI$ $\\lambda$ 10830. The Balmer absorption lines require gas with densities of $n_{\\rm H}> 10^8 {\\rm cm}^{-3}$ , inconsistent with an ISM origin, but fully consistent with clouds in the Broad Line Region (BLR). This finding suggests that at least part of the X-ray weakness is due to high (Compton thick) X-ray absorption by (dust-free) clouds in the BLR, or in its outer, slowly outflowing regions.GN-28074 is also extremely radio-weak. The radio weakness can also be explained in terms of absorption, as the inferred density of the clouds responsible for H $\\alpha$ absorption makes them optically thick to radio emission through free-free absorption. Alternatively, in this and other JWST-discovered AGN, the nuclear magnetic field may have not developed properly yet, resulting both in intrinsically weak radio emission and also lack of hot corona, hence intrinsic X-ray weakness. Finally, we show that recently proposed scenarios, invoking hyper-dense and ultra-metal-poor outflows or Raman scattering to explain the broad H $\\alpha$ , are completely ruled out.\n",
       "\n",
       "</div>\n",
       "\n",
       "<div id=\"div_fig1\">\n",
       "\n",
       "<img src=\"tmp_2407.08643/./28074_spec.png\" alt=\"Fig7\" width=\"100%\"/>\n",
       "\n",
       "**Figure 7. -** R1000 spectrum of GN-28074 with emission lines marked. The fluxes on the y axis are presented in _ logarithmic_ scale to better showcase weaker lines and the shape of the continuum. All bright permitted lines appear to have broad components while the continuum showcases the characteristic `v' shape found in some objects of the LRD population. The false-colour NIRCam image (inset) highlights the point-source nature of the object, and the position of the MSA slitlets (grey rectangles). We note a pink region to the south-east, denoting a deficiency in F182M flux (see text for a discussion). The rest of the NIRCam single-band cutouts highlight the extended emission (only discernible at SW wavelengths); the angular size of these cutouts is the same as the RGB image. (*fig:full_spec*)\n",
       "\n",
       "</div>\n",
       "<div id=\"div_fig2\">\n",
       "\n",
       "<img src=\"tmp_2407.08643/./Absorption_fig/Hbeta_OIII.png\" alt=\"Fig8.1\" width=\"25%\"/><img src=\"tmp_2407.08643/./Absorption_fig/Halpha_SII.png\" alt=\"Fig8.2\" width=\"25%\"/><img src=\"tmp_2407.08643/./Absorption_fig/HeI_PaG.png\" alt=\"Fig8.3\" width=\"25%\"/><img src=\"tmp_2407.08643/./Absorption_fig/PaB_BLR.png\" alt=\"Fig8.4\" width=\"25%\"/>\n",
       "\n",
       "**Figure 8. -** R1000 spectrum expanded around some of the permitted lines of GN-28074 and showing the associated spectral fits. The broad line region (BLR) and the (extended) outflow components are plotted as solid blue and red lines respectively. The narrow components are shown with dashed green lines. The combined fit, including the absorption absorption components, is shown in magenta. **Top left: **$\\Hb$s and $\\OIII$$\\lambda\\lambda$5007,4959 complex, showcasing the deep absorption in $\\Hb$s and broadening of $\\OIII$$\\lambda\\lambda$5007,4959 lines due to the presence an outflow. **Top right: **$\\Ha$s, $\\NII$$\\lambda\\lambda$6548,6583 and $\\SII$$\\lambda\\lambda$6716,6731 . Notable is the relative weakness of the $\\NII$$\\lambda\\lambda$6549,6585 and $\\SII$$\\lambda\\lambda$6716,6731 doublets. **Bottom left: ** Combined $\\HeI$$\\lambda$10830 and Pa$\\gamma$ line fit. The ionized outflow component is not required here by the data. **Bottom right: ** Fit to the Pa$\\beta$ line. Due to wavelength calibration issues, this line is slightly offset to the rest and thus requires separate kinematics to properly fit. The ionized outflow is absent just as in the Pa$\\gamma$ + $\\HeI$$\\lambda$10830 fit. (*fig:spectrum_abs*)\n",
       "\n",
       "</div>\n",
       "<div id=\"div_fig3\">\n",
       "\n",
       "<img src=\"tmp_2407.08643/./hist_Xrays.png\" alt=\"Fig2\" width=\"100%\"/>\n",
       "\n",
       "**Figure 2. -** Distribution of the bolometric to X-ray luminosity ratio, relative to the relation inferred for low-redshift optically-selected AGN (whose distribution is shown with a black, hollow histogram). The distribution of JWST-discovered AGN in GOODS (the vast majority of which are actually lower limits on $L_{Bol}/L_X$) is shown with the solid, amber histogram. The lower limit for GN-280974 is indicated with the blue bar. We also show the lower limit observed in SBS 0335-052E, which is a nearby AGN with similar properties as the new population of the JWST-discovered AGN. We also show the value for the `prototypical' Seyfert 1 NGC-4151 which shows H$\\alpha$, H$\\beta$ and HeI absorption, just like GN-28074, and strong (and variable) X-ray absorption. (*fig:hist_Xrays*)\n",
       "\n",
       "</div><div id=\"qrcode\"><img src=https://api.qrserver.com/v1/create-qr-code/?size=100x100&data=\"https://arxiv.org/abs/2407.08643\"></div>"
      ],
      "text/plain": [
       "<IPython.core.display.Markdown object>"
      ]
     },
     "metadata": {},
     "output_type": "display_data"
    }
   ],
   "source": [
    "[display(Markdown(k[1])) for k in documents];"
   ]
  },
  {
   "cell_type": "markdown",
   "id": "873873a4",
   "metadata": {
    "papermill": {
     "duration": 0.006378,
     "end_time": "2024-07-12T04:10:28.180399",
     "exception": false,
     "start_time": "2024-07-12T04:10:28.174021",
     "status": "completed"
    },
    "tags": []
   },
   "source": [
    "# Create HTML index"
   ]
  },
  {
   "cell_type": "code",
   "execution_count": 10,
   "id": "cf665672",
   "metadata": {
    "execution": {
     "iopub.execute_input": "2024-07-12T04:10:28.194487Z",
     "iopub.status.busy": "2024-07-12T04:10:28.193929Z",
     "iopub.status.idle": "2024-07-12T04:10:28.201722Z",
     "shell.execute_reply": "2024-07-12T04:10:28.201051Z"
    },
    "papermill": {
     "duration": 0.016272,
     "end_time": "2024-07-12T04:10:28.203003",
     "exception": false,
     "start_time": "2024-07-12T04:10:28.186731",
     "status": "completed"
    },
    "tags": []
   },
   "outputs": [
    {
     "name": "stdout",
     "output_type": "stream",
     "text": [
      "132  publications files modified in the last 7 days.\n"
     ]
    }
   ],
   "source": [
    "from datetime import datetime, timedelta, timezone\n",
    "from glob import glob\n",
    "import os\n",
    "\n",
    "files = glob('_build/html/*.md')\n",
    "days = 7\n",
    "now = datetime.today()\n",
    "res = []\n",
    "for fk in files:\n",
    "    stat_result = os.stat(fk).st_ctime\n",
    "    modified = datetime.fromtimestamp(stat_result, tz=timezone.utc).replace(tzinfo=None)\n",
    "    delta = now.today() - modified\n",
    "    if delta <= timedelta(days=days):\n",
    "        res.append((delta.seconds, fk))\n",
    "res = [k[1] for k in reversed(sorted(res, key=lambda x:x[1]))]\n",
    "npub = len(res)\n",
    "print(len(res), f\" publications files modified in the last {days:d} days.\")\n",
    "# [ print('\\t', k) for k in res ];"
   ]
  },
  {
   "cell_type": "code",
   "execution_count": 11,
   "id": "015de740",
   "metadata": {
    "execution": {
     "iopub.execute_input": "2024-07-12T04:10:28.217045Z",
     "iopub.status.busy": "2024-07-12T04:10:28.216836Z",
     "iopub.status.idle": "2024-07-12T04:10:28.229478Z",
     "shell.execute_reply": "2024-07-12T04:10:28.228830Z"
    },
    "papermill": {
     "duration": 0.021267,
     "end_time": "2024-07-12T04:10:28.230806",
     "exception": false,
     "start_time": "2024-07-12T04:10:28.209539",
     "status": "completed"
    },
    "tags": []
   },
   "outputs": [
    {
     "name": "stdout",
     "output_type": "stream",
     "text": [
      "22  publications in the last 7 days.\n"
     ]
    }
   ],
   "source": [
    "import datetime\n",
    "from glob import glob\n",
    "\n",
    "def get_last_n_days(lst, days=1):\n",
    "    \"\"\" Get the documents from the last n days \"\"\"\n",
    "    sorted_lst = sorted(lst, key=lambda x: x[1], reverse=True)\n",
    "    for fname, date in sorted_lst:\n",
    "        if date >= str(datetime.date.today() - datetime.timedelta(days=days)):\n",
    "            yield fname\n",
    "\n",
    "def extract_appearance_dates(lst_file):\n",
    "    dates = []\n",
    "\n",
    "    def get_date(line):\n",
    "        return line\\\n",
    "            .split('Appeared on:')[-1]\\\n",
    "            .split('</mark>')[0].strip()\n",
    "\n",
    "    for fname in lst:\n",
    "        with open(fname, 'r') as f:\n",
    "            found_date = False\n",
    "            for line in f:\n",
    "                if not found_date:\n",
    "                    if \"Appeared on\" in line:\n",
    "                        found_date = True\n",
    "                        dates.append((fname, get_date(line)))\n",
    "                else:\n",
    "                    break\n",
    "    return dates\n",
    "\n",
    "from glob import glob\n",
    "lst = glob('_build/html/*md')\n",
    "days = 7\n",
    "dates = extract_appearance_dates(lst)\n",
    "res = list(get_last_n_days(dates, days))\n",
    "npub = len(res)\n",
    "print(len(res), f\" publications in the last {days:d} days.\")"
   ]
  },
  {
   "cell_type": "code",
   "execution_count": 12,
   "id": "52ca0208",
   "metadata": {
    "execution": {
     "iopub.execute_input": "2024-07-12T04:10:28.244924Z",
     "iopub.status.busy": "2024-07-12T04:10:28.244514Z",
     "iopub.status.idle": "2024-07-12T04:10:28.249602Z",
     "shell.execute_reply": "2024-07-12T04:10:28.248851Z"
    },
    "papermill": {
     "duration": 0.01352,
     "end_time": "2024-07-12T04:10:28.250886",
     "exception": false,
     "start_time": "2024-07-12T04:10:28.237366",
     "status": "completed"
    },
    "scrolled": false,
    "tags": []
   },
   "outputs": [],
   "source": [
    "def create_carousel(npub=4):\n",
    "    \"\"\" Generate the HTML code for a carousel with `npub` slides \"\"\"\n",
    "    carousel = [\"\"\"  <div class=\"carousel\" \"\"\",\n",
    "                \"\"\"       data-flickity='{ \"autoPlay\": 10000, \"adaptiveHeight\": true, \"resize\": true, \"wrapAround\": true, \"pauseAutoPlayOnHover\": true, \"groupCells\": 1 }' id=\"asyncTypeset\">\"\"\"\n",
    "                ]\n",
    "    \n",
    "    item_str = \"\"\"    <div class=\"carousel-cell\"> <div id=\"slide{k}\" class=\"md_view\">Content {k}</div> </div>\"\"\"\n",
    "    for k in range(1, npub + 1):\n",
    "        carousel.append(item_str.format(k=k))\n",
    "    carousel.append(\"  </div>\")\n",
    "    return '\\n'.join(carousel)\n",
    "\n",
    "def create_grid(npub=4):\n",
    "    \"\"\" Generate the HTML code for a flat grid with `npub` slides \"\"\"\n",
    "    grid = [\"\"\"  <div class=\"grid\"> \"\"\",\n",
    "                ]\n",
    "    \n",
    "    item_str = \"\"\"    <div class=\"grid-item\"> <div id=\"slide{k}\" class=\"md_view\">Content {k}</div> </div>\"\"\"\n",
    "    for k in range(1, npub + 1):\n",
    "        grid.append(item_str.format(k=k))\n",
    "    grid.append(\"  </div>\")\n",
    "    return '\\n'.join(grid)"
   ]
  },
  {
   "cell_type": "code",
   "execution_count": 13,
   "id": "a6eac5b6",
   "metadata": {
    "execution": {
     "iopub.execute_input": "2024-07-12T04:10:28.265554Z",
     "iopub.status.busy": "2024-07-12T04:10:28.265123Z",
     "iopub.status.idle": "2024-07-12T04:10:28.270287Z",
     "shell.execute_reply": "2024-07-12T04:10:28.269765Z"
    },
    "papermill": {
     "duration": 0.013905,
     "end_time": "2024-07-12T04:10:28.271558",
     "exception": false,
     "start_time": "2024-07-12T04:10:28.257653",
     "status": "completed"
    },
    "scrolled": false,
    "tags": []
   },
   "outputs": [],
   "source": [
    "carousel = create_carousel(npub)\n",
    "docs = ', '.join(['\"{0:s}\"'.format(k.split('/')[-1]) for k in res])\n",
    "slides = ', '.join([f'\"slide{k}\"' for k in range(1, npub + 1)])\n",
    "\n",
    "with open(\"daily_template.html\", \"r\") as tpl:\n",
    "    page = tpl.read()\n",
    "    page = page.replace(\"{%-- carousel:s --%}\", carousel)\\\n",
    "               .replace(\"{%-- suptitle:s --%}\",  \"7-day archives\" )\\\n",
    "               .replace(\"{%-- docs:s --%}\", docs)\\\n",
    "               .replace(\"{%-- slides:s --%}\", slides)\n",
    "    \n",
    "with open(\"_build/html/index_7days.html\", 'w') as fout:\n",
    "    fout.write(page)"
   ]
  },
  {
   "cell_type": "code",
   "execution_count": 14,
   "id": "adc1a1ec",
   "metadata": {
    "execution": {
     "iopub.execute_input": "2024-07-12T04:10:28.286080Z",
     "iopub.status.busy": "2024-07-12T04:10:28.285575Z",
     "iopub.status.idle": "2024-07-12T04:10:28.291974Z",
     "shell.execute_reply": "2024-07-12T04:10:28.291368Z"
    },
    "papermill": {
     "duration": 0.015032,
     "end_time": "2024-07-12T04:10:28.293205",
     "exception": false,
     "start_time": "2024-07-12T04:10:28.278173",
     "status": "completed"
    },
    "tags": []
   },
   "outputs": [
    {
     "name": "stdout",
     "output_type": "stream",
     "text": [
      "10  publications in the last day.\n"
     ]
    }
   ],
   "source": [
    "# redo for today\n",
    "days = 1\n",
    "res = list(get_last_n_days(dates, days))\n",
    "npub = len(res)\n",
    "print(len(res), f\" publications in the last day.\")\n",
    "\n",
    "carousel = create_carousel(npub)\n",
    "docs = ', '.join(['\"{0:s}\"'.format(k.split('/')[-1]) for k in res])\n",
    "slides = ', '.join([f'\"slide{k}\"' for k in range(1, npub + 1)])\n",
    "\n",
    "with open(\"daily_template.html\", \"r\") as tpl:\n",
    "    page = tpl.read()\n",
    "    page = page.replace(\"{%-- carousel:s --%}\", carousel)\\\n",
    "               .replace(\"{%-- suptitle:s --%}\",  \"Daily\" )\\\n",
    "               .replace(\"{%-- docs:s --%}\", docs)\\\n",
    "               .replace(\"{%-- slides:s --%}\", slides)\n",
    "    \n",
    "# print(carousel, docs, slides)\n",
    "# print(page)\n",
    "with open(\"_build/html/index_daily.html\", 'w') as fout:\n",
    "    fout.write(page)"
   ]
  },
  {
   "cell_type": "code",
   "execution_count": 15,
   "id": "00eece82",
   "metadata": {
    "execution": {
     "iopub.execute_input": "2024-07-12T04:10:28.307773Z",
     "iopub.status.busy": "2024-07-12T04:10:28.307342Z",
     "iopub.status.idle": "2024-07-12T04:10:28.313872Z",
     "shell.execute_reply": "2024-07-12T04:10:28.313310Z"
    },
    "papermill": {
     "duration": 0.015161,
     "end_time": "2024-07-12T04:10:28.315118",
     "exception": false,
     "start_time": "2024-07-12T04:10:28.299957",
     "status": "completed"
    },
    "scrolled": false,
    "tags": []
   },
   "outputs": [
    {
     "name": "stdout",
     "output_type": "stream",
     "text": [
      "6  6 publications selected.\n"
     ]
    }
   ],
   "source": [
    "# Create the flat grid of the last N papers (fixed number regardless of dates)\n",
    "from itertools import islice \n",
    "\n",
    "npub = 6\n",
    "res = [k[0] for k in (islice(reversed(sorted(dates, key=lambda x: x[1])), 6))]\n",
    "print(len(res), f\" {npub} publications selected.\")\n",
    "\n",
    "grid = create_grid(npub)\n",
    "docs = ', '.join(['\"{0:s}\"'.format(k.split('/')[-1]) for k in res])\n",
    "slides = ', '.join([f'\"slide{k}\"' for k in range(1, npub + 1)])\n",
    "\n",
    "with open(\"grid_template.html\", \"r\") as tpl:\n",
    "    page = tpl.read()\n",
    "    page = page.replace(\"{%-- grid-content:s --%}\", grid)\\\n",
    "               .replace(\"{%-- suptitle:s --%}\",  f\"Last {npub:,d} papers\" )\\\n",
    "               .replace(\"{%-- docs:s --%}\", docs)\\\n",
    "               .replace(\"{%-- slides:s --%}\", slides)\n",
    "    \n",
    "# print(grid, docs, slides)\n",
    "# print(page)\n",
    "with open(\"_build/html/index_npub_grid.html\", 'w') as fout:\n",
    "    fout.write(page)"
   ]
  }
 ],
 "metadata": {
  "kernelspec": {
   "display_name": "Python 3 (ipykernel)",
   "language": "python",
   "name": "python3"
  },
  "language_info": {
   "codemirror_mode": {
    "name": "ipython",
    "version": 3
   },
   "file_extension": ".py",
   "mimetype": "text/x-python",
   "name": "python",
   "nbconvert_exporter": "python",
   "pygments_lexer": "ipython3",
   "version": "3.9.19"
  },
  "papermill": {
   "default_parameters": {},
   "duration": 103.663738,
   "end_time": "2024-07-12T04:10:28.537982",
   "environment_variables": {},
   "exception": null,
   "input_path": "MPIA daily digest.ipynb",
   "output_path": "log.ipynb",
   "parameters": {},
   "start_time": "2024-07-12T04:08:44.874244",
   "version": "2.6.0"
  },
  "vscode": {
   "interpreter": {
    "hash": "aee8b7b246df8f9039afb4144a1f6fd8d2ca17a180786b69acc140d282b71a49"
   }
  },
  "widgets": {
   "application/vnd.jupyter.widget-state+json": {
    "state": {
     "1c689c223f354f39a54a4cedd4fb1bb1": {
      "model_module": "@jupyter-widgets/controls",
      "model_module_version": "2.0.0",
      "model_name": "HTMLModel",
      "state": {
       "_dom_classes": [],
       "_model_module": "@jupyter-widgets/controls",
       "_model_module_version": "2.0.0",
       "_model_name": "HTMLModel",
       "_view_count": null,
       "_view_module": "@jupyter-widgets/controls",
       "_view_module_version": "2.0.0",
       "_view_name": "HTMLView",
       "description": "",
       "description_allow_html": false,
       "layout": "IPY_MODEL_90c2343be0eb445095023b5d5679f6e8",
       "placeholder": "​",
       "style": "IPY_MODEL_b0046cadd86048feb58078d377c56849",
       "tabbable": null,
       "tooltip": null,
       "value": " 6/6 [01:24&lt;00:00, 13.45s/it]"
      }
     },
     "4176a3f4d3784631acb2d806b38d8956": {
      "model_module": "@jupyter-widgets/controls",
      "model_module_version": "2.0.0",
      "model_name": "ProgressStyleModel",
      "state": {
       "_model_module": "@jupyter-widgets/controls",
       "_model_module_version": "2.0.0",
       "_model_name": "ProgressStyleModel",
       "_view_count": null,
       "_view_module": "@jupyter-widgets/base",
       "_view_module_version": "2.0.0",
       "_view_name": "StyleView",
       "bar_color": null,
       "description_width": ""
      }
     },
     "90c2343be0eb445095023b5d5679f6e8": {
      "model_module": "@jupyter-widgets/base",
      "model_module_version": "2.0.0",
      "model_name": "LayoutModel",
      "state": {
       "_model_module": "@jupyter-widgets/base",
       "_model_module_version": "2.0.0",
       "_model_name": "LayoutModel",
       "_view_count": null,
       "_view_module": "@jupyter-widgets/base",
       "_view_module_version": "2.0.0",
       "_view_name": "LayoutView",
       "align_content": null,
       "align_items": null,
       "align_self": null,
       "border_bottom": null,
       "border_left": null,
       "border_right": null,
       "border_top": null,
       "bottom": null,
       "display": null,
       "flex": null,
       "flex_flow": null,
       "grid_area": null,
       "grid_auto_columns": null,
       "grid_auto_flow": null,
       "grid_auto_rows": null,
       "grid_column": null,
       "grid_gap": null,
       "grid_row": null,
       "grid_template_areas": null,
       "grid_template_columns": null,
       "grid_template_rows": null,
       "height": null,
       "justify_content": null,
       "justify_items": null,
       "left": null,
       "margin": null,
       "max_height": null,
       "max_width": null,
       "min_height": null,
       "min_width": null,
       "object_fit": null,
       "object_position": null,
       "order": null,
       "overflow": null,
       "padding": null,
       "right": null,
       "top": null,
       "visibility": null,
       "width": null
      }
     },
     "ac129e5b838048f39a941d930f6b5a7d": {
      "model_module": "@jupyter-widgets/base",
      "model_module_version": "2.0.0",
      "model_name": "LayoutModel",
      "state": {
       "_model_module": "@jupyter-widgets/base",
       "_model_module_version": "2.0.0",
       "_model_name": "LayoutModel",
       "_view_count": null,
       "_view_module": "@jupyter-widgets/base",
       "_view_module_version": "2.0.0",
       "_view_name": "LayoutView",
       "align_content": null,
       "align_items": null,
       "align_self": null,
       "border_bottom": null,
       "border_left": null,
       "border_right": null,
       "border_top": null,
       "bottom": null,
       "display": null,
       "flex": null,
       "flex_flow": null,
       "grid_area": null,
       "grid_auto_columns": null,
       "grid_auto_flow": null,
       "grid_auto_rows": null,
       "grid_column": null,
       "grid_gap": null,
       "grid_row": null,
       "grid_template_areas": null,
       "grid_template_columns": null,
       "grid_template_rows": null,
       "height": null,
       "justify_content": null,
       "justify_items": null,
       "left": null,
       "margin": null,
       "max_height": null,
       "max_width": null,
       "min_height": null,
       "min_width": null,
       "object_fit": null,
       "object_position": null,
       "order": null,
       "overflow": null,
       "padding": null,
       "right": null,
       "top": null,
       "visibility": null,
       "width": null
      }
     },
     "b0046cadd86048feb58078d377c56849": {
      "model_module": "@jupyter-widgets/controls",
      "model_module_version": "2.0.0",
      "model_name": "HTMLStyleModel",
      "state": {
       "_model_module": "@jupyter-widgets/controls",
       "_model_module_version": "2.0.0",
       "_model_name": "HTMLStyleModel",
       "_view_count": null,
       "_view_module": "@jupyter-widgets/base",
       "_view_module_version": "2.0.0",
       "_view_name": "StyleView",
       "background": null,
       "description_width": "",
       "font_size": null,
       "text_color": null
      }
     },
     "be700bb3d2e84d58b7b190a4da70bacb": {
      "model_module": "@jupyter-widgets/controls",
      "model_module_version": "2.0.0",
      "model_name": "FloatProgressModel",
      "state": {
       "_dom_classes": [],
       "_model_module": "@jupyter-widgets/controls",
       "_model_module_version": "2.0.0",
       "_model_name": "FloatProgressModel",
       "_view_count": null,
       "_view_module": "@jupyter-widgets/controls",
       "_view_module_version": "2.0.0",
       "_view_name": "ProgressView",
       "bar_style": "success",
       "description": "",
       "description_allow_html": false,
       "layout": "IPY_MODEL_ac129e5b838048f39a941d930f6b5a7d",
       "max": 6.0,
       "min": 0.0,
       "orientation": "horizontal",
       "style": "IPY_MODEL_4176a3f4d3784631acb2d806b38d8956",
       "tabbable": null,
       "tooltip": null,
       "value": 6.0
      }
     },
     "c3cdad51b7944456a8646b4ae8889444": {
      "model_module": "@jupyter-widgets/controls",
      "model_module_version": "2.0.0",
      "model_name": "HTMLModel",
      "state": {
       "_dom_classes": [],
       "_model_module": "@jupyter-widgets/controls",
       "_model_module_version": "2.0.0",
       "_model_name": "HTMLModel",
       "_view_count": null,
       "_view_module": "@jupyter-widgets/controls",
       "_view_module_version": "2.0.0",
       "_view_name": "HTMLView",
       "description": "",
       "description_allow_html": false,
       "layout": "IPY_MODEL_dafd58f0326a4484a0d9be938c2a82b0",
       "placeholder": "​",
       "style": "IPY_MODEL_f72359c5ec1d4df3a6d40094f03591d7",
       "tabbable": null,
       "tooltip": null,
       "value": "100%"
      }
     },
     "d0b3b618d5f14629b99d4f4ab8567c0a": {
      "model_module": "@jupyter-widgets/controls",
      "model_module_version": "2.0.0",
      "model_name": "HBoxModel",
      "state": {
       "_dom_classes": [],
       "_model_module": "@jupyter-widgets/controls",
       "_model_module_version": "2.0.0",
       "_model_name": "HBoxModel",
       "_view_count": null,
       "_view_module": "@jupyter-widgets/controls",
       "_view_module_version": "2.0.0",
       "_view_name": "HBoxView",
       "box_style": "",
       "children": [
        "IPY_MODEL_c3cdad51b7944456a8646b4ae8889444",
        "IPY_MODEL_be700bb3d2e84d58b7b190a4da70bacb",
        "IPY_MODEL_1c689c223f354f39a54a4cedd4fb1bb1"
       ],
       "layout": "IPY_MODEL_df145413d3e5485480f68ec912231d20",
       "tabbable": null,
       "tooltip": null
      }
     },
     "dafd58f0326a4484a0d9be938c2a82b0": {
      "model_module": "@jupyter-widgets/base",
      "model_module_version": "2.0.0",
      "model_name": "LayoutModel",
      "state": {
       "_model_module": "@jupyter-widgets/base",
       "_model_module_version": "2.0.0",
       "_model_name": "LayoutModel",
       "_view_count": null,
       "_view_module": "@jupyter-widgets/base",
       "_view_module_version": "2.0.0",
       "_view_name": "LayoutView",
       "align_content": null,
       "align_items": null,
       "align_self": null,
       "border_bottom": null,
       "border_left": null,
       "border_right": null,
       "border_top": null,
       "bottom": null,
       "display": null,
       "flex": null,
       "flex_flow": null,
       "grid_area": null,
       "grid_auto_columns": null,
       "grid_auto_flow": null,
       "grid_auto_rows": null,
       "grid_column": null,
       "grid_gap": null,
       "grid_row": null,
       "grid_template_areas": null,
       "grid_template_columns": null,
       "grid_template_rows": null,
       "height": null,
       "justify_content": null,
       "justify_items": null,
       "left": null,
       "margin": null,
       "max_height": null,
       "max_width": null,
       "min_height": null,
       "min_width": null,
       "object_fit": null,
       "object_position": null,
       "order": null,
       "overflow": null,
       "padding": null,
       "right": null,
       "top": null,
       "visibility": null,
       "width": null
      }
     },
     "df145413d3e5485480f68ec912231d20": {
      "model_module": "@jupyter-widgets/base",
      "model_module_version": "2.0.0",
      "model_name": "LayoutModel",
      "state": {
       "_model_module": "@jupyter-widgets/base",
       "_model_module_version": "2.0.0",
       "_model_name": "LayoutModel",
       "_view_count": null,
       "_view_module": "@jupyter-widgets/base",
       "_view_module_version": "2.0.0",
       "_view_name": "LayoutView",
       "align_content": null,
       "align_items": null,
       "align_self": null,
       "border_bottom": null,
       "border_left": null,
       "border_right": null,
       "border_top": null,
       "bottom": null,
       "display": null,
       "flex": null,
       "flex_flow": null,
       "grid_area": null,
       "grid_auto_columns": null,
       "grid_auto_flow": null,
       "grid_auto_rows": null,
       "grid_column": null,
       "grid_gap": null,
       "grid_row": null,
       "grid_template_areas": null,
       "grid_template_columns": null,
       "grid_template_rows": null,
       "height": null,
       "justify_content": null,
       "justify_items": null,
       "left": null,
       "margin": null,
       "max_height": null,
       "max_width": null,
       "min_height": null,
       "min_width": null,
       "object_fit": null,
       "object_position": null,
       "order": null,
       "overflow": null,
       "padding": null,
       "right": null,
       "top": null,
       "visibility": null,
       "width": null
      }
     },
     "f72359c5ec1d4df3a6d40094f03591d7": {
      "model_module": "@jupyter-widgets/controls",
      "model_module_version": "2.0.0",
      "model_name": "HTMLStyleModel",
      "state": {
       "_model_module": "@jupyter-widgets/controls",
       "_model_module_version": "2.0.0",
       "_model_name": "HTMLStyleModel",
       "_view_count": null,
       "_view_module": "@jupyter-widgets/base",
       "_view_module_version": "2.0.0",
       "_view_name": "StyleView",
       "background": null,
       "description_width": "",
       "font_size": null,
       "text_color": null
      }
     }
    },
    "version_major": 2,
    "version_minor": 0
   }
  }
 },
 "nbformat": 4,
 "nbformat_minor": 5
}