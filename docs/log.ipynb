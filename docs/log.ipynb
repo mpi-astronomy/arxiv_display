{
 "cells": [
  {
   "cell_type": "markdown",
   "id": "92bcb855",
   "metadata": {
    "papermill": {
     "duration": 0.003981,
     "end_time": "2024-07-05T04:10:05.556799",
     "exception": false,
     "start_time": "2024-07-05T04:10:05.552818",
     "status": "completed"
    },
    "tags": []
   },
   "source": [
    "# MPIA Arxiv on Deck 2\n",
    "\n",
    "Contains the steps to produce the paper extractions."
   ]
  },
  {
   "cell_type": "code",
   "execution_count": 1,
   "id": "3a0d6e11",
   "metadata": {
    "execution": {
     "iopub.execute_input": "2024-07-05T04:10:05.564440Z",
     "iopub.status.busy": "2024-07-05T04:10:05.563944Z",
     "iopub.status.idle": "2024-07-05T04:10:06.069118Z",
     "shell.execute_reply": "2024-07-05T04:10:06.068411Z"
    },
    "papermill": {
     "duration": 0.511016,
     "end_time": "2024-07-05T04:10:06.070936",
     "exception": false,
     "start_time": "2024-07-05T04:10:05.559920",
     "status": "completed"
    },
    "tags": []
   },
   "outputs": [],
   "source": [
    "# Imports\n",
    "import os\n",
    "from IPython.display import Markdown, display\n",
    "from tqdm.notebook import tqdm\n",
    "import warnings\n",
    "from PIL import Image \n",
    "\n",
    "# requires arxiv_on_deck_2\n",
    "\n",
    "from arxiv_on_deck_2.arxiv2 import (get_new_papers, \n",
    "                                    get_paper_from_identifier,\n",
    "                                    retrieve_document_source, \n",
    "                                    get_markdown_badge)\n",
    "from arxiv_on_deck_2 import (latex,\n",
    "                             latex_bib,\n",
    "                             mpia,\n",
    "                             highlight_authors_in_list)\n",
    "\n",
    "# Sometimes images are really big\n",
    "Image.MAX_IMAGE_PIXELS = 1000000000 "
   ]
  },
  {
   "cell_type": "code",
   "execution_count": 2,
   "id": "22aa9d44",
   "metadata": {
    "execution": {
     "iopub.execute_input": "2024-07-05T04:10:06.078597Z",
     "iopub.status.busy": "2024-07-05T04:10:06.078097Z",
     "iopub.status.idle": "2024-07-05T04:10:06.083208Z",
     "shell.execute_reply": "2024-07-05T04:10:06.082626Z"
    },
    "papermill": {
     "duration": 0.01033,
     "end_time": "2024-07-05T04:10:06.084559",
     "exception": false,
     "start_time": "2024-07-05T04:10:06.074229",
     "status": "completed"
    },
    "tags": []
   },
   "outputs": [],
   "source": [
    "# Some useful definitions.\n",
    "\n",
    "class AffiliationWarning(UserWarning):\n",
    "    pass\n",
    "\n",
    "class AffiliationError(RuntimeError):\n",
    "    pass\n",
    "\n",
    "def validation(source: str):\n",
    "    \"\"\"Raises error paper during parsing of source file\n",
    "    \n",
    "    Allows checks before parsing TeX code.\n",
    "    \n",
    "    Raises AffiliationWarning\n",
    "    \"\"\"\n",
    "    check = mpia.affiliation_verifications(source, verbose=True)\n",
    "    if check is not True:\n",
    "        raise AffiliationError(\"mpia.affiliation_verifications: \" + check)\n",
    "\n",
    "        \n",
    "warnings.simplefilter('always', AffiliationWarning)\n",
    "\n",
    "\n",
    "def get_markdown_qrcode(paper_id: str):\n",
    "    \"\"\" Generate a qrcode to the arxiv page using qrserver.com\n",
    "    \n",
    "    :param paper: Arxiv paper\n",
    "    :returns: markdown text\n",
    "    \"\"\"\n",
    "    url = r\"https://api.qrserver.com/v1/create-qr-code/?size=100x100&data=\"\n",
    "    txt = f\"\"\"<img src={url}\"https://arxiv.org/abs/{paper_id}\">\"\"\"\n",
    "    txt = '<div id=\"qrcode\">' + txt + '</div>'\n",
    "    return txt"
   ]
  },
  {
   "cell_type": "markdown",
   "id": "14bd6310",
   "metadata": {
    "papermill": {
     "duration": 0.002865,
     "end_time": "2024-07-05T04:10:06.090395",
     "exception": false,
     "start_time": "2024-07-05T04:10:06.087530",
     "status": "completed"
    },
    "tags": []
   },
   "source": [
    "## get list of arxiv paper candidates\n",
    "\n",
    "We use the MPIA mitarbeiter list webpage from mpia.de to get author names\n",
    "We then get all new papers from Arxiv and match authors"
   ]
  },
  {
   "cell_type": "code",
   "execution_count": 3,
   "id": "7ea813a8",
   "metadata": {
    "execution": {
     "iopub.execute_input": "2024-07-05T04:10:06.097520Z",
     "iopub.status.busy": "2024-07-05T04:10:06.097077Z",
     "iopub.status.idle": "2024-07-05T04:10:23.389031Z",
     "shell.execute_reply": "2024-07-05T04:10:23.388358Z"
    },
    "papermill": {
     "duration": 17.297372,
     "end_time": "2024-07-05T04:10:23.390677",
     "exception": false,
     "start_time": "2024-07-05T04:10:06.093305",
     "status": "completed"
    },
    "tags": []
   },
   "outputs": [],
   "source": [
    "# deal with the author list and edge cases of people that cannot be consistent on their name  \n",
    "\n",
    "def filter_non_scientists(name: str) -> bool:\n",
    "    \"\"\" Loose filter on expected authorships\n",
    "\n",
    "    removing IT, administration, technical staff\n",
    "    :param name: name\n",
    "    :returns: False if name is not a scientist\n",
    "    \"\"\"\n",
    "    remove_list = ['Wolf', 'Licht', 'Binroth', 'Witzel', 'Jordan',\n",
    "                   'Zähringer', 'Scheerer', 'Hoffmann', 'Düe',\n",
    "                   'Hellmich', 'Enkler-Scharpegge', 'Witte-Nguy',\n",
    "                   'Dehen', 'Beckmann', 'Jager', 'Jäger'\n",
    "                  ]\n",
    "\n",
    "    for k in remove_list:\n",
    "        if k in name:\n",
    "            return False\n",
    "    return True\n",
    "\n",
    "def add_author_to_list(author_list: list) -> list:\n",
    "    \"\"\" Add author to list if not already in list\n",
    "    \n",
    "    :param author: author name\n",
    "    :param author_list: list of authors\n",
    "    :returns: updated list of authors\n",
    "    \"\"\"\n",
    "    add_list = ['T. Henning']\n",
    "\n",
    "    for author in add_list:\n",
    "        if author not in author_list:\n",
    "            author_list.append(author)\n",
    "    return author_list\n",
    "\n",
    "# get list from MPIA website\n",
    "# filter for non-scientists (mpia.get_mpia_mitarbeiter_list() does some filtering)\n",
    "mpia_authors = [k[1] for k in mpia.get_mpia_mitarbeiter_list() if filter_non_scientists(k[1])]\n",
    "# add some missing author because of inconsistencies in their MPIA name and author name on papers\n",
    "mpia_authors = add_author_to_list(mpia_authors)"
   ]
  },
  {
   "cell_type": "code",
   "execution_count": 4,
   "id": "2645e73a",
   "metadata": {
    "execution": {
     "iopub.execute_input": "2024-07-05T04:10:23.398423Z",
     "iopub.status.busy": "2024-07-05T04:10:23.397982Z",
     "iopub.status.idle": "2024-07-05T04:10:24.091249Z",
     "shell.execute_reply": "2024-07-05T04:10:24.090501Z"
    },
    "papermill": {
     "duration": 0.698771,
     "end_time": "2024-07-05T04:10:24.092819",
     "exception": false,
     "start_time": "2024-07-05T04:10:23.394048",
     "status": "completed"
    },
    "tags": []
   },
   "outputs": [
    {
     "name": "stdout",
     "output_type": "stream",
     "text": [
      "A. d. Graaff  ->  A. D. Graaff  |  ['A. D. Graaff']\n",
      "R. Andrassy  ->  R. Andrassy  |  ['R. Andrassy']\n",
      "E. Schinnerer  ->  E. Schinnerer  |  ['E. Schinnerer']\n",
      "C. Larkin  ->  C. Larkin  |  ['C. Larkin']\n",
      "U. Chadayammuri  ->  U. Chadayammuri  |  ['U. Chadayammuri']\n",
      "E.-M. Ahrer  ->  E.-M. Ahrer  |  ['E.-M. Ahrer']\n",
      "E.-M. Ahrer  ->  E.-M. Ahrer  |  ['E.-M. Ahrer']\n",
      "Arxiv has 49 new papers today\n",
      "          7 with possible author matches\n"
     ]
    }
   ],
   "source": [
    "new_papers = get_new_papers()\n",
    "# add manual references\n",
    "add_paper_refs = []\n",
    "new_papers.extend([get_paper_from_identifier(k) for k in add_paper_refs])\n",
    "\n",
    "candidates = []\n",
    "for paperk in new_papers:\n",
    "    # Check author list with their initials\n",
    "    normed_author_list = [mpia.get_initials(k) for k in paperk['authors']]\n",
    "    hl_authors = highlight_authors_in_list(normed_author_list, mpia_authors, verbose=True)\n",
    "    matches = [(hl, orig) for hl, orig in zip(hl_authors, paperk['authors']) if 'mark' in hl]\n",
    "    paperk['authors'] = hl_authors\n",
    "    if matches:\n",
    "        # only select paper if an author matched our list\n",
    "        candidates.append(paperk)\n",
    "print(\"\"\"Arxiv has {0:,d} new papers today\"\"\".format(len(new_papers)))        \n",
    "print(\"\"\"          {0:,d} with possible author matches\"\"\".format(len(candidates)))"
   ]
  },
  {
   "cell_type": "markdown",
   "id": "3543b34a",
   "metadata": {
    "papermill": {
     "duration": 0.00403,
     "end_time": "2024-07-05T04:10:24.100286",
     "exception": false,
     "start_time": "2024-07-05T04:10:24.096256",
     "status": "completed"
    },
    "tags": []
   },
   "source": [
    "# Parse sources and generate relevant outputs\n",
    "\n",
    "From the candidates, we do the following steps:\n",
    "* get their tarball from ArXiv (and extract data)\n",
    "* find the main .tex file: find one with \\documentclass{...} (sometimes it's non trivial)\n",
    "* Check affiliations with :func:`validation`, which uses :func:`mpia.affiliation_verifications`\n",
    "* If passing the affiliations: we parse the .tex source\n",
    "   * inject sub-documents into the main (flatten the main document)\n",
    "   * parse structure, extract information (title, abstract, authors, figures...)\n",
    "   * handles `\\graphicspath` if provided\n",
    "* Generate the .md document."
   ]
  },
  {
   "cell_type": "code",
   "execution_count": 5,
   "id": "9576b79e",
   "metadata": {
    "execution": {
     "iopub.execute_input": "2024-07-05T04:10:24.107495Z",
     "iopub.status.busy": "2024-07-05T04:10:24.107252Z",
     "iopub.status.idle": "2024-07-05T04:12:32.636050Z",
     "shell.execute_reply": "2024-07-05T04:12:32.635339Z"
    },
    "papermill": {
     "duration": 128.534271,
     "end_time": "2024-07-05T04:12:32.637580",
     "exception": false,
     "start_time": "2024-07-05T04:10:24.103309",
     "status": "completed"
    },
    "scrolled": false,
    "tags": []
   },
   "outputs": [
    {
     "data": {
      "application/vnd.jupyter.widget-view+json": {
       "model_id": "6a65d1dfefa0421aa4de2411180cf448",
       "version_major": 2,
       "version_minor": 0
      },
      "text/plain": [
       "  0%|          | 0/7 [00:00<?, ?it/s]"
      ]
     },
     "metadata": {},
     "output_type": "display_data"
    },
    {
     "name": "stdout",
     "output_type": "stream",
     "text": [
      "Retrieving document from  https://arxiv.org/e-print/2407.02556\n"
     ]
    },
    {
     "name": "stdout",
     "output_type": "stream",
     "text": [
      "extracting tarball to tmp_2407.02556..."
     ]
    },
    {
     "name": "stdout",
     "output_type": "stream",
     "text": [
      " done.\n"
     ]
    },
    {
     "name": "stdout",
     "output_type": "stream",
     "text": [
      "A. d. Graaff  ->  A. D. Graaff  |  ['A. D. Graaff']\n"
     ]
    },
    {
     "name": "stdout",
     "output_type": "stream",
     "text": [
      "Found 89 bibliographic references in tmp_2407.02556/suspense_abundances.bbl.\n",
      "Error retrieving bib data for conroy_early-type_2014: 'author'\n",
      "Error retrieving bib data for beverage_carbon_2023: 'author'\n",
      "Error retrieving bib data for beverage_carbon_2023: 'author'\n",
      "Error retrieving bib data for zhuang_glimpse_2023: 'author'\n",
      "Error retrieving bib data for  beverage_carbon_2023: 'author'\n",
      "Retrieving document from  https://arxiv.org/e-print/2407.02566\n"
     ]
    },
    {
     "name": "stdout",
     "output_type": "stream",
     "text": [
      "extracting tarball to tmp_2407.02566..."
     ]
    },
    {
     "name": "stdout",
     "output_type": "stream",
     "text": [
      " done.\n",
      "Retrieving document from  https://arxiv.org/e-print/2407.02973\n"
     ]
    },
    {
     "name": "stdout",
     "output_type": "stream",
     "text": [
      "extracting tarball to tmp_2407.02973..."
     ]
    },
    {
     "name": "stdout",
     "output_type": "stream",
     "text": [
      " done.\n",
      "Retrieving document from  https://arxiv.org/e-print/2407.03137\n"
     ]
    },
    {
     "name": "stdout",
     "output_type": "stream",
     "text": [
      "extracting tarball to tmp_2407.03137..."
     ]
    },
    {
     "name": "stdout",
     "output_type": "stream",
     "text": [
      " done.\n"
     ]
    },
    {
     "name": "stderr",
     "output_type": "stream",
     "text": [
      "/opt/hostedtoolcache/Python/3.9.19/x64/lib/python3.9/site-packages/arxiv_on_deck_2/latex.py:132: LatexWarning: attempting recovering figure Figures/cmp-hrd-lmc\n",
      "  warnings.warn(LatexWarning(f'attempting recovering figure {image}'))\n",
      "/opt/hostedtoolcache/Python/3.9.19/x64/lib/python3.9/site-packages/arxiv_on_deck_2/latex.py:137: LatexWarning: Recovered figure Figures/cmp-hrd-lmc as tmp_2407.03137/./Figures/cmp-hrd-lmc.pdf\n",
      "  warnings.warn(LatexWarning(f'Recovered figure {image} as {fname}'))\n"
     ]
    },
    {
     "name": "stderr",
     "output_type": "stream",
     "text": [
      "/opt/hostedtoolcache/Python/3.9.19/x64/lib/python3.9/site-packages/arxiv_on_deck_2/latex.py:132: LatexWarning: attempting recovering figure Figures/cmp-hrd-smc\n",
      "  warnings.warn(LatexWarning(f'attempting recovering figure {image}'))\n",
      "/opt/hostedtoolcache/Python/3.9.19/x64/lib/python3.9/site-packages/arxiv_on_deck_2/latex.py:137: LatexWarning: Recovered figure Figures/cmp-hrd-smc as tmp_2407.03137/./Figures/cmp-hrd-smc.pdf\n",
      "  warnings.warn(LatexWarning(f'Recovered figure {image} as {fname}'))\n"
     ]
    },
    {
     "name": "stderr",
     "output_type": "stream",
     "text": [
      "/opt/hostedtoolcache/Python/3.9.19/x64/lib/python3.9/site-packages/arxiv_on_deck_2/latex.py:132: LatexWarning: attempting recovering figure Figures/vinf-teff-xsu4\n",
      "  warnings.warn(LatexWarning(f'attempting recovering figure {image}'))\n",
      "/opt/hostedtoolcache/Python/3.9.19/x64/lib/python3.9/site-packages/arxiv_on_deck_2/latex.py:137: LatexWarning: Recovered figure Figures/vinf-teff-xsu4 as tmp_2407.03137/./Figures/vinf-teff-xsu4.pdf\n",
      "  warnings.warn(LatexWarning(f'Recovered figure {image} as {fname}'))\n"
     ]
    },
    {
     "name": "stderr",
     "output_type": "stream",
     "text": [
      "/opt/hostedtoolcache/Python/3.9.19/x64/lib/python3.9/site-packages/arxiv_on_deck_2/latex.py:132: LatexWarning: attempting recovering figure Figures/vinfesc-teff-xsu4\n",
      "  warnings.warn(LatexWarning(f'attempting recovering figure {image}'))\n",
      "/opt/hostedtoolcache/Python/3.9.19/x64/lib/python3.9/site-packages/arxiv_on_deck_2/latex.py:137: LatexWarning: Recovered figure Figures/vinfesc-teff-xsu4 as tmp_2407.03137/./Figures/vinfesc-teff-xsu4.pdf\n",
      "  warnings.warn(LatexWarning(f'Recovered figure {image} as {fname}'))\n"
     ]
    },
    {
     "name": "stderr",
     "output_type": "stream",
     "text": [
      "/opt/hostedtoolcache/Python/3.9.19/x64/lib/python3.9/site-packages/arxiv_on_deck_2/latex.py:132: LatexWarning: attempting recovering figure Figures/mdot-l-xsu4\n",
      "  warnings.warn(LatexWarning(f'attempting recovering figure {image}'))\n",
      "/opt/hostedtoolcache/Python/3.9.19/x64/lib/python3.9/site-packages/arxiv_on_deck_2/latex.py:137: LatexWarning: Recovered figure Figures/mdot-l-xsu4 as tmp_2407.03137/./Figures/mdot-l-xsu4.pdf\n",
      "  warnings.warn(LatexWarning(f'Recovered figure {image} as {fname}'))\n"
     ]
    },
    {
     "name": "stderr",
     "output_type": "stream",
     "text": [
      "/opt/hostedtoolcache/Python/3.9.19/x64/lib/python3.9/site-packages/arxiv_on_deck_2/latex.py:132: LatexWarning: attempting recovering figure Figures/dmom-l-xsu4\n",
      "  warnings.warn(LatexWarning(f'attempting recovering figure {image}'))\n",
      "/opt/hostedtoolcache/Python/3.9.19/x64/lib/python3.9/site-packages/arxiv_on_deck_2/latex.py:137: LatexWarning: Recovered figure Figures/dmom-l-xsu4 as tmp_2407.03137/./Figures/dmom-l-xsu4.pdf\n",
      "  warnings.warn(LatexWarning(f'Recovered figure {image} as {fname}'))\n"
     ]
    },
    {
     "name": "stderr",
     "output_type": "stream",
     "text": [
      "/opt/hostedtoolcache/Python/3.9.19/x64/lib/python3.9/site-packages/arxiv_on_deck_2/latex.py:132: LatexWarning: attempting recovering figure Figures/mdtr-ldm-xsu4\n",
      "  warnings.warn(LatexWarning(f'attempting recovering figure {image}'))\n",
      "/opt/hostedtoolcache/Python/3.9.19/x64/lib/python3.9/site-packages/arxiv_on_deck_2/latex.py:137: LatexWarning: Recovered figure Figures/mdtr-ldm-xsu4 as tmp_2407.03137/./Figures/mdtr-ldm-xsu4.pdf\n",
      "  warnings.warn(LatexWarning(f'Recovered figure {image} as {fname}'))\n"
     ]
    },
    {
     "name": "stderr",
     "output_type": "stream",
     "text": [
      "/opt/hostedtoolcache/Python/3.9.19/x64/lib/python3.9/site-packages/arxiv_on_deck_2/latex.py:132: LatexWarning: attempting recovering figure Figures/cmp-clumpstrat\n",
      "  warnings.warn(LatexWarning(f'attempting recovering figure {image}'))\n",
      "/opt/hostedtoolcache/Python/3.9.19/x64/lib/python3.9/site-packages/arxiv_on_deck_2/latex.py:137: LatexWarning: Recovered figure Figures/cmp-clumpstrat as tmp_2407.03137/./Figures/cmp-clumpstrat.pdf\n",
      "  warnings.warn(LatexWarning(f'Recovered figure {image} as {fname}'))\n"
     ]
    },
    {
     "name": "stdout",
     "output_type": "stream",
     "text": [
      "Found 176 bibliographic references in tmp_2407.03137/xshootu4.bbl.\n",
      "syntax error in line 669: '=' expected\n",
      "Retrieving document from  https://arxiv.org/e-print/2407.03142\n"
     ]
    },
    {
     "name": "stdout",
     "output_type": "stream",
     "text": [
      "extracting tarball to tmp_2407.03142..."
     ]
    },
    {
     "name": "stdout",
     "output_type": "stream",
     "text": [
      " done.\n",
      "Retrieving document from  https://arxiv.org/e-print/2407.03198\n"
     ]
    },
    {
     "name": "stdout",
     "output_type": "stream",
     "text": [
      "extracting tarball to tmp_2407.03198... done.\n"
     ]
    },
    {
     "name": "stdout",
     "output_type": "stream",
     "text": [
      "Found 120 bibliographic references in tmp_2407.03198/main.bbl.\n",
      "Retrieving document from  https://arxiv.org/e-print/2407.03199\n"
     ]
    },
    {
     "name": "stdout",
     "output_type": "stream",
     "text": [
      "extracting tarball to tmp_2407.03199..."
     ]
    },
    {
     "name": "stdout",
     "output_type": "stream",
     "text": [
      " done.\n"
     ]
    },
    {
     "name": "stderr",
     "output_type": "stream",
     "text": [
      "/opt/hostedtoolcache/Python/3.9.19/x64/lib/python3.9/site-packages/arxiv_on_deck_2/latex.py:488: LatexWarning: Error parsing the document directly. Trying to recover.\n",
      "  warnings.warn(LatexWarning(f\"Error parsing the document directly. Trying to recover.\"))\n"
     ]
    },
    {
     "name": "stdout",
     "output_type": "stream",
     "text": [
      "✔ → 0:header\n",
      "  ↳ 6258:\\section{Introduction}\\label{sec:intro}\n",
      "✔ → 6258:\\section{Introduction}\\label{sec:intro}\n",
      "  ↳ 12490:\\section{Planet formation model}\\label{sec:model}\n"
     ]
    },
    {
     "name": "stdout",
     "output_type": "stream",
     "text": [
      "✔ → 12490:\\section{Planet formation model}\\label{sec:model}\n",
      "  ↳ 19944:\\section{A zoo of modelled close-in giants}\\label{sec:full-sample}\n"
     ]
    },
    {
     "name": "stdout",
     "output_type": "stream",
     "text": [
      "✔ → 19944:\\section{A zoo of modelled close-in giants}\\label{sec:full-sample}\n",
      "  ↳ 29480:\\section{Factors affecting planet compositions}\\label{sec:assumption}\n"
     ]
    },
    {
     "name": "stdout",
     "output_type": "stream",
     "text": [
      "✔ → 29480:\\section{Factors affecting planet compositions}\\label{sec:assumption}\n",
      "  ↳ 51305:\\section{What might the BOWIE-ALIGN sample tell us about planet formation?}\\label{sec:insight}\n",
      "✔ → 51305:\\section{What might the BOWIE-ALIGN sample tell us about planet formation?}\\label{sec:insight}\n",
      "  ↳ 55017:\\section{Conclusions}\\label{sec:conclusions}\n"
     ]
    },
    {
     "name": "stdout",
     "output_type": "stream",
     "text": [
      "✔ → 55017:\\section{Conclusions}\\label{sec:conclusions}\n",
      "  ↳ 60183:\\section{Planet model}\n"
     ]
    },
    {
     "name": "stdout",
     "output_type": "stream",
     "text": [
      "✘ → 60183:\\section{Planet model}\n",
      "  ↳ 79737:\\section{Effects of free parameters} \\label{sec:parameters}\n",
      "✔ → 79737:\\section{Effects of free parameters} \\label{sec:parameters}\n",
      "  ↳ 87296:end\n"
     ]
    },
    {
     "name": "stdout",
     "output_type": "stream",
     "text": [
      "Found 98 bibliographic references in tmp_2407.03199/paper.bbl.\n"
     ]
    }
   ],
   "source": [
    "documents = []\n",
    "failed = []\n",
    "for paper in tqdm(candidates):\n",
    "    # debug crap\n",
    "    paper['identifier'] = paper['identifier'].lower().replace('arxiv:', '').replace(r'\\n', '').strip()\n",
    "    paper_id = paper['identifier']\n",
    "    \n",
    "    folder = f'tmp_{paper_id}'\n",
    "\n",
    "    try:\n",
    "        if not os.path.isdir(folder):\n",
    "            folder = retrieve_document_source(f\"{paper_id}\", f'tmp_{paper_id}')\n",
    "        \n",
    "        try:\n",
    "            doc = latex.LatexDocument(folder, validation=validation)    \n",
    "        except AffiliationError as affilerror:\n",
    "            msg = f\"ArXiv:{paper_id:s} is not an MPIA paper... \" + str(affilerror)\n",
    "            failed.append((paper, \"affiliation error: \" + str(affilerror) ))\n",
    "            continue\n",
    "        \n",
    "        # Hack because sometimes author parsing does not work well\n",
    "        if (len(doc.authors) != len(paper['authors'])):\n",
    "            doc._authors = paper['authors']\n",
    "        else:\n",
    "            # highlight authors (FIXME: doc.highlight_authors)\n",
    "            # done on arxiv paper already\n",
    "            doc._authors = highlight_authors_in_list(\n",
    "                [mpia.get_initials(k) for k in doc.authors], \n",
    "                mpia_authors, verbose=True)\n",
    "        if (doc.abstract) in (None, ''):\n",
    "            doc._abstract = paper['abstract']\n",
    "            \n",
    "        doc.comment = (get_markdown_badge(paper_id) + \n",
    "                       \"<mark>Appeared on: \" + paper['date'] + \"</mark> - \")\n",
    "        if paper['comments']:\n",
    "            doc.comment += \" _\" + paper['comments'] + \"_\"\n",
    "        \n",
    "        full_md = doc.generate_markdown_text()\n",
    "        \n",
    "        full_md += get_markdown_qrcode(paper_id)\n",
    "        \n",
    "        # replace citations\n",
    "        try:\n",
    "            bibdata = latex_bib.LatexBib.from_doc(doc)\n",
    "            full_md = latex_bib.replace_citations(full_md, bibdata)\n",
    "        except Exception as e:\n",
    "            print(e)\n",
    "        \n",
    "        documents.append((paper_id, full_md))\n",
    "    except Exception as e:\n",
    "        warnings.warn(latex.LatexWarning(f\"{paper_id:s} did not run properly\\n\" +\n",
    "                                         str(e)\n",
    "                                        ))\n",
    "        failed.append((paper, \"latex error \" + str(e)))"
   ]
  },
  {
   "cell_type": "markdown",
   "id": "2505a25c",
   "metadata": {
    "papermill": {
     "duration": 0.004785,
     "end_time": "2024-07-05T04:12:32.647497",
     "exception": false,
     "start_time": "2024-07-05T04:12:32.642712",
     "status": "completed"
    },
    "tags": []
   },
   "source": [
    "### Export the logs\n",
    "\n",
    "Throughout, we also keep track of the logs per paper. see `logs-{today date}.md` "
   ]
  },
  {
   "cell_type": "code",
   "execution_count": 6,
   "id": "d733828a",
   "metadata": {
    "execution": {
     "iopub.execute_input": "2024-07-05T04:12:32.658265Z",
     "iopub.status.busy": "2024-07-05T04:12:32.657837Z",
     "iopub.status.idle": "2024-07-05T04:12:32.677242Z",
     "shell.execute_reply": "2024-07-05T04:12:32.676640Z"
    },
    "papermill": {
     "duration": 0.026397,
     "end_time": "2024-07-05T04:12:32.678608",
     "exception": false,
     "start_time": "2024-07-05T04:12:32.652211",
     "status": "completed"
    },
    "scrolled": false,
    "tags": []
   },
   "outputs": [
    {
     "data": {
      "text/markdown": [
       "## Successful papers"
      ],
      "text/plain": [
       "<IPython.core.display.Markdown object>"
      ]
     },
     "metadata": {},
     "output_type": "display_data"
    },
    {
     "data": {
      "text/markdown": [
       "\n",
       "|||\n",
       "|---:|:---|\n",
       "| [![arXiv](https://img.shields.io/badge/arXiv-2407.02556-b31b1b.svg)](https://arxiv.org/abs/2407.02556) | **Carbon and Iron Deficiencies in Quiescent Galaxies at z=1-3 from JWST-SUSPENSE: Implications for the Formation Histories of Massive Galaxies**  |\n",
       "|| A. G. Beverage, et al. -- incl., <mark>A. d. Graaff</mark> |\n",
       "|*Appeared on*| *2024-07-05*|\n",
       "|*Comments*| *Submitted to ApJ; 18 pages, 6 figures, 1 table*|\n",
       "|**Abstract**|            We present the stellar metallicities and multi-element abundances (C, Mg, Si, Ca, Ti, Cr, and Fe) of 15 massive (log M/M$_\\odot$=10.2-11.2) quiescent galaxies at z=1-3, derived from ultradeep JWST-SUSPENSE spectra. Compared to quiescent galaxies at z~0, these galaxies exhibit a deficiency of 0.25 dex in [C/H], 0.16 dex in [Fe/H], and 0.07 dex in [Mg/H], implying rapid formation and quenching before significant enrichment from asymptotic giant branch stars and Type Ia supernovae. Additionally, we find that galaxies that form at higher redshift have higher [Mg/Fe] and lower [Fe/H] and [Mg/H], irrespective of their observed redshift. The evolution in [Fe/H] and [C/H] is therefore primarily explained by lower redshift samples naturally including galaxies with longer star-formation timescales. On the other hand, the lower [Mg/H] can be explained by galaxies forming at earlier epochs expelling larger gas reservoirs during their quenching phase. Consequently, the mass-metallicity relation, primarily reflecting [Mg/H], is also lower at z=1-3 compared to the lower redshift relation, though the slopes are similar. Finally, we compare our results to standard stellar population modeling approaches employing solar abundance patterns and non-parametric star-formation histories (using Prospector). Our SSP-equivalent ages agree with the mass-weighted ages from Prospector, while the metallicities disagree significantly. Nonetheless, the metallicities better reflect [Fe/H] than total [Z/H]. We also find that star-formation timescales inferred from elemental abundances are significantly shorter than those from Prospector, and we discuss the resulting implications for the early formation of massive galaxies.         |"
      ],
      "text/plain": [
       "[2407.02556] Carbon and Iron Deficiencies in Quiescent Galaxies at z=1-3 from JWST-SUSPENSE: Implications for the Formation Histories of Massive Galaxies\n",
       "\tA. G. Beverage, et al. -- incl., <mark>A. d. Graaff</mark>"
      ]
     },
     "metadata": {},
     "output_type": "display_data"
    },
    {
     "data": {
      "text/markdown": [
       "\n",
       "|||\n",
       "|---:|:---|\n",
       "| [![arXiv](https://img.shields.io/badge/arXiv-2407.03137-b31b1b.svg)](https://arxiv.org/abs/2407.03137) | **X-Shooting ULLYSES: Massive Stars at low metallicity -- IV. Spectral analysis methods and exemplary results for O stars**  |\n",
       "|| A. Sander, et al. -- incl., <mark>C. Larkin</mark> |\n",
       "|*Appeared on*| *2024-07-05*|\n",
       "|*Comments*| *18+15 pages, 21+4 figures, under review at A&A, condensed abstract*|\n",
       "|**Abstract**|            CONTEXT: The spectral analysis of hot, massive stars is a fundamental astrophysical method to obtain their intrinsic properties and their feedback. Quantitative spectroscopy for hot, massive stars requires detailed numerical modeling of the atmosphere and an iterative treatment to obtain the best solution within a given framework. AIMS: We present an overview of different techniques for the quantitative spectroscopy of hot stars employed within the X-Shooting ULLYSES collaboration, from grid-based approaches to tailored fits. By performing a blind test, we gain an overview about the similarities and differences of the resulting parameters. Our study aims to provide an overview of the parameter spread caused by different approaches. METHODS: For three different stars from the sample (SMC O5 star AzV 377, LMC O7 star Sk -69 50, and LMC O9 star Sk -66 171), we employ different atmosphere codes (CMFGEN, Fastwind, PoWR) and strategies to determine their best-fitting model. For our analyses, UV and optical spectra are used to derive the properties with some methods relying purely on optical data for comparison. To determine the overall spectral energy distribution, we further employ additional photometry from the literature. RESULTS: Effective temperatures for each of three sample stars agree within 3 kK while the differences in log g can be up to 0.2 dex. Luminosity differences of up to 0.1 dex result from different reddening assumptions, which seem to be larger for the methods employing a genetic algorithm. All sample stars are nitrogen-enriched. CONCLUSIONS: We find a reasonable agreement between the different methods. Tailored fitting tends to be able to minimize discrepancies obtained with more course or automatized treatments. UV spectral data is essential for the determination of realistic wind parameters. For one target (Sk -69 50), we find clear indications of an evolved status.         |"
      ],
      "text/plain": [
       "[2407.03137] X-Shooting ULLYSES: Massive Stars at low metallicity -- IV. Spectral analysis methods and exemplary results for O stars\n",
       "\tA. Sander, et al. -- incl., <mark>C. Larkin</mark>"
      ]
     },
     "metadata": {},
     "output_type": "display_data"
    },
    {
     "data": {
      "text/markdown": [
       "\n",
       "|||\n",
       "|---:|:---|\n",
       "| [![arXiv](https://img.shields.io/badge/arXiv-2407.03198-b31b1b.svg)](https://arxiv.org/abs/2407.03198) | **BOWIE-ALIGN: A JWST comparative survey of aligned vs misaligned hot Jupiters to test the dependence of atmospheric composition on migration history**  |\n",
       "|| J. Kirk, et al. -- incl., <mark>E.-M. Ahrer</mark> |\n",
       "|*Appeared on*| *2024-07-05*|\n",
       "|*Comments*| *13 pages, 8 figures, submitted to RASTI*|\n",
       "|**Abstract**|            A primary objective of exoplanet atmosphere characterisation is to learn about planet formation and evolution, however, this is challenged by degeneracies. To determine whether differences in atmospheric composition can be reliably traced to differences in evolution, we are undertaking a new survey with JWST to compare the compositions of a sample of hot Jupiters that orbit F stars above the Kraft break with different orbital alignments. Under the assumption that aligned planets migrate through the inner disc, while misaligned planets migrate after disc dispersal, the act of migrating through the inner disc should lead to a measurable difference in the C/O between aligned and misaligned planets. We expect the amplitude and sign of this difference to depend on the amount of planetesimal accretion and whether silicates accreted from the inner disc release their oxygen. Here, we identify all known exoplanets that are suitable for testing this hypothesis, describe our JWST survey, and use noise simulations and atmospheric retrievals to estimate our survey's sensitivity. With the selected sample of four aligned and four misaligned hot Jupiters, we will be sensitive to the predicted differences in C/O between aligned and misaligned hot Jupiters for a wide range of model scenarios.         |"
      ],
      "text/plain": [
       "[2407.03198] BOWIE-ALIGN: A JWST comparative survey of aligned vs misaligned hot Jupiters to test the dependence of atmospheric composition on migration history\n",
       "\tJ. Kirk, et al. -- incl., <mark>E.-M. Ahrer</mark>"
      ]
     },
     "metadata": {},
     "output_type": "display_data"
    },
    {
     "data": {
      "text/markdown": [
       "\n",
       "|||\n",
       "|---:|:---|\n",
       "| [![arXiv](https://img.shields.io/badge/arXiv-2407.03199-b31b1b.svg)](https://arxiv.org/abs/2407.03199) | **BOWIE-ALIGN: How formation and migration histories of giant planets impact atmospheric compositions**  |\n",
       "|| A. B. Penzlin, et al. -- incl., <mark>E.-M. Ahrer</mark> |\n",
       "|*Appeared on*| *2024-07-05*|\n",
       "|*Comments*| *11pages 10 figures, (appendix: 6 page, 4 figures), submitted to mnras*|\n",
       "|**Abstract**|            Hot Jupiters present a unique opportunity for measuring how planet formation history shapes present-day atmospheric composition. However, due to the myriad pathways influencing composition, a well-constructed sample of planets is needed to determine whether formation history can be accurately traced back from atmospheric composition. To this end, the BOWIE-ALIGN survey will compare the compositions of 8 hot Jupiters around F stars, 4 with orbits aligned with the stellar rotation axis and 4 misaligned. Using the alignment as an indicator for planets that underwent disc migration or high-eccentricity migration, one can determine whether migration history produces notable differences in composition between the two samples of planets. This paper describes the planet formation model that motivates our observing programme. Our model traces the accretion of chemical components from the gas and dust in the disc over a broad parameter space to create a full, unbiased model sample from which we can estimate the range of final atmospheric compositions. For high metallicity atmospheres (O/H > 10 times solar), the C/O ratios of aligned and misaligned planets diverge, with aligned planets having lower C/O (< 0.25) due to the accretion of oxygen-rich silicates from the inner disc. However, silicates may rain out instead of releasing their oxygen into the atmosphere. This would significantly increase the C/O of aligned planets (C/O > 0.6), inverting the trend between the aligned and misaligned planets. Nevertheless, by comparing statistically significant samples of aligned and misaligned planets, we expect atmospheric composition to constrain how planets form.         |"
      ],
      "text/plain": [
       "[2407.03199] BOWIE-ALIGN: How formation and migration histories of giant planets impact atmospheric compositions\n",
       "\tA. B. Penzlin, et al. -- incl., <mark>E.-M. Ahrer</mark>"
      ]
     },
     "metadata": {},
     "output_type": "display_data"
    },
    {
     "data": {
      "text/markdown": [
       "## Failed papers"
      ],
      "text/plain": [
       "<IPython.core.display.Markdown object>"
      ]
     },
     "metadata": {},
     "output_type": "display_data"
    },
    {
     "data": {
      "text/markdown": [
       "\n",
       "|||\n",
       "|---:|:---|\n",
       "| [![arXiv](https://img.shields.io/badge/arXiv-2407.02566-b31b1b.svg)](https://arxiv.org/abs/2407.02566) | **Large-scale ordered magnetic fields generated in mergers of helium white dwarfs**  |\n",
       "|| R. Pakmor, et al. -- incl., <mark>R. Andrassy</mark> |\n",
       "|*Appeared on*| *2024-07-05*|\n",
       "|*Comments*| *12 pages, 9 figures, submitted to A&A, comments welcome*|\n",
       "|**Abstract**|            Stellar mergers are one important path to highly magnetised stars. Mergers of two low-mass white dwarfs may create up to every third hot subdwarf star. The merging process is usually assumed to dramatically amplify magnetic fields. However, so far only four highly magnetised hot subdwarf stars have been found, suggesting a fraction of less than $1\\%$. We present two high-resolution magnetohydrodynamical (MHD) simulations of the merger of two helium white dwarfs in a binary system with the same total mass of $0.6\\,M_\\odot$. We analyse one equal-mass merger with two $0.3\\,M_\\odot$ white dwarfs, and one unequal-mass merger with a $0.25\\,M_\\odot$ white dwarf and a $0.35\\,M_\\odot$ white dwarf. We simulate the inspiral, merger, and further evolution of the merger remnant for about $50$ rotations. We find efficient magnetic field amplification in both mergers via a small-scale dynamo, reproducing previous results of stellar merger simulations. The magnetic field saturates at similar strength for both simulations. We then identify a second phase of magnetic field amplification in both merger remnants that happens on a timescale of several tens of rotational periods of the merger remnant. This phase generates a large-scale ordered azimuthal field. We identify it as a large-scale dynamo driven by the magneto-rotational instability (MRI). Finally, we suggest that in the unequal-mass merger remnant, helium burning will eventually start in a shell around a cold core. The convection zone this generates will coincide with the region that contains most of the magnetic energy, probably erasing the strong, ordered field. The equal-mass merger remnant instead will probably ignite burning in the center, retaining its ordered field. Therefore, the mass ratio of the initial merger could be the selecting factor that decides if a merger remnant will stay highly magnetised long after the merger.         |\n",
       "|<p style=\"color:green\"> **ERROR** </p>| <p style=\"color:green\">affiliation error: mpia.affiliation_verifications: '69117' keyword not found.</p> |"
      ],
      "text/plain": [
       "<IPython.core.display.Markdown object>"
      ]
     },
     "metadata": {},
     "output_type": "display_data"
    },
    {
     "data": {
      "text/markdown": [
       "\n",
       "|||\n",
       "|---:|:---|\n",
       "| [![arXiv](https://img.shields.io/badge/arXiv-2407.03142-b31b1b.svg)](https://arxiv.org/abs/2407.03142) | **Closing Pandora's Box -- The deepest X-ray observations of Abell 2744 and a multi-wavelength merger picture**  |\n",
       "|| <mark>U. Chadayammuri</mark>, Á. Bogdán, G. Schellenberger, J. ZuHone |\n",
       "|*Appeared on*| *2024-07-05*|\n",
       "|*Comments*| *Submitted to the Open Journal of Astrophysics*|\n",
       "|**Abstract**|            Abell 2744, also known as Pandora's Cluster, is a complex merging galaxy cluster. While a major merger is clear along the north-south axis, the dynamical state of the northwest subcluster has been highly uncertain. We present ultra-deep ($\\approx$2.1 Ms) X-ray observations of Abell 2744 obtained with the Chandra X-ray Observatory and reinterpret the multi-wavelength picture with a suite of idealised simulations of galaxy cluster mergers. The new data reveal in unprecedented detail the disruption of cool cores in the three X-ray luminous subclusters and confirm the presence of a shock to the NW. A position-velocity clustering of the cluster member galaxies shows a clearly separated S2 component, with a $\\Delta z$ implying a separation of 53 Mpc or a line-of-sight velocity of $4500\\ \\rm{km \\ s^{-1}}$, or likely some combination of the two. While binary simulations allow NW to have undergone a gravitational slingshot after the first pericenter passage, triple merger simulations rule out this scenario, because the two mergers would have had to occur $\\sim$0.5 Gyr apart, and the joint impact of the shocks from the two mergers would completely disrupt the SE and NW cool cores; they only reform after 1-2 Gyr, by which point the core separations greatly exceed observations. The scenario that best describes Abell 2744 is a head-on N-S merger $0.5-0.6$ Gyrs ago followed by a first infall of the NW subcluster. Furthermore, we note that a model with three cluster-size halos, with masses consistent with gravitational lensing constraints, nevertheless produces a lensing convergence and surface brightness lower than observed in most of the field of view, whereas the temperatures are consistent with observations. This suggests the presence of a large-scale overdensity, which contributes to the diffuse emission and total surface density without heating the densest gas.         |\n",
       "|<p style=\"color:green\"> **ERROR** </p>| <p style=\"color:green\">affiliation error: mpia.affiliation_verifications: '69117' keyword not found.</p> |"
      ],
      "text/plain": [
       "<IPython.core.display.Markdown object>"
      ]
     },
     "metadata": {},
     "output_type": "display_data"
    },
    {
     "data": {
      "text/markdown": [
       "\n",
       "|||\n",
       "|---:|:---|\n",
       "| [![arXiv](https://img.shields.io/badge/arXiv-2407.02973-b31b1b.svg)](https://arxiv.org/abs/2407.02973) | **NOEMA formIng Cluster survEy (NICE): Characterizing eight massive galaxy groups at $1.5 < z < 4$ in the COSMOS field**  |\n",
       "|| N. B. Sillassen, et al. -- incl., <mark>E. Schinnerer</mark> |\n",
       "|*Appeared on*| *2024-07-05*|\n",
       "|*Comments*| *44 pages (27pp appendix), 32 figures, 18 tables, accepted for publication in A&A*|\n",
       "|**Abstract**|            The NOEMA formIng Cluster survEy (NICE) is a large program targeting 69 massive galaxy group candidates at $z>2$ in six deep fields. We report spectroscopic confirmation of eight groups at $1.65\\leq z\\leq3.61$ in COSMOS. Homogeneously selected as significant overdensities of red IRAC sources with red Herschel colors, four groups are confirmed by CO and [CI] with NOEMA 3mm observations, three are confirmed with ALMA, and one is confirmed by H$\\alpha$ from Subaru/FMOS. We constructed the integrated FIR SEDs for the eight groups, obtaining total IR SFR $=260-1300~{\\rm M_\\odot}$~yr$^{-1}$. We adopted six methods to estimate the dark matter masses, including stellar mass to halo mass relations, overdensity with galaxy bias, and NFW profile fitting to radial stellar mass density. We found the radial stellar mass density are consistent with a NFW profile, supporting that they are collapsed structures hosted by a single dark matter halo. The best halo mass estimates are $\\log(M_{\\rm h}/{\\rm M_\\odot})=12.8-13.7$ with uncertainty of 0.3 dex. From halo mass estimates, we derive baryonic accretion rate ${\\rm BAR}=(1-8)\\times10^{3}\\,{\\rm M_{\\odot}/yr}$ for this sample. We find a quasi-linear correlation between the integrated SFR/BAR and the theoretical halo mass limit for cold streams, $M_{\\rm stream}/M_{\\rm h}$, with ${\\rm SFR/BAR}=10^{-0.46\\pm0.22}\\left({M_{\\rm stream}/M_{\\rm h}}\\right)^{0.71\\pm0.16}$ with a scatter of $0.40\\,{\\rm dex}$. Further, we compare halo masses and stellar masses with simulations, and find all structures are consistent with being progenitors of $M_{\\rm h}(z=0)>10^{14}\\,{\\rm M_{\\odot}}$ galaxy clusters, and the most massive central galaxies have stellar masses consistent with brightest cluster galaxies (BCGs) progenitors in the TNG300 simulation. The results strongly suggest these structures are forming massive galaxy clusters via baryonic and dark matter accretion.         |\n",
       "|<p style=\"color:green\"> **ERROR** </p>| <p style=\"color:green\">affiliation error: mpia.affiliation_verifications: 'Heidelberg' keyword not found.</p> |"
      ],
      "text/plain": [
       "<IPython.core.display.Markdown object>"
      ]
     },
     "metadata": {},
     "output_type": "display_data"
    }
   ],
   "source": [
    "import datetime\n",
    "today = str(datetime.date.today())\n",
    "logfile = f\"_build/html/logs/log-{today}.md\"\n",
    "\n",
    "\n",
    "with open(logfile, 'w') as logs:\n",
    "    # Success\n",
    "    logs.write(f'# Arxiv on Deck 2: Logs - {today}\\n\\n')\n",
    "    logs.write(\"\"\"* Arxiv had {0:,d} new papers\\n\"\"\".format(len(new_papers)))\n",
    "    logs.write(\"\"\"    * {0:,d} with possible author matches\\n\\n\"\"\".format(len(candidates)))\n",
    "    logs.write(\"## Sucessful papers\\n\\n\")\n",
    "    display(Markdown(\"## Successful papers\"))\n",
    "    success = [k[0] for k in documents]\n",
    "    for candid in candidates:\n",
    "        if candid['identifier'].split(':')[-1] in success:\n",
    "            display(candid)\n",
    "            logs.write(candid.generate_markdown_text() + '\\n\\n')\n",
    "\n",
    "    ## failed\n",
    "    logs.write(\"## Failed papers\\n\\n\")\n",
    "    display(Markdown(\"## Failed papers\"))\n",
    "    failed = sorted(failed, key=lambda x: x[1])\n",
    "    current_reason = \"\"\n",
    "    for paper, reason in failed:\n",
    "        if 'affiliation' in reason:\n",
    "            color = 'green'\n",
    "        else:\n",
    "            color = 'red'\n",
    "        data = Markdown(\n",
    "                paper.generate_markdown_text() + \n",
    "                f'\\n|<p style=\"color:{color:s}\"> **ERROR** </p>| <p style=\"color:{color:s}\">{reason:s}</p> |'\n",
    "               )\n",
    "        if reason != current_reason:\n",
    "            logs.write(f'### {reason:s} \\n\\n')\n",
    "            current_reason = reason\n",
    "        logs.write(data.data + '\\n\\n')\n",
    "        \n",
    "        # only display here the important errors (all in logs)\n",
    "        # if color in ('red',):\n",
    "        display(data)"
   ]
  },
  {
   "cell_type": "markdown",
   "id": "472d20ee",
   "metadata": {
    "papermill": {
     "duration": 0.005575,
     "end_time": "2024-07-05T04:12:32.689934",
     "exception": false,
     "start_time": "2024-07-05T04:12:32.684359",
     "status": "completed"
    },
    "tags": []
   },
   "source": [
    "## Export documents\n",
    "\n",
    "We now write the .md files and export relevant images"
   ]
  },
  {
   "cell_type": "code",
   "execution_count": 7,
   "id": "d426aed9",
   "metadata": {
    "execution": {
     "iopub.execute_input": "2024-07-05T04:12:32.702468Z",
     "iopub.status.busy": "2024-07-05T04:12:32.702010Z",
     "iopub.status.idle": "2024-07-05T04:12:32.709068Z",
     "shell.execute_reply": "2024-07-05T04:12:32.708507Z"
    },
    "papermill": {
     "duration": 0.014867,
     "end_time": "2024-07-05T04:12:32.710419",
     "exception": false,
     "start_time": "2024-07-05T04:12:32.695552",
     "status": "completed"
    },
    "tags": []
   },
   "outputs": [],
   "source": [
    "def export_markdown_summary(md: str, md_fname:str, directory: str):\n",
    "    \"\"\"Export MD document and associated relevant images\"\"\"\n",
    "    import os\n",
    "    import shutil\n",
    "    import re\n",
    "\n",
    "    if (os.path.exists(directory) and not os.path.isdir(directory)):\n",
    "        raise RuntimeError(f\"a non-directory file exists with name {directory:s}\")\n",
    "\n",
    "    if (not os.path.exists(directory)):\n",
    "        print(f\"creating directory {directory:s}\")\n",
    "        os.mkdir(directory)\n",
    "\n",
    "    fig_fnames = (re.compile(r'\\[Fig.*\\]\\((.*)\\)').findall(md) + \n",
    "                  re.compile(r'\\<img src=\"([^>\\s]*)\"[^>]*/>').findall(md))\n",
    "    print(\"found figures\", fig_fnames)\n",
    "    for fname in fig_fnames:\n",
    "        if 'http' in fname:\n",
    "            # No need to copy online figures\n",
    "            continue\n",
    "        if not os.path.exists(fname):\n",
    "            print(\"file not found\", fname)\n",
    "            continue\n",
    "        print(\"copying \", fname, \"to\", directory)\n",
    "        destdir = os.path.join(directory, os.path.dirname(fname))\n",
    "        destfname = os.path.join(destdir, os.path.basename(fname))\n",
    "        try:\n",
    "            os.makedirs(destdir)\n",
    "        except FileExistsError:\n",
    "            pass\n",
    "        shutil.copy(fname, destfname)\n",
    "    with open(os.path.join(directory, md_fname), 'w') as fout:\n",
    "        fout.write(md)\n",
    "    print(\"exported in \", os.path.join(directory, md_fname))\n",
    "    [print(\"    + \" + os.path.join(directory,fk)) for fk in fig_fnames]"
   ]
  },
  {
   "cell_type": "code",
   "execution_count": 8,
   "id": "014d04a4",
   "metadata": {
    "execution": {
     "iopub.execute_input": "2024-07-05T04:12:32.722758Z",
     "iopub.status.busy": "2024-07-05T04:12:32.722374Z",
     "iopub.status.idle": "2024-07-05T04:12:32.737936Z",
     "shell.execute_reply": "2024-07-05T04:12:32.737288Z"
    },
    "papermill": {
     "duration": 0.023182,
     "end_time": "2024-07-05T04:12:32.739326",
     "exception": false,
     "start_time": "2024-07-05T04:12:32.716144",
     "status": "completed"
    },
    "tags": []
   },
   "outputs": [
    {
     "name": "stdout",
     "output_type": "stream",
     "text": [
      "found figures ['tmp_2407.02556/./fig4_abundances.png', 'tmp_2407.02556/./formation_time_v_xh_cM.png', 'tmp_2407.02556/./abundance_pattern_xfe_xh.png']\n",
      "copying  tmp_2407.02556/./fig4_abundances.png to _build/html/\n",
      "copying  tmp_2407.02556/./formation_time_v_xh_cM.png to _build/html/\n",
      "copying  tmp_2407.02556/./abundance_pattern_xfe_xh.png to _build/html/\n",
      "exported in  _build/html/2407.02556.md\n",
      "    + _build/html/tmp_2407.02556/./fig4_abundances.png\n",
      "    + _build/html/tmp_2407.02556/./formation_time_v_xh_cM.png\n",
      "    + _build/html/tmp_2407.02556/./abundance_pattern_xfe_xh.png\n",
      "found figures ['tmp_2407.03137/./Figures/uv2_AV377-crop.png', 'tmp_2407.03137/./Figures/SED_AV377_zoom-crop.png', 'tmp_2407.03137/./Figures/he-hydrogens_AV377-crop.png']\n",
      "copying  tmp_2407.03137/./Figures/uv2_AV377-crop.png to _build/html/\n",
      "copying  tmp_2407.03137/./Figures/SED_AV377_zoom-crop.png to _build/html/\n",
      "copying  tmp_2407.03137/./Figures/he-hydrogens_AV377-crop.png to _build/html/\n",
      "exported in  _build/html/2407.03137.md\n",
      "    + _build/html/tmp_2407.03137/./Figures/uv2_AV377-crop.png\n",
      "    + _build/html/tmp_2407.03137/./Figures/SED_AV377_zoom-crop.png\n",
      "    + _build/html/tmp_2407.03137/./Figures/he-hydrogens_AV377-crop.png\n",
      "found figures ['tmp_2407.03198/./figures/Anna_models_with_measurement_uncertainties.png', 'tmp_2407.03198/./figures/posteriors_fiducial_extra_fit_params.png', 'tmp_2407.03198/./figures/opacity_contributions_TrES-4b.png']\n",
      "copying  tmp_2407.03198/./figures/Anna_models_with_measurement_uncertainties.png to _build/html/\n",
      "copying  tmp_2407.03198/./figures/posteriors_fiducial_extra_fit_params.png to _build/html/\n",
      "copying  tmp_2407.03198/./figures/opacity_contributions_TrES-4b.png to _build/html/\n",
      "exported in  _build/html/2407.03198.md\n",
      "    + _build/html/tmp_2407.03198/./figures/Anna_models_with_measurement_uncertainties.png\n",
      "    + _build/html/tmp_2407.03198/./figures/posteriors_fiducial_extra_fit_params.png\n",
      "    + _build/html/tmp_2407.03198/./figures/opacity_contributions_TrES-4b.png\n",
      "found figures ['tmp_2407.03199/./fig/disc.png', 'tmp_2407.03199/./fig/image10.png', 'tmp_2407.03199/./fig/O2O_fin1.png']\n",
      "copying  tmp_2407.03199/./fig/disc.png to _build/html/\n",
      "copying  tmp_2407.03199/./fig/image10.png to _build/html/\n",
      "copying  tmp_2407.03199/./fig/O2O_fin1.png to _build/html/\n",
      "exported in  _build/html/2407.03199.md\n",
      "    + _build/html/tmp_2407.03199/./fig/disc.png\n",
      "    + _build/html/tmp_2407.03199/./fig/image10.png\n",
      "    + _build/html/tmp_2407.03199/./fig/O2O_fin1.png\n"
     ]
    }
   ],
   "source": [
    "for paper_id, md in documents:\n",
    "    export_markdown_summary(md, f\"{paper_id:s}.md\", '_build/html/')"
   ]
  },
  {
   "cell_type": "markdown",
   "id": "f087a0a7",
   "metadata": {
    "papermill": {
     "duration": 0.005845,
     "end_time": "2024-07-05T04:12:32.751127",
     "exception": false,
     "start_time": "2024-07-05T04:12:32.745282",
     "status": "completed"
    },
    "tags": []
   },
   "source": [
    "## Display the papers\n",
    "\n",
    "Not necessary but allows for a quick check."
   ]
  },
  {
   "cell_type": "code",
   "execution_count": 9,
   "id": "fd25f625",
   "metadata": {
    "execution": {
     "iopub.execute_input": "2024-07-05T04:12:32.763831Z",
     "iopub.status.busy": "2024-07-05T04:12:32.763387Z",
     "iopub.status.idle": "2024-07-05T04:12:32.772093Z",
     "shell.execute_reply": "2024-07-05T04:12:32.771532Z"
    },
    "papermill": {
     "duration": 0.016534,
     "end_time": "2024-07-05T04:12:32.773424",
     "exception": false,
     "start_time": "2024-07-05T04:12:32.756890",
     "status": "completed"
    },
    "scrolled": false,
    "tags": []
   },
   "outputs": [
    {
     "data": {
      "text/markdown": [
       "<div class=\"macros\" style=\"visibility:hidden;\">\n",
       "$\\newcommand{\\ensuremath}{}$\n",
       "$\\newcommand{\\xspace}{}$\n",
       "$\\newcommand{\\object}[1]{\\texttt{#1}}$\n",
       "$\\newcommand{\\farcs}{{.}''}$\n",
       "$\\newcommand{\\farcm}{{.}'}$\n",
       "$\\newcommand{\\arcsec}{''}$\n",
       "$\\newcommand{\\arcmin}{'}$\n",
       "$\\newcommand{\\ion}[2]{#1#2}$\n",
       "$\\newcommand{\\textsc}[1]{\\textrm{#1}}$\n",
       "$\\newcommand{\\hl}[1]{\\textrm{#1}}$\n",
       "$\\newcommand{\\footnote}[1]{}$\n",
       "$\\newcommand{\\vdag}{(v)^\\dagger}$\n",
       "$\\newcommand$\n",
       "$\\newcommand$\n",
       "$\\newcommand{\\zsol}{\\log\\left(Z/Z_\\odot\\right)}$</div>\n",
       "\n",
       "\n",
       "\n",
       "<div id=\"title\">\n",
       "\n",
       "# Carbon and Iron Deficiencies in Quiescent Galaxies at $z=1-3$ from _JWST_-SUSPENSE:\\ Implications for the Formation Histories of Massive Galaxies\n",
       "\n",
       "</div>\n",
       "<div id=\"comments\">\n",
       "\n",
       "[![arXiv](https://img.shields.io/badge/arXiv-2407.02556-b31b1b.svg)](https://arxiv.org/abs/2407.02556)<mark>Appeared on: 2024-07-05</mark> -  _Submitted to ApJ; 18 pages, 6 figures, 1 table_\n",
       "\n",
       "</div>\n",
       "<div id=\"authors\">\n",
       "\n",
       "A. G. Beverage, et al. -- incl., <mark>A. d. Graaff</mark>\n",
       "\n",
       "</div>\n",
       "<div id=\"abstract\">\n",
       "\n",
       "**Abstract:** We present the stellar metallicities and multi-element abundances (C, Mg, Si, Ca, Ti, Cr, and Fe) of 15 massive (log $M/M_\\odot=10.2-11.2$ ) quiescent galaxies at $z=1-3$ , derived from ultradeep _JWST_ -SUSPENSE spectra. Compared to quiescent galaxies at $z\\sim0$ , these galaxies exhibit a deficiency of 0.25 dex in [ C/H ] , 0.16 dex in [ Fe/H ] , and 0.07 dex in [ Mg/H ] , implying rapid formation and quenching before significant enrichment from asymptotic giant branch stars and Type Ia supernovae. Additionally, we find that galaxies that form at higher redshift have higher [ Mg/Fe ] and lower [ Fe/H ] and [ Mg/H ] , irrespective of their observed redshift. The evolution in [ Fe/H ] and [ C/H ] is therefore primarily explained by lower redshift samples naturally including galaxies with longer star-formation timescales. On the other hand, the lower [ Mg/H ] can be explained by galaxies forming at earlier epochs expelling larger gas reservoirs during their quenching phase. Consequently, the mass-metallicity relation, primarily reflecting [ Mg/H ] , is also lower at $z=1-3$ compared to the lower redshift relation, though the slopes are similar. Finally, we compare our results to standard stellar population modeling approaches employing solar abundance patterns and non-parametric star-formation histories (using Prospector ). Our SSP-equivalent ages agree with the mass-weighted ages from Prospector , while the metallicities disagree significantly. Nonetheless, the metallicities better reflect [ Fe/H ] than total [ Z/H ] . We also find that star-formation timescales inferred from elemental abundances are significantly shorter than those from Prospector , and we discuss the resulting implications for the early formation of massive galaxies.\n",
       "\n",
       "</div>\n",
       "\n",
       "<div id=\"div_fig1\">\n",
       "\n",
       "<img src=\"tmp_2407.02556/./fig4_abundances.png\" alt=\"Fig3\" width=\"100%\"/>\n",
       "\n",
       "**Figure 3. -** The formation time ($t_{\\rm form}$), [Fe/H], [Mg/H], [Fe/Mg], and [C/Mg] as a function of velocity dispersion for the $z=1-$3_JWST_-SUSPENSE quiescent galaxy sample (circles) and for other various measurements at similar redshifts from the literature. Each point is colored by its spectroscopic redshifts. To guide the eye, we include the best-fit relations and corresponding confidence intervals in each panel, fit to the $z=1-3$ data point. In the $t_{\\rm form}$ panel, we instead present two relations, one for $z<1.5$ and the other for $z>1.5$. For comparison, we also include the abundances of stacks of quiescent galaxies at $z\\sim0$ from SDSS  (conroy_early-type_2014, beverage_carbon_2023)  and at $z\\sim0.7$ from LEGA-C  (beverage_carbon_2023) . At constant $\\sigma$, the SUSPENSE galaxies form earlier and are more deficient in Fe and C than the $z<0.7$ galaxies. (*fig:abundance_panels*)\n",
       "\n",
       "</div>\n",
       "<div id=\"div_fig2\">\n",
       "\n",
       "<img src=\"tmp_2407.02556/./formation_time_v_xh_cM.png\" alt=\"Fig5\" width=\"100%\"/>\n",
       "\n",
       "**Figure 5. -** [Fe/H], [Mg/H], and [Mg/Fe] as a function of galaxy formation time for massive quiescent galaxies at $z=0-3$. Data points for the redshift range $z=1-3$ are color-coded based on their spectroscopic redshift, and their shapes follow the same legend as Figure \\ref{fig:abundance_panels}. The red circles [pink triangles] represent individual quiescent galaxies from SDSS [LEGA-C] (zhuang_glimpse_2023,  beverage_carbon_2023) . Typical uncertainties for the SDSS and LEGA-C points are shown in the bottom right of each panel. We remove the first-order dependence on stellar mass by adjusting all measurements to reflect the abundances at $M_*=10^{11}\\;M_\\odot$(refer to the text for details). We calculate the Pearson correlation coefficients, including all galaxies at all redshifts, and list the corresponding correlations (r) and $p$-values in the top left corner of each panel. Regardless of observed redshift, galaxies that form earlier have lower [Fe/H], slightly lower [Mg/H], and higher [Mg/Fe], consistent with more rapid formation and efficient quenching at earlier times. (*fig:formation_time-label*)\n",
       "\n",
       "</div>\n",
       "<div id=\"div_fig3\">\n",
       "\n",
       "<img src=\"tmp_2407.02556/./abundance_pattern_xfe_xh.png\" alt=\"Fig4\" width=\"100%\"/>\n",
       "\n",
       "**Figure 4. -** The abundance patterns of the $z=1-3$ quiescent galaxies (blue squares). We show the absolute abundances, [X/H], in the top panel and the abundance ratios, [X/Fe] in the bottom panel, with the solar values marked with a dashed black line. The thick solid blue line with square markers shows the median abundance pattern of the $z=1-3$ quiescent galaxies. For comparison, we include the average abundance patterns of $z\\sim0$(red solid line with circle markers) and $z\\sim0.7$(pink solid line with triangle markers) galaxies with the _same_ velocity dispersions ($175-275 \\mathrm{km s^{-1}}$). The $z=1-3$ galaxies are significantly deficient in [C/H] and [Fe/H] compared to lower redshift samples. The SUSPENSE galaxies also have enhanced [$\\alpha$/Fe](Mg, Si, Ca), which is primarily driven by deficient [Fe/H]. (*fig:abundance_pattern*)\n",
       "\n",
       "</div><div id=\"qrcode\"><img src=https://api.qrserver.com/v1/create-qr-code/?size=100x100&data=\"https://arxiv.org/abs/2407.02556\"></div>"
      ],
      "text/plain": [
       "<IPython.core.display.Markdown object>"
      ]
     },
     "metadata": {},
     "output_type": "display_data"
    },
    {
     "data": {
      "text/markdown": [
       "<div class=\"macros\" style=\"visibility:hidden;\">\n",
       "$\\newcommand{\\ensuremath}{}$\n",
       "$\\newcommand{\\xspace}{}$\n",
       "$\\newcommand{\\object}[1]{\\texttt{#1}}$\n",
       "$\\newcommand{\\farcs}{{.}''}$\n",
       "$\\newcommand{\\farcm}{{.}'}$\n",
       "$\\newcommand{\\arcsec}{''}$\n",
       "$\\newcommand{\\arcmin}{'}$\n",
       "$\\newcommand{\\ion}[2]{#1#2}$\n",
       "$\\newcommand{\\textsc}[1]{\\textrm{#1}}$\n",
       "$\\newcommand{\\hl}[1]{\\textrm{#1}}$\n",
       "$\\newcommand{\\footnote}[1]{}$\n",
       "$\\newcommand{\\Msun}{\\ensuremath{\\rm M_\\odot}}$\n",
       "$\\newcommand{\\mdot}{\\ensuremath{\\rm M_\\odot yr^{-1}}}$\n",
       "$\\newcommand{\\Lsun}{\\ensuremath{\\rm L_\\odot}}$\n",
       "$\\newcommand{\\Rsun}{\\ensuremath{\\rm R_\\odot}}$\n",
       "$\\newcommand{\\fuse}{\\emph{FUSE}}$\n",
       "$\\newcommand{\\stis}{\\emph{STIS}}$\n",
       "$\\newcommand{\\cosp}{\\emph{COS}}$\n",
       "$\\newcommand{\\hst}{\\emph{HST}}$\n",
       "$\\newcommand{\\eso}{\\emph{ESO}}$\n",
       "$\\newcommand{\\xshooter}{\\emph{X-shooter}}$\n",
       "$\\newcommand{\\teff}{T_\\text{eff}}$\n",
       "$\\newcommand{\\logg}{\\log g}$\n",
       "$\\newcommand{\\loggc}{\\log g_\\text{c}}$\n",
       "$\\newcommand{\\vturb}{\\varv_{\\rm turb}}$\n",
       "$\\newcommand{\\vmac}{\\varv_{\\rm mac}}$\n",
       "$\\newcommand{\\vsini}{\\varv\\sin i}$\n",
       "$\\newcommand{\\vrad}{\\varv_{\\rm rad}}$\n",
       "$\\newcommand{\\radius}{R_{*}/R_{\\odot}}$\n",
       "$\\newcommand{\\mass}{M_{*}/M_{\\odot}}$\n",
       "$\\newcommand{\\logL}{\\log (L_{*}/L_{\\odot})}$\n",
       "$\\newcommand{\\rstar}{R_{*}}$\n",
       "$\\newcommand{\\mstar}{M_{*}}$\n",
       "$\\newcommand{\\zsun}{{\\rm Z}_{\\odot}}$\n",
       "$\\newcommand{\\lsun}{{\\rm L}_{\\odot}}$\n",
       "$\\newcommand{\\ebv}{\\rm E(B-V)}$\n",
       "$\\newcommand{\\Rv}{R_{\\rm v}}$\n",
       "$\\newcommand{\\Mv}{M_{\\rm v}}$\n",
       "$\\newcommand{\\cmfgen}{\\textsc{CMFGEN}}$</div>\n",
       "\n",
       "\n",
       "\n",
       "<div id=\"title\">\n",
       "\n",
       "# X-Shooting ULLYSES: Massive Stars at low metallicity \n",
       "\n",
       "</div>\n",
       "<div id=\"comments\">\n",
       "\n",
       "[![arXiv](https://img.shields.io/badge/arXiv-2407.03137-b31b1b.svg)](https://arxiv.org/abs/2407.03137)<mark>Appeared on: 2024-07-05</mark> -  _18+15 pages, 21+4 figures, under review at A&A, condensed abstract_\n",
       "\n",
       "</div>\n",
       "<div id=\"authors\">\n",
       "\n",
       "A. Sander, et al. -- incl., <mark>C. Larkin</mark>\n",
       "\n",
       "</div>\n",
       "<div id=\"abstract\">\n",
       "\n",
       "**Abstract:** The spectral analysis of hot, massive stars is a fundamental astrophysical method to obtain their intrinsic properties and determine their feedback. With their inherent, radiation-driven winds, the quantitative spectroscopy for hot, massive stars requires a detailed numerical modeling of the atmosphere and an iterative treatment to obtain the best solution within a given physical and numerical framework. We present an overview of different techniques for the quantitative spectroscopy of hot stars employed within the X-Shooting ULLYSES collaboration, ranging from grid-based approaches to tailored spectral fits. By performing a blind test for selected targets, we gain an overview about the similarities and differences of the resulting stellar and wind parameters. Our study is not a systematic benchmark between different codes or methods, but aims to provide an overview of the parameter spread caused by different approaches. For three different stars from the XShooting ULLYSES sample (SMC O5 star AzV 377, LMC O7 star Sk -69 $^{\\circ}$ 50, and LMC O9 star Sk -66 $^{\\circ}$ 171), we employ different stellar atmosphere codes (CMFGEN, Fastwind , PoWR) and different strategies to determine their best-fitting model solutions. For our analyses, UV and optical spectroscopy are used to determined the stellar and wind properties with some methods relying purely on optical data for comparison. To determine the overall spectral energy distribution, we further employ additional available photometry from the literature. The effective temperatures for each of three different sample stars agree within $3 $ kK while the differences in $\\log g$ can be up to $0.2 $ dex. Luminosity differences of up to $0.1 $ dex are resulting from different reddening assumptions, which seem to be systematically larger for the methods employing a genetic algorithm. All sample stars are found to be nitrogen-enriched. The terminal wind velocities are surprisingly similar and do not strictly follow the $\\varv_\\infty$ - $T_\\text{eff}$ -relation. We find a reasonable agreement for the derived stellar and wind parameters between the different methods. Tailored fitting methods tend to be able to minimize or avoid discrepancies obtained with more course or automatized treatments. The inclusion of UV spectral data is essential for the determination of realistic wind parameters. For one target (Sk -69 $^{\\circ}$ 50), we find clear indications of an evolved status.\n",
       "\n",
       "</div>\n",
       "\n",
       "<div id=\"div_fig1\">\n",
       "\n",
       "<img src=\"tmp_2407.03137/./Figures/uv2_AV377-crop.png\" alt=\"Fig4\" width=\"100%\"/>\n",
       "\n",
       "**Figure 4. -** Comparison between the main UV profiles for AzV 377. The panels, from (a) to (h) depicts respectively the profiles of $\\ion${O}{vi} 1032/1038 Å,\n",
       " $\\ion${S}{iv} 1063/1073Å (and $\\ion${He}{ii} 1085 Å), $\\ion${P}{v} 1118/1128 Å, $\\ion${C}{iii} 1176 Å, $\\ion${N}{v} 1238/1242 Å, $\\ion${Si}{iv} 1394/1403 Å, $\\ion${C}{iv} 1548/1551 Å, $\\ion${N}{iv} 1718 Å. Interstellar Ly$\\alpha$ and Ly$\\beta$ absorption affects some of the diagnostics, most notably the wing of $\\ion${N}{v} 1238/1242 Å in case of larger terminal velocities (e.g., seen in AzV 377). (*fig:uv-AV377*)\n",
       "\n",
       "</div>\n",
       "<div id=\"div_fig2\">\n",
       "\n",
       "<img src=\"tmp_2407.03137/./Figures/SED_AV377_zoom-crop.png\" alt=\"Fig11\" width=\"100%\"/>\n",
       "\n",
       "**Figure 11. -** Zoom-in comparison of the spectral energy distributions from the different models for AzV 377 around the applied photometry (small upper panels, crosses mark photometric measurements) and the flux-calibrated UV spectra (big lower panel). (*fig:SED-zoom-AV377*)\n",
       "\n",
       "</div>\n",
       "<div id=\"div_fig3\">\n",
       "\n",
       "<img src=\"tmp_2407.03137/./Figures/he-hydrogens_AV377-crop.png\" alt=\"Fig1\" width=\"100%\"/>\n",
       "\n",
       "**Figure 1. -** Comparison between the different methods in the Balmer lines and $\\ion${He}{ii} $\\lambda$4541 region for AzV 377. (*fig:balmer-AV377*)\n",
       "\n",
       "</div><div id=\"qrcode\"><img src=https://api.qrserver.com/v1/create-qr-code/?size=100x100&data=\"https://arxiv.org/abs/2407.03137\"></div>"
      ],
      "text/plain": [
       "<IPython.core.display.Markdown object>"
      ]
     },
     "metadata": {},
     "output_type": "display_data"
    },
    {
     "data": {
      "text/markdown": [
       "<div class=\"macros\" style=\"visibility:hidden;\">\n",
       "$\\newcommand{\\ensuremath}{}$\n",
       "$\\newcommand{\\xspace}{}$\n",
       "$\\newcommand{\\object}[1]{\\texttt{#1}}$\n",
       "$\\newcommand{\\farcs}{{.}''}$\n",
       "$\\newcommand{\\farcm}{{.}'}$\n",
       "$\\newcommand{\\arcsec}{''}$\n",
       "$\\newcommand{\\arcmin}{'}$\n",
       "$\\newcommand{\\ion}[2]{#1#2}$\n",
       "$\\newcommand{\\textsc}[1]{\\textrm{#1}}$\n",
       "$\\newcommand{\\hl}[1]{\\textrm{#1}}$\n",
       "$\\newcommand{\\footnote}[1]{}$\n",
       "$\\newcommand{\\Rsun}{R_{\\odot}}$\n",
       "$\\newcommand{\\Rjup}{R_{\\mathrm{J}}}$\n",
       "$\\newcommand{\\Mjup}{M_{\\mathrm{J}}}$\n",
       "$\\newcommand{\\Rp}{R_{\\mathrm{P}}}$\n",
       "$\\newcommand{\\Mp}{M_{\\mathrm{P}}}$\n",
       "$\\newcommand{\\Rs}{R_{\\mathrm{*}}}$\n",
       "$\\newcommand{\\Ms}{R_{\\mathrm{*}}}$\n",
       "$\\newcommand{\\Teq}{T_{\\mathrm{eq}}}$\n",
       "$\\newcommand{◦ee}{^{\\circ}}$\n",
       "$\\newcommand{\\obliquity}{|\\lambda|}$</div>\n",
       "\n",
       "\n",
       "\n",
       "<div id=\"title\">\n",
       "\n",
       "# BOWIE-ALIGN: A JWST comparative survey of aligned vs misaligned hot Jupiters to test the dependence of atmospheric composition on migration history\n",
       "\n",
       "</div>\n",
       "<div id=\"comments\">\n",
       "\n",
       "[![arXiv](https://img.shields.io/badge/arXiv-2407.03198-b31b1b.svg)](https://arxiv.org/abs/2407.03198)<mark>Appeared on: 2024-07-05</mark> -  _13 pages, 8 figures, submitted to RASTI_\n",
       "\n",
       "</div>\n",
       "<div id=\"authors\">\n",
       "\n",
       "J. Kirk, et al. -- incl., <mark>E.-M. Ahrer</mark>\n",
       "\n",
       "</div>\n",
       "<div id=\"abstract\">\n",
       "\n",
       "**Abstract:** A primary objective of exoplanet atmosphere characterisation is to learn about planet formation and evolution, however, this is challenged by degeneracies. To determine whether differences in atmospheric composition can be reliably traced to differences in evolution, we are undertaking a new survey with JWST to compare the compositions of a sample of hot Jupiters that orbit F stars above the Kraft break with different orbital alignments. Under the assumption that aligned planets migrate through the inner disc, while misaligned planets migrate after disc dispersal, the act of migrating through the inner disc should lead to a measurable difference in the C/O between aligned and misaligned planets. We expect the amplitude and sign of this difference to depend on the amount of planetesimal accretion and whether silicates accreted from the inner disc release their oxygen. Here, we identify all known exoplanets that are suitable for testing this hypothesis, describe our JWST survey, and use noise simulations and atmospheric retrievals to estimate our survey's sensitivity. With the selected sample of four aligned and four misaligned hot Jupiters, we will be sensitive to the predicted differences in C/O between aligned and misaligned hot Jupiters for a wide range of model scenarios.\n",
       "\n",
       "</div>\n",
       "\n",
       "<div id=\"div_fig1\">\n",
       "\n",
       "<img src=\"tmp_2407.03198/./figures/Anna_models_with_measurement_uncertainties.png\" alt=\"Fig4\" width=\"100%\"/>\n",
       "\n",
       "**Figure 4. -** The C/O and [O/H](= Z) results of two models from the suite of models run in \\citetalias{PenzlinBooth2024}\\citeyear{PenzlinBooth2024}. Left panel: The C/O and [O/H] from the fiducial model (disc scenario 1), showing that aligned, disc-migrated planets (orange points) tend towards lower C/O than misaligned, high-eccentricity migrated planets (blue points) due to the accretion of O-rich ices in the inner disc. The dashed and dotted lines indicate the two values of metallicity and four values of C/O that were adopted in our simulation setup here. The white circles with uncertainties show the precision with which we'll be able to measure these values from an eight-planet sample (four aligned and four misaligned planets). Right panel: The C/O and [O/H] from the silicate rainout model (disc scenario 2), whereby silicates do not release their O into the atmospheres of exoplanets upon accretion. In this case, aligned, disc-migrated planets (orange points) tend towards higher C/O than misaligned, high-eccentricity migrated planets (blue points). Again, the dashed and dotted lines indicate the two values of metallicity and four values of C/O that were adopted in our simulation setup here. (*fig:anna_models*)\n",
       "\n",
       "</div>\n",
       "<div id=\"div_fig2\">\n",
       "\n",
       "<img src=\"tmp_2407.03198/./figures/posteriors_fiducial_extra_fit_params.png\" alt=\"Fig5\" width=\"100%\"/>\n",
       "\n",
       "**Figure 5. -** The retrieved $\\log Z$ and C/O posteriors from the model atmospheres with $\\log Z$ and C/O set by the fiducial disc model (scenario 1). The left column corresponds to the $3\\times$ solar metallicity cases, and the right column to $30\\times$ solar. Top row: the combined $\\log Z$ posteriors from the aligned planets for a *total* sample size of 4 (2 aligned, 2 misaligned), 8 (4 aligned, 4 misaligned) and 16 (7 aligned, 9 misaligned) planets, with the legend giving the standard deviations of these distributions. The darkest line corresponds to our actual sample size of 8 planets. The vertical dashed and dotted orange lines indicate the mean and standard deviation of the 8 planet posterior. The vertical dotted black line indicates the input value. Second row: $\\log Z$ posteriors for the misaligned planets. Bottom row: the C/O posteriors for both the aligned (orange) and misaligned planets (blue). (*fig:posteriors_fiducial*)\n",
       "\n",
       "</div>\n",
       "<div id=\"div_fig3\">\n",
       "\n",
       "<img src=\"tmp_2407.03198/./figures/opacity_contributions_TrES-4b.png\" alt=\"Fig2\" width=\"100%\"/>\n",
       "\n",
       "**Figure 2. -** Two example forward models used in this analysis, both created for TrES-4b (an aligned target). Top panel: a $3\\times$ solar metallicity, $\\mathrm{C/O} = 0.28$ forward model (black dashed line), corresponding to the fiducial disc model (disc scenario 1, Section \\ref{sec:model_predictions} and Figure \\ref{fig:anna_models}, left panel). The grey uncertainties correspond to the estimated JWST precision at a spectral resolution of $R=100$. The colour lines show the contribution of different species to the overall opacity, using line lists for $H_2$O from \\protect[Polyansky, et. al (2018)](https://ui.adsabs.harvard.edu/abs/2018MNRAS.480.2597P), $CO_2$ from \\protect[Tashkun and Perevalov (2011)](https://ui.adsabs.harvard.edu/abs/2011JQSRT.112.1403T), and CO from \\protect[Faure, et. al (2013)](https://ui.adsabs.harvard.edu/abs/2013JQSRT.116...79F), [ and Gordon (2017)](https://ui.adsabs.harvard.edu/abs/2017JQSRT.203....3G). Bottom panel: a $30\\times$ solar metallicity, $\\mathrm{C/O} = 0.80$ forward model (black line), corresponding to the silicate rainout disc model (disc scenario 2, Section \\ref{sec:model_predictions} and Figure \\ref{fig:anna_models}, right panel). (*fig:opacities*)\n",
       "\n",
       "</div><div id=\"qrcode\"><img src=https://api.qrserver.com/v1/create-qr-code/?size=100x100&data=\"https://arxiv.org/abs/2407.03198\"></div>"
      ],
      "text/plain": [
       "<IPython.core.display.Markdown object>"
      ]
     },
     "metadata": {},
     "output_type": "display_data"
    },
    {
     "data": {
      "text/markdown": [
       "<div class=\"macros\" style=\"visibility:hidden;\">\n",
       "$\\newcommand{\\ensuremath}{}$\n",
       "$\\newcommand{\\xspace}{}$\n",
       "$\\newcommand{\\object}[1]{\\texttt{#1}}$\n",
       "$\\newcommand{\\farcs}{{.}''}$\n",
       "$\\newcommand{\\farcm}{{.}'}$\n",
       "$\\newcommand{\\arcsec}{''}$\n",
       "$\\newcommand{\\arcmin}{'}$\n",
       "$\\newcommand{\\ion}[2]{#1#2}$\n",
       "$\\newcommand{\\textsc}[1]{\\textrm{#1}}$\n",
       "$\\newcommand{\\hl}[1]{\\textrm{#1}}$\n",
       "$\\newcommand{\\footnote}[1]{}$\n",
       "$\\newcommand{\\prt}[2]{\\frac{\\partial #1}{\\partial #2}}$\n",
       "$\\newcommand{\\Prt}[1]{\\frac{\\partial}{\\partial #1}}$\n",
       "$\\newcommand{\\PPrt}[1]{\\frac{\\partial^2}{\\partial #1^2}}$\n",
       "$\\newcommand{\\todo}[1]{\\textcolor{red}{\\bf (todo: #1)}}$\n",
       "$\\newcommand{\\checks}[1]{\\textcolor{blue}{\\bf #1}}$\n",
       "$\\newcommand{\\new}[1]{\\textcolor{black}{\\bf #1}}$\n",
       "$\\newcommand{\\quest}[1]{\\textcolor{magenta}{\\bf #1}}$\n",
       "$\\newcommand{\\anna}[1]{\\textcolor{magenta}{#1}}$\n",
       "$\\newcommand{\\rab}[1]{\\textcolor{darkgreen}{#1}}$\n",
       "$\\newcommand{\\jeo}[1]{\\textcolor{blue}{#1}}$\n",
       "$\\newcommand{\\kirk}[1]{\\textcolor{orange}{#1}}$\n",
       "$\\newcommand{\\ep}{e_\\mathrm{p}}$\n",
       "$\\newcommand{\\ap}{a_\\mathrm{p}}$\n",
       "$\\newcommand{\\St}{\\mathrm{St}}$\n",
       "$\\newcommand{\\rh}{r_\\mathrm{hill}}$\n",
       "$\\newcommand{\\Rsun}{\\ensuremath{R_{\\odot}}}$\n",
       "$\\newcommand{\\Rjup}{\\ensuremath{R_{\\mathrm{J}}}}$\n",
       "$\\newcommand{\\Mjup}{\\ensuremath{M_{\\mathrm{J}}}}$\n",
       "$\\newcommand{\\Rp}{\\ensuremath{R_{\\mathrm{P}}}}$\n",
       "$\\newcommand{\\Mp}{\\ensuremath{M_{\\mathrm{P}}}}$\n",
       "$\\newcommand{\\Rs}{\\ensuremath{R_{\\mathrm{*}}}}$\n",
       "$\\newcommand{\\Ms}{\\ensuremath{R_{\\mathrm{*}}}}$\n",
       "$\\newcommand{\\Teq}{\\ensuremath{T_{\\mathrm{eq}}}}$\n",
       "$\\newcommand{◦ee}{\\ensuremath{^{\\circ}}}$\n",
       "$\\newcommand{\\obliquity}{\\ensuremath{|\\lambda|}}$\n",
       "$\\newcommand{\\um}{\\ensuremath{\\mu \\text{m}}}$\n",
       "$\\newcommand{\\beq}{\\begin{equation}}$\n",
       "$\\newcommand{\\eeq}{\\end{equation}}$\n",
       "$\\title[BOWIE-ALIGN: Modelling the compositions of disc- and high-e migrated gas giants]{BOWIE-ALIGN: How formation and migration histories of giant planets impact atmospheric compositions}$\n",
       "$\\author[Penzlin, Booth et al.]{Anna~B.T. Penzlin^{1}\\thanks{E-mail: a.penzlin@imperial.ac.uk}\\thanks{Authors contributed equally.},$\n",
       "$Richard~A. Booth^{2}\\footnotemark[2],$\n",
       "$James Kirk^{1},$\n",
       "$James E. Owen^{1},$\n",
       "$E. Ahrer^{3},$\n",
       "$\\newauthor$\n",
       "$Duncan A. Christie^{3},$\n",
       "$Alastair B. Claringbold^{4,5},$\n",
       "$Emma Esparza-Borges^{6,7},$\n",
       "$M. López-Morales^{8},$\n",
       "$\\newauthor$\n",
       "$N. J. Mayne^{9},$\n",
       "$Mason McCormack^{10},$\n",
       "$Annabella Meech^{8,11},$\n",
       "$Vatsal Panwar^{4,5},$\n",
       "$Diana Powell^{10},$\n",
       "$\\newauthor$\n",
       "$Denis E. Sergeev^{9},$\n",
       "$Jake Taylor^{11},$\n",
       "$Peter J. Wheatley^{4,5},$\n",
       "$Maria Zamyatina^{9},$\n",
       "$BOWIE+ collaboration$\n",
       "$\\ ^{1}Astrophysics Group, Department of Physics, Imperial College London, Prince Consort Rd, London, SW7 2AZ, UK \\ ^{2}School of Physics and Astronomy, University of Leeds, Leeds LS2 9JT, UK\\ ^{3}Max Planck Institute for Astronomy (MPIA), Königstuhl 17, 69117 Heidelberg, Germany\\ ^{4}Centre for Exoplanets and Habitability, University of Warwick, Gibbet Hill Road, Coventry CV4 7AL, UK\\ ^{5}Department of Physics, University of Warwick, Gibbet Hill Road, Coventry CV4 7AL, UK\\ ^{6}Instituto de Astrofísica de Canarias, San Cristóbal de La Laguna, Tenerife E-38200, Spain \\ ^{7}Departamento de Astrofísica, Universidad de La Laguna, San Cristóbal de La Laguna, Tenerife E-38200, Spain\\ ^{8}Center for Astrophysics {\\rm \\mid} Harvard {\\rm \\&} Smithsonian, 60 Garden St, Cambridge, MA 02138, USA\\ ^{9}Department of Physics and Astronomy, Faculty of Environment, Science and Economy, University of Exeter, Exeter EX4 4QL, UK\\ ^{10}Department of Astronomy and Astrophysics, University of Chicago, IL, 60657, USA\\ ^{11}Department of Physics, University of Oxford, Keble Road, Oxford, OX1 3RH, UK\\ }$\n",
       "$\\date{Accepted XXX. Received YYY; in original form ZZZ}$\n",
       "$\\pubyear{2024}$\n",
       "$\\begin{document}$\n",
       "$\\label{firstpage}$\n",
       "$\\pagerange{\\pageref{firstpage}--\\pageref{lastpage}}$\n",
       "$\\maketitle$\n",
       "$\\begin{abstract}{$\n",
       "$Hot Jupiters present a unique opportunity for measuring how planet formation history shapes present-day atmospheric composition. However, due to the myriad pathways influencing composition, a well-constructed sample of planets is needed to determine whether formation history can be accurately traced back from atmospheric composition.$\n",
       "$To this end, the BOWIE-ALIGN survey will compare the compositions of 8 hot Jupiters around F stars, 4 with orbits aligned with the stellar rotation axis and 4 misaligned.$\n",
       "$Using the alignment as an indicator for planets that underwent disc migration or high-eccentricity migration, one can determine whether migration history produces notable differences in composition between the two samples of planets.$\n",
       "$This paper describes the planet formation model that motivates our observing programme. Our model traces the accretion of chemical components from the gas and dust in the disc over a broad parameter space to create a full, unbiased model sample from which we can estimate the range of final atmospheric compositions.$\n",
       "$For high metallicity atmospheres (O/H\\geq10 \\times solar), the C/O ratios of aligned and misaligned planets diverge, with aligned planets having lower C/O (<0.25) due to the accretion of oxygen-rich silicates from the inner disc. However, silicates may$\n",
       "$rain out instead of releasing their oxygen into the atmosphere. This would significantly increase the C/O of aligned planets (C/O >0.6), inverting the trend between the aligned and misaligned planets. Nevertheless, by comparing statistically significant samples of aligned and misaligned planets, we expect atmospheric composition to constrain how planets form.$\n",
       "$}$\n",
       "$\\end{abstract}$\n",
       "$\\begin{keywords}$\n",
       "$Planet formation -- Protoplanetary discs$\n",
       "$\\end{keywords}$\n",
       "$\\n\\end{document}\\end{equation}}$\n",
       "$\\newcommand{\\eeq}{\\end{equation}}$\n",
       "$\\newcommand{\\vec}[1]{\\bm{\\mathrm{#1}}}$</div>\n",
       "\n",
       "\n",
       "\n",
       "<div id=\"title\">\n",
       "\n",
       "# BOWIE-ALIGN: How formation and migration histories of giant planets impact atmospheric compositions\n",
       "\n",
       "</div>\n",
       "<div id=\"comments\">\n",
       "\n",
       "[![arXiv](https://img.shields.io/badge/arXiv-2407.03199-b31b1b.svg)](https://arxiv.org/abs/2407.03199)<mark>Appeared on: 2024-07-05</mark> -  _11pages 10 figures, (appendix: 6 page, 4 figures), submitted to mnras_\n",
       "\n",
       "</div>\n",
       "<div id=\"authors\">\n",
       "\n",
       "A. B. Penzlin, et al. -- incl., <mark>E.-M. Ahrer</mark>\n",
       "\n",
       "</div>\n",
       "<div id=\"abstract\">\n",
       "\n",
       "**Abstract:** Hot Jupiters present a unique opportunity for measuring how planet formation history shapes present-day atmospheric composition. However, due to the myriad pathways influencing composition, a well-constructed sample of planets is needed to determine whether formation history can be accurately traced back from atmospheric composition.To this end, the BOWIE-ALIGN survey will compare the compositions of 8 hot Jupiters around F stars, 4 with orbits aligned with the stellar rotation axis and 4 misaligned.Using the alignment as an indicator for planets that underwent disc migration or high-eccentricity migration, one can determine whether migration history produces notable differences in composition between the two samples of planets.This paper describes the planet formation model that motivates our observing programme. Our model traces the accretion of chemical components from the gas and dust in the disc over a broad parameter space to create a full, unbiased model sample from which we can estimate the range of final atmospheric compositions.For high metallicity atmospheres ( $O/H\\geq10 \\times$ solar), the C/O ratios of aligned and misaligned planets diverge, with aligned planets having lower C/O ( $<0.25$ ) due to the accretion of oxygen-rich silicates from the inner disc. However, silicates mayrain out instead of releasing their oxygen into the atmosphere. This would significantly increase the C/O of aligned planets (C/O $>0.6$ ), inverting the trend between the aligned and misaligned planets. Nevertheless, by comparing statistically significant samples of aligned and misaligned planets, we expect atmospheric composition to constrain how planets form.\n",
       "\n",
       "</div>\n",
       "\n",
       "<div id=\"div_fig1\">\n",
       "\n",
       "<img src=\"tmp_2407.03199/./fig/disc.png\" alt=\"Fig1\" width=\"100%\"/>\n",
       "\n",
       "**Figure 1. -** Molecule abundances throughout the disc in gas and ice (top) and the resulting C/O ratio (bottom). The left panels show a disc with nearly no dust drift. The right panels show the enhancements near the icelines of fast drifting dust. To achieve a constant flux in all discs, the level of solid composition to gas composition scales with the drift velocity. (*fig:disc*)\n",
       "\n",
       "</div>\n",
       "<div id=\"div_fig2\">\n",
       "\n",
       "<img src=\"tmp_2407.03199/./fig/image10.png\" alt=\"Fig3\" width=\"100%\"/>\n",
       "\n",
       "**Figure 3. -** The final atmosphere compositions from the full parameter range in Table \\ref{tab:models}. The marker symbol corresponds to the temperature ($ \\times \\rightarrow 125$ K, $ + \\rightarrow 150$ K, $\\circ \\rightarrow 200$ K). Orange markers represent the disc migrated planets and blue markers represent the high-eccentricity migrated planets. Saturated markers show gas dominated accretion. The three different tracks correspond to different dust-to-gas flux ratios and are labelled. The dashed grey line indicates the critical values for models with planetesimal accretion fraction less than $<10^{-4}$, all such models are confined to the left side of the line. The coloured dashed line indicates the minimum C/O ratio for gas dominated accretion ($\\mathrm{O_{gas}}/\\mathrm{O_{dust}}>1$). (*fig:all_set*)\n",
       "\n",
       "</div>\n",
       "<div id=\"div_fig3\">\n",
       "\n",
       "<img src=\"tmp_2407.03199/./fig/O2O_fin1.png\" alt=\"Fig9\" width=\"100%\"/>\n",
       "\n",
       "**Figure 9. -** The final atmosphere compositions when counting all, only the final 10 \\% and final 1 \\% of accreted material. The marker symbols and colours are the same as in Fig. \\ref{fig:all_set}. (*fig:fin_set*)\n",
       "\n",
       "</div><div id=\"qrcode\"><img src=https://api.qrserver.com/v1/create-qr-code/?size=100x100&data=\"https://arxiv.org/abs/2407.03199\"></div>"
      ],
      "text/plain": [
       "<IPython.core.display.Markdown object>"
      ]
     },
     "metadata": {},
     "output_type": "display_data"
    }
   ],
   "source": [
    "[display(Markdown(k[1])) for k in documents];"
   ]
  },
  {
   "cell_type": "markdown",
   "id": "873873a4",
   "metadata": {
    "papermill": {
     "duration": 0.006482,
     "end_time": "2024-07-05T04:12:32.786470",
     "exception": false,
     "start_time": "2024-07-05T04:12:32.779988",
     "status": "completed"
    },
    "tags": []
   },
   "source": [
    "# Create HTML index"
   ]
  },
  {
   "cell_type": "code",
   "execution_count": 10,
   "id": "cf665672",
   "metadata": {
    "execution": {
     "iopub.execute_input": "2024-07-05T04:12:32.800656Z",
     "iopub.status.busy": "2024-07-05T04:12:32.800171Z",
     "iopub.status.idle": "2024-07-05T04:12:32.808290Z",
     "shell.execute_reply": "2024-07-05T04:12:32.807643Z"
    },
    "papermill": {
     "duration": 0.016661,
     "end_time": "2024-07-05T04:12:32.809611",
     "exception": false,
     "start_time": "2024-07-05T04:12:32.792950",
     "status": "completed"
    },
    "tags": []
   },
   "outputs": [
    {
     "name": "stdout",
     "output_type": "stream",
     "text": [
      "114"
     ]
    },
    {
     "name": "stdout",
     "output_type": "stream",
     "text": [
      "  publications files modified in the last 7 days.\n"
     ]
    }
   ],
   "source": [
    "from datetime import datetime, timedelta, timezone\n",
    "from glob import glob\n",
    "import os\n",
    "\n",
    "files = glob('_build/html/*.md')\n",
    "days = 7\n",
    "now = datetime.today()\n",
    "res = []\n",
    "for fk in files:\n",
    "    stat_result = os.stat(fk).st_ctime\n",
    "    modified = datetime.fromtimestamp(stat_result, tz=timezone.utc).replace(tzinfo=None)\n",
    "    delta = now.today() - modified\n",
    "    if delta <= timedelta(days=days):\n",
    "        res.append((delta.seconds, fk))\n",
    "res = [k[1] for k in reversed(sorted(res, key=lambda x:x[1]))]\n",
    "npub = len(res)\n",
    "print(len(res), f\" publications files modified in the last {days:d} days.\")\n",
    "# [ print('\\t', k) for k in res ];"
   ]
  },
  {
   "cell_type": "code",
   "execution_count": 11,
   "id": "015de740",
   "metadata": {
    "execution": {
     "iopub.execute_input": "2024-07-05T04:12:32.824152Z",
     "iopub.status.busy": "2024-07-05T04:12:32.823772Z",
     "iopub.status.idle": "2024-07-05T04:12:32.836029Z",
     "shell.execute_reply": "2024-07-05T04:12:32.835507Z"
    },
    "papermill": {
     "duration": 0.021031,
     "end_time": "2024-07-05T04:12:32.837419",
     "exception": false,
     "start_time": "2024-07-05T04:12:32.816388",
     "status": "completed"
    },
    "tags": []
   },
   "outputs": [
    {
     "name": "stdout",
     "output_type": "stream",
     "text": [
      "9  publications in the last 7 days.\n"
     ]
    }
   ],
   "source": [
    "import datetime\n",
    "from glob import glob\n",
    "\n",
    "def get_last_n_days(lst, days=1):\n",
    "    \"\"\" Get the documents from the last n days \"\"\"\n",
    "    sorted_lst = sorted(lst, key=lambda x: x[1], reverse=True)\n",
    "    for fname, date in sorted_lst:\n",
    "        if date >= str(datetime.date.today() - datetime.timedelta(days=days)):\n",
    "            yield fname\n",
    "\n",
    "def extract_appearance_dates(lst_file):\n",
    "    dates = []\n",
    "\n",
    "    def get_date(line):\n",
    "        return line\\\n",
    "            .split('Appeared on:')[-1]\\\n",
    "            .split('</mark>')[0].strip()\n",
    "\n",
    "    for fname in lst:\n",
    "        with open(fname, 'r') as f:\n",
    "            found_date = False\n",
    "            for line in f:\n",
    "                if not found_date:\n",
    "                    if \"Appeared on\" in line:\n",
    "                        found_date = True\n",
    "                        dates.append((fname, get_date(line)))\n",
    "                else:\n",
    "                    break\n",
    "    return dates\n",
    "\n",
    "from glob import glob\n",
    "lst = glob('_build/html/*md')\n",
    "days = 7\n",
    "dates = extract_appearance_dates(lst)\n",
    "res = list(get_last_n_days(dates, days))\n",
    "npub = len(res)\n",
    "print(len(res), f\" publications in the last {days:d} days.\")"
   ]
  },
  {
   "cell_type": "code",
   "execution_count": 12,
   "id": "52ca0208",
   "metadata": {
    "execution": {
     "iopub.execute_input": "2024-07-05T04:12:32.852293Z",
     "iopub.status.busy": "2024-07-05T04:12:32.851878Z",
     "iopub.status.idle": "2024-07-05T04:12:32.856919Z",
     "shell.execute_reply": "2024-07-05T04:12:32.856249Z"
    },
    "papermill": {
     "duration": 0.014147,
     "end_time": "2024-07-05T04:12:32.858331",
     "exception": false,
     "start_time": "2024-07-05T04:12:32.844184",
     "status": "completed"
    },
    "scrolled": false,
    "tags": []
   },
   "outputs": [],
   "source": [
    "def create_carousel(npub=4):\n",
    "    \"\"\" Generate the HTML code for a carousel with `npub` slides \"\"\"\n",
    "    carousel = [\"\"\"  <div class=\"carousel\" \"\"\",\n",
    "                \"\"\"       data-flickity='{ \"autoPlay\": 10000, \"adaptiveHeight\": true, \"resize\": true, \"wrapAround\": true, \"pauseAutoPlayOnHover\": true, \"groupCells\": 1 }' id=\"asyncTypeset\">\"\"\"\n",
    "                ]\n",
    "    \n",
    "    item_str = \"\"\"    <div class=\"carousel-cell\"> <div id=\"slide{k}\" class=\"md_view\">Content {k}</div> </div>\"\"\"\n",
    "    for k in range(1, npub + 1):\n",
    "        carousel.append(item_str.format(k=k))\n",
    "    carousel.append(\"  </div>\")\n",
    "    return '\\n'.join(carousel)\n",
    "\n",
    "def create_grid(npub=4):\n",
    "    \"\"\" Generate the HTML code for a flat grid with `npub` slides \"\"\"\n",
    "    grid = [\"\"\"  <div class=\"grid\"> \"\"\",\n",
    "                ]\n",
    "    \n",
    "    item_str = \"\"\"    <div class=\"grid-item\"> <div id=\"slide{k}\" class=\"md_view\">Content {k}</div> </div>\"\"\"\n",
    "    for k in range(1, npub + 1):\n",
    "        grid.append(item_str.format(k=k))\n",
    "    grid.append(\"  </div>\")\n",
    "    return '\\n'.join(grid)"
   ]
  },
  {
   "cell_type": "code",
   "execution_count": 13,
   "id": "a6eac5b6",
   "metadata": {
    "execution": {
     "iopub.execute_input": "2024-07-05T04:12:32.873585Z",
     "iopub.status.busy": "2024-07-05T04:12:32.873127Z",
     "iopub.status.idle": "2024-07-05T04:12:32.878503Z",
     "shell.execute_reply": "2024-07-05T04:12:32.877877Z"
    },
    "papermill": {
     "duration": 0.014539,
     "end_time": "2024-07-05T04:12:32.879939",
     "exception": false,
     "start_time": "2024-07-05T04:12:32.865400",
     "status": "completed"
    },
    "scrolled": false,
    "tags": []
   },
   "outputs": [],
   "source": [
    "carousel = create_carousel(npub)\n",
    "docs = ', '.join(['\"{0:s}\"'.format(k.split('/')[-1]) for k in res])\n",
    "slides = ', '.join([f'\"slide{k}\"' for k in range(1, npub + 1)])\n",
    "\n",
    "with open(\"daily_template.html\", \"r\") as tpl:\n",
    "    page = tpl.read()\n",
    "    page = page.replace(\"{%-- carousel:s --%}\", carousel)\\\n",
    "               .replace(\"{%-- suptitle:s --%}\",  \"7-day archives\" )\\\n",
    "               .replace(\"{%-- docs:s --%}\", docs)\\\n",
    "               .replace(\"{%-- slides:s --%}\", slides)\n",
    "    \n",
    "with open(\"_build/html/index_7days.html\", 'w') as fout:\n",
    "    fout.write(page)"
   ]
  },
  {
   "cell_type": "code",
   "execution_count": 14,
   "id": "adc1a1ec",
   "metadata": {
    "execution": {
     "iopub.execute_input": "2024-07-05T04:12:32.894688Z",
     "iopub.status.busy": "2024-07-05T04:12:32.894287Z",
     "iopub.status.idle": "2024-07-05T04:12:32.900546Z",
     "shell.execute_reply": "2024-07-05T04:12:32.899908Z"
    },
    "papermill": {
     "duration": 0.015049,
     "end_time": "2024-07-05T04:12:32.901865",
     "exception": false,
     "start_time": "2024-07-05T04:12:32.886816",
     "status": "completed"
    },
    "tags": []
   },
   "outputs": [
    {
     "name": "stdout",
     "output_type": "stream",
     "text": [
      "4  publications in the last day.\n"
     ]
    }
   ],
   "source": [
    "# redo for today\n",
    "days = 1\n",
    "res = list(get_last_n_days(dates, days))\n",
    "npub = len(res)\n",
    "print(len(res), f\" publications in the last day.\")\n",
    "\n",
    "carousel = create_carousel(npub)\n",
    "docs = ', '.join(['\"{0:s}\"'.format(k.split('/')[-1]) for k in res])\n",
    "slides = ', '.join([f'\"slide{k}\"' for k in range(1, npub + 1)])\n",
    "\n",
    "with open(\"daily_template.html\", \"r\") as tpl:\n",
    "    page = tpl.read()\n",
    "    page = page.replace(\"{%-- carousel:s --%}\", carousel)\\\n",
    "               .replace(\"{%-- suptitle:s --%}\",  \"Daily\" )\\\n",
    "               .replace(\"{%-- docs:s --%}\", docs)\\\n",
    "               .replace(\"{%-- slides:s --%}\", slides)\n",
    "    \n",
    "# print(carousel, docs, slides)\n",
    "# print(page)\n",
    "with open(\"_build/html/index_daily.html\", 'w') as fout:\n",
    "    fout.write(page)"
   ]
  },
  {
   "cell_type": "code",
   "execution_count": 15,
   "id": "00eece82",
   "metadata": {
    "execution": {
     "iopub.execute_input": "2024-07-05T04:12:32.917272Z",
     "iopub.status.busy": "2024-07-05T04:12:32.916815Z",
     "iopub.status.idle": "2024-07-05T04:12:32.923405Z",
     "shell.execute_reply": "2024-07-05T04:12:32.922791Z"
    },
    "papermill": {
     "duration": 0.016086,
     "end_time": "2024-07-05T04:12:32.924835",
     "exception": false,
     "start_time": "2024-07-05T04:12:32.908749",
     "status": "completed"
    },
    "scrolled": false,
    "tags": []
   },
   "outputs": [
    {
     "name": "stdout",
     "output_type": "stream",
     "text": [
      "6  6 publications selected.\n"
     ]
    }
   ],
   "source": [
    "# Create the flat grid of the last N papers (fixed number regardless of dates)\n",
    "from itertools import islice \n",
    "\n",
    "npub = 6\n",
    "res = [k[0] for k in (islice(reversed(sorted(dates, key=lambda x: x[1])), 6))]\n",
    "print(len(res), f\" {npub} publications selected.\")\n",
    "\n",
    "grid = create_grid(npub)\n",
    "docs = ', '.join(['\"{0:s}\"'.format(k.split('/')[-1]) for k in res])\n",
    "slides = ', '.join([f'\"slide{k}\"' for k in range(1, npub + 1)])\n",
    "\n",
    "with open(\"grid_template.html\", \"r\") as tpl:\n",
    "    page = tpl.read()\n",
    "    page = page.replace(\"{%-- grid-content:s --%}\", grid)\\\n",
    "               .replace(\"{%-- suptitle:s --%}\",  f\"Last {npub:,d} papers\" )\\\n",
    "               .replace(\"{%-- docs:s --%}\", docs)\\\n",
    "               .replace(\"{%-- slides:s --%}\", slides)\n",
    "    \n",
    "# print(grid, docs, slides)\n",
    "# print(page)\n",
    "with open(\"_build/html/index_npub_grid.html\", 'w') as fout:\n",
    "    fout.write(page)"
   ]
  }
 ],
 "metadata": {
  "kernelspec": {
   "display_name": "Python 3 (ipykernel)",
   "language": "python",
   "name": "python3"
  },
  "language_info": {
   "codemirror_mode": {
    "name": "ipython",
    "version": 3
   },
   "file_extension": ".py",
   "mimetype": "text/x-python",
   "name": "python",
   "nbconvert_exporter": "python",
   "pygments_lexer": "ipython3",
   "version": "3.9.19"
  },
  "papermill": {
   "default_parameters": {},
   "duration": 148.443812,
   "end_time": "2024-07-05T04:12:33.148219",
   "environment_variables": {},
   "exception": null,
   "input_path": "MPIA daily digest.ipynb",
   "output_path": "log.ipynb",
   "parameters": {},
   "start_time": "2024-07-05T04:10:04.704407",
   "version": "2.6.0"
  },
  "vscode": {
   "interpreter": {
    "hash": "aee8b7b246df8f9039afb4144a1f6fd8d2ca17a180786b69acc140d282b71a49"
   }
  },
  "widgets": {
   "application/vnd.jupyter.widget-state+json": {
    "state": {
     "20f251f91d0d45a5963e6be08e35d74e": {
      "model_module": "@jupyter-widgets/controls",
      "model_module_version": "2.0.0",
      "model_name": "FloatProgressModel",
      "state": {
       "_dom_classes": [],
       "_model_module": "@jupyter-widgets/controls",
       "_model_module_version": "2.0.0",
       "_model_name": "FloatProgressModel",
       "_view_count": null,
       "_view_module": "@jupyter-widgets/controls",
       "_view_module_version": "2.0.0",
       "_view_name": "ProgressView",
       "bar_style": "success",
       "description": "",
       "description_allow_html": false,
       "layout": "IPY_MODEL_52654654bac84c3c8090bf32016d4212",
       "max": 7.0,
       "min": 0.0,
       "orientation": "horizontal",
       "style": "IPY_MODEL_b07a494666de4d80a5cc3866294e4969",
       "tabbable": null,
       "tooltip": null,
       "value": 7.0
      }
     },
     "39c8374789894ac7a53013e9e7a692c4": {
      "model_module": "@jupyter-widgets/base",
      "model_module_version": "2.0.0",
      "model_name": "LayoutModel",
      "state": {
       "_model_module": "@jupyter-widgets/base",
       "_model_module_version": "2.0.0",
       "_model_name": "LayoutModel",
       "_view_count": null,
       "_view_module": "@jupyter-widgets/base",
       "_view_module_version": "2.0.0",
       "_view_name": "LayoutView",
       "align_content": null,
       "align_items": null,
       "align_self": null,
       "border_bottom": null,
       "border_left": null,
       "border_right": null,
       "border_top": null,
       "bottom": null,
       "display": null,
       "flex": null,
       "flex_flow": null,
       "grid_area": null,
       "grid_auto_columns": null,
       "grid_auto_flow": null,
       "grid_auto_rows": null,
       "grid_column": null,
       "grid_gap": null,
       "grid_row": null,
       "grid_template_areas": null,
       "grid_template_columns": null,
       "grid_template_rows": null,
       "height": null,
       "justify_content": null,
       "justify_items": null,
       "left": null,
       "margin": null,
       "max_height": null,
       "max_width": null,
       "min_height": null,
       "min_width": null,
       "object_fit": null,
       "object_position": null,
       "order": null,
       "overflow": null,
       "padding": null,
       "right": null,
       "top": null,
       "visibility": null,
       "width": null
      }
     },
     "3af50bf61a414f5ea55640d1a05cbb15": {
      "model_module": "@jupyter-widgets/controls",
      "model_module_version": "2.0.0",
      "model_name": "HTMLModel",
      "state": {
       "_dom_classes": [],
       "_model_module": "@jupyter-widgets/controls",
       "_model_module_version": "2.0.0",
       "_model_name": "HTMLModel",
       "_view_count": null,
       "_view_module": "@jupyter-widgets/controls",
       "_view_module_version": "2.0.0",
       "_view_name": "HTMLView",
       "description": "",
       "description_allow_html": false,
       "layout": "IPY_MODEL_39c8374789894ac7a53013e9e7a692c4",
       "placeholder": "​",
       "style": "IPY_MODEL_959dc869258a4cbca294a8403867862a",
       "tabbable": null,
       "tooltip": null,
       "value": "100%"
      }
     },
     "52654654bac84c3c8090bf32016d4212": {
      "model_module": "@jupyter-widgets/base",
      "model_module_version": "2.0.0",
      "model_name": "LayoutModel",
      "state": {
       "_model_module": "@jupyter-widgets/base",
       "_model_module_version": "2.0.0",
       "_model_name": "LayoutModel",
       "_view_count": null,
       "_view_module": "@jupyter-widgets/base",
       "_view_module_version": "2.0.0",
       "_view_name": "LayoutView",
       "align_content": null,
       "align_items": null,
       "align_self": null,
       "border_bottom": null,
       "border_left": null,
       "border_right": null,
       "border_top": null,
       "bottom": null,
       "display": null,
       "flex": null,
       "flex_flow": null,
       "grid_area": null,
       "grid_auto_columns": null,
       "grid_auto_flow": null,
       "grid_auto_rows": null,
       "grid_column": null,
       "grid_gap": null,
       "grid_row": null,
       "grid_template_areas": null,
       "grid_template_columns": null,
       "grid_template_rows": null,
       "height": null,
       "justify_content": null,
       "justify_items": null,
       "left": null,
       "margin": null,
       "max_height": null,
       "max_width": null,
       "min_height": null,
       "min_width": null,
       "object_fit": null,
       "object_position": null,
       "order": null,
       "overflow": null,
       "padding": null,
       "right": null,
       "top": null,
       "visibility": null,
       "width": null
      }
     },
     "6a65d1dfefa0421aa4de2411180cf448": {
      "model_module": "@jupyter-widgets/controls",
      "model_module_version": "2.0.0",
      "model_name": "HBoxModel",
      "state": {
       "_dom_classes": [],
       "_model_module": "@jupyter-widgets/controls",
       "_model_module_version": "2.0.0",
       "_model_name": "HBoxModel",
       "_view_count": null,
       "_view_module": "@jupyter-widgets/controls",
       "_view_module_version": "2.0.0",
       "_view_name": "HBoxView",
       "box_style": "",
       "children": [
        "IPY_MODEL_3af50bf61a414f5ea55640d1a05cbb15",
        "IPY_MODEL_20f251f91d0d45a5963e6be08e35d74e",
        "IPY_MODEL_a2d8600c603043c99b9d534d2f39a933"
       ],
       "layout": "IPY_MODEL_9e84f73186684dd38315d7457dac1ccf",
       "tabbable": null,
       "tooltip": null
      }
     },
     "959dc869258a4cbca294a8403867862a": {
      "model_module": "@jupyter-widgets/controls",
      "model_module_version": "2.0.0",
      "model_name": "HTMLStyleModel",
      "state": {
       "_model_module": "@jupyter-widgets/controls",
       "_model_module_version": "2.0.0",
       "_model_name": "HTMLStyleModel",
       "_view_count": null,
       "_view_module": "@jupyter-widgets/base",
       "_view_module_version": "2.0.0",
       "_view_name": "StyleView",
       "background": null,
       "description_width": "",
       "font_size": null,
       "text_color": null
      }
     },
     "9e84f73186684dd38315d7457dac1ccf": {
      "model_module": "@jupyter-widgets/base",
      "model_module_version": "2.0.0",
      "model_name": "LayoutModel",
      "state": {
       "_model_module": "@jupyter-widgets/base",
       "_model_module_version": "2.0.0",
       "_model_name": "LayoutModel",
       "_view_count": null,
       "_view_module": "@jupyter-widgets/base",
       "_view_module_version": "2.0.0",
       "_view_name": "LayoutView",
       "align_content": null,
       "align_items": null,
       "align_self": null,
       "border_bottom": null,
       "border_left": null,
       "border_right": null,
       "border_top": null,
       "bottom": null,
       "display": null,
       "flex": null,
       "flex_flow": null,
       "grid_area": null,
       "grid_auto_columns": null,
       "grid_auto_flow": null,
       "grid_auto_rows": null,
       "grid_column": null,
       "grid_gap": null,
       "grid_row": null,
       "grid_template_areas": null,
       "grid_template_columns": null,
       "grid_template_rows": null,
       "height": null,
       "justify_content": null,
       "justify_items": null,
       "left": null,
       "margin": null,
       "max_height": null,
       "max_width": null,
       "min_height": null,
       "min_width": null,
       "object_fit": null,
       "object_position": null,
       "order": null,
       "overflow": null,
       "padding": null,
       "right": null,
       "top": null,
       "visibility": null,
       "width": null
      }
     },
     "a2d8600c603043c99b9d534d2f39a933": {
      "model_module": "@jupyter-widgets/controls",
      "model_module_version": "2.0.0",
      "model_name": "HTMLModel",
      "state": {
       "_dom_classes": [],
       "_model_module": "@jupyter-widgets/controls",
       "_model_module_version": "2.0.0",
       "_model_name": "HTMLModel",
       "_view_count": null,
       "_view_module": "@jupyter-widgets/controls",
       "_view_module_version": "2.0.0",
       "_view_name": "HTMLView",
       "description": "",
       "description_allow_html": false,
       "layout": "IPY_MODEL_e2082a63bd0a408383377150cfb29f2c",
       "placeholder": "​",
       "style": "IPY_MODEL_ca305076353a4be692d6fe6c80ddd8e3",
       "tabbable": null,
       "tooltip": null,
       "value": " 7/7 [02:08&lt;00:00, 15.76s/it]"
      }
     },
     "b07a494666de4d80a5cc3866294e4969": {
      "model_module": "@jupyter-widgets/controls",
      "model_module_version": "2.0.0",
      "model_name": "ProgressStyleModel",
      "state": {
       "_model_module": "@jupyter-widgets/controls",
       "_model_module_version": "2.0.0",
       "_model_name": "ProgressStyleModel",
       "_view_count": null,
       "_view_module": "@jupyter-widgets/base",
       "_view_module_version": "2.0.0",
       "_view_name": "StyleView",
       "bar_color": null,
       "description_width": ""
      }
     },
     "ca305076353a4be692d6fe6c80ddd8e3": {
      "model_module": "@jupyter-widgets/controls",
      "model_module_version": "2.0.0",
      "model_name": "HTMLStyleModel",
      "state": {
       "_model_module": "@jupyter-widgets/controls",
       "_model_module_version": "2.0.0",
       "_model_name": "HTMLStyleModel",
       "_view_count": null,
       "_view_module": "@jupyter-widgets/base",
       "_view_module_version": "2.0.0",
       "_view_name": "StyleView",
       "background": null,
       "description_width": "",
       "font_size": null,
       "text_color": null
      }
     },
     "e2082a63bd0a408383377150cfb29f2c": {
      "model_module": "@jupyter-widgets/base",
      "model_module_version": "2.0.0",
      "model_name": "LayoutModel",
      "state": {
       "_model_module": "@jupyter-widgets/base",
       "_model_module_version": "2.0.0",
       "_model_name": "LayoutModel",
       "_view_count": null,
       "_view_module": "@jupyter-widgets/base",
       "_view_module_version": "2.0.0",
       "_view_name": "LayoutView",
       "align_content": null,
       "align_items": null,
       "align_self": null,
       "border_bottom": null,
       "border_left": null,
       "border_right": null,
       "border_top": null,
       "bottom": null,
       "display": null,
       "flex": null,
       "flex_flow": null,
       "grid_area": null,
       "grid_auto_columns": null,
       "grid_auto_flow": null,
       "grid_auto_rows": null,
       "grid_column": null,
       "grid_gap": null,
       "grid_row": null,
       "grid_template_areas": null,
       "grid_template_columns": null,
       "grid_template_rows": null,
       "height": null,
       "justify_content": null,
       "justify_items": null,
       "left": null,
       "margin": null,
       "max_height": null,
       "max_width": null,
       "min_height": null,
       "min_width": null,
       "object_fit": null,
       "object_position": null,
       "order": null,
       "overflow": null,
       "padding": null,
       "right": null,
       "top": null,
       "visibility": null,
       "width": null
      }
     }
    },
    "version_major": 2,
    "version_minor": 0
   }
  }
 },
 "nbformat": 4,
 "nbformat_minor": 5
}