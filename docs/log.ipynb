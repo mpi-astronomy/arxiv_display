{
 "cells": [
  {
   "cell_type": "markdown",
   "id": "92bcb855",
   "metadata": {
    "papermill": {
     "duration": 0.00541,
     "end_time": "2022-10-14T05:15:49.287818",
     "exception": false,
     "start_time": "2022-10-14T05:15:49.282408",
     "status": "completed"
    },
    "tags": []
   },
   "source": [
    "# MPIA Arxiv on Deck 2\n",
    "\n",
    "Contains the steps to produce the paper extractions."
   ]
  },
  {
   "cell_type": "code",
   "execution_count": 1,
   "id": "3a0d6e11",
   "metadata": {
    "execution": {
     "iopub.execute_input": "2022-10-14T05:15:49.302676Z",
     "iopub.status.busy": "2022-10-14T05:15:49.302321Z",
     "iopub.status.idle": "2022-10-14T05:15:49.477224Z",
     "shell.execute_reply": "2022-10-14T05:15:49.476486Z"
    },
    "papermill": {
     "duration": 0.182876,
     "end_time": "2022-10-14T05:15:49.479449",
     "exception": false,
     "start_time": "2022-10-14T05:15:49.296573",
     "status": "completed"
    },
    "tags": []
   },
   "outputs": [],
   "source": [
    "# Imports\n",
    "import os\n",
    "from IPython.display import Markdown, display\n",
    "from tqdm.notebook import tqdm\n",
    "import warnings\n",
    "from PIL import Image \n",
    "\n",
    "# requires arxiv_on_deck_2\n",
    "\n",
    "from arxiv_on_deck_2.arxiv2 import (get_new_papers, \n",
    "                                    get_paper_from_identifier,\n",
    "                                    retrieve_document_source, \n",
    "                                    get_markdown_badge)\n",
    "from arxiv_on_deck_2 import (latex, \n",
    "                             mpia,\n",
    "                             highlight_authors_in_list)\n",
    "\n",
    "# Sometimes images are really big\n",
    "Image.MAX_IMAGE_PIXELS = 1000000000 "
   ]
  },
  {
   "cell_type": "code",
   "execution_count": 2,
   "id": "22aa9d44",
   "metadata": {
    "execution": {
     "iopub.execute_input": "2022-10-14T05:15:49.490289Z",
     "iopub.status.busy": "2022-10-14T05:15:49.488795Z",
     "iopub.status.idle": "2022-10-14T05:15:49.494881Z",
     "shell.execute_reply": "2022-10-14T05:15:49.494161Z"
    },
    "papermill": {
     "duration": 0.012659,
     "end_time": "2022-10-14T05:15:49.496479",
     "exception": false,
     "start_time": "2022-10-14T05:15:49.483820",
     "status": "completed"
    },
    "tags": []
   },
   "outputs": [],
   "source": [
    "# Some useful definitions.\n",
    "\n",
    "class AffiliationWarning(UserWarning):\n",
    "    pass\n",
    "\n",
    "class AffiliationError(RuntimeError):\n",
    "    pass\n",
    "\n",
    "def validation(source: str):\n",
    "    \"\"\"Raises error paper during parsing of source file\n",
    "    \n",
    "    Allows checks before parsing TeX code.\n",
    "    \n",
    "    Raises AffiliationWarning\n",
    "    \"\"\"\n",
    "    check = mpia.affiliation_verifications(source, verbose=True)\n",
    "    if check is not True:\n",
    "        raise AffiliationError(\"mpia.affiliation_verifications: \" + check)\n",
    "\n",
    "        \n",
    "warnings.simplefilter('always', AffiliationWarning)"
   ]
  },
  {
   "cell_type": "code",
   "execution_count": 3,
   "id": "14622700",
   "metadata": {
    "execution": {
     "iopub.execute_input": "2022-10-14T05:15:49.507429Z",
     "iopub.status.busy": "2022-10-14T05:15:49.506818Z",
     "iopub.status.idle": "2022-10-14T05:15:49.510815Z",
     "shell.execute_reply": "2022-10-14T05:15:49.510129Z"
    },
    "papermill": {
     "duration": 0.012043,
     "end_time": "2022-10-14T05:15:49.512347",
     "exception": false,
     "start_time": "2022-10-14T05:15:49.500304",
     "status": "completed"
    },
    "tags": []
   },
   "outputs": [],
   "source": [
    "# additional CSS to consider. \n",
    "# TODO: Current into each exported file. \n",
    "#       This should be set once into the webpages directly.\n",
    "#       With only the class/id definitions in the .md files.\n",
    "\n",
    "debug_html = \"\"\"\n",
    "<style>\n",
    "#wrap{ overflow:auto; }\n",
    "#fig1{ background:yellow; width:100%; float:left; padding:5px;  }\n",
    "#fig2{ background:red; width:50%; float:left; clear:left; padding:5px;  }\n",
    "#fig3{ background:green; width:50%; float:left; padding:5px;   }\n",
    ".macros{ background:yellow; visibility:visible;}\n",
    "h1 {margin: 0 0 0 0;}\n",
    "mark {background-color:#fff3b6;}\n",
    "img {object-fit:contain; max-height:250px; display:inline-block; text-align: center;}\n",
    "</style>\n",
    "\"\"\" \n",
    "html = \"\"\"\n",
    "<style>\n",
    "#wrap{ overflow:auto; }\n",
    "#fig1{ width:100%; float:left; padding: 5px;  }\n",
    "#fig2{ width:50%; float:left; clear:left; padding: 5px;  }\n",
    "#fig3{ width:50%; float:left; padding: 5px;  }\n",
    ".macros{ visibility:hidden; height:0px; }\n",
    "h1 {margin: 0em 0 0 0;}\n",
    "mark {background-color:#fff3b6;}\n",
    "img {object-fit:contain; max-height:250px; display:inline-block; text-align: center;}\n",
    "</style>\n",
    "\"\"\""
   ]
  },
  {
   "cell_type": "markdown",
   "id": "14bd6310",
   "metadata": {
    "papermill": {
     "duration": 0.00387,
     "end_time": "2022-10-14T05:15:49.520031",
     "exception": false,
     "start_time": "2022-10-14T05:15:49.516161",
     "status": "completed"
    },
    "tags": []
   },
   "source": [
    "## get list of arxiv paper candidates\n",
    "\n",
    "We use the MPIA mitarbeiter list webpage from mpia.de to get author names\n",
    "We then get all new papers from Arxiv and match authors"
   ]
  },
  {
   "cell_type": "code",
   "execution_count": 4,
   "id": "2645e73a",
   "metadata": {
    "execution": {
     "iopub.execute_input": "2022-10-14T05:15:49.529340Z",
     "iopub.status.busy": "2022-10-14T05:15:49.528763Z",
     "iopub.status.idle": "2022-10-14T05:16:15.906136Z",
     "shell.execute_reply": "2022-10-14T05:16:15.905310Z"
    },
    "papermill": {
     "duration": 26.383856,
     "end_time": "2022-10-14T05:16:15.907744",
     "exception": false,
     "start_time": "2022-10-14T05:15:49.523888",
     "status": "completed"
    },
    "tags": []
   },
   "outputs": [
    {
     "name": "stdout",
     "output_type": "stream",
     "text": [
      "Arxiv has 62 new papers today\n",
      "          26 with possible author matches\n"
     ]
    }
   ],
   "source": [
    "# get list from MPIA website\n",
    "# it automatically filters identified non-scientists :func:`mpia.filter_non_scientists`\n",
    "mpia_authors = mpia.get_mpia_mitarbeiter_list()\n",
    "new_papers = get_new_papers()\n",
    "# add manual references\n",
    "add_paper_refs = []\n",
    "new_papers.extend([get_paper_from_identifier(k) for k in add_paper_refs])\n",
    "\n",
    "# select only papers with matching author names and highlight authors\n",
    "hl_list = [k[0] for k in mpia_authors]\n",
    "\n",
    "candidates = []\n",
    "for paperk in new_papers:\n",
    "    hl_authors = highlight_authors_in_list(paperk['authors'], hl_list)\n",
    "    matches = [(hl, orig) for hl, orig in zip(hl_authors, paperk['authors']) if 'mark' in hl]\n",
    "    paperk['authors'] = hl_authors\n",
    "    if matches:\n",
    "        candidates.append(paperk)\n",
    "print(\"\"\"Arxiv has {0:,d} new papers today\"\"\".format(len(new_papers)))        \n",
    "print(\"\"\"          {0:,d} with possible author matches\"\"\".format(len(candidates)))"
   ]
  },
  {
   "cell_type": "markdown",
   "id": "3543b34a",
   "metadata": {
    "papermill": {
     "duration": 0.004054,
     "end_time": "2022-10-14T05:16:15.916187",
     "exception": false,
     "start_time": "2022-10-14T05:16:15.912133",
     "status": "completed"
    },
    "tags": []
   },
   "source": [
    "# Parse sources and generate relevant outputs\n",
    "\n",
    "From the candidates, we do the following steps:\n",
    "* get their tarball from ArXiv (and extract data)\n",
    "* find the main .tex file: find one with \\documentclass{...} (sometimes it's non trivial)\n",
    "* Check affiliations with :func:`validation`, which uses :func:`mpia.affiliation_verifications`\n",
    "* If passing the affiliations: we parse the .tex source\n",
    "   * inject sub-documents into the main (flatten the main document)\n",
    "   * parse structure, extract information (title, abstract, authors, figures...)\n",
    "   * handles `\\graphicspath` if provided\n",
    "* Generate the .md document."
   ]
  },
  {
   "cell_type": "code",
   "execution_count": 5,
   "id": "9576b79e",
   "metadata": {
    "execution": {
     "iopub.execute_input": "2022-10-14T05:16:15.925687Z",
     "iopub.status.busy": "2022-10-14T05:16:15.925156Z",
     "iopub.status.idle": "2022-10-14T05:17:35.871188Z",
     "shell.execute_reply": "2022-10-14T05:17:35.870513Z"
    },
    "papermill": {
     "duration": 79.953893,
     "end_time": "2022-10-14T05:17:35.873963",
     "exception": false,
     "start_time": "2022-10-14T05:16:15.920070",
     "status": "completed"
    },
    "scrolled": false,
    "tags": []
   },
   "outputs": [
    {
     "data": {
      "application/vnd.jupyter.widget-view+json": {
       "model_id": "a275479fbe12414497d95f0461441972",
       "version_major": 2,
       "version_minor": 0
      },
      "text/plain": [
       "  0%|          | 0/25 [00:00<?, ?it/s]"
      ]
     },
     "metadata": {},
     "output_type": "display_data"
    },
    {
     "name": "stdout",
     "output_type": "stream",
     "text": [
      "Retrieving document from  https://arxiv.org/e-print/2210.06476\n"
     ]
    },
    {
     "name": "stdout",
     "output_type": "stream",
     "text": [
      "extracting tarball to tmp_2210.06476..."
     ]
    },
    {
     "name": "stdout",
     "output_type": "stream",
     "text": [
      " done.\n",
      "Retrieving document from  https://arxiv.org/e-print/2210.06482\n"
     ]
    },
    {
     "name": "stdout",
     "output_type": "stream",
     "text": [
      "extracting tarball to tmp_2210.06482..."
     ]
    },
    {
     "name": "stdout",
     "output_type": "stream",
     "text": [
      " done.\n",
      "Retrieving document from  https://arxiv.org/e-print/2210.06485\n"
     ]
    },
    {
     "name": "stdout",
     "output_type": "stream",
     "text": [
      "extracting tarball to tmp_2210.06485..."
     ]
    },
    {
     "name": "stdout",
     "output_type": "stream",
     "text": [
      " done.\n",
      "Retrieving document from  https://arxiv.org/e-print/2210.06491\n"
     ]
    },
    {
     "name": "stdout",
     "output_type": "stream",
     "text": [
      "extracting tarball to tmp_2210.06491..."
     ]
    },
    {
     "name": "stdout",
     "output_type": "stream",
     "text": [
      " done.\n",
      "Retrieving document from  https://arxiv.org/e-print/2210.06492\n"
     ]
    },
    {
     "name": "stdout",
     "output_type": "stream",
     "text": [
      "extracting tarball to tmp_2210.06492..."
     ]
    },
    {
     "name": "stdout",
     "output_type": "stream",
     "text": [
      " done.\n",
      "Retrieving document from  https://arxiv.org/e-print/2210.06504\n"
     ]
    },
    {
     "name": "stderr",
     "output_type": "stream",
     "text": [
      "/opt/hostedtoolcache/Python/3.9.14/x64/lib/python3.9/site-packages/IPython/core/interactiveshell.py:3378: LatexWarning: Multiple tex files.\n",
      "\n",
      "  exec(code_obj, self.user_global_ns, self.user_ns)\n",
      "/opt/hostedtoolcache/Python/3.9.14/x64/lib/python3.9/site-packages/IPython/core/interactiveshell.py:3378: LatexWarning: Found documentclass in tmp_2210.06492/main.tex\n",
      "\n",
      "  exec(code_obj, self.user_global_ns, self.user_ns)\n"
     ]
    },
    {
     "name": "stdout",
     "output_type": "stream",
     "text": [
      "extracting tarball to tmp_2210.06504..."
     ]
    },
    {
     "name": "stdout",
     "output_type": "stream",
     "text": [
      " done.\n"
     ]
    },
    {
     "name": "stdout",
     "output_type": "stream",
     "text": [
      "Retrieving document from  https://arxiv.org/e-print/2210.06514\n"
     ]
    },
    {
     "name": "stdout",
     "output_type": "stream",
     "text": [
      "extracting tarball to tmp_2210.06514..."
     ]
    },
    {
     "name": "stdout",
     "output_type": "stream",
     "text": [
      " done.\n",
      "Retrieving document from  https://arxiv.org/e-print/2210.06547\n"
     ]
    },
    {
     "name": "stderr",
     "output_type": "stream",
     "text": [
      "/opt/hostedtoolcache/Python/3.9.14/x64/lib/python3.9/site-packages/IPython/core/interactiveshell.py:3378: LatexWarning: Multiple tex files.\n",
      "\n",
      "  exec(code_obj, self.user_global_ns, self.user_ns)\n",
      "/opt/hostedtoolcache/Python/3.9.14/x64/lib/python3.9/site-packages/IPython/core/interactiveshell.py:3378: LatexWarning: Found documentclass in tmp_2210.06514/GordoJWST.tex\n",
      "\n",
      "  exec(code_obj, self.user_global_ns, self.user_ns)\n",
      "/opt/hostedtoolcache/Python/3.9.14/x64/lib/python3.9/site-packages/arxiv_on_deck_2/latex.py:292: LatexWarning: Latex injecting: 'TableArcs_NEW3.tex' from 'tmp_2210.06514/TableArcs_NEW3.tex'\n",
      "  warnings.warn(LatexWarning(f\"Latex injecting: '{ext}' from '{subsource}'\"))\n",
      "/opt/hostedtoolcache/Python/3.9.14/x64/lib/python3.9/site-packages/arxiv_on_deck_2/latex.py:292: LatexWarning: Latex injecting: 'Builders.tex' from 'tmp_2210.06514/Builders.tex'\n",
      "  warnings.warn(LatexWarning(f\"Latex injecting: '{ext}' from '{subsource}'\"))\n"
     ]
    },
    {
     "name": "stdout",
     "output_type": "stream",
     "text": [
      "extracting tarball to tmp_2210.06547..."
     ]
    },
    {
     "name": "stdout",
     "output_type": "stream",
     "text": [
      " done.\n",
      "Retrieving document from  https://arxiv.org/e-print/2210.06563\n"
     ]
    },
    {
     "name": "stdout",
     "output_type": "stream",
     "text": [
      "extracting tarball to tmp_2210.06563..."
     ]
    },
    {
     "name": "stdout",
     "output_type": "stream",
     "text": [
      " done.\n",
      "Retrieving document from  https://arxiv.org/e-print/2210.06616\n"
     ]
    },
    {
     "name": "stdout",
     "output_type": "stream",
     "text": [
      "extracting tarball to tmp_2210.06616..."
     ]
    },
    {
     "name": "stdout",
     "output_type": "stream",
     "text": [
      " done.\n",
      "Retrieving document from  https://arxiv.org/e-print/2210.06617\n"
     ]
    },
    {
     "name": "stdout",
     "output_type": "stream",
     "text": [
      "extracting tarball to tmp_2210.06617..."
     ]
    },
    {
     "name": "stdout",
     "output_type": "stream",
     "text": [
      " done.\n",
      "Retrieving document from  https://arxiv.org/e-print/2210.06648\n"
     ]
    },
    {
     "name": "stdout",
     "output_type": "stream",
     "text": [
      "extracting tarball to tmp_2210.06648..."
     ]
    },
    {
     "name": "stdout",
     "output_type": "stream",
     "text": [
      " done.\n",
      "Retrieving document from  https://arxiv.org/e-print/2210.06665\n"
     ]
    },
    {
     "name": "stdout",
     "output_type": "stream",
     "text": [
      "extracting tarball to tmp_2210.06665..."
     ]
    },
    {
     "name": "stdout",
     "output_type": "stream",
     "text": [
      " done.\n",
      "Retrieving document from  https://arxiv.org/e-print/2210.06731\n"
     ]
    },
    {
     "name": "stderr",
     "output_type": "stream",
     "text": [
      "/opt/hostedtoolcache/Python/3.9.14/x64/lib/python3.9/site-packages/IPython/core/interactiveshell.py:3378: LatexWarning: Multiple tex files.\n",
      "\n",
      "  exec(code_obj, self.user_global_ns, self.user_ns)\n",
      "/opt/hostedtoolcache/Python/3.9.14/x64/lib/python3.9/site-packages/IPython/core/interactiveshell.py:3378: LatexWarning: Found documentclass in tmp_2210.06665/natnotes.tex\n",
      "\n",
      "  exec(code_obj, self.user_global_ns, self.user_ns)\n"
     ]
    },
    {
     "name": "stdout",
     "output_type": "stream",
     "text": [
      "extracting tarball to tmp_2210.06731..."
     ]
    },
    {
     "name": "stdout",
     "output_type": "stream",
     "text": [
      " done.\n",
      "Retrieving document from  https://arxiv.org/e-print/2210.06761\n"
     ]
    },
    {
     "name": "stderr",
     "output_type": "stream",
     "text": [
      "/opt/hostedtoolcache/Python/3.9.14/x64/lib/python3.9/site-packages/IPython/core/interactiveshell.py:3378: LatexWarning: Multiple tex files.\n",
      "\n",
      "  exec(code_obj, self.user_global_ns, self.user_ns)\n",
      "/opt/hostedtoolcache/Python/3.9.14/x64/lib/python3.9/site-packages/IPython/core/interactiveshell.py:3378: LatexWarning: Found documentclass in tmp_2210.06731/Sclchem.tex\n",
      "\n",
      "  exec(code_obj, self.user_global_ns, self.user_ns)\n",
      "/opt/hostedtoolcache/Python/3.9.14/x64/lib/python3.9/site-packages/arxiv_on_deck_2/latex.py:292: LatexWarning: Latex injecting: 'XFe_a_linearFitting.tex' from 'tmp_2210.06731/XFe_a_linearFitting.tex'\n",
      "  warnings.warn(LatexWarning(f\"Latex injecting: '{ext}' from '{subsource}'\"))\n",
      "/opt/hostedtoolcache/Python/3.9.14/x64/lib/python3.9/site-packages/arxiv_on_deck_2/latex.py:292: LatexWarning: Latex injecting: 'abundance_error.tex' from 'tmp_2210.06731/abundance_error.tex'\n",
      "  warnings.warn(LatexWarning(f\"Latex injecting: '{ext}' from '{subsource}'\"))\n",
      "/opt/hostedtoolcache/Python/3.9.14/x64/lib/python3.9/site-packages/arxiv_on_deck_2/latex.py:292: LatexWarning: Latex injecting: 'abundances.tex' from 'tmp_2210.06731/abundances.tex'\n",
      "  warnings.warn(LatexWarning(f\"Latex injecting: '{ext}' from '{subsource}'\"))\n",
      "/opt/hostedtoolcache/Python/3.9.14/x64/lib/python3.9/site-packages/arxiv_on_deck_2/latex.py:292: LatexWarning: Latex injecting: 'stellar_parameters.tex' from 'tmp_2210.06731/stellar_parameters.tex'\n",
      "  warnings.warn(LatexWarning(f\"Latex injecting: '{ext}' from '{subsource}'\"))\n"
     ]
    },
    {
     "name": "stdout",
     "output_type": "stream",
     "text": [
      "extracting tarball to tmp_2210.06761..."
     ]
    },
    {
     "name": "stdout",
     "output_type": "stream",
     "text": [
      " done.\n",
      "Retrieving document from  https://arxiv.org/e-print/2210.06769\n"
     ]
    },
    {
     "name": "stdout",
     "output_type": "stream",
     "text": [
      "extracting tarball to tmp_2210.06769..."
     ]
    },
    {
     "name": "stdout",
     "output_type": "stream",
     "text": [
      " done.\n",
      "Retrieving document from  https://arxiv.org/e-print/2210.06851\n"
     ]
    },
    {
     "name": "stderr",
     "output_type": "stream",
     "text": [
      "/opt/hostedtoolcache/Python/3.9.14/x64/lib/python3.9/site-packages/IPython/core/interactiveshell.py:3378: LatexWarning: Multiple tex files.\n",
      "\n",
      "  exec(code_obj, self.user_global_ns, self.user_ns)\n",
      "/opt/hostedtoolcache/Python/3.9.14/x64/lib/python3.9/site-packages/IPython/core/interactiveshell.py:3378: LatexWarning: Found documentclass in tmp_2210.06769/main.tex\n",
      "\n",
      "  exec(code_obj, self.user_global_ns, self.user_ns)\n"
     ]
    },
    {
     "name": "stdout",
     "output_type": "stream",
     "text": [
      "extracting tarball to tmp_2210.06851..."
     ]
    },
    {
     "name": "stdout",
     "output_type": "stream",
     "text": [
      " done.\n",
      "Retrieving document from  https://arxiv.org/e-print/2210.06892\n"
     ]
    },
    {
     "name": "stdout",
     "output_type": "stream",
     "text": [
      "extracting tarball to tmp_2210.06892..."
     ]
    },
    {
     "name": "stdout",
     "output_type": "stream",
     "text": [
      " done.\n",
      "Retrieving document from  https://arxiv.org/e-print/2210.06922\n"
     ]
    },
    {
     "name": "stdout",
     "output_type": "stream",
     "text": [
      "extracting tarball to tmp_2210.06922..."
     ]
    },
    {
     "name": "stdout",
     "output_type": "stream",
     "text": [
      " done.\n",
      "Retrieving document from  https://arxiv.org/e-print/2210.06993\n"
     ]
    },
    {
     "name": "stdout",
     "output_type": "stream",
     "text": [
      "extracting tarball to tmp_2210.06993..."
     ]
    },
    {
     "name": "stdout",
     "output_type": "stream",
     "text": [
      " done.\n",
      "Retrieving document from  https://arxiv.org/e-print/2210.07021\n"
     ]
    },
    {
     "name": "stderr",
     "output_type": "stream",
     "text": [
      "/opt/hostedtoolcache/Python/3.9.14/x64/lib/python3.9/site-packages/IPython/core/interactiveshell.py:3378: LatexWarning: Multiple tex files.\n",
      "\n",
      "  exec(code_obj, self.user_global_ns, self.user_ns)\n",
      "/opt/hostedtoolcache/Python/3.9.14/x64/lib/python3.9/site-packages/IPython/core/interactiveshell.py:3378: LatexWarning: Found documentclass in tmp_2210.06993/rnaas.tex\n",
      "\n",
      "  exec(code_obj, self.user_global_ns, self.user_ns)\n"
     ]
    },
    {
     "name": "stdout",
     "output_type": "stream",
     "text": [
      "extracting tarball to tmp_2210.07021..."
     ]
    },
    {
     "name": "stdout",
     "output_type": "stream",
     "text": [
      " done.\n",
      "Retrieving document from  https://arxiv.org/e-print/2210.07080\n"
     ]
    },
    {
     "name": "stderr",
     "output_type": "stream",
     "text": [
      "/opt/hostedtoolcache/Python/3.9.14/x64/lib/python3.9/site-packages/IPython/core/interactiveshell.py:3378: LatexWarning: Multiple tex files.\n",
      "\n",
      "  exec(code_obj, self.user_global_ns, self.user_ns)\n",
      "/opt/hostedtoolcache/Python/3.9.14/x64/lib/python3.9/site-packages/IPython/core/interactiveshell.py:3378: LatexWarning: Found documentclass in tmp_2210.07021/sample631.tex\n",
      "\n",
      "  exec(code_obj, self.user_global_ns, self.user_ns)\n"
     ]
    },
    {
     "name": "stdout",
     "output_type": "stream",
     "text": [
      "extracting tarball to tmp_2210.07080..."
     ]
    },
    {
     "name": "stdout",
     "output_type": "stream",
     "text": [
      " done.\n",
      "Retrieving document from  https://arxiv.org/e-print/2210.07149\n"
     ]
    },
    {
     "name": "stderr",
     "output_type": "stream",
     "text": [
      "/opt/hostedtoolcache/Python/3.9.14/x64/lib/python3.9/site-packages/IPython/core/interactiveshell.py:3378: LatexWarning: Multiple tex files.\n",
      "\n",
      "  exec(code_obj, self.user_global_ns, self.user_ns)\n",
      "/opt/hostedtoolcache/Python/3.9.14/x64/lib/python3.9/site-packages/IPython/core/interactiveshell.py:3378: LatexWarning: Found documentclass in tmp_2210.07080/noise-params.tex\n",
      "\n",
      "  exec(code_obj, self.user_global_ns, self.user_ns)\n",
      "/opt/hostedtoolcache/Python/3.9.14/x64/lib/python3.9/site-packages/arxiv_on_deck_2/latex.py:292: LatexWarning: Latex injecting: 'acronyms' from 'tmp_2210.07080/acronyms.tex'\n",
      "  warnings.warn(LatexWarning(f\"Latex injecting: '{ext}' from '{subsource}'\"))\n"
     ]
    },
    {
     "name": "stdout",
     "output_type": "stream",
     "text": [
      "extracting tarball to tmp_2210.07149..."
     ]
    },
    {
     "name": "stdout",
     "output_type": "stream",
     "text": [
      " done.\n",
      "Retrieving document from  https://arxiv.org/e-print/2210.07162\n"
     ]
    },
    {
     "name": "stdout",
     "output_type": "stream",
     "text": [
      "extracting tarball to tmp_2210.07162..."
     ]
    },
    {
     "name": "stdout",
     "output_type": "stream",
     "text": [
      " done.\n",
      "Retrieving document from  https://arxiv.org/e-print/2210.07163\n"
     ]
    },
    {
     "name": "stdout",
     "output_type": "stream",
     "text": [
      "extracting tarball to tmp_2210.07163..."
     ]
    },
    {
     "name": "stdout",
     "output_type": "stream",
     "text": [
      " done.\n"
     ]
    },
    {
     "name": "stderr",
     "output_type": "stream",
     "text": [
      "/opt/hostedtoolcache/Python/3.9.14/x64/lib/python3.9/site-packages/IPython/core/interactiveshell.py:3378: LatexWarning: Multiple tex files.\n",
      "\n",
      "  exec(code_obj, self.user_global_ns, self.user_ns)\n",
      "/opt/hostedtoolcache/Python/3.9.14/x64/lib/python3.9/site-packages/IPython/core/interactiveshell.py:3378: LatexWarning: Found documentclass in tmp_2210.07163/main.tex\n",
      "\n",
      "  exec(code_obj, self.user_global_ns, self.user_ns)\n",
      "/opt/hostedtoolcache/Python/3.9.14/x64/lib/python3.9/site-packages/arxiv_on_deck_2/latex.py:292: LatexWarning: Latex injecting: 'Sec999_appendix' from 'tmp_2210.07163/Sec999_appendix.tex'\n",
      "  warnings.warn(LatexWarning(f\"Latex injecting: '{ext}' from '{subsource}'\"))\n",
      "/opt/hostedtoolcache/Python/3.9.14/x64/lib/python3.9/site-packages/arxiv_on_deck_2/latex.py:292: LatexWarning: Latex injecting: 'Sec7_conclusion' from 'tmp_2210.07163/Sec7_conclusion.tex'\n",
      "  warnings.warn(LatexWarning(f\"Latex injecting: '{ext}' from '{subsource}'\"))\n",
      "/opt/hostedtoolcache/Python/3.9.14/x64/lib/python3.9/site-packages/arxiv_on_deck_2/latex.py:292: LatexWarning: Latex injecting: 'Sec6_sensitivity' from 'tmp_2210.07163/Sec6_sensitivity.tex'\n",
      "  warnings.warn(LatexWarning(f\"Latex injecting: '{ext}' from '{subsource}'\"))\n",
      "/opt/hostedtoolcache/Python/3.9.14/x64/lib/python3.9/site-packages/arxiv_on_deck_2/latex.py:292: LatexWarning: Latex injecting: 'Sec5_results' from 'tmp_2210.07163/Sec5_results.tex'\n",
      "  warnings.warn(LatexWarning(f\"Latex injecting: '{ext}' from '{subsource}'\"))\n",
      "/opt/hostedtoolcache/Python/3.9.14/x64/lib/python3.9/site-packages/arxiv_on_deck_2/latex.py:292: LatexWarning: Latex injecting: 'Sec4_shape' from 'tmp_2210.07163/Sec4_shape.tex'\n",
      "  warnings.warn(LatexWarning(f\"Latex injecting: '{ext}' from '{subsource}'\"))\n",
      "/opt/hostedtoolcache/Python/3.9.14/x64/lib/python3.9/site-packages/arxiv_on_deck_2/latex.py:292: LatexWarning: Latex injecting: 'Sec3_ImSim' from 'tmp_2210.07163/Sec3_ImSim.tex'\n",
      "  warnings.warn(LatexWarning(f\"Latex injecting: '{ext}' from '{subsource}'\"))\n",
      "/opt/hostedtoolcache/Python/3.9.14/x64/lib/python3.9/site-packages/arxiv_on_deck_2/latex.py:292: LatexWarning: Latex injecting: 'Sec2_input' from 'tmp_2210.07163/Sec2_input.tex'\n",
      "  warnings.warn(LatexWarning(f\"Latex injecting: '{ext}' from '{subsource}'\"))\n",
      "/opt/hostedtoolcache/Python/3.9.14/x64/lib/python3.9/site-packages/arxiv_on_deck_2/latex.py:292: LatexWarning: Latex injecting: 'Sec1_intro' from 'tmp_2210.07163/Sec1_intro.tex'\n",
      "  warnings.warn(LatexWarning(f\"Latex injecting: '{ext}' from '{subsource}'\"))\n",
      "/opt/hostedtoolcache/Python/3.9.14/x64/lib/python3.9/site-packages/arxiv_on_deck_2/latex.py:292: LatexWarning: Latex injecting: 'authors' from 'tmp_2210.07163/authors.tex'\n",
      "  warnings.warn(LatexWarning(f\"Latex injecting: '{ext}' from '{subsource}'\"))\n"
     ]
    }
   ],
   "source": [
    "documents = []\n",
    "failed = []\n",
    "for paper in tqdm(candidates[:-1]):\n",
    "    paper_id = paper['identifier'].lower().replace('arxiv:', '')\n",
    "    \n",
    "    folder = f'tmp_{paper_id}'\n",
    "\n",
    "    try:\n",
    "        if not os.path.isdir(folder):\n",
    "            folder = retrieve_document_source(f\"{paper_id}\", f'tmp_{paper_id}')\n",
    "        \n",
    "        try:\n",
    "            doc = latex.LatexDocument(folder, validation=validation)    \n",
    "        except AffiliationError as affilerror:\n",
    "            msg = f\"ArXiv:{paper_id:s} is not an MPIA paper... \" + str(affilerror)\n",
    "            failed.append((paper, \"affiliation error: \" + str(affilerror) ))\n",
    "            continue\n",
    "        \n",
    "        # Hack because sometimes author parsing does not work well\n",
    "        if (len(doc.authors) != len(paper['authors'])):\n",
    "            doc._authors = paper['authors']\n",
    "        if (doc.abstract) in (None, ''):\n",
    "            doc._abstract = paper['abstract']\n",
    "            \n",
    "        doc.comment = (get_markdown_badge(paper_id) + \n",
    "                       \"<mark>Appeared on: \" + paper['date'] + \"</mark> - \" +\n",
    "                       \"_\" + paper['comments'] + \"_\")\n",
    "        doc.highlight_authors_in_list(hl_list)\n",
    "\n",
    "        full_md = doc.generate_markdown_text()\n",
    "        \n",
    "        documents.append((paper_id, full_md))\n",
    "    except Exception as e:\n",
    "        warnings.warn(latex.LatexWarning(f\"{paper_id:s} did not run properly\\n\" +\n",
    "                                         str(e)\n",
    "                                        ))\n",
    "        failed.append((paper, \"latex error \" + str(e)))"
   ]
  },
  {
   "cell_type": "markdown",
   "id": "2505a25c",
   "metadata": {
    "papermill": {
     "duration": 0.007074,
     "end_time": "2022-10-14T05:17:35.888371",
     "exception": false,
     "start_time": "2022-10-14T05:17:35.881297",
     "status": "completed"
    },
    "tags": []
   },
   "source": [
    "### Export the logs\n",
    "\n",
    "Throughout, we also keep track of the logs per paper. see `logs-{today date}.md` "
   ]
  },
  {
   "cell_type": "code",
   "execution_count": 6,
   "id": "d733828a",
   "metadata": {
    "execution": {
     "iopub.execute_input": "2022-10-14T05:17:35.904139Z",
     "iopub.status.busy": "2022-10-14T05:17:35.903631Z",
     "iopub.status.idle": "2022-10-14T05:17:35.939240Z",
     "shell.execute_reply": "2022-10-14T05:17:35.938508Z"
    },
    "papermill": {
     "duration": 0.045518,
     "end_time": "2022-10-14T05:17:35.940827",
     "exception": false,
     "start_time": "2022-10-14T05:17:35.895309",
     "status": "completed"
    },
    "scrolled": false,
    "tags": []
   },
   "outputs": [
    {
     "data": {
      "text/markdown": [
       "## Successful papers"
      ],
      "text/plain": [
       "<IPython.core.display.Markdown object>"
      ]
     },
     "metadata": {},
     "output_type": "display_data"
    },
    {
     "data": {
      "text/markdown": [
       "\n",
       "|||\n",
       "|---:|:---|\n",
       "| [![arXiv](https://img.shields.io/badge/arXiv-arXiv:2210.06504-b31b1b.svg)](https://arxiv.org/abs/arXiv:2210.06504) | **Lyman-alpha Emitters in Ionized Bubbles: Constraining the Environment  and Ionized Fraction**  |\n",
       "|| A.C. Trapp, Steven R. Furlanetto, <mark>Frederick B. Davies</mark> |\n",
       "|*Appeared on*| *2022-10-14*|\n",
       "|*Comments*| *14 pages, 14 figures, submitted to MNRAS*|\n",
       "|**Abstract**| Lyman-alpha emitters (LAEs) are excellent probes of the reionization process, as they must be surrounded by large ionized bubbles in order to be visible during the reionization era. Large ionized regions are thought to correspond to over-dense regions and may be protoclusters, making them interesting test-beds for early massive structures. Close associations containing several LAEs are often assumed to mark over-dense, ionized bubbles. Here, we develop the first framework to quantify the ionization and density fields of high-z galaxy associations. We explore the interplay between (i) the large-scale density of a survey field, (ii) Poisson noise due to the small number density of bright sources at high redshifts (z~7), and (iii) the effects of the ionized fraction on the observation of LAEs. We use Bayesian statistics, a simple model of reionization, and a Monte-Carlo simulation to construct a more comprehensive method for calculating the large-scale density of LAE regions than previous works. We find that Poisson noise has a strong effect on the inferred density of a region and show how the ionized fraction can be inferred. We then apply our framework to the strongest association yet identified: Hu et al. (2021) found 14 LAEs in a volume of ~50,000 cMpc^3 inside the COSMOS field at z~7. We show that this is most likely a 2.5-sigma over-density inside of an ionized or nearly ionized bubble. We also show that this LAE association implies that the global ionized fraction is Q = 0.60 (+0.08,-0.09), within the context of a simple reionization model. |"
      ],
      "text/plain": [
       "[arXiv:2210.06504] Lyman-alpha Emitters in Ionized Bubbles: Constraining the Environment  and Ionized Fraction\n",
       "\tA.C. Trapp, Steven R. Furlanetto, <mark>Frederick B. Davies</mark>"
      ]
     },
     "metadata": {},
     "output_type": "display_data"
    },
    {
     "data": {
      "text/markdown": [
       "## Failed papers"
      ],
      "text/plain": [
       "<IPython.core.display.Markdown object>"
      ]
     },
     "metadata": {},
     "output_type": "display_data"
    },
    {
     "data": {
      "text/markdown": [
       "\n",
       "|||\n",
       "|---:|:---|\n",
       "| [![arXiv](https://img.shields.io/badge/arXiv-arXiv:2210.06492-b31b1b.svg)](https://arxiv.org/abs/arXiv:2210.06492) | **The ASAS-SN Bright Supernova Catalog -- V. 2018-2020**  |\n",
       "|| <mark>K. D. Neumann</mark>, et al. -- incl., <mark>J. S. Brown</mark> |\n",
       "|*Appeared on*| *2022-10-14*|\n",
       "|*Comments*| *14 pages, 7 figures, 4 tables. MNRAS submission in progress. Tables containing the catalog data presented in this submission are included in machine-readable format as ancillary files*|\n",
       "|**Abstract**| We catalog the 443 bright supernovae discovered by the All-Sky Automated Survey for Supernovae (ASAS-SN) in $2018-2020$ along with the 519 supernovae recovered by ASAS-SN and 516 additional $m_{peak}\\leq18$ mag supernovae missed by ASAS-SN. Our statistical analysis focuses primarily on the 984 supernovae discovered or recovered in ASAS-SN $g$-band observations. The complete sample of 2427 ASAS-SN supernovae includes earlier $V$-band samples and unrecovered supernovae. For each supernova, we identify the host galaxy, its UV to mid-IR photometry, and the offset of the supernova from the center of the host. Updated light curves, redshifts, classifications, and host galaxy identifications supersede earlier results. With the increase of the limiting magnitude to $g\\leq18$ mag, the ASAS-SN sample is roughly complete up to $m_{peak}=16.7$ mag and is $90\\%$ complete for $m_{peak}\\leq17.0$ mag. This is an increase from the $V$-band sample where it was roughly complete up to $m_{peak}=16.2$ mag and $70\\%$ complete for $m_{peak}\\leq17.0$ mag. |\n",
       "|<p style=\"color:green\"> **ERROR** </p>| <p style=\"color:green\">affiliation error: mpia.affiliation_verifications: '69117' keyword not found.</p> |"
      ],
      "text/plain": [
       "<IPython.core.display.Markdown object>"
      ]
     },
     "metadata": {},
     "output_type": "display_data"
    },
    {
     "data": {
      "text/markdown": [
       "\n",
       "|||\n",
       "|---:|:---|\n",
       "| [![arXiv](https://img.shields.io/badge/arXiv-arXiv:2210.06731-b31b1b.svg)](https://arxiv.org/abs/arXiv:2210.06731) | **Near-infrared Chemical Abundances of Stars in the Sculptor Dwarf Galaxy**  |\n",
       "|| Baitian Tang, et al. -- incl., <mark>Jiajun Zhang</mark>, <mark>Zhiyu Zhang</mark> |\n",
       "|*Appeared on*| *2022-10-14*|\n",
       "|*Comments*| *Resubmitted to A&A after addressing the second referee report*|\n",
       "|**Abstract**| Owing to the recent identification of major substructures in our Milky Way (MW), the astronomical community start to reevaluate the importance of dissolved and existing dwarf galaxies. In this work, we investigate up to 13 elements in 43 giant stars of Sculptor dwarf galaxy (Scl) using high signal-to-noise ratio near-infrared APOGEE spectra. Thanks to the strong feature lines in the near-infrared, high resolution O, Si, and Al abundances are determined at such large group of sample stars for the first time in Scl. By comparing [$\\alpha$/Fe] (i.e., O, Mg, Si, Ca, and Ti) of stars from Scl, Sagittarius, and MW, we confirm the general trend that less massive galaxy tends to show lower [$\\alpha$/Fe]. The low [Al/Fe] ($\\sim -0.5$) in Scl proves it as a trustworthy discriminator to identify stars born in dwarf galaxies (from MW field stars). Chemical evolution model suggests Scl have a top-light initial mass function (IMF), with a high-mass IMF power index $\\sim -2.7$, and a minimum SN Ia delay time of $\\sim 100$ Myr. Furthermore, linear regression analysis indicates negative radial metallicity gradient and positive radial gradients for [Mg/Fe] and [Ca/Fe], qualitatively agree with the outside-in formation scenario. |\n",
       "|<p style=\"color:green\"> **ERROR** </p>| <p style=\"color:green\">affiliation error: mpia.affiliation_verifications: '69117' keyword not found.</p> |"
      ],
      "text/plain": [
       "<IPython.core.display.Markdown object>"
      ]
     },
     "metadata": {},
     "output_type": "display_data"
    },
    {
     "data": {
      "text/markdown": [
       "\n",
       "|||\n",
       "|---:|:---|\n",
       "| [![arXiv](https://img.shields.io/badge/arXiv-arXiv:2210.06476-b31b1b.svg)](https://arxiv.org/abs/arXiv:2210.06476) | **Connecting Solar and Stellar Flares/CMEs: Expanding Heliophysics to  Encompass Exoplanetary Space Weather**  |\n",
       "|| B. J. Lynch, et al. -- incl., <mark>E. E. Davies</mark>, <mark>C. O. Lee</mark> |\n",
       "|*Appeared on*| *2022-10-14*|\n",
       "|*Comments*| *9 pages, 5 figures, white paper submitted to the Heliophysics 2024--2033 Decadal Survey*|\n",
       "|**Abstract**| The aim of this white paper is to briefly summarize some of the outstanding gaps in the observations and modeling of stellar flares, CMEs, and exoplanetary space weather, and to discuss how the theoretical and computational tools and methods that have been developed in heliophysics can play a critical role in meeting these challenges. The maturity of data-inspired and data-constrained modeling of the Sun-to-Earth space weather chain provides a natural starting point for the development of new, multidisciplinary research and applications to other stars and their exoplanetary systems. Here we present recommendations for future solar CME research to further advance stellar flare and CME studies. These recommendations will require institutional and funding agency support for both fundamental research (e.g. theoretical considerations and idealized eruptive flare/CME numerical modeling) and applied research (e.g. data inspired/constrained modeling and estimating exoplanetary space weather impacts). In short, we recommend continued and expanded support for: (1.) Theoretical and numerical studies of CME initiation and low coronal evolution, including confinement of \"failed\" eruptions; (2.) Systematic analyses of Sun-as-a-star observations to develop and improve stellar CME detection techniques and alternatives; (3.) Improvements in data-inspired and data-constrained MHD modeling of solar CMEs and their application to stellar systems; and (4.) Encouraging comprehensive solar--stellar research collaborations and conferences through new interdisciplinary and multi-agency/division funding mechanisms. |\n",
       "|<p style=\"color:green\"> **ERROR** </p>| <p style=\"color:green\">affiliation error: mpia.affiliation_verifications: 'Heidelberg' keyword not found.</p> |"
      ],
      "text/plain": [
       "<IPython.core.display.Markdown object>"
      ]
     },
     "metadata": {},
     "output_type": "display_data"
    },
    {
     "data": {
      "text/markdown": [
       "\n",
       "|||\n",
       "|---:|:---|\n",
       "| [![arXiv](https://img.shields.io/badge/arXiv-arXiv:2210.06482-b31b1b.svg)](https://arxiv.org/abs/arXiv:2210.06482) | **PAH emission from star-forming galaxies in JWST mid-infrared imaging of  the lensing cluster SMACS J0723.3$-$7327**  |\n",
       "|| <mark>Danial Langeroodi</mark>, Jens Hjorth |\n",
       "|*Appeared on*| *2022-10-14*|\n",
       "|*Comments*| *8 pages, 5 figures, Submitted to ApJL, Comments are Welcome!*|\n",
       "|**Abstract**| The mid-infrared spectra of star-forming galaxies (SFGs) are characterized by characteristic broad PAH emission features at 3$-$20 $\\mu$m. As these features are redshifted, they are predicted to dominate the flux at specific mid-infrared wavelengths, leading to substantial redshift-dependent color variations in broad-band photometry. The advent of JWST for the first time allows the study of this effect for normal SFGs. Based on spectral energy distribution templates, we here present tracks in mid-infrared (4.4, 7.7, 10, 15, and 18 $\\mu$m) color-color diagrams describing the redshift dependence of SFG colors. In addition, we present simulated color-color diagrams by populating these tracks using the cosmic star-formation history and the star-formation rate function. Depending on redshift, we find that SFGs stand out in the color-color diagrams by several magnitudes. We provide the first observational demonstration of this effect for galaxies detected in the JWST Early Release Observations of the field towards the lensing cluster SMACS J0723.3$-$7327. While the distribution of detected galaxies is consistent with the simulations, the numbers are substantially boosted by lensing effects. The PAH emitter with the highest spectroscopic redshift, detected in all bands, is a multiply-imaged galaxy at $z=1.45$. There is also a substantial number of cluster members, which do not exhibit PAH emission, except for one Seyfert galaxy at $z=0.38$. Future wider-field observations will further populate mid-infrared color-color diagrams and provide insight into the evolution of typical SFGs. |\n",
       "|<p style=\"color:green\"> **ERROR** </p>| <p style=\"color:green\">affiliation error: mpia.affiliation_verifications: 'Heidelberg' keyword not found.</p> |"
      ],
      "text/plain": [
       "<IPython.core.display.Markdown object>"
      ]
     },
     "metadata": {},
     "output_type": "display_data"
    },
    {
     "data": {
      "text/markdown": [
       "\n",
       "|||\n",
       "|---:|:---|\n",
       "| [![arXiv](https://img.shields.io/badge/arXiv-arXiv:2210.06485-b31b1b.svg)](https://arxiv.org/abs/arXiv:2210.06485) | **Unveiling the Formation of NGC 2915 with MUSE: A Counterrotating Stellar  Disk Embedded in a Disordered Gaseous Environment**  |\n",
       "|| Yimeng Tang, et al. -- incl., <mark>Hong-Xin Zhang</mark>, <mark>Zesen Lin</mark> |\n",
       "|*Appeared on*| *2022-10-14*|\n",
       "|*Comments*| *14 pages, 16 figures. Accepted for publication in A&A*|\n",
       "|**Abstract**| NGC 2915 is a unique nearby galaxy that is classified as an isolated blue compact dwarf based on its optical appearance but has an extremely extended H I gas disk with prominent Sd-type spiral arms. To unveil the starburst-triggering mystery of NGC 2915, we perform a comprehensive analysis of deep VLT/MUSE integral field spectroscopic observations that cover the central kiloparsec star-forming region. We find that episodes of bursty star formation have recurred in different locations throughout the central region, and the most recent one peaked around 50 Myr ago. The bursty star formation has significantly disturbed kinematics of the ionized gas but not the neutral atomic gas, which implies that the two gas phases are largely spatially decoupled along the line of sight. No evidence for an active galactic nucleus is found based on the classical line-ratio diagnostic diagrams. The ionized gas metallicities have a positive radial gradient, which confirms the previous study based on several individual H II regions and may be attributed to both the stellar feedback-driven outflows and metal-poor gas inflow. Evidence for metal-poor gas infall/inflow includes discoveries of high-speed collisions between gas clouds of different metallicities, localized gas metallicity drops and unusually small metallicity differences between gas and stars. The central stellar disk appears to be counter-rotating with respect to the extended H I disk, implying that the recent episodes of bursty star formation have been sustained by externally accreted gas. |\n",
       "|<p style=\"color:green\"> **ERROR** </p>| <p style=\"color:green\">affiliation error: mpia.affiliation_verifications: 'Heidelberg' keyword not found.</p> |"
      ],
      "text/plain": [
       "<IPython.core.display.Markdown object>"
      ]
     },
     "metadata": {},
     "output_type": "display_data"
    },
    {
     "data": {
      "text/markdown": [
       "\n",
       "|||\n",
       "|---:|:---|\n",
       "| [![arXiv](https://img.shields.io/badge/arXiv-arXiv:2210.06491-b31b1b.svg)](https://arxiv.org/abs/arXiv:2210.06491) | **Tidal perturbations and eclipse mapping in the pulsations in the  hierarchical triple system U~Gru**  |\n",
       "|| Cole Johnston, et al. -- incl., <mark>Kresimir Pavlovski</mark> |\n",
       "|*Appeared on*| *2022-10-14*|\n",
       "|*Comments*| *Accepted for publication in Astronomy & Astrophysics. 13 pages, 10 figures, 3 tables, 1 appendix*|\n",
       "|**Abstract**| Context. Unambiguous examples of the influence of tides on self-excited, free stellar pulsations have recently been observationally detected in space-based photometric data. Aims. We aim to investigate U Gru and contextualise it within the growing class of tidally influenced pulsators. Initial analysis of U Gru revealed frequencies spaced by the orbital frequency that are difficult to explain by currently proposed tidal mechanisms. Methods. We re-investigate the TESS photometry of U Gru alongside new uves spectroscopy. We analyse the uves spectroscopy with least-squares deconvolution and spectral disentangling techniques, and perform an atmospheric analysis. We remove the binary signature from the light curve using an effective model in order to investigate the pulsation signal in the residuals. We track the amplitudes and phases of the residual pulsations as a function of the orbital period to reveal their tidal influence. Results. We establish that U Gru is likely a hierarchical triple system. We identify a single p mode oscillation to exhibit amplitude and phase variation over the binary orbit. We propose a toy model to demonstrate that the series of frequencies separated by the orbital frequency can be reproduced by eclipse mapping. We find no evidence of modulation to the other independent oscillation modes. Conclusions. We demonstrate that U Gru hosts at least one tidally perturbed pulsation. Additionally we argue that eclipse mapping of the dominant, tidally perturbed mode can produce the series of frequencies separated by the observed orbital frequency. Our simulations show that the effects of eclipse mapping are mode dependent, and are not expected to produce an observable signature for all pulsation modes in an eclipse binary. |\n",
       "|<p style=\"color:green\"> **ERROR** </p>| <p style=\"color:green\">affiliation error: mpia.affiliation_verifications: 'Heidelberg' keyword not found.</p> |"
      ],
      "text/plain": [
       "<IPython.core.display.Markdown object>"
      ]
     },
     "metadata": {},
     "output_type": "display_data"
    },
    {
     "data": {
      "text/markdown": [
       "\n",
       "|||\n",
       "|---:|:---|\n",
       "| [![arXiv](https://img.shields.io/badge/arXiv-arXiv:2210.06514-b31b1b.svg)](https://arxiv.org/abs/arXiv:2210.06514) | **JWST's PEARLS: a new lens model for ACT-CL J0102$-$4915, \"EL Gordo'',  and the first red supergiant star at cosmological distances discovered by  JWST**  |\n",
       "|| Jose M. Diego, et al. -- incl., <mark>Liang Dai</mark> |\n",
       "|*Appeared on*| *2022-10-14*|\n",
       "|*Comments*| *27 pages, 21 figures*|\n",
       "|**Abstract**| The first JWST data on the massive colliding cluster El Gordo confirm 23 known families of multiply lensed images and identify 8 new members of these families. Based on these families, which have been confirmed spectroscopically by MUSE, we derived an initial lens model. This model guided the identification of 37 additional families of multiply lensed galaxies, among which 28 are entirely new systems, and 9 were previously known. The initial lens model determined geometric redshifts for the 37 new systems. The geometric redshifts agree reasonably well with spectroscopic or photometric redshifts when those are available. The geometric redshifts enable two additional models that include all 60 families of multiply lensed galaxies spanning a redshift range $2<z<6$. The derived dark-matter distribution confirms the double-peak configuration of mass found by earlier work with the southern and northern clumps having similar masses. We confirm that El Gordo is the most massive known cluster at $z>0.8$ and has an estimated virial mass close the maximum mass allowed by standard cosmological models. The JWST images also reveal the presence of small-mass perturbers that produce small lensing distortions. The smallest of these is consistent with being a dwarf galaxy at $z=0.87$ and has an estimated mass of $3.8\\times10^9$~\\Msol, making it the smallest substructure found at $z>0.5$. The JWST images also show several candidate caustic-crossing events. One of them is detected at high significance at the expected position of the critical curve and is likely a red supergiant star at $z=2.1878$. This would be the first red supergiant found at cosmological distances. The cluster lensing should magnify background objects at $z>6$, making more of them visible than in blank fields of similar size, but there appears to be a deficiency of such objects. |\n",
       "|<p style=\"color:green\"> **ERROR** </p>| <p style=\"color:green\">affiliation error: mpia.affiliation_verifications: 'Heidelberg' keyword not found.</p> |"
      ],
      "text/plain": [
       "<IPython.core.display.Markdown object>"
      ]
     },
     "metadata": {},
     "output_type": "display_data"
    },
    {
     "data": {
      "text/markdown": [
       "\n",
       "|||\n",
       "|---:|:---|\n",
       "| [![arXiv](https://img.shields.io/badge/arXiv-arXiv:2210.06547-b31b1b.svg)](https://arxiv.org/abs/arXiv:2210.06547) | **Testing afterglow models of FRB 200428 with early post-burst  observations of SGR 1935+2154**  |\n",
       "|| A. J. Cooper, et al. -- incl., <mark>J. Hessels</mark> |\n",
       "|*Appeared on*| *2022-10-14*|\n",
       "|*Comments*| *Accepted for publication in MNRAS*|\n",
       "|**Abstract**| We present LOFAR imaging observations from the April/May 2020 active episode of magnetar SGR 1935+2154. We place the earliest radio limits on persistent emission following the low-luminosity fast radio burst FRB 200428 from the magnetar. We also perform an image-plane search for transient emission and find no radio flares during our observations. We examine post-FRB radio upper limits in the literature and find that all are consistent with the multi-wavelength afterglow predicted by the synchrotron maser shock model interpretation of FRB 200428. However, early optical observations appear to rule out the simple versions of the afterglow model with constant-density circumburst media. We show that these constraints may be mitigated by adapting the model for a wind-like environment, but only for a limited parameter range. In addition, we suggest that late-time non-thermal particle acceleration occurs within the afterglow model when the shock is no longer relativistic, which may prove vital for detecting afterglows from other Galactic FRBs. We also discuss future observing strategies for verifying either magnetospheric or maser shock FRB models via rapid radio observations of Galactic magnetars and nearby FRBs. |\n",
       "|<p style=\"color:green\"> **ERROR** </p>| <p style=\"color:green\">affiliation error: mpia.affiliation_verifications: 'Heidelberg' keyword not found.</p> |"
      ],
      "text/plain": [
       "<IPython.core.display.Markdown object>"
      ]
     },
     "metadata": {},
     "output_type": "display_data"
    },
    {
     "data": {
      "text/markdown": [
       "\n",
       "|||\n",
       "|---:|:---|\n",
       "| [![arXiv](https://img.shields.io/badge/arXiv-arXiv:2210.06616-b31b1b.svg)](https://arxiv.org/abs/arXiv:2210.06616) | **Dynamics of Neutron Star Accretion Columns in Split-Monopole Magnetic  Fields**  |\n",
       "|| <mark>Lizhong Zhang</mark>, Omer Blaes, Yan-Fei Jiang |\n",
       "|*Appeared on*| *2022-10-14*|\n",
       "|*Comments*| *18 pages, 17 figures, and 3 table, submitted to MNRAS*|\n",
       "|**Abstract**| We perform 2D axisymmetric radiative relativistic MHD simulations of radiation pressure supported neutron star accretion columns in split-monopole magnetic fields. The accretion columns exhibit quasi-periodic oscillations, which manifest in the luminosity power spectrum as 2-10 kHz peaks, together with broader extensions to somewhat higher frequencies. The peak frequency decreases for wider columns or higher mass accretion rates. In contrast to the case of shorter columns in uniform magnetic fields, pdV work contributes substantially to maintaining the radiation pressure inside the column against sideways radiative cooling. This is in part due to the compression associated with accretion along the converging magnetic field lines towards the stellar surface. Propagating entropy waves which are associated with the slow-diffusion photon bubble instability form in all our simulations. Radial advection of radiation from the oscillation itself as well as the entropy waves is also important in maintaining radiation pressure inside the column. The time-averaged profile of our fiducial simulation accretion is approximately consistent with the classical 1D stationary model provided one incorporates the correct column shape. We also quantify the porosity in all our accretion column simulations so that this may also in principle be used to improve 1D models. |\n",
       "|<p style=\"color:green\"> **ERROR** </p>| <p style=\"color:green\">affiliation error: mpia.affiliation_verifications: 'Heidelberg' keyword not found.</p> |"
      ],
      "text/plain": [
       "<IPython.core.display.Markdown object>"
      ]
     },
     "metadata": {},
     "output_type": "display_data"
    },
    {
     "data": {
      "text/markdown": [
       "\n",
       "|||\n",
       "|---:|:---|\n",
       "| [![arXiv](https://img.shields.io/badge/arXiv-arXiv:2210.06617-b31b1b.svg)](https://arxiv.org/abs/arXiv:2210.06617) | **Transition-Edge Sensors for cryogenic X-ray imaging spectrometers**  |\n",
       "|| Luciano Gottardi, <mark>Stephen Smith</mark> |\n",
       "|*Appeared on*| *2022-10-14*|\n",
       "|*Comments*| *45 pages, 18 figures. This Chapter will appear in the Section \"Detectors for X-ray Astrophysics\" (Section Editors: J-W. den Harder, M. Feroci, N. Meidinger) of the \"Handbook of X-ray and Gamma-ray Astrophysics\" (Editors in chief: C. Bambi and A. Santangelo)*|\n",
       "|**Abstract**| Large arrays of superconducting transition-edge sensor (TES) microcalorimeters are becoming the key technology for future space-based X-ray observatories and ground-based experiments in the fields of astrophysics, laboratory astrophysics, plasma physics, particle physics and material analysis. Thanks to their sharp superconducting-to-normal transition, TESs can achieve very high sensitivity in detecting small temperature changes at very low temperature. TES based X-ray detectors are non-dispersive spectrometers bringing together high resolving power, imaging capability and high-quantum efficiency simultaneously. In this chapter, we highlight the basic principles behind the operation and design of TESs, and their fundamental noise limits. We will further elaborate on the key fundamental physics processes that guide the design and optimization of the detector. We will then describe pulse-processing and important calibration considerations for space flight instruments, before introducing novel multi-pixel TES designs and discussing applications in future X-ray space missions over the coming decades. |\n",
       "|<p style=\"color:green\"> **ERROR** </p>| <p style=\"color:green\">affiliation error: mpia.affiliation_verifications: 'Heidelberg' keyword not found.</p> |"
      ],
      "text/plain": [
       "<IPython.core.display.Markdown object>"
      ]
     },
     "metadata": {},
     "output_type": "display_data"
    },
    {
     "data": {
      "text/markdown": [
       "\n",
       "|||\n",
       "|---:|:---|\n",
       "| [![arXiv](https://img.shields.io/badge/arXiv-arXiv:2210.06648-b31b1b.svg)](https://arxiv.org/abs/arXiv:2210.06648) | **3XMM J185246.6+003317: an isolated massive neutron star with a low  magnetic field and a carbon atmosphere**  |\n",
       "|| <mark>Rafael C. R. de Lima</mark>, et al. |\n",
       "|*Appeared on*| *2022-10-14*|\n",
       "|*Comments*| *23 pages, 10 figures, 2 tables. Comments welcome*|\n",
       "|**Abstract**| 3XMM J185246.6+003317 is a slowly rotating soft-gamma repeater (neutron star) in the vicinity of the supernova remnant Kes\\,79. So far, observations have only set upper limits to its surface magnetic field and spindown, and there is no estimate for its mass and radius. Using ray-tracing modelling and Bayesian inference for the analysis of several light curves spanning a period of around three weeks, we have found that it may be one of the most massive neutron stars to date. In addition, our analysis suggests a multipolar magnetic field structure with a subcritical field strength and a carbon atmosphere composition. Due to the time-resolution limitation of the available light curves, we estimate the surface magnetic field and the mass to be $\\log_{10} (B/{\\rm G}) = 11.89^{+0.19}_{-0.93}$ and $M=2.09^{+0.16}_{-0.09}$~$M_{\\odot}$ at $1\\sigma$ confidence level, while the radius is estimated to be $R=12.02^{+1.44}_{-1.42}$ km at $2\\sigma$ confidence level. The robustness of these estimates was verified by simulations, i.e., data injections with known model parameters, and their subsequent recovery. The best-fit model has three small hot spots, two of them in the southern hemisphere. We interpret the above results as due to accretion of supernova layers/interstellar medium onto 3XMM J185246.6+003317 leading to burying and a subsequent re-emergence of the magnetic field, and a carbon atmosphere being formed possibly due to hydrogen/helium diffusive nuclear burning. Finally, we briefly discuss some consequences of our findings for superdense matter constraints. |\n",
       "|<p style=\"color:green\"> **ERROR** </p>| <p style=\"color:green\">affiliation error: mpia.affiliation_verifications: 'Heidelberg' keyword not found.</p> |"
      ],
      "text/plain": [
       "<IPython.core.display.Markdown object>"
      ]
     },
     "metadata": {},
     "output_type": "display_data"
    },
    {
     "data": {
      "text/markdown": [
       "\n",
       "|||\n",
       "|---:|:---|\n",
       "| [![arXiv](https://img.shields.io/badge/arXiv-arXiv:2210.06665-b31b1b.svg)](https://arxiv.org/abs/arXiv:2210.06665) | **TOI-561 b: A Low Density Ultra-Short Period \"Rocky\" Planet around a  Metal-Poor Star**  |\n",
       "|| Casey Brinkman, et al. -- incl., <mark>Daniel Huber</mark>, <mark>Joseph M. Akana Murphy</mark> |\n",
       "|*Appeared on*| *2022-10-14*|\n",
       "|*Comments*| *Submitted to AJ*|\n",
       "|**Abstract**| TOI-561 is a galactic thick disk star hosting an ultra-short period (0.45 day orbit) planet with a radius of 1.37 R$_{\\oplus}$, making it one of the most metal-poor ([Fe/H] = -0.41) and oldest ($\\sim$10 Gyr) sites where an Earth-sized planet has been found. We present new simultaneous radial velocity measurements (RVs) from Gemini-N/MAROON-X and Keck/HIRES, which we combined with literature RVs to derive a mass of M$_{b}$=2.24 $\\pm$ 0.20 M$_{\\oplus}$. We also used two new Sectors of TESS photometry to improve the radius determination, finding R$_{b}$=$1.37 \\pm 0.04 R_\\oplus$, and confirming that TOI-561 b is one of the lowest-density super-Earths measured to date ($\\rho_b$= 4.8 $\\pm$ 0.5 g/cm$^{3}$). This density is consistent with an iron-poor rocky composition reflective of the host star's iron and rock-building element abundances; however, it is also consistent with a low-density planet with a volatile envelope. The equilibrium temperature of the planet ($\\sim$2300 K) suggests that this envelope would likely be composed of high mean molecular weight species, such as water vapor, carbon dioxide, or silicate vapor, and is likely not primordial. We also demonstrate that the composition determination is sensitive to the choice of stellar parameters, and that further measurements are needed to determine if TOI-561 b is a bare rocky planet, a rocky planet with an optically thin atmosphere, or a rare example of a non-primordial envelope on a planet with a radius smaller than 1.5 R$_{\\oplus}$. |\n",
       "|<p style=\"color:green\"> **ERROR** </p>| <p style=\"color:green\">affiliation error: mpia.affiliation_verifications: 'Heidelberg' keyword not found.</p> |"
      ],
      "text/plain": [
       "<IPython.core.display.Markdown object>"
      ]
     },
     "metadata": {},
     "output_type": "display_data"
    },
    {
     "data": {
      "text/markdown": [
       "\n",
       "|||\n",
       "|---:|:---|\n",
       "| [![arXiv](https://img.shields.io/badge/arXiv-arXiv:2210.06761-b31b1b.svg)](https://arxiv.org/abs/arXiv:2210.06761) | **Effects of galaxy intrinsic alignment on weak lensing peak statistics**  |\n",
       "|| <mark>Tianyu Zhang</mark>, et al. -- incl., <mark>Xiangkun Liu</mark>, <mark>Guoliang Li</mark> |\n",
       "|*Appeared on*| *2022-10-14*|\n",
       "|*Comments*| *17 pages, 17 figures, accepted for publication in ApJ*|\n",
       "|**Abstract**| The galaxy intrinsic alignment (IA) is a dominant source of systematics in weak lensing (WL) studies. In this paper, by employing large simulations with semi-analytical galaxy formation, we investigate the IA effects on WL peak statistics. Different simulated source galaxy samples of different redshift distributions are constructed, where both WL shear and IA signals are included. Convergence reconstruction and peak statistics are then performed for these samples. Our results show that the IA effects on peak abundances mainly consist of two aspects. One is the additional contribution from IA to the shape noise. The other is from the satellite IA that can affect the peak signals from their host clusters significantly. The latter depends on the level of inclusion in a shear sample of the satellite galaxies of the clusters that contribute to WL peaks, and thus is sensitive to the redshift distribution of source galaxies. We pay particular attention to satellite IA and adjust it artificially in the simulations to analyze the dependence of the satellite IA impacts on its strength. This information can potentially be incorporated into the modeling of WL peak abundances, especially for high peaks physically originated from massive clusters of galaxies, and thus to mitigate the IA systematics on the cosmological constraints derived from WL peaks. |\n",
       "|<p style=\"color:green\"> **ERROR** </p>| <p style=\"color:green\">affiliation error: mpia.affiliation_verifications: 'Heidelberg' keyword not found.</p> |"
      ],
      "text/plain": [
       "<IPython.core.display.Markdown object>"
      ]
     },
     "metadata": {},
     "output_type": "display_data"
    },
    {
     "data": {
      "text/markdown": [
       "\n",
       "|||\n",
       "|---:|:---|\n",
       "| [![arXiv](https://img.shields.io/badge/arXiv-arXiv:2210.06769-b31b1b.svg)](https://arxiv.org/abs/arXiv:2210.06769) | **Cross-loop propagation of a quasi-periodic extreme-ultraviolet wave  train triggered by successive stretching of magnetic field structures during  a solar eruption**  |\n",
       "|| Zheng Sun, et al. -- incl., <mark>Hechao Chen</mark>, <mark>Linjie Chen</mark> |\n",
       "|*Appeared on*| *2022-10-14*|\n",
       "|*Comments*| *9 pages, 4 figures*|\n",
       "|**Abstract**| Solar extreme-ultraviolet (EUV) waves generally refer to large-scale disturbances propagating outward from sites of solar eruptions in EUV imaging observations. Using the recent observations from the Atmospheric Imaging Assembly (AIA) on board the Solar Dynamics Observatory (SDO), we report a quasi-periodic wave train propagating outward at an average speed of $\\sim$308 km s$^{-1}$. At least five wavefronts can be clearly identified with the period being $\\sim$120 s. These wavefronts originate from the coronal loop expansion, which propagates with an apparent speed of $\\sim$95 km s$^{-1}$, about 3 times slower than the wave train. In the absence of a strong lateral expansion, these observational results might be explained by the theoretical model of Chen et al. (2002), which predicted that EUV waves may have two components: a faster component that is a fast-mode magnetoacoustic wave or shock wave and a slower apparent front formed as a result of successive stretching of closed magnetic field lines. In this scenario, the wave train and the successive loop expansion we observed likely correspond to the fast and slow components in the model, respectively. |\n",
       "|<p style=\"color:green\"> **ERROR** </p>| <p style=\"color:green\">affiliation error: mpia.affiliation_verifications: 'Heidelberg' keyword not found.</p> |"
      ],
      "text/plain": [
       "<IPython.core.display.Markdown object>"
      ]
     },
     "metadata": {},
     "output_type": "display_data"
    },
    {
     "data": {
      "text/markdown": [
       "\n",
       "|||\n",
       "|---:|:---|\n",
       "| [![arXiv](https://img.shields.io/badge/arXiv-arXiv:2210.06851-b31b1b.svg)](https://arxiv.org/abs/arXiv:2210.06851) | **Equality scale-based and sound horizon-based analysis of the Hubble  tension**  |\n",
       "|| Zhihuan Zhou, et al. -- incl., <mark>Gang Liu</mark>, <mark>Lixin Xu</mark> |\n",
       "|*Appeared on*| *2022-10-14*|\n",
       "|*Comments*| *12 pages, 7 figures*|\n",
       "|**Abstract**| The Hubble horizon at matter-radiation equality ($k^{-1}_{\\rm{eq}}$) and the sound horizon at the last scattering surface ($r_s(z_*)$) provides interesting consistency check for the $\\Lambda$CDM model and its extensions. It is well known that the reduction of $r_s$ can be compensated by the increase of $H_0$, while the same is true for the standard rulers $k_{\\rm{eq}}$. Adding extra radiational component to the early universe can reduce $k_{\\rm{eq}}$. The addition of early dark energy (EDE), however, tends to increase $k_{\\rm{eq}}$. We perform $k_{\\rm{eq}}$- and $r_s$-based analyses in both the EDE model and the Wess-Zumino Dark Radiation (WZDR) model. In the latter case we find $\\Delta H_0 = 0.4$ between the $r_s$- and $k_{\\rm{eq}}$-based datasets, while in the former case we find $\\Delta H_0 = 1.2$. This result suggests that the dark radiation scenario is more consistent in the fit of the two standard rulers ($k_{\\rm{eq}}$ and $r_s$). As a forecast analyses, we fit the two models with a mock $k_{\\rm{eq}}$ prior derived from \\emph{Planck} best-fit $\\Lambda$CDM model. Compared with the best-fit $H_0$ in baseline $\\Lambda$CDM model, we find $\\Delta H_0 = 1.1$ for WZDR model and $\\Delta H_0 = - 2.4$ for EDE model. |\n",
       "|<p style=\"color:green\"> **ERROR** </p>| <p style=\"color:green\">affiliation error: mpia.affiliation_verifications: 'Heidelberg' keyword not found.</p> |"
      ],
      "text/plain": [
       "<IPython.core.display.Markdown object>"
      ]
     },
     "metadata": {},
     "output_type": "display_data"
    },
    {
     "data": {
      "text/markdown": [
       "\n",
       "|||\n",
       "|---:|:---|\n",
       "| [![arXiv](https://img.shields.io/badge/arXiv-arXiv:2210.06892-b31b1b.svg)](https://arxiv.org/abs/arXiv:2210.06892) | **Detection of barium in the atmospheres of the ultra-hot gas giants  WASP-76b and WASP-121b**  |\n",
       "|| T. Azevedo Silva, et al. -- incl., <mark>J. V. Seidel</mark>, <mark>J. I. González Hernández</mark> |\n",
       "|*Appeared on*| *2022-10-14*|\n",
       "|*Comments*| *21 pages, 16 figures. Published in A&A Volume 666, October 2022 - Letter to the Editor*|\n",
       "|**Abstract**| High-resolution spectroscopy studies of ultra-hot Jupiters have been key in our understanding of exoplanet atmospheres. Observing into the atmospheres of these giant planets allows for direct constraints on their atmospheric compositions and dynamics while laying the groundwork for new research regarding their formation and evolution environments. Two of the most well-studied ultra-hot Jupiters are WASP-76b and WASP-121b, with multiple detected chemical species and strong signatures of their atmospheric dynamics. We take a new look at these two exceptional ultra-hot Jupiters by reanalyzing the transit observations taken with ESPRESSO at the Very Large Telescope and attempt to detect additional species. To extract the planetary spectra of the two targets, we corrected for the telluric absorption and removed the stellar spectrum contributions. We then exploited new synthetic templates that were specifically designed for ultra-hot Jupiters in combination with the cross-correlation technique to unveil species that remained undetected by previous analyses. We add a novel detection of Ba+ to the known atmospheric compositions of WASP-76b and WASP-121b, the heaviest species detected to date in any exoplanetary atmosphere, with additional new detections of Co and Sr+ and a tentative detection of Ti+ for WASP-121b. We also confirm the presence of Ca+, Cr, Fe, H, Li, Mg, Mn, Na, and V on both WASP-76b and WASP-121b, with the addition of Ca, Fe+, and Ni for the latter. Finally, we also confirm the clear asymmetric absorption feature of Ca+ on WASP-121b, with an excess absorption at the bluer wavelengths and an effective planet radius beyond the Roche lobe. This indicates that the signal may arise from the escape of planetary atmosphere. |\n",
       "|<p style=\"color:green\"> **ERROR** </p>| <p style=\"color:green\">affiliation error: mpia.affiliation_verifications: 'Heidelberg' keyword not found.</p> |"
      ],
      "text/plain": [
       "<IPython.core.display.Markdown object>"
      ]
     },
     "metadata": {},
     "output_type": "display_data"
    },
    {
     "data": {
      "text/markdown": [
       "\n",
       "|||\n",
       "|---:|:---|\n",
       "| [![arXiv](https://img.shields.io/badge/arXiv-arXiv:2210.06922-b31b1b.svg)](https://arxiv.org/abs/arXiv:2210.06922) | **Extending the Sunspot Area Series from Kodaikanal Solar Observatory**  |\n",
       "|| Bibhuti Kumar Jha, et al. -- incl., <mark>Manjunath Hegde</mark> |\n",
       "|*Appeared on*| *2022-10-14*|\n",
       "|*Comments*| *13 Pages, 7 Figures, Accepted for Publication in Frontiers in Astronomy and Space Sciences Stellar and Solar Physics*|\n",
       "|**Abstract**| Kodaikanal Solar Observatory (KoSO) possesses one of world's longest and homogeneous records of sunspot observations that span more than a century (1904-2017). Interestingly, these observations (originally recorded in photographic plates/films) were taken with the same setup over this entire time period which makes this data unique and best suitable for long-term solar variability studies. A large part of this data, between 1921-2011, were digitized earlier and a catalog containing the detected sunspot parameters (e.g., area and location) was published in Mandal et al.(2017). In this article, we extend the earlier catalog by including new sets of data between 1904-1921 and 2011-2017. To this end, we digitize and calibrate these new datasets which include resolving the issue of random image orientation. We fix this by comparing the KoSO images with co-temporal data from Royal Greenwich Observatory. Following that, a semi-automated sunspot detection and automated umbra detection algorithm are implemented onto these calibrated images to detect sunspots and umbra. Additionally, during this catalog updation, we also filled data gaps in the existing KoSO sunspot catalog (1921-2011) by virtue of re-calibrating the 'rouge' plates. This updated sunspot area series covering nearly 115 years (1904-2017) are being made available to the community and will be a unique source to study the long term variability of the Sun |\n",
       "|<p style=\"color:green\"> **ERROR** </p>| <p style=\"color:green\">affiliation error: mpia.affiliation_verifications: 'Heidelberg' keyword not found.</p> |"
      ],
      "text/plain": [
       "<IPython.core.display.Markdown object>"
      ]
     },
     "metadata": {},
     "output_type": "display_data"
    },
    {
     "data": {
      "text/markdown": [
       "\n",
       "|||\n",
       "|---:|:---|\n",
       "| [![arXiv](https://img.shields.io/badge/arXiv-arXiv:2210.06993-b31b1b.svg)](https://arxiv.org/abs/arXiv:2210.06993) | **Near-infrared and Optical Nebular-phase Spectra of Type Ia Supernovae SN  2013aa and SN 2017cbv in NGC 5643**  |\n",
       "|| Sahana Kumar, et al. -- incl., <mark>Chris R. Burns</mark>, <mark>Syed A. Uddin</mark> |\n",
       "|*Appeared on*| *2022-10-14*|\n",
       "|*Comments*| *submitted to ApJ on Oct 4, 2022*|\n",
       "|**Abstract**| We present multi-wavelength time-series spectroscopy of SN 2013aa and SN 2017cbv, two Type Ia supernovae (SNe Ia) on the outskirts of the same host galaxy, NGC 5643. This work utilizes new nebular-phase near-infrared (NIR) spectra obtained by the Carnegie Supernova Project-II, in addition to previously published optical and NIR spectra. By measuring nebular-phase [Fe II] lines in both the optical and NIR, we examine the explosion kinematics and test the efficacy of several emission line fitting techniques commonly used in the literature. The NIR [Fe II] 1.644 $\\mu$m line provides the most robust velocity measurements against variations due to the choice of the fit method and line blending. The resulting effects on velocity measurements due to choosing different fit methods, initial fit parameters, continuum and line profile functions, and fit region boundaries were also investigated. The NIR [Fe II] velocities yield the same radial shift direction as velocities measured using the optical [Fe II] 7155 A line, but the sizes of the shifts are consistently and substantially lower, pointing to a potential issue in optical studies. The NIR [Fe II] 1.644 $\\mu$m emission profile shows a lack of significant asymmetry in both SNe Ia, and the observed low velocities elevate the importance for correcting for any radial velocity contribution from the host galaxy's rotation. The low [Fe II] velocities measured in the NIR at nebular phases disfavors most progenitor scenarios in close double-degenerate systems for both SN 2013aa and SN 2017cbv. The time evolution of the NIR [Fe II] 1.644 $\\mu$m line also indicates moderately high progenitor white dwarf central density and potentially high magnetic fields. These sibling SNe Ia were well observed at both early and late times, providing an excellent opportunity to study the intrinsic diversity of SNe Ia. |\n",
       "|<p style=\"color:green\"> **ERROR** </p>| <p style=\"color:green\">affiliation error: mpia.affiliation_verifications: 'Heidelberg' keyword not found.</p> |"
      ],
      "text/plain": [
       "<IPython.core.display.Markdown object>"
      ]
     },
     "metadata": {},
     "output_type": "display_data"
    },
    {
     "data": {
      "text/markdown": [
       "\n",
       "|||\n",
       "|---:|:---|\n",
       "| [![arXiv](https://img.shields.io/badge/arXiv-arXiv:2210.07021-b31b1b.svg)](https://arxiv.org/abs/arXiv:2210.07021) | **The spherical Fast Multipole Method (sFMM) for Gravitational Lensing  Simulation**  |\n",
       "|| Xingpao Suo, Xi Kang, Chengliang Wei, <mark>Guoliang Li</mark> |\n",
       "|*Appeared on*| *2022-10-14*|\n",
       "|*Comments*| **|\n",
       "|**Abstract**| In this paper, we present a spherical Fast Multipole Method (sFMM) for ray tracing simulation of gravitational lensing (GL) on a curved sky. The sFMM is a non-trivial extension of the Fast Multiple Method (FMM) to sphere $\\mathbb S^2$, and it can accurately solve the Poisson equation with time complexity of $O(N)\\log(N)$, where $N$ is the number of particles. It is found that the time complexity of the sFMM is near $O(N)$ and the computational accuracy can reach $10^{-10}$ in our test. In addition, comparing with the Fast Spherical Harmonic Transform (FSHT), the sFMM is not only faster but more accurate, as it has the ability to reserve high frequency component of the density field. These merits make the sFMM an optimum method to simulation the gravitational lensing on a curved sky, which is the case for upcoming large-area sky surveys, such as the Vera Rubin Observatory and the China Space Station Telescope. |\n",
       "|<p style=\"color:green\"> **ERROR** </p>| <p style=\"color:green\">affiliation error: mpia.affiliation_verifications: 'Heidelberg' keyword not found.</p> |"
      ],
      "text/plain": [
       "<IPython.core.display.Markdown object>"
      ]
     },
     "metadata": {},
     "output_type": "display_data"
    },
    {
     "data": {
      "text/markdown": [
       "\n",
       "|||\n",
       "|---:|:---|\n",
       "| [![arXiv](https://img.shields.io/badge/arXiv-arXiv:2210.07080-b31b1b.svg)](https://arxiv.org/abs/arXiv:2210.07080) | **Measuring Noise Parameters Using an Open, Short, Load, and  1/8-wavelength Cable as Source Impedances**  |\n",
       "|| Danny C. Price, et al. -- incl., <mark>Lincoln J. Greenhill</mark> |\n",
       "|*Appeared on*| *2022-10-14*|\n",
       "|*Comments*| *IEEE Transactions on Microwave Theory and Techniques*|\n",
       "|**Abstract**| Noise parameters are a set of four measurable quantities which determine the noise performance of a radio-frequency device under test. The noise parameters of a 2-port device can be extracted by connecting a set of 4 or more source impedances at the device's input, measuring the noise power of the device with each source connected, and then solving a matrix equation. However, sources with high reflection coefficients cannot be used due to a singularity that arises in entries of the matrix. Here, we detail a new method of noise parameter extraction using a singularity-free matrix that is compatible with high-reflection sources. We show that open, short, load and an open cable (\"OSLC\") can be used to extract noise parameters, and we detail a practical measurement approach. The OSLC approach is particularly well-suited for low-noise amplifier measurement at frequencies below 1 GHz, where alternative methods require physically large apparatus. |\n",
       "|<p style=\"color:green\"> **ERROR** </p>| <p style=\"color:green\">affiliation error: mpia.affiliation_verifications: 'Heidelberg' keyword not found.</p> |"
      ],
      "text/plain": [
       "<IPython.core.display.Markdown object>"
      ]
     },
     "metadata": {},
     "output_type": "display_data"
    },
    {
     "data": {
      "text/markdown": [
       "\n",
       "|||\n",
       "|---:|:---|\n",
       "| [![arXiv](https://img.shields.io/badge/arXiv-arXiv:2210.07149-b31b1b.svg)](https://arxiv.org/abs/arXiv:2210.07149) | **Searching for compact objects in the single-lined spectroscopic binaries  of the young Galactic cluster NGC 6231**  |\n",
       "|| G. Banyard, et al. -- incl., <mark>L. Mahy</mark>, <mark>N. Langer</mark> |\n",
       "|*Appeared on*| *2022-10-14*|\n",
       "|*Comments*| *Submitted to A&A*|\n",
       "|**Abstract**| Recent evolutionary computations predict that a few percent of massive OB stars in binary systems should have a dormant BH companion. Despite several reported X-ray quiet OB+BH systems over the last couple of years, finding them with certainty remains challenging. These have great importance as they can be gravitational wave (GW) source progenitors, and are landmark systems in constraining supernova kick physics. This work aims to characterise the hidden companions to the single-lined spectroscopic binaries (SB1s) in the B star population of the young open Galactic cluster NGC 6231 to find candidate systems for harbouring compact object companions. With the orbital solutions for each SB1 previously constrained, we applied Fourier spectral disentangling to multi-epoch optical VLT/FLAMES spectra of each target to extract a potential signature of a faint companion, and to identify newly disentangled double-lined spectroscopic binaries (SB2s). For targets where the disentangling does not reveal any signature of a stellar companion, we performed atmospheric and evolutionary modelling on the primary to obtain constraints on the unseen companion. Seven newly classified SB2 systems with mass ratios down to near 0.1 were identified. From the remaining targets, for which no faint companion could be extracted from the spectra, four are found to have companion masses in the predicted mass ranges of neutron stars (NSes) and BHes. Two of these have companion masses between 1 and 3.5 $M_{\\odot}$, making them potential hosts of NSes (or lower mass main sequence stars). The other two are between 2.5 to 8 $M_{\\odot}$ and 1.6 and 26 $M_{\\odot}$, respectively, and so are identified as candidates for harbouring BH companions. However, unambiguous identification of these systems as X-ray quiet compact object harbouring binaries requires follow up observations. |\n",
       "|<p style=\"color:green\"> **ERROR** </p>| <p style=\"color:green\">affiliation error: mpia.affiliation_verifications: 'Heidelberg' keyword not found.</p> |"
      ],
      "text/plain": [
       "<IPython.core.display.Markdown object>"
      ]
     },
     "metadata": {},
     "output_type": "display_data"
    },
    {
     "data": {
      "text/markdown": [
       "\n",
       "|||\n",
       "|---:|:---|\n",
       "| [![arXiv](https://img.shields.io/badge/arXiv-arXiv:2210.07162-b31b1b.svg)](https://arxiv.org/abs/arXiv:2210.07162) | **Probing the interaction between dark energy and dark matter with future  fast radio burst observations**  |\n",
       "|| <mark>Ze-Wei Zhao</mark>, <mark>Ling-Feng Wang</mark>, <mark>Ji-Guo Zhang</mark>, <mark>Jing-Fei Zhang</mark>, <mark>Xin Zhang</mark> |\n",
       "|*Appeared on*| *2022-10-14*|\n",
       "|*Comments*| *16 pages, 6 figures*|\n",
       "|**Abstract**| Interacting dark energy (IDE) scenario assumes that there exists a direct interaction between dark energy and cold dark matter, but this interaction is hard to be tightly constrained by the current data. Finding new cosmological probes to precisely measure this interaction could deepen our understanding of dark energy and dark matter. Fast radio bursts (FRBs) will be seen in large numbers by future radio telescopes, and thus they have potential to become a promising low-redshift cosmological probe. In this work, we investigate the capability of future FRBs of constraining the dimensionless coupling parameter $\\beta$ in four phenomenological IDE models. We find that in the IDE models with the interaction proportional to the energy density of dark energy, about $10^5$ FRB data can give constraint on $\\beta$ tighter than the current cosmic microwave background data. In all the IDE models, about $10^6$ FRB data can constrain the absolute errors of $\\beta$ to less than $0.10$, providing a way to precisely measure $\\beta$ by only one cosmological probe. The reconstruction of the interaction term also shows that the FRB data could help constrain the redshift evolution of interaction. |\n",
       "|<p style=\"color:green\"> **ERROR** </p>| <p style=\"color:green\">affiliation error: mpia.affiliation_verifications: 'Heidelberg' keyword not found.</p> |"
      ],
      "text/plain": [
       "<IPython.core.display.Markdown object>"
      ]
     },
     "metadata": {},
     "output_type": "display_data"
    },
    {
     "data": {
      "text/markdown": [
       "\n",
       "|||\n",
       "|---:|:---|\n",
       "| [![arXiv](https://img.shields.io/badge/arXiv-arXiv:2210.07163-b31b1b.svg)](https://arxiv.org/abs/arXiv:2210.07163) | **KiDS-Legacy calibration: unifying shear and redshift calibration with  the SKiLLS multi-band image simulations**  |\n",
       "|| <mark>Shun-Sheng Li</mark>, et al. -- incl., <mark>Henk Hoekstra</mark>, <mark>Catherine Heymans</mark>, <mark>Hendrik Hildebrandt</mark> |\n",
       "|*Appeared on*| *2022-10-14*|\n",
       "|*Comments*| *28 pages, 31 figures, 2 tables, submitted to A&A*|\n",
       "|**Abstract**| We present SKiLLS, a suite of multi-band image simulations for the KiDS-Legacy analysis, the weak lensing analysis of the complete Kilo-Degree Survey. The resulting catalogues enable joint shear and redshift calibration, enhancing the realism and hence accuracy over previous efforts. To create a large volume of simulated galaxies with faithful properties and to a sufficient depth, we integrate cosmological simulations with high-quality imaging observations. We also improve the realism of simulated images by allowing the point spread function (PSF) to differ between CCD images, including stellar density variations and varying noise levels between pointings. Using realistic variable shear fields, we account for the impact of blended systems at different redshifts. Although the overall correction is minor, we find a clear redshift-bias correlation in the blending-only variable shear simulations, indicating the non-trivial impact of this higher-order blending effect. We also explore the impact of the PSF modelling errors and find a small but noticeable effect on the shear bias. Finally, we conduct a series of sensitivity tests, including changing the input galaxy properties. We conclude that our fiducial shape measurement algorithm, lensfit, is robust within the requirements of lensing analyses with KiDS. As for future weak lensing surveys with tighter requirements, we suggest further investments in understanding the impact of blends at different redshifts, improving the PSF modelling algorithm and developing the shape measurement method to be less sensitive to the galaxy properties. |\n",
       "|<p style=\"color:green\"> **ERROR** </p>| <p style=\"color:green\">affiliation error: mpia.affiliation_verifications: 'Heidelberg' keyword not found.</p> |"
      ],
      "text/plain": [
       "<IPython.core.display.Markdown object>"
      ]
     },
     "metadata": {},
     "output_type": "display_data"
    },
    {
     "data": {
      "text/markdown": [
       "\n",
       "|||\n",
       "|---:|:---|\n",
       "| [![arXiv](https://img.shields.io/badge/arXiv-arXiv:2210.06563-b31b1b.svg)](https://arxiv.org/abs/arXiv:2210.06563) | **MAROON-X: The first two years of EPRVs from Gemini North**  |\n",
       "|| Andreas Seifahrt, et al. -- incl., <mark>Robert Liu</mark> |\n",
       "|*Appeared on*| *2022-10-14*|\n",
       "|*Comments*| **|\n",
       "|**Abstract**| MAROON-X is a fiber-fed, optical EPRV spectrograph at the 8-m Gemini North Telescope on Mauna Kea, Hawai'i. MAROON-X was commissioned as a visiting instrument in December 2019 and is in regular use since May 2020. Originally designed for RV observations of M-dwarfs, the instrument is used for a broad range of exoplanet and stellar science cases and has transitioned to be the second-most requested instrument on Gemini North over a number of semesters. We report here on the first two years of operations and radial velocity observations. MAROON-X regularly achieves sub-m/s RV performance on sky with a short-term instrumental noise floor at the 30 cm/s level. We will discuss various technical aspects in achieving this level of precision and how to further improve long-term performance |\n",
       "|<p style=\"color:green\"> **ERROR** </p>| <p style=\"color:green\">affiliation error: mpia.affiliation_verifications: 'Planck' keyword not found.</p> |"
      ],
      "text/plain": [
       "<IPython.core.display.Markdown object>"
      ]
     },
     "metadata": {},
     "output_type": "display_data"
    }
   ],
   "source": [
    "import datetime\n",
    "today = str(datetime.date.today())\n",
    "logfile = f\"_build/html/logs/log-{today}.md\"\n",
    "\n",
    "\n",
    "with open(logfile, 'w') as logs:\n",
    "    # Success\n",
    "    logs.write(f'# Arxiv on Deck 2: Logs - {today}\\n\\n')\n",
    "    logs.write(\"\"\"* Arxiv had {0:,d} new papers\\n\"\"\".format(len(new_papers)))\n",
    "    logs.write(\"\"\"    * {0:,d} with possible author matches\\n\\n\"\"\".format(len(candidates)))\n",
    "    logs.write(\"## Sucessful papers\\n\\n\")\n",
    "    display(Markdown(\"## Successful papers\"))\n",
    "    success = [k[0] for k in documents]\n",
    "    for candid in candidates:\n",
    "        if candid['identifier'].split(':')[-1] in success:\n",
    "            display(candid)\n",
    "            logs.write(candid.generate_markdown_text() + '\\n\\n')\n",
    "\n",
    "    ## failed\n",
    "    logs.write(\"## Failed papers\\n\\n\")\n",
    "    display(Markdown(\"## Failed papers\"))\n",
    "    failed = sorted(failed, key=lambda x: x[1])\n",
    "    current_reason = \"\"\n",
    "    for paper, reason in failed:\n",
    "        if 'affiliation' in reason:\n",
    "            color = 'green'\n",
    "        else:\n",
    "            color = 'red'\n",
    "        data = Markdown(\n",
    "                paper.generate_markdown_text() + \n",
    "                f'\\n|<p style=\"color:{color:s}\"> **ERROR** </p>| <p style=\"color:{color:s}\">{reason:s}</p> |'\n",
    "               )\n",
    "        if reason != current_reason:\n",
    "            logs.write(f'### {reason:s} \\n\\n')\n",
    "            current_reason = reason\n",
    "        logs.write(data.data + '\\n\\n')\n",
    "        \n",
    "        # only display here the important errors (all in logs)\n",
    "        # if color in ('red',):\n",
    "        display(data)"
   ]
  },
  {
   "cell_type": "markdown",
   "id": "472d20ee",
   "metadata": {
    "papermill": {
     "duration": 0.010004,
     "end_time": "2022-10-14T05:17:35.961160",
     "exception": false,
     "start_time": "2022-10-14T05:17:35.951156",
     "status": "completed"
    },
    "tags": []
   },
   "source": [
    "## Export documents\n",
    "\n",
    "We now write the .md files and export relevant images"
   ]
  },
  {
   "cell_type": "code",
   "execution_count": 7,
   "id": "d426aed9",
   "metadata": {
    "execution": {
     "iopub.execute_input": "2022-10-14T05:17:35.983166Z",
     "iopub.status.busy": "2022-10-14T05:17:35.982396Z",
     "iopub.status.idle": "2022-10-14T05:17:35.990538Z",
     "shell.execute_reply": "2022-10-14T05:17:35.989816Z"
    },
    "papermill": {
     "duration": 0.021087,
     "end_time": "2022-10-14T05:17:35.992149",
     "exception": false,
     "start_time": "2022-10-14T05:17:35.971062",
     "status": "completed"
    },
    "tags": []
   },
   "outputs": [],
   "source": [
    "def export_markdown_summary(md: str, md_fname:str, directory: str):\n",
    "    \"\"\"Export MD document and associated relevant images\"\"\"\n",
    "    import os\n",
    "    import shutil\n",
    "    import re\n",
    "\n",
    "    if (os.path.exists(directory) and not os.path.isdir(directory)):\n",
    "        raise RuntimeError(f\"a non-directory file exists with name {directory:s}\")\n",
    "\n",
    "    if (not os.path.exists(directory)):\n",
    "        print(f\"creating directory {directory:s}\")\n",
    "        os.mkdir(directory)\n",
    "\n",
    "    fig_fnames = (re.compile(r'\\[Fig.*\\]\\((.*)\\)').findall(md) + \n",
    "                  re.compile(r'\\<img src=\"([^>\\s]*)\"[^>]*/>').findall(md))\n",
    "    for fname in fig_fnames:\n",
    "        if 'http' in fname:\n",
    "            # No need to copy online figures\n",
    "            continue\n",
    "        destdir = os.path.join(directory, os.path.dirname(fname))\n",
    "        destfname = os.path.join(destdir, os.path.basename(fname))\n",
    "        try:\n",
    "            os.makedirs(destdir)\n",
    "        except FileExistsError:\n",
    "            pass\n",
    "        shutil.copy(fname, destfname)\n",
    "    with open(os.path.join(directory, md_fname), 'w') as fout:\n",
    "        fout.write(md)\n",
    "    print(\"exported in \", os.path.join(directory, md_fname))\n",
    "    [print(\"    + \" + os.path.join(directory,fk)) for fk in fig_fnames]"
   ]
  },
  {
   "cell_type": "code",
   "execution_count": 8,
   "id": "014d04a4",
   "metadata": {
    "execution": {
     "iopub.execute_input": "2022-10-14T05:17:36.014611Z",
     "iopub.status.busy": "2022-10-14T05:17:36.014157Z",
     "iopub.status.idle": "2022-10-14T05:17:36.020174Z",
     "shell.execute_reply": "2022-10-14T05:17:36.019436Z"
    },
    "papermill": {
     "duration": 0.018842,
     "end_time": "2022-10-14T05:17:36.021702",
     "exception": false,
     "start_time": "2022-10-14T05:17:36.002860",
     "status": "completed"
    },
    "tags": []
   },
   "outputs": [
    {
     "name": "stdout",
     "output_type": "stream",
     "text": [
      "exported in  _build/html/2210.06504.md\n",
      "    + _build/html/tmp_2210.06504/./laefig_ionized_denpost_linear_COSMOSNavg.png\n",
      "    + _build/html/tmp_2210.06504/./laefig_ionized_denpost_linear_LAGERNavg.png\n",
      "    + _build/html/tmp_2210.06504/./laefig_Fsurvive.png\n",
      "    + _build/html/tmp_2210.06504/./laefig_zetafcoll.png\n"
     ]
    }
   ],
   "source": [
    "for paper_id, md in documents:\n",
    "    export_markdown_summary(md, f\"{paper_id:s}.md\", '_build/html/')"
   ]
  },
  {
   "cell_type": "markdown",
   "id": "f087a0a7",
   "metadata": {
    "papermill": {
     "duration": 0.010194,
     "end_time": "2022-10-14T05:17:36.042158",
     "exception": false,
     "start_time": "2022-10-14T05:17:36.031964",
     "status": "completed"
    },
    "tags": []
   },
   "source": [
    "## Display the papers\n",
    "\n",
    "Not necessary but allows for a quick check."
   ]
  },
  {
   "cell_type": "code",
   "execution_count": 9,
   "id": "fd25f625",
   "metadata": {
    "execution": {
     "iopub.execute_input": "2022-10-14T05:17:36.064504Z",
     "iopub.status.busy": "2022-10-14T05:17:36.063496Z",
     "iopub.status.idle": "2022-10-14T05:17:36.069559Z",
     "shell.execute_reply": "2022-10-14T05:17:36.068845Z"
    },
    "papermill": {
     "duration": 0.019019,
     "end_time": "2022-10-14T05:17:36.071125",
     "exception": false,
     "start_time": "2022-10-14T05:17:36.052106",
     "status": "completed"
    },
    "scrolled": false,
    "tags": []
   },
   "outputs": [
    {
     "data": {
      "text/markdown": [
       "<div class=\"macros\" style=\"visibility:hidden;\">\n",
       "$\\newcommand{\\ensuremath}{}$\n",
       "$\\newcommand{\\xspace}{}$\n",
       "$\\newcommand{\\object}[1]{\\texttt{#1}}$\n",
       "$\\newcommand{\\farcs}{{.}''}$\n",
       "$\\newcommand{\\farcm}{{.}'}$\n",
       "$\\newcommand{\\arcsec}{''}$\n",
       "$\\newcommand{\\arcmin}{'}$\n",
       "$\\newcommand{\\ion}[2]{#1#2}$\n",
       "$\\newcommand{\\textsc}[1]{\\textrm{#1}}$\n",
       "$\\newcommand{\\hl}[1]{\\textrm{#1}}$\n",
       "$\\newcommand$\n",
       "$\\newcommand$\n",
       "$\\newcommand$\n",
       "$\\newcommand$\n",
       "$\\newcommand$\n",
       "$\\newcommand$\n",
       "$\\newcommand$\n",
       "$\\newcommand$\n",
       "$\\newcommand$\n",
       "$\\newcommand$\n",
       "$\\newcommand$\n",
       "$\\newcommand$\n",
       "$\\newcommand$\n",
       "$\\newcommand$\n",
       "$\\newcommand$\n",
       "$\\newcommand$\n",
       "$\\newcommand$\n",
       "$\\newcommand$\n",
       "$\\newcommand$\n",
       "$\\newcommand$\n",
       "$\\newcommand$\n",
       "$\\newcommand$\n",
       "$\\newcommand$\n",
       "$\\newcommand$\n",
       "$\\newcommand{\\thebibliography}{\\DeclareRobustCommand{\\VAN}[3]{##3}\\VANthebibliography}$</div>\n",
       "\n",
       "<div class=\"macros\" style=\"visibility:hidden;\">\n",
       "$\\newcommand{$\\ensuremath$}{}$\n",
       "$\\newcommand{$\\xspace$}{}$\n",
       "$\\newcommand{$\\object$}[1]{\\texttt{#1}}$\n",
       "$\\newcommand{$\\farcs$}{{.}''}$\n",
       "$\\newcommand{$\\farcm$}{{.}'}$\n",
       "$\\newcommand{$\\arcsec$}{''}$\n",
       "$\\newcommand{$\\arcmin$}{'}$\n",
       "$\\newcommand{$\\ion$}[2]{#1#2}$\n",
       "$\\newcommand{$\\textsc$}[1]{\\textrm{#1}}$\n",
       "$\\newcommand{$\\hl$}[1]{\\textrm{#1}}$\n",
       "$\\newcommand$\n",
       "$\\newcommand$\n",
       "$\\newcommand$\n",
       "$\\newcommand$\n",
       "$\\newcommand$\n",
       "$\\newcommand$\n",
       "$\\newcommand$\n",
       "$\\newcommand$\n",
       "$\\newcommand$\n",
       "$\\newcommand$\n",
       "$\\newcommand$\n",
       "$\\newcommand$\n",
       "$\\newcommand$\n",
       "$\\newcommand$\n",
       "$\\newcommand$\n",
       "$\\newcommand$\n",
       "$\\newcommand$\n",
       "$\\newcommand$\n",
       "$\\newcommand$\n",
       "$\\newcommand$\n",
       "$\\newcommand$\n",
       "$\\newcommand$\n",
       "$\\newcommand$\n",
       "$\\newcommand$\n",
       "$\\newcommand{$\\thebibliography$}{\\DeclareRobustCommand{\\VAN}[3]{##3}\\VANthebibliography}$</div>\n",
       "\n",
       "\n",
       "\n",
       "<div id=\"title\">\n",
       "\n",
       "#  Emitters in Ionized Bubbles: Constraining the Environment and Ionized Fraction\n",
       "\n",
       "</div>\n",
       "<div id=\"comments\">\n",
       "\n",
       "[![arXiv](https://img.shields.io/badge/arXiv-2210.06504-b31b1b.svg)](https://arxiv.org/abs/2210.06504)<mark>Appeared on: 2022-10-14</mark> - _14 pages, 14 figures, submitted to MNRAS_\n",
       "\n",
       "</div>\n",
       "<div id=\"authors\">\n",
       "\n",
       "A.C. Trapp, Steven R. Furlanetto, <mark><mark>Frederick B. Davies</mark></mark>\n",
       "\n",
       "</div>\n",
       "<div id=\"abstract\">\n",
       "\n",
       "**Abstract:** Lyman-alpha emitters (LAEs) are excellent probes of the reionization process, as they must be surrounded by large ionized bubbles in order to be visible during the reionization era. Large ionized regions are thought to correspond to over-dense regions and may beprotoclusters, making them interesting test-beds for early massive structures.Close associations containing several LAEs are often assumed to mark over-dense, ionized bubbles.Here, we develop the first framework to quantify the ionization and density fields of high-$z$galaxy associations.We explore the interplay between\\textit{(i)}the large-scale density of a survey field,\\textit{(ii)}Poisson noise due to the small number density of bright sources at high redshifts ($z \\sim$7), and\\textit{(iii)}the effects of the ionized fraction on the observation of LAEs.We use Bayesian statistics, a simple model of reionization, and a Monte-Carlo simulation to construct a more comprehensive method for calculating the large-scale density of LAE regions than previous works.We find that Poisson noise has a strong effect on the inferred density of a regionand show how the ionized fraction can be inferred. We then apply our framework to the strongest association yet identified: Hu et al. (2021) found 14 LAEs in a volume of$\\sim$50,000 cMpc$^3$inside the COSMOS field at$z \\sim7$. We show that this is most likely a 2.5$\\sigma$over-densityinside of an ionized or nearly ionized bubble. We also show that this LAE association implies that the global ionized fraction is$\\bar{Q} = 0.60^{+0.08}_{-0.09}$, within the context of a simple reionization model.\n",
       "\n",
       "</div>\n",
       "\n",
       "<div id=\"div_fig1\">\n",
       "\n",
       "<img src=\"tmp_2210.06504/./laefig_ionized_denpost_linear_COSMOSNavg.png\" alt=\"Fig13.1\" width=\"50%\"/><img src=\"tmp_2210.06504/./laefig_ionized_denpost_linear_LAGERNavg.png\" alt=\"Fig13.2\" width=\"50%\"/>\n",
       "\n",
       "**Figure 13. -** \n",
       "    The inferred density  for the \\citet{Hu2021} volume, assuming no effect from reionization.  \\emph{Left:} The \\textit{magenta curve} shows the posterior of the linear density, which has 68.27\\% credible interval\n",
       "    $\\delta = 0.17 \\pm 0.05$, taking the average source density from the COSMOS field alone.\n",
       "    The vertical dashed \\textit{black} line indicates the approximate density required for this region to virialize by $z = $ 0, $\\delta_{\\textrm{pc}} = 0.27$, which is disfavored by the posterior. The vertical dashed \\textit{orange} line shows the density estimate of \\citet{Hu2021}.\n",
       "    The \\textit{red and blue} curves show the likelihood and prior, respectively;\n",
       "    we are in the prior-dominated regime, given the likelihood's large breadth.\n",
       "    The likelihood and prior are very far apart, indicating that this volume is a rare find; we show in the text that\n",
       "    the probability of finding at least one such region in a larger survey of 20 similar volumes (the COSMOS field) is 0.11\\%. \\emph{Right:} Same, but using the $\\Nexpavg$ value from all 4 LAGER fields. The inferred density increases from $\\delta = 0.17 \\rightarrow 0.19$. The probability of finding at least one such region in a larger survey of 118 similar volumes (all 4 LAGER fields) drops to 0.01\\%. (*lae_fig:HuPost_COSMOS*)\n",
       "\n",
       "</div>\n",
       "<div id=\"div_fig2\">\n",
       "\n",
       "<img src=\"tmp_2210.06504/./laefig_Fsurvive.png\" alt=\"Fig4\" width=\"100%\"/>\n",
       "\n",
       "**Figure 4. -** \n",
       "    The fraction of LAEs that are visible $\\Fsurvavg$ as a function of average ionization fraction $\\bar{Q}$ for various bias values.\n",
       "    Higher bias values result in a larger fraction of all LAEs being visible for a given ionization fraction of the Universe.\n",
       "    The \\textit{red} line shows the total ionizing photon production rate $\\zeta \\cdot f_{\\textrm{coll,avg}}$, for which a value above the line $x=y$ means photons are escaping their host galaxies but being absorbed before contributing to reionization. The most over-dense $R_\\alpha$ regions are overproducing photons but can't help their neighbors reionize. This effect is only large when the Universe is mostly reionized. (*lae_fig:Fsurvive*)\n",
       "\n",
       "</div>\n",
       "<div id=\"div_fig3\">\n",
       "\n",
       "<img src=\"tmp_2210.06504/./laefig_zetafcoll.png\" alt=\"Fig3\" width=\"100%\"/>\n",
       "\n",
       "**Figure 3. -** \n",
       "    Properties of our simple reionization model. The\n",
       "    \\textit{red} curve shows the ionizing efficiency required to ionize an independent region as a function of its collapse fraction (see eq. \\ref{lae_eq:Qzetafcoll}).\n",
       "    The \\textit{blue} curve shows $p(f_{\\textrm{coll}}|R=R_\\alpha)$, the (un-normalized) probability distribution of collapse fractions for regions of size $R = R_\\alpha$. The \\textit{black dashed} curve shows the  average collapse fraction at $z=$ 7. (*lae_fig:zetafcoll*)\n",
       "\n",
       "</div>"
      ],
      "text/plain": [
       "<IPython.core.display.Markdown object>"
      ]
     },
     "metadata": {},
     "output_type": "display_data"
    }
   ],
   "source": [
    "[display(Markdown(k[1])) for k in documents];"
   ]
  },
  {
   "cell_type": "markdown",
   "id": "873873a4",
   "metadata": {
    "papermill": {
     "duration": 0.010385,
     "end_time": "2022-10-14T05:17:36.091938",
     "exception": false,
     "start_time": "2022-10-14T05:17:36.081553",
     "status": "completed"
    },
    "tags": []
   },
   "source": [
    "# Create HTML index"
   ]
  },
  {
   "cell_type": "code",
   "execution_count": 10,
   "id": "cf665672",
   "metadata": {
    "execution": {
     "iopub.execute_input": "2022-10-14T05:17:36.114265Z",
     "iopub.status.busy": "2022-10-14T05:17:36.113657Z",
     "iopub.status.idle": "2022-10-14T05:17:36.123178Z",
     "shell.execute_reply": "2022-10-14T05:17:36.122415Z"
    },
    "papermill": {
     "duration": 0.022577,
     "end_time": "2022-10-14T05:17:36.124721",
     "exception": false,
     "start_time": "2022-10-14T05:17:36.102144",
     "status": "completed"
    },
    "tags": []
   },
   "outputs": [
    {
     "name": "stdout",
     "output_type": "stream",
     "text": [
      "63  publications in the last 7 days.\n",
      "\t _build/html/2210.06504.md\n",
      "\t _build/html/2210.05695.md\n",
      "\t _build/html/2210.05595.md\n",
      "\t _build/html/2210.05505.md\n",
      "\t _build/html/2210.04721.md\n",
      "\t _build/html/2210.03615.md\n",
      "\t _build/html/2210.01811.md\n",
      "\t _build/html/2210.01809.md\n",
      "\t _build/html/2210.01556.md\n",
      "\t _build/html/2210.00863.md\n",
      "\t _build/html/2210.00560.md\n",
      "\t _build/html/2209.15403.md\n",
      "\t _build/html/2209.15110.md\n",
      "\t _build/html/2209.14410.md\n",
      "\t _build/html/2209.14396.md\n",
      "\t _build/html/2209.13717.md\n",
      "\t _build/html/2209.13336.md\n",
      "\t _build/html/2209.12906.md\n",
      "\t _build/html/2209.11781.md\n",
      "\t _build/html/2209.11602.md\n",
      "\t _build/html/2209.11248.md\n",
      "\t _build/html/2209.11096.md\n",
      "\t _build/html/2209.10618.md\n",
      "\t _build/html/2209.09914.md\n",
      "\t _build/html/2209.09823.md\n",
      "\t _build/html/2209.08242.md\n",
      "\t _build/html/2209.08120.md\n",
      "\t _build/html/2209.08106.md\n",
      "\t _build/html/2209.07962.md\n",
      "\t _build/html/2209.07931.md\n",
      "\t _build/html/2209.06833.md\n",
      "\t _build/html/2209.05814.md\n",
      "\t _build/html/2209.05593.md\n",
      "\t _build/html/2209.04304.md\n",
      "\t _build/html/2209.03367.md\n",
      "\t _build/html/2209.02872.md\n",
      "\t _build/html/2209.02725.md\n",
      "\t _build/html/2209.02722.md\n",
      "\t _build/html/2209.02092.md\n",
      "\t _build/html/2209.01125.md\n",
      "\t _build/html/2209.00828.md\n",
      "\t _build/html/2209.00363.md\n",
      "\t _build/html/2208.14927.md\n",
      "\t _build/html/2208.09335.md\n",
      "\t _build/html/2208.08872.md\n",
      "\t _build/html/2204.06393.md\n",
      "\t _build/html/2204.03335.md\n",
      "\t _build/html/2204.03253.md\n",
      "\t _build/html/2204.02998.md\n",
      "\t _build/html/2204.02109.md\n",
      "\t _build/html/2204.02017.md\n",
      "\t _build/html/2204.01824.md\n",
      "\t _build/html/2204.01758.md\n",
      "\t _build/html/2204.01245.md\n",
      "\t _build/html/2204.00793.md\n",
      "\t _build/html/2204.00342.md\n",
      "\t _build/html/2203.16959.md\n",
      "\t _build/html/2203.16856.md\n",
      "\t _build/html/2203.16735.md\n",
      "\t _build/html/2203.16734.md\n",
      "\t _build/html/2203.16504.md\n",
      "\t _build/html/2203.15822.md\n",
      "\t _build/html/2203.15811.md\n"
     ]
    }
   ],
   "source": [
    "from datetime import datetime, timedelta, timezone\n",
    "from glob import glob\n",
    "\n",
    "files = glob('_build/html/*.md')\n",
    "days = 7\n",
    "now = datetime.today()\n",
    "res = []\n",
    "for fk in files:\n",
    "    stat_result = os.stat(fk).st_ctime\n",
    "    modified = datetime.fromtimestamp(stat_result, tz=timezone.utc).replace(tzinfo=None)\n",
    "    delta = now.today() - modified\n",
    "    if delta <= timedelta(days=days):\n",
    "        res.append((delta.seconds, fk))\n",
    "res = [k[1] for k in reversed(sorted(res, key=lambda x:x[1]))]\n",
    "npub = len(res)\n",
    "print(len(res), f\" publications in the last {days:d} days.\")\n",
    "[ print('\\t', k) for k in res ];"
   ]
  },
  {
   "cell_type": "code",
   "execution_count": 11,
   "id": "52ca0208",
   "metadata": {
    "execution": {
     "iopub.execute_input": "2022-10-14T05:17:36.147584Z",
     "iopub.status.busy": "2022-10-14T05:17:36.147035Z",
     "iopub.status.idle": "2022-10-14T05:17:36.153649Z",
     "shell.execute_reply": "2022-10-14T05:17:36.152993Z"
    },
    "papermill": {
     "duration": 0.019796,
     "end_time": "2022-10-14T05:17:36.155230",
     "exception": false,
     "start_time": "2022-10-14T05:17:36.135434",
     "status": "completed"
    },
    "scrolled": false,
    "tags": []
   },
   "outputs": [],
   "source": [
    "def create_carousel(npub=4):\n",
    "    \"\"\" Generate the HTML code for a carousel with `npub` slides \"\"\"\n",
    "    carousel = [\"\"\"<section class=\"carousel\" aria-label=\"Gallery\">\"\"\",\n",
    "                \"\"\"  <ol class=\"carousel__viewport\">\"\"\",\n",
    "    ]\n",
    "    for k in range(1, npub + 1):\n",
    "        prev_ = k - 1\n",
    "        next_ = k + 1\n",
    "        if prev_ <= 0:\n",
    "            prev_ = npub\n",
    "        if next_ > npub:\n",
    "            next_ = 1\n",
    "        text  = f\"\"\"    <li id=\"carousel__slide{k}\" tabindex=\"0\" class=\"carousel__slide\">\\n\"\"\"\n",
    "        text += f\"\"\"       <div class=\"carousel__snapper\">\\n\"\"\"\n",
    "        text += f\"\"\"         <a href=\"#carousel__slide{prev_}\" class=\"carousel__prev\">Go to previous slide</a>\\n\"\"\"\n",
    "        text += f\"\"\"         <a href=\"#carousel__slide{next_}\" class=\"carousel__next\">Go to next slide</a>\\n\"\"\"\n",
    "        text += f\"\"\"         <div id=\"slide{k}_content\" class=\"md_view\" >Content {k}</div>\\n\"\"\"\n",
    "        text += f\"\"\"       </div>\\n\"\"\"\n",
    "        text += f\"\"\"    </li>\"\"\"\n",
    "        carousel.append(text)\n",
    "\n",
    "    carousel.extend([\n",
    "        \"\"\"  </ol>\"\"\",\n",
    "        \"\"\"  <aside class=\"carousel__navigation\">\"\"\",\n",
    "        \"\"\"    <ol class=\"carousel__navigation-list\">\"\"\"])\n",
    "\n",
    "    for k in range(1, npub + 1):\n",
    "        text  = f\"\"\"      <li class=\"carousel__navigation-item\">\\n\"\"\"\n",
    "        text += f\"\"\"        <a href=\"#carousel__slide{k}\" class=\"carousel__navigation-button\">Go to {k}</a>\\n\"\"\"\n",
    "        text += f\"\"\"      </li>\"\"\"\n",
    "        carousel.append(text)\n",
    "    carousel.extend([\"\"\"    </ol>\"\"\", \"\"\"  </aside>\"\"\", \"\"\"</section>\"\"\"])\n",
    "\n",
    "    return '\\n'.join(carousel)"
   ]
  },
  {
   "cell_type": "code",
   "execution_count": 12,
   "id": "a6eac5b6",
   "metadata": {
    "execution": {
     "iopub.execute_input": "2022-10-14T05:17:36.211929Z",
     "iopub.status.busy": "2022-10-14T05:17:36.211366Z",
     "iopub.status.idle": "2022-10-14T05:17:36.219787Z",
     "shell.execute_reply": "2022-10-14T05:17:36.219087Z"
    },
    "papermill": {
     "duration": 0.055966,
     "end_time": "2022-10-14T05:17:36.221768",
     "exception": false,
     "start_time": "2022-10-14T05:17:36.165802",
     "status": "completed"
    },
    "scrolled": false,
    "tags": []
   },
   "outputs": [],
   "source": [
    "carousel = create_carousel(npub)\n",
    "docs = ', '.join(['\"{0:s}\"'.format(k.split('/')[-1]) for k in res])\n",
    "slides = ', '.join([f'\"slide{k}_content\"' for k in range(1, npub + 1)])\n",
    "\n",
    "script = f\"\"\"\n",
    "const docs = [{docs}]\n",
    "\n",
    "const slides = [{slides}]\n",
    "\"\"\" + \"\"\"\n",
    "async function run() {\n",
    "    for (let i = 0; i < docs.length; i++) {\n",
    "        let file = await fetch(docs[i]);\n",
    "        let text = await file.text()\n",
    "        document.getElementById(slides[i]).innerHTML =\n",
    "            marked.parse(text);\n",
    "    }\n",
    "    hljs.highlightAll();\n",
    "}\n",
    "run()\n",
    "\"\"\"\n",
    "\n",
    "page = f\"\"\"<!doctype html>\n",
    "<html lang=\"en\">\n",
    "\n",
    "<head>\n",
    "  <meta charset=\"utf-8\">\n",
    "  <meta name=\"viewport\" content=\"width=device-width, initial-scale=1\">\n",
    "  <!-- Bootstrap CSS -->\n",
    "  <link href=\"https://cdn.jsdelivr.net/npm/bootstrap@5.0.2/dist/css/bootstrap.min.css\" rel=\"stylesheet\"\n",
    "   integrity=\"sha384-EVSTQN3/azprG1Anm3QDgpJLIm9Nao0Yz1ztcQTwFspd3yD65VohhpuuCOmLASjC\" crossorigin=\"anonymous\">\n",
    "  <!-- highlight.js CSS -->\n",
    "  <link rel=\"stylesheet\" href=\"https://cdnjs.cloudflare.com/ajax/libs/highlight.js/11.1.0/styles/default.min.css\">\n",
    "  <!-- Mathjax 3 -->\n",
    "  <script type=\"text/javascript\" id=\"MathJax-config\" src=\"mathjax_config.js\"> </script>\n",
    "  <script type=\"text/javascript\" id=\"MathJax-script\" async \n",
    "    src=\"https://cdn.jsdelivr.net/npm/mathjax@3/es5/tex-mml-chtml.js\">\n",
    "  </script>\n",
    "  <link rel=\"stylesheet\" href=\"index_carousel.css\">\n",
    "  <link rel=\"icon\" type=\"image/x-icon\" href=\"https://www.mpia.de/assets/touch-icon-32x32-a66937bcebc4e8894ebff1f41a366c7c7220fd97a38869ee0f2db65a9f59b6c1.png\">\n",
    "  <title>MPIA Arxiv on deck!</title>\n",
    "</head>\n",
    "\n",
    "<body>\n",
    "  <div id=\"header\"> <img src=\"header_banner.png\" width=\"100%\"></div>\n",
    "  <div id=\"suptitle\"> 7-day archives </div>\n",
    "  <div id=\"info\">\n",
    "    <img src=\"https://pngimg.com/uploads/github/github_PNG58.png\" height=30rem></img>\n",
    "    <a href=https://github.com/mpi-astronomy/arxiv_display style=\"color:black;\">github/mpi-astronomy/arxiv_display</a> \n",
    "  </div>\n",
    "  {carousel:s}\n",
    "</body>\n",
    "\n",
    "<!-- Render Markdown -->\n",
    "\n",
    "<body>\n",
    "  <!-- highlight.js: https://highlightjs.org/download/ -->\n",
    "  <script src=\"https://cdnjs.cloudflare.com/ajax/libs/highlight.js/11.5.0/highlight.min.js\"></script>\n",
    "  <!-- marked.js -->\n",
    "  <script src=\"https://cdn.jsdelivr.net/npm/marked/marked.min.js\"></script>\n",
    "  <script>{script:s}</script>\n",
    "</body>\n",
    "</html>\n",
    "\"\"\"\n",
    "with open(\"_build/html/index_7days.html\", 'w') as fout:\n",
    "    fout.write(page)"
   ]
  },
  {
   "cell_type": "markdown",
   "id": "1cebacbc",
   "metadata": {
    "papermill": {
     "duration": 0.010684,
     "end_time": "2022-10-14T05:17:36.243086",
     "exception": false,
     "start_time": "2022-10-14T05:17:36.232402",
     "status": "completed"
    },
    "tags": []
   },
   "source": [
    "# Debugging papers"
   ]
  },
  {
   "cell_type": "raw",
   "id": "debe7cc6",
   "metadata": {
    "papermill": {
     "duration": 0.010577,
     "end_time": "2022-10-14T05:17:36.264363",
     "exception": false,
     "start_time": "2022-10-14T05:17:36.253786",
     "status": "completed"
    },
    "tags": []
   },
   "source": [
    "raise NotImplementedError(\"Manual Stop\")"
   ]
  },
  {
   "cell_type": "raw",
   "id": "eb169192",
   "metadata": {
    "papermill": {
     "duration": 0.010537,
     "end_time": "2022-10-14T05:17:36.285360",
     "exception": false,
     "start_time": "2022-10-14T05:17:36.274823",
     "status": "completed"
    },
    "scrolled": true,
    "tags": []
   },
   "source": [
    "from IPython.display import display, Markdown\n",
    "from TexSoup import TexSoup\n",
    "import re\n",
    "\n",
    "def bracket_error(source: str):\n",
    "    \"\"\" Find problematic portions of the document \"\"\"\n",
    "    \n",
    "    print(\"len(source)\", len(source))\n",
    "    \n",
    "    # Checking header\n",
    "    begin_doc = next(re.finditer(r'\\\\begin\\{document\\}', doc.source)).span()[1]\n",
    "    header = source[:begin_doc]\n",
    "    text = header + r\"\\n\\end{document}\"\n",
    "\n",
    "    try:\n",
    "        # print(\"Header check... \", end='')\n",
    "        TexSoup(text)\n",
    "        display(Markdown(f\"**[OK]** - Header\"))\n",
    "    except:\n",
    "        raise RuntimeError(\"Error in the header\")\n",
    "        \n",
    "    # Check the text per section until the end.\n",
    "    # Do not stop and try them all.\n",
    "    \n",
    "    problematic_text = []\n",
    "    \n",
    "    sections = ([(0, begin_doc, 'until first section')] + \n",
    "                [(g.span()[0], g.span()[1], g.group()) for g in re.finditer(r'\\\\section\\{.*\\}', source)] +\n",
    "                [(g.span()[0], g.span()[1], g.group()) for g in re.finditer(r'\\\\begin\\{appendix\\}', source)]\n",
    "               )\n",
    "    sections.append([len(source), len(source), 'end'])\n",
    "    \n",
    "    sections = sorted(sections, key=lambda x: x[0])\n",
    "    \n",
    "    prev_pos, prev_name = (0, 'header')\n",
    "    parsed = []\n",
    "    \n",
    "    for span, span_end, name in sections:\n",
    "\n",
    "        if span - prev_pos <= 0:\n",
    "            continue\n",
    "            \n",
    "\n",
    "        text = source[prev_pos:span]\n",
    "        if prev_pos > begin_doc:\n",
    "            text = r\"\\n\\begin{document}\" + text + r\"\\n\\end{document}\"\n",
    "        else:\n",
    "            text = text + r\"\\n\\end{document}\"\n",
    "        try:\n",
    "            #print(f\"{prev_pos}:{prev_name}-->{span}:{name} check... \", end='')\n",
    "            parsed.append(TexSoup(text, tolerance=1))  # allow not ending env\n",
    "            display(Markdown(f\"**[OK]** - *{prev_pos}*:{prev_name} &rarr; *{span}*:{name}\"))\n",
    "            # print(\"ok\")\n",
    "\n",
    "            prev_pos = span\n",
    "            prev_name = name\n",
    "        except:\n",
    "            # print(f\"error between {prev_pos} and {span}\")\n",
    "            display(Markdown(f\"**[ERR]** *{prev_pos}*:{prev_name} &rarr; *{span}*:{name}\"))\n",
    "            problematic_text.append((prev_pos, source[prev_pos:span]))\n",
    "            prev_pos = span\n",
    "            prev_name = name\n",
    "            # raise\n",
    "    return problematic_text, parsed\n",
    "\n",
    "\n",
    "def check_environment(text, offset=0):\n",
    "    \"\"\" Check environment \"\"\"\n",
    "    env = re.compile(r\"\\\\begin\\{(?P<env>.*)\\}(.*)\\\\end\\{(?P=env)\\}\", re.DOTALL)\n",
    "\n",
    "    for match in env.finditer(text):\n",
    "        beg, end = match.span()\n",
    "        beg += offset\n",
    "        end += offset\n",
    "        envname = match.groups()[0]\n",
    "        try:\n",
    "            latex.TexSoup(match.group())\n",
    "        except Exception as e:\n",
    "            display(e)\n",
    "            print(f\"Error in {envname:s} between {beg} and {end}\")\n",
    "            return match.groups()[1], beg, end"
   ]
  },
  {
   "cell_type": "raw",
   "id": "2315e835",
   "metadata": {
    "papermill": {
     "duration": 0.010431,
     "end_time": "2022-10-14T05:17:36.306337",
     "exception": false,
     "start_time": "2022-10-14T05:17:36.295906",
     "status": "completed"
    },
    "scrolled": false,
    "tags": []
   },
   "source": [
    "import importlib\n",
    "importlib.reload(latex)\n",
    "which = \"2204.03253\"\n",
    "paper_id = f'{which:s}'\n",
    "folder = f'tmp_{paper_id:s}'\n",
    "\n",
    "if not os.path.isdir(folder):\n",
    "    folder = retrieve_document_source(f\"{paper_id}\", f'tmp_{paper_id}')\n",
    "\n",
    "try:\n",
    "    doc = latex.LatexDocument(folder, validation=validation)    \n",
    "except AffiliationError as affilerror:\n",
    "    msg = f\"ArXiv:{paper_id:s} is not an MPIA paper... \" + str(affilerror)\n",
    "    print(msg)\n",
    "\n",
    "\n",
    "# Hack because sometimes author parsing does not work well\n",
    "if (len(doc.authors) != len(paper['authors'])):\n",
    "    doc._authors = paper['authors']\n",
    "if (doc.abstract) in (None, ''):\n",
    "    doc._abstract = paper['abstract']\n",
    "\n",
    "doc.comment = get_markdown_badge(paper_id) + \" _\" + paper['comments'] + \"_\"\n",
    "doc.highlight_authors_in_list(hl_list)\n",
    "\n",
    "full_md = doc.generate_markdown_text()"
   ]
  },
  {
   "cell_type": "raw",
   "id": "dd3781db",
   "metadata": {
    "papermill": {
     "duration": 0.010484,
     "end_time": "2022-10-14T05:17:36.327195",
     "exception": false,
     "start_time": "2022-10-14T05:17:36.316711",
     "status": "completed"
    },
    "scrolled": false,
    "tags": []
   },
   "source": [
    "doc"
   ]
  },
  {
   "cell_type": "raw",
   "id": "c6eed834",
   "metadata": {
    "papermill": {
     "duration": 0.010675,
     "end_time": "2022-10-14T05:17:36.348202",
     "exception": false,
     "start_time": "2022-10-14T05:17:36.337527",
     "status": "completed"
    },
    "tags": []
   },
   "source": [
    "# [check_environment(k) for k in bracket_error(doc.source)]\n",
    "_, _, a = latex.get_content_per_section(doc.source, verbose=True)\n",
    "if not a:\n",
    "    print(\"no issues per section\")\n",
    "for ak in a:\n",
    "    r = check_environment(ak[1], offset=ak[0])\n",
    "    print(r[1], r[2])\n",
    "    print(r[0])"
   ]
  },
  {
   "cell_type": "code",
   "execution_count": null,
   "id": "71ce768a",
   "metadata": {
    "papermill": {
     "duration": 0.01039,
     "end_time": "2022-10-14T05:17:36.369168",
     "exception": false,
     "start_time": "2022-10-14T05:17:36.358778",
     "status": "completed"
    },
    "tags": []
   },
   "outputs": [],
   "source": []
  }
 ],
 "metadata": {
  "kernelspec": {
   "display_name": "Python 3.10.6 64-bit",
   "language": "python",
   "name": "python3"
  },
  "language_info": {
   "codemirror_mode": {
    "name": "ipython",
    "version": 3
   },
   "file_extension": ".py",
   "mimetype": "text/x-python",
   "name": "python",
   "nbconvert_exporter": "python",
   "pygments_lexer": "ipython3",
   "version": "3.9.14"
  },
  "papermill": {
   "default_parameters": {},
   "duration": 108.498463,
   "end_time": "2022-10-14T05:17:36.597317",
   "environment_variables": {},
   "exception": null,
   "input_path": "MPIA daily digest.ipynb",
   "output_path": "log.ipynb",
   "parameters": {},
   "start_time": "2022-10-14T05:15:48.098854",
   "version": "2.4.0"
  },
  "vscode": {
   "interpreter": {
    "hash": "e7370f93d1d0cde622a1f8e1c04877d8463912d04d973331ad4851f04de6915a"
   }
  },
  "widgets": {
   "application/vnd.jupyter.widget-state+json": {
    "state": {
     "40992821eafe4e3ba4b96d159b6d665d": {
      "model_module": "@jupyter-widgets/controls",
      "model_module_version": "2.0.0",
      "model_name": "HTMLModel",
      "state": {
       "_dom_classes": [],
       "_model_module": "@jupyter-widgets/controls",
       "_model_module_version": "2.0.0",
       "_model_name": "HTMLModel",
       "_view_count": null,
       "_view_module": "@jupyter-widgets/controls",
       "_view_module_version": "2.0.0",
       "_view_name": "HTMLView",
       "description": "",
       "description_allow_html": false,
       "layout": "IPY_MODEL_6733fec8263a4bc9945624ecf90d7944",
       "placeholder": "​",
       "style": "IPY_MODEL_59811d29aae84330b1da7e98077480fc",
       "tabbable": null,
       "tooltip": null,
       "value": " 25/25 [01:19&lt;00:00,  2.65s/it]"
      }
     },
     "59811d29aae84330b1da7e98077480fc": {
      "model_module": "@jupyter-widgets/controls",
      "model_module_version": "2.0.0",
      "model_name": "HTMLStyleModel",
      "state": {
       "_model_module": "@jupyter-widgets/controls",
       "_model_module_version": "2.0.0",
       "_model_name": "HTMLStyleModel",
       "_view_count": null,
       "_view_module": "@jupyter-widgets/base",
       "_view_module_version": "2.0.0",
       "_view_name": "StyleView",
       "background": null,
       "description_width": "",
       "font_size": null,
       "text_color": null
      }
     },
     "6733fec8263a4bc9945624ecf90d7944": {
      "model_module": "@jupyter-widgets/base",
      "model_module_version": "2.0.0",
      "model_name": "LayoutModel",
      "state": {
       "_model_module": "@jupyter-widgets/base",
       "_model_module_version": "2.0.0",
       "_model_name": "LayoutModel",
       "_view_count": null,
       "_view_module": "@jupyter-widgets/base",
       "_view_module_version": "2.0.0",
       "_view_name": "LayoutView",
       "align_content": null,
       "align_items": null,
       "align_self": null,
       "border_bottom": null,
       "border_left": null,
       "border_right": null,
       "border_top": null,
       "bottom": null,
       "display": null,
       "flex": null,
       "flex_flow": null,
       "grid_area": null,
       "grid_auto_columns": null,
       "grid_auto_flow": null,
       "grid_auto_rows": null,
       "grid_column": null,
       "grid_gap": null,
       "grid_row": null,
       "grid_template_areas": null,
       "grid_template_columns": null,
       "grid_template_rows": null,
       "height": null,
       "justify_content": null,
       "justify_items": null,
       "left": null,
       "margin": null,
       "max_height": null,
       "max_width": null,
       "min_height": null,
       "min_width": null,
       "object_fit": null,
       "object_position": null,
       "order": null,
       "overflow": null,
       "padding": null,
       "right": null,
       "top": null,
       "visibility": null,
       "width": null
      }
     },
     "80fba2d31acc4431abed499134e06da4": {
      "model_module": "@jupyter-widgets/controls",
      "model_module_version": "2.0.0",
      "model_name": "HTMLStyleModel",
      "state": {
       "_model_module": "@jupyter-widgets/controls",
       "_model_module_version": "2.0.0",
       "_model_name": "HTMLStyleModel",
       "_view_count": null,
       "_view_module": "@jupyter-widgets/base",
       "_view_module_version": "2.0.0",
       "_view_name": "StyleView",
       "background": null,
       "description_width": "",
       "font_size": null,
       "text_color": null
      }
     },
     "8ec7907618674f00ad6825f55fa0c9d0": {
      "model_module": "@jupyter-widgets/controls",
      "model_module_version": "2.0.0",
      "model_name": "FloatProgressModel",
      "state": {
       "_dom_classes": [],
       "_model_module": "@jupyter-widgets/controls",
       "_model_module_version": "2.0.0",
       "_model_name": "FloatProgressModel",
       "_view_count": null,
       "_view_module": "@jupyter-widgets/controls",
       "_view_module_version": "2.0.0",
       "_view_name": "ProgressView",
       "bar_style": "success",
       "description": "",
       "description_allow_html": false,
       "layout": "IPY_MODEL_c7a1ce185f284be1adae7ab9df6c8dc1",
       "max": 25.0,
       "min": 0.0,
       "orientation": "horizontal",
       "style": "IPY_MODEL_a98dcdd4fb354ff495499a8045c78992",
       "tabbable": null,
       "tooltip": null,
       "value": 25.0
      }
     },
     "a275479fbe12414497d95f0461441972": {
      "model_module": "@jupyter-widgets/controls",
      "model_module_version": "2.0.0",
      "model_name": "HBoxModel",
      "state": {
       "_dom_classes": [],
       "_model_module": "@jupyter-widgets/controls",
       "_model_module_version": "2.0.0",
       "_model_name": "HBoxModel",
       "_view_count": null,
       "_view_module": "@jupyter-widgets/controls",
       "_view_module_version": "2.0.0",
       "_view_name": "HBoxView",
       "box_style": "",
       "children": [
        "IPY_MODEL_c77a7bd03e3f4b4097249100f56f85b6",
        "IPY_MODEL_8ec7907618674f00ad6825f55fa0c9d0",
        "IPY_MODEL_40992821eafe4e3ba4b96d159b6d665d"
       ],
       "layout": "IPY_MODEL_e1fd81c27abc4079851be9d58fcb2c45",
       "tabbable": null,
       "tooltip": null
      }
     },
     "a98dcdd4fb354ff495499a8045c78992": {
      "model_module": "@jupyter-widgets/controls",
      "model_module_version": "2.0.0",
      "model_name": "ProgressStyleModel",
      "state": {
       "_model_module": "@jupyter-widgets/controls",
       "_model_module_version": "2.0.0",
       "_model_name": "ProgressStyleModel",
       "_view_count": null,
       "_view_module": "@jupyter-widgets/base",
       "_view_module_version": "2.0.0",
       "_view_name": "StyleView",
       "bar_color": null,
       "description_width": ""
      }
     },
     "c77a7bd03e3f4b4097249100f56f85b6": {
      "model_module": "@jupyter-widgets/controls",
      "model_module_version": "2.0.0",
      "model_name": "HTMLModel",
      "state": {
       "_dom_classes": [],
       "_model_module": "@jupyter-widgets/controls",
       "_model_module_version": "2.0.0",
       "_model_name": "HTMLModel",
       "_view_count": null,
       "_view_module": "@jupyter-widgets/controls",
       "_view_module_version": "2.0.0",
       "_view_name": "HTMLView",
       "description": "",
       "description_allow_html": false,
       "layout": "IPY_MODEL_d95429b90eed47e59656f428bf1f688a",
       "placeholder": "​",
       "style": "IPY_MODEL_80fba2d31acc4431abed499134e06da4",
       "tabbable": null,
       "tooltip": null,
       "value": "100%"
      }
     },
     "c7a1ce185f284be1adae7ab9df6c8dc1": {
      "model_module": "@jupyter-widgets/base",
      "model_module_version": "2.0.0",
      "model_name": "LayoutModel",
      "state": {
       "_model_module": "@jupyter-widgets/base",
       "_model_module_version": "2.0.0",
       "_model_name": "LayoutModel",
       "_view_count": null,
       "_view_module": "@jupyter-widgets/base",
       "_view_module_version": "2.0.0",
       "_view_name": "LayoutView",
       "align_content": null,
       "align_items": null,
       "align_self": null,
       "border_bottom": null,
       "border_left": null,
       "border_right": null,
       "border_top": null,
       "bottom": null,
       "display": null,
       "flex": null,
       "flex_flow": null,
       "grid_area": null,
       "grid_auto_columns": null,
       "grid_auto_flow": null,
       "grid_auto_rows": null,
       "grid_column": null,
       "grid_gap": null,
       "grid_row": null,
       "grid_template_areas": null,
       "grid_template_columns": null,
       "grid_template_rows": null,
       "height": null,
       "justify_content": null,
       "justify_items": null,
       "left": null,
       "margin": null,
       "max_height": null,
       "max_width": null,
       "min_height": null,
       "min_width": null,
       "object_fit": null,
       "object_position": null,
       "order": null,
       "overflow": null,
       "padding": null,
       "right": null,
       "top": null,
       "visibility": null,
       "width": null
      }
     },
     "d95429b90eed47e59656f428bf1f688a": {
      "model_module": "@jupyter-widgets/base",
      "model_module_version": "2.0.0",
      "model_name": "LayoutModel",
      "state": {
       "_model_module": "@jupyter-widgets/base",
       "_model_module_version": "2.0.0",
       "_model_name": "LayoutModel",
       "_view_count": null,
       "_view_module": "@jupyter-widgets/base",
       "_view_module_version": "2.0.0",
       "_view_name": "LayoutView",
       "align_content": null,
       "align_items": null,
       "align_self": null,
       "border_bottom": null,
       "border_left": null,
       "border_right": null,
       "border_top": null,
       "bottom": null,
       "display": null,
       "flex": null,
       "flex_flow": null,
       "grid_area": null,
       "grid_auto_columns": null,
       "grid_auto_flow": null,
       "grid_auto_rows": null,
       "grid_column": null,
       "grid_gap": null,
       "grid_row": null,
       "grid_template_areas": null,
       "grid_template_columns": null,
       "grid_template_rows": null,
       "height": null,
       "justify_content": null,
       "justify_items": null,
       "left": null,
       "margin": null,
       "max_height": null,
       "max_width": null,
       "min_height": null,
       "min_width": null,
       "object_fit": null,
       "object_position": null,
       "order": null,
       "overflow": null,
       "padding": null,
       "right": null,
       "top": null,
       "visibility": null,
       "width": null
      }
     },
     "e1fd81c27abc4079851be9d58fcb2c45": {
      "model_module": "@jupyter-widgets/base",
      "model_module_version": "2.0.0",
      "model_name": "LayoutModel",
      "state": {
       "_model_module": "@jupyter-widgets/base",
       "_model_module_version": "2.0.0",
       "_model_name": "LayoutModel",
       "_view_count": null,
       "_view_module": "@jupyter-widgets/base",
       "_view_module_version": "2.0.0",
       "_view_name": "LayoutView",
       "align_content": null,
       "align_items": null,
       "align_self": null,
       "border_bottom": null,
       "border_left": null,
       "border_right": null,
       "border_top": null,
       "bottom": null,
       "display": null,
       "flex": null,
       "flex_flow": null,
       "grid_area": null,
       "grid_auto_columns": null,
       "grid_auto_flow": null,
       "grid_auto_rows": null,
       "grid_column": null,
       "grid_gap": null,
       "grid_row": null,
       "grid_template_areas": null,
       "grid_template_columns": null,
       "grid_template_rows": null,
       "height": null,
       "justify_content": null,
       "justify_items": null,
       "left": null,
       "margin": null,
       "max_height": null,
       "max_width": null,
       "min_height": null,
       "min_width": null,
       "object_fit": null,
       "object_position": null,
       "order": null,
       "overflow": null,
       "padding": null,
       "right": null,
       "top": null,
       "visibility": null,
       "width": null
      }
     }
    },
    "version_major": 2,
    "version_minor": 0
   }
  }
 },
 "nbformat": 4,
 "nbformat_minor": 5
}