{
 "cells": [
  {
   "cell_type": "markdown",
   "id": "92bcb855",
   "metadata": {
    "papermill": {
     "duration": 0.003744,
     "end_time": "2025-06-13T04:19:30.227259",
     "exception": false,
     "start_time": "2025-06-13T04:19:30.223515",
     "status": "completed"
    },
    "tags": []
   },
   "source": [
    "# MPIA Arxiv on Deck 2\n",
    "\n",
    "Contains the steps to produce the paper extractions."
   ]
  },
  {
   "cell_type": "code",
   "execution_count": 1,
   "id": "3a0d6e11",
   "metadata": {
    "execution": {
     "iopub.execute_input": "2025-06-13T04:19:30.235090Z",
     "iopub.status.busy": "2025-06-13T04:19:30.234320Z",
     "iopub.status.idle": "2025-06-13T04:19:30.692950Z",
     "shell.execute_reply": "2025-06-13T04:19:30.692274Z"
    },
    "papermill": {
     "duration": 0.463892,
     "end_time": "2025-06-13T04:19:30.694378",
     "exception": false,
     "start_time": "2025-06-13T04:19:30.230486",
     "status": "completed"
    },
    "tags": []
   },
   "outputs": [],
   "source": [
    "# Imports\n",
    "import os\n",
    "from IPython.display import Markdown, display\n",
    "from tqdm.notebook import tqdm\n",
    "import warnings\n",
    "from PIL import Image \n",
    "import re\n",
    "\n",
    "# requires arxiv_on_deck_2\n",
    "\n",
    "from arxiv_on_deck_2.arxiv2 import (get_new_papers, \n",
    "                                    get_paper_from_identifier,\n",
    "                                    retrieve_document_source, \n",
    "                                    get_markdown_badge)\n",
    "from arxiv_on_deck_2 import (latex,\n",
    "                             latex_bib,\n",
    "                             mpia,\n",
    "                             highlight_authors_in_list)\n",
    "\n",
    "# Sometimes images are really big\n",
    "Image.MAX_IMAGE_PIXELS = 1000000000 "
   ]
  },
  {
   "cell_type": "code",
   "execution_count": 2,
   "id": "22aa9d44",
   "metadata": {
    "execution": {
     "iopub.execute_input": "2025-06-13T04:19:30.702001Z",
     "iopub.status.busy": "2025-06-13T04:19:30.701456Z",
     "iopub.status.idle": "2025-06-13T04:19:30.709579Z",
     "shell.execute_reply": "2025-06-13T04:19:30.708901Z"
    },
    "papermill": {
     "duration": 0.012848,
     "end_time": "2025-06-13T04:19:30.710589",
     "exception": false,
     "start_time": "2025-06-13T04:19:30.697741",
     "status": "completed"
    },
    "tags": []
   },
   "outputs": [],
   "source": [
    "# Some useful definitions.\n",
    "\n",
    "class AffiliationWarning(UserWarning):\n",
    "    pass\n",
    "\n",
    "class AffiliationError(RuntimeError):\n",
    "    pass\n",
    "\n",
    "def validation(source: str):\n",
    "    \"\"\"Raises error paper during parsing of source file\n",
    "    \n",
    "    Allows checks before parsing TeX code.\n",
    "    \n",
    "    Raises AffiliationWarning\n",
    "    \"\"\"\n",
    "    check = mpia.affiliation_verifications(source, verbose=True)\n",
    "    if check is not True:\n",
    "        raise AffiliationError(\"mpia.affiliation_verifications: \" + check)\n",
    "\n",
    "        \n",
    "warnings.simplefilter('always', AffiliationWarning)\n",
    "\n",
    "\n",
    "def get_markdown_qrcode(paper_id: str):\n",
    "    \"\"\" Generate a qrcode to the arxiv page using qrserver.com\n",
    "    \n",
    "    :param paper: Arxiv paper\n",
    "    :returns: markdown text\n",
    "    \"\"\"\n",
    "    url = r\"https://api.qrserver.com/v1/create-qr-code/?size=100x100&data=\"\n",
    "    txt = f\"\"\"<img src={url}\"https://arxiv.org/abs/{paper_id}\">\"\"\"\n",
    "    txt = '<div id=\"qrcode\">' + txt + '</div>'\n",
    "    return txt\n",
    "\n",
    "\n",
    "def clean_non_western_encoded_characters_commands(text: str) -> str:\n",
    "    \"\"\" Remove non-western encoded characters from a string\n",
    "    List may need to grow.\n",
    "    \n",
    "    :param text: the text to clean\n",
    "    :return: the cleaned text\n",
    "    \"\"\"\n",
    "    text = re.sub(r\"(\\\\begin{CJK}{UTF8}{gbsn})(.*?)(\\\\end{CJK})\", r\"\\2\", text)\n",
    "    return text\n",
    "\n",
    "\n",
    "def get_initials(name: str) -> str:\n",
    "    \"\"\" Get the short name, e.g., A.-B. FamName\n",
    "    :param name: full name\n",
    "    :returns: initials\n",
    "    \"\"\"\n",
    "    initials = []\n",
    "    # account for non western names often in ()\n",
    "    if '(' in name:\n",
    "        name = clean_non_western_encoded_characters_commands(name)\n",
    "        suffix = re.findall(r\"\\((.*?)\\)\", name)[0]\n",
    "        name = name.replace(f\"({suffix})\", '')\n",
    "    else:\n",
    "        suffix = ''\n",
    "    split = name.split()\n",
    "    for token in split[:-1]:\n",
    "        if '-' in token:\n",
    "            current = '-'.join([k[0] + '.' for k in token.split('-')])\n",
    "        else:\n",
    "            current = token[0] + '.'\n",
    "        initials.append(current)\n",
    "    initials.append(split[-1].strip())\n",
    "    if suffix:\n",
    "        initials.append(f\"({suffix})\")\n",
    "    return ' '.join(initials)"
   ]
  },
  {
   "cell_type": "markdown",
   "id": "14bd6310",
   "metadata": {
    "papermill": {
     "duration": 0.002839,
     "end_time": "2025-06-13T04:19:30.716369",
     "exception": false,
     "start_time": "2025-06-13T04:19:30.713530",
     "status": "completed"
    },
    "tags": []
   },
   "source": [
    "## get list of arxiv paper candidates\n",
    "\n",
    "We use the MPIA mitarbeiter list webpage from mpia.de to get author names\n",
    "We then get all new papers from Arxiv and match authors"
   ]
  },
  {
   "cell_type": "code",
   "execution_count": 3,
   "id": "7ea813a8",
   "metadata": {
    "execution": {
     "iopub.execute_input": "2025-06-13T04:19:30.723071Z",
     "iopub.status.busy": "2025-06-13T04:19:30.722712Z",
     "iopub.status.idle": "2025-06-13T04:19:52.930090Z",
     "shell.execute_reply": "2025-06-13T04:19:52.929373Z"
    },
    "papermill": {
     "duration": 22.212259,
     "end_time": "2025-06-13T04:19:52.931536",
     "exception": false,
     "start_time": "2025-06-13T04:19:30.719277",
     "status": "completed"
    },
    "tags": []
   },
   "outputs": [],
   "source": [
    "# deal with the author list and edge cases of people that cannot be consistent on their name  \n",
    "\n",
    "def filter_non_scientists(name: str) -> bool:\n",
    "    \"\"\" Loose filter on expected authorships\n",
    "\n",
    "    removing IT, administration, technical staff\n",
    "    :param name: name\n",
    "    :returns: False if name is not a scientist\n",
    "    \"\"\"\n",
    "    remove_list = ['Licht', 'Binroth', 'Witzel', 'Jordan',\n",
    "                   'Zähringer', 'Scheerer', 'Hoffmann', 'Düe',\n",
    "                   'Hellmich', 'Enkler-Scharpegge', 'Witte-Nguy',\n",
    "                   'Dehen', 'Beckmann', 'Jager', 'Jäger'\n",
    "                  ]\n",
    "\n",
    "    for k in remove_list:\n",
    "        if k in name:\n",
    "            return False\n",
    "    return True\n",
    "\n",
    "def add_author_to_list(author_list: list) -> list:\n",
    "    \"\"\" Add author to list if not already in list\n",
    "    \n",
    "    :param author: author name\n",
    "    :param author_list: list of authors\n",
    "    :returns: updated list of authors\n",
    "    \"\"\"\n",
    "    add_list = ['T. Henning']\n",
    "\n",
    "    for author in add_list:\n",
    "        if author not in author_list:\n",
    "            author_list.append(author)\n",
    "    return author_list\n",
    "\n",
    "# get list from MPIA website\n",
    "# filter for non-scientists (mpia.get_mpia_mitarbeiter_list() does some filtering)\n",
    "mpia_authors = [k[1] for k in mpia.get_mpia_mitarbeiter_list() if filter_non_scientists(k[1])]\n",
    "# add some missing author because of inconsistencies in their MPIA name and author name on papers\n",
    "mpia_authors = add_author_to_list(mpia_authors)"
   ]
  },
  {
   "cell_type": "code",
   "execution_count": 4,
   "id": "2645e73a",
   "metadata": {
    "execution": {
     "iopub.execute_input": "2025-06-13T04:19:52.939007Z",
     "iopub.status.busy": "2025-06-13T04:19:52.938582Z",
     "iopub.status.idle": "2025-06-13T04:19:53.533120Z",
     "shell.execute_reply": "2025-06-13T04:19:53.532497Z"
    },
    "papermill": {
     "duration": 0.599297,
     "end_time": "2025-06-13T04:19:53.534168",
     "exception": false,
     "start_time": "2025-06-13T04:19:52.934871",
     "status": "completed"
    },
    "tags": []
   },
   "outputs": [
    {
     "name": "stdout",
     "output_type": "stream",
     "text": [
      "K. Kreckel  ->  K. Kreckel  |  ['K. Kreckel']\n",
      "A. Hughes  ->  A. Hughes  |  ['A. Hughes']\n",
      "M. Sharma  ->  Y. M. Sharma  |  ['M. Sharma']\n",
      "N. Wang  ->  N. Wang  |  ['N. Wang']\n",
      "K. Schwarz  ->  K. Schwarz  |  ['K. Schwarz']\n",
      "K. Schwarz  ->  K. Schwarz  |  ['K. Schwarz']\n",
      "K. Schwarz  ->  K. Schwarz  |  ['K. Schwarz']\n",
      "K. Schwarz  ->  K. Schwarz  |  ['K. Schwarz']\n",
      "K. Schwarz  ->  K. Schwarz  |  ['K. Schwarz']\n",
      "A. Somigliana  ->  A. Somigliana  |  ['A. Somigliana']\n",
      "K. Schwarz  ->  K. Schwarz  |  ['K. Schwarz']\n"
     ]
    },
    {
     "name": "stdout",
     "output_type": "stream",
     "text": [
      "Arxiv has 50 new papers today\n",
      "          9 with possible author matches\n"
     ]
    }
   ],
   "source": [
    "new_papers = get_new_papers()\n",
    "# add manual references\n",
    "add_paper_refs = []\n",
    "new_papers.extend([get_paper_from_identifier(k) for k in add_paper_refs])\n",
    "\n",
    "def robust_call(fn, value, *args, **kwargs):\n",
    "    try:\n",
    "        return fn(value, *args, **kwargs)\n",
    "    except Exception:\n",
    "        return value\n",
    "\n",
    "candidates = []\n",
    "for paperk in new_papers:\n",
    "    # Check author list with their initials\n",
    "    normed_author_list = [robust_call(mpia.get_initials, k) for k in paperk['authors']]\n",
    "    hl_authors = highlight_authors_in_list(normed_author_list, mpia_authors, verbose=True)\n",
    "    matches = [(hl, orig) for hl, orig in zip(hl_authors, paperk['authors']) if 'mark' in hl]\n",
    "    paperk['authors'] = hl_authors\n",
    "    if matches:\n",
    "        # only select paper if an author matched our list\n",
    "        candidates.append(paperk)\n",
    "print(\"\"\"Arxiv has {0:,d} new papers today\"\"\".format(len(new_papers)))        \n",
    "print(\"\"\"          {0:,d} with possible author matches\"\"\".format(len(candidates)))"
   ]
  },
  {
   "cell_type": "markdown",
   "id": "3543b34a",
   "metadata": {
    "papermill": {
     "duration": 0.003065,
     "end_time": "2025-06-13T04:19:53.540862",
     "exception": false,
     "start_time": "2025-06-13T04:19:53.537797",
     "status": "completed"
    },
    "tags": []
   },
   "source": [
    "# Parse sources and generate relevant outputs\n",
    "\n",
    "From the candidates, we do the following steps:\n",
    "* get their tarball from ArXiv (and extract data)\n",
    "* find the main .tex file: find one with \\documentclass{...} (sometimes it's non trivial)\n",
    "* Check affiliations with :func:`validation`, which uses :func:`mpia.affiliation_verifications`\n",
    "* If passing the affiliations: we parse the .tex source\n",
    "   * inject sub-documents into the main (flatten the main document)\n",
    "   * parse structure, extract information (title, abstract, authors, figures...)\n",
    "   * handles `\\graphicspath` if provided\n",
    "* Generate the .md document."
   ]
  },
  {
   "cell_type": "code",
   "execution_count": 5,
   "id": "9576b79e",
   "metadata": {
    "execution": {
     "iopub.execute_input": "2025-06-13T04:19:53.548219Z",
     "iopub.status.busy": "2025-06-13T04:19:53.547752Z",
     "iopub.status.idle": "2025-06-13T04:26:05.297379Z",
     "shell.execute_reply": "2025-06-13T04:26:05.296542Z"
    },
    "papermill": {
     "duration": 371.759952,
     "end_time": "2025-06-13T04:26:05.303883",
     "exception": false,
     "start_time": "2025-06-13T04:19:53.543931",
     "status": "completed"
    },
    "scrolled": false,
    "tags": []
   },
   "outputs": [
    {
     "data": {
      "application/vnd.jupyter.widget-view+json": {
       "model_id": "7bb2f81b74c4466abcd361e2402740d2",
       "version_major": 2,
       "version_minor": 0
      },
      "text/plain": [
       "  0%|          | 0/9 [00:00<?, ?it/s]"
      ]
     },
     "metadata": {},
     "output_type": "display_data"
    },
    {
     "name": "stdout",
     "output_type": "stream",
     "text": [
      "Retrieving document from  https://arxiv.org/e-print/2506.10063\n"
     ]
    },
    {
     "name": "stdout",
     "output_type": "stream",
     "text": [
      "extracting tarball to tmp_2506.10063..."
     ]
    },
    {
     "name": "stdout",
     "output_type": "stream",
     "text": [
      " done.\n"
     ]
    },
    {
     "name": "stderr",
     "output_type": "stream",
     "text": [
      "/opt/hostedtoolcache/Python/3.9.22/x64/lib/python3.9/site-packages/IPython/core/interactiveshell.py:3550: LatexWarning: Multiple tex files.\n",
      "\n",
      "  exec(code_obj, self.user_global_ns, self.user_ns)\n",
      "/opt/hostedtoolcache/Python/3.9.22/x64/lib/python3.9/site-packages/IPython/core/interactiveshell.py:3550: LatexWarning: Found documentclass in tmp_2506.10063/main.tex\n",
      "\n",
      "  exec(code_obj, self.user_global_ns, self.user_ns)\n",
      "/opt/hostedtoolcache/Python/3.9.22/x64/lib/python3.9/site-packages/arxiv_on_deck_2/latex.py:414: LatexWarning: Latex injecting: 'authors' from 'tmp_2506.10063/authors.tex'\n",
      "  warnings.warn(LatexWarning(f\"Latex injecting: '{ext}' from '{subsource}'\"))\n",
      "/opt/hostedtoolcache/Python/3.9.22/x64/lib/python3.9/site-packages/arxiv_on_deck_2/latex.py:414: LatexWarning: Latex injecting: 'affils' from 'tmp_2506.10063/affils.tex'\n",
      "  warnings.warn(LatexWarning(f\"Latex injecting: '{ext}' from '{subsource}'\"))\n"
     ]
    },
    {
     "name": "stdout",
     "output_type": "stream",
     "text": [
      "K. Kreckel  ->  K. Kreckel  |  ['K. Kreckel']\n",
      "A. Hughes  ->  A. Hughes  |  ['A. Hughes']\n"
     ]
    },
    {
     "name": "stdout",
     "output_type": "stream",
     "text": [
      "Found 137 bibliographic references in tmp_2506.10063/main.bbl.\n",
      "Retrieving document from  https://arxiv.org/e-print/2506.10122\n"
     ]
    },
    {
     "name": "stdout",
     "output_type": "stream",
     "text": [
      "extracting tarball to tmp_2506.10122... done.\n",
      "Retrieving document from  https://arxiv.org/e-print/2506.10565\n"
     ]
    },
    {
     "name": "stdout",
     "output_type": "stream",
     "text": [
      "extracting tarball to tmp_2506.10565... done.\n",
      "Retrieving document from  https://arxiv.org/e-print/2506.10719\n"
     ]
    },
    {
     "name": "stdout",
     "output_type": "stream",
     "text": [
      "extracting tarball to tmp_2506.10719... done.\n"
     ]
    },
    {
     "name": "stdout",
     "output_type": "stream",
     "text": [
      "K. Schwarz  ->  K. Schwarz  |  ['K. Schwarz']\n"
     ]
    },
    {
     "name": "stdout",
     "output_type": "stream",
     "text": [
      "Found 168 bibliographic references in tmp_2506.10719/ms.bbl.\n",
      "Retrieving document from  https://arxiv.org/e-print/2506.10731\n",
      "extracting tarball to tmp_2506.10731..."
     ]
    },
    {
     "name": "stdout",
     "output_type": "stream",
     "text": [
      " done.\n"
     ]
    },
    {
     "name": "stdout",
     "output_type": "stream",
     "text": [
      "K. Schwarz  ->  K. Schwarz  |  ['K. Schwarz']\n"
     ]
    },
    {
     "name": "stderr",
     "output_type": "stream",
     "text": [
      "/tmp/ipykernel_3414/2822249172.py:52: LatexWarning: 2506.10731 did not run properly\n",
      "list index out of range\n",
      "  warnings.warn(latex.LatexWarning(f\"{paper_id:s} did not run properly\\n\" +\n"
     ]
    },
    {
     "name": "stdout",
     "output_type": "stream",
     "text": [
      "Retrieving document from  https://arxiv.org/e-print/2506.10734\n"
     ]
    },
    {
     "name": "stdout",
     "output_type": "stream",
     "text": [
      "extracting tarball to tmp_2506.10734..."
     ]
    },
    {
     "name": "stdout",
     "output_type": "stream",
     "text": [
      " done.\n"
     ]
    },
    {
     "name": "stderr",
     "output_type": "stream",
     "text": [
      "/opt/hostedtoolcache/Python/3.9.22/x64/lib/python3.9/site-packages/IPython/core/interactiveshell.py:3550: LatexWarning: Multiple tex files.\n",
      "\n",
      "  exec(code_obj, self.user_global_ns, self.user_ns)\n",
      "/opt/hostedtoolcache/Python/3.9.22/x64/lib/python3.9/site-packages/IPython/core/interactiveshell.py:3550: LatexWarning: Found documentclass in tmp_2506.10734/agepro_Lupus.tex\n",
      "\n",
      "  exec(code_obj, self.user_global_ns, self.user_ns)\n",
      "/opt/hostedtoolcache/Python/3.9.22/x64/lib/python3.9/site-packages/arxiv_on_deck_2/latex.py:414: LatexWarning: Latex injecting: 'Table_AGEPRO_Lupus_flux_B6weaklines' from 'tmp_2506.10734/Table_AGEPRO_Lupus_flux_B6weaklines.tex'\n",
      "  warnings.warn(LatexWarning(f\"Latex injecting: '{ext}' from '{subsource}'\"))\n",
      "/opt/hostedtoolcache/Python/3.9.22/x64/lib/python3.9/site-packages/arxiv_on_deck_2/latex.py:414: LatexWarning: Latex injecting: 'lupus_obs_log' from 'tmp_2506.10734/lupus_obs_log.tex'\n",
      "  warnings.warn(LatexWarning(f\"Latex injecting: '{ext}' from '{subsource}'\"))\n",
      "/opt/hostedtoolcache/Python/3.9.22/x64/lib/python3.9/site-packages/arxiv_on_deck_2/latex.py:414: LatexWarning: Latex injecting: 'Measured_Radius_COG' from 'tmp_2506.10734/Measured_Radius_COG.tex'\n",
      "  warnings.warn(LatexWarning(f\"Latex injecting: '{ext}' from '{subsource}'\"))\n",
      "/opt/hostedtoolcache/Python/3.9.22/x64/lib/python3.9/site-packages/arxiv_on_deck_2/latex.py:414: LatexWarning: Latex injecting: 'Measured_Flux_COG' from 'tmp_2506.10734/Measured_Flux_COG.tex'\n",
      "  warnings.warn(LatexWarning(f\"Latex injecting: '{ext}' from '{subsource}'\"))\n",
      "/opt/hostedtoolcache/Python/3.9.22/x64/lib/python3.9/site-packages/arxiv_on_deck_2/latex.py:414: LatexWarning: Latex injecting: 'Lupus_Keplerian_Masks' from 'tmp_2506.10734/Lupus_Keplerian_Masks.tex'\n",
      "  warnings.warn(LatexWarning(f\"Latex injecting: '{ext}' from '{subsource}'\"))\n",
      "/opt/hostedtoolcache/Python/3.9.22/x64/lib/python3.9/site-packages/arxiv_on_deck_2/latex.py:414: LatexWarning: Latex injecting: 'Lupus_stellar_properties' from 'tmp_2506.10734/Lupus_stellar_properties.tex'\n",
      "  warnings.warn(LatexWarning(f\"Latex injecting: '{ext}' from '{subsource}'\"))\n"
     ]
    },
    {
     "name": "stdout",
     "output_type": "stream",
     "text": [
      "K. Schwarz  ->  K. Schwarz  |  ['K. Schwarz']\n"
     ]
    },
    {
     "name": "stderr",
     "output_type": "stream",
     "text": [
      "/tmp/ipykernel_3414/2822249172.py:52: LatexWarning: 2506.10734 did not run properly\n",
      "list index out of range\n",
      "  warnings.warn(latex.LatexWarning(f\"{paper_id:s} did not run properly\\n\" +\n"
     ]
    },
    {
     "name": "stdout",
     "output_type": "stream",
     "text": [
      "Retrieving document from  https://arxiv.org/e-print/2506.10735\n"
     ]
    },
    {
     "name": "stdout",
     "output_type": "stream",
     "text": [
      "extracting tarball to tmp_2506.10735..."
     ]
    },
    {
     "name": "stdout",
     "output_type": "stream",
     "text": [
      " done.\n"
     ]
    },
    {
     "name": "stderr",
     "output_type": "stream",
     "text": [
      "/opt/hostedtoolcache/Python/3.9.22/x64/lib/python3.9/site-packages/IPython/core/interactiveshell.py:3550: LatexWarning: Multiple tex files.\n",
      "\n",
      "  exec(code_obj, self.user_global_ns, self.user_ns)\n",
      "/opt/hostedtoolcache/Python/3.9.22/x64/lib/python3.9/site-packages/IPython/core/interactiveshell.py:3550: LatexWarning: Found documentclass in tmp_2506.10735/sample631.tex\n",
      "\n",
      "  exec(code_obj, self.user_global_ns, self.user_ns)\n",
      "/opt/hostedtoolcache/Python/3.9.22/x64/lib/python3.9/site-packages/arxiv_on_deck_2/latex.py:414: LatexWarning: Latex injecting: 'table_other_names' from 'tmp_2506.10735/table_other_names.tex'\n",
      "  warnings.warn(LatexWarning(f\"Latex injecting: '{ext}' from '{subsource}'\"))\n",
      "/opt/hostedtoolcache/Python/3.9.22/x64/lib/python3.9/site-packages/arxiv_on_deck_2/latex.py:414: LatexWarning: Latex injecting: 'usco_logs' from 'tmp_2506.10735/usco_logs.tex'\n",
      "  warnings.warn(LatexWarning(f\"Latex injecting: '{ext}' from '{subsource}'\"))\n",
      "/opt/hostedtoolcache/Python/3.9.22/x64/lib/python3.9/site-packages/arxiv_on_deck_2/latex.py:414: LatexWarning: Latex injecting: 'measured_radius_b6' from 'tmp_2506.10735/measured_radius_b6.tex'\n",
      "  warnings.warn(LatexWarning(f\"Latex injecting: '{ext}' from '{subsource}'\"))\n",
      "/opt/hostedtoolcache/Python/3.9.22/x64/lib/python3.9/site-packages/arxiv_on_deck_2/latex.py:414: LatexWarning: Latex injecting: 'measuredfluxb6' from 'tmp_2506.10735/measuredfluxb6.tex'\n",
      "  warnings.warn(LatexWarning(f\"Latex injecting: '{ext}' from '{subsource}'\"))\n"
     ]
    },
    {
     "name": "stdout",
     "output_type": "stream",
     "text": [
      "K. Schwarz  ->  K. Schwarz  |  ['K. Schwarz']\n"
     ]
    },
    {
     "name": "stderr",
     "output_type": "stream",
     "text": [
      "/tmp/ipykernel_3414/2822249172.py:52: LatexWarning: 2506.10735 did not run properly\n",
      "list index out of range\n",
      "  warnings.warn(latex.LatexWarning(f\"{paper_id:s} did not run properly\\n\" +\n"
     ]
    },
    {
     "name": "stdout",
     "output_type": "stream",
     "text": [
      "Retrieving document from  https://arxiv.org/e-print/2506.10738\n"
     ]
    },
    {
     "name": "stdout",
     "output_type": "stream",
     "text": [
      "extracting tarball to tmp_2506.10738..."
     ]
    },
    {
     "name": "stdout",
     "output_type": "stream",
     "text": [
      " done.\n"
     ]
    },
    {
     "name": "stdout",
     "output_type": "stream",
     "text": [
      "K. Schwarz  ->  K. Schwarz  |  ['K. Schwarz']\n"
     ]
    },
    {
     "name": "stderr",
     "output_type": "stream",
     "text": [
      "/opt/hostedtoolcache/Python/3.9.22/x64/lib/python3.9/site-packages/arxiv_on_deck_2/latex.py:132: LatexWarning: attempting recovering figure model_processes.png\n",
      "  warnings.warn(LatexWarning(f'attempting recovering figure {image}'))\n",
      "/opt/hostedtoolcache/Python/3.9.22/x64/lib/python3.9/site-packages/arxiv_on_deck_2/latex.py:707: LatexWarning: Could not find graphic \\includegraphics[width=0.45\\textwidth]{model_processes.png}\n",
      "  warnings.warn(LatexWarning(f\"Could not find graphic {k}\"))\n",
      "/opt/hostedtoolcache/Python/3.9.22/x64/lib/python3.9/site-packages/arxiv_on_deck_2/latex.py:132: LatexWarning: attempting recovering figure CO-abu_and_disk_mass_histograms_Lupus_2.pdf\n",
      "  warnings.warn(LatexWarning(f'attempting recovering figure {image}'))\n",
      "/opt/hostedtoolcache/Python/3.9.22/x64/lib/python3.9/site-packages/arxiv_on_deck_2/latex.py:707: LatexWarning: Could not find graphic \\includegraphics[width=\\columnwidth]{CO-abu_and_disk_mass_histograms_Lupus_2.pdf}\n",
      "  warnings.warn(LatexWarning(f\"Could not find graphic {k}\"))\n",
      "/opt/hostedtoolcache/Python/3.9.22/x64/lib/python3.9/site-packages/arxiv_on_deck_2/latex.py:132: LatexWarning: attempting recovering figure Disk_mass_Ophiuchus_effect_of_temperature_version2.pdf\n",
      "  warnings.warn(LatexWarning(f'attempting recovering figure {image}'))\n",
      "/opt/hostedtoolcache/Python/3.9.22/x64/lib/python3.9/site-packages/arxiv_on_deck_2/latex.py:707: LatexWarning: Could not find graphic \\includegraphics[width=\\columnwidth]{Disk_mass_Ophiuchus_effect_of_temperature_version2.pdf}\n",
      "  warnings.warn(LatexWarning(f\"Could not find graphic {k}\"))\n",
      "/opt/hostedtoolcache/Python/3.9.22/x64/lib/python3.9/site-packages/arxiv_on_deck_2/latex.py:132: LatexWarning: attempting recovering figure Median_disk_masses.pdf\n",
      "  warnings.warn(LatexWarning(f'attempting recovering figure {image}'))\n",
      "/opt/hostedtoolcache/Python/3.9.22/x64/lib/python3.9/site-packages/arxiv_on_deck_2/latex.py:707: LatexWarning: Could not find graphic \\includegraphics[width=\\columnwidth]{Median_disk_masses.pdf}\n",
      "  warnings.warn(LatexWarning(f\"Could not find graphic {k}\"))\n",
      "/opt/hostedtoolcache/Python/3.9.22/x64/lib/python3.9/site-packages/arxiv_on_deck_2/latex.py:132: LatexWarning: attempting recovering figure Individual_Mgas_versus_isochronal_age.pdf\n",
      "  warnings.warn(LatexWarning(f'attempting recovering figure {image}'))\n",
      "/opt/hostedtoolcache/Python/3.9.22/x64/lib/python3.9/site-packages/arxiv_on_deck_2/latex.py:707: LatexWarning: Could not find graphic \\includegraphics[width=\\columnwidth]{Individual_Mgas_versus_isochronal_age.pdf}\n",
      "  warnings.warn(LatexWarning(f\"Could not find graphic {k}\"))\n",
      "/opt/hostedtoolcache/Python/3.9.22/x64/lib/python3.9/site-packages/arxiv_on_deck_2/latex.py:132: LatexWarning: attempting recovering figure AGEPRO_gas_masses_vs_Macc.pdf\n",
      "  warnings.warn(LatexWarning(f'attempting recovering figure {image}'))\n",
      "/opt/hostedtoolcache/Python/3.9.22/x64/lib/python3.9/site-packages/arxiv_on_deck_2/latex.py:707: LatexWarning: Could not find graphic \\includegraphics[width=\\columnwidth]{AGEPRO_gas_masses_vs_Macc.pdf}\n",
      "  warnings.warn(LatexWarning(f\"Could not find graphic {k}\"))\n",
      "/opt/hostedtoolcache/Python/3.9.22/x64/lib/python3.9/site-packages/arxiv_on_deck_2/latex.py:132: LatexWarning: attempting recovering figure AGEPRO_gas_masses_effect_lowCR.pdf\n",
      "  warnings.warn(LatexWarning(f'attempting recovering figure {image}'))\n",
      "/opt/hostedtoolcache/Python/3.9.22/x64/lib/python3.9/site-packages/arxiv_on_deck_2/latex.py:707: LatexWarning: Could not find graphic \\includegraphics[width=\\columnwidth]{AGEPRO_gas_masses_effect_lowCR.pdf}\n",
      "  warnings.warn(LatexWarning(f\"Could not find graphic {k}\"))\n",
      "/opt/hostedtoolcache/Python/3.9.22/x64/lib/python3.9/site-packages/arxiv_on_deck_2/latex.py:132: LatexWarning: attempting recovering figure mass_wo_N2Hp.png\n",
      "  warnings.warn(LatexWarning(f'attempting recovering figure {image}'))\n",
      "/opt/hostedtoolcache/Python/3.9.22/x64/lib/python3.9/site-packages/arxiv_on_deck_2/latex.py:707: LatexWarning: Could not find graphic \\includegraphics[width=0.7\\textwidth]{mass_wo_N2Hp.png}\n",
      "  warnings.warn(LatexWarning(f\"Could not find graphic {k}\"))\n",
      "/opt/hostedtoolcache/Python/3.9.22/x64/lib/python3.9/site-packages/arxiv_on_deck_2/latex.py:132: LatexWarning: attempting recovering figure Rc_comparison_MCMC-vs-analytical.pdf\n",
      "  warnings.warn(LatexWarning(f'attempting recovering figure {image}'))\n",
      "/opt/hostedtoolcache/Python/3.9.22/x64/lib/python3.9/site-packages/arxiv_on_deck_2/latex.py:707: LatexWarning: Could not find graphic \\includegraphics[width=0.6\\columnwidth]{Rc_comparison_MCMC-vs-analytical.pdf}\n",
      "  warnings.warn(LatexWarning(f\"Could not find graphic {k}\"))\n",
      "/opt/hostedtoolcache/Python/3.9.22/x64/lib/python3.9/site-packages/arxiv_on_deck_2/latex.py:132: LatexWarning: attempting recovering figure f26_1.pdf\n",
      "  warnings.warn(LatexWarning(f'attempting recovering figure {image}'))\n",
      "/opt/hostedtoolcache/Python/3.9.22/x64/lib/python3.9/site-packages/arxiv_on_deck_2/latex.py:707: LatexWarning: Could not find graphic \\includegraphics{f26_1.pdf}\n",
      "  warnings.warn(LatexWarning(f\"Could not find graphic {k}\"))\n",
      "/opt/hostedtoolcache/Python/3.9.22/x64/lib/python3.9/site-packages/arxiv_on_deck_2/latex.py:132: LatexWarning: attempting recovering figure C18O_vs_13CO_effect_parameters_Mdisk_1Em3.pdf\n",
      "  warnings.warn(LatexWarning(f'attempting recovering figure {image}'))\n",
      "/opt/hostedtoolcache/Python/3.9.22/x64/lib/python3.9/site-packages/arxiv_on_deck_2/latex.py:707: LatexWarning: Could not find graphic \\includegraphics[width=\\textwidth]{C18O_vs_13CO_effect_parameters_Mdisk_1Em3.pdf}\n",
      "  warnings.warn(LatexWarning(f\"Could not find graphic {k}\"))\n",
      "/opt/hostedtoolcache/Python/3.9.22/x64/lib/python3.9/site-packages/arxiv_on_deck_2/latex.py:132: LatexWarning: attempting recovering figure C18O_vs_N2Hp_CR1Em18_effect_parameters_Mdisk_1Em3.pdf\n",
      "  warnings.warn(LatexWarning(f'attempting recovering figure {image}'))\n",
      "/opt/hostedtoolcache/Python/3.9.22/x64/lib/python3.9/site-packages/arxiv_on_deck_2/latex.py:707: LatexWarning: Could not find graphic \\includegraphics[width=\\textwidth]{C18O_vs_N2Hp_CR1Em18_effect_parameters_Mdisk_1Em3.pdf}\n",
      "  warnings.warn(LatexWarning(f\"Could not find graphic {k}\"))\n",
      "/opt/hostedtoolcache/Python/3.9.22/x64/lib/python3.9/site-packages/arxiv_on_deck_2/latex.py:132: LatexWarning: attempting recovering figure xCyO_models_vs_observations_v2.pdf\n",
      "  warnings.warn(LatexWarning(f'attempting recovering figure {image}'))\n",
      "/opt/hostedtoolcache/Python/3.9.22/x64/lib/python3.9/site-packages/arxiv_on_deck_2/latex.py:707: LatexWarning: Could not find graphic \\includegraphics[width=\\textwidth]{xCyO_models_vs_observations_v2.pdf}\n",
      "  warnings.warn(LatexWarning(f\"Could not find graphic {k}\"))\n",
      "/opt/hostedtoolcache/Python/3.9.22/x64/lib/python3.9/site-packages/arxiv_on_deck_2/latex.py:132: LatexWarning: attempting recovering figure C18O_vs_N2Hp_CR1Em18_split_by_mass_with_obs.png\n",
      "  warnings.warn(LatexWarning(f'attempting recovering figure {image}'))\n",
      "/opt/hostedtoolcache/Python/3.9.22/x64/lib/python3.9/site-packages/arxiv_on_deck_2/latex.py:707: LatexWarning: Could not find graphic \\includegraphics[width=\\textwidth]{C18O_vs_N2Hp_CR1Em18_split_by_mass_with_obs.png}\n",
      "  warnings.warn(LatexWarning(f\"Could not find graphic {k}\"))\n",
      "/opt/hostedtoolcache/Python/3.9.22/x64/lib/python3.9/site-packages/arxiv_on_deck_2/latex.py:132: LatexWarning: attempting recovering figure Disk_mass_histograms.pdf\n",
      "  warnings.warn(LatexWarning(f'attempting recovering figure {image}'))\n",
      "/opt/hostedtoolcache/Python/3.9.22/x64/lib/python3.9/site-packages/arxiv_on_deck_2/latex.py:707: LatexWarning: Could not find graphic \\includegraphics[width=\\textwidth]{Disk_mass_histograms.pdf}\n",
      "  warnings.warn(LatexWarning(f\"Could not find graphic {k}\"))\n",
      "/opt/hostedtoolcache/Python/3.9.22/x64/lib/python3.9/site-packages/arxiv_on_deck_2/latex.py:132: LatexWarning: attempting recovering figure AGEPRO_gas_masses.pdf\n",
      "  warnings.warn(LatexWarning(f'attempting recovering figure {image}'))\n",
      "/opt/hostedtoolcache/Python/3.9.22/x64/lib/python3.9/site-packages/arxiv_on_deck_2/latex.py:707: LatexWarning: Could not find graphic \\includegraphics[width=\\textwidth,clip,trim={0 1.4cm 0 0}]{AGEPRO_gas_masses.pdf}\n",
      "  warnings.warn(LatexWarning(f\"Could not find graphic {k}\"))\n",
      "/opt/hostedtoolcache/Python/3.9.22/x64/lib/python3.9/site-packages/arxiv_on_deck_2/latex.py:132: LatexWarning: attempting recovering figure AGEPRO_gas-to-dust_mass_ratios.pdf\n",
      "  warnings.warn(LatexWarning(f'attempting recovering figure {image}'))\n",
      "/opt/hostedtoolcache/Python/3.9.22/x64/lib/python3.9/site-packages/arxiv_on_deck_2/latex.py:707: LatexWarning: Could not find graphic \\includegraphics[width=\\textwidth,clip,trim={0 1.4cm 0 0}]{AGEPRO_gas-to-dust_mass_ratios.pdf}\n",
      "  warnings.warn(LatexWarning(f\"Could not find graphic {k}\"))\n",
      "/opt/hostedtoolcache/Python/3.9.22/x64/lib/python3.9/site-packages/arxiv_on_deck_2/latex.py:132: LatexWarning: attempting recovering figure AGEPRO_CO_abundances.pdf\n",
      "  warnings.warn(LatexWarning(f'attempting recovering figure {image}'))\n",
      "/opt/hostedtoolcache/Python/3.9.22/x64/lib/python3.9/site-packages/arxiv_on_deck_2/latex.py:707: LatexWarning: Could not find graphic \\includegraphics[width=\\textwidth]{AGEPRO_CO_abundances.pdf}\n",
      "  warnings.warn(LatexWarning(f\"Could not find graphic {k}\"))\n",
      "/opt/hostedtoolcache/Python/3.9.22/x64/lib/python3.9/site-packages/arxiv_on_deck_2/latex.py:132: LatexWarning: attempting recovering figure Mgas_vs_Rco90-with-Rco-predictions.pdf\n",
      "  warnings.warn(LatexWarning(f'attempting recovering figure {image}'))\n",
      "/opt/hostedtoolcache/Python/3.9.22/x64/lib/python3.9/site-packages/arxiv_on_deck_2/latex.py:707: LatexWarning: Could not find graphic \\includegraphics[width=\\textwidth]{Mgas_vs_Rco90-with-Rco-predictions.pdf}\n",
      "  warnings.warn(LatexWarning(f\"Could not find graphic {k}\"))\n",
      "/opt/hostedtoolcache/Python/3.9.22/x64/lib/python3.9/site-packages/arxiv_on_deck_2/latex.py:132: LatexWarning: attempting recovering figure Mgas_vs_Rdust90_FRANK-paper-version.pdf\n",
      "  warnings.warn(LatexWarning(f'attempting recovering figure {image}'))\n",
      "/opt/hostedtoolcache/Python/3.9.22/x64/lib/python3.9/site-packages/arxiv_on_deck_2/latex.py:707: LatexWarning: Could not find graphic \\includegraphics[width=\\textwidth]{Mgas_vs_Rdust90_FRANK-paper-version.pdf}\n",
      "  warnings.warn(LatexWarning(f\"Could not find graphic {k}\"))\n",
      "/opt/hostedtoolcache/Python/3.9.22/x64/lib/python3.9/site-packages/arxiv_on_deck_2/latex.py:132: LatexWarning: attempting recovering figure Mgas_vs_Rc.pdf\n",
      "  warnings.warn(LatexWarning(f'attempting recovering figure {image}'))\n",
      "/opt/hostedtoolcache/Python/3.9.22/x64/lib/python3.9/site-packages/arxiv_on_deck_2/latex.py:707: LatexWarning: Could not find graphic \\includegraphics[width=\\textwidth]{Mgas_vs_Rc.pdf}\n",
      "  warnings.warn(LatexWarning(f\"Could not find graphic {k}\"))\n",
      "/opt/hostedtoolcache/Python/3.9.22/x64/lib/python3.9/site-packages/arxiv_on_deck_2/latex.py:132: LatexWarning: attempting recovering figure CO_model_flux_comparison.pdf\n",
      "  warnings.warn(LatexWarning(f'attempting recovering figure {image}'))\n",
      "/opt/hostedtoolcache/Python/3.9.22/x64/lib/python3.9/site-packages/arxiv_on_deck_2/latex.py:707: LatexWarning: Could not find graphic \\includegraphics[width=0.7\\textwidth]{CO_model_flux_comparison.pdf}\n",
      "  warnings.warn(LatexWarning(f\"Could not find graphic {k}\"))\n",
      "/opt/hostedtoolcache/Python/3.9.22/x64/lib/python3.9/site-packages/arxiv_on_deck_2/latex.py:132: LatexWarning: attempting recovering figure App_HD_disks_histograms.pdf\n",
      "  warnings.warn(LatexWarning(f'attempting recovering figure {image}'))\n",
      "/opt/hostedtoolcache/Python/3.9.22/x64/lib/python3.9/site-packages/arxiv_on_deck_2/latex.py:707: LatexWarning: Could not find graphic \\includegraphics[width=\\textwidth]{App_HD_disks_histograms.pdf}\n",
      "  warnings.warn(LatexWarning(f\"Could not find graphic {k}\"))\n",
      "/opt/hostedtoolcache/Python/3.9.22/x64/lib/python3.9/site-packages/arxiv_on_deck_2/latex.py:132: LatexWarning: attempting recovering figure Example_interpolation_test_flaring.pdf\n",
      "  warnings.warn(LatexWarning(f'attempting recovering figure {image}'))\n",
      "/opt/hostedtoolcache/Python/3.9.22/x64/lib/python3.9/site-packages/arxiv_on_deck_2/latex.py:707: LatexWarning: Could not find graphic \\includegraphics[width=\\columnwidth]{Example_interpolation_test_flaring.pdf}\n",
      "  warnings.warn(LatexWarning(f\"Could not find graphic {k}\"))\n",
      "/opt/hostedtoolcache/Python/3.9.22/x64/lib/python3.9/site-packages/arxiv_on_deck_2/latex.py:132: LatexWarning: attempting recovering figure Overview_error_interpolation.pdf\n",
      "  warnings.warn(LatexWarning(f'attempting recovering figure {image}'))\n",
      "/opt/hostedtoolcache/Python/3.9.22/x64/lib/python3.9/site-packages/arxiv_on_deck_2/latex.py:707: LatexWarning: Could not find graphic \\includegraphics[width=\\columnwidth]{Overview_error_interpolation.pdf}\n",
      "  warnings.warn(LatexWarning(f\"Could not find graphic {k}\"))\n",
      "/opt/hostedtoolcache/Python/3.9.22/x64/lib/python3.9/site-packages/arxiv_on_deck_2/latex.py:132: LatexWarning: attempting recovering figure 12CO_models_vs_observations.pdf\n",
      "  warnings.warn(LatexWarning(f'attempting recovering figure {image}'))\n",
      "/opt/hostedtoolcache/Python/3.9.22/x64/lib/python3.9/site-packages/arxiv_on_deck_2/latex.py:707: LatexWarning: Could not find graphic \\includegraphics[width=\\textwidth]{12CO_models_vs_observations.pdf}\n",
      "  warnings.warn(LatexWarning(f\"Could not find graphic {k}\"))\n",
      "/opt/hostedtoolcache/Python/3.9.22/x64/lib/python3.9/site-packages/arxiv_on_deck_2/latex.py:132: LatexWarning: attempting recovering figure CO-abu_and_disk_mass_2dhistograms.pdf\n",
      "  warnings.warn(LatexWarning(f'attempting recovering figure {image}'))\n",
      "/opt/hostedtoolcache/Python/3.9.22/x64/lib/python3.9/site-packages/arxiv_on_deck_2/latex.py:707: LatexWarning: Could not find graphic \\includegraphics[width=0.9\\textwidth,clip,trim={0 0.5cm 0 0}]{CO-abu_and_disk_mass_2dhistograms.pdf}\n",
      "  warnings.warn(LatexWarning(f\"Could not find graphic {k}\"))\n",
      "/opt/hostedtoolcache/Python/3.9.22/x64/lib/python3.9/site-packages/arxiv_on_deck_2/latex.py:132: LatexWarning: attempting recovering figure Disk_mass_Ophiuchus_effect_of_temperature.pdf\n",
      "  warnings.warn(LatexWarning(f'attempting recovering figure {image}'))\n",
      "/opt/hostedtoolcache/Python/3.9.22/x64/lib/python3.9/site-packages/arxiv_on_deck_2/latex.py:707: LatexWarning: Could not find graphic \\includegraphics[width=0.9\\textwidth]{Disk_mass_Ophiuchus_effect_of_temperature.pdf}\n",
      "  warnings.warn(LatexWarning(f\"Could not find graphic {k}\"))\n",
      "/opt/hostedtoolcache/Python/3.9.22/x64/lib/python3.9/site-packages/arxiv_on_deck_2/latex.py:132: LatexWarning: attempting recovering figure Lupus_3_Rc_derivation_overview.pdf\n",
      "  warnings.warn(LatexWarning(f'attempting recovering figure {image}'))\n",
      "/opt/hostedtoolcache/Python/3.9.22/x64/lib/python3.9/site-packages/arxiv_on_deck_2/latex.py:707: LatexWarning: Could not find graphic \\includegraphics[width=\\textwidth]{Lupus_3_Rc_derivation_overview.pdf}\n",
      "  warnings.warn(LatexWarning(f\"Could not find graphic {k}\"))\n",
      "/opt/hostedtoolcache/Python/3.9.22/x64/lib/python3.9/site-packages/arxiv_on_deck_2/latex.py:132: LatexWarning: attempting recovering figure AGEPRO_Mgas_correlations.pdf\n",
      "  warnings.warn(LatexWarning(f'attempting recovering figure {image}'))\n",
      "/opt/hostedtoolcache/Python/3.9.22/x64/lib/python3.9/site-packages/arxiv_on_deck_2/latex.py:707: LatexWarning: Could not find graphic \\includegraphics[width=\\textwidth]{AGEPRO_Mgas_correlations.pdf}\n",
      "  warnings.warn(LatexWarning(f\"Could not find graphic {k}\"))\n",
      "/opt/hostedtoolcache/Python/3.9.22/x64/lib/python3.9/site-packages/arxiv_on_deck_2/latex.py:132: LatexWarning: attempting recovering figure correlation_MC_Mgas.pdf\n",
      "  warnings.warn(LatexWarning(f'attempting recovering figure {image}'))\n",
      "/opt/hostedtoolcache/Python/3.9.22/x64/lib/python3.9/site-packages/arxiv_on_deck_2/latex.py:707: LatexWarning: Could not find graphic \\includegraphics[width=\\textwidth]{correlation_MC_Mgas.pdf}\n",
      "  warnings.warn(LatexWarning(f\"Could not find graphic {k}\"))\n",
      "/opt/hostedtoolcache/Python/3.9.22/x64/lib/python3.9/site-packages/arxiv_on_deck_2/latex.py:132: LatexWarning: attempting recovering figure AGEPRO_gd_correlations.pdf\n",
      "  warnings.warn(LatexWarning(f'attempting recovering figure {image}'))\n",
      "/opt/hostedtoolcache/Python/3.9.22/x64/lib/python3.9/site-packages/arxiv_on_deck_2/latex.py:707: LatexWarning: Could not find graphic \\includegraphics[width=\\textwidth]{AGEPRO_gd_correlations.pdf}\n",
      "  warnings.warn(LatexWarning(f\"Could not find graphic {k}\"))\n",
      "/opt/hostedtoolcache/Python/3.9.22/x64/lib/python3.9/site-packages/arxiv_on_deck_2/latex.py:132: LatexWarning: attempting recovering figure correlation_MC_gd.pdf\n",
      "  warnings.warn(LatexWarning(f'attempting recovering figure {image}'))\n",
      "/opt/hostedtoolcache/Python/3.9.22/x64/lib/python3.9/site-packages/arxiv_on_deck_2/latex.py:707: LatexWarning: Could not find graphic \\includegraphics[width=\\textwidth]{correlation_MC_gd.pdf}\n",
      "  warnings.warn(LatexWarning(f\"Could not find graphic {k}\"))\n",
      "/opt/hostedtoolcache/Python/3.9.22/x64/lib/python3.9/site-packages/arxiv_on_deck_2/latex.py:132: LatexWarning: attempting recovering figure AGEPRO_xco_correlations.pdf\n",
      "  warnings.warn(LatexWarning(f'attempting recovering figure {image}'))\n",
      "/opt/hostedtoolcache/Python/3.9.22/x64/lib/python3.9/site-packages/arxiv_on_deck_2/latex.py:707: LatexWarning: Could not find graphic \\includegraphics[width=\\textwidth]{AGEPRO_xco_correlations.pdf}\n",
      "  warnings.warn(LatexWarning(f\"Could not find graphic {k}\"))\n",
      "/opt/hostedtoolcache/Python/3.9.22/x64/lib/python3.9/site-packages/arxiv_on_deck_2/latex.py:132: LatexWarning: attempting recovering figure correlation_MC_xco.pdf\n",
      "  warnings.warn(LatexWarning(f'attempting recovering figure {image}'))\n",
      "/opt/hostedtoolcache/Python/3.9.22/x64/lib/python3.9/site-packages/arxiv_on_deck_2/latex.py:707: LatexWarning: Could not find graphic \\includegraphics[width=\\textwidth]{correlation_MC_xco.pdf}\n",
      "  warnings.warn(LatexWarning(f\"Could not find graphic {k}\"))\n"
     ]
    },
    {
     "name": "stdout",
     "output_type": "stream",
     "text": [
      "Found 184 bibliographic references in tmp_2506.10738/main.bbl.\n",
      "Issues with the citations\n",
      "syntax error in line 9: '}' expected\n",
      "Retrieving document from  https://arxiv.org/e-print/2506.10742\n"
     ]
    },
    {
     "name": "stdout",
     "output_type": "stream",
     "text": [
      "extracting tarball to tmp_2506.10742..."
     ]
    },
    {
     "name": "stdout",
     "output_type": "stream",
     "text": [
      " done.\n"
     ]
    },
    {
     "name": "stdout",
     "output_type": "stream",
     "text": [
      "A. Somigliana  ->  A. Somigliana  |  ['A. Somigliana']\n",
      "K. Schwarz  ->  K. Schwarz  |  ['K. Schwarz']\n"
     ]
    },
    {
     "name": "stderr",
     "output_type": "stream",
     "text": [
      "/opt/hostedtoolcache/Python/3.9.22/x64/lib/python3.9/site-packages/arxiv_on_deck_2/latex.py:132: LatexWarning: attempting recovering figure fig_MHD-DW_summary_age-pro_v5.pdf\n",
      "\n",
      "  warnings.warn(LatexWarning(f'attempting recovering figure {image}'))\n",
      "/opt/hostedtoolcache/Python/3.9.22/x64/lib/python3.9/site-packages/arxiv_on_deck_2/latex.py:707: LatexWarning: Could not find graphic \\includegraphics[width=\\columnwidth]{fig_MHD-DW_summary_age-pro_v5.pdf\n",
      "}\n",
      "  warnings.warn(LatexWarning(f\"Could not find graphic {k}\"))\n"
     ]
    },
    {
     "name": "stdout",
     "output_type": "stream",
     "text": [
      "Found 131 bibliographic references in tmp_2506.10742/main.bbl.\n"
     ]
    }
   ],
   "source": [
    "documents = []\n",
    "failed = []\n",
    "for paper in tqdm(candidates):\n",
    "    # debug crap\n",
    "    paper['identifier'] = paper['identifier'].lower().replace('arxiv:', '').replace(r'\\n', '').strip()\n",
    "    paper_id = paper['identifier']\n",
    "    \n",
    "    folder = f'tmp_{paper_id}'\n",
    "\n",
    "    try:\n",
    "        if not os.path.isdir(folder):\n",
    "            folder = retrieve_document_source(f\"{paper_id}\", f'tmp_{paper_id}')\n",
    "        \n",
    "        try:\n",
    "            doc = latex.LatexDocument(folder, validation=validation)    \n",
    "        except AffiliationError as affilerror:\n",
    "            msg = f\"ArXiv:{paper_id:s} is not an MPIA paper... \" + str(affilerror)\n",
    "            failed.append((paper, \"affiliation error: \" + str(affilerror) ))\n",
    "            continue\n",
    "        \n",
    "        # Hack because sometimes author parsing does not work well\n",
    "        if (len(doc.authors) != len(paper['authors'])):\n",
    "            doc._authors = paper['authors']\n",
    "        else:\n",
    "            # highlight authors (FIXME: doc.highlight_authors)\n",
    "            # done on arxiv paper already\n",
    "            doc._authors = highlight_authors_in_list(\n",
    "                [get_initials(k) for k in doc.authors], \n",
    "                mpia_authors, verbose=True)\n",
    "        if (doc.abstract) in (None, ''):\n",
    "            doc._abstract = paper['abstract']\n",
    "            \n",
    "        doc.comment = (get_markdown_badge(paper_id) + \n",
    "                       \"<mark>Appeared on: \" + paper['date'] + \"</mark> - \")\n",
    "        if paper['comments']:\n",
    "            doc.comment += \" _\" + paper['comments'] + \"_\"\n",
    "        \n",
    "        full_md = doc.generate_markdown_text()\n",
    "        \n",
    "        full_md += get_markdown_qrcode(paper_id)\n",
    "        \n",
    "        # replace citations\n",
    "        try:\n",
    "            bibdata = latex_bib.LatexBib.from_doc(doc)\n",
    "            full_md = latex_bib.replace_citations(full_md, bibdata)\n",
    "        except Exception as e:\n",
    "            print(\"Issues with the citations\")\n",
    "            print(e)\n",
    "        \n",
    "        documents.append((paper_id, full_md))\n",
    "    except Exception as e:\n",
    "        warnings.warn(latex.LatexWarning(f\"{paper_id:s} did not run properly\\n\" +\n",
    "                                         str(e)\n",
    "                                        ))\n",
    "        failed.append((paper, \"latex error \" + str(e)))"
   ]
  },
  {
   "cell_type": "markdown",
   "id": "2505a25c",
   "metadata": {
    "papermill": {
     "duration": 0.005096,
     "end_time": "2025-06-13T04:26:05.314242",
     "exception": false,
     "start_time": "2025-06-13T04:26:05.309146",
     "status": "completed"
    },
    "tags": []
   },
   "source": [
    "### Export the logs\n",
    "\n",
    "Throughout, we also keep track of the logs per paper. see `logs-{today date}.md` "
   ]
  },
  {
   "cell_type": "code",
   "execution_count": 6,
   "id": "d733828a",
   "metadata": {
    "execution": {
     "iopub.execute_input": "2025-06-13T04:26:05.326596Z",
     "iopub.status.busy": "2025-06-13T04:26:05.325978Z",
     "iopub.status.idle": "2025-06-13T04:26:05.348127Z",
     "shell.execute_reply": "2025-06-13T04:26:05.347557Z"
    },
    "papermill": {
     "duration": 0.02933,
     "end_time": "2025-06-13T04:26:05.349205",
     "exception": false,
     "start_time": "2025-06-13T04:26:05.319875",
     "status": "completed"
    },
    "scrolled": false,
    "tags": []
   },
   "outputs": [
    {
     "data": {
      "text/markdown": [
       "## Successful papers"
      ],
      "text/plain": [
       "<IPython.core.display.Markdown object>"
      ]
     },
     "metadata": {},
     "output_type": "display_data"
    },
    {
     "data": {
      "text/markdown": [
       "\n",
       "|||\n",
       "|---:|:---|\n",
       "| [![arXiv](https://img.shields.io/badge/arXiv-2506.10063-b31b1b.svg)](https://arxiv.org/abs/2506.10063) | **Time-scales of polycyclic aromatic hydrocarbon and dust continuum emission from gas clouds compared to molecular gas cloud lifetimes in PHANGS-JWST galaxies**  |\n",
       "|| J. Kim, et al. -- incl., <mark>K. Kreckel</mark>, <mark>A. Hughes</mark> |\n",
       "|*Appeared on*| *2025-06-13*|\n",
       "|*Comments*| *Accepted for publication in ApJ*|\n",
       "|**Abstract**|            Recent JWST mid-infrared (mid-IR) images, tracing polycyclic aromatic hydrocarbons (PAHs) and dust continuum emission, provide detailed views of the interstellar medium (ISM) in nearby galaxies. Leveraging PHANGS-JWST Cycle 1 and PHANGS-MUSE data, we measure the PAH and dust continuum emission lifetimes of gas clouds across 17 nearby star-forming galaxies by analyzing the relative spatial distributions of mid-IR (7.7-11.3$\\mu$m) and H$\\alpha$ emission at various scales. We find that the mid-IR emitting time-scale of gas clouds in galaxy disks (excluding centers) ranges from 10 to 30Myr. After star formation is detected in H$\\alpha$, mid-IR emission persists for 3-7Myr during the stellar feedback phase, covering 70-80% of the H$\\alpha$ emission. This significant overlap is due to intense radiation from star-forming regions, illuminating the surrounding PAHs and dust grains. In most galaxies, the mid-IR time-scale closely matches the molecular cloud lifetime measured with CO. Although mid-IR emission is complex as influenced by ISM distribution, radiation, and abundances of dust and PAHs, the similarity between the two time-scales suggests that once gas clouds form with compact mid-IR emission, they quickly provide sufficient shielding for stable CO formation. This is likely due to our focus on molecular gas-rich regions of galaxies with near-solar metallicity. Finally, we find that the mid-IR emitting time-scale is longer in galaxies with well-defined HII regions and less structured backgrounds, allowing photons to more efficiently heat the ambient ISM surrounding the HII regions, rather than contributing to diffuse emission. This suggests that the shape of the ISM also influences mid-IR emission.         |"
      ],
      "text/plain": [
       "[2506.10063] Time-scales of polycyclic aromatic hydrocarbon and dust continuum emission from gas clouds compared to molecular gas cloud lifetimes in PHANGS-JWST galaxies\n",
       "\tJ. Kim, et al. -- incl., <mark>K. Kreckel</mark>, <mark>A. Hughes</mark>"
      ]
     },
     "metadata": {},
     "output_type": "display_data"
    },
    {
     "data": {
      "text/markdown": [
       "\n",
       "|||\n",
       "|---:|:---|\n",
       "| [![arXiv](https://img.shields.io/badge/arXiv-2506.10719-b31b1b.svg)](https://arxiv.org/abs/2506.10719) | **The ALMA Survey of Gas Evolution of PROtoplanetary Disks (AGE-PRO): I. Program Overview and Summary of First Results**  |\n",
       "|| K. Zhang, et al. -- incl., <mark>K. Schwarz</mark> |\n",
       "|*Appeared on*| *2025-06-13*|\n",
       "|*Comments*| *Accepted for publication in ApJ for the special issue of AGE-PRO*|\n",
       "|**Abstract**|            We present the ALMA Survey of Gas Evolution of PROtoplanetary Disks (AGE-PRO), a Large Program of the Atacama Large Millimeter/submillimeter Array (ALMA). AGE-PRO aims to systematically trace the evolution of gas disk mass and size throughout the lifetime of protoplanetary disks. It uses a carefully selected sample of 30 disks around M3-K6 stars in three nearby star-forming regions: Ophiuchus (0.5-1 Myr), Lupus (1-3 Myr), and Upper Sco (2-6 Myr). Assuming the three regions had similar initial conditions and evolutionary paths, we find the median gas disk mass appears to decrease with age. Ophiuchus disks have the highest median gas mass (6 M$_{\\rm Jup}$), while the Lupus and Upper Sco disks have significantly lower median masses (0.68 and 0.44 M$_{\\rm Jup}$, respectively). Notably, the gas and dust disk masses appear to evolve on different timescales. This is evidenced by the median gas-to-dust mass ratio, which decreases from 122 in the youngest disks ($<$1 Myr) to 46 in Lupus disks, and then increases to 120 in the Upper Sco disks. The median gas disk sizes range between 74-110 au, suggesting that typical gas disks are much smaller than those of well-studied, massive disks. Population synthesis models suggest that magneto-hydrodynamic wind-driven accretion can reproduce median disk properties across all three regions, when assuming compact disks with a declining magnetic field over time. In contrast, turbulent-driven models overestimate gas masses of $>$1 Myr disks by an order of magnitude. Here we discuss the program's motivation, survey design, sample selection, observation and data calibration processes, and highlight the initial results.         |"
      ],
      "text/plain": [
       "[2506.10719] The ALMA Survey of Gas Evolution of PROtoplanetary Disks (AGE-PRO): I. Program Overview and Summary of First Results\n",
       "\tK. Zhang, et al. -- incl., <mark>K. Schwarz</mark>"
      ]
     },
     "metadata": {},
     "output_type": "display_data"
    },
    {
     "data": {
      "text/markdown": [
       "\n",
       "|||\n",
       "|---:|:---|\n",
       "| [![arXiv](https://img.shields.io/badge/arXiv-2506.10738-b31b1b.svg)](https://arxiv.org/abs/2506.10738) | **The ALMA Survey of Gas Evolution of PROtoplanetary Disks (AGE-PRO): V. Protoplanetary gas disk masses**  |\n",
       "|| L. Trapman, et al. -- incl., <mark>K. Schwarz</mark> |\n",
       "|*Appeared on*| *2025-06-13*|\n",
       "|*Comments*| *Accepted for publication in ApJ for the special issue of AGE-PRO*|\n",
       "|**Abstract**|            The evolution of the gas mass of planet-forming disks around young stars is crucial for our understanding of planet formation, yet it has proven hard to constrain observationally, due both to the difficulties of measuring gas masses and the lack of a homogeneous sample. Here we present a large grid of thermochemical models which we use to measure protoplanetary gas disk masses of AGE-PRO, the ALMA survey of Gas Evolution in PROtoplanetary disks. AGE-PRO covers a sample of 30 disks around similar spectral type (M3-K6) stars with ages between 0.1 and 10 Myr. Our approach is to simultaneously fit observations of CO isotopologues and N2H+, a complementary molecule produced when CO freezes out. We find that the median gas mass of the three regions decreases over time, from 7.0(+4.4,-2.6)x10^-3 Msun in Ophiuchus (<1 Myr) to 9.4(+5.4,-3.4)x10^-4 Msun for Lupus (~1-3 Myr) and 6.8(+5.1,-2.8)x10^-4 Msun for Upper Sco (~2-6 Myr), with ~1 dex scatter in gas mass in each region. We note that the gas mass distributions for Lupus and Upper Sco look very similar, which could be due to survivorship bias for the latter. The median bulk CO abundance in the CO emitting layer is found to be a factor ~10 lower than the ISM value but does not significantly change between Lupus and Upper Sco. From Lupus to Upper Sco the median gas-to-dust mass ratio increases by a factor ~3 from ~40 to ~120, suggesting efficient inward pebble drift and/or the formation of planetesimals.         |"
      ],
      "text/plain": [
       "[2506.10738] The ALMA Survey of Gas Evolution of PROtoplanetary Disks (AGE-PRO): V. Protoplanetary gas disk masses\n",
       "\tL. Trapman, et al. -- incl., <mark>K. Schwarz</mark>"
      ]
     },
     "metadata": {},
     "output_type": "display_data"
    },
    {
     "data": {
      "text/markdown": [
       "\n",
       "|||\n",
       "|---:|:---|\n",
       "| [![arXiv](https://img.shields.io/badge/arXiv-2506.10742-b31b1b.svg)](https://arxiv.org/abs/2506.10742) | **The ALMA Survey of Gas Evolution of PROtoplanetary Disks (AGE-PRO): VII. Testing accretion mechanisms from disk population synthesis**  |\n",
       "|| B. Tabone, et al. -- incl., <mark>A. Somigliana</mark>, <mark>K. Schwarz</mark> |\n",
       "|*Appeared on*| *2025-06-13*|\n",
       "|*Comments*| *Accepted for publication in ApJ for the special issue of AGE-PRO*|\n",
       "|**Abstract**|            The architecture of planetary systems depends on the evolution of the disks in which they form. In this work, we develop a population synthesis approach to interpret the AGE-PRO measurements of disk gas mass and size considering two scenarios: turbulence-driven evolution with photoevaporative winds and MHD disk-wind-driven evolution. A systematic method is proposed to constrain the distribution of disk parameters from the disk fractions, accretion rates, disk gas masses, and CO gas sizes. We find that turbulence-driven accretion with initially compact disks ($R_0 \\simeq 5-20~$au), low mass-loss rates, and relatively long viscous timescales ($t_{\\nu,0} \\simeq 0.4-3~$Myr or $\\alpha_{SS} \\simeq 2-4 \\times 10^{-4}$) can reproduce the disk fraction and gas sizes. However, the distribution of apparent disk lifetime defined as the $M_D/\\dot{M}_*$ ratio is severely overestimated by turbulence-driven models. On the other hand, MHD wind-driven accretion can reproduce the bulk properties of the disk populations from Ophiuchus to Upper Sco assuming compact disks with an initial magnetization of about $\\beta \\simeq 10^5$ ($\\alpha_{DW} \\simeq 0.5-1 \\times 10^{-3}$) and a magnetic field that declines with time. More studies are needed to confirm the low masses found by AGE-PRO, notably for compact disks that question turbulence-driven accretion. The constrained synthetic disk populations can now be used for realistic planet population models to interpret the properties of planetary systems on a statistical basis.         |"
      ],
      "text/plain": [
       "[2506.10742] The ALMA Survey of Gas Evolution of PROtoplanetary Disks (AGE-PRO): VII. Testing accretion mechanisms from disk population synthesis\n",
       "\tB. Tabone, et al. -- incl., <mark>A. Somigliana</mark>, <mark>K. Schwarz</mark>"
      ]
     },
     "metadata": {},
     "output_type": "display_data"
    },
    {
     "data": {
      "text/markdown": [
       "## Failed papers"
      ],
      "text/plain": [
       "<IPython.core.display.Markdown object>"
      ]
     },
     "metadata": {},
     "output_type": "display_data"
    },
    {
     "data": {
      "text/markdown": [
       "\n",
       "|||\n",
       "|---:|:---|\n",
       "| [![arXiv](https://img.shields.io/badge/arXiv-2506.10122-b31b1b.svg)](https://arxiv.org/abs/2506.10122) | **A novel method to trace the dark matter density profile around supermassive black holes with AGN reverberation mapping**  |\n",
       "|| <mark>M. Sharma</mark>, G. Herrera, N. Arav, S. Horiuchi |\n",
       "|*Appeared on*| *2025-06-13*|\n",
       "|*Comments*| *8 pages, 3 figures*|\n",
       "|**Abstract**|            We propose a new method to determine the dark matter density profile in the vicinity of distant supermassive black holes (SMBH) using reverberation mapping measurements of active galactic nuclei (AGN). For some AGN, the mapping of multiple emission lines allows us to measure the enclosed mass within different radii from the central SMBH, which allows us to infer or constrain the dark matter density profile on sub-pc scales. We find that for five out of fourteen AGN in our identified sample, the observed enclosed mass grows with radii, hinting evidence for the presence of a dark matter component at the 1-2 $\\sigma$ level. For these sources, we find global evidence for a universal dark matter profile with a preferred radial steepness of index $\\gamma \\sim 1.6$, consistent with the scenario expected for a dark matter spike mildly relaxed by stellar heating processes. For the remaining AGN in our sample, we are able to derive upper limits on the dark matter density profile parameters. Interestingly, the strongest evidence for a dark matter component arises from the farthest object considered, 3C 390. This new method allows us to measure or constrain for the first time the dark matter density in the vicinity of extragalactic SMBHs, which is crucial to our understanding of the dynamics and nature of dark matter.         |\n",
       "|<p style=\"color:green\"> **ERROR** </p>| <p style=\"color:green\">affiliation error: mpia.affiliation_verifications: 'Heidelberg' keyword not found.</p> |"
      ],
      "text/plain": [
       "<IPython.core.display.Markdown object>"
      ]
     },
     "metadata": {},
     "output_type": "display_data"
    },
    {
     "data": {
      "text/markdown": [
       "\n",
       "|||\n",
       "|---:|:---|\n",
       "| [![arXiv](https://img.shields.io/badge/arXiv-2506.10565-b31b1b.svg)](https://arxiv.org/abs/2506.10565) | **Searching for radio pulses from radio-quiet gamma-ray pulsars with FAST**  |\n",
       "|| S. Wang, et al. -- incl., <mark>N. Wang</mark> |\n",
       "|*Appeared on*| *2025-06-13*|\n",
       "|*Comments*| *11 pages, 4 figures, Accepted for publication in ApJ*|\n",
       "|**Abstract**|            We present periodicity and single-pulse searches at 1250 MHz for 22 radio-quiet gamma-ray pulsars, conducted using the Five-hundred-meter Aperture Spherical Radio Telescope (FAST). For PSR J1813$-$1246, we successfully detected pulsed signals with a spin period of 48.08 ms and a dispersion measure of 209.85 ${\\rm pc cm^{-3}}$, consistent with the spin period measured at gamma-ray wavelengths. The estimated flux density is approximately 9 $\\mu$Jy. For the remaining 21 sources, no radio emission was detected, with flux density upper limits of several $ \\mu$Jy. The capability to detect pulsars with such low flux densities provides the opportunity to determine if and how these faint sources differ from much radio-brighter pulsars.         |\n",
       "|<p style=\"color:green\"> **ERROR** </p>| <p style=\"color:green\">affiliation error: mpia.affiliation_verifications: 'Heidelberg' keyword not found.</p> |"
      ],
      "text/plain": [
       "<IPython.core.display.Markdown object>"
      ]
     },
     "metadata": {},
     "output_type": "display_data"
    },
    {
     "data": {
      "text/markdown": [
       "\n",
       "|||\n",
       "|---:|:---|\n",
       "| [![arXiv](https://img.shields.io/badge/arXiv-2506.10731-b31b1b.svg)](https://arxiv.org/abs/2506.10731) | **The ALMA Survey of Gas Evolution of PROtoplanetary Disks (AGE-PRO): II. Dust and Gas Disk Properties in the Ophiuchus Star-forming Region**  |\n",
       "|| D. A. Ruiz-Rodriguez, et al. -- incl., <mark>K. Schwarz</mark> |\n",
       "|*Appeared on*| *2025-06-13*|\n",
       "|*Comments*| *Accepted for publication in ApJ for the special issue of AGE-PRO*|\n",
       "|**Abstract**|            The ALMA survey of Gas Evolution in PROtoplanetary disks (AGE-PRO) Large Program aims to trace the evolution of gas disk mass and size throughout the lifetime of protoplanetary disks. This paper presents Band-6 ALMA observations of 10 embedded (Class I and Flat Spectrum) sources in the Ophiuchus molecular cloud, with spectral types ranging from M3 to K6 stars, which serve as the evolutionary starting point in the AGE-PRO sample. While we find 4 nearly edge on disks (>70 deg.), and 3 highly inclined disks (>60 deg.) in our sample, we show that, as a population, embedded disks in Ophiuchus are not significantly contaminated by more evolved, but highly inclined sources. We derived dust disk masses from the Band 6 continuum and estimated gas disk masses from the C18O and C17O lines. The mass estimates from the C17O line are slightly higher, suggesting C18O emission might be partially optically thick. While the 12CO and 13CO lines are severely contaminated by extended emission and self-absorption, the C18O and C17O lines allowed us to trace the radial extent of the gaseous disks. From these measurements, we found that the C18O and C17O fluxes correlate well with each other and with the continuum fluxes. Furthermore, the C18O and C17O lines present a larger radial extension than disk dust sizes by factors ranging from 1.5 to 2.5, as it is found for Class II disks using the radial extension of the 12CO. In addition, we have detected outflows in three disks from 12CO observations.         |\n",
       "|<p style=\"color:red\"> **ERROR** </p>| <p style=\"color:red\">latex error list index out of range</p> |"
      ],
      "text/plain": [
       "<IPython.core.display.Markdown object>"
      ]
     },
     "metadata": {},
     "output_type": "display_data"
    },
    {
     "data": {
      "text/markdown": [
       "\n",
       "|||\n",
       "|---:|:---|\n",
       "| [![arXiv](https://img.shields.io/badge/arXiv-2506.10734-b31b1b.svg)](https://arxiv.org/abs/2506.10734) | **The ALMA Survey of Gas Evolution of PROtoplanetary Disks (AGE-PRO): III. Dust and Gas Disk Properties in the Lupus Star-forming Region**  |\n",
       "|| D. Deng, et al. -- incl., <mark>K. Schwarz</mark> |\n",
       "|*Appeared on*| *2025-06-13*|\n",
       "|*Comments*| *Accepted for publication in ApJ for the special issue of AGE-PRO*|\n",
       "|**Abstract**|            We present Band 6 and Band 7 observations of 10 Lupus disks around M3-K6 stars from the ALMA survey of Gas Evolution in PROtoplanetary disks (AGE-PRO) Large Program. In addition to continuum emission in both bands, our Band 6 setup covers the $\\mathrm{{}^{12}CO}$, $\\mathrm{{}^{13}CO}$ and $\\mathrm{C^{18}O}\\,J$=2-1 lines, while our Band 7 setup covers the $\\mathrm{N_2H^+}\\,J$=3-2 line. All of our sources are detected in $\\mathrm{{}^{12}CO}$ and $\\mathrm{{}^{13}CO}$, 7 out of 10 are detected in $\\mathrm{C^{18}O}$, and 3 are detected in $\\mathrm{N_2H^+}$. We find strong correlations between the CO isotopologue line fluxes and the continuum flux densities. With the exception of one disk, we also identify a strong correlation between the $\\mathrm{C^{18}O}\\,J$=2-1 and $\\mathrm{N_2H^+}\\,J$=3-2 fluxes, indicating similar CO abundances across this sample. For the two sources with well-resolved continuum and $\\mathrm{{}^{12}CO}\\,J$=2-1 images, we find that their gas-to-dust size ratio is consistent with the median value of $\\sim 2$ inferred from a larger sample of Lupus disks. We derive dust disk masses from continuum flux densities. We estimate gas disk masses by comparing $\\mathrm{C^{18}O}\\,J$=2-1 line fluxes with those predicted by the limited grid of self-consistent disk models of Ruaud et al. (2022). A comparison of these mass estimates with those derived by Trapman et al. (2025), using a combination of CO isotopologue and $\\mathrm{N_2H^+}$ line emission, shows that the masses are consistent with each other. Some discrepancies appear for small and faint disks, but they are still within the uncertainties. Both methods find gas disk masses increase with dust disk masses, and gas-to-dust mass ratios are between $10-100$ in the AGE-PRO Lupus sample.         |\n",
       "|<p style=\"color:red\"> **ERROR** </p>| <p style=\"color:red\">latex error list index out of range</p> |"
      ],
      "text/plain": [
       "<IPython.core.display.Markdown object>"
      ]
     },
     "metadata": {},
     "output_type": "display_data"
    },
    {
     "data": {
      "text/markdown": [
       "\n",
       "|||\n",
       "|---:|:---|\n",
       "| [![arXiv](https://img.shields.io/badge/arXiv-2506.10735-b31b1b.svg)](https://arxiv.org/abs/2506.10735) | **The ALMA Survey of Gas Evolution of PROtoplanetary Disks (AGE-PRO): IV. Dust and Gas Disk Properties in the Upper Scorpius Star-forming Region**  |\n",
       "|| C. Agurto-Gangas, et al. -- incl., <mark>K. Schwarz</mark> |\n",
       "|*Appeared on*| *2025-06-13*|\n",
       "|*Comments*| *Accepted for publication in ApJ for the special issue of AGE-PRO*|\n",
       "|**Abstract**|            The Atacama Large Millimeter/submillimeter Array (ALMA) large program AGE-PRO explores protoplanetary disk evolution by studying gas and dust across various ages. This work focuses on ten evolved disks in Upper Scorpius, observed in dust continuum emission, CO and its isotopologues, and N$_2$H$^+$ with ALMA Bands 6 and 7. Disk radii, from the radial location enclosing 68% of the flux, are comparable to those in the younger Lupus region for both gas and dust tracers. However, solid masses are about an order of magnitude below those in Lupus and Ophiuchus, while the dust spectral index suggests some level of dust evolution. These empirical findings align with a combination of radial drift, dust trapping, and grain growth into larger bodies. A moderate correlation between CO and continuum fluxes suggests a link between gas and dust content, through the increased scatter compared to younger regions, possibly due to age variations, gas-to-dust ratio differences, or CO depletion. Additionally, the correlation between C$^{18}$O and N$_2$H$^+$ fluxes observed in Lupus persists in Upper Sco, indicating a relatively stable CO gas abundance over the Class II stage of disk evolution. In conclusion, the AGE-PRO survey of Upper Scorpius disks reveals intriguing trends in disk evolution. The findings point towards potential gas evolution and the presence of dust traps in these older disks. Future high-resolution observations are needed to confirm these possibilities and further refine our understanding of disk evolution and planet formation in older environments.         |\n",
       "|<p style=\"color:red\"> **ERROR** </p>| <p style=\"color:red\">latex error list index out of range</p> |"
      ],
      "text/plain": [
       "<IPython.core.display.Markdown object>"
      ]
     },
     "metadata": {},
     "output_type": "display_data"
    }
   ],
   "source": [
    "import datetime\n",
    "today = str(datetime.date.today())\n",
    "logfile = f\"_build/html/logs/log-{today}.md\"\n",
    "\n",
    "\n",
    "with open(logfile, 'w') as logs:\n",
    "    # Success\n",
    "    logs.write(f'# Arxiv on Deck 2: Logs - {today}\\n\\n')\n",
    "    logs.write(\"\"\"* Arxiv had {0:,d} new papers\\n\"\"\".format(len(new_papers)))\n",
    "    logs.write(\"\"\"    * {0:,d} with possible author matches\\n\\n\"\"\".format(len(candidates)))\n",
    "    logs.write(\"## Sucessful papers\\n\\n\")\n",
    "    display(Markdown(\"## Successful papers\"))\n",
    "    success = [k[0] for k in documents]\n",
    "    for candid in candidates:\n",
    "        if candid['identifier'].split(':')[-1] in success:\n",
    "            display(candid)\n",
    "            logs.write(candid.generate_markdown_text() + '\\n\\n')\n",
    "\n",
    "    ## failed\n",
    "    logs.write(\"## Failed papers\\n\\n\")\n",
    "    display(Markdown(\"## Failed papers\"))\n",
    "    failed = sorted(failed, key=lambda x: x[1])\n",
    "    current_reason = \"\"\n",
    "    for paper, reason in failed:\n",
    "        if 'affiliation' in reason:\n",
    "            color = 'green'\n",
    "        else:\n",
    "            color = 'red'\n",
    "        data = Markdown(\n",
    "                paper.generate_markdown_text() + \n",
    "                f'\\n|<p style=\"color:{color:s}\"> **ERROR** </p>| <p style=\"color:{color:s}\">{reason:s}</p> |'\n",
    "               )\n",
    "        if reason != current_reason:\n",
    "            logs.write(f'### {reason:s} \\n\\n')\n",
    "            current_reason = reason\n",
    "        logs.write(data.data + '\\n\\n')\n",
    "        \n",
    "        # only display here the important errors (all in logs)\n",
    "        # if color in ('red',):\n",
    "        display(data)"
   ]
  },
  {
   "cell_type": "markdown",
   "id": "472d20ee",
   "metadata": {
    "papermill": {
     "duration": 0.006207,
     "end_time": "2025-06-13T04:26:05.361846",
     "exception": false,
     "start_time": "2025-06-13T04:26:05.355639",
     "status": "completed"
    },
    "tags": []
   },
   "source": [
    "## Export documents\n",
    "\n",
    "We now write the .md files and export relevant images"
   ]
  },
  {
   "cell_type": "code",
   "execution_count": 7,
   "id": "d426aed9",
   "metadata": {
    "execution": {
     "iopub.execute_input": "2025-06-13T04:26:05.375678Z",
     "iopub.status.busy": "2025-06-13T04:26:05.375118Z",
     "iopub.status.idle": "2025-06-13T04:26:05.382493Z",
     "shell.execute_reply": "2025-06-13T04:26:05.381880Z"
    },
    "papermill": {
     "duration": 0.015529,
     "end_time": "2025-06-13T04:26:05.383530",
     "exception": false,
     "start_time": "2025-06-13T04:26:05.368001",
     "status": "completed"
    },
    "tags": []
   },
   "outputs": [],
   "source": [
    "def export_markdown_summary(md: str, md_fname:str, directory: str):\n",
    "    \"\"\"Export MD document and associated relevant images\"\"\"\n",
    "    import os\n",
    "    import shutil\n",
    "    import re\n",
    "\n",
    "    if (os.path.exists(directory) and not os.path.isdir(directory)):\n",
    "        raise RuntimeError(f\"a non-directory file exists with name {directory:s}\")\n",
    "\n",
    "    if (not os.path.exists(directory)):\n",
    "        print(f\"creating directory {directory:s}\")\n",
    "        os.mkdir(directory)\n",
    "\n",
    "    fig_fnames = (re.compile(r'\\[Fig.*\\]\\((.*)\\)').findall(md) + \n",
    "                  re.compile(r'\\<img src=\"([^>\\s]*)\"[^>]*/>').findall(md))\n",
    "    print(\"found figures\", fig_fnames)\n",
    "    for fname in fig_fnames:\n",
    "        if 'http' in fname:\n",
    "            # No need to copy online figures\n",
    "            continue\n",
    "        if not os.path.exists(fname):\n",
    "            print(\"file not found\", fname)\n",
    "            continue\n",
    "        print(\"copying \", fname, \"to\", directory)\n",
    "        destdir = os.path.join(directory, os.path.dirname(fname))\n",
    "        destfname = os.path.join(destdir, os.path.basename(fname))\n",
    "        try:\n",
    "            os.makedirs(destdir)\n",
    "        except FileExistsError:\n",
    "            pass\n",
    "        shutil.copy(fname, destfname)\n",
    "    with open(os.path.join(directory, md_fname), 'w') as fout:\n",
    "        fout.write(md)\n",
    "    print(\"exported in \", os.path.join(directory, md_fname))\n",
    "    [print(\"    + \" + os.path.join(directory,fk)) for fk in fig_fnames]"
   ]
  },
  {
   "cell_type": "code",
   "execution_count": 8,
   "id": "014d04a4",
   "metadata": {
    "execution": {
     "iopub.execute_input": "2025-06-13T04:26:05.397884Z",
     "iopub.status.busy": "2025-06-13T04:26:05.397152Z",
     "iopub.status.idle": "2025-06-13T04:26:05.420682Z",
     "shell.execute_reply": "2025-06-13T04:26:05.419895Z"
    },
    "papermill": {
     "duration": 0.031795,
     "end_time": "2025-06-13T04:26:05.421870",
     "exception": false,
     "start_time": "2025-06-13T04:26:05.390075",
     "status": "completed"
    },
    "tags": []
   },
   "outputs": [
    {
     "name": "stdout",
     "output_type": "stream",
     "text": [
      "found figures ['tmp_2506.10063/./obs_ngc1087.png', 'tmp_2506.10063/./heatmap_clean7.7.png', 'tmp_2506.10063/./heatmap_clean10.png', 'tmp_2506.10063/./heatmap_clean11.3.png', 'tmp_2506.10063/./obs_ngc1385.png']\n",
      "copying  tmp_2506.10063/./obs_ngc1087.png to _build/html/\n",
      "copying  tmp_2506.10063/./heatmap_clean7.7.png to _build/html/\n",
      "copying  tmp_2506.10063/./heatmap_clean10.png to _build/html/\n",
      "copying  tmp_2506.10063/./heatmap_clean11.3.png to _build/html/\n",
      "copying  tmp_2506.10063/./obs_ngc1385.png to _build/html/\n",
      "exported in  _build/html/2506.10063.md\n",
      "    + _build/html/tmp_2506.10063/./obs_ngc1087.png\n",
      "    + _build/html/tmp_2506.10063/./heatmap_clean7.7.png\n",
      "    + _build/html/tmp_2506.10063/./heatmap_clean10.png\n",
      "    + _build/html/tmp_2506.10063/./heatmap_clean11.3.png\n",
      "    + _build/html/tmp_2506.10063/./obs_ngc1385.png\n",
      "found figures ['tmp_2506.10719/figures/kmf_medians.png', 'tmp_2506.10719/figures/Fig_AGEPRO_age_groups.png', 'tmp_2506.10719/figures/kmf_medians_4ages.png']\n",
      "copying  tmp_2506.10719/figures/kmf_medians.png to _build/html/\n",
      "copying  tmp_2506.10719/figures/Fig_AGEPRO_age_groups.png to _build/html/\n",
      "copying  tmp_2506.10719/figures/kmf_medians_4ages.png to _build/html/\n",
      "exported in  _build/html/2506.10719.md\n",
      "    + _build/html/tmp_2506.10719/figures/kmf_medians.png\n",
      "    + _build/html/tmp_2506.10719/figures/Fig_AGEPRO_age_groups.png\n",
      "    + _build/html/tmp_2506.10719/figures/kmf_medians_4ages.png\n",
      "found figures ['', '', '', '', '', '', '', '']\n",
      "file not found \n",
      "file not found \n",
      "file not found \n",
      "file not found \n",
      "file not found \n",
      "file not found \n",
      "file not found \n",
      "file not found \n",
      "exported in  _build/html/2506.10738.md\n",
      "    + _build/html/\n",
      "    + _build/html/\n",
      "    + _build/html/\n",
      "    + _build/html/\n",
      "    + _build/html/\n",
      "    + _build/html/\n",
      "    + _build/html/\n",
      "    + _build/html/\n",
      "found figures ['tmp_2506.10742/./fit_summary_PEW_v6_rev.png', 'tmp_2506.10742/./fit_flow_chart_v3.png', 'tmp_2506.10742/./best_fit_CBF_v3.png']\n",
      "copying  tmp_2506.10742/./fit_summary_PEW_v6_rev.png to _build/html/\n",
      "copying  tmp_2506.10742/./fit_flow_chart_v3.png to _build/html/\n",
      "copying  tmp_2506.10742/./best_fit_CBF_v3.png to _build/html/\n",
      "exported in  _build/html/2506.10742.md\n",
      "    + _build/html/tmp_2506.10742/./fit_summary_PEW_v6_rev.png\n",
      "    + _build/html/tmp_2506.10742/./fit_flow_chart_v3.png\n",
      "    + _build/html/tmp_2506.10742/./best_fit_CBF_v3.png\n"
     ]
    }
   ],
   "source": [
    "for paper_id, md in documents:\n",
    "    export_markdown_summary(md, f\"{paper_id:s}.md\", '_build/html/')"
   ]
  },
  {
   "cell_type": "markdown",
   "id": "f087a0a7",
   "metadata": {
    "papermill": {
     "duration": 0.006366,
     "end_time": "2025-06-13T04:26:05.435014",
     "exception": false,
     "start_time": "2025-06-13T04:26:05.428648",
     "status": "completed"
    },
    "tags": []
   },
   "source": [
    "## Display the papers\n",
    "\n",
    "Not necessary but allows for a quick check."
   ]
  },
  {
   "cell_type": "code",
   "execution_count": 9,
   "id": "fd25f625",
   "metadata": {
    "execution": {
     "iopub.execute_input": "2025-06-13T04:26:05.449268Z",
     "iopub.status.busy": "2025-06-13T04:26:05.448611Z",
     "iopub.status.idle": "2025-06-13T04:26:05.458300Z",
     "shell.execute_reply": "2025-06-13T04:26:05.457608Z"
    },
    "papermill": {
     "duration": 0.018139,
     "end_time": "2025-06-13T04:26:05.459435",
     "exception": false,
     "start_time": "2025-06-13T04:26:05.441296",
     "status": "completed"
    },
    "scrolled": false,
    "tags": []
   },
   "outputs": [
    {
     "data": {
      "text/markdown": [
       "<div class=\"macros\" style=\"visibility:hidden;\">\n",
       "$\\newcommand{\\ensuremath}{}$\n",
       "$\\newcommand{\\xspace}{}$\n",
       "$\\newcommand{\\object}[1]{\\texttt{#1}}$\n",
       "$\\newcommand{\\farcs}{{.}''}$\n",
       "$\\newcommand{\\farcm}{{.}'}$\n",
       "$\\newcommand{\\arcsec}{''}$\n",
       "$\\newcommand{\\arcmin}{'}$\n",
       "$\\newcommand{\\ion}[2]{#1#2}$\n",
       "$\\newcommand{\\textsc}[1]{\\textrm{#1}}$\n",
       "$\\newcommand{\\hl}[1]{\\textrm{#1}}$\n",
       "$\\newcommand{\\footnote}[1]{}$\n",
       "$\\newcommand{\\vdag}{(v)^\\dagger}$\n",
       "$\\newcommand$\n",
       "$\\newcommand$\n",
       "$\\newcommand{\\Ox}{Sub-department of Astrophysics, Department of Physics, University of Oxford, Keble Road, Oxford OX1 3RH, UK}$\n",
       "$\\newcommand{\\UGent}{Sterrenkundig Observatorium, Universiteit Gent, Krijgslaan 281 S9, B-9000 Gent, Belgium}$\n",
       "$\\newcommand{\\STScI}{Space Telescope Science Institute, 3700 San Martin Drive, Baltimore, MD 21218, USA}$\n",
       "$\\newcommand{\\MPIA}{Max-Planck-Institut für Astronomie, Königstuhl 17, D-69117, Heidelberg, Germany}$\n",
       "$\\newcommand{\\AURA}{AURA for the European Space Agency (ESA), Space Telescope Science Institute, 3700 San Martin Drive, Baltimore, MD 21218, USA}$\n",
       "$\\newcommand{\\UCSD}{Department of Astronomy \\& Astrophysics, University of California, San Diego, 9500 Gilman Dr., La Jolla, CA 92093, USA}$\n",
       "$\\newcommand{\\JHU}{Department of Physics and Astronomy, The Johns Hopkins University, Baltimore, MD 21218, USA}$\n",
       "$\\newcommand{\\OSU}{Department of Astronomy, The Ohio State University, 140 West 18th Avenue, Columbus, OH 43210, USA}$\n",
       "$\\newcommand{ÇAPP}{Center for Cosmology and Astroparticle Physics (CCAPP), 191 West Woodruff Avenue, Columbus, OH 43210, USA}$\n",
       "$\\newcommand{\\ARI}{Astronomisches Rechen-Institut, Zentrum für Astronomie der Universität Heidelberg, Mönchhofstr. 12-14, D-69120 Heidelberg, Germany}$\n",
       "$\\newcommand{\\UConn}{Department of Physics, University of Connecticut, 196A Auditorium Road, Storrs, CT 06269, USA}$\n",
       "$\\newcommand{\\UHawaii}{Institute for Astronomy, University of Hawaii, 2680 Woodlawn Drive, Honolulu, HI 96822, USA}$\n",
       "$\\newcommand{\\UniCA}{Université C\\^{o}te d'Azur, Observatoire de la C\\^{o}te d'Azur, CNRS, Laboratoire Lagrange, 06000, Nice, France}$\n",
       "$\\newcommand{\\UAlberta}{Dept. of Physics, University of Alberta, 4-183 CCIS, Edmonton, Alberta, T6G 2E1, Canada}$\n",
       "$\\newcommand{\\Arcetri}{INAF — Osservatorio Astrofisico di Arcetri, Largo E. Fermi 5, I-50125, Florence, Italy}$\n",
       "$\\newcommand{\\UWyoming}{Department of Physics and Astronomy, University of Wyoming, Laramie, WY 82071, USA}$\n",
       "$\\newcommand{\\LJMU}{Astrophysics Research Institute, Liverpool John Moores University, 146 Brownlow Hill, Liverpool L3 5RF, UK}$\n",
       "$\\newcommand{\\ITA}{Universität Heidelberg, Zentrum für Astronomie, Institut für Theoretische Astrophysik, Albert-Ueberle-Str 2, D-69120 Heidelberg, Germany}$\n",
       "$\\newcommand{\\CfA}{Center for Astrophysics \\mid Harvard \\& Smithsonian, 60 Garden St., 02138 Cambridge, MA, USA}$\n",
       "$\\newcommand{\\MPE}{Max-Planck-Institut für Extraterrestrische Physik (MPE), Giessenbachstr. 1, D-85748 Garching, Germany}$\n",
       "$\\newcommand{\\Surrey}{Department of Physics, University of Surrey, Guildford GU2 7XH, UK}$\n",
       "$\\newcommand{\\ESO}{European Southern Observatory, Karl-Schwarzschild Stra{\\ss}e 2, D-85748 Garching bei München, Germany}$\n",
       "$\\newcommand{\\IWR}{Universität Heidelberg, Interdisziplinäres Zentrum für Wissenschaftliches Rechnen, Im Neuenheimer Feld 205, D-69120 Heidelberg, Germany}$\n",
       "$\\newcommand{\\ulyon}{Univ Lyon, Univ Lyon1, ENS de Lyon, CNRS, Centre de Recherche Astrophysique de Lyon UMR5574, F-69230 Saint-Genis-Laval France}$\n",
       "$\\newcommand{\\COOL}{Cosmic Origins Of Life (COOL) Research DAO, \\href{https://coolresearch.io}{https://coolresearch.io}}$\n",
       "$\\newcommand{\\OAN}{Observatorio Astron{ó}mico Nacional (IGN), C/ Alfonso XII 3, E-28014 Madrid, Spain}$\n",
       "$\\newcommand{\\UBonn}{Argelander-Institut für Astronomie, Universität Bonn, Auf dem Hügel 71, 53121 Bonn, Germany}$\n",
       "$\\newcommand{\\kipac}{Kavli Institute for Particle Astrophysics \\& Cosmology (KIPAC), Stanford University, CA 94305, USA}$\n",
       "$\\newcommand{\\Umanc}{Jodrell Bank Centre for Astrophysics, Department of Physics and Astronomy, University of Manchester, Oxford Road, Manchester M13 9PL, UK}$\n",
       "$\\newcommand{\\NRAO}{National Radio Astronomy Observatory, 520 Edgemont Road, Charlottesville, VA 22903, USA}$\n",
       "$\\newcommand{\\ANU}{Research School of Astronomy and Astrophysics, Australian National University, Canberra, ACT 2611, Australia}$\n",
       "$\\newcommand{\\AThreeD}{ARC Centre of Excellence for All Sky Astrophysics in 3 Dimensions (ASTRO 3D), Australia}$\n",
       "$\\newcommand{\\IAC}{Instituto de Astrofísica de Canarias, C/ Vía Láctea s/n, E-38205, La Laguna, Spain}$\n",
       "$\\newcommand{\\ULL}{Departamento de Astrofísica, Universidad de La Laguna, Av. del Astrofísico Francisco Sánchez s/n, E-38206, La Laguna, Spain}$\n",
       "$\\newcommand{\\Princeton}{Department of Astrophysical Sciences, Princeton University, 4 Ivy Lane, Princeton, NJ 08544, USA}$\n",
       "$\\newcommand{\\IRAM}{IRAM, 300 rue de la Piscine, 38400 Saint Martin d'Héres, France}$\n",
       "$\\newcommand{\\LERMA}{LERMA, Observatoire de Paris, PSL Research University, CNRS, Sorbonne Universités, 75014 Paris}$\n",
       "$\\newcommand{\\YB}{Centro de Desarrollos Tecnológicos, Observatorio de Yebes (IGN), 19141 Yebes, Guadalajara, Spain}$\n",
       "$\\newcommand{\\Whitman}{Whitman College, 345 Boyer Avenue, Walla Walla, WA 99362, USA}$\n",
       "$\\newcommand{\\IRAP}{IRAP, OMP, UPS, Université de Toulouse, 9 Av. du Colonel Roche, BP 44346, F-31028 Toulouse cedex 4, France}$\n",
       "$\\newcommand{\\ESOChile}{European Southern Observatory (ESO), Alonso de Córdova 3107, Casilla 19, Santiago 19001, Chile}$</div>\n",
       "\n",
       "\n",
       "\n",
       "<div id=\"title\">\n",
       "\n",
       "# Time-scales of polycyclic aromatic hydrocarbon and dust continuum emission from gas clouds compared to molecular gas cloud lifetimes in PHANGS-JWST galaxies\n",
       "\n",
       "</div>\n",
       "<div id=\"comments\">\n",
       "\n",
       "[![arXiv](https://img.shields.io/badge/arXiv-2506.10063-b31b1b.svg)](https://arxiv.org/abs/2506.10063)<mark>Appeared on: 2025-06-13</mark> -  _Accepted for publication in ApJ_\n",
       "\n",
       "</div>\n",
       "<div id=\"authors\">\n",
       "\n",
       "J. Kim, et al. -- incl., <mark>K. Kreckel</mark>, <mark>A. Hughes</mark>\n",
       "\n",
       "</div>\n",
       "<div id=\"abstract\">\n",
       "\n",
       "**Abstract:** Recent JWST mid-infrared (mid-IR) images, tracing polycyclic aromatic hydrocarbons (PAHs) and dust continuum emission, provide detailed views of the interstellar medium (ISM) in nearby galaxies. Leveraging PHANGS-JWST Cycle 1 and PHANGS-MUSE data, we measure the PAH and dust continuum emission lifetimes of gas clouds across 17 nearby star-forming galaxies by analyzing the relative spatial distributions of mid-IR (7.7-11.3 $\\mu$ m) and H $\\alpha$ emission at various scales. We find that the mid-IR emitting time-scale of gas clouds in galaxy disks (excluding centers) ranges from 10 to 30 Myr. After star formation is detected in H $\\alpha$ , mid-IR emission persists for 3-7 Myr during the stellar feedback phase, covering 70-80 \\% of the H $\\alpha$ emission. This significant overlap is due to intense radiation from star-forming regions, illuminating the surrounding PAHs and dust grains. In most galaxies, the mid-IR time-scale closely matches the molecular cloud lifetime measured with CO. Although mid-IR emission is complex as influenced by ISM distribution, radiation, and abundances of dust and PAHs, the similarity between the two time-scales suggests that once gas clouds form with compact mid-IR emission, they quickly provide sufficient shielding for stable CO formation. This is likely due to our focus on molecular gas-rich regions of galaxies with near-solar metallicity. Finally, we find that the mid-IR emitting time-scale is longer in galaxies with well-defined Hii regions and less structured backgrounds, allowing photons to more efficiently heat the ambient ISM surrounding the Hii regions, rather than contributing to diffuse emission. This suggests that the shape of the ISM also influences mid-IR emission.\n",
       "\n",
       "</div>\n",
       "\n",
       "<div id=\"div_fig1\">\n",
       "\n",
       "<img src=\"tmp_2506.10063/./obs_ngc1087.png\" alt=\"Fig17\" width=\"100%\"/>\n",
       "\n",
       "**Figure 17. -** _Top:_ Composite three color images of NGC 1087 created using CO (blue), H$\\alpha$(red), and mid-IR (green) observations. Each panel, from left to right, represents mid-IR emission of F770W, F1000W, and F1130W, respectively. The mid-IR observations have been convolved and regridded to match the coarser resolution and pixel grid of of H$\\alpha$ observations (see Section \\ref{ssec:post}). For visualization purposes, a power-law brightness scale with gamma correction ($\\gamma=2$) has been applied in the top panels. The color bars on the right reflect the true flux ranges in each observation. The left panel highlights the area analyzed, outlined by a polygon. It excludes the crowded galaxy center (ellipse) as well as artifacts and exceptionally bright peaks (circles). _Bottom:_ Locations of identified H$\\alpha$(orange triangles), CO (blue filled circles), and mid-IR (green open circles) emission peaks (see Section \\ref{sec:method}) are overlaid on CO map, shown in grayscale with a linear brightness scale. Again, from left to right, the mid-IR emission peaks correspond to peaks identified in F770W, F1000W, and F1130W maps respectively. The CO grayscale image uses the same intensity range as the CO emission in the top panels shown in blue, with range of flux indicated in the color bar on the right. (*fig:obs_1087*)\n",
       "\n",
       "</div>\n",
       "<div id=\"div_fig2\">\n",
       "\n",
       "<img src=\"tmp_2506.10063/./heatmap_clean7.7.png\" alt=\"Fig9.1\" width=\"33%\"/><img src=\"tmp_2506.10063/./heatmap_clean10.png\" alt=\"Fig9.2\" width=\"33%\"/><img src=\"tmp_2506.10063/./heatmap_clean11.3.png\" alt=\"Fig9.3\" width=\"33%\"/>\n",
       "\n",
       "**Figure 9. -** Spearman's rank correlation coefficients measured between galaxy properties (columns; Section \\ref{ssec:env}) and our measurements (rows; Section \\ref{sec:result}). From (a) to (c), correlations obtained using different mid-IR bands (7.7, 10, and 11.3 $\\mu$m) are shown, respectively. Statistically strong correlations are highlighted as black squares, with red indicating a positive correlation and blue indicating a negative one. Our measurements are the mid-IR emitting time-scale ($t_{\\rm g}$), feedback time-scale ($t_{\\rm fb}$), region separation length ($\\lambda$), ratios between time-scales ($t_{\\rm g}/t_{\\rm g}^{\\rm CO}$, $t_{\\rm fb}/t_{\\rm g}$, $t_{\\rm fb}/t_{\\rm s}$), duration of the mid-IR emitting phase dark in CO and H$\\alpha$($t_{\\rm CO-dark}$), difference between the overlap time-scales measured with mid-IR versus CO ($\\Delta t_{\\rm fb, CO}$), and diffuse emission fractions ($f_{\\rm diffuse}^{\\rm mid-IR}$ and $f_{\\rm diffuse}^{\\rm H\\alpha}$). We correlate these measurements with global galaxy properties, average kpc-scale galaxy properties, average GMC properties, average surface flux density contrasts between emission peaks and galactic average measured in mid-IR and H$\\alpha$ maps, and systematic biases described in Section \\ref{ssec:env}.\n",
       " (*fig:hm*)\n",
       "\n",
       "</div>\n",
       "<div id=\"div_fig3\">\n",
       "\n",
       "<img src=\"tmp_2506.10063/./obs_ngc1385.png\" alt=\"Fig20\" width=\"100%\"/>\n",
       "\n",
       "**Figure 20. -** Similar to Figure \\ref{fig:obs_1087}, showing observations and identified emission peaks of NGC 1385. (*fig:obs_others*)\n",
       "\n",
       "</div><div id=\"qrcode\"><img src=https://api.qrserver.com/v1/create-qr-code/?size=100x100&data=\"https://arxiv.org/abs/2506.10063\"></div>"
      ],
      "text/plain": [
       "<IPython.core.display.Markdown object>"
      ]
     },
     "metadata": {},
     "output_type": "display_data"
    },
    {
     "data": {
      "text/markdown": [
       "<div class=\"macros\" style=\"visibility:hidden;\">\n",
       "$\\newcommand{\\ensuremath}{}$\n",
       "$\\newcommand{\\xspace}{}$\n",
       "$\\newcommand{\\object}[1]{\\texttt{#1}}$\n",
       "$\\newcommand{\\farcs}{{.}''}$\n",
       "$\\newcommand{\\farcm}{{.}'}$\n",
       "$\\newcommand{\\arcsec}{''}$\n",
       "$\\newcommand{\\arcmin}{'}$\n",
       "$\\newcommand{\\ion}[2]{#1#2}$\n",
       "$\\newcommand{\\textsc}[1]{\\textrm{#1}}$\n",
       "$\\newcommand{\\hl}[1]{\\textrm{#1}}$\n",
       "$\\newcommand{\\footnote}[1]{}$\n",
       "$\\newcommand{\\vdag}{(v)^\\dagger}$\n",
       "$\\newcommand$\n",
       "$\\newcommand$\n",
       "$\\newcommand{\\ce}{C^{18}O}$\n",
       "$\\newcommand{\\ct}{^{13}CO}$\n",
       "$\\newcommand{\\cseven}{C^{17}O}$\n",
       "$\\newcommand{\\kms}{ km s^{-1}}$\n",
       "$\\newcommand{\\nco}{N_{\\rm CO}~}$\n",
       "$\\newcommand$\n",
       "$\\newcommand{\\todo}[1]{\\textcolor{red}{\\textbf{#1}}}$\n",
       "$\\newcommand{\\Coco}[1]{\\textcolor{black}{\\textbf{#1}}}$</div>\n",
       "\n",
       "\n",
       "\n",
       "<div id=\"title\">\n",
       "\n",
       "# The ALMA Survey of Gas Evolution of PROtoplanetary Disks (AGE-PRO): \\ I. Program Overview and Summary of First Results\n",
       "\n",
       "</div>\n",
       "<div id=\"comments\">\n",
       "\n",
       "[![arXiv](https://img.shields.io/badge/arXiv-2506.10719-b31b1b.svg)](https://arxiv.org/abs/2506.10719)<mark>Appeared on: 2025-06-13</mark> -  _Accepted for publication in ApJ for the special issue of AGE-PRO_\n",
       "\n",
       "</div>\n",
       "<div id=\"authors\">\n",
       "\n",
       "K. Zhang, et al. -- incl., <mark>K. Schwarz</mark>\n",
       "\n",
       "</div>\n",
       "<div id=\"abstract\">\n",
       "\n",
       "**Abstract:** We present the ALMA Survey of Gas Evolution of PROtoplanetary Disks (AGE-PRO), a Large Program of the Atacama Large Millimeter/submillimeter Array (ALMA). AGE-PRO aims to systematically trace the evolution of gas disk mass and size throughout the lifetime of protoplanetary disks. It uses a carefully selected sample of 30 disks around M3-K6 stars in three nearby star-forming regions: Ophiuchus (0.5-1 Myr), Lupus (1-3 Myr), and Upper Sco (2-6 Myr).Assuming the three regions had similar initial conditions and evolutionary paths, we find the median gas disk mass appears to decrease with age. Ophiuchus disks have the highest median gas mass (6 M $_{\\rm Jup}$ ), while the Lupus and Upper Sco disks have significantly lower median masses (0.68 and 0.44 M $_{\\rm Jup}$ , respectively). Notably, the gas and dust disk masses appear to evolve on different timescales. This is evidenced by the median gas-to-dust mass ratio, which decreases from 122 in the youngest disks ( $<$ 1 Myr) to 46 in Lupus disks, and then increases to 120 in the Upper Sco disks. The median gas disk sizes range between 74-110 au, suggesting that typical gas disks are much smaller than those of well-studied, massive disks. Population synthesis models suggest that magneto-hydrodynamic wind-driven accretion can reproduce median disk properties across all three regions, when assuming compact disks with a declining magnetic field over time. In contrast, turbulent-driven models overestimate gas masses of $>$ 1 Myr disks by an order of magnitude. Here we discuss the program's motivation, survey design, sample selection, observation and data calibration processes, and highlight the initial results.\n",
       "\n",
       "</div>\n",
       "\n",
       "<div id=\"div_fig1\">\n",
       "\n",
       "<img src=\"tmp_2506.10719/figures/kmf_medians.png\" alt=\"Fig8\" width=\"100%\"/>\n",
       "\n",
       "**Figure 8. -**  Comparison of disk properties in the Ophiuchus, Lupus, and Upper Sco samples. The circles are individual values and the squares are median values listed in Table \\ref{tab:median}. The gas disk sizes, R$_{\\rm CO, 90\\%}$ are measured as radius that encloses 90 \\% of the $^{12}$CO (2-1). Due to the severe cloud/envelope contamination in the $^{12}$CO emission of the Ophiuchus disks, we only measure R$_{\\rm CO, 90\\%}$ for the Lupus and Upper Sco disks  ([Trapman, Vioque and Kurtovic 2025]()) . The CO abundances of Ophiuchus disks are assumed to be at the ISM level  ([Zhang, Schwarz and Bergin 2020](), [Trapman, Zhang and Rosotti 2025]())  rather than constrained by \\ntwoh, and therefore, are not plotted. The spectral index of Ophiuchus disks is not constrained due to the lack of Band 7 observations. (*fig:disk_properties*)\n",
       "\n",
       "</div>\n",
       "<div id=\"div_fig2\">\n",
       "\n",
       "<img src=\"tmp_2506.10719/figures/Fig_AGEPRO_age_groups.png\" alt=\"Fig10\" width=\"100%\"/>\n",
       "\n",
       "**Figure 10. -** Isochronal ages of the Lupus and Upper Sco samples of AGE-PRO. The circles are individual ages and the squares represent the median ages of each group. The ages were derived based on stellar properties listed in Table \\ref{table:stars} and PMS evolutionary tracks of [ and Feiden (2016)](), [Baraffe, et. al (2015)](). The individual ages and their uncertainties can be found in [Deng, Vioque and Pascucci (2025)](), [Agurto-Gangas, Pérez and Sierra (2025)]().   (*fig:age_distribution*)\n",
       "\n",
       "</div>\n",
       "<div id=\"div_fig3\">\n",
       "\n",
       "<img src=\"tmp_2506.10719/figures/kmf_medians_4ages.png\" alt=\"Fig13\" width=\"100%\"/>\n",
       "\n",
       "**Figure 13. -** Comparison of disk properties in the Ophiuchus (0.5-1 Myr), Lupus (1-3 Myr), young Upper Sco group (2-3 Myr), and old Upper Sco group (4-6 Myr). This is the same as Figure \\ref{fig:disk_properties}, but with the Upper Sco sample divided into two groups that show different isochronal ages (see Figure \\ref{fig:age_distribution}). The circles are individual values and the squares are median values, further details in caption of Figure \\ref{fig:disk_properties}.\n",
       " (*fig:4group_disk_properties*)\n",
       "\n",
       "</div><div id=\"qrcode\"><img src=https://api.qrserver.com/v1/create-qr-code/?size=100x100&data=\"https://arxiv.org/abs/2506.10719\"></div>"
      ],
      "text/plain": [
       "<IPython.core.display.Markdown object>"
      ]
     },
     "metadata": {},
     "output_type": "display_data"
    },
    {
     "data": {
      "text/markdown": [
       "<div class=\"macros\" style=\"visibility:hidden;\">\n",
       "$\\newcommand{\\ensuremath}{}$\n",
       "$\\newcommand{\\xspace}{}$\n",
       "$\\newcommand{\\object}[1]{\\texttt{#1}}$\n",
       "$\\newcommand{\\farcs}{{.}''}$\n",
       "$\\newcommand{\\farcm}{{.}'}$\n",
       "$\\newcommand{\\arcsec}{''}$\n",
       "$\\newcommand{\\arcmin}{'}$\n",
       "$\\newcommand{\\ion}[2]{#1#2}$\n",
       "$\\newcommand{\\textsc}[1]{\\textrm{#1}}$\n",
       "$\\newcommand{\\hl}[1]{\\textrm{#1}}$\n",
       "$\\newcommand{\\footnote}[1]{}$\n",
       "$\\newcommand{\\vdag}{(v)^\\dagger}$\n",
       "$\\newcommand$\n",
       "$\\newcommand$\n",
       "$\\newcommand{\\dr}[0]{\\ensuremath{\\mathrm{d}r}}$\n",
       "$\\newcommand{\\mdisk}[0]{\\ensuremath{M_{\\rm disk}}}$\n",
       "$\\newcommand{\\mgas}[0]{\\ensuremath{M_{\\rm gas}}}$\n",
       "$\\newcommand{\\mdust}[0]{\\ensuremath{M_{\\rm dust}}}$\n",
       "$\\newcommand{\\rgas}[0]{\\ensuremath{R_{\\rm CO, 90\\%}}}$\n",
       "$\\newcommand{\\rdust}[0]{\\ensuremath{R_{\\rm dust, 90\\%}}}$\n",
       "$\\newcommand{\\rc}[0]{\\ensuremath{R_{\\rm c}}}$\n",
       "$\\newcommand{\\macc}[0]{\\ensuremath{\\dot{M}_{\\rm acc}}}$\n",
       "$\\newcommand{\\mstar}[0]{\\ensuremath{M_{*}}}$\n",
       "$\\newcommand{\\msun}[0]{\\ensuremath{\\mathrm{M}_{\\odot}}}$\n",
       "$\\newcommand{\\nhp}[0]{\\ensuremath{\\mathrm{N}_2\\mathrm{H}^+}}$\n",
       "$\\newcommand{\\co}[0]{\\ensuremath{^{12}\\mathrm{CO}}}$\n",
       "$\\newcommand{\\xco}[0]{\\ensuremath{^{13}\\mathrm{CO}}}$\n",
       "$\\newcommand{\\cyo}[0]{\\ensuremath{\\mathrm{C}^{18}\\mathrm{O}}}$\n",
       "$\\newcommand{\\zet}[0]{\\ensuremath{\\zeta_{\\rm CR}}}$\n",
       "$\\newcommand{\\htwo}[0]{\\ensuremath{\\mathrm{H}_{2}}}$\n",
       "$\\newcommand{\\abu}[0]{\\ensuremath{x_{\\rm CO}}}$\n",
       "$\\newcommand{\\arraystretch}{1.1}$\n",
       "$\\newcommand{\\arraystretch}{1.2}$\n",
       "$\\newcommand{\\arraystretch}{1.1}$\n",
       "$\\newcommand{\\arraystretch}{1.2}$</div>\n",
       "\n",
       "\n",
       "\n",
       "<div id=\"title\">\n",
       "\n",
       "# The ALMA Survey of Gas Evolution of PROtoplanetary Disks (AGE-PRO): V.  Protoplanetary gas disk masses\n",
       "\n",
       "</div>\n",
       "<div id=\"comments\">\n",
       "\n",
       "[![arXiv](https://img.shields.io/badge/arXiv-2506.10738-b31b1b.svg)](https://arxiv.org/abs/2506.10738)<mark>Appeared on: 2025-06-13</mark> -  _Accepted for publication in ApJ for the special issue of AGE-PRO_\n",
       "\n",
       "</div>\n",
       "<div id=\"authors\">\n",
       "\n",
       "L. Trapman, et al. -- incl., <mark>K. Schwarz</mark>\n",
       "\n",
       "</div>\n",
       "<div id=\"abstract\">\n",
       "\n",
       "**Abstract:** The evolution of the gas mass of planet-forming disks around young stars is crucial for our understanding of planet formation, yet it has proven hard to constrain observationally, due both to the difficulties of measuring gas masses and the lack of a homogeneous sample.Here we present a large grid of thermochemical models which we use to measure protoplanetary gas disk masses of AGE-PRO, the ALMA survey of Gas Evolution in PROtoplanetary disks. AGE-PRO covers a sample of 30 disks around similar spectral type (M3-K6) stars with ages between 0.1 and 10 Myr.Our approach is to simultaneously fit observations of CO isotopologues and $\\nhp$ , a complementary molecule produced when CO freezes out.We find that the median gas mass of the three regions decreases over time, from $7.0^{+4.4}_{-2.6}\\times10^{-3} \\msun$ in Ophiuchus ( $\\lesssim$ 1 Myr) to $9.4^{+5.4}_{-3.4}\\times10^{-4} \\msun$ for Lupus ( $\\sim$ 1-3 Myr) and $6.8^{+5.1}_{-2.8}\\times10^{-4} \\msun$ for Upper Sco ( $\\sim$ 2-6 Myr), with $\\sim1$ dex scatter in gas mass in each region. We note that the gas mass distributions for Lupus and Upper Sco look very similar, which could be due to survivorship bias for the latter.The median bulk CO abundance in the CO emitting layer is found to be a factor $\\sim10$ lower than the ISM value but does not significantly change between Lupus and Upper Sco.From Lupus to Upper Sco the median gas-to-dust mass ratio increases by a factor $\\sim3$ from $\\sim40$ to $\\sim120$ , suggesting efficient inward pebble drift and/or the formation of planetesimals.\n",
       "\n",
       "</div>\n",
       "\n",
       "<div id=\"div_fig1\">\n",
       "\n",
       "<img src=\"\" alt=\"Fig11.1\" width=\"50%\"/><img src=\"\" alt=\"Fig11.2\" width=\"50%\"/>\n",
       "\n",
       "**Figure 11. -** **Top panels**: $\\xco$ and $\\cyo$ 2-1 line luminosities $(i=0^{\\circ})$ for models with a gas mass of $\\mgas = 10^{-3} \\mathrm{M}_{\\odot}$. The same models are shown in each panel, with colors highlighting the effect of different disk parameters on the line luminosity (see Table \\ref{tab: model fixed parameters}). **Bottom panels**: as above, but showing $\\cyo$ 2-1 and $\\nhp$ 3-2 line luminosities $(i=0^{\\circ})$ for models with a gas mass of $\\mgas = 10^{-3} \\mathrm{M}_{\\odot}$, $x_{\\rm CO} = 10^{-5}$, and $\\zeta_{\\rm CR} = 10^{-18} \\mathrm{s}^{-1}$. The bottom right panel instead shows models with $\\zeta_{\\rm CR} \\in [10^{-19}, 10^{-18}, 10^{-17}] \\mathrm{s}^{-1}$.  (*fig: effect parameters*)\n",
       "\n",
       "</div>\n",
       "<div id=\"div_fig2\">\n",
       "\n",
       "<img src=\"\" alt=\"Fig15.1\" width=\"33%\"/><img src=\"\" alt=\"Fig15.2\" width=\"33%\"/><img src=\"\" alt=\"Fig15.3\" width=\"33%\"/>\n",
       "\n",
       "**Figure 15. -**  From top to bottom, left panels show the gas disk masses, gas-to-dust mass ratios and bulk CO gas abundance for sources in Ophiuchus (gray pentagons), Lupus (brown circles), and Upper Sco (green diamonds), all set against their dust disk mass. The markers show the median of the posterior distribution and the vertical lines denote its 16$^{\\rm th}$ and 84$^{\\rm th}$ quantile (see Section \\ref{sec: measuring gas masses with MCMC}).\n",
       "    The horizontal gray dashed lines in the top panel denotes the minimum mass solar nebula (MMSN; \\citealt{Hayashi1981}) and the mass of Jupiter. The diagonal dotted lines show a constant gas-to-dust mass ratio.\n",
       "    The right panels show histograms of the gas disk masses, gas-to-dust mass ratios and bulk CO gas abundance, obtained by summing the posterior distributions of individual sources and normalizing the histogram so that the sum over it equals ten. (*fig: final masses*)\n",
       "\n",
       "</div>\n",
       "<div id=\"div_fig3\">\n",
       "\n",
       "<img src=\"\" alt=\"Fig16.1\" width=\"33%\"/><img src=\"\" alt=\"Fig16.2\" width=\"33%\"/><img src=\"\" alt=\"Fig16.3\" width=\"33%\"/>\n",
       "\n",
       "**Figure 16. -** **Top left:** The correlation between $\\mgas$ and $\\rgas$, the latter being obtained from the best fit Nuker profile of the $\\co$ 2-1 emission (see \\citealt{AGEPRO_XI_gas_disk_sizes} for details). Black circles and purple diamonds represent sources in Lupus and Upper Sco, respectively. Blue hexagons shows the three disks with HD-based gas masses, TW Hya, DM Tau, and GM Aur, denoted by \"T\", \"D\", and \"G\". The orange dashed line shows a powerlaw fit to the observations. Shown in gray are analytically calculated $\\rgas$ for different combinations of $\\mgas$ and $\\rc$ using the analytical equation for $\\rgas$ from \\cite{Trapman2023}. Here we used $L_*=0.3 \\mathrm{L}_{\\odot}$, $\\gamma=1$, and $\\xi =0$(see \\citealt{Trapman2023} for details).\n",
       "    **Top right:**$\\rdust$ versus $\\mgas$ for the same sources. Note that the $\\rdust$ shown here were measured from the intensity profiles fitted to the visibilities (see \\citealt{AGEPRO_X_substructures} for details).\n",
       "    **Bottom:** The correlation between $\\mgas$ and $\\rc$ analytically derived from $\\mgas$ and $\\rgas$ following the method from \\cite{Trapman2023}(see Appendix \\ref{app: Rc derivation} for details.)  (*fig: Mgas-Rco-Rc correlation*)\n",
       "\n",
       "</div><div id=\"qrcode\"><img src=https://api.qrserver.com/v1/create-qr-code/?size=100x100&data=\"https://arxiv.org/abs/2506.10738\"></div>"
      ],
      "text/plain": [
       "<IPython.core.display.Markdown object>"
      ]
     },
     "metadata": {},
     "output_type": "display_data"
    },
    {
     "data": {
      "text/markdown": [
       "<div class=\"macros\" style=\"visibility:hidden;\">\n",
       "$\\newcommand{\\ensuremath}{}$\n",
       "$\\newcommand{\\xspace}{}$\n",
       "$\\newcommand{\\object}[1]{\\texttt{#1}}$\n",
       "$\\newcommand{\\farcs}{{.}''}$\n",
       "$\\newcommand{\\farcm}{{.}'}$\n",
       "$\\newcommand{\\arcsec}{''}$\n",
       "$\\newcommand{\\arcmin}{'}$\n",
       "$\\newcommand{\\ion}[2]{#1#2}$\n",
       "$\\newcommand{\\textsc}[1]{\\textrm{#1}}$\n",
       "$\\newcommand{\\hl}[1]{\\textrm{#1}}$\n",
       "$\\newcommand{\\footnote}[1]{}$\n",
       "$\\newcommand{\\vdag}{(v)^\\dagger}$\n",
       "$\\newcommand$\n",
       "$\\newcommand$\n",
       "$\\newcommand$\n",
       "$\\newcommand$\n",
       "$\\newcommand$\n",
       "$\\newcommand$\n",
       "$\\newcommand$\n",
       "$\\newcommand$\n",
       "$\\newcommand$\n",
       "$\\newcommand$\n",
       "$\\newcommand$\n",
       "$\\newcommand$\n",
       "$\\newcommand$\n",
       "$\\newcommand$\n",
       "$\\newcommand$\n",
       "$\\newcommand{\\BT}[1]{\\textcolor{black}{#1}}$\n",
       "$\\newcommand{\\PP}[1]{\\textcolor{black}{#1}}$\n",
       "$\\newcommand{\\BTbis}[1]{\\textcolor{black}{#1}}$\n",
       "$\\newcommand{\\revBT}[1]{\\textcolor{black}{#1}}$</div>\n",
       "\n",
       "\n",
       "\n",
       "<div id=\"title\">\n",
       "\n",
       "# The ALMA Survey of Gas Evolution of PROtoplanetary Disks (AGE-PRO):\\ VII. Testing accretion mechanisms from disk population synthesis\n",
       "\n",
       "</div>\n",
       "<div id=\"comments\">\n",
       "\n",
       "[![arXiv](https://img.shields.io/badge/arXiv-2506.10742-b31b1b.svg)](https://arxiv.org/abs/2506.10742)<mark>Appeared on: 2025-06-13</mark> -  _Accepted for publication in ApJ for the special issue of AGE-PRO_\n",
       "\n",
       "</div>\n",
       "<div id=\"authors\">\n",
       "\n",
       "B. Tabone, et al. -- incl., <mark>A. Somigliana</mark>, <mark>K. Schwarz</mark>\n",
       "\n",
       "</div>\n",
       "<div id=\"abstract\">\n",
       "\n",
       "**Abstract:** The architecture of planetary systems depends on the evolution of the disks in which they form. In this work, we develop a population synthesis approach to interpret the AGE-PRO measurements of disk gas mass and size considering two scenarios: turbulence-driven evolution with photoevaporative winds and MHD disk-wind-driven evolution. A systematic method is proposed to constrain the distribution of disk parameters from the disk fractions, accretion rates, disk gas masses, and CO gas sizes. We find that turbulence-driven accretion with initially compact disks ( $R_0 \\simeq 5-20 $ au), low mass-loss rates, and relatively long viscous timescales ( $t_{\\nu,0} \\simeq 0.4-3 $ Myr or $\\alpha_{SS} \\simeq 2-4 \\times 10^{-4}$ ) can reproduce the disk fraction and gas sizes. However, the distribution of apparent disk lifetime defined as the $M_D/\\dot{M}_*$ ratio is severely overestimated by turbulence-driven models. On the other hand, MHD wind-driven accretion can reproduce the bulk properties of the disk populations from Ophiuchus to Upper Sco assuming compact disks with an initial magnetization of about $\\beta \\simeq 10^5$ ( $\\alpha_{DW} \\simeq 0.5-1 \\times 10^{-3}$ ) and a magnetic field that declines with time. More studies are needed to confirm the low masses found by AGE-PRO, notably for compact disks that question turbulence-driven accretion. The constrained synthetic disk populations can now be used for realistic planet population models to interpret the properties of planetary systems on a statistical basis.\n",
       "\n",
       "</div>\n",
       "\n",
       "<div id=\"div_fig1\">\n",
       "\n",
       "<img src=\"tmp_2506.10742/./fit_summary_PEW_v6_rev.png\" alt=\"Fig12\" width=\"100%\"/>\n",
       "\n",
       "**Figure 12. -** Summary of the constraints on turbulence-driven disk evolution obtained from disk dispersal time and median accretion rate measured in Lupus (namely, after 2).\n",
       "The fitted values of \\medMO(panel a) and \\medMW(panel b) parameters are plotted as a function of \\medtnu for various values of \\medRO. The calculated median \\medRO and $<M_D>$ at the estimated age of Lupus (2 Myr) are shown in panels c) and d). Median CO gas size and disk mass estimated by AGE-PRO are represented by a grey-shaded area. None of the synthetic populations can simultaneously reproduce the low disk mass and the disk size. Focusing on $<R_{CO}>$, we selected three best-fit models outlined by black circles and boxes. (*fig:fig_stage_2-3_PEW*)\n",
       "\n",
       "</div>\n",
       "<div id=\"div_fig2\">\n",
       "\n",
       "<img src=\"tmp_2506.10742/./fit_flow_chart_v3.png\" alt=\"Fig2\" width=\"100%\"/>\n",
       "\n",
       "**Figure 2. -** Schematic view of the fitting stages for the turbulent (left) and the MHD disk-wind (right) models. This step-by-step approach allows us to build synthetic populations consistent with the observations in a rationalized approach.\n",
       " (*fig:scheme_fitting*)\n",
       "\n",
       "</div>\n",
       "<div id=\"div_fig3\">\n",
       "\n",
       "<img src=\"tmp_2506.10742/./best_fit_CBF_v3.png\" alt=\"Fig7\" width=\"100%\"/>\n",
       "\n",
       "**Figure 7. -** Cumulative distribution of the accretion rate, the disk mass, and the disk lifetime for the best fit MHD disk-wind (red) and turbulence-driven model (blue) versus the AGE-PRO sample focusing on 1-3 Myr disks (black). The MHD wind model reproduces well the distributions. The salient discrepancy between the turbulence-driven model and the observations lies in the $M_D/\\dot{M}_*$ ratio. The modeled cumulative distributions are computed assuming a detection threshold of $M_D= 10^{-5} M_{\\odot}$. (*fig:CDF_best_fit*)\n",
       "\n",
       "</div><div id=\"qrcode\"><img src=https://api.qrserver.com/v1/create-qr-code/?size=100x100&data=\"https://arxiv.org/abs/2506.10742\"></div>"
      ],
      "text/plain": [
       "<IPython.core.display.Markdown object>"
      ]
     },
     "metadata": {},
     "output_type": "display_data"
    }
   ],
   "source": [
    "[display(Markdown(k[1])) for k in documents];"
   ]
  },
  {
   "cell_type": "markdown",
   "id": "873873a4",
   "metadata": {
    "papermill": {
     "duration": 0.007241,
     "end_time": "2025-06-13T04:26:05.474243",
     "exception": false,
     "start_time": "2025-06-13T04:26:05.467002",
     "status": "completed"
    },
    "tags": []
   },
   "source": [
    "# Create HTML index"
   ]
  },
  {
   "cell_type": "code",
   "execution_count": 10,
   "id": "cf665672",
   "metadata": {
    "execution": {
     "iopub.execute_input": "2025-06-13T04:26:05.490520Z",
     "iopub.status.busy": "2025-06-13T04:26:05.489926Z",
     "iopub.status.idle": "2025-06-13T04:26:05.502054Z",
     "shell.execute_reply": "2025-06-13T04:26:05.501408Z"
    },
    "papermill": {
     "duration": 0.021714,
     "end_time": "2025-06-13T04:26:05.503179",
     "exception": false,
     "start_time": "2025-06-13T04:26:05.481465",
     "status": "completed"
    },
    "tags": []
   },
   "outputs": [
    {
     "name": "stdout",
     "output_type": "stream",
     "text": [
      "521  publications files modified in the last 7 days.\n"
     ]
    }
   ],
   "source": [
    "from datetime import datetime, timedelta, timezone\n",
    "from glob import glob\n",
    "import os\n",
    "\n",
    "files = glob('_build/html/*.md')\n",
    "days = 7\n",
    "now = datetime.today()\n",
    "res = []\n",
    "for fk in files:\n",
    "    stat_result = os.stat(fk).st_ctime\n",
    "    modified = datetime.fromtimestamp(stat_result, tz=timezone.utc).replace(tzinfo=None)\n",
    "    delta = now.today() - modified\n",
    "    if delta <= timedelta(days=days):\n",
    "        res.append((delta.seconds, fk))\n",
    "res = [k[1] for k in reversed(sorted(res, key=lambda x:x[1]))]\n",
    "npub = len(res)\n",
    "print(len(res), f\" publications files modified in the last {days:d} days.\")\n",
    "# [ print('\\t', k) for k in res ];"
   ]
  },
  {
   "cell_type": "code",
   "execution_count": 11,
   "id": "015de740",
   "metadata": {
    "execution": {
     "iopub.execute_input": "2025-06-13T04:26:05.519752Z",
     "iopub.status.busy": "2025-06-13T04:26:05.519065Z",
     "iopub.status.idle": "2025-06-13T04:26:05.546134Z",
     "shell.execute_reply": "2025-06-13T04:26:05.545380Z"
    },
    "papermill": {
     "duration": 0.036398,
     "end_time": "2025-06-13T04:26:05.547173",
     "exception": false,
     "start_time": "2025-06-13T04:26:05.510775",
     "status": "completed"
    },
    "tags": []
   },
   "outputs": [
    {
     "name": "stdout",
     "output_type": "stream",
     "text": [
      "11  publications in the last 7 days.\n"
     ]
    }
   ],
   "source": [
    "import datetime\n",
    "from glob import glob\n",
    "\n",
    "def get_last_n_days(lst, days=1):\n",
    "    \"\"\" Get the documents from the last n days \"\"\"\n",
    "    sorted_lst = sorted(lst, key=lambda x: x[1], reverse=True)\n",
    "    for fname, date in sorted_lst:\n",
    "        if date >= str(datetime.date.today() - datetime.timedelta(days=days)):\n",
    "            yield fname\n",
    "\n",
    "def extract_appearance_dates(lst_file):\n",
    "    dates = []\n",
    "\n",
    "    def get_date(line):\n",
    "        return line\\\n",
    "            .split('Appeared on:')[-1]\\\n",
    "            .split('</mark>')[0].strip()\n",
    "\n",
    "    for fname in lst:\n",
    "        with open(fname, 'r') as f:\n",
    "            found_date = False\n",
    "            for line in f:\n",
    "                if not found_date:\n",
    "                    if \"Appeared on\" in line:\n",
    "                        found_date = True\n",
    "                        dates.append((fname, get_date(line)))\n",
    "                else:\n",
    "                    break\n",
    "    return dates\n",
    "\n",
    "from glob import glob\n",
    "lst = glob('_build/html/*md')\n",
    "days = 7\n",
    "dates = extract_appearance_dates(lst)\n",
    "res = list(get_last_n_days(dates, days))\n",
    "npub = len(res)\n",
    "print(len(res), f\" publications in the last {days:d} days.\")"
   ]
  },
  {
   "cell_type": "code",
   "execution_count": 12,
   "id": "52ca0208",
   "metadata": {
    "execution": {
     "iopub.execute_input": "2025-06-13T04:26:05.563534Z",
     "iopub.status.busy": "2025-06-13T04:26:05.563009Z",
     "iopub.status.idle": "2025-06-13T04:26:05.568474Z",
     "shell.execute_reply": "2025-06-13T04:26:05.567899Z"
    },
    "papermill": {
     "duration": 0.014654,
     "end_time": "2025-06-13T04:26:05.569502",
     "exception": false,
     "start_time": "2025-06-13T04:26:05.554848",
     "status": "completed"
    },
    "scrolled": false,
    "tags": []
   },
   "outputs": [],
   "source": [
    "def create_carousel(npub=4):\n",
    "    \"\"\" Generate the HTML code for a carousel with `npub` slides \"\"\"\n",
    "    carousel = [\"\"\"  <div class=\"carousel\" \"\"\",\n",
    "                \"\"\"       data-flickity='{ \"autoPlay\": 10000, \"adaptiveHeight\": true, \"resize\": true, \"wrapAround\": true, \"pauseAutoPlayOnHover\": true, \"groupCells\": 1 }' id=\"asyncTypeset\">\"\"\"\n",
    "                ]\n",
    "    \n",
    "    item_str = \"\"\"    <div class=\"carousel-cell\"> <div id=\"slide{k}\" class=\"md_view\">Content {k}</div> </div>\"\"\"\n",
    "    for k in range(1, npub + 1):\n",
    "        carousel.append(item_str.format(k=k))\n",
    "    carousel.append(\"  </div>\")\n",
    "    return '\\n'.join(carousel)\n",
    "\n",
    "def create_grid(npub=4):\n",
    "    \"\"\" Generate the HTML code for a flat grid with `npub` slides \"\"\"\n",
    "    grid = [\"\"\"  <div class=\"grid\"> \"\"\",\n",
    "                ]\n",
    "    \n",
    "    item_str = \"\"\"    <div class=\"grid-item\"> <div id=\"slide{k}\" class=\"md_view\">Content {k}</div> </div>\"\"\"\n",
    "    for k in range(1, npub + 1):\n",
    "        grid.append(item_str.format(k=k))\n",
    "    grid.append(\"  </div>\")\n",
    "    return '\\n'.join(grid)"
   ]
  },
  {
   "cell_type": "code",
   "execution_count": 13,
   "id": "a6eac5b6",
   "metadata": {
    "execution": {
     "iopub.execute_input": "2025-06-13T04:26:05.586080Z",
     "iopub.status.busy": "2025-06-13T04:26:05.585553Z",
     "iopub.status.idle": "2025-06-13T04:26:05.591043Z",
     "shell.execute_reply": "2025-06-13T04:26:05.590477Z"
    },
    "papermill": {
     "duration": 0.015108,
     "end_time": "2025-06-13T04:26:05.592122",
     "exception": false,
     "start_time": "2025-06-13T04:26:05.577014",
     "status": "completed"
    },
    "scrolled": false,
    "tags": []
   },
   "outputs": [],
   "source": [
    "carousel = create_carousel(npub)\n",
    "docs = ', '.join(['\"{0:s}\"'.format(k.split('/')[-1]) for k in res])\n",
    "slides = ', '.join([f'\"slide{k}\"' for k in range(1, npub + 1)])\n",
    "\n",
    "with open(\"daily_template.html\", \"r\") as tpl:\n",
    "    page = tpl.read()\n",
    "    page = page.replace(\"{%-- carousel:s --%}\", carousel)\\\n",
    "               .replace(\"{%-- suptitle:s --%}\",  \"7-day archives\" )\\\n",
    "               .replace(\"{%-- docs:s --%}\", docs)\\\n",
    "               .replace(\"{%-- slides:s --%}\", slides)\n",
    "    \n",
    "with open(\"_build/html/index_7days.html\", 'w') as fout:\n",
    "    fout.write(page)"
   ]
  },
  {
   "cell_type": "code",
   "execution_count": 14,
   "id": "adc1a1ec",
   "metadata": {
    "execution": {
     "iopub.execute_input": "2025-06-13T04:26:05.608298Z",
     "iopub.status.busy": "2025-06-13T04:26:05.607775Z",
     "iopub.status.idle": "2025-06-13T04:26:05.615483Z",
     "shell.execute_reply": "2025-06-13T04:26:05.614908Z"
    },
    "papermill": {
     "duration": 0.016843,
     "end_time": "2025-06-13T04:26:05.616469",
     "exception": false,
     "start_time": "2025-06-13T04:26:05.599626",
     "status": "completed"
    },
    "tags": []
   },
   "outputs": [
    {
     "name": "stdout",
     "output_type": "stream",
     "text": [
      "4  publications in the last day.\n"
     ]
    }
   ],
   "source": [
    "# redo for today\n",
    "days = 1\n",
    "res = list(get_last_n_days(dates, days))\n",
    "npub = len(res)\n",
    "print(len(res), f\" publications in the last day.\")\n",
    "\n",
    "carousel = create_carousel(npub)\n",
    "docs = ', '.join(['\"{0:s}\"'.format(k.split('/')[-1]) for k in res])\n",
    "slides = ', '.join([f'\"slide{k}\"' for k in range(1, npub + 1)])\n",
    "\n",
    "with open(\"daily_template.html\", \"r\") as tpl:\n",
    "    page = tpl.read()\n",
    "    page = page.replace(\"{%-- carousel:s --%}\", carousel)\\\n",
    "               .replace(\"{%-- suptitle:s --%}\",  \"Daily\" )\\\n",
    "               .replace(\"{%-- docs:s --%}\", docs)\\\n",
    "               .replace(\"{%-- slides:s --%}\", slides)\n",
    "    \n",
    "# print(carousel, docs, slides)\n",
    "# print(page)\n",
    "with open(\"_build/html/index_daily.html\", 'w') as fout:\n",
    "    fout.write(page)"
   ]
  },
  {
   "cell_type": "code",
   "execution_count": 15,
   "id": "00eece82",
   "metadata": {
    "execution": {
     "iopub.execute_input": "2025-06-13T04:26:05.632665Z",
     "iopub.status.busy": "2025-06-13T04:26:05.632164Z",
     "iopub.status.idle": "2025-06-13T04:26:05.639531Z",
     "shell.execute_reply": "2025-06-13T04:26:05.638836Z"
    },
    "papermill": {
     "duration": 0.016548,
     "end_time": "2025-06-13T04:26:05.640558",
     "exception": false,
     "start_time": "2025-06-13T04:26:05.624010",
     "status": "completed"
    },
    "scrolled": false,
    "tags": []
   },
   "outputs": [
    {
     "name": "stdout",
     "output_type": "stream",
     "text": [
      "6  6 publications selected.\n"
     ]
    }
   ],
   "source": [
    "# Create the flat grid of the last N papers (fixed number regardless of dates)\n",
    "from itertools import islice \n",
    "\n",
    "npub = 6\n",
    "res = [k[0] for k in (islice(reversed(sorted(dates, key=lambda x: x[1])), 6))]\n",
    "print(len(res), f\" {npub} publications selected.\")\n",
    "\n",
    "grid = create_grid(npub)\n",
    "docs = ', '.join(['\"{0:s}\"'.format(k.split('/')[-1]) for k in res])\n",
    "slides = ', '.join([f'\"slide{k}\"' for k in range(1, npub + 1)])\n",
    "\n",
    "with open(\"grid_template.html\", \"r\") as tpl:\n",
    "    page = tpl.read()\n",
    "    page = page.replace(\"{%-- grid-content:s --%}\", grid)\\\n",
    "               .replace(\"{%-- suptitle:s --%}\",  f\"Last {npub:,d} papers\" )\\\n",
    "               .replace(\"{%-- docs:s --%}\", docs)\\\n",
    "               .replace(\"{%-- slides:s --%}\", slides)\n",
    "    \n",
    "# print(grid, docs, slides)\n",
    "# print(page)\n",
    "with open(\"_build/html/index_npub_grid.html\", 'w') as fout:\n",
    "    fout.write(page)"
   ]
  }
 ],
 "metadata": {
  "kernelspec": {
   "display_name": "Python 3 (ipykernel)",
   "language": "python",
   "name": "python3"
  },
  "language_info": {
   "codemirror_mode": {
    "name": "ipython",
    "version": 3
   },
   "file_extension": ".py",
   "mimetype": "text/x-python",
   "name": "python",
   "nbconvert_exporter": "python",
   "pygments_lexer": "ipython3",
   "version": "3.9.22"
  },
  "papermill": {
   "default_parameters": {},
   "duration": 396.612624,
   "end_time": "2025-06-13T04:26:05.965924",
   "environment_variables": {},
   "exception": null,
   "input_path": "MPIA daily digest.ipynb",
   "output_path": "log.ipynb",
   "parameters": {},
   "start_time": "2025-06-13T04:19:29.353300",
   "version": "2.6.0"
  },
  "vscode": {
   "interpreter": {
    "hash": "aee8b7b246df8f9039afb4144a1f6fd8d2ca17a180786b69acc140d282b71a49"
   }
  },
  "widgets": {
   "application/vnd.jupyter.widget-state+json": {
    "state": {
     "214c06dad7c949b59205aa85c0a3ff98": {
      "model_module": "@jupyter-widgets/controls",
      "model_module_version": "2.0.0",
      "model_name": "FloatProgressModel",
      "state": {
       "_dom_classes": [],
       "_model_module": "@jupyter-widgets/controls",
       "_model_module_version": "2.0.0",
       "_model_name": "FloatProgressModel",
       "_view_count": null,
       "_view_module": "@jupyter-widgets/controls",
       "_view_module_version": "2.0.0",
       "_view_name": "ProgressView",
       "bar_style": "success",
       "description": "",
       "description_allow_html": false,
       "layout": "IPY_MODEL_871feb6a34e542e7b7e4480df224448c",
       "max": 9.0,
       "min": 0.0,
       "orientation": "horizontal",
       "style": "IPY_MODEL_43a937a909f84ee8ba1f486555b55c37",
       "tabbable": null,
       "tooltip": null,
       "value": 9.0
      }
     },
     "36f683c0a41e4a19ae84e252ed14514b": {
      "model_module": "@jupyter-widgets/controls",
      "model_module_version": "2.0.0",
      "model_name": "HTMLStyleModel",
      "state": {
       "_model_module": "@jupyter-widgets/controls",
       "_model_module_version": "2.0.0",
       "_model_name": "HTMLStyleModel",
       "_view_count": null,
       "_view_module": "@jupyter-widgets/base",
       "_view_module_version": "2.0.0",
       "_view_name": "StyleView",
       "background": null,
       "description_width": "",
       "font_size": null,
       "text_color": null
      }
     },
     "43a937a909f84ee8ba1f486555b55c37": {
      "model_module": "@jupyter-widgets/controls",
      "model_module_version": "2.0.0",
      "model_name": "ProgressStyleModel",
      "state": {
       "_model_module": "@jupyter-widgets/controls",
       "_model_module_version": "2.0.0",
       "_model_name": "ProgressStyleModel",
       "_view_count": null,
       "_view_module": "@jupyter-widgets/base",
       "_view_module_version": "2.0.0",
       "_view_name": "StyleView",
       "bar_color": null,
       "description_width": ""
      }
     },
     "4a20d34a51c74a0396fb716dfdb0e0bc": {
      "model_module": "@jupyter-widgets/controls",
      "model_module_version": "2.0.0",
      "model_name": "HTMLModel",
      "state": {
       "_dom_classes": [],
       "_model_module": "@jupyter-widgets/controls",
       "_model_module_version": "2.0.0",
       "_model_name": "HTMLModel",
       "_view_count": null,
       "_view_module": "@jupyter-widgets/controls",
       "_view_module_version": "2.0.0",
       "_view_name": "HTMLView",
       "description": "",
       "description_allow_html": false,
       "layout": "IPY_MODEL_e0065bab1fa84ad7a2cc6425e2b2e228",
       "placeholder": "​",
       "style": "IPY_MODEL_36f683c0a41e4a19ae84e252ed14514b",
       "tabbable": null,
       "tooltip": null,
       "value": " 9/9 [06:11&lt;00:00, 46.81s/it]"
      }
     },
     "4c0ccd8b1b51409a8949f31db30e7b19": {
      "model_module": "@jupyter-widgets/controls",
      "model_module_version": "2.0.0",
      "model_name": "HTMLStyleModel",
      "state": {
       "_model_module": "@jupyter-widgets/controls",
       "_model_module_version": "2.0.0",
       "_model_name": "HTMLStyleModel",
       "_view_count": null,
       "_view_module": "@jupyter-widgets/base",
       "_view_module_version": "2.0.0",
       "_view_name": "StyleView",
       "background": null,
       "description_width": "",
       "font_size": null,
       "text_color": null
      }
     },
     "7bb2f81b74c4466abcd361e2402740d2": {
      "model_module": "@jupyter-widgets/controls",
      "model_module_version": "2.0.0",
      "model_name": "HBoxModel",
      "state": {
       "_dom_classes": [],
       "_model_module": "@jupyter-widgets/controls",
       "_model_module_version": "2.0.0",
       "_model_name": "HBoxModel",
       "_view_count": null,
       "_view_module": "@jupyter-widgets/controls",
       "_view_module_version": "2.0.0",
       "_view_name": "HBoxView",
       "box_style": "",
       "children": [
        "IPY_MODEL_9a8f43e9d6d84c739db2175edacf9bbe",
        "IPY_MODEL_214c06dad7c949b59205aa85c0a3ff98",
        "IPY_MODEL_4a20d34a51c74a0396fb716dfdb0e0bc"
       ],
       "layout": "IPY_MODEL_f16026bf904f4aa585cf39af43065970",
       "tabbable": null,
       "tooltip": null
      }
     },
     "871feb6a34e542e7b7e4480df224448c": {
      "model_module": "@jupyter-widgets/base",
      "model_module_version": "2.0.0",
      "model_name": "LayoutModel",
      "state": {
       "_model_module": "@jupyter-widgets/base",
       "_model_module_version": "2.0.0",
       "_model_name": "LayoutModel",
       "_view_count": null,
       "_view_module": "@jupyter-widgets/base",
       "_view_module_version": "2.0.0",
       "_view_name": "LayoutView",
       "align_content": null,
       "align_items": null,
       "align_self": null,
       "border_bottom": null,
       "border_left": null,
       "border_right": null,
       "border_top": null,
       "bottom": null,
       "display": null,
       "flex": null,
       "flex_flow": null,
       "grid_area": null,
       "grid_auto_columns": null,
       "grid_auto_flow": null,
       "grid_auto_rows": null,
       "grid_column": null,
       "grid_gap": null,
       "grid_row": null,
       "grid_template_areas": null,
       "grid_template_columns": null,
       "grid_template_rows": null,
       "height": null,
       "justify_content": null,
       "justify_items": null,
       "left": null,
       "margin": null,
       "max_height": null,
       "max_width": null,
       "min_height": null,
       "min_width": null,
       "object_fit": null,
       "object_position": null,
       "order": null,
       "overflow": null,
       "padding": null,
       "right": null,
       "top": null,
       "visibility": null,
       "width": null
      }
     },
     "9a8f43e9d6d84c739db2175edacf9bbe": {
      "model_module": "@jupyter-widgets/controls",
      "model_module_version": "2.0.0",
      "model_name": "HTMLModel",
      "state": {
       "_dom_classes": [],
       "_model_module": "@jupyter-widgets/controls",
       "_model_module_version": "2.0.0",
       "_model_name": "HTMLModel",
       "_view_count": null,
       "_view_module": "@jupyter-widgets/controls",
       "_view_module_version": "2.0.0",
       "_view_name": "HTMLView",
       "description": "",
       "description_allow_html": false,
       "layout": "IPY_MODEL_e01c7374c0f8437baa9b072c59545df2",
       "placeholder": "​",
       "style": "IPY_MODEL_4c0ccd8b1b51409a8949f31db30e7b19",
       "tabbable": null,
       "tooltip": null,
       "value": "100%"
      }
     },
     "e0065bab1fa84ad7a2cc6425e2b2e228": {
      "model_module": "@jupyter-widgets/base",
      "model_module_version": "2.0.0",
      "model_name": "LayoutModel",
      "state": {
       "_model_module": "@jupyter-widgets/base",
       "_model_module_version": "2.0.0",
       "_model_name": "LayoutModel",
       "_view_count": null,
       "_view_module": "@jupyter-widgets/base",
       "_view_module_version": "2.0.0",
       "_view_name": "LayoutView",
       "align_content": null,
       "align_items": null,
       "align_self": null,
       "border_bottom": null,
       "border_left": null,
       "border_right": null,
       "border_top": null,
       "bottom": null,
       "display": null,
       "flex": null,
       "flex_flow": null,
       "grid_area": null,
       "grid_auto_columns": null,
       "grid_auto_flow": null,
       "grid_auto_rows": null,
       "grid_column": null,
       "grid_gap": null,
       "grid_row": null,
       "grid_template_areas": null,
       "grid_template_columns": null,
       "grid_template_rows": null,
       "height": null,
       "justify_content": null,
       "justify_items": null,
       "left": null,
       "margin": null,
       "max_height": null,
       "max_width": null,
       "min_height": null,
       "min_width": null,
       "object_fit": null,
       "object_position": null,
       "order": null,
       "overflow": null,
       "padding": null,
       "right": null,
       "top": null,
       "visibility": null,
       "width": null
      }
     },
     "e01c7374c0f8437baa9b072c59545df2": {
      "model_module": "@jupyter-widgets/base",
      "model_module_version": "2.0.0",
      "model_name": "LayoutModel",
      "state": {
       "_model_module": "@jupyter-widgets/base",
       "_model_module_version": "2.0.0",
       "_model_name": "LayoutModel",
       "_view_count": null,
       "_view_module": "@jupyter-widgets/base",
       "_view_module_version": "2.0.0",
       "_view_name": "LayoutView",
       "align_content": null,
       "align_items": null,
       "align_self": null,
       "border_bottom": null,
       "border_left": null,
       "border_right": null,
       "border_top": null,
       "bottom": null,
       "display": null,
       "flex": null,
       "flex_flow": null,
       "grid_area": null,
       "grid_auto_columns": null,
       "grid_auto_flow": null,
       "grid_auto_rows": null,
       "grid_column": null,
       "grid_gap": null,
       "grid_row": null,
       "grid_template_areas": null,
       "grid_template_columns": null,
       "grid_template_rows": null,
       "height": null,
       "justify_content": null,
       "justify_items": null,
       "left": null,
       "margin": null,
       "max_height": null,
       "max_width": null,
       "min_height": null,
       "min_width": null,
       "object_fit": null,
       "object_position": null,
       "order": null,
       "overflow": null,
       "padding": null,
       "right": null,
       "top": null,
       "visibility": null,
       "width": null
      }
     },
     "f16026bf904f4aa585cf39af43065970": {
      "model_module": "@jupyter-widgets/base",
      "model_module_version": "2.0.0",
      "model_name": "LayoutModel",
      "state": {
       "_model_module": "@jupyter-widgets/base",
       "_model_module_version": "2.0.0",
       "_model_name": "LayoutModel",
       "_view_count": null,
       "_view_module": "@jupyter-widgets/base",
       "_view_module_version": "2.0.0",
       "_view_name": "LayoutView",
       "align_content": null,
       "align_items": null,
       "align_self": null,
       "border_bottom": null,
       "border_left": null,
       "border_right": null,
       "border_top": null,
       "bottom": null,
       "display": null,
       "flex": null,
       "flex_flow": null,
       "grid_area": null,
       "grid_auto_columns": null,
       "grid_auto_flow": null,
       "grid_auto_rows": null,
       "grid_column": null,
       "grid_gap": null,
       "grid_row": null,
       "grid_template_areas": null,
       "grid_template_columns": null,
       "grid_template_rows": null,
       "height": null,
       "justify_content": null,
       "justify_items": null,
       "left": null,
       "margin": null,
       "max_height": null,
       "max_width": null,
       "min_height": null,
       "min_width": null,
       "object_fit": null,
       "object_position": null,
       "order": null,
       "overflow": null,
       "padding": null,
       "right": null,
       "top": null,
       "visibility": null,
       "width": null
      }
     }
    },
    "version_major": 2,
    "version_minor": 0
   }
  }
 },
 "nbformat": 4,
 "nbformat_minor": 5
}