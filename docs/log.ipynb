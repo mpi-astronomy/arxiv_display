{
 "cells": [
  {
   "cell_type": "markdown",
   "id": "92bcb855",
   "metadata": {
    "papermill": {
     "duration": 0.003836,
     "end_time": "2025-03-18T04:11:34.336661",
     "exception": false,
     "start_time": "2025-03-18T04:11:34.332825",
     "status": "completed"
    },
    "tags": []
   },
   "source": [
    "# MPIA Arxiv on Deck 2\n",
    "\n",
    "Contains the steps to produce the paper extractions."
   ]
  },
  {
   "cell_type": "code",
   "execution_count": 1,
   "id": "3a0d6e11",
   "metadata": {
    "execution": {
     "iopub.execute_input": "2025-03-18T04:11:34.344900Z",
     "iopub.status.busy": "2025-03-18T04:11:34.344378Z",
     "iopub.status.idle": "2025-03-18T04:11:34.684555Z",
     "shell.execute_reply": "2025-03-18T04:11:34.683817Z"
    },
    "papermill": {
     "duration": 0.345902,
     "end_time": "2025-03-18T04:11:34.686086",
     "exception": false,
     "start_time": "2025-03-18T04:11:34.340184",
     "status": "completed"
    },
    "tags": []
   },
   "outputs": [],
   "source": [
    "# Imports\n",
    "import os\n",
    "from IPython.display import Markdown, display\n",
    "from tqdm.notebook import tqdm\n",
    "import warnings\n",
    "from PIL import Image \n",
    "import re\n",
    "\n",
    "# requires arxiv_on_deck_2\n",
    "\n",
    "from arxiv_on_deck_2.arxiv2 import (get_new_papers, \n",
    "                                    get_paper_from_identifier,\n",
    "                                    retrieve_document_source, \n",
    "                                    get_markdown_badge)\n",
    "from arxiv_on_deck_2 import (latex,\n",
    "                             latex_bib,\n",
    "                             mpia,\n",
    "                             highlight_authors_in_list)\n",
    "\n",
    "# Sometimes images are really big\n",
    "Image.MAX_IMAGE_PIXELS = 1000000000 "
   ]
  },
  {
   "cell_type": "code",
   "execution_count": 2,
   "id": "22aa9d44",
   "metadata": {
    "execution": {
     "iopub.execute_input": "2025-03-18T04:11:34.693896Z",
     "iopub.status.busy": "2025-03-18T04:11:34.693287Z",
     "iopub.status.idle": "2025-03-18T04:11:34.701330Z",
     "shell.execute_reply": "2025-03-18T04:11:34.700824Z"
    },
    "papermill": {
     "duration": 0.013003,
     "end_time": "2025-03-18T04:11:34.702366",
     "exception": false,
     "start_time": "2025-03-18T04:11:34.689363",
     "status": "completed"
    },
    "tags": []
   },
   "outputs": [],
   "source": [
    "# Some useful definitions.\n",
    "\n",
    "class AffiliationWarning(UserWarning):\n",
    "    pass\n",
    "\n",
    "class AffiliationError(RuntimeError):\n",
    "    pass\n",
    "\n",
    "def validation(source: str):\n",
    "    \"\"\"Raises error paper during parsing of source file\n",
    "    \n",
    "    Allows checks before parsing TeX code.\n",
    "    \n",
    "    Raises AffiliationWarning\n",
    "    \"\"\"\n",
    "    check = mpia.affiliation_verifications(source, verbose=True)\n",
    "    if check is not True:\n",
    "        raise AffiliationError(\"mpia.affiliation_verifications: \" + check)\n",
    "\n",
    "        \n",
    "warnings.simplefilter('always', AffiliationWarning)\n",
    "\n",
    "\n",
    "def get_markdown_qrcode(paper_id: str):\n",
    "    \"\"\" Generate a qrcode to the arxiv page using qrserver.com\n",
    "    \n",
    "    :param paper: Arxiv paper\n",
    "    :returns: markdown text\n",
    "    \"\"\"\n",
    "    url = r\"https://api.qrserver.com/v1/create-qr-code/?size=100x100&data=\"\n",
    "    txt = f\"\"\"<img src={url}\"https://arxiv.org/abs/{paper_id}\">\"\"\"\n",
    "    txt = '<div id=\"qrcode\">' + txt + '</div>'\n",
    "    return txt\n",
    "\n",
    "\n",
    "def clean_non_western_encoded_characters_commands(text: str) -> str:\n",
    "    \"\"\" Remove non-western encoded characters from a string\n",
    "    List may need to grow.\n",
    "    \n",
    "    :param text: the text to clean\n",
    "    :return: the cleaned text\n",
    "    \"\"\"\n",
    "    text = re.sub(r\"(\\\\begin{CJK}{UTF8}{gbsn})(.*?)(\\\\end{CJK})\", r\"\\2\", text)\n",
    "    return text\n",
    "\n",
    "\n",
    "def get_initials(name: str) -> str:\n",
    "    \"\"\" Get the short name, e.g., A.-B. FamName\n",
    "    :param name: full name\n",
    "    :returns: initials\n",
    "    \"\"\"\n",
    "    initials = []\n",
    "    # account for non western names often in ()\n",
    "    if '(' in name:\n",
    "        name = clean_non_western_encoded_characters_commands(name)\n",
    "        suffix = re.findall(r\"\\((.*?)\\)\", name)[0]\n",
    "        name = name.replace(f\"({suffix})\", '')\n",
    "    else:\n",
    "        suffix = ''\n",
    "    split = name.split()\n",
    "    for token in split[:-1]:\n",
    "        if '-' in token:\n",
    "            current = '-'.join([k[0] + '.' for k in token.split('-')])\n",
    "        else:\n",
    "            current = token[0] + '.'\n",
    "        initials.append(current)\n",
    "    initials.append(split[-1].strip())\n",
    "    if suffix:\n",
    "        initials.append(f\"({suffix})\")\n",
    "    return ' '.join(initials)"
   ]
  },
  {
   "cell_type": "markdown",
   "id": "14bd6310",
   "metadata": {
    "papermill": {
     "duration": 0.002924,
     "end_time": "2025-03-18T04:11:34.708263",
     "exception": false,
     "start_time": "2025-03-18T04:11:34.705339",
     "status": "completed"
    },
    "tags": []
   },
   "source": [
    "## get list of arxiv paper candidates\n",
    "\n",
    "We use the MPIA mitarbeiter list webpage from mpia.de to get author names\n",
    "We then get all new papers from Arxiv and match authors"
   ]
  },
  {
   "cell_type": "code",
   "execution_count": 3,
   "id": "7ea813a8",
   "metadata": {
    "execution": {
     "iopub.execute_input": "2025-03-18T04:11:34.715319Z",
     "iopub.status.busy": "2025-03-18T04:11:34.714803Z",
     "iopub.status.idle": "2025-03-18T04:11:53.385852Z",
     "shell.execute_reply": "2025-03-18T04:11:53.385188Z"
    },
    "papermill": {
     "duration": 18.675874,
     "end_time": "2025-03-18T04:11:53.387072",
     "exception": false,
     "start_time": "2025-03-18T04:11:34.711198",
     "status": "completed"
    },
    "tags": []
   },
   "outputs": [],
   "source": [
    "# deal with the author list and edge cases of people that cannot be consistent on their name  \n",
    "\n",
    "def filter_non_scientists(name: str) -> bool:\n",
    "    \"\"\" Loose filter on expected authorships\n",
    "\n",
    "    removing IT, administration, technical staff\n",
    "    :param name: name\n",
    "    :returns: False if name is not a scientist\n",
    "    \"\"\"\n",
    "    remove_list = ['Licht', 'Binroth', 'Witzel', 'Jordan',\n",
    "                   'Zähringer', 'Scheerer', 'Hoffmann', 'Düe',\n",
    "                   'Hellmich', 'Enkler-Scharpegge', 'Witte-Nguy',\n",
    "                   'Dehen', 'Beckmann', 'Jager', 'Jäger'\n",
    "                  ]\n",
    "\n",
    "    for k in remove_list:\n",
    "        if k in name:\n",
    "            return False\n",
    "    return True\n",
    "\n",
    "def add_author_to_list(author_list: list) -> list:\n",
    "    \"\"\" Add author to list if not already in list\n",
    "    \n",
    "    :param author: author name\n",
    "    :param author_list: list of authors\n",
    "    :returns: updated list of authors\n",
    "    \"\"\"\n",
    "    add_list = ['T. Henning']\n",
    "\n",
    "    for author in add_list:\n",
    "        if author not in author_list:\n",
    "            author_list.append(author)\n",
    "    return author_list\n",
    "\n",
    "# get list from MPIA website\n",
    "# filter for non-scientists (mpia.get_mpia_mitarbeiter_list() does some filtering)\n",
    "mpia_authors = [k[1] for k in mpia.get_mpia_mitarbeiter_list() if filter_non_scientists(k[1])]\n",
    "# add some missing author because of inconsistencies in their MPIA name and author name on papers\n",
    "mpia_authors = add_author_to_list(mpia_authors)"
   ]
  },
  {
   "cell_type": "code",
   "execution_count": 4,
   "id": "2645e73a",
   "metadata": {
    "execution": {
     "iopub.execute_input": "2025-03-18T04:11:53.394607Z",
     "iopub.status.busy": "2025-03-18T04:11:53.394103Z",
     "iopub.status.idle": "2025-03-18T04:11:54.384519Z",
     "shell.execute_reply": "2025-03-18T04:11:54.383821Z"
    },
    "papermill": {
     "duration": 0.995154,
     "end_time": "2025-03-18T04:11:54.385553",
     "exception": false,
     "start_time": "2025-03-18T04:11:53.390399",
     "status": "completed"
    },
    "tags": []
   },
   "outputs": [
    {
     "name": "stdout",
     "output_type": "stream",
     "text": [
      "X. Zhang  ->  X. Zhang  |  ['X. Zhang']\n",
      "J. Liu  ->  J. Liu  |  ['J. Liu']\n",
      "N. Neumayer  ->  N. Neumayer  |  ['N. Neumayer']\n",
      "J. Liu  ->  J. Liu  |  ['J. Liu']\n",
      "J. Liu  ->  J. Liu  |  ['J. Liu']\n",
      "S. Jiao  ->  S. Jiao  |  ['S. Jiao']\n",
      "K. El-Badry  ->  K. El-Badry  |  ['K. El-Badry']\n",
      "E. Matthews  ->  E. Matthews  |  ['E. Matthews']\n",
      "W. Brandner  ->  W. Brandner  |  ['W. Brandner']\n",
      "G. Chauvin  ->  G. Chauvin  |  ['G. Chauvin']\n"
     ]
    },
    {
     "name": "stdout",
     "output_type": "stream",
     "text": [
      "O. Krause  ->  O. Krause  |  ['O. Krause']\n"
     ]
    },
    {
     "name": "stdout",
     "output_type": "stream",
     "text": [
      "Arxiv has 97 new papers today\n",
      "          8 with possible author matches\n"
     ]
    }
   ],
   "source": [
    "new_papers = get_new_papers()\n",
    "# add manual references\n",
    "add_paper_refs = []\n",
    "new_papers.extend([get_paper_from_identifier(k) for k in add_paper_refs])\n",
    "\n",
    "def robust_call(fn, value, *args, **kwargs):\n",
    "    try:\n",
    "        return fn(value, *args, **kwargs)\n",
    "    except Exception:\n",
    "        return value\n",
    "\n",
    "candidates = []\n",
    "for paperk in new_papers:\n",
    "    # Check author list with their initials\n",
    "    normed_author_list = [robust_call(mpia.get_initials, k) for k in paperk['authors']]\n",
    "    hl_authors = highlight_authors_in_list(normed_author_list, mpia_authors, verbose=True)\n",
    "    matches = [(hl, orig) for hl, orig in zip(hl_authors, paperk['authors']) if 'mark' in hl]\n",
    "    paperk['authors'] = hl_authors\n",
    "    if matches:\n",
    "        # only select paper if an author matched our list\n",
    "        candidates.append(paperk)\n",
    "print(\"\"\"Arxiv has {0:,d} new papers today\"\"\".format(len(new_papers)))        \n",
    "print(\"\"\"          {0:,d} with possible author matches\"\"\".format(len(candidates)))"
   ]
  },
  {
   "cell_type": "markdown",
   "id": "3543b34a",
   "metadata": {
    "papermill": {
     "duration": 0.003236,
     "end_time": "2025-03-18T04:11:54.392515",
     "exception": false,
     "start_time": "2025-03-18T04:11:54.389279",
     "status": "completed"
    },
    "tags": []
   },
   "source": [
    "# Parse sources and generate relevant outputs\n",
    "\n",
    "From the candidates, we do the following steps:\n",
    "* get their tarball from ArXiv (and extract data)\n",
    "* find the main .tex file: find one with \\documentclass{...} (sometimes it's non trivial)\n",
    "* Check affiliations with :func:`validation`, which uses :func:`mpia.affiliation_verifications`\n",
    "* If passing the affiliations: we parse the .tex source\n",
    "   * inject sub-documents into the main (flatten the main document)\n",
    "   * parse structure, extract information (title, abstract, authors, figures...)\n",
    "   * handles `\\graphicspath` if provided\n",
    "* Generate the .md document."
   ]
  },
  {
   "cell_type": "code",
   "execution_count": 5,
   "id": "9576b79e",
   "metadata": {
    "execution": {
     "iopub.execute_input": "2025-03-18T04:11:54.400141Z",
     "iopub.status.busy": "2025-03-18T04:11:54.399641Z",
     "iopub.status.idle": "2025-03-18T04:12:33.988273Z",
     "shell.execute_reply": "2025-03-18T04:12:33.987543Z"
    },
    "papermill": {
     "duration": 39.59384,
     "end_time": "2025-03-18T04:12:33.989541",
     "exception": false,
     "start_time": "2025-03-18T04:11:54.395701",
     "status": "completed"
    },
    "scrolled": false,
    "tags": []
   },
   "outputs": [
    {
     "data": {
      "application/vnd.jupyter.widget-view+json": {
       "model_id": "feac06ff02e84301aed048ecc3bb6623",
       "version_major": 2,
       "version_minor": 0
      },
      "text/plain": [
       "  0%|          | 0/8 [00:00<?, ?it/s]"
      ]
     },
     "metadata": {},
     "output_type": "display_data"
    },
    {
     "name": "stdout",
     "output_type": "stream",
     "text": [
      "Retrieving document from  https://arxiv.org/e-print/2503.11740\n"
     ]
    },
    {
     "name": "stdout",
     "output_type": "stream",
     "text": [
      "extracting tarball to tmp_2503.11740..."
     ]
    },
    {
     "name": "stdout",
     "output_type": "stream",
     "text": [
      " done.\n",
      "Retrieving document from  https://arxiv.org/e-print/2503.11778\n"
     ]
    },
    {
     "name": "stdout",
     "output_type": "stream",
     "text": [
      "extracting tarball to tmp_2503.11778..."
     ]
    },
    {
     "name": "stdout",
     "output_type": "stream",
     "text": [
      " done.\n",
      "Retrieving document from  https://arxiv.org/e-print/2503.11856\n"
     ]
    },
    {
     "name": "stderr",
     "output_type": "stream",
     "text": [
      "/opt/hostedtoolcache/Python/3.9.21/x64/lib/python3.9/site-packages/IPython/core/interactiveshell.py:3550: LatexWarning: Multiple tex files.\n",
      "\n",
      "  exec(code_obj, self.user_global_ns, self.user_ns)\n",
      "/opt/hostedtoolcache/Python/3.9.21/x64/lib/python3.9/site-packages/IPython/core/interactiveshell.py:3550: LatexWarning: Found documentclass in tmp_2503.11778/main.tex\n",
      "\n",
      "  exec(code_obj, self.user_global_ns, self.user_ns)\n",
      "/opt/hostedtoolcache/Python/3.9.21/x64/lib/python3.9/site-packages/arxiv_on_deck_2/latex.py:414: LatexWarning: Latex injecting: 'sections/05_appendix.tex' from 'tmp_2503.11778/sections/05_appendix.tex'\n",
      "  warnings.warn(LatexWarning(f\"Latex injecting: '{ext}' from '{subsource}'\"))\n",
      "/opt/hostedtoolcache/Python/3.9.21/x64/lib/python3.9/site-packages/arxiv_on_deck_2/latex.py:414: LatexWarning: Latex injecting: 'sections/04_conclusions' from 'tmp_2503.11778/sections/04_conclusions.tex'\n",
      "  warnings.warn(LatexWarning(f\"Latex injecting: '{ext}' from '{subsource}'\"))\n",
      "/opt/hostedtoolcache/Python/3.9.21/x64/lib/python3.9/site-packages/arxiv_on_deck_2/latex.py:414: LatexWarning: Latex injecting: 'sections/03_results' from 'tmp_2503.11778/sections/03_results.tex'\n",
      "  warnings.warn(LatexWarning(f\"Latex injecting: '{ext}' from '{subsource}'\"))\n",
      "/opt/hostedtoolcache/Python/3.9.21/x64/lib/python3.9/site-packages/arxiv_on_deck_2/latex.py:414: LatexWarning: Latex injecting: 'sections/02_methodology' from 'tmp_2503.11778/sections/02_methodology.tex'\n",
      "  warnings.warn(LatexWarning(f\"Latex injecting: '{ext}' from '{subsource}'\"))\n",
      "/opt/hostedtoolcache/Python/3.9.21/x64/lib/python3.9/site-packages/arxiv_on_deck_2/latex.py:414: LatexWarning: Latex injecting: 'sections/01_introduction' from 'tmp_2503.11778/sections/01_introduction.tex'\n",
      "  warnings.warn(LatexWarning(f\"Latex injecting: '{ext}' from '{subsource}'\"))\n"
     ]
    },
    {
     "name": "stdout",
     "output_type": "stream",
     "text": [
      "extracting tarball to tmp_2503.11856..."
     ]
    },
    {
     "name": "stdout",
     "output_type": "stream",
     "text": [
      " done.\n"
     ]
    },
    {
     "name": "stderr",
     "output_type": "stream",
     "text": [
      "/opt/hostedtoolcache/Python/3.9.21/x64/lib/python3.9/site-packages/arxiv_on_deck_2/latex.py:132: LatexWarning: attempting recovering figure Kcol-Ak_bin40__noex1\n",
      "  warnings.warn(LatexWarning(f'attempting recovering figure {image}'))\n",
      "/opt/hostedtoolcache/Python/3.9.21/x64/lib/python3.9/site-packages/arxiv_on_deck_2/latex.py:137: LatexWarning: Recovered figure Kcol-Ak_bin40__noex1 as tmp_2503.11856/./Kcol-Ak_bin40__noex1.pdf\n",
      "  warnings.warn(LatexWarning(f'Recovered figure {image} as {fname}'))\n"
     ]
    },
    {
     "name": "stdout",
     "output_type": "stream",
     "text": [
      "Found 128 bibliographic references in tmp_2503.11856/aanda.bbl.\n",
      "Issues with the citations\n",
      "syntax error in line 896: premature end of file\n",
      "Retrieving document from  https://arxiv.org/e-print/2503.12410\n"
     ]
    },
    {
     "name": "stdout",
     "output_type": "stream",
     "text": [
      "extracting tarball to tmp_2503.12410..."
     ]
    },
    {
     "name": "stdout",
     "output_type": "stream",
     "text": [
      " done.\n",
      "Retrieving document from  https://arxiv.org/e-print/2503.12449\n"
     ]
    },
    {
     "name": "stdout",
     "output_type": "stream",
     "text": [
      "extracting tarball to tmp_2503.12449..."
     ]
    },
    {
     "name": "stdout",
     "output_type": "stream",
     "text": [
      " done.\n",
      "Retrieving document from  https://arxiv.org/e-print/2503.12513\n"
     ]
    },
    {
     "name": "stdout",
     "output_type": "stream",
     "text": [
      "extracting tarball to tmp_2503.12513... done.\n",
      "Retrieving document from  https://arxiv.org/e-print/2503.12675\n"
     ]
    },
    {
     "name": "stdout",
     "output_type": "stream",
     "text": [
      "extracting tarball to tmp_2503.12675..."
     ]
    },
    {
     "name": "stdout",
     "output_type": "stream",
     "text": [
      " done.\n",
      "Retrieving document from  https://arxiv.org/e-print/2503.12707\n"
     ]
    },
    {
     "name": "stdout",
     "output_type": "stream",
     "text": [
      "extracting tarball to tmp_2503.12707... done.\n"
     ]
    },
    {
     "name": "stdout",
     "output_type": "stream",
     "text": [
      "Found 132 bibliographic references in tmp_2503.12707/sn-article.bbl.\n",
      "Issues with the citations\n",
      "syntax error in line 12: unbalanced braces\n"
     ]
    },
    {
     "name": "stderr",
     "output_type": "stream",
     "text": [
      "/opt/hostedtoolcache/Python/3.9.21/x64/lib/python3.9/site-packages/arxiv_on_deck_2/latex.py:695: LatexWarning: Falling back to regex to find figures\n",
      "  warnings.warn(LatexWarning(\"Falling back to regex to find figures\"))\n",
      "/opt/hostedtoolcache/Python/3.9.21/x64/lib/python3.9/site-packages/arxiv_on_deck_2/latex.py:698: LatexWarning: Fallback: found 0 figures.\n",
      "  warnings.warn(LatexWarning(\"Fallback: found \" + str(len(results)) + \" figures.\"))\n"
     ]
    }
   ],
   "source": [
    "documents = []\n",
    "failed = []\n",
    "for paper in tqdm(candidates):\n",
    "    # debug crap\n",
    "    paper['identifier'] = paper['identifier'].lower().replace('arxiv:', '').replace(r'\\n', '').strip()\n",
    "    paper_id = paper['identifier']\n",
    "    \n",
    "    folder = f'tmp_{paper_id}'\n",
    "\n",
    "    try:\n",
    "        if not os.path.isdir(folder):\n",
    "            folder = retrieve_document_source(f\"{paper_id}\", f'tmp_{paper_id}')\n",
    "        \n",
    "        try:\n",
    "            doc = latex.LatexDocument(folder, validation=validation)    \n",
    "        except AffiliationError as affilerror:\n",
    "            msg = f\"ArXiv:{paper_id:s} is not an MPIA paper... \" + str(affilerror)\n",
    "            failed.append((paper, \"affiliation error: \" + str(affilerror) ))\n",
    "            continue\n",
    "        \n",
    "        # Hack because sometimes author parsing does not work well\n",
    "        if (len(doc.authors) != len(paper['authors'])):\n",
    "            doc._authors = paper['authors']\n",
    "        else:\n",
    "            # highlight authors (FIXME: doc.highlight_authors)\n",
    "            # done on arxiv paper already\n",
    "            doc._authors = highlight_authors_in_list(\n",
    "                [get_initials(k) for k in doc.authors], \n",
    "                mpia_authors, verbose=True)\n",
    "        if (doc.abstract) in (None, ''):\n",
    "            doc._abstract = paper['abstract']\n",
    "            \n",
    "        doc.comment = (get_markdown_badge(paper_id) + \n",
    "                       \"<mark>Appeared on: \" + paper['date'] + \"</mark> - \")\n",
    "        if paper['comments']:\n",
    "            doc.comment += \" _\" + paper['comments'] + \"_\"\n",
    "        \n",
    "        full_md = doc.generate_markdown_text()\n",
    "        \n",
    "        full_md += get_markdown_qrcode(paper_id)\n",
    "        \n",
    "        # replace citations\n",
    "        try:\n",
    "            bibdata = latex_bib.LatexBib.from_doc(doc)\n",
    "            full_md = latex_bib.replace_citations(full_md, bibdata)\n",
    "        except Exception as e:\n",
    "            print(\"Issues with the citations\")\n",
    "            print(e)\n",
    "        \n",
    "        documents.append((paper_id, full_md))\n",
    "    except Exception as e:\n",
    "        warnings.warn(latex.LatexWarning(f\"{paper_id:s} did not run properly\\n\" +\n",
    "                                         str(e)\n",
    "                                        ))\n",
    "        failed.append((paper, \"latex error \" + str(e)))"
   ]
  },
  {
   "cell_type": "markdown",
   "id": "2505a25c",
   "metadata": {
    "papermill": {
     "duration": 0.004356,
     "end_time": "2025-03-18T04:12:33.998456",
     "exception": false,
     "start_time": "2025-03-18T04:12:33.994100",
     "status": "completed"
    },
    "tags": []
   },
   "source": [
    "### Export the logs\n",
    "\n",
    "Throughout, we also keep track of the logs per paper. see `logs-{today date}.md` "
   ]
  },
  {
   "cell_type": "code",
   "execution_count": 6,
   "id": "d733828a",
   "metadata": {
    "execution": {
     "iopub.execute_input": "2025-03-18T04:12:34.008108Z",
     "iopub.status.busy": "2025-03-18T04:12:34.007689Z",
     "iopub.status.idle": "2025-03-18T04:12:34.026486Z",
     "shell.execute_reply": "2025-03-18T04:12:34.025869Z"
    },
    "papermill": {
     "duration": 0.024756,
     "end_time": "2025-03-18T04:12:34.027473",
     "exception": false,
     "start_time": "2025-03-18T04:12:34.002717",
     "status": "completed"
    },
    "scrolled": false,
    "tags": []
   },
   "outputs": [
    {
     "data": {
      "text/markdown": [
       "## Successful papers"
      ],
      "text/plain": [
       "<IPython.core.display.Markdown object>"
      ]
     },
     "metadata": {},
     "output_type": "display_data"
    },
    {
     "data": {
      "text/markdown": [
       "\n",
       "|||\n",
       "|---:|:---|\n",
       "| [![arXiv](https://img.shields.io/badge/arXiv-2503.11856-b31b1b.svg)](https://arxiv.org/abs/2503.11856) | **A spectroscopic map of the Galactic centre -- Observations and resolved stars**  |\n",
       "|| A. Feldmeier-Krause, et al. -- incl., <mark>N. Neumayer</mark> |\n",
       "|*Appeared on*| *2025-03-18*|\n",
       "|*Comments*| *20 pages (+ 7 pages Appendix), 17 (+ 4) figures, accepted A&A*|\n",
       "|**Abstract**|            The Galactic Centre region contains a dense accumulation of stars, which can be separated into two components: A flattened and dense nuclear star cluster (NSC), and a surrounding, more extended and more flattened, nuclear stellar disc (NSD). Previous studies have collected a few thousand spectra of the inner NSC, and also the outer NSD, and measured line-of-sight velocities and metallicities. Until now, such measurements exist only for a few 100 stars in the region where the stellar surface density transitions from being dominated by the NSC into being dominated by the NSD. We want to study the stellar population from the centre of the NSC out to well beyond its effective radius, where the NSD dominates. We investigate whether and how the mean properties and kinematics of the stars change systematically. We conducted spectroscopic observations with Flamingos-2 in the K-band via a continuous slit-scan. The data extend from the central NSC into the inner NSD, out to 32 pc from Sgr A* along Galactic longitude l. Based on their CO equivalent width, we classify the stars as hot or cool stars. The former are massive, young stars, while almost all of the latter are older than one to a few Gyr. We measure the overall metallicity [M/H] and line-of-sight velocity for >2,500 cool stars, and present the first continuous spatial maps and profiles of the mean value of various stellar and kinematic parameters. We identify hot, young stars across the field of view. Some stars appear to be isolated, while others accumulate near the Quintuplet cluster or the central parsec cluster. The position-velocity curve of the cool stars shows no dependence on [M/H], but it depends on the colour of the stars. The colour may be a tracer of the line-of-sight distance and thus distinguish stars located in the NSC from those in the NSD. [abridged]         |"
      ],
      "text/plain": [
       "[2503.11856] A spectroscopic map of the Galactic centre -- Observations and resolved stars\n",
       "\tA. Feldmeier-Krause, et al. -- incl., <mark>N. Neumayer</mark>"
      ]
     },
     "metadata": {},
     "output_type": "display_data"
    },
    {
     "data": {
      "text/markdown": [
       "\n",
       "|||\n",
       "|---:|:---|\n",
       "| [![arXiv](https://img.shields.io/badge/arXiv-2503.12707-b31b1b.svg)](https://arxiv.org/abs/2503.12707) | **Advancing European High-Contrast Imaging R&D Towards the Habitable Worlds Observatory**  |\n",
       "|| I. Laginja, et al. -- incl., <mark>E. Matthews</mark>, <mark>W. Brandner</mark>, <mark>G. Chauvin</mark>, <mark>O. Krause</mark> |\n",
       "|*Appeared on*| *2025-03-18*|\n",
       "|*Comments*| *Accepted for publication in Astrophysics and Space Science*|\n",
       "|**Abstract**|            The Habitable Worlds Observatory (HWO) will enable a transformative leap in the direct imaging and characterization of Earth-like exoplanets. For this, NASA is focusing on early investment in technology development prior to mission definition and actively seeking international partnerships earlier than for previous missions. The \"R&D for Space-Based HCI in Europe\" workshop, held in March 2024 at Paris Observatory, convened leading experts in high-contrast imaging (HCI) to discuss European expertise and explore potential strategies for European contributions to HWO. This paper synthesizes the discussions and outcomes of the workshop, highlighting Europe's critical contributions to past and current HCI efforts, the synergies between ground- and space-based technologies, and the importance of laboratory testbeds and collaborative funding mechanisms. Key conclusions include the need for Europe to invest in technology development for areas such as deformable mirrors and advanced detectors, and establish or enhance laboratory facilities for system-level testing. Putting emphasis on the urgency of aligning with the timeline of the HWO, the participants called on an open affirmation by the European Space Agency (ESA) that a European contribution to HWO is clearly anticipated, to signal national agencies and unlock funding opportunities at the national level. Based on the expertise demonstrated through R&D, Europe is poised to play a pivotal role in advancing global HCI capabilities, contributing to the characterization of temperate exoplanets and fostering innovation across domains.         |"
      ],
      "text/plain": [
       "[2503.12707] Advancing European High-Contrast Imaging R&D Towards the Habitable Worlds Observatory\n",
       "\tI. Laginja, et al. -- incl., <mark>E. Matthews</mark>, <mark>W. Brandner</mark>, <mark>G. Chauvin</mark>, <mark>O. Krause</mark>"
      ]
     },
     "metadata": {},
     "output_type": "display_data"
    },
    {
     "data": {
      "text/markdown": [
       "## Failed papers"
      ],
      "text/plain": [
       "<IPython.core.display.Markdown object>"
      ]
     },
     "metadata": {},
     "output_type": "display_data"
    },
    {
     "data": {
      "text/markdown": [
       "\n",
       "|||\n",
       "|---:|:---|\n",
       "| [![arXiv](https://img.shields.io/badge/arXiv-2503.12675-b31b1b.svg)](https://arxiv.org/abs/2503.12675) | **Discovery of two new polars evolved past the period bounce**  |\n",
       "|| T. Cunningham, et al. -- incl., <mark>K. El-Badry</mark> |\n",
       "|*Appeared on*| *2025-03-18*|\n",
       "|*Comments*| *18 pages. Submitted to MNRAS*|\n",
       "|**Abstract**|            We report the discovery of two new magnetic cataclysmic variables with brown dwarf companions and long orbital periods ($P_{\\rm orb}=95\\pm1$ and $104\\pm2$ min). This discovery increases the sample of candidate magnetic period bouncers with confirmed sub-stellar donors from four to six. We also find their X-ray luminosity from archival XMM-Newton observations to be in the range $L_{\\rm X}\\approx10^{28}$$-$$10^{29} \\mathrm{erg\\,s^{-1}}$ in the 0.25$-$10 keV band. This low luminosity is comparable with the other candidates, and at least an order of magnitude lower than the X-ray luminosities typically measured in cataclysmic variables. The X-ray fluxes imply mass transfer rates that are much lower than predicted by evolutionary models, even if some of the discrepancy is due to the accretion energy being emitted in other bands, such as via cyclotron emission at infrared wavelengths. Although it is possible that some or all of these systems formed directly as binaries containing a brown dwarf, it is likely that the donor used to be a low-mass star and that the systems followed the evolutionary track for cataclysmic variables, evolving past the period bounce. The donor in long period systems is expected to be a low-mass, cold brown dwarf. This hypothesis is supported by near-infrared photometric observations that constrain the donors in the two systems to be brown dwarfs cooler than $\\approx$1100 K (spectral types T5 or later), most likely losing mass via Roche Lobe overflow or winds. The serendipitous discovery of two magnetic period bouncers in the small footprint of the XMM-Newton source catalog implies a large space density of these type of systems, possibly compatible with the prediction of 40$-$70 per cent of magnetic cataclysmic variables to be period bouncers.         |\n",
       "|<p style=\"color:green\"> **ERROR** </p>| <p style=\"color:green\">affiliation error: mpia.affiliation_verifications: '69117' keyword not found.</p> |"
      ],
      "text/plain": [
       "<IPython.core.display.Markdown object>"
      ]
     },
     "metadata": {},
     "output_type": "display_data"
    },
    {
     "data": {
      "text/markdown": [
       "\n",
       "|||\n",
       "|---:|:---|\n",
       "| [![arXiv](https://img.shields.io/badge/arXiv-2503.11740-b31b1b.svg)](https://arxiv.org/abs/2503.11740) | **Square Kilometre Array Science Data Challenge 3a: foreground removal for an EoR experiment**  |\n",
       "|| A. Bonaldi, et al. -- incl., <mark>X. Zhang</mark> |\n",
       "|*Appeared on*| *2025-03-18*|\n",
       "|*Comments*| *29 pages, 10 figures, submitted to MNRAS*|\n",
       "|**Abstract**|            We present and analyse the results of the Science data challenge 3a (SDC3a, this https URL), an EoR foreground-removal community-wide exercise organised by the Square Kilometre Array Observatory (SKAO). The challenge ran for 8 months, from March to October 2023. Participants were provided with realistic simulations of SKA-Low data between 106 MHz and 196 MHz, including foreground contamination from extragalactic as well as Galactic emission, instrumental and systematic effects. They were asked to deliver cylindrical power spectra of the EoR signal, cleaned from all corruptions, and the corresponding confidence levels. Here we describe the approaches taken by the 17 teams that completed the challenge, and we assess their performance using different metrics. The challenge results provide a positive outlook on the capabilities of current foreground-mitigation approaches to recover the faint EoR signal from SKA-Low observations. The median error committed in the EoR power spectrum recovery is below the true signal for seven teams, although in some cases there are some significant outliers. The smallest residual overall is $4.2_{-4.2}^{+20} \\times 10^{-4}\\,\\rm{K}^2h^{-3}$cMpc$^{3}$ across all considered scales and frequencies. The estimation of confidence levels provided by the teams is overall less accurate, with the true error being typically under-estimated, sometimes very significantly. The most accurate error bars account for $60 \\pm 20$\\% of the true errors committed. The challenge results provide a means for all teams to understand and improve their performance. This challenge indicates that the comparison between independent pipelines could be a powerful tool to assess residual biases and improve error estimation.         |\n",
       "|<p style=\"color:green\"> **ERROR** </p>| <p style=\"color:green\">affiliation error: mpia.affiliation_verifications: 'Heidelberg' keyword not found.</p> |"
      ],
      "text/plain": [
       "<IPython.core.display.Markdown object>"
      ]
     },
     "metadata": {},
     "output_type": "display_data"
    },
    {
     "data": {
      "text/markdown": [
       "\n",
       "|||\n",
       "|---:|:---|\n",
       "| [![arXiv](https://img.shields.io/badge/arXiv-2503.11778-b31b1b.svg)](https://arxiv.org/abs/2503.11778) | **The Power of the Cosmic Web**  |\n",
       "|| J. Sunseri, A. E. Bayer, <mark>J. Liu</mark> |\n",
       "|*Appeared on*| *2025-03-18*|\n",
       "|*Comments*| *14 pages, 10 figures*|\n",
       "|**Abstract**|            We study the cosmological information contained in the cosmic web, categorized as four structure types: nodes, filaments, walls, and voids, using the Quijote simulations and a modified  nexus+ algorithm. We show that splitting the density field by the four structure types and combining the power spectrum in each provides much tighter constraints on cosmological parameters than using the power spectrum without splitting. We show the rich information contained in the cosmic web structures -- related to the Hessian of the density field -- for measuring all of the cosmological parameters, and in particular for constraining neutrino mass. We study the constraints as a function of Fourier scale, configuration space smoothing scale, and the underlying field. For the matter field with $k_{\\rm max}=0.5\\,h/{\\rm Mpc}$, we find a factor of $\\times20$ tighter constraints on neutrino mass when using smoothing scales larger than 12.5~Mpc/$h$, and $\\times80$ tighter when using smoothing scales down to 1.95~Mpc/$h$. However, for the CDM+Baryon field we observe a more modest $\\times1.7$ or $\\times3.6$ improvement, for large and small smoothing scales respectively. We release our new python package for identifying cosmic structures pycosmmommf at this https URL to enable future studies of the cosmological information of the cosmic web.         |\n",
       "|<p style=\"color:green\"> **ERROR** </p>| <p style=\"color:green\">affiliation error: mpia.affiliation_verifications: 'Heidelberg' keyword not found.</p> |"
      ],
      "text/plain": [
       "<IPython.core.display.Markdown object>"
      ]
     },
     "metadata": {},
     "output_type": "display_data"
    },
    {
     "data": {
      "text/markdown": [
       "\n",
       "|||\n",
       "|---:|:---|\n",
       "| [![arXiv](https://img.shields.io/badge/arXiv-2503.12410-b31b1b.svg)](https://arxiv.org/abs/2503.12410) | **Searching for accreting compact binary systems from spectroscopy and photometry: Application to LAMOST spectra**  |\n",
       "|| X. Zhao, S. Wang, <mark>J. Liu</mark> |\n",
       "|*Appeared on*| *2025-03-18*|\n",
       "|*Comments*| *18pages, 15 figures, accepted for publication in APJ*|\n",
       "|**Abstract**|            Compact objects undergoing mass transfer exhibit significant (and double-peaked) $H_{\\alpha}$ emission lines. Recently, new methods have been developed to identify black hole X-ray binaries (BHXBs) and calculate their systematic parameters using $H_{\\alpha}$ line parameters, such as the full-width at half maximum (FWHM), equivalent width (EW), and separation of double peaks. In addition, the FWHM-EW plane from spectroscopy and the $H_{\\alpha}$ color-color diagram from photometry can be used for rapid stellar classification. We measure the $H_{\\alpha}$ and $H_{\\beta}$ profiles (e.g., FWHM and EW) using the LAMOST DR9 low- and medium-resolution spectra, and calculate the systematic parameters (e.g., velocity semi-amplitude of the donor star, mass ratio, inclination angle, and mass of the accretor). A new correlation between FWHM and $K_{\\rm 2}$, $K_{\\rm 2} = 0.205(18)\\ \\rm{FWHM}$, is obtained for cataclysmic variables (CVs) in our sample. Both the FWHM-EW plane and the $H_{\\alpha}$ color-color diagram can distinguish CVs with FWHM $\\gtrsim$ 1000 km/s from Be stars and young stellar objects (YSOs) to some extent. To improve classification accuracy and enhance the selection of compact objects, we propose a new set of idealized filters with effective widths of 30 Å, 130 Å, and 400 Å\\ for the narrow $H_{\\alpha}$ filter, broad $H_{\\alpha}$ filter, and $r$-band filter, respectively.         |\n",
       "|<p style=\"color:green\"> **ERROR** </p>| <p style=\"color:green\">affiliation error: mpia.affiliation_verifications: 'Heidelberg' keyword not found.</p> |"
      ],
      "text/plain": [
       "<IPython.core.display.Markdown object>"
      ]
     },
     "metadata": {},
     "output_type": "display_data"
    },
    {
     "data": {
      "text/markdown": [
       "\n",
       "|||\n",
       "|---:|:---|\n",
       "| [![arXiv](https://img.shields.io/badge/arXiv-2503.12449-b31b1b.svg)](https://arxiv.org/abs/2503.12449) | **Calibration of Complementary Metal-oxide-semiconductor Sensor-based Photometry to a Few-millimagnitude Precision: The Case of the Mini-SiTian Array**  |\n",
       "|| K. Xiao, et al. -- incl., <mark>J. Liu</mark> |\n",
       "|*Appeared on*| *2025-03-18*|\n",
       "|*Comments*| *8 pages, 6 figures, ApJL accepted, see main results in Figures 4*|\n",
       "|**Abstract**|            We present a pioneering achievement in the high-precision photometric calibration of CMOS-based photometry, by application of the Gaia BP/RP (XP) spectra-based synthetic photometry (XPSP) method to the mini-SiTian array (MST) photometry. Through 79 repeated observations of the $\\texttt{f02}$ field on the night, we find good internal consistency in the calibrated MST $G_{\\rm MST}$-band magnitudes for relatively bright stars, with a precision of about 4\\,mmag for $G_{\\rm MST}\\sim 13$. Results from more than 30 different nights (over 3100 observations) further confirm this internal consistency, indicating that the 4\\,mmag precision is stable and achievable over timescales of months. An independent external validation using spectroscopic data from the Large Sky Area Multi-Object Fiber Spectroscopic Telescope (LAMOST) DR10 and high-precision photometric data using CCDs from Gaia DR3 reveals a zero-point consistency better than 1\\,mmag. Our results clearly demonstrate that CMOS photometry is on par with CCD photometry for high-precision results, highlighting the significant capabilities of CMOS cameras in astronomical observations, especially for large-scale telescope survey arrays.         |\n",
       "|<p style=\"color:green\"> **ERROR** </p>| <p style=\"color:green\">affiliation error: mpia.affiliation_verifications: 'Heidelberg' keyword not found.</p> |"
      ],
      "text/plain": [
       "<IPython.core.display.Markdown object>"
      ]
     },
     "metadata": {},
     "output_type": "display_data"
    },
    {
     "data": {
      "text/markdown": [
       "\n",
       "|||\n",
       "|---:|:---|\n",
       "| [![arXiv](https://img.shields.io/badge/arXiv-2503.12513-b31b1b.svg)](https://arxiv.org/abs/2503.12513) | **The HASHTAG project II. Giant molecular cloud properties across the M31 disc**  |\n",
       "|| Y. Deng, et al. -- incl., <mark>S. Jiao</mark> |\n",
       "|*Appeared on*| *2025-03-18*|\n",
       "|*Comments*| *18 pages, 13 figures, accepted for publication in MNRAS*|\n",
       "|**Abstract**|            We present a study of giant molecular cloud (GMC) properties in the Andromeda galaxy (M31) using CO(3-2) data from the James Clerk Maxwell Telescope (JCMT) in selected regions across the disc and in the nuclear ring, and comparing them with CO(1-0) observations from the IRAM 30m telescope in the same regions. We find that GMCs in the centre of M31 generally exhibit larger velocity dispersions ($\\sigma$) and sizes ($R$) compared to those in the disc, while their average surface density ($\\Sigma$) and turbulent pressure ($P_{\\rm turb}$) are lower. This low turbulent pressure in the central region is primarily due to the low density of molecular gas. The estimated GMC properties depend on the choice of CO transitions. Compared to CO(1-0), CO(3-2) exhibits smaller velocity dispersion and equivalent radius but higher surface density. These differences highlight the distinct physical conditions probed by different molecular gas tracers. We estimate the virial parameter $\\alpha_{\\rm vir}\\propto \\sigma^2 R/\\Sigma$ and find that most molecular clouds exhibit high values ($\\alpha_{\\rm vir} \\sim 4-6$) for both CO transitions, indicating that they are unbound. Furthermore, clouds in the nuclear ring display even larger $\\alpha_{\\rm vir}$ values of $\\lesssim 100$, suggesting that they may be highly dynamic, short-lived structures, although they could potentially achieve equilibrium under the external pressure exerted by the surrounding interstellar medium.         |\n",
       "|<p style=\"color:green\"> **ERROR** </p>| <p style=\"color:green\">affiliation error: mpia.affiliation_verifications: 'Heidelberg' keyword not found.</p> |"
      ],
      "text/plain": [
       "<IPython.core.display.Markdown object>"
      ]
     },
     "metadata": {},
     "output_type": "display_data"
    }
   ],
   "source": [
    "import datetime\n",
    "today = str(datetime.date.today())\n",
    "logfile = f\"_build/html/logs/log-{today}.md\"\n",
    "\n",
    "\n",
    "with open(logfile, 'w') as logs:\n",
    "    # Success\n",
    "    logs.write(f'# Arxiv on Deck 2: Logs - {today}\\n\\n')\n",
    "    logs.write(\"\"\"* Arxiv had {0:,d} new papers\\n\"\"\".format(len(new_papers)))\n",
    "    logs.write(\"\"\"    * {0:,d} with possible author matches\\n\\n\"\"\".format(len(candidates)))\n",
    "    logs.write(\"## Sucessful papers\\n\\n\")\n",
    "    display(Markdown(\"## Successful papers\"))\n",
    "    success = [k[0] for k in documents]\n",
    "    for candid in candidates:\n",
    "        if candid['identifier'].split(':')[-1] in success:\n",
    "            display(candid)\n",
    "            logs.write(candid.generate_markdown_text() + '\\n\\n')\n",
    "\n",
    "    ## failed\n",
    "    logs.write(\"## Failed papers\\n\\n\")\n",
    "    display(Markdown(\"## Failed papers\"))\n",
    "    failed = sorted(failed, key=lambda x: x[1])\n",
    "    current_reason = \"\"\n",
    "    for paper, reason in failed:\n",
    "        if 'affiliation' in reason:\n",
    "            color = 'green'\n",
    "        else:\n",
    "            color = 'red'\n",
    "        data = Markdown(\n",
    "                paper.generate_markdown_text() + \n",
    "                f'\\n|<p style=\"color:{color:s}\"> **ERROR** </p>| <p style=\"color:{color:s}\">{reason:s}</p> |'\n",
    "               )\n",
    "        if reason != current_reason:\n",
    "            logs.write(f'### {reason:s} \\n\\n')\n",
    "            current_reason = reason\n",
    "        logs.write(data.data + '\\n\\n')\n",
    "        \n",
    "        # only display here the important errors (all in logs)\n",
    "        # if color in ('red',):\n",
    "        display(data)"
   ]
  },
  {
   "cell_type": "markdown",
   "id": "472d20ee",
   "metadata": {
    "papermill": {
     "duration": 0.00514,
     "end_time": "2025-03-18T04:12:34.037910",
     "exception": false,
     "start_time": "2025-03-18T04:12:34.032770",
     "status": "completed"
    },
    "tags": []
   },
   "source": [
    "## Export documents\n",
    "\n",
    "We now write the .md files and export relevant images"
   ]
  },
  {
   "cell_type": "code",
   "execution_count": 7,
   "id": "d426aed9",
   "metadata": {
    "execution": {
     "iopub.execute_input": "2025-03-18T04:12:34.049284Z",
     "iopub.status.busy": "2025-03-18T04:12:34.048811Z",
     "iopub.status.idle": "2025-03-18T04:12:34.055556Z",
     "shell.execute_reply": "2025-03-18T04:12:34.055032Z"
    },
    "papermill": {
     "duration": 0.01356,
     "end_time": "2025-03-18T04:12:34.056615",
     "exception": false,
     "start_time": "2025-03-18T04:12:34.043055",
     "status": "completed"
    },
    "tags": []
   },
   "outputs": [],
   "source": [
    "def export_markdown_summary(md: str, md_fname:str, directory: str):\n",
    "    \"\"\"Export MD document and associated relevant images\"\"\"\n",
    "    import os\n",
    "    import shutil\n",
    "    import re\n",
    "\n",
    "    if (os.path.exists(directory) and not os.path.isdir(directory)):\n",
    "        raise RuntimeError(f\"a non-directory file exists with name {directory:s}\")\n",
    "\n",
    "    if (not os.path.exists(directory)):\n",
    "        print(f\"creating directory {directory:s}\")\n",
    "        os.mkdir(directory)\n",
    "\n",
    "    fig_fnames = (re.compile(r'\\[Fig.*\\]\\((.*)\\)').findall(md) + \n",
    "                  re.compile(r'\\<img src=\"([^>\\s]*)\"[^>]*/>').findall(md))\n",
    "    print(\"found figures\", fig_fnames)\n",
    "    for fname in fig_fnames:\n",
    "        if 'http' in fname:\n",
    "            # No need to copy online figures\n",
    "            continue\n",
    "        if not os.path.exists(fname):\n",
    "            print(\"file not found\", fname)\n",
    "            continue\n",
    "        print(\"copying \", fname, \"to\", directory)\n",
    "        destdir = os.path.join(directory, os.path.dirname(fname))\n",
    "        destfname = os.path.join(destdir, os.path.basename(fname))\n",
    "        try:\n",
    "            os.makedirs(destdir)\n",
    "        except FileExistsError:\n",
    "            pass\n",
    "        shutil.copy(fname, destfname)\n",
    "    with open(os.path.join(directory, md_fname), 'w') as fout:\n",
    "        fout.write(md)\n",
    "    print(\"exported in \", os.path.join(directory, md_fname))\n",
    "    [print(\"    + \" + os.path.join(directory,fk)) for fk in fig_fnames]"
   ]
  },
  {
   "cell_type": "code",
   "execution_count": 8,
   "id": "014d04a4",
   "metadata": {
    "execution": {
     "iopub.execute_input": "2025-03-18T04:12:34.067953Z",
     "iopub.status.busy": "2025-03-18T04:12:34.067714Z",
     "iopub.status.idle": "2025-03-18T04:12:34.074144Z",
     "shell.execute_reply": "2025-03-18T04:12:34.073573Z"
    },
    "papermill": {
     "duration": 0.013144,
     "end_time": "2025-03-18T04:12:34.075090",
     "exception": false,
     "start_time": "2025-03-18T04:12:34.061946",
     "status": "completed"
    },
    "tags": []
   },
   "outputs": [
    {
     "name": "stdout",
     "output_type": "stream",
     "text": [
      "found figures ['tmp_2503.11856/./mhprofile_running_noex_cutnorth_cutblue.png', 'tmp_2503.11856/./lmetprof_running_noex_cutnorth_cutblue.png', 'tmp_2503.11856/./mh_fu_hk_noex.png', 'tmp_2503.11856/./SPar_bin240__noex1.png', 'tmp_2503.11856/./Kcol-Ak_bin40__noex1.png']\n",
      "copying  tmp_2503.11856/./mhprofile_running_noex_cutnorth_cutblue.png to _build/html/\n",
      "copying  tmp_2503.11856/./lmetprof_running_noex_cutnorth_cutblue.png to _build/html/\n",
      "copying  tmp_2503.11856/./mh_fu_hk_noex.png to _build/html/\n",
      "copying  tmp_2503.11856/./SPar_bin240__noex1.png to _build/html/\n",
      "copying  tmp_2503.11856/./Kcol-Ak_bin40__noex1.png to _build/html/\n",
      "exported in  _build/html/2503.11856.md\n",
      "    + _build/html/tmp_2503.11856/./mhprofile_running_noex_cutnorth_cutblue.png\n",
      "    + _build/html/tmp_2503.11856/./lmetprof_running_noex_cutnorth_cutblue.png\n",
      "    + _build/html/tmp_2503.11856/./mh_fu_hk_noex.png\n",
      "    + _build/html/tmp_2503.11856/./SPar_bin240__noex1.png\n",
      "    + _build/html/tmp_2503.11856/./Kcol-Ak_bin40__noex1.png\n",
      "found figures []\n",
      "exported in  _build/html/2503.12707.md\n"
     ]
    }
   ],
   "source": [
    "for paper_id, md in documents:\n",
    "    export_markdown_summary(md, f\"{paper_id:s}.md\", '_build/html/')"
   ]
  },
  {
   "cell_type": "markdown",
   "id": "f087a0a7",
   "metadata": {
    "papermill": {
     "duration": 0.00517,
     "end_time": "2025-03-18T04:12:34.085535",
     "exception": false,
     "start_time": "2025-03-18T04:12:34.080365",
     "status": "completed"
    },
    "tags": []
   },
   "source": [
    "## Display the papers\n",
    "\n",
    "Not necessary but allows for a quick check."
   ]
  },
  {
   "cell_type": "code",
   "execution_count": 9,
   "id": "fd25f625",
   "metadata": {
    "execution": {
     "iopub.execute_input": "2025-03-18T04:12:34.096951Z",
     "iopub.status.busy": "2025-03-18T04:12:34.096758Z",
     "iopub.status.idle": "2025-03-18T04:12:34.102628Z",
     "shell.execute_reply": "2025-03-18T04:12:34.102011Z"
    },
    "papermill": {
     "duration": 0.012641,
     "end_time": "2025-03-18T04:12:34.103607",
     "exception": false,
     "start_time": "2025-03-18T04:12:34.090966",
     "status": "completed"
    },
    "scrolled": false,
    "tags": []
   },
   "outputs": [
    {
     "data": {
      "text/markdown": [
       "<div class=\"macros\" style=\"visibility:hidden;\">\n",
       "$\\newcommand{\\ensuremath}{}$\n",
       "$\\newcommand{\\xspace}{}$\n",
       "$\\newcommand{\\object}[1]{\\texttt{#1}}$\n",
       "$\\newcommand{\\farcs}{{.}''}$\n",
       "$\\newcommand{\\farcm}{{.}'}$\n",
       "$\\newcommand{\\arcsec}{''}$\n",
       "$\\newcommand{\\arcmin}{'}$\n",
       "$\\newcommand{\\ion}[2]{#1#2}$\n",
       "$\\newcommand{\\textsc}[1]{\\textrm{#1}}$\n",
       "$\\newcommand{\\hl}[1]{\\textrm{#1}}$\n",
       "$\\newcommand{\\footnote}[1]{}$\n",
       "$\\newcommand{\\micron}{\\ensuremath{\\mu}m}$\n",
       "$\\newcommand{\\angstrom}{\\mathring{A}}$\n",
       "$\\newcommand{\\teff}{\\ensuremath{T_\\textrm{eff}}\\xspace}$\n",
       "$\\newcommand{\\re}{\\ensuremath{R_\\textrm{e}}\\xspace}$\n",
       "$\\newcommand{\\logg}{\\ensuremath{\\log(\\rm g)}\\xspace}$\n",
       "$\\newcommand{\\mh}{[M/H]\\xspace}$\n",
       "$\\newcommand{\\kms}{km s\\ensuremath{^{-1}}\\xspace}$\n",
       "$\\newcommand{\\msun}{\\ensuremath{M_{\\sun}}\\xspace}$\n",
       "$\\newcommand{\\vlos}{\\ensuremath{V_\\textrm{LOS}}\\xspace}$\n",
       "$\\newcommand{\\dlos}{\\ensuremath{d_\\textrm{LOS}}\\xspace}$\n",
       "$\\newcommand{\\slos}{\\ensuremath{\\sigma_{\\textrm{LOS}}}\\xspace}$\n",
       "$\\newcommand{\\sgra}{Sgr~A^\\star\\xspace}$\n",
       "$\\newcommand{\\sgr}{Sgr~A^\\star\\xspace}$\n",
       "$\\newcommand{\\col}{\\ensuremath{H-K_{S}}\\xspace}$\n",
       "$\\newcommand{\\ak}{\\ensuremath{A_{K_S}}\\xspace}$\n",
       "$\\newcommand{\\thetable}{E.\\arabic{table}}$</div>\n",
       "\n",
       "\n",
       "\n",
       "<div id=\"title\">\n",
       "\n",
       "# A spectroscopic map of the Galactic centre: Observations and resolved stars \n",
       "\n",
       "</div>\n",
       "<div id=\"comments\">\n",
       "\n",
       "[![arXiv](https://img.shields.io/badge/arXiv-2503.11856-b31b1b.svg)](https://arxiv.org/abs/2503.11856)<mark>Appeared on: 2025-03-18</mark> -  _20 pages (+ 7 pages Appendix), 17 (+ 4) figures, accepted A&A_\n",
       "\n",
       "</div>\n",
       "<div id=\"authors\">\n",
       "\n",
       "A. Feldmeier-Krause, et al. -- incl., <mark>N. Neumayer</mark>\n",
       "\n",
       "</div>\n",
       "<div id=\"abstract\">\n",
       "\n",
       "**Abstract:** The Galactic Centre region contains a dense accumulation of stars, which can be separated into two components: A mildly flattened and extremely dense nuclear star cluster (NSC), and a surrounding, more extended and more flattened, nuclear stellar disc (NSD).  Previous studies have collected a few thousand spectra of the inner NSC, and also the outer NSD, and measured line-of-sight velocities and metallicities. Until now, such measurements exist only for a few 100 stars in the region where the stellar surface density transitions from being dominated by the NSC into being dominated by the NSD. We want to study the stellar population from the centre of the NSC out to well beyond its effective radius, where the NSD dominates. In this way, we can investigate whether and how the mean properties and kinematics of the stars change systematically. We conducted spectroscopic observations with Flamingos-2 in the $K$ -band via a continuous slit-scan. The data extend from the central NSC into the inner NSD, out to $\\pm$ 32 pc from $\\sgra$ along Galactic longitude $l$ .Based on their CO equivalent width we classify the stars as hot or cool stars. The former are massive, young stars, while almost all of the latter are older than one to a few gigayears. Applying full-spectral fitting, we measure the overall metallicity $\\mh$ and line-of-sight velocity $\\vlos$ for \\textgreater 2 500 cool stars, increasingexisting samples outside of the very centre by a factor of 3 in terms of number of stars, and  by more than an order of magnitude in terms of covered area.We present the first continuous spatial maps and profiles of the mean value of various stellar and kinematic parameters. We identify hot, young stars across the field of view. Some stars appear to be isolated from other hot stars, while others accumulate within 2.7 pc of the Quintuplet cluster, or the central parsec cluster.The position-velocity curve of the cool stars shows no dependence on $\\mh$ , but it depends on the colour of the stars. The colour may be a tracer of the line-of-sight distance, and thus distinguish stars located in the NSC from those in the NSD. A subset of the cool stars has high velocities \\textgreater 150 $\\kms$ , they may be associated with the bar or tidal tails of star clusters.\n",
       "\n",
       "</div>\n",
       "\n",
       "<div id=\"div_fig1\">\n",
       "\n",
       "<img src=\"tmp_2503.11856/./mhprofile_running_noex_cutnorth_cutblue.png\" alt=\"Fig7.1\" width=\"33%\"/><img src=\"tmp_2503.11856/./lmetprof_running_noex_cutnorth_cutblue.png\" alt=\"Fig7.2\" width=\"33%\"/><img src=\"tmp_2503.11856/./mh_fu_hk_noex.png\" alt=\"Fig7.3\" width=\"33%\"/>\n",
       "\n",
       "**Figure 7. -** Moving average $\\mh$ profile of Galactic Centre late-type stars. Top panel: Profile along Galactic longitude, centred on $\\sgra$. Red lines denote the average over the entire FOV,  blue dashed lines for stars at $b$\\textless 1 pc, i.e. without stars located in the northern region of the FOV (shown as orange dot-dashed line), and black dot-dashed line excludes, in addition, stars with $\\col$\\textless1.7 mag. The average is computed on 200 stars, uncertainties are Poisson errors. The green line denotes the moving average of $\\mh$ of 100 stars from \\cite{2017MNRAS.464..194F,2020MNRAS.494..396F}.\n",
       " Vertical dashed lines denote the NSC $\\re$=5 pc, and the centre at 0 pc. Middle panel: Same as top panel, but including NSD data from \\cite{2021A&A...649A..83F}, shown as purple dashed and solid orange line with diamond symbols,  and \\cite{2022MNRAS.513.5920F}, shown together with the \\cite{2017MNRAS.464..194F,2020MNRAS.494..396F} data as green square symbols. To aid visibility, we plot error bars only every $\\sim$20 pc. Bottom panel: Profile along observed $\\col$, for different regions in our FOV, and averaged over 50--100 stars, to account for the lower and different number of stars per field.\n",
       " (*fig:lspav*)\n",
       "\n",
       "</div>\n",
       "<div id=\"div_fig2\">\n",
       "\n",
       "<img src=\"tmp_2503.11856/./SPar_bin240__noex1.png\" alt=\"Fig19\" width=\"100%\"/>\n",
       "\n",
       "**Figure 19. -** Mean effective temperature $\\teff$, overall metallicity $\\mh$, and surface gravity $\\logg$. The regions with fainter stars in Fig. $\\re$f{fig:vorK}(top panel) have higher $\\teff$\\space and $\\logg$, as expected. High-velocity stars and foreground stars were excluded. Each bin contains $\\sim$40 stars. (*fig:vorSP*)\n",
       "\n",
       "</div>\n",
       "<div id=\"div_fig3\">\n",
       "\n",
       "<img src=\"tmp_2503.11856/./Kcol-Ak_bin40__noex1.png\" alt=\"Fig18\" width=\"100%\"/>\n",
       "\n",
       "**Figure 18. -** Mean photometric properties in different Voronoi bins, top: $K_{S,0}$, middle $\\col$, bottom $A_{K_{S,0}}$. The mean $K_{S,0}$ indicates that the stars in the central region are slightly fainter than stars in the outer regions, especially in the west. The stars in the centre are slightly redder (higher mean $\\col$), and in this region, the extinction $\\ak$ is higher. High-velocity stars and foreground stars were excluded. Each bin contains $\\sim$40 stars.  (*fig:vorK*)\n",
       "\n",
       "</div><div id=\"qrcode\"><img src=https://api.qrserver.com/v1/create-qr-code/?size=100x100&data=\"https://arxiv.org/abs/2503.11856\"></div>"
      ],
      "text/plain": [
       "<IPython.core.display.Markdown object>"
      ]
     },
     "metadata": {},
     "output_type": "display_data"
    },
    {
     "data": {
      "text/markdown": [
       "<div class=\"macros\" style=\"visibility:hidden;\">\n",
       "$\\newcommand{\\ensuremath}{}$\n",
       "$\\newcommand{\\xspace}{}$\n",
       "$\\newcommand{\\object}[1]{\\texttt{#1}}$\n",
       "$\\newcommand{\\farcs}{{.}''}$\n",
       "$\\newcommand{\\farcm}{{.}'}$\n",
       "$\\newcommand{\\arcsec}{''}$\n",
       "$\\newcommand{\\arcmin}{'}$\n",
       "$\\newcommand{\\ion}[2]{#1#2}$\n",
       "$\\newcommand{\\textsc}[1]{\\textrm{#1}}$\n",
       "$\\newcommand{\\hl}[1]{\\textrm{#1}}$\n",
       "$\\newcommand{\\footnote}[1]{}$\n",
       "$\\newcommand{\\todo}[1]{\\textcolor{red}{[#1]}}$\n",
       "$\\newcommand{\\edit}[1]{\\textcolor{red}{#1}}$</div>\n",
       "\n",
       "\n",
       "\n",
       "<div id=\"title\">\n",
       "\n",
       "# Advancing European High-Contrast Imaging R\\&D Towards the Habitable Worlds Observatory\n",
       "\n",
       "</div>\n",
       "<div id=\"comments\">\n",
       "\n",
       "[![arXiv](https://img.shields.io/badge/arXiv-2503.12707-b31b1b.svg)](https://arxiv.org/abs/2503.12707)<mark>Appeared on: 2025-03-18</mark> -  _Accepted for publication in Astrophysics and Space Science_\n",
       "\n",
       "</div>\n",
       "<div id=\"authors\">\n",
       "\n",
       "I. Laginja, et al. -- incl., <mark>E. Matthews</mark>, <mark>W. Brandner</mark>, <mark>G. Chauvin</mark>, <mark>O. Krause</mark>\n",
       "\n",
       "</div>\n",
       "<div id=\"abstract\">\n",
       "\n",
       "**Abstract:** The Habitable Worlds Observatory (HWO) will enable a transformative leap in the direct imaging and characterization of Earth-like exoplanets. For this, NASA is focusing on early investment in technology development prior to mission definition and actively seeking international partnerships earlier than for previous missions. The \"R \\& D for Space-Based HCI in Europe\" workshop, held in March 2024 at Paris Observatory, convened leading experts in high-contrast imaging (HCI) to discuss European expertise and explore potential strategies for European contributions to HWO. This paper synthesizes the discussions and outcomes of the workshop, highlighting Europe's critical contributions to past and current HCI efforts, the synergies between ground- and space-based technologies, and the importance of laboratory testbeds and collaborative funding mechanisms.Key conclusions include the need for Europe to invest in technology development for areas such as deformable mirrors and advanced detectors, and establish or enhance laboratory facilities for system-level testing. Putting emphasis on the urgency of aligning with the timeline of the HWO, the participants called on an open affirmation by the European Space Agency (ESA) that a European contribution to HWO is clearly anticipated, to signal national agencies and unlock funding opportunities at the national level. Based on the expertise demonstrated through R \\& D, Europe is poised to play a pivotal role in advancing global HCI capabilities, contributing to the characterization of temperate exoplanets and fostering innovation across domains.\n",
       "\n",
       "</div>\n",
       "\n",
       "<div id=\"qrcode\"><img src=https://api.qrserver.com/v1/create-qr-code/?size=100x100&data=\"https://arxiv.org/abs/2503.12707\"></div>"
      ],
      "text/plain": [
       "<IPython.core.display.Markdown object>"
      ]
     },
     "metadata": {},
     "output_type": "display_data"
    }
   ],
   "source": [
    "[display(Markdown(k[1])) for k in documents];"
   ]
  },
  {
   "cell_type": "markdown",
   "id": "873873a4",
   "metadata": {
    "papermill": {
     "duration": 0.005655,
     "end_time": "2025-03-18T04:12:34.115085",
     "exception": false,
     "start_time": "2025-03-18T04:12:34.109430",
     "status": "completed"
    },
    "tags": []
   },
   "source": [
    "# Create HTML index"
   ]
  },
  {
   "cell_type": "code",
   "execution_count": 10,
   "id": "cf665672",
   "metadata": {
    "execution": {
     "iopub.execute_input": "2025-03-18T04:12:34.127445Z",
     "iopub.status.busy": "2025-03-18T04:12:34.127229Z",
     "iopub.status.idle": "2025-03-18T04:12:34.136719Z",
     "shell.execute_reply": "2025-03-18T04:12:34.136166Z"
    },
    "papermill": {
     "duration": 0.016764,
     "end_time": "2025-03-18T04:12:34.137763",
     "exception": false,
     "start_time": "2025-03-18T04:12:34.120999",
     "status": "completed"
    },
    "tags": []
   },
   "outputs": [
    {
     "name": "stdout",
     "output_type": "stream",
     "text": [
      "367  publications files modified in the last 7 days.\n"
     ]
    }
   ],
   "source": [
    "from datetime import datetime, timedelta, timezone\n",
    "from glob import glob\n",
    "import os\n",
    "\n",
    "files = glob('_build/html/*.md')\n",
    "days = 7\n",
    "now = datetime.today()\n",
    "res = []\n",
    "for fk in files:\n",
    "    stat_result = os.stat(fk).st_ctime\n",
    "    modified = datetime.fromtimestamp(stat_result, tz=timezone.utc).replace(tzinfo=None)\n",
    "    delta = now.today() - modified\n",
    "    if delta <= timedelta(days=days):\n",
    "        res.append((delta.seconds, fk))\n",
    "res = [k[1] for k in reversed(sorted(res, key=lambda x:x[1]))]\n",
    "npub = len(res)\n",
    "print(len(res), f\" publications files modified in the last {days:d} days.\")\n",
    "# [ print('\\t', k) for k in res ];"
   ]
  },
  {
   "cell_type": "code",
   "execution_count": 11,
   "id": "015de740",
   "metadata": {
    "execution": {
     "iopub.execute_input": "2025-03-18T04:12:34.150291Z",
     "iopub.status.busy": "2025-03-18T04:12:34.149735Z",
     "iopub.status.idle": "2025-03-18T04:12:34.169651Z",
     "shell.execute_reply": "2025-03-18T04:12:34.168992Z"
    },
    "papermill": {
     "duration": 0.027294,
     "end_time": "2025-03-18T04:12:34.170739",
     "exception": false,
     "start_time": "2025-03-18T04:12:34.143445",
     "status": "completed"
    },
    "tags": []
   },
   "outputs": [
    {
     "name": "stdout",
     "output_type": "stream",
     "text": [
      "11  publications in the last 7 days.\n"
     ]
    }
   ],
   "source": [
    "import datetime\n",
    "from glob import glob\n",
    "\n",
    "def get_last_n_days(lst, days=1):\n",
    "    \"\"\" Get the documents from the last n days \"\"\"\n",
    "    sorted_lst = sorted(lst, key=lambda x: x[1], reverse=True)\n",
    "    for fname, date in sorted_lst:\n",
    "        if date >= str(datetime.date.today() - datetime.timedelta(days=days)):\n",
    "            yield fname\n",
    "\n",
    "def extract_appearance_dates(lst_file):\n",
    "    dates = []\n",
    "\n",
    "    def get_date(line):\n",
    "        return line\\\n",
    "            .split('Appeared on:')[-1]\\\n",
    "            .split('</mark>')[0].strip()\n",
    "\n",
    "    for fname in lst:\n",
    "        with open(fname, 'r') as f:\n",
    "            found_date = False\n",
    "            for line in f:\n",
    "                if not found_date:\n",
    "                    if \"Appeared on\" in line:\n",
    "                        found_date = True\n",
    "                        dates.append((fname, get_date(line)))\n",
    "                else:\n",
    "                    break\n",
    "    return dates\n",
    "\n",
    "from glob import glob\n",
    "lst = glob('_build/html/*md')\n",
    "days = 7\n",
    "dates = extract_appearance_dates(lst)\n",
    "res = list(get_last_n_days(dates, days))\n",
    "npub = len(res)\n",
    "print(len(res), f\" publications in the last {days:d} days.\")"
   ]
  },
  {
   "cell_type": "code",
   "execution_count": 12,
   "id": "52ca0208",
   "metadata": {
    "execution": {
     "iopub.execute_input": "2025-03-18T04:12:34.183315Z",
     "iopub.status.busy": "2025-03-18T04:12:34.182908Z",
     "iopub.status.idle": "2025-03-18T04:12:34.187895Z",
     "shell.execute_reply": "2025-03-18T04:12:34.187302Z"
    },
    "papermill": {
     "duration": 0.012351,
     "end_time": "2025-03-18T04:12:34.188914",
     "exception": false,
     "start_time": "2025-03-18T04:12:34.176563",
     "status": "completed"
    },
    "scrolled": false,
    "tags": []
   },
   "outputs": [],
   "source": [
    "def create_carousel(npub=4):\n",
    "    \"\"\" Generate the HTML code for a carousel with `npub` slides \"\"\"\n",
    "    carousel = [\"\"\"  <div class=\"carousel\" \"\"\",\n",
    "                \"\"\"       data-flickity='{ \"autoPlay\": 10000, \"adaptiveHeight\": true, \"resize\": true, \"wrapAround\": true, \"pauseAutoPlayOnHover\": true, \"groupCells\": 1 }' id=\"asyncTypeset\">\"\"\"\n",
    "                ]\n",
    "    \n",
    "    item_str = \"\"\"    <div class=\"carousel-cell\"> <div id=\"slide{k}\" class=\"md_view\">Content {k}</div> </div>\"\"\"\n",
    "    for k in range(1, npub + 1):\n",
    "        carousel.append(item_str.format(k=k))\n",
    "    carousel.append(\"  </div>\")\n",
    "    return '\\n'.join(carousel)\n",
    "\n",
    "def create_grid(npub=4):\n",
    "    \"\"\" Generate the HTML code for a flat grid with `npub` slides \"\"\"\n",
    "    grid = [\"\"\"  <div class=\"grid\"> \"\"\",\n",
    "                ]\n",
    "    \n",
    "    item_str = \"\"\"    <div class=\"grid-item\"> <div id=\"slide{k}\" class=\"md_view\">Content {k}</div> </div>\"\"\"\n",
    "    for k in range(1, npub + 1):\n",
    "        grid.append(item_str.format(k=k))\n",
    "    grid.append(\"  </div>\")\n",
    "    return '\\n'.join(grid)"
   ]
  },
  {
   "cell_type": "code",
   "execution_count": 13,
   "id": "a6eac5b6",
   "metadata": {
    "execution": {
     "iopub.execute_input": "2025-03-18T04:12:34.201537Z",
     "iopub.status.busy": "2025-03-18T04:12:34.201025Z",
     "iopub.status.idle": "2025-03-18T04:12:34.206236Z",
     "shell.execute_reply": "2025-03-18T04:12:34.205618Z"
    },
    "papermill": {
     "duration": 0.012654,
     "end_time": "2025-03-18T04:12:34.207328",
     "exception": false,
     "start_time": "2025-03-18T04:12:34.194674",
     "status": "completed"
    },
    "scrolled": false,
    "tags": []
   },
   "outputs": [],
   "source": [
    "carousel = create_carousel(npub)\n",
    "docs = ', '.join(['\"{0:s}\"'.format(k.split('/')[-1]) for k in res])\n",
    "slides = ', '.join([f'\"slide{k}\"' for k in range(1, npub + 1)])\n",
    "\n",
    "with open(\"daily_template.html\", \"r\") as tpl:\n",
    "    page = tpl.read()\n",
    "    page = page.replace(\"{%-- carousel:s --%}\", carousel)\\\n",
    "               .replace(\"{%-- suptitle:s --%}\",  \"7-day archives\" )\\\n",
    "               .replace(\"{%-- docs:s --%}\", docs)\\\n",
    "               .replace(\"{%-- slides:s --%}\", slides)\n",
    "    \n",
    "with open(\"_build/html/index_7days.html\", 'w') as fout:\n",
    "    fout.write(page)"
   ]
  },
  {
   "cell_type": "code",
   "execution_count": 14,
   "id": "adc1a1ec",
   "metadata": {
    "execution": {
     "iopub.execute_input": "2025-03-18T04:12:34.220205Z",
     "iopub.status.busy": "2025-03-18T04:12:34.219726Z",
     "iopub.status.idle": "2025-03-18T04:12:34.226605Z",
     "shell.execute_reply": "2025-03-18T04:12:34.225941Z"
    },
    "papermill": {
     "duration": 0.014281,
     "end_time": "2025-03-18T04:12:34.227579",
     "exception": false,
     "start_time": "2025-03-18T04:12:34.213298",
     "status": "completed"
    },
    "tags": []
   },
   "outputs": [
    {
     "name": "stdout",
     "output_type": "stream",
     "text": [
      "3  publications in the last day.\n"
     ]
    }
   ],
   "source": [
    "# redo for today\n",
    "days = 1\n",
    "res = list(get_last_n_days(dates, days))\n",
    "npub = len(res)\n",
    "print(len(res), f\" publications in the last day.\")\n",
    "\n",
    "carousel = create_carousel(npub)\n",
    "docs = ', '.join(['\"{0:s}\"'.format(k.split('/')[-1]) for k in res])\n",
    "slides = ', '.join([f'\"slide{k}\"' for k in range(1, npub + 1)])\n",
    "\n",
    "with open(\"daily_template.html\", \"r\") as tpl:\n",
    "    page = tpl.read()\n",
    "    page = page.replace(\"{%-- carousel:s --%}\", carousel)\\\n",
    "               .replace(\"{%-- suptitle:s --%}\",  \"Daily\" )\\\n",
    "               .replace(\"{%-- docs:s --%}\", docs)\\\n",
    "               .replace(\"{%-- slides:s --%}\", slides)\n",
    "    \n",
    "# print(carousel, docs, slides)\n",
    "# print(page)\n",
    "with open(\"_build/html/index_daily.html\", 'w') as fout:\n",
    "    fout.write(page)"
   ]
  },
  {
   "cell_type": "code",
   "execution_count": 15,
   "id": "00eece82",
   "metadata": {
    "execution": {
     "iopub.execute_input": "2025-03-18T04:12:34.240103Z",
     "iopub.status.busy": "2025-03-18T04:12:34.239916Z",
     "iopub.status.idle": "2025-03-18T04:12:34.246230Z",
     "shell.execute_reply": "2025-03-18T04:12:34.245710Z"
    },
    "papermill": {
     "duration": 0.013779,
     "end_time": "2025-03-18T04:12:34.247277",
     "exception": false,
     "start_time": "2025-03-18T04:12:34.233498",
     "status": "completed"
    },
    "scrolled": false,
    "tags": []
   },
   "outputs": [
    {
     "name": "stdout",
     "output_type": "stream",
     "text": [
      "6  6 publications selected.\n"
     ]
    }
   ],
   "source": [
    "# Create the flat grid of the last N papers (fixed number regardless of dates)\n",
    "from itertools import islice \n",
    "\n",
    "npub = 6\n",
    "res = [k[0] for k in (islice(reversed(sorted(dates, key=lambda x: x[1])), 6))]\n",
    "print(len(res), f\" {npub} publications selected.\")\n",
    "\n",
    "grid = create_grid(npub)\n",
    "docs = ', '.join(['\"{0:s}\"'.format(k.split('/')[-1]) for k in res])\n",
    "slides = ', '.join([f'\"slide{k}\"' for k in range(1, npub + 1)])\n",
    "\n",
    "with open(\"grid_template.html\", \"r\") as tpl:\n",
    "    page = tpl.read()\n",
    "    page = page.replace(\"{%-- grid-content:s --%}\", grid)\\\n",
    "               .replace(\"{%-- suptitle:s --%}\",  f\"Last {npub:,d} papers\" )\\\n",
    "               .replace(\"{%-- docs:s --%}\", docs)\\\n",
    "               .replace(\"{%-- slides:s --%}\", slides)\n",
    "    \n",
    "# print(grid, docs, slides)\n",
    "# print(page)\n",
    "with open(\"_build/html/index_npub_grid.html\", 'w') as fout:\n",
    "    fout.write(page)"
   ]
  }
 ],
 "metadata": {
  "kernelspec": {
   "display_name": "Python 3 (ipykernel)",
   "language": "python",
   "name": "python3"
  },
  "language_info": {
   "codemirror_mode": {
    "name": "ipython",
    "version": 3
   },
   "file_extension": ".py",
   "mimetype": "text/x-python",
   "name": "python",
   "nbconvert_exporter": "python",
   "pygments_lexer": "ipython3",
   "version": "3.9.21"
  },
  "papermill": {
   "default_parameters": {},
   "duration": 60.983095,
   "end_time": "2025-03-18T04:12:34.468959",
   "environment_variables": {},
   "exception": null,
   "input_path": "MPIA daily digest.ipynb",
   "output_path": "log.ipynb",
   "parameters": {},
   "start_time": "2025-03-18T04:11:33.485864",
   "version": "2.6.0"
  },
  "vscode": {
   "interpreter": {
    "hash": "aee8b7b246df8f9039afb4144a1f6fd8d2ca17a180786b69acc140d282b71a49"
   }
  },
  "widgets": {
   "application/vnd.jupyter.widget-state+json": {
    "state": {
     "170e8dc878bb4e5a9dc159bb88baf5e7": {
      "model_module": "@jupyter-widgets/controls",
      "model_module_version": "2.0.0",
      "model_name": "ProgressStyleModel",
      "state": {
       "_model_module": "@jupyter-widgets/controls",
       "_model_module_version": "2.0.0",
       "_model_name": "ProgressStyleModel",
       "_view_count": null,
       "_view_module": "@jupyter-widgets/base",
       "_view_module_version": "2.0.0",
       "_view_name": "StyleView",
       "bar_color": null,
       "description_width": ""
      }
     },
     "1c49730c72b54341b989bb020f440584": {
      "model_module": "@jupyter-widgets/controls",
      "model_module_version": "2.0.0",
      "model_name": "FloatProgressModel",
      "state": {
       "_dom_classes": [],
       "_model_module": "@jupyter-widgets/controls",
       "_model_module_version": "2.0.0",
       "_model_name": "FloatProgressModel",
       "_view_count": null,
       "_view_module": "@jupyter-widgets/controls",
       "_view_module_version": "2.0.0",
       "_view_name": "ProgressView",
       "bar_style": "success",
       "description": "",
       "description_allow_html": false,
       "layout": "IPY_MODEL_6102790b271c43398a32ab173364c6ec",
       "max": 8.0,
       "min": 0.0,
       "orientation": "horizontal",
       "style": "IPY_MODEL_170e8dc878bb4e5a9dc159bb88baf5e7",
       "tabbable": null,
       "tooltip": null,
       "value": 8.0
      }
     },
     "2c6f784e796d4203a992570b93068cfa": {
      "model_module": "@jupyter-widgets/base",
      "model_module_version": "2.0.0",
      "model_name": "LayoutModel",
      "state": {
       "_model_module": "@jupyter-widgets/base",
       "_model_module_version": "2.0.0",
       "_model_name": "LayoutModel",
       "_view_count": null,
       "_view_module": "@jupyter-widgets/base",
       "_view_module_version": "2.0.0",
       "_view_name": "LayoutView",
       "align_content": null,
       "align_items": null,
       "align_self": null,
       "border_bottom": null,
       "border_left": null,
       "border_right": null,
       "border_top": null,
       "bottom": null,
       "display": null,
       "flex": null,
       "flex_flow": null,
       "grid_area": null,
       "grid_auto_columns": null,
       "grid_auto_flow": null,
       "grid_auto_rows": null,
       "grid_column": null,
       "grid_gap": null,
       "grid_row": null,
       "grid_template_areas": null,
       "grid_template_columns": null,
       "grid_template_rows": null,
       "height": null,
       "justify_content": null,
       "justify_items": null,
       "left": null,
       "margin": null,
       "max_height": null,
       "max_width": null,
       "min_height": null,
       "min_width": null,
       "object_fit": null,
       "object_position": null,
       "order": null,
       "overflow": null,
       "padding": null,
       "right": null,
       "top": null,
       "visibility": null,
       "width": null
      }
     },
     "35bf87658f0c478ba7aff60b8afb7efb": {
      "model_module": "@jupyter-widgets/controls",
      "model_module_version": "2.0.0",
      "model_name": "HTMLModel",
      "state": {
       "_dom_classes": [],
       "_model_module": "@jupyter-widgets/controls",
       "_model_module_version": "2.0.0",
       "_model_name": "HTMLModel",
       "_view_count": null,
       "_view_module": "@jupyter-widgets/controls",
       "_view_module_version": "2.0.0",
       "_view_name": "HTMLView",
       "description": "",
       "description_allow_html": false,
       "layout": "IPY_MODEL_2c6f784e796d4203a992570b93068cfa",
       "placeholder": "​",
       "style": "IPY_MODEL_901c9d809612425ba95f7555c7a85411",
       "tabbable": null,
       "tooltip": null,
       "value": "100%"
      }
     },
     "4b0278e9f7d7464a812b504bcdb3f9d1": {
      "model_module": "@jupyter-widgets/base",
      "model_module_version": "2.0.0",
      "model_name": "LayoutModel",
      "state": {
       "_model_module": "@jupyter-widgets/base",
       "_model_module_version": "2.0.0",
       "_model_name": "LayoutModel",
       "_view_count": null,
       "_view_module": "@jupyter-widgets/base",
       "_view_module_version": "2.0.0",
       "_view_name": "LayoutView",
       "align_content": null,
       "align_items": null,
       "align_self": null,
       "border_bottom": null,
       "border_left": null,
       "border_right": null,
       "border_top": null,
       "bottom": null,
       "display": null,
       "flex": null,
       "flex_flow": null,
       "grid_area": null,
       "grid_auto_columns": null,
       "grid_auto_flow": null,
       "grid_auto_rows": null,
       "grid_column": null,
       "grid_gap": null,
       "grid_row": null,
       "grid_template_areas": null,
       "grid_template_columns": null,
       "grid_template_rows": null,
       "height": null,
       "justify_content": null,
       "justify_items": null,
       "left": null,
       "margin": null,
       "max_height": null,
       "max_width": null,
       "min_height": null,
       "min_width": null,
       "object_fit": null,
       "object_position": null,
       "order": null,
       "overflow": null,
       "padding": null,
       "right": null,
       "top": null,
       "visibility": null,
       "width": null
      }
     },
     "5d60daa7fc614ee0abfac4d6a7662a8a": {
      "model_module": "@jupyter-widgets/controls",
      "model_module_version": "2.0.0",
      "model_name": "HTMLStyleModel",
      "state": {
       "_model_module": "@jupyter-widgets/controls",
       "_model_module_version": "2.0.0",
       "_model_name": "HTMLStyleModel",
       "_view_count": null,
       "_view_module": "@jupyter-widgets/base",
       "_view_module_version": "2.0.0",
       "_view_name": "StyleView",
       "background": null,
       "description_width": "",
       "font_size": null,
       "text_color": null
      }
     },
     "6102790b271c43398a32ab173364c6ec": {
      "model_module": "@jupyter-widgets/base",
      "model_module_version": "2.0.0",
      "model_name": "LayoutModel",
      "state": {
       "_model_module": "@jupyter-widgets/base",
       "_model_module_version": "2.0.0",
       "_model_name": "LayoutModel",
       "_view_count": null,
       "_view_module": "@jupyter-widgets/base",
       "_view_module_version": "2.0.0",
       "_view_name": "LayoutView",
       "align_content": null,
       "align_items": null,
       "align_self": null,
       "border_bottom": null,
       "border_left": null,
       "border_right": null,
       "border_top": null,
       "bottom": null,
       "display": null,
       "flex": null,
       "flex_flow": null,
       "grid_area": null,
       "grid_auto_columns": null,
       "grid_auto_flow": null,
       "grid_auto_rows": null,
       "grid_column": null,
       "grid_gap": null,
       "grid_row": null,
       "grid_template_areas": null,
       "grid_template_columns": null,
       "grid_template_rows": null,
       "height": null,
       "justify_content": null,
       "justify_items": null,
       "left": null,
       "margin": null,
       "max_height": null,
       "max_width": null,
       "min_height": null,
       "min_width": null,
       "object_fit": null,
       "object_position": null,
       "order": null,
       "overflow": null,
       "padding": null,
       "right": null,
       "top": null,
       "visibility": null,
       "width": null
      }
     },
     "901c9d809612425ba95f7555c7a85411": {
      "model_module": "@jupyter-widgets/controls",
      "model_module_version": "2.0.0",
      "model_name": "HTMLStyleModel",
      "state": {
       "_model_module": "@jupyter-widgets/controls",
       "_model_module_version": "2.0.0",
       "_model_name": "HTMLStyleModel",
       "_view_count": null,
       "_view_module": "@jupyter-widgets/base",
       "_view_module_version": "2.0.0",
       "_view_name": "StyleView",
       "background": null,
       "description_width": "",
       "font_size": null,
       "text_color": null
      }
     },
     "d68268bcd35f441eb668597657a12ce3": {
      "model_module": "@jupyter-widgets/base",
      "model_module_version": "2.0.0",
      "model_name": "LayoutModel",
      "state": {
       "_model_module": "@jupyter-widgets/base",
       "_model_module_version": "2.0.0",
       "_model_name": "LayoutModel",
       "_view_count": null,
       "_view_module": "@jupyter-widgets/base",
       "_view_module_version": "2.0.0",
       "_view_name": "LayoutView",
       "align_content": null,
       "align_items": null,
       "align_self": null,
       "border_bottom": null,
       "border_left": null,
       "border_right": null,
       "border_top": null,
       "bottom": null,
       "display": null,
       "flex": null,
       "flex_flow": null,
       "grid_area": null,
       "grid_auto_columns": null,
       "grid_auto_flow": null,
       "grid_auto_rows": null,
       "grid_column": null,
       "grid_gap": null,
       "grid_row": null,
       "grid_template_areas": null,
       "grid_template_columns": null,
       "grid_template_rows": null,
       "height": null,
       "justify_content": null,
       "justify_items": null,
       "left": null,
       "margin": null,
       "max_height": null,
       "max_width": null,
       "min_height": null,
       "min_width": null,
       "object_fit": null,
       "object_position": null,
       "order": null,
       "overflow": null,
       "padding": null,
       "right": null,
       "top": null,
       "visibility": null,
       "width": null
      }
     },
     "f6941f3f52134db79bc2f2a1038ac69b": {
      "model_module": "@jupyter-widgets/controls",
      "model_module_version": "2.0.0",
      "model_name": "HTMLModel",
      "state": {
       "_dom_classes": [],
       "_model_module": "@jupyter-widgets/controls",
       "_model_module_version": "2.0.0",
       "_model_name": "HTMLModel",
       "_view_count": null,
       "_view_module": "@jupyter-widgets/controls",
       "_view_module_version": "2.0.0",
       "_view_name": "HTMLView",
       "description": "",
       "description_allow_html": false,
       "layout": "IPY_MODEL_4b0278e9f7d7464a812b504bcdb3f9d1",
       "placeholder": "​",
       "style": "IPY_MODEL_5d60daa7fc614ee0abfac4d6a7662a8a",
       "tabbable": null,
       "tooltip": null,
       "value": " 8/8 [00:39&lt;00:00,  3.67s/it]"
      }
     },
     "feac06ff02e84301aed048ecc3bb6623": {
      "model_module": "@jupyter-widgets/controls",
      "model_module_version": "2.0.0",
      "model_name": "HBoxModel",
      "state": {
       "_dom_classes": [],
       "_model_module": "@jupyter-widgets/controls",
       "_model_module_version": "2.0.0",
       "_model_name": "HBoxModel",
       "_view_count": null,
       "_view_module": "@jupyter-widgets/controls",
       "_view_module_version": "2.0.0",
       "_view_name": "HBoxView",
       "box_style": "",
       "children": [
        "IPY_MODEL_35bf87658f0c478ba7aff60b8afb7efb",
        "IPY_MODEL_1c49730c72b54341b989bb020f440584",
        "IPY_MODEL_f6941f3f52134db79bc2f2a1038ac69b"
       ],
       "layout": "IPY_MODEL_d68268bcd35f441eb668597657a12ce3",
       "tabbable": null,
       "tooltip": null
      }
     }
    },
    "version_major": 2,
    "version_minor": 0
   }
  }
 },
 "nbformat": 4,
 "nbformat_minor": 5
}