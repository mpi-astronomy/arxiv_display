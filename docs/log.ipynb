{
 "cells": [
  {
   "cell_type": "markdown",
   "id": "92bcb855",
   "metadata": {
    "papermill": {
     "duration": 0.004014,
     "end_time": "2024-06-24T04:09:06.900044",
     "exception": false,
     "start_time": "2024-06-24T04:09:06.896030",
     "status": "completed"
    },
    "tags": []
   },
   "source": [
    "# MPIA Arxiv on Deck 2\n",
    "\n",
    "Contains the steps to produce the paper extractions."
   ]
  },
  {
   "cell_type": "code",
   "execution_count": 1,
   "id": "3a0d6e11",
   "metadata": {
    "execution": {
     "iopub.execute_input": "2024-06-24T04:09:06.907483Z",
     "iopub.status.busy": "2024-06-24T04:09:06.907032Z",
     "iopub.status.idle": "2024-06-24T04:09:07.288277Z",
     "shell.execute_reply": "2024-06-24T04:09:07.287646Z"
    },
    "papermill": {
     "duration": 0.386705,
     "end_time": "2024-06-24T04:09:07.289881",
     "exception": false,
     "start_time": "2024-06-24T04:09:06.903176",
     "status": "completed"
    },
    "tags": []
   },
   "outputs": [],
   "source": [
    "# Imports\n",
    "import os\n",
    "from IPython.display import Markdown, display\n",
    "from tqdm.notebook import tqdm\n",
    "import warnings\n",
    "from PIL import Image \n",
    "\n",
    "# requires arxiv_on_deck_2\n",
    "\n",
    "from arxiv_on_deck_2.arxiv2 import (get_new_papers, \n",
    "                                    get_paper_from_identifier,\n",
    "                                    retrieve_document_source, \n",
    "                                    get_markdown_badge)\n",
    "from arxiv_on_deck_2 import (latex,\n",
    "                             latex_bib,\n",
    "                             mpia,\n",
    "                             highlight_authors_in_list)\n",
    "\n",
    "# Sometimes images are really big\n",
    "Image.MAX_IMAGE_PIXELS = 1000000000 "
   ]
  },
  {
   "cell_type": "code",
   "execution_count": 2,
   "id": "22aa9d44",
   "metadata": {
    "execution": {
     "iopub.execute_input": "2024-06-24T04:09:07.297310Z",
     "iopub.status.busy": "2024-06-24T04:09:07.296784Z",
     "iopub.status.idle": "2024-06-24T04:09:07.301979Z",
     "shell.execute_reply": "2024-06-24T04:09:07.301429Z"
    },
    "papermill": {
     "duration": 0.010291,
     "end_time": "2024-06-24T04:09:07.303315",
     "exception": false,
     "start_time": "2024-06-24T04:09:07.293024",
     "status": "completed"
    },
    "tags": []
   },
   "outputs": [],
   "source": [
    "# Some useful definitions.\n",
    "\n",
    "class AffiliationWarning(UserWarning):\n",
    "    pass\n",
    "\n",
    "class AffiliationError(RuntimeError):\n",
    "    pass\n",
    "\n",
    "def validation(source: str):\n",
    "    \"\"\"Raises error paper during parsing of source file\n",
    "    \n",
    "    Allows checks before parsing TeX code.\n",
    "    \n",
    "    Raises AffiliationWarning\n",
    "    \"\"\"\n",
    "    check = mpia.affiliation_verifications(source, verbose=True)\n",
    "    if check is not True:\n",
    "        raise AffiliationError(\"mpia.affiliation_verifications: \" + check)\n",
    "\n",
    "        \n",
    "warnings.simplefilter('always', AffiliationWarning)\n",
    "\n",
    "\n",
    "def get_markdown_qrcode(paper_id: str):\n",
    "    \"\"\" Generate a qrcode to the arxiv page using qrserver.com\n",
    "    \n",
    "    :param paper: Arxiv paper\n",
    "    :returns: markdown text\n",
    "    \"\"\"\n",
    "    url = r\"https://api.qrserver.com/v1/create-qr-code/?size=100x100&data=\"\n",
    "    txt = f\"\"\"<img src={url}\"https://arxiv.org/abs/{paper_id}\">\"\"\"\n",
    "    txt = '<div id=\"qrcode\">' + txt + '</div>'\n",
    "    return txt"
   ]
  },
  {
   "cell_type": "markdown",
   "id": "14bd6310",
   "metadata": {
    "papermill": {
     "duration": 0.002798,
     "end_time": "2024-06-24T04:09:07.309071",
     "exception": false,
     "start_time": "2024-06-24T04:09:07.306273",
     "status": "completed"
    },
    "tags": []
   },
   "source": [
    "## get list of arxiv paper candidates\n",
    "\n",
    "We use the MPIA mitarbeiter list webpage from mpia.de to get author names\n",
    "We then get all new papers from Arxiv and match authors"
   ]
  },
  {
   "cell_type": "code",
   "execution_count": 3,
   "id": "7ea813a8",
   "metadata": {
    "execution": {
     "iopub.execute_input": "2024-06-24T04:09:07.315870Z",
     "iopub.status.busy": "2024-06-24T04:09:07.315495Z",
     "iopub.status.idle": "2024-06-24T04:09:24.004587Z",
     "shell.execute_reply": "2024-06-24T04:09:24.003953Z"
    },
    "papermill": {
     "duration": 16.694255,
     "end_time": "2024-06-24T04:09:24.006207",
     "exception": false,
     "start_time": "2024-06-24T04:09:07.311952",
     "status": "completed"
    },
    "tags": []
   },
   "outputs": [],
   "source": [
    "# deal with the author list and edge cases of people that cannot be consistent on their name  \n",
    "\n",
    "def filter_non_scientists(name: str) -> bool:\n",
    "    \"\"\" Loose filter on expected authorships\n",
    "\n",
    "    removing IT, administration, technical staff\n",
    "    :param name: name\n",
    "    :returns: False if name is not a scientist\n",
    "    \"\"\"\n",
    "    remove_list = ['Wolf', 'Licht', 'Binroth', 'Witzel', 'Jordan',\n",
    "                   'Zähringer', 'Scheerer', 'Hoffmann', 'Düe',\n",
    "                   'Hellmich', 'Enkler-Scharpegge', 'Witte-Nguy',\n",
    "                   'Dehen', 'Beckmann', 'Jager', 'Jäger'\n",
    "                  ]\n",
    "\n",
    "    for k in remove_list:\n",
    "        if k in name:\n",
    "            return False\n",
    "    return True\n",
    "\n",
    "def add_author_to_list(author_list: list) -> list:\n",
    "    \"\"\" Add author to list if not already in list\n",
    "    \n",
    "    :param author: author name\n",
    "    :param author_list: list of authors\n",
    "    :returns: updated list of authors\n",
    "    \"\"\"\n",
    "    add_list = ['T. Henning']\n",
    "\n",
    "    for author in add_list:\n",
    "        if author not in author_list:\n",
    "            author_list.append(author)\n",
    "    return author_list\n",
    "\n",
    "# get list from MPIA website\n",
    "# filter for non-scientists (mpia.get_mpia_mitarbeiter_list() does some filtering)\n",
    "mpia_authors = [k[1] for k in mpia.get_mpia_mitarbeiter_list() if filter_non_scientists(k[1])]\n",
    "# add some missing author because of inconsistencies in their MPIA name and author name on papers\n",
    "mpia_authors = add_author_to_list(mpia_authors)"
   ]
  },
  {
   "cell_type": "code",
   "execution_count": 4,
   "id": "2645e73a",
   "metadata": {
    "execution": {
     "iopub.execute_input": "2024-06-24T04:09:24.013816Z",
     "iopub.status.busy": "2024-06-24T04:09:24.013366Z",
     "iopub.status.idle": "2024-06-24T04:09:24.589368Z",
     "shell.execute_reply": "2024-06-24T04:09:24.588631Z"
    },
    "papermill": {
     "duration": 0.581235,
     "end_time": "2024-06-24T04:09:24.590778",
     "exception": false,
     "start_time": "2024-06-24T04:09:24.009543",
     "status": "completed"
    },
    "tags": []
   },
   "outputs": [
    {
     "name": "stdout",
     "output_type": "stream",
     "text": [
      "J. Liu  ->  J. Liu  |  ['J. Liu']\n",
      "H. Beuther  ->  H. Beuther  |  ['H. Beuther']\n",
      "S. Li  ->  S. Li  |  ['S. Li']\n",
      "Arxiv has 55 new papers today\n",
      "          2 with possible author matches\n"
     ]
    }
   ],
   "source": [
    "new_papers = get_new_papers()\n",
    "# add manual references\n",
    "add_paper_refs = []\n",
    "new_papers.extend([get_paper_from_identifier(k) for k in add_paper_refs])\n",
    "\n",
    "candidates = []\n",
    "for paperk in new_papers:\n",
    "    # Check author list with their initials\n",
    "    normed_author_list = [mpia.get_initials(k) for k in paperk['authors']]\n",
    "    hl_authors = highlight_authors_in_list(normed_author_list, mpia_authors, verbose=True)\n",
    "    matches = [(hl, orig) for hl, orig in zip(hl_authors, paperk['authors']) if 'mark' in hl]\n",
    "    paperk['authors'] = hl_authors\n",
    "    if matches:\n",
    "        # only select paper if an author matched our list\n",
    "        candidates.append(paperk)\n",
    "print(\"\"\"Arxiv has {0:,d} new papers today\"\"\".format(len(new_papers)))        \n",
    "print(\"\"\"          {0:,d} with possible author matches\"\"\".format(len(candidates)))"
   ]
  },
  {
   "cell_type": "markdown",
   "id": "3543b34a",
   "metadata": {
    "papermill": {
     "duration": 0.003842,
     "end_time": "2024-06-24T04:09:24.598034",
     "exception": false,
     "start_time": "2024-06-24T04:09:24.594192",
     "status": "completed"
    },
    "tags": []
   },
   "source": [
    "# Parse sources and generate relevant outputs\n",
    "\n",
    "From the candidates, we do the following steps:\n",
    "* get their tarball from ArXiv (and extract data)\n",
    "* find the main .tex file: find one with \\documentclass{...} (sometimes it's non trivial)\n",
    "* Check affiliations with :func:`validation`, which uses :func:`mpia.affiliation_verifications`\n",
    "* If passing the affiliations: we parse the .tex source\n",
    "   * inject sub-documents into the main (flatten the main document)\n",
    "   * parse structure, extract information (title, abstract, authors, figures...)\n",
    "   * handles `\\graphicspath` if provided\n",
    "* Generate the .md document."
   ]
  },
  {
   "cell_type": "code",
   "execution_count": 5,
   "id": "9576b79e",
   "metadata": {
    "execution": {
     "iopub.execute_input": "2024-06-24T04:09:24.605336Z",
     "iopub.status.busy": "2024-06-24T04:09:24.604913Z",
     "iopub.status.idle": "2024-06-24T04:10:26.915430Z",
     "shell.execute_reply": "2024-06-24T04:10:26.914660Z"
    },
    "papermill": {
     "duration": 62.316361,
     "end_time": "2024-06-24T04:10:26.917433",
     "exception": false,
     "start_time": "2024-06-24T04:09:24.601072",
     "status": "completed"
    },
    "scrolled": false,
    "tags": []
   },
   "outputs": [
    {
     "data": {
      "application/vnd.jupyter.widget-view+json": {
       "model_id": "62ca20f18a33468bb7b19df1e86072ea",
       "version_major": 2,
       "version_minor": 0
      },
      "text/plain": [
       "  0%|          | 0/2 [00:00<?, ?it/s]"
      ]
     },
     "metadata": {},
     "output_type": "display_data"
    },
    {
     "name": "stdout",
     "output_type": "stream",
     "text": [
      "Retrieving document from  https://arxiv.org/e-print/2406.14663\n"
     ]
    },
    {
     "name": "stdout",
     "output_type": "stream",
     "text": [
      "extracting tarball to tmp_2406.14663..."
     ]
    },
    {
     "name": "stdout",
     "output_type": "stream",
     "text": [
      " done.\n"
     ]
    },
    {
     "name": "stdout",
     "output_type": "stream",
     "text": [
      "J. Liu  ->  J. Liu  |  ['J. Liu']\n",
      "H. Beuther  ->  H. Beuther  |  ['H. Beuther']\n",
      "S. Li  ->  S. Li  |  ['S. Li']\n"
     ]
    },
    {
     "name": "stdout",
     "output_type": "stream",
     "text": [
      "Found 93 bibliographic references in tmp_2406.14663/ms.bbl.\n",
      "Error retrieving bib data for Brogan2018: 'author'\n",
      "Retrieving document from  https://arxiv.org/e-print/2406.14767\n"
     ]
    },
    {
     "name": "stdout",
     "output_type": "stream",
     "text": [
      "extracting tarball to tmp_2406.14767... done.\n"
     ]
    }
   ],
   "source": [
    "documents = []\n",
    "failed = []\n",
    "for paper in tqdm(candidates):\n",
    "    # debug crap\n",
    "    paper['identifier'] = paper['identifier'].lower().replace('arxiv:', '').replace(r'\\n', '').strip()\n",
    "    paper_id = paper['identifier']\n",
    "    \n",
    "    folder = f'tmp_{paper_id}'\n",
    "\n",
    "    try:\n",
    "        if not os.path.isdir(folder):\n",
    "            folder = retrieve_document_source(f\"{paper_id}\", f'tmp_{paper_id}')\n",
    "        \n",
    "        try:\n",
    "            doc = latex.LatexDocument(folder, validation=validation)    \n",
    "        except AffiliationError as affilerror:\n",
    "            msg = f\"ArXiv:{paper_id:s} is not an MPIA paper... \" + str(affilerror)\n",
    "            failed.append((paper, \"affiliation error: \" + str(affilerror) ))\n",
    "            continue\n",
    "        \n",
    "        # Hack because sometimes author parsing does not work well\n",
    "        if (len(doc.authors) != len(paper['authors'])):\n",
    "            doc._authors = paper['authors']\n",
    "        else:\n",
    "            # highlight authors (FIXME: doc.highlight_authors)\n",
    "            # done on arxiv paper already\n",
    "            doc._authors = highlight_authors_in_list(\n",
    "                [mpia.get_initials(k) for k in doc.authors], \n",
    "                mpia_authors, verbose=True)\n",
    "        if (doc.abstract) in (None, ''):\n",
    "            doc._abstract = paper['abstract']\n",
    "            \n",
    "        doc.comment = (get_markdown_badge(paper_id) + \n",
    "                       \"<mark>Appeared on: \" + paper['date'] + \"</mark> - \")\n",
    "        if paper['comments']:\n",
    "            doc.comment += \" _\" + paper['comments'] + \"_\"\n",
    "        \n",
    "        full_md = doc.generate_markdown_text()\n",
    "        \n",
    "        full_md += get_markdown_qrcode(paper_id)\n",
    "        \n",
    "        # replace citations\n",
    "        try:\n",
    "            bibdata = latex_bib.LatexBib.from_doc(doc)\n",
    "            full_md = latex_bib.replace_citations(full_md, bibdata)\n",
    "        except Exception as e:\n",
    "            print(e)\n",
    "        \n",
    "        documents.append((paper_id, full_md))\n",
    "    except Exception as e:\n",
    "        warnings.warn(latex.LatexWarning(f\"{paper_id:s} did not run properly\\n\" +\n",
    "                                         str(e)\n",
    "                                        ))\n",
    "        failed.append((paper, \"latex error \" + str(e)))"
   ]
  },
  {
   "cell_type": "markdown",
   "id": "2505a25c",
   "metadata": {
    "papermill": {
     "duration": 0.003395,
     "end_time": "2024-06-24T04:10:26.924724",
     "exception": false,
     "start_time": "2024-06-24T04:10:26.921329",
     "status": "completed"
    },
    "tags": []
   },
   "source": [
    "### Export the logs\n",
    "\n",
    "Throughout, we also keep track of the logs per paper. see `logs-{today date}.md` "
   ]
  },
  {
   "cell_type": "code",
   "execution_count": 6,
   "id": "d733828a",
   "metadata": {
    "execution": {
     "iopub.execute_input": "2024-06-24T04:10:26.932847Z",
     "iopub.status.busy": "2024-06-24T04:10:26.932412Z",
     "iopub.status.idle": "2024-06-24T04:10:26.944687Z",
     "shell.execute_reply": "2024-06-24T04:10:26.944149Z"
    },
    "papermill": {
     "duration": 0.017847,
     "end_time": "2024-06-24T04:10:26.946017",
     "exception": false,
     "start_time": "2024-06-24T04:10:26.928170",
     "status": "completed"
    },
    "scrolled": false,
    "tags": []
   },
   "outputs": [
    {
     "data": {
      "text/markdown": [
       "## Successful papers"
      ],
      "text/plain": [
       "<IPython.core.display.Markdown object>"
      ]
     },
     "metadata": {},
     "output_type": "display_data"
    },
    {
     "data": {
      "text/markdown": [
       "\n",
       "|||\n",
       "|---:|:---|\n",
       "| [![arXiv](https://img.shields.io/badge/arXiv-2406.14663-b31b1b.svg)](https://arxiv.org/abs/2406.14663) | **MagMar III -- Resisting the Pressure, Is the Magnetic Field Overwhelmed in NGC6334I?**  |\n",
       "|| P. C. Cortes, et al. -- incl., <mark>J. Liu</mark>, <mark>H. Beuther</mark>, <mark>S. Li</mark> |\n",
       "|*Appeared on*| *2024-06-24*|\n",
       "|*Comments*| *Accepted for Publication at the Astrophysical Journal*|\n",
       "|**Abstract**|            We report on ALMA observations of polarized dust emission at 1.2 mm from NGC6334I, a source known for its significant flux outbursts. Between five months, our data show no substantial change in total intensity and a modest 8\\% variation in linear polarization, suggesting a phase of stability or the conclusion of the outburst. The magnetic field, inferred from this polarized emission, displays a predominantly radial pattern from North-West to South-East with intricate disturbances across major cores, hinting at spiral structures. Energy analysis of CS$(J=5 \\rightarrow 4)$ emission yields an outflow energy of approximately $3.5\\times10^{45}$ ergs, aligning with previous interferometric studies. Utilizing the Davis-Chandrasekhar-Fermi method, we determined magnetic field strengths ranging from 1 to 11 mG, averaging at 1.9 mG. This average increases to 4 $\\pm 1$ mG when incorporating Zeeman measurements. Comparative analyses using gravitational, thermal, and kinetic energy maps reveal that magnetic energy is significantly weaker, possibly explaining the observed field morphology. We also find that the energy in the outflows and the expanding cometary {\\HII} region is also larger than the magnetic energy, suggesting that protostellar feedback maybe the dominant driver behind the injection of turbulence in NGC6334I at the scales sampled by our data. The gas in NGC6334I predominantly exhibits supersonic and trans-Alfvenic conditions, transitioning towards a super-Alfvenic regime, underscoring a diminished influence of the magnetic field with increasing gas density. These observations are in agreement with prior polarization studies at 220 GHz, enriching our understanding of the dynamic processes in high-mass star-forming regions.         |"
      ],
      "text/plain": [
       "[2406.14663] MagMar III -- Resisting the Pressure, Is the Magnetic Field Overwhelmed in NGC6334I?\n",
       "\tP. C. Cortes, et al. -- incl., <mark>J. Liu</mark>, <mark>H. Beuther</mark>, <mark>S. Li</mark>"
      ]
     },
     "metadata": {},
     "output_type": "display_data"
    },
    {
     "data": {
      "text/markdown": [
       "## Failed papers"
      ],
      "text/plain": [
       "<IPython.core.display.Markdown object>"
      ]
     },
     "metadata": {},
     "output_type": "display_data"
    },
    {
     "data": {
      "text/markdown": [
       "\n",
       "|||\n",
       "|---:|:---|\n",
       "| [![arXiv](https://img.shields.io/badge/arXiv-2406.14767-b31b1b.svg)](https://arxiv.org/abs/2406.14767) | **Synergies between Roman Galactic Plane Survey and other major surveys**  |\n",
       "|| K. Kruszyńska, et al. |\n",
       "|*Appeared on*| *2024-06-24*|\n",
       "|*Comments*| *8 pages, 1 figure, submitted to the 2024 Call for Community Input into the Definition of a Roman Galactic Plane Survey*|\n",
       "|**Abstract**|            Nancy Grace Roman Space Telescope will revolutionize our understanding of the Galactic Bulge with its Galactic Bulge Time Domain survey. At the same time, Rubin Observatories's Legacy Survey of Space and Time (LSST) will monitor billions of stars in the Milky Way. The proposed Roman survey of the Galactic Plane, with its NIR passbands and exquisite spacial resolution, promises groundbreaking insights for a wide range of time-domain galactic astrophysics. In this white paper, we describe the scientific returns possible from the combination of the Roman Galactic Plane Survey with the data from LSST.         |\n",
       "|<p style=\"color:green\"> **ERROR** </p>| <p style=\"color:green\">affiliation error: mpia.affiliation_verifications: 'Planck' keyword not found.</p> |"
      ],
      "text/plain": [
       "<IPython.core.display.Markdown object>"
      ]
     },
     "metadata": {},
     "output_type": "display_data"
    }
   ],
   "source": [
    "import datetime\n",
    "today = str(datetime.date.today())\n",
    "logfile = f\"_build/html/logs/log-{today}.md\"\n",
    "\n",
    "\n",
    "with open(logfile, 'w') as logs:\n",
    "    # Success\n",
    "    logs.write(f'# Arxiv on Deck 2: Logs - {today}\\n\\n')\n",
    "    logs.write(\"\"\"* Arxiv had {0:,d} new papers\\n\"\"\".format(len(new_papers)))\n",
    "    logs.write(\"\"\"    * {0:,d} with possible author matches\\n\\n\"\"\".format(len(candidates)))\n",
    "    logs.write(\"## Sucessful papers\\n\\n\")\n",
    "    display(Markdown(\"## Successful papers\"))\n",
    "    success = [k[0] for k in documents]\n",
    "    for candid in candidates:\n",
    "        if candid['identifier'].split(':')[-1] in success:\n",
    "            display(candid)\n",
    "            logs.write(candid.generate_markdown_text() + '\\n\\n')\n",
    "\n",
    "    ## failed\n",
    "    logs.write(\"## Failed papers\\n\\n\")\n",
    "    display(Markdown(\"## Failed papers\"))\n",
    "    failed = sorted(failed, key=lambda x: x[1])\n",
    "    current_reason = \"\"\n",
    "    for paper, reason in failed:\n",
    "        if 'affiliation' in reason:\n",
    "            color = 'green'\n",
    "        else:\n",
    "            color = 'red'\n",
    "        data = Markdown(\n",
    "                paper.generate_markdown_text() + \n",
    "                f'\\n|<p style=\"color:{color:s}\"> **ERROR** </p>| <p style=\"color:{color:s}\">{reason:s}</p> |'\n",
    "               )\n",
    "        if reason != current_reason:\n",
    "            logs.write(f'### {reason:s} \\n\\n')\n",
    "            current_reason = reason\n",
    "        logs.write(data.data + '\\n\\n')\n",
    "        \n",
    "        # only display here the important errors (all in logs)\n",
    "        # if color in ('red',):\n",
    "        display(data)"
   ]
  },
  {
   "cell_type": "markdown",
   "id": "472d20ee",
   "metadata": {
    "papermill": {
     "duration": 0.003892,
     "end_time": "2024-06-24T04:10:26.953818",
     "exception": false,
     "start_time": "2024-06-24T04:10:26.949926",
     "status": "completed"
    },
    "tags": []
   },
   "source": [
    "## Export documents\n",
    "\n",
    "We now write the .md files and export relevant images"
   ]
  },
  {
   "cell_type": "code",
   "execution_count": 7,
   "id": "d426aed9",
   "metadata": {
    "execution": {
     "iopub.execute_input": "2024-06-24T04:10:26.962559Z",
     "iopub.status.busy": "2024-06-24T04:10:26.962212Z",
     "iopub.status.idle": "2024-06-24T04:10:26.968880Z",
     "shell.execute_reply": "2024-06-24T04:10:26.968243Z"
    },
    "papermill": {
     "duration": 0.012488,
     "end_time": "2024-06-24T04:10:26.970180",
     "exception": false,
     "start_time": "2024-06-24T04:10:26.957692",
     "status": "completed"
    },
    "tags": []
   },
   "outputs": [],
   "source": [
    "def export_markdown_summary(md: str, md_fname:str, directory: str):\n",
    "    \"\"\"Export MD document and associated relevant images\"\"\"\n",
    "    import os\n",
    "    import shutil\n",
    "    import re\n",
    "\n",
    "    if (os.path.exists(directory) and not os.path.isdir(directory)):\n",
    "        raise RuntimeError(f\"a non-directory file exists with name {directory:s}\")\n",
    "\n",
    "    if (not os.path.exists(directory)):\n",
    "        print(f\"creating directory {directory:s}\")\n",
    "        os.mkdir(directory)\n",
    "\n",
    "    fig_fnames = (re.compile(r'\\[Fig.*\\]\\((.*)\\)').findall(md) + \n",
    "                  re.compile(r'\\<img src=\"([^>\\s]*)\"[^>]*/>').findall(md))\n",
    "    print(\"found figures\", fig_fnames)\n",
    "    for fname in fig_fnames:\n",
    "        if 'http' in fname:\n",
    "            # No need to copy online figures\n",
    "            continue\n",
    "        if not os.path.exists(fname):\n",
    "            print(\"file not found\", fname)\n",
    "            continue\n",
    "        print(\"copying \", fname, \"to\", directory)\n",
    "        destdir = os.path.join(directory, os.path.dirname(fname))\n",
    "        destfname = os.path.join(destdir, os.path.basename(fname))\n",
    "        try:\n",
    "            os.makedirs(destdir)\n",
    "        except FileExistsError:\n",
    "            pass\n",
    "        shutil.copy(fname, destfname)\n",
    "    with open(os.path.join(directory, md_fname), 'w') as fout:\n",
    "        fout.write(md)\n",
    "    print(\"exported in \", os.path.join(directory, md_fname))\n",
    "    [print(\"    + \" + os.path.join(directory,fk)) for fk in fig_fnames]"
   ]
  },
  {
   "cell_type": "code",
   "execution_count": 8,
   "id": "014d04a4",
   "metadata": {
    "execution": {
     "iopub.execute_input": "2024-06-24T04:10:26.979163Z",
     "iopub.status.busy": "2024-06-24T04:10:26.978618Z",
     "iopub.status.idle": "2024-06-24T04:10:26.988866Z",
     "shell.execute_reply": "2024-06-24T04:10:26.988226Z"
    },
    "papermill": {
     "duration": 0.016182,
     "end_time": "2024-06-24T04:10:26.990204",
     "exception": false,
     "start_time": "2024-06-24T04:10:26.974022",
     "status": "completed"
    },
    "tags": []
   },
   "outputs": [
    {
     "name": "stdout",
     "output_type": "stream",
     "text": [
      "found figures ['tmp_2406.14663/./ngc6334I_C33S_moment_0_annotated.png', 'tmp_2406.14663/./ngc6334I_C33S_Dust_moment_1_labels.png', 'tmp_2406.14663/./ngc6334I_CS_Outflow_Field.png', 'tmp_2406.14663/./ngc6334I_12CO_Outflow_Field.png', 'tmp_2406.14663/./NGC6334I_SI.png']\n",
      "copying  tmp_2406.14663/./ngc6334I_C33S_moment_0_annotated.png to _build/html/\n",
      "copying  tmp_2406.14663/./ngc6334I_C33S_Dust_moment_1_labels.png to _build/html/\n",
      "copying  tmp_2406.14663/./ngc6334I_CS_Outflow_Field.png to _build/html/\n",
      "copying  tmp_2406.14663/./ngc6334I_12CO_Outflow_Field.png to _build/html/\n",
      "copying  tmp_2406.14663/./NGC6334I_SI.png to _build/html/\n",
      "exported in  _build/html/2406.14663.md\n",
      "    + _build/html/tmp_2406.14663/./ngc6334I_C33S_moment_0_annotated.png\n",
      "    + _build/html/tmp_2406.14663/./ngc6334I_C33S_Dust_moment_1_labels.png\n",
      "    + _build/html/tmp_2406.14663/./ngc6334I_CS_Outflow_Field.png\n",
      "    + _build/html/tmp_2406.14663/./ngc6334I_12CO_Outflow_Field.png\n",
      "    + _build/html/tmp_2406.14663/./NGC6334I_SI.png\n"
     ]
    }
   ],
   "source": [
    "for paper_id, md in documents:\n",
    "    export_markdown_summary(md, f\"{paper_id:s}.md\", '_build/html/')"
   ]
  },
  {
   "cell_type": "markdown",
   "id": "f087a0a7",
   "metadata": {
    "papermill": {
     "duration": 0.003876,
     "end_time": "2024-06-24T04:10:26.998028",
     "exception": false,
     "start_time": "2024-06-24T04:10:26.994152",
     "status": "completed"
    },
    "tags": []
   },
   "source": [
    "## Display the papers\n",
    "\n",
    "Not necessary but allows for a quick check."
   ]
  },
  {
   "cell_type": "code",
   "execution_count": 9,
   "id": "fd25f625",
   "metadata": {
    "execution": {
     "iopub.execute_input": "2024-06-24T04:10:27.006858Z",
     "iopub.status.busy": "2024-06-24T04:10:27.006513Z",
     "iopub.status.idle": "2024-06-24T04:10:27.011169Z",
     "shell.execute_reply": "2024-06-24T04:10:27.010577Z"
    },
    "papermill": {
     "duration": 0.01049,
     "end_time": "2024-06-24T04:10:27.012479",
     "exception": false,
     "start_time": "2024-06-24T04:10:27.001989",
     "status": "completed"
    },
    "scrolled": false,
    "tags": []
   },
   "outputs": [
    {
     "data": {
      "text/markdown": [
       "<div class=\"macros\" style=\"visibility:hidden;\">\n",
       "$\\newcommand{\\ensuremath}{}$\n",
       "$\\newcommand{\\xspace}{}$\n",
       "$\\newcommand{\\object}[1]{\\texttt{#1}}$\n",
       "$\\newcommand{\\farcs}{{.}''}$\n",
       "$\\newcommand{\\farcm}{{.}'}$\n",
       "$\\newcommand{\\arcsec}{''}$\n",
       "$\\newcommand{\\arcmin}{'}$\n",
       "$\\newcommand{\\ion}[2]{#1#2}$\n",
       "$\\newcommand{\\textsc}[1]{\\textrm{#1}}$\n",
       "$\\newcommand{\\hl}[1]{\\textrm{#1}}$\n",
       "$\\newcommand{\\footnote}[1]{}$\n",
       "$\\newcommand$\n",
       "$\\newcommand$\n",
       "$\\newcommand{\\hr}{\\mbox{^h}}$\n",
       "$\\newcommand{\\kms}{\\mbox{km s^{-1}}}$\n",
       "$\\newcommand{\\fluxunits}{\\mbox{erg cm^{-2} s^{-1}}}$\n",
       "$\\newcommand{\\uJy}{\\mbox{\\muJy}}$\n",
       "$\\newcommand{\\um}{\\mbox{\\mum}}$\n",
       "$\\newcommand{\\ULL}{\\mbox{<27.0}}$\n",
       "$\\newcommand{\\Msun}{\\mbox{M_{\\odot}}}$\n",
       "$\\newcommand{\\Mdot}{\\mbox{\\dot{m}_{-4}}}$\n",
       "$\\newcommand{\\Lsun}{\\mbox{L_{\\odot}}}$\n",
       "$\\newcommand{\\E}[1]{\\hbox{10^{ #1 }}}$\n",
       "$\\newcommand{\\per}[1]{\\hbox{#1^{-1}}}$\n",
       "$\\newcommand{\\tothe}[1]{\\hbox{^{#1}}}$\n",
       "$\\newcommand{\\about}{\\mbox{\\sim}}$\n",
       "$\\newcommand{\\SIG}{\\mbox{W~m^{-2}~Hz^{-1}~sr^{-1}}}$\n",
       "$\\newcommand{\\nISM}{\\mbox{n_{\\rm ISM}}}$\n",
       "$\\newcommand{\\min}{\\mbox{^m}}$\n",
       "$\\newcommand{\\sec}{\\mbox{^s}}$\n",
       "$\\newcommand{\\deg}{\\mbox{^{\\circ}}}$\n",
       "$\\newcommand{\\HII}{\\hbox{H \\small{II}}}$</div>\n",
       "\n",
       "\n",
       "\n",
       "<div id=\"title\">\n",
       "\n",
       "# MagMar III - Resisting the Pressure, Is the Magnetic Field Overwhelmed in NGC6334I?\n",
       "\n",
       "</div>\n",
       "<div id=\"comments\">\n",
       "\n",
       "[![arXiv](https://img.shields.io/badge/arXiv-2406.14663-b31b1b.svg)](https://arxiv.org/abs/2406.14663)<mark>Appeared on: 2024-06-24</mark> -  _Accepted for Publication at the Astrophysical Journal_\n",
       "\n",
       "</div>\n",
       "<div id=\"authors\">\n",
       "\n",
       "P. C. Cortés, et al. -- incl., <mark>J. Liu</mark>, <mark>H. Beuther</mark>, <mark>S. Li</mark>\n",
       "\n",
       "</div>\n",
       "<div id=\"abstract\">\n",
       "\n",
       "**Abstract:** We report on ALMA observations of polarized dust emission at 1.2 mm from NGC6334I, a source known for its significant flux outbursts. Between five months, our data show no substantial change in total intensity  and a modest 8 \\% variation in linear polarization, suggesting a phase of stability or the conclusion of the outburst. The magnetic field, inferred from this polarized emission, displays a predominantly radial pattern from North-West to South-East with intricate disturbances across major cores, hinting at spiral structures. Energy analysis of CS $(J=5 \\rightarrow 4)$ emission yields an outflow energy of approximately $3.5\\times10^{45}$ ergs, aligning with previous interferometric studies. Utilizing the Davis-Chandrasekhar-Fermi method, we determined magnetic field strengths ranging from 1 to 11 mG, averaging at 1.9 mG. This average increases to 4 $\\pm 1$ mG when incorporating Zeeman measurements. Comparative analyses using gravitational, thermal, and kinetic energy maps reveal that magnetic energy is significantly weaker, possibly explaining the observed field morphology.\tWe also find that the energy in the outflows and the expanding cometary ${\\HII}$ region is also larger than the magnetic energy, suggesing that protostellar feedback maybe the dominant driver behind the injection of turbulence in NGC6334I at the scales sampledby our data.The gas in NGC6334I predominantly exhibits supersonic and trans-Alfvenic conditions, transitioning towards a super-Alfvenic regime, underscoring a diminished influence of the magnetic field with increasing gas density. These observations are in agreement with prior polarization studies at 220 GHz, enriching our understanding of the dynamic processes in high-mass star-forming regions.\n",
       "\n",
       "</div>\n",
       "\n",
       "<div id=\"div_fig1\">\n",
       "\n",
       "<img src=\"tmp_2406.14663/./ngc6334I_C33S_moment_0_annotated.png\" alt=\"Fig6.1\" width=\"50%\"/><img src=\"tmp_2406.14663/./ngc6334I_C33S_Dust_moment_1_labels.png\" alt=\"Fig6.2\" width=\"50%\"/>\n",
       "\n",
       "**Figure 6. -** The figure shows to the ** left** the C$^{33}$S moment 0 map in color scale with superposed contours from dust emission starting at the $3\\sigma$ level (see Figure \\ref{fig:NGC6334I_I}). The white crosses correspond to the MM1 proto-cluster condensations resolved by [Brogan, Hunter and Cyganowski (2016)](). To the ** right**, we show the moment 1 map in color scale, also with dust continuum contours superposed, as $\\Delta V_{i,j} = V_{i,j} - V_{\\mathrm{lsr}}$, where $V_{\\mathrm{lsr}}= -7.56$ is the velocity center of the C$^{33}$S line as determined by a Gaussian fit.\n",
       " (*fig:c33s_moms*)\n",
       "\n",
       "</div>\n",
       "<div id=\"div_fig2\">\n",
       "\n",
       "<img src=\"tmp_2406.14663/./ngc6334I_CS_Outflow_Field.png\" alt=\"Fig5.1\" width=\"50%\"/><img src=\"tmp_2406.14663/./ngc6334I_12CO_Outflow_Field.png\" alt=\"Fig5.2\" width=\"50%\"/>\n",
       "\n",
       "**Figure 5. -** **\\em Top:** CS($J=5 \\rightarrow 4$) emission from NGC6334I's outflows  with the magnetic field overlaid. Blue and red lobes are derived from velocities -40 to -12 $\\kms$ and -4 to 12 $\\kms$, respectively. The outflow cavity is outlined in yellow, with individual flows labeled per Brogan2018 and the primary NE-SW flow indicated by arrows.\n",
       "**\\em Bottom:** CO($J=2 \\rightarrow 1$) emission tracing NGC6334I's outflows with with the magnetic field overlaid. Blue and red lobes span from -45 to -25 $\\kms$ and -4 to 11 $\\kms$, respectively. The CO emission also reveals the cavity, with the magnetic field contouring the outflow's edges.\n",
       " (*fig:outflow*)\n",
       "\n",
       "</div>\n",
       "<div id=\"div_fig3\">\n",
       "\n",
       "<img src=\"tmp_2406.14663/./NGC6334I_SI.png\" alt=\"Fig1\" width=\"100%\"/>\n",
       "\n",
       "**Figure 1. -** This figure displays the 1.2 mm total intensity dust emission from NGC6334I. The grayscale indicates the intensity in Jy beam$^{-1}$, corresponding to the scale bar on the right. Contours represent intensity levels at 3.6, 18, 36, 72, 120, 240, 480, 720, and 960 ,mJy,beam$^{-1}$. Sources within our field of view, previously detected by [Brogan, Hunter and Cyganowski (2016)](), are marked with blue crosses and labeled in red. Notably, the MM1 source has shown signs of fragmentation, potentially forming a proto-cluster. The letters A through G denote the MM1 peak regions as identified by high-resolution ALMA observations. The magenta cross shows the position of the CM2 synchrotron/maser source, the bar at the bottom right corresponds a length scale of 2600 au, and the beam size of our ALMA image using robust=0.5 is shown by the black ellipse to the bottom left.\n",
       " (*fig:NGC6334I_I*)\n",
       "\n",
       "</div><div id=\"qrcode\"><img src=https://api.qrserver.com/v1/create-qr-code/?size=100x100&data=\"https://arxiv.org/abs/2406.14663\"></div>"
      ],
      "text/plain": [
       "<IPython.core.display.Markdown object>"
      ]
     },
     "metadata": {},
     "output_type": "display_data"
    }
   ],
   "source": [
    "[display(Markdown(k[1])) for k in documents];"
   ]
  },
  {
   "cell_type": "markdown",
   "id": "873873a4",
   "metadata": {
    "papermill": {
     "duration": 0.004115,
     "end_time": "2024-06-24T04:10:27.020934",
     "exception": false,
     "start_time": "2024-06-24T04:10:27.016819",
     "status": "completed"
    },
    "tags": []
   },
   "source": [
    "# Create HTML index"
   ]
  },
  {
   "cell_type": "code",
   "execution_count": 10,
   "id": "cf665672",
   "metadata": {
    "execution": {
     "iopub.execute_input": "2024-06-24T04:10:27.030471Z",
     "iopub.status.busy": "2024-06-24T04:10:27.030096Z",
     "iopub.status.idle": "2024-06-24T04:10:27.036820Z",
     "shell.execute_reply": "2024-06-24T04:10:27.036216Z"
    },
    "papermill": {
     "duration": 0.013,
     "end_time": "2024-06-24T04:10:27.038214",
     "exception": false,
     "start_time": "2024-06-24T04:10:27.025214",
     "status": "completed"
    },
    "tags": []
   },
   "outputs": [
    {
     "name": "stdout",
     "output_type": "stream",
     "text": [
      "101  publications files modified in the last 7 days.\n"
     ]
    }
   ],
   "source": [
    "from datetime import datetime, timedelta, timezone\n",
    "from glob import glob\n",
    "import os\n",
    "\n",
    "files = glob('_build/html/*.md')\n",
    "days = 7\n",
    "now = datetime.today()\n",
    "res = []\n",
    "for fk in files:\n",
    "    stat_result = os.stat(fk).st_ctime\n",
    "    modified = datetime.fromtimestamp(stat_result, tz=timezone.utc).replace(tzinfo=None)\n",
    "    delta = now.today() - modified\n",
    "    if delta <= timedelta(days=days):\n",
    "        res.append((delta.seconds, fk))\n",
    "res = [k[1] for k in reversed(sorted(res, key=lambda x:x[1]))]\n",
    "npub = len(res)\n",
    "print(len(res), f\" publications files modified in the last {days:d} days.\")\n",
    "# [ print('\\t', k) for k in res ];"
   ]
  },
  {
   "cell_type": "code",
   "execution_count": 11,
   "id": "015de740",
   "metadata": {
    "execution": {
     "iopub.execute_input": "2024-06-24T04:10:27.048311Z",
     "iopub.status.busy": "2024-06-24T04:10:27.047872Z",
     "iopub.status.idle": "2024-06-24T04:10:27.060052Z",
     "shell.execute_reply": "2024-06-24T04:10:27.059521Z"
    },
    "papermill": {
     "duration": 0.018905,
     "end_time": "2024-06-24T04:10:27.061399",
     "exception": false,
     "start_time": "2024-06-24T04:10:27.042494",
     "status": "completed"
    },
    "tags": []
   },
   "outputs": [
    {
     "name": "stdout",
     "output_type": "stream",
     "text": [
      "5  publications in the last 7 days.\n"
     ]
    }
   ],
   "source": [
    "import datetime\n",
    "from glob import glob\n",
    "\n",
    "def get_last_n_days(lst, days=1):\n",
    "    \"\"\" Get the documents from the last n days \"\"\"\n",
    "    sorted_lst = sorted(lst, key=lambda x: x[1], reverse=True)\n",
    "    for fname, date in sorted_lst:\n",
    "        if date >= str(datetime.date.today() - datetime.timedelta(days=days)):\n",
    "            yield fname\n",
    "\n",
    "def extract_appearance_dates(lst_file):\n",
    "    dates = []\n",
    "\n",
    "    def get_date(line):\n",
    "        return line\\\n",
    "            .split('Appeared on:')[-1]\\\n",
    "            .split('</mark>')[0].strip()\n",
    "\n",
    "    for fname in lst:\n",
    "        with open(fname, 'r') as f:\n",
    "            found_date = False\n",
    "            for line in f:\n",
    "                if not found_date:\n",
    "                    if \"Appeared on\" in line:\n",
    "                        found_date = True\n",
    "                        dates.append((fname, get_date(line)))\n",
    "                else:\n",
    "                    break\n",
    "    return dates\n",
    "\n",
    "from glob import glob\n",
    "lst = glob('_build/html/*md')\n",
    "days = 7\n",
    "dates = extract_appearance_dates(lst)\n",
    "res = list(get_last_n_days(dates, days))\n",
    "npub = len(res)\n",
    "print(len(res), f\" publications in the last {days:d} days.\")"
   ]
  },
  {
   "cell_type": "code",
   "execution_count": 12,
   "id": "52ca0208",
   "metadata": {
    "execution": {
     "iopub.execute_input": "2024-06-24T04:10:27.071085Z",
     "iopub.status.busy": "2024-06-24T04:10:27.070741Z",
     "iopub.status.idle": "2024-06-24T04:10:27.075631Z",
     "shell.execute_reply": "2024-06-24T04:10:27.075063Z"
    },
    "papermill": {
     "duration": 0.011263,
     "end_time": "2024-06-24T04:10:27.076999",
     "exception": false,
     "start_time": "2024-06-24T04:10:27.065736",
     "status": "completed"
    },
    "scrolled": false,
    "tags": []
   },
   "outputs": [],
   "source": [
    "def create_carousel(npub=4):\n",
    "    \"\"\" Generate the HTML code for a carousel with `npub` slides \"\"\"\n",
    "    carousel = [\"\"\"  <div class=\"carousel\" \"\"\",\n",
    "                \"\"\"       data-flickity='{ \"autoPlay\": 10000, \"adaptiveHeight\": true, \"resize\": true, \"wrapAround\": true, \"pauseAutoPlayOnHover\": true, \"groupCells\": 1 }' id=\"asyncTypeset\">\"\"\"\n",
    "                ]\n",
    "    \n",
    "    item_str = \"\"\"    <div class=\"carousel-cell\"> <div id=\"slide{k}\" class=\"md_view\">Content {k}</div> </div>\"\"\"\n",
    "    for k in range(1, npub + 1):\n",
    "        carousel.append(item_str.format(k=k))\n",
    "    carousel.append(\"  </div>\")\n",
    "    return '\\n'.join(carousel)\n",
    "\n",
    "def create_grid(npub=4):\n",
    "    \"\"\" Generate the HTML code for a flat grid with `npub` slides \"\"\"\n",
    "    grid = [\"\"\"  <div class=\"grid\"> \"\"\",\n",
    "                ]\n",
    "    \n",
    "    item_str = \"\"\"    <div class=\"grid-item\"> <div id=\"slide{k}\" class=\"md_view\">Content {k}</div> </div>\"\"\"\n",
    "    for k in range(1, npub + 1):\n",
    "        grid.append(item_str.format(k=k))\n",
    "    grid.append(\"  </div>\")\n",
    "    return '\\n'.join(grid)"
   ]
  },
  {
   "cell_type": "code",
   "execution_count": 13,
   "id": "a6eac5b6",
   "metadata": {
    "execution": {
     "iopub.execute_input": "2024-06-24T04:10:27.086764Z",
     "iopub.status.busy": "2024-06-24T04:10:27.086416Z",
     "iopub.status.idle": "2024-06-24T04:10:27.091326Z",
     "shell.execute_reply": "2024-06-24T04:10:27.090811Z"
    },
    "papermill": {
     "duration": 0.011212,
     "end_time": "2024-06-24T04:10:27.092618",
     "exception": false,
     "start_time": "2024-06-24T04:10:27.081406",
     "status": "completed"
    },
    "scrolled": false,
    "tags": []
   },
   "outputs": [],
   "source": [
    "carousel = create_carousel(npub)\n",
    "docs = ', '.join(['\"{0:s}\"'.format(k.split('/')[-1]) for k in res])\n",
    "slides = ', '.join([f'\"slide{k}\"' for k in range(1, npub + 1)])\n",
    "\n",
    "with open(\"daily_template.html\", \"r\") as tpl:\n",
    "    page = tpl.read()\n",
    "    page = page.replace(\"{%-- carousel:s --%}\", carousel)\\\n",
    "               .replace(\"{%-- suptitle:s --%}\",  \"7-day archives\" )\\\n",
    "               .replace(\"{%-- docs:s --%}\", docs)\\\n",
    "               .replace(\"{%-- slides:s --%}\", slides)\n",
    "    \n",
    "with open(\"_build/html/index_7days.html\", 'w') as fout:\n",
    "    fout.write(page)"
   ]
  },
  {
   "cell_type": "code",
   "execution_count": 14,
   "id": "adc1a1ec",
   "metadata": {
    "execution": {
     "iopub.execute_input": "2024-06-24T04:10:27.102602Z",
     "iopub.status.busy": "2024-06-24T04:10:27.102221Z",
     "iopub.status.idle": "2024-06-24T04:10:27.108337Z",
     "shell.execute_reply": "2024-06-24T04:10:27.107721Z"
    },
    "papermill": {
     "duration": 0.012529,
     "end_time": "2024-06-24T04:10:27.109705",
     "exception": false,
     "start_time": "2024-06-24T04:10:27.097176",
     "status": "completed"
    },
    "tags": []
   },
   "outputs": [
    {
     "name": "stdout",
     "output_type": "stream",
     "text": [
      "1  publications in the last day.\n"
     ]
    }
   ],
   "source": [
    "# redo for today\n",
    "days = 1\n",
    "res = list(get_last_n_days(dates, days))\n",
    "npub = len(res)\n",
    "print(len(res), f\" publications in the last day.\")\n",
    "\n",
    "carousel = create_carousel(npub)\n",
    "docs = ', '.join(['\"{0:s}\"'.format(k.split('/')[-1]) for k in res])\n",
    "slides = ', '.join([f'\"slide{k}\"' for k in range(1, npub + 1)])\n",
    "\n",
    "with open(\"daily_template.html\", \"r\") as tpl:\n",
    "    page = tpl.read()\n",
    "    page = page.replace(\"{%-- carousel:s --%}\", carousel)\\\n",
    "               .replace(\"{%-- suptitle:s --%}\",  \"Daily\" )\\\n",
    "               .replace(\"{%-- docs:s --%}\", docs)\\\n",
    "               .replace(\"{%-- slides:s --%}\", slides)\n",
    "    \n",
    "# print(carousel, docs, slides)\n",
    "# print(page)\n",
    "with open(\"_build/html/index_daily.html\", 'w') as fout:\n",
    "    fout.write(page)"
   ]
  },
  {
   "cell_type": "code",
   "execution_count": 15,
   "id": "00eece82",
   "metadata": {
    "execution": {
     "iopub.execute_input": "2024-06-24T04:10:27.119489Z",
     "iopub.status.busy": "2024-06-24T04:10:27.119271Z",
     "iopub.status.idle": "2024-06-24T04:10:27.125878Z",
     "shell.execute_reply": "2024-06-24T04:10:27.125302Z"
    },
    "papermill": {
     "duration": 0.012928,
     "end_time": "2024-06-24T04:10:27.127150",
     "exception": false,
     "start_time": "2024-06-24T04:10:27.114222",
     "status": "completed"
    },
    "scrolled": false,
    "tags": []
   },
   "outputs": [
    {
     "name": "stdout",
     "output_type": "stream",
     "text": [
      "6  6 publications selected.\n"
     ]
    }
   ],
   "source": [
    "# Create the flat grid of the last N papers (fixed number regardless of dates)\n",
    "from itertools import islice \n",
    "\n",
    "npub = 6\n",
    "res = [k[0] for k in (islice(reversed(sorted(dates, key=lambda x: x[1])), 6))]\n",
    "print(len(res), f\" {npub} publications selected.\")\n",
    "\n",
    "grid = create_grid(npub)\n",
    "docs = ', '.join(['\"{0:s}\"'.format(k.split('/')[-1]) for k in res])\n",
    "slides = ', '.join([f'\"slide{k}\"' for k in range(1, npub + 1)])\n",
    "\n",
    "with open(\"grid_template.html\", \"r\") as tpl:\n",
    "    page = tpl.read()\n",
    "    page = page.replace(\"{%-- grid-content:s --%}\", grid)\\\n",
    "               .replace(\"{%-- suptitle:s --%}\",  f\"Last {npub:,d} papers\" )\\\n",
    "               .replace(\"{%-- docs:s --%}\", docs)\\\n",
    "               .replace(\"{%-- slides:s --%}\", slides)\n",
    "    \n",
    "# print(grid, docs, slides)\n",
    "# print(page)\n",
    "with open(\"_build/html/index_npub_grid.html\", 'w') as fout:\n",
    "    fout.write(page)"
   ]
  }
 ],
 "metadata": {
  "kernelspec": {
   "display_name": "Python 3 (ipykernel)",
   "language": "python",
   "name": "python3"
  },
  "language_info": {
   "codemirror_mode": {
    "name": "ipython",
    "version": 3
   },
   "file_extension": ".py",
   "mimetype": "text/x-python",
   "name": "python",
   "nbconvert_exporter": "python",
   "pygments_lexer": "ipython3",
   "version": "3.9.19"
  },
  "papermill": {
   "default_parameters": {},
   "duration": 81.303748,
   "end_time": "2024-06-24T04:10:27.348326",
   "environment_variables": {},
   "exception": null,
   "input_path": "MPIA daily digest.ipynb",
   "output_path": "log.ipynb",
   "parameters": {},
   "start_time": "2024-06-24T04:09:06.044578",
   "version": "2.6.0"
  },
  "vscode": {
   "interpreter": {
    "hash": "aee8b7b246df8f9039afb4144a1f6fd8d2ca17a180786b69acc140d282b71a49"
   }
  },
  "widgets": {
   "application/vnd.jupyter.widget-state+json": {
    "state": {
     "0edaeba49afe4d99bdbb94d9204f5f52": {
      "model_module": "@jupyter-widgets/controls",
      "model_module_version": "2.0.0",
      "model_name": "ProgressStyleModel",
      "state": {
       "_model_module": "@jupyter-widgets/controls",
       "_model_module_version": "2.0.0",
       "_model_name": "ProgressStyleModel",
       "_view_count": null,
       "_view_module": "@jupyter-widgets/base",
       "_view_module_version": "2.0.0",
       "_view_name": "StyleView",
       "bar_color": null,
       "description_width": ""
      }
     },
     "5683f9a0556b4d47a59788f5a520c9a6": {
      "model_module": "@jupyter-widgets/controls",
      "model_module_version": "2.0.0",
      "model_name": "HTMLStyleModel",
      "state": {
       "_model_module": "@jupyter-widgets/controls",
       "_model_module_version": "2.0.0",
       "_model_name": "HTMLStyleModel",
       "_view_count": null,
       "_view_module": "@jupyter-widgets/base",
       "_view_module_version": "2.0.0",
       "_view_name": "StyleView",
       "background": null,
       "description_width": "",
       "font_size": null,
       "text_color": null
      }
     },
     "61d7c858f4ab4d09a8059c13a3695e46": {
      "model_module": "@jupyter-widgets/base",
      "model_module_version": "2.0.0",
      "model_name": "LayoutModel",
      "state": {
       "_model_module": "@jupyter-widgets/base",
       "_model_module_version": "2.0.0",
       "_model_name": "LayoutModel",
       "_view_count": null,
       "_view_module": "@jupyter-widgets/base",
       "_view_module_version": "2.0.0",
       "_view_name": "LayoutView",
       "align_content": null,
       "align_items": null,
       "align_self": null,
       "border_bottom": null,
       "border_left": null,
       "border_right": null,
       "border_top": null,
       "bottom": null,
       "display": null,
       "flex": null,
       "flex_flow": null,
       "grid_area": null,
       "grid_auto_columns": null,
       "grid_auto_flow": null,
       "grid_auto_rows": null,
       "grid_column": null,
       "grid_gap": null,
       "grid_row": null,
       "grid_template_areas": null,
       "grid_template_columns": null,
       "grid_template_rows": null,
       "height": null,
       "justify_content": null,
       "justify_items": null,
       "left": null,
       "margin": null,
       "max_height": null,
       "max_width": null,
       "min_height": null,
       "min_width": null,
       "object_fit": null,
       "object_position": null,
       "order": null,
       "overflow": null,
       "padding": null,
       "right": null,
       "top": null,
       "visibility": null,
       "width": null
      }
     },
     "62ca20f18a33468bb7b19df1e86072ea": {
      "model_module": "@jupyter-widgets/controls",
      "model_module_version": "2.0.0",
      "model_name": "HBoxModel",
      "state": {
       "_dom_classes": [],
       "_model_module": "@jupyter-widgets/controls",
       "_model_module_version": "2.0.0",
       "_model_name": "HBoxModel",
       "_view_count": null,
       "_view_module": "@jupyter-widgets/controls",
       "_view_module_version": "2.0.0",
       "_view_name": "HBoxView",
       "box_style": "",
       "children": [
        "IPY_MODEL_9868d0c6f2be4dc199935140f73125ac",
        "IPY_MODEL_7327d302e24c4b8393af9efac5227957",
        "IPY_MODEL_fa9641f82fb548949c6c7889d32be4ad"
       ],
       "layout": "IPY_MODEL_f12753e4adb74b939394dea3496e2952",
       "tabbable": null,
       "tooltip": null
      }
     },
     "66aa0d3ee40e440b974f157f84d88106": {
      "model_module": "@jupyter-widgets/controls",
      "model_module_version": "2.0.0",
      "model_name": "HTMLStyleModel",
      "state": {
       "_model_module": "@jupyter-widgets/controls",
       "_model_module_version": "2.0.0",
       "_model_name": "HTMLStyleModel",
       "_view_count": null,
       "_view_module": "@jupyter-widgets/base",
       "_view_module_version": "2.0.0",
       "_view_name": "StyleView",
       "background": null,
       "description_width": "",
       "font_size": null,
       "text_color": null
      }
     },
     "70371e9439b7472589d78b3e0ce27d11": {
      "model_module": "@jupyter-widgets/base",
      "model_module_version": "2.0.0",
      "model_name": "LayoutModel",
      "state": {
       "_model_module": "@jupyter-widgets/base",
       "_model_module_version": "2.0.0",
       "_model_name": "LayoutModel",
       "_view_count": null,
       "_view_module": "@jupyter-widgets/base",
       "_view_module_version": "2.0.0",
       "_view_name": "LayoutView",
       "align_content": null,
       "align_items": null,
       "align_self": null,
       "border_bottom": null,
       "border_left": null,
       "border_right": null,
       "border_top": null,
       "bottom": null,
       "display": null,
       "flex": null,
       "flex_flow": null,
       "grid_area": null,
       "grid_auto_columns": null,
       "grid_auto_flow": null,
       "grid_auto_rows": null,
       "grid_column": null,
       "grid_gap": null,
       "grid_row": null,
       "grid_template_areas": null,
       "grid_template_columns": null,
       "grid_template_rows": null,
       "height": null,
       "justify_content": null,
       "justify_items": null,
       "left": null,
       "margin": null,
       "max_height": null,
       "max_width": null,
       "min_height": null,
       "min_width": null,
       "object_fit": null,
       "object_position": null,
       "order": null,
       "overflow": null,
       "padding": null,
       "right": null,
       "top": null,
       "visibility": null,
       "width": null
      }
     },
     "7327d302e24c4b8393af9efac5227957": {
      "model_module": "@jupyter-widgets/controls",
      "model_module_version": "2.0.0",
      "model_name": "FloatProgressModel",
      "state": {
       "_dom_classes": [],
       "_model_module": "@jupyter-widgets/controls",
       "_model_module_version": "2.0.0",
       "_model_name": "FloatProgressModel",
       "_view_count": null,
       "_view_module": "@jupyter-widgets/controls",
       "_view_module_version": "2.0.0",
       "_view_name": "ProgressView",
       "bar_style": "success",
       "description": "",
       "description_allow_html": false,
       "layout": "IPY_MODEL_f8897ea38d2745f8a01fc6a68f417bf7",
       "max": 2.0,
       "min": 0.0,
       "orientation": "horizontal",
       "style": "IPY_MODEL_0edaeba49afe4d99bdbb94d9204f5f52",
       "tabbable": null,
       "tooltip": null,
       "value": 2.0
      }
     },
     "9868d0c6f2be4dc199935140f73125ac": {
      "model_module": "@jupyter-widgets/controls",
      "model_module_version": "2.0.0",
      "model_name": "HTMLModel",
      "state": {
       "_dom_classes": [],
       "_model_module": "@jupyter-widgets/controls",
       "_model_module_version": "2.0.0",
       "_model_name": "HTMLModel",
       "_view_count": null,
       "_view_module": "@jupyter-widgets/controls",
       "_view_module_version": "2.0.0",
       "_view_name": "HTMLView",
       "description": "",
       "description_allow_html": false,
       "layout": "IPY_MODEL_61d7c858f4ab4d09a8059c13a3695e46",
       "placeholder": "​",
       "style": "IPY_MODEL_66aa0d3ee40e440b974f157f84d88106",
       "tabbable": null,
       "tooltip": null,
       "value": "100%"
      }
     },
     "f12753e4adb74b939394dea3496e2952": {
      "model_module": "@jupyter-widgets/base",
      "model_module_version": "2.0.0",
      "model_name": "LayoutModel",
      "state": {
       "_model_module": "@jupyter-widgets/base",
       "_model_module_version": "2.0.0",
       "_model_name": "LayoutModel",
       "_view_count": null,
       "_view_module": "@jupyter-widgets/base",
       "_view_module_version": "2.0.0",
       "_view_name": "LayoutView",
       "align_content": null,
       "align_items": null,
       "align_self": null,
       "border_bottom": null,
       "border_left": null,
       "border_right": null,
       "border_top": null,
       "bottom": null,
       "display": null,
       "flex": null,
       "flex_flow": null,
       "grid_area": null,
       "grid_auto_columns": null,
       "grid_auto_flow": null,
       "grid_auto_rows": null,
       "grid_column": null,
       "grid_gap": null,
       "grid_row": null,
       "grid_template_areas": null,
       "grid_template_columns": null,
       "grid_template_rows": null,
       "height": null,
       "justify_content": null,
       "justify_items": null,
       "left": null,
       "margin": null,
       "max_height": null,
       "max_width": null,
       "min_height": null,
       "min_width": null,
       "object_fit": null,
       "object_position": null,
       "order": null,
       "overflow": null,
       "padding": null,
       "right": null,
       "top": null,
       "visibility": null,
       "width": null
      }
     },
     "f8897ea38d2745f8a01fc6a68f417bf7": {
      "model_module": "@jupyter-widgets/base",
      "model_module_version": "2.0.0",
      "model_name": "LayoutModel",
      "state": {
       "_model_module": "@jupyter-widgets/base",
       "_model_module_version": "2.0.0",
       "_model_name": "LayoutModel",
       "_view_count": null,
       "_view_module": "@jupyter-widgets/base",
       "_view_module_version": "2.0.0",
       "_view_name": "LayoutView",
       "align_content": null,
       "align_items": null,
       "align_self": null,
       "border_bottom": null,
       "border_left": null,
       "border_right": null,
       "border_top": null,
       "bottom": null,
       "display": null,
       "flex": null,
       "flex_flow": null,
       "grid_area": null,
       "grid_auto_columns": null,
       "grid_auto_flow": null,
       "grid_auto_rows": null,
       "grid_column": null,
       "grid_gap": null,
       "grid_row": null,
       "grid_template_areas": null,
       "grid_template_columns": null,
       "grid_template_rows": null,
       "height": null,
       "justify_content": null,
       "justify_items": null,
       "left": null,
       "margin": null,
       "max_height": null,
       "max_width": null,
       "min_height": null,
       "min_width": null,
       "object_fit": null,
       "object_position": null,
       "order": null,
       "overflow": null,
       "padding": null,
       "right": null,
       "top": null,
       "visibility": null,
       "width": null
      }
     },
     "fa9641f82fb548949c6c7889d32be4ad": {
      "model_module": "@jupyter-widgets/controls",
      "model_module_version": "2.0.0",
      "model_name": "HTMLModel",
      "state": {
       "_dom_classes": [],
       "_model_module": "@jupyter-widgets/controls",
       "_model_module_version": "2.0.0",
       "_model_name": "HTMLModel",
       "_view_count": null,
       "_view_module": "@jupyter-widgets/controls",
       "_view_module_version": "2.0.0",
       "_view_name": "HTMLView",
       "description": "",
       "description_allow_html": false,
       "layout": "IPY_MODEL_70371e9439b7472589d78b3e0ce27d11",
       "placeholder": "​",
       "style": "IPY_MODEL_5683f9a0556b4d47a59788f5a520c9a6",
       "tabbable": null,
       "tooltip": null,
       "value": " 2/2 [01:02&lt;00:00, 25.73s/it]"
      }
     }
    },
    "version_major": 2,
    "version_minor": 0
   }
  }
 },
 "nbformat": 4,
 "nbformat_minor": 5
}