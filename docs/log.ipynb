{
 "cells": [
  {
   "cell_type": "markdown",
   "id": "92bcb855",
   "metadata": {
    "papermill": {
     "duration": 0.006053,
     "end_time": "2023-11-01T04:07:54.778144",
     "exception": false,
     "start_time": "2023-11-01T04:07:54.772091",
     "status": "completed"
    },
    "tags": []
   },
   "source": [
    "# MPIA Arxiv on Deck 2\n",
    "\n",
    "Contains the steps to produce the paper extractions."
   ]
  },
  {
   "cell_type": "code",
   "execution_count": 1,
   "id": "3a0d6e11",
   "metadata": {
    "execution": {
     "iopub.execute_input": "2023-11-01T04:07:54.790846Z",
     "iopub.status.busy": "2023-11-01T04:07:54.790230Z",
     "iopub.status.idle": "2023-11-01T04:07:55.320451Z",
     "shell.execute_reply": "2023-11-01T04:07:55.319384Z"
    },
    "papermill": {
     "duration": 0.538883,
     "end_time": "2023-11-01T04:07:55.323555",
     "exception": false,
     "start_time": "2023-11-01T04:07:54.784672",
     "status": "completed"
    },
    "tags": []
   },
   "outputs": [],
   "source": [
    "# Imports\n",
    "import os\n",
    "from IPython.display import Markdown, display\n",
    "from tqdm.notebook import tqdm\n",
    "import warnings\n",
    "from PIL import Image \n",
    "\n",
    "# requires arxiv_on_deck_2\n",
    "\n",
    "from arxiv_on_deck_2.arxiv2 import (get_new_papers, \n",
    "                                    get_paper_from_identifier,\n",
    "                                    retrieve_document_source, \n",
    "                                    get_markdown_badge)\n",
    "from arxiv_on_deck_2 import (latex,\n",
    "                             latex_bib,\n",
    "                             mpia,\n",
    "                             highlight_authors_in_list)\n",
    "\n",
    "# Sometimes images are really big\n",
    "Image.MAX_IMAGE_PIXELS = 1000000000 "
   ]
  },
  {
   "cell_type": "code",
   "execution_count": 2,
   "id": "22aa9d44",
   "metadata": {
    "execution": {
     "iopub.execute_input": "2023-11-01T04:07:55.336120Z",
     "iopub.status.busy": "2023-11-01T04:07:55.334165Z",
     "iopub.status.idle": "2023-11-01T04:07:55.342942Z",
     "shell.execute_reply": "2023-11-01T04:07:55.342097Z"
    },
    "papermill": {
     "duration": 0.016853,
     "end_time": "2023-11-01T04:07:55.344939",
     "exception": false,
     "start_time": "2023-11-01T04:07:55.328086",
     "status": "completed"
    },
    "tags": []
   },
   "outputs": [],
   "source": [
    "# Some useful definitions.\n",
    "\n",
    "class AffiliationWarning(UserWarning):\n",
    "    pass\n",
    "\n",
    "class AffiliationError(RuntimeError):\n",
    "    pass\n",
    "\n",
    "def validation(source: str):\n",
    "    \"\"\"Raises error paper during parsing of source file\n",
    "    \n",
    "    Allows checks before parsing TeX code.\n",
    "    \n",
    "    Raises AffiliationWarning\n",
    "    \"\"\"\n",
    "    check = mpia.affiliation_verifications(source, verbose=True)\n",
    "    if check is not True:\n",
    "        raise AffiliationError(\"mpia.affiliation_verifications: \" + check)\n",
    "\n",
    "        \n",
    "warnings.simplefilter('always', AffiliationWarning)\n",
    "\n",
    "\n",
    "def get_markdown_qrcode(paper_id: str):\n",
    "    \"\"\" Generate a qrcode to the arxiv page using qrserver.com\n",
    "    \n",
    "    :param paper: Arxiv paper\n",
    "    :returns: markdown text\n",
    "    \"\"\"\n",
    "    url = r\"https://api.qrserver.com/v1/create-qr-code/?size=100x100&data=\"\n",
    "    txt = f\"\"\"<img src={url}\"https://arxiv.org/abs/{paper_id}\">\"\"\"\n",
    "    txt = '<div id=\"qrcode\">' + txt + '</div>'\n",
    "    return txt"
   ]
  },
  {
   "cell_type": "markdown",
   "id": "14bd6310",
   "metadata": {
    "papermill": {
     "duration": 0.004232,
     "end_time": "2023-11-01T04:07:55.353602",
     "exception": false,
     "start_time": "2023-11-01T04:07:55.349370",
     "status": "completed"
    },
    "tags": []
   },
   "source": [
    "## get list of arxiv paper candidates\n",
    "\n",
    "We use the MPIA mitarbeiter list webpage from mpia.de to get author names\n",
    "We then get all new papers from Arxiv and match authors"
   ]
  },
  {
   "cell_type": "code",
   "execution_count": 3,
   "id": "2645e73a",
   "metadata": {
    "execution": {
     "iopub.execute_input": "2023-11-01T04:07:55.364225Z",
     "iopub.status.busy": "2023-11-01T04:07:55.363384Z",
     "iopub.status.idle": "2023-11-01T04:09:06.803052Z",
     "shell.execute_reply": "2023-11-01T04:09:06.801932Z"
    },
    "papermill": {
     "duration": 71.447452,
     "end_time": "2023-11-01T04:09:06.805263",
     "exception": false,
     "start_time": "2023-11-01T04:07:55.357811",
     "status": "completed"
    },
    "tags": []
   },
   "outputs": [
    {
     "name": "stdout",
     "output_type": "stream",
     "text": [
      "K. El-Badry  ->  K. El-Badry  |  ['K. El-Badry']\n",
      "H.-W. Rix  ->  H.-W. Rix  |  ['H.-W. Rix']\n",
      "L. Eisert  ->  L. Eisert  |  ['L. Eisert']\n",
      "A. Pillepich  ->  A. Pillepich  |  ['A. Pillepich']\n",
      "J. Li  ->  J. Li  |  ['J. Li']\n"
     ]
    },
    {
     "name": "stdout",
     "output_type": "stream",
     "text": [
      "F. Walter  ->  F. Walter  |  ['F. Walter']\n",
      "Arxiv has 79 new papers today\n",
      "          6 with possible author matches\n"
     ]
    }
   ],
   "source": [
    "# get list from MPIA website\n",
    "# it automatically filters identified non-scientists :func:`mpia.filter_non_scientists`\n",
    "mpia_authors = mpia.get_mpia_mitarbeiter_list()\n",
    "normed_mpia_authors = [k[1] for k in mpia_authors]   # initials + fullname\n",
    "new_papers = get_new_papers()\n",
    "# add manual references\n",
    "add_paper_refs = []\n",
    "new_papers.extend([get_paper_from_identifier(k) for k in add_paper_refs])\n",
    "\n",
    "candidates = []\n",
    "for paperk in new_papers:\n",
    "    # Check author list with their initials\n",
    "    normed_author_list = [mpia.get_initials(k) for k in paperk['authors']]\n",
    "    hl_authors = highlight_authors_in_list(normed_author_list, normed_mpia_authors, verbose=True)\n",
    "    matches = [(hl, orig) for hl, orig in zip(hl_authors, paperk['authors']) if 'mark' in hl]\n",
    "    paperk['authors'] = hl_authors\n",
    "    if matches:\n",
    "        # only select paper if an author matched our list\n",
    "        candidates.append(paperk)\n",
    "print(\"\"\"Arxiv has {0:,d} new papers today\"\"\".format(len(new_papers)))        \n",
    "print(\"\"\"          {0:,d} with possible author matches\"\"\".format(len(candidates)))"
   ]
  },
  {
   "cell_type": "markdown",
   "id": "3543b34a",
   "metadata": {
    "papermill": {
     "duration": 0.004558,
     "end_time": "2023-11-01T04:09:06.814511",
     "exception": false,
     "start_time": "2023-11-01T04:09:06.809953",
     "status": "completed"
    },
    "tags": []
   },
   "source": [
    "# Parse sources and generate relevant outputs\n",
    "\n",
    "From the candidates, we do the following steps:\n",
    "* get their tarball from ArXiv (and extract data)\n",
    "* find the main .tex file: find one with \\documentclass{...} (sometimes it's non trivial)\n",
    "* Check affiliations with :func:`validation`, which uses :func:`mpia.affiliation_verifications`\n",
    "* If passing the affiliations: we parse the .tex source\n",
    "   * inject sub-documents into the main (flatten the main document)\n",
    "   * parse structure, extract information (title, abstract, authors, figures...)\n",
    "   * handles `\\graphicspath` if provided\n",
    "* Generate the .md document."
   ]
  },
  {
   "cell_type": "code",
   "execution_count": 4,
   "id": "9576b79e",
   "metadata": {
    "execution": {
     "iopub.execute_input": "2023-11-01T04:09:06.825447Z",
     "iopub.status.busy": "2023-11-01T04:09:06.825098Z",
     "iopub.status.idle": "2023-11-01T04:11:36.832847Z",
     "shell.execute_reply": "2023-11-01T04:11:36.832040Z"
    },
    "papermill": {
     "duration": 150.016551,
     "end_time": "2023-11-01T04:11:36.835425",
     "exception": false,
     "start_time": "2023-11-01T04:09:06.818874",
     "status": "completed"
    },
    "scrolled": false,
    "tags": []
   },
   "outputs": [
    {
     "data": {
      "application/vnd.jupyter.widget-view+json": {
       "model_id": "8303414534f448dfb5d64d5e08999579",
       "version_major": 2,
       "version_minor": 0
      },
      "text/plain": [
       "  0%|          | 0/6 [00:00<?, ?it/s]"
      ]
     },
     "metadata": {},
     "output_type": "display_data"
    },
    {
     "name": "stdout",
     "output_type": "stream",
     "text": [
      "Retrieving document from  https://arxiv.org/e-print/2310.19866\n"
     ]
    },
    {
     "name": "stdout",
     "output_type": "stream",
     "text": [
      "extracting tarball to tmp_2310.19866... done.\n"
     ]
    },
    {
     "name": "stdout",
     "output_type": "stream",
     "text": [
      "K. El-Badry  ->  K. El-Badry  |  ['K. El-Badry']\n",
      "H.-W. Rix  ->  H.-W. Rix  |  ['H.-W. Rix']\n"
     ]
    },
    {
     "name": "stdout",
     "output_type": "stream",
     "text": [
      "Found 51 bibliographic references in tmp_2310.19866/paper.bbl.\n",
      "Retrieving document from  https://arxiv.org/e-print/2310.19904\n"
     ]
    },
    {
     "name": "stdout",
     "output_type": "stream",
     "text": [
      "extracting tarball to tmp_2310.19904..."
     ]
    },
    {
     "name": "stdout",
     "output_type": "stream",
     "text": [
      " done.\n"
     ]
    },
    {
     "name": "stdout",
     "output_type": "stream",
     "text": [
      "Found 87 bibliographic references in tmp_2310.19904/main.bbl.\n",
      "syntax error in line 32: '=' expected\n",
      "Retrieving document from  https://arxiv.org/e-print/2310.19963\n"
     ]
    },
    {
     "name": "stdout",
     "output_type": "stream",
     "text": [
      "extracting tarball to tmp_2310.19963... done.\n",
      "Retrieving document from  https://arxiv.org/e-print/2310.19966\n"
     ]
    },
    {
     "name": "stderr",
     "output_type": "stream",
     "text": [
      "/opt/hostedtoolcache/Python/3.9.18/x64/lib/python3.9/site-packages/IPython/core/interactiveshell.py:3548: LatexWarning: Multiple tex files.\n",
      "\n",
      "  exec(code_obj, self.user_global_ns, self.user_ns)\n",
      "/opt/hostedtoolcache/Python/3.9.18/x64/lib/python3.9/site-packages/IPython/core/interactiveshell.py:3548: LatexWarning: Found documentclass in tmp_2310.19963/PRL_main.tex\n",
      "\n",
      "  exec(code_obj, self.user_global_ns, self.user_ns)\n",
      "/opt/hostedtoolcache/Python/3.9.18/x64/lib/python3.9/site-packages/arxiv_on_deck_2/latex.py:399: LatexWarning: Latex injecting: 'latex_auger_acknowledgments' from 'tmp_2310.19963/latex_auger_acknowledgments.tex'\n",
      "  warnings.warn(LatexWarning(f\"Latex injecting: '{ext}' from '{subsource}'\"))\n",
      "/opt/hostedtoolcache/Python/3.9.18/x64/lib/python3.9/site-packages/arxiv_on_deck_2/latex.py:399: LatexWarning: Latex injecting: 'latex_auger_authorlist_institutions.tex' from 'tmp_2310.19963/latex_auger_authorlist_institutions.tex'\n",
      "  warnings.warn(LatexWarning(f\"Latex injecting: '{ext}' from '{subsource}'\"))\n",
      "/opt/hostedtoolcache/Python/3.9.18/x64/lib/python3.9/site-packages/arxiv_on_deck_2/latex.py:399: LatexWarning: Latex injecting: 'latex_auger_authorlist_authors' from 'tmp_2310.19963/latex_auger_authorlist_authors.tex'\n",
      "  warnings.warn(LatexWarning(f\"Latex injecting: '{ext}' from '{subsource}'\"))\n"
     ]
    },
    {
     "name": "stdout",
     "output_type": "stream",
     "text": [
      "extracting tarball to tmp_2310.19966..."
     ]
    },
    {
     "name": "stdout",
     "output_type": "stream",
     "text": [
      " done.\n",
      "Retrieving document from  https://arxiv.org/e-print/2310.20161\n"
     ]
    },
    {
     "name": "stderr",
     "output_type": "stream",
     "text": [
      "/opt/hostedtoolcache/Python/3.9.18/x64/lib/python3.9/site-packages/IPython/core/interactiveshell.py:3548: LatexWarning: Multiple tex files.\n",
      "\n",
      "  exec(code_obj, self.user_global_ns, self.user_ns)\n",
      "/opt/hostedtoolcache/Python/3.9.18/x64/lib/python3.9/site-packages/IPython/core/interactiveshell.py:3548: LatexWarning: Found documentclass in tmp_2310.19966/PRD_main.tex\n",
      "\n",
      "  exec(code_obj, self.user_global_ns, self.user_ns)\n",
      "/opt/hostedtoolcache/Python/3.9.18/x64/lib/python3.9/site-packages/arxiv_on_deck_2/latex.py:399: LatexWarning: Latex injecting: 'latex_auger_acknowledgments' from 'tmp_2310.19966/latex_auger_acknowledgments.tex'\n",
      "  warnings.warn(LatexWarning(f\"Latex injecting: '{ext}' from '{subsource}'\"))\n",
      "/opt/hostedtoolcache/Python/3.9.18/x64/lib/python3.9/site-packages/arxiv_on_deck_2/latex.py:399: LatexWarning: Latex injecting: 'latex_auger_authorlist_institutions' from 'tmp_2310.19966/latex_auger_authorlist_institutions.tex'\n",
      "  warnings.warn(LatexWarning(f\"Latex injecting: '{ext}' from '{subsource}'\"))\n",
      "/opt/hostedtoolcache/Python/3.9.18/x64/lib/python3.9/site-packages/arxiv_on_deck_2/latex.py:399: LatexWarning: Latex injecting: 'latex_auger_authorlist_authors' from 'tmp_2310.19966/latex_auger_authorlist_authors.tex'\n",
      "  warnings.warn(LatexWarning(f\"Latex injecting: '{ext}' from '{subsource}'\"))\n"
     ]
    },
    {
     "name": "stdout",
     "output_type": "stream",
     "text": [
      "extracting tarball to tmp_2310.20161... done.\n",
      "Retrieving document from  https://arxiv.org/e-print/2310.20675\n"
     ]
    },
    {
     "name": "stdout",
     "output_type": "stream",
     "text": [
      "extracting tarball to tmp_2310.20675..."
     ]
    },
    {
     "name": "stdout",
     "output_type": "stream",
     "text": [
      " done.\n"
     ]
    }
   ],
   "source": [
    "documents = []\n",
    "failed = []\n",
    "for paper in tqdm(candidates):\n",
    "    paper_id = paper['identifier'].lower().replace('arxiv:', '')\n",
    "    \n",
    "    folder = f'tmp_{paper_id}'\n",
    "\n",
    "    try:\n",
    "        if not os.path.isdir(folder):\n",
    "            folder = retrieve_document_source(f\"{paper_id}\", f'tmp_{paper_id}')\n",
    "        \n",
    "        try:\n",
    "            doc = latex.LatexDocument(folder, validation=validation)    \n",
    "        except AffiliationError as affilerror:\n",
    "            msg = f\"ArXiv:{paper_id:s} is not an MPIA paper... \" + str(affilerror)\n",
    "            failed.append((paper, \"affiliation error: \" + str(affilerror) ))\n",
    "            continue\n",
    "        \n",
    "        # Hack because sometimes author parsing does not work well\n",
    "        if (len(doc.authors) != len(paper['authors'])):\n",
    "            doc._authors = paper['authors']\n",
    "        else:\n",
    "            # highlight authors (FIXME: doc.highlight_authors)\n",
    "            # done on arxiv paper already\n",
    "            doc._authors = highlight_authors_in_list(\n",
    "                [mpia.get_initials(k) for k in doc.authors], \n",
    "                normed_mpia_authors, verbose=True)\n",
    "        if (doc.abstract) in (None, ''):\n",
    "            doc._abstract = paper['abstract']\n",
    "            \n",
    "        doc.comment = (get_markdown_badge(paper_id) + \n",
    "                       \"<mark>Appeared on: \" + paper['date'] + \"</mark> - \")\n",
    "        if paper['comments']:\n",
    "            doc.comment += \" _\" + paper['comments'] + \"_\"\n",
    "        \n",
    "        full_md = doc.generate_markdown_text()\n",
    "        \n",
    "        full_md += get_markdown_qrcode(paper_id)\n",
    "        \n",
    "        # replace citations\n",
    "        try:\n",
    "            bibdata = latex_bib.LatexBib.from_doc(doc)\n",
    "            full_md = latex_bib.replace_citations(full_md, bibdata)\n",
    "        except Exception as e:\n",
    "            print(e)\n",
    "        \n",
    "        documents.append((paper_id, full_md))\n",
    "    except Exception as e:\n",
    "        warnings.warn(latex.LatexWarning(f\"{paper_id:s} did not run properly\\n\" +\n",
    "                                         str(e)\n",
    "                                        ))\n",
    "        failed.append((paper, \"latex error \" + str(e)))"
   ]
  },
  {
   "cell_type": "markdown",
   "id": "2505a25c",
   "metadata": {
    "papermill": {
     "duration": 0.005698,
     "end_time": "2023-11-01T04:11:36.847076",
     "exception": false,
     "start_time": "2023-11-01T04:11:36.841378",
     "status": "completed"
    },
    "tags": []
   },
   "source": [
    "### Export the logs\n",
    "\n",
    "Throughout, we also keep track of the logs per paper. see `logs-{today date}.md` "
   ]
  },
  {
   "cell_type": "code",
   "execution_count": 5,
   "id": "d733828a",
   "metadata": {
    "execution": {
     "iopub.execute_input": "2023-11-01T04:11:36.860990Z",
     "iopub.status.busy": "2023-11-01T04:11:36.860044Z",
     "iopub.status.idle": "2023-11-01T04:11:36.888940Z",
     "shell.execute_reply": "2023-11-01T04:11:36.888124Z"
    },
    "papermill": {
     "duration": 0.038182,
     "end_time": "2023-11-01T04:11:36.890835",
     "exception": false,
     "start_time": "2023-11-01T04:11:36.852653",
     "status": "completed"
    },
    "scrolled": false,
    "tags": []
   },
   "outputs": [
    {
     "data": {
      "text/markdown": [
       "## Successful papers"
      ],
      "text/plain": [
       "<IPython.core.display.Markdown object>"
      ]
     },
     "metadata": {},
     "output_type": "display_data"
    },
    {
     "data": {
      "text/markdown": [
       "\n",
       "|||\n",
       "|---:|:---|\n",
       "| [![arXiv](https://img.shields.io/badge/arXiv-arXiv:2310.19866-b31b1b.svg)](https://arxiv.org/abs/arXiv:2310.19866) | **Measuring The Mass-Radius Relation of White Dwarfs Using Wide Binaries**  |\n",
       "|| S. Arseneau, et al. -- incl., <mark>K. El-Badry</mark>, <mark>H.-W. Rix</mark> |\n",
       "|*Appeared on*| *2023-11-01*|\n",
       "|*Comments*| *12 pages, 9 figures*|\n",
       "|**Abstract**| Measuring the mass-radius relation of individual white dwarfs is an empirically challenging task that has been performed for only a few dozen stars. We measure the white dwarf mass-radius relation using gravitational redshifts and radii of 137 white dwarfs in wide binaries with main sequence companions. We obtain the space velocities to these systems using the main sequence companion, and subtract these Doppler redshifts from the white dwarfs' apparent motions, isolating their gravitational redshifts. We use Gaia data to calculate the surface temperatures and radii of these white dwarfs, thereby deriving an empirical gravitational redshift-radius relation. This work demonstrates the utility of low-resolution Galactic surveys to measure the white dwarf equation of state. Our results are consistent with theoretical models, and represent the largest sample of individual white dwarf gravitational redshift measurements to date. |"
      ],
      "text/plain": [
       "[arXiv:2310.19866] Measuring The Mass-Radius Relation of White Dwarfs Using Wide Binaries\n",
       "\tS. Arseneau, et al. -- incl., <mark>K. El-Badry</mark>, <mark>H.-W. Rix</mark>"
      ]
     },
     "metadata": {},
     "output_type": "display_data"
    },
    {
     "data": {
      "text/markdown": [
       "\n",
       "|||\n",
       "|---:|:---|\n",
       "| [![arXiv](https://img.shields.io/badge/arXiv-arXiv:2310.19904-b31b1b.svg)](https://arxiv.org/abs/arXiv:2310.19904) | **ERGO-ML -- Comparing IllustrisTNG and HSC galaxy images via contrastive  learning**  |\n",
       "|| <mark>L. Eisert</mark>, et al. -- incl., <mark>A. Pillepich</mark> |\n",
       "|*Appeared on*| *2023-11-01*|\n",
       "|*Comments*| *26 pages, 17 figures. Submitted to MNRAS. Comments are welcome. Highlights in Fig. 3, 7 and 13*|\n",
       "|**Abstract**| Modern cosmological hydrodynamical galaxy simulations provide tens of thousands of reasonably realistic synthetic galaxies across cosmic time. However, quantitatively assessing the level of realism of simulated universes in comparison to the real one is difficult. In this paper of the ERGO-ML series (Extracting Reality from Galaxy Observables with Machine Learning), we utilize contrastive learning to directly compare a large sample of simulated and observed galaxies based on their stellar-light images. This eliminates the need to specify summary statistics and allows to exploit the whole information content of the observations. We produce survey-realistic galaxy mock datasets resembling real Hyper Suprime-Cam (HSC) observations using the cosmological simulations TNG50 and TNG100. Our focus is on galaxies with stellar masses between $10^9$ and $10^{12} M_\\odot$ at $z=0.1-0.4$. This allows us to evaluate the realism of the simulated TNG galaxies in comparison to actual HSC observations. We apply the self-supervised contrastive learning method NNCLR to the images from both simulated and observed datasets (g, r, i - bands). This results in a 256-dimensional representation space, encoding all relevant observable galaxy properties. Firstly, this allows us to identify simulated galaxies that closely resemble real ones by seeking similar images in this multi-dimensional space. Even more powerful, we quantify the alignment between the representations of these two image sets, finding that the majority ($\\gtrsim 70$ per cent) of the TNG galaxies align well with observed HSC images. However, a subset of simulated galaxies with larger sizes, steeper Sersic profiles, smaller Sersic ellipticities, and larger asymmetries appears unrealistic. We also demonstrate the utility of our derived image representations by inferring properties of real HSC galaxies using simulated TNG galaxies as the ground truth. |"
      ],
      "text/plain": [
       "[arXiv:2310.19904] ERGO-ML -- Comparing IllustrisTNG and HSC galaxy images via contrastive  learning\n",
       "\t<mark>L. Eisert</mark>, et al. -- incl., <mark>A. Pillepich</mark>"
      ]
     },
     "metadata": {},
     "output_type": "display_data"
    },
    {
     "data": {
      "text/markdown": [
       "## Failed papers"
      ],
      "text/plain": [
       "<IPython.core.display.Markdown object>"
      ]
     },
     "metadata": {},
     "output_type": "display_data"
    },
    {
     "data": {
      "text/markdown": [
       "\n",
       "|||\n",
       "|---:|:---|\n",
       "| [![arXiv](https://img.shields.io/badge/arXiv-arXiv:2310.20675-b31b1b.svg)](https://arxiv.org/abs/arXiv:2310.20675) | **NOEMA reveals the true nature of luminous red JWST z>10 galaxy  candidates**  |\n",
       "|| R. A. Meyer, et al. -- incl., <mark>F. Walter</mark> |\n",
       "|*Appeared on*| *2023-11-01*|\n",
       "|*Comments*| *6 pages. Submitted to A&A Letters. Comments welcome*|\n",
       "|**Abstract**| The first year of JWST has revealed a surprisingly large number of luminous galaxy candidates beyond $z>10$. While some galaxies are already spectroscopically confirmed, there is mounting evidence that a subsample of the candidates with particularly red inferred UV colors are in fact lower redshift contaminants.These interlopers are often found to be `HST-dark' or `optically-faint' galaxies at $z\\sim2-6$, a population key to understanding dust-obscured star formation throughout cosmic time. This paper demonstrates the complementarity of ground-based mm-interferometry and JWST infrared imaging to unveil the true nature of red 1.5-2.0 $\\mu$m dropouts that have been selected as ultra-high-redshift galaxy candidates. We present NOEMA Polyfix follow-up observations of four JWST red 1.5-2.0 $\\mu$m dropouts selected by Yan et al. 2023 as ultra-high-redshift candidates in the PEARLS field. The new NOEMA observations constrain the rest-frame far-infrared continuum emission and efficiently discriminate between intermediate- and high-redshift solutions. We report $>10\\sigma$ NOEMA continuum detections of all our target galaxies at observed frequencies of $\\nu$=236 and 252 GHz, with FIR slopes indicating a redshift $z<5$. We model their optical-to-FIR spectral energy distribution (SED) with multiple SED codes, and find that they are not $z>10$ galaxies but instead dust-obscured, massive star-forming galaxies at $z\\sim 2-4$. The contribution to the cosmic star-formation rate density of such sources is not negligible at $z\\simeq 3.5$ ($\\phi\\gtrsim(1.9-4.4)\\times10^{-3}\\ \\rm{cMpc}^{-3}$), in line with previous studies of optically-faint/sub-millimeter galaxies. This work showcases a new way to select intermediate- to high-redshift dust-obscured galaxies in JWST fields with minimal wavelength coverage to open a new window on obscured star-formation at intermediate redshifts .[abridged] |\n",
       "|<p style=\"color:green\"> **ERROR** </p>| <p style=\"color:green\">affiliation error: mpia.affiliation_verifications: '69117' keyword not found.</p> |"
      ],
      "text/plain": [
       "<IPython.core.display.Markdown object>"
      ]
     },
     "metadata": {},
     "output_type": "display_data"
    },
    {
     "data": {
      "text/markdown": [
       "\n",
       "|||\n",
       "|---:|:---|\n",
       "| [![arXiv](https://img.shields.io/badge/arXiv-arXiv:2310.19963-b31b1b.svg)](https://arxiv.org/abs/arXiv:2310.19963) | **Demonstrating Agreement between Radio and Fluorescence Measurements of  the Depth of Maximum of Extensive Air Showers at the Pierre Auger Observatory**  |\n",
       "|| P. A. Collaboration, et al. |\n",
       "|*Appeared on*| *2023-11-01*|\n",
       "|*Comments*| *Submitted to Phys. Rev. Lett*|\n",
       "|**Abstract**| We show, for the first time, radio measurements of the depth of shower maximum ($X_\\text{max}$) of air showers induced by cosmic rays that are compared to measurements of the established fluorescence method at the same location. Using measurements at the Pierre Auger Observatory we show full compatibility between our radio and the previously published fluorescence data set, and between a subset of air showers observed simultaneously with both radio and fluorescence techniques, a measurement setup unique to the Pierre Auger Observatory. Furthermore, we show radio $X_\\text{max}$ resolution as a function of energy and demonstrate the ability to make competitive high-resolution $X_\\text{max}$ measurements with even a sparse radio array. With this, we show that the radio technique is capable of cosmic-ray mass composition studies, both at Auger and at other experiments. |\n",
       "|<p style=\"color:green\"> **ERROR** </p>| <p style=\"color:green\">affiliation error: mpia.affiliation_verifications: 'Heidelberg' keyword not found.</p> |"
      ],
      "text/plain": [
       "<IPython.core.display.Markdown object>"
      ]
     },
     "metadata": {},
     "output_type": "display_data"
    },
    {
     "data": {
      "text/markdown": [
       "\n",
       "|||\n",
       "|---:|:---|\n",
       "| [![arXiv](https://img.shields.io/badge/arXiv-arXiv:2310.19966-b31b1b.svg)](https://arxiv.org/abs/arXiv:2310.19966) | **Radio Measurements of the Depth of Air-Shower Maximum at the Pierre  Auger Observatory**  |\n",
       "|| P. A. Collaboration, et al. |\n",
       "|*Appeared on*| *2023-11-01*|\n",
       "|*Comments*| *Submitted to Phys. Rev. D*|\n",
       "|**Abstract**| The Auger Engineering Radio Array (AERA), part of the Pierre Auger Observatory, is currently the largest array of radio antenna stations deployed for the detection of cosmic rays, spanning an area of $17$ km$^2$ with 153 radio stations. It detects the radio emission of extensive air showers produced by cosmic rays in the $30-80$ MHz band. Here, we report the AERA measurements of the depth of the shower maximum ($X_\\text{max}$), a probe for mass composition, at cosmic-ray energies between $10^{17.5}$ to $10^{18.8}$ eV, which show agreement with earlier measurements with the fluorescence technique at the Pierre Auger Observatory. We show advancements in the method for radio $X_\\text{max}$ reconstruction by comparison to dedicated sets of CORSIKA/CoREAS air-shower simulations, including steps of reconstruction-bias identification and correction, which is of particular importance for irregular or sparse radio arrays. Using the largest set of radio air-shower measurements to date, we show the radio $X_\\text{max}$ resolution as a function of energy, reaching a resolution better than $15$ g cm$^{-2}$ at the highest energies, demonstrating that radio $X_\\text{max}$ measurements are competitive with the established high-precision fluorescence technique. In addition, we developed a procedure for performing an extensive data-driven study of systematic uncertainties, including the effects of acceptance bias, reconstruction bias, and the investigation of possible residual biases. These results have been cross-checked with air showers measured independently with both the radio and fluorescence techniques, a setup unique to the Pierre Auger Observatory. |\n",
       "|<p style=\"color:green\"> **ERROR** </p>| <p style=\"color:green\">affiliation error: mpia.affiliation_verifications: 'Heidelberg' keyword not found.</p> |"
      ],
      "text/plain": [
       "<IPython.core.display.Markdown object>"
      ]
     },
     "metadata": {},
     "output_type": "display_data"
    },
    {
     "data": {
      "text/markdown": [
       "\n",
       "|||\n",
       "|---:|:---|\n",
       "| [![arXiv](https://img.shields.io/badge/arXiv-arXiv:2310.20161-b31b1b.svg)](https://arxiv.org/abs/arXiv:2310.20161) | **Sulphur isotopes toward Sagittarius B2 extended envelope in the Galactic  Center**  |\n",
       "|| Q. Li, et al. -- incl., <mark>J. Li</mark> |\n",
       "|*Appeared on*| *2023-11-01*|\n",
       "|*Comments*| *20 pages, 7 figures, accepted by PASJ*|\n",
       "|**Abstract**| The isotopic ratios are good tools for probing the stellar nucleosynthesis and chemical evolution. We performed high-sensitivity mapping observations of the J=7-6 rotational transitions of OCS, OC34S, O13CS, and OC33S toward the Galactic Center giant molecular cloud, Sagittarius B2 (Sgr B2) with IRAM 30m telescope. Positions with optically thin and uncontaminated lines are chosen to determine the sulfur isotope ratios. A 32S/34S ratio of 17.1\\pm0.9 was derived with OCS and OC34S lines, while 34S/33S ratio of 6.8\\pm1.9 was derived directly from integrated intensity ratio of OC34S and OC33S. With independent and accurate measurements of 32S/34S ratio, our results confirm the termination of the decreasing trend of 32S/34S ratios toward the Galactic Center, suggesting a drop in the production of massive stars at the Galactic centre. |\n",
       "|<p style=\"color:green\"> **ERROR** </p>| <p style=\"color:green\">affiliation error: mpia.affiliation_verifications: 'Heidelberg' keyword not found.</p> |"
      ],
      "text/plain": [
       "<IPython.core.display.Markdown object>"
      ]
     },
     "metadata": {},
     "output_type": "display_data"
    }
   ],
   "source": [
    "import datetime\n",
    "today = str(datetime.date.today())\n",
    "logfile = f\"_build/html/logs/log-{today}.md\"\n",
    "\n",
    "\n",
    "with open(logfile, 'w') as logs:\n",
    "    # Success\n",
    "    logs.write(f'# Arxiv on Deck 2: Logs - {today}\\n\\n')\n",
    "    logs.write(\"\"\"* Arxiv had {0:,d} new papers\\n\"\"\".format(len(new_papers)))\n",
    "    logs.write(\"\"\"    * {0:,d} with possible author matches\\n\\n\"\"\".format(len(candidates)))\n",
    "    logs.write(\"## Sucessful papers\\n\\n\")\n",
    "    display(Markdown(\"## Successful papers\"))\n",
    "    success = [k[0] for k in documents]\n",
    "    for candid in candidates:\n",
    "        if candid['identifier'].split(':')[-1] in success:\n",
    "            display(candid)\n",
    "            logs.write(candid.generate_markdown_text() + '\\n\\n')\n",
    "\n",
    "    ## failed\n",
    "    logs.write(\"## Failed papers\\n\\n\")\n",
    "    display(Markdown(\"## Failed papers\"))\n",
    "    failed = sorted(failed, key=lambda x: x[1])\n",
    "    current_reason = \"\"\n",
    "    for paper, reason in failed:\n",
    "        if 'affiliation' in reason:\n",
    "            color = 'green'\n",
    "        else:\n",
    "            color = 'red'\n",
    "        data = Markdown(\n",
    "                paper.generate_markdown_text() + \n",
    "                f'\\n|<p style=\"color:{color:s}\"> **ERROR** </p>| <p style=\"color:{color:s}\">{reason:s}</p> |'\n",
    "               )\n",
    "        if reason != current_reason:\n",
    "            logs.write(f'### {reason:s} \\n\\n')\n",
    "            current_reason = reason\n",
    "        logs.write(data.data + '\\n\\n')\n",
    "        \n",
    "        # only display here the important errors (all in logs)\n",
    "        # if color in ('red',):\n",
    "        display(data)"
   ]
  },
  {
   "cell_type": "markdown",
   "id": "472d20ee",
   "metadata": {
    "papermill": {
     "duration": 0.006814,
     "end_time": "2023-11-01T04:11:36.904758",
     "exception": false,
     "start_time": "2023-11-01T04:11:36.897944",
     "status": "completed"
    },
    "tags": []
   },
   "source": [
    "## Export documents\n",
    "\n",
    "We now write the .md files and export relevant images"
   ]
  },
  {
   "cell_type": "code",
   "execution_count": 6,
   "id": "d426aed9",
   "metadata": {
    "execution": {
     "iopub.execute_input": "2023-11-01T04:11:36.921223Z",
     "iopub.status.busy": "2023-11-01T04:11:36.920357Z",
     "iopub.status.idle": "2023-11-01T04:11:36.929882Z",
     "shell.execute_reply": "2023-11-01T04:11:36.929009Z"
    },
    "papermill": {
     "duration": 0.020054,
     "end_time": "2023-11-01T04:11:36.931906",
     "exception": false,
     "start_time": "2023-11-01T04:11:36.911852",
     "status": "completed"
    },
    "tags": []
   },
   "outputs": [],
   "source": [
    "def export_markdown_summary(md: str, md_fname:str, directory: str):\n",
    "    \"\"\"Export MD document and associated relevant images\"\"\"\n",
    "    import os\n",
    "    import shutil\n",
    "    import re\n",
    "\n",
    "    if (os.path.exists(directory) and not os.path.isdir(directory)):\n",
    "        raise RuntimeError(f\"a non-directory file exists with name {directory:s}\")\n",
    "\n",
    "    if (not os.path.exists(directory)):\n",
    "        print(f\"creating directory {directory:s}\")\n",
    "        os.mkdir(directory)\n",
    "\n",
    "    fig_fnames = (re.compile(r'\\[Fig.*\\]\\((.*)\\)').findall(md) + \n",
    "                  re.compile(r'\\<img src=\"([^>\\s]*)\"[^>]*/>').findall(md))\n",
    "    for fname in fig_fnames:\n",
    "        if 'http' in fname:\n",
    "            # No need to copy online figures\n",
    "            continue\n",
    "        destdir = os.path.join(directory, os.path.dirname(fname))\n",
    "        destfname = os.path.join(destdir, os.path.basename(fname))\n",
    "        try:\n",
    "            os.makedirs(destdir)\n",
    "        except FileExistsError:\n",
    "            pass\n",
    "        shutil.copy(fname, destfname)\n",
    "    with open(os.path.join(directory, md_fname), 'w') as fout:\n",
    "        fout.write(md)\n",
    "    print(\"exported in \", os.path.join(directory, md_fname))\n",
    "    [print(\"    + \" + os.path.join(directory,fk)) for fk in fig_fnames]"
   ]
  },
  {
   "cell_type": "code",
   "execution_count": 7,
   "id": "014d04a4",
   "metadata": {
    "execution": {
     "iopub.execute_input": "2023-11-01T04:11:36.947674Z",
     "iopub.status.busy": "2023-11-01T04:11:36.947059Z",
     "iopub.status.idle": "2023-11-01T04:11:36.969198Z",
     "shell.execute_reply": "2023-11-01T04:11:36.968439Z"
    },
    "papermill": {
     "duration": 0.032627,
     "end_time": "2023-11-01T04:11:36.971261",
     "exception": false,
     "start_time": "2023-11-01T04:11:36.938634",
     "status": "completed"
    },
    "tags": []
   },
   "outputs": [
    {
     "name": "stdout",
     "output_type": "stream",
     "text": [
      "exported in  _build/html/2310.19866.md\n",
      "    + _build/html/tmp_2310.19866/./figures/115_dopplerfit.png\n",
      "exported in  _build/html/2310.19904.md\n",
      "    + _build/html/tmp_2310.19904/./img/results/kde.png\n",
      "    + _build/html/tmp_2310.19904/./img/results/kde_TNG50.png\n",
      "    + _build/html/tmp_2310.19904/./img/results/kde_TNG100.png\n",
      "    + _build/html/tmp_2310.19904/./img/results/umap_compare_TNG100_z.png\n",
      "    + _build/html/tmp_2310.19904/./img/results/umap_compare_TNG100_i_band_mag_dust_apparent.png\n",
      "    + _build/html/tmp_2310.19904/./img/results/umap_compare_TNG100_petro_90_light.png\n",
      "    + _build/html/tmp_2310.19904/./img/results/umap_compare_HSC_TNG100_photoz.png\n",
      "    + _build/html/tmp_2310.19904/./img/results/umap_compare_HSC_TNG100_i_cmodel_mag_ge.png\n",
      "    + _build/html/tmp_2310.19904/./img/results/umap_compare_HSC_TNG100_petro_90_light.png\n",
      "    + _build/html/tmp_2310.19904/./img/results/umap_compare_TNG50_z.png\n",
      "    + _build/html/tmp_2310.19904/./img/results/umap_compare_TNG50_i_band_mag_dust_apparent.png\n",
      "    + _build/html/tmp_2310.19904/./img/results/umap_compare_TNG50_petro_90_light.png\n",
      "    + _build/html/tmp_2310.19904/./img/results/umap_compare_HSC_TNG50_photoz.png\n",
      "    + _build/html/tmp_2310.19904/./img/results/umap_compare_HSC_TNG50_i_cmodel_mag_ge.png\n",
      "    + _build/html/tmp_2310.19904/./img/results/umap_compare_HSC_TNG50_petro_90_light.png\n",
      "    + _build/html/tmp_2310.19904/./img/results/TNG100_mass.png\n",
      "    + _build/html/tmp_2310.19904/./img/results/TNG50_mass.png\n",
      "    + _build/html/tmp_2310.19904/./img/results/TNG100_color.png\n",
      "    + _build/html/tmp_2310.19904/./img/results/TNG50_color.png\n",
      "    + _build/html/tmp_2310.19904/./img/results/TNG100_fraction_disk_stars.png\n",
      "    + _build/html/tmp_2310.19904/./img/results/TNG50_fraction_disk_stars.png\n",
      "    + _build/html/tmp_2310.19904/./img/results/TNG100_half_mass_rad_physical.png\n",
      "    + _build/html/tmp_2310.19904/./img/results/TNG50_half_mass_rad_physical.png\n",
      "    + _build/html/tmp_2310.19904/./img/results/images_TNG100.png\n"
     ]
    }
   ],
   "source": [
    "for paper_id, md in documents:\n",
    "    export_markdown_summary(md, f\"{paper_id:s}.md\", '_build/html/')"
   ]
  },
  {
   "cell_type": "markdown",
   "id": "f087a0a7",
   "metadata": {
    "papermill": {
     "duration": 0.007057,
     "end_time": "2023-11-01T04:11:36.985669",
     "exception": false,
     "start_time": "2023-11-01T04:11:36.978612",
     "status": "completed"
    },
    "tags": []
   },
   "source": [
    "## Display the papers\n",
    "\n",
    "Not necessary but allows for a quick check."
   ]
  },
  {
   "cell_type": "code",
   "execution_count": 8,
   "id": "fd25f625",
   "metadata": {
    "execution": {
     "iopub.execute_input": "2023-11-01T04:11:37.003191Z",
     "iopub.status.busy": "2023-11-01T04:11:37.002436Z",
     "iopub.status.idle": "2023-11-01T04:11:37.010666Z",
     "shell.execute_reply": "2023-11-01T04:11:37.009901Z"
    },
    "papermill": {
     "duration": 0.018658,
     "end_time": "2023-11-01T04:11:37.012426",
     "exception": false,
     "start_time": "2023-11-01T04:11:36.993768",
     "status": "completed"
    },
    "scrolled": false,
    "tags": []
   },
   "outputs": [
    {
     "data": {
      "text/markdown": [
       " to $2\\sigma$, mean absolute error of $14.2$ km s$^{-1}$, and bias of $0.2$ km s$^{-1}$. (*fig:koester-falcon*)\n",
       "\n",
       "</div>\n",
       "<div id=\"div_fig3\">\n",
       "\n",
       "<img src=\"tmp_2310.19866/./figures/115_dopplerfit.png\" alt=\"Fig4\" width=\"100%\"/>\n",
       "\n",
       "**Figure 4. -** Main sequence radial velocity fit using templates from MaStar. Radial velocity is calculated from a template spectrum via $\\chi^2$ minimization. _Red:_ MaStar template spectrum. _Black:_ Observed main sequence spectrum from SDSS-IV. (*fig:ms_rv*)\n",
       "\n",
       "</div><div id=\"qrcode\"><img src=https://api.qrserver.com/v1/create-qr-code/?size=100x100&data=\"https://arxiv.org/abs/2310.19866\"></div>"
      ],
      "text/plain": [
       "<IPython.core.display.Markdown object>"
      ]
     },
     "metadata": {},
     "output_type": "display_data"
    },
    {
     "data": {
      "text/markdown": [
       "<div class=\"macros\" style=\"visibility:hidden;\">\n",
       "$\\newcommand{\\ensuremath}{}$\n",
       "$\\newcommand{\\xspace}{}$\n",
       "$\\newcommand{\\object}[1]{\\texttt{#1}}$\n",
       "$\\newcommand{\\farcs}{{.}''}$\n",
       "$\\newcommand{\\farcm}{{.}'}$\n",
       "$\\newcommand{\\arcsec}{''}$\n",
       "$\\newcommand{\\arcmin}{'}$\n",
       "$\\newcommand{\\ion}[2]{#1#2}$\n",
       "$\\newcommand{\\textsc}[1]{\\textrm{#1}}$\n",
       "$\\newcommand{\\hl}[1]{\\textrm{#1}}$\n",
       "$\\newcommand{\\footnote}[1]{}$\n",
       "$\\newcommand{\\ap}{\\color{magenta}}$\n",
       "$\\newcommand{\\todo}{\\color{green}}$\n",
       "$\\newcommand{\\MSUN}{\\rm{M}_{\\odot}}$\n",
       "$\\newcommand{\\logmstar}{\\log(M_{\\star}/\\mathrm{M}_{\\odot})}$\n",
       "$\\newcommand{\\cb}{\\textcolor{Crimson}}$\n",
       "$\\newcommand{\\thebibliography}{\\DeclareRobustCommand{\\VAN}[3]{##3}\\VANthebibliography}$</div>\n",
       "\n",
       "\n",
       "\n",
       "<div id=\"title\">\n",
       "\n",
       "# ERGO-ML -- Comparing IllustrisTNG and HSC galaxy images via contrastive learning\n",
       "\n",
       "</div>\n",
       "<div id=\"comments\">\n",
       "\n",
       "[![arXiv](https://img.shields.io/badge/arXiv-2310.19904-b31b1b.svg)](https://arxiv.org/abs/2310.19904)<mark>Appeared on: 2023-11-01</mark> -  _26 pages, 17 figures. Submitted to MNRAS. Comments are welcome. Highlights in Fig. 3, 7 and 13_\n",
       "\n",
       "</div>\n",
       "<div id=\"authors\">\n",
       "\n",
       "<mark>L. Eisert</mark>, et al. -- incl., <mark>A. Pillepich</mark>\n",
       "\n",
       "</div>\n",
       "<div id=\"abstract\">\n",
       "\n",
       "**Abstract:** Modern cosmological hydrodynamical galaxy simulations provide tens of thousands of reasonably realistic synthetic galaxies across cosmic time. However, quantitatively assessing the level of realism of simulated universes in comparison to the real one is difficult. In this paper of the ERGO-ML series (Extracting Reality from Galaxy Observables with Machine Learning), we utilize contrastive learning to directly compare a large sample of simulated and observed galaxies based on their stellar-light images. This eliminates the need to specify summary statistics and allows to exploit the whole information content of the observations. We produce survey-realistic galaxy mock datasets resembling real Hyper Suprime-Cam (HSC) observations using the cosmological simulations TNG50 and TNG100. Our focus is on galaxies with stellar masses between $10^9$ and $10^{12} M_\\odot$ at $z=0.1-0.4$ . This allows us to evaluate the realism of the simulated TNG galaxies in comparison to actual HSC observations. We apply the self-supervised contrastive learning method NNCLR to the images from both simulated and observed datasets (g, r, i - bands). This results in a 256-dimensional representation space, encoding all relevant observable galaxy properties. Firstly, this allows us to identify simulated galaxies that closely resemble real ones by seeking similar images in this multi-dimensional space. Even more powerful, we quantify the alignment between the representations of these two image sets, finding that the majority ( $\\gtrsim 70$ per cent) of the TNG galaxies align well with observed HSC images. However, a subset of simulated galaxies with larger sizes, steeper Sersic profiles, smaller Sersic ellipticities, and larger asymmetries appears unrealistic. We also demonstrate the utility of our derived image representations by inferring properties of real HSC galaxies using simulated TNG galaxies as the ground truth.\n",
       "\n",
       "</div>\n",
       "\n",
       "<div id=\"div_fig1\">\n",
       "\n",
       "<img src=\"tmp_2310.19904/./img/results/kde.png\" alt=\"Fig6.1\" width=\"6%\"/><img src=\"tmp_2310.19904/./img/results/kde_TNG50.png\" alt=\"Fig6.2\" width=\"6%\"/><img src=\"tmp_2310.19904/./img/results/kde_TNG100.png\" alt=\"Fig6.3\" width=\"6%\"/><img src=\"tmp_2310.19904/./img/results/umap_compare_TNG100_z.png\" alt=\"Fig6.4\" width=\"6%\"/><img src=\"tmp_2310.19904/./img/results/umap_compare_TNG100_i_band_mag_dust_apparent.png\" alt=\"Fig6.5\" width=\"6%\"/><img src=\"tmp_2310.19904/./img/results/umap_compare_TNG100_petro_90_light.png\" alt=\"Fig6.6\" width=\"6%\"/><img src=\"tmp_2310.19904/./img/results/umap_compare_HSC_TNG100_photoz.png\" alt=\"Fig6.7\" width=\"6%\"/><img src=\"tmp_2310.19904/./img/results/umap_compare_HSC_TNG100_i_cmodel_mag_ge.png\" alt=\"Fig6.8\" width=\"6%\"/><img src=\"tmp_2310.19904/./img/results/umap_compare_HSC_TNG100_petro_90_light.png\" alt=\"Fig6.9\" width=\"6%\"/><img src=\"tmp_2310.19904/./img/results/umap_compare_TNG50_z.png\" alt=\"Fig6.10\" width=\"6%\"/><img src=\"tmp_2310.19904/./img/results/umap_compare_TNG50_i_band_mag_dust_apparent.png\" alt=\"Fig6.11\" width=\"6%\"/><img src=\"tmp_2310.19904/./img/results/umap_compare_TNG50_petro_90_light.png\" alt=\"Fig6.12\" width=\"6%\"/><img src=\"tmp_2310.19904/./img/results/umap_compare_HSC_TNG50_photoz.png\" alt=\"Fig6.13\" width=\"6%\"/><img src=\"tmp_2310.19904/./img/results/umap_compare_HSC_TNG50_i_cmodel_mag_ge.png\" alt=\"Fig6.14\" width=\"6%\"/><img src=\"tmp_2310.19904/./img/results/umap_compare_HSC_TNG50_petro_90_light.png\" alt=\"Fig6.15\" width=\"6%\"/>\n",
       "\n",
       "**Figure 6. -** ** How well do the representations of the observed and simulated galaxy images align to each other?** We compare the distributions of TNG50/100 and HSC images in the corresponding 2D-UMAP mapping of the 256-dimensional representations. In the uppermost panel we show KDE density plots of TNG100 (TNG50) images in blue (orange). Additionally the HSC sets that are matched against TNG100/TNG50, respectively, are shown in light blue/orange in two additional plots. We see that there is a large overlap among the three sets but also a slight offset and differences in point density.\n",
       "    In the lower two panels we further investigate the offset in a visual way: we show the 2D hexbins of the UMAPs coloured bin-wise according to the median value of the three common properties used for the galaxy-sample matching: from left to right, redshift, i-band magnitude, Petrosian radius. In each row we show one of the datasets: from top to bottom, TNG100, HSC matched to TNG100, TNG50, HSC matched to TNG50. We also include the contours covering 80 per cent of the datasets from the uppermost panel: TNG100 in blue, TNG50 in orange and in light orange/light blue the subsets of HSC matched to TNG50/TNG100. (*fig:kde_umap_compare*)\n",
       "\n",
       "</div>\n",
       "<div id=\"div_fig2\">\n",
       "\n",
       "<img src=\"tmp_2310.19904/./img/results/TNG100_mass.png\" alt=\"Fig3.1\" width=\"12%\"/><img src=\"tmp_2310.19904/./img/results/TNG50_mass.png\" alt=\"Fig3.2\" width=\"12%\"/><img src=\"tmp_2310.19904/./img/results/TNG100_color.png\" alt=\"Fig3.3\" width=\"12%\"/><img src=\"tmp_2310.19904/./img/results/TNG50_color.png\" alt=\"Fig3.4\" width=\"12%\"/><img src=\"tmp_2310.19904/./img/results/TNG100_fraction_disk_stars.png\" alt=\"Fig3.5\" width=\"12%\"/><img src=\"tmp_2310.19904/./img/results/TNG50_fraction_disk_stars.png\" alt=\"Fig3.6\" width=\"12%\"/><img src=\"tmp_2310.19904/./img/results/TNG100_half_mass_rad_physical.png\" alt=\"Fig3.7\" width=\"12%\"/><img src=\"tmp_2310.19904/./img/results/TNG50_half_mass_rad_physical.png\" alt=\"Fig3.8\" width=\"12%\"/>\n",
       "\n",
       "**Figure 3. -** ** Are the representations related to observable features?** Each panel shows a 2D hexbin histogram of TNG100 galaxy images (left panels) and TNG50 galaxy images (right panels) in the 2D UMAP parameter space. The UMAP mapping itself was trained using the 256-dimensional representations of TNG50/100 and HSC test galaxies. Note that because of the smaller sample size of TNG50, we choose a larger bin size in the right panels. The bins are coloured according to the median image/galaxy property in each bin. We show from top to bottom, and in the continuation figures: total stellar mass, fraction of disk stars, integrated galaxy colour index (g-r), stellar half-mass radius, Sérsic half-light radius, Sérsic index, Sérsic ellipticity, asymmetry of the light distribution, concentration of the light, smoothness of the light distribution, Gini-M20 bulge parameter and Gini-M20 merger parameter. The UMAP, and therefore the representations upon which it is based, are clearly related to observable properties of the TNG50/100 galaxies. (*fig:tng_umaps*)\n",
       "\n",
       "</div>\n",
       "<div id=\"div_fig3\">\n",
       "\n",
       "<img src=\"tmp_2310.19904/./img/results/images_TNG100.png\" alt=\"Fig7\" width=\"100%\"/>\n",
       "\n",
       "**Figure 7. -** ** What images underlie the UMAP representations?** We align TNG100 galaxy images to their positions in the UMAP representations from Figure \\ref{fig:kde_umap_compare}. For each node on a rectangular grid in 2D UMAP space, we choose the closest data point (i.e. image representation) and plot its corresponding image. As a guideline, we report the contours as in Figure \\ref{fig:kde_umap_compare} covering $80$ per cent of the datasets: TNG100 in blue, TNG50 in orange, and the corresponding HSC matched samples in light blue and light orange. With this visual inspection, we see that the galaxy structures are indeed well grouped together. (*fig:umap_images_TNG100*)\n",
       "\n",
       "</div><div id=\"qrcode\"><img src=https://api.qrserver.com/v1/create-qr-code/?size=100x100&data=\"https://arxiv.org/abs/2310.19904\"></div>"
      ],
      "text/plain": [
       "<IPython.core.display.Markdown object>"
      ]
     },
     "metadata": {},
     "output_type": "display_data"
    }
   ],
   "source": [
    "[display(Markdown(k[1])) for k in documents];"
   ]
  },
  {
   "cell_type": "markdown",
   "id": "873873a4",
   "metadata": {
    "papermill": {
     "duration": 0.007446,
     "end_time": "2023-11-01T04:11:37.027429",
     "exception": false,
     "start_time": "2023-11-01T04:11:37.019983",
     "status": "completed"
    },
    "tags": []
   },
   "source": [
    "# Create HTML index"
   ]
  },
  {
   "cell_type": "code",
   "execution_count": 9,
   "id": "cf665672",
   "metadata": {
    "execution": {
     "iopub.execute_input": "2023-11-01T04:11:37.044460Z",
     "iopub.status.busy": "2023-11-01T04:11:37.043592Z",
     "iopub.status.idle": "2023-11-01T04:11:37.057341Z",
     "shell.execute_reply": "2023-11-01T04:11:37.056459Z"
    },
    "papermill": {
     "duration": 0.024683,
     "end_time": "2023-11-01T04:11:37.059496",
     "exception": false,
     "start_time": "2023-11-01T04:11:37.034813",
     "status": "completed"
    },
    "tags": []
   },
   "outputs": [
    {
     "name": "stdout",
     "output_type": "stream",
     "text": [
      "314  publications files modified in the last 7 days.\n"
     ]
    }
   ],
   "source": [
    "from datetime import datetime, timedelta, timezone\n",
    "from glob import glob\n",
    "import os\n",
    "\n",
    "files = glob('_build/html/*.md')\n",
    "days = 7\n",
    "now = datetime.today()\n",
    "res = []\n",
    "for fk in files:\n",
    "    stat_result = os.stat(fk).st_ctime\n",
    "    modified = datetime.fromtimestamp(stat_result, tz=timezone.utc).replace(tzinfo=None)\n",
    "    delta = now.today() - modified\n",
    "    if delta <= timedelta(days=days):\n",
    "        res.append((delta.seconds, fk))\n",
    "res = [k[1] for k in reversed(sorted(res, key=lambda x:x[1]))]\n",
    "npub = len(res)\n",
    "print(len(res), f\" publications files modified in the last {days:d} days.\")\n",
    "# [ print('\\t', k) for k in res ];"
   ]
  },
  {
   "cell_type": "code",
   "execution_count": 10,
   "id": "015de740",
   "metadata": {
    "execution": {
     "iopub.execute_input": "2023-11-01T04:11:37.076904Z",
     "iopub.status.busy": "2023-11-01T04:11:37.076370Z",
     "iopub.status.idle": "2023-11-01T04:11:37.103288Z",
     "shell.execute_reply": "2023-11-01T04:11:37.102378Z"
    },
    "papermill": {
     "duration": 0.038102,
     "end_time": "2023-11-01T04:11:37.105380",
     "exception": false,
     "start_time": "2023-11-01T04:11:37.067278",
     "status": "completed"
    },
    "tags": []
   },
   "outputs": [
    {
     "name": "stdout",
     "output_type": "stream",
     "text": [
      "6  publications in the last 7 days.\n"
     ]
    }
   ],
   "source": [
    "import datetime\n",
    "from glob import glob\n",
    "\n",
    "def get_last_n_days(lst, days=1):\n",
    "    \"\"\" Get the documents from the last n days \"\"\"\n",
    "    sorted_lst = sorted(lst, key=lambda x: x[1], reverse=True)\n",
    "    for fname, date in sorted_lst:\n",
    "        if date >= str(datetime.date.today() - datetime.timedelta(days=days)):\n",
    "            yield fname\n",
    "\n",
    "def extract_appearance_dates(lst_file):\n",
    "    dates = []\n",
    "\n",
    "    def get_date(line):\n",
    "        return line\\\n",
    "            .split('Appeared on:')[-1]\\\n",
    "            .split('</mark>')[0].strip()\n",
    "\n",
    "    for fname in lst:\n",
    "        with open(fname, 'r') as f:\n",
    "            found_date = False\n",
    "            for line in f:\n",
    "                if not found_date:\n",
    "                    if \"Appeared on\" in line:\n",
    "                        found_date = True\n",
    "                        dates.append((fname, get_date(line)))\n",
    "                else:\n",
    "                    break\n",
    "    return dates\n",
    "\n",
    "from glob import glob\n",
    "lst = glob('_build/html/*md')\n",
    "days = 7\n",
    "dates = extract_appearance_dates(lst)\n",
    "res = list(get_last_n_days(dates, days))\n",
    "npub = len(res)\n",
    "print(len(res), f\" publications in the last {days:d} days.\")"
   ]
  },
  {
   "cell_type": "code",
   "execution_count": 11,
   "id": "52ca0208",
   "metadata": {
    "execution": {
     "iopub.execute_input": "2023-11-01T04:11:37.123680Z",
     "iopub.status.busy": "2023-11-01T04:11:37.123116Z",
     "iopub.status.idle": "2023-11-01T04:11:37.130017Z",
     "shell.execute_reply": "2023-11-01T04:11:37.129294Z"
    },
    "papermill": {
     "duration": 0.018564,
     "end_time": "2023-11-01T04:11:37.132003",
     "exception": false,
     "start_time": "2023-11-01T04:11:37.113439",
     "status": "completed"
    },
    "scrolled": false,
    "tags": []
   },
   "outputs": [],
   "source": [
    "def create_carousel(npub=4):\n",
    "    \"\"\" Generate the HTML code for a carousel with `npub` slides \"\"\"\n",
    "    carousel = [\"\"\"  <div class=\"carousel\" \"\"\",\n",
    "                \"\"\"       data-flickity='{ \"autoPlay\": 10000, \"adaptiveHeight\": true, \"resize\": true, \"wrapAround\": true, \"pauseAutoPlayOnHover\": true, \"groupCells\": 1 }' id=\"asyncTypeset\">\"\"\"\n",
    "                ]\n",
    "    \n",
    "    item_str = \"\"\"    <div class=\"carousel-cell\"> <div id=\"slide{k}\" class=\"md_view\">Content {k}</div> </div>\"\"\"\n",
    "    for k in range(1, npub + 1):\n",
    "        carousel.append(item_str.format(k=k))\n",
    "    carousel.append(\"  </div>\")\n",
    "    return '\\n'.join(carousel)\n",
    "\n",
    "def create_grid(npub=4):\n",
    "    \"\"\" Generate the HTML code for a flat grid with `npub` slides \"\"\"\n",
    "    grid = [\"\"\"  <div class=\"grid\"> \"\"\",\n",
    "                ]\n",
    "    \n",
    "    item_str = \"\"\"    <div class=\"grid-item\"> <div id=\"slide{k}\" class=\"md_view\">Content {k}</div> </div>\"\"\"\n",
    "    for k in range(1, npub + 1):\n",
    "        grid.append(item_str.format(k=k))\n",
    "    grid.append(\"  </div>\")\n",
    "    return '\\n'.join(grid)"
   ]
  },
  {
   "cell_type": "code",
   "execution_count": 12,
   "id": "a6eac5b6",
   "metadata": {
    "execution": {
     "iopub.execute_input": "2023-11-01T04:11:37.150122Z",
     "iopub.status.busy": "2023-11-01T04:11:37.149314Z",
     "iopub.status.idle": "2023-11-01T04:11:37.156378Z",
     "shell.execute_reply": "2023-11-01T04:11:37.155635Z"
    },
    "papermill": {
     "duration": 0.018152,
     "end_time": "2023-11-01T04:11:37.158321",
     "exception": false,
     "start_time": "2023-11-01T04:11:37.140169",
     "status": "completed"
    },
    "scrolled": false,
    "tags": []
   },
   "outputs": [],
   "source": [
    "carousel = create_carousel(npub)\n",
    "docs = ', '.join(['\"{0:s}\"'.format(k.split('/')[-1]) for k in res])\n",
    "slides = ', '.join([f'\"slide{k}\"' for k in range(1, npub + 1)])\n",
    "\n",
    "with open(\"daily_template.html\", \"r\") as tpl:\n",
    "    page = tpl.read()\n",
    "    page = page.replace(\"{%-- carousel:s --%}\", carousel)\\\n",
    "               .replace(\"{%-- suptitle:s --%}\",  \"7-day archives\" )\\\n",
    "               .replace(\"{%-- docs:s --%}\", docs)\\\n",
    "               .replace(\"{%-- slides:s --%}\", slides)\n",
    "    \n",
    "with open(\"_build/html/index_7days.html\", 'w') as fout:\n",
    "    fout.write(page)"
   ]
  },
  {
   "cell_type": "code",
   "execution_count": 13,
   "id": "adc1a1ec",
   "metadata": {
    "execution": {
     "iopub.execute_input": "2023-11-01T04:11:37.175696Z",
     "iopub.status.busy": "2023-11-01T04:11:37.175084Z",
     "iopub.status.idle": "2023-11-01T04:11:37.183966Z",
     "shell.execute_reply": "2023-11-01T04:11:37.183311Z"
    },
    "papermill": {
     "duration": 0.01967,
     "end_time": "2023-11-01T04:11:37.185782",
     "exception": false,
     "start_time": "2023-11-01T04:11:37.166112",
     "status": "completed"
    },
    "tags": []
   },
   "outputs": [
    {
     "name": "stdout",
     "output_type": "stream",
     "text": [
      "4  publications in the last day.\n"
     ]
    }
   ],
   "source": [
    "# redo for today\n",
    "days = 1\n",
    "res = list(get_last_n_days(dates, days))\n",
    "npub = len(res)\n",
    "print(len(res), f\" publications in the last day.\")\n",
    "\n",
    "carousel = create_carousel(npub)\n",
    "docs = ', '.join(['\"{0:s}\"'.format(k.split('/')[-1]) for k in res])\n",
    "slides = ', '.join([f'\"slide{k}\"' for k in range(1, npub + 1)])\n",
    "\n",
    "with open(\"daily_template.html\", \"r\") as tpl:\n",
    "    page = tpl.read()\n",
    "    page = page.replace(\"{%-- carousel:s --%}\", carousel)\\\n",
    "               .replace(\"{%-- suptitle:s --%}\",  \"Daily\" )\\\n",
    "               .replace(\"{%-- docs:s --%}\", docs)\\\n",
    "               .replace(\"{%-- slides:s --%}\", slides)\n",
    "    \n",
    "# print(carousel, docs, slides)\n",
    "# print(page)\n",
    "with open(\"_build/html/index_daily.html\", 'w') as fout:\n",
    "    fout.write(page)"
   ]
  },
  {
   "cell_type": "code",
   "execution_count": 14,
   "id": "00eece82",
   "metadata": {
    "execution": {
     "iopub.execute_input": "2023-11-01T04:11:37.203967Z",
     "iopub.status.busy": "2023-11-01T04:11:37.203127Z",
     "iopub.status.idle": "2023-11-01T04:11:37.212482Z",
     "shell.execute_reply": "2023-11-01T04:11:37.211680Z"
    },
    "papermill": {
     "duration": 0.020639,
     "end_time": "2023-11-01T04:11:37.214421",
     "exception": false,
     "start_time": "2023-11-01T04:11:37.193782",
     "status": "completed"
    },
    "scrolled": false,
    "tags": []
   },
   "outputs": [
    {
     "name": "stdout",
     "output_type": "stream",
     "text": [
      "6  6 publications selected.\n"
     ]
    }
   ],
   "source": [
    "# Create the flat grid of the last N papers (fixed number regardless of dates)\n",
    "from itertools import islice \n",
    "\n",
    "npub = 6\n",
    "res = [k[0] for k in (islice(reversed(sorted(dates, key=lambda x: x[1])), 6))]\n",
    "print(len(res), f\" {npub} publications selected.\")\n",
    "\n",
    "grid = create_grid(npub)\n",
    "docs = ', '.join(['\"{0:s}\"'.format(k.split('/')[-1]) for k in res])\n",
    "slides = ', '.join([f'\"slide{k}\"' for k in range(1, npub + 1)])\n",
    "\n",
    "with open(\"grid_template.html\", \"r\") as tpl:\n",
    "    page = tpl.read()\n",
    "    page = page.replace(\"{%-- grid-content:s --%}\", grid)\\\n",
    "               .replace(\"{%-- suptitle:s --%}\",  f\"Last {npub:,d} papers\" )\\\n",
    "               .replace(\"{%-- docs:s --%}\", docs)\\\n",
    "               .replace(\"{%-- slides:s --%}\", slides)\n",
    "    \n",
    "# print(grid, docs, slides)\n",
    "# print(page)\n",
    "with open(\"_build/html/index_npub_grid.html\", 'w') as fout:\n",
    "    fout.write(page)"
   ]
  }
 ],
 "metadata": {
  "kernelspec": {
   "display_name": "Python 3 (ipykernel)",
   "language": "python",
   "name": "python3"
  },
  "language_info": {
   "codemirror_mode": {
    "name": "ipython",
    "version": 3
   },
   "file_extension": ".py",
   "mimetype": "text/x-python",
   "name": "python",
   "nbconvert_exporter": "python",
   "pygments_lexer": "ipython3",
   "version": "3.9.18"
  },
  "papermill": {
   "default_parameters": {},
   "duration": 224.14143,
   "end_time": "2023-11-01T04:11:37.544469",
   "environment_variables": {},
   "exception": null,
   "input_path": "MPIA daily digest.ipynb",
   "output_path": "log.ipynb",
   "parameters": {},
   "start_time": "2023-11-01T04:07:53.403039",
   "version": "2.4.0"
  },
  "vscode": {
   "interpreter": {
    "hash": "aee8b7b246df8f9039afb4144a1f6fd8d2ca17a180786b69acc140d282b71a49"
   }
  },
  "widgets": {
   "application/vnd.jupyter.widget-state+json": {
    "state": {
     "002d237178e04301b7058ade0e55234e": {
      "model_module": "@jupyter-widgets/controls",
      "model_module_version": "2.0.0",
      "model_name": "ProgressStyleModel",
      "state": {
       "_model_module": "@jupyter-widgets/controls",
       "_model_module_version": "2.0.0",
       "_model_name": "ProgressStyleModel",
       "_view_count": null,
       "_view_module": "@jupyter-widgets/base",
       "_view_module_version": "2.0.0",
       "_view_name": "StyleView",
       "bar_color": null,
       "description_width": ""
      }
     },
     "07ef9594fda14a628dc74b38eba7e9ed": {
      "model_module": "@jupyter-widgets/base",
      "model_module_version": "2.0.0",
      "model_name": "LayoutModel",
      "state": {
       "_model_module": "@jupyter-widgets/base",
       "_model_module_version": "2.0.0",
       "_model_name": "LayoutModel",
       "_view_count": null,
       "_view_module": "@jupyter-widgets/base",
       "_view_module_version": "2.0.0",
       "_view_name": "LayoutView",
       "align_content": null,
       "align_items": null,
       "align_self": null,
       "border_bottom": null,
       "border_left": null,
       "border_right": null,
       "border_top": null,
       "bottom": null,
       "display": null,
       "flex": null,
       "flex_flow": null,
       "grid_area": null,
       "grid_auto_columns": null,
       "grid_auto_flow": null,
       "grid_auto_rows": null,
       "grid_column": null,
       "grid_gap": null,
       "grid_row": null,
       "grid_template_areas": null,
       "grid_template_columns": null,
       "grid_template_rows": null,
       "height": null,
       "justify_content": null,
       "justify_items": null,
       "left": null,
       "margin": null,
       "max_height": null,
       "max_width": null,
       "min_height": null,
       "min_width": null,
       "object_fit": null,
       "object_position": null,
       "order": null,
       "overflow": null,
       "padding": null,
       "right": null,
       "top": null,
       "visibility": null,
       "width": null
      }
     },
     "09a0a47ed847437084befc6b590dcd88": {
      "model_module": "@jupyter-widgets/base",
      "model_module_version": "2.0.0",
      "model_name": "LayoutModel",
      "state": {
       "_model_module": "@jupyter-widgets/base",
       "_model_module_version": "2.0.0",
       "_model_name": "LayoutModel",
       "_view_count": null,
       "_view_module": "@jupyter-widgets/base",
       "_view_module_version": "2.0.0",
       "_view_name": "LayoutView",
       "align_content": null,
       "align_items": null,
       "align_self": null,
       "border_bottom": null,
       "border_left": null,
       "border_right": null,
       "border_top": null,
       "bottom": null,
       "display": null,
       "flex": null,
       "flex_flow": null,
       "grid_area": null,
       "grid_auto_columns": null,
       "grid_auto_flow": null,
       "grid_auto_rows": null,
       "grid_column": null,
       "grid_gap": null,
       "grid_row": null,
       "grid_template_areas": null,
       "grid_template_columns": null,
       "grid_template_rows": null,
       "height": null,
       "justify_content": null,
       "justify_items": null,
       "left": null,
       "margin": null,
       "max_height": null,
       "max_width": null,
       "min_height": null,
       "min_width": null,
       "object_fit": null,
       "object_position": null,
       "order": null,
       "overflow": null,
       "padding": null,
       "right": null,
       "top": null,
       "visibility": null,
       "width": null
      }
     },
     "1ef776817db747099cbe3a0dc3fa6d80": {
      "model_module": "@jupyter-widgets/controls",
      "model_module_version": "2.0.0",
      "model_name": "HTMLStyleModel",
      "state": {
       "_model_module": "@jupyter-widgets/controls",
       "_model_module_version": "2.0.0",
       "_model_name": "HTMLStyleModel",
       "_view_count": null,
       "_view_module": "@jupyter-widgets/base",
       "_view_module_version": "2.0.0",
       "_view_name": "StyleView",
       "background": null,
       "description_width": "",
       "font_size": null,
       "text_color": null
      }
     },
     "223de361019d468c85c275697bd2b2b3": {
      "model_module": "@jupyter-widgets/controls",
      "model_module_version": "2.0.0",
      "model_name": "HTMLStyleModel",
      "state": {
       "_model_module": "@jupyter-widgets/controls",
       "_model_module_version": "2.0.0",
       "_model_name": "HTMLStyleModel",
       "_view_count": null,
       "_view_module": "@jupyter-widgets/base",
       "_view_module_version": "2.0.0",
       "_view_name": "StyleView",
       "background": null,
       "description_width": "",
       "font_size": null,
       "text_color": null
      }
     },
     "28e87197bcaf49c48078fb3d04a2ad4d": {
      "model_module": "@jupyter-widgets/base",
      "model_module_version": "2.0.0",
      "model_name": "LayoutModel",
      "state": {
       "_model_module": "@jupyter-widgets/base",
       "_model_module_version": "2.0.0",
       "_model_name": "LayoutModel",
       "_view_count": null,
       "_view_module": "@jupyter-widgets/base",
       "_view_module_version": "2.0.0",
       "_view_name": "LayoutView",
       "align_content": null,
       "align_items": null,
       "align_self": null,
       "border_bottom": null,
       "border_left": null,
       "border_right": null,
       "border_top": null,
       "bottom": null,
       "display": null,
       "flex": null,
       "flex_flow": null,
       "grid_area": null,
       "grid_auto_columns": null,
       "grid_auto_flow": null,
       "grid_auto_rows": null,
       "grid_column": null,
       "grid_gap": null,
       "grid_row": null,
       "grid_template_areas": null,
       "grid_template_columns": null,
       "grid_template_rows": null,
       "height": null,
       "justify_content": null,
       "justify_items": null,
       "left": null,
       "margin": null,
       "max_height": null,
       "max_width": null,
       "min_height": null,
       "min_width": null,
       "object_fit": null,
       "object_position": null,
       "order": null,
       "overflow": null,
       "padding": null,
       "right": null,
       "top": null,
       "visibility": null,
       "width": null
      }
     },
     "71490f47dfb74dd884b761d111cffe69": {
      "model_module": "@jupyter-widgets/base",
      "model_module_version": "2.0.0",
      "model_name": "LayoutModel",
      "state": {
       "_model_module": "@jupyter-widgets/base",
       "_model_module_version": "2.0.0",
       "_model_name": "LayoutModel",
       "_view_count": null,
       "_view_module": "@jupyter-widgets/base",
       "_view_module_version": "2.0.0",
       "_view_name": "LayoutView",
       "align_content": null,
       "align_items": null,
       "align_self": null,
       "border_bottom": null,
       "border_left": null,
       "border_right": null,
       "border_top": null,
       "bottom": null,
       "display": null,
       "flex": null,
       "flex_flow": null,
       "grid_area": null,
       "grid_auto_columns": null,
       "grid_auto_flow": null,
       "grid_auto_rows": null,
       "grid_column": null,
       "grid_gap": null,
       "grid_row": null,
       "grid_template_areas": null,
       "grid_template_columns": null,
       "grid_template_rows": null,
       "height": null,
       "justify_content": null,
       "justify_items": null,
       "left": null,
       "margin": null,
       "max_height": null,
       "max_width": null,
       "min_height": null,
       "min_width": null,
       "object_fit": null,
       "object_position": null,
       "order": null,
       "overflow": null,
       "padding": null,
       "right": null,
       "top": null,
       "visibility": null,
       "width": null
      }
     },
     "8303414534f448dfb5d64d5e08999579": {
      "model_module": "@jupyter-widgets/controls",
      "model_module_version": "2.0.0",
      "model_name": "HBoxModel",
      "state": {
       "_dom_classes": [],
       "_model_module": "@jupyter-widgets/controls",
       "_model_module_version": "2.0.0",
       "_model_name": "HBoxModel",
       "_view_count": null,
       "_view_module": "@jupyter-widgets/controls",
       "_view_module_version": "2.0.0",
       "_view_name": "HBoxView",
       "box_style": "",
       "children": [
        "IPY_MODEL_eae6561da02947f9a632719d2b5d7efc",
        "IPY_MODEL_8976de3489bf4998ba6cc6717f743b7b",
        "IPY_MODEL_c75337a8ccb342ab843a32747ac51012"
       ],
       "layout": "IPY_MODEL_71490f47dfb74dd884b761d111cffe69",
       "tabbable": null,
       "tooltip": null
      }
     },
     "8976de3489bf4998ba6cc6717f743b7b": {
      "model_module": "@jupyter-widgets/controls",
      "model_module_version": "2.0.0",
      "model_name": "FloatProgressModel",
      "state": {
       "_dom_classes": [],
       "_model_module": "@jupyter-widgets/controls",
       "_model_module_version": "2.0.0",
       "_model_name": "FloatProgressModel",
       "_view_count": null,
       "_view_module": "@jupyter-widgets/controls",
       "_view_module_version": "2.0.0",
       "_view_name": "ProgressView",
       "bar_style": "success",
       "description": "",
       "description_allow_html": false,
       "layout": "IPY_MODEL_28e87197bcaf49c48078fb3d04a2ad4d",
       "max": 6.0,
       "min": 0.0,
       "orientation": "horizontal",
       "style": "IPY_MODEL_002d237178e04301b7058ade0e55234e",
       "tabbable": null,
       "tooltip": null,
       "value": 6.0
      }
     },
     "c75337a8ccb342ab843a32747ac51012": {
      "model_module": "@jupyter-widgets/controls",
      "model_module_version": "2.0.0",
      "model_name": "HTMLModel",
      "state": {
       "_dom_classes": [],
       "_model_module": "@jupyter-widgets/controls",
       "_model_module_version": "2.0.0",
       "_model_name": "HTMLModel",
       "_view_count": null,
       "_view_module": "@jupyter-widgets/controls",
       "_view_module_version": "2.0.0",
       "_view_name": "HTMLView",
       "description": "",
       "description_allow_html": false,
       "layout": "IPY_MODEL_09a0a47ed847437084befc6b590dcd88",
       "placeholder": "​",
       "style": "IPY_MODEL_223de361019d468c85c275697bd2b2b3",
       "tabbable": null,
       "tooltip": null,
       "value": " 6/6 [02:29&lt;00:00, 11.82s/it]"
      }
     },
     "eae6561da02947f9a632719d2b5d7efc": {
      "model_module": "@jupyter-widgets/controls",
      "model_module_version": "2.0.0",
      "model_name": "HTMLModel",
      "state": {
       "_dom_classes": [],
       "_model_module": "@jupyter-widgets/controls",
       "_model_module_version": "2.0.0",
       "_model_name": "HTMLModel",
       "_view_count": null,
       "_view_module": "@jupyter-widgets/controls",
       "_view_module_version": "2.0.0",
       "_view_name": "HTMLView",
       "description": "",
       "description_allow_html": false,
       "layout": "IPY_MODEL_07ef9594fda14a628dc74b38eba7e9ed",
       "placeholder": "​",
       "style": "IPY_MODEL_1ef776817db747099cbe3a0dc3fa6d80",
       "tabbable": null,
       "tooltip": null,
       "value": "100%"
      }
     }
    },
    "version_major": 2,
    "version_minor": 0
   }
  }
 },
 "nbformat": 4,
 "nbformat_minor": 5
}