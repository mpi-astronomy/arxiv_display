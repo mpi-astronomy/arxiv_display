{
 "cells": [
  {
   "cell_type": "markdown",
   "id": "92bcb855",
   "metadata": {
    "papermill": {
     "duration": 0.00394,
     "end_time": "2024-08-23T04:09:57.382298",
     "exception": false,
     "start_time": "2024-08-23T04:09:57.378358",
     "status": "completed"
    },
    "tags": []
   },
   "source": [
    "# MPIA Arxiv on Deck 2\n",
    "\n",
    "Contains the steps to produce the paper extractions."
   ]
  },
  {
   "cell_type": "code",
   "execution_count": 1,
   "id": "3a0d6e11",
   "metadata": {
    "execution": {
     "iopub.execute_input": "2024-08-23T04:09:57.390728Z",
     "iopub.status.busy": "2024-08-23T04:09:57.390242Z",
     "iopub.status.idle": "2024-08-23T04:09:57.720624Z",
     "shell.execute_reply": "2024-08-23T04:09:57.719951Z"
    },
    "papermill": {
     "duration": 0.335779,
     "end_time": "2024-08-23T04:09:57.722361",
     "exception": false,
     "start_time": "2024-08-23T04:09:57.386582",
     "status": "completed"
    },
    "tags": []
   },
   "outputs": [],
   "source": [
    "# Imports\n",
    "import os\n",
    "from IPython.display import Markdown, display\n",
    "from tqdm.notebook import tqdm\n",
    "import warnings\n",
    "from PIL import Image \n",
    "\n",
    "# requires arxiv_on_deck_2\n",
    "\n",
    "from arxiv_on_deck_2.arxiv2 import (get_new_papers, \n",
    "                                    get_paper_from_identifier,\n",
    "                                    retrieve_document_source, \n",
    "                                    get_markdown_badge)\n",
    "from arxiv_on_deck_2 import (latex,\n",
    "                             latex_bib,\n",
    "                             mpia,\n",
    "                             highlight_authors_in_list)\n",
    "\n",
    "# Sometimes images are really big\n",
    "Image.MAX_IMAGE_PIXELS = 1000000000 "
   ]
  },
  {
   "cell_type": "code",
   "execution_count": 2,
   "id": "22aa9d44",
   "metadata": {
    "execution": {
     "iopub.execute_input": "2024-08-23T04:09:57.729711Z",
     "iopub.status.busy": "2024-08-23T04:09:57.729317Z",
     "iopub.status.idle": "2024-08-23T04:09:57.734117Z",
     "shell.execute_reply": "2024-08-23T04:09:57.733559Z"
    },
    "papermill": {
     "duration": 0.009846,
     "end_time": "2024-08-23T04:09:57.735466",
     "exception": false,
     "start_time": "2024-08-23T04:09:57.725620",
     "status": "completed"
    },
    "tags": []
   },
   "outputs": [],
   "source": [
    "# Some useful definitions.\n",
    "\n",
    "class AffiliationWarning(UserWarning):\n",
    "    pass\n",
    "\n",
    "class AffiliationError(RuntimeError):\n",
    "    pass\n",
    "\n",
    "def validation(source: str):\n",
    "    \"\"\"Raises error paper during parsing of source file\n",
    "    \n",
    "    Allows checks before parsing TeX code.\n",
    "    \n",
    "    Raises AffiliationWarning\n",
    "    \"\"\"\n",
    "    check = mpia.affiliation_verifications(source, verbose=True)\n",
    "    if check is not True:\n",
    "        raise AffiliationError(\"mpia.affiliation_verifications: \" + check)\n",
    "\n",
    "        \n",
    "warnings.simplefilter('always', AffiliationWarning)\n",
    "\n",
    "\n",
    "def get_markdown_qrcode(paper_id: str):\n",
    "    \"\"\" Generate a qrcode to the arxiv page using qrserver.com\n",
    "    \n",
    "    :param paper: Arxiv paper\n",
    "    :returns: markdown text\n",
    "    \"\"\"\n",
    "    url = r\"https://api.qrserver.com/v1/create-qr-code/?size=100x100&data=\"\n",
    "    txt = f\"\"\"<img src={url}\"https://arxiv.org/abs/{paper_id}\">\"\"\"\n",
    "    txt = '<div id=\"qrcode\">' + txt + '</div>'\n",
    "    return txt"
   ]
  },
  {
   "cell_type": "markdown",
   "id": "14bd6310",
   "metadata": {
    "papermill": {
     "duration": 0.002849,
     "end_time": "2024-08-23T04:09:57.741467",
     "exception": false,
     "start_time": "2024-08-23T04:09:57.738618",
     "status": "completed"
    },
    "tags": []
   },
   "source": [
    "## get list of arxiv paper candidates\n",
    "\n",
    "We use the MPIA mitarbeiter list webpage from mpia.de to get author names\n",
    "We then get all new papers from Arxiv and match authors"
   ]
  },
  {
   "cell_type": "code",
   "execution_count": 3,
   "id": "7ea813a8",
   "metadata": {
    "execution": {
     "iopub.execute_input": "2024-08-23T04:09:57.748428Z",
     "iopub.status.busy": "2024-08-23T04:09:57.748004Z",
     "iopub.status.idle": "2024-08-23T04:10:17.642297Z",
     "shell.execute_reply": "2024-08-23T04:10:17.641686Z"
    },
    "papermill": {
     "duration": 19.899552,
     "end_time": "2024-08-23T04:10:17.643949",
     "exception": false,
     "start_time": "2024-08-23T04:09:57.744397",
     "status": "completed"
    },
    "tags": []
   },
   "outputs": [],
   "source": [
    "# deal with the author list and edge cases of people that cannot be consistent on their name  \n",
    "\n",
    "def filter_non_scientists(name: str) -> bool:\n",
    "    \"\"\" Loose filter on expected authorships\n",
    "\n",
    "    removing IT, administration, technical staff\n",
    "    :param name: name\n",
    "    :returns: False if name is not a scientist\n",
    "    \"\"\"\n",
    "    remove_list = ['Wolf', 'Licht', 'Binroth', 'Witzel', 'Jordan',\n",
    "                   'Zähringer', 'Scheerer', 'Hoffmann', 'Düe',\n",
    "                   'Hellmich', 'Enkler-Scharpegge', 'Witte-Nguy',\n",
    "                   'Dehen', 'Beckmann', 'Jager', 'Jäger'\n",
    "                  ]\n",
    "\n",
    "    for k in remove_list:\n",
    "        if k in name:\n",
    "            return False\n",
    "    return True\n",
    "\n",
    "def add_author_to_list(author_list: list) -> list:\n",
    "    \"\"\" Add author to list if not already in list\n",
    "    \n",
    "    :param author: author name\n",
    "    :param author_list: list of authors\n",
    "    :returns: updated list of authors\n",
    "    \"\"\"\n",
    "    add_list = ['T. Henning']\n",
    "\n",
    "    for author in add_list:\n",
    "        if author not in author_list:\n",
    "            author_list.append(author)\n",
    "    return author_list\n",
    "\n",
    "# get list from MPIA website\n",
    "# filter for non-scientists (mpia.get_mpia_mitarbeiter_list() does some filtering)\n",
    "mpia_authors = [k[1] for k in mpia.get_mpia_mitarbeiter_list() if filter_non_scientists(k[1])]\n",
    "# add some missing author because of inconsistencies in their MPIA name and author name on papers\n",
    "mpia_authors = add_author_to_list(mpia_authors)"
   ]
  },
  {
   "cell_type": "code",
   "execution_count": 4,
   "id": "2645e73a",
   "metadata": {
    "execution": {
     "iopub.execute_input": "2024-08-23T04:10:17.651304Z",
     "iopub.status.busy": "2024-08-23T04:10:17.650977Z",
     "iopub.status.idle": "2024-08-23T04:10:18.211296Z",
     "shell.execute_reply": "2024-08-23T04:10:18.210644Z"
    },
    "papermill": {
     "duration": 0.565522,
     "end_time": "2024-08-23T04:10:18.212690",
     "exception": false,
     "start_time": "2024-08-23T04:10:17.647168",
     "status": "completed"
    },
    "tags": []
   },
   "outputs": [
    {
     "name": "stdout",
     "output_type": "stream",
     "text": [
      "J. Liu  ->  J. Liu  |  ['J. Liu']\n",
      "M. Benisty  ->  M. Benisty  |  ['M. Benisty']\n",
      "Y. Khusanova  ->  Y. Khusanova  |  ['Y. Khusanova']\n",
      "F. Walter  ->  F. Walter  |  ['F. Walter']\n",
      "M. Ramirez  ->  M. Ramirez-Tannus  |  ['M. Ramirez']\n",
      "Arxiv has 50 new papers today\n",
      "          4 with possible author matches\n"
     ]
    }
   ],
   "source": [
    "new_papers = get_new_papers()\n",
    "# add manual references\n",
    "add_paper_refs = []\n",
    "new_papers.extend([get_paper_from_identifier(k) for k in add_paper_refs])\n",
    "\n",
    "candidates = []\n",
    "for paperk in new_papers:\n",
    "    # Check author list with their initials\n",
    "    normed_author_list = [mpia.get_initials(k) for k in paperk['authors']]\n",
    "    hl_authors = highlight_authors_in_list(normed_author_list, mpia_authors, verbose=True)\n",
    "    matches = [(hl, orig) for hl, orig in zip(hl_authors, paperk['authors']) if 'mark' in hl]\n",
    "    paperk['authors'] = hl_authors\n",
    "    if matches:\n",
    "        # only select paper if an author matched our list\n",
    "        candidates.append(paperk)\n",
    "print(\"\"\"Arxiv has {0:,d} new papers today\"\"\".format(len(new_papers)))        \n",
    "print(\"\"\"          {0:,d} with possible author matches\"\"\".format(len(candidates)))"
   ]
  },
  {
   "cell_type": "markdown",
   "id": "3543b34a",
   "metadata": {
    "papermill": {
     "duration": 0.003028,
     "end_time": "2024-08-23T04:10:18.219925",
     "exception": false,
     "start_time": "2024-08-23T04:10:18.216897",
     "status": "completed"
    },
    "tags": []
   },
   "source": [
    "# Parse sources and generate relevant outputs\n",
    "\n",
    "From the candidates, we do the following steps:\n",
    "* get their tarball from ArXiv (and extract data)\n",
    "* find the main .tex file: find one with \\documentclass{...} (sometimes it's non trivial)\n",
    "* Check affiliations with :func:`validation`, which uses :func:`mpia.affiliation_verifications`\n",
    "* If passing the affiliations: we parse the .tex source\n",
    "   * inject sub-documents into the main (flatten the main document)\n",
    "   * parse structure, extract information (title, abstract, authors, figures...)\n",
    "   * handles `\\graphicspath` if provided\n",
    "* Generate the .md document."
   ]
  },
  {
   "cell_type": "code",
   "execution_count": 5,
   "id": "9576b79e",
   "metadata": {
    "execution": {
     "iopub.execute_input": "2024-08-23T04:10:18.227075Z",
     "iopub.status.busy": "2024-08-23T04:10:18.226702Z",
     "iopub.status.idle": "2024-08-23T04:10:29.203534Z",
     "shell.execute_reply": "2024-08-23T04:10:29.202739Z"
    },
    "papermill": {
     "duration": 10.983435,
     "end_time": "2024-08-23T04:10:29.206345",
     "exception": false,
     "start_time": "2024-08-23T04:10:18.222910",
     "status": "completed"
    },
    "scrolled": false,
    "tags": []
   },
   "outputs": [
    {
     "data": {
      "application/vnd.jupyter.widget-view+json": {
       "model_id": "446cba6349394857912a52d157325a7d",
       "version_major": 2,
       "version_minor": 0
      },
      "text/plain": [
       "  0%|          | 0/4 [00:00<?, ?it/s]"
      ]
     },
     "metadata": {},
     "output_type": "display_data"
    },
    {
     "name": "stdout",
     "output_type": "stream",
     "text": [
      "Retrieving document from  https://arxiv.org/e-print/2408.12104\n"
     ]
    },
    {
     "name": "stdout",
     "output_type": "stream",
     "text": [
      "extracting tarball to tmp_2408.12104..."
     ]
    },
    {
     "name": "stdout",
     "output_type": "stream",
     "text": [
      " done.\n",
      "Retrieving document from  https://arxiv.org/e-print/2408.12233\n"
     ]
    },
    {
     "name": "stderr",
     "output_type": "stream",
     "text": [
      "/opt/hostedtoolcache/Python/3.9.19/x64/lib/python3.9/site-packages/IPython/core/interactiveshell.py:3550: LatexWarning: Multiple tex files.\n",
      "\n",
      "  exec(code_obj, self.user_global_ns, self.user_ns)\n",
      "/tmp/ipykernel_2715/1211882699.py:51: LatexWarning: 2408.12104 did not run properly\n",
      "'PosixPath' object is not subscriptable\n",
      "  warnings.warn(latex.LatexWarning(f\"{paper_id:s} did not run properly\\n\" +\n"
     ]
    },
    {
     "name": "stdout",
     "output_type": "stream",
     "text": [
      "extracting tarball to tmp_2408.12233..."
     ]
    },
    {
     "name": "stdout",
     "output_type": "stream",
     "text": [
      " done.\n",
      "Retrieving document from  https://arxiv.org/e-print/2408.12299\n"
     ]
    },
    {
     "name": "stdout",
     "output_type": "stream",
     "text": [
      "extracting tarball to tmp_2408.12299..."
     ]
    },
    {
     "name": "stdout",
     "output_type": "stream",
     "text": [
      " done.\n"
     ]
    },
    {
     "name": "stdout",
     "output_type": "stream",
     "text": [
      "Y. Khusanova  ->  Y. Khusanova  |  ['Y. Khusanova']\n",
      "F. Walter  ->  F. Walter  |  ['F. Walter']\n"
     ]
    },
    {
     "name": "stdout",
     "output_type": "stream",
     "text": [
      "Found 44 bibliographic references in tmp_2408.12299/sample631.bbl.\n",
      "Retrieving document from  https://arxiv.org/e-print/2408.12393\n",
      "extracting tarball to tmp_2408.12393..."
     ]
    },
    {
     "name": "stdout",
     "output_type": "stream",
     "text": [
      " done.\n"
     ]
    },
    {
     "name": "stderr",
     "output_type": "stream",
     "text": [
      "/opt/hostedtoolcache/Python/3.9.19/x64/lib/python3.9/site-packages/IPython/core/interactiveshell.py:3550: LatexWarning: Multiple tex files.\n",
      "\n",
      "  exec(code_obj, self.user_global_ns, self.user_ns)\n",
      "/tmp/ipykernel_2715/1211882699.py:51: LatexWarning: 2408.12393 did not run properly\n",
      "'PosixPath' object is not subscriptable\n",
      "  warnings.warn(latex.LatexWarning(f\"{paper_id:s} did not run properly\\n\" +\n"
     ]
    }
   ],
   "source": [
    "documents = []\n",
    "failed = []\n",
    "for paper in tqdm(candidates):\n",
    "    # debug crap\n",
    "    paper['identifier'] = paper['identifier'].lower().replace('arxiv:', '').replace(r'\\n', '').strip()\n",
    "    paper_id = paper['identifier']\n",
    "    \n",
    "    folder = f'tmp_{paper_id}'\n",
    "\n",
    "    try:\n",
    "        if not os.path.isdir(folder):\n",
    "            folder = retrieve_document_source(f\"{paper_id}\", f'tmp_{paper_id}')\n",
    "        \n",
    "        try:\n",
    "            doc = latex.LatexDocument(folder, validation=validation)    \n",
    "        except AffiliationError as affilerror:\n",
    "            msg = f\"ArXiv:{paper_id:s} is not an MPIA paper... \" + str(affilerror)\n",
    "            failed.append((paper, \"affiliation error: \" + str(affilerror) ))\n",
    "            continue\n",
    "        \n",
    "        # Hack because sometimes author parsing does not work well\n",
    "        if (len(doc.authors) != len(paper['authors'])):\n",
    "            doc._authors = paper['authors']\n",
    "        else:\n",
    "            # highlight authors (FIXME: doc.highlight_authors)\n",
    "            # done on arxiv paper already\n",
    "            doc._authors = highlight_authors_in_list(\n",
    "                [mpia.get_initials(k) for k in doc.authors], \n",
    "                mpia_authors, verbose=True)\n",
    "        if (doc.abstract) in (None, ''):\n",
    "            doc._abstract = paper['abstract']\n",
    "            \n",
    "        doc.comment = (get_markdown_badge(paper_id) + \n",
    "                       \"<mark>Appeared on: \" + paper['date'] + \"</mark> - \")\n",
    "        if paper['comments']:\n",
    "            doc.comment += \" _\" + paper['comments'] + \"_\"\n",
    "        \n",
    "        full_md = doc.generate_markdown_text()\n",
    "        \n",
    "        full_md += get_markdown_qrcode(paper_id)\n",
    "        \n",
    "        # replace citations\n",
    "        try:\n",
    "            bibdata = latex_bib.LatexBib.from_doc(doc)\n",
    "            full_md = latex_bib.replace_citations(full_md, bibdata)\n",
    "        except Exception as e:\n",
    "            print(e)\n",
    "        \n",
    "        documents.append((paper_id, full_md))\n",
    "    except Exception as e:\n",
    "        warnings.warn(latex.LatexWarning(f\"{paper_id:s} did not run properly\\n\" +\n",
    "                                         str(e)\n",
    "                                        ))\n",
    "        failed.append((paper, \"latex error \" + str(e)))"
   ]
  },
  {
   "cell_type": "markdown",
   "id": "2505a25c",
   "metadata": {
    "papermill": {
     "duration": 0.004011,
     "end_time": "2024-08-23T04:10:29.214566",
     "exception": false,
     "start_time": "2024-08-23T04:10:29.210555",
     "status": "completed"
    },
    "tags": []
   },
   "source": [
    "### Export the logs\n",
    "\n",
    "Throughout, we also keep track of the logs per paper. see `logs-{today date}.md` "
   ]
  },
  {
   "cell_type": "code",
   "execution_count": 6,
   "id": "d733828a",
   "metadata": {
    "execution": {
     "iopub.execute_input": "2024-08-23T04:10:29.224199Z",
     "iopub.status.busy": "2024-08-23T04:10:29.223611Z",
     "iopub.status.idle": "2024-08-23T04:10:29.242011Z",
     "shell.execute_reply": "2024-08-23T04:10:29.241375Z"
    },
    "papermill": {
     "duration": 0.024908,
     "end_time": "2024-08-23T04:10:29.243454",
     "exception": false,
     "start_time": "2024-08-23T04:10:29.218546",
     "status": "completed"
    },
    "scrolled": false,
    "tags": []
   },
   "outputs": [
    {
     "data": {
      "text/markdown": [
       "## Successful papers"
      ],
      "text/plain": [
       "<IPython.core.display.Markdown object>"
      ]
     },
     "metadata": {},
     "output_type": "display_data"
    },
    {
     "data": {
      "text/markdown": [
       "\n",
       "|||\n",
       "|---:|:---|\n",
       "| [![arXiv](https://img.shields.io/badge/arXiv-2408.12299-b31b1b.svg)](https://arxiv.org/abs/2408.12299) | **Far-Infrared and [CII] observations of a z=7 blazar**  |\n",
       "|| E. Banados, et al. -- incl., <mark>Y. Khusanova</mark>, <mark>F. Walter</mark> |\n",
       "|*Appeared on*| *2024-08-23*|\n",
       "|*Comments*| *Version after addressing referee report. See also companion paper: arXiv:2407.07236*|\n",
       "|**Abstract**|            We present millimeter observations of the host galaxy of the most distant blazar known, VLASSJ041009.05-013919.88 (hereafter J0410-0139) at z=7, using ALMA and NOEMA observations. The ALMA data reveal a 2e42 erg/s [CII] 158um emission line at z=6.9964 with a [CII]-inferred star-formation rate of 58 Msun/yr. We estimate a dynamical mass of 4.6e9 Msun, implying a black hole mass to host a dynamical mass ratio of 0.15. The 238 GHz continuum (rest-frame IR) decreased by ~33% from the NOEMA to the ALMA observations taken ~10 months apart. The VLA 3-10 GHz radio flux densities showed a ~37% decrease in a similar time frame, suggesting a causal connection. At face value, J0410-0139 would have the lowest [CII]-to-IR luminosity ratio of a z>5.7 quasar reported to date (~1e-4). However, if only <20% of the measured IR luminosity were due to thermal emission from dust, the [CII]-to-IR luminosity ratio would be typical of (U)LIRGS, and the star formation rates derived from [CII] and IR luminosities would be consistent. These results provide further evidence that synchrotron emission significantly contributes to the observed rest-frame IR emission of J0410-0139, similar to what has been reported in some radio-loud AGN at z<1.         |"
      ],
      "text/plain": [
       "[2408.12299] Far-Infrared and [CII] observations of a z=7 blazar\n",
       "\tE. Banados, et al. -- incl., <mark>Y. Khusanova</mark>, <mark>F. Walter</mark>"
      ]
     },
     "metadata": {},
     "output_type": "display_data"
    },
    {
     "data": {
      "text/markdown": [
       "## Failed papers"
      ],
      "text/plain": [
       "<IPython.core.display.Markdown object>"
      ]
     },
     "metadata": {},
     "output_type": "display_data"
    },
    {
     "data": {
      "text/markdown": [
       "\n",
       "|||\n",
       "|---:|:---|\n",
       "| [![arXiv](https://img.shields.io/badge/arXiv-2408.12233-b31b1b.svg)](https://arxiv.org/abs/2408.12233) | **Gas dynamics around a Jupiter-mass planet I. Influence of protoplanetary disk properties**  |\n",
       "|| E. Lega, et al. -- incl., <mark>M. Benisty</mark> |\n",
       "|*Appeared on*| *2024-08-23*|\n",
       "|*Comments*| *17 pages, 11 figures*|\n",
       "|**Abstract**|            Giant planets grow and acquire their gas envelope during the disk phase. At the time of the discovery of giant planets in their host disk, it is important to understand the interplay between the host disk and the envelope and circum-planetary disk properties of the planet. Our aim is to investigate the dynamical and physical structure of the gas in the vicinity of a Jupiter-mass planet and study how protoplanetary disk propertiesy, determine the planetary system as well as the accretion rate inside the planet's Hill sphere.We ran global 3D simulations with the grid-based code fargOCA, using a fully radiative equation of state and a dust-to-gas ratio of 0.01. We explored three models. The nominal one features a disk with surface density, Sigma, corresponding to the MMSN at the planet's location, characterised by an alpha viscosity value of 0.004. The second model has a surface density ten times smaller than the nominal one and the same viscosity. In the third model, we also reduced the viscosity value by a factor of 10. During gap formation gas is heated by compression and cools according to opacity, density, and temperature values. In the analysis of our disks, we find that the gas flowing into the Hill sphere is approximately scaled as the product Sigma nu , as expected from viscous transport while The accretion rate is scaled as sqrt(Sigma nu ).Previous studies have shown that pressure or rotationally supported structures are formed around giant planets, depending on the equation of state (EoS) or on the opacity. In the case of a fully radiative EoS and a constant dust to gas ratio of 0.01, we find that low-mass and low-viscosity circum-stellar disks favour the formation of a rotationally supported circum-planetary disk. Gas accretion leading to the doubling time of the planetary system >10^5 years has only been found in the case of a low-viscosity disk.         |\n",
       "|<p style=\"color:green\"> **ERROR** </p>| <p style=\"color:green\">affiliation error: mpia.affiliation_verifications: 'Heidelberg' keyword not found.</p> |"
      ],
      "text/plain": [
       "<IPython.core.display.Markdown object>"
      ]
     },
     "metadata": {},
     "output_type": "display_data"
    },
    {
     "data": {
      "text/markdown": [
       "\n",
       "|||\n",
       "|---:|:---|\n",
       "| [![arXiv](https://img.shields.io/badge/arXiv-2408.12104-b31b1b.svg)](https://arxiv.org/abs/2408.12104) | **Minute-Cadence Observations of the LAMOST Fields with the TMTS: IV -- Catalog of Cataclysmic Variables from the First 3-yr Survey**  |\n",
       "|| Q. Liu, et al. -- incl., <mark>J. Liu</mark> |\n",
       "|*Appeared on*| *2024-08-23*|\n",
       "|*Comments*| *27 pages, 12 figures in main text, accepted for the publication in Universe*|\n",
       "|**Abstract**|            The Tsinghua University--Ma Huateng Telescopes for Survey (TMTS) started to monitor the LAMOST plates in 2020, leading to the discovery of numerous short-period eclipsing binaries, peculiar pulsators, flare stars, and other variable objects. Here, we present the uninterrupted light curves for a sample of 64 cataclysmic variables (CVs) observed/discovered using the TMTS during its first three-year observations, and we introduce new CVs and new light-variation periods (from known CVs) revealed through the TMTS observations. Thanks to the high-cadence observations of TMTS, diverse light variations, including superhumps, quasi-periodic oscillations, large-amplitude orbital modulations, and rotational modulations, are able to be detected in our CV samples, providing key observational clues for understanding the fast-developing physical processes in various CVs. All of these short-timescale light-curve features help further classify the subtypes of CV systems. We highlight the light-curve features observed in our CV sample and discuss further implications of minute-cadence light curves for CV identifications and classifications. Moreover, we examine the H$\\alpha$ emission lines in the spectra from our nonmagnetic CV samples (i.e., dwarf novae and nova-like subclasses) and find that the distribution of H$\\alpha$ emission strength shows significant differences between the sources with orbital periods above and below the period gap, which agrees with the trend seen from the SDSS nonmagnetic CV sample.         |\n",
       "|<p style=\"color:red\"> **ERROR** </p>| <p style=\"color:red\">latex error 'PosixPath' object is not subscriptable</p> |"
      ],
      "text/plain": [
       "<IPython.core.display.Markdown object>"
      ]
     },
     "metadata": {},
     "output_type": "display_data"
    },
    {
     "data": {
      "text/markdown": [
       "\n",
       "|||\n",
       "|---:|:---|\n",
       "| [![arXiv](https://img.shields.io/badge/arXiv-2408.12393-b31b1b.svg)](https://arxiv.org/abs/2408.12393) | **Massive stars exploding in a He-rich circumstellar medium $-$ X. Flash spectral features in the Type Ibn SN 2019cj and observations of SN 2018jmt**  |\n",
       "|| Z.-Y. Wang, et al. -- incl., <mark>M. Ramirez</mark> |\n",
       "|*Appeared on*| *2024-08-23*|\n",
       "|*Comments*| *28 pages, 19 figures, Accepted for publication in Astronomy & Astrophysics*|\n",
       "|**Abstract**|            We present optical and near-infrared observations of two Type Ibn supernovae (SNe), SN 2018jmt and SN 2019cj. Their light curves have rise times of about 10 days, reaching an absolute peak magnitude of $M_g$(SN 2018jmt) = $-$19.07 $\\pm$ 0.37 and $M_V$(SN 2019cj) = $-$18.94 $\\pm$ 0.19 mag, respectively. The early-time spectra of SN 2018jmt are dominated by a blue continuum, accompanied by narrow (600$-$1000 km~s$^{-1}$) He I lines with P-Cygni profile. At later epochs, the spectra become more similar to those of the prototypical SN Ibn 2006jc. At early phases, the spectra of SN 2019cj show flash ionisation emission lines of C III, N III and He II superposed on a blue continuum. These features disappear after a few days, and then the spectra of SN 2019cj evolve similarly to those of SN 2018jmt. The spectra indicate that the two SNe exploded within a He-rich circumstellar medium (CSM) lost by the progenitors a short time before the explosion. We model the light curves of the two SNe Ibn to constrain the progenitor and the explosion parameters. The ejecta masses are consistent with either that expected for a canonical SN Ib ($\\sim$ 2 M$_{\\odot}$) or those from a massive WR star ($>$ $\\sim$ 4 M$_{\\odot}$), with the kinetic energy on the order of $10^{51}$ erg. The lower limit on the ejecta mass ($>$ $\\sim$ 2 M$_{\\odot}$) argues against a scenario involving a relatively low-mass progenitor (e.g., $M_{ZAMS}$ $\\sim$ 10 M$_{\\odot}$). We set a conservative upper limit of $\\sim$0.1 M$_{\\odot}$ for the $^{56}$Ni masses in both SNe. From the light curve modelling, we determine a two-zone CSM distribution, with an inner, flat CSM component, and an outer CSM with a steeper density profile. The physical properties of SN 2018jmt and SN 2019cj are consistent with those expected from the core collapse of relatively massive, stripped-envelope (SE) stars.         |\n",
       "|<p style=\"color:red\"> **ERROR** </p>| <p style=\"color:red\">latex error 'PosixPath' object is not subscriptable</p> |"
      ],
      "text/plain": [
       "<IPython.core.display.Markdown object>"
      ]
     },
     "metadata": {},
     "output_type": "display_data"
    }
   ],
   "source": [
    "import datetime\n",
    "today = str(datetime.date.today())\n",
    "logfile = f\"_build/html/logs/log-{today}.md\"\n",
    "\n",
    "\n",
    "with open(logfile, 'w') as logs:\n",
    "    # Success\n",
    "    logs.write(f'# Arxiv on Deck 2: Logs - {today}\\n\\n')\n",
    "    logs.write(\"\"\"* Arxiv had {0:,d} new papers\\n\"\"\".format(len(new_papers)))\n",
    "    logs.write(\"\"\"    * {0:,d} with possible author matches\\n\\n\"\"\".format(len(candidates)))\n",
    "    logs.write(\"## Sucessful papers\\n\\n\")\n",
    "    display(Markdown(\"## Successful papers\"))\n",
    "    success = [k[0] for k in documents]\n",
    "    for candid in candidates:\n",
    "        if candid['identifier'].split(':')[-1] in success:\n",
    "            display(candid)\n",
    "            logs.write(candid.generate_markdown_text() + '\\n\\n')\n",
    "\n",
    "    ## failed\n",
    "    logs.write(\"## Failed papers\\n\\n\")\n",
    "    display(Markdown(\"## Failed papers\"))\n",
    "    failed = sorted(failed, key=lambda x: x[1])\n",
    "    current_reason = \"\"\n",
    "    for paper, reason in failed:\n",
    "        if 'affiliation' in reason:\n",
    "            color = 'green'\n",
    "        else:\n",
    "            color = 'red'\n",
    "        data = Markdown(\n",
    "                paper.generate_markdown_text() + \n",
    "                f'\\n|<p style=\"color:{color:s}\"> **ERROR** </p>| <p style=\"color:{color:s}\">{reason:s}</p> |'\n",
    "               )\n",
    "        if reason != current_reason:\n",
    "            logs.write(f'### {reason:s} \\n\\n')\n",
    "            current_reason = reason\n",
    "        logs.write(data.data + '\\n\\n')\n",
    "        \n",
    "        # only display here the important errors (all in logs)\n",
    "        # if color in ('red',):\n",
    "        display(data)"
   ]
  },
  {
   "cell_type": "markdown",
   "id": "472d20ee",
   "metadata": {
    "papermill": {
     "duration": 0.004649,
     "end_time": "2024-08-23T04:10:29.252781",
     "exception": false,
     "start_time": "2024-08-23T04:10:29.248132",
     "status": "completed"
    },
    "tags": []
   },
   "source": [
    "## Export documents\n",
    "\n",
    "We now write the .md files and export relevant images"
   ]
  },
  {
   "cell_type": "code",
   "execution_count": 7,
   "id": "d426aed9",
   "metadata": {
    "execution": {
     "iopub.execute_input": "2024-08-23T04:10:29.263169Z",
     "iopub.status.busy": "2024-08-23T04:10:29.262721Z",
     "iopub.status.idle": "2024-08-23T04:10:29.271780Z",
     "shell.execute_reply": "2024-08-23T04:10:29.271065Z"
    },
    "papermill": {
     "duration": 0.016118,
     "end_time": "2024-08-23T04:10:29.273490",
     "exception": false,
     "start_time": "2024-08-23T04:10:29.257372",
     "status": "completed"
    },
    "tags": []
   },
   "outputs": [],
   "source": [
    "def export_markdown_summary(md: str, md_fname:str, directory: str):\n",
    "    \"\"\"Export MD document and associated relevant images\"\"\"\n",
    "    import os\n",
    "    import shutil\n",
    "    import re\n",
    "\n",
    "    if (os.path.exists(directory) and not os.path.isdir(directory)):\n",
    "        raise RuntimeError(f\"a non-directory file exists with name {directory:s}\")\n",
    "\n",
    "    if (not os.path.exists(directory)):\n",
    "        print(f\"creating directory {directory:s}\")\n",
    "        os.mkdir(directory)\n",
    "\n",
    "    fig_fnames = (re.compile(r'\\[Fig.*\\]\\((.*)\\)').findall(md) + \n",
    "                  re.compile(r'\\<img src=\"([^>\\s]*)\"[^>]*/>').findall(md))\n",
    "    print(\"found figures\", fig_fnames)\n",
    "    for fname in fig_fnames:\n",
    "        if 'http' in fname:\n",
    "            # No need to copy online figures\n",
    "            continue\n",
    "        if not os.path.exists(fname):\n",
    "            print(\"file not found\", fname)\n",
    "            continue\n",
    "        print(\"copying \", fname, \"to\", directory)\n",
    "        destdir = os.path.join(directory, os.path.dirname(fname))\n",
    "        destfname = os.path.join(destdir, os.path.basename(fname))\n",
    "        try:\n",
    "            os.makedirs(destdir)\n",
    "        except FileExistsError:\n",
    "            pass\n",
    "        shutil.copy(fname, destfname)\n",
    "    with open(os.path.join(directory, md_fname), 'w') as fout:\n",
    "        fout.write(md)\n",
    "    print(\"exported in \", os.path.join(directory, md_fname))\n",
    "    [print(\"    + \" + os.path.join(directory,fk)) for fk in fig_fnames]"
   ]
  },
  {
   "cell_type": "code",
   "execution_count": 8,
   "id": "014d04a4",
   "metadata": {
    "execution": {
     "iopub.execute_input": "2024-08-23T04:10:29.287461Z",
     "iopub.status.busy": "2024-08-23T04:10:29.287250Z",
     "iopub.status.idle": "2024-08-23T04:10:29.293562Z",
     "shell.execute_reply": "2024-08-23T04:10:29.292920Z"
    },
    "papermill": {
     "duration": 0.014795,
     "end_time": "2024-08-23T04:10:29.294954",
     "exception": false,
     "start_time": "2024-08-23T04:10:29.280159",
     "status": "completed"
    },
    "tags": []
   },
   "outputs": [
    {
     "name": "stdout",
     "output_type": "stream",
     "text": [
      "found figures ['tmp_2408.12299/./figures/f1.png', 'tmp_2408.12299/./figures/f3.png', 'tmp_2408.12299/./figures/f4.png']\n",
      "copying  tmp_2408.12299/./figures/f1.png to _build/html/\n",
      "copying  tmp_2408.12299/./figures/f3.png to _build/html/\n",
      "copying  tmp_2408.12299/./figures/f4.png to _build/html/\n",
      "exported in  _build/html/2408.12299.md\n",
      "    + _build/html/tmp_2408.12299/./figures/f1.png\n",
      "    + _build/html/tmp_2408.12299/./figures/f3.png\n",
      "    + _build/html/tmp_2408.12299/./figures/f4.png\n"
     ]
    }
   ],
   "source": [
    "for paper_id, md in documents:\n",
    "    export_markdown_summary(md, f\"{paper_id:s}.md\", '_build/html/')"
   ]
  },
  {
   "cell_type": "markdown",
   "id": "f087a0a7",
   "metadata": {
    "papermill": {
     "duration": 0.004348,
     "end_time": "2024-08-23T04:10:29.303936",
     "exception": false,
     "start_time": "2024-08-23T04:10:29.299588",
     "status": "completed"
    },
    "tags": []
   },
   "source": [
    "## Display the papers\n",
    "\n",
    "Not necessary but allows for a quick check."
   ]
  },
  {
   "cell_type": "code",
   "execution_count": 9,
   "id": "fd25f625",
   "metadata": {
    "execution": {
     "iopub.execute_input": "2024-08-23T04:10:29.314017Z",
     "iopub.status.busy": "2024-08-23T04:10:29.313638Z",
     "iopub.status.idle": "2024-08-23T04:10:29.318162Z",
     "shell.execute_reply": "2024-08-23T04:10:29.317543Z"
    },
    "papermill": {
     "duration": 0.011116,
     "end_time": "2024-08-23T04:10:29.319590",
     "exception": false,
     "start_time": "2024-08-23T04:10:29.308474",
     "status": "completed"
    },
    "scrolled": false,
    "tags": []
   },
   "outputs": [
    {
     "data": {
      "text/markdown": [
       "<div class=\"macros\" style=\"visibility:hidden;\">\n",
       "$\\newcommand{\\ensuremath}{}$\n",
       "$\\newcommand{\\xspace}{}$\n",
       "$\\newcommand{\\object}[1]{\\texttt{#1}}$\n",
       "$\\newcommand{\\farcs}{{.}''}$\n",
       "$\\newcommand{\\farcm}{{.}'}$\n",
       "$\\newcommand{\\arcsec}{''}$\n",
       "$\\newcommand{\\arcmin}{'}$\n",
       "$\\newcommand{\\ion}[2]{#1#2}$\n",
       "$\\newcommand{\\textsc}[1]{\\textrm{#1}}$\n",
       "$\\newcommand{\\hl}[1]{\\textrm{#1}}$\n",
       "$\\newcommand{\\footnote}[1]{}$\n",
       "$\\newcommand{\\vdag}{(v)^\\dagger}$\n",
       "$\\newcommand$\n",
       "$\\newcommand$\n",
       "$\\newcommand{\\blazar}{J0410--0139}$\n",
       "$\\newcommand{\\lya}{\\ensuremath{\\text{Ly}\\alpha}}$\n",
       "$\\newcommand{\\nv}{\\ensuremath{\\text{N} \\textsc{v}}}$\n",
       "$\\newcommand{\\lyaew}{\\mathrm{EW}(\\lya + \\nv)}$\n",
       "$\\newcommand{\\hi}{\\ensuremath{\\text{H} \\textsc{i}}}$\n",
       "$\\newcommand{\\kms}{{\\rm km s}\\ensuremath{^{-1}}}$\n",
       "$\\newcommand\\aliii{\\ensuremath{\\text{Al \\textsc{iii}}}}$\n",
       "$\\newcommand\\siiii{\\ensuremath{\\text{Si \\textsc{iii]}}}}$\n",
       "$\\newcommand\\siiv{\\ensuremath{\\text{Si \\textsc{iv}}}}$\n",
       "$\\newcommand\\civ{\\ensuremath{\\text{C \\textsc{iv}}}}$\n",
       "$\\newcommand\\mgii{\\ensuremath{\\text{Mg \\textsc{ii}}}}$\n",
       "$\\newcommand\\heii{\\ensuremath{\\text{He \\textsc{ii}}}}$\n",
       "$\\newcommand\\feii{\\ensuremath{\\text{Fe \\textsc{ii}}}}$\n",
       "$\\newcommand\\feiii{\\ensuremath{\\text{Fe \\textsc{iii}}}}$\n",
       "$\\newcommand\\cii{\\ensuremath{\\text{[C \\textsc{ii]}}}}$\n",
       "$\\newcommand\\ciii{\\ensuremath{\\text{C \\textsc{iii]}}}}$\n",
       "$\\newcommand\\ciilong{\\ensuremath{\\text{[C \\textsc{ii]}}_{158 \\mu\\text{m}}}}$\n",
       "$\\newcommand\\heii{\\ensuremath{\\text{He \\textsc{ii}}}}$\n",
       "$\\newcommand\\oiiibr{\\ensuremath{\\text{O \\textsc{iii]}}}}$\n",
       "$\\newcommand\\halpha{\\ensuremath{\\text{H}\\alpha}}$\n",
       "$\\newcommand{\\km}{{\\rm km}}$\n",
       "$\\newcommand{\\kmsdeg}{{\\rm km s^{-1} deg^{-1}}}$\n",
       "$\\newcommand{\\kmskpc}{{\\rm km s^{-1} kpc^{-1}}}$\n",
       "$\\newcommand{\\mas}{{\\rm mas}}$\n",
       "$\\newcommand{\\masyr}{{\\rm mas/yr}}$\n",
       "$\\newcommand{\\kpc}{{\\rm kpc}}$\n",
       "$\\newcommand{\\kpcdeg}{{\\rm kpc deg^{-1}}}$\n",
       "$\\newcommand{\\mpc}{{\\rm Mpc}}$\n",
       "$\\newcommand{\\hmpc}{{h^{-1} \\rm Mpc}}$\n",
       "$\\newcommand{\\hkpc}{{h^{-1} \\rm kpc}}$\n",
       "$\\newcommand{\\lnu}{{\\rm erg s^{-1} Hz^{-1}}}$</div>\n",
       "\n",
       "\n",
       "\n",
       "<div id=\"title\">\n",
       "\n",
       "# [CII] properties and Far-Infrared variability of a $z=7$ blazar\n",
       "\n",
       "</div>\n",
       "<div id=\"comments\">\n",
       "\n",
       "[![arXiv](https://img.shields.io/badge/arXiv-2408.12299-b31b1b.svg)](https://arxiv.org/abs/2408.12299)<mark>Appeared on: 2024-08-23</mark> -  _Version after addressing referee report. See also companion paper: arXiv:2407.07236_\n",
       "\n",
       "</div>\n",
       "<div id=\"authors\">\n",
       "\n",
       "E. Ba{ñ}ados, et al. -- incl., <mark>Y. Khusanova</mark>, <mark>F. Walter</mark>\n",
       "\n",
       "</div>\n",
       "<div id=\"abstract\">\n",
       "\n",
       "**Abstract:** We present millimeter observations of the host galaxy of the most distant blazar known, VLASS J041009.05 $-$ 013919.88 (hereafter J0410--0139) at $z=7$ , using ALMA and NOEMA observations. The ALMA data reveal a $(2.02\\pm 0.36)\\times 10^{42}$ erg s $^{-1}$ $\\cii$ 158 $\\mu$ m emission line at $z=6.9964$ with a $\\cii$ -inferred star-formation rate of $58\\pm 9 M_\\odot $ yr $^{-1}$ .We estimate a dynamical mass of $M_{\\rm dyn,\\cii}=(4.6\\pm 2.0)\\times 10^9 M_\\odot$ , implying a black hole mass to host a dynamical mass ratio of $0.15^{+0.08}_{-0.05}$ .The 238 GHz continuum (rest-frame IR) decreased by $\\sim33\\%$ from the NOEMA to the ALMA observations taken $\\sim$ 10 months apart.  The VLA 3--10 GHz radio flux densities showed a $\\sim37\\%$ decrease in a similar time frame, suggesting a causal connection. At face value, $\\blazar$ would have the lowest $\\cii$ -to-IR luminosity ratio of a $z>5.7$ quasar reported to date ( $\\sim10^{-4}$ ). However, if only $<20\\%$ of the measured IR luminosity were due to thermal emission from dust, the $\\cii$ -to-IR luminosity ratio would be typical of (U)LIRGS, and the star formation rates derived from $\\cii$ and IR luminosities would be consistent.These results provide further evidence that synchrotron emission significantly contributes to the observed rest-frame IR emission of $\\blazar$ , similar to what has been reported in some radio-loud AGN at $z<1$ .\n",
       "\n",
       "</div>\n",
       "\n",
       "<div id=\"div_fig1\">\n",
       "\n",
       "<img src=\"tmp_2408.12299/./figures/f1.png\" alt=\"Fig1\" width=\"100%\"/>\n",
       "\n",
       "**Figure 1. -** \\small**ALMA and NOEMA observations of $\\blazar$**. _Top:_ Continuum-subtracted \\cii spectrum, extracted from a $1$\\farcs$5$ radius aperture (yellow circle in the next panel). The red line is a Gaussian fit to the data (a second Gaussian can be fitted at $\\sim300$ km s$^{-1}$, but we found this not to be statistically significant; see Section \\ref{sec:ciiprop}). The \\cii measured properties, luminosity, and star-formation rate are listed in Table \\ref{tab:properties}. The \\cii line is not detected in the NOEMA data.\n",
       "_Middle:_ ALMA \\cii(left) and continuum (right) maps. The beam size for these observations is $0$\\farcs$49\\times 0$\\farcs$68$.  The \\cii map is the average over 247 $\\kms$(1.2$\\times$ FWHM of the spectrum shown in the top panel).\n",
       "The yellow circle is the $1$\\farcs$5$ radius aperture centered on the \\cii centroid (yellow cross) used to extract the \\cii spectrum.\n",
       "_Bottom:_ NOEMA continuum maps at 224 (left) and 239 (right) GHz, with beam sizes: $0$\\farcs$78\\times 1$\\farcs$63$(left) and $0$\\farcs$72\\times 1$\\farcs$53$(right). The source is unresolved in the NOEMA observations.\n",
       "The optical position of the quasar is shown with a white cross on each panel, which is consistent with the peak of the ALMA and NOEMA continuum, but the peak of the \\cii map is offset by $0$\\farcs$35$(yellow cross in \\cii map).\n",
       "All contour plots are shown at $\\pm[3, 5, 10, 20, 30]\\sigma$(dashed contours represent negative values). The $\\sigma$ for each map is at the top left corner of each panel.\n",
       " (*fig:alma_noema*)\n",
       "\n",
       "</div>\n",
       "<div id=\"div_fig2\">\n",
       "\n",
       "<img src=\"tmp_2408.12299/./figures/f3.png\" alt=\"Fig3\" width=\"100%\"/>\n",
       "\n",
       "**Figure 3. -** \\small**Spectral energy distribution (SED) in the radio and (sub)mm regime of $\\blazar$**. The data points are color-coded by year of observation for visualization purposes. Only the observations taken at a similar epoch in 2021 and 2022 are shown (see Fig. 2 in  ([Bañados, Momjian and Connor 2024]())  for the full SED and other epochs). The VLA 2021 and 2022 observations were taken in the same observing block, yielding a quasi-simultaneous view of the SED  (within 15 minutes in the rest frame).\n",
       "The VLA 2021 and NOEMA observations are taken 6.5 days apart in the source's rest frame, while the VLA 2022 and ALMA observations are 2.8 days apart. The dashed lines are power-law extrapolations from the VLA low and high-frequency measurements. The pentagons and star show the NOEMA and ALMA measurements, respectively (see also Fig. \\ref{fig:alma_noema}). The $\\sim 238 $GHz continuum decreased by $\\sim$33\\% from the NOEMA 2021 to ALMA 2022 measurements. The VLA flux densities above 3 GHz decreased on average by $\\sim 37\\%$ from 2021 to 2022 (see Sect. \\ref{sec:variability}), strongly suggesting that the differences between the NOEMA and ALMA data are due to the variability of the synchrotron emission.\n",
       "In contrast, we show models of modified black-body emission (with typical dust temperatures of $T_{\\rm d}=47 $K and emissivity index of $\\beta=1.6$) with the colored curves. By failing to account for the IR contribution of the synchrotron emission, single-epoch measurements of cold gas in the host galaxy would be very different---and incorrect.\n",
       " (*fig:sed*)\n",
       "\n",
       "</div>\n",
       "<div id=\"div_fig3\">\n",
       "\n",
       "<img src=\"tmp_2408.12299/./figures/f4.png\" alt=\"Fig4\" width=\"100%\"/>\n",
       "\n",
       "**Figure 4. -** **Ratio of [CII] to IR luminosities ($8-1000 \\mu$m) vs. IR luminosities.  ** The local galaxies and the high-redshift sources that are _not_ quasars are compiled as in [Bañados, Decarli and Walter (2015)](), including data from [Malhotra, Kaufman and Hollenbach (2001)](), [Luhman, Satyapal and Fischer (2003)](), [Díaz-Santos, Armus and Charmandaris (2013)](), [Cormier and Lebouteiller (2014)](). The $z>5.7$ radio-quiet quasars are from [Venemans, Walter and Neeleman (2020)]() and Wang et al. (2024). The  FIR ($42.5-122.5 \\mu$m) luminosities from [Venemans, Walter and Neeleman (2020)]() are converted as $L_{\\rm TIR}= 1.41\\times L_{\\rm FIR}$.\n",
       "The $z>5.7$ radio-loud quasars are from [Khusanova, Bañados and Mazzucchelli (2022)]() and [Bañados, Schindler and Venemans (2023)](). The open circles are sources undetected in both \\cii and IR continuum.\n",
       "The red star and blue pentagon correspond to the properties of $\\blazar$ using the IR properties derived from NOEMA in 2021 and ALMA in 2022, respectively. At face value, these measurements would place $\\blazar$ as the lowest data point in $L_{\\rm \\cii}/L_{\\rm IR}$ among the $z>5.7$ quasars. However, we argue that the IR luminosity is contaminated by synchrotron emission, as evidenced by variability. The open star and pentagons show the location of $\\blazar$, consistent with local (U)LIRGs, if we require that the SFR derived from IR luminosity matches the one derived from \\cii line. In this case, the measured IR luminosity is dominated by synchrotron radiation: $\\sim 85\\%$ in 2021 and $\\sim 80\\%$ in 2022.\n",
       " (*fig:ciidefilcit*)\n",
       "\n",
       "</div><div id=\"qrcode\"><img src=https://api.qrserver.com/v1/create-qr-code/?size=100x100&data=\"https://arxiv.org/abs/2408.12299\"></div>"
      ],
      "text/plain": [
       "<IPython.core.display.Markdown object>"
      ]
     },
     "metadata": {},
     "output_type": "display_data"
    }
   ],
   "source": [
    "[display(Markdown(k[1])) for k in documents];"
   ]
  },
  {
   "cell_type": "markdown",
   "id": "873873a4",
   "metadata": {
    "papermill": {
     "duration": 0.004668,
     "end_time": "2024-08-23T04:10:29.329008",
     "exception": false,
     "start_time": "2024-08-23T04:10:29.324340",
     "status": "completed"
    },
    "tags": []
   },
   "source": [
    "# Create HTML index"
   ]
  },
  {
   "cell_type": "code",
   "execution_count": 10,
   "id": "cf665672",
   "metadata": {
    "execution": {
     "iopub.execute_input": "2024-08-23T04:10:29.339393Z",
     "iopub.status.busy": "2024-08-23T04:10:29.339015Z",
     "iopub.status.idle": "2024-08-23T04:10:29.346651Z",
     "shell.execute_reply": "2024-08-23T04:10:29.346141Z"
    },
    "papermill": {
     "duration": 0.014403,
     "end_time": "2024-08-23T04:10:29.347996",
     "exception": false,
     "start_time": "2024-08-23T04:10:29.333593",
     "status": "completed"
    },
    "tags": []
   },
   "outputs": [
    {
     "name": "stdout",
     "output_type": "stream",
     "text": [
      "166  publications files modified in the last 7 days.\n"
     ]
    }
   ],
   "source": [
    "from datetime import datetime, timedelta, timezone\n",
    "from glob import glob\n",
    "import os\n",
    "\n",
    "files = glob('_build/html/*.md')\n",
    "days = 7\n",
    "now = datetime.today()\n",
    "res = []\n",
    "for fk in files:\n",
    "    stat_result = os.stat(fk).st_ctime\n",
    "    modified = datetime.fromtimestamp(stat_result, tz=timezone.utc).replace(tzinfo=None)\n",
    "    delta = now.today() - modified\n",
    "    if delta <= timedelta(days=days):\n",
    "        res.append((delta.seconds, fk))\n",
    "res = [k[1] for k in reversed(sorted(res, key=lambda x:x[1]))]\n",
    "npub = len(res)\n",
    "print(len(res), f\" publications files modified in the last {days:d} days.\")\n",
    "# [ print('\\t', k) for k in res ];"
   ]
  },
  {
   "cell_type": "code",
   "execution_count": 11,
   "id": "015de740",
   "metadata": {
    "execution": {
     "iopub.execute_input": "2024-08-23T04:10:29.358427Z",
     "iopub.status.busy": "2024-08-23T04:10:29.358064Z",
     "iopub.status.idle": "2024-08-23T04:10:29.371939Z",
     "shell.execute_reply": "2024-08-23T04:10:29.371365Z"
    },
    "papermill": {
     "duration": 0.020522,
     "end_time": "2024-08-23T04:10:29.373235",
     "exception": false,
     "start_time": "2024-08-23T04:10:29.352713",
     "status": "completed"
    },
    "tags": []
   },
   "outputs": [
    {
     "name": "stdout",
     "output_type": "stream",
     "text": [
      "5  publications in the last 7 days.\n"
     ]
    }
   ],
   "source": [
    "import datetime\n",
    "from glob import glob\n",
    "\n",
    "def get_last_n_days(lst, days=1):\n",
    "    \"\"\" Get the documents from the last n days \"\"\"\n",
    "    sorted_lst = sorted(lst, key=lambda x: x[1], reverse=True)\n",
    "    for fname, date in sorted_lst:\n",
    "        if date >= str(datetime.date.today() - datetime.timedelta(days=days)):\n",
    "            yield fname\n",
    "\n",
    "def extract_appearance_dates(lst_file):\n",
    "    dates = []\n",
    "\n",
    "    def get_date(line):\n",
    "        return line\\\n",
    "            .split('Appeared on:')[-1]\\\n",
    "            .split('</mark>')[0].strip()\n",
    "\n",
    "    for fname in lst:\n",
    "        with open(fname, 'r') as f:\n",
    "            found_date = False\n",
    "            for line in f:\n",
    "                if not found_date:\n",
    "                    if \"Appeared on\" in line:\n",
    "                        found_date = True\n",
    "                        dates.append((fname, get_date(line)))\n",
    "                else:\n",
    "                    break\n",
    "    return dates\n",
    "\n",
    "from glob import glob\n",
    "lst = glob('_build/html/*md')\n",
    "days = 7\n",
    "dates = extract_appearance_dates(lst)\n",
    "res = list(get_last_n_days(dates, days))\n",
    "npub = len(res)\n",
    "print(len(res), f\" publications in the last {days:d} days.\")"
   ]
  },
  {
   "cell_type": "code",
   "execution_count": 12,
   "id": "52ca0208",
   "metadata": {
    "execution": {
     "iopub.execute_input": "2024-08-23T04:10:29.384024Z",
     "iopub.status.busy": "2024-08-23T04:10:29.383637Z",
     "iopub.status.idle": "2024-08-23T04:10:29.388461Z",
     "shell.execute_reply": "2024-08-23T04:10:29.387839Z"
    },
    "papermill": {
     "duration": 0.011732,
     "end_time": "2024-08-23T04:10:29.389807",
     "exception": false,
     "start_time": "2024-08-23T04:10:29.378075",
     "status": "completed"
    },
    "scrolled": false,
    "tags": []
   },
   "outputs": [],
   "source": [
    "def create_carousel(npub=4):\n",
    "    \"\"\" Generate the HTML code for a carousel with `npub` slides \"\"\"\n",
    "    carousel = [\"\"\"  <div class=\"carousel\" \"\"\",\n",
    "                \"\"\"       data-flickity='{ \"autoPlay\": 10000, \"adaptiveHeight\": true, \"resize\": true, \"wrapAround\": true, \"pauseAutoPlayOnHover\": true, \"groupCells\": 1 }' id=\"asyncTypeset\">\"\"\"\n",
    "                ]\n",
    "    \n",
    "    item_str = \"\"\"    <div class=\"carousel-cell\"> <div id=\"slide{k}\" class=\"md_view\">Content {k}</div> </div>\"\"\"\n",
    "    for k in range(1, npub + 1):\n",
    "        carousel.append(item_str.format(k=k))\n",
    "    carousel.append(\"  </div>\")\n",
    "    return '\\n'.join(carousel)\n",
    "\n",
    "def create_grid(npub=4):\n",
    "    \"\"\" Generate the HTML code for a flat grid with `npub` slides \"\"\"\n",
    "    grid = [\"\"\"  <div class=\"grid\"> \"\"\",\n",
    "                ]\n",
    "    \n",
    "    item_str = \"\"\"    <div class=\"grid-item\"> <div id=\"slide{k}\" class=\"md_view\">Content {k}</div> </div>\"\"\"\n",
    "    for k in range(1, npub + 1):\n",
    "        grid.append(item_str.format(k=k))\n",
    "    grid.append(\"  </div>\")\n",
    "    return '\\n'.join(grid)"
   ]
  },
  {
   "cell_type": "code",
   "execution_count": 13,
   "id": "a6eac5b6",
   "metadata": {
    "execution": {
     "iopub.execute_input": "2024-08-23T04:10:29.400546Z",
     "iopub.status.busy": "2024-08-23T04:10:29.400182Z",
     "iopub.status.idle": "2024-08-23T04:10:29.405192Z",
     "shell.execute_reply": "2024-08-23T04:10:29.404668Z"
    },
    "papermill": {
     "duration": 0.011836,
     "end_time": "2024-08-23T04:10:29.406491",
     "exception": false,
     "start_time": "2024-08-23T04:10:29.394655",
     "status": "completed"
    },
    "scrolled": false,
    "tags": []
   },
   "outputs": [],
   "source": [
    "carousel = create_carousel(npub)\n",
    "docs = ', '.join(['\"{0:s}\"'.format(k.split('/')[-1]) for k in res])\n",
    "slides = ', '.join([f'\"slide{k}\"' for k in range(1, npub + 1)])\n",
    "\n",
    "with open(\"daily_template.html\", \"r\") as tpl:\n",
    "    page = tpl.read()\n",
    "    page = page.replace(\"{%-- carousel:s --%}\", carousel)\\\n",
    "               .replace(\"{%-- suptitle:s --%}\",  \"7-day archives\" )\\\n",
    "               .replace(\"{%-- docs:s --%}\", docs)\\\n",
    "               .replace(\"{%-- slides:s --%}\", slides)\n",
    "    \n",
    "with open(\"_build/html/index_7days.html\", 'w') as fout:\n",
    "    fout.write(page)"
   ]
  },
  {
   "cell_type": "code",
   "execution_count": 14,
   "id": "adc1a1ec",
   "metadata": {
    "execution": {
     "iopub.execute_input": "2024-08-23T04:10:29.417251Z",
     "iopub.status.busy": "2024-08-23T04:10:29.416885Z",
     "iopub.status.idle": "2024-08-23T04:10:29.423123Z",
     "shell.execute_reply": "2024-08-23T04:10:29.422594Z"
    },
    "papermill": {
     "duration": 0.013004,
     "end_time": "2024-08-23T04:10:29.424362",
     "exception": false,
     "start_time": "2024-08-23T04:10:29.411358",
     "status": "completed"
    },
    "tags": []
   },
   "outputs": [
    {
     "name": "stdout",
     "output_type": "stream",
     "text": [
      "1  publications in the last day.\n"
     ]
    }
   ],
   "source": [
    "# redo for today\n",
    "days = 1\n",
    "res = list(get_last_n_days(dates, days))\n",
    "npub = len(res)\n",
    "print(len(res), f\" publications in the last day.\")\n",
    "\n",
    "carousel = create_carousel(npub)\n",
    "docs = ', '.join(['\"{0:s}\"'.format(k.split('/')[-1]) for k in res])\n",
    "slides = ', '.join([f'\"slide{k}\"' for k in range(1, npub + 1)])\n",
    "\n",
    "with open(\"daily_template.html\", \"r\") as tpl:\n",
    "    page = tpl.read()\n",
    "    page = page.replace(\"{%-- carousel:s --%}\", carousel)\\\n",
    "               .replace(\"{%-- suptitle:s --%}\",  \"Daily\" )\\\n",
    "               .replace(\"{%-- docs:s --%}\", docs)\\\n",
    "               .replace(\"{%-- slides:s --%}\", slides)\n",
    "    \n",
    "# print(carousel, docs, slides)\n",
    "# print(page)\n",
    "with open(\"_build/html/index_daily.html\", 'w') as fout:\n",
    "    fout.write(page)"
   ]
  },
  {
   "cell_type": "code",
   "execution_count": 15,
   "id": "00eece82",
   "metadata": {
    "execution": {
     "iopub.execute_input": "2024-08-23T04:10:29.435345Z",
     "iopub.status.busy": "2024-08-23T04:10:29.434996Z",
     "iopub.status.idle": "2024-08-23T04:10:29.441289Z",
     "shell.execute_reply": "2024-08-23T04:10:29.440673Z"
    },
    "papermill": {
     "duration": 0.013161,
     "end_time": "2024-08-23T04:10:29.442549",
     "exception": false,
     "start_time": "2024-08-23T04:10:29.429388",
     "status": "completed"
    },
    "scrolled": false,
    "tags": []
   },
   "outputs": [
    {
     "name": "stdout",
     "output_type": "stream",
     "text": [
      "6  6 publications selected.\n"
     ]
    }
   ],
   "source": [
    "# Create the flat grid of the last N papers (fixed number regardless of dates)\n",
    "from itertools import islice \n",
    "\n",
    "npub = 6\n",
    "res = [k[0] for k in (islice(reversed(sorted(dates, key=lambda x: x[1])), 6))]\n",
    "print(len(res), f\" {npub} publications selected.\")\n",
    "\n",
    "grid = create_grid(npub)\n",
    "docs = ', '.join(['\"{0:s}\"'.format(k.split('/')[-1]) for k in res])\n",
    "slides = ', '.join([f'\"slide{k}\"' for k in range(1, npub + 1)])\n",
    "\n",
    "with open(\"grid_template.html\", \"r\") as tpl:\n",
    "    page = tpl.read()\n",
    "    page = page.replace(\"{%-- grid-content:s --%}\", grid)\\\n",
    "               .replace(\"{%-- suptitle:s --%}\",  f\"Last {npub:,d} papers\" )\\\n",
    "               .replace(\"{%-- docs:s --%}\", docs)\\\n",
    "               .replace(\"{%-- slides:s --%}\", slides)\n",
    "    \n",
    "# print(grid, docs, slides)\n",
    "# print(page)\n",
    "with open(\"_build/html/index_npub_grid.html\", 'w') as fout:\n",
    "    fout.write(page)"
   ]
  }
 ],
 "metadata": {
  "kernelspec": {
   "display_name": "Python 3 (ipykernel)",
   "language": "python",
   "name": "python3"
  },
  "language_info": {
   "codemirror_mode": {
    "name": "ipython",
    "version": 3
   },
   "file_extension": ".py",
   "mimetype": "text/x-python",
   "name": "python",
   "nbconvert_exporter": "python",
   "pygments_lexer": "ipython3",
   "version": "3.9.19"
  },
  "papermill": {
   "default_parameters": {},
   "duration": 33.133095,
   "end_time": "2024-08-23T04:10:29.664162",
   "environment_variables": {},
   "exception": null,
   "input_path": "MPIA daily digest.ipynb",
   "output_path": "log.ipynb",
   "parameters": {},
   "start_time": "2024-08-23T04:09:56.531067",
   "version": "2.6.0"
  },
  "vscode": {
   "interpreter": {
    "hash": "aee8b7b246df8f9039afb4144a1f6fd8d2ca17a180786b69acc140d282b71a49"
   }
  },
  "widgets": {
   "application/vnd.jupyter.widget-state+json": {
    "state": {
     "02c8e48d30ca4077aa13edfd666dc812": {
      "model_module": "@jupyter-widgets/controls",
      "model_module_version": "2.0.0",
      "model_name": "FloatProgressModel",
      "state": {
       "_dom_classes": [],
       "_model_module": "@jupyter-widgets/controls",
       "_model_module_version": "2.0.0",
       "_model_name": "FloatProgressModel",
       "_view_count": null,
       "_view_module": "@jupyter-widgets/controls",
       "_view_module_version": "2.0.0",
       "_view_name": "ProgressView",
       "bar_style": "success",
       "description": "",
       "description_allow_html": false,
       "layout": "IPY_MODEL_874a0ca6ee0344f6a0ebfc3122f3ef24",
       "max": 4.0,
       "min": 0.0,
       "orientation": "horizontal",
       "style": "IPY_MODEL_8d8b3b3b59f5407383cf829a038ca48d",
       "tabbable": null,
       "tooltip": null,
       "value": 4.0
      }
     },
     "159321fe37c142998e43ce211136a66e": {
      "model_module": "@jupyter-widgets/controls",
      "model_module_version": "2.0.0",
      "model_name": "HTMLStyleModel",
      "state": {
       "_model_module": "@jupyter-widgets/controls",
       "_model_module_version": "2.0.0",
       "_model_name": "HTMLStyleModel",
       "_view_count": null,
       "_view_module": "@jupyter-widgets/base",
       "_view_module_version": "2.0.0",
       "_view_name": "StyleView",
       "background": null,
       "description_width": "",
       "font_size": null,
       "text_color": null
      }
     },
     "1af3eb718b294fe285f568b16748263d": {
      "model_module": "@jupyter-widgets/base",
      "model_module_version": "2.0.0",
      "model_name": "LayoutModel",
      "state": {
       "_model_module": "@jupyter-widgets/base",
       "_model_module_version": "2.0.0",
       "_model_name": "LayoutModel",
       "_view_count": null,
       "_view_module": "@jupyter-widgets/base",
       "_view_module_version": "2.0.0",
       "_view_name": "LayoutView",
       "align_content": null,
       "align_items": null,
       "align_self": null,
       "border_bottom": null,
       "border_left": null,
       "border_right": null,
       "border_top": null,
       "bottom": null,
       "display": null,
       "flex": null,
       "flex_flow": null,
       "grid_area": null,
       "grid_auto_columns": null,
       "grid_auto_flow": null,
       "grid_auto_rows": null,
       "grid_column": null,
       "grid_gap": null,
       "grid_row": null,
       "grid_template_areas": null,
       "grid_template_columns": null,
       "grid_template_rows": null,
       "height": null,
       "justify_content": null,
       "justify_items": null,
       "left": null,
       "margin": null,
       "max_height": null,
       "max_width": null,
       "min_height": null,
       "min_width": null,
       "object_fit": null,
       "object_position": null,
       "order": null,
       "overflow": null,
       "padding": null,
       "right": null,
       "top": null,
       "visibility": null,
       "width": null
      }
     },
     "446cba6349394857912a52d157325a7d": {
      "model_module": "@jupyter-widgets/controls",
      "model_module_version": "2.0.0",
      "model_name": "HBoxModel",
      "state": {
       "_dom_classes": [],
       "_model_module": "@jupyter-widgets/controls",
       "_model_module_version": "2.0.0",
       "_model_name": "HBoxModel",
       "_view_count": null,
       "_view_module": "@jupyter-widgets/controls",
       "_view_module_version": "2.0.0",
       "_view_name": "HBoxView",
       "box_style": "",
       "children": [
        "IPY_MODEL_ae8723d4fc32487d952c5b0316f648b3",
        "IPY_MODEL_02c8e48d30ca4077aa13edfd666dc812",
        "IPY_MODEL_f96d51d530c94d72a14edda6d4c170b5"
       ],
       "layout": "IPY_MODEL_d8489bb3918e41699f13cbe1a4b863b7",
       "tabbable": null,
       "tooltip": null
      }
     },
     "874a0ca6ee0344f6a0ebfc3122f3ef24": {
      "model_module": "@jupyter-widgets/base",
      "model_module_version": "2.0.0",
      "model_name": "LayoutModel",
      "state": {
       "_model_module": "@jupyter-widgets/base",
       "_model_module_version": "2.0.0",
       "_model_name": "LayoutModel",
       "_view_count": null,
       "_view_module": "@jupyter-widgets/base",
       "_view_module_version": "2.0.0",
       "_view_name": "LayoutView",
       "align_content": null,
       "align_items": null,
       "align_self": null,
       "border_bottom": null,
       "border_left": null,
       "border_right": null,
       "border_top": null,
       "bottom": null,
       "display": null,
       "flex": null,
       "flex_flow": null,
       "grid_area": null,
       "grid_auto_columns": null,
       "grid_auto_flow": null,
       "grid_auto_rows": null,
       "grid_column": null,
       "grid_gap": null,
       "grid_row": null,
       "grid_template_areas": null,
       "grid_template_columns": null,
       "grid_template_rows": null,
       "height": null,
       "justify_content": null,
       "justify_items": null,
       "left": null,
       "margin": null,
       "max_height": null,
       "max_width": null,
       "min_height": null,
       "min_width": null,
       "object_fit": null,
       "object_position": null,
       "order": null,
       "overflow": null,
       "padding": null,
       "right": null,
       "top": null,
       "visibility": null,
       "width": null
      }
     },
     "8d8b3b3b59f5407383cf829a038ca48d": {
      "model_module": "@jupyter-widgets/controls",
      "model_module_version": "2.0.0",
      "model_name": "ProgressStyleModel",
      "state": {
       "_model_module": "@jupyter-widgets/controls",
       "_model_module_version": "2.0.0",
       "_model_name": "ProgressStyleModel",
       "_view_count": null,
       "_view_module": "@jupyter-widgets/base",
       "_view_module_version": "2.0.0",
       "_view_name": "StyleView",
       "bar_color": null,
       "description_width": ""
      }
     },
     "9c6c28ec01154204917adb8e16dfcda5": {
      "model_module": "@jupyter-widgets/base",
      "model_module_version": "2.0.0",
      "model_name": "LayoutModel",
      "state": {
       "_model_module": "@jupyter-widgets/base",
       "_model_module_version": "2.0.0",
       "_model_name": "LayoutModel",
       "_view_count": null,
       "_view_module": "@jupyter-widgets/base",
       "_view_module_version": "2.0.0",
       "_view_name": "LayoutView",
       "align_content": null,
       "align_items": null,
       "align_self": null,
       "border_bottom": null,
       "border_left": null,
       "border_right": null,
       "border_top": null,
       "bottom": null,
       "display": null,
       "flex": null,
       "flex_flow": null,
       "grid_area": null,
       "grid_auto_columns": null,
       "grid_auto_flow": null,
       "grid_auto_rows": null,
       "grid_column": null,
       "grid_gap": null,
       "grid_row": null,
       "grid_template_areas": null,
       "grid_template_columns": null,
       "grid_template_rows": null,
       "height": null,
       "justify_content": null,
       "justify_items": null,
       "left": null,
       "margin": null,
       "max_height": null,
       "max_width": null,
       "min_height": null,
       "min_width": null,
       "object_fit": null,
       "object_position": null,
       "order": null,
       "overflow": null,
       "padding": null,
       "right": null,
       "top": null,
       "visibility": null,
       "width": null
      }
     },
     "ae8723d4fc32487d952c5b0316f648b3": {
      "model_module": "@jupyter-widgets/controls",
      "model_module_version": "2.0.0",
      "model_name": "HTMLModel",
      "state": {
       "_dom_classes": [],
       "_model_module": "@jupyter-widgets/controls",
       "_model_module_version": "2.0.0",
       "_model_name": "HTMLModel",
       "_view_count": null,
       "_view_module": "@jupyter-widgets/controls",
       "_view_module_version": "2.0.0",
       "_view_name": "HTMLView",
       "description": "",
       "description_allow_html": false,
       "layout": "IPY_MODEL_9c6c28ec01154204917adb8e16dfcda5",
       "placeholder": "​",
       "style": "IPY_MODEL_e4938eb719e1451599a40c5efa8f7a81",
       "tabbable": null,
       "tooltip": null,
       "value": "100%"
      }
     },
     "d8489bb3918e41699f13cbe1a4b863b7": {
      "model_module": "@jupyter-widgets/base",
      "model_module_version": "2.0.0",
      "model_name": "LayoutModel",
      "state": {
       "_model_module": "@jupyter-widgets/base",
       "_model_module_version": "2.0.0",
       "_model_name": "LayoutModel",
       "_view_count": null,
       "_view_module": "@jupyter-widgets/base",
       "_view_module_version": "2.0.0",
       "_view_name": "LayoutView",
       "align_content": null,
       "align_items": null,
       "align_self": null,
       "border_bottom": null,
       "border_left": null,
       "border_right": null,
       "border_top": null,
       "bottom": null,
       "display": null,
       "flex": null,
       "flex_flow": null,
       "grid_area": null,
       "grid_auto_columns": null,
       "grid_auto_flow": null,
       "grid_auto_rows": null,
       "grid_column": null,
       "grid_gap": null,
       "grid_row": null,
       "grid_template_areas": null,
       "grid_template_columns": null,
       "grid_template_rows": null,
       "height": null,
       "justify_content": null,
       "justify_items": null,
       "left": null,
       "margin": null,
       "max_height": null,
       "max_width": null,
       "min_height": null,
       "min_width": null,
       "object_fit": null,
       "object_position": null,
       "order": null,
       "overflow": null,
       "padding": null,
       "right": null,
       "top": null,
       "visibility": null,
       "width": null
      }
     },
     "e4938eb719e1451599a40c5efa8f7a81": {
      "model_module": "@jupyter-widgets/controls",
      "model_module_version": "2.0.0",
      "model_name": "HTMLStyleModel",
      "state": {
       "_model_module": "@jupyter-widgets/controls",
       "_model_module_version": "2.0.0",
       "_model_name": "HTMLStyleModel",
       "_view_count": null,
       "_view_module": "@jupyter-widgets/base",
       "_view_module_version": "2.0.0",
       "_view_name": "StyleView",
       "background": null,
       "description_width": "",
       "font_size": null,
       "text_color": null
      }
     },
     "f96d51d530c94d72a14edda6d4c170b5": {
      "model_module": "@jupyter-widgets/controls",
      "model_module_version": "2.0.0",
      "model_name": "HTMLModel",
      "state": {
       "_dom_classes": [],
       "_model_module": "@jupyter-widgets/controls",
       "_model_module_version": "2.0.0",
       "_model_name": "HTMLModel",
       "_view_count": null,
       "_view_module": "@jupyter-widgets/controls",
       "_view_module_version": "2.0.0",
       "_view_name": "HTMLView",
       "description": "",
       "description_allow_html": false,
       "layout": "IPY_MODEL_1af3eb718b294fe285f568b16748263d",
       "placeholder": "​",
       "style": "IPY_MODEL_159321fe37c142998e43ce211136a66e",
       "tabbable": null,
       "tooltip": null,
       "value": " 4/4 [00:10&lt;00:00,  2.33s/it]"
      }
     }
    },
    "version_major": 2,
    "version_minor": 0
   }
  }
 },
 "nbformat": 4,
 "nbformat_minor": 5
}