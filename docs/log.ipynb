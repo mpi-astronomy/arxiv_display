{
 "cells": [
  {
   "cell_type": "markdown",
   "id": "92bcb855",
   "metadata": {
    "papermill": {
     "duration": 0.005418,
     "end_time": "2023-03-08T06:47:52.447954",
     "exception": false,
     "start_time": "2023-03-08T06:47:52.442536",
     "status": "completed"
    },
    "tags": []
   },
   "source": [
    "# MPIA Arxiv on Deck 2\n",
    "\n",
    "Contains the steps to produce the paper extractions."
   ]
  },
  {
   "cell_type": "code",
   "execution_count": 1,
   "id": "3a0d6e11",
   "metadata": {
    "execution": {
     "iopub.execute_input": "2023-03-08T06:47:52.458550Z",
     "iopub.status.busy": "2023-03-08T06:47:52.458179Z",
     "iopub.status.idle": "2023-03-08T06:47:52.736305Z",
     "shell.execute_reply": "2023-03-08T06:47:52.735228Z"
    },
    "papermill": {
     "duration": 0.286022,
     "end_time": "2023-03-08T06:47:52.738777",
     "exception": false,
     "start_time": "2023-03-08T06:47:52.452755",
     "status": "completed"
    },
    "tags": []
   },
   "outputs": [],
   "source": [
    "# Imports\n",
    "import os\n",
    "from IPython.display import Markdown, display\n",
    "from tqdm.notebook import tqdm\n",
    "import warnings\n",
    "from PIL import Image \n",
    "\n",
    "# requires arxiv_on_deck_2\n",
    "\n",
    "from arxiv_on_deck_2.arxiv2 import (get_new_papers, \n",
    "                                    get_paper_from_identifier,\n",
    "                                    retrieve_document_source, \n",
    "                                    get_markdown_badge)\n",
    "from arxiv_on_deck_2 import (latex,\n",
    "                             latex_bib,\n",
    "                             mpia,\n",
    "                             highlight_authors_in_list)\n",
    "\n",
    "# Sometimes images are really big\n",
    "Image.MAX_IMAGE_PIXELS = 1000000000 "
   ]
  },
  {
   "cell_type": "code",
   "execution_count": 2,
   "id": "22aa9d44",
   "metadata": {
    "execution": {
     "iopub.execute_input": "2023-03-08T06:47:52.749718Z",
     "iopub.status.busy": "2023-03-08T06:47:52.749386Z",
     "iopub.status.idle": "2023-03-08T06:47:52.757342Z",
     "shell.execute_reply": "2023-03-08T06:47:52.756273Z"
    },
    "papermill": {
     "duration": 0.015314,
     "end_time": "2023-03-08T06:47:52.759138",
     "exception": false,
     "start_time": "2023-03-08T06:47:52.743824",
     "status": "completed"
    },
    "tags": []
   },
   "outputs": [],
   "source": [
    "# Some useful definitions.\n",
    "\n",
    "class AffiliationWarning(UserWarning):\n",
    "    pass\n",
    "\n",
    "class AffiliationError(RuntimeError):\n",
    "    pass\n",
    "\n",
    "def validation(source: str):\n",
    "    \"\"\"Raises error paper during parsing of source file\n",
    "    \n",
    "    Allows checks before parsing TeX code.\n",
    "    \n",
    "    Raises AffiliationWarning\n",
    "    \"\"\"\n",
    "    check = mpia.affiliation_verifications(source, verbose=True)\n",
    "    if check is not True:\n",
    "        raise AffiliationError(\"mpia.affiliation_verifications: \" + check)\n",
    "\n",
    "        \n",
    "warnings.simplefilter('always', AffiliationWarning)"
   ]
  },
  {
   "cell_type": "code",
   "execution_count": 3,
   "id": "14622700",
   "metadata": {
    "execution": {
     "iopub.execute_input": "2023-03-08T06:47:52.770436Z",
     "iopub.status.busy": "2023-03-08T06:47:52.769913Z",
     "iopub.status.idle": "2023-03-08T06:47:52.774967Z",
     "shell.execute_reply": "2023-03-08T06:47:52.774028Z"
    },
    "papermill": {
     "duration": 0.014036,
     "end_time": "2023-03-08T06:47:52.777200",
     "exception": false,
     "start_time": "2023-03-08T06:47:52.763164",
     "status": "completed"
    },
    "tags": []
   },
   "outputs": [],
   "source": [
    "# additional CSS to consider. \n",
    "# TODO: Current into each exported file. \n",
    "#       This should be set once into the webpages directly.\n",
    "#       With only the class/id definitions in the .md files.\n",
    "\n",
    "debug_html = \"\"\"\n",
    "<style>\n",
    "#wrap{ overflow:auto; }\n",
    "#fig1{ background:yellow; width:100%; float:left; padding:5px;  }\n",
    "#fig2{ background:red; width:50%; float:left; clear:left; padding:5px;  }\n",
    "#fig3{ background:green; width:50%; float:left; padding:5px;   }\n",
    ".macros{ background:yellow; visibility:visible;}\n",
    "h1 {margin: 0 0 0 0;}\n",
    "mark {background-color:#fff3b6;}\n",
    "img {object-fit:contain; max-height:250px; display:inline-block; text-align: center;}\n",
    "</style>\n",
    "\"\"\" \n",
    "html = \"\"\"\n",
    "<style>\n",
    "#wrap{ overflow:auto; }\n",
    "#fig1{ width:100%; float:left; padding: 5px;  }\n",
    "#fig2{ width:50%; float:left; clear:left; padding: 5px;  }\n",
    "#fig3{ width:50%; float:left; padding: 5px;  }\n",
    ".macros{ visibility:hidden; height:0px; }\n",
    "h1 {margin: 0em 0 0 0;}\n",
    "mark {background-color:#fff3b6;}\n",
    "img {object-fit:contain; max-height:250px; display:inline-block; text-align: center;}\n",
    "</style>\n",
    "\"\"\""
   ]
  },
  {
   "cell_type": "markdown",
   "id": "14bd6310",
   "metadata": {
    "papermill": {
     "duration": 0.004276,
     "end_time": "2023-03-08T06:47:52.785820",
     "exception": false,
     "start_time": "2023-03-08T06:47:52.781544",
     "status": "completed"
    },
    "tags": []
   },
   "source": [
    "## get list of arxiv paper candidates\n",
    "\n",
    "We use the MPIA mitarbeiter list webpage from mpia.de to get author names\n",
    "We then get all new papers from Arxiv and match authors"
   ]
  },
  {
   "cell_type": "code",
   "execution_count": 4,
   "id": "2645e73a",
   "metadata": {
    "execution": {
     "iopub.execute_input": "2023-03-08T06:47:52.795784Z",
     "iopub.status.busy": "2023-03-08T06:47:52.795144Z",
     "iopub.status.idle": "2023-03-08T06:48:24.275672Z",
     "shell.execute_reply": "2023-03-08T06:48:24.274764Z"
    },
    "papermill": {
     "duration": 31.494049,
     "end_time": "2023-03-08T06:48:24.283888",
     "exception": false,
     "start_time": "2023-03-08T06:47:52.789839",
     "status": "completed"
    },
    "tags": []
   },
   "outputs": [
    {
     "name": "stdout",
     "output_type": "stream",
     "text": [
      "Arxiv has 57 new papers today\n",
      "          15 with possible author matches\n"
     ]
    }
   ],
   "source": [
    "# get list from MPIA website\n",
    "# it automatically filters identified non-scientists :func:`mpia.filter_non_scientists`\n",
    "mpia_authors = mpia.get_mpia_mitarbeiter_list()\n",
    "new_papers = get_new_papers()\n",
    "# add manual references\n",
    "add_paper_refs = []\n",
    "new_papers.extend([get_paper_from_identifier(k) for k in add_paper_refs])\n",
    "\n",
    "# select only papers with matching author names and highlight authors\n",
    "hl_list = [k[0] for k in mpia_authors]\n",
    "\n",
    "candidates = []\n",
    "for paperk in new_papers:\n",
    "    hl_authors = highlight_authors_in_list(paperk['authors'], hl_list)\n",
    "    matches = [(hl, orig) for hl, orig in zip(hl_authors, paperk['authors']) if 'mark' in hl]\n",
    "    paperk['authors'] = hl_authors\n",
    "    if matches:\n",
    "        candidates.append(paperk)\n",
    "print(\"\"\"Arxiv has {0:,d} new papers today\"\"\".format(len(new_papers)))        \n",
    "print(\"\"\"          {0:,d} with possible author matches\"\"\".format(len(candidates)))"
   ]
  },
  {
   "cell_type": "markdown",
   "id": "3543b34a",
   "metadata": {
    "papermill": {
     "duration": 0.00472,
     "end_time": "2023-03-08T06:48:24.293035",
     "exception": false,
     "start_time": "2023-03-08T06:48:24.288315",
     "status": "completed"
    },
    "tags": []
   },
   "source": [
    "# Parse sources and generate relevant outputs\n",
    "\n",
    "From the candidates, we do the following steps:\n",
    "* get their tarball from ArXiv (and extract data)\n",
    "* find the main .tex file: find one with \\documentclass{...} (sometimes it's non trivial)\n",
    "* Check affiliations with :func:`validation`, which uses :func:`mpia.affiliation_verifications`\n",
    "* If passing the affiliations: we parse the .tex source\n",
    "   * inject sub-documents into the main (flatten the main document)\n",
    "   * parse structure, extract information (title, abstract, authors, figures...)\n",
    "   * handles `\\graphicspath` if provided\n",
    "* Generate the .md document."
   ]
  },
  {
   "cell_type": "code",
   "execution_count": 5,
   "id": "9576b79e",
   "metadata": {
    "execution": {
     "iopub.execute_input": "2023-03-08T06:48:24.304375Z",
     "iopub.status.busy": "2023-03-08T06:48:24.303976Z",
     "iopub.status.idle": "2023-03-08T06:49:35.022389Z",
     "shell.execute_reply": "2023-03-08T06:49:35.021361Z"
    },
    "papermill": {
     "duration": 70.727252,
     "end_time": "2023-03-08T06:49:35.025083",
     "exception": false,
     "start_time": "2023-03-08T06:48:24.297831",
     "status": "completed"
    },
    "scrolled": false,
    "tags": []
   },
   "outputs": [
    {
     "data": {
      "application/vnd.jupyter.widget-view+json": {
       "model_id": "be075379c54540a8963dba3314e12f58",
       "version_major": 2,
       "version_minor": 0
      },
      "text/plain": [
       "  0%|          | 0/14 [00:00<?, ?it/s]"
      ]
     },
     "metadata": {},
     "output_type": "display_data"
    },
    {
     "name": "stdout",
     "output_type": "stream",
     "text": [
      "Retrieving document from  https://arxiv.org/e-print/2303.03420\n"
     ]
    },
    {
     "name": "stdout",
     "output_type": "stream",
     "text": [
      "extracting tarball to tmp_2303.03420..."
     ]
    },
    {
     "name": "stdout",
     "output_type": "stream",
     "text": [
      " done.\n"
     ]
    },
    {
     "name": "stderr",
     "output_type": "stream",
     "text": [
      "/opt/hostedtoolcache/Python/3.9.16/x64/lib/python3.9/site-packages/IPython/core/interactiveshell.py:3460: LatexWarning: Multiple tex files.\n",
      "\n",
      "  exec(code_obj, self.user_global_ns, self.user_ns)\n",
      "/opt/hostedtoolcache/Python/3.9.16/x64/lib/python3.9/site-packages/IPython/core/interactiveshell.py:3460: LatexWarning: Found documentclass in tmp_2303.03420/main.tex\n",
      "\n",
      "  exec(code_obj, self.user_global_ns, self.user_ns)\n",
      "/opt/hostedtoolcache/Python/3.9.16/x64/lib/python3.9/site-packages/arxiv_on_deck_2/latex.py:318: LatexWarning: Latex injecting: 'appendix_confidences' from 'tmp_2303.03420/appendix_confidences.tex'\n",
      "  warnings.warn(LatexWarning(f\"Latex injecting: '{ext}' from '{subsource}'\"))\n",
      "/opt/hostedtoolcache/Python/3.9.16/x64/lib/python3.9/site-packages/arxiv_on_deck_2/latex.py:318: LatexWarning: Latex injecting: 'appendix_queries' from 'tmp_2303.03420/appendix_queries.tex'\n",
      "  warnings.warn(LatexWarning(f\"Latex injecting: '{ext}' from '{subsource}'\"))\n",
      "/opt/hostedtoolcache/Python/3.9.16/x64/lib/python3.9/site-packages/arxiv_on_deck_2/latex.py:318: LatexWarning: Latex injecting: 'acknowledgement' from 'tmp_2303.03420/acknowledgement.tex'\n",
      "  warnings.warn(LatexWarning(f\"Latex injecting: '{ext}' from '{subsource}'\"))\n",
      "/opt/hostedtoolcache/Python/3.9.16/x64/lib/python3.9/site-packages/arxiv_on_deck_2/latex.py:318: LatexWarning: Latex injecting: 'conclusion' from 'tmp_2303.03420/conclusion.tex'\n",
      "  warnings.warn(LatexWarning(f\"Latex injecting: '{ext}' from '{subsource}'\"))\n",
      "/opt/hostedtoolcache/Python/3.9.16/x64/lib/python3.9/site-packages/arxiv_on_deck_2/latex.py:318: LatexWarning: Latex injecting: 'discussion' from 'tmp_2303.03420/discussion.tex'\n",
      "  warnings.warn(LatexWarning(f\"Latex injecting: '{ext}' from '{subsource}'\"))\n",
      "/opt/hostedtoolcache/Python/3.9.16/x64/lib/python3.9/site-packages/arxiv_on_deck_2/latex.py:318: LatexWarning: Latex injecting: 'result' from 'tmp_2303.03420/result.tex'\n",
      "  warnings.warn(LatexWarning(f\"Latex injecting: '{ext}' from '{subsource}'\"))\n",
      "/opt/hostedtoolcache/Python/3.9.16/x64/lib/python3.9/site-packages/arxiv_on_deck_2/latex.py:318: LatexWarning: Latex injecting: 'optimization' from 'tmp_2303.03420/optimization.tex'\n",
      "  warnings.warn(LatexWarning(f\"Latex injecting: '{ext}' from '{subsource}'\"))\n",
      "/opt/hostedtoolcache/Python/3.9.16/x64/lib/python3.9/site-packages/arxiv_on_deck_2/latex.py:318: LatexWarning: Latex injecting: 'method' from 'tmp_2303.03420/method.tex'\n",
      "  warnings.warn(LatexWarning(f\"Latex injecting: '{ext}' from '{subsource}'\"))\n",
      "/opt/hostedtoolcache/Python/3.9.16/x64/lib/python3.9/site-packages/arxiv_on_deck_2/latex.py:318: LatexWarning: Latex injecting: 'data' from 'tmp_2303.03420/data.tex'\n",
      "  warnings.warn(LatexWarning(f\"Latex injecting: '{ext}' from '{subsource}'\"))\n",
      "/opt/hostedtoolcache/Python/3.9.16/x64/lib/python3.9/site-packages/arxiv_on_deck_2/latex.py:318: LatexWarning: Latex injecting: 'introduction' from 'tmp_2303.03420/introduction.tex'\n",
      "  warnings.warn(LatexWarning(f\"Latex injecting: '{ext}' from '{subsource}'\"))\n",
      "/opt/hostedtoolcache/Python/3.9.16/x64/lib/python3.9/site-packages/arxiv_on_deck_2/latex.py:318: LatexWarning: Latex injecting: 'abstract' from 'tmp_2303.03420/abstract.tex'\n",
      "  warnings.warn(LatexWarning(f\"Latex injecting: '{ext}' from '{subsource}'\"))\n",
      "/opt/hostedtoolcache/Python/3.9.16/x64/lib/python3.9/site-packages/arxiv_on_deck_2/latex.py:318: LatexWarning: Latex injecting: 'definition' from 'tmp_2303.03420/definition.tex'\n",
      "  warnings.warn(LatexWarning(f\"Latex injecting: '{ext}' from '{subsource}'\"))\n"
     ]
    },
    {
     "name": "stderr",
     "output_type": "stream",
     "text": [
      "/opt/hostedtoolcache/Python/3.9.16/x64/lib/python3.9/site-packages/arxiv_on_deck_2/latex.py:392: LatexWarning: Error parsing the document directly. Trying to recover.\n",
      "  warnings.warn(LatexWarning(f\"Error parsing the document directly. Trying to recover.\"))\n"
     ]
    },
    {
     "name": "stdout",
     "output_type": "stream",
     "text": [
      "✔ → 0:header\n",
      "  ↳ 3047:\\section{Introduction}\n"
     ]
    },
    {
     "name": "stdout",
     "output_type": "stream",
     "text": [
      "✘ → 3047:\\section{Introduction}\n",
      "  ↳ 14927:\\section{Data}\n"
     ]
    },
    {
     "name": "stdout",
     "output_type": "stream",
     "text": [
      "✔ → 14927:\\section{Data}\n",
      "  ↳ 33173:\\section{Method}\n"
     ]
    },
    {
     "name": "stdout",
     "output_type": "stream",
     "text": [
      "✘ → 33173:\\section{Method}\n",
      "  ↳ 56178:\\section{Determination of stellar parameters}\n"
     ]
    },
    {
     "name": "stdout",
     "output_type": "stream",
     "text": [
      "✔ → 56178:\\section{Determination of stellar parameters}\n",
      "  ↳ 84374:\\section{Results}\n"
     ]
    },
    {
     "name": "stdout",
     "output_type": "stream",
     "text": [
      "✔ → 84374:\\section{Results}\n",
      "  ↳ 119284:\\section{Discussion}\n",
      "✘ → 119284:\\section{Discussion}\n",
      "  ↳ 128211:\\section{Conclusions}\n",
      "✔ → 128211:\\section{Conclusions}\n",
      "  ↳ 131433:\\section{Acknowledgements}\n"
     ]
    },
    {
     "name": "stdout",
     "output_type": "stream",
     "text": [
      "✔ → 131433:\\section{Acknowledgements}\n",
      "  ↳ 134022:\\section{Gaia Archive Queries}\n",
      "✔ → 134022:\\section{Gaia Archive Queries}\n",
      "  ↳ 136654:\\section{Stellar atmospheric parameter confidence estimates}\n"
     ]
    },
    {
     "name": "stdout",
     "output_type": "stream",
     "text": [
      "✘ → 136654:\\section{Stellar atmospheric parameter confidence estimates}\n",
      "  ↳ 140032:end\n"
     ]
    },
    {
     "name": "stderr",
     "output_type": "stream",
     "text": [
      "/tmp/ipykernel_2048/4289671964.py:41: LatexWarning: 2303.03420 did not run properly\n",
      "bad escape \\m at position 1\n",
      "  warnings.warn(latex.LatexWarning(f\"{paper_id:s} did not run properly\\n\" +\n"
     ]
    },
    {
     "name": "stdout",
     "output_type": "stream",
     "text": [
      "Retrieving document from  https://arxiv.org/e-print/2303.03424\n"
     ]
    },
    {
     "name": "stdout",
     "output_type": "stream",
     "text": [
      "extracting tarball to tmp_2303.03424..."
     ]
    },
    {
     "name": "stdout",
     "output_type": "stream",
     "text": [
      " done.\n",
      "Retrieving document from  https://arxiv.org/e-print/2303.03435\n"
     ]
    },
    {
     "name": "stderr",
     "output_type": "stream",
     "text": [
      "/opt/hostedtoolcache/Python/3.9.16/x64/lib/python3.9/site-packages/IPython/core/interactiveshell.py:3460: LatexWarning: Multiple tex files.\n",
      "\n",
      "  exec(code_obj, self.user_global_ns, self.user_ns)\n",
      "/opt/hostedtoolcache/Python/3.9.16/x64/lib/python3.9/site-packages/IPython/core/interactiveshell.py:3460: LatexWarning: Found documentclass in tmp_2303.03424/main.tex\n",
      "\n",
      "  exec(code_obj, self.user_global_ns, self.user_ns)\n",
      "/opt/hostedtoolcache/Python/3.9.16/x64/lib/python3.9/site-packages/arxiv_on_deck_2/latex.py:318: LatexWarning: Latex injecting: './IR_bb_table.tex' from 'tmp_2303.03424/IR_bb_table.tex'\n",
      "  warnings.warn(LatexWarning(f\"Latex injecting: '{ext}' from '{subsource}'\"))\n",
      "/opt/hostedtoolcache/Python/3.9.16/x64/lib/python3.9/site-packages/arxiv_on_deck_2/latex.py:318: LatexWarning: Latex injecting: './bbfit_table.tex' from 'tmp_2303.03424/bbfit_table.tex'\n",
      "  warnings.warn(LatexWarning(f\"Latex injecting: '{ext}' from '{subsource}'\"))\n",
      "/opt/hostedtoolcache/Python/3.9.16/x64/lib/python3.9/site-packages/arxiv_on_deck_2/latex.py:318: LatexWarning: Latex injecting: './spec_list.tex' from 'tmp_2303.03424/spec_list.tex'\n",
      "  warnings.warn(LatexWarning(f\"Latex injecting: '{ext}' from '{subsource}'\"))\n",
      "/opt/hostedtoolcache/Python/3.9.16/x64/lib/python3.9/site-packages/arxiv_on_deck_2/latex.py:318: LatexWarning: Latex injecting: 'photometry.tex' from 'tmp_2303.03424/photometry.tex'\n",
      "  warnings.warn(LatexWarning(f\"Latex injecting: '{ext}' from '{subsource}'\"))\n"
     ]
    },
    {
     "name": "stdout",
     "output_type": "stream",
     "text": [
      "extracting tarball to tmp_2303.03435..."
     ]
    },
    {
     "name": "stdout",
     "output_type": "stream",
     "text": [
      " done.\n",
      "Retrieving document from  https://arxiv.org/e-print/2303.03438\n"
     ]
    },
    {
     "name": "stdout",
     "output_type": "stream",
     "text": [
      "extracting tarball to tmp_2303.03438..."
     ]
    },
    {
     "name": "stdout",
     "output_type": "stream",
     "text": [
      " done.\n",
      "Retrieving document from  https://arxiv.org/e-print/2303.03464\n"
     ]
    },
    {
     "name": "stderr",
     "output_type": "stream",
     "text": [
      "/tmp/ipykernel_2048/4289671964.py:41: LatexWarning: 2303.03464 did not run properly\n",
      "not a gzip file\n",
      "  warnings.warn(latex.LatexWarning(f\"{paper_id:s} did not run properly\\n\" +\n"
     ]
    },
    {
     "name": "stdout",
     "output_type": "stream",
     "text": [
      "Retrieving document from  https://arxiv.org/e-print/2303.03610\n"
     ]
    },
    {
     "name": "stdout",
     "output_type": "stream",
     "text": [
      "extracting tarball to tmp_2303.03610..."
     ]
    },
    {
     "name": "stdout",
     "output_type": "stream",
     "text": [
      " done.\n",
      "Retrieving document from  https://arxiv.org/e-print/2303.03619\n"
     ]
    },
    {
     "name": "stdout",
     "output_type": "stream",
     "text": [
      "extracting tarball to tmp_2303.03619..."
     ]
    },
    {
     "name": "stdout",
     "output_type": "stream",
     "text": [
      " done.\n",
      "Retrieving document from  https://arxiv.org/e-print/2303.03621\n"
     ]
    },
    {
     "name": "stdout",
     "output_type": "stream",
     "text": [
      "extracting tarball to tmp_2303.03621..."
     ]
    },
    {
     "name": "stdout",
     "output_type": "stream",
     "text": [
      " done.\n",
      "Retrieving document from  https://arxiv.org/e-print/2303.03669\n"
     ]
    },
    {
     "name": "stdout",
     "output_type": "stream",
     "text": [
      "extracting tarball to tmp_2303.03669..."
     ]
    },
    {
     "name": "stdout",
     "output_type": "stream",
     "text": [
      " done.\n",
      "Retrieving document from  https://arxiv.org/e-print/2303.03718\n"
     ]
    },
    {
     "name": "stdout",
     "output_type": "stream",
     "text": [
      "extracting tarball to tmp_2303.03718..."
     ]
    },
    {
     "name": "stdout",
     "output_type": "stream",
     "text": [
      " done.\n",
      "Retrieving document from  https://arxiv.org/e-print/2303.03775\n"
     ]
    },
    {
     "name": "stdout",
     "output_type": "stream",
     "text": [
      "extracting tarball to tmp_2303.03775..."
     ]
    },
    {
     "name": "stdout",
     "output_type": "stream",
     "text": [
      " done.\n",
      "Retrieving document from  https://arxiv.org/e-print/2303.03824\n"
     ]
    },
    {
     "name": "stdout",
     "output_type": "stream",
     "text": [
      "extracting tarball to tmp_2303.03824..."
     ]
    },
    {
     "name": "stdout",
     "output_type": "stream",
     "text": [
      " done.\n",
      "Retrieving document from  https://arxiv.org/e-print/2303.03936\n"
     ]
    },
    {
     "name": "stderr",
     "output_type": "stream",
     "text": [
      "/opt/hostedtoolcache/Python/3.9.16/x64/lib/python3.9/site-packages/IPython/core/interactiveshell.py:3460: LatexWarning: Multiple tex files.\n",
      "\n",
      "  exec(code_obj, self.user_global_ns, self.user_ns)\n",
      "/opt/hostedtoolcache/Python/3.9.16/x64/lib/python3.9/site-packages/IPython/core/interactiveshell.py:3460: LatexWarning: Found documentclass in tmp_2303.03824/aa.tex\n",
      "\n",
      "  exec(code_obj, self.user_global_ns, self.user_ns)\n"
     ]
    },
    {
     "name": "stdout",
     "output_type": "stream",
     "text": [
      "extracting tarball to tmp_2303.03936..."
     ]
    },
    {
     "name": "stdout",
     "output_type": "stream",
     "text": [
      " done.\n",
      "Retrieving document from  https://arxiv.org/e-print/2303.03952\n"
     ]
    },
    {
     "name": "stdout",
     "output_type": "stream",
     "text": [
      "extracting tarball to tmp_2303.03952..."
     ]
    },
    {
     "name": "stdout",
     "output_type": "stream",
     "text": [
      " done.\n"
     ]
    }
   ],
   "source": [
    "documents = []\n",
    "failed = []\n",
    "for paper in tqdm(candidates[:-1]):\n",
    "    paper_id = paper['identifier'].lower().replace('arxiv:', '')\n",
    "    \n",
    "    folder = f'tmp_{paper_id}'\n",
    "\n",
    "    try:\n",
    "        if not os.path.isdir(folder):\n",
    "            folder = retrieve_document_source(f\"{paper_id}\", f'tmp_{paper_id}')\n",
    "        \n",
    "        try:\n",
    "            doc = latex.LatexDocument(folder, validation=validation)    \n",
    "        except AffiliationError as affilerror:\n",
    "            msg = f\"ArXiv:{paper_id:s} is not an MPIA paper... \" + str(affilerror)\n",
    "            failed.append((paper, \"affiliation error: \" + str(affilerror) ))\n",
    "            continue\n",
    "        \n",
    "        # Hack because sometimes author parsing does not work well\n",
    "        if (len(doc.authors) != len(paper['authors'])):\n",
    "            doc._authors = paper['authors']\n",
    "        if (doc.abstract) in (None, ''):\n",
    "            doc._abstract = paper['abstract']\n",
    "            \n",
    "        doc.comment = (get_markdown_badge(paper_id) + \n",
    "                       \"<mark>Appeared on: \" + paper['date'] + \"</mark> - \" +\n",
    "                       \"_\" + paper['comments'] + \"_\")\n",
    "        doc.highlight_authors_in_list(hl_list)\n",
    "\n",
    "        full_md = doc.generate_markdown_text()\n",
    "        \n",
    "        # replace citations\n",
    "        try:\n",
    "            bibdata = latex_bib.LatexBib.from_doc(doc)\n",
    "            full_md = latex_bib.replace_citations(full_md, bibdata)\n",
    "        except Exception as e:\n",
    "            print(e)\n",
    "        \n",
    "        documents.append((paper_id, full_md))\n",
    "    except Exception as e:\n",
    "        warnings.warn(latex.LatexWarning(f\"{paper_id:s} did not run properly\\n\" +\n",
    "                                         str(e)\n",
    "                                        ))\n",
    "        failed.append((paper, \"latex error \" + str(e)))"
   ]
  },
  {
   "cell_type": "markdown",
   "id": "2505a25c",
   "metadata": {
    "papermill": {
     "duration": 0.007248,
     "end_time": "2023-03-08T06:49:35.041732",
     "exception": false,
     "start_time": "2023-03-08T06:49:35.034484",
     "status": "completed"
    },
    "tags": []
   },
   "source": [
    "### Export the logs\n",
    "\n",
    "Throughout, we also keep track of the logs per paper. see `logs-{today date}.md` "
   ]
  },
  {
   "cell_type": "code",
   "execution_count": 6,
   "id": "d733828a",
   "metadata": {
    "execution": {
     "iopub.execute_input": "2023-03-08T06:49:35.062593Z",
     "iopub.status.busy": "2023-03-08T06:49:35.060312Z",
     "iopub.status.idle": "2023-03-08T06:49:35.104187Z",
     "shell.execute_reply": "2023-03-08T06:49:35.103238Z"
    },
    "papermill": {
     "duration": 0.056457,
     "end_time": "2023-03-08T06:49:35.106776",
     "exception": false,
     "start_time": "2023-03-08T06:49:35.050319",
     "status": "completed"
    },
    "scrolled": false,
    "tags": []
   },
   "outputs": [
    {
     "data": {
      "text/markdown": [
       "## Successful papers"
      ],
      "text/plain": [
       "<IPython.core.display.Markdown object>"
      ]
     },
     "metadata": {},
     "output_type": "display_data"
    },
    {
     "data": {
      "text/markdown": [
       "## Failed papers"
      ],
      "text/plain": [
       "<IPython.core.display.Markdown object>"
      ]
     },
     "metadata": {},
     "output_type": "display_data"
    },
    {
     "data": {
      "text/markdown": [
       "\n",
       "|||\n",
       "|---:|:---|\n",
       "| [![arXiv](https://img.shields.io/badge/arXiv-arXiv:2303.03424-b31b1b.svg)](https://arxiv.org/abs/arXiv:2303.03424) | **SN2017egm: A Helium-rich Superluminous Supernova with Multiple Bumps in  the Light Curves**  |\n",
       "|| Jiazheng Zhu, et al. -- incl., <mark>Peter J. Brown</mark> |\n",
       "|*Appeared on*| *2023-03-08*|\n",
       "|*Comments*| *25 pages, 14 Figures, 4 Tables; accepted for publication in ApJ (Mar. 2023)*|\n",
       "|**Abstract**| When discovered, SN~2017egm was the closest (redshift $z=0.03$) hydrogen-poor superluminous supernova (SLSN-I) and a rare case that exploded in a massive and metal-rich galaxy. Thus, it has since been extensively observed and studied. We report spectroscopic data showing strong emission at around He~I $\\lambda$10,830 and four He~I absorption lines in the optical. Consequently, we classify SN~2017egm as a member of an emerging population of helium-rich SLSNe-I (i.e., SLSNe-Ib). We also present our late-time photometric observations. By combining them with archival data, we analyze high-cadence ultra-violet, optical, and near-infrared light curves spanning from early pre-peak ($\\sim -20\\,d$) to late phases ($\\sim +300\\,d$). We obtain its most complete bolometric light curve, in which multiple bumps are identified. None of the previously proposed models can satisfactorily explain all main light-curve features, while multiple interactions between the ejecta and circumstellar material (CSM) may explain the undulating features. The prominent infrared excess with a blackbody luminosity of $10^7$--$10^8\\,L_{sun}$ detected in SN~2017egm could originate from the emission of either an echo of a pre-existing dust shell, or newly-formed dust, offering an additional piece of evidence supporting the ejecta-CSM interaction model. Moreover, our analysis of deep $Chandra$ observations yields the tightest-ever constraint on the X-ray emission of an SLSN-I, amounting to an X-ray-to-optical luminosity ratio $\\lesssim 10^{-3}$ at late phases ($\\sim100-200\\,d$), which could help explore its close environment and central engine. |\n",
       "|<p style=\"color:green\"> **ERROR** </p>| <p style=\"color:green\">affiliation error: mpia.affiliation_verifications: '69117' keyword not found.</p> |"
      ],
      "text/plain": [
       "<IPython.core.display.Markdown object>"
      ]
     },
     "metadata": {},
     "output_type": "display_data"
    },
    {
     "data": {
      "text/markdown": [
       "\n",
       "|||\n",
       "|---:|:---|\n",
       "| [![arXiv](https://img.shields.io/badge/arXiv-arXiv:2303.03435-b31b1b.svg)](https://arxiv.org/abs/arXiv:2303.03435) | **Population III X-ray Binaries and their Impact on the Early Universe**  |\n",
       "|| Nina S. Sartorio, et al. -- incl., <mark>M. Magg</mark> |\n",
       "|*Appeared on*| *2023-03-08*|\n",
       "|*Comments*| *Accepted for publication in MNRAS, 17 pages, 9 figures*|\n",
       "|**Abstract**| The first population of X-ray binaries (XRBs) is expected to affect the thermal and ionization states of the gas in the early Universe. Although these X-ray sources are predicted to have important implications for high-redshift observable signals, such as the hydrogen 21-cm signal from cosmic dawn and the cosmic X-ray background, their properties are poorly explored, leaving theoretical models largely uninformed. In this paper we model a population of X-ray binaries arising from zero metallicity stars. We explore how their properties depend on the adopted initial mass function (IMF) of primordial stars, finding a strong effect on their number and X-ray production efficiency. We also present scaling relations between XRBs and their X-ray emission with the local star formation rate, which can be used in sub-grid models in numerical simulations to improve the X-ray feedback prescriptions. Specifically, we find that the uniformity and strength of the X-ray feedback in the intergalactic medium is strongly dependant on the IMF. Bottom-heavy IMFs result in a smoother distribution of XRBs, but have a luminosity orders of magnitude lower than more top-heavy IMFs. Top-heavy IMFs lead to more spatially uneven, albeit strong, X-ray emission. An intermediate IMF has a strong X-ray feedback while sustaining an even emission across the intergalactic medium. These differences in X-ray feedback could be probed in the future with measurements of the cosmic dawn 21-cm line of neutral hydrogen, which offers us a new way of constraining population III IMF. |\n",
       "|<p style=\"color:green\"> **ERROR** </p>| <p style=\"color:green\">affiliation error: mpia.affiliation_verifications: '69117' keyword not found.</p> |"
      ],
      "text/plain": [
       "<IPython.core.display.Markdown object>"
      ]
     },
     "metadata": {},
     "output_type": "display_data"
    },
    {
     "data": {
      "text/markdown": [
       "\n",
       "|||\n",
       "|---:|:---|\n",
       "| [![arXiv](https://img.shields.io/badge/arXiv-arXiv:2303.03438-b31b1b.svg)](https://arxiv.org/abs/arXiv:2303.03438) | **X-ray Unveiling Events in a z~1.6 Active Galactic Nucleus in the 7 Ms  Chandra Deep Field-South**  |\n",
       "|| <mark>Li-Ming Yu</mark>, et al. |\n",
       "|*Appeared on*| *2023-03-08*|\n",
       "|*Comments*| *23 pages, 9 figures, accepted for publication in ApJ*|\n",
       "|**Abstract**| We investigate the extreme X-ray variability of a z = 1.608 active galactic nucleus in the 7 Ms Chandra Deep Field-South (XID 403), which showed two significant X-ray brightening events. In the first event, XID 403 brightened by a factor of $>2.5$ in $\\lesssim6.1$ rest-frame days in the observed-frame 0.5-5 keV band. The event lasted for $\\approx5.0\\textrm{-}7.3$ days, and then XID 403 dimmed by a factor of $>6.0$ in $\\lesssim6.1$ days. After $\\approx1.1\\textrm{-}2.5$ years in the rest frame (including long observational gaps), it brightened again with the 0.5-5 keV flux increasing by a factor of $>12.6$. The second event lasted over 251 days and the source remained bright until the end of the 7 Ms exposure. The spectrum is a steep power law (photon index $\\Gamma=2.8\\pm0.3$) without obscuration during the second outburst, and the rest-frame 2-10 keV luminosity reaches $1.5^{+0.8}_{-0.5}\\times10^{43}$ erg s$^{-1}$; there is no significant spectral evolution within this epoch. The infrared-to-UV spectral energy distribution of XID 403 is dominated by the host galaxy. There is no significant optical/UV variability and $R$-band (rest-frame $\\approx2500$ $\\unicode{xC5}$) brightening contemporaneous with the X-ray brightening. The extreme X-ray variability is likely due to two X-ray unveiling events, where the line of sight to the corona is no longer shielded by high-density gas clumps in a small-scale dust-free absorber. XID 403 is probably a high-redshift analog of local narrow-line Seyfert 1 galaxies, and the X-ray absorber is a powerful accretion-disk wind. On the other hand, we cannot exclude the possibility that XID 403 is an unusual candidate for tidal disruption events. |\n",
       "|<p style=\"color:green\"> **ERROR** </p>| <p style=\"color:green\">affiliation error: mpia.affiliation_verifications: 'Heidelberg' keyword not found.</p> |"
      ],
      "text/plain": [
       "<IPython.core.display.Markdown object>"
      ]
     },
     "metadata": {},
     "output_type": "display_data"
    },
    {
     "data": {
      "text/markdown": [
       "\n",
       "|||\n",
       "|---:|:---|\n",
       "| [![arXiv](https://img.shields.io/badge/arXiv-arXiv:2303.03610-b31b1b.svg)](https://arxiv.org/abs/arXiv:2303.03610) | **Revisiting the Transit Timing and Atmosphere Characterization of the  Neptune-mass Planet HAT-P-26 b**  |\n",
       "|| Napaporn A-thano, et al. -- incl., <mark>Li-Chin Yeh</mark> |\n",
       "|*Appeared on*| *2023-03-08*|\n",
       "|*Comments*| *26 pages, submitted to AJ*|\n",
       "|**Abstract**| We present the transit timing variation (TTV) and planetary atmosphere analysis of the Neptune-mass planet HAT-P-26 b. We present a new set of 13 transit light curves from optical ground-based observations and combine them with light curves from the Wide Field Camera 3 (WFC3) on the Hubble Space Telescope (HST), Transiting Exoplanet Survey Satellite (TESS), and previously published ground-based data. We refine the planetary parameters of HAT-P-26 b and undertake a TTV analysis using 33 transits obtained over seven years. The TTV analysis shows an amplitude signal of 1.28 minutes, which could result from the presence of an additional 0.02 Jupiter-mass planet at the 1:2 mean-motion resonance orbit. Using a combination of transit depths spanning optical to near-infrared wavelengths, we find that the atmosphere of HAT-P-26 b contains $12^{+2}_{-2}$ % of H$_2$O and $0.1^{+0.1}_{-0.1}$ % of TiO with a derived temperature of $590^{+20}_{-30}$ K. |\n",
       "|<p style=\"color:green\"> **ERROR** </p>| <p style=\"color:green\">affiliation error: mpia.affiliation_verifications: 'Heidelberg' keyword not found.</p> |"
      ],
      "text/plain": [
       "<IPython.core.display.Markdown object>"
      ]
     },
     "metadata": {},
     "output_type": "display_data"
    },
    {
     "data": {
      "text/markdown": [
       "\n",
       "|||\n",
       "|---:|:---|\n",
       "| [![arXiv](https://img.shields.io/badge/arXiv-arXiv:2303.03619-b31b1b.svg)](https://arxiv.org/abs/arXiv:2303.03619) | **Detection of ~100 days periodicity in the gamma-ray light curve of the  BL Lac 4FGL 2022.7+4216**  |\n",
       "|| Banerjee, et al. -- incl., <mark>Sharma</mark> |\n",
       "|*Appeared on*| *2023-03-08*|\n",
       "|*Comments*| **|\n",
       "|**Abstract**| Study of quasi-periodic oscillations (QPO) in blazars is one of the crucial methods for gaining insights into the workings of the central engines of active galactic nuclei. QPOs with various characteristic time scales have been observed in the multi-wavelength emission of blazars, ranging from the radio to gamma-ray frequency bands. In this study, we carry out a comprehensive variability analysis of the BL Lac object 4FGL 2022.7+4216 detected by the \\textit{Fermi-}LAT, over a period of more than three years, from April 27, 2019 to August 09, 2022. By utilizing multiple widely-used methods of time-series analyses, we detect the presence of quasi-periodic fluctuations with a period of $\\sim$100 days with a confidence level exceeding $4\\sigma$. This is the first time such a variability feature pertaining to this source is being reported. We propose that the observed QPO may be related to the precession of the blazar jet with a high Lorentz factor or to the motion of a plasma blob through the helical structure of the jet. However, for a decisive conclusion on the physical origin of such fluctuation, further multi-wavelength complementary observations, especially Very Long Baseline Interferometric observations, would be required. |\n",
       "|<p style=\"color:green\"> **ERROR** </p>| <p style=\"color:green\">affiliation error: mpia.affiliation_verifications: 'Heidelberg' keyword not found.</p> |"
      ],
      "text/plain": [
       "<IPython.core.display.Markdown object>"
      ]
     },
     "metadata": {},
     "output_type": "display_data"
    },
    {
     "data": {
      "text/markdown": [
       "\n",
       "|||\n",
       "|---:|:---|\n",
       "| [![arXiv](https://img.shields.io/badge/arXiv-arXiv:2303.03621-b31b1b.svg)](https://arxiv.org/abs/arXiv:2303.03621) | **Planetesimal growth in evolving protoplanetary disks: constraints from  the pebble supply**  |\n",
       "|| Tong Fang, et al. -- incl., <mark>Hui Zhang</mark> |\n",
       "|*Appeared on*| *2023-03-08*|\n",
       "|*Comments*| **|\n",
       "|**Abstract**| In the core accretion model, planetesimals grow by mutual collisions and engulfing millimeter to centimeter particles, i.e., pebbles. Pebble accretion can significantly increase the accretion efficiency and help explain the presence of planets on wide orbits. However, the pebble supply is typically parameterized as a coherent pebble mass flux, sometimes being constant in space and time. Here we solve the dust advection and diffusion within viciously evolving protoplanetary disks to determine the pebble supply self-consistently. The pebbles are then accreted by planetesimals interacting with the gas disk via gas drags and gravitational torques. The pebble supply is variable with space and decays with time quickly with a pebble flux below 10 $M_\\oplus$/Myr after 1 Myr in our models. As a result, only when massive planetesimals ($>$ 0.01 $M_\\oplus$) are luckily produced by the streaming instability or the disk has low viscosity ($\\alpha \\sim 0.0001$), can the herd of planetesimals grows over Mars mass within 2 Myr. By then, planetesimals only capture pebbles about 50 times their mass and as little as 10 times beyond 20 au due to limited pebble supply. Further studies considering multiple dust species in various disk conditions are warranted to fully assess the realistic pebble supply and its influence on planetesimal growth. |\n",
       "|<p style=\"color:green\"> **ERROR** </p>| <p style=\"color:green\">affiliation error: mpia.affiliation_verifications: 'Heidelberg' keyword not found.</p> |"
      ],
      "text/plain": [
       "<IPython.core.display.Markdown object>"
      ]
     },
     "metadata": {},
     "output_type": "display_data"
    },
    {
     "data": {
      "text/markdown": [
       "\n",
       "|||\n",
       "|---:|:---|\n",
       "| [![arXiv](https://img.shields.io/badge/arXiv-arXiv:2303.03669-b31b1b.svg)](https://arxiv.org/abs/arXiv:2303.03669) | **The Solar Upper Transition Region Imager (SUTRI) onboard the SATech-01  satellite**  |\n",
       "|| Xianyong Bai, et al. -- incl., <mark>Xiaofeng Zhang</mark>, <mark>Yonghe Zhang</mark>, <mark>Chunling He</mark>, <mark>Song Guo</mark>, <mark>Fu Li</mark>, <mark>Jiawei He</mark>, <mark>Junwang He</mark>, <mark>Jinsong Li</mark>, <mark>Taijie Li</mark>, <mark>Sifan Guo</mark>, <mark>Haiyu Li</mark>, <mark>Zhe Zhang</mark>, <mark>Wenbin Li</mark>, <mark>Zhong Zhang</mark> |\n",
       "|*Appeared on*| *2023-03-08*|\n",
       "|*Comments*| *29pages,16figures*|\n",
       "|**Abstract**| The Solar Upper Transition Region Imager (SUTRI) onboard the Space Advanced Technology demonstration satellite (SATech-01), which was launched to a sun-synchronous orbit at a height of 500 km in July 2022, aims to test the on-orbit performance of our newly developed Sc-Si multi-layer reflecting mirror and the 2kx2k EUV CMOS imaging camera and to take full-disk solar images at the Ne VII 46.5 nm spectral line with a filter width of 3 nm. SUTRI employs a Ritchey-Chretien optical system with an aperture of 18 cm. The on-orbit observations show that SUTRI images have a field of view of 41.6'x41.6' and a moderate spatial resolution of 8\" without an image stabilization system. The normal cadence of SUTRI images is 30 s and the solar observation time is about 16 hours each day because the earth eclipse time accounts for about 1/3 of SATech-01's orbit period. Approximately 15 GB data is acquired each day and made available online after processing. SUTRI images are valuable as the Ne VII 46.5 nm line is formed at a temperature regime of 0.5 MK in the solar atmosphere, which has rarely been sampled by existing solar imagers. SUTRI observations will establish connections between structures in the lower solar atmosphere and corona, and advance our understanding of various types of solar activity such as flares, filament eruptions, coronal jets and coronal mass ejections. |\n",
       "|<p style=\"color:green\"> **ERROR** </p>| <p style=\"color:green\">affiliation error: mpia.affiliation_verifications: 'Heidelberg' keyword not found.</p> |"
      ],
      "text/plain": [
       "<IPython.core.display.Markdown object>"
      ]
     },
     "metadata": {},
     "output_type": "display_data"
    },
    {
     "data": {
      "text/markdown": [
       "\n",
       "|||\n",
       "|---:|:---|\n",
       "| [![arXiv](https://img.shields.io/badge/arXiv-arXiv:2303.03718-b31b1b.svg)](https://arxiv.org/abs/arXiv:2303.03718) | **New dwarf galaxy candidates in the sphere of influence of the Local  Volume spiral galaxy NGC2683**  |\n",
       "|| E. Crosby, et al. -- incl., <mark>O. Müller</mark> |\n",
       "|*Appeared on*| *2023-03-08*|\n",
       "|*Comments*| *17 pages, 12 figures, accepted to MNRAS*|\n",
       "|**Abstract**| We present initial results of a survey of host $L_{*}$ galaxies environments in the Local Volume ($D<10\\,$Mpc) searching for satellite dwarf galaxy candidates using the wide-field Hyper Suprime-Cam imager on the 8m Subaru Telescope. The current paper presents complete results on NGC2683 ($M_{B_T,0}=-19.62$, $D=9.36\\,Mpc$, $v_{\\odot}=411\\,km\\,s^{-1}$), an isolated Sc spiral galaxy in the Leo Spur. At the distance of NGC2683, we image the complete volume out to projected radii of $380\\,kpc$ using a hexagonal arrangement of 7 pointings. Direct inspection of the images is complete down to $M_{g}\\sim-11$ and has revealed 4 new satellite galaxy candidates, 2 of which have been independently discovered by other researchers. Assuming the distance of NGC2683, these candidates span luminosities $-12 < M_g < -9$ and effective radii 150\\,pc $< r_e <$ 1100\\,pc and are found to be morphologically reminiscent of satellite galaxies in the Local Group. These 4 new candidates add to the 8 already known. A Principle Component Analysis of the 2D projected distribution of the 12 satellite galaxies of NGC2683 reveals a flattened projected disk of satellites, with axis ratio $b/a=0.23$. This flattening in the 2D projected system of satellites is a 1 percent outlier of simulated isotropic satellite systems but is mostly consistent with satellite distributions of comparable galaxy environments in the IllustrisTNG simulation. This indicates the possible presence of a satellite plane, which will need to be investigated with follow-up observations. |\n",
       "|<p style=\"color:green\"> **ERROR** </p>| <p style=\"color:green\">affiliation error: mpia.affiliation_verifications: 'Heidelberg' keyword not found.</p> |"
      ],
      "text/plain": [
       "<IPython.core.display.Markdown object>"
      ]
     },
     "metadata": {},
     "output_type": "display_data"
    },
    {
     "data": {
      "text/markdown": [
       "\n",
       "|||\n",
       "|---:|:---|\n",
       "| [![arXiv](https://img.shields.io/badge/arXiv-arXiv:2303.03775-b31b1b.svg)](https://arxiv.org/abs/arXiv:2303.03775) | **The young mini-Neptune HD 207496b that is either a naked core or on the  verge of becoming one**  |\n",
       "|| S. C. C. Barros, et al. -- incl., <mark>C. Ziegler</mark> |\n",
       "|*Appeared on*| *2023-03-08*|\n",
       "|*Comments*| *20 pages, 18 figures, 4 tables, A&A accepted*|\n",
       "|**Abstract**| We report the discovery and characterisation of the transiting mini-Neptune HD~207496~b (TOI-1099) as part of a large programme that aims to characterise naked core planets. We obtained HARPS spectroscopic observations, one ground-based transit, and high-resolution imaging which we combined with the TESS photometry to confirm and characterise the TESS candidate and its host star. The host star is an active early K dwarf with a mass of $0.80 \\pm 0.04\\,$M$_\\odot$, a radius of $0.769 \\pm 0.026\\,$R$_\\odot$, and a G magnitude of 8. We found that the host star is young, $\\sim 0.52\\,$ Myr, allowing us to gain insight into planetary evolution. We derived a planetary mass of $6.1 \\pm 1.6\\,\\mathrm{M}_E$,\\, a planetary radius of $2.25 \\pm 0.12\\,\\mathrm{R}_E$,\\ and a planetary density of $\\rho_p = 3.27_{-0.91}^{+0.97}\\,\\mathrm{g.cm^{-3}}$. From internal structure modelling of the planet, we conclude that the planet has either a water-rich envelope, a gas-rich envelope, or a mixture of both. We have performed evaporation modelling of the planet. If we assume the planet has a gas-rich envelope, we find that the planet has lost a significant fraction of its envelope and its radius has shrunk. Furthermore, we estimate it will lose all its remaining gaseous envelope in $\\sim 0.52\\,$ Gyr. Otherwise, the planet could have already lost all its primordial gas and is now a bare ocean planet. Further observations of its possible atmosphere and/or mass-loss rate would allow us to distinguish between these two hypotheses. Such observations would determine if the planet remains above the radius gap or if it will shrink and be below the gap. |\n",
       "|<p style=\"color:green\"> **ERROR** </p>| <p style=\"color:green\">affiliation error: mpia.affiliation_verifications: 'Heidelberg' keyword not found.</p> |"
      ],
      "text/plain": [
       "<IPython.core.display.Markdown object>"
      ]
     },
     "metadata": {},
     "output_type": "display_data"
    },
    {
     "data": {
      "text/markdown": [
       "\n",
       "|||\n",
       "|---:|:---|\n",
       "| [![arXiv](https://img.shields.io/badge/arXiv-arXiv:2303.03824-b31b1b.svg)](https://arxiv.org/abs/arXiv:2303.03824) | **A new pulsar timing model for scalar-tensor gravity with applications to  PSR J2222-0137 and pulsar-black hole binaries**  |\n",
       "|| A. Batrakov, et al. -- incl., <mark>M. Kramer</mark>, <mark>Y. J. Guo</mark> |\n",
       "|*Appeared on*| *2023-03-08*|\n",
       "|*Comments*| *Accepted to Astronomy and Astrophysics on 09.02.2023*|\n",
       "|**Abstract**| Context. Scalar-tensor gravity (STG) theories are well-motivated alternatives to general relativity (GR). One class of STG theories, the Damour-Esposito-Farese (DEF) gravity, has a massless scalar field with two arbitrary coupling parameters. We are interested in this theory because, despite its simplicity, it predicts a wealth of different phenomena, such as dipolar gravitational wave emission and spontaneous scalarization of neutron stars (NSs). These phenomena of DEF gravity can be tested by timing binary radio pulsars. Aims. We aim to develop a new binary pulsar timing model DDSTG to enable more precise tests of STG theories based on a minimal set of binary parameters. The expressions for post-Keplerian (PK) parameters in DEF gravity are self-consistently incorporated into the model. The new technique takes into account all possible correlations between PK parameters naturally. Methods. Grids of physical parameters of NSs are calculated in the framework of DEF gravity for a set of 11 equations of state. The automatic Differentiation (AutoDiff) technique is employed, which aids in the calculation of gravitational form factors of NSs with higher precision than in previous works. The pulsar timing program TEMPO is selected as a framework for the realization of the DDSTG model. The implemented model is applicable to any type of pulsar companions. Results. We apply the DDSTG model to the most recently published observational data for PSR J2222-0137. The obtained limits on DEF gravity parameters for this system confirm and improve previous results. New limits are also the most reliable because DEF gravity is directly fitted to the data. We argue that future observations of PSR J2222-0137 can significantly improve the limits and that PSR-BH systems have the potential to place the tightest limits in certain areas of the DEF gravity parameter space. |\n",
       "|<p style=\"color:green\"> **ERROR** </p>| <p style=\"color:green\">affiliation error: mpia.affiliation_verifications: 'Heidelberg' keyword not found.</p> |"
      ],
      "text/plain": [
       "<IPython.core.display.Markdown object>"
      ]
     },
     "metadata": {},
     "output_type": "display_data"
    },
    {
     "data": {
      "text/markdown": [
       "\n",
       "|||\n",
       "|---:|:---|\n",
       "| [![arXiv](https://img.shields.io/badge/arXiv-arXiv:2303.03936-b31b1b.svg)](https://arxiv.org/abs/arXiv:2303.03936) | **Using entropy bounds to avoid the cosmological singularity and constrain  particle production**  |\n",
       "|| Hao Yu, <mark>Jin Li</mark> |\n",
       "|*Appeared on*| *2023-03-08*|\n",
       "|*Comments*| *21 pages, 7 figures*|\n",
       "|**Abstract**| In this work, we study the applications of entropy bounds in two toy cosmological models with particle production (annihilation), i.e., radiation-dominated universe and dust-dominated universe. Since entropy bounds are involved in the volume of the thermodynamc system, we need to specify the thermodynamc system in the universe in advance. We consider the co-moving volume and the volume covered by the particle horizon as the target thermodynamic system. With Bekenstein bound and spherical entropy bound, it is found that the cosmological singularity could be avoided and the cosmological particle production (annihilation) may need to be truncated for some special situations. Our study can be extended to other cosmological models with particle production (annihilation). |\n",
       "|<p style=\"color:green\"> **ERROR** </p>| <p style=\"color:green\">affiliation error: mpia.affiliation_verifications: 'Heidelberg' keyword not found.</p> |"
      ],
      "text/plain": [
       "<IPython.core.display.Markdown object>"
      ]
     },
     "metadata": {},
     "output_type": "display_data"
    },
    {
     "data": {
      "text/markdown": [
       "\n",
       "|||\n",
       "|---:|:---|\n",
       "| [![arXiv](https://img.shields.io/badge/arXiv-arXiv:2303.03952-b31b1b.svg)](https://arxiv.org/abs/arXiv:2303.03952) | **An Improved Pair Method to Probe the Dust Extinction Law**  |\n",
       "|| Yuxi Wang, Jian Gao, Yi Ren, <mark>Jun Li</mark> |\n",
       "|*Appeared on*| *2023-03-08*|\n",
       "|*Comments*| **|\n",
       "|**Abstract**| Dust extinction law is crucial to recover the intrinsic energy distribution of celestial objects and infer the characteristics of interstellar dust. Based on the traditional pair method, an improved pair method is proposed to model the dust extinguished spectral energy distribution (SED) of an individual star. Instead of the mathematically parameterizing extinction curves, the extinction curves in this work are directly from the silicate-graphite dust model, so that the dust extinction law can be obtained and the dust properties can be analyzed simultaneously. The ATLAS9 stellar model atmosphere is adopted for the intrinsic SEDs in this work, while the silicate-graphite dust model with a dust size distribution of $dn/da \\sim a^{-\\alpha}{\\rm exp}(-a/a_c),~0.005 < a < 5~\\mu{\\rm m}$ for each component is adopted for the model extinction curves. One typical extinction tracer in the dense region (V410 Anon9) and one in the diffuse region (Cyg OB2 \\#12) of the MW are chosen to test the reliability and the practicability of the improved pair method in different stellar environments. The results are consistent with their interstellar environments and are in agreement with the previous observations and studies, which prove that the improved pair method is effective and applicable in different stellar environments. In addition to the reliable extinction results, the derived parameters in the dust model can be used to analyze the dust properties, which cannot be achieved by other methods with the mathematical extinction models. With the improved pair method, the stellar parameters can also be inferred and the extinction law beyond the wavelengths of observed data can be predicted based on the dust model as well. |\n",
       "|<p style=\"color:green\"> **ERROR** </p>| <p style=\"color:green\">affiliation error: mpia.affiliation_verifications: 'Heidelberg' keyword not found.</p> |"
      ],
      "text/plain": [
       "<IPython.core.display.Markdown object>"
      ]
     },
     "metadata": {},
     "output_type": "display_data"
    },
    {
     "data": {
      "text/markdown": [
       "\n",
       "|||\n",
       "|---:|:---|\n",
       "| [![arXiv](https://img.shields.io/badge/arXiv-arXiv:2303.03420-b31b1b.svg)](https://arxiv.org/abs/arXiv:2303.03420) | **Parameters of 220 million stars from Gaia BP/RP spectra**  |\n",
       "|| <mark>Xiangyu Zhang</mark>, <mark>Gregory M. Green</mark>, <mark>Hans-Walter Rix</mark> |\n",
       "|*Appeared on*| *2023-03-08*|\n",
       "|*Comments*| *27 pages, 22 figures, submitted to MNRAS, Data available at DOI: 10.5281/zenodo.7692680*|\n",
       "|**Abstract**| We develop, validate and apply a forward model to estimate stellar atmospheric parameters ($T_{\\rm eff}$, $\\log{g}$ and $\\mathrm{[Fe/H]}$), revised distances and extinctions for 220 million stars with XP spectra from $\\textit{Gaia}$ DR3. Instead of using $\\textit{ab initio}$ stellar models, we develop a data-driven model of $\\textit{Gaia}$ XP spectra as a function of the stellar parameters, with a few straightforward built-in physical assumptions. We train our model on stellar atmospheric parameters from the LAMOST survey, which provides broad coverage of different spectral types. We model the $\\textit{Gaia}$ XP spectra with all of their covariances, augmented by 2MASS and WISE photometry that greatly reduces degeneracies between stellar parameters, yielding more precise determinations of temperature and dust reddening. Taken together, our approach overcomes a number of important limitations that the astrophysical parameters released in $\\textit{Gaia}$ DR3 faced, and exploits the full information content of the data. We provide the resulting catalog of stellar atmospheric parameters, revised parallaxes and extinction estimates, with all their uncertainties. The modeling procedure also produces an estimate of the optical extinction curve at the spectral resolution of the XP spectra ($R \\sim 20-100$), which agrees reasonably well with the ${R(V) = 3.1}$ CCM model. Remaining limitations that will be addressed in future work are that the model assumes a universal extinction law, ignores binary stars and does not cover all parts of the Hertzsprung-Russell Diagram ($\\textit{e.g.}$, white dwarfs). |\n",
       "|<p style=\"color:red\"> **ERROR** </p>| <p style=\"color:red\">latex error bad escape \\m at position 1</p> |"
      ],
      "text/plain": [
       "<IPython.core.display.Markdown object>"
      ]
     },
     "metadata": {},
     "output_type": "display_data"
    },
    {
     "data": {
      "text/markdown": [
       "\n",
       "|||\n",
       "|---:|:---|\n",
       "| [![arXiv](https://img.shields.io/badge/arXiv-arXiv:2303.03464-b31b1b.svg)](https://arxiv.org/abs/arXiv:2303.03464) | **Momentum Transfer from the DART Mission Kinetic Impact on Asteroid  Dimorphos**  |\n",
       "|| Andrew F. Cheng, et al. -- incl., <mark>Alex J. Meyer</mark>, <mark>Jian-Yang Li</mark>, <mark>Yun Zhang</mark> |\n",
       "|*Appeared on*| *2023-03-08*|\n",
       "|*Comments*| *accepted by Nature*|\n",
       "|**Abstract**| The NASA Double Asteroid Redirection Test (DART) mission performed a kinetic impact on asteroid Dimorphos, the satellite of the binary asteroid (65803) Didymos, at 23:14 UTC on September 26, 2022 as a planetary defense test. DART was the first hypervelocity impact experiment on an asteroid at size and velocity scales relevant to planetary defense, intended to validate kinetic impact as a means of asteroid deflection. Here we report the first determination of the momentum transferred to an asteroid by kinetic impact. Based on the change in the binary orbit period, we find an instantaneous reduction in Dimorphos's along-track orbital velocity component of 2.70 +/- 0.10 mm/s, indicating enhanced momentum transfer due to recoil from ejecta streams produced by the impact. For a Dimorphos bulk density range of 1,500 to 3,300 kg/m$^3$, we find that the expected value of the momentum enhancement factor, $\\beta$, ranges between 2.2 and 4.9, depending on the mass of Dimorphos. If Dimorphos and Didymos are assumed to have equal densities of 2,400 kg/m$^3$, $\\beta$= 3.61 +0.19/-0.25 (1 $\\sigma$). These $\\beta$ values indicate that significantly more momentum was transferred to Dimorphos from the escaping impact ejecta than was incident with DART. Therefore, the DART kinetic impact was highly effective in deflecting the asteroid Dimorphos. |\n",
       "|<p style=\"color:red\"> **ERROR** </p>| <p style=\"color:red\">latex error not a gzip file</p> |"
      ],
      "text/plain": [
       "<IPython.core.display.Markdown object>"
      ]
     },
     "metadata": {},
     "output_type": "display_data"
    }
   ],
   "source": [
    "import datetime\n",
    "today = str(datetime.date.today())\n",
    "logfile = f\"_build/html/logs/log-{today}.md\"\n",
    "\n",
    "\n",
    "with open(logfile, 'w') as logs:\n",
    "    # Success\n",
    "    logs.write(f'# Arxiv on Deck 2: Logs - {today}\\n\\n')\n",
    "    logs.write(\"\"\"* Arxiv had {0:,d} new papers\\n\"\"\".format(len(new_papers)))\n",
    "    logs.write(\"\"\"    * {0:,d} with possible author matches\\n\\n\"\"\".format(len(candidates)))\n",
    "    logs.write(\"## Sucessful papers\\n\\n\")\n",
    "    display(Markdown(\"## Successful papers\"))\n",
    "    success = [k[0] for k in documents]\n",
    "    for candid in candidates:\n",
    "        if candid['identifier'].split(':')[-1] in success:\n",
    "            display(candid)\n",
    "            logs.write(candid.generate_markdown_text() + '\\n\\n')\n",
    "\n",
    "    ## failed\n",
    "    logs.write(\"## Failed papers\\n\\n\")\n",
    "    display(Markdown(\"## Failed papers\"))\n",
    "    failed = sorted(failed, key=lambda x: x[1])\n",
    "    current_reason = \"\"\n",
    "    for paper, reason in failed:\n",
    "        if 'affiliation' in reason:\n",
    "            color = 'green'\n",
    "        else:\n",
    "            color = 'red'\n",
    "        data = Markdown(\n",
    "                paper.generate_markdown_text() + \n",
    "                f'\\n|<p style=\"color:{color:s}\"> **ERROR** </p>| <p style=\"color:{color:s}\">{reason:s}</p> |'\n",
    "               )\n",
    "        if reason != current_reason:\n",
    "            logs.write(f'### {reason:s} \\n\\n')\n",
    "            current_reason = reason\n",
    "        logs.write(data.data + '\\n\\n')\n",
    "        \n",
    "        # only display here the important errors (all in logs)\n",
    "        # if color in ('red',):\n",
    "        display(data)"
   ]
  },
  {
   "cell_type": "markdown",
   "id": "472d20ee",
   "metadata": {
    "papermill": {
     "duration": 0.010016,
     "end_time": "2023-03-08T06:49:35.129674",
     "exception": false,
     "start_time": "2023-03-08T06:49:35.119658",
     "status": "completed"
    },
    "tags": []
   },
   "source": [
    "## Export documents\n",
    "\n",
    "We now write the .md files and export relevant images"
   ]
  },
  {
   "cell_type": "code",
   "execution_count": 7,
   "id": "d426aed9",
   "metadata": {
    "execution": {
     "iopub.execute_input": "2023-03-08T06:49:35.151918Z",
     "iopub.status.busy": "2023-03-08T06:49:35.151366Z",
     "iopub.status.idle": "2023-03-08T06:49:35.162345Z",
     "shell.execute_reply": "2023-03-08T06:49:35.161310Z"
    },
    "papermill": {
     "duration": 0.025539,
     "end_time": "2023-03-08T06:49:35.165034",
     "exception": false,
     "start_time": "2023-03-08T06:49:35.139495",
     "status": "completed"
    },
    "tags": []
   },
   "outputs": [],
   "source": [
    "def export_markdown_summary(md: str, md_fname:str, directory: str):\n",
    "    \"\"\"Export MD document and associated relevant images\"\"\"\n",
    "    import os\n",
    "    import shutil\n",
    "    import re\n",
    "\n",
    "    if (os.path.exists(directory) and not os.path.isdir(directory)):\n",
    "        raise RuntimeError(f\"a non-directory file exists with name {directory:s}\")\n",
    "\n",
    "    if (not os.path.exists(directory)):\n",
    "        print(f\"creating directory {directory:s}\")\n",
    "        os.mkdir(directory)\n",
    "\n",
    "    fig_fnames = (re.compile(r'\\[Fig.*\\]\\((.*)\\)').findall(md) + \n",
    "                  re.compile(r'\\<img src=\"([^>\\s]*)\"[^>]*/>').findall(md))\n",
    "    for fname in fig_fnames:\n",
    "        if 'http' in fname:\n",
    "            # No need to copy online figures\n",
    "            continue\n",
    "        destdir = os.path.join(directory, os.path.dirname(fname))\n",
    "        destfname = os.path.join(destdir, os.path.basename(fname))\n",
    "        try:\n",
    "            os.makedirs(destdir)\n",
    "        except FileExistsError:\n",
    "            pass\n",
    "        shutil.copy(fname, destfname)\n",
    "    with open(os.path.join(directory, md_fname), 'w') as fout:\n",
    "        fout.write(md)\n",
    "    print(\"exported in \", os.path.join(directory, md_fname))\n",
    "    [print(\"    + \" + os.path.join(directory,fk)) for fk in fig_fnames]"
   ]
  },
  {
   "cell_type": "code",
   "execution_count": 8,
   "id": "014d04a4",
   "metadata": {
    "execution": {
     "iopub.execute_input": "2023-03-08T06:49:35.186380Z",
     "iopub.status.busy": "2023-03-08T06:49:35.185572Z",
     "iopub.status.idle": "2023-03-08T06:49:35.190149Z",
     "shell.execute_reply": "2023-03-08T06:49:35.189261Z"
    },
    "papermill": {
     "duration": 0.017298,
     "end_time": "2023-03-08T06:49:35.192049",
     "exception": false,
     "start_time": "2023-03-08T06:49:35.174751",
     "status": "completed"
    },
    "tags": []
   },
   "outputs": [],
   "source": [
    "for paper_id, md in documents:\n",
    "    export_markdown_summary(md, f\"{paper_id:s}.md\", '_build/html/')"
   ]
  },
  {
   "cell_type": "markdown",
   "id": "f087a0a7",
   "metadata": {
    "papermill": {
     "duration": 0.014874,
     "end_time": "2023-03-08T06:49:35.216778",
     "exception": false,
     "start_time": "2023-03-08T06:49:35.201904",
     "status": "completed"
    },
    "tags": []
   },
   "source": [
    "## Display the papers\n",
    "\n",
    "Not necessary but allows for a quick check."
   ]
  },
  {
   "cell_type": "code",
   "execution_count": 9,
   "id": "fd25f625",
   "metadata": {
    "execution": {
     "iopub.execute_input": "2023-03-08T06:49:35.241175Z",
     "iopub.status.busy": "2023-03-08T06:49:35.240494Z",
     "iopub.status.idle": "2023-03-08T06:49:35.245177Z",
     "shell.execute_reply": "2023-03-08T06:49:35.244420Z"
    },
    "papermill": {
     "duration": 0.018002,
     "end_time": "2023-03-08T06:49:35.247349",
     "exception": false,
     "start_time": "2023-03-08T06:49:35.229347",
     "status": "completed"
    },
    "scrolled": false,
    "tags": []
   },
   "outputs": [],
   "source": [
    "[display(Markdown(k[1])) for k in documents];"
   ]
  },
  {
   "cell_type": "markdown",
   "id": "873873a4",
   "metadata": {
    "papermill": {
     "duration": 0.009168,
     "end_time": "2023-03-08T06:49:35.266245",
     "exception": false,
     "start_time": "2023-03-08T06:49:35.257077",
     "status": "completed"
    },
    "tags": []
   },
   "source": [
    "# Create HTML index"
   ]
  },
  {
   "cell_type": "code",
   "execution_count": 10,
   "id": "cf665672",
   "metadata": {
    "execution": {
     "iopub.execute_input": "2023-03-08T06:49:35.287938Z",
     "iopub.status.busy": "2023-03-08T06:49:35.287367Z",
     "iopub.status.idle": "2023-03-08T06:49:35.301932Z",
     "shell.execute_reply": "2023-03-08T06:49:35.300907Z"
    },
    "papermill": {
     "duration": 0.0283,
     "end_time": "2023-03-08T06:49:35.304183",
     "exception": false,
     "start_time": "2023-03-08T06:49:35.275883",
     "status": "completed"
    },
    "tags": []
   },
   "outputs": [
    {
     "name": "stdout",
     "output_type": "stream",
     "text": [
      "191  publications in the last 7 days.\n",
      "\t _build/html/2303.02816.md\n",
      "\t _build/html/2303.01528.md\n",
      "\t _build/html/2303.00044.md\n",
      "\t _build/html/2303.00012.md\n",
      "\t _build/html/2302.14137.md\n",
      "\t _build/html/2302.12805.md\n",
      "\t _build/html/2302.10943.md\n",
      "\t _build/html/2302.10528.md\n",
      "\t _build/html/2302.10008.md\n",
      "\t _build/html/2302.08962.md\n",
      "\t _build/html/2302.08628.md\n",
      "\t _build/html/2302.07916.md\n",
      "\t _build/html/2302.07880.md\n",
      "\t _build/html/2302.07497.md\n",
      "\t _build/html/2302.07277.md\n",
      "\t _build/html/2302.07256.md\n",
      "\t _build/html/2302.07234.md\n",
      "\t _build/html/2302.07057.md\n",
      "\t _build/html/2302.05694.md\n",
      "\t _build/html/2302.05465.md\n",
      "\t _build/html/2302.04507.md\n",
      "\t _build/html/2302.04239.md\n",
      "\t _build/html/2302.04138.md\n",
      "\t _build/html/2302.03699.md\n",
      "\t _build/html/2302.03576.md\n",
      "\t _build/html/2302.03042.md\n",
      "\t _build/html/2302.02611.md\n",
      "\t _build/html/2302.02429.md\n",
      "\t _build/html/2302.01678.md\n",
      "\t _build/html/2302.00450.md\n",
      "\t _build/html/2301.13766.md\n",
      "\t _build/html/2301.13526.md\n",
      "\t _build/html/2301.12890.md\n",
      "\t _build/html/2301.11942.md\n",
      "\t _build/html/2301.10717.md\n",
      "\t _build/html/2301.10666.md\n",
      "\t _build/html/2301.09621.md\n",
      "\t _build/html/2301.09140.md\n",
      "\t _build/html/2301.08770.md\n",
      "\t _build/html/2301.08310.md\n",
      "\t _build/html/2301.07990.md\n",
      "\t _build/html/2301.07199.md\n",
      "\t _build/html/2301.07116.md\n",
      "\t _build/html/2301.06873.md\n",
      "\t _build/html/2301.06819.md\n",
      "\t _build/html/2301.06575.md\n",
      "\t _build/html/2301.05720.md\n",
      "\t _build/html/2301.05718.md\n",
      "\t _build/html/2301.05034.md\n",
      "\t _build/html/2301.04656.md\n",
      "\t _build/html/2301.04533.md\n",
      "\t _build/html/2301.04442.md\n",
      "\t _build/html/2301.03811.md\n",
      "\t _build/html/2301.03689.md\n",
      "\t _build/html/2301.03209.md\n",
      "\t _build/html/2301.02671.md\n",
      "\t _build/html/2301.02477.md\n",
      "\t _build/html/2301.02313.md\n",
      "\t _build/html/2301.01937.md\n",
      "\t _build/html/2301.01895.md\n",
      "\t _build/html/2301.01684.md\n",
      "\t _build/html/2301.01306.md\n",
      "\t _build/html/2301.00881.md\n",
      "\t _build/html/2301.00854.md\n",
      "\t _build/html/2301.00578.md\n",
      "\t _build/html/2212.12039.md\n",
      "\t _build/html/2212.11425.md\n",
      "\t _build/html/2212.11177.md\n",
      "\t _build/html/2212.10512.md\n",
      "\t _build/html/2212.09766.md\n",
      "\t _build/html/2212.09675.md\n",
      "\t _build/html/2212.09661.md\n",
      "\t _build/html/2212.09652.md\n",
      "\t _build/html/2212.09168.md\n",
      "\t _build/html/2212.09159.md\n",
      "\t _build/html/2212.08702.md\n",
      "\t _build/html/2212.06434.md\n",
      "\t _build/html/2212.04710.md\n",
      "\t _build/html/2212.04026.md\n",
      "\t _build/html/2212.03563.md\n",
      "\t _build/html/2212.03514.md\n",
      "\t _build/html/2212.02667.md\n",
      "\t _build/html/2212.02627.md\n",
      "\t _build/html/2212.02235.md\n",
      "\t _build/html/2212.01707.md\n",
      "\t _build/html/2212.01526.md\n",
      "\t _build/html/2212.01397.md\n",
      "\t _build/html/2212.01291.md\n",
      "\t _build/html/2212.01281.md\n",
      "\t _build/html/2212.00812.md\n",
      "\t _build/html/2212.00811.md\n",
      "\t _build/html/2212.00806.md\n",
      "\t _build/html/2212.00032.md\n",
      "\t _build/html/2211.16510.md\n",
      "\t _build/html/2211.16123.md\n",
      "\t _build/html/2211.15816.md\n",
      "\t _build/html/2211.15698.md\n",
      "\t _build/html/2211.15576.md\n",
      "\t _build/html/2211.15434.md\n",
      "\t _build/html/2211.15288.md\n",
      "\t _build/html/2211.15224.md\n",
      "\t _build/html/2211.14543.md\n",
      "\t _build/html/2211.14330.md\n",
      "\t _build/html/2211.14322.md\n",
      "\t _build/html/2211.14132.md\n",
      "\t _build/html/2211.13811.md\n",
      "\t _build/html/2211.13426.md\n",
      "\t _build/html/2211.13146.md\n",
      "\t _build/html/2211.12613.md\n",
      "\t _build/html/2211.11767.md\n",
      "\t _build/html/2211.09840.md\n",
      "\t _build/html/2211.08493.md\n",
      "\t _build/html/2211.08487.md\n",
      "\t _build/html/2211.08294.md\n",
      "\t _build/html/2211.07667.md\n",
      "\t _build/html/2211.07659.md\n",
      "\t _build/html/2211.06205.md\n",
      "\t _build/html/2211.06194.md\n",
      "\t _build/html/2211.05022.md\n",
      "\t _build/html/2211.04048.md\n",
      "\t _build/html/2211.03641.md\n",
      "\t _build/html/2211.02502.md\n",
      "\t _build/html/2211.01474.md\n",
      "\t _build/html/2211.00657.md\n",
      "\t _build/html/2211.00087.md\n",
      "\t _build/html/2211.00036.md\n",
      "\t _build/html/2211.00020.md\n",
      "\t _build/html/2211.00010.md\n",
      "\t _build/html/2210.17434.md\n",
      "\t _build/html/2210.12412.md\n",
      "\t _build/html/2210.11926.md\n",
      "\t _build/html/2210.11551.md\n",
      "\t _build/html/2210.10707.md\n",
      "\t _build/html/2210.09930.md\n",
      "\t _build/html/2210.08996.md\n",
      "\t _build/html/2210.08517.md\n",
      "\t _build/html/2210.08510.md\n",
      "\t _build/html/2210.06504.md\n",
      "\t _build/html/2210.05695.md\n",
      "\t _build/html/2210.05595.md\n",
      "\t _build/html/2210.05505.md\n",
      "\t _build/html/2210.04721.md\n",
      "\t _build/html/2210.03615.md\n",
      "\t _build/html/2210.01811.md\n",
      "\t _build/html/2210.01809.md\n",
      "\t _build/html/2210.01556.md\n",
      "\t _build/html/2210.00560.md\n",
      "\t _build/html/2209.15403.md\n",
      "\t _build/html/2209.15110.md\n",
      "\t _build/html/2209.14410.md\n",
      "\t _build/html/2209.14396.md\n",
      "\t _build/html/2209.13717.md\n",
      "\t _build/html/2209.13336.md\n",
      "\t _build/html/2209.12906.md\n",
      "\t _build/html/2209.11602.md\n",
      "\t _build/html/2209.11248.md\n",
      "\t _build/html/2209.10618.md\n",
      "\t _build/html/2209.09914.md\n",
      "\t _build/html/2209.08242.md\n",
      "\t _build/html/2209.08120.md\n",
      "\t _build/html/2209.08106.md\n",
      "\t _build/html/2209.07962.md\n",
      "\t _build/html/2209.07931.md\n",
      "\t _build/html/2209.06833.md\n",
      "\t _build/html/2209.05814.md\n",
      "\t _build/html/2209.05593.md\n",
      "\t _build/html/2209.04304.md\n",
      "\t _build/html/2209.03367.md\n",
      "\t _build/html/2209.02872.md\n",
      "\t _build/html/2209.02725.md\n",
      "\t _build/html/2209.02722.md\n",
      "\t _build/html/2209.02092.md\n",
      "\t _build/html/2209.01125.md\n",
      "\t _build/html/2209.00828.md\n",
      "\t _build/html/2209.00363.md\n",
      "\t _build/html/2208.14927.md\n",
      "\t _build/html/2208.09335.md\n",
      "\t _build/html/2208.08872.md\n",
      "\t _build/html/2204.06393.md\n",
      "\t _build/html/2204.03335.md\n",
      "\t _build/html/2204.03253.md\n",
      "\t _build/html/2204.02017.md\n",
      "\t _build/html/2204.01824.md\n",
      "\t _build/html/2204.01245.md\n",
      "\t _build/html/2204.00793.md\n",
      "\t _build/html/2204.00342.md\n",
      "\t _build/html/2203.16959.md\n",
      "\t _build/html/2203.16734.md\n",
      "\t _build/html/2203.16504.md\n",
      "\t _build/html/2203.15822.md\n",
      "\t _build/html/2203.15811.md\n"
     ]
    }
   ],
   "source": [
    "from datetime import datetime, timedelta, timezone\n",
    "from glob import glob\n",
    "\n",
    "files = glob('_build/html/*.md')\n",
    "days = 7\n",
    "now = datetime.today()\n",
    "res = []\n",
    "for fk in files:\n",
    "    stat_result = os.stat(fk).st_ctime\n",
    "    modified = datetime.fromtimestamp(stat_result, tz=timezone.utc).replace(tzinfo=None)\n",
    "    delta = now.today() - modified\n",
    "    if delta <= timedelta(days=days):\n",
    "        res.append((delta.seconds, fk))\n",
    "res = [k[1] for k in reversed(sorted(res, key=lambda x:x[1]))]\n",
    "npub = len(res)\n",
    "print(len(res), f\" publications in the last {days:d} days.\")\n",
    "[ print('\\t', k) for k in res ];"
   ]
  },
  {
   "cell_type": "code",
   "execution_count": 11,
   "id": "015de740",
   "metadata": {
    "execution": {
     "iopub.execute_input": "2023-03-08T06:49:35.326820Z",
     "iopub.status.busy": "2023-03-08T06:49:35.325790Z",
     "iopub.status.idle": "2023-03-08T06:49:35.357396Z",
     "shell.execute_reply": "2023-03-08T06:49:35.356142Z"
    },
    "papermill": {
     "duration": 0.045133,
     "end_time": "2023-03-08T06:49:35.359467",
     "exception": false,
     "start_time": "2023-03-08T06:49:35.314334",
     "status": "completed"
    },
    "tags": []
   },
   "outputs": [
    {
     "name": "stdout",
     "output_type": "stream",
     "text": [
      "2  publications in the last 7 days.\n"
     ]
    }
   ],
   "source": [
    "import datetime\n",
    "from glob import glob\n",
    "\n",
    "def get_last_n_days(lst, days=1):\n",
    "    \"\"\" Get the documents from the last n days \"\"\"\n",
    "    sorted_lst = sorted(lst, key=lambda x: x[1], reverse=True)\n",
    "    for fname, date in sorted_lst:\n",
    "        if date >= str(datetime.date.today() - datetime.timedelta(days=days)):\n",
    "            yield fname\n",
    "\n",
    "def extract_appearance_dates(lst_file):\n",
    "    dates = []\n",
    "\n",
    "    def get_date(line):\n",
    "        return line\\\n",
    "            .split('Appeared on:')[-1]\\\n",
    "            .split('</mark>')[0].strip()\n",
    "\n",
    "    for fname in lst:\n",
    "        with open(fname, 'r') as f:\n",
    "            found_date = False\n",
    "            for line in f:\n",
    "                if not found_date:\n",
    "                    if \"Appeared on\" in line:\n",
    "                        found_date = True\n",
    "                        dates.append((fname, get_date(line)))\n",
    "                else:\n",
    "                    break\n",
    "    return dates\n",
    "\n",
    "from glob import glob\n",
    "lst = glob('_build/html/*md')\n",
    "days = 7\n",
    "dates = extract_appearance_dates(lst)\n",
    "res = list(get_last_n_days(dates, days))\n",
    "npub = len(res)\n",
    "print(len(res), f\" publications in the last {days:d} days.\")"
   ]
  },
  {
   "cell_type": "code",
   "execution_count": 12,
   "id": "52ca0208",
   "metadata": {
    "execution": {
     "iopub.execute_input": "2023-03-08T06:49:35.384481Z",
     "iopub.status.busy": "2023-03-08T06:49:35.383814Z",
     "iopub.status.idle": "2023-03-08T06:49:35.389781Z",
     "shell.execute_reply": "2023-03-08T06:49:35.388919Z"
    },
    "papermill": {
     "duration": 0.020428,
     "end_time": "2023-03-08T06:49:35.391673",
     "exception": false,
     "start_time": "2023-03-08T06:49:35.371245",
     "status": "completed"
    },
    "scrolled": false,
    "tags": []
   },
   "outputs": [],
   "source": [
    "def create_carousel(npub=4):\n",
    "    \"\"\" Generate the HTML code for a carousel with `npub` slides \"\"\"\n",
    "    carousel = [\"\"\"  <div class=\"carousel\" \"\"\",\n",
    "                \"\"\"       data-flickity='{ \"autoPlay\": 10000, \"adaptiveHeight\": true, \"resize\": true, \"wrapAround\": true, \"pauseAutoPlayOnHover\": true, \"groupCells\": 1 }' id=\"asyncTypeset\">\"\"\"\n",
    "                ]\n",
    "    \n",
    "    item_str = \"\"\"    <div class=\"carousel-cell\"> <div id=\"slide{k}\" class=\"md_view\">Content {k}</div> </div>\"\"\"\n",
    "    for k in range(1, npub + 1):\n",
    "        carousel.append(item_str.format(k=k))\n",
    "    carousel.append(\"  </div>\")\n",
    "    return '\\n'.join(carousel)"
   ]
  },
  {
   "cell_type": "code",
   "execution_count": 13,
   "id": "a6eac5b6",
   "metadata": {
    "execution": {
     "iopub.execute_input": "2023-03-08T06:49:35.415299Z",
     "iopub.status.busy": "2023-03-08T06:49:35.414410Z",
     "iopub.status.idle": "2023-03-08T06:49:35.421865Z",
     "shell.execute_reply": "2023-03-08T06:49:35.421013Z"
    },
    "papermill": {
     "duration": 0.020982,
     "end_time": "2023-03-08T06:49:35.423816",
     "exception": false,
     "start_time": "2023-03-08T06:49:35.402834",
     "status": "completed"
    },
    "scrolled": false,
    "tags": []
   },
   "outputs": [],
   "source": [
    "carousel = create_carousel(npub)\n",
    "docs = ', '.join(['\"{0:s}\"'.format(k.split('/')[-1]) for k in res])\n",
    "slides = ', '.join([f'\"slide{k}\"' for k in range(1, npub + 1)])\n",
    "\n",
    "with open(\"daily_template.html\", \"r\") as tpl:\n",
    "    page = tpl.read()\n",
    "    page = page.replace(\"{%-- carousel:s --%}\", carousel)\\\n",
    "               .replace(\"{%-- suptitle:s --%}\",  \"7-day archives\" )\\\n",
    "               .replace(\"{%-- docs:s --%}\", docs)\\\n",
    "               .replace(\"{%-- slides:s --%}\", slides)\n",
    "    \n",
    "with open(\"_build/html/index_7days.html\", 'w') as fout:\n",
    "    fout.write(page)"
   ]
  },
  {
   "cell_type": "code",
   "execution_count": 14,
   "id": "adc1a1ec",
   "metadata": {
    "execution": {
     "iopub.execute_input": "2023-03-08T06:49:35.446760Z",
     "iopub.status.busy": "2023-03-08T06:49:35.446026Z",
     "iopub.status.idle": "2023-03-08T06:49:35.456322Z",
     "shell.execute_reply": "2023-03-08T06:49:35.455325Z"
    },
    "papermill": {
     "duration": 0.024835,
     "end_time": "2023-03-08T06:49:35.458699",
     "exception": false,
     "start_time": "2023-03-08T06:49:35.433864",
     "status": "completed"
    },
    "tags": []
   },
   "outputs": [
    {
     "name": "stdout",
     "output_type": "stream",
     "text": [
      "1  publications in the last day.\n",
      "  <div class=\"carousel\" \n",
      "       data-flickity='{ \"autoPlay\": 10000, \"adaptiveHeight\": true, \"resize\": true, \"wrapAround\": true, \"pauseAutoPlayOnHover\": true, \"groupCells\": 1 }' id=\"asyncTypeset\">\n",
      "    <div class=\"carousel-cell\"> <div id=\"slide1\" class=\"md_view\">Content 1</div> </div>\n",
      "  </div> \"2303.02816.md\" \"slide1\"\n",
      "<!DOCTYPE html>\n",
      "<html lang=\"en\">\n",
      "\n",
      "<head>\n",
      "    <meta charset=\"utf-8\">\n",
      "    <meta name=\"viewport\" content=\"width=device-width, initial-scale=1.0\" />\n",
      "    <!-- Remove caching as much as possible -->\n",
      "    <meta http-equiv=\"cache-control\" content=\"no-cache\" />\n",
      "    <meta http-equiv=\"Pragma\" content=\"no-cache\" />\n",
      "    <meta http-equiv=\"Expires\" content=\"-1\" />\n",
      "    <!-- flickity bootstrap CSS -->\n",
      "    <link rel=\"stylesheet\" href=\"https://unpkg.com/flickity@2/dist/flickity.min.css\">\n",
      "    <!-- Bootstrap CSS -->\n",
      "    <link href=\"https://cdn.jsdelivr.net/npm/bootstrap@5.0.2/dist/css/bootstrap.min.css\" rel=\"stylesheet\"\n",
      "        integrity=\"sha384-EVSTQN3/azprG1Anm3QDgpJLIm9Nao0Yz1ztcQTwFspd3yD65VohhpuuCOmLASjC\" crossorigin=\"anonymous\">\n",
      "    <!-- highlight.js CSS -->\n",
      "    <link rel=\"stylesheet\" href=\"https://cdnjs.cloudflare.com/ajax/libs/highlight.js/11.1.0/styles/default.min.css\">\n",
      "    <!-- flickity local CSS -->\n",
      "    <link rel=\"stylesheet\" href=\"flickity.css\">\n",
      "    <!-- markdown local CSS -->\n",
      "    <link rel=\"stylesheet\" href=\"markdown.css\">\n",
      "\n",
      "    <link rel=\"icon\" type=\"image/x-icon\"\n",
      "        href=\"https://www.mpia.de/assets/touch-icon-32x32-a66937bcebc4e8894ebff1f41a366c7c7220fd97a38869ee0f2db65a9f59b6c1.png\">\n",
      "    <title>MPIA Arxiv on deck!</title>\n",
      "</head>\n",
      "\n",
      "<body>\n",
      "    <div id=\"header\"> <img src=\"header_banner.png\" width=\"100%\"></div>\n",
      "    <div id=\"suptitle\"> Daily </div>\n",
      "    <div id=\"info\">\n",
      "        <img src=\"https://pngimg.com/uploads/github/github_PNG58.png\" height=30rem></img>\n",
      "        <a href=https://github.com/mpi-astronomy/arxiv_display style=\"color:black;\">github/mpi-astronomy/arxiv_display</a>\n",
      "    </div>\n",
      "\n",
      "    <!-- Flickity HTML init -->\n",
      "      <div class=\"carousel\" \n",
      "       data-flickity='{ \"autoPlay\": 10000, \"adaptiveHeight\": true, \"resize\": true, \"wrapAround\": true, \"pauseAutoPlayOnHover\": true, \"groupCells\": 1 }' id=\"asyncTypeset\">\n",
      "    <div class=\"carousel-cell\"> <div id=\"slide1\" class=\"md_view\">Content 1</div> </div>\n",
      "  </div>\n",
      "\n",
      "</body>\n",
      "\n",
      "<script src=\"//cdnjs.cloudflare.com/ajax/libs/jquery/2.1.3/jquery.min.js\"></script>\n",
      "<script src=\"https://unpkg.com/flickity@2/dist/flickity.pkgd.min.js\"></script>\n",
      "<script src=\"https://cdnjs.cloudflare.com/ajax/libs/highlight.js/11.5.0/highlight.min.js\"></script>\n",
      "<!-- marked.js -->\n",
      "<script src=\"https://cdn.jsdelivr.net/npm/marked/marked.min.js\"></script>\n",
      "<!-- MD content -->\n",
      "<script>\n",
      "    const docs = [\"2303.02816.md\"];\n",
      "    const slides = [\"slide1\"];\n",
      "\n",
      "    async function run() {\n",
      "        for (let i = 0; i < docs.length; i++) {\n",
      "            let file = await fetch(docs[i]);\n",
      "            let text = await file.text()\n",
      "            document.getElementById(slides[i]).innerHTML =\n",
      "                marked.parse(text);\n",
      "        }\n",
      "        hljs.highlightAll();\n",
      "    }\n",
      "    run()\n",
      "</script>\n",
      "<!-- Mathjax 3 -->\n",
      "<script type=\"text/javascript\" id=\"MathJax-config\" src=\"mathjax_config.js\"> </script>\n",
      "<script type=\"text/javascript\" id=\"MathJax-script\" async src=\"https://cdn.jsdelivr.net/npm/mathjax@3/es5/tex-svg.js\"></script>\n",
      "<!-- Mathjax 3 async promise refresh for dynamic text -->\n",
      "<script>\n",
      "    const asyncTypeset = document.querySelector('#asyncTypeset')\n",
      "    setTimeout(async function () {\n",
      "        await MathJax.typesetPromise().catch((err) => console.log('Typeset failed: ' + err.message));\n",
      "        console.log('refreshed MathJax typeset');\n",
      "    }, 3000)\n",
      "</script>\n",
      "\n",
      "</html>\n"
     ]
    }
   ],
   "source": [
    "# redo for today\n",
    "days = 1\n",
    "res = list(get_last_n_days(dates, days))\n",
    "npub = len(res)\n",
    "print(len(res), f\" publications in the last day.\")\n",
    "\n",
    "carousel = create_carousel(npub)\n",
    "docs = ', '.join(['\"{0:s}\"'.format(k.split('/')[-1]) for k in res])\n",
    "slides = ', '.join([f'\"slide{k}\"' for k in range(1, npub + 1)])\n",
    "\n",
    "with open(\"daily_template.html\", \"r\") as tpl:\n",
    "    page = tpl.read()\n",
    "    page = page.replace(\"{%-- carousel:s --%}\", carousel)\\\n",
    "               .replace(\"{%-- suptitle:s --%}\",  \"Daily\" )\\\n",
    "               .replace(\"{%-- docs:s --%}\", docs)\\\n",
    "               .replace(\"{%-- slides:s --%}\", slides)\n",
    "    \n",
    "print(carousel, docs, slides)\n",
    "print(page)\n",
    "with open(\"_build/html/index_daily.html\", 'w') as fout:\n",
    "    fout.write(page)"
   ]
  }
 ],
 "metadata": {
  "kernelspec": {
   "display_name": "Python 3 (ipykernel)",
   "language": "python",
   "name": "python3"
  },
  "language_info": {
   "codemirror_mode": {
    "name": "ipython",
    "version": 3
   },
   "file_extension": ".py",
   "mimetype": "text/x-python",
   "name": "python",
   "nbconvert_exporter": "python",
   "pygments_lexer": "ipython3",
   "version": "3.9.16"
  },
  "papermill": {
   "default_parameters": {},
   "duration": 104.831537,
   "end_time": "2023-03-08T06:49:35.688185",
   "environment_variables": {},
   "exception": null,
   "input_path": "MPIA daily digest.ipynb",
   "output_path": "log.ipynb",
   "parameters": {},
   "start_time": "2023-03-08T06:47:50.856648",
   "version": "2.4.0"
  },
  "vscode": {
   "interpreter": {
    "hash": "aee8b7b246df8f9039afb4144a1f6fd8d2ca17a180786b69acc140d282b71a49"
   }
  },
  "widgets": {
   "application/vnd.jupyter.widget-state+json": {
    "state": {
     "0c569f6b68ff4a8eb7d77ae0385468c9": {
      "model_module": "@jupyter-widgets/base",
      "model_module_version": "2.0.0",
      "model_name": "LayoutModel",
      "state": {
       "_model_module": "@jupyter-widgets/base",
       "_model_module_version": "2.0.0",
       "_model_name": "LayoutModel",
       "_view_count": null,
       "_view_module": "@jupyter-widgets/base",
       "_view_module_version": "2.0.0",
       "_view_name": "LayoutView",
       "align_content": null,
       "align_items": null,
       "align_self": null,
       "border_bottom": null,
       "border_left": null,
       "border_right": null,
       "border_top": null,
       "bottom": null,
       "display": null,
       "flex": null,
       "flex_flow": null,
       "grid_area": null,
       "grid_auto_columns": null,
       "grid_auto_flow": null,
       "grid_auto_rows": null,
       "grid_column": null,
       "grid_gap": null,
       "grid_row": null,
       "grid_template_areas": null,
       "grid_template_columns": null,
       "grid_template_rows": null,
       "height": null,
       "justify_content": null,
       "justify_items": null,
       "left": null,
       "margin": null,
       "max_height": null,
       "max_width": null,
       "min_height": null,
       "min_width": null,
       "object_fit": null,
       "object_position": null,
       "order": null,
       "overflow": null,
       "padding": null,
       "right": null,
       "top": null,
       "visibility": null,
       "width": null
      }
     },
     "201a0d489a2a4e68ae5567b2207f2090": {
      "model_module": "@jupyter-widgets/controls",
      "model_module_version": "2.0.0",
      "model_name": "HTMLModel",
      "state": {
       "_dom_classes": [],
       "_model_module": "@jupyter-widgets/controls",
       "_model_module_version": "2.0.0",
       "_model_name": "HTMLModel",
       "_view_count": null,
       "_view_module": "@jupyter-widgets/controls",
       "_view_module_version": "2.0.0",
       "_view_name": "HTMLView",
       "description": "",
       "description_allow_html": false,
       "layout": "IPY_MODEL_79ececddec5a492ca9289c9f07347291",
       "placeholder": "​",
       "style": "IPY_MODEL_6d9b2a1d2056415f8e00813f6c12a2b8",
       "tabbable": null,
       "tooltip": null,
       "value": " 14/14 [01:10&lt;00:00,  4.13s/it]"
      }
     },
     "2e319a23e0f24763b65958daf8ff817d": {
      "model_module": "@jupyter-widgets/base",
      "model_module_version": "2.0.0",
      "model_name": "LayoutModel",
      "state": {
       "_model_module": "@jupyter-widgets/base",
       "_model_module_version": "2.0.0",
       "_model_name": "LayoutModel",
       "_view_count": null,
       "_view_module": "@jupyter-widgets/base",
       "_view_module_version": "2.0.0",
       "_view_name": "LayoutView",
       "align_content": null,
       "align_items": null,
       "align_self": null,
       "border_bottom": null,
       "border_left": null,
       "border_right": null,
       "border_top": null,
       "bottom": null,
       "display": null,
       "flex": null,
       "flex_flow": null,
       "grid_area": null,
       "grid_auto_columns": null,
       "grid_auto_flow": null,
       "grid_auto_rows": null,
       "grid_column": null,
       "grid_gap": null,
       "grid_row": null,
       "grid_template_areas": null,
       "grid_template_columns": null,
       "grid_template_rows": null,
       "height": null,
       "justify_content": null,
       "justify_items": null,
       "left": null,
       "margin": null,
       "max_height": null,
       "max_width": null,
       "min_height": null,
       "min_width": null,
       "object_fit": null,
       "object_position": null,
       "order": null,
       "overflow": null,
       "padding": null,
       "right": null,
       "top": null,
       "visibility": null,
       "width": null
      }
     },
     "3467dfd11d2b47958720416417a95e88": {
      "model_module": "@jupyter-widgets/controls",
      "model_module_version": "2.0.0",
      "model_name": "HTMLModel",
      "state": {
       "_dom_classes": [],
       "_model_module": "@jupyter-widgets/controls",
       "_model_module_version": "2.0.0",
       "_model_name": "HTMLModel",
       "_view_count": null,
       "_view_module": "@jupyter-widgets/controls",
       "_view_module_version": "2.0.0",
       "_view_name": "HTMLView",
       "description": "",
       "description_allow_html": false,
       "layout": "IPY_MODEL_2e319a23e0f24763b65958daf8ff817d",
       "placeholder": "​",
       "style": "IPY_MODEL_e1b81e40fad2405c8718965550e89c15",
       "tabbable": null,
       "tooltip": null,
       "value": "100%"
      }
     },
     "49b8dccfa12248458e963ec258954b4b": {
      "model_module": "@jupyter-widgets/controls",
      "model_module_version": "2.0.0",
      "model_name": "ProgressStyleModel",
      "state": {
       "_model_module": "@jupyter-widgets/controls",
       "_model_module_version": "2.0.0",
       "_model_name": "ProgressStyleModel",
       "_view_count": null,
       "_view_module": "@jupyter-widgets/base",
       "_view_module_version": "2.0.0",
       "_view_name": "StyleView",
       "bar_color": null,
       "description_width": ""
      }
     },
     "6d9b2a1d2056415f8e00813f6c12a2b8": {
      "model_module": "@jupyter-widgets/controls",
      "model_module_version": "2.0.0",
      "model_name": "HTMLStyleModel",
      "state": {
       "_model_module": "@jupyter-widgets/controls",
       "_model_module_version": "2.0.0",
       "_model_name": "HTMLStyleModel",
       "_view_count": null,
       "_view_module": "@jupyter-widgets/base",
       "_view_module_version": "2.0.0",
       "_view_name": "StyleView",
       "background": null,
       "description_width": "",
       "font_size": null,
       "text_color": null
      }
     },
     "79ececddec5a492ca9289c9f07347291": {
      "model_module": "@jupyter-widgets/base",
      "model_module_version": "2.0.0",
      "model_name": "LayoutModel",
      "state": {
       "_model_module": "@jupyter-widgets/base",
       "_model_module_version": "2.0.0",
       "_model_name": "LayoutModel",
       "_view_count": null,
       "_view_module": "@jupyter-widgets/base",
       "_view_module_version": "2.0.0",
       "_view_name": "LayoutView",
       "align_content": null,
       "align_items": null,
       "align_self": null,
       "border_bottom": null,
       "border_left": null,
       "border_right": null,
       "border_top": null,
       "bottom": null,
       "display": null,
       "flex": null,
       "flex_flow": null,
       "grid_area": null,
       "grid_auto_columns": null,
       "grid_auto_flow": null,
       "grid_auto_rows": null,
       "grid_column": null,
       "grid_gap": null,
       "grid_row": null,
       "grid_template_areas": null,
       "grid_template_columns": null,
       "grid_template_rows": null,
       "height": null,
       "justify_content": null,
       "justify_items": null,
       "left": null,
       "margin": null,
       "max_height": null,
       "max_width": null,
       "min_height": null,
       "min_width": null,
       "object_fit": null,
       "object_position": null,
       "order": null,
       "overflow": null,
       "padding": null,
       "right": null,
       "top": null,
       "visibility": null,
       "width": null
      }
     },
     "be075379c54540a8963dba3314e12f58": {
      "model_module": "@jupyter-widgets/controls",
      "model_module_version": "2.0.0",
      "model_name": "HBoxModel",
      "state": {
       "_dom_classes": [],
       "_model_module": "@jupyter-widgets/controls",
       "_model_module_version": "2.0.0",
       "_model_name": "HBoxModel",
       "_view_count": null,
       "_view_module": "@jupyter-widgets/controls",
       "_view_module_version": "2.0.0",
       "_view_name": "HBoxView",
       "box_style": "",
       "children": [
        "IPY_MODEL_3467dfd11d2b47958720416417a95e88",
        "IPY_MODEL_d65d6e6b32c547d4a8ece6c7be247def",
        "IPY_MODEL_201a0d489a2a4e68ae5567b2207f2090"
       ],
       "layout": "IPY_MODEL_cc4deae125824ebfb13a92671fae1ed1",
       "tabbable": null,
       "tooltip": null
      }
     },
     "cc4deae125824ebfb13a92671fae1ed1": {
      "model_module": "@jupyter-widgets/base",
      "model_module_version": "2.0.0",
      "model_name": "LayoutModel",
      "state": {
       "_model_module": "@jupyter-widgets/base",
       "_model_module_version": "2.0.0",
       "_model_name": "LayoutModel",
       "_view_count": null,
       "_view_module": "@jupyter-widgets/base",
       "_view_module_version": "2.0.0",
       "_view_name": "LayoutView",
       "align_content": null,
       "align_items": null,
       "align_self": null,
       "border_bottom": null,
       "border_left": null,
       "border_right": null,
       "border_top": null,
       "bottom": null,
       "display": null,
       "flex": null,
       "flex_flow": null,
       "grid_area": null,
       "grid_auto_columns": null,
       "grid_auto_flow": null,
       "grid_auto_rows": null,
       "grid_column": null,
       "grid_gap": null,
       "grid_row": null,
       "grid_template_areas": null,
       "grid_template_columns": null,
       "grid_template_rows": null,
       "height": null,
       "justify_content": null,
       "justify_items": null,
       "left": null,
       "margin": null,
       "max_height": null,
       "max_width": null,
       "min_height": null,
       "min_width": null,
       "object_fit": null,
       "object_position": null,
       "order": null,
       "overflow": null,
       "padding": null,
       "right": null,
       "top": null,
       "visibility": null,
       "width": null
      }
     },
     "d65d6e6b32c547d4a8ece6c7be247def": {
      "model_module": "@jupyter-widgets/controls",
      "model_module_version": "2.0.0",
      "model_name": "FloatProgressModel",
      "state": {
       "_dom_classes": [],
       "_model_module": "@jupyter-widgets/controls",
       "_model_module_version": "2.0.0",
       "_model_name": "FloatProgressModel",
       "_view_count": null,
       "_view_module": "@jupyter-widgets/controls",
       "_view_module_version": "2.0.0",
       "_view_name": "ProgressView",
       "bar_style": "success",
       "description": "",
       "description_allow_html": false,
       "layout": "IPY_MODEL_0c569f6b68ff4a8eb7d77ae0385468c9",
       "max": 14.0,
       "min": 0.0,
       "orientation": "horizontal",
       "style": "IPY_MODEL_49b8dccfa12248458e963ec258954b4b",
       "tabbable": null,
       "tooltip": null,
       "value": 14.0
      }
     },
     "e1b81e40fad2405c8718965550e89c15": {
      "model_module": "@jupyter-widgets/controls",
      "model_module_version": "2.0.0",
      "model_name": "HTMLStyleModel",
      "state": {
       "_model_module": "@jupyter-widgets/controls",
       "_model_module_version": "2.0.0",
       "_model_name": "HTMLStyleModel",
       "_view_count": null,
       "_view_module": "@jupyter-widgets/base",
       "_view_module_version": "2.0.0",
       "_view_name": "StyleView",
       "background": null,
       "description_width": "",
       "font_size": null,
       "text_color": null
      }
     }
    },
    "version_major": 2,
    "version_minor": 0
   }
  }
 },
 "nbformat": 4,
 "nbformat_minor": 5
}