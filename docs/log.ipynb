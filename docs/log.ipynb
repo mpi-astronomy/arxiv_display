{
 "cells": [
  {
   "cell_type": "markdown",
   "id": "92bcb855",
   "metadata": {
    "papermill": {
     "duration": 0.00382,
     "end_time": "2024-07-16T04:09:53.307612",
     "exception": false,
     "start_time": "2024-07-16T04:09:53.303792",
     "status": "completed"
    },
    "tags": []
   },
   "source": [
    "# MPIA Arxiv on Deck 2\n",
    "\n",
    "Contains the steps to produce the paper extractions."
   ]
  },
  {
   "cell_type": "code",
   "execution_count": 1,
   "id": "3a0d6e11",
   "metadata": {
    "execution": {
     "iopub.execute_input": "2024-07-16T04:09:53.316180Z",
     "iopub.status.busy": "2024-07-16T04:09:53.315714Z",
     "iopub.status.idle": "2024-07-16T04:09:53.762182Z",
     "shell.execute_reply": "2024-07-16T04:09:53.761579Z"
    },
    "papermill": {
     "duration": 0.453232,
     "end_time": "2024-07-16T04:09:53.763905",
     "exception": false,
     "start_time": "2024-07-16T04:09:53.310673",
     "status": "completed"
    },
    "tags": []
   },
   "outputs": [],
   "source": [
    "# Imports\n",
    "import os\n",
    "from IPython.display import Markdown, display\n",
    "from tqdm.notebook import tqdm\n",
    "import warnings\n",
    "from PIL import Image \n",
    "\n",
    "# requires arxiv_on_deck_2\n",
    "\n",
    "from arxiv_on_deck_2.arxiv2 import (get_new_papers, \n",
    "                                    get_paper_from_identifier,\n",
    "                                    retrieve_document_source, \n",
    "                                    get_markdown_badge)\n",
    "from arxiv_on_deck_2 import (latex,\n",
    "                             latex_bib,\n",
    "                             mpia,\n",
    "                             highlight_authors_in_list)\n",
    "\n",
    "# Sometimes images are really big\n",
    "Image.MAX_IMAGE_PIXELS = 1000000000 "
   ]
  },
  {
   "cell_type": "code",
   "execution_count": 2,
   "id": "22aa9d44",
   "metadata": {
    "execution": {
     "iopub.execute_input": "2024-07-16T04:09:53.771332Z",
     "iopub.status.busy": "2024-07-16T04:09:53.770842Z",
     "iopub.status.idle": "2024-07-16T04:09:53.775704Z",
     "shell.execute_reply": "2024-07-16T04:09:53.775103Z"
    },
    "papermill": {
     "duration": 0.009903,
     "end_time": "2024-07-16T04:09:53.776917",
     "exception": false,
     "start_time": "2024-07-16T04:09:53.767014",
     "status": "completed"
    },
    "tags": []
   },
   "outputs": [],
   "source": [
    "# Some useful definitions.\n",
    "\n",
    "class AffiliationWarning(UserWarning):\n",
    "    pass\n",
    "\n",
    "class AffiliationError(RuntimeError):\n",
    "    pass\n",
    "\n",
    "def validation(source: str):\n",
    "    \"\"\"Raises error paper during parsing of source file\n",
    "    \n",
    "    Allows checks before parsing TeX code.\n",
    "    \n",
    "    Raises AffiliationWarning\n",
    "    \"\"\"\n",
    "    check = mpia.affiliation_verifications(source, verbose=True)\n",
    "    if check is not True:\n",
    "        raise AffiliationError(\"mpia.affiliation_verifications: \" + check)\n",
    "\n",
    "        \n",
    "warnings.simplefilter('always', AffiliationWarning)\n",
    "\n",
    "\n",
    "def get_markdown_qrcode(paper_id: str):\n",
    "    \"\"\" Generate a qrcode to the arxiv page using qrserver.com\n",
    "    \n",
    "    :param paper: Arxiv paper\n",
    "    :returns: markdown text\n",
    "    \"\"\"\n",
    "    url = r\"https://api.qrserver.com/v1/create-qr-code/?size=100x100&data=\"\n",
    "    txt = f\"\"\"<img src={url}\"https://arxiv.org/abs/{paper_id}\">\"\"\"\n",
    "    txt = '<div id=\"qrcode\">' + txt + '</div>'\n",
    "    return txt"
   ]
  },
  {
   "cell_type": "markdown",
   "id": "14bd6310",
   "metadata": {
    "papermill": {
     "duration": 0.002839,
     "end_time": "2024-07-16T04:09:53.782711",
     "exception": false,
     "start_time": "2024-07-16T04:09:53.779872",
     "status": "completed"
    },
    "tags": []
   },
   "source": [
    "## get list of arxiv paper candidates\n",
    "\n",
    "We use the MPIA mitarbeiter list webpage from mpia.de to get author names\n",
    "We then get all new papers from Arxiv and match authors"
   ]
  },
  {
   "cell_type": "code",
   "execution_count": 3,
   "id": "7ea813a8",
   "metadata": {
    "execution": {
     "iopub.execute_input": "2024-07-16T04:09:53.789492Z",
     "iopub.status.busy": "2024-07-16T04:09:53.789082Z",
     "iopub.status.idle": "2024-07-16T04:10:10.457034Z",
     "shell.execute_reply": "2024-07-16T04:10:10.456429Z"
    },
    "papermill": {
     "duration": 16.673006,
     "end_time": "2024-07-16T04:10:10.458550",
     "exception": false,
     "start_time": "2024-07-16T04:09:53.785544",
     "status": "completed"
    },
    "tags": []
   },
   "outputs": [],
   "source": [
    "# deal with the author list and edge cases of people that cannot be consistent on their name  \n",
    "\n",
    "def filter_non_scientists(name: str) -> bool:\n",
    "    \"\"\" Loose filter on expected authorships\n",
    "\n",
    "    removing IT, administration, technical staff\n",
    "    :param name: name\n",
    "    :returns: False if name is not a scientist\n",
    "    \"\"\"\n",
    "    remove_list = ['Wolf', 'Licht', 'Binroth', 'Witzel', 'Jordan',\n",
    "                   'Zähringer', 'Scheerer', 'Hoffmann', 'Düe',\n",
    "                   'Hellmich', 'Enkler-Scharpegge', 'Witte-Nguy',\n",
    "                   'Dehen', 'Beckmann', 'Jager', 'Jäger'\n",
    "                  ]\n",
    "\n",
    "    for k in remove_list:\n",
    "        if k in name:\n",
    "            return False\n",
    "    return True\n",
    "\n",
    "def add_author_to_list(author_list: list) -> list:\n",
    "    \"\"\" Add author to list if not already in list\n",
    "    \n",
    "    :param author: author name\n",
    "    :param author_list: list of authors\n",
    "    :returns: updated list of authors\n",
    "    \"\"\"\n",
    "    add_list = ['T. Henning']\n",
    "\n",
    "    for author in add_list:\n",
    "        if author not in author_list:\n",
    "            author_list.append(author)\n",
    "    return author_list\n",
    "\n",
    "# get list from MPIA website\n",
    "# filter for non-scientists (mpia.get_mpia_mitarbeiter_list() does some filtering)\n",
    "mpia_authors = [k[1] for k in mpia.get_mpia_mitarbeiter_list() if filter_non_scientists(k[1])]\n",
    "# add some missing author because of inconsistencies in their MPIA name and author name on papers\n",
    "mpia_authors = add_author_to_list(mpia_authors)"
   ]
  },
  {
   "cell_type": "code",
   "execution_count": 4,
   "id": "2645e73a",
   "metadata": {
    "execution": {
     "iopub.execute_input": "2024-07-16T04:10:10.466275Z",
     "iopub.status.busy": "2024-07-16T04:10:10.465860Z",
     "iopub.status.idle": "2024-07-16T04:10:11.428094Z",
     "shell.execute_reply": "2024-07-16T04:10:11.427456Z"
    },
    "papermill": {
     "duration": 0.967516,
     "end_time": "2024-07-16T04:10:11.429511",
     "exception": false,
     "start_time": "2024-07-16T04:10:10.461995",
     "status": "completed"
    },
    "tags": []
   },
   "outputs": [
    {
     "name": "stdout",
     "output_type": "stream",
     "text": [
      "G. Perotti  ->  G. Perotti  |  ['G. Perotti']\n",
      "S. Ghosh  ->  S. Ghosh  |  ['S. Ghosh']\n",
      "K. Jahnke  ->  K. Jahnke  |  ['K. Jahnke']\n",
      "L. Xie  ->  Z.-L. Xie  |  ['L. Xie']\n",
      "D. Christie  ->  D. Christie  |  ['D. Christie']\n",
      "X. Zhang  ->  X. Zhang  |  ['X. Zhang']\n",
      "E.-M. Ahrer  ->  E.-M. Ahrer  |  ['E.-M. Ahrer']\n",
      "L. Kreidberg  ->  L. Kreidberg  |  ['L. Kreidberg']\n"
     ]
    },
    {
     "name": "stdout",
     "output_type": "stream",
     "text": [
      "J. Li  ->  J. Li  |  ['J. Li']\n",
      "T. Bertram  ->  T. Bertram  |  ['T. Bertram']\n",
      "R. v. Boekel  ->  R. v. Boekel  |  ['R. v. Boekel']\n",
      "M. Feldt  ->  M. Feldt  |  ['M. Feldt']\n",
      "S. Ghosh  ->  S. Ghosh  |  ['S. Ghosh']\n",
      "Arxiv has 99 new papers today\n",
      "          8 with possible author matches\n"
     ]
    }
   ],
   "source": [
    "new_papers = get_new_papers()\n",
    "# add manual references\n",
    "add_paper_refs = []\n",
    "new_papers.extend([get_paper_from_identifier(k) for k in add_paper_refs])\n",
    "\n",
    "candidates = []\n",
    "for paperk in new_papers:\n",
    "    # Check author list with their initials\n",
    "    normed_author_list = [mpia.get_initials(k) for k in paperk['authors']]\n",
    "    hl_authors = highlight_authors_in_list(normed_author_list, mpia_authors, verbose=True)\n",
    "    matches = [(hl, orig) for hl, orig in zip(hl_authors, paperk['authors']) if 'mark' in hl]\n",
    "    paperk['authors'] = hl_authors\n",
    "    if matches:\n",
    "        # only select paper if an author matched our list\n",
    "        candidates.append(paperk)\n",
    "print(\"\"\"Arxiv has {0:,d} new papers today\"\"\".format(len(new_papers)))        \n",
    "print(\"\"\"          {0:,d} with possible author matches\"\"\".format(len(candidates)))"
   ]
  },
  {
   "cell_type": "markdown",
   "id": "3543b34a",
   "metadata": {
    "papermill": {
     "duration": 0.004014,
     "end_time": "2024-07-16T04:10:11.436889",
     "exception": false,
     "start_time": "2024-07-16T04:10:11.432875",
     "status": "completed"
    },
    "tags": []
   },
   "source": [
    "# Parse sources and generate relevant outputs\n",
    "\n",
    "From the candidates, we do the following steps:\n",
    "* get their tarball from ArXiv (and extract data)\n",
    "* find the main .tex file: find one with \\documentclass{...} (sometimes it's non trivial)\n",
    "* Check affiliations with :func:`validation`, which uses :func:`mpia.affiliation_verifications`\n",
    "* If passing the affiliations: we parse the .tex source\n",
    "   * inject sub-documents into the main (flatten the main document)\n",
    "   * parse structure, extract information (title, abstract, authors, figures...)\n",
    "   * handles `\\graphicspath` if provided\n",
    "* Generate the .md document."
   ]
  },
  {
   "cell_type": "code",
   "execution_count": 5,
   "id": "9576b79e",
   "metadata": {
    "execution": {
     "iopub.execute_input": "2024-07-16T04:10:11.444221Z",
     "iopub.status.busy": "2024-07-16T04:10:11.443808Z",
     "iopub.status.idle": "2024-07-16T04:39:24.395063Z",
     "shell.execute_reply": "2024-07-16T04:39:24.394322Z"
    },
    "papermill": {
     "duration": 1752.956577,
     "end_time": "2024-07-16T04:39:24.396545",
     "exception": false,
     "start_time": "2024-07-16T04:10:11.439968",
     "status": "completed"
    },
    "scrolled": false,
    "tags": []
   },
   "outputs": [
    {
     "data": {
      "application/vnd.jupyter.widget-view+json": {
       "model_id": "96beb545284c4e76926e8bdeea827a45",
       "version_major": 2,
       "version_minor": 0
      },
      "text/plain": [
       "  0%|          | 0/8 [00:00<?, ?it/s]"
      ]
     },
     "metadata": {},
     "output_type": "display_data"
    },
    {
     "name": "stdout",
     "output_type": "stream",
     "text": [
      "Retrieving document from  https://arxiv.org/e-print/2407.09627\n"
     ]
    },
    {
     "name": "stdout",
     "output_type": "stream",
     "text": [
      "extracting tarball to tmp_2407.09627..."
     ]
    },
    {
     "name": "stdout",
     "output_type": "stream",
     "text": [
      " done.\n"
     ]
    },
    {
     "name": "stdout",
     "output_type": "stream",
     "text": [
      "G. Perotti  ->  G. Perotti  |  ['G. Perotti']\n"
     ]
    },
    {
     "name": "stdout",
     "output_type": "stream",
     "text": [
      "Found 93 bibliographic references in tmp_2407.09627/main.bbl.\n",
      "Retrieving document from  https://arxiv.org/e-print/2407.09799\n"
     ]
    },
    {
     "name": "stdout",
     "output_type": "stream",
     "text": [
      "extracting tarball to tmp_2407.09799..."
     ]
    },
    {
     "name": "stdout",
     "output_type": "stream",
     "text": [
      " done.\n"
     ]
    },
    {
     "name": "stdout",
     "output_type": "stream",
     "text": [
      "S. Ghosh  ->  S. Ghosh  |  ['S. Ghosh']\n"
     ]
    },
    {
     "name": "stdout",
     "output_type": "stream",
     "text": [
      "Found 89 bibliographic references in tmp_2407.09799/paper.bbl.\n",
      "Error retrieving bib data for Ness_2013: 'author'\n",
      "Retrieving document from  https://arxiv.org/e-print/2407.09810\n"
     ]
    },
    {
     "name": "stdout",
     "output_type": "stream",
     "text": [
      "extracting tarball to tmp_2407.09810..."
     ]
    },
    {
     "name": "stdout",
     "output_type": "stream",
     "text": [
      " done.\n",
      "Retrieving document from  https://arxiv.org/e-print/2407.09949\n"
     ]
    },
    {
     "name": "stderr",
     "output_type": "stream",
     "text": [
      "/opt/hostedtoolcache/Python/3.9.19/x64/lib/python3.9/site-packages/IPython/core/interactiveshell.py:3550: LatexWarning: Multiple tex files.\n",
      "\n",
      "  exec(code_obj, self.user_global_ns, self.user_ns)\n",
      "/tmp/ipykernel_2103/1211882699.py:51: LatexWarning: 2407.09810 did not run properly\n",
      "'PosixPath' object is not subscriptable\n",
      "  warnings.warn(latex.LatexWarning(f\"{paper_id:s} did not run properly\\n\" +\n"
     ]
    },
    {
     "name": "stdout",
     "output_type": "stream",
     "text": [
      "extracting tarball to tmp_2407.09949..."
     ]
    },
    {
     "name": "stdout",
     "output_type": "stream",
     "text": [
      " done.\n",
      "Retrieving document from  https://arxiv.org/e-print/2407.10294\n"
     ]
    },
    {
     "name": "stdout",
     "output_type": "stream",
     "text": [
      "extracting tarball to tmp_2407.10294..."
     ]
    },
    {
     "name": "stdout",
     "output_type": "stream",
     "text": [
      " done.\n"
     ]
    },
    {
     "name": "stderr",
     "output_type": "stream",
     "text": [
      "/opt/hostedtoolcache/Python/3.9.19/x64/lib/python3.9/site-packages/arxiv_on_deck_2/latex.py:745: LatexWarning: Could not extract abstract from tmp_2407.10294/main.tex\n",
      "  warnings.warn(LatexWarning(f\"Could not extract abstract from {self.main_file}\"))\n"
     ]
    },
    {
     "name": "stdout",
     "output_type": "stream",
     "text": [
      "list index out of range\n",
      "Retrieving document from  https://arxiv.org/e-print/2407.10540\n"
     ]
    },
    {
     "name": "stdout",
     "output_type": "stream",
     "text": [
      "extracting tarball to tmp_2407.10540..."
     ]
    },
    {
     "name": "stdout",
     "output_type": "stream",
     "text": [
      " done.\n",
      "Retrieving document from  https://arxiv.org/e-print/2407.10588\n"
     ]
    },
    {
     "name": "stdout",
     "output_type": "stream",
     "text": [
      "extracting tarball to tmp_2407.10588..."
     ]
    },
    {
     "name": "stdout",
     "output_type": "stream",
     "text": [
      " done.\n"
     ]
    },
    {
     "name": "stdout",
     "output_type": "stream",
     "text": [
      "T. Bertram  ->  T. Bertram  |  ['T. Bertram']\n",
      "R. v. Boekel  ->  R. v. Boekel  |  ['R. v. Boekel']\n",
      "M. Feldt  ->  M. Feldt  |  ['M. Feldt']\n"
     ]
    },
    {
     "name": "stdout",
     "output_type": "stream",
     "text": [
      "Found 34 bibliographic references in tmp_2407.10588/main.bbl.\n",
      "Retrieving document from  https://arxiv.org/e-print/2407.10686\n"
     ]
    },
    {
     "name": "stderr",
     "output_type": "stream",
     "text": [
      "/opt/hostedtoolcache/Python/3.9.19/x64/lib/python3.9/site-packages/arxiv_on_deck_2/latex_bib.py:132: UserWarning: Error processing bibitem\n",
      " item = \\bibitem{Brandl21}{Brandl}, B., {Bettonvil}, F., {van Boekel}, R., {Glauser}, A., {Quanz}, S.,  {Absil}, O., {Amorim}, A., {Feldt}, M., {Glasse}, A., {G{ü}del}, M., {Ho},  P., {Labadie}, L., {Meyer}, M., {Pantin}, E., {van Winckel}, H., and {METIS  Consortium}, ``{METIS: The Mid-infrared ELT Imager and Spectrograph},'' {\\em  The Messenger}~{\\bf 182},  22--26 (Mar. 2021).\n",
      " regex = \n",
      "        \\\\bibitem(\\[[^\\[\\]]*?\\]){(?P<bibkey>[a-zA-Z0-9\\-\\+\\.\\S]+?)}(?P<authors>|([\\D]*?))(?P<year>[12][0-9]{3})(?P<rest>.*)\n",
      "        \n",
      "  warnings.warn(str(e))\n",
      "/opt/hostedtoolcache/Python/3.9.19/x64/lib/python3.9/site-packages/arxiv_on_deck_2/latex_bib.py:132: UserWarning: Error processing bibitem\n",
      " item = \\bibitem{Brandl24}{Brandl}, B., {Absil}, O., {Feldt}, M., {Garcia}, P., {Glasse}, A., {Guedel},  M., {Labadie}, L., {Meyer}, M., {Pantin}, E., {Quanz}, S., {Wang}, S.-Y.,  {van Winckel}, H., {Bettonvil}, F., {Glauser}, A.~M., {van Boekel}, R.,  {Salo}, C., {Scheithauer}, S., {Stuik}, R., {Haupt}, C., and {Siebenmorgen},  R., ``{Final design and status of the Mid-Infrared ELT Imager and  Spectrograph, METIS},'' in [{\\em Ground-based and Airborne Instrumentation  for Astronomy X}{\\nolinebreak\\hspace{0.1em}]},  {Bryant}, J.~J., {Motohora},  K., and {Vernet}, J. R.~D., eds., {\\em Proc.\\ SPIE} {\\bf 13096} (2024).\n",
      " regex = \n",
      "        \\\\bibitem(\\[[^\\[\\]]*?\\]){(?P<bibkey>[a-zA-Z0-9\\-\\+\\.\\S]+?)}(?P<authors>|([\\D]*?))(?P<year>[12][0-9]{3})(?P<rest>.*)\n",
      "        \n",
      "  warnings.warn(str(e))\n",
      "/opt/hostedtoolcache/Python/3.9.19/x64/lib/python3.9/site-packages/arxiv_on_deck_2/latex_bib.py:132: UserWarning: Error processing bibitem\n",
      " item = \\bibitem{Bertram24}{Bertram}, T., {Absil}, O., {Bizenberger}, P., {Brandl}, B., {Brandner}, W.,  {Briegel}, F., {Cardenas Vazquez}, M.~C., {Coppejans}, H., {Correia}, C.,  {Feldt}, M., {Glauser}, A.~M., {Häberle}, M., {Huber}, A., {Kulas}, M.,  {Laun}, W., {Mohr}, L., {Mortimer}, D., {Naranjo}, V., {Obereder}, A., {Orban  de Xivry}, G., {Rohloff}, R.-R., {Scheithauer}, S., {Steuer}, H., and {van  Boekel}, R., ``{How to make METIS SCAO work},'' in [{\\em Adaptive Optics  Systems IX}{\\nolinebreak\\hspace{0.1em}]},  {Jackson}, K.~J., {Schmidt}, D.,  and {Vernet}, E., eds., {\\em Proc.\\ SPIE} {\\bf 13097} (2024).\n",
      " regex = \n",
      "        \\\\bibitem(\\[[^\\[\\]]*?\\]){(?P<bibkey>[a-zA-Z0-9\\-\\+\\.\\S]+?)}(?P<authors>|([\\D]*?))(?P<year>[12][0-9]{3})(?P<rest>.*)\n",
      "        \n",
      "  warnings.warn(str(e))\n",
      "/opt/hostedtoolcache/Python/3.9.19/x64/lib/python3.9/site-packages/arxiv_on_deck_2/latex_bib.py:132: UserWarning: Error processing bibitem\n",
      " item = \\bibitem{Mawet05}{Mawet}, D., {Riaud}, P., {Absil}, O., and {Surdej}, J., ``{Annular Groove  Phase Mask Coronagraph},'' {\\em Astrophys.\\ J.}~{\\bf 633},  1191--1200 (Nov.  2005).\n",
      " regex = \n",
      "        \\\\bibitem(\\[[^\\[\\]]*?\\]){(?P<bibkey>[a-zA-Z0-9\\-\\+\\.\\S]+?)}(?P<authors>|([\\D]*?))(?P<year>[12][0-9]{3})(?P<rest>.*)\n",
      "        \n",
      "  warnings.warn(str(e))\n",
      "/opt/hostedtoolcache/Python/3.9.19/x64/lib/python3.9/site-packages/arxiv_on_deck_2/latex_bib.py:132: UserWarning: Error processing bibitem\n",
      " item = \\bibitem{Doelman21}{Doelman}, D.~S., {Snik}, F., {Por}, E.~H., {Bos}, S.~P., {Otten}, G.~P.~P.~L.,  {Kenworthy}, M., {Haffert}, S.~Y., {Wilby}, M., {Bohn}, A.~J., {Sutlieff},  B.~J., {Miller}, K., {Ouellet}, M., {de Boer}, J., {Keller}, C.~U., {Escuti},  M.~J., {Shi}, S., {Warriner}, N.~Z., {Hornburg}, K., {Birkby}, J.~L.,  {Males}, J., {Morzinski}, K.~M., {Close}, L.~M., {Codona}, J., {Long}, J.,  {Schatz}, L., {Lumbres}, J., {Rodack}, A., {Van Gorkom}, K., {Hedglen}, A.,  {Guyon}, O., {Lozi}, J., {Groff}, T., {Chilcote}, J., {Jovanovic}, N.,  {Thibault}, S., {de Jonge}, C., {Allain}, G., {Vall{é}e}, C., {Patel}, D.,  {C{\\^o}t{é}}, O., {Marois}, C., {Hinz}, P., {Stone}, J., {Skemer}, A.,  {Briesemeister}, Z., {Boehle}, A., {Glauser}, A.~M., {Taylor}, W., {Baudoz},  P., {Huby}, E., {Absil}, O., {Carlomagno}, B., and {Delacroix}, C.,  ``{Vector-apodizing phase plate coronagraph: design, current performance, and  future development [Invited]},'' {\\em Appl.\\ Opt.}~{\\bf 60},  D52 (July  2021).\n",
      " regex = \n",
      "        \\\\bibitem(\\[[^\\[\\]]*?\\]){(?P<bibkey>[a-zA-Z0-9\\-\\+\\.\\S]+?)}(?P<authors>|([\\D]*?))(?P<year>[12][0-9]{3})(?P<rest>.*)\n",
      "        \n",
      "  warnings.warn(str(e))\n",
      "/opt/hostedtoolcache/Python/3.9.19/x64/lib/python3.9/site-packages/arxiv_on_deck_2/latex_bib.py:132: UserWarning: Error processing bibitem\n",
      " item = \\bibitem{Delacroix13}{Delacroix}, C., {Absil}, O., {Forsberg}, P., {Mawet}, D., {Christiaens}, V.,  {Karlsson}, M., {Boccaletti}, A., {Baudoz}, P., {Kuittinen}, M.,  {Vartiainen}, I., {Surdej}, J., and {Habraken}, S., ``{Laboratory  demonstration of a mid-infrared AGPM vector vortex coronagraph},'' {\\em  Astron.\\ Astrophys.}~{\\bf 553},  A98 (May 2013).\n",
      " regex = \n",
      "        \\\\bibitem(\\[[^\\[\\]]*?\\]){(?P<bibkey>[a-zA-Z0-9\\-\\+\\.\\S]+?)}(?P<authors>|([\\D]*?))(?P<year>[12][0-9]{3})(?P<rest>.*)\n",
      "        \n",
      "  warnings.warn(str(e))\n",
      "/opt/hostedtoolcache/Python/3.9.19/x64/lib/python3.9/site-packages/arxiv_on_deck_2/latex_bib.py:132: UserWarning: Error processing bibitem\n",
      " item = \\bibitem{Forsberg24}Forsberg, P., Karvinen, P., Ronayette, S., Kuittinen, M., Absil, O., König,  L., Delacroix, C., Orban~de Xivry, G., Barrière, J.-C., Pantin, E., and  Karlsson, M., ``Making the diamond vortex phase masks for the {METIS}  instrument,'' {\\em Diam.\\ Relat.\\ Mater.}~{\\bf 146} (June 2024).\n",
      " regex = \n",
      "        \\\\bibitem(\\[[^\\[\\]]*?\\]){(?P<bibkey>[a-zA-Z0-9\\-\\+\\.\\S]+?)}(?P<authors>|([\\D]*?))(?P<year>[12][0-9]{3})(?P<rest>.*)\n",
      "        \n",
      "  warnings.warn(str(e))\n",
      "/opt/hostedtoolcache/Python/3.9.19/x64/lib/python3.9/site-packages/arxiv_on_deck_2/latex_bib.py:132: UserWarning: Error processing bibitem\n",
      " item = \\bibitem{Absil16}{Absil}, O., {Mawet}, D., {Karlsson}, M., {Carlomagno}, B., {Christiaens}, V.,  {Defr{è}re}, D., {Delacroix}, C., {Femen{í}a Castella}, B., {Forsberg},  P., {Girard}, J., {G{ó}mez Gonz{á}lez}, C.~A., {Habraken}, S., {Hinz},  P.~M., {Huby}, E., {Jolivet}, A., {Matthews}, K., {Milli}, J., {Orban de  Xivry}, G., {Pantin}, E., {Piron}, P., {Reggiani}, M., {Ruane}, G.~J.,  {Serabyn}, G., {Surdej}, J., {Tristram}, K. R.~W., {Vargas Catal{á}n}, E.,  {Wertz}, O., and {Wizinowich}, P., ``{Three years of harvest with the vector  vortex coronagraph in the thermal infrared},'' in [{\\em Ground-based and  Airborne Instrumentation for Astronomy VI}{\\nolinebreak\\hspace{0.1em}]},  {Evans}, C.~J., {Simard}, L., and {Takami}, H., eds., {\\em Proc.\\ SPIE} {\\bf  9908},  99080Q (Aug. 2016).\n",
      " regex = \n",
      "        \\\\bibitem(\\[[^\\[\\]]*?\\]){(?P<bibkey>[a-zA-Z0-9\\-\\+\\.\\S]+?)}(?P<authors>|([\\D]*?))(?P<year>[12][0-9]{3})(?P<rest>.*)\n",
      "        \n",
      "  warnings.warn(str(e))\n",
      "/opt/hostedtoolcache/Python/3.9.19/x64/lib/python3.9/site-packages/arxiv_on_deck_2/latex_bib.py:132: UserWarning: Error processing bibitem\n",
      " item = \\bibitem{VargasCatalan16}{Vargas Catal{á}n}, E., {Huby}, E., {Forsberg}, P., {Jolivet}, A., {Baudoz},  P., {Carlomagno}, B., {Delacroix}, C., {Habraken}, S., {Mawet}, D., {Surdej},  J., {Absil}, O., and {Karlsson}, M., ``{Optimizing the subwavelength grating  of L-band annular groove phase masks for high coronagraphic performance},''  {\\em Astron.\\ Astrophys.}~{\\bf 595},  A127 (Nov. 2016).\n",
      " regex = \n",
      "        \\\\bibitem(\\[[^\\[\\]]*?\\]){(?P<bibkey>[a-zA-Z0-9\\-\\+\\.\\S]+?)}(?P<authors>|([\\D]*?))(?P<year>[12][0-9]{3})(?P<rest>.*)\n",
      "        \n",
      "  warnings.warn(str(e))\n",
      "/opt/hostedtoolcache/Python/3.9.19/x64/lib/python3.9/site-packages/arxiv_on_deck_2/latex_bib.py:132: UserWarning: Error processing bibitem\n",
      " item = \\bibitem{Mawet13}{Mawet}, D., {Pueyo}, L., {Carlotti}, A., {Mennesson}, B., {Serabyn}, E., and  {Wallace}, J.~K., ``{Ring-apodized Vortex Coronagraphs for Obscured  Telescopes. I. Transmissive Ring Apodizers},'' {\\em Astrophys.\\ J.\\ suppl.\\  ser.}~{\\bf 209},  7 (Nov. 2013).\n",
      " regex = \n",
      "        \\\\bibitem(\\[[^\\[\\]]*?\\]){(?P<bibkey>[a-zA-Z0-9\\-\\+\\.\\S]+?)}(?P<authors>|([\\D]*?))(?P<year>[12][0-9]{3})(?P<rest>.*)\n",
      "        \n",
      "  warnings.warn(str(e))\n",
      "/opt/hostedtoolcache/Python/3.9.19/x64/lib/python3.9/site-packages/arxiv_on_deck_2/latex_bib.py:132: UserWarning: Error processing bibitem\n",
      " item = \\bibitem{Bos19}{Bos}, S.~P., {Doelman}, D.~S., {Lozi}, J., {Guyon}, O., {Keller}, C.~U.,  {Miller}, K.~L., {Jovanovic}, N., {Martinache}, F., and {Snik}, F.,  ``{Focal-plane wavefront sensing with the vector-Apodizing Phase Plate},''  {\\em Astron.\\ Astrophys.}~{\\bf 632},  A48 (Dec. 2019).\n",
      " regex = \n",
      "        \\\\bibitem(\\[[^\\[\\]]*?\\]){(?P<bibkey>[a-zA-Z0-9\\-\\+\\.\\S]+?)}(?P<authors>|([\\D]*?))(?P<year>[12][0-9]{3})(?P<rest>.*)\n",
      "        \n",
      "  warnings.warn(str(e))\n",
      "/opt/hostedtoolcache/Python/3.9.19/x64/lib/python3.9/site-packages/arxiv_on_deck_2/latex_bib.py:132: UserWarning: Error processing bibitem\n",
      " item = \\bibitem{Carlotti11}{Carlotti}, A., {Vanderbei}, R., and {Kasdin}, N.~J., ``{Optimal pupil  apodizations of arbitrary apertures for high-contrast imaging},'' {\\em Opt.\\  Express}~{\\bf 19},  26796 (Dec. 2011).\n",
      " regex = \n",
      "        \\\\bibitem(\\[[^\\[\\]]*?\\]){(?P<bibkey>[a-zA-Z0-9\\-\\+\\.\\S]+?)}(?P<authors>|([\\D]*?))(?P<year>[12][0-9]{3})(?P<rest>.*)\n",
      "        \n",
      "  warnings.warn(str(e))\n",
      "/opt/hostedtoolcache/Python/3.9.19/x64/lib/python3.9/site-packages/arxiv_on_deck_2/latex_bib.py:132: UserWarning: Error processing bibitem\n",
      " item = \\bibitem{Martinache13}{Martinache}, F., ``{The Asymmetric Pupil Fourier Wavefront Sensor},'' {\\em  Publ.\\ Astron.\\ Soc.\\ Pac.}~{\\bf 125},  422 (Apr. 2013).\n",
      " regex = \n",
      "        \\\\bibitem(\\[[^\\[\\]]*?\\]){(?P<bibkey>[a-zA-Z0-9\\-\\+\\.\\S]+?)}(?P<authors>|([\\D]*?))(?P<year>[12][0-9]{3})(?P<rest>.*)\n",
      "        \n",
      "  warnings.warn(str(e))\n",
      "/opt/hostedtoolcache/Python/3.9.19/x64/lib/python3.9/site-packages/arxiv_on_deck_2/latex_bib.py:132: UserWarning: Error processing bibitem\n",
      " item = \\bibitem{Ronayette20}{Ronayette}, S., {Mouzali}, S., {Barri{è}re}, J.-C., {Pantin}, {É}.,  {Orduna}, T., {Gallais}, P., {Lortholary}, M., {Dumaye}, L., {Absil}, O.,  {Delacroix}, C., {Ives}, D., and {Karlsson}, M., ``{An N-band test bench for  the METIS coronagraphic masks},'' in [{\\em Ground-based and Airborne  Instrumentation for Astronomy VIII}{\\nolinebreak\\hspace{0.1em}]},  {Evans},  C.~J., {Bryant}, J.~J., and {Motohara}, K., eds., {\\em Proc.\\ SPIE} {\\bf  11447},  114472U (Dec. 2020).\n",
      " regex = \n",
      "        \\\\bibitem(\\[[^\\[\\]]*?\\]){(?P<bibkey>[a-zA-Z0-9\\-\\+\\.\\S]+?)}(?P<authors>|([\\D]*?))(?P<year>[12][0-9]{3})(?P<rest>.*)\n",
      "        \n",
      "  warnings.warn(str(e))\n",
      "/opt/hostedtoolcache/Python/3.9.19/x64/lib/python3.9/site-packages/arxiv_on_deck_2/latex_bib.py:132: UserWarning: Error processing bibitem\n",
      " item = \\bibitem{Delacroix24}{Delacroix}, C., {König}, L., {Absil}, O., {Orban de Xivry}, G., {Forsberg},  P., {Karlsson}, M., {Ronayette}, S., {Pantin}, E., and {Barrière}, J.-C.,  ``{The ELT/METIS Annular Groove Phase Masks},'' in [{\\em Advances in Optical  and Mechanical Technologies for Telescopes and Instrumentation  VI}{\\nolinebreak\\hspace{0.1em}]},  {Navarro}, R. and {Jedamzik}, R., eds.,  {\\em Proc.\\ SPIE} {\\bf 13100} (2024).\n",
      " regex = \n",
      "        \\\\bibitem(\\[[^\\[\\]]*?\\]){(?P<bibkey>[a-zA-Z0-9\\-\\+\\.\\S]+?)}(?P<authors>|([\\D]*?))(?P<year>[12][0-9]{3})(?P<rest>.*)\n",
      "        \n",
      "  warnings.warn(str(e))\n",
      "/opt/hostedtoolcache/Python/3.9.19/x64/lib/python3.9/site-packages/arxiv_on_deck_2/latex_bib.py:132: UserWarning: Error processing bibitem\n",
      " item = \\bibitem{Jolivet19}{Jolivet}, A., {Orban de Xivry}, G., {Huby}, E., {Piron}, P., {Catalan}, E.~V.,  {Habraken}, S., {Surdej}, J., {Karlsson}, M., and {Absil}, O., ``{L- and  M-band annular groove phase mask in lab performance assessment on the vortex  optical demonstrator for coronagraphic applications},'' {\\em J.\\ Astron.\\  Telesc.\\ Instrum.\\ Syst.}~{\\bf 5},  025001 (Apr. 2019).\n",
      " regex = \n",
      "        \\\\bibitem(\\[[^\\[\\]]*?\\]){(?P<bibkey>[a-zA-Z0-9\\-\\+\\.\\S]+?)}(?P<authors>|([\\D]*?))(?P<year>[12][0-9]{3})(?P<rest>.*)\n",
      "        \n",
      "  warnings.warn(str(e))\n",
      "/opt/hostedtoolcache/Python/3.9.19/x64/lib/python3.9/site-packages/arxiv_on_deck_2/latex_bib.py:132: UserWarning: Error processing bibitem\n",
      " item = \\bibitem{Zhang18}{Zhang}, M., {Ruane}, G., {Delorme}, J.-R., {Mawet}, D., {Jovanovic}, N.,  {Jewell}, J., {Shaklan}, S., and {Wallace}, J.~K., ``{Characterization of  microdot apodizers for imaging exoplanets with next-generation space  telescopes},'' in [{\\em Space Telescopes and Instrumentation 2018: Optical,  Infrared, and Millimeter Wave}{\\nolinebreak\\hspace{0.1em}]},  {Lystrup}, M.,  {MacEwen}, H.~A., {Fazio}, G.~G., {Batalha}, N., {Siegler}, N., and {Tong},  E.~C., eds., {\\em Proc.\\ SPIE} {\\bf 10698},  106985X (July 2018).\n",
      " regex = \n",
      "        \\\\bibitem(\\[[^\\[\\]]*?\\]){(?P<bibkey>[a-zA-Z0-9\\-\\+\\.\\S]+?)}(?P<authors>|([\\D]*?))(?P<year>[12][0-9]{3})(?P<rest>.*)\n",
      "        \n",
      "  warnings.warn(str(e))\n",
      "/opt/hostedtoolcache/Python/3.9.19/x64/lib/python3.9/site-packages/arxiv_on_deck_2/latex_bib.py:132: UserWarning: Error processing bibitem\n",
      " item = \\bibitem{LlopSayson20}{Llop-Sayson}, J., {Ruane}, G., {Mawet}, D., {Jovanovic}, N., {Coker}, C.~T.,  {Delorme}, J.-R., {Echeverri}, D., {Fucik}, J., {Eldorado Riggs}, A.~J., and  {Wallace}, J.~K., ``{High-contrast Demonstration of an Apodized Vortex  Coronagraph},'' {\\em Astron.\\ J.}~{\\bf 159},  79 (Mar. 2020).\n",
      " regex = \n",
      "        \\\\bibitem(\\[[^\\[\\]]*?\\]){(?P<bibkey>[a-zA-Z0-9\\-\\+\\.\\S]+?)}(?P<authors>|([\\D]*?))(?P<year>[12][0-9]{3})(?P<rest>.*)\n",
      "        \n",
      "  warnings.warn(str(e))\n",
      "/opt/hostedtoolcache/Python/3.9.19/x64/lib/python3.9/site-packages/arxiv_on_deck_2/latex_bib.py:132: UserWarning: Error processing bibitem\n",
      " item = \\bibitem{Konig24}{König}, L., {Delacroix}, C., {Absil}, O., and {Orban de Xivry}, G.,  ``{Design, manufacturing and prototype testing of the METIS ring apodizer},''  in [{\\em Advances in Optical and Mechanical Technologies for Telescopes and  Instrumentation VI}{\\nolinebreak\\hspace{0.1em}]},  {Navarro}, R. and  {Jedamzik}, R., eds., {\\em Proc.\\ SPIE} {\\bf 13100} (2024).\n",
      " regex = \n",
      "        \\\\bibitem(\\[[^\\[\\]]*?\\]){(?P<bibkey>[a-zA-Z0-9\\-\\+\\.\\S]+?)}(?P<authors>|([\\D]*?))(?P<year>[12][0-9]{3})(?P<rest>.*)\n",
      "        \n",
      "  warnings.warn(str(e))\n",
      "/opt/hostedtoolcache/Python/3.9.19/x64/lib/python3.9/site-packages/arxiv_on_deck_2/latex_bib.py:132: UserWarning: Error processing bibitem\n",
      " item = \\bibitem{Kasper19}{Kasper}, M., {Arsenault}, R., {K{ä}ufl}, U., {Jakob}, G., {Leveratto}, S.,  {Zins}, G., {Pantin}, E., {Duhoux}, P., {Riquelme}, M., {Kirchbauer}, J.~P.,  {Kolb}, J., {Pathak}, P., {Siebenmorgen}, R., {Soenke}, C., {Fuenteseca}, E.,  {Sterzik}, M., {Ageorges}, N., {Gutruf}, S., {Kampf}, D., {Reutlinger}, A.,  {Absil}, O., {Delacroix}, C., {Maire}, A.~L., {Huby}, E., {Guyon}, O.,  {Klupar}, P., {Mawet}, D., {Ruane}, G., {Karlsson}, M., {Dohlen}, K.,  {Vigan}, A., {N'Diaye}, M., {Quanz}, S., and {Carlotti}, A., ``{NEAR: First  Results from the Search for Low-Mass Planets in {\\ensuremath{\\alpha}} Cen},''  {\\em The Messenger}~{\\bf 178},  5--9 (Dec. 2019).\n",
      " regex = \n",
      "        \\\\bibitem(\\[[^\\[\\]]*?\\]){(?P<bibkey>[a-zA-Z0-9\\-\\+\\.\\S]+?)}(?P<authors>|([\\D]*?))(?P<year>[12][0-9]{3})(?P<rest>.*)\n",
      "        \n",
      "  warnings.warn(str(e))\n",
      "/opt/hostedtoolcache/Python/3.9.19/x64/lib/python3.9/site-packages/arxiv_on_deck_2/latex_bib.py:132: UserWarning: Error processing bibitem\n",
      " item = \\bibitem{Guyon18}{Guyon}, O., ``{Extreme Adaptive Optics},'' {\\em Annu.\\ Rev.\\ Astron.\\  Astrophys.}~{\\bf 56},  315--355 (Sept. 2018).\n",
      " regex = \n",
      "        \\\\bibitem(\\[[^\\[\\]]*?\\]){(?P<bibkey>[a-zA-Z0-9\\-\\+\\.\\S]+?)}(?P<authors>|([\\D]*?))(?P<year>[12][0-9]{3})(?P<rest>.*)\n",
      "        \n",
      "  warnings.warn(str(e))\n",
      "/opt/hostedtoolcache/Python/3.9.19/x64/lib/python3.9/site-packages/arxiv_on_deck_2/latex_bib.py:132: UserWarning: Error processing bibitem\n",
      " item = \\bibitem{Absil22}{Absil}, O., {Delacroix}, C., {Orban de Xivry}, G., {Pathak}, P., {Willson},  M., {Berio}, P., {van Boekel}, R., {Matter}, A., {Defr{è}re}, D.,  {Burtscher}, L., {Woillez}, J., and {Brandl}, B., ``{Impact of water vapor  seeing on mid-infrared high-contrast imaging at ELT scale},'' in [{\\em  Adaptive Optics Systems VIII}{\\nolinebreak\\hspace{0.1em}]},  {Schreiber}, L.,  {Schmidt}, D., and {Vernet}, E., eds., {\\em Proc.\\ SPIE} {\\bf 12185},  1218511 (Aug. 2022).\n",
      " regex = \n",
      "        \\\\bibitem(\\[[^\\[\\]]*?\\]){(?P<bibkey>[a-zA-Z0-9\\-\\+\\.\\S]+?)}(?P<authors>|([\\D]*?))(?P<year>[12][0-9]{3})(?P<rest>.*)\n",
      "        \n",
      "  warnings.warn(str(e))\n",
      "/opt/hostedtoolcache/Python/3.9.19/x64/lib/python3.9/site-packages/arxiv_on_deck_2/latex_bib.py:132: UserWarning: Error processing bibitem\n",
      " item = \\bibitem{Carlomagno20}{Carlomagno}, B., {Delacroix}, C., {Absil}, O., {Cantalloube}, F., {Orban de  Xivry}, G., {Pathak}, P., {Agocs}, T., {Bertram}, T., {Brandl}, B.,  {Burtscher}, L., {Feldt}, M., {Glauser}, A., {Hippler}, S., {Kenworthy}, M.,  {Stuik}, R., and {van Boekel}, R., ``{METIS high-contrast imaging: design and  expected performance},'' {\\em J.\\ Astron.\\ Telesc.\\ Instrum.\\ Syst.}~{\\bf 6},   035005 (July 2020).\n",
      " regex = \n",
      "        \\\\bibitem(\\[[^\\[\\]]*?\\]){(?P<bibkey>[a-zA-Z0-9\\-\\+\\.\\S]+?)}(?P<authors>|([\\D]*?))(?P<year>[12][0-9]{3})(?P<rest>.*)\n",
      "        \n",
      "  warnings.warn(str(e))\n",
      "/opt/hostedtoolcache/Python/3.9.19/x64/lib/python3.9/site-packages/arxiv_on_deck_2/latex_bib.py:132: UserWarning: Error processing bibitem\n",
      " item = \\bibitem{Delacroix22}{Delacroix}, C., {Absil}, O., {Orban de Xivry}, G., {Shinde}, M., {Pathak}, P.,  {Cantalloube}, F., {Carlomagno}, B., {Christiaens}, V., {Bon{é}}, A.,  {Dolkens}, D., {Kenworthy}, M., and {Doelman}, D., ``{The High-contrast  End-to-End Performance Simulator (HEEPS): influence of ELT/METIS instrumental  effects},'' in [{\\em Modeling, Systems Engineering, and Project Management  for Astronomy X}{\\nolinebreak\\hspace{0.1em}]},  {Angeli}, G.~Z. and  {Dierickx}, P., eds., {\\em Proc.\\ SPIE} {\\bf 12187},  121870F (Aug. 2022).\n",
      " regex = \n",
      "        \\\\bibitem(\\[[^\\[\\]]*?\\]){(?P<bibkey>[a-zA-Z0-9\\-\\+\\.\\S]+?)}(?P<authors>|([\\D]*?))(?P<year>[12][0-9]{3})(?P<rest>.*)\n",
      "        \n",
      "  warnings.warn(str(e))\n",
      "/opt/hostedtoolcache/Python/3.9.19/x64/lib/python3.9/site-packages/arxiv_on_deck_2/latex_bib.py:132: UserWarning: Error processing bibitem\n",
      " item = \\bibitem{Huby15}{Huby}, E., {Baudoz}, P., {Mawet}, D., and {Absil}, O., ``{Post-coronagraphic  tip-tilt sensing for vortex phase masks: The QACITS technique},'' {\\em  Astron.\\ Astrophys.}~{\\bf 584},  A74 (Dec. 2015).\n",
      " regex = \n",
      "        \\\\bibitem(\\[[^\\[\\]]*?\\]){(?P<bibkey>[a-zA-Z0-9\\-\\+\\.\\S]+?)}(?P<authors>|([\\D]*?))(?P<year>[12][0-9]{3})(?P<rest>.*)\n",
      "        \n",
      "  warnings.warn(str(e))\n",
      "/opt/hostedtoolcache/Python/3.9.19/x64/lib/python3.9/site-packages/arxiv_on_deck_2/latex_bib.py:132: UserWarning: Error processing bibitem\n",
      " item = \\bibitem{Orban24}{Orban de Xivry}, G., {Absil}, O., {Delacroix}, C., {Pathak}, P., {Quesnel},  M., and {Bertram}, T., ``{ALF: an asymmetric Lyot wavefront sensor for the  ELT/METIS vortex coronagraph},'' in [{\\em Adaptive Optics Systems  IX}{\\nolinebreak\\hspace{0.1em}]},  {Jackson}, K.~J., {Schmidt}, D., and  {Vernet}, E., eds., {\\em Proc.\\ SPIE} {\\bf 13097} (2024).\n",
      " regex = \n",
      "        \\\\bibitem(\\[[^\\[\\]]*?\\]){(?P<bibkey>[a-zA-Z0-9\\-\\+\\.\\S]+?)}(?P<authors>|([\\D]*?))(?P<year>[12][0-9]{3})(?P<rest>.*)\n",
      "        \n",
      "  warnings.warn(str(e))\n",
      "/opt/hostedtoolcache/Python/3.9.19/x64/lib/python3.9/site-packages/arxiv_on_deck_2/latex_bib.py:132: UserWarning: Error processing bibitem\n",
      " item = \\bibitem{Snellen15}{Snellen}, I., {de Kok}, R., {Birkby}, J.~L., {Brandl}, B., {Brogi}, M.,  {Keller}, C., {Kenworthy}, M., {Schwarz}, H., and {Stuik}, R., ``{Combining  high-dispersion spectroscopy with high contrast imaging: Probing rocky  planets around our nearest neighbors},'' {\\em Astron.\\ Astrophys.}~{\\bf 576},   A59 (Apr. 2015).\n",
      " regex = \n",
      "        \\\\bibitem(\\[[^\\[\\]]*?\\]){(?P<bibkey>[a-zA-Z0-9\\-\\+\\.\\S]+?)}(?P<authors>|([\\D]*?))(?P<year>[12][0-9]{3})(?P<rest>.*)\n",
      "        \n",
      "  warnings.warn(str(e))\n",
      "/opt/hostedtoolcache/Python/3.9.19/x64/lib/python3.9/site-packages/arxiv_on_deck_2/latex_bib.py:132: UserWarning: Error processing bibitem\n",
      " item = \\bibitem{Mortimer24}{Mortimer}, D., {Cárdenas Vázquez}, M.~C., {Bertram}, T., {Bizenberger}, P.,  {Häberle}, M., {Huber}, A., and {Scheithauer}, S., ``{Building an ELT  simulator in the lab for subsystem testing of METIS/SCAO},'' in [{\\em  Adaptive Optics Systems IX}{\\nolinebreak\\hspace{0.1em}]},  {Jackson}, K.~J.,  {Schmidt}, D., and {Vernet}, E., eds., {\\em Proc.\\ SPIE} {\\bf 13097} (2024).\n",
      " regex = \n",
      "        \\\\bibitem(\\[[^\\[\\]]*?\\]){(?P<bibkey>[a-zA-Z0-9\\-\\+\\.\\S]+?)}(?P<authors>|([\\D]*?))(?P<year>[12][0-9]{3})(?P<rest>.*)\n",
      "        \n",
      "  warnings.warn(str(e))\n",
      "/opt/hostedtoolcache/Python/3.9.19/x64/lib/python3.9/site-packages/arxiv_on_deck_2/latex_bib.py:132: UserWarning: Error processing bibitem\n",
      " item = \\bibitem{Feldt23}{Feldt}, M., {Steuer}, H., {Correia}, C., {Obereder}, A., {Raffetseder}, S.,  {Bertram}, T., {Shatokhina}, J., and {Cantalloube}, F., ``{Simulating METIS'  SCAO System},'' in [{\\em Adaptive Optics for Extremely Large Telescopes  (AO4ELT7)}{\\nolinebreak\\hspace{0.1em}]},   6 (June 2023).\n",
      " regex = \n",
      "        \\\\bibitem(\\[[^\\[\\]]*?\\]){(?P<bibkey>[a-zA-Z0-9\\-\\+\\.\\S]+?)}(?P<authors>|([\\D]*?))(?P<year>[12][0-9]{3})(?P<rest>.*)\n",
      "        \n",
      "  warnings.warn(str(e))\n",
      "/opt/hostedtoolcache/Python/3.9.19/x64/lib/python3.9/site-packages/arxiv_on_deck_2/latex_bib.py:132: UserWarning: Error processing bibitem\n",
      " item = \\bibitem{Krist07}{Krist}, J.~E., ``{PROPER: an optical propagation library for IDL},'' in [{\\em  Optical Modeling and Performance Predictions  III}{\\nolinebreak\\hspace{0.1em}]},  {Kahan}, M.~A., ed., {\\em Proc.\\ SPIE}  {\\bf 6675},  66750P (Sept. 2007).\n",
      " regex = \n",
      "        \\\\bibitem(\\[[^\\[\\]]*?\\]){(?P<bibkey>[a-zA-Z0-9\\-\\+\\.\\S]+?)}(?P<authors>|([\\D]*?))(?P<year>[12][0-9]{3})(?P<rest>.*)\n",
      "        \n",
      "  warnings.warn(str(e))\n",
      "/opt/hostedtoolcache/Python/3.9.19/x64/lib/python3.9/site-packages/arxiv_on_deck_2/latex_bib.py:132: UserWarning: Error processing bibitem\n",
      " item = \\bibitem{Bone20}{Bon{é}}, A., {Ag{ó}cs}, T., {Absil}, O., {Delacroix}, C., {Amorim}, A.,  and {Lynn}, J., ``{The Talbot effect's impact on the high contrast imaging  modes of METIS},'' in [{\\em Advances in Optical and Mechanical Technologies  for Telescopes and Instrumentation IV}{\\nolinebreak\\hspace{0.1em}]},  {Navarro}, R. and {Geyl}, R., eds., {\\em Proc.\\ SPIE} {\\bf 11451},  114514D  (Dec. 2020).\n",
      " regex = \n",
      "        \\\\bibitem(\\[[^\\[\\]]*?\\]){(?P<bibkey>[a-zA-Z0-9\\-\\+\\.\\S]+?)}(?P<authors>|([\\D]*?))(?P<year>[12][0-9]{3})(?P<rest>.*)\n",
      "        \n",
      "  warnings.warn(str(e))\n",
      "/opt/hostedtoolcache/Python/3.9.19/x64/lib/python3.9/site-packages/arxiv_on_deck_2/latex_bib.py:132: UserWarning: Error processing bibitem\n",
      " item = \\bibitem{Gomez17}{Gomez Gonzalez}, C.~A., {Wertz}, O., {Absil}, O., {Christiaens}, V.,  {Defr{è}re}, D., {Mawet}, D., {Milli}, J., {Absil}, P.-A., {Van  Droogenbroeck}, M., {Cantalloube}, F., {Hinz}, P.~M., {Skemer}, A.~J.,  {Karlsson}, M., and {Surdej}, J., ``{VIP: Vortex Image Processing Package for  High-contrast Direct Imaging},'' {\\em Astron.\\ J.}~{\\bf 154},  7 (July 2017).\n",
      " regex = \n",
      "        \\\\bibitem(\\[[^\\[\\]]*?\\]){(?P<bibkey>[a-zA-Z0-9\\-\\+\\.\\S]+?)}(?P<authors>|([\\D]*?))(?P<year>[12][0-9]{3})(?P<rest>.*)\n",
      "        \n",
      "  warnings.warn(str(e))\n",
      "/opt/hostedtoolcache/Python/3.9.19/x64/lib/python3.9/site-packages/arxiv_on_deck_2/latex_bib.py:132: UserWarning: Error processing bibitem\n",
      " item = \\bibitem{Christiaens23}{Christiaens}, V., {Gonzalez}, C., {Farkas}, R., {Dahlqvist}, C.-H.,  {Nasedkin}, E., {Milli}, J., {Absil}, O., {Ngo}, H., {Cantero}, C., {Rainot},  A., {Hammond}, I., {Bonse}, M., {Cantalloube}, F., {Vigan}, A., {Kompella},  V., and {Hancock}, P., ``{VIP: A Python package for high-contrast imaging},''  {\\em J.\\ Open Source Softw.}~{\\bf 8},  4774 (Jan. 2023).\n",
      " regex = \n",
      "        \\\\bibitem(\\[[^\\[\\]]*?\\]){(?P<bibkey>[a-zA-Z0-9\\-\\+\\.\\S]+?)}(?P<authors>|([\\D]*?))(?P<year>[12][0-9]{3})(?P<rest>.*)\n",
      "        \n",
      "  warnings.warn(str(e))\n",
      "/opt/hostedtoolcache/Python/3.9.19/x64/lib/python3.9/site-packages/arxiv_on_deck_2/latex_bib.py:132: UserWarning: Error processing bibitem\n",
      " item = \\bibitem{Bowens21}{Bowens}, R., {Meyer}, M.~R., {Delacroix}, C., {Absil}, O., {van Boekel}, R.,  {Quanz}, S.~P., {Shinde}, M., {Kenworthy}, M., {Carlomagno}, B., {Orban de  Xivry}, G., {Cantalloube}, F., and {Pathak}, P., ``{Exoplanets with  ELT-METIS. I. Estimating the direct imaging exoplanet yield around stars  within 6.5 parsecs},'' {\\em Astron.\\ Astrophys.}~{\\bf 653},  A8 (Sept. 2021).\\end{thebibliography}\n",
      " regex = \n",
      "        \\\\bibitem(\\[[^\\[\\]]*?\\]){(?P<bibkey>[a-zA-Z0-9\\-\\+\\.\\S]+?)}(?P<authors>|([\\D]*?))(?P<year>[12][0-9]{3})(?P<rest>.*)\n",
      "        \n",
      "  warnings.warn(str(e))\n"
     ]
    },
    {
     "name": "stdout",
     "output_type": "stream",
     "text": [
      "extracting tarball to tmp_2407.10686..."
     ]
    },
    {
     "name": "stdout",
     "output_type": "stream",
     "text": [
      " done.\n"
     ]
    }
   ],
   "source": [
    "documents = []\n",
    "failed = []\n",
    "for paper in tqdm(candidates):\n",
    "    # debug crap\n",
    "    paper['identifier'] = paper['identifier'].lower().replace('arxiv:', '').replace(r'\\n', '').strip()\n",
    "    paper_id = paper['identifier']\n",
    "    \n",
    "    folder = f'tmp_{paper_id}'\n",
    "\n",
    "    try:\n",
    "        if not os.path.isdir(folder):\n",
    "            folder = retrieve_document_source(f\"{paper_id}\", f'tmp_{paper_id}')\n",
    "        \n",
    "        try:\n",
    "            doc = latex.LatexDocument(folder, validation=validation)    \n",
    "        except AffiliationError as affilerror:\n",
    "            msg = f\"ArXiv:{paper_id:s} is not an MPIA paper... \" + str(affilerror)\n",
    "            failed.append((paper, \"affiliation error: \" + str(affilerror) ))\n",
    "            continue\n",
    "        \n",
    "        # Hack because sometimes author parsing does not work well\n",
    "        if (len(doc.authors) != len(paper['authors'])):\n",
    "            doc._authors = paper['authors']\n",
    "        else:\n",
    "            # highlight authors (FIXME: doc.highlight_authors)\n",
    "            # done on arxiv paper already\n",
    "            doc._authors = highlight_authors_in_list(\n",
    "                [mpia.get_initials(k) for k in doc.authors], \n",
    "                mpia_authors, verbose=True)\n",
    "        if (doc.abstract) in (None, ''):\n",
    "            doc._abstract = paper['abstract']\n",
    "            \n",
    "        doc.comment = (get_markdown_badge(paper_id) + \n",
    "                       \"<mark>Appeared on: \" + paper['date'] + \"</mark> - \")\n",
    "        if paper['comments']:\n",
    "            doc.comment += \" _\" + paper['comments'] + \"_\"\n",
    "        \n",
    "        full_md = doc.generate_markdown_text()\n",
    "        \n",
    "        full_md += get_markdown_qrcode(paper_id)\n",
    "        \n",
    "        # replace citations\n",
    "        try:\n",
    "            bibdata = latex_bib.LatexBib.from_doc(doc)\n",
    "            full_md = latex_bib.replace_citations(full_md, bibdata)\n",
    "        except Exception as e:\n",
    "            print(e)\n",
    "        \n",
    "        documents.append((paper_id, full_md))\n",
    "    except Exception as e:\n",
    "        warnings.warn(latex.LatexWarning(f\"{paper_id:s} did not run properly\\n\" +\n",
    "                                         str(e)\n",
    "                                        ))\n",
    "        failed.append((paper, \"latex error \" + str(e)))"
   ]
  },
  {
   "cell_type": "markdown",
   "id": "2505a25c",
   "metadata": {
    "papermill": {
     "duration": 0.0046,
     "end_time": "2024-07-16T04:39:24.406032",
     "exception": false,
     "start_time": "2024-07-16T04:39:24.401432",
     "status": "completed"
    },
    "tags": []
   },
   "source": [
    "### Export the logs\n",
    "\n",
    "Throughout, we also keep track of the logs per paper. see `logs-{today date}.md` "
   ]
  },
  {
   "cell_type": "code",
   "execution_count": 6,
   "id": "d733828a",
   "metadata": {
    "execution": {
     "iopub.execute_input": "2024-07-16T04:39:24.416410Z",
     "iopub.status.busy": "2024-07-16T04:39:24.416128Z",
     "iopub.status.idle": "2024-07-16T04:39:24.435551Z",
     "shell.execute_reply": "2024-07-16T04:39:24.434963Z"
    },
    "papermill": {
     "duration": 0.026229,
     "end_time": "2024-07-16T04:39:24.436846",
     "exception": false,
     "start_time": "2024-07-16T04:39:24.410617",
     "status": "completed"
    },
    "scrolled": false,
    "tags": []
   },
   "outputs": [
    {
     "data": {
      "text/markdown": [
       "## Successful papers"
      ],
      "text/plain": [
       "<IPython.core.display.Markdown object>"
      ]
     },
     "metadata": {},
     "output_type": "display_data"
    },
    {
     "data": {
      "text/markdown": [
       "\n",
       "|||\n",
       "|---:|:---|\n",
       "| [![arXiv](https://img.shields.io/badge/arXiv-2407.09627-b31b1b.svg)](https://arxiv.org/abs/2407.09627) | **A JWST/MIRI analysis of the ice distribution and PAH emission in the protoplanetary disk HH 48 NE**  |\n",
       "|| J. A. Sturm, et al. -- incl., <mark>G. Perotti</mark> |\n",
       "|*Appeared on*| *2024-07-16*|\n",
       "|*Comments*| *16 pages, 11 figures, accepted in A&A*|\n",
       "|**Abstract**|            Ice-coated dust grains provide the main reservoir of volatiles that play an important role in planet formation processes and may become incorporated into planetary atmospheres. However, due to observational challenges, the ice abundance distribution in protoplanetary disks is not well constrained. We present JWST/MIRI observations of the edge-on disk HH 48 NE carried out as part of the IRS program Ice Age. We detect CO$_2$, NH$_3$, H$_2$O and tentatively CH$_4$ and NH$_4^+$. Radiative transfer models suggest that ice absorption features are produced predominantly in the 50-100 au region of the disk. The CO$_2$ feature at 15 micron probes a region closer to the midplane (z/r = 0.1-0.15) than the corresponding feature at 4.3 micron (z/r = 0.2-0.6), but all observations trace regions significantly above the midplane reservoirs where we expect the bulk of the ice mass to be located. Ices must reach a high scale height (z/r ~ 0.6; corresponding to modeled dust extinction Av ~ 0.1), in order to be consistent with the observed vertical distribution of the peak ice optical depths. The weakness of the CO$_2$ feature at 15 micron relative to the 4.3 micron feature and the red emission wing of the 4.3 micron CO$_2$ feature are both consistent with ices being located at high elevation in the disk. The retrieved NH$_3$ abundance and the upper limit on the CH$_3$OH abundance relative to H$_2$O are significantly lower than those in the interstellar medium (ISM), but consistent with cometary observations. Full wavelength coverage is required to properly study the abundance distribution of ices in disks. To explain the presence of ices at high disk altitudes, we propose two possible scenarios: a disk wind that entrains sufficient amounts of dust, thus blocking part of the stellar UV radiation, or vertical mixing that cycles enough ices into the upper disk layers to balance ice photodesorption.         |"
      ],
      "text/plain": [
       "[2407.09627] A JWST/MIRI analysis of the ice distribution and PAH emission in the protoplanetary disk HH 48 NE\n",
       "\tJ. A. Sturm, et al. -- incl., <mark>G. Perotti</mark>"
      ]
     },
     "metadata": {},
     "output_type": "display_data"
    },
    {
     "data": {
      "text/markdown": [
       "\n",
       "|||\n",
       "|---:|:---|\n",
       "| [![arXiv](https://img.shields.io/badge/arXiv-2407.09799-b31b1b.svg)](https://arxiv.org/abs/2407.09799) | **The disc origin of the Milky Way bulge: On the high velocity dispersion of metal-rich stars at low latitude**  |\n",
       "|| T. Boin, et al. -- incl., <mark>S. Ghosh</mark> |\n",
       "|*Appeared on*| *2024-07-16*|\n",
       "|*Comments*| *12 pages, 9 figures*|\n",
       "|**Abstract**|            Previous studies of the chemo-kinematic properties of stars in the Galactic bulge have revealed a puzzling trend. Along the bulge minor axis, and close to the Galactic plane, metal-rich stars display a higher line-of-sight velocity dispersion compared to metal-poor stars, while at higher latitudes metal-rich stars have lower velocity dispersions than metal-poor stars, similar to what is found in the Galactic disc. In this work, we re-examine this issue, by studying the dependence of line-of-sight velocity dispersions on metallicity and latitude in the latest APOGEE Data Release 17, confirming the results of previous works. We then analyse an N-body simulation of a Milky Way-like galaxy, also taking into account observational biases introduced by the APOGEE selection function. We show that the inversion in the line-of-sight velocity dispersion-latitude relation observed in the Galactic bulge can be reproduced by our model. We show that this inversion is a natural consequence of a scenario in which the bulge is a boxy/peanut-shaped structure, whose metal-rich and metal-poor stars mainly originate from the thin and thick disc of the Milky Way, respectively. Due to their cold kinematics, metal-rich, thin disc stars, are efficiently trapped in the boxy/peanut bulge, and, at low latitudes, show a strong barred morphology, which results in high velocity dispersions which are larger than those attained by the metal-poor populations. Extremely metal-rich stars in the Galactic bulge, which have received renewed attention in the literature, do follow the same trends as those of the metal-rich populations. The line-of-sight velocity-latitude relation observed in the Galactic bulge for metal-poor and metal-rich stars are thus both an effect of the intrinsic nature of the Galactic bulge and of the angle at which we observe it from the Sun.         |"
      ],
      "text/plain": [
       "[2407.09799] The disc origin of the Milky Way bulge: On the high velocity dispersion of metal-rich stars at low latitude\n",
       "\tT. Boin, et al. -- incl., <mark>S. Ghosh</mark>"
      ]
     },
     "metadata": {},
     "output_type": "display_data"
    },
    {
     "data": {
      "text/markdown": [
       "\n",
       "|||\n",
       "|---:|:---|\n",
       "| [![arXiv](https://img.shields.io/badge/arXiv-2407.10294-b31b1b.svg)](https://arxiv.org/abs/2407.10294) | **Inhomogeneous terminators on the exoplanet WASP-39 b**  |\n",
       "|| N. Espinoza, et al. -- incl., <mark>D. Christie</mark>, <mark>X. Zhang</mark>, <mark>E.-M. Ahrer</mark>, <mark>L. Kreidberg</mark> |\n",
       "|*Appeared on*| *2024-07-16*|\n",
       "|*Comments*| *Published in Nature at this https URL. All code to produce plots (with data) can be found at this https URL*|\n",
       "|**Abstract**|            Transmission spectroscopy has been a workhorse technique over the past two decades to constrain the physical and chemical properties of exoplanet atmospheres. One of its classical key assumptions is that the portion of the atmosphere it probes -- the terminator region -- is homogeneous. Several works in the past decade, however, have put this into question for highly irradiated, hot ($T_{eq}\\gtrsim 1000$ K) gas giant exoplanets both empirically and via 3-dimensional modelling. While models predict clear differences between the evening (day-to-night) and morning (night-to-day) terminators, direct morning/evening transmission spectra in a wide wavelength range has not been reported for an exoplanet to date. Under the assumption of precise and accurate orbital parameters on WASP-39 b, here we report the detection of inhomogeneous terminators on the exoplanet WASP-39 b, which allows us to retrieve its morning and evening transmission spectra in the near-infrared ($2-5\\ \\mu$m) using JWST. We observe larger transit depths in the evening which are, on average, $405 \\pm 88$ ppm larger than the morning ones, also having qualitatively larger features than the morning spectrum. The spectra are best explained by models in which the evening terminator is hotter than the morning terminator by $177^{+65}_{-57}$ K with both terminators having C/O ratios consistent with solar. General circulation models (GCMs) predict temperature differences broadly consistent with the above value and point towards a cloudy morning terminator and a clearer evening terminator.         |"
      ],
      "text/plain": [
       "[2407.10294] Inhomogeneous terminators on the exoplanet WASP-39 b\n",
       "\tN. Espinoza, et al. -- incl., <mark>D. Christie</mark>, <mark>X. Zhang</mark>, <mark>E.-M. Ahrer</mark>, <mark>L. Kreidberg</mark>"
      ]
     },
     "metadata": {},
     "output_type": "display_data"
    },
    {
     "data": {
      "text/markdown": [
       "\n",
       "|||\n",
       "|---:|:---|\n",
       "| [![arXiv](https://img.shields.io/badge/arXiv-2407.10588-b31b1b.svg)](https://arxiv.org/abs/2407.10588) | **METIS high-contrast imaging: from final design to manufacturing and testing**  |\n",
       "|| O. Absil, et al. -- incl., <mark>T. Bertram</mark>, <mark>R. v. Boekel</mark>, <mark>M. Feldt</mark> |\n",
       "|*Appeared on*| *2024-07-16*|\n",
       "|*Comments*| *16 pages, paper presented at SPIE Astronomical Telescopes + Instrumentation 2024*|\n",
       "|**Abstract**|            The Mid-infrared ELT Imager and Spectrograph (METIS) is one of the first-generation scientific instruments for the ELT, built under the supervision of ESO by a consortium of research institutes across and beyond Europe. Designed to cover the 3 to 13 $\\mu$m wavelength range, METIS had its final design reviewed in Fall 2022, and has then entered in earnest its manufacture, assembly, integration, and test (MAIT) phase. Here, we present the final design of the METIS high-contrast imaging (HCI) modes. We detail the implementation of the two main coronagraphic solutions selected for METIS, namely the vortex coronagraph and the apodizing phase plate, including their combination with the high-resolution integral field spectrograph of METIS, and briefly describe their respective backup plans (Lyot coronagraph and shaped pupil plate). We then describe the status of the MAIT phase for HCI modes, including a review of the final design of individual components such as the vortex phase masks, the grayscale ring apodizer, and the apodizing phase plates, as well as a description of their on-going performance tests and of our plans for system-level integration and tests. Using end-to-end simulations, we predict the performance that will be reached on sky by the METIS HCI modes in presence of various environmental and instrumental disturbances, including non-common path aberrations and water vapor seeing, and discuss our strategy to mitigate these various effects. We finally illustrate with mock observations and data processing that METIS should be capable of directly imaging temperate rocky planets around the nearest stars.         |"
      ],
      "text/plain": [
       "[2407.10588] METIS high-contrast imaging: from final design to manufacturing and testing\n",
       "\tO. Absil, et al. -- incl., <mark>T. Bertram</mark>, <mark>R. v. Boekel</mark>, <mark>M. Feldt</mark>"
      ]
     },
     "metadata": {},
     "output_type": "display_data"
    },
    {
     "data": {
      "text/markdown": [
       "## Failed papers"
      ],
      "text/plain": [
       "<IPython.core.display.Markdown object>"
      ]
     },
     "metadata": {},
     "output_type": "display_data"
    },
    {
     "data": {
      "text/markdown": [
       "\n",
       "|||\n",
       "|---:|:---|\n",
       "| [![arXiv](https://img.shields.io/badge/arXiv-2407.09949-b31b1b.svg)](https://arxiv.org/abs/2407.09949) | **The formation of supermassive black holes from Population III.1 seeds. III. Galaxy evolution and black hole growth from semi-analytic modelling**  |\n",
       "|| V. Cammelli, et al. -- incl., <mark>L. Xie</mark> |\n",
       "|*Appeared on*| *2024-07-16*|\n",
       "|*Comments*| *Submitted to MNRAS, comments welcome*|\n",
       "|**Abstract**|            We present an implementation of Pop III.1 seeding of supermassive black holes (SMBHs) in a theoretical model of galaxy formation and evolution to assess the growth the SMBH population and the properties of the host galaxies. The model of Pop III.1 seeding involves SMBH formation at redshifts $z\\gtrsim 20$ in dark matter minihalos that are isolated from external radiative feedback, parameterized by isolation distance $d_{\\rm iso}$. Within a standard $\\Lambda$CDM cosmology, we generate dark matter halos using the code \\textsc{pinocchio} and seed them according to the Pop III.1 scenario, exploring values of $d_{\\rm iso}$ from 50 to 100~kpc (proper distance). We consider two alternative cases of SMBH seeding: a Halo Mass Threshold (HMT) model in which all halos $>7\\times10^{10}\\:M_\\odot$ are seeded with $\\sim 10^5\\:M_\\odot$ black holes; an All Light Seed (ALS) model in which all halos are seeded with low, stellar-mass black holes. We follow the redshift evolution of the halos, populating them with galaxies using the GAlaxy Evolution and Assembly theoretical model of galaxy formation, including accretion on SMBHs and related feedback processes. Here we present predictions for the properties of galaxy populations, focusing on stellar masses, star formation rates, and black hole masses. The local, $z\\sim0$ metrics of occupation fraction as a function of the galaxy stellar mass, galaxy stellar mass function (GSMF), and black hole mass function (BHMF) all suggest a constraint of $d_{\\rm iso}<75\\:$kpc. We discuss the implications of this result for the Pop III.1 seeding mechanism.         |\n",
       "|<p style=\"color:green\"> **ERROR** </p>| <p style=\"color:green\">affiliation error: mpia.affiliation_verifications: 'Heidelberg' keyword not found.</p> |"
      ],
      "text/plain": [
       "<IPython.core.display.Markdown object>"
      ]
     },
     "metadata": {},
     "output_type": "display_data"
    },
    {
     "data": {
      "text/markdown": [
       "\n",
       "|||\n",
       "|---:|:---|\n",
       "| [![arXiv](https://img.shields.io/badge/arXiv-2407.10540-b31b1b.svg)](https://arxiv.org/abs/2407.10540) | **Sudden polarization angle jumps of the repeating fast radio burst FRB 20201124A**  |\n",
       "|| J. R. Niu, et al. -- incl., <mark>J. Li</mark> |\n",
       "|*Appeared on*| *2024-07-16*|\n",
       "|*Comments*| *10 pages, 5 figures, submitted to APJL*|\n",
       "|**Abstract**|            We report the first detection of polarization angle (PA) orthogonal jumps, a phenomenon previously only observed from radio pulsars, from a fast radio burst (FRB) source FRB 20201124A. We find three cases of orthogonal jumps in over two thousand bursts, all resembling those observed in pulsar single pulses. We propose that the jumps are due to the superposition of two orthogonal emission modes that could only be produced in a highly magnetized plasma, and they are caused by the line of sight sweeping across a rotating magnetosphere. The shortest jump timescale is of the order of one-millisecond, which hints that the emission modes come from regions smaller than the light cylinder of most pulsars or magnetars. This discovery provides convincing evidence that FRB emission originates from the complex magnetosphere of a magnetar, suggesting an FRB emission mechanism that is analogous to radio pulsars despite a huge luminosity difference between two types of objects.         |\n",
       "|<p style=\"color:green\"> **ERROR** </p>| <p style=\"color:green\">affiliation error: mpia.affiliation_verifications: 'Heidelberg' keyword not found.</p> |"
      ],
      "text/plain": [
       "<IPython.core.display.Markdown object>"
      ]
     },
     "metadata": {},
     "output_type": "display_data"
    },
    {
     "data": {
      "text/markdown": [
       "\n",
       "|||\n",
       "|---:|:---|\n",
       "| [![arXiv](https://img.shields.io/badge/arXiv-2407.10686-b31b1b.svg)](https://arxiv.org/abs/2407.10686) | **Beyond the horizon: Quantifying the full sky foreground wedge in the cylindrical power spectrum**  |\n",
       "|| S. Munshi, et al. -- incl., <mark>S. Ghosh</mark> |\n",
       "|*Appeared on*| *2024-07-16*|\n",
       "|*Comments*| *21 pages, 13 figures, and 2 tables; submitted to Astronomy and Astrophysics (A&A)*|\n",
       "|**Abstract**|            One of the main obstacles preventing the detection of the redshifted 21-cm signal from neutral hydrogen in the early Universe is the astrophysical foreground emission, which is several orders of magnitude brighter than the signal. The foregrounds, due to their smooth spectra, are expected to predominantly occupy a region in the cylindrical power spectrum known as the foreground wedge. However, the conventional equations describing the extent of the foreground wedge are derived under a flat-sky approximation. This assumption breaks down for tracking wide-field instruments, thus rendering these equations inapplicable in these situations. In this paper, we derive equations for the full sky foreground wedge and show that the foregrounds can potentially extend far beyond what the conventional equations suggest. We also derive the equations that describe a specific bright source in the cylindrical power spectrum space. The validity of both sets of equations is tested against numerical simulations. Many current and upcoming interferometers (e.g., LOFAR, NenuFAR, MWA, SKA) are wide-field phase-tracking instruments. These equations give us new insights into the nature of foreground contamination in the cylindrical power spectra estimated using wide-field instruments. Additionally, they allow us to accurately associate features in the power spectrum to foregrounds or instrumental effects. The equations are also important for correctly selecting the \"EoR window\" for foreground avoidance analyses, and for planning 21-cm observations. In future analyses, it is recommended to use these updated horizon lines to indicate the foreground wedge in the cylindrical power spectrum accurately. The new equations for generating the updated wedge lines are made available in a Python library, pslines.         |\n",
       "|<p style=\"color:green\"> **ERROR** </p>| <p style=\"color:green\">affiliation error: mpia.affiliation_verifications: 'Heidelberg' keyword not found.</p> |"
      ],
      "text/plain": [
       "<IPython.core.display.Markdown object>"
      ]
     },
     "metadata": {},
     "output_type": "display_data"
    },
    {
     "data": {
      "text/markdown": [
       "\n",
       "|||\n",
       "|---:|:---|\n",
       "| [![arXiv](https://img.shields.io/badge/arXiv-2407.09810-b31b1b.svg)](https://arxiv.org/abs/2407.09810) | **Euclid and KiDS-1000: Quantifying the impact of source-lens clustering on cosmic shear analyses**  |\n",
       "|| L. Linke, et al. -- incl., <mark>K. Jahnke</mark> |\n",
       "|*Appeared on*| *2024-07-16*|\n",
       "|*Comments*| *17 pages plus appendix, 10 figures, abstract abridged for arXiv*|\n",
       "|**Abstract**|            Cosmic shear is a powerful probe of cosmological models and the transition from current Stage-III surveys like the Kilo-Degree Survey (KiDS) to the increased area and redshift range of Stage IV-surveys such as \\Euclid will significantly increase the precision of weak lensing analyses. However, with increasing precision, the accuracy of model assumptions needs to be evaluated. In this study, we quantify the impact of the correlated clustering of weak lensing source galaxies with the surrounding large-scale structure, the so-called source-lens clustering (SLC), which is commonly neglected. We include the impact of realistic scatter in photometric redshift estimates, which impacts the assignment of galaxies to tomographic bins and increases the SLC. For this, we use simulated cosmological datasets with realistically distributed galaxies and measure shear correlation functions for both clustered and uniformly distributed source galaxies. Cosmological analyses are performed for both scenarios to quantify the impact of SLC on parameter inference for a KiDS-like and a \\Euclid-like setting. We find for Stage III surveys like KiDS, SLC has a minor impact when accounting for nuisance parameters for intrinsic alignments and shifts of tomographic bins, as these nuisance parameters absorb the effect of SLC, thus changing their original meaning. For KiDS (\\Euclid), the inferred intrinsic alignment amplitude $A_\\mathrm{IA}$ changes from $0.11_{-0.46}^{+0.44}$ ($-0.009_{-0.080}^{+0.079}$) for data without SLC to $0.28_{-0.44}^{+0.42}$ ($0.022_{-0.082}^{+0.081}$) with SLC. However, fixed nuisance parameters lead to shifts in $S_8$ and $\\Omega_\\mathrm{m}$. For \\Euclid we find that $S_8$ and $\\Omega_\\mathrm{m}$ are shifted by 0.14 and 0.12 $\\sigma$, respectively, when including free nuisance parameters. Consequently, SLC on its own has only a small impact on the inferred parameters.         |\n",
       "|<p style=\"color:red\"> **ERROR** </p>| <p style=\"color:red\">latex error 'PosixPath' object is not subscriptable</p> |"
      ],
      "text/plain": [
       "<IPython.core.display.Markdown object>"
      ]
     },
     "metadata": {},
     "output_type": "display_data"
    }
   ],
   "source": [
    "import datetime\n",
    "today = str(datetime.date.today())\n",
    "logfile = f\"_build/html/logs/log-{today}.md\"\n",
    "\n",
    "\n",
    "with open(logfile, 'w') as logs:\n",
    "    # Success\n",
    "    logs.write(f'# Arxiv on Deck 2: Logs - {today}\\n\\n')\n",
    "    logs.write(\"\"\"* Arxiv had {0:,d} new papers\\n\"\"\".format(len(new_papers)))\n",
    "    logs.write(\"\"\"    * {0:,d} with possible author matches\\n\\n\"\"\".format(len(candidates)))\n",
    "    logs.write(\"## Sucessful papers\\n\\n\")\n",
    "    display(Markdown(\"## Successful papers\"))\n",
    "    success = [k[0] for k in documents]\n",
    "    for candid in candidates:\n",
    "        if candid['identifier'].split(':')[-1] in success:\n",
    "            display(candid)\n",
    "            logs.write(candid.generate_markdown_text() + '\\n\\n')\n",
    "\n",
    "    ## failed\n",
    "    logs.write(\"## Failed papers\\n\\n\")\n",
    "    display(Markdown(\"## Failed papers\"))\n",
    "    failed = sorted(failed, key=lambda x: x[1])\n",
    "    current_reason = \"\"\n",
    "    for paper, reason in failed:\n",
    "        if 'affiliation' in reason:\n",
    "            color = 'green'\n",
    "        else:\n",
    "            color = 'red'\n",
    "        data = Markdown(\n",
    "                paper.generate_markdown_text() + \n",
    "                f'\\n|<p style=\"color:{color:s}\"> **ERROR** </p>| <p style=\"color:{color:s}\">{reason:s}</p> |'\n",
    "               )\n",
    "        if reason != current_reason:\n",
    "            logs.write(f'### {reason:s} \\n\\n')\n",
    "            current_reason = reason\n",
    "        logs.write(data.data + '\\n\\n')\n",
    "        \n",
    "        # only display here the important errors (all in logs)\n",
    "        # if color in ('red',):\n",
    "        display(data)"
   ]
  },
  {
   "cell_type": "markdown",
   "id": "472d20ee",
   "metadata": {
    "papermill": {
     "duration": 0.005508,
     "end_time": "2024-07-16T04:39:24.447950",
     "exception": false,
     "start_time": "2024-07-16T04:39:24.442442",
     "status": "completed"
    },
    "tags": []
   },
   "source": [
    "## Export documents\n",
    "\n",
    "We now write the .md files and export relevant images"
   ]
  },
  {
   "cell_type": "code",
   "execution_count": 7,
   "id": "d426aed9",
   "metadata": {
    "execution": {
     "iopub.execute_input": "2024-07-16T04:39:24.460100Z",
     "iopub.status.busy": "2024-07-16T04:39:24.459763Z",
     "iopub.status.idle": "2024-07-16T04:39:24.466472Z",
     "shell.execute_reply": "2024-07-16T04:39:24.465843Z"
    },
    "papermill": {
     "duration": 0.014269,
     "end_time": "2024-07-16T04:39:24.467774",
     "exception": false,
     "start_time": "2024-07-16T04:39:24.453505",
     "status": "completed"
    },
    "tags": []
   },
   "outputs": [],
   "source": [
    "def export_markdown_summary(md: str, md_fname:str, directory: str):\n",
    "    \"\"\"Export MD document and associated relevant images\"\"\"\n",
    "    import os\n",
    "    import shutil\n",
    "    import re\n",
    "\n",
    "    if (os.path.exists(directory) and not os.path.isdir(directory)):\n",
    "        raise RuntimeError(f\"a non-directory file exists with name {directory:s}\")\n",
    "\n",
    "    if (not os.path.exists(directory)):\n",
    "        print(f\"creating directory {directory:s}\")\n",
    "        os.mkdir(directory)\n",
    "\n",
    "    fig_fnames = (re.compile(r'\\[Fig.*\\]\\((.*)\\)').findall(md) + \n",
    "                  re.compile(r'\\<img src=\"([^>\\s]*)\"[^>]*/>').findall(md))\n",
    "    print(\"found figures\", fig_fnames)\n",
    "    for fname in fig_fnames:\n",
    "        if 'http' in fname:\n",
    "            # No need to copy online figures\n",
    "            continue\n",
    "        if not os.path.exists(fname):\n",
    "            print(\"file not found\", fname)\n",
    "            continue\n",
    "        print(\"copying \", fname, \"to\", directory)\n",
    "        destdir = os.path.join(directory, os.path.dirname(fname))\n",
    "        destfname = os.path.join(destdir, os.path.basename(fname))\n",
    "        try:\n",
    "            os.makedirs(destdir)\n",
    "        except FileExistsError:\n",
    "            pass\n",
    "        shutil.copy(fname, destfname)\n",
    "    with open(os.path.join(directory, md_fname), 'w') as fout:\n",
    "        fout.write(md)\n",
    "    print(\"exported in \", os.path.join(directory, md_fname))\n",
    "    [print(\"    + \" + os.path.join(directory,fk)) for fk in fig_fnames]"
   ]
  },
  {
   "cell_type": "code",
   "execution_count": 8,
   "id": "014d04a4",
   "metadata": {
    "execution": {
     "iopub.execute_input": "2024-07-16T04:39:24.479977Z",
     "iopub.status.busy": "2024-07-16T04:39:24.479584Z",
     "iopub.status.idle": "2024-07-16T04:39:24.514348Z",
     "shell.execute_reply": "2024-07-16T04:39:24.513788Z"
    },
    "papermill": {
     "duration": 0.042281,
     "end_time": "2024-07-16T04:39:24.515649",
     "exception": false,
     "start_time": "2024-07-16T04:39:24.473368",
     "status": "completed"
    },
    "tags": []
   },
   "outputs": [
    {
     "name": "stdout",
     "output_type": "stream",
     "text": [
      "found figures ['tmp_2407.09627/./images/CBF_paper.png', 'tmp_2407.09627/./images/sed_modelcomparison.png', 'tmp_2407.09627/./images/sketch_turbulence_wind.png']\n",
      "copying  tmp_2407.09627/./images/CBF_paper.png to _build/html/\n",
      "copying  tmp_2407.09627/./images/sed_modelcomparison.png to _build/html/\n",
      "copying  tmp_2407.09627/./images/sketch_turbulence_wind.png to _build/html/\n",
      "exported in  _build/html/2407.09627.md\n",
      "    + _build/html/tmp_2407.09627/./images/CBF_paper.png\n",
      "    + _build/html/tmp_2407.09627/./images/sed_modelcomparison.png\n",
      "    + _build/html/tmp_2407.09627/./images/sketch_turbulence_wind.png\n",
      "found figures ['tmp_2407.09799/./figures/xy_vx.png', 'tmp_2407.09799/./figures/xy_vy.png', 'tmp_2407.09799/./figures/dispersion_comparison_30_1_5.png', 'tmp_2407.09799/./figures/dispersion_comparison.png', 'tmp_2407.09799/./figures/xy_lb.png']\n",
      "copying  tmp_2407.09799/./figures/xy_vx.png to _build/html/\n",
      "copying  tmp_2407.09799/./figures/xy_vy.png to _build/html/\n",
      "copying  tmp_2407.09799/./figures/dispersion_comparison_30_1_5.png to _build/html/\n",
      "copying  tmp_2407.09799/./figures/dispersion_comparison.png to _build/html/\n",
      "copying  tmp_2407.09799/./figures/xy_lb.png to _build/html/\n",
      "exported in  _build/html/2407.09799.md\n",
      "    + _build/html/tmp_2407.09799/./figures/xy_vx.png\n",
      "    + _build/html/tmp_2407.09799/./figures/xy_vy.png\n",
      "    + _build/html/tmp_2407.09799/./figures/dispersion_comparison_30_1_5.png\n",
      "    + _build/html/tmp_2407.09799/./figures/dispersion_comparison.png\n",
      "    + _build/html/tmp_2407.09799/./figures/xy_lb.png\n",
      "found figures ['tmp_2407.10294/./model_plus_data.*.png', 'tmp_2407.10294/./limb_experiment_diff.png', 'tmp_2407.10294/./limb_all_exps.png', 'tmp_2407.10294/./data.png']\n",
      "file not found tmp_2407.10294/./model_plus_data.*.png\n",
      "copying  tmp_2407.10294/./limb_experiment_diff.png to _build/html/\n",
      "copying  tmp_2407.10294/./limb_all_exps.png to _build/html/\n",
      "copying  tmp_2407.10294/./data.png to _build/html/\n",
      "exported in  _build/html/2407.10294.md\n",
      "    + _build/html/tmp_2407.10294/./model_plus_data.*.png\n",
      "    + _build/html/tmp_2407.10294/./limb_experiment_diff.png\n",
      "    + _build/html/tmp_2407.10294/./limb_all_exps.png\n",
      "    + _build/html/tmp_2407.10294/./data.png\n",
      "found figures ['tmp_2407.10588/./pupil_stops_RAP.png', 'tmp_2407.10588/./APP-IMG.png', 'tmp_2407.10588/./VPM-N4.png', 'tmp_2407.10588/./VPM-N8.png']\n",
      "copying  tmp_2407.10588/./pupil_stops_RAP.png to _build/html/\n",
      "copying  tmp_2407.10588/./APP-IMG.png to _build/html/\n",
      "copying  tmp_2407.10588/./VPM-N4.png to _build/html/\n",
      "copying  tmp_2407.10588/./VPM-N8.png to _build/html/\n",
      "exported in  _build/html/2407.10588.md\n",
      "    + _build/html/tmp_2407.10588/./pupil_stops_RAP.png\n",
      "    + _build/html/tmp_2407.10588/./APP-IMG.png\n",
      "    + _build/html/tmp_2407.10588/./VPM-N4.png\n",
      "    + _build/html/tmp_2407.10588/./VPM-N8.png\n"
     ]
    }
   ],
   "source": [
    "for paper_id, md in documents:\n",
    "    export_markdown_summary(md, f\"{paper_id:s}.md\", '_build/html/')"
   ]
  },
  {
   "cell_type": "markdown",
   "id": "f087a0a7",
   "metadata": {
    "papermill": {
     "duration": 0.005813,
     "end_time": "2024-07-16T04:39:24.527416",
     "exception": false,
     "start_time": "2024-07-16T04:39:24.521603",
     "status": "completed"
    },
    "tags": []
   },
   "source": [
    "## Display the papers\n",
    "\n",
    "Not necessary but allows for a quick check."
   ]
  },
  {
   "cell_type": "code",
   "execution_count": 9,
   "id": "fd25f625",
   "metadata": {
    "execution": {
     "iopub.execute_input": "2024-07-16T04:39:24.539873Z",
     "iopub.status.busy": "2024-07-16T04:39:24.539451Z",
     "iopub.status.idle": "2024-07-16T04:39:24.547455Z",
     "shell.execute_reply": "2024-07-16T04:39:24.546920Z"
    },
    "papermill": {
     "duration": 0.015613,
     "end_time": "2024-07-16T04:39:24.548703",
     "exception": false,
     "start_time": "2024-07-16T04:39:24.533090",
     "status": "completed"
    },
    "scrolled": false,
    "tags": []
   },
   "outputs": [
    {
     "data": {
      "text/markdown": [
       "<div class=\"macros\" style=\"visibility:hidden;\">\n",
       "$\\newcommand{\\ensuremath}{}$\n",
       "$\\newcommand{\\xspace}{}$\n",
       "$\\newcommand{\\object}[1]{\\texttt{#1}}$\n",
       "$\\newcommand{\\farcs}{{.}''}$\n",
       "$\\newcommand{\\farcm}{{.}'}$\n",
       "$\\newcommand{\\arcsec}{''}$\n",
       "$\\newcommand{\\arcmin}{'}$\n",
       "$\\newcommand{\\ion}[2]{#1#2}$\n",
       "$\\newcommand{\\textsc}[1]{\\textrm{#1}}$\n",
       "$\\newcommand{\\hl}[1]{\\textrm{#1}}$\n",
       "$\\newcommand{\\footnote}[1]{}$\n",
       "$\\newcommand{\\micron}{\\textmu m\\xspace}$\n",
       "$\\newcommand{\\ditto}[1][.0pt]{\\xrfill[.7ex]{#1}~\\textquotedbl~\\xrfill[.7ex]{#1}}$\n",
       "$\\newcommand{\\as}[1]{{\\color{ForestGreen}AS: #1}}$\n",
       "$\\newcommand{\\jn}[1]{{\\color{red!50!blue}\\;[JN:~#1]}}$\n",
       "$\\newcommand{\\ed}[1]{\\textcolor{darkorange}{[ED:~#1]}}$\n",
       "$\\newcommand{\\SubItem}[1]{{\\setlength\\itemindent{15pt}\\item[*]#1}}$\n",
       "$\\newcommand{\\orcidlink}[1]{\\protect\\href{https://orcid.org/#1}{\\protect\\includegraphics[width=8pt]{orcid.png}}}$</div>\n",
       "\n",
       "\n",
       "\n",
       "<div id=\"title\">\n",
       "\n",
       "# A JWST/MIRI analysis of the ice distribution and PAH emission in the protoplanetary disk HH 48 NE\n",
       "\n",
       "</div>\n",
       "<div id=\"comments\">\n",
       "\n",
       "[![arXiv](https://img.shields.io/badge/arXiv-2407.09627-b31b1b.svg)](https://arxiv.org/abs/2407.09627)<mark>Appeared on: 2024-07-16</mark> -  _16 pages, 11 figures, accepted in A&A_\n",
       "\n",
       "</div>\n",
       "<div id=\"authors\">\n",
       "\n",
       "J. A. Sturm, et al. -- incl., <mark>G. Perotti</mark>\n",
       "\n",
       "</div>\n",
       "<div id=\"abstract\">\n",
       "\n",
       "**Abstract:** Ice-coated dust grains provide the main reservoir of volatiles that play an important role in planet formation processes and may become incorporated into planetary atmospheres.    However, due to observational challenges, the ice abundance distribution in protoplanetary disks is not well constrained.    With the advent of the _James Webb_ Space Telescope (JWST) we are in a unique position to observe these ices in the near- to mid-infrared and constrain their properties in Class II protoplanetary disks. We present JWST Mid-InfraRed Imager (MIRI) observations of the edge-on disk HH 48 NE carried out as part of the Director’s Discretionary Early Release Science program Ice Age, completing the ice inventory of HH 48 NE by combining the MIRI data (5 -- 28 $\\micron$ ) with those of NIRSpec (2.7 -- 5 $\\micron$ ). We used radiative transfer models tailored to the system, including silicates, ices, and polycyclic aromatic hydrocarbons (PAHs) to reproduce the observed spectrum of HH 48 NE with a parameterized model.    The model was then used to identify ice species and constrain spatial information about the ices in the disk. The mid-infrared spectrum of HH 48 NE is relatively flat with weak ice absorption features.    We detect $\\ce{CO2}$ , $\\ce{NH3}$ , $\\ce{H2O}$ and tentatively $\\ce{CH4}$ and $\\ce{NH4+}$ .    Radiative transfer models suggest that ice absorption features are produced predominantly in the 50 -- 100 au region of the disk. The $\\ce{CO2}$ feature at 15 $\\micron$ probes a region closer to the midplane ( $z/r$ = 0.1 -- 0.15) than the corresponding feature at 4.3 $\\micron$ ( $z/r$ = 0.2 -- 0.6), but all observations trace regions significantly above the midplane reservoirs where we expect the bulk of the ice mass to be located.    Ices must reach a high scale height ( $z/r \\sim 0.6$ ; corresponding to modeled dust extinction $A_{\\rm v} \\sim 0.1$ ), in order to be consistent with the observed vertical distribution of the peak ice optical depths.    The weakness of the $\\ce{CO2}$ feature at 15 $\\micron$ relative to the 4.3 $\\micron$ feature and the red emission wing of the 4.3 $\\micron$ $\\ce{CO2}$ feature are both consistent with ices being located at high elevation in the disk.    The retrieved $\\ce{NH3}$ abundance and the upper limit on the $\\ce{CH3OH}$ abundance relative to $\\ce{H2O}$ are significantly lower than those in the interstellar medium (ISM), but consistent with cometary observations.    The contrast of the PAH emission features with the continuum is stronger than for similar face-on protoplanetary disks, which is likely a result of the edge-on system geometry.    Modeling based on the relative strength of the emission features suggests that the PAH emission originates in the disk surface layer rather than the ice absorbing layer. Full wavelength coverage is required to properly study the abundance distribution of ices in disks.    To explain the presence of ices at high disk altitudes, we propose two possible scenarios: a disk wind that entrains sufficient amounts of dust, thus blocking part of the stellar UV radiation, or vertical mixing that cycles enough ices into the upper disk layers to balance ice photodesorption from the grains.\n",
       "\n",
       "</div>\n",
       "\n",
       "<div id=\"div_fig1\">\n",
       "\n",
       "<img src=\"tmp_2407.09627/./images/CBF_paper.png\" alt=\"Fig10\" width=\"100%\"/>\n",
       "\n",
       "**Figure 10. -** Top left: total dust density distribution in the model with internal shielding (radial $A_\\mathrm{V}$; black dashed) at 0.03, 0.1, 0.3, 1, and 10 mag and external shielding (vertical $A_\\mathrm{V}$; white dashed) at 0.01, 0.03, 0.1, and 1 mag from top to bottom. The other panels show the contribution function (CBF), i.e., the contribution of a specific region to the total absorption of the ice feature in percentages. The pure CO ice at high abundance is added for reference, but we argue in the main text that this component is not observed. The absorbing area is the region in the disk that contribute significantly to the total absorption. The red and yellow lines indicate the fiducial and best fit photodesorption snow surface, respectively, for reference. The thick, dashed, white line shows the $\\tau=1$ surface at the ice feature wavelength. We would like to note that viewing angle is really important and is 83◦ in this case (*fig:CBF*)\n",
       "\n",
       "</div>\n",
       "<div id=\"div_fig2\">\n",
       "\n",
       "<img src=\"tmp_2407.09627/./images/sed_modelcomparison.png\" alt=\"Fig8\" width=\"100%\"/>\n",
       "\n",
       "**Figure 8. -** Overview of the source integrated spectrum of HH 48 NE (grey), with the continuum baseline underneath the gas lines shown in black with a zoom-in on the JWST wavelength range 2.7 -- 27 $\\micron$. Different ice radiative transfer models are shown for comparison with the observations. The initial model constrained from photometric data points, HST, and ALMA observations  ([Sturm, McClure and Law 2023](), [Sturm, McClure and Bergner 2023]())  is shown in blue. A similar model was fine-tuned to the NIRSpec and MIRI spectrum with only refractory dust (red), dust and ice (green), and dust, ice, and PAHs (orange). The PAH opacity template used is shown in the bottom without extinction corrections  ([Visser, Geers and Dullemond 2007]()) .\n",
       "     (*fig:SED comparison*)\n",
       "\n",
       "</div>\n",
       "<div id=\"div_fig3\">\n",
       "\n",
       "<img src=\"tmp_2407.09627/./images/sketch_turbulence_wind.png\" alt=\"Fig12\" width=\"100%\"/>\n",
       "\n",
       "**Figure 12. -** Sketch of the three pieces of evidence for elevated ices in HH 48 NE. The orange line demonstrates the effect of including the ices high up in the disk on the vertical absorption profile (panel 1.), the relative strength of the 4.3 to 15 $\\micron$\\ce{CO2} features (panel 2.), and the scattering wing of the 4.3 $\\micron$\\ce{CO2} feature (panel 3.). Two scenarios are proposed: a dusty disk wind blocking part of the UV emission from the star (Scenario A.) or vertical mixing stirring up ice to the surface (Scenario B.). (*fig:sketch*)\n",
       "\n",
       "</div><div id=\"qrcode\"><img src=https://api.qrserver.com/v1/create-qr-code/?size=100x100&data=\"https://arxiv.org/abs/2407.09627\"></div>"
      ],
      "text/plain": [
       "<IPython.core.display.Markdown object>"
      ]
     },
     "metadata": {},
     "output_type": "display_data"
    },
    {
     "data": {
      "text/markdown": [
       "<div class=\"macros\" style=\"visibility:hidden;\">\n",
       "$\\newcommand{\\ensuremath}{}$\n",
       "$\\newcommand{\\xspace}{}$\n",
       "$\\newcommand{\\object}[1]{\\texttt{#1}}$\n",
       "$\\newcommand{\\farcs}{{.}''}$\n",
       "$\\newcommand{\\farcm}{{.}'}$\n",
       "$\\newcommand{\\arcsec}{''}$\n",
       "$\\newcommand{\\arcmin}{'}$\n",
       "$\\newcommand{\\ion}[2]{#1#2}$\n",
       "$\\newcommand{\\textsc}[1]{\\textrm{#1}}$\n",
       "$\\newcommand{\\hl}[1]{\\textrm{#1}}$\n",
       "$\\newcommand{\\footnote}[1]{}$\n",
       "$\\newcommand{\\paola}[1]{\\textcolor{magenta}{{#1}}}$</div>\n",
       "\n",
       "\n",
       "\n",
       "<div id=\"title\">\n",
       "\n",
       "# The disc origin of the Milky Way bulge\n",
       "\n",
       "</div>\n",
       "<div id=\"comments\">\n",
       "\n",
       "[![arXiv](https://img.shields.io/badge/arXiv-2407.09799-b31b1b.svg)](https://arxiv.org/abs/2407.09799)<mark>Appeared on: 2024-07-16</mark> -  _12 pages, 9 figures_\n",
       "\n",
       "</div>\n",
       "<div id=\"authors\">\n",
       "\n",
       "T. Boin, et al. -- incl., <mark>S. Ghosh</mark>\n",
       "\n",
       "</div>\n",
       "<div id=\"abstract\">\n",
       "\n",
       "**Abstract:** Previous studies of the chemo-kinematic properties of stars in the Galactic bulge have revealed a puzzling trend. Along the bulge minor axis,  and close to the Galactic plane, metal-rich stars display a higher line-of-sight velocity dispersion compared to metal-poor stars, while at higher latitudes metal-rich stars have lower velocity dispersions than metal-poor stars, similar to what is found in the Galactic disc. In this work, we re-examine this issue, by studying the dependence of line-of-sight velocity dispersions on metallicity and latitude in the latest APOGEE Data Release 17, confirming the results of previous works. We then analyse an $N$ -body simulation of a Milky Way-like galaxy, also taking into account observational biases introduced by the APOGEE selection function. We show that the inversion in the line-of-sight velocity dispersion-latitude relation observed in the Galactic bulge -- where the velocity dispersion of metal-rich stars becomes greater than that of metal-poor stars as latitude decreases -- can be reproduced by our model.  We show that this inversion is a natural consequence of a scenario in which the bulge is  a boxy/peanut-shaped structure, whose metal-rich and metal-poor  stars mainly originate from the thin and thick disc of the Milky Way, respectively. Due to their cold kinematics, metal-rich, thin disc stars, are efficiently trapped in the boxy/peanut bulge, and, at low latitudes, show a strong barred morphology, which - given the bar orientation with respect to the Sun-Galactic centre direction  - results in high velocity dispersions which are larger than those attained by the metal-poor populations. Extremely metal-rich stars in the Galactic bulge, which have received renewed attention in the literature, do follow the same trends as those of the metal-rich populations. The  line-of-sight velocity-latitude relation observed in the Galactic bulge for metal-poor and metal-rich stars are thus both an effect of the intrinsic nature of the Galactic bulge (i.e. mostly secular) and of the angle at which we observe it from the Sun.\n",
       "\n",
       "</div>\n",
       "\n",
       "<div id=\"div_fig1\">\n",
       "\n",
       "<img src=\"tmp_2407.09799/./figures/xy_vx.png\" alt=\"Fig4.1\" width=\"50%\"/><img src=\"tmp_2407.09799/./figures/xy_vy.png\" alt=\"Fig4.2\" width=\"50%\"/>\n",
       "\n",
       "**Figure 4. -** Maps of the velocity dispersion maps for the bar-oriented $\\sigma_{v_{Xb}}$(_left panel_) and $\\sigma_{v_{Yb}}$(_right panel_) components. Each population (metal-rich, metal-intermediate and metal-poor) correspond to a column in each panel, and different height cuts are represented on each row (0 kpc < |Z| < 0.25 kpc, 0.25 kpc < |Z| < 0.5 kpc and 0.5 kpc < |Z| < 1 kpc). The axis are bar-oriented, isodensity contours are shown as colored lines, and a 1.5 kpc region around the galactic centre is shown as a dotted black circle. (*fig:xy_v*)\n",
       "\n",
       "</div>\n",
       "<div id=\"div_fig2\">\n",
       "\n",
       "<img src=\"tmp_2407.09799/./figures/dispersion_comparison_30_1_5.png\" alt=\"Fig3.1\" width=\"50%\"/><img src=\"tmp_2407.09799/./figures/dispersion_comparison.png\" alt=\"Fig3.2\" width=\"50%\"/>\n",
       "\n",
       "**Figure 3. -** _Left panel_: Line-of-sight velocity dispersion $\\sigma_{v_{los}}$ profiles of our quality APOGEE sample (_error bar curves_) and of our mock catalogue (_shaded areas of height $\\pm \\sigma$_). The profiles are plotted for stars with |$\\ell$|$<2^\\circ$ and |X| $<$ 1.5kpc. _Right panel_: Line-of-sight velocity dispersion $\\sigma_{v_{los}}$ profiles of our quality APOGEE sample (_error bar with circle symbol_) and of our mock catalogue (_shaded areas of height $\\pm \\sigma$_), compared to results from [ and Babusiaux (2014)]() and [ and Babusiaux (2010)]()(_squares_), Ness_2013(_pentagons_), [ and Rojas-Arriagada (2014)]()(_triangles_), [ and Uttenthaler (2012)]()(_diamonds_), [ and Zoccali (2017)]()(_stars_). (*fig:disp_apogee_sim*)\n",
       "\n",
       "</div>\n",
       "<div id=\"div_fig3\">\n",
       "\n",
       "<img src=\"tmp_2407.09799/./figures/xy_lb.png\" alt=\"Fig2\" width=\"100%\"/>\n",
       "\n",
       "**Figure 2. -** _Top panel:_ face-on (X-Y-plane) density map of the $N$-Body simulation stars _(left column)_, APOGEE stars _(middle column)_ and our mock catalogue stars _(right column)_. Superimposed are the |X| < 1.5kpc distance bounds and $\\pm$ 20  longitude bounds in white, as well as a green line to guide the eye indicating the angle of the galactic bar and the Sun  at X=-8.12 kpc,Y=0 kpc (white star symbol). _Bottom panels:_ corresponding density maps in the Galactic ($\\ell$,$b$) plane. The colors indicate relative densities for each of the 3 catalogues separately. (*fig:xy_lb*)\n",
       "\n",
       "</div><div id=\"qrcode\"><img src=https://api.qrserver.com/v1/create-qr-code/?size=100x100&data=\"https://arxiv.org/abs/2407.09799\"></div>"
      ],
      "text/plain": [
       "<IPython.core.display.Markdown object>"
      ]
     },
     "metadata": {},
     "output_type": "display_data"
    },
    {
     "data": {
      "text/markdown": [
       "<div class=\"macros\" style=\"visibility:hidden;\">\n",
       "$\\newcommand{\\ensuremath}{}$\n",
       "$\\newcommand{\\xspace}{}$\n",
       "$\\newcommand{\\object}[1]{\\texttt{#1}}$\n",
       "$\\newcommand{\\farcs}{{.}''}$\n",
       "$\\newcommand{\\farcm}{{.}'}$\n",
       "$\\newcommand{\\arcsec}{''}$\n",
       "$\\newcommand{\\arcmin}{'}$\n",
       "$\\newcommand{\\ion}[2]{#1#2}$\n",
       "$\\newcommand{\\textsc}[1]{\\textrm{#1}}$\n",
       "$\\newcommand{\\hl}[1]{\\textrm{#1}}$\n",
       "$\\newcommand{\\footnote}[1]{}$\n",
       "$\\newcommand{\\bibinfo}[2]{#2}$\n",
       "$\\newcommand{\\eprint}[2][]{\\url{#2}}$\n",
       "$\\newcommand{\\doi}[1]{\\url{https://doi.org/#1}}$\n",
       "$\\newcommand{\\bibinfo}[2]{#2}$\n",
       "$\\newcommand{\\eprint}[2][]{\\url{#2}}$\n",
       "$\\newcommand{\\doi}[1]{\\url{https://doi.org/#1}}$\n",
       "$\\newcommand$\n",
       "$\\newcommand$\n",
       "$\\newcommand$\n",
       "$\\newcommand$\n",
       "$\\newcommand$\n",
       "$\\newcommand$\n",
       "$\\newcommand$\n",
       "$\\newcommand$\n",
       "$\\newcommand$\n",
       "$\\newcommand$\n",
       "$\\newcommand$\n",
       "$\\newcommand$\n",
       "$\\newcommand$\n",
       "$\\newcommand{\\floatpagefraction}{1}$\n",
       "$\\newcommand{\\floatpagefraction}{1}$\n",
       "$\\newcommand{\\figurename}{Extended Data Fig.}$\n",
       "$\\newcommand{\\tablename}{Extended Data Table}$\n",
       "$\\newcommand{\\theHfigure}{Extended Data Fig.~\\arabic{figure}}$\n",
       "$\\newcommand{\\thetable}{Extended Data Table \\arabic{table}}$\n",
       "$\\newcommand{\\theHtable}{Extended Data Table \\arabic{table}}$\n",
       "$\\newcommand\\url{#1}$\n",
       "$\\newcommand{\\urlprefix}{URL }$\n",
       "$\\newcommand\\url{#1}$\n",
       "$\\newcommand{\\urlprefix}{URL }$</div>\n",
       "\n",
       "\n",
       "\n",
       "<div id=\"title\">\n",
       "\n",
       "# $\\centering{Inhomogeneous terminators on the exoplanet WASP-39 b}$\n",
       "\n",
       "</div>\n",
       "<div id=\"comments\">\n",
       "\n",
       "[![arXiv](https://img.shields.io/badge/arXiv-2407.10294-b31b1b.svg)](https://arxiv.org/abs/2407.10294)<mark>Appeared on: 2024-07-16</mark> -  _Published in Nature at this https URL. All code to produce plots (with data) can be found at this https URL_\n",
       "\n",
       "</div>\n",
       "<div id=\"authors\">\n",
       "\n",
       "\\fnm{Néstor}\\sur{Espinoza}, et al.\n",
       "\n",
       "</div>\n",
       "<div id=\"abstract\">\n",
       "\n",
       "**Abstract:**            Transmission spectroscopy has been a workhorse technique over the past two decades to constrain the physical and chemical properties of exoplanet atmospheres. One of its classical key assumptions is that the portion of the atmosphere it probes -- the terminator region -- is homogeneous. Several works in the past decade, however, have put this into question for highly irradiated, hot ($T_{eq}\\gtrsim 1000$ K) gas giant exoplanets both empirically and via 3-dimensional modelling. While models predict clear differences between the evening (day-to-night) and morning (night-to-day) terminators, direct morning/evening transmission spectra in a wide wavelength range has not been reported for an exoplanet to date. Under the assumption of precise and accurate orbital parameters on WASP-39 b, here we report the detection of inhomogeneous terminators on the exoplanet WASP-39 b, which allows us to retrieve its morning and evening transmission spectra in the near-infrared ($2-5\\ \\mu$m) using JWST. We observe larger transit depths in the evening which are, on average, $405 \\pm 88$ ppm larger than the morning ones, also having qualitatively larger features than the morning spectrum. The spectra are best explained by models in which the evening terminator is hotter than the morning terminator by $177^{+65}_{-57}$ K with both terminators having C/O ratios consistent with solar. General circulation models (GCMs) predict temperature differences broadly consistent with the above value and point towards a cloudy morning terminator and a clearer evening terminator.         \n",
       "\n",
       "</div>\n",
       "\n",
       "<div id=\"div_fig1\">\n",
       "\n",
       "<img src=\"tmp_2407.10294/./model_plus_data.*.png\" alt=\"Fig2\" width=\"100%\"/>\n",
       "\n",
       "**Figure 2. -** **The morning and evening spectrum of WASP-39 b from JWST NIRSpec/PRISM observations.****a-b.** The total transit depth by adding the morning and evening spectra (**a**, grey points) along with the individual morning (blue points) and evening (red points) spectrum of WASP-39 b as derived from our lightcurve modeling (**b**). Big points are datapoints at $R=30$ shown for illustration; smaller points are at $R=100$. The best-fit, chemically-consistent models (black solid line in **a**, red and blue solid lines in **b**; fitted to the $R=100$ spectra) are consistent with a hotter evening terminator (see text for details). **c-d.** Residuals from the best-fit model (red points for the evening, blue points for the morning); dashed line marks 0. {All errorbars represent 1-standard deviation.} (*fig:morning-evening-spectra*)\n",
       "\n",
       "</div>\n",
       "<div id=\"div_fig2\">\n",
       "\n",
       "<img src=\"tmp_2407.10294/./limb_experiment_diff.png\" alt=\"Fig7.1\" width=\"50%\"/><img src=\"tmp_2407.10294/./limb_all_exps.png\" alt=\"Fig7.2\" width=\"50%\"/>\n",
       "\n",
       "**Figure 7. -** **Robustness of limb asymmetry detection to transit parameters and assumptions.** To study the robustness of our extracted morning and evening spectra for the NIRSpec/PRISM\n",
       "    observations, we simulated transit lightcurves using\n",
       "    \\texttt{batman} and then fitted those using \\texttt{catwoman} with different assumptions, leaving all parameters fixed but the depths of\n",
       "    the morning and evening limbs. **a-b.** Null case on which the\n",
       "    true model has no limb asymmetries and the input transit parameters are unchanged; the \\texttt{catwoman} fits\n",
       "    correctly recover the same morning (blue) and evening (red) spectra\n",
       "    (top). The difference $\\Delta$ between the morning and the evening\n",
       "    spectra are consistent with zero, as expected from this null case (bottom). **c.** Same experiment\n",
       "    as in a., but generating a light curve with a time-of-transit center 3-$\\sigma$ away from the fixed value, which amounts to an offset of 3.4\n",
       "    seconds. The difference $\\Delta$ is consistent with zero, suggesting\n",
       "    our inferences are robust against this parameter. **d.** Same\n",
       "    experiment, but generating a light curve that had limb-darkening\n",
       "    coefficients of the quadratic law offset by 0.01. Note how this injects\n",
       "    a systematic offset in the difference between the morning and evening\n",
       "    spectra; depending on the direction of this offset, this can lead to\n",
       "    mornings having larger depths than evenings or viceversa. **e.**\n",
       "    Same experiment, but generating a transit lightcurve with a non-zero\n",
       "    eccentricity consistent at 3-$\\sigma$ with the white-lightcurve fits of Carter \\& May et al. (in review; $e=0.035$, $\\omega = 10$ deg). Note how this slight eccentricity can\n",
       "    generate significantly larger mornings than evenings, due to the asymmetry an eccentric orbit imprints on the transit lightcurve. For WASP-39 b, this eccentricity effect cannot generate larger evenings than mornings, which is what we observe. This suggests our results are also robust against this parameter (see text for details). {All errorbars represent 1-standard deviation.} (*fig:experiments*)\n",
       "\n",
       "</div>\n",
       "<div id=\"div_fig3\">\n",
       "\n",
       "<img src=\"tmp_2407.10294/./data.png\" alt=\"Fig4\" width=\"100%\"/>\n",
       "\n",
       "**Figure 4. -** **Different approaches at detecting limb asymmetries from NIRSpec/PRISM data.****a-b.** Evening (top) and morning (middle) depths as extracted from three independent analyses of our NIRSpec/PRISM lightcurves; one using the \\texttt{catwoman} framework with limb-darkening as free parameters with a prior (NE), a framework leaving those fixed (MM) and a framework on which half-ingress and half-egress are fitted independently using a \\texttt{batman} lightcurve model (Tiberius); see text for details. Note the agreement between approaches for both terminators, and how the amplitude of the features seem to be smaller in the morning terminator **c.** An independent look at limb asymmetries by fitting for a wavelength-dependent time-of-transit center to each wavelength-dependent lightcurve. As with the top and middle panels, differences between the limbs as tracked by the time-of-transit center seem to be largest between\n",
       "    2-3.5 $\\mu$m, i.e., around the water bands. {All errorbars represent 1-standard deviation.} (*fig:all-data*)\n",
       "\n",
       "</div><div id=\"qrcode\"><img src=https://api.qrserver.com/v1/create-qr-code/?size=100x100&data=\"https://arxiv.org/abs/2407.10294\"></div>"
      ],
      "text/plain": [
       "<IPython.core.display.Markdown object>"
      ]
     },
     "metadata": {},
     "output_type": "display_data"
    },
    {
     "data": {
      "text/markdown": [
       "<div class=\"macros\" style=\"visibility:hidden;\">\n",
       "$\\newcommand{\\ensuremath}{}$\n",
       "$\\newcommand{\\xspace}{}$\n",
       "$\\newcommand{\\object}[1]{\\texttt{#1}}$\n",
       "$\\newcommand{\\farcs}{{.}''}$\n",
       "$\\newcommand{\\farcm}{{.}'}$\n",
       "$\\newcommand{\\arcsec}{''}$\n",
       "$\\newcommand{\\arcmin}{'}$\n",
       "$\\newcommand{\\ion}[2]{#1#2}$\n",
       "$\\newcommand{\\textsc}[1]{\\textrm{#1}}$\n",
       "$\\newcommand{\\hl}[1]{\\textrm{#1}}$\n",
       "$\\newcommand{\\footnote}[1]{}$\n",
       "$\\newcommand{\\baselinestretch}{1.0}$</div>\n",
       "\n",
       "\n",
       "\n",
       "<div id=\"title\">\n",
       "\n",
       "# METIS high-contrast imaging: from final design to manufacturing and testing\n",
       "\n",
       "</div>\n",
       "<div id=\"comments\">\n",
       "\n",
       "[![arXiv](https://img.shields.io/badge/arXiv-2407.10588-b31b1b.svg)](https://arxiv.org/abs/2407.10588)<mark>Appeared on: 2024-07-16</mark> -  _16 pages, paper presented at SPIE Astronomical Telescopes + Instrumentation 2024_\n",
       "\n",
       "</div>\n",
       "<div id=\"authors\">\n",
       "\n",
       "O. Absil, et al. -- incl., <mark>T. Bertram</mark>, <mark>R. v. Boekel</mark>, <mark>M. Feldt</mark>\n",
       "\n",
       "</div>\n",
       "<div id=\"abstract\">\n",
       "\n",
       "**Abstract:** The Mid-infrared ELT Imager and Spectrograph (METIS) is one of the first-generation scientific instruments for the ELT, built under the supervision of ESO by a consortium of research institutes across and beyond Europe. Designed to cover the 3 to 13 $\\mu$ m wavelength range, METIS had its final design reviewed in Fall 2022, and has then entered in earnest its manufacture, assembly, integration, and test (MAIT) phase. Here, we present the final design of the METIS high-contrast imaging (HCI) modes. We detail the implementation of the two main coronagraphic solutions selected for METIS, namely the vortex coronagraph and the apodizing phase plate, including their combination with the high-resolution integral field spectrograph of METIS, and briefly describe their respective backup plans (Lyot coronagraph and shaped pupil plate). We then describe the status of the MAIT phase for HCI modes, including a review of the final design of individual components such as the vortex phase masks, the grayscale ring apodizer, and the apodizing phase plates, as well as a description of their on-going performance tests and of our plans for system-level integration and tests. Using end-to-end simulations, we predict the performance that will be reached on sky by the METIS HCI modes in presence of various environmental and instrumental disturbances, including non-common path aberrations and water vapor seeing, and discuss our strategy to mitigate these various effects. We finally illustrate with mock observations and data processing that METIS should be capable of directly imaging temperate rocky planets around the nearest stars.\n",
       "\n",
       "</div>\n",
       "\n",
       "<div id=\"div_fig1\">\n",
       "\n",
       "<img src=\"tmp_2407.10588/./pupil_stops_RAP.png\" alt=\"Fig2\" width=\"100%\"/>\n",
       "\n",
       "**Figure 2. -** lyot_Left._ ELT input pupil, illustrating our dodecagonal/hexagonal all-glass approximation (white) compared to the full input pupil (gray). _Middle._ Design of the Lyot stops associated with the classical (middle left) and ring-apodized (middle right) vortex modes, as implemented at IMG-LM-PP1. Sizes are in given in mm, with the ELT nominal diameter corresponding to 45 mm in this pupil plane. _Right._ Design of the ring apodizer (RAP). Sizes are in given in mm, with the ELT nominal diameter corresponding to 68 mm in this pupil plane. The relative dimensions of all masks with respect to the input ELT pupil are respected to illustrate the amount of oversizing or undersizing in the various edges. (*fig:lyot*)\n",
       "\n",
       "</div>\n",
       "<div id=\"div_fig2\">\n",
       "\n",
       "<img src=\"tmp_2407.10588/./APP-IMG.png\" alt=\"Fig3\" width=\"100%\"/>\n",
       "\n",
       "**Figure 3. -** APP-IMG phase pattern and resultant monochromatic PSF. _Left._ Phase of the vAPP as a function of position in the METIS cold stop pupil. _Right._ The two (monochromatic) coronagraphic PSFs formed by this phase pattern, located on either side of a central leakage term of about 1\\% intensity relative to the input on-axis starlight. (*fig:app-img*)\n",
       "\n",
       "</div>\n",
       "<div id=\"div_fig3\">\n",
       "\n",
       "<img src=\"tmp_2407.10588/./VPM-N4.png\" alt=\"Fig5.1\" width=\"50%\"/><img src=\"tmp_2407.10588/./VPM-N8.png\" alt=\"Fig5.2\" width=\"50%\"/>\n",
       "\n",
       "**Figure 5. -** Measured performance of two of the three N-band VPMs manufactured for METIS (_left_: VPM-N4, _right_: VPM-N8). Not displayed here is VPM-N9, which shows very similar performance to VPM-N8. The final, consolidated measurements are displayed in orange, with ealier results in shades of gray. In the case of VPM-N8, the gray-colored measurements were obtained before the re-etching of the VPM, showing poor early performance. The requirement in terms of average rejection rate across the N band is displayed with a green dashed line for reference. (*fig:vpm-n*)\n",
       "\n",
       "</div><div id=\"qrcode\"><img src=https://api.qrserver.com/v1/create-qr-code/?size=100x100&data=\"https://arxiv.org/abs/2407.10588\"></div>"
      ],
      "text/plain": [
       "<IPython.core.display.Markdown object>"
      ]
     },
     "metadata": {},
     "output_type": "display_data"
    }
   ],
   "source": [
    "[display(Markdown(k[1])) for k in documents];"
   ]
  },
  {
   "cell_type": "markdown",
   "id": "873873a4",
   "metadata": {
    "papermill": {
     "duration": 0.006417,
     "end_time": "2024-07-16T04:39:24.561777",
     "exception": false,
     "start_time": "2024-07-16T04:39:24.555360",
     "status": "completed"
    },
    "tags": []
   },
   "source": [
    "# Create HTML index"
   ]
  },
  {
   "cell_type": "code",
   "execution_count": 10,
   "id": "cf665672",
   "metadata": {
    "execution": {
     "iopub.execute_input": "2024-07-16T04:39:24.575875Z",
     "iopub.status.busy": "2024-07-16T04:39:24.575443Z",
     "iopub.status.idle": "2024-07-16T04:39:24.582465Z",
     "shell.execute_reply": "2024-07-16T04:39:24.581936Z"
    },
    "papermill": {
     "duration": 0.01553,
     "end_time": "2024-07-16T04:39:24.583750",
     "exception": false,
     "start_time": "2024-07-16T04:39:24.568220",
     "status": "completed"
    },
    "tags": []
   },
   "outputs": [
    {
     "name": "stdout",
     "output_type": "stream",
     "text": [
      "137  publications files modified in the last 7 days.\n"
     ]
    }
   ],
   "source": [
    "from datetime import datetime, timedelta, timezone\n",
    "from glob import glob\n",
    "import os\n",
    "\n",
    "files = glob('_build/html/*.md')\n",
    "days = 7\n",
    "now = datetime.today()\n",
    "res = []\n",
    "for fk in files:\n",
    "    stat_result = os.stat(fk).st_ctime\n",
    "    modified = datetime.fromtimestamp(stat_result, tz=timezone.utc).replace(tzinfo=None)\n",
    "    delta = now.today() - modified\n",
    "    if delta <= timedelta(days=days):\n",
    "        res.append((delta.seconds, fk))\n",
    "res = [k[1] for k in reversed(sorted(res, key=lambda x:x[1]))]\n",
    "npub = len(res)\n",
    "print(len(res), f\" publications files modified in the last {days:d} days.\")\n",
    "# [ print('\\t', k) for k in res ];"
   ]
  },
  {
   "cell_type": "code",
   "execution_count": 11,
   "id": "015de740",
   "metadata": {
    "execution": {
     "iopub.execute_input": "2024-07-16T04:39:24.597968Z",
     "iopub.status.busy": "2024-07-16T04:39:24.597547Z",
     "iopub.status.idle": "2024-07-16T04:39:24.610266Z",
     "shell.execute_reply": "2024-07-16T04:39:24.609770Z"
    },
    "papermill": {
     "duration": 0.021201,
     "end_time": "2024-07-16T04:39:24.611533",
     "exception": false,
     "start_time": "2024-07-16T04:39:24.590332",
     "status": "completed"
    },
    "tags": []
   },
   "outputs": [
    {
     "name": "stdout",
     "output_type": "stream",
     "text": [
      "20  publications in the last 7 days.\n"
     ]
    }
   ],
   "source": [
    "import datetime\n",
    "from glob import glob\n",
    "\n",
    "def get_last_n_days(lst, days=1):\n",
    "    \"\"\" Get the documents from the last n days \"\"\"\n",
    "    sorted_lst = sorted(lst, key=lambda x: x[1], reverse=True)\n",
    "    for fname, date in sorted_lst:\n",
    "        if date >= str(datetime.date.today() - datetime.timedelta(days=days)):\n",
    "            yield fname\n",
    "\n",
    "def extract_appearance_dates(lst_file):\n",
    "    dates = []\n",
    "\n",
    "    def get_date(line):\n",
    "        return line\\\n",
    "            .split('Appeared on:')[-1]\\\n",
    "            .split('</mark>')[0].strip()\n",
    "\n",
    "    for fname in lst:\n",
    "        with open(fname, 'r') as f:\n",
    "            found_date = False\n",
    "            for line in f:\n",
    "                if not found_date:\n",
    "                    if \"Appeared on\" in line:\n",
    "                        found_date = True\n",
    "                        dates.append((fname, get_date(line)))\n",
    "                else:\n",
    "                    break\n",
    "    return dates\n",
    "\n",
    "from glob import glob\n",
    "lst = glob('_build/html/*md')\n",
    "days = 7\n",
    "dates = extract_appearance_dates(lst)\n",
    "res = list(get_last_n_days(dates, days))\n",
    "npub = len(res)\n",
    "print(len(res), f\" publications in the last {days:d} days.\")"
   ]
  },
  {
   "cell_type": "code",
   "execution_count": 12,
   "id": "52ca0208",
   "metadata": {
    "execution": {
     "iopub.execute_input": "2024-07-16T04:39:24.626087Z",
     "iopub.status.busy": "2024-07-16T04:39:24.625671Z",
     "iopub.status.idle": "2024-07-16T04:39:24.630367Z",
     "shell.execute_reply": "2024-07-16T04:39:24.629805Z"
    },
    "papermill": {
     "duration": 0.013287,
     "end_time": "2024-07-16T04:39:24.631706",
     "exception": false,
     "start_time": "2024-07-16T04:39:24.618419",
     "status": "completed"
    },
    "scrolled": false,
    "tags": []
   },
   "outputs": [],
   "source": [
    "def create_carousel(npub=4):\n",
    "    \"\"\" Generate the HTML code for a carousel with `npub` slides \"\"\"\n",
    "    carousel = [\"\"\"  <div class=\"carousel\" \"\"\",\n",
    "                \"\"\"       data-flickity='{ \"autoPlay\": 10000, \"adaptiveHeight\": true, \"resize\": true, \"wrapAround\": true, \"pauseAutoPlayOnHover\": true, \"groupCells\": 1 }' id=\"asyncTypeset\">\"\"\"\n",
    "                ]\n",
    "    \n",
    "    item_str = \"\"\"    <div class=\"carousel-cell\"> <div id=\"slide{k}\" class=\"md_view\">Content {k}</div> </div>\"\"\"\n",
    "    for k in range(1, npub + 1):\n",
    "        carousel.append(item_str.format(k=k))\n",
    "    carousel.append(\"  </div>\")\n",
    "    return '\\n'.join(carousel)\n",
    "\n",
    "def create_grid(npub=4):\n",
    "    \"\"\" Generate the HTML code for a flat grid with `npub` slides \"\"\"\n",
    "    grid = [\"\"\"  <div class=\"grid\"> \"\"\",\n",
    "                ]\n",
    "    \n",
    "    item_str = \"\"\"    <div class=\"grid-item\"> <div id=\"slide{k}\" class=\"md_view\">Content {k}</div> </div>\"\"\"\n",
    "    for k in range(1, npub + 1):\n",
    "        grid.append(item_str.format(k=k))\n",
    "    grid.append(\"  </div>\")\n",
    "    return '\\n'.join(grid)"
   ]
  },
  {
   "cell_type": "code",
   "execution_count": 13,
   "id": "a6eac5b6",
   "metadata": {
    "execution": {
     "iopub.execute_input": "2024-07-16T04:39:24.646234Z",
     "iopub.status.busy": "2024-07-16T04:39:24.645846Z",
     "iopub.status.idle": "2024-07-16T04:39:24.650756Z",
     "shell.execute_reply": "2024-07-16T04:39:24.650215Z"
    },
    "papermill": {
     "duration": 0.013565,
     "end_time": "2024-07-16T04:39:24.652009",
     "exception": false,
     "start_time": "2024-07-16T04:39:24.638444",
     "status": "completed"
    },
    "scrolled": false,
    "tags": []
   },
   "outputs": [],
   "source": [
    "carousel = create_carousel(npub)\n",
    "docs = ', '.join(['\"{0:s}\"'.format(k.split('/')[-1]) for k in res])\n",
    "slides = ', '.join([f'\"slide{k}\"' for k in range(1, npub + 1)])\n",
    "\n",
    "with open(\"daily_template.html\", \"r\") as tpl:\n",
    "    page = tpl.read()\n",
    "    page = page.replace(\"{%-- carousel:s --%}\", carousel)\\\n",
    "               .replace(\"{%-- suptitle:s --%}\",  \"7-day archives\" )\\\n",
    "               .replace(\"{%-- docs:s --%}\", docs)\\\n",
    "               .replace(\"{%-- slides:s --%}\", slides)\n",
    "    \n",
    "with open(\"_build/html/index_7days.html\", 'w') as fout:\n",
    "    fout.write(page)"
   ]
  },
  {
   "cell_type": "code",
   "execution_count": 14,
   "id": "adc1a1ec",
   "metadata": {
    "execution": {
     "iopub.execute_input": "2024-07-16T04:39:24.666275Z",
     "iopub.status.busy": "2024-07-16T04:39:24.665874Z",
     "iopub.status.idle": "2024-07-16T04:39:24.671978Z",
     "shell.execute_reply": "2024-07-16T04:39:24.671403Z"
    },
    "papermill": {
     "duration": 0.014601,
     "end_time": "2024-07-16T04:39:24.673215",
     "exception": false,
     "start_time": "2024-07-16T04:39:24.658614",
     "status": "completed"
    },
    "tags": []
   },
   "outputs": [
    {
     "name": "stdout",
     "output_type": "stream",
     "text": [
      "5  publications in the last day.\n"
     ]
    }
   ],
   "source": [
    "# redo for today\n",
    "days = 1\n",
    "res = list(get_last_n_days(dates, days))\n",
    "npub = len(res)\n",
    "print(len(res), f\" publications in the last day.\")\n",
    "\n",
    "carousel = create_carousel(npub)\n",
    "docs = ', '.join(['\"{0:s}\"'.format(k.split('/')[-1]) for k in res])\n",
    "slides = ', '.join([f'\"slide{k}\"' for k in range(1, npub + 1)])\n",
    "\n",
    "with open(\"daily_template.html\", \"r\") as tpl:\n",
    "    page = tpl.read()\n",
    "    page = page.replace(\"{%-- carousel:s --%}\", carousel)\\\n",
    "               .replace(\"{%-- suptitle:s --%}\",  \"Daily\" )\\\n",
    "               .replace(\"{%-- docs:s --%}\", docs)\\\n",
    "               .replace(\"{%-- slides:s --%}\", slides)\n",
    "    \n",
    "# print(carousel, docs, slides)\n",
    "# print(page)\n",
    "with open(\"_build/html/index_daily.html\", 'w') as fout:\n",
    "    fout.write(page)"
   ]
  },
  {
   "cell_type": "code",
   "execution_count": 15,
   "id": "00eece82",
   "metadata": {
    "execution": {
     "iopub.execute_input": "2024-07-16T04:39:24.687584Z",
     "iopub.status.busy": "2024-07-16T04:39:24.687387Z",
     "iopub.status.idle": "2024-07-16T04:39:24.693532Z",
     "shell.execute_reply": "2024-07-16T04:39:24.692961Z"
    },
    "papermill": {
     "duration": 0.014804,
     "end_time": "2024-07-16T04:39:24.694844",
     "exception": false,
     "start_time": "2024-07-16T04:39:24.680040",
     "status": "completed"
    },
    "scrolled": false,
    "tags": []
   },
   "outputs": [
    {
     "name": "stdout",
     "output_type": "stream",
     "text": [
      "6  6 publications selected.\n"
     ]
    }
   ],
   "source": [
    "# Create the flat grid of the last N papers (fixed number regardless of dates)\n",
    "from itertools import islice \n",
    "\n",
    "npub = 6\n",
    "res = [k[0] for k in (islice(reversed(sorted(dates, key=lambda x: x[1])), 6))]\n",
    "print(len(res), f\" {npub} publications selected.\")\n",
    "\n",
    "grid = create_grid(npub)\n",
    "docs = ', '.join(['\"{0:s}\"'.format(k.split('/')[-1]) for k in res])\n",
    "slides = ', '.join([f'\"slide{k}\"' for k in range(1, npub + 1)])\n",
    "\n",
    "with open(\"grid_template.html\", \"r\") as tpl:\n",
    "    page = tpl.read()\n",
    "    page = page.replace(\"{%-- grid-content:s --%}\", grid)\\\n",
    "               .replace(\"{%-- suptitle:s --%}\",  f\"Last {npub:,d} papers\" )\\\n",
    "               .replace(\"{%-- docs:s --%}\", docs)\\\n",
    "               .replace(\"{%-- slides:s --%}\", slides)\n",
    "    \n",
    "# print(grid, docs, slides)\n",
    "# print(page)\n",
    "with open(\"_build/html/index_npub_grid.html\", 'w') as fout:\n",
    "    fout.write(page)"
   ]
  }
 ],
 "metadata": {
  "kernelspec": {
   "display_name": "Python 3 (ipykernel)",
   "language": "python",
   "name": "python3"
  },
  "language_info": {
   "codemirror_mode": {
    "name": "ipython",
    "version": 3
   },
   "file_extension": ".py",
   "mimetype": "text/x-python",
   "name": "python",
   "nbconvert_exporter": "python",
   "pygments_lexer": "ipython3",
   "version": "3.9.19"
  },
  "papermill": {
   "default_parameters": {},
   "duration": 1772.510273,
   "end_time": "2024-07-16T04:39:24.917955",
   "environment_variables": {},
   "exception": null,
   "input_path": "MPIA daily digest.ipynb",
   "output_path": "log.ipynb",
   "parameters": {},
   "start_time": "2024-07-16T04:09:52.407682",
   "version": "2.6.0"
  },
  "vscode": {
   "interpreter": {
    "hash": "aee8b7b246df8f9039afb4144a1f6fd8d2ca17a180786b69acc140d282b71a49"
   }
  },
  "widgets": {
   "application/vnd.jupyter.widget-state+json": {
    "state": {
     "00bf93a532e34f49a36e53ce3944e596": {
      "model_module": "@jupyter-widgets/base",
      "model_module_version": "2.0.0",
      "model_name": "LayoutModel",
      "state": {
       "_model_module": "@jupyter-widgets/base",
       "_model_module_version": "2.0.0",
       "_model_name": "LayoutModel",
       "_view_count": null,
       "_view_module": "@jupyter-widgets/base",
       "_view_module_version": "2.0.0",
       "_view_name": "LayoutView",
       "align_content": null,
       "align_items": null,
       "align_self": null,
       "border_bottom": null,
       "border_left": null,
       "border_right": null,
       "border_top": null,
       "bottom": null,
       "display": null,
       "flex": null,
       "flex_flow": null,
       "grid_area": null,
       "grid_auto_columns": null,
       "grid_auto_flow": null,
       "grid_auto_rows": null,
       "grid_column": null,
       "grid_gap": null,
       "grid_row": null,
       "grid_template_areas": null,
       "grid_template_columns": null,
       "grid_template_rows": null,
       "height": null,
       "justify_content": null,
       "justify_items": null,
       "left": null,
       "margin": null,
       "max_height": null,
       "max_width": null,
       "min_height": null,
       "min_width": null,
       "object_fit": null,
       "object_position": null,
       "order": null,
       "overflow": null,
       "padding": null,
       "right": null,
       "top": null,
       "visibility": null,
       "width": null
      }
     },
     "40d34371edec4c3db5c0570a093245d9": {
      "model_module": "@jupyter-widgets/controls",
      "model_module_version": "2.0.0",
      "model_name": "HTMLStyleModel",
      "state": {
       "_model_module": "@jupyter-widgets/controls",
       "_model_module_version": "2.0.0",
       "_model_name": "HTMLStyleModel",
       "_view_count": null,
       "_view_module": "@jupyter-widgets/base",
       "_view_module_version": "2.0.0",
       "_view_name": "StyleView",
       "background": null,
       "description_width": "",
       "font_size": null,
       "text_color": null
      }
     },
     "5a11cc4ce7e242ecba18a72288df5312": {
      "model_module": "@jupyter-widgets/controls",
      "model_module_version": "2.0.0",
      "model_name": "HTMLModel",
      "state": {
       "_dom_classes": [],
       "_model_module": "@jupyter-widgets/controls",
       "_model_module_version": "2.0.0",
       "_model_name": "HTMLModel",
       "_view_count": null,
       "_view_module": "@jupyter-widgets/controls",
       "_view_module_version": "2.0.0",
       "_view_name": "HTMLView",
       "description": "",
       "description_allow_html": false,
       "layout": "IPY_MODEL_d7d9aaf723d24ad7adfb80149bed90d4",
       "placeholder": "​",
       "style": "IPY_MODEL_40d34371edec4c3db5c0570a093245d9",
       "tabbable": null,
       "tooltip": null,
       "value": "100%"
      }
     },
     "6804c288ea1146daab0403938d668f03": {
      "model_module": "@jupyter-widgets/controls",
      "model_module_version": "2.0.0",
      "model_name": "HTMLStyleModel",
      "state": {
       "_model_module": "@jupyter-widgets/controls",
       "_model_module_version": "2.0.0",
       "_model_name": "HTMLStyleModel",
       "_view_count": null,
       "_view_module": "@jupyter-widgets/base",
       "_view_module_version": "2.0.0",
       "_view_name": "StyleView",
       "background": null,
       "description_width": "",
       "font_size": null,
       "text_color": null
      }
     },
     "79d973c09d624768924527c38101d5f2": {
      "model_module": "@jupyter-widgets/controls",
      "model_module_version": "2.0.0",
      "model_name": "FloatProgressModel",
      "state": {
       "_dom_classes": [],
       "_model_module": "@jupyter-widgets/controls",
       "_model_module_version": "2.0.0",
       "_model_name": "FloatProgressModel",
       "_view_count": null,
       "_view_module": "@jupyter-widgets/controls",
       "_view_module_version": "2.0.0",
       "_view_name": "ProgressView",
       "bar_style": "success",
       "description": "",
       "description_allow_html": false,
       "layout": "IPY_MODEL_8e3dab1b259643f8aa586952b83a4919",
       "max": 8.0,
       "min": 0.0,
       "orientation": "horizontal",
       "style": "IPY_MODEL_8c4027baaf4a430ab4ebf3c23cb2e329",
       "tabbable": null,
       "tooltip": null,
       "value": 8.0
      }
     },
     "8c4027baaf4a430ab4ebf3c23cb2e329": {
      "model_module": "@jupyter-widgets/controls",
      "model_module_version": "2.0.0",
      "model_name": "ProgressStyleModel",
      "state": {
       "_model_module": "@jupyter-widgets/controls",
       "_model_module_version": "2.0.0",
       "_model_name": "ProgressStyleModel",
       "_view_count": null,
       "_view_module": "@jupyter-widgets/base",
       "_view_module_version": "2.0.0",
       "_view_name": "StyleView",
       "bar_color": null,
       "description_width": ""
      }
     },
     "8e3dab1b259643f8aa586952b83a4919": {
      "model_module": "@jupyter-widgets/base",
      "model_module_version": "2.0.0",
      "model_name": "LayoutModel",
      "state": {
       "_model_module": "@jupyter-widgets/base",
       "_model_module_version": "2.0.0",
       "_model_name": "LayoutModel",
       "_view_count": null,
       "_view_module": "@jupyter-widgets/base",
       "_view_module_version": "2.0.0",
       "_view_name": "LayoutView",
       "align_content": null,
       "align_items": null,
       "align_self": null,
       "border_bottom": null,
       "border_left": null,
       "border_right": null,
       "border_top": null,
       "bottom": null,
       "display": null,
       "flex": null,
       "flex_flow": null,
       "grid_area": null,
       "grid_auto_columns": null,
       "grid_auto_flow": null,
       "grid_auto_rows": null,
       "grid_column": null,
       "grid_gap": null,
       "grid_row": null,
       "grid_template_areas": null,
       "grid_template_columns": null,
       "grid_template_rows": null,
       "height": null,
       "justify_content": null,
       "justify_items": null,
       "left": null,
       "margin": null,
       "max_height": null,
       "max_width": null,
       "min_height": null,
       "min_width": null,
       "object_fit": null,
       "object_position": null,
       "order": null,
       "overflow": null,
       "padding": null,
       "right": null,
       "top": null,
       "visibility": null,
       "width": null
      }
     },
     "96beb545284c4e76926e8bdeea827a45": {
      "model_module": "@jupyter-widgets/controls",
      "model_module_version": "2.0.0",
      "model_name": "HBoxModel",
      "state": {
       "_dom_classes": [],
       "_model_module": "@jupyter-widgets/controls",
       "_model_module_version": "2.0.0",
       "_model_name": "HBoxModel",
       "_view_count": null,
       "_view_module": "@jupyter-widgets/controls",
       "_view_module_version": "2.0.0",
       "_view_name": "HBoxView",
       "box_style": "",
       "children": [
        "IPY_MODEL_5a11cc4ce7e242ecba18a72288df5312",
        "IPY_MODEL_79d973c09d624768924527c38101d5f2",
        "IPY_MODEL_c4133728713a4372978eea076fd84ecc"
       ],
       "layout": "IPY_MODEL_dfa4eb960fe54e82b1532c5209e53eb8",
       "tabbable": null,
       "tooltip": null
      }
     },
     "c4133728713a4372978eea076fd84ecc": {
      "model_module": "@jupyter-widgets/controls",
      "model_module_version": "2.0.0",
      "model_name": "HTMLModel",
      "state": {
       "_dom_classes": [],
       "_model_module": "@jupyter-widgets/controls",
       "_model_module_version": "2.0.0",
       "_model_name": "HTMLModel",
       "_view_count": null,
       "_view_module": "@jupyter-widgets/controls",
       "_view_module_version": "2.0.0",
       "_view_name": "HTMLView",
       "description": "",
       "description_allow_html": false,
       "layout": "IPY_MODEL_00bf93a532e34f49a36e53ce3944e596",
       "placeholder": "​",
       "style": "IPY_MODEL_6804c288ea1146daab0403938d668f03",
       "tabbable": null,
       "tooltip": null,
       "value": " 8/8 [29:12&lt;00:00, 192.70s/it]"
      }
     },
     "d7d9aaf723d24ad7adfb80149bed90d4": {
      "model_module": "@jupyter-widgets/base",
      "model_module_version": "2.0.0",
      "model_name": "LayoutModel",
      "state": {
       "_model_module": "@jupyter-widgets/base",
       "_model_module_version": "2.0.0",
       "_model_name": "LayoutModel",
       "_view_count": null,
       "_view_module": "@jupyter-widgets/base",
       "_view_module_version": "2.0.0",
       "_view_name": "LayoutView",
       "align_content": null,
       "align_items": null,
       "align_self": null,
       "border_bottom": null,
       "border_left": null,
       "border_right": null,
       "border_top": null,
       "bottom": null,
       "display": null,
       "flex": null,
       "flex_flow": null,
       "grid_area": null,
       "grid_auto_columns": null,
       "grid_auto_flow": null,
       "grid_auto_rows": null,
       "grid_column": null,
       "grid_gap": null,
       "grid_row": null,
       "grid_template_areas": null,
       "grid_template_columns": null,
       "grid_template_rows": null,
       "height": null,
       "justify_content": null,
       "justify_items": null,
       "left": null,
       "margin": null,
       "max_height": null,
       "max_width": null,
       "min_height": null,
       "min_width": null,
       "object_fit": null,
       "object_position": null,
       "order": null,
       "overflow": null,
       "padding": null,
       "right": null,
       "top": null,
       "visibility": null,
       "width": null
      }
     },
     "dfa4eb960fe54e82b1532c5209e53eb8": {
      "model_module": "@jupyter-widgets/base",
      "model_module_version": "2.0.0",
      "model_name": "LayoutModel",
      "state": {
       "_model_module": "@jupyter-widgets/base",
       "_model_module_version": "2.0.0",
       "_model_name": "LayoutModel",
       "_view_count": null,
       "_view_module": "@jupyter-widgets/base",
       "_view_module_version": "2.0.0",
       "_view_name": "LayoutView",
       "align_content": null,
       "align_items": null,
       "align_self": null,
       "border_bottom": null,
       "border_left": null,
       "border_right": null,
       "border_top": null,
       "bottom": null,
       "display": null,
       "flex": null,
       "flex_flow": null,
       "grid_area": null,
       "grid_auto_columns": null,
       "grid_auto_flow": null,
       "grid_auto_rows": null,
       "grid_column": null,
       "grid_gap": null,
       "grid_row": null,
       "grid_template_areas": null,
       "grid_template_columns": null,
       "grid_template_rows": null,
       "height": null,
       "justify_content": null,
       "justify_items": null,
       "left": null,
       "margin": null,
       "max_height": null,
       "max_width": null,
       "min_height": null,
       "min_width": null,
       "object_fit": null,
       "object_position": null,
       "order": null,
       "overflow": null,
       "padding": null,
       "right": null,
       "top": null,
       "visibility": null,
       "width": null
      }
     }
    },
    "version_major": 2,
    "version_minor": 0
   }
  }
 },
 "nbformat": 4,
 "nbformat_minor": 5
}