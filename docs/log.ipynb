{
 "cells": [
  {
   "cell_type": "markdown",
   "id": "92bcb855",
   "metadata": {
    "papermill": {
     "duration": 0.003745,
     "end_time": "2025-08-08T04:36:19.856501",
     "exception": false,
     "start_time": "2025-08-08T04:36:19.852756",
     "status": "completed"
    },
    "tags": []
   },
   "source": [
    "# MPIA Arxiv on Deck 2\n",
    "\n",
    "Contains the steps to produce the paper extractions."
   ]
  },
  {
   "cell_type": "code",
   "execution_count": 1,
   "id": "3a0d6e11",
   "metadata": {
    "execution": {
     "iopub.execute_input": "2025-08-08T04:36:19.863479Z",
     "iopub.status.busy": "2025-08-08T04:36:19.863139Z",
     "iopub.status.idle": "2025-08-08T04:36:20.093351Z",
     "shell.execute_reply": "2025-08-08T04:36:20.092586Z"
    },
    "papermill": {
     "duration": 0.235213,
     "end_time": "2025-08-08T04:36:20.094911",
     "exception": false,
     "start_time": "2025-08-08T04:36:19.859698",
     "status": "completed"
    },
    "tags": []
   },
   "outputs": [],
   "source": [
    "# Imports\n",
    "import os\n",
    "from IPython.display import Markdown, display\n",
    "from tqdm.notebook import tqdm\n",
    "import warnings\n",
    "from PIL import Image \n",
    "import re\n",
    "\n",
    "# requires arxiv_on_deck_2\n",
    "\n",
    "from arxiv_on_deck_2.arxiv2 import (get_new_papers, \n",
    "                                    get_paper_from_identifier,\n",
    "                                    retrieve_document_source, \n",
    "                                    get_markdown_badge)\n",
    "from arxiv_on_deck_2 import (latex,\n",
    "                             latex_bib,\n",
    "                             mpia,\n",
    "                             highlight_authors_in_list)\n",
    "\n",
    "# Sometimes images are really big\n",
    "Image.MAX_IMAGE_PIXELS = 1000000000 "
   ]
  },
  {
   "cell_type": "code",
   "execution_count": 2,
   "id": "22aa9d44",
   "metadata": {
    "execution": {
     "iopub.execute_input": "2025-08-08T04:36:20.102153Z",
     "iopub.status.busy": "2025-08-08T04:36:20.101906Z",
     "iopub.status.idle": "2025-08-08T04:36:20.110095Z",
     "shell.execute_reply": "2025-08-08T04:36:20.109440Z"
    },
    "papermill": {
     "duration": 0.01295,
     "end_time": "2025-08-08T04:36:20.111131",
     "exception": false,
     "start_time": "2025-08-08T04:36:20.098181",
     "status": "completed"
    },
    "tags": []
   },
   "outputs": [],
   "source": [
    "# Some useful definitions.\n",
    "\n",
    "class AffiliationWarning(UserWarning):\n",
    "    pass\n",
    "\n",
    "class AffiliationError(RuntimeError):\n",
    "    pass\n",
    "\n",
    "def validation(source: str):\n",
    "    \"\"\"Raises error paper during parsing of source file\n",
    "    \n",
    "    Allows checks before parsing TeX code.\n",
    "    \n",
    "    Raises AffiliationWarning\n",
    "    \"\"\"\n",
    "    check = mpia.affiliation_verifications(source, verbose=True)\n",
    "    if check is not True:\n",
    "        raise AffiliationError(\"mpia.affiliation_verifications: \" + check)\n",
    "\n",
    "        \n",
    "warnings.simplefilter('always', AffiliationWarning)\n",
    "\n",
    "\n",
    "def get_markdown_qrcode(paper_id: str):\n",
    "    \"\"\" Generate a qrcode to the arxiv page using qrserver.com\n",
    "    \n",
    "    :param paper: Arxiv paper\n",
    "    :returns: markdown text\n",
    "    \"\"\"\n",
    "    url = r\"https://api.qrserver.com/v1/create-qr-code/?size=100x100&data=\"\n",
    "    txt = f\"\"\"<img src={url}\"https://arxiv.org/abs/{paper_id}\">\"\"\"\n",
    "    txt = '<div id=\"qrcode\">' + txt + '</div>'\n",
    "    return txt\n",
    "\n",
    "\n",
    "def clean_non_western_encoded_characters_commands(text: str) -> str:\n",
    "    \"\"\" Remove non-western encoded characters from a string\n",
    "    List may need to grow.\n",
    "    \n",
    "    :param text: the text to clean\n",
    "    :return: the cleaned text\n",
    "    \"\"\"\n",
    "    text = re.sub(r\"(\\\\begin{CJK}{UTF8}{gbsn})(.*?)(\\\\end{CJK})\", r\"\\2\", text)\n",
    "    return text\n",
    "\n",
    "\n",
    "def get_initials(name: str) -> str:\n",
    "    \"\"\" Get the short name, e.g., A.-B. FamName\n",
    "    :param name: full name\n",
    "    :returns: initials\n",
    "    \"\"\"\n",
    "    initials = []\n",
    "    # account for non western names often in ()\n",
    "    if '(' in name:\n",
    "        name = clean_non_western_encoded_characters_commands(name)\n",
    "        suffix = re.findall(r\"\\((.*?)\\)\", name)[0]\n",
    "        name = name.replace(f\"({suffix})\", '')\n",
    "    else:\n",
    "        suffix = ''\n",
    "    split = name.split()\n",
    "    for token in split[:-1]:\n",
    "        if '-' in token:\n",
    "            current = '-'.join([k[0] + '.' for k in token.split('-')])\n",
    "        else:\n",
    "            current = token[0] + '.'\n",
    "        initials.append(current)\n",
    "    initials.append(split[-1].strip())\n",
    "    if suffix:\n",
    "        initials.append(f\"({suffix})\")\n",
    "    return ' '.join(initials)"
   ]
  },
  {
   "cell_type": "markdown",
   "id": "14bd6310",
   "metadata": {
    "papermill": {
     "duration": 0.0029,
     "end_time": "2025-08-08T04:36:20.116924",
     "exception": false,
     "start_time": "2025-08-08T04:36:20.114024",
     "status": "completed"
    },
    "tags": []
   },
   "source": [
    "## get list of arxiv paper candidates\n",
    "\n",
    "We use the MPIA mitarbeiter list webpage from mpia.de to get author names\n",
    "We then get all new papers from Arxiv and match authors"
   ]
  },
  {
   "cell_type": "code",
   "execution_count": 3,
   "id": "7ea813a8",
   "metadata": {
    "execution": {
     "iopub.execute_input": "2025-08-08T04:36:20.123537Z",
     "iopub.status.busy": "2025-08-08T04:36:20.123297Z",
     "iopub.status.idle": "2025-08-08T04:36:40.744602Z",
     "shell.execute_reply": "2025-08-08T04:36:40.743874Z"
    },
    "papermill": {
     "duration": 20.626107,
     "end_time": "2025-08-08T04:36:40.745899",
     "exception": false,
     "start_time": "2025-08-08T04:36:20.119792",
     "status": "completed"
    },
    "tags": []
   },
   "outputs": [],
   "source": [
    "# deal with the author list and edge cases of people that cannot be consistent on their name  \n",
    "\n",
    "def filter_non_scientists(name: str) -> bool:\n",
    "    \"\"\" Loose filter on expected authorships\n",
    "\n",
    "    removing IT, administration, technical staff\n",
    "    :param name: name\n",
    "    :returns: False if name is not a scientist\n",
    "    \"\"\"\n",
    "    remove_list = ['Licht', 'Binroth', 'Witzel', 'Jordan',\n",
    "                   'Zähringer', 'Scheerer', 'Hoffmann', 'Düe',\n",
    "                   'Hellmich', 'Enkler-Scharpegge', 'Witte-Nguy',\n",
    "                   'Dehen', 'Beckmann', 'Jager', 'Jäger'\n",
    "                  ]\n",
    "\n",
    "    for k in remove_list:\n",
    "        if k in name:\n",
    "            return False\n",
    "    return True\n",
    "\n",
    "def add_author_to_list(author_list: list) -> list:\n",
    "    \"\"\" Add author to list if not already in list\n",
    "    \n",
    "    :param author: author name\n",
    "    :param author_list: list of authors\n",
    "    :returns: updated list of authors\n",
    "    \"\"\"\n",
    "    add_list = ['T. Henning']\n",
    "\n",
    "    for author in add_list:\n",
    "        if author not in author_list:\n",
    "            author_list.append(author)\n",
    "    return author_list\n",
    "\n",
    "# get list from MPIA website\n",
    "# filter for non-scientists (mpia.get_mpia_mitarbeiter_list() does some filtering)\n",
    "mpia_authors = [k[1] for k in mpia.get_mpia_mitarbeiter_list() if filter_non_scientists(k[1])]\n",
    "# add some missing author because of inconsistencies in their MPIA name and author name on papers\n",
    "mpia_authors = add_author_to_list(mpia_authors)"
   ]
  },
  {
   "cell_type": "code",
   "execution_count": 4,
   "id": "2645e73a",
   "metadata": {
    "execution": {
     "iopub.execute_input": "2025-08-08T04:36:40.752998Z",
     "iopub.status.busy": "2025-08-08T04:36:40.752796Z",
     "iopub.status.idle": "2025-08-08T04:36:41.323755Z",
     "shell.execute_reply": "2025-08-08T04:36:41.323027Z"
    },
    "papermill": {
     "duration": 0.575578,
     "end_time": "2025-08-08T04:36:41.324820",
     "exception": false,
     "start_time": "2025-08-08T04:36:40.749242",
     "status": "completed"
    },
    "tags": []
   },
   "outputs": [
    {
     "name": "stdout",
     "output_type": "stream",
     "text": [
      "K. El-Badry  ->  K. El-Badry  |  ['K. El-Badry']\n",
      "X. Zhang  ->  X. Zhang  |  ['X. Zhang']\n",
      "T. Henning  ->  T. Henning  |  ['T. Henning']\n",
      "G. Perotti  ->  G. Perotti  |  ['G. Perotti']\n",
      "M. Samland  ->  M. Samland  |  ['M. Samland']\n",
      "K. Schwarz  ->  K. Schwarz  |  ['K. Schwarz']\n"
     ]
    },
    {
     "name": "stdout",
     "output_type": "stream",
     "text": [
      "Arxiv has 51 new papers today\n",
      "          3 with possible author matches\n"
     ]
    }
   ],
   "source": [
    "new_papers = get_new_papers()\n",
    "# add manual references\n",
    "add_paper_refs = []\n",
    "new_papers.extend([get_paper_from_identifier(k) for k in add_paper_refs])\n",
    "\n",
    "def robust_call(fn, value, *args, **kwargs):\n",
    "    try:\n",
    "        return fn(value, *args, **kwargs)\n",
    "    except Exception:\n",
    "        return value\n",
    "\n",
    "candidates = []\n",
    "for paperk in new_papers:\n",
    "    # Check author list with their initials\n",
    "    normed_author_list = [robust_call(mpia.get_initials, k) for k in paperk['authors']]\n",
    "    hl_authors = highlight_authors_in_list(normed_author_list, mpia_authors, verbose=True)\n",
    "    matches = [(hl, orig) for hl, orig in zip(hl_authors, paperk['authors']) if 'mark' in hl]\n",
    "    paperk['authors'] = hl_authors\n",
    "    if matches:\n",
    "        # only select paper if an author matched our list\n",
    "        candidates.append(paperk)\n",
    "print(\"\"\"Arxiv has {0:,d} new papers today\"\"\".format(len(new_papers)))        \n",
    "print(\"\"\"          {0:,d} with possible author matches\"\"\".format(len(candidates)))"
   ]
  },
  {
   "cell_type": "markdown",
   "id": "3543b34a",
   "metadata": {
    "papermill": {
     "duration": 0.003,
     "end_time": "2025-08-08T04:36:41.331397",
     "exception": false,
     "start_time": "2025-08-08T04:36:41.328397",
     "status": "completed"
    },
    "tags": []
   },
   "source": [
    "# Parse sources and generate relevant outputs\n",
    "\n",
    "From the candidates, we do the following steps:\n",
    "* get their tarball from ArXiv (and extract data)\n",
    "* find the main .tex file: find one with \\documentclass{...} (sometimes it's non trivial)\n",
    "* Check affiliations with :func:`validation`, which uses :func:`mpia.affiliation_verifications`\n",
    "* If passing the affiliations: we parse the .tex source\n",
    "   * inject sub-documents into the main (flatten the main document)\n",
    "   * parse structure, extract information (title, abstract, authors, figures...)\n",
    "   * handles `\\graphicspath` if provided\n",
    "* Generate the .md document."
   ]
  },
  {
   "cell_type": "code",
   "execution_count": 5,
   "id": "9576b79e",
   "metadata": {
    "execution": {
     "iopub.execute_input": "2025-08-08T04:36:41.338351Z",
     "iopub.status.busy": "2025-08-08T04:36:41.338056Z",
     "iopub.status.idle": "2025-08-08T04:36:51.475562Z",
     "shell.execute_reply": "2025-08-08T04:36:51.474768Z"
    },
    "papermill": {
     "duration": 10.142237,
     "end_time": "2025-08-08T04:36:51.476650",
     "exception": false,
     "start_time": "2025-08-08T04:36:41.334413",
     "status": "completed"
    },
    "scrolled": false,
    "tags": []
   },
   "outputs": [
    {
     "data": {
      "application/vnd.jupyter.widget-view+json": {
       "model_id": "09e0e8ad309849f38c5c4288506a0966",
       "version_major": 2,
       "version_minor": 0
      },
      "text/plain": [
       "  0%|          | 0/3 [00:00<?, ?it/s]"
      ]
     },
     "metadata": {},
     "output_type": "display_data"
    },
    {
     "name": "stdout",
     "output_type": "stream",
     "text": [
      "Retrieving document from  https://arxiv.org/e-print/2508.04775\n",
      "extracting tarball to tmp_2508.04775... done.\n",
      "Retrieving document from  https://arxiv.org/e-print/2508.05052\n",
      "extracting tarball to tmp_2508.05052..."
     ]
    },
    {
     "name": "stdout",
     "output_type": "stream",
     "text": [
      " done.\n",
      "Retrieving document from  https://arxiv.org/e-print/2508.05155\n",
      "extracting tarball to tmp_2508.05155... done.\n"
     ]
    },
    {
     "name": "stdout",
     "output_type": "stream",
     "text": [
      "T. Henning  ->  T. Henning  |  ['T. Henning']\n",
      "G. Perotti  ->  G. Perotti  |  ['G. Perotti']\n",
      "M. Samland  ->  M. Samland  |  ['M. Samland']\n",
      "K. Schwarz  ->  K. Schwarz  |  ['K. Schwarz']\n"
     ]
    },
    {
     "name": "stdout",
     "output_type": "stream",
     "text": [
      "Issues with the citations\n",
      "list index out of range\n"
     ]
    }
   ],
   "source": [
    "documents = []\n",
    "failed = []\n",
    "for paper in tqdm(candidates):\n",
    "    # debug crap\n",
    "    paper['identifier'] = paper['identifier'].lower().replace('arxiv:', '').replace(r'\\n', '').strip()\n",
    "    paper_id = paper['identifier']\n",
    "    \n",
    "    folder = f'tmp_{paper_id}'\n",
    "\n",
    "    try:\n",
    "        if not os.path.isdir(folder):\n",
    "            folder = retrieve_document_source(f\"{paper_id}\", f'tmp_{paper_id}')\n",
    "        \n",
    "        try:\n",
    "            doc = latex.LatexDocument(folder, validation=validation)    \n",
    "        except AffiliationError as affilerror:\n",
    "            msg = f\"ArXiv:{paper_id:s} is not an MPIA paper... \" + str(affilerror)\n",
    "            failed.append((paper, \"affiliation error: \" + str(affilerror) ))\n",
    "            continue\n",
    "        \n",
    "        # Hack because sometimes author parsing does not work well\n",
    "        if (len(doc.authors) != len(paper['authors'])):\n",
    "            doc._authors = paper['authors']\n",
    "        else:\n",
    "            # highlight authors (FIXME: doc.highlight_authors)\n",
    "            # done on arxiv paper already\n",
    "            doc._authors = highlight_authors_in_list(\n",
    "                [get_initials(k) for k in doc.authors], \n",
    "                mpia_authors, verbose=True)\n",
    "        if (doc.abstract) in (None, ''):\n",
    "            doc._abstract = paper['abstract']\n",
    "            \n",
    "        doc.comment = (get_markdown_badge(paper_id) + \n",
    "                       \"<mark>Appeared on: \" + paper['date'] + \"</mark> - \")\n",
    "        if paper['comments']:\n",
    "            doc.comment += \" _\" + paper['comments'] + \"_\"\n",
    "        \n",
    "        full_md = doc.generate_markdown_text()\n",
    "        \n",
    "        full_md += get_markdown_qrcode(paper_id)\n",
    "        \n",
    "        # replace citations\n",
    "        try:\n",
    "            bibdata = latex_bib.LatexBib.from_doc(doc)\n",
    "            full_md = latex_bib.replace_citations(full_md, bibdata)\n",
    "        except Exception as e:\n",
    "            print(\"Issues with the citations\")\n",
    "            print(e)\n",
    "        \n",
    "        documents.append((paper_id, full_md))\n",
    "    except Exception as e:\n",
    "        warnings.warn(latex.LatexWarning(f\"{paper_id:s} did not run properly\\n\" +\n",
    "                                         str(e)\n",
    "                                        ))\n",
    "        failed.append((paper, \"latex error \" + str(e)))"
   ]
  },
  {
   "cell_type": "markdown",
   "id": "2505a25c",
   "metadata": {
    "papermill": {
     "duration": 0.003322,
     "end_time": "2025-08-08T04:36:51.483785",
     "exception": false,
     "start_time": "2025-08-08T04:36:51.480463",
     "status": "completed"
    },
    "tags": []
   },
   "source": [
    "### Export the logs\n",
    "\n",
    "Throughout, we also keep track of the logs per paper. see `logs-{today date}.md` "
   ]
  },
  {
   "cell_type": "code",
   "execution_count": 6,
   "id": "d733828a",
   "metadata": {
    "execution": {
     "iopub.execute_input": "2025-08-08T04:36:51.491497Z",
     "iopub.status.busy": "2025-08-08T04:36:51.491187Z",
     "iopub.status.idle": "2025-08-08T04:36:51.504623Z",
     "shell.execute_reply": "2025-08-08T04:36:51.503946Z"
    },
    "papermill": {
     "duration": 0.018584,
     "end_time": "2025-08-08T04:36:51.505700",
     "exception": false,
     "start_time": "2025-08-08T04:36:51.487116",
     "status": "completed"
    },
    "scrolled": false,
    "tags": []
   },
   "outputs": [
    {
     "data": {
      "text/markdown": [
       "## Successful papers"
      ],
      "text/plain": [
       "<IPython.core.display.Markdown object>"
      ]
     },
     "metadata": {},
     "output_type": "display_data"
    },
    {
     "data": {
      "text/markdown": [
       "\n",
       "|||\n",
       "|---:|:---|\n",
       "| [![arXiv](https://img.shields.io/badge/arXiv-2508.05155-b31b1b.svg)](https://arxiv.org/abs/2508.05155) | **MINDS. Cha Hα 1, a brown dwarf with a hydrocarbon-rich disk**  |\n",
       "|| M. Morales-Calderón, et al. -- incl., <mark>T. Henning</mark>, <mark>G. Perotti</mark>, <mark>M. Samland</mark>, <mark>K. Schwarz</mark> |\n",
       "|*Appeared on*| *2025-08-08*|\n",
       "|*Comments*| *16 pages, 14 figures*|\n",
       "|**Abstract**|            Context. Recent JWST observations have shown that brown dwarfs (BD) are chemically rich, offering valuable insights into giant planet formation. Aims. As part of the MIRI mid-INfrared Disk Survey (MINDS) JWST guaranteed time program, we aim to characterize the gas and dust composition of the disk around the brown dwarf [NC98] Cha HA 1, hereafter Cha H$\\alpha$ 1, in the mid-infrared. Methods. We obtain data from the MIRI Medium Resolution Spectrometer (MRS) from 4.9 to 28$\\mu$m. We use the dust fitting tool DuCK to investigate the dust composition and grain sizes while we identify and fit molecular emission using slab models. Results. Compared with disks around very low mass stars, clear silicate emission features are seen in this BD disk. In addition, JWST reveals a plethora of hydrocarbons, including C$_2$H$_2$, $^{13}$CCH$_2$, CH$_3$, CH$_4$, C$_2$H$_4$, C$_4$H$_2$, C$_3$H$_4$, C$_2$H$_6$, and C$_6$H$_6$ which suggest a disk with a gas C/O > 1. Additionally, we detect CO$_2$, $^{13}$CO$_2$, HCN, H$_2$, and H$_2$O. CO and OH are absent from the spectrum. The dust is dominated by large $\\sim$4 $\\mu$m size amorphous silicates (MgSiO$_3$). We infer a small dust mass fraction ($>$10$\\%$) of 5 $\\mu$m size crystalline forsterite. We do not detect polycyclic aromatic hydrocarbons. Conclusions. Cha H$\\alpha$ 1 shows the most diverse chemistry seen to date in a BD protoplanetary disk, consisting of a strong dust feature, 12 carbon-bearing molecules plus H$_2$, and water. The diverse molecular environment offers a unique opportunity to test our understanding of BD disks chemistry and how it affects the possible planets forming in them.         |"
      ],
      "text/plain": [
       "[2508.05155] MINDS. Cha Hα 1, a brown dwarf with a hydrocarbon-rich disk\n",
       "\tM. Morales-Calderón, et al. -- incl., <mark>T. Henning</mark>, <mark>G. Perotti</mark>, <mark>M. Samland</mark>, <mark>K. Schwarz</mark>"
      ]
     },
     "metadata": {},
     "output_type": "display_data"
    },
    {
     "data": {
      "text/markdown": [
       "## Failed papers"
      ],
      "text/plain": [
       "<IPython.core.display.Markdown object>"
      ]
     },
     "metadata": {},
     "output_type": "display_data"
    },
    {
     "data": {
      "text/markdown": [
       "\n",
       "|||\n",
       "|---:|:---|\n",
       "| [![arXiv](https://img.shields.io/badge/arXiv-2508.04775-b31b1b.svg)](https://arxiv.org/abs/2508.04775) | **Resolution-Corrected White Dwarf Gravitational Redshifts Validate SDSS-V Wavelength Calibration and Enable Accurate Mass-Radius Tests**  |\n",
       "|| S. M. Arseneau, et al. -- incl., <mark>K. El-Badry</mark> |\n",
       "|*Appeared on*| *2025-08-08*|\n",
       "|*Comments*| *17 pages, 11 figures, 2 tables, accepted for publication in ApJ*|\n",
       "|**Abstract**|            Leveraging the large sample size of low-resolution spectroscopic surveys to constrain white dwarf stellar structure requires an accurate understanding of the shapes of hydrogen absorption lines, which are pressure broadened by the Stark effect. Using data from both the Sloan Digital Sky Survey and the Type Ia Supernova Progenitor Survey, we show that substantial biases (5-15 km/s) exist in radial velocity measurements made from observations at low spectral resolution relative to similar measurements from high-resolution spectra. Our results indicate that the physics of line formation in high-density plasmas, especially in the wings of the lines, are not fully accounted for in state-of-the-art white dwarf model atmospheres. We provide corrections to account for these resolution-induced redshifts in a way that is independent of an assumed mass-radius relation, and we demonstrate that statistical measurements of gravitational redshift with these corrections yield improved agreement with theoretical mass-radius relations. Our results provide a set of best practices for white dwarf radial velocity measurements from low-resolution spectroscopy, including those from the Sloan Digital Sky Survey, the Dark Energy Spectroscopic Instrument, the 4-meter Multi-Object Spectroscopic Telescope, and the Wide-Field Multiplexed Spectroscopic Facility.         |\n",
       "|<p style=\"color:green\"> **ERROR** </p>| <p style=\"color:green\">affiliation error: mpia.affiliation_verifications: '69117' keyword not found.</p> |"
      ],
      "text/plain": [
       "<IPython.core.display.Markdown object>"
      ]
     },
     "metadata": {},
     "output_type": "display_data"
    },
    {
     "data": {
      "text/markdown": [
       "\n",
       "|||\n",
       "|---:|:---|\n",
       "| [![arXiv](https://img.shields.io/badge/arXiv-2508.05052-b31b1b.svg)](https://arxiv.org/abs/2508.05052) | **The Size Evolution and the Size-Mass Relation of Lyman-Alpha Emitters across $3 \\lesssim z < 7$ as Observed by JWST**  |\n",
       "|| Q. Song, et al. -- incl., <mark>X. Zhang</mark> |\n",
       "|*Appeared on*| *2025-08-08*|\n",
       "|*Comments*| *16 pages, 10 figures, 2 tables. Comments are welcome*|\n",
       "|**Abstract**|            Understanding the morphological structures of Lyman-alpha emitters (LAEs) is crucial for unveiling their formation pathways and the physical origins of Ly$\\alpha$ emission. However, the evolution of their sizes and structural scaling relations remains debated. In this study, we analyze a large sample of 876 spectroscopically confirmed LAEs at $3 \\lesssim z < 7$, selected from the MUSE, VANDELS, and CANDELSz7 surveys in the GOODS-S, UDS, and COSMOS fields. Utilizing deep, high-resolution near-infrared images from the James Webb Space Telescope (JWST), we measure their rest-frame UV and optical V-band effective radii ($R_{\\rm e}$) through two-dimensional Sérsic profile fitting. Our results show that these LAEs are generally compact with weak size evolution, following $R_{\\rm e,UV} \\propto (1 + z)^{-0.91 \\pm 0.10}$ and $R_{\\rm e,V} \\propto (1 + z)^{-0.93 \\pm 0.18}$, respectively. Their UV and optical sizes are statistically comparable, indicating negligible UV-to-optical color gradients. For the first time, we establish the rest-frame optical size-mass relation for LAEs at $z>3$, finding slopes comparable to typical star-forming galaxies (SFGs), but with slightly smaller sizes at a given stellar mass. These results provide important clues for understanding the formation mechanisms and structural evolution of LAEs in the early universe.         |\n",
       "|<p style=\"color:green\"> **ERROR** </p>| <p style=\"color:green\">affiliation error: mpia.affiliation_verifications: 'Heidelberg' keyword not found.</p> |"
      ],
      "text/plain": [
       "<IPython.core.display.Markdown object>"
      ]
     },
     "metadata": {},
     "output_type": "display_data"
    }
   ],
   "source": [
    "import datetime\n",
    "today = str(datetime.date.today())\n",
    "logfile = f\"_build/html/logs/log-{today}.md\"\n",
    "\n",
    "\n",
    "with open(logfile, 'w') as logs:\n",
    "    # Success\n",
    "    logs.write(f'# Arxiv on Deck 2: Logs - {today}\\n\\n')\n",
    "    logs.write(\"\"\"* Arxiv had {0:,d} new papers\\n\"\"\".format(len(new_papers)))\n",
    "    logs.write(\"\"\"    * {0:,d} with possible author matches\\n\\n\"\"\".format(len(candidates)))\n",
    "    logs.write(\"## Sucessful papers\\n\\n\")\n",
    "    display(Markdown(\"## Successful papers\"))\n",
    "    success = [k[0] for k in documents]\n",
    "    for candid in candidates:\n",
    "        if candid['identifier'].split(':')[-1] in success:\n",
    "            display(candid)\n",
    "            logs.write(candid.generate_markdown_text() + '\\n\\n')\n",
    "\n",
    "    ## failed\n",
    "    logs.write(\"## Failed papers\\n\\n\")\n",
    "    display(Markdown(\"## Failed papers\"))\n",
    "    failed = sorted(failed, key=lambda x: x[1])\n",
    "    current_reason = \"\"\n",
    "    for paper, reason in failed:\n",
    "        if 'affiliation' in reason:\n",
    "            color = 'green'\n",
    "        else:\n",
    "            color = 'red'\n",
    "        data = Markdown(\n",
    "                paper.generate_markdown_text() + \n",
    "                f'\\n|<p style=\"color:{color:s}\"> **ERROR** </p>| <p style=\"color:{color:s}\">{reason:s}</p> |'\n",
    "               )\n",
    "        if reason != current_reason:\n",
    "            logs.write(f'### {reason:s} \\n\\n')\n",
    "            current_reason = reason\n",
    "        logs.write(data.data + '\\n\\n')\n",
    "        \n",
    "        # only display here the important errors (all in logs)\n",
    "        # if color in ('red',):\n",
    "        display(data)"
   ]
  },
  {
   "cell_type": "markdown",
   "id": "472d20ee",
   "metadata": {
    "papermill": {
     "duration": 0.003902,
     "end_time": "2025-08-08T04:36:51.513582",
     "exception": false,
     "start_time": "2025-08-08T04:36:51.509680",
     "status": "completed"
    },
    "tags": []
   },
   "source": [
    "## Export documents\n",
    "\n",
    "We now write the .md files and export relevant images"
   ]
  },
  {
   "cell_type": "code",
   "execution_count": 7,
   "id": "d426aed9",
   "metadata": {
    "execution": {
     "iopub.execute_input": "2025-08-08T04:36:51.522721Z",
     "iopub.status.busy": "2025-08-08T04:36:51.522524Z",
     "iopub.status.idle": "2025-08-08T04:36:51.529214Z",
     "shell.execute_reply": "2025-08-08T04:36:51.528661Z"
    },
    "papermill": {
     "duration": 0.012171,
     "end_time": "2025-08-08T04:36:51.530219",
     "exception": false,
     "start_time": "2025-08-08T04:36:51.518048",
     "status": "completed"
    },
    "tags": []
   },
   "outputs": [],
   "source": [
    "def export_markdown_summary(md: str, md_fname:str, directory: str):\n",
    "    \"\"\"Export MD document and associated relevant images\"\"\"\n",
    "    import os\n",
    "    import shutil\n",
    "    import re\n",
    "\n",
    "    if (os.path.exists(directory) and not os.path.isdir(directory)):\n",
    "        raise RuntimeError(f\"a non-directory file exists with name {directory:s}\")\n",
    "\n",
    "    if (not os.path.exists(directory)):\n",
    "        print(f\"creating directory {directory:s}\")\n",
    "        os.mkdir(directory)\n",
    "\n",
    "    fig_fnames = (re.compile(r'\\[Fig.*\\]\\((.*)\\)').findall(md) + \n",
    "                  re.compile(r'\\<img src=\"([^>\\s]*)\"[^>]*/>').findall(md))\n",
    "    print(\"found figures\", fig_fnames)\n",
    "    for fname in fig_fnames:\n",
    "        if 'http' in fname:\n",
    "            # No need to copy online figures\n",
    "            continue\n",
    "        if not os.path.exists(fname):\n",
    "            print(\"file not found\", fname)\n",
    "            continue\n",
    "        print(\"copying \", fname, \"to\", directory)\n",
    "        destdir = os.path.join(directory, os.path.dirname(fname))\n",
    "        destfname = os.path.join(destdir, os.path.basename(fname))\n",
    "        try:\n",
    "            os.makedirs(destdir)\n",
    "        except FileExistsError:\n",
    "            pass\n",
    "        shutil.copy(fname, destfname)\n",
    "    with open(os.path.join(directory, md_fname), 'w') as fout:\n",
    "        fout.write(md)\n",
    "    print(\"exported in \", os.path.join(directory, md_fname))\n",
    "    [print(\"    + \" + os.path.join(directory,fk)) for fk in fig_fnames]"
   ]
  },
  {
   "cell_type": "code",
   "execution_count": 8,
   "id": "014d04a4",
   "metadata": {
    "execution": {
     "iopub.execute_input": "2025-08-08T04:36:51.538736Z",
     "iopub.status.busy": "2025-08-08T04:36:51.538543Z",
     "iopub.status.idle": "2025-08-08T04:36:51.543769Z",
     "shell.execute_reply": "2025-08-08T04:36:51.543194Z"
    },
    "papermill": {
     "duration": 0.010583,
     "end_time": "2025-08-08T04:36:51.544735",
     "exception": false,
     "start_time": "2025-08-08T04:36:51.534152",
     "status": "completed"
    },
    "tags": []
   },
   "outputs": [
    {
     "name": "stdout",
     "output_type": "stream",
     "text": [
      "found figures ['tmp_2508.05155/./Figures/models_large_zoom.png', 'tmp_2508.05155/./Figures/Xis.png', 'tmp_2508.05155/./Figures/BandsOffsets_v2.png']\n",
      "copying  tmp_2508.05155/./Figures/models_large_zoom.png to _build/html/\n",
      "copying  tmp_2508.05155/./Figures/Xis.png to _build/html/\n",
      "copying  tmp_2508.05155/./Figures/BandsOffsets_v2.png to _build/html/\n",
      "exported in  _build/html/2508.05155.md\n",
      "    + _build/html/tmp_2508.05155/./Figures/models_large_zoom.png\n",
      "    + _build/html/tmp_2508.05155/./Figures/Xis.png\n",
      "    + _build/html/tmp_2508.05155/./Figures/BandsOffsets_v2.png\n"
     ]
    }
   ],
   "source": [
    "for paper_id, md in documents:\n",
    "    export_markdown_summary(md, f\"{paper_id:s}.md\", '_build/html/')"
   ]
  },
  {
   "cell_type": "markdown",
   "id": "f087a0a7",
   "metadata": {
    "papermill": {
     "duration": 0.003993,
     "end_time": "2025-08-08T04:36:51.552767",
     "exception": false,
     "start_time": "2025-08-08T04:36:51.548774",
     "status": "completed"
    },
    "tags": []
   },
   "source": [
    "## Display the papers\n",
    "\n",
    "Not necessary but allows for a quick check."
   ]
  },
  {
   "cell_type": "code",
   "execution_count": 9,
   "id": "fd25f625",
   "metadata": {
    "execution": {
     "iopub.execute_input": "2025-08-08T04:36:51.561371Z",
     "iopub.status.busy": "2025-08-08T04:36:51.561158Z",
     "iopub.status.idle": "2025-08-08T04:36:51.565519Z",
     "shell.execute_reply": "2025-08-08T04:36:51.564851Z"
    },
    "papermill": {
     "duration": 0.009869,
     "end_time": "2025-08-08T04:36:51.566589",
     "exception": false,
     "start_time": "2025-08-08T04:36:51.556720",
     "status": "completed"
    },
    "scrolled": false,
    "tags": []
   },
   "outputs": [
    {
     "data": {
      "text/markdown": [
       "<div class=\"macros\" style=\"visibility:hidden;\">\n",
       "$\\newcommand{\\ensuremath}{}$\n",
       "$\\newcommand{\\xspace}{}$\n",
       "$\\newcommand{\\object}[1]{\\texttt{#1}}$\n",
       "$\\newcommand{\\farcs}{{.}''}$\n",
       "$\\newcommand{\\farcm}{{.}'}$\n",
       "$\\newcommand{\\arcsec}{''}$\n",
       "$\\newcommand{\\arcmin}{'}$\n",
       "$\\newcommand{\\ion}[2]{#1#2}$\n",
       "$\\newcommand{\\textsc}[1]{\\textrm{#1}}$\n",
       "$\\newcommand{\\hl}[1]{\\textrm{#1}}$\n",
       "$\\newcommand{\\footnote}[1]{}$\n",
       "$\\newcommand{\\todo}{\\textcolor{purple}}$\n",
       "$\\newcommand{\\mum}{\\mum\\xspace}$\n",
       "$\\newcommand{\\referee}{\\textcolor{red}}$\n",
       "$\\newcommand{\\Lsun}{L_\\odot}$\n",
       "$\\newcommand{\\Msun}{M_\\odot}$\n",
       "$\\newcommand{\\Macc}{\\dot{M}_\\mathrm{acc}}$\n",
       "$\\newcommand{\\chaha1}{Cha~H\\alpha~1}$\n",
       "$\\newcommand\\natexlab{#1}$</div>\n",
       "\n",
       "\n",
       "\n",
       "<div id=\"title\">\n",
       "\n",
       "# MINDS. Cha H$\\alpha$ 1, a brown dwarf with a hydrocarbon-rich disk.\n",
       "\n",
       "</div>\n",
       "<div id=\"comments\">\n",
       "\n",
       "[![arXiv](https://img.shields.io/badge/arXiv-2508.05155-b31b1b.svg)](https://arxiv.org/abs/2508.05155)<mark>Appeared on: 2025-08-08</mark> -  _16 pages, 14 figures_\n",
       "\n",
       "</div>\n",
       "<div id=\"authors\">\n",
       "\n",
       "M. Morales-Calderón, et al. -- incl., <mark>T. Henning</mark>, <mark>G. Perotti</mark>, <mark>M. Samland</mark>, <mark>K. Schwarz</mark>\n",
       "\n",
       "</div>\n",
       "<div id=\"abstract\">\n",
       "\n",
       "**Abstract:** The chemistry of disks around brown dwarfs (BDs) remain largely unexplored due to their faintness. Despite the efforts performed with Spitzer, we have far less understanding of planet formation, chemical composition, disk structure, and evolution in disks around BDs compared to their more massive counterparts (T Tauri and Herbig Ae/Be stars), which are more readily studied due to their greater brightness. Recent JWST observations, with up to an order of magnitude improvement in both spectral and spatial resolution, have shown that these systems are chemically rich, offering valuable insights into giant planet formation. As part of the MIRI mid-INfrared Disk Survey (MINDS) JWST guaranteed time program, we aim to characterize the gas and dust composition of the disk around the brown dwarf [ NC98 ] Cha HA 1, hereafter $\\chaha$ 1, in the mid-infrared. We obtain data from the MIRI Medium Resolution Spectrometer (MRS) from 4.9 to 28 $\\mum$ ( $R\\sim$ 1500 - 3500; FWHM $\\sim$ 0.2\" - 1.2\"). We use the dust fitting tool DuCK to investigate the dust composition and grain sizes while we identify and fit molecular emission in the spectrum using slab models. Compared with disks around very low mass stars, clear silicate emission features are seen in this BD disk. In addition, JWST reveals a plethora of hydrocarbons, including $C_2$ $H_2$ , $^{13}$ $CCH_2$ , $CH_3$ , $CH_4$ , $C_2$ $H_4$ , $C_4$ $H_2$ ,  $C_3$ $H_4$ , $C_2$ $H_6$ ,  and $C_6$ $H_6$ which suggest a disk with a gas C/O > 1. Additionally, we detect $CO_2$ , $^{13}$ $CO_2$ , HCN, $H_2$ , and $H_2$ O. CO and OH are absent from the spectrum.The dust is dominated by large $\\sim$ 4 $\\mum$ size amorphous silicates ($MgSiO_3$ ). We infer a small dust mass fraction ( $>$ 10 $\\%$ ) of 5 $\\mum$ size crystalline forsterite. We do not detect polycyclic aromatic hydrocarbons. The mid-infrared spectrum of $\\chaha$ 1 shows the most diverse chemistry seen to date in a BD protoplanetary disk, consisting of a strong dust feature, 12 carbon-bearing molecules plus $H_2$ , and water. The diverse molecular environment offers a unique opportunity to test our understanding of BD disks chemistry and how it affects the possible planets forming in them.\n",
       "\n",
       "</div>\n",
       "\n",
       "<div id=\"div_fig1\">\n",
       "\n",
       "<img src=\"tmp_2508.05155/./Figures/models_large_zoom.png\" alt=\"Fig12\" width=\"100%\"/>\n",
       "\n",
       "**Figure 12. -** $\\chaha$1 spectrum, with the JWST-MIRI continuum subtracted data (black) compared to the stacked emission from the slab models for $C_2$$H_2$ + $^{13}$$CCH_2$, HCN, $CO_2$ + $^{13}$$CO_2$, $C_6$$H_6$, $C_3$$H_4$, $C_4$$H_2$, $C_2$$H_4$, $C_2$$H_6$, $CH_4$, $H_2$O, and $CH_3$. The parameters of the slab models shown can be found in Table \\ref{Tab:molecules} and  \\ref{Tab:App:molecules}. The $H_2$ lines are also marked. Horizontal lines represent the windows in which the $\\chi^2$ for each fitting has been evaluated. Note that the y axis are different for each panel. (*Fig:models*)\n",
       "\n",
       "</div>\n",
       "<div id=\"div_fig2\">\n",
       "\n",
       "<img src=\"tmp_2508.05155/./Figures/Xis.png\" alt=\"Fig11\" width=\"100%\"/>\n",
       "\n",
       "**Figure 11. -** $\\chi^2$ maps for HCN, $CO_2$ +  $^{13}$$CO_2$, $C_6$$H_6$, $C_2$$H_4$, $C_2$$H_6$, $CH_4$, and  water. The color scale shows the $\\chi^2_{min}$/$\\chi^2$. The best fit model ($\\chi^2_{min}$/$\\chi^2$ = 1) is marked with a red circle. A red contour denotes the emitting region radius as listed in Table \\ref{Tab:molecules}. Gray contours show the emitting radii in au while white contours represent the 1$\\sigma$, 2$\\sigma$, and 3$\\sigma$ levels.\n",
       " (*Fig:xis*)\n",
       "\n",
       "</div>\n",
       "<div id=\"div_fig3\">\n",
       "\n",
       "<img src=\"tmp_2508.05155/./Figures/BandsOffsets_v2.png\" alt=\"Fig1\" width=\"100%\"/>\n",
       "\n",
       "**Figure 1. -** MIRI $\\chaha$1 reduced spectra. Blue, yellow, and red colors denote the SHORT, MEDIUM and LONG bands respectively for each channel of the ddither approach.  The gray line shows the sdither reduction and the blue spectrum is the final flux-corrected one in Ch. 4. The green line corresponds to the Spitzer $\\chaha$1 low resolution spectrum obtained from CASSIS \\citep{Lebouteiller11}. (*Fig:spec*)\n",
       "\n",
       "</div><div id=\"qrcode\"><img src=https://api.qrserver.com/v1/create-qr-code/?size=100x100&data=\"https://arxiv.org/abs/2508.05155\"></div>"
      ],
      "text/plain": [
       "<IPython.core.display.Markdown object>"
      ]
     },
     "metadata": {},
     "output_type": "display_data"
    }
   ],
   "source": [
    "[display(Markdown(k[1])) for k in documents];"
   ]
  },
  {
   "cell_type": "markdown",
   "id": "873873a4",
   "metadata": {
    "papermill": {
     "duration": 0.004218,
     "end_time": "2025-08-08T04:36:51.575085",
     "exception": false,
     "start_time": "2025-08-08T04:36:51.570867",
     "status": "completed"
    },
    "tags": []
   },
   "source": [
    "# Create HTML index"
   ]
  },
  {
   "cell_type": "code",
   "execution_count": 10,
   "id": "cf665672",
   "metadata": {
    "execution": {
     "iopub.execute_input": "2025-08-08T04:36:51.584425Z",
     "iopub.status.busy": "2025-08-08T04:36:51.584167Z",
     "iopub.status.idle": "2025-08-08T04:36:51.591536Z",
     "shell.execute_reply": "2025-08-08T04:36:51.591003Z"
    },
    "papermill": {
     "duration": 0.013089,
     "end_time": "2025-08-08T04:36:51.592474",
     "exception": false,
     "start_time": "2025-08-08T04:36:51.579385",
     "status": "completed"
    },
    "tags": []
   },
   "outputs": [
    {
     "name": "stdout",
     "output_type": "stream",
     "text": [
      "135  publications files modified in the last 7 days.\n"
     ]
    }
   ],
   "source": [
    "from datetime import datetime, timedelta, timezone\n",
    "from glob import glob\n",
    "import os\n",
    "\n",
    "files = glob('_build/html/*.md')\n",
    "days = 7\n",
    "now = datetime.today()\n",
    "res = []\n",
    "for fk in files:\n",
    "    stat_result = os.stat(fk).st_ctime\n",
    "    modified = datetime.fromtimestamp(stat_result, tz=timezone.utc).replace(tzinfo=None)\n",
    "    delta = now.today() - modified\n",
    "    if delta <= timedelta(days=days):\n",
    "        res.append((delta.seconds, fk))\n",
    "res = [k[1] for k in reversed(sorted(res, key=lambda x:x[1]))]\n",
    "npub = len(res)\n",
    "print(len(res), f\" publications files modified in the last {days:d} days.\")\n",
    "# [ print('\\t', k) for k in res ];"
   ]
  },
  {
   "cell_type": "code",
   "execution_count": 11,
   "id": "015de740",
   "metadata": {
    "execution": {
     "iopub.execute_input": "2025-08-08T04:36:51.601857Z",
     "iopub.status.busy": "2025-08-08T04:36:51.601674Z",
     "iopub.status.idle": "2025-08-08T04:36:51.614016Z",
     "shell.execute_reply": "2025-08-08T04:36:51.613366Z"
    },
    "papermill": {
     "duration": 0.018179,
     "end_time": "2025-08-08T04:36:51.615055",
     "exception": false,
     "start_time": "2025-08-08T04:36:51.596876",
     "status": "completed"
    },
    "tags": []
   },
   "outputs": [
    {
     "name": "stdout",
     "output_type": "stream",
     "text": [
      "10  publications in the last 7 days.\n"
     ]
    }
   ],
   "source": [
    "import datetime\n",
    "from glob import glob\n",
    "\n",
    "def get_last_n_days(lst, days=1):\n",
    "    \"\"\" Get the documents from the last n days \"\"\"\n",
    "    sorted_lst = sorted(lst, key=lambda x: x[1], reverse=True)\n",
    "    for fname, date in sorted_lst:\n",
    "        if date >= str(datetime.date.today() - datetime.timedelta(days=days)):\n",
    "            yield fname\n",
    "\n",
    "def extract_appearance_dates(lst_file):\n",
    "    dates = []\n",
    "\n",
    "    def get_date(line):\n",
    "        return line\\\n",
    "            .split('Appeared on:')[-1]\\\n",
    "            .split('</mark>')[0].strip()\n",
    "\n",
    "    for fname in lst:\n",
    "        with open(fname, 'r') as f:\n",
    "            found_date = False\n",
    "            for line in f:\n",
    "                if not found_date:\n",
    "                    if \"Appeared on\" in line:\n",
    "                        found_date = True\n",
    "                        dates.append((fname, get_date(line)))\n",
    "                else:\n",
    "                    break\n",
    "    return dates\n",
    "\n",
    "from glob import glob\n",
    "lst = glob('_build/html/*md')\n",
    "days = 7\n",
    "dates = extract_appearance_dates(lst)\n",
    "res = list(get_last_n_days(dates, days))\n",
    "npub = len(res)\n",
    "print(len(res), f\" publications in the last {days:d} days.\")"
   ]
  },
  {
   "cell_type": "code",
   "execution_count": 12,
   "id": "52ca0208",
   "metadata": {
    "execution": {
     "iopub.execute_input": "2025-08-08T04:36:51.624635Z",
     "iopub.status.busy": "2025-08-08T04:36:51.624388Z",
     "iopub.status.idle": "2025-08-08T04:36:51.629043Z",
     "shell.execute_reply": "2025-08-08T04:36:51.628503Z"
    },
    "papermill": {
     "duration": 0.010589,
     "end_time": "2025-08-08T04:36:51.630011",
     "exception": false,
     "start_time": "2025-08-08T04:36:51.619422",
     "status": "completed"
    },
    "scrolled": false,
    "tags": []
   },
   "outputs": [],
   "source": [
    "def create_carousel(npub=4):\n",
    "    \"\"\" Generate the HTML code for a carousel with `npub` slides \"\"\"\n",
    "    carousel = [\"\"\"  <div class=\"carousel\" \"\"\",\n",
    "                \"\"\"       data-flickity='{ \"autoPlay\": 10000, \"adaptiveHeight\": true, \"resize\": true, \"wrapAround\": true, \"pauseAutoPlayOnHover\": true, \"groupCells\": 1 }' id=\"asyncTypeset\">\"\"\"\n",
    "                ]\n",
    "    \n",
    "    item_str = \"\"\"    <div class=\"carousel-cell\"> <div id=\"slide{k}\" class=\"md_view\">Content {k}</div> </div>\"\"\"\n",
    "    for k in range(1, npub + 1):\n",
    "        carousel.append(item_str.format(k=k))\n",
    "    carousel.append(\"  </div>\")\n",
    "    return '\\n'.join(carousel)\n",
    "\n",
    "def create_grid(npub=4):\n",
    "    \"\"\" Generate the HTML code for a flat grid with `npub` slides \"\"\"\n",
    "    grid = [\"\"\"  <div class=\"grid\"> \"\"\",\n",
    "                ]\n",
    "    \n",
    "    item_str = \"\"\"    <div class=\"grid-item\"> <div id=\"slide{k}\" class=\"md_view\">Content {k}</div> </div>\"\"\"\n",
    "    for k in range(1, npub + 1):\n",
    "        grid.append(item_str.format(k=k))\n",
    "    grid.append(\"  </div>\")\n",
    "    return '\\n'.join(grid)"
   ]
  },
  {
   "cell_type": "code",
   "execution_count": 13,
   "id": "a6eac5b6",
   "metadata": {
    "execution": {
     "iopub.execute_input": "2025-08-08T04:36:51.639485Z",
     "iopub.status.busy": "2025-08-08T04:36:51.639216Z",
     "iopub.status.idle": "2025-08-08T04:36:51.644208Z",
     "shell.execute_reply": "2025-08-08T04:36:51.643561Z"
    },
    "papermill": {
     "duration": 0.010817,
     "end_time": "2025-08-08T04:36:51.645214",
     "exception": false,
     "start_time": "2025-08-08T04:36:51.634397",
     "status": "completed"
    },
    "scrolled": false,
    "tags": []
   },
   "outputs": [],
   "source": [
    "carousel = create_carousel(npub)\n",
    "docs = ', '.join(['\"{0:s}\"'.format(k.split('/')[-1]) for k in res])\n",
    "slides = ', '.join([f'\"slide{k}\"' for k in range(1, npub + 1)])\n",
    "\n",
    "with open(\"daily_template.html\", \"r\") as tpl:\n",
    "    page = tpl.read()\n",
    "    page = page.replace(\"{%-- carousel:s --%}\", carousel)\\\n",
    "               .replace(\"{%-- suptitle:s --%}\",  \"7-day archives\" )\\\n",
    "               .replace(\"{%-- docs:s --%}\", docs)\\\n",
    "               .replace(\"{%-- slides:s --%}\", slides)\n",
    "    \n",
    "with open(\"_build/html/index_7days.html\", 'w') as fout:\n",
    "    fout.write(page)"
   ]
  },
  {
   "cell_type": "code",
   "execution_count": 14,
   "id": "adc1a1ec",
   "metadata": {
    "execution": {
     "iopub.execute_input": "2025-08-08T04:36:51.654691Z",
     "iopub.status.busy": "2025-08-08T04:36:51.654510Z",
     "iopub.status.idle": "2025-08-08T04:36:51.660342Z",
     "shell.execute_reply": "2025-08-08T04:36:51.659777Z"
    },
    "papermill": {
     "duration": 0.011689,
     "end_time": "2025-08-08T04:36:51.661340",
     "exception": false,
     "start_time": "2025-08-08T04:36:51.649651",
     "status": "completed"
    },
    "tags": []
   },
   "outputs": [
    {
     "name": "stdout",
     "output_type": "stream",
     "text": [
      "4  publications in the last day.\n"
     ]
    }
   ],
   "source": [
    "# redo for today\n",
    "days = 1\n",
    "res = list(get_last_n_days(dates, days))\n",
    "npub = len(res)\n",
    "print(len(res), f\" publications in the last day.\")\n",
    "\n",
    "carousel = create_carousel(npub)\n",
    "docs = ', '.join(['\"{0:s}\"'.format(k.split('/')[-1]) for k in res])\n",
    "slides = ', '.join([f'\"slide{k}\"' for k in range(1, npub + 1)])\n",
    "\n",
    "with open(\"daily_template.html\", \"r\") as tpl:\n",
    "    page = tpl.read()\n",
    "    page = page.replace(\"{%-- carousel:s --%}\", carousel)\\\n",
    "               .replace(\"{%-- suptitle:s --%}\",  \"Daily\" )\\\n",
    "               .replace(\"{%-- docs:s --%}\", docs)\\\n",
    "               .replace(\"{%-- slides:s --%}\", slides)\n",
    "    \n",
    "# print(carousel, docs, slides)\n",
    "# print(page)\n",
    "with open(\"_build/html/index_daily.html\", 'w') as fout:\n",
    "    fout.write(page)"
   ]
  },
  {
   "cell_type": "code",
   "execution_count": 15,
   "id": "00eece82",
   "metadata": {
    "execution": {
     "iopub.execute_input": "2025-08-08T04:36:51.671183Z",
     "iopub.status.busy": "2025-08-08T04:36:51.670972Z",
     "iopub.status.idle": "2025-08-08T04:36:51.677396Z",
     "shell.execute_reply": "2025-08-08T04:36:51.676718Z"
    },
    "papermill": {
     "duration": 0.012508,
     "end_time": "2025-08-08T04:36:51.678434",
     "exception": false,
     "start_time": "2025-08-08T04:36:51.665926",
     "status": "completed"
    },
    "scrolled": false,
    "tags": []
   },
   "outputs": [
    {
     "name": "stdout",
     "output_type": "stream",
     "text": [
      "6  6 publications selected.\n"
     ]
    }
   ],
   "source": [
    "# Create the flat grid of the last N papers (fixed number regardless of dates)\n",
    "from itertools import islice \n",
    "\n",
    "npub = 6\n",
    "res = [k[0] for k in (islice(reversed(sorted(dates, key=lambda x: x[1])), 6))]\n",
    "print(len(res), f\" {npub} publications selected.\")\n",
    "\n",
    "grid = create_grid(npub)\n",
    "docs = ', '.join(['\"{0:s}\"'.format(k.split('/')[-1]) for k in res])\n",
    "slides = ', '.join([f'\"slide{k}\"' for k in range(1, npub + 1)])\n",
    "\n",
    "with open(\"grid_template.html\", \"r\") as tpl:\n",
    "    page = tpl.read()\n",
    "    page = page.replace(\"{%-- grid-content:s --%}\", grid)\\\n",
    "               .replace(\"{%-- suptitle:s --%}\",  f\"Last {npub:,d} papers\" )\\\n",
    "               .replace(\"{%-- docs:s --%}\", docs)\\\n",
    "               .replace(\"{%-- slides:s --%}\", slides)\n",
    "    \n",
    "# print(grid, docs, slides)\n",
    "# print(page)\n",
    "with open(\"_build/html/index_npub_grid.html\", 'w') as fout:\n",
    "    fout.write(page)"
   ]
  }
 ],
 "metadata": {
  "kernelspec": {
   "display_name": "Python 3 (ipykernel)",
   "language": "python",
   "name": "python3"
  },
  "language_info": {
   "codemirror_mode": {
    "name": "ipython",
    "version": 3
   },
   "file_extension": ".py",
   "mimetype": "text/x-python",
   "name": "python",
   "nbconvert_exporter": "python",
   "pygments_lexer": "ipython3",
   "version": "3.9.23"
  },
  "papermill": {
   "default_parameters": {},
   "duration": 32.940433,
   "end_time": "2025-08-08T04:36:51.899479",
   "environment_variables": {},
   "exception": null,
   "input_path": "MPIA daily digest.ipynb",
   "output_path": "log.ipynb",
   "parameters": {},
   "start_time": "2025-08-08T04:36:18.959046",
   "version": "2.6.0"
  },
  "vscode": {
   "interpreter": {
    "hash": "aee8b7b246df8f9039afb4144a1f6fd8d2ca17a180786b69acc140d282b71a49"
   }
  },
  "widgets": {
   "application/vnd.jupyter.widget-state+json": {
    "state": {
     "09e0e8ad309849f38c5c4288506a0966": {
      "model_module": "@jupyter-widgets/controls",
      "model_module_version": "2.0.0",
      "model_name": "HBoxModel",
      "state": {
       "_dom_classes": [],
       "_model_module": "@jupyter-widgets/controls",
       "_model_module_version": "2.0.0",
       "_model_name": "HBoxModel",
       "_view_count": null,
       "_view_module": "@jupyter-widgets/controls",
       "_view_module_version": "2.0.0",
       "_view_name": "HBoxView",
       "box_style": "",
       "children": [
        "IPY_MODEL_82172a979a9141de9dda796403393e07",
        "IPY_MODEL_2fce7b00a2a849f1ad96c95f7de12e35",
        "IPY_MODEL_542171250c8d489aae822306b963d34a"
       ],
       "layout": "IPY_MODEL_98486c79507d4699a2c89260c96ce045",
       "tabbable": null,
       "tooltip": null
      }
     },
     "1c0508aedd5d4fd8a2cb62a48aaca2ff": {
      "model_module": "@jupyter-widgets/controls",
      "model_module_version": "2.0.0",
      "model_name": "HTMLStyleModel",
      "state": {
       "_model_module": "@jupyter-widgets/controls",
       "_model_module_version": "2.0.0",
       "_model_name": "HTMLStyleModel",
       "_view_count": null,
       "_view_module": "@jupyter-widgets/base",
       "_view_module_version": "2.0.0",
       "_view_name": "StyleView",
       "background": null,
       "description_width": "",
       "font_size": null,
       "text_color": null
      }
     },
     "2fce7b00a2a849f1ad96c95f7de12e35": {
      "model_module": "@jupyter-widgets/controls",
      "model_module_version": "2.0.0",
      "model_name": "FloatProgressModel",
      "state": {
       "_dom_classes": [],
       "_model_module": "@jupyter-widgets/controls",
       "_model_module_version": "2.0.0",
       "_model_name": "FloatProgressModel",
       "_view_count": null,
       "_view_module": "@jupyter-widgets/controls",
       "_view_module_version": "2.0.0",
       "_view_name": "ProgressView",
       "bar_style": "success",
       "description": "",
       "description_allow_html": false,
       "layout": "IPY_MODEL_e64f8376aa154b029c93c9a0f1b559b4",
       "max": 3.0,
       "min": 0.0,
       "orientation": "horizontal",
       "style": "IPY_MODEL_a111341eb9214ba3b8ce9242110e80cc",
       "tabbable": null,
       "tooltip": null,
       "value": 3.0
      }
     },
     "542171250c8d489aae822306b963d34a": {
      "model_module": "@jupyter-widgets/controls",
      "model_module_version": "2.0.0",
      "model_name": "HTMLModel",
      "state": {
       "_dom_classes": [],
       "_model_module": "@jupyter-widgets/controls",
       "_model_module_version": "2.0.0",
       "_model_name": "HTMLModel",
       "_view_count": null,
       "_view_module": "@jupyter-widgets/controls",
       "_view_module_version": "2.0.0",
       "_view_name": "HTMLView",
       "description": "",
       "description_allow_html": false,
       "layout": "IPY_MODEL_9e7b71feba774f189ab78ce6416b09d9",
       "placeholder": "​",
       "style": "IPY_MODEL_1c0508aedd5d4fd8a2cb62a48aaca2ff",
       "tabbable": null,
       "tooltip": null,
       "value": " 3/3 [00:10&lt;00:00,  4.18s/it]"
      }
     },
     "7226b434c3c844e687408940fa332d94": {
      "model_module": "@jupyter-widgets/controls",
      "model_module_version": "2.0.0",
      "model_name": "HTMLStyleModel",
      "state": {
       "_model_module": "@jupyter-widgets/controls",
       "_model_module_version": "2.0.0",
       "_model_name": "HTMLStyleModel",
       "_view_count": null,
       "_view_module": "@jupyter-widgets/base",
       "_view_module_version": "2.0.0",
       "_view_name": "StyleView",
       "background": null,
       "description_width": "",
       "font_size": null,
       "text_color": null
      }
     },
     "82172a979a9141de9dda796403393e07": {
      "model_module": "@jupyter-widgets/controls",
      "model_module_version": "2.0.0",
      "model_name": "HTMLModel",
      "state": {
       "_dom_classes": [],
       "_model_module": "@jupyter-widgets/controls",
       "_model_module_version": "2.0.0",
       "_model_name": "HTMLModel",
       "_view_count": null,
       "_view_module": "@jupyter-widgets/controls",
       "_view_module_version": "2.0.0",
       "_view_name": "HTMLView",
       "description": "",
       "description_allow_html": false,
       "layout": "IPY_MODEL_efedf14b7b9f4bf38a6b8886f62036da",
       "placeholder": "​",
       "style": "IPY_MODEL_7226b434c3c844e687408940fa332d94",
       "tabbable": null,
       "tooltip": null,
       "value": "100%"
      }
     },
     "98486c79507d4699a2c89260c96ce045": {
      "model_module": "@jupyter-widgets/base",
      "model_module_version": "2.0.0",
      "model_name": "LayoutModel",
      "state": {
       "_model_module": "@jupyter-widgets/base",
       "_model_module_version": "2.0.0",
       "_model_name": "LayoutModel",
       "_view_count": null,
       "_view_module": "@jupyter-widgets/base",
       "_view_module_version": "2.0.0",
       "_view_name": "LayoutView",
       "align_content": null,
       "align_items": null,
       "align_self": null,
       "border_bottom": null,
       "border_left": null,
       "border_right": null,
       "border_top": null,
       "bottom": null,
       "display": null,
       "flex": null,
       "flex_flow": null,
       "grid_area": null,
       "grid_auto_columns": null,
       "grid_auto_flow": null,
       "grid_auto_rows": null,
       "grid_column": null,
       "grid_gap": null,
       "grid_row": null,
       "grid_template_areas": null,
       "grid_template_columns": null,
       "grid_template_rows": null,
       "height": null,
       "justify_content": null,
       "justify_items": null,
       "left": null,
       "margin": null,
       "max_height": null,
       "max_width": null,
       "min_height": null,
       "min_width": null,
       "object_fit": null,
       "object_position": null,
       "order": null,
       "overflow": null,
       "padding": null,
       "right": null,
       "top": null,
       "visibility": null,
       "width": null
      }
     },
     "9e7b71feba774f189ab78ce6416b09d9": {
      "model_module": "@jupyter-widgets/base",
      "model_module_version": "2.0.0",
      "model_name": "LayoutModel",
      "state": {
       "_model_module": "@jupyter-widgets/base",
       "_model_module_version": "2.0.0",
       "_model_name": "LayoutModel",
       "_view_count": null,
       "_view_module": "@jupyter-widgets/base",
       "_view_module_version": "2.0.0",
       "_view_name": "LayoutView",
       "align_content": null,
       "align_items": null,
       "align_self": null,
       "border_bottom": null,
       "border_left": null,
       "border_right": null,
       "border_top": null,
       "bottom": null,
       "display": null,
       "flex": null,
       "flex_flow": null,
       "grid_area": null,
       "grid_auto_columns": null,
       "grid_auto_flow": null,
       "grid_auto_rows": null,
       "grid_column": null,
       "grid_gap": null,
       "grid_row": null,
       "grid_template_areas": null,
       "grid_template_columns": null,
       "grid_template_rows": null,
       "height": null,
       "justify_content": null,
       "justify_items": null,
       "left": null,
       "margin": null,
       "max_height": null,
       "max_width": null,
       "min_height": null,
       "min_width": null,
       "object_fit": null,
       "object_position": null,
       "order": null,
       "overflow": null,
       "padding": null,
       "right": null,
       "top": null,
       "visibility": null,
       "width": null
      }
     },
     "a111341eb9214ba3b8ce9242110e80cc": {
      "model_module": "@jupyter-widgets/controls",
      "model_module_version": "2.0.0",
      "model_name": "ProgressStyleModel",
      "state": {
       "_model_module": "@jupyter-widgets/controls",
       "_model_module_version": "2.0.0",
       "_model_name": "ProgressStyleModel",
       "_view_count": null,
       "_view_module": "@jupyter-widgets/base",
       "_view_module_version": "2.0.0",
       "_view_name": "StyleView",
       "bar_color": null,
       "description_width": ""
      }
     },
     "e64f8376aa154b029c93c9a0f1b559b4": {
      "model_module": "@jupyter-widgets/base",
      "model_module_version": "2.0.0",
      "model_name": "LayoutModel",
      "state": {
       "_model_module": "@jupyter-widgets/base",
       "_model_module_version": "2.0.0",
       "_model_name": "LayoutModel",
       "_view_count": null,
       "_view_module": "@jupyter-widgets/base",
       "_view_module_version": "2.0.0",
       "_view_name": "LayoutView",
       "align_content": null,
       "align_items": null,
       "align_self": null,
       "border_bottom": null,
       "border_left": null,
       "border_right": null,
       "border_top": null,
       "bottom": null,
       "display": null,
       "flex": null,
       "flex_flow": null,
       "grid_area": null,
       "grid_auto_columns": null,
       "grid_auto_flow": null,
       "grid_auto_rows": null,
       "grid_column": null,
       "grid_gap": null,
       "grid_row": null,
       "grid_template_areas": null,
       "grid_template_columns": null,
       "grid_template_rows": null,
       "height": null,
       "justify_content": null,
       "justify_items": null,
       "left": null,
       "margin": null,
       "max_height": null,
       "max_width": null,
       "min_height": null,
       "min_width": null,
       "object_fit": null,
       "object_position": null,
       "order": null,
       "overflow": null,
       "padding": null,
       "right": null,
       "top": null,
       "visibility": null,
       "width": null
      }
     },
     "efedf14b7b9f4bf38a6b8886f62036da": {
      "model_module": "@jupyter-widgets/base",
      "model_module_version": "2.0.0",
      "model_name": "LayoutModel",
      "state": {
       "_model_module": "@jupyter-widgets/base",
       "_model_module_version": "2.0.0",
       "_model_name": "LayoutModel",
       "_view_count": null,
       "_view_module": "@jupyter-widgets/base",
       "_view_module_version": "2.0.0",
       "_view_name": "LayoutView",
       "align_content": null,
       "align_items": null,
       "align_self": null,
       "border_bottom": null,
       "border_left": null,
       "border_right": null,
       "border_top": null,
       "bottom": null,
       "display": null,
       "flex": null,
       "flex_flow": null,
       "grid_area": null,
       "grid_auto_columns": null,
       "grid_auto_flow": null,
       "grid_auto_rows": null,
       "grid_column": null,
       "grid_gap": null,
       "grid_row": null,
       "grid_template_areas": null,
       "grid_template_columns": null,
       "grid_template_rows": null,
       "height": null,
       "justify_content": null,
       "justify_items": null,
       "left": null,
       "margin": null,
       "max_height": null,
       "max_width": null,
       "min_height": null,
       "min_width": null,
       "object_fit": null,
       "object_position": null,
       "order": null,
       "overflow": null,
       "padding": null,
       "right": null,
       "top": null,
       "visibility": null,
       "width": null
      }
     }
    },
    "version_major": 2,
    "version_minor": 0
   }
  }
 },
 "nbformat": 4,
 "nbformat_minor": 5
}