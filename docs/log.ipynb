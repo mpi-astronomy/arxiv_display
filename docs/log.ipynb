{
 "cells": [
  {
   "cell_type": "markdown",
   "id": "92bcb855",
   "metadata": {
    "papermill": {
     "duration": 0.005607,
     "end_time": "2022-09-09T05:04:41.438241",
     "exception": false,
     "start_time": "2022-09-09T05:04:41.432634",
     "status": "completed"
    },
    "tags": []
   },
   "source": [
    "# MPIA Arxiv on Deck 2\n",
    "\n",
    "Contains the steps to produce the paper extractions."
   ]
  },
  {
   "cell_type": "code",
   "execution_count": 1,
   "id": "3a0d6e11",
   "metadata": {
    "execution": {
     "iopub.execute_input": "2022-09-09T05:04:41.449065Z",
     "iopub.status.busy": "2022-09-09T05:04:41.448678Z",
     "iopub.status.idle": "2022-09-09T05:04:41.651529Z",
     "shell.execute_reply": "2022-09-09T05:04:41.650466Z"
    },
    "papermill": {
     "duration": 0.211251,
     "end_time": "2022-09-09T05:04:41.654091",
     "exception": false,
     "start_time": "2022-09-09T05:04:41.442840",
     "status": "completed"
    },
    "tags": []
   },
   "outputs": [],
   "source": [
    "# Imports\n",
    "import os\n",
    "from IPython.display import Markdown, display\n",
    "from tqdm.notebook import tqdm\n",
    "import warnings\n",
    "from PIL import Image \n",
    "\n",
    "# requires arxiv_on_deck_2\n",
    "\n",
    "from arxiv_on_deck_2.arxiv2 import (get_new_papers, \n",
    "                                    get_paper_from_identifier,\n",
    "                                    retrieve_document_source, \n",
    "                                    get_markdown_badge)\n",
    "from arxiv_on_deck_2 import (latex, \n",
    "                             mpia,\n",
    "                             highlight_authors_in_list)\n",
    "\n",
    "# Sometimes images are really big\n",
    "Image.MAX_IMAGE_PIXELS = 1000000000 "
   ]
  },
  {
   "cell_type": "code",
   "execution_count": 2,
   "id": "22aa9d44",
   "metadata": {
    "execution": {
     "iopub.execute_input": "2022-09-09T05:04:41.665507Z",
     "iopub.status.busy": "2022-09-09T05:04:41.664889Z",
     "iopub.status.idle": "2022-09-09T05:04:41.670722Z",
     "shell.execute_reply": "2022-09-09T05:04:41.669872Z"
    },
    "papermill": {
     "duration": 0.013698,
     "end_time": "2022-09-09T05:04:41.672641",
     "exception": false,
     "start_time": "2022-09-09T05:04:41.658943",
     "status": "completed"
    },
    "tags": []
   },
   "outputs": [],
   "source": [
    "# Some useful definitions.\n",
    "\n",
    "class AffiliationWarning(UserWarning):\n",
    "    pass\n",
    "\n",
    "class AffiliationError(RuntimeError):\n",
    "    pass\n",
    "\n",
    "def validation(source: str):\n",
    "    \"\"\"Raises error paper during parsing of source file\n",
    "    \n",
    "    Allows checks before parsing TeX code.\n",
    "    \n",
    "    Raises AffiliationWarning\n",
    "    \"\"\"\n",
    "    check = mpia.affiliation_verifications(source, verbose=True)\n",
    "    if check is not True:\n",
    "        raise AffiliationError(\"mpia.affiliation_verifications: \" + check)\n",
    "\n",
    "        \n",
    "warnings.simplefilter('always', AffiliationWarning)"
   ]
  },
  {
   "cell_type": "code",
   "execution_count": 3,
   "id": "14622700",
   "metadata": {
    "execution": {
     "iopub.execute_input": "2022-09-09T05:04:41.682999Z",
     "iopub.status.busy": "2022-09-09T05:04:41.682291Z",
     "iopub.status.idle": "2022-09-09T05:04:41.687075Z",
     "shell.execute_reply": "2022-09-09T05:04:41.686184Z"
    },
    "papermill": {
     "duration": 0.01253,
     "end_time": "2022-09-09T05:04:41.689432",
     "exception": false,
     "start_time": "2022-09-09T05:04:41.676902",
     "status": "completed"
    },
    "tags": []
   },
   "outputs": [],
   "source": [
    "# additional CSS to consider. \n",
    "# TODO: Current into each exported file. \n",
    "#       This should be set once into the webpages directly.\n",
    "#       With only the class/id definitions in the .md files.\n",
    "\n",
    "debug_html = \"\"\"\n",
    "<style>\n",
    "#wrap{ overflow:auto; }\n",
    "#fig1{ background:yellow; width:100%; float:left; padding:5px;  }\n",
    "#fig2{ background:red; width:50%; float:left; clear:left; padding:5px;  }\n",
    "#fig3{ background:green; width:50%; float:left; padding:5px;   }\n",
    ".macros{ background:yellow; visibility:visible;}\n",
    "h1 {margin: 0 0 0 0;}\n",
    "mark {background-color:#fff3b6;}\n",
    "img {object-fit:contain; max-height:250px; display:inline-block; text-align: center;}\n",
    "</style>\n",
    "\"\"\" \n",
    "html = \"\"\"\n",
    "<style>\n",
    "#wrap{ overflow:auto; }\n",
    "#fig1{ width:100%; float:left; padding: 5px;  }\n",
    "#fig2{ width:50%; float:left; clear:left; padding: 5px;  }\n",
    "#fig3{ width:50%; float:left; padding: 5px;  }\n",
    ".macros{ visibility:hidden; height:0px; }\n",
    "h1 {margin: 0em 0 0 0;}\n",
    "mark {background-color:#fff3b6;}\n",
    "img {object-fit:contain; max-height:250px; display:inline-block; text-align: center;}\n",
    "</style>\n",
    "\"\"\""
   ]
  },
  {
   "cell_type": "markdown",
   "id": "14bd6310",
   "metadata": {
    "papermill": {
     "duration": 0.004523,
     "end_time": "2022-09-09T05:04:41.698426",
     "exception": false,
     "start_time": "2022-09-09T05:04:41.693903",
     "status": "completed"
    },
    "tags": []
   },
   "source": [
    "## get list of arxiv paper candidates\n",
    "\n",
    "We use the MPIA mitarbeiter list webpage from mpia.de to get author names\n",
    "We then get all new papers from Arxiv and match authors"
   ]
  },
  {
   "cell_type": "code",
   "execution_count": 4,
   "id": "2645e73a",
   "metadata": {
    "execution": {
     "iopub.execute_input": "2022-09-09T05:04:41.710021Z",
     "iopub.status.busy": "2022-09-09T05:04:41.709767Z",
     "iopub.status.idle": "2022-09-09T05:05:08.852235Z",
     "shell.execute_reply": "2022-09-09T05:05:08.851278Z"
    },
    "papermill": {
     "duration": 27.14993,
     "end_time": "2022-09-09T05:05:08.854246",
     "exception": false,
     "start_time": "2022-09-09T05:04:41.704316",
     "status": "completed"
    },
    "tags": []
   },
   "outputs": [
    {
     "name": "stdout",
     "output_type": "stream",
     "text": [
      "Arxiv has 60 new papers today\n",
      "          16 with possible author matches\n"
     ]
    }
   ],
   "source": [
    "# get list from MPIA website\n",
    "# it automatically filters identified non-scientists :func:`mpia.filter_non_scientists`\n",
    "mpia_authors = mpia.get_mpia_mitarbeiter_list()\n",
    "new_papers = get_new_papers()\n",
    "# add manual references\n",
    "add_paper_refs = []\n",
    "new_papers.extend([get_paper_from_identifier(k) for k in add_paper_refs])\n",
    "\n",
    "# select only papers with matching author names and highlight authors\n",
    "hl_list = [k[0] for k in mpia_authors]\n",
    "\n",
    "candidates = []\n",
    "for paperk in new_papers:\n",
    "    hl_authors = highlight_authors_in_list(paperk['authors'], hl_list)\n",
    "    matches = [(hl, orig) for hl, orig in zip(hl_authors, paperk['authors']) if 'mark' in hl]\n",
    "    paperk['authors'] = hl_authors\n",
    "    if matches:\n",
    "        candidates.append(paperk)\n",
    "print(\"\"\"Arxiv has {0:,d} new papers today\"\"\".format(len(new_papers)))        \n",
    "print(\"\"\"          {0:,d} with possible author matches\"\"\".format(len(candidates)))"
   ]
  },
  {
   "cell_type": "markdown",
   "id": "3543b34a",
   "metadata": {
    "papermill": {
     "duration": 0.004874,
     "end_time": "2022-09-09T05:05:08.864445",
     "exception": false,
     "start_time": "2022-09-09T05:05:08.859571",
     "status": "completed"
    },
    "tags": []
   },
   "source": [
    "# Parse sources and generate relevant outputs\n",
    "\n",
    "From the candidates, we do the following steps:\n",
    "* get their tarball from ArXiv (and extract data)\n",
    "* find the main .tex file: find one with \\documentclass{...} (sometimes it's non trivial)\n",
    "* Check affiliations with :func:`validation`, which uses :func:`mpia.affiliation_verifications`\n",
    "* If passing the affiliations: we parse the .tex source\n",
    "   * inject sub-documents into the main (flatten the main document)\n",
    "   * parse structure, extract information (title, abstract, authors, figures...)\n",
    "   * handles `\\graphicspath` if provided\n",
    "* Generate the .md document."
   ]
  },
  {
   "cell_type": "code",
   "execution_count": 5,
   "id": "9576b79e",
   "metadata": {
    "execution": {
     "iopub.execute_input": "2022-09-09T05:05:08.875563Z",
     "iopub.status.busy": "2022-09-09T05:05:08.875224Z",
     "iopub.status.idle": "2022-09-09T05:07:07.782487Z",
     "shell.execute_reply": "2022-09-09T05:07:07.780269Z"
    },
    "papermill": {
     "duration": 118.91533,
     "end_time": "2022-09-09T05:07:07.784464",
     "exception": false,
     "start_time": "2022-09-09T05:05:08.869134",
     "status": "completed"
    },
    "scrolled": false,
    "tags": []
   },
   "outputs": [
    {
     "data": {
      "application/vnd.jupyter.widget-view+json": {
       "model_id": "b3a043a430ad41c2b592070dba8a823a",
       "version_major": 2,
       "version_minor": 0
      },
      "text/plain": [
       "  0%|          | 0/15 [00:00<?, ?it/s]"
      ]
     },
     "metadata": {},
     "output_type": "display_data"
    },
    {
     "name": "stdout",
     "output_type": "stream",
     "text": [
      "Retrieving document from  https://arxiv.org/e-print/2209.03348\n"
     ]
    },
    {
     "name": "stdout",
     "output_type": "stream",
     "text": [
      "extracting tarball to tmp_2209.03348..."
     ]
    },
    {
     "name": "stdout",
     "output_type": "stream",
     "text": [
      " done.\n",
      "Retrieving document from  https://arxiv.org/e-print/2209.03364\n"
     ]
    },
    {
     "name": "stdout",
     "output_type": "stream",
     "text": [
      "extracting tarball to tmp_2209.03364..."
     ]
    },
    {
     "name": "stdout",
     "output_type": "stream",
     "text": [
      " done.\n",
      "Retrieving document from  https://arxiv.org/e-print/2209.03367\n"
     ]
    },
    {
     "name": "stdout",
     "output_type": "stream",
     "text": [
      "extracting tarball to tmp_2209.03367..."
     ]
    },
    {
     "name": "stdout",
     "output_type": "stream",
     "text": [
      " done.\n"
     ]
    },
    {
     "name": "stdout",
     "output_type": "stream",
     "text": [
      "Retrieving document from  https://arxiv.org/e-print/2209.03374\n"
     ]
    },
    {
     "name": "stdout",
     "output_type": "stream",
     "text": [
      "extracting tarball to tmp_2209.03374..."
     ]
    },
    {
     "name": "stdout",
     "output_type": "stream",
     "text": [
      " done.\n",
      "Retrieving document from  https://arxiv.org/e-print/2209.03380\n"
     ]
    },
    {
     "name": "stderr",
     "output_type": "stream",
     "text": [
      "/opt/hostedtoolcache/Python/3.9.13/x64/lib/python3.9/site-packages/IPython/core/interactiveshell.py:3378: LatexWarning: Multiple tex files.\n",
      "\n",
      "  exec(code_obj, self.user_global_ns, self.user_ns)\n",
      "/opt/hostedtoolcache/Python/3.9.13/x64/lib/python3.9/site-packages/IPython/core/interactiveshell.py:3378: LatexWarning: Found documentclass in tmp_2209.03374/00_main.tex\n",
      "\n",
      "  exec(code_obj, self.user_global_ns, self.user_ns)\n",
      "/opt/hostedtoolcache/Python/3.9.13/x64/lib/python3.9/site-packages/arxiv_on_deck_2/latex.py:292: LatexWarning: Latex injecting: '10_append' from 'tmp_2209.03374/10_append.tex'\n",
      "  warnings.warn(LatexWarning(f\"Latex injecting: '{ext}' from '{subsource}'\"))\n",
      "/opt/hostedtoolcache/Python/3.9.13/x64/lib/python3.9/site-packages/arxiv_on_deck_2/latex.py:292: LatexWarning: Latex injecting: '06_sum' from 'tmp_2209.03374/06_sum.tex'\n",
      "  warnings.warn(LatexWarning(f\"Latex injecting: '{ext}' from '{subsource}'\"))\n",
      "/opt/hostedtoolcache/Python/3.9.13/x64/lib/python3.9/site-packages/arxiv_on_deck_2/latex.py:292: LatexWarning: Latex injecting: '05_vol' from 'tmp_2209.03374/05_vol.tex'\n",
      "  warnings.warn(LatexWarning(f\"Latex injecting: '{ext}' from '{subsource}'\"))\n",
      "/opt/hostedtoolcache/Python/3.9.13/x64/lib/python3.9/site-packages/arxiv_on_deck_2/latex.py:292: LatexWarning: Latex injecting: '04_disc' from 'tmp_2209.03374/04_disc.tex'\n",
      "  warnings.warn(LatexWarning(f\"Latex injecting: '{ext}' from '{subsource}'\"))\n",
      "/opt/hostedtoolcache/Python/3.9.13/x64/lib/python3.9/site-packages/arxiv_on_deck_2/latex.py:292: LatexWarning: Latex injecting: '03_result' from 'tmp_2209.03374/03_result.tex'\n",
      "  warnings.warn(LatexWarning(f\"Latex injecting: '{ext}' from '{subsource}'\"))\n",
      "/opt/hostedtoolcache/Python/3.9.13/x64/lib/python3.9/site-packages/arxiv_on_deck_2/latex.py:292: LatexWarning: Latex injecting: '02_obs' from 'tmp_2209.03374/02_obs.tex'\n",
      "  warnings.warn(LatexWarning(f\"Latex injecting: '{ext}' from '{subsource}'\"))\n",
      "/opt/hostedtoolcache/Python/3.9.13/x64/lib/python3.9/site-packages/arxiv_on_deck_2/latex.py:292: LatexWarning: Latex injecting: '01_intro' from 'tmp_2209.03374/01_intro.tex'\n",
      "  warnings.warn(LatexWarning(f\"Latex injecting: '{ext}' from '{subsource}'\"))\n"
     ]
    },
    {
     "name": "stdout",
     "output_type": "stream",
     "text": [
      "extracting tarball to tmp_2209.03380..."
     ]
    },
    {
     "name": "stdout",
     "output_type": "stream",
     "text": [
      " done.\n",
      "Retrieving document from  https://arxiv.org/e-print/2209.03385\n"
     ]
    },
    {
     "name": "stdout",
     "output_type": "stream",
     "text": [
      "extracting tarball to tmp_2209.03385..."
     ]
    },
    {
     "name": "stdout",
     "output_type": "stream",
     "text": [
      " done.\n",
      "Retrieving document from  https://arxiv.org/e-print/2209.03417\n"
     ]
    },
    {
     "name": "stderr",
     "output_type": "stream",
     "text": [
      "/opt/hostedtoolcache/Python/3.9.13/x64/lib/python3.9/site-packages/IPython/core/interactiveshell.py:3378: LatexWarning: Multiple tex files.\n",
      "\n",
      "  exec(code_obj, self.user_global_ns, self.user_ns)\n",
      "/opt/hostedtoolcache/Python/3.9.13/x64/lib/python3.9/site-packages/IPython/core/interactiveshell.py:3378: LatexWarning: Found documentclass in tmp_2209.03385/ms.tex\n",
      "\n",
      "  exec(code_obj, self.user_global_ns, self.user_ns)\n"
     ]
    },
    {
     "name": "stdout",
     "output_type": "stream",
     "text": [
      "extracting tarball to tmp_2209.03417..."
     ]
    },
    {
     "name": "stdout",
     "output_type": "stream",
     "text": [
      " done.\n",
      "Retrieving document from  https://arxiv.org/e-print/2209.03419\n"
     ]
    },
    {
     "name": "stderr",
     "output_type": "stream",
     "text": [
      "/opt/hostedtoolcache/Python/3.9.13/x64/lib/python3.9/site-packages/IPython/core/interactiveshell.py:3378: LatexWarning: Multiple tex files.\n",
      "\n",
      "  exec(code_obj, self.user_global_ns, self.user_ns)\n",
      "/opt/hostedtoolcache/Python/3.9.13/x64/lib/python3.9/site-packages/IPython/core/interactiveshell.py:3378: LatexWarning: Found documentclass in tmp_2209.03417/sunburst_Sharon22_arXiv.tex\n",
      "\n",
      "  exec(code_obj, self.user_global_ns, self.user_ns)\n",
      "/opt/hostedtoolcache/Python/3.9.13/x64/lib/python3.9/site-packages/arxiv_on_deck_2/latex.py:292: LatexWarning: Latex injecting: 'clumpdist' from 'tmp_2209.03417/clumpdist.tex'\n",
      "  warnings.warn(LatexWarning(f\"Latex injecting: '{ext}' from '{subsource}'\"))\n",
      "/opt/hostedtoolcache/Python/3.9.13/x64/lib/python3.9/site-packages/arxiv_on_deck_2/latex.py:292: LatexWarning: Latex injecting: 'planckarc_arcs' from 'tmp_2209.03417/planckarc_arcs.tex'\n",
      "  warnings.warn(LatexWarning(f\"Latex injecting: '{ext}' from '{subsource}'\"))\n",
      "/opt/hostedtoolcache/Python/3.9.13/x64/lib/python3.9/site-packages/arxiv_on_deck_2/latex.py:292: LatexWarning: Latex injecting: 'planckarc_arc1_mag' from 'tmp_2209.03417/planckarc_arc1_mag.tex'\n",
      "  warnings.warn(LatexWarning(f\"Latex injecting: '{ext}' from '{subsource}'\"))\n"
     ]
    },
    {
     "name": "stdout",
     "output_type": "stream",
     "text": [
      "extracting tarball to tmp_2209.03419..."
     ]
    },
    {
     "name": "stdout",
     "output_type": "stream",
     "text": [
      " done.\n",
      "Retrieving document from  https://arxiv.org/e-print/2209.03439\n"
     ]
    },
    {
     "name": "stdout",
     "output_type": "stream",
     "text": [
      "extracting tarball to tmp_2209.03439..."
     ]
    },
    {
     "name": "stdout",
     "output_type": "stream",
     "text": [
      " done.\n",
      "Retrieving document from  https://arxiv.org/e-print/2209.03459\n"
     ]
    },
    {
     "name": "stdout",
     "output_type": "stream",
     "text": [
      "extracting tarball to tmp_2209.03459..."
     ]
    },
    {
     "name": "stdout",
     "output_type": "stream",
     "text": [
      " done.\n",
      "Retrieving document from  https://arxiv.org/e-print/2209.03502\n"
     ]
    },
    {
     "name": "stdout",
     "output_type": "stream",
     "text": [
      "extracting tarball to tmp_2209.03502..."
     ]
    },
    {
     "name": "stdout",
     "output_type": "stream",
     "text": [
      " done.\n",
      "Retrieving document from  https://arxiv.org/e-print/2209.03545\n"
     ]
    },
    {
     "name": "stderr",
     "output_type": "stream",
     "text": [
      "/opt/hostedtoolcache/Python/3.9.13/x64/lib/python3.9/site-packages/IPython/core/interactiveshell.py:3378: LatexWarning: Multiple tex files.\n",
      "\n",
      "  exec(code_obj, self.user_global_ns, self.user_ns)\n",
      "/opt/hostedtoolcache/Python/3.9.13/x64/lib/python3.9/site-packages/IPython/core/interactiveshell.py:3378: LatexWarning: Found documentclass in tmp_2209.03502/natbib.tex\n",
      "\n",
      "  exec(code_obj, self.user_global_ns, self.user_ns)\n"
     ]
    },
    {
     "name": "stdout",
     "output_type": "stream",
     "text": [
      "extracting tarball to tmp_2209.03545... done.\n",
      "Retrieving document from  https://arxiv.org/e-print/2209.03585\n"
     ]
    },
    {
     "name": "stdout",
     "output_type": "stream",
     "text": [
      "extracting tarball to tmp_2209.03585..."
     ]
    },
    {
     "name": "stdout",
     "output_type": "stream",
     "text": [
      " done.\n",
      "Retrieving document from  https://arxiv.org/e-print/2209.03809\n"
     ]
    },
    {
     "name": "stderr",
     "output_type": "stream",
     "text": [
      "/opt/hostedtoolcache/Python/3.9.13/x64/lib/python3.9/site-packages/IPython/core/interactiveshell.py:3378: LatexWarning: Multiple tex files.\n",
      "\n",
      "  exec(code_obj, self.user_global_ns, self.user_ns)\n",
      "/opt/hostedtoolcache/Python/3.9.13/x64/lib/python3.9/site-packages/IPython/core/interactiveshell.py:3378: LatexWarning: Found documentclass in tmp_2209.03585/main.tex\n",
      "\n",
      "  exec(code_obj, self.user_global_ns, self.user_ns)\n",
      "/opt/hostedtoolcache/Python/3.9.13/x64/lib/python3.9/site-packages/arxiv_on_deck_2/latex.py:292: LatexWarning: Latex injecting: 'authors' from 'tmp_2209.03585/authors.tex'\n",
      "  warnings.warn(LatexWarning(f\"Latex injecting: '{ext}' from '{subsource}'\"))\n"
     ]
    },
    {
     "name": "stdout",
     "output_type": "stream",
     "text": [
      "extracting tarball to tmp_2209.03809..."
     ]
    },
    {
     "name": "stdout",
     "output_type": "stream",
     "text": [
      " done.\n",
      "Retrieving document from  https://arxiv.org/e-print/2209.03886\n"
     ]
    },
    {
     "name": "stderr",
     "output_type": "stream",
     "text": [
      "/opt/hostedtoolcache/Python/3.9.13/x64/lib/python3.9/site-packages/IPython/core/interactiveshell.py:3378: LatexWarning: Multiple tex files.\n",
      "\n",
      "  exec(code_obj, self.user_global_ns, self.user_ns)\n",
      "/opt/hostedtoolcache/Python/3.9.13/x64/lib/python3.9/site-packages/IPython/core/interactiveshell.py:3378: LatexWarning: Found documentclass in tmp_2209.03809/template.tex\n",
      "\n",
      "  exec(code_obj, self.user_global_ns, self.user_ns)\n"
     ]
    },
    {
     "name": "stdout",
     "output_type": "stream",
     "text": [
      "extracting tarball to tmp_2209.03886..."
     ]
    },
    {
     "name": "stdout",
     "output_type": "stream",
     "text": [
      " done.\n"
     ]
    },
    {
     "name": "stderr",
     "output_type": "stream",
     "text": [
      "/tmp/ipykernel_2191/4030337529.py:34: LatexWarning: 2209.03886 did not run properly\n",
      "[Errno 2] No such file or directory: 'gs'\n",
      "  warnings.warn(latex.LatexWarning(f\"{paper_id:s} did not run properly\\n\" +\n"
     ]
    }
   ],
   "source": [
    "documents = []\n",
    "failed = []\n",
    "for paper in tqdm(candidates[:-1]):\n",
    "    paper_id = paper['identifier'].lower().replace('arxiv:', '')\n",
    "    \n",
    "    folder = f'tmp_{paper_id}'\n",
    "\n",
    "    try:\n",
    "        if not os.path.isdir(folder):\n",
    "            folder = retrieve_document_source(f\"{paper_id}\", f'tmp_{paper_id}')\n",
    "        \n",
    "        try:\n",
    "            doc = latex.LatexDocument(folder, validation=validation)    \n",
    "        except AffiliationError as affilerror:\n",
    "            msg = f\"ArXiv:{paper_id:s} is not an MPIA paper... \" + str(affilerror)\n",
    "            failed.append((paper, \"affiliation error: \" + str(affilerror) ))\n",
    "            continue\n",
    "        \n",
    "        # Hack because sometimes author parsing does not work well\n",
    "        if (len(doc.authors) != len(paper['authors'])):\n",
    "            doc._authors = paper['authors']\n",
    "        if (doc.abstract) in (None, ''):\n",
    "            doc._abstract = paper['abstract']\n",
    "            \n",
    "        doc.comment = (get_markdown_badge(paper_id) + \n",
    "                       \"<mark>Appeared on: \" + paper['date'] + \"</mark> - \" +\n",
    "                       \"_\" + paper['comments'] + \"_\")\n",
    "        doc.highlight_authors_in_list(hl_list)\n",
    "\n",
    "        full_md = doc.generate_markdown_text()\n",
    "        \n",
    "        documents.append((paper_id, full_md))\n",
    "    except Exception as e:\n",
    "        warnings.warn(latex.LatexWarning(f\"{paper_id:s} did not run properly\\n\" +\n",
    "                                         str(e)\n",
    "                                        ))\n",
    "        failed.append((paper, \"latex error \" + str(e)))"
   ]
  },
  {
   "cell_type": "markdown",
   "id": "2505a25c",
   "metadata": {
    "papermill": {
     "duration": 0.007201,
     "end_time": "2022-09-09T05:07:07.799046",
     "exception": false,
     "start_time": "2022-09-09T05:07:07.791845",
     "status": "completed"
    },
    "tags": []
   },
   "source": [
    "### Export the logs\n",
    "\n",
    "Throughout, we also keep track of the logs per paper. see `logs-{today date}.md` "
   ]
  },
  {
   "cell_type": "code",
   "execution_count": 6,
   "id": "d733828a",
   "metadata": {
    "execution": {
     "iopub.execute_input": "2022-09-09T05:07:07.814689Z",
     "iopub.status.busy": "2022-09-09T05:07:07.814152Z",
     "iopub.status.idle": "2022-09-09T05:07:07.851365Z",
     "shell.execute_reply": "2022-09-09T05:07:07.850387Z"
    },
    "papermill": {
     "duration": 0.052766,
     "end_time": "2022-09-09T05:07:07.858545",
     "exception": false,
     "start_time": "2022-09-09T05:07:07.805779",
     "status": "completed"
    },
    "scrolled": false,
    "tags": []
   },
   "outputs": [
    {
     "data": {
      "text/markdown": [
       "## Successful papers"
      ],
      "text/plain": [
       "<IPython.core.display.Markdown object>"
      ]
     },
     "metadata": {},
     "output_type": "display_data"
    },
    {
     "data": {
      "text/markdown": [
       "\n",
       "|||\n",
       "|---:|:---|\n",
       "| [![arXiv](https://img.shields.io/badge/arXiv-arXiv:2209.03367-b31b1b.svg)](https://arxiv.org/abs/arXiv:2209.03367) | **Discovery of Line Pressure Broadening and Direct Constraint on Gas  Surface Density in a Protoplanetary Disk**  |\n",
       "|| Tomohiro C. Yoshida, et al. -- incl., <mark>Takahiro Ueda</mark> |\n",
       "|*Appeared on*| *2022-09-09*|\n",
       "|*Comments*| *12 pages, 5 figures, accepted for publication in ApJL*|\n",
       "|**Abstract**| The gas surface density profile of protoplanetary disks is one of the most fundamental physical properties to understand planet formation. However, it is challenging to determine the surface density profile observationally, because the H$_2$ emission cannot be observed in low-temperature regions. We analyzed the Atacama Large Millimeter/submillimeter Array (ALMA) archival data of the \\co line toward the protoplanetary disk around TW Hya and discovered extremely broad line wings due to the pressure broadening. In conjunction with a previously reported optically thin CO isotopologue line, the pressure broadened line wings enabled us to directly determine the midplane gas density for the first time. The gas surface density at $\\sim5$ au from the central star reaches $\\sim 10^3\\ {\\rm g\\ cm^{-2}}$, which suggests that the inner region of the disk has enough mass to form a Jupiter-mass planet. Additionally, the gas surface density drops at the inner cavity by $\\sim2$ orders of magnitude compared to outside the cavity. We also found a low CO abundance of $\\sim 10^{-6}$ with respect to H$_2$, even inside the CO snowline, which suggests conversion of CO to less volatile species. Combining our results with previous studies, the gas surface density jumps at $r\\sim 20$ au, suggesting that the inner region ($3<r<20$ au) might be the magnetorotational instability dead zone. This study sheds light on direct gas-surface-density constraint without assuming the CO/H$_2$ ratio using ALMA. |"
      ],
      "text/plain": [
       "[arXiv:2209.03367] Discovery of Line Pressure Broadening and Direct Constraint on Gas  Surface Density in a Protoplanetary Disk\n",
       "\tTomohiro C. Yoshida, et al. -- incl., <mark>Takahiro Ueda</mark>"
      ]
     },
     "metadata": {},
     "output_type": "display_data"
    },
    {
     "data": {
      "text/markdown": [
       "## Failed papers"
      ],
      "text/plain": [
       "<IPython.core.display.Markdown object>"
      ]
     },
     "metadata": {},
     "output_type": "display_data"
    },
    {
     "data": {
      "text/markdown": [
       "\n",
       "|||\n",
       "|---:|:---|\n",
       "| [![arXiv](https://img.shields.io/badge/arXiv-arXiv:2209.03585-b31b1b.svg)](https://arxiv.org/abs/arXiv:2209.03585) | **A Spectroscopic Road Map for Cosmic Frontier: DESI, DESI-II, Stage-5**  |\n",
       "|| David J. Schlegel, et al. -- incl., <mark>Joseph DeRose</mark>, <mark>Daniel Green</mark>, <mark>Dustin Lang</mark> |\n",
       "|*Appeared on*| *2022-09-09*|\n",
       "|*Comments*| *Contribution to Snowmass 2021*|\n",
       "|**Abstract**| In this white paper, we present an experimental road map for spectroscopic experiments beyond DESI. DESI will be a transformative cosmological survey in the 2020s, mapping 40 million galaxies and quasars and capturing a significant fraction of the available linear modes up to z=1.2. DESI-II will pilot observations of galaxies both at much higher densities and extending to higher redshifts. A Stage-5 experiment would build out those high-density and high-redshift observations, mapping hundreds of millions of stars and galaxies in three dimensions, to address the problems of inflation, dark energy, light relativistic species, and dark matter. These spectroscopic data will also complement the next generation of weak lensing, line intensity mapping and CMB experiments and allow them to reach their full potential. |\n",
       "|<p style=\"color:green\"> **ERROR** </p>| <p style=\"color:green\">affiliation error: mpia.affiliation_verifications: '69117' keyword not found.</p> |"
      ],
      "text/plain": [
       "<IPython.core.display.Markdown object>"
      ]
     },
     "metadata": {},
     "output_type": "display_data"
    },
    {
     "data": {
      "text/markdown": [
       "\n",
       "|||\n",
       "|---:|:---|\n",
       "| [![arXiv](https://img.shields.io/badge/arXiv-arXiv:2209.03348-b31b1b.svg)](https://arxiv.org/abs/arXiv:2209.03348) | **The JWST Resolved Stellar Populations Early Release Science Program I.:  NIRCam Flux Calibration**  |\n",
       "|| Martha L. Boyer, et al. -- incl., <mark>Benjamin F. Williams</mark> |\n",
       "|*Appeared on*| *2022-09-09*|\n",
       "|*Comments*| *Accepted for publication in RNAAS*|\n",
       "|**Abstract**| We use globular cluster data from the Resolved Stellar Populations Early Release Science (ERS) program to validate the flux calibration for the Near Infrared Camera (NIRCam) on the James Webb Space Telescope (JWST). We find a significant flux offset between the eight short wavelength detectors, ranging from 1-23% (about 0.01-0.2 mag) that affects all NIRCam imaging observations. We deliver improved zeropoints for the ERS filters and show that alternate zeropoints derived by the community also improve the calibration significantly. We also find that the detector offsets appear to be time variable by up to at least 0.1 mag. |\n",
       "|<p style=\"color:green\"> **ERROR** </p>| <p style=\"color:green\">affiliation error: mpia.affiliation_verifications: 'Heidelberg' keyword not found.</p> |"
      ],
      "text/plain": [
       "<IPython.core.display.Markdown object>"
      ]
     },
     "metadata": {},
     "output_type": "display_data"
    },
    {
     "data": {
      "text/markdown": [
       "\n",
       "|||\n",
       "|---:|:---|\n",
       "| [![arXiv](https://img.shields.io/badge/arXiv-arXiv:2209.03364-b31b1b.svg)](https://arxiv.org/abs/arXiv:2209.03364) | **Stellar Bars in Isolated Gas-Rich Spiral Galaxies Do Not Slow Down**  |\n",
       "|| Angus Beane, et al. -- incl., <mark>Lars Hernquist</mark> |\n",
       "|*Appeared on*| *2022-09-09*|\n",
       "|*Comments*| *12 pages, 13 figures, submitted to MNRAS; comments welcome*|\n",
       "|**Abstract**| Elongated bar-like features are ubiquitous in galaxies, occurring at the centers of approximately two-thirds of spiral disks. Due to gravitational interactions between the bar and the other components of galaxies, it is expected that angular momentum and matter will redistribute over long (Gyr) timescales in barred galaxies. Previous work ignoring the gas phase of galaxies has conclusively demonstrated that bars should slow their rotation over time due to their interaction with dark matter halos. We have performed a simulation of a Milky Way-like galactic disk hosting a strong bar which includes a state-of-the-art model of the interstellar medium and a live dark matter halo. In this simulation the bar pattern does not slow down over time, and instead remains at a stable, constant rate of rotation. This behavior has been observed in previous simulations using more simplified models for the interstellar gas, but the apparent lack of secular evolution has remained unexplained. We propose that the gas phase of the disk and the dark matter halo act in concert to stabilize the bar pattern speed and prevent the bar from slowing down or speeding up. We find that in a Milky Way-like disk, a gas fraction of only about 5% is necessary for this mechanism to operate. Our result naturally explains why nearly all observed bars rotate rapidly and is especially relevant for our understanding of how the Milky Way arrived at its present state. |\n",
       "|<p style=\"color:green\"> **ERROR** </p>| <p style=\"color:green\">affiliation error: mpia.affiliation_verifications: 'Heidelberg' keyword not found.</p> |"
      ],
      "text/plain": [
       "<IPython.core.display.Markdown object>"
      ]
     },
     "metadata": {},
     "output_type": "display_data"
    },
    {
     "data": {
      "text/markdown": [
       "\n",
       "|||\n",
       "|---:|:---|\n",
       "| [![arXiv](https://img.shields.io/badge/arXiv-arXiv:2209.03374-b31b1b.svg)](https://arxiv.org/abs/arXiv:2209.03374) | **First Sample of H$α$+[O III] $λ$5007 Line Emitters at $z > 6$  through JWST/NIRCam Slitless Spectroscopy: Physical Properties and Line  Luminosity Functions**  |\n",
       "|| Fengwu Sun, et al. -- incl., <mark>Thomas P. Greene</mark>, <mark>Christina C. Williams</mark> |\n",
       "|*Appeared on*| *2022-09-09*|\n",
       "|*Comments*| *25 pages, 11 figures, submitted to ApJ*|\n",
       "|**Abstract**| We present a sample of four emission-line galaxies at $z=6.11-6.35$ that were serendipitously discovered using the commissioning data for the JWST/NIRCam wide-field slitless spectroscopy (WFSS) mode. One of them (at $z=6.11$) has been reported previously while the others are new discoveries. These sources are selected by the secure detections of both [O III] $\\lambda$5007 and H$\\alpha$ lines with other fainter lines tentatively detected in some cases (e.g., [O II] $\\lambda$3727, [O III] $\\lambda$4959 and [N II] $\\lambda$6583). In the [O III]/H$\\beta$ - [N II]/H$\\alpha$ Baldwin-Phillips-Terlevich diagram, these galaxies occupy the same parameter space as that of $z\\sim2$ star-forming galaxies, indicating that they have been enriched rapidly to sub-solar metallicities ($\\sim$0.6 $Z_{\\odot}$), similar to galaxies with comparable stellar masses at much lower redshifts. The detection of strong H$\\alpha$ lines suggests a higher ionizing photon production efficiency within galaxies in the early Universe. We find brightening of the [O III] $\\lambda$5007 line luminosity function (LF) from $z=3$ to 6, and no or weak redshift evolution of the H$\\alpha$ line LF from $z=2$ to 6. Both LFs are under-predicted at $z\\sim6$ by a factor of $\\sim$10 in certain cosmological simulations. This further indicates a global Ly$\\alpha$ photon escape fraction of 5-7% at $z\\sim6$, much lower than previous estimates through the comparison of the UV-derived star-formation rate density and Ly$\\alpha$ luminosity density. Our sample recovers $88^{+164}_{-57}$% of $z=6.0-6.6$ galaxies in the survey volume with stellar masses greater than $5\\times10^8$ $M_{\\odot}$, suggesting the ubiquity of strong H$\\alpha$ and [O III] line emitters in the Epoch of Reionization, which will be further uncovered in the era of JWST. |\n",
       "|<p style=\"color:green\"> **ERROR** </p>| <p style=\"color:green\">affiliation error: mpia.affiliation_verifications: 'Heidelberg' keyword not found.</p> |"
      ],
      "text/plain": [
       "<IPython.core.display.Markdown object>"
      ]
     },
     "metadata": {},
     "output_type": "display_data"
    },
    {
     "data": {
      "text/markdown": [
       "\n",
       "|||\n",
       "|---:|:---|\n",
       "| [![arXiv](https://img.shields.io/badge/arXiv-arXiv:2209.03380-b31b1b.svg)](https://arxiv.org/abs/arXiv:2209.03380) | **Physics of ULIRGs with MUSE and ALMA: PUMA IV. No tight relation between  cold molecular outflow rates and AGN luminosities**  |\n",
       "|| I. Lamperti, et al. -- incl., <mark>A. Alonso-Herrero</mark> |\n",
       "|*Appeared on*| *2022-09-09*|\n",
       "|*Comments*| *27 pages, 23 figures; Appendix: 49 pages, 41 figures. Accepted for publication in Astronomy & Astrophysics*|\n",
       "|**Abstract**| We study molecular outflows in a sample of 25 nearby (z< 0.17, d<750 Mpc) ULIRG systems (38 individual nuclei) as part of the \"Physics of ULIRGs with MUSE and ALMA\" (PUMA) survey, using ~400 pc (0.1-1.0\" beam FWHM) resolution ALMA CO(2-1) observations. We used a spectro-astrometry analysis to identify high-velocity (> 300 km/s) molecular gas disconnected from the galaxy rotation, which we attribute to outflows. In 77% of the 26 nuclei with $\\log L_{IR}/L_{\\odot}>11.8$, we identifid molecular outflows with an average $v_{out}= 490$ km/s, outflow masses $1-35 \\times 10^7$ $M_{\\odot}$, mass outflow rates $\\dot{M}_{out}=6-300$ $M_{\\odot}$ yr$^{-1}$, mass-loading factors $\\eta = \\dot{M}_{out}/SFR = 0.1-1$, and an average outflow mass escape fraction of 45%. The majority of these outflows (18/20) are spatially resolved with radii of 0.2-0.9 kpc and have short dynamical times ($t_{dyn}=R_{out}/v_{out}$) in the range 0.5-2.8 Myr. The outflow detection rate is higher in nuclei dominated by starbursts (SBs, 14/15=93%) than in active galactic nuclei (AGN, 6/11=55%). Outflows perpendicular to the kinematic major axis are mainly found in interacting SBs. We also find that our sample does not follow the $\\dot{M}_{out}$ versus AGN luminosity relation reported in previous works. In our analysis, we include a sample of nearby main-sequence galaxies (SFR = 0.3-17 $M_{\\odot}$ yr$^{-1}$) with detected molecular outflows from the PHANGS-ALMA survey to increase the $L_{IR}$ dynamic range. Using these two samples, we find a correlation between the outflow velocity and the SFR, as traced by $L_{IR}$ ($v_{out} \\propto SFR^{0.25\\pm0.01})$, which is consistent with what was found for the atomic ionised and neutral phases. Using this correlation, and the relation between $M_{out}/R_{out}$ and $v_{out}$, we conclude that these outflows are likely momentum-driven. |\n",
       "|<p style=\"color:green\"> **ERROR** </p>| <p style=\"color:green\">affiliation error: mpia.affiliation_verifications: 'Heidelberg' keyword not found.</p> |"
      ],
      "text/plain": [
       "<IPython.core.display.Markdown object>"
      ]
     },
     "metadata": {},
     "output_type": "display_data"
    },
    {
     "data": {
      "text/markdown": [
       "\n",
       "|||\n",
       "|---:|:---|\n",
       "| [![arXiv](https://img.shields.io/badge/arXiv-arXiv:2209.03385-b31b1b.svg)](https://arxiv.org/abs/arXiv:2209.03385) | **The locations of features in the mass distribution of merging binary  black holes are robust against uncertainties in the metallicity-dependent  cosmic star formation history**  |\n",
       "|| L. A. C. van Son, et al. -- incl., <mark>L. Hernquist</mark> |\n",
       "|*Appeared on*| *2022-09-09*|\n",
       "|*Comments*| *Submitted to ApJ, made with showyourwork, code available at this https URL*|\n",
       "|**Abstract**| New observational facilities are probing astrophysical transients such as stellar explosions and gravitational wave (GW) sources at ever increasing redshifts, while also revealing new features in source property distributions. To interpret these observations, we need to compare them to predictions from stellar population models. Such models require the metallicity-dependent cosmic star formation history ($\\mathcal{S}(Z,z)$) as an input. Large uncertainties remain in the shape and evolution of this function. In this work, we propose a simple analytical function for $\\mathcal{S}(Z,z)$. Variations of this function can be easily interpreted, because the parameters link to its shape in an intuitive way. We fit our analytical function to the star-forming gas of the cosmological TNG100 simulation and find that it is able to capture the main behaviour well. As an example application, we investigate the effect of systematic variations in the $\\mathcal{S}(Z,z)$ parameters on the predicted mass distribution of locally merging binary black holes (BBH). Our main findings are: I) the locations of features are remarkably robust against variations in the metallicity-dependent cosmic star formation history, and II) the low mass end is least affected by these variations. This is promising as it increases our chances to constrain the physics that governs the formation of these objects. |\n",
       "|<p style=\"color:green\"> **ERROR** </p>| <p style=\"color:green\">affiliation error: mpia.affiliation_verifications: 'Heidelberg' keyword not found.</p> |"
      ],
      "text/plain": [
       "<IPython.core.display.Markdown object>"
      ]
     },
     "metadata": {},
     "output_type": "display_data"
    },
    {
     "data": {
      "text/markdown": [
       "\n",
       "|||\n",
       "|---:|:---|\n",
       "| [![arXiv](https://img.shields.io/badge/arXiv-arXiv:2209.03417-b31b1b.svg)](https://arxiv.org/abs/arXiv:2209.03417) | **The Cosmic Telescope that Lenses the Sunburst Arc, PSZ1 G311.65-18.48:  Strong Gravitational Lensing model and Source Plane Analysis**  |\n",
       "|| Keren Sharon, et al. -- incl., <mark>Guillaume Mahler</mark>, <mark>Soniya Sharma</mark> |\n",
       "|*Appeared on*| *2022-09-09*|\n",
       "|*Comments*| *31 pages, 14 figures, 4 tables. Submitted to ApJ*|\n",
       "|**Abstract**| We present a strong lensing analysis of the cluster PSZ1 G311.65-18.48, based on Hubble Space Telescope imaging, archival VLT/MUSE spectroscopy, and Chandra X-ray data. This cool-core cluster (z=0.443) lenses the brightest lensed galaxy known, dubbed the \"Sunburst Arc\" (z=2.3703), a Lyman continuum (LyC) emitting galaxy multiply-imaged 12 times. We identify in this field 14 additional strongly-lensed galaxies to constrain a strong lens model, and report secure spectroscopic redshifts of four. We measure a projected cluster core mass of M(<250 kpc)=2.93+0.01/-0.02x10^14M_sun. The two least-magnified but complete images of the Sunburst Arc's source galaxy are magnified by ~13x, while the LyC clump is magnified by ~4-80x. We present time delay predictions and conclusive evidence that a discrepant clump in the Sunburst Arc, previously claimed to be a transient, is not variable, thus strengthening the hypothesis that it results from an exceptionally high magnification. A source plane reconstruction and analysis of the Sunburst Arc finds its physical size to be 1x2 kpc, and that it is resolved in three distinct directions in the source plane, 0, 40, and 75 degrees (east of North). We place an upper limit of r <~ 50 pc on the source plane size of unresolved clumps, and r<~ 32 pc for the LyC clump. Finally, we report that the Sunburst Arc is likely in a system of two or more galaxies separated by <~6 kpc in projection. Their interaction may drive star formation and could play a role in the mechanism responsible for the leaking LyC radiation. |\n",
       "|<p style=\"color:green\"> **ERROR** </p>| <p style=\"color:green\">affiliation error: mpia.affiliation_verifications: 'Heidelberg' keyword not found.</p> |"
      ],
      "text/plain": [
       "<IPython.core.display.Markdown object>"
      ]
     },
     "metadata": {},
     "output_type": "display_data"
    },
    {
     "data": {
      "text/markdown": [
       "\n",
       "|||\n",
       "|---:|:---|\n",
       "| [![arXiv](https://img.shields.io/badge/arXiv-arXiv:2209.03419-b31b1b.svg)](https://arxiv.org/abs/arXiv:2209.03419) | **Wideband Direct Detection Constraints on Hidden Photon Dark Matter with  the QUALIPHIDE Experiment**  |\n",
       "|| Karthik Ramanathan, et al. -- incl., <mark>Henry G. LeDuc</mark> |\n",
       "|*Appeared on*| *2022-09-09*|\n",
       "|*Comments*| *6 Pages, 5 figures,*|\n",
       "|**Abstract**| We report direction detection constraints on the presence of hidden photon dark matter with masses between 20-30 ueV using a cryogenic emitter-receiver-amplifier spectroscopy setup designed as the first iteration of QUALIPHIDE (QUantum LImited PHotons In the Dark Experiment). A metallic dish sources conversion photons from hidden photon kinetic mixing onto a horn antenna which is coupled to a C-band kinetic inductance traveling wave parametric amplifier, providing for near quantum-limited noise performance. We demonstrate a first probing of the kinetic mixing parameter \"chi\" to just above 10^-12 for the majority of hidden photon masses in this region. These results not only represent stringent constraints on new dark matter parameter space but are also the first demonstrated use of wideband quantum-limited amplification for astroparticle applications |\n",
       "|<p style=\"color:green\"> **ERROR** </p>| <p style=\"color:green\">affiliation error: mpia.affiliation_verifications: 'Heidelberg' keyword not found.</p> |"
      ],
      "text/plain": [
       "<IPython.core.display.Markdown object>"
      ]
     },
     "metadata": {},
     "output_type": "display_data"
    },
    {
     "data": {
      "text/markdown": [
       "\n",
       "|||\n",
       "|---:|:---|\n",
       "| [![arXiv](https://img.shields.io/badge/arXiv-arXiv:2209.03439-b31b1b.svg)](https://arxiv.org/abs/arXiv:2209.03439) | **Smallest scale clumpy star formation in Stephan's Quintet revealed from  UV and IR imaging**  |\n",
       "|| <mark>P. Joseph</mark>, et al. |\n",
       "|*Appeared on*| *2022-09-09*|\n",
       "|*Comments*| *Accepted in RNAAS, 3 pages, 1 figure, online figures at this https URL*|\n",
       "|**Abstract**| The spatial distribution and physical sizes of star forming clumps at the smallest scales provide valuable information on hierarchical star formation (SF). In this context, we report the sites of ongoing SF at ~120 pc along the interacting galaxies in Stephan's Quintet (SQ) compact group using AstroSat-UVIT and JWST data. Since ultraviolet radiation is a direct tracer of recent SF, we identified star forming clumps in this compact group from the FUV imaging which we used to guide us to detect star forming regions on JWST IR images. The FUV imaging reveals star forming regions within which we detect smaller clumps from the higher spatial resolution images of JWST, likely produced by PAH molecules and dust ionised by FUV emission from young massive stars. This analysis reveals the importance of FUV imaging data in identifying star forming regions in the highest spatial resolution IR imaging available. |\n",
       "|<p style=\"color:green\"> **ERROR** </p>| <p style=\"color:green\">affiliation error: mpia.affiliation_verifications: 'Heidelberg' keyword not found.</p> |"
      ],
      "text/plain": [
       "<IPython.core.display.Markdown object>"
      ]
     },
     "metadata": {},
     "output_type": "display_data"
    },
    {
     "data": {
      "text/markdown": [
       "\n",
       "|||\n",
       "|---:|:---|\n",
       "| [![arXiv](https://img.shields.io/badge/arXiv-arXiv:2209.03459-b31b1b.svg)](https://arxiv.org/abs/arXiv:2209.03459) | **A Bayesian Calibration Framework for EDGES**  |\n",
       "|| Steven G. Murray, et al. -- incl., <mark>Nivedita Mahesh</mark> |\n",
       "|*Appeared on*| *2022-09-09*|\n",
       "|*Comments*| *18 pages + 3 for appendices. 13 figures. Accepted to MNRAS*|\n",
       "|**Abstract**| We develop a Bayesian model that jointly constrains receiver calibration, foregrounds and cosmic 21cm signal for the EDGES global 21\\,cm experiment. This model simultaneously describes calibration data taken in the lab along with sky-data taken with the EDGES low-band antenna. We apply our model to the same data (both sky and calibration) used to report evidence for the first star formation in 2018. We find that receiver calibration does not contribute a significant uncertainty to the inferred cosmic signal (<1%), though our joint model is able to more robustly estimate the cosmic signal for foreground models that are otherwise too inflexible to describe the sky data. We identify the presence of a significant systematic in the calibration data, which is largely avoided in our analysis, but must be examined more closely in future work. Our likelihood provides a foundation for future analyses in which other instrumental systematics, such as beam corrections and reflection parameters, may be added in a modular manner. |\n",
       "|<p style=\"color:green\"> **ERROR** </p>| <p style=\"color:green\">affiliation error: mpia.affiliation_verifications: 'Heidelberg' keyword not found.</p> |"
      ],
      "text/plain": [
       "<IPython.core.display.Markdown object>"
      ]
     },
     "metadata": {},
     "output_type": "display_data"
    },
    {
     "data": {
      "text/markdown": [
       "\n",
       "|||\n",
       "|---:|:---|\n",
       "| [![arXiv](https://img.shields.io/badge/arXiv-arXiv:2209.03502-b31b1b.svg)](https://arxiv.org/abs/arXiv:2209.03502) | **Non-detection of He I in the atmosphere of GJ1214b with Keck/NIRSPEC, at  a time of minimal telluric contamination**  |\n",
       "|| Jessica J. Spake, et al. -- incl., <mark>Heather A. Knutson</mark>, <mark>Michael Zhang</mark> |\n",
       "|*Appeared on*| *2022-09-09*|\n",
       "|*Comments*| *Accepted for publication in ApJL*|\n",
       "|**Abstract**| Observations of helium in exoplanet atmospheres may reveal the presence of large gaseous envelopes, and indicate ongoing atmospheric escape. Orell-Miquel et al. (2022) used CARMENES to measure a tentative detection of helium for the sub-Neptune GJ 1214b, with a peak excess absorption reaching over 2% in transit depth at 10830 Angstroms. However, several non-detections of helium had previously been reported for GJ 1214b. One explanation for the discrepancy was contamination of the planetary signal by overlapping telluric absorption- and emission lines. We used Keck/NIRSPEC to observe another transit of GJ 1214b at 10830 Angstroms, at a time of minimal contamination by telluric lines, and did not observe planetary helium absorption. Accounting for correlated noise in our measurement, we place an upper limit on the excess absorption size of 1.22% (95% confidence). We find that the discrepancy between the CARMENES and NIRSPEC observations is unlikely to be caused by using different instruments or stellar activity. It is currently unclear whether the difference is due to correlated noise in the observations, or variability in the planetary atmosphere. |\n",
       "|<p style=\"color:green\"> **ERROR** </p>| <p style=\"color:green\">affiliation error: mpia.affiliation_verifications: 'Heidelberg' keyword not found.</p> |"
      ],
      "text/plain": [
       "<IPython.core.display.Markdown object>"
      ]
     },
     "metadata": {},
     "output_type": "display_data"
    },
    {
     "data": {
      "text/markdown": [
       "\n",
       "|||\n",
       "|---:|:---|\n",
       "| [![arXiv](https://img.shields.io/badge/arXiv-arXiv:2209.03545-b31b1b.svg)](https://arxiv.org/abs/arXiv:2209.03545) | **Inflationary magnetogenesis of primordial magnetic fields with multiple  vector fields**  |\n",
       "|| Yu Li, <mark>Le-Yao Zhang</mark> |\n",
       "|*Appeared on*| *2022-09-09*|\n",
       "|*Comments*| *16 pages, 0 figure,submitted to JCAP*|\n",
       "|**Abstract**| In this paper, we discussed the multiple vector fields during the inflation era and the inflationary magnetogenesis with multiple vector fields. Instead of a single coupling function in single vector field models, the coupling matrix between vector fields and scalar field which drive the inflation is introduced. The dynamical equations for multiple vector fields are obtained and applied to the inflation era. We discussed three cases for the double-field model. In no mutual-coupling case, one can find that both electric and magnetic spectrum can be scale-invariant at the end of inflation, meanwhile, the strong coupling problem can be avoided. The effect of mutual-coupling between different vector fields is also discussed. We found that weak mutual-coupling can lead to the slightly blue spectrum of the magnetic field. On the other hand, in the strong mutual-coupling case, the scale-invariant magnetic spectrum can also be obtained but the energy density of electromagnetic fields either lead to the backreaction problem or is diluted by inflation. |\n",
       "|<p style=\"color:green\"> **ERROR** </p>| <p style=\"color:green\">affiliation error: mpia.affiliation_verifications: 'Heidelberg' keyword not found.</p> |"
      ],
      "text/plain": [
       "<IPython.core.display.Markdown object>"
      ]
     },
     "metadata": {},
     "output_type": "display_data"
    },
    {
     "data": {
      "text/markdown": [
       "\n",
       "|||\n",
       "|---:|:---|\n",
       "| [![arXiv](https://img.shields.io/badge/arXiv-arXiv:2209.03809-b31b1b.svg)](https://arxiv.org/abs/arXiv:2209.03809) | **A PeVatron Candidate: Modelling the Boomerang Nebula in X-ray Band**  |\n",
       "|| <mark>Xuan-Han Liang</mark>, et al. |\n",
       "|*Appeared on*| *2022-09-09*|\n",
       "|*Comments*| *15 pages, 5 figures, 5 tables; Invited contribution to Special Issue of Universe \"Advances in Astrophysics and Cosmology in China - in Memory of Prof. Tan Lu\"*|\n",
       "|**Abstract**| Pulsar wind nebula (PWN) Boomerang and the associated supernova remnant (SNR) G106.3+2.7 are among candidates for the ultra-high-energy (UHE) gamma-ray counterparts published by LHAASO. Although the centroid of the extended source, LHAASO J2226+6057, deviates from the pulsar's position by about $0.3^\\circ$, the source partially covers the PWN. Therefore, we cannot totally exclude the possibility that a part of the UHE emission comes from the PWN. Previous studies mainly focus on whether the SNR is a PeVatron, while neglecting the energetic PWN. Here, we explore the possibility of the Boomerang Nebula being a PeVatron candidate by studying its X-ray radiation. By modelling the diffusion of relativistic electrons injected in the PWN, we fit the radial profiles of the X-ray surface brightness and the photon index. The solution with a magnetic field $B=140\\mu$G can well reproduce the observed profiles and implies a severe suppression of IC scattering of electrons. Therefore, a proton component need be introduced to account for the UHE emission, in light of recent LHAASO's measurement on Crab Nebula, if future observations reveal part of the UHE emission originating from the PWN. In this sense, Boomerang Nebula would be a hadronic PeVatron. |\n",
       "|<p style=\"color:green\"> **ERROR** </p>| <p style=\"color:green\">affiliation error: mpia.affiliation_verifications: 'Heidelberg' keyword not found.</p> |"
      ],
      "text/plain": [
       "<IPython.core.display.Markdown object>"
      ]
     },
     "metadata": {},
     "output_type": "display_data"
    },
    {
     "data": {
      "text/markdown": [
       "\n",
       "|||\n",
       "|---:|:---|\n",
       "| [![arXiv](https://img.shields.io/badge/arXiv-arXiv:2209.03886-b31b1b.svg)](https://arxiv.org/abs/arXiv:2209.03886) | **Mass Production of 2021 KMTNet Microlensing Planets III: Analysis of  Three Giant Planets**  |\n",
       "|| In-Gu Shin, et al. -- incl., <mark>Andrew Gould</mark>, <mark>Seung-Lee Kim</mark>, <mark>Chung-Uk Lee</mark>, <mark>Dong-Joo Lee</mark>, <mark>Yongseok Lee</mark> |\n",
       "|*Appeared on*| *2022-09-09*|\n",
       "|*Comments*| *16 pages, 11 figures, 7 tables. Submitted to the AAS journal*|\n",
       "|**Abstract**| We present the analysis of three more planets from the KMTNet 2021 microlensing season. KMT-2021-BLG-0119Lb is a $\\sim 6\\, M_{\\rm Jup}$ planet orbiting an early M-dwarf or a K-dwarf, KMT-2021-BLG-0192Lb is a $\\sim 2\\, M_{\\rm Nep}$ planet orbiting an M-dwarf, and KMT-2021-BLG-0192Lb is a $\\sim 1.25\\, M_{\\rm Nep}$ planet orbiting a very--low-mass M dwarf or a brown dwarf. These by-eye planet detections provide an important comparison sample to the sample selected with the AnomalyFinder algorithm, and in particular, KMT-2021-BLG-2294, is a case of a planet detected by-eye but not by-algorithm. KMT-2021-BLG-2294Lb is part of a population of microlensing planets around very-low-mass host stars that spans the full range of planet masses, in contrast to the planet population at $\\lesssim 0.1\\, $ au, which shows a strong preference for small planets. |\n",
       "|<p style=\"color:red\"> **ERROR** </p>| <p style=\"color:red\">latex error [Errno 2] No such file or directory: 'gs'</p> |"
      ],
      "text/plain": [
       "<IPython.core.display.Markdown object>"
      ]
     },
     "metadata": {},
     "output_type": "display_data"
    }
   ],
   "source": [
    "import datetime\n",
    "today = str(datetime.date.today())\n",
    "logfile = f\"_build/html/logs/log-{today}.md\"\n",
    "\n",
    "\n",
    "with open(logfile, 'w') as logs:\n",
    "    # Success\n",
    "    logs.write(f'# Arxiv on Deck 2: Logs - {today}\\n\\n')\n",
    "    logs.write(\"\"\"* Arxiv had {0:,d} new papers\\n\"\"\".format(len(new_papers)))\n",
    "    logs.write(\"\"\"    * {0:,d} with possible author matches\\n\\n\"\"\".format(len(candidates)))\n",
    "    logs.write(\"## Sucessful papers\\n\\n\")\n",
    "    display(Markdown(\"## Successful papers\"))\n",
    "    success = [k[0] for k in documents]\n",
    "    for candid in candidates:\n",
    "        if candid['identifier'].split(':')[-1] in success:\n",
    "            display(candid)\n",
    "            logs.write(candid.generate_markdown_text() + '\\n\\n')\n",
    "\n",
    "    ## failed\n",
    "    logs.write(\"## Failed papers\\n\\n\")\n",
    "    display(Markdown(\"## Failed papers\"))\n",
    "    failed = sorted(failed, key=lambda x: x[1])\n",
    "    current_reason = \"\"\n",
    "    for paper, reason in failed:\n",
    "        if 'affiliation' in reason:\n",
    "            color = 'green'\n",
    "        else:\n",
    "            color = 'red'\n",
    "        data = Markdown(\n",
    "                paper.generate_markdown_text() + \n",
    "                f'\\n|<p style=\"color:{color:s}\"> **ERROR** </p>| <p style=\"color:{color:s}\">{reason:s}</p> |'\n",
    "               )\n",
    "        if reason != current_reason:\n",
    "            logs.write(f'### {reason:s} \\n\\n')\n",
    "            current_reason = reason\n",
    "        logs.write(data.data + '\\n\\n')\n",
    "        \n",
    "        # only display here the important errors (all in logs)\n",
    "        # if color in ('red',):\n",
    "        display(data)"
   ]
  },
  {
   "cell_type": "markdown",
   "id": "472d20ee",
   "metadata": {
    "papermill": {
     "duration": 0.010457,
     "end_time": "2022-09-09T05:07:07.877823",
     "exception": false,
     "start_time": "2022-09-09T05:07:07.867366",
     "status": "completed"
    },
    "tags": []
   },
   "source": [
    "## Export documents\n",
    "\n",
    "We now write the .md files and export relevant images"
   ]
  },
  {
   "cell_type": "code",
   "execution_count": 7,
   "id": "d426aed9",
   "metadata": {
    "execution": {
     "iopub.execute_input": "2022-09-09T05:07:07.898649Z",
     "iopub.status.busy": "2022-09-09T05:07:07.898123Z",
     "iopub.status.idle": "2022-09-09T05:07:07.907166Z",
     "shell.execute_reply": "2022-09-09T05:07:07.906348Z"
    },
    "papermill": {
     "duration": 0.021793,
     "end_time": "2022-09-09T05:07:07.908988",
     "exception": false,
     "start_time": "2022-09-09T05:07:07.887195",
     "status": "completed"
    },
    "tags": []
   },
   "outputs": [],
   "source": [
    "def export_markdown_summary(md: str, md_fname:str, directory: str):\n",
    "    \"\"\"Export MD document and associated relevant images\"\"\"\n",
    "    import os\n",
    "    import shutil\n",
    "    import re\n",
    "\n",
    "    if (os.path.exists(directory) and not os.path.isdir(directory)):\n",
    "        raise RuntimeError(f\"a non-directory file exists with name {directory:s}\")\n",
    "\n",
    "    if (not os.path.exists(directory)):\n",
    "        print(f\"creating directory {directory:s}\")\n",
    "        os.mkdir(directory)\n",
    "\n",
    "    fig_fnames = (re.compile(r'\\[Fig.*\\]\\((.*)\\)').findall(md) + \n",
    "                  re.compile(r'\\<img src=\"([^>\\s]*)\"[^>]*/>').findall(md))\n",
    "    for fname in fig_fnames:\n",
    "        if 'http' in fname:\n",
    "            # No need to copy online figures\n",
    "            continue\n",
    "        destdir = os.path.join(directory, os.path.dirname(fname))\n",
    "        destfname = os.path.join(destdir, os.path.basename(fname))\n",
    "        try:\n",
    "            os.makedirs(destdir)\n",
    "        except FileExistsError:\n",
    "            pass\n",
    "        shutil.copy(fname, destfname)\n",
    "    with open(os.path.join(directory, md_fname), 'w') as fout:\n",
    "        fout.write(md)\n",
    "    print(\"exported in \", os.path.join(directory, md_fname))\n",
    "    [print(\"    + \" + os.path.join(directory,fk)) for fk in fig_fnames]"
   ]
  },
  {
   "cell_type": "code",
   "execution_count": 8,
   "id": "014d04a4",
   "metadata": {
    "execution": {
     "iopub.execute_input": "2022-09-09T05:07:07.930438Z",
     "iopub.status.busy": "2022-09-09T05:07:07.929527Z",
     "iopub.status.idle": "2022-09-09T05:07:07.945473Z",
     "shell.execute_reply": "2022-09-09T05:07:07.944661Z"
    },
    "papermill": {
     "duration": 0.029021,
     "end_time": "2022-09-09T05:07:07.947631",
     "exception": false,
     "start_time": "2022-09-09T05:07:07.918610",
     "status": "completed"
    },
    "tags": []
   },
   "outputs": [
    {
     "name": "stdout",
     "output_type": "stream",
     "text": [
      "exported in  _build/html/2209.03367.md\n",
      "    + _build/html/tmp_2209.03367/./vis_mom_vc.png\n",
      "    + _build/html/tmp_2209.03367/./spectra.png\n",
      "    + _build/html/tmp_2209.03367/./radprof.png\n"
     ]
    }
   ],
   "source": [
    "for paper_id, md in documents:\n",
    "    export_markdown_summary(md, f\"{paper_id:s}.md\", '_build/html/')"
   ]
  },
  {
   "cell_type": "markdown",
   "id": "f087a0a7",
   "metadata": {
    "papermill": {
     "duration": 0.009492,
     "end_time": "2022-09-09T05:07:07.967086",
     "exception": false,
     "start_time": "2022-09-09T05:07:07.957594",
     "status": "completed"
    },
    "tags": []
   },
   "source": [
    "## Display the papers\n",
    "\n",
    "Not necessary but allows for a quick check."
   ]
  },
  {
   "cell_type": "code",
   "execution_count": 9,
   "id": "fd25f625",
   "metadata": {
    "execution": {
     "iopub.execute_input": "2022-09-09T05:07:07.990190Z",
     "iopub.status.busy": "2022-09-09T05:07:07.989281Z",
     "iopub.status.idle": "2022-09-09T05:07:07.997112Z",
     "shell.execute_reply": "2022-09-09T05:07:07.995407Z"
    },
    "papermill": {
     "duration": 0.022955,
     "end_time": "2022-09-09T05:07:07.999561",
     "exception": false,
     "start_time": "2022-09-09T05:07:07.976606",
     "status": "completed"
    },
    "scrolled": false,
    "tags": []
   },
   "outputs": [
    {
     "data": {
      "text/markdown": [
       "<div class=\"macros\" style=\"visibility:hidden;\">\n",
       "$\\newcommand{\\ensuremath}{}$\n",
       "$\\newcommand{\\xspace}{}$\n",
       "$\\newcommand{\\object}[1]{\\texttt{#1}}$\n",
       "$\\newcommand{\\farcs}{{.}''}$\n",
       "$\\newcommand{\\farcm}{{.}'}$\n",
       "$\\newcommand{\\arcsec}{''}$\n",
       "$\\newcommand{\\arcmin}{'}$\n",
       "$\\newcommand{\\ion}[2]{#1#2}$\n",
       "$\\newcommand{\\textsc}[1]{\\textrm{#1}}$\n",
       "$\\newcommand{\\hl}[1]{\\textrm{#1}}$\n",
       "$\\newcommand{\\vdag}{(v)^\\dagger}$\n",
       "$\\newcommand$\n",
       "$\\newcommand$\n",
       "$\\newcommand{\\co}{{\\rm ^{12}CO} J=3-2 }$\n",
       "$\\newcommand{\\kms}{{\\rm km s^{-1}}}$\n",
       "$\\newcommand{\\mJB}{{\\rm mJy {beam}^{-1}}}$\n",
       "$\\newcommand{\\gcmt}{{\\rm g {cm}^{-2}}}$</div>\n",
       "\n",
       "<div class=\"macros\" style=\"visibility:hidden;\">\n",
       "$\\newcommand{$\\ensuremath$}{}$\n",
       "$\\newcommand{$\\xspace$}{}$\n",
       "$\\newcommand{$\\object$}[1]{\\texttt{#1}}$\n",
       "$\\newcommand{$\\farcs$}{{.}''}$\n",
       "$\\newcommand{$\\farcm$}{{.}'}$\n",
       "$\\newcommand{$\\arcsec$}{''}$\n",
       "$\\newcommand{$\\arcmin$}{'}$\n",
       "$\\newcommand{$\\ion$}[2]{#1#2}$\n",
       "$\\newcommand{$\\textsc$}[1]{\\textrm{#1}}$\n",
       "$\\newcommand{$\\hl$}[1]{\\textrm{#1}}$\n",
       "$\\newcommand{$\\vdag$}{(v)^\\dagger}$\n",
       "$\\newcommand$\n",
       "$\\newcommand$\n",
       "$\\newcommand{$\\co$}{{\\rm ^{12}CO} J=3-2 }$\n",
       "$\\newcommand{$\\kms$}{{\\rm km s^{-1}}}$\n",
       "$\\newcommand{$\\mJB$}{{\\rm mJy {beam}^{-1}}}$\n",
       "$\\newcommand{$\\gcmt$}{{\\rm g {cm}^{-2}}}$</div>\n",
       "\n",
       "\n",
       "\n",
       "<div id=\"title\">\n",
       "\n",
       "# Discovery of Line Pressure Broadening and Direct Constraint on Gas Surface Density in a Protoplanetary Disk\n",
       "\n",
       "</div>\n",
       "<div id=\"comments\">\n",
       "\n",
       "[![arXiv](https://img.shields.io/badge/arXiv-2209.03367-b31b1b.svg)](https://arxiv.org/abs/2209.03367)<mark>Appeared on: 2022-09-09</mark> - _12 pages, 5 figures, accepted for publication in ApJL_\n",
       "\n",
       "</div>\n",
       "<div id=\"authors\">\n",
       "\n",
       "Tomohiro C. Yoshida, et al. -- incl., <mark>Takahiro Ueda</mark>\n",
       "\n",
       "</div>\n",
       "<div id=\"abstract\">\n",
       "\n",
       "**Abstract:** The gas surface density profile of protoplanetary disks is one of the most fundamental physical properties to understanding planet formation.However, it is challenging to determine the surface dunsity profile observationally, because the H$_2$emission cannot be observed in low-temperature regions.We analyzed the Atacama Large Millimeter/submillimeter Array (ALMA) archival data of the$\\co$line toward the protoplanetary disk around TW Hya, and discovered extremely broad line wings due to the pressure broadening.In conjunction with a previously reported optically thin CO isotopologue line, the pressure broadened line wings enabled us to directly determine the midplane gas density for the first time.The gas surface density at$\\sim5$au from the{ central star}reaches$\\sim 10^3 {\\rm g cm^{-2}}$, which suggests that the{ inner region of the}disk has enough mass to form a Jupiter-mass planet.{ Additionally, the gas surface density drops at the inner cavity by $\\sim2$ orders of magnitude compared to outside the cavity.}We also found a low CO abundance of$\\sim 10^{-6}$with respect to H$_2$, even inside the CO snowline, which suggests conversion of CO to less volatile species.Combining{ our results with}previous studies, the gas surface density jumps at$r\\sim 20$au, suggesting that the inner region ($3<r<20$au) might be the magnetorotational instability dead zone.This study sheds light on direct gas-surface-density constraint without assuming the CO/H$_2$ratio using ALMA.\n",
       "\n",
       "</div>\n",
       "\n",
       "<div id=\"div_fig1\">\n",
       "\n",
       "<img src=\"tmp_2209.03367/./vis_mom_vc.png\" alt=\"Fig2\" width=\"100%\"/>\n",
       "\n",
       "**Figure 2. -** (a) uv-distance vs. azimuthally averaged complex visibilities (black circles). The green points and gray dotted lines indicate the best-fitted model and the cavity-sized uniform disk model, respectively.\n",
       "    (b) Averaged intensity maps with Briggs weighting (robust = 0) for the red- and blue-shifted line wings in the color scale and the black solid contour with 3 $\\sigma$ and 5 $\\sigma$($\\sigma = 0.38 $\\mJB$$). The maps with natural weighting are shown in Figure \\ref{fig:comparison}.\n",
       "    (c) 233 GHz continuum maps of \\citet{tsuk19}.\n",
       "    (d) Centroid velocity map.\n",
       "    The white dashed circles in panel (b), (c), and (d) indicate the inner cavity radius \\citep{andr16}. The gray solid contour shows the dust continuum emission \\citep{tsuk19}. The contour starts from the brightness temperature of 10 K with an interval of 5 K.\n",
       "    \\label{fig:all} (*fig:all*)\n",
       "\n",
       "</div>\n",
       "<div id=\"div_fig2\">\n",
       "\n",
       "<img src=\"tmp_2209.03367/./spectra.png\" alt=\"Fig1\" width=\"100%\"/>\n",
       "\n",
       "**Figure 1. -**  Integrated spectrum of the $\\co$ line in the $0$\\farcs$ 2$ aperture (black solid line) with the uncertainty (gray shaded area) and a $3\\sigma$ noise level (black dotted line).\n",
       "    The gray dashed line indicates synthetic spectra of the \\citet{huan18} model with a Gaussian line profile, while the green solid line shows the best-fit model results using the Voigt line profile (see Section \\ref{sec:mod}).\n",
       "    Blue- and red-masked ranges are used to create the averaged visibilities for each wing.\n",
       "    $v$ denotes the velocity shift from the systemic velocity.\n",
       "    \\label{fig:spec} (*fig:spec*)\n",
       "\n",
       "</div>\n",
       "<div id=\"div_fig3\">\n",
       "\n",
       "<img src=\"tmp_2209.03367/./radprof.png\" alt=\"Fig5\" width=\"100%\"/>\n",
       "\n",
       "**Figure 5. -** { (a) Radial profiles of the gas surface density. The green solid lines show the best-fit model. The models with parameters randomly selected from the posterior distributions are plotted in light green. The MMSN model and the \\citet{cala21} model are also shown in gray lines.\n",
       "    The gray dotted lines indicate the gas surface density converted from the dust surface density of \\citet{maci21}, assuming a gas-to-dust surface density ratio of 10 and 100. In the right panel, we also show the gas surface density when the Toomre Q equals unity, and the gas surface density profiles starting from $r=10$ au of the best-fit profile with fixing the total gas masses to 0.023 $M_\\odot$ or 0.06 $M_\\odot$.\n",
       "    (b) The $\\alpha$ viscosity parameter for each gas surface density profile, assuming a steady accretion disk. }\\label{fig:radprof} (*fig:radprof*)\n",
       "\n",
       "</div>"
      ],
      "text/plain": [
       "<IPython.core.display.Markdown object>"
      ]
     },
     "metadata": {},
     "output_type": "display_data"
    }
   ],
   "source": [
    "[display(Markdown(k[1])) for k in documents];"
   ]
  },
  {
   "cell_type": "markdown",
   "id": "873873a4",
   "metadata": {
    "papermill": {
     "duration": 0.009923,
     "end_time": "2022-09-09T05:07:08.020973",
     "exception": false,
     "start_time": "2022-09-09T05:07:08.011050",
     "status": "completed"
    },
    "tags": []
   },
   "source": [
    "# Create HTML index"
   ]
  },
  {
   "cell_type": "code",
   "execution_count": 10,
   "id": "cf665672",
   "metadata": {
    "execution": {
     "iopub.execute_input": "2022-09-09T05:07:08.042992Z",
     "iopub.status.busy": "2022-09-09T05:07:08.042308Z",
     "iopub.status.idle": "2022-09-09T05:07:08.053112Z",
     "shell.execute_reply": "2022-09-09T05:07:08.052202Z"
    },
    "papermill": {
     "duration": 0.024304,
     "end_time": "2022-09-09T05:07:08.055107",
     "exception": false,
     "start_time": "2022-09-09T05:07:08.030803",
     "status": "completed"
    },
    "tags": []
   },
   "outputs": [
    {
     "name": "stdout",
     "output_type": "stream",
     "text": [
      "29  publications in the last 7 days.\n",
      "\t _build/html/2209.03367.md\n",
      "\t _build/html/2209.02872.md\n",
      "\t _build/html/2209.02725.md\n",
      "\t _build/html/2209.02722.md\n",
      "\t _build/html/2209.02092.md\n",
      "\t _build/html/2209.01125.md\n",
      "\t _build/html/2209.00828.md\n",
      "\t _build/html/2209.00363.md\n",
      "\t _build/html/2208.14927.md\n",
      "\t _build/html/2208.09335.md\n",
      "\t _build/html/2208.08872.md\n",
      "\t _build/html/2204.06393.md\n",
      "\t _build/html/2204.03335.md\n",
      "\t _build/html/2204.03253.md\n",
      "\t _build/html/2204.02998.md\n",
      "\t _build/html/2204.02109.md\n",
      "\t _build/html/2204.02017.md\n",
      "\t _build/html/2204.01824.md\n",
      "\t _build/html/2204.01758.md\n",
      "\t _build/html/2204.01245.md\n",
      "\t _build/html/2204.00793.md\n",
      "\t _build/html/2204.00342.md\n",
      "\t _build/html/2203.16959.md\n",
      "\t _build/html/2203.16856.md\n",
      "\t _build/html/2203.16735.md\n",
      "\t _build/html/2203.16734.md\n",
      "\t _build/html/2203.16504.md\n",
      "\t _build/html/2203.15822.md\n",
      "\t _build/html/2203.15811.md\n"
     ]
    }
   ],
   "source": [
    "from datetime import datetime, timedelta, timezone\n",
    "from glob import glob\n",
    "\n",
    "files = glob('_build/html/*.md')\n",
    "days = 7\n",
    "now = datetime.today()\n",
    "res = []\n",
    "for fk in files:\n",
    "    stat_result = os.stat(fk).st_ctime\n",
    "    modified = datetime.fromtimestamp(stat_result, tz=timezone.utc).replace(tzinfo=None)\n",
    "    delta = now.today() - modified\n",
    "    if delta <= timedelta(days=days):\n",
    "        res.append((delta.seconds, fk))\n",
    "res = [k[1] for k in reversed(sorted(res, key=lambda x:x[1]))]\n",
    "npub = len(res)\n",
    "print(len(res), f\" publications in the last {days:d} days.\")\n",
    "[ print('\\t', k) for k in res ];"
   ]
  },
  {
   "cell_type": "code",
   "execution_count": 11,
   "id": "52ca0208",
   "metadata": {
    "execution": {
     "iopub.execute_input": "2022-09-09T05:07:08.076532Z",
     "iopub.status.busy": "2022-09-09T05:07:08.076041Z",
     "iopub.status.idle": "2022-09-09T05:07:08.084654Z",
     "shell.execute_reply": "2022-09-09T05:07:08.083735Z"
    },
    "papermill": {
     "duration": 0.021747,
     "end_time": "2022-09-09T05:07:08.086621",
     "exception": false,
     "start_time": "2022-09-09T05:07:08.064874",
     "status": "completed"
    },
    "scrolled": false,
    "tags": []
   },
   "outputs": [],
   "source": [
    "def create_carousel(npub=4):\n",
    "    \"\"\" Generate the HTML code for a carousel with `npub` slides \"\"\"\n",
    "    carousel = [\"\"\"<section class=\"carousel\" aria-label=\"Gallery\">\"\"\",\n",
    "                \"\"\"  <ol class=\"carousel__viewport\">\"\"\",\n",
    "    ]\n",
    "    for k in range(1, npub + 1):\n",
    "        prev_ = k - 1\n",
    "        next_ = k + 1\n",
    "        if prev_ <= 0:\n",
    "            prev_ = npub\n",
    "        if next_ > npub:\n",
    "            next_ = 1\n",
    "        text  = f\"\"\"    <li id=\"carousel__slide{k}\" tabindex=\"0\" class=\"carousel__slide\">\\n\"\"\"\n",
    "        text += f\"\"\"       <div class=\"carousel__snapper\">\\n\"\"\"\n",
    "        text += f\"\"\"         <a href=\"#carousel__slide{prev_}\" class=\"carousel__prev\">Go to previous slide</a>\\n\"\"\"\n",
    "        text += f\"\"\"         <a href=\"#carousel__slide{next_}\" class=\"carousel__next\">Go to next slide</a>\\n\"\"\"\n",
    "        text += f\"\"\"         <div id=\"slide{k}_content\" class=\"md_view\" >Content {k}</div>\\n\"\"\"\n",
    "        text += f\"\"\"       </div>\\n\"\"\"\n",
    "        text += f\"\"\"    </li>\"\"\"\n",
    "        carousel.append(text)\n",
    "\n",
    "    carousel.extend([\n",
    "        \"\"\"  </ol>\"\"\",\n",
    "        \"\"\"  <aside class=\"carousel__navigation\">\"\"\",\n",
    "        \"\"\"    <ol class=\"carousel__navigation-list\">\"\"\"])\n",
    "\n",
    "    for k in range(1, npub + 1):\n",
    "        text  = f\"\"\"      <li class=\"carousel__navigation-item\">\\n\"\"\"\n",
    "        text += f\"\"\"        <a href=\"#carousel__slide{k}\" class=\"carousel__navigation-button\">Go to {k}</a>\\n\"\"\"\n",
    "        text += f\"\"\"      </li>\"\"\"\n",
    "        carousel.append(text)\n",
    "    carousel.extend([\"\"\"    </ol>\"\"\", \"\"\"  </aside>\"\"\", \"\"\"</section>\"\"\"])\n",
    "\n",
    "    return '\\n'.join(carousel)"
   ]
  },
  {
   "cell_type": "code",
   "execution_count": 12,
   "id": "a6eac5b6",
   "metadata": {
    "execution": {
     "iopub.execute_input": "2022-09-09T05:07:08.110315Z",
     "iopub.status.busy": "2022-09-09T05:07:08.109867Z",
     "iopub.status.idle": "2022-09-09T05:07:08.118011Z",
     "shell.execute_reply": "2022-09-09T05:07:08.117098Z"
    },
    "papermill": {
     "duration": 0.023521,
     "end_time": "2022-09-09T05:07:08.120094",
     "exception": false,
     "start_time": "2022-09-09T05:07:08.096573",
     "status": "completed"
    },
    "scrolled": false,
    "tags": []
   },
   "outputs": [],
   "source": [
    "carousel = create_carousel(npub)\n",
    "docs = ', '.join(['\"{0:s}\"'.format(k.split('/')[-1]) for k in res])\n",
    "slides = ', '.join([f'\"slide{k}_content\"' for k in range(1, npub + 1)])\n",
    "\n",
    "script = f\"\"\"\n",
    "const docs = [{docs}]\n",
    "\n",
    "const slides = [{slides}]\n",
    "\"\"\" + \"\"\"\n",
    "async function run() {\n",
    "    for (let i = 0; i < docs.length; i++) {\n",
    "        let file = await fetch(docs[i]);\n",
    "        let text = await file.text()\n",
    "        document.getElementById(slides[i]).innerHTML =\n",
    "            marked.parse(text);\n",
    "    }\n",
    "    hljs.highlightAll();\n",
    "}\n",
    "run()\n",
    "\"\"\"\n",
    "\n",
    "page = f\"\"\"<!doctype html>\n",
    "<html lang=\"en\">\n",
    "\n",
    "<head>\n",
    "  <meta charset=\"utf-8\">\n",
    "  <meta name=\"viewport\" content=\"width=device-width, initial-scale=1\">\n",
    "  <!-- Bootstrap CSS -->\n",
    "  <link href=\"https://cdn.jsdelivr.net/npm/bootstrap@5.0.2/dist/css/bootstrap.min.css\" rel=\"stylesheet\"\n",
    "   integrity=\"sha384-EVSTQN3/azprG1Anm3QDgpJLIm9Nao0Yz1ztcQTwFspd3yD65VohhpuuCOmLASjC\" crossorigin=\"anonymous\">\n",
    "  <!-- highlight.js CSS -->\n",
    "  <link rel=\"stylesheet\" href=\"https://cdnjs.cloudflare.com/ajax/libs/highlight.js/11.1.0/styles/default.min.css\">\n",
    "  <!-- Mathjax 3 -->\n",
    "  <script type=\"text/javascript\" id=\"MathJax-config\" src=\"mathjax_config.js\"> </script>\n",
    "  <script type=\"text/javascript\" id=\"MathJax-script\" async \n",
    "    src=\"https://cdn.jsdelivr.net/npm/mathjax@3/es5/tex-mml-chtml.js\">\n",
    "  </script>\n",
    "  <link rel=\"stylesheet\" href=\"index_carousel.css\">\n",
    "  <link rel=\"icon\" type=\"image/x-icon\" href=\"https://www.mpia.de/assets/touch-icon-32x32-a66937bcebc4e8894ebff1f41a366c7c7220fd97a38869ee0f2db65a9f59b6c1.png\">\n",
    "  <title>MPIA Arxiv on deck!</title>\n",
    "</head>\n",
    "\n",
    "<body>\n",
    "  <div id=\"header\"> <img src=\"header_banner.png\" width=\"100%\"></div>\n",
    "  <div id=\"suptitle\"> 7-day archives </div>\n",
    "  <div id=\"info\">\n",
    "    <img src=\"https://pngimg.com/uploads/github/github_PNG58.png\" height=30rem></img>\n",
    "    <a href=https://github.com/mpi-astronomy/arxiv_display style=\"color:black;\">github/mpi-astronomy/arxiv_display</a> \n",
    "  </div>\n",
    "  {carousel:s}\n",
    "</body>\n",
    "\n",
    "<!-- Render Markdown -->\n",
    "\n",
    "<body>\n",
    "  <!-- highlight.js: https://highlightjs.org/download/ -->\n",
    "  <script src=\"https://cdnjs.cloudflare.com/ajax/libs/highlight.js/11.5.0/highlight.min.js\"></script>\n",
    "  <!-- marked.js -->\n",
    "  <script src=\"https://cdn.jsdelivr.net/npm/marked/marked.min.js\"></script>\n",
    "  <script>{script:s}</script>\n",
    "</body>\n",
    "</html>\n",
    "\"\"\"\n",
    "with open(\"_build/html/index_7days.html\", 'w') as fout:\n",
    "    fout.write(page)"
   ]
  },
  {
   "cell_type": "markdown",
   "id": "1cebacbc",
   "metadata": {
    "papermill": {
     "duration": 0.010005,
     "end_time": "2022-09-09T05:07:08.140234",
     "exception": false,
     "start_time": "2022-09-09T05:07:08.130229",
     "status": "completed"
    },
    "tags": []
   },
   "source": [
    "# Debugging papers"
   ]
  },
  {
   "cell_type": "raw",
   "id": "debe7cc6",
   "metadata": {
    "papermill": {
     "duration": 0.009855,
     "end_time": "2022-09-09T05:07:08.160314",
     "exception": false,
     "start_time": "2022-09-09T05:07:08.150459",
     "status": "completed"
    },
    "tags": []
   },
   "source": [
    "raise NotImplementedError(\"Manual Stop\")"
   ]
  },
  {
   "cell_type": "raw",
   "id": "eb169192",
   "metadata": {
    "papermill": {
     "duration": 0.010049,
     "end_time": "2022-09-09T05:07:08.180240",
     "exception": false,
     "start_time": "2022-09-09T05:07:08.170191",
     "status": "completed"
    },
    "scrolled": true,
    "tags": []
   },
   "source": [
    "from IPython.display import display, Markdown\n",
    "from TexSoup import TexSoup\n",
    "import re\n",
    "\n",
    "def bracket_error(source: str):\n",
    "    \"\"\" Find problematic portions of the document \"\"\"\n",
    "    \n",
    "    print(\"len(source)\", len(source))\n",
    "    \n",
    "    # Checking header\n",
    "    begin_doc = next(re.finditer(r'\\\\begin\\{document\\}', doc.source)).span()[1]\n",
    "    header = source[:begin_doc]\n",
    "    text = header + r\"\\n\\end{document}\"\n",
    "\n",
    "    try:\n",
    "        # print(\"Header check... \", end='')\n",
    "        TexSoup(text)\n",
    "        display(Markdown(f\"**[OK]** - Header\"))\n",
    "    except:\n",
    "        raise RuntimeError(\"Error in the header\")\n",
    "        \n",
    "    # Check the text per section until the end.\n",
    "    # Do not stop and try them all.\n",
    "    \n",
    "    problematic_text = []\n",
    "    \n",
    "    sections = ([(0, begin_doc, 'until first section')] + \n",
    "                [(g.span()[0], g.span()[1], g.group()) for g in re.finditer(r'\\\\section\\{.*\\}', source)] +\n",
    "                [(g.span()[0], g.span()[1], g.group()) for g in re.finditer(r'\\\\begin\\{appendix\\}', source)]\n",
    "               )\n",
    "    sections.append([len(source), len(source), 'end'])\n",
    "    \n",
    "    sections = sorted(sections, key=lambda x: x[0])\n",
    "    \n",
    "    prev_pos, prev_name = (0, 'header')\n",
    "    parsed = []\n",
    "    \n",
    "    for span, span_end, name in sections:\n",
    "\n",
    "        if span - prev_pos <= 0:\n",
    "            continue\n",
    "            \n",
    "\n",
    "        text = source[prev_pos:span]\n",
    "        if prev_pos > begin_doc:\n",
    "            text = r\"\\n\\begin{document}\" + text + r\"\\n\\end{document}\"\n",
    "        else:\n",
    "            text = text + r\"\\n\\end{document}\"\n",
    "        try:\n",
    "            #print(f\"{prev_pos}:{prev_name}-->{span}:{name} check... \", end='')\n",
    "            parsed.append(TexSoup(text, tolerance=1))  # allow not ending env\n",
    "            display(Markdown(f\"**[OK]** - *{prev_pos}*:{prev_name} &rarr; *{span}*:{name}\"))\n",
    "            # print(\"ok\")\n",
    "\n",
    "            prev_pos = span\n",
    "            prev_name = name\n",
    "        except:\n",
    "            # print(f\"error between {prev_pos} and {span}\")\n",
    "            display(Markdown(f\"**[ERR]** *{prev_pos}*:{prev_name} &rarr; *{span}*:{name}\"))\n",
    "            problematic_text.append((prev_pos, source[prev_pos:span]))\n",
    "            prev_pos = span\n",
    "            prev_name = name\n",
    "            # raise\n",
    "    return problematic_text, parsed\n",
    "\n",
    "\n",
    "def check_environment(text, offset=0):\n",
    "    \"\"\" Check environment \"\"\"\n",
    "    env = re.compile(r\"\\\\begin\\{(?P<env>.*)\\}(.*)\\\\end\\{(?P=env)\\}\", re.DOTALL)\n",
    "\n",
    "    for match in env.finditer(text):\n",
    "        beg, end = match.span()\n",
    "        beg += offset\n",
    "        end += offset\n",
    "        envname = match.groups()[0]\n",
    "        try:\n",
    "            latex.TexSoup(match.group())\n",
    "        except Exception as e:\n",
    "            display(e)\n",
    "            print(f\"Error in {envname:s} between {beg} and {end}\")\n",
    "            return match.groups()[1], beg, end"
   ]
  },
  {
   "cell_type": "raw",
   "id": "2315e835",
   "metadata": {
    "papermill": {
     "duration": 0.010133,
     "end_time": "2022-09-09T05:07:08.200234",
     "exception": false,
     "start_time": "2022-09-09T05:07:08.190101",
     "status": "completed"
    },
    "scrolled": false,
    "tags": []
   },
   "source": [
    "import importlib\n",
    "importlib.reload(latex)\n",
    "which = \"2204.03253\"\n",
    "paper_id = f'{which:s}'\n",
    "folder = f'tmp_{paper_id:s}'\n",
    "\n",
    "if not os.path.isdir(folder):\n",
    "    folder = retrieve_document_source(f\"{paper_id}\", f'tmp_{paper_id}')\n",
    "\n",
    "try:\n",
    "    doc = latex.LatexDocument(folder, validation=validation)    \n",
    "except AffiliationError as affilerror:\n",
    "    msg = f\"ArXiv:{paper_id:s} is not an MPIA paper... \" + str(affilerror)\n",
    "    print(msg)\n",
    "\n",
    "\n",
    "# Hack because sometimes author parsing does not work well\n",
    "if (len(doc.authors) != len(paper['authors'])):\n",
    "    doc._authors = paper['authors']\n",
    "if (doc.abstract) in (None, ''):\n",
    "    doc._abstract = paper['abstract']\n",
    "\n",
    "doc.comment = get_markdown_badge(paper_id) + \" _\" + paper['comments'] + \"_\"\n",
    "doc.highlight_authors_in_list(hl_list)\n",
    "\n",
    "full_md = doc.generate_markdown_text()"
   ]
  },
  {
   "cell_type": "raw",
   "id": "dd3781db",
   "metadata": {
    "papermill": {
     "duration": 0.009785,
     "end_time": "2022-09-09T05:07:08.221425",
     "exception": false,
     "start_time": "2022-09-09T05:07:08.211640",
     "status": "completed"
    },
    "scrolled": false,
    "tags": []
   },
   "source": [
    "doc"
   ]
  },
  {
   "cell_type": "raw",
   "id": "c6eed834",
   "metadata": {
    "papermill": {
     "duration": 0.009892,
     "end_time": "2022-09-09T05:07:08.241311",
     "exception": false,
     "start_time": "2022-09-09T05:07:08.231419",
     "status": "completed"
    },
    "tags": []
   },
   "source": [
    "# [check_environment(k) for k in bracket_error(doc.source)]\n",
    "_, _, a = latex.get_content_per_section(doc.source, verbose=True)\n",
    "if not a:\n",
    "    print(\"no issues per section\")\n",
    "for ak in a:\n",
    "    r = check_environment(ak[1], offset=ak[0])\n",
    "    print(r[1], r[2])\n",
    "    print(r[0])"
   ]
  },
  {
   "cell_type": "code",
   "execution_count": null,
   "id": "71ce768a",
   "metadata": {
    "papermill": {
     "duration": 0.009945,
     "end_time": "2022-09-09T05:07:08.261412",
     "exception": false,
     "start_time": "2022-09-09T05:07:08.251467",
     "status": "completed"
    },
    "tags": []
   },
   "outputs": [],
   "source": []
  }
 ],
 "metadata": {
  "kernelspec": {
   "display_name": "Python 3.10.6 64-bit",
   "language": "python",
   "name": "python3"
  },
  "language_info": {
   "codemirror_mode": {
    "name": "ipython",
    "version": 3
   },
   "file_extension": ".py",
   "mimetype": "text/x-python",
   "name": "python",
   "nbconvert_exporter": "python",
   "pygments_lexer": "ipython3",
   "version": "3.9.13"
  },
  "papermill": {
   "default_parameters": {},
   "duration": 148.459847,
   "end_time": "2022-09-09T05:07:08.590512",
   "environment_variables": {},
   "exception": null,
   "input_path": "MPIA daily digest.ipynb",
   "output_path": "log.ipynb",
   "parameters": {},
   "start_time": "2022-09-09T05:04:40.130665",
   "version": "2.4.0"
  },
  "vscode": {
   "interpreter": {
    "hash": "e7370f93d1d0cde622a1f8e1c04877d8463912d04d973331ad4851f04de6915a"
   }
  },
  "widgets": {
   "application/vnd.jupyter.widget-state+json": {
    "state": {
     "12b32f23ae0d4470aa4e26437b45690c": {
      "model_module": "@jupyter-widgets/controls",
      "model_module_version": "2.0.0",
      "model_name": "HTMLModel",
      "state": {
       "_dom_classes": [],
       "_model_module": "@jupyter-widgets/controls",
       "_model_module_version": "2.0.0",
       "_model_name": "HTMLModel",
       "_view_count": null,
       "_view_module": "@jupyter-widgets/controls",
       "_view_module_version": "2.0.0",
       "_view_name": "HTMLView",
       "description": "",
       "description_allow_html": false,
       "layout": "IPY_MODEL_e529db4eaf46408d8349b8e6c47c7d55",
       "placeholder": "​",
       "style": "IPY_MODEL_303a3e8a6eac445bba1f93f4d13209c3",
       "tabbable": null,
       "tooltip": null,
       "value": "100%"
      }
     },
     "251db4e8687e47c8a0a6a084e87a7c30": {
      "model_module": "@jupyter-widgets/base",
      "model_module_version": "2.0.0",
      "model_name": "LayoutModel",
      "state": {
       "_model_module": "@jupyter-widgets/base",
       "_model_module_version": "2.0.0",
       "_model_name": "LayoutModel",
       "_view_count": null,
       "_view_module": "@jupyter-widgets/base",
       "_view_module_version": "2.0.0",
       "_view_name": "LayoutView",
       "align_content": null,
       "align_items": null,
       "align_self": null,
       "border_bottom": null,
       "border_left": null,
       "border_right": null,
       "border_top": null,
       "bottom": null,
       "display": null,
       "flex": null,
       "flex_flow": null,
       "grid_area": null,
       "grid_auto_columns": null,
       "grid_auto_flow": null,
       "grid_auto_rows": null,
       "grid_column": null,
       "grid_gap": null,
       "grid_row": null,
       "grid_template_areas": null,
       "grid_template_columns": null,
       "grid_template_rows": null,
       "height": null,
       "justify_content": null,
       "justify_items": null,
       "left": null,
       "margin": null,
       "max_height": null,
       "max_width": null,
       "min_height": null,
       "min_width": null,
       "object_fit": null,
       "object_position": null,
       "order": null,
       "overflow": null,
       "padding": null,
       "right": null,
       "top": null,
       "visibility": null,
       "width": null
      }
     },
     "303a3e8a6eac445bba1f93f4d13209c3": {
      "model_module": "@jupyter-widgets/controls",
      "model_module_version": "2.0.0",
      "model_name": "HTMLStyleModel",
      "state": {
       "_model_module": "@jupyter-widgets/controls",
       "_model_module_version": "2.0.0",
       "_model_name": "HTMLStyleModel",
       "_view_count": null,
       "_view_module": "@jupyter-widgets/base",
       "_view_module_version": "2.0.0",
       "_view_name": "StyleView",
       "background": null,
       "description_width": "",
       "font_size": null,
       "text_color": null
      }
     },
     "3b1cb2375867464ba2f1a8277a0ba926": {
      "model_module": "@jupyter-widgets/controls",
      "model_module_version": "2.0.0",
      "model_name": "HTMLStyleModel",
      "state": {
       "_model_module": "@jupyter-widgets/controls",
       "_model_module_version": "2.0.0",
       "_model_name": "HTMLStyleModel",
       "_view_count": null,
       "_view_module": "@jupyter-widgets/base",
       "_view_module_version": "2.0.0",
       "_view_name": "StyleView",
       "background": null,
       "description_width": "",
       "font_size": null,
       "text_color": null
      }
     },
     "5b9beb13ac824db78b2e4e30fc4f32c7": {
      "model_module": "@jupyter-widgets/base",
      "model_module_version": "2.0.0",
      "model_name": "LayoutModel",
      "state": {
       "_model_module": "@jupyter-widgets/base",
       "_model_module_version": "2.0.0",
       "_model_name": "LayoutModel",
       "_view_count": null,
       "_view_module": "@jupyter-widgets/base",
       "_view_module_version": "2.0.0",
       "_view_name": "LayoutView",
       "align_content": null,
       "align_items": null,
       "align_self": null,
       "border_bottom": null,
       "border_left": null,
       "border_right": null,
       "border_top": null,
       "bottom": null,
       "display": null,
       "flex": null,
       "flex_flow": null,
       "grid_area": null,
       "grid_auto_columns": null,
       "grid_auto_flow": null,
       "grid_auto_rows": null,
       "grid_column": null,
       "grid_gap": null,
       "grid_row": null,
       "grid_template_areas": null,
       "grid_template_columns": null,
       "grid_template_rows": null,
       "height": null,
       "justify_content": null,
       "justify_items": null,
       "left": null,
       "margin": null,
       "max_height": null,
       "max_width": null,
       "min_height": null,
       "min_width": null,
       "object_fit": null,
       "object_position": null,
       "order": null,
       "overflow": null,
       "padding": null,
       "right": null,
       "top": null,
       "visibility": null,
       "width": null
      }
     },
     "7f4c9308c7244b7ea10baa6c8f885529": {
      "model_module": "@jupyter-widgets/controls",
      "model_module_version": "2.0.0",
      "model_name": "ProgressStyleModel",
      "state": {
       "_model_module": "@jupyter-widgets/controls",
       "_model_module_version": "2.0.0",
       "_model_name": "ProgressStyleModel",
       "_view_count": null,
       "_view_module": "@jupyter-widgets/base",
       "_view_module_version": "2.0.0",
       "_view_name": "StyleView",
       "bar_color": null,
       "description_width": ""
      }
     },
     "8a66c65305fe41ed8ec0b0c2d88fb785": {
      "model_module": "@jupyter-widgets/controls",
      "model_module_version": "2.0.0",
      "model_name": "HTMLModel",
      "state": {
       "_dom_classes": [],
       "_model_module": "@jupyter-widgets/controls",
       "_model_module_version": "2.0.0",
       "_model_name": "HTMLModel",
       "_view_count": null,
       "_view_module": "@jupyter-widgets/controls",
       "_view_module_version": "2.0.0",
       "_view_name": "HTMLView",
       "description": "",
       "description_allow_html": false,
       "layout": "IPY_MODEL_faa6b5cef9d9430ba02740b10efaa0b9",
       "placeholder": "​",
       "style": "IPY_MODEL_3b1cb2375867464ba2f1a8277a0ba926",
       "tabbable": null,
       "tooltip": null,
       "value": " 15/15 [01:58&lt;00:00,  7.11s/it]"
      }
     },
     "b3a043a430ad41c2b592070dba8a823a": {
      "model_module": "@jupyter-widgets/controls",
      "model_module_version": "2.0.0",
      "model_name": "HBoxModel",
      "state": {
       "_dom_classes": [],
       "_model_module": "@jupyter-widgets/controls",
       "_model_module_version": "2.0.0",
       "_model_name": "HBoxModel",
       "_view_count": null,
       "_view_module": "@jupyter-widgets/controls",
       "_view_module_version": "2.0.0",
       "_view_name": "HBoxView",
       "box_style": "",
       "children": [
        "IPY_MODEL_12b32f23ae0d4470aa4e26437b45690c",
        "IPY_MODEL_d5af600a85a149d98ac7d21209226182",
        "IPY_MODEL_8a66c65305fe41ed8ec0b0c2d88fb785"
       ],
       "layout": "IPY_MODEL_5b9beb13ac824db78b2e4e30fc4f32c7",
       "tabbable": null,
       "tooltip": null
      }
     },
     "d5af600a85a149d98ac7d21209226182": {
      "model_module": "@jupyter-widgets/controls",
      "model_module_version": "2.0.0",
      "model_name": "FloatProgressModel",
      "state": {
       "_dom_classes": [],
       "_model_module": "@jupyter-widgets/controls",
       "_model_module_version": "2.0.0",
       "_model_name": "FloatProgressModel",
       "_view_count": null,
       "_view_module": "@jupyter-widgets/controls",
       "_view_module_version": "2.0.0",
       "_view_name": "ProgressView",
       "bar_style": "success",
       "description": "",
       "description_allow_html": false,
       "layout": "IPY_MODEL_251db4e8687e47c8a0a6a084e87a7c30",
       "max": 15.0,
       "min": 0.0,
       "orientation": "horizontal",
       "style": "IPY_MODEL_7f4c9308c7244b7ea10baa6c8f885529",
       "tabbable": null,
       "tooltip": null,
       "value": 15.0
      }
     },
     "e529db4eaf46408d8349b8e6c47c7d55": {
      "model_module": "@jupyter-widgets/base",
      "model_module_version": "2.0.0",
      "model_name": "LayoutModel",
      "state": {
       "_model_module": "@jupyter-widgets/base",
       "_model_module_version": "2.0.0",
       "_model_name": "LayoutModel",
       "_view_count": null,
       "_view_module": "@jupyter-widgets/base",
       "_view_module_version": "2.0.0",
       "_view_name": "LayoutView",
       "align_content": null,
       "align_items": null,
       "align_self": null,
       "border_bottom": null,
       "border_left": null,
       "border_right": null,
       "border_top": null,
       "bottom": null,
       "display": null,
       "flex": null,
       "flex_flow": null,
       "grid_area": null,
       "grid_auto_columns": null,
       "grid_auto_flow": null,
       "grid_auto_rows": null,
       "grid_column": null,
       "grid_gap": null,
       "grid_row": null,
       "grid_template_areas": null,
       "grid_template_columns": null,
       "grid_template_rows": null,
       "height": null,
       "justify_content": null,
       "justify_items": null,
       "left": null,
       "margin": null,
       "max_height": null,
       "max_width": null,
       "min_height": null,
       "min_width": null,
       "object_fit": null,
       "object_position": null,
       "order": null,
       "overflow": null,
       "padding": null,
       "right": null,
       "top": null,
       "visibility": null,
       "width": null
      }
     },
     "faa6b5cef9d9430ba02740b10efaa0b9": {
      "model_module": "@jupyter-widgets/base",
      "model_module_version": "2.0.0",
      "model_name": "LayoutModel",
      "state": {
       "_model_module": "@jupyter-widgets/base",
       "_model_module_version": "2.0.0",
       "_model_name": "LayoutModel",
       "_view_count": null,
       "_view_module": "@jupyter-widgets/base",
       "_view_module_version": "2.0.0",
       "_view_name": "LayoutView",
       "align_content": null,
       "align_items": null,
       "align_self": null,
       "border_bottom": null,
       "border_left": null,
       "border_right": null,
       "border_top": null,
       "bottom": null,
       "display": null,
       "flex": null,
       "flex_flow": null,
       "grid_area": null,
       "grid_auto_columns": null,
       "grid_auto_flow": null,
       "grid_auto_rows": null,
       "grid_column": null,
       "grid_gap": null,
       "grid_row": null,
       "grid_template_areas": null,
       "grid_template_columns": null,
       "grid_template_rows": null,
       "height": null,
       "justify_content": null,
       "justify_items": null,
       "left": null,
       "margin": null,
       "max_height": null,
       "max_width": null,
       "min_height": null,
       "min_width": null,
       "object_fit": null,
       "object_position": null,
       "order": null,
       "overflow": null,
       "padding": null,
       "right": null,
       "top": null,
       "visibility": null,
       "width": null
      }
     }
    },
    "version_major": 2,
    "version_minor": 0
   }
  }
 },
 "nbformat": 4,
 "nbformat_minor": 5
}