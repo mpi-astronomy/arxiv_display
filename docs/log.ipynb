{
 "cells": [
  {
   "cell_type": "markdown",
   "id": "92bcb855",
   "metadata": {
    "papermill": {
     "duration": 0.003858,
     "end_time": "2025-07-22T04:31:53.339638",
     "exception": false,
     "start_time": "2025-07-22T04:31:53.335780",
     "status": "completed"
    },
    "tags": []
   },
   "source": [
    "# MPIA Arxiv on Deck 2\n",
    "\n",
    "Contains the steps to produce the paper extractions."
   ]
  },
  {
   "cell_type": "code",
   "execution_count": 1,
   "id": "3a0d6e11",
   "metadata": {
    "execution": {
     "iopub.execute_input": "2025-07-22T04:31:53.347541Z",
     "iopub.status.busy": "2025-07-22T04:31:53.347265Z",
     "iopub.status.idle": "2025-07-22T04:31:53.596510Z",
     "shell.execute_reply": "2025-07-22T04:31:53.595844Z"
    },
    "papermill": {
     "duration": 0.254794,
     "end_time": "2025-07-22T04:31:53.597958",
     "exception": false,
     "start_time": "2025-07-22T04:31:53.343164",
     "status": "completed"
    },
    "tags": []
   },
   "outputs": [],
   "source": [
    "# Imports\n",
    "import os\n",
    "from IPython.display import Markdown, display\n",
    "from tqdm.notebook import tqdm\n",
    "import warnings\n",
    "from PIL import Image \n",
    "import re\n",
    "\n",
    "# requires arxiv_on_deck_2\n",
    "\n",
    "from arxiv_on_deck_2.arxiv2 import (get_new_papers, \n",
    "                                    get_paper_from_identifier,\n",
    "                                    retrieve_document_source, \n",
    "                                    get_markdown_badge)\n",
    "from arxiv_on_deck_2 import (latex,\n",
    "                             latex_bib,\n",
    "                             mpia,\n",
    "                             highlight_authors_in_list)\n",
    "\n",
    "# Sometimes images are really big\n",
    "Image.MAX_IMAGE_PIXELS = 1000000000 "
   ]
  },
  {
   "cell_type": "code",
   "execution_count": 2,
   "id": "22aa9d44",
   "metadata": {
    "execution": {
     "iopub.execute_input": "2025-07-22T04:31:53.605613Z",
     "iopub.status.busy": "2025-07-22T04:31:53.605341Z",
     "iopub.status.idle": "2025-07-22T04:31:53.614101Z",
     "shell.execute_reply": "2025-07-22T04:31:53.613442Z"
    },
    "papermill": {
     "duration": 0.013959,
     "end_time": "2025-07-22T04:31:53.615200",
     "exception": false,
     "start_time": "2025-07-22T04:31:53.601241",
     "status": "completed"
    },
    "tags": []
   },
   "outputs": [],
   "source": [
    "# Some useful definitions.\n",
    "\n",
    "class AffiliationWarning(UserWarning):\n",
    "    pass\n",
    "\n",
    "class AffiliationError(RuntimeError):\n",
    "    pass\n",
    "\n",
    "def validation(source: str):\n",
    "    \"\"\"Raises error paper during parsing of source file\n",
    "    \n",
    "    Allows checks before parsing TeX code.\n",
    "    \n",
    "    Raises AffiliationWarning\n",
    "    \"\"\"\n",
    "    check = mpia.affiliation_verifications(source, verbose=True)\n",
    "    if check is not True:\n",
    "        raise AffiliationError(\"mpia.affiliation_verifications: \" + check)\n",
    "\n",
    "        \n",
    "warnings.simplefilter('always', AffiliationWarning)\n",
    "\n",
    "\n",
    "def get_markdown_qrcode(paper_id: str):\n",
    "    \"\"\" Generate a qrcode to the arxiv page using qrserver.com\n",
    "    \n",
    "    :param paper: Arxiv paper\n",
    "    :returns: markdown text\n",
    "    \"\"\"\n",
    "    url = r\"https://api.qrserver.com/v1/create-qr-code/?size=100x100&data=\"\n",
    "    txt = f\"\"\"<img src={url}\"https://arxiv.org/abs/{paper_id}\">\"\"\"\n",
    "    txt = '<div id=\"qrcode\">' + txt + '</div>'\n",
    "    return txt\n",
    "\n",
    "\n",
    "def clean_non_western_encoded_characters_commands(text: str) -> str:\n",
    "    \"\"\" Remove non-western encoded characters from a string\n",
    "    List may need to grow.\n",
    "    \n",
    "    :param text: the text to clean\n",
    "    :return: the cleaned text\n",
    "    \"\"\"\n",
    "    text = re.sub(r\"(\\\\begin{CJK}{UTF8}{gbsn})(.*?)(\\\\end{CJK})\", r\"\\2\", text)\n",
    "    return text\n",
    "\n",
    "\n",
    "def get_initials(name: str) -> str:\n",
    "    \"\"\" Get the short name, e.g., A.-B. FamName\n",
    "    :param name: full name\n",
    "    :returns: initials\n",
    "    \"\"\"\n",
    "    initials = []\n",
    "    # account for non western names often in ()\n",
    "    if '(' in name:\n",
    "        name = clean_non_western_encoded_characters_commands(name)\n",
    "        suffix = re.findall(r\"\\((.*?)\\)\", name)[0]\n",
    "        name = name.replace(f\"({suffix})\", '')\n",
    "    else:\n",
    "        suffix = ''\n",
    "    split = name.split()\n",
    "    for token in split[:-1]:\n",
    "        if '-' in token:\n",
    "            current = '-'.join([k[0] + '.' for k in token.split('-')])\n",
    "        else:\n",
    "            current = token[0] + '.'\n",
    "        initials.append(current)\n",
    "    initials.append(split[-1].strip())\n",
    "    if suffix:\n",
    "        initials.append(f\"({suffix})\")\n",
    "    return ' '.join(initials)"
   ]
  },
  {
   "cell_type": "markdown",
   "id": "14bd6310",
   "metadata": {
    "papermill": {
     "duration": 0.003014,
     "end_time": "2025-07-22T04:31:53.621442",
     "exception": false,
     "start_time": "2025-07-22T04:31:53.618428",
     "status": "completed"
    },
    "tags": []
   },
   "source": [
    "## get list of arxiv paper candidates\n",
    "\n",
    "We use the MPIA mitarbeiter list webpage from mpia.de to get author names\n",
    "We then get all new papers from Arxiv and match authors"
   ]
  },
  {
   "cell_type": "code",
   "execution_count": 3,
   "id": "7ea813a8",
   "metadata": {
    "execution": {
     "iopub.execute_input": "2025-07-22T04:31:53.628762Z",
     "iopub.status.busy": "2025-07-22T04:31:53.628459Z",
     "iopub.status.idle": "2025-07-22T04:32:16.431282Z",
     "shell.execute_reply": "2025-07-22T04:32:16.430622Z"
    },
    "papermill": {
     "duration": 22.808032,
     "end_time": "2025-07-22T04:32:16.432514",
     "exception": false,
     "start_time": "2025-07-22T04:31:53.624482",
     "status": "completed"
    },
    "tags": []
   },
   "outputs": [],
   "source": [
    "# deal with the author list and edge cases of people that cannot be consistent on their name  \n",
    "\n",
    "def filter_non_scientists(name: str) -> bool:\n",
    "    \"\"\" Loose filter on expected authorships\n",
    "\n",
    "    removing IT, administration, technical staff\n",
    "    :param name: name\n",
    "    :returns: False if name is not a scientist\n",
    "    \"\"\"\n",
    "    remove_list = ['Licht', 'Binroth', 'Witzel', 'Jordan',\n",
    "                   'Zähringer', 'Scheerer', 'Hoffmann', 'Düe',\n",
    "                   'Hellmich', 'Enkler-Scharpegge', 'Witte-Nguy',\n",
    "                   'Dehen', 'Beckmann', 'Jager', 'Jäger'\n",
    "                  ]\n",
    "\n",
    "    for k in remove_list:\n",
    "        if k in name:\n",
    "            return False\n",
    "    return True\n",
    "\n",
    "def add_author_to_list(author_list: list) -> list:\n",
    "    \"\"\" Add author to list if not already in list\n",
    "    \n",
    "    :param author: author name\n",
    "    :param author_list: list of authors\n",
    "    :returns: updated list of authors\n",
    "    \"\"\"\n",
    "    add_list = ['T. Henning']\n",
    "\n",
    "    for author in add_list:\n",
    "        if author not in author_list:\n",
    "            author_list.append(author)\n",
    "    return author_list\n",
    "\n",
    "# get list from MPIA website\n",
    "# filter for non-scientists (mpia.get_mpia_mitarbeiter_list() does some filtering)\n",
    "mpia_authors = [k[1] for k in mpia.get_mpia_mitarbeiter_list() if filter_non_scientists(k[1])]\n",
    "# add some missing author because of inconsistencies in their MPIA name and author name on papers\n",
    "mpia_authors = add_author_to_list(mpia_authors)"
   ]
  },
  {
   "cell_type": "code",
   "execution_count": 4,
   "id": "2645e73a",
   "metadata": {
    "execution": {
     "iopub.execute_input": "2025-07-22T04:32:16.439900Z",
     "iopub.status.busy": "2025-07-22T04:32:16.439568Z",
     "iopub.status.idle": "2025-07-22T04:32:17.431868Z",
     "shell.execute_reply": "2025-07-22T04:32:17.431108Z"
    },
    "papermill": {
     "duration": 0.997187,
     "end_time": "2025-07-22T04:32:17.433053",
     "exception": false,
     "start_time": "2025-07-22T04:32:16.435866",
     "status": "completed"
    },
    "tags": []
   },
   "outputs": [
    {
     "name": "stdout",
     "output_type": "stream",
     "text": [
      "Wang  ->  N. Wang  |  ['Wang']\n",
      "J. Li  ->  J. Li  |  ['J. Li']\n",
      "Y. Wang  ->  Y. Wang  |  ['Y. Wang']\n",
      "K. Lee  ->  K. Lee  |  ['K. Lee']\n",
      "J. Li  ->  J. Li  |  ['J. Li']\n",
      "Y. Wang  ->  Y. Wang  |  ['Y. Wang']\n",
      "J. Li  ->  J. Li  |  ['J. Li']\n",
      "Y. Wang  ->  Y. Wang  |  ['Y. Wang']\n",
      "T. Suhasaria  ->  T. Suhasaria  |  ['T. Suhasaria']\n"
     ]
    },
    {
     "name": "stdout",
     "output_type": "stream",
     "text": [
      "N. Storm  ->  N. Storm  |  ['N. Storm']\n",
      "Y. Wang  ->  Y. Wang  |  ['Y. Wang']\n",
      "J. Liu  ->  J. Liu  |  ['J. Liu']\n",
      "T. Henning  ->  T. Henning  |  ['T. Henning']\n",
      "K. Lee  ->  K. Lee  |  ['K. Lee']\n",
      "J. Li  ->  J. Li  |  ['J. Li']\n",
      "Y. Wang  ->  Y. Wang  |  ['Y. Wang']\n",
      "Y. Wang  ->  Y. Wang  |  ['Y. Wang']\n"
     ]
    },
    {
     "name": "stdout",
     "output_type": "stream",
     "text": [
      "K. Jahnke  ->  K. Jahnke  |  ['K. Jahnke']\n",
      "Arxiv has 107 new papers today\n",
      "          10 with possible author matches\n"
     ]
    }
   ],
   "source": [
    "new_papers = get_new_papers()\n",
    "# add manual references\n",
    "add_paper_refs = []\n",
    "new_papers.extend([get_paper_from_identifier(k) for k in add_paper_refs])\n",
    "\n",
    "def robust_call(fn, value, *args, **kwargs):\n",
    "    try:\n",
    "        return fn(value, *args, **kwargs)\n",
    "    except Exception:\n",
    "        return value\n",
    "\n",
    "candidates = []\n",
    "for paperk in new_papers:\n",
    "    # Check author list with their initials\n",
    "    normed_author_list = [robust_call(mpia.get_initials, k) for k in paperk['authors']]\n",
    "    hl_authors = highlight_authors_in_list(normed_author_list, mpia_authors, verbose=True)\n",
    "    matches = [(hl, orig) for hl, orig in zip(hl_authors, paperk['authors']) if 'mark' in hl]\n",
    "    paperk['authors'] = hl_authors\n",
    "    if matches:\n",
    "        # only select paper if an author matched our list\n",
    "        candidates.append(paperk)\n",
    "print(\"\"\"Arxiv has {0:,d} new papers today\"\"\".format(len(new_papers)))        \n",
    "print(\"\"\"          {0:,d} with possible author matches\"\"\".format(len(candidates)))"
   ]
  },
  {
   "cell_type": "markdown",
   "id": "3543b34a",
   "metadata": {
    "papermill": {
     "duration": 0.003178,
     "end_time": "2025-07-22T04:32:17.439825",
     "exception": false,
     "start_time": "2025-07-22T04:32:17.436647",
     "status": "completed"
    },
    "tags": []
   },
   "source": [
    "# Parse sources and generate relevant outputs\n",
    "\n",
    "From the candidates, we do the following steps:\n",
    "* get their tarball from ArXiv (and extract data)\n",
    "* find the main .tex file: find one with \\documentclass{...} (sometimes it's non trivial)\n",
    "* Check affiliations with :func:`validation`, which uses :func:`mpia.affiliation_verifications`\n",
    "* If passing the affiliations: we parse the .tex source\n",
    "   * inject sub-documents into the main (flatten the main document)\n",
    "   * parse structure, extract information (title, abstract, authors, figures...)\n",
    "   * handles `\\graphicspath` if provided\n",
    "* Generate the .md document."
   ]
  },
  {
   "cell_type": "code",
   "execution_count": 5,
   "id": "9576b79e",
   "metadata": {
    "execution": {
     "iopub.execute_input": "2025-07-22T04:32:17.447147Z",
     "iopub.status.busy": "2025-07-22T04:32:17.446905Z",
     "iopub.status.idle": "2025-07-22T04:34:01.364342Z",
     "shell.execute_reply": "2025-07-22T04:34:01.363494Z"
    },
    "papermill": {
     "duration": 103.922854,
     "end_time": "2025-07-22T04:34:01.365842",
     "exception": false,
     "start_time": "2025-07-22T04:32:17.442988",
     "status": "completed"
    },
    "scrolled": false,
    "tags": []
   },
   "outputs": [
    {
     "data": {
      "application/vnd.jupyter.widget-view+json": {
       "model_id": "35c02c1ca7e4456293ec497ca65f1af7",
       "version_major": 2,
       "version_minor": 0
      },
      "text/plain": [
       "  0%|          | 0/10 [00:00<?, ?it/s]"
      ]
     },
     "metadata": {},
     "output_type": "display_data"
    },
    {
     "name": "stdout",
     "output_type": "stream",
     "text": [
      "Retrieving document from  https://arxiv.org/e-print/2507.14400\n"
     ]
    },
    {
     "name": "stdout",
     "output_type": "stream",
     "text": [
      "extracting tarball to tmp_2507.14400... done.\n",
      "Retrieving document from  https://arxiv.org/e-print/2507.14707\n"
     ]
    },
    {
     "name": "stdout",
     "output_type": "stream",
     "text": [
      "extracting tarball to tmp_2507.14707..."
     ]
    },
    {
     "name": "stdout",
     "output_type": "stream",
     "text": [
      " done.\n",
      "Retrieving document from  https://arxiv.org/e-print/2507.14708\n"
     ]
    },
    {
     "name": "stderr",
     "output_type": "stream",
     "text": [
      "/opt/hostedtoolcache/Python/3.9.23/x64/lib/python3.9/site-packages/IPython/core/interactiveshell.py:3550: LatexWarning: Multiple tex files.\n",
      "\n",
      "  exec(code_obj, self.user_global_ns, self.user_ns)\n",
      "/opt/hostedtoolcache/Python/3.9.23/x64/lib/python3.9/site-packages/IPython/core/interactiveshell.py:3550: LatexWarning: Found documentclass in tmp_2507.14707/science_template.tex\n",
      "\n",
      "  exec(code_obj, self.user_global_ns, self.user_ns)\n",
      "/opt/hostedtoolcache/Python/3.9.23/x64/lib/python3.9/site-packages/arxiv_on_deck_2/latex.py:414: LatexWarning: Latex injecting: 's2_sa_preview' from 'tmp_2507.14707/s2_sa_preview.tex'\n",
      "  warnings.warn(LatexWarning(f\"Latex injecting: '{ext}' from '{subsource}'\"))\n"
     ]
    },
    {
     "name": "stdout",
     "output_type": "stream",
     "text": [
      "extracting tarball to tmp_2507.14708..."
     ]
    },
    {
     "name": "stdout",
     "output_type": "stream",
     "text": [
      " done.\n",
      "Retrieving document from  https://arxiv.org/e-print/2507.14711\n",
      "extracting tarball to tmp_2507.14711..."
     ]
    },
    {
     "name": "stdout",
     "output_type": "stream",
     "text": [
      " done.\n",
      "Retrieving document from  https://arxiv.org/e-print/2507.14905\n"
     ]
    },
    {
     "name": "stdout",
     "output_type": "stream",
     "text": [
      "extracting tarball to tmp_2507.14905..."
     ]
    },
    {
     "name": "stdout",
     "output_type": "stream",
     "text": [
      " done.\n"
     ]
    },
    {
     "name": "stdout",
     "output_type": "stream",
     "text": [
      "T. Suhasaria  ->  T. Suhasaria  |  ['T. Suhasaria']\n"
     ]
    },
    {
     "name": "stdout",
     "output_type": "stream",
     "text": [
      "Found 69 bibliographic references in tmp_2507.14905/sample631.bbl.\n",
      "Error retrieving bib data for Fadul25: 'author'\n",
      "Error retrieving bib data for Fadul25: 'author'\n",
      "Retrieving document from  https://arxiv.org/e-print/2507.15122\n"
     ]
    },
    {
     "name": "stdout",
     "output_type": "stream",
     "text": [
      "extracting tarball to tmp_2507.15122..."
     ]
    },
    {
     "name": "stdout",
     "output_type": "stream",
     "text": [
      " done.\n"
     ]
    },
    {
     "name": "stdout",
     "output_type": "stream",
     "text": [
      "N. Storm  ->  N. Storm  |  ['N. Storm']\n"
     ]
    },
    {
     "name": "stdout",
     "output_type": "stream",
     "text": [
      "Found 161 bibliographic references in tmp_2507.15122/main_v2.bbl.\n",
      "Issues with the citations\n",
      "syntax error in line 690: '=' expected\n",
      "Retrieving document from  https://arxiv.org/e-print/2507.15482\n",
      "extracting tarball to tmp_2507.15482... done.\n",
      "Retrieving document from  https://arxiv.org/e-print/2507.15516\n"
     ]
    },
    {
     "name": "stdout",
     "output_type": "stream",
     "text": [
      "extracting tarball to tmp_2507.15516..."
     ]
    },
    {
     "name": "stdout",
     "output_type": "stream",
     "text": [
      " done.\n"
     ]
    },
    {
     "name": "stdout",
     "output_type": "stream",
     "text": [
      "T. Henning  ->  T. Henning  |  ['T. Henning']\n"
     ]
    },
    {
     "name": "stdout",
     "output_type": "stream",
     "text": [
      "Found 104 bibliographic references in tmp_2507.15516/main.bbl.\n",
      "Issues with the citations\n",
      "syntax error in line 620: '=' expected\n",
      "Retrieving document from  https://arxiv.org/e-print/2507.15790\n",
      "extracting tarball to tmp_2507.15790..."
     ]
    },
    {
     "name": "stderr",
     "output_type": "stream",
     "text": [
      "/opt/hostedtoolcache/Python/3.9.23/x64/lib/python3.9/site-packages/arxiv_on_deck_2/latex_bib.py:132: UserWarning: Error processing bibitem\n",
      " item = \\bibitem[{{Varas} {et~al.}(2025){Varas}, {Calvo-Ortega}, {Amado}, {Becerril}, {Ruh}, {Azzaro}, {Hernández}, [Magán-Madinabeitia], {Reinhart}, {Maroto-Fernández}, {Helmling}, {Huelmo}, {Benítez}, {López}, {Pineda}, {García}, {García de la Fuente}, {Marín}, {Hernández}, {Aceituno}, {Caballero}, {Kaminski}, {Mathar}, {Quirrenbach}, {Reiners}, {Ribas}, {Seifert},  {Zechmeister}}]{Varas2025}{Varas}, R., {Calvo-Ortega}, R., {Amado}, P., {et~al.} 2025, Experimental Astronomy, in press\n",
      " regex = \n",
      "        \\\\bibitem(\\[[^\\[\\]]*?\\]){(?P<bibkey>[a-zA-Z0-9\\-\\+\\.\\S]+?)}(?P<authors>|([\\D]*?))(?P<year>[12][0-9]{3})(?P<rest>.*)\n",
      "        \n",
      "  warnings.warn(str(e))\n"
     ]
    },
    {
     "name": "stdout",
     "output_type": "stream",
     "text": [
      " done.\n",
      "Retrieving document from  https://arxiv.org/e-print/2507.15819\n",
      "extracting tarball to tmp_2507.15819..."
     ]
    },
    {
     "name": "stderr",
     "output_type": "stream",
     "text": [
      "/opt/hostedtoolcache/Python/3.9.23/x64/lib/python3.9/site-packages/IPython/core/interactiveshell.py:3550: LatexWarning: Multiple tex files.\n",
      "\n",
      "  exec(code_obj, self.user_global_ns, self.user_ns)\n",
      "/opt/hostedtoolcache/Python/3.9.23/x64/lib/python3.9/site-packages/IPython/core/interactiveshell.py:3550: LatexWarning: Found documentclass in tmp_2507.15790/ms-upload.tex\n",
      "\n",
      "  exec(code_obj, self.user_global_ns, self.user_ns)\n",
      "/opt/hostedtoolcache/Python/3.9.23/x64/lib/python3.9/site-packages/arxiv_on_deck_2/latex.py:414: LatexWarning: Latex injecting: 'ref2' from 'tmp_2507.15790/ref2.tex'\n",
      "  warnings.warn(LatexWarning(f\"Latex injecting: '{ext}' from '{subsource}'\"))\n",
      "/opt/hostedtoolcache/Python/3.9.23/x64/lib/python3.9/site-packages/arxiv_on_deck_2/latex.py:414: LatexWarning: Latex injecting: 'ref1' from 'tmp_2507.15790/ref1.tex'\n",
      "  warnings.warn(LatexWarning(f\"Latex injecting: '{ext}' from '{subsource}'\"))\n"
     ]
    },
    {
     "name": "stdout",
     "output_type": "stream",
     "text": [
      " done.\n"
     ]
    },
    {
     "name": "stderr",
     "output_type": "stream",
     "text": [
      "/opt/hostedtoolcache/Python/3.9.23/x64/lib/python3.9/site-packages/IPython/core/interactiveshell.py:3550: LatexWarning: Multiple tex files.\n",
      "\n",
      "  exec(code_obj, self.user_global_ns, self.user_ns)\n",
      "/opt/hostedtoolcache/Python/3.9.23/x64/lib/python3.9/site-packages/IPython/core/interactiveshell.py:3550: LatexWarning: Found documentclass in tmp_2507.15819/aa.tex\n",
      "\n",
      "  exec(code_obj, self.user_global_ns, self.user_ns)\n",
      "/opt/hostedtoolcache/Python/3.9.23/x64/lib/python3.9/site-packages/arxiv_on_deck_2/latex.py:414: LatexWarning: Latex injecting: 'ShortPessimisticOnlyIsocurvatureTable1' from 'tmp_2507.15819/ShortPessimisticOnlyIsocurvatureTable1.tex'\n",
      "  warnings.warn(LatexWarning(f\"Latex injecting: '{ext}' from '{subsource}'\"))\n"
     ]
    },
    {
     "name": "stdout",
     "output_type": "stream",
     "text": [
      "Found 220 bibliographic references in tmp_2507.15819/aa.bbl.\n",
      "Issues with the citations\n",
      "syntax error in line 5: unbalanced braces\n"
     ]
    },
    {
     "name": "stderr",
     "output_type": "stream",
     "text": [
      "/opt/hostedtoolcache/Python/3.9.23/x64/lib/python3.9/site-packages/arxiv_on_deck_2/latex_bib.py:132: UserWarning: Error processing bibitem\n",
      " item = \\bibitem[{{Ach{ú}carro} {et~al.}(2022){Ach{ú}carro}, {Biagetti}, {Braglia}, {Cabass}, {Castorina}, {Caldwell}, {Chen}, {Coulton}, {Flauger}, {Fumagalli}, {Ivanov}, {Lee}, {Maleknejad}, {Meerburg}, {Moradinezhad Dizgah}, {Palma}, {Renaux-Petel}, {Pimentel}, {Wallisch}, {Wandelt}, {Witkowski},  {Kimmy Wu}}]{Achucarro_2022}{Ach{ú}carro}, A., {Biagetti}, M., {Braglia}, M., {et~al.} \\href{https://ui.adsabs.harvard.edu/abs/2022arXiv220308128A}{2022, arXiv:2203.08128}\n",
      " regex = \n",
      "        \\\\bibitem(\\[[^\\[\\]]*?\\]){(?P<bibkey>[a-zA-Z0-9\\-\\+\\.\\S]+?)}(?P<authors>|([\\D]*?))(?P<year>[12][0-9]{3}).*?href(.*?{(?P<url>http[\\S]*)})(?P<rest>.*)\n",
      "        \n",
      "  warnings.warn(str(e))\n",
      "/opt/hostedtoolcache/Python/3.9.23/x64/lib/python3.9/site-packages/arxiv_on_deck_2/latex_bib.py:132: UserWarning: Error processing bibitem\n",
      " item = \\bibitem[{{Alvarez} {et~al.}(2014){Alvarez}, {Baldauf}, {Bond}, {Dalal}, {de Putter}, {Dor{é}}, {Green}, {Hirata}, {Huang}, {Huterer}, {Jeong}, {Johnson}, {Krause}, {Loverde}, {Meyers}, {Meerburg}, {Senatore}, {Shandera}, {Silverstein}, {Slosar}, {Smith}, {Zaldarriaga}, {Assassi}, {Braden}, {Hajian}, {Kobayashi}, {Stein},  {van Engelen}}]{Alvarez:2014vva}{Alvarez}, M., {Baldauf}, T., {Bond}, J.~R., {et~al.} \\href{https://ui.adsabs.harvard.edu/abs/2014arXiv1412.4671A}{2014, arXiv:1412.4671}\n",
      " regex = \n",
      "        \\\\bibitem(\\[[^\\[\\]]*?\\]){(?P<bibkey>[a-zA-Z0-9\\-\\+\\.\\S]+?)}(?P<authors>|([\\D]*?))(?P<year>[12][0-9]{3}).*?href(.*?{(?P<url>http[\\S]*)})(?P<rest>.*)\n",
      "        \n",
      "  warnings.warn(str(e))\n",
      "/opt/hostedtoolcache/Python/3.9.23/x64/lib/python3.9/site-packages/arxiv_on_deck_2/latex_bib.py:132: UserWarning: Error processing bibitem\n",
      " item = \\bibitem[{{Arkani-Hamed}  {Maldacena}(2015)}]{Arkani-Hamed:2015bza}{Arkani-Hamed}, N.  {Maldacena}, J. \\href{https://ui.adsabs.harvard.edu/abs/2015arXiv150308043A}{2015, arXiv:1503.08043}\n",
      " regex = \n",
      "        \\\\bibitem(\\[[^\\[\\]]*?\\]){(?P<bibkey>[a-zA-Z0-9\\-\\+\\.\\S]+?)}(?P<authors>|([\\D]*?))(?P<year>[12][0-9]{3}).*?href(.*?{(?P<url>http[\\S]*)})(?P<rest>.*)\n",
      "        \n",
      "  warnings.warn(str(e))\n",
      "/opt/hostedtoolcache/Python/3.9.23/x64/lib/python3.9/site-packages/arxiv_on_deck_2/latex_bib.py:132: UserWarning: Error processing bibitem\n",
      " item = \\bibitem[{{Ballardini}  {Barbieri}(2024)}]{2024arXiv241102261B}{Ballardini}, M.  {Barbieri}, N. \\href{https://ui.adsabs.harvard.edu/abs/2024arXiv241102261B}{2024, arXiv:2411.02261}\n",
      " regex = \n",
      "        \\\\bibitem(\\[[^\\[\\]]*?\\]){(?P<bibkey>[a-zA-Z0-9\\-\\+\\.\\S]+?)}(?P<authors>|([\\D]*?))(?P<year>[12][0-9]{3}).*?href(.*?{(?P<url>http[\\S]*)})(?P<rest>.*)\n",
      "        \n",
      "  warnings.warn(str(e))\n",
      "/opt/hostedtoolcache/Python/3.9.23/x64/lib/python3.9/site-packages/arxiv_on_deck_2/latex_bib.py:132: UserWarning: Error processing bibitem\n",
      " item = \\bibitem[{{Ballardini} {et~al.}(2024){Ballardini}, {Davoli},  {Samuele Sirletti}}]{Ballardini:2024irx}{Ballardini}, M., {Davoli}, A.,  {Samuele Sirletti}, S. \\href{https://ui.adsabs.harvard.edu/abs/2024arXiv240805210B}{2024, arXiv:2408.05210}\n",
      " regex = \n",
      "        \\\\bibitem(\\[[^\\[\\]]*?\\]){(?P<bibkey>[a-zA-Z0-9\\-\\+\\.\\S]+?)}(?P<authors>|([\\D]*?))(?P<year>[12][0-9]{3}).*?href(.*?{(?P<url>http[\\S]*)})(?P<rest>.*)\n",
      "        \n",
      "  warnings.warn(str(e))\n",
      "/opt/hostedtoolcache/Python/3.9.23/x64/lib/python3.9/site-packages/arxiv_on_deck_2/latex_bib.py:132: UserWarning: Error processing bibitem\n",
      " item = \\bibitem[{{Chen}(2011)}]{Chen:2011zf}{Chen}, X. \\href{https://ui.adsabs.harvard.edu/abs/2011arXiv1104.1323C}{2011, arXiv:1104.1323}\n",
      " regex = \n",
      "        \\\\bibitem(\\[[^\\[\\]]*?\\]){(?P<bibkey>[a-zA-Z0-9\\-\\+\\.\\S]+?)}(?P<authors>|([\\D]*?))(?P<year>[12][0-9]{3}).*?href(.*?{(?P<url>http[\\S]*)})(?P<rest>.*)\n",
      "        \n",
      "  warnings.warn(str(e))\n",
      "/opt/hostedtoolcache/Python/3.9.23/x64/lib/python3.9/site-packages/arxiv_on_deck_2/latex_bib.py:132: UserWarning: Error processing bibitem\n",
      " item = \\bibitem[{{Chung}  {Chaitanya Tadepalli}(2023)}]{2023arXiv230917010C}{Chung}, D. J.~H.  {Chaitanya Tadepalli}, S. \\href{https://ui.adsabs.harvard.edu/abs/2023arXiv230917010C}{2023, arXiv:2309.17010}\n",
      " regex = \n",
      "        \\\\bibitem(\\[[^\\[\\]]*?\\]){(?P<bibkey>[a-zA-Z0-9\\-\\+\\.\\S]+?)}(?P<authors>|([\\D]*?))(?P<year>[12][0-9]{3}).*?href(.*?{(?P<url>http[\\S]*)})(?P<rest>.*)\n",
      "        \n",
      "  warnings.warn(str(e))\n",
      "/opt/hostedtoolcache/Python/3.9.23/x64/lib/python3.9/site-packages/arxiv_on_deck_2/latex_bib.py:132: UserWarning: Error processing bibitem\n",
      " item = \\bibitem[{{CMB-S4 Collaboration: Abazajian} {et~al.}(2019){CMB-S4 Collaboration: Abazajian}, {Addison}, {Adshead}, {Ahmed}, {Allen}, {Alonso}, {Alvarez}, {Anderson}, {Arnold}, {Baccigalupi}, {Bailey}, {Barkats}, {Barron}, {Barry}, {Bartlett}, {Basu Thakur}, {Battaglia}, {Baxter}, {Bean}, {Bebek}, {Bender}, {Benson}, {Berger}, {Bhimani}, {Bischoff}, {Bleem}, {Bocquet}, {Boddy}, {Bonato}, {Bond}, {Borrill}, {Bouchet}, {Brown}, {Bryan}, {Burkhart}, {Buza}, {Byrum}, {Calabrese}, {Calafut}, {Caldwell}, {Carlstrom}, {Carron}, {Cecil}, {Challinor}, {Chang}, {Chinone}, {Cho}, {Cooray}, {Crawford}, {Crites}, {Cukierman}, {Cyr-Racine}, {de Haan}, {de Zotti}, {Delabrouille}, {Demarteau}, {Devlin}, {Di Valentino}, {Dobbs}, {Duff}, {Duivenvoorden}, {Dvorkin}, {Edwards}, {Eimer}, {Errard}, {Essinger-Hileman}, {Fabbian}, {Feng}, {Ferraro}, {Filippini}, {Flauger}, {Flaugher}, {Fraisse}, {Frolov}, {Galitzki}, {Galli}, {Ganga}, {Gerbino}, {Gilchriese}, {Gluscevic}, {Green}, {Grin}, {Grohs}, {Gualtieri}, {Guarino},  {Gudmundsson}, {Habib}, {Haller}, {Halpern}, {Halverson}, {Hanany}, {Harrington}, {Hasegawa}, {Hasselfield}, {Hazumi}, {Heitmann}, {Henderson}, {Henning}, {Hill}, {Hlozek}, {Holder}, {Holzapfel}, {Hubmayr}, {Huffenberger}, {Huffer}, {Hui}, {Irwin}, {Johnson}, {Johnstone}, {Jones}, {Karkare}, {Katayama}, {Kerby}, {Kernovsky}, {Keskitalo}, {Kisner}, {Knox}, {Kosowsky}, {Kovac}, {Kovetz}, {Kuhlmann}, {Kuo}, {Kurita}, {Kusaka}, {Lahteenmaki}, {Lawrence}, {Lee}, {Lewis}, {Li}, {Linder}, {Loverde}, {Lowitz}, {Madhavacheril}, {Mantz}, {Matsuda}, {Mauskopf}, {McMahon}, {McQuinn}, {Meerburg}, {Melin}, {Meyers}, {Millea}, {Mohr}, {Moncelsi}, {Mroczkowski}, {Mukherjee}, {M{ü}nchmeyer}, {Nagai}, {Nagy}, {Namikawa}, {Nati}, {Natoli}, {Negrello}, {Newburgh}, {Niemack}, {Nishino}, {Nordby}, {Novosad}, {O'Connor}, {Obied}, {Padin}, {Pandey}, {Partridge}, {Pierpaoli}, {Pogosian}, {Pryke}, {Puglisi}, {Racine}, {Raghunathan}, {Rahlin}, {Rajagopalan}, {Raveri}, {Reichanadter}, {Reichardt}, {Remazeilles}, {Rocha}, {Roe},  {Roy}, {Ruhl}, {Salatino}, {Saliwanchik}, {Schaan}, {Schillaci}, {Schmittfull}, {Scott}, {Sehgal}, {Shandera}, {Sheehy}, {Sherwin}, {Shirokoff}, {Simon}, {Slosar}, {Somerville}, {Spergel}, {Staggs}, {Stark}, {Stompor}, {Story}, {Stoughton}, {Suzuki}, {Tajima}, {Teply}, {Thompson}, {Timbie}, {Tomasi}, {Treu}, {Tristram}, {Tucker}, {Umilt{à}}, {van Engelen}, {Vieira}, {Vieregg}, {Vogelsberger}, {Wang}, {Watson}, {White}, {Whitehorn}, {Wollack}, {Kimmy Wu}, {Xu}, {Yasini}, {Yeck}, {Yoon}, {Young},  {Zonca}}]{Abazajian:2019eic}{CMB-S4 Collaboration: Abazajian}, K., {Addison}, G., {Adshead}, P., {et~al.} \\href{https://ui.adsabs.harvard.edu/abs/2019arXiv190704473A}{2019, arXiv:1907.04473}\n",
      " regex = \n",
      "        \\\\bibitem(\\[[^\\[\\]]*?\\]){(?P<bibkey>[a-zA-Z0-9\\-\\+\\.\\S]+?)}(?P<authors>|([\\D]*?))(?P<year>[12][0-9]{3}).*?href(.*?{(?P<url>http[\\S]*)})(?P<rest>.*)\n",
      "        \n",
      "  warnings.warn(str(e))\n",
      "/opt/hostedtoolcache/Python/3.9.23/x64/lib/python3.9/site-packages/arxiv_on_deck_2/latex_bib.py:132: UserWarning: Error processing bibitem\n",
      " item = \\bibitem[{{D'Amico} {et~al.}(2022){D'Amico}, {Lewandowski}, {Senatore},  {Zhang}}]{DAmico:2022gki}{D'Amico}, G., {Lewandowski}, M., {Senatore}, L.,  {Zhang}, P. \\href{https://ui.adsabs.harvard.edu/abs/2022arXiv220111518D}{2022, arXiv:2201.11518}\n",
      " regex = \n",
      "        \\\\bibitem(\\[[^\\[\\]]*?\\]){(?P<bibkey>[a-zA-Z0-9\\-\\+\\.\\S]+?)}(?P<authors>|([\\D]*?))(?P<year>[12][0-9]{3}).*?href(.*?{(?P<url>http[\\S]*)})(?P<rest>.*)\n",
      "        \n",
      "  warnings.warn(str(e))\n",
      "/opt/hostedtoolcache/Python/3.9.23/x64/lib/python3.9/site-packages/arxiv_on_deck_2/latex_bib.py:132: UserWarning: Error processing bibitem\n",
      " item = \\bibitem[{{DESI Collaboration: Aghamousa} {et~al.}(2016){DESI Collaboration: Aghamousa}, {Aguilar}, {Ahlen}, {Alam}, {Allen}, {Allende Prieto}, {Annis}, {Bailey}, {Balland}, {Ballester}, {Baltay}, {Beaufore}, {Bebek}, {Beers}, {Bell}, {Bernal}, {Besuner}, {Beutler}, {Blake}, {Bleuler}, {Blomqvist}, {Blum}, {Bolton}, {Briceno}, {Brooks}, {Brownstein}, {Buckley-Geer}, {Burden}, {Burtin}, {Busca}, {Cahn}, {Cai}, {Cardiel-Sas}, {Carlberg}, {Carton}, {Casas}, {Castander}, {Cervantes-Cota}, {Claybaugh}, {Close}, {Coker}, {Cole}, {Comparat}, {Cooper}, {Cousinou}, {Crocce}, {Cuby}, {Cunningham}, {Davis}, {Dawson}, {de la Macorra}, {De Vicente}, {Delubac}, {Derwent}, {Dey}, {Dhungana}, {Ding}, {Doel}, {Duan}, {Ealet}, {Edelstein}, {Eftekharzadeh}, {Eisenstein}, {Elliott}, {Escoffier}, {Evatt}, {Fagrelius}, {Fan}, {Fanning}, {Farahi}, {Farihi}, {Favole}, {Feng}, {Fernandez}, {Findlay}, {Finkbeiner}, {Fitzpatrick}, {Flaugher}, {Flender}, {Font-Ribera}, {Forero-Romero}, {Fosalba}, {Frenk}, {Fumagalli}, {Gaensicke},  {Gallo}, {Garcia-Bellido}, {Gaztanaga}, {Pietro Gentile Fusillo}, {Gerard}, {Gershkovich}, {Giannantonio}, {Gillet}, {Gonzalez-de-Rivera}, {Gonzalez-Perez}, {Gott}, {Graur}, {Gutierrez}, {Guy}, {Habib}, {Heetderks}, {Heetderks}, {Heitmann}, {Hellwing}, {Herrera}, {Ho}, {Holland}, {Honscheid}, {Huff}, {Hutchinson}, {Huterer}, {Hwang}, {Illa Laguna}, {Ishikawa}, {Jacobs}, {Jeffrey}, {Jelinsky}, {Jennings}, {Jiang}, {Jimenez}, {Johnson}, {Joyce}, {Jullo}, {Juneau}, {Kama}, {Karcher}, {Karkar}, {Kehoe}, {Kennamer}, {Kent}, {Kilbinger}, {Kim}, {Kirkby}, {Kisner}, {Kitanidis}, {Kneib}, {Koposov}, {Kovacs}, {Koyama}, {Kremin}, {Kron}, {Kronig}, {Kueter-Young}, {Lacey}, {Lafever}, {Lahav}, {Lambert}, {Lampton}, {Landriau}, {Lang}, {Lauer}, {Le Goff}, {Le Guillou}, {Le Van Suu}, {Lee}, {Lee}, {Leitner}, {Lesser}, {Levi}, {L'Huillier}, {Li}, {Liang}, {Lin}, {Linder}, {Loebman}, {Luki{\\'c}}, {Ma}, {MacCrann}, {Magneville}, {Makarem}, {Manera}, {Manser}, {Marshall}, {Martini}, {Massey}, {Matheson}, {McCauley},  {McDonald}, {McGreer}, {Meisner}, {Metcalfe}, {Miller}, {Miquel}, {Moustakas}, {Myers}, {Naik}, {Newman}, {Nichol}, {Nicola}, {Nicolati da Costa}, {Nie}, {Niz}, {Norberg}, {Nord}, {Norman}, {Nugent}, {O'Brien}, {Oh}, {Olsen}, {Padilla}, {Padmanabhan}, {Padmanabhan}, {Palanque-Delabrouille}, {Palmese}, {Pappalardo}, {P{\\^a}ris}, {Park}, {Patej}, {Peacock}, {Peiris}, {Peng}, {Percival}, {Perruchot}, {Pieri}, {Pogge}, {Pollack}, {Poppett}, {Prada}, {Prakash}, {Probst}, {Rabinowitz}, {Raichoor}, {Ree}, {Refregier}, {Regal}, {Reid}, {Reil}, {Rezaie}, {Rockosi}, {Roe}, {Ronayette}, {Roodman}, {Ross}, {Ross}, {Rossi}, {Rozo}, {Ruhlmann-Kleider}, {Rykoff}, {Sabiu}, {Samushia}, {Sanchez}, {Sanchez}, {Schlegel}, {Schneider}, {Schubnell}, {Secroun}, {Seljak}, {Seo}, {Serrano}, {Shafieloo}, {Shan}, {Sharples}, {Sholl}, {Shourt}, {Silber}, {Silva}, {Sirk}, {Slosar}, {Smith}, {Smoot}, {Som}, {Song}, {Sprayberry}, {Staten}, {Stefanik}, {Tarle}, {Sien Tie}, {Tinker}, {Tojeiro}, {Valdes}, {Valenzuela}, {Valluri},  {Vargas-Magana}, {Verde}, {Walker}, {Wang}, {Wang}, {Weaver}, {Weaverdyck}, {Wechsler}, {Weinberg}, {White}, {Yang}, {Yeche}, {Zhang}, {Zhao}, {Zheng}, {Zhou}, {Zhou}, {Zhu}, {Zou},  {Zu}}]{2016arXiv161100036D}{DESI Collaboration: Aghamousa}, A., {Aguilar}, J., {Ahlen}, S., {et~al.} \\href{https://ui.adsabs.harvard.edu/abs/2016arXiv161100036D}{2016, arXiv:1611.00036}\n",
      " regex = \n",
      "        \\\\bibitem(\\[[^\\[\\]]*?\\]){(?P<bibkey>[a-zA-Z0-9\\-\\+\\.\\S]+?)}(?P<authors>|([\\D]*?))(?P<year>[12][0-9]{3}).*?href(.*?{(?P<url>http[\\S]*)})(?P<rest>.*)\n",
      "        \n",
      "  warnings.warn(str(e))\n",
      "/opt/hostedtoolcache/Python/3.9.23/x64/lib/python3.9/site-packages/arxiv_on_deck_2/latex_bib.py:132: UserWarning: Error processing bibitem\n",
      " item = \\bibitem[{{Dor{é}} {et~al.}(2014){Dor{é}}, {Bock}, {Ashby}, {Capak}, {Cooray}, {de Putter}, {Eifler}, {Flagey}, {Gong}, {Habib}, {Heitmann}, {Hirata}, {Jeong}, {Katti}, {Korngut}, {Krause}, {Lee}, {Masters}, {Mauskopf}, {Melnick}, {Mennesson}, {Nguyen}, {{Ö}berg}, {Pullen}, {Raccanelli}, {Smith}, {Song}, {Tolls}, {Unwin}, {Venumadhav}, {Viero}, {Werner},  {Zemcov}}]{SPHEREx:2014bgr}{Dor{é}}, O., {Bock}, J., {Ashby}, M., {et~al.} \\href{https://ui.adsabs.harvard.edu/abs/2014arXiv1412.4872D}{2014, arXiv:1412.4872}\n",
      " regex = \n",
      "        \\\\bibitem(\\[[^\\[\\]]*?\\]){(?P<bibkey>[a-zA-Z0-9\\-\\+\\.\\S]+?)}(?P<authors>|([\\D]*?))(?P<year>[12][0-9]{3}).*?href(.*?{(?P<url>http[\\S]*)})(?P<rest>.*)\n",
      "        \n",
      "  warnings.warn(str(e))\n",
      "/opt/hostedtoolcache/Python/3.9.23/x64/lib/python3.9/site-packages/arxiv_on_deck_2/latex_bib.py:132: UserWarning: Error processing bibitem\n",
      " item = \\bibitem[{{Euclid Collaboration: Andrews} {et~al.}(2024){Euclid Collaboration: Andrews}, {Jasche}, {Lavaux}, {Leclercq}, {Finelli}, {Akrami}, {Ballardini}, {Karagiannis}, {Valiviita}, {Bartolo}, {Ca{ñ}as-Herrera}, {Casas}, {Granett}, {Pace}, {Paoletti}, {Porqueres}, {Sakr}, {Sapone}, {Aghanim}, {Amara}, {Andreon}, {Baccigalupi}, {Baldi}, {Bardelli}, {Bonino}, {Branchini}, {Brescia}, {Brinchmann}, {Camera}, {Capobianco}, {Carbone}, {Carretero}, {Castellano}, {Castignani}, {Cavuoti}, {Cimatti}, {Colodro-Conde}, {Congedo}, {Conselice}, {Conversi}, {Copin}, {Courbin}, {Courtois}, {Da Silva}, {Degaudenzi}, {De Lucia}, {Di Giorgio}, {Dinis}, {Dubath}, {Duncan}, {Dupac}, {Dusini}, {Farina}, {Farrens}, {Faustini}, {Ferriol}, {Frailis}, {Franceschi}, {Galeotta}, {Gillis}, {Giocoli}, {G{ó}mez-Alvarez}, {Grazian}, {Grupp}, {Haugan}, {Holmes}, {Hormuth}, {Hornstrup}, {Hudelot}, {Ili{\\'c}}, {Jahnke}, {Jhabvala}, {Joachimi}, {Keih{ä}nen}, {Kermiche}, {Kiessling}, {Kubik}, {Kunz}, {Kurki-Suonio}, {Ligori}, {Lilje},  {Lindholm}, {Lloro}, {Maiorano}, {Mansutti}, {Marggraf}, {Markovic}, {Martinelli}, {Martinet}, {Marulli}, {Massey}, {Medinaceli}, {Mei}, {Mellier}, {Meneghetti}, {Merlin}, {Meylan}, {Moresco}, {Moscardini}, {Neissner}, {Niemi}, {Nightingale}, {Padilla}, {Paltani}, {Pasian}, {Pedersen}, {Pettorino}, {Pires}, {Polenta}, {Poncet}, {Popa}, {Pozzetti}, {Raison}, {Rebolo}, {Renzi}, {Rhodes}, {Riccio}, {Romelli}, {Roncarelli}, {Saglia}, {S{á}nchez}, {Sartoris}, {Schirmer}, {Schneider}, {Schrabback}, {Secroun}, {Sefusatti}, {Serrano}, {Sirignano}, {Sirri}, {Stanco}, {Steinwagner}, {Tallada-Cresp{í}}, {Taylor}, {Tereno}, {Toledo-Moreo}, {Torradeflot}, {Tutusaus}, {Valenziano}, {Vassallo}, {Verdoes Kleijn}, {Veropalumbo}, {Wang}, {Weller}, {Zamorani}, {Zucca}, {Burigana}, {Scottez}, {Spurio Mancini},  {Viel}}]{andrews_euclid_2024}{Euclid Collaboration: Andrews}, A., {Jasche}, J., {Lavaux}, G., {et~al.} \\href{https://ui.adsabs.harvard.edu/abs/2024arXiv241211945A}{2024, arXiv:2412.11945}\n",
      " regex = \n",
      "        \\\\bibitem(\\[[^\\[\\]]*?\\]){(?P<bibkey>[a-zA-Z0-9\\-\\+\\.\\S]+?)}(?P<authors>|([\\D]*?))(?P<year>[12][0-9]{3}).*?href(.*?{(?P<url>http[\\S]*)})(?P<rest>.*)\n",
      "        \n",
      "  warnings.warn(str(e))\n",
      "/opt/hostedtoolcache/Python/3.9.23/x64/lib/python3.9/site-packages/arxiv_on_deck_2/latex_bib.py:132: UserWarning: Error processing bibitem\n",
      " item = \\bibitem[{{Euclid Collaboration: Casas} {et~al.}(2023){Euclid Collaboration: Casas}, {Cardone}, {Sapone}, {Frusciante}, {Pace}, {Parimbelli}, {Archidiacono}, {Koyama}, {Tutusaus}, {Camera}, {Martinelli}, {Pettorino}, {Sakr}, {Lombriser}, {Silvestri}, {Pietroni}, {Vernizzi}, {Kunz}, {Kitching}, {Pourtsidou}, {Lacasa}, {Carbone}, {Garcia-Bellido}, {Aghanim}, {Altieri}, {Amara}, {Auricchio}, {Baldi}, {Bodendorf}, {Branchini}, {Brescia}, {Brinchmann}, {Capobianco}, {Carretero}, {Castellano}, {Cavuoti}, {Cimatti}, {Cledassou}, {Congedo}, {Conselice}, {Conversi}, {Copin}, {Corcione}, {Courbin}, {Courtois}, {DaSilva}, {Degaudenzi}, {Dubath}, {Duncan}, {Dupac}, {Dusini}, {Farrens}, {Ferriol}, {Fosalba}, {Frailis}, {Franceschi}, {Fumana}, {Galeotta}, {Garilli}, {Gillard}, {Gillis}, {Giocoli}, {Grazian}, {Grupp}, {Guzzo}, {Haugan}, {Hormuth}, {Hornstrup}, {Hudelot}, {Jahnke}, {Kermiche}, {Kiessling}, {Kilbinger}, {Kurki-Suonio}, {Ligori}, {Lilje}, {Lloro}, {Maiorano}, {Mansutti}, {Marggraf}, {Marulli}, {Massey},  {Medinaceli}, {Mellier}, {Meneghetti}, {Merlin}, {Meylan}, {Moresco}, {Moscardini}, {Munari}, {Niemi}, {Padilla}, {Paltani}, {Pasian}, {Pedersen}, {Percival}, {Pires}, {Polenta}, {Poncet}, {Popa}, {Raison}, {Renzi}, {Rhodes}, {Riccio}, {Romelli}, {Roncarelli}, {Rossetti}, {Saglia}, {Sartoris}, {Scottez}, {Secroun}, {Seidel}, {Serrano}, {Sirignano}, {Sirri}, {Stanco}, {Starck}, {Surace}, {Tallada-Cresp{í}}, {Taylor}, {Tereno}, {Toledo-Moreo}, {Torradeflot}, {Valentijn}, {Valenziano}, {Vassallo}, {Wang}, {Weller},  {Zoubian}}]{Euclid:2023tqw}{Euclid Collaboration: Casas}, S., {Cardone}, V.~F., {Sapone}, D., {et~al.} \\href{https://ui.adsabs.harvard.edu/abs/2023arXiv230611053C}{2023, arXiv:2306.11053}\n",
      " regex = \n",
      "        \\\\bibitem(\\[[^\\[\\]]*?\\]){(?P<bibkey>[a-zA-Z0-9\\-\\+\\.\\S]+?)}(?P<authors>|([\\D]*?))(?P<year>[12][0-9]{3}).*?href(.*?{(?P<url>http[\\S]*)})(?P<rest>.*)\n",
      "        \n",
      "  warnings.warn(str(e))\n",
      "/opt/hostedtoolcache/Python/3.9.23/x64/lib/python3.9/site-packages/arxiv_on_deck_2/latex_bib.py:132: UserWarning: Error processing bibitem\n",
      " item = \\bibitem[{{LSST Science Collaboration} {et~al.}(2009){LSST Science Collaboration}, {Abell}, {Allison}, {Anderson}, {Andrew}, {Angel}, {Armus}, {Arnett}, {Asztalos}, {Axelrod}, {Bailey}, {Ballantyne}, {Bankert}, {Barkhouse}, {Barr}, {Barrientos}, {Barth}, {Bartlett}, {Becker}, {Becla}, {Beers}, {Bernstein}, {Biswas}, {Blanton}, {Bloom}, {Bochanski}, {Boeshaar}, {Borne}, {Bradac}, {Brandt}, {Bridge}, {Brown}, {Brunner}, {Bullock}, {Burgasser}, {Burge}, {Burke}, {Cargile}, {Chandrasekharan}, {Chartas}, {Chesley}, {Chu}, {Cinabro}, {Claire}, {Claver}, {Clowe}, {Connolly}, {Cook}, {Cooke}, {Cooray}, {Covey}, {Culliton}, {de Jong}, {de Vries}, {Debattista}, {Delgado}, {Dell'Antonio}, {Dhital}, {Di Stefano}, {Dickinson}, {Dilday}, {Djorgovski}, {Dobler}, {Donalek}, {Dubois-Felsmann}, {Durech}, {Eliasdottir}, {Eracleous}, {Eyer}, {Falco}, {Fan}, {Fassnacht}, {Ferguson}, {Fernandez}, {Fields}, {Finkbeiner}, {Figueroa}, {Fox}, {Francke}, {Frank}, {Frieman}, {Fromenteau}, {Furqan}, {Galaz}, {Gal-Yam}, {Garnavich},  {Gawiser}, {Geary}, {Gee}, {Gibson}, {Gilmore}, {Grace}, {Green}, {Gressler}, {Grillmair}, {Habib}, {Haggerty}, {Hamuy}, {Harris}, {Hawley}, {Heavens}, {Hebb}, {Henry}, {Hileman}, {Hilton}, {Hoadley}, {Holberg}, {Holman}, {Howell}, {Infante}, {Ivezic}, {Jacoby}, {Jain}, {R}, {Jedicke}, {Jee}, {Garrett Jernigan}, {Jha}, {Johnston}, {Jones}, {Juric}, {Kaasalainen}, {Styliani}, {Kafka}, {Kahn}, {Kaib}, {Kalirai}, {Kantor}, {Kasliwal}, {Keeton}, {Kessler}, {Knezevic}, {Kowalski}, {Krabbendam}, {Krughoff}, {Kulkarni}, {Kuhlman}, {Lacy}, {Lepine}, {Liang}, {Lien}, {Lira}, {Long}, {Lorenz}, {Lotz}, {Lupton}, {Lutz}, {Macri}, {Mahabal}, {Mandelbaum}, {Marshall}, {May}, {McGehee}, {Meadows}, {Meert}, {Milani}, {Miller}, {Miller}, {Mills}, {Minniti}, {Monet}, {Mukadam}, {Nakar}, {Neill}, {Newman}, {Nikolaev}, {Nordby}, {O'Connor}, {Oguri}, {Oliver}, {Olivier}, {Olsen}, {Olsen}, {Olszewski}, {Oluseyi}, {Padilla}, {Parker}, {Pepper}, {Peterson}, {Petry}, {Pinto}, {Pizagno}, {Popescu}, {Prsa}, {Radcka}, {Raddick},  {Rasmussen}, {Rau}, {Rho}, {Rhoads}, {Richards}, {Ridgway}, {Robertson}, {Roskar}, {Saha}, {Sarajedini}, {Scannapieco}, {Schalk}, {Schindler}, {Schmidt}, {Schmidt}, {Schneider}, {Schumacher}, {Scranton}, {Sebag}, {Seppala}, {Shemmer}, {Simon}, {Sivertz}, {Smith}, {Allyn Smith}, {Smith}, {Spitz}, {Stanford}, {Stassun}, {Strader}, {Strauss}, {Stubbs}, {Sweeney}, {Szalay}, {Szkody}, {Takada}, {Thorman}, {Trilling}, {Trimble}, {Tyson}, {Van Berg}, {Vanden Berk}, {VanderPlas}, {Verde}, {Vrsnak}, {Walkowicz}, {Wandelt}, {Wang}, {Wang}, {Warner}, {Wechsler}, {West}, {Wiecha}, {Williams}, {Willman}, {Wittman}, {Wolff}, {Wood-Vasey}, {Wozniak}, {Young}, {Zentner},  {Zhan}}]{2009arXiv0912.0201L}{LSST Science Collaboration}, {Abell}, P.~A., {Allison}, J., {et~al.} \\href{https://ui.adsabs.harvard.edu/abs/2009arXiv0912.0201L}{2009, arXiv:0912.0201}\n",
      " regex = \n",
      "        \\\\bibitem(\\[[^\\[\\]]*?\\]){(?P<bibkey>[a-zA-Z0-9\\-\\+\\.\\S]+?)}(?P<authors>|([\\D]*?))(?P<year>[12][0-9]{3}).*?href(.*?{(?P<url>http[\\S]*)})(?P<rest>.*)\n",
      "        \n",
      "  warnings.warn(str(e))\n",
      "/opt/hostedtoolcache/Python/3.9.23/x64/lib/python3.9/site-packages/arxiv_on_deck_2/latex_bib.py:132: UserWarning: Error processing bibitem\n",
      " item = \\bibitem[{{Tassev} {et~al.}(2015){Tassev}, {Eisenstein}, {Wandelt},  {Zaldarriaga}}]{Tassev:2015mia}{Tassev}, S., {Eisenstein}, D.~J., {Wandelt}, B.~D.,  {Zaldarriaga}, M. \\href{https://ui.adsabs.harvard.edu/abs/2015arXiv150207751T}{2015, arXiv:1502.07751}\n",
      " regex = \n",
      "        \\\\bibitem(\\[[^\\[\\]]*?\\]){(?P<bibkey>[a-zA-Z0-9\\-\\+\\.\\S]+?)}(?P<authors>|([\\D]*?))(?P<year>[12][0-9]{3}).*?href(.*?{(?P<url>http[\\S]*)})(?P<rest>.*)\n",
      "        \n",
      "  warnings.warn(str(e))\n",
      "/opt/hostedtoolcache/Python/3.9.23/x64/lib/python3.9/site-packages/arxiv_on_deck_2/latex_bib.py:132: UserWarning: Error processing bibitem\n",
      " item = \\bibitem[{{Waterhouse}  {Zibin}(2008)}]{Waterhouse:2008vb}{Waterhouse}, T.~P.  {Zibin}, J.~P. \\href{https://ui.adsabs.harvard.edu/abs/2008arXiv0804.1771W}{2008, arXiv:0804.1771}\n",
      " regex = \n",
      "        \\\\bibitem(\\[[^\\[\\]]*?\\]){(?P<bibkey>[a-zA-Z0-9\\-\\+\\.\\S]+?)}(?P<authors>|([\\D]*?))(?P<year>[12][0-9]{3}).*?href(.*?{(?P<url>http[\\S]*)})(?P<rest>.*)\n",
      "        \n",
      "  warnings.warn(str(e))\n"
     ]
    }
   ],
   "source": [
    "documents = []\n",
    "failed = []\n",
    "for paper in tqdm(candidates):\n",
    "    # debug crap\n",
    "    paper['identifier'] = paper['identifier'].lower().replace('arxiv:', '').replace(r'\\n', '').strip()\n",
    "    paper_id = paper['identifier']\n",
    "    \n",
    "    folder = f'tmp_{paper_id}'\n",
    "\n",
    "    try:\n",
    "        if not os.path.isdir(folder):\n",
    "            folder = retrieve_document_source(f\"{paper_id}\", f'tmp_{paper_id}')\n",
    "        \n",
    "        try:\n",
    "            doc = latex.LatexDocument(folder, validation=validation)    \n",
    "        except AffiliationError as affilerror:\n",
    "            msg = f\"ArXiv:{paper_id:s} is not an MPIA paper... \" + str(affilerror)\n",
    "            failed.append((paper, \"affiliation error: \" + str(affilerror) ))\n",
    "            continue\n",
    "        \n",
    "        # Hack because sometimes author parsing does not work well\n",
    "        if (len(doc.authors) != len(paper['authors'])):\n",
    "            doc._authors = paper['authors']\n",
    "        else:\n",
    "            # highlight authors (FIXME: doc.highlight_authors)\n",
    "            # done on arxiv paper already\n",
    "            doc._authors = highlight_authors_in_list(\n",
    "                [get_initials(k) for k in doc.authors], \n",
    "                mpia_authors, verbose=True)\n",
    "        if (doc.abstract) in (None, ''):\n",
    "            doc._abstract = paper['abstract']\n",
    "            \n",
    "        doc.comment = (get_markdown_badge(paper_id) + \n",
    "                       \"<mark>Appeared on: \" + paper['date'] + \"</mark> - \")\n",
    "        if paper['comments']:\n",
    "            doc.comment += \" _\" + paper['comments'] + \"_\"\n",
    "        \n",
    "        full_md = doc.generate_markdown_text()\n",
    "        \n",
    "        full_md += get_markdown_qrcode(paper_id)\n",
    "        \n",
    "        # replace citations\n",
    "        try:\n",
    "            bibdata = latex_bib.LatexBib.from_doc(doc)\n",
    "            full_md = latex_bib.replace_citations(full_md, bibdata)\n",
    "        except Exception as e:\n",
    "            print(\"Issues with the citations\")\n",
    "            print(e)\n",
    "        \n",
    "        documents.append((paper_id, full_md))\n",
    "    except Exception as e:\n",
    "        warnings.warn(latex.LatexWarning(f\"{paper_id:s} did not run properly\\n\" +\n",
    "                                         str(e)\n",
    "                                        ))\n",
    "        failed.append((paper, \"latex error \" + str(e)))"
   ]
  },
  {
   "cell_type": "markdown",
   "id": "2505a25c",
   "metadata": {
    "papermill": {
     "duration": 0.004642,
     "end_time": "2025-07-22T04:34:01.375563",
     "exception": false,
     "start_time": "2025-07-22T04:34:01.370921",
     "status": "completed"
    },
    "tags": []
   },
   "source": [
    "### Export the logs\n",
    "\n",
    "Throughout, we also keep track of the logs per paper. see `logs-{today date}.md` "
   ]
  },
  {
   "cell_type": "code",
   "execution_count": 6,
   "id": "d733828a",
   "metadata": {
    "execution": {
     "iopub.execute_input": "2025-07-22T04:34:01.386392Z",
     "iopub.status.busy": "2025-07-22T04:34:01.386095Z",
     "iopub.status.idle": "2025-07-22T04:34:01.407943Z",
     "shell.execute_reply": "2025-07-22T04:34:01.407365Z"
    },
    "papermill": {
     "duration": 0.028731,
     "end_time": "2025-07-22T04:34:01.408922",
     "exception": false,
     "start_time": "2025-07-22T04:34:01.380191",
     "status": "completed"
    },
    "scrolled": false,
    "tags": []
   },
   "outputs": [
    {
     "data": {
      "text/markdown": [
       "## Successful papers"
      ],
      "text/plain": [
       "<IPython.core.display.Markdown object>"
      ]
     },
     "metadata": {},
     "output_type": "display_data"
    },
    {
     "data": {
      "text/markdown": [
       "\n",
       "|||\n",
       "|---:|:---|\n",
       "| [![arXiv](https://img.shields.io/badge/arXiv-2507.14905-b31b1b.svg)](https://arxiv.org/abs/2507.14905) | **A deep Search for Ethylene Glycol and Glycolonitrile in the V883 Ori Protoplanetary Disk**  |\n",
       "|| A. M. A. Fadul, et al. -- incl., <mark>T. Suhasaria</mark> |\n",
       "|*Appeared on*| *2025-07-22*|\n",
       "|*Comments*| *15 pages, 8 figures, accepted for publication in ApJL*|\n",
       "|**Abstract**|            Ethylene glycol ($\\mathrm{(CH_2OH)_2}$, hereafter EG) and Glycolonitrile ($\\mathrm{HOCH_2CN}$, hereafter GN) are considered molecular precursors of nucleic acids. EG is a sugar alcohol and the reduced form of Glycolaldehyde ($\\mathrm{CH_2(OH)CHO}$, hereafter GA). GN is considered a key precursor of adenine formation (nucleotide) and can be a precursor of glycine (amino acid). Detections of such prebiotic molecules in the interstellar medium are increasingly common. How much of this complexity endures to the planet formation stage, and thus is already present when planets form, remains largely unknown. Here we report Atacama Large Millimeter/sub-millimeter Array (ALMA) observations in which we tentatively detect EG and GN in the protoplanetary disk around the outbursting protostar V883 Ori. The observed EG emission is best reproduced by a column density of $\\mathrm{3.63^{+0.11}_{-0.12} \\times 10^{16} \\; cm^{-2}}$ and a temperature of at least 300 K. The observed GN emission is best reproduced by a column density of $\\mathrm{3.37^{+0.09}_{-0.09} \\times 10^{16} \\; cm^{-2}}$ and a temperature of $88^{+1.2}_{-1.2}$ K. Comparing the abundance of EG and GN relative to methanol in V883 Ori with other objects, V883 Ori falls between hot cores and comets in terms of increasing complexity. This suggests that the build up of prebiotic molecules continues past the hot core phase into the epoch of planet formation. Nascent planets in such environments may inherit essential building blocks for life, enhancing their potential habitability. Further observations of this protoplanetary disk at higher spectral resolution are required to resolve blended lines and to confirm these tentative detection.         |"
      ],
      "text/plain": [
       "[2507.14905] A deep Search for Ethylene Glycol and Glycolonitrile in the V883 Ori Protoplanetary Disk\n",
       "\tA. M. A. Fadul, et al. -- incl., <mark>T. Suhasaria</mark>"
      ]
     },
     "metadata": {},
     "output_type": "display_data"
    },
    {
     "data": {
      "text/markdown": [
       "\n",
       "|||\n",
       "|---:|:---|\n",
       "| [![arXiv](https://img.shields.io/badge/arXiv-2507.15122-b31b1b.svg)](https://arxiv.org/abs/2507.15122) | **Stellar Population Astrophysics (SPA) with the TNG: NLTE atmospheric parameters and abundances of giant stars in 33 Open Clusters**  |\n",
       "|| M. D. Ponte, et al. -- incl., <mark>N. Storm</mark> |\n",
       "|*Appeared on*| *2025-07-22*|\n",
       "|*Comments*| *23 pages, 12 figures, Accepted for publication in A&A*|\n",
       "|**Abstract**|            Open clusters serve as important tools for accurately studying the chemical evolution of the Milky Way. By combining precise chemical data from high-resolution spectra with information on their distances and ages, we can effectively uncover the processes that have shaped our Galaxy. This study aims to derive NLTE atmospheric parameters and chemical abundances for approximately one hundred giant stars across 33 open clusters with near-solar metallicity. The clusters span a wide range of ages, enabling an assessment of the presence and extent of any age-related abundance gradients. In the Stellar Population Astrophysics (SPA) project, we acquired new high-resolution spectra of open clusters using the HARPS-N echelle spectrograph at the Telescopio Nazionale Galileo. We chemically characterized nine open clusters for the first time and reanalyzed previously studied SPA clusters, resulting in a consistent and homogeneous sample. We determined NLTE atmospheric parameters using the equivalent width method and derived NLTE chemical abundances through spectral synthesis for various elements, including alpha elements (Mg, Si, and Ti), light odd-Z elements (Na, Al), iron-peak elements (Mn, Co, and Ni), and neutron-capture elements (Sr, Y, and Eu). Our findings are compared with the existing literature, revealing good agreement. We examine the trends of [X/Fe] versus age, confirming previous observations and the enrichment patterns predicted by nucleosynthesis processes. Positive correlations with age are present for Mg, Si, Ti, Al, Mn, Co, Ni, and Sr, while Na and Y and Eu show a negative trend. This study emphasizes the significance of NLTE corrections and reinforces the utility of open clusters as tracers of Galactic chemical evolution. Furthermore, we provide a benchmark sample of NLTE abundances for upcoming open cluster surveys within large-scale projects such as 4MOST and WEAVE.         |"
      ],
      "text/plain": [
       "[2507.15122] Stellar Population Astrophysics (SPA) with the TNG: NLTE atmospheric parameters and abundances of giant stars in 33 Open Clusters\n",
       "\tM. D. Ponte, et al. -- incl., <mark>N. Storm</mark>"
      ]
     },
     "metadata": {},
     "output_type": "display_data"
    },
    {
     "data": {
      "text/markdown": [
       "\n",
       "|||\n",
       "|---:|:---|\n",
       "| [![arXiv](https://img.shields.io/badge/arXiv-2507.15516-b31b1b.svg)](https://arxiv.org/abs/2507.15516) | **The CARMENES search for exoplanets around M dwarfs. Revisiting the GJ 317, GJ 463, and GJ 3512 systems and two newly discovered planets orbiting GJ 9773 and GJ 508.2**  |\n",
       "|| J. C. Morales, et al. -- incl., <mark>T. Henning</mark> |\n",
       "|*Appeared on*| *2025-07-22*|\n",
       "|*Comments*| *32 pages (including appendix with radial velocity time series), 16 figures, 14 tables. Accepted for publication in A&A*|\n",
       "|**Abstract**|            Surveys for exoplanets indicate that the occurrence rate of gas giant planets orbiting late-type stars in orbits with periods shorter than 1000 days is lower than in the case of Sun-like stars. This is in agreement with planet formation models based on the core or pebble accretion paradigm. The CARMENES exoplanet survey has been conducting radial-velocity observations of several targets that show long-period trends or modulations that are consistent with the presence of giant planets at large orbital separations. We present an analysis of five such systems that were monitored with the CARMENES spectrograph, as well as with the IRD spectrograph. In addition, we used archival data to improve the orbital parameters of the planetary systems. We improve the parameters of three previously known planets orbiting the M dwarfs GJ 317, GJ 463, and GJ 3512. We also determine the orbital parameters and minimum mass of the planet GJ 3512 c, for which only lower limits had been given previously. Furthermore, we present the discovery of two new giant planets orbiting the stars GJ 9733 and GJ 508.2, although for the second one only lower limits to the orbital properties can be determined. The new planet discoveries add to the short list of known giant planets orbiting M-dwarf stars with subsolar metallicity at long orbital periods above 2000 days. These results reveal that giant planets appear to form more frequently in wide orbits than in close-in orbits around low-mass and lower metallicity stars.         |"
      ],
      "text/plain": [
       "[2507.15516] The CARMENES search for exoplanets around M dwarfs. Revisiting the GJ 317, GJ 463, and GJ 3512 systems and two newly discovered planets orbiting GJ 9773 and GJ 508.2\n",
       "\tJ. C. Morales, et al. -- incl., <mark>T. Henning</mark>"
      ]
     },
     "metadata": {},
     "output_type": "display_data"
    },
    {
     "data": {
      "text/markdown": [
       "\n",
       "|||\n",
       "|---:|:---|\n",
       "| [![arXiv](https://img.shields.io/badge/arXiv-2507.15819-b31b1b.svg)](https://arxiv.org/abs/2507.15819) | **Euclid preparation: Expected constraints on initial conditions**  |\n",
       "|| E. Collaboration, et al. -- incl., <mark>K. Jahnke</mark> |\n",
       "|*Appeared on*| *2025-07-22*|\n",
       "|*Comments*| *Abstract abridged, 25 pages, 6 tables, 11 figures*|\n",
       "|**Abstract**|            The Euclid mission of the European Space Agency will deliver galaxy and cosmic shear surveys, which will be used to constrain initial conditions and statistics of primordial fluctuations. We present highlights for the Euclid scientific capability to test initial conditions beyond LCDM with the main probes, i.e. 3D galaxy clustering from the spectroscopic survey, the tomographic approach to 3x2pt statistics from photometric galaxy survey, and their combination. We provide Fisher forecasts from the combination of Euclid spectroscopic and photometric surveys for spatial curvature, running of the spectral index of the power spectrum of curvature perturbations, isocurvature perturbations, and primordial features. For the parameters of these models we also provide the combination of Euclid forecasts (pessimistic and optimistic) with current and future measurements of the cosmic microwave background (CMB) anisotropies., i.e. Planck, the Simons Observatory (SO), and CMB-S4. We provide Fisher forecasts for how the power spectrum and bispectrum from the Euclid spectroscopic survey will constrain the local, equilateral, and orthogonal shapes of primordial non-Gaussianity. We also review how Bayesian field-level inference of primordial non-Gaussianity can constrain local primordial non-Gaussianity. We show how Euclid, with its unique combination of the main probes, will provide the tightest constraints on low redshift to date. By targeting a markedly different range in redshift and scale, Euclid's expected uncertainties are complementary to those obtained by CMB primary anisotropy, returning the tightest combined constraints on the physics of the early Universe.         |"
      ],
      "text/plain": [
       "[2507.15819] Euclid preparation: Expected constraints on initial conditions\n",
       "\tE. Collaboration, et al. -- incl., <mark>K. Jahnke</mark>"
      ]
     },
     "metadata": {},
     "output_type": "display_data"
    },
    {
     "data": {
      "text/markdown": [
       "## Failed papers"
      ],
      "text/plain": [
       "<IPython.core.display.Markdown object>"
      ]
     },
     "metadata": {},
     "output_type": "display_data"
    },
    {
     "data": {
      "text/markdown": [
       "\n",
       "|||\n",
       "|---:|:---|\n",
       "| [![arXiv](https://img.shields.io/badge/arXiv-2507.14400-b31b1b.svg)](https://arxiv.org/abs/2507.14400) | **Optical Counterparts to X-ray sources in LSST DP1**  |\n",
       "|| Yuankun, et al. -- incl., <mark>Wang</mark> |\n",
       "|*Appeared on*| *2025-07-22*|\n",
       "|*Comments*| *14 pages, 8 figures*|\n",
       "|**Abstract**|            We present a crossmatch between a combined catalog of X-ray sources and the Vera C. Rubin Observatory Data Preview 1 (DP1) to identify optical counterparts. The six fields targeted as part of DP1 include the Extended Chandra Deep Field South (E-CDF-S), the Euclid Deep Field South (EDF-S), the Fornax Dwarf Spheroidal Galaxy (Fornax dSph), 47 Tucanae (47 Tuc) and science validation fields with low galactic and ecliptic latitude (SV\\_95\\_-25 and SV\\_38\\_7, respectively). We find matches to 2314 of 3830 X-ray sources. We also compare our crossmatch to DP1 in the E-CDF-S field to previous efforts to identify optical counterparts. The probability of a chance coincidence match varies across each DP1 field, with overall high reliability in the E-CDF-S field, and lower proportion of high-reliability matches in the other fields. The majority of previously known sources that we detect are, unsurprisingly, active galaxies. We plot the X-ray-to-optical flux ratio against optical magnitude and color in an effort to identify Galactic accreting compact objects using a {\\em Gaia} color threshold transformed to LSST $g$--$i$, but do not find any strong candidates in these primarily extragalactic counterparts. The DP1 dataset contains high-cadence photometry collected over a number of nights. We calculate the Stetson \\( J \\) variability index for each object under the hypothesis that X-ray counterparts tend to exhibit higher optical variability; however, the evidence is inconclusive whether our sample is more variable over DP1 timescales when compared to field objects.         |\n",
       "|<p style=\"color:green\"> **ERROR** </p>| <p style=\"color:green\">affiliation error: mpia.affiliation_verifications: 'Heidelberg' keyword not found.</p> |"
      ],
      "text/plain": [
       "<IPython.core.display.Markdown object>"
      ]
     },
     "metadata": {},
     "output_type": "display_data"
    },
    {
     "data": {
      "text/markdown": [
       "\n",
       "|||\n",
       "|---:|:---|\n",
       "| [![arXiv](https://img.shields.io/badge/arXiv-2507.14707-b31b1b.svg)](https://arxiv.org/abs/2507.14707) | **A prolific repeating fast radio burst source and a crisis of the magnetar model**  |\n",
       "|| J.-S. Zhang, et al. -- incl., <mark>J. Li</mark>, <mark>Y. Wang</mark> |\n",
       "|*Appeared on*| *2025-07-22*|\n",
       "|*Comments*| *33 pages, 6 figures, the 1st of papers from the FAST FRB Key Science Project Collaboration on FRB 20240114A: Energy Budget Analysis*|\n",
       "|**Abstract**|            Magnetars are widely considered to be the central engine of fast radio bursts (FRBs), capable of driving coherent radio emission through magnetic energy release. The accumulation of burst energy can be employed as a probe to reveal the nature of FRB energy engine. Current observations of repeaters have not yet provided sufficient constraints on the magnetic energy budget for magnetar models. Here we report 11,553 bursts detected from the hyper-active repeating source FRB 20240114A over 214 days during a recent active episode, with a peak burst rate as high as 729 hr$^{-1}$, above the detection threshold of the monitoring observations using Five-hundred-meter Aperture Spherical radio Telescope (FAST). This represents the largest recorded burst sample from a single FRB source, comprising more than four times as many bursts as any previously known repeater and exceeding the cumulative total of all published bursts to date. Assuming a typical value of radio efficiency of $10^{-4}$ and a beaming factor of 0.1, the estimated total isotropic burst energy of this source exceeds 86\\% of the dipolar magnetic energy of a typical magnetar with a polar surface magnetic field of $10^{15}$ G and a radius of $10^6$ cm. The total energy release of this source is about one and a half orders of magnitude higher than that of other known repeaters. We further provide the most stringent lower limit of $\\bf{4.7\\times10^{32}}$ G cm$^3$ on the magnetic moment of the underlying magnetar. The findings suggest that either the central engine emits with exceptionally high radio efficiency, possesses a small beaming factor, or it should be a more powerful compact object than typically considered in current magnetar models.         |\n",
       "|<p style=\"color:green\"> **ERROR** </p>| <p style=\"color:green\">affiliation error: mpia.affiliation_verifications: 'Heidelberg' keyword not found.</p> |"
      ],
      "text/plain": [
       "<IPython.core.display.Markdown object>"
      ]
     },
     "metadata": {},
     "output_type": "display_data"
    },
    {
     "data": {
      "text/markdown": [
       "\n",
       "|||\n",
       "|---:|:---|\n",
       "| [![arXiv](https://img.shields.io/badge/arXiv-2507.14708-b31b1b.svg)](https://arxiv.org/abs/2507.14708) | **Searching for periodic signals and quasi-periodic oscillations from an extremely active cycle of FRB 20240114A**  |\n",
       "|| D. Zhou, et al. -- incl., <mark>K. Lee</mark>, <mark>J. Li</mark>, <mark>Y. Wang</mark> |\n",
       "|*Appeared on*| *2025-07-22*|\n",
       "|*Comments*| *23 pages, 10 figures, 2 tables, the 2nd of papers from the FAST FRB Key Science Project Collaboration on FRB 20240114A: (quasi-) period search*|\n",
       "|**Abstract**|            Possible periodic features in fast radio bursts (FRBs) may provide insights into their astrophysical origins. Using extensive observations from the Five-hundred-meter Aperture Spherical radio Telescope (FAST), we conduct a search for periodicity across multiple timescales in the exceptionally active repeater source FRB 20240114A. A detailed analysis of 11,553 bursts reveals three candidate periodic signals (3.4-6$\\sigma$), with frequencies of approximately 1.486 Hz, 1.576 Hz, and 1.865 Hz. This finding offers tentative evidence for a potential association with magnetar spin, although further studies are necessary for definitive confirmation. On longer timescales, a 67.5-69.2 day activity cycle is identified using two independent methods, with a significance exceeding $3.5\\sigma$. In the burst time series, quasi-periodic oscillations (QPOs) in the range of a few hundred Hz are identified, with a significance exceeding 5$\\sigma$, and a strong correlation is found between their central frequencies and widths (Pearson $R=0.97$). The decomposed temporal profiles of these QPOs suggest an amplitude-modulated quasi-periodic signal. The burst clusters manifest periodic burst trains ranging from a few milliseconds to several tens of milliseconds, revealing transient periodic characteristics. Despite the unprecedentedly large sample size from a single repeating FRB source during a time-continuous active period, no stable periodic signals are detected. Instead, there are multiple QPOs that dynamically evolve over time. These results clarify the bias of previous studies that occasionally detected QPOs believed to be potentially related to the spin of compact objects.         |\n",
       "|<p style=\"color:green\"> **ERROR** </p>| <p style=\"color:green\">affiliation error: mpia.affiliation_verifications: 'Heidelberg' keyword not found.</p> |"
      ],
      "text/plain": [
       "<IPython.core.display.Markdown object>"
      ]
     },
     "metadata": {},
     "output_type": "display_data"
    },
    {
     "data": {
      "text/markdown": [
       "\n",
       "|||\n",
       "|---:|:---|\n",
       "| [![arXiv](https://img.shields.io/badge/arXiv-2507.14711-b31b1b.svg)](https://arxiv.org/abs/2507.14711) | **Investigating FRB 20240114A with FAST: Morphological Classification and Drifting Rate Measurements in a Burst-Cluster Framework**  |\n",
       "|| L.-X. Zhang, et al. -- incl., <mark>J. Li</mark>, <mark>Y. Wang</mark> |\n",
       "|*Appeared on*| *2025-07-22*|\n",
       "|*Comments*| *22 pages, 13 figures, 1 tables, the 3rd of papers from the FAST FRB Key Science Project Collaboration on FRB 20240114A: Burst Morphology Analysis*|\n",
       "|**Abstract**|            This study investigates the morphological classification and drifting rate measurement of the repeating fast radio burst (FRB) source FRB20240114A using the Five-hundred-meter Aperture Spherical Telescope (FAST). Detected on January 14, 2024, FRB20240114A showed an exceptionally high burst rate. During a continuous 15,780-second monitoring session on March 12, 2024, 3,203 bursts (2,109 burst-clusters) were detected. We refine the definitions of sub-bursts, bursts, and burst-clusters. Using an average dispersion measure (DM) of 529.2 pc cm$^{-3}$, burst-clusters were classified into Downward Drifting, Upward Drifting, No Drifting, No Evidence for Drifting, Not-Clear, and Complex categories. Notably, 233 (23.82%) of the 978 drifting burst-clusters showed upward drifting. Excluding 142 upward drifting single-component clusters, the remaining 91 upward drifting double- or multiple-components clusters account for 10.89% of the drifting sample. Further restricting to those with consecutive time intervals, only 9 upward drifting bursts remain. An inverse correlation is found between drifting rate and sub-burst effective width. Upward drifting single-component clusters tend to have smaller effective widths, bandwidths, and fluxes than downward drifting ones. For these upward drifting clusters, drifting rate increases with peak frequency. A Kolmogorov-Smirnov test reveals longer consecutive intervals in upward drifting clusters compared to downward ones, suggesting differing underlying mechanisms.         |\n",
       "|<p style=\"color:green\"> **ERROR** </p>| <p style=\"color:green\">affiliation error: mpia.affiliation_verifications: 'Heidelberg' keyword not found.</p> |"
      ],
      "text/plain": [
       "<IPython.core.display.Markdown object>"
      ]
     },
     "metadata": {},
     "output_type": "display_data"
    },
    {
     "data": {
      "text/markdown": [
       "\n",
       "|||\n",
       "|---:|:---|\n",
       "| [![arXiv](https://img.shields.io/badge/arXiv-2507.15482-b31b1b.svg)](https://arxiv.org/abs/2507.15482) | **Delayed Launch of Ultrafast Outflows in the Tidal Disruption Event AT2020afhd**  |\n",
       "|| Z. Lin, et al. -- incl., <mark>Y. Wang</mark>, <mark>J. Liu</mark> |\n",
       "|*Appeared on*| *2025-07-22*|\n",
       "|*Comments*| *15 pages, 7 figures, 4 tables; accepted for publication in ApJ Letters*|\n",
       "|**Abstract**|            We report the detection and characterization of ultrafast outflows (UFOs) in the X-ray spectra of the tidal disruption event (TDE) AT2020afhd, based on observations from NICER, Swift, and XMM. Prominent blueshifted absorption features were detected exclusively during the intermediate phase of the event, occurring between days 172 and 212 within the first 300 days post-discovery. During this period, the UFO appeared no earlier than day 74, strengthened between days 172 and 194, and disappeared after day 215. This marks the first time that the full evolutionary sequence of X-ray outflows has been observed in a TDE. Moreover, the outflows exhibited a dramatic deceleration from ~0.19c to ~0.0097c over a span of approximately 10 days. Photoionization spectral analysis reveals an inverse correlation between outflow velocity and ionization parameter, in contradiction to the predictions from radiation pressure-driven wind. Eventually, we propose that the delayed onset of the outflows may result from an increase in the wind opening angle and/or metal enrichment, particularly iron and oxygen, during the disk formation phase.         |\n",
       "|<p style=\"color:green\"> **ERROR** </p>| <p style=\"color:green\">affiliation error: mpia.affiliation_verifications: 'Heidelberg' keyword not found.</p> |"
      ],
      "text/plain": [
       "<IPython.core.display.Markdown object>"
      ]
     },
     "metadata": {},
     "output_type": "display_data"
    },
    {
     "data": {
      "text/markdown": [
       "\n",
       "|||\n",
       "|---:|:---|\n",
       "| [![arXiv](https://img.shields.io/badge/arXiv-2507.15790-b31b1b.svg)](https://arxiv.org/abs/2507.15790) | **Decadal evolution of a repeating fast radio burst source**  |\n",
       "|| P. Wang, et al. -- incl., <mark>K. Lee</mark>, <mark>J. Li</mark>, <mark>Y. Wang</mark>, <mark>Y. Wang</mark> |\n",
       "|*Appeared on*| *2025-07-22*|\n",
       "|*Comments*| *85 pages, 14 figures, under review of Nature Astronomy*|\n",
       "|**Abstract**|            The origin of fast radio bursts (FRBs), the brightest cosmic radio explosions, is still unknown. Bearing critical clues to FRBs' origin, the long-term evolution of FRBs has yet to be confirmed, since the field is still young and most FRBs were seen only once. Here we report clear evidence of decadal evolution of FRB~20121102A, the first precisely localized repeater. In conjunction with archival data, our FAST and GBT monitoring campaign since 2020 reveals a significant 7% decline of local dispersion measure (DM). The rotation measure (RM) of 30,755$\\pm$16 $\\mathrm{rad\\,m^{-2}}$ detected in the last epoch represents a 70% decrease compared to that from December 2016. The $\\sigma_{RM}$ parameter, which describes the complexity of the magneto-ionic environment surrounding the source, was shown to have decreased by 13%. These general trends reveal an evolving FRB environment, which could originate from an early-phase supernova associated with an enhanced pair wind from the FRB central engine.         |\n",
       "|<p style=\"color:green\"> **ERROR** </p>| <p style=\"color:green\">affiliation error: mpia.affiliation_verifications: 'Heidelberg' keyword not found.</p> |"
      ],
      "text/plain": [
       "<IPython.core.display.Markdown object>"
      ]
     },
     "metadata": {},
     "output_type": "display_data"
    }
   ],
   "source": [
    "import datetime\n",
    "today = str(datetime.date.today())\n",
    "logfile = f\"_build/html/logs/log-{today}.md\"\n",
    "\n",
    "\n",
    "with open(logfile, 'w') as logs:\n",
    "    # Success\n",
    "    logs.write(f'# Arxiv on Deck 2: Logs - {today}\\n\\n')\n",
    "    logs.write(\"\"\"* Arxiv had {0:,d} new papers\\n\"\"\".format(len(new_papers)))\n",
    "    logs.write(\"\"\"    * {0:,d} with possible author matches\\n\\n\"\"\".format(len(candidates)))\n",
    "    logs.write(\"## Sucessful papers\\n\\n\")\n",
    "    display(Markdown(\"## Successful papers\"))\n",
    "    success = [k[0] for k in documents]\n",
    "    for candid in candidates:\n",
    "        if candid['identifier'].split(':')[-1] in success:\n",
    "            display(candid)\n",
    "            logs.write(candid.generate_markdown_text() + '\\n\\n')\n",
    "\n",
    "    ## failed\n",
    "    logs.write(\"## Failed papers\\n\\n\")\n",
    "    display(Markdown(\"## Failed papers\"))\n",
    "    failed = sorted(failed, key=lambda x: x[1])\n",
    "    current_reason = \"\"\n",
    "    for paper, reason in failed:\n",
    "        if 'affiliation' in reason:\n",
    "            color = 'green'\n",
    "        else:\n",
    "            color = 'red'\n",
    "        data = Markdown(\n",
    "                paper.generate_markdown_text() + \n",
    "                f'\\n|<p style=\"color:{color:s}\"> **ERROR** </p>| <p style=\"color:{color:s}\">{reason:s}</p> |'\n",
    "               )\n",
    "        if reason != current_reason:\n",
    "            logs.write(f'### {reason:s} \\n\\n')\n",
    "            current_reason = reason\n",
    "        logs.write(data.data + '\\n\\n')\n",
    "        \n",
    "        # only display here the important errors (all in logs)\n",
    "        # if color in ('red',):\n",
    "        display(data)"
   ]
  },
  {
   "cell_type": "markdown",
   "id": "472d20ee",
   "metadata": {
    "papermill": {
     "duration": 0.005707,
     "end_time": "2025-07-22T04:34:01.420600",
     "exception": false,
     "start_time": "2025-07-22T04:34:01.414893",
     "status": "completed"
    },
    "tags": []
   },
   "source": [
    "## Export documents\n",
    "\n",
    "We now write the .md files and export relevant images"
   ]
  },
  {
   "cell_type": "code",
   "execution_count": 7,
   "id": "d426aed9",
   "metadata": {
    "execution": {
     "iopub.execute_input": "2025-07-22T04:34:01.433118Z",
     "iopub.status.busy": "2025-07-22T04:34:01.432898Z",
     "iopub.status.idle": "2025-07-22T04:34:01.439889Z",
     "shell.execute_reply": "2025-07-22T04:34:01.439216Z"
    },
    "papermill": {
     "duration": 0.014446,
     "end_time": "2025-07-22T04:34:01.440893",
     "exception": false,
     "start_time": "2025-07-22T04:34:01.426447",
     "status": "completed"
    },
    "tags": []
   },
   "outputs": [],
   "source": [
    "def export_markdown_summary(md: str, md_fname:str, directory: str):\n",
    "    \"\"\"Export MD document and associated relevant images\"\"\"\n",
    "    import os\n",
    "    import shutil\n",
    "    import re\n",
    "\n",
    "    if (os.path.exists(directory) and not os.path.isdir(directory)):\n",
    "        raise RuntimeError(f\"a non-directory file exists with name {directory:s}\")\n",
    "\n",
    "    if (not os.path.exists(directory)):\n",
    "        print(f\"creating directory {directory:s}\")\n",
    "        os.mkdir(directory)\n",
    "\n",
    "    fig_fnames = (re.compile(r'\\[Fig.*\\]\\((.*)\\)').findall(md) + \n",
    "                  re.compile(r'\\<img src=\"([^>\\s]*)\"[^>]*/>').findall(md))\n",
    "    print(\"found figures\", fig_fnames)\n",
    "    for fname in fig_fnames:\n",
    "        if 'http' in fname:\n",
    "            # No need to copy online figures\n",
    "            continue\n",
    "        if not os.path.exists(fname):\n",
    "            print(\"file not found\", fname)\n",
    "            continue\n",
    "        print(\"copying \", fname, \"to\", directory)\n",
    "        destdir = os.path.join(directory, os.path.dirname(fname))\n",
    "        destfname = os.path.join(destdir, os.path.basename(fname))\n",
    "        try:\n",
    "            os.makedirs(destdir)\n",
    "        except FileExistsError:\n",
    "            pass\n",
    "        shutil.copy(fname, destfname)\n",
    "    with open(os.path.join(directory, md_fname), 'w') as fout:\n",
    "        fout.write(md)\n",
    "    print(\"exported in \", os.path.join(directory, md_fname))\n",
    "    [print(\"    + \" + os.path.join(directory,fk)) for fk in fig_fnames]"
   ]
  },
  {
   "cell_type": "code",
   "execution_count": 8,
   "id": "014d04a4",
   "metadata": {
    "execution": {
     "iopub.execute_input": "2025-07-22T04:34:01.453224Z",
     "iopub.status.busy": "2025-07-22T04:34:01.452982Z",
     "iopub.status.idle": "2025-07-22T04:34:01.464680Z",
     "shell.execute_reply": "2025-07-22T04:34:01.464006Z"
    },
    "papermill": {
     "duration": 0.019006,
     "end_time": "2025-07-22T04:34:01.465753",
     "exception": false,
     "start_time": "2025-07-22T04:34:01.446747",
     "status": "completed"
    },
    "tags": []
   },
   "outputs": [
    {
     "name": "stdout",
     "output_type": "stream",
     "text": [
      "found figures ['tmp_2507.14905/./Figures/prebiotic_spectra.png', 'tmp_2507.14905/./Figures/summed_spectra.png', 'tmp_2507.14905/./Figures/leedata1.png']\n",
      "copying  tmp_2507.14905/./Figures/prebiotic_spectra.png to _build/html/\n",
      "copying  tmp_2507.14905/./Figures/summed_spectra.png to _build/html/\n",
      "copying  tmp_2507.14905/./Figures/leedata1.png to _build/html/\n",
      "exported in  _build/html/2507.14905.md\n",
      "    + _build/html/tmp_2507.14905/./Figures/prebiotic_spectra.png\n",
      "    + _build/html/tmp_2507.14905/./Figures/summed_spectra.png\n",
      "    + _build/html/tmp_2507.14905/./Figures/leedata1.png\n",
      "found figures ['tmp_2507.15122/./figs/elements_fe_age_galah_errors.png', 'tmp_2507.15122/./figs/elements_age_fe_linear_regression_OLS.png', 'tmp_2507.15122/./figs/lotus_results_5_clusters_final_nlte_lte.png']\n",
      "copying  tmp_2507.15122/./figs/elements_fe_age_galah_errors.png to _build/html/\n",
      "copying  tmp_2507.15122/./figs/elements_age_fe_linear_regression_OLS.png to _build/html/\n",
      "copying  tmp_2507.15122/./figs/lotus_results_5_clusters_final_nlte_lte.png to _build/html/\n",
      "exported in  _build/html/2507.15122.md\n",
      "    + _build/html/tmp_2507.15122/./figs/elements_fe_age_galah_errors.png\n",
      "    + _build/html/tmp_2507.15122/./figs/elements_age_fe_linear_regression_OLS.png\n",
      "    + _build/html/tmp_2507.15122/./figs/lotus_results_5_clusters_final_nlte_lte.png\n",
      "found figures ['tmp_2507.15516/./Fig5.png', 'tmp_2507.15516/./Fig1a.png', 'tmp_2507.15516/./Fig1b.png', 'tmp_2507.15516/./Fig9.png']\n",
      "copying  tmp_2507.15516/./Fig5.png to _build/html/\n",
      "copying  tmp_2507.15516/./Fig1a.png to _build/html/\n",
      "copying  tmp_2507.15516/./Fig1b.png to _build/html/\n",
      "copying  tmp_2507.15516/./Fig9.png to _build/html/\n",
      "exported in  _build/html/2507.15516.md\n",
      "    + _build/html/tmp_2507.15516/./Fig5.png\n",
      "    + _build/html/tmp_2507.15516/./Fig1a.png\n",
      "    + _build/html/tmp_2507.15516/./Fig1b.png\n",
      "    + _build/html/tmp_2507.15516/./Fig9.png\n",
      "found figures ['tmp_2507.15819/./JV_EuclidIsocurvature1aTickIn.png', 'tmp_2507.15819/./JV_EuclidIsocurvature1bTickIn.png', 'tmp_2507.15819/./JV_PII2_kmax_TickIn.png', 'tmp_2507.15819/./JV_EuclidIsocurvature1c_pessimisticTickIn.png', 'tmp_2507.15819/./JV_EuclidIsocurvature1d_pessimisticTickIn.png']\n",
      "copying  tmp_2507.15819/./JV_EuclidIsocurvature1aTickIn.png to _build/html/\n",
      "copying  tmp_2507.15819/./JV_EuclidIsocurvature1bTickIn.png to _build/html/\n",
      "copying  tmp_2507.15819/./JV_PII2_kmax_TickIn.png to _build/html/\n",
      "copying  tmp_2507.15819/./JV_EuclidIsocurvature1c_pessimisticTickIn.png to _build/html/\n",
      "copying  tmp_2507.15819/./JV_EuclidIsocurvature1d_pessimisticTickIn.png to _build/html/\n",
      "exported in  _build/html/2507.15819.md\n",
      "    + _build/html/tmp_2507.15819/./JV_EuclidIsocurvature1aTickIn.png\n",
      "    + _build/html/tmp_2507.15819/./JV_EuclidIsocurvature1bTickIn.png\n",
      "    + _build/html/tmp_2507.15819/./JV_PII2_kmax_TickIn.png\n",
      "    + _build/html/tmp_2507.15819/./JV_EuclidIsocurvature1c_pessimisticTickIn.png\n",
      "    + _build/html/tmp_2507.15819/./JV_EuclidIsocurvature1d_pessimisticTickIn.png\n"
     ]
    }
   ],
   "source": [
    "for paper_id, md in documents:\n",
    "    export_markdown_summary(md, f\"{paper_id:s}.md\", '_build/html/')"
   ]
  },
  {
   "cell_type": "markdown",
   "id": "f087a0a7",
   "metadata": {
    "papermill": {
     "duration": 0.00594,
     "end_time": "2025-07-22T04:34:01.477937",
     "exception": false,
     "start_time": "2025-07-22T04:34:01.471997",
     "status": "completed"
    },
    "tags": []
   },
   "source": [
    "## Display the papers\n",
    "\n",
    "Not necessary but allows for a quick check."
   ]
  },
  {
   "cell_type": "code",
   "execution_count": 9,
   "id": "fd25f625",
   "metadata": {
    "execution": {
     "iopub.execute_input": "2025-07-22T04:34:01.490562Z",
     "iopub.status.busy": "2025-07-22T04:34:01.490347Z",
     "iopub.status.idle": "2025-07-22T04:34:01.498455Z",
     "shell.execute_reply": "2025-07-22T04:34:01.497888Z"
    },
    "papermill": {
     "duration": 0.015595,
     "end_time": "2025-07-22T04:34:01.499452",
     "exception": false,
     "start_time": "2025-07-22T04:34:01.483857",
     "status": "completed"
    },
    "scrolled": false,
    "tags": []
   },
   "outputs": [
    {
     "data": {
      "text/markdown": [
       "<div class=\"macros\" style=\"visibility:hidden;\">\n",
       "$\\newcommand{\\ensuremath}{}$\n",
       "$\\newcommand{\\xspace}{}$\n",
       "$\\newcommand{\\object}[1]{\\texttt{#1}}$\n",
       "$\\newcommand{\\farcs}{{.}''}$\n",
       "$\\newcommand{\\farcm}{{.}'}$\n",
       "$\\newcommand{\\arcsec}{''}$\n",
       "$\\newcommand{\\arcmin}{'}$\n",
       "$\\newcommand{\\ion}[2]{#1#2}$\n",
       "$\\newcommand{\\textsc}[1]{\\textrm{#1}}$\n",
       "$\\newcommand{\\hl}[1]{\\textrm{#1}}$\n",
       "$\\newcommand{\\footnote}[1]{}$\n",
       "$\\newcommand{\\vdag}{(v)^\\dagger}$\n",
       "$\\newcommand$\n",
       "$\\newcommand$</div>\n",
       "\n",
       "\n",
       "\n",
       "<div id=\"title\">\n",
       "\n",
       "# A deep Search for Ethylene Glycol and Glycolonitrile in the V883 Ori Protoplanetary Disk\n",
       "\n",
       "</div>\n",
       "<div id=\"comments\">\n",
       "\n",
       "[![arXiv](https://img.shields.io/badge/arXiv-2507.14905-b31b1b.svg)](https://arxiv.org/abs/2507.14905)<mark>Appeared on: 2025-07-22</mark> -  _15 pages, 8 figures, accepted for publication in ApJL_\n",
       "\n",
       "</div>\n",
       "<div id=\"authors\">\n",
       "\n",
       "A. M. A. Fadul, et al. -- incl., <mark>T. Suhasaria</mark>\n",
       "\n",
       "</div>\n",
       "<div id=\"abstract\">\n",
       "\n",
       "**Abstract:** Ethylene glycol ( $\\mathrm{(CH_2OH)_2}$ , hereafter EG) and Glycolonitrile ( $\\mathrm{HOCH_2CN}$ , hereafter GN) are considered molecular precursors of nucleic acids. EG is a sugar alcohol and the reduced form of Glycolaldehyde ( $\\mathrm{CH_2(OH)CHO}$ , hereafter GA). GN is considered a key precursor of adenine formation (nucleotide) and can be a precursor of glycine (amino acid).Detections of such prebiotic molecules in the interstellar medium are increasingly common. How much of this complexity endures to the planet formation stage, and thus is already present when planets form, remains largely unknown. Here we report Atacama Large Millimeter/sub-millimeter Array (ALMA) observations in which we tentatively detect EG and GN in the protoplanetary disk around the outbursting protostar V883 Ori. The observed EG emission is best reproduced by a column density of $\\mathrm{3.63^{+0.11}_{-0.12} \\times 10^{16} \\; cm^{-2}}$ and a temperature of at least 300 K. The observed GN emission is best reproduced by a column density of $\\mathrm{3.37^{+0.09}_{-0.09} \\times 10^{16} \\; cm^{-2}}$ and a temperature of $88^{+1.2}_{-1.2}$ K.Comparing the abundance of EG and GN relative to methanol in V883 Ori with other objects, V883 Ori falls between hot cores and comets in terms of increasing complexity. This suggests that the build up of prebiotic molecules continues past the hot core phase into the epoch of planet formation. Nascent planets in such environments may inherit essential building blocks for life, enhancing their potential habitability. Further observations of this protoplanetary disk at higher spectral resolution are required to resolve blended lines and to confirm these tentative detection.\n",
       "\n",
       "</div>\n",
       "\n",
       "<div id=\"div_fig1\">\n",
       "\n",
       "<img src=\"tmp_2507.14905/./Figures/prebiotic_spectra.png\" alt=\"Fig5\" width=\"100%\"/>\n",
       "\n",
       "**Figure 5. -** The best-fit model of the detected transitions of $\\mathrm{g\\text{'}Gg-(CH_2OH)_2}$ is shown in green, and $\\mathrm{HOCH_2CN}$ is shown in orange. These are plotted on top of the data, which is shown in black, along with the summed spectra of the other detected molecules by Fadul25, shown in blue. The dotted and dashed gray line indicates the noise level in the data (corresponding to 1 and 3$\\sigma$). (*results*)\n",
       "\n",
       "</div>\n",
       "<div id=\"div_fig2\">\n",
       "\n",
       "<img src=\"tmp_2507.14905/./Figures/summed_spectra.png\" alt=\"Fig2\" width=\"100%\"/>\n",
       "\n",
       "**Figure 2. -** Represent the cumulative model for all species reported by Fadul25 in blue, and the same cumulative model include EG and GN in green. The black represents the observed spectra, and the gray dotted horizontal line represents the noise level, which corresponds to 1$\\sigma$.  (*summed_spectra*)\n",
       "\n",
       "</div>\n",
       "<div id=\"div_fig3\">\n",
       "\n",
       "<img src=\"tmp_2507.14905/./Figures/leedata1.png\" alt=\"Fig3\" width=\"100%\"/>\n",
       "\n",
       "**Figure 3. -** Shows ethylene glycol spectra in steel blue overlaid on the observed spectra from ALMA Band 6 in black   ([Jeong, Lee and Lee 2025]()) . (*firstFigure*)\n",
       "\n",
       "</div><div id=\"qrcode\"><img src=https://api.qrserver.com/v1/create-qr-code/?size=100x100&data=\"https://arxiv.org/abs/2507.14905\"></div>"
      ],
      "text/plain": [
       "<IPython.core.display.Markdown object>"
      ]
     },
     "metadata": {},
     "output_type": "display_data"
    },
    {
     "data": {
      "text/markdown": [
       "<div class=\"macros\" style=\"visibility:hidden;\">\n",
       "$\\newcommand{\\ensuremath}{}$\n",
       "$\\newcommand{\\xspace}{}$\n",
       "$\\newcommand{\\object}[1]{\\texttt{#1}}$\n",
       "$\\newcommand{\\farcs}{{.}''}$\n",
       "$\\newcommand{\\farcm}{{.}'}$\n",
       "$\\newcommand{\\arcsec}{''}$\n",
       "$\\newcommand{\\arcmin}{'}$\n",
       "$\\newcommand{\\ion}[2]{#1#2}$\n",
       "$\\newcommand{\\textsc}[1]{\\textrm{#1}}$\n",
       "$\\newcommand{\\hl}[1]{\\textrm{#1}}$\n",
       "$\\newcommand{\\footnote}[1]{}$</div>\n",
       "\n",
       "\n",
       "\n",
       "<div id=\"title\">\n",
       "\n",
       "# Stellar Population Astrophysics (SPA) with the TNG$\\thanks{Based on observations made with the Italian TelescopioNazionale Galileo (TNG) operated on the island of La Palma bythe Fundación Galileo Galilei of the INAF (Istituto Nazionaledi Astrofisica) at the Observatorio del Roque de los Muchachos.}$: NLTE atmospheric parameters and abundances of giant stars in 33 Open Clusters\n",
       "\n",
       "</div>\n",
       "<div id=\"comments\">\n",
       "\n",
       "[![arXiv](https://img.shields.io/badge/arXiv-2507.15122-b31b1b.svg)](https://arxiv.org/abs/2507.15122)<mark>Appeared on: 2025-07-22</mark> -  _23 pages, 12 figures, Accepted for publication in A&A_\n",
       "\n",
       "</div>\n",
       "<div id=\"authors\">\n",
       "\n",
       "M. D. Ponte, et al. -- incl., <mark>N. Storm</mark>\n",
       "\n",
       "</div>\n",
       "<div id=\"abstract\">\n",
       "\n",
       "**Abstract:** Open clusters serve as important tools for accurately studying the chemical evolution of the Milky Way. By combining precise chemical data from high-resolution spectra with information on their distances and ages, we can effectively uncover the processes that have shaped our Galaxy. This study aims to derive non-local thermodynamic equilibrium (NLTE) atmospheric parameters and chemical abundances for approximately one hundred giant stars across 33 open clusters with near-solar metallicity. The clusters span a wide range of ages, enabling an assessment of the presence and extent of any age-related abundance gradients. In the Stellar Population Astrophysics (SPA) project, we acquired new high-resolution spectra of giant stars in a sample of open clusters using the HARPS-N echelle spectrograph at the Telescopio Nazionale Galileo (TNG). We chemically characterized nine open clusters for the first time and reanalyzed previously studied SPA clusters, resulting in a consistent and homogeneous sample. We determined NLTE atmospheric parameters using the equivalent width method and derived NLTE chemical abundances through spectral synthesis for various elements, including $\\alpha$ elements (Mg, Si, and Ti), light odd-Z elements (Na, Al), iron-peak elements (Mn, Co, and Ni), and neutron-capture elements (Sr, Y, and Eu). Our findings are compared with the existing literature, revealing good agreement. We examine the trends of [ X/Fe ] versus age, confirming previous observations and the enrichment patterns predicted by nucleosynthesis processes. Positive correlations with age are present for $\\alpha$ elements such as Mg, Si, Ti, odd-Z Al, and iron-peak elements Mn, Co, Ni, ${and Sr}$ , while Na and ${neutron-capture Y and Eu}$ show a negative trend. This study emphasizes the significance of NLTE corrections and reinforces the utility of open clusters as tracers of Galactic chemical evolution. Furthermore, we provide a benchmark sample of NLTE abundances for upcoming open cluster surveys within large-scale projects such as 4MOST and WEAVE.\n",
       "\n",
       "</div>\n",
       "\n",
       "<div id=\"div_fig1\">\n",
       "\n",
       "<img src=\"tmp_2507.15122/./figs/elements_fe_age_galah_errors.png\" alt=\"Fig9\" width=\"100%\"/>\n",
       "\n",
       "**Figure 9. -** Abundance [X/Fe] ratios as function of [Fe/H]. The gray diamonds represent the OCs compilation from GALAH (see Table \\ref{tab:galah_oc}). Our results are color-coded according to the age. (*fig:elem_fe*)\n",
       "\n",
       "</div>\n",
       "<div id=\"div_fig2\">\n",
       "\n",
       "<img src=\"tmp_2507.15122/./figs/elements_age_fe_linear_regression_OLS.png\" alt=\"Fig10\" width=\"100%\"/>\n",
       "\n",
       "**Figure 10. -** Abundance [X/Fe] ratios as a function of age. The gray diamonds represent the OCs compilation from GALAH (see Table \\ref{tab:galah_oc}) and the gray squares represent the OCs from OCCAM. Our results are color-coded according to [Fe/H]. (*fig:elem_age_fe*)\n",
       "\n",
       "</div>\n",
       "<div id=\"div_fig3\">\n",
       "\n",
       "<img src=\"tmp_2507.15122/./figs/lotus_results_5_clusters_final_nlte_lte.png\" alt=\"Fig8\" width=\"100%\"/>\n",
       "\n",
       "**Figure 8. -** Atmospheric parameters [Fe/H], $T_{\\rm eff}$, and $\\log g$ obtained with {\\tt LOTUS} for clusters containing more than five stars. The first row presents the NLTE results, while the second row shows the LTE results. (*fig:lotus*)\n",
       "\n",
       "</div><div id=\"qrcode\"><img src=https://api.qrserver.com/v1/create-qr-code/?size=100x100&data=\"https://arxiv.org/abs/2507.15122\"></div>"
      ],
      "text/plain": [
       "<IPython.core.display.Markdown object>"
      ]
     },
     "metadata": {},
     "output_type": "display_data"
    },
    {
     "data": {
      "text/markdown": [
       "<div class=\"macros\" style=\"visibility:hidden;\">\n",
       "$\\newcommand{\\ensuremath}{}$\n",
       "$\\newcommand{\\xspace}{}$\n",
       "$\\newcommand{\\object}[1]{\\texttt{#1}}$\n",
       "$\\newcommand{\\farcs}{{.}''}$\n",
       "$\\newcommand{\\farcm}{{.}'}$\n",
       "$\\newcommand{\\arcsec}{''}$\n",
       "$\\newcommand{\\arcmin}{'}$\n",
       "$\\newcommand{\\ion}[2]{#1#2}$\n",
       "$\\newcommand{\\textsc}[1]{\\textrm{#1}}$\n",
       "$\\newcommand{\\hl}[1]{\\textrm{#1}}$\n",
       "$\\newcommand{\\footnote}[1]{}$\n",
       "$\\newcommand{\\kms}{km s^{-1}}$\n",
       "$\\newcommand{\\ms}{m s^{-1}}$\n",
       "$\\newcommand{\\mjup}{M_{\\rm Jup}}$\n",
       "$\\newcommand{\\lnZ}{\\ln \\mathcal{Z}}$\n",
       "$\\newcommand{\\lnL}{\\ln \\mathcal{L}}$\n",
       "$\\newcommand{\\aunc}[2]{^{+#1}_{#2}}$\n",
       "$\\newcommand{\\Comm}[1]{\\textcolor{red}{\\textbf{#1}}}$</div>\n",
       "\n",
       "\n",
       "\n",
       "<div id=\"title\">\n",
       "\n",
       "# The CARMENES search for exoplanets around M dwarfs: Revisiting the GJ 317, GJ 463, and GJ 3512 systems and two newly discovered planets orbiting GJ 9773 and GJ 508.2\n",
       "\n",
       "</div>\n",
       "<div id=\"comments\">\n",
       "\n",
       "[![arXiv](https://img.shields.io/badge/arXiv-2507.15516-b31b1b.svg)](https://arxiv.org/abs/2507.15516)<mark>Appeared on: 2025-07-22</mark> -  _32 pages (including appendix with radial velocity time series), 16 figures, 14 tables. Accepted for publication in A&A_\n",
       "\n",
       "</div>\n",
       "<div id=\"authors\">\n",
       "\n",
       "J. C. Morales, et al. -- incl., <mark>T. Henning</mark>\n",
       "\n",
       "</div>\n",
       "<div id=\"abstract\">\n",
       "\n",
       "**Abstract:** Surveys for exoplanets indicate that the occurrence rate of gas giant planets orbiting late-type stars in orbits with periods shorter than 1000 days is lower than in the case of Sun-like stars. This is in agreement with planet formation models based on the core or pebble accretion paradigm. The CARMENES exoplanet survey has been conducting radial-velocity observations of several targets that show long-period trends or modulations that are consistent with the presence of giant planets at large orbital separations. We present an analysis of five such systems that were monitored with the CARMENES spectrograph, as well as with the IRD spectrograph. In addition, we used archival data to improve the orbital parameters of the planetary systems. We improve the parameters of three previously known planets orbiting the M dwarfs GJ 317, GJ 463, and GJ 3512. We also determine the orbital parameters and minimum mass of the planet GJ 3512 c, for which only lower limits had been given previously. Furthermore, we present the discovery of two new giant planets orbiting the stars GJ 9733 and GJ 508.2, although for the second one only lower limits to the orbital properties can be determined. The new planet discoveries add to the short list of known giant planets orbiting M-dwarf stars with subsolar metallicity at long orbital periods above 2000 days. These results reveal that giant planets appear to form more frequently in wide orbits than in close-in orbits around low-mass and lower metallicity stars.\n",
       "\n",
       "</div>\n",
       "\n",
       "<div id=\"div_fig1\">\n",
       "\n",
       "<img src=\"tmp_2507.15516/./Fig5.png\" alt=\"Fig2\" width=\"100%\"/>\n",
       "\n",
       "**Figure 2. -** Periodogram of the residuals from the fits to the RV datasets of GJ 3512, GJ 317, GJ 463, and GJ 9773 (from top to bottom). In each panel the solid black line corresponds to the joint periodogram of all datasets, while solid lines depict the periodogram for each individual dataset as labelled. The top panel for each target illustrates the window function. Solid horizontal grey lines show the 0.1\\%(dashed), 1\\%(dot-dashed), and 10\\%(dotted) FAP levels. (*fig:res_periodogram*)\n",
       "\n",
       "</div>\n",
       "<div id=\"div_fig2\">\n",
       "\n",
       "<img src=\"tmp_2507.15516/./Fig1a.png\" alt=\"Fig1.1\" width=\"50%\"/><img src=\"tmp_2507.15516/./Fig1b.png\" alt=\"Fig1.2\" width=\"50%\"/>\n",
       "\n",
       "**Figure 1. -** Clustering periodogram analysis \\citep{Kemmer2025} for the activity indices of GJ 3512 (top) and GJ 9773 (bottom). The 0.1\\% FAP threshold is shown as a horizontal dotted grey line, while vertical dashed lines mark the position of common periods caused by the sampling of data and their harmonics as labelled. Symbols with different colours correspond to clusters of periods that appear on different activity indicators. The mean values are reported in the legend. (*fig:clustering*)\n",
       "\n",
       "</div>\n",
       "<div id=\"div_fig3\">\n",
       "\n",
       "<img src=\"tmp_2507.15516/./Fig9.png\" alt=\"Fig3\" width=\"100%\"/>\n",
       "\n",
       "**Figure 3. -** Parameters of the fits to the RV time series of GJ 508.2 as a function of the orbital period. The differential $\\lnL$  of the fit with respect to the maximum value, the fitted RV semi-amplitude and eccentricity, and the corresponding planet minimum mass are shown from top to bottom. Dahsed blue and solid black lines correspond, respectively, to fits considering only RVs from CARMENES VIS, and considering both VIS and NIR RVs simultaneously. The dot-dashed blue line in the top panel indicates the threshold corresponding to $\\Delta$\\lnL=5, and the vertical dotted lines, the corresponding orbital period. (*fig:pfix_gj508*)\n",
       "\n",
       "</div><div id=\"qrcode\"><img src=https://api.qrserver.com/v1/create-qr-code/?size=100x100&data=\"https://arxiv.org/abs/2507.15516\"></div>"
      ],
      "text/plain": [
       "<IPython.core.display.Markdown object>"
      ]
     },
     "metadata": {},
     "output_type": "display_data"
    },
    {
     "data": {
      "text/markdown": [
       "<div class=\"macros\" style=\"visibility:hidden;\">\n",
       "$\\newcommand{\\ensuremath}{}$\n",
       "$\\newcommand{\\xspace}{}$\n",
       "$\\newcommand{\\object}[1]{\\texttt{#1}}$\n",
       "$\\newcommand{\\farcs}{{.}''}$\n",
       "$\\newcommand{\\farcm}{{.}'}$\n",
       "$\\newcommand{\\arcsec}{''}$\n",
       "$\\newcommand{\\arcmin}{'}$\n",
       "$\\newcommand{\\ion}[2]{#1#2}$\n",
       "$\\newcommand{\\textsc}[1]{\\textrm{#1}}$\n",
       "$\\newcommand{\\hl}[1]{\\textrm{#1}}$\n",
       "$\\newcommand{\\footnote}[1]{}$\n",
       "$\\newcommand{\\bk}{\\bm{k}}$\n",
       "$\\newcommand{\\bq}{\\bm{q}}$\n",
       "$\\newcommand{\\bx}{\\bm{x}}$\n",
       "$\\newcommand{\\fnl}{f_{\\rm NL}}$\n",
       "$\\newcommand{\\fnll}{f_{\\mathrm{NL}}^{\\mathrm{loc}}}$\n",
       "$\\newcommand{\\fnle}{f_{\\mathrm{NL}}^{\\mathrm{equil}}}$\n",
       "$\\newcommand{\\fnloC}{f_{\\mathrm{NL}}^{\\mathrm{ortho-CMB}}}$\n",
       "$\\newcommand{\\fnloL}{f_{\\mathrm{NL}}^{\\mathrm{ortho-LSS}}}$\n",
       "$\\newcommand{\\Mpc}{\\ensuremath{\\text{h/Mpc}}\\xspace}$\n",
       "$\\newcommand{\\GCsp}{{\\text{GC}\\ensuremath{_\\mathrm{sp}}}}$\n",
       "$\\newcommand{\\GCph}{{\\text{GC}\\ensuremath{_\\mathrm{ph}}}}$\n",
       "$\\newcommand{\\Omegam}{\\ensuremath{\\Omega_{\\mathrm{m},0}}}$\n",
       "$\\newcommand{\\Omegab}{\\ensuremath{\\Omega_{\\mathrm{b},0}}}$\n",
       "$\\newcommand{\\OmegaDE}{\\ensuremath{\\Omega_{\\mathrm{DE},0}}}$\n",
       "$\\newcommand{\\ns}{n_{\\mathrm{s}}}$\n",
       "$\\newcommand{\\lcdm}{\\ensuremath{\\Lambda\\mathrm{CDM}}}$\n",
       "$\\newcommand{\\logfr}{\\ensuremath{\\log_{10}(|f_{R0}|)}}$\n",
       "$\\newcommand{\\fr}{\\ensuremath{|f_{R0}|}}$\n",
       "$\\newcommand{\\sg}{\\ensuremath{\\sigma_{8}}}$\n",
       "$\\newcommand{\\de}{\\mathrm{d}}$\n",
       "$\\newcommand{\\bpd}{{b_{\\phi ,   \\delta}}}$\n",
       "$\\newcommand{\\borg}{\\texttt{BORG}\\xspace}$\n",
       "$\\newcommand{\\Mpch}{\\ensuremath{h^{-1} \\text{Mpc}}}$\n",
       "$\\newcommand{\\dd}{\\mathrm{d}}$\n",
       "$\\newcommand{\\jvc}[1]{\\textcolor{red}{JV: #1}}$\n",
       "$\\newcommand{\\aanote}[1]{\\textcolor{purple}{AA: #1}}$\n",
       "$\\newcommand{\\DK}[1]{\\textcolor{orange}{DK: #1}}$\n",
       "$\\newcommand{\\FF}[1]{\\textcolor{green}{FF: #1}}$\n",
       "$\\newcommand{\\mb}[1]{{\\color{blue} #1}}$\n",
       "$\\newcommand{\\MB}[1]{\\textcolor{orange}{{\\bf[MB: #1]}}}$\n",
       "$\\newcommand{\\YA}[1]{\\textcolor{red}{{\\bf[YA: #1]}}}$\n",
       "$\\newcommand{\\orcid}[1]$</div>\n",
       "\n",
       "\n",
       "\n",
       "<div id=\"title\">\n",
       "\n",
       "# $\\vspace*{-0.3cm}$Euclid preparation. Expected constraints on initial conditions\n",
       "\n",
       "</div>\n",
       "<div id=\"comments\">\n",
       "\n",
       "[![arXiv](https://img.shields.io/badge/arXiv-2507.15819-b31b1b.svg)](https://arxiv.org/abs/2507.15819)<mark>Appeared on: 2025-07-22</mark> -  _Abstract abridged, 25 pages, 6 tables, 11 figures_\n",
       "\n",
       "</div>\n",
       "<div id=\"authors\">\n",
       "\n",
       "E. Collaboration, et al. -- incl., <mark>K. Jahnke</mark>\n",
       "\n",
       "</div>\n",
       "<div id=\"abstract\">\n",
       "\n",
       "**Abstract:** The $* Euclid*$ mission of the European Space Agency will deliver galaxy and cosmic shear surveys, which will be used to constrain initial conditions and statistics of primordial fluctuations. We present highlights for the $* Euclid*$ scientific capability to test initial conditions beyond $\\Lambda$ CDMwith the 3-dimensional galaxy clustering from the spectroscopic survey, the tomographic approach to $3\\times2$ pt statistics (information) from photometric galaxy survey, and their combination. We then present how these $* Euclid*$ results can be enhanced when combined with current and future measurements of the cosmic microwave background (CMB) anisotropies. We provide Fisher forecasts from the combination of $* Euclid*$ spectroscopic and photometric surveysfor spatial curvature, running of the spectral index of the power spectrum of curvature perturbations, isocurvature perturbations, and primordial features. For the parameters of these models we also provide the combination of $* Euclid*$ forecasts (pessimistic and optimistic) with three different CMB specifications, i.e. $* Planck*$ , the Simons Observatory (SO), and CMB-S4. We provide Fisher forecasts for how the power spectrum and bispectrum from the $* Euclid*$ spectroscopic survey will constrain the local, equilateral, and orthogonal shapes of primordial non-Gaussianity. We also review how Bayesian field-level inference of primordial non-Gaussianity can constrain local primordial non-Gaussianity. We find that the combination of the $* Euclid*$ main probes will provide the uncertainty of $\\sigma(\\Omega_K) = 0.0044 (0.003)$ at the $68 \\%$ confidence level (CL) in the pessimistic (optimistic) settings assuming flat spatial sections as fiducial cosmology. We also find that the combination of the $* Euclid*$ main probes can detect the running of the scalar spectral index for the fiducial value $\\alpha_s = - 0.01$ with approximately $2\\sigma$ ( $4\\sigma$ ) uncertainty and provide the uncertainty of $\\sigma(\\alpha_s)  = 0.004 (0.0015)$ for the fiducial value $\\alpha_s = - 0.001$ at the $68\\%$ CL, always with pessimistic (optimistic) settings. We show how $* Euclid*$ will have the capability to provide constraints on isocurvature perturbations with ablue spectral index that are one order of magnitude tighter than current bounds. The combined power spectrum and bispectrum Fisher forecast for the $* Euclid*$ spectroscopic survey leads to $\\sigma (f_{\\rm NL}^{\\rm local}) = 2.2$ , $\\sigma (f_{\\rm NL}^{\\rm equil}) = 108$ , and $\\sigma (\\fnl^{\\rm ortho}) = 33$ by assuming $k_{\\rm max} = 0.15 h {\\rm Mpc}^{-1}$ and universality for the halo mass function. We show how the expected uncertainty on the local shape decreases by encompassing summary statistics and using Bayesian field-level inference. For the $* Euclid*$ main probes, we find relative errors on the amplitude of primordial oscillations (with a fiducial value of $0.01$ ), of 21 \\% (18 \\% ) for linear frequency and of 22 \\% (18 \\% ) for logarithmic frequency at $68.3\\%$ CL in the pessimistic (optimistic) case. These uncertainties can be further improved by adding the information from the bispectrum and the non-linear reconstruction. We show how $* Euclid*$ , with its unique combination of 3-dimensional galaxy clustering from the spectroscopic survey and $3\\times2$ pt statistics from the photometric survey, will provide the tightest constraints on low redshift to date. By targeting a markedly different range in redshift and scale, $* Euclid*$ 's expected uncertainties are complementary to those obtained by CMB primary anisotropy, returning the tightest combined constraints on the physics of the early Universe.\n",
       "\n",
       "</div>\n",
       "\n",
       "<div id=\"div_fig1\">\n",
       "\n",
       "<img src=\"tmp_2507.15819/./JV_EuclidIsocurvature1aTickIn.png\" alt=\"Fig10.1\" width=\"50%\"/><img src=\"tmp_2507.15819/./JV_EuclidIsocurvature1bTickIn.png\" alt=\"Fig10.2\" width=\"50%\"/>\n",
       "\n",
       "**Figure 10. -** \n",
       "Matter power spectra at redshift $z=0$.\n",
       "The left panel shows the linear matter power spectrum today, if the primordial perturbations are scale-invariant pure adiabatic perturbations with amplitude $\\mathcal{P}_\\mathcal{RR} = 25\\times10^{-10}$(red dotted-dashed), or if the primordial perturbations are scale-invariant pure cold dark matter isocurvature perturbations with amplitude $\\mathcal{P}_\\mathcal{II} = 25\\times10^{-10}$(blue dashed), and the resulting correlation component to the matter power spectrum if there are these two components and they are $+100\\%$ correlated with each other (green solid).\n",
       "The right panel shows the fiducial model used in the case of \"maximum $2\\sigma$ allowed by * Planck*.\" The linear total matter power spectrum (tot lin) is the sum of the adiabatic (adi) and blue-tilted isocurvature (iso) contributions, and their $\\sim10\\%$ correlation (cor). This (tot lin) is then corrected by \\texttt{Halofit} to approximate the non-linear spectrum (non-lin) of the fiducial model. (*fig:isocurvatureexamples*)\n",
       "\n",
       "</div>\n",
       "<div id=\"div_fig2\">\n",
       "\n",
       "<img src=\"tmp_2507.15819/./JV_PII2_kmax_TickIn.png\" alt=\"Fig2\" width=\"100%\"/>\n",
       "\n",
       "**Figure 2. -** Fisher-matrix marginalised uncertainty for $10^{10}$ times the primordial isocurvature perturbation amplitude $\\mathcal{P}_\\mathcal{II}$ at $k_2 = 0.1 $Mpc$^{-1}$ for Case 1 \"maximum $2\\sigma$ allowed by * Planck*\" (solid lines), Case 2 \"scale-invariant uncorrelated $n_\\mathrm{iso}=1.0$\" (dashed lines), and Case 3 \"blue-tilted uncorrelated $n_\\mathrm{iso}=2.9$\" (dotted lines).\n",
       "Our baseline results of Table \\ref{tab:isocurvaturefisher} are for the pessimistic setting. To test the effect of the choice of $k_{\\rm max}$ and $\\ell_{\\rm max}$ on the results we repeat the analysis with an even more conservative quasilinear setting ($k_{\\rm max} = 0.15 h {\\rm Mpc}^{-1}$ for $\\GCsp$, $\\ell_{\\rm max} = 750$ for WL, and $\\ell_{\\rm max} = 500$ for $\\GCph$ and XC) and with the optimistic setting ($k_{\\rm max} = 0.30 h {\\rm Mpc}^{-1}$ for $\\GCsp$, $\\ell_{\\rm max} = 5000$ for WL, and $\\ell_{\\rm max} = 3000$ for $\\GCph$ and XC). (*fig:isoc_quasi_pess_optimistic*)\n",
       "\n",
       "</div>\n",
       "<div id=\"div_fig3\">\n",
       "\n",
       "<img src=\"tmp_2507.15819/./JV_EuclidIsocurvature1c_pessimisticTickIn.png\" alt=\"Fig11.1\" width=\"50%\"/><img src=\"tmp_2507.15819/./JV_EuclidIsocurvature1d_pessimisticTickIn.png\" alt=\"Fig11.2\" width=\"50%\"/>\n",
       "\n",
       "**Figure 11. -**  Matter power spectra at redshift $z=0$ for Case 2 (left panel) and Case 3 (right panel). The left panel shows the different contributions for our forecasted pessimistic $\\GCsp$$1\\sigma$ upper bound on our Case 2 uncorrelated isocurvature model with $n_\\mathrm{iso}=1.0$ when the underlying true model (fiducial, cyan colour) is purely adiabatic. The upper bound on the isocurvature contribution is so small that the linear pure adiabatic (adi) and total linear (tot lin) matter power spectra are indistinguishable by eye in this figure. The right panel shows the same quantities for the forecasted $\\GCsp$$1\\sigma$ pessimistic upper bound on our Case 3 one-isocurvature-parameter uncorrelated isocurvature model with $n_\\mathrm{iso}=2.9$ when the underlying true model (fiducial) is purely adiabatic. Note how, for Case 3, the isocurvature contribution visibly modifies the spectrum for $k/h \\gtrsim 0.1 \\mathrm{Mpc}^{-1}$. (*fig:1paramisocurvaturecases*)\n",
       "\n",
       "</div><div id=\"qrcode\"><img src=https://api.qrserver.com/v1/create-qr-code/?size=100x100&data=\"https://arxiv.org/abs/2507.15819\"></div>"
      ],
      "text/plain": [
       "<IPython.core.display.Markdown object>"
      ]
     },
     "metadata": {},
     "output_type": "display_data"
    }
   ],
   "source": [
    "[display(Markdown(k[1])) for k in documents];"
   ]
  },
  {
   "cell_type": "markdown",
   "id": "873873a4",
   "metadata": {
    "papermill": {
     "duration": 0.006447,
     "end_time": "2025-07-22T04:34:01.512627",
     "exception": false,
     "start_time": "2025-07-22T04:34:01.506180",
     "status": "completed"
    },
    "tags": []
   },
   "source": [
    "# Create HTML index"
   ]
  },
  {
   "cell_type": "code",
   "execution_count": 10,
   "id": "cf665672",
   "metadata": {
    "execution": {
     "iopub.execute_input": "2025-07-22T04:34:01.526469Z",
     "iopub.status.busy": "2025-07-22T04:34:01.526252Z",
     "iopub.status.idle": "2025-07-22T04:34:01.533461Z",
     "shell.execute_reply": "2025-07-22T04:34:01.532928Z"
    },
    "papermill": {
     "duration": 0.0153,
     "end_time": "2025-07-22T04:34:01.534435",
     "exception": false,
     "start_time": "2025-07-22T04:34:01.519135",
     "status": "completed"
    },
    "tags": []
   },
   "outputs": [
    {
     "name": "stdout",
     "output_type": "stream",
     "text": [
      "147  publications files modified in the last 7 days.\n"
     ]
    }
   ],
   "source": [
    "from datetime import datetime, timedelta, timezone\n",
    "from glob import glob\n",
    "import os\n",
    "\n",
    "files = glob('_build/html/*.md')\n",
    "days = 7\n",
    "now = datetime.today()\n",
    "res = []\n",
    "for fk in files:\n",
    "    stat_result = os.stat(fk).st_ctime\n",
    "    modified = datetime.fromtimestamp(stat_result, tz=timezone.utc).replace(tzinfo=None)\n",
    "    delta = now.today() - modified\n",
    "    if delta <= timedelta(days=days):\n",
    "        res.append((delta.seconds, fk))\n",
    "res = [k[1] for k in reversed(sorted(res, key=lambda x:x[1]))]\n",
    "npub = len(res)\n",
    "print(len(res), f\" publications files modified in the last {days:d} days.\")\n",
    "# [ print('\\t', k) for k in res ];"
   ]
  },
  {
   "cell_type": "code",
   "execution_count": 11,
   "id": "015de740",
   "metadata": {
    "execution": {
     "iopub.execute_input": "2025-07-22T04:34:01.548449Z",
     "iopub.status.busy": "2025-07-22T04:34:01.548203Z",
     "iopub.status.idle": "2025-07-22T04:34:01.560777Z",
     "shell.execute_reply": "2025-07-22T04:34:01.560125Z"
    },
    "papermill": {
     "duration": 0.020701,
     "end_time": "2025-07-22T04:34:01.561768",
     "exception": false,
     "start_time": "2025-07-22T04:34:01.541067",
     "status": "completed"
    },
    "tags": []
   },
   "outputs": [
    {
     "name": "stdout",
     "output_type": "stream",
     "text": [
      "20  publications in the last 7 days.\n"
     ]
    }
   ],
   "source": [
    "import datetime\n",
    "from glob import glob\n",
    "\n",
    "def get_last_n_days(lst, days=1):\n",
    "    \"\"\" Get the documents from the last n days \"\"\"\n",
    "    sorted_lst = sorted(lst, key=lambda x: x[1], reverse=True)\n",
    "    for fname, date in sorted_lst:\n",
    "        if date >= str(datetime.date.today() - datetime.timedelta(days=days)):\n",
    "            yield fname\n",
    "\n",
    "def extract_appearance_dates(lst_file):\n",
    "    dates = []\n",
    "\n",
    "    def get_date(line):\n",
    "        return line\\\n",
    "            .split('Appeared on:')[-1]\\\n",
    "            .split('</mark>')[0].strip()\n",
    "\n",
    "    for fname in lst:\n",
    "        with open(fname, 'r') as f:\n",
    "            found_date = False\n",
    "            for line in f:\n",
    "                if not found_date:\n",
    "                    if \"Appeared on\" in line:\n",
    "                        found_date = True\n",
    "                        dates.append((fname, get_date(line)))\n",
    "                else:\n",
    "                    break\n",
    "    return dates\n",
    "\n",
    "from glob import glob\n",
    "lst = glob('_build/html/*md')\n",
    "days = 7\n",
    "dates = extract_appearance_dates(lst)\n",
    "res = list(get_last_n_days(dates, days))\n",
    "npub = len(res)\n",
    "print(len(res), f\" publications in the last {days:d} days.\")"
   ]
  },
  {
   "cell_type": "code",
   "execution_count": 12,
   "id": "52ca0208",
   "metadata": {
    "execution": {
     "iopub.execute_input": "2025-07-22T04:34:01.576089Z",
     "iopub.status.busy": "2025-07-22T04:34:01.575893Z",
     "iopub.status.idle": "2025-07-22T04:34:01.580902Z",
     "shell.execute_reply": "2025-07-22T04:34:01.580264Z"
    },
    "papermill": {
     "duration": 0.013336,
     "end_time": "2025-07-22T04:34:01.581940",
     "exception": false,
     "start_time": "2025-07-22T04:34:01.568604",
     "status": "completed"
    },
    "scrolled": false,
    "tags": []
   },
   "outputs": [],
   "source": [
    "def create_carousel(npub=4):\n",
    "    \"\"\" Generate the HTML code for a carousel with `npub` slides \"\"\"\n",
    "    carousel = [\"\"\"  <div class=\"carousel\" \"\"\",\n",
    "                \"\"\"       data-flickity='{ \"autoPlay\": 10000, \"adaptiveHeight\": true, \"resize\": true, \"wrapAround\": true, \"pauseAutoPlayOnHover\": true, \"groupCells\": 1 }' id=\"asyncTypeset\">\"\"\"\n",
    "                ]\n",
    "    \n",
    "    item_str = \"\"\"    <div class=\"carousel-cell\"> <div id=\"slide{k}\" class=\"md_view\">Content {k}</div> </div>\"\"\"\n",
    "    for k in range(1, npub + 1):\n",
    "        carousel.append(item_str.format(k=k))\n",
    "    carousel.append(\"  </div>\")\n",
    "    return '\\n'.join(carousel)\n",
    "\n",
    "def create_grid(npub=4):\n",
    "    \"\"\" Generate the HTML code for a flat grid with `npub` slides \"\"\"\n",
    "    grid = [\"\"\"  <div class=\"grid\"> \"\"\",\n",
    "                ]\n",
    "    \n",
    "    item_str = \"\"\"    <div class=\"grid-item\"> <div id=\"slide{k}\" class=\"md_view\">Content {k}</div> </div>\"\"\"\n",
    "    for k in range(1, npub + 1):\n",
    "        grid.append(item_str.format(k=k))\n",
    "    grid.append(\"  </div>\")\n",
    "    return '\\n'.join(grid)"
   ]
  },
  {
   "cell_type": "code",
   "execution_count": 13,
   "id": "a6eac5b6",
   "metadata": {
    "execution": {
     "iopub.execute_input": "2025-07-22T04:34:01.596560Z",
     "iopub.status.busy": "2025-07-22T04:34:01.596306Z",
     "iopub.status.idle": "2025-07-22T04:34:01.601467Z",
     "shell.execute_reply": "2025-07-22T04:34:01.600953Z"
    },
    "papermill": {
     "duration": 0.013656,
     "end_time": "2025-07-22T04:34:01.602455",
     "exception": false,
     "start_time": "2025-07-22T04:34:01.588799",
     "status": "completed"
    },
    "scrolled": false,
    "tags": []
   },
   "outputs": [],
   "source": [
    "carousel = create_carousel(npub)\n",
    "docs = ', '.join(['\"{0:s}\"'.format(k.split('/')[-1]) for k in res])\n",
    "slides = ', '.join([f'\"slide{k}\"' for k in range(1, npub + 1)])\n",
    "\n",
    "with open(\"daily_template.html\", \"r\") as tpl:\n",
    "    page = tpl.read()\n",
    "    page = page.replace(\"{%-- carousel:s --%}\", carousel)\\\n",
    "               .replace(\"{%-- suptitle:s --%}\",  \"7-day archives\" )\\\n",
    "               .replace(\"{%-- docs:s --%}\", docs)\\\n",
    "               .replace(\"{%-- slides:s --%}\", slides)\n",
    "    \n",
    "with open(\"_build/html/index_7days.html\", 'w') as fout:\n",
    "    fout.write(page)"
   ]
  },
  {
   "cell_type": "code",
   "execution_count": 14,
   "id": "adc1a1ec",
   "metadata": {
    "execution": {
     "iopub.execute_input": "2025-07-22T04:34:01.617018Z",
     "iopub.status.busy": "2025-07-22T04:34:01.616775Z",
     "iopub.status.idle": "2025-07-22T04:34:01.622923Z",
     "shell.execute_reply": "2025-07-22T04:34:01.622376Z"
    },
    "papermill": {
     "duration": 0.014672,
     "end_time": "2025-07-22T04:34:01.623920",
     "exception": false,
     "start_time": "2025-07-22T04:34:01.609248",
     "status": "completed"
    },
    "tags": []
   },
   "outputs": [
    {
     "name": "stdout",
     "output_type": "stream",
     "text": [
      "6  publications in the last day.\n"
     ]
    }
   ],
   "source": [
    "# redo for today\n",
    "days = 1\n",
    "res = list(get_last_n_days(dates, days))\n",
    "npub = len(res)\n",
    "print(len(res), f\" publications in the last day.\")\n",
    "\n",
    "carousel = create_carousel(npub)\n",
    "docs = ', '.join(['\"{0:s}\"'.format(k.split('/')[-1]) for k in res])\n",
    "slides = ', '.join([f'\"slide{k}\"' for k in range(1, npub + 1)])\n",
    "\n",
    "with open(\"daily_template.html\", \"r\") as tpl:\n",
    "    page = tpl.read()\n",
    "    page = page.replace(\"{%-- carousel:s --%}\", carousel)\\\n",
    "               .replace(\"{%-- suptitle:s --%}\",  \"Daily\" )\\\n",
    "               .replace(\"{%-- docs:s --%}\", docs)\\\n",
    "               .replace(\"{%-- slides:s --%}\", slides)\n",
    "    \n",
    "# print(carousel, docs, slides)\n",
    "# print(page)\n",
    "with open(\"_build/html/index_daily.html\", 'w') as fout:\n",
    "    fout.write(page)"
   ]
  },
  {
   "cell_type": "code",
   "execution_count": 15,
   "id": "00eece82",
   "metadata": {
    "execution": {
     "iopub.execute_input": "2025-07-22T04:34:01.638396Z",
     "iopub.status.busy": "2025-07-22T04:34:01.638201Z",
     "iopub.status.idle": "2025-07-22T04:34:01.644730Z",
     "shell.execute_reply": "2025-07-22T04:34:01.644059Z"
    },
    "papermill": {
     "duration": 0.015313,
     "end_time": "2025-07-22T04:34:01.646174",
     "exception": false,
     "start_time": "2025-07-22T04:34:01.630861",
     "status": "completed"
    },
    "scrolled": false,
    "tags": []
   },
   "outputs": [
    {
     "name": "stdout",
     "output_type": "stream",
     "text": [
      "6  6 publications selected.\n"
     ]
    }
   ],
   "source": [
    "# Create the flat grid of the last N papers (fixed number regardless of dates)\n",
    "from itertools import islice \n",
    "\n",
    "npub = 6\n",
    "res = [k[0] for k in (islice(reversed(sorted(dates, key=lambda x: x[1])), 6))]\n",
    "print(len(res), f\" {npub} publications selected.\")\n",
    "\n",
    "grid = create_grid(npub)\n",
    "docs = ', '.join(['\"{0:s}\"'.format(k.split('/')[-1]) for k in res])\n",
    "slides = ', '.join([f'\"slide{k}\"' for k in range(1, npub + 1)])\n",
    "\n",
    "with open(\"grid_template.html\", \"r\") as tpl:\n",
    "    page = tpl.read()\n",
    "    page = page.replace(\"{%-- grid-content:s --%}\", grid)\\\n",
    "               .replace(\"{%-- suptitle:s --%}\",  f\"Last {npub:,d} papers\" )\\\n",
    "               .replace(\"{%-- docs:s --%}\", docs)\\\n",
    "               .replace(\"{%-- slides:s --%}\", slides)\n",
    "    \n",
    "# print(grid, docs, slides)\n",
    "# print(page)\n",
    "with open(\"_build/html/index_npub_grid.html\", 'w') as fout:\n",
    "    fout.write(page)"
   ]
  }
 ],
 "metadata": {
  "kernelspec": {
   "display_name": "Python 3 (ipykernel)",
   "language": "python",
   "name": "python3"
  },
  "language_info": {
   "codemirror_mode": {
    "name": "ipython",
    "version": 3
   },
   "file_extension": ".py",
   "mimetype": "text/x-python",
   "name": "python",
   "nbconvert_exporter": "python",
   "pygments_lexer": "ipython3",
   "version": "3.9.23"
  },
  "papermill": {
   "default_parameters": {},
   "duration": 129.648453,
   "end_time": "2025-07-22T04:34:01.969777",
   "environment_variables": {},
   "exception": null,
   "input_path": "MPIA daily digest.ipynb",
   "output_path": "log.ipynb",
   "parameters": {},
   "start_time": "2025-07-22T04:31:52.321324",
   "version": "2.6.0"
  },
  "vscode": {
   "interpreter": {
    "hash": "aee8b7b246df8f9039afb4144a1f6fd8d2ca17a180786b69acc140d282b71a49"
   }
  },
  "widgets": {
   "application/vnd.jupyter.widget-state+json": {
    "state": {
     "0004865f9f0c4668aaea457b1c0c7b30": {
      "model_module": "@jupyter-widgets/controls",
      "model_module_version": "2.0.0",
      "model_name": "HTMLStyleModel",
      "state": {
       "_model_module": "@jupyter-widgets/controls",
       "_model_module_version": "2.0.0",
       "_model_name": "HTMLStyleModel",
       "_view_count": null,
       "_view_module": "@jupyter-widgets/base",
       "_view_module_version": "2.0.0",
       "_view_name": "StyleView",
       "background": null,
       "description_width": "",
       "font_size": null,
       "text_color": null
      }
     },
     "35c02c1ca7e4456293ec497ca65f1af7": {
      "model_module": "@jupyter-widgets/controls",
      "model_module_version": "2.0.0",
      "model_name": "HBoxModel",
      "state": {
       "_dom_classes": [],
       "_model_module": "@jupyter-widgets/controls",
       "_model_module_version": "2.0.0",
       "_model_name": "HBoxModel",
       "_view_count": null,
       "_view_module": "@jupyter-widgets/controls",
       "_view_module_version": "2.0.0",
       "_view_name": "HBoxView",
       "box_style": "",
       "children": [
        "IPY_MODEL_3677feaf150b46879bba3c7c4fa72bec",
        "IPY_MODEL_9fd671b1066641ecb2997c04dee879f1",
        "IPY_MODEL_941a4efd417744b683e4333501c56236"
       ],
       "layout": "IPY_MODEL_9431f22add484de0abbe287ee56e7ca0",
       "tabbable": null,
       "tooltip": null
      }
     },
     "3677feaf150b46879bba3c7c4fa72bec": {
      "model_module": "@jupyter-widgets/controls",
      "model_module_version": "2.0.0",
      "model_name": "HTMLModel",
      "state": {
       "_dom_classes": [],
       "_model_module": "@jupyter-widgets/controls",
       "_model_module_version": "2.0.0",
       "_model_name": "HTMLModel",
       "_view_count": null,
       "_view_module": "@jupyter-widgets/controls",
       "_view_module_version": "2.0.0",
       "_view_name": "HTMLView",
       "description": "",
       "description_allow_html": false,
       "layout": "IPY_MODEL_a25398e4856f4b659d8cfd94e81f33d6",
       "placeholder": "​",
       "style": "IPY_MODEL_0004865f9f0c4668aaea457b1c0c7b30",
       "tabbable": null,
       "tooltip": null,
       "value": "100%"
      }
     },
     "6882edf467224f9b9f296e2cbc9028bb": {
      "model_module": "@jupyter-widgets/controls",
      "model_module_version": "2.0.0",
      "model_name": "ProgressStyleModel",
      "state": {
       "_model_module": "@jupyter-widgets/controls",
       "_model_module_version": "2.0.0",
       "_model_name": "ProgressStyleModel",
       "_view_count": null,
       "_view_module": "@jupyter-widgets/base",
       "_view_module_version": "2.0.0",
       "_view_name": "StyleView",
       "bar_color": null,
       "description_width": ""
      }
     },
     "941a4efd417744b683e4333501c56236": {
      "model_module": "@jupyter-widgets/controls",
      "model_module_version": "2.0.0",
      "model_name": "HTMLModel",
      "state": {
       "_dom_classes": [],
       "_model_module": "@jupyter-widgets/controls",
       "_model_module_version": "2.0.0",
       "_model_name": "HTMLModel",
       "_view_count": null,
       "_view_module": "@jupyter-widgets/controls",
       "_view_module_version": "2.0.0",
       "_view_name": "HTMLView",
       "description": "",
       "description_allow_html": false,
       "layout": "IPY_MODEL_f8fdcae7b6b844c59d2fc2d4b5758dec",
       "placeholder": "​",
       "style": "IPY_MODEL_cafed99fe9044e7ba2fb817256995795",
       "tabbable": null,
       "tooltip": null,
       "value": " 10/10 [01:43&lt;00:00, 17.75s/it]"
      }
     },
     "9431f22add484de0abbe287ee56e7ca0": {
      "model_module": "@jupyter-widgets/base",
      "model_module_version": "2.0.0",
      "model_name": "LayoutModel",
      "state": {
       "_model_module": "@jupyter-widgets/base",
       "_model_module_version": "2.0.0",
       "_model_name": "LayoutModel",
       "_view_count": null,
       "_view_module": "@jupyter-widgets/base",
       "_view_module_version": "2.0.0",
       "_view_name": "LayoutView",
       "align_content": null,
       "align_items": null,
       "align_self": null,
       "border_bottom": null,
       "border_left": null,
       "border_right": null,
       "border_top": null,
       "bottom": null,
       "display": null,
       "flex": null,
       "flex_flow": null,
       "grid_area": null,
       "grid_auto_columns": null,
       "grid_auto_flow": null,
       "grid_auto_rows": null,
       "grid_column": null,
       "grid_gap": null,
       "grid_row": null,
       "grid_template_areas": null,
       "grid_template_columns": null,
       "grid_template_rows": null,
       "height": null,
       "justify_content": null,
       "justify_items": null,
       "left": null,
       "margin": null,
       "max_height": null,
       "max_width": null,
       "min_height": null,
       "min_width": null,
       "object_fit": null,
       "object_position": null,
       "order": null,
       "overflow": null,
       "padding": null,
       "right": null,
       "top": null,
       "visibility": null,
       "width": null
      }
     },
     "9fd671b1066641ecb2997c04dee879f1": {
      "model_module": "@jupyter-widgets/controls",
      "model_module_version": "2.0.0",
      "model_name": "FloatProgressModel",
      "state": {
       "_dom_classes": [],
       "_model_module": "@jupyter-widgets/controls",
       "_model_module_version": "2.0.0",
       "_model_name": "FloatProgressModel",
       "_view_count": null,
       "_view_module": "@jupyter-widgets/controls",
       "_view_module_version": "2.0.0",
       "_view_name": "ProgressView",
       "bar_style": "success",
       "description": "",
       "description_allow_html": false,
       "layout": "IPY_MODEL_ddd7dc358d2f44628fc917c998022fcc",
       "max": 10.0,
       "min": 0.0,
       "orientation": "horizontal",
       "style": "IPY_MODEL_6882edf467224f9b9f296e2cbc9028bb",
       "tabbable": null,
       "tooltip": null,
       "value": 10.0
      }
     },
     "a25398e4856f4b659d8cfd94e81f33d6": {
      "model_module": "@jupyter-widgets/base",
      "model_module_version": "2.0.0",
      "model_name": "LayoutModel",
      "state": {
       "_model_module": "@jupyter-widgets/base",
       "_model_module_version": "2.0.0",
       "_model_name": "LayoutModel",
       "_view_count": null,
       "_view_module": "@jupyter-widgets/base",
       "_view_module_version": "2.0.0",
       "_view_name": "LayoutView",
       "align_content": null,
       "align_items": null,
       "align_self": null,
       "border_bottom": null,
       "border_left": null,
       "border_right": null,
       "border_top": null,
       "bottom": null,
       "display": null,
       "flex": null,
       "flex_flow": null,
       "grid_area": null,
       "grid_auto_columns": null,
       "grid_auto_flow": null,
       "grid_auto_rows": null,
       "grid_column": null,
       "grid_gap": null,
       "grid_row": null,
       "grid_template_areas": null,
       "grid_template_columns": null,
       "grid_template_rows": null,
       "height": null,
       "justify_content": null,
       "justify_items": null,
       "left": null,
       "margin": null,
       "max_height": null,
       "max_width": null,
       "min_height": null,
       "min_width": null,
       "object_fit": null,
       "object_position": null,
       "order": null,
       "overflow": null,
       "padding": null,
       "right": null,
       "top": null,
       "visibility": null,
       "width": null
      }
     },
     "cafed99fe9044e7ba2fb817256995795": {
      "model_module": "@jupyter-widgets/controls",
      "model_module_version": "2.0.0",
      "model_name": "HTMLStyleModel",
      "state": {
       "_model_module": "@jupyter-widgets/controls",
       "_model_module_version": "2.0.0",
       "_model_name": "HTMLStyleModel",
       "_view_count": null,
       "_view_module": "@jupyter-widgets/base",
       "_view_module_version": "2.0.0",
       "_view_name": "StyleView",
       "background": null,
       "description_width": "",
       "font_size": null,
       "text_color": null
      }
     },
     "ddd7dc358d2f44628fc917c998022fcc": {
      "model_module": "@jupyter-widgets/base",
      "model_module_version": "2.0.0",
      "model_name": "LayoutModel",
      "state": {
       "_model_module": "@jupyter-widgets/base",
       "_model_module_version": "2.0.0",
       "_model_name": "LayoutModel",
       "_view_count": null,
       "_view_module": "@jupyter-widgets/base",
       "_view_module_version": "2.0.0",
       "_view_name": "LayoutView",
       "align_content": null,
       "align_items": null,
       "align_self": null,
       "border_bottom": null,
       "border_left": null,
       "border_right": null,
       "border_top": null,
       "bottom": null,
       "display": null,
       "flex": null,
       "flex_flow": null,
       "grid_area": null,
       "grid_auto_columns": null,
       "grid_auto_flow": null,
       "grid_auto_rows": null,
       "grid_column": null,
       "grid_gap": null,
       "grid_row": null,
       "grid_template_areas": null,
       "grid_template_columns": null,
       "grid_template_rows": null,
       "height": null,
       "justify_content": null,
       "justify_items": null,
       "left": null,
       "margin": null,
       "max_height": null,
       "max_width": null,
       "min_height": null,
       "min_width": null,
       "object_fit": null,
       "object_position": null,
       "order": null,
       "overflow": null,
       "padding": null,
       "right": null,
       "top": null,
       "visibility": null,
       "width": null
      }
     },
     "f8fdcae7b6b844c59d2fc2d4b5758dec": {
      "model_module": "@jupyter-widgets/base",
      "model_module_version": "2.0.0",
      "model_name": "LayoutModel",
      "state": {
       "_model_module": "@jupyter-widgets/base",
       "_model_module_version": "2.0.0",
       "_model_name": "LayoutModel",
       "_view_count": null,
       "_view_module": "@jupyter-widgets/base",
       "_view_module_version": "2.0.0",
       "_view_name": "LayoutView",
       "align_content": null,
       "align_items": null,
       "align_self": null,
       "border_bottom": null,
       "border_left": null,
       "border_right": null,
       "border_top": null,
       "bottom": null,
       "display": null,
       "flex": null,
       "flex_flow": null,
       "grid_area": null,
       "grid_auto_columns": null,
       "grid_auto_flow": null,
       "grid_auto_rows": null,
       "grid_column": null,
       "grid_gap": null,
       "grid_row": null,
       "grid_template_areas": null,
       "grid_template_columns": null,
       "grid_template_rows": null,
       "height": null,
       "justify_content": null,
       "justify_items": null,
       "left": null,
       "margin": null,
       "max_height": null,
       "max_width": null,
       "min_height": null,
       "min_width": null,
       "object_fit": null,
       "object_position": null,
       "order": null,
       "overflow": null,
       "padding": null,
       "right": null,
       "top": null,
       "visibility": null,
       "width": null
      }
     }
    },
    "version_major": 2,
    "version_minor": 0
   }
  }
 },
 "nbformat": 4,
 "nbformat_minor": 5
}