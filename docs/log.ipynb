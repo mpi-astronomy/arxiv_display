{
 "cells": [
  {
   "cell_type": "markdown",
   "id": "92bcb855",
   "metadata": {
    "papermill": {
     "duration": 0.003704,
     "end_time": "2024-05-07T04:09:11.772335",
     "exception": false,
     "start_time": "2024-05-07T04:09:11.768631",
     "status": "completed"
    },
    "tags": []
   },
   "source": [
    "# MPIA Arxiv on Deck 2\n",
    "\n",
    "Contains the steps to produce the paper extractions."
   ]
  },
  {
   "cell_type": "code",
   "execution_count": 1,
   "id": "3a0d6e11",
   "metadata": {
    "execution": {
     "iopub.execute_input": "2024-05-07T04:09:11.779637Z",
     "iopub.status.busy": "2024-05-07T04:09:11.779353Z",
     "iopub.status.idle": "2024-05-07T04:09:12.211954Z",
     "shell.execute_reply": "2024-05-07T04:09:12.211187Z"
    },
    "papermill": {
     "duration": 0.438392,
     "end_time": "2024-05-07T04:09:12.213777",
     "exception": false,
     "start_time": "2024-05-07T04:09:11.775385",
     "status": "completed"
    },
    "tags": []
   },
   "outputs": [],
   "source": [
    "# Imports\n",
    "import os\n",
    "from IPython.display import Markdown, display\n",
    "from tqdm.notebook import tqdm\n",
    "import warnings\n",
    "from PIL import Image \n",
    "\n",
    "# requires arxiv_on_deck_2\n",
    "\n",
    "from arxiv_on_deck_2.arxiv2 import (get_new_papers, \n",
    "                                    get_paper_from_identifier,\n",
    "                                    retrieve_document_source, \n",
    "                                    get_markdown_badge)\n",
    "from arxiv_on_deck_2 import (latex,\n",
    "                             latex_bib,\n",
    "                             mpia,\n",
    "                             highlight_authors_in_list)\n",
    "\n",
    "# Sometimes images are really big\n",
    "Image.MAX_IMAGE_PIXELS = 1000000000 "
   ]
  },
  {
   "cell_type": "code",
   "execution_count": 2,
   "id": "22aa9d44",
   "metadata": {
    "execution": {
     "iopub.execute_input": "2024-05-07T04:09:12.220903Z",
     "iopub.status.busy": "2024-05-07T04:09:12.220620Z",
     "iopub.status.idle": "2024-05-07T04:09:12.225815Z",
     "shell.execute_reply": "2024-05-07T04:09:12.225279Z"
    },
    "papermill": {
     "duration": 0.010221,
     "end_time": "2024-05-07T04:09:12.227094",
     "exception": false,
     "start_time": "2024-05-07T04:09:12.216873",
     "status": "completed"
    },
    "tags": []
   },
   "outputs": [],
   "source": [
    "# Some useful definitions.\n",
    "\n",
    "class AffiliationWarning(UserWarning):\n",
    "    pass\n",
    "\n",
    "class AffiliationError(RuntimeError):\n",
    "    pass\n",
    "\n",
    "def validation(source: str):\n",
    "    \"\"\"Raises error paper during parsing of source file\n",
    "    \n",
    "    Allows checks before parsing TeX code.\n",
    "    \n",
    "    Raises AffiliationWarning\n",
    "    \"\"\"\n",
    "    check = mpia.affiliation_verifications(source, verbose=True)\n",
    "    if check is not True:\n",
    "        raise AffiliationError(\"mpia.affiliation_verifications: \" + check)\n",
    "\n",
    "        \n",
    "warnings.simplefilter('always', AffiliationWarning)\n",
    "\n",
    "\n",
    "def get_markdown_qrcode(paper_id: str):\n",
    "    \"\"\" Generate a qrcode to the arxiv page using qrserver.com\n",
    "    \n",
    "    :param paper: Arxiv paper\n",
    "    :returns: markdown text\n",
    "    \"\"\"\n",
    "    url = r\"https://api.qrserver.com/v1/create-qr-code/?size=100x100&data=\"\n",
    "    txt = f\"\"\"<img src={url}\"https://arxiv.org/abs/{paper_id}\">\"\"\"\n",
    "    txt = '<div id=\"qrcode\">' + txt + '</div>'\n",
    "    return txt"
   ]
  },
  {
   "cell_type": "markdown",
   "id": "14bd6310",
   "metadata": {
    "papermill": {
     "duration": 0.002777,
     "end_time": "2024-05-07T04:09:12.232691",
     "exception": false,
     "start_time": "2024-05-07T04:09:12.229914",
     "status": "completed"
    },
    "tags": []
   },
   "source": [
    "## get list of arxiv paper candidates\n",
    "\n",
    "We use the MPIA mitarbeiter list webpage from mpia.de to get author names\n",
    "We then get all new papers from Arxiv and match authors"
   ]
  },
  {
   "cell_type": "code",
   "execution_count": 3,
   "id": "2645e73a",
   "metadata": {
    "execution": {
     "iopub.execute_input": "2024-05-07T04:09:12.239296Z",
     "iopub.status.busy": "2024-05-07T04:09:12.239050Z",
     "iopub.status.idle": "2024-05-07T04:09:30.835437Z",
     "shell.execute_reply": "2024-05-07T04:09:30.834733Z"
    },
    "papermill": {
     "duration": 18.601291,
     "end_time": "2024-05-07T04:09:30.836794",
     "exception": false,
     "start_time": "2024-05-07T04:09:12.235503",
     "status": "completed"
    },
    "tags": []
   },
   "outputs": [
    {
     "name": "stdout",
     "output_type": "stream",
     "text": [
      "X. Zhang  ->  X. Zhang  |  ['X. Zhang']\n",
      "J. Liu  ->  J. Liu  |  ['J. Liu']\n",
      "R. Zhang  ->  R. Zhang  |  ['R. Zhang']\n",
      "J. Shi  ->  J. Shi  |  ['J. Shi']\n",
      "J. Li  ->  J. Li  |  ['J. Li']\n",
      "D. Muley  ->  D. Muley  |  ['D. Muley']\n",
      "H. Klahr  ->  H. Klahr  |  ['H. Klahr']\n",
      "F. Walter  ->  F. Walter  |  ['F. Walter']\n",
      "Arxiv has 84 new papers today\n",
      "          6 with possible author matches\n"
     ]
    }
   ],
   "source": [
    "# get list from MPIA website\n",
    "# it automatically filters identified non-scientists :func:`mpia.filter_non_scientists`\n",
    "mpia_authors = mpia.get_mpia_mitarbeiter_list()\n",
    "normed_mpia_authors = [k[1] for k in mpia_authors]   # initials + fullname\n",
    "new_papers = get_new_papers()\n",
    "# add manual references\n",
    "add_paper_refs = []\n",
    "new_papers.extend([get_paper_from_identifier(k) for k in add_paper_refs])\n",
    "\n",
    "candidates = []\n",
    "for paperk in new_papers:\n",
    "    # Check author list with their initials\n",
    "    normed_author_list = [mpia.get_initials(k) for k in paperk['authors']]\n",
    "    hl_authors = highlight_authors_in_list(normed_author_list, normed_mpia_authors, verbose=True)\n",
    "    matches = [(hl, orig) for hl, orig in zip(hl_authors, paperk['authors']) if 'mark' in hl]\n",
    "    paperk['authors'] = hl_authors\n",
    "    if matches:\n",
    "        # only select paper if an author matched our list\n",
    "        candidates.append(paperk)\n",
    "print(\"\"\"Arxiv has {0:,d} new papers today\"\"\".format(len(new_papers)))        \n",
    "print(\"\"\"          {0:,d} with possible author matches\"\"\".format(len(candidates)))"
   ]
  },
  {
   "cell_type": "markdown",
   "id": "3543b34a",
   "metadata": {
    "papermill": {
     "duration": 0.002969,
     "end_time": "2024-05-07T04:09:30.843017",
     "exception": false,
     "start_time": "2024-05-07T04:09:30.840048",
     "status": "completed"
    },
    "tags": []
   },
   "source": [
    "# Parse sources and generate relevant outputs\n",
    "\n",
    "From the candidates, we do the following steps:\n",
    "* get their tarball from ArXiv (and extract data)\n",
    "* find the main .tex file: find one with \\documentclass{...} (sometimes it's non trivial)\n",
    "* Check affiliations with :func:`validation`, which uses :func:`mpia.affiliation_verifications`\n",
    "* If passing the affiliations: we parse the .tex source\n",
    "   * inject sub-documents into the main (flatten the main document)\n",
    "   * parse structure, extract information (title, abstract, authors, figures...)\n",
    "   * handles `\\graphicspath` if provided\n",
    "* Generate the .md document."
   ]
  },
  {
   "cell_type": "code",
   "execution_count": 4,
   "id": "9576b79e",
   "metadata": {
    "execution": {
     "iopub.execute_input": "2024-05-07T04:09:30.849924Z",
     "iopub.status.busy": "2024-05-07T04:09:30.849509Z",
     "iopub.status.idle": "2024-05-07T04:10:07.820633Z",
     "shell.execute_reply": "2024-05-07T04:10:07.819894Z"
    },
    "papermill": {
     "duration": 36.977539,
     "end_time": "2024-05-07T04:10:07.823462",
     "exception": false,
     "start_time": "2024-05-07T04:09:30.845923",
     "status": "completed"
    },
    "scrolled": false,
    "tags": []
   },
   "outputs": [
    {
     "data": {
      "application/vnd.jupyter.widget-view+json": {
       "model_id": "7a9fe5ef54744294aa7d9f930da18807",
       "version_major": 2,
       "version_minor": 0
      },
      "text/plain": [
       "  0%|          | 0/6 [00:00<?, ?it/s]"
      ]
     },
     "metadata": {},
     "output_type": "display_data"
    },
    {
     "name": "stdout",
     "output_type": "stream",
     "text": [
      "Retrieving document from  https://arxiv.org/e-print/2405.02388\n",
      "extracting tarball to tmp_2405.02388..."
     ]
    },
    {
     "name": "stdout",
     "output_type": "stream",
     "text": [
      " done.\n",
      "Retrieving document from  https://arxiv.org/e-print/2405.02863\n",
      "extracting tarball to tmp_2405.02863... done.\n",
      "Retrieving document from  https://arxiv.org/e-print/2405.02978\n"
     ]
    },
    {
     "name": "stderr",
     "output_type": "stream",
     "text": [
      "/tmp/ipykernel_2174/3009462391.py:49: LatexWarning: 2405.02978 did not run properly\n",
      "not a gzip file\n",
      "  warnings.warn(latex.LatexWarning(f\"{paper_id:s} did not run properly\\n\" +\n"
     ]
    },
    {
     "name": "stdout",
     "output_type": "stream",
     "text": [
      "Retrieving document from  https://arxiv.org/e-print/2405.03135\n",
      "extracting tarball to tmp_2405.03135..."
     ]
    },
    {
     "name": "stdout",
     "output_type": "stream",
     "text": [
      " done.\n"
     ]
    },
    {
     "name": "stdout",
     "output_type": "stream",
     "text": [
      "Found 92 bibliographic references in tmp_2405.03135/main.bbl.\n",
      "syntax error in line 235: '=' expected\n",
      "Retrieving document from  https://arxiv.org/e-print/2405.03375\n",
      "extracting tarball to tmp_2405.03375..."
     ]
    },
    {
     "name": "stdout",
     "output_type": "stream",
     "text": [
      " done.\n"
     ]
    },
    {
     "name": "stderr",
     "output_type": "stream",
     "text": [
      "/opt/hostedtoolcache/Python/3.9.19/x64/lib/python3.9/site-packages/arxiv_on_deck_2/latex.py:399: LatexWarning: Latex injecting: 'threetemp_spiral_aanda_rev1_clean.bbl' from 'tmp_2405.03375/threetemp_spiral_aanda_rev1_clean.tex'\n",
      "  warnings.warn(LatexWarning(f\"Latex injecting: '{ext}' from '{subsource}'\"))\n"
     ]
    },
    {
     "name": "stdout",
     "output_type": "stream",
     "text": [
      "Found 83 bibliographic references in tmp_2405.03375/threetemp_spiral_aanda_rev1_clean.bbl.\n",
      "syntax error in line 581: premature end of file\n",
      "Retrieving document from  https://arxiv.org/e-print/2405.03686\n",
      "extracting tarball to tmp_2405.03686..."
     ]
    },
    {
     "name": "stdout",
     "output_type": "stream",
     "text": [
      " done.\n"
     ]
    },
    {
     "name": "stderr",
     "output_type": "stream",
     "text": [
      "/opt/hostedtoolcache/Python/3.9.19/x64/lib/python3.9/site-packages/IPython/core/interactiveshell.py:3550: LatexWarning: Multiple tex files.\n",
      "\n",
      "  exec(code_obj, self.user_global_ns, self.user_ns)\n",
      "/opt/hostedtoolcache/Python/3.9.19/x64/lib/python3.9/site-packages/IPython/core/interactiveshell.py:3550: LatexWarning: Found documentclass in tmp_2405.03686/mnras_template.tex\n",
      "\n",
      "  exec(code_obj, self.user_global_ns, self.user_ns)\n",
      "/opt/hostedtoolcache/Python/3.9.19/x64/lib/python3.9/site-packages/arxiv_on_deck_2/latex.py:399: LatexWarning: Latex injecting: 'affiliations' from 'tmp_2405.03686/affiliations.tex'\n",
      "  warnings.warn(LatexWarning(f\"Latex injecting: '{ext}' from '{subsource}'\"))\n"
     ]
    }
   ],
   "source": [
    "documents = []\n",
    "failed = []\n",
    "for paper in tqdm(candidates):\n",
    "    paper_id = paper['identifier'].lower().replace('arxiv:', '')\n",
    "    \n",
    "    folder = f'tmp_{paper_id}'\n",
    "\n",
    "    try:\n",
    "        if not os.path.isdir(folder):\n",
    "            folder = retrieve_document_source(f\"{paper_id}\", f'tmp_{paper_id}')\n",
    "        \n",
    "        try:\n",
    "            doc = latex.LatexDocument(folder, validation=validation)    \n",
    "        except AffiliationError as affilerror:\n",
    "            msg = f\"ArXiv:{paper_id:s} is not an MPIA paper... \" + str(affilerror)\n",
    "            failed.append((paper, \"affiliation error: \" + str(affilerror) ))\n",
    "            continue\n",
    "        \n",
    "        # Hack because sometimes author parsing does not work well\n",
    "        if (len(doc.authors) != len(paper['authors'])):\n",
    "            doc._authors = paper['authors']\n",
    "        else:\n",
    "            # highlight authors (FIXME: doc.highlight_authors)\n",
    "            # done on arxiv paper already\n",
    "            doc._authors = highlight_authors_in_list(\n",
    "                [mpia.get_initials(k) for k in doc.authors], \n",
    "                normed_mpia_authors, verbose=True)\n",
    "        if (doc.abstract) in (None, ''):\n",
    "            doc._abstract = paper['abstract']\n",
    "            \n",
    "        doc.comment = (get_markdown_badge(paper_id) + \n",
    "                       \"<mark>Appeared on: \" + paper['date'] + \"</mark> - \")\n",
    "        if paper['comments']:\n",
    "            doc.comment += \" _\" + paper['comments'] + \"_\"\n",
    "        \n",
    "        full_md = doc.generate_markdown_text()\n",
    "        \n",
    "        full_md += get_markdown_qrcode(paper_id)\n",
    "        \n",
    "        # replace citations\n",
    "        try:\n",
    "            bibdata = latex_bib.LatexBib.from_doc(doc)\n",
    "            full_md = latex_bib.replace_citations(full_md, bibdata)\n",
    "        except Exception as e:\n",
    "            print(e)\n",
    "        \n",
    "        documents.append((paper_id, full_md))\n",
    "    except Exception as e:\n",
    "        warnings.warn(latex.LatexWarning(f\"{paper_id:s} did not run properly\\n\" +\n",
    "                                         str(e)\n",
    "                                        ))\n",
    "        failed.append((paper, \"latex error \" + str(e)))"
   ]
  },
  {
   "cell_type": "markdown",
   "id": "2505a25c",
   "metadata": {
    "papermill": {
     "duration": 0.003478,
     "end_time": "2024-05-07T04:10:07.830809",
     "exception": false,
     "start_time": "2024-05-07T04:10:07.827331",
     "status": "completed"
    },
    "tags": []
   },
   "source": [
    "### Export the logs\n",
    "\n",
    "Throughout, we also keep track of the logs per paper. see `logs-{today date}.md` "
   ]
  },
  {
   "cell_type": "code",
   "execution_count": 5,
   "id": "d733828a",
   "metadata": {
    "execution": {
     "iopub.execute_input": "2024-05-07T04:10:07.839702Z",
     "iopub.status.busy": "2024-05-07T04:10:07.839410Z",
     "iopub.status.idle": "2024-05-07T04:10:07.856883Z",
     "shell.execute_reply": "2024-05-07T04:10:07.856225Z"
    },
    "papermill": {
     "duration": 0.024026,
     "end_time": "2024-05-07T04:10:07.858296",
     "exception": false,
     "start_time": "2024-05-07T04:10:07.834270",
     "status": "completed"
    },
    "scrolled": false,
    "tags": []
   },
   "outputs": [
    {
     "data": {
      "text/markdown": [
       "## Successful papers"
      ],
      "text/plain": [
       "<IPython.core.display.Markdown object>"
      ]
     },
     "metadata": {},
     "output_type": "display_data"
    },
    {
     "data": {
      "text/markdown": [
       "\n",
       "|||\n",
       "|---:|:---|\n",
       "| [![arXiv](https://img.shields.io/badge/arXiv-arXiv:2405.03135-b31b1b.svg)](https://arxiv.org/abs/arXiv:2405.03135) | **CURLING - I. The Influence of Point-like Image Approximation on the  Outcomes of Cluster Strong Lens Modeling**  |\n",
       "|| Y. Xie, et al. -- incl., <mark>J. Li</mark> |\n",
       "|*Appeared on*| *2024-05-07*|\n",
       "|*Comments*| *12 pages, 8 figures*|\n",
       "|**Abstract**| Cluster-scale strong lensing is a powerful tool for exploring the properties of dark matter and constraining cosmological models. However, due to the complex parameter space, pixelized strong lens modeling in galaxy clusters is computationally expensive, leading to the point-source approximation of strongly lensed extended images, potentially introducing systematic biases. Herein, as the first paper of the ClUsteR strong Lens modelIng for the Next-Generation observations (CURLING) program, we use lensing ray-tracing simulations to quantify the biases and uncertainties arising from the point-like image approximation for JWST-like observations. Our results indicate that the approximation works well for reconstructing the total cluster mass distribution, but can bias the magnification measurements near critical curves and the constraints on the cosmological parameters, the total matter density of the Universe $\\Omega_{\\rm m}$, and dark energy equation of state parameter $w$. To mitigate the biases, we propose incorporating the extended surface brightness distribution of lensed sources into the modeling. This approach reduces the bias in magnification from 46.2 per cent to 0.09 per cent for $\\mu \\sim 1000$. Furthermore, the median values of cosmological parameters align more closely with the fiducial model. In addition to the improved accuracy, we also demonstrate that the constraining power can be substantially enhanced. In conclusion, it is necessary to model cluster-scale strong lenses with pixelized multiple images, especially for estimating the intrinsic luminosity of highly magnified sources and accurate cosmography in the era of high-precision observations. |"
      ],
      "text/plain": [
       "[arXiv:2405.03135] CURLING - I. The Influence of Point-like Image Approximation on the  Outcomes of Cluster Strong Lens Modeling\n",
       "\tY. Xie, et al. -- incl., <mark>J. Li</mark>"
      ]
     },
     "metadata": {},
     "output_type": "display_data"
    },
    {
     "data": {
      "text/markdown": [
       "\n",
       "|||\n",
       "|---:|:---|\n",
       "| [![arXiv](https://img.shields.io/badge/arXiv-arXiv:2405.03375-b31b1b.svg)](https://arxiv.org/abs/arXiv:2405.03375) | **Three-temperature radiation hydrodynamics with PLUTO: Thermal and  kinematic signatures of accreting protoplanets**  |\n",
       "|| <mark>D. Muley</mark>, J. D. M. Fuksman, <mark>H. Klahr</mark> |\n",
       "|*Appeared on*| *2024-05-07*|\n",
       "|*Comments*| *Accepted to Astronomy and Astrophysics; 22 pages, 19 figures incl. Appendix. Comments and questions welcome*|\n",
       "|**Abstract**| In circumstellar disks around young stars, the gravitational influence of nascent planets produces telltale patterns in density, temperature, and kinematics. To better understand these signatures, we first performed 3D hydrodynamical simulations of a 0.012 $M_{\\odot}$ disk, with a Saturn-mass planet orbiting circularly in-plane at 40 au. We tested four different disk thermodynamic prescriptions (in increasing order of complexity, local isothermality, $\\beta$-cooling, two-temperature radiation hydrodynamics, and three-temperature radiation hydrodynamics), finding that $\\beta$-cooling offers a reasonable approximation for the three-temperature approach when the planet is not massive or luminous enough to substantially alter the background temperature and density structure. Thereafter, using the three-temperature scheme, we relaxed this assumption, simulating a range of different planet masses (Neptune-mass, Saturn-mass, Jupiter-mass) and accretion luminosities (0, $10^{-3} L_{\\odot}$) in the same disk. Our investigation revealed that signatures of disk-planet interaction strengthen with increasing planet mass, with circumplanetary flows becoming prominent in the high-planet-mass regime. Accretion luminosity, which adds pressure support around the planet, was found to weaken the midplane Doppler-flip, potentially visible in optically thin tracers like C$^{18}$O, while strengthening the spiral signature, particularly in upper disk layers sensitive to thicker lines, like those of $^{12}$CO. |"
      ],
      "text/plain": [
       "[arXiv:2405.03375] Three-temperature radiation hydrodynamics with PLUTO: Thermal and  kinematic signatures of accreting protoplanets\n",
       "\t<mark>D. Muley</mark>, J. D. M. Fuksman, <mark>H. Klahr</mark>"
      ]
     },
     "metadata": {},
     "output_type": "display_data"
    },
    {
     "data": {
      "text/markdown": [
       "## Failed papers"
      ],
      "text/plain": [
       "<IPython.core.display.Markdown object>"
      ]
     },
     "metadata": {},
     "output_type": "display_data"
    },
    {
     "data": {
      "text/markdown": [
       "\n",
       "|||\n",
       "|---:|:---|\n",
       "| [![arXiv](https://img.shields.io/badge/arXiv-arXiv:2405.03686-b31b1b.svg)](https://arxiv.org/abs/arXiv:2405.03686) | **JWST Observations of Starbursts: Cold Clouds and Plumes Launching in the  M82 Outflow**  |\n",
       "|| D. B. Fisher, et al. -- incl., <mark>F. Walter</mark> |\n",
       "|*Appeared on*| *2024-05-07*|\n",
       "|*Comments*| *Submitted to MNRAS*|\n",
       "|**Abstract**| In this paper we study the filamentary substructure of 3.3 $\\mu$m PAH emission from JWST/NIRCam observations in the base of the M82 star-burst driven wind. We identify plume-like substructure within the PAH emission with widths of $\\sim$50 pc. Several of the plumes extend to the edge of the field-of-view, and thus are at least 200-300 pc in length. In this region of the outflow, the vast majority ($\\sim$70\\%) of PAH emission is associated with the plumes. We show that those structures contain smaller scale \"clouds\" with widths that are $\\sim$5-15 pc, and they are morphologically similar to the results of \"cloud-crushing\" simulations. We estimate the cloud-crushing time-scales of $\\sim$0.5-3 Myr, depending on assumptions. We show this time scale is consistent with a picture in which these observed PAH clouds survived break-out from the disk rather than being destroyed by the hot wind. The PAH emission in both the midplane and the outflow is shown to tightly correlate with that of Pa$\\alpha$ emission (from HST/NICMOS data), at the scale of both plumes and clouds, though the ratio of PAH-to-Pa$\\alpha$ increases at further distances from the midplane. Finally, we show that the outflow PAH emission is suppressed in regions of the M82 wind that are bright in X-ray emission. Overall, our results are broadly consistent with a picture in which cold gas in galactic outflows is launched via hierarchically structured plumes, and those small scale clouds are more likely to survive the wind environment when collected into the larger plume structure. |\n",
       "|<p style=\"color:green\"> **ERROR** </p>| <p style=\"color:green\">affiliation error: mpia.affiliation_verifications: '69117' keyword not found.</p> |"
      ],
      "text/plain": [
       "<IPython.core.display.Markdown object>"
      ]
     },
     "metadata": {},
     "output_type": "display_data"
    },
    {
     "data": {
      "text/markdown": [
       "\n",
       "|||\n",
       "|---:|:---|\n",
       "| [![arXiv](https://img.shields.io/badge/arXiv-arXiv:2405.02388-b31b1b.svg)](https://arxiv.org/abs/arXiv:2405.02388) | **Gravothermal Catastrophe in Resonant Self-interacting Dark Matter Models**  |\n",
       "|| V. Tran, et al. -- incl., <mark>X. Zhang</mark> |\n",
       "|*Appeared on*| *2024-05-07*|\n",
       "|*Comments*| *10 pages, 6 figures, 1 table, submitted to PRD*|\n",
       "|**Abstract**| We investigate a self-interacting dark matter (SIDM) model featuring a velocity-dependent cross section with an order-of-magnitude resonant enhancement of the cross section at $\\sim 16\\,{\\rm km}\\,{\\rm s}^{-1}$. To understand the implications for the structure of dark matter halos, we perform N-body simulations of isolated dark matter halos of mass $\\sim 10^8\\,{\\rm M}_\\odot$, a halo mass selected to have a maximum response to the resonance. We track the core formation and the gravothermal collapse phases of the dark matter halo in this model and compare the halo evolving with the resonant cross section with halos evolving with velocity-independent cross sections. We show that dark matter halo evolution with the resonant cross section exhibits a deviation from universality that characterizes halo evolution with velocity-independent cross sections. The halo evolving under the influence of the resonance reaches a lower minimum central density during core formation. It subsequently takes about $20\\%$ longer to reach its initial central density during the collapse phase. These results motivate a more detailed exploration of halo evolution in models with pronounced resonances. |\n",
       "|<p style=\"color:green\"> **ERROR** </p>| <p style=\"color:green\">affiliation error: mpia.affiliation_verifications: 'Heidelberg' keyword not found.</p> |"
      ],
      "text/plain": [
       "<IPython.core.display.Markdown object>"
      ]
     },
     "metadata": {},
     "output_type": "display_data"
    },
    {
     "data": {
      "text/markdown": [
       "\n",
       "|||\n",
       "|---:|:---|\n",
       "| [![arXiv](https://img.shields.io/badge/arXiv-arXiv:2405.02863-b31b1b.svg)](https://arxiv.org/abs/arXiv:2405.02863) | **Stellar X-ray activity and habitability revealed by ROSAT sky survey**  |\n",
       "|| H. Han, et al. -- incl., <mark>J. Liu</mark> |\n",
       "|*Appeared on*| *2024-05-07*|\n",
       "|*Comments*| *17 pages, 12 figures, accept for publish in ApJS*|\n",
       "|**Abstract**| Using the homogeneous X-ray catalog from ROSAT observations, we conducted a comprehensive investigation into stellar X-ray activity-rotation relations for both single and binary stars. Generally, the relation for single stars consists of two distinct regions: a weak decay region, indicating a continued dependence of the magnetic dynamo on stellar rotation rather than a saturation regime with constant activity, and a rapid decay region, where X-ray activity is strongly correlated with the Rossby number. Detailed analysis reveals more fine structures within the relation: in the extremely fast rotating regime, a decrease in X-ray activity was observed with increasing rotation rate, referred to as super-saturation, while in the extremely slow rotating region, the relation flattens, mainly due to the scattering of F stars. This scattering may result from intrinsic variability in stellar activities over one stellar cycle or the presence of different dynamo mechanisms. Binaries exhibit a similar relation to that of single stars while the limited sample size prevented the identification of fine structures in the relation for binaries. We calculated the mass loss rates of planetary atmosphere triggered by X-ray emissions from host stars. Our findings indicate that for an Earth-like planet within the stellar habitable zone, it would easily lose its entire primordial H/He envelope (equating to about 1% of the planetary mass). |\n",
       "|<p style=\"color:green\"> **ERROR** </p>| <p style=\"color:green\">affiliation error: mpia.affiliation_verifications: 'Heidelberg' keyword not found.</p> |"
      ],
      "text/plain": [
       "<IPython.core.display.Markdown object>"
      ]
     },
     "metadata": {},
     "output_type": "display_data"
    },
    {
     "data": {
      "text/markdown": [
       "\n",
       "|||\n",
       "|---:|:---|\n",
       "| [![arXiv](https://img.shields.io/badge/arXiv-arXiv:2405.02978-b31b1b.svg)](https://arxiv.org/abs/arXiv:2405.02978) | **Four-hundred Very Metal-poor Stars Studied with LAMOST and Subaru. III.  Dynamically Tagged Groups and Chemodynamical Properties**  |\n",
       "|| <mark>R. Zhang</mark>, et al. -- incl., <mark>J. Shi</mark> |\n",
       "|*Appeared on*| *2024-05-07*|\n",
       "|*Comments*| *30 pages, 24 figures, published in ApJ*|\n",
       "|**Abstract**| Very metal-poor (VMP) stars record the signatures of early accreted galaxies, making them essential tools for unraveling the early stages of Galaxy formation. Understanding the origin of VMP stars requires comprehensive studies of their chemical compositions and kinematics, which are currently lacking. Hence, we conduct a chemodynamical analysis of 352 VMP stars selected from one of the largest uniform high-resolution VMP star samples, jointly obtained from LAMOST and Subaru. We apply a friends-of-friends clustering algorithm to the master catalog of this high-resolution sample, which consists of 5778 VMP stars. It results in 131 dynamically tagged groups with 89 associated with known substructures in the Milky Way, including Gaia-Sausage-Enceladus (GSE), Thamnos, Helmi streams, Sequoia, Wukong, Pontus, and the very metal-poor disk (VMPD). Our findings are: (i) the VMPD shows lower Zn abundances than the rest, which indicates that it could be a relic of small stellar systems; (ii) Sequoia shows moderately high r-process abundances; (iii) Helmi streams show deficiencies in carbon and light neutron-capture elements; (iv) the fraction of carbon-enhanced metal-poor stars with no enhancement in heavy elements (CEMP-no stars) seems low in the VMPD and the Helmi streams; and (v) a subgroup in GSE exhibits a very high fraction of r-process enhanced stars, with four out of five showing [Eu/Fe]> +1.0. The abundance patterns of other elements in VMP substructures largely match the whole VMP sample. We also study large-scale correlations between abundance ratios and kinematics without classifying stars into substructures, but it does not yield significant correlations once the overall chemical evolution is considered for most elements. |\n",
       "|<p style=\"color:red\"> **ERROR** </p>| <p style=\"color:red\">latex error not a gzip file</p> |"
      ],
      "text/plain": [
       "<IPython.core.display.Markdown object>"
      ]
     },
     "metadata": {},
     "output_type": "display_data"
    }
   ],
   "source": [
    "import datetime\n",
    "today = str(datetime.date.today())\n",
    "logfile = f\"_build/html/logs/log-{today}.md\"\n",
    "\n",
    "\n",
    "with open(logfile, 'w') as logs:\n",
    "    # Success\n",
    "    logs.write(f'# Arxiv on Deck 2: Logs - {today}\\n\\n')\n",
    "    logs.write(\"\"\"* Arxiv had {0:,d} new papers\\n\"\"\".format(len(new_papers)))\n",
    "    logs.write(\"\"\"    * {0:,d} with possible author matches\\n\\n\"\"\".format(len(candidates)))\n",
    "    logs.write(\"## Sucessful papers\\n\\n\")\n",
    "    display(Markdown(\"## Successful papers\"))\n",
    "    success = [k[0] for k in documents]\n",
    "    for candid in candidates:\n",
    "        if candid['identifier'].split(':')[-1] in success:\n",
    "            display(candid)\n",
    "            logs.write(candid.generate_markdown_text() + '\\n\\n')\n",
    "\n",
    "    ## failed\n",
    "    logs.write(\"## Failed papers\\n\\n\")\n",
    "    display(Markdown(\"## Failed papers\"))\n",
    "    failed = sorted(failed, key=lambda x: x[1])\n",
    "    current_reason = \"\"\n",
    "    for paper, reason in failed:\n",
    "        if 'affiliation' in reason:\n",
    "            color = 'green'\n",
    "        else:\n",
    "            color = 'red'\n",
    "        data = Markdown(\n",
    "                paper.generate_markdown_text() + \n",
    "                f'\\n|<p style=\"color:{color:s}\"> **ERROR** </p>| <p style=\"color:{color:s}\">{reason:s}</p> |'\n",
    "               )\n",
    "        if reason != current_reason:\n",
    "            logs.write(f'### {reason:s} \\n\\n')\n",
    "            current_reason = reason\n",
    "        logs.write(data.data + '\\n\\n')\n",
    "        \n",
    "        # only display here the important errors (all in logs)\n",
    "        # if color in ('red',):\n",
    "        display(data)"
   ]
  },
  {
   "cell_type": "markdown",
   "id": "472d20ee",
   "metadata": {
    "papermill": {
     "duration": 0.004259,
     "end_time": "2024-05-07T04:10:07.866925",
     "exception": false,
     "start_time": "2024-05-07T04:10:07.862666",
     "status": "completed"
    },
    "tags": []
   },
   "source": [
    "## Export documents\n",
    "\n",
    "We now write the .md files and export relevant images"
   ]
  },
  {
   "cell_type": "code",
   "execution_count": 6,
   "id": "d426aed9",
   "metadata": {
    "execution": {
     "iopub.execute_input": "2024-05-07T04:10:07.876616Z",
     "iopub.status.busy": "2024-05-07T04:10:07.876218Z",
     "iopub.status.idle": "2024-05-07T04:10:07.882367Z",
     "shell.execute_reply": "2024-05-07T04:10:07.881813Z"
    },
    "papermill": {
     "duration": 0.012434,
     "end_time": "2024-05-07T04:10:07.883633",
     "exception": false,
     "start_time": "2024-05-07T04:10:07.871199",
     "status": "completed"
    },
    "tags": []
   },
   "outputs": [],
   "source": [
    "def export_markdown_summary(md: str, md_fname:str, directory: str):\n",
    "    \"\"\"Export MD document and associated relevant images\"\"\"\n",
    "    import os\n",
    "    import shutil\n",
    "    import re\n",
    "\n",
    "    if (os.path.exists(directory) and not os.path.isdir(directory)):\n",
    "        raise RuntimeError(f\"a non-directory file exists with name {directory:s}\")\n",
    "\n",
    "    if (not os.path.exists(directory)):\n",
    "        print(f\"creating directory {directory:s}\")\n",
    "        os.mkdir(directory)\n",
    "\n",
    "    fig_fnames = (re.compile(r'\\[Fig.*\\]\\((.*)\\)').findall(md) + \n",
    "                  re.compile(r'\\<img src=\"([^>\\s]*)\"[^>]*/>').findall(md))\n",
    "    for fname in fig_fnames:\n",
    "        if 'http' in fname:\n",
    "            # No need to copy online figures\n",
    "            continue\n",
    "        destdir = os.path.join(directory, os.path.dirname(fname))\n",
    "        destfname = os.path.join(destdir, os.path.basename(fname))\n",
    "        try:\n",
    "            os.makedirs(destdir)\n",
    "        except FileExistsError:\n",
    "            pass\n",
    "        shutil.copy(fname, destfname)\n",
    "    with open(os.path.join(directory, md_fname), 'w') as fout:\n",
    "        fout.write(md)\n",
    "    print(\"exported in \", os.path.join(directory, md_fname))\n",
    "    [print(\"    + \" + os.path.join(directory,fk)) for fk in fig_fnames]"
   ]
  },
  {
   "cell_type": "code",
   "execution_count": 7,
   "id": "014d04a4",
   "metadata": {
    "execution": {
     "iopub.execute_input": "2024-05-07T04:10:07.893373Z",
     "iopub.status.busy": "2024-05-07T04:10:07.893020Z",
     "iopub.status.idle": "2024-05-07T04:10:07.904211Z",
     "shell.execute_reply": "2024-05-07T04:10:07.903543Z"
    },
    "papermill": {
     "duration": 0.01739,
     "end_time": "2024-05-07T04:10:07.905472",
     "exception": false,
     "start_time": "2024-05-07T04:10:07.888082",
     "status": "completed"
    },
    "tags": []
   },
   "outputs": [
    {
     "name": "stdout",
     "output_type": "stream",
     "text": [
      "exported in  _build/html/2405.03135.md\n",
      "    + _build/html/tmp_2405.03135/./fig5-2dmag.png\n",
      "    + _build/html/tmp_2405.03135/./fig6-muarea.png\n",
      "    + _build/html/tmp_2405.03135/./fig4-mass.png\n",
      "exported in  _build/html/2405.03375.md\n",
      "    + _build/html/tmp_2405.03375/./azi_cuts_integrated_spiral_cut_allmass_3t_scalar.png\n",
      "    + _build/html/tmp_2405.03375/./azi_cuts_integrated_spiral_cut_allmass_3t_vector.png\n",
      "    + _build/html/tmp_2405.03375/./vx1_diff_spiral_cut_allmass_3t.png\n",
      "    + _build/html/tmp_2405.03375/./azi_cuts_integrated_spiral_cut_allmass_3t_scalar.png\n",
      "    + _build/html/tmp_2405.03375/./azi_cuts_integrated_spiral_cut_allmass_3t_vector.png\n"
     ]
    }
   ],
   "source": [
    "for paper_id, md in documents:\n",
    "    export_markdown_summary(md, f\"{paper_id:s}.md\", '_build/html/')"
   ]
  },
  {
   "cell_type": "markdown",
   "id": "f087a0a7",
   "metadata": {
    "papermill": {
     "duration": 0.004354,
     "end_time": "2024-05-07T04:10:07.914342",
     "exception": false,
     "start_time": "2024-05-07T04:10:07.909988",
     "status": "completed"
    },
    "tags": []
   },
   "source": [
    "## Display the papers\n",
    "\n",
    "Not necessary but allows for a quick check."
   ]
  },
  {
   "cell_type": "code",
   "execution_count": 8,
   "id": "fd25f625",
   "metadata": {
    "execution": {
     "iopub.execute_input": "2024-05-07T04:10:07.924462Z",
     "iopub.status.busy": "2024-05-07T04:10:07.924000Z",
     "iopub.status.idle": "2024-05-07T04:10:07.930228Z",
     "shell.execute_reply": "2024-05-07T04:10:07.929608Z"
    },
    "papermill": {
     "duration": 0.012866,
     "end_time": "2024-05-07T04:10:07.931603",
     "exception": false,
     "start_time": "2024-05-07T04:10:07.918737",
     "status": "completed"
    },
    "scrolled": false,
    "tags": []
   },
   "outputs": [
    {
     "data": {
      "text/markdown": [
       "<div class=\"macros\" style=\"visibility:hidden;\">\n",
       "$\\newcommand{\\ensuremath}{}$\n",
       "$\\newcommand{\\xspace}{}$\n",
       "$\\newcommand{\\object}[1]{\\texttt{#1}}$\n",
       "$\\newcommand{\\farcs}{{.}''}$\n",
       "$\\newcommand{\\farcm}{{.}'}$\n",
       "$\\newcommand{\\arcsec}{''}$\n",
       "$\\newcommand{\\arcmin}{'}$\n",
       "$\\newcommand{\\ion}[2]{#1#2}$\n",
       "$\\newcommand{\\textsc}[1]{\\textrm{#1}}$\n",
       "$\\newcommand{\\hl}[1]{\\textrm{#1}}$\n",
       "$\\newcommand{\\footnote}[1]{}$\n",
       "$\\newcommand{\\thebibliography}{\\DeclareRobustCommand{\\VAN}[3]{##3}\\VANthebibliography}$</div>\n",
       "\n",
       "\n",
       "\n",
       "<div id=\"title\">\n",
       "\n",
       "# CURLING - $\\uppercase$$\\expandafter{\\romannumeral1}$. The Influence of Point-like Image Approximation on the Outcomes of Cluster Strong Lens Modeling\n",
       "\n",
       "</div>\n",
       "<div id=\"comments\">\n",
       "\n",
       "[![arXiv](https://img.shields.io/badge/arXiv-2405.03135-b31b1b.svg)](https://arxiv.org/abs/2405.03135)<mark>Appeared on: 2024-05-07</mark> -  _12 pages, 8 figures_\n",
       "\n",
       "</div>\n",
       "<div id=\"authors\">\n",
       "\n",
       "Y. Xie, et al. -- incl., <mark>J. Li</mark>\n",
       "\n",
       "</div>\n",
       "<div id=\"abstract\">\n",
       "\n",
       "**Abstract:** Cluster-scale strong lensing is a powerful tool for exploring the properties of dark matter and constraining cosmological models. However, due to the complex parameter space, pixelized strong lens modeling in galaxy clusters is computationally expensive, leading to the point-source approximation of strongly lensed extended images, potentially introducing systematic biases. Herein, as the first paper of the ClUsteR strong Lens modelIng for the Next-Generation observations (CURLING) program, we use lensing ray-tracing simulations to quantify the biases and uncertainties arising from the point-like image approximation for JWST-like observations. Our results indicate that the approximation works well for reconstructing the total cluster mass distribution, but can bias the magnification measurements near critical curves and the constraints on the cosmological parameters, the total matter density of the Universe $\\Omega_{\\rm m}$ , and dark energy equation of state parameter $w$ . To mitigate the biases, we propose incorporating the extended surface brightness distribution of lensed sources into the modeling. This approach reduces the bias in magnification from 46.2 per cent to 0.09 per cent for $\\mu \\sim 1000$ . Furthermore, the median values of cosmological parameters align more closely with the fiducial model. In addition to the improved accuracy, we also demonstrate that the constraining power can be substantially enhanced. In conclusion, it is necessary to model cluster-scale strong lenses with pixelized multiple images, especially for estimating the intrinsic luminosity of highly magnified sources and accurate cosmography in the era of high-precision observations.\n",
       "\n",
       "</div>\n",
       "\n",
       "<div id=\"div_fig1\">\n",
       "\n",
       "<img src=\"tmp_2405.03135/./fig5-2dmag.png\" alt=\"Fig5\" width=\"100%\"/>\n",
       "\n",
       "**Figure 5. -** Log-scale difference between the recovered and fiducial magnification maps at $z_{\\rm s} = 10$ with Lenstool(left panel) and pixelated modeling (right panel), with critical curves overlaid as black dots. Note: Regions with little difference ($<10^{-7}$) are plotted as white areas since they become Not-a-Number (NaN) in log scale. (*fig5*)\n",
       "\n",
       "</div>\n",
       "<div id=\"div_fig2\">\n",
       "\n",
       "<img src=\"tmp_2405.03135/./fig6-muarea.png\" alt=\"Fig6\" width=\"100%\"/>\n",
       "\n",
       "**Figure 6. -** Total area as a function of the difference between the recovered and fiducial magnification maps. Left: comparison between Lenstool(blue) and pixelated modeling (pink) with the best-fit result defined as model with minimum $\\chi^2$; right: same with left but with the best-fit result defined as medians of the parameters.  (*fig6*)\n",
       "\n",
       "</div>\n",
       "<div id=\"div_fig3\">\n",
       "\n",
       "<img src=\"tmp_2405.03135/./fig4-mass.png\" alt=\"Fig3\" width=\"100%\"/>\n",
       "\n",
       "**Figure 3. -** Circularly averaged mass profiles of the cluster recovered with blue: Lenstool and red: pixelated modeling. Shaded regions are obtained from the randomly selected 2000 realizations in the MCMC outputs. The input mass profile is indicated as the black line. (*fig4*)\n",
       "\n",
       "</div><div id=\"qrcode\"><img src=https://api.qrserver.com/v1/create-qr-code/?size=100x100&data=\"https://arxiv.org/abs/2405.03135\"></div>"
      ],
      "text/plain": [
       "<IPython.core.display.Markdown object>"
      ]
     },
     "metadata": {},
     "output_type": "display_data"
    },
    {
     "data": {
      "text/markdown": [
       "<div class=\"macros\" style=\"visibility:hidden;\">\n",
       "$\\newcommand{\\ensuremath}{}$\n",
       "$\\newcommand{\\xspace}{}$\n",
       "$\\newcommand{\\object}[1]{\\texttt{#1}}$\n",
       "$\\newcommand{\\farcs}{{.}''}$\n",
       "$\\newcommand{\\farcm}{{.}'}$\n",
       "$\\newcommand{\\arcsec}{''}$\n",
       "$\\newcommand{\\arcmin}{'}$\n",
       "$\\newcommand{\\ion}[2]{#1#2}$\n",
       "$\\newcommand{\\textsc}[1]{\\textrm{#1}}$\n",
       "$\\newcommand{\\hl}[1]{\\textrm{#1}}$\n",
       "$\\newcommand{\\footnote}[1]{}$\n",
       "$\\newcommand{\\vdag}{(v)^\\dagger}$\n",
       "$\\newcommand$\n",
       "$\\newcommand$\n",
       "$\\newcommand{\\dmnote}[1]{{\\bf \\color{blue}[D.M.: #1]}}$\n",
       "$\\newcommand{\\dmfnote}[1]{{\\bf \\color{orange}[D.M.F.: #1]}}$\n",
       "$\\newcommand{\\hknote}[1]{{\\bf \\color{green}[H.K.: #1]}}$\n",
       "$\\newcommand{\\vdag}{(v)^\\dagger}$\n",
       "$\\newcommand$\n",
       "$\\newcommand$\n",
       "$\\newcommand{\\dmnote}[1]{{\\bf \\color{blue}[D.M.: #1]}}$\n",
       "$\\newcommand{\\dmfnote}[1]{{\\bf \\color{orange}[D.M.F.: #1]}}$\n",
       "$\\newcommand{\\hknote}[1]{{\\bf \\color{green}[H.K.: #1]}}$</div>\n",
       "\n",
       "\n",
       "\n",
       "<div id=\"title\">\n",
       "\n",
       "# Three-temperature radiation hydrodynamics with PLUTO\n",
       "\n",
       "</div>\n",
       "<div id=\"comments\">\n",
       "\n",
       "[![arXiv](https://img.shields.io/badge/arXiv-2405.03375-b31b1b.svg)](https://arxiv.org/abs/2405.03375)<mark>Appeared on: 2024-05-07</mark> -  _Accepted to Astronomy and Astrophysics; 22 pages, 19 figures incl. Appendix. Comments and questions welcome_\n",
       "\n",
       "</div>\n",
       "<div id=\"authors\">\n",
       "\n",
       "<mark>D. Muley</mark>, J. D. M. Fuksman, <mark>H. Klahr</mark>\n",
       "\n",
       "</div>\n",
       "<div id=\"abstract\">\n",
       "\n",
       "**Abstract:** In circumstellar disks around young stars, the gravitational influence of nascent planets produces telltale patterns in density, temperature, and kinematics. To better understand these signatures, we first performed 3D hydrodynamical simulations of a 0.012 $M_{\\odot}$ disk, with a Saturn-mass planet orbiting circularly in-plane at 40 au. We tested four different disk thermodynamic prescriptions (in increasing order of complexity, local isothermality, $\\beta$ -cooling, two-temperature radiation hydrodynamics, and three-temperature radiation hydrodynamics), finding that $\\beta$ -cooling offers a reasonable approximation for the three-temperature approach when the planet is not massive or luminous enough to substantially alter the background temperature and density structure. Thereafter, using the three-temperature scheme, we relaxed this assumption, simulating a range of different planet masses (Neptune-mass, Saturn-mass, Jupiter-mass) and accretion luminosities (0, $10^{-3} L_{\\odot}$ ) in the same disk. Our investigation revealed that signatures of disk-planet interaction strengthen with increasing planet mass, with circumplanetary flows becoming prominent in the high-planet-mass regime. Accretion luminosity, which adds pressure support around the planet, was found to weaken the midplane Doppler-flip, potentially visible in optically thin tracers like C $^{18}$ O, while strengthening the spiral signature, particularly in upper disk layers sensitive to thicker lines, like those of $^{12}$ CO.\n",
       "\n",
       "</div>\n",
       "\n",
       "<div id=\"div_fig1\">\n",
       "\n",
       "<img src=\"tmp_2405.03375/./azi_cuts_integrated_spiral_cut_allmass_3t_scalar.png\" alt=\"Fig17.1\" width=\"50%\"/><img src=\"tmp_2405.03375/./azi_cuts_integrated_spiral_cut_allmass_3t_vector.png\" alt=\"Fig17.2\" width=\"50%\"/>\n",
       "\n",
       "**Figure 17. -** Measurement of the azimuthal perturbation in each normalized quantity $x$, averaged over an azimuthal range of $\\phi_{\\rm peak} \\pm 2 h_p$ according to Equation \\ref{eq:spiral_avg}. Densities and temperatures are plotted in the left panel while velocities are in the right. Open circles indicate non-accreting planets while closed circles indicate those with accretion luminosity (see Section \\ref{sec:acclum_analysis} for discussion). At $z/r \\approx \\theta = 0.2$, where dust and gas are not well-coupled, the plotted $T_{\\rm dust}$ amplitude reflects the radial \"pseudo-arm\" (see discussion in Section \\ref{sec:equilibrium_temp}) rather than the Lindblad spiral. (*fig:spiral_amplitude_quantitative*)\n",
       "\n",
       "</div>\n",
       "<div id=\"div_fig2\">\n",
       "\n",
       "<img src=\"tmp_2405.03375/./vx1_diff_spiral_cut_allmass_3t.png\" alt=\"Fig18\" width=\"100%\"/>\n",
       "\n",
       "**Figure 18. -** Radial velocities $v_r$ from 3T, zero-accretion-luminosity simulations with Neptune-mass _(top row)_, Saturn-mass _(middle row)_, and Jupiter-mass _(bottom row)_ planets, at various altitudes in the disk _(left, middle, right columns)_. Grey circles indicate the planetary Hill radius. All $v_r$ values are expressed as a function of initial isothermal sound speed at the location of the planet, $c_{\\rm iso, p} = \\sqrt{p_{p,0}/\\rho_{p, 0}}$.  (*fig:rad_vel_perturbation*)\n",
       "\n",
       "</div>\n",
       "<div id=\"div_fig3\">\n",
       "\n",
       "<img src=\"tmp_2405.03375/./azi_cuts_integrated_spiral_cut_allmass_3t_scalar.png\" alt=\"Fig29.1\" width=\"50%\"/><img src=\"tmp_2405.03375/./azi_cuts_integrated_spiral_cut_allmass_3t_vector.png\" alt=\"Fig29.2\" width=\"50%\"/>\n",
       "\n",
       "**Figure 29. -** Measurement of the azimuthal perturbation in each normalized quantity $x$, averaged over an azimuthal range of $\\phi_{\\rm peak} \\pm 2 h_p$ according to Equation \\ref{eq:spiral_avg}. Densities and temperatures are plotted in the left panel while velocities are in the right. Open circles indicate non-accreting planets while closed circles indicate those with accretion luminosity (see Section \\ref{sec:acclum_analysis} for discussion). At $z/r \\approx \\theta = 0.2$, where dust and gas are not well-coupled, the plotted $T_{\\rm dust}$ amplitude reflects the radial \"pseudo-arm\" (see discussion in Section \\ref{sec:equilibrium_temp}) rather than the Lindblad spiral. (*fig:spiral_amplitude_quantitative*)\n",
       "\n",
       "</div><div id=\"qrcode\"><img src=https://api.qrserver.com/v1/create-qr-code/?size=100x100&data=\"https://arxiv.org/abs/2405.03375\"></div>"
      ],
      "text/plain": [
       "<IPython.core.display.Markdown object>"
      ]
     },
     "metadata": {},
     "output_type": "display_data"
    }
   ],
   "source": [
    "[display(Markdown(k[1])) for k in documents];"
   ]
  },
  {
   "cell_type": "markdown",
   "id": "873873a4",
   "metadata": {
    "papermill": {
     "duration": 0.004667,
     "end_time": "2024-05-07T04:10:07.941174",
     "exception": false,
     "start_time": "2024-05-07T04:10:07.936507",
     "status": "completed"
    },
    "tags": []
   },
   "source": [
    "# Create HTML index"
   ]
  },
  {
   "cell_type": "code",
   "execution_count": 9,
   "id": "cf665672",
   "metadata": {
    "execution": {
     "iopub.execute_input": "2024-05-07T04:10:07.951700Z",
     "iopub.status.busy": "2024-05-07T04:10:07.951335Z",
     "iopub.status.idle": "2024-05-07T04:10:07.961053Z",
     "shell.execute_reply": "2024-05-07T04:10:07.960435Z"
    },
    "papermill": {
     "duration": 0.0165,
     "end_time": "2024-05-07T04:10:07.962358",
     "exception": false,
     "start_time": "2024-05-07T04:10:07.945858",
     "status": "completed"
    },
    "tags": []
   },
   "outputs": [
    {
     "name": "stdout",
     "output_type": "stream",
     "text": [
      "414  publications files modified in the last 7 days.\n"
     ]
    }
   ],
   "source": [
    "from datetime import datetime, timedelta, timezone\n",
    "from glob import glob\n",
    "import os\n",
    "\n",
    "files = glob('_build/html/*.md')\n",
    "days = 7\n",
    "now = datetime.today()\n",
    "res = []\n",
    "for fk in files:\n",
    "    stat_result = os.stat(fk).st_ctime\n",
    "    modified = datetime.fromtimestamp(stat_result, tz=timezone.utc).replace(tzinfo=None)\n",
    "    delta = now.today() - modified\n",
    "    if delta <= timedelta(days=days):\n",
    "        res.append((delta.seconds, fk))\n",
    "res = [k[1] for k in reversed(sorted(res, key=lambda x:x[1]))]\n",
    "npub = len(res)\n",
    "print(len(res), f\" publications files modified in the last {days:d} days.\")\n",
    "# [ print('\\t', k) for k in res ];"
   ]
  },
  {
   "cell_type": "code",
   "execution_count": 10,
   "id": "015de740",
   "metadata": {
    "execution": {
     "iopub.execute_input": "2024-05-07T04:10:07.973239Z",
     "iopub.status.busy": "2024-05-07T04:10:07.972739Z",
     "iopub.status.idle": "2024-05-07T04:10:07.995861Z",
     "shell.execute_reply": "2024-05-07T04:10:07.995169Z"
    },
    "papermill": {
     "duration": 0.029983,
     "end_time": "2024-05-07T04:10:07.997154",
     "exception": false,
     "start_time": "2024-05-07T04:10:07.967171",
     "status": "completed"
    },
    "tags": []
   },
   "outputs": [
    {
     "name": "stdout",
     "output_type": "stream",
     "text": [
      "4  publications in the last 7 days.\n"
     ]
    }
   ],
   "source": [
    "import datetime\n",
    "from glob import glob\n",
    "\n",
    "def get_last_n_days(lst, days=1):\n",
    "    \"\"\" Get the documents from the last n days \"\"\"\n",
    "    sorted_lst = sorted(lst, key=lambda x: x[1], reverse=True)\n",
    "    for fname, date in sorted_lst:\n",
    "        if date >= str(datetime.date.today() - datetime.timedelta(days=days)):\n",
    "            yield fname\n",
    "\n",
    "def extract_appearance_dates(lst_file):\n",
    "    dates = []\n",
    "\n",
    "    def get_date(line):\n",
    "        return line\\\n",
    "            .split('Appeared on:')[-1]\\\n",
    "            .split('</mark>')[0].strip()\n",
    "\n",
    "    for fname in lst:\n",
    "        with open(fname, 'r') as f:\n",
    "            found_date = False\n",
    "            for line in f:\n",
    "                if not found_date:\n",
    "                    if \"Appeared on\" in line:\n",
    "                        found_date = True\n",
    "                        dates.append((fname, get_date(line)))\n",
    "                else:\n",
    "                    break\n",
    "    return dates\n",
    "\n",
    "from glob import glob\n",
    "lst = glob('_build/html/*md')\n",
    "days = 7\n",
    "dates = extract_appearance_dates(lst)\n",
    "res = list(get_last_n_days(dates, days))\n",
    "npub = len(res)\n",
    "print(len(res), f\" publications in the last {days:d} days.\")"
   ]
  },
  {
   "cell_type": "code",
   "execution_count": 11,
   "id": "52ca0208",
   "metadata": {
    "execution": {
     "iopub.execute_input": "2024-05-07T04:10:08.008416Z",
     "iopub.status.busy": "2024-05-07T04:10:08.007882Z",
     "iopub.status.idle": "2024-05-07T04:10:08.013031Z",
     "shell.execute_reply": "2024-05-07T04:10:08.012260Z"
    },
    "papermill": {
     "duration": 0.012442,
     "end_time": "2024-05-07T04:10:08.014573",
     "exception": false,
     "start_time": "2024-05-07T04:10:08.002131",
     "status": "completed"
    },
    "scrolled": false,
    "tags": []
   },
   "outputs": [],
   "source": [
    "def create_carousel(npub=4):\n",
    "    \"\"\" Generate the HTML code for a carousel with `npub` slides \"\"\"\n",
    "    carousel = [\"\"\"  <div class=\"carousel\" \"\"\",\n",
    "                \"\"\"       data-flickity='{ \"autoPlay\": 10000, \"adaptiveHeight\": true, \"resize\": true, \"wrapAround\": true, \"pauseAutoPlayOnHover\": true, \"groupCells\": 1 }' id=\"asyncTypeset\">\"\"\"\n",
    "                ]\n",
    "    \n",
    "    item_str = \"\"\"    <div class=\"carousel-cell\"> <div id=\"slide{k}\" class=\"md_view\">Content {k}</div> </div>\"\"\"\n",
    "    for k in range(1, npub + 1):\n",
    "        carousel.append(item_str.format(k=k))\n",
    "    carousel.append(\"  </div>\")\n",
    "    return '\\n'.join(carousel)\n",
    "\n",
    "def create_grid(npub=4):\n",
    "    \"\"\" Generate the HTML code for a flat grid with `npub` slides \"\"\"\n",
    "    grid = [\"\"\"  <div class=\"grid\"> \"\"\",\n",
    "                ]\n",
    "    \n",
    "    item_str = \"\"\"    <div class=\"grid-item\"> <div id=\"slide{k}\" class=\"md_view\">Content {k}</div> </div>\"\"\"\n",
    "    for k in range(1, npub + 1):\n",
    "        grid.append(item_str.format(k=k))\n",
    "    grid.append(\"  </div>\")\n",
    "    return '\\n'.join(grid)"
   ]
  },
  {
   "cell_type": "code",
   "execution_count": 12,
   "id": "a6eac5b6",
   "metadata": {
    "execution": {
     "iopub.execute_input": "2024-05-07T04:10:08.027498Z",
     "iopub.status.busy": "2024-05-07T04:10:08.026975Z",
     "iopub.status.idle": "2024-05-07T04:10:08.031932Z",
     "shell.execute_reply": "2024-05-07T04:10:08.031387Z"
    },
    "papermill": {
     "duration": 0.011831,
     "end_time": "2024-05-07T04:10:08.033252",
     "exception": false,
     "start_time": "2024-05-07T04:10:08.021421",
     "status": "completed"
    },
    "scrolled": false,
    "tags": []
   },
   "outputs": [],
   "source": [
    "carousel = create_carousel(npub)\n",
    "docs = ', '.join(['\"{0:s}\"'.format(k.split('/')[-1]) for k in res])\n",
    "slides = ', '.join([f'\"slide{k}\"' for k in range(1, npub + 1)])\n",
    "\n",
    "with open(\"daily_template.html\", \"r\") as tpl:\n",
    "    page = tpl.read()\n",
    "    page = page.replace(\"{%-- carousel:s --%}\", carousel)\\\n",
    "               .replace(\"{%-- suptitle:s --%}\",  \"7-day archives\" )\\\n",
    "               .replace(\"{%-- docs:s --%}\", docs)\\\n",
    "               .replace(\"{%-- slides:s --%}\", slides)\n",
    "    \n",
    "with open(\"_build/html/index_7days.html\", 'w') as fout:\n",
    "    fout.write(page)"
   ]
  },
  {
   "cell_type": "code",
   "execution_count": 13,
   "id": "adc1a1ec",
   "metadata": {
    "execution": {
     "iopub.execute_input": "2024-05-07T04:10:08.044464Z",
     "iopub.status.busy": "2024-05-07T04:10:08.044004Z",
     "iopub.status.idle": "2024-05-07T04:10:08.050620Z",
     "shell.execute_reply": "2024-05-07T04:10:08.050100Z"
    },
    "papermill": {
     "duration": 0.013655,
     "end_time": "2024-05-07T04:10:08.051936",
     "exception": false,
     "start_time": "2024-05-07T04:10:08.038281",
     "status": "completed"
    },
    "tags": []
   },
   "outputs": [
    {
     "name": "stdout",
     "output_type": "stream",
     "text": [
      "2  publications in the last day.\n"
     ]
    }
   ],
   "source": [
    "# redo for today\n",
    "days = 1\n",
    "res = list(get_last_n_days(dates, days))\n",
    "npub = len(res)\n",
    "print(len(res), f\" publications in the last day.\")\n",
    "\n",
    "carousel = create_carousel(npub)\n",
    "docs = ', '.join(['\"{0:s}\"'.format(k.split('/')[-1]) for k in res])\n",
    "slides = ', '.join([f'\"slide{k}\"' for k in range(1, npub + 1)])\n",
    "\n",
    "with open(\"daily_template.html\", \"r\") as tpl:\n",
    "    page = tpl.read()\n",
    "    page = page.replace(\"{%-- carousel:s --%}\", carousel)\\\n",
    "               .replace(\"{%-- suptitle:s --%}\",  \"Daily\" )\\\n",
    "               .replace(\"{%-- docs:s --%}\", docs)\\\n",
    "               .replace(\"{%-- slides:s --%}\", slides)\n",
    "    \n",
    "# print(carousel, docs, slides)\n",
    "# print(page)\n",
    "with open(\"_build/html/index_daily.html\", 'w') as fout:\n",
    "    fout.write(page)"
   ]
  },
  {
   "cell_type": "code",
   "execution_count": 14,
   "id": "00eece82",
   "metadata": {
    "execution": {
     "iopub.execute_input": "2024-05-07T04:10:08.063115Z",
     "iopub.status.busy": "2024-05-07T04:10:08.062598Z",
     "iopub.status.idle": "2024-05-07T04:10:08.069287Z",
     "shell.execute_reply": "2024-05-07T04:10:08.068760Z"
    },
    "papermill": {
     "duration": 0.013658,
     "end_time": "2024-05-07T04:10:08.070582",
     "exception": false,
     "start_time": "2024-05-07T04:10:08.056924",
     "status": "completed"
    },
    "scrolled": false,
    "tags": []
   },
   "outputs": [
    {
     "name": "stdout",
     "output_type": "stream",
     "text": [
      "6  6 publications selected.\n"
     ]
    }
   ],
   "source": [
    "# Create the flat grid of the last N papers (fixed number regardless of dates)\n",
    "from itertools import islice \n",
    "\n",
    "npub = 6\n",
    "res = [k[0] for k in (islice(reversed(sorted(dates, key=lambda x: x[1])), 6))]\n",
    "print(len(res), f\" {npub} publications selected.\")\n",
    "\n",
    "grid = create_grid(npub)\n",
    "docs = ', '.join(['\"{0:s}\"'.format(k.split('/')[-1]) for k in res])\n",
    "slides = ', '.join([f'\"slide{k}\"' for k in range(1, npub + 1)])\n",
    "\n",
    "with open(\"grid_template.html\", \"r\") as tpl:\n",
    "    page = tpl.read()\n",
    "    page = page.replace(\"{%-- grid-content:s --%}\", grid)\\\n",
    "               .replace(\"{%-- suptitle:s --%}\",  f\"Last {npub:,d} papers\" )\\\n",
    "               .replace(\"{%-- docs:s --%}\", docs)\\\n",
    "               .replace(\"{%-- slides:s --%}\", slides)\n",
    "    \n",
    "# print(grid, docs, slides)\n",
    "# print(page)\n",
    "with open(\"_build/html/index_npub_grid.html\", 'w') as fout:\n",
    "    fout.write(page)"
   ]
  }
 ],
 "metadata": {
  "kernelspec": {
   "display_name": "Python 3 (ipykernel)",
   "language": "python",
   "name": "python3"
  },
  "language_info": {
   "codemirror_mode": {
    "name": "ipython",
    "version": 3
   },
   "file_extension": ".py",
   "mimetype": "text/x-python",
   "name": "python",
   "nbconvert_exporter": "python",
   "pygments_lexer": "ipython3",
   "version": "3.9.19"
  },
  "papermill": {
   "default_parameters": {},
   "duration": 57.471423,
   "end_time": "2024-05-07T04:10:08.291802",
   "environment_variables": {},
   "exception": null,
   "input_path": "MPIA daily digest.ipynb",
   "output_path": "log.ipynb",
   "parameters": {},
   "start_time": "2024-05-07T04:09:10.820379",
   "version": "2.6.0"
  },
  "vscode": {
   "interpreter": {
    "hash": "aee8b7b246df8f9039afb4144a1f6fd8d2ca17a180786b69acc140d282b71a49"
   }
  },
  "widgets": {
   "application/vnd.jupyter.widget-state+json": {
    "state": {
     "5948e15da19f45c1921f3c4eafdee8c9": {
      "model_module": "@jupyter-widgets/controls",
      "model_module_version": "2.0.0",
      "model_name": "HTMLStyleModel",
      "state": {
       "_model_module": "@jupyter-widgets/controls",
       "_model_module_version": "2.0.0",
       "_model_name": "HTMLStyleModel",
       "_view_count": null,
       "_view_module": "@jupyter-widgets/base",
       "_view_module_version": "2.0.0",
       "_view_name": "StyleView",
       "background": null,
       "description_width": "",
       "font_size": null,
       "text_color": null
      }
     },
     "5c52dd1e4ba7418499f6573889e1c8be": {
      "model_module": "@jupyter-widgets/controls",
      "model_module_version": "2.0.0",
      "model_name": "ProgressStyleModel",
      "state": {
       "_model_module": "@jupyter-widgets/controls",
       "_model_module_version": "2.0.0",
       "_model_name": "ProgressStyleModel",
       "_view_count": null,
       "_view_module": "@jupyter-widgets/base",
       "_view_module_version": "2.0.0",
       "_view_name": "StyleView",
       "bar_color": null,
       "description_width": ""
      }
     },
     "68a50e9a9f7a43f6b1a77e40d7bb12d9": {
      "model_module": "@jupyter-widgets/base",
      "model_module_version": "2.0.0",
      "model_name": "LayoutModel",
      "state": {
       "_model_module": "@jupyter-widgets/base",
       "_model_module_version": "2.0.0",
       "_model_name": "LayoutModel",
       "_view_count": null,
       "_view_module": "@jupyter-widgets/base",
       "_view_module_version": "2.0.0",
       "_view_name": "LayoutView",
       "align_content": null,
       "align_items": null,
       "align_self": null,
       "border_bottom": null,
       "border_left": null,
       "border_right": null,
       "border_top": null,
       "bottom": null,
       "display": null,
       "flex": null,
       "flex_flow": null,
       "grid_area": null,
       "grid_auto_columns": null,
       "grid_auto_flow": null,
       "grid_auto_rows": null,
       "grid_column": null,
       "grid_gap": null,
       "grid_row": null,
       "grid_template_areas": null,
       "grid_template_columns": null,
       "grid_template_rows": null,
       "height": null,
       "justify_content": null,
       "justify_items": null,
       "left": null,
       "margin": null,
       "max_height": null,
       "max_width": null,
       "min_height": null,
       "min_width": null,
       "object_fit": null,
       "object_position": null,
       "order": null,
       "overflow": null,
       "padding": null,
       "right": null,
       "top": null,
       "visibility": null,
       "width": null
      }
     },
     "74fce6f6facf4d708db12716ba26c2d4": {
      "model_module": "@jupyter-widgets/base",
      "model_module_version": "2.0.0",
      "model_name": "LayoutModel",
      "state": {
       "_model_module": "@jupyter-widgets/base",
       "_model_module_version": "2.0.0",
       "_model_name": "LayoutModel",
       "_view_count": null,
       "_view_module": "@jupyter-widgets/base",
       "_view_module_version": "2.0.0",
       "_view_name": "LayoutView",
       "align_content": null,
       "align_items": null,
       "align_self": null,
       "border_bottom": null,
       "border_left": null,
       "border_right": null,
       "border_top": null,
       "bottom": null,
       "display": null,
       "flex": null,
       "flex_flow": null,
       "grid_area": null,
       "grid_auto_columns": null,
       "grid_auto_flow": null,
       "grid_auto_rows": null,
       "grid_column": null,
       "grid_gap": null,
       "grid_row": null,
       "grid_template_areas": null,
       "grid_template_columns": null,
       "grid_template_rows": null,
       "height": null,
       "justify_content": null,
       "justify_items": null,
       "left": null,
       "margin": null,
       "max_height": null,
       "max_width": null,
       "min_height": null,
       "min_width": null,
       "object_fit": null,
       "object_position": null,
       "order": null,
       "overflow": null,
       "padding": null,
       "right": null,
       "top": null,
       "visibility": null,
       "width": null
      }
     },
     "79cec6958d394f08ae4f8526f386fbd6": {
      "model_module": "@jupyter-widgets/base",
      "model_module_version": "2.0.0",
      "model_name": "LayoutModel",
      "state": {
       "_model_module": "@jupyter-widgets/base",
       "_model_module_version": "2.0.0",
       "_model_name": "LayoutModel",
       "_view_count": null,
       "_view_module": "@jupyter-widgets/base",
       "_view_module_version": "2.0.0",
       "_view_name": "LayoutView",
       "align_content": null,
       "align_items": null,
       "align_self": null,
       "border_bottom": null,
       "border_left": null,
       "border_right": null,
       "border_top": null,
       "bottom": null,
       "display": null,
       "flex": null,
       "flex_flow": null,
       "grid_area": null,
       "grid_auto_columns": null,
       "grid_auto_flow": null,
       "grid_auto_rows": null,
       "grid_column": null,
       "grid_gap": null,
       "grid_row": null,
       "grid_template_areas": null,
       "grid_template_columns": null,
       "grid_template_rows": null,
       "height": null,
       "justify_content": null,
       "justify_items": null,
       "left": null,
       "margin": null,
       "max_height": null,
       "max_width": null,
       "min_height": null,
       "min_width": null,
       "object_fit": null,
       "object_position": null,
       "order": null,
       "overflow": null,
       "padding": null,
       "right": null,
       "top": null,
       "visibility": null,
       "width": null
      }
     },
     "7a9fe5ef54744294aa7d9f930da18807": {
      "model_module": "@jupyter-widgets/controls",
      "model_module_version": "2.0.0",
      "model_name": "HBoxModel",
      "state": {
       "_dom_classes": [],
       "_model_module": "@jupyter-widgets/controls",
       "_model_module_version": "2.0.0",
       "_model_name": "HBoxModel",
       "_view_count": null,
       "_view_module": "@jupyter-widgets/controls",
       "_view_module_version": "2.0.0",
       "_view_name": "HBoxView",
       "box_style": "",
       "children": [
        "IPY_MODEL_eb14d83196fd4e0c9404b692f903fe41",
        "IPY_MODEL_7dbffd079f2f41e7969bfe536322afd7",
        "IPY_MODEL_8f13275375eb46eaa3a975bf05433d10"
       ],
       "layout": "IPY_MODEL_74fce6f6facf4d708db12716ba26c2d4",
       "tabbable": null,
       "tooltip": null
      }
     },
     "7dbffd079f2f41e7969bfe536322afd7": {
      "model_module": "@jupyter-widgets/controls",
      "model_module_version": "2.0.0",
      "model_name": "FloatProgressModel",
      "state": {
       "_dom_classes": [],
       "_model_module": "@jupyter-widgets/controls",
       "_model_module_version": "2.0.0",
       "_model_name": "FloatProgressModel",
       "_view_count": null,
       "_view_module": "@jupyter-widgets/controls",
       "_view_module_version": "2.0.0",
       "_view_name": "ProgressView",
       "bar_style": "success",
       "description": "",
       "description_allow_html": false,
       "layout": "IPY_MODEL_ffb2c97c8d13439ea23ba44b0058bd23",
       "max": 6.0,
       "min": 0.0,
       "orientation": "horizontal",
       "style": "IPY_MODEL_5c52dd1e4ba7418499f6573889e1c8be",
       "tabbable": null,
       "tooltip": null,
       "value": 6.0
      }
     },
     "8f13275375eb46eaa3a975bf05433d10": {
      "model_module": "@jupyter-widgets/controls",
      "model_module_version": "2.0.0",
      "model_name": "HTMLModel",
      "state": {
       "_dom_classes": [],
       "_model_module": "@jupyter-widgets/controls",
       "_model_module_version": "2.0.0",
       "_model_name": "HTMLModel",
       "_view_count": null,
       "_view_module": "@jupyter-widgets/controls",
       "_view_module_version": "2.0.0",
       "_view_name": "HTMLView",
       "description": "",
       "description_allow_html": false,
       "layout": "IPY_MODEL_79cec6958d394f08ae4f8526f386fbd6",
       "placeholder": "​",
       "style": "IPY_MODEL_98a06a012b4e45dda7597b3738497c13",
       "tabbable": null,
       "tooltip": null,
       "value": " 6/6 [00:36&lt;00:00,  7.68s/it]"
      }
     },
     "98a06a012b4e45dda7597b3738497c13": {
      "model_module": "@jupyter-widgets/controls",
      "model_module_version": "2.0.0",
      "model_name": "HTMLStyleModel",
      "state": {
       "_model_module": "@jupyter-widgets/controls",
       "_model_module_version": "2.0.0",
       "_model_name": "HTMLStyleModel",
       "_view_count": null,
       "_view_module": "@jupyter-widgets/base",
       "_view_module_version": "2.0.0",
       "_view_name": "StyleView",
       "background": null,
       "description_width": "",
       "font_size": null,
       "text_color": null
      }
     },
     "eb14d83196fd4e0c9404b692f903fe41": {
      "model_module": "@jupyter-widgets/controls",
      "model_module_version": "2.0.0",
      "model_name": "HTMLModel",
      "state": {
       "_dom_classes": [],
       "_model_module": "@jupyter-widgets/controls",
       "_model_module_version": "2.0.0",
       "_model_name": "HTMLModel",
       "_view_count": null,
       "_view_module": "@jupyter-widgets/controls",
       "_view_module_version": "2.0.0",
       "_view_name": "HTMLView",
       "description": "",
       "description_allow_html": false,
       "layout": "IPY_MODEL_68a50e9a9f7a43f6b1a77e40d7bb12d9",
       "placeholder": "​",
       "style": "IPY_MODEL_5948e15da19f45c1921f3c4eafdee8c9",
       "tabbable": null,
       "tooltip": null,
       "value": "100%"
      }
     },
     "ffb2c97c8d13439ea23ba44b0058bd23": {
      "model_module": "@jupyter-widgets/base",
      "model_module_version": "2.0.0",
      "model_name": "LayoutModel",
      "state": {
       "_model_module": "@jupyter-widgets/base",
       "_model_module_version": "2.0.0",
       "_model_name": "LayoutModel",
       "_view_count": null,
       "_view_module": "@jupyter-widgets/base",
       "_view_module_version": "2.0.0",
       "_view_name": "LayoutView",
       "align_content": null,
       "align_items": null,
       "align_self": null,
       "border_bottom": null,
       "border_left": null,
       "border_right": null,
       "border_top": null,
       "bottom": null,
       "display": null,
       "flex": null,
       "flex_flow": null,
       "grid_area": null,
       "grid_auto_columns": null,
       "grid_auto_flow": null,
       "grid_auto_rows": null,
       "grid_column": null,
       "grid_gap": null,
       "grid_row": null,
       "grid_template_areas": null,
       "grid_template_columns": null,
       "grid_template_rows": null,
       "height": null,
       "justify_content": null,
       "justify_items": null,
       "left": null,
       "margin": null,
       "max_height": null,
       "max_width": null,
       "min_height": null,
       "min_width": null,
       "object_fit": null,
       "object_position": null,
       "order": null,
       "overflow": null,
       "padding": null,
       "right": null,
       "top": null,
       "visibility": null,
       "width": null
      }
     }
    },
    "version_major": 2,
    "version_minor": 0
   }
  }
 },
 "nbformat": 4,
 "nbformat_minor": 5
}