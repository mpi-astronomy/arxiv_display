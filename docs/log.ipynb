{
 "cells": [
  {
   "cell_type": "markdown",
   "id": "92bcb855",
   "metadata": {
    "papermill": {
     "duration": 0.006203,
     "end_time": "2022-11-10T04:28:26.527117",
     "exception": false,
     "start_time": "2022-11-10T04:28:26.520914",
     "status": "completed"
    },
    "tags": []
   },
   "source": [
    "# MPIA Arxiv on Deck 2\n",
    "\n",
    "Contains the steps to produce the paper extractions."
   ]
  },
  {
   "cell_type": "code",
   "execution_count": 1,
   "id": "3a0d6e11",
   "metadata": {
    "execution": {
     "iopub.execute_input": "2022-11-10T04:28:26.538540Z",
     "iopub.status.busy": "2022-11-10T04:28:26.538164Z",
     "iopub.status.idle": "2022-11-10T04:28:26.753835Z",
     "shell.execute_reply": "2022-11-10T04:28:26.752920Z"
    },
    "papermill": {
     "duration": 0.22414,
     "end_time": "2022-11-10T04:28:26.756171",
     "exception": false,
     "start_time": "2022-11-10T04:28:26.532031",
     "status": "completed"
    },
    "tags": []
   },
   "outputs": [],
   "source": [
    "# Imports\n",
    "import os\n",
    "from IPython.display import Markdown, display\n",
    "from tqdm.notebook import tqdm\n",
    "import warnings\n",
    "from PIL import Image \n",
    "\n",
    "# requires arxiv_on_deck_2\n",
    "\n",
    "from arxiv_on_deck_2.arxiv2 import (get_new_papers, \n",
    "                                    get_paper_from_identifier,\n",
    "                                    retrieve_document_source, \n",
    "                                    get_markdown_badge)\n",
    "from arxiv_on_deck_2 import (latex, \n",
    "                             mpia,\n",
    "                             highlight_authors_in_list)\n",
    "\n",
    "# Sometimes images are really big\n",
    "Image.MAX_IMAGE_PIXELS = 1000000000 "
   ]
  },
  {
   "cell_type": "code",
   "execution_count": 2,
   "id": "22aa9d44",
   "metadata": {
    "execution": {
     "iopub.execute_input": "2022-11-10T04:28:26.768650Z",
     "iopub.status.busy": "2022-11-10T04:28:26.768404Z",
     "iopub.status.idle": "2022-11-10T04:28:26.774753Z",
     "shell.execute_reply": "2022-11-10T04:28:26.773979Z"
    },
    "papermill": {
     "duration": 0.013647,
     "end_time": "2022-11-10T04:28:26.776377",
     "exception": false,
     "start_time": "2022-11-10T04:28:26.762730",
     "status": "completed"
    },
    "tags": []
   },
   "outputs": [],
   "source": [
    "# Some useful definitions.\n",
    "\n",
    "class AffiliationWarning(UserWarning):\n",
    "    pass\n",
    "\n",
    "class AffiliationError(RuntimeError):\n",
    "    pass\n",
    "\n",
    "def validation(source: str):\n",
    "    \"\"\"Raises error paper during parsing of source file\n",
    "    \n",
    "    Allows checks before parsing TeX code.\n",
    "    \n",
    "    Raises AffiliationWarning\n",
    "    \"\"\"\n",
    "    check = mpia.affiliation_verifications(source, verbose=True)\n",
    "    if check is not True:\n",
    "        raise AffiliationError(\"mpia.affiliation_verifications: \" + check)\n",
    "\n",
    "        \n",
    "warnings.simplefilter('always', AffiliationWarning)"
   ]
  },
  {
   "cell_type": "code",
   "execution_count": 3,
   "id": "14622700",
   "metadata": {
    "execution": {
     "iopub.execute_input": "2022-11-10T04:28:26.787342Z",
     "iopub.status.busy": "2022-11-10T04:28:26.786775Z",
     "iopub.status.idle": "2022-11-10T04:28:26.791414Z",
     "shell.execute_reply": "2022-11-10T04:28:26.790602Z"
    },
    "papermill": {
     "duration": 0.012643,
     "end_time": "2022-11-10T04:28:26.793535",
     "exception": false,
     "start_time": "2022-11-10T04:28:26.780892",
     "status": "completed"
    },
    "tags": []
   },
   "outputs": [],
   "source": [
    "# additional CSS to consider. \n",
    "# TODO: Current into each exported file. \n",
    "#       This should be set once into the webpages directly.\n",
    "#       With only the class/id definitions in the .md files.\n",
    "\n",
    "debug_html = \"\"\"\n",
    "<style>\n",
    "#wrap{ overflow:auto; }\n",
    "#fig1{ background:yellow; width:100%; float:left; padding:5px;  }\n",
    "#fig2{ background:red; width:50%; float:left; clear:left; padding:5px;  }\n",
    "#fig3{ background:green; width:50%; float:left; padding:5px;   }\n",
    ".macros{ background:yellow; visibility:visible;}\n",
    "h1 {margin: 0 0 0 0;}\n",
    "mark {background-color:#fff3b6;}\n",
    "img {object-fit:contain; max-height:250px; display:inline-block; text-align: center;}\n",
    "</style>\n",
    "\"\"\" \n",
    "html = \"\"\"\n",
    "<style>\n",
    "#wrap{ overflow:auto; }\n",
    "#fig1{ width:100%; float:left; padding: 5px;  }\n",
    "#fig2{ width:50%; float:left; clear:left; padding: 5px;  }\n",
    "#fig3{ width:50%; float:left; padding: 5px;  }\n",
    ".macros{ visibility:hidden; height:0px; }\n",
    "h1 {margin: 0em 0 0 0;}\n",
    "mark {background-color:#fff3b6;}\n",
    "img {object-fit:contain; max-height:250px; display:inline-block; text-align: center;}\n",
    "</style>\n",
    "\"\"\""
   ]
  },
  {
   "cell_type": "markdown",
   "id": "14bd6310",
   "metadata": {
    "papermill": {
     "duration": 0.00475,
     "end_time": "2022-11-10T04:28:26.802800",
     "exception": false,
     "start_time": "2022-11-10T04:28:26.798050",
     "status": "completed"
    },
    "tags": []
   },
   "source": [
    "## get list of arxiv paper candidates\n",
    "\n",
    "We use the MPIA mitarbeiter list webpage from mpia.de to get author names\n",
    "We then get all new papers from Arxiv and match authors"
   ]
  },
  {
   "cell_type": "code",
   "execution_count": 4,
   "id": "2645e73a",
   "metadata": {
    "execution": {
     "iopub.execute_input": "2022-11-10T04:28:26.813499Z",
     "iopub.status.busy": "2022-11-10T04:28:26.812934Z",
     "iopub.status.idle": "2022-11-10T04:28:59.063745Z",
     "shell.execute_reply": "2022-11-10T04:28:59.062959Z"
    },
    "papermill": {
     "duration": 32.264861,
     "end_time": "2022-11-10T04:28:59.072236",
     "exception": false,
     "start_time": "2022-11-10T04:28:26.807375",
     "status": "completed"
    },
    "tags": []
   },
   "outputs": [
    {
     "name": "stdout",
     "output_type": "stream",
     "text": [
      "Arxiv has 66 new papers today\n",
      "          22 with possible author matches\n"
     ]
    }
   ],
   "source": [
    "# get list from MPIA website\n",
    "# it automatically filters identified non-scientists :func:`mpia.filter_non_scientists`\n",
    "mpia_authors = mpia.get_mpia_mitarbeiter_list()\n",
    "new_papers = get_new_papers()\n",
    "# add manual references\n",
    "add_paper_refs = []\n",
    "new_papers.extend([get_paper_from_identifier(k) for k in add_paper_refs])\n",
    "\n",
    "# select only papers with matching author names and highlight authors\n",
    "hl_list = [k[0] for k in mpia_authors]\n",
    "\n",
    "candidates = []\n",
    "for paperk in new_papers:\n",
    "    hl_authors = highlight_authors_in_list(paperk['authors'], hl_list)\n",
    "    matches = [(hl, orig) for hl, orig in zip(hl_authors, paperk['authors']) if 'mark' in hl]\n",
    "    paperk['authors'] = hl_authors\n",
    "    if matches:\n",
    "        candidates.append(paperk)\n",
    "print(\"\"\"Arxiv has {0:,d} new papers today\"\"\".format(len(new_papers)))        \n",
    "print(\"\"\"          {0:,d} with possible author matches\"\"\".format(len(candidates)))"
   ]
  },
  {
   "cell_type": "markdown",
   "id": "3543b34a",
   "metadata": {
    "papermill": {
     "duration": 0.004168,
     "end_time": "2022-11-10T04:28:59.080766",
     "exception": false,
     "start_time": "2022-11-10T04:28:59.076598",
     "status": "completed"
    },
    "tags": []
   },
   "source": [
    "# Parse sources and generate relevant outputs\n",
    "\n",
    "From the candidates, we do the following steps:\n",
    "* get their tarball from ArXiv (and extract data)\n",
    "* find the main .tex file: find one with \\documentclass{...} (sometimes it's non trivial)\n",
    "* Check affiliations with :func:`validation`, which uses :func:`mpia.affiliation_verifications`\n",
    "* If passing the affiliations: we parse the .tex source\n",
    "   * inject sub-documents into the main (flatten the main document)\n",
    "   * parse structure, extract information (title, abstract, authors, figures...)\n",
    "   * handles `\\graphicspath` if provided\n",
    "* Generate the .md document."
   ]
  },
  {
   "cell_type": "code",
   "execution_count": 5,
   "id": "9576b79e",
   "metadata": {
    "execution": {
     "iopub.execute_input": "2022-11-10T04:28:59.091121Z",
     "iopub.status.busy": "2022-11-10T04:28:59.090416Z",
     "iopub.status.idle": "2022-11-10T04:31:06.952680Z",
     "shell.execute_reply": "2022-11-10T04:31:06.951856Z"
    },
    "papermill": {
     "duration": 127.875438,
     "end_time": "2022-11-10T04:31:06.960530",
     "exception": false,
     "start_time": "2022-11-10T04:28:59.085092",
     "status": "completed"
    },
    "scrolled": false,
    "tags": []
   },
   "outputs": [
    {
     "data": {
      "application/vnd.jupyter.widget-view+json": {
       "model_id": "869ef6175f6a436c94525bf84ac75f1f",
       "version_major": 2,
       "version_minor": 0
      },
      "text/plain": [
       "  0%|          | 0/21 [00:00<?, ?it/s]"
      ]
     },
     "metadata": {},
     "output_type": "display_data"
    },
    {
     "name": "stdout",
     "output_type": "stream",
     "text": [
      "Retrieving document from  https://arxiv.org/e-print/2211.04472\n"
     ]
    },
    {
     "name": "stdout",
     "output_type": "stream",
     "text": [
      "extracting tarball to tmp_2211.04472..."
     ]
    },
    {
     "name": "stdout",
     "output_type": "stream",
     "text": [
      " done.\n",
      "Retrieving document from  https://arxiv.org/e-print/2211.04474\n"
     ]
    },
    {
     "name": "stderr",
     "output_type": "stream",
     "text": [
      "/tmp/ipykernel_2293/4030337529.py:34: LatexWarning: 2211.04474 did not run properly\n",
      "not a gzip file\n",
      "  warnings.warn(latex.LatexWarning(f\"{paper_id:s} did not run properly\\n\" +\n"
     ]
    },
    {
     "name": "stdout",
     "output_type": "stream",
     "text": [
      "Retrieving document from  https://arxiv.org/e-print/2211.04478\n"
     ]
    },
    {
     "name": "stdout",
     "output_type": "stream",
     "text": [
      "extracting tarball to tmp_2211.04478..."
     ]
    },
    {
     "name": "stdout",
     "output_type": "stream",
     "text": [
      " done.\n",
      "Retrieving document from  https://arxiv.org/e-print/2211.04480\n"
     ]
    },
    {
     "name": "stderr",
     "output_type": "stream",
     "text": [
      "/opt/hostedtoolcache/Python/3.9.15/x64/lib/python3.9/site-packages/IPython/core/interactiveshell.py:3433: LatexWarning: Multiple tex files.\n",
      "\n",
      "  exec(code_obj, self.user_global_ns, self.user_ns)\n",
      "/opt/hostedtoolcache/Python/3.9.15/x64/lib/python3.9/site-packages/IPython/core/interactiveshell.py:3433: LatexWarning: Found documentclass in tmp_2211.04478/main.tex\n",
      "\n",
      "  exec(code_obj, self.user_global_ns, self.user_ns)\n",
      "/opt/hostedtoolcache/Python/3.9.15/x64/lib/python3.9/site-packages/arxiv_on_deck_2/latex.py:292: LatexWarning: Latex injecting: 'thesis_macros' from 'tmp_2211.04478/thesis_macros.tex'\n",
      "  warnings.warn(LatexWarning(f\"Latex injecting: '{ext}' from '{subsource}'\"))\n"
     ]
    },
    {
     "name": "stdout",
     "output_type": "stream",
     "text": [
      "extracting tarball to tmp_2211.04480..."
     ]
    },
    {
     "name": "stdout",
     "output_type": "stream",
     "text": [
      " done.\n",
      "Retrieving document from  https://arxiv.org/e-print/2211.04481\n"
     ]
    },
    {
     "name": "stdout",
     "output_type": "stream",
     "text": [
      "extracting tarball to tmp_2211.04481..."
     ]
    },
    {
     "name": "stdout",
     "output_type": "stream",
     "text": [
      " done.\n",
      "Retrieving document from  https://arxiv.org/e-print/2211.04482\n"
     ]
    },
    {
     "name": "stdout",
     "output_type": "stream",
     "text": [
      "extracting tarball to tmp_2211.04482..."
     ]
    },
    {
     "name": "stdout",
     "output_type": "stream",
     "text": [
      " done.\n",
      "Retrieving document from  https://arxiv.org/e-print/2211.04484\n"
     ]
    },
    {
     "name": "stderr",
     "output_type": "stream",
     "text": [
      "/opt/hostedtoolcache/Python/3.9.15/x64/lib/python3.9/site-packages/IPython/core/interactiveshell.py:3433: LatexWarning: Multiple tex files.\n",
      "\n",
      "  exec(code_obj, self.user_global_ns, self.user_ns)\n",
      "/opt/hostedtoolcache/Python/3.9.15/x64/lib/python3.9/site-packages/IPython/core/interactiveshell.py:3433: LatexWarning: Found documentclass in tmp_2211.04482/main.tex\n",
      "\n",
      "  exec(code_obj, self.user_global_ns, self.user_ns)\n",
      "/opt/hostedtoolcache/Python/3.9.15/x64/lib/python3.9/site-packages/arxiv_on_deck_2/latex.py:292: LatexWarning: Latex injecting: 'extinction_table' from 'tmp_2211.04482/extinction_table.tex'\n",
      "  warnings.warn(LatexWarning(f\"Latex injecting: '{ext}' from '{subsource}'\"))\n",
      "/opt/hostedtoolcache/Python/3.9.15/x64/lib/python3.9/site-packages/arxiv_on_deck_2/latex.py:292: LatexWarning: Latex injecting: 'obs_log' from 'tmp_2211.04482/obs_log.tex'\n",
      "  warnings.warn(LatexWarning(f\"Latex injecting: '{ext}' from '{subsource}'\"))\n",
      "/opt/hostedtoolcache/Python/3.9.15/x64/lib/python3.9/site-packages/arxiv_on_deck_2/latex.py:292: LatexWarning: Latex injecting: 'sne_table' from 'tmp_2211.04482/sne_table.tex'\n",
      "  warnings.warn(LatexWarning(f\"Latex injecting: '{ext}' from '{subsource}'\"))\n",
      "/opt/hostedtoolcache/Python/3.9.15/x64/lib/python3.9/site-packages/arxiv_on_deck_2/latex.py:292: LatexWarning: Latex injecting: 'glossary' from 'tmp_2211.04482/glossary.tex'\n",
      "  warnings.warn(LatexWarning(f\"Latex injecting: '{ext}' from '{subsource}'\"))\n"
     ]
    },
    {
     "name": "stdout",
     "output_type": "stream",
     "text": [
      "extracting tarball to tmp_2211.04484..."
     ]
    },
    {
     "name": "stdout",
     "output_type": "stream",
     "text": [
      " done.\n",
      "Retrieving document from  https://arxiv.org/e-print/2211.04488\n"
     ]
    },
    {
     "name": "stdout",
     "output_type": "stream",
     "text": [
      "extracting tarball to tmp_2211.04488..."
     ]
    },
    {
     "name": "stdout",
     "output_type": "stream",
     "text": [
      " done.\n",
      "Retrieving document from  https://arxiv.org/e-print/2211.04493\n"
     ]
    },
    {
     "name": "stdout",
     "output_type": "stream",
     "text": [
      "extracting tarball to tmp_2211.04493..."
     ]
    },
    {
     "name": "stdout",
     "output_type": "stream",
     "text": [
      " done.\n",
      "Retrieving document from  https://arxiv.org/e-print/2211.04495\n"
     ]
    },
    {
     "name": "stdout",
     "output_type": "stream",
     "text": [
      "extracting tarball to tmp_2211.04495..."
     ]
    },
    {
     "name": "stdout",
     "output_type": "stream",
     "text": [
      " done.\n",
      "Retrieving document from  https://arxiv.org/e-print/2211.04547\n"
     ]
    },
    {
     "name": "stderr",
     "output_type": "stream",
     "text": [
      "/opt/hostedtoolcache/Python/3.9.15/x64/lib/python3.9/site-packages/IPython/core/interactiveshell.py:3433: LatexWarning: Multiple tex files.\n",
      "\n",
      "  exec(code_obj, self.user_global_ns, self.user_ns)\n",
      "/opt/hostedtoolcache/Python/3.9.15/x64/lib/python3.9/site-packages/IPython/core/interactiveshell.py:3433: LatexWarning: Found documentclass in tmp_2211.04495/main.tex\n",
      "\n",
      "  exec(code_obj, self.user_global_ns, self.user_ns)\n",
      "/opt/hostedtoolcache/Python/3.9.15/x64/lib/python3.9/site-packages/arxiv_on_deck_2/latex.py:292: LatexWarning: Latex injecting: 'latex_tables/orphan_int_bins' from 'tmp_2211.04495/latex_tables/orphan_int_bins.tex'\n",
      "  warnings.warn(LatexWarning(f\"Latex injecting: '{ext}' from '{subsource}'\"))\n",
      "/opt/hostedtoolcache/Python/3.9.15/x64/lib/python3.9/site-packages/arxiv_on_deck_2/latex.py:292: LatexWarning: Latex injecting: 'latex_tables/orphan_width_bins' from 'tmp_2211.04495/latex_tables/orphan_width_bins.tex'\n",
      "  warnings.warn(LatexWarning(f\"Latex injecting: '{ext}' from '{subsource}'\"))\n",
      "/opt/hostedtoolcache/Python/3.9.15/x64/lib/python3.9/site-packages/arxiv_on_deck_2/latex.py:292: LatexWarning: Latex injecting: 'latex_tables/orphan_track_bins' from 'tmp_2211.04495/latex_tables/orphan_track_bins.tex'\n",
      "  warnings.warn(LatexWarning(f\"Latex injecting: '{ext}' from '{subsource}'\"))\n",
      "/opt/hostedtoolcache/Python/3.9.15/x64/lib/python3.9/site-packages/arxiv_on_deck_2/latex.py:292: LatexWarning: Latex injecting: 'latex_tables/orphan_pmsig_bins' from 'tmp_2211.04495/latex_tables/orphan_pmsig_bins.tex'\n",
      "  warnings.warn(LatexWarning(f\"Latex injecting: '{ext}' from '{subsource}'\"))\n",
      "/opt/hostedtoolcache/Python/3.9.15/x64/lib/python3.9/site-packages/arxiv_on_deck_2/latex.py:292: LatexWarning: Latex injecting: 'latex_tables/orphan_pm_bins' from 'tmp_2211.04495/latex_tables/orphan_pm_bins.tex'\n",
      "  warnings.warn(LatexWarning(f\"Latex injecting: '{ext}' from '{subsource}'\"))\n",
      "/opt/hostedtoolcache/Python/3.9.15/x64/lib/python3.9/site-packages/arxiv_on_deck_2/latex.py:292: LatexWarning: Latex injecting: 'latex_tables/orphan_rvdisp_bins' from 'tmp_2211.04495/latex_tables/orphan_rvdisp_bins.tex'\n",
      "  warnings.warn(LatexWarning(f\"Latex injecting: '{ext}' from '{subsource}'\"))\n",
      "/opt/hostedtoolcache/Python/3.9.15/x64/lib/python3.9/site-packages/arxiv_on_deck_2/latex.py:292: LatexWarning: Latex injecting: 'latex_tables/orphan_rv_bins' from 'tmp_2211.04495/latex_tables/orphan_rv_bins.tex'\n",
      "  warnings.warn(LatexWarning(f\"Latex injecting: '{ext}' from '{subsource}'\"))\n",
      "/opt/hostedtoolcache/Python/3.9.15/x64/lib/python3.9/site-packages/arxiv_on_deck_2/latex.py:292: LatexWarning: Latex injecting: 'latex_tables/orphan_dmsig_bins' from 'tmp_2211.04495/latex_tables/orphan_dmsig_bins.tex'\n",
      "  warnings.warn(LatexWarning(f\"Latex injecting: '{ext}' from '{subsource}'\"))\n",
      "/opt/hostedtoolcache/Python/3.9.15/x64/lib/python3.9/site-packages/arxiv_on_deck_2/latex.py:292: LatexWarning: Latex injecting: 'latex_tables/orphan_dm_bins' from 'tmp_2211.04495/latex_tables/orphan_dm_bins.tex'\n",
      "  warnings.warn(LatexWarning(f\"Latex injecting: '{ext}' from '{subsource}'\"))\n",
      "/opt/hostedtoolcache/Python/3.9.15/x64/lib/python3.9/site-packages/arxiv_on_deck_2/latex.py:292: LatexWarning: Latex injecting: 'latex_tables/orphan_specmemb_paper' from 'tmp_2211.04495/latex_tables/orphan_specmemb_paper.tex'\n",
      "  warnings.warn(LatexWarning(f\"Latex injecting: '{ext}' from '{subsource}'\"))\n"
     ]
    },
    {
     "name": "stdout",
     "output_type": "stream",
     "text": [
      "extracting tarball to tmp_2211.04547..."
     ]
    },
    {
     "name": "stdout",
     "output_type": "stream",
     "text": [
      " done.\n",
      "Retrieving document from  https://arxiv.org/e-print/2211.04609\n"
     ]
    },
    {
     "name": "stdout",
     "output_type": "stream",
     "text": [
      "extracting tarball to tmp_2211.04609..."
     ]
    },
    {
     "name": "stdout",
     "output_type": "stream",
     "text": [
      " done.\n",
      "Retrieving document from  https://arxiv.org/e-print/2211.04626\n"
     ]
    },
    {
     "name": "stderr",
     "output_type": "stream",
     "text": [
      "/opt/hostedtoolcache/Python/3.9.15/x64/lib/python3.9/site-packages/IPython/core/interactiveshell.py:3433: LatexWarning: Multiple tex files.\n",
      "\n",
      "  exec(code_obj, self.user_global_ns, self.user_ns)\n",
      "/opt/hostedtoolcache/Python/3.9.15/x64/lib/python3.9/site-packages/IPython/core/interactiveshell.py:3433: LatexWarning: Found documentclass in tmp_2211.04609/natnotes.tex\n",
      "\n",
      "  exec(code_obj, self.user_global_ns, self.user_ns)\n"
     ]
    },
    {
     "name": "stdout",
     "output_type": "stream",
     "text": [
      "extracting tarball to tmp_2211.04626..."
     ]
    },
    {
     "name": "stdout",
     "output_type": "stream",
     "text": [
      " done.\n",
      "Retrieving document from  https://arxiv.org/e-print/2211.04689\n"
     ]
    },
    {
     "name": "stdout",
     "output_type": "stream",
     "text": [
      "extracting tarball to tmp_2211.04689..."
     ]
    },
    {
     "name": "stdout",
     "output_type": "stream",
     "text": [
      " done.\n",
      "Retrieving document from  https://arxiv.org/e-print/2211.04727\n"
     ]
    },
    {
     "name": "stdout",
     "output_type": "stream",
     "text": [
      "extracting tarball to tmp_2211.04727..."
     ]
    },
    {
     "name": "stdout",
     "output_type": "stream",
     "text": [
      " done.\n",
      "Retrieving document from  https://arxiv.org/e-print/2211.04765\n"
     ]
    },
    {
     "name": "stdout",
     "output_type": "stream",
     "text": [
      "extracting tarball to tmp_2211.04765..."
     ]
    },
    {
     "name": "stdout",
     "output_type": "stream",
     "text": [
      " done.\n",
      "Retrieving document from  https://arxiv.org/e-print/2211.04777\n"
     ]
    },
    {
     "name": "stdout",
     "output_type": "stream",
     "text": [
      "extracting tarball to tmp_2211.04777..."
     ]
    },
    {
     "name": "stdout",
     "output_type": "stream",
     "text": [
      " done.\n",
      "Retrieving document from  https://arxiv.org/e-print/2211.04808\n"
     ]
    },
    {
     "name": "stdout",
     "output_type": "stream",
     "text": [
      "extracting tarball to tmp_2211.04808..."
     ]
    },
    {
     "name": "stdout",
     "output_type": "stream",
     "text": [
      " done.\n",
      "Retrieving document from  https://arxiv.org/e-print/2211.04842\n"
     ]
    },
    {
     "name": "stdout",
     "output_type": "stream",
     "text": [
      "extracting tarball to tmp_2211.04842..."
     ]
    },
    {
     "name": "stdout",
     "output_type": "stream",
     "text": [
      " done.\n",
      "Retrieving document from  https://arxiv.org/e-print/2211.04937\n"
     ]
    },
    {
     "name": "stdout",
     "output_type": "stream",
     "text": [
      "extracting tarball to tmp_2211.04937..."
     ]
    },
    {
     "name": "stdout",
     "output_type": "stream",
     "text": [
      " done.\n",
      "Retrieving document from  https://arxiv.org/e-print/2211.05022\n"
     ]
    },
    {
     "name": "stdout",
     "output_type": "stream",
     "text": [
      "extracting tarball to tmp_2211.05022..."
     ]
    },
    {
     "name": "stdout",
     "output_type": "stream",
     "text": [
      " done.\n"
     ]
    }
   ],
   "source": [
    "documents = []\n",
    "failed = []\n",
    "for paper in tqdm(candidates[:-1]):\n",
    "    paper_id = paper['identifier'].lower().replace('arxiv:', '')\n",
    "    \n",
    "    folder = f'tmp_{paper_id}'\n",
    "\n",
    "    try:\n",
    "        if not os.path.isdir(folder):\n",
    "            folder = retrieve_document_source(f\"{paper_id}\", f'tmp_{paper_id}')\n",
    "        \n",
    "        try:\n",
    "            doc = latex.LatexDocument(folder, validation=validation)    \n",
    "        except AffiliationError as affilerror:\n",
    "            msg = f\"ArXiv:{paper_id:s} is not an MPIA paper... \" + str(affilerror)\n",
    "            failed.append((paper, \"affiliation error: \" + str(affilerror) ))\n",
    "            continue\n",
    "        \n",
    "        # Hack because sometimes author parsing does not work well\n",
    "        if (len(doc.authors) != len(paper['authors'])):\n",
    "            doc._authors = paper['authors']\n",
    "        if (doc.abstract) in (None, ''):\n",
    "            doc._abstract = paper['abstract']\n",
    "            \n",
    "        doc.comment = (get_markdown_badge(paper_id) + \n",
    "                       \"<mark>Appeared on: \" + paper['date'] + \"</mark> - \" +\n",
    "                       \"_\" + paper['comments'] + \"_\")\n",
    "        doc.highlight_authors_in_list(hl_list)\n",
    "\n",
    "        full_md = doc.generate_markdown_text()\n",
    "        \n",
    "        documents.append((paper_id, full_md))\n",
    "    except Exception as e:\n",
    "        warnings.warn(latex.LatexWarning(f\"{paper_id:s} did not run properly\\n\" +\n",
    "                                         str(e)\n",
    "                                        ))\n",
    "        failed.append((paper, \"latex error \" + str(e)))"
   ]
  },
  {
   "cell_type": "markdown",
   "id": "2505a25c",
   "metadata": {
    "papermill": {
     "duration": 0.007647,
     "end_time": "2022-11-10T04:31:06.975502",
     "exception": false,
     "start_time": "2022-11-10T04:31:06.967855",
     "status": "completed"
    },
    "tags": []
   },
   "source": [
    "### Export the logs\n",
    "\n",
    "Throughout, we also keep track of the logs per paper. see `logs-{today date}.md` "
   ]
  },
  {
   "cell_type": "code",
   "execution_count": 6,
   "id": "d733828a",
   "metadata": {
    "execution": {
     "iopub.execute_input": "2022-11-10T04:31:06.997274Z",
     "iopub.status.busy": "2022-11-10T04:31:06.996619Z",
     "iopub.status.idle": "2022-11-10T04:31:07.035869Z",
     "shell.execute_reply": "2022-11-10T04:31:07.035025Z"
    },
    "papermill": {
     "duration": 0.050873,
     "end_time": "2022-11-10T04:31:07.037793",
     "exception": false,
     "start_time": "2022-11-10T04:31:06.986920",
     "status": "completed"
    },
    "scrolled": false,
    "tags": []
   },
   "outputs": [
    {
     "data": {
      "text/markdown": [
       "## Successful papers"
      ],
      "text/plain": [
       "<IPython.core.display.Markdown object>"
      ]
     },
     "metadata": {},
     "output_type": "display_data"
    },
    {
     "data": {
      "text/markdown": [
       "\n",
       "|||\n",
       "|---:|:---|\n",
       "| [![arXiv](https://img.shields.io/badge/arXiv-arXiv:2211.05022-b31b1b.svg)](https://arxiv.org/abs/arXiv:2211.05022) | **PRODIGE -- Envelope to Disk with NOEMA II. Small-scale temperature  structure and a streamer feeding the SVS13A protobinary using CH3CN and DCN**  |\n",
       "|| T.-H. Hsieh, et al. -- incl., <mark>Th. Henning</mark>, <mark>G. V. Smirnov-Pinchukov</mark>, <mark>D. Semenov</mark>, <mark>B. Zhao</mark> |\n",
       "|*Appeared on*| *2022-11-10*|\n",
       "|*Comments*| *20 pages, 19 figures, accepted to A&A*|\n",
       "|**Abstract**| Aims. We present high sensitivity and high-spectral resolution NOEMA observations of the Class 0/I binary system SVS13A, composed of the low-mass protostars VLA4A and VLA4B with a separation of ~90 au. VLA4A is undergoing an accretion burst that enriches the chemistry of the surrounding gas. This gives us an excellent opportunity to probe the chemical and physical conditions as well as the accretion process. Methods. We observe the (12K-11K) lines of CH3CN and CH313CN, the DCN (3-2) line, and the C18O (2-1) line toward SVS13A using NOEMA. Results. We find complex line profiles at disk scales which cannot be explained by a single component or pure Keplerian motion. By adopting two velocity components to model the complex line profiles, we find that the temperatures and densities are significantly different between these two components. This suggests that the physical conditions of the emitting gas traced via CH3CN can change dramatically within the circumbinary disk. In addition, combining our observations of DCN (3-2) with previous ALMA high-angular-resolution observations, we find that the binary system (or VLA4A) might be fed by an infalling streamer from envelope scales (~700 au). If this is the case, this streamer contributes to the accretion of material onto the system with a rate of at least 1.4x10-6 Msun yr-1. Conclusions. We conclude that the CH3CN emission in SVS13A traces hot gas from a complex structure. This complexity might be affected by a streamer that is possibly infalling and funneling material into the central region. |"
      ],
      "text/plain": [
       "[arXiv:2211.05022] PRODIGE -- Envelope to Disk with NOEMA II. Small-scale temperature  structure and a streamer feeding the SVS13A protobinary using CH3CN and DCN\n",
       "\tT.-H. Hsieh, et al. -- incl., <mark>Th. Henning</mark>, <mark>G. V. Smirnov-Pinchukov</mark>, <mark>D. Semenov</mark>, <mark>B. Zhao</mark>"
      ]
     },
     "metadata": {},
     "output_type": "display_data"
    },
    {
     "data": {
      "text/markdown": [
       "## Failed papers"
      ],
      "text/plain": [
       "<IPython.core.display.Markdown object>"
      ]
     },
     "metadata": {},
     "output_type": "display_data"
    },
    {
     "data": {
      "text/markdown": [
       "\n",
       "|||\n",
       "|---:|:---|\n",
       "| [![arXiv](https://img.shields.io/badge/arXiv-arXiv:2211.04495-b31b1b.svg)](https://arxiv.org/abs/arXiv:2211.04495) | **$S^5$: Probing the Milky Way and Magellanic Clouds potentials with the  6-D map of the Orphan-Chenab stream**  |\n",
       "|| Sergey E. Koposov, et al. -- incl., <mark>Ting S. Li</mark>, <mark>Lara R. Cullinane</mark>, <mark>Geraint F. Lewis</mark>, <mark>Sophia Lilleengen</mark> |\n",
       "|*Appeared on*| *2022-11-10*|\n",
       "|*Comments*| *submitted to MNRAS; comments welcome; data released with the paper is available on Zenodo this https URL*|\n",
       "|**Abstract**| We present a 6-D map of the Orphan-Chenab (OC) stream by combining the data from 5 years of Southern Stellar Stream Spectroscopic Survey $S^5$ observations with Gaia EDR3 data. We reconstruct the proper motion, radial velocity, distance and on-sky track of stream stars with spline models and extract the stellar density along the stream. The stream has a total luminosity of $M_V=-8.2$ and an average metallicity of $[Fe/H]=-1.9$, similar to classical MW satellites like Draco. The stream shows drastic changes in its physical width varying from 200 pc to 1 kpc, a constant line of sight velocity dispersion of 5 km/s, but an increase in the velocity dispersion along the stream near pericenter to $\\sim$ 10 km/s. Despite the large apparent variation in the stellar number density along the stream, the flow rate of stars along the stream is remarkably constant. We model the 6-D stream track by a Lagrange-point stripping method with a flexible MW potential in the presence of a moving extended LMC potential. This allows us to constrain the mass profile of the MW within the distance range 15.6 < r < 55.5 kpc, with the best measured enclosed mass of $(2.85\\pm 0.1)\\times10^{11}\\,M_\\odot$ within 32.4 kpc. With the OC stream's closest approach distance to the LMC of $\\sim 21$ kpc, our stream measurements are highly sensitive to the LMC mass profile with the most precise measurement of the LMC's enclosed mass being at 32.8 kpc with $M=(7.02\\pm 0.9)\\times10^{10}\\, {M}_\\odot$. We confidently detect that the LMC DM halo extends to at least 53 kpc. The fitting of the OC stream allows us to constrain the past LMC trajectory and the degree of dynamical friction it experienced. We demonstrate that the stars on the OC stream show large energy and angular momentum spreads caused by the LMC perturbation and revealing the limitations of orbital invariants for substructure identification in the MW halo. |\n",
       "|<p style=\"color:green\"> **ERROR** </p>| <p style=\"color:green\">affiliation error: mpia.affiliation_verifications: '69117' keyword not found.</p> |"
      ],
      "text/plain": [
       "<IPython.core.display.Markdown object>"
      ]
     },
     "metadata": {},
     "output_type": "display_data"
    },
    {
     "data": {
      "text/markdown": [
       "\n",
       "|||\n",
       "|---:|:---|\n",
       "| [![arXiv](https://img.shields.io/badge/arXiv-arXiv:2211.04472-b31b1b.svg)](https://arxiv.org/abs/arXiv:2211.04472) | **Regular Solar Radio Imaging at Arecibo: Space Weather Perspective of  Evolution of Active Regions**  |\n",
       "|| Periasamy K. Manoharan, et al. -- incl., <mark>Tapasi Ghosh</mark> |\n",
       "|*Appeared on*| *2022-11-10*|\n",
       "|*Comments*| *11 pages and 3 figures (White Paper Submitted to `Decadal Survey for Solar and Space Physics (Heliophysics) 2024-2033')*|\n",
       "|**Abstract**| The sudden release of magnetic energy on the Sun drives powerful solar flares and coronal mass ejections. The key issue is the difficulty in predicting the occurrence time and location of strong solar eruptions, i.e., those leading to the high impact space weather disturbances at the near-Earth environment. Solar radio imaging helps identify the magnetic field characteristics of active regions susceptible to intense flares and energetic coronal mass ejections. Mapping of the Sun at X-band (8.1 -- 9.3 GHz) with the 12-m radio telescope at the Arecibo Observatory allows monitoring of the evolution of the brightness temperature of active regions in association with the development of magnetic complexity, which can lead to strong eruptions. For a better forecasting strategy in the future, such ground-based radio observations of high-spatial and temporal resolution, along with a full polarization capability, would have tremendous potential not only to understand the magnetic activity of solar eruptions, but also for revealing the particle acceleration mechanism and additional exciting science. |\n",
       "|<p style=\"color:green\"> **ERROR** </p>| <p style=\"color:green\">affiliation error: mpia.affiliation_verifications: 'Heidelberg' keyword not found.</p> |"
      ],
      "text/plain": [
       "<IPython.core.display.Markdown object>"
      ]
     },
     "metadata": {},
     "output_type": "display_data"
    },
    {
     "data": {
      "text/markdown": [
       "\n",
       "|||\n",
       "|---:|:---|\n",
       "| [![arXiv](https://img.shields.io/badge/arXiv-arXiv:2211.04478-b31b1b.svg)](https://arxiv.org/abs/arXiv:2211.04478) | **BASS XXXIX: Swift-BAT AGN with changing-look optical spectra**  |\n",
       "|| Matthew J. Temple, et al. -- incl., <mark>Fiona Harrison</mark> |\n",
       "|*Appeared on*| *2022-11-10*|\n",
       "|*Comments*| *14 pages, 7 figures, plus appendix. Accepted for publication in MNRAS*|\n",
       "|**Abstract**| Changing-look (CL) AGN are unique probes of accretion onto supermassive black holes (SMBHs), especially when simultaneous observations in complementary wavebands allow investigations into the properties of their accretion flows. We present the results of a search for CL behaviour in 412 Swift-BAT detected AGN with multiple epochs of optical spectroscopy from the BAT AGN Spectroscopic Survey (BASS). 125 of these AGN also have 14-195 keV ultra-hard X-ray light-curves from Swift-BAT which are contemporaneous with the epochs of optical spectroscopy. Eight CL events are presented for the first time, where the appearance or disappearance of broad Balmer line emission leads to a change in the observed Seyfert type classification. Combining with known events from the literature, 21 AGN from BASS are now known to display CL behaviour. Nine CL events have 14-195 keV data available, and five of these CL events can be associated with significant changes in their 14-195 keV flux from BAT. The ultra-hard X-ray flux is less affected by obscuration and so these changes in the 14-195 keV band suggest that the majority of our CL events are not due to changes in line-of-sight obscuration. We derive a CL rate of 0.7-6.2 per cent on 10-25 year time-scales, and show that many transitions happen within at most a few years. Our results motivate further multi-wavelength observations with higher cadence to better understand the variability physics of accretion onto SMBHs. |\n",
       "|<p style=\"color:green\"> **ERROR** </p>| <p style=\"color:green\">affiliation error: mpia.affiliation_verifications: 'Heidelberg' keyword not found.</p> |"
      ],
      "text/plain": [
       "<IPython.core.display.Markdown object>"
      ]
     },
     "metadata": {},
     "output_type": "display_data"
    },
    {
     "data": {
      "text/markdown": [
       "\n",
       "|||\n",
       "|---:|:---|\n",
       "| [![arXiv](https://img.shields.io/badge/arXiv-arXiv:2211.04480-b31b1b.svg)](https://arxiv.org/abs/arXiv:2211.04480) | **Amortized Bayesian Inference for Supernovae in the Era of the Vera Rubin  Observatory Using Normalizing Flows**  |\n",
       "|| <mark>V. Ashley Villar</mark> |\n",
       "|*Appeared on*| *2022-11-10*|\n",
       "|*Comments*| *5 pages, accepted in the Neurips Machine Learning and the Physical Sciences conference*|\n",
       "|**Abstract**| The Vera Rubin Observatory, set to begin observations in mid-2024, will increase our discovery rate of supernovae to well over one million annually. There has been a significant push to develop new methodologies to identify, classify and ultimately understand the millions of supernovae discovered with the Rubin Observatory. Here, we present the first simulation-based inference method using normalizing flows, trained to rapidly infer the parameters of toy supernovae model in multivariate, Rubin-like datastreams. We find that our method is well-calibrated compared to traditional inference methodologies (specifically MCMC), requiring only one-ten-thousandth of the CPU hours during test time. |\n",
       "|<p style=\"color:green\"> **ERROR** </p>| <p style=\"color:green\">affiliation error: mpia.affiliation_verifications: 'Heidelberg' keyword not found.</p> |"
      ],
      "text/plain": [
       "<IPython.core.display.Markdown object>"
      ]
     },
     "metadata": {},
     "output_type": "display_data"
    },
    {
     "data": {
      "text/markdown": [
       "\n",
       "|||\n",
       "|---:|:---|\n",
       "| [![arXiv](https://img.shields.io/badge/arXiv-arXiv:2211.04481-b31b1b.svg)](https://arxiv.org/abs/arXiv:2211.04481) | **The cavity of 3CR 196.1: H$α$ emission spatially associated with an  X-ray cavity**  |\n",
       "|| A. Jimenez-Gallardo, et al. -- incl., <mark>H. A. Peña-Herazo</mark>, <mark>E. Torresi</mark> |\n",
       "|*Appeared on*| *2022-11-10*|\n",
       "|*Comments*| *15 pages, 8 figures, ApJ accepted, pre-proof version*|\n",
       "|**Abstract**| We present a multifrequency analysis of the radio galaxy 3CR 196.1 ($z = 0.198$), associated with the brightest galaxy of the cool core cluster CIZAJ0815.4-0303. This nearby radio galaxy shows a hybrid radio morphology and an X-ray cavity, all signatures of a turbulent past activity, potentially due to merger events and AGN outbursts. We present results of the comparison between $Chandra$ and VLT/MUSE data for the inner region of the galaxy cluster, on a scale of tens of kpc. We discovered H$\\alpha$ + [N II]$\\lambda6584$ emission spatially associated with the X-ray cavity (at $\\sim$10 kpc from the galaxy nucleus) instead of with its rim. This result differs from previous discoveries of ionized gas surrounding X-ray cavities in other radio galaxies harbored in galaxy clusters and could represent the first reported case of ionized gas filling an X-ray cavity, either due to different AGN outbursts or to the cooling of warm ($10^4<T\\leq10^7$ K) AGN outflows. We also found that the H$\\alpha$, [N II]$\\lambda\\lambda6548,6584$ and [S II]$\\lambda\\lambda6718,6733$ emission lines show an additional redward component, at $\\sim$1000 km$\\,$s$^{-1}$ from rest frame, with no detection in H$\\beta$ or [O III]$\\lambda\\lambda4960,5008$. We believe the most likely explanation for this redward component is the presence of a background gas cloud since there appears to be a discrete difference in velocities between this component and the rest frame. |\n",
       "|<p style=\"color:green\"> **ERROR** </p>| <p style=\"color:green\">affiliation error: mpia.affiliation_verifications: 'Heidelberg' keyword not found.</p> |"
      ],
      "text/plain": [
       "<IPython.core.display.Markdown object>"
      ]
     },
     "metadata": {},
     "output_type": "display_data"
    },
    {
     "data": {
      "text/markdown": [
       "\n",
       "|||\n",
       "|---:|:---|\n",
       "| [![arXiv](https://img.shields.io/badge/arXiv-arXiv:2211.04482-b31b1b.svg)](https://arxiv.org/abs/arXiv:2211.04482) | **SN 2019ewu: A Peculiar Supernova with Early Strong Carbon and Weak  Oxygen Features from a New Sample of Young SN Ic Spectra**  |\n",
       "|| Marc Williamson, et al. -- incl., <mark>Lindsey A. Kwok</mark> |\n",
       "|*Appeared on*| *2022-11-10*|\n",
       "|*Comments*| *Submitted to the Astrophysical Journal. 15 pages, 6 figures*|\n",
       "|**Abstract**| With the advent of high cadence, all-sky automated surveys, supernovae (SNe) are now discovered closer than ever to their dates of explosion. However, young pre-maximum light follow-up spectra of Type Ic supernovae (SNe Ic), probably arising from the most stripped massive stars, remain rare despite their importance. In this paper we present a set of 49 optical spectra observed with the Las Cumbres Observatory through the Global Supernova Project for 6 SNe Ic, including a total of 17 pre-maximum spectra, of which 8 are observed more than a week before V-band maximum light. This dataset increases the total number of publicly available pre-maximum light SN Ic spectra by 25% and we provide publicly available SNID templates that will significantly aid in the fast identification of young SNe Ic in the future. We present detailed analysis of these spectra, including Fe II 5169 velocity measurements, O I 7774 line strengths, and continuum shapes. We compare our results to published samples of stripped supernovae in the literature and find one SN in our sample that stands out. SN 2019ewu has a unique combination of features for a SN Ic: an extremely blue continuum, high absorption velocities, a P-cygni shaped feature almost 2 weeks before maximum light that TARDIS radiative transfer modeling attributes to C II rather than H$\\alpha$, and weak or non-existent O I 7774 absorption feature until maximum light. |\n",
       "|<p style=\"color:green\"> **ERROR** </p>| <p style=\"color:green\">affiliation error: mpia.affiliation_verifications: 'Heidelberg' keyword not found.</p> |"
      ],
      "text/plain": [
       "<IPython.core.display.Markdown object>"
      ]
     },
     "metadata": {},
     "output_type": "display_data"
    },
    {
     "data": {
      "text/markdown": [
       "\n",
       "|||\n",
       "|---:|:---|\n",
       "| [![arXiv](https://img.shields.io/badge/arXiv-arXiv:2211.04484-b31b1b.svg)](https://arxiv.org/abs/arXiv:2211.04484) | **Stellar Bars in Spinning Halos: Delayed Buckling and Absence of Slowdown**  |\n",
       "|| <mark>Xingchen Li</mark>, Isaac Shlosman, <mark>Clayton Heller</mark>, Daniel Pfenniger |\n",
       "|*Appeared on*| *2022-11-10*|\n",
       "|*Comments*| *12 pages, 16 figures, submitted to MNRAS*|\n",
       "|**Abstract**| We use high resolution numerical simulations in order to analyze the stellar bar evolution in spinning dark matter (DM) halos. Previous works have shown that the halo spin has a substantial effect on the bar evolution and can lead to bar dissolution following the vertical buckling instability. Here, we invoke the DM spin sequence, $\\lambda=0-0.09$, and study the effect of DM density along this $\\lambda$-sequence by varying the compactness of DM halo. We find that (1) varying the DM density has a profound effect on the stellar bar evolution along the $\\lambda$-sequence, namely, on its amplitude, pattern speed, buckling time, etc.; (2) For $\\lambda\\gtrsim 0.04$, the buckling instability has been delayed progressively, and does not occur when the bar has reached its maximal strength; (3) Instead, stellar bars remain near maximal strength, and their amplitude plateau stage extends over $\\sim 1-7$ Gyr, terminating with the buckling instability; (4) Although stellar bars remain strong during the plateau, their pattern speed stays nearly constant. The reason for this unusual behavior of stellar bars follows from the highly reduced gravitational torques which they experience due to the DM bar being aligned with the stellar bar. The performed orbital analysis shows that the delayed buckling results from a slow evolution of stellar oscillations along the bar major and vertical axes -- thus postponing the action of the vertical 2:1 resonance which pumps the rotational energy into vertical motions; (5) Peanut/boxy shaped bulges form at the beginning of the plateau and grow with time; (6) Strong stellar bars in spinning halos can avoid fast braking, resolving the long standing discrepancy between observations and $N$-body simulations. This behavior of stellar bars along the $\\lambda$- and DM density-sequences, reveals a wealth of stellar bar properties which require additional study. |\n",
       "|<p style=\"color:green\"> **ERROR** </p>| <p style=\"color:green\">affiliation error: mpia.affiliation_verifications: 'Heidelberg' keyword not found.</p> |"
      ],
      "text/plain": [
       "<IPython.core.display.Markdown object>"
      ]
     },
     "metadata": {},
     "output_type": "display_data"
    },
    {
     "data": {
      "text/markdown": [
       "\n",
       "|||\n",
       "|---:|:---|\n",
       "| [![arXiv](https://img.shields.io/badge/arXiv-arXiv:2211.04488-b31b1b.svg)](https://arxiv.org/abs/arXiv:2211.04488) | **Deblending Galaxies with Generative Adversarial Networks**  |\n",
       "|| <mark>Shoubaneh Hemmati</mark>, et al. |\n",
       "|*Appeared on*| *2022-11-10*|\n",
       "|*Comments*| *12 pages, 9 figures, accepted for publication in the Astrophysical Journal*|\n",
       "|**Abstract**| Deep generative models including generative adversarial networks (GANs) are powerful unsupervised tools in learning the distributions of data sets. Building a simple GAN architecture in PyTorch and training on the CANDELS data set, we generate galaxy images with the Hubble Space Telescope resolution starting from a noise vector. We proceed by modifying the GAN architecture to improve the Subaru Hyper Suprime-Cam ground-based images by increasing their resolution to the HST resolution. We use the super resolution GAN on a large sample of blended galaxies which we create using CANDELS cutouts. In our simulated blend sample, $\\sim 20 \\%$ would unrecognizably be blended even in the HST resolution cutouts. In the HSC-like cutouts this fraction rises to $\\sim 90\\%$. With our modified GAN we can lower this value to $\\sim 50\\%$. We quantify the blending fraction in the high, low and GAN resolutions over the whole manifold of angular separation, flux ratios, sizes and redshift difference between the two blended objects. The two peaks found by the GAN deblender result in ten times improvement in the photometry measurement of the blended objects. Modifying the architecture of the GAN, we also train a Multi-wavelength GAN with seven band optical+NIR HST cutouts. This multi-wavelength GAN improves the fraction of detected blends by another $\\sim 10\\%$ compared to the single-band GAN. This is most beneficial to the current and future precision cosmology experiments (e.g., LSST, SPHEREx, Euclid, Roman), specifically those relying on weak gravitational lensing, where blending is a major source of systematic error. |\n",
       "|<p style=\"color:green\"> **ERROR** </p>| <p style=\"color:green\">affiliation error: mpia.affiliation_verifications: 'Heidelberg' keyword not found.</p> |"
      ],
      "text/plain": [
       "<IPython.core.display.Markdown object>"
      ]
     },
     "metadata": {},
     "output_type": "display_data"
    },
    {
     "data": {
      "text/markdown": [
       "\n",
       "|||\n",
       "|---:|:---|\n",
       "| [![arXiv](https://img.shields.io/badge/arXiv-arXiv:2211.04493-b31b1b.svg)](https://arxiv.org/abs/arXiv:2211.04493) | **Polymeric jets throw light on the origin and nature of the forest of  solar spicules**  |\n",
       "|| Sahel Dey, et al. -- incl., <mark>Jiajia Liu</mark> |\n",
       "|*Appeared on*| *2022-11-10*|\n",
       "|*Comments*| *Published in Nature Physics. Video files are available at this https URL*|\n",
       "|**Abstract**| Spicules are plasma jets, observed in the dynamic interface region between the visible solar surface and the hot corona. At any given time, it is estimated that about 3 million spicules are present on the Sun. We find an intriguing parallel between the simulated spicular forest in a solar-like atmosphere and the numerous jets of polymeric fluids when both are subjected to harmonic forcing. In a radiative magnetohydrodynamic numerical simulation with sub-surface convection, solar global surface oscillations are excited similarly to those harmonic vibrations. The jets thus produced match remarkably well with the forests of spicules detected in observations of the Sun. Taken together, the numerical simulations of the Sun and the laboratory fluid dynamics experiments provide insights into the mechanism underlying the ubiquity of jets: the nonlinear focusing of quasi-periodic waves in anisotropic media of magnetized plasma as well as polymeric fluids under gravity is sufficient to generate a forest of spicules on the Sun. |\n",
       "|<p style=\"color:green\"> **ERROR** </p>| <p style=\"color:green\">affiliation error: mpia.affiliation_verifications: 'Heidelberg' keyword not found.</p> |"
      ],
      "text/plain": [
       "<IPython.core.display.Markdown object>"
      ]
     },
     "metadata": {},
     "output_type": "display_data"
    },
    {
     "data": {
      "text/markdown": [
       "\n",
       "|||\n",
       "|---:|:---|\n",
       "| [![arXiv](https://img.shields.io/badge/arXiv-arXiv:2211.04547-b31b1b.svg)](https://arxiv.org/abs/arXiv:2211.04547) | **Intermediate-mass ratio inspirals in merging elliptical galaxies**  |\n",
       "|| <mark>Verónica Vázquez-Aceves</mark>, et al. |\n",
       "|*Appeared on*| *2022-11-10*|\n",
       "|*Comments*| *7 pages, 4 figures. Accepted for publication in MNRAS*|\n",
       "|**Abstract**| Close encounters between two initially unbound objects can result in a binary system if enough energy is released as gravitational waves (GWs). We address the scenario in which such encounters occur in merging elliptical galaxies. There is evidence that elliptical galaxies can harbor intermediate-mass black holes. Therefore, these systems are potentially the breeding grounds of sources of gravitational waves corresponding to inspiraling compact objects onto a massive black hole due to the dynamics, the large densities, and the number of compact remnants they contain. We show that this process is efficient for intermediate-mass black holes (IMBHs) with masses ranging from M $\\in (10^3,10^5)$ M$_{\\odot}$ and results in the formation of intermediate mass-ratio inspirals (IMRIs). We consider a set of IMBHs and smaller black holes with masses $m_2 \\in (10,10^3)$ M$_{\\odot}$ to estimate the IMRI formation rate. We find rates ranging between 10$^{-8}$ yr$^{-1}$, and 10$^{-5}$ yr$^{-1}$, and the IMRI formation rate per comoving volume in merging galaxies as a function of the redshift. The peak frequencies of the gravitational radiation emitted when these IMRIs are formed are within the detection band of space-borne detectors such as LISA and TianQin; taking into account the observable volume of these detectors, the total amount of IMRI detections per year is significant. |\n",
       "|<p style=\"color:green\"> **ERROR** </p>| <p style=\"color:green\">affiliation error: mpia.affiliation_verifications: 'Heidelberg' keyword not found.</p> |"
      ],
      "text/plain": [
       "<IPython.core.display.Markdown object>"
      ]
     },
     "metadata": {},
     "output_type": "display_data"
    },
    {
     "data": {
      "text/markdown": [
       "\n",
       "|||\n",
       "|---:|:---|\n",
       "| [![arXiv](https://img.shields.io/badge/arXiv-arXiv:2211.04609-b31b1b.svg)](https://arxiv.org/abs/arXiv:2211.04609) | **Two Candidates for Dual AGN in Dwarf-Dwarf Galaxy Mergers**  |\n",
       "|| Marko Mićić, Olivia J. Holmes, <mark>Brenna N. Wells</mark>, Jimmy A. Irwin |\n",
       "|*Appeared on*| *2022-11-10*|\n",
       "|*Comments*| *Accepted for publication in ApJ. 14 pages, 7 figures, 3 tables*|\n",
       "|**Abstract**| Dual AGN are important for understanding galaxy-merger-triggered fueling of black holes and hierarchical growth of structures. The least explored type of dual AGN are those associated with mergers of two dwarf galaxies. According to observations and cosmological simulations, dwarf galaxies are the most abundant type of galaxies in the early Universe and the galaxy merger rate is dominated by dwarfs. However, these mergers are generally too distant to be directly observed, and low-redshift dwarf-dwarf merger-related dual AGN are notoriously hard to find. In this paper, we present the first results of our large-scale search for this elusive type of object and the first two candidates for dual AGN in dwarf-dwarf mergers. Both objects exhibit tidal features (tails and bridges) characteristic of galaxy mergers/interactions. One object is apparently in a late-stage merger with an AGN separation of < 5kpc, while the second is in an early-stage merger with interacting galaxies having established a tidal bridge. Both objects have dual, luminous X-ray sources that are most likely due to actively accreting massive black holes. Also, both objects have infrared counterparts, with colors consistent with being AGN. Follow-up observations will provide us a glimpse into key processes that govern the earliest phases of growth of galaxies, their central black holes, and merger-induced star formation. |\n",
       "|<p style=\"color:green\"> **ERROR** </p>| <p style=\"color:green\">affiliation error: mpia.affiliation_verifications: 'Heidelberg' keyword not found.</p> |"
      ],
      "text/plain": [
       "<IPython.core.display.Markdown object>"
      ]
     },
     "metadata": {},
     "output_type": "display_data"
    },
    {
     "data": {
      "text/markdown": [
       "\n",
       "|||\n",
       "|---:|:---|\n",
       "| [![arXiv](https://img.shields.io/badge/arXiv-arXiv:2211.04626-b31b1b.svg)](https://arxiv.org/abs/arXiv:2211.04626) | **PRISM: A Non-Equilibrium, Multiphase Interstellar Medium Model for  Radiation Hydrodynamics Simulations of Galaxies**  |\n",
       "|| Harley Katz, et al. -- incl., <mark>Shenghua Liu</mark>, <mark>Francisco Rodriguez-Montero</mark> |\n",
       "|*Appeared on*| *2022-11-10*|\n",
       "|*Comments*| *21 pages, 16 figures, submitted to MNRAS*|\n",
       "|**Abstract**| We introduce the PRISM interstellar medium (ISM) model for thermochemistry and its implementation in the RAMSES-RTZ code. The model includes a non-equilibrium primordial, metal, and molecular chemistry network for 115 species coupled to on-the-fly multifrequency radiation transport. PRISM accurately accounts for the dominant ISM cooling and heating processes in the low-density regime (i.e. $\\rho<10^5\\ {\\rm cm^{-3}}$), including photoheating, photoelectric heating, H$_2$ heating/cooling, cosmic-ray heating, H/He cooling, metal-line cooling, CO cooling, and dust cooling (recombination and gas-grain collisions). We validate the model by comparing 1D equilibrium simulations across six dex in metallicity to existing 1D ISM models in the literature. We apply PRISM to high-resolution (4.5 pc) isolated dwarf galaxy simulations that include state-of-the-art models for star formation and stellar feedback to take an inventory of which cooling and heating processes dominate each different gas phase of a galaxy and to understand the importance of non-equilibrium effects. We show that most of the ISM gas is either close to thermal equilibrium or exhibits a slight cooling instability, while from a chemical perspective, the non-equilibrium electron fraction is often more than three times higher or lower than the equilibrium value, which impacts cooling, heating, and observable emission lines. Electron enhancements are attributed to recombination lags while deficits are shown to be due to rapid cosmic-ray heating. The PRISM model and its coupling to RAMSES-RTZ is applicable to a wide variety of astrophysical scenarios, from cosmological simulations to isolated giant molecular clouds, and is particularly useful for understanding how changes to ISM physics impact observable quantities such as metallic emission lines. |\n",
       "|<p style=\"color:green\"> **ERROR** </p>| <p style=\"color:green\">affiliation error: mpia.affiliation_verifications: 'Heidelberg' keyword not found.</p> |"
      ],
      "text/plain": [
       "<IPython.core.display.Markdown object>"
      ]
     },
     "metadata": {},
     "output_type": "display_data"
    },
    {
     "data": {
      "text/markdown": [
       "\n",
       "|||\n",
       "|---:|:---|\n",
       "| [![arXiv](https://img.shields.io/badge/arXiv-arXiv:2211.04689-b31b1b.svg)](https://arxiv.org/abs/arXiv:2211.04689) | **Optical Spectroscopy of Blazars for the Cherenkov Telescope Array -- II**  |\n",
       "|| E. Kasai, et al. -- incl., <mark>O. Hervet</mark>, <mark>E. Lindfors</mark> |\n",
       "|*Appeared on*| *2022-11-10*|\n",
       "|*Comments*| *19 pages, 5 figures This article has been accepted for publication in Monthly Notices of the Royal Astronomical Society (this https URL) Published by Oxford University Press on behalf of the Royal Astronomical Society*|\n",
       "|**Abstract**| Active galactic nuclei (AGNs) make up about 35 per cent of the more than 250 sources detected in very-high-energy (VHE) gamma rays to date with Imaging Atmospheric Cherenkov Telescopes. Apart from four nearby radio galaxies and two AGNs of unknown type, all known VHE AGNs are blazars. Knowledge of the cosmological redshift of gamma-ray blazars is key to enabling the study of their intrinsic emission properties, as the interaction between gamma rays and the extragalactic background light (EBL) results in a spectral softening. Therefore, the redshift determination exercise is crucial to indirectly placing tight constraints on the EBL density and to studying blazar population evolution across cosmic time. Due to the powerful relativistic jets in blazars, most of their host galaxies' spectral features are outshined, and dedicated high signal-to-noise spectroscopic observations are required. Deep medium- to high-resolution spectroscopy of 33 gamma-ray blazar optical counterparts was performed with the European Southern Observatory New Technology Telescope, Keck II telescope, Shane 3-meter telescope and the Southern African Large Telescope. From the sample, spectra from 25 objects display spectral features or are featureless and have high signal-to-noise. The other eight objects have low quality featureless spectra. We systematically searched for absorption and emission features and estimated, when possible, the fractional host galaxy flux in the measured total flux. Our measurements yielded 14 firm spectroscopic redshifts, ranging from 0.0838 to 0.8125, one tentative redshift, and two lower limits: one at z > 0.382 and the other at z > 0.629. |\n",
       "|<p style=\"color:green\"> **ERROR** </p>| <p style=\"color:green\">affiliation error: mpia.affiliation_verifications: 'Heidelberg' keyword not found.</p> |"
      ],
      "text/plain": [
       "<IPython.core.display.Markdown object>"
      ]
     },
     "metadata": {},
     "output_type": "display_data"
    },
    {
     "data": {
      "text/markdown": [
       "\n",
       "|||\n",
       "|---:|:---|\n",
       "| [![arXiv](https://img.shields.io/badge/arXiv-arXiv:2211.04727-b31b1b.svg)](https://arxiv.org/abs/arXiv:2211.04727) | **An analytic derivation of the empirical correlations of gamma-ray bursts**  |\n",
       "|| Fan Xu, et al. -- incl., <mark>Xiu-Juan Li</mark>, <mark>Zhi-Bin Zhang</mark> |\n",
       "|*Appeared on*| *2022-11-10*|\n",
       "|*Comments*| *20 pages, 7 figures, 2 tables. Submitted to A&A*|\n",
       "|**Abstract**| Empirical correlations between various key parameters have been extensively explored ever since the discovery of gamma-ray bursts (GRBs) and have been widely used as standard candles to probe the Universe. The Amati relation and the Yonetoku relation are two good examples, which have been paid special attention to. The former reflects the connection between the peak photon energy (Ep) and the isotropic $\\gamma$-ray energy release (Eiso), while the latter links Ep with the isotropic peak luminosity (Lp), both in the form of a power law function. Most GRBs are found to well follow these correlations, but a theoretical interpretation is still lacking. Meanwhile, there are also some obvious outliers, which may be off-axis GRBs and may follow different correlations as compared with the on-axis ones. Here we present a simple analytical derivation for the Amati relation and the Yonetoku relation in the framework of the standard fireball model, the correctness of which are then confirmed by numerical simulations. The off-axis Amati relation and Yonetoku relation are also derived, which differ from the corresponding on-axis relation markedly. Our results reveal the intrinsic physics lying behind the radiation processes of GRBs, and highlight the importance of viewing angle in the empirical correlations of GRBs. |\n",
       "|<p style=\"color:green\"> **ERROR** </p>| <p style=\"color:green\">affiliation error: mpia.affiliation_verifications: 'Heidelberg' keyword not found.</p> |"
      ],
      "text/plain": [
       "<IPython.core.display.Markdown object>"
      ]
     },
     "metadata": {},
     "output_type": "display_data"
    },
    {
     "data": {
      "text/markdown": [
       "\n",
       "|||\n",
       "|---:|:---|\n",
       "| [![arXiv](https://img.shields.io/badge/arXiv-arXiv:2211.04765-b31b1b.svg)](https://arxiv.org/abs/arXiv:2211.04765) | **Can scallop-shell stars trap dust in their magnetic fields?**  |\n",
       "|| <mark>Hannah Sanderson</mark>, et al. |\n",
       "|*Appeared on*| *2022-11-10*|\n",
       "|*Comments*| *Accepted for publication in MNRAS. 12 pages, 7 figures*|\n",
       "|**Abstract**| One of the puzzles to have emerged from the Kepler and TESS missions is the existence of unexplained dips in the lightcurves of a small fraction of rapidly-rotating M dwarfs in young open clusters and star-forming regions. We present a theoretical investigation of one possible explanation - that these are caused by dust clouds trapped in the stellar magnetic fields. The depth and duration of the observed dips allow us to estimate directly the linear extent of the dust clouds and their distances from the rotation axis. The dips are found to be between 0.4-4.8%. We find that their distance is close to the co-rotation radius: the typical location for stable points where charged particles can be trapped in a stellar magnetosphere. We estimate the charge acquired by a dust particle due to collisions with the coronal gas and hence determine the maximum grain size that can be magnetically supported, the stopping distance due to gas drag and the timescale on which dust particles can diffuse out of a stable point. Using the observationally-derived magnetic field of the active M dwarf V374 Peg, we model the distribution of these dust clouds and produce synthetic light curves. We find that for 1 micron dust grains, the light curves have dips of 1% - 3% and can support masses of order of $10^{12}$kg. We conclude that magnetically-trapped dust clouds (potentially from residual disc accretion or tidally-disrupted planetesimal or cometary bodies) are capable of explaining the periodic dips in the Kepler and TESS data. |\n",
       "|<p style=\"color:green\"> **ERROR** </p>| <p style=\"color:green\">affiliation error: mpia.affiliation_verifications: 'Heidelberg' keyword not found.</p> |"
      ],
      "text/plain": [
       "<IPython.core.display.Markdown object>"
      ]
     },
     "metadata": {},
     "output_type": "display_data"
    },
    {
     "data": {
      "text/markdown": [
       "\n",
       "|||\n",
       "|---:|:---|\n",
       "| [![arXiv](https://img.shields.io/badge/arXiv-arXiv:2211.04777-b31b1b.svg)](https://arxiv.org/abs/arXiv:2211.04777) | **A Study of Radio Knots within Supernova Remnant Cassiopeia A**  |\n",
       "|| Xianhuan Lei, Hui Zhu, <mark>Haiyan Zhang</mark>, Wenwu Tian |\n",
       "|*Appeared on*| *2022-11-10*|\n",
       "|*Comments*| *20 pages,9 figures, ApJ accepted*|\n",
       "|**Abstract**| The study on the dynamic evolution of young supernova remnants (SNRs) is an important way to understand the density structure of the progenitor's circumstellar medium. We have reported the acceleration or deceleration, proper motion and brightness changes of 260 compact radio features in the second youngest known SNR Cas A at 5\\,GHz based on the VLA data of five epochs from 1987 to 2004. The radio expansion center locates at $\\alpha(1950)=23^{\\rm h}21^{\\rm m}9^{\\rm s}_{\\cdot}7 \\pm 0^{\\rm s}_{\\cdot}29, \\delta(1950)=+58^{\\circ}32^{\\prime}25^{\\prime\\prime}_{\\cdot}2 \\pm 2^{\\prime\\prime}_{\\cdot}2$. Three-quarters of the compact knots are decelerating, this suggests that there are significant density fluctuations in the stellar winds of the remnant's progenitor. We have verified that the acceleration or deceleration of compact knots are not related with the distribution of brightness. The brightening, fading, disappearing or new appearing of compact radio features in Cas A suggests that the magnetic field in the remnant is changing rapidly. |\n",
       "|<p style=\"color:green\"> **ERROR** </p>| <p style=\"color:green\">affiliation error: mpia.affiliation_verifications: 'Heidelberg' keyword not found.</p> |"
      ],
      "text/plain": [
       "<IPython.core.display.Markdown object>"
      ]
     },
     "metadata": {},
     "output_type": "display_data"
    },
    {
     "data": {
      "text/markdown": [
       "\n",
       "|||\n",
       "|---:|:---|\n",
       "| [![arXiv](https://img.shields.io/badge/arXiv-arXiv:2211.04808-b31b1b.svg)](https://arxiv.org/abs/arXiv:2211.04808) | **A Multi-Wavelength View on the Rapidly-Evolving Supernova 2018ivc: An  Analog of SN IIb 1993J but Powered Primarily by Circumstellar Interaction**  |\n",
       "|| Keiichi Maeda, et al. -- incl., <mark>Shiu-Hang Lee</mark> |\n",
       "|*Appeared on*| *2022-11-10*|\n",
       "|*Comments*| *31 pages, 14 figures, 3 tables. Accepted for publication in ApJ*|\n",
       "|**Abstract**| SN 2018ivc is an unusual type II supernova (SN II). It is a variant of SNe IIL, which might represent a transitional case between SNe IIP with a massive H-rich envelope, and IIb with only a small amount of the H-rich envelope. However, SN 2018ivc shows an optical light curve evolution more complicated than canonical SNe IIL. In this paper, we present the results of prompt follow-up observations of SN 2018ivc with the Atacama Large Millimeter/submillimeter Array (ALMA). Its synchrotron emission is similar to that of SN IIb 1993J, suggesting that it is intrinsically an SN IIb-like explosion of a He star with a modest (~0.5 - 1 Msun) extended H-rich envelope. Its radio, optical, and X-ray light curves are explained primarily by the interaction between the SN ejecta and the circumstellar material (CSM); we thus suggest that it is a rare example (and the first involving the `canonical' SN IIb ejecta) for which the multi-wavelength emission is powered mainly by the SN-CSM interaction. The inner CSM density, reflecting the progenitor activity in the final decade, is comparable to that of SN IIb 2013cu that showed a flash spectral feature. The outer CSM density, and therefore the mass-loss rate in the final ~200 years, is larger than that of SN 1993J by a factor of ~5. We suggest that SN 2018ivc represents a missing link between SNe IIP and IIb/Ib/Ic in the binary evolution scenario. |\n",
       "|<p style=\"color:green\"> **ERROR** </p>| <p style=\"color:green\">affiliation error: mpia.affiliation_verifications: 'Heidelberg' keyword not found.</p> |"
      ],
      "text/plain": [
       "<IPython.core.display.Markdown object>"
      ]
     },
     "metadata": {},
     "output_type": "display_data"
    },
    {
     "data": {
      "text/markdown": [
       "\n",
       "|||\n",
       "|---:|:---|\n",
       "| [![arXiv](https://img.shields.io/badge/arXiv-arXiv:2211.04842-b31b1b.svg)](https://arxiv.org/abs/arXiv:2211.04842) | **Modelling the magnetic structure of a large-scale horse-shoe-like  filament in a decaying and diffuse active region**  |\n",
       "|| Kaifeng Kang, et al. -- incl., <mark>Yang Guo</mark>, <mark>Jun Lin</mark> |\n",
       "|*Appeared on*| *2022-11-10*|\n",
       "|*Comments*| *17 pages,14 figures,1 table*|\n",
       "|**Abstract**| A large-scale, horse-shoe-like filament was investigated and the magnetic field around it was reconstructed. This is an intermediate filament (IF) that appeared on the solar disk for the first time at 02:00 UT on 2015 November 7, and took 8 days to move to the central median on the solar disk. The active region AR 12452 around which the filament occurred was diffuse so that the magnetic field nearby was weak, the average field strength is 106 G. Therefore, the existing approaches to extrapolating the coronal magnetic field and to constructing the filament configuration in the region with strong background field do not work well here. On the basis of the regularized Biot-Savart laws method, we successfully constructed a data-constrained, non-linear force-free field configuration for this IF observed on 2015 November 14. The overall IF configuration obtained in this way matches well the morphology suggested by a 304~\\AA \\ image taken by the Atmospheric Imaging Assembly on board Solar Dynamics Observatory. Magnetic dips in the configuration were coincident in space with the H$\\alpha$ features of the filament, which is lower in altitude than the features seen in 304~\\AA. This suggests that the cold plasma fills the lower part of the filament, and hot plasma is situated in the higher region. A quasi-separatrix layer wraps the filament, and both the magnetic field and the electric current are stronger near the inner edge of the filament. |\n",
       "|<p style=\"color:green\"> **ERROR** </p>| <p style=\"color:green\">affiliation error: mpia.affiliation_verifications: 'Heidelberg' keyword not found.</p> |"
      ],
      "text/plain": [
       "<IPython.core.display.Markdown object>"
      ]
     },
     "metadata": {},
     "output_type": "display_data"
    },
    {
     "data": {
      "text/markdown": [
       "\n",
       "|||\n",
       "|---:|:---|\n",
       "| [![arXiv](https://img.shields.io/badge/arXiv-arXiv:2211.04937-b31b1b.svg)](https://arxiv.org/abs/arXiv:2211.04937) | **Relativistic contributions to Mars rotation**  |\n",
       "|| Rose-Marie Baland, et al. -- incl., <mark>Aurélien Hees</mark> |\n",
       "|*Appeared on*| *2022-11-10*|\n",
       "|*Comments*| *15 pages, 7 figures, accepted for publication in A&A, InSight contribution ICN 304*|\n",
       "|**Abstract**| Context: The orientation and rotation of Mars, which can be described by a set of Euler angles, is estimated from radioscience data and is then used to infer Mars internal properties. The data are analyzed using a modeling expressed within the Barycentric Celestial Reference System (BCRS). Aims: We provide new and more accurate (to the $0.1$ mas level) estimations of the relativistic corrections to be included in the BCRS model of the orientation and rotation of Mars to avoid a misinterpretation of the data. Methods: There are two types of relativistic contributions in Mars rotation and orientation: (i) those that directly impact the Euler angles and (ii) those resulting from the time transformation between a local Mars reference frame and BCRS. The former correspond essentially to the geodetic effect. We compute them assuming that Mars evolves on a Keplerian orbit. As for the latter, we compute the effect of the time transformation and compare the rotation angle corrections obtained using realistic orbits as described by ephemerides. Results: The relativistic correction in longitude comes mainly from the geodetic effect and results in the geodetic precession (6.754mas/yr) and the geodetic annual nutation (0.565 mas amplitude). For the rotation angle, the correction is dominated by the effect of the time transformation. The main annual, semi-annual, and ter-annual terms have amplitudes of 166.954 mas, 7.783 mas, and 0.544mas, respectively. The amplitude of the annual term differs by about 9 mas from the estimate usually considered by the community. We identify new terms at the Mars-Jupiter and Mars-Saturn synodic periods (0.567 mas and 0.102 mas amplitude) that are relevant considering the current level of uncertainty of the measurements, as well as a contribution to the rotation rate (7.3088 mas/day). There is no significant correction that applies to the obliquity. |\n",
       "|<p style=\"color:green\"> **ERROR** </p>| <p style=\"color:green\">affiliation error: mpia.affiliation_verifications: 'Heidelberg' keyword not found.</p> |"
      ],
      "text/plain": [
       "<IPython.core.display.Markdown object>"
      ]
     },
     "metadata": {},
     "output_type": "display_data"
    },
    {
     "data": {
      "text/markdown": [
       "\n",
       "|||\n",
       "|---:|:---|\n",
       "| [![arXiv](https://img.shields.io/badge/arXiv-arXiv:2211.04474-b31b1b.svg)](https://arxiv.org/abs/arXiv:2211.04474) | **Planetary Exploration Horizon 2061 Report, Chapter 3: From science  questions to Solar System exploration**  |\n",
       "|| Véronique Dehant, et al. -- incl., <mark>Heidi Hammel</mark> |\n",
       "|*Appeared on*| *2022-11-10*|\n",
       "|*Comments*| *107 pages, 37 figures, Horizon 2061 is a science-driven, foresight exercise, for future scientific investigations*|\n",
       "|**Abstract**| This chapter of the Planetary Exploration Horizon 2061 Report reviews the way the six key questions about planetary systems, from their origins to the way they work and their habitability, identified in chapter 1, can be addressed by means of solar system exploration, and how one can find partial answers to these six questions by flying to the different provinces to the solar system: terrestrial planets, giant planets, small bodies, and up to its interface with the local interstellar medium. It derives from this analysis a synthetic description of the most important space observations to be performed at the different solar system objects by future planetary exploration missions. These observation requirements illustrate the diversity of measurement techniques to be used as well as the diversity of destinations where these observations must be made. They constitute the base for the identification of the future planetary missions we need to fly by 2061, which are described in chapter 4. Q1- How well do we understand the diversity of planetary systems objects? Q2- How well do we understand the diversity of planetary system architectures? Q3- What are the origins and formation scenarios for planetary systems? Q4- How do planetary systems work? Q5- Do planetary systems host potential habitats? Q6- Where and how to search for life? |\n",
       "|<p style=\"color:red\"> **ERROR** </p>| <p style=\"color:red\">latex error not a gzip file</p> |"
      ],
      "text/plain": [
       "<IPython.core.display.Markdown object>"
      ]
     },
     "metadata": {},
     "output_type": "display_data"
    }
   ],
   "source": [
    "import datetime\n",
    "today = str(datetime.date.today())\n",
    "logfile = f\"_build/html/logs/log-{today}.md\"\n",
    "\n",
    "\n",
    "with open(logfile, 'w') as logs:\n",
    "    # Success\n",
    "    logs.write(f'# Arxiv on Deck 2: Logs - {today}\\n\\n')\n",
    "    logs.write(\"\"\"* Arxiv had {0:,d} new papers\\n\"\"\".format(len(new_papers)))\n",
    "    logs.write(\"\"\"    * {0:,d} with possible author matches\\n\\n\"\"\".format(len(candidates)))\n",
    "    logs.write(\"## Sucessful papers\\n\\n\")\n",
    "    display(Markdown(\"## Successful papers\"))\n",
    "    success = [k[0] for k in documents]\n",
    "    for candid in candidates:\n",
    "        if candid['identifier'].split(':')[-1] in success:\n",
    "            display(candid)\n",
    "            logs.write(candid.generate_markdown_text() + '\\n\\n')\n",
    "\n",
    "    ## failed\n",
    "    logs.write(\"## Failed papers\\n\\n\")\n",
    "    display(Markdown(\"## Failed papers\"))\n",
    "    failed = sorted(failed, key=lambda x: x[1])\n",
    "    current_reason = \"\"\n",
    "    for paper, reason in failed:\n",
    "        if 'affiliation' in reason:\n",
    "            color = 'green'\n",
    "        else:\n",
    "            color = 'red'\n",
    "        data = Markdown(\n",
    "                paper.generate_markdown_text() + \n",
    "                f'\\n|<p style=\"color:{color:s}\"> **ERROR** </p>| <p style=\"color:{color:s}\">{reason:s}</p> |'\n",
    "               )\n",
    "        if reason != current_reason:\n",
    "            logs.write(f'### {reason:s} \\n\\n')\n",
    "            current_reason = reason\n",
    "        logs.write(data.data + '\\n\\n')\n",
    "        \n",
    "        # only display here the important errors (all in logs)\n",
    "        # if color in ('red',):\n",
    "        display(data)"
   ]
  },
  {
   "cell_type": "markdown",
   "id": "472d20ee",
   "metadata": {
    "papermill": {
     "duration": 0.010556,
     "end_time": "2022-11-10T04:31:07.060771",
     "exception": false,
     "start_time": "2022-11-10T04:31:07.050215",
     "status": "completed"
    },
    "tags": []
   },
   "source": [
    "## Export documents\n",
    "\n",
    "We now write the .md files and export relevant images"
   ]
  },
  {
   "cell_type": "code",
   "execution_count": 7,
   "id": "d426aed9",
   "metadata": {
    "execution": {
     "iopub.execute_input": "2022-11-10T04:31:07.083051Z",
     "iopub.status.busy": "2022-11-10T04:31:07.082534Z",
     "iopub.status.idle": "2022-11-10T04:31:07.091167Z",
     "shell.execute_reply": "2022-11-10T04:31:07.090423Z"
    },
    "papermill": {
     "duration": 0.022493,
     "end_time": "2022-11-10T04:31:07.093533",
     "exception": false,
     "start_time": "2022-11-10T04:31:07.071040",
     "status": "completed"
    },
    "tags": []
   },
   "outputs": [],
   "source": [
    "def export_markdown_summary(md: str, md_fname:str, directory: str):\n",
    "    \"\"\"Export MD document and associated relevant images\"\"\"\n",
    "    import os\n",
    "    import shutil\n",
    "    import re\n",
    "\n",
    "    if (os.path.exists(directory) and not os.path.isdir(directory)):\n",
    "        raise RuntimeError(f\"a non-directory file exists with name {directory:s}\")\n",
    "\n",
    "    if (not os.path.exists(directory)):\n",
    "        print(f\"creating directory {directory:s}\")\n",
    "        os.mkdir(directory)\n",
    "\n",
    "    fig_fnames = (re.compile(r'\\[Fig.*\\]\\((.*)\\)').findall(md) + \n",
    "                  re.compile(r'\\<img src=\"([^>\\s]*)\"[^>]*/>').findall(md))\n",
    "    for fname in fig_fnames:\n",
    "        if 'http' in fname:\n",
    "            # No need to copy online figures\n",
    "            continue\n",
    "        destdir = os.path.join(directory, os.path.dirname(fname))\n",
    "        destfname = os.path.join(destdir, os.path.basename(fname))\n",
    "        try:\n",
    "            os.makedirs(destdir)\n",
    "        except FileExistsError:\n",
    "            pass\n",
    "        shutil.copy(fname, destfname)\n",
    "    with open(os.path.join(directory, md_fname), 'w') as fout:\n",
    "        fout.write(md)\n",
    "    print(\"exported in \", os.path.join(directory, md_fname))\n",
    "    [print(\"    + \" + os.path.join(directory,fk)) for fk in fig_fnames]"
   ]
  },
  {
   "cell_type": "code",
   "execution_count": 8,
   "id": "014d04a4",
   "metadata": {
    "execution": {
     "iopub.execute_input": "2022-11-10T04:31:07.115995Z",
     "iopub.status.busy": "2022-11-10T04:31:07.115205Z",
     "iopub.status.idle": "2022-11-10T04:31:07.122454Z",
     "shell.execute_reply": "2022-11-10T04:31:07.121609Z"
    },
    "papermill": {
     "duration": 0.019937,
     "end_time": "2022-11-10T04:31:07.124277",
     "exception": false,
     "start_time": "2022-11-10T04:31:07.104340",
     "status": "completed"
    },
    "tags": []
   },
   "outputs": [
    {
     "name": "stdout",
     "output_type": "stream",
     "text": [
      "exported in  _build/html/2211.05022.md\n",
      "    + _build/html/tmp_2211.05022/./DCN_HFS_pSpe.png\n",
      "    + _build/html/tmp_2211.05022/./Asymetry1.png\n",
      "    + _build/html/tmp_2211.05022/./Spectrum_CASSIS.png\n"
     ]
    }
   ],
   "source": [
    "for paper_id, md in documents:\n",
    "    export_markdown_summary(md, f\"{paper_id:s}.md\", '_build/html/')"
   ]
  },
  {
   "cell_type": "markdown",
   "id": "f087a0a7",
   "metadata": {
    "papermill": {
     "duration": 0.010119,
     "end_time": "2022-11-10T04:31:07.144074",
     "exception": false,
     "start_time": "2022-11-10T04:31:07.133955",
     "status": "completed"
    },
    "tags": []
   },
   "source": [
    "## Display the papers\n",
    "\n",
    "Not necessary but allows for a quick check."
   ]
  },
  {
   "cell_type": "code",
   "execution_count": 9,
   "id": "fd25f625",
   "metadata": {
    "execution": {
     "iopub.execute_input": "2022-11-10T04:31:07.165679Z",
     "iopub.status.busy": "2022-11-10T04:31:07.164630Z",
     "iopub.status.idle": "2022-11-10T04:31:07.170838Z",
     "shell.execute_reply": "2022-11-10T04:31:07.170052Z"
    },
    "papermill": {
     "duration": 0.018623,
     "end_time": "2022-11-10T04:31:07.172576",
     "exception": false,
     "start_time": "2022-11-10T04:31:07.153953",
     "status": "completed"
    },
    "scrolled": false,
    "tags": []
   },
   "outputs": [
    {
     "data": {
      "text/markdown": [
       "<div class=\"macros\" style=\"visibility:hidden;\">\n",
       "$\\newcommand{\\ensuremath}{}$\n",
       "$\\newcommand{\\xspace}{}$\n",
       "$\\newcommand{\\object}[1]{\\texttt{#1}}$\n",
       "$\\newcommand{\\farcs}{{.}''}$\n",
       "$\\newcommand{\\farcm}{{.}'}$\n",
       "$\\newcommand{\\arcsec}{''}$\n",
       "$\\newcommand{\\arcmin}{'}$\n",
       "$\\newcommand{\\ion}[2]{#1#2}$\n",
       "$\\newcommand{\\textsc}[1]{\\textrm{#1}}$\n",
       "$\\newcommand{\\hl}[1]{\\textrm{#1}}$\n",
       "$\\newcommand{\\vdag}{(v)^\\dagger}$\n",
       "$\\newcommand$\n",
       "$\\newcommand$</div>\n",
       "\n",
       "<div class=\"macros\" style=\"visibility:hidden;\">\n",
       "$\\newcommand{$\\ensuremath$}{}$\n",
       "$\\newcommand{$\\xspace$}{}$\n",
       "$\\newcommand{$\\object$}[1]{\\texttt{#1}}$\n",
       "$\\newcommand{$\\farcs$}{{.}''}$\n",
       "$\\newcommand{$\\farcm$}{{.}'}$\n",
       "$\\newcommand{$\\arcsec$}{''}$\n",
       "$\\newcommand{$\\arcmin$}{'}$\n",
       "$\\newcommand{$\\ion$}[2]{#1#2}$\n",
       "$\\newcommand{$\\textsc$}[1]{\\textrm{#1}}$\n",
       "$\\newcommand{$\\hl$}[1]{\\textrm{#1}}$\n",
       "$\\newcommand{$\\vdag$}{(v)^\\dagger}$\n",
       "$\\newcommand$\n",
       "$\\newcommand$</div>\n",
       "\n",
       "\n",
       "\n",
       "<div id=\"title\">\n",
       "\n",
       "# Based on observations carried out under project number L19MB with the IRAM NOEMA Interferometer. IRAM is supported by INSU/CNRS (France), MPG (Germany) and IGN (Spain):  and DCN\n",
       "\n",
       "</div>\n",
       "<div id=\"comments\">\n",
       "\n",
       "[![arXiv](https://img.shields.io/badge/arXiv-2211.05022-b31b1b.svg)](https://arxiv.org/abs/2211.05022)<mark>Appeared on: 2022-11-10</mark> - _20 pages, 19 figures, accepted to A&A_\n",
       "\n",
       "</div>\n",
       "<div id=\"authors\">\n",
       "\n",
       "T.-H. Hsieh, et al. -- incl., <mark><mark>Th. Henning</mark></mark>, <mark><mark>G. V. Smirnov-Pinchukov</mark></mark>, <mark><mark>D. Semenov</mark></mark>, <mark><mark>B. Zhao</mark></mark>\n",
       "\n",
       "</div>\n",
       "<div id=\"abstract\">\n",
       "\n",
       "**Abstract:** Aims. We present high sensitivity and high-spectral resolution NOEMA observations of the Class 0/I binary system SVS13A, composed of the low-mass protostars VLA4A and VLA4B with a separation of ~90 au. VLA4A is undergoing an accretion burst that enriches the chemistry of the surrounding gas. This gives us an excellent opportunity to probe the chemical and physical conditions as well as the accretion process. Methods. We observe the (12K-11K) lines of CH3CN and CH313CN, the DCN (3-2) line, and the C18O (2-1) line toward SVS13A using NOEMA. Results. We find complex line profiles at disk scales which cannot be explained by a single component or pure Keplerian motion. By adopting two velocity components to model the complex line profiles, we find that the temperatures and densities are significantly different between these two components. This suggests that the physical conditions of the emitting gas traced via CH3CN can change dramatically within the circumbinary disk. In addition, combining our observations of DCN (3-2) with previous ALMA high-angular-resolution observations, we find that the binary system (or VLA4A) might be fed by an infalling streamer from envelope scales (~700 au). If this is the case, this streamer contributes to the accretion of material onto the system with a rate of at least 1.4x10-6 Msun yr-1. Conclusions. We conclude that the CH3CN emission in SVS13A traces hot gas from a complex structure. This complexity might be affected by a streamer that is possibly infalling and funneling material into the central region. \n",
       "\n",
       "</div>\n",
       "\n",
       "<div id=\"div_fig1\">\n",
       "\n",
       "<img src=\"tmp_2211.05022/./DCN_HFS_pSpe.png\" alt=\"Fig7\" width=\"100%\"/>\n",
       "\n",
       "**Figure 7. -** \n",
       "DCN (3-2) centroid-velocity ({\\it top left}) and linewidth ({\\it top right}) maps from the blue-shifted component in the hyperfine structure fitting (see Appendix \\ref{sec:decom}). The white contours show its peak intensity. The contour levels start at 25$\\sigma$ and increase in 5$\\sigma$ step, where $\\sigma=0.3$ K. The blue contour shows the ALMA 1.3 mm continuum emission at the 3$\\sigma$ level. ({\\it Bottom}) The spectra of DCN (3--2), \\ce{C^{18}O}(2--1), and \\ce{CH3CN}($12_3--11_3$) toward the four positions marked in the right panel.\n",
       "The blue bars show the relative intensities of the DCN (3--2) hyperfine structure at the velocity of the blue-shifted component (see Appendix \\ref{sec:decom}).\n",
       " (*fig:dcn_fit*)\n",
       "\n",
       "</div>\n",
       "<div id=\"div_fig2\">\n",
       "\n",
       "<img src=\"tmp_2211.05022/./Asymetry1.png\" alt=\"Fig10\" width=\"100%\"/>\n",
       "\n",
       "**Figure 10. -** Zoom-in spectra for each K-ladder component of \\ce{CH3CN} J$=$12-11. The orange curve shows the best-fit 1-component LTE model. The bottom frame in each panel shows the residual from the fitting. (*fig:asym*)\n",
       "\n",
       "</div>\n",
       "<div id=\"div_fig3\">\n",
       "\n",
       "<img src=\"tmp_2211.05022/./Spectrum_CASSIS.png\" alt=\"Fig6\" width=\"100%\"/>\n",
       "\n",
       "**Figure 6. -** Modeled \\ce{CH3CN} and \\ce{CH3 ^13CN} spectra overlaid on the observed spectra.\n",
       "The first panel shows the LTE model one velocity component fitting. The second panel is the same as the first panel but treats \\ce{CH3CN} and \\ce{CH3 ^13CN} as two species with independent temperature, velocity and linewidth.\n",
       "The third panel is the LTE two velocity component fitting while the fourth panel shows the non-LTE one.\n",
       "The red curve shows the modeled spectrum;\n",
       "The K=4 component of \\ce{CH3CN} and K=3 component of \\ce{CH3 ^13CN} suffer from severe line contamination so they were not included in the fitting. The model in these frequency ranges is shown with the dashed line.\n",
       "The red and blue shaded areas in the two bottom panels represent the modeled spectrum from the individual components. The residual from the best-fit is shown in the bottom frame of each panel. The best-fit parameters are listed in Table \\ref{tab:cassis} and the corner plots are shown in Appendix \\ref{sec:mcmc}.\n",
       " (*fig:cassis*)\n",
       "\n",
       "</div>"
      ],
      "text/plain": [
       "<IPython.core.display.Markdown object>"
      ]
     },
     "metadata": {},
     "output_type": "display_data"
    }
   ],
   "source": [
    "[display(Markdown(k[1])) for k in documents];"
   ]
  },
  {
   "cell_type": "markdown",
   "id": "873873a4",
   "metadata": {
    "papermill": {
     "duration": 0.010684,
     "end_time": "2022-11-10T04:31:07.193151",
     "exception": false,
     "start_time": "2022-11-10T04:31:07.182467",
     "status": "completed"
    },
    "tags": []
   },
   "source": [
    "# Create HTML index"
   ]
  },
  {
   "cell_type": "code",
   "execution_count": 10,
   "id": "cf665672",
   "metadata": {
    "execution": {
     "iopub.execute_input": "2022-11-10T04:31:07.216224Z",
     "iopub.status.busy": "2022-11-10T04:31:07.215346Z",
     "iopub.status.idle": "2022-11-10T04:31:07.225450Z",
     "shell.execute_reply": "2022-11-10T04:31:07.224618Z"
    },
    "papermill": {
     "duration": 0.024259,
     "end_time": "2022-11-10T04:31:07.227476",
     "exception": false,
     "start_time": "2022-11-10T04:31:07.203217",
     "status": "completed"
    },
    "tags": []
   },
   "outputs": [
    {
     "name": "stdout",
     "output_type": "stream",
     "text": [
      "85  publications in the last 7 days.\n",
      "\t _build/html/2211.05022.md\n",
      "\t _build/html/2211.04048.md\n",
      "\t _build/html/2211.03641.md\n",
      "\t _build/html/2211.02502.md\n",
      "\t _build/html/2211.01474.md\n",
      "\t _build/html/2211.00667.md\n",
      "\t _build/html/2211.00657.md\n",
      "\t _build/html/2211.00087.md\n",
      "\t _build/html/2211.00036.md\n",
      "\t _build/html/2211.00020.md\n",
      "\t _build/html/2211.00010.md\n",
      "\t _build/html/2210.17434.md\n",
      "\t _build/html/2210.12412.md\n",
      "\t _build/html/2210.11926.md\n",
      "\t _build/html/2210.11551.md\n",
      "\t _build/html/2210.11103.md\n",
      "\t _build/html/2210.10707.md\n",
      "\t _build/html/2210.09930.md\n",
      "\t _build/html/2210.08996.md\n",
      "\t _build/html/2210.08517.md\n",
      "\t _build/html/2210.08510.md\n",
      "\t _build/html/2210.08078.md\n",
      "\t _build/html/2210.06504.md\n",
      "\t _build/html/2210.05695.md\n",
      "\t _build/html/2210.05595.md\n",
      "\t _build/html/2210.05505.md\n",
      "\t _build/html/2210.04721.md\n",
      "\t _build/html/2210.03615.md\n",
      "\t _build/html/2210.01811.md\n",
      "\t _build/html/2210.01809.md\n",
      "\t _build/html/2210.01556.md\n",
      "\t _build/html/2210.00863.md\n",
      "\t _build/html/2210.00560.md\n",
      "\t _build/html/2209.15403.md\n",
      "\t _build/html/2209.15110.md\n",
      "\t _build/html/2209.14410.md\n",
      "\t _build/html/2209.14396.md\n",
      "\t _build/html/2209.13717.md\n",
      "\t _build/html/2209.13336.md\n",
      "\t _build/html/2209.12906.md\n",
      "\t _build/html/2209.11781.md\n",
      "\t _build/html/2209.11602.md\n",
      "\t _build/html/2209.11248.md\n",
      "\t _build/html/2209.11096.md\n",
      "\t _build/html/2209.10618.md\n",
      "\t _build/html/2209.09914.md\n",
      "\t _build/html/2209.09823.md\n",
      "\t _build/html/2209.08242.md\n",
      "\t _build/html/2209.08120.md\n",
      "\t _build/html/2209.08106.md\n",
      "\t _build/html/2209.07962.md\n",
      "\t _build/html/2209.07931.md\n",
      "\t _build/html/2209.06833.md\n",
      "\t _build/html/2209.05814.md\n",
      "\t _build/html/2209.05593.md\n",
      "\t _build/html/2209.04304.md\n",
      "\t _build/html/2209.03367.md\n",
      "\t _build/html/2209.02872.md\n",
      "\t _build/html/2209.02725.md\n",
      "\t _build/html/2209.02722.md\n",
      "\t _build/html/2209.02092.md\n",
      "\t _build/html/2209.01125.md\n",
      "\t _build/html/2209.00828.md\n",
      "\t _build/html/2209.00363.md\n",
      "\t _build/html/2208.14927.md\n",
      "\t _build/html/2208.09335.md\n",
      "\t _build/html/2208.08872.md\n",
      "\t _build/html/2204.06393.md\n",
      "\t _build/html/2204.03335.md\n",
      "\t _build/html/2204.03253.md\n",
      "\t _build/html/2204.02998.md\n",
      "\t _build/html/2204.02109.md\n",
      "\t _build/html/2204.02017.md\n",
      "\t _build/html/2204.01824.md\n",
      "\t _build/html/2204.01758.md\n",
      "\t _build/html/2204.01245.md\n",
      "\t _build/html/2204.00793.md\n",
      "\t _build/html/2204.00342.md\n",
      "\t _build/html/2203.16959.md\n",
      "\t _build/html/2203.16856.md\n",
      "\t _build/html/2203.16735.md\n",
      "\t _build/html/2203.16734.md\n",
      "\t _build/html/2203.16504.md\n",
      "\t _build/html/2203.15822.md\n",
      "\t _build/html/2203.15811.md\n"
     ]
    }
   ],
   "source": [
    "from datetime import datetime, timedelta, timezone\n",
    "from glob import glob\n",
    "\n",
    "files = glob('_build/html/*.md')\n",
    "days = 7\n",
    "now = datetime.today()\n",
    "res = []\n",
    "for fk in files:\n",
    "    stat_result = os.stat(fk).st_ctime\n",
    "    modified = datetime.fromtimestamp(stat_result, tz=timezone.utc).replace(tzinfo=None)\n",
    "    delta = now.today() - modified\n",
    "    if delta <= timedelta(days=days):\n",
    "        res.append((delta.seconds, fk))\n",
    "res = [k[1] for k in reversed(sorted(res, key=lambda x:x[1]))]\n",
    "npub = len(res)\n",
    "print(len(res), f\" publications in the last {days:d} days.\")\n",
    "[ print('\\t', k) for k in res ];"
   ]
  },
  {
   "cell_type": "code",
   "execution_count": 11,
   "id": "52ca0208",
   "metadata": {
    "execution": {
     "iopub.execute_input": "2022-11-10T04:31:07.249578Z",
     "iopub.status.busy": "2022-11-10T04:31:07.249318Z",
     "iopub.status.idle": "2022-11-10T04:31:07.255851Z",
     "shell.execute_reply": "2022-11-10T04:31:07.255039Z"
    },
    "papermill": {
     "duration": 0.020184,
     "end_time": "2022-11-10T04:31:07.257786",
     "exception": false,
     "start_time": "2022-11-10T04:31:07.237602",
     "status": "completed"
    },
    "scrolled": false,
    "tags": []
   },
   "outputs": [],
   "source": [
    "def create_carousel(npub=4):\n",
    "    \"\"\" Generate the HTML code for a carousel with `npub` slides \"\"\"\n",
    "    carousel = [\"\"\"<section class=\"carousel\" aria-label=\"Gallery\">\"\"\",\n",
    "                \"\"\"  <ol class=\"carousel__viewport\">\"\"\",\n",
    "    ]\n",
    "    for k in range(1, npub + 1):\n",
    "        prev_ = k - 1\n",
    "        next_ = k + 1\n",
    "        if prev_ <= 0:\n",
    "            prev_ = npub\n",
    "        if next_ > npub:\n",
    "            next_ = 1\n",
    "        text  = f\"\"\"    <li id=\"carousel__slide{k}\" tabindex=\"0\" class=\"carousel__slide\">\\n\"\"\"\n",
    "        text += f\"\"\"       <div class=\"carousel__snapper\">\\n\"\"\"\n",
    "        text += f\"\"\"         <a href=\"#carousel__slide{prev_}\" class=\"carousel__prev\">Go to previous slide</a>\\n\"\"\"\n",
    "        text += f\"\"\"         <a href=\"#carousel__slide{next_}\" class=\"carousel__next\">Go to next slide</a>\\n\"\"\"\n",
    "        text += f\"\"\"         <div id=\"slide{k}_content\" class=\"md_view\" >Content {k}</div>\\n\"\"\"\n",
    "        text += f\"\"\"       </div>\\n\"\"\"\n",
    "        text += f\"\"\"    </li>\"\"\"\n",
    "        carousel.append(text)\n",
    "\n",
    "    carousel.extend([\n",
    "        \"\"\"  </ol>\"\"\",\n",
    "        \"\"\"  <aside class=\"carousel__navigation\">\"\"\",\n",
    "        \"\"\"    <ol class=\"carousel__navigation-list\">\"\"\"])\n",
    "\n",
    "    for k in range(1, npub + 1):\n",
    "        text  = f\"\"\"      <li class=\"carousel__navigation-item\">\\n\"\"\"\n",
    "        text += f\"\"\"        <a href=\"#carousel__slide{k}\" class=\"carousel__navigation-button\">Go to {k}</a>\\n\"\"\"\n",
    "        text += f\"\"\"      </li>\"\"\"\n",
    "        carousel.append(text)\n",
    "    carousel.extend([\"\"\"    </ol>\"\"\", \"\"\"  </aside>\"\"\", \"\"\"</section>\"\"\"])\n",
    "\n",
    "    return '\\n'.join(carousel)"
   ]
  },
  {
   "cell_type": "code",
   "execution_count": 12,
   "id": "a6eac5b6",
   "metadata": {
    "execution": {
     "iopub.execute_input": "2022-11-10T04:31:07.279824Z",
     "iopub.status.busy": "2022-11-10T04:31:07.279574Z",
     "iopub.status.idle": "2022-11-10T04:31:07.286300Z",
     "shell.execute_reply": "2022-11-10T04:31:07.285504Z"
    },
    "papermill": {
     "duration": 0.020456,
     "end_time": "2022-11-10T04:31:07.288251",
     "exception": false,
     "start_time": "2022-11-10T04:31:07.267795",
     "status": "completed"
    },
    "scrolled": false,
    "tags": []
   },
   "outputs": [],
   "source": [
    "carousel = create_carousel(npub)\n",
    "docs = ', '.join(['\"{0:s}\"'.format(k.split('/')[-1]) for k in res])\n",
    "slides = ', '.join([f'\"slide{k}_content\"' for k in range(1, npub + 1)])\n",
    "\n",
    "script = f\"\"\"\n",
    "const docs = [{docs}]\n",
    "\n",
    "const slides = [{slides}]\n",
    "\"\"\" + \"\"\"\n",
    "async function run() {\n",
    "    for (let i = 0; i < docs.length; i++) {\n",
    "        let file = await fetch(docs[i]);\n",
    "        let text = await file.text()\n",
    "        document.getElementById(slides[i]).innerHTML =\n",
    "            marked.parse(text);\n",
    "    }\n",
    "    hljs.highlightAll();\n",
    "}\n",
    "run()\n",
    "\"\"\"\n",
    "\n",
    "page = f\"\"\"<!doctype html>\n",
    "<html lang=\"en\">\n",
    "\n",
    "<head>\n",
    "  <meta charset=\"utf-8\">\n",
    "  <meta name=\"viewport\" content=\"width=device-width, initial-scale=1\">\n",
    "  <!-- Bootstrap CSS -->\n",
    "  <link href=\"https://cdn.jsdelivr.net/npm/bootstrap@5.0.2/dist/css/bootstrap.min.css\" rel=\"stylesheet\"\n",
    "   integrity=\"sha384-EVSTQN3/azprG1Anm3QDgpJLIm9Nao0Yz1ztcQTwFspd3yD65VohhpuuCOmLASjC\" crossorigin=\"anonymous\">\n",
    "  <!-- highlight.js CSS -->\n",
    "  <link rel=\"stylesheet\" href=\"https://cdnjs.cloudflare.com/ajax/libs/highlight.js/11.1.0/styles/default.min.css\">\n",
    "  <!-- Mathjax 3 -->\n",
    "  <script type=\"text/javascript\" id=\"MathJax-config\" src=\"mathjax_config.js\"> </script>\n",
    "  <script type=\"text/javascript\" id=\"MathJax-script\" async \n",
    "    src=\"https://cdn.jsdelivr.net/npm/mathjax@3/es5/tex-mml-chtml.js\">\n",
    "  </script>\n",
    "  <link rel=\"stylesheet\" href=\"index_carousel.css\">\n",
    "  <link rel=\"icon\" type=\"image/x-icon\" href=\"https://www.mpia.de/assets/touch-icon-32x32-a66937bcebc4e8894ebff1f41a366c7c7220fd97a38869ee0f2db65a9f59b6c1.png\">\n",
    "  <title>MPIA Arxiv on deck!</title>\n",
    "</head>\n",
    "\n",
    "<body>\n",
    "  <div id=\"header\"> <img src=\"header_banner.png\" width=\"100%\"></div>\n",
    "  <div id=\"suptitle\"> 7-day archives </div>\n",
    "  <div id=\"info\">\n",
    "    <img src=\"https://pngimg.com/uploads/github/github_PNG58.png\" height=30rem></img>\n",
    "    <a href=https://github.com/mpi-astronomy/arxiv_display style=\"color:black;\">github/mpi-astronomy/arxiv_display</a> \n",
    "  </div>\n",
    "  {carousel:s}\n",
    "</body>\n",
    "\n",
    "<!-- Render Markdown -->\n",
    "\n",
    "<body>\n",
    "  <!-- highlight.js: https://highlightjs.org/download/ -->\n",
    "  <script src=\"https://cdnjs.cloudflare.com/ajax/libs/highlight.js/11.5.0/highlight.min.js\"></script>\n",
    "  <!-- marked.js -->\n",
    "  <script src=\"https://cdn.jsdelivr.net/npm/marked/marked.min.js\"></script>\n",
    "  <script>{script:s}</script>\n",
    "</body>\n",
    "</html>\n",
    "\"\"\"\n",
    "with open(\"_build/html/index_7days.html\", 'w') as fout:\n",
    "    fout.write(page)"
   ]
  },
  {
   "cell_type": "markdown",
   "id": "1cebacbc",
   "metadata": {
    "papermill": {
     "duration": 0.010475,
     "end_time": "2022-11-10T04:31:07.308919",
     "exception": false,
     "start_time": "2022-11-10T04:31:07.298444",
     "status": "completed"
    },
    "tags": []
   },
   "source": [
    "# Debugging papers"
   ]
  },
  {
   "cell_type": "raw",
   "id": "debe7cc6",
   "metadata": {
    "papermill": {
     "duration": 0.010431,
     "end_time": "2022-11-10T04:31:07.356927",
     "exception": false,
     "start_time": "2022-11-10T04:31:07.346496",
     "status": "completed"
    },
    "tags": []
   },
   "source": [
    "raise NotImplementedError(\"Manual Stop\")"
   ]
  },
  {
   "cell_type": "raw",
   "id": "eb169192",
   "metadata": {
    "papermill": {
     "duration": 0.010483,
     "end_time": "2022-11-10T04:31:07.377901",
     "exception": false,
     "start_time": "2022-11-10T04:31:07.367418",
     "status": "completed"
    },
    "scrolled": true,
    "tags": []
   },
   "source": [
    "from IPython.display import display, Markdown\n",
    "from TexSoup import TexSoup\n",
    "import re\n",
    "\n",
    "def bracket_error(source: str):\n",
    "    \"\"\" Find problematic portions of the document \"\"\"\n",
    "    \n",
    "    print(\"len(source)\", len(source))\n",
    "    \n",
    "    # Checking header\n",
    "    begin_doc = next(re.finditer(r'\\\\begin\\{document\\}', doc.source)).span()[1]\n",
    "    header = source[:begin_doc]\n",
    "    text = header + r\"\\n\\end{document}\"\n",
    "\n",
    "    try:\n",
    "        # print(\"Header check... \", end='')\n",
    "        TexSoup(text)\n",
    "        display(Markdown(f\"**[OK]** - Header\"))\n",
    "    except:\n",
    "        raise RuntimeError(\"Error in the header\")\n",
    "        \n",
    "    # Check the text per section until the end.\n",
    "    # Do not stop and try them all.\n",
    "    \n",
    "    problematic_text = []\n",
    "    \n",
    "    sections = ([(0, begin_doc, 'until first section')] + \n",
    "                [(g.span()[0], g.span()[1], g.group()) for g in re.finditer(r'\\\\section\\{.*\\}', source)] +\n",
    "                [(g.span()[0], g.span()[1], g.group()) for g in re.finditer(r'\\\\begin\\{appendix\\}', source)]\n",
    "               )\n",
    "    sections.append([len(source), len(source), 'end'])\n",
    "    \n",
    "    sections = sorted(sections, key=lambda x: x[0])\n",
    "    \n",
    "    prev_pos, prev_name = (0, 'header')\n",
    "    parsed = []\n",
    "    \n",
    "    for span, span_end, name in sections:\n",
    "\n",
    "        if span - prev_pos <= 0:\n",
    "            continue\n",
    "            \n",
    "\n",
    "        text = source[prev_pos:span]\n",
    "        if prev_pos > begin_doc:\n",
    "            text = r\"\\n\\begin{document}\" + text + r\"\\n\\end{document}\"\n",
    "        else:\n",
    "            text = text + r\"\\n\\end{document}\"\n",
    "        try:\n",
    "            #print(f\"{prev_pos}:{prev_name}-->{span}:{name} check... \", end='')\n",
    "            parsed.append(TexSoup(text, tolerance=1))  # allow not ending env\n",
    "            display(Markdown(f\"**[OK]** - *{prev_pos}*:{prev_name} &rarr; *{span}*:{name}\"))\n",
    "            # print(\"ok\")\n",
    "\n",
    "            prev_pos = span\n",
    "            prev_name = name\n",
    "        except:\n",
    "            # print(f\"error between {prev_pos} and {span}\")\n",
    "            display(Markdown(f\"**[ERR]** *{prev_pos}*:{prev_name} &rarr; *{span}*:{name}\"))\n",
    "            problematic_text.append((prev_pos, source[prev_pos:span]))\n",
    "            prev_pos = span\n",
    "            prev_name = name\n",
    "            # raise\n",
    "    return problematic_text, parsed\n",
    "\n",
    "\n",
    "def check_environment(text, offset=0):\n",
    "    \"\"\" Check environment \"\"\"\n",
    "    env = re.compile(r\"\\\\begin\\{(?P<env>.*)\\}(.*)\\\\end\\{(?P=env)\\}\", re.DOTALL)\n",
    "\n",
    "    for match in env.finditer(text):\n",
    "        beg, end = match.span()\n",
    "        beg += offset\n",
    "        end += offset\n",
    "        envname = match.groups()[0]\n",
    "        try:\n",
    "            latex.TexSoup(match.group())\n",
    "        except Exception as e:\n",
    "            display(e)\n",
    "            print(f\"Error in {envname:s} between {beg} and {end}\")\n",
    "            return match.groups()[1], beg, end"
   ]
  },
  {
   "cell_type": "raw",
   "id": "2315e835",
   "metadata": {
    "papermill": {
     "duration": 0.01,
     "end_time": "2022-11-10T04:31:07.398097",
     "exception": false,
     "start_time": "2022-11-10T04:31:07.388097",
     "status": "completed"
    },
    "scrolled": false,
    "tags": []
   },
   "source": [
    "import importlib\n",
    "importlib.reload(latex)\n",
    "which = \"2204.03253\"\n",
    "paper_id = f'{which:s}'\n",
    "folder = f'tmp_{paper_id:s}'\n",
    "\n",
    "if not os.path.isdir(folder):\n",
    "    folder = retrieve_document_source(f\"{paper_id}\", f'tmp_{paper_id}')\n",
    "\n",
    "try:\n",
    "    doc = latex.LatexDocument(folder, validation=validation)    \n",
    "except AffiliationError as affilerror:\n",
    "    msg = f\"ArXiv:{paper_id:s} is not an MPIA paper... \" + str(affilerror)\n",
    "    print(msg)\n",
    "\n",
    "\n",
    "# Hack because sometimes author parsing does not work well\n",
    "if (len(doc.authors) != len(paper['authors'])):\n",
    "    doc._authors = paper['authors']\n",
    "if (doc.abstract) in (None, ''):\n",
    "    doc._abstract = paper['abstract']\n",
    "\n",
    "doc.comment = get_markdown_badge(paper_id) + \" _\" + paper['comments'] + \"_\"\n",
    "doc.highlight_authors_in_list(hl_list)\n",
    "\n",
    "full_md = doc.generate_markdown_text()"
   ]
  },
  {
   "cell_type": "raw",
   "id": "dd3781db",
   "metadata": {
    "papermill": {
     "duration": 0.010364,
     "end_time": "2022-11-10T04:31:07.419078",
     "exception": false,
     "start_time": "2022-11-10T04:31:07.408714",
     "status": "completed"
    },
    "scrolled": false,
    "tags": []
   },
   "source": [
    "doc"
   ]
  },
  {
   "cell_type": "raw",
   "id": "c6eed834",
   "metadata": {
    "papermill": {
     "duration": 0.011499,
     "end_time": "2022-11-10T04:31:07.440653",
     "exception": false,
     "start_time": "2022-11-10T04:31:07.429154",
     "status": "completed"
    },
    "tags": []
   },
   "source": [
    "# [check_environment(k) for k in bracket_error(doc.source)]\n",
    "_, _, a = latex.get_content_per_section(doc.source, verbose=True)\n",
    "if not a:\n",
    "    print(\"no issues per section\")\n",
    "for ak in a:\n",
    "    r = check_environment(ak[1], offset=ak[0])\n",
    "    print(r[1], r[2])\n",
    "    print(r[0])"
   ]
  },
  {
   "cell_type": "code",
   "execution_count": null,
   "id": "71ce768a",
   "metadata": {
    "papermill": {
     "duration": 0.010146,
     "end_time": "2022-11-10T04:31:07.460982",
     "exception": false,
     "start_time": "2022-11-10T04:31:07.450836",
     "status": "completed"
    },
    "tags": []
   },
   "outputs": [],
   "source": []
  }
 ],
 "metadata": {
  "kernelspec": {
   "display_name": "Python 3.10.6 64-bit",
   "language": "python",
   "name": "python3"
  },
  "language_info": {
   "codemirror_mode": {
    "name": "ipython",
    "version": 3
   },
   "file_extension": ".py",
   "mimetype": "text/x-python",
   "name": "python",
   "nbconvert_exporter": "python",
   "pygments_lexer": "ipython3",
   "version": "3.9.15"
  },
  "papermill": {
   "default_parameters": {},
   "duration": 162.380175,
   "end_time": "2022-11-10T04:31:07.690643",
   "environment_variables": {},
   "exception": null,
   "input_path": "MPIA daily digest.ipynb",
   "output_path": "log.ipynb",
   "parameters": {},
   "start_time": "2022-11-10T04:28:25.310468",
   "version": "2.4.0"
  },
  "vscode": {
   "interpreter": {
    "hash": "e7370f93d1d0cde622a1f8e1c04877d8463912d04d973331ad4851f04de6915a"
   }
  },
  "widgets": {
   "application/vnd.jupyter.widget-state+json": {
    "state": {
     "440bbe843e8440a3937f8b74fca2c7bc": {
      "model_module": "@jupyter-widgets/base",
      "model_module_version": "2.0.0",
      "model_name": "LayoutModel",
      "state": {
       "_model_module": "@jupyter-widgets/base",
       "_model_module_version": "2.0.0",
       "_model_name": "LayoutModel",
       "_view_count": null,
       "_view_module": "@jupyter-widgets/base",
       "_view_module_version": "2.0.0",
       "_view_name": "LayoutView",
       "align_content": null,
       "align_items": null,
       "align_self": null,
       "border_bottom": null,
       "border_left": null,
       "border_right": null,
       "border_top": null,
       "bottom": null,
       "display": null,
       "flex": null,
       "flex_flow": null,
       "grid_area": null,
       "grid_auto_columns": null,
       "grid_auto_flow": null,
       "grid_auto_rows": null,
       "grid_column": null,
       "grid_gap": null,
       "grid_row": null,
       "grid_template_areas": null,
       "grid_template_columns": null,
       "grid_template_rows": null,
       "height": null,
       "justify_content": null,
       "justify_items": null,
       "left": null,
       "margin": null,
       "max_height": null,
       "max_width": null,
       "min_height": null,
       "min_width": null,
       "object_fit": null,
       "object_position": null,
       "order": null,
       "overflow": null,
       "padding": null,
       "right": null,
       "top": null,
       "visibility": null,
       "width": null
      }
     },
     "4d07f158434541b4975f64d18b9f234f": {
      "model_module": "@jupyter-widgets/controls",
      "model_module_version": "2.0.0",
      "model_name": "HTMLStyleModel",
      "state": {
       "_model_module": "@jupyter-widgets/controls",
       "_model_module_version": "2.0.0",
       "_model_name": "HTMLStyleModel",
       "_view_count": null,
       "_view_module": "@jupyter-widgets/base",
       "_view_module_version": "2.0.0",
       "_view_name": "StyleView",
       "background": null,
       "description_width": "",
       "font_size": null,
       "text_color": null
      }
     },
     "60b2958b80b240d1a2719a81554dd6b1": {
      "model_module": "@jupyter-widgets/controls",
      "model_module_version": "2.0.0",
      "model_name": "HTMLModel",
      "state": {
       "_dom_classes": [],
       "_model_module": "@jupyter-widgets/controls",
       "_model_module_version": "2.0.0",
       "_model_name": "HTMLModel",
       "_view_count": null,
       "_view_module": "@jupyter-widgets/controls",
       "_view_module_version": "2.0.0",
       "_view_name": "HTMLView",
       "description": "",
       "description_allow_html": false,
       "layout": "IPY_MODEL_feaace9826e84d77bb8313e417b05289",
       "placeholder": "​",
       "style": "IPY_MODEL_4d07f158434541b4975f64d18b9f234f",
       "tabbable": null,
       "tooltip": null,
       "value": " 21/21 [02:07&lt;00:00, 15.24s/it]"
      }
     },
     "6c608311974645af81de6d2e47f2053a": {
      "model_module": "@jupyter-widgets/base",
      "model_module_version": "2.0.0",
      "model_name": "LayoutModel",
      "state": {
       "_model_module": "@jupyter-widgets/base",
       "_model_module_version": "2.0.0",
       "_model_name": "LayoutModel",
       "_view_count": null,
       "_view_module": "@jupyter-widgets/base",
       "_view_module_version": "2.0.0",
       "_view_name": "LayoutView",
       "align_content": null,
       "align_items": null,
       "align_self": null,
       "border_bottom": null,
       "border_left": null,
       "border_right": null,
       "border_top": null,
       "bottom": null,
       "display": null,
       "flex": null,
       "flex_flow": null,
       "grid_area": null,
       "grid_auto_columns": null,
       "grid_auto_flow": null,
       "grid_auto_rows": null,
       "grid_column": null,
       "grid_gap": null,
       "grid_row": null,
       "grid_template_areas": null,
       "grid_template_columns": null,
       "grid_template_rows": null,
       "height": null,
       "justify_content": null,
       "justify_items": null,
       "left": null,
       "margin": null,
       "max_height": null,
       "max_width": null,
       "min_height": null,
       "min_width": null,
       "object_fit": null,
       "object_position": null,
       "order": null,
       "overflow": null,
       "padding": null,
       "right": null,
       "top": null,
       "visibility": null,
       "width": null
      }
     },
     "7f3a632a63c74d0195c942d8c2c5eb2b": {
      "model_module": "@jupyter-widgets/controls",
      "model_module_version": "2.0.0",
      "model_name": "HTMLStyleModel",
      "state": {
       "_model_module": "@jupyter-widgets/controls",
       "_model_module_version": "2.0.0",
       "_model_name": "HTMLStyleModel",
       "_view_count": null,
       "_view_module": "@jupyter-widgets/base",
       "_view_module_version": "2.0.0",
       "_view_name": "StyleView",
       "background": null,
       "description_width": "",
       "font_size": null,
       "text_color": null
      }
     },
     "825bffb7647640f1a9a8fcc9586b4fa1": {
      "model_module": "@jupyter-widgets/controls",
      "model_module_version": "2.0.0",
      "model_name": "ProgressStyleModel",
      "state": {
       "_model_module": "@jupyter-widgets/controls",
       "_model_module_version": "2.0.0",
       "_model_name": "ProgressStyleModel",
       "_view_count": null,
       "_view_module": "@jupyter-widgets/base",
       "_view_module_version": "2.0.0",
       "_view_name": "StyleView",
       "bar_color": null,
       "description_width": ""
      }
     },
     "869ef6175f6a436c94525bf84ac75f1f": {
      "model_module": "@jupyter-widgets/controls",
      "model_module_version": "2.0.0",
      "model_name": "HBoxModel",
      "state": {
       "_dom_classes": [],
       "_model_module": "@jupyter-widgets/controls",
       "_model_module_version": "2.0.0",
       "_model_name": "HBoxModel",
       "_view_count": null,
       "_view_module": "@jupyter-widgets/controls",
       "_view_module_version": "2.0.0",
       "_view_name": "HBoxView",
       "box_style": "",
       "children": [
        "IPY_MODEL_c0614b8898e04c26bb0723f961f01956",
        "IPY_MODEL_8bb781e8e8024f15ab8e90371d1251b9",
        "IPY_MODEL_60b2958b80b240d1a2719a81554dd6b1"
       ],
       "layout": "IPY_MODEL_6c608311974645af81de6d2e47f2053a",
       "tabbable": null,
       "tooltip": null
      }
     },
     "8bb781e8e8024f15ab8e90371d1251b9": {
      "model_module": "@jupyter-widgets/controls",
      "model_module_version": "2.0.0",
      "model_name": "FloatProgressModel",
      "state": {
       "_dom_classes": [],
       "_model_module": "@jupyter-widgets/controls",
       "_model_module_version": "2.0.0",
       "_model_name": "FloatProgressModel",
       "_view_count": null,
       "_view_module": "@jupyter-widgets/controls",
       "_view_module_version": "2.0.0",
       "_view_name": "ProgressView",
       "bar_style": "success",
       "description": "",
       "description_allow_html": false,
       "layout": "IPY_MODEL_b2f8684eaf3e4ffca3550191a0092389",
       "max": 21.0,
       "min": 0.0,
       "orientation": "horizontal",
       "style": "IPY_MODEL_825bffb7647640f1a9a8fcc9586b4fa1",
       "tabbable": null,
       "tooltip": null,
       "value": 21.0
      }
     },
     "b2f8684eaf3e4ffca3550191a0092389": {
      "model_module": "@jupyter-widgets/base",
      "model_module_version": "2.0.0",
      "model_name": "LayoutModel",
      "state": {
       "_model_module": "@jupyter-widgets/base",
       "_model_module_version": "2.0.0",
       "_model_name": "LayoutModel",
       "_view_count": null,
       "_view_module": "@jupyter-widgets/base",
       "_view_module_version": "2.0.0",
       "_view_name": "LayoutView",
       "align_content": null,
       "align_items": null,
       "align_self": null,
       "border_bottom": null,
       "border_left": null,
       "border_right": null,
       "border_top": null,
       "bottom": null,
       "display": null,
       "flex": null,
       "flex_flow": null,
       "grid_area": null,
       "grid_auto_columns": null,
       "grid_auto_flow": null,
       "grid_auto_rows": null,
       "grid_column": null,
       "grid_gap": null,
       "grid_row": null,
       "grid_template_areas": null,
       "grid_template_columns": null,
       "grid_template_rows": null,
       "height": null,
       "justify_content": null,
       "justify_items": null,
       "left": null,
       "margin": null,
       "max_height": null,
       "max_width": null,
       "min_height": null,
       "min_width": null,
       "object_fit": null,
       "object_position": null,
       "order": null,
       "overflow": null,
       "padding": null,
       "right": null,
       "top": null,
       "visibility": null,
       "width": null
      }
     },
     "c0614b8898e04c26bb0723f961f01956": {
      "model_module": "@jupyter-widgets/controls",
      "model_module_version": "2.0.0",
      "model_name": "HTMLModel",
      "state": {
       "_dom_classes": [],
       "_model_module": "@jupyter-widgets/controls",
       "_model_module_version": "2.0.0",
       "_model_name": "HTMLModel",
       "_view_count": null,
       "_view_module": "@jupyter-widgets/controls",
       "_view_module_version": "2.0.0",
       "_view_name": "HTMLView",
       "description": "",
       "description_allow_html": false,
       "layout": "IPY_MODEL_440bbe843e8440a3937f8b74fca2c7bc",
       "placeholder": "​",
       "style": "IPY_MODEL_7f3a632a63c74d0195c942d8c2c5eb2b",
       "tabbable": null,
       "tooltip": null,
       "value": "100%"
      }
     },
     "feaace9826e84d77bb8313e417b05289": {
      "model_module": "@jupyter-widgets/base",
      "model_module_version": "2.0.0",
      "model_name": "LayoutModel",
      "state": {
       "_model_module": "@jupyter-widgets/base",
       "_model_module_version": "2.0.0",
       "_model_name": "LayoutModel",
       "_view_count": null,
       "_view_module": "@jupyter-widgets/base",
       "_view_module_version": "2.0.0",
       "_view_name": "LayoutView",
       "align_content": null,
       "align_items": null,
       "align_self": null,
       "border_bottom": null,
       "border_left": null,
       "border_right": null,
       "border_top": null,
       "bottom": null,
       "display": null,
       "flex": null,
       "flex_flow": null,
       "grid_area": null,
       "grid_auto_columns": null,
       "grid_auto_flow": null,
       "grid_auto_rows": null,
       "grid_column": null,
       "grid_gap": null,
       "grid_row": null,
       "grid_template_areas": null,
       "grid_template_columns": null,
       "grid_template_rows": null,
       "height": null,
       "justify_content": null,
       "justify_items": null,
       "left": null,
       "margin": null,
       "max_height": null,
       "max_width": null,
       "min_height": null,
       "min_width": null,
       "object_fit": null,
       "object_position": null,
       "order": null,
       "overflow": null,
       "padding": null,
       "right": null,
       "top": null,
       "visibility": null,
       "width": null
      }
     }
    },
    "version_major": 2,
    "version_minor": 0
   }
  }
 },
 "nbformat": 4,
 "nbformat_minor": 5
}