{
 "cells": [
  {
   "cell_type": "markdown",
   "id": "92bcb855",
   "metadata": {
    "papermill": {
     "duration": 0.005103,
     "end_time": "2022-11-14T04:26:41.067303",
     "exception": false,
     "start_time": "2022-11-14T04:26:41.062200",
     "status": "completed"
    },
    "tags": []
   },
   "source": [
    "# MPIA Arxiv on Deck 2\n",
    "\n",
    "Contains the steps to produce the paper extractions."
   ]
  },
  {
   "cell_type": "code",
   "execution_count": 1,
   "id": "3a0d6e11",
   "metadata": {
    "execution": {
     "iopub.execute_input": "2022-11-14T04:26:41.077501Z",
     "iopub.status.busy": "2022-11-14T04:26:41.076798Z",
     "iopub.status.idle": "2022-11-14T04:26:41.241915Z",
     "shell.execute_reply": "2022-11-14T04:26:41.241281Z"
    },
    "papermill": {
     "duration": 0.172063,
     "end_time": "2022-11-14T04:26:41.243747",
     "exception": false,
     "start_time": "2022-11-14T04:26:41.071684",
     "status": "completed"
    },
    "tags": []
   },
   "outputs": [],
   "source": [
    "# Imports\n",
    "import os\n",
    "from IPython.display import Markdown, display\n",
    "from tqdm.notebook import tqdm\n",
    "import warnings\n",
    "from PIL import Image \n",
    "\n",
    "# requires arxiv_on_deck_2\n",
    "\n",
    "from arxiv_on_deck_2.arxiv2 import (get_new_papers, \n",
    "                                    get_paper_from_identifier,\n",
    "                                    retrieve_document_source, \n",
    "                                    get_markdown_badge)\n",
    "from arxiv_on_deck_2 import (latex, \n",
    "                             mpia,\n",
    "                             highlight_authors_in_list)\n",
    "\n",
    "# Sometimes images are really big\n",
    "Image.MAX_IMAGE_PIXELS = 1000000000 "
   ]
  },
  {
   "cell_type": "code",
   "execution_count": 2,
   "id": "22aa9d44",
   "metadata": {
    "execution": {
     "iopub.execute_input": "2022-11-14T04:26:41.255040Z",
     "iopub.status.busy": "2022-11-14T04:26:41.254560Z",
     "iopub.status.idle": "2022-11-14T04:26:41.259414Z",
     "shell.execute_reply": "2022-11-14T04:26:41.258757Z"
    },
    "papermill": {
     "duration": 0.011342,
     "end_time": "2022-11-14T04:26:41.260884",
     "exception": false,
     "start_time": "2022-11-14T04:26:41.249542",
     "status": "completed"
    },
    "tags": []
   },
   "outputs": [],
   "source": [
    "# Some useful definitions.\n",
    "\n",
    "class AffiliationWarning(UserWarning):\n",
    "    pass\n",
    "\n",
    "class AffiliationError(RuntimeError):\n",
    "    pass\n",
    "\n",
    "def validation(source: str):\n",
    "    \"\"\"Raises error paper during parsing of source file\n",
    "    \n",
    "    Allows checks before parsing TeX code.\n",
    "    \n",
    "    Raises AffiliationWarning\n",
    "    \"\"\"\n",
    "    check = mpia.affiliation_verifications(source, verbose=True)\n",
    "    if check is not True:\n",
    "        raise AffiliationError(\"mpia.affiliation_verifications: \" + check)\n",
    "\n",
    "        \n",
    "warnings.simplefilter('always', AffiliationWarning)"
   ]
  },
  {
   "cell_type": "code",
   "execution_count": 3,
   "id": "14622700",
   "metadata": {
    "execution": {
     "iopub.execute_input": "2022-11-14T04:26:41.269644Z",
     "iopub.status.busy": "2022-11-14T04:26:41.269437Z",
     "iopub.status.idle": "2022-11-14T04:26:41.273126Z",
     "shell.execute_reply": "2022-11-14T04:26:41.272522Z"
    },
    "papermill": {
     "duration": 0.010146,
     "end_time": "2022-11-14T04:26:41.274873",
     "exception": false,
     "start_time": "2022-11-14T04:26:41.264727",
     "status": "completed"
    },
    "tags": []
   },
   "outputs": [],
   "source": [
    "# additional CSS to consider. \n",
    "# TODO: Current into each exported file. \n",
    "#       This should be set once into the webpages directly.\n",
    "#       With only the class/id definitions in the .md files.\n",
    "\n",
    "debug_html = \"\"\"\n",
    "<style>\n",
    "#wrap{ overflow:auto; }\n",
    "#fig1{ background:yellow; width:100%; float:left; padding:5px;  }\n",
    "#fig2{ background:red; width:50%; float:left; clear:left; padding:5px;  }\n",
    "#fig3{ background:green; width:50%; float:left; padding:5px;   }\n",
    ".macros{ background:yellow; visibility:visible;}\n",
    "h1 {margin: 0 0 0 0;}\n",
    "mark {background-color:#fff3b6;}\n",
    "img {object-fit:contain; max-height:250px; display:inline-block; text-align: center;}\n",
    "</style>\n",
    "\"\"\" \n",
    "html = \"\"\"\n",
    "<style>\n",
    "#wrap{ overflow:auto; }\n",
    "#fig1{ width:100%; float:left; padding: 5px;  }\n",
    "#fig2{ width:50%; float:left; clear:left; padding: 5px;  }\n",
    "#fig3{ width:50%; float:left; padding: 5px;  }\n",
    ".macros{ visibility:hidden; height:0px; }\n",
    "h1 {margin: 0em 0 0 0;}\n",
    "mark {background-color:#fff3b6;}\n",
    "img {object-fit:contain; max-height:250px; display:inline-block; text-align: center;}\n",
    "</style>\n",
    "\"\"\""
   ]
  },
  {
   "cell_type": "markdown",
   "id": "14bd6310",
   "metadata": {
    "papermill": {
     "duration": 0.003861,
     "end_time": "2022-11-14T04:26:41.282568",
     "exception": false,
     "start_time": "2022-11-14T04:26:41.278707",
     "status": "completed"
    },
    "tags": []
   },
   "source": [
    "## get list of arxiv paper candidates\n",
    "\n",
    "We use the MPIA mitarbeiter list webpage from mpia.de to get author names\n",
    "We then get all new papers from Arxiv and match authors"
   ]
  },
  {
   "cell_type": "code",
   "execution_count": 4,
   "id": "2645e73a",
   "metadata": {
    "execution": {
     "iopub.execute_input": "2022-11-14T04:26:41.291681Z",
     "iopub.status.busy": "2022-11-14T04:26:41.291249Z",
     "iopub.status.idle": "2022-11-14T04:27:07.113595Z",
     "shell.execute_reply": "2022-11-14T04:27:07.112931Z"
    },
    "papermill": {
     "duration": 25.828827,
     "end_time": "2022-11-14T04:27:07.115309",
     "exception": false,
     "start_time": "2022-11-14T04:26:41.286482",
     "status": "completed"
    },
    "tags": []
   },
   "outputs": [
    {
     "name": "stdout",
     "output_type": "stream",
     "text": [
      "Arxiv has 61 new papers today\n",
      "          23 with possible author matches\n"
     ]
    }
   ],
   "source": [
    "# get list from MPIA website\n",
    "# it automatically filters identified non-scientists :func:`mpia.filter_non_scientists`\n",
    "mpia_authors = mpia.get_mpia_mitarbeiter_list()\n",
    "new_papers = get_new_papers()\n",
    "# add manual references\n",
    "add_paper_refs = []\n",
    "new_papers.extend([get_paper_from_identifier(k) for k in add_paper_refs])\n",
    "\n",
    "# select only papers with matching author names and highlight authors\n",
    "hl_list = [k[0] for k in mpia_authors]\n",
    "\n",
    "candidates = []\n",
    "for paperk in new_papers:\n",
    "    hl_authors = highlight_authors_in_list(paperk['authors'], hl_list)\n",
    "    matches = [(hl, orig) for hl, orig in zip(hl_authors, paperk['authors']) if 'mark' in hl]\n",
    "    paperk['authors'] = hl_authors\n",
    "    if matches:\n",
    "        candidates.append(paperk)\n",
    "print(\"\"\"Arxiv has {0:,d} new papers today\"\"\".format(len(new_papers)))        \n",
    "print(\"\"\"          {0:,d} with possible author matches\"\"\".format(len(candidates)))"
   ]
  },
  {
   "cell_type": "markdown",
   "id": "3543b34a",
   "metadata": {
    "papermill": {
     "duration": 0.004296,
     "end_time": "2022-11-14T04:27:07.123971",
     "exception": false,
     "start_time": "2022-11-14T04:27:07.119675",
     "status": "completed"
    },
    "tags": []
   },
   "source": [
    "# Parse sources and generate relevant outputs\n",
    "\n",
    "From the candidates, we do the following steps:\n",
    "* get their tarball from ArXiv (and extract data)\n",
    "* find the main .tex file: find one with \\documentclass{...} (sometimes it's non trivial)\n",
    "* Check affiliations with :func:`validation`, which uses :func:`mpia.affiliation_verifications`\n",
    "* If passing the affiliations: we parse the .tex source\n",
    "   * inject sub-documents into the main (flatten the main document)\n",
    "   * parse structure, extract information (title, abstract, authors, figures...)\n",
    "   * handles `\\graphicspath` if provided\n",
    "* Generate the .md document."
   ]
  },
  {
   "cell_type": "code",
   "execution_count": 5,
   "id": "9576b79e",
   "metadata": {
    "execution": {
     "iopub.execute_input": "2022-11-14T04:27:07.133090Z",
     "iopub.status.busy": "2022-11-14T04:27:07.132844Z",
     "iopub.status.idle": "2022-11-14T04:28:59.654300Z",
     "shell.execute_reply": "2022-11-14T04:28:59.653723Z"
    },
    "papermill": {
     "duration": 112.528217,
     "end_time": "2022-11-14T04:28:59.656119",
     "exception": false,
     "start_time": "2022-11-14T04:27:07.127902",
     "status": "completed"
    },
    "scrolled": false,
    "tags": []
   },
   "outputs": [
    {
     "data": {
      "application/vnd.jupyter.widget-view+json": {
       "model_id": "71157e630a6b4dd8a119c15bd4f6c44a",
       "version_major": 2,
       "version_minor": 0
      },
      "text/plain": [
       "  0%|          | 0/22 [00:00<?, ?it/s]"
      ]
     },
     "metadata": {},
     "output_type": "display_data"
    },
    {
     "name": "stdout",
     "output_type": "stream",
     "text": [
      "Retrieving document from  https://arxiv.org/e-print/2211.05792\n"
     ]
    },
    {
     "name": "stdout",
     "output_type": "stream",
     "text": [
      "extracting tarball to tmp_2211.05792..."
     ]
    },
    {
     "name": "stdout",
     "output_type": "stream",
     "text": [
      " done.\n",
      "Retrieving document from  https://arxiv.org/e-print/2211.05799\n"
     ]
    },
    {
     "name": "stderr",
     "output_type": "stream",
     "text": [
      "/opt/hostedtoolcache/Python/3.9.15/x64/lib/python3.9/site-packages/IPython/core/interactiveshell.py:3433: LatexWarning: Multiple tex files.\n",
      "\n",
      "  exec(code_obj, self.user_global_ns, self.user_ns)\n",
      "/opt/hostedtoolcache/Python/3.9.15/x64/lib/python3.9/site-packages/IPython/core/interactiveshell.py:3433: LatexWarning: Found documentclass in tmp_2211.05792/main.tex\n",
      "\n",
      "  exec(code_obj, self.user_global_ns, self.user_ns)\n",
      "/opt/hostedtoolcache/Python/3.9.15/x64/lib/python3.9/site-packages/arxiv_on_deck_2/latex.py:292: LatexWarning: Latex injecting: 'tab6.tex' from 'tmp_2211.05792/tab6.tex'\n",
      "  warnings.warn(LatexWarning(f\"Latex injecting: '{ext}' from '{subsource}'\"))\n",
      "/opt/hostedtoolcache/Python/3.9.15/x64/lib/python3.9/site-packages/arxiv_on_deck_2/latex.py:292: LatexWarning: Latex injecting: 'tab5.tex' from 'tmp_2211.05792/tab5.tex'\n",
      "  warnings.warn(LatexWarning(f\"Latex injecting: '{ext}' from '{subsource}'\"))\n",
      "/opt/hostedtoolcache/Python/3.9.15/x64/lib/python3.9/site-packages/arxiv_on_deck_2/latex.py:292: LatexWarning: Latex injecting: 'tab4.tex' from 'tmp_2211.05792/tab4.tex'\n",
      "  warnings.warn(LatexWarning(f\"Latex injecting: '{ext}' from '{subsource}'\"))\n",
      "/opt/hostedtoolcache/Python/3.9.15/x64/lib/python3.9/site-packages/arxiv_on_deck_2/latex.py:292: LatexWarning: Latex injecting: 'tab3.tex' from 'tmp_2211.05792/tab3.tex'\n",
      "  warnings.warn(LatexWarning(f\"Latex injecting: '{ext}' from '{subsource}'\"))\n",
      "/opt/hostedtoolcache/Python/3.9.15/x64/lib/python3.9/site-packages/arxiv_on_deck_2/latex.py:292: LatexWarning: Latex injecting: 'tab2.tex' from 'tmp_2211.05792/tab2.tex'\n",
      "  warnings.warn(LatexWarning(f\"Latex injecting: '{ext}' from '{subsource}'\"))\n",
      "/opt/hostedtoolcache/Python/3.9.15/x64/lib/python3.9/site-packages/arxiv_on_deck_2/latex.py:292: LatexWarning: Latex injecting: 'tab1.tex' from 'tmp_2211.05792/tab1.tex'\n",
      "  warnings.warn(LatexWarning(f\"Latex injecting: '{ext}' from '{subsource}'\"))\n"
     ]
    },
    {
     "name": "stdout",
     "output_type": "stream",
     "text": [
      "extracting tarball to tmp_2211.05799..."
     ]
    },
    {
     "name": "stdout",
     "output_type": "stream",
     "text": [
      " done.\n",
      "Retrieving document from  https://arxiv.org/e-print/2211.05800\n"
     ]
    },
    {
     "name": "stderr",
     "output_type": "stream",
     "text": [
      "/opt/hostedtoolcache/Python/3.9.15/x64/lib/python3.9/site-packages/IPython/core/interactiveshell.py:3433: LatexWarning: Multiple tex files.\n",
      "\n",
      "  exec(code_obj, self.user_global_ns, self.user_ns)\n",
      "/opt/hostedtoolcache/Python/3.9.15/x64/lib/python3.9/site-packages/IPython/core/interactiveshell.py:3433: LatexWarning: Found documentclass in tmp_2211.05799/latest_dh.tex\n",
      "\n",
      "  exec(code_obj, self.user_global_ns, self.user_ns)\n"
     ]
    },
    {
     "name": "stdout",
     "output_type": "stream",
     "text": [
      "extracting tarball to tmp_2211.05800..."
     ]
    },
    {
     "name": "stdout",
     "output_type": "stream",
     "text": [
      " done.\n",
      "Retrieving document from  https://arxiv.org/e-print/2211.05801\n"
     ]
    },
    {
     "name": "stdout",
     "output_type": "stream",
     "text": [
      "extracting tarball to tmp_2211.05801..."
     ]
    },
    {
     "name": "stdout",
     "output_type": "stream",
     "text": [
      " done.\n",
      "Retrieving document from  https://arxiv.org/e-print/2211.05810\n"
     ]
    },
    {
     "name": "stdout",
     "output_type": "stream",
     "text": [
      "extracting tarball to tmp_2211.05810..."
     ]
    },
    {
     "name": "stdout",
     "output_type": "stream",
     "text": [
      " done.\n",
      "Retrieving document from  https://arxiv.org/e-print/2211.05897\n"
     ]
    },
    {
     "name": "stderr",
     "output_type": "stream",
     "text": [
      "/tmp/ipykernel_2257/4030337529.py:34: LatexWarning: 2211.05897 did not run properly\n",
      "not a gzip file\n",
      "  warnings.warn(latex.LatexWarning(f\"{paper_id:s} did not run properly\\n\" +\n"
     ]
    },
    {
     "name": "stdout",
     "output_type": "stream",
     "text": [
      "Retrieving document from  https://arxiv.org/e-print/2211.05899\n"
     ]
    },
    {
     "name": "stdout",
     "output_type": "stream",
     "text": [
      "extracting tarball to tmp_2211.05899..."
     ]
    },
    {
     "name": "stdout",
     "output_type": "stream",
     "text": [
      " done.\n",
      "Retrieving document from  https://arxiv.org/e-print/2211.05938\n"
     ]
    },
    {
     "name": "stdout",
     "output_type": "stream",
     "text": [
      "extracting tarball to tmp_2211.05938..."
     ]
    },
    {
     "name": "stdout",
     "output_type": "stream",
     "text": [
      " done.\n",
      "Retrieving document from  https://arxiv.org/e-print/2211.05940\n"
     ]
    },
    {
     "name": "stderr",
     "output_type": "stream",
     "text": [
      "/opt/hostedtoolcache/Python/3.9.15/x64/lib/python3.9/site-packages/arxiv_on_deck_2/latex.py:292: LatexWarning: Latex injecting: 'ms.bbl' from 'tmp_2211.05938/ms.tex'\n",
      "  warnings.warn(LatexWarning(f\"Latex injecting: '{ext}' from '{subsource}'\"))\n"
     ]
    },
    {
     "name": "stdout",
     "output_type": "stream",
     "text": [
      "extracting tarball to tmp_2211.05940..."
     ]
    },
    {
     "name": "stdout",
     "output_type": "stream",
     "text": [
      " done.\n",
      "Retrieving document from  https://arxiv.org/e-print/2211.05972\n"
     ]
    },
    {
     "name": "stdout",
     "output_type": "stream",
     "text": [
      "extracting tarball to tmp_2211.05972..."
     ]
    },
    {
     "name": "stdout",
     "output_type": "stream",
     "text": [
      " done.\n",
      "Retrieving document from  https://arxiv.org/e-print/2211.05993\n"
     ]
    },
    {
     "name": "stdout",
     "output_type": "stream",
     "text": [
      "extracting tarball to tmp_2211.05993... done.\n",
      "Retrieving document from  https://arxiv.org/e-print/2211.05998\n"
     ]
    },
    {
     "name": "stdout",
     "output_type": "stream",
     "text": [
      "extracting tarball to tmp_2211.05998..."
     ]
    },
    {
     "name": "stdout",
     "output_type": "stream",
     "text": [
      " done.\n",
      "Retrieving document from  https://arxiv.org/e-print/2211.06002\n"
     ]
    },
    {
     "name": "stdout",
     "output_type": "stream",
     "text": [
      "extracting tarball to tmp_2211.06002..."
     ]
    },
    {
     "name": "stdout",
     "output_type": "stream",
     "text": [
      " done.\n",
      "Retrieving document from  https://arxiv.org/e-print/2211.06010\n"
     ]
    },
    {
     "name": "stdout",
     "output_type": "stream",
     "text": [
      "extracting tarball to tmp_2211.06010..."
     ]
    },
    {
     "name": "stdout",
     "output_type": "stream",
     "text": [
      " done.\n",
      "Retrieving document from  https://arxiv.org/e-print/2211.06060\n"
     ]
    },
    {
     "name": "stdout",
     "output_type": "stream",
     "text": [
      "extracting tarball to tmp_2211.06060..."
     ]
    },
    {
     "name": "stdout",
     "output_type": "stream",
     "text": [
      " done.\n",
      "Retrieving document from  https://arxiv.org/e-print/2211.06184\n"
     ]
    },
    {
     "name": "stdout",
     "output_type": "stream",
     "text": [
      "extracting tarball to tmp_2211.06184..."
     ]
    },
    {
     "name": "stdout",
     "output_type": "stream",
     "text": [
      " done.\n",
      "Retrieving document from  https://arxiv.org/e-print/2211.06194\n"
     ]
    },
    {
     "name": "stdout",
     "output_type": "stream",
     "text": [
      "extracting tarball to tmp_2211.06194..."
     ]
    },
    {
     "name": "stdout",
     "output_type": "stream",
     "text": [
      " done.\n"
     ]
    },
    {
     "name": "stderr",
     "output_type": "stream",
     "text": [
      "/opt/hostedtoolcache/Python/3.9.15/x64/lib/python3.9/site-packages/IPython/core/interactiveshell.py:3433: LatexWarning: Multiple tex files.\n",
      "\n",
      "  exec(code_obj, self.user_global_ns, self.user_ns)\n",
      "/opt/hostedtoolcache/Python/3.9.15/x64/lib/python3.9/site-packages/IPython/core/interactiveshell.py:3433: LatexWarning: Found documentclass in tmp_2211.06194/BEER_binaries_in_TESS.tex\n",
      "\n",
      "  exec(code_obj, self.user_global_ns, self.user_ns)\n"
     ]
    },
    {
     "name": "stdout",
     "output_type": "stream",
     "text": [
      "Retrieving document from  https://arxiv.org/e-print/2211.06200\n"
     ]
    },
    {
     "name": "stdout",
     "output_type": "stream",
     "text": [
      "extracting tarball to tmp_2211.06200..."
     ]
    },
    {
     "name": "stdout",
     "output_type": "stream",
     "text": [
      " done.\n",
      "Retrieving document from  https://arxiv.org/e-print/2211.06204\n"
     ]
    },
    {
     "name": "stderr",
     "output_type": "stream",
     "text": [
      "/opt/hostedtoolcache/Python/3.9.15/x64/lib/python3.9/site-packages/IPython/core/interactiveshell.py:3433: LatexWarning: Multiple tex files.\n",
      "\n",
      "  exec(code_obj, self.user_global_ns, self.user_ns)\n",
      "/opt/hostedtoolcache/Python/3.9.15/x64/lib/python3.9/site-packages/IPython/core/interactiveshell.py:3433: LatexWarning: Found documentclass in tmp_2211.06200/main.tex\n",
      "\n",
      "  exec(code_obj, self.user_global_ns, self.user_ns)\n",
      "/opt/hostedtoolcache/Python/3.9.15/x64/lib/python3.9/site-packages/arxiv_on_deck_2/latex.py:292: LatexWarning: Latex injecting: 'journals.tex' from 'tmp_2211.06200/journals.tex'\n",
      "  warnings.warn(LatexWarning(f\"Latex injecting: '{ext}' from '{subsource}'\"))\n"
     ]
    },
    {
     "name": "stdout",
     "output_type": "stream",
     "text": [
      "extracting tarball to tmp_2211.06204..."
     ]
    },
    {
     "name": "stdout",
     "output_type": "stream",
     "text": [
      " done.\n",
      "Retrieving document from  https://arxiv.org/e-print/2211.06205\n"
     ]
    },
    {
     "name": "stderr",
     "output_type": "stream",
     "text": [
      "/opt/hostedtoolcache/Python/3.9.15/x64/lib/python3.9/site-packages/IPython/core/interactiveshell.py:3433: LatexWarning: Multiple tex files.\n",
      "\n",
      "  exec(code_obj, self.user_global_ns, self.user_ns)\n",
      "/opt/hostedtoolcache/Python/3.9.15/x64/lib/python3.9/site-packages/IPython/core/interactiveshell.py:3433: LatexWarning: Found documentclass in tmp_2211.06204/main.tex\n",
      "\n",
      "  exec(code_obj, self.user_global_ns, self.user_ns)\n",
      "/opt/hostedtoolcache/Python/3.9.15/x64/lib/python3.9/site-packages/arxiv_on_deck_2/latex.py:292: LatexWarning: Latex injecting: '10_reference/reference.tex' from 'tmp_2211.06204/10_reference/reference.tex'\n",
      "  warnings.warn(LatexWarning(f\"Latex injecting: '{ext}' from '{subsource}'\"))\n",
      "/opt/hostedtoolcache/Python/3.9.15/x64/lib/python3.9/site-packages/arxiv_on_deck_2/latex.py:292: LatexWarning: Latex injecting: '9_acknowledge/acknowledge.tex' from 'tmp_2211.06204/9_acknowledge/acknowledge.tex'\n",
      "  warnings.warn(LatexWarning(f\"Latex injecting: '{ext}' from '{subsource}'\"))\n",
      "/opt/hostedtoolcache/Python/3.9.15/x64/lib/python3.9/site-packages/arxiv_on_deck_2/latex.py:292: LatexWarning: Latex injecting: '8_conclusions/conclusions.tex' from 'tmp_2211.06204/8_conclusions/conclusions.tex'\n",
      "  warnings.warn(LatexWarning(f\"Latex injecting: '{ext}' from '{subsource}'\"))\n",
      "/opt/hostedtoolcache/Python/3.9.15/x64/lib/python3.9/site-packages/arxiv_on_deck_2/latex.py:292: LatexWarning: Latex injecting: '7_Modulation/modulation.tex' from 'tmp_2211.06204/7_Modulation/modulation.tex'\n",
      "  warnings.warn(LatexWarning(f\"Latex injecting: '{ext}' from '{subsource}'\"))\n",
      "/opt/hostedtoolcache/Python/3.9.15/x64/lib/python3.9/site-packages/arxiv_on_deck_2/latex.py:292: LatexWarning: Latex injecting: '6_FV/FV.tex' from 'tmp_2211.06204/6_FV/FV.tex'\n",
      "  warnings.warn(LatexWarning(f\"Latex injecting: '{ext}' from '{subsource}'\"))\n",
      "/opt/hostedtoolcache/Python/3.9.15/x64/lib/python3.9/site-packages/arxiv_on_deck_2/latex.py:292: LatexWarning: Latex injecting: '4_dataset/dataset.tex' from 'tmp_2211.06204/4_dataset/dataset.tex'\n",
      "  warnings.warn(LatexWarning(f\"Latex injecting: '{ext}' from '{subsource}'\"))\n",
      "/opt/hostedtoolcache/Python/3.9.15/x64/lib/python3.9/site-packages/arxiv_on_deck_2/latex.py:292: LatexWarning: Latex injecting: '3_calibration/calib.tex' from 'tmp_2211.06204/3_calibration/calib.tex'\n",
      "  warnings.warn(LatexWarning(f\"Latex injecting: '{ext}' from '{subsource}'\"))\n",
      "/opt/hostedtoolcache/Python/3.9.15/x64/lib/python3.9/site-packages/arxiv_on_deck_2/latex.py:292: LatexWarning: Latex injecting: '2_detector/detector' from 'tmp_2211.06204/2_detector/detector.tex'\n",
      "  warnings.warn(LatexWarning(f\"Latex injecting: '{ext}' from '{subsource}'\"))\n",
      "/opt/hostedtoolcache/Python/3.9.15/x64/lib/python3.9/site-packages/arxiv_on_deck_2/latex.py:292: LatexWarning: Latex injecting: '1_introduction/intro.tex' from 'tmp_2211.06204/1_introduction/intro.tex'\n",
      "  warnings.warn(LatexWarning(f\"Latex injecting: '{ext}' from '{subsource}'\"))\n",
      "/opt/hostedtoolcache/Python/3.9.15/x64/lib/python3.9/site-packages/arxiv_on_deck_2/latex.py:292: LatexWarning: Latex injecting: '11_author/author.tex' from 'tmp_2211.06204/11_author/author.tex'\n",
      "  warnings.warn(LatexWarning(f\"Latex injecting: '{ext}' from '{subsource}'\"))\n"
     ]
    },
    {
     "name": "stdout",
     "output_type": "stream",
     "text": [
      "extracting tarball to tmp_2211.06205..."
     ]
    },
    {
     "name": "stdout",
     "output_type": "stream",
     "text": [
      " done.\n"
     ]
    },
    {
     "name": "stderr",
     "output_type": "stream",
     "text": [
      "/opt/hostedtoolcache/Python/3.9.15/x64/lib/python3.9/site-packages/arxiv_on_deck_2/latex.py:118: LatexWarning: attempting recovering figure TOI1695I-dc20200528-Brgamma_plot\n",
      "  warnings.warn(LatexWarning(f'attempting recovering figure {image}'))\n",
      "/opt/hostedtoolcache/Python/3.9.15/x64/lib/python3.9/site-packages/arxiv_on_deck_2/latex.py:118: LatexWarning: attempting recovering figure MassRadiusPlot\n",
      "  warnings.warn(LatexWarning(f'attempting recovering figure {image}'))\n"
     ]
    },
    {
     "name": "stdout",
     "output_type": "stream",
     "text": [
      "Retrieving document from  https://arxiv.org/e-print/2211.06354\n"
     ]
    },
    {
     "name": "stdout",
     "output_type": "stream",
     "text": [
      "extracting tarball to tmp_2211.06354..."
     ]
    },
    {
     "name": "stdout",
     "output_type": "stream",
     "text": [
      " done.\n",
      "Retrieving document from  https://arxiv.org/e-print/2211.06367\n"
     ]
    },
    {
     "name": "stdout",
     "output_type": "stream",
     "text": [
      "extracting tarball to tmp_2211.06367..."
     ]
    },
    {
     "name": "stdout",
     "output_type": "stream",
     "text": [
      " done.\n"
     ]
    }
   ],
   "source": [
    "documents = []\n",
    "failed = []\n",
    "for paper in tqdm(candidates[:-1]):\n",
    "    paper_id = paper['identifier'].lower().replace('arxiv:', '')\n",
    "    \n",
    "    folder = f'tmp_{paper_id}'\n",
    "\n",
    "    try:\n",
    "        if not os.path.isdir(folder):\n",
    "            folder = retrieve_document_source(f\"{paper_id}\", f'tmp_{paper_id}')\n",
    "        \n",
    "        try:\n",
    "            doc = latex.LatexDocument(folder, validation=validation)    \n",
    "        except AffiliationError as affilerror:\n",
    "            msg = f\"ArXiv:{paper_id:s} is not an MPIA paper... \" + str(affilerror)\n",
    "            failed.append((paper, \"affiliation error: \" + str(affilerror) ))\n",
    "            continue\n",
    "        \n",
    "        # Hack because sometimes author parsing does not work well\n",
    "        if (len(doc.authors) != len(paper['authors'])):\n",
    "            doc._authors = paper['authors']\n",
    "        if (doc.abstract) in (None, ''):\n",
    "            doc._abstract = paper['abstract']\n",
    "            \n",
    "        doc.comment = (get_markdown_badge(paper_id) + \n",
    "                       \"<mark>Appeared on: \" + paper['date'] + \"</mark> - \" +\n",
    "                       \"_\" + paper['comments'] + \"_\")\n",
    "        doc.highlight_authors_in_list(hl_list)\n",
    "\n",
    "        full_md = doc.generate_markdown_text()\n",
    "        \n",
    "        documents.append((paper_id, full_md))\n",
    "    except Exception as e:\n",
    "        warnings.warn(latex.LatexWarning(f\"{paper_id:s} did not run properly\\n\" +\n",
    "                                         str(e)\n",
    "                                        ))\n",
    "        failed.append((paper, \"latex error \" + str(e)))"
   ]
  },
  {
   "cell_type": "markdown",
   "id": "2505a25c",
   "metadata": {
    "papermill": {
     "duration": 0.006864,
     "end_time": "2022-11-14T04:28:59.669931",
     "exception": false,
     "start_time": "2022-11-14T04:28:59.663067",
     "status": "completed"
    },
    "tags": []
   },
   "source": [
    "### Export the logs\n",
    "\n",
    "Throughout, we also keep track of the logs per paper. see `logs-{today date}.md` "
   ]
  },
  {
   "cell_type": "code",
   "execution_count": 6,
   "id": "d733828a",
   "metadata": {
    "execution": {
     "iopub.execute_input": "2022-11-14T04:28:59.685016Z",
     "iopub.status.busy": "2022-11-14T04:28:59.684482Z",
     "iopub.status.idle": "2022-11-14T04:28:59.715237Z",
     "shell.execute_reply": "2022-11-14T04:28:59.714503Z"
    },
    "papermill": {
     "duration": 0.04018,
     "end_time": "2022-11-14T04:28:59.716760",
     "exception": false,
     "start_time": "2022-11-14T04:28:59.676580",
     "status": "completed"
    },
    "scrolled": false,
    "tags": []
   },
   "outputs": [
    {
     "data": {
      "text/markdown": [
       "## Successful papers"
      ],
      "text/plain": [
       "<IPython.core.display.Markdown object>"
      ]
     },
     "metadata": {},
     "output_type": "display_data"
    },
    {
     "data": {
      "text/markdown": [
       "\n",
       "|||\n",
       "|---:|:---|\n",
       "| [![arXiv](https://img.shields.io/badge/arXiv-arXiv:2211.06194-b31b1b.svg)](https://arxiv.org/abs/arXiv:2211.06194) | **15000 Ellipsoidal Binary Candidates in TESS: Orbital Periods, Binary  Fraction, and Tertiary Companions**  |\n",
       "|| <mark>Matthew J. Green</mark>, et al. -- incl., <mark>Hans-Walter Rix</mark> |\n",
       "|*Appeared on*| *2022-11-14*|\n",
       "|*Comments*| *27 pages, 21 figures, submitted to MNRAS. The associated sample data will be released alongside the accepted paper*|\n",
       "|**Abstract**| We present a homogeneously-selected sample of 15779 candidate binary systems with main sequence primary stars and orbital periods shorter than 5 days. The targets were selected from TESS full-frame image lightcurves on the basis of their tidally-induced ellipsoidal modulation. Spectroscopic follow-up suggests a sample purity of $83 \\pm 13$ per cent. Injection-recovery tests allow us to estimate our overall completeness as $28 \\pm 3$ per cent with $P_\\mathrm{orb} < 3$ days and to quantify our selection effects. We estimate that $39 \\pm 4$ per cent of our sample are contact binary systems, and we disentangle the period distributions of the contact and detached binaries. We derive the orbital period distribution of the main sequence binary population at short orbital periods, finding a distribution continuous with the log-normal distribution previously found for solar-type stars at longer periods, but with a significant steepening at $P_\\mathrm{orb} \\lesssim 3$ days, and a pile-up of contact binaries at $P_\\mathrm{orb} \\approx 0.4$ days. Companions in the period range 1--5 days are found to be an order of magnitude more frequent around stars hotter than $\\approx 6250 K$ (the Kraft break) when compared to cooler stars, suggesting that magnetic braking plays an important role in shaping the temperature and period distributions. We detect resolved tertiary companions to $9.0 \\pm 0.2$ per cent of our binaries with a median separation of 3200 AU. The frequency of tertiary companions rises to $29 \\pm 5$ per cent among the systems with the shortest ellipsoidal periods. This large binary sample with quantified selection effects will be a powerful resource for future studies of detached and contact binary systems with $P_\\mathrm{orb} < 5$ days. |"
      ],
      "text/plain": [
       "[arXiv:2211.06194] 15000 Ellipsoidal Binary Candidates in TESS: Orbital Periods, Binary  Fraction, and Tertiary Companions\n",
       "\t<mark>Matthew J. Green</mark>, et al. -- incl., <mark>Hans-Walter Rix</mark>"
      ]
     },
     "metadata": {},
     "output_type": "display_data"
    },
    {
     "data": {
      "text/markdown": [
       "\n",
       "|||\n",
       "|---:|:---|\n",
       "| [![arXiv](https://img.shields.io/badge/arXiv-arXiv:2211.06205-b31b1b.svg)](https://arxiv.org/abs/arXiv:2211.06205) | **A sub-Neptune planet around TOI-1695 discovered and characterized with  SPIRou and TESS**  |\n",
       "|| F. Kiefer, et al. -- incl., <mark>K. Hesse</mark>, <mark>H. Lewis</mark>, <mark>C.-F. Liu</mark> |\n",
       "|*Appeared on*| *2022-11-14*|\n",
       "|*Comments*| *15 pages (+9 appendix pages), 19 figures, 8 tables*|\n",
       "|**Abstract**| TOI-1695 is a V-mag=13 M-dwarf star from the northern hemisphere at 45$\\,$pc from the Sun, around which a 3.134-day periodic transit signal from a super-Earth candidate was identified in TESS photometry. With a transit depth of 1.3$\\,$mmag, the radius of candidate TOI-1695.01 was estimated by the TESS pipeline to be 1.82$\\,$R$_\\oplus$ with an equilibrium temperature of $\\sim$620$\\,$K. We successfully detect a reflex motion of the star and establish it is due to a planetary companion at an orbital period consistent with the photometric transit period thanks to a year-long radial-velocity monitoring of TOI-1695 by the SPIRou infrared spectropolarimeter. We use and compare different methods to reduce and analyse those data. We report a 5.5-$\\sigma$ detection of the planetary signal, giving a mass of $5.5$$\\pm$$1.0\\,$M$_\\oplus$ and a radius of 2.03$\\pm$0.18$\\,$R$_\\oplus$. We derive a mean equilibrium planet temperature of 590$\\pm$90$\\,$K. The mean density of this small planet of 3.6$\\pm$1.1$\\,$g$\\,$cm$^{-3}$ is similar (1.7-$\\sigma$ lower) than that of the Earth. It leads to a non-negligible fraction of volatiles in its atmosphere with $f_{H,He}$=0.28$^{+0.46}_{-0.23}$% or $f_\\text{water}$=23$\\pm$12%. TOI-1695$\\,$b is a new sub-Neptune planet at the border of the M-dwarf radius valley that can help test formation scenarios for super-Earth/sub-Neptune-like planets. |"
      ],
      "text/plain": [
       "[arXiv:2211.06205] A sub-Neptune planet around TOI-1695 discovered and characterized with  SPIRou and TESS\n",
       "\tF. Kiefer, et al. -- incl., <mark>K. Hesse</mark>, <mark>H. Lewis</mark>, <mark>C.-F. Liu</mark>"
      ]
     },
     "metadata": {},
     "output_type": "display_data"
    },
    {
     "data": {
      "text/markdown": [
       "## Failed papers"
      ],
      "text/plain": [
       "<IPython.core.display.Markdown object>"
      ]
     },
     "metadata": {},
     "output_type": "display_data"
    },
    {
     "data": {
      "text/markdown": [
       "\n",
       "|||\n",
       "|---:|:---|\n",
       "| [![arXiv](https://img.shields.io/badge/arXiv-arXiv:2211.05800-b31b1b.svg)](https://arxiv.org/abs/arXiv:2211.05800) | **Stellar population analysis of MaNGA early-type galaxies: IMF dependence  and systematic effects**  |\n",
       "|| M. Bernardi, et al. -- incl., <mark>J. R. Brownstein</mark> |\n",
       "|*Appeared on*| *2022-11-14*|\n",
       "|*Comments*| *22 pages, 23 figures, accepted for publication in MNRAS*|\n",
       "|**Abstract**| We study systematics associated with estimating simple stellar population (SSP) parameters -- age, metallicity [M/H], $\\alpha$-enhancement [$\\alpha$/Fe] and IMF shape -- and associated $M_*/L$ gradients, of elliptical slow rotators (E-SRs), fast rotators (E-FRs) and S0s from stacked spectra of galaxies in the MaNGA survey. These systematics arise from (i) how one normalizes the spectra when stacking; (ii) having to subtract emission before estimating absorption line strengths; (iii) the decision to fit the whole spectrum or just a few absorption lines; (iv) SSP model differences (e.g. isochrones, enrichment, IMF). The MILES+Padova SSP models, fit to the H$_\\beta$, $\\langle$Fe$\\rangle$, TiO$_{\\rm 2SDSS}$ and [MgFe] Lick indices in the stacks, indicate that out to the half-light radius $R_e$: (a) ages are younger and [$\\alpha$/Fe] values are lower in the central regions but the opposite is true of [M/H]; (b) the IMF is more bottom-heavy in the center, but is close to Kroupa beyond about $R_e/2$; (c) this makes $M_*/L$ about $2\\times$ larger in the central regions than beyond $R_e/2$. While the models of Conroy et al. (2018) return similar [M/H] and [$\\alpha$/Fe] profiles, the age and (hence) $M_*/L$ profiles can differ significantly even for solar abundances and a Kroupa IMF; different responses to non-solar abundances and IMF parametrization further compound these differences. There are clear (model independent) differences between E-SRs, E-FRs and S0s: younger ages and less enhanced [$\\alpha$/Fe] values suggest that E-FRs and S0s are not SSPs, but relaxing this assumption is unlikely to change their inferred $M_*/L$ gradients significantly. |\n",
       "|<p style=\"color:green\"> **ERROR** </p>| <p style=\"color:green\">affiliation error: mpia.affiliation_verifications: '69117' keyword not found.</p> |"
      ],
      "text/plain": [
       "<IPython.core.display.Markdown object>"
      ]
     },
     "metadata": {},
     "output_type": "display_data"
    },
    {
     "data": {
      "text/markdown": [
       "\n",
       "|||\n",
       "|---:|:---|\n",
       "| [![arXiv](https://img.shields.io/badge/arXiv-arXiv:2211.05792-b31b1b.svg)](https://arxiv.org/abs/arXiv:2211.05792) | **CEERS Key Paper I: An Early Look into the First 500 Myr of Galaxy  Formation with JWST**  |\n",
       "|| Steven L. Finkelstein, et al. -- incl., <mark>Henry C. Ferguson</mark>, <mark>Lisa J. Kewley</mark> |\n",
       "|*Appeared on*| *2022-11-14*|\n",
       "|*Comments*| *41 pages, 20 figures, 6 tables, submitted to ApJL. Key results in Figures 13-15, discussed in Sections 7 and 8*|\n",
       "|**Abstract**| We present an investigation into the first 500 Myr of galaxy evolution from the Cosmic Evolution Early Release Science (CEERS) survey. CEERS, one of 13 JWST ERS programs, targets galaxy formation from z~0.5 to z>10 using several imaging and spectroscopic modes. We make use of the first epoch of CEERS NIRCam imaging, spanning 35.5 sq. arcmin, to search for candidate galaxies at z>9. Following a detailed data reduction process implementing several custom steps to produce high-quality reduced images, we perform multi-band photometry across seven NIRCam broad and medium-band (and six Hubble broadband) filters focusing on robust colors and accurate total fluxes. We measure photometric redshifts and devise a robust set of selection criteria to identify a sample of 26 galaxy candidates at z~9-16. These objects are compact with a median half-light radius of ~0.5 kpc. We present an early estimate of the z~11 rest-frame ultraviolet (UV) luminosity function, finding that the number density of galaxies at M_UV ~ -20 appears to evolve very little from z~9 to z~11. We also find that the abundance (surface density [arcmin^-2]) of our candidates exceeds nearly all theoretical predictions. We explore potential implications, including that at z>10 star formation may be dominated by top-heavy initial mass functions, which would result in an increased ratio of UV light per unit halo mass, though a complete lack of dust attenuation and/or changing star-formation physics may also play a role. While spectroscopic confirmation of these sources is urgently required, our results suggest that the deeper views to come with JWST should yield prolific samples of ultra-high-redshift galaxies with which to further explore these conclusions. |\n",
       "|<p style=\"color:green\"> **ERROR** </p>| <p style=\"color:green\">affiliation error: mpia.affiliation_verifications: 'Heidelberg' keyword not found.</p> |"
      ],
      "text/plain": [
       "<IPython.core.display.Markdown object>"
      ]
     },
     "metadata": {},
     "output_type": "display_data"
    },
    {
     "data": {
      "text/markdown": [
       "\n",
       "|||\n",
       "|---:|:---|\n",
       "| [![arXiv](https://img.shields.io/badge/arXiv-arXiv:2211.05799-b31b1b.svg)](https://arxiv.org/abs/arXiv:2211.05799) | **The observable properties of galaxy accretion events in Milky Way-like  galaxies in the FIRE-2 cosmological simulations**  |\n",
       "|| Danny Horta, et al. -- incl., <mark>Robyn E. Sanderson</mark>, <mark>Lina Necib</mark>, <mark>Andrew Wetzel</mark> |\n",
       "|*Appeared on*| *2022-11-14*|\n",
       "|*Comments*| *Submitted for publication in ApJ*|\n",
       "|**Abstract**| In the $\\Lambda$-Cold Dark Matter model of the Universe, galaxies form in part through accreting satellite systems. Previous work have built an understanding of the signatures of these processes contained within galactic stellar halos. This work revisits that picture using seven Milky Way-like galaxies in the \\textit{Latte} suite of FIRE-2 cosmological simulations. The resolution of these simulations allows a comparison of contributions from satellites above M$_{*}$$\\gtrsim$10$\\times$$^{7}$M$_{\\odot}$, enabling the analysis of observable properties for disrupted satellites in a fully self-consistent and cosmological context. Our results show that, the time of accretion and the stellar mass of an accreted satellite are fundamental parameters that in partnership dictate the resulting spatial distribution, orbital energy, and [$\\alpha$/Fe]-[Fe/H] compositions of the stellar debris of such mergers $at$ $present$ $day$. These parameters also govern the resulting dynamical state of an accreted galaxy at $z=0$, leading to the expectation that the inner regions of the stellar halo (R$_{\\mathrm{GC}}$ $\\lesssim$30 kpc) should contain fully phase-mixed debris from both lower and higher mass satellites. In addition, we find that a significant fraction of the lower mass satellites accreted at early times deposit debris in the outer halo (R$_{\\mathrm{GC}}$ $>$50 kpc) that are $not$ fully phased-mixed, indicating that they could be identified in kinematic surveys. Our results suggest that, as future surveys become increasingly able to map the outer halo of our Galaxy, they may reveal the remnants of long-dead dwarf galaxies whose counterparts are too faint to be seen $in$ $situ$ in higher redshift surveys. |\n",
       "|<p style=\"color:green\"> **ERROR** </p>| <p style=\"color:green\">affiliation error: mpia.affiliation_verifications: 'Heidelberg' keyword not found.</p> |"
      ],
      "text/plain": [
       "<IPython.core.display.Markdown object>"
      ]
     },
     "metadata": {},
     "output_type": "display_data"
    },
    {
     "data": {
      "text/markdown": [
       "\n",
       "|||\n",
       "|---:|:---|\n",
       "| [![arXiv](https://img.shields.io/badge/arXiv-arXiv:2211.05801-b31b1b.svg)](https://arxiv.org/abs/arXiv:2211.05801) | **Searching for converging flows of atomic gas onto a molecular cloud**  |\n",
       "|| <mark>Mark Heyer</mark>, et al. |\n",
       "|*Appeared on*| *2022-11-14*|\n",
       "|*Comments*| *11 pages, 7 figures, accepted by ApJ*|\n",
       "|**Abstract**| We present new observations of [CII] fine structure line emission from an isolated molecular cloud using the upGREAT instrument onboard SOFIA. These data are analyzed together with archival CO=1-0 and HI 21 cm emission spectra to investigate the role of converging atomic gas flows in the formation of molecular clouds. Bright [CII] emission is detected throughout the mapped area that likely originates from photodissociation regions excited by UV radiation fields produced by newborn stars within the cloud. Upon spatial averaging of the [CII] spectra, we identify weak [CII] emission within velocity intervals where the HI 21 cm line is brightest; these are blue-shifted relative to velocities of the CO and bright [CII] emission by 4 km/s. The brightness temperatures, velocity dispersions, and alignment with HI 21 cm velocities connect this [CII] emission component to the cold, neutral atomic gas of the interstellar medium (CNM). We propose that this CNM feature is an accretion flow onto the far--side of the existing molecular cloud. The mass infall rate is 3.2x10**{-4} Msun/yr. There is no direct evidence of a comparable red--shifted component in the [CII] or HI 21 cm spectral lines that would indicate the presence of a converging flow. |\n",
       "|<p style=\"color:green\"> **ERROR** </p>| <p style=\"color:green\">affiliation error: mpia.affiliation_verifications: 'Heidelberg' keyword not found.</p> |"
      ],
      "text/plain": [
       "<IPython.core.display.Markdown object>"
      ]
     },
     "metadata": {},
     "output_type": "display_data"
    },
    {
     "data": {
      "text/markdown": [
       "\n",
       "|||\n",
       "|---:|:---|\n",
       "| [![arXiv](https://img.shields.io/badge/arXiv-arXiv:2211.05810-b31b1b.svg)](https://arxiv.org/abs/arXiv:2211.05810) | **A short gamma-ray burst from a proto-magnetar remnant**  |\n",
       "|| N. Jordana-Mitjans, et al. -- incl., <mark>R. J. Smith</mark>, <mark>B. Rothberg</mark> |\n",
       "|*Appeared on*| *2022-11-14*|\n",
       "|*Comments*| **|\n",
       "|**Abstract**| The contemporaneous detection of gravitational waves and gamma rays from the GW170817/GRB 170817A, followed by kilonova emission a day after, confirmed compact binary neutron-star mergers as progenitors of short-duration gamma-ray bursts (GRBs), and cosmic sources of heavy r-process nuclei. However, the nature (and lifespan) of the merger remnant and the energy reservoir powering these bright gamma-ray flashes remains debated, while the first minutes after the merger are unexplored at optical wavelengths. Here, we report the earliest discovery of bright thermal optical emission associated with the short GRB 180618A with extended gamma-ray emission, with ultraviolet and optical multicolour observations starting as soon as 1.4 minutes post-burst. The spectrum is consistent with a fast-fading afterglow and emerging thermal optical emission at 15 minutes post-burst, which fades abruptly and chromatically (flux density $F_{\\nu} \\propto t^{-\\alpha}$, $\\alpha=4.6 \\pm 0.3$) just 35 minutes after the GRB. Our observations from gamma rays to optical wavelengths are consistent with a hot nebula expanding at relativistic speeds, powered by the plasma winds from a newborn, rapidly-spinning and highly magnetized neutron star (i.e. a millisecond magnetar), whose rotational energy is released at a rate $L_{\\rm th} \\propto t^{-(2.22\\pm 0.14)}$ to reheat the unbound merger-remnant material. These results suggest such neutron stars can survive the collapse to a black hole on timescales much larger than a few hundred milliseconds after the merger, and power the GRB itself through accretion. Bright thermal optical counterparts to binary merger gravitational wave sources may be common in future wide-field fast-cadence sky surveys. |\n",
       "|<p style=\"color:green\"> **ERROR** </p>| <p style=\"color:green\">affiliation error: mpia.affiliation_verifications: 'Heidelberg' keyword not found.</p> |"
      ],
      "text/plain": [
       "<IPython.core.display.Markdown object>"
      ]
     },
     "metadata": {},
     "output_type": "display_data"
    },
    {
     "data": {
      "text/markdown": [
       "\n",
       "|||\n",
       "|---:|:---|\n",
       "| [![arXiv](https://img.shields.io/badge/arXiv-arXiv:2211.05899-b31b1b.svg)](https://arxiv.org/abs/arXiv:2211.05899) | **Successive interacting coronal mass ejections: How to create a perfect  storm?**  |\n",
       "|| Gordon J. Koehn, et al. -- incl., <mark>Emma E. Davies</mark> |\n",
       "|*Appeared on*| *2022-11-14*|\n",
       "|*Comments*| *18 pages, 11 figures, 2 tables. The Astrophysical Journal, accepted 10 November 2022*|\n",
       "|**Abstract**| Coronal mass ejections (CMEs) are the largest type of eruptions on the Sun and the main driver of severe space weather at the Earth. In this study, we implement a force-free spheromak CME description within 3-D magnetohydrodynamic simulations to parametrically evaluate successive interacting CMEs within a representative heliosphere. We explore CME-CME interactions for a range of orientations, launch time variations and CME handedness and quantify their geo-effectiveness via the primary solar wind variables and empirical measures of the disturbance storm time index and subsolar magnetopause standoff distance. We show how the interaction of two moderate CMEs between the Sun and the Earth can translate into extreme conditions at the Earth and how CME-CME interactions at different radial distances can maximise different solar wind variables that induce different geophysical impacts. In particular, we demonstrate how the orientation and handedness of a given CME can have a significant impact on the conservation and loss of magnetic flux, and consequently B$_z$, due to magnetic reconnection with the interplanetary magnetic field. This study thus implicates identification of CME chirality in the solar corona as an early diagnostic for forecasting geomagnetic storms involving multiple CMEs. |\n",
       "|<p style=\"color:green\"> **ERROR** </p>| <p style=\"color:green\">affiliation error: mpia.affiliation_verifications: 'Heidelberg' keyword not found.</p> |"
      ],
      "text/plain": [
       "<IPython.core.display.Markdown object>"
      ]
     },
     "metadata": {},
     "output_type": "display_data"
    },
    {
     "data": {
      "text/markdown": [
       "\n",
       "|||\n",
       "|---:|:---|\n",
       "| [![arXiv](https://img.shields.io/badge/arXiv-arXiv:2211.05938-b31b1b.svg)](https://arxiv.org/abs/arXiv:2211.05938) | **The Merger Fraction of Ultramassive White Dwarfs**  |\n",
       "|| Mukremin Kilic, et al. -- incl., <mark>Warren R. Brown</mark> |\n",
       "|*Appeared on*| *2022-11-14*|\n",
       "|*Comments*| *MNRAS, in press*|\n",
       "|**Abstract**| We search for merger products among the 25 most massive white dwarfs in the Montreal White Dwarf Database 100 pc sample through follow-up spectroscopy and high-cadence photometry. We find an unusually high fraction, 40%, of magnetic white dwarfs among this population. In addition, we identify four outliers in transverse velocity and detect rapid rotation in five objects. Our results show that $56^{+9}_{-10}$\\% of the $M\\approx1.3~M_{\\odot}$ ultramassive white dwarfs form through mergers. This fraction is significantly higher than expected from the default binary population synthesis calculations using the $\\alpha$-prescription (with $\\alpha \\lambda = 2$), and provides further support for efficient orbital shrinkage, such as with low values of the common envelope efficiency. |\n",
       "|<p style=\"color:green\"> **ERROR** </p>| <p style=\"color:green\">affiliation error: mpia.affiliation_verifications: 'Heidelberg' keyword not found.</p> |"
      ],
      "text/plain": [
       "<IPython.core.display.Markdown object>"
      ]
     },
     "metadata": {},
     "output_type": "display_data"
    },
    {
     "data": {
      "text/markdown": [
       "\n",
       "|||\n",
       "|---:|:---|\n",
       "| [![arXiv](https://img.shields.io/badge/arXiv-arXiv:2211.05993-b31b1b.svg)](https://arxiv.org/abs/arXiv:2211.05993) | **Testing the galaxy collision induced formation scenario for the trail of  dark matter deficient galaxies with the susceptibility of globular clusters  to the tidal force**  |\n",
       "|| Go Ogiya, <mark>Frank C. van den Bosch</mark>, Andreas Burkert, Xi Kang |\n",
       "|*Appeared on*| *2022-11-14*|\n",
       "|*Comments*| *9 pages, 3 figures, accepted for publication in ApJL*|\n",
       "|**Abstract**| It has been suggested that a trail of diffuse galaxies, including two dark matter deficient galaxies (DMDGs), in the vicinity of NGC1052 formed because of a high-speed collision between two gas-rich dwarf galaxies, one bound to NGC1052 and the other one on an unbound orbit. The collision compresses the gas reservoirs of the colliding galaxies, which in turn triggers a burst of star formation. In contrast, the dark matter and pre-existing stars in the progenitor galaxies pass through it. Since the high pressures in the compressed gas are conducive to the formation of massive globular clusters (GCs), this scenario can explain the formation of DMDGs with large populations of massive GCs, consistent with the observations of NGC1052-DF2 (DF2) and NGC1052-DF4. A potential difficulty with this `mini bullet cluster' scenario is that the observed spatial distributions of GCs in DMDGs are extended. GCs experience dynamical friction causing their orbits to decay with time. Consequently, their distribution at formation should have been even more extended than that observed at present. Using a semi-analytic model, we show that the observed positions and velocities of the GCs in DF2 imply that they must have formed at a radial distance of 5-10kpc from the center of DF2. However, as we demonstrate, the scenario is difficult to reconcile with the fact that the strong tidal forces from NGC1052 strip the extendedly distributed GCs from DF2, requiring 33-59 massive GCs to form at the collision to explain observations. |\n",
       "|<p style=\"color:green\"> **ERROR** </p>| <p style=\"color:green\">affiliation error: mpia.affiliation_verifications: 'Heidelberg' keyword not found.</p> |"
      ],
      "text/plain": [
       "<IPython.core.display.Markdown object>"
      ]
     },
     "metadata": {},
     "output_type": "display_data"
    },
    {
     "data": {
      "text/markdown": [
       "\n",
       "|||\n",
       "|---:|:---|\n",
       "| [![arXiv](https://img.shields.io/badge/arXiv-arXiv:2211.05998-b31b1b.svg)](https://arxiv.org/abs/arXiv:2211.05998) | **Carnegie Supernova Project-II: Near-infrared spectral diversity and  template of Type Ia Supernovae**  |\n",
       "|| Jing Lu, et al. -- incl., <mark>Christopher R. Burns</mark>, <mark>Syed Uddin</mark> |\n",
       "|*Appeared on*| *2022-11-14*|\n",
       "|*Comments*| *35 pages, 18 figures, submitted to APJ*|\n",
       "|**Abstract**| We present the largest and most homogeneous collection of near-infrared (NIR) spectra of Type Ia Supernovae (SNe Ia): 339 spectra of 98 individual SNe obtained as part of the Carnegie Supernova Project-II. These spectra, obtained with the FIRE spectrograph on the 6.5 m Magellan Baade telescope, have a spectral range of 0.8-2.5 $\\mu$m. Using this sample, we explore the NIR spectral diversity of SNe Ia and construct a template of spectral time series as a function of the light-curve-shape parameter, color stretch sBV. Principal Component Analysis is applied to characterize the diversity of the spectral features and reduce data dimensionality to a smaller subspace. Gaussian process regression is then used to model the subspace dependence on phase and light-curve shape and the associated uncertainty. Our template is able to predict spectral variations that are correlated with sBV , such as the hallmark NIR features: Mg II at early times and the H-band break after peak. Using this template reduces the systematic uncertainties in K-corrections by $\\sim$90% compared to those from the Hsiao template (Hsiao 2009). These uncertainties are on the level of 4 $\\times$ 10$^{-4}$ mag on average. We have also explored a neural network approach using a conditional variational autoencoder that produces promising results for characterizing supernova spectra, though requires a larger data set to assemble comparable quality. This template can serve as the baseline spectral energy distribution for light-curve fitters and can identify peculiar spectral features that might point to compelling physics. The results presented here will substantially improve future SN Ia cosmological experiments, for both nearby and distant samples. |\n",
       "|<p style=\"color:green\"> **ERROR** </p>| <p style=\"color:green\">affiliation error: mpia.affiliation_verifications: 'Heidelberg' keyword not found.</p> |"
      ],
      "text/plain": [
       "<IPython.core.display.Markdown object>"
      ]
     },
     "metadata": {},
     "output_type": "display_data"
    },
    {
     "data": {
      "text/markdown": [
       "\n",
       "|||\n",
       "|---:|:---|\n",
       "| [![arXiv](https://img.shields.io/badge/arXiv-arXiv:2211.06002-b31b1b.svg)](https://arxiv.org/abs/arXiv:2211.06002) | **Hierarchical Clustering in Astronomy**  |\n",
       "|| <mark>Heng Yu</mark>, Xiaolan Hou |\n",
       "|*Appeared on*| *2022-11-14*|\n",
       "|*Comments*| *12 pages, 8 figures, accepted by Astronomy and Computing*|\n",
       "|**Abstract**| Hierarchical clustering is a common algorithm in data analysis. It is unique among many clustering algorithms in that it draws dendrograms based on the distance of data under a certain metric, and group them. It is widely used in all areas of astronomical research, covering various scales from asteroids and molecular clouds, to galaxies and galaxy cluster. This paper systematically reviews the history and current status of the development of hierarchical clustering methods in various branches of astronomy. These applications can be grouped into two broad categories, one revealing the intrinsic hierarchical structure of celestial systems and the other classifying large samples of celestial objects automatically. By reviewing these applications, we can clarify the conditions and limitations of the hierarchical clustering algorithm, and make more reasonable and reliable astronomical discoveries. |\n",
       "|<p style=\"color:green\"> **ERROR** </p>| <p style=\"color:green\">affiliation error: mpia.affiliation_verifications: 'Heidelberg' keyword not found.</p> |"
      ],
      "text/plain": [
       "<IPython.core.display.Markdown object>"
      ]
     },
     "metadata": {},
     "output_type": "display_data"
    },
    {
     "data": {
      "text/markdown": [
       "\n",
       "|||\n",
       "|---:|:---|\n",
       "| [![arXiv](https://img.shields.io/badge/arXiv-arXiv:2211.06010-b31b1b.svg)](https://arxiv.org/abs/arXiv:2211.06010) | **Cosmic Hydrogen and Ice Loss Lines**  |\n",
       "|| <mark>Li Zeng</mark>, Stein B. Jacobsen |\n",
       "|*Appeared on*| *2022-11-14*|\n",
       "|*Comments*| *submitted to AAS Journals. Comments and suggestions welcome!*|\n",
       "|**Abstract**| We explain the overall equilibrium-temperature-dependent trend in the exoplanet mass-radius diagram, using the escape mechanisms of hydrogen and relevant volatiles, and the chemical equilibrium calculation of molecular hydrogen (H$_2$) break-up into atomic hydrogen (H). We identify two Cosmic Hydrogen and Ice Loss Lines (CHILLs) in the mass-radius diagram. Gas disks are well known to disperse in ten million years. However, gas-rich planets may lose some or almost all gas on a much longer timescale. We thus hypothesize that most planets that are born out of a hydrogen-gas-dominated nebular disk begin by possessing a primordial H$_2$-envelope. This envelope is gradually lost due to escape processes caused by host-stellar radiation. |\n",
       "|<p style=\"color:green\"> **ERROR** </p>| <p style=\"color:green\">affiliation error: mpia.affiliation_verifications: 'Heidelberg' keyword not found.</p> |"
      ],
      "text/plain": [
       "<IPython.core.display.Markdown object>"
      ]
     },
     "metadata": {},
     "output_type": "display_data"
    },
    {
     "data": {
      "text/markdown": [
       "\n",
       "|||\n",
       "|---:|:---|\n",
       "| [![arXiv](https://img.shields.io/badge/arXiv-arXiv:2211.06060-b31b1b.svg)](https://arxiv.org/abs/arXiv:2211.06060) | **Formation and Eruption of Hot Channels during an M6.5 Class Solar Flare**  |\n",
       "|| <mark>Yanjie Liu</mark>, et al. -- incl., <mark>Rui Liu</mark>, <mark>Tie Liu</mark> |\n",
       "|*Appeared on*| *2022-11-14*|\n",
       "|*Comments*| **|\n",
       "|**Abstract**| We investigate the formation and eruption of hot channels associated with the M6.5 class flare (SOL2015-06-22T18:23) occurring in NOAA AR 12371 on 2015 June 22. Two flare precursors are observed before the flare main phase. Observations in 94 {\\AA} and 131 {\\AA} by SDO/AIA have revealed the early morphology of the first hot channel as a group of hot loops, which is termed as seed hot channel. A few seed hot channels are formed above the polarity inversion line (PIL) and the formation is associated with footpoint brightenings' parallel motion along the PIL, which proceeds into the early stage of the flare main phase. During this process, seed hot channels build up and rise slowly, being accelerated at the peak of the second precursor. They merge in the process of acceleration forming a larger hot channel, which then forms an \"inverted {\\gamma}\" shape kinking structure. Before the flare peak, the second kinking hot channel with negative crossing appears near the first kinking hot channel that has erupted. The eruption of these two hot channels produce two peaks on the main flare's GOES light curve. The footpoint brightenings' propagation along the PIL indicate that the first kinking hot channel may be formed due to zipper reconnection. The occurrence of merging between seed hot channels observed by AIA is supported by the extrapolated nonlinear force-free field models. The observed writhing motion of the first kinking hot channel may be driven by the Lorentz force. |\n",
       "|<p style=\"color:green\"> **ERROR** </p>| <p style=\"color:green\">affiliation error: mpia.affiliation_verifications: 'Heidelberg' keyword not found.</p> |"
      ],
      "text/plain": [
       "<IPython.core.display.Markdown object>"
      ]
     },
     "metadata": {},
     "output_type": "display_data"
    },
    {
     "data": {
      "text/markdown": [
       "\n",
       "|||\n",
       "|---:|:---|\n",
       "| [![arXiv](https://img.shields.io/badge/arXiv-arXiv:2211.06184-b31b1b.svg)](https://arxiv.org/abs/arXiv:2211.06184) | **The first look at Narrow-Line Seyfert 1 Galaxies with eROSITA**  |\n",
       "|| G. Grünwald, et al. -- incl., <mark>T. Liu</mark> |\n",
       "|*Appeared on*| *2022-11-14*|\n",
       "|*Comments*| *11 pages, 10 figures, accepted for publication in Section 4. Extragalactic astronomy of Astronomy and Astrophysics*|\n",
       "|**Abstract**| We present the first look at the spectral and timing analysis of Narrow-Line Seyfert 1 Galaxies (NLS1s) with the extended ROentgen Survey with an Imaging Telescope Array (eROSITA) on board the Spectrum-Roentgen-Gamma (SRG) mission. The sample of about 1,200 NLS1s was obtained via cross-match of the first eROSITA All-Sky Survey (eRASS1) catalogue with the catalogue of spectroscopically selected NLS1s from the Sloan Digital Sky Survey (SDSS) DR12 by Rakshit et al. [ApJS, 229, 39 (2017)]. The X-ray spectral analysis is based on a simple power-law fit. The photon index distribution has a mean value of about 2.81+-0.03, as expected from previous X-ray studies of NLS1s. Interestingly, it is positively skewed, and about 10 percent of the sources are located in the super-soft tail of photon indices larger than 4. These sources are of further interest as their source counts run into the X-ray background at values at around 1 keV. We argue that ionised outflows have been detected by eROSITA and may account for some of the extreme spectral steepness, which is supported by correlations found between the photon index and optical outflows parameters. We analysed the intrinsic X-ray variability of the eRASS1 to eRASS3 light curves of the sample but do not find significant variability neither during the individual survey scans nor between them. |\n",
       "|<p style=\"color:green\"> **ERROR** </p>| <p style=\"color:green\">affiliation error: mpia.affiliation_verifications: 'Heidelberg' keyword not found.</p> |"
      ],
      "text/plain": [
       "<IPython.core.display.Markdown object>"
      ]
     },
     "metadata": {},
     "output_type": "display_data"
    },
    {
     "data": {
      "text/markdown": [
       "\n",
       "|||\n",
       "|---:|:---|\n",
       "| [![arXiv](https://img.shields.io/badge/arXiv-arXiv:2211.06200-b31b1b.svg)](https://arxiv.org/abs/arXiv:2211.06200) | **Twenty years of Dark Matter searches with INTEGRAL/SPI**  |\n",
       "|| <mark>S. Fischer</mark>, D. Malyshev, L. Ducci, A. Santangelo |\n",
       "|*Appeared on*| *2022-11-14*|\n",
       "|*Comments*| **|\n",
       "|**Abstract**| Based on almost 20 years of data collected by the high-resolution spectrometer SPI on board the International Gamma-Ray Astrophysics Laboratory (INTEGRAL) we present constraints on a decaying dark matter particle manifesting itself via a narrow line-like spectral feature. Our ON-OFF type analysis of the Milky Way observations allowed us to constrain the lifetime to be $\\gtrsim 10^{20}-10^{21}$ yrs for DM particles with masses $40\\,\\text{keV}\\,<\\,M_{\\text{DM}}\\,<\\,14\\,\\text{MeV}$. Within this mass range our analysis also reveals 32 line-like features detected at $\\geq 3\\sigma$ significance, 29 of which coincide with known instrumental and astrophysical lines. In particular, we report on the detection of the electron-positron annihilation (511 keV) and $^{26}$Al (1809 keV) lines with spatial profiles consistent with previous results in the literature. For the particular case of the sterile neutrino DM we report the limits on the mixing angle as a function of sterile neutrino mass. We discuss the dominant impact of systematic uncertainties connected to the strongly time-variable INTEGRAL/SPI instrumental background as well as the ones connected to the uncertainties of MW DM density profile measurements on the derived results. |\n",
       "|<p style=\"color:green\"> **ERROR** </p>| <p style=\"color:green\">affiliation error: mpia.affiliation_verifications: 'Heidelberg' keyword not found.</p> |"
      ],
      "text/plain": [
       "<IPython.core.display.Markdown object>"
      ]
     },
     "metadata": {},
     "output_type": "display_data"
    },
    {
     "data": {
      "text/markdown": [
       "\n",
       "|||\n",
       "|---:|:---|\n",
       "| [![arXiv](https://img.shields.io/badge/arXiv-arXiv:2211.06204-b31b1b.svg)](https://arxiv.org/abs/arXiv:2211.06204) | **Direct dark matter searches with the full data set of XMASS-I**  |\n",
       "|| XMASS Collaboration, et al. -- incl., <mark>K. B. Lee</mark>, <mark>M. K. Lee</mark> |\n",
       "|*Appeared on*| *2022-11-14*|\n",
       "|*Comments*| **|\n",
       "|**Abstract**| Various WIMP dark matter searches using the full data set of XMASS-I, a single-phase liquid xenon detector, are reported in this paper. Stable XMASS-I data taking accumulated a total live time of 1590.9 days between November 20, 2013 and February 1, 2019 with an analysis threshold of ${\\rm 1.0\\,keV_{ee}}$. In the latter half of data taking a lower analysis threshold of ${\\rm 0.5\\,keV_{ee}}$ was also available through a new low threshold trigger. Searching for a WIMP signal in the detector's 97~kg fiducial volume yielded a limit on the WIMP-nucleon scattering cross section of ${\\rm 1.4\\times 10^{-44}\\, cm^{2}}$ for a ${\\rm 60\\,GeV/c^{2}}$ WIMP at the 90$\\%$ confidence level. We also searched for WIMP induced annual modulation signatures in the detector's whole target volume, containing 832~kg of liquid xenon. For nuclear recoils of a ${\\rm 8\\,GeV/c^{2}}$ WIMP this analysis yielded a 90\\% CL cross section limit of ${\\rm 2.3\\times 10^{-42}\\, cm^{2}}$. At a WIMP mass of ${\\rm 0.5\\, GeV/c^{2}}$ the Migdal effect and Bremsstrahlung signatures were evaluated and lead to 90\\% CL cross section limits of ${\\rm 1.4\\times 10^{-35}\\, cm^{2}}$ and ${\\rm 1.1\\times 10^{-33}\\, cm^{2}}$ respectively. |\n",
       "|<p style=\"color:green\"> **ERROR** </p>| <p style=\"color:green\">affiliation error: mpia.affiliation_verifications: 'Heidelberg' keyword not found.</p> |"
      ],
      "text/plain": [
       "<IPython.core.display.Markdown object>"
      ]
     },
     "metadata": {},
     "output_type": "display_data"
    },
    {
     "data": {
      "text/markdown": [
       "\n",
       "|||\n",
       "|---:|:---|\n",
       "| [![arXiv](https://img.shields.io/badge/arXiv-arXiv:2211.06354-b31b1b.svg)](https://arxiv.org/abs/arXiv:2211.06354) | **Comparative Analysis of TRGBs (CATs) from Unsupervised, Multi-Halo-Field  Measurements: Contrast is Key**  |\n",
       "|| J. Wu, et al. -- incl., <mark>S. Li</mark> |\n",
       "|*Appeared on*| *2022-11-14*|\n",
       "|*Comments*| *Submitted to ApJ. Comments welcomed*|\n",
       "|**Abstract**| The Tip of the Red Giant Branch (TRGB) is an apparent discontinuity in the color-magnitude diagram (CMD) along the giant branch due to the end of the red giant evolutionary phase and is used to measure distances in the local universe. In practice, the tip is often fuzzy and its localization via edge detection response (EDR) relies on several methods applied on a case-by-case basis. It is hard to evaluate how individual choices affect a distance estimation using only a single host field while also avoiding confirmation bias. To devise a standardized approach, we compare unsupervised, algorithmic analyses of the TRGB in multiple halo fields per galaxy, up to 11 fields for a single host and 50 fields across 10 galaxies, using high signal-to-noise stellar photometry obtained by the GHOSTS survey with the Hubble Space Telescope. We first optimize methods for the lowest field-to-field dispersion including spatial filtering to remove star forming regions, smoothing and weighting of the luminosity function, selection of the RGB by color, and tip selection based on the number of likely RGB stars and the ratio of stars above versus below the tip ($R$). We find $R$, which we call the tip `contrast', to be the most important indicator of the quality of EDR measurements; we find that field-to-field EDR repeatability varies from 0.3 mag to $\\leq$ 0.05 mag for $R=4$ to 7, respectively, though less than half the fields reach the higher quality. Further, we find that $R$, which varies with the age/metallicity of the stellar population based on models, correlates with the magnitude of the tip (and after accounting for low internal extinction), i.e., a tip-contrast relation with slope of $-0.023\\pm0.0046$ mag/ratio, a $\\sim 5\\sigma$ result that improves standardization of the TRGB. We discuss the value of consistent TRGB standardization across rungs for robust distance ladder measurements. |\n",
       "|<p style=\"color:green\"> **ERROR** </p>| <p style=\"color:green\">affiliation error: mpia.affiliation_verifications: 'Heidelberg' keyword not found.</p> |"
      ],
      "text/plain": [
       "<IPython.core.display.Markdown object>"
      ]
     },
     "metadata": {},
     "output_type": "display_data"
    },
    {
     "data": {
      "text/markdown": [
       "\n",
       "|||\n",
       "|---:|:---|\n",
       "| [![arXiv](https://img.shields.io/badge/arXiv-arXiv:2211.06367-b31b1b.svg)](https://arxiv.org/abs/arXiv:2211.06367) | **The unaltered pulsar: GRO J1750-27, a super-critical X-ray neutron star  that does not blink an eye**  |\n",
       "|| C. Malacaria, et al. -- incl., <mark>R. Rothschild</mark> |\n",
       "|*Appeared on*| *2022-11-14*|\n",
       "|*Comments*| *Accepted on A&A*|\n",
       "|**Abstract**| When accreting X-ray pulsars (XRPs) undergo bright X-ray outbursts, their luminosity-dependent spectral and timing features can be analysed in detail. The XRP GRO J1750-27 recently underwent one of such episodes, during which it was observed with $NuSTAR$ and monitored with $NICER$. Such a data set is rarely available, as it samples the outburst over more than a month at a luminosity that is always exceeding ${\\sim}5\\times10^{37}\\,$erg/s. This value is larger than the typical critical luminosity value, where a radiative shock is formed above the neutron star's surface. Our data analysis of the joint spectra returns a highly ($N_H\\sim(5-8)\\times10^{22}\\,$cm$^{-2}$) absorbed spectrum showing a K$\\alpha$ iron line, a soft blackbody component likely originating from the inner edge of the accretion disk, and confirms the discovery of one of the deepest cyclotron lines, at a centroid energy of ${\\sim}44\\,$keV corresponding to a magnetic field strength of $4.7\\times10^{12}\\,$G. This value is independently supported by the best-fit physical model for spectral formation in accreting XRPs which, in agreement with recent findings, favours a distance of $14$ kpc and also reflects a bulk-Comptonization dominated accretion flow. Contrary to theoretical expectations and observational evidence from other similar sources, the pulse profiles as observed by $NICER$ through the outburst raise, peak and decay remain remarkably steady. The $NICER$ spectrum, including the iron K$\\alpha$ line best-fit parameters, also remain almost unchanged at all probed outburst stages, similar to the pulsed fraction behaviour. We argue that all these phenomena are linked and interpret them as resulting from a saturation effect of the accretion column's emission, which occurs in the high-luminosity regime. |\n",
       "|<p style=\"color:green\"> **ERROR** </p>| <p style=\"color:green\">affiliation error: mpia.affiliation_verifications: 'Heidelberg' keyword not found.</p> |"
      ],
      "text/plain": [
       "<IPython.core.display.Markdown object>"
      ]
     },
     "metadata": {},
     "output_type": "display_data"
    },
    {
     "data": {
      "text/markdown": [
       "\n",
       "|||\n",
       "|---:|:---|\n",
       "| [![arXiv](https://img.shields.io/badge/arXiv-arXiv:2211.05940-b31b1b.svg)](https://arxiv.org/abs/arXiv:2211.05940) | **M Subdwarf Research III. Spectroscopic Diagnostics for Breaking  Parameter Degeneracy**  |\n",
       "|| <mark>Shuo Zhang</mark>, et al. -- incl., <mark>Hua-Wei Zhang</mark>, <mark>Neda Hejazi</mark>, <mark>Yin-Bi Li</mark>, <mark>A-Li Luo</mark> |\n",
       "|*Appeared on*| *2022-11-14*|\n",
       "|*Comments*| *16 pages, 10 figures. Accepted to ApJ*|\n",
       "|**Abstract**| To understand the parameter degeneracy of M subdwarf spectra at low resolution, we assemble a large number of spectral features in the wavelength range of 0.6-2.5 {\\mu}m with band strength quantified by narrowband indices. Based on the index trends of BT-Settl model sequences, we illustrate how the main atmospheric parameters (Teff, log g, [M/H], and [alpha/Fe]) affect each spectral feature differently. Furthermore, we propose a four-step process to determine the four parameters sequentially, which extends the basic idea proposed by Jao et al. Each step contains several spectral features that break the degeneracy effect when determining a specific stellar parameter. Finally, the feasibility of each spectroscopic diagnostic with different spectral qualities is investigated. The result is resolution-independent down to R~200. |\n",
       "|<p style=\"color:green\"> **ERROR** </p>| <p style=\"color:green\">affiliation error: mpia.affiliation_verifications: 'Planck' keyword not found.</p> |"
      ],
      "text/plain": [
       "<IPython.core.display.Markdown object>"
      ]
     },
     "metadata": {},
     "output_type": "display_data"
    },
    {
     "data": {
      "text/markdown": [
       "\n",
       "|||\n",
       "|---:|:---|\n",
       "| [![arXiv](https://img.shields.io/badge/arXiv-arXiv:2211.05972-b31b1b.svg)](https://arxiv.org/abs/arXiv:2211.05972) | **Detection of Strongly Lensed Arcs in Galaxy Clusters with Transformers**  |\n",
       "|| Peng Jia, et al. -- incl., <mark>Nan Li</mark> |\n",
       "|*Appeared on*| *2022-11-14*|\n",
       "|*Comments*| *Submitted to the Astronomical Journal, source code could be obtained from PaperData sponsored by China-VO group with DOI of 10.12149/101172. Cloud computing resources would be released under request*|\n",
       "|**Abstract**| Strong lensing in galaxy clusters probes properties of dense cores of dark matter halos in mass, studies the distant universe at flux levels and spatial resolutions otherwise unavailable, and constrains cosmological models independently. The next-generation large scale sky imaging surveys are expected to discover thousands of cluster-scale strong lenses, which would lead to unprecedented opportunities for applying cluster-scale strong lenses to solve astrophysical and cosmological problems. However, the large dataset challenges astronomers to identify and extract strong lensing signals, particularly strongly lensed arcs, because of their complexity and variety. Hence, we propose a framework to detect cluster-scale strongly lensed arcs, which contains a transformer-based detection algorithm and an image simulation algorithm. We embed prior information of strongly lensed arcs at cluster-scale into the training data through simulation and then train the detection algorithm with simulated images. We use the trained transformer to detect strongly lensed arcs from simulated and real data. Results show that our approach could achieve 99.63 % accuracy rate, 90.32 % recall rate, 85.37 % precision rate and 0.23 % false positive rate in detection of strongly lensed arcs from simulated images and could detect almost all strongly lensed arcs in real observation images. Besides, with an interpretation method, we have shown that our method could identify important information embedded in simulated data. Next step, to test the reliability and usability of our approach, we will apply it to available observations (e.g., DESI Legacy Imaging Surveys) and simulated data of upcoming large-scale sky surveys, such as the Euclid and the CSST. |\n",
       "|<p style=\"color:green\"> **ERROR** </p>| <p style=\"color:green\">affiliation error: mpia.affiliation_verifications: 'Planck' keyword not found.</p> |"
      ],
      "text/plain": [
       "<IPython.core.display.Markdown object>"
      ]
     },
     "metadata": {},
     "output_type": "display_data"
    },
    {
     "data": {
      "text/markdown": [
       "\n",
       "|||\n",
       "|---:|:---|\n",
       "| [![arXiv](https://img.shields.io/badge/arXiv-arXiv:2211.05897-b31b1b.svg)](https://arxiv.org/abs/arXiv:2211.05897) | **The Star-Planet Activity Research CubeSat (SPARCS): Determining Inputs  to Planetary Habitability**  |\n",
       "|| David R. Ardila, et al. -- incl., <mark>Joseph Llama</mark> |\n",
       "|*Appeared on*| *2022-11-14*|\n",
       "|*Comments*| *Presented at the 73rd International Astronautical Congress, 18-22 September 2022, Paris, France*|\n",
       "|**Abstract**| Seventy-five billion low-mass stars in our galaxy host at least one small planet in their habitable zone (HZ). The stellar ultraviolet (UV) radiation received by the planets is strong and highly variable, and has consequences for atmospheric loss, composition, and habitability. SPARCS is a NASA-funded mission to characterize the quiescent and flare UV emission from low-mass stars, by observing 10 to 20 low-mass stars, over timescales of days, simultaneously in two UV bands: 153-171 nm and 260-300 nm. SPARCS Sun-synchronous terminator orbit allows for long periods of uninterrupted observations, reaching 10s of days for some targets. The payload consists of a 10 cm-class telescope, a dichroic element, UV detectors and associated electronics, a thermal control system, and an on-board processor. The payload is hosted on a Blue Canyon Technologies 6U CubeSat. SPARCS hosts several technology innovations that have broad applicability to other missions. The payload demonstrates the use of \"2D-doped\" (i.e., delta- and superlattice-doped) detectors and detector-integrated metal dielectric filters in space. This detector technology provides ~5x larger quantum efficiency than NASA's GALEX detectors. In addition, SPARCS' payload processor provides dynamic exposure control, automatically adjusting the exposure time to avoid flare saturation and to time-resolve the strongest stellar flares. A simple passive cooling system maintains the detector temperature under 238K to minimize dark current. The spacecraft bus provides pointing jitter smaller than 6\", minimizing the impact of flat-field errors, dark current, and read-noise. All these elements enable competitive astrophysics science within a CubeSat platform. SPARCS is currently in the final design and fabrication phase (Phase C in the NASA context). It will be launched in 2024, for a primary science mission of one year. |\n",
       "|<p style=\"color:red\"> **ERROR** </p>| <p style=\"color:red\">latex error not a gzip file</p> |"
      ],
      "text/plain": [
       "<IPython.core.display.Markdown object>"
      ]
     },
     "metadata": {},
     "output_type": "display_data"
    }
   ],
   "source": [
    "import datetime\n",
    "today = str(datetime.date.today())\n",
    "logfile = f\"_build/html/logs/log-{today}.md\"\n",
    "\n",
    "\n",
    "with open(logfile, 'w') as logs:\n",
    "    # Success\n",
    "    logs.write(f'# Arxiv on Deck 2: Logs - {today}\\n\\n')\n",
    "    logs.write(\"\"\"* Arxiv had {0:,d} new papers\\n\"\"\".format(len(new_papers)))\n",
    "    logs.write(\"\"\"    * {0:,d} with possible author matches\\n\\n\"\"\".format(len(candidates)))\n",
    "    logs.write(\"## Sucessful papers\\n\\n\")\n",
    "    display(Markdown(\"## Successful papers\"))\n",
    "    success = [k[0] for k in documents]\n",
    "    for candid in candidates:\n",
    "        if candid['identifier'].split(':')[-1] in success:\n",
    "            display(candid)\n",
    "            logs.write(candid.generate_markdown_text() + '\\n\\n')\n",
    "\n",
    "    ## failed\n",
    "    logs.write(\"## Failed papers\\n\\n\")\n",
    "    display(Markdown(\"## Failed papers\"))\n",
    "    failed = sorted(failed, key=lambda x: x[1])\n",
    "    current_reason = \"\"\n",
    "    for paper, reason in failed:\n",
    "        if 'affiliation' in reason:\n",
    "            color = 'green'\n",
    "        else:\n",
    "            color = 'red'\n",
    "        data = Markdown(\n",
    "                paper.generate_markdown_text() + \n",
    "                f'\\n|<p style=\"color:{color:s}\"> **ERROR** </p>| <p style=\"color:{color:s}\">{reason:s}</p> |'\n",
    "               )\n",
    "        if reason != current_reason:\n",
    "            logs.write(f'### {reason:s} \\n\\n')\n",
    "            current_reason = reason\n",
    "        logs.write(data.data + '\\n\\n')\n",
    "        \n",
    "        # only display here the important errors (all in logs)\n",
    "        # if color in ('red',):\n",
    "        display(data)"
   ]
  },
  {
   "cell_type": "markdown",
   "id": "472d20ee",
   "metadata": {
    "papermill": {
     "duration": 0.009521,
     "end_time": "2022-11-14T04:28:59.735951",
     "exception": false,
     "start_time": "2022-11-14T04:28:59.726430",
     "status": "completed"
    },
    "tags": []
   },
   "source": [
    "## Export documents\n",
    "\n",
    "We now write the .md files and export relevant images"
   ]
  },
  {
   "cell_type": "code",
   "execution_count": 7,
   "id": "d426aed9",
   "metadata": {
    "execution": {
     "iopub.execute_input": "2022-11-14T04:28:59.756500Z",
     "iopub.status.busy": "2022-11-14T04:28:59.756013Z",
     "iopub.status.idle": "2022-11-14T04:28:59.763127Z",
     "shell.execute_reply": "2022-11-14T04:28:59.762511Z"
    },
    "papermill": {
     "duration": 0.018806,
     "end_time": "2022-11-14T04:28:59.764492",
     "exception": false,
     "start_time": "2022-11-14T04:28:59.745686",
     "status": "completed"
    },
    "tags": []
   },
   "outputs": [],
   "source": [
    "def export_markdown_summary(md: str, md_fname:str, directory: str):\n",
    "    \"\"\"Export MD document and associated relevant images\"\"\"\n",
    "    import os\n",
    "    import shutil\n",
    "    import re\n",
    "\n",
    "    if (os.path.exists(directory) and not os.path.isdir(directory)):\n",
    "        raise RuntimeError(f\"a non-directory file exists with name {directory:s}\")\n",
    "\n",
    "    if (not os.path.exists(directory)):\n",
    "        print(f\"creating directory {directory:s}\")\n",
    "        os.mkdir(directory)\n",
    "\n",
    "    fig_fnames = (re.compile(r'\\[Fig.*\\]\\((.*)\\)').findall(md) + \n",
    "                  re.compile(r'\\<img src=\"([^>\\s]*)\"[^>]*/>').findall(md))\n",
    "    for fname in fig_fnames:\n",
    "        if 'http' in fname:\n",
    "            # No need to copy online figures\n",
    "            continue\n",
    "        destdir = os.path.join(directory, os.path.dirname(fname))\n",
    "        destfname = os.path.join(destdir, os.path.basename(fname))\n",
    "        try:\n",
    "            os.makedirs(destdir)\n",
    "        except FileExistsError:\n",
    "            pass\n",
    "        shutil.copy(fname, destfname)\n",
    "    with open(os.path.join(directory, md_fname), 'w') as fout:\n",
    "        fout.write(md)\n",
    "    print(\"exported in \", os.path.join(directory, md_fname))\n",
    "    [print(\"    + \" + os.path.join(directory,fk)) for fk in fig_fnames]"
   ]
  },
  {
   "cell_type": "code",
   "execution_count": 8,
   "id": "014d04a4",
   "metadata": {
    "execution": {
     "iopub.execute_input": "2022-11-14T04:28:59.784583Z",
     "iopub.status.busy": "2022-11-14T04:28:59.784369Z",
     "iopub.status.idle": "2022-11-14T04:28:59.791224Z",
     "shell.execute_reply": "2022-11-14T04:28:59.790543Z"
    },
    "papermill": {
     "duration": 0.018558,
     "end_time": "2022-11-14T04:28:59.792610",
     "exception": false,
     "start_time": "2022-11-14T04:28:59.774052",
     "status": "completed"
    },
    "tags": []
   },
   "outputs": [
    {
     "name": "stdout",
     "output_type": "stream",
     "text": [
      "exported in  _build/html/2211.06194.md\n",
      "    + _build/html/tmp_2211.06194/./figures/target_properties.png\n",
      "    + _build/html/tmp_2211.06194/./figures/period_distribution_comparison.png\n",
      "    + _build/html/tmp_2211.06194/./figures/contact_fraction_period.png\n",
      "exported in  _build/html/2211.06205.md\n",
      "    + _build/html/tmp_2211.06205/./toi_1695_gaia.png\n",
      "    + _build/html/tmp_2211.06205/./TOI-1695_rvsvswin_DC_v6_periodogram.png\n",
      "    + _build/html/tmp_2211.06205/./TOI-1695_fwhmvswin_DC_v6_periodogram.png\n",
      "    + _build/html/tmp_2211.06205/./TOI-1695_bisvswin_DC_v6_periodogram.png\n",
      "    + _build/html/tmp_2211.06205/./TIC422756130_full_lightcurve_bysectors.png\n"
     ]
    }
   ],
   "source": [
    "for paper_id, md in documents:\n",
    "    export_markdown_summary(md, f\"{paper_id:s}.md\", '_build/html/')"
   ]
  },
  {
   "cell_type": "markdown",
   "id": "f087a0a7",
   "metadata": {
    "papermill": {
     "duration": 0.009482,
     "end_time": "2022-11-14T04:28:59.811600",
     "exception": false,
     "start_time": "2022-11-14T04:28:59.802118",
     "status": "completed"
    },
    "tags": []
   },
   "source": [
    "## Display the papers\n",
    "\n",
    "Not necessary but allows for a quick check."
   ]
  },
  {
   "cell_type": "code",
   "execution_count": 9,
   "id": "fd25f625",
   "metadata": {
    "execution": {
     "iopub.execute_input": "2022-11-14T04:28:59.831987Z",
     "iopub.status.busy": "2022-11-14T04:28:59.831758Z",
     "iopub.status.idle": "2022-11-14T04:28:59.837177Z",
     "shell.execute_reply": "2022-11-14T04:28:59.836591Z"
    },
    "papermill": {
     "duration": 0.017243,
     "end_time": "2022-11-14T04:28:59.838671",
     "exception": false,
     "start_time": "2022-11-14T04:28:59.821428",
     "status": "completed"
    },
    "scrolled": false,
    "tags": []
   },
   "outputs": [
    {
     "data": {
      "text/markdown": [
       "<div class=\"macros\" style=\"visibility:hidden;\">\n",
       "$\\newcommand{\\ensuremath}{}$\n",
       "$\\newcommand{\\xspace}{}$\n",
       "$\\newcommand{\\object}[1]{\\texttt{#1}}$\n",
       "$\\newcommand{\\farcs}{{.}''}$\n",
       "$\\newcommand{\\farcm}{{.}'}$\n",
       "$\\newcommand{\\arcsec}{''}$\n",
       "$\\newcommand{\\arcmin}{'}$\n",
       "$\\newcommand{\\ion}[2]{#1#2}$\n",
       "$\\newcommand{\\textsc}[1]{\\textrm{#1}}$\n",
       "$\\newcommand{\\hl}[1]{\\textrm{#1}}$\n",
       "$\\newcommand{\\dani}[1]{\\textcolor{blue}{(#1)}}$\n",
       "$\\newcommand{\\review}[1]{\\textcolor{red}{#1}}$\n",
       "$\\newcommand{\\cmnt}[1]$\n",
       "$\\newcommand{\\software}[1]{\\texttt{\\sc #1}}$\n",
       "$\\newcommand{\\porb}{P_\\mathrm{orb}}$\n",
       "$\\newcommand{\\teff}{T_\\mathrm{eff}}$\n",
       "$\\newcommand{\\tell}{\\mathcal{T}}$\n",
       "$\\newcommand{\\tlv}{^1}$\n",
       "$\\newcommand{\\warwick}{^2}$\n",
       "$\\newcommand{\\weissman}{^3}$\n",
       "$\\newcommand{\\harvard}{^4}$\n",
       "$\\newcommand{\\mpia}{^5}$\n",
       "$\\newcommand{\\berkeley}{^3}$\n",
       "$\\newcommand{\\samplesize}{15 779}$\n",
       "$\\newcommand{\\inputsize}{4 301 148}$\n",
       "$\\newcommand{\\longinputsize}{8 975 643}$\n",
       "$\\newcommand{\\scorethreshold}{0.6}$</div>\n",
       "\n",
       "<div class=\"macros\" style=\"visibility:hidden;\">\n",
       "$\\newcommand{$\\ensuremath$}{}$\n",
       "$\\newcommand{$\\xspace$}{}$\n",
       "$\\newcommand{$\\object$}[1]{\\texttt{#1}}$\n",
       "$\\newcommand{$\\farcs$}{{.}''}$\n",
       "$\\newcommand{$\\farcm$}{{.}'}$\n",
       "$\\newcommand{$\\arcsec$}{''}$\n",
       "$\\newcommand{$\\arcmin$}{'}$\n",
       "$\\newcommand{$\\ion$}[2]{#1#2}$\n",
       "$\\newcommand{$\\textsc$}[1]{\\textrm{#1}}$\n",
       "$\\newcommand{$\\hl$}[1]{\\textrm{#1}}$\n",
       "$\\newcommand{$\\dani$}[1]{\\textcolor{blue}{(#1)}}$\n",
       "$\\newcommand{$\\review$}[1]{\\textcolor{red}{#1}}$\n",
       "$\\newcommand{$\\cmnt$}[1]$\n",
       "$\\newcommand{$\\software$}[1]{\\texttt{\\sc #1}}$\n",
       "$\\newcommand{$\\porb$}{P_\\mathrm{orb}}$\n",
       "$\\newcommand{$\\teff$}{T_\\mathrm{eff}}$\n",
       "$\\newcommand{$\\tell$}{\\mathcal{T}}$\n",
       "$\\newcommand{$\\tlv$}{^1}$\n",
       "$\\newcommand{$\\warwick$}{^2}$\n",
       "$\\newcommand{$\\weissman$}{^3}$\n",
       "$\\newcommand{$\\harvard$}{^4}$\n",
       "$\\newcommand{$\\mpia$}{^5}$\n",
       "$\\newcommand{$\\berkeley$}{^3}$\n",
       "$\\newcommand{$\\samplesize$}{15 779}$\n",
       "$\\newcommand{$\\inputsize$}{4 301 148}$\n",
       "$\\newcommand{$\\longinputsize$}{8 975 643}$\n",
       "$\\newcommand{$\\scorethreshold$}{0.6}$</div>\n",
       "\n",
       "\n",
       "\n",
       "<div id=\"title\">\n",
       "\n",
       "# : Orbital Periods, Binary Fraction, and Tertiary Companions\n",
       "\n",
       "</div>\n",
       "<div id=\"comments\">\n",
       "\n",
       "[![arXiv](https://img.shields.io/badge/arXiv-2211.06194-b31b1b.svg)](https://arxiv.org/abs/2211.06194)<mark>Appeared on: 2022-11-14</mark> - _27 pages, 21 figures, submitted to MNRAS. The associated sample data will be released alongside the accepted paper_\n",
       "\n",
       "</div>\n",
       "<div id=\"authors\">\n",
       "\n",
       "<mark><mark>Matthew J. Green</mark></mark>, et al. -- incl., <mark><mark>Hans-Walter Rix</mark></mark>\n",
       "\n",
       "</div>\n",
       "<div id=\"abstract\">\n",
       "\n",
       "**Abstract:** We present a homogeneously-selected sample of$\\samplesize$candidate binary systems with main sequence primary stars and orbital periods shorter than 5 days.The targets were selected from\\textit{TESS}full-frame image lightcurves on the basis of their tidally-induced ellipsoidal modulation.Spectroscopic follow-up suggests a sample purity of$83 \\pm 13$per cent.Injection-recovery tests allow us to estimate our overall completeness as$28 \\pm 3$per cent with$\\porb$$< 3$days and to quantify our selection effects.We estimate that$39 \\pm 4$per cent of our sample are contact binary systems, and we disentangle the period distributions of the contact and detached binaries.We derive the orbital period distribution of the main sequence binary population at short orbital periods, finding a distribution continuous with the log-normal distribution previously found for solar-type stars at longer periods, but with a significant steepening  at$\\porb$$\\lesssim 3$days, and a pile-up of contact binaries at$\\porb$$\\approx 0.4$days.Companions in the period range 1--5 days are found to be an order of magnitude more frequent around stars hotter than$\\approx 6250 K$(the Kraft break) when compared to cooler stars, suggesting that magnetic braking plays an important role in shaping the temperature and period distributions.We detect resolved tertiary companions to$9.0 \\pm 0.2$per cent of our binaries with a median separation of 3200 AU.The frequency of tertiary companions rises to$29 \\pm 5$per cent among the systems with the shortest ellipsoidal periods.This large binary sample with quantified selection effects will be a powerful resource for future studies of detached and contact binary systems with$\\porb$$<5$days.$\\cmnt${word count: 242/250}\n",
       "\n",
       "</div>\n",
       "\n",
       "<div id=\"div_fig1\">\n",
       "\n",
       "<img src=\"tmp_2211.06194/./figures/target_properties.png\" alt=\"Fig2\" width=\"100%\"/>\n",
       "\n",
       "**Figure 2. -** Properties of 93 targets with score $> 0.6$ that were observed with LCO spectroscopic follow-up. Nine targets with $\\software${beer} scores $< 0.6$ have not been plotted.\n",
       "The upper panel plots $\\software${beer} score, the middle panel shows primary $T_\\mathrm{eff}$ from TIC, and lower panel shows the second-order ellipsoidal amplitude, all as a function of orbital period.\n",
       "Coloured points indicate targets observed with LCOGT, coloured according to whether or not they showed RV variability, while grey points show the other targets in our sample (before applying the cut in Equation \\ref{eq:lco-cut}).\n",
       "The cut in Equation \\ref{eq:lco-cut} is shown as a dashed line in the lower panel, which separates the lower-left region populated primarily by targets that are not RV variable.\n",
       " (*fig:lco-targets*)\n",
       "\n",
       "</div>\n",
       "<div id=\"div_fig2\">\n",
       "\n",
       "<img src=\"tmp_2211.06194/./figures/period_distribution_comparison.png\" alt=\"Fig12\" width=\"100%\"/>\n",
       "\n",
       "**Figure 12. -** A comparison of the orbital period distribution of our sample with several eclipsing binary samples, as summarized in Table \\ref{tab:ebs-samples}.\n",
       "Between one and three days our period distribution is similar to those of other samples.\n",
       " (*fig:ebs_comparison*)\n",
       "\n",
       "</div>\n",
       "<div id=\"div_fig3\">\n",
       "\n",
       "<img src=\"tmp_2211.06194/./figures/contact_fraction_period.png\" alt=\"Fig6\" width=\"100%\"/>\n",
       "\n",
       "**Figure 6. -** \\textit{Top:} The fraction of lightcurves with $R_{23}$ greater than the cut in \\ref{eq:contacts} as a function of orbital period, for our real sample and for simulated lightcurves of detached and contact binary systems.\n",
       "\\textit{Below:} The fraction of the real sample which must be contact binary systems as a function of orbital period, in order to reproduce the curve of the real sample in the top figure.\n",
       "The dotted grey line shows an approximation to the contact binary fraction described in Equation \\ref{eq:contact-fraction}.\n",
       " (*fig:contact-fraction*)\n",
       "\n",
       "</div>"
      ],
      "text/plain": [
       "<IPython.core.display.Markdown object>"
      ]
     },
     "metadata": {},
     "output_type": "display_data"
    },
    {
     "data": {
      "text/markdown": [
       "<div class=\"macros\" style=\"visibility:hidden;\">\n",
       "$\\newcommand{\\ensuremath}{}$\n",
       "$\\newcommand{\\xspace}{}$\n",
       "$\\newcommand{\\object}[1]{\\texttt{#1}}$\n",
       "$\\newcommand{\\farcs}{{.}''}$\n",
       "$\\newcommand{\\farcm}{{.}'}$\n",
       "$\\newcommand{\\arcsec}{''}$\n",
       "$\\newcommand{\\arcmin}{'}$\n",
       "$\\newcommand{\\ion}[2]{#1#2}$\n",
       "$\\newcommand{\\textsc}[1]{\\textrm{#1}}$\n",
       "$\\newcommand{\\hl}[1]{\\textrm{#1}}$\n",
       "$\\newcommand{\\}{MJ}$\n",
       "$\\newcommand{\\}{ME}$\n",
       "$\\newcommand{\\}{RJ}$\n",
       "$\\newcommand{\\}{RE}$\n",
       "$\\newcommand{\\}{RS}$\n",
       "$\\newcommand{\\}{msol}$\n",
       "$\\newcommand{\\}{kms}$\n",
       "$\\newcommand{\\}{ms}$</div>\n",
       "\n",
       "<div class=\"macros\" style=\"visibility:hidden;\">\n",
       "$\\newcommand{$\\ensuremath$}{}$\n",
       "$\\newcommand{$\\xspace$}{}$\n",
       "$\\newcommand{$\\object$}[1]{\\texttt{#1}}$\n",
       "$\\newcommand{$\\farcs$}{{.}''}$\n",
       "$\\newcommand{$\\farcm$}{{.}'}$\n",
       "$\\newcommand{$\\arcsec$}{''}$\n",
       "$\\newcommand{$\\arcmin$}{'}$\n",
       "$\\newcommand{$\\ion$}[2]{#1#2}$\n",
       "$\\newcommand{$\\textsc$}[1]{\\textrm{#1}}$\n",
       "$\\newcommand{$\\hl$}[1]{\\textrm{#1}}$\n",
       "$\\newcommand{\\}{MJ}$\n",
       "$\\newcommand{\\}{ME}$\n",
       "$\\newcommand{\\}{RJ}$\n",
       "$\\newcommand{\\}{RE}$\n",
       "$\\newcommand{\\}{RS}$\n",
       "$\\newcommand{\\}{msol}$\n",
       "$\\newcommand{\\}{kms}$\n",
       "$\\newcommand{\\}{ms}$</div>\n",
       "\n",
       "\n",
       "\n",
       "<div id=\"title\">\n",
       "\n",
       "# A sub-Neptune planet around TOI-1695 discovered and characterized with SPIRou and TESS\n",
       "\n",
       "</div>\n",
       "<div id=\"comments\">\n",
       "\n",
       "[![arXiv](https://img.shields.io/badge/arXiv-2211.06205-b31b1b.svg)](https://arxiv.org/abs/2211.06205)<mark>Appeared on: 2022-11-14</mark> - _15 pages (+9 appendix pages), 19 figures, 8 tables_\n",
       "\n",
       "</div>\n",
       "<div id=\"authors\">\n",
       "\n",
       "F. Kiefer, et al. -- incl., <mark><mark>K. Hesse</mark></mark>, <mark><mark>H. Lewis</mark></mark>, <mark><mark>C.-F. Liu</mark></mark>\n",
       "\n",
       "</div>\n",
       "<div id=\"abstract\">\n",
       "\n",
       "**Abstract:** TOI-1695 is a V-mag=13 M-dwarf star from the northern hemisphere at 45 pc from the Sun, around which a 3.134-day periodic transit signal from a super-Earth candidate was identified in TESS photometry. With a transit depth of 1.3 mmag, the radius of candidate TOI-1695.01 was estimated by the TESS pipeline to be 1.82 R$_\\oplus$with an equilibrium temperature of$\\sim$620 K. We successfully detect a reflex motion of the star and establish it is due to a planetary companion at an orbital period consistent with the photometric transit period thanks to a year-long radial-velocity monitoring of TOI-1695 by the SPIRou infrared spectropolarimeter. We use and compare different methods to reduce and analyse those data. We report a 5.5-$\\sigma$detection of the planetary signal, giving a mass of$5.5\\pm1.0$M$_\\oplus$and a radius of 2.03$\\pm$0.18 R$_\\oplus$. We derive a mean equilibrium planet temperature of 590$\\pm$90 K. The mean density of this small planet of 3.6$\\pm$1.1 g cm$^{-3}$is similar (1.7--$\\sigma$lower) than that of the Earth. It leads to a non-negligible fraction of volatiles in its atmosphere with$f_{H,He}$=0.28$^{+0.46}_{-0.23}$\\%or$f_\\text{water}$=23$\\pm$12\\%. TOI-1695 b is a new sub-Neptune planet at the border of the M-dwarf radius valley that can help test formation scenarios for super-Earth/sub-Neptune-like planets.\n",
       "\n",
       "</div>\n",
       "\n",
       "<div id=\"div_fig1\">\n",
       "\n",
       "<img src=\"tmp_2211.06205/./toi_1695_gaia.png\" alt=\"Fig4\" width=\"100%\"/>\n",
       "\n",
       "**Figure 4. -** Spectral energy distribution of TOI-1695. Red symbols represent the observed photometric measurements, where the horizontal bars represent the effective width of the passband. Blue symbols are the model fluxes from the best-fit NextGen atmosphere model (black). The green curve is the published Gaia DR3 spectrum for this star. \\label{fig:SED} (*fig:SED*)\n",
       "\n",
       "</div>\n",
       "<div id=\"div_fig2\">\n",
       "\n",
       "<img src=\"tmp_2211.06205/./TOI-1695_rvsvswin_DC_v6_periodogram.png\" alt=\"Fig5.1\" width=\"33%\"/><img src=\"tmp_2211.06205/./TOI-1695_fwhmvswin_DC_v6_periodogram.png\" alt=\"Fig5.2\" width=\"33%\"/><img src=\"tmp_2211.06205/./TOI-1695_bisvswin_DC_v6_periodogram.png\" alt=\"Fig5.3\" width=\"33%\"/>\n",
       "\n",
       "**Figure 5. -** From top to bottom, RV, FWHM and BIS Lomb-Scargle periodograms with FAP levels 0.01 and 0.05 indicated as dotted and dashed lines for data extracted with the APERO v6 version. They are compared to the window function (red solid line). The vertical orange solid line indicates the 3.134-days period of the TESS transit signal. The moon synodic orbital period (29.53 days) is also shown as a green solid lines. \\label{fig:periodo_all} (*fig:periodo_all*)\n",
       "\n",
       "</div>\n",
       "<div id=\"div_fig3\">\n",
       "\n",
       "<img src=\"tmp_2211.06205/./TIC422756130_full_lightcurve_bysectors.png\" alt=\"Fig1\" width=\"100%\"/>\n",
       "\n",
       "**Figure 1. -** The full TESS lightcurve separated in sectors (gray dots) and binned with a 0.1-day timestep (black). The identified transit locations are shown with orange vertical lines. \\label{fig:transit_detection} (*fig:transit_detection*)\n",
       "\n",
       "</div>"
      ],
      "text/plain": [
       "<IPython.core.display.Markdown object>"
      ]
     },
     "metadata": {},
     "output_type": "display_data"
    }
   ],
   "source": [
    "[display(Markdown(k[1])) for k in documents];"
   ]
  },
  {
   "cell_type": "markdown",
   "id": "873873a4",
   "metadata": {
    "papermill": {
     "duration": 0.00991,
     "end_time": "2022-11-14T04:28:59.858482",
     "exception": false,
     "start_time": "2022-11-14T04:28:59.848572",
     "status": "completed"
    },
    "tags": []
   },
   "source": [
    "# Create HTML index"
   ]
  },
  {
   "cell_type": "code",
   "execution_count": 10,
   "id": "cf665672",
   "metadata": {
    "execution": {
     "iopub.execute_input": "2022-11-14T04:28:59.879592Z",
     "iopub.status.busy": "2022-11-14T04:28:59.879120Z",
     "iopub.status.idle": "2022-11-14T04:28:59.888251Z",
     "shell.execute_reply": "2022-11-14T04:28:59.887622Z"
    },
    "papermill": {
     "duration": 0.021398,
     "end_time": "2022-11-14T04:28:59.889752",
     "exception": false,
     "start_time": "2022-11-14T04:28:59.868354",
     "status": "completed"
    },
    "tags": []
   },
   "outputs": [
    {
     "name": "stdout",
     "output_type": "stream",
     "text": [
      "87  publications in the last 7 days.\n",
      "\t _build/html/2211.06205.md\n",
      "\t _build/html/2211.06194.md\n",
      "\t _build/html/2211.05022.md\n",
      "\t _build/html/2211.04048.md\n",
      "\t _build/html/2211.03641.md\n",
      "\t _build/html/2211.02502.md\n",
      "\t _build/html/2211.01474.md\n",
      "\t _build/html/2211.00667.md\n",
      "\t _build/html/2211.00657.md\n",
      "\t _build/html/2211.00087.md\n",
      "\t _build/html/2211.00036.md\n",
      "\t _build/html/2211.00020.md\n",
      "\t _build/html/2211.00010.md\n",
      "\t _build/html/2210.17434.md\n",
      "\t _build/html/2210.12412.md\n",
      "\t _build/html/2210.11926.md\n",
      "\t _build/html/2210.11551.md\n",
      "\t _build/html/2210.11103.md\n",
      "\t _build/html/2210.10707.md\n",
      "\t _build/html/2210.09930.md\n",
      "\t _build/html/2210.08996.md\n",
      "\t _build/html/2210.08517.md\n",
      "\t _build/html/2210.08510.md\n",
      "\t _build/html/2210.08078.md\n",
      "\t _build/html/2210.06504.md\n",
      "\t _build/html/2210.05695.md\n",
      "\t _build/html/2210.05595.md\n",
      "\t _build/html/2210.05505.md\n",
      "\t _build/html/2210.04721.md\n",
      "\t _build/html/2210.03615.md\n",
      "\t _build/html/2210.01811.md\n",
      "\t _build/html/2210.01809.md\n",
      "\t _build/html/2210.01556.md\n",
      "\t _build/html/2210.00863.md\n",
      "\t _build/html/2210.00560.md\n",
      "\t _build/html/2209.15403.md\n",
      "\t _build/html/2209.15110.md\n",
      "\t _build/html/2209.14410.md\n",
      "\t _build/html/2209.14396.md\n",
      "\t _build/html/2209.13717.md\n",
      "\t _build/html/2209.13336.md\n",
      "\t _build/html/2209.12906.md\n",
      "\t _build/html/2209.11781.md\n",
      "\t _build/html/2209.11602.md\n",
      "\t _build/html/2209.11248.md\n",
      "\t _build/html/2209.11096.md\n",
      "\t _build/html/2209.10618.md\n",
      "\t _build/html/2209.09914.md\n",
      "\t _build/html/2209.09823.md\n",
      "\t _build/html/2209.08242.md\n",
      "\t _build/html/2209.08120.md\n",
      "\t _build/html/2209.08106.md\n",
      "\t _build/html/2209.07962.md\n",
      "\t _build/html/2209.07931.md\n",
      "\t _build/html/2209.06833.md\n",
      "\t _build/html/2209.05814.md\n",
      "\t _build/html/2209.05593.md\n",
      "\t _build/html/2209.04304.md\n",
      "\t _build/html/2209.03367.md\n",
      "\t _build/html/2209.02872.md\n",
      "\t _build/html/2209.02725.md\n",
      "\t _build/html/2209.02722.md\n",
      "\t _build/html/2209.02092.md\n",
      "\t _build/html/2209.01125.md\n",
      "\t _build/html/2209.00828.md\n",
      "\t _build/html/2209.00363.md\n",
      "\t _build/html/2208.14927.md\n",
      "\t _build/html/2208.09335.md\n",
      "\t _build/html/2208.08872.md\n",
      "\t _build/html/2204.06393.md\n",
      "\t _build/html/2204.03335.md\n",
      "\t _build/html/2204.03253.md\n",
      "\t _build/html/2204.02998.md\n",
      "\t _build/html/2204.02109.md\n",
      "\t _build/html/2204.02017.md\n",
      "\t _build/html/2204.01824.md\n",
      "\t _build/html/2204.01758.md\n",
      "\t _build/html/2204.01245.md\n",
      "\t _build/html/2204.00793.md\n",
      "\t _build/html/2204.00342.md\n",
      "\t _build/html/2203.16959.md\n",
      "\t _build/html/2203.16856.md\n",
      "\t _build/html/2203.16735.md\n",
      "\t _build/html/2203.16734.md\n",
      "\t _build/html/2203.16504.md\n",
      "\t _build/html/2203.15822.md\n",
      "\t _build/html/2203.15811.md\n"
     ]
    }
   ],
   "source": [
    "from datetime import datetime, timedelta, timezone\n",
    "from glob import glob\n",
    "\n",
    "files = glob('_build/html/*.md')\n",
    "days = 7\n",
    "now = datetime.today()\n",
    "res = []\n",
    "for fk in files:\n",
    "    stat_result = os.stat(fk).st_ctime\n",
    "    modified = datetime.fromtimestamp(stat_result, tz=timezone.utc).replace(tzinfo=None)\n",
    "    delta = now.today() - modified\n",
    "    if delta <= timedelta(days=days):\n",
    "        res.append((delta.seconds, fk))\n",
    "res = [k[1] for k in reversed(sorted(res, key=lambda x:x[1]))]\n",
    "npub = len(res)\n",
    "print(len(res), f\" publications in the last {days:d} days.\")\n",
    "[ print('\\t', k) for k in res ];"
   ]
  },
  {
   "cell_type": "code",
   "execution_count": 11,
   "id": "52ca0208",
   "metadata": {
    "execution": {
     "iopub.execute_input": "2022-11-14T04:28:59.937355Z",
     "iopub.status.busy": "2022-11-14T04:28:59.936812Z",
     "iopub.status.idle": "2022-11-14T04:28:59.943343Z",
     "shell.execute_reply": "2022-11-14T04:28:59.942701Z"
    },
    "papermill": {
     "duration": 0.044356,
     "end_time": "2022-11-14T04:28:59.944714",
     "exception": false,
     "start_time": "2022-11-14T04:28:59.900358",
     "status": "completed"
    },
    "scrolled": false,
    "tags": []
   },
   "outputs": [],
   "source": [
    "def create_carousel(npub=4):\n",
    "    \"\"\" Generate the HTML code for a carousel with `npub` slides \"\"\"\n",
    "    carousel = [\"\"\"<section class=\"carousel\" aria-label=\"Gallery\">\"\"\",\n",
    "                \"\"\"  <ol class=\"carousel__viewport\">\"\"\",\n",
    "    ]\n",
    "    for k in range(1, npub + 1):\n",
    "        prev_ = k - 1\n",
    "        next_ = k + 1\n",
    "        if prev_ <= 0:\n",
    "            prev_ = npub\n",
    "        if next_ > npub:\n",
    "            next_ = 1\n",
    "        text  = f\"\"\"    <li id=\"carousel__slide{k}\" tabindex=\"0\" class=\"carousel__slide\">\\n\"\"\"\n",
    "        text += f\"\"\"       <div class=\"carousel__snapper\">\\n\"\"\"\n",
    "        text += f\"\"\"         <a href=\"#carousel__slide{prev_}\" class=\"carousel__prev\">Go to previous slide</a>\\n\"\"\"\n",
    "        text += f\"\"\"         <a href=\"#carousel__slide{next_}\" class=\"carousel__next\">Go to next slide</a>\\n\"\"\"\n",
    "        text += f\"\"\"         <div id=\"slide{k}_content\" class=\"md_view\" >Content {k}</div>\\n\"\"\"\n",
    "        text += f\"\"\"       </div>\\n\"\"\"\n",
    "        text += f\"\"\"    </li>\"\"\"\n",
    "        carousel.append(text)\n",
    "\n",
    "    carousel.extend([\n",
    "        \"\"\"  </ol>\"\"\",\n",
    "        \"\"\"  <aside class=\"carousel__navigation\">\"\"\",\n",
    "        \"\"\"    <ol class=\"carousel__navigation-list\">\"\"\"])\n",
    "\n",
    "    for k in range(1, npub + 1):\n",
    "        text  = f\"\"\"      <li class=\"carousel__navigation-item\">\\n\"\"\"\n",
    "        text += f\"\"\"        <a href=\"#carousel__slide{k}\" class=\"carousel__navigation-button\">Go to {k}</a>\\n\"\"\"\n",
    "        text += f\"\"\"      </li>\"\"\"\n",
    "        carousel.append(text)\n",
    "    carousel.extend([\"\"\"    </ol>\"\"\", \"\"\"  </aside>\"\"\", \"\"\"</section>\"\"\"])\n",
    "\n",
    "    return '\\n'.join(carousel)"
   ]
  },
  {
   "cell_type": "code",
   "execution_count": 12,
   "id": "a6eac5b6",
   "metadata": {
    "execution": {
     "iopub.execute_input": "2022-11-14T04:28:59.966396Z",
     "iopub.status.busy": "2022-11-14T04:28:59.965964Z",
     "iopub.status.idle": "2022-11-14T04:28:59.972241Z",
     "shell.execute_reply": "2022-11-14T04:28:59.971581Z"
    },
    "papermill": {
     "duration": 0.018944,
     "end_time": "2022-11-14T04:28:59.973794",
     "exception": false,
     "start_time": "2022-11-14T04:28:59.954850",
     "status": "completed"
    },
    "scrolled": false,
    "tags": []
   },
   "outputs": [],
   "source": [
    "carousel = create_carousel(npub)\n",
    "docs = ', '.join(['\"{0:s}\"'.format(k.split('/')[-1]) for k in res])\n",
    "slides = ', '.join([f'\"slide{k}_content\"' for k in range(1, npub + 1)])\n",
    "\n",
    "script = f\"\"\"\n",
    "const docs = [{docs}]\n",
    "\n",
    "const slides = [{slides}]\n",
    "\"\"\" + \"\"\"\n",
    "async function run() {\n",
    "    for (let i = 0; i < docs.length; i++) {\n",
    "        let file = await fetch(docs[i]);\n",
    "        let text = await file.text()\n",
    "        document.getElementById(slides[i]).innerHTML =\n",
    "            marked.parse(text);\n",
    "    }\n",
    "    hljs.highlightAll();\n",
    "}\n",
    "run()\n",
    "\"\"\"\n",
    "\n",
    "page = f\"\"\"<!doctype html>\n",
    "<html lang=\"en\">\n",
    "\n",
    "<head>\n",
    "  <meta charset=\"utf-8\">\n",
    "  <meta name=\"viewport\" content=\"width=device-width, initial-scale=1\">\n",
    "  <!-- Bootstrap CSS -->\n",
    "  <link href=\"https://cdn.jsdelivr.net/npm/bootstrap@5.0.2/dist/css/bootstrap.min.css\" rel=\"stylesheet\"\n",
    "   integrity=\"sha384-EVSTQN3/azprG1Anm3QDgpJLIm9Nao0Yz1ztcQTwFspd3yD65VohhpuuCOmLASjC\" crossorigin=\"anonymous\">\n",
    "  <!-- highlight.js CSS -->\n",
    "  <link rel=\"stylesheet\" href=\"https://cdnjs.cloudflare.com/ajax/libs/highlight.js/11.1.0/styles/default.min.css\">\n",
    "  <!-- Mathjax 3 -->\n",
    "  <script type=\"text/javascript\" id=\"MathJax-config\" src=\"mathjax_config.js\"> </script>\n",
    "  <script type=\"text/javascript\" id=\"MathJax-script\" async \n",
    "    src=\"https://cdn.jsdelivr.net/npm/mathjax@3/es5/tex-mml-chtml.js\">\n",
    "  </script>\n",
    "  <link rel=\"stylesheet\" href=\"index_carousel.css\">\n",
    "  <link rel=\"icon\" type=\"image/x-icon\" href=\"https://www.mpia.de/assets/touch-icon-32x32-a66937bcebc4e8894ebff1f41a366c7c7220fd97a38869ee0f2db65a9f59b6c1.png\">\n",
    "  <title>MPIA Arxiv on deck!</title>\n",
    "</head>\n",
    "\n",
    "<body>\n",
    "  <div id=\"header\"> <img src=\"header_banner.png\" width=\"100%\"></div>\n",
    "  <div id=\"suptitle\"> 7-day archives </div>\n",
    "  <div id=\"info\">\n",
    "    <img src=\"https://pngimg.com/uploads/github/github_PNG58.png\" height=30rem></img>\n",
    "    <a href=https://github.com/mpi-astronomy/arxiv_display style=\"color:black;\">github/mpi-astronomy/arxiv_display</a> \n",
    "  </div>\n",
    "  {carousel:s}\n",
    "</body>\n",
    "\n",
    "<!-- Render Markdown -->\n",
    "\n",
    "<body>\n",
    "  <!-- highlight.js: https://highlightjs.org/download/ -->\n",
    "  <script src=\"https://cdnjs.cloudflare.com/ajax/libs/highlight.js/11.5.0/highlight.min.js\"></script>\n",
    "  <!-- marked.js -->\n",
    "  <script src=\"https://cdn.jsdelivr.net/npm/marked/marked.min.js\"></script>\n",
    "  <script>{script:s}</script>\n",
    "</body>\n",
    "</html>\n",
    "\"\"\"\n",
    "with open(\"_build/html/index_7days.html\", 'w') as fout:\n",
    "    fout.write(page)"
   ]
  },
  {
   "cell_type": "markdown",
   "id": "1cebacbc",
   "metadata": {
    "papermill": {
     "duration": 0.010079,
     "end_time": "2022-11-14T04:28:59.993905",
     "exception": false,
     "start_time": "2022-11-14T04:28:59.983826",
     "status": "completed"
    },
    "tags": []
   },
   "source": [
    "# Debugging papers"
   ]
  },
  {
   "cell_type": "raw",
   "id": "debe7cc6",
   "metadata": {
    "papermill": {
     "duration": 0.010057,
     "end_time": "2022-11-14T04:29:00.014679",
     "exception": false,
     "start_time": "2022-11-14T04:29:00.004622",
     "status": "completed"
    },
    "tags": []
   },
   "source": [
    "raise NotImplementedError(\"Manual Stop\")"
   ]
  },
  {
   "cell_type": "raw",
   "id": "eb169192",
   "metadata": {
    "papermill": {
     "duration": 0.009976,
     "end_time": "2022-11-14T04:29:00.034631",
     "exception": false,
     "start_time": "2022-11-14T04:29:00.024655",
     "status": "completed"
    },
    "scrolled": true,
    "tags": []
   },
   "source": [
    "from IPython.display import display, Markdown\n",
    "from TexSoup import TexSoup\n",
    "import re\n",
    "\n",
    "def bracket_error(source: str):\n",
    "    \"\"\" Find problematic portions of the document \"\"\"\n",
    "    \n",
    "    print(\"len(source)\", len(source))\n",
    "    \n",
    "    # Checking header\n",
    "    begin_doc = next(re.finditer(r'\\\\begin\\{document\\}', doc.source)).span()[1]\n",
    "    header = source[:begin_doc]\n",
    "    text = header + r\"\\n\\end{document}\"\n",
    "\n",
    "    try:\n",
    "        # print(\"Header check... \", end='')\n",
    "        TexSoup(text)\n",
    "        display(Markdown(f\"**[OK]** - Header\"))\n",
    "    except:\n",
    "        raise RuntimeError(\"Error in the header\")\n",
    "        \n",
    "    # Check the text per section until the end.\n",
    "    # Do not stop and try them all.\n",
    "    \n",
    "    problematic_text = []\n",
    "    \n",
    "    sections = ([(0, begin_doc, 'until first section')] + \n",
    "                [(g.span()[0], g.span()[1], g.group()) for g in re.finditer(r'\\\\section\\{.*\\}', source)] +\n",
    "                [(g.span()[0], g.span()[1], g.group()) for g in re.finditer(r'\\\\begin\\{appendix\\}', source)]\n",
    "               )\n",
    "    sections.append([len(source), len(source), 'end'])\n",
    "    \n",
    "    sections = sorted(sections, key=lambda x: x[0])\n",
    "    \n",
    "    prev_pos, prev_name = (0, 'header')\n",
    "    parsed = []\n",
    "    \n",
    "    for span, span_end, name in sections:\n",
    "\n",
    "        if span - prev_pos <= 0:\n",
    "            continue\n",
    "            \n",
    "\n",
    "        text = source[prev_pos:span]\n",
    "        if prev_pos > begin_doc:\n",
    "            text = r\"\\n\\begin{document}\" + text + r\"\\n\\end{document}\"\n",
    "        else:\n",
    "            text = text + r\"\\n\\end{document}\"\n",
    "        try:\n",
    "            #print(f\"{prev_pos}:{prev_name}-->{span}:{name} check... \", end='')\n",
    "            parsed.append(TexSoup(text, tolerance=1))  # allow not ending env\n",
    "            display(Markdown(f\"**[OK]** - *{prev_pos}*:{prev_name} &rarr; *{span}*:{name}\"))\n",
    "            # print(\"ok\")\n",
    "\n",
    "            prev_pos = span\n",
    "            prev_name = name\n",
    "        except:\n",
    "            # print(f\"error between {prev_pos} and {span}\")\n",
    "            display(Markdown(f\"**[ERR]** *{prev_pos}*:{prev_name} &rarr; *{span}*:{name}\"))\n",
    "            problematic_text.append((prev_pos, source[prev_pos:span]))\n",
    "            prev_pos = span\n",
    "            prev_name = name\n",
    "            # raise\n",
    "    return problematic_text, parsed\n",
    "\n",
    "\n",
    "def check_environment(text, offset=0):\n",
    "    \"\"\" Check environment \"\"\"\n",
    "    env = re.compile(r\"\\\\begin\\{(?P<env>.*)\\}(.*)\\\\end\\{(?P=env)\\}\", re.DOTALL)\n",
    "\n",
    "    for match in env.finditer(text):\n",
    "        beg, end = match.span()\n",
    "        beg += offset\n",
    "        end += offset\n",
    "        envname = match.groups()[0]\n",
    "        try:\n",
    "            latex.TexSoup(match.group())\n",
    "        except Exception as e:\n",
    "            display(e)\n",
    "            print(f\"Error in {envname:s} between {beg} and {end}\")\n",
    "            return match.groups()[1], beg, end"
   ]
  },
  {
   "cell_type": "raw",
   "id": "2315e835",
   "metadata": {
    "papermill": {
     "duration": 0.010007,
     "end_time": "2022-11-14T04:29:00.054631",
     "exception": false,
     "start_time": "2022-11-14T04:29:00.044624",
     "status": "completed"
    },
    "scrolled": false,
    "tags": []
   },
   "source": [
    "import importlib\n",
    "importlib.reload(latex)\n",
    "which = \"2204.03253\"\n",
    "paper_id = f'{which:s}'\n",
    "folder = f'tmp_{paper_id:s}'\n",
    "\n",
    "if not os.path.isdir(folder):\n",
    "    folder = retrieve_document_source(f\"{paper_id}\", f'tmp_{paper_id}')\n",
    "\n",
    "try:\n",
    "    doc = latex.LatexDocument(folder, validation=validation)    \n",
    "except AffiliationError as affilerror:\n",
    "    msg = f\"ArXiv:{paper_id:s} is not an MPIA paper... \" + str(affilerror)\n",
    "    print(msg)\n",
    "\n",
    "\n",
    "# Hack because sometimes author parsing does not work well\n",
    "if (len(doc.authors) != len(paper['authors'])):\n",
    "    doc._authors = paper['authors']\n",
    "if (doc.abstract) in (None, ''):\n",
    "    doc._abstract = paper['abstract']\n",
    "\n",
    "doc.comment = get_markdown_badge(paper_id) + \" _\" + paper['comments'] + \"_\"\n",
    "doc.highlight_authors_in_list(hl_list)\n",
    "\n",
    "full_md = doc.generate_markdown_text()"
   ]
  },
  {
   "cell_type": "raw",
   "id": "dd3781db",
   "metadata": {
    "papermill": {
     "duration": 0.010579,
     "end_time": "2022-11-14T04:29:00.075201",
     "exception": false,
     "start_time": "2022-11-14T04:29:00.064622",
     "status": "completed"
    },
    "scrolled": false,
    "tags": []
   },
   "source": [
    "doc"
   ]
  },
  {
   "cell_type": "raw",
   "id": "c6eed834",
   "metadata": {
    "papermill": {
     "duration": 0.010127,
     "end_time": "2022-11-14T04:29:00.096211",
     "exception": false,
     "start_time": "2022-11-14T04:29:00.086084",
     "status": "completed"
    },
    "tags": []
   },
   "source": [
    "# [check_environment(k) for k in bracket_error(doc.source)]\n",
    "_, _, a = latex.get_content_per_section(doc.source, verbose=True)\n",
    "if not a:\n",
    "    print(\"no issues per section\")\n",
    "for ak in a:\n",
    "    r = check_environment(ak[1], offset=ak[0])\n",
    "    print(r[1], r[2])\n",
    "    print(r[0])"
   ]
  },
  {
   "cell_type": "code",
   "execution_count": null,
   "id": "71ce768a",
   "metadata": {
    "papermill": {
     "duration": 0.010063,
     "end_time": "2022-11-14T04:29:00.116479",
     "exception": false,
     "start_time": "2022-11-14T04:29:00.106416",
     "status": "completed"
    },
    "tags": []
   },
   "outputs": [],
   "source": []
  }
 ],
 "metadata": {
  "kernelspec": {
   "display_name": "Python 3.10.6 64-bit",
   "language": "python",
   "name": "python3"
  },
  "language_info": {
   "codemirror_mode": {
    "name": "ipython",
    "version": 3
   },
   "file_extension": ".py",
   "mimetype": "text/x-python",
   "name": "python",
   "nbconvert_exporter": "python",
   "pygments_lexer": "ipython3",
   "version": "3.9.15"
  },
  "papermill": {
   "default_parameters": {},
   "duration": 140.449052,
   "end_time": "2022-11-14T04:29:00.343677",
   "environment_variables": {},
   "exception": null,
   "input_path": "MPIA daily digest.ipynb",
   "output_path": "log.ipynb",
   "parameters": {},
   "start_time": "2022-11-14T04:26:39.894625",
   "version": "2.4.0"
  },
  "vscode": {
   "interpreter": {
    "hash": "e7370f93d1d0cde622a1f8e1c04877d8463912d04d973331ad4851f04de6915a"
   }
  },
  "widgets": {
   "application/vnd.jupyter.widget-state+json": {
    "state": {
     "1b5e3db2844e497087d1d2b3f585421a": {
      "model_module": "@jupyter-widgets/controls",
      "model_module_version": "2.0.0",
      "model_name": "FloatProgressModel",
      "state": {
       "_dom_classes": [],
       "_model_module": "@jupyter-widgets/controls",
       "_model_module_version": "2.0.0",
       "_model_name": "FloatProgressModel",
       "_view_count": null,
       "_view_module": "@jupyter-widgets/controls",
       "_view_module_version": "2.0.0",
       "_view_name": "ProgressView",
       "bar_style": "success",
       "description": "",
       "description_allow_html": false,
       "layout": "IPY_MODEL_20b76d9260834f4786147dad53c65cd8",
       "max": 22.0,
       "min": 0.0,
       "orientation": "horizontal",
       "style": "IPY_MODEL_9d09223949aa43ccb62fe9d6763f3802",
       "tabbable": null,
       "tooltip": null,
       "value": 22.0
      }
     },
     "20b76d9260834f4786147dad53c65cd8": {
      "model_module": "@jupyter-widgets/base",
      "model_module_version": "2.0.0",
      "model_name": "LayoutModel",
      "state": {
       "_model_module": "@jupyter-widgets/base",
       "_model_module_version": "2.0.0",
       "_model_name": "LayoutModel",
       "_view_count": null,
       "_view_module": "@jupyter-widgets/base",
       "_view_module_version": "2.0.0",
       "_view_name": "LayoutView",
       "align_content": null,
       "align_items": null,
       "align_self": null,
       "border_bottom": null,
       "border_left": null,
       "border_right": null,
       "border_top": null,
       "bottom": null,
       "display": null,
       "flex": null,
       "flex_flow": null,
       "grid_area": null,
       "grid_auto_columns": null,
       "grid_auto_flow": null,
       "grid_auto_rows": null,
       "grid_column": null,
       "grid_gap": null,
       "grid_row": null,
       "grid_template_areas": null,
       "grid_template_columns": null,
       "grid_template_rows": null,
       "height": null,
       "justify_content": null,
       "justify_items": null,
       "left": null,
       "margin": null,
       "max_height": null,
       "max_width": null,
       "min_height": null,
       "min_width": null,
       "object_fit": null,
       "object_position": null,
       "order": null,
       "overflow": null,
       "padding": null,
       "right": null,
       "top": null,
       "visibility": null,
       "width": null
      }
     },
     "2862e91189624d3a9e013d693708acba": {
      "model_module": "@jupyter-widgets/base",
      "model_module_version": "2.0.0",
      "model_name": "LayoutModel",
      "state": {
       "_model_module": "@jupyter-widgets/base",
       "_model_module_version": "2.0.0",
       "_model_name": "LayoutModel",
       "_view_count": null,
       "_view_module": "@jupyter-widgets/base",
       "_view_module_version": "2.0.0",
       "_view_name": "LayoutView",
       "align_content": null,
       "align_items": null,
       "align_self": null,
       "border_bottom": null,
       "border_left": null,
       "border_right": null,
       "border_top": null,
       "bottom": null,
       "display": null,
       "flex": null,
       "flex_flow": null,
       "grid_area": null,
       "grid_auto_columns": null,
       "grid_auto_flow": null,
       "grid_auto_rows": null,
       "grid_column": null,
       "grid_gap": null,
       "grid_row": null,
       "grid_template_areas": null,
       "grid_template_columns": null,
       "grid_template_rows": null,
       "height": null,
       "justify_content": null,
       "justify_items": null,
       "left": null,
       "margin": null,
       "max_height": null,
       "max_width": null,
       "min_height": null,
       "min_width": null,
       "object_fit": null,
       "object_position": null,
       "order": null,
       "overflow": null,
       "padding": null,
       "right": null,
       "top": null,
       "visibility": null,
       "width": null
      }
     },
     "43e2e362fbf64c27a62d9724df87d2fd": {
      "model_module": "@jupyter-widgets/controls",
      "model_module_version": "2.0.0",
      "model_name": "HTMLStyleModel",
      "state": {
       "_model_module": "@jupyter-widgets/controls",
       "_model_module_version": "2.0.0",
       "_model_name": "HTMLStyleModel",
       "_view_count": null,
       "_view_module": "@jupyter-widgets/base",
       "_view_module_version": "2.0.0",
       "_view_name": "StyleView",
       "background": null,
       "description_width": "",
       "font_size": null,
       "text_color": null
      }
     },
     "71157e630a6b4dd8a119c15bd4f6c44a": {
      "model_module": "@jupyter-widgets/controls",
      "model_module_version": "2.0.0",
      "model_name": "HBoxModel",
      "state": {
       "_dom_classes": [],
       "_model_module": "@jupyter-widgets/controls",
       "_model_module_version": "2.0.0",
       "_model_name": "HBoxModel",
       "_view_count": null,
       "_view_module": "@jupyter-widgets/controls",
       "_view_module_version": "2.0.0",
       "_view_name": "HBoxView",
       "box_style": "",
       "children": [
        "IPY_MODEL_7ff69ffef46e41f597595b64d6fc86f1",
        "IPY_MODEL_1b5e3db2844e497087d1d2b3f585421a",
        "IPY_MODEL_f6991aca165a44dca590713a194e456c"
       ],
       "layout": "IPY_MODEL_a266ebe15e0d493383f38ab3cfd62c5b",
       "tabbable": null,
       "tooltip": null
      }
     },
     "7ff69ffef46e41f597595b64d6fc86f1": {
      "model_module": "@jupyter-widgets/controls",
      "model_module_version": "2.0.0",
      "model_name": "HTMLModel",
      "state": {
       "_dom_classes": [],
       "_model_module": "@jupyter-widgets/controls",
       "_model_module_version": "2.0.0",
       "_model_name": "HTMLModel",
       "_view_count": null,
       "_view_module": "@jupyter-widgets/controls",
       "_view_module_version": "2.0.0",
       "_view_name": "HTMLView",
       "description": "",
       "description_allow_html": false,
       "layout": "IPY_MODEL_2862e91189624d3a9e013d693708acba",
       "placeholder": "​",
       "style": "IPY_MODEL_43e2e362fbf64c27a62d9724df87d2fd",
       "tabbable": null,
       "tooltip": null,
       "value": "100%"
      }
     },
     "9d09223949aa43ccb62fe9d6763f3802": {
      "model_module": "@jupyter-widgets/controls",
      "model_module_version": "2.0.0",
      "model_name": "ProgressStyleModel",
      "state": {
       "_model_module": "@jupyter-widgets/controls",
       "_model_module_version": "2.0.0",
       "_model_name": "ProgressStyleModel",
       "_view_count": null,
       "_view_module": "@jupyter-widgets/base",
       "_view_module_version": "2.0.0",
       "_view_name": "StyleView",
       "bar_color": null,
       "description_width": ""
      }
     },
     "9dca389caf104567bf2359f1230d688c": {
      "model_module": "@jupyter-widgets/controls",
      "model_module_version": "2.0.0",
      "model_name": "HTMLStyleModel",
      "state": {
       "_model_module": "@jupyter-widgets/controls",
       "_model_module_version": "2.0.0",
       "_model_name": "HTMLStyleModel",
       "_view_count": null,
       "_view_module": "@jupyter-widgets/base",
       "_view_module_version": "2.0.0",
       "_view_name": "StyleView",
       "background": null,
       "description_width": "",
       "font_size": null,
       "text_color": null
      }
     },
     "a266ebe15e0d493383f38ab3cfd62c5b": {
      "model_module": "@jupyter-widgets/base",
      "model_module_version": "2.0.0",
      "model_name": "LayoutModel",
      "state": {
       "_model_module": "@jupyter-widgets/base",
       "_model_module_version": "2.0.0",
       "_model_name": "LayoutModel",
       "_view_count": null,
       "_view_module": "@jupyter-widgets/base",
       "_view_module_version": "2.0.0",
       "_view_name": "LayoutView",
       "align_content": null,
       "align_items": null,
       "align_self": null,
       "border_bottom": null,
       "border_left": null,
       "border_right": null,
       "border_top": null,
       "bottom": null,
       "display": null,
       "flex": null,
       "flex_flow": null,
       "grid_area": null,
       "grid_auto_columns": null,
       "grid_auto_flow": null,
       "grid_auto_rows": null,
       "grid_column": null,
       "grid_gap": null,
       "grid_row": null,
       "grid_template_areas": null,
       "grid_template_columns": null,
       "grid_template_rows": null,
       "height": null,
       "justify_content": null,
       "justify_items": null,
       "left": null,
       "margin": null,
       "max_height": null,
       "max_width": null,
       "min_height": null,
       "min_width": null,
       "object_fit": null,
       "object_position": null,
       "order": null,
       "overflow": null,
       "padding": null,
       "right": null,
       "top": null,
       "visibility": null,
       "width": null
      }
     },
     "c5dc7367648343e187216d95f7bf2c89": {
      "model_module": "@jupyter-widgets/base",
      "model_module_version": "2.0.0",
      "model_name": "LayoutModel",
      "state": {
       "_model_module": "@jupyter-widgets/base",
       "_model_module_version": "2.0.0",
       "_model_name": "LayoutModel",
       "_view_count": null,
       "_view_module": "@jupyter-widgets/base",
       "_view_module_version": "2.0.0",
       "_view_name": "LayoutView",
       "align_content": null,
       "align_items": null,
       "align_self": null,
       "border_bottom": null,
       "border_left": null,
       "border_right": null,
       "border_top": null,
       "bottom": null,
       "display": null,
       "flex": null,
       "flex_flow": null,
       "grid_area": null,
       "grid_auto_columns": null,
       "grid_auto_flow": null,
       "grid_auto_rows": null,
       "grid_column": null,
       "grid_gap": null,
       "grid_row": null,
       "grid_template_areas": null,
       "grid_template_columns": null,
       "grid_template_rows": null,
       "height": null,
       "justify_content": null,
       "justify_items": null,
       "left": null,
       "margin": null,
       "max_height": null,
       "max_width": null,
       "min_height": null,
       "min_width": null,
       "object_fit": null,
       "object_position": null,
       "order": null,
       "overflow": null,
       "padding": null,
       "right": null,
       "top": null,
       "visibility": null,
       "width": null
      }
     },
     "f6991aca165a44dca590713a194e456c": {
      "model_module": "@jupyter-widgets/controls",
      "model_module_version": "2.0.0",
      "model_name": "HTMLModel",
      "state": {
       "_dom_classes": [],
       "_model_module": "@jupyter-widgets/controls",
       "_model_module_version": "2.0.0",
       "_model_name": "HTMLModel",
       "_view_count": null,
       "_view_module": "@jupyter-widgets/controls",
       "_view_module_version": "2.0.0",
       "_view_name": "HTMLView",
       "description": "",
       "description_allow_html": false,
       "layout": "IPY_MODEL_c5dc7367648343e187216d95f7bf2c89",
       "placeholder": "​",
       "style": "IPY_MODEL_9dca389caf104567bf2359f1230d688c",
       "tabbable": null,
       "tooltip": null,
       "value": " 22/22 [01:52&lt;00:00,  5.83s/it]"
      }
     }
    },
    "version_major": 2,
    "version_minor": 0
   }
  }
 },
 "nbformat": 4,
 "nbformat_minor": 5
}