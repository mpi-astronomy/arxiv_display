{
 "cells": [
  {
   "cell_type": "markdown",
   "id": "92bcb855",
   "metadata": {
    "papermill": {
     "duration": 0.003945,
     "end_time": "2024-10-14T04:10:47.349884",
     "exception": false,
     "start_time": "2024-10-14T04:10:47.345939",
     "status": "completed"
    },
    "tags": []
   },
   "source": [
    "# MPIA Arxiv on Deck 2\n",
    "\n",
    "Contains the steps to produce the paper extractions."
   ]
  },
  {
   "cell_type": "code",
   "execution_count": 1,
   "id": "3a0d6e11",
   "metadata": {
    "execution": {
     "iopub.execute_input": "2024-10-14T04:10:47.357372Z",
     "iopub.status.busy": "2024-10-14T04:10:47.357124Z",
     "iopub.status.idle": "2024-10-14T04:10:47.982591Z",
     "shell.execute_reply": "2024-10-14T04:10:47.981866Z"
    },
    "papermill": {
     "duration": 0.630897,
     "end_time": "2024-10-14T04:10:47.984080",
     "exception": false,
     "start_time": "2024-10-14T04:10:47.353183",
     "status": "completed"
    },
    "tags": []
   },
   "outputs": [],
   "source": [
    "# Imports\n",
    "import os\n",
    "from IPython.display import Markdown, display\n",
    "from tqdm.notebook import tqdm\n",
    "import warnings\n",
    "from PIL import Image \n",
    "import re\n",
    "\n",
    "# requires arxiv_on_deck_2\n",
    "\n",
    "from arxiv_on_deck_2.arxiv2 import (get_new_papers, \n",
    "                                    get_paper_from_identifier,\n",
    "                                    retrieve_document_source, \n",
    "                                    get_markdown_badge)\n",
    "from arxiv_on_deck_2 import (latex,\n",
    "                             latex_bib,\n",
    "                             mpia,\n",
    "                             highlight_authors_in_list)\n",
    "\n",
    "# Sometimes images are really big\n",
    "Image.MAX_IMAGE_PIXELS = 1000000000 "
   ]
  },
  {
   "cell_type": "code",
   "execution_count": 2,
   "id": "22aa9d44",
   "metadata": {
    "execution": {
     "iopub.execute_input": "2024-10-14T04:10:47.991662Z",
     "iopub.status.busy": "2024-10-14T04:10:47.991132Z",
     "iopub.status.idle": "2024-10-14T04:10:47.999309Z",
     "shell.execute_reply": "2024-10-14T04:10:47.998650Z"
    },
    "papermill": {
     "duration": 0.012871,
     "end_time": "2024-10-14T04:10:48.000250",
     "exception": false,
     "start_time": "2024-10-14T04:10:47.987379",
     "status": "completed"
    },
    "tags": []
   },
   "outputs": [],
   "source": [
    "# Some useful definitions.\n",
    "\n",
    "class AffiliationWarning(UserWarning):\n",
    "    pass\n",
    "\n",
    "class AffiliationError(RuntimeError):\n",
    "    pass\n",
    "\n",
    "def validation(source: str):\n",
    "    \"\"\"Raises error paper during parsing of source file\n",
    "    \n",
    "    Allows checks before parsing TeX code.\n",
    "    \n",
    "    Raises AffiliationWarning\n",
    "    \"\"\"\n",
    "    check = mpia.affiliation_verifications(source, verbose=True)\n",
    "    if check is not True:\n",
    "        raise AffiliationError(\"mpia.affiliation_verifications: \" + check)\n",
    "\n",
    "        \n",
    "warnings.simplefilter('always', AffiliationWarning)\n",
    "\n",
    "\n",
    "def get_markdown_qrcode(paper_id: str):\n",
    "    \"\"\" Generate a qrcode to the arxiv page using qrserver.com\n",
    "    \n",
    "    :param paper: Arxiv paper\n",
    "    :returns: markdown text\n",
    "    \"\"\"\n",
    "    url = r\"https://api.qrserver.com/v1/create-qr-code/?size=100x100&data=\"\n",
    "    txt = f\"\"\"<img src={url}\"https://arxiv.org/abs/{paper_id}\">\"\"\"\n",
    "    txt = '<div id=\"qrcode\">' + txt + '</div>'\n",
    "    return txt\n",
    "\n",
    "\n",
    "def clean_non_western_encoded_characters_commands(text: str) -> str:\n",
    "    \"\"\" Remove non-western encoded characters from a string\n",
    "    List may need to grow.\n",
    "    \n",
    "    :param text: the text to clean\n",
    "    :return: the cleaned text\n",
    "    \"\"\"\n",
    "    text = re.sub(r\"(\\\\begin{CJK}{UTF8}{gbsn})(.*?)(\\\\end{CJK})\", r\"\\2\", text)\n",
    "    return text\n",
    "\n",
    "\n",
    "def get_initials(name: str) -> str:\n",
    "    \"\"\" Get the short name, e.g., A.-B. FamName\n",
    "    :param name: full name\n",
    "    :returns: initials\n",
    "    \"\"\"\n",
    "    initials = []\n",
    "    # account for non western names often in ()\n",
    "    if '(' in name:\n",
    "        name = clean_non_western_encoded_characters_commands(name)\n",
    "        suffix = re.findall(r\"\\((.*?)\\)\", name)[0]\n",
    "        name = name.replace(f\"({suffix})\", '')\n",
    "    else:\n",
    "        suffix = ''\n",
    "    split = name.split()\n",
    "    for token in split[:-1]:\n",
    "        if '-' in token:\n",
    "            current = '-'.join([k[0] + '.' for k in token.split('-')])\n",
    "        else:\n",
    "            current = token[0] + '.'\n",
    "        initials.append(current)\n",
    "    initials.append(split[-1].strip())\n",
    "    if suffix:\n",
    "        initials.append(f\"({suffix})\")\n",
    "    return ' '.join(initials)"
   ]
  },
  {
   "cell_type": "markdown",
   "id": "14bd6310",
   "metadata": {
    "papermill": {
     "duration": 0.002929,
     "end_time": "2024-10-14T04:10:48.006238",
     "exception": false,
     "start_time": "2024-10-14T04:10:48.003309",
     "status": "completed"
    },
    "tags": []
   },
   "source": [
    "## get list of arxiv paper candidates\n",
    "\n",
    "We use the MPIA mitarbeiter list webpage from mpia.de to get author names\n",
    "We then get all new papers from Arxiv and match authors"
   ]
  },
  {
   "cell_type": "code",
   "execution_count": 3,
   "id": "7ea813a8",
   "metadata": {
    "execution": {
     "iopub.execute_input": "2024-10-14T04:10:48.013042Z",
     "iopub.status.busy": "2024-10-14T04:10:48.012672Z",
     "iopub.status.idle": "2024-10-14T04:11:05.608905Z",
     "shell.execute_reply": "2024-10-14T04:11:05.608143Z"
    },
    "papermill": {
     "duration": 17.601015,
     "end_time": "2024-10-14T04:11:05.610168",
     "exception": false,
     "start_time": "2024-10-14T04:10:48.009153",
     "status": "completed"
    },
    "tags": []
   },
   "outputs": [],
   "source": [
    "# deal with the author list and edge cases of people that cannot be consistent on their name  \n",
    "\n",
    "def filter_non_scientists(name: str) -> bool:\n",
    "    \"\"\" Loose filter on expected authorships\n",
    "\n",
    "    removing IT, administration, technical staff\n",
    "    :param name: name\n",
    "    :returns: False if name is not a scientist\n",
    "    \"\"\"\n",
    "    remove_list = ['Licht', 'Binroth', 'Witzel', 'Jordan',\n",
    "                   'Zähringer', 'Scheerer', 'Hoffmann', 'Düe',\n",
    "                   'Hellmich', 'Enkler-Scharpegge', 'Witte-Nguy',\n",
    "                   'Dehen', 'Beckmann', 'Jager', 'Jäger'\n",
    "                  ]\n",
    "\n",
    "    for k in remove_list:\n",
    "        if k in name:\n",
    "            return False\n",
    "    return True\n",
    "\n",
    "def add_author_to_list(author_list: list) -> list:\n",
    "    \"\"\" Add author to list if not already in list\n",
    "    \n",
    "    :param author: author name\n",
    "    :param author_list: list of authors\n",
    "    :returns: updated list of authors\n",
    "    \"\"\"\n",
    "    add_list = ['T. Henning']\n",
    "\n",
    "    for author in add_list:\n",
    "        if author not in author_list:\n",
    "            author_list.append(author)\n",
    "    return author_list\n",
    "\n",
    "# get list from MPIA website\n",
    "# filter for non-scientists (mpia.get_mpia_mitarbeiter_list() does some filtering)\n",
    "mpia_authors = [k[1] for k in mpia.get_mpia_mitarbeiter_list() if filter_non_scientists(k[1])]\n",
    "# add some missing author because of inconsistencies in their MPIA name and author name on papers\n",
    "mpia_authors = add_author_to_list(mpia_authors)"
   ]
  },
  {
   "cell_type": "code",
   "execution_count": 4,
   "id": "2645e73a",
   "metadata": {
    "execution": {
     "iopub.execute_input": "2024-10-14T04:11:05.617853Z",
     "iopub.status.busy": "2024-10-14T04:11:05.617453Z",
     "iopub.status.idle": "2024-10-14T04:11:06.269140Z",
     "shell.execute_reply": "2024-10-14T04:11:06.268504Z"
    },
    "papermill": {
     "duration": 0.656659,
     "end_time": "2024-10-14T04:11:06.270202",
     "exception": false,
     "start_time": "2024-10-14T04:11:05.613543",
     "status": "completed"
    },
    "tags": []
   },
   "outputs": [
    {
     "name": "stdout",
     "output_type": "stream",
     "text": [
      "A. d. Graaff  ->  A. D. Graaff  |  ['A. D. Graaff']\n",
      "P. Garcia  ->  A. P. Garcia  |  ['P. Garcia']\n",
      "L. Kreidberg  ->  L. Kreidberg  |  ['L. Kreidberg']\n",
      "K. Lee  ->  K. Lee  |  ['K. Lee']\n",
      "J. Liu  ->  J. Liu  |  ['J. Liu']\n",
      "M. Clausen  ->  M. Clausen  |  ['M. Clausen']\n",
      "Arxiv has 57 new papers today\n",
      "          4 with possible author matches\n"
     ]
    }
   ],
   "source": [
    "new_papers = get_new_papers()\n",
    "# add manual references\n",
    "add_paper_refs = []\n",
    "new_papers.extend([get_paper_from_identifier(k) for k in add_paper_refs])\n",
    "\n",
    "def robust_call(fn, value, *args, **kwargs):\n",
    "    try:\n",
    "        return fn(value, *args, **kwargs)\n",
    "    except Exception:\n",
    "        return value\n",
    "\n",
    "candidates = []\n",
    "for paperk in new_papers:\n",
    "    # Check author list with their initials\n",
    "    normed_author_list = [robust_call(mpia.get_initials, k) for k in paperk['authors']]\n",
    "    hl_authors = highlight_authors_in_list(normed_author_list, mpia_authors, verbose=True)\n",
    "    matches = [(hl, orig) for hl, orig in zip(hl_authors, paperk['authors']) if 'mark' in hl]\n",
    "    paperk['authors'] = hl_authors\n",
    "    if matches:\n",
    "        # only select paper if an author matched our list\n",
    "        candidates.append(paperk)\n",
    "print(\"\"\"Arxiv has {0:,d} new papers today\"\"\".format(len(new_papers)))        \n",
    "print(\"\"\"          {0:,d} with possible author matches\"\"\".format(len(candidates)))"
   ]
  },
  {
   "cell_type": "markdown",
   "id": "3543b34a",
   "metadata": {
    "papermill": {
     "duration": 0.003209,
     "end_time": "2024-10-14T04:11:06.276904",
     "exception": false,
     "start_time": "2024-10-14T04:11:06.273695",
     "status": "completed"
    },
    "tags": []
   },
   "source": [
    "# Parse sources and generate relevant outputs\n",
    "\n",
    "From the candidates, we do the following steps:\n",
    "* get their tarball from ArXiv (and extract data)\n",
    "* find the main .tex file: find one with \\documentclass{...} (sometimes it's non trivial)\n",
    "* Check affiliations with :func:`validation`, which uses :func:`mpia.affiliation_verifications`\n",
    "* If passing the affiliations: we parse the .tex source\n",
    "   * inject sub-documents into the main (flatten the main document)\n",
    "   * parse structure, extract information (title, abstract, authors, figures...)\n",
    "   * handles `\\graphicspath` if provided\n",
    "* Generate the .md document."
   ]
  },
  {
   "cell_type": "code",
   "execution_count": 5,
   "id": "9576b79e",
   "metadata": {
    "execution": {
     "iopub.execute_input": "2024-10-14T04:11:06.284224Z",
     "iopub.status.busy": "2024-10-14T04:11:06.283798Z",
     "iopub.status.idle": "2024-10-14T04:12:06.389279Z",
     "shell.execute_reply": "2024-10-14T04:12:06.388536Z"
    },
    "papermill": {
     "duration": 60.110235,
     "end_time": "2024-10-14T04:12:06.390271",
     "exception": false,
     "start_time": "2024-10-14T04:11:06.280036",
     "status": "completed"
    },
    "scrolled": false,
    "tags": []
   },
   "outputs": [
    {
     "data": {
      "application/vnd.jupyter.widget-view+json": {
       "model_id": "3c5d223d38c84de599c0ea669c51515f",
       "version_major": 2,
       "version_minor": 0
      },
      "text/plain": [
       "  0%|          | 0/4 [00:00<?, ?it/s]"
      ]
     },
     "metadata": {},
     "output_type": "display_data"
    },
    {
     "name": "stdout",
     "output_type": "stream",
     "text": [
      "Retrieving document from  https://arxiv.org/e-print/2410.08387\n"
     ]
    },
    {
     "name": "stdout",
     "output_type": "stream",
     "text": [
      "extracting tarball to tmp_2410.08387..."
     ]
    },
    {
     "name": "stdout",
     "output_type": "stream",
     "text": [
      " done.\n"
     ]
    },
    {
     "name": "stdout",
     "output_type": "stream",
     "text": [
      "A. d. Graaff  ->  A. D. Graaff  |  ['A. D. Graaff']\n"
     ]
    },
    {
     "name": "stdout",
     "output_type": "stream",
     "text": [
      "Found 151 bibliographic references in tmp_2410.08387/main.bbl.\n",
      "Retrieving document from  https://arxiv.org/e-print/2410.08563\n"
     ]
    },
    {
     "name": "stdout",
     "output_type": "stream",
     "text": [
      "extracting tarball to tmp_2410.08563..."
     ]
    },
    {
     "name": "stdout",
     "output_type": "stream",
     "text": [
      " done.\n"
     ]
    },
    {
     "name": "stdout",
     "output_type": "stream",
     "text": [
      "P. Garcia  ->  A. P. Garcia  |  ['P. Garcia']\n",
      "L. Kreidberg  ->  L. Kreidberg  |  ['L. Kreidberg']\n"
     ]
    },
    {
     "name": "stderr",
     "output_type": "stream",
     "text": [
      "/opt/hostedtoolcache/Python/3.9.20/x64/lib/python3.9/site-packages/arxiv_on_deck_2/latex.py:132: LatexWarning: attempting recovering figure  GPAO_modes.pdf\n",
      "  warnings.warn(LatexWarning(f'attempting recovering figure {image}'))\n",
      "/opt/hostedtoolcache/Python/3.9.20/x64/lib/python3.9/site-packages/arxiv_on_deck_2/latex.py:707: LatexWarning: Could not find graphic \\includegraphics[width=\\linewidth]{\\PathFig GPAO_modes.pdf}\n",
      "  warnings.warn(LatexWarning(f\"Could not find graphic {k}\"))\n",
      "/opt/hostedtoolcache/Python/3.9.20/x64/lib/python3.9/site-packages/arxiv_on_deck_2/latex.py:132: LatexWarning: attempting recovering figure  ASPRO_2.pdf\n",
      "  warnings.warn(LatexWarning(f'attempting recovering figure {image}'))\n",
      "/opt/hostedtoolcache/Python/3.9.20/x64/lib/python3.9/site-packages/arxiv_on_deck_2/latex.py:707: LatexWarning: Could not find graphic \\includegraphics[width=0.75\\linewidth]{\\PathFig ASPRO_2.pdf}\n",
      "  warnings.warn(LatexWarning(f\"Could not find graphic {k}\"))\n",
      "/tmp/ipykernel_2745/2822249172.py:52: LatexWarning: 2410.08563 did not run properly\n",
      "list index out of range\n",
      "  warnings.warn(latex.LatexWarning(f\"{paper_id:s} did not run properly\\n\" +\n"
     ]
    },
    {
     "name": "stdout",
     "output_type": "stream",
     "text": [
      "Retrieving document from  https://arxiv.org/e-print/2410.08628\n"
     ]
    },
    {
     "name": "stdout",
     "output_type": "stream",
     "text": [
      "extracting tarball to tmp_2410.08628..."
     ]
    },
    {
     "name": "stdout",
     "output_type": "stream",
     "text": [
      " done.\n",
      "Retrieving document from  https://arxiv.org/e-print/2410.09000\n"
     ]
    },
    {
     "name": "stdout",
     "output_type": "stream",
     "text": [
      "extracting tarball to tmp_2410.09000..."
     ]
    },
    {
     "name": "stdout",
     "output_type": "stream",
     "text": [
      " done.\n"
     ]
    }
   ],
   "source": [
    "documents = []\n",
    "failed = []\n",
    "for paper in tqdm(candidates):\n",
    "    # debug crap\n",
    "    paper['identifier'] = paper['identifier'].lower().replace('arxiv:', '').replace(r'\\n', '').strip()\n",
    "    paper_id = paper['identifier']\n",
    "    \n",
    "    folder = f'tmp_{paper_id}'\n",
    "\n",
    "    try:\n",
    "        if not os.path.isdir(folder):\n",
    "            folder = retrieve_document_source(f\"{paper_id}\", f'tmp_{paper_id}')\n",
    "        \n",
    "        try:\n",
    "            doc = latex.LatexDocument(folder, validation=validation)    \n",
    "        except AffiliationError as affilerror:\n",
    "            msg = f\"ArXiv:{paper_id:s} is not an MPIA paper... \" + str(affilerror)\n",
    "            failed.append((paper, \"affiliation error: \" + str(affilerror) ))\n",
    "            continue\n",
    "        \n",
    "        # Hack because sometimes author parsing does not work well\n",
    "        if (len(doc.authors) != len(paper['authors'])):\n",
    "            doc._authors = paper['authors']\n",
    "        else:\n",
    "            # highlight authors (FIXME: doc.highlight_authors)\n",
    "            # done on arxiv paper already\n",
    "            doc._authors = highlight_authors_in_list(\n",
    "                [get_initials(k) for k in doc.authors], \n",
    "                mpia_authors, verbose=True)\n",
    "        if (doc.abstract) in (None, ''):\n",
    "            doc._abstract = paper['abstract']\n",
    "            \n",
    "        doc.comment = (get_markdown_badge(paper_id) + \n",
    "                       \"<mark>Appeared on: \" + paper['date'] + \"</mark> - \")\n",
    "        if paper['comments']:\n",
    "            doc.comment += \" _\" + paper['comments'] + \"_\"\n",
    "        \n",
    "        full_md = doc.generate_markdown_text()\n",
    "        \n",
    "        full_md += get_markdown_qrcode(paper_id)\n",
    "        \n",
    "        # replace citations\n",
    "        try:\n",
    "            bibdata = latex_bib.LatexBib.from_doc(doc)\n",
    "            full_md = latex_bib.replace_citations(full_md, bibdata)\n",
    "        except Exception as e:\n",
    "            print(\"Issues with the citations\")\n",
    "            print(e)\n",
    "        \n",
    "        documents.append((paper_id, full_md))\n",
    "    except Exception as e:\n",
    "        warnings.warn(latex.LatexWarning(f\"{paper_id:s} did not run properly\\n\" +\n",
    "                                         str(e)\n",
    "                                        ))\n",
    "        failed.append((paper, \"latex error \" + str(e)))"
   ]
  },
  {
   "cell_type": "markdown",
   "id": "2505a25c",
   "metadata": {
    "papermill": {
     "duration": 0.003927,
     "end_time": "2024-10-14T04:12:06.398521",
     "exception": false,
     "start_time": "2024-10-14T04:12:06.394594",
     "status": "completed"
    },
    "tags": []
   },
   "source": [
    "### Export the logs\n",
    "\n",
    "Throughout, we also keep track of the logs per paper. see `logs-{today date}.md` "
   ]
  },
  {
   "cell_type": "code",
   "execution_count": 6,
   "id": "d733828a",
   "metadata": {
    "execution": {
     "iopub.execute_input": "2024-10-14T04:12:06.407448Z",
     "iopub.status.busy": "2024-10-14T04:12:06.406988Z",
     "iopub.status.idle": "2024-10-14T04:12:06.421042Z",
     "shell.execute_reply": "2024-10-14T04:12:06.420428Z"
    },
    "papermill": {
     "duration": 0.019856,
     "end_time": "2024-10-14T04:12:06.422204",
     "exception": false,
     "start_time": "2024-10-14T04:12:06.402348",
     "status": "completed"
    },
    "scrolled": false,
    "tags": []
   },
   "outputs": [
    {
     "data": {
      "text/markdown": [
       "## Successful papers"
      ],
      "text/plain": [
       "<IPython.core.display.Markdown object>"
      ]
     },
     "metadata": {},
     "output_type": "display_data"
    },
    {
     "data": {
      "text/markdown": [
       "\n",
       "|||\n",
       "|---:|:---|\n",
       "| [![arXiv](https://img.shields.io/badge/arXiv-2410.08387-b31b1b.svg)](https://arxiv.org/abs/2410.08387) | **RUBIES: JWST/NIRSpec resolves evolutionary phases of dusty star-forming galaxies at $z\\sim2$**  |\n",
       "|| O. R. Cooper, et al. -- incl., <mark>A. d. Graaff</mark> |\n",
       "|*Appeared on*| *2024-10-14*|\n",
       "|*Comments*| *20 pages, 4 figures; submitted to ApJ*|\n",
       "|**Abstract**|            The dearth of high quality spectroscopy of dusty star-forming galaxies (DSFGs) -- the main drivers of the assembly of dust and stellar mass at the peak of activity in the Universe -- greatly hinders our ability to interpret their physical processes and evolutionary pathways. We present JWST/NIRSpec observations from RUBIES of four submillimeter-selected, ALMA-detected DSFGs at cosmic noon, $z\\sim2.3-2.7$. While photometry uniformly suggests vigorous ongoing star formation for the entire sample in line with canonical DSFGs, the spectra differ: one source has spectroscopic evidence of an evolved stellar population, indicating a recent transition to a post-starburst phase, while the remainder show strong spectroscopic signatures of ongoing starbursts. All four galaxies are infrared-luminous (log$_{10}$$L_{\\rm{IR}}$/L$_{\\rm \\odot}$ $>12.4$), massive (log$_{10}\\,M_\\star$/M$_{\\rm \\odot}$ $>11$), and very dust-obscured ($A_V\\sim3-4$ ABmag). Leveraging detections of multiple Balmer and Paschen lines, we derive an optical attenuation curve consistent with Calzetti overall, yet an optical extinction ratio $R_V\\sim2.5$, potentially indicating smaller dust grains or differences in star-dust geometry. This case study provides some of the first detailed spectroscopic evidence that the DSFGs encompass a heterogeneous sample spanning a range of star formation properties and evolutionary stages, and illustrates the advantages of synergistic JWST and ALMA analysis of DSFGs.         |"
      ],
      "text/plain": [
       "[2410.08387] RUBIES: JWST/NIRSpec resolves evolutionary phases of dusty star-forming galaxies at $z\\sim2$\n",
       "\tO. R. Cooper, et al. -- incl., <mark>A. d. Graaff</mark>"
      ]
     },
     "metadata": {},
     "output_type": "display_data"
    },
    {
     "data": {
      "text/markdown": [
       "## Failed papers"
      ],
      "text/plain": [
       "<IPython.core.display.Markdown object>"
      ]
     },
     "metadata": {},
     "output_type": "display_data"
    },
    {
     "data": {
      "text/markdown": [
       "\n",
       "|||\n",
       "|---:|:---|\n",
       "| [![arXiv](https://img.shields.io/badge/arXiv-2410.08628-b31b1b.svg)](https://arxiv.org/abs/2410.08628) | **Is the Gum Nebula an Important Interstellar Scattering Disk of Background Pulsars?**  |\n",
       "|| R. Wang, et al. -- incl., <mark>K. Lee</mark>, <mark>J. Liu</mark> |\n",
       "|*Appeared on*| *2024-10-14*|\n",
       "|*Comments*| *Accepted by SCIENCE CHINA Physics, Mechanics & Astronomy*|\n",
       "|**Abstract**|            The Gum Nebula is a faint supernova remnant extending about 40 degrees across the southern sky, potentially affecting tens of background pulsars. Though the view that the Gum Nebula acts as a potential scattering screen for background pulsars has been recurrently mentioned over the past five decades, it has not been directly confirmed. We chose the strong background pulsar PSR~B0740$-$28 as a probe and monitored its diffractive interstellar scintillation (DISS) at 2.25~$\\&$~8.60~GHz simultaneously for about two years using the Shanghai Tian Ma Radio Telescope (TMRT). DISS was detected at both frequencies and quantified by two-dimensional autocorrelation analysis. We calculated their scattering spectral index $\\alpha$ and found that 9/21 of the observations followed the theoretical predictions, while 4/21 of them clearly showed $\\alpha < 4$. This finding provides strong support for anomalous scattering along the pulsar line of sight, due to the large frequency lever arm and the simultaneous features of our dual-frequency observations. In comparison to the 2.25~GHz observations, scintillation arcs were observed in 10/21 of the secondary spectrum plots for 8.60~GHz observations. Consequently, the highest frequency record for pulsar scintillation arc detection was updated to 8.60~GHz. Our fitting results were the most direct evidence for the view that the Gum Nebula acts as the scattering screen for background pulsars, because both the distance ($245^{+69}_{-72}$~pc) and transverse speed ($22.4^{+4.1}_{-4.2}$~km/s) of the scintillation screen are comparable with related parameters of the Gum Nebula. Our findings indicated that anisotropic scattering provides a superior explanation for the annual modulation of scintillation arcs than isotropic scattering. Additionally, the orientation of its long axis was also fitted.         |\n",
       "|<p style=\"color:green\"> **ERROR** </p>| <p style=\"color:green\">affiliation error: mpia.affiliation_verifications: 'Heidelberg' keyword not found.</p> |"
      ],
      "text/plain": [
       "<IPython.core.display.Markdown object>"
      ]
     },
     "metadata": {},
     "output_type": "display_data"
    },
    {
     "data": {
      "text/markdown": [
       "\n",
       "|||\n",
       "|---:|:---|\n",
       "| [![arXiv](https://img.shields.io/badge/arXiv-2410.09000-b31b1b.svg)](https://arxiv.org/abs/2410.09000) | **The JWST Emission Line Survey (JELS): Extending rest-optical narrow-band emission line selection into the Epoch of Reionization**  |\n",
       "|| K. J. Duncan, et al. -- incl., <mark>M. Clausen</mark> |\n",
       "|*Appeared on*| *2024-10-14*|\n",
       "|*Comments*| *Submitted to MRNAS; 13 pages, 8 figures. Accompanying data will be publicly released upon acceptance of this and companion paper (Pirie et al., subm.)*|\n",
       "|**Abstract**|            We present the JWST Emission Line Survey (JELS), a Cycle 1 JWST imaging programme exploiting the wavelength coverage and sensitivity of NIRCam to extend narrow-band rest-optical emission line selection into the epoch of reionization (EoR) for the first time, and to enable unique studies of the resolved ionised gas morphology in individual galaxies across cosmic history. The primary JELS observations comprise $\\sim4.7\\mu$m narrow-band imaging over $\\sim63$ arcmin$^{2}$ designed to enable selection of H$\\alpha$ emitters at $z\\sim6.1$, as well as the selection of a host of novel emission-line samples including [OIII] at $z\\sim8.3$ and Pa $\\alpha/\\beta$ at $z\\sim1.5/2.8$. For the prime F466N and F470N narrow-band observations, the emission-line sensitivities achieved are up to $\\sim2\\times$ more sensitive than current slitless spectroscopy surveys (5$\\sigma$ limits of 1.1-1.6$\\times10^{-18}\\text{erg s}^{-1}\\text{cm}^{-2}$), corresponding to unobscured H$\\alpha$ star-formation rates (SFRs) of 1-1.6 $\\text{M}_{\\odot}\\,\\text{yr}^{-1}$ at $z\\sim6.1$ and extending emission-line selections in the EoR to fainter populations. Simultaneously, JELS also obtained F200W broadband and F212N narrow-band imaging (H$\\alpha$ at $z\\sim2.23$) that probes SFRs $\\gtrsim5\\times$ fainter than previous ground-based narrow-band studies ($\\sim0.2 \\text{M}_{\\odot}\\text{yr}^{-1}$), offering an unprecedented resolved view of star formation at cosmic noon. In this paper we describe the detailed JELS survey design, key data processing steps specific to the survey observations, and demonstrate the exceptional data quality and imaging sensitivity achieved. We then summarise the key scientific goals of JELS and present some early science results, including examples of spectroscopically confirmed H$\\alpha$ and [OIII] emitters discovered by JELS that illustrate the novel parameter space probed.         |\n",
       "|<p style=\"color:green\"> **ERROR** </p>| <p style=\"color:green\">affiliation error: mpia.affiliation_verifications: 'Heidelberg' keyword not found.</p> |"
      ],
      "text/plain": [
       "<IPython.core.display.Markdown object>"
      ]
     },
     "metadata": {},
     "output_type": "display_data"
    },
    {
     "data": {
      "text/markdown": [
       "\n",
       "|||\n",
       "|---:|:---|\n",
       "| [![arXiv](https://img.shields.io/badge/arXiv-2410.08563-b31b1b.svg)](https://arxiv.org/abs/2410.08563) | **Simplified model(s) of the GRAVITY+ adaptive optics system(s) for performance prediction**  |\n",
       "|| A. Berdeu, et al. -- incl., <mark>P. Garcia</mark>, <mark>L. Kreidberg</mark> |\n",
       "|*Appeared on*| *2024-10-14*|\n",
       "|*Comments*| **|\n",
       "|**Abstract**|            In the context of the GRAVITY+ upgrade, the adaptive optics (AO) systems of the GRAVITY interferometer are undergoing a major lifting. The current CILAS deformable mirrors (DM, 90 actuators) will be replaced by ALPAO kilo-DMs (43x43, 1432 actuators). On top of the already existing 9x9 Shack-Hartmann wavefront sensors (SH-WFS) for infrared (IR) natural guide star (NGS), new 40x40 SH-WFSs for visible (VIS) NGS will be deployed. Lasers will also be installed on the four units of the Very Large Telescope to provide a laser guide star (LGS) option with 30x30 SH-WFSs and with the choice to either use the 9x9 IR-WFSs or 2x2 VIS-WFSs for low order sensing. Thus, four modes will be available for the GRAVITY+ AO system (GPAO): IR-NGS, IR-LGS, VIS-NGS and VIS-LGS. To prepare the instrument commissioning and help the observers to plan their observations, a tool is needed to predict the performances of the different modes and for different observing conditions (NGS magnitude, science object magnitude, turbulence conditions...) We developed models based on a Mar{é}chal approximation to predict the Strehl ratio of the four GPAO modes in order to feed the already existing tool that simulates the GRAVITY performances. Waiting for commissioning data, our model was validated and calibrated using the TIPTOP toolbox, a Point Spread Function simulator based on the computation of Power Spectrum Densities. In this work, we present our models of the NGS modes of GPAO and their calibration with TIPTOP.         |\n",
       "|<p style=\"color:red\"> **ERROR** </p>| <p style=\"color:red\">latex error list index out of range</p> |"
      ],
      "text/plain": [
       "<IPython.core.display.Markdown object>"
      ]
     },
     "metadata": {},
     "output_type": "display_data"
    }
   ],
   "source": [
    "import datetime\n",
    "today = str(datetime.date.today())\n",
    "logfile = f\"_build/html/logs/log-{today}.md\"\n",
    "\n",
    "\n",
    "with open(logfile, 'w') as logs:\n",
    "    # Success\n",
    "    logs.write(f'# Arxiv on Deck 2: Logs - {today}\\n\\n')\n",
    "    logs.write(\"\"\"* Arxiv had {0:,d} new papers\\n\"\"\".format(len(new_papers)))\n",
    "    logs.write(\"\"\"    * {0:,d} with possible author matches\\n\\n\"\"\".format(len(candidates)))\n",
    "    logs.write(\"## Sucessful papers\\n\\n\")\n",
    "    display(Markdown(\"## Successful papers\"))\n",
    "    success = [k[0] for k in documents]\n",
    "    for candid in candidates:\n",
    "        if candid['identifier'].split(':')[-1] in success:\n",
    "            display(candid)\n",
    "            logs.write(candid.generate_markdown_text() + '\\n\\n')\n",
    "\n",
    "    ## failed\n",
    "    logs.write(\"## Failed papers\\n\\n\")\n",
    "    display(Markdown(\"## Failed papers\"))\n",
    "    failed = sorted(failed, key=lambda x: x[1])\n",
    "    current_reason = \"\"\n",
    "    for paper, reason in failed:\n",
    "        if 'affiliation' in reason:\n",
    "            color = 'green'\n",
    "        else:\n",
    "            color = 'red'\n",
    "        data = Markdown(\n",
    "                paper.generate_markdown_text() + \n",
    "                f'\\n|<p style=\"color:{color:s}\"> **ERROR** </p>| <p style=\"color:{color:s}\">{reason:s}</p> |'\n",
    "               )\n",
    "        if reason != current_reason:\n",
    "            logs.write(f'### {reason:s} \\n\\n')\n",
    "            current_reason = reason\n",
    "        logs.write(data.data + '\\n\\n')\n",
    "        \n",
    "        # only display here the important errors (all in logs)\n",
    "        # if color in ('red',):\n",
    "        display(data)"
   ]
  },
  {
   "cell_type": "markdown",
   "id": "472d20ee",
   "metadata": {
    "papermill": {
     "duration": 0.004461,
     "end_time": "2024-10-14T04:12:06.431244",
     "exception": false,
     "start_time": "2024-10-14T04:12:06.426783",
     "status": "completed"
    },
    "tags": []
   },
   "source": [
    "## Export documents\n",
    "\n",
    "We now write the .md files and export relevant images"
   ]
  },
  {
   "cell_type": "code",
   "execution_count": 7,
   "id": "d426aed9",
   "metadata": {
    "execution": {
     "iopub.execute_input": "2024-10-14T04:12:06.441330Z",
     "iopub.status.busy": "2024-10-14T04:12:06.440838Z",
     "iopub.status.idle": "2024-10-14T04:12:06.447635Z",
     "shell.execute_reply": "2024-10-14T04:12:06.447108Z"
    },
    "papermill": {
     "duration": 0.012889,
     "end_time": "2024-10-14T04:12:06.448573",
     "exception": false,
     "start_time": "2024-10-14T04:12:06.435684",
     "status": "completed"
    },
    "tags": []
   },
   "outputs": [],
   "source": [
    "def export_markdown_summary(md: str, md_fname:str, directory: str):\n",
    "    \"\"\"Export MD document and associated relevant images\"\"\"\n",
    "    import os\n",
    "    import shutil\n",
    "    import re\n",
    "\n",
    "    if (os.path.exists(directory) and not os.path.isdir(directory)):\n",
    "        raise RuntimeError(f\"a non-directory file exists with name {directory:s}\")\n",
    "\n",
    "    if (not os.path.exists(directory)):\n",
    "        print(f\"creating directory {directory:s}\")\n",
    "        os.mkdir(directory)\n",
    "\n",
    "    fig_fnames = (re.compile(r'\\[Fig.*\\]\\((.*)\\)').findall(md) + \n",
    "                  re.compile(r'\\<img src=\"([^>\\s]*)\"[^>]*/>').findall(md))\n",
    "    print(\"found figures\", fig_fnames)\n",
    "    for fname in fig_fnames:\n",
    "        if 'http' in fname:\n",
    "            # No need to copy online figures\n",
    "            continue\n",
    "        if not os.path.exists(fname):\n",
    "            print(\"file not found\", fname)\n",
    "            continue\n",
    "        print(\"copying \", fname, \"to\", directory)\n",
    "        destdir = os.path.join(directory, os.path.dirname(fname))\n",
    "        destfname = os.path.join(destdir, os.path.basename(fname))\n",
    "        try:\n",
    "            os.makedirs(destdir)\n",
    "        except FileExistsError:\n",
    "            pass\n",
    "        shutil.copy(fname, destfname)\n",
    "    with open(os.path.join(directory, md_fname), 'w') as fout:\n",
    "        fout.write(md)\n",
    "    print(\"exported in \", os.path.join(directory, md_fname))\n",
    "    [print(\"    + \" + os.path.join(directory,fk)) for fk in fig_fnames]"
   ]
  },
  {
   "cell_type": "code",
   "execution_count": 8,
   "id": "014d04a4",
   "metadata": {
    "execution": {
     "iopub.execute_input": "2024-10-14T04:12:06.458559Z",
     "iopub.status.busy": "2024-10-14T04:12:06.458182Z",
     "iopub.status.idle": "2024-10-14T04:12:06.469393Z",
     "shell.execute_reply": "2024-10-14T04:12:06.468764Z"
    },
    "papermill": {
     "duration": 0.017271,
     "end_time": "2024-10-14T04:12:06.470388",
     "exception": false,
     "start_time": "2024-10-14T04:12:06.453117",
     "status": "completed"
    },
    "tags": []
   },
   "outputs": [
    {
     "name": "stdout",
     "output_type": "stream",
     "text": [
      "found figures ['tmp_2410.08387/./absolute_total_attenuationcurve.png', 'tmp_2410.08387/./spec_v3.png', 'tmp_2410.08387/./cmd_almajwst_dustyrubies_as2uds_uds.png']\n",
      "copying  tmp_2410.08387/./absolute_total_attenuationcurve.png to _build/html/\n",
      "copying  tmp_2410.08387/./spec_v3.png to _build/html/\n",
      "copying  tmp_2410.08387/./cmd_almajwst_dustyrubies_as2uds_uds.png to _build/html/\n",
      "exported in  _build/html/2410.08387.md\n",
      "    + _build/html/tmp_2410.08387/./absolute_total_attenuationcurve.png\n",
      "    + _build/html/tmp_2410.08387/./spec_v3.png\n",
      "    + _build/html/tmp_2410.08387/./cmd_almajwst_dustyrubies_as2uds_uds.png\n"
     ]
    }
   ],
   "source": [
    "for paper_id, md in documents:\n",
    "    export_markdown_summary(md, f\"{paper_id:s}.md\", '_build/html/')"
   ]
  },
  {
   "cell_type": "markdown",
   "id": "f087a0a7",
   "metadata": {
    "papermill": {
     "duration": 0.004424,
     "end_time": "2024-10-14T04:12:06.479530",
     "exception": false,
     "start_time": "2024-10-14T04:12:06.475106",
     "status": "completed"
    },
    "tags": []
   },
   "source": [
    "## Display the papers\n",
    "\n",
    "Not necessary but allows for a quick check."
   ]
  },
  {
   "cell_type": "code",
   "execution_count": 9,
   "id": "fd25f625",
   "metadata": {
    "execution": {
     "iopub.execute_input": "2024-10-14T04:12:06.489595Z",
     "iopub.status.busy": "2024-10-14T04:12:06.489173Z",
     "iopub.status.idle": "2024-10-14T04:12:06.493910Z",
     "shell.execute_reply": "2024-10-14T04:12:06.493374Z"
    },
    "papermill": {
     "duration": 0.010903,
     "end_time": "2024-10-14T04:12:06.494924",
     "exception": false,
     "start_time": "2024-10-14T04:12:06.484021",
     "status": "completed"
    },
    "scrolled": false,
    "tags": []
   },
   "outputs": [
    {
     "data": {
      "text/markdown": [
       "<div class=\"macros\" style=\"visibility:hidden;\">\n",
       "$\\newcommand{\\ensuremath}{}$\n",
       "$\\newcommand{\\xspace}{}$\n",
       "$\\newcommand{\\object}[1]{\\texttt{#1}}$\n",
       "$\\newcommand{\\farcs}{{.}''}$\n",
       "$\\newcommand{\\farcm}{{.}'}$\n",
       "$\\newcommand{\\arcsec}{''}$\n",
       "$\\newcommand{\\arcmin}{'}$\n",
       "$\\newcommand{\\ion}[2]{#1#2}$\n",
       "$\\newcommand{\\textsc}[1]{\\textrm{#1}}$\n",
       "$\\newcommand{\\hl}[1]{\\textrm{#1}}$\n",
       "$\\newcommand{\\footnote}[1]{}$\n",
       "$\\newcommand$\n",
       "$\\newcommand$\n",
       "$\\newcommand$\n",
       "$\\newcommand{\\Lya}{Lyman-\\alpha}$\n",
       "$\\newcommand{\\Hb}{H\\beta}$\n",
       "$\\newcommand{\\Pab}{Pa\\beta}$\n",
       "$\\newcommand{\\Pag}{Pa\\gamma}$\n",
       "$\\newcommand{\\Pad}{Pa\\delta}$\n",
       "$\\newcommand{\\Pae}{Pa\\epsilon}$\n",
       "$\\newcommand{\\Feii}{[Fe\\textsc{ii}]\\lambda1.257\\um}$\n",
       "$\\newcommand{\\Ha}{H\\alpha}$\n",
       "$\\newcommand{\\zs}{z_{\\rm spec}}$\n",
       "$\\newcommand{\\zp}{z_{\\rm phot}}$\n",
       "$\\newcommand{\\Hei}{He\\textsc{i}}$\n",
       "$\\newcommand{\\Oii}{[O\\textsc{ii}]}$\n",
       "$\\newcommand{\\Hii}{H\\textsc{ii}}$\n",
       "$\\newcommand{\\Nii}{[N\\textsc{ii}]}$\n",
       "$\\newcommand{\\Siii}{[S\\textsc{iii}]}$\n",
       "$\\newcommand{\\Oiii}{[O\\textsc{iii}]}$\n",
       "$\\newcommand{\\Ciii}{C\\textsc{iii}]}$\n",
       "$\\newcommand{\\Cii}{[C\\textsc{ii}]}$\n",
       "$\\newcommand{\\Muv}{M_{\\text{UV}}}$\n",
       "$\\newcommand$\n",
       "$\\newcommand$\n",
       "$\\newcommand$</div>\n",
       "\n",
       "\n",
       "\n",
       "<div id=\"title\">\n",
       "\n",
       "# RUBIES: JWST/NIRSpec resolves evolutionary phases of dusty star-forming galaxies at $z\\sim2$\n",
       "\n",
       "</div>\n",
       "<div id=\"comments\">\n",
       "\n",
       "[![arXiv](https://img.shields.io/badge/arXiv-2410.08387-b31b1b.svg)](https://arxiv.org/abs/2410.08387)<mark>Appeared on: 2024-10-14</mark> -  _20 pages, 4 figures; submitted to ApJ_\n",
       "\n",
       "</div>\n",
       "<div id=\"authors\">\n",
       "\n",
       "O. R. Cooper, et al. -- incl., <mark>A. d. Graaff</mark>\n",
       "\n",
       "</div>\n",
       "<div id=\"abstract\">\n",
       "\n",
       "**Abstract:** The dearth of high quality spectroscopy of dusty star-forming galaxies (DSFGs) --- the main drivers of the assembly of dust and stellar mass at the peak of activity in the Universe --- greatly hinders our ability to interpret their physical processes and evolutionary pathways. We present JWST/NIRSpec observations from RUBIES of four submillimeter-selected, ALMA-detected DSFGs at cosmic noon, $z\\sim2.3-2.7$ . While photometry uniformly suggests vigorous ongoing star formation for the entire sample in line with canonical DSFGs, the spectra differ: one source has spectroscopic evidence of an evolved stellar population, indicating a recent transition to a post-starburst phase, while the remainder show strong spectroscopic signatures of ongoing starbursts. All four galaxies are infrared-luminous (log $_{10}$ $L_{\\rm{IR}}$ / $\\Lsun$ $>12.4$ ), massive (log $_{10} M_\\star$ / $\\Msun$ $>11$ ), and very dust-obscured ( $A_V\\sim3-4$ ABmag). Leveraging detections of multiple Balmer and Paschen lines, we derive an optical attenuation curve consistent with Calzetti overall, yet an optical extinction ratio $R_V\\sim2.5$ , potentially indicating smaller dust grains or differences in star-dust geometry. This case study provides some of the first detailed spectroscopic evidence that the DSFGs encompass a heterogeneous sample spanning a range of star formation properties and evolutionary stages, and illustrates the advantages of synergistic JWST and ALMA analysis of DSFGs.\n",
       "\n",
       "</div>\n",
       "\n",
       "<div id=\"div_fig1\">\n",
       "\n",
       "<img src=\"tmp_2410.08387/./absolute_total_attenuationcurve.png\" alt=\"Fig1\" width=\"100%\"/>\n",
       "\n",
       "**Figure 1. -** Dust attenuation curves derived for our sample compared to a few literature attenuation/extinction curves. Attenuation curve measurements and associated errors from line ratios measured for all detected Balmer/Paschen emission line pairs are shown as stars, and the best-fit function linear in $1/\\lambda$ is shown in thick purple. Overplotted are the extinction curves for the MW \\citep[gray;][]{1989cardelli}, SMC \\citep[dark purple;][]{2003gordon}, and LMC \\citep[lavender;][]{2003gordon}, as well as attenuation curves measured for star-forming galaxies (SFGs) nearby \\citep[dark gold;][]{2000calzetti}, at $z\\sim 2$\\citep[yellow;][]{2020reddy}, and for a $z=4.41$ galaxy \\citep[black;][]{2024sanders}. _Top:_ Absolute attenuation curve normalized to $A_V = 1$, for direct comparison of the relative shapes of the attenuation curves. _Bottom:_ Total attenuation $k^\\prime(\\lambda)$, to demonstrate the relative magnitudes of attenuation over the wavelength range. Line ratios used for fitting are all anchored to $\\Pab$, therefore each attenuation curve here is normalized such that $k^\\prime(\\rm Pa\\beta)=1$. Note that we do not show the $z=4.41$ curve here as it is not constrained out to our normalization wavelength. The legend shows the best fit functional form for $k(\\lambda)$; this is the normalized functional form such that $k(28000\\rm{Å}) = 0$, which differs in normalization constant only to the curve shown in the figure. (*fig:alaw*)\n",
       "\n",
       "</div>\n",
       "<div id=\"div_fig2\">\n",
       "\n",
       "<img src=\"tmp_2410.08387/./spec_v3.png\" alt=\"Fig3\" width=\"100%\"/>\n",
       "\n",
       "**Figure 3. -** JWST/NIRSpec 1D PRISM spectra and uncertainty for our sources (green/purple and light green/purple, respectively) and best-fit model from \\texttt{msaexp}(black). We present the spectra in two different colors to emphasize the distinction in their star-formation properties, using green for the more evolved, post-starburst galaxy, and purple for the strongly starbursting galaxies. Measured spectroscopic redshifts and object names are listed for each source. Wavelengths of redshifted spectroscopic features are shown as dashed vertical lines, with detected lines or features (S/N$>3$) labeled in dark gray and non-detected lines labeled in light gray for reference. The JWST/NIRCam F444W cutout for each source is shown as an inset ($2\"$ wide), with the position of the NIRSpec slit overplotted on each image. (*fig:spec*)\n",
       "\n",
       "</div>\n",
       "<div id=\"div_fig3\">\n",
       "\n",
       "<img src=\"tmp_2410.08387/./cmd_almajwst_dustyrubies_as2uds_uds.png\" alt=\"Fig2\" width=\"100%\"/>\n",
       "\n",
       "**Figure 2. -** Our DSFGs are bright and red, have typical NIRCam colors and moderately bright submillimeter flux densities, overall consistent with the larger DSFG sample. _Top:_ JWST/NIRCam color magnitude diagram comparing the F277W $-$ F444W colors and F444W magnitudes of the DSFGs reported in this work to the broader sample of known DSFGs in AS2UDS \\citep[][]{2020dudz,2024gillman} within the PRIMER-UDS footprint (black points), and to the DSFGs in SCUBADive \\citep[gray hexagons;][]{2024mckinney}, with the full PRIMER-UDS catalog in the background (small gray points). The three starbursting galaxies in our sample are noted in purple, while the post-starburst galaxy is shown in green. _Bottom:_ Color magnitude diagram with JWST/NIRCam F150W $-$ F444W color versus ALMA Band 7 flux density. Symbols are consistent as in the top subplot, but here colors denote the redshift; a spectroscopic redshift for the four RUBIES DSFGs, else the best-available redshifts from AS2UDS and SCUBADive. (*fig:cmd*)\n",
       "\n",
       "</div><div id=\"qrcode\"><img src=https://api.qrserver.com/v1/create-qr-code/?size=100x100&data=\"https://arxiv.org/abs/2410.08387\"></div>"
      ],
      "text/plain": [
       "<IPython.core.display.Markdown object>"
      ]
     },
     "metadata": {},
     "output_type": "display_data"
    }
   ],
   "source": [
    "[display(Markdown(k[1])) for k in documents];"
   ]
  },
  {
   "cell_type": "markdown",
   "id": "873873a4",
   "metadata": {
    "papermill": {
     "duration": 0.004732,
     "end_time": "2024-10-14T04:12:06.504639",
     "exception": false,
     "start_time": "2024-10-14T04:12:06.499907",
     "status": "completed"
    },
    "tags": []
   },
   "source": [
    "# Create HTML index"
   ]
  },
  {
   "cell_type": "code",
   "execution_count": 10,
   "id": "cf665672",
   "metadata": {
    "execution": {
     "iopub.execute_input": "2024-10-14T04:12:06.515064Z",
     "iopub.status.busy": "2024-10-14T04:12:06.514663Z",
     "iopub.status.idle": "2024-10-14T04:12:06.522949Z",
     "shell.execute_reply": "2024-10-14T04:12:06.522376Z"
    },
    "papermill": {
     "duration": 0.014546,
     "end_time": "2024-10-14T04:12:06.523910",
     "exception": false,
     "start_time": "2024-10-14T04:12:06.509364",
     "status": "completed"
    },
    "tags": []
   },
   "outputs": [
    {
     "name": "stdout",
     "output_type": "stream",
     "text": [
      "216  publications files modified in the last 7 days.\n"
     ]
    }
   ],
   "source": [
    "from datetime import datetime, timedelta, timezone\n",
    "from glob import glob\n",
    "import os\n",
    "\n",
    "files = glob('_build/html/*.md')\n",
    "days = 7\n",
    "now = datetime.today()\n",
    "res = []\n",
    "for fk in files:\n",
    "    stat_result = os.stat(fk).st_ctime\n",
    "    modified = datetime.fromtimestamp(stat_result, tz=timezone.utc).replace(tzinfo=None)\n",
    "    delta = now.today() - modified\n",
    "    if delta <= timedelta(days=days):\n",
    "        res.append((delta.seconds, fk))\n",
    "res = [k[1] for k in reversed(sorted(res, key=lambda x:x[1]))]\n",
    "npub = len(res)\n",
    "print(len(res), f\" publications files modified in the last {days:d} days.\")\n",
    "# [ print('\\t', k) for k in res ];"
   ]
  },
  {
   "cell_type": "code",
   "execution_count": 11,
   "id": "015de740",
   "metadata": {
    "execution": {
     "iopub.execute_input": "2024-10-14T04:12:06.534987Z",
     "iopub.status.busy": "2024-10-14T04:12:06.534463Z",
     "iopub.status.idle": "2024-10-14T04:12:06.549563Z",
     "shell.execute_reply": "2024-10-14T04:12:06.549024Z"
    },
    "papermill": {
     "duration": 0.021676,
     "end_time": "2024-10-14T04:12:06.550532",
     "exception": false,
     "start_time": "2024-10-14T04:12:06.528856",
     "status": "completed"
    },
    "tags": []
   },
   "outputs": [
    {
     "name": "stdout",
     "output_type": "stream",
     "text": [
      "10  publications in the last 7 days.\n"
     ]
    }
   ],
   "source": [
    "import datetime\n",
    "from glob import glob\n",
    "\n",
    "def get_last_n_days(lst, days=1):\n",
    "    \"\"\" Get the documents from the last n days \"\"\"\n",
    "    sorted_lst = sorted(lst, key=lambda x: x[1], reverse=True)\n",
    "    for fname, date in sorted_lst:\n",
    "        if date >= str(datetime.date.today() - datetime.timedelta(days=days)):\n",
    "            yield fname\n",
    "\n",
    "def extract_appearance_dates(lst_file):\n",
    "    dates = []\n",
    "\n",
    "    def get_date(line):\n",
    "        return line\\\n",
    "            .split('Appeared on:')[-1]\\\n",
    "            .split('</mark>')[0].strip()\n",
    "\n",
    "    for fname in lst:\n",
    "        with open(fname, 'r') as f:\n",
    "            found_date = False\n",
    "            for line in f:\n",
    "                if not found_date:\n",
    "                    if \"Appeared on\" in line:\n",
    "                        found_date = True\n",
    "                        dates.append((fname, get_date(line)))\n",
    "                else:\n",
    "                    break\n",
    "    return dates\n",
    "\n",
    "from glob import glob\n",
    "lst = glob('_build/html/*md')\n",
    "days = 7\n",
    "dates = extract_appearance_dates(lst)\n",
    "res = list(get_last_n_days(dates, days))\n",
    "npub = len(res)\n",
    "print(len(res), f\" publications in the last {days:d} days.\")"
   ]
  },
  {
   "cell_type": "code",
   "execution_count": 12,
   "id": "52ca0208",
   "metadata": {
    "execution": {
     "iopub.execute_input": "2024-10-14T04:12:06.561490Z",
     "iopub.status.busy": "2024-10-14T04:12:06.560897Z",
     "iopub.status.idle": "2024-10-14T04:12:06.565891Z",
     "shell.execute_reply": "2024-10-14T04:12:06.565391Z"
    },
    "papermill": {
     "duration": 0.011438,
     "end_time": "2024-10-14T04:12:06.566929",
     "exception": false,
     "start_time": "2024-10-14T04:12:06.555491",
     "status": "completed"
    },
    "scrolled": false,
    "tags": []
   },
   "outputs": [],
   "source": [
    "def create_carousel(npub=4):\n",
    "    \"\"\" Generate the HTML code for a carousel with `npub` slides \"\"\"\n",
    "    carousel = [\"\"\"  <div class=\"carousel\" \"\"\",\n",
    "                \"\"\"       data-flickity='{ \"autoPlay\": 10000, \"adaptiveHeight\": true, \"resize\": true, \"wrapAround\": true, \"pauseAutoPlayOnHover\": true, \"groupCells\": 1 }' id=\"asyncTypeset\">\"\"\"\n",
    "                ]\n",
    "    \n",
    "    item_str = \"\"\"    <div class=\"carousel-cell\"> <div id=\"slide{k}\" class=\"md_view\">Content {k}</div> </div>\"\"\"\n",
    "    for k in range(1, npub + 1):\n",
    "        carousel.append(item_str.format(k=k))\n",
    "    carousel.append(\"  </div>\")\n",
    "    return '\\n'.join(carousel)\n",
    "\n",
    "def create_grid(npub=4):\n",
    "    \"\"\" Generate the HTML code for a flat grid with `npub` slides \"\"\"\n",
    "    grid = [\"\"\"  <div class=\"grid\"> \"\"\",\n",
    "                ]\n",
    "    \n",
    "    item_str = \"\"\"    <div class=\"grid-item\"> <div id=\"slide{k}\" class=\"md_view\">Content {k}</div> </div>\"\"\"\n",
    "    for k in range(1, npub + 1):\n",
    "        grid.append(item_str.format(k=k))\n",
    "    grid.append(\"  </div>\")\n",
    "    return '\\n'.join(grid)"
   ]
  },
  {
   "cell_type": "code",
   "execution_count": 13,
   "id": "a6eac5b6",
   "metadata": {
    "execution": {
     "iopub.execute_input": "2024-10-14T04:12:06.578004Z",
     "iopub.status.busy": "2024-10-14T04:12:06.577641Z",
     "iopub.status.idle": "2024-10-14T04:12:06.582663Z",
     "shell.execute_reply": "2024-10-14T04:12:06.582056Z"
    },
    "papermill": {
     "duration": 0.011689,
     "end_time": "2024-10-14T04:12:06.583820",
     "exception": false,
     "start_time": "2024-10-14T04:12:06.572131",
     "status": "completed"
    },
    "scrolled": false,
    "tags": []
   },
   "outputs": [],
   "source": [
    "carousel = create_carousel(npub)\n",
    "docs = ', '.join(['\"{0:s}\"'.format(k.split('/')[-1]) for k in res])\n",
    "slides = ', '.join([f'\"slide{k}\"' for k in range(1, npub + 1)])\n",
    "\n",
    "with open(\"daily_template.html\", \"r\") as tpl:\n",
    "    page = tpl.read()\n",
    "    page = page.replace(\"{%-- carousel:s --%}\", carousel)\\\n",
    "               .replace(\"{%-- suptitle:s --%}\",  \"7-day archives\" )\\\n",
    "               .replace(\"{%-- docs:s --%}\", docs)\\\n",
    "               .replace(\"{%-- slides:s --%}\", slides)\n",
    "    \n",
    "with open(\"_build/html/index_7days.html\", 'w') as fout:\n",
    "    fout.write(page)"
   ]
  },
  {
   "cell_type": "code",
   "execution_count": 14,
   "id": "adc1a1ec",
   "metadata": {
    "execution": {
     "iopub.execute_input": "2024-10-14T04:12:06.595162Z",
     "iopub.status.busy": "2024-10-14T04:12:06.594619Z",
     "iopub.status.idle": "2024-10-14T04:12:06.600936Z",
     "shell.execute_reply": "2024-10-14T04:12:06.600392Z"
    },
    "papermill": {
     "duration": 0.012937,
     "end_time": "2024-10-14T04:12:06.601925",
     "exception": false,
     "start_time": "2024-10-14T04:12:06.588988",
     "status": "completed"
    },
    "tags": []
   },
   "outputs": [
    {
     "name": "stdout",
     "output_type": "stream",
     "text": [
      "1  publications in the last day.\n"
     ]
    }
   ],
   "source": [
    "# redo for today\n",
    "days = 1\n",
    "res = list(get_last_n_days(dates, days))\n",
    "npub = len(res)\n",
    "print(len(res), f\" publications in the last day.\")\n",
    "\n",
    "carousel = create_carousel(npub)\n",
    "docs = ', '.join(['\"{0:s}\"'.format(k.split('/')[-1]) for k in res])\n",
    "slides = ', '.join([f'\"slide{k}\"' for k in range(1, npub + 1)])\n",
    "\n",
    "with open(\"daily_template.html\", \"r\") as tpl:\n",
    "    page = tpl.read()\n",
    "    page = page.replace(\"{%-- carousel:s --%}\", carousel)\\\n",
    "               .replace(\"{%-- suptitle:s --%}\",  \"Daily\" )\\\n",
    "               .replace(\"{%-- docs:s --%}\", docs)\\\n",
    "               .replace(\"{%-- slides:s --%}\", slides)\n",
    "    \n",
    "# print(carousel, docs, slides)\n",
    "# print(page)\n",
    "with open(\"_build/html/index_daily.html\", 'w') as fout:\n",
    "    fout.write(page)"
   ]
  },
  {
   "cell_type": "code",
   "execution_count": 15,
   "id": "00eece82",
   "metadata": {
    "execution": {
     "iopub.execute_input": "2024-10-14T04:12:06.613143Z",
     "iopub.status.busy": "2024-10-14T04:12:06.612764Z",
     "iopub.status.idle": "2024-10-14T04:12:06.618933Z",
     "shell.execute_reply": "2024-10-14T04:12:06.618384Z"
    },
    "papermill": {
     "duration": 0.012605,
     "end_time": "2024-10-14T04:12:06.619830",
     "exception": false,
     "start_time": "2024-10-14T04:12:06.607225",
     "status": "completed"
    },
    "scrolled": false,
    "tags": []
   },
   "outputs": [
    {
     "name": "stdout",
     "output_type": "stream",
     "text": [
      "6  6 publications selected.\n"
     ]
    }
   ],
   "source": [
    "# Create the flat grid of the last N papers (fixed number regardless of dates)\n",
    "from itertools import islice \n",
    "\n",
    "npub = 6\n",
    "res = [k[0] for k in (islice(reversed(sorted(dates, key=lambda x: x[1])), 6))]\n",
    "print(len(res), f\" {npub} publications selected.\")\n",
    "\n",
    "grid = create_grid(npub)\n",
    "docs = ', '.join(['\"{0:s}\"'.format(k.split('/')[-1]) for k in res])\n",
    "slides = ', '.join([f'\"slide{k}\"' for k in range(1, npub + 1)])\n",
    "\n",
    "with open(\"grid_template.html\", \"r\") as tpl:\n",
    "    page = tpl.read()\n",
    "    page = page.replace(\"{%-- grid-content:s --%}\", grid)\\\n",
    "               .replace(\"{%-- suptitle:s --%}\",  f\"Last {npub:,d} papers\" )\\\n",
    "               .replace(\"{%-- docs:s --%}\", docs)\\\n",
    "               .replace(\"{%-- slides:s --%}\", slides)\n",
    "    \n",
    "# print(grid, docs, slides)\n",
    "# print(page)\n",
    "with open(\"_build/html/index_npub_grid.html\", 'w') as fout:\n",
    "    fout.write(page)"
   ]
  }
 ],
 "metadata": {
  "kernelspec": {
   "display_name": "Python 3 (ipykernel)",
   "language": "python",
   "name": "python3"
  },
  "language_info": {
   "codemirror_mode": {
    "name": "ipython",
    "version": 3
   },
   "file_extension": ".py",
   "mimetype": "text/x-python",
   "name": "python",
   "nbconvert_exporter": "python",
   "pygments_lexer": "ipython3",
   "version": "3.9.20"
  },
  "papermill": {
   "default_parameters": {},
   "duration": 80.401816,
   "end_time": "2024-10-14T04:12:06.840680",
   "environment_variables": {},
   "exception": null,
   "input_path": "MPIA daily digest.ipynb",
   "output_path": "log.ipynb",
   "parameters": {},
   "start_time": "2024-10-14T04:10:46.438864",
   "version": "2.6.0"
  },
  "vscode": {
   "interpreter": {
    "hash": "aee8b7b246df8f9039afb4144a1f6fd8d2ca17a180786b69acc140d282b71a49"
   }
  },
  "widgets": {
   "application/vnd.jupyter.widget-state+json": {
    "state": {
     "1a656806394e47d79fc0550f437c357f": {
      "model_module": "@jupyter-widgets/controls",
      "model_module_version": "2.0.0",
      "model_name": "HTMLModel",
      "state": {
       "_dom_classes": [],
       "_model_module": "@jupyter-widgets/controls",
       "_model_module_version": "2.0.0",
       "_model_name": "HTMLModel",
       "_view_count": null,
       "_view_module": "@jupyter-widgets/controls",
       "_view_module_version": "2.0.0",
       "_view_name": "HTMLView",
       "description": "",
       "description_allow_html": false,
       "layout": "IPY_MODEL_be108cd953924dca9aaef356e100f31c",
       "placeholder": "​",
       "style": "IPY_MODEL_4a8842c24e5d4ba489da5c232f3f6b8c",
       "tabbable": null,
       "tooltip": null,
       "value": "100%"
      }
     },
     "3c5d223d38c84de599c0ea669c51515f": {
      "model_module": "@jupyter-widgets/controls",
      "model_module_version": "2.0.0",
      "model_name": "HBoxModel",
      "state": {
       "_dom_classes": [],
       "_model_module": "@jupyter-widgets/controls",
       "_model_module_version": "2.0.0",
       "_model_name": "HBoxModel",
       "_view_count": null,
       "_view_module": "@jupyter-widgets/controls",
       "_view_module_version": "2.0.0",
       "_view_name": "HBoxView",
       "box_style": "",
       "children": [
        "IPY_MODEL_1a656806394e47d79fc0550f437c357f",
        "IPY_MODEL_c9f5aba2fcc243b290c5f11deb187eea",
        "IPY_MODEL_d15dee93bacb4996805d51f90f82520d"
       ],
       "layout": "IPY_MODEL_44301e45bb854393ade11f42e54a4350",
       "tabbable": null,
       "tooltip": null
      }
     },
     "44301e45bb854393ade11f42e54a4350": {
      "model_module": "@jupyter-widgets/base",
      "model_module_version": "2.0.0",
      "model_name": "LayoutModel",
      "state": {
       "_model_module": "@jupyter-widgets/base",
       "_model_module_version": "2.0.0",
       "_model_name": "LayoutModel",
       "_view_count": null,
       "_view_module": "@jupyter-widgets/base",
       "_view_module_version": "2.0.0",
       "_view_name": "LayoutView",
       "align_content": null,
       "align_items": null,
       "align_self": null,
       "border_bottom": null,
       "border_left": null,
       "border_right": null,
       "border_top": null,
       "bottom": null,
       "display": null,
       "flex": null,
       "flex_flow": null,
       "grid_area": null,
       "grid_auto_columns": null,
       "grid_auto_flow": null,
       "grid_auto_rows": null,
       "grid_column": null,
       "grid_gap": null,
       "grid_row": null,
       "grid_template_areas": null,
       "grid_template_columns": null,
       "grid_template_rows": null,
       "height": null,
       "justify_content": null,
       "justify_items": null,
       "left": null,
       "margin": null,
       "max_height": null,
       "max_width": null,
       "min_height": null,
       "min_width": null,
       "object_fit": null,
       "object_position": null,
       "order": null,
       "overflow": null,
       "padding": null,
       "right": null,
       "top": null,
       "visibility": null,
       "width": null
      }
     },
     "4a8842c24e5d4ba489da5c232f3f6b8c": {
      "model_module": "@jupyter-widgets/controls",
      "model_module_version": "2.0.0",
      "model_name": "HTMLStyleModel",
      "state": {
       "_model_module": "@jupyter-widgets/controls",
       "_model_module_version": "2.0.0",
       "_model_name": "HTMLStyleModel",
       "_view_count": null,
       "_view_module": "@jupyter-widgets/base",
       "_view_module_version": "2.0.0",
       "_view_name": "StyleView",
       "background": null,
       "description_width": "",
       "font_size": null,
       "text_color": null
      }
     },
     "5b38df513f694869afc1e568a5b15504": {
      "model_module": "@jupyter-widgets/base",
      "model_module_version": "2.0.0",
      "model_name": "LayoutModel",
      "state": {
       "_model_module": "@jupyter-widgets/base",
       "_model_module_version": "2.0.0",
       "_model_name": "LayoutModel",
       "_view_count": null,
       "_view_module": "@jupyter-widgets/base",
       "_view_module_version": "2.0.0",
       "_view_name": "LayoutView",
       "align_content": null,
       "align_items": null,
       "align_self": null,
       "border_bottom": null,
       "border_left": null,
       "border_right": null,
       "border_top": null,
       "bottom": null,
       "display": null,
       "flex": null,
       "flex_flow": null,
       "grid_area": null,
       "grid_auto_columns": null,
       "grid_auto_flow": null,
       "grid_auto_rows": null,
       "grid_column": null,
       "grid_gap": null,
       "grid_row": null,
       "grid_template_areas": null,
       "grid_template_columns": null,
       "grid_template_rows": null,
       "height": null,
       "justify_content": null,
       "justify_items": null,
       "left": null,
       "margin": null,
       "max_height": null,
       "max_width": null,
       "min_height": null,
       "min_width": null,
       "object_fit": null,
       "object_position": null,
       "order": null,
       "overflow": null,
       "padding": null,
       "right": null,
       "top": null,
       "visibility": null,
       "width": null
      }
     },
     "aa6bc2be48e24019a616c611c475fae7": {
      "model_module": "@jupyter-widgets/base",
      "model_module_version": "2.0.0",
      "model_name": "LayoutModel",
      "state": {
       "_model_module": "@jupyter-widgets/base",
       "_model_module_version": "2.0.0",
       "_model_name": "LayoutModel",
       "_view_count": null,
       "_view_module": "@jupyter-widgets/base",
       "_view_module_version": "2.0.0",
       "_view_name": "LayoutView",
       "align_content": null,
       "align_items": null,
       "align_self": null,
       "border_bottom": null,
       "border_left": null,
       "border_right": null,
       "border_top": null,
       "bottom": null,
       "display": null,
       "flex": null,
       "flex_flow": null,
       "grid_area": null,
       "grid_auto_columns": null,
       "grid_auto_flow": null,
       "grid_auto_rows": null,
       "grid_column": null,
       "grid_gap": null,
       "grid_row": null,
       "grid_template_areas": null,
       "grid_template_columns": null,
       "grid_template_rows": null,
       "height": null,
       "justify_content": null,
       "justify_items": null,
       "left": null,
       "margin": null,
       "max_height": null,
       "max_width": null,
       "min_height": null,
       "min_width": null,
       "object_fit": null,
       "object_position": null,
       "order": null,
       "overflow": null,
       "padding": null,
       "right": null,
       "top": null,
       "visibility": null,
       "width": null
      }
     },
     "be108cd953924dca9aaef356e100f31c": {
      "model_module": "@jupyter-widgets/base",
      "model_module_version": "2.0.0",
      "model_name": "LayoutModel",
      "state": {
       "_model_module": "@jupyter-widgets/base",
       "_model_module_version": "2.0.0",
       "_model_name": "LayoutModel",
       "_view_count": null,
       "_view_module": "@jupyter-widgets/base",
       "_view_module_version": "2.0.0",
       "_view_name": "LayoutView",
       "align_content": null,
       "align_items": null,
       "align_self": null,
       "border_bottom": null,
       "border_left": null,
       "border_right": null,
       "border_top": null,
       "bottom": null,
       "display": null,
       "flex": null,
       "flex_flow": null,
       "grid_area": null,
       "grid_auto_columns": null,
       "grid_auto_flow": null,
       "grid_auto_rows": null,
       "grid_column": null,
       "grid_gap": null,
       "grid_row": null,
       "grid_template_areas": null,
       "grid_template_columns": null,
       "grid_template_rows": null,
       "height": null,
       "justify_content": null,
       "justify_items": null,
       "left": null,
       "margin": null,
       "max_height": null,
       "max_width": null,
       "min_height": null,
       "min_width": null,
       "object_fit": null,
       "object_position": null,
       "order": null,
       "overflow": null,
       "padding": null,
       "right": null,
       "top": null,
       "visibility": null,
       "width": null
      }
     },
     "c9f5aba2fcc243b290c5f11deb187eea": {
      "model_module": "@jupyter-widgets/controls",
      "model_module_version": "2.0.0",
      "model_name": "FloatProgressModel",
      "state": {
       "_dom_classes": [],
       "_model_module": "@jupyter-widgets/controls",
       "_model_module_version": "2.0.0",
       "_model_name": "FloatProgressModel",
       "_view_count": null,
       "_view_module": "@jupyter-widgets/controls",
       "_view_module_version": "2.0.0",
       "_view_name": "ProgressView",
       "bar_style": "success",
       "description": "",
       "description_allow_html": false,
       "layout": "IPY_MODEL_aa6bc2be48e24019a616c611c475fae7",
       "max": 4.0,
       "min": 0.0,
       "orientation": "horizontal",
       "style": "IPY_MODEL_ca4dc49b048848c6922c34c65a64790b",
       "tabbable": null,
       "tooltip": null,
       "value": 4.0
      }
     },
     "ca4dc49b048848c6922c34c65a64790b": {
      "model_module": "@jupyter-widgets/controls",
      "model_module_version": "2.0.0",
      "model_name": "ProgressStyleModel",
      "state": {
       "_model_module": "@jupyter-widgets/controls",
       "_model_module_version": "2.0.0",
       "_model_name": "ProgressStyleModel",
       "_view_count": null,
       "_view_module": "@jupyter-widgets/base",
       "_view_module_version": "2.0.0",
       "_view_name": "StyleView",
       "bar_color": null,
       "description_width": ""
      }
     },
     "cf9dda059f9d445c85ab1adc7ea4afbd": {
      "model_module": "@jupyter-widgets/controls",
      "model_module_version": "2.0.0",
      "model_name": "HTMLStyleModel",
      "state": {
       "_model_module": "@jupyter-widgets/controls",
       "_model_module_version": "2.0.0",
       "_model_name": "HTMLStyleModel",
       "_view_count": null,
       "_view_module": "@jupyter-widgets/base",
       "_view_module_version": "2.0.0",
       "_view_name": "StyleView",
       "background": null,
       "description_width": "",
       "font_size": null,
       "text_color": null
      }
     },
     "d15dee93bacb4996805d51f90f82520d": {
      "model_module": "@jupyter-widgets/controls",
      "model_module_version": "2.0.0",
      "model_name": "HTMLModel",
      "state": {
       "_dom_classes": [],
       "_model_module": "@jupyter-widgets/controls",
       "_model_module_version": "2.0.0",
       "_model_name": "HTMLModel",
       "_view_count": null,
       "_view_module": "@jupyter-widgets/controls",
       "_view_module_version": "2.0.0",
       "_view_name": "HTMLView",
       "description": "",
       "description_allow_html": false,
       "layout": "IPY_MODEL_5b38df513f694869afc1e568a5b15504",
       "placeholder": "​",
       "style": "IPY_MODEL_cf9dda059f9d445c85ab1adc7ea4afbd",
       "tabbable": null,
       "tooltip": null,
       "value": " 4/4 [01:00&lt;00:00, 10.21s/it]"
      }
     }
    },
    "version_major": 2,
    "version_minor": 0
   }
  }
 },
 "nbformat": 4,
 "nbformat_minor": 5
}