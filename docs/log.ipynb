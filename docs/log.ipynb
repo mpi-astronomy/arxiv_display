{
 "cells": [
  {
   "cell_type": "markdown",
   "id": "92bcb855",
   "metadata": {
    "papermill": {
     "duration": 0.00659,
     "end_time": "2022-11-16T04:13:20.313869",
     "exception": false,
     "start_time": "2022-11-16T04:13:20.307279",
     "status": "completed"
    },
    "tags": []
   },
   "source": [
    "# MPIA Arxiv on Deck 2\n",
    "\n",
    "Contains the steps to produce the paper extractions."
   ]
  },
  {
   "cell_type": "code",
   "execution_count": 1,
   "id": "3a0d6e11",
   "metadata": {
    "execution": {
     "iopub.execute_input": "2022-11-16T04:13:20.327197Z",
     "iopub.status.busy": "2022-11-16T04:13:20.326385Z",
     "iopub.status.idle": "2022-11-16T04:13:20.554730Z",
     "shell.execute_reply": "2022-11-16T04:13:20.553684Z"
    },
    "papermill": {
     "duration": 0.238414,
     "end_time": "2022-11-16T04:13:20.557746",
     "exception": false,
     "start_time": "2022-11-16T04:13:20.319332",
     "status": "completed"
    },
    "tags": []
   },
   "outputs": [],
   "source": [
    "# Imports\n",
    "import os\n",
    "from IPython.display import Markdown, display\n",
    "from tqdm.notebook import tqdm\n",
    "import warnings\n",
    "from PIL import Image \n",
    "\n",
    "# requires arxiv_on_deck_2\n",
    "\n",
    "from arxiv_on_deck_2.arxiv2 import (get_new_papers, \n",
    "                                    get_paper_from_identifier,\n",
    "                                    retrieve_document_source, \n",
    "                                    get_markdown_badge)\n",
    "from arxiv_on_deck_2 import (latex, \n",
    "                             mpia,\n",
    "                             highlight_authors_in_list)\n",
    "\n",
    "# Sometimes images are really big\n",
    "Image.MAX_IMAGE_PIXELS = 1000000000 "
   ]
  },
  {
   "cell_type": "code",
   "execution_count": 2,
   "id": "22aa9d44",
   "metadata": {
    "execution": {
     "iopub.execute_input": "2022-11-16T04:13:20.573529Z",
     "iopub.status.busy": "2022-11-16T04:13:20.572982Z",
     "iopub.status.idle": "2022-11-16T04:13:20.580941Z",
     "shell.execute_reply": "2022-11-16T04:13:20.579930Z"
    },
    "papermill": {
     "duration": 0.017819,
     "end_time": "2022-11-16T04:13:20.583432",
     "exception": false,
     "start_time": "2022-11-16T04:13:20.565613",
     "status": "completed"
    },
    "tags": []
   },
   "outputs": [],
   "source": [
    "# Some useful definitions.\n",
    "\n",
    "class AffiliationWarning(UserWarning):\n",
    "    pass\n",
    "\n",
    "class AffiliationError(RuntimeError):\n",
    "    pass\n",
    "\n",
    "def validation(source: str):\n",
    "    \"\"\"Raises error paper during parsing of source file\n",
    "    \n",
    "    Allows checks before parsing TeX code.\n",
    "    \n",
    "    Raises AffiliationWarning\n",
    "    \"\"\"\n",
    "    check = mpia.affiliation_verifications(source, verbose=True)\n",
    "    if check is not True:\n",
    "        raise AffiliationError(\"mpia.affiliation_verifications: \" + check)\n",
    "\n",
    "        \n",
    "warnings.simplefilter('always', AffiliationWarning)"
   ]
  },
  {
   "cell_type": "code",
   "execution_count": 3,
   "id": "14622700",
   "metadata": {
    "execution": {
     "iopub.execute_input": "2022-11-16T04:13:20.596269Z",
     "iopub.status.busy": "2022-11-16T04:13:20.595479Z",
     "iopub.status.idle": "2022-11-16T04:13:20.600985Z",
     "shell.execute_reply": "2022-11-16T04:13:20.600145Z"
    },
    "papermill": {
     "duration": 0.01419,
     "end_time": "2022-11-16T04:13:20.603113",
     "exception": false,
     "start_time": "2022-11-16T04:13:20.588923",
     "status": "completed"
    },
    "tags": []
   },
   "outputs": [],
   "source": [
    "# additional CSS to consider. \n",
    "# TODO: Current into each exported file. \n",
    "#       This should be set once into the webpages directly.\n",
    "#       With only the class/id definitions in the .md files.\n",
    "\n",
    "debug_html = \"\"\"\n",
    "<style>\n",
    "#wrap{ overflow:auto; }\n",
    "#fig1{ background:yellow; width:100%; float:left; padding:5px;  }\n",
    "#fig2{ background:red; width:50%; float:left; clear:left; padding:5px;  }\n",
    "#fig3{ background:green; width:50%; float:left; padding:5px;   }\n",
    ".macros{ background:yellow; visibility:visible;}\n",
    "h1 {margin: 0 0 0 0;}\n",
    "mark {background-color:#fff3b6;}\n",
    "img {object-fit:contain; max-height:250px; display:inline-block; text-align: center;}\n",
    "</style>\n",
    "\"\"\" \n",
    "html = \"\"\"\n",
    "<style>\n",
    "#wrap{ overflow:auto; }\n",
    "#fig1{ width:100%; float:left; padding: 5px;  }\n",
    "#fig2{ width:50%; float:left; clear:left; padding: 5px;  }\n",
    "#fig3{ width:50%; float:left; padding: 5px;  }\n",
    ".macros{ visibility:hidden; height:0px; }\n",
    "h1 {margin: 0em 0 0 0;}\n",
    "mark {background-color:#fff3b6;}\n",
    "img {object-fit:contain; max-height:250px; display:inline-block; text-align: center;}\n",
    "</style>\n",
    "\"\"\""
   ]
  },
  {
   "cell_type": "markdown",
   "id": "14bd6310",
   "metadata": {
    "papermill": {
     "duration": 0.005536,
     "end_time": "2022-11-16T04:13:20.614017",
     "exception": false,
     "start_time": "2022-11-16T04:13:20.608481",
     "status": "completed"
    },
    "tags": []
   },
   "source": [
    "## get list of arxiv paper candidates\n",
    "\n",
    "We use the MPIA mitarbeiter list webpage from mpia.de to get author names\n",
    "We then get all new papers from Arxiv and match authors"
   ]
  },
  {
   "cell_type": "code",
   "execution_count": 4,
   "id": "2645e73a",
   "metadata": {
    "execution": {
     "iopub.execute_input": "2022-11-16T04:13:20.626165Z",
     "iopub.status.busy": "2022-11-16T04:13:20.625605Z",
     "iopub.status.idle": "2022-11-16T04:13:45.593069Z",
     "shell.execute_reply": "2022-11-16T04:13:45.592024Z"
    },
    "papermill": {
     "duration": 24.976066,
     "end_time": "2022-11-16T04:13:45.595201",
     "exception": false,
     "start_time": "2022-11-16T04:13:20.619135",
     "status": "completed"
    },
    "tags": []
   },
   "outputs": [
    {
     "name": "stdout",
     "output_type": "stream",
     "text": [
      "Arxiv has 60 new papers today\n",
      "          26 with possible author matches\n"
     ]
    }
   ],
   "source": [
    "# get list from MPIA website\n",
    "# it automatically filters identified non-scientists :func:`mpia.filter_non_scientists`\n",
    "mpia_authors = mpia.get_mpia_mitarbeiter_list()\n",
    "new_papers = get_new_papers()\n",
    "# add manual references\n",
    "add_paper_refs = []\n",
    "new_papers.extend([get_paper_from_identifier(k) for k in add_paper_refs])\n",
    "\n",
    "# select only papers with matching author names and highlight authors\n",
    "hl_list = [k[0] for k in mpia_authors]\n",
    "\n",
    "candidates = []\n",
    "for paperk in new_papers:\n",
    "    hl_authors = highlight_authors_in_list(paperk['authors'], hl_list)\n",
    "    matches = [(hl, orig) for hl, orig in zip(hl_authors, paperk['authors']) if 'mark' in hl]\n",
    "    paperk['authors'] = hl_authors\n",
    "    if matches:\n",
    "        candidates.append(paperk)\n",
    "print(\"\"\"Arxiv has {0:,d} new papers today\"\"\".format(len(new_papers)))        \n",
    "print(\"\"\"          {0:,d} with possible author matches\"\"\".format(len(candidates)))"
   ]
  },
  {
   "cell_type": "markdown",
   "id": "3543b34a",
   "metadata": {
    "papermill": {
     "duration": 0.005747,
     "end_time": "2022-11-16T04:13:45.606977",
     "exception": false,
     "start_time": "2022-11-16T04:13:45.601230",
     "status": "completed"
    },
    "tags": []
   },
   "source": [
    "# Parse sources and generate relevant outputs\n",
    "\n",
    "From the candidates, we do the following steps:\n",
    "* get their tarball from ArXiv (and extract data)\n",
    "* find the main .tex file: find one with \\documentclass{...} (sometimes it's non trivial)\n",
    "* Check affiliations with :func:`validation`, which uses :func:`mpia.affiliation_verifications`\n",
    "* If passing the affiliations: we parse the .tex source\n",
    "   * inject sub-documents into the main (flatten the main document)\n",
    "   * parse structure, extract information (title, abstract, authors, figures...)\n",
    "   * handles `\\graphicspath` if provided\n",
    "* Generate the .md document."
   ]
  },
  {
   "cell_type": "code",
   "execution_count": 5,
   "id": "9576b79e",
   "metadata": {
    "execution": {
     "iopub.execute_input": "2022-11-16T04:13:45.619694Z",
     "iopub.status.busy": "2022-11-16T04:13:45.619129Z",
     "iopub.status.idle": "2022-11-16T04:22:53.515767Z",
     "shell.execute_reply": "2022-11-16T04:22:53.514716Z"
    },
    "papermill": {
     "duration": 547.905918,
     "end_time": "2022-11-16T04:22:53.518030",
     "exception": false,
     "start_time": "2022-11-16T04:13:45.612112",
     "status": "completed"
    },
    "scrolled": false,
    "tags": []
   },
   "outputs": [
    {
     "data": {
      "application/vnd.jupyter.widget-view+json": {
       "model_id": "8020e89efc6f4328b841de2d582dab3f",
       "version_major": 2,
       "version_minor": 0
      },
      "text/plain": [
       "  0%|          | 0/25 [00:00<?, ?it/s]"
      ]
     },
     "metadata": {},
     "output_type": "display_data"
    },
    {
     "name": "stdout",
     "output_type": "stream",
     "text": [
      "Retrieving document from  https://arxiv.org/e-print/2211.07653\n"
     ]
    },
    {
     "name": "stdout",
     "output_type": "stream",
     "text": [
      "extracting tarball to tmp_2211.07653..."
     ]
    },
    {
     "name": "stdout",
     "output_type": "stream",
     "text": [
      " done.\n",
      "Retrieving document from  https://arxiv.org/e-print/2211.07656\n"
     ]
    },
    {
     "name": "stderr",
     "output_type": "stream",
     "text": [
      "/opt/hostedtoolcache/Python/3.9.15/x64/lib/python3.9/site-packages/IPython/core/interactiveshell.py:3433: LatexWarning: Multiple tex files.\n",
      "\n",
      "  exec(code_obj, self.user_global_ns, self.user_ns)\n",
      "/opt/hostedtoolcache/Python/3.9.15/x64/lib/python3.9/site-packages/IPython/core/interactiveshell.py:3433: LatexWarning: Found documentclass in tmp_2211.07653/natnotes.tex\n",
      "\n",
      "  exec(code_obj, self.user_global_ns, self.user_ns)\n"
     ]
    },
    {
     "name": "stdout",
     "output_type": "stream",
     "text": [
      "extracting tarball to tmp_2211.07656..."
     ]
    },
    {
     "name": "stdout",
     "output_type": "stream",
     "text": [
      " done.\n",
      "Retrieving document from  https://arxiv.org/e-print/2211.07659\n"
     ]
    },
    {
     "name": "stdout",
     "output_type": "stream",
     "text": [
      "extracting tarball to tmp_2211.07659..."
     ]
    },
    {
     "name": "stdout",
     "output_type": "stream",
     "text": [
      " done.\n"
     ]
    },
    {
     "name": "stdout",
     "output_type": "stream",
     "text": [
      "Retrieving document from  https://arxiv.org/e-print/2211.07667\n"
     ]
    },
    {
     "name": "stdout",
     "output_type": "stream",
     "text": [
      "extracting tarball to tmp_2211.07667..."
     ]
    },
    {
     "name": "stdout",
     "output_type": "stream",
     "text": [
      " done.\n"
     ]
    },
    {
     "name": "stderr",
     "output_type": "stream",
     "text": [
      "/opt/hostedtoolcache/Python/3.9.15/x64/lib/python3.9/site-packages/IPython/core/interactiveshell.py:3433: LatexWarning: Multiple tex files.\n",
      "\n",
      "  exec(code_obj, self.user_global_ns, self.user_ns)\n",
      "/opt/hostedtoolcache/Python/3.9.15/x64/lib/python3.9/site-packages/IPython/core/interactiveshell.py:3433: LatexWarning: Found documentclass in tmp_2211.07667/main_file.tex\n",
      "\n",
      "  exec(code_obj, self.user_global_ns, self.user_ns)\n"
     ]
    },
    {
     "name": "stderr",
     "output_type": "stream",
     "text": [
      "/opt/hostedtoolcache/Python/3.9.15/x64/lib/python3.9/site-packages/arxiv_on_deck_2/latex.py:366: LatexWarning: Error parsing the document directly. Trying to recover.\n",
      "  warnings.warn(LatexWarning(f\"Error parsing the document directly. Trying to recover.\"))\n"
     ]
    },
    {
     "name": "stdout",
     "output_type": "stream",
     "text": [
      "✔ → 0:header\n",
      "  ↳ 3249:\\section{Introduction}\n"
     ]
    },
    {
     "name": "stdout",
     "output_type": "stream",
     "text": [
      "✔ → 3249:\\section{Introduction}\n",
      "  ↳ 11052:\\section{Data}\\label{sec:dust_3D_data}\n",
      "✔ → 11052:\\section{Data}\\label{sec:dust_3D_data}\n",
      "  ↳ 14372:\\section{Methods}\\label{sec:dust_3D_methods}\n"
     ]
    },
    {
     "name": "stdout",
     "output_type": "stream",
     "text": [
      "✔ → 14372:\\section{Methods}\\label{sec:dust_3D_methods}\n",
      "  ↳ 30357:\\section{Results and Discussion}\\label{sec:3D_dust_results}\n"
     ]
    },
    {
     "name": "stdout",
     "output_type": "stream",
     "text": [
      "✘ → 30357:\\section{Results and Discussion}\\label{sec:3D_dust_results}\n",
      "  ↳ 41162:\\section{Applications of the 3D dust temperature map}\\label{sec:3D_dust_applications}\n"
     ]
    },
    {
     "name": "stdout",
     "output_type": "stream",
     "text": [
      "✔ → 41162:\\section{Applications of the 3D dust temperature map}\\label{sec:3D_dust_applications}\n",
      "  ↳ 45516:\\section{Conclusion}\\label{sec:dust_3D_conclussion}\n",
      "✔ → 45516:\\section{Conclusion}\\label{sec:dust_3D_conclussion}\n",
      "  ↳ 48614:\\section{Optimizer}\n"
     ]
    },
    {
     "name": "stdout",
     "output_type": "stream",
     "text": [
      "✔ → 48614:\\section{Optimizer}\n",
      "  ↳ 61772:end\n"
     ]
    },
    {
     "name": "stdout",
     "output_type": "stream",
     "text": [
      "Retrieving document from  https://arxiv.org/e-print/2211.07670\n"
     ]
    },
    {
     "name": "stdout",
     "output_type": "stream",
     "text": [
      "extracting tarball to tmp_2211.07670..."
     ]
    },
    {
     "name": "stdout",
     "output_type": "stream",
     "text": [
      " done.\n",
      "Retrieving document from  https://arxiv.org/e-print/2211.07759\n"
     ]
    },
    {
     "name": "stderr",
     "output_type": "stream",
     "text": [
      "/opt/hostedtoolcache/Python/3.9.15/x64/lib/python3.9/site-packages/IPython/core/interactiveshell.py:3433: LatexWarning: Multiple tex files.\n",
      "\n",
      "  exec(code_obj, self.user_global_ns, self.user_ns)\n",
      "/opt/hostedtoolcache/Python/3.9.15/x64/lib/python3.9/site-packages/IPython/core/interactiveshell.py:3433: LatexWarning: Found documentclass in tmp_2211.07670/main.tex\n",
      "\n",
      "  exec(code_obj, self.user_global_ns, self.user_ns)\n",
      "/opt/hostedtoolcache/Python/3.9.15/x64/lib/python3.9/site-packages/arxiv_on_deck_2/latex.py:292: LatexWarning: Latex injecting: 'sections/Appendix' from 'tmp_2211.07670/sections/Appendix.tex'\n",
      "  warnings.warn(LatexWarning(f\"Latex injecting: '{ext}' from '{subsource}'\"))\n",
      "/opt/hostedtoolcache/Python/3.9.15/x64/lib/python3.9/site-packages/arxiv_on_deck_2/latex.py:292: LatexWarning: Latex injecting: 'sections/Discussion' from 'tmp_2211.07670/sections/Discussion.tex'\n",
      "  warnings.warn(LatexWarning(f\"Latex injecting: '{ext}' from '{subsource}'\"))\n",
      "/opt/hostedtoolcache/Python/3.9.15/x64/lib/python3.9/site-packages/arxiv_on_deck_2/latex.py:292: LatexWarning: Latex injecting: 'sections/Results' from 'tmp_2211.07670/sections/Results.tex'\n",
      "  warnings.warn(LatexWarning(f\"Latex injecting: '{ext}' from '{subsource}'\"))\n",
      "/opt/hostedtoolcache/Python/3.9.15/x64/lib/python3.9/site-packages/arxiv_on_deck_2/latex.py:292: LatexWarning: Latex injecting: 'sections/Methodology' from 'tmp_2211.07670/sections/Methodology.tex'\n",
      "  warnings.warn(LatexWarning(f\"Latex injecting: '{ext}' from '{subsource}'\"))\n",
      "/opt/hostedtoolcache/Python/3.9.15/x64/lib/python3.9/site-packages/arxiv_on_deck_2/latex.py:292: LatexWarning: Latex injecting: 'sections/DataDescr' from 'tmp_2211.07670/sections/DataDescr.tex'\n",
      "  warnings.warn(LatexWarning(f\"Latex injecting: '{ext}' from '{subsource}'\"))\n",
      "/opt/hostedtoolcache/Python/3.9.15/x64/lib/python3.9/site-packages/arxiv_on_deck_2/latex.py:292: LatexWarning: Latex injecting: 'sections/Intro' from 'tmp_2211.07670/sections/Intro.tex'\n",
      "  warnings.warn(LatexWarning(f\"Latex injecting: '{ext}' from '{subsource}'\"))\n"
     ]
    },
    {
     "name": "stdout",
     "output_type": "stream",
     "text": [
      "extracting tarball to tmp_2211.07759... done.\n",
      "Retrieving document from  https://arxiv.org/e-print/2211.07770\n"
     ]
    },
    {
     "name": "stdout",
     "output_type": "stream",
     "text": [
      "extracting tarball to tmp_2211.07770..."
     ]
    },
    {
     "name": "stdout",
     "output_type": "stream",
     "text": [
      " done.\n",
      "Retrieving document from  https://arxiv.org/e-print/2211.07812\n"
     ]
    },
    {
     "name": "stderr",
     "output_type": "stream",
     "text": [
      "/opt/hostedtoolcache/Python/3.9.15/x64/lib/python3.9/site-packages/IPython/core/interactiveshell.py:3433: LatexWarning: Multiple tex files.\n",
      "\n",
      "  exec(code_obj, self.user_global_ns, self.user_ns)\n",
      "/opt/hostedtoolcache/Python/3.9.15/x64/lib/python3.9/site-packages/IPython/core/interactiveshell.py:3433: LatexWarning: Found documentclass in tmp_2211.07770/ms.tex\n",
      "\n",
      "  exec(code_obj, self.user_global_ns, self.user_ns)\n"
     ]
    },
    {
     "name": "stdout",
     "output_type": "stream",
     "text": [
      "extracting tarball to tmp_2211.07812..."
     ]
    },
    {
     "name": "stdout",
     "output_type": "stream",
     "text": [
      " done.\n",
      "Retrieving document from  https://arxiv.org/e-print/2211.07836\n"
     ]
    },
    {
     "name": "stdout",
     "output_type": "stream",
     "text": [
      "extracting tarball to tmp_2211.07836..."
     ]
    },
    {
     "name": "stdout",
     "output_type": "stream",
     "text": [
      " done.\n",
      "Retrieving document from  https://arxiv.org/e-print/2211.07865\n"
     ]
    },
    {
     "name": "stderr",
     "output_type": "stream",
     "text": [
      "/tmp/ipykernel_2264/4030337529.py:34: LatexWarning: 2211.07836 did not run properly\n",
      "'utf-8' codec can't decode byte 0xd5 in position 6001: invalid continuation byte\n",
      "  warnings.warn(latex.LatexWarning(f\"{paper_id:s} did not run properly\\n\" +\n"
     ]
    },
    {
     "name": "stdout",
     "output_type": "stream",
     "text": [
      "extracting tarball to tmp_2211.07865..."
     ]
    },
    {
     "name": "stdout",
     "output_type": "stream",
     "text": [
      " done.\n",
      "Retrieving document from  https://arxiv.org/e-print/2211.07877\n"
     ]
    },
    {
     "name": "stderr",
     "output_type": "stream",
     "text": [
      "/opt/hostedtoolcache/Python/3.9.15/x64/lib/python3.9/site-packages/IPython/core/interactiveshell.py:3433: LatexWarning: Multiple tex files.\n",
      "\n",
      "  exec(code_obj, self.user_global_ns, self.user_ns)\n",
      "/opt/hostedtoolcache/Python/3.9.15/x64/lib/python3.9/site-packages/IPython/core/interactiveshell.py:3433: LatexWarning: Found documentclass in tmp_2211.07865/cwo.tex\n",
      "\n",
      "  exec(code_obj, self.user_global_ns, self.user_ns)\n",
      "/opt/hostedtoolcache/Python/3.9.15/x64/lib/python3.9/site-packages/arxiv_on_deck_2/latex.py:292: LatexWarning: Latex injecting: 'tab_visits.tex' from 'tmp_2211.07865/tab_visits.tex'\n",
      "  warnings.warn(LatexWarning(f\"Latex injecting: '{ext}' from '{subsource}'\"))\n"
     ]
    },
    {
     "name": "stdout",
     "output_type": "stream",
     "text": [
      "extracting tarball to tmp_2211.07877..."
     ]
    },
    {
     "name": "stdout",
     "output_type": "stream",
     "text": [
      " done.\n",
      "Retrieving document from  https://arxiv.org/e-print/2211.07878\n"
     ]
    },
    {
     "name": "stderr",
     "output_type": "stream",
     "text": [
      "/opt/hostedtoolcache/Python/3.9.15/x64/lib/python3.9/site-packages/IPython/core/interactiveshell.py:3433: LatexWarning: Multiple tex files.\n",
      "\n",
      "  exec(code_obj, self.user_global_ns, self.user_ns)\n",
      "/opt/hostedtoolcache/Python/3.9.15/x64/lib/python3.9/site-packages/IPython/core/interactiveshell.py:3433: LatexWarning: Found documentclass in tmp_2211.07877/paper.tex\n",
      "\n",
      "  exec(code_obj, self.user_global_ns, self.user_ns)\n",
      "/opt/hostedtoolcache/Python/3.9.15/x64/lib/python3.9/site-packages/arxiv_on_deck_2/latex.py:292: LatexWarning: Latex injecting: 'table.tex' from 'tmp_2211.07877/table.tex'\n",
      "  warnings.warn(LatexWarning(f\"Latex injecting: '{ext}' from '{subsource}'\"))\n"
     ]
    },
    {
     "name": "stdout",
     "output_type": "stream",
     "text": [
      "extracting tarball to tmp_2211.07878..."
     ]
    },
    {
     "name": "stdout",
     "output_type": "stream",
     "text": [
      " done.\n",
      "Retrieving document from  https://arxiv.org/e-print/2211.07890\n"
     ]
    },
    {
     "name": "stdout",
     "output_type": "stream",
     "text": [
      "extracting tarball to tmp_2211.07890..."
     ]
    },
    {
     "name": "stdout",
     "output_type": "stream",
     "text": [
      " done.\n",
      "Retrieving document from  https://arxiv.org/e-print/2211.07899\n"
     ]
    },
    {
     "name": "stdout",
     "output_type": "stream",
     "text": [
      "extracting tarball to tmp_2211.07899..."
     ]
    },
    {
     "name": "stdout",
     "output_type": "stream",
     "text": [
      " done.\n",
      "Retrieving document from  https://arxiv.org/e-print/2211.07960\n"
     ]
    },
    {
     "name": "stderr",
     "output_type": "stream",
     "text": [
      "/opt/hostedtoolcache/Python/3.9.15/x64/lib/python3.9/site-packages/IPython/core/interactiveshell.py:3433: LatexWarning: Multiple tex files.\n",
      "\n",
      "  exec(code_obj, self.user_global_ns, self.user_ns)\n",
      "/opt/hostedtoolcache/Python/3.9.15/x64/lib/python3.9/site-packages/IPython/core/interactiveshell.py:3433: LatexWarning: Found documentclass in tmp_2211.07899/final.tex\n",
      "\n",
      "  exec(code_obj, self.user_global_ns, self.user_ns)\n",
      "/opt/hostedtoolcache/Python/3.9.15/x64/lib/python3.9/site-packages/arxiv_on_deck_2/latex.py:292: LatexWarning: Latex injecting: 'RVtab.tex' from 'tmp_2211.07899/RVtab.tex'\n",
      "  warnings.warn(LatexWarning(f\"Latex injecting: '{ext}' from '{subsource}'\"))\n",
      "/opt/hostedtoolcache/Python/3.9.15/x64/lib/python3.9/site-packages/arxiv_on_deck_2/latex.py:292: LatexWarning: Latex injecting: 'RVtab.tex' from 'tmp_2211.07899/RVtab.tex'\n",
      "  warnings.warn(LatexWarning(f\"Latex injecting: '{ext}' from '{subsource}'\"))\n"
     ]
    },
    {
     "name": "stdout",
     "output_type": "stream",
     "text": [
      "extracting tarball to tmp_2211.07960... done.\n",
      "Retrieving document from  https://arxiv.org/e-print/2211.07987\n"
     ]
    },
    {
     "name": "stdout",
     "output_type": "stream",
     "text": [
      "extracting tarball to tmp_2211.07987..."
     ]
    },
    {
     "name": "stdout",
     "output_type": "stream",
     "text": [
      " done.\n",
      "Retrieving document from  https://arxiv.org/e-print/2211.08021\n"
     ]
    },
    {
     "name": "stderr",
     "output_type": "stream",
     "text": [
      "/opt/hostedtoolcache/Python/3.9.15/x64/lib/python3.9/site-packages/IPython/core/interactiveshell.py:3433: LatexWarning: Multiple tex files.\n",
      "\n",
      "  exec(code_obj, self.user_global_ns, self.user_ns)\n",
      "/opt/hostedtoolcache/Python/3.9.15/x64/lib/python3.9/site-packages/IPython/core/interactiveshell.py:3433: LatexWarning: Found documentclass in tmp_2211.07987/main.tex\n",
      "\n",
      "  exec(code_obj, self.user_global_ns, self.user_ns)\n"
     ]
    },
    {
     "name": "stdout",
     "output_type": "stream",
     "text": [
      "extracting tarball to tmp_2211.08021..."
     ]
    },
    {
     "name": "stdout",
     "output_type": "stream",
     "text": [
      " done.\n",
      "Retrieving document from  https://arxiv.org/e-print/2211.08174\n"
     ]
    },
    {
     "name": "stdout",
     "output_type": "stream",
     "text": [
      "extracting tarball to tmp_2211.08174..."
     ]
    },
    {
     "name": "stdout",
     "output_type": "stream",
     "text": [
      " done.\n",
      "Retrieving document from  https://arxiv.org/e-print/2211.08254\n"
     ]
    },
    {
     "name": "stdout",
     "output_type": "stream",
     "text": [
      "extracting tarball to tmp_2211.08254..."
     ]
    },
    {
     "name": "stdout",
     "output_type": "stream",
     "text": [
      " done.\n",
      "Retrieving document from  https://arxiv.org/e-print/2211.08255\n"
     ]
    },
    {
     "name": "stdout",
     "output_type": "stream",
     "text": [
      "extracting tarball to tmp_2211.08255..."
     ]
    },
    {
     "name": "stdout",
     "output_type": "stream",
     "text": [
      " done.\n",
      "Retrieving document from  https://arxiv.org/e-print/2211.08294\n"
     ]
    },
    {
     "name": "stdout",
     "output_type": "stream",
     "text": [
      "extracting tarball to tmp_2211.08294..."
     ]
    },
    {
     "name": "stdout",
     "output_type": "stream",
     "text": [
      " done.\n"
     ]
    },
    {
     "name": "stdout",
     "output_type": "stream",
     "text": [
      "Retrieving document from  https://arxiv.org/e-print/2211.08348\n"
     ]
    },
    {
     "name": "stdout",
     "output_type": "stream",
     "text": [
      "extracting tarball to tmp_2211.08348... done.\n",
      "Retrieving document from  https://arxiv.org/e-print/2211.08355\n"
     ]
    },
    {
     "name": "stdout",
     "output_type": "stream",
     "text": [
      "extracting tarball to tmp_2211.08355..."
     ]
    },
    {
     "name": "stdout",
     "output_type": "stream",
     "text": [
      " done.\n",
      "Retrieving document from  https://arxiv.org/e-print/2211.08356\n"
     ]
    },
    {
     "name": "stderr",
     "output_type": "stream",
     "text": [
      "/tmp/ipykernel_2264/4030337529.py:34: LatexWarning: 2211.08356 did not run properly\n",
      "not a gzip file\n",
      "  warnings.warn(latex.LatexWarning(f\"{paper_id:s} did not run properly\\n\" +\n"
     ]
    },
    {
     "name": "stdout",
     "output_type": "stream",
     "text": [
      "Retrieving document from  https://arxiv.org/e-print/2211.08388\n"
     ]
    },
    {
     "name": "stdout",
     "output_type": "stream",
     "text": [
      "extracting tarball to tmp_2211.08388..."
     ]
    },
    {
     "name": "stdout",
     "output_type": "stream",
     "text": [
      " done.\n"
     ]
    }
   ],
   "source": [
    "documents = []\n",
    "failed = []\n",
    "for paper in tqdm(candidates[:-1]):\n",
    "    paper_id = paper['identifier'].lower().replace('arxiv:', '')\n",
    "    \n",
    "    folder = f'tmp_{paper_id}'\n",
    "\n",
    "    try:\n",
    "        if not os.path.isdir(folder):\n",
    "            folder = retrieve_document_source(f\"{paper_id}\", f'tmp_{paper_id}')\n",
    "        \n",
    "        try:\n",
    "            doc = latex.LatexDocument(folder, validation=validation)    \n",
    "        except AffiliationError as affilerror:\n",
    "            msg = f\"ArXiv:{paper_id:s} is not an MPIA paper... \" + str(affilerror)\n",
    "            failed.append((paper, \"affiliation error: \" + str(affilerror) ))\n",
    "            continue\n",
    "        \n",
    "        # Hack because sometimes author parsing does not work well\n",
    "        if (len(doc.authors) != len(paper['authors'])):\n",
    "            doc._authors = paper['authors']\n",
    "        if (doc.abstract) in (None, ''):\n",
    "            doc._abstract = paper['abstract']\n",
    "            \n",
    "        doc.comment = (get_markdown_badge(paper_id) + \n",
    "                       \"<mark>Appeared on: \" + paper['date'] + \"</mark> - \" +\n",
    "                       \"_\" + paper['comments'] + \"_\")\n",
    "        doc.highlight_authors_in_list(hl_list)\n",
    "\n",
    "        full_md = doc.generate_markdown_text()\n",
    "        \n",
    "        documents.append((paper_id, full_md))\n",
    "    except Exception as e:\n",
    "        warnings.warn(latex.LatexWarning(f\"{paper_id:s} did not run properly\\n\" +\n",
    "                                         str(e)\n",
    "                                        ))\n",
    "        failed.append((paper, \"latex error \" + str(e)))"
   ]
  },
  {
   "cell_type": "markdown",
   "id": "2505a25c",
   "metadata": {
    "papermill": {
     "duration": 0.009329,
     "end_time": "2022-11-16T04:22:53.535997",
     "exception": false,
     "start_time": "2022-11-16T04:22:53.526668",
     "status": "completed"
    },
    "tags": []
   },
   "source": [
    "### Export the logs\n",
    "\n",
    "Throughout, we also keep track of the logs per paper. see `logs-{today date}.md` "
   ]
  },
  {
   "cell_type": "code",
   "execution_count": 6,
   "id": "d733828a",
   "metadata": {
    "execution": {
     "iopub.execute_input": "2022-11-16T04:22:53.556643Z",
     "iopub.status.busy": "2022-11-16T04:22:53.556188Z",
     "iopub.status.idle": "2022-11-16T04:22:53.605421Z",
     "shell.execute_reply": "2022-11-16T04:22:53.604484Z"
    },
    "papermill": {
     "duration": 0.062537,
     "end_time": "2022-11-16T04:22:53.607334",
     "exception": false,
     "start_time": "2022-11-16T04:22:53.544797",
     "status": "completed"
    },
    "scrolled": false,
    "tags": []
   },
   "outputs": [
    {
     "data": {
      "text/markdown": [
       "## Successful papers"
      ],
      "text/plain": [
       "<IPython.core.display.Markdown object>"
      ]
     },
     "metadata": {},
     "output_type": "display_data"
    },
    {
     "data": {
      "text/markdown": [
       "\n",
       "|||\n",
       "|---:|:---|\n",
       "| [![arXiv](https://img.shields.io/badge/arXiv-arXiv:2211.07659-b31b1b.svg)](https://arxiv.org/abs/arXiv:2211.07659) | **Feedback reshapes the baryon distribution within haloes, in halo  outskirts, and beyond: the closure radius from dwarfs to massive clusters**  |\n",
       "|| Mohammadreza Ayromlou, Dylan Nelson, <mark>Annalisa Pillepich</mark> |\n",
       "|*Appeared on*| *2022-11-16*|\n",
       "|*Comments*| *Submitted to MNRAS*|\n",
       "|**Abstract**| We explore three sets of cosmological hydrodynamical simulations, IllustrisTNG, EAGLE, and SIMBA, to investigate the physical processes impacting the distribution of baryons in and around haloes across an unprecedented mass range of $10^8<M_{\\rm 200c}/{\\rm M_{\\odot}}<10^{15}$, from the halo centre out to scales as large as $30\\,R_{\\rm 200c}$. We demonstrate that baryonic feedback mechanisms significantly redistribute gas, lowering the baryon fractions inside haloes while simultaneously accumulating this material outside the virial radius. To understand this large-scale baryonic redistribution and identify the dominant physical processes responsible, we examine several variants of TNG that selectively exclude stellar and AGN feedback, cooling, and radiation. We find that heating from the UV background in low-mass haloes, stellar feedback in intermediate-mass haloes, and AGN feedback in groups ($10^{12} \\leq M_{\\rm 200c}/{\\rm M_{\\odot}}<10^{14}$) are the dominant processes. Galaxy clusters are the least influenced by these processes on large scales. We introduce a new halo mass-dependent characteristic scale, the closure radius $R_{\\rm c}$, within which all baryons associated with haloes are found. For groups and clusters, we introduce a universal relation between this scale and the halo baryon fraction: $R_{\\rm c}/R_{\\rm 200c,500c}-1=\\beta(z)(1-f_{\\rm b}(<R_{\\rm 200c,500c})/f_{\\rm b,cosmic})$, where $\\beta(z)=\\alpha\\,(1+z)^\\gamma$, and $\\alpha$ and $\\gamma$ are free parameters fit using the simulations. Accordingly, we predict that all baryons associated with observed X-ray haloes can be found within $R_{\\rm c}\\sim 1.5-2.5 R_{\\rm 200c}$. Our results can be used to constrain theoretical models, particularly the physics of supernova and AGN feedback, as well as their interplay with environmental processes, through comparison with current and future X-ray and SZ observations. |"
      ],
      "text/plain": [
       "[arXiv:2211.07659] Feedback reshapes the baryon distribution within haloes, in halo  outskirts, and beyond: the closure radius from dwarfs to massive clusters\n",
       "\tMohammadreza Ayromlou, Dylan Nelson, <mark>Annalisa Pillepich</mark>"
      ]
     },
     "metadata": {},
     "output_type": "display_data"
    },
    {
     "data": {
      "text/markdown": [
       "\n",
       "|||\n",
       "|---:|:---|\n",
       "| [![arXiv](https://img.shields.io/badge/arXiv-arXiv:2211.07667-b31b1b.svg)](https://arxiv.org/abs/arXiv:2211.07667) | **The First 3$π$ 3D Map of ISM Dust Temperature**  |\n",
       "|| Ioana A. Zelko, Douglas P. Finkbeiner, <mark>Albert Lee</mark>, <mark>Gregory Green</mark> |\n",
       "|*Appeared on*| *2022-11-16*|\n",
       "|*Comments*| *11 Figures, 19 pages*|\n",
       "|**Abstract**| We present the first large-scale 3D map of interstellar dust temperature. We build upon existing 3D reddening maps derived from starlight absorption (Bayestar19), covering 3/4 of the sky. Starting with the column density for each of 500 million 3D voxels, we propose a temperature and emissivity power-law slope ($\\beta$) for each of them, and integrate along the line of sight to synthesize an emission map in five frequency bands observed by \\emph{Planck} and \\emph{IRAS}. The reconstructed emission map is constrained to match observations on a $10'$ scale, and does so with good fidelity. We produce 3D temperature maps at resolutions of $110', 55', $and $27'$. We assess performance on Cepheus, a dust cloud with two distinct components along the line of sight, and find distinct temperatures for the two components. We thus show that this methodology has enough precision to constrain clouds with different temperature along the line of sight up to $1-\\sigma$ error. This would be an important result for dust frequency decorrelation foreground analysis for cosmic microwave background experiments, which would be impacted by a line-of-sight with varying temperature and magnetic field components. In addition to $T$ and $\\beta$, we constrain the conversion factor between emission optical depth and reddening. This conversion factor is assumed to be constant in commonly used emission-based reddening maps. However, this work shows a factor of two variation that may prove significant for some applications. |"
      ],
      "text/plain": [
       "[arXiv:2211.07667] The First 3$π$ 3D Map of ISM Dust Temperature\n",
       "\tIoana A. Zelko, Douglas P. Finkbeiner, <mark>Albert Lee</mark>, <mark>Gregory Green</mark>"
      ]
     },
     "metadata": {},
     "output_type": "display_data"
    },
    {
     "data": {
      "text/markdown": [
       "\n",
       "|||\n",
       "|---:|:---|\n",
       "| [![arXiv](https://img.shields.io/badge/arXiv-arXiv:2211.08294-b31b1b.svg)](https://arxiv.org/abs/arXiv:2211.08294) | **Radial Velocity Survey for Planets around Young stars (RVSPY) A  transiting warm super-Jovian planet around HD 114082, a young star with a  debris disk**  |\n",
       "|| <mark>O. Zakhozhay</mark>, et al. -- incl., <mark>R. Launhardt</mark>, <mark>T. Trifonov</mark>, <mark>M. Kürster</mark>, <mark>Th. Henning</mark> |\n",
       "|*Appeared on*| *2022-11-16*|\n",
       "|*Comments*| *10 pages, 9 figures, 5 tables; Accepted for publication in A&A Letters*|\n",
       "|**Abstract**| Aiming to detect planetary companions to young stars with debris disks via the radial velocity method, we observed HD114082 during April 2018 - August 2022 as one of the targets of our RVSPY program (Radial Velocity Survey for Planets around Young stars). We used the FEROS spectrograph, mounted to the MPG/ESO 2.2 m telescope in Chile, to obtain high signal-to-noise spectra and time series of precise radial velocities (RVs). Additionally, we analyzed archival HARPS spectra and TESS photometric data. We used the CERES, CERES++ and SERVAL pipelines to derive RVs and activity indicators and ExoStriker for the independent and combined analysis of the RVs and TESS photometry. We report the discovery of a warm super-Jovian companion around HD114082 based on a 109.8$\\pm$0.4 day signal in the combined RV data from FEROS and HARPS, and on one transit event in the TESS photometry. The best-fit model indicates a 8.0$\\pm$1.0 Mjup companion with a radius of 1.00$\\pm$0.03 Rjup in an orbit with a semi-major axis of 0.51$\\pm$0.01 au and an eccentricity of 0.4$\\pm$0.04. The companions orbit is in agreement with the known near edge-on debris disk located at about 28 au. HD114082b is possibly the youngest (15$\\pm$6 Myr), and one of only three younger than 100 Myr giant planetary companions for which both their mass and radius have been determined observationally. It is probably the first properly model-constraining giant planet that allows distinguishing between hot and cold-start models. It is significantly more compatible with the cold-start model. |"
      ],
      "text/plain": [
       "[arXiv:2211.08294] Radial Velocity Survey for Planets around Young stars (RVSPY) A  transiting warm super-Jovian planet around HD 114082, a young star with a  debris disk\n",
       "\t<mark>O. Zakhozhay</mark>, et al. -- incl., <mark>R. Launhardt</mark>, <mark>T. Trifonov</mark>, <mark>M. Kürster</mark>, <mark>Th. Henning</mark>"
      ]
     },
     "metadata": {},
     "output_type": "display_data"
    },
    {
     "data": {
      "text/markdown": [
       "## Failed papers"
      ],
      "text/plain": [
       "<IPython.core.display.Markdown object>"
      ]
     },
     "metadata": {},
     "output_type": "display_data"
    },
    {
     "data": {
      "text/markdown": [
       "\n",
       "|||\n",
       "|---:|:---|\n",
       "| [![arXiv](https://img.shields.io/badge/arXiv-arXiv:2211.08174-b31b1b.svg)](https://arxiv.org/abs/arXiv:2211.08174) | **Disentangling the nature of the prototype radio weak BL Lac:  Contemporaneous multifrequency observations of WISE J141046.00 + 740511.2**  |\n",
       "|| E. J. Marchesini, et al. -- incl., <mark>H. A. Peña-Herazo</mark> |\n",
       "|*Appeared on*| *2022-11-16*|\n",
       "|*Comments*| *accepted for publication in A&A, in press*|\n",
       "|**Abstract**| Context. The gamma-ray emitting source WISE J141046.00+740511.2 has been associated with a Fermi-LAT detection by crossmatching with Swift/XRT data. It has shown all the canonical observational characteristics of a BL Lac source, including a power-law, featureless optical spectrum. However, it was only recently detected at radio frequencies and its radio flux is significantly low. Aims. Given that a radio detection is fundamental to associate lower-energy counterparts to Fermi-LAT sources, we aim to unambiguously classify this source by performing a multiwavelength analysis based on contemporaneous data. Methods. By using multifrequency observations at the Jansky Very Large Array, Giant Metrewave Radio Telescope, Gran Telescopio Canarias, Gemini, William Herschel Telescope and Liverpool observatories, together with Fermi-LAT and Swift data, we carried out two kinds of analyses. On one hand, we studied several known parameters that account for the radio loudness or weakness characterization and their application to blazars (in general) and to our source (in particular). And, on the other hand, we built and analyzed the observed spectral energy distribution (SED) of this source to try to explain its peculiar characteristics. Results. The multiwavelength analysis indicates that WISE J141046.00+740511.2 is a blazar of the high-frequency peaked (HBL) type that emits highly polarized light and that is likely located at a low redshift. In addition, the one-zone model parameters that best fit its SED are those of an extreme HBL (EHBL); this blazar type has been extensively predicted in theory to be lacking in the radio emission that is otherwise typical of canonical gamma-ray blazars. Conclusions. We confirm that WISE J141046.00+740511.2 is indeed a highly polarized BL Lac of the HBL type. Further studies will be conducted to explain the atypical low radio flux detected for this source. |\n",
       "|<p style=\"color:green\"> **ERROR** </p>| <p style=\"color:green\">affiliation error: mpia.affiliation_verifications: '69117' keyword not found.</p> |"
      ],
      "text/plain": [
       "<IPython.core.display.Markdown object>"
      ]
     },
     "metadata": {},
     "output_type": "display_data"
    },
    {
     "data": {
      "text/markdown": [
       "\n",
       "|||\n",
       "|---:|:---|\n",
       "| [![arXiv](https://img.shields.io/badge/arXiv-arXiv:2211.08388-b31b1b.svg)](https://arxiv.org/abs/arXiv:2211.08388) | **Photometric identification of compact galaxies, stars and quasars using  multiple neural networks**  |\n",
       "|| Siddharth Chaini, et al. -- incl., <mark>Kaushal Sharma</mark> |\n",
       "|*Appeared on*| *2022-11-16*|\n",
       "|*Comments*| *14 pages, 10 figures, Accepted for publication in MNRAS*|\n",
       "|**Abstract**| We present MargNet, a deep learning-based classifier for identifying stars, quasars and compact galaxies using photometric parameters and images from the Sloan Digital Sky Survey (SDSS) Data Release 16 (DR16) catalogue. MargNet consists of a combination of Convolutional Neural Network (CNN) and Artificial Neural Network (ANN) architectures. Using a carefully curated dataset consisting of 240,000 compact objects and an additional 150,000 faint objects, the machine learns classification directly from the data, minimising the need for human intervention. MargNet is the first classifier focusing exclusively on compact galaxies and performs better than other methods to classify compact galaxies from stars and quasars, even at fainter magnitudes. This model and feature engineering in such deep learning architectures will provide greater success in identifying objects in the ongoing and upcoming surveys, such as Dark Energy Survey (DES) and images from the Vera C. Rubin Observatory. |\n",
       "|<p style=\"color:green\"> **ERROR** </p>| <p style=\"color:green\">affiliation error: mpia.affiliation_verifications: '69117' keyword not found.</p> |"
      ],
      "text/plain": [
       "<IPython.core.display.Markdown object>"
      ]
     },
     "metadata": {},
     "output_type": "display_data"
    },
    {
     "data": {
      "text/markdown": [
       "\n",
       "|||\n",
       "|---:|:---|\n",
       "| [![arXiv](https://img.shields.io/badge/arXiv-arXiv:2211.07653-b31b1b.svg)](https://arxiv.org/abs/arXiv:2211.07653) | **The Mass Accretion Rate and Stellar Properties in Class I Protostars**  |\n",
       "|| Eleonora Fiorellino, et al. -- incl., <mark>Agnes Kospal</mark> |\n",
       "|*Appeared on*| *2022-11-16*|\n",
       "|*Comments*| **|\n",
       "|**Abstract**| Stars collect most of their mass during the protostellar stage, yet the accretion luminosity and stellar parameters, which are needed to compute the mass accretion rate, are poorly constrained for the youngest sources. The aim of this work is to fill this gap, computing the stellar properties and the accretion rates for a large sample of Class I protostars located in nearby (< 500 pc) star-forming regions and analysing their interplay. We used a self-consistent method to provide accretion and stellar parameters using SED modeling and veiling information from near-IR observations, when possible. We calculated accretion and stellar properties for the first time for 50 young stars. We focused our analysis on the 39 confirmed protostars, finding that their mass accretion rate varies between about 10^(-8) and about 10^(-4) Msun/yr in a stellar mass range between about 0.1 and 3 Msun. We find systematically larger mass accretion rates for our Class I sample than in Class II objects. Although the mass accretion rate we found is high, it still suggests that either stars collect most of its mass before Class I stage, or eruptive accretion is needed during the overall protostellar phase. Indeed, our results suggest that for a large number of protostars the disk can be unstable, which can result in accretion bursts and disk fragmentation in the past or in the future. |\n",
       "|<p style=\"color:green\"> **ERROR** </p>| <p style=\"color:green\">affiliation error: mpia.affiliation_verifications: 'Heidelberg' keyword not found.</p> |"
      ],
      "text/plain": [
       "<IPython.core.display.Markdown object>"
      ]
     },
     "metadata": {},
     "output_type": "display_data"
    },
    {
     "data": {
      "text/markdown": [
       "\n",
       "|||\n",
       "|---:|:---|\n",
       "| [![arXiv](https://img.shields.io/badge/arXiv-arXiv:2211.07656-b31b1b.svg)](https://arxiv.org/abs/arXiv:2211.07656) | **Magnetically driven coupling in relativistic radiation-mediated shocks**  |\n",
       "|| <mark>J. F. Mahlmann</mark>, et al. |\n",
       "|*Appeared on*| *2022-11-16*|\n",
       "|*Comments*| *11 pages, 11 figures, submitted to MNRAS*|\n",
       "|**Abstract**| The radiation drag in photon-rich environments of cosmic explosions can seed kinetic instabilities by inducing velocity spreads between relativistically streaming plasma components. Such microturbulence is likely imprinted on the breakout signals of radiation-mediated shocks. However, large-scale, transverse magnetic fields in the deceleration region of the shock transition can suppress the dominant kinetic instabilities by preventing the development of velocity separations between electron-positron pairs and a heavy ion species. We use a one-dimensional (1D) five-fluid radiative transfer code to generate self-consistent profiles of the radiation drag force and plasma composition in the deceleration region. For increasing magnetization, our models predict rapidly growing pair multiplicities and a substantial radiative drag developing self-similarly throughout the deceleration region. We extract the critical magnetization parameter $\\sigma_{c}$, determining the limiting magnetic field strength at which a three-species plasma can develop kinetic instabilities before reaching the isotropized downstream. For a relativistic, single ion plasma drifting with $\\gamma_{u} = 10$ in the upstream of a relativistic radiation-mediated shock, we find the threshold $\\sigma_{c}\\approx 10^{-7}$ for the onset of microturbulence. Suppression of plasma instabilities in the case of multi-ion composition would likely require much higher values of $\\sigma_{c}$. Identifying high-energy signatures of microturbulence in shock-breakout signals and combining them with the magnetization limits provided in this work will allow a deeper understanding of the magnetic environment of cosmic explosions like supernovae, gamma-ray bursts, and neutron star binary mergers. |\n",
       "|<p style=\"color:green\"> **ERROR** </p>| <p style=\"color:green\">affiliation error: mpia.affiliation_verifications: 'Heidelberg' keyword not found.</p> |"
      ],
      "text/plain": [
       "<IPython.core.display.Markdown object>"
      ]
     },
     "metadata": {},
     "output_type": "display_data"
    },
    {
     "data": {
      "text/markdown": [
       "\n",
       "|||\n",
       "|---:|:---|\n",
       "| [![arXiv](https://img.shields.io/badge/arXiv-arXiv:2211.07670-b31b1b.svg)](https://arxiv.org/abs/arXiv:2211.07670) | **A new method for age-dating the formation of bars in disc galaxies: The  TIMER view on NGC1433's old bar and the inside-out growth of its nuclear disc**  |\n",
       "|| Camila de Sá-Freitas, et al. -- incl., <mark>Justus Neumann</mark> |\n",
       "|*Appeared on*| *2022-11-16*|\n",
       "|*Comments*| *Accepted for Publication by A&A, 18 pages, 14 figures*|\n",
       "|**Abstract**| The epoch in which galactic discs settle is a major benchmark to test models of galaxy formation and evolution but is as yet largely unknown. Once discs settle and become self-gravitating enough, stellar bars are able to form; therefore, determining the ages of bars can shed light on the epoch of disc settling, and on the onset of secular evolution. Nevertheless, until now, timing when the bar formed has proven challenging. In this work, we present a new methodology for obtaining the bar age, using the star formation history of nuclear discs. Nuclear discs are rotation-supported structures, built by gas pushed to the centre via bar-induced torques, and their formation is thus coincident with bar formation. In particular, we use integral field spectroscopic (IFS) data from the TIMER survey to disentangle the star formation history of the nuclear disc from that of the underlying main disc, which enables us to more accurately determine when the nuclear disc forms. We demonstrate the methodology on the galaxy NGC 1433 -- which we find to host an old bar that is $8.0^{+1.6}_{-1.1}\\rm{(sys)}^{+0.2}_{-0.5}\\rm{(stat)}$ Gyr old -- and describe a number of tests carried out on both the observational data and numerical simulations. In addition, we present evidence that the nuclear disc of NGC 1433 grows in accordance with an inside-out formation scenario. This methodology is applicable to high-resolution IFS data of barred galaxies with nuclear discs, making it ideally suited for the TIMER survey sample. In the future we will thus be able to determine the bar age for a large sample of galaxies, shedding light on the epoch of disc settling and bar formation. |\n",
       "|<p style=\"color:green\"> **ERROR** </p>| <p style=\"color:green\">affiliation error: mpia.affiliation_verifications: 'Heidelberg' keyword not found.</p> |"
      ],
      "text/plain": [
       "<IPython.core.display.Markdown object>"
      ]
     },
     "metadata": {},
     "output_type": "display_data"
    },
    {
     "data": {
      "text/markdown": [
       "\n",
       "|||\n",
       "|---:|:---|\n",
       "| [![arXiv](https://img.shields.io/badge/arXiv-arXiv:2211.07759-b31b1b.svg)](https://arxiv.org/abs/arXiv:2211.07759) | **Formation of super-Earths in icy dead zones around low-mass stars**  |\n",
       "|| David Vallet, et al. -- incl., <mark>Mario Livio</mark> |\n",
       "|*Appeared on*| *2022-11-16*|\n",
       "|*Comments*| *Accepted for publication in MNRAS Letters*|\n",
       "|**Abstract**| While giant planet occurrence rates increase with stellar mass, occurrence rates of close-in super-Earths decrease. This is in contradiction to the expectation that the total mass of the planets in a system scale with the protoplanetary disc mass and hence the stellar mass. Since the snow line plays an important role in the planet formation process we examine differences in the temperature structure of protoplanetary gas discs around stars of different mass. Protoplanetary discs likely contain a dead zone at the midplane that is sufficiently cold and dense for the magneto-rotational instability to be suppressed. As material builds up, the outer parts of the dead zone may be heated by self-gravity. The temperature in the disc can be below the snow line temperature far from the star and in the inner parts of a dead zone. The inner icy region has a larger radial extent around smaller mass stars. The increased mass of solid icy material may allow for the in situ formation of larger and more numerous planets close to a low-mass star. Super-Earths that form in the inner icy region may have a composition that includes a significant fraction of volatiles. |\n",
       "|<p style=\"color:green\"> **ERROR** </p>| <p style=\"color:green\">affiliation error: mpia.affiliation_verifications: 'Heidelberg' keyword not found.</p> |"
      ],
      "text/plain": [
       "<IPython.core.display.Markdown object>"
      ]
     },
     "metadata": {},
     "output_type": "display_data"
    },
    {
     "data": {
      "text/markdown": [
       "\n",
       "|||\n",
       "|---:|:---|\n",
       "| [![arXiv](https://img.shields.io/badge/arXiv-arXiv:2211.07770-b31b1b.svg)](https://arxiv.org/abs/arXiv:2211.07770) | **Optimal spectral lines for measuring chromospheric magnetic fields**  |\n",
       "|| P. Judge, et al. -- incl., <mark>L. Kleint</mark> |\n",
       "|*Appeared on*| *2022-11-16*|\n",
       "|*Comments*| *Accepted for publication in the Astrophysical Journal. 12 pages, 2 figures, and 1 table*|\n",
       "|**Abstract**| This paper identifies spectral lines from X-ray to infrared wavelengths which are optimally suited to measuring vector magnetic fields as high as possible in the solar atmosphere. Instrumental and Earth's atmospheric properties, as well as solar abundances, atmospheric properties and elementary atomic physics are considered without bias towards particular wavelengths or diagnostic techniques. While narrowly-focused investigations of individual lines have been reported in detail, no assessment of the comparative merits of all lines has ever been published. Although in the UV, on balance the Mg+ h and k lines near 2800 Angstroms are optimally suited to polarimetry of plasma near the base of the solar corona. This result was unanticipated, given that longer-wavelength lines offer greater sensitivity to the Zeeman effect. While these lines sample optical depths photosphere to the coronal base, we argue that cores of multiple spectral lines provide a far more discriminating probe of magnetic structure as a function of optical depth than the core and inner wings of a strong line. Thus, together with many chromospheric lines of Fe+ between 2585 and the h line at 2803 Angstrom, this UV region promises new discoveries concerning how the magnetic fields emerge, heat, and accelerate plasma as they battle to dominate the force and energy balance within the poorly-understood chromosphere. |\n",
       "|<p style=\"color:green\"> **ERROR** </p>| <p style=\"color:green\">affiliation error: mpia.affiliation_verifications: 'Heidelberg' keyword not found.</p> |"
      ],
      "text/plain": [
       "<IPython.core.display.Markdown object>"
      ]
     },
     "metadata": {},
     "output_type": "display_data"
    },
    {
     "data": {
      "text/markdown": [
       "\n",
       "|||\n",
       "|---:|:---|\n",
       "| [![arXiv](https://img.shields.io/badge/arXiv-arXiv:2211.07812-b31b1b.svg)](https://arxiv.org/abs/arXiv:2211.07812) | **Simplified Optimization Model for Low-Thrust Perturbed Rendezvous  Between Low-Eccentricity Orbits**  |\n",
       "|| An-yi Huang, <mark>Heng-nian Li</mark> |\n",
       "|*Appeared on*| *2022-11-16*|\n",
       "|*Comments*| **|\n",
       "|**Abstract**| Trajectory optimization of low-thrust perturbed orbit rendezvous is a crucial technology for space missions in low Earth orbits, which is difficult to solve due to its initial value sensitivity, especially when the transfer trajectory has many revolutions. This paper investigated the time-fixed perturbed orbit rendezvous between low-eccentricity orbits and proposed a priori quasi-optimal thrust strategy to simplify the problem into a parametric optimization problem, which significantly reduces the complexity. The optimal trajectory is divided into three stages including transfer to a certain intermediate orbit, thrust-off drifting and transfer from intermediate orbit to the target orbit. In the two transfer stages, the spacecraft is assumed to use a parametric law of thrust. Then, the optimization model can be then obtained using very few unknowns. Finally, a differential evolution algorithm is adopted to solve the simplified optimization model and an analytical correction process is proposed to eliminate the numerical errors. Simulation results and comparisons with previous methods proved this new method's efficiency and high precision for low-eccentricity orbits. The method can be well applied to premilitary analysis and high-precision trajectory optimization of missions such as in-orbit service and active debris removal in low Earth orbits. |\n",
       "|<p style=\"color:green\"> **ERROR** </p>| <p style=\"color:green\">affiliation error: mpia.affiliation_verifications: 'Heidelberg' keyword not found.</p> |"
      ],
      "text/plain": [
       "<IPython.core.display.Markdown object>"
      ]
     },
     "metadata": {},
     "output_type": "display_data"
    },
    {
     "data": {
      "text/markdown": [
       "\n",
       "|||\n",
       "|---:|:---|\n",
       "| [![arXiv](https://img.shields.io/badge/arXiv-arXiv:2211.07865-b31b1b.svg)](https://arxiv.org/abs/arXiv:2211.07865) | **COSMOS-Web: An Overview of the JWST Cosmic Origins Survey**  |\n",
       "|| Caitlin M. Casey, et al. -- incl., <mark>Henry Joy McCracken</mark>, <mark>Fabrizio Gentile</mark>, <mark>Katriona M. L. Gould</mark>, <mark>Qiuhan He</mark>, <mark>Shoubaneh Hemmati</mark> |\n",
       "|*Appeared on*| *2022-11-16*|\n",
       "|*Comments*| *43 pages, 14 figures, submitted to ApJ*|\n",
       "|**Abstract**| We present the survey design, implementation, and outlook for COSMOS-Web, a 255 hour treasury program conducted by the James Webb Space Telescope in its first cycle of observations. COSMOS-Web is a contiguous 0.54 deg$^2$ NIRCam imaging survey in four filters (F115W, F150W, F277W, and F444W) that will reach 5$\\sigma$ point source depths ranging $\\sim$27.5-28.2 magnitudes. In parallel, we will obtain 0.19 deg$^2$ of MIRI imaging in one filter (F770W). COSMOS-Web will build on the rich heritage of multiwavelength observations and data products available in the COSMOS field. The design of COSMOS-Web is motivated by three primary science goals: (1) to discover thousands of galaxies in the Epoch of Reionization ($6<z<11$) and map reionization's spatial distribution, environments, and drivers on scales sufficiently large to mitigate cosmic variance, (2) to identify hundreds of rare quiescent galaxies at $z>4$ and place constraints on the formation of the Universe's most massive galaxies ($M_\\star>10^{10}$\\,M$_\\odot$), and (3) directly measure the evolution of the stellar mass to halo mass relation using weak gravitational lensing out to $z\\sim2.5$ and measure its variance with galaxies' star formation histories and morphologies. In addition, we anticipate COSMOS-Web's legacy value to reach far beyond these scientific goals, touching many other areas of astrophysics, such as the identification of the first direct collapse black hole candidates, ultracool sub-dwarf stars in the Galactic halo, and possibly the identification of $z>10$ pair-instability supernovae. In this paper we provide an overview of the survey's key measurements, specifications, goals, and prospects for new discovery. |\n",
       "|<p style=\"color:green\"> **ERROR** </p>| <p style=\"color:green\">affiliation error: mpia.affiliation_verifications: 'Heidelberg' keyword not found.</p> |"
      ],
      "text/plain": [
       "<IPython.core.display.Markdown object>"
      ]
     },
     "metadata": {},
     "output_type": "display_data"
    },
    {
     "data": {
      "text/markdown": [
       "\n",
       "|||\n",
       "|---:|:---|\n",
       "| [![arXiv](https://img.shields.io/badge/arXiv-arXiv:2211.07877-b31b1b.svg)](https://arxiv.org/abs/arXiv:2211.07877) | **Chemo-dynamical substructure in the M31 inner halo globular clusters:  Further evidence for a recent accretion event**  |\n",
       "|| <mark>Geraint F. Lewis</mark>, et al. |\n",
       "|*Appeared on*| *2022-11-16*|\n",
       "|*Comments*| *10 pages, 7 figures - accepted for publication in MNRAS*|\n",
       "|**Abstract**| Based upon a metallicity selection, we identify a significant sub-population of the inner halo globular clusters in the Andromeda Galaxy which we name the Dulais Structure. It is distinguished as a co-rotating group of 10-20 globular clusters which appear to be kinematically distinct from, and on average more metal-poor than, the majority of the inner halo population. Intriguingly, the orbital axis of this Dulais Structure is closely aligned with that of the younger accretion event recently identified using a sub-population of globular clusters in the outer halo of Andromeda, and this is strongly suggestive of a causal relationship between the two. If this connection is confirmed, a natural explanation for the kinematics of the globular clusters in the Dulais Structure is that they trace the accretion of a substantial progenitor (~10^11 Msun) into the halo of Andromeda during the last few billion years, that may have occurred as part of a larger group infall. |\n",
       "|<p style=\"color:green\"> **ERROR** </p>| <p style=\"color:green\">affiliation error: mpia.affiliation_verifications: 'Heidelberg' keyword not found.</p> |"
      ],
      "text/plain": [
       "<IPython.core.display.Markdown object>"
      ]
     },
     "metadata": {},
     "output_type": "display_data"
    },
    {
     "data": {
      "text/markdown": [
       "\n",
       "|||\n",
       "|---:|:---|\n",
       "| [![arXiv](https://img.shields.io/badge/arXiv-arXiv:2211.07878-b31b1b.svg)](https://arxiv.org/abs/arXiv:2211.07878) | **Characterizing a supernova's Standing Accretion Shock Instability with  neutrinos and gravitational waves**  |\n",
       "|| <mark>Zidu Lin</mark>, et al. |\n",
       "|*Appeared on*| *2022-11-16*|\n",
       "|*Comments*| *24 pages, 15 figures*|\n",
       "|**Abstract**| We perform a novel multi-messenger analysis for the identification and parameter estimation of the Standing Accretion Shock Instability (SASI) in a core collapse supernova with neutrino and gravitational wave (GW) signals. In the neutrino channel, this method performs a likelihood ratio test for the presence of SASI in the frequency domain. For gravitational wave signals we process an event with a modified constrained likelihood method. Using simulated supernova signals, the properties of the Hyper-Kamiokande neutrino detector, and O3 LIGO Interferometric data, we produce the two-dimensional probability density distribution (PDF) of the SASI activity indicator and calculate the probability of detection $P_\\mathrm{D}$ as well as the false identification probability $P_\\mathrm{FI}$. We discuss the probability to establish the presence of the SASI as a function of the source distance in each observational channel, as well as jointly. Compared to a single-messenger approach, the joint analysis results in $P_\\mathrm{D}$ (at $P_\\mathrm{FI}=0.1$) of SASI activities that is larger by up to $\\approx~40\\%$ for a distance to the supernova of 5 kpc. We also discuss how accurately the frequency and duration of the SASI activity can be estimated in each channel separately. Our methodology is suitable for implementation in a realistic data analysis and a multi-messenger setting. |\n",
       "|<p style=\"color:green\"> **ERROR** </p>| <p style=\"color:green\">affiliation error: mpia.affiliation_verifications: 'Heidelberg' keyword not found.</p> |"
      ],
      "text/plain": [
       "<IPython.core.display.Markdown object>"
      ]
     },
     "metadata": {},
     "output_type": "display_data"
    },
    {
     "data": {
      "text/markdown": [
       "\n",
       "|||\n",
       "|---:|:---|\n",
       "| [![arXiv](https://img.shields.io/badge/arXiv-arXiv:2211.07890-b31b1b.svg)](https://arxiv.org/abs/arXiv:2211.07890) | **Autoencoding Galaxy Spectra I: Architecture**  |\n",
       "|| Peter Melchior, <mark>Yan Liang</mark>, ChangHoon Hahn, <mark>Andy Goulding</mark> |\n",
       "|*Appeared on*| *2022-11-16*|\n",
       "|*Comments*| *17 pages, 5 figures, submitted to AJ. Code available at this https URL*|\n",
       "|**Abstract**| We introduce the neural network architecture SPENDER as a core differentiable building block for analyzing, representing, and creating galaxy spectra. It combines a convolutional encoder, which pays attention to up to 256 spectral features and compresses them into a low-dimensional latent space, with a decoder that generates a restframe representation, whose spectral range and resolution exceeds that of the observing instrument. The decoder is followed by explicit redshift, resampling, and convolution transformations to match the observations. The architecture takes galaxy spectra at arbitrary redshifts and is robust to glitches like residuals of the skyline subtraction, so that spectra from a large survey can be ingested directly without additional preprocessing. We demonstrate the performance of SPENDER by training on the entire spectroscopic galaxy sample of SDSS-II; show its ability to create highly accurate reconstructions with substantially reduced noise; perform deconvolution and oversampling for a super-resolution model that resolves the [OII] doublet; introduce a novel method to interpret attention weights as proxies for important spectral features; and infer the main degrees of freedom represented in the latent space. We conclude with a discussion of future improvements and applications. |\n",
       "|<p style=\"color:green\"> **ERROR** </p>| <p style=\"color:green\">affiliation error: mpia.affiliation_verifications: 'Heidelberg' keyword not found.</p> |"
      ],
      "text/plain": [
       "<IPython.core.display.Markdown object>"
      ]
     },
     "metadata": {},
     "output_type": "display_data"
    },
    {
     "data": {
      "text/markdown": [
       "\n",
       "|||\n",
       "|---:|:---|\n",
       "| [![arXiv](https://img.shields.io/badge/arXiv-arXiv:2211.07899-b31b1b.svg)](https://arxiv.org/abs/arXiv:2211.07899) | **A Low-Mass Pre-Main-Sequence Eclipsing Binary in Lower Centaurus Crux  Discovered with TESS**  |\n",
       "|| Keivan G. Stassun, et al. -- incl., <mark>Guillermo Torres</mark> |\n",
       "|*Appeared on*| *2022-11-16*|\n",
       "|*Comments*| *23 pages, 19 figures, accepted by ApJ*|\n",
       "|**Abstract**| We report the discovery of 2M1222-57 as a low-mass, pre-main-sequence (PMS) eclipsing binary (EB) in the Lower Centaurus Crux (LCC) association for which, using Gaia parallaxes and proper motions with a neural-net age estimator, we determine an age of 16.2$\\pm$2.2 Myr. The broadband spectral energy distribution (SED) shows clear excess at ~10 um indicative of a circumbinary disk, and new speckle-imaging observations reveal a faint, tertiary companion separated by ~100 AU. H-alpha emission is modulated on the orbital period, consistent with theoretical models of orbitally pulsed accretion streams reaching from the inner disk edge to the central stars. From a joint analysis of spectroscopically determined radial velocities and TESS light curves, together with additional tight constraints provided by the SED and the Gaia parallax, we measure masses for the eclipsing stars of 0.74 Msun and 0.67 Msun; radii of 0.98 Rsun and 0.94 Rsun; and effective temperatures of 3750 K and 3645 K. The masses and radii of both stars are measured to an accuracy of ~1%. The measured radii are inflated, and the temperatures suppressed, relative to predictions of standard PMS evolutionary models at the age of LCC; also, the Li abundances are ~2 dex less depleted than predicted by those models. However, models that account for the global and internal effects of surface magnetic fields are able to simultaneously reproduce the measured radii, temperatures, and Li abundances at an age of 17.0$\\pm$0.5 Myr. Altogether, the 2M1222-57 system presents very strong evidence that magnetic activity in young stars alters both their global properties and the physics of their interiors. |\n",
       "|<p style=\"color:green\"> **ERROR** </p>| <p style=\"color:green\">affiliation error: mpia.affiliation_verifications: 'Heidelberg' keyword not found.</p> |"
      ],
      "text/plain": [
       "<IPython.core.display.Markdown object>"
      ]
     },
     "metadata": {},
     "output_type": "display_data"
    },
    {
     "data": {
      "text/markdown": [
       "\n",
       "|||\n",
       "|---:|:---|\n",
       "| [![arXiv](https://img.shields.io/badge/arXiv-arXiv:2211.07960-b31b1b.svg)](https://arxiv.org/abs/arXiv:2211.07960) | **Lagrangian displacement field estimators in cosmology**  |\n",
       "|| Atsuhisa Ota, <mark>Hee-Jong Seo</mark>, Shun Saito, Florian Beutler |\n",
       "|*Appeared on*| *2022-11-16*|\n",
       "|*Comments*| *15 pages, 6 figures*|\n",
       "|**Abstract**| The nonlinear Lagrangian displacement field and initial linear density field are highly correlated. Therefore, reconstructing the nonlinear displacement field could better extract the primordial cosmological information from the late time density field. Continuing from Ref. [1], we investigate to what extent the iterative displacement reconstruction in Ref. [2] can recover the true displacement field with a particular emphasis on improving the numerical discreteness effect and improving the perturbation theory model for the postreconstructed field. We propose two new displacement field estimators to overcome the numerical discreteness effect in measuring the displacement field; the normalized momentum estimator (NME) and the rescaled resumed estimator (RRE). Furthermore, by adequately accounting for the UV-sensitive term in a reconstruction procedure with an effective field theory approach, we manage to decrease the discrepancy between the theoretical model and the simulation result almost five times, to the level of a few \\% at $k\\sim 0.2h/{\\rm Mpc}$ for the redshift $z=0.6$. We conclude that the previous displacement field reconstruction cannot fully reconstruct the shape of the nonlinear displacement field at $k\\sim 0.2h/{\\rm Mpc}$ at $z=0.6$, while it is still an efficient BAO reconstruction method. |\n",
       "|<p style=\"color:green\"> **ERROR** </p>| <p style=\"color:green\">affiliation error: mpia.affiliation_verifications: 'Heidelberg' keyword not found.</p> |"
      ],
      "text/plain": [
       "<IPython.core.display.Markdown object>"
      ]
     },
     "metadata": {},
     "output_type": "display_data"
    },
    {
     "data": {
      "text/markdown": [
       "\n",
       "|||\n",
       "|---:|:---|\n",
       "| [![arXiv](https://img.shields.io/badge/arXiv-arXiv:2211.07987-b31b1b.svg)](https://arxiv.org/abs/arXiv:2211.07987) | **Tidally locked rotation of the dwarf planet (136199) Eris discovered  from long-term ground based and space photometry**  |\n",
       "|| R. Szakáts, et al. -- incl., <mark>T. G. Müller</mark> |\n",
       "|*Appeared on*| *2022-11-16*|\n",
       "|*Comments*| *Accepted for publication in Astronomy and Astrophysics Letters, data of tables A.1, A.2 and A.4 are available at this https URL*|\n",
       "|**Abstract**| The rotational states of the members in the dwarf planet - satellite systems in the transneptunian region are determined by the formation conditions and the tidal interaction between the components, and these rotational characteristics are the prime tracers of their evolution. Previously a number of authors claimed highly diverse values for the rotation period for the dwarf planet Eris, ranging from a few hours to a rotation (nearly) synchronous with the orbital period (15.8 d) of its satellite, Dysnomia. In this letter we present new light curve data of Eris, taken with $\\sim$1-2m-class ground based telescopes, and with the TESS and Gaia space telescopes. TESS data could not provide a well-defined light curve period, but could constrain light curve variations to a maximum possible light curve amplitude of $\\Delta m$ $\\leq$ 0.03 mag (1-$\\sigma$) for P $\\leq$ 24 h periods. Both the combined ground-based data and the Gaia measurements unambiguously point to a light curve period equal to the orbital period of Dysnomia, P = 15.8 d, with a light curve amplitude of $\\Delta m$ $\\approx$ 0.03 mag, i.e. the rotation of Eris is tidally locked. Assuming that Dysnomia has a collisional origin, calculations with a simple tidal evolution model show that Dysnomia has to be relatively massive (mass ratio of q = 0.01--0.03) and large (radius of $R_s$ $\\geq$ 300 km) to slow down Eris to synchronized rotation. These simulations also indicate that -- assuming tidal parameters usually considered for transneptunian objects -- the density of Dysnomia should be 1.8-2.4 $g cm^{-3}$, an exceptionally high value among similarly sized transneptunian objects, putting important constraints on the formation conditions. |\n",
       "|<p style=\"color:green\"> **ERROR** </p>| <p style=\"color:green\">affiliation error: mpia.affiliation_verifications: 'Heidelberg' keyword not found.</p> |"
      ],
      "text/plain": [
       "<IPython.core.display.Markdown object>"
      ]
     },
     "metadata": {},
     "output_type": "display_data"
    },
    {
     "data": {
      "text/markdown": [
       "\n",
       "|||\n",
       "|---:|:---|\n",
       "| [![arXiv](https://img.shields.io/badge/arXiv-arXiv:2211.08021-b31b1b.svg)](https://arxiv.org/abs/arXiv:2211.08021) | **Monte-Carlo simulations on possible collimation effects of outflows to  fan-beamed emission of ultraluminous accreting X-ray pulsars**  |\n",
       "|| X. Hou, et al. -- incl., <mark>S.N. Zhang</mark>, <mark>S. Zhang</mark> |\n",
       "|*Appeared on*| *2022-11-16*|\n",
       "|*Comments*| *26 pages, 8 figures, 1 table. Accepted by ApJ*|\n",
       "|**Abstract**| Pulsating ultraluminous X-ray sources (PULXs) are accreting pulsars with apparent X-ray luminosity exceeding $10^{39}\\, \\rm erg\\ s^{-1}$. We perform Monte-Carlo simulations to investigate whether high collimation effect (or strong beaming effect) is dominant in the presence of accretion outflows, for the fan beam emission of the accretion column of the neutron stars in PULXs. We show that the three nearby PULXs (RX J0209.6$-$7427, Swift J0243.6+6124 and SMC X-3), namely the three musketeers here, have their main pulsed emission not strongly collimated even if strong outflows exist. This conclusion can be extended to the current sample of extragalactic PULXs, if accretion outflows are commonly produced from them. This means that the observed high luminosity of PULXs is indeed intrinsic, which can be used to infer the existence of very strong surface magnetic fields of $\\sim10^{13-14}$ G, possibly multipole fields. However, if strong outflows are launched from the accretion disks in PULXs as a consequence of disk spherization by radiation pressure, regular dipole magnetic fields of $\\sim10^{12}$ G may be required, comparable to that of the three musketeers, which have experienced large luminosity changes from well below their Eddington limit ($2\\times10^{38}\\, \\rm erg\\ s^{-1}$ for a NS) to super-Eddington and their maximum luminosity fills the luminosity gap between Galactic pulsars and extragalactic PULXs. |\n",
       "|<p style=\"color:green\"> **ERROR** </p>| <p style=\"color:green\">affiliation error: mpia.affiliation_verifications: 'Heidelberg' keyword not found.</p> |"
      ],
      "text/plain": [
       "<IPython.core.display.Markdown object>"
      ]
     },
     "metadata": {},
     "output_type": "display_data"
    },
    {
     "data": {
      "text/markdown": [
       "\n",
       "|||\n",
       "|---:|:---|\n",
       "| [![arXiv](https://img.shields.io/badge/arXiv-arXiv:2211.08254-b31b1b.svg)](https://arxiv.org/abs/arXiv:2211.08254) | **EIGER I. a large sample of [OIII]-emitting galaxies at $5.3 < z < 6.9$  and direct evidence for local reionization by galaxies**  |\n",
       "|| Daichi Kashino, et al. -- incl., <mark>Simon J. Lilly</mark> |\n",
       "|*Appeared on*| *2022-11-16*|\n",
       "|*Comments*| *24 pages, 14 figures, submitted to ApJ, comments welcome*|\n",
       "|**Abstract**| We present a first sample of 117 [OIII]$\\lambda\\lambda$4960,5008-selected star-forming galaxies at $5.33 < z < 6.93$ detected in JWST/NIRCam 3.5$\\mu$m slitless spectroscopy of a $6.5 \\times 3.4$ arcmin$^2$ field centered on the hyperluminous quasar SDSS J0100+2802, obtained as part of the EIGER (Emission-line galaxies and Intergalactic Gas in the Epoch of Reionization) survey. Three prominent galaxy overdensities are observed, one of them at the redshift of the quasar. Galaxies are found within 200 pkpc and 105 km s$^{-1}$ of four known metal absorption-line systems in this redshift range. We focus on the role of the galaxies in ionizing the surrounding intergalactic medium (IGM) during the later stages of cosmic reionization and construct the mean Ly$\\alpha$ and Ly$\\beta$ transmission as a function of distance from the galaxies. At the lowest redshifts in our study, $5.3 < z < 5.7$, the IGM transmission rises monotonically with distance from the galaxies. This is as expected when galaxies reside at peaks in the overdensity field of an IGM that is ionized by more or less uniform ionizing background, and has been seen at lower redshifts. In contrast, at $5.7 < z < 6.14$, the transmission of both Ly$\\alpha$ and Ly$\\beta$ first increases with distance, but then peaks at a distance of 5 cMpc before declining. This peak in transmission is qualitatively similar to that seen (albeit at smaller distances and higher redshifts) in the THESAN simulations. Finally, in the region $6.15 < z < 6.26$ where the additional ionizing radiation from the quasar dominates, the monotonic increase in transmission with distance is re-established. This result is interpreted to represent evidence that the transmission of the IGM at $z \\sim 5.9$ towards J0100+2802 results from the ``local'' ionizing radiation of galaxies that dominates over the much reduced cosmic background. |\n",
       "|<p style=\"color:green\"> **ERROR** </p>| <p style=\"color:green\">affiliation error: mpia.affiliation_verifications: 'Heidelberg' keyword not found.</p> |"
      ],
      "text/plain": [
       "<IPython.core.display.Markdown object>"
      ]
     },
     "metadata": {},
     "output_type": "display_data"
    },
    {
     "data": {
      "text/markdown": [
       "\n",
       "|||\n",
       "|---:|:---|\n",
       "| [![arXiv](https://img.shields.io/badge/arXiv-arXiv:2211.08255-b31b1b.svg)](https://arxiv.org/abs/arXiv:2211.08255) | **EIGER II. first spectroscopic characterisation of the young stars and  ionised gas associated with strong H$β$ and [OIII] line-emission in  galaxies at z=5-7 with JWST**  |\n",
       "|| Jorryt Matthee, et al. -- incl., <mark>Simon J. Lilly</mark> |\n",
       "|*Appeared on*| *2022-11-16*|\n",
       "|*Comments*| *Submitted to ApJ. Main text 22 pages, 20 figures. Main results in Figs 14 (Xi_ion), 15 (MEx diagram),17 (MZR), 19 ([OIII] luminosity density). Comments welcome*|\n",
       "|**Abstract**| We present emission-line measurements and physical interpretations for a sample of 117 [OIII] emitting galaxies at $z=5.33-6.93$, using the first deep JWST/NIRCam wide field slitless spectroscopic observations. Our 9.7-hour integration is centered upon the $z=6.3$ quasar J0100+2802 -- the first of six fields targeted by the EIGER survey -- and covers $\\lambda=3-4$ microns. We detect 133 [OIII] doublets, but merge pairs within $\\approx$10 kpc and 600 km s$^{-1}$, motivated by their small scale clustering excess. We detect H$\\beta$ in 68 and H$\\gamma$ in two galaxies. The galaxies are characterised by a UV luminosity M$_{\\rm UV}\\sim-19.7$ ($-17.7$ to $-22.3$), mass ~$10^8$ $(10^{6.8-9.8})$ M$_{\\odot}$, H$\\beta$ and [OIII] EWs $\\approx$ 1000 Angstrom (up to 3000 Angstrom), young ages (~5 Myr), a highly excited interstellar medium ([OIII]/H$\\beta\\approx6$) and low dust attenuations. These high EWs are very rare in the local Universe, but we show they are ubiquitous at $z\\sim6$ based on the measured number densities. The stacked spectrum reveals H$\\gamma$ and [OIII]$_{4364}$ which shows that the galaxies are typically dust and metal poor (E(B-V)=0.1, 12+log(O/H)=7.4) with a high electron temperature ($2\\times10^4$ K) and a high production efficiency of ionising photons ($\\xi_{\\rm ion}=10^{25.6}$ Hz erg$^{-1}$). We further show the existence of a strong mass-metallicity relation as expected by simulations. The young highly ionising stellar populations, moderately low metallicities, low dust attenuations and high ionisation state in z~6 galaxies conspire to maximise the [OIII] output from galaxies, yielding an [OIII] luminosity density at z~6 that is significantly higher than at z~2, despite the order of magnitude decline in cosmic star formation. Thus, [OIII] emission-line surveys with JWST prove a highly efficient method to trace the galaxy density in the epoch of reionization. |\n",
       "|<p style=\"color:green\"> **ERROR** </p>| <p style=\"color:green\">affiliation error: mpia.affiliation_verifications: 'Heidelberg' keyword not found.</p> |"
      ],
      "text/plain": [
       "<IPython.core.display.Markdown object>"
      ]
     },
     "metadata": {},
     "output_type": "display_data"
    },
    {
     "data": {
      "text/markdown": [
       "\n",
       "|||\n",
       "|---:|:---|\n",
       "| [![arXiv](https://img.shields.io/badge/arXiv-arXiv:2211.08348-b31b1b.svg)](https://arxiv.org/abs/arXiv:2211.08348) | **Non-perturbative non-Gaussianity and primordial black holes**  |\n",
       "|| Andrew D. Gow, et al. -- incl., <mark>Joseph H. P. Jackson</mark> |\n",
       "|*Appeared on*| *2022-11-16*|\n",
       "|*Comments*| *8 pages, 2 figures*|\n",
       "|**Abstract**| We present a non-perturbative method for calculating the abundance of primordial black holes given an arbitrary one-point probability distribution function for the primordial curvature perturbation, $P(\\zeta)$. A non-perturbative method is essential when considering non-Gaussianities that cannot be treated using a conventional perturbative expansion. To determine the full statistics of the density field, we relate $\\zeta$ to a Gaussian field by equating the cumulative distribution functions. We consider two examples: a specific local-type non-Gaussian distribution arising from ultra slow roll models, and a general piecewise model for $P(\\zeta)$ with an exponential tail. We demonstrate that the enhancement of primordial black hole formation is due to the intermediate regime, rather than the far tail. We also show that non-Gaussianity can have a significant impact on the shape of the primordial black hole mass distribution. |\n",
       "|<p style=\"color:green\"> **ERROR** </p>| <p style=\"color:green\">affiliation error: mpia.affiliation_verifications: 'Heidelberg' keyword not found.</p> |"
      ],
      "text/plain": [
       "<IPython.core.display.Markdown object>"
      ]
     },
     "metadata": {},
     "output_type": "display_data"
    },
    {
     "data": {
      "text/markdown": [
       "\n",
       "|||\n",
       "|---:|:---|\n",
       "| [![arXiv](https://img.shields.io/badge/arXiv-arXiv:2211.08355-b31b1b.svg)](https://arxiv.org/abs/arXiv:2211.08355) | **Galaxy And Mass Assembly: Galaxy Morphology in the Green Valley,  Prominent rings and looser Spiral Arms**  |\n",
       "|| <mark>Dominic Smith</mark>, et al. -- incl., <mark>Christopher P. A. Henry</mark>, <mark>Jochen Liske</mark>, <mark>Lee S. Kelvin</mark> |\n",
       "|*Appeared on*| *2022-11-16*|\n",
       "|*Comments*| *11 pages, 21 figures, accepted to MNRAS*|\n",
       "|**Abstract**| Galaxies broadly fall into two categories: star-forming (blue) galaxies and quiescent (red) galaxies. In between, one finds the less populated ``green valley\". Some of these galaxies are suspected to be in the process of ceasing their star-formation through a gradual exhaustion of gas supply or already dead and are experiencing a rejuvenation of star-formation through fuel injection. We use the Galaxy And Mass Assembly database and the Galaxy Zoo citizen science morphological estimates to compare the morphology of galaxies in the green valley against those in the red sequence and blue cloud. Our goal is to examine the structural differences within galaxies that fall in the green valley, and what brings them there. Previous results found disc features such as rings and lenses are more prominently represented in the green valley population. We revisit this with a similar sized data set of galaxies with morphology labels provided by the Galaxy Zoo for the GAMA fields based on new KiDS images. Our aim is to compare qualitatively the results from expert classification to that of citizen science. We observe that ring structures are indeed found more commonly in green valley galaxies compared to their red and blue counterparts. We suggest that ring structures are a consequence of disc galaxies in the green valley actively exhibiting characteristics of fading discs and evolving disc morphology of galaxies. We note that the progression from blue to red correlates with loosening spiral arm structure. |\n",
       "|<p style=\"color:green\"> **ERROR** </p>| <p style=\"color:green\">affiliation error: mpia.affiliation_verifications: 'Heidelberg' keyword not found.</p> |"
      ],
      "text/plain": [
       "<IPython.core.display.Markdown object>"
      ]
     },
     "metadata": {},
     "output_type": "display_data"
    },
    {
     "data": {
      "text/markdown": [
       "\n",
       "|||\n",
       "|---:|:---|\n",
       "| [![arXiv](https://img.shields.io/badge/arXiv-arXiv:2211.07836-b31b1b.svg)](https://arxiv.org/abs/arXiv:2211.07836) | **Evolution of Gas, and Star Formation from z = 0 to 5**  |\n",
       "|| Nick Scoville, et al. -- incl., <mark>Henry McCracken</mark>, <mark>Herve Aussel</mark> |\n",
       "|*Appeared on*| *2022-11-16*|\n",
       "|*Comments*| *AAS Russel Lecture June 2022 (N. Scoville), 18 pages. arXiv admin note: text overlap with arXiv:1702.04729*|\n",
       "|**Abstract**| ALMA observations of the long wavelength dust continuum are used to estimate the gas masses in a sample of 708 star-forming (SF) galaxies at z = 0.3 to 4.5. We determine the dependence of gas masses and star formation efficiencies (SFE=SFR per unit gass mass). We find that 70 percent of the increase in SFRs of the MS is due to the increased gas masses at earlier epochs while 30 percent is due to increased efficiency of SF. For galaxies above the MS this is reversed with 70 percent of the increased SFR relative to the MS being due to elevated SFEs. Thus, the major evolution of star formation activity at early epochs is driven by increased gas masses, while the starburst activity taking galaxies above the MS is due to enhanced triggering of star formation (likely due to galactic merging). The interstellar gas peaks at z = 2 and dominates the stellar mass down to z = 1.2. Accretion rates needed to maintain continuity of the MS evolution exceed 100 Msun per yr at z > 2. The galactic gas contents are likely the driving determinant for both the rise in SF and AGN activity from z = 5 to their peak at z = 2 and subsequent fall to lower z. We suggest that for self-gravitating clouds with supersonic turbulence, cloud collisions and the filamentary structure of the clouds regulate the star formation activity. |\n",
       "|<p style=\"color:red\"> **ERROR** </p>| <p style=\"color:red\">latex error 'utf-8' codec can't decode byte 0xd5 in position 6001: invalid continuation byte</p> |"
      ],
      "text/plain": [
       "<IPython.core.display.Markdown object>"
      ]
     },
     "metadata": {},
     "output_type": "display_data"
    },
    {
     "data": {
      "text/markdown": [
       "\n",
       "|||\n",
       "|---:|:---|\n",
       "| [![arXiv](https://img.shields.io/badge/arXiv-arXiv:2211.08356-b31b1b.svg)](https://arxiv.org/abs/arXiv:2211.08356) | **Monte Carlo Simulation of Lane-Emden Type Equations Arising in  Astrophysics**  |\n",
       "|| Samah H. El-Essawy, et al. -- incl., <mark>Helal I. Abdel Rahman</mark> |\n",
       "|*Appeared on*| *2022-11-16*|\n",
       "|*Comments*| **|\n",
       "|**Abstract**| Monte Carlo (MC) method played an essential role in many areas of human activity and has found application in many branches of physical science. This paper proposes a computational technique based on MC algorithms to solve Lane-Emden (LE) type equations. We analyze four LE equations arising in astrophysics: the positive and negative indices of the polytropic gas spheres, the isothermal gas sphere, and the white dwarf equation. We calculated eleven models (i.e., eleven LE equations) of the positive index polytropes, nine for the negative index polytrope, the isothermal gas sphere, and the white dwarf equation. Comparing the MC and numerical/analytical models gives good agreement for the four LE equations under study. |\n",
       "|<p style=\"color:red\"> **ERROR** </p>| <p style=\"color:red\">latex error not a gzip file</p> |"
      ],
      "text/plain": [
       "<IPython.core.display.Markdown object>"
      ]
     },
     "metadata": {},
     "output_type": "display_data"
    }
   ],
   "source": [
    "import datetime\n",
    "today = str(datetime.date.today())\n",
    "logfile = f\"_build/html/logs/log-{today}.md\"\n",
    "\n",
    "\n",
    "with open(logfile, 'w') as logs:\n",
    "    # Success\n",
    "    logs.write(f'# Arxiv on Deck 2: Logs - {today}\\n\\n')\n",
    "    logs.write(\"\"\"* Arxiv had {0:,d} new papers\\n\"\"\".format(len(new_papers)))\n",
    "    logs.write(\"\"\"    * {0:,d} with possible author matches\\n\\n\"\"\".format(len(candidates)))\n",
    "    logs.write(\"## Sucessful papers\\n\\n\")\n",
    "    display(Markdown(\"## Successful papers\"))\n",
    "    success = [k[0] for k in documents]\n",
    "    for candid in candidates:\n",
    "        if candid['identifier'].split(':')[-1] in success:\n",
    "            display(candid)\n",
    "            logs.write(candid.generate_markdown_text() + '\\n\\n')\n",
    "\n",
    "    ## failed\n",
    "    logs.write(\"## Failed papers\\n\\n\")\n",
    "    display(Markdown(\"## Failed papers\"))\n",
    "    failed = sorted(failed, key=lambda x: x[1])\n",
    "    current_reason = \"\"\n",
    "    for paper, reason in failed:\n",
    "        if 'affiliation' in reason:\n",
    "            color = 'green'\n",
    "        else:\n",
    "            color = 'red'\n",
    "        data = Markdown(\n",
    "                paper.generate_markdown_text() + \n",
    "                f'\\n|<p style=\"color:{color:s}\"> **ERROR** </p>| <p style=\"color:{color:s}\">{reason:s}</p> |'\n",
    "               )\n",
    "        if reason != current_reason:\n",
    "            logs.write(f'### {reason:s} \\n\\n')\n",
    "            current_reason = reason\n",
    "        logs.write(data.data + '\\n\\n')\n",
    "        \n",
    "        # only display here the important errors (all in logs)\n",
    "        # if color in ('red',):\n",
    "        display(data)"
   ]
  },
  {
   "cell_type": "markdown",
   "id": "472d20ee",
   "metadata": {
    "papermill": {
     "duration": 0.011905,
     "end_time": "2022-11-16T04:22:53.631996",
     "exception": false,
     "start_time": "2022-11-16T04:22:53.620091",
     "status": "completed"
    },
    "tags": []
   },
   "source": [
    "## Export documents\n",
    "\n",
    "We now write the .md files and export relevant images"
   ]
  },
  {
   "cell_type": "code",
   "execution_count": 7,
   "id": "d426aed9",
   "metadata": {
    "execution": {
     "iopub.execute_input": "2022-11-16T04:22:53.658529Z",
     "iopub.status.busy": "2022-11-16T04:22:53.657611Z",
     "iopub.status.idle": "2022-11-16T04:22:53.666760Z",
     "shell.execute_reply": "2022-11-16T04:22:53.665814Z"
    },
    "papermill": {
     "duration": 0.024443,
     "end_time": "2022-11-16T04:22:53.668762",
     "exception": false,
     "start_time": "2022-11-16T04:22:53.644319",
     "status": "completed"
    },
    "tags": []
   },
   "outputs": [],
   "source": [
    "def export_markdown_summary(md: str, md_fname:str, directory: str):\n",
    "    \"\"\"Export MD document and associated relevant images\"\"\"\n",
    "    import os\n",
    "    import shutil\n",
    "    import re\n",
    "\n",
    "    if (os.path.exists(directory) and not os.path.isdir(directory)):\n",
    "        raise RuntimeError(f\"a non-directory file exists with name {directory:s}\")\n",
    "\n",
    "    if (not os.path.exists(directory)):\n",
    "        print(f\"creating directory {directory:s}\")\n",
    "        os.mkdir(directory)\n",
    "\n",
    "    fig_fnames = (re.compile(r'\\[Fig.*\\]\\((.*)\\)').findall(md) + \n",
    "                  re.compile(r'\\<img src=\"([^>\\s]*)\"[^>]*/>').findall(md))\n",
    "    for fname in fig_fnames:\n",
    "        if 'http' in fname:\n",
    "            # No need to copy online figures\n",
    "            continue\n",
    "        destdir = os.path.join(directory, os.path.dirname(fname))\n",
    "        destfname = os.path.join(destdir, os.path.basename(fname))\n",
    "        try:\n",
    "            os.makedirs(destdir)\n",
    "        except FileExistsError:\n",
    "            pass\n",
    "        shutil.copy(fname, destfname)\n",
    "    with open(os.path.join(directory, md_fname), 'w') as fout:\n",
    "        fout.write(md)\n",
    "    print(\"exported in \", os.path.join(directory, md_fname))\n",
    "    [print(\"    + \" + os.path.join(directory,fk)) for fk in fig_fnames]"
   ]
  },
  {
   "cell_type": "code",
   "execution_count": 8,
   "id": "014d04a4",
   "metadata": {
    "execution": {
     "iopub.execute_input": "2022-11-16T04:22:53.696772Z",
     "iopub.status.busy": "2022-11-16T04:22:53.695820Z",
     "iopub.status.idle": "2022-11-16T04:22:53.723141Z",
     "shell.execute_reply": "2022-11-16T04:22:53.722331Z"
    },
    "papermill": {
     "duration": 0.044093,
     "end_time": "2022-11-16T04:22:53.724925",
     "exception": false,
     "start_time": "2022-11-16T04:22:53.680832",
     "status": "completed"
    },
    "tags": []
   },
   "outputs": [
    {
     "name": "stdout",
     "output_type": "stream",
     "text": [
      "exported in "
     ]
    },
    {
     "name": "stdout",
     "output_type": "stream",
     "text": [
      " _build/html/2211.07659.md\n",
      "    + _build/html/tmp_2211.07659/./Figs/R_Closure_TNG_EAGLE_SIMBA.png\n",
      "    + _build/html/tmp_2211.07659/./Figs/baryonFrac_2dhist_TNG_EAGLE_SIMBA.png\n",
      "    + _build/html/tmp_2211.07659/./Figs/R_Closure_TNG_VAR.png\n",
      "    + _build/html/tmp_2211.07659/./Figs/baryonFrac_2dhist_cum_TNG_VAR0000_z0.png\n",
      "    + _build/html/tmp_2211.07659/./Figs/baryonFrac_2dhist_cum_TNG_VAR2101_z0.png\n",
      "    + _build/html/tmp_2211.07659/./Figs/baryonFrac_2dhist_cum_TNG_VAR2201_z0.png\n",
      "    + _build/html/tmp_2211.07659/./Figs/baryonFrac_2dhist_cum_TNG_VAR0030_z0.png\n",
      "    + _build/html/tmp_2211.07659/./Figs/R_Closure_fit_z0.png\n",
      "    + _build/html/tmp_2211.07659/./Figs/R_Closure_fit_beta.png\n",
      "exported in  _build/html/2211.07667.md\n",
      "    + _build/html/tmp_2211.07667/./figures/smoothing/planck_545.jpg\n",
      "    + _build/html/tmp_2211.07667/./figures/smoothing/total_zoom_in_reconstructed_emisssion_545.jpg\n",
      "    + _build/html/tmp_2211.07667/./figures/smoothing/planck_zoom_500_545_smooth_1024.jpg\n",
      "    + _build/html/tmp_2211.07667/./figures/smoothing/planck_zoom_500_545_smooth_total_reconstructed_emission_1024.jpg\n",
      "    + _build/html/tmp_2211.07667/./figures/smoothing/planck_zoom_500_545_smooth_total_difference_emission_1024.jpg\n",
      "    + _build/html/tmp_2211.07667/./figures/planck_2998.png\n",
      "    + _build/html/tmp_2211.07667/./figures/planck_217.png\n",
      "    + _build/html/tmp_2211.07667/./figures/planck_353.png\n",
      "    + _build/html/tmp_2211.07667/./figures/planck_545.png\n",
      "    + _build/html/tmp_2211.07667/./figures/planck_857.png\n",
      "exported in  _build/html/2211.08294.md\n",
      "    + _build/html/tmp_2211.08294/./RV_timeSeries_tr.png\n",
      "    + _build/html/tmp_2211.08294/./FEROS_correlations.png\n",
      "    + _build/html/tmp_2211.08294/./transit.png\n"
     ]
    }
   ],
   "source": [
    "for paper_id, md in documents:\n",
    "    export_markdown_summary(md, f\"{paper_id:s}.md\", '_build/html/')"
   ]
  },
  {
   "cell_type": "markdown",
   "id": "f087a0a7",
   "metadata": {
    "papermill": {
     "duration": 0.013311,
     "end_time": "2022-11-16T04:22:53.752077",
     "exception": false,
     "start_time": "2022-11-16T04:22:53.738766",
     "status": "completed"
    },
    "tags": []
   },
   "source": [
    "## Display the papers\n",
    "\n",
    "Not necessary but allows for a quick check."
   ]
  },
  {
   "cell_type": "code",
   "execution_count": 9,
   "id": "fd25f625",
   "metadata": {
    "execution": {
     "iopub.execute_input": "2022-11-16T04:22:53.785844Z",
     "iopub.status.busy": "2022-11-16T04:22:53.784964Z",
     "iopub.status.idle": "2022-11-16T04:22:53.795195Z",
     "shell.execute_reply": "2022-11-16T04:22:53.794295Z"
    },
    "papermill": {
     "duration": 0.027905,
     "end_time": "2022-11-16T04:22:53.797426",
     "exception": false,
     "start_time": "2022-11-16T04:22:53.769521",
     "status": "completed"
    },
    "scrolled": false,
    "tags": []
   },
   "outputs": [
    {
     "data": {
      "text/markdown": [
       "<div class=\"macros\" style=\"visibility:hidden;\">\n",
       "$\\newcommand{\\ensuremath}{}$\n",
       "$\\newcommand{\\xspace}{}$\n",
       "$\\newcommand{\\object}[1]{\\texttt{#1}}$\n",
       "$\\newcommand{\\farcs}{{.}''}$\n",
       "$\\newcommand{\\farcm}{{.}'}$\n",
       "$\\newcommand{\\arcsec}{''}$\n",
       "$\\newcommand{\\arcmin}{'}$\n",
       "$\\newcommand{\\ion}[2]{#1#2}$\n",
       "$\\newcommand{\\textsc}[1]{\\textrm{#1}}$\n",
       "$\\newcommand{\\hl}[1]{\\textrm{#1}}$\n",
       "$\\newcommand{\\reza}[1]{\\color{red}#1\\color{black}}$\n",
       "$\\newcommand{\\comment}[1]{\\textbf{[#1]}}$\n",
       "$\\newcommand{\\rezac}[1]{\\color{green}\\textbf{[#1] }\\color{black}}$\n",
       "$\\newcommand{\\eg}[0]{\\textnormal{e.g. }}$\n",
       "$\\newcommand{\\ie}[0]{\\textnormal{i.e. }}$\n",
       "$\\newcommand{\\Msun}[0]{ \\textnormal{M}_{\\textnormal{\\astrosun}}}$\n",
       "$\\newcommand{\\asun}[0]{_{\\textnormal{\\astrosun}}}$\n",
       "$\\newcommand{\\tn}[1]{\\textnormal{#1}}$\n",
       "$\\newcommand{\\sub}[1]{_{\\textnormal{#1}}}$\n",
       "$\\newcommand{\\bs}[1]{\\boldsymbol{#1}}$\n",
       "$\\newcommand{\\lgal}[0]{\\textsc{L-Galaxies}}$\n",
       "$\\newcommand{\\kms}{\\rm km s^{-1}}$\n",
       "$\\newcommand{\\mgii}{Mg \\textsc{ii} }$\n",
       "$\\newcommand{\\ap}[1]{{\\color{magenta} #1}}$</div>\n",
       "\n",
       "<div class=\"macros\" style=\"visibility:hidden;\">\n",
       "$\\newcommand{$\\ensuremath$}{}$\n",
       "$\\newcommand{$\\xspace$}{}$\n",
       "$\\newcommand{$\\object$}[1]{\\texttt{#1}}$\n",
       "$\\newcommand{$\\farcs$}{{.}''}$\n",
       "$\\newcommand{$\\farcm$}{{.}'}$\n",
       "$\\newcommand{$\\arcsec$}{''}$\n",
       "$\\newcommand{$\\arcmin$}{'}$\n",
       "$\\newcommand{$\\ion$}[2]{#1#2}$\n",
       "$\\newcommand{$\\textsc$}[1]{\\textrm{#1}}$\n",
       "$\\newcommand{$\\hl$}[1]{\\textrm{#1}}$\n",
       "$\\newcommand{$\\reza$}[1]{\\color{red}#1\\color{black}}$\n",
       "$\\newcommand{$\\comment$}[1]{\\textbf{[#1]}}$\n",
       "$\\newcommand{$\\reza$c}[1]{\\color{green}\\textbf{[#1] }\\color{black}}$\n",
       "$\\newcommand{$\\eg$}[0]{\\textnormal{e.g. }}$\n",
       "$\\newcommand{$\\ie$}[0]{\\textnormal{i.e. }}$\n",
       "$\\newcommand{$\\Msun$}[0]{ \\textnormal{M}_{\\textnormal{\\astrosun}}}$\n",
       "$\\newcommand{$\\asun$}[0]{_{\\textnormal{\\astrosun}}}$\n",
       "$\\newcommand{$\\tn$}[1]{\\textnormal{#1}}$\n",
       "$\\newcommand{$\\sub$}[1]{_{\\textnormal{#1}}}$\n",
       "$\\newcommand{$\\bs$}[1]{\\boldsymbol{#1}}$\n",
       "$\\newcommand{$\\lgal$}[0]{$\\textsc${L-Galaxies}}$\n",
       "$\\newcommand{$\\kms$}{\\rm km s^{-1}}$\n",
       "$\\newcommand{$\\mgii$}{Mg $\\textsc${ii} }$\n",
       "$\\newcommand{$\\ap$}[1]{{\\color{magenta} #1}}$</div>\n",
       "\n",
       "\n",
       "\n",
       "<div id=\"title\">\n",
       "\n",
       "# Feedback reshapes the baryon distribution within haloes, in halo outskirts, and beyond: the closure radius from dwarfs to massive clusters\n",
       "\n",
       "</div>\n",
       "<div id=\"comments\">\n",
       "\n",
       "[![arXiv](https://img.shields.io/badge/arXiv-2211.07659-b31b1b.svg)](https://arxiv.org/abs/2211.07659)<mark>Appeared on: 2022-11-16</mark> - _Submitted to MNRAS_\n",
       "\n",
       "</div>\n",
       "<div id=\"authors\">\n",
       "\n",
       "Mohammadreza Ayromlou, Dylan Nelson, <mark><mark>Annalisa Pillepich</mark></mark>\n",
       "\n",
       "</div>\n",
       "<div id=\"abstract\">\n",
       "\n",
       "**Abstract:** We explore three sets of cosmological hydrodynamical simulations, IllustrisTNG (TNG50, TNG100, TNG300), EAGLE, and SIMBA, to investigate the physical processes impacting the distribution of baryons in and around haloes across an unprecedented mass range of$10^8 < M_{\\rm 200c}/{\\rm M_{\\odot}} < 10^{15}$, from the halo centre out to scales as large as$30 R_{\\rm 200c}$. We demonstrate that baryonic feedback mechanisms significantly redistribute gas, lowering the baryon fractions inside haloes while simultaneously accumulating this material outside the virial radius. To understand this large-scale baryonic redistribution and identify the dominant physical processes responsible, we examine several variants of TNG that selectively exclude stellar and AGN feedback, cooling, and radiation. We find that heating from the UV background in low-mass haloes ($10^{8} \\leq M_{\\rm 200c}/{\\rm M_{\\odot}}<10^{10}$), stellar feedback in intermediate-mass haloes ($10^{10} \\leq M_{\\rm 200c}/{\\rm M_{\\odot}}<10^{12}$), and AGN feedback in groups ($10^{12} \\leq M_{\\rm 200c}/{\\rm M_{\\odot}}<10^{14}$) are the dominant processes. Galaxy clusters ($M_{\\rm 200c}/{\\rm M_{\\odot}}>10^{14}$) are the least influenced by these processes on large scales. We introduce a new halo mass-dependent characteristic scale, the closure radius$R_{\\rm c}$, within which all baryons associated with haloes are found. For groups and clusters, we introduce a universal relation between this scale and the halo baryon fraction:$R_{\\rm c}/R_{\\rm 200c,500c} - 1 = \\beta(z) (1 - f_{\\rm b}(<R_{\\rm 200c,500c})/f_{\\rm b,cosmic})$, where$\\beta(z) = \\alpha (1+z)^\\gamma$, and$\\alpha$and$\\gamma$are free parameters fit using the simulations. Accordingly, we predict that all baryons associated with observed X-ray haloes can be found within$R_{\\rm c}\\sim 1.5-2.5 R_{\\rm 200c}$. Our results can be used to constrain theoretical models, particularly the physics of supernova and AGN feedback, as well as their interplay with environmental processes, through comparison with current and future X-ray and SZ observations.\n",
       "\n",
       "</div>\n",
       "\n",
       "<div id=\"div_fig1\">\n",
       "\n",
       "<img src=\"tmp_2211.07659/./Figs/R_Closure_TNG_EAGLE_SIMBA.png\" alt=\"Fig5.1\" width=\"50%\"/><img src=\"tmp_2211.07659/./Figs/baryonFrac_2dhist_TNG_EAGLE_SIMBA.png\" alt=\"Fig5.2\" width=\"50%\"/>\n",
       "\n",
       "**Figure 5. -** Top panel: The characteristic scale i.e. \"closure radius\" $R_{\\rm c}$ within which all baryons associated with dark matter are found in TNG, EAGLE, and SIMBA at $z=0$. We show the median value as a function of halo $M_{\\rm 200c}$ over all haloes at each given $M_{\\rm 200c}$ bin. The shaded regions correspond to 16\\% and 84\\% percentile halo-to-halo variation. The closure radius is a strong function of the halo mass with different amplitude for each simulation. Bottom row: 2D histograms of the average ‘cumulative’ baryon fraction (colours) as a function of the halo mass (y-axis) and halocentric distance (x-axis) in TNG, EAGLE, and SIMBA. The orange bright regions show regimes where baryons are missing, whereas the dark regions show regions at the cosmic baryon fraction.\n",
       "     (*Fig: R_c*)\n",
       "\n",
       "</div>\n",
       "<div id=\"div_fig2\">\n",
       "\n",
       "<img src=\"tmp_2211.07659/./Figs/R_Closure_TNG_VAR.png\" alt=\"Fig6.1\" width=\"20%\"/><img src=\"tmp_2211.07659/./Figs/baryonFrac_2dhist_cum_TNG_VAR0000_z0.png\" alt=\"Fig6.2\" width=\"20%\"/><img src=\"tmp_2211.07659/./Figs/baryonFrac_2dhist_cum_TNG_VAR2101_z0.png\" alt=\"Fig6.3\" width=\"20%\"/><img src=\"tmp_2211.07659/./Figs/baryonFrac_2dhist_cum_TNG_VAR2201_z0.png\" alt=\"Fig6.4\" width=\"20%\"/><img src=\"tmp_2211.07659/./Figs/baryonFrac_2dhist_cum_TNG_VAR0030_z0.png\" alt=\"Fig6.5\" width=\"20%\"/>\n",
       "\n",
       "**Figure 6. -** Top row: The characteristic scale i.e. \"closure radius\" $R_{\\rm c}$ within which all baryons associated with dark matter are found, for several variants of the TNG model performed in $\\sim \\rm 37 Mpc$ boxes (see text). We show the median value as a function of halo $M_{\\rm 200c}$ over all haloes at each given $M_{\\rm 200c}$ bin. The shaded regions correspond to 16\\% and 84\\% percentiles. The solid black line corresponds to our expectation of the non-radiative run at a sufficiently high-resolution, while the dashed line is the actual resolution-impacted result at the resolution of the other depicted runs (see Appendix \\ref{app: TNG_convergence}). Middle and bottom rows: 2D histograms of the average ‘cumulative’ baryon fraction (colours) as a function of the halo mass (y-axis) and halocentric distance (x-axis) in four TNG model variants. The orange and green colours correspond to the cumulative baryon fraction less and greater than the cosmic value, respectively. We can see that $R_{\\rm c}>R_{\\rm 200c}$, i.e. the excess of baryons beyond $R_{\\rm 200c}$, is explained by the influence of astrophysical feedback processes, each of which impacts $R_{\\rm c}$ at different halo mass scales. (*Fig: TNG_VAR_R_c*)\n",
       "\n",
       "</div>\n",
       "<div id=\"div_fig3\">\n",
       "\n",
       "<img src=\"tmp_2211.07659/./Figs/R_Closure_fit_z0.png\" alt=\"Fig10.1\" width=\"50%\"/><img src=\"tmp_2211.07659/./Figs/R_Closure_fit_beta.png\" alt=\"Fig10.2\" width=\"50%\"/>\n",
       "\n",
       "**Figure 10. -** Correlation between the halo baryon fraction and the closure radius $R_{c}$. Left: Normalised closure radius as a function of the halo baryon fraction within $R_{\\rm 200c}$ at three different redshifts. Our universal fitting formula, $R_{\\rm c}/R_{\\rm 200c,500c} - 1 = \\beta(z) [1 - f_{\\rm b}(<R_{\\rm 200c,500c})/f_{\\rm b,cosmic}]$, is valid for groups and clusters with $\\log_{10}(M_{\\rm 200c}/{\\rm M_{\\odot}})\\gtrsim 13$ of all simulations considered: TNG, EAGLE, and SIMBA. The solid lines show the best fit for each simulation, and the shaded regions correspond to the $1\\sigma$ of the scatter around the best fit. Replacing $M_{\\rm 200c}$ and $R_{\\rm 200c}$ with $M_{\\rm 500c}$ and $R_{\\rm 500c}$ would only alter the slope of our best fit (see Table \\ref{tab: universal_r_c}), but leaves the shape of the fitting function and our conclusions unchanged. Right: $\\beta(z)$ in our fitting formula (Eqs. \\ref{eq: universal_r_c},\\ref{eq: beta}) as a function of redshift. The curved lines show our best fit for $\\beta(z)$ using the parameters in Table \\ref{tab: universal_r_c}. The dots correspond to best values for $\\beta(z)$ when fitting Eq. \\ref{eq: universal_r_c} at each individual redshift. (*Fig: universal_relation_r_c*)\n",
       "\n",
       "</div>"
      ],
      "text/plain": [
       "<IPython.core.display.Markdown object>"
      ]
     },
     "metadata": {},
     "output_type": "display_data"
    },
    {
     "data": {
      "text/markdown": [
       "<div class=\"macros\" style=\"visibility:hidden;\">\n",
       "$\\newcommand{\\ensuremath}{}$\n",
       "$\\newcommand{\\xspace}{}$\n",
       "$\\newcommand{\\object}[1]{\\texttt{#1}}$\n",
       "$\\newcommand{\\farcs}{{.}''}$\n",
       "$\\newcommand{\\farcm}{{.}'}$\n",
       "$\\newcommand{\\arcsec}{''}$\n",
       "$\\newcommand{\\arcmin}{'}$\n",
       "$\\newcommand{\\ion}[2]{#1#2}$\n",
       "$\\newcommand{\\textsc}[1]{\\textrm{#1}}$\n",
       "$\\newcommand{\\hl}[1]{\\textrm{#1}}$\n",
       "$\\newcommand{\\vdag}{(v)^\\dagger}$\n",
       "$\\newcommand$\n",
       "$\\newcommand$</div>\n",
       "\n",
       "<div class=\"macros\" style=\"visibility:hidden;\">\n",
       "$\\newcommand{$\\ensuremath$}{}$\n",
       "$\\newcommand{$\\xspace$}{}$\n",
       "$\\newcommand{$\\object$}[1]{\\texttt{#1}}$\n",
       "$\\newcommand{$\\farcs$}{{.}''}$\n",
       "$\\newcommand{$\\farcm$}{{.}'}$\n",
       "$\\newcommand{$\\arcsec$}{''}$\n",
       "$\\newcommand{$\\arcmin$}{'}$\n",
       "$\\newcommand{$\\ion$}[2]{#1#2}$\n",
       "$\\newcommand{$\\textsc$}[1]{\\textrm{#1}}$\n",
       "$\\newcommand{$\\hl$}[1]{\\textrm{#1}}$\n",
       "$\\newcommand{$\\vdag$}{(v)^\\dagger}$\n",
       "$\\newcommand$\n",
       "$\\newcommand$</div>\n",
       "\n",
       "\n",
       "\n",
       "<div id=\"title\">\n",
       "\n",
       "#  3D Map of Interstellar Dust Temperature\n",
       "\n",
       "</div>\n",
       "<div id=\"comments\">\n",
       "\n",
       "[![arXiv](https://img.shields.io/badge/arXiv-2211.07667-b31b1b.svg)](https://arxiv.org/abs/2211.07667)<mark>Appeared on: 2022-11-16</mark> - _11 Figures, 19 pages_\n",
       "\n",
       "</div>\n",
       "<div id=\"authors\">\n",
       "\n",
       "Ioana A. Zelko, Douglas P. Finkbeiner, <mark>Albert Lee</mark>, <mark>Gregory Green</mark>\n",
       "\n",
       "</div>\n",
       "<div id=\"abstract\">\n",
       "\n",
       "**Abstract:** We present the first large-scale 3D map of interstellar dust temperature. We build upon existing 3D reddening maps derived from starlight absorption (Bayestar19), covering 3/4 of the sky. Starting with the column density for each of 500 million 3D voxels, we propose a temperature and emissivity power-law slope ($\\beta$) for each of them, and integrate along the line of sight to synthesize an emission map in five frequency bands observed by\\emph{Planck}and\\emph{IRAS}.  The reconstructed emission map is constrained to match observations on a$10'$scale, and does so with good fidelity. We produce 3D temperature maps at  resolutions of$110', 55', $and$27'$. We assess performance on Cepheus, a dust cloud with two distinct components along the line of sight, and find distinct temperatures for the two components. We thus show that this methodology has enough precision to constrain clouds with different temperature along the line of sight up to$1-\\sigma$error. This would be an important result for dust frequency decorrelation foreground analysis for cosmic microwave background experiments, which would be impacted by a line-of-sight with varying temperature and magnetic field components. In addition to$T$and$\\beta$, we constrain the conversion factor between emission optical depth and reddening. This conversion factor is assumed to be constant in commonly used emission-based reddening maps. However, this work shows a factor of two variation that may prove significant for some applications.\n",
       "\n",
       "</div>\n",
       "\n",
       "<div id=\"div_fig1\">\n",
       "\n",
       "<img src=\"tmp_2211.07667/./figures/smoothing/planck_545.jpg\" alt=\"Fig5.1\" width=\"25%\"/><img src=\"tmp_2211.07667/./figures/smoothing/total_zoom_in_reconstructed_emisssion_545.jpg\" alt=\"Fig5.2\" width=\"25%\"/><img src=\"tmp_2211.07667/./figures/smoothing/planck_zoom_500_545_smooth_1024.jpg\" alt=\"Fig5.3\" width=\"25%\"/><img src=\"tmp_2211.07667/./figures/smoothing/planck_zoom_500_545_smooth_total_reconstructed_emission_1024.jpg\" alt=\"Fig5.4\" width=\"25%\"/>\n",
       "\n",
       "**Figure 5. -** Smoothed Maps(a) The data for dust emission at 545 GHz, after the processing described in Section \\S\\ref{sec:dust_3D_data}. The plot is zoomed in on the sky area of the $\\rho$ Ophiuchi cloud complex. (b) The reconstruction of the emission data in (a) using the 3D dust reddening fits. We noticed that even though the images match well in general, the reconstruction has higher resolution than the emission data. This is due to Bayestar having higher resolution than the \\emph{Planck} maps. Thus, smoothing is required to match the \"point spread functions\" of the emission and reddening data. (c) Data emission map after smoothing to 10'. (d) Reconstructed emission map based on both emission data and Bayestar smoothed to 10'. Figure \\ref{fig:difference_smoothed_maps} shows the difference between maps (c) and (d). (*fig:smoothed_maps*)\n",
       "\n",
       "</div>\n",
       "<div id=\"div_fig2\">\n",
       "\n",
       "<img src=\"tmp_2211.07667/./figures/smoothing/planck_zoom_500_545_smooth_total_difference_emission_1024.jpg\" alt=\"Fig1\" width=\"100%\"/>\n",
       "\n",
       "**Figure 1. -** Difference Between Smoothed Data and Reconstructed MapsThe difference between the smoothed emission data and the reconstruction based on the smoothed reddening map ( Figs (c) and (d) in \\ref{fig:smoothed_maps}. If the relative point spread functions would not match, we would see contours appear around brighter spots; the fact that we don't see them is an indication the smoothing was successful. (*fig:difference_smoothed_maps*)\n",
       "\n",
       "</div>\n",
       "<div id=\"div_fig3\">\n",
       "\n",
       "<img src=\"tmp_2211.07667/./figures/planck_2998.png\" alt=\"Fig3.1\" width=\"20%\"/><img src=\"tmp_2211.07667/./figures/planck_217.png\" alt=\"Fig3.2\" width=\"20%\"/><img src=\"tmp_2211.07667/./figures/planck_353.png\" alt=\"Fig3.3\" width=\"20%\"/><img src=\"tmp_2211.07667/./figures/planck_545.png\" alt=\"Fig3.4\" width=\"20%\"/><img src=\"tmp_2211.07667/./figures/planck_857.png\" alt=\"Fig3.5\" width=\"20%\"/>\n",
       "\n",
       "**Figure 3. -** Sky Dust Emission MapsThe sky-wide dust emission maps. The are obtained from the 217, 353, 545, 857GHz emission maps from the \\emph{Planck}  satellite  and the 2998GHz \\emph{IRAS/DIRBE} map, after subtracting the contribution of the CMB. The other foregrounds are subdominant to dust at these frequencies, with the exception of the CIB. This analysis thus applies only to the lines of sight where the contribution from the ISM dust is big enough to dominate the CIB. (*fig:dust_3D_emissison_data*)\n",
       "\n",
       "</div>"
      ],
      "text/plain": [
       "<IPython.core.display.Markdown object>"
      ]
     },
     "metadata": {},
     "output_type": "display_data"
    },
    {
     "data": {
      "text/markdown": [
       "<div class=\"macros\" style=\"visibility:hidden;\">\n",
       "$\\newcommand{\\ensuremath}{}$\n",
       "$\\newcommand{\\xspace}{}$\n",
       "$\\newcommand{\\object}[1]{\\texttt{#1}}$\n",
       "$\\newcommand{\\farcs}{{.}''}$\n",
       "$\\newcommand{\\farcm}{{.}'}$\n",
       "$\\newcommand{\\arcsec}{''}$\n",
       "$\\newcommand{\\arcmin}{'}$\n",
       "$\\newcommand{\\ion}[2]{#1#2}$\n",
       "$\\newcommand{\\textsc}[1]{\\textrm{#1}}$\n",
       "$\\newcommand{\\hl}[1]{\\textrm{#1}}$\n",
       "$\\newcommand{\\todo}[1]{\\textcolor{red}{#1}}$</div>\n",
       "\n",
       "<div class=\"macros\" style=\"visibility:hidden;\">\n",
       "$\\newcommand{$\\ensuremath$}{}$\n",
       "$\\newcommand{$\\xspace$}{}$\n",
       "$\\newcommand{$\\object$}[1]{\\texttt{#1}}$\n",
       "$\\newcommand{$\\farcs$}{{.}''}$\n",
       "$\\newcommand{$\\farcm$}{{.}'}$\n",
       "$\\newcommand{$\\arcsec$}{''}$\n",
       "$\\newcommand{$\\arcmin$}{'}$\n",
       "$\\newcommand{$\\ion$}[2]{#1#2}$\n",
       "$\\newcommand{$\\textsc$}[1]{\\textrm{#1}}$\n",
       "$\\newcommand{$\\hl$}[1]{\\textrm{#1}}$\n",
       "$\\newcommand{$\\todo$}[1]{\\textcolor{red}{#1}}$</div>\n",
       "\n",
       "\n",
       "\n",
       "<div id=\"title\">\n",
       "\n",
       "# Radial Velocity Survey for Planets around Young stars (RVSPY): Based on observations collected at the European Organization for Astronomical Research in the Southern Hemisphere under MPG programs 0101.A-9012, 0103.A-9010, 0104.A-9003, 0107.A-9004, 0108.A-9014, 0109.A-9014 and ESO programs 098.C-0739, 1101.C-0557.\n",
       "\n",
       "</div>\n",
       "<div id=\"comments\">\n",
       "\n",
       "[![arXiv](https://img.shields.io/badge/arXiv-2211.08294-b31b1b.svg)](https://arxiv.org/abs/2211.08294)<mark>Appeared on: 2022-11-16</mark> - _10 pages, 9 figures, 5 tables; Accepted for publication in A&A Letters_\n",
       "\n",
       "</div>\n",
       "<div id=\"authors\">\n",
       "\n",
       "<mark><mark>O. Zakhozhay</mark></mark>, et al. -- incl., <mark><mark>R. Launhardt</mark></mark>, <mark><mark>T. Trifonov</mark></mark>, <mark><mark>M. Kürster</mark></mark>, <mark><mark>Th. Henning</mark></mark>\n",
       "\n",
       "</div>\n",
       "<div id=\"abstract\">\n",
       "\n",
       "**Abstract:** Aiming to detect planetary companions to young stars with debris disks via the radial velocity method, we observed HD114082 during April 2018 - August 2022 as one of the targets of our RVSPY program (Radial Velocity Survey for Planets around Young stars). We used the FEROS spectrograph, mounted to the MPG/ESO 2.2 m telescope in Chile, to obtain high signal-to-noise spectra and time series of precise radial velocities (RVs). Additionally, we analyzed archival HARPS spectra and TESS photometric data. We used the CERES, CERES++ and SERVAL pipelines to derive RVs and activity indicators and ExoStriker for the independent and combined analysis of the RVs and TESS photometry. We report the discovery of a warm super-Jovian companion around HD114082 based on a 109.8$\\pm$0.4 day signal in the combined RV data from FEROS and HARPS, and on one transit event in the TESS photometry. The best-fit model indicates a 8.0$\\pm$1.0 Mjup companion with a radius of 1.00$\\pm$0.03 Rjup in an orbit with a semi-major axis of 0.51$\\pm$0.01 au and an eccentricity of 0.4$\\pm$0.04. The companions orbit is in agreement with the known near edge-on debris disk located at about 28 au. HD114082b is possibly the youngest (15$\\pm$6 Myr), and one of only three younger than 100 Myr giant planetary companions for which both their mass and radius have been determined observationally. It is probably the first properly model-constraining giant planet that allows distinguishing between hot and cold-start models. It is significantly more compatible with the cold-start model. \n",
       "\n",
       "</div>\n",
       "\n",
       "<div id=\"div_fig1\">\n",
       "\n",
       "<img src=\"tmp_2211.08294/./RV_timeSeries_tr.png\" alt=\"Fig7\" width=\"100%\"/>\n",
       "\n",
       "**Figure 7. -** \\label{fig:RV}\n",
       "RV time series data for HD 114082. FEROS data from RVSPY are shown as black circles. The RVs computed from the publicly available HARPS spectra are shown as gray circles. Error bars account for the suspected activity jitter (see text for details). The solid gray line shows the best-fit model (see parameters in Table \\ref{tab:plan_pars}), and the vertical blue line indicates the time of the observed transit. The lower panel shows the residuals of the fit.\n",
       " (*fig:RV*)\n",
       "\n",
       "</div>\n",
       "<div id=\"div_fig2\">\n",
       "\n",
       "<img src=\"tmp_2211.08294/./FEROS_correlations.png\" alt=\"Fig8\" width=\"100%\"/>\n",
       "\n",
       "**Figure 8. -** \\label{fig:activity_feros}\n",
       "Time series and GLS of the RVs and activity indicators derived from the FEROS spectra (left and middle panels, respectively). The right panels show the correlation with respect to the FEROS RVs for the derived key activity indicators. The type of activity indicator is given in each of the panels of the middle column. The vertical red line shows the suspected planetary period ($P$ = 109.8 d), from the model with linear trend of the combined RVs (FEROS+HARPS) and photometric (TESS) data.\n",
       " (*fig:activity_feros*)\n",
       "\n",
       "</div>\n",
       "<div id=\"div_fig3\">\n",
       "\n",
       "<img src=\"tmp_2211.08294/./transit.png\" alt=\"Fig3\" width=\"100%\"/>\n",
       "\n",
       "**Figure 3. -** \\label{fig:TESS}\n",
       "Baseline-corrected sector 38 {\\it TESS} data (relative flux) for HD 114082 around the transit event with the best-fit model of the transit overlaid (black line). The bottom panel shows the residuals of the fit.\n",
       " (*fig:TESS*)\n",
       "\n",
       "</div>"
      ],
      "text/plain": [
       "<IPython.core.display.Markdown object>"
      ]
     },
     "metadata": {},
     "output_type": "display_data"
    }
   ],
   "source": [
    "[display(Markdown(k[1])) for k in documents];"
   ]
  },
  {
   "cell_type": "markdown",
   "id": "873873a4",
   "metadata": {
    "papermill": {
     "duration": 0.014732,
     "end_time": "2022-11-16T04:22:53.826975",
     "exception": false,
     "start_time": "2022-11-16T04:22:53.812243",
     "status": "completed"
    },
    "tags": []
   },
   "source": [
    "# Create HTML index"
   ]
  },
  {
   "cell_type": "code",
   "execution_count": 10,
   "id": "cf665672",
   "metadata": {
    "execution": {
     "iopub.execute_input": "2022-11-16T04:22:53.891315Z",
     "iopub.status.busy": "2022-11-16T04:22:53.890577Z",
     "iopub.status.idle": "2022-11-16T04:22:53.901961Z",
     "shell.execute_reply": "2022-11-16T04:22:53.901122Z"
    },
    "papermill": {
     "duration": 0.028948,
     "end_time": "2022-11-16T04:22:53.904071",
     "exception": false,
     "start_time": "2022-11-16T04:22:53.875123",
     "status": "completed"
    },
    "tags": []
   },
   "outputs": [
    {
     "name": "stdout",
     "output_type": "stream",
     "text": [
      "91  publications in the last 7 days.\n",
      "\t _build/html/2211.08294.md\n",
      "\t _build/html/2211.07667.md\n",
      "\t _build/html/2211.07659.md\n",
      "\t _build/html/2211.06454.md\n",
      "\t _build/html/2211.06205.md\n",
      "\t _build/html/2211.06194.md\n",
      "\t _build/html/2211.05022.md\n",
      "\t _build/html/2211.04048.md\n",
      "\t _build/html/2211.03641.md\n",
      "\t _build/html/2211.02502.md\n",
      "\t _build/html/2211.01474.md\n",
      "\t _build/html/2211.00667.md\n",
      "\t _build/html/2211.00657.md\n",
      "\t _build/html/2211.00087.md\n",
      "\t _build/html/2211.00036.md\n",
      "\t _build/html/2211.00020.md\n",
      "\t _build/html/2211.00010.md\n",
      "\t _build/html/2210.17434.md\n",
      "\t _build/html/2210.12412.md\n",
      "\t _build/html/2210.11926.md\n",
      "\t _build/html/2210.11551.md\n",
      "\t _build/html/2210.11103.md\n",
      "\t _build/html/2210.10707.md\n",
      "\t _build/html/2210.09930.md\n",
      "\t _build/html/2210.08996.md\n",
      "\t _build/html/2210.08517.md\n",
      "\t _build/html/2210.08510.md\n",
      "\t _build/html/2210.08078.md\n",
      "\t _build/html/2210.06504.md\n",
      "\t _build/html/2210.05695.md\n",
      "\t _build/html/2210.05595.md\n",
      "\t _build/html/2210.05505.md\n",
      "\t _build/html/2210.04721.md\n",
      "\t _build/html/2210.03615.md\n",
      "\t _build/html/2210.01811.md\n",
      "\t _build/html/2210.01809.md\n",
      "\t _build/html/2210.01556.md\n",
      "\t _build/html/2210.00863.md\n",
      "\t _build/html/2210.00560.md\n",
      "\t _build/html/2209.15403.md\n",
      "\t _build/html/2209.15110.md\n",
      "\t _build/html/2209.14410.md\n",
      "\t _build/html/2209.14396.md\n",
      "\t _build/html/2209.13717.md\n",
      "\t _build/html/2209.13336.md\n",
      "\t _build/html/2209.12906.md\n",
      "\t _build/html/2209.11781.md\n",
      "\t _build/html/2209.11602.md\n",
      "\t _build/html/2209.11248.md\n",
      "\t _build/html/2209.11096.md\n",
      "\t _build/html/2209.10618.md\n",
      "\t _build/html/2209.09914.md\n",
      "\t _build/html/2209.09823.md\n",
      "\t _build/html/2209.08242.md\n",
      "\t _build/html/2209.08120.md\n",
      "\t _build/html/2209.08106.md\n",
      "\t _build/html/2209.07962.md\n",
      "\t _build/html/2209.07931.md\n",
      "\t _build/html/2209.06833.md\n",
      "\t _build/html/2209.05814.md\n",
      "\t _build/html/2209.05593.md\n",
      "\t _build/html/2209.04304.md\n",
      "\t _build/html/2209.03367.md\n",
      "\t _build/html/2209.02872.md\n",
      "\t _build/html/2209.02725.md\n",
      "\t _build/html/2209.02722.md\n",
      "\t _build/html/2209.02092.md\n",
      "\t _build/html/2209.01125.md\n",
      "\t _build/html/2209.00828.md\n",
      "\t _build/html/2209.00363.md\n",
      "\t _build/html/2208.14927.md\n",
      "\t _build/html/2208.09335.md\n",
      "\t _build/html/2208.08872.md\n",
      "\t _build/html/2204.06393.md\n",
      "\t _build/html/2204.03335.md\n",
      "\t _build/html/2204.03253.md\n",
      "\t _build/html/2204.02998.md\n",
      "\t _build/html/2204.02109.md\n",
      "\t _build/html/2204.02017.md\n",
      "\t _build/html/2204.01824.md\n",
      "\t _build/html/2204.01758.md\n",
      "\t _build/html/2204.01245.md\n",
      "\t _build/html/2204.00793.md\n",
      "\t _build/html/2204.00342.md\n",
      "\t _build/html/2203.16959.md\n",
      "\t _build/html/2203.16856.md\n",
      "\t _build/html/2203.16735.md\n",
      "\t _build/html/2203.16734.md\n",
      "\t _build/html/2203.16504.md\n",
      "\t _build/html/2203.15822.md\n",
      "\t _build/html/2203.15811.md\n"
     ]
    }
   ],
   "source": [
    "from datetime import datetime, timedelta, timezone\n",
    "from glob import glob\n",
    "\n",
    "files = glob('_build/html/*.md')\n",
    "days = 7\n",
    "now = datetime.today()\n",
    "res = []\n",
    "for fk in files:\n",
    "    stat_result = os.stat(fk).st_ctime\n",
    "    modified = datetime.fromtimestamp(stat_result, tz=timezone.utc).replace(tzinfo=None)\n",
    "    delta = now.today() - modified\n",
    "    if delta <= timedelta(days=days):\n",
    "        res.append((delta.seconds, fk))\n",
    "res = [k[1] for k in reversed(sorted(res, key=lambda x:x[1]))]\n",
    "npub = len(res)\n",
    "print(len(res), f\" publications in the last {days:d} days.\")\n",
    "[ print('\\t', k) for k in res ];"
   ]
  },
  {
   "cell_type": "code",
   "execution_count": 11,
   "id": "52ca0208",
   "metadata": {
    "execution": {
     "iopub.execute_input": "2022-11-16T04:22:53.934651Z",
     "iopub.status.busy": "2022-11-16T04:22:53.934122Z",
     "iopub.status.idle": "2022-11-16T04:22:53.941936Z",
     "shell.execute_reply": "2022-11-16T04:22:53.941117Z"
    },
    "papermill": {
     "duration": 0.024643,
     "end_time": "2022-11-16T04:22:53.944032",
     "exception": false,
     "start_time": "2022-11-16T04:22:53.919389",
     "status": "completed"
    },
    "scrolled": false,
    "tags": []
   },
   "outputs": [],
   "source": [
    "def create_carousel(npub=4):\n",
    "    \"\"\" Generate the HTML code for a carousel with `npub` slides \"\"\"\n",
    "    carousel = [\"\"\"<section class=\"carousel\" aria-label=\"Gallery\">\"\"\",\n",
    "                \"\"\"  <ol class=\"carousel__viewport\">\"\"\",\n",
    "    ]\n",
    "    for k in range(1, npub + 1):\n",
    "        prev_ = k - 1\n",
    "        next_ = k + 1\n",
    "        if prev_ <= 0:\n",
    "            prev_ = npub\n",
    "        if next_ > npub:\n",
    "            next_ = 1\n",
    "        text  = f\"\"\"    <li id=\"carousel__slide{k}\" tabindex=\"0\" class=\"carousel__slide\">\\n\"\"\"\n",
    "        text += f\"\"\"       <div class=\"carousel__snapper\">\\n\"\"\"\n",
    "        text += f\"\"\"         <a href=\"#carousel__slide{prev_}\" class=\"carousel__prev\">Go to previous slide</a>\\n\"\"\"\n",
    "        text += f\"\"\"         <a href=\"#carousel__slide{next_}\" class=\"carousel__next\">Go to next slide</a>\\n\"\"\"\n",
    "        text += f\"\"\"         <div id=\"slide{k}_content\" class=\"md_view\" >Content {k}</div>\\n\"\"\"\n",
    "        text += f\"\"\"       </div>\\n\"\"\"\n",
    "        text += f\"\"\"    </li>\"\"\"\n",
    "        carousel.append(text)\n",
    "\n",
    "    carousel.extend([\n",
    "        \"\"\"  </ol>\"\"\",\n",
    "        \"\"\"  <aside class=\"carousel__navigation\">\"\"\",\n",
    "        \"\"\"    <ol class=\"carousel__navigation-list\">\"\"\"])\n",
    "\n",
    "    for k in range(1, npub + 1):\n",
    "        text  = f\"\"\"      <li class=\"carousel__navigation-item\">\\n\"\"\"\n",
    "        text += f\"\"\"        <a href=\"#carousel__slide{k}\" class=\"carousel__navigation-button\">Go to {k}</a>\\n\"\"\"\n",
    "        text += f\"\"\"      </li>\"\"\"\n",
    "        carousel.append(text)\n",
    "    carousel.extend([\"\"\"    </ol>\"\"\", \"\"\"  </aside>\"\"\", \"\"\"</section>\"\"\"])\n",
    "\n",
    "    return '\\n'.join(carousel)"
   ]
  },
  {
   "cell_type": "code",
   "execution_count": 12,
   "id": "a6eac5b6",
   "metadata": {
    "execution": {
     "iopub.execute_input": "2022-11-16T04:22:53.972971Z",
     "iopub.status.busy": "2022-11-16T04:22:53.972463Z",
     "iopub.status.idle": "2022-11-16T04:22:53.980178Z",
     "shell.execute_reply": "2022-11-16T04:22:53.979374Z"
    },
    "papermill": {
     "duration": 0.024924,
     "end_time": "2022-11-16T04:22:53.982254",
     "exception": false,
     "start_time": "2022-11-16T04:22:53.957330",
     "status": "completed"
    },
    "scrolled": false,
    "tags": []
   },
   "outputs": [],
   "source": [
    "carousel = create_carousel(npub)\n",
    "docs = ', '.join(['\"{0:s}\"'.format(k.split('/')[-1]) for k in res])\n",
    "slides = ', '.join([f'\"slide{k}_content\"' for k in range(1, npub + 1)])\n",
    "\n",
    "script = f\"\"\"\n",
    "const docs = [{docs}]\n",
    "\n",
    "const slides = [{slides}]\n",
    "\"\"\" + \"\"\"\n",
    "async function run() {\n",
    "    for (let i = 0; i < docs.length; i++) {\n",
    "        let file = await fetch(docs[i]);\n",
    "        let text = await file.text()\n",
    "        document.getElementById(slides[i]).innerHTML =\n",
    "            marked.parse(text);\n",
    "    }\n",
    "    hljs.highlightAll();\n",
    "}\n",
    "run()\n",
    "\"\"\"\n",
    "\n",
    "page = f\"\"\"<!doctype html>\n",
    "<html lang=\"en\">\n",
    "\n",
    "<head>\n",
    "  <meta charset=\"utf-8\">\n",
    "  <meta name=\"viewport\" content=\"width=device-width, initial-scale=1\">\n",
    "  <!-- Bootstrap CSS -->\n",
    "  <link href=\"https://cdn.jsdelivr.net/npm/bootstrap@5.0.2/dist/css/bootstrap.min.css\" rel=\"stylesheet\"\n",
    "   integrity=\"sha384-EVSTQN3/azprG1Anm3QDgpJLIm9Nao0Yz1ztcQTwFspd3yD65VohhpuuCOmLASjC\" crossorigin=\"anonymous\">\n",
    "  <!-- highlight.js CSS -->\n",
    "  <link rel=\"stylesheet\" href=\"https://cdnjs.cloudflare.com/ajax/libs/highlight.js/11.1.0/styles/default.min.css\">\n",
    "  <!-- Mathjax 3 -->\n",
    "  <script type=\"text/javascript\" id=\"MathJax-config\" src=\"mathjax_config.js\"> </script>\n",
    "  <script type=\"text/javascript\" id=\"MathJax-script\" async \n",
    "    src=\"https://cdn.jsdelivr.net/npm/mathjax@3/es5/tex-mml-chtml.js\">\n",
    "  </script>\n",
    "  <link rel=\"stylesheet\" href=\"index_carousel.css\">\n",
    "  <link rel=\"icon\" type=\"image/x-icon\" href=\"https://www.mpia.de/assets/touch-icon-32x32-a66937bcebc4e8894ebff1f41a366c7c7220fd97a38869ee0f2db65a9f59b6c1.png\">\n",
    "  <title>MPIA Arxiv on deck!</title>\n",
    "</head>\n",
    "\n",
    "<body>\n",
    "  <div id=\"header\"> <img src=\"header_banner.png\" width=\"100%\"></div>\n",
    "  <div id=\"suptitle\"> 7-day archives </div>\n",
    "  <div id=\"info\">\n",
    "    <img src=\"https://pngimg.com/uploads/github/github_PNG58.png\" height=30rem></img>\n",
    "    <a href=https://github.com/mpi-astronomy/arxiv_display style=\"color:black;\">github/mpi-astronomy/arxiv_display</a> \n",
    "  </div>\n",
    "  {carousel:s}\n",
    "</body>\n",
    "\n",
    "<!-- Render Markdown -->\n",
    "\n",
    "<body>\n",
    "  <!-- highlight.js: https://highlightjs.org/download/ -->\n",
    "  <script src=\"https://cdnjs.cloudflare.com/ajax/libs/highlight.js/11.5.0/highlight.min.js\"></script>\n",
    "  <!-- marked.js -->\n",
    "  <script src=\"https://cdn.jsdelivr.net/npm/marked/marked.min.js\"></script>\n",
    "  <script>{script:s}</script>\n",
    "</body>\n",
    "</html>\n",
    "\"\"\"\n",
    "with open(\"_build/html/index_7days.html\", 'w') as fout:\n",
    "    fout.write(page)"
   ]
  },
  {
   "cell_type": "markdown",
   "id": "1cebacbc",
   "metadata": {
    "papermill": {
     "duration": 0.013422,
     "end_time": "2022-11-16T04:22:54.010911",
     "exception": false,
     "start_time": "2022-11-16T04:22:53.997489",
     "status": "completed"
    },
    "tags": []
   },
   "source": [
    "# Debugging papers"
   ]
  },
  {
   "cell_type": "raw",
   "id": "debe7cc6",
   "metadata": {
    "papermill": {
     "duration": 0.013945,
     "end_time": "2022-11-16T04:22:54.038535",
     "exception": false,
     "start_time": "2022-11-16T04:22:54.024590",
     "status": "completed"
    },
    "tags": []
   },
   "source": [
    "raise NotImplementedError(\"Manual Stop\")"
   ]
  },
  {
   "cell_type": "raw",
   "id": "eb169192",
   "metadata": {
    "papermill": {
     "duration": 0.015267,
     "end_time": "2022-11-16T04:22:54.067815",
     "exception": false,
     "start_time": "2022-11-16T04:22:54.052548",
     "status": "completed"
    },
    "scrolled": true,
    "tags": []
   },
   "source": [
    "from IPython.display import display, Markdown\n",
    "from TexSoup import TexSoup\n",
    "import re\n",
    "\n",
    "def bracket_error(source: str):\n",
    "    \"\"\" Find problematic portions of the document \"\"\"\n",
    "    \n",
    "    print(\"len(source)\", len(source))\n",
    "    \n",
    "    # Checking header\n",
    "    begin_doc = next(re.finditer(r'\\\\begin\\{document\\}', doc.source)).span()[1]\n",
    "    header = source[:begin_doc]\n",
    "    text = header + r\"\\n\\end{document}\"\n",
    "\n",
    "    try:\n",
    "        # print(\"Header check... \", end='')\n",
    "        TexSoup(text)\n",
    "        display(Markdown(f\"**[OK]** - Header\"))\n",
    "    except:\n",
    "        raise RuntimeError(\"Error in the header\")\n",
    "        \n",
    "    # Check the text per section until the end.\n",
    "    # Do not stop and try them all.\n",
    "    \n",
    "    problematic_text = []\n",
    "    \n",
    "    sections = ([(0, begin_doc, 'until first section')] + \n",
    "                [(g.span()[0], g.span()[1], g.group()) for g in re.finditer(r'\\\\section\\{.*\\}', source)] +\n",
    "                [(g.span()[0], g.span()[1], g.group()) for g in re.finditer(r'\\\\begin\\{appendix\\}', source)]\n",
    "               )\n",
    "    sections.append([len(source), len(source), 'end'])\n",
    "    \n",
    "    sections = sorted(sections, key=lambda x: x[0])\n",
    "    \n",
    "    prev_pos, prev_name = (0, 'header')\n",
    "    parsed = []\n",
    "    \n",
    "    for span, span_end, name in sections:\n",
    "\n",
    "        if span - prev_pos <= 0:\n",
    "            continue\n",
    "            \n",
    "\n",
    "        text = source[prev_pos:span]\n",
    "        if prev_pos > begin_doc:\n",
    "            text = r\"\\n\\begin{document}\" + text + r\"\\n\\end{document}\"\n",
    "        else:\n",
    "            text = text + r\"\\n\\end{document}\"\n",
    "        try:\n",
    "            #print(f\"{prev_pos}:{prev_name}-->{span}:{name} check... \", end='')\n",
    "            parsed.append(TexSoup(text, tolerance=1))  # allow not ending env\n",
    "            display(Markdown(f\"**[OK]** - *{prev_pos}*:{prev_name} &rarr; *{span}*:{name}\"))\n",
    "            # print(\"ok\")\n",
    "\n",
    "            prev_pos = span\n",
    "            prev_name = name\n",
    "        except:\n",
    "            # print(f\"error between {prev_pos} and {span}\")\n",
    "            display(Markdown(f\"**[ERR]** *{prev_pos}*:{prev_name} &rarr; *{span}*:{name}\"))\n",
    "            problematic_text.append((prev_pos, source[prev_pos:span]))\n",
    "            prev_pos = span\n",
    "            prev_name = name\n",
    "            # raise\n",
    "    return problematic_text, parsed\n",
    "\n",
    "\n",
    "def check_environment(text, offset=0):\n",
    "    \"\"\" Check environment \"\"\"\n",
    "    env = re.compile(r\"\\\\begin\\{(?P<env>.*)\\}(.*)\\\\end\\{(?P=env)\\}\", re.DOTALL)\n",
    "\n",
    "    for match in env.finditer(text):\n",
    "        beg, end = match.span()\n",
    "        beg += offset\n",
    "        end += offset\n",
    "        envname = match.groups()[0]\n",
    "        try:\n",
    "            latex.TexSoup(match.group())\n",
    "        except Exception as e:\n",
    "            display(e)\n",
    "            print(f\"Error in {envname:s} between {beg} and {end}\")\n",
    "            return match.groups()[1], beg, end"
   ]
  },
  {
   "cell_type": "raw",
   "id": "2315e835",
   "metadata": {
    "papermill": {
     "duration": 0.014075,
     "end_time": "2022-11-16T04:22:54.095318",
     "exception": false,
     "start_time": "2022-11-16T04:22:54.081243",
     "status": "completed"
    },
    "scrolled": false,
    "tags": []
   },
   "source": [
    "import importlib\n",
    "importlib.reload(latex)\n",
    "which = \"2204.03253\"\n",
    "paper_id = f'{which:s}'\n",
    "folder = f'tmp_{paper_id:s}'\n",
    "\n",
    "if not os.path.isdir(folder):\n",
    "    folder = retrieve_document_source(f\"{paper_id}\", f'tmp_{paper_id}')\n",
    "\n",
    "try:\n",
    "    doc = latex.LatexDocument(folder, validation=validation)    \n",
    "except AffiliationError as affilerror:\n",
    "    msg = f\"ArXiv:{paper_id:s} is not an MPIA paper... \" + str(affilerror)\n",
    "    print(msg)\n",
    "\n",
    "\n",
    "# Hack because sometimes author parsing does not work well\n",
    "if (len(doc.authors) != len(paper['authors'])):\n",
    "    doc._authors = paper['authors']\n",
    "if (doc.abstract) in (None, ''):\n",
    "    doc._abstract = paper['abstract']\n",
    "\n",
    "doc.comment = get_markdown_badge(paper_id) + \" _\" + paper['comments'] + \"_\"\n",
    "doc.highlight_authors_in_list(hl_list)\n",
    "\n",
    "full_md = doc.generate_markdown_text()"
   ]
  },
  {
   "cell_type": "raw",
   "id": "dd3781db",
   "metadata": {
    "papermill": {
     "duration": 0.012949,
     "end_time": "2022-11-16T04:22:54.122944",
     "exception": false,
     "start_time": "2022-11-16T04:22:54.109995",
     "status": "completed"
    },
    "scrolled": false,
    "tags": []
   },
   "source": [
    "doc"
   ]
  },
  {
   "cell_type": "raw",
   "id": "c6eed834",
   "metadata": {
    "papermill": {
     "duration": 0.018245,
     "end_time": "2022-11-16T04:22:54.154795",
     "exception": false,
     "start_time": "2022-11-16T04:22:54.136550",
     "status": "completed"
    },
    "tags": []
   },
   "source": [
    "# [check_environment(k) for k in bracket_error(doc.source)]\n",
    "_, _, a = latex.get_content_per_section(doc.source, verbose=True)\n",
    "if not a:\n",
    "    print(\"no issues per section\")\n",
    "for ak in a:\n",
    "    r = check_environment(ak[1], offset=ak[0])\n",
    "    print(r[1], r[2])\n",
    "    print(r[0])"
   ]
  },
  {
   "cell_type": "code",
   "execution_count": null,
   "id": "71ce768a",
   "metadata": {
    "papermill": {
     "duration": 0.014026,
     "end_time": "2022-11-16T04:22:54.183096",
     "exception": false,
     "start_time": "2022-11-16T04:22:54.169070",
     "status": "completed"
    },
    "tags": []
   },
   "outputs": [],
   "source": []
  }
 ],
 "metadata": {
  "kernelspec": {
   "display_name": "Python 3.10.6 64-bit",
   "language": "python",
   "name": "python3"
  },
  "language_info": {
   "codemirror_mode": {
    "name": "ipython",
    "version": 3
   },
   "file_extension": ".py",
   "mimetype": "text/x-python",
   "name": "python",
   "nbconvert_exporter": "python",
   "pygments_lexer": "ipython3",
   "version": "3.9.15"
  },
  "papermill": {
   "default_parameters": {},
   "duration": 575.6029,
   "end_time": "2022-11-16T04:22:54.417346",
   "environment_variables": {},
   "exception": null,
   "input_path": "MPIA daily digest.ipynb",
   "output_path": "log.ipynb",
   "parameters": {},
   "start_time": "2022-11-16T04:13:18.814446",
   "version": "2.4.0"
  },
  "vscode": {
   "interpreter": {
    "hash": "e7370f93d1d0cde622a1f8e1c04877d8463912d04d973331ad4851f04de6915a"
   }
  },
  "widgets": {
   "application/vnd.jupyter.widget-state+json": {
    "state": {
     "0a97dc7296714cfa806ef5cd4f766eea": {
      "model_module": "@jupyter-widgets/base",
      "model_module_version": "2.0.0",
      "model_name": "LayoutModel",
      "state": {
       "_model_module": "@jupyter-widgets/base",
       "_model_module_version": "2.0.0",
       "_model_name": "LayoutModel",
       "_view_count": null,
       "_view_module": "@jupyter-widgets/base",
       "_view_module_version": "2.0.0",
       "_view_name": "LayoutView",
       "align_content": null,
       "align_items": null,
       "align_self": null,
       "border_bottom": null,
       "border_left": null,
       "border_right": null,
       "border_top": null,
       "bottom": null,
       "display": null,
       "flex": null,
       "flex_flow": null,
       "grid_area": null,
       "grid_auto_columns": null,
       "grid_auto_flow": null,
       "grid_auto_rows": null,
       "grid_column": null,
       "grid_gap": null,
       "grid_row": null,
       "grid_template_areas": null,
       "grid_template_columns": null,
       "grid_template_rows": null,
       "height": null,
       "justify_content": null,
       "justify_items": null,
       "left": null,
       "margin": null,
       "max_height": null,
       "max_width": null,
       "min_height": null,
       "min_width": null,
       "object_fit": null,
       "object_position": null,
       "order": null,
       "overflow": null,
       "padding": null,
       "right": null,
       "top": null,
       "visibility": null,
       "width": null
      }
     },
     "0bf81df1813e4f348f4bde2bedfa1282": {
      "model_module": "@jupyter-widgets/controls",
      "model_module_version": "2.0.0",
      "model_name": "HTMLModel",
      "state": {
       "_dom_classes": [],
       "_model_module": "@jupyter-widgets/controls",
       "_model_module_version": "2.0.0",
       "_model_name": "HTMLModel",
       "_view_count": null,
       "_view_module": "@jupyter-widgets/controls",
       "_view_module_version": "2.0.0",
       "_view_name": "HTMLView",
       "description": "",
       "description_allow_html": false,
       "layout": "IPY_MODEL_f7db0b6d2b284a299bda43935a875e69",
       "placeholder": "​",
       "style": "IPY_MODEL_b996fc3b9e254b79840983546cd335a6",
       "tabbable": null,
       "tooltip": null,
       "value": "100%"
      }
     },
     "2077c88b69314fddaf8339f1545cee37": {
      "model_module": "@jupyter-widgets/controls",
      "model_module_version": "2.0.0",
      "model_name": "HTMLStyleModel",
      "state": {
       "_model_module": "@jupyter-widgets/controls",
       "_model_module_version": "2.0.0",
       "_model_name": "HTMLStyleModel",
       "_view_count": null,
       "_view_module": "@jupyter-widgets/base",
       "_view_module_version": "2.0.0",
       "_view_name": "StyleView",
       "background": null,
       "description_width": "",
       "font_size": null,
       "text_color": null
      }
     },
     "2d72e2011b114eae8e940895f6529220": {
      "model_module": "@jupyter-widgets/controls",
      "model_module_version": "2.0.0",
      "model_name": "ProgressStyleModel",
      "state": {
       "_model_module": "@jupyter-widgets/controls",
       "_model_module_version": "2.0.0",
       "_model_name": "ProgressStyleModel",
       "_view_count": null,
       "_view_module": "@jupyter-widgets/base",
       "_view_module_version": "2.0.0",
       "_view_name": "StyleView",
       "bar_color": null,
       "description_width": ""
      }
     },
     "443c41ca52c24e9e8fa5881084538bdd": {
      "model_module": "@jupyter-widgets/controls",
      "model_module_version": "2.0.0",
      "model_name": "FloatProgressModel",
      "state": {
       "_dom_classes": [],
       "_model_module": "@jupyter-widgets/controls",
       "_model_module_version": "2.0.0",
       "_model_name": "FloatProgressModel",
       "_view_count": null,
       "_view_module": "@jupyter-widgets/controls",
       "_view_module_version": "2.0.0",
       "_view_name": "ProgressView",
       "bar_style": "success",
       "description": "",
       "description_allow_html": false,
       "layout": "IPY_MODEL_0a97dc7296714cfa806ef5cd4f766eea",
       "max": 25.0,
       "min": 0.0,
       "orientation": "horizontal",
       "style": "IPY_MODEL_2d72e2011b114eae8e940895f6529220",
       "tabbable": null,
       "tooltip": null,
       "value": 25.0
      }
     },
     "5492b5197e0044bea30a97db95692560": {
      "model_module": "@jupyter-widgets/base",
      "model_module_version": "2.0.0",
      "model_name": "LayoutModel",
      "state": {
       "_model_module": "@jupyter-widgets/base",
       "_model_module_version": "2.0.0",
       "_model_name": "LayoutModel",
       "_view_count": null,
       "_view_module": "@jupyter-widgets/base",
       "_view_module_version": "2.0.0",
       "_view_name": "LayoutView",
       "align_content": null,
       "align_items": null,
       "align_self": null,
       "border_bottom": null,
       "border_left": null,
       "border_right": null,
       "border_top": null,
       "bottom": null,
       "display": null,
       "flex": null,
       "flex_flow": null,
       "grid_area": null,
       "grid_auto_columns": null,
       "grid_auto_flow": null,
       "grid_auto_rows": null,
       "grid_column": null,
       "grid_gap": null,
       "grid_row": null,
       "grid_template_areas": null,
       "grid_template_columns": null,
       "grid_template_rows": null,
       "height": null,
       "justify_content": null,
       "justify_items": null,
       "left": null,
       "margin": null,
       "max_height": null,
       "max_width": null,
       "min_height": null,
       "min_width": null,
       "object_fit": null,
       "object_position": null,
       "order": null,
       "overflow": null,
       "padding": null,
       "right": null,
       "top": null,
       "visibility": null,
       "width": null
      }
     },
     "8020e89efc6f4328b841de2d582dab3f": {
      "model_module": "@jupyter-widgets/controls",
      "model_module_version": "2.0.0",
      "model_name": "HBoxModel",
      "state": {
       "_dom_classes": [],
       "_model_module": "@jupyter-widgets/controls",
       "_model_module_version": "2.0.0",
       "_model_name": "HBoxModel",
       "_view_count": null,
       "_view_module": "@jupyter-widgets/controls",
       "_view_module_version": "2.0.0",
       "_view_name": "HBoxView",
       "box_style": "",
       "children": [
        "IPY_MODEL_0bf81df1813e4f348f4bde2bedfa1282",
        "IPY_MODEL_443c41ca52c24e9e8fa5881084538bdd",
        "IPY_MODEL_8eead9acebbb46afae11afbbea084ab7"
       ],
       "layout": "IPY_MODEL_85b1037a1b7b4dafaf09d22e48c0cf12",
       "tabbable": null,
       "tooltip": null
      }
     },
     "85b1037a1b7b4dafaf09d22e48c0cf12": {
      "model_module": "@jupyter-widgets/base",
      "model_module_version": "2.0.0",
      "model_name": "LayoutModel",
      "state": {
       "_model_module": "@jupyter-widgets/base",
       "_model_module_version": "2.0.0",
       "_model_name": "LayoutModel",
       "_view_count": null,
       "_view_module": "@jupyter-widgets/base",
       "_view_module_version": "2.0.0",
       "_view_name": "LayoutView",
       "align_content": null,
       "align_items": null,
       "align_self": null,
       "border_bottom": null,
       "border_left": null,
       "border_right": null,
       "border_top": null,
       "bottom": null,
       "display": null,
       "flex": null,
       "flex_flow": null,
       "grid_area": null,
       "grid_auto_columns": null,
       "grid_auto_flow": null,
       "grid_auto_rows": null,
       "grid_column": null,
       "grid_gap": null,
       "grid_row": null,
       "grid_template_areas": null,
       "grid_template_columns": null,
       "grid_template_rows": null,
       "height": null,
       "justify_content": null,
       "justify_items": null,
       "left": null,
       "margin": null,
       "max_height": null,
       "max_width": null,
       "min_height": null,
       "min_width": null,
       "object_fit": null,
       "object_position": null,
       "order": null,
       "overflow": null,
       "padding": null,
       "right": null,
       "top": null,
       "visibility": null,
       "width": null
      }
     },
     "8eead9acebbb46afae11afbbea084ab7": {
      "model_module": "@jupyter-widgets/controls",
      "model_module_version": "2.0.0",
      "model_name": "HTMLModel",
      "state": {
       "_dom_classes": [],
       "_model_module": "@jupyter-widgets/controls",
       "_model_module_version": "2.0.0",
       "_model_name": "HTMLModel",
       "_view_count": null,
       "_view_module": "@jupyter-widgets/controls",
       "_view_module_version": "2.0.0",
       "_view_name": "HTMLView",
       "description": "",
       "description_allow_html": false,
       "layout": "IPY_MODEL_5492b5197e0044bea30a97db95692560",
       "placeholder": "​",
       "style": "IPY_MODEL_2077c88b69314fddaf8339f1545cee37",
       "tabbable": null,
       "tooltip": null,
       "value": " 25/25 [09:07&lt;00:00,  2.74s/it]"
      }
     },
     "b996fc3b9e254b79840983546cd335a6": {
      "model_module": "@jupyter-widgets/controls",
      "model_module_version": "2.0.0",
      "model_name": "HTMLStyleModel",
      "state": {
       "_model_module": "@jupyter-widgets/controls",
       "_model_module_version": "2.0.0",
       "_model_name": "HTMLStyleModel",
       "_view_count": null,
       "_view_module": "@jupyter-widgets/base",
       "_view_module_version": "2.0.0",
       "_view_name": "StyleView",
       "background": null,
       "description_width": "",
       "font_size": null,
       "text_color": null
      }
     },
     "f7db0b6d2b284a299bda43935a875e69": {
      "model_module": "@jupyter-widgets/base",
      "model_module_version": "2.0.0",
      "model_name": "LayoutModel",
      "state": {
       "_model_module": "@jupyter-widgets/base",
       "_model_module_version": "2.0.0",
       "_model_name": "LayoutModel",
       "_view_count": null,
       "_view_module": "@jupyter-widgets/base",
       "_view_module_version": "2.0.0",
       "_view_name": "LayoutView",
       "align_content": null,
       "align_items": null,
       "align_self": null,
       "border_bottom": null,
       "border_left": null,
       "border_right": null,
       "border_top": null,
       "bottom": null,
       "display": null,
       "flex": null,
       "flex_flow": null,
       "grid_area": null,
       "grid_auto_columns": null,
       "grid_auto_flow": null,
       "grid_auto_rows": null,
       "grid_column": null,
       "grid_gap": null,
       "grid_row": null,
       "grid_template_areas": null,
       "grid_template_columns": null,
       "grid_template_rows": null,
       "height": null,
       "justify_content": null,
       "justify_items": null,
       "left": null,
       "margin": null,
       "max_height": null,
       "max_width": null,
       "min_height": null,
       "min_width": null,
       "object_fit": null,
       "object_position": null,
       "order": null,
       "overflow": null,
       "padding": null,
       "right": null,
       "top": null,
       "visibility": null,
       "width": null
      }
     }
    },
    "version_major": 2,
    "version_minor": 0
   }
  }
 },
 "nbformat": 4,
 "nbformat_minor": 5
}