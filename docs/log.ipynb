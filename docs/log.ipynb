{
 "cells": [
  {
   "cell_type": "markdown",
   "id": "92bcb855",
   "metadata": {
    "papermill": {
     "duration": 0.003841,
     "end_time": "2025-05-19T04:19:51.556004",
     "exception": false,
     "start_time": "2025-05-19T04:19:51.552163",
     "status": "completed"
    },
    "tags": []
   },
   "source": [
    "# MPIA Arxiv on Deck 2\n",
    "\n",
    "Contains the steps to produce the paper extractions."
   ]
  },
  {
   "cell_type": "code",
   "execution_count": 1,
   "id": "3a0d6e11",
   "metadata": {
    "execution": {
     "iopub.execute_input": "2025-05-19T04:19:51.563811Z",
     "iopub.status.busy": "2025-05-19T04:19:51.563353Z",
     "iopub.status.idle": "2025-05-19T04:19:52.214326Z",
     "shell.execute_reply": "2025-05-19T04:19:52.213627Z"
    },
    "papermill": {
     "duration": 0.656271,
     "end_time": "2025-05-19T04:19:52.215715",
     "exception": false,
     "start_time": "2025-05-19T04:19:51.559444",
     "status": "completed"
    },
    "tags": []
   },
   "outputs": [],
   "source": [
    "# Imports\n",
    "import os\n",
    "from IPython.display import Markdown, display\n",
    "from tqdm.notebook import tqdm\n",
    "import warnings\n",
    "from PIL import Image \n",
    "import re\n",
    "\n",
    "# requires arxiv_on_deck_2\n",
    "\n",
    "from arxiv_on_deck_2.arxiv2 import (get_new_papers, \n",
    "                                    get_paper_from_identifier,\n",
    "                                    retrieve_document_source, \n",
    "                                    get_markdown_badge)\n",
    "from arxiv_on_deck_2 import (latex,\n",
    "                             latex_bib,\n",
    "                             mpia,\n",
    "                             highlight_authors_in_list)\n",
    "\n",
    "# Sometimes images are really big\n",
    "Image.MAX_IMAGE_PIXELS = 1000000000 "
   ]
  },
  {
   "cell_type": "code",
   "execution_count": 2,
   "id": "22aa9d44",
   "metadata": {
    "execution": {
     "iopub.execute_input": "2025-05-19T04:19:52.223647Z",
     "iopub.status.busy": "2025-05-19T04:19:52.223049Z",
     "iopub.status.idle": "2025-05-19T04:19:52.232016Z",
     "shell.execute_reply": "2025-05-19T04:19:52.231308Z"
    },
    "papermill": {
     "duration": 0.014061,
     "end_time": "2025-05-19T04:19:52.233051",
     "exception": false,
     "start_time": "2025-05-19T04:19:52.218990",
     "status": "completed"
    },
    "tags": []
   },
   "outputs": [],
   "source": [
    "# Some useful definitions.\n",
    "\n",
    "class AffiliationWarning(UserWarning):\n",
    "    pass\n",
    "\n",
    "class AffiliationError(RuntimeError):\n",
    "    pass\n",
    "\n",
    "def validation(source: str):\n",
    "    \"\"\"Raises error paper during parsing of source file\n",
    "    \n",
    "    Allows checks before parsing TeX code.\n",
    "    \n",
    "    Raises AffiliationWarning\n",
    "    \"\"\"\n",
    "    check = mpia.affiliation_verifications(source, verbose=True)\n",
    "    if check is not True:\n",
    "        raise AffiliationError(\"mpia.affiliation_verifications: \" + check)\n",
    "\n",
    "        \n",
    "warnings.simplefilter('always', AffiliationWarning)\n",
    "\n",
    "\n",
    "def get_markdown_qrcode(paper_id: str):\n",
    "    \"\"\" Generate a qrcode to the arxiv page using qrserver.com\n",
    "    \n",
    "    :param paper: Arxiv paper\n",
    "    :returns: markdown text\n",
    "    \"\"\"\n",
    "    url = r\"https://api.qrserver.com/v1/create-qr-code/?size=100x100&data=\"\n",
    "    txt = f\"\"\"<img src={url}\"https://arxiv.org/abs/{paper_id}\">\"\"\"\n",
    "    txt = '<div id=\"qrcode\">' + txt + '</div>'\n",
    "    return txt\n",
    "\n",
    "\n",
    "def clean_non_western_encoded_characters_commands(text: str) -> str:\n",
    "    \"\"\" Remove non-western encoded characters from a string\n",
    "    List may need to grow.\n",
    "    \n",
    "    :param text: the text to clean\n",
    "    :return: the cleaned text\n",
    "    \"\"\"\n",
    "    text = re.sub(r\"(\\\\begin{CJK}{UTF8}{gbsn})(.*?)(\\\\end{CJK})\", r\"\\2\", text)\n",
    "    return text\n",
    "\n",
    "\n",
    "def get_initials(name: str) -> str:\n",
    "    \"\"\" Get the short name, e.g., A.-B. FamName\n",
    "    :param name: full name\n",
    "    :returns: initials\n",
    "    \"\"\"\n",
    "    initials = []\n",
    "    # account for non western names often in ()\n",
    "    if '(' in name:\n",
    "        name = clean_non_western_encoded_characters_commands(name)\n",
    "        suffix = re.findall(r\"\\((.*?)\\)\", name)[0]\n",
    "        name = name.replace(f\"({suffix})\", '')\n",
    "    else:\n",
    "        suffix = ''\n",
    "    split = name.split()\n",
    "    for token in split[:-1]:\n",
    "        if '-' in token:\n",
    "            current = '-'.join([k[0] + '.' for k in token.split('-')])\n",
    "        else:\n",
    "            current = token[0] + '.'\n",
    "        initials.append(current)\n",
    "    initials.append(split[-1].strip())\n",
    "    if suffix:\n",
    "        initials.append(f\"({suffix})\")\n",
    "    return ' '.join(initials)"
   ]
  },
  {
   "cell_type": "markdown",
   "id": "14bd6310",
   "metadata": {
    "papermill": {
     "duration": 0.003301,
     "end_time": "2025-05-19T04:19:52.239650",
     "exception": false,
     "start_time": "2025-05-19T04:19:52.236349",
     "status": "completed"
    },
    "tags": []
   },
   "source": [
    "## get list of arxiv paper candidates\n",
    "\n",
    "We use the MPIA mitarbeiter list webpage from mpia.de to get author names\n",
    "We then get all new papers from Arxiv and match authors"
   ]
  },
  {
   "cell_type": "code",
   "execution_count": 3,
   "id": "7ea813a8",
   "metadata": {
    "execution": {
     "iopub.execute_input": "2025-05-19T04:19:52.247635Z",
     "iopub.status.busy": "2025-05-19T04:19:52.247163Z",
     "iopub.status.idle": "2025-05-19T04:20:14.572804Z",
     "shell.execute_reply": "2025-05-19T04:20:14.572120Z"
    },
    "papermill": {
     "duration": 22.331242,
     "end_time": "2025-05-19T04:20:14.574287",
     "exception": false,
     "start_time": "2025-05-19T04:19:52.243045",
     "status": "completed"
    },
    "tags": []
   },
   "outputs": [],
   "source": [
    "# deal with the author list and edge cases of people that cannot be consistent on their name  \n",
    "\n",
    "def filter_non_scientists(name: str) -> bool:\n",
    "    \"\"\" Loose filter on expected authorships\n",
    "\n",
    "    removing IT, administration, technical staff\n",
    "    :param name: name\n",
    "    :returns: False if name is not a scientist\n",
    "    \"\"\"\n",
    "    remove_list = ['Licht', 'Binroth', 'Witzel', 'Jordan',\n",
    "                   'Zähringer', 'Scheerer', 'Hoffmann', 'Düe',\n",
    "                   'Hellmich', 'Enkler-Scharpegge', 'Witte-Nguy',\n",
    "                   'Dehen', 'Beckmann', 'Jager', 'Jäger'\n",
    "                  ]\n",
    "\n",
    "    for k in remove_list:\n",
    "        if k in name:\n",
    "            return False\n",
    "    return True\n",
    "\n",
    "def add_author_to_list(author_list: list) -> list:\n",
    "    \"\"\" Add author to list if not already in list\n",
    "    \n",
    "    :param author: author name\n",
    "    :param author_list: list of authors\n",
    "    :returns: updated list of authors\n",
    "    \"\"\"\n",
    "    add_list = ['T. Henning']\n",
    "\n",
    "    for author in add_list:\n",
    "        if author not in author_list:\n",
    "            author_list.append(author)\n",
    "    return author_list\n",
    "\n",
    "# get list from MPIA website\n",
    "# filter for non-scientists (mpia.get_mpia_mitarbeiter_list() does some filtering)\n",
    "mpia_authors = [k[1] for k in mpia.get_mpia_mitarbeiter_list() if filter_non_scientists(k[1])]\n",
    "# add some missing author because of inconsistencies in their MPIA name and author name on papers\n",
    "mpia_authors = add_author_to_list(mpia_authors)"
   ]
  },
  {
   "cell_type": "code",
   "execution_count": 4,
   "id": "2645e73a",
   "metadata": {
    "execution": {
     "iopub.execute_input": "2025-05-19T04:20:14.582107Z",
     "iopub.status.busy": "2025-05-19T04:20:14.581621Z",
     "iopub.status.idle": "2025-05-19T04:20:15.310812Z",
     "shell.execute_reply": "2025-05-19T04:20:15.310128Z"
    },
    "papermill": {
     "duration": 0.734299,
     "end_time": "2025-05-19T04:20:15.311948",
     "exception": false,
     "start_time": "2025-05-19T04:20:14.577649",
     "status": "completed"
    },
    "tags": []
   },
   "outputs": [
    {
     "name": "stdout",
     "output_type": "stream",
     "text": [
      "A. d. Graaff  ->  A. D. Graaff  |  ['A. D. Graaff']\n",
      "J. Li  ->  J. Li  |  ['J. Li']\n",
      "A. Hughes  ->  A. Hughes  |  ['A. Hughes']\n",
      "E. Schinnerer  ->  E. Schinnerer  |  ['E. Schinnerer']\n",
      "Y. Wang  ->  Y. Wang  |  ['Y. Wang']\n",
      "X. Zhang  ->  X. Zhang  |  ['X. Zhang']\n",
      "E.-M. Ahrer  ->  E.-M. Ahrer  |  ['E.-M. Ahrer']\n",
      "A. d. Graaff  ->  A. D. Graaff  |  ['A. D. Graaff']\n",
      "F. Walter  ->  F. Walter  |  ['F. Walter']\n"
     ]
    },
    {
     "name": "stdout",
     "output_type": "stream",
     "text": [
      "Arxiv has 65 new papers today\n",
      "          7 with possible author matches\n"
     ]
    }
   ],
   "source": [
    "new_papers = get_new_papers()\n",
    "# add manual references\n",
    "add_paper_refs = []\n",
    "new_papers.extend([get_paper_from_identifier(k) for k in add_paper_refs])\n",
    "\n",
    "def robust_call(fn, value, *args, **kwargs):\n",
    "    try:\n",
    "        return fn(value, *args, **kwargs)\n",
    "    except Exception:\n",
    "        return value\n",
    "\n",
    "candidates = []\n",
    "for paperk in new_papers:\n",
    "    # Check author list with their initials\n",
    "    normed_author_list = [robust_call(mpia.get_initials, k) for k in paperk['authors']]\n",
    "    hl_authors = highlight_authors_in_list(normed_author_list, mpia_authors, verbose=True)\n",
    "    matches = [(hl, orig) for hl, orig in zip(hl_authors, paperk['authors']) if 'mark' in hl]\n",
    "    paperk['authors'] = hl_authors\n",
    "    if matches:\n",
    "        # only select paper if an author matched our list\n",
    "        candidates.append(paperk)\n",
    "print(\"\"\"Arxiv has {0:,d} new papers today\"\"\".format(len(new_papers)))        \n",
    "print(\"\"\"          {0:,d} with possible author matches\"\"\".format(len(candidates)))"
   ]
  },
  {
   "cell_type": "markdown",
   "id": "3543b34a",
   "metadata": {
    "papermill": {
     "duration": 0.003129,
     "end_time": "2025-05-19T04:20:15.318670",
     "exception": false,
     "start_time": "2025-05-19T04:20:15.315541",
     "status": "completed"
    },
    "tags": []
   },
   "source": [
    "# Parse sources and generate relevant outputs\n",
    "\n",
    "From the candidates, we do the following steps:\n",
    "* get their tarball from ArXiv (and extract data)\n",
    "* find the main .tex file: find one with \\documentclass{...} (sometimes it's non trivial)\n",
    "* Check affiliations with :func:`validation`, which uses :func:`mpia.affiliation_verifications`\n",
    "* If passing the affiliations: we parse the .tex source\n",
    "   * inject sub-documents into the main (flatten the main document)\n",
    "   * parse structure, extract information (title, abstract, authors, figures...)\n",
    "   * handles `\\graphicspath` if provided\n",
    "* Generate the .md document."
   ]
  },
  {
   "cell_type": "code",
   "execution_count": 5,
   "id": "9576b79e",
   "metadata": {
    "execution": {
     "iopub.execute_input": "2025-05-19T04:20:15.326354Z",
     "iopub.status.busy": "2025-05-19T04:20:15.325876Z",
     "iopub.status.idle": "2025-05-19T04:21:19.532236Z",
     "shell.execute_reply": "2025-05-19T04:21:19.531374Z"
    },
    "papermill": {
     "duration": 64.211604,
     "end_time": "2025-05-19T04:21:19.533416",
     "exception": false,
     "start_time": "2025-05-19T04:20:15.321812",
     "status": "completed"
    },
    "scrolled": false,
    "tags": []
   },
   "outputs": [
    {
     "data": {
      "application/vnd.jupyter.widget-view+json": {
       "model_id": "cdd3682b42c84524847094e44177dd74",
       "version_major": 2,
       "version_minor": 0
      },
      "text/plain": [
       "  0%|          | 0/7 [00:00<?, ?it/s]"
      ]
     },
     "metadata": {},
     "output_type": "display_data"
    },
    {
     "name": "stdout",
     "output_type": "stream",
     "text": [
      "Retrieving document from  https://arxiv.org/e-print/2505.10632\n",
      "extracting tarball to tmp_2505.10632..."
     ]
    },
    {
     "name": "stdout",
     "output_type": "stream",
     "text": [
      " done.\n",
      "  0: tmp_2505.10632/main.tex, 360 lines\n",
      "  1: tmp_2505.10632/natbib.tex, 96 lines\n",
      "  2: tmp_2505.10632/natnotes.tex, 332 lines\n",
      "  3: tmp_2505.10632/aassymbols.tex, 579 lines\n"
     ]
    },
    {
     "name": "stdout",
     "output_type": "stream",
     "text": [
      "Retrieving document from  https://arxiv.org/e-print/2505.10805\n",
      "extracting tarball to tmp_2505.10805..."
     ]
    },
    {
     "name": "stderr",
     "output_type": "stream",
     "text": [
      "/opt/hostedtoolcache/Python/3.9.22/x64/lib/python3.9/site-packages/IPython/core/interactiveshell.py:3550: LatexWarning: Multiple tex files.\n",
      "\n",
      "  exec(code_obj, self.user_global_ns, self.user_ns)\n",
      "/opt/hostedtoolcache/Python/3.9.22/x64/lib/python3.9/site-packages/IPython/core/interactiveshell.py:3550: LatexWarning: Found 4 candidates with documentclass definition.\n",
      "  exec(code_obj, self.user_global_ns, self.user_ns)\n",
      "/opt/hostedtoolcache/Python/3.9.22/x64/lib/python3.9/site-packages/IPython/core/interactiveshell.py:3550: LatexWarning: Assuming tmp_2505.10632/aassymbols.tex as main document.\n",
      "  exec(code_obj, self.user_global_ns, self.user_ns)\n"
     ]
    },
    {
     "name": "stdout",
     "output_type": "stream",
     "text": [
      " done.\n",
      "Retrieving document from  https://arxiv.org/e-print/2505.10908\n"
     ]
    },
    {
     "name": "stdout",
     "output_type": "stream",
     "text": [
      "extracting tarball to tmp_2505.10908... done.\n"
     ]
    },
    {
     "name": "stdout",
     "output_type": "stream",
     "text": [
      "A. Hughes  ->  A. Hughes  |  ['A. Hughes']\n",
      "E. Schinnerer  ->  E. Schinnerer  |  ['E. Schinnerer']\n"
     ]
    },
    {
     "name": "stdout",
     "output_type": "stream",
     "text": [
      "Found 115 bibliographic references in tmp_2505.10908/main.bbl.\n",
      "Retrieving document from  https://arxiv.org/e-print/2505.10915\n",
      "extracting tarball to tmp_2505.10915... done.\n",
      "Retrieving document from  https://arxiv.org/e-print/2505.10995\n"
     ]
    },
    {
     "name": "stdout",
     "output_type": "stream",
     "text": [
      "extracting tarball to tmp_2505.10995..."
     ]
    },
    {
     "name": "stdout",
     "output_type": "stream",
     "text": [
      " done.\n",
      "Retrieving document from  https://arxiv.org/e-print/2505.11224\n"
     ]
    },
    {
     "name": "stdout",
     "output_type": "stream",
     "text": [
      "extracting tarball to tmp_2505.11224..."
     ]
    },
    {
     "name": "stdout",
     "output_type": "stream",
     "text": [
      " done.\n"
     ]
    },
    {
     "name": "stdout",
     "output_type": "stream",
     "text": [
      "Found 154 bibliographic references in tmp_2505.11224/references.bbl.\n",
      "Error retrieving bib data for Fu2024HydrogenExoplanet: 'author'\n",
      "Error retrieving bib data for Xue20242: 'author'\n",
      "Retrieving document from  https://arxiv.org/e-print/2505.11263\n"
     ]
    },
    {
     "name": "stdout",
     "output_type": "stream",
     "text": [
      "extracting tarball to tmp_2505.11263... done.\n"
     ]
    },
    {
     "name": "stdout",
     "output_type": "stream",
     "text": [
      "Found 245 bibliographic references in tmp_2505.11263/main.bbl.\n",
      "Issues with the citations\n",
      "syntax error in line 1201: '=' expected\n"
     ]
    }
   ],
   "source": [
    "documents = []\n",
    "failed = []\n",
    "for paper in tqdm(candidates):\n",
    "    # debug crap\n",
    "    paper['identifier'] = paper['identifier'].lower().replace('arxiv:', '').replace(r'\\n', '').strip()\n",
    "    paper_id = paper['identifier']\n",
    "    \n",
    "    folder = f'tmp_{paper_id}'\n",
    "\n",
    "    try:\n",
    "        if not os.path.isdir(folder):\n",
    "            folder = retrieve_document_source(f\"{paper_id}\", f'tmp_{paper_id}')\n",
    "        \n",
    "        try:\n",
    "            doc = latex.LatexDocument(folder, validation=validation)    \n",
    "        except AffiliationError as affilerror:\n",
    "            msg = f\"ArXiv:{paper_id:s} is not an MPIA paper... \" + str(affilerror)\n",
    "            failed.append((paper, \"affiliation error: \" + str(affilerror) ))\n",
    "            continue\n",
    "        \n",
    "        # Hack because sometimes author parsing does not work well\n",
    "        if (len(doc.authors) != len(paper['authors'])):\n",
    "            doc._authors = paper['authors']\n",
    "        else:\n",
    "            # highlight authors (FIXME: doc.highlight_authors)\n",
    "            # done on arxiv paper already\n",
    "            doc._authors = highlight_authors_in_list(\n",
    "                [get_initials(k) for k in doc.authors], \n",
    "                mpia_authors, verbose=True)\n",
    "        if (doc.abstract) in (None, ''):\n",
    "            doc._abstract = paper['abstract']\n",
    "            \n",
    "        doc.comment = (get_markdown_badge(paper_id) + \n",
    "                       \"<mark>Appeared on: \" + paper['date'] + \"</mark> - \")\n",
    "        if paper['comments']:\n",
    "            doc.comment += \" _\" + paper['comments'] + \"_\"\n",
    "        \n",
    "        full_md = doc.generate_markdown_text()\n",
    "        \n",
    "        full_md += get_markdown_qrcode(paper_id)\n",
    "        \n",
    "        # replace citations\n",
    "        try:\n",
    "            bibdata = latex_bib.LatexBib.from_doc(doc)\n",
    "            full_md = latex_bib.replace_citations(full_md, bibdata)\n",
    "        except Exception as e:\n",
    "            print(\"Issues with the citations\")\n",
    "            print(e)\n",
    "        \n",
    "        documents.append((paper_id, full_md))\n",
    "    except Exception as e:\n",
    "        warnings.warn(latex.LatexWarning(f\"{paper_id:s} did not run properly\\n\" +\n",
    "                                         str(e)\n",
    "                                        ))\n",
    "        failed.append((paper, \"latex error \" + str(e)))"
   ]
  },
  {
   "cell_type": "markdown",
   "id": "2505a25c",
   "metadata": {
    "papermill": {
     "duration": 0.004028,
     "end_time": "2025-05-19T04:21:19.541773",
     "exception": false,
     "start_time": "2025-05-19T04:21:19.537745",
     "status": "completed"
    },
    "tags": []
   },
   "source": [
    "### Export the logs\n",
    "\n",
    "Throughout, we also keep track of the logs per paper. see `logs-{today date}.md` "
   ]
  },
  {
   "cell_type": "code",
   "execution_count": 6,
   "id": "d733828a",
   "metadata": {
    "execution": {
     "iopub.execute_input": "2025-05-19T04:21:19.551354Z",
     "iopub.status.busy": "2025-05-19T04:21:19.550961Z",
     "iopub.status.idle": "2025-05-19T04:21:19.570211Z",
     "shell.execute_reply": "2025-05-19T04:21:19.569600Z"
    },
    "papermill": {
     "duration": 0.025493,
     "end_time": "2025-05-19T04:21:19.571312",
     "exception": false,
     "start_time": "2025-05-19T04:21:19.545819",
     "status": "completed"
    },
    "scrolled": false,
    "tags": []
   },
   "outputs": [
    {
     "data": {
      "text/markdown": [
       "## Successful papers"
      ],
      "text/plain": [
       "<IPython.core.display.Markdown object>"
      ]
     },
     "metadata": {},
     "output_type": "display_data"
    },
    {
     "data": {
      "text/markdown": [
       "\n",
       "|||\n",
       "|---:|:---|\n",
       "| [![arXiv](https://img.shields.io/badge/arXiv-2505.10908-b31b1b.svg)](https://arxiv.org/abs/2505.10908) | **The impact of spiral arms on the star formation life cycle**  |\n",
       "|| A. Romanelli, et al. -- incl., <mark>A. Hughes</mark>, <mark>E. Schinnerer</mark> |\n",
       "|*Appeared on*| *2025-05-19*|\n",
       "|*Comments*| *12 pages, 5 figures*|\n",
       "|**Abstract**|            The matter cycle between gas clouds and stars in galaxies plays a crucial role in regulating galaxy evolution through feedback mechanisms. In turn, the local and global galactic environments shape the interstellar medium and provide the initial conditions for star formation, potentially affecting the properties of this small-scale matter cycle. In particular, spiral arms have been proposed to play a pivotal role in the star formation life cycle, by enhancing the gas density and triggering star formation. However, their exact role is still debated. In this paper, we investigate the role of spiral arms in the giant molecular cloud evolutionary life cycle and on the star formation process in a sample of 22 nearby spiral galaxies from the PHANGS survey. We measure the cloud lifetime, the feedback timescale, the typical distance between independent regions and the star formation efficiency in spiral arms and inter-arm regions separately. We find that the distributions of the cloud lifetime as well as the feedback timescale are similar in both environments. This result suggests that spiral arms are unlikely to play a dominant role in triggering star formation. By contrast, the star formation efficiency appears to be slightly higher in inter-arm regions compared to spiral arms.         |"
      ],
      "text/plain": [
       "[2505.10908] The impact of spiral arms on the star formation life cycle\n",
       "\tA. Romanelli, et al. -- incl., <mark>A. Hughes</mark>, <mark>E. Schinnerer</mark>"
      ]
     },
     "metadata": {},
     "output_type": "display_data"
    },
    {
     "data": {
      "text/markdown": [
       "\n",
       "|||\n",
       "|---:|:---|\n",
       "| [![arXiv](https://img.shields.io/badge/arXiv-2505.11224-b31b1b.svg)](https://arxiv.org/abs/2505.11224) | **Tracing the formation and migration history: molecular signatures in the atmosphere of misaligned hot Jupiter WASP-94Ab using JWST NIRSpec/G395H**  |\n",
       "|| <mark>E.-M. Ahrer</mark>, et al. |\n",
       "|*Appeared on*| *2025-05-19*|\n",
       "|*Comments*| *19 pages, 15 figures, accepted for publication in MNRAS*|\n",
       "|**Abstract**|            The discovery of hot Jupiters that orbit very close to their host stars has long challenged traditional models of planetary formation and migration. Characterising their atmospheric composition - mainly in the form of the carbon-to-oxygen (C/O) ratio and metallicity - can provide insights into their formation locations and evolution pathways. With JWST we can characterise the atmospheres of these types of planets more precisely than previously possible, primarily because it allows us to determine both their atmospheric oxygen and carbon composition. Here, we present a JWST NIRSpec/G395H transmission spectrum from 2.8-5.1$\\mu m$ of WASP-94Ab, an inflated hot Jupiter with a retrograde misaligned orbit around its F-type host star. We find a relatively cloud-free atmosphere, with absorption features of H$_2$O and CO$_2$ at detection significances of $\\sim 4\\sigma$ and $\\sim 11\\sigma$, respectively. In addition, we detect tentative evidence of CO absorption at $\\sim3\\sigma$, as well as hints of sulphur with the detection of H$_2$S at a $\\sim 2.5\\sigma$ confidence level. Our favoured equilibrium chemistry model determines a C/O ratio of $0.49^{+0.08}_{-0.13}$ for WASP-94Ab's atmosphere, which is substellar compared to the star's C/O ratio of $0.68 \\pm 0.10$. The retrieved atmospheric metallicity is similar to the star's metallicity as both are $\\sim 2\\times$ solar. We find that this sub-stellar C/O ratio and stellar metallicity can be best explained by pebble accretion or planetesimal accretion in combination with large-distance migration of the planet.         |"
      ],
      "text/plain": [
       "[2505.11224] Tracing the formation and migration history: molecular signatures in the atmosphere of misaligned hot Jupiter WASP-94Ab using JWST NIRSpec/G395H\n",
       "\t<mark>E.-M. Ahrer</mark>, et al."
      ]
     },
     "metadata": {},
     "output_type": "display_data"
    },
    {
     "data": {
      "text/markdown": [
       "\n",
       "|||\n",
       "|---:|:---|\n",
       "| [![arXiv](https://img.shields.io/badge/arXiv-2505.11263-b31b1b.svg)](https://arxiv.org/abs/2505.11263) | **A Cosmic Miracle: A Remarkably Luminous Galaxy at $z_{\\rm{spec}}=14.44$ Confirmed with JWST**  |\n",
       "|| R. P. Naidu, et al. -- incl., <mark>A. d. Graaff</mark>, <mark>F. Walter</mark> |\n",
       "|*Appeared on*| *2025-05-19*|\n",
       "|*Comments*| *Submitted to the Open Journal of Astrophysics. Comments greatly appreciated and warmly welcomed!*|\n",
       "|**Abstract**|            JWST has revealed a stunning population of bright galaxies at surprisingly early epochs, $z>10$, where few such sources were expected. Here we present the most distant example of this class yet -- MoM-z14, a luminous ($M_{\\rm{UV}}=-20.2$) source in the COSMOS legacy field at $z_{\\rm{spec}}=14.44^{+0.02}_{-0.02}$ that expands the observational frontier to a mere 280 million years after the Big Bang. The redshift is confirmed with NIRSpec/prism spectroscopy through a sharp Lyman-$\\alpha$ break and $\\approx3\\sigma$ detections of five rest-UV emission lines. The number density of bright $z_{\\rm{spec}}\\approx14-15$ sources implied by our \"Mirage or Miracle\" survey spanning $\\approx350$ arcmin$^{2}$ is $>100\\times$ larger ($182^{+329}_{-105}\\times$) than pre-JWST consensus models. The high EWs of UV lines (${\\approx}15{-}35$ Å) signal a rising star-formation history, with a ${\\approx}10\\times$ increase in the last 5 Myr ($\\rm{SFR_{\\rm{5Myr}}}/\\rm{SFR_{\\rm{50Myr}}}=9.9^{+3.0}_{-5.8}$). The source is extremely compact (circularized $r_{\\rm{e}} = 74^{+15}_{-12}$ pc), and yet resolved, suggesting an AGN is not the dominant source of light. The steep UV slope ($\\beta=-2.5^{+0.2}_{-0.2}$) implies negligible dust attenuation and a young stellar population. The absence of a strong damping wing may indicate that the immediate surroundings of MoM-z14 are partially ionized at a redshift where virtually every reionization model predicts a $\\approx100\\%$ neutral fraction. The nitrogen emission and highly super-solar [N/C]$>1$ hint at an abundance pattern similar to local globular clusters that may have once hosted luminous supermassive stars. Since this abundance pattern is also common among the most ancient stars born in the Milky Way, we may be directly witnessing the formation of such stars in dense clusters, connecting galaxy evolution across the entire sweep of cosmic time.         |"
      ],
      "text/plain": [
       "[2505.11263] A Cosmic Miracle: A Remarkably Luminous Galaxy at $z_{\\rm{spec}}=14.44$ Confirmed with JWST\n",
       "\tR. P. Naidu, et al. -- incl., <mark>A. d. Graaff</mark>, <mark>F. Walter</mark>"
      ]
     },
     "metadata": {},
     "output_type": "display_data"
    },
    {
     "data": {
      "text/markdown": [
       "## Failed papers"
      ],
      "text/plain": [
       "<IPython.core.display.Markdown object>"
      ]
     },
     "metadata": {},
     "output_type": "display_data"
    },
    {
     "data": {
      "text/markdown": [
       "\n",
       "|||\n",
       "|---:|:---|\n",
       "| [![arXiv](https://img.shields.io/badge/arXiv-2505.10632-b31b1b.svg)](https://arxiv.org/abs/2505.10632) | **Measuring Emission Lines with JWST-MegaScience Medium-Bands: A New Window into Dust and Star Formation at Cosmic Noon**  |\n",
       "|| B. Lorenz, et al. -- incl., <mark>A. d. Graaff</mark> |\n",
       "|*Appeared on*| *2025-05-19*|\n",
       "|*Comments*| *13 pages, 4 figures*|\n",
       "|**Abstract**|            We demonstrate the power of JWST-NIRCam medium-band photometry to measure emission line fluxes and study dust and star formation properties of galaxies at cosmic noon. In this work, we present photometric emission line measurements and spatially-resolved maps of H$\\alpha$ and Pa$\\beta$ for a sample of 14 galaxies at $1.3\\leq z\\leq 2.4$, observed by the MegaScience medium-band survey and the UNCOVER deep spectroscopic survey. We measure line fluxes directly from the medium-band photometry and compare with spectroscopic measurements from UNCOVER. We find reasonable agreement between the photometric and spectroscopic emission line fluxes for both H$\\alpha$ and Pa$\\beta$, with scatter $<0.15$ dex down to emission line equivalent widths of $10$Å. We also make a nebular dust measurement from the ratio Pa$\\beta$ / H$\\alpha$, finding an average nebular A$_\\mathrm{V}$ of 1.4. Our photometric A$_\\mathrm{V}$ measurements show a slightly larger scatter of $0.5$ magnitudes when compared to spectroscopic measurements; however, this scatter may be partially caused by aperture effects. Finally, we produce spatially resolved maps of H$\\alpha$ emission, Pa$\\beta$ emission, and stellar continuum. We find that offsets in H$\\alpha$ and Pa$\\beta$ emission are common, especially for galaxies with the highest A$_\\mathrm{V}$, indicating dusty sub-structures. Furthermore, the correlation between H$\\alpha$ and continuum emission decreases with increasing A$_\\mathrm{V}$, suggesting that the dustiest objects have clumpy dust and star formation distributions. Our study demonstrates the power of medium-band photometry to directly probe emission line strengths, star formation, and dust attenuation for hundreds of galaxies in UNCOVER and thousands of galaxies in upcoming JWST medium-band surveys.         |\n",
       "|<p style=\"color:green\"> **ERROR** </p>| <p style=\"color:green\">affiliation error: mpia.affiliation_verifications: 'Heidelberg' keyword not found.</p> |"
      ],
      "text/plain": [
       "<IPython.core.display.Markdown object>"
      ]
     },
     "metadata": {},
     "output_type": "display_data"
    },
    {
     "data": {
      "text/markdown": [
       "\n",
       "|||\n",
       "|---:|:---|\n",
       "| [![arXiv](https://img.shields.io/badge/arXiv-2505.10805-b31b1b.svg)](https://arxiv.org/abs/2505.10805) | **Frequency and Abundance of Binary sUpermassive bLack holes from Optical Variability Surveys (FABULOVS): Hubble Space Telescope Imaging of Radial-Velocity Selected Binary Candidates**  |\n",
       "|| L. Nolan, et al. -- incl., <mark>J. Li</mark> |\n",
       "|*Appeared on*| *2025-05-19*|\n",
       "|*Comments*| *22 pages, 8 figures, 6 tables, submitted to ApJ*|\n",
       "|**Abstract**|            Sub-parsec (sub-pc) binary supermassive black holes (BSBHs) should be common from galaxy mergers, yet direct evidence has been elusive. We present HST/WFC3IR F160W imaging for a sample of 8 candidate sub-pc BSBHs at redshifts z~0.1--0.5, as well as cross-comparison with a sample of ordinary quasars with archival HST/WFC3 IR F160W images. These 8 candidate sub-pc BSBHs were identified from multi-epoch spectroscopic surveys of quasars (including both typical quasars and those with single-peaked velocity-offset broad lines). whose broad H$\\beta$ lines are significantly offset (by ~< a few hundred km/s) from the systemic redshifts. We directly test the prediction that the host galaxies of BSBHs would have a higher fraction of disturbed morphologies and younger stellar bulges from recent interactions than those of control quasars. After careful subtraction of the central quasar light, our candidate BSBH hosts show a statistically undifferentiated distribution of host asymmetry, indicative of a similar fraction of recent mergers. While a significantly larger sample is needed to place this result on a much firmer statistical ground, it opens questions as to the timescale differences between galaxy merger and BSBH formation, or the efficacy of the radial-velocity-shift--based selection of sub-pc BSBH candidates.         |\n",
       "|<p style=\"color:green\"> **ERROR** </p>| <p style=\"color:green\">affiliation error: mpia.affiliation_verifications: 'Heidelberg' keyword not found.</p> |"
      ],
      "text/plain": [
       "<IPython.core.display.Markdown object>"
      ]
     },
     "metadata": {},
     "output_type": "display_data"
    },
    {
     "data": {
      "text/markdown": [
       "\n",
       "|||\n",
       "|---:|:---|\n",
       "| [![arXiv](https://img.shields.io/badge/arXiv-2505.10915-b31b1b.svg)](https://arxiv.org/abs/2505.10915) | **Precise calculation of the EFT likelihood with primordial non-Gaussianities**  |\n",
       "|| J.-Y. Ke, <mark>Y. Wang</mark>, P. He |\n",
       "|*Appeared on*| *2025-05-19*|\n",
       "|*Comments*| *26 pages, 1 figure*|\n",
       "|**Abstract**|            We perform a precise calculation of the EFT conditional likelihood for large-scale structure (LSS) via the saddle-point expansion method in the presence of primordial non-Gaussianities (PNG). The precision is manifested at two levels: one corresponding to the consideration of higher-order noise terms, and the other to the inclusion of contributions around the saddle points. In computing the latter, we encounter the same issue of the negative modes as in the context of false vacuum decay, which necessitates deforming the original integration contour into the combination of the steepest descent contours to ensure a convergent and real result. We demonstrate through detailed calculations that, upon the incorporation of leading-order PNG, both types of extensions introduce irreducible field-dependent contributions to the conditional likelihood. This insight motivates the systematic inclusion of additional effective terms within the forward modeling framework. Our work facilitates Bayesian forward modeling under non-Gaussian initial conditions, thereby enabling more stringent constraints on the parameters describing PNG.         |\n",
       "|<p style=\"color:green\"> **ERROR** </p>| <p style=\"color:green\">affiliation error: mpia.affiliation_verifications: 'Heidelberg' keyword not found.</p> |"
      ],
      "text/plain": [
       "<IPython.core.display.Markdown object>"
      ]
     },
     "metadata": {},
     "output_type": "display_data"
    },
    {
     "data": {
      "text/markdown": [
       "\n",
       "|||\n",
       "|---:|:---|\n",
       "| [![arXiv](https://img.shields.io/badge/arXiv-2505.10995-b31b1b.svg)](https://arxiv.org/abs/2505.10995) | **Recurrent Jetlets Associated with the Disappearance of a Satellite Spot**  |\n",
       "|| L. Yang, et al. -- incl., <mark>X. Zhang</mark> |\n",
       "|*Appeared on*| *2025-05-19*|\n",
       "|*Comments*| *22 pages, 9 figures, accepted for publication in The Astrophysical Journal*|\n",
       "|**Abstract**|            Recurrent small-scale eruptions are fascinating phenomena in the solar atmosphere. However, their underlying physical mechanisms remain unclear. On 2021 May 23, five recurrent jetlets (J1-J5) were observed continuously ejecting from a satellite spot located at the north edge of AR 12824. Using high-resolution, multi-wavelength data from NVST, SDO, and IRIS, we investigate the physical characteristics of these jetlets and their relationship with the satellite spot. The widths of these jetlets range from 1300 to 2900 km, their lifetimes range span 3 to 10 minutes, and their projection speeds vary from 152.8 to 406.0 km s$^{-1}$. During the eruptions, the satellite spot moved northwest at a low speed of 376 $\\pm$ 12 m s$^{-1}$. Its area gradually decreased due to magnetic cancellation with surrounding positive magnetic field, resulting in an average cancellation rate of 1.3$\\times$10$^{18}$ Mx hr$^{-1}$. Dark lanes that separated from the satellite spot and small pores were observed to move toward nearby these features or dark lanes with opposite polarities, eventually disappearing during the magnetic cancellation process. J4 was driven by an eruption of a micro-filament. Spectral observations revealed a redshift on the right side of J4 and a blueshift on the left side of its base, suggesting a counterclockwise rotation. The horizontal magnetic field of the satellite spot consistently exhibited a vortex structure throughout its evolution until it vanished. The nonlinear force-free field extrapolation confirms that the satellite spot serves as one footpoint of a mini-flux rope. These observations reveal that these jetlets might result from three-dimensional null-point magnetic reconnection, initiated by the continuous eruption of a mini-flux-rope or multiple mini-flux-ropes, driven by sustained magnetic cancellation.         |\n",
       "|<p style=\"color:green\"> **ERROR** </p>| <p style=\"color:green\">affiliation error: mpia.affiliation_verifications: 'Heidelberg' keyword not found.</p> |"
      ],
      "text/plain": [
       "<IPython.core.display.Markdown object>"
      ]
     },
     "metadata": {},
     "output_type": "display_data"
    }
   ],
   "source": [
    "import datetime\n",
    "today = str(datetime.date.today())\n",
    "logfile = f\"_build/html/logs/log-{today}.md\"\n",
    "\n",
    "\n",
    "with open(logfile, 'w') as logs:\n",
    "    # Success\n",
    "    logs.write(f'# Arxiv on Deck 2: Logs - {today}\\n\\n')\n",
    "    logs.write(\"\"\"* Arxiv had {0:,d} new papers\\n\"\"\".format(len(new_papers)))\n",
    "    logs.write(\"\"\"    * {0:,d} with possible author matches\\n\\n\"\"\".format(len(candidates)))\n",
    "    logs.write(\"## Sucessful papers\\n\\n\")\n",
    "    display(Markdown(\"## Successful papers\"))\n",
    "    success = [k[0] for k in documents]\n",
    "    for candid in candidates:\n",
    "        if candid['identifier'].split(':')[-1] in success:\n",
    "            display(candid)\n",
    "            logs.write(candid.generate_markdown_text() + '\\n\\n')\n",
    "\n",
    "    ## failed\n",
    "    logs.write(\"## Failed papers\\n\\n\")\n",
    "    display(Markdown(\"## Failed papers\"))\n",
    "    failed = sorted(failed, key=lambda x: x[1])\n",
    "    current_reason = \"\"\n",
    "    for paper, reason in failed:\n",
    "        if 'affiliation' in reason:\n",
    "            color = 'green'\n",
    "        else:\n",
    "            color = 'red'\n",
    "        data = Markdown(\n",
    "                paper.generate_markdown_text() + \n",
    "                f'\\n|<p style=\"color:{color:s}\"> **ERROR** </p>| <p style=\"color:{color:s}\">{reason:s}</p> |'\n",
    "               )\n",
    "        if reason != current_reason:\n",
    "            logs.write(f'### {reason:s} \\n\\n')\n",
    "            current_reason = reason\n",
    "        logs.write(data.data + '\\n\\n')\n",
    "        \n",
    "        # only display here the important errors (all in logs)\n",
    "        # if color in ('red',):\n",
    "        display(data)"
   ]
  },
  {
   "cell_type": "markdown",
   "id": "472d20ee",
   "metadata": {
    "papermill": {
     "duration": 0.005013,
     "end_time": "2025-05-19T04:21:19.581507",
     "exception": false,
     "start_time": "2025-05-19T04:21:19.576494",
     "status": "completed"
    },
    "tags": []
   },
   "source": [
    "## Export documents\n",
    "\n",
    "We now write the .md files and export relevant images"
   ]
  },
  {
   "cell_type": "code",
   "execution_count": 7,
   "id": "d426aed9",
   "metadata": {
    "execution": {
     "iopub.execute_input": "2025-05-19T04:21:19.592886Z",
     "iopub.status.busy": "2025-05-19T04:21:19.592611Z",
     "iopub.status.idle": "2025-05-19T04:21:19.600278Z",
     "shell.execute_reply": "2025-05-19T04:21:19.599530Z"
    },
    "papermill": {
     "duration": 0.015083,
     "end_time": "2025-05-19T04:21:19.601554",
     "exception": false,
     "start_time": "2025-05-19T04:21:19.586471",
     "status": "completed"
    },
    "tags": []
   },
   "outputs": [],
   "source": [
    "def export_markdown_summary(md: str, md_fname:str, directory: str):\n",
    "    \"\"\"Export MD document and associated relevant images\"\"\"\n",
    "    import os\n",
    "    import shutil\n",
    "    import re\n",
    "\n",
    "    if (os.path.exists(directory) and not os.path.isdir(directory)):\n",
    "        raise RuntimeError(f\"a non-directory file exists with name {directory:s}\")\n",
    "\n",
    "    if (not os.path.exists(directory)):\n",
    "        print(f\"creating directory {directory:s}\")\n",
    "        os.mkdir(directory)\n",
    "\n",
    "    fig_fnames = (re.compile(r'\\[Fig.*\\]\\((.*)\\)').findall(md) + \n",
    "                  re.compile(r'\\<img src=\"([^>\\s]*)\"[^>]*/>').findall(md))\n",
    "    print(\"found figures\", fig_fnames)\n",
    "    for fname in fig_fnames:\n",
    "        if 'http' in fname:\n",
    "            # No need to copy online figures\n",
    "            continue\n",
    "        if not os.path.exists(fname):\n",
    "            print(\"file not found\", fname)\n",
    "            continue\n",
    "        print(\"copying \", fname, \"to\", directory)\n",
    "        destdir = os.path.join(directory, os.path.dirname(fname))\n",
    "        destfname = os.path.join(destdir, os.path.basename(fname))\n",
    "        try:\n",
    "            os.makedirs(destdir)\n",
    "        except FileExistsError:\n",
    "            pass\n",
    "        shutil.copy(fname, destfname)\n",
    "    with open(os.path.join(directory, md_fname), 'w') as fout:\n",
    "        fout.write(md)\n",
    "    print(\"exported in \", os.path.join(directory, md_fname))\n",
    "    [print(\"    + \" + os.path.join(directory,fk)) for fk in fig_fnames]"
   ]
  },
  {
   "cell_type": "code",
   "execution_count": 8,
   "id": "014d04a4",
   "metadata": {
    "execution": {
     "iopub.execute_input": "2025-05-19T04:21:19.613636Z",
     "iopub.status.busy": "2025-05-19T04:21:19.613124Z",
     "iopub.status.idle": "2025-05-19T04:21:19.626279Z",
     "shell.execute_reply": "2025-05-19T04:21:19.625614Z"
    },
    "papermill": {
     "duration": 0.020202,
     "end_time": "2025-05-19T04:21:19.627416",
     "exception": false,
     "start_time": "2025-05-19T04:21:19.607214",
     "status": "completed"
    },
    "tags": []
   },
   "outputs": [
    {
     "name": "stdout",
     "output_type": "stream",
     "text": [
      "found figures ['tmp_2505.10908/./images/sfr_m_dens.png', 'tmp_2505.10908/./images/four_panels.png', 'tmp_2505.10908/./images/scatter_plot.png']\n",
      "copying  tmp_2505.10908/./images/sfr_m_dens.png to _build/html/\n",
      "copying  tmp_2505.10908/./images/four_panels.png to _build/html/\n",
      "copying  tmp_2505.10908/./images/scatter_plot.png to _build/html/\n",
      "exported in  _build/html/2505.10908.md\n",
      "    + _build/html/tmp_2505.10908/./images/sfr_m_dens.png\n",
      "    + _build/html/tmp_2505.10908/./images/four_panels.png\n",
      "    + _build/html/tmp_2505.10908/./images/scatter_plot.png\n",
      "found figures ['tmp_2505.11224/./figures/WASP-94Ab_transmission_spectrum_Tiberius_Eureka_exotic_R100_with_residuals.png', 'tmp_2505.11224/./figures/WASP-94Ab_transmission_spectrum_Tiberius_Eureka_exotic_R400_with_residuals.png', 'tmp_2505.11224/./figures/WASP-94Ab_transmission_spectrum_models_with_contributions.png', 'tmp_2505.11224/./figures/WASP-94Ab_transmission_spectrum_models_with_contributions_eq_chem.png', 'tmp_2505.11224/./figures/WASP-94Ab_comparison_JWST_HJs.png']\n",
      "copying  tmp_2505.11224/./figures/WASP-94Ab_transmission_spectrum_Tiberius_Eureka_exotic_R100_with_residuals.png to _build/html/\n",
      "copying  tmp_2505.11224/./figures/WASP-94Ab_transmission_spectrum_Tiberius_Eureka_exotic_R400_with_residuals.png to _build/html/\n",
      "copying  tmp_2505.11224/./figures/WASP-94Ab_transmission_spectrum_models_with_contributions.png to _build/html/\n",
      "copying  tmp_2505.11224/./figures/WASP-94Ab_transmission_spectrum_models_with_contributions_eq_chem.png to _build/html/\n",
      "copying  tmp_2505.11224/./figures/WASP-94Ab_comparison_JWST_HJs.png to _build/html/\n",
      "exported in  _build/html/2505.11224.md\n",
      "    + _build/html/tmp_2505.11224/./figures/WASP-94Ab_transmission_spectrum_Tiberius_Eureka_exotic_R100_with_residuals.png\n",
      "    + _build/html/tmp_2505.11224/./figures/WASP-94Ab_transmission_spectrum_Tiberius_Eureka_exotic_R400_with_residuals.png\n",
      "    + _build/html/tmp_2505.11224/./figures/WASP-94Ab_transmission_spectrum_models_with_contributions.png\n",
      "    + _build/html/tmp_2505.11224/./figures/WASP-94Ab_transmission_spectrum_models_with_contributions_eq_chem.png\n",
      "    + _build/html/tmp_2505.11224/./figures/WASP-94Ab_comparison_JWST_HJs.png\n",
      "found figures ['tmp_2505.11263/./figs/z_summary.png', 'tmp_2505.11263/./figs/Re_v_Redshift_combo_v2.png', 'tmp_2505.11263/./figs/cue_posterior_v2.png']\n",
      "copying  tmp_2505.11263/./figs/z_summary.png to _build/html/\n",
      "copying  tmp_2505.11263/./figs/Re_v_Redshift_combo_v2.png to _build/html/\n",
      "copying  tmp_2505.11263/./figs/cue_posterior_v2.png to _build/html/\n",
      "exported in  _build/html/2505.11263.md\n",
      "    + _build/html/tmp_2505.11263/./figs/z_summary.png\n",
      "    + _build/html/tmp_2505.11263/./figs/Re_v_Redshift_combo_v2.png\n",
      "    + _build/html/tmp_2505.11263/./figs/cue_posterior_v2.png\n"
     ]
    }
   ],
   "source": [
    "for paper_id, md in documents:\n",
    "    export_markdown_summary(md, f\"{paper_id:s}.md\", '_build/html/')"
   ]
  },
  {
   "cell_type": "markdown",
   "id": "f087a0a7",
   "metadata": {
    "papermill": {
     "duration": 0.005015,
     "end_time": "2025-05-19T04:21:19.637649",
     "exception": false,
     "start_time": "2025-05-19T04:21:19.632634",
     "status": "completed"
    },
    "tags": []
   },
   "source": [
    "## Display the papers\n",
    "\n",
    "Not necessary but allows for a quick check."
   ]
  },
  {
   "cell_type": "code",
   "execution_count": 9,
   "id": "fd25f625",
   "metadata": {
    "execution": {
     "iopub.execute_input": "2025-05-19T04:21:19.649522Z",
     "iopub.status.busy": "2025-05-19T04:21:19.648983Z",
     "iopub.status.idle": "2025-05-19T04:21:19.657105Z",
     "shell.execute_reply": "2025-05-19T04:21:19.656421Z"
    },
    "papermill": {
     "duration": 0.01532,
     "end_time": "2025-05-19T04:21:19.658199",
     "exception": false,
     "start_time": "2025-05-19T04:21:19.642879",
     "status": "completed"
    },
    "scrolled": false,
    "tags": []
   },
   "outputs": [
    {
     "data": {
      "text/markdown": [
       "<div class=\"macros\" style=\"visibility:hidden;\">\n",
       "$\\newcommand{\\ensuremath}{}$\n",
       "$\\newcommand{\\xspace}{}$\n",
       "$\\newcommand{\\object}[1]{\\texttt{#1}}$\n",
       "$\\newcommand{\\farcs}{{.}''}$\n",
       "$\\newcommand{\\farcm}{{.}'}$\n",
       "$\\newcommand{\\arcsec}{''}$\n",
       "$\\newcommand{\\arcmin}{'}$\n",
       "$\\newcommand{\\ion}[2]{#1#2}$\n",
       "$\\newcommand{\\textsc}[1]{\\textrm{#1}}$\n",
       "$\\newcommand{\\hl}[1]{\\textrm{#1}}$\n",
       "$\\newcommand{\\footnote}[1]{}$\n",
       "$\\newcommand{\\Halpha}{H\\alpha}$\n",
       "$\\newcommand{\\HII}{H\\textsc{ii}}$\n",
       "$\\newcommand{\\Htwo}{H_2}$\n",
       "$\\newcommand{\\mic}{\\mum}$\n",
       "$\\newcommand{\\arraystretch}{1.25}$</div>\n",
       "\n",
       "\n",
       "\n",
       "<div id=\"title\">\n",
       "\n",
       "# The impact of spiral arms on the star formation life cycle\n",
       "\n",
       "</div>\n",
       "<div id=\"comments\">\n",
       "\n",
       "[![arXiv](https://img.shields.io/badge/arXiv-2505.10908-b31b1b.svg)](https://arxiv.org/abs/2505.10908)<mark>Appeared on: 2025-05-19</mark> -  _12 pages, 5 figures_\n",
       "\n",
       "</div>\n",
       "<div id=\"authors\">\n",
       "\n",
       "A. Romanelli, et al. -- incl., <mark>A. Hughes</mark>, <mark>E. Schinnerer</mark>\n",
       "\n",
       "</div>\n",
       "<div id=\"abstract\">\n",
       "\n",
       "**Abstract:** The matter cycle between gas clouds and stars in galaxies plays a crucial role in regulating galaxy evolution through feedback mechanisms. In turn, the local and global galactic environments shape the interstellar medium and provide the initial conditions for star formation, potentially affecting the properties of this small-scale matter cycle. In particular, spiral arms have been proposed to play a pivotal role in the star formation life cycle, by enhancing the gas density and triggering star formation. However, their exact role is still debated. In this study, we investigated the role of spiral arms in the giant molecular cloud evolutionary life cycle and on the star formation process in a sample of 22 nearby spiral galaxies from the PHANGS survey. We measured the cloud lifetime, the feedback timescale, the typical distance between independent regions, and the star formation efficiency in spiral arms and inter-arm regions separately. We find that the distributions of the cloud lifetime as well as the feedback timescale are similar in both environments. This result suggests that spiral arms are unlikely to play a dominant role in triggering star formation. By contrast, the star formation efficiency appears to be slightly higher in inter-arm regions compared to spiral arms.\n",
       "\n",
       "</div>\n",
       "\n",
       "<div id=\"div_fig1\">\n",
       "\n",
       "<img src=\"tmp_2505.10908/./images/sfr_m_dens.png\" alt=\"Fig2\" width=\"100%\"/>\n",
       "\n",
       "**Figure 2. -** Molecular gas surface density versus SFR surface density averaged over the area enclosed by arm and inter-arm regions. Dashed lines mark the position of the median of each sample. (*ksrelation*)\n",
       "\n",
       "</div>\n",
       "<div id=\"div_fig2\">\n",
       "\n",
       "<img src=\"tmp_2505.10908/./images/four_panels.png\" alt=\"Fig4\" width=\"100%\"/>\n",
       "\n",
       "**Figure 4. -** Cumulative distribution function of the cloud lifetime (top left), feedback timescale (top right), region separation length (bottom left), and SFE (bottom right). Each panel shows the c.d.f. for the parameters calculated in spiral arms (orange) and inter-arm regions (blue), as well as for the full galaxies (red,  ([Kim, Chevance and Kruijssen 2022]()) ) as a thick solid line, and the smoothed c.d.f as a shaded line. In cases where only an upper limit could be determined, the value indicated in Table \\ref{table1} is used. (*cdf*)\n",
       "\n",
       "</div>\n",
       "<div id=\"div_fig3\">\n",
       "\n",
       "<img src=\"tmp_2505.10908/./images/scatter_plot.png\" alt=\"Fig5\" width=\"100%\"/>\n",
       "\n",
       "**Figure 5. -** Cloud lifetime (top left), feedback timescale (top right), region separation length (bottom left), and integrated SFE (bottom right) measured through our statistical analysis. For each parameter, we report the values calculated in the spiral arms on the x-axis and in the inter-arm regions on the y-axis for each galaxy. The grey line shows the one-to-one relation. Each data point is colour-coded according to the averaged value obtained by [Kim, Chevance and Kruijssen (2022)]() for the full galaxy. For the feedback timescale and the region separation length, upper limits in the spiral arms are indicated with arrows. (*scatter*)\n",
       "\n",
       "</div><div id=\"qrcode\"><img src=https://api.qrserver.com/v1/create-qr-code/?size=100x100&data=\"https://arxiv.org/abs/2505.10908\"></div>"
      ],
      "text/plain": [
       "<IPython.core.display.Markdown object>"
      ]
     },
     "metadata": {},
     "output_type": "display_data"
    },
    {
     "data": {
      "text/markdown": [
       "<div class=\"macros\" style=\"visibility:hidden;\">\n",
       "$\\newcommand{\\ensuremath}{}$\n",
       "$\\newcommand{\\xspace}{}$\n",
       "$\\newcommand{\\object}[1]{\\texttt{#1}}$\n",
       "$\\newcommand{\\farcs}{{.}''}$\n",
       "$\\newcommand{\\farcm}{{.}'}$\n",
       "$\\newcommand{\\arcsec}{''}$\n",
       "$\\newcommand{\\arcmin}{'}$\n",
       "$\\newcommand{\\ion}[2]{#1#2}$\n",
       "$\\newcommand{\\textsc}[1]{\\textrm{#1}}$\n",
       "$\\newcommand{\\hl}[1]{\\textrm{#1}}$\n",
       "$\\newcommand{\\footnote}[1]{}$\n",
       "$\\newcommand{\\revision}[1]{#1}$\n",
       "$\\newcommand{\\Rsun}{R_{\\odot}}$\n",
       "$\\newcommand{\\Msun}{M_{\\odot}}$\n",
       "$\\newcommand{\\Rjup}{R_{\\mathrm{J}}}$\n",
       "$\\newcommand{\\Mjup}{M_{\\mathrm{J}}}$\n",
       "$\\newcommand{\\Rp}{R_{\\mathrm{P}}}$\n",
       "$\\newcommand{\\Mp}{M_{\\mathrm{P}}}$\n",
       "$\\newcommand{\\Rs}{R_{\\mathrm{*}}}$\n",
       "$\\newcommand{\\Ms}{R_{\\mathrm{*}}}$\n",
       "$\\newcommand{\\Teq}{T_{\\mathrm{eq}}}$\n",
       "$\\newcommand{\\Teff}{T_{\\mathrm{eff}}}$\n",
       "$\\newcommand{◦ee}{^{\\circ}}$\n",
       "$\\newcommand{\\obliquity}{|\\lambda|}$\n",
       "$\\newcommand{\\mystar}{WASP-94A\\xspace}$\n",
       "$\\newcommand{\\myplanet}{WASP-94A b\\xspace}$\n",
       "$\\newcommand{\\eureka}{\\texttt{Eureka!}\\xspace}$\n",
       "$\\newcommand{\\tiberius}{\\texttt{Tiberius}\\xspace}$\n",
       "$\\newcommand{\\exoticjedi}{\\texttt{ExoTiC-JEDI}\\xspace}$\n",
       "$\\newcommand{\\pRT}{\\texttt{pRT}\\xspace}$\n",
       "$\\newcommand{\\hydra}{\\texttt{HyDRA}\\xspace}$\n",
       "$\\newcommand{\\platon}{\\texttt{PLATON}\\xspace}$\n",
       "$\\newcommand{\\microns}{\\textmu m\\xspace}$\n",
       "$\\newcommand{\\arraystretch}{1.2}$\n",
       "$\\newcommand{\\arraystretch}{1.2}$</div>\n",
       "\n",
       "\n",
       "\n",
       "<div id=\"title\">\n",
       "\n",
       "# Tracing the formation and migration history: molecular signatures in the atmosphere of misaligned hot Jupiter WASP-94Ab using JWST NIRSpec/G395H\n",
       "\n",
       "</div>\n",
       "<div id=\"comments\">\n",
       "\n",
       "[![arXiv](https://img.shields.io/badge/arXiv-2505.11224-b31b1b.svg)](https://arxiv.org/abs/2505.11224)<mark>Appeared on: 2025-05-19</mark> -  _19 pages, 15 figures, accepted for publication in MNRAS_\n",
       "\n",
       "</div>\n",
       "<div id=\"authors\">\n",
       "\n",
       "<mark>E.-M. Ahrer</mark>, et al.\n",
       "\n",
       "</div>\n",
       "<div id=\"abstract\">\n",
       "\n",
       "**Abstract:** The discovery of hot Jupiters that orbit very close to their host stars has long challenged traditional models of planetary formation and migration. Characterising their atmospheric composition --- mainly in the form of the carbon-to-oxygen (C/O) ratio and metallicity --- can provide insights into their formation locations and evolution pathways. With JWST we can characterise the atmospheres of these types of planets more precisely than previously possible, primarily because it allows us to determine both their atmospheric oxygen and carbon composition.Here, we present a JWST NIRSpec/G395H transmission spectrum from 2.8 -- 5.1 $\\microns$ of WASP-94Ab, an inflated hot Jupiter with a retrograde misaligned orbit around its F-type host star. We find a relatively cloud-free atmosphere, with absorption features of $\\ce{H2O}$ and $\\ce{CO2}$ at detection significances of $\\sim 4\\sigma$ and $\\sim 11\\sigma$ , respectively. In addition, we detect tentative evidence of $\\ce{CO}$ absorption at $\\sim3\\sigma$ , as well as hints of sulphur with the detection of $\\ce{H2S}$ at a $\\sim 2.5\\sigma$ confidence level. Our favoured equilibrium chemistry model determines a C/O ratio of $0.49^{+0.08}_{-0.13}$ for WASP-94Ab's atmosphere, which is substellar compared to the star's C/O ratio of $0.68 \\pm 0.10$ . The retrieved atmospheric metallicity is similar to the star's metallicity as both are $\\sim 2\\times$ solar.We find that this sub-stellar C/O ratio and stellar metallicity can be best explained by pebble accretion or planetesimal accretion in combination with large-distance migration of the planet.\n",
       "\n",
       "</div>\n",
       "\n",
       "<div id=\"div_fig1\">\n",
       "\n",
       "<img src=\"tmp_2505.11224/./figures/WASP-94Ab_transmission_spectrum_Tiberius_Eureka_exotic_R100_with_residuals.png\" alt=\"Fig11.1\" width=\"50%\"/><img src=\"tmp_2505.11224/./figures/WASP-94Ab_transmission_spectrum_Tiberius_Eureka_exotic_R400_with_residuals.png\" alt=\"Fig11.2\" width=\"50%\"/>\n",
       "\n",
       "**Figure 11. -** _Top panels: _Transmission spectrum of $\\myplanet$ using JWST's NIRSpec/G395H, using three independent reduction pipelines, $\\tiberius$(green), $\\eureka$(dark blue) and $\\exoticjedi$(orange). The two panels show the spectra at two different binning schemes with $R=100$ on the left and $R=400$ on the right. _Bottom panels:_ Differences between the reductions compared to \\texttt{Eureka!}. Note that the y axis on the left panel is a different scale (-150,+150) ppm compared to the right panel (-400,+400) ppm for visual clarity. $\\exoticjedi$ displays a slight offset compared to $\\tiberius$ and $\\eureka$ in the NRS1 spectrum.   (*fig:transmission-spectrum*)\n",
       "\n",
       "</div>\n",
       "<div id=\"div_fig2\">\n",
       "\n",
       "<img src=\"tmp_2505.11224/./figures/WASP-94Ab_transmission_spectrum_models_with_contributions.png\" alt=\"Fig7.1\" width=\"50%\"/><img src=\"tmp_2505.11224/./figures/WASP-94Ab_transmission_spectrum_models_with_contributions_eq_chem.png\" alt=\"Fig7.2\" width=\"50%\"/>\n",
       "\n",
       "**Figure 7. -** $\\eureka$ transmission spectrum of $\\myplanet$ with the best-fit $\\pRT$ models using free chemistry and equilibrium chemistry and the fitted corresponding spectral contributions on the top and bottom panels, respectively. The best-fit offset from the latter retrieval is applied to the NRS2 spectrum (87ppm, consistent within $0.3\\sigma$ with the 92ppm from the free chemistry run). By eye the two models (equilibrium chemistry vs free chemistry) show remarkable agreement with the exception of the cloud-deck which is at much higher altitudes for the equilibrium chemistry (see bottom panel), while the free chemistry retrieval prefers a cloud deck at lower altitudes not shown in the top panel as it is off the y axis (equivalent of $\\sim 1.05 \\%$ transit depth). However, the equilibrium chemistry retrieval runs were preferred across the board when comparing their Bayesian evidence values for all reductions and resolutions, see Table \\ref{tab:bayesian_evidences}. Therefore, our favoured model is the equilibrium model, with $\\Delta \\ln \\mathcal{Z} = 3.7$($3.2\\sigma$) in the case of $\\eureka$ R=400 using $\\pRT$.   (*fig:spectrum-free_chem-vs-eq_chem*)\n",
       "\n",
       "</div>\n",
       "<div id=\"div_fig3\">\n",
       "\n",
       "<img src=\"tmp_2505.11224/./figures/WASP-94Ab_comparison_JWST_HJs.png\" alt=\"Fig9\" width=\"100%\"/>\n",
       "\n",
       "**Figure 9. -** $\\myplanet$ in context with JWST transmission spectra published for hot Jupiters ($\\revision${here assumed as exoplanets with} temperatures $1,000$ K -- $2,000$ K, radii R$_\\mathrm{p} > 0.5$ R$_\\mathrm{Jup}$, masses M$_\\mathrm{p} > 0.2$ M$_\\mathrm{Jup}$) in the 2.5 -- 5.2 $\\microns$ wavelength range: WASP-39b \\citepalias{Carter2024AWASP-39b}, HD 189733b  (Fu2024HydrogenExoplanet) , HD 209458b  (Xue20242) , and WASP-15b  ([ and Kirk 2025](https://ui.adsabs.harvard.edu/abs/2025MNRAS.537.3027K)) . The colours represent the order of temperatures, from light to dark: WASP-39b ($\\sim1170$ K), HD 189733b ($\\sim1200$ K), HD 209458b ($\\sim1460$ K),  WASP-94Ab ($\\sim1500$ K; best-fitting offset applied), and WASP-15b ($\\sim1680$ K). The scale heights are computed using a mean molecular mass of $\\mu = 2.3$ amu and normalised using the minimum of the transit depth.   (*fig:jwst-HJs-transmission-spectra*)\n",
       "\n",
       "</div><div id=\"qrcode\"><img src=https://api.qrserver.com/v1/create-qr-code/?size=100x100&data=\"https://arxiv.org/abs/2505.11224\"></div>"
      ],
      "text/plain": [
       "<IPython.core.display.Markdown object>"
      ]
     },
     "metadata": {},
     "output_type": "display_data"
    },
    {
     "data": {
      "text/markdown": [
       "<div class=\"macros\" style=\"visibility:hidden;\">\n",
       "$\\newcommand{\\ensuremath}{}$\n",
       "$\\newcommand{\\xspace}{}$\n",
       "$\\newcommand{\\object}[1]{\\texttt{#1}}$\n",
       "$\\newcommand{\\farcs}{{.}''}$\n",
       "$\\newcommand{\\farcm}{{.}'}$\n",
       "$\\newcommand{\\arcsec}{''}$\n",
       "$\\newcommand{\\arcmin}{'}$\n",
       "$\\newcommand{\\ion}[2]{#1#2}$\n",
       "$\\newcommand{\\textsc}[1]{\\textrm{#1}}$\n",
       "$\\newcommand{\\hl}[1]{\\textrm{#1}}$\n",
       "$\\newcommand{\\footnote}[1]{}$\n",
       "$\\newcommand{\\xiion}{\\xi_{\\rm{ion}}}$\n",
       "$\\newcommand{\\halpha}{H\\ensuremath{\\alpha}}$\n",
       "$\\newcommand{\\hbeta}{H\\ensuremath{\\beta}}$\n",
       "$\\newcommand{\\mstar}{\\ensuremath{\\log(M_{\\rm{\\star}}/M_{\\rm{\\odot}})}}$\n",
       "$\\newcommand{\\orcidauthor}[3]{\\author{\\href{http://orcid.org/#1}{#2^{#3}}}}$\n",
       "$\\newcommand{\\nion}[2]{#1 \\textsc{#2}}$</div>\n",
       "\n",
       "\n",
       "\n",
       "<div id=\"title\">\n",
       "\n",
       "# $\\vspace{-1cm}$ A Cosmic Miracle: A Remarkably Luminous Galaxy at $\\MakeLowercase{z}_{\\MakeLowercase{\\rm{spec}}}=14.44$ Confirmed with JWST $\\vspace{-1.8cm}$\n",
       "\n",
       "</div>\n",
       "<div id=\"comments\">\n",
       "\n",
       "[![arXiv](https://img.shields.io/badge/arXiv-2505.11263-b31b1b.svg)](https://arxiv.org/abs/2505.11263)<mark>Appeared on: 2025-05-19</mark> -  _Submitted to the Open Journal of Astrophysics. Comments greatly appreciated and warmly welcomed!_\n",
       "\n",
       "</div>\n",
       "<div id=\"authors\">\n",
       "\n",
       "R. P. Naidu, et al. -- incl., <mark>A. d. Graaff</mark>, <mark>F. Walter</mark>\n",
       "\n",
       "</div>\n",
       "<div id=\"abstract\">\n",
       "\n",
       "**Abstract:** JWST has revealed a stunning population of bright galaxies at surprisingly early epochs, $z>10$ , where few such sources were expected. Here we present the most distant example of this class yet -- MoM-z14, a luminous ( $M_{\\rm{UV}}=-20.2$ ) source in the COSMOS legacy field at $z_{\\rm{spec}}=14.44^{+0.02}_{-0.02}$ that expands the observational frontier to a mere 280 million years after the Big Bang. The redshift is confirmed with NIRSpec/prism spectroscopy through a sharp Lyman- $\\alpha$ break and $\\approx3\\sigma$ detections of five rest-UV emission lines. The number density of bright $z_{\\rm{spec}}\\approx14-15$ sources implied by our \"Mirage or Miracle\" survey spanning $\\approx350$ arcmin $^{2}$ is $>100\\times$ larger ( $182^{+329}_{-105}\\times$ ) than pre-JWST consensus models. The high EWs of UV lines ( ${\\approx}15{-}35$ Å) signal a rising star-formation history, with a ${\\approx}10\\times$ increase in the last 5 Myr ( $\\rm{SFR_{\\rm{5Myr}}}/\\rm{SFR_{\\rm{50Myr}}}=9.9^{+3.0}_{-5.8}$ ). The source is extremely compact (circularized $r_{\\rm{e}} = 74^{+15}_{-12}$ pc), and yet resolved, suggesting an AGN is not the dominant source of light. The steep UV slope ( $\\beta=-2.5^{+0.2}_{-0.2}$ ) implies negligible dust attenuation and a young stellar population. The absence of a strong damping wing may indicate that the immediate surroundings of MoM-z14 are partially ionized at a redshift where virtually every reionization model predicts a $\\approx100\\%$ neutral fraction. The nitrogen emission and highly super-solar [ N/C ] $>1$ hint at an abundance pattern similar to local globular clusters that may have once hosted luminous supermassive stars. Since this abundance pattern is also common among the most ancient stars born in the Milky Way, we may be directly witnessing the formation of such stars in dense clusters, connecting galaxy evolution across the entire sweep of cosmic time.\n",
       "\n",
       "</div>\n",
       "\n",
       "<div id=\"div_fig1\">\n",
       "\n",
       "<img src=\"tmp_2505.11263/./figs/z_summary.png\" alt=\"Fig6\" width=\"100%\"/>\n",
       "\n",
       "**Figure 6. -** ** Summary of spectroscopic redshift constraints.****Top-left:** We use the sharp Lyman-$\\alpha$ break to derive the redshift ($z_{\\rm{break}}$). Our best-fit model (hot pink) accounts for the IGM neutral fraction along the line of sight ($\\rm{x}_{\\rm{HI}}$) as well as the shape and normalization of the spectrum ($\\beta_{\\rm{UV}}$, $M_{\\rm{UV}}$). See \\S\\ref{sec:lyaz} for details. **Top-right:** We are also able to determine the redshift by fitting the rest-UV emission lines that are detected in this source. Each individual line or blend is detected at $\\approx3\\sigma$. Collectively, this array of lines is detected at $\\approx6\\sigma$ resulting in an extremely precise redshift. **Bottom-left:** The photometric redshift distribution derived from NIRCam (silver) shows multiple peaks at $z<5$(\"Schrodinger galaxy\"-like solutions; \\citealt{Naidu22Schro}) and a dominant $z>10$ solution that led us to target this source. **Bottom-right:** Comparison of the break redshift and UV line redshift posteriors. Only a handful of galaxies of comparable luminosity at $z>10$ have shown a UV spectrum with multiple lines allowing for a precise redshift determination (\\citealt{Bunker23,Castellano24}; both interestingly point-like sources interpreted as putative AGN). Typically, only break redshifts with relatively wide posteriors as shown in pink have been possible \\citep[e.g.,][]{Curtis-Lake23, Wang23UNCOVERz12, Carniani24}.  (*fig:specz*)\n",
       "\n",
       "</div>\n",
       "<div id=\"div_fig2\">\n",
       "\n",
       "<img src=\"tmp_2505.11263/./figs/Re_v_Redshift_combo_v2.png\" alt=\"Fig8\" width=\"100%\"/>\n",
       "\n",
       "**Figure 8. -** ** A size-abundance bimodality among bright $z>10$ galaxies.**Figure adapted from \\citet{Harikane2025UVLF} who reported this trend (see also \\citealt[][]{Schaerer24}). Two types of sources are evident in the size-redshift plane (left) and size-EW plane (right) -- compact $\\nion${N}{iv}] emitters such as MoM-z14 (purple, navy) and extended sources with weak $\\nion${N}{iv}] such as JADES-GS-z14-0 (orange). The extrapolated size evolution from \\citet{Shibuya15}(silver band) is shown in the left panel for guidance. MoM-z14 joins GNz11 and GLASSz12/GHz2 as extremely compact outliers at $z>10$, with sizes $<5-10\\times$ what would be expected from the scaling relation. The measurements shown here are compiled from the following sources: GNz11 \\citep[][]{Tacchella23GNz11, Bunker23}, GLASS-z12/GHz2 \\citep[][]{Castellano24}, GNz9p4 \\citep[][]{Schaerer24}, JADES-GS-z14-0 \\citep[][]{Carniani24}, Maisie's Galaxy \\citep[][]{Finkelstein23, ArrabalHaro23}, RXCJ2248-ID \\citep[][]{Topping24}, Gz9p3 \\citep[][]{Boyett24}, and CEERS2-588 \\citep[][]{Harikane24specuvlf}.  (*fig:bimodal*)\n",
       "\n",
       "</div>\n",
       "<div id=\"div_fig3\">\n",
       "\n",
       "<img src=\"tmp_2505.11263/./figs/cue_posterior_v2.png\" alt=\"Fig10\" width=\"100%\"/>\n",
       "\n",
       "**Figure 10. -** **Emission line modeling results using \\texttt{Cue**}\\citep[][]{Li24cue}. MoM-z14's UV spectrum, with hints of several emission lines, provides a unique window into the physics of bright galaxies at cosmic dawn -- the ionizing sources powering them ($\\log \\xi_{\\rm{ion}}$), the state of the gas in their ISM ($\\log n_{\\rm{H}}$, $\\log U$), and their chemical abundance patterns ([O/H], [N/O], [C/O]). Satisfactory fits to the emission lines are shown in the top-right panel, while the corner-plot illustrates the inferred posteriors. Even with only SNR$\\approx3$ emission lines, and despite the low-resolution of the data (e.g., $\\nion${He}{ii}$\\lambda1640$Å+$\\nion${O}{iii}]$\\lambda1661,1666$Å are observed as a blend), the model is not entirely unconstrained. Consistent with the lack of neutral gas around the source, a highly ionizing radiation field is inferred (e.g., $\\log \\xi_{\\rm{ion}}/\\rm{erg s^{-1}}\\approx26.3$). There are also indications of a super-solar [N/O] and sub-solar [C/O] abundance pattern already in place by $z=14.44$ reminiscent of GN-z11 \\citep[e.g.,][]{Cameron23} and other recently discovered N-emitters \\citep[e.g.,][]{Schaerer24}.\n",
       "     (*fig:cue*)\n",
       "\n",
       "</div><div id=\"qrcode\"><img src=https://api.qrserver.com/v1/create-qr-code/?size=100x100&data=\"https://arxiv.org/abs/2505.11263\"></div>"
      ],
      "text/plain": [
       "<IPython.core.display.Markdown object>"
      ]
     },
     "metadata": {},
     "output_type": "display_data"
    }
   ],
   "source": [
    "[display(Markdown(k[1])) for k in documents];"
   ]
  },
  {
   "cell_type": "markdown",
   "id": "873873a4",
   "metadata": {
    "papermill": {
     "duration": 0.005528,
     "end_time": "2025-05-19T04:21:19.669644",
     "exception": false,
     "start_time": "2025-05-19T04:21:19.664116",
     "status": "completed"
    },
    "tags": []
   },
   "source": [
    "# Create HTML index"
   ]
  },
  {
   "cell_type": "code",
   "execution_count": 10,
   "id": "cf665672",
   "metadata": {
    "execution": {
     "iopub.execute_input": "2025-05-19T04:21:19.682821Z",
     "iopub.status.busy": "2025-05-19T04:21:19.682042Z",
     "iopub.status.idle": "2025-05-19T04:21:19.693959Z",
     "shell.execute_reply": "2025-05-19T04:21:19.693269Z"
    },
    "papermill": {
     "duration": 0.019727,
     "end_time": "2025-05-19T04:21:19.695074",
     "exception": false,
     "start_time": "2025-05-19T04:21:19.675347",
     "status": "completed"
    },
    "tags": []
   },
   "outputs": [
    {
     "name": "stdout",
     "output_type": "stream",
     "text": [
      "493  publications files modified in the last 7 days.\n"
     ]
    }
   ],
   "source": [
    "from datetime import datetime, timedelta, timezone\n",
    "from glob import glob\n",
    "import os\n",
    "\n",
    "files = glob('_build/html/*.md')\n",
    "days = 7\n",
    "now = datetime.today()\n",
    "res = []\n",
    "for fk in files:\n",
    "    stat_result = os.stat(fk).st_ctime\n",
    "    modified = datetime.fromtimestamp(stat_result, tz=timezone.utc).replace(tzinfo=None)\n",
    "    delta = now.today() - modified\n",
    "    if delta <= timedelta(days=days):\n",
    "        res.append((delta.seconds, fk))\n",
    "res = [k[1] for k in reversed(sorted(res, key=lambda x:x[1]))]\n",
    "npub = len(res)\n",
    "print(len(res), f\" publications files modified in the last {days:d} days.\")\n",
    "# [ print('\\t', k) for k in res ];"
   ]
  },
  {
   "cell_type": "code",
   "execution_count": 11,
   "id": "015de740",
   "metadata": {
    "execution": {
     "iopub.execute_input": "2025-05-19T04:21:19.707918Z",
     "iopub.status.busy": "2025-05-19T04:21:19.707641Z",
     "iopub.status.idle": "2025-05-19T04:21:19.733425Z",
     "shell.execute_reply": "2025-05-19T04:21:19.732787Z"
    },
    "papermill": {
     "duration": 0.033538,
     "end_time": "2025-05-19T04:21:19.734523",
     "exception": false,
     "start_time": "2025-05-19T04:21:19.700985",
     "status": "completed"
    },
    "tags": []
   },
   "outputs": [
    {
     "name": "stdout",
     "output_type": "stream",
     "text": [
      "11  publications in the last 7 days.\n"
     ]
    }
   ],
   "source": [
    "import datetime\n",
    "from glob import glob\n",
    "\n",
    "def get_last_n_days(lst, days=1):\n",
    "    \"\"\" Get the documents from the last n days \"\"\"\n",
    "    sorted_lst = sorted(lst, key=lambda x: x[1], reverse=True)\n",
    "    for fname, date in sorted_lst:\n",
    "        if date >= str(datetime.date.today() - datetime.timedelta(days=days)):\n",
    "            yield fname\n",
    "\n",
    "def extract_appearance_dates(lst_file):\n",
    "    dates = []\n",
    "\n",
    "    def get_date(line):\n",
    "        return line\\\n",
    "            .split('Appeared on:')[-1]\\\n",
    "            .split('</mark>')[0].strip()\n",
    "\n",
    "    for fname in lst:\n",
    "        with open(fname, 'r') as f:\n",
    "            found_date = False\n",
    "            for line in f:\n",
    "                if not found_date:\n",
    "                    if \"Appeared on\" in line:\n",
    "                        found_date = True\n",
    "                        dates.append((fname, get_date(line)))\n",
    "                else:\n",
    "                    break\n",
    "    return dates\n",
    "\n",
    "from glob import glob\n",
    "lst = glob('_build/html/*md')\n",
    "days = 7\n",
    "dates = extract_appearance_dates(lst)\n",
    "res = list(get_last_n_days(dates, days))\n",
    "npub = len(res)\n",
    "print(len(res), f\" publications in the last {days:d} days.\")"
   ]
  },
  {
   "cell_type": "code",
   "execution_count": 12,
   "id": "52ca0208",
   "metadata": {
    "execution": {
     "iopub.execute_input": "2025-05-19T04:21:19.747849Z",
     "iopub.status.busy": "2025-05-19T04:21:19.747210Z",
     "iopub.status.idle": "2025-05-19T04:21:19.753040Z",
     "shell.execute_reply": "2025-05-19T04:21:19.752390Z"
    },
    "papermill": {
     "duration": 0.013637,
     "end_time": "2025-05-19T04:21:19.754184",
     "exception": false,
     "start_time": "2025-05-19T04:21:19.740547",
     "status": "completed"
    },
    "scrolled": false,
    "tags": []
   },
   "outputs": [],
   "source": [
    "def create_carousel(npub=4):\n",
    "    \"\"\" Generate the HTML code for a carousel with `npub` slides \"\"\"\n",
    "    carousel = [\"\"\"  <div class=\"carousel\" \"\"\",\n",
    "                \"\"\"       data-flickity='{ \"autoPlay\": 10000, \"adaptiveHeight\": true, \"resize\": true, \"wrapAround\": true, \"pauseAutoPlayOnHover\": true, \"groupCells\": 1 }' id=\"asyncTypeset\">\"\"\"\n",
    "                ]\n",
    "    \n",
    "    item_str = \"\"\"    <div class=\"carousel-cell\"> <div id=\"slide{k}\" class=\"md_view\">Content {k}</div> </div>\"\"\"\n",
    "    for k in range(1, npub + 1):\n",
    "        carousel.append(item_str.format(k=k))\n",
    "    carousel.append(\"  </div>\")\n",
    "    return '\\n'.join(carousel)\n",
    "\n",
    "def create_grid(npub=4):\n",
    "    \"\"\" Generate the HTML code for a flat grid with `npub` slides \"\"\"\n",
    "    grid = [\"\"\"  <div class=\"grid\"> \"\"\",\n",
    "                ]\n",
    "    \n",
    "    item_str = \"\"\"    <div class=\"grid-item\"> <div id=\"slide{k}\" class=\"md_view\">Content {k}</div> </div>\"\"\"\n",
    "    for k in range(1, npub + 1):\n",
    "        grid.append(item_str.format(k=k))\n",
    "    grid.append(\"  </div>\")\n",
    "    return '\\n'.join(grid)"
   ]
  },
  {
   "cell_type": "code",
   "execution_count": 13,
   "id": "a6eac5b6",
   "metadata": {
    "execution": {
     "iopub.execute_input": "2025-05-19T04:21:19.767757Z",
     "iopub.status.busy": "2025-05-19T04:21:19.767071Z",
     "iopub.status.idle": "2025-05-19T04:21:19.772816Z",
     "shell.execute_reply": "2025-05-19T04:21:19.772261Z"
    },
    "papermill": {
     "duration": 0.013697,
     "end_time": "2025-05-19T04:21:19.773946",
     "exception": false,
     "start_time": "2025-05-19T04:21:19.760249",
     "status": "completed"
    },
    "scrolled": false,
    "tags": []
   },
   "outputs": [],
   "source": [
    "carousel = create_carousel(npub)\n",
    "docs = ', '.join(['\"{0:s}\"'.format(k.split('/')[-1]) for k in res])\n",
    "slides = ', '.join([f'\"slide{k}\"' for k in range(1, npub + 1)])\n",
    "\n",
    "with open(\"daily_template.html\", \"r\") as tpl:\n",
    "    page = tpl.read()\n",
    "    page = page.replace(\"{%-- carousel:s --%}\", carousel)\\\n",
    "               .replace(\"{%-- suptitle:s --%}\",  \"7-day archives\" )\\\n",
    "               .replace(\"{%-- docs:s --%}\", docs)\\\n",
    "               .replace(\"{%-- slides:s --%}\", slides)\n",
    "    \n",
    "with open(\"_build/html/index_7days.html\", 'w') as fout:\n",
    "    fout.write(page)"
   ]
  },
  {
   "cell_type": "code",
   "execution_count": 14,
   "id": "adc1a1ec",
   "metadata": {
    "execution": {
     "iopub.execute_input": "2025-05-19T04:21:19.787286Z",
     "iopub.status.busy": "2025-05-19T04:21:19.786719Z",
     "iopub.status.idle": "2025-05-19T04:21:19.795548Z",
     "shell.execute_reply": "2025-05-19T04:21:19.794950Z"
    },
    "papermill": {
     "duration": 0.016697,
     "end_time": "2025-05-19T04:21:19.796710",
     "exception": false,
     "start_time": "2025-05-19T04:21:19.780013",
     "status": "completed"
    },
    "tags": []
   },
   "outputs": [
    {
     "name": "stdout",
     "output_type": "stream",
     "text": [
      "3  publications in the last day.\n"
     ]
    }
   ],
   "source": [
    "# redo for today\n",
    "days = 1\n",
    "res = list(get_last_n_days(dates, days))\n",
    "npub = len(res)\n",
    "print(len(res), f\" publications in the last day.\")\n",
    "\n",
    "carousel = create_carousel(npub)\n",
    "docs = ', '.join(['\"{0:s}\"'.format(k.split('/')[-1]) for k in res])\n",
    "slides = ', '.join([f'\"slide{k}\"' for k in range(1, npub + 1)])\n",
    "\n",
    "with open(\"daily_template.html\", \"r\") as tpl:\n",
    "    page = tpl.read()\n",
    "    page = page.replace(\"{%-- carousel:s --%}\", carousel)\\\n",
    "               .replace(\"{%-- suptitle:s --%}\",  \"Daily\" )\\\n",
    "               .replace(\"{%-- docs:s --%}\", docs)\\\n",
    "               .replace(\"{%-- slides:s --%}\", slides)\n",
    "    \n",
    "# print(carousel, docs, slides)\n",
    "# print(page)\n",
    "with open(\"_build/html/index_daily.html\", 'w') as fout:\n",
    "    fout.write(page)"
   ]
  },
  {
   "cell_type": "code",
   "execution_count": 15,
   "id": "00eece82",
   "metadata": {
    "execution": {
     "iopub.execute_input": "2025-05-19T04:21:19.810071Z",
     "iopub.status.busy": "2025-05-19T04:21:19.809540Z",
     "iopub.status.idle": "2025-05-19T04:21:19.816704Z",
     "shell.execute_reply": "2025-05-19T04:21:19.816138Z"
    },
    "papermill": {
     "duration": 0.015053,
     "end_time": "2025-05-19T04:21:19.817855",
     "exception": false,
     "start_time": "2025-05-19T04:21:19.802802",
     "status": "completed"
    },
    "scrolled": false,
    "tags": []
   },
   "outputs": [
    {
     "name": "stdout",
     "output_type": "stream",
     "text": [
      "6  6 publications selected.\n"
     ]
    }
   ],
   "source": [
    "# Create the flat grid of the last N papers (fixed number regardless of dates)\n",
    "from itertools import islice \n",
    "\n",
    "npub = 6\n",
    "res = [k[0] for k in (islice(reversed(sorted(dates, key=lambda x: x[1])), 6))]\n",
    "print(len(res), f\" {npub} publications selected.\")\n",
    "\n",
    "grid = create_grid(npub)\n",
    "docs = ', '.join(['\"{0:s}\"'.format(k.split('/')[-1]) for k in res])\n",
    "slides = ', '.join([f'\"slide{k}\"' for k in range(1, npub + 1)])\n",
    "\n",
    "with open(\"grid_template.html\", \"r\") as tpl:\n",
    "    page = tpl.read()\n",
    "    page = page.replace(\"{%-- grid-content:s --%}\", grid)\\\n",
    "               .replace(\"{%-- suptitle:s --%}\",  f\"Last {npub:,d} papers\" )\\\n",
    "               .replace(\"{%-- docs:s --%}\", docs)\\\n",
    "               .replace(\"{%-- slides:s --%}\", slides)\n",
    "    \n",
    "# print(grid, docs, slides)\n",
    "# print(page)\n",
    "with open(\"_build/html/index_npub_grid.html\", 'w') as fout:\n",
    "    fout.write(page)"
   ]
  }
 ],
 "metadata": {
  "kernelspec": {
   "display_name": "Python 3 (ipykernel)",
   "language": "python",
   "name": "python3"
  },
  "language_info": {
   "codemirror_mode": {
    "name": "ipython",
    "version": 3
   },
   "file_extension": ".py",
   "mimetype": "text/x-python",
   "name": "python",
   "nbconvert_exporter": "python",
   "pygments_lexer": "ipython3",
   "version": "3.9.22"
  },
  "papermill": {
   "default_parameters": {},
   "duration": 89.560042,
   "end_time": "2025-05-19T04:21:20.140588",
   "environment_variables": {},
   "exception": null,
   "input_path": "MPIA daily digest.ipynb",
   "output_path": "log.ipynb",
   "parameters": {},
   "start_time": "2025-05-19T04:19:50.580546",
   "version": "2.6.0"
  },
  "vscode": {
   "interpreter": {
    "hash": "aee8b7b246df8f9039afb4144a1f6fd8d2ca17a180786b69acc140d282b71a49"
   }
  },
  "widgets": {
   "application/vnd.jupyter.widget-state+json": {
    "state": {
     "0fa1889bfb344bb3b2fbc53fc14688bb": {
      "model_module": "@jupyter-widgets/base",
      "model_module_version": "2.0.0",
      "model_name": "LayoutModel",
      "state": {
       "_model_module": "@jupyter-widgets/base",
       "_model_module_version": "2.0.0",
       "_model_name": "LayoutModel",
       "_view_count": null,
       "_view_module": "@jupyter-widgets/base",
       "_view_module_version": "2.0.0",
       "_view_name": "LayoutView",
       "align_content": null,
       "align_items": null,
       "align_self": null,
       "border_bottom": null,
       "border_left": null,
       "border_right": null,
       "border_top": null,
       "bottom": null,
       "display": null,
       "flex": null,
       "flex_flow": null,
       "grid_area": null,
       "grid_auto_columns": null,
       "grid_auto_flow": null,
       "grid_auto_rows": null,
       "grid_column": null,
       "grid_gap": null,
       "grid_row": null,
       "grid_template_areas": null,
       "grid_template_columns": null,
       "grid_template_rows": null,
       "height": null,
       "justify_content": null,
       "justify_items": null,
       "left": null,
       "margin": null,
       "max_height": null,
       "max_width": null,
       "min_height": null,
       "min_width": null,
       "object_fit": null,
       "object_position": null,
       "order": null,
       "overflow": null,
       "padding": null,
       "right": null,
       "top": null,
       "visibility": null,
       "width": null
      }
     },
     "4417ea68c4ae42729488a00877b1cc8c": {
      "model_module": "@jupyter-widgets/controls",
      "model_module_version": "2.0.0",
      "model_name": "FloatProgressModel",
      "state": {
       "_dom_classes": [],
       "_model_module": "@jupyter-widgets/controls",
       "_model_module_version": "2.0.0",
       "_model_name": "FloatProgressModel",
       "_view_count": null,
       "_view_module": "@jupyter-widgets/controls",
       "_view_module_version": "2.0.0",
       "_view_name": "ProgressView",
       "bar_style": "success",
       "description": "",
       "description_allow_html": false,
       "layout": "IPY_MODEL_e3329e8d3b474dc59e9f15d4998fb758",
       "max": 7.0,
       "min": 0.0,
       "orientation": "horizontal",
       "style": "IPY_MODEL_e0222f5d10d34f058f98992b2fc03ddf",
       "tabbable": null,
       "tooltip": null,
       "value": 7.0
      }
     },
     "49a192e2692f4fc98d4ab7d7e386ba56": {
      "model_module": "@jupyter-widgets/controls",
      "model_module_version": "2.0.0",
      "model_name": "HTMLStyleModel",
      "state": {
       "_model_module": "@jupyter-widgets/controls",
       "_model_module_version": "2.0.0",
       "_model_name": "HTMLStyleModel",
       "_view_count": null,
       "_view_module": "@jupyter-widgets/base",
       "_view_module_version": "2.0.0",
       "_view_name": "StyleView",
       "background": null,
       "description_width": "",
       "font_size": null,
       "text_color": null
      }
     },
     "55cc5ed337934003b99eb76c8c8c58c9": {
      "model_module": "@jupyter-widgets/controls",
      "model_module_version": "2.0.0",
      "model_name": "HTMLModel",
      "state": {
       "_dom_classes": [],
       "_model_module": "@jupyter-widgets/controls",
       "_model_module_version": "2.0.0",
       "_model_name": "HTMLModel",
       "_view_count": null,
       "_view_module": "@jupyter-widgets/controls",
       "_view_module_version": "2.0.0",
       "_view_name": "HTMLView",
       "description": "",
       "description_allow_html": false,
       "layout": "IPY_MODEL_971ffd5641d84736b0e553f7c30818d9",
       "placeholder": "​",
       "style": "IPY_MODEL_49a192e2692f4fc98d4ab7d7e386ba56",
       "tabbable": null,
       "tooltip": null,
       "value": "100%"
      }
     },
     "815817b73f404f7ea4c2cb8549e01eea": {
      "model_module": "@jupyter-widgets/controls",
      "model_module_version": "2.0.0",
      "model_name": "HTMLStyleModel",
      "state": {
       "_model_module": "@jupyter-widgets/controls",
       "_model_module_version": "2.0.0",
       "_model_name": "HTMLStyleModel",
       "_view_count": null,
       "_view_module": "@jupyter-widgets/base",
       "_view_module_version": "2.0.0",
       "_view_name": "StyleView",
       "background": null,
       "description_width": "",
       "font_size": null,
       "text_color": null
      }
     },
     "971ffd5641d84736b0e553f7c30818d9": {
      "model_module": "@jupyter-widgets/base",
      "model_module_version": "2.0.0",
      "model_name": "LayoutModel",
      "state": {
       "_model_module": "@jupyter-widgets/base",
       "_model_module_version": "2.0.0",
       "_model_name": "LayoutModel",
       "_view_count": null,
       "_view_module": "@jupyter-widgets/base",
       "_view_module_version": "2.0.0",
       "_view_name": "LayoutView",
       "align_content": null,
       "align_items": null,
       "align_self": null,
       "border_bottom": null,
       "border_left": null,
       "border_right": null,
       "border_top": null,
       "bottom": null,
       "display": null,
       "flex": null,
       "flex_flow": null,
       "grid_area": null,
       "grid_auto_columns": null,
       "grid_auto_flow": null,
       "grid_auto_rows": null,
       "grid_column": null,
       "grid_gap": null,
       "grid_row": null,
       "grid_template_areas": null,
       "grid_template_columns": null,
       "grid_template_rows": null,
       "height": null,
       "justify_content": null,
       "justify_items": null,
       "left": null,
       "margin": null,
       "max_height": null,
       "max_width": null,
       "min_height": null,
       "min_width": null,
       "object_fit": null,
       "object_position": null,
       "order": null,
       "overflow": null,
       "padding": null,
       "right": null,
       "top": null,
       "visibility": null,
       "width": null
      }
     },
     "c987764072f34607a02ab8ffa8843e98": {
      "model_module": "@jupyter-widgets/base",
      "model_module_version": "2.0.0",
      "model_name": "LayoutModel",
      "state": {
       "_model_module": "@jupyter-widgets/base",
       "_model_module_version": "2.0.0",
       "_model_name": "LayoutModel",
       "_view_count": null,
       "_view_module": "@jupyter-widgets/base",
       "_view_module_version": "2.0.0",
       "_view_name": "LayoutView",
       "align_content": null,
       "align_items": null,
       "align_self": null,
       "border_bottom": null,
       "border_left": null,
       "border_right": null,
       "border_top": null,
       "bottom": null,
       "display": null,
       "flex": null,
       "flex_flow": null,
       "grid_area": null,
       "grid_auto_columns": null,
       "grid_auto_flow": null,
       "grid_auto_rows": null,
       "grid_column": null,
       "grid_gap": null,
       "grid_row": null,
       "grid_template_areas": null,
       "grid_template_columns": null,
       "grid_template_rows": null,
       "height": null,
       "justify_content": null,
       "justify_items": null,
       "left": null,
       "margin": null,
       "max_height": null,
       "max_width": null,
       "min_height": null,
       "min_width": null,
       "object_fit": null,
       "object_position": null,
       "order": null,
       "overflow": null,
       "padding": null,
       "right": null,
       "top": null,
       "visibility": null,
       "width": null
      }
     },
     "cdd3682b42c84524847094e44177dd74": {
      "model_module": "@jupyter-widgets/controls",
      "model_module_version": "2.0.0",
      "model_name": "HBoxModel",
      "state": {
       "_dom_classes": [],
       "_model_module": "@jupyter-widgets/controls",
       "_model_module_version": "2.0.0",
       "_model_name": "HBoxModel",
       "_view_count": null,
       "_view_module": "@jupyter-widgets/controls",
       "_view_module_version": "2.0.0",
       "_view_name": "HBoxView",
       "box_style": "",
       "children": [
        "IPY_MODEL_55cc5ed337934003b99eb76c8c8c58c9",
        "IPY_MODEL_4417ea68c4ae42729488a00877b1cc8c",
        "IPY_MODEL_efe5616eb322466ea6b290833700ffb4"
       ],
       "layout": "IPY_MODEL_c987764072f34607a02ab8ffa8843e98",
       "tabbable": null,
       "tooltip": null
      }
     },
     "e0222f5d10d34f058f98992b2fc03ddf": {
      "model_module": "@jupyter-widgets/controls",
      "model_module_version": "2.0.0",
      "model_name": "ProgressStyleModel",
      "state": {
       "_model_module": "@jupyter-widgets/controls",
       "_model_module_version": "2.0.0",
       "_model_name": "ProgressStyleModel",
       "_view_count": null,
       "_view_module": "@jupyter-widgets/base",
       "_view_module_version": "2.0.0",
       "_view_name": "StyleView",
       "bar_color": null,
       "description_width": ""
      }
     },
     "e3329e8d3b474dc59e9f15d4998fb758": {
      "model_module": "@jupyter-widgets/base",
      "model_module_version": "2.0.0",
      "model_name": "LayoutModel",
      "state": {
       "_model_module": "@jupyter-widgets/base",
       "_model_module_version": "2.0.0",
       "_model_name": "LayoutModel",
       "_view_count": null,
       "_view_module": "@jupyter-widgets/base",
       "_view_module_version": "2.0.0",
       "_view_name": "LayoutView",
       "align_content": null,
       "align_items": null,
       "align_self": null,
       "border_bottom": null,
       "border_left": null,
       "border_right": null,
       "border_top": null,
       "bottom": null,
       "display": null,
       "flex": null,
       "flex_flow": null,
       "grid_area": null,
       "grid_auto_columns": null,
       "grid_auto_flow": null,
       "grid_auto_rows": null,
       "grid_column": null,
       "grid_gap": null,
       "grid_row": null,
       "grid_template_areas": null,
       "grid_template_columns": null,
       "grid_template_rows": null,
       "height": null,
       "justify_content": null,
       "justify_items": null,
       "left": null,
       "margin": null,
       "max_height": null,
       "max_width": null,
       "min_height": null,
       "min_width": null,
       "object_fit": null,
       "object_position": null,
       "order": null,
       "overflow": null,
       "padding": null,
       "right": null,
       "top": null,
       "visibility": null,
       "width": null
      }
     },
     "efe5616eb322466ea6b290833700ffb4": {
      "model_module": "@jupyter-widgets/controls",
      "model_module_version": "2.0.0",
      "model_name": "HTMLModel",
      "state": {
       "_dom_classes": [],
       "_model_module": "@jupyter-widgets/controls",
       "_model_module_version": "2.0.0",
       "_model_name": "HTMLModel",
       "_view_count": null,
       "_view_module": "@jupyter-widgets/controls",
       "_view_module_version": "2.0.0",
       "_view_name": "HTMLView",
       "description": "",
       "description_allow_html": false,
       "layout": "IPY_MODEL_0fa1889bfb344bb3b2fbc53fc14688bb",
       "placeholder": "​",
       "style": "IPY_MODEL_815817b73f404f7ea4c2cb8549e01eea",
       "tabbable": null,
       "tooltip": null,
       "value": " 7/7 [01:04&lt;00:00, 14.72s/it]"
      }
     }
    },
    "version_major": 2,
    "version_minor": 0
   }
  }
 },
 "nbformat": 4,
 "nbformat_minor": 5
}