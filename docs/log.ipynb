{
 "cells": [
  {
   "cell_type": "markdown",
   "id": "92bcb855",
   "metadata": {
    "papermill": {
     "duration": 0.003944,
     "end_time": "2024-11-12T04:10:29.255221",
     "exception": false,
     "start_time": "2024-11-12T04:10:29.251277",
     "status": "completed"
    },
    "tags": []
   },
   "source": [
    "# MPIA Arxiv on Deck 2\n",
    "\n",
    "Contains the steps to produce the paper extractions."
   ]
  },
  {
   "cell_type": "code",
   "execution_count": 1,
   "id": "3a0d6e11",
   "metadata": {
    "execution": {
     "iopub.execute_input": "2024-11-12T04:10:29.263192Z",
     "iopub.status.busy": "2024-11-12T04:10:29.262509Z",
     "iopub.status.idle": "2024-11-12T04:10:29.690472Z",
     "shell.execute_reply": "2024-11-12T04:10:29.689732Z"
    },
    "papermill": {
     "duration": 0.433563,
     "end_time": "2024-11-12T04:10:29.692107",
     "exception": false,
     "start_time": "2024-11-12T04:10:29.258544",
     "status": "completed"
    },
    "tags": []
   },
   "outputs": [],
   "source": [
    "# Imports\n",
    "import os\n",
    "from IPython.display import Markdown, display\n",
    "from tqdm.notebook import tqdm\n",
    "import warnings\n",
    "from PIL import Image \n",
    "import re\n",
    "\n",
    "# requires arxiv_on_deck_2\n",
    "\n",
    "from arxiv_on_deck_2.arxiv2 import (get_new_papers, \n",
    "                                    get_paper_from_identifier,\n",
    "                                    retrieve_document_source, \n",
    "                                    get_markdown_badge)\n",
    "from arxiv_on_deck_2 import (latex,\n",
    "                             latex_bib,\n",
    "                             mpia,\n",
    "                             highlight_authors_in_list)\n",
    "\n",
    "# Sometimes images are really big\n",
    "Image.MAX_IMAGE_PIXELS = 1000000000 "
   ]
  },
  {
   "cell_type": "code",
   "execution_count": 2,
   "id": "22aa9d44",
   "metadata": {
    "execution": {
     "iopub.execute_input": "2024-11-12T04:10:29.699520Z",
     "iopub.status.busy": "2024-11-12T04:10:29.699210Z",
     "iopub.status.idle": "2024-11-12T04:10:29.707366Z",
     "shell.execute_reply": "2024-11-12T04:10:29.706787Z"
    },
    "papermill": {
     "duration": 0.012952,
     "end_time": "2024-11-12T04:10:29.708367",
     "exception": false,
     "start_time": "2024-11-12T04:10:29.695415",
     "status": "completed"
    },
    "tags": []
   },
   "outputs": [],
   "source": [
    "# Some useful definitions.\n",
    "\n",
    "class AffiliationWarning(UserWarning):\n",
    "    pass\n",
    "\n",
    "class AffiliationError(RuntimeError):\n",
    "    pass\n",
    "\n",
    "def validation(source: str):\n",
    "    \"\"\"Raises error paper during parsing of source file\n",
    "    \n",
    "    Allows checks before parsing TeX code.\n",
    "    \n",
    "    Raises AffiliationWarning\n",
    "    \"\"\"\n",
    "    check = mpia.affiliation_verifications(source, verbose=True)\n",
    "    if check is not True:\n",
    "        raise AffiliationError(\"mpia.affiliation_verifications: \" + check)\n",
    "\n",
    "        \n",
    "warnings.simplefilter('always', AffiliationWarning)\n",
    "\n",
    "\n",
    "def get_markdown_qrcode(paper_id: str):\n",
    "    \"\"\" Generate a qrcode to the arxiv page using qrserver.com\n",
    "    \n",
    "    :param paper: Arxiv paper\n",
    "    :returns: markdown text\n",
    "    \"\"\"\n",
    "    url = r\"https://api.qrserver.com/v1/create-qr-code/?size=100x100&data=\"\n",
    "    txt = f\"\"\"<img src={url}\"https://arxiv.org/abs/{paper_id}\">\"\"\"\n",
    "    txt = '<div id=\"qrcode\">' + txt + '</div>'\n",
    "    return txt\n",
    "\n",
    "\n",
    "def clean_non_western_encoded_characters_commands(text: str) -> str:\n",
    "    \"\"\" Remove non-western encoded characters from a string\n",
    "    List may need to grow.\n",
    "    \n",
    "    :param text: the text to clean\n",
    "    :return: the cleaned text\n",
    "    \"\"\"\n",
    "    text = re.sub(r\"(\\\\begin{CJK}{UTF8}{gbsn})(.*?)(\\\\end{CJK})\", r\"\\2\", text)\n",
    "    return text\n",
    "\n",
    "\n",
    "def get_initials(name: str) -> str:\n",
    "    \"\"\" Get the short name, e.g., A.-B. FamName\n",
    "    :param name: full name\n",
    "    :returns: initials\n",
    "    \"\"\"\n",
    "    initials = []\n",
    "    # account for non western names often in ()\n",
    "    if '(' in name:\n",
    "        name = clean_non_western_encoded_characters_commands(name)\n",
    "        suffix = re.findall(r\"\\((.*?)\\)\", name)[0]\n",
    "        name = name.replace(f\"({suffix})\", '')\n",
    "    else:\n",
    "        suffix = ''\n",
    "    split = name.split()\n",
    "    for token in split[:-1]:\n",
    "        if '-' in token:\n",
    "            current = '-'.join([k[0] + '.' for k in token.split('-')])\n",
    "        else:\n",
    "            current = token[0] + '.'\n",
    "        initials.append(current)\n",
    "    initials.append(split[-1].strip())\n",
    "    if suffix:\n",
    "        initials.append(f\"({suffix})\")\n",
    "    return ' '.join(initials)"
   ]
  },
  {
   "cell_type": "markdown",
   "id": "14bd6310",
   "metadata": {
    "papermill": {
     "duration": 0.003026,
     "end_time": "2024-11-12T04:10:29.714540",
     "exception": false,
     "start_time": "2024-11-12T04:10:29.711514",
     "status": "completed"
    },
    "tags": []
   },
   "source": [
    "## get list of arxiv paper candidates\n",
    "\n",
    "We use the MPIA mitarbeiter list webpage from mpia.de to get author names\n",
    "We then get all new papers from Arxiv and match authors"
   ]
  },
  {
   "cell_type": "code",
   "execution_count": 3,
   "id": "7ea813a8",
   "metadata": {
    "execution": {
     "iopub.execute_input": "2024-11-12T04:10:29.721562Z",
     "iopub.status.busy": "2024-11-12T04:10:29.721191Z",
     "iopub.status.idle": "2024-11-12T04:10:46.748793Z",
     "shell.execute_reply": "2024-11-12T04:10:46.748164Z"
    },
    "papermill": {
     "duration": 17.032466,
     "end_time": "2024-11-12T04:10:46.749996",
     "exception": false,
     "start_time": "2024-11-12T04:10:29.717530",
     "status": "completed"
    },
    "tags": []
   },
   "outputs": [],
   "source": [
    "# deal with the author list and edge cases of people that cannot be consistent on their name  \n",
    "\n",
    "def filter_non_scientists(name: str) -> bool:\n",
    "    \"\"\" Loose filter on expected authorships\n",
    "\n",
    "    removing IT, administration, technical staff\n",
    "    :param name: name\n",
    "    :returns: False if name is not a scientist\n",
    "    \"\"\"\n",
    "    remove_list = ['Licht', 'Binroth', 'Witzel', 'Jordan',\n",
    "                   'Zähringer', 'Scheerer', 'Hoffmann', 'Düe',\n",
    "                   'Hellmich', 'Enkler-Scharpegge', 'Witte-Nguy',\n",
    "                   'Dehen', 'Beckmann', 'Jager', 'Jäger'\n",
    "                  ]\n",
    "\n",
    "    for k in remove_list:\n",
    "        if k in name:\n",
    "            return False\n",
    "    return True\n",
    "\n",
    "def add_author_to_list(author_list: list) -> list:\n",
    "    \"\"\" Add author to list if not already in list\n",
    "    \n",
    "    :param author: author name\n",
    "    :param author_list: list of authors\n",
    "    :returns: updated list of authors\n",
    "    \"\"\"\n",
    "    add_list = ['T. Henning']\n",
    "\n",
    "    for author in add_list:\n",
    "        if author not in author_list:\n",
    "            author_list.append(author)\n",
    "    return author_list\n",
    "\n",
    "# get list from MPIA website\n",
    "# filter for non-scientists (mpia.get_mpia_mitarbeiter_list() does some filtering)\n",
    "mpia_authors = [k[1] for k in mpia.get_mpia_mitarbeiter_list() if filter_non_scientists(k[1])]\n",
    "# add some missing author because of inconsistencies in their MPIA name and author name on papers\n",
    "mpia_authors = add_author_to_list(mpia_authors)"
   ]
  },
  {
   "cell_type": "code",
   "execution_count": 4,
   "id": "2645e73a",
   "metadata": {
    "execution": {
     "iopub.execute_input": "2024-11-12T04:10:46.757612Z",
     "iopub.status.busy": "2024-11-12T04:10:46.757332Z",
     "iopub.status.idle": "2024-11-12T04:10:47.529120Z",
     "shell.execute_reply": "2024-11-12T04:10:47.528395Z"
    },
    "papermill": {
     "duration": 0.776741,
     "end_time": "2024-11-12T04:10:47.530137",
     "exception": false,
     "start_time": "2024-11-12T04:10:46.753396",
     "status": "completed"
    },
    "tags": []
   },
   "outputs": [
    {
     "name": "stdout",
     "output_type": "stream",
     "text": [
      "P. Molliere  ->  P. Molliere  |  ['P. Molliere']\n",
      "W. Brandner  ->  W. Brandner  |  ['W. Brandner']\n",
      "G. Chauvin  ->  G. Chauvin  |  ['G. Chauvin']\n",
      "T. Henning  ->  T. Henning  |  ['T. Henning']\n",
      "X. Zhang  ->  X. Zhang  |  ['X. Zhang']\n",
      "J. Li  ->  J. Li  |  ['J. Li']\n",
      "F. Walter  ->  F. Walter  |  ['F. Walter']\n",
      "S. Kraus  ->  S. Kraus  |  ['S. Kraus']\n",
      "D. Mortimer  ->  D. Mortimer  |  ['D. Mortimer']\n"
     ]
    },
    {
     "name": "stdout",
     "output_type": "stream",
     "text": [
      "X. Zhang  ->  X. Zhang  |  ['X. Zhang']\n",
      "J. Li  ->  J. Li  |  ['J. Li']\n",
      "Arxiv has 75 new papers today\n",
      "          7 with possible author matches\n"
     ]
    }
   ],
   "source": [
    "new_papers = get_new_papers()\n",
    "# add manual references\n",
    "add_paper_refs = []\n",
    "new_papers.extend([get_paper_from_identifier(k) for k in add_paper_refs])\n",
    "\n",
    "def robust_call(fn, value, *args, **kwargs):\n",
    "    try:\n",
    "        return fn(value, *args, **kwargs)\n",
    "    except Exception:\n",
    "        return value\n",
    "\n",
    "candidates = []\n",
    "for paperk in new_papers:\n",
    "    # Check author list with their initials\n",
    "    normed_author_list = [robust_call(mpia.get_initials, k) for k in paperk['authors']]\n",
    "    hl_authors = highlight_authors_in_list(normed_author_list, mpia_authors, verbose=True)\n",
    "    matches = [(hl, orig) for hl, orig in zip(hl_authors, paperk['authors']) if 'mark' in hl]\n",
    "    paperk['authors'] = hl_authors\n",
    "    if matches:\n",
    "        # only select paper if an author matched our list\n",
    "        candidates.append(paperk)\n",
    "print(\"\"\"Arxiv has {0:,d} new papers today\"\"\".format(len(new_papers)))        \n",
    "print(\"\"\"          {0:,d} with possible author matches\"\"\".format(len(candidates)))"
   ]
  },
  {
   "cell_type": "markdown",
   "id": "3543b34a",
   "metadata": {
    "papermill": {
     "duration": 0.00325,
     "end_time": "2024-11-12T04:10:47.536969",
     "exception": false,
     "start_time": "2024-11-12T04:10:47.533719",
     "status": "completed"
    },
    "tags": []
   },
   "source": [
    "# Parse sources and generate relevant outputs\n",
    "\n",
    "From the candidates, we do the following steps:\n",
    "* get their tarball from ArXiv (and extract data)\n",
    "* find the main .tex file: find one with \\documentclass{...} (sometimes it's non trivial)\n",
    "* Check affiliations with :func:`validation`, which uses :func:`mpia.affiliation_verifications`\n",
    "* If passing the affiliations: we parse the .tex source\n",
    "   * inject sub-documents into the main (flatten the main document)\n",
    "   * parse structure, extract information (title, abstract, authors, figures...)\n",
    "   * handles `\\graphicspath` if provided\n",
    "* Generate the .md document."
   ]
  },
  {
   "cell_type": "code",
   "execution_count": 5,
   "id": "9576b79e",
   "metadata": {
    "execution": {
     "iopub.execute_input": "2024-11-12T04:10:47.544921Z",
     "iopub.status.busy": "2024-11-12T04:10:47.544350Z",
     "iopub.status.idle": "2024-11-12T04:11:34.228348Z",
     "shell.execute_reply": "2024-11-12T04:11:34.227632Z"
    },
    "papermill": {
     "duration": 46.68928,
     "end_time": "2024-11-12T04:11:34.229499",
     "exception": false,
     "start_time": "2024-11-12T04:10:47.540219",
     "status": "completed"
    },
    "scrolled": false,
    "tags": []
   },
   "outputs": [
    {
     "data": {
      "application/vnd.jupyter.widget-view+json": {
       "model_id": "7b50e030262e4a9a8de9a3d76aaa09bd",
       "version_major": 2,
       "version_minor": 0
      },
      "text/plain": [
       "  0%|          | 0/7 [00:00<?, ?it/s]"
      ]
     },
     "metadata": {},
     "output_type": "display_data"
    },
    {
     "name": "stdout",
     "output_type": "stream",
     "text": [
      "Retrieving document from  https://arxiv.org/e-print/2411.05917\n"
     ]
    },
    {
     "name": "stdout",
     "output_type": "stream",
     "text": [
      "extracting tarball to tmp_2411.05917..."
     ]
    },
    {
     "name": "stdout",
     "output_type": "stream",
     "text": [
      " done.\n"
     ]
    },
    {
     "name": "stdout",
     "output_type": "stream",
     "text": [
      "P. Mollière  ->  P. Mollière  |  ['P. Mollière']\n",
      "W. Brandner  ->  W. Brandner  |  ['W. Brandner']\n",
      "G. Chauvin  ->  G. Chauvin  |  ['G. Chauvin']\n",
      "T. Henning  ->  T. Henning  |  ['T. Henning']\n"
     ]
    },
    {
     "name": "stderr",
     "output_type": "stream",
     "text": [
      "/tmp/ipykernel_2667/2822249172.py:52: LatexWarning: 2411.05917 did not run properly\n",
      "list index out of range\n",
      "  warnings.warn(latex.LatexWarning(f\"{paper_id:s} did not run properly\\n\" +\n"
     ]
    },
    {
     "name": "stdout",
     "output_type": "stream",
     "text": [
      "Retrieving document from  https://arxiv.org/e-print/2411.06356\n"
     ]
    },
    {
     "name": "stdout",
     "output_type": "stream",
     "text": [
      "extracting tarball to tmp_2411.06356... done.\n",
      "Retrieving document from  https://arxiv.org/e-print/2411.06372\n"
     ]
    },
    {
     "name": "stdout",
     "output_type": "stream",
     "text": [
      "extracting tarball to tmp_2411.06372..."
     ]
    },
    {
     "name": "stdout",
     "output_type": "stream",
     "text": [
      " done.\n",
      "Retrieving document from  https://arxiv.org/e-print/2411.06474\n"
     ]
    },
    {
     "name": "stdout",
     "output_type": "stream",
     "text": [
      "extracting tarball to tmp_2411.06474... done.\n"
     ]
    },
    {
     "name": "stdout",
     "output_type": "stream",
     "text": [
      "F. Walter  ->  F. Walter  |  ['F. Walter']\n"
     ]
    },
    {
     "name": "stdout",
     "output_type": "stream",
     "text": [
      "Found 87 bibliographic references in tmp_2411.06474/mrybak_as2vla_sizes.bbl.\n",
      "Retrieving document from  https://arxiv.org/e-print/2411.06647\n"
     ]
    },
    {
     "name": "stdout",
     "output_type": "stream",
     "text": [
      "extracting tarball to tmp_2411.06647..."
     ]
    },
    {
     "name": "stdout",
     "output_type": "stream",
     "text": [
      " done.\n",
      "Retrieving document from  https://arxiv.org/e-print/2411.06996\n"
     ]
    },
    {
     "name": "stdout",
     "output_type": "stream",
     "text": [
      "extracting tarball to tmp_2411.06996... done.\n",
      "Retrieving document from  https://arxiv.org/e-print/2411.07162\n"
     ]
    },
    {
     "name": "stderr",
     "output_type": "stream",
     "text": [
      "/opt/hostedtoolcache/Python/3.9.20/x64/lib/python3.9/site-packages/IPython/core/interactiveshell.py:3550: LatexWarning: Multiple tex files.\n",
      "\n",
      "  exec(code_obj, self.user_global_ns, self.user_ns)\n",
      "/opt/hostedtoolcache/Python/3.9.20/x64/lib/python3.9/site-packages/IPython/core/interactiveshell.py:3550: LatexWarning: Found documentclass in tmp_2411.06996/main.tex\n",
      "\n",
      "  exec(code_obj, self.user_global_ns, self.user_ns)\n",
      "/opt/hostedtoolcache/Python/3.9.20/x64/lib/python3.9/site-packages/arxiv_on_deck_2/latex.py:414: LatexWarning: Latex injecting: 'Ref2' from 'tmp_2411.06996/Ref2.tex'\n",
      "  warnings.warn(LatexWarning(f\"Latex injecting: '{ext}' from '{subsource}'\"))\n",
      "/opt/hostedtoolcache/Python/3.9.20/x64/lib/python3.9/site-packages/arxiv_on_deck_2/latex.py:414: LatexWarning: Latex injecting: 'Ref1.tex' from 'tmp_2411.06996/Ref1.tex'\n",
      "  warnings.warn(LatexWarning(f\"Latex injecting: '{ext}' from '{subsource}'\"))\n"
     ]
    },
    {
     "name": "stdout",
     "output_type": "stream",
     "text": [
      "extracting tarball to tmp_2411.07162..."
     ]
    },
    {
     "name": "stdout",
     "output_type": "stream",
     "text": [
      " done.\n"
     ]
    }
   ],
   "source": [
    "documents = []\n",
    "failed = []\n",
    "for paper in tqdm(candidates):\n",
    "    # debug crap\n",
    "    paper['identifier'] = paper['identifier'].lower().replace('arxiv:', '').replace(r'\\n', '').strip()\n",
    "    paper_id = paper['identifier']\n",
    "    \n",
    "    folder = f'tmp_{paper_id}'\n",
    "\n",
    "    try:\n",
    "        if not os.path.isdir(folder):\n",
    "            folder = retrieve_document_source(f\"{paper_id}\", f'tmp_{paper_id}')\n",
    "        \n",
    "        try:\n",
    "            doc = latex.LatexDocument(folder, validation=validation)    \n",
    "        except AffiliationError as affilerror:\n",
    "            msg = f\"ArXiv:{paper_id:s} is not an MPIA paper... \" + str(affilerror)\n",
    "            failed.append((paper, \"affiliation error: \" + str(affilerror) ))\n",
    "            continue\n",
    "        \n",
    "        # Hack because sometimes author parsing does not work well\n",
    "        if (len(doc.authors) != len(paper['authors'])):\n",
    "            doc._authors = paper['authors']\n",
    "        else:\n",
    "            # highlight authors (FIXME: doc.highlight_authors)\n",
    "            # done on arxiv paper already\n",
    "            doc._authors = highlight_authors_in_list(\n",
    "                [get_initials(k) for k in doc.authors], \n",
    "                mpia_authors, verbose=True)\n",
    "        if (doc.abstract) in (None, ''):\n",
    "            doc._abstract = paper['abstract']\n",
    "            \n",
    "        doc.comment = (get_markdown_badge(paper_id) + \n",
    "                       \"<mark>Appeared on: \" + paper['date'] + \"</mark> - \")\n",
    "        if paper['comments']:\n",
    "            doc.comment += \" _\" + paper['comments'] + \"_\"\n",
    "        \n",
    "        full_md = doc.generate_markdown_text()\n",
    "        \n",
    "        full_md += get_markdown_qrcode(paper_id)\n",
    "        \n",
    "        # replace citations\n",
    "        try:\n",
    "            bibdata = latex_bib.LatexBib.from_doc(doc)\n",
    "            full_md = latex_bib.replace_citations(full_md, bibdata)\n",
    "        except Exception as e:\n",
    "            print(\"Issues with the citations\")\n",
    "            print(e)\n",
    "        \n",
    "        documents.append((paper_id, full_md))\n",
    "    except Exception as e:\n",
    "        warnings.warn(latex.LatexWarning(f\"{paper_id:s} did not run properly\\n\" +\n",
    "                                         str(e)\n",
    "                                        ))\n",
    "        failed.append((paper, \"latex error \" + str(e)))"
   ]
  },
  {
   "cell_type": "markdown",
   "id": "2505a25c",
   "metadata": {
    "papermill": {
     "duration": 0.004121,
     "end_time": "2024-11-12T04:11:34.238179",
     "exception": false,
     "start_time": "2024-11-12T04:11:34.234058",
     "status": "completed"
    },
    "tags": []
   },
   "source": [
    "### Export the logs\n",
    "\n",
    "Throughout, we also keep track of the logs per paper. see `logs-{today date}.md` "
   ]
  },
  {
   "cell_type": "code",
   "execution_count": 6,
   "id": "d733828a",
   "metadata": {
    "execution": {
     "iopub.execute_input": "2024-11-12T04:11:34.247745Z",
     "iopub.status.busy": "2024-11-12T04:11:34.247410Z",
     "iopub.status.idle": "2024-11-12T04:11:34.266402Z",
     "shell.execute_reply": "2024-11-12T04:11:34.265739Z"
    },
    "papermill": {
     "duration": 0.02519,
     "end_time": "2024-11-12T04:11:34.267467",
     "exception": false,
     "start_time": "2024-11-12T04:11:34.242277",
     "status": "completed"
    },
    "scrolled": false,
    "tags": []
   },
   "outputs": [
    {
     "data": {
      "text/markdown": [
       "## Successful papers"
      ],
      "text/plain": [
       "<IPython.core.display.Markdown object>"
      ]
     },
     "metadata": {},
     "output_type": "display_data"
    },
    {
     "data": {
      "text/markdown": [
       "\n",
       "|||\n",
       "|---:|:---|\n",
       "| [![arXiv](https://img.shields.io/badge/arXiv-2411.06474-b31b1b.svg)](https://arxiv.org/abs/2411.06474) | **CO(1--0) imaging reveals 10-kiloparsec molecular gas reservoirs around star-forming galaxies at high redshift**  |\n",
       "|| M. Rybak, et al. -- incl., <mark>F. Walter</mark> |\n",
       "|*Appeared on*| *2024-11-12*|\n",
       "|*Comments*| *Submitted to A&A. 9 pages, 5 figures*|\n",
       "|**Abstract**|            Massive, intensely star-forming galaxies at high redshift require a supply of molecular gas from their gas reservoirs, replenished by infall from the surrounding circumgalactic medium, to sustain their immense star-formation rates. However, our knowledge of the extent and morphology of their cold-gas reservoirs is still in its infancy. We present the results of stacking 80 hours of JVLA observations of CO(1--0) emission -- which traces the cold molecular gas -- in 19 $z=2.0-4.5$ dusty, star-forming galaxies from the AS2VLA survey. The visibility-plane stack reveals extended emission with a half-light radius of $3.8\\pm0.5$~kpc, 2--3$\\times$ more extended than the dust-obscured star formation and $1.4\\pm0.2\\times$ more extended than the stellar emission. Similarly, stacking the [CI](1--0) observations for a subsample of our galaxies yields sizes consistent with CO(1--0). The CO(1--0) size is comparable to the [CII] halos detected around high-redshift star-forming this http URL bulk (up to 80\\%) of molecular gas resides outside the star-forming region; only a small part of their molecular gas reservoir directly contributes to their current star formation. Photon-dissociation region modelling indicates that the extended CO(1--0) emission arises from clumpy, dense clouds rather than smooth, diffuse gas.         |"
      ],
      "text/plain": [
       "[2411.06474] CO(1--0) imaging reveals 10-kiloparsec molecular gas reservoirs around star-forming galaxies at high redshift\n",
       "\tM. Rybak, et al. -- incl., <mark>F. Walter</mark>"
      ]
     },
     "metadata": {},
     "output_type": "display_data"
    },
    {
     "data": {
      "text/markdown": [
       "## Failed papers"
      ],
      "text/plain": [
       "<IPython.core.display.Markdown object>"
      ]
     },
     "metadata": {},
     "output_type": "display_data"
    },
    {
     "data": {
      "text/markdown": [
       "\n",
       "|||\n",
       "|---:|:---|\n",
       "| [![arXiv](https://img.shields.io/badge/arXiv-2411.06356-b31b1b.svg)](https://arxiv.org/abs/2411.06356) | **Measuring cosmic curvature with non-CMB observations**  |\n",
       "|| P.-J. Wu, <mark>X. Zhang</mark> |\n",
       "|*Appeared on*| *2024-11-12*|\n",
       "|*Comments*| *9 pages, 3 figures*|\n",
       "|**Abstract**|            The cosmic curvature $\\Omega_{K}$ is an important parameter related to the inflationary cosmology and the ultimate fate of the universe. In this work, we adopt the non-CMB observations to constrain $\\Omega_{K}$ in the $\\Lambda$CDM model and its extensions. The DESI baryon acoustic oscillation, DES type Ia supernova, cosmic chronometer, and strong gravitational lensing time delay data are considered. We find that the data combination favors an open universe in the $\\Lambda$CDM model, specifically $\\Omega_{K}=0.108\\pm0.056$ at the $1\\sigma$ confidence level, which is in $2.6\\sigma$ tension with the Planck CMB result supporting our universe being slightly closed. In the $\\Lambda$CDM extensions, the data combination is consistent with a spatially flat universe. However, the central value of $\\Omega_{K}$ is positive and has a significant deviation from zero. We adopt the Akaike information criterion to compare different cosmological models. The result shows that non-flat models fit the observational data better that the flat $\\Lambda$CDM model, which adds evidence to the argument that flat $\\Lambda$CDM is not the ultimate model of cosmology.         |\n",
       "|<p style=\"color:green\"> **ERROR** </p>| <p style=\"color:green\">affiliation error: mpia.affiliation_verifications: 'Heidelberg' keyword not found.</p> |"
      ],
      "text/plain": [
       "<IPython.core.display.Markdown object>"
      ]
     },
     "metadata": {},
     "output_type": "display_data"
    },
    {
     "data": {
      "text/markdown": [
       "\n",
       "|||\n",
       "|---:|:---|\n",
       "| [![arXiv](https://img.shields.io/badge/arXiv-2411.06372-b31b1b.svg)](https://arxiv.org/abs/2411.06372) | **NEXUS Early Data Release: NIRCam Imaging and WFSS Spectroscopy from the First (Partial) Wide Epoch**  |\n",
       "|| M.-Y. Zhuang, et al. -- incl., <mark>J. Li</mark> |\n",
       "|*Appeared on*| *2024-11-12*|\n",
       "|*Comments*| *14 pages, 9 figures, 2 tables. Data products are publicly accessible at this https URL. Online interactive map for quick visualization of released images and WFSS spectra can be found at https://ariel. this http URL*|\n",
       "|**Abstract**|            We present the Early Data Release of the Multi-Cycle JWST-NEXUS Treasury program (2024-2028), which includes NIRCam imaging and WFSS observations from the first (partial) NEXUS-Wide epoch covering the central 100 ${\\rm arcmin^2}$ of the NEXUS field, located near the North Ecliptic Pole and within the Euclid Ultra-Deep Field. We release reduced NIRCam mosaics (F090W, F115W, F150W, F200W, F356W, F444W), photometric source catalogs, as well as preliminary WFSS spectra (in F322W2 and F444W) for the subset of bright sources (F356W$<$21 mag or F444W$<$21 mag). These observations fully cover the NEXUS-Deep area, and anchor the long-term baseline of the program. These data will be used for initial target selection for the NIRSpec/MSA spectroscopy starting from June 2025. The NIRCam imaging reaches depths of 27.4--28.2 (AB) mags in F090W--F444W. Upcoming NEXUS-Wide epochs will expand the area to the full $\\sim 400\\,{\\rm arcmin^2}$, and improve the NIRCam exposure depths in the Wide tier by a factor of three. In addition, this central region will be repeatedly covered by the NEXUS-Deep observations (NIRCam imaging and NIRSpec/MSA PRISM spectroscopy) over 18 epochs with a $\\sim 2$-month cadence. We demonstrate the data quality of the first NEXUS observations, and showcase some example science cases enabled by these data.         |\n",
       "|<p style=\"color:green\"> **ERROR** </p>| <p style=\"color:green\">affiliation error: mpia.affiliation_verifications: 'Heidelberg' keyword not found.</p> |"
      ],
      "text/plain": [
       "<IPython.core.display.Markdown object>"
      ]
     },
     "metadata": {},
     "output_type": "display_data"
    },
    {
     "data": {
      "text/markdown": [
       "\n",
       "|||\n",
       "|---:|:---|\n",
       "| [![arXiv](https://img.shields.io/badge/arXiv-2411.06647-b31b1b.svg)](https://arxiv.org/abs/2411.06647) | **Multiplicity of Galactic Cepheids from long-baseline interferometry V. High-accuracy orbital parallax and mass of SU Cygni**  |\n",
       "|| A. Gallenne, et al. -- incl., <mark>S. Kraus</mark>, <mark>D. Mortimer</mark> |\n",
       "|*Appeared on*| *2024-11-12*|\n",
       "|*Comments*| *Accepted for publication in A&A*|\n",
       "|**Abstract**|            Cepheid masses are particularly necessary to help solving the mass discrepancy, while independent distance determinations provide crucial test of the period-luminosity relation and Gaia parallaxes. We used CHARA/MIRC to measure the astrometric positions of the high-contrast companion orbiting the Cepheid SU Cygni. We also present new radial velocity measurements from the HST. The combination of interferometric astrometry with optical and ultraviolet spectroscopy provides the full orbital elements of the system, in addition to component masses and the distance to the Cepheid system. We measured the mass of the Cepheid, $M_A = 4.859\\pm0.058M_\\odot$, and its two companions, $M_{Ba} = 3.595 \\pm 0.033 M_\\odot$ and $M_{Bb} = 1.546 \\pm 0.009 M_\\odot$. This is the most accurate existing measurement of the mass of a Galactic Cepheid (1.2%). Comparing with stellar evolution models, we show that the mass predicted is higher than the measured mass of the Cepheid, similar to conclusions of our previous work. We also measured the distance to the system to be $926.3 \\pm 5.0$pc, i.e. an unprecedented parallax precision of $6\\mu$as (0.5%), being the most precise and accurate distance for a Cepheid. Such precision is similar to what is expected by Gaia for the last data release (DR5 in $\\sim$ 2030) for single stars fainter than G = 13, but is not guaranteed for stars as bright as SU Cyg. We demonstrated that evolutionary models remain inadequate in accurately reproducing the measured mass, often predicting higher masses for the expected metallicity, even when factors such as rotation or convective core overshooting are taken into account. Our precise distance measurement allowed us to compare prediction period-luminosity relations. We found a disagreement of 0.2-0.5 mag with relations calibrated from photometry, while relations calibrated from direct distance measurement are in better agreement.         |\n",
       "|<p style=\"color:green\"> **ERROR** </p>| <p style=\"color:green\">affiliation error: mpia.affiliation_verifications: 'Heidelberg' keyword not found.</p> |"
      ],
      "text/plain": [
       "<IPython.core.display.Markdown object>"
      ]
     },
     "metadata": {},
     "output_type": "display_data"
    },
    {
     "data": {
      "text/markdown": [
       "\n",
       "|||\n",
       "|---:|:---|\n",
       "| [![arXiv](https://img.shields.io/badge/arXiv-2411.06996-b31b1b.svg)](https://arxiv.org/abs/2411.06996) | **Flaring gamma-ray emission coincident with a hyperactive fast radio burst source**  |\n",
       "|| Y. Xing, et al. -- incl., <mark>X. Zhang</mark> |\n",
       "|*Appeared on*| *2024-11-12*|\n",
       "|*Comments*| *Comments are welcome*|\n",
       "|**Abstract**|            Fast radio bursts (FRBs) are bright milliseconds-duration radio bursts from cosmological distances. Despite intense observational and theoretical studies, their physical origin is still mysterious. One major obstacle is the lack of identification of multi-wavelength counterparts for FRBs at cosmological distances. So far, all the searches other than in the radio wavelength, including those in the gamma-ray energies, have only left upper limits. Here we report a gigaelectronvolt (GeV) gamma-ray flare lasting 15.6 seconds as well as additional evidence of variable gamma-ray emission in temporal and spatial association with the hyper-active, newly discovered repeating FRB 20240114A, which has been localized to a dwarf galaxy at a redshift of 0.13. The energetic, short GeV gamma-ray flare reached a prompt isotropic luminosity of the order of ${10}^{48}~{\\rm ergs~{s}^{-1}}$. The additional less-significant gamma-ray flares, if true, also have similar luminosities; such flares could contribute to a 5-day average luminosity of the order of ${10}^{45}~{\\rm ergs~{s}^{-1}}$. These high-luminosity flares challenge the traditional FRB engine scenario involving a seconds-period magnetar. Rather, it suggests a powerful, long-lived, but newborn energy source at the location of this active repeater, either directly powering the bursts or indirectly triggering bursts in the vicinity of the FRB engine.         |\n",
       "|<p style=\"color:green\"> **ERROR** </p>| <p style=\"color:green\">affiliation error: mpia.affiliation_verifications: 'Heidelberg' keyword not found.</p> |"
      ],
      "text/plain": [
       "<IPython.core.display.Markdown object>"
      ]
     },
     "metadata": {},
     "output_type": "display_data"
    },
    {
     "data": {
      "text/markdown": [
       "\n",
       "|||\n",
       "|---:|:---|\n",
       "| [![arXiv](https://img.shields.io/badge/arXiv-2411.07162-b31b1b.svg)](https://arxiv.org/abs/2411.07162) | **Search for Extended GeV Sources in the Inner Galactic Plane**  |\n",
       "|| S. Abdollahi, et al. -- incl., <mark>J. Li</mark> |\n",
       "|*Appeared on*| *2024-11-12*|\n",
       "|*Comments*| *43 pages, 17 figures, 11 tables*|\n",
       "|**Abstract**|            The recent detection of extended $\\gamma$-ray emission around middle-aged pulsars is interpreted as inverse-Compton scattering of ambient photons by electron-positron pairs escaping the pulsar wind nebula, which are confined near the system by unclear mechanisms. This emerging population of $\\gamma$-ray sources was first discovered at TeV energies and remains underexplored in the GeV range. To address this, we conducted a systematic search for extended sources along the Galactic plane using 14 years of Fermi-LAT data above 10 GeV, aiming to identify a number of pulsar halo candidates and extend our view to lower energies. The search covered the inner Galactic plane ($\\lvert l\\rvert\\leq$ 100$^{\\circ}$, $\\lvert b\\rvert\\leq$ 1$^{\\circ}$) and the positions of known TeV sources and bright pulsars, yielding broader astrophysical interest. We found 40 such sources, forming the Second Fermi Galactic Extended Sources Catalog (2FGES), most with 68% containment radii smaller than 1.0$^{\\circ}$ and relatively hard spectra with photon indices below 2.5. We assessed detection robustness using field-specific alternative interstellar emission models and by inspecting significance maps. Noting 13 sources previously known as extended in the 4FGL-DR3 catalog and five dubious sources from complex regions, we report 22 newly detected extended sources above 10 GeV. Of these, 13 coincide with H.E.S.S., HAWC, or LHAASO sources; six coincide with bright pulsars (including four also coincident with TeV sources); six are associated with 4FGL point sources only; and one has no association in the scanned catalogs. Notably, six to eight sources may be related to pulsars as classical pulsar wind nebulae or pulsar halos.         |\n",
       "|<p style=\"color:green\"> **ERROR** </p>| <p style=\"color:green\">affiliation error: mpia.affiliation_verifications: 'Heidelberg' keyword not found.</p> |"
      ],
      "text/plain": [
       "<IPython.core.display.Markdown object>"
      ]
     },
     "metadata": {},
     "output_type": "display_data"
    },
    {
     "data": {
      "text/markdown": [
       "\n",
       "|||\n",
       "|---:|:---|\n",
       "| [![arXiv](https://img.shields.io/badge/arXiv-2411.05917-b31b1b.svg)](https://arxiv.org/abs/2411.05917) | **VLTI/GRAVITY Observations of AF Lep b: Preference for Circular Orbits, Cloudy Atmospheres, and a Moderately Enhanced Metallicity**  |\n",
       "|| W. O. Balmer, et al. -- incl., <mark>P. Molliere</mark>, <mark>W. Brandner</mark>, <mark>G. Chauvin</mark>, <mark>T. Henning</mark> |\n",
       "|*Appeared on*| *2024-11-12*|\n",
       "|*Comments*| *Accepted to the Astronomical Journal. 12 figures, 4 tables*|\n",
       "|**Abstract**|            Direct imaging observations are biased towards wide-separation, massive companions that have degenerate formation histories. Although the majority of exoplanets are expected to form via core accretion, most directly imaged exoplanets have not been convincingly demonstrated to follow this formation pathway. We obtained new interferometric observations of the directly imaged giant planet AF Lep b with the VLTI/GRAVITY instrument. We present three epochs of 50$\\mu$as relative astrometry and the K-band spectrum of the planet for the first time at a resolution of R=500. Using only these measurements, spanning less than two months, and the Hipparcos-Gaia Catalogue of Accelerations, we are able to significantly constrain the planet's orbit; this bodes well for interferometric observations of planets discovered by Gaia DR4. Including all available measurements of the planet, we infer an effectively circular orbit ($e<0.02, 0.07, 0.13$ at $1, 2, 3 \\sigma$) in spin-orbit alignment with the host, and a measure a dynamical mass of $M_\\mathrm{p}=3.75\\pm0.5\\,M_\\mathrm{Jup}$. Models of the spectrum of the planet show that it is metal rich ([M/H]$=0.75\\pm0.25$), with a C/O ratio encompassing the solar value. This ensemble of results show that the planet is consistent with core accretion formation.         |\n",
       "|<p style=\"color:red\"> **ERROR** </p>| <p style=\"color:red\">latex error list index out of range</p> |"
      ],
      "text/plain": [
       "<IPython.core.display.Markdown object>"
      ]
     },
     "metadata": {},
     "output_type": "display_data"
    }
   ],
   "source": [
    "import datetime\n",
    "today = str(datetime.date.today())\n",
    "logfile = f\"_build/html/logs/log-{today}.md\"\n",
    "\n",
    "\n",
    "with open(logfile, 'w') as logs:\n",
    "    # Success\n",
    "    logs.write(f'# Arxiv on Deck 2: Logs - {today}\\n\\n')\n",
    "    logs.write(\"\"\"* Arxiv had {0:,d} new papers\\n\"\"\".format(len(new_papers)))\n",
    "    logs.write(\"\"\"    * {0:,d} with possible author matches\\n\\n\"\"\".format(len(candidates)))\n",
    "    logs.write(\"## Sucessful papers\\n\\n\")\n",
    "    display(Markdown(\"## Successful papers\"))\n",
    "    success = [k[0] for k in documents]\n",
    "    for candid in candidates:\n",
    "        if candid['identifier'].split(':')[-1] in success:\n",
    "            display(candid)\n",
    "            logs.write(candid.generate_markdown_text() + '\\n\\n')\n",
    "\n",
    "    ## failed\n",
    "    logs.write(\"## Failed papers\\n\\n\")\n",
    "    display(Markdown(\"## Failed papers\"))\n",
    "    failed = sorted(failed, key=lambda x: x[1])\n",
    "    current_reason = \"\"\n",
    "    for paper, reason in failed:\n",
    "        if 'affiliation' in reason:\n",
    "            color = 'green'\n",
    "        else:\n",
    "            color = 'red'\n",
    "        data = Markdown(\n",
    "                paper.generate_markdown_text() + \n",
    "                f'\\n|<p style=\"color:{color:s}\"> **ERROR** </p>| <p style=\"color:{color:s}\">{reason:s}</p> |'\n",
    "               )\n",
    "        if reason != current_reason:\n",
    "            logs.write(f'### {reason:s} \\n\\n')\n",
    "            current_reason = reason\n",
    "        logs.write(data.data + '\\n\\n')\n",
    "        \n",
    "        # only display here the important errors (all in logs)\n",
    "        # if color in ('red',):\n",
    "        display(data)"
   ]
  },
  {
   "cell_type": "markdown",
   "id": "472d20ee",
   "metadata": {
    "papermill": {
     "duration": 0.00502,
     "end_time": "2024-11-12T04:11:34.277877",
     "exception": false,
     "start_time": "2024-11-12T04:11:34.272857",
     "status": "completed"
    },
    "tags": []
   },
   "source": [
    "## Export documents\n",
    "\n",
    "We now write the .md files and export relevant images"
   ]
  },
  {
   "cell_type": "code",
   "execution_count": 7,
   "id": "d426aed9",
   "metadata": {
    "execution": {
     "iopub.execute_input": "2024-11-12T04:11:34.289314Z",
     "iopub.status.busy": "2024-11-12T04:11:34.288750Z",
     "iopub.status.idle": "2024-11-12T04:11:34.295833Z",
     "shell.execute_reply": "2024-11-12T04:11:34.295278Z"
    },
    "papermill": {
     "duration": 0.014118,
     "end_time": "2024-11-12T04:11:34.296924",
     "exception": false,
     "start_time": "2024-11-12T04:11:34.282806",
     "status": "completed"
    },
    "tags": []
   },
   "outputs": [],
   "source": [
    "def export_markdown_summary(md: str, md_fname:str, directory: str):\n",
    "    \"\"\"Export MD document and associated relevant images\"\"\"\n",
    "    import os\n",
    "    import shutil\n",
    "    import re\n",
    "\n",
    "    if (os.path.exists(directory) and not os.path.isdir(directory)):\n",
    "        raise RuntimeError(f\"a non-directory file exists with name {directory:s}\")\n",
    "\n",
    "    if (not os.path.exists(directory)):\n",
    "        print(f\"creating directory {directory:s}\")\n",
    "        os.mkdir(directory)\n",
    "\n",
    "    fig_fnames = (re.compile(r'\\[Fig.*\\]\\((.*)\\)').findall(md) + \n",
    "                  re.compile(r'\\<img src=\"([^>\\s]*)\"[^>]*/>').findall(md))\n",
    "    print(\"found figures\", fig_fnames)\n",
    "    for fname in fig_fnames:\n",
    "        if 'http' in fname:\n",
    "            # No need to copy online figures\n",
    "            continue\n",
    "        if not os.path.exists(fname):\n",
    "            print(\"file not found\", fname)\n",
    "            continue\n",
    "        print(\"copying \", fname, \"to\", directory)\n",
    "        destdir = os.path.join(directory, os.path.dirname(fname))\n",
    "        destfname = os.path.join(destdir, os.path.basename(fname))\n",
    "        try:\n",
    "            os.makedirs(destdir)\n",
    "        except FileExistsError:\n",
    "            pass\n",
    "        shutil.copy(fname, destfname)\n",
    "    with open(os.path.join(directory, md_fname), 'w') as fout:\n",
    "        fout.write(md)\n",
    "    print(\"exported in \", os.path.join(directory, md_fname))\n",
    "    [print(\"    + \" + os.path.join(directory,fk)) for fk in fig_fnames]"
   ]
  },
  {
   "cell_type": "code",
   "execution_count": 8,
   "id": "014d04a4",
   "metadata": {
    "execution": {
     "iopub.execute_input": "2024-11-12T04:11:34.308650Z",
     "iopub.status.busy": "2024-11-12T04:11:34.308136Z",
     "iopub.status.idle": "2024-11-12T04:11:34.313729Z",
     "shell.execute_reply": "2024-11-12T04:11:34.313200Z"
    },
    "papermill": {
     "duration": 0.012561,
     "end_time": "2024-11-12T04:11:34.314724",
     "exception": false,
     "start_time": "2024-11-12T04:11:34.302163",
     "status": "completed"
    },
    "tags": []
   },
   "outputs": [
    {
     "name": "stdout",
     "output_type": "stream",
     "text": [
      "found figures ['tmp_2411.06474/./sfr_radius.png', 'tmp_2411.06474/./Mmol_radius.png', 'tmp_2411.06474/./stack_all.png', 'tmp_2411.06474/./stack_all_exponential.png', 'tmp_2411.06474/./stack_FIR_50mhz_detections_noweighting.png']\n",
      "copying  tmp_2411.06474/./sfr_radius.png to _build/html/\n",
      "copying  tmp_2411.06474/./Mmol_radius.png to _build/html/\n",
      "copying  tmp_2411.06474/./stack_all.png to _build/html/\n",
      "copying  tmp_2411.06474/./stack_all_exponential.png to _build/html/\n",
      "copying  tmp_2411.06474/./stack_FIR_50mhz_detections_noweighting.png to _build/html/\n",
      "exported in  _build/html/2411.06474.md\n",
      "    + _build/html/tmp_2411.06474/./sfr_radius.png\n",
      "    + _build/html/tmp_2411.06474/./Mmol_radius.png\n",
      "    + _build/html/tmp_2411.06474/./stack_all.png\n",
      "    + _build/html/tmp_2411.06474/./stack_all_exponential.png\n",
      "    + _build/html/tmp_2411.06474/./stack_FIR_50mhz_detections_noweighting.png\n"
     ]
    }
   ],
   "source": [
    "for paper_id, md in documents:\n",
    "    export_markdown_summary(md, f\"{paper_id:s}.md\", '_build/html/')"
   ]
  },
  {
   "cell_type": "markdown",
   "id": "f087a0a7",
   "metadata": {
    "papermill": {
     "duration": 0.005154,
     "end_time": "2024-11-12T04:11:34.325163",
     "exception": false,
     "start_time": "2024-11-12T04:11:34.320009",
     "status": "completed"
    },
    "tags": []
   },
   "source": [
    "## Display the papers\n",
    "\n",
    "Not necessary but allows for a quick check."
   ]
  },
  {
   "cell_type": "code",
   "execution_count": 9,
   "id": "fd25f625",
   "metadata": {
    "execution": {
     "iopub.execute_input": "2024-11-12T04:11:34.336806Z",
     "iopub.status.busy": "2024-11-12T04:11:34.336314Z",
     "iopub.status.idle": "2024-11-12T04:11:34.341231Z",
     "shell.execute_reply": "2024-11-12T04:11:34.340700Z"
    },
    "papermill": {
     "duration": 0.011995,
     "end_time": "2024-11-12T04:11:34.342281",
     "exception": false,
     "start_time": "2024-11-12T04:11:34.330286",
     "status": "completed"
    },
    "scrolled": false,
    "tags": []
   },
   "outputs": [
    {
     "data": {
      "text/markdown": [
       "<div class=\"macros\" style=\"visibility:hidden;\">\n",
       "$\\newcommand{\\ensuremath}{}$\n",
       "$\\newcommand{\\xspace}{}$\n",
       "$\\newcommand{\\object}[1]{\\texttt{#1}}$\n",
       "$\\newcommand{\\farcs}{{.}''}$\n",
       "$\\newcommand{\\farcm}{{.}'}$\n",
       "$\\newcommand{\\arcsec}{''}$\n",
       "$\\newcommand{\\arcmin}{'}$\n",
       "$\\newcommand{\\ion}[2]{#1#2}$\n",
       "$\\newcommand{\\textsc}[1]{\\textrm{#1}}$\n",
       "$\\newcommand{\\hl}[1]{\\textrm{#1}}$\n",
       "$\\newcommand{\\footnote}[1]{}$\n",
       "$\\newcommand{\\comDS}[1]{\\textcolor{blue}{#1} ~}$\n",
       "$\\newcommand{\\avgg}[1]{\\left< #1 \\right>}$</div>\n",
       "\n",
       "\n",
       "\n",
       "<div id=\"title\">\n",
       "\n",
       "# CO(1--0) imaging reveals 10-kiloparsec molecular gas reservoirs around star-forming galaxies at high redshift\n",
       "\n",
       "</div>\n",
       "<div id=\"comments\">\n",
       "\n",
       "[![arXiv](https://img.shields.io/badge/arXiv-2411.06474-b31b1b.svg)](https://arxiv.org/abs/2411.06474)<mark>Appeared on: 2024-11-12</mark> -  _Submitted to A&A. 9 pages, 5 figures_\n",
       "\n",
       "</div>\n",
       "<div id=\"authors\">\n",
       "\n",
       "M. Rybak, et al. -- incl., <mark>F. Walter</mark>\n",
       "\n",
       "</div>\n",
       "<div id=\"abstract\">\n",
       "\n",
       "**Abstract:** Massive, intensely star-forming galaxies at high redshift require a supply of molecular gas from their gas reservoirs, replenished by infall from the surrounding circumgalactic medium, to sustain their immense star-formation rates. However, our knowledge of the extent and morphology of their cold-gas reservoirs is still in its infancy.  We present the results of stacking 80 hours of JVLA observations of CO(1--0) emission -- which traces the cold molecular gas -- in 19 $z=2.0-4.5$ dusty, star-forming galaxies from the AS2VLA survey. The visibility-plane stack reveals extended emission with a half-light radius of $3.8\\pm0.5$ kpc, 2--3 $\\times$ more extended than the dust-obscured star formation and $1.4\\pm0.2\\times$ more extended than the stellar emission. Similarly, stacking the [ $\\ion{C}{i}$ ] (1--0) observations for a subsample of our galaxies yields sizes consistent with CO(1--0). The CO(1--0) size is comparable to the [ $\\ion{C}{ii}$ ] halos detected around high-redshift star-forming galaxies.  The bulk (up to 80 \\% ) of molecular gas resides outside the star-forming region; only a small part of their molecular gas reservoir directly contributes to their current star formation. Photon-dissociation region modelling indicates that the extended CO(1--0) emission arises from clumpy, dense clouds rather than smooth, diffuse gas.\n",
       "\n",
       "</div>\n",
       "\n",
       "<div id=\"div_fig1\">\n",
       "\n",
       "<img src=\"tmp_2411.06474/./sfr_radius.png\" alt=\"Fig5.1\" width=\"50%\"/><img src=\"tmp_2411.06474/./Mmol_radius.png\" alt=\"Fig5.2\" width=\"50%\"/>\n",
       "\n",
       "**Figure 5. -** Half-light radii of CO(1--0) and [$\\ion${C}{ii}] emission versus star-formation rate (_left_) and total molecular gas mass (_right_) for galaxies from our sample and literature (see Section \\ref{subsec:sizes} references). The protoclusters from [Emonts, Lehnert and Villar-Martín (2016)]() and [Dannerbauer, Lehnert and Emonts (2017)]() are highlighted by circles. We also show predictions for $z=3.1$ galaxies from the SIMBA simulation  ([Davé, Anglés-Alcázar and Narayanan 2019]())  as open grey symbols; {grey lines indicate the running average}. The inferred size of the CO(1--0) emission in our sample is consistent to the extended CO(1--0) and [$\\ion${C}{ii}] reservoirs around other high-redshift DSFGs with comparable SFR. (*fig:r_mmol_sigma*)\n",
       "\n",
       "</div>\n",
       "<div id=\"div_fig2\">\n",
       "\n",
       "<img src=\"tmp_2411.06474/./stack_all.png\" alt=\"Fig4.1\" width=\"50%\"/><img src=\"tmp_2411.06474/./stack_all_exponential.png\" alt=\"Fig4.2\" width=\"50%\"/>\n",
       "\n",
       "**Figure 4. -** Stacked CO(1--0) image-plane and $uv$-plane data for 19 sources with robust CO(1--0) detections.\n",
       "    For the image-plane stack, the contours are drawn at $\\pm(2,4,6...)\\sigma$; the white ellipses indicate the mean FWHM beam size. The $uv$-plane data are integrated over $\\pm$1 FWHM velocity range, radially binned with a step of 5 k$\\lambda$. For CO(1--0), the exponential model with $R_\\mathrm{1/2}$=$0.49\\pm0.07\"$(3.8$\\pm$0.5 kpc at our median $z=3.1$) is strongly preferred by the evidence. (*fig:stack_image*)\n",
       "\n",
       "</div>\n",
       "<div id=\"div_fig3\">\n",
       "\n",
       "<img src=\"tmp_2411.06474/./stack_FIR_50mhz_detections_noweighting.png\" alt=\"Fig1\" width=\"100%\"/>\n",
       "\n",
       "**Figure 1. -** Rest-frame stacked spectrum, extracted from Cleaned cubes and normalised to the median flux-weighted redshift $z=3.1$. The rest-frame frequency resolution is 50 MHz ($\\approx$125 km s$^{-1}$). The stacked spectrum is consistent with a Gaussian profile with a FWHM of $640\\pm70$ km s$^{-1}$; we do not find any evidence for outflow signatures. The slight positive /negative excess at higher/lower frequencies is likely a weak residual continuum signal and is not associated with the CO(1--0) line. (*fig:spectral_stack*)\n",
       "\n",
       "</div><div id=\"qrcode\"><img src=https://api.qrserver.com/v1/create-qr-code/?size=100x100&data=\"https://arxiv.org/abs/2411.06474\"></div>"
      ],
      "text/plain": [
       "<IPython.core.display.Markdown object>"
      ]
     },
     "metadata": {},
     "output_type": "display_data"
    }
   ],
   "source": [
    "[display(Markdown(k[1])) for k in documents];"
   ]
  },
  {
   "cell_type": "markdown",
   "id": "873873a4",
   "metadata": {
    "papermill": {
     "duration": 0.005432,
     "end_time": "2024-11-12T04:11:34.353333",
     "exception": false,
     "start_time": "2024-11-12T04:11:34.347901",
     "status": "completed"
    },
    "tags": []
   },
   "source": [
    "# Create HTML index"
   ]
  },
  {
   "cell_type": "code",
   "execution_count": 10,
   "id": "cf665672",
   "metadata": {
    "execution": {
     "iopub.execute_input": "2024-11-12T04:11:34.365745Z",
     "iopub.status.busy": "2024-11-12T04:11:34.365205Z",
     "iopub.status.idle": "2024-11-12T04:11:34.374189Z",
     "shell.execute_reply": "2024-11-12T04:11:34.373585Z"
    },
    "papermill": {
     "duration": 0.016568,
     "end_time": "2024-11-12T04:11:34.375286",
     "exception": false,
     "start_time": "2024-11-12T04:11:34.358718",
     "status": "completed"
    },
    "tags": []
   },
   "outputs": [
    {
     "name": "stdout",
     "output_type": "stream",
     "text": [
      "244  publications files modified in the last 7 days.\n"
     ]
    }
   ],
   "source": [
    "from datetime import datetime, timedelta, timezone\n",
    "from glob import glob\n",
    "import os\n",
    "\n",
    "files = glob('_build/html/*.md')\n",
    "days = 7\n",
    "now = datetime.today()\n",
    "res = []\n",
    "for fk in files:\n",
    "    stat_result = os.stat(fk).st_ctime\n",
    "    modified = datetime.fromtimestamp(stat_result, tz=timezone.utc).replace(tzinfo=None)\n",
    "    delta = now.today() - modified\n",
    "    if delta <= timedelta(days=days):\n",
    "        res.append((delta.seconds, fk))\n",
    "res = [k[1] for k in reversed(sorted(res, key=lambda x:x[1]))]\n",
    "npub = len(res)\n",
    "print(len(res), f\" publications files modified in the last {days:d} days.\")\n",
    "# [ print('\\t', k) for k in res ];"
   ]
  },
  {
   "cell_type": "code",
   "execution_count": 11,
   "id": "015de740",
   "metadata": {
    "execution": {
     "iopub.execute_input": "2024-11-12T04:11:34.387941Z",
     "iopub.status.busy": "2024-11-12T04:11:34.387433Z",
     "iopub.status.idle": "2024-11-12T04:11:34.404725Z",
     "shell.execute_reply": "2024-11-12T04:11:34.404100Z"
    },
    "papermill": {
     "duration": 0.024699,
     "end_time": "2024-11-12T04:11:34.405788",
     "exception": false,
     "start_time": "2024-11-12T04:11:34.381089",
     "status": "completed"
    },
    "tags": []
   },
   "outputs": [
    {
     "name": "stdout",
     "output_type": "stream",
     "text": [
      "6  publications in the last 7 days.\n"
     ]
    }
   ],
   "source": [
    "import datetime\n",
    "from glob import glob\n",
    "\n",
    "def get_last_n_days(lst, days=1):\n",
    "    \"\"\" Get the documents from the last n days \"\"\"\n",
    "    sorted_lst = sorted(lst, key=lambda x: x[1], reverse=True)\n",
    "    for fname, date in sorted_lst:\n",
    "        if date >= str(datetime.date.today() - datetime.timedelta(days=days)):\n",
    "            yield fname\n",
    "\n",
    "def extract_appearance_dates(lst_file):\n",
    "    dates = []\n",
    "\n",
    "    def get_date(line):\n",
    "        return line\\\n",
    "            .split('Appeared on:')[-1]\\\n",
    "            .split('</mark>')[0].strip()\n",
    "\n",
    "    for fname in lst:\n",
    "        with open(fname, 'r') as f:\n",
    "            found_date = False\n",
    "            for line in f:\n",
    "                if not found_date:\n",
    "                    if \"Appeared on\" in line:\n",
    "                        found_date = True\n",
    "                        dates.append((fname, get_date(line)))\n",
    "                else:\n",
    "                    break\n",
    "    return dates\n",
    "\n",
    "from glob import glob\n",
    "lst = glob('_build/html/*md')\n",
    "days = 7\n",
    "dates = extract_appearance_dates(lst)\n",
    "res = list(get_last_n_days(dates, days))\n",
    "npub = len(res)\n",
    "print(len(res), f\" publications in the last {days:d} days.\")"
   ]
  },
  {
   "cell_type": "code",
   "execution_count": 12,
   "id": "52ca0208",
   "metadata": {
    "execution": {
     "iopub.execute_input": "2024-11-12T04:11:34.418963Z",
     "iopub.status.busy": "2024-11-12T04:11:34.418415Z",
     "iopub.status.idle": "2024-11-12T04:11:34.423848Z",
     "shell.execute_reply": "2024-11-12T04:11:34.423263Z"
    },
    "papermill": {
     "duration": 0.01331,
     "end_time": "2024-11-12T04:11:34.424970",
     "exception": false,
     "start_time": "2024-11-12T04:11:34.411660",
     "status": "completed"
    },
    "scrolled": false,
    "tags": []
   },
   "outputs": [],
   "source": [
    "def create_carousel(npub=4):\n",
    "    \"\"\" Generate the HTML code for a carousel with `npub` slides \"\"\"\n",
    "    carousel = [\"\"\"  <div class=\"carousel\" \"\"\",\n",
    "                \"\"\"       data-flickity='{ \"autoPlay\": 10000, \"adaptiveHeight\": true, \"resize\": true, \"wrapAround\": true, \"pauseAutoPlayOnHover\": true, \"groupCells\": 1 }' id=\"asyncTypeset\">\"\"\"\n",
    "                ]\n",
    "    \n",
    "    item_str = \"\"\"    <div class=\"carousel-cell\"> <div id=\"slide{k}\" class=\"md_view\">Content {k}</div> </div>\"\"\"\n",
    "    for k in range(1, npub + 1):\n",
    "        carousel.append(item_str.format(k=k))\n",
    "    carousel.append(\"  </div>\")\n",
    "    return '\\n'.join(carousel)\n",
    "\n",
    "def create_grid(npub=4):\n",
    "    \"\"\" Generate the HTML code for a flat grid with `npub` slides \"\"\"\n",
    "    grid = [\"\"\"  <div class=\"grid\"> \"\"\",\n",
    "                ]\n",
    "    \n",
    "    item_str = \"\"\"    <div class=\"grid-item\"> <div id=\"slide{k}\" class=\"md_view\">Content {k}</div> </div>\"\"\"\n",
    "    for k in range(1, npub + 1):\n",
    "        grid.append(item_str.format(k=k))\n",
    "    grid.append(\"  </div>\")\n",
    "    return '\\n'.join(grid)"
   ]
  },
  {
   "cell_type": "code",
   "execution_count": 13,
   "id": "a6eac5b6",
   "metadata": {
    "execution": {
     "iopub.execute_input": "2024-11-12T04:11:34.438051Z",
     "iopub.status.busy": "2024-11-12T04:11:34.437361Z",
     "iopub.status.idle": "2024-11-12T04:11:34.443390Z",
     "shell.execute_reply": "2024-11-12T04:11:34.442665Z"
    },
    "papermill": {
     "duration": 0.013599,
     "end_time": "2024-11-12T04:11:34.444434",
     "exception": false,
     "start_time": "2024-11-12T04:11:34.430835",
     "status": "completed"
    },
    "scrolled": false,
    "tags": []
   },
   "outputs": [],
   "source": [
    "carousel = create_carousel(npub)\n",
    "docs = ', '.join(['\"{0:s}\"'.format(k.split('/')[-1]) for k in res])\n",
    "slides = ', '.join([f'\"slide{k}\"' for k in range(1, npub + 1)])\n",
    "\n",
    "with open(\"daily_template.html\", \"r\") as tpl:\n",
    "    page = tpl.read()\n",
    "    page = page.replace(\"{%-- carousel:s --%}\", carousel)\\\n",
    "               .replace(\"{%-- suptitle:s --%}\",  \"7-day archives\" )\\\n",
    "               .replace(\"{%-- docs:s --%}\", docs)\\\n",
    "               .replace(\"{%-- slides:s --%}\", slides)\n",
    "    \n",
    "with open(\"_build/html/index_7days.html\", 'w') as fout:\n",
    "    fout.write(page)"
   ]
  },
  {
   "cell_type": "code",
   "execution_count": 14,
   "id": "adc1a1ec",
   "metadata": {
    "execution": {
     "iopub.execute_input": "2024-11-12T04:11:34.457651Z",
     "iopub.status.busy": "2024-11-12T04:11:34.457140Z",
     "iopub.status.idle": "2024-11-12T04:11:34.464189Z",
     "shell.execute_reply": "2024-11-12T04:11:34.463570Z"
    },
    "papermill": {
     "duration": 0.014773,
     "end_time": "2024-11-12T04:11:34.465255",
     "exception": false,
     "start_time": "2024-11-12T04:11:34.450482",
     "status": "completed"
    },
    "tags": []
   },
   "outputs": [
    {
     "name": "stdout",
     "output_type": "stream",
     "text": [
      "2  publications in the last day.\n"
     ]
    }
   ],
   "source": [
    "# redo for today\n",
    "days = 1\n",
    "res = list(get_last_n_days(dates, days))\n",
    "npub = len(res)\n",
    "print(len(res), f\" publications in the last day.\")\n",
    "\n",
    "carousel = create_carousel(npub)\n",
    "docs = ', '.join(['\"{0:s}\"'.format(k.split('/')[-1]) for k in res])\n",
    "slides = ', '.join([f'\"slide{k}\"' for k in range(1, npub + 1)])\n",
    "\n",
    "with open(\"daily_template.html\", \"r\") as tpl:\n",
    "    page = tpl.read()\n",
    "    page = page.replace(\"{%-- carousel:s --%}\", carousel)\\\n",
    "               .replace(\"{%-- suptitle:s --%}\",  \"Daily\" )\\\n",
    "               .replace(\"{%-- docs:s --%}\", docs)\\\n",
    "               .replace(\"{%-- slides:s --%}\", slides)\n",
    "    \n",
    "# print(carousel, docs, slides)\n",
    "# print(page)\n",
    "with open(\"_build/html/index_daily.html\", 'w') as fout:\n",
    "    fout.write(page)"
   ]
  },
  {
   "cell_type": "code",
   "execution_count": 15,
   "id": "00eece82",
   "metadata": {
    "execution": {
     "iopub.execute_input": "2024-11-12T04:11:34.478400Z",
     "iopub.status.busy": "2024-11-12T04:11:34.477922Z",
     "iopub.status.idle": "2024-11-12T04:11:34.484675Z",
     "shell.execute_reply": "2024-11-12T04:11:34.484130Z"
    },
    "papermill": {
     "duration": 0.014436,
     "end_time": "2024-11-12T04:11:34.485658",
     "exception": false,
     "start_time": "2024-11-12T04:11:34.471222",
     "status": "completed"
    },
    "scrolled": false,
    "tags": []
   },
   "outputs": [
    {
     "name": "stdout",
     "output_type": "stream",
     "text": [
      "6  6 publications selected.\n"
     ]
    }
   ],
   "source": [
    "# Create the flat grid of the last N papers (fixed number regardless of dates)\n",
    "from itertools import islice \n",
    "\n",
    "npub = 6\n",
    "res = [k[0] for k in (islice(reversed(sorted(dates, key=lambda x: x[1])), 6))]\n",
    "print(len(res), f\" {npub} publications selected.\")\n",
    "\n",
    "grid = create_grid(npub)\n",
    "docs = ', '.join(['\"{0:s}\"'.format(k.split('/')[-1]) for k in res])\n",
    "slides = ', '.join([f'\"slide{k}\"' for k in range(1, npub + 1)])\n",
    "\n",
    "with open(\"grid_template.html\", \"r\") as tpl:\n",
    "    page = tpl.read()\n",
    "    page = page.replace(\"{%-- grid-content:s --%}\", grid)\\\n",
    "               .replace(\"{%-- suptitle:s --%}\",  f\"Last {npub:,d} papers\" )\\\n",
    "               .replace(\"{%-- docs:s --%}\", docs)\\\n",
    "               .replace(\"{%-- slides:s --%}\", slides)\n",
    "    \n",
    "# print(grid, docs, slides)\n",
    "# print(page)\n",
    "with open(\"_build/html/index_npub_grid.html\", 'w') as fout:\n",
    "    fout.write(page)"
   ]
  }
 ],
 "metadata": {
  "kernelspec": {
   "display_name": "Python 3 (ipykernel)",
   "language": "python",
   "name": "python3"
  },
  "language_info": {
   "codemirror_mode": {
    "name": "ipython",
    "version": 3
   },
   "file_extension": ".py",
   "mimetype": "text/x-python",
   "name": "python",
   "nbconvert_exporter": "python",
   "pygments_lexer": "ipython3",
   "version": "3.9.20"
  },
  "papermill": {
   "default_parameters": {},
   "duration": 66.354452,
   "end_time": "2024-11-12T04:11:34.708381",
   "environment_variables": {},
   "exception": null,
   "input_path": "MPIA daily digest.ipynb",
   "output_path": "log.ipynb",
   "parameters": {},
   "start_time": "2024-11-12T04:10:28.353929",
   "version": "2.6.0"
  },
  "vscode": {
   "interpreter": {
    "hash": "aee8b7b246df8f9039afb4144a1f6fd8d2ca17a180786b69acc140d282b71a49"
   }
  },
  "widgets": {
   "application/vnd.jupyter.widget-state+json": {
    "state": {
     "16921a45d34040b6a92c33f9c8b9111f": {
      "model_module": "@jupyter-widgets/controls",
      "model_module_version": "2.0.0",
      "model_name": "HTMLStyleModel",
      "state": {
       "_model_module": "@jupyter-widgets/controls",
       "_model_module_version": "2.0.0",
       "_model_name": "HTMLStyleModel",
       "_view_count": null,
       "_view_module": "@jupyter-widgets/base",
       "_view_module_version": "2.0.0",
       "_view_name": "StyleView",
       "background": null,
       "description_width": "",
       "font_size": null,
       "text_color": null
      }
     },
     "208b764b6d864593bcb150079abc29b5": {
      "model_module": "@jupyter-widgets/controls",
      "model_module_version": "2.0.0",
      "model_name": "HTMLStyleModel",
      "state": {
       "_model_module": "@jupyter-widgets/controls",
       "_model_module_version": "2.0.0",
       "_model_name": "HTMLStyleModel",
       "_view_count": null,
       "_view_module": "@jupyter-widgets/base",
       "_view_module_version": "2.0.0",
       "_view_name": "StyleView",
       "background": null,
       "description_width": "",
       "font_size": null,
       "text_color": null
      }
     },
     "2de833ac399b43e092239efc7c772d31": {
      "model_module": "@jupyter-widgets/controls",
      "model_module_version": "2.0.0",
      "model_name": "HTMLModel",
      "state": {
       "_dom_classes": [],
       "_model_module": "@jupyter-widgets/controls",
       "_model_module_version": "2.0.0",
       "_model_name": "HTMLModel",
       "_view_count": null,
       "_view_module": "@jupyter-widgets/controls",
       "_view_module_version": "2.0.0",
       "_view_name": "HTMLView",
       "description": "",
       "description_allow_html": false,
       "layout": "IPY_MODEL_33b7128aeb2e49e99d9934e9179ac8b6",
       "placeholder": "​",
       "style": "IPY_MODEL_16921a45d34040b6a92c33f9c8b9111f",
       "tabbable": null,
       "tooltip": null,
       "value": "100%"
      }
     },
     "33b7128aeb2e49e99d9934e9179ac8b6": {
      "model_module": "@jupyter-widgets/base",
      "model_module_version": "2.0.0",
      "model_name": "LayoutModel",
      "state": {
       "_model_module": "@jupyter-widgets/base",
       "_model_module_version": "2.0.0",
       "_model_name": "LayoutModel",
       "_view_count": null,
       "_view_module": "@jupyter-widgets/base",
       "_view_module_version": "2.0.0",
       "_view_name": "LayoutView",
       "align_content": null,
       "align_items": null,
       "align_self": null,
       "border_bottom": null,
       "border_left": null,
       "border_right": null,
       "border_top": null,
       "bottom": null,
       "display": null,
       "flex": null,
       "flex_flow": null,
       "grid_area": null,
       "grid_auto_columns": null,
       "grid_auto_flow": null,
       "grid_auto_rows": null,
       "grid_column": null,
       "grid_gap": null,
       "grid_row": null,
       "grid_template_areas": null,
       "grid_template_columns": null,
       "grid_template_rows": null,
       "height": null,
       "justify_content": null,
       "justify_items": null,
       "left": null,
       "margin": null,
       "max_height": null,
       "max_width": null,
       "min_height": null,
       "min_width": null,
       "object_fit": null,
       "object_position": null,
       "order": null,
       "overflow": null,
       "padding": null,
       "right": null,
       "top": null,
       "visibility": null,
       "width": null
      }
     },
     "7b50e030262e4a9a8de9a3d76aaa09bd": {
      "model_module": "@jupyter-widgets/controls",
      "model_module_version": "2.0.0",
      "model_name": "HBoxModel",
      "state": {
       "_dom_classes": [],
       "_model_module": "@jupyter-widgets/controls",
       "_model_module_version": "2.0.0",
       "_model_name": "HBoxModel",
       "_view_count": null,
       "_view_module": "@jupyter-widgets/controls",
       "_view_module_version": "2.0.0",
       "_view_name": "HBoxView",
       "box_style": "",
       "children": [
        "IPY_MODEL_2de833ac399b43e092239efc7c772d31",
        "IPY_MODEL_990484f670d64ae78c3a44be0937f35e",
        "IPY_MODEL_f2190880c0054cb693ee5b648aa1b1e4"
       ],
       "layout": "IPY_MODEL_b3c5d959d18c49999e75e685751de265",
       "tabbable": null,
       "tooltip": null
      }
     },
     "7e1f351794af45b6ac71f4328b1ab1a6": {
      "model_module": "@jupyter-widgets/base",
      "model_module_version": "2.0.0",
      "model_name": "LayoutModel",
      "state": {
       "_model_module": "@jupyter-widgets/base",
       "_model_module_version": "2.0.0",
       "_model_name": "LayoutModel",
       "_view_count": null,
       "_view_module": "@jupyter-widgets/base",
       "_view_module_version": "2.0.0",
       "_view_name": "LayoutView",
       "align_content": null,
       "align_items": null,
       "align_self": null,
       "border_bottom": null,
       "border_left": null,
       "border_right": null,
       "border_top": null,
       "bottom": null,
       "display": null,
       "flex": null,
       "flex_flow": null,
       "grid_area": null,
       "grid_auto_columns": null,
       "grid_auto_flow": null,
       "grid_auto_rows": null,
       "grid_column": null,
       "grid_gap": null,
       "grid_row": null,
       "grid_template_areas": null,
       "grid_template_columns": null,
       "grid_template_rows": null,
       "height": null,
       "justify_content": null,
       "justify_items": null,
       "left": null,
       "margin": null,
       "max_height": null,
       "max_width": null,
       "min_height": null,
       "min_width": null,
       "object_fit": null,
       "object_position": null,
       "order": null,
       "overflow": null,
       "padding": null,
       "right": null,
       "top": null,
       "visibility": null,
       "width": null
      }
     },
     "8538919c10c94fb48e1e9a175d4e07f2": {
      "model_module": "@jupyter-widgets/base",
      "model_module_version": "2.0.0",
      "model_name": "LayoutModel",
      "state": {
       "_model_module": "@jupyter-widgets/base",
       "_model_module_version": "2.0.0",
       "_model_name": "LayoutModel",
       "_view_count": null,
       "_view_module": "@jupyter-widgets/base",
       "_view_module_version": "2.0.0",
       "_view_name": "LayoutView",
       "align_content": null,
       "align_items": null,
       "align_self": null,
       "border_bottom": null,
       "border_left": null,
       "border_right": null,
       "border_top": null,
       "bottom": null,
       "display": null,
       "flex": null,
       "flex_flow": null,
       "grid_area": null,
       "grid_auto_columns": null,
       "grid_auto_flow": null,
       "grid_auto_rows": null,
       "grid_column": null,
       "grid_gap": null,
       "grid_row": null,
       "grid_template_areas": null,
       "grid_template_columns": null,
       "grid_template_rows": null,
       "height": null,
       "justify_content": null,
       "justify_items": null,
       "left": null,
       "margin": null,
       "max_height": null,
       "max_width": null,
       "min_height": null,
       "min_width": null,
       "object_fit": null,
       "object_position": null,
       "order": null,
       "overflow": null,
       "padding": null,
       "right": null,
       "top": null,
       "visibility": null,
       "width": null
      }
     },
     "990484f670d64ae78c3a44be0937f35e": {
      "model_module": "@jupyter-widgets/controls",
      "model_module_version": "2.0.0",
      "model_name": "FloatProgressModel",
      "state": {
       "_dom_classes": [],
       "_model_module": "@jupyter-widgets/controls",
       "_model_module_version": "2.0.0",
       "_model_name": "FloatProgressModel",
       "_view_count": null,
       "_view_module": "@jupyter-widgets/controls",
       "_view_module_version": "2.0.0",
       "_view_name": "ProgressView",
       "bar_style": "success",
       "description": "",
       "description_allow_html": false,
       "layout": "IPY_MODEL_8538919c10c94fb48e1e9a175d4e07f2",
       "max": 7.0,
       "min": 0.0,
       "orientation": "horizontal",
       "style": "IPY_MODEL_ede4649f3da04a67901541abe9d3dd7c",
       "tabbable": null,
       "tooltip": null,
       "value": 7.0
      }
     },
     "b3c5d959d18c49999e75e685751de265": {
      "model_module": "@jupyter-widgets/base",
      "model_module_version": "2.0.0",
      "model_name": "LayoutModel",
      "state": {
       "_model_module": "@jupyter-widgets/base",
       "_model_module_version": "2.0.0",
       "_model_name": "LayoutModel",
       "_view_count": null,
       "_view_module": "@jupyter-widgets/base",
       "_view_module_version": "2.0.0",
       "_view_name": "LayoutView",
       "align_content": null,
       "align_items": null,
       "align_self": null,
       "border_bottom": null,
       "border_left": null,
       "border_right": null,
       "border_top": null,
       "bottom": null,
       "display": null,
       "flex": null,
       "flex_flow": null,
       "grid_area": null,
       "grid_auto_columns": null,
       "grid_auto_flow": null,
       "grid_auto_rows": null,
       "grid_column": null,
       "grid_gap": null,
       "grid_row": null,
       "grid_template_areas": null,
       "grid_template_columns": null,
       "grid_template_rows": null,
       "height": null,
       "justify_content": null,
       "justify_items": null,
       "left": null,
       "margin": null,
       "max_height": null,
       "max_width": null,
       "min_height": null,
       "min_width": null,
       "object_fit": null,
       "object_position": null,
       "order": null,
       "overflow": null,
       "padding": null,
       "right": null,
       "top": null,
       "visibility": null,
       "width": null
      }
     },
     "ede4649f3da04a67901541abe9d3dd7c": {
      "model_module": "@jupyter-widgets/controls",
      "model_module_version": "2.0.0",
      "model_name": "ProgressStyleModel",
      "state": {
       "_model_module": "@jupyter-widgets/controls",
       "_model_module_version": "2.0.0",
       "_model_name": "ProgressStyleModel",
       "_view_count": null,
       "_view_module": "@jupyter-widgets/base",
       "_view_module_version": "2.0.0",
       "_view_name": "StyleView",
       "bar_color": null,
       "description_width": ""
      }
     },
     "f2190880c0054cb693ee5b648aa1b1e4": {
      "model_module": "@jupyter-widgets/controls",
      "model_module_version": "2.0.0",
      "model_name": "HTMLModel",
      "state": {
       "_dom_classes": [],
       "_model_module": "@jupyter-widgets/controls",
       "_model_module_version": "2.0.0",
       "_model_name": "HTMLModel",
       "_view_count": null,
       "_view_module": "@jupyter-widgets/controls",
       "_view_module_version": "2.0.0",
       "_view_name": "HTMLView",
       "description": "",
       "description_allow_html": false,
       "layout": "IPY_MODEL_7e1f351794af45b6ac71f4328b1ab1a6",
       "placeholder": "​",
       "style": "IPY_MODEL_208b764b6d864593bcb150079abc29b5",
       "tabbable": null,
       "tooltip": null,
       "value": " 7/7 [00:46&lt;00:00,  4.59s/it]"
      }
     }
    },
    "version_major": 2,
    "version_minor": 0
   }
  }
 },
 "nbformat": 4,
 "nbformat_minor": 5
}