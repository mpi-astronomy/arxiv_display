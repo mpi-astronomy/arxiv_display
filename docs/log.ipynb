{
 "cells": [
  {
   "cell_type": "markdown",
   "id": "92bcb855",
   "metadata": {
    "papermill": {
     "duration": 0.00624,
     "end_time": "2023-06-05T04:05:39.295993",
     "exception": false,
     "start_time": "2023-06-05T04:05:39.289753",
     "status": "completed"
    },
    "tags": []
   },
   "source": [
    "# MPIA Arxiv on Deck 2\n",
    "\n",
    "Contains the steps to produce the paper extractions."
   ]
  },
  {
   "cell_type": "code",
   "execution_count": 1,
   "id": "3a0d6e11",
   "metadata": {
    "execution": {
     "iopub.execute_input": "2023-06-05T04:05:39.307633Z",
     "iopub.status.busy": "2023-06-05T04:05:39.307258Z",
     "iopub.status.idle": "2023-06-05T04:05:39.623888Z",
     "shell.execute_reply": "2023-06-05T04:05:39.622883Z"
    },
    "papermill": {
     "duration": 0.32573,
     "end_time": "2023-06-05T04:05:39.626603",
     "exception": false,
     "start_time": "2023-06-05T04:05:39.300873",
     "status": "completed"
    },
    "tags": []
   },
   "outputs": [],
   "source": [
    "# Imports\n",
    "import os\n",
    "from IPython.display import Markdown, display\n",
    "from tqdm.notebook import tqdm\n",
    "import warnings\n",
    "from PIL import Image \n",
    "\n",
    "# requires arxiv_on_deck_2\n",
    "\n",
    "from arxiv_on_deck_2.arxiv2 import (get_new_papers, \n",
    "                                    get_paper_from_identifier,\n",
    "                                    retrieve_document_source, \n",
    "                                    get_markdown_badge)\n",
    "from arxiv_on_deck_2 import (latex,\n",
    "                             latex_bib,\n",
    "                             mpia,\n",
    "                             highlight_authors_in_list)\n",
    "\n",
    "# Sometimes images are really big\n",
    "Image.MAX_IMAGE_PIXELS = 1000000000 "
   ]
  },
  {
   "cell_type": "code",
   "execution_count": 2,
   "id": "22aa9d44",
   "metadata": {
    "execution": {
     "iopub.execute_input": "2023-06-05T04:05:39.639502Z",
     "iopub.status.busy": "2023-06-05T04:05:39.638758Z",
     "iopub.status.idle": "2023-06-05T04:05:39.646635Z",
     "shell.execute_reply": "2023-06-05T04:05:39.645819Z"
    },
    "papermill": {
     "duration": 0.01717,
     "end_time": "2023-06-05T04:05:39.649080",
     "exception": false,
     "start_time": "2023-06-05T04:05:39.631910",
     "status": "completed"
    },
    "tags": []
   },
   "outputs": [],
   "source": [
    "# Some useful definitions.\n",
    "\n",
    "class AffiliationWarning(UserWarning):\n",
    "    pass\n",
    "\n",
    "class AffiliationError(RuntimeError):\n",
    "    pass\n",
    "\n",
    "def validation(source: str):\n",
    "    \"\"\"Raises error paper during parsing of source file\n",
    "    \n",
    "    Allows checks before parsing TeX code.\n",
    "    \n",
    "    Raises AffiliationWarning\n",
    "    \"\"\"\n",
    "    check = mpia.affiliation_verifications(source, verbose=True)\n",
    "    if check is not True:\n",
    "        raise AffiliationError(\"mpia.affiliation_verifications: \" + check)\n",
    "\n",
    "        \n",
    "warnings.simplefilter('always', AffiliationWarning)\n",
    "\n",
    "\n",
    "def get_markdown_qrcode(paper_id: str):\n",
    "    \"\"\" Generate a qrcode to the arxiv page using qrserver.com\n",
    "    \n",
    "    :param paper: Arxiv paper\n",
    "    :returns: markdown text\n",
    "    \"\"\"\n",
    "    url = r\"https://api.qrserver.com/v1/create-qr-code/?size=100x100&data=\"\n",
    "    txt = f\"\"\"<img src={url}\"https://arxiv.org/abs/{paper_id}\">\"\"\"\n",
    "    txt = '<div id=\"qrcode\">' + txt + '</div>'\n",
    "    return txt"
   ]
  },
  {
   "cell_type": "markdown",
   "id": "14bd6310",
   "metadata": {
    "papermill": {
     "duration": 0.004456,
     "end_time": "2023-06-05T04:05:39.658513",
     "exception": false,
     "start_time": "2023-06-05T04:05:39.654057",
     "status": "completed"
    },
    "tags": []
   },
   "source": [
    "## get list of arxiv paper candidates\n",
    "\n",
    "We use the MPIA mitarbeiter list webpage from mpia.de to get author names\n",
    "We then get all new papers from Arxiv and match authors"
   ]
  },
  {
   "cell_type": "code",
   "execution_count": 3,
   "id": "2645e73a",
   "metadata": {
    "execution": {
     "iopub.execute_input": "2023-06-05T04:05:39.669606Z",
     "iopub.status.busy": "2023-06-05T04:05:39.669226Z",
     "iopub.status.idle": "2023-06-05T04:06:06.502985Z",
     "shell.execute_reply": "2023-06-05T04:06:06.502069Z"
    },
    "papermill": {
     "duration": 26.842235,
     "end_time": "2023-06-05T04:06:06.505401",
     "exception": false,
     "start_time": "2023-06-05T04:05:39.663166",
     "status": "completed"
    },
    "tags": []
   },
   "outputs": [
    {
     "name": "stdout",
     "output_type": "stream",
     "text": [
      "A. Pillepich  ->  A. Pillepich  |  ['A. Pillepich']\n",
      "L. Eisert  ->  L. Eisert  |  ['L. Eisert']\n",
      "X. Zhang  ->  X. Zhang  |  ['X. Zhang']\n",
      "Arxiv has 57 new papers today\n",
      "          2 with possible author matches\n"
     ]
    }
   ],
   "source": [
    "# get list from MPIA website\n",
    "# it automatically filters identified non-scientists :func:`mpia.filter_non_scientists`\n",
    "mpia_authors = mpia.get_mpia_mitarbeiter_list()\n",
    "normed_mpia_authors = [k[1] for k in mpia_authors]   # initials + fullname\n",
    "new_papers = get_new_papers()\n",
    "# add manual references\n",
    "add_paper_refs = []\n",
    "new_papers.extend([get_paper_from_identifier(k) for k in add_paper_refs])\n",
    "\n",
    "candidates = []\n",
    "for paperk in new_papers:\n",
    "    # Check author list with their initials\n",
    "    normed_author_list = [mpia.get_initials(k) for k in paperk['authors']]\n",
    "    hl_authors = highlight_authors_in_list(normed_author_list, normed_mpia_authors, verbose=True)\n",
    "    matches = [(hl, orig) for hl, orig in zip(hl_authors, paperk['authors']) if 'mark' in hl]\n",
    "    paperk['authors'] = hl_authors\n",
    "    if matches:\n",
    "        # only select paper if an author matched our list\n",
    "        candidates.append(paperk)\n",
    "print(\"\"\"Arxiv has {0:,d} new papers today\"\"\".format(len(new_papers)))        \n",
    "print(\"\"\"          {0:,d} with possible author matches\"\"\".format(len(candidates)))"
   ]
  },
  {
   "cell_type": "markdown",
   "id": "3543b34a",
   "metadata": {
    "papermill": {
     "duration": 0.005023,
     "end_time": "2023-06-05T04:06:06.515487",
     "exception": false,
     "start_time": "2023-06-05T04:06:06.510464",
     "status": "completed"
    },
    "tags": []
   },
   "source": [
    "# Parse sources and generate relevant outputs\n",
    "\n",
    "From the candidates, we do the following steps:\n",
    "* get their tarball from ArXiv (and extract data)\n",
    "* find the main .tex file: find one with \\documentclass{...} (sometimes it's non trivial)\n",
    "* Check affiliations with :func:`validation`, which uses :func:`mpia.affiliation_verifications`\n",
    "* If passing the affiliations: we parse the .tex source\n",
    "   * inject sub-documents into the main (flatten the main document)\n",
    "   * parse structure, extract information (title, abstract, authors, figures...)\n",
    "   * handles `\\graphicspath` if provided\n",
    "* Generate the .md document."
   ]
  },
  {
   "cell_type": "code",
   "execution_count": 4,
   "id": "9576b79e",
   "metadata": {
    "execution": {
     "iopub.execute_input": "2023-06-05T04:06:06.529505Z",
     "iopub.status.busy": "2023-06-05T04:06:06.529030Z",
     "iopub.status.idle": "2023-06-05T04:06:19.710744Z",
     "shell.execute_reply": "2023-06-05T04:06:19.709930Z"
    },
    "papermill": {
     "duration": 13.190214,
     "end_time": "2023-06-05T04:06:19.712849",
     "exception": false,
     "start_time": "2023-06-05T04:06:06.522635",
     "status": "completed"
    },
    "scrolled": false,
    "tags": []
   },
   "outputs": [
    {
     "data": {
      "application/vnd.jupyter.widget-view+json": {
       "model_id": "df031295f8604d9391858fea9ab66624",
       "version_major": 2,
       "version_minor": 0
      },
      "text/plain": [
       "  0%|          | 0/1 [00:00<?, ?it/s]"
      ]
     },
     "metadata": {},
     "output_type": "display_data"
    },
    {
     "name": "stdout",
     "output_type": "stream",
     "text": [
      "Retrieving document from  https://arxiv.org/e-print/2306.01056\n"
     ]
    },
    {
     "name": "stdout",
     "output_type": "stream",
     "text": [
      "extracting tarball to tmp_2306.01056..."
     ]
    },
    {
     "name": "stdout",
     "output_type": "stream",
     "text": [
      " done.\n"
     ]
    },
    {
     "name": "stderr",
     "output_type": "stream",
     "text": [
      "/opt/hostedtoolcache/Python/3.9.16/x64/lib/python3.9/site-packages/IPython/core/interactiveshell.py:3508: LatexWarning: Multiple tex files.\n",
      "\n",
      "  exec(code_obj, self.user_global_ns, self.user_ns)\n",
      "/opt/hostedtoolcache/Python/3.9.16/x64/lib/python3.9/site-packages/IPython/core/interactiveshell.py:3508: LatexWarning: Found documentclass in tmp_2306.01056/main.tex\n",
      "\n",
      "  exec(code_obj, self.user_global_ns, self.user_ns)\n",
      "/opt/hostedtoolcache/Python/3.9.16/x64/lib/python3.9/site-packages/arxiv_on_deck_2/latex.py:399: LatexWarning: Latex injecting: 'appendix/appendix' from 'tmp_2306.01056/appendix/appendix.tex'\n",
      "  warnings.warn(LatexWarning(f\"Latex injecting: '{ext}' from '{subsource}'\"))\n",
      "/opt/hostedtoolcache/Python/3.9.16/x64/lib/python3.9/site-packages/arxiv_on_deck_2/latex.py:399: LatexWarning: Latex injecting: 'conclusion/conclusion' from 'tmp_2306.01056/conclusion/conclusion.tex'\n",
      "  warnings.warn(LatexWarning(f\"Latex injecting: '{ext}' from '{subsource}'\"))\n",
      "/opt/hostedtoolcache/Python/3.9.16/x64/lib/python3.9/site-packages/arxiv_on_deck_2/latex.py:399: LatexWarning: Latex injecting: 'discussion/discussion' from 'tmp_2306.01056/discussion/discussion.tex'\n",
      "  warnings.warn(LatexWarning(f\"Latex injecting: '{ext}' from '{subsource}'\"))\n",
      "/opt/hostedtoolcache/Python/3.9.16/x64/lib/python3.9/site-packages/arxiv_on_deck_2/latex.py:399: LatexWarning: Latex injecting: 'results/results' from 'tmp_2306.01056/results/results.tex'\n",
      "  warnings.warn(LatexWarning(f\"Latex injecting: '{ext}' from '{subsource}'\"))\n",
      "/opt/hostedtoolcache/Python/3.9.16/x64/lib/python3.9/site-packages/arxiv_on_deck_2/latex.py:399: LatexWarning: Latex injecting: 'methodology/methodology' from 'tmp_2306.01056/methodology/methodology.tex'\n",
      "  warnings.warn(LatexWarning(f\"Latex injecting: '{ext}' from '{subsource}'\"))\n",
      "/opt/hostedtoolcache/Python/3.9.16/x64/lib/python3.9/site-packages/arxiv_on_deck_2/latex.py:399: LatexWarning: Latex injecting: 'data/data' from 'tmp_2306.01056/data/data.tex'\n",
      "  warnings.warn(LatexWarning(f\"Latex injecting: '{ext}' from '{subsource}'\"))\n",
      "/opt/hostedtoolcache/Python/3.9.16/x64/lib/python3.9/site-packages/arxiv_on_deck_2/latex.py:399: LatexWarning: Latex injecting: 'introduction/introduction' from 'tmp_2306.01056/introduction/introduction.tex'\n",
      "  warnings.warn(LatexWarning(f\"Latex injecting: '{ext}' from '{subsource}'\"))\n"
     ]
    },
    {
     "name": "stdout",
     "output_type": "stream",
     "text": [
      "Found 68 bibliographic references in tmp_2306.01056/main.bbl.\n"
     ]
    }
   ],
   "source": [
    "documents = []\n",
    "failed = []\n",
    "for paper in tqdm(candidates[:-1]):\n",
    "    paper_id = paper['identifier'].lower().replace('arxiv:', '')\n",
    "    \n",
    "    folder = f'tmp_{paper_id}'\n",
    "\n",
    "    try:\n",
    "        if not os.path.isdir(folder):\n",
    "            folder = retrieve_document_source(f\"{paper_id}\", f'tmp_{paper_id}')\n",
    "        \n",
    "        try:\n",
    "            doc = latex.LatexDocument(folder, validation=validation)    \n",
    "        except AffiliationError as affilerror:\n",
    "            msg = f\"ArXiv:{paper_id:s} is not an MPIA paper... \" + str(affilerror)\n",
    "            failed.append((paper, \"affiliation error: \" + str(affilerror) ))\n",
    "            continue\n",
    "        \n",
    "        # Hack because sometimes author parsing does not work well\n",
    "        if (len(doc.authors) != len(paper['authors'])):\n",
    "            doc._authors = paper['authors']\n",
    "        else:\n",
    "            # highlight authors (FIXME: doc.highlight_authors)\n",
    "            # done on arxiv paper already\n",
    "            doc._authors = highlight_authors_in_list(\n",
    "                [mpia.get_initials(k) for k in doc.authors], \n",
    "                normed_mpia_authors, verbose=True)\n",
    "        if (doc.abstract) in (None, ''):\n",
    "            doc._abstract = paper['abstract']\n",
    "            \n",
    "        doc.comment = (get_markdown_badge(paper_id) + \n",
    "                       \"<mark>Appeared on: \" + paper['date'] + \"</mark> - \")\n",
    "        if paper['comments']:\n",
    "            doc.comment += \" _\" + paper['comments'] + \"_\"\n",
    "        \n",
    "        full_md = doc.generate_markdown_text()\n",
    "        \n",
    "        full_md += get_markdown_qrcode(paper_id)\n",
    "        \n",
    "        # replace citations\n",
    "        try:\n",
    "            bibdata = latex_bib.LatexBib.from_doc(doc)\n",
    "            full_md = latex_bib.replace_citations(full_md, bibdata)\n",
    "        except Exception as e:\n",
    "            print(e)\n",
    "        \n",
    "        documents.append((paper_id, full_md))\n",
    "    except Exception as e:\n",
    "        warnings.warn(latex.LatexWarning(f\"{paper_id:s} did not run properly\\n\" +\n",
    "                                         str(e)\n",
    "                                        ))\n",
    "        failed.append((paper, \"latex error \" + str(e)))"
   ]
  },
  {
   "cell_type": "markdown",
   "id": "2505a25c",
   "metadata": {
    "papermill": {
     "duration": 0.005319,
     "end_time": "2023-06-05T04:06:19.725299",
     "exception": false,
     "start_time": "2023-06-05T04:06:19.719980",
     "status": "completed"
    },
    "tags": []
   },
   "source": [
    "### Export the logs\n",
    "\n",
    "Throughout, we also keep track of the logs per paper. see `logs-{today date}.md` "
   ]
  },
  {
   "cell_type": "code",
   "execution_count": 5,
   "id": "d733828a",
   "metadata": {
    "execution": {
     "iopub.execute_input": "2023-06-05T04:06:19.737601Z",
     "iopub.status.busy": "2023-06-05T04:06:19.736722Z",
     "iopub.status.idle": "2023-06-05T04:06:19.752188Z",
     "shell.execute_reply": "2023-06-05T04:06:19.751497Z"
    },
    "papermill": {
     "duration": 0.024077,
     "end_time": "2023-06-05T04:06:19.754248",
     "exception": false,
     "start_time": "2023-06-05T04:06:19.730171",
     "status": "completed"
    },
    "scrolled": false,
    "tags": []
   },
   "outputs": [
    {
     "data": {
      "text/markdown": [
       "## Successful papers"
      ],
      "text/plain": [
       "<IPython.core.display.Markdown object>"
      ]
     },
     "metadata": {},
     "output_type": "display_data"
    },
    {
     "data": {
      "text/markdown": [
       "\n",
       "|||\n",
       "|---:|:---|\n",
       "| [![arXiv](https://img.shields.io/badge/arXiv-arXiv:2306.01056-b31b1b.svg)](https://arxiv.org/abs/arXiv:2306.01056) | **ERGO-ML: Towards a robust machine learning model for inferring the  fraction of accreted stars in galaxies from integral-field spectroscopic maps**  |\n",
       "|| E. Angeloudi, et al. -- incl., <mark>A. Pillepich</mark>, <mark>L. Eisert</mark> |\n",
       "|*Appeared on*| *2023-06-05*|\n",
       "|*Comments*| *23 pages, 15 figures. Accepted for publication in MNRAS*|\n",
       "|**Abstract**| Quantifying the contribution of mergers to the stellar mass of galaxies is key for constraining the mechanisms of galaxy assembly across cosmic time. However, the mapping between observable galaxy properties and merger histories is not trivial: cosmological galaxy simulations are the only tools we have for calibration. We study the robustness of a simulation-based inference of the ex-situ stellar mass fraction of nearby galaxies to different observables -- integrated and spatially-resolved -- and to different galaxy formation models -- IllustrisTNG and EAGLE -- with Machine Learning. We find that at fixed simulation, the fraction of accreted stars can be inferred with very high accuracy, with an error $\\sim5$ per cent (10 per cent) from 2D integral-field spectroscopic maps (integrated quantities) throughout the considered stellar mass range. A bias (> 5 per cent) and an increase in scatter by a factor of 2 are introduced when testing with a different simulation, revealing a lack of generalization to distinct galaxy-formation models. Interestingly, upon using only stellar mass and kinematics maps in the central galactic regions for training, we find that this bias is removed and the ex-situ stellar mass fraction can be recovered in both simulations with < 15 per cent scatter, independently of the training set's origin. This opens up the door to a potential robust inference of the accretion histories of galaxies from existing Integral Field Unit surveys, such as MaNGA, covering a similar field of view (FOV) and containing spatially-resolved spectra for tens of thousands of nearby galaxies. |"
      ],
      "text/plain": [
       "[arXiv:2306.01056] ERGO-ML: Towards a robust machine learning model for inferring the  fraction of accreted stars in galaxies from integral-field spectroscopic maps\n",
       "\tE. Angeloudi, et al. -- incl., <mark>A. Pillepich</mark>, <mark>L. Eisert</mark>"
      ]
     },
     "metadata": {},
     "output_type": "display_data"
    },
    {
     "data": {
      "text/markdown": [
       "## Failed papers"
      ],
      "text/plain": [
       "<IPython.core.display.Markdown object>"
      ]
     },
     "metadata": {},
     "output_type": "display_data"
    }
   ],
   "source": [
    "import datetime\n",
    "today = str(datetime.date.today())\n",
    "logfile = f\"_build/html/logs/log-{today}.md\"\n",
    "\n",
    "\n",
    "with open(logfile, 'w') as logs:\n",
    "    # Success\n",
    "    logs.write(f'# Arxiv on Deck 2: Logs - {today}\\n\\n')\n",
    "    logs.write(\"\"\"* Arxiv had {0:,d} new papers\\n\"\"\".format(len(new_papers)))\n",
    "    logs.write(\"\"\"    * {0:,d} with possible author matches\\n\\n\"\"\".format(len(candidates)))\n",
    "    logs.write(\"## Sucessful papers\\n\\n\")\n",
    "    display(Markdown(\"## Successful papers\"))\n",
    "    success = [k[0] for k in documents]\n",
    "    for candid in candidates:\n",
    "        if candid['identifier'].split(':')[-1] in success:\n",
    "            display(candid)\n",
    "            logs.write(candid.generate_markdown_text() + '\\n\\n')\n",
    "\n",
    "    ## failed\n",
    "    logs.write(\"## Failed papers\\n\\n\")\n",
    "    display(Markdown(\"## Failed papers\"))\n",
    "    failed = sorted(failed, key=lambda x: x[1])\n",
    "    current_reason = \"\"\n",
    "    for paper, reason in failed:\n",
    "        if 'affiliation' in reason:\n",
    "            color = 'green'\n",
    "        else:\n",
    "            color = 'red'\n",
    "        data = Markdown(\n",
    "                paper.generate_markdown_text() + \n",
    "                f'\\n|<p style=\"color:{color:s}\"> **ERROR** </p>| <p style=\"color:{color:s}\">{reason:s}</p> |'\n",
    "               )\n",
    "        if reason != current_reason:\n",
    "            logs.write(f'### {reason:s} \\n\\n')\n",
    "            current_reason = reason\n",
    "        logs.write(data.data + '\\n\\n')\n",
    "        \n",
    "        # only display here the important errors (all in logs)\n",
    "        # if color in ('red',):\n",
    "        display(data)"
   ]
  },
  {
   "cell_type": "markdown",
   "id": "472d20ee",
   "metadata": {
    "papermill": {
     "duration": 0.005583,
     "end_time": "2023-06-05T04:06:19.765562",
     "exception": false,
     "start_time": "2023-06-05T04:06:19.759979",
     "status": "completed"
    },
    "tags": []
   },
   "source": [
    "## Export documents\n",
    "\n",
    "We now write the .md files and export relevant images"
   ]
  },
  {
   "cell_type": "code",
   "execution_count": 6,
   "id": "d426aed9",
   "metadata": {
    "execution": {
     "iopub.execute_input": "2023-06-05T04:06:19.777895Z",
     "iopub.status.busy": "2023-06-05T04:06:19.777154Z",
     "iopub.status.idle": "2023-06-05T04:06:19.786543Z",
     "shell.execute_reply": "2023-06-05T04:06:19.785555Z"
    },
    "papermill": {
     "duration": 0.017992,
     "end_time": "2023-06-05T04:06:19.788831",
     "exception": false,
     "start_time": "2023-06-05T04:06:19.770839",
     "status": "completed"
    },
    "tags": []
   },
   "outputs": [],
   "source": [
    "def export_markdown_summary(md: str, md_fname:str, directory: str):\n",
    "    \"\"\"Export MD document and associated relevant images\"\"\"\n",
    "    import os\n",
    "    import shutil\n",
    "    import re\n",
    "\n",
    "    if (os.path.exists(directory) and not os.path.isdir(directory)):\n",
    "        raise RuntimeError(f\"a non-directory file exists with name {directory:s}\")\n",
    "\n",
    "    if (not os.path.exists(directory)):\n",
    "        print(f\"creating directory {directory:s}\")\n",
    "        os.mkdir(directory)\n",
    "\n",
    "    fig_fnames = (re.compile(r'\\[Fig.*\\]\\((.*)\\)').findall(md) + \n",
    "                  re.compile(r'\\<img src=\"([^>\\s]*)\"[^>]*/>').findall(md))\n",
    "    for fname in fig_fnames:\n",
    "        if 'http' in fname:\n",
    "            # No need to copy online figures\n",
    "            continue\n",
    "        destdir = os.path.join(directory, os.path.dirname(fname))\n",
    "        destfname = os.path.join(destdir, os.path.basename(fname))\n",
    "        try:\n",
    "            os.makedirs(destdir)\n",
    "        except FileExistsError:\n",
    "            pass\n",
    "        shutil.copy(fname, destfname)\n",
    "    with open(os.path.join(directory, md_fname), 'w') as fout:\n",
    "        fout.write(md)\n",
    "    print(\"exported in \", os.path.join(directory, md_fname))\n",
    "    [print(\"    + \" + os.path.join(directory,fk)) for fk in fig_fnames]"
   ]
  },
  {
   "cell_type": "code",
   "execution_count": 7,
   "id": "014d04a4",
   "metadata": {
    "execution": {
     "iopub.execute_input": "2023-06-05T04:06:19.801583Z",
     "iopub.status.busy": "2023-06-05T04:06:19.800806Z",
     "iopub.status.idle": "2023-06-05T04:06:19.809044Z",
     "shell.execute_reply": "2023-06-05T04:06:19.808126Z"
    },
    "papermill": {
     "duration": 0.017087,
     "end_time": "2023-06-05T04:06:19.811057",
     "exception": false,
     "start_time": "2023-06-05T04:06:19.793970",
     "status": "completed"
    },
    "tags": []
   },
   "outputs": [
    {
     "name": "stdout",
     "output_type": "stream",
     "text": [
      "exported in  _build/html/2306.01056.md\n",
      "    + _build/html/tmp_2306.01056/./x_figures/Relative_Errors/Channels_ALL_on_TNG.png\n",
      "    + _build/html/tmp_2306.01056/./x_figures/Relative_Errors/Channels_ALL_on_EAGLE.png\n",
      "    + _build/html/tmp_2306.01056/./x_figures/Balance/tng_hist.png\n",
      "    + _build/html/tmp_2306.01056/./x_figures/Balance/eagle_hist.png\n",
      "    + _build/html/tmp_2306.01056/./x_figures/Balance/tng_balanced_hist.png\n",
      "    + _build/html/tmp_2306.01056/./x_figures/Balance/eagle_balanced_hist.png\n",
      "    + _build/html/tmp_2306.01056/./x_figures/Catalog_predictions/TNG_on_TNG_model_All.png\n",
      "    + _build/html/tmp_2306.01056/./x_figures/Groundtruth_vs_Predictions/TNG_on_TNG_model_All.png\n",
      "    + _build/html/tmp_2306.01056/./x_figures/Catalog_predictions/EAGLE_on_EAGLE_model_All.png\n",
      "    + _build/html/tmp_2306.01056/./x_figures/Groundtruth_vs_Predictions/EAGLE_on_EAGLE_model_All.png\n"
     ]
    }
   ],
   "source": [
    "for paper_id, md in documents:\n",
    "    export_markdown_summary(md, f\"{paper_id:s}.md\", '_build/html/')"
   ]
  },
  {
   "cell_type": "markdown",
   "id": "f087a0a7",
   "metadata": {
    "papermill": {
     "duration": 0.005314,
     "end_time": "2023-06-05T04:06:19.822127",
     "exception": false,
     "start_time": "2023-06-05T04:06:19.816813",
     "status": "completed"
    },
    "tags": []
   },
   "source": [
    "## Display the papers\n",
    "\n",
    "Not necessary but allows for a quick check."
   ]
  },
  {
   "cell_type": "code",
   "execution_count": 8,
   "id": "fd25f625",
   "metadata": {
    "execution": {
     "iopub.execute_input": "2023-06-05T04:06:19.836012Z",
     "iopub.status.busy": "2023-06-05T04:06:19.835238Z",
     "iopub.status.idle": "2023-06-05T04:06:19.842044Z",
     "shell.execute_reply": "2023-06-05T04:06:19.841217Z"
    },
    "papermill": {
     "duration": 0.01622,
     "end_time": "2023-06-05T04:06:19.844330",
     "exception": false,
     "start_time": "2023-06-05T04:06:19.828110",
     "status": "completed"
    },
    "scrolled": false,
    "tags": []
   },
   "outputs": [
    {
     "data": {
      "text/markdown": [
       "<div class=\"macros\" style=\"visibility:hidden;\">\n",
       "$\\newcommand{\\ensuremath}{}$\n",
       "$\\newcommand{\\xspace}{}$\n",
       "$\\newcommand{\\object}[1]{\\texttt{#1}}$\n",
       "$\\newcommand{\\farcs}{{.}''}$\n",
       "$\\newcommand{\\farcm}{{.}'}$\n",
       "$\\newcommand{\\arcsec}{''}$\n",
       "$\\newcommand{\\arcmin}{'}$\n",
       "$\\newcommand{\\ion}[2]{#1#2}$\n",
       "$\\newcommand{\\textsc}[1]{\\textrm{#1}}$\n",
       "$\\newcommand{\\hl}[1]{\\textrm{#1}}$\n",
       "$\\newcommand{\\footnote}[1]{}$\n",
       "$\\newcommand{\\rowname}[1]$\n",
       "$\\newcommand{\\columnname}[1]$\n",
       "$\\newcommand{\\ap}[1]{{\\color{magenta} #1}}$\n",
       "$\\newcommand{\\thebibliography}{\\DeclareRobustCommand{\\VAN}[3]{##3}\\VANthebibliography}$</div>\n",
       "\n",
       "\n",
       "\n",
       "<div id=\"title\">\n",
       "\n",
       "# ERGO-ML: Towards a robust machine learning model for inferring the fraction of accreted stars in galaxies from integral-field spectroscopic maps\n",
       "\n",
       "</div>\n",
       "<div id=\"comments\">\n",
       "\n",
       "[![arXiv](https://img.shields.io/badge/arXiv-2306.01056-b31b1b.svg)](https://arxiv.org/abs/2306.01056)<mark>Appeared on: 2023-06-05</mark> -  _23 pages, 15 figures. Accepted for publication in MNRAS_\n",
       "\n",
       "</div>\n",
       "<div id=\"authors\">\n",
       "\n",
       "E. Angeloudi, et al. -- incl., <mark>A. Pillepich</mark>, <mark>L. Eisert</mark>\n",
       "\n",
       "</div>\n",
       "<div id=\"abstract\">\n",
       "\n",
       "**Abstract:** $\\noindent$ Quantifying the contribution of mergers to the stellar mass of galaxies is key for constraining the mechanisms of galaxy assembly across cosmic time. However, the mapping between observable galaxy properties and merger histories is not trivial: cosmological galaxy simulations are the only  tools we have for calibration. We study the robustness of a simulation-based inference of the ex-situ stellar mass fraction of nearby galaxies to different observables -- integrated and spatially-resolved -- and to different galaxy formation models -- IllustrisTNG and EAGLE -- with Machine Learning. We find that at fixed simulation, the fraction of accreted stars can be inferred with very high accuracy, with an error $\\sim5$ per cent (10 per cent) from 2D integral-field spectroscopic maps (integrated quantities) throughout the considered stellar mass range. A bias (> 5 per cent) and an increase in scatter by a factor of 2 are introduced when testing with a different simulation, revealing a lack of generalization to distinct galaxy-formation models. Interestingly, upon using only stellar mass and kinematics maps in the central galactic regions for training, we find that this bias is removed and the ex-situ stellar mass fraction can be recovered in both simulations with <15 per cent scatter, independently of the training set's origin. This opens up the door to a potential robust inference of the accretion histories of galaxies from existing Integral Field Unit surveys, such as MaNGA, covering a similar field of view (FOV) and containing spatially-resolved spectra for tens of thousands of nearby galaxies. $\\$\n",
       "\n",
       "</div>\n",
       "\n",
       "<div id=\"div_fig1\">\n",
       "\n",
       "<img src=\"tmp_2306.01056/./x_figures/Relative_Errors/Channels_ALL_on_TNG.png\" alt=\"Fig10.1\" width=\"50%\"/><img src=\"tmp_2306.01056/./x_figures/Relative_Errors/Channels_ALL_on_EAGLE.png\" alt=\"Fig10.2\" width=\"50%\"/>\n",
       "\n",
       "**Figure 10. -** The prediction error (prediction - ground truth) versus the ex-situ stellar mass fraction ground-truth for all galaxies in the TNG100 (a) and EAGLE test set (b) for three different combinations of the input channels. For each panel the median of the over- or under-prediction is illustrated as a solid line and the shaded regions include the 68 per cent of the data points. The medians of the other channels combinations are also displayed in every panel for visual reference. **Top:** The prediction errors of models trained on three different input combinations when applied on the TNG100 test set. **Bottom:** The prediction errors of models trained on three different input combinations when applied on the EAGLE-L100 test set. In both sub-figures, we illustrate on the first column the results when testing and training in a single simulation setup and the second column corresponds to the cross-testing scenario across simulations. Each row corresponds to a distinct configuration of the input channels in the 2D maps. Spatially-resolved maps of stellar mass and kinematics prove to be the most robust predictors across simulations. (*fig:results_relative_error_channels*)\n",
       "\n",
       "</div>\n",
       "<div id=\"div_fig2\">\n",
       "\n",
       "<img src=\"tmp_2306.01056/./x_figures/Balance/tng_hist.png\" alt=\"Fig1.1\" width=\"25%\"/><img src=\"tmp_2306.01056/./x_figures/Balance/eagle_hist.png\" alt=\"Fig1.2\" width=\"25%\"/><img src=\"tmp_2306.01056/./x_figures/Balance/tng_balanced_hist.png\" alt=\"Fig1.3\" width=\"25%\"/><img src=\"tmp_2306.01056/./x_figures/Balance/eagle_balanced_hist.png\" alt=\"Fig1.4\" width=\"25%\"/>\n",
       "\n",
       "**Figure 1. -** The distribution of the ex-situ stellar mass fraction values for the selected samples from the TNG100 and EAGLE-L100 simulations. We select all galaxies with stellar mass $> {10}^{10} {M}_{\\odot }$ from $z = 0$(TNG100 and EAGLE-L100) and galaxies of the same stellar mass range with an ex-situ stellar mass fraction $f_{ex} > 0.2 $ from $z = 0.1$(TNG100 and EAGLE-L100) and $z = 0.2$(EAGLE-L100), in an initial attempt to balance our dataset samples. **Top:** Histogram of ex-situ stellar mass fractions of the original TNG100 (on the left) and EAGLE-L100 galaxy samples (on the right). This sample distribution is used for the integrated values inference approach. **Bottom:** Histogram of ex-situ mass fractions of the two simulation samples after balancing by using multiple projections per galaxy. This sample is used for the 2D spatially-resolved maps inference approach. (*fig:balancing_ds*)\n",
       "\n",
       "</div>\n",
       "<div id=\"div_fig3\">\n",
       "\n",
       "<img src=\"tmp_2306.01056/./x_figures/Catalog_predictions/TNG_on_TNG_model_All.png\" alt=\"Fig2.1\" width=\"25%\"/><img src=\"tmp_2306.01056/./x_figures/Groundtruth_vs_Predictions/TNG_on_TNG_model_All.png\" alt=\"Fig2.2\" width=\"25%\"/><img src=\"tmp_2306.01056/./x_figures/Catalog_predictions/EAGLE_on_EAGLE_model_All.png\" alt=\"Fig2.3\" width=\"25%\"/><img src=\"tmp_2306.01056/./x_figures/Groundtruth_vs_Predictions/EAGLE_on_EAGLE_model_All.png\" alt=\"Fig2.4\" width=\"25%\"/>\n",
       "\n",
       "**Figure 2. -** Evaluation of models trained on a fixed simulation scenario with the integrated inputs (a, c) and the 2D spatial maps (b, d) for the TNG100 (upper row) and EAGLE-L100 (bottom row) test sets. In each panel, the ensemble predictions of the models versus the ground truth of the ex-situ stellar mass fraction is illustrated for 128 galaxies randomly selected from the two test sets. The error bars correspond to the standard deviation of the ensemble posterior that is predicted for each galaxy. The black dashed line on the prediction panels marks the 1:1 relation and serves as a guide to the eye, as the prediction points should be gathered as close to that line as possible. On the bottom error panels, the blue dashed line indicates the median of the error in the prediction, i.e. the difference between the model's estimate and the ground truth. The shaded region contains the 68 per cent of the data. (*fig:tng_eagle_test_set_results*)\n",
       "\n",
       "</div><div id=\"qrcode\"><img src=https://api.qrserver.com/v1/create-qr-code/?size=100x100&data=\"https://arxiv.org/abs/2306.01056\"></div>"
      ],
      "text/plain": [
       "<IPython.core.display.Markdown object>"
      ]
     },
     "metadata": {},
     "output_type": "display_data"
    }
   ],
   "source": [
    "[display(Markdown(k[1])) for k in documents];"
   ]
  },
  {
   "cell_type": "markdown",
   "id": "873873a4",
   "metadata": {
    "papermill": {
     "duration": 0.005797,
     "end_time": "2023-06-05T04:06:19.856286",
     "exception": false,
     "start_time": "2023-06-05T04:06:19.850489",
     "status": "completed"
    },
    "tags": []
   },
   "source": [
    "# Create HTML index"
   ]
  },
  {
   "cell_type": "code",
   "execution_count": 9,
   "id": "cf665672",
   "metadata": {
    "execution": {
     "iopub.execute_input": "2023-06-05T04:06:19.870239Z",
     "iopub.status.busy": "2023-06-05T04:06:19.869777Z",
     "iopub.status.idle": "2023-06-05T04:06:19.883267Z",
     "shell.execute_reply": "2023-06-05T04:06:19.882298Z"
    },
    "papermill": {
     "duration": 0.023094,
     "end_time": "2023-06-05T04:06:19.885398",
     "exception": false,
     "start_time": "2023-06-05T04:06:19.862304",
     "status": "completed"
    },
    "tags": []
   },
   "outputs": [
    {
     "name": "stdout",
     "output_type": "stream",
     "text": [
      "213  publications files modified in the last 7 days.\n"
     ]
    }
   ],
   "source": [
    "from datetime import datetime, timedelta, timezone\n",
    "from glob import glob\n",
    "import os\n",
    "\n",
    "files = glob('_build/html/*.md')\n",
    "days = 7\n",
    "now = datetime.today()\n",
    "res = []\n",
    "for fk in files:\n",
    "    stat_result = os.stat(fk).st_ctime\n",
    "    modified = datetime.fromtimestamp(stat_result, tz=timezone.utc).replace(tzinfo=None)\n",
    "    delta = now.today() - modified\n",
    "    if delta <= timedelta(days=days):\n",
    "        res.append((delta.seconds, fk))\n",
    "res = [k[1] for k in reversed(sorted(res, key=lambda x:x[1]))]\n",
    "npub = len(res)\n",
    "print(len(res), f\" publications files modified in the last {days:d} days.\")\n",
    "# [ print('\\t', k) for k in res ];"
   ]
  },
  {
   "cell_type": "code",
   "execution_count": 10,
   "id": "015de740",
   "metadata": {
    "execution": {
     "iopub.execute_input": "2023-06-05T04:06:19.899347Z",
     "iopub.status.busy": "2023-06-05T04:06:19.898878Z",
     "iopub.status.idle": "2023-06-05T04:06:19.924033Z",
     "shell.execute_reply": "2023-06-05T04:06:19.922993Z"
    },
    "papermill": {
     "duration": 0.034574,
     "end_time": "2023-06-05T04:06:19.926083",
     "exception": false,
     "start_time": "2023-06-05T04:06:19.891509",
     "status": "completed"
    },
    "tags": []
   },
   "outputs": [
    {
     "name": "stdout",
     "output_type": "stream",
     "text": [
      "2  publications in the last 7 days.\n"
     ]
    }
   ],
   "source": [
    "import datetime\n",
    "from glob import glob\n",
    "\n",
    "def get_last_n_days(lst, days=1):\n",
    "    \"\"\" Get the documents from the last n days \"\"\"\n",
    "    sorted_lst = sorted(lst, key=lambda x: x[1], reverse=True)\n",
    "    for fname, date in sorted_lst:\n",
    "        if date >= str(datetime.date.today() - datetime.timedelta(days=days)):\n",
    "            yield fname\n",
    "\n",
    "def extract_appearance_dates(lst_file):\n",
    "    dates = []\n",
    "\n",
    "    def get_date(line):\n",
    "        return line\\\n",
    "            .split('Appeared on:')[-1]\\\n",
    "            .split('</mark>')[0].strip()\n",
    "\n",
    "    for fname in lst:\n",
    "        with open(fname, 'r') as f:\n",
    "            found_date = False\n",
    "            for line in f:\n",
    "                if not found_date:\n",
    "                    if \"Appeared on\" in line:\n",
    "                        found_date = True\n",
    "                        dates.append((fname, get_date(line)))\n",
    "                else:\n",
    "                    break\n",
    "    return dates\n",
    "\n",
    "from glob import glob\n",
    "lst = glob('_build/html/*md')\n",
    "days = 7\n",
    "dates = extract_appearance_dates(lst)\n",
    "res = list(get_last_n_days(dates, days))\n",
    "npub = len(res)\n",
    "print(len(res), f\" publications in the last {days:d} days.\")"
   ]
  },
  {
   "cell_type": "code",
   "execution_count": 11,
   "id": "52ca0208",
   "metadata": {
    "execution": {
     "iopub.execute_input": "2023-06-05T04:06:19.940341Z",
     "iopub.status.busy": "2023-06-05T04:06:19.940042Z",
     "iopub.status.idle": "2023-06-05T04:06:19.946359Z",
     "shell.execute_reply": "2023-06-05T04:06:19.945548Z"
    },
    "papermill": {
     "duration": 0.016484,
     "end_time": "2023-06-05T04:06:19.949083",
     "exception": false,
     "start_time": "2023-06-05T04:06:19.932599",
     "status": "completed"
    },
    "scrolled": false,
    "tags": []
   },
   "outputs": [],
   "source": [
    "def create_carousel(npub=4):\n",
    "    \"\"\" Generate the HTML code for a carousel with `npub` slides \"\"\"\n",
    "    carousel = [\"\"\"  <div class=\"carousel\" \"\"\",\n",
    "                \"\"\"       data-flickity='{ \"autoPlay\": 10000, \"adaptiveHeight\": true, \"resize\": true, \"wrapAround\": true, \"pauseAutoPlayOnHover\": true, \"groupCells\": 1 }' id=\"asyncTypeset\">\"\"\"\n",
    "                ]\n",
    "    \n",
    "    item_str = \"\"\"    <div class=\"carousel-cell\"> <div id=\"slide{k}\" class=\"md_view\">Content {k}</div> </div>\"\"\"\n",
    "    for k in range(1, npub + 1):\n",
    "        carousel.append(item_str.format(k=k))\n",
    "    carousel.append(\"  </div>\")\n",
    "    return '\\n'.join(carousel)\n",
    "\n",
    "def create_grid(npub=4):\n",
    "    \"\"\" Generate the HTML code for a flat grid with `npub` slides \"\"\"\n",
    "    grid = [\"\"\"  <div class=\"grid\"> \"\"\",\n",
    "                ]\n",
    "    \n",
    "    item_str = \"\"\"    <div class=\"grid-item\"> <div id=\"slide{k}\" class=\"md_view\">Content {k}</div> </div>\"\"\"\n",
    "    for k in range(1, npub + 1):\n",
    "        grid.append(item_str.format(k=k))\n",
    "    grid.append(\"  </div>\")\n",
    "    return '\\n'.join(grid)"
   ]
  },
  {
   "cell_type": "code",
   "execution_count": 12,
   "id": "a6eac5b6",
   "metadata": {
    "execution": {
     "iopub.execute_input": "2023-06-05T04:06:19.963540Z",
     "iopub.status.busy": "2023-06-05T04:06:19.962831Z",
     "iopub.status.idle": "2023-06-05T04:06:19.969940Z",
     "shell.execute_reply": "2023-06-05T04:06:19.969159Z"
    },
    "papermill": {
     "duration": 0.016519,
     "end_time": "2023-06-05T04:06:19.971966",
     "exception": false,
     "start_time": "2023-06-05T04:06:19.955447",
     "status": "completed"
    },
    "scrolled": false,
    "tags": []
   },
   "outputs": [],
   "source": [
    "carousel = create_carousel(npub)\n",
    "docs = ', '.join(['\"{0:s}\"'.format(k.split('/')[-1]) for k in res])\n",
    "slides = ', '.join([f'\"slide{k}\"' for k in range(1, npub + 1)])\n",
    "\n",
    "with open(\"daily_template.html\", \"r\") as tpl:\n",
    "    page = tpl.read()\n",
    "    page = page.replace(\"{%-- carousel:s --%}\", carousel)\\\n",
    "               .replace(\"{%-- suptitle:s --%}\",  \"7-day archives\" )\\\n",
    "               .replace(\"{%-- docs:s --%}\", docs)\\\n",
    "               .replace(\"{%-- slides:s --%}\", slides)\n",
    "    \n",
    "with open(\"_build/html/index_7days.html\", 'w') as fout:\n",
    "    fout.write(page)"
   ]
  },
  {
   "cell_type": "code",
   "execution_count": 13,
   "id": "adc1a1ec",
   "metadata": {
    "execution": {
     "iopub.execute_input": "2023-06-05T04:06:19.985934Z",
     "iopub.status.busy": "2023-06-05T04:06:19.985432Z",
     "iopub.status.idle": "2023-06-05T04:06:19.994382Z",
     "shell.execute_reply": "2023-06-05T04:06:19.993494Z"
    },
    "papermill": {
     "duration": 0.018177,
     "end_time": "2023-06-05T04:06:19.996200",
     "exception": false,
     "start_time": "2023-06-05T04:06:19.978023",
     "status": "completed"
    },
    "tags": []
   },
   "outputs": [
    {
     "name": "stdout",
     "output_type": "stream",
     "text": [
      "1  publications in the last day.\n"
     ]
    }
   ],
   "source": [
    "# redo for today\n",
    "days = 1\n",
    "res = list(get_last_n_days(dates, days))\n",
    "npub = len(res)\n",
    "print(len(res), f\" publications in the last day.\")\n",
    "\n",
    "carousel = create_carousel(npub)\n",
    "docs = ', '.join(['\"{0:s}\"'.format(k.split('/')[-1]) for k in res])\n",
    "slides = ', '.join([f'\"slide{k}\"' for k in range(1, npub + 1)])\n",
    "\n",
    "with open(\"daily_template.html\", \"r\") as tpl:\n",
    "    page = tpl.read()\n",
    "    page = page.replace(\"{%-- carousel:s --%}\", carousel)\\\n",
    "               .replace(\"{%-- suptitle:s --%}\",  \"Daily\" )\\\n",
    "               .replace(\"{%-- docs:s --%}\", docs)\\\n",
    "               .replace(\"{%-- slides:s --%}\", slides)\n",
    "    \n",
    "# print(carousel, docs, slides)\n",
    "# print(page)\n",
    "with open(\"_build/html/index_daily.html\", 'w') as fout:\n",
    "    fout.write(page)"
   ]
  },
  {
   "cell_type": "code",
   "execution_count": 14,
   "id": "00eece82",
   "metadata": {
    "execution": {
     "iopub.execute_input": "2023-06-05T04:06:20.010445Z",
     "iopub.status.busy": "2023-06-05T04:06:20.009932Z",
     "iopub.status.idle": "2023-06-05T04:06:20.018196Z",
     "shell.execute_reply": "2023-06-05T04:06:20.017256Z"
    },
    "papermill": {
     "duration": 0.017289,
     "end_time": "2023-06-05T04:06:20.020173",
     "exception": false,
     "start_time": "2023-06-05T04:06:20.002884",
     "status": "completed"
    },
    "scrolled": false,
    "tags": []
   },
   "outputs": [
    {
     "name": "stdout",
     "output_type": "stream",
     "text": [
      "6  6 publications selected.\n"
     ]
    }
   ],
   "source": [
    "# Create the flat grid of the last N papers (fixed number regardless of dates)\n",
    "from itertools import islice \n",
    "\n",
    "npub = 6\n",
    "res = [k[0] for k in (islice(reversed(sorted(dates, key=lambda x: x[1])), 6))]\n",
    "print(len(res), f\" {npub} publications selected.\")\n",
    "\n",
    "grid = create_grid(npub)\n",
    "docs = ', '.join(['\"{0:s}\"'.format(k.split('/')[-1]) for k in res])\n",
    "slides = ', '.join([f'\"slide{k}\"' for k in range(1, npub + 1)])\n",
    "\n",
    "with open(\"grid_template.html\", \"r\") as tpl:\n",
    "    page = tpl.read()\n",
    "    page = page.replace(\"{%-- grid-content:s --%}\", grid)\\\n",
    "               .replace(\"{%-- suptitle:s --%}\",  f\"Last {npub:,d} papers\" )\\\n",
    "               .replace(\"{%-- docs:s --%}\", docs)\\\n",
    "               .replace(\"{%-- slides:s --%}\", slides)\n",
    "    \n",
    "# print(grid, docs, slides)\n",
    "# print(page)\n",
    "with open(\"_build/html/index_npub_grid.html\", 'w') as fout:\n",
    "    fout.write(page)"
   ]
  }
 ],
 "metadata": {
  "kernelspec": {
   "display_name": "Python 3 (ipykernel)",
   "language": "python",
   "name": "python3"
  },
  "language_info": {
   "codemirror_mode": {
    "name": "ipython",
    "version": 3
   },
   "file_extension": ".py",
   "mimetype": "text/x-python",
   "name": "python",
   "nbconvert_exporter": "python",
   "pygments_lexer": "ipython3",
   "version": "3.9.16"
  },
  "papermill": {
   "default_parameters": {},
   "duration": 42.49583,
   "end_time": "2023-06-05T04:06:20.245540",
   "environment_variables": {},
   "exception": null,
   "input_path": "MPIA daily digest.ipynb",
   "output_path": "log.ipynb",
   "parameters": {},
   "start_time": "2023-06-05T04:05:37.749710",
   "version": "2.4.0"
  },
  "vscode": {
   "interpreter": {
    "hash": "aee8b7b246df8f9039afb4144a1f6fd8d2ca17a180786b69acc140d282b71a49"
   }
  },
  "widgets": {
   "application/vnd.jupyter.widget-state+json": {
    "state": {
     "0f450de22c2b4000b5342c6a01c75e0f": {
      "model_module": "@jupyter-widgets/controls",
      "model_module_version": "2.0.0",
      "model_name": "HTMLModel",
      "state": {
       "_dom_classes": [],
       "_model_module": "@jupyter-widgets/controls",
       "_model_module_version": "2.0.0",
       "_model_name": "HTMLModel",
       "_view_count": null,
       "_view_module": "@jupyter-widgets/controls",
       "_view_module_version": "2.0.0",
       "_view_name": "HTMLView",
       "description": "",
       "description_allow_html": false,
       "layout": "IPY_MODEL_2ea0474c83d740dd86a0be13936682d0",
       "placeholder": "​",
       "style": "IPY_MODEL_25515d9fc33743709cb7f5b9d140f2be",
       "tabbable": null,
       "tooltip": null,
       "value": "100%"
      }
     },
     "1a0d9de3402749a99d589a24c50eac31": {
      "model_module": "@jupyter-widgets/base",
      "model_module_version": "2.0.0",
      "model_name": "LayoutModel",
      "state": {
       "_model_module": "@jupyter-widgets/base",
       "_model_module_version": "2.0.0",
       "_model_name": "LayoutModel",
       "_view_count": null,
       "_view_module": "@jupyter-widgets/base",
       "_view_module_version": "2.0.0",
       "_view_name": "LayoutView",
       "align_content": null,
       "align_items": null,
       "align_self": null,
       "border_bottom": null,
       "border_left": null,
       "border_right": null,
       "border_top": null,
       "bottom": null,
       "display": null,
       "flex": null,
       "flex_flow": null,
       "grid_area": null,
       "grid_auto_columns": null,
       "grid_auto_flow": null,
       "grid_auto_rows": null,
       "grid_column": null,
       "grid_gap": null,
       "grid_row": null,
       "grid_template_areas": null,
       "grid_template_columns": null,
       "grid_template_rows": null,
       "height": null,
       "justify_content": null,
       "justify_items": null,
       "left": null,
       "margin": null,
       "max_height": null,
       "max_width": null,
       "min_height": null,
       "min_width": null,
       "object_fit": null,
       "object_position": null,
       "order": null,
       "overflow": null,
       "padding": null,
       "right": null,
       "top": null,
       "visibility": null,
       "width": null
      }
     },
     "25515d9fc33743709cb7f5b9d140f2be": {
      "model_module": "@jupyter-widgets/controls",
      "model_module_version": "2.0.0",
      "model_name": "HTMLStyleModel",
      "state": {
       "_model_module": "@jupyter-widgets/controls",
       "_model_module_version": "2.0.0",
       "_model_name": "HTMLStyleModel",
       "_view_count": null,
       "_view_module": "@jupyter-widgets/base",
       "_view_module_version": "2.0.0",
       "_view_name": "StyleView",
       "background": null,
       "description_width": "",
       "font_size": null,
       "text_color": null
      }
     },
     "2ea0474c83d740dd86a0be13936682d0": {
      "model_module": "@jupyter-widgets/base",
      "model_module_version": "2.0.0",
      "model_name": "LayoutModel",
      "state": {
       "_model_module": "@jupyter-widgets/base",
       "_model_module_version": "2.0.0",
       "_model_name": "LayoutModel",
       "_view_count": null,
       "_view_module": "@jupyter-widgets/base",
       "_view_module_version": "2.0.0",
       "_view_name": "LayoutView",
       "align_content": null,
       "align_items": null,
       "align_self": null,
       "border_bottom": null,
       "border_left": null,
       "border_right": null,
       "border_top": null,
       "bottom": null,
       "display": null,
       "flex": null,
       "flex_flow": null,
       "grid_area": null,
       "grid_auto_columns": null,
       "grid_auto_flow": null,
       "grid_auto_rows": null,
       "grid_column": null,
       "grid_gap": null,
       "grid_row": null,
       "grid_template_areas": null,
       "grid_template_columns": null,
       "grid_template_rows": null,
       "height": null,
       "justify_content": null,
       "justify_items": null,
       "left": null,
       "margin": null,
       "max_height": null,
       "max_width": null,
       "min_height": null,
       "min_width": null,
       "object_fit": null,
       "object_position": null,
       "order": null,
       "overflow": null,
       "padding": null,
       "right": null,
       "top": null,
       "visibility": null,
       "width": null
      }
     },
     "4cd196cb734943488ff5f4cea493f475": {
      "model_module": "@jupyter-widgets/controls",
      "model_module_version": "2.0.0",
      "model_name": "ProgressStyleModel",
      "state": {
       "_model_module": "@jupyter-widgets/controls",
       "_model_module_version": "2.0.0",
       "_model_name": "ProgressStyleModel",
       "_view_count": null,
       "_view_module": "@jupyter-widgets/base",
       "_view_module_version": "2.0.0",
       "_view_name": "StyleView",
       "bar_color": null,
       "description_width": ""
      }
     },
     "5eb53ef9480b419a9a10b8d0207222d2": {
      "model_module": "@jupyter-widgets/base",
      "model_module_version": "2.0.0",
      "model_name": "LayoutModel",
      "state": {
       "_model_module": "@jupyter-widgets/base",
       "_model_module_version": "2.0.0",
       "_model_name": "LayoutModel",
       "_view_count": null,
       "_view_module": "@jupyter-widgets/base",
       "_view_module_version": "2.0.0",
       "_view_name": "LayoutView",
       "align_content": null,
       "align_items": null,
       "align_self": null,
       "border_bottom": null,
       "border_left": null,
       "border_right": null,
       "border_top": null,
       "bottom": null,
       "display": null,
       "flex": null,
       "flex_flow": null,
       "grid_area": null,
       "grid_auto_columns": null,
       "grid_auto_flow": null,
       "grid_auto_rows": null,
       "grid_column": null,
       "grid_gap": null,
       "grid_row": null,
       "grid_template_areas": null,
       "grid_template_columns": null,
       "grid_template_rows": null,
       "height": null,
       "justify_content": null,
       "justify_items": null,
       "left": null,
       "margin": null,
       "max_height": null,
       "max_width": null,
       "min_height": null,
       "min_width": null,
       "object_fit": null,
       "object_position": null,
       "order": null,
       "overflow": null,
       "padding": null,
       "right": null,
       "top": null,
       "visibility": null,
       "width": null
      }
     },
     "aa4dd24939f64e81b419e5d9156d3b34": {
      "model_module": "@jupyter-widgets/controls",
      "model_module_version": "2.0.0",
      "model_name": "HTMLStyleModel",
      "state": {
       "_model_module": "@jupyter-widgets/controls",
       "_model_module_version": "2.0.0",
       "_model_name": "HTMLStyleModel",
       "_view_count": null,
       "_view_module": "@jupyter-widgets/base",
       "_view_module_version": "2.0.0",
       "_view_name": "StyleView",
       "background": null,
       "description_width": "",
       "font_size": null,
       "text_color": null
      }
     },
     "b8cf8ffba83d4861a7df0deb51cbd451": {
      "model_module": "@jupyter-widgets/controls",
      "model_module_version": "2.0.0",
      "model_name": "HTMLModel",
      "state": {
       "_dom_classes": [],
       "_model_module": "@jupyter-widgets/controls",
       "_model_module_version": "2.0.0",
       "_model_name": "HTMLModel",
       "_view_count": null,
       "_view_module": "@jupyter-widgets/controls",
       "_view_module_version": "2.0.0",
       "_view_name": "HTMLView",
       "description": "",
       "description_allow_html": false,
       "layout": "IPY_MODEL_1a0d9de3402749a99d589a24c50eac31",
       "placeholder": "​",
       "style": "IPY_MODEL_aa4dd24939f64e81b419e5d9156d3b34",
       "tabbable": null,
       "tooltip": null,
       "value": " 1/1 [00:13&lt;00:00, 13.16s/it]"
      }
     },
     "ca682eb9c80d449c82dee3be3d96ef41": {
      "model_module": "@jupyter-widgets/base",
      "model_module_version": "2.0.0",
      "model_name": "LayoutModel",
      "state": {
       "_model_module": "@jupyter-widgets/base",
       "_model_module_version": "2.0.0",
       "_model_name": "LayoutModel",
       "_view_count": null,
       "_view_module": "@jupyter-widgets/base",
       "_view_module_version": "2.0.0",
       "_view_name": "LayoutView",
       "align_content": null,
       "align_items": null,
       "align_self": null,
       "border_bottom": null,
       "border_left": null,
       "border_right": null,
       "border_top": null,
       "bottom": null,
       "display": null,
       "flex": null,
       "flex_flow": null,
       "grid_area": null,
       "grid_auto_columns": null,
       "grid_auto_flow": null,
       "grid_auto_rows": null,
       "grid_column": null,
       "grid_gap": null,
       "grid_row": null,
       "grid_template_areas": null,
       "grid_template_columns": null,
       "grid_template_rows": null,
       "height": null,
       "justify_content": null,
       "justify_items": null,
       "left": null,
       "margin": null,
       "max_height": null,
       "max_width": null,
       "min_height": null,
       "min_width": null,
       "object_fit": null,
       "object_position": null,
       "order": null,
       "overflow": null,
       "padding": null,
       "right": null,
       "top": null,
       "visibility": null,
       "width": null
      }
     },
     "df031295f8604d9391858fea9ab66624": {
      "model_module": "@jupyter-widgets/controls",
      "model_module_version": "2.0.0",
      "model_name": "HBoxModel",
      "state": {
       "_dom_classes": [],
       "_model_module": "@jupyter-widgets/controls",
       "_model_module_version": "2.0.0",
       "_model_name": "HBoxModel",
       "_view_count": null,
       "_view_module": "@jupyter-widgets/controls",
       "_view_module_version": "2.0.0",
       "_view_name": "HBoxView",
       "box_style": "",
       "children": [
        "IPY_MODEL_0f450de22c2b4000b5342c6a01c75e0f",
        "IPY_MODEL_f0dd0d53cfea4d04af18604119f36402",
        "IPY_MODEL_b8cf8ffba83d4861a7df0deb51cbd451"
       ],
       "layout": "IPY_MODEL_ca682eb9c80d449c82dee3be3d96ef41",
       "tabbable": null,
       "tooltip": null
      }
     },
     "f0dd0d53cfea4d04af18604119f36402": {
      "model_module": "@jupyter-widgets/controls",
      "model_module_version": "2.0.0",
      "model_name": "FloatProgressModel",
      "state": {
       "_dom_classes": [],
       "_model_module": "@jupyter-widgets/controls",
       "_model_module_version": "2.0.0",
       "_model_name": "FloatProgressModel",
       "_view_count": null,
       "_view_module": "@jupyter-widgets/controls",
       "_view_module_version": "2.0.0",
       "_view_name": "ProgressView",
       "bar_style": "success",
       "description": "",
       "description_allow_html": false,
       "layout": "IPY_MODEL_5eb53ef9480b419a9a10b8d0207222d2",
       "max": 1.0,
       "min": 0.0,
       "orientation": "horizontal",
       "style": "IPY_MODEL_4cd196cb734943488ff5f4cea493f475",
       "tabbable": null,
       "tooltip": null,
       "value": 1.0
      }
     }
    },
    "version_major": 2,
    "version_minor": 0
   }
  }
 },
 "nbformat": 4,
 "nbformat_minor": 5
}