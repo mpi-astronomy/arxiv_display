{
 "cells": [
  {
   "cell_type": "markdown",
   "id": "92bcb855",
   "metadata": {
    "papermill": {
     "duration": 0.003756,
     "end_time": "2025-07-29T04:39:47.714149",
     "exception": false,
     "start_time": "2025-07-29T04:39:47.710393",
     "status": "completed"
    },
    "tags": []
   },
   "source": [
    "# MPIA Arxiv on Deck 2\n",
    "\n",
    "Contains the steps to produce the paper extractions."
   ]
  },
  {
   "cell_type": "code",
   "execution_count": 1,
   "id": "3a0d6e11",
   "metadata": {
    "execution": {
     "iopub.execute_input": "2025-07-29T04:39:47.721728Z",
     "iopub.status.busy": "2025-07-29T04:39:47.721361Z",
     "iopub.status.idle": "2025-07-29T04:39:47.970580Z",
     "shell.execute_reply": "2025-07-29T04:39:47.969997Z"
    },
    "papermill": {
     "duration": 0.25441,
     "end_time": "2025-07-29T04:39:47.971845",
     "exception": false,
     "start_time": "2025-07-29T04:39:47.717435",
     "status": "completed"
    },
    "tags": []
   },
   "outputs": [],
   "source": [
    "# Imports\n",
    "import os\n",
    "from IPython.display import Markdown, display\n",
    "from tqdm.notebook import tqdm\n",
    "import warnings\n",
    "from PIL import Image \n",
    "import re\n",
    "\n",
    "# requires arxiv_on_deck_2\n",
    "\n",
    "from arxiv_on_deck_2.arxiv2 import (get_new_papers, \n",
    "                                    get_paper_from_identifier,\n",
    "                                    retrieve_document_source, \n",
    "                                    get_markdown_badge)\n",
    "from arxiv_on_deck_2 import (latex,\n",
    "                             latex_bib,\n",
    "                             mpia,\n",
    "                             highlight_authors_in_list)\n",
    "\n",
    "# Sometimes images are really big\n",
    "Image.MAX_IMAGE_PIXELS = 1000000000 "
   ]
  },
  {
   "cell_type": "code",
   "execution_count": 2,
   "id": "22aa9d44",
   "metadata": {
    "execution": {
     "iopub.execute_input": "2025-07-29T04:39:47.978875Z",
     "iopub.status.busy": "2025-07-29T04:39:47.978635Z",
     "iopub.status.idle": "2025-07-29T04:39:47.986608Z",
     "shell.execute_reply": "2025-07-29T04:39:47.986045Z"
    },
    "papermill": {
     "duration": 0.012507,
     "end_time": "2025-07-29T04:39:47.987582",
     "exception": false,
     "start_time": "2025-07-29T04:39:47.975075",
     "status": "completed"
    },
    "tags": []
   },
   "outputs": [],
   "source": [
    "# Some useful definitions.\n",
    "\n",
    "class AffiliationWarning(UserWarning):\n",
    "    pass\n",
    "\n",
    "class AffiliationError(RuntimeError):\n",
    "    pass\n",
    "\n",
    "def validation(source: str):\n",
    "    \"\"\"Raises error paper during parsing of source file\n",
    "    \n",
    "    Allows checks before parsing TeX code.\n",
    "    \n",
    "    Raises AffiliationWarning\n",
    "    \"\"\"\n",
    "    check = mpia.affiliation_verifications(source, verbose=True)\n",
    "    if check is not True:\n",
    "        raise AffiliationError(\"mpia.affiliation_verifications: \" + check)\n",
    "\n",
    "        \n",
    "warnings.simplefilter('always', AffiliationWarning)\n",
    "\n",
    "\n",
    "def get_markdown_qrcode(paper_id: str):\n",
    "    \"\"\" Generate a qrcode to the arxiv page using qrserver.com\n",
    "    \n",
    "    :param paper: Arxiv paper\n",
    "    :returns: markdown text\n",
    "    \"\"\"\n",
    "    url = r\"https://api.qrserver.com/v1/create-qr-code/?size=100x100&data=\"\n",
    "    txt = f\"\"\"<img src={url}\"https://arxiv.org/abs/{paper_id}\">\"\"\"\n",
    "    txt = '<div id=\"qrcode\">' + txt + '</div>'\n",
    "    return txt\n",
    "\n",
    "\n",
    "def clean_non_western_encoded_characters_commands(text: str) -> str:\n",
    "    \"\"\" Remove non-western encoded characters from a string\n",
    "    List may need to grow.\n",
    "    \n",
    "    :param text: the text to clean\n",
    "    :return: the cleaned text\n",
    "    \"\"\"\n",
    "    text = re.sub(r\"(\\\\begin{CJK}{UTF8}{gbsn})(.*?)(\\\\end{CJK})\", r\"\\2\", text)\n",
    "    return text\n",
    "\n",
    "\n",
    "def get_initials(name: str) -> str:\n",
    "    \"\"\" Get the short name, e.g., A.-B. FamName\n",
    "    :param name: full name\n",
    "    :returns: initials\n",
    "    \"\"\"\n",
    "    initials = []\n",
    "    # account for non western names often in ()\n",
    "    if '(' in name:\n",
    "        name = clean_non_western_encoded_characters_commands(name)\n",
    "        suffix = re.findall(r\"\\((.*?)\\)\", name)[0]\n",
    "        name = name.replace(f\"({suffix})\", '')\n",
    "    else:\n",
    "        suffix = ''\n",
    "    split = name.split()\n",
    "    for token in split[:-1]:\n",
    "        if '-' in token:\n",
    "            current = '-'.join([k[0] + '.' for k in token.split('-')])\n",
    "        else:\n",
    "            current = token[0] + '.'\n",
    "        initials.append(current)\n",
    "    initials.append(split[-1].strip())\n",
    "    if suffix:\n",
    "        initials.append(f\"({suffix})\")\n",
    "    return ' '.join(initials)"
   ]
  },
  {
   "cell_type": "markdown",
   "id": "14bd6310",
   "metadata": {
    "papermill": {
     "duration": 0.00288,
     "end_time": "2025-07-29T04:39:47.993380",
     "exception": false,
     "start_time": "2025-07-29T04:39:47.990500",
     "status": "completed"
    },
    "tags": []
   },
   "source": [
    "## get list of arxiv paper candidates\n",
    "\n",
    "We use the MPIA mitarbeiter list webpage from mpia.de to get author names\n",
    "We then get all new papers from Arxiv and match authors"
   ]
  },
  {
   "cell_type": "code",
   "execution_count": 3,
   "id": "7ea813a8",
   "metadata": {
    "execution": {
     "iopub.execute_input": "2025-07-29T04:39:48.000041Z",
     "iopub.status.busy": "2025-07-29T04:39:47.999829Z",
     "iopub.status.idle": "2025-07-29T04:40:05.535583Z",
     "shell.execute_reply": "2025-07-29T04:40:05.534936Z"
    },
    "papermill": {
     "duration": 17.54057,
     "end_time": "2025-07-29T04:40:05.536846",
     "exception": false,
     "start_time": "2025-07-29T04:39:47.996276",
     "status": "completed"
    },
    "tags": []
   },
   "outputs": [],
   "source": [
    "# deal with the author list and edge cases of people that cannot be consistent on their name  \n",
    "\n",
    "def filter_non_scientists(name: str) -> bool:\n",
    "    \"\"\" Loose filter on expected authorships\n",
    "\n",
    "    removing IT, administration, technical staff\n",
    "    :param name: name\n",
    "    :returns: False if name is not a scientist\n",
    "    \"\"\"\n",
    "    remove_list = ['Licht', 'Binroth', 'Witzel', 'Jordan',\n",
    "                   'Zähringer', 'Scheerer', 'Hoffmann', 'Düe',\n",
    "                   'Hellmich', 'Enkler-Scharpegge', 'Witte-Nguy',\n",
    "                   'Dehen', 'Beckmann', 'Jager', 'Jäger'\n",
    "                  ]\n",
    "\n",
    "    for k in remove_list:\n",
    "        if k in name:\n",
    "            return False\n",
    "    return True\n",
    "\n",
    "def add_author_to_list(author_list: list) -> list:\n",
    "    \"\"\" Add author to list if not already in list\n",
    "    \n",
    "    :param author: author name\n",
    "    :param author_list: list of authors\n",
    "    :returns: updated list of authors\n",
    "    \"\"\"\n",
    "    add_list = ['T. Henning']\n",
    "\n",
    "    for author in add_list:\n",
    "        if author not in author_list:\n",
    "            author_list.append(author)\n",
    "    return author_list\n",
    "\n",
    "# get list from MPIA website\n",
    "# filter for non-scientists (mpia.get_mpia_mitarbeiter_list() does some filtering)\n",
    "mpia_authors = [k[1] for k in mpia.get_mpia_mitarbeiter_list() if filter_non_scientists(k[1])]\n",
    "# add some missing author because of inconsistencies in their MPIA name and author name on papers\n",
    "mpia_authors = add_author_to_list(mpia_authors)"
   ]
  },
  {
   "cell_type": "code",
   "execution_count": 4,
   "id": "2645e73a",
   "metadata": {
    "execution": {
     "iopub.execute_input": "2025-07-29T04:40:05.544159Z",
     "iopub.status.busy": "2025-07-29T04:40:05.543812Z",
     "iopub.status.idle": "2025-07-29T04:40:06.383680Z",
     "shell.execute_reply": "2025-07-29T04:40:06.383033Z"
    },
    "papermill": {
     "duration": 0.844594,
     "end_time": "2025-07-29T04:40:06.384806",
     "exception": false,
     "start_time": "2025-07-29T04:40:05.540212",
     "status": "completed"
    },
    "tags": []
   },
   "outputs": [
    {
     "name": "stdout",
     "output_type": "stream",
     "text": [
      "M. Sharma  ->  Y. M. Sharma  |  ['M. Sharma']\n",
      "A. d. Graaff  ->  A. D. Graaff  |  ['A. D. Graaff']\n",
      "J. Shi  ->  J. Shi  |  ['J. Shi']\n",
      "J. Shi  ->  J. Shi  |  ['J. Shi']\n",
      "J. Li  ->  J. Li  |  ['J. Li']\n",
      "J. Shi  ->  J. Shi  |  ['J. Shi']\n",
      "K. Kreckel  ->  K. Kreckel  |  ['K. Kreckel']\n"
     ]
    },
    {
     "name": "stdout",
     "output_type": "stream",
     "text": [
      "Arxiv has 85 new papers today\n",
      "          6 with possible author matches\n"
     ]
    }
   ],
   "source": [
    "new_papers = get_new_papers()\n",
    "# add manual references\n",
    "add_paper_refs = []\n",
    "new_papers.extend([get_paper_from_identifier(k) for k in add_paper_refs])\n",
    "\n",
    "def robust_call(fn, value, *args, **kwargs):\n",
    "    try:\n",
    "        return fn(value, *args, **kwargs)\n",
    "    except Exception:\n",
    "        return value\n",
    "\n",
    "candidates = []\n",
    "for paperk in new_papers:\n",
    "    # Check author list with their initials\n",
    "    normed_author_list = [robust_call(mpia.get_initials, k) for k in paperk['authors']]\n",
    "    hl_authors = highlight_authors_in_list(normed_author_list, mpia_authors, verbose=True)\n",
    "    matches = [(hl, orig) for hl, orig in zip(hl_authors, paperk['authors']) if 'mark' in hl]\n",
    "    paperk['authors'] = hl_authors\n",
    "    if matches:\n",
    "        # only select paper if an author matched our list\n",
    "        candidates.append(paperk)\n",
    "print(\"\"\"Arxiv has {0:,d} new papers today\"\"\".format(len(new_papers)))        \n",
    "print(\"\"\"          {0:,d} with possible author matches\"\"\".format(len(candidates)))"
   ]
  },
  {
   "cell_type": "markdown",
   "id": "3543b34a",
   "metadata": {
    "papermill": {
     "duration": 0.003156,
     "end_time": "2025-07-29T04:40:06.391575",
     "exception": false,
     "start_time": "2025-07-29T04:40:06.388419",
     "status": "completed"
    },
    "tags": []
   },
   "source": [
    "# Parse sources and generate relevant outputs\n",
    "\n",
    "From the candidates, we do the following steps:\n",
    "* get their tarball from ArXiv (and extract data)\n",
    "* find the main .tex file: find one with \\documentclass{...} (sometimes it's non trivial)\n",
    "* Check affiliations with :func:`validation`, which uses :func:`mpia.affiliation_verifications`\n",
    "* If passing the affiliations: we parse the .tex source\n",
    "   * inject sub-documents into the main (flatten the main document)\n",
    "   * parse structure, extract information (title, abstract, authors, figures...)\n",
    "   * handles `\\graphicspath` if provided\n",
    "* Generate the .md document."
   ]
  },
  {
   "cell_type": "code",
   "execution_count": 5,
   "id": "9576b79e",
   "metadata": {
    "execution": {
     "iopub.execute_input": "2025-07-29T04:40:06.398714Z",
     "iopub.status.busy": "2025-07-29T04:40:06.398494Z",
     "iopub.status.idle": "2025-07-29T04:40:32.090361Z",
     "shell.execute_reply": "2025-07-29T04:40:32.089609Z"
    },
    "papermill": {
     "duration": 25.696677,
     "end_time": "2025-07-29T04:40:32.091401",
     "exception": false,
     "start_time": "2025-07-29T04:40:06.394724",
     "status": "completed"
    },
    "scrolled": false,
    "tags": []
   },
   "outputs": [
    {
     "data": {
      "application/vnd.jupyter.widget-view+json": {
       "model_id": "dc0c714cce654a0b9ebb109e62df982b",
       "version_major": 2,
       "version_minor": 0
      },
      "text/plain": [
       "  0%|          | 0/6 [00:00<?, ?it/s]"
      ]
     },
     "metadata": {},
     "output_type": "display_data"
    },
    {
     "name": "stdout",
     "output_type": "stream",
     "text": [
      "Retrieving document from  https://arxiv.org/e-print/2507.19579\n",
      "extracting tarball to tmp_2507.19579..."
     ]
    },
    {
     "name": "stdout",
     "output_type": "stream",
     "text": [
      " done.\n",
      "Retrieving document from  https://arxiv.org/e-print/2507.19706\n",
      "extracting tarball to tmp_2507.19706..."
     ]
    },
    {
     "name": "stdout",
     "output_type": "stream",
     "text": [
      " done.\n"
     ]
    },
    {
     "name": "stdout",
     "output_type": "stream",
     "text": [
      "M. Sharma  ->  Y. M. Sharma  |  ['M. Sharma']\n",
      "A. d. Graaff  ->  A. D. Graaff  |  ['A. D. Graaff']\n",
      "Retrieving document from  https://arxiv.org/e-print/2507.19727\n",
      "extracting tarball to tmp_2507.19727... done.\n",
      "Retrieving document from  https://arxiv.org/e-print/2507.19751\n"
     ]
    },
    {
     "name": "stderr",
     "output_type": "stream",
     "text": [
      "/tmp/ipykernel_3454/2822249172.py:52: LatexWarning: 2507.19706 did not run properly\n",
      "bad escape \\i at position 44\n",
      "  warnings.warn(latex.LatexWarning(f\"{paper_id:s} did not run properly\\n\" +\n",
      "/opt/hostedtoolcache/Python/3.9.23/x64/lib/python3.9/site-packages/IPython/core/interactiveshell.py:3550: LatexWarning: Multiple tex files.\n",
      "\n",
      "  exec(code_obj, self.user_global_ns, self.user_ns)\n",
      "/opt/hostedtoolcache/Python/3.9.23/x64/lib/python3.9/site-packages/IPython/core/interactiveshell.py:3550: LatexWarning: Found documentclass in tmp_2507.19727/Main.tex\n",
      "\n",
      "  exec(code_obj, self.user_global_ns, self.user_ns)\n"
     ]
    },
    {
     "name": "stdout",
     "output_type": "stream",
     "text": [
      "extracting tarball to tmp_2507.19751..."
     ]
    },
    {
     "name": "stdout",
     "output_type": "stream",
     "text": [
      " done.\n",
      "Retrieving document from  https://arxiv.org/e-print/2507.20206\n",
      "extracting tarball to tmp_2507.20206... done.\n",
      "Retrieving document from  https://arxiv.org/e-print/2507.20744\n"
     ]
    },
    {
     "name": "stdout",
     "output_type": "stream",
     "text": [
      "extracting tarball to tmp_2507.20744..."
     ]
    },
    {
     "name": "stdout",
     "output_type": "stream",
     "text": [
      " done.\n"
     ]
    },
    {
     "name": "stderr",
     "output_type": "stream",
     "text": [
      "/opt/hostedtoolcache/Python/3.9.23/x64/lib/python3.9/site-packages/IPython/core/interactiveshell.py:3550: LatexWarning: Multiple tex files.\n",
      "\n",
      "  exec(code_obj, self.user_global_ns, self.user_ns)\n",
      "/opt/hostedtoolcache/Python/3.9.23/x64/lib/python3.9/site-packages/IPython/core/interactiveshell.py:3550: LatexWarning: Found documentclass in tmp_2507.20744/aa.tex\n",
      "\n",
      "  exec(code_obj, self.user_global_ns, self.user_ns)\n",
      "/opt/hostedtoolcache/Python/3.9.23/x64/lib/python3.9/site-packages/arxiv_on_deck_2/latex.py:414: LatexWarning: Latex injecting: 'tables/tab_outliers' from 'tmp_2507.20744/tables/tab_outliers.tex'\n",
      "  warnings.warn(LatexWarning(f\"Latex injecting: '{ext}' from '{subsource}'\"))\n",
      "/opt/hostedtoolcache/Python/3.9.23/x64/lib/python3.9/site-packages/arxiv_on_deck_2/latex.py:414: LatexWarning: Latex injecting: 'tables/tab_sample' from 'tmp_2507.20744/tables/tab_sample.tex'\n",
      "  warnings.warn(LatexWarning(f\"Latex injecting: '{ext}' from '{subsource}'\"))\n",
      "/opt/hostedtoolcache/Python/3.9.23/x64/lib/python3.9/site-packages/arxiv_on_deck_2/latex.py:414: LatexWarning: Latex injecting: 'authors.tex' from 'tmp_2507.20744/authors.tex'\n",
      "  warnings.warn(LatexWarning(f\"Latex injecting: '{ext}' from '{subsource}'\"))\n"
     ]
    },
    {
     "name": "stdout",
     "output_type": "stream",
     "text": [
      "K. Kreckel  ->  K. Kreckel  |  ['K. Kreckel']\n"
     ]
    },
    {
     "name": "stdout",
     "output_type": "stream",
     "text": [
      "Issues with the citations\n",
      "list index out of range\n"
     ]
    }
   ],
   "source": [
    "documents = []\n",
    "failed = []\n",
    "for paper in tqdm(candidates):\n",
    "    # debug crap\n",
    "    paper['identifier'] = paper['identifier'].lower().replace('arxiv:', '').replace(r'\\n', '').strip()\n",
    "    paper_id = paper['identifier']\n",
    "    \n",
    "    folder = f'tmp_{paper_id}'\n",
    "\n",
    "    try:\n",
    "        if not os.path.isdir(folder):\n",
    "            folder = retrieve_document_source(f\"{paper_id}\", f'tmp_{paper_id}')\n",
    "        \n",
    "        try:\n",
    "            doc = latex.LatexDocument(folder, validation=validation)    \n",
    "        except AffiliationError as affilerror:\n",
    "            msg = f\"ArXiv:{paper_id:s} is not an MPIA paper... \" + str(affilerror)\n",
    "            failed.append((paper, \"affiliation error: \" + str(affilerror) ))\n",
    "            continue\n",
    "        \n",
    "        # Hack because sometimes author parsing does not work well\n",
    "        if (len(doc.authors) != len(paper['authors'])):\n",
    "            doc._authors = paper['authors']\n",
    "        else:\n",
    "            # highlight authors (FIXME: doc.highlight_authors)\n",
    "            # done on arxiv paper already\n",
    "            doc._authors = highlight_authors_in_list(\n",
    "                [get_initials(k) for k in doc.authors], \n",
    "                mpia_authors, verbose=True)\n",
    "        if (doc.abstract) in (None, ''):\n",
    "            doc._abstract = paper['abstract']\n",
    "            \n",
    "        doc.comment = (get_markdown_badge(paper_id) + \n",
    "                       \"<mark>Appeared on: \" + paper['date'] + \"</mark> - \")\n",
    "        if paper['comments']:\n",
    "            doc.comment += \" _\" + paper['comments'] + \"_\"\n",
    "        \n",
    "        full_md = doc.generate_markdown_text()\n",
    "        \n",
    "        full_md += get_markdown_qrcode(paper_id)\n",
    "        \n",
    "        # replace citations\n",
    "        try:\n",
    "            bibdata = latex_bib.LatexBib.from_doc(doc)\n",
    "            full_md = latex_bib.replace_citations(full_md, bibdata)\n",
    "        except Exception as e:\n",
    "            print(\"Issues with the citations\")\n",
    "            print(e)\n",
    "        \n",
    "        documents.append((paper_id, full_md))\n",
    "    except Exception as e:\n",
    "        warnings.warn(latex.LatexWarning(f\"{paper_id:s} did not run properly\\n\" +\n",
    "                                         str(e)\n",
    "                                        ))\n",
    "        failed.append((paper, \"latex error \" + str(e)))"
   ]
  },
  {
   "cell_type": "markdown",
   "id": "2505a25c",
   "metadata": {
    "papermill": {
     "duration": 0.003883,
     "end_time": "2025-07-29T04:40:32.099599",
     "exception": false,
     "start_time": "2025-07-29T04:40:32.095716",
     "status": "completed"
    },
    "tags": []
   },
   "source": [
    "### Export the logs\n",
    "\n",
    "Throughout, we also keep track of the logs per paper. see `logs-{today date}.md` "
   ]
  },
  {
   "cell_type": "code",
   "execution_count": 6,
   "id": "d733828a",
   "metadata": {
    "execution": {
     "iopub.execute_input": "2025-07-29T04:40:32.108072Z",
     "iopub.status.busy": "2025-07-29T04:40:32.107793Z",
     "iopub.status.idle": "2025-07-29T04:40:32.124351Z",
     "shell.execute_reply": "2025-07-29T04:40:32.123689Z"
    },
    "papermill": {
     "duration": 0.022075,
     "end_time": "2025-07-29T04:40:32.125458",
     "exception": false,
     "start_time": "2025-07-29T04:40:32.103383",
     "status": "completed"
    },
    "scrolled": false,
    "tags": []
   },
   "outputs": [
    {
     "data": {
      "text/markdown": [
       "## Successful papers"
      ],
      "text/plain": [
       "<IPython.core.display.Markdown object>"
      ]
     },
     "metadata": {},
     "output_type": "display_data"
    },
    {
     "data": {
      "text/markdown": [
       "\n",
       "|||\n",
       "|---:|:---|\n",
       "| [![arXiv](https://img.shields.io/badge/arXiv-2507.20744-b31b1b.svg)](https://arxiv.org/abs/2507.20744) | **Temperature based radial metallicity gradients in nearby galaxies**  |\n",
       "|| <mark>K. Kreckel</mark>, et al. |\n",
       "|*Appeared on*| *2025-07-29*|\n",
       "|*Comments*| *12 pages, 6 figures, plus appendix. Accepted by A&A*|\n",
       "|**Abstract**|            Gas-phase abundances provide insights into the baryon cycle, with radial gradients and 2D metallicity distributions tracking how metals build up and redistribute within galaxy disks over cosmic time. We use a catalog of 22,958 HII regions across 19 nearby spiral galaxies to examine how precisely the radial abundance gradients can be traced using only the [NII]5755 electron temperature as a proxy for `direct method' metallicities. Using 534 direct detections of the temperature sensitive [NII]5755 auroral line, we measure gradients in 15 of the galaxies. Leveraging our large catalog of individual HII regions, we stack in bins of HII region [NII]6583 luminosity and radius to recover stacked radial gradients. We find good agreement between the metallicity gradients from the stacked spectra, those gradients from individual regions and those from strong line methods. In addition, particularly in the stacked Te([NII]) measurements, some galaxies show very low (<0.05 dex) scatter in metallicities, indicative of a well-mixed ISM. We examine individual high confidence (S/N > 5) outliers and identify 13 regions across 9 galaxies with anomalously low metallicity, although this is not strongly reflected in the strong line method metallicities. By stacking arm and interarm regions, we find no systematic evidence for offsets in metallicity between these environments, suggesting enrichment within spiral arms is due to very localized processes. This work demonstrates the potential to systematically exploit the single [NII]5755 auroral line for detailed gas-phase abundance studies of galaxies. It provides strong validation of previous results, based on the strong line calibrations, of a well-mixed ISM across typical star-forming spiral galaxies.         |"
      ],
      "text/plain": [
       "[2507.20744] Temperature based radial metallicity gradients in nearby galaxies\n",
       "\t<mark>K. Kreckel</mark>, et al."
      ]
     },
     "metadata": {},
     "output_type": "display_data"
    },
    {
     "data": {
      "text/markdown": [
       "## Failed papers"
      ],
      "text/plain": [
       "<IPython.core.display.Markdown object>"
      ]
     },
     "metadata": {},
     "output_type": "display_data"
    },
    {
     "data": {
      "text/markdown": [
       "\n",
       "|||\n",
       "|---:|:---|\n",
       "| [![arXiv](https://img.shields.io/badge/arXiv-2507.19579-b31b1b.svg)](https://arxiv.org/abs/2507.19579) | **The phase spiral's origin and evolution: indications from its varying properties across the Milky Way disk**  |\n",
       "|| A. Widmark, et al. |\n",
       "|*Appeared on*| *2025-07-29*|\n",
       "|*Comments*| *19 pages, 9 figures; appendix adds 7 pages, 8 figures*|\n",
       "|**Abstract**|            The phase spiral is a perturbation to the vertical phase-space distribution of stars in the Milky Way disk. We study the phase spiral's properties and how they vary with spatial position, in order to constrain its origin and evolution, as well as properties of the disk itself. We produce high resolution maps using two complementary data processing schemes: (a) we bin the Gaia proper motion sample in a disk parallel spatial grid, reaching distances up to 4 kpc; (b) we bin the spatially nearby line-of-sight velocity sample in terms of disk parallel orbital parameters. We find complex structure, most significantly with respect to Galactocentric radius and guiding radius, but also in Galactic azimuth and epicyclic action and phase. We find that spiral winding and rotation phase vary smoothly across the disk, with close-to-flat radial profiles. This uniform structure, in particular for the rotation phase, indicates that the phase spiral was sourced by one or many global perturbations. Curiously, this also implies that the winding time has a strong slope with respect to Galactocentric radius, with low values for the inner disk.         |\n",
       "|<p style=\"color:green\"> **ERROR** </p>| <p style=\"color:green\">affiliation error: mpia.affiliation_verifications: 'Heidelberg' keyword not found.</p> |"
      ],
      "text/plain": [
       "<IPython.core.display.Markdown object>"
      ]
     },
     "metadata": {},
     "output_type": "display_data"
    },
    {
     "data": {
      "text/markdown": [
       "\n",
       "|||\n",
       "|---:|:---|\n",
       "| [![arXiv](https://img.shields.io/badge/arXiv-2507.19727-b31b1b.svg)](https://arxiv.org/abs/2507.19727) | **JWST Observations of SN 2023ixf II: The Panchromatic Evolution Between 250 and 720 Days After the Explosion**  |\n",
       "|| K. Medler, et al. -- incl., <mark>J. Shi</mark> |\n",
       "|*Appeared on*| *2025-07-29*|\n",
       "|*Comments*| *Submitted to ApJ*|\n",
       "|**Abstract**|            We present the nebular phase spectroscopic and photometric observations of the nearby hydrogen-rich core-collapse supernova (CC-SN) 2023ixf, obtained through our JWST programs. These observations, combined with ground-based optical and near-infrared spectra, cover +252.67 - 719.96 d, creating a comprehensive, panchromatic time-series dataset spanning 0.32 - 30$\\mu$m. In this second paper of the series, we focus on identifying key spectral emission features and tracking their evolution through the nebular phase. The JWST data reveal hydrogen emission from the Balmer to Humphreys series, as well as prominent forbidden lines from Ne, Ar, Fe, Co, and Ni. NIRSpec observations display strong emission from the first overtone and fundamental bands of carbon monoxide, which weaken with time as the ejecta cools and dust emission dominates. The spectral energy distribution shows a clear infrared excess emerging by +252.67 d peaking around 10.0$\\mu$m, with a secondary bump at 18.0$\\mu$m developing by +719.96 d. We suggest that this evolution could arises from multiple warm dust components. In upcoming papers in this series, we will present detailed modeling of the molecular and dust properties. Overall, this dataset significantly advances our understanding of the mid-infrared properties of CC-SNe, providing an unprecedented view of their late-time line, molecule, and dust emission.         |\n",
       "|<p style=\"color:green\"> **ERROR** </p>| <p style=\"color:green\">affiliation error: mpia.affiliation_verifications: 'Heidelberg' keyword not found.</p> |"
      ],
      "text/plain": [
       "<IPython.core.display.Markdown object>"
      ]
     },
     "metadata": {},
     "output_type": "display_data"
    },
    {
     "data": {
      "text/markdown": [
       "\n",
       "|||\n",
       "|---:|:---|\n",
       "| [![arXiv](https://img.shields.io/badge/arXiv-2507.19751-b31b1b.svg)](https://arxiv.org/abs/2507.19751) | **Phase II of the LAMOST-Kepler/K2 Survey. II. Time Domain of Medium-resolution Spectroscopic Observations from 2018 to 2023**  |\n",
       "|| M. Qin, et al. -- incl., <mark>J. Shi</mark> |\n",
       "|*Appeared on*| *2025-07-29*|\n",
       "|*Comments*| *19 pages, 9 figures*|\n",
       "|**Abstract**|            The LAMOST-Kepler/K2 Medium-Resolution Spectroscopic Survey (LK-MRS) conducted time-domain medium-resolution spectroscopic observations of 20 LAMOST plates in the Kepler and K2 fields from 2018 to 2023, a phase designated as LK-MRS-I. A catalog of stellar parameters for a total of 36,588 stars, derived from the spectra collected during these five years, including the effective temperature, the surface gravity, the metallicity, the {\\alpha}-element abundance, the radial velocity, and v sin i of the target stars, is released, together with the weighted averages and uncertainties. At S/N = 10, the measurement uncertainties are 120 K, 0.18 dex, 0.13 dex, 0.08 dex, 1.9 km/s, and 4.0 km/s for the above parameters, respectively. Comparisons with the parameters provided by the APOGEE and GALAH surveys validate the effective temperature and surface gravity measurements, showing minor discrepancies in metallicity and {\\alpha}-element abundance values. We identified some peculiar star candidates, including 764 metal-poor stars, 174 very metal-poor stars, and 30 high-velocity stars. Moreover, we found 2,333 stars whose radial velocity seems to be variable. Using Kepler/K2 or TESS photometric data, we confirmed 371 periodic variable stars among the radial velocity variable candidates and classified their variability types. LK-MRS-I provides spectroscopic data being useful for studies of the Kepler and K2 fields. The LK-MRS project will continue collecting time-domain medium-resolution spectra for target stars during the third phase of LAMOST surveys, providing data to support further scientific research.         |\n",
       "|<p style=\"color:green\"> **ERROR** </p>| <p style=\"color:green\">affiliation error: mpia.affiliation_verifications: 'Heidelberg' keyword not found.</p> |"
      ],
      "text/plain": [
       "<IPython.core.display.Markdown object>"
      ]
     },
     "metadata": {},
     "output_type": "display_data"
    },
    {
     "data": {
      "text/markdown": [
       "\n",
       "|||\n",
       "|---:|:---|\n",
       "| [![arXiv](https://img.shields.io/badge/arXiv-2507.20206-b31b1b.svg)](https://arxiv.org/abs/2507.20206) | **New symbiotic stars or candidates in LAMOST low resolution spectra**  |\n",
       "|| Y. Zhao, et al. -- incl., <mark>J. Li</mark>, <mark>J. Shi</mark> |\n",
       "|*Appeared on*| *2025-07-29*|\n",
       "|*Comments*| *18 pages, 12 figures, 5 tables*|\n",
       "|**Abstract**|            Symbiotic stars are among the most crucial binary systems for studying binary star interactions and Type Ia supernova progenitors. Based on the unique observational characteristics of symbiotic stars, strong H I, He I emission lines, giant spectral features, and the presence of [O III], He II, O VI, and other emission lines with ionization potentials exceeding 35 eV, and the Gaia information, we search for new symbiotic stars using the low-resolution spectroscopic survey data from LAMOST. Thirty-six binary systems have been selected as symbiotic stars or candidates, in which the five known symbiotic stars are included. Among them five systems (ZTF J005917.52+315605.4, ATO J094137.5+075304, LAMOST J200310.90+360822.6, LAMOST J072528.18+342530.4, and V* V758 Cyg) have been found as new symbiotic stars. Notably, LAMOST J072528.18+342530.4 and V* V758 Cyg were also confirmed as new symbiotic stars in a recent study. For the remaining 26 candidates, classification is based solely on the presence of [O III] emission lines (with ionization potentials > 35 eV) and the absence of He II high-excitation emission lines. Further observations are needed to confirm their nature as symbiotic stars.         |\n",
       "|<p style=\"color:green\"> **ERROR** </p>| <p style=\"color:green\">affiliation error: mpia.affiliation_verifications: 'Heidelberg' keyword not found.</p> |"
      ],
      "text/plain": [
       "<IPython.core.display.Markdown object>"
      ]
     },
     "metadata": {},
     "output_type": "display_data"
    },
    {
     "data": {
      "text/markdown": [
       "\n",
       "|||\n",
       "|---:|:---|\n",
       "| [![arXiv](https://img.shields.io/badge/arXiv-2507.19706-b31b1b.svg)](https://arxiv.org/abs/2507.19706) | **MINERVA: A NIRCam Medium Band and MIRI Imaging Survey to Unlock the Hidden Gems of the Distant Universe**  |\n",
       "|| A. Muzzin, et al. -- incl., <mark>M. Sharma</mark>, <mark>A. d. Graaff</mark> |\n",
       "|*Appeared on*| *2025-07-29*|\n",
       "|*Comments*| *29 pages, 12 Figures, submitted to ApJS. MINERVA Website: this https URL*|\n",
       "|**Abstract**|            We present an overview of the MINERVA survey, a 259.8 hour (prime) and 127 hour (parallel) Cycle 4 treasury program on the James Webb Space Telescope (JWST). MINERVA is obtaining 8 filter NIRCam medium band imaging (F140M, F162M, F182M, F210M, F250M, F300M, F360M, F460M) and 2 filter MIRI imaging (F1280W, F1500W) in four of the five CANDELS Extragalactic fields: UDS, COSMOS, AEGIS and GOODS-N. These fields were previously observed in Cycle 1 with 7 - 9 NIRCam filters by the PRIMER, CEERS and JADES programs. MINERVA reaches a 5$\\sigma$ depth of 28.1 mag in F300M and covers $\\sim$ 542 arcmin$^2$, increasing the area of existing JWST medium-band coverage in at least 8 bands by $\\sim$ 7$\\times$. The MIRI imaging reaches a 5$\\sigma$ depth of 23.9 mag in F1280W and covers $\\sim$ 275 arcmin$^2$ in at least 2 MIRI filters. When combined with existing imaging, these data will provide a photometric catalog with 20-26 JWST filters (depending on field) and 26-35 filters total, including HST. This paper presents a detailed breakdown of the filter coverage, exposure times, and field layout relative to previous observations, as well as an overview of the primary science goals of the project. These include uncovering the physics of enigmatic sources hiding in current broadband catalogs, improving systematics on stellar mass functions and number densities by factors of $\\gtrsim$ 3, and resolved mapping of stellar mass and star formation at 1 $< z <$ 6. When complete, MINERVA will become an integral part of the treasury deep field imaging datasets, significantly improving population studies with well-understood completeness, robust photometric redshifts, stellar masses, and sizes, and facilitating spectroscopic follow up for decades to come.         |\n",
       "|<p style=\"color:red\"> **ERROR** </p>| <p style=\"color:red\">latex error bad escape \\i at position 44</p> |"
      ],
      "text/plain": [
       "<IPython.core.display.Markdown object>"
      ]
     },
     "metadata": {},
     "output_type": "display_data"
    }
   ],
   "source": [
    "import datetime\n",
    "today = str(datetime.date.today())\n",
    "logfile = f\"_build/html/logs/log-{today}.md\"\n",
    "\n",
    "\n",
    "with open(logfile, 'w') as logs:\n",
    "    # Success\n",
    "    logs.write(f'# Arxiv on Deck 2: Logs - {today}\\n\\n')\n",
    "    logs.write(\"\"\"* Arxiv had {0:,d} new papers\\n\"\"\".format(len(new_papers)))\n",
    "    logs.write(\"\"\"    * {0:,d} with possible author matches\\n\\n\"\"\".format(len(candidates)))\n",
    "    logs.write(\"## Sucessful papers\\n\\n\")\n",
    "    display(Markdown(\"## Successful papers\"))\n",
    "    success = [k[0] for k in documents]\n",
    "    for candid in candidates:\n",
    "        if candid['identifier'].split(':')[-1] in success:\n",
    "            display(candid)\n",
    "            logs.write(candid.generate_markdown_text() + '\\n\\n')\n",
    "\n",
    "    ## failed\n",
    "    logs.write(\"## Failed papers\\n\\n\")\n",
    "    display(Markdown(\"## Failed papers\"))\n",
    "    failed = sorted(failed, key=lambda x: x[1])\n",
    "    current_reason = \"\"\n",
    "    for paper, reason in failed:\n",
    "        if 'affiliation' in reason:\n",
    "            color = 'green'\n",
    "        else:\n",
    "            color = 'red'\n",
    "        data = Markdown(\n",
    "                paper.generate_markdown_text() + \n",
    "                f'\\n|<p style=\"color:{color:s}\"> **ERROR** </p>| <p style=\"color:{color:s}\">{reason:s}</p> |'\n",
    "               )\n",
    "        if reason != current_reason:\n",
    "            logs.write(f'### {reason:s} \\n\\n')\n",
    "            current_reason = reason\n",
    "        logs.write(data.data + '\\n\\n')\n",
    "        \n",
    "        # only display here the important errors (all in logs)\n",
    "        # if color in ('red',):\n",
    "        display(data)"
   ]
  },
  {
   "cell_type": "markdown",
   "id": "472d20ee",
   "metadata": {
    "papermill": {
     "duration": 0.00504,
     "end_time": "2025-07-29T04:40:32.135164",
     "exception": false,
     "start_time": "2025-07-29T04:40:32.130124",
     "status": "completed"
    },
    "tags": []
   },
   "source": [
    "## Export documents\n",
    "\n",
    "We now write the .md files and export relevant images"
   ]
  },
  {
   "cell_type": "code",
   "execution_count": 7,
   "id": "d426aed9",
   "metadata": {
    "execution": {
     "iopub.execute_input": "2025-07-29T04:40:32.144929Z",
     "iopub.status.busy": "2025-07-29T04:40:32.144720Z",
     "iopub.status.idle": "2025-07-29T04:40:32.151388Z",
     "shell.execute_reply": "2025-07-29T04:40:32.150819Z"
    },
    "papermill": {
     "duration": 0.012628,
     "end_time": "2025-07-29T04:40:32.152313",
     "exception": false,
     "start_time": "2025-07-29T04:40:32.139685",
     "status": "completed"
    },
    "tags": []
   },
   "outputs": [],
   "source": [
    "def export_markdown_summary(md: str, md_fname:str, directory: str):\n",
    "    \"\"\"Export MD document and associated relevant images\"\"\"\n",
    "    import os\n",
    "    import shutil\n",
    "    import re\n",
    "\n",
    "    if (os.path.exists(directory) and not os.path.isdir(directory)):\n",
    "        raise RuntimeError(f\"a non-directory file exists with name {directory:s}\")\n",
    "\n",
    "    if (not os.path.exists(directory)):\n",
    "        print(f\"creating directory {directory:s}\")\n",
    "        os.mkdir(directory)\n",
    "\n",
    "    fig_fnames = (re.compile(r'\\[Fig.*\\]\\((.*)\\)').findall(md) + \n",
    "                  re.compile(r'\\<img src=\"([^>\\s]*)\"[^>]*/>').findall(md))\n",
    "    print(\"found figures\", fig_fnames)\n",
    "    for fname in fig_fnames:\n",
    "        if 'http' in fname:\n",
    "            # No need to copy online figures\n",
    "            continue\n",
    "        if not os.path.exists(fname):\n",
    "            print(\"file not found\", fname)\n",
    "            continue\n",
    "        print(\"copying \", fname, \"to\", directory)\n",
    "        destdir = os.path.join(directory, os.path.dirname(fname))\n",
    "        destfname = os.path.join(destdir, os.path.basename(fname))\n",
    "        try:\n",
    "            os.makedirs(destdir)\n",
    "        except FileExistsError:\n",
    "            pass\n",
    "        shutil.copy(fname, destfname)\n",
    "    with open(os.path.join(directory, md_fname), 'w') as fout:\n",
    "        fout.write(md)\n",
    "    print(\"exported in \", os.path.join(directory, md_fname))\n",
    "    [print(\"    + \" + os.path.join(directory,fk)) for fk in fig_fnames]"
   ]
  },
  {
   "cell_type": "code",
   "execution_count": 8,
   "id": "014d04a4",
   "metadata": {
    "execution": {
     "iopub.execute_input": "2025-07-29T04:40:32.162255Z",
     "iopub.status.busy": "2025-07-29T04:40:32.162043Z",
     "iopub.status.idle": "2025-07-29T04:40:32.167926Z",
     "shell.execute_reply": "2025-07-29T04:40:32.167381Z"
    },
    "papermill": {
     "duration": 0.011984,
     "end_time": "2025-07-29T04:40:32.168876",
     "exception": false,
     "start_time": "2025-07-29T04:40:32.156892",
     "status": "completed"
    },
    "tags": []
   },
   "outputs": [
    {
     "name": "stdout",
     "output_type": "stream",
     "text": [
      "found figures ['tmp_2507.20744/./figures/gradients_scal_v5.png', 'tmp_2507.20744/./figures/stacks_arm_interarm.png', 'tmp_2507.20744/./figures/compare_KK_RRV_MB_Chaos_v4.png']\n",
      "copying  tmp_2507.20744/./figures/gradients_scal_v5.png to _build/html/\n",
      "copying  tmp_2507.20744/./figures/stacks_arm_interarm.png to _build/html/\n",
      "copying  tmp_2507.20744/./figures/compare_KK_RRV_MB_Chaos_v4.png to _build/html/\n",
      "exported in  _build/html/2507.20744.md\n",
      "    + _build/html/tmp_2507.20744/./figures/gradients_scal_v5.png\n",
      "    + _build/html/tmp_2507.20744/./figures/stacks_arm_interarm.png\n",
      "    + _build/html/tmp_2507.20744/./figures/compare_KK_RRV_MB_Chaos_v4.png\n"
     ]
    }
   ],
   "source": [
    "for paper_id, md in documents:\n",
    "    export_markdown_summary(md, f\"{paper_id:s}.md\", '_build/html/')"
   ]
  },
  {
   "cell_type": "markdown",
   "id": "f087a0a7",
   "metadata": {
    "papermill": {
     "duration": 0.004615,
     "end_time": "2025-07-29T04:40:32.178178",
     "exception": false,
     "start_time": "2025-07-29T04:40:32.173563",
     "status": "completed"
    },
    "tags": []
   },
   "source": [
    "## Display the papers\n",
    "\n",
    "Not necessary but allows for a quick check."
   ]
  },
  {
   "cell_type": "code",
   "execution_count": 9,
   "id": "fd25f625",
   "metadata": {
    "execution": {
     "iopub.execute_input": "2025-07-29T04:40:32.188126Z",
     "iopub.status.busy": "2025-07-29T04:40:32.187948Z",
     "iopub.status.idle": "2025-07-29T04:40:32.192403Z",
     "shell.execute_reply": "2025-07-29T04:40:32.191718Z"
    },
    "papermill": {
     "duration": 0.010605,
     "end_time": "2025-07-29T04:40:32.193443",
     "exception": false,
     "start_time": "2025-07-29T04:40:32.182838",
     "status": "completed"
    },
    "scrolled": false,
    "tags": []
   },
   "outputs": [
    {
     "data": {
      "text/markdown": [
       "<div class=\"macros\" style=\"visibility:hidden;\">\n",
       "$\\newcommand{\\ensuremath}{}$\n",
       "$\\newcommand{\\xspace}{}$\n",
       "$\\newcommand{\\object}[1]{\\texttt{#1}}$\n",
       "$\\newcommand{\\farcs}{{.}''}$\n",
       "$\\newcommand{\\farcm}{{.}'}$\n",
       "$\\newcommand{\\arcsec}{''}$\n",
       "$\\newcommand{\\arcmin}{'}$\n",
       "$\\newcommand{\\ion}[2]{#1#2}$\n",
       "$\\newcommand{\\textsc}[1]{\\textrm{#1}}$\n",
       "$\\newcommand{\\hl}[1]{\\textrm{#1}}$\n",
       "$\\newcommand{\\footnote}[1]{}$\n",
       "$\\newcommand{\\oiii}{[O \\textsc{iii}]}$\n",
       "$\\newcommand{\\nii}{[N \\textsc{ii}]}$\n",
       "$\\newcommand{\\sii}{[S \\textsc{ii}]}$\n",
       "$\\newcommand{\\oi}{[O \\textsc{i}]}$\n",
       "$\\newcommand{\\niion}{[N \\textsc{i}]}$\n",
       "$\\newcommand{\\hei}{[He \\textsc{i}]}$\n",
       "$\\newcommand{\\siii}{[S \\textsc{iii}]}$\n",
       "$\\newcommand{\\oii}{[O \\textsc{ii}]}$\n",
       "$\\newcommand{\\neii}{[Ne \\textsc{ii}]}$\n",
       "$\\newcommand{\\hii}{H \\textsc{ii}}$\n",
       "$\\newcommand{\\ha}{H\\alpha}$\n",
       "$\\newcommand{\\hb}{H\\beta}$\n",
       "$\\newcommand{\\niiauroral}{[N \\textsc{ii}]\\lambda5755}$\n",
       "$\\newcommand{\\doh}{\\Delta(O/H)}$\n",
       "$\\newcommand{\\sigmaoh}{\\sigma(O/H)}$\n",
       "$\\newcommand{\\te}{T_{\\rm e}}$\n",
       "$\\newcommand{\\logten}{log_{10}}$\n",
       "$\\newcommand{\\nee}{n_{\\rm e}}$\n",
       "$\\newcommand{\\OSU}{\\label{OSU} Department of Astronomy, The Ohio State University, 140 West 18th Avenue, Columbus, Ohio 43210, USA}$\n",
       "$\\newcommand{\\Alberta}{\\label{Alberta} Department of Physics, University of Alberta, Edmonton, AB T6G 2E1, Canada}$\n",
       "$\\newcommand{\\ANU}{\\label{ANU} Research School of Astronomy and Astrophysics, Australian National University, Canberra, ACT 2611, Australia}$\n",
       "$\\newcommand{\\IPAC}{\\label{IPAC} Caltech-IPAC, 1200 E. California Blvd. Pasadena, CA 91125, USA}$\n",
       "$\\newcommand{\\Carnegie}{\\label{Carnegie} Observatories of the Carnegie Institution for Science, 813 Santa Barbara Street, Pasadena, CA 91101, USA}$\n",
       "$\\newcommand{ÇAPP}{\\label{CCAPP} Center for Cosmology and Astroparticle Physics, 191 West Woodruff Avenue, Columbus, OH 43210, USA}$\n",
       "$\\newcommand{\\CfA}{\\label{CfA} Harvard-Smithsonian Center for Astrophysics, 60 Garden Street, Cambridge, MA 02138, USA}$\n",
       "$\\newcommand{\\CITEVA}{\\label{CITEVA} Centro de Astronomía (CITEVA), Universidad de Antofagasta, Avenida Angamos 601, Antofagasta, Chile}$\n",
       "$\\newcommand{\\CNRS}{\\label{CNRS} CNRS, IRAP, 9 Av. du Colonel Roche, BP 44346, F-31028 Toulouse cedex 4, France}$\n",
       "$\\newcommand{\\ESO}{\\label{ESO} European Southern Observatory, Karl-Schwarzschild Stra{\\ss}e 2, D-85748 Garching bei München, Germany}$\n",
       "$\\newcommand{\\ESOChile}{\\label{ESOChile} European Southern Observatory, Avenida Alonso de Cordoba 3107, Casilla 19, Santiago 19001, Chile}$\n",
       "$\\newcommand{\\HD}{\\label{HD} Astronomisches Rechen-Institut, Zentrum für Astronomie der Universität Heidelberg, Mönchhofstra\\ss e 12-14, D-69120 Heidelberg, Germany}$\n",
       "$\\newcommand{\\ICRAR}{\\label{ICRAR} International Centre for Radio Astronomy Research, University of Western Australia, 35 Stirling Highway, Crawley, WA 6009, Australia}$\n",
       "$\\newcommand{\\IRAM}{\\label{IRAM} Institut de Radioastronomie Millimétrique (IRAM), 300 Rue de la Piscine, F-38406 Saint Martin d'Hères, France}$\n",
       "$\\newcommand{\\ITA}{\\label{ITA} Universität Heidelberg, Zentrum für Astronomie, Institut für Theoretische Astrophysik, Albert-Ueberle-Str 2, D-69120 Heidelberg, Germany}$\n",
       "$\\newcommand{\\IWR}{\\label{IWR} Universität Heidelberg, Interdisziplinäres Zentrum für Wissenschaftliches Rechnen, Im Neuenheimer Feld 205, D-69120 Heidelberg, Germany}$\n",
       "$\\newcommand{\\JHU}{\\label{JHU} Department of Physics and Astronomy, The Johns Hopkins University, Baltimore, MD 21218, USA}$\n",
       "$\\newcommand{\\Leiden}{\\label{Leiden} Leiden Observatory, Leiden University, P.O. Box 9513, 2300 RA Leiden, The Netherlands}$\n",
       "$\\newcommand{\\Maryland}{\\label{Maryland} Department of Astronomy, University of Maryland, College Park, MD 20742, USA}$\n",
       "$\\newcommand{\\MPE}{\\label{MPE} Max-Planck-Institut für extraterrestrische Physik, Giessenbachstra{\\ss}e 1, D-85748 Garching, Germany}$\n",
       "$\\newcommand{\\MPIA}{\\label{MPIA} Max-Planck-Institut für Astronomie, Königstuhl 17, D-69117, Heidelberg, Germany}$\n",
       "$\\newcommand{\\Nagoya}{\\label{Nagoya} Department of Physics, Nagoya University, Furo-cho, Chikusa-ku, Nagoya, Aichi 464-8602, Japan}$\n",
       "$\\newcommand{\\NRAO}{\\label{NRAO} National Radio Astronomy Observatory, 520 Edgemont Road, Charlottesville, VA 22903-2475, USA}$\n",
       "$\\newcommand{\\OAN}{\\label{OAN} Observatorio Astronómico Nacional (IGN), C/Alfonso XII, 3, E-28014 Madrid, Spain}$\n",
       "$\\newcommand{\\ObsParis}{\\label{ObsParis} Sorbonne Université, Observatoire de Paris, Université PSL, CNRS, LERMA, F-75014, Paris, France}$\n",
       "$\\newcommand{\\Princeton}{\\label{Princeton} Department of Astrophysical Sciences, Princeton University, Princeton, NJ 08544 USA}$\n",
       "$\\newcommand{\\UToledo}{\\label{UToledo} University of Toledo, 2801 W. Bancroft St., Mail Stop 111, Toledo, OH, 43606}$\n",
       "$\\newcommand{\\Toulouse}{\\label{Toulouse} Université de Toulouse, UPS-OMP, IRAP, F-31028 Toulouse cedex 4, France}$\n",
       "$\\newcommand{\\UBonn}{\\label{UBonn} Argelander-Institut für Astronomie, Universität Bonn, Auf dem Hügel 71, 53121 Bonn, Germany}$\n",
       "$\\newcommand{\\UChile}{\\label{UChile} Departamento de Astronomía, Universidad de Chile, Camino del Observatorio 1515, Las Condes, Santiago, Chile}$\n",
       "$\\newcommand{\\UConn}{\\label{UConn} Department of Physics, University of Connecticut, Storrs, CT, 06269, USA}$\n",
       "$\\newcommand{\\UCSD}{\\label{UCSD} Center for Astrophysics and Space Sciences, Department of Physics,  University of California, San Diego, 9500 Gilman Drive, La Jolla, CA 92093, USA}$\n",
       "$\\newcommand{\\UGent}{\\label{UGent} Sterrenkundig Observatorium, Universiteit Gent, Krijgslaan 281 S9, B-9000 Gent, Belgium}$\n",
       "$\\newcommand{\\ULyon}{\\label{ULyon} Univ Lyon, Univ Lyon 1, ENS de Lyon, CNRS, Centre de Recherche Astrophysique de Lyon UMR5574,\\ F-69230 Saint-Genis-Laval, France}$\n",
       "$\\newcommand{\\UMass}{\\label{UMass} University of Massachusetts—Amherst, 710 N. Pleasant Street, Amherst, MA 01003, USA}$\n",
       "$\\newcommand{\\UWyoming}{\\label{UWyoming} Department of Physics and Astronomy, University of Wyoming, Laramie, WY 82071, USA}$\n",
       "$\\newcommand{\\LAM}{\\label{LAM} Aix Marseille Univ, CNRS, CNES, LAM (Laboratoire d’Astrophysique de Marseille), Marseille, France}$\n",
       "$\\newcommand{\\UHawaii}{\\label{UHawaii} Institute for Astronomy, University of Hawaii, 2680 Woodlawn Drive, Honolulu, HI 96822, USA}$\n",
       "$\\newcommand{\\UCM}{\\label{UCM} Departamento de Física de la Tierra y Astrofísica, Universidad Complutense de Madrid, E-28040, Spain}$\n",
       "$\\newcommand{\\IPARC}{\\label{IPARC} Instituto de Física de Partículas y del Cosmos IPARCOS, Facultad de Ciencias Físicas, Universidad Complutense de Madrid, E-28040, Spain}$\n",
       "$\\newcommand{\\STScI}{\\label{STScI} Space Telescope Science Institute, 3700 San Martin Drive, Baltimore, MD 21218, USA}$\n",
       "$\\newcommand{\\McMaster}{\\label{McMaster} Department of Physics and Astronomy, McMaster University, 1280 Main Street West, Hamilton, ON L8S 4M1, Canada}$\n",
       "$\\newcommand{\\INAF}{\\label{INAF} INAF -- Osservatorio Astrofisico di Arcetri, Largo E. Fermi 5, I-50157, Firenze, Italy}$\n",
       "$\\newcommand{\\Sydney}{\\label{Sydney} Sydney Institute for Astronomy, School of Physics A28, The University of Sydney, NSW 2006, Australia}$\n",
       "$\\newcommand{\\CITA}{\\label{CITA} Canadian Institute for Theoretical Astrophysics (CITA), University of Toronto, 60 St George St, Toronto, ON M5S 3H8, Canada}$\n",
       "$\\newcommand{\\ASIAA}{\\label{ASIAA} Institute of Astronomy and Astrophysics, Academia Sinica, No. 1, Sec. 4, Roosevelt Road, Taipei 10617, Taiwan}$\n",
       "$\\newcommand{\\TKU}{\\label{TKU} Department of Physics, Tamkang University, No.151, Yingzhuan Rd., Tamsui Dist., New Taipei City 251301, Taiwan}$\n",
       "$\\newcommand{\\PSMA}{\\label{PSMA} Penn State Mont Alto, 1 Campus Drive, Mont Alto, PA  17237, USA}$\n",
       "$\\newcommand{\\ILL}{\\label{ILL} ILL}$\n",
       "$\\newcommand{\\stromlo}{\\label{stromlo} Research School of Astronomy and Astrophysics, Australian National University, Mt Stromlo Observatory, Weston Creek, ACT 2611, Australia}$\n",
       "$\\newcommand{\\UCatolica}{\\label{UCatolica} Instituto de Astronomía, Universidad Católica del Norte, Av. Angamos 0610, Antofagasta, Chile}$\n",
       "$\\newcommand{\\UT}{\\label{UT} McDonald Observatory, The University of Texas at Austin, 1 University Station, Austin, TX 78712-0259, USA}$\n",
       "$\\newcommand{\\Vanderbilt}{\\label{Vanderbilt} Department of Physics and Astronomy, Vanderbilt University, VU Station 1807, Nashville, TN 37235, USA}$\n",
       "$\\newcommand{\\UNF}{\\label{UNF} Department of Physics, University of North Florida, 1 UNF Dr. Jacksonville FL 32224}$\n",
       "$\\newcommand{\\NAOC}{\\label{NAOC} Chinese Academy of Sciences South America Center for Astronomy, National Astronomical Observatories, CAS, Beijing 100101, China}$\n",
       "$\\newcommand{\\CASA}{\\label{CASA} Center for Astrophysics and Space Astronomy, University of Colorado, 389 UCB, Boulder, CO 80309-0389, USA}$\n",
       "$\\newcommand{\\UNAM}{\\label{UNAM} Universidad Nacional Autónoma de México, Instituto de Astronomía, AP 106, Ensenada 22800, BC, México}$\n",
       "$\\newcommand{\\UDP}{\\label{UDP} Instituto de Estudios Astrofísicos, Facultad de Ingeniería y Ciencias, Universidad Diego Portales, Av. Ejército Libertador 441, Santiago, Chile}$\n",
       "$\\newcommand{\\Steward}{\\label{Steward} Steward Observatory, University of Arizona, 933 N. Cherry Ave., Tucson, AZ 85721-0065, USA}$\n",
       "$\\newcommand{\\APO}{\\label{APO} Apache Point Observatory and New Mexico State University, P.O. Box 59,$\n",
       "$Sunspot, NM 88349-0059, USA}$\n",
       "$\\newcommand{\\UNAMCU}{\\label{UNAMCU} Universidad Nacional Autónoma de México, Instituto de Astronomía, AP 70-264, CDMX 04510, México}$\n",
       "$\\newcommand{\\UWash}{\\label{UWash} Department of Astronomy, University of Washington, Seattle, WA, 98195}$\n",
       "$\\newcommand{Ç}{\\label{CC} Department of Physics, Colorado College, Colorado Springs, CO 80903}$\n",
       "$\\newcommand{\\Utah}{\\label{Utah} Department of Physics and Astronomy, University of Utah, 115 S. 1400 E., Salt Lake City, UT 84112, USA}$\n",
       "$\\newcommand{\\UConcepcion}{\\label{UConcepcion} Departamento de Astronomía, Universidad de Concepción, Casilla 160-C, Concepción, Chile}$\n",
       "$\\newcommand{\\FCLA}{\\label{FCLA} Franco-Chilean Laboratory for Astronomy, IRL 3386, CNRS and Universidad de Chile, Santiago, Chile}$\n",
       "$\\newcommand{\\Oklahoma}{\\label{Oklahoma} Homer L. Dodge Department of Physics and Astronomy, University of Oklahoma, Norman, OK 73019, USA}$\n",
       "$\\newcommand{\\UIUC}{\\label{UIUC} Department of Astronomy, University of Illinois, Urbana, IL 61801, USA}$\n",
       "$\\newcommand{\\Harvard}{\\label{Harvard} Harvard-Smithsonian Center for Astrophysics, Cambridge, MA 02138, USA}$\n",
       "$\\newcommand{\\caltech}{\\label{caltech} Department of Astronomy, California Institute of Technology, Pasadena, CA 91125, USA}$\n",
       "$\\newcommand{\\UOA}{\\label{UOA} Department of Physics, University of Arkansas, 226 Physics Building, 825 West Dickson Street, Fayetteville, AR 72701, USA}$\n",
       "$\\newcommand{\\trieste}{\\label{trieste} Department of Physics, Astronomy Section, University of Trieste, Via G.B. Tiepolo, 11, I-34143 Trieste, Italy}$\n",
       "$\\newcommand{\\Rad}{\\label{Rad}{ Elizabeth S. and Richard M. Cashin Fellow at the Radcliffe Institute for Advanced Studies at Harvard University, 10 Garden Street, Cambridge, MA 02138, USA}}$\n",
       "$\\newcommand{\\UCT}{\\label{UCT}{ Department of Astronomy, University of Cape Town, Rondebosch 7701, Cape Town, South Africa}}$\n",
       "$\\newcommand{\\Oxford}{\\label{Oxford}{ Sub-department of Astrophysics, Department of Physics, University of Oxford, Keble Road, Oxford OX1 3RH, UK}}$\n",
       "$\\newcommand\\hyper{@linkstart##1##2 $\n",
       "$     }$\n",
       "$\\newcommand\\hyper{@linkstart##1##2 $\n",
       "$     }$\n",
       "$\\newcommand\\hyper{@linkstart##1##2 $\n",
       "$     }$\n",
       "$\\newcommand\\hyper{@linkstart##1##2 $\n",
       "$     }$\n",
       "$\\newcommand\\natexlab{#1}$</div>\n",
       "\n",
       "\n",
       "\n",
       "<div id=\"title\">\n",
       "\n",
       "#    Temperature based radial metallicity gradients in nearby galaxies   \n",
       "\n",
       "</div>\n",
       "<div id=\"comments\">\n",
       "\n",
       "[![arXiv](https://img.shields.io/badge/arXiv-2507.20744-b31b1b.svg)](https://arxiv.org/abs/2507.20744)<mark>Appeared on: 2025-07-29</mark> -  _12 pages, 6 figures, plus appendix. Accepted by A&A_\n",
       "\n",
       "</div>\n",
       "<div id=\"authors\">\n",
       "\n",
       "<mark>K. Kreckel</mark>, et al.\n",
       "\n",
       "</div>\n",
       "<div id=\"abstract\">\n",
       "\n",
       "**Abstract:** Gas-phase abundances provide insights into the baryon cycle, with radial gradients and 2D metallicity distributions tracking how metals build up and redistribute within galaxy disks over cosmic time. We use a catalog of 22,958 $\\hii$ regions across 19 nearby spiral galaxies to examine how precisely the radial abundance gradients can be traced using only the $\\niiauroral$ electron temperature as a proxy for `direct method' metallicities. Using 534 direct detections of the temperature sensitive $\\niiauroral$ auroral line, we measure gradients in 15 of the galaxies. Leveraging our large catalog of individual HII regions, we stack in bins of $\\hii$ region $\\nii$ $\\lambda$ 6583 luminosity and radius to recover stacked radial gradients. We find good agreement between the metallicity gradients from the stacked spectra,  those gradients from individual regions and those from strong line methods. In addition, particularly in the stacked $\\te$ $\\nii$ measurements, some galaxies show very low ( $<$ 0.05 dex) scatter in metallicities, indicative of a well-mixed ISM. We examine individual high confidence (S/N $>$ 5) outliers and identify 13 regions across 9 galaxies with anomalously low metallicity, although this is not strongly reflected in the strong line method metallicities. By stacking arm and interarm regions, we find no systematic evidence for offsets in metallicity between these environments, suggesting enrichment within spiral arms is due to very localized processes. This work demonstrates the potential to systematically exploit the single $\\niiauroral$ auroral line for detailed gas-phase abundance studies of galaxies. It provides strong validation of previous  results, based on the strong line calibrations, of a well-mixed ISM across typical star-forming spiral galaxies.\n",
       "\n",
       "</div>\n",
       "\n",
       "<div id=\"div_fig1\">\n",
       "\n",
       "<img src=\"tmp_2507.20744/./figures/gradients_scal_v5.png\" alt=\"Fig5\" width=\"100%\"/>\n",
       "\n",
       "**Figure 5. -** A comparison of metallicity gradients. The Scal values (grey) are compared with individual $\\te$$\\nii$ metallicities (red) and $\\te$$\\nii$ stacked metallicities (black). For context, the subsample of individual regions with $\\te$$\\nii$ detections are highlighted within the Scal measurements in light blue. Linear radial gradients are fit when there are at least 5 measurements that cover at least 0.5 r$_{\\rm eff}$. Note that $\\hii$ regions in NGC 4254 and NGC 4535 do not cover the full disk due to the AO notch filter. Galaxies are ordered from low (top-left) to high (bottom-right) stellar mass, and axis scalings are not  matched  between galaxies.   (*fig:gradients_scal*)\n",
       "\n",
       "</div>\n",
       "<div id=\"div_fig2\">\n",
       "\n",
       "<img src=\"tmp_2507.20744/./figures/stacks_arm_interarm.png\" alt=\"Fig2\" width=\"100%\"/>\n",
       "\n",
       "**Figure 2. -** A comparison of $\\te$$\\nii$ measured in stacked arm and interarm environments. We color-code the points by L($\\nii$) (left) and radius (right) but see no evidence for trends or bulk offsets between environments.  (*fig:stack-arm-interarm*)\n",
       "\n",
       "</div>\n",
       "<div id=\"div_fig3\">\n",
       "\n",
       "<img src=\"tmp_2507.20744/./figures/compare_KK_RRV_MB_Chaos_v4.png\" alt=\"Fig3\" width=\"100%\"/>\n",
       "\n",
       "**Figure 3. -** A comparison of $\\te$$\\nii$ measurements used in this work \\citep{Brazzini2024} with three different sets of measurements available in the literature. While auroral line fits in \\cite{Kreckel2022}(left) and \\cite{RRV2024}(center) are both based on the same underlying MUSE data set, different assumptions have been made in the SSP fitting and region boundaries. \\cite{Berg2015} measurements (right) are based on independent long-slit spectroscopy. As there are only five regions in common with \\cite{Berg2015}, no offset or scatter is calculated in comparison with this sample. (*fig:compare_Te*)\n",
       "\n",
       "</div><div id=\"qrcode\"><img src=https://api.qrserver.com/v1/create-qr-code/?size=100x100&data=\"https://arxiv.org/abs/2507.20744\"></div>"
      ],
      "text/plain": [
       "<IPython.core.display.Markdown object>"
      ]
     },
     "metadata": {},
     "output_type": "display_data"
    }
   ],
   "source": [
    "[display(Markdown(k[1])) for k in documents];"
   ]
  },
  {
   "cell_type": "markdown",
   "id": "873873a4",
   "metadata": {
    "papermill": {
     "duration": 0.005039,
     "end_time": "2025-07-29T04:40:32.203626",
     "exception": false,
     "start_time": "2025-07-29T04:40:32.198587",
     "status": "completed"
    },
    "tags": []
   },
   "source": [
    "# Create HTML index"
   ]
  },
  {
   "cell_type": "code",
   "execution_count": 10,
   "id": "cf665672",
   "metadata": {
    "execution": {
     "iopub.execute_input": "2025-07-29T04:40:32.214511Z",
     "iopub.status.busy": "2025-07-29T04:40:32.214275Z",
     "iopub.status.idle": "2025-07-29T04:40:32.221366Z",
     "shell.execute_reply": "2025-07-29T04:40:32.220802Z"
    },
    "papermill": {
     "duration": 0.013676,
     "end_time": "2025-07-29T04:40:32.222347",
     "exception": false,
     "start_time": "2025-07-29T04:40:32.208671",
     "status": "completed"
    },
    "tags": []
   },
   "outputs": [
    {
     "name": "stdout",
     "output_type": "stream",
     "text": [
      "151  publications files modified in the last 7 days.\n"
     ]
    }
   ],
   "source": [
    "from datetime import datetime, timedelta, timezone\n",
    "from glob import glob\n",
    "import os\n",
    "\n",
    "files = glob('_build/html/*.md')\n",
    "days = 7\n",
    "now = datetime.today()\n",
    "res = []\n",
    "for fk in files:\n",
    "    stat_result = os.stat(fk).st_ctime\n",
    "    modified = datetime.fromtimestamp(stat_result, tz=timezone.utc).replace(tzinfo=None)\n",
    "    delta = now.today() - modified\n",
    "    if delta <= timedelta(days=days):\n",
    "        res.append((delta.seconds, fk))\n",
    "res = [k[1] for k in reversed(sorted(res, key=lambda x:x[1]))]\n",
    "npub = len(res)\n",
    "print(len(res), f\" publications files modified in the last {days:d} days.\")\n",
    "# [ print('\\t', k) for k in res ];"
   ]
  },
  {
   "cell_type": "code",
   "execution_count": 11,
   "id": "015de740",
   "metadata": {
    "execution": {
     "iopub.execute_input": "2025-07-29T04:40:32.233304Z",
     "iopub.status.busy": "2025-07-29T04:40:32.233091Z",
     "iopub.status.idle": "2025-07-29T04:40:32.245365Z",
     "shell.execute_reply": "2025-07-29T04:40:32.244833Z"
    },
    "papermill": {
     "duration": 0.018861,
     "end_time": "2025-07-29T04:40:32.246333",
     "exception": false,
     "start_time": "2025-07-29T04:40:32.227472",
     "status": "completed"
    },
    "tags": []
   },
   "outputs": [
    {
     "name": "stdout",
     "output_type": "stream",
     "text": [
      "12  publications in the last 7 days.\n"
     ]
    }
   ],
   "source": [
    "import datetime\n",
    "from glob import glob\n",
    "\n",
    "def get_last_n_days(lst, days=1):\n",
    "    \"\"\" Get the documents from the last n days \"\"\"\n",
    "    sorted_lst = sorted(lst, key=lambda x: x[1], reverse=True)\n",
    "    for fname, date in sorted_lst:\n",
    "        if date >= str(datetime.date.today() - datetime.timedelta(days=days)):\n",
    "            yield fname\n",
    "\n",
    "def extract_appearance_dates(lst_file):\n",
    "    dates = []\n",
    "\n",
    "    def get_date(line):\n",
    "        return line\\\n",
    "            .split('Appeared on:')[-1]\\\n",
    "            .split('</mark>')[0].strip()\n",
    "\n",
    "    for fname in lst:\n",
    "        with open(fname, 'r') as f:\n",
    "            found_date = False\n",
    "            for line in f:\n",
    "                if not found_date:\n",
    "                    if \"Appeared on\" in line:\n",
    "                        found_date = True\n",
    "                        dates.append((fname, get_date(line)))\n",
    "                else:\n",
    "                    break\n",
    "    return dates\n",
    "\n",
    "from glob import glob\n",
    "lst = glob('_build/html/*md')\n",
    "days = 7\n",
    "dates = extract_appearance_dates(lst)\n",
    "res = list(get_last_n_days(dates, days))\n",
    "npub = len(res)\n",
    "print(len(res), f\" publications in the last {days:d} days.\")"
   ]
  },
  {
   "cell_type": "code",
   "execution_count": 12,
   "id": "52ca0208",
   "metadata": {
    "execution": {
     "iopub.execute_input": "2025-07-29T04:40:32.257620Z",
     "iopub.status.busy": "2025-07-29T04:40:32.257386Z",
     "iopub.status.idle": "2025-07-29T04:40:32.262075Z",
     "shell.execute_reply": "2025-07-29T04:40:32.261516Z"
    },
    "papermill": {
     "duration": 0.011552,
     "end_time": "2025-07-29T04:40:32.263045",
     "exception": false,
     "start_time": "2025-07-29T04:40:32.251493",
     "status": "completed"
    },
    "scrolled": false,
    "tags": []
   },
   "outputs": [],
   "source": [
    "def create_carousel(npub=4):\n",
    "    \"\"\" Generate the HTML code for a carousel with `npub` slides \"\"\"\n",
    "    carousel = [\"\"\"  <div class=\"carousel\" \"\"\",\n",
    "                \"\"\"       data-flickity='{ \"autoPlay\": 10000, \"adaptiveHeight\": true, \"resize\": true, \"wrapAround\": true, \"pauseAutoPlayOnHover\": true, \"groupCells\": 1 }' id=\"asyncTypeset\">\"\"\"\n",
    "                ]\n",
    "    \n",
    "    item_str = \"\"\"    <div class=\"carousel-cell\"> <div id=\"slide{k}\" class=\"md_view\">Content {k}</div> </div>\"\"\"\n",
    "    for k in range(1, npub + 1):\n",
    "        carousel.append(item_str.format(k=k))\n",
    "    carousel.append(\"  </div>\")\n",
    "    return '\\n'.join(carousel)\n",
    "\n",
    "def create_grid(npub=4):\n",
    "    \"\"\" Generate the HTML code for a flat grid with `npub` slides \"\"\"\n",
    "    grid = [\"\"\"  <div class=\"grid\"> \"\"\",\n",
    "                ]\n",
    "    \n",
    "    item_str = \"\"\"    <div class=\"grid-item\"> <div id=\"slide{k}\" class=\"md_view\">Content {k}</div> </div>\"\"\"\n",
    "    for k in range(1, npub + 1):\n",
    "        grid.append(item_str.format(k=k))\n",
    "    grid.append(\"  </div>\")\n",
    "    return '\\n'.join(grid)"
   ]
  },
  {
   "cell_type": "code",
   "execution_count": 13,
   "id": "a6eac5b6",
   "metadata": {
    "execution": {
     "iopub.execute_input": "2025-07-29T04:40:32.274208Z",
     "iopub.status.busy": "2025-07-29T04:40:32.274000Z",
     "iopub.status.idle": "2025-07-29T04:40:32.278811Z",
     "shell.execute_reply": "2025-07-29T04:40:32.278286Z"
    },
    "papermill": {
     "duration": 0.01153,
     "end_time": "2025-07-29T04:40:32.279773",
     "exception": false,
     "start_time": "2025-07-29T04:40:32.268243",
     "status": "completed"
    },
    "scrolled": false,
    "tags": []
   },
   "outputs": [],
   "source": [
    "carousel = create_carousel(npub)\n",
    "docs = ', '.join(['\"{0:s}\"'.format(k.split('/')[-1]) for k in res])\n",
    "slides = ', '.join([f'\"slide{k}\"' for k in range(1, npub + 1)])\n",
    "\n",
    "with open(\"daily_template.html\", \"r\") as tpl:\n",
    "    page = tpl.read()\n",
    "    page = page.replace(\"{%-- carousel:s --%}\", carousel)\\\n",
    "               .replace(\"{%-- suptitle:s --%}\",  \"7-day archives\" )\\\n",
    "               .replace(\"{%-- docs:s --%}\", docs)\\\n",
    "               .replace(\"{%-- slides:s --%}\", slides)\n",
    "    \n",
    "with open(\"_build/html/index_7days.html\", 'w') as fout:\n",
    "    fout.write(page)"
   ]
  },
  {
   "cell_type": "code",
   "execution_count": 14,
   "id": "adc1a1ec",
   "metadata": {
    "execution": {
     "iopub.execute_input": "2025-07-29T04:40:32.291250Z",
     "iopub.status.busy": "2025-07-29T04:40:32.291032Z",
     "iopub.status.idle": "2025-07-29T04:40:32.297548Z",
     "shell.execute_reply": "2025-07-29T04:40:32.297005Z"
    },
    "papermill": {
     "duration": 0.013441,
     "end_time": "2025-07-29T04:40:32.298543",
     "exception": false,
     "start_time": "2025-07-29T04:40:32.285102",
     "status": "completed"
    },
    "tags": []
   },
   "outputs": [
    {
     "name": "stdout",
     "output_type": "stream",
     "text": [
      "4  publications in the last day.\n"
     ]
    }
   ],
   "source": [
    "# redo for today\n",
    "days = 1\n",
    "res = list(get_last_n_days(dates, days))\n",
    "npub = len(res)\n",
    "print(len(res), f\" publications in the last day.\")\n",
    "\n",
    "carousel = create_carousel(npub)\n",
    "docs = ', '.join(['\"{0:s}\"'.format(k.split('/')[-1]) for k in res])\n",
    "slides = ', '.join([f'\"slide{k}\"' for k in range(1, npub + 1)])\n",
    "\n",
    "with open(\"daily_template.html\", \"r\") as tpl:\n",
    "    page = tpl.read()\n",
    "    page = page.replace(\"{%-- carousel:s --%}\", carousel)\\\n",
    "               .replace(\"{%-- suptitle:s --%}\",  \"Daily\" )\\\n",
    "               .replace(\"{%-- docs:s --%}\", docs)\\\n",
    "               .replace(\"{%-- slides:s --%}\", slides)\n",
    "    \n",
    "# print(carousel, docs, slides)\n",
    "# print(page)\n",
    "with open(\"_build/html/index_daily.html\", 'w') as fout:\n",
    "    fout.write(page)"
   ]
  },
  {
   "cell_type": "code",
   "execution_count": 15,
   "id": "00eece82",
   "metadata": {
    "execution": {
     "iopub.execute_input": "2025-07-29T04:40:32.310568Z",
     "iopub.status.busy": "2025-07-29T04:40:32.310297Z",
     "iopub.status.idle": "2025-07-29T04:40:32.317230Z",
     "shell.execute_reply": "2025-07-29T04:40:32.316625Z"
    },
    "papermill": {
     "duration": 0.014026,
     "end_time": "2025-07-29T04:40:32.318257",
     "exception": false,
     "start_time": "2025-07-29T04:40:32.304231",
     "status": "completed"
    },
    "scrolled": false,
    "tags": []
   },
   "outputs": [
    {
     "name": "stdout",
     "output_type": "stream",
     "text": [
      "6  6 publications selected.\n"
     ]
    }
   ],
   "source": [
    "# Create the flat grid of the last N papers (fixed number regardless of dates)\n",
    "from itertools import islice \n",
    "\n",
    "npub = 6\n",
    "res = [k[0] for k in (islice(reversed(sorted(dates, key=lambda x: x[1])), 6))]\n",
    "print(len(res), f\" {npub} publications selected.\")\n",
    "\n",
    "grid = create_grid(npub)\n",
    "docs = ', '.join(['\"{0:s}\"'.format(k.split('/')[-1]) for k in res])\n",
    "slides = ', '.join([f'\"slide{k}\"' for k in range(1, npub + 1)])\n",
    "\n",
    "with open(\"grid_template.html\", \"r\") as tpl:\n",
    "    page = tpl.read()\n",
    "    page = page.replace(\"{%-- grid-content:s --%}\", grid)\\\n",
    "               .replace(\"{%-- suptitle:s --%}\",  f\"Last {npub:,d} papers\" )\\\n",
    "               .replace(\"{%-- docs:s --%}\", docs)\\\n",
    "               .replace(\"{%-- slides:s --%}\", slides)\n",
    "    \n",
    "# print(grid, docs, slides)\n",
    "# print(page)\n",
    "with open(\"_build/html/index_npub_grid.html\", 'w') as fout:\n",
    "    fout.write(page)"
   ]
  }
 ],
 "metadata": {
  "kernelspec": {
   "display_name": "Python 3 (ipykernel)",
   "language": "python",
   "name": "python3"
  },
  "language_info": {
   "codemirror_mode": {
    "name": "ipython",
    "version": 3
   },
   "file_extension": ".py",
   "mimetype": "text/x-python",
   "name": "python",
   "nbconvert_exporter": "python",
   "pygments_lexer": "ipython3",
   "version": "3.9.23"
  },
  "papermill": {
   "default_parameters": {},
   "duration": 45.784905,
   "end_time": "2025-07-29T04:40:32.640274",
   "environment_variables": {},
   "exception": null,
   "input_path": "MPIA daily digest.ipynb",
   "output_path": "log.ipynb",
   "parameters": {},
   "start_time": "2025-07-29T04:39:46.855369",
   "version": "2.6.0"
  },
  "vscode": {
   "interpreter": {
    "hash": "aee8b7b246df8f9039afb4144a1f6fd8d2ca17a180786b69acc140d282b71a49"
   }
  },
  "widgets": {
   "application/vnd.jupyter.widget-state+json": {
    "state": {
     "101d2269d81246a88d0383457787bd1d": {
      "model_module": "@jupyter-widgets/controls",
      "model_module_version": "2.0.0",
      "model_name": "ProgressStyleModel",
      "state": {
       "_model_module": "@jupyter-widgets/controls",
       "_model_module_version": "2.0.0",
       "_model_name": "ProgressStyleModel",
       "_view_count": null,
       "_view_module": "@jupyter-widgets/base",
       "_view_module_version": "2.0.0",
       "_view_name": "StyleView",
       "bar_color": null,
       "description_width": ""
      }
     },
     "2aa6de83f2e846969b55c72c989b6974": {
      "model_module": "@jupyter-widgets/base",
      "model_module_version": "2.0.0",
      "model_name": "LayoutModel",
      "state": {
       "_model_module": "@jupyter-widgets/base",
       "_model_module_version": "2.0.0",
       "_model_name": "LayoutModel",
       "_view_count": null,
       "_view_module": "@jupyter-widgets/base",
       "_view_module_version": "2.0.0",
       "_view_name": "LayoutView",
       "align_content": null,
       "align_items": null,
       "align_self": null,
       "border_bottom": null,
       "border_left": null,
       "border_right": null,
       "border_top": null,
       "bottom": null,
       "display": null,
       "flex": null,
       "flex_flow": null,
       "grid_area": null,
       "grid_auto_columns": null,
       "grid_auto_flow": null,
       "grid_auto_rows": null,
       "grid_column": null,
       "grid_gap": null,
       "grid_row": null,
       "grid_template_areas": null,
       "grid_template_columns": null,
       "grid_template_rows": null,
       "height": null,
       "justify_content": null,
       "justify_items": null,
       "left": null,
       "margin": null,
       "max_height": null,
       "max_width": null,
       "min_height": null,
       "min_width": null,
       "object_fit": null,
       "object_position": null,
       "order": null,
       "overflow": null,
       "padding": null,
       "right": null,
       "top": null,
       "visibility": null,
       "width": null
      }
     },
     "3290edabb69f4b5c8b1ed6bc30a1ae1f": {
      "model_module": "@jupyter-widgets/controls",
      "model_module_version": "2.0.0",
      "model_name": "HTMLStyleModel",
      "state": {
       "_model_module": "@jupyter-widgets/controls",
       "_model_module_version": "2.0.0",
       "_model_name": "HTMLStyleModel",
       "_view_count": null,
       "_view_module": "@jupyter-widgets/base",
       "_view_module_version": "2.0.0",
       "_view_name": "StyleView",
       "background": null,
       "description_width": "",
       "font_size": null,
       "text_color": null
      }
     },
     "851b9611311144c7bd59283c7125f4b2": {
      "model_module": "@jupyter-widgets/base",
      "model_module_version": "2.0.0",
      "model_name": "LayoutModel",
      "state": {
       "_model_module": "@jupyter-widgets/base",
       "_model_module_version": "2.0.0",
       "_model_name": "LayoutModel",
       "_view_count": null,
       "_view_module": "@jupyter-widgets/base",
       "_view_module_version": "2.0.0",
       "_view_name": "LayoutView",
       "align_content": null,
       "align_items": null,
       "align_self": null,
       "border_bottom": null,
       "border_left": null,
       "border_right": null,
       "border_top": null,
       "bottom": null,
       "display": null,
       "flex": null,
       "flex_flow": null,
       "grid_area": null,
       "grid_auto_columns": null,
       "grid_auto_flow": null,
       "grid_auto_rows": null,
       "grid_column": null,
       "grid_gap": null,
       "grid_row": null,
       "grid_template_areas": null,
       "grid_template_columns": null,
       "grid_template_rows": null,
       "height": null,
       "justify_content": null,
       "justify_items": null,
       "left": null,
       "margin": null,
       "max_height": null,
       "max_width": null,
       "min_height": null,
       "min_width": null,
       "object_fit": null,
       "object_position": null,
       "order": null,
       "overflow": null,
       "padding": null,
       "right": null,
       "top": null,
       "visibility": null,
       "width": null
      }
     },
     "896c179e27674ae29de3c3a7fae6e4d2": {
      "model_module": "@jupyter-widgets/controls",
      "model_module_version": "2.0.0",
      "model_name": "HTMLModel",
      "state": {
       "_dom_classes": [],
       "_model_module": "@jupyter-widgets/controls",
       "_model_module_version": "2.0.0",
       "_model_name": "HTMLModel",
       "_view_count": null,
       "_view_module": "@jupyter-widgets/controls",
       "_view_module_version": "2.0.0",
       "_view_name": "HTMLView",
       "description": "",
       "description_allow_html": false,
       "layout": "IPY_MODEL_851b9611311144c7bd59283c7125f4b2",
       "placeholder": "​",
       "style": "IPY_MODEL_3290edabb69f4b5c8b1ed6bc30a1ae1f",
       "tabbable": null,
       "tooltip": null,
       "value": "100%"
      }
     },
     "9397930daf4a4d0ca94bc6f4dacaa722": {
      "model_module": "@jupyter-widgets/controls",
      "model_module_version": "2.0.0",
      "model_name": "HTMLModel",
      "state": {
       "_dom_classes": [],
       "_model_module": "@jupyter-widgets/controls",
       "_model_module_version": "2.0.0",
       "_model_name": "HTMLModel",
       "_view_count": null,
       "_view_module": "@jupyter-widgets/controls",
       "_view_module_version": "2.0.0",
       "_view_name": "HTMLView",
       "description": "",
       "description_allow_html": false,
       "layout": "IPY_MODEL_f55fcdec66794bd88f187eb626bc50af",
       "placeholder": "​",
       "style": "IPY_MODEL_9ef3ef2260b44bf696b99d5ff034999c",
       "tabbable": null,
       "tooltip": null,
       "value": " 6/6 [00:25&lt;00:00,  7.44s/it]"
      }
     },
     "9ef3ef2260b44bf696b99d5ff034999c": {
      "model_module": "@jupyter-widgets/controls",
      "model_module_version": "2.0.0",
      "model_name": "HTMLStyleModel",
      "state": {
       "_model_module": "@jupyter-widgets/controls",
       "_model_module_version": "2.0.0",
       "_model_name": "HTMLStyleModel",
       "_view_count": null,
       "_view_module": "@jupyter-widgets/base",
       "_view_module_version": "2.0.0",
       "_view_name": "StyleView",
       "background": null,
       "description_width": "",
       "font_size": null,
       "text_color": null
      }
     },
     "b0e3ac566a994bbda5f897621d8e6854": {
      "model_module": "@jupyter-widgets/controls",
      "model_module_version": "2.0.0",
      "model_name": "FloatProgressModel",
      "state": {
       "_dom_classes": [],
       "_model_module": "@jupyter-widgets/controls",
       "_model_module_version": "2.0.0",
       "_model_name": "FloatProgressModel",
       "_view_count": null,
       "_view_module": "@jupyter-widgets/controls",
       "_view_module_version": "2.0.0",
       "_view_name": "ProgressView",
       "bar_style": "success",
       "description": "",
       "description_allow_html": false,
       "layout": "IPY_MODEL_fce7a4e2fe6f45dd9810c2f4661362c1",
       "max": 6.0,
       "min": 0.0,
       "orientation": "horizontal",
       "style": "IPY_MODEL_101d2269d81246a88d0383457787bd1d",
       "tabbable": null,
       "tooltip": null,
       "value": 6.0
      }
     },
     "dc0c714cce654a0b9ebb109e62df982b": {
      "model_module": "@jupyter-widgets/controls",
      "model_module_version": "2.0.0",
      "model_name": "HBoxModel",
      "state": {
       "_dom_classes": [],
       "_model_module": "@jupyter-widgets/controls",
       "_model_module_version": "2.0.0",
       "_model_name": "HBoxModel",
       "_view_count": null,
       "_view_module": "@jupyter-widgets/controls",
       "_view_module_version": "2.0.0",
       "_view_name": "HBoxView",
       "box_style": "",
       "children": [
        "IPY_MODEL_896c179e27674ae29de3c3a7fae6e4d2",
        "IPY_MODEL_b0e3ac566a994bbda5f897621d8e6854",
        "IPY_MODEL_9397930daf4a4d0ca94bc6f4dacaa722"
       ],
       "layout": "IPY_MODEL_2aa6de83f2e846969b55c72c989b6974",
       "tabbable": null,
       "tooltip": null
      }
     },
     "f55fcdec66794bd88f187eb626bc50af": {
      "model_module": "@jupyter-widgets/base",
      "model_module_version": "2.0.0",
      "model_name": "LayoutModel",
      "state": {
       "_model_module": "@jupyter-widgets/base",
       "_model_module_version": "2.0.0",
       "_model_name": "LayoutModel",
       "_view_count": null,
       "_view_module": "@jupyter-widgets/base",
       "_view_module_version": "2.0.0",
       "_view_name": "LayoutView",
       "align_content": null,
       "align_items": null,
       "align_self": null,
       "border_bottom": null,
       "border_left": null,
       "border_right": null,
       "border_top": null,
       "bottom": null,
       "display": null,
       "flex": null,
       "flex_flow": null,
       "grid_area": null,
       "grid_auto_columns": null,
       "grid_auto_flow": null,
       "grid_auto_rows": null,
       "grid_column": null,
       "grid_gap": null,
       "grid_row": null,
       "grid_template_areas": null,
       "grid_template_columns": null,
       "grid_template_rows": null,
       "height": null,
       "justify_content": null,
       "justify_items": null,
       "left": null,
       "margin": null,
       "max_height": null,
       "max_width": null,
       "min_height": null,
       "min_width": null,
       "object_fit": null,
       "object_position": null,
       "order": null,
       "overflow": null,
       "padding": null,
       "right": null,
       "top": null,
       "visibility": null,
       "width": null
      }
     },
     "fce7a4e2fe6f45dd9810c2f4661362c1": {
      "model_module": "@jupyter-widgets/base",
      "model_module_version": "2.0.0",
      "model_name": "LayoutModel",
      "state": {
       "_model_module": "@jupyter-widgets/base",
       "_model_module_version": "2.0.0",
       "_model_name": "LayoutModel",
       "_view_count": null,
       "_view_module": "@jupyter-widgets/base",
       "_view_module_version": "2.0.0",
       "_view_name": "LayoutView",
       "align_content": null,
       "align_items": null,
       "align_self": null,
       "border_bottom": null,
       "border_left": null,
       "border_right": null,
       "border_top": null,
       "bottom": null,
       "display": null,
       "flex": null,
       "flex_flow": null,
       "grid_area": null,
       "grid_auto_columns": null,
       "grid_auto_flow": null,
       "grid_auto_rows": null,
       "grid_column": null,
       "grid_gap": null,
       "grid_row": null,
       "grid_template_areas": null,
       "grid_template_columns": null,
       "grid_template_rows": null,
       "height": null,
       "justify_content": null,
       "justify_items": null,
       "left": null,
       "margin": null,
       "max_height": null,
       "max_width": null,
       "min_height": null,
       "min_width": null,
       "object_fit": null,
       "object_position": null,
       "order": null,
       "overflow": null,
       "padding": null,
       "right": null,
       "top": null,
       "visibility": null,
       "width": null
      }
     }
    },
    "version_major": 2,
    "version_minor": 0
   }
  }
 },
 "nbformat": 4,
 "nbformat_minor": 5
}