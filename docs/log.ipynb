{
 "cells": [
  {
   "cell_type": "markdown",
   "id": "92bcb855",
   "metadata": {
    "papermill": {
     "duration": 0.006562,
     "end_time": "2023-01-10T04:07:48.378769",
     "exception": false,
     "start_time": "2023-01-10T04:07:48.372207",
     "status": "completed"
    },
    "tags": []
   },
   "source": [
    "# MPIA Arxiv on Deck 2\n",
    "\n",
    "Contains the steps to produce the paper extractions."
   ]
  },
  {
   "cell_type": "code",
   "execution_count": 1,
   "id": "3a0d6e11",
   "metadata": {
    "execution": {
     "iopub.execute_input": "2023-01-10T04:07:48.391436Z",
     "iopub.status.busy": "2023-01-10T04:07:48.391095Z",
     "iopub.status.idle": "2023-01-10T04:07:48.636456Z",
     "shell.execute_reply": "2023-01-10T04:07:48.635632Z"
    },
    "papermill": {
     "duration": 0.254864,
     "end_time": "2023-01-10T04:07:48.639084",
     "exception": false,
     "start_time": "2023-01-10T04:07:48.384220",
     "status": "completed"
    },
    "tags": []
   },
   "outputs": [],
   "source": [
    "# Imports\n",
    "import os\n",
    "from IPython.display import Markdown, display\n",
    "from tqdm.notebook import tqdm\n",
    "import warnings\n",
    "from PIL import Image \n",
    "\n",
    "# requires arxiv_on_deck_2\n",
    "\n",
    "from arxiv_on_deck_2.arxiv2 import (get_new_papers, \n",
    "                                    get_paper_from_identifier,\n",
    "                                    retrieve_document_source, \n",
    "                                    get_markdown_badge)\n",
    "from arxiv_on_deck_2 import (latex, \n",
    "                             mpia,\n",
    "                             highlight_authors_in_list)\n",
    "\n",
    "# Sometimes images are really big\n",
    "Image.MAX_IMAGE_PIXELS = 1000000000 "
   ]
  },
  {
   "cell_type": "code",
   "execution_count": 2,
   "id": "22aa9d44",
   "metadata": {
    "execution": {
     "iopub.execute_input": "2023-01-10T04:07:48.651115Z",
     "iopub.status.busy": "2023-01-10T04:07:48.650495Z",
     "iopub.status.idle": "2023-01-10T04:07:48.657920Z",
     "shell.execute_reply": "2023-01-10T04:07:48.656878Z"
    },
    "papermill": {
     "duration": 0.015788,
     "end_time": "2023-01-10T04:07:48.660205",
     "exception": false,
     "start_time": "2023-01-10T04:07:48.644417",
     "status": "completed"
    },
    "tags": []
   },
   "outputs": [],
   "source": [
    "# Some useful definitions.\n",
    "\n",
    "class AffiliationWarning(UserWarning):\n",
    "    pass\n",
    "\n",
    "class AffiliationError(RuntimeError):\n",
    "    pass\n",
    "\n",
    "def validation(source: str):\n",
    "    \"\"\"Raises error paper during parsing of source file\n",
    "    \n",
    "    Allows checks before parsing TeX code.\n",
    "    \n",
    "    Raises AffiliationWarning\n",
    "    \"\"\"\n",
    "    check = mpia.affiliation_verifications(source, verbose=True)\n",
    "    if check is not True:\n",
    "        raise AffiliationError(\"mpia.affiliation_verifications: \" + check)\n",
    "\n",
    "        \n",
    "warnings.simplefilter('always', AffiliationWarning)"
   ]
  },
  {
   "cell_type": "code",
   "execution_count": 3,
   "id": "14622700",
   "metadata": {
    "execution": {
     "iopub.execute_input": "2023-01-10T04:07:48.671477Z",
     "iopub.status.busy": "2023-01-10T04:07:48.671192Z",
     "iopub.status.idle": "2023-01-10T04:07:48.676057Z",
     "shell.execute_reply": "2023-01-10T04:07:48.675228Z"
    },
    "papermill": {
     "duration": 0.013081,
     "end_time": "2023-01-10T04:07:48.678234",
     "exception": false,
     "start_time": "2023-01-10T04:07:48.665153",
     "status": "completed"
    },
    "tags": []
   },
   "outputs": [],
   "source": [
    "# additional CSS to consider. \n",
    "# TODO: Current into each exported file. \n",
    "#       This should be set once into the webpages directly.\n",
    "#       With only the class/id definitions in the .md files.\n",
    "\n",
    "debug_html = \"\"\"\n",
    "<style>\n",
    "#wrap{ overflow:auto; }\n",
    "#fig1{ background:yellow; width:100%; float:left; padding:5px;  }\n",
    "#fig2{ background:red; width:50%; float:left; clear:left; padding:5px;  }\n",
    "#fig3{ background:green; width:50%; float:left; padding:5px;   }\n",
    ".macros{ background:yellow; visibility:visible;}\n",
    "h1 {margin: 0 0 0 0;}\n",
    "mark {background-color:#fff3b6;}\n",
    "img {object-fit:contain; max-height:250px; display:inline-block; text-align: center;}\n",
    "</style>\n",
    "\"\"\" \n",
    "html = \"\"\"\n",
    "<style>\n",
    "#wrap{ overflow:auto; }\n",
    "#fig1{ width:100%; float:left; padding: 5px;  }\n",
    "#fig2{ width:50%; float:left; clear:left; padding: 5px;  }\n",
    "#fig3{ width:50%; float:left; padding: 5px;  }\n",
    ".macros{ visibility:hidden; height:0px; }\n",
    "h1 {margin: 0em 0 0 0;}\n",
    "mark {background-color:#fff3b6;}\n",
    "img {object-fit:contain; max-height:250px; display:inline-block; text-align: center;}\n",
    "</style>\n",
    "\"\"\""
   ]
  },
  {
   "cell_type": "markdown",
   "id": "14bd6310",
   "metadata": {
    "papermill": {
     "duration": 0.004497,
     "end_time": "2023-01-10T04:07:48.687601",
     "exception": false,
     "start_time": "2023-01-10T04:07:48.683104",
     "status": "completed"
    },
    "tags": []
   },
   "source": [
    "## get list of arxiv paper candidates\n",
    "\n",
    "We use the MPIA mitarbeiter list webpage from mpia.de to get author names\n",
    "We then get all new papers from Arxiv and match authors"
   ]
  },
  {
   "cell_type": "code",
   "execution_count": 4,
   "id": "2645e73a",
   "metadata": {
    "execution": {
     "iopub.execute_input": "2023-01-10T04:07:48.699079Z",
     "iopub.status.busy": "2023-01-10T04:07:48.698772Z",
     "iopub.status.idle": "2023-01-10T04:08:19.123022Z",
     "shell.execute_reply": "2023-01-10T04:08:19.122172Z"
    },
    "papermill": {
     "duration": 30.437939,
     "end_time": "2023-01-10T04:08:19.130213",
     "exception": false,
     "start_time": "2023-01-10T04:07:48.692274",
     "status": "completed"
    },
    "tags": []
   },
   "outputs": [
    {
     "name": "stdout",
     "output_type": "stream",
     "text": [
      "Arxiv has 82 new papers today\n",
      "          35 with possible author matches\n"
     ]
    }
   ],
   "source": [
    "# get list from MPIA website\n",
    "# it automatically filters identified non-scientists :func:`mpia.filter_non_scientists`\n",
    "mpia_authors = mpia.get_mpia_mitarbeiter_list()\n",
    "new_papers = get_new_papers()\n",
    "# add manual references\n",
    "add_paper_refs = []\n",
    "new_papers.extend([get_paper_from_identifier(k) for k in add_paper_refs])\n",
    "\n",
    "# select only papers with matching author names and highlight authors\n",
    "hl_list = [k[0] for k in mpia_authors]\n",
    "\n",
    "candidates = []\n",
    "for paperk in new_papers:\n",
    "    hl_authors = highlight_authors_in_list(paperk['authors'], hl_list)\n",
    "    matches = [(hl, orig) for hl, orig in zip(hl_authors, paperk['authors']) if 'mark' in hl]\n",
    "    paperk['authors'] = hl_authors\n",
    "    if matches:\n",
    "        candidates.append(paperk)\n",
    "print(\"\"\"Arxiv has {0:,d} new papers today\"\"\".format(len(new_papers)))        \n",
    "print(\"\"\"          {0:,d} with possible author matches\"\"\".format(len(candidates)))"
   ]
  },
  {
   "cell_type": "markdown",
   "id": "3543b34a",
   "metadata": {
    "papermill": {
     "duration": 0.005086,
     "end_time": "2023-01-10T04:08:19.140160",
     "exception": false,
     "start_time": "2023-01-10T04:08:19.135074",
     "status": "completed"
    },
    "tags": []
   },
   "source": [
    "# Parse sources and generate relevant outputs\n",
    "\n",
    "From the candidates, we do the following steps:\n",
    "* get their tarball from ArXiv (and extract data)\n",
    "* find the main .tex file: find one with \\documentclass{...} (sometimes it's non trivial)\n",
    "* Check affiliations with :func:`validation`, which uses :func:`mpia.affiliation_verifications`\n",
    "* If passing the affiliations: we parse the .tex source\n",
    "   * inject sub-documents into the main (flatten the main document)\n",
    "   * parse structure, extract information (title, abstract, authors, figures...)\n",
    "   * handles `\\graphicspath` if provided\n",
    "* Generate the .md document."
   ]
  },
  {
   "cell_type": "code",
   "execution_count": 5,
   "id": "9576b79e",
   "metadata": {
    "execution": {
     "iopub.execute_input": "2023-01-10T04:08:19.151906Z",
     "iopub.status.busy": "2023-01-10T04:08:19.151455Z",
     "iopub.status.idle": "2023-01-10T04:14:56.998232Z",
     "shell.execute_reply": "2023-01-10T04:14:56.997135Z"
    },
    "papermill": {
     "duration": 397.85609,
     "end_time": "2023-01-10T04:14:57.001479",
     "exception": false,
     "start_time": "2023-01-10T04:08:19.145389",
     "status": "completed"
    },
    "scrolled": false,
    "tags": []
   },
   "outputs": [
    {
     "data": {
      "application/vnd.jupyter.widget-view+json": {
       "model_id": "54f167eb85d5423d8b1eaf7467be581e",
       "version_major": 2,
       "version_minor": 0
      },
      "text/plain": [
       "  0%|          | 0/34 [00:00<?, ?it/s]"
      ]
     },
     "metadata": {},
     "output_type": "display_data"
    },
    {
     "name": "stdout",
     "output_type": "stream",
     "text": [
      "Retrieving document from  https://arxiv.org/e-print/2301.02671\n"
     ]
    },
    {
     "name": "stdout",
     "output_type": "stream",
     "text": [
      "extracting tarball to tmp_2301.02671..."
     ]
    },
    {
     "name": "stdout",
     "output_type": "stream",
     "text": [
      " done.\n"
     ]
    },
    {
     "name": "stdout",
     "output_type": "stream",
     "text": [
      "Retrieving document from  https://arxiv.org/e-print/2301.02675\n"
     ]
    },
    {
     "name": "stdout",
     "output_type": "stream",
     "text": [
      "extracting tarball to tmp_2301.02675..."
     ]
    },
    {
     "name": "stdout",
     "output_type": "stream",
     "text": [
      " done.\n",
      "Retrieving document from  https://arxiv.org/e-print/2301.02678\n"
     ]
    },
    {
     "name": "stdout",
     "output_type": "stream",
     "text": [
      "extracting tarball to tmp_2301.02678..."
     ]
    },
    {
     "name": "stdout",
     "output_type": "stream",
     "text": [
      " done.\n",
      "Retrieving document from  https://arxiv.org/e-print/2301.02682\n"
     ]
    },
    {
     "name": "stderr",
     "output_type": "stream",
     "text": [
      "/opt/hostedtoolcache/Python/3.9.16/x64/lib/python3.9/site-packages/IPython/core/interactiveshell.py:3442: LatexWarning: Multiple tex files.\n",
      "\n",
      "  exec(code_obj, self.user_global_ns, self.user_ns)\n",
      "/opt/hostedtoolcache/Python/3.9.16/x64/lib/python3.9/site-packages/IPython/core/interactiveshell.py:3442: LatexWarning: Found documentclass in tmp_2301.02678/espresso.tex\n",
      "\n",
      "  exec(code_obj, self.user_global_ns, self.user_ns)\n",
      "/opt/hostedtoolcache/Python/3.9.16/x64/lib/python3.9/site-packages/arxiv_on_deck_2/latex.py:292: LatexWarning: Latex injecting: 'plots_and_tables/table' from 'tmp_2301.02678/plots_and_tables/table.tex'\n",
      "  warnings.warn(LatexWarning(f\"Latex injecting: '{ext}' from '{subsource}'\"))\n",
      "/opt/hostedtoolcache/Python/3.9.16/x64/lib/python3.9/site-packages/arxiv_on_deck_2/latex.py:292: LatexWarning: Latex injecting: 'plots_and_tables/table' from 'tmp_2301.02678/plots_and_tables/table.tex'\n",
      "  warnings.warn(LatexWarning(f\"Latex injecting: '{ext}' from '{subsource}'\"))\n"
     ]
    },
    {
     "name": "stdout",
     "output_type": "stream",
     "text": [
      "extracting tarball to tmp_2301.02682..."
     ]
    },
    {
     "name": "stdout",
     "output_type": "stream",
     "text": [
      " done.\n",
      "Retrieving document from  https://arxiv.org/e-print/2301.02713\n"
     ]
    },
    {
     "name": "stderr",
     "output_type": "stream",
     "text": [
      "/opt/hostedtoolcache/Python/3.9.16/x64/lib/python3.9/site-packages/IPython/core/interactiveshell.py:3442: LatexWarning: Multiple tex files.\n",
      "\n",
      "  exec(code_obj, self.user_global_ns, self.user_ns)\n",
      "/opt/hostedtoolcache/Python/3.9.16/x64/lib/python3.9/site-packages/IPython/core/interactiveshell.py:3442: LatexWarning: Found documentclass in tmp_2301.02682/main.tex\n",
      "\n",
      "  exec(code_obj, self.user_global_ns, self.user_ns)\n",
      "/opt/hostedtoolcache/Python/3.9.16/x64/lib/python3.9/site-packages/arxiv_on_deck_2/latex.py:292: LatexWarning: Latex injecting: 'nasa_ads_macros' from 'tmp_2301.02682/nasa_ads_macros.tex'\n",
      "  warnings.warn(LatexWarning(f\"Latex injecting: '{ext}' from '{subsource}'\"))\n"
     ]
    },
    {
     "name": "stdout",
     "output_type": "stream",
     "text": [
      "extracting tarball to tmp_2301.02713..."
     ]
    },
    {
     "name": "stdout",
     "output_type": "stream",
     "text": [
      " done.\n",
      "Retrieving document from  https://arxiv.org/e-print/2301.02718\n"
     ]
    },
    {
     "name": "stderr",
     "output_type": "stream",
     "text": [
      "/opt/hostedtoolcache/Python/3.9.16/x64/lib/python3.9/site-packages/IPython/core/interactiveshell.py:3442: LatexWarning: Multiple tex files.\n",
      "\n",
      "  exec(code_obj, self.user_global_ns, self.user_ns)\n",
      "/opt/hostedtoolcache/Python/3.9.16/x64/lib/python3.9/site-packages/IPython/core/interactiveshell.py:3442: LatexWarning: Found documentclass in tmp_2301.02713/manuscript.tex\n",
      "\n",
      "  exec(code_obj, self.user_global_ns, self.user_ns)\n"
     ]
    },
    {
     "name": "stdout",
     "output_type": "stream",
     "text": [
      "extracting tarball to tmp_2301.02718..."
     ]
    },
    {
     "name": "stdout",
     "output_type": "stream",
     "text": [
      " done.\n",
      "Retrieving document from  https://arxiv.org/e-print/2301.02719\n"
     ]
    },
    {
     "name": "stdout",
     "output_type": "stream",
     "text": [
      "extracting tarball to tmp_2301.02719..."
     ]
    },
    {
     "name": "stdout",
     "output_type": "stream",
     "text": [
      " done.\n",
      "Retrieving document from  https://arxiv.org/e-print/2301.02727\n"
     ]
    },
    {
     "name": "stdout",
     "output_type": "stream",
     "text": [
      "extracting tarball to tmp_2301.02727..."
     ]
    },
    {
     "name": "stdout",
     "output_type": "stream",
     "text": [
      " done.\n",
      "Retrieving document from  https://arxiv.org/e-print/2301.02745\n"
     ]
    },
    {
     "name": "stderr",
     "output_type": "stream",
     "text": [
      "/opt/hostedtoolcache/Python/3.9.16/x64/lib/python3.9/site-packages/IPython/core/interactiveshell.py:3442: LatexWarning: Multiple tex files.\n",
      "\n",
      "  exec(code_obj, self.user_global_ns, self.user_ns)\n",
      "/opt/hostedtoolcache/Python/3.9.16/x64/lib/python3.9/site-packages/IPython/core/interactiveshell.py:3442: LatexWarning: Found documentclass in tmp_2301.02727/0_PSP_FirstFourYears_SpaceScienceReviews.tex\n",
      "\n",
      "  exec(code_obj, self.user_global_ns, self.user_ns)\n"
     ]
    },
    {
     "name": "stderr",
     "output_type": "stream",
     "text": [
      "/tmp/ipykernel_2108/4030337529.py:34: LatexWarning: 2301.02745 did not run properly\n",
      "not a gzip file\n",
      "  warnings.warn(latex.LatexWarning(f\"{paper_id:s} did not run properly\\n\" +\n"
     ]
    },
    {
     "name": "stdout",
     "output_type": "stream",
     "text": [
      "Retrieving document from  https://arxiv.org/e-print/2301.02755\n"
     ]
    },
    {
     "name": "stdout",
     "output_type": "stream",
     "text": [
      "extracting tarball to tmp_2301.02755..."
     ]
    },
    {
     "name": "stdout",
     "output_type": "stream",
     "text": [
      " done.\n",
      "Retrieving document from  https://arxiv.org/e-print/2301.02775\n"
     ]
    },
    {
     "name": "stdout",
     "output_type": "stream",
     "text": [
      "extracting tarball to tmp_2301.02775..."
     ]
    },
    {
     "name": "stdout",
     "output_type": "stream",
     "text": [
      " done.\n",
      "Retrieving document from  https://arxiv.org/e-print/2301.02779\n"
     ]
    },
    {
     "name": "stderr",
     "output_type": "stream",
     "text": [
      "/opt/hostedtoolcache/Python/3.9.16/x64/lib/python3.9/site-packages/IPython/core/interactiveshell.py:3442: LatexWarning: Multiple tex files.\n",
      "\n",
      "  exec(code_obj, self.user_global_ns, self.user_ns)\n",
      "/opt/hostedtoolcache/Python/3.9.16/x64/lib/python3.9/site-packages/IPython/core/interactiveshell.py:3442: LatexWarning: Found documentclass in tmp_2301.02775/zzDeMarco-Supplementary.tex\n",
      "\n",
      "  exec(code_obj, self.user_global_ns, self.user_ns)\n"
     ]
    },
    {
     "name": "stdout",
     "output_type": "stream",
     "text": [
      "extracting tarball to tmp_2301.02779..."
     ]
    },
    {
     "name": "stdout",
     "output_type": "stream",
     "text": [
      " done.\n",
      "Retrieving document from  https://arxiv.org/e-print/2301.02815\n"
     ]
    },
    {
     "name": "stdout",
     "output_type": "stream",
     "text": [
      "extracting tarball to tmp_2301.02815..."
     ]
    },
    {
     "name": "stdout",
     "output_type": "stream",
     "text": [
      " done.\n",
      "Retrieving document from  https://arxiv.org/e-print/2301.02816\n"
     ]
    },
    {
     "name": "stdout",
     "output_type": "stream",
     "text": [
      "extracting tarball to tmp_2301.02816..."
     ]
    },
    {
     "name": "stdout",
     "output_type": "stream",
     "text": [
      " done.\n",
      "Retrieving document from  https://arxiv.org/e-print/2301.02821\n"
     ]
    },
    {
     "name": "stdout",
     "output_type": "stream",
     "text": [
      "extracting tarball to tmp_2301.02821..."
     ]
    },
    {
     "name": "stdout",
     "output_type": "stream",
     "text": [
      " done.\n",
      "Retrieving document from  https://arxiv.org/e-print/2301.02822\n"
     ]
    },
    {
     "name": "stdout",
     "output_type": "stream",
     "text": [
      "extracting tarball to tmp_2301.02822..."
     ]
    },
    {
     "name": "stdout",
     "output_type": "stream",
     "text": [
      " done.\n",
      "Retrieving document from  https://arxiv.org/e-print/2301.02864\n"
     ]
    },
    {
     "name": "stderr",
     "output_type": "stream",
     "text": [
      "/opt/hostedtoolcache/Python/3.9.16/x64/lib/python3.9/site-packages/IPython/core/interactiveshell.py:3442: LatexWarning: Multiple tex files.\n",
      "\n",
      "  exec(code_obj, self.user_global_ns, self.user_ns)\n",
      "/opt/hostedtoolcache/Python/3.9.16/x64/lib/python3.9/site-packages/IPython/core/interactiveshell.py:3442: LatexWarning: Found documentclass in tmp_2301.02822/TNJ0924.tex\n",
      "\n",
      "  exec(code_obj, self.user_global_ns, self.user_ns)\n"
     ]
    },
    {
     "name": "stdout",
     "output_type": "stream",
     "text": [
      "extracting tarball to tmp_2301.02864..."
     ]
    },
    {
     "name": "stdout",
     "output_type": "stream",
     "text": [
      " done.\n",
      "Retrieving document from  https://arxiv.org/e-print/2301.02970\n"
     ]
    },
    {
     "name": "stdout",
     "output_type": "stream",
     "text": [
      "extracting tarball to tmp_2301.02970..."
     ]
    },
    {
     "name": "stdout",
     "output_type": "stream",
     "text": [
      " done.\n",
      "Retrieving document from  https://arxiv.org/e-print/2301.02986\n"
     ]
    },
    {
     "name": "stdout",
     "output_type": "stream",
     "text": [
      "extracting tarball to tmp_2301.02986..."
     ]
    },
    {
     "name": "stdout",
     "output_type": "stream",
     "text": [
      " done.\n",
      "Retrieving document from  https://arxiv.org/e-print/2301.02997\n"
     ]
    },
    {
     "name": "stdout",
     "output_type": "stream",
     "text": [
      "extracting tarball to tmp_2301.02997..."
     ]
    },
    {
     "name": "stdout",
     "output_type": "stream",
     "text": [
      " done.\n",
      "Retrieving document from  https://arxiv.org/e-print/2301.03065\n"
     ]
    },
    {
     "name": "stdout",
     "output_type": "stream",
     "text": [
      "extracting tarball to tmp_2301.03065... done.\n",
      "Retrieving document from  https://arxiv.org/e-print/2301.03067\n"
     ]
    },
    {
     "name": "stdout",
     "output_type": "stream",
     "text": [
      "extracting tarball to tmp_2301.03067... done.\n",
      "Retrieving document from  https://arxiv.org/e-print/2301.03068\n"
     ]
    },
    {
     "name": "stdout",
     "output_type": "stream",
     "text": [
      "extracting tarball to tmp_2301.03068..."
     ]
    },
    {
     "name": "stdout",
     "output_type": "stream",
     "text": [
      " done.\n",
      "Retrieving document from  https://arxiv.org/e-print/2301.03144\n"
     ]
    },
    {
     "name": "stdout",
     "output_type": "stream",
     "text": [
      "extracting tarball to tmp_2301.03144..."
     ]
    },
    {
     "name": "stdout",
     "output_type": "stream",
     "text": [
      " done.\n"
     ]
    },
    {
     "name": "stderr",
     "output_type": "stream",
     "text": [
      "/opt/hostedtoolcache/Python/3.9.16/x64/lib/python3.9/site-packages/IPython/core/interactiveshell.py:3442: LatexWarning: Multiple tex files.\n",
      "\n",
      "  exec(code_obj, self.user_global_ns, self.user_ns)\n",
      "/opt/hostedtoolcache/Python/3.9.16/x64/lib/python3.9/site-packages/IPython/core/interactiveshell.py:3442: LatexWarning: Found documentclass in tmp_2301.03144/ourwork.tex\n",
      "\n",
      "  exec(code_obj, self.user_global_ns, self.user_ns)\n",
      "/opt/hostedtoolcache/Python/3.9.16/x64/lib/python3.9/site-packages/arxiv_on_deck_2/latex.py:292: LatexWarning: Latex injecting: 'affiliations' from 'tmp_2301.03144/affiliations.tex'\n",
      "  warnings.warn(LatexWarning(f\"Latex injecting: '{ext}' from '{subsource}'\"))\n",
      "/opt/hostedtoolcache/Python/3.9.16/x64/lib/python3.9/site-packages/arxiv_on_deck_2/latex.py:292: LatexWarning: Latex injecting: 'authors' from 'tmp_2301.03144/authors.tex'\n",
      "  warnings.warn(LatexWarning(f\"Latex injecting: '{ext}' from '{subsource}'\"))\n"
     ]
    },
    {
     "name": "stderr",
     "output_type": "stream",
     "text": [
      "/opt/hostedtoolcache/Python/3.9.16/x64/lib/python3.9/site-packages/arxiv_on_deck_2/latex.py:118: LatexWarning: attempting recovering figure 0figs/Mcore_12m_vs_12m7m.pdf\n",
      "  warnings.warn(LatexWarning(f'attempting recovering figure {image}'))\n",
      "/tmp/ipykernel_2108/4030337529.py:34: LatexWarning: 2301.03144 did not run properly\n",
      "Could not find figure 0figs/Mcore_12m_vs_12m7m.pdf\n",
      "  warnings.warn(latex.LatexWarning(f\"{paper_id:s} did not run properly\\n\" +\n"
     ]
    },
    {
     "name": "stdout",
     "output_type": "stream",
     "text": [
      "Retrieving document from  https://arxiv.org/e-print/2301.03209\n"
     ]
    },
    {
     "name": "stdout",
     "output_type": "stream",
     "text": [
      "extracting tarball to tmp_2301.03209..."
     ]
    },
    {
     "name": "stdout",
     "output_type": "stream",
     "text": [
      " done.\n"
     ]
    },
    {
     "name": "stdout",
     "output_type": "stream",
     "text": [
      "Retrieving document from  https://arxiv.org/e-print/2301.03289\n"
     ]
    },
    {
     "name": "stdout",
     "output_type": "stream",
     "text": [
      "extracting tarball to tmp_2301.03289..."
     ]
    },
    {
     "name": "stdout",
     "output_type": "stream",
     "text": [
      " done.\n",
      "Retrieving document from  https://arxiv.org/e-print/2301.03298\n"
     ]
    },
    {
     "name": "stderr",
     "output_type": "stream",
     "text": [
      "/opt/hostedtoolcache/Python/3.9.16/x64/lib/python3.9/site-packages/IPython/core/interactiveshell.py:3442: LatexWarning: Multiple tex files.\n",
      "\n",
      "  exec(code_obj, self.user_global_ns, self.user_ns)\n",
      "/opt/hostedtoolcache/Python/3.9.16/x64/lib/python3.9/site-packages/IPython/core/interactiveshell.py:3442: LatexWarning: Found documentclass in tmp_2301.03289/main.tex\n",
      "\n",
      "  exec(code_obj, self.user_global_ns, self.user_ns)\n"
     ]
    },
    {
     "name": "stdout",
     "output_type": "stream",
     "text": [
      "extracting tarball to tmp_2301.03298..."
     ]
    },
    {
     "name": "stdout",
     "output_type": "stream",
     "text": [
      " done.\n",
      "Retrieving document from  https://arxiv.org/e-print/2301.03307\n"
     ]
    },
    {
     "name": "stdout",
     "output_type": "stream",
     "text": [
      "extracting tarball to tmp_2301.03307..."
     ]
    },
    {
     "name": "stdout",
     "output_type": "stream",
     "text": [
      " done.\n",
      "Retrieving document from  https://arxiv.org/e-print/2301.03348\n"
     ]
    },
    {
     "name": "stderr",
     "output_type": "stream",
     "text": [
      "/opt/hostedtoolcache/Python/3.9.16/x64/lib/python3.9/site-packages/IPython/core/interactiveshell.py:3442: LatexWarning: Multiple tex files.\n",
      "\n",
      "  exec(code_obj, self.user_global_ns, self.user_ns)\n",
      "/opt/hostedtoolcache/Python/3.9.16/x64/lib/python3.9/site-packages/IPython/core/interactiveshell.py:3442: LatexWarning: Found documentclass in tmp_2301.03307/supplementary.tex\n",
      "\n",
      "  exec(code_obj, self.user_global_ns, self.user_ns)\n"
     ]
    },
    {
     "name": "stdout",
     "output_type": "stream",
     "text": [
      "extracting tarball to tmp_2301.03348..."
     ]
    },
    {
     "name": "stdout",
     "output_type": "stream",
     "text": [
      " done.\n",
      "Retrieving document from  https://arxiv.org/e-print/2301.03387\n"
     ]
    },
    {
     "name": "stdout",
     "output_type": "stream",
     "text": [
      "extracting tarball to tmp_2301.03387..."
     ]
    },
    {
     "name": "stdout",
     "output_type": "stream",
     "text": [
      " done.\n"
     ]
    },
    {
     "name": "stdout",
     "output_type": "stream",
     "text": [
      "Retrieving document from  https://arxiv.org/e-print/2301.03466\n"
     ]
    },
    {
     "name": "stdout",
     "output_type": "stream",
     "text": [
      "extracting tarball to tmp_2301.03466..."
     ]
    },
    {
     "name": "stdout",
     "output_type": "stream",
     "text": [
      " done.\n",
      "Retrieving document from  https://arxiv.org/e-print/2301.03478\n"
     ]
    },
    {
     "name": "stdout",
     "output_type": "stream",
     "text": [
      "extracting tarball to tmp_2301.03478..."
     ]
    },
    {
     "name": "stdout",
     "output_type": "stream",
     "text": [
      " done.\n",
      "Retrieving document from  https://arxiv.org/e-print/2301.03502\n"
     ]
    },
    {
     "name": "stdout",
     "output_type": "stream",
     "text": [
      "extracting tarball to tmp_2301.03502..."
     ]
    },
    {
     "name": "stdout",
     "output_type": "stream",
     "text": [
      " done.\n",
      "Retrieving document from  https://arxiv.org/e-print/2301.03519\n"
     ]
    },
    {
     "name": "stdout",
     "output_type": "stream",
     "text": [
      "extracting tarball to tmp_2301.03519..."
     ]
    },
    {
     "name": "stdout",
     "output_type": "stream",
     "text": [
      " done.\n"
     ]
    }
   ],
   "source": [
    "documents = []\n",
    "failed = []\n",
    "for paper in tqdm(candidates[:-1]):\n",
    "    paper_id = paper['identifier'].lower().replace('arxiv:', '')\n",
    "    \n",
    "    folder = f'tmp_{paper_id}'\n",
    "\n",
    "    try:\n",
    "        if not os.path.isdir(folder):\n",
    "            folder = retrieve_document_source(f\"{paper_id}\", f'tmp_{paper_id}')\n",
    "        \n",
    "        try:\n",
    "            doc = latex.LatexDocument(folder, validation=validation)    \n",
    "        except AffiliationError as affilerror:\n",
    "            msg = f\"ArXiv:{paper_id:s} is not an MPIA paper... \" + str(affilerror)\n",
    "            failed.append((paper, \"affiliation error: \" + str(affilerror) ))\n",
    "            continue\n",
    "        \n",
    "        # Hack because sometimes author parsing does not work well\n",
    "        if (len(doc.authors) != len(paper['authors'])):\n",
    "            doc._authors = paper['authors']\n",
    "        if (doc.abstract) in (None, ''):\n",
    "            doc._abstract = paper['abstract']\n",
    "            \n",
    "        doc.comment = (get_markdown_badge(paper_id) + \n",
    "                       \"<mark>Appeared on: \" + paper['date'] + \"</mark> - \" +\n",
    "                       \"_\" + paper['comments'] + \"_\")\n",
    "        doc.highlight_authors_in_list(hl_list)\n",
    "\n",
    "        full_md = doc.generate_markdown_text()\n",
    "        \n",
    "        documents.append((paper_id, full_md))\n",
    "    except Exception as e:\n",
    "        warnings.warn(latex.LatexWarning(f\"{paper_id:s} did not run properly\\n\" +\n",
    "                                         str(e)\n",
    "                                        ))\n",
    "        failed.append((paper, \"latex error \" + str(e)))"
   ]
  },
  {
   "cell_type": "markdown",
   "id": "2505a25c",
   "metadata": {
    "papermill": {
     "duration": 0.009196,
     "end_time": "2023-01-10T04:14:57.021318",
     "exception": false,
     "start_time": "2023-01-10T04:14:57.012122",
     "status": "completed"
    },
    "tags": []
   },
   "source": [
    "### Export the logs\n",
    "\n",
    "Throughout, we also keep track of the logs per paper. see `logs-{today date}.md` "
   ]
  },
  {
   "cell_type": "code",
   "execution_count": 6,
   "id": "d733828a",
   "metadata": {
    "execution": {
     "iopub.execute_input": "2023-01-10T04:14:57.043202Z",
     "iopub.status.busy": "2023-01-10T04:14:57.042239Z",
     "iopub.status.idle": "2023-01-10T04:14:57.155662Z",
     "shell.execute_reply": "2023-01-10T04:14:57.154871Z"
    },
    "papermill": {
     "duration": 0.127434,
     "end_time": "2023-01-10T04:14:57.157790",
     "exception": false,
     "start_time": "2023-01-10T04:14:57.030356",
     "status": "completed"
    },
    "scrolled": false,
    "tags": []
   },
   "outputs": [
    {
     "data": {
      "text/markdown": [
       "## Successful papers"
      ],
      "text/plain": [
       "<IPython.core.display.Markdown object>"
      ]
     },
     "metadata": {},
     "output_type": "display_data"
    },
    {
     "data": {
      "text/markdown": [
       "\n",
       "|||\n",
       "|---:|:---|\n",
       "| [![arXiv](https://img.shields.io/badge/arXiv-arXiv:2301.02671-b31b1b.svg)](https://arxiv.org/abs/arXiv:2301.02671) | **The UNCOVER Survey: A first-look HST+JWST catalog of 50,000 galaxies  near Abell 2744 and beyond**  |\n",
       "|| John R. Weaver, et al. -- incl., <mark>Natascha Forster Schreiber</mark>, <mark>Anna de Graaff</mark>, <mark>Jenny E. Greene</mark> |\n",
       "|*Appeared on*| *2023-01-10*|\n",
       "|*Comments*| *27 pages, 19 figures, submitted to ApJS. Comments welcome!*|\n",
       "|**Abstract**| In November 2022, the James Webb Space Telescope (JWST) returned deep near-infrared images of Abell~2744 -- a powerful lensing cluster capable of magnifying distant, incipient galaxies beyond it. Together with the existing Hubble Space Telescope (HST) imaging, this publicly available dataset opens a fundamentally new discovery space to understand the remaining mysteries of the formation and evolution of galaxies across cosmic time. In this work, we detect and measure some 50,000 objects across the 45 arcmin$^2$ JWST footprint down to a $5\\,\\sigma$ limiting magnitude of $\\sim$29.9\\,mag in 0.32\" apertures. Photometry is performed using circular apertures on images matched to the point spread function of the reddest NIRCam band, F444W, and cleaned of bright cluster galaxies and the related intra-cluster light. To give an impression of the photometric performance, we measure photometric redshifts and achieve a $\\sigma_{\\rm NMAD}\\approx0.03$ based on known, but relatively small, spectroscopic samples. With this paper, we publicly release HST and JWST PSF-matched photometric catalogs optimized for bright and extended sources (0.7\" apertures) and compact and faint sources (0.32\" apertures) along with basic photometric redshifts, rest-frame colors, and individual magnification estimates. These catalogs will set the stage for efficient and deep spectroscopic follow-up of the first JWST-selected samples in Summer 2023. |"
      ],
      "text/plain": [
       "[arXiv:2301.02671] The UNCOVER Survey: A first-look HST+JWST catalog of 50,000 galaxies  near Abell 2744 and beyond\n",
       "\tJohn R. Weaver, et al. -- incl., <mark>Natascha Forster Schreiber</mark>, <mark>Anna de Graaff</mark>, <mark>Jenny E. Greene</mark>"
      ]
     },
     "metadata": {},
     "output_type": "display_data"
    },
    {
     "data": {
      "text/markdown": [
       "\n",
       "|||\n",
       "|---:|:---|\n",
       "| [![arXiv](https://img.shields.io/badge/arXiv-arXiv:2301.03209-b31b1b.svg)](https://arxiv.org/abs/arXiv:2301.03209) | **A JWST NIRSpec phase curve for WASP-121b: dayside emission strongest  eastward of the substellar point and nightside conditions conducive to cloud  formation**  |\n",
       "|| <mark>Thomas Mikal-Evans</mark>, et al. -- incl., <mark>Jayesh M. Goyal</mark>, <mark>Nikole K. Lewis</mark>, <mark>Duncan A. Christie</mark> |\n",
       "|*Appeared on*| *2023-01-10*|\n",
       "|*Comments*| *Accepted for publication in Astrophysical Journal Letters on December 29, 2022*|\n",
       "|**Abstract**| We present the first exoplanet phase curve measurement made with the JWST NIRSpec instrument, highlighting the exceptional stability of this newly-commissioned observatory for exoplanet climate studies. The target, WASP-121b, is an ultrahot Jupiter with an orbital period of 30.6 hr. We analyze two broadband light curves generated for the NRS1 and NRS2 detectors, covering wavelength ranges of 2.70-3.72 micron and 3.82-5.15 micron, respectively. Both light curves exhibit minimal systematics, with approximately linear drifts in the baseline flux level of 30 ppm/hr (NRS1) and 10 ppm/hr (NRS2). Assuming a simple brightness map for the planet described by a low-order spherical harmonic dipole, our light curve fits suggest that the phase curve peaks coincide with orbital phases $3.36 \\pm 0.11$ deg (NRS1) and $2.66 \\pm 0.12$ deg (NRS2) prior to mid-eclipse. This is consistent with the strongest dayside emission emanating from eastward of the substellar point. We measure planet-to-star emission ratios of $3,924 \\pm 7$ ppm (NRS1) and $4,924 \\pm 9$ ppm (NRS2) for the dayside hemisphere, and $136 \\pm 8$ ppm (NRS1) and $630 \\pm 10$ ppm (NRS2) for the nightside hemisphere. The latter nightside emission ratios translate to planetary brightness temperatures of $926 \\pm 12$ K (NRS1) and $1,122 \\pm 10$ K (NRS2), which are low enough for a wide range of refractory condensates to form, including enstatite and forsterite. A nightside cloud deck may be blocking emission from deeper, hotter layers of the atmosphere, potentially helping to explain why cloud-free 3D general circulation model simulations systematically over-predict the nightside emission for WASP-121b. |"
      ],
      "text/plain": [
       "[arXiv:2301.03209] A JWST NIRSpec phase curve for WASP-121b: dayside emission strongest  eastward of the substellar point and nightside conditions conducive to cloud  formation\n",
       "\t<mark>Thomas Mikal-Evans</mark>, et al. -- incl., <mark>Jayesh M. Goyal</mark>, <mark>Nikole K. Lewis</mark>, <mark>Duncan A. Christie</mark>"
      ]
     },
     "metadata": {},
     "output_type": "display_data"
    },
    {
     "data": {
      "text/markdown": [
       "\n",
       "|||\n",
       "|---:|:---|\n",
       "| [![arXiv](https://img.shields.io/badge/arXiv-arXiv:2301.03387-b31b1b.svg)](https://arxiv.org/abs/arXiv:2301.03387) | **An APEX study of molecular outflows in FUor-type stars**  |\n",
       "|| Fernando Cruz-Sáenz de Miera, et al. -- incl., <mark>Thomas Henning</mark> |\n",
       "|*Appeared on*| *2023-01-10*|\n",
       "|*Comments*| *Accepted for publication in ApJ. 29 pages, 8 tables, 10 figures, 2 figuresets*|\n",
       "|**Abstract**| FU Orionis-type objects (FUors) are low-mass pre-main-sequence objects which go through a short-lived phase (~100 years) of increased mass accretion rate (from 10^-8 to 10^-4 M_sun yr^-1). These eruptive young stars are in the early stages of stellar evolution and, thus, still deeply embedded in a massive envelope that feeds material to the circumstellar disk that is then accreted onto the star. Some FUors drive molecular outflows, i.e. low-velocity wide-angle magneto-hydrodynamical winds, that inject energy and momentum back to the surrounding envelopes, and help clear the material surrounding the young star. Here we present a 12CO (3--2), 13CO (3--2) and 12CO (4--3) survey of 20 FUor-type eruptive young stars observed with APEX. We use our 13CO (3--2) observations to measure the masses of the envelopes surrounding each FUor and find an agreement with the FUor evolutionary trend found from the 10um silicate feature. We find outflows in 11 FUors, calculate their masses and other kinematic properties, and compare these with those of outflows found around quiescent young stellar objects gathered from the literature. This comparison indicates that outflows in FUors are more massive than outflows in quiescent sources, and that FUor outflows have a higher ratio outflow mass with respect to the envelope than the quiescent sample, indicating that the eruptive young stars have lower star-forming efficiencies. Finally, we found that the outflow forces in FUors are similar to those of quiescent young stellar objects, indicating that their accretion histories are similar or that the FUor outflows have lower velocities. |"
      ],
      "text/plain": [
       "[arXiv:2301.03387] An APEX study of molecular outflows in FUor-type stars\n",
       "\tFernando Cruz-Sáenz de Miera, et al. -- incl., <mark>Thomas Henning</mark>"
      ]
     },
     "metadata": {},
     "output_type": "display_data"
    },
    {
     "data": {
      "text/markdown": [
       "## Failed papers"
      ],
      "text/plain": [
       "<IPython.core.display.Markdown object>"
      ]
     },
     "metadata": {},
     "output_type": "display_data"
    },
    {
     "data": {
      "text/markdown": [
       "\n",
       "|||\n",
       "|---:|:---|\n",
       "| [![arXiv](https://img.shields.io/badge/arXiv-arXiv:2301.02675-b31b1b.svg)](https://arxiv.org/abs/arXiv:2301.02675) | **Testing AGN outflow and accretion models with CIV and HeII emission line  demographics in z=2 quasars**  |\n",
       "|| Matthew J. Temple, et al. -- incl., <mark>James H. Matthews</mark>, <mark>Paul C. Hewett</mark> |\n",
       "|*Appeared on*| *2023-01-10*|\n",
       "|*Comments*| *6 figures, 13 pages, plus references and appendices. Submitted to MNRAS, comments welcome*|\n",
       "|**Abstract**| Using 190,000 spectra from the seventeenth data release of the Sloan Digital Sky Survey, we investigate the ultraviolet emission line properties in z=2 quasars. Specifically, we quantify how the shape of CIV 1549A and the equivalent width (EW) of HeII 1640A depend on the black hole mass and Eddington ratio inferred from MgII 2800A. Above L/L_Edd>0.2, there is a strong mass dependence in both CIV blueshift and HeII EW. Large CIV blueshifts are observed only in regions with both high mass and high accretion rate. Including X-ray measurements for a subsample of 5,300 objects, we interpret our observations in the context of AGN accretion and outflow mechanisms. The observed trends in HeII and 2 keV strength are broadly consistent with theoretical QSOSED models of AGN spectral energy distributions (SEDs) for low spin black holes, where the ionizing SED depends on the accretion disc temperature and the strength of the soft excess. High spin models are not consistent with observations, suggesting SDSS quasars at z=2 may in general have low spins. We find a dramatic switch in behaviour at L/L_Edd<0.2: the ultraviolet emission properties show much weaker trends, and no longer agree with QSOSED predictions, hinting at changes in the structure of the broad line region. Overall the observed emission line trends are generally consistent with predictions for radiation line driving where quasar outflows are governed by the SED, which itself results from the accretion flow and hence depends on both the SMBH mass and accretion rate. |\n",
       "|<p style=\"color:green\"> **ERROR** </p>| <p style=\"color:green\">affiliation error: mpia.affiliation_verifications: '69117' keyword not found.</p> |"
      ],
      "text/plain": [
       "<IPython.core.display.Markdown object>"
      ]
     },
     "metadata": {},
     "output_type": "display_data"
    },
    {
     "data": {
      "text/markdown": [
       "\n",
       "|||\n",
       "|---:|:---|\n",
       "| [![arXiv](https://img.shields.io/badge/arXiv-arXiv:2301.02719-b31b1b.svg)](https://arxiv.org/abs/arXiv:2301.02719) | **SDSS DR17: The Cosmic Slime Value Added Catalog**  |\n",
       "|| Matthew C. Wilde, et al. -- incl., <mark>Joseph N. Burchett</mark> |\n",
       "|*Appeared on*| *2023-01-10*|\n",
       "|*Comments*| *Submitted to ApJS, 15 pages, 9 figures*|\n",
       "|**Abstract**| The \"cosmic web\", the filamentary large-scale structure in a cold dark matter Universe, is readily apparent via galaxy tracers in spectroscopic surveys. However, the underlying dark matter structure is as of yet unobservable and mapping the diffuse gas permeating it lies beyond practical observational capabilities. A recently developed technique, inspired by the growth and movement of Physarum polycephalum \"slime mold\", has been used to map the cosmic web of a low redshift sub-sample of the SDSS spectroscopic galaxy catalog. This model, the Monte Carlo Physarum Machine (MCPM) was shown to promisingly reconstruct the cosmic web. Here, we improve the formalism used in calibrating the MCPM to better recreate the Bolshoi-Planck cosmological simulation's density distributions and apply them to a significantly larger cosmological volume than previous works using the Sloan Digital Sky Survey (SDSS, $z < 0.1$) and the Extended Baryon Oscillation Spectroscopic Survey (eBOSS) Luminous Red Galaxy (LRG, $z \\lesssim 0.5$) spectroscopic catalogs. We present the \"Cosmic Slime Value Added Catalog\" which provides estimates for the cosmic overdensity for the sample of galaxies probed spectroscopically by the above SDSS surveys. In addition, we provide the fully reconstructed 3D density cubes of these volumes. These data products were released as part of Sloan Digital Sky Survey Data Release 17 and are publicly available. We present the input catalogs and the methodology for constructing these data products. We also highlight exciting potential applications to galaxy evolution, cosmology, the intergalactic and circumgalactic medium, and transient phenomenon localization. |\n",
       "|<p style=\"color:green\"> **ERROR** </p>| <p style=\"color:green\">affiliation error: mpia.affiliation_verifications: '69117' keyword not found.</p> |"
      ],
      "text/plain": [
       "<IPython.core.display.Markdown object>"
      ]
     },
     "metadata": {},
     "output_type": "display_data"
    },
    {
     "data": {
      "text/markdown": [
       "\n",
       "|||\n",
       "|---:|:---|\n",
       "| [![arXiv](https://img.shields.io/badge/arXiv-arXiv:2301.02678-b31b1b.svg)](https://arxiv.org/abs/arXiv:2301.02678) | **The pristine nature of SMSS 1605$-$1443 revealed by ESPRESSO**  |\n",
       "|| D. S. Aguado, et al. -- incl., <mark>J. I. González Hernández</mark> |\n",
       "|*Appeared on*| *2023-01-10*|\n",
       "|*Comments*| *Published in A&A, 9 pages, 6 figures*|\n",
       "|**Abstract**| SMSS J160540.18$-$144323.1 is the carbon-enhanced metal-poor (CEMP) star with the lowest iron abundance ever measured, [Fe/H]=-6.2, which was first reported with the SkyMapper telescope. The carbon abundance is A(C)~6.1 in the low-C band, as the majority of the stars in this metallicity range. Yet, constraining the isotopic ratio of key species, such as carbon, sheds light on the properties and origin of these elusive stars. We performed high-resolution observations of SMSS1605$-$1443 with the ESPRESSO spectrograph to look for variations in the radial velocity ($v_{rad}$) with time. These data have been combined with older MIKE and UVES archival observations to enlarge the temporal baseline. The $^{12}$C/$^{13}$C isotopic ratio is also studied to explore the possibility of mass transfer from a binary companion. A cross-correlation function against a natural template was applied to detect $v_{rad}$ variability and a spectral synthesis technique was used to derive $^{12}$C/$^{13}$C in the stellar atmosphere. We confirm previous indications of binarity in SMSS1605$-$1443 and measured a lower limit $^{12}$C/$^{13}$C$>60$ at more than a 3$\\sigma$ confidence level, proving that this system is chemically unmixed and that no mass transfer from the unseen companion has happened so far. Thus, we confirm the CEMP-no nature of SMSS1605$-$1443 and show that the pristine chemical composition of the cloud from which it formed is currently imprinted in its stellar atmosphere free of contamination. |\n",
       "|<p style=\"color:green\"> **ERROR** </p>| <p style=\"color:green\">affiliation error: mpia.affiliation_verifications: 'Heidelberg' keyword not found.</p> |"
      ],
      "text/plain": [
       "<IPython.core.display.Markdown object>"
      ]
     },
     "metadata": {},
     "output_type": "display_data"
    },
    {
     "data": {
      "text/markdown": [
       "\n",
       "|||\n",
       "|---:|:---|\n",
       "| [![arXiv](https://img.shields.io/badge/arXiv-arXiv:2301.02682-b31b1b.svg)](https://arxiv.org/abs/arXiv:2301.02682) | **How, where and when do cosmic rays reach ultrahigh energies?**  |\n",
       "|| <mark>James H. Matthews</mark>, Andrew M. Taylor |\n",
       "|*Appeared on*| *2023-01-10*|\n",
       "|*Comments*| *Review contribution submitted to proceedings of science as part of the proceedings of the 27th European Cosmic Ray Symposium held 25-29 July 2022. 25 pages, 5 figures, 1 table. Comments welcome*|\n",
       "|**Abstract**| Understanding the origins of ultrahigh energy cosmic rays (UHECRs) - which reach energies in excess of $10^{20}~{\\rm eV}$ - stretches particle acceleration physics to its very limits. In this review, we discuss how such energies can be reached, using general arguments that can often be derived on the back of an envelope. We explore possible particle acceleration mechanisms, with special attention paid to shock acceleration. Informed by the arguments derived, we discuss where UHECRs might come from and which classes of powerful astrophysical objects could be UHECR sources; generally, we favour radio galaxies, GRB afterglows and other sources which are not too compact and dissipate prodigious amounts of energy on large scales, allowing them to generate large products $\\beta B R$ without the CRs undergoing restrictive losses. Finally, we discuss when UHECRs are accelerated by highlighting the importance of source variability, and explore the intriguing possibility that the UHECR arrival directions are partly a result of \"echoes\" from magnetic structures in the local Universe. |\n",
       "|<p style=\"color:green\"> **ERROR** </p>| <p style=\"color:green\">affiliation error: mpia.affiliation_verifications: 'Heidelberg' keyword not found.</p> |"
      ],
      "text/plain": [
       "<IPython.core.display.Markdown object>"
      ]
     },
     "metadata": {},
     "output_type": "display_data"
    },
    {
     "data": {
      "text/markdown": [
       "\n",
       "|||\n",
       "|---:|:---|\n",
       "| [![arXiv](https://img.shields.io/badge/arXiv-arXiv:2301.02713-b31b1b.svg)](https://arxiv.org/abs/arXiv:2301.02713) | **The Haystack Telescope as an Astronomical Instrument**  |\n",
       "|| Jens Kauffmann, et al. -- incl., <mark>Lynn D. Matthews</mark> |\n",
       "|*Appeared on*| *2023-01-10*|\n",
       "|*Comments*| *accepted to the ngEHT Special Issue of \"Galaxies\"*|\n",
       "|**Abstract**| The Haystack Telescope is an antenna with a diameter of 37~m and an elevation-dependent surface accuracy of $\\le{}100~\\mu{}\\rm{}m$ that is capable of millimeter-wave observations. The radome-enclosed instrument serves as a radar sensor for space situational awareness, with about one-third of the time available for research by MIT Haystack Observatory. Ongoing testing with the K-band (18-26~GHz) and W-band receivers (currently 85-93~GHz) is preparing the inclusion of the telescope into the Event Horizon Telescope (EHT) array and the use as a single-dish research telescope. Given its geographic location, the addition of the Haystack Telescope to current and future versions of the EHT array would substantially improve the image quality. |\n",
       "|<p style=\"color:green\"> **ERROR** </p>| <p style=\"color:green\">affiliation error: mpia.affiliation_verifications: 'Heidelberg' keyword not found.</p> |"
      ],
      "text/plain": [
       "<IPython.core.display.Markdown object>"
      ]
     },
     "metadata": {},
     "output_type": "display_data"
    },
    {
     "data": {
      "text/markdown": [
       "\n",
       "|||\n",
       "|---:|:---|\n",
       "| [![arXiv](https://img.shields.io/badge/arXiv-arXiv:2301.02718-b31b1b.svg)](https://arxiv.org/abs/arXiv:2301.02718) | **CGM$^2$ $+$ CASBaH: The Mass Dependence of H~I Ly$α$-Galaxy  Clustering and the Extent of the CGM**  |\n",
       "|| Matthew C. Wilde, et al. -- incl., <mark>Joseph N. Burchett</mark> |\n",
       "|*Appeared on*| *2023-01-10*|\n",
       "|*Comments*| *Submitted to ApJ, 17 pages, 8 figures*|\n",
       "|**Abstract**| We combine datasets from the CGM$^{2}$ and CASBaH surveys to model a transition point, $R_{\\rm cross}$, between circumgalactic and intergalactic media (CGM and IGM, respectively). In total, our data consist of 7244 galaxies at z < 0.5 with precisely measured spectroscopic redshifts, all having impact parameters of 0.01 - 20 comoving Mpc from 28 QSO sightlines with high-resolution UV spectra that cover H I Ly$\\alpha$. Our best-fitting model is an exclusionary two-component model that combines a 3D absorber-galaxy cross correlation function with a simple Gaussian profile at inner radii to represent the CGM. By design, this model gives rise to a determination of $R_{\\rm cross}$ as a function of galaxy stellar mass, which can be interpreted as the boundary between the CGM and IGM. For galaxies with $10^8 \\leq M_{\\star}/M_{\\odot} \\leq 10^{10.5}$, we find that $R_{\\rm cross}(M_{\\star}) \\approx 2 \\pm 0.6 R_{\\rm vir}$. Additionally, we find excellent agreement between $R_{\\rm cross}(M_{\\star})$ and the theoretically-determined splashback radius for galaxies in this mass range. Overall, our results favor models of galaxy evolution at z < 0.5 that distribute $T \\approx 10^{4}$K gas to distances beyond the virial radius. |\n",
       "|<p style=\"color:green\"> **ERROR** </p>| <p style=\"color:green\">affiliation error: mpia.affiliation_verifications: 'Heidelberg' keyword not found.</p> |"
      ],
      "text/plain": [
       "<IPython.core.display.Markdown object>"
      ]
     },
     "metadata": {},
     "output_type": "display_data"
    },
    {
     "data": {
      "text/markdown": [
       "\n",
       "|||\n",
       "|---:|:---|\n",
       "| [![arXiv](https://img.shields.io/badge/arXiv-arXiv:2301.02755-b31b1b.svg)](https://arxiv.org/abs/arXiv:2301.02755) | **Brighter and More Massive Galaxies in the Vicinity of Lyman-alpha  Nebulae**  |\n",
       "|| <mark>Natalie K. Wells</mark>, Moire K. M. Prescott, Kristian M. Finlator |\n",
       "|*Appeared on*| *2023-01-10*|\n",
       "|*Comments*| *15 pages, 12 figures*|\n",
       "|**Abstract**| It has been well established in the local universe that galaxy properties differ based on the large-scale environment in which they reside. As luminous Lyman-alpha nebulae have been shown to trace overdense environments at z~2-3, comparing the properties of galaxies within Lyman-alpha nebulae systems to those in the field can provide insight into how and when locally-observed trends between galaxy properties and environment emerged. Six Lyman-alpha nebulae were discovered at z~2.3 in a blind search of the GOODS-S extragalactic field, a region also covered by the 3D-HST spectroscopic survey. Utilizing 3D-HST data, we identified 86 galaxies in the vicinity of these nebulae and used statistical tests to compare their physical properties to galaxies elsewhere in the field. Galaxies lying within 320 proper kpc of a Lyman-alpha nebula are roughly half a magnitude brighter than those in the field, with higher stellar masses, higher star formation rates, and larger effective radii. Even when considering the effects of sample incompleteness, our study suggests that galaxies in overdensities at z~2.3 traced by Lyman-alpha nebulae are being influenced by their environment. Furthermore, Lyman-alpha nebula-associated galaxies lie on the same main sequence of star formation as field galaxies, but have a larger proportion of high-mass galaxies, consistent with the idea that galaxy evolution is accelerated in rich environments. Expanded surveys for Lyman-alpha nebulae in other deep extragalactic fields and galaxy spectroscopic follow-up with JWST will better constrain the demographics of Lyman-alpha nebula-associated galaxies. |\n",
       "|<p style=\"color:green\"> **ERROR** </p>| <p style=\"color:green\">affiliation error: mpia.affiliation_verifications: 'Heidelberg' keyword not found.</p> |"
      ],
      "text/plain": [
       "<IPython.core.display.Markdown object>"
      ]
     },
     "metadata": {},
     "output_type": "display_data"
    },
    {
     "data": {
      "text/markdown": [
       "\n",
       "|||\n",
       "|---:|:---|\n",
       "| [![arXiv](https://img.shields.io/badge/arXiv-arXiv:2301.02775-b31b1b.svg)](https://arxiv.org/abs/arXiv:2301.02775) | **The messy death of a multiple star system and the resulting planetary  nebula as observed by JWST**  |\n",
       "|| Orsola De Marco, et al. -- incl., <mark>Henri M. J. Boffin</mark>, <mark>Adam Frank</mark>, <mark>D. A. Garcia-Hernandez</mark>, <mark>Hektor Monteiro</mark> |\n",
       "|*Appeared on*| *2023-01-10*|\n",
       "|*Comments*| *32 pages, 5 figures for the main article. 12 pages 8 figures for the supplementary material*|\n",
       "|**Abstract**| Planetary nebulae (PNe), the ejected envelopes of red giant stars, provide us with a history of the last, mass-losing phases of 90 percent of stars initially more massive than the Sun. Here, we analyse James Webb Space Telescope (JWST) Early Release Observation (ERO) images of the PN NGC3132. A structured, extended H2 halo surrounding an ionised central bubble is imprinted with spiral structures, likely shaped by a low-mass companion orbiting the central star at 40-60 AU. The images also reveal a mid-IR excess at the central star interpreted as a dusty disk, indicative of an interaction with another, closer companion. Including the previously known, A-type visual companion, the progenitor of the NGC3132 PN must have been at least a stellar quartet. The JWST images allow us to generate a model of the illumination, ionisation and hydrodynamics of the molecular halo, demonstrating the power of JWST to investigate complex stellar outflows. Further, new measurements of the A-type visual companion allow us to derive the value for the mass of the progenitor of a central star to date with excellent precision: 2.86+/-0.06 Mo. These results serve as path finders for future JWST observations of PNe providing unique insight into fundamental astrophysical processes including colliding winds, and binary star interactions, with implications for supernovae and gravitational wave systems. |\n",
       "|<p style=\"color:green\"> **ERROR** </p>| <p style=\"color:green\">affiliation error: mpia.affiliation_verifications: 'Heidelberg' keyword not found.</p> |"
      ],
      "text/plain": [
       "<IPython.core.display.Markdown object>"
      ]
     },
     "metadata": {},
     "output_type": "display_data"
    },
    {
     "data": {
      "text/markdown": [
       "\n",
       "|||\n",
       "|---:|:---|\n",
       "| [![arXiv](https://img.shields.io/badge/arXiv-arXiv:2301.02779-b31b1b.svg)](https://arxiv.org/abs/arXiv:2301.02779) | **Choked accretion onto Kerr-Sen black holes in  Einstein-Maxwell-Dilation-Axion gravity**  |\n",
       "|| Haiyuan Feng, et al. -- incl., <mark>Gui-Rong Liang</mark> |\n",
       "|*Appeared on*| *2023-01-10*|\n",
       "|*Comments*| *19 pages,10 figures*|\n",
       "|**Abstract**| We study the choked accretion process of an ultrarelativistic fluid onto axisymmetric Kerr-Sen black holes in Einstein-Maxwell-dilation-axion theory. Based on solving procedure mentioned by Petrich, Shapiro,and Teukolsky, we further calculate the solution describing the velocity potential {\\Phi} of a stationary, irrotational fluid, which satisfies the stiff equation of state. Then, by using the ZAMO framework, we draw the streamlined diagram of the quadrupolar flow solution and investigate how parameters affect the solution's coefficient and stagnation point. The injection rate, ejection rate, and critical angle are discussed in detail at the end of the article. |\n",
       "|<p style=\"color:green\"> **ERROR** </p>| <p style=\"color:green\">affiliation error: mpia.affiliation_verifications: 'Heidelberg' keyword not found.</p> |"
      ],
      "text/plain": [
       "<IPython.core.display.Markdown object>"
      ]
     },
     "metadata": {},
     "output_type": "display_data"
    },
    {
     "data": {
      "text/markdown": [
       "\n",
       "|||\n",
       "|---:|:---|\n",
       "| [![arXiv](https://img.shields.io/badge/arXiv-arXiv:2301.02815-b31b1b.svg)](https://arxiv.org/abs/arXiv:2301.02815) | **Changes in the distribution of circum-binary material around the HMXB GX  301-2 during a rapid spin-up episode of the neutron star**  |\n",
       "|| <mark>Hemanth Manikantan</mark>, Biswajit Paul, Kinjal Roy, Vikram Rana |\n",
       "|*Appeared on*| *2023-01-10*|\n",
       "|*Comments*| *6 pages, 5 figures, Accepted for publication in Monthly Notices of the Royal Astronomical Society*|\n",
       "|**Abstract**| Some accretion powered X-ray pulsars with supergiant companion stars undergo occasional rapid spin-up episodes that last for weeks to a few months. We explore the changes in the accretion environment of the pulsar GX 301-2 during its latest 80 days long spin-up episode in 2019 when the spin frequency of the pulsar increased by ~2% over two orbits of the binary. By performing time-resolved spectroscopy with the MAXI/GSC spectra of the source, we estimated the equivalent hydrogen column density and equivalent width of the iron fluorescence line during the spin-up episode, and compared them with the long-term average values estimated by orbital-phase resolved spectroscopy. The measured absorption column density during the spin-up episode is about twice that of an average orbit, while the equivalent width of the iron line is less than half of an average orbit. Though the spin-up episode started immediately after a pre-periastron flare and lasted for the two consecutive orbits of the binary, the associated enhancement in luminosity started a few days after the pre-periastron flare and lasted only during the first orbit, and some enhancement was seen again during the pre-periastron passage of the second orbit. The absorption column density and iron line equivalent width vary throughout the spin-up episode and are distinct from an average orbit. These observations indicate a significant change in the accretion and reprocessing environment in GX 301-2 during the spin-up episode and may hold important clues for the phenomenon in this source and several other sources with supergiant companions. |\n",
       "|<p style=\"color:green\"> **ERROR** </p>| <p style=\"color:green\">affiliation error: mpia.affiliation_verifications: 'Heidelberg' keyword not found.</p> |"
      ],
      "text/plain": [
       "<IPython.core.display.Markdown object>"
      ]
     },
     "metadata": {},
     "output_type": "display_data"
    },
    {
     "data": {
      "text/markdown": [
       "\n",
       "|||\n",
       "|---:|:---|\n",
       "| [![arXiv](https://img.shields.io/badge/arXiv-arXiv:2301.02816-b31b1b.svg)](https://arxiv.org/abs/arXiv:2301.02816) | **Closing in on the sources of cosmic reionization: first results from the  GLASS-JWST program**  |\n",
       "|| S. Mascia, et al. -- incl., <mark>A. Henry</mark> |\n",
       "|*Appeared on*| *2023-01-10*|\n",
       "|*Comments*| *submitted to A&A, 11 pages, 8 figures*|\n",
       "|**Abstract**| The escape fraction of Lyman continuum (LyC) photons ($f_{esc}$) is a key parameter for determining the sources of cosmic reionization at $z\\geq 6$. At these redshifts, owing to the opacity of the intergalactic medium, LyC emission cannot be measured directly. However LyC leakers during the epoch of reionization could be identified using indirect indicators, that have been extensively tested at low and intermediate redshift. These include a high [OIII]/[OII] flux ratio, a high star formation surface density and a compact size. In this work we present observations of 29 $4.5 \\leq z \\leq 8$ gravitationally lensed galaxies in the Abell 2744 cluster field. From a combined analysis of JWST-NIRSpec and NIRCam data we accurately derive their physical and spectroscopic properties: our galaxies have low masses $(\\log(M_\\star)\\sim 8.5)$, blue UV spectral slopes ($\\beta \\sim -2.1$), compact sizes ($r_e \\sim 0.3-0.5$ kpc), and high [OIII]/[OII] flux ratios. Such properties are similar to those of low-redshift LyC leakers. Indirectly inferring the fraction of escaping ionizing photons, we find that more than 80\\% of our galaxies have predicted $f_{esc}$ larger than 0.05, i.e. they would be considered leakers. The average predicted $f_{esc}$ of our sample is 0.12, suggesting that similar galaxies at $z\\geq 6$ provided a substantial contribution to cosmic reionization. |\n",
       "|<p style=\"color:green\"> **ERROR** </p>| <p style=\"color:green\">affiliation error: mpia.affiliation_verifications: 'Heidelberg' keyword not found.</p> |"
      ],
      "text/plain": [
       "<IPython.core.display.Markdown object>"
      ]
     },
     "metadata": {},
     "output_type": "display_data"
    },
    {
     "data": {
      "text/markdown": [
       "\n",
       "|||\n",
       "|---:|:---|\n",
       "| [![arXiv](https://img.shields.io/badge/arXiv-arXiv:2301.02821-b31b1b.svg)](https://arxiv.org/abs/arXiv:2301.02821) | **Confusion noise from Galactic binaries for Taiji**  |\n",
       "|| <mark>Chang Liu</mark>, Wen-Hong Ruan, <mark>Zong-Kuan Guo</mark> |\n",
       "|*Appeared on*| *2023-01-10*|\n",
       "|*Comments*| *7 pages, 4 figures*|\n",
       "|**Abstract**| Gravitational waves (GWs) from tens of millions of compact binaries in our Milky Way enter the milli-Hertz band of space-based detection. The majority of them cannot be resolved individually, resulting in a foreground confusion noise for Laser Interferometer Space Antenna (LISA). The concept of Taiji mission is similar to LISA's with slightly better sensitivity, which means that the galactic GW signals will also affect the detection with Taiji. Here we generate the GW signals from 29.8 million galactic binaries for Taiji and subtract the `resolvable' sources. The confusion noise is estimated and fitted in an analytic form with 6-month, 1-year, 2-year and 4-year observation time. We find that the full sensitivity curve is slightly lower for Taiji than for LISA at frequencies of $\\leq 0.8$ mHz and around 2~mHz. For a 4-year lifetime, more than 29 thousand sources are resolvable with Taiji. Compared to LISA, Taiji can subtract $\\sim 20 \\%$ more sources and the distribution of them in our Milky Way is consistent with that of the resolvable sources with LISA. |\n",
       "|<p style=\"color:green\"> **ERROR** </p>| <p style=\"color:green\">affiliation error: mpia.affiliation_verifications: 'Heidelberg' keyword not found.</p> |"
      ],
      "text/plain": [
       "<IPython.core.display.Markdown object>"
      ]
     },
     "metadata": {},
     "output_type": "display_data"
    },
    {
     "data": {
      "text/markdown": [
       "\n",
       "|||\n",
       "|---:|:---|\n",
       "| [![arXiv](https://img.shields.io/badge/arXiv-arXiv:2301.02822-b31b1b.svg)](https://arxiv.org/abs/arXiv:2301.02822) | **Massive molecular gas companions uncovered by VLA CO(1-0) observations  of the $z$ = 5.2 radio galaxy TN J0924$-$2201**  |\n",
       "|| <mark>Kianhong Lee</mark>, et al. |\n",
       "|*Appeared on*| *2023-01-10*|\n",
       "|*Comments*| *14 pages, 9 figures. Accepted for publication in ApJ*|\n",
       "|**Abstract**| We present Karl G. Jansky Very Large Array (VLA) K-band (19 GHz) observations of the redshifted CO(1-0) line emission toward the radio galaxy TN J0924$-$2201 at $z=5.2$, which is one of the most distant CO-detected radio galaxies. With the angular resolution of $\\sim2''$, the CO(1-0) line emission is resolved into three clumps, within $\\pm500$ km\\,s$^{-1}$ relative to its redshift, where is determined by Ly$\\alpha$. We find that they locate off-center and 12-33 kpc away from the center of the host galaxy, which has counterparts in $HST$ $i$-band, $Spitzer$/IRAC and ALMA Band-6 (230 GHz; 1.3 mm). With the ALMA detection, we estimate $L_{\\rm IR}$ and SFR of the host galaxy to be $(9.3\\pm1.7)\\times10^{11} L_{\\odot}$ and $110\\pm20$ $M_{\\odot}\\,\\rm yr^{-1}$, respectively. We also derive the $3\\sigma$ upper limit of $M_{\\rm H_{2}}<1.3\\times10^{10}$ $M_{\\odot}$ at the host galaxy. The detected CO(1-0) line luminosities of three clumps, $L'_{\\rm CO(1-0)}$ = (3.2-4.7)$\\times10^{10}$ $\\rm\\,K\\,km\\,s^{-1}pc^{2}$, indicate the presence of three massive molecular gas reservoirs with $M_{\\rm H_{2}}$ = (2.5-3.7)$\\times10^{10}$ $M_{\\odot}$, by assuming the CO-to-H$_{2}$ conversion factor $\\alpha_{\\rm CO} = 0.8$ $M_{\\rm \\odot}\\rm\\,(K\\,km\\,s^{-1}pc^{2})^{-1}$, although the star formation rate (SFR) is not elevated because of the non-detection of ALMA 1.3 mm continuum (SFR $<$ 40 $M_\\odot$ yr$^{-1}$). From the host galaxy, the nearest molecular gas clump labeled as clump A, is apparently aligning with the radio jet axis, showing the radio-CO alignment. The possible origin of these three clumps around TN J0924$-$2201 can be interpreted as merger, jet-induced metal enrichment and outflow. |\n",
       "|<p style=\"color:green\"> **ERROR** </p>| <p style=\"color:green\">affiliation error: mpia.affiliation_verifications: 'Heidelberg' keyword not found.</p> |"
      ],
      "text/plain": [
       "<IPython.core.display.Markdown object>"
      ]
     },
     "metadata": {},
     "output_type": "display_data"
    },
    {
     "data": {
      "text/markdown": [
       "\n",
       "|||\n",
       "|---:|:---|\n",
       "| [![arXiv](https://img.shields.io/badge/arXiv-arXiv:2301.02864-b31b1b.svg)](https://arxiv.org/abs/arXiv:2301.02864) | **Kilohertz quasiperiodic oscillations in short gamma-ray bursts**  |\n",
       "|| Cecilia Chirenti, et al. -- incl., <mark>Amy Lien</mark> |\n",
       "|*Appeared on*| *2023-01-10*|\n",
       "|*Comments*| *20 pages, 11 figures, 6 tables. Version accepted for publication in Nature*|\n",
       "|**Abstract**| Short gamma-ray bursts are associated with binary neutron star mergers, which are multimessenger astronomical events that have been observed both in gravitational waves and in the multiband electromagnetic spectrum. Depending on the masses of the stars in the binary and on details of their largely unknown equation of state, a dynamically evolving and short-lived neutron star may be formed after the merger, existing for approximately 10-300 ms before collapsing to a black hole. Numerical relativity simulations across different groups consistently show broad power spectral features in the 1-5 kHz range in the post-merger gravitational wave signal, which is inaccessible by current gravitational-wave detectors but could be seen by future third generation ground-based detectors in the next decade. This implies the possibility of quasiperiodic modulation of the emitted gamma-rays in a subset of events where a neutron star is formed shortly prior to the final collapse to a black hole. Here we present two such signals identified in the short bursts GRB 910711 and GRB 931101B from archival BATSE data, which are compatible with the predictions from numerical relativity. |\n",
       "|<p style=\"color:green\"> **ERROR** </p>| <p style=\"color:green\">affiliation error: mpia.affiliation_verifications: 'Heidelberg' keyword not found.</p> |"
      ],
      "text/plain": [
       "<IPython.core.display.Markdown object>"
      ]
     },
     "metadata": {},
     "output_type": "display_data"
    },
    {
     "data": {
      "text/markdown": [
       "\n",
       "|||\n",
       "|---:|:---|\n",
       "| [![arXiv](https://img.shields.io/badge/arXiv-arXiv:2301.02970-b31b1b.svg)](https://arxiv.org/abs/arXiv:2301.02970) | **An emulator-based halo model in modified gravity -- I. The halo  concentration-mass relation and density profile**  |\n",
       "|| Cheng-Zong Ruan, et al. -- incl., <mark>Baojiu Li</mark>, <mark>César Hernández-Aguayo</mark>, <mark>Christopher T. Davies</mark> |\n",
       "|*Appeared on*| *2023-01-10*|\n",
       "|*Comments*| *18 pages, 15 figures*|\n",
       "|**Abstract**| In this series of papers we present an emulator-based halo model for the non-linear clustering of galaxies in modified gravity cosmologies. In the first paper, we present emulators for the following halo properties: the halo mass function, concentration-mass relation and halo-matter cross-correlation function. The emulators are trained on data extracted from the \\textsc{FORGE} and \\textsc{BRIDGE} suites of $N$-body simulations, respectively for two modified gravity (MG) theories: $f(R)$ gravity and the DGP model, varying three standard cosmological parameters $\\Omega_{\\mathrm{m0}}, H_0, \\sigma_8$, and one MG parameter, either $\\bar{f}_{R0}$ or $r_{\\mathrm{c}}$. Our halo property emulators achieve an accuracy of $\\lesssim 1\\%$ on independent test data sets. We demonstrate that the emulators can be combined with a galaxy-halo connection prescription to accurately predict the galaxy-galaxy and galaxy-matter correlation functions using the halo model framework. |\n",
       "|<p style=\"color:green\"> **ERROR** </p>| <p style=\"color:green\">affiliation error: mpia.affiliation_verifications: 'Heidelberg' keyword not found.</p> |"
      ],
      "text/plain": [
       "<IPython.core.display.Markdown object>"
      ]
     },
     "metadata": {},
     "output_type": "display_data"
    },
    {
     "data": {
      "text/markdown": [
       "\n",
       "|||\n",
       "|---:|:---|\n",
       "| [![arXiv](https://img.shields.io/badge/arXiv-arXiv:2301.02986-b31b1b.svg)](https://arxiv.org/abs/arXiv:2301.02986) | **Forklens: Accurate weak lensing shear measurement on extremely noisy  images with deep learning**  |\n",
       "|| <mark>Zekang Zhang</mark>, et al. -- incl., <mark>Nan Li</mark>, <mark>Ran Li</mark> |\n",
       "|*Appeared on*| *2023-01-10*|\n",
       "|*Comments*| *11 pages, 11 figures; Comments are welcome!*|\n",
       "|**Abstract**| Weak gravitational lensing is one of the most important probes of the nature of dark matter and dark energy. In order to extract cosmological information from next-generation weak lensing surveys (e.g., Euclid, Roman, LSST, and CSST) as much as possible, accurate measurements of weak lensing shear are required. In this work, we present a fully deep-learning-based approach to measuring weak lensing shear accurately. Our approach comprises two modules. The first one contains a CNN with two branches for taking galaxy images and PSF simultaneously, and the output of this module includes the galaxy's magnitude, size, and shape. The second module includes a multiple-layer Neural Network to calibrate weak lensing shear measurements. We name the program Forklens and make it publicly available online. Applying Forklens to CSST-like mock images, we achieve consistent accuracy with traditional approaches (such as moment-based measurement and forward model fitting) on the sources with high signal-to-noise ratios (S/N). For the sources with meagre S/N, Forklens exhibits powerful latent denoising ability and offers accurate predictions on galaxy shapes. The final shear measurements with Forklens deliver a multiplicative bias $m=-0.4\\pm3.0\\times10^{-3}$ and an additive bias $c=-0.5\\pm1.9\\times10^{-4}$. Our tests with CSST-like simulation show that Forklens is competitive with other shear measurement algorithms such as Metacalibration, while Forklens can potentially lower the S/N limit. Moreover, the whole procedure of Forklens is automated and costs about 0.6 milliseconds per galaxy, which is appropriate to adequately take advantage of the sky coverage and depth of the upcoming weak lensing surveys. |\n",
       "|<p style=\"color:green\"> **ERROR** </p>| <p style=\"color:green\">affiliation error: mpia.affiliation_verifications: 'Heidelberg' keyword not found.</p> |"
      ],
      "text/plain": [
       "<IPython.core.display.Markdown object>"
      ]
     },
     "metadata": {},
     "output_type": "display_data"
    },
    {
     "data": {
      "text/markdown": [
       "\n",
       "|||\n",
       "|---:|:---|\n",
       "| [![arXiv](https://img.shields.io/badge/arXiv-arXiv:2301.02997-b31b1b.svg)](https://arxiv.org/abs/arXiv:2301.02997) | **What are recent observations telling us in light of improved tests of  distance duality relation?**  |\n",
       "|| <mark>Liu Tonghua</mark>, et al. -- incl., <mark>Liu Yuting</mark> |\n",
       "|*Appeared on*| *2023-01-10*|\n",
       "|*Comments*| *21 pages, 5 figures, accepted for publication in PLB*|\n",
       "|**Abstract**| As an exact result required by the Etherington reciprocity theorem, the cosmic distance duality relation (CDDR), $\\eta(z)=D_L(z)(1+z)^{-2}/D_A(z)=1$ plays an essential part in modern cosmology. In this paper, we present a new method ($\\eta(z_i)/\\eta(z_j)$) to use the measurements of ultra-compact structure in radio quasars (QSO) and the latest observations of type Ia supernova (SN Ia) to test CDDR. By taking the observations directly from SN Ia and QSOs, one can completely eliminate the uncertainty caused by the calibration of the absolute magnitudes of standard candles ($M_B$) and the linear sizes of standard rulers ($l_m$). Benefit from the absence of nuisance parameters involved in other currently available methods, our analysis demonstrates no evidence for the deviation and redshift evolution of CDDR up to $z=2.3$. The combination of our methodology and the machine learning Artificial Neural Network (ANN) would produce $10^{-3}$ level constraints on the violation parameter at high redshifts. Our results indicate perfect agreement between observations and predictions, supporting the persisting claims that the Etherington reciprocity theorem could still be the best description of our universe. |\n",
       "|<p style=\"color:green\"> **ERROR** </p>| <p style=\"color:green\">affiliation error: mpia.affiliation_verifications: 'Heidelberg' keyword not found.</p> |"
      ],
      "text/plain": [
       "<IPython.core.display.Markdown object>"
      ]
     },
     "metadata": {},
     "output_type": "display_data"
    },
    {
     "data": {
      "text/markdown": [
       "\n",
       "|||\n",
       "|---:|:---|\n",
       "| [![arXiv](https://img.shields.io/badge/arXiv-arXiv:2301.03065-b31b1b.svg)](https://arxiv.org/abs/arXiv:2301.03065) | **Probing Cosmology beyond $Λ$CDM using the SKA**  |\n",
       "|| <mark>Shamik Ghosh</mark>, et al. |\n",
       "|*Appeared on*| *2023-01-10*|\n",
       "|*Comments*| *To be published in JoAA as a special issue on \"Indian participation in the SKA\" (10 Pages, 2 Figures)*|\n",
       "|**Abstract**| The cosmological principle states that the Universe is statistically homogeneous and isotropic at large distance scales. There currently exist many observations which indicate a departure from this principle. It has been shown that many of these observations can be explained by invoking superhorizon cosmological perturbations and may be consistent with the Big Bang paradigm. Remarkably, these modes simultaneously explain the observed Hubble tension, i.e., the discrepancy between the direct and indirect measurements of the Hubble parameter. We propose several tests of the cosmological principle using SKA. In particular, we can reliably extract the signal of dipole anisotropy in the distribution of radio galaxies. The superhorizon perturbations also predict a significant redshift dependence of the dipole signal which can be nicely tested by the study of signals of reionization and the dark ages using SKA. We also propose to study the alignment of radio galaxy axes as well as their integrated polarization vectors over distance scales ranging from a few Mpc to Gpc. We discuss data analysis techniques that can reliably extract these signals from data. |\n",
       "|<p style=\"color:green\"> **ERROR** </p>| <p style=\"color:green\">affiliation error: mpia.affiliation_verifications: 'Heidelberg' keyword not found.</p> |"
      ],
      "text/plain": [
       "<IPython.core.display.Markdown object>"
      ]
     },
     "metadata": {},
     "output_type": "display_data"
    },
    {
     "data": {
      "text/markdown": [
       "\n",
       "|||\n",
       "|---:|:---|\n",
       "| [![arXiv](https://img.shields.io/badge/arXiv-arXiv:2301.03067-b31b1b.svg)](https://arxiv.org/abs/arXiv:2301.03067) | **Neutron stars in the context of $f(\\mathbb{T},\\CMcal{T})$ gravity**  |\n",
       "|| Clésio E. Mota, et al. -- incl., <mark>Cesar V. Flores</mark> |\n",
       "|*Appeared on*| *2023-01-10*|\n",
       "|*Comments*| **|\n",
       "|**Abstract**| In this work, we investigate the existence of neutron stars (NS) in the framework of $f(\\mathbb{T},\\CMcal{T})$ gravity, where $\\mathbb{T}$ is the torsion tensor and $\\CMcal{T}$ is the trace of the energy-momentum tensor. The hydrostatic equilibrium equations are obtained, however, with $p$ and $\\rho$ quantities passed on by effective quantities $\\Bar{p}$ and $\\Bar{\\rho}$, whose mass-radius diagrams are obtained using modern equations of state (EoS) of nuclear matter derived from relativistic mean field models and compared with the ones computed by the Tolman-Oppenheimer-Volkoff (TOV) equations. Substantial changes in the mass-radius profiles of NS are obtained even for small changes in the free parameter of this modified theory. The results indicate that the use of $f(\\mathbb{T},\\CMcal{T})$ gravity in the study of NS provides good results for the masses and radii of some important astrophysical objects, as for example, the low-mass X-ray binary (LMXB) NGC 6397 and the pulsar of millisecond PSR J0740+6620. In addition, radii results inferred from the Lead Radius EXperiment (PREX-2) can also be described for certain parameter values. |\n",
       "|<p style=\"color:green\"> **ERROR** </p>| <p style=\"color:green\">affiliation error: mpia.affiliation_verifications: 'Heidelberg' keyword not found.</p> |"
      ],
      "text/plain": [
       "<IPython.core.display.Markdown object>"
      ]
     },
     "metadata": {},
     "output_type": "display_data"
    },
    {
     "data": {
      "text/markdown": [
       "\n",
       "|||\n",
       "|---:|:---|\n",
       "| [![arXiv](https://img.shields.io/badge/arXiv-arXiv:2301.03068-b31b1b.svg)](https://arxiv.org/abs/arXiv:2301.03068) | **Limiting Magnitudes of the Wide Field Survey Telescope (WFST)**  |\n",
       "|| Lei Lei, et al. -- incl., <mark>Wei Liu</mark> |\n",
       "|*Appeared on*| *2023-01-10*|\n",
       "|*Comments*| *12 pages, 5 figures, accepted by RAA (Research in Astronomy and Astrophysics)*|\n",
       "|**Abstract**| Expected to be of the highest survey power telescope in the northern hemisphere, the Wide Field Survey Telescope (WFST) will begin its routine observations of the northern sky since 2023. WFST will produce a lot of scientific data to support the researches of time-domain astronomy, asteroids and the solar system, galaxy formation and cosmology and so on. We estimated that the 5 $\\sigma$ limiting magnitudes of WFST with 30 second exposure are $u=22.31$ mag, $g=23.42$ mag, $r=22.95$ mag, $i=22.43$ mag, $z=21.50$ mag, $w=23.61$ mag. The above values are calculated for the conditions of $airmass=1.2$, seeing = 0.75 arcsec, precipitable water vapour (PWV) = 2.5 mm and Moon-object separation = $45^{\\circ}$ at the darkest New Moon night of the Lenghu site (V=22.30 mag, Moon phase $\\theta=0^{\\circ}$). The limiting magnitudes in different Moon phase conditions are also calculated. The calculations are based on the empirical transmittance data of WFST optics, the vendor provided CCD quantum efficiency, the atmospherical model transmittance and spectrum of the site. In the absence of measurement data such as sky transmittance and spectrum, we use model data. |\n",
       "|<p style=\"color:green\"> **ERROR** </p>| <p style=\"color:green\">affiliation error: mpia.affiliation_verifications: 'Heidelberg' keyword not found.</p> |"
      ],
      "text/plain": [
       "<IPython.core.display.Markdown object>"
      ]
     },
     "metadata": {},
     "output_type": "display_data"
    },
    {
     "data": {
      "text/markdown": [
       "\n",
       "|||\n",
       "|---:|:---|\n",
       "| [![arXiv](https://img.shields.io/badge/arXiv-arXiv:2301.03289-b31b1b.svg)](https://arxiv.org/abs/arXiv:2301.03289) | **Thermal hysteresis and front propagation in dense planetary rings**  |\n",
       "|| Rémy Larue, <mark>Henrik Latter</mark>, Hanno Rein |\n",
       "|*Appeared on*| *2023-01-10*|\n",
       "|*Comments*| *MNRAS, accepted*|\n",
       "|**Abstract**| Saturn's rings are composed of icy grains, most in the mm to m size ranges, undergoing several collisions per orbit. Their collective behaviour generates a remarkable array of structure over many orders of magnitude, much of it not well understood. On the other hand, the collisional properties and parameters of individual ring particles are poorly constrained; usually N-body simulations and kinetic theory employ hard-sphere models with a coefficient of restitution $\\epsilon$ that is constant or a decreasing function of impact speed. Due to plastic deformation of surface regolith, however, it is likely that $\\epsilon$ will be more complicated, at the very least a non-monotonic function. We undertake N-body simulations with the REBOUND code with non-monotonic $\\epsilon$ laws to approximate surfaces that are friable but not sticking. Our simulations reveal that such ring models can support two thermally stable steady states for the same (dynamical) optical depth: a cold and a warm state. If the ring breaks up into radial bands of one or the other state, we find that warmer states tend to migrate into the colder states via a coherent travelling front. We also find stationary `viscous' fronts, which connect states of different optical depth, but the same angular momentum flux. We discuss these preliminary results and speculate on their implications for structure formation in Saturn's B and C-rings, especially with respect to structures that appear in Cassini images but not in occultations. |\n",
       "|<p style=\"color:green\"> **ERROR** </p>| <p style=\"color:green\">affiliation error: mpia.affiliation_verifications: 'Heidelberg' keyword not found.</p> |"
      ],
      "text/plain": [
       "<IPython.core.display.Markdown object>"
      ]
     },
     "metadata": {},
     "output_type": "display_data"
    },
    {
     "data": {
      "text/markdown": [
       "\n",
       "|||\n",
       "|---:|:---|\n",
       "| [![arXiv](https://img.shields.io/badge/arXiv-arXiv:2301.03298-b31b1b.svg)](https://arxiv.org/abs/arXiv:2301.03298) | **Joint analysis constraints on the physics of the first galaxies with low  frequency radio astronomy data**  |\n",
       "|| Harry T. J. Bevins, et al. -- incl., <mark>Stefan Heimersheim</mark> |\n",
       "|*Appeared on*| *2023-01-10*|\n",
       "|*Comments*| *Submitted*|\n",
       "|**Abstract**| Observations of the first billion years of cosmic history are currently limited. We demonstrate the synergy between observations of the sky-averaged 21-cm signal from neutral hydrogen and interferometric measurements of the corresponding spatial fluctuations. By jointly analysing data from SARAS3 (redshift $z\\approx15-25$) and limits from HERA ($z\\approx8$ and $10$), we produce the tightest constraints to date on the astrophysics of galaxies 200 million years after the Big Bang. We disfavour at $95\\%$ confidence scenarios in which power spectra are $\\geq126$ mK$^{2}$ at $z=25$ and the sky-averaged signals are $\\leq-277$ mK. |\n",
       "|<p style=\"color:green\"> **ERROR** </p>| <p style=\"color:green\">affiliation error: mpia.affiliation_verifications: 'Heidelberg' keyword not found.</p> |"
      ],
      "text/plain": [
       "<IPython.core.display.Markdown object>"
      ]
     },
     "metadata": {},
     "output_type": "display_data"
    },
    {
     "data": {
      "text/markdown": [
       "\n",
       "|||\n",
       "|---:|:---|\n",
       "| [![arXiv](https://img.shields.io/badge/arXiv-arXiv:2301.03307-b31b1b.svg)](https://arxiv.org/abs/arXiv:2301.03307) | **Isolating the extreme debris disc signature -- explorations of eccentric  extreme debris discs formed by giant impacts**  |\n",
       "|| <mark>Thomas Lewis</mark>, <mark>Lewis Watt</mark>, Zoë M Leinhardt |\n",
       "|*Appeared on*| *2023-01-10*|\n",
       "|*Comments*| *20 pages (+5 supplementary pages), 18 figures (+6 supplementary figures). For associated mpeg files, see this https URL*|\n",
       "|**Abstract**| In this work, we used N-body simulations and a radiative transfer package to model the evolution of eccentric debris discs produced by giant impacts between planetary embryos. This included how the morphology and infrared emission of these discs varied with embryo eccentricity and collision true anomaly. We found that eccentric discs inherit the eccentric properties of the centre of mass orbit of the two colliding embryos. However, the orientation of the collision with the respect to this orbit plays a key role in determining how closely the disc material resembles the centre of mass orbit. Additionally, we found that increased eccentricity acted to suppress the formation of certain short-term variations in the disc emission depending on the collision position. These short-term variations have been associated with an observational phenomenon called extreme debris discs. Short-term variability has been suggested as a potential signature for giant impacts. |\n",
       "|<p style=\"color:green\"> **ERROR** </p>| <p style=\"color:green\">affiliation error: mpia.affiliation_verifications: 'Heidelberg' keyword not found.</p> |"
      ],
      "text/plain": [
       "<IPython.core.display.Markdown object>"
      ]
     },
     "metadata": {},
     "output_type": "display_data"
    },
    {
     "data": {
      "text/markdown": [
       "\n",
       "|||\n",
       "|---:|:---|\n",
       "| [![arXiv](https://img.shields.io/badge/arXiv-arXiv:2301.03348-b31b1b.svg)](https://arxiv.org/abs/arXiv:2301.03348) | **A rocky exoplanet classification method and its application to  calculating surface pressure and surface temperature**  |\n",
       "|| Sarah R.N. McIntyre, Penelope L. King, <mark>Franklin P. Mills</mark> |\n",
       "|*Appeared on*| *2023-01-10*|\n",
       "|*Comments*| *Accepted for publication in MNRAS, 13 pages, 7 figures*|\n",
       "|**Abstract**| With over 5,000 exoplanets currently detected, there is a need for a primary classification method to prioritise candidates for biosignature observations. Here, we develop a classification method to categorise rocky exoplanets based on their closest solar system analogue using available data of observed stellar and planetary features, masses, and radii, to model non-thermal atmospheric escape, thermal atmospheric escape, and stellar irradiation boundaries. Applying this classification method to the 720 rocky exoplanets in our sample with uncertainties in planetary masses, radii, stellar temperatures, and fluxes propagated via a Monte Carlo model indicates that 22% $\\pm$ 8% are Mercury analogues, 39% $\\pm$ 4% are Mars analogues, 11% $\\pm$ 1% are Venus analogues, 2% $\\pm$ 1% are Earth analogues, and 26% $\\pm$ 12% are without a known planetary counterpart in our solar system. Extrapolating to conditions on LHS 3844b and GJ 1252b, our classification method gives results reasonably consistent with current observations. Subsequently, to demonstrate the functionality of this classification method, we plot our catalogued sample of exoplanets on an adjusted surface pressure versus temperature phase diagram, presenting more realistic estimates of the potential surface phases (gas, liquid or ice). Our new classification method could help target selection for future exoplanet characterisation missions. |\n",
       "|<p style=\"color:green\"> **ERROR** </p>| <p style=\"color:green\">affiliation error: mpia.affiliation_verifications: 'Heidelberg' keyword not found.</p> |"
      ],
      "text/plain": [
       "<IPython.core.display.Markdown object>"
      ]
     },
     "metadata": {},
     "output_type": "display_data"
    },
    {
     "data": {
      "text/markdown": [
       "\n",
       "|||\n",
       "|---:|:---|\n",
       "| [![arXiv](https://img.shields.io/badge/arXiv-arXiv:2301.03466-b31b1b.svg)](https://arxiv.org/abs/arXiv:2301.03466) | **Redox state and interior structure control on the long-term habitability  of stagnant-lid planets**  |\n",
       "|| <mark>Philipp Baumeister</mark>, et al. -- incl., <mark>John Lee Grenfell</mark> |\n",
       "|*Appeared on*| *2023-01-10*|\n",
       "|*Comments*| *20 pages, 15 figures, submitted to Astronomy & Astrophysics*|\n",
       "|**Abstract**| A major goal in the search for extraterrestrial life is the detection of liquid water on the surface of exoplanets. On terrestrial planets, volcanic outgassing is a significant source of atmospheric and surface water and a major contributor to the long-term evolution of the atmosphere. The rate of volcanism depends on the interior evolution and on numerous feedback processes between atmosphere and interior, which continuously shape atmospheric composition, pressure, and temperature. We present the results of a comprehensive 1D model of the coupled evolution of the interior and atmosphere of rocky exoplanets that combines central feedback processes between these two reservoirs. We carried out more than 280,000 simulations over a wide range of mantle redox states and volatile content, planetary masses, interior structures and orbital distances in order to robustly assess the emergence, accumulation and preservation of surface water on rocky planets. To establish a conservative baseline of which types of planets can outgas and sustain water on their surface, we focus here on stagnant-lid planets. We find that only a narrow range of the mantle redox state around the iron-w\\\"ustite buffer allows forming atmospheres that lead to long-term habitable conditions. At oxidizing conditions similar to those of the Earth's mantle, most stagnant-lid planets transition into a runaway greenhouse regime akin to Venus due to strong CO$_2$ outgassing. At more reducing conditions, the amount of outgassed greenhouse gases is often too low to keep surface water from freezing. In addition, Mercury-like planets with large metallic cores are able to sustain habitable conditions at an extended range of orbital distances as a result of lower volcanic activity. |\n",
       "|<p style=\"color:green\"> **ERROR** </p>| <p style=\"color:green\">affiliation error: mpia.affiliation_verifications: 'Heidelberg' keyword not found.</p> |"
      ],
      "text/plain": [
       "<IPython.core.display.Markdown object>"
      ]
     },
     "metadata": {},
     "output_type": "display_data"
    },
    {
     "data": {
      "text/markdown": [
       "\n",
       "|||\n",
       "|---:|:---|\n",
       "| [![arXiv](https://img.shields.io/badge/arXiv-arXiv:2301.03478-b31b1b.svg)](https://arxiv.org/abs/arXiv:2301.03478) | **Inverse problem approach in Extreme Adaptive Optics: analytical model of  the fitting error and lowering of the aliasing**  |\n",
       "|| Anthony Berdeu, et al. -- incl., <mark>Maud Langlois</mark> |\n",
       "|*Appeared on*| *2023-01-10*|\n",
       "|*Comments*| **|\n",
       "|**Abstract**| We present the results obtained with an end-to-end simulator of an Extreme Adaptive Optics (XAO) system control loop. It is used to predict its on-sky performances and to optimise the AO loop algorithms. It was first used to validate a novel analytical model of the fitting error, a limit due to the Deformable Mirror (DM) shape. Standard analytical models assume a sharp correction under the DM cutoff frequency, disregarding the transition between the AO corrected and turbulence dominated domains. Our model account for the influence function shape in this smooth transition. Then, it is well-known that Shack-Hartmann wavefront sensors (SH-WFS) have a limited spatial bandwidth, the high frequencies of the wavefront being seen as low frequencies. We show that this aliasing error can be partially compensated (both in terms of Strehl ratio and contrast) by adding priors on the turbulence statistics in the framework of an inverse problem approach. This represents an alternative to the standard additional optical filter used in XAO systems. In parallel to this numerical work, a bench was aligned to experimentally test the AO system and these new algorithms comprising a DM192 ALPAO deformable mirror and a 15x15 SH-WFS. We present the predicted performances of the AO loop based on end-to-end simulations. |\n",
       "|<p style=\"color:green\"> **ERROR** </p>| <p style=\"color:green\">affiliation error: mpia.affiliation_verifications: 'Heidelberg' keyword not found.</p> |"
      ],
      "text/plain": [
       "<IPython.core.display.Markdown object>"
      ]
     },
     "metadata": {},
     "output_type": "display_data"
    },
    {
     "data": {
      "text/markdown": [
       "\n",
       "|||\n",
       "|---:|:---|\n",
       "| [![arXiv](https://img.shields.io/badge/arXiv-arXiv:2301.03502-b31b1b.svg)](https://arxiv.org/abs/arXiv:2301.03502) | **An FRB Sent Me a DM: Constraining the Electron Column of the Milky Way  Halo with Fast Radio Burst Dispersion Measures from CHIME/FRB**  |\n",
       "|| Amanda M. Cook, et al. -- incl., <mark>Antonio Herrera-Martin</mark>, <mark>Jane Kaczmarek</mark>, <mark>Bradley W. Meyers</mark>, <mark>Kendrick Smith</mark> |\n",
       "|*Appeared on*| *2023-01-10*|\n",
       "|*Comments*| *19 pages, 4 figures. Submitted to AAS Journals on November 22nd, 2022*|\n",
       "|**Abstract**| The CHIME/FRB project has detected hundreds of fast radio bursts (FRBs), providing an unparalleled population to probe statistically the foreground media that they illuminate. One such foreground medium is the ionized halo of the Milky Way (MW). We estimate the total Galactic electron column density from FRB dispersion measures (DMs) as a function of Galactic latitude using four different estimators, including ones that assume spherical symmetry of the ionized MW halo and ones that imply more latitudinal-variation in density. Our observation-based constraints of the total Galactic DM contribution for $|b|\\geq 30^\\circ$, depending on the Galactic latitude and selected model, span 87.8 - 141 pc cm^-3. This constraint implies upper limits on the MW halo DM contribution that range over 52-111 pc cm^-3. We discuss the viability of various gas density profiles for the MW halo that have been used to estimate the halo's contribution to DMs of extragalactic sources. Several models overestimate the DM contribution, especially when assuming higher halo gas masses (~ 3.5 x 10^12 solar masses). Some halo models predict a higher MW halo DM contribution than can be supported by our observations unless the effect of feedback is increased within them, highlighting the impact of feedback processes in galaxy formation. |\n",
       "|<p style=\"color:green\"> **ERROR** </p>| <p style=\"color:green\">affiliation error: mpia.affiliation_verifications: 'Heidelberg' keyword not found.</p> |"
      ],
      "text/plain": [
       "<IPython.core.display.Markdown object>"
      ]
     },
     "metadata": {},
     "output_type": "display_data"
    },
    {
     "data": {
      "text/markdown": [
       "\n",
       "|||\n",
       "|---:|:---|\n",
       "| [![arXiv](https://img.shields.io/badge/arXiv-arXiv:2301.03519-b31b1b.svg)](https://arxiv.org/abs/arXiv:2301.03519) | **Evolution of elemental abundances in hot active region cores from  Chandrayaan-2 XSM observations**  |\n",
       "|| Biswajit Mondal, et al. -- incl., <mark>Helen E. Mason</mark> |\n",
       "|*Appeared on*| *2023-01-10*|\n",
       "|*Comments*| *Submitted to the Astrophysical Journal, 16 pages,8 figures*|\n",
       "|**Abstract**| The First Ionization Potential (FIP) bias, whereby elemental abundances for low FIP elements in different coronal structures vary from their photospheric values and may also vary with time, has been widely studied. In order to study the temporal variation, and to understand the physical mechanisms giving rise to the FIP bias, we have investigated the hot cores of three ARs using disk-integrated soft X-ray spectroscopic observation with the Solar X-ray Monitor (XSM) onboard Chandrayaan-2. Observations for periods when only one AR was present on the solar disk were used so as to ensure that the AR was the principal contributor to the total X-ray intensity. The average values of temperature and EM were ~3 MK and 3.0E46/cm3 respectively. Regardless of the age and activity of the AR, the elemental abundances of the low FIP elements, Al, Mg, and Si were consistently higher than their photospheric values. The average FIP bias for Mg and Si was ~3, whereas the FIP bias for the mid-FIP element, S, was ~1.5. However, the FIP bias for the lowest FIP element, Al, was observed to be higher than 3, which, if real, suggests a dependence of the FIP bias of low FIP elements on their FIP value. Another major result from our analysis is that the FIP bias of these elements is established in within ~10 hours of emergence of the AR and then remains almost constant throughout its lifetime. |\n",
       "|<p style=\"color:green\"> **ERROR** </p>| <p style=\"color:green\">affiliation error: mpia.affiliation_verifications: 'Heidelberg' keyword not found.</p> |"
      ],
      "text/plain": [
       "<IPython.core.display.Markdown object>"
      ]
     },
     "metadata": {},
     "output_type": "display_data"
    },
    {
     "data": {
      "text/markdown": [
       "\n",
       "|||\n",
       "|---:|:---|\n",
       "| [![arXiv](https://img.shields.io/badge/arXiv-arXiv:2301.02727-b31b1b.svg)](https://arxiv.org/abs/arXiv:2301.02727) | **Parker Solar Probe: Four Years of Discoveries at Solar Cycle Minimum**  |\n",
       "|| N. E. Raouafi, et al. -- incl., <mark>K. G. Klein</mark>, <mark>M. Linton</mark>, <mark>P. Hess</mark>, <mark>P. Liewer</mark>, <mark>T. Niembro-Hernandez</mark> |\n",
       "|*Appeared on*| *2023-01-10*|\n",
       "|*Comments*| *157 pages, 65 figures*|\n",
       "|**Abstract**| Launched on 12 Aug. 2018, NASA's Parker Solar Probe had completed 13 of its scheduled 24 orbits around the Sun by Nov. 2022. The mission's primary science goal is to determine the structure and dynamics of the Sun's coronal magnetic field, understand how the solar corona and wind are heated and accelerated, and determine what processes accelerate energetic particles. Parker Solar Probe returned a treasure trove of science data that far exceeded quality, significance, and quantity expectations, leading to a significant number of discoveries reported in nearly 700 peer-reviewed publications. The first four years of the 7-year primary mission duration have been mostly during solar minimum conditions with few major solar events. Starting with orbit 8 (i.e., 28 Apr. 2021), Parker flew through the magnetically dominated corona, i.e., sub-Alfv\\'enic solar wind, which is one of the mission's primary objectives. In this paper, we present an overview of the scientific advances made mainly during the first four years of the Parker Solar Probe mission, which go well beyond the three science objectives that are: (1) Trace the flow of energy that heats and accelerates the solar corona and solar wind; (2) Determine the structure and dynamics of the plasma and magnetic fields at the sources of the solar wind; and (3) Explore mechanisms that accelerate and transport energetic particles. |\n",
       "|<p style=\"color:green\"> **ERROR** </p>| <p style=\"color:green\">affiliation error: mpia.affiliation_verifications: 'Planck' keyword not found.</p> |"
      ],
      "text/plain": [
       "<IPython.core.display.Markdown object>"
      ]
     },
     "metadata": {},
     "output_type": "display_data"
    },
    {
     "data": {
      "text/markdown": [
       "\n",
       "|||\n",
       "|---:|:---|\n",
       "| [![arXiv](https://img.shields.io/badge/arXiv-arXiv:2301.03144-b31b1b.svg)](https://arxiv.org/abs/arXiv:2301.03144) | **Evidence of high-mass star formation through multi-scale mass accretion  in hub-filament-system clouds**  |\n",
       "|| <mark>Hong-Li Liu</mark>, et al. -- incl., <mark>Tie Liu</mark>, <mark>Jinhua He</mark>, <mark>Shanghuo Li</mark>, <mark>Chang Won Lee</mark>, <mark>Yong Zhang</mark>, <mark>Xun-Chuan Liu</mark>, <mark>Siju Zhang</mark> |\n",
       "|*Appeared on*| *2023-01-10*|\n",
       "|*Comments*| *Accepted for publication in MNRAS; 16 pages, 8 figures, and 3 tables*|\n",
       "|**Abstract**| We present a statistical study of a sample of 17 hub-filament-system (HFS) clouds of high-mass star formation using high-angular resolution ($\\sim$1-2 arcsecond) ALMA 1.3mm and 3mm continuum data. The sample includes 8 infrared (IR)-dark and 9 IR-bright types, which correspond to an evolutionary sequence from the IR-dark to IR-bright stage. The central massive clumps and their associated most massive cores are observed to follow a trend of increasing mass ($M$) and mass surface density ($\\Sigma$) with evolution from IR-dark to IR-bright stage. In addition, a mass-segregated cluster of young stellar objects (YSOs) are revealed in both IR-dark and IR-bright HFSs with massive YSOs located in the hub and the population of low-mass YSOs distributed over larger areas. Moreover, outflow feedback in all HFSs are found to escape preferentially through the inter-filamentary diffuse cavities, suggesting that outflows would render a limited effect on the disruption of the HFSs and ongoing high-mass star formation therein. From the above observations, we suggest that high-mass star formation in the HFSs can be described by a multi-scale mass accretion/transfer scenario, from hub-composing filaments through clumps down to cores, that can naturally lead to a mass-segregated cluster of stars. |\n",
       "|<p style=\"color:red\"> **ERROR** </p>| <p style=\"color:red\">latex error Could not find figure 0figs/Mcore_12m_vs_12m7m.pdf</p> |"
      ],
      "text/plain": [
       "<IPython.core.display.Markdown object>"
      ]
     },
     "metadata": {},
     "output_type": "display_data"
    },
    {
     "data": {
      "text/markdown": [
       "\n",
       "|||\n",
       "|---:|:---|\n",
       "| [![arXiv](https://img.shields.io/badge/arXiv-arXiv:2301.02745-b31b1b.svg)](https://arxiv.org/abs/arXiv:2301.02745) | **Optical Properties of Organic Hazes in Water-rich Exoplanet Atmospheres:  Implications for Observations with JWST**  |\n",
       "|| <mark>Chao He</mark>, et al. -- incl., <mark>Nikole K. Lewis</mark> |\n",
       "|*Appeared on*| *2023-01-10*|\n",
       "|*Comments*| *4 figures, 1 Table, Paper under review in Nature Astronomy*|\n",
       "|**Abstract**| JWST has begun its scientific mission, which includes the atmospheric characterization of transiting exoplanets. Some of the first exoplanets to be observed by JWST have equilibrium temperatures below 1000 K, which is a regime where photochemical hazes are expected to form. The optical properties of these hazes, which controls how they interact with light, are critical for interpreting exoplanet observations, but relevant data are not available. Here we measure the optical properties of organic haze analogues generated in water-rich exoplanet atmosphere experiments. We report optical constants (0.4 to 28.6 micron) of organic hazes for current and future observational and modeling efforts covering the entire wavelength range of JWST instrumentation and a large part of Hubble. We use these optical constants to generate hazy model atmospheric spectra. The synthetic spectra show that differences in haze optical constants have a detectable effect on the spectra, impacting our interpretation of exoplanet observations. This study emphasizes the need to investigate the optical properties of hazes formed in different exoplanet atmospheres, and establishes a practical procedure to determine such properties. |\n",
       "|<p style=\"color:red\"> **ERROR** </p>| <p style=\"color:red\">latex error not a gzip file</p> |"
      ],
      "text/plain": [
       "<IPython.core.display.Markdown object>"
      ]
     },
     "metadata": {},
     "output_type": "display_data"
    }
   ],
   "source": [
    "import datetime\n",
    "today = str(datetime.date.today())\n",
    "logfile = f\"_build/html/logs/log-{today}.md\"\n",
    "\n",
    "\n",
    "with open(logfile, 'w') as logs:\n",
    "    # Success\n",
    "    logs.write(f'# Arxiv on Deck 2: Logs - {today}\\n\\n')\n",
    "    logs.write(\"\"\"* Arxiv had {0:,d} new papers\\n\"\"\".format(len(new_papers)))\n",
    "    logs.write(\"\"\"    * {0:,d} with possible author matches\\n\\n\"\"\".format(len(candidates)))\n",
    "    logs.write(\"## Sucessful papers\\n\\n\")\n",
    "    display(Markdown(\"## Successful papers\"))\n",
    "    success = [k[0] for k in documents]\n",
    "    for candid in candidates:\n",
    "        if candid['identifier'].split(':')[-1] in success:\n",
    "            display(candid)\n",
    "            logs.write(candid.generate_markdown_text() + '\\n\\n')\n",
    "\n",
    "    ## failed\n",
    "    logs.write(\"## Failed papers\\n\\n\")\n",
    "    display(Markdown(\"## Failed papers\"))\n",
    "    failed = sorted(failed, key=lambda x: x[1])\n",
    "    current_reason = \"\"\n",
    "    for paper, reason in failed:\n",
    "        if 'affiliation' in reason:\n",
    "            color = 'green'\n",
    "        else:\n",
    "            color = 'red'\n",
    "        data = Markdown(\n",
    "                paper.generate_markdown_text() + \n",
    "                f'\\n|<p style=\"color:{color:s}\"> **ERROR** </p>| <p style=\"color:{color:s}\">{reason:s}</p> |'\n",
    "               )\n",
    "        if reason != current_reason:\n",
    "            logs.write(f'### {reason:s} \\n\\n')\n",
    "            current_reason = reason\n",
    "        logs.write(data.data + '\\n\\n')\n",
    "        \n",
    "        # only display here the important errors (all in logs)\n",
    "        # if color in ('red',):\n",
    "        display(data)"
   ]
  },
  {
   "cell_type": "markdown",
   "id": "472d20ee",
   "metadata": {
    "papermill": {
     "duration": 0.01336,
     "end_time": "2023-01-10T04:14:57.189651",
     "exception": false,
     "start_time": "2023-01-10T04:14:57.176291",
     "status": "completed"
    },
    "tags": []
   },
   "source": [
    "## Export documents\n",
    "\n",
    "We now write the .md files and export relevant images"
   ]
  },
  {
   "cell_type": "code",
   "execution_count": 7,
   "id": "d426aed9",
   "metadata": {
    "execution": {
     "iopub.execute_input": "2023-01-10T04:14:57.219599Z",
     "iopub.status.busy": "2023-01-10T04:14:57.218881Z",
     "iopub.status.idle": "2023-01-10T04:14:57.229005Z",
     "shell.execute_reply": "2023-01-10T04:14:57.228284Z"
    },
    "papermill": {
     "duration": 0.028236,
     "end_time": "2023-01-10T04:14:57.230719",
     "exception": false,
     "start_time": "2023-01-10T04:14:57.202483",
     "status": "completed"
    },
    "tags": []
   },
   "outputs": [],
   "source": [
    "def export_markdown_summary(md: str, md_fname:str, directory: str):\n",
    "    \"\"\"Export MD document and associated relevant images\"\"\"\n",
    "    import os\n",
    "    import shutil\n",
    "    import re\n",
    "\n",
    "    if (os.path.exists(directory) and not os.path.isdir(directory)):\n",
    "        raise RuntimeError(f\"a non-directory file exists with name {directory:s}\")\n",
    "\n",
    "    if (not os.path.exists(directory)):\n",
    "        print(f\"creating directory {directory:s}\")\n",
    "        os.mkdir(directory)\n",
    "\n",
    "    fig_fnames = (re.compile(r'\\[Fig.*\\]\\((.*)\\)').findall(md) + \n",
    "                  re.compile(r'\\<img src=\"([^>\\s]*)\"[^>]*/>').findall(md))\n",
    "    for fname in fig_fnames:\n",
    "        if 'http' in fname:\n",
    "            # No need to copy online figures\n",
    "            continue\n",
    "        destdir = os.path.join(directory, os.path.dirname(fname))\n",
    "        destfname = os.path.join(destdir, os.path.basename(fname))\n",
    "        try:\n",
    "            os.makedirs(destdir)\n",
    "        except FileExistsError:\n",
    "            pass\n",
    "        shutil.copy(fname, destfname)\n",
    "    with open(os.path.join(directory, md_fname), 'w') as fout:\n",
    "        fout.write(md)\n",
    "    print(\"exported in \", os.path.join(directory, md_fname))\n",
    "    [print(\"    + \" + os.path.join(directory,fk)) for fk in fig_fnames]"
   ]
  },
  {
   "cell_type": "code",
   "execution_count": 8,
   "id": "014d04a4",
   "metadata": {
    "execution": {
     "iopub.execute_input": "2023-01-10T04:14:57.292145Z",
     "iopub.status.busy": "2023-01-10T04:14:57.289423Z",
     "iopub.status.idle": "2023-01-10T04:14:57.314902Z",
     "shell.execute_reply": "2023-01-10T04:14:57.313945Z"
    },
    "papermill": {
     "duration": 0.04394,
     "end_time": "2023-01-10T04:14:57.317648",
     "exception": false,
     "start_time": "2023-01-10T04:14:57.273708",
     "status": "completed"
    },
    "tags": []
   },
   "outputs": [
    {
     "name": "stdout",
     "output_type": "stream",
     "text": [
      "exported in  _build/html/2301.02671.md\n",
      "    + _build/html/tmp_2301.02671/./figures/dmag_Best-fit_0_32.png\n",
      "    + _build/html/tmp_2301.02671/figures/detection_depth.png\n",
      "    + _build/html/tmp_2301.02671/figures/badflag.png\n",
      "exported in  _build/html/2301.03209.md\n",
      "    + _build/html/tmp_2301.03209/./fig4_dayside_nightside_t.png\n",
      "    + _build/html/tmp_2301.03209/./fig3_model_parameters_t.png\n",
      "    + _build/html/tmp_2301.03209/./fig2_light_curves_t.png\n",
      "exported in  _build/html/2301.03387.md\n",
      "    + _build/html/tmp_2301.03387/figures/L1551IRS5_parabolas.png\n",
      "    + _build/html/tmp_2301.03387/figures/line_profiles.png\n",
      "    + _build/html/tmp_2301.03387/figures/outflows_32.png\n"
     ]
    }
   ],
   "source": [
    "for paper_id, md in documents:\n",
    "    export_markdown_summary(md, f\"{paper_id:s}.md\", '_build/html/')"
   ]
  },
  {
   "cell_type": "markdown",
   "id": "f087a0a7",
   "metadata": {
    "papermill": {
     "duration": 0.013816,
     "end_time": "2023-01-10T04:14:57.346734",
     "exception": false,
     "start_time": "2023-01-10T04:14:57.332918",
     "status": "completed"
    },
    "tags": []
   },
   "source": [
    "## Display the papers\n",
    "\n",
    "Not necessary but allows for a quick check."
   ]
  },
  {
   "cell_type": "code",
   "execution_count": 9,
   "id": "fd25f625",
   "metadata": {
    "execution": {
     "iopub.execute_input": "2023-01-10T04:14:57.374974Z",
     "iopub.status.busy": "2023-01-10T04:14:57.374224Z",
     "iopub.status.idle": "2023-01-10T04:14:57.384659Z",
     "shell.execute_reply": "2023-01-10T04:14:57.383988Z"
    },
    "papermill": {
     "duration": 0.029021,
     "end_time": "2023-01-10T04:14:57.389236",
     "exception": false,
     "start_time": "2023-01-10T04:14:57.360215",
     "status": "completed"
    },
    "scrolled": false,
    "tags": []
   },
   "outputs": [
    {
     "data": {
      "text/markdown": [
       "<div class=\"macros\" style=\"visibility:hidden;\">\n",
       "$\\newcommand{\\ensuremath}{}$\n",
       "$\\newcommand{\\xspace}{}$\n",
       "$\\newcommand{\\object}[1]{\\texttt{#1}}$\n",
       "$\\newcommand{\\farcs}{{.}''}$\n",
       "$\\newcommand{\\farcm}{{.}'}$\n",
       "$\\newcommand{\\arcsec}{''}$\n",
       "$\\newcommand{\\arcmin}{'}$\n",
       "$\\newcommand{\\ion}[2]{#1#2}$\n",
       "$\\newcommand{\\textsc}[1]{\\textrm{#1}}$\n",
       "$\\newcommand{\\hl}[1]{\\textrm{#1}}$\n",
       "$\\newcommand{\\vdag}{(v)^\\dagger}$\n",
       "$\\newcommand$\n",
       "$\\newcommand$\n",
       "$\\newcommand$\n",
       "$\\newcommand$\n",
       "$\\newcommand$\n",
       "$\\newcommand$\n",
       "$\\newcommand$\n",
       "$\\newcommand{\\arraystretch}{1.2}$\n",
       "$\\newcommand{\\arraystretch}{1}$\n",
       "$\\newcommand{\\arraystretch}{0.9}$</div>\n",
       "\n",
       "<div class=\"macros\" style=\"visibility:hidden;\">\n",
       "$\\newcommand{$\\ensuremath$}{}$\n",
       "$\\newcommand{$\\xspace$}{}$\n",
       "$\\newcommand{$\\object$}[1]{\\texttt{#1}}$\n",
       "$\\newcommand{$\\farcs$}{{.}''}$\n",
       "$\\newcommand{$\\farcm$}{{.}'}$\n",
       "$\\newcommand{$\\arcsec$}{''}$\n",
       "$\\newcommand{$\\arcmin$}{'}$\n",
       "$\\newcommand{$\\ion$}[2]{#1#2}$\n",
       "$\\newcommand{$\\textsc$}[1]{\\textrm{#1}}$\n",
       "$\\newcommand{$\\hl$}[1]{\\textrm{#1}}$\n",
       "$\\newcommand{$\\vdag$}{(v)^\\dagger}$\n",
       "$\\newcommand$\n",
       "$\\newcommand$\n",
       "$\\newcommand$\n",
       "$\\newcommand$\n",
       "$\\newcommand$\n",
       "$\\newcommand$\n",
       "$\\newcommand$\n",
       "$\\newcommand{$\\arraystretch$}{1.2}$\n",
       "$\\newcommand{$\\arraystretch$}{1}$\n",
       "$\\newcommand{$\\arraystretch$}{0.9}$</div>\n",
       "\n",
       "\n",
       "\n",
       "<div id=\"title\">\n",
       "\n",
       "# \n",
       "\n",
       "</div>\n",
       "<div id=\"comments\">\n",
       "\n",
       "[![arXiv](https://img.shields.io/badge/arXiv-2301.02671-b31b1b.svg)](https://arxiv.org/abs/2301.02671)<mark>Appeared on: 2023-01-10</mark> - _27 pages, 19 figures, submitted to ApJS. Comments welcome!_\n",
       "\n",
       "</div>\n",
       "<div id=\"authors\">\n",
       "\n",
       "John R. Weaver, et al. -- incl., <mark>Natascha Förster Schreiber</mark>, <mark>Anna de Graaff</mark>, <mark>Jenny E. Greene</mark>\n",
       "\n",
       "</div>\n",
       "<div id=\"abstract\">\n",
       "\n",
       "**Abstract:** In November 2022, the\\textit{James Webb Space Telescope}(\\JWST) returned deep near-infrared images of Abell 2744 -- a powerful lensing cluster capable of magnifying distant, incipient galaxies beyond it. Together with the existing\\textit{Hubble Space Telescope}(\\HST) imaging, this publicly available dataset opens a fundamentally new discovery space to understand the remaining mysteries of the formation and evolution of galaxies across cosmic time. In this work, we detect and measure some 50,000 objects across the 45 arcmin$^2$\\JWSTfootprint down to a$5 \\sigma$limiting magnitude of$\\sim$29.9 mag in 0.32$\\arcsec$apertures. Photometry is performed using circular apertures on images matched to the point spread function of the reddest NIRCam band, F444W, and cleaned of bright cluster galaxies and the related intra-cluster light. To give an impression of the photometric performance, we measure photometric redshifts and achieve a$\\sigma_{\\rm NMAD}\\approx0.03$based on known, but relatively small, spectroscopic samples. With this paper, we publicly release\\HSTand\\JWSTPSF-matched photometric catalogs optimized for bright and extended sources (0.7$\\arcsec$apertures) and compact and faint sources (0.32$\\arcsec$apertures) along with basic photometric redshifts, rest-frame colors, and individual magnification estimates.These catalogs will set the stage for efficient and deep spectroscopic follow-up of the first\\JWST-selected samples in Summer 2023.\n",
       "\n",
       "</div>\n",
       "\n",
       "<div id=\"div_fig1\">\n",
       "\n",
       "<img src=\"tmp_2301.02671/./figures/dmag_Best-fit_0_32.png\" alt=\"Fig13\" width=\"100%\"/>\n",
       "\n",
       "**Figure 13. -** Photometry measured by AperPy in this work compared against predicted fluxes from the best-fit SED  from \\eazy  in all 15 available bands. In each panel, the difference in AB magnitude  ($\\Delta$ Mag) as a function of magnitude measured by AperPy is summarized by the log$_{10}$-scaled 2D grey density histogram. Colored curves indicate binned medians with two-sided envelopes enclosing 68\\% of sources per bin. The overall median offset is labeled on each panel computed on all magnitudes up to the magnitude limit of the deepest 10\\% of the corresponding image indicated by the colored solid vertical line; that of the median depth is indicated by the colored dashed vertical line. The typical photometric error derived by AperPy is indicated by the dotted grey curves.\n",
       "     (*fig:dmag_model*)\n",
       "\n",
       "</div>\n",
       "<div id=\"div_fig2\">\n",
       "\n",
       "<img src=\"tmp_2301.02671/figures/detection_depth.png\" alt=\"Fig9\" width=\"100%\"/>\n",
       "\n",
       "**Figure 9. -** Schematic of depth variation across the noise-equalized LW coadd detection image aggregated from the DDT, GLASS, and UNCOVER programs. Combining F277W, F356W, and F444W, the 5 $\\sigma$ depths in our LW detection band measured in 0.32$\\arcsec$ apertures span $27-29$ mag. Poisson contributions of the brightest objects feature prominently in our \\JWST weight maps. (*fig:detection_depths*)\n",
       "\n",
       "</div>\n",
       "<div id=\"div_fig3\">\n",
       "\n",
       "<img src=\"tmp_2301.02671/figures/badflag.png\" alt=\"Fig11\" width=\"100%\"/>\n",
       "\n",
       "**Figure 11. -** The selection of stars and spurious objects (bad pixels or model residuals) are determined from the flux ratio in large to small apertures above a limiting magnitude threshold. Stars that are unsaturated in \\JWST are selected from the native resolution F200W image (blue), and co-added with \\HST/F160W selected stars (yellow) and known GAIA stars (green). The LW images suffer from additional bad pixels and sources with contaminated photometry due to bad model residuals that are flagged (red).  Together, the bottom left panel shows that these flagged sources are well separated from the general galaxy population, with smaller values of F200W flux radius for a given magnitude.  Examples of point source postage stamps and bad pixels are shown at the top (left and right, respectively).  (*fig:badflag*)\n",
       "\n",
       "</div>"
      ],
      "text/plain": [
       "<IPython.core.display.Markdown object>"
      ]
     },
     "metadata": {},
     "output_type": "display_data"
    },
    {
     "data": {
      "text/markdown": [
       "<div class=\"macros\" style=\"visibility:hidden;\">\n",
       "$\\newcommand{\\ensuremath}{}$\n",
       "$\\newcommand{\\xspace}{}$\n",
       "$\\newcommand{\\object}[1]{\\texttt{#1}}$\n",
       "$\\newcommand{\\farcs}{{.}''}$\n",
       "$\\newcommand{\\farcm}{{.}'}$\n",
       "$\\newcommand{\\arcsec}{''}$\n",
       "$\\newcommand{\\arcmin}{'}$\n",
       "$\\newcommand{\\ion}[2]{#1#2}$\n",
       "$\\newcommand{\\textsc}[1]{\\textrm{#1}}$\n",
       "$\\newcommand{\\hl}[1]{\\textrm{#1}}$\n",
       "$\\newcommand{\\vdag}{(v)^\\dagger}$\n",
       "$\\newcommand$\n",
       "$\\newcommand$\n",
       "$\\newcommand{\\um}{\\mu\\textnormal{m}}$</div>\n",
       "\n",
       "<div class=\"macros\" style=\"visibility:hidden;\">\n",
       "$\\newcommand{$\\ensuremath$}{}$\n",
       "$\\newcommand{$\\xspace$}{}$\n",
       "$\\newcommand{$\\object$}[1]{\\texttt{#1}}$\n",
       "$\\newcommand{$\\farcs$}{{.}''}$\n",
       "$\\newcommand{$\\farcm$}{{.}'}$\n",
       "$\\newcommand{$\\arcsec$}{''}$\n",
       "$\\newcommand{$\\arcmin$}{'}$\n",
       "$\\newcommand{$\\ion$}[2]{#1#2}$\n",
       "$\\newcommand{$\\textsc$}[1]{\\textrm{#1}}$\n",
       "$\\newcommand{$\\hl$}[1]{\\textrm{#1}}$\n",
       "$\\newcommand{$\\vdag$}{(v)^\\dagger}$\n",
       "$\\newcommand$\n",
       "$\\newcommand$\n",
       "$\\newcommand{$\\um$}{\\mu\\textnormal{m}}$</div>\n",
       "\n",
       "\n",
       "\n",
       "<div id=\"title\">\n",
       "\n",
       "#  NIRSpec phase curve for WASP-121b: dayside emission strongest eastward of the substellar point and nightside conditions conducive to cloud formation\n",
       "\n",
       "</div>\n",
       "<div id=\"comments\">\n",
       "\n",
       "[![arXiv](https://img.shields.io/badge/arXiv-2301.03209-b31b1b.svg)](https://arxiv.org/abs/2301.03209)<mark>Appeared on: 2023-01-10</mark> - _Accepted for publication in Astrophysical Journal Letters on December 29, 2022_\n",
       "\n",
       "</div>\n",
       "<div id=\"authors\">\n",
       "\n",
       "<mark>Thomas Mikal-Evans</mark>, et al. -- incl., <mark>Jayesh M. Goyal</mark>, <mark>Nikole K. Lewis</mark>, <mark>Duncan A. Christie</mark>\n",
       "\n",
       "</div>\n",
       "<div id=\"abstract\">\n",
       "\n",
       "**Abstract:** We present the first exoplanet phase curve measurement made with the\\textit{JWST}NIRSpec instrument, highlighting the exceptional stability of this newly-commissioned observatory for exoplanet climate studies. The target, WASP-121b, is an ultrahot Jupiter with an orbital period of 30.6 hr. We analyze two broadband light curves generated for the NRS1 and NRS2 detectors, covering wavelength ranges of 2.70-3.72$ $\\um$$and 3.82-5.15$ $\\um$$, respectively. Both light curves exhibit minimal systematics, with approximately linear drifts in the baseline flux level of 30 ppm/hr (NRS1) and 10 ppm/hr (NRS2). Assuming a simple brightness map for the planet described by a low-order spherical harmonic dipole, our light curve fits suggest that the phase curve peaks coincide with orbital phases$3.36 \\pm 0.11 ^\\circ$(NRS1) and$2.66 \\pm 0.12 ^\\circ$(NRS2) prior to mid-eclipse. This is consistent with the strongest dayside emission emanating from eastward of the substellar point. We measure planet-to-star emission ratios of$3,924 \\pm 7  $ppm (NRS1) and$4,924 \\pm 9  $ppm (NRS2) for the dayside hemisphere, and$136 \\pm 8  $ppm (NRS1) and$630 \\pm 10  $ppm (NRS2) for the nightside hemisphere. The latter nightside emission ratios translate to planetary brightness temperatures of$926 \\pm 12  $K (NRS1) and$1,122 \\pm 10  $K (NRS2), which are low enough for a wide range of refractory condensates to form, including enstatite and forsterite. A nightside cloud deck may be blocking emission from deeper, hotter layers of the atmosphere, potentially helping to explain why cloud-free 3D general circulation model simulations systematically over-predict the nightside emission for WASP-121b.\n",
       "\n",
       "</div>\n",
       "\n",
       "<div id=\"div_fig1\">\n",
       "\n",
       "<img src=\"tmp_2301.03209/./fig4_dayside_nightside_t.png\" alt=\"Fig2\" width=\"100%\"/>\n",
       "\n",
       "**Figure 2. -** Black diamonds show the measured dayside (top panel) and nightside (bottom panel) planet-to-star emission levels. \\textit{Note that the measurement uncertainties are smaller than the diamond symbols.} Predictions from the cloud-free 3D GCM simulations of \\citet{2018A&A...617A.110P} are also shown for heavy element enrichments of $1\\times$ solar (blue lines) and $5\\times$ solar (orange lines). Circle and square symbols show, respectively, the $1\\times$ and $5\\times$ solar GCM predictions binned to the light curve passbands, which are shown as green lines in the top panel. \\label{fig:emission} (*fig:emission*)\n",
       "\n",
       "</div>\n",
       "<div id=\"div_fig2\">\n",
       "\n",
       "<img src=\"tmp_2301.03209/./fig3_model_parameters_t.png\" alt=\"Fig4\" width=\"100%\"/>\n",
       "\n",
       "**Figure 4. -** Dark blue histograms show posterior distributions for model parameters that were varied in the light curve fitting. Light blue histograms show corresponding distributions for other parameters that were subsequently derived. Posterior medians and $\\pm 34$\\% credible intervals are listed in black font. Red dashed lines show the priors. For the normal priors, the mean $\\mu$ and standard deviation $\\sigma$ are listed in red font. Half-normal priors were adopted for the $\\sigma_{\\rm{syst}}$ parameters, allowing only positive values and with scale $\\sigma$ listed in red font. Vertical axes are not labeled, as arbitrary normalizations have been applied to all plotted distributions. \\label{fig:pars} (*fig:pars*)\n",
       "\n",
       "</div>\n",
       "<div id=\"div_fig3\">\n",
       "\n",
       "<img src=\"tmp_2301.03209/./fig2_light_curves_t.png\" alt=\"Fig3\" width=\"100%\"/>\n",
       "\n",
       "**Figure 3. -** \\textit{Panels (a) and (b):} Raw broadband light curves for the NRS1 and NRS2 detectors, respectively. Orange lines show the best-fit light curve models. Blue lines show the corresponding instrument baseline trends. Grey horizontal lines are calibrated to the bottoms of the first eclipse, to highlight the instrumental drift over the course of the observation. \\textit{Panels (c) and (d):} The same light curves focusing on the planetary emission signal and after correcting for the instrument baseline trends shown by the blue lines in panels (a) and (b). \\textit{Panels (e) and (f):} Black points show the residuals between the data and best-fit models for the NRS1 and NRS2 detectors, respectively. Orange lines show the residuals after applying a Gaussian filter to smooth the random noise. Green and purple shading show the times of transit and eclipse, respectively, with darker ranges corresponding to ingress and egress times. \\label{fig:lc} (*fig:lc*)\n",
       "\n",
       "</div>"
      ],
      "text/plain": [
       "<IPython.core.display.Markdown object>"
      ]
     },
     "metadata": {},
     "output_type": "display_data"
    },
    {
     "data": {
      "text/markdown": [
       "<div class=\"macros\" style=\"visibility:hidden;\">\n",
       "$\\newcommand{\\ensuremath}{}$\n",
       "$\\newcommand{\\xspace}{}$\n",
       "$\\newcommand{\\object}[1]{\\texttt{#1}}$\n",
       "$\\newcommand{\\farcs}{{.}''}$\n",
       "$\\newcommand{\\farcm}{{.}'}$\n",
       "$\\newcommand{\\arcsec}{''}$\n",
       "$\\newcommand{\\arcmin}{'}$\n",
       "$\\newcommand{\\ion}[2]{#1#2}$\n",
       "$\\newcommand{\\textsc}[1]{\\textrm{#1}}$\n",
       "$\\newcommand{\\hl}[1]{\\textrm{#1}}$\n",
       "$\\newcommand{\\kms}[1]{\\SI[mode=text]{#1}{\\kilo\\meter\\per\\second}}$\n",
       "$\\newcommand{\\ghz}[1]{\\SI{#1}{\\giga\\hertz}}$\n",
       "$\\newcommand{\\au}{\\si{\\astronomicalunit}}$\n",
       "$\\newcommand{\\sci}[2]{\\ensuremath{#1\\times10^{#2}}}$\n",
       "$\\newcommand{\\sectionautorefname}{Section}$</div>\n",
       "\n",
       "<div class=\"macros\" style=\"visibility:hidden;\">\n",
       "$\\newcommand{$\\ensuremath$}{}$\n",
       "$\\newcommand{$\\xspace$}{}$\n",
       "$\\newcommand{$\\object$}[1]{\\texttt{#1}}$\n",
       "$\\newcommand{$\\farcs$}{{.}''}$\n",
       "$\\newcommand{$\\farcm$}{{.}'}$\n",
       "$\\newcommand{$\\arcsec$}{''}$\n",
       "$\\newcommand{$\\arcmin$}{'}$\n",
       "$\\newcommand{$\\ion$}[2]{#1#2}$\n",
       "$\\newcommand{$\\textsc$}[1]{\\textrm{#1}}$\n",
       "$\\newcommand{$\\hl$}[1]{\\textrm{#1}}$\n",
       "$\\newcommand{$\\kms$}[1]{\\SI[mode=text]{#1}{\\kilo\\meter\\per\\second}}$\n",
       "$\\newcommand{$\\ghz$}[1]{\\SI{#1}{\\giga\\hertz}}$\n",
       "$\\newcommand{$\\au$}{\\si{\\astronomicalunit}}$\n",
       "$\\newcommand{$\\sci$}[2]{$\\ensuremath${#1\\times10^{#2}}}$\n",
       "$\\newcommand{$\\sectionautorefname$}{Section}$</div>\n",
       "\n",
       "\n",
       "\n",
       "<div id=\"title\">\n",
       "\n",
       "# An APEX study of molecular outflows in FUor-type stars\n",
       "\n",
       "</div>\n",
       "<div id=\"comments\">\n",
       "\n",
       "[![arXiv](https://img.shields.io/badge/arXiv-2301.03387-b31b1b.svg)](https://arxiv.org/abs/2301.03387)<mark>Appeared on: 2023-01-10</mark> - _Accepted for publication in ApJ. 29 pages, 8 tables, 10 figures, 2 figuresets_\n",
       "\n",
       "</div>\n",
       "<div id=\"authors\">\n",
       "\n",
       "Fernando Cruz-S\\'aenz de Miera, et al. -- incl., <mark>Thomas Henning</mark>\n",
       "\n",
       "</div>\n",
       "<div id=\"abstract\">\n",
       "\n",
       "**Abstract:** FU Orionis-type objects (FUors) are low-mass pre-main-sequence objects which go through a short-lived phase ($\\sim$100 years) of increased mass accretion rate (from 10$^{-8}$to 10$^{-4}$M$_\\odot$yr$^{-1}$).These eruptive young stars are in the early stages of stellar evolution and, thus, still deeply embedded in a massive envelope that feeds material to the circumstellar disk that is then accreted onto the star.Some FUors drive molecular outflows, i.e. low-velocity wide-angle magneto-hydrodynamical winds, that inject energy and momentum back to the surrounding envelopes, and help clear the material surrounding the young star.Here we present a$^{12}$CO (3--2),$^{13}$CO (3--2) and$^{12}$CO (4--3) survey of 20 FUor-type eruptive young stars observed with APEX\\@.We use our$^{13}$CO (3--2) observations to measure the masses of the envelopes surrounding each FUor and find an agreement with the FUor evolutionary trend found from the\\SI{10}{\\micro\\meter}silicate feature.We find outflows in 11 FUors, calculate their masses and other kinematic properties, and compare these with those of outflows found around quiescent young stellar objects gathered from the literature.This comparison indicates that outflows in FUors are more massive than outflows in quiescent sources, and that FUor outflows have a higher ratio outflow mass with respect to the envelope than the quiescent sample, indicating that the eruptive young stars have lower star-forming efficiencies.Finally, we found that the outflow forces in FUors are similar to those of quiescent young stellar objects, indicating that their accretion histories are similar or that the FUor outflows have lower velocities.\n",
       "\n",
       "</div>\n",
       "\n",
       "<div id=\"div_fig1\">\n",
       "\n",
       "<img src=\"tmp_2301.03387/figures/L1551IRS5_parabolas.png\" alt=\"Fig12\" width=\"100%\"/>\n",
       "\n",
       "**Figure 12. -** Optical depth correction for L1551 IRS 5.\n",
       "  In the left panel we show the line profiles, where the green, purple and black colors represent the $^{13}$CO, the observed $^{12}$CO and the corrected $^{12}$CO, respectively, and the vertical dashed lines indicate the rage of velocities used in the parabola fit.\n",
       "  The right panel shows the ratio of main beam temperatures (T$_\\mathrm{MB}$), where the light blue crosses are all the values of the ratio for each velocity channel, in pink dots with errorbars are the points used in the parabolic fitting, and the black line is the resulting best-fitted parabola. The complete figure set (10 images) is available in the online journal.\\label{fig:correction_l1551irs5} (*fig:correction_l1551irs5*)\n",
       "\n",
       "</div>\n",
       "<div id=\"div_fig2\">\n",
       "\n",
       "<img src=\"tmp_2301.03387/figures/line_profiles.png\" alt=\"Fig6\" width=\"100%\"/>\n",
       "\n",
       "**Figure 6. -** CO line profiles of our targets observed with APEX\\@. The vertical dotted line is the systemic velocity. The vertical dashed lines are the range of velocities of the CO (3--2) outflows. The line profiles have been smoothed for presentation purposes.\\label{fig:spectra} (*fig:spectra*)\n",
       "\n",
       "</div>\n",
       "<div id=\"div_fig3\">\n",
       "\n",
       "<img src=\"tmp_2301.03387/figures/outflows_32.png\" alt=\"Fig7\" width=\"100%\"/>\n",
       "\n",
       "**Figure 7. -** The red and blue contours show redshifted and blueshifted CO (J=3--2) emission integrated in the velocity ranges indicated in $\\au$toref{fig:spectra}.\n",
       "The star symbols mark the stellar position as given in $\\au$toref{tab:values}.\n",
       "The hatched circle in the bottom right frame is the APEX beam size and the arrows indicate the orientation of the outflow.\n",
       "In the cases of V2775 Ori and V960 Mon, the outflow appears to be expanding in the direction of the line of sight.\n",
       "For L1551 IRS 5, the blueshifted contours are 3, 13, 24, 35, 45, 56, 67 and 78$\\upsigma$ for $\\upsigma$=\\SI{0.38}{\\kelvin\\kilo\\meter\\per\\second} while the redshifted contours are 3, 18, 33, 48, 63, 78, 93 and 109$\\upsigma$ for $\\upsigma$=\\SI{0.33}{\\kelvin\\kilo\\meter\\per\\second}.\n",
       "For Haro 5a IRS, the blueshifted contours are 3, 7, 12, 16, 21, 25, 30 and 35$\\upsigma$ for $\\upsigma$=\\SI{0.61}{\\kelvin\\kilo\\meter\\per\\second} while the redshifted contours are 3, 6, 10, 14, 18, 22, 26 and 30$\\upsigma$ for $\\upsigma$=\\SI{0.48}{\\kelvin\\kilo\\meter\\per\\second}.\n",
       "For Reipurth 50, the blueshifted contours are 3, 5, 7, 9, 11, 13, 15 and 17$\\upsigma$ for $\\upsigma$=\\SI{0.48}{\\kelvin\\kilo\\meter\\per\\second} while the redshifted contours are 3, 6, 10, 14, 17, 21, 25 and 29$\\upsigma$ for $\\upsigma$=\\SI{0.43}{\\kelvin\\kilo\\meter\\per\\second}.\n",
       "For V2775 Ori, the blueshifted contours are 3, 12, 22, 31, 41, 50, 60 and 70$\\upsigma$ for $\\upsigma$=\\SI{0.73}{\\kelvin\\kilo\\meter\\per\\second} while the redshifted contours are 3, 7, 12, 17, 21, 26, 31 and 36$\\upsigma$ for $\\upsigma$=\\SI{0.68}{\\kelvin\\kilo\\meter\\per\\second}.\n",
       "For V899 Mon, the blueshifted contours are 3, 5, 7, 9, 11, 13, 15 and 17$\\upsigma$ for $\\upsigma$=\\SI{0.52}{\\kelvin\\kilo\\meter\\per\\second} while the redshifted contours are 3, 4, 6, 8, 9, 11, 13 and 15$\\upsigma$ for $\\upsigma$=\\SI{0.43}{\\kelvin\\kilo\\meter\\per\\second}.\n",
       "For V900 Mon, the blueshifted contours are 3, 4, 5, 6, 7, 8, 9 and 10$\\upsigma$ for $\\upsigma$=\\SI{0.62}{\\kelvin\\kilo\\meter\\per\\second} while the redshifted contours are 3, 4, 5, 6, 7 and 8$\\upsigma$ for $\\upsigma$=\\SI{0.47}{\\kelvin\\kilo\\meter\\per\\second}.\n",
       "For V960 Mon, the blueshifted contours are 3, 6, 9, 13, 16, 20, 23 and 27$\\upsigma$ for $\\upsigma$=\\SI{0.44}{\\kelvin\\kilo\\meter\\per\\second} while the redshifted contours are 3, 7, 11, 15, 19, 23, 27 and 32$\\upsigma$ for $\\upsigma$=\\SI{0.25}{\\kelvin\\kilo\\meter\\per\\second}.\n",
       "For Z CMa, the blueshifted contours are 3, 4, 6, 8, 9, 11, 13 and 15$\\upsigma$ for $\\upsigma$=\\SI{0.52}{\\kelvin\\kilo\\meter\\per\\second} while the redshifted contours are 3, 8, 13, 19, 24, 30, 35 and 41$\\upsigma$ for $\\upsigma$=\\SI{0.39}{\\kelvin\\kilo\\meter\\per\\second}.\n",
       "For iPTF 15afq, the blueshifted contours are 3, 5, 7, 9, 11, 13, 15 and 17$\\upsigma$ for $\\upsigma$=\\SI{0.44}{\\kelvin\\kilo\\meter\\per\\second} while the redshifted contours are 3, 6, 10, 13, 17, 20, 24 and 28$\\upsigma$ for $\\upsigma$=\\SI{0.32}{\\kelvin\\kilo\\meter\\per\\second}.\n",
       "For GM Cha, the blueshifted contours are 3, 5, 7, 9, 11, 13, 15 and 18$\\upsigma$ for $\\upsigma$=\\SI{0.43}{\\kelvin\\kilo\\meter\\per\\second} while the redshifted contours are 3, 9, 16, 23, 29, 36, 43 and 50$\\upsigma$ for $\\upsigma$=\\SI{0.39}{\\kelvin\\kilo\\meter\\per\\second}.\n",
       "For V346 Nor, the blueshifted contours are 3, 12, 22, 32, 41, 51, 61 and 71$\\upsigma$ for $\\upsigma$=\\SI{0.52}{\\kelvin\\kilo\\meter\\per\\second} while the redshifted contours are 3, 11, 20, 29, 38, 47, 56 and 65$\\upsigma$ for $\\upsigma$=\\SI{0.56}{\\kelvin\\kilo\\meter\\per\\second}.\n",
       "\\label{fig:outflows} (*fig:outflows*)\n",
       "\n",
       "</div>"
      ],
      "text/plain": [
       "<IPython.core.display.Markdown object>"
      ]
     },
     "metadata": {},
     "output_type": "display_data"
    }
   ],
   "source": [
    "[display(Markdown(k[1])) for k in documents];"
   ]
  },
  {
   "cell_type": "markdown",
   "id": "873873a4",
   "metadata": {
    "papermill": {
     "duration": 0.013817,
     "end_time": "2023-01-10T04:14:57.417261",
     "exception": false,
     "start_time": "2023-01-10T04:14:57.403444",
     "status": "completed"
    },
    "tags": []
   },
   "source": [
    "# Create HTML index"
   ]
  },
  {
   "cell_type": "code",
   "execution_count": 10,
   "id": "cf665672",
   "metadata": {
    "execution": {
     "iopub.execute_input": "2023-01-10T04:14:57.448697Z",
     "iopub.status.busy": "2023-01-10T04:14:57.448121Z",
     "iopub.status.idle": "2023-01-10T04:14:57.462623Z",
     "shell.execute_reply": "2023-01-10T04:14:57.461894Z"
    },
    "papermill": {
     "duration": 0.032728,
     "end_time": "2023-01-10T04:14:57.464499",
     "exception": false,
     "start_time": "2023-01-10T04:14:57.431771",
     "status": "completed"
    },
    "tags": []
   },
   "outputs": [
    {
     "name": "stdout",
     "output_type": "stream",
     "text": [
      "161  publications in the last 7 days.\n",
      "\t _build/html/2301.03387.md\n",
      "\t _build/html/2301.03209.md\n",
      "\t _build/html/2301.02671.md\n",
      "\t _build/html/2301.02477.md\n",
      "\t _build/html/2301.02313.md\n",
      "\t _build/html/2301.02265.md\n",
      "\t _build/html/2301.01937.md\n",
      "\t _build/html/2301.01895.md\n",
      "\t _build/html/2301.01684.md\n",
      "\t _build/html/2301.01306.md\n",
      "\t _build/html/2301.00881.md\n",
      "\t _build/html/2301.00854.md\n",
      "\t _build/html/2301.00578.md\n",
      "\t _build/html/2212.12039.md\n",
      "\t _build/html/2212.11991.md\n",
      "\t _build/html/2212.11425.md\n",
      "\t _build/html/2212.11177.md\n",
      "\t _build/html/2212.10804.md\n",
      "\t _build/html/2212.10512.md\n",
      "\t _build/html/2212.09766.md\n",
      "\t _build/html/2212.09675.md\n",
      "\t _build/html/2212.09661.md\n",
      "\t _build/html/2212.09652.md\n",
      "\t _build/html/2212.09443.md\n",
      "\t _build/html/2212.09307.md\n",
      "\t _build/html/2212.09168.md\n",
      "\t _build/html/2212.09159.md\n",
      "\t _build/html/2212.08702.md\n",
      "\t _build/html/2212.07332.md\n",
      "\t _build/html/2212.06434.md\n",
      "\t _build/html/2212.04710.md\n",
      "\t _build/html/2212.04026.md\n",
      "\t _build/html/2212.03563.md\n",
      "\t _build/html/2212.03514.md\n",
      "\t _build/html/2212.02667.md\n",
      "\t _build/html/2212.02627.md\n",
      "\t _build/html/2212.02235.md\n",
      "\t _build/html/2212.01707.md\n",
      "\t _build/html/2212.01526.md\n",
      "\t _build/html/2212.01397.md\n",
      "\t _build/html/2212.01291.md\n",
      "\t _build/html/2212.01281.md\n",
      "\t _build/html/2212.00812.md\n",
      "\t _build/html/2212.00811.md\n",
      "\t _build/html/2212.00806.md\n",
      "\t _build/html/2212.00047.md\n",
      "\t _build/html/2212.00032.md\n",
      "\t _build/html/2211.16996.md\n",
      "\t _build/html/2211.16510.md\n",
      "\t _build/html/2211.16123.md\n",
      "\t _build/html/2211.15816.md\n",
      "\t _build/html/2211.15698.md\n",
      "\t _build/html/2211.15576.md\n",
      "\t _build/html/2211.15434.md\n",
      "\t _build/html/2211.15288.md\n",
      "\t _build/html/2211.15224.md\n",
      "\t _build/html/2211.14543.md\n",
      "\t _build/html/2211.14330.md\n",
      "\t _build/html/2211.14322.md\n",
      "\t _build/html/2211.14132.md\n",
      "\t _build/html/2211.13811.md\n",
      "\t _build/html/2211.13426.md\n",
      "\t _build/html/2211.13318.md\n",
      "\t _build/html/2211.13146.md\n",
      "\t _build/html/2211.12613.md\n",
      "\t _build/html/2211.11767.md\n",
      "\t _build/html/2211.09840.md\n",
      "\t _build/html/2211.09217.md\n",
      "\t _build/html/2211.08493.md\n",
      "\t _build/html/2211.08487.md\n",
      "\t _build/html/2211.08294.md\n",
      "\t _build/html/2211.07667.md\n",
      "\t _build/html/2211.07659.md\n",
      "\t _build/html/2211.06454.md\n",
      "\t _build/html/2211.06205.md\n",
      "\t _build/html/2211.06194.md\n",
      "\t _build/html/2211.05022.md\n",
      "\t _build/html/2211.04048.md\n",
      "\t _build/html/2211.03641.md\n",
      "\t _build/html/2211.02502.md\n",
      "\t _build/html/2211.01474.md\n",
      "\t _build/html/2211.00667.md\n",
      "\t _build/html/2211.00657.md\n",
      "\t _build/html/2211.00087.md\n",
      "\t _build/html/2211.00036.md\n",
      "\t _build/html/2211.00020.md\n",
      "\t _build/html/2211.00010.md\n",
      "\t _build/html/2210.17434.md\n",
      "\t _build/html/2210.12412.md\n",
      "\t _build/html/2210.11926.md\n",
      "\t _build/html/2210.11551.md\n",
      "\t _build/html/2210.11103.md\n",
      "\t _build/html/2210.10707.md\n",
      "\t _build/html/2210.09930.md\n",
      "\t _build/html/2210.08996.md\n",
      "\t _build/html/2210.08517.md\n",
      "\t _build/html/2210.08510.md\n",
      "\t _build/html/2210.08078.md\n",
      "\t _build/html/2210.06504.md\n",
      "\t _build/html/2210.05695.md\n",
      "\t _build/html/2210.05595.md\n",
      "\t _build/html/2210.05505.md\n",
      "\t _build/html/2210.04721.md\n",
      "\t _build/html/2210.03615.md\n",
      "\t _build/html/2210.01811.md\n",
      "\t _build/html/2210.01809.md\n",
      "\t _build/html/2210.01556.md\n",
      "\t _build/html/2210.00863.md\n",
      "\t _build/html/2210.00560.md\n",
      "\t _build/html/2209.15403.md\n",
      "\t _build/html/2209.15110.md\n",
      "\t _build/html/2209.14410.md\n",
      "\t _build/html/2209.14396.md\n",
      "\t _build/html/2209.13717.md\n",
      "\t _build/html/2209.13336.md\n",
      "\t _build/html/2209.12906.md\n",
      "\t _build/html/2209.11781.md\n",
      "\t _build/html/2209.11602.md\n",
      "\t _build/html/2209.11248.md\n",
      "\t _build/html/2209.11096.md\n",
      "\t _build/html/2209.10618.md\n",
      "\t _build/html/2209.09914.md\n",
      "\t _build/html/2209.09823.md\n",
      "\t _build/html/2209.08242.md\n",
      "\t _build/html/2209.08120.md\n",
      "\t _build/html/2209.08106.md\n",
      "\t _build/html/2209.07962.md\n",
      "\t _build/html/2209.07931.md\n",
      "\t _build/html/2209.06833.md\n",
      "\t _build/html/2209.05814.md\n",
      "\t _build/html/2209.05593.md\n",
      "\t _build/html/2209.04304.md\n",
      "\t _build/html/2209.03367.md\n",
      "\t _build/html/2209.02872.md\n",
      "\t _build/html/2209.02725.md\n",
      "\t _build/html/2209.02722.md\n",
      "\t _build/html/2209.02092.md\n",
      "\t _build/html/2209.01125.md\n",
      "\t _build/html/2209.00828.md\n",
      "\t _build/html/2209.00363.md\n",
      "\t _build/html/2208.14927.md\n",
      "\t _build/html/2208.09335.md\n",
      "\t _build/html/2208.08872.md\n",
      "\t _build/html/2204.06393.md\n",
      "\t _build/html/2204.03335.md\n",
      "\t _build/html/2204.03253.md\n",
      "\t _build/html/2204.02998.md\n",
      "\t _build/html/2204.02109.md\n",
      "\t _build/html/2204.02017.md\n",
      "\t _build/html/2204.01824.md\n",
      "\t _build/html/2204.01758.md\n",
      "\t _build/html/2204.01245.md\n",
      "\t _build/html/2204.00793.md\n",
      "\t _build/html/2204.00342.md\n",
      "\t _build/html/2203.16959.md\n",
      "\t _build/html/2203.16856.md\n",
      "\t _build/html/2203.16735.md\n",
      "\t _build/html/2203.16734.md\n",
      "\t _build/html/2203.16504.md\n",
      "\t _build/html/2203.15822.md\n",
      "\t _build/html/2203.15811.md\n"
     ]
    }
   ],
   "source": [
    "from datetime import datetime, timedelta, timezone\n",
    "from glob import glob\n",
    "\n",
    "files = glob('_build/html/*.md')\n",
    "days = 7\n",
    "now = datetime.today()\n",
    "res = []\n",
    "for fk in files:\n",
    "    stat_result = os.stat(fk).st_ctime\n",
    "    modified = datetime.fromtimestamp(stat_result, tz=timezone.utc).replace(tzinfo=None)\n",
    "    delta = now.today() - modified\n",
    "    if delta <= timedelta(days=days):\n",
    "        res.append((delta.seconds, fk))\n",
    "res = [k[1] for k in reversed(sorted(res, key=lambda x:x[1]))]\n",
    "npub = len(res)\n",
    "print(len(res), f\" publications in the last {days:d} days.\")\n",
    "[ print('\\t', k) for k in res ];"
   ]
  },
  {
   "cell_type": "code",
   "execution_count": 11,
   "id": "52ca0208",
   "metadata": {
    "execution": {
     "iopub.execute_input": "2023-01-10T04:14:57.496974Z",
     "iopub.status.busy": "2023-01-10T04:14:57.496205Z",
     "iopub.status.idle": "2023-01-10T04:14:57.504734Z",
     "shell.execute_reply": "2023-01-10T04:14:57.503518Z"
    },
    "papermill": {
     "duration": 0.026349,
     "end_time": "2023-01-10T04:14:57.507196",
     "exception": false,
     "start_time": "2023-01-10T04:14:57.480847",
     "status": "completed"
    },
    "scrolled": false,
    "tags": []
   },
   "outputs": [],
   "source": [
    "def create_carousel(npub=4):\n",
    "    \"\"\" Generate the HTML code for a carousel with `npub` slides \"\"\"\n",
    "    carousel = [\"\"\"<section class=\"carousel\" aria-label=\"Gallery\">\"\"\",\n",
    "                \"\"\"  <ol class=\"carousel__viewport\">\"\"\",\n",
    "    ]\n",
    "    for k in range(1, npub + 1):\n",
    "        prev_ = k - 1\n",
    "        next_ = k + 1\n",
    "        if prev_ <= 0:\n",
    "            prev_ = npub\n",
    "        if next_ > npub:\n",
    "            next_ = 1\n",
    "        text  = f\"\"\"    <li id=\"carousel__slide{k}\" tabindex=\"0\" class=\"carousel__slide\">\\n\"\"\"\n",
    "        text += f\"\"\"       <div class=\"carousel__snapper\">\\n\"\"\"\n",
    "        text += f\"\"\"         <a href=\"#carousel__slide{prev_}\" class=\"carousel__prev\">Go to previous slide</a>\\n\"\"\"\n",
    "        text += f\"\"\"         <a href=\"#carousel__slide{next_}\" class=\"carousel__next\">Go to next slide</a>\\n\"\"\"\n",
    "        text += f\"\"\"         <div id=\"slide{k}_content\" class=\"md_view\" >Content {k}</div>\\n\"\"\"\n",
    "        text += f\"\"\"       </div>\\n\"\"\"\n",
    "        text += f\"\"\"    </li>\"\"\"\n",
    "        carousel.append(text)\n",
    "\n",
    "    carousel.extend([\n",
    "        \"\"\"  </ol>\"\"\",\n",
    "        \"\"\"  <aside class=\"carousel__navigation\">\"\"\",\n",
    "        \"\"\"    <ol class=\"carousel__navigation-list\">\"\"\"])\n",
    "\n",
    "    for k in range(1, npub + 1):\n",
    "        text  = f\"\"\"      <li class=\"carousel__navigation-item\">\\n\"\"\"\n",
    "        text += f\"\"\"        <a href=\"#carousel__slide{k}\" class=\"carousel__navigation-button\">Go to {k}</a>\\n\"\"\"\n",
    "        text += f\"\"\"      </li>\"\"\"\n",
    "        carousel.append(text)\n",
    "    carousel.extend([\"\"\"    </ol>\"\"\", \"\"\"  </aside>\"\"\", \"\"\"</section>\"\"\"])\n",
    "\n",
    "    return '\\n'.join(carousel)"
   ]
  },
  {
   "cell_type": "code",
   "execution_count": 12,
   "id": "a6eac5b6",
   "metadata": {
    "execution": {
     "iopub.execute_input": "2023-01-10T04:14:57.538895Z",
     "iopub.status.busy": "2023-01-10T04:14:57.538588Z",
     "iopub.status.idle": "2023-01-10T04:14:57.547472Z",
     "shell.execute_reply": "2023-01-10T04:14:57.546740Z"
    },
    "papermill": {
     "duration": 0.027809,
     "end_time": "2023-01-10T04:14:57.549514",
     "exception": false,
     "start_time": "2023-01-10T04:14:57.521705",
     "status": "completed"
    },
    "scrolled": false,
    "tags": []
   },
   "outputs": [],
   "source": [
    "carousel = create_carousel(npub)\n",
    "docs = ', '.join(['\"{0:s}\"'.format(k.split('/')[-1]) for k in res])\n",
    "slides = ', '.join([f'\"slide{k}_content\"' for k in range(1, npub + 1)])\n",
    "\n",
    "script = f\"\"\"\n",
    "const docs = [{docs}]\n",
    "\n",
    "const slides = [{slides}]\n",
    "\"\"\" + \"\"\"\n",
    "async function run() {\n",
    "    for (let i = 0; i < docs.length; i++) {\n",
    "        let file = await fetch(docs[i]);\n",
    "        let text = await file.text()\n",
    "        document.getElementById(slides[i]).innerHTML =\n",
    "            marked.parse(text);\n",
    "    }\n",
    "    hljs.highlightAll();\n",
    "}\n",
    "run()\n",
    "\"\"\"\n",
    "\n",
    "page = f\"\"\"<!doctype html>\n",
    "<html lang=\"en\">\n",
    "\n",
    "<head>\n",
    "  <meta charset=\"utf-8\">\n",
    "  <meta name=\"viewport\" content=\"width=device-width, initial-scale=1\">\n",
    "  <!-- Bootstrap CSS -->\n",
    "  <link href=\"https://cdn.jsdelivr.net/npm/bootstrap@5.0.2/dist/css/bootstrap.min.css\" rel=\"stylesheet\"\n",
    "   integrity=\"sha384-EVSTQN3/azprG1Anm3QDgpJLIm9Nao0Yz1ztcQTwFspd3yD65VohhpuuCOmLASjC\" crossorigin=\"anonymous\">\n",
    "  <!-- highlight.js CSS -->\n",
    "  <link rel=\"stylesheet\" href=\"https://cdnjs.cloudflare.com/ajax/libs/highlight.js/11.1.0/styles/default.min.css\">\n",
    "  <!-- Mathjax 3 -->\n",
    "  <script type=\"text/javascript\" id=\"MathJax-config\" src=\"mathjax_config.js\"> </script>\n",
    "  <script type=\"text/javascript\" id=\"MathJax-script\" async \n",
    "    src=\"https://cdn.jsdelivr.net/npm/mathjax@3/es5/tex-mml-chtml.js\">\n",
    "  </script>\n",
    "  <link rel=\"stylesheet\" href=\"index_carousel.css\">\n",
    "  <link rel=\"icon\" type=\"image/x-icon\" href=\"https://www.mpia.de/assets/touch-icon-32x32-a66937bcebc4e8894ebff1f41a366c7c7220fd97a38869ee0f2db65a9f59b6c1.png\">\n",
    "  <title>MPIA Arxiv on deck!</title>\n",
    "</head>\n",
    "\n",
    "<body>\n",
    "  <div id=\"header\"> <img src=\"header_banner.png\" width=\"100%\"></div>\n",
    "  <div id=\"suptitle\"> 7-day archives </div>\n",
    "  <div id=\"info\">\n",
    "    <img src=\"https://pngimg.com/uploads/github/github_PNG58.png\" height=30rem></img>\n",
    "    <a href=https://github.com/mpi-astronomy/arxiv_display style=\"color:black;\">github/mpi-astronomy/arxiv_display</a> \n",
    "  </div>\n",
    "  {carousel:s}\n",
    "</body>\n",
    "\n",
    "<!-- Render Markdown -->\n",
    "\n",
    "<body>\n",
    "  <!-- highlight.js: https://highlightjs.org/download/ -->\n",
    "  <script src=\"https://cdnjs.cloudflare.com/ajax/libs/highlight.js/11.5.0/highlight.min.js\"></script>\n",
    "  <!-- marked.js -->\n",
    "  <script src=\"https://cdn.jsdelivr.net/npm/marked/marked.min.js\"></script>\n",
    "  <script>{script:s}</script>\n",
    "</body>\n",
    "</html>\n",
    "\"\"\"\n",
    "with open(\"_build/html/index_7days.html\", 'w') as fout:\n",
    "    fout.write(page)"
   ]
  },
  {
   "cell_type": "markdown",
   "id": "1cebacbc",
   "metadata": {
    "papermill": {
     "duration": 0.019609,
     "end_time": "2023-01-10T04:14:57.588211",
     "exception": false,
     "start_time": "2023-01-10T04:14:57.568602",
     "status": "completed"
    },
    "tags": []
   },
   "source": [
    "# Debugging papers"
   ]
  },
  {
   "cell_type": "raw",
   "id": "debe7cc6",
   "metadata": {
    "papermill": {
     "duration": 0.01689,
     "end_time": "2023-01-10T04:14:57.620109",
     "exception": false,
     "start_time": "2023-01-10T04:14:57.603219",
     "status": "completed"
    },
    "tags": []
   },
   "source": [
    "raise NotImplementedError(\"Manual Stop\")"
   ]
  },
  {
   "cell_type": "raw",
   "id": "eb169192",
   "metadata": {
    "papermill": {
     "duration": 0.014965,
     "end_time": "2023-01-10T04:14:57.652301",
     "exception": false,
     "start_time": "2023-01-10T04:14:57.637336",
     "status": "completed"
    },
    "scrolled": true,
    "tags": []
   },
   "source": [
    "from IPython.display import display, Markdown\n",
    "from TexSoup import TexSoup\n",
    "import re\n",
    "\n",
    "def bracket_error(source: str):\n",
    "    \"\"\" Find problematic portions of the document \"\"\"\n",
    "    \n",
    "    print(\"len(source)\", len(source))\n",
    "    \n",
    "    # Checking header\n",
    "    begin_doc = next(re.finditer(r'\\\\begin\\{document\\}', doc.source)).span()[1]\n",
    "    header = source[:begin_doc]\n",
    "    text = header + r\"\\n\\end{document}\"\n",
    "\n",
    "    try:\n",
    "        # print(\"Header check... \", end='')\n",
    "        TexSoup(text)\n",
    "        display(Markdown(f\"**[OK]** - Header\"))\n",
    "    except:\n",
    "        raise RuntimeError(\"Error in the header\")\n",
    "        \n",
    "    # Check the text per section until the end.\n",
    "    # Do not stop and try them all.\n",
    "    \n",
    "    problematic_text = []\n",
    "    \n",
    "    sections = ([(0, begin_doc, 'until first section')] + \n",
    "                [(g.span()[0], g.span()[1], g.group()) for g in re.finditer(r'\\\\section\\{.*\\}', source)] +\n",
    "                [(g.span()[0], g.span()[1], g.group()) for g in re.finditer(r'\\\\begin\\{appendix\\}', source)]\n",
    "               )\n",
    "    sections.append([len(source), len(source), 'end'])\n",
    "    \n",
    "    sections = sorted(sections, key=lambda x: x[0])\n",
    "    \n",
    "    prev_pos, prev_name = (0, 'header')\n",
    "    parsed = []\n",
    "    \n",
    "    for span, span_end, name in sections:\n",
    "\n",
    "        if span - prev_pos <= 0:\n",
    "            continue\n",
    "            \n",
    "\n",
    "        text = source[prev_pos:span]\n",
    "        if prev_pos > begin_doc:\n",
    "            text = r\"\\n\\begin{document}\" + text + r\"\\n\\end{document}\"\n",
    "        else:\n",
    "            text = text + r\"\\n\\end{document}\"\n",
    "        try:\n",
    "            #print(f\"{prev_pos}:{prev_name}-->{span}:{name} check... \", end='')\n",
    "            parsed.append(TexSoup(text, tolerance=1))  # allow not ending env\n",
    "            display(Markdown(f\"**[OK]** - *{prev_pos}*:{prev_name} &rarr; *{span}*:{name}\"))\n",
    "            # print(\"ok\")\n",
    "\n",
    "            prev_pos = span\n",
    "            prev_name = name\n",
    "        except:\n",
    "            # print(f\"error between {prev_pos} and {span}\")\n",
    "            display(Markdown(f\"**[ERR]** *{prev_pos}*:{prev_name} &rarr; *{span}*:{name}\"))\n",
    "            problematic_text.append((prev_pos, source[prev_pos:span]))\n",
    "            prev_pos = span\n",
    "            prev_name = name\n",
    "            # raise\n",
    "    return problematic_text, parsed\n",
    "\n",
    "\n",
    "def check_environment(text, offset=0):\n",
    "    \"\"\" Check environment \"\"\"\n",
    "    env = re.compile(r\"\\\\begin\\{(?P<env>.*)\\}(.*)\\\\end\\{(?P=env)\\}\", re.DOTALL)\n",
    "\n",
    "    for match in env.finditer(text):\n",
    "        beg, end = match.span()\n",
    "        beg += offset\n",
    "        end += offset\n",
    "        envname = match.groups()[0]\n",
    "        try:\n",
    "            latex.TexSoup(match.group())\n",
    "        except Exception as e:\n",
    "            display(e)\n",
    "            print(f\"Error in {envname:s} between {beg} and {end}\")\n",
    "            return match.groups()[1], beg, end"
   ]
  },
  {
   "cell_type": "raw",
   "id": "2315e835",
   "metadata": {
    "papermill": {
     "duration": 0.014819,
     "end_time": "2023-01-10T04:14:57.681630",
     "exception": false,
     "start_time": "2023-01-10T04:14:57.666811",
     "status": "completed"
    },
    "scrolled": false,
    "tags": []
   },
   "source": [
    "import importlib\n",
    "importlib.reload(latex)\n",
    "which = \"2204.03253\"\n",
    "paper_id = f'{which:s}'\n",
    "folder = f'tmp_{paper_id:s}'\n",
    "\n",
    "if not os.path.isdir(folder):\n",
    "    folder = retrieve_document_source(f\"{paper_id}\", f'tmp_{paper_id}')\n",
    "\n",
    "try:\n",
    "    doc = latex.LatexDocument(folder, validation=validation)    \n",
    "except AffiliationError as affilerror:\n",
    "    msg = f\"ArXiv:{paper_id:s} is not an MPIA paper... \" + str(affilerror)\n",
    "    print(msg)\n",
    "\n",
    "\n",
    "# Hack because sometimes author parsing does not work well\n",
    "if (len(doc.authors) != len(paper['authors'])):\n",
    "    doc._authors = paper['authors']\n",
    "if (doc.abstract) in (None, ''):\n",
    "    doc._abstract = paper['abstract']\n",
    "\n",
    "doc.comment = get_markdown_badge(paper_id) + \" _\" + paper['comments'] + \"_\"\n",
    "doc.highlight_authors_in_list(hl_list)\n",
    "\n",
    "full_md = doc.generate_markdown_text()"
   ]
  },
  {
   "cell_type": "raw",
   "id": "dd3781db",
   "metadata": {
    "papermill": {
     "duration": 0.0149,
     "end_time": "2023-01-10T04:14:57.710830",
     "exception": false,
     "start_time": "2023-01-10T04:14:57.695930",
     "status": "completed"
    },
    "scrolled": false,
    "tags": []
   },
   "source": [
    "doc"
   ]
  },
  {
   "cell_type": "raw",
   "id": "c6eed834",
   "metadata": {
    "papermill": {
     "duration": 0.01536,
     "end_time": "2023-01-10T04:14:57.740787",
     "exception": false,
     "start_time": "2023-01-10T04:14:57.725427",
     "status": "completed"
    },
    "tags": []
   },
   "source": [
    "# [check_environment(k) for k in bracket_error(doc.source)]\n",
    "_, _, a = latex.get_content_per_section(doc.source, verbose=True)\n",
    "if not a:\n",
    "    print(\"no issues per section\")\n",
    "for ak in a:\n",
    "    r = check_environment(ak[1], offset=ak[0])\n",
    "    print(r[1], r[2])\n",
    "    print(r[0])"
   ]
  },
  {
   "cell_type": "code",
   "execution_count": null,
   "id": "71ce768a",
   "metadata": {
    "papermill": {
     "duration": 0.01444,
     "end_time": "2023-01-10T04:14:57.771440",
     "exception": false,
     "start_time": "2023-01-10T04:14:57.757000",
     "status": "completed"
    },
    "tags": []
   },
   "outputs": [],
   "source": []
  }
 ],
 "metadata": {
  "kernelspec": {
   "display_name": "Python 3.10.6 64-bit",
   "language": "python",
   "name": "python3"
  },
  "language_info": {
   "codemirror_mode": {
    "name": "ipython",
    "version": 3
   },
   "file_extension": ".py",
   "mimetype": "text/x-python",
   "name": "python",
   "nbconvert_exporter": "python",
   "pygments_lexer": "ipython3",
   "version": "3.9.16"
  },
  "papermill": {
   "default_parameters": {},
   "duration": 431.302955,
   "end_time": "2023-01-10T04:14:58.107183",
   "environment_variables": {},
   "exception": null,
   "input_path": "MPIA daily digest.ipynb",
   "output_path": "log.ipynb",
   "parameters": {},
   "start_time": "2023-01-10T04:07:46.804228",
   "version": "2.4.0"
  },
  "vscode": {
   "interpreter": {
    "hash": "e7370f93d1d0cde622a1f8e1c04877d8463912d04d973331ad4851f04de6915a"
   }
  },
  "widgets": {
   "application/vnd.jupyter.widget-state+json": {
    "state": {
     "204ef7388a5344b6ad979446aa735b1d": {
      "model_module": "@jupyter-widgets/base",
      "model_module_version": "2.0.0",
      "model_name": "LayoutModel",
      "state": {
       "_model_module": "@jupyter-widgets/base",
       "_model_module_version": "2.0.0",
       "_model_name": "LayoutModel",
       "_view_count": null,
       "_view_module": "@jupyter-widgets/base",
       "_view_module_version": "2.0.0",
       "_view_name": "LayoutView",
       "align_content": null,
       "align_items": null,
       "align_self": null,
       "border_bottom": null,
       "border_left": null,
       "border_right": null,
       "border_top": null,
       "bottom": null,
       "display": null,
       "flex": null,
       "flex_flow": null,
       "grid_area": null,
       "grid_auto_columns": null,
       "grid_auto_flow": null,
       "grid_auto_rows": null,
       "grid_column": null,
       "grid_gap": null,
       "grid_row": null,
       "grid_template_areas": null,
       "grid_template_columns": null,
       "grid_template_rows": null,
       "height": null,
       "justify_content": null,
       "justify_items": null,
       "left": null,
       "margin": null,
       "max_height": null,
       "max_width": null,
       "min_height": null,
       "min_width": null,
       "object_fit": null,
       "object_position": null,
       "order": null,
       "overflow": null,
       "padding": null,
       "right": null,
       "top": null,
       "visibility": null,
       "width": null
      }
     },
     "3e842b7fd40947daa111a453e9747f18": {
      "model_module": "@jupyter-widgets/controls",
      "model_module_version": "2.0.0",
      "model_name": "HTMLStyleModel",
      "state": {
       "_model_module": "@jupyter-widgets/controls",
       "_model_module_version": "2.0.0",
       "_model_name": "HTMLStyleModel",
       "_view_count": null,
       "_view_module": "@jupyter-widgets/base",
       "_view_module_version": "2.0.0",
       "_view_name": "StyleView",
       "background": null,
       "description_width": "",
       "font_size": null,
       "text_color": null
      }
     },
     "401ddd16bb8d4471bd19313a5f27d355": {
      "model_module": "@jupyter-widgets/controls",
      "model_module_version": "2.0.0",
      "model_name": "HTMLStyleModel",
      "state": {
       "_model_module": "@jupyter-widgets/controls",
       "_model_module_version": "2.0.0",
       "_model_name": "HTMLStyleModel",
       "_view_count": null,
       "_view_module": "@jupyter-widgets/base",
       "_view_module_version": "2.0.0",
       "_view_name": "StyleView",
       "background": null,
       "description_width": "",
       "font_size": null,
       "text_color": null
      }
     },
     "54f167eb85d5423d8b1eaf7467be581e": {
      "model_module": "@jupyter-widgets/controls",
      "model_module_version": "2.0.0",
      "model_name": "HBoxModel",
      "state": {
       "_dom_classes": [],
       "_model_module": "@jupyter-widgets/controls",
       "_model_module_version": "2.0.0",
       "_model_name": "HBoxModel",
       "_view_count": null,
       "_view_module": "@jupyter-widgets/controls",
       "_view_module_version": "2.0.0",
       "_view_name": "HBoxView",
       "box_style": "",
       "children": [
        "IPY_MODEL_7414ad636e814d60b917671df7aa83ab",
        "IPY_MODEL_aff00b816ee848668ca3223690f6e617",
        "IPY_MODEL_cae05179f5c64396a4f2ed818902cc23"
       ],
       "layout": "IPY_MODEL_def6c902e385494691574d474857ad57",
       "tabbable": null,
       "tooltip": null
      }
     },
     "5b3ba2925a884f7abe53d476af0a0ae0": {
      "model_module": "@jupyter-widgets/controls",
      "model_module_version": "2.0.0",
      "model_name": "ProgressStyleModel",
      "state": {
       "_model_module": "@jupyter-widgets/controls",
       "_model_module_version": "2.0.0",
       "_model_name": "ProgressStyleModel",
       "_view_count": null,
       "_view_module": "@jupyter-widgets/base",
       "_view_module_version": "2.0.0",
       "_view_name": "StyleView",
       "bar_color": null,
       "description_width": ""
      }
     },
     "7414ad636e814d60b917671df7aa83ab": {
      "model_module": "@jupyter-widgets/controls",
      "model_module_version": "2.0.0",
      "model_name": "HTMLModel",
      "state": {
       "_dom_classes": [],
       "_model_module": "@jupyter-widgets/controls",
       "_model_module_version": "2.0.0",
       "_model_name": "HTMLModel",
       "_view_count": null,
       "_view_module": "@jupyter-widgets/controls",
       "_view_module_version": "2.0.0",
       "_view_name": "HTMLView",
       "description": "",
       "description_allow_html": false,
       "layout": "IPY_MODEL_9c3af322730540fb8de490062a86019a",
       "placeholder": "​",
       "style": "IPY_MODEL_401ddd16bb8d4471bd19313a5f27d355",
       "tabbable": null,
       "tooltip": null,
       "value": "100%"
      }
     },
     "8d6c81a0335d4f919e5aa736e0828292": {
      "model_module": "@jupyter-widgets/base",
      "model_module_version": "2.0.0",
      "model_name": "LayoutModel",
      "state": {
       "_model_module": "@jupyter-widgets/base",
       "_model_module_version": "2.0.0",
       "_model_name": "LayoutModel",
       "_view_count": null,
       "_view_module": "@jupyter-widgets/base",
       "_view_module_version": "2.0.0",
       "_view_name": "LayoutView",
       "align_content": null,
       "align_items": null,
       "align_self": null,
       "border_bottom": null,
       "border_left": null,
       "border_right": null,
       "border_top": null,
       "bottom": null,
       "display": null,
       "flex": null,
       "flex_flow": null,
       "grid_area": null,
       "grid_auto_columns": null,
       "grid_auto_flow": null,
       "grid_auto_rows": null,
       "grid_column": null,
       "grid_gap": null,
       "grid_row": null,
       "grid_template_areas": null,
       "grid_template_columns": null,
       "grid_template_rows": null,
       "height": null,
       "justify_content": null,
       "justify_items": null,
       "left": null,
       "margin": null,
       "max_height": null,
       "max_width": null,
       "min_height": null,
       "min_width": null,
       "object_fit": null,
       "object_position": null,
       "order": null,
       "overflow": null,
       "padding": null,
       "right": null,
       "top": null,
       "visibility": null,
       "width": null
      }
     },
     "9c3af322730540fb8de490062a86019a": {
      "model_module": "@jupyter-widgets/base",
      "model_module_version": "2.0.0",
      "model_name": "LayoutModel",
      "state": {
       "_model_module": "@jupyter-widgets/base",
       "_model_module_version": "2.0.0",
       "_model_name": "LayoutModel",
       "_view_count": null,
       "_view_module": "@jupyter-widgets/base",
       "_view_module_version": "2.0.0",
       "_view_name": "LayoutView",
       "align_content": null,
       "align_items": null,
       "align_self": null,
       "border_bottom": null,
       "border_left": null,
       "border_right": null,
       "border_top": null,
       "bottom": null,
       "display": null,
       "flex": null,
       "flex_flow": null,
       "grid_area": null,
       "grid_auto_columns": null,
       "grid_auto_flow": null,
       "grid_auto_rows": null,
       "grid_column": null,
       "grid_gap": null,
       "grid_row": null,
       "grid_template_areas": null,
       "grid_template_columns": null,
       "grid_template_rows": null,
       "height": null,
       "justify_content": null,
       "justify_items": null,
       "left": null,
       "margin": null,
       "max_height": null,
       "max_width": null,
       "min_height": null,
       "min_width": null,
       "object_fit": null,
       "object_position": null,
       "order": null,
       "overflow": null,
       "padding": null,
       "right": null,
       "top": null,
       "visibility": null,
       "width": null
      }
     },
     "aff00b816ee848668ca3223690f6e617": {
      "model_module": "@jupyter-widgets/controls",
      "model_module_version": "2.0.0",
      "model_name": "FloatProgressModel",
      "state": {
       "_dom_classes": [],
       "_model_module": "@jupyter-widgets/controls",
       "_model_module_version": "2.0.0",
       "_model_name": "FloatProgressModel",
       "_view_count": null,
       "_view_module": "@jupyter-widgets/controls",
       "_view_module_version": "2.0.0",
       "_view_name": "ProgressView",
       "bar_style": "success",
       "description": "",
       "description_allow_html": false,
       "layout": "IPY_MODEL_204ef7388a5344b6ad979446aa735b1d",
       "max": 34.0,
       "min": 0.0,
       "orientation": "horizontal",
       "style": "IPY_MODEL_5b3ba2925a884f7abe53d476af0a0ae0",
       "tabbable": null,
       "tooltip": null,
       "value": 34.0
      }
     },
     "cae05179f5c64396a4f2ed818902cc23": {
      "model_module": "@jupyter-widgets/controls",
      "model_module_version": "2.0.0",
      "model_name": "HTMLModel",
      "state": {
       "_dom_classes": [],
       "_model_module": "@jupyter-widgets/controls",
       "_model_module_version": "2.0.0",
       "_model_name": "HTMLModel",
       "_view_count": null,
       "_view_module": "@jupyter-widgets/controls",
       "_view_module_version": "2.0.0",
       "_view_name": "HTMLView",
       "description": "",
       "description_allow_html": false,
       "layout": "IPY_MODEL_8d6c81a0335d4f919e5aa736e0828292",
       "placeholder": "​",
       "style": "IPY_MODEL_3e842b7fd40947daa111a453e9747f18",
       "tabbable": null,
       "tooltip": null,
       "value": " 34/34 [06:37&lt;00:00,  7.90s/it]"
      }
     },
     "def6c902e385494691574d474857ad57": {
      "model_module": "@jupyter-widgets/base",
      "model_module_version": "2.0.0",
      "model_name": "LayoutModel",
      "state": {
       "_model_module": "@jupyter-widgets/base",
       "_model_module_version": "2.0.0",
       "_model_name": "LayoutModel",
       "_view_count": null,
       "_view_module": "@jupyter-widgets/base",
       "_view_module_version": "2.0.0",
       "_view_name": "LayoutView",
       "align_content": null,
       "align_items": null,
       "align_self": null,
       "border_bottom": null,
       "border_left": null,
       "border_right": null,
       "border_top": null,
       "bottom": null,
       "display": null,
       "flex": null,
       "flex_flow": null,
       "grid_area": null,
       "grid_auto_columns": null,
       "grid_auto_flow": null,
       "grid_auto_rows": null,
       "grid_column": null,
       "grid_gap": null,
       "grid_row": null,
       "grid_template_areas": null,
       "grid_template_columns": null,
       "grid_template_rows": null,
       "height": null,
       "justify_content": null,
       "justify_items": null,
       "left": null,
       "margin": null,
       "max_height": null,
       "max_width": null,
       "min_height": null,
       "min_width": null,
       "object_fit": null,
       "object_position": null,
       "order": null,
       "overflow": null,
       "padding": null,
       "right": null,
       "top": null,
       "visibility": null,
       "width": null
      }
     }
    },
    "version_major": 2,
    "version_minor": 0
   }
  }
 },
 "nbformat": 4,
 "nbformat_minor": 5
}