{
 "cells": [
  {
   "cell_type": "markdown",
   "id": "92bcb855",
   "metadata": {
    "papermill": {
     "duration": 0.004052,
     "end_time": "2024-08-13T04:09:36.065980",
     "exception": false,
     "start_time": "2024-08-13T04:09:36.061928",
     "status": "completed"
    },
    "tags": []
   },
   "source": [
    "# MPIA Arxiv on Deck 2\n",
    "\n",
    "Contains the steps to produce the paper extractions."
   ]
  },
  {
   "cell_type": "code",
   "execution_count": 1,
   "id": "3a0d6e11",
   "metadata": {
    "execution": {
     "iopub.execute_input": "2024-08-13T04:09:36.073255Z",
     "iopub.status.busy": "2024-08-13T04:09:36.072970Z",
     "iopub.status.idle": "2024-08-13T04:09:36.628115Z",
     "shell.execute_reply": "2024-08-13T04:09:36.627499Z"
    },
    "papermill": {
     "duration": 0.560774,
     "end_time": "2024-08-13T04:09:36.629912",
     "exception": false,
     "start_time": "2024-08-13T04:09:36.069138",
     "status": "completed"
    },
    "tags": []
   },
   "outputs": [],
   "source": [
    "# Imports\n",
    "import os\n",
    "from IPython.display import Markdown, display\n",
    "from tqdm.notebook import tqdm\n",
    "import warnings\n",
    "from PIL import Image \n",
    "\n",
    "# requires arxiv_on_deck_2\n",
    "\n",
    "from arxiv_on_deck_2.arxiv2 import (get_new_papers, \n",
    "                                    get_paper_from_identifier,\n",
    "                                    retrieve_document_source, \n",
    "                                    get_markdown_badge)\n",
    "from arxiv_on_deck_2 import (latex,\n",
    "                             latex_bib,\n",
    "                             mpia,\n",
    "                             highlight_authors_in_list)\n",
    "\n",
    "# Sometimes images are really big\n",
    "Image.MAX_IMAGE_PIXELS = 1000000000 "
   ]
  },
  {
   "cell_type": "code",
   "execution_count": 2,
   "id": "22aa9d44",
   "metadata": {
    "execution": {
     "iopub.execute_input": "2024-08-13T04:09:36.637468Z",
     "iopub.status.busy": "2024-08-13T04:09:36.636909Z",
     "iopub.status.idle": "2024-08-13T04:09:36.641894Z",
     "shell.execute_reply": "2024-08-13T04:09:36.641344Z"
    },
    "papermill": {
     "duration": 0.010019,
     "end_time": "2024-08-13T04:09:36.643178",
     "exception": false,
     "start_time": "2024-08-13T04:09:36.633159",
     "status": "completed"
    },
    "tags": []
   },
   "outputs": [],
   "source": [
    "# Some useful definitions.\n",
    "\n",
    "class AffiliationWarning(UserWarning):\n",
    "    pass\n",
    "\n",
    "class AffiliationError(RuntimeError):\n",
    "    pass\n",
    "\n",
    "def validation(source: str):\n",
    "    \"\"\"Raises error paper during parsing of source file\n",
    "    \n",
    "    Allows checks before parsing TeX code.\n",
    "    \n",
    "    Raises AffiliationWarning\n",
    "    \"\"\"\n",
    "    check = mpia.affiliation_verifications(source, verbose=True)\n",
    "    if check is not True:\n",
    "        raise AffiliationError(\"mpia.affiliation_verifications: \" + check)\n",
    "\n",
    "        \n",
    "warnings.simplefilter('always', AffiliationWarning)\n",
    "\n",
    "\n",
    "def get_markdown_qrcode(paper_id: str):\n",
    "    \"\"\" Generate a qrcode to the arxiv page using qrserver.com\n",
    "    \n",
    "    :param paper: Arxiv paper\n",
    "    :returns: markdown text\n",
    "    \"\"\"\n",
    "    url = r\"https://api.qrserver.com/v1/create-qr-code/?size=100x100&data=\"\n",
    "    txt = f\"\"\"<img src={url}\"https://arxiv.org/abs/{paper_id}\">\"\"\"\n",
    "    txt = '<div id=\"qrcode\">' + txt + '</div>'\n",
    "    return txt"
   ]
  },
  {
   "cell_type": "markdown",
   "id": "14bd6310",
   "metadata": {
    "papermill": {
     "duration": 0.002843,
     "end_time": "2024-08-13T04:09:36.648987",
     "exception": false,
     "start_time": "2024-08-13T04:09:36.646144",
     "status": "completed"
    },
    "tags": []
   },
   "source": [
    "## get list of arxiv paper candidates\n",
    "\n",
    "We use the MPIA mitarbeiter list webpage from mpia.de to get author names\n",
    "We then get all new papers from Arxiv and match authors"
   ]
  },
  {
   "cell_type": "code",
   "execution_count": 3,
   "id": "7ea813a8",
   "metadata": {
    "execution": {
     "iopub.execute_input": "2024-08-13T04:09:36.655933Z",
     "iopub.status.busy": "2024-08-13T04:09:36.655610Z",
     "iopub.status.idle": "2024-08-13T04:09:56.444832Z",
     "shell.execute_reply": "2024-08-13T04:09:56.444206Z"
    },
    "papermill": {
     "duration": 19.794319,
     "end_time": "2024-08-13T04:09:56.446320",
     "exception": false,
     "start_time": "2024-08-13T04:09:36.652001",
     "status": "completed"
    },
    "tags": []
   },
   "outputs": [],
   "source": [
    "# deal with the author list and edge cases of people that cannot be consistent on their name  \n",
    "\n",
    "def filter_non_scientists(name: str) -> bool:\n",
    "    \"\"\" Loose filter on expected authorships\n",
    "\n",
    "    removing IT, administration, technical staff\n",
    "    :param name: name\n",
    "    :returns: False if name is not a scientist\n",
    "    \"\"\"\n",
    "    remove_list = ['Wolf', 'Licht', 'Binroth', 'Witzel', 'Jordan',\n",
    "                   'Zähringer', 'Scheerer', 'Hoffmann', 'Düe',\n",
    "                   'Hellmich', 'Enkler-Scharpegge', 'Witte-Nguy',\n",
    "                   'Dehen', 'Beckmann', 'Jager', 'Jäger'\n",
    "                  ]\n",
    "\n",
    "    for k in remove_list:\n",
    "        if k in name:\n",
    "            return False\n",
    "    return True\n",
    "\n",
    "def add_author_to_list(author_list: list) -> list:\n",
    "    \"\"\" Add author to list if not already in list\n",
    "    \n",
    "    :param author: author name\n",
    "    :param author_list: list of authors\n",
    "    :returns: updated list of authors\n",
    "    \"\"\"\n",
    "    add_list = ['T. Henning']\n",
    "\n",
    "    for author in add_list:\n",
    "        if author not in author_list:\n",
    "            author_list.append(author)\n",
    "    return author_list\n",
    "\n",
    "# get list from MPIA website\n",
    "# filter for non-scientists (mpia.get_mpia_mitarbeiter_list() does some filtering)\n",
    "mpia_authors = [k[1] for k in mpia.get_mpia_mitarbeiter_list() if filter_non_scientists(k[1])]\n",
    "# add some missing author because of inconsistencies in their MPIA name and author name on papers\n",
    "mpia_authors = add_author_to_list(mpia_authors)"
   ]
  },
  {
   "cell_type": "code",
   "execution_count": 4,
   "id": "2645e73a",
   "metadata": {
    "execution": {
     "iopub.execute_input": "2024-08-13T04:09:56.453911Z",
     "iopub.status.busy": "2024-08-13T04:09:56.453526Z",
     "iopub.status.idle": "2024-08-13T04:09:57.427265Z",
     "shell.execute_reply": "2024-08-13T04:09:57.426639Z"
    },
    "papermill": {
     "duration": 0.979102,
     "end_time": "2024-08-13T04:09:57.428679",
     "exception": false,
     "start_time": "2024-08-13T04:09:56.449577",
     "status": "completed"
    },
    "tags": []
   },
   "outputs": [
    {
     "name": "stdout",
     "output_type": "stream",
     "text": [
      "K. Jahnke  ->  K. Jahnke  |  ['K. Jahnke']\n",
      "K. Jahnke  ->  K. Jahnke  |  ['K. Jahnke']\n",
      "J. Liu  ->  J. Liu  |  ['J. Liu']\n",
      "J. Eberhardt  ->  J. Eberhardt  |  ['J. Eberhardt']\n",
      "T. Henning  ->  T. Henning  |  ['T. Henning']\n",
      "T. Trifonov  ->  T. Trifonov  |  ['T. Trifonov']\n",
      "B. Maity  ->  B. Maity  |  ['B. Maity']\n"
     ]
    },
    {
     "name": "stdout",
     "output_type": "stream",
     "text": [
      "K. Kreckel  ->  K. Kreckel  |  ['K. Kreckel']\n",
      "K. Jahnke  ->  K. Jahnke  |  ['K. Jahnke']\n",
      "M. Schirmer  ->  M. Schirmer  |  ['M. Schirmer']\n",
      "J. Liu  ->  J. Liu  |  ['J. Liu']\n",
      "Arxiv has 66 new papers today\n",
      "          9 with possible author matches\n"
     ]
    }
   ],
   "source": [
    "new_papers = get_new_papers()\n",
    "# add manual references\n",
    "add_paper_refs = []\n",
    "new_papers.extend([get_paper_from_identifier(k) for k in add_paper_refs])\n",
    "\n",
    "candidates = []\n",
    "for paperk in new_papers:\n",
    "    # Check author list with their initials\n",
    "    normed_author_list = [mpia.get_initials(k) for k in paperk['authors']]\n",
    "    hl_authors = highlight_authors_in_list(normed_author_list, mpia_authors, verbose=True)\n",
    "    matches = [(hl, orig) for hl, orig in zip(hl_authors, paperk['authors']) if 'mark' in hl]\n",
    "    paperk['authors'] = hl_authors\n",
    "    if matches:\n",
    "        # only select paper if an author matched our list\n",
    "        candidates.append(paperk)\n",
    "print(\"\"\"Arxiv has {0:,d} new papers today\"\"\".format(len(new_papers)))        \n",
    "print(\"\"\"          {0:,d} with possible author matches\"\"\".format(len(candidates)))"
   ]
  },
  {
   "cell_type": "markdown",
   "id": "3543b34a",
   "metadata": {
    "papermill": {
     "duration": 0.003147,
     "end_time": "2024-08-13T04:09:57.437027",
     "exception": false,
     "start_time": "2024-08-13T04:09:57.433880",
     "status": "completed"
    },
    "tags": []
   },
   "source": [
    "# Parse sources and generate relevant outputs\n",
    "\n",
    "From the candidates, we do the following steps:\n",
    "* get their tarball from ArXiv (and extract data)\n",
    "* find the main .tex file: find one with \\documentclass{...} (sometimes it's non trivial)\n",
    "* Check affiliations with :func:`validation`, which uses :func:`mpia.affiliation_verifications`\n",
    "* If passing the affiliations: we parse the .tex source\n",
    "   * inject sub-documents into the main (flatten the main document)\n",
    "   * parse structure, extract information (title, abstract, authors, figures...)\n",
    "   * handles `\\graphicspath` if provided\n",
    "* Generate the .md document."
   ]
  },
  {
   "cell_type": "code",
   "execution_count": 5,
   "id": "9576b79e",
   "metadata": {
    "execution": {
     "iopub.execute_input": "2024-08-13T04:09:57.444458Z",
     "iopub.status.busy": "2024-08-13T04:09:57.444039Z",
     "iopub.status.idle": "2024-08-13T04:11:46.575299Z",
     "shell.execute_reply": "2024-08-13T04:11:46.574489Z"
    },
    "papermill": {
     "duration": 109.13708,
     "end_time": "2024-08-13T04:11:46.577235",
     "exception": false,
     "start_time": "2024-08-13T04:09:57.440155",
     "status": "completed"
    },
    "scrolled": false,
    "tags": []
   },
   "outputs": [
    {
     "data": {
      "application/vnd.jupyter.widget-view+json": {
       "model_id": "41c0678857ed438ea3b75c7a6938e529",
       "version_major": 2,
       "version_minor": 0
      },
      "text/plain": [
       "  0%|          | 0/9 [00:00<?, ?it/s]"
      ]
     },
     "metadata": {},
     "output_type": "display_data"
    },
    {
     "name": "stdout",
     "output_type": "stream",
     "text": [
      "Retrieving document from  https://arxiv.org/e-print/2408.05275\n"
     ]
    },
    {
     "name": "stdout",
     "output_type": "stream",
     "text": [
      "extracting tarball to tmp_2408.05275..."
     ]
    },
    {
     "name": "stdout",
     "output_type": "stream",
     "text": [
      " done.\n"
     ]
    },
    {
     "name": "stdout",
     "output_type": "stream",
     "text": [
      "Found 121 bibliographic references in tmp_2408.05275/AandA.bbl.\n",
      "syntax error in line 536: '=' expected\n",
      "Retrieving document from  https://arxiv.org/e-print/2408.05292\n"
     ]
    },
    {
     "name": "stdout",
     "output_type": "stream",
     "text": [
      "extracting tarball to tmp_2408.05292..."
     ]
    },
    {
     "name": "stdout",
     "output_type": "stream",
     "text": [
      " done.\n",
      "Retrieving document from  https://arxiv.org/e-print/2408.05296\n"
     ]
    },
    {
     "name": "stderr",
     "output_type": "stream",
     "text": [
      "/opt/hostedtoolcache/Python/3.9.19/x64/lib/python3.9/site-packages/IPython/core/interactiveshell.py:3550: LatexWarning: Multiple tex files.\n",
      "\n",
      "  exec(code_obj, self.user_global_ns, self.user_ns)\n",
      "/tmp/ipykernel_2728/1211882699.py:51: LatexWarning: 2408.05292 did not run properly\n",
      "'PosixPath' object is not subscriptable\n",
      "  warnings.warn(latex.LatexWarning(f\"{paper_id:s} did not run properly\\n\" +\n"
     ]
    },
    {
     "name": "stdout",
     "output_type": "stream",
     "text": [
      "extracting tarball to tmp_2408.05296..."
     ]
    },
    {
     "name": "stdout",
     "output_type": "stream",
     "text": [
      " done.\n"
     ]
    },
    {
     "name": "stdout",
     "output_type": "stream",
     "text": [
      "Found 66 bibliographic references in tmp_2408.05296/catalog.bbl.\n",
      "syntax error in line 256: '=' expected\n",
      "Retrieving document from  https://arxiv.org/e-print/2408.05381\n"
     ]
    },
    {
     "name": "stdout",
     "output_type": "stream",
     "text": [
      "extracting tarball to tmp_2408.05381..."
     ]
    },
    {
     "name": "stdout",
     "output_type": "stream",
     "text": [
      " done.\n",
      "Retrieving document from  https://arxiv.org/e-print/2408.05612\n"
     ]
    },
    {
     "name": "stdout",
     "output_type": "stream",
     "text": [
      "extracting tarball to tmp_2408.05612..."
     ]
    },
    {
     "name": "stdout",
     "output_type": "stream",
     "text": [
      " done.\n"
     ]
    },
    {
     "name": "stdout",
     "output_type": "stream",
     "text": [
      "Found 134 bibliographic references in tmp_2408.05612/template.bbl.\n",
      "syntax error in line 242: '=' expected\n",
      "Retrieving document from  https://arxiv.org/e-print/2408.05722\n"
     ]
    },
    {
     "name": "stdout",
     "output_type": "stream",
     "text": [
      "extracting tarball to tmp_2408.05722..."
     ]
    },
    {
     "name": "stdout",
     "output_type": "stream",
     "text": [
      " done.\n"
     ]
    },
    {
     "name": "stderr",
     "output_type": "stream",
     "text": [
      "/opt/hostedtoolcache/Python/3.9.19/x64/lib/python3.9/site-packages/arxiv_on_deck_2/latex.py:488: LatexWarning: Error parsing the document directly. Trying to recover.\n",
      "  warnings.warn(LatexWarning(f\"Error parsing the document directly. Trying to recover.\"))\n"
     ]
    },
    {
     "name": "stdout",
     "output_type": "stream",
     "text": [
      "✔ → 0:header\n",
      "  ↳ 3386:\\section{Introduction}\n",
      "✔ → 3386:\\section{Introduction}\n",
      "  ↳ 12167:\\section{Reionization Model}\n"
     ]
    },
    {
     "name": "stdout",
     "output_type": "stream",
     "text": [
      "✔ → 12167:\\section{Reionization Model}\n",
      "  ↳ 20694:\\section{Dispersion Measure (DM) of FRBs}\n"
     ]
    },
    {
     "name": "stdout",
     "output_type": "stream",
     "text": [
      "✔ → 20694:\\section{Dispersion Measure (DM) of FRBs}\n",
      "  ↳ 25731:\\section{DM variations with parameters}\n",
      "✔ → 25731:\\section{DM variations with parameters}\n",
      "  ↳ 28568:\\section{Generating Mock Data}\n"
     ]
    },
    {
     "name": "stdout",
     "output_type": "stream",
     "text": [
      "✔ → 28568:\\section{Generating Mock Data}\n",
      "  ↳ 36206:\\section{Parameter Space Exploration}\n"
     ]
    },
    {
     "name": "stdout",
     "output_type": "stream",
     "text": [
      "✔ → 36206:\\section{Parameter Space Exploration}\n",
      "  ↳ 40886:\\section{Results}\n"
     ]
    },
    {
     "name": "stdout",
     "output_type": "stream",
     "text": [
      "✔ → 40886:\\section{Results}\n",
      "  ↳ 57417:\\section{Summary \\& Conclusions}\n",
      "✔ → 57417:\\section{Summary \\& Conclusions}\n",
      "  ↳ 63355:end\n"
     ]
    },
    {
     "name": "stdout",
     "output_type": "stream",
     "text": [
      "B. Maity  ->  B. Maity  |  ['B. Maity']\n"
     ]
    },
    {
     "name": "stdout",
     "output_type": "stream",
     "text": [
      "Found 81 bibliographic references in tmp_2408.05722/frb_aanda.bbl.\n",
      "Retrieving document from  https://arxiv.org/e-print/2408.06215\n"
     ]
    },
    {
     "name": "stdout",
     "output_type": "stream",
     "text": [
      "extracting tarball to tmp_2408.06215... done.\n",
      "Retrieving document from  https://arxiv.org/e-print/2408.06217\n"
     ]
    },
    {
     "name": "stdout",
     "output_type": "stream",
     "text": [
      "extracting tarball to tmp_2408.06217..."
     ]
    },
    {
     "name": "stdout",
     "output_type": "stream",
     "text": [
      " done.\n",
      "Retrieving document from  https://arxiv.org/e-print/2408.06338\n"
     ]
    },
    {
     "name": "stderr",
     "output_type": "stream",
     "text": [
      "/opt/hostedtoolcache/Python/3.9.19/x64/lib/python3.9/site-packages/IPython/core/interactiveshell.py:3550: LatexWarning: Multiple tex files.\n",
      "\n",
      "  exec(code_obj, self.user_global_ns, self.user_ns)\n",
      "/tmp/ipykernel_2728/1211882699.py:51: LatexWarning: 2408.06217 did not run properly\n",
      "'PosixPath' object is not subscriptable\n",
      "  warnings.warn(latex.LatexWarning(f\"{paper_id:s} did not run properly\\n\" +\n"
     ]
    },
    {
     "name": "stdout",
     "output_type": "stream",
     "text": [
      "extracting tarball to tmp_2408.06338... done.\n"
     ]
    }
   ],
   "source": [
    "documents = []\n",
    "failed = []\n",
    "for paper in tqdm(candidates):\n",
    "    # debug crap\n",
    "    paper['identifier'] = paper['identifier'].lower().replace('arxiv:', '').replace(r'\\n', '').strip()\n",
    "    paper_id = paper['identifier']\n",
    "    \n",
    "    folder = f'tmp_{paper_id}'\n",
    "\n",
    "    try:\n",
    "        if not os.path.isdir(folder):\n",
    "            folder = retrieve_document_source(f\"{paper_id}\", f'tmp_{paper_id}')\n",
    "        \n",
    "        try:\n",
    "            doc = latex.LatexDocument(folder, validation=validation)    \n",
    "        except AffiliationError as affilerror:\n",
    "            msg = f\"ArXiv:{paper_id:s} is not an MPIA paper... \" + str(affilerror)\n",
    "            failed.append((paper, \"affiliation error: \" + str(affilerror) ))\n",
    "            continue\n",
    "        \n",
    "        # Hack because sometimes author parsing does not work well\n",
    "        if (len(doc.authors) != len(paper['authors'])):\n",
    "            doc._authors = paper['authors']\n",
    "        else:\n",
    "            # highlight authors (FIXME: doc.highlight_authors)\n",
    "            # done on arxiv paper already\n",
    "            doc._authors = highlight_authors_in_list(\n",
    "                [mpia.get_initials(k) for k in doc.authors], \n",
    "                mpia_authors, verbose=True)\n",
    "        if (doc.abstract) in (None, ''):\n",
    "            doc._abstract = paper['abstract']\n",
    "            \n",
    "        doc.comment = (get_markdown_badge(paper_id) + \n",
    "                       \"<mark>Appeared on: \" + paper['date'] + \"</mark> - \")\n",
    "        if paper['comments']:\n",
    "            doc.comment += \" _\" + paper['comments'] + \"_\"\n",
    "        \n",
    "        full_md = doc.generate_markdown_text()\n",
    "        \n",
    "        full_md += get_markdown_qrcode(paper_id)\n",
    "        \n",
    "        # replace citations\n",
    "        try:\n",
    "            bibdata = latex_bib.LatexBib.from_doc(doc)\n",
    "            full_md = latex_bib.replace_citations(full_md, bibdata)\n",
    "        except Exception as e:\n",
    "            print(e)\n",
    "        \n",
    "        documents.append((paper_id, full_md))\n",
    "    except Exception as e:\n",
    "        warnings.warn(latex.LatexWarning(f\"{paper_id:s} did not run properly\\n\" +\n",
    "                                         str(e)\n",
    "                                        ))\n",
    "        failed.append((paper, \"latex error \" + str(e)))"
   ]
  },
  {
   "cell_type": "markdown",
   "id": "2505a25c",
   "metadata": {
    "papermill": {
     "duration": 0.004663,
     "end_time": "2024-08-13T04:11:46.586905",
     "exception": false,
     "start_time": "2024-08-13T04:11:46.582242",
     "status": "completed"
    },
    "tags": []
   },
   "source": [
    "### Export the logs\n",
    "\n",
    "Throughout, we also keep track of the logs per paper. see `logs-{today date}.md` "
   ]
  },
  {
   "cell_type": "code",
   "execution_count": 6,
   "id": "d733828a",
   "metadata": {
    "execution": {
     "iopub.execute_input": "2024-08-13T04:11:46.597571Z",
     "iopub.status.busy": "2024-08-13T04:11:46.597110Z",
     "iopub.status.idle": "2024-08-13T04:11:46.618379Z",
     "shell.execute_reply": "2024-08-13T04:11:46.617763Z"
    },
    "papermill": {
     "duration": 0.02816,
     "end_time": "2024-08-13T04:11:46.619730",
     "exception": false,
     "start_time": "2024-08-13T04:11:46.591570",
     "status": "completed"
    },
    "scrolled": false,
    "tags": []
   },
   "outputs": [
    {
     "data": {
      "text/markdown": [
       "## Successful papers"
      ],
      "text/plain": [
       "<IPython.core.display.Markdown object>"
      ]
     },
     "metadata": {},
     "output_type": "display_data"
    },
    {
     "data": {
      "text/markdown": [
       "\n",
       "|||\n",
       "|---:|:---|\n",
       "| [![arXiv](https://img.shields.io/badge/arXiv-2408.05275-b31b1b.svg)](https://arxiv.org/abs/2408.05275) | **Euclid preparation. The Cosmic Dawn Survey (DAWN) of the Euclid Deep and Auxiliary Fields**  |\n",
       "|| E. Collaboration, et al. -- incl., <mark>K. Jahnke</mark> |\n",
       "|*Appeared on*| *2024-08-13*|\n",
       "|*Comments*| *16 pages, 10 figures, submitted to A&A*|\n",
       "|**Abstract**|            Euclid will provide deep NIR imaging to $\\sim$26.5 AB magnitude over $\\sim$59 deg$^2$ in its deep and auxiliary fields. The Cosmic DAWN survey complements the deep Euclid data with matched depth multiwavelength imaging and spectroscopy in the UV--IR to provide consistently processed Euclid selected photometric catalogs, accurate photometric redshifts, and measurements of galaxy properties to a redshift of $z\\sim 10$. In this paper, we present an overview of the survey, including the footprints of the survey fields, the existing and planned observations, and the primary science goals for the combined data set.         |"
      ],
      "text/plain": [
       "[2408.05275] Euclid preparation. The Cosmic Dawn Survey (DAWN) of the Euclid Deep and Auxiliary Fields\n",
       "\tE. Collaboration, et al. -- incl., <mark>K. Jahnke</mark>"
      ]
     },
     "metadata": {},
     "output_type": "display_data"
    },
    {
     "data": {
      "text/markdown": [
       "\n",
       "|||\n",
       "|---:|:---|\n",
       "| [![arXiv](https://img.shields.io/badge/arXiv-2408.05296-b31b1b.svg)](https://arxiv.org/abs/2408.05296) | **Euclid preparation. Cosmic Dawn Survey: Data release 1 multiwavelength catalogues for Euclid Deep Field North and Euclid Deep Field Fornax**  |\n",
       "|| E. Collaboration, et al. -- incl., <mark>K. Jahnke</mark> |\n",
       "|*Appeared on*| *2024-08-13*|\n",
       "|*Comments*| **|\n",
       "|**Abstract**|            The Cosmic Dawn Survey (DAWN survey) provides multiwavelength (UV/optical to mid-IR) data across the combined 59 deg$^{2}$ of the Euclid Deep and Auxiliary fields (EDFs and EAFs). Here, the first public data release (DR1) from the DAWN survey is presented. DR1 catalogues are made available for a subset of the full DAWN survey that consists of two Euclid Deep fields: Euclid Deep Field North (EDF-N) and Euclid Deep Field Fornax (EDF-F). The DAWN survey DR1 catalogues do not include $Euclid$ data as they are not yet public for these fields. Nonetheless, each field has been covered by the ongoing Hawaii Twenty Square Degree Survey (H20), which includes imaging from CFHT MegaCam in the new $u$ filter and from Subaru Hyper Suprime-Cam (HSC) in the $griz$ filters. Each field is further covered by $Spitzer$/IRAC 3.6-4.5$\\mu$m imaging spanning 10 deg$^{2}$ and reaching $\\sim$25 mag AB (5$\\sigma$). All present H20 imaging and all publicly available imaging from the aforementioned facilities are combined with the deep $Spitzer$/IRAC data to create source catalogues spanning a total area of 16.87 deg$^{2}$ in EDF-N and 2.85 deg$^{2}$ in EDF-F for this first release. Photometry is measured using The Farmer, a well-validated model-based photometry code. Photometric redshifts and stellar masses are computed using two independent codes for modeling spectral energy distributions: EAZY and LePhare. Photometric redshifts show good agreement with spectroscopic redshifts ($\\sigma_{\\rm NMAD} \\sim 0.5, \\eta < 8\\%$ at $i < 25$). Number counts, photometric redshifts, and stellar masses are further validated in comparison to the COSMOS2020 catalogue. The DAWN survey DR1 catalogues are designed to be of immediate use in these two EDFs and will be continuously updated. Future data releases will provide catalogues of all EDFs and EAFs and include $Euclid$ data.         |"
      ],
      "text/plain": [
       "[2408.05296] Euclid preparation. Cosmic Dawn Survey: Data release 1 multiwavelength catalogues for Euclid Deep Field North and Euclid Deep Field Fornax\n",
       "\tE. Collaboration, et al. -- incl., <mark>K. Jahnke</mark>"
      ]
     },
     "metadata": {},
     "output_type": "display_data"
    },
    {
     "data": {
      "text/markdown": [
       "\n",
       "|||\n",
       "|---:|:---|\n",
       "| [![arXiv](https://img.shields.io/badge/arXiv-2408.05612-b31b1b.svg)](https://arxiv.org/abs/2408.05612) | **Mass determination of two Jupiter-sized planets orbiting slightly evolved stars: TOI-2420 b and TOI-2485 b**  |\n",
       "|| I. Carleo, et al. -- incl., <mark>J. Eberhardt</mark>, <mark>T. Henning</mark>, <mark>T. Trifonov</mark> |\n",
       "|*Appeared on*| *2024-08-13*|\n",
       "|*Comments*| **|\n",
       "|**Abstract**|            Hot and warm Jupiters might have undergone the same formation and evolution path, but the two populations exhibit different distributions of orbital parameters, challenging our understanding on their actual origin. The present work, which is the results of our warm Jupiters survey carried out with the CHIRON spectrograph within the KESPRINT collaboration, aims to address this challenge by studying two planets that could help bridge the gap between the two populations. We report the confirmation and mass determination of a hot Jupiter (orbital period shorter than 10 days), TOI-2420\\,b, and a warm Jupiter, TOI-2485\\,b. We performed a joint analysis using a wide variety of spectral and photometric data in order to characterize these planetary systems. We found that TOI-2420\\,b has an orbital period of P$_{\\rm b}$=5.8 days, a mass of M$_{\\rm b}$=0.9 M$_{\\rm J}$ and a radius of R$_{\\rm b}$=1.3 R$_{\\rm J}$, with a planetary density of 0.477 \\gc; while TOI-2485\\,b has an orbital period of P$_{\\rm b}$=11.2 days, a mass of M$_{\\rm b}$=2.4 M$_{\\rm J}$ and a radius of R$_{\\rm b}$=1.1 R$_{\\rm J}$ with density 2.36 \\gc. With current parameters, the migration history for TOI-2420\\,b and TOI-2485\\,b is unclear: the high-eccentricity migration scenarios cannot be ruled out, and TOI-2485\\,b's characteristics may rather support this scenario.         |"
      ],
      "text/plain": [
       "[2408.05612] Mass determination of two Jupiter-sized planets orbiting slightly evolved stars: TOI-2420 b and TOI-2485 b\n",
       "\tI. Carleo, et al. -- incl., <mark>J. Eberhardt</mark>, <mark>T. Henning</mark>, <mark>T. Trifonov</mark>"
      ]
     },
     "metadata": {},
     "output_type": "display_data"
    },
    {
     "data": {
      "text/markdown": [
       "\n",
       "|||\n",
       "|---:|:---|\n",
       "| [![arXiv](https://img.shields.io/badge/arXiv-2408.05722-b31b1b.svg)](https://arxiv.org/abs/2408.05722) | **Prospects of FRBs and Large Scale 21 cm Power Spectra in Constraining the Epoch of Reionization**  |\n",
       "|| <mark>B. Maity</mark> |\n",
       "|*Appeared on*| *2024-08-13*|\n",
       "|*Comments*| *Accepted for publication in A&A*|\n",
       "|**Abstract**|            The Epoch of Reionization (EoR) is a crucial link to grasp the complete evolutionary history of the universe. Several attempts with a variety of observables have been utilized in the past to understand the thermal and ionization evolution of the Intergalactic Medium during EoR. In this study, we explore the simultaneous prospects of two important observables which are expected to be available in the near future, i.e. Dispersion Measure (DM) of high redshift FRBs and large scale 21 cm power spectra. For this purpose, we use an earlier developed explicitly photon conserving semi numerical model, $\\texttt{SCRIPT}$ including realistic recombination and radiative feedback effect. We check that DM evolution of 100 mock FRBs at high redshifts ($7.0\\le z\\le15.0$) is sufficient to recover the underlying reionization model, while 1000 FRB mocks at redshift range can constrain the reionization timeline within the percentage level uncertainties at 68\\% confidence limit. Further, we study the effect of including large scale 21~cm power spectra (using only a single bin, $k\\sim0.14~h/\\mathrm{cMpc}$) at three redshifts along with FRB DM distribution. The joint exploration using these two observables can significantly improve the constraints on the various parameters ($\\lesssim 8\\%$ uncertainties for reionization interval and midpoint at 95\\% confidence) alleviating the degeneracies and can narrow down the thermal history of the universe by discarding some of the extreme heating models.         |"
      ],
      "text/plain": [
       "[2408.05722] Prospects of FRBs and Large Scale 21 cm Power Spectra in Constraining the Epoch of Reionization\n",
       "\t<mark>B. Maity</mark>"
      ]
     },
     "metadata": {},
     "output_type": "display_data"
    },
    {
     "data": {
      "text/markdown": [
       "## Failed papers"
      ],
      "text/plain": [
       "<IPython.core.display.Markdown object>"
      ]
     },
     "metadata": {},
     "output_type": "display_data"
    },
    {
     "data": {
      "text/markdown": [
       "\n",
       "|||\n",
       "|---:|:---|\n",
       "| [![arXiv](https://img.shields.io/badge/arXiv-2408.06215-b31b1b.svg)](https://arxiv.org/abs/2408.06215) | **Gas-phase Fe/O and Fe/N abundances in Star-Forming Regions. Relations between nucleosynthesis, metallicity and dust**  |\n",
       "|| J. E. Méndez-Delgado, et al. -- incl., <mark>K. Kreckel</mark> |\n",
       "|*Appeared on*| *2024-08-13*|\n",
       "|*Comments*| *Accepted for publication in A&A*|\n",
       "|**Abstract**|            In stars, metallicity is usually traced using Fe, while in nebulae, O serves as the preferred proxy. Both elements have different nucleosynthetic origins and are not directly comparable. Additionally, in ionized nebulae, Fe is heavily depleted onto dust grains. We investigate the distribution of Fe gas abundances in a sample of 452 star-forming nebulae with \\feiii~$\\lambda 4658$ detections and their relationship with O and N. Additionally, we analyze the depletion of Fe onto dust grains in photoionized environments. We homogeneously determine the chemical abundances with direct determinations of electron temperature ($T_e$), considering the effect of possible internal variations of this parameter. We adopt a sample of 300 Galactic stars to interpret the nebular findings. We find a moderate linear correlation ($r=-0.59$) between Fe/O and O/H. In turn, we report a stronger correlation ($r=-0.80$) between Fe/N and N/H. We interpret the tighter correlation as evidence of Fe and N being produced on similar timescales while Fe-dust depletion scales with the Fe availability. The apparently flat distribution between Fe/N and N/H in Milky Way stars supports this interpretation. We find that when 12+log(O/H)<7.6, the nebulae seem to reach a plateau value around $\\text{log(Fe/O)} \\approx -1.7$. If this trend is confirmed, it would be consistent with a very small amount of Fe-dust in these systems, similar to what is observed in high-z galaxies discovered by the James Webb Space Telescope (JWST). We derive a relationship that allows us to approximate the fraction of Fe trapped into dust in ionized nebulae. If the O-dust scales in the same way, its possible contribution in low metallicity nebulae would be negligible. After analyzing the Fe/O abundances in J0811+4730 and J1631+4426, we do not see evidence of the presence of very massive stars with $M_\\text{init}>300M_{\\odot}$ in these systems.         |\n",
       "|<p style=\"color:green\"> **ERROR** </p>| <p style=\"color:green\">affiliation error: mpia.affiliation_verifications: '69117' keyword not found.</p> |"
      ],
      "text/plain": [
       "<IPython.core.display.Markdown object>"
      ]
     },
     "metadata": {},
     "output_type": "display_data"
    },
    {
     "data": {
      "text/markdown": [
       "\n",
       "|||\n",
       "|---:|:---|\n",
       "| [![arXiv](https://img.shields.io/badge/arXiv-2408.05381-b31b1b.svg)](https://arxiv.org/abs/2408.05381) | **Statistics of Solar White-Light Flares I: Optimization of Identification Methods and Application**  |\n",
       "|| Y. Cai, Y. Hou, T. Li, <mark>J. Liu</mark> |\n",
       "|*Appeared on*| *2024-08-13*|\n",
       "|*Comments*| *Comments welcome. 18 pages, 9 figures, 1 table*|\n",
       "|**Abstract**|            White-light flares (WLFs) are energetic activity in stellar atmosphere. However, the observed solar WLF is relatively rare compared to stellar WLFs or solar flares observed at other wavelengths, limiting our further understanding solar/stellar WLFs through statistical studies. By analyzing flare observations from the \\emph{Solar Dynamics Observatory (SDO)}, here we improve WLF identification methods for obtaining more solar WLFs and their accurate light curves from two aspects: 1) imposing constraints defined by the typical temporal and spatial distribution characteristics of WLF-induced signals; 2) setting the intrinsic threshold for each pixel in the flare ribbon region according to its inherent background fluctuation rather than a fixed threshold for the whole region. Applying the optimized method to 90 flares (30 C-class ones, 30 M-class ones, and 30 X-class ones) for a statistical study, we identified a total of 9 C-class WLFs, 18 M-class WLFs, and 28 X-class WLFs. The WLF identification rate of C-class flares reported here reaches 30\\%, which is the highest to date to our best knowledge. It is also revealed that in each GOES energy level, the proportion of WLFs is higher in confined flares than that in eruptive flares. Moreover, a power-law relation is found between the WLF energy (\\emph{E}) and duration ($\\tau$): $\\tau \\propto {E}^{0.22}$, similar to those of solar hard/soft X-ray flares and other stellar WLFs. These results indicate that we could recognize more solar WLFs through optimizing the identification method, which will lay a base for future statistical and comparison study of solar and stellar WLFs.         |\n",
       "|<p style=\"color:green\"> **ERROR** </p>| <p style=\"color:green\">affiliation error: mpia.affiliation_verifications: 'Heidelberg' keyword not found.</p> |"
      ],
      "text/plain": [
       "<IPython.core.display.Markdown object>"
      ]
     },
     "metadata": {},
     "output_type": "display_data"
    },
    {
     "data": {
      "text/markdown": [
       "\n",
       "|||\n",
       "|---:|:---|\n",
       "| [![arXiv](https://img.shields.io/badge/arXiv-2408.06338-b31b1b.svg)](https://arxiv.org/abs/2408.06338) | **Closeby Habitable Exoplanet Survey (CHES). II. An Observation Strategy for the Target Stars**  |\n",
       "|| D. Tan, et al. -- incl., <mark>J. Liu</mark> |\n",
       "|*Appeared on*| *2024-08-13*|\n",
       "|*Comments*| *20 pages, 12 figures, accepted for publication in AJ*|\n",
       "|**Abstract**|            The Closeby Habitable Exoplanet Survey (CHES) constitutes a mission intricately designed to systematically survey approximately 100 solar-type stars located within the immediate proximity of the solar system, specifically within a range of 10 parsecs. The core objective of this mission is the detection and characterization of potentially habitable Earth-like planets or super-Earths within the habitable zone of these stars. The CHES mission obtains high-precision astrometric measurements of planets orbiting the target stars by observing angular distance variations between the target star and reference stars. As a result, we surveyed the relevant parameters of both target and reference stars in detail, conducting a thorough analysis and calculation of the required observation accuracy, the number of observations, and the priority assigned to each target star. Observational emphasis will be concentrated on targets considered of higher priority, ensuring the effectiveness of their observation capabilities. Through this approach, we formulate a five-year observation strategy that will cover all the target stars within a six-month timeframe. The strategy not only fulfills the required observing capability but also exhibit high efficiency simultaneously, providing an executable program for future mission. Over the span of the mission's five-year duration, a cumulative observation time of 29,220 hours will be available. Approximately 86 percent of this, totaling 25,120 hours, is allocated for the observation of target stars. This allocation leaves approximately 4,100 hours for extended scientific observation programs. We have also performed simulated observations based on this strategy and verified its observational capability for exoplanets.         |\n",
       "|<p style=\"color:green\"> **ERROR** </p>| <p style=\"color:green\">affiliation error: mpia.affiliation_verifications: 'Heidelberg' keyword not found.</p> |"
      ],
      "text/plain": [
       "<IPython.core.display.Markdown object>"
      ]
     },
     "metadata": {},
     "output_type": "display_data"
    },
    {
     "data": {
      "text/markdown": [
       "\n",
       "|||\n",
       "|---:|:---|\n",
       "| [![arXiv](https://img.shields.io/badge/arXiv-2408.05292-b31b1b.svg)](https://arxiv.org/abs/2408.05292) | **Large-scale cosmic ray anisotropies with 19 years of data from the Pierre Auger Observatory**  |\n",
       "|| P. A. Collaboration, et al. |\n",
       "|*Appeared on*| *2024-08-13*|\n",
       "|*Comments*| **|\n",
       "|**Abstract**|            Results are presented for the measurement of large-scale anisotropies in the arrival directions of ultra-high-energy cosmic rays detected at the Pierre Auger Observatory during 19 years of operation, prior to AugerPrime, the upgrade of the Observatory. The 3D dipole amplitude and direction are reconstructed above $4\\,$EeV in four energy bins. Besides the established dipolar anisotropy in right ascension above $8\\,$EeV, the Fourier amplitude of the $8$ to $16\\,$EeV energy bin is now also above the $5\\sigma$ discovery level. No time variation of the dipole moment above $8\\,$EeV is found, setting an upper limit to the rate of change of such variations of $0.3\\%$ per year at the $95\\%$ confidence level. Additionally, the results for the angular power spectrum are shown, demonstrating no other statistically significant multipoles. The results for the equatorial dipole component down to $0.03\\,$EeV are presented, using for the first time a data set obtained with a trigger that has been optimized for lower energies. Finally, model predictions are discussed and compared with observations, based on two source emission scenarios obtained in the combined fit of spectrum and composition above $0.6\\,$EeV.         |\n",
       "|<p style=\"color:red\"> **ERROR** </p>| <p style=\"color:red\">latex error 'PosixPath' object is not subscriptable</p> |"
      ],
      "text/plain": [
       "<IPython.core.display.Markdown object>"
      ]
     },
     "metadata": {},
     "output_type": "display_data"
    },
    {
     "data": {
      "text/markdown": [
       "\n",
       "|||\n",
       "|---:|:---|\n",
       "| [![arXiv](https://img.shields.io/badge/arXiv-2408.06217-b31b1b.svg)](https://arxiv.org/abs/2408.06217) | **Euclid: The Early Release Observations Lens Search Experiment**  |\n",
       "|| J. A. A. Barroso, et al. -- incl., <mark>K. Jahnke</mark>, <mark>M. Schirmer</mark> |\n",
       "|*Appeared on*| *2024-08-13*|\n",
       "|*Comments*| *21 pages, 20 figures, submitted to A&A*|\n",
       "|**Abstract**|            We investigate the ability of the Euclid telescope to detect galaxy-scale gravitational lenses. To do so, we perform a systematic visual inspection of the $0.7\\,\\rm{deg}^2$ Euclid ERO data towards the Perseus cluster using both the high-resolution VIS $I_{\\scriptscriptstyle\\rm E}$ band, and the lower resolution NISP bands. We inspect every extended source brighter than magnitude $23$ in $I_{\\scriptscriptstyle\\rm E}$ with $41$ expert human classifiers. This amounts to $12\\,086$ stamps of $10^{\\prime\\prime}\\,\\times\\,10^{\\prime\\prime}$. We find $3$ grade A and $13$ grade B candidates. We assess the validity of these $16$ candidates by modelling them and checking that they are consistent with a single source lensed by a plausible mass distribution. Five of the candidates pass this check, five others are rejected by the modelling and six are inconclusive. Extrapolating from the five successfully modelled candidates, we infer that the full $14\\,000\\,{\\rm deg}^2$ of the Euclid Wide Survey should contain $100\\,000^{+70\\,000}_{-30\\,000}$ galaxy-galaxy lenses that are both discoverable through visual inspection and have valid lens models. This is consistent with theoretical forecasts of $170\\,000$ discoverable galaxy-galaxy lenses in Euclid. Our five modelled lenses have Einstein radii in the range $0.\\!\\!^{\\prime\\prime}68\\,<\\,\\theta_\\mathrm{E}\\,<1.\\!\\!^{\\prime\\prime}24$, but their Einstein radius distribution is on the higher side when compared to theoretical forecasts. This suggests that our methodology is likely missing small Einstein radius systems. Whilst it is implausible to visually inspect the full Euclid data set, our results corroborate the promise that Euclid will ultimately deliver a sample of around $10^5$ galaxy-scale lenses.         |\n",
       "|<p style=\"color:red\"> **ERROR** </p>| <p style=\"color:red\">latex error 'PosixPath' object is not subscriptable</p> |"
      ],
      "text/plain": [
       "<IPython.core.display.Markdown object>"
      ]
     },
     "metadata": {},
     "output_type": "display_data"
    }
   ],
   "source": [
    "import datetime\n",
    "today = str(datetime.date.today())\n",
    "logfile = f\"_build/html/logs/log-{today}.md\"\n",
    "\n",
    "\n",
    "with open(logfile, 'w') as logs:\n",
    "    # Success\n",
    "    logs.write(f'# Arxiv on Deck 2: Logs - {today}\\n\\n')\n",
    "    logs.write(\"\"\"* Arxiv had {0:,d} new papers\\n\"\"\".format(len(new_papers)))\n",
    "    logs.write(\"\"\"    * {0:,d} with possible author matches\\n\\n\"\"\".format(len(candidates)))\n",
    "    logs.write(\"## Sucessful papers\\n\\n\")\n",
    "    display(Markdown(\"## Successful papers\"))\n",
    "    success = [k[0] for k in documents]\n",
    "    for candid in candidates:\n",
    "        if candid['identifier'].split(':')[-1] in success:\n",
    "            display(candid)\n",
    "            logs.write(candid.generate_markdown_text() + '\\n\\n')\n",
    "\n",
    "    ## failed\n",
    "    logs.write(\"## Failed papers\\n\\n\")\n",
    "    display(Markdown(\"## Failed papers\"))\n",
    "    failed = sorted(failed, key=lambda x: x[1])\n",
    "    current_reason = \"\"\n",
    "    for paper, reason in failed:\n",
    "        if 'affiliation' in reason:\n",
    "            color = 'green'\n",
    "        else:\n",
    "            color = 'red'\n",
    "        data = Markdown(\n",
    "                paper.generate_markdown_text() + \n",
    "                f'\\n|<p style=\"color:{color:s}\"> **ERROR** </p>| <p style=\"color:{color:s}\">{reason:s}</p> |'\n",
    "               )\n",
    "        if reason != current_reason:\n",
    "            logs.write(f'### {reason:s} \\n\\n')\n",
    "            current_reason = reason\n",
    "        logs.write(data.data + '\\n\\n')\n",
    "        \n",
    "        # only display here the important errors (all in logs)\n",
    "        # if color in ('red',):\n",
    "        display(data)"
   ]
  },
  {
   "cell_type": "markdown",
   "id": "472d20ee",
   "metadata": {
    "papermill": {
     "duration": 0.005654,
     "end_time": "2024-08-13T04:11:46.631257",
     "exception": false,
     "start_time": "2024-08-13T04:11:46.625603",
     "status": "completed"
    },
    "tags": []
   },
   "source": [
    "## Export documents\n",
    "\n",
    "We now write the .md files and export relevant images"
   ]
  },
  {
   "cell_type": "code",
   "execution_count": 7,
   "id": "d426aed9",
   "metadata": {
    "execution": {
     "iopub.execute_input": "2024-08-13T04:11:46.643803Z",
     "iopub.status.busy": "2024-08-13T04:11:46.643426Z",
     "iopub.status.idle": "2024-08-13T04:11:46.650074Z",
     "shell.execute_reply": "2024-08-13T04:11:46.649448Z"
    },
    "papermill": {
     "duration": 0.014432,
     "end_time": "2024-08-13T04:11:46.651416",
     "exception": false,
     "start_time": "2024-08-13T04:11:46.636984",
     "status": "completed"
    },
    "tags": []
   },
   "outputs": [],
   "source": [
    "def export_markdown_summary(md: str, md_fname:str, directory: str):\n",
    "    \"\"\"Export MD document and associated relevant images\"\"\"\n",
    "    import os\n",
    "    import shutil\n",
    "    import re\n",
    "\n",
    "    if (os.path.exists(directory) and not os.path.isdir(directory)):\n",
    "        raise RuntimeError(f\"a non-directory file exists with name {directory:s}\")\n",
    "\n",
    "    if (not os.path.exists(directory)):\n",
    "        print(f\"creating directory {directory:s}\")\n",
    "        os.mkdir(directory)\n",
    "\n",
    "    fig_fnames = (re.compile(r'\\[Fig.*\\]\\((.*)\\)').findall(md) + \n",
    "                  re.compile(r'\\<img src=\"([^>\\s]*)\"[^>]*/>').findall(md))\n",
    "    print(\"found figures\", fig_fnames)\n",
    "    for fname in fig_fnames:\n",
    "        if 'http' in fname:\n",
    "            # No need to copy online figures\n",
    "            continue\n",
    "        if not os.path.exists(fname):\n",
    "            print(\"file not found\", fname)\n",
    "            continue\n",
    "        print(\"copying \", fname, \"to\", directory)\n",
    "        destdir = os.path.join(directory, os.path.dirname(fname))\n",
    "        destfname = os.path.join(destdir, os.path.basename(fname))\n",
    "        try:\n",
    "            os.makedirs(destdir)\n",
    "        except FileExistsError:\n",
    "            pass\n",
    "        shutil.copy(fname, destfname)\n",
    "    with open(os.path.join(directory, md_fname), 'w') as fout:\n",
    "        fout.write(md)\n",
    "    print(\"exported in \", os.path.join(directory, md_fname))\n",
    "    [print(\"    + \" + os.path.join(directory,fk)) for fk in fig_fnames]"
   ]
  },
  {
   "cell_type": "code",
   "execution_count": 8,
   "id": "014d04a4",
   "metadata": {
    "execution": {
     "iopub.execute_input": "2024-08-13T04:11:46.664043Z",
     "iopub.status.busy": "2024-08-13T04:11:46.663681Z",
     "iopub.status.idle": "2024-08-13T04:11:46.691887Z",
     "shell.execute_reply": "2024-08-13T04:11:46.691323Z"
    },
    "papermill": {
     "duration": 0.035887,
     "end_time": "2024-08-13T04:11:46.693194",
     "exception": false,
     "start_time": "2024-08-13T04:11:46.657307",
     "status": "completed"
    },
    "tags": []
   },
   "outputs": [
    {
     "name": "stdout",
     "output_type": "stream",
     "text": [
      "found figures ['tmp_2408.05275/./figures/h20_fields.png', 'tmp_2408.05275/./figures/edfs_footprints.png', 'tmp_2408.05275/./figures/uvlf.png', 'tmp_2408.05275/./figures/EAF_footprints.png']\n",
      "copying  tmp_2408.05275/./figures/h20_fields.png to _build/html/\n",
      "copying  tmp_2408.05275/./figures/edfs_footprints.png to _build/html/\n",
      "copying  tmp_2408.05275/./figures/uvlf.png to _build/html/\n",
      "copying  tmp_2408.05275/./figures/EAF_footprints.png to _build/html/\n",
      "exported in  _build/html/2408.05275.md\n",
      "    + _build/html/tmp_2408.05275/./figures/h20_fields.png\n",
      "    + _build/html/tmp_2408.05275/./figures/edfs_footprints.png\n",
      "    + _build/html/tmp_2408.05275/./figures/uvlf.png\n",
      "    + _build/html/tmp_2408.05275/./figures/EAF_footprints.png\n",
      "found figures ['tmp_2408.05296/./figures/EDFN+F_mag_magErr.png', 'tmp_2408.05296/./figures/fields_layout_in.png', 'tmp_2408.05296/./figures/EDFN_depthmaps_hex.png', 'tmp_2408.05296/./figures/EDFF_depthmaps_hex.png']\n",
      "copying  tmp_2408.05296/./figures/EDFN+F_mag_magErr.png to _build/html/\n",
      "copying  tmp_2408.05296/./figures/fields_layout_in.png to _build/html/\n",
      "copying  tmp_2408.05296/./figures/EDFN_depthmaps_hex.png to _build/html/\n",
      "copying  tmp_2408.05296/./figures/EDFF_depthmaps_hex.png to _build/html/\n",
      "exported in  _build/html/2408.05296.md\n",
      "    + _build/html/tmp_2408.05296/./figures/EDFN+F_mag_magErr.png\n",
      "    + _build/html/tmp_2408.05296/./figures/fields_layout_in.png\n",
      "    + _build/html/tmp_2408.05296/./figures/EDFN_depthmaps_hex.png\n",
      "    + _build/html/tmp_2408.05296/./figures/EDFF_depthmaps_hex.png\n",
      "found figures ['tmp_2408.05612/./Figures/transits-toi2485.png', 'tmp_2408.05612/./Figures/toi2485_2pb_rv.png', 'tmp_2408.05612/./Figures/Fig_TOI-2420_bootstrap_WASP_LC.png', 'tmp_2408.05612/./Figures/Fig_TOI-2420_bootstrap.png', 'tmp_2408.05612/./Figures/Fig_TOI-2485_bootstrap.png']\n",
      "copying  tmp_2408.05612/./Figures/transits-toi2485.png to _build/html/\n",
      "copying  tmp_2408.05612/./Figures/toi2485_2pb_rv.png to _build/html/\n",
      "copying  tmp_2408.05612/./Figures/Fig_TOI-2420_bootstrap_WASP_LC.png to _build/html/\n",
      "copying  tmp_2408.05612/./Figures/Fig_TOI-2420_bootstrap.png to _build/html/\n",
      "copying  tmp_2408.05612/./Figures/Fig_TOI-2485_bootstrap.png to _build/html/\n",
      "exported in  _build/html/2408.05612.md\n",
      "    + _build/html/tmp_2408.05612/./Figures/transits-toi2485.png\n",
      "    + _build/html/tmp_2408.05612/./Figures/toi2485_2pb_rv.png\n",
      "    + _build/html/tmp_2408.05612/./Figures/Fig_TOI-2420_bootstrap_WASP_LC.png\n",
      "    + _build/html/tmp_2408.05612/./Figures/Fig_TOI-2420_bootstrap.png\n",
      "    + _build/html/tmp_2408.05612/./Figures/Fig_TOI-2485_bootstrap.png\n",
      "found figures ['tmp_2408.05722/./params_corner_constr_models.png', 'tmp_2408.05722/./DM_var_zeta0_rev1.png', 'tmp_2408.05722/./DM_var_alpha_rev1.png', 'tmp_2408.05722/./DM_var_Tre_rev1.png', 'tmp_2408.05722/./100_DM_mock_rev1.png', 'tmp_2408.05722/./posterior_models_100_1000_FRBs_rev1.png']\n",
      "copying  tmp_2408.05722/./params_corner_constr_models.png to _build/html/\n",
      "copying  tmp_2408.05722/./DM_var_zeta0_rev1.png to _build/html/\n",
      "copying  tmp_2408.05722/./DM_var_alpha_rev1.png to _build/html/\n",
      "copying  tmp_2408.05722/./DM_var_Tre_rev1.png to _build/html/\n",
      "copying  tmp_2408.05722/./100_DM_mock_rev1.png to _build/html/\n",
      "copying  tmp_2408.05722/./posterior_models_100_1000_FRBs_rev1.png to _build/html/\n",
      "exported in  _build/html/2408.05722.md\n",
      "    + _build/html/tmp_2408.05722/./params_corner_constr_models.png\n",
      "    + _build/html/tmp_2408.05722/./DM_var_zeta0_rev1.png\n",
      "    + _build/html/tmp_2408.05722/./DM_var_alpha_rev1.png\n",
      "    + _build/html/tmp_2408.05722/./DM_var_Tre_rev1.png\n",
      "    + _build/html/tmp_2408.05722/./100_DM_mock_rev1.png\n",
      "    + _build/html/tmp_2408.05722/./posterior_models_100_1000_FRBs_rev1.png\n"
     ]
    }
   ],
   "source": [
    "for paper_id, md in documents:\n",
    "    export_markdown_summary(md, f\"{paper_id:s}.md\", '_build/html/')"
   ]
  },
  {
   "cell_type": "markdown",
   "id": "f087a0a7",
   "metadata": {
    "papermill": {
     "duration": 0.006007,
     "end_time": "2024-08-13T04:11:46.705305",
     "exception": false,
     "start_time": "2024-08-13T04:11:46.699298",
     "status": "completed"
    },
    "tags": []
   },
   "source": [
    "## Display the papers\n",
    "\n",
    "Not necessary but allows for a quick check."
   ]
  },
  {
   "cell_type": "code",
   "execution_count": 9,
   "id": "fd25f625",
   "metadata": {
    "execution": {
     "iopub.execute_input": "2024-08-13T04:11:46.718209Z",
     "iopub.status.busy": "2024-08-13T04:11:46.717835Z",
     "iopub.status.idle": "2024-08-13T04:11:46.725852Z",
     "shell.execute_reply": "2024-08-13T04:11:46.725228Z"
    },
    "papermill": {
     "duration": 0.015909,
     "end_time": "2024-08-13T04:11:46.727153",
     "exception": false,
     "start_time": "2024-08-13T04:11:46.711244",
     "status": "completed"
    },
    "scrolled": false,
    "tags": []
   },
   "outputs": [
    {
     "data": {
      "text/markdown": [
       "<div class=\"macros\" style=\"visibility:hidden;\">\n",
       "$\\newcommand{\\ensuremath}{}$\n",
       "$\\newcommand{\\xspace}{}$\n",
       "$\\newcommand{\\object}[1]{\\texttt{#1}}$\n",
       "$\\newcommand{\\farcs}{{.}''}$\n",
       "$\\newcommand{\\farcm}{{.}'}$\n",
       "$\\newcommand{\\arcsec}{''}$\n",
       "$\\newcommand{\\arcmin}{'}$\n",
       "$\\newcommand{\\ion}[2]{#1#2}$\n",
       "$\\newcommand{\\textsc}[1]{\\textrm{#1}}$\n",
       "$\\newcommand{\\hl}[1]{\\textrm{#1}}$\n",
       "$\\newcommand{\\footnote}[1]{}$\n",
       "$\\newcommand{\\papernumber}$\n",
       "$\\newcommand{\\orcid}[1]$</div>\n",
       "\n",
       "\n",
       "\n",
       "<div id=\"title\">\n",
       "\n",
       "# $\\Euclid$ Preparation. $\\papernumber$ The Cosmic Dawn Survey (DAWN) of the Euclid Deep and Auxiliary Fields\n",
       "\n",
       "</div>\n",
       "<div id=\"comments\">\n",
       "\n",
       "[![arXiv](https://img.shields.io/badge/arXiv-2408.05275-b31b1b.svg)](https://arxiv.org/abs/2408.05275)<mark>Appeared on: 2024-08-13</mark> -  _16 pages, 10 figures, submitted to A&A_\n",
       "\n",
       "</div>\n",
       "<div id=\"authors\">\n",
       "\n",
       "E. Collaboration, et al. -- incl., <mark>K. Jahnke</mark>\n",
       "\n",
       "</div>\n",
       "<div id=\"abstract\">\n",
       "\n",
       "**Abstract:** $\\Euclid$ will provide deep NIR imaging to $\\sim$ 26.5 AB magnitude over $\\sim$ 59 deg $^2$ in its deep and auxiliary fields. The Cosmic DAWN survey complements the deep $\\Euclid$ data with matched depth multiwavelength imaging and spectroscopy in the UV--IR to provide consistently processed $\\Euclid$ selected photometric catalogs, accurate photometric redshifts, and measurements of galaxy properties to a redshift of $z\\sim 10$ . In this paper, we present an overview of the survey, including the footprints of the survey fields, the existing and planned observations, and the primary science goals for the combined data set.\n",
       "\n",
       "</div>\n",
       "\n",
       "<div id=\"div_fig1\">\n",
       "\n",
       "<img src=\"tmp_2408.05275/./figures/h20_fields.png\" alt=\"Fig9.1\" width=\"50%\"/><img src=\"tmp_2408.05275/./figures/edfs_footprints.png\" alt=\"Fig9.2\" width=\"50%\"/>\n",
       "\n",
       "**Figure 9. -** Footprints of the DAWN survey image data in the Euclid Deep Fields. Note that the Rubin/LSST footprint in EDF-S shows the expected pointing pattern for the EDF-S Deep Drilling Field and may change once the survey begins \\citep{ivezic2019}. (*fig:deep_fields*)\n",
       "\n",
       "</div>\n",
       "<div id=\"div_fig2\">\n",
       "\n",
       "<img src=\"tmp_2408.05275/./figures/uvlf.png\" alt=\"Fig7\" width=\"100%\"/>\n",
       "\n",
       "**Figure 7. -** Measurements of the ultraviolet luminosity function $\\phi$ at $z = \\textrm{8--10}$ from the literature \\citep{Oesch2018,Bowler2020,Bouwens2021,Finkelstein2022,Adams2023,Donnan2023}. The red and blue lines show extrapolations to the volume of the DAWN survey based on the best fitting Schechter and double power-law (DPL) functions, with the shaded regions showing associated Poisson uncertainties for the DAWN survey volume. Upper limits based on survey volume are indicated with the horizontal lines. The DAWN volume in each panel assumes an area of 59 deg$^2$, a redshift slice of $\\pm0.5$ from the redshift bin center, and a \\citet{Planck2018}$\\Lambda$CDM cosmology. (*fig:uvlf*)\n",
       "\n",
       "</div>\n",
       "<div id=\"div_fig3\">\n",
       "\n",
       "<img src=\"tmp_2408.05275/./figures/EAF_footprints.png\" alt=\"Fig10\" width=\"100%\"/>\n",
       "\n",
       "**Figure 10. -** Footprints of the DAWN survey image data in the EAFs. The coloured lines show the extent of the image data indicated in the legend. Note that the EAF footprints are approximations based on the \\Euclid survey plan. Updated footprints that to reflect the actual \\Euclid coverage in the EAFs will be provided along with subsequent DAWN data releases. (*fig:EAFs*)\n",
       "\n",
       "</div><div id=\"qrcode\"><img src=https://api.qrserver.com/v1/create-qr-code/?size=100x100&data=\"https://arxiv.org/abs/2408.05275\"></div>"
      ],
      "text/plain": [
       "<IPython.core.display.Markdown object>"
      ]
     },
     "metadata": {},
     "output_type": "display_data"
    },
    {
     "data": {
      "text/markdown": [
       "<div class=\"macros\" style=\"visibility:hidden;\">\n",
       "$\\newcommand{\\ensuremath}{}$\n",
       "$\\newcommand{\\xspace}{}$\n",
       "$\\newcommand{\\object}[1]{\\texttt{#1}}$\n",
       "$\\newcommand{\\farcs}{{.}''}$\n",
       "$\\newcommand{\\farcm}{{.}'}$\n",
       "$\\newcommand{\\arcsec}{''}$\n",
       "$\\newcommand{\\arcmin}{'}$\n",
       "$\\newcommand{\\ion}[2]{#1#2}$\n",
       "$\\newcommand{\\textsc}[1]{\\textrm{#1}}$\n",
       "$\\newcommand{\\hl}[1]{\\textrm{#1}}$\n",
       "$\\newcommand{\\footnote}[1]{}$\n",
       "$\\newcommand{\\orcid}[1]$\n",
       "$\\newcommand{\\photoz}{photo-\\textit{z}}$\n",
       "$\\newcommand{\\specz}{spec-\\textit{z}}$\n",
       "$\\newcommand{\\Msol}{{\\rm M}_\\odot}$\n",
       "$\\newcommand{\\classic}{\\textsc{Classic}}$\n",
       "$\\newcommand{\\lephare}{\\texttt{LePhare}}$\n",
       "$\\newcommand{\\eazy}{\\texttt{EAZY}}$\n",
       "$\\newcommand{\\tractor}{\\texttt{The Tractor}}$\n",
       "$\\newcommand{\\farmer}{\\texttt{The Farmer}}$\n",
       "$\\newcommand{\\sigmaz}{\\sigma_{\\Delta z / (1+z_{\\rm s})}}$\n",
       "$\\newcommand{\\zmin}{z_{\\rm phot}^{\\rm min}}$\n",
       "$\\newcommand{\\zmax}{z_{\\rm phot}^{\\rm max}}$\n",
       "$\\newcommand{\\SEP}{\\texttt{SEP}}$\n",
       "$\\newcommand{\\chOne}{[3.6\\mum]}$\n",
       "$\\newcommand{\\chTwo}{[4.5\\mum]}$\n",
       "$\\newcommand{\\hscpipe}{\\texttt{hscpipe}}$</div>\n",
       "\n",
       "\n",
       "\n",
       "<div id=\"title\">\n",
       "\n",
       "# $\\Euclid$ preparation.\n",
       "\n",
       "</div>\n",
       "<div id=\"comments\">\n",
       "\n",
       "[![arXiv](https://img.shields.io/badge/arXiv-2408.05296-b31b1b.svg)](https://arxiv.org/abs/2408.05296)<mark>Appeared on: 2024-08-13</mark> - \n",
       "\n",
       "</div>\n",
       "<div id=\"authors\">\n",
       "\n",
       "E. Collaboration, et al. -- incl., <mark>K. Jahnke</mark>\n",
       "\n",
       "</div>\n",
       "<div id=\"abstract\">\n",
       "\n",
       "**Abstract:** The Cosmic Dawn Survey (DAWN survey) provides multiwavelength (UV/optical to mid-IR) data across the combined 59 deg $^{2}$ of the Euclid Deep and Auxiliary fields (EDFs and EAFs). Here, the first public data release (DR1) from the DAWN survey is presented. DR1 catalogues are made available for a subset of the full DAWN survey that consists of two Euclid Deep fields: Euclid Deep Field North (EDF-N) and Euclid Deep Field Fornax (EDF-F). The DAWN survey DR1 catalogues do not include $\\Euclid$ data as they are not yet public for these fields. Nonetheless, each field has been covered by the ongoing Hawaii Twenty Square Degree Survey (H20), which includes imaging from CFHT MegaCam in the new $u$ filter and from Subaru Hyper Suprime-Cam (HSC) in the $griz$ filters. Each field is further covered by _Spitzer_ /IRAC 3.6-4.5 $\\mu$ m imaging spanning 10 deg $^{2}$ and reaching $\\sim$ 25 mag AB (5 $\\sigma$ ). All present H20 imaging and all publicly available imaging from the aforementioned facilities are combined with the deep _Spitzer_ /IRAC data to create source catalogues spanning a total area of 16.87 deg $^{2}$ in EDF-N and 2.85 deg $^{2}$ in EDF-F for this first release. Photometry is measured from these multiwavelength data using $\\farmer$ , a novel and well-validated model-based photometry code. Photometric redshifts and stellar masses are computed using two independent codes for modeling spectral energy distributions: $\\eazy$ and $\\lephare$ . Photometric redshifts show good agreement with spectroscopic redshifts ( $\\sigma_{\\rm NMAD} \\sim  0.5, \\eta < 8\\%$ at $i < 25$ ). Number counts, photometric redshifts, and stellar masses are further validated in comparison to the COSMOS2020 catalogue. The DAWN survey DR1 catalogues are designed to be of immediate use in these two EDFs and will be continuously updated and made available as both new ground-based data and spaced-based data from $\\Euclid$ are acquired and made public. Future data releases will provide catalogues of all EDFs and EAFs and include $\\Euclid$ data.\n",
       "\n",
       "</div>\n",
       "\n",
       "<div id=\"div_fig1\">\n",
       "\n",
       "<img src=\"tmp_2408.05296/./figures/EDFN+F_mag_magErr.png\" alt=\"Fig10\" width=\"100%\"/>\n",
       "\n",
       "**Figure 10. -** Magnitude vs. magnitude error for each unique facility/filter combination, with EDF-N shown in colour and EDF-F shown in grey. Each solid line represents the median magnitude uncertainty as a function of magnitude for a given band. The shaded regions are bounded by the 84th and 16th percentiles of the magnitude error distributions, enclosing 68\\% of the objects. The 5$\\sigma$ limiting magnitudes measured with 2$\\arcsec$  diameter apertures reported in Table \\ref{tab:depths} are shown by vertical lines. A horizontal dotted line indicates a 5$\\sigma$ model-based photometric uncertainty.  (*fig:mag_magerr*)\n",
       "\n",
       "</div>\n",
       "<div id=\"div_fig2\">\n",
       "\n",
       "<img src=\"tmp_2408.05296/./figures/fields_layout_in.png\" alt=\"Fig6\" width=\"100%\"/>\n",
       "\n",
       "**Figure 6. -** Layouts and facility coverage for the two fields included in the DAWN survey DR1 catalogues, EDF-N (left) and EDF-F (right). Also highlighted are areas of particular importance to \\Euclid, namely, the \\Euclid self-calibration field in EDF-N, and the Chandra Deep Field South (CDF-S) Euclid Auxiliary Field (EAF) in EDF-F. The regions spanned by the DR1 catalogues are illustrated by the green squares. The areas of the DR1 catalogues reaching approximately final integration times by all facilities (or covered to full depth; see Sect. \\ref{subsec:area_coverage} and Table \\ref{tab:exptimes}) are shown in grey. A future release from the DAWN survey will include catalogues with coverage from all facilities at full-depth spanning the entirety of EDF-N and EDF-F areas are targeted by \\Euclid. (*fig:field_layouts*)\n",
       "\n",
       "</div>\n",
       "<div id=\"div_fig3\">\n",
       "\n",
       "<img src=\"tmp_2408.05296/./figures/EDFN_depthmaps_hex.png\" alt=\"Fig8.1\" width=\"50%\"/><img src=\"tmp_2408.05296/./figures/EDFF_depthmaps_hex.png\" alt=\"Fig8.2\" width=\"50%\"/>\n",
       "\n",
       "**Figure 8. -** Depths and limiting magnitudes measured by the dispersion of empty aperture fluxes for each bandpass (see Sect. \\ref{subsec:image_depths} and Appendix \\ref{app:depths} for details). The top two rows correspond to EDF-N, and the bottom two rows correspond to EDF-F. The \\enquote{full-depth} regions of EDF-N and EDF-F illustrated in Fig. \\ref{fig:field_layouts} is apparent by the areas of greater depth in the HSC $griz$(see Sect. \\ref{subsec:area_coverage}, Table \\ref{tab:exptimes}, and Table \\ref{tab:cat_areas}). The quoted value along the top of each panel is the median 5$\\sigma$ depth the full-depth region of each  field. Only the areas covered by the DAWN survey DR1 catalogues is shown, corresponding to the green rectangular regions in Fig. \\ref{fig:field_layouts}. Future data acquired from CFHT MegaCam and Subaru HSC will expand the areas of both fields and lead to more uniform coverage. The depths are summarized in Table \\ref{tab:depths}. (*fig:depths*)\n",
       "\n",
       "</div><div id=\"qrcode\"><img src=https://api.qrserver.com/v1/create-qr-code/?size=100x100&data=\"https://arxiv.org/abs/2408.05296\"></div>"
      ],
      "text/plain": [
       "<IPython.core.display.Markdown object>"
      ]
     },
     "metadata": {},
     "output_type": "display_data"
    },
    {
     "data": {
      "text/markdown": [
       "<div class=\"macros\" style=\"visibility:hidden;\">\n",
       "$\\newcommand{\\ensuremath}{}$\n",
       "$\\newcommand{\\xspace}{}$\n",
       "$\\newcommand{\\object}[1]{\\texttt{#1}}$\n",
       "$\\newcommand{\\farcs}{{.}''}$\n",
       "$\\newcommand{\\farcm}{{.}'}$\n",
       "$\\newcommand{\\arcsec}{''}$\n",
       "$\\newcommand{\\arcmin}{'}$\n",
       "$\\newcommand{\\ion}[2]{#1#2}$\n",
       "$\\newcommand{\\textsc}[1]{\\textrm{#1}}$\n",
       "$\\newcommand{\\hl}[1]{\\textrm{#1}}$\n",
       "$\\newcommand{\\footnote}[1]{}$\n",
       "$\\newcommand{\\vsini}{V \\sin i}$\n",
       "$\\newcommand{\\vrad}{V_{\\rm rad}}$\n",
       "$\\newcommand{\\vmic}{V_{\\rm mic}}$\n",
       "$\\newcommand{\\vmac}{V_{\\rm mac}}$\n",
       "$\\newcommand{\\dex}{\\rm dex}$\n",
       "$\\newcommand{\\teff}{T_{\\rm eff}}$\n",
       "$\\newcommand{\\logg}{log {\\it g_\\star}}$\n",
       "$\\newcommand{\\met}{[M/H]}$\n",
       "$\\newcommand{\\feh}{[Fe/H]}$\n",
       "$\\newcommand{\\cah}{[Ca/H]}$\n",
       "$\\newcommand{\\sih}{[Si/H]}$\n",
       "$\\newcommand{\\mgh}{[Mg/H]}$\n",
       "$\\newcommand{\\nah}{[Na/H]}$\n",
       "$\\newcommand{\\kms}{km s^{-1}}$\n",
       "$\\newcommand{\\ms}{m~s^{-1}}$\n",
       "$\\newcommand{\\msd}{m~s^{-1}~d^{-1}}$\n",
       "$\\newcommand{\\gc}{g~cm^{-3}}$\n",
       "$\\newcommand{\\lgr}{\\log (R^\\prime_{HK})}$\n",
       "$\\newcommand{\\lgt}{\\log~t}$\n",
       "$\\newcommand{\\Lsun}{L_{\\odot}}$\n",
       "$\\newcommand{\\Msun}{M_{\\odot}}$\n",
       "$\\newcommand{\\Rsun}{R_{\\odot}}$\n",
       "$\\newcommand{\\mearth}{M_{\\oplus}}$\n",
       "$\\newcommand{\\MJ}{M_{Jup}}$\n",
       "$\\newcommand{\\RJ}{R_{Jup}}$\n",
       "$\\newcommand{\\rearth}{R_{\\oplus}}$\n",
       "$\\newcommand{\\rjup}{R_\\mathrm{Jup}}$\n",
       "$\\newcommand{\\mjup}{M_\\mathrm{Jup}}$\n",
       "$\\newcommand{\\Porb}{P_{orb}}$\n",
       "$\\newcommand{\\Prot}{P_{rot}}$\n",
       "$\\newcommand{\\mstar}{M_\\star}$\n",
       "$\\newcommand{\\rstar}{R_\\star}$\n",
       "$\\newcommand{\\lstar}{L_\\star}$\n",
       "$\\newcommand{\\rhostar}{\\rho_{\\mathrm{*}}}$\n",
       "$\\newcommand{\\rhoplanet}{\\rho_\\mathrm{p}}$\n",
       "$\\newcommand{\\rplanet}{R_{\\mathrm{p}}}$\n",
       "$\\newcommand{\\mplanet}{M_{\\mathrm{p}}}$\n",
       "$\\newcommand{\\Teq}{T_{eq}}$\n",
       "$\\newcommand{\\toioneb}{TOI-2420 b}$\n",
       "$\\newcommand{\\toitwob}{TOI-2485 b}$\n",
       "$\\newcommand{\\pyaneti}{\\href{https://github.com/oscaribv/pyaneti}{\\texttt{pyaneti} \\faGithub}}$\n",
       "$\\newcommand{\\smass}[1][M_{\\odot}]{1.1580000 _{- 0.0980000}^{ + 0.0980000}#1}$\n",
       "$\\newcommand{\\sradius}[1][R_{\\odot}]{ 2.3690000 _{ - 0.1240000}^{ + 0.1240000}#1}$\n",
       "$\\newcommand{\\stemp}[1][\\mathrm{K}]{5537.0000000 _{- 70.0000000}^{ + 70.0000000}#1 }$\n",
       "$\\newcommand{\\Tzerob}[1][days]{8388.4119 \\pm 0.0013 ~#1 }$\n",
       "$\\newcommand{\\Pb}[1][days]{5.842641_{-0.000013}^{+0.000015} ~#1 }$\n",
       "$\\newcommand{\\esinb}[1][ ]{0.05_{-0.20}^{+0.16} ~#1 }$\n",
       "$\\newcommand{\\ecosb}[1][ ]{0.159_{-0.104}^{+0.074} ~#1 }$\n",
       "$\\newcommand{\\bb}[1][ ]{0.849_{-0.025}^{+0.018} ~#1 }$\n",
       "$\\newcommand{\\dentrheeb}[1][{\\rm g^{1/3} cm^{-1}}]{0.133_{-0.026}^{+0.036} ~#1 }$\n",
       "$\\newcommand{\\rrb}[1][ ]{0.05810_{-0.00083}^{+0.00098} ~#1 }$\n",
       "$\\newcommand{\\kb}[1][{\\rm m s^{-1}}]{94.25_{-6.29}^{+6.58} ~#1 }$\n",
       "$\\newcommand{\\mpb}[1][M_\\mathrm{J}]{0.927_{-0.079}^{+0.085} ~#1 }$\n",
       "$\\newcommand{\\rpb}[1][R_\\mathrm{J}]{1.340_{-0.072}^{+0.074} ~#1 }$\n",
       "$\\newcommand{\\Tperib}[1][days]{8387.35_{-1.05}^{+0.74} ~#1 }$\n",
       "$\\newcommand{\\eb}[1][ ]{0.055_{-0.031}^{+0.036} ~#1 }$\n",
       "$\\newcommand{\\wb}[1][deg]{15.5_{-64.4}^{+47.5} ~#1 }$\n",
       "$\\newcommand{\\prvb}[1][{\\rm km s^{-1}}]{nan_{-nan}^{+nan} ~#1 }$\n",
       "$\\newcommand{\\ib}[1][deg]{82.07_{-1.04}^{+0.98} ~#1 }$\n",
       "$\\newcommand{\\arb}[1][ ]{6.21_{-0.43}^{+0.51} ~#1 }$\n",
       "$\\newcommand{\\ab}[1][AU]{0.0684_{-0.0059}^{+0.0067} ~#1 }$\n",
       "$\\newcommand{\\insolationb}[1][{\\rm F_{\\oplus}}]{1017_{-156}^{+167} ~#1 }$\n",
       "$\\newcommand{\\tsmb}[1][ ]{13.78_{-1.53}^{+1.76} ~#1 }$\n",
       "$\\newcommand{\\denstrb}[1][{\\rm g cm^{-3}}]{0.133_{-0.026}^{+0.036} ~#1 }$\n",
       "$\\newcommand{\\densspb}[1][{\\rm g cm^{-3}}]{0.123_{-0.020}^{+0.024} ~#1 }$\n",
       "$\\newcommand{\\Teqb}[1][K]{1571.6_{-64.0}^{+60.8} ~#1 }$\n",
       "$\\newcommand{\\ttotb}[1][hours]{4.554_{-0.092}^{+0.093} ~#1 }$\n",
       "$\\newcommand{\\tfulb}[1][hours]{2.93_{-0.15}^{+0.16} ~#1 }$\n",
       "$\\newcommand{\\tegb}[1][hours]{0.81 \\pm 0.11 ~#1 }$\n",
       "$\\newcommand{\\deltamagb}[1][]{2.85_{-0.33}^{+0.28} ~#1 }$\n",
       "$\\newcommand{\\denpb}[1][{\\rm g cm^{-3}}]{0.477_{-0.080}^{+0.099} ~#1 }$\n",
       "$\\newcommand{\\grapb}[1][{\\rm cm s^{-2}}]{1346_{-193}^{+251} ~#1 }$\n",
       "$\\newcommand{\\grapparsb}[1][{\\rm cm s^{-2}}]{1283_{-167}^{+193} ~#1 }$\n",
       "$\\newcommand{\\jspb}[1][ ]{94.78_{-9.95}^{+10.91} ~#1 }$\n",
       "$\\newcommand{\\qoneSL}[1][]{0.096_{-0.063}^{+0.123} ~#1 }$\n",
       "$\\newcommand{\\qtwoSL}[1][]{0.34_{-0.23}^{+0.35} ~#1 }$\n",
       "$\\newcommand{\\uoneSL}[1][]{0.19_{-0.14}^{+0.20} ~#1 }$\n",
       "$\\newcommand{\\utwoSL}[1][]{0.09_{-0.17}^{+0.21} ~#1 }$\n",
       "$\\newcommand{\\qoneSC}[1][]{0.089_{-0.062}^{+0.145} ~#1 }$\n",
       "$\\newcommand{\\qtwoSC}[1][]{0.22_{-0.16}^{+0.23} ~#1 }$\n",
       "$\\newcommand{\\uoneSC}[1][]{0.119_{-0.088}^{+0.153} ~#1 }$\n",
       "$\\newcommand{\\utwoSC}[1][]{0.15_{-0.13}^{+0.19} ~#1 }$\n",
       "$\\newcommand{\\qonegblc}[1][]{0.80_{-0.18}^{+0.14} ~#1 }$\n",
       "$\\newcommand{\\qtwogblc}[1][]{0.470_{-0.149}^{+0.096} ~#1 }$\n",
       "$\\newcommand{\\uonegblc}[1][]{0.83_{-0.26}^{+0.12} ~#1 }$\n",
       "$\\newcommand{\\utwogblc}[1][]{0.05_{-0.16}^{+0.27} ~#1 }$\n",
       "$\\newcommand{\\CHIRON}[1][{\\rm km s^{-1}}]{15.8940_{-0.0097}^{+0.0108} ~#1 }$\n",
       "$\\newcommand{\\TULL}[1][{\\rm km s^{-1}}]{10.2195_{-0.0059}^{+0.0060} ~#1 }$\n",
       "$\\newcommand{\\Mthree}[1][{\\rm km s^{-1}}]{16.5141_{-0.0094}^{+0.0092} ~#1 }$\n",
       "$\\newcommand{\\Mfour}[1][{\\rm km s^{-1}}]{16.502_{-0.017}^{+0.015} ~#1 }$\n",
       "$\\newcommand{\\Mfive}[1][{\\rm km s^{-1}}]{16.597 \\pm 0.023 ~#1 }$\n",
       "$\\newcommand{\\Msix}[1][{\\rm km s^{-1}}]{16.552_{-0.013}^{+0.012} ~#1 }$\n",
       "$\\newcommand{\\jCHIRON}[1][{\\rm m s^{-1}}]{35.96_{-7.31}^{+10.31} ~#1 }$\n",
       "$\\newcommand{\\jTULL}[1][{\\rm m s^{-1}}]{10.06_{-8.17}^{+10.39} ~#1 }$\n",
       "$\\newcommand{\\jMthree}[1][{\\rm m s^{-1}}]{50.72_{-8.74}^{+10.42} ~#1 }$\n",
       "$\\newcommand{\\jMfour}[1][{\\rm m s^{-1}}]{22.5_{-20.3}^{+28.5} ~#1 }$\n",
       "$\\newcommand{\\jMfive}[1][{\\rm m s^{-1}}]{5.76_{-4.96}^{+26.22} ~#1 }$\n",
       "$\\newcommand{\\jMsix}[1][{\\rm m s^{-1}}]{50.0_{-13.1}^{+13.4} ~#1 }$\n",
       "$\\newcommand{\\jtrSL}[1][ppm]{398.2_{-22.1}^{+27.5} ~#1 }$\n",
       "$\\newcommand{\\jtrSC}[1][ppm]{858.8_{-25.1}^{+26.8} ~#1 }$\n",
       "$\\newcommand{\\jtrgblc}[1][ppm]{2384.0_{-89.8}^{+91.5} ~#1 }$\n",
       "$\\newcommand{\\Tzerobtwo}[1][days]{8939.7856_{-0.0023}^{+0.0022} ~#1 }$\n",
       "$\\newcommand{\\Pbtwo}[1][days]{11.234790_{-0.000052}^{+0.000054} ~#1 }$\n",
       "$\\newcommand{\\esinbtwo}[1][ ]{0.030_{-0.106}^{+0.091} ~#1 }$\n",
       "$\\newcommand{\\ecosbtwo}[1][ ]{0.162_{-0.031}^{+0.023} ~#1 }$\n",
       "$\\newcommand{\\bbtwo}[1][ ]{0.121_{-0.087}^{+0.134} ~#1 }$\n",
       "$\\newcommand{\\dentrheebtwo}[1][{\\rm g^{1/3} cm^{-1}}]{0.385_{-0.036}^{+0.031} ~#1 }$\n",
       "$\\newcommand{\\rrbtwo}[1][ ]{0.06470_{-0.00068}^{+0.00067} ~#1 }$\n",
       "$\\newcommand{\\kbtwo}[1][{\\rm m s^{-1}}]{197.84_{-3.80}^{+3.99} ~#1 }$\n",
       "$\\newcommand{\\mpbtwo}[1][M_\\mathrm{J}]{2.412_{-0.087}^{+0.088} ~#1 }$\n",
       "$\\newcommand{\\Tperibtwo}[1][days]{8937.40_{-1.13}^{+0.87} ~#1 }$\n",
       "$\\newcommand{\\ebtwo}[1][ ]{0.0341_{-0.0087}^{+0.0109} ~#1 }$\n",
       "$\\newcommand{\\wbtwo}[1][deg]{10.0_{-36.0}^{+27.7} ~#1 }$\n",
       "$\\newcommand{\\prvbtwo}[1][{\\rm km s^{-1}}]{nan_{-nan}^{+nan} ~#1 }$\n",
       "$\\newcommand{\\ibtwo}[1][deg]{89.49_{-0.60}^{+0.36} ~#1 }$\n",
       "$\\newcommand{\\arbtwo}[1][ ]{13.69_{-0.44}^{+0.36} ~#1 }$\n",
       "$\\newcommand{\\abtwo}[1][AU]{0.1093_{-0.0057}^{+0.0055} ~#1 }$\n",
       "$\\newcommand{\\insolationbtwo}[1][{\\rm F_{\\oplus}}]{275.6_{-23.5}^{+27.2} ~#1 }$\n",
       "$\\newcommand{\\rpbtwo}[1][R_\\mathrm{J}]{1.083 \\pm 0.045 ~#1 }$\n",
       "$\\newcommand{\\tsmbtwo}[1][ ]{3.83_{-0.24}^{+0.27} ~#1 }$\n",
       "$\\newcommand{\\denstrbtwo}[1][{\\rm g cm^{-3}}]{0.385_{-0.036}^{+0.031} ~#1 }$\n",
       "$\\newcommand{\\densspbtwo}[1][{\\rm g cm^{-3}}]{0.322_{-0.038}^{+0.045} ~#1 }$\n",
       "$\\newcommand{\\Teqbtwo}[1][K]{1134.0_{-25.0}^{+27.0} ~#1 }$\n",
       "$\\newcommand{\\ttotbtwo}[1][hours]{6.567 \\pm 0.088 ~#1 }$\n",
       "$\\newcommand{\\tfulbtwo}[1][hours]{5.743_{-0.087}^{+0.083} ~#1 }$\n",
       "$\\newcommand{\\tegbtwo}[1][hours]{0.4057_{-0.0084}^{+0.0223} ~#1 }$\n",
       "$\\newcommand{\\deltamagbtwo}[1][]{0.036_{-0.030}^{+0.115} ~#1 }$\n",
       "$\\newcommand{\\denpbtwo}[1][{\\rm g cm^{-3}}]{2.36_{-0.28}^{+0.33} ~#1 }$\n",
       "$\\newcommand{\\grapbtwo}[1][{\\rm cm s^{-2}}]{5749_{-390}^{+317} ~#1 }$\n",
       "$\\newcommand{\\grapparsbtwo}[1][{\\rm cm s^{-2}}]{5112_{-438}^{+489} ~#1 }$\n",
       "$\\newcommand{\\jspbtwo}[1][ ]{421.9_{-24.5}^{+25.5} ~#1 }$\n",
       "$\\newcommand{\\qoneSLtwo}[1][]{0.69_{-0.26}^{+0.21} ~#1 }$\n",
       "$\\newcommand{\\qtwoSLtwo}[1][]{0.32_{-0.17}^{+0.23} ~#1 }$\n",
       "$\\newcommand{\\uoneSLtwo}[1][]{0.53_{-0.25}^{+0.23} ~#1 }$\n",
       "$\\newcommand{\\utwoSLtwo}[1][]{0.29_{-0.37}^{+0.33} ~#1 }$\n",
       "$\\newcommand{\\qoneSCtwo}[1][]{0.73_{-0.28}^{+0.19} ~#1 }$\n",
       "$\\newcommand{\\qtwoSCtwo}[1][]{0.18_{-0.12}^{+0.19} ~#1 }$\n",
       "$\\newcommand{\\uoneSCtwo}[1][]{0.30_{-0.20}^{+0.26} ~#1 }$\n",
       "$\\newcommand{\\utwoSCtwo}[1][]{0.53_{-0.35}^{+0.25} ~#1 }$\n",
       "$\\newcommand{\\qonegblctwo}[1][]{0.148_{-0.064}^{+0.124} ~#1 }$\n",
       "$\\newcommand{\\qtwogblctwo}[1][]{0.54_{-0.29}^{+0.30} ~#1 }$\n",
       "$\\newcommand{\\uonegblctwo}[1][]{0.40_{-0.17}^{+0.14} ~#1 }$\n",
       "$\\newcommand{\\utwogblctwo}[1][]{-0.03_{-0.17}^{+0.28} ~#1 }$\n",
       "$\\newcommand{\\CHIRONtwo}[1][{\\rm km s^{-1}}]{-27.563_{-0.050}^{+0.046} ~#1 }$\n",
       "$\\newcommand{\\FEROStwo}[1][{\\rm km s^{-1}}]{-26.148_{-0.047}^{+0.042} ~#1 }$\n",
       "$\\newcommand{\\TREStwo}[1][{\\rm km s^{-1}}]{0.371_{-0.049}^{+0.044} ~#1 }$\n",
       "$\\newcommand{\\jCHIRONtwo}[1][{\\rm m s^{-1}}]{14.7_{-11.9}^{+11.1} ~#1 }$\n",
       "$\\newcommand{\\jFEROStwo}[1][{\\rm m s^{-1}}]{3.14_{-2.54}^{+5.09} ~#1 }$\n",
       "$\\newcommand{\\jTREStwo}[1][{\\rm m s^{-1}}]{13.8_{-11.4}^{+12.5} ~#1 }$\n",
       "$\\newcommand{\\jtrSLtwo}[1][ppm]{702.8_{-41.7}^{+50.4} ~#1 }$\n",
       "$\\newcommand{\\jtrSCtwo}[1][ppm]{2123.4_{-56.5}^{+59.5} ~#1 }$\n",
       "$\\newcommand{\\jtrgblctwo}[1][ppm]{1766.3_{-37.0}^{+39.1} ~#1 }$\n",
       "$\\newcommand{\\ltrendtwo}[1][{\\rm m s^{-1} d^{-1}}]{-0.77_{-0.16}^{+0.18} ~#1 }$\n",
       "$\\newcommand{\\qtrendtwo}[1][{\\rm m s^{-1} d^{-2}}]{0.26_{-0.12}^{+0.11} ~#1 }$</div>\n",
       "\n",
       "\n",
       "\n",
       "<div id=\"title\">\n",
       "\n",
       "# Mass determination of two Jupiter-sized planets orbiting slightly evolved stars: TOI-2420 b and TOI-2485 b \n",
       "\n",
       "</div>\n",
       "<div id=\"comments\">\n",
       "\n",
       "[![arXiv](https://img.shields.io/badge/arXiv-2408.05612-b31b1b.svg)](https://arxiv.org/abs/2408.05612)<mark>Appeared on: 2024-08-13</mark> - \n",
       "\n",
       "</div>\n",
       "<div id=\"authors\">\n",
       "\n",
       "I. Carleo, et al. -- incl., <mark>J. Eberhardt</mark>, <mark>T. Henning</mark>, <mark>T. Trifonov</mark>\n",
       "\n",
       "</div>\n",
       "<div id=\"abstract\">\n",
       "\n",
       "**Abstract:** Hot and warm Jupiters might have undergone the same formation and evolution path, but the two populations exhibit different distributions of orbital parameters, challenging our understanding on their actual origin. The present work, which is the results of our warm Jupiters survey  carried out with the CHIRON spectrograph within the KESPRINT collaboration, aims to address this challenge by studying two planets that could help bridge the gap between the two populations. We report the confirmation and mass determination of a hot Jupiter (orbital period shorter than 10 days), TOI-2420 b, and a warm Jupiter, TOI-2485 b. We performed a joint analysis using a wide variety of spectral and photometric data in order to characterize these planetary systems. We found that TOI-2420 b has an orbital period of P $_{\\rm b}$ =5.8 days, a mass of M $_{\\rm b}$ =0.9 M $_{\\rm J}$ and a radius of R $_{\\rm b}$ =1.3 R $_{\\rm J}$ , with a planetary density of 0.477 $\\gc$ ; while TOI-2485 b has an orbital period of P $_{\\rm b}$ =11.2 days, a mass of M $_{\\rm b}$ =2.4 M $_{\\rm J}$ and a radius of R $_{\\rm b}$ =1.1 R $_{\\rm J}$ with density 2.36 $\\gc$ . With current parameters, the migration history for TOI-2420 b and TOI-2485 b is unclear: the high-eccentricity migration scenarios cannot be ruled out, and TOI-2485 b's characteristics may rather support this scenario.\n",
       "\n",
       "</div>\n",
       "\n",
       "<div id=\"div_fig1\">\n",
       "\n",
       "<img src=\"tmp_2408.05612/./Figures/transits-toi2485.png\" alt=\"Fig6.1\" width=\"50%\"/><img src=\"tmp_2408.05612/./Figures/toi2485_2pb_rv.png\" alt=\"Fig6.2\" width=\"50%\"/>\n",
       "\n",
       "**Figure 6. -** *Top panel:* Phase-folded transit light curve $\\toitwob$. Nominal TESS and LCO observations are shown in light grey. Solid coloured circles represent the binned data. Transit models are shown with a solid black line. *Bottom panel:* Phase-folded RV signal for $\\toitwob$ following the subtraction of the systemic velocities. Orange circles, diamonds and squares show CHIRON, FEROS and TRES RV data, respectively.  (*fig:toi2485fits*)\n",
       "\n",
       "</div>\n",
       "<div id=\"div_fig2\">\n",
       "\n",
       "<img src=\"tmp_2408.05612/./Figures/Fig_TOI-2420_bootstrap_WASP_LC.png\" alt=\"Fig1\" width=\"100%\"/>\n",
       "\n",
       "**Figure 1. -** GLS periodogram of the WASP-South data for TOI-2420 from 2006 to 2011. There is a possible signal near 40 d, along with aliases from the yearly sampling. The dotted horizontal line  is the 1\\%-likelihood false-alarm level. (*fig:wasp*)\n",
       "\n",
       "</div>\n",
       "<div id=\"div_fig3\">\n",
       "\n",
       "<img src=\"tmp_2408.05612/./Figures/Fig_TOI-2420_bootstrap.png\" alt=\"Fig2.1\" width=\"50%\"/><img src=\"tmp_2408.05612/./Figures/Fig_TOI-2485_bootstrap.png\" alt=\"Fig2.2\" width=\"50%\"/>\n",
       "\n",
       "**Figure 2. -** Periodograms of the RVs data for TOI-2420 (upper panel) and TOI-2485 (lower panel). The dotted horizontal line represent the 0.01\\% false-alarm level, while the green vertical line is the maximum power, which corresponds to the planetary period.  (*fig:periodograms*)\n",
       "\n",
       "</div><div id=\"qrcode\"><img src=https://api.qrserver.com/v1/create-qr-code/?size=100x100&data=\"https://arxiv.org/abs/2408.05612\"></div>"
      ],
      "text/plain": [
       "<IPython.core.display.Markdown object>"
      ]
     },
     "metadata": {},
     "output_type": "display_data"
    },
    {
     "data": {
      "text/markdown": [
       "<div class=\"macros\" style=\"visibility:hidden;\">\n",
       "$\\newcommand{\\ensuremath}{}$\n",
       "$\\newcommand{\\xspace}{}$\n",
       "$\\newcommand{\\object}[1]{\\texttt{#1}}$\n",
       "$\\newcommand{\\farcs}{{.}''}$\n",
       "$\\newcommand{\\farcm}{{.}'}$\n",
       "$\\newcommand{\\arcsec}{''}$\n",
       "$\\newcommand{\\arcmin}{'}$\n",
       "$\\newcommand{\\ion}[2]{#1#2}$\n",
       "$\\newcommand{\\textsc}[1]{\\textrm{#1}}$\n",
       "$\\newcommand{\\hl}[1]{\\textrm{#1}}$\n",
       "$\\newcommand{\\footnote}[1]{}$\n",
       "$\\newcommand{\\be}{\\begin{equation}}$\n",
       "$\\newcommand{\\ee}{\\end{equation}}$\n",
       "$\\newcommand\\bear{#1}\\ear{\\begin{align}#1\\end{align}}$\n",
       "$\\newcommand{\\nline}{\\notag \\\\}$\n",
       "$\\newcommand{\\f}{\\frac}$\n",
       "$\\newcommand{\\de}{\\mathrm{d}}$\n",
       "$\\newcommand{\\del}{\\partial}$\n",
       "$\\newcommand{\\half}{\\frac{1}{2}}$\n",
       "$\\newcommand{\\im}{\\mathrm{i}}$\n",
       "$\\newcommand{\\e}{\\mathrm{e}}$\n",
       "$\\newcommand{\\Msun}{\\mathrm{M}_{\\odot}}$\n",
       "$\\newcommand{\\eqn}[1]{equation~(\\ref{#1})}$\n",
       "$\\newcommand{\\eqns}[2]{equations~(\\ref{#1}) and~(\\ref{#2})}$\n",
       "$\\newcommand{\\secn}[1]{Section~\\ref{#1}}$\n",
       "$\\newcommand{\\appndx}[1]{Appendix~\\ref{#1}}$\n",
       "$\\newcommand{\\fig}[1]{Fig.~\\ref{#1}}$\n",
       "$\\newcommand{\\figs}[1]{Figs.~\\ref{#1}}$\n",
       "$\\newcommand{\\tab}[1]{Table~\\ref{#1}}$\n",
       "$\\newcommand{\\TRC}[1]{{\\color{red}[{\\bf TRC:} #1]}}$\n",
       "$\\newcommand{\\BM}[1]{{\\color{blue}[{\\bf }#1]}}$\n",
       "$\\newcommand{\\AP}[1]{\\textbfit{\\color{purple}[AP: #1]}}$\n",
       "$\\newcommand{\\red}[1]{{\\color{red} #1}}$\n",
       "$\\usepackage[T1]{fontenc}$\n",
       "$\\usepackage{amsmath}$\n",
       "$\\DeclareRobustCommand{\\VAN}[3]{#2}$\n",
       "$\\let\\VANthebibliography\\thebibliography$\n",
       "$\\newcommand{\\thebibliography}{\\DeclareRobustCommand{\\VAN}[3]{##3}\\VANthebibliography}$\n",
       "$\\usepackage{graphicx}$\n",
       "$\\usepackage{txfonts}$\n",
       "$\\begin{document}$\n",
       "$   \\title{Prospects of FRBs and Large Scale 21~cm Power Spectra in Constraining the Epoch of Reionization}$\n",
       "$   \\author{Barun Maity$\n",
       "$          \\inst{1}}$\n",
       "$   \\institute{Max-Planck-Institut für Astronomie, Königstuhl 17, D-69117 Heidelberg, Germany\\               \\email{maity@mpia.de}}$\n",
       "$   \\date{Received XXX; accepted XXX}$\n",
       "$  \\abstract{The Epoch of Reionization (EoR) is a crucial link to grasp the complete evolutionary history of the universe. Several attempts with a variety of observables have been utilized in the past to understand the thermal and ionization evolution of the Intergalactic Medium during EoR. In this study, we explore the simultaneous prospects of two important observables which are expected to be available in the near future, i.e. Dispersion Measure (DM) of high redshift FRBs and large scale 21 cm power spectra. For this purpose, we use an earlier developed explicitly photon conserving semi numerical model, \\texttt{SCRIPT} including realistic recombination and radiative feedback effect. We check that DM evolution of 100 mock FRBs at high redshifts (7.0\\le z\\le15.0) is sufficient to recover the underlying reionization model, while 1000 FRB mocks at redshift range can constrain the reionization timeline within the percentage level uncertainties at 68\\% confidence limit. Further, we study the effect of including large scale 21~cm power spectra (using only a single bin, k\\sim0.14~h/\\mathrm{cMpc}) at three redshifts along with FRB DM distribution. The joint exploration using these two observables can significantly improve the constraints on the various parameters (\\lesssim 8\\% uncertainties for reionization interval and midpoint at 95\\% confidence) alleviating the degeneracies and can narrow down the thermal history of the universe by discarding some of the extreme heating models.}$\n",
       "$   \\keywords{intergalactic medium -- cosmology: theory – dark ages, reionization, first stars -- large-scale structure of Universe}$\n",
       "$   \\maketitle$\n",
       "$\\n\\end{document}\\end{equation}}$\n",
       "$\\newcommand{\\ee}{\\end{equation}}$\n",
       "$\\newcommand{\\nline}{\\notag \\\\}$\n",
       "$\\newcommand{\\f}{\\frac}$\n",
       "$\\newcommand{\\de}{\\mathrm{d}}$\n",
       "$\\newcommand{\\del}{\\partial}$\n",
       "$\\newcommand{\\half}{\\frac{1}{2}}$\n",
       "$\\newcommand{\\im}{\\mathrm{i}}$\n",
       "$\\newcommand{\\e}{\\mathrm{e}}$\n",
       "$\\newcommand{\\Msun}{\\mathrm{M}_{\\odot}}$\n",
       "$\\newcommand{\\eqn}[1]{equation~(\\ref{#1})}$\n",
       "$\\newcommand{\\eqns}[2]{equations~(\\ref{#1}) and~(\\ref{#2})}$\n",
       "$\\newcommand{\\secn}[1]{Section~\\ref{#1}}$\n",
       "$\\newcommand{\\appndx}[1]{Appendix~\\ref{#1}}$\n",
       "$\\newcommand{\\fig}[1]{Fig.~\\ref{#1}}$\n",
       "$\\newcommand{\\figs}[1]{Figs.~\\ref{#1}}$\n",
       "$\\newcommand{\\tab}[1]{Table~\\ref{#1}}$\n",
       "$\\newcommand{\\TRC}[1]{{\\color{red}[{\\bf TRC:} #1]}}$\n",
       "$\\newcommand{\\BM}[1]{{\\color{blue}[{\\bf }#1]}}$\n",
       "$\\newcommand{\\AP}[1]{\\textbfit{\\color{purple}[AP: #1]}}$\n",
       "$\\newcommand{\\red}[1]{{\\color{red} #1}}$\n",
       "$\\newcommand{\\arraystretch}{0.5}$\n",
       "$\\newcommand\\bear{#1}$\n",
       "$\\newcommand{\\thebibliography}{\\DeclareRobustCommand{\\VAN}[3]{##3}\\VANthebibliography}$</div>\n",
       "\n",
       "\n",
       "\n",
       "<div id=\"title\">\n",
       "\n",
       "# Prospects of FRBs and Large Scale 21 cm Power Spectra in Constraining the Epoch of Reionization\n",
       "\n",
       "</div>\n",
       "<div id=\"comments\">\n",
       "\n",
       "[![arXiv](https://img.shields.io/badge/arXiv-2408.05722-b31b1b.svg)](https://arxiv.org/abs/2408.05722)<mark>Appeared on: 2024-08-13</mark> -  _Accepted for publication in A&A_\n",
       "\n",
       "</div>\n",
       "<div id=\"authors\">\n",
       "\n",
       "<mark>B. Maity</mark>\n",
       "\n",
       "</div>\n",
       "<div id=\"abstract\">\n",
       "\n",
       "**Abstract:** The Epoch of Reionization (EoR) is a crucial link to grasp the complete evolutionary history of the universe. Several attempts with a variety of observables have been utilized in the past to understand the thermal and ionization evolution of the Intergalactic Medium during EoR. In this study, we explore the simultaneous prospects of two important observables which are expected to be available in the near future, i.e. Dispersion Measure (DM) of high redshift FRBs and large scale 21 cm power spectra. For this purpose, we use an earlier developed explicitly photon conserving semi numerical model, \\texttt{SCRIPT} including realistic recombination and radiative feedback effect. We check that DM evolution of 100 mock FRBs at high redshifts ( $7.0\\le z\\le15.0$ ) is sufficient to recover the underlying reionization model, while 1000 FRB mocks at redshift range can constrain the reionization timeline within the percentage level uncertainties at 68 \\% confidence limit. Further, we study the effect of including large scale 21 cm power spectra (using only a single bin, $k\\sim0.14 h/\\mathrm{cMpc}$ ) at three redshifts along with FRB DM distribution. The joint exploration using these two observables can significantly improve the constraints on the various parameters ( $\\lesssim 8\\%$ uncertainties for reionization interval and midpoint at 95 \\% confidence) alleviating the degeneracies and can narrow down the thermal history of the universe by discarding some of the extreme heating models.\n",
       "\n",
       "</div>\n",
       "\n",
       "<div id=\"div_fig1\">\n",
       "\n",
       "<img src=\"tmp_2408.05722/./params_corner_constr_models.png\" alt=\"Fig3\" width=\"100%\"/>\n",
       "\n",
       "**Figure 3. -** The comparison of parameter posteriors for three different sets of FRB mocks, i.e. with 100 (_black_), 500 (_green_) \\& 1000 (_orange_) samples. The diagonal panels show the 1D posterior probability distribution while off diagonal panels show the joint 2D posteriors. The contours represent 68\\% and 95\\% confidence intervals. The dashed line represents the input parameter values used to generate the reionization model which has further been used to create the FRB mocks.  (*fig:corner_constr*)\n",
       "\n",
       "</div>\n",
       "<div id=\"div_fig2\">\n",
       "\n",
       "<img src=\"tmp_2408.05722/./DM_var_zeta0_rev1.png\" alt=\"Fig1.1\" width=\"25%\"/><img src=\"tmp_2408.05722/./DM_var_alpha_rev1.png\" alt=\"Fig1.2\" width=\"25%\"/><img src=\"tmp_2408.05722/./DM_var_Tre_rev1.png\" alt=\"Fig1.3\" width=\"25%\"/><img src=\"tmp_2408.05722/./100_DM_mock_rev1.png\" alt=\"Fig1.4\" width=\"25%\"/>\n",
       "\n",
       "**Figure 1. -**  The first three panels (a,b,c) show the variation of globally averaged Dispersion Measure (DM) as a function of redshift for different free parameters in our model (i.e. $\\zeta_0$, $\\alpha$ and $T_{\\mathrm{re}}$). We use $\\zeta_0=12$, $\\alpha=1.4$, and $T_{\\mathrm{re}}=1.9\\times10^4  \\mathrm{K}$ as our fiducial model parameters in the analysis later. For each case, we show the plots for five different parameter values. The last panel (d) shows the fiducial mock DM values (at true redshifts) for 100 samples along with the corresponding input model. The mock data have been generated assuming a typical expectation from upcoming facilities like SKA. (*fig:DM_with_param*)\n",
       "\n",
       "</div>\n",
       "<div id=\"div_fig3\">\n",
       "\n",
       "<img src=\"tmp_2408.05722/./posterior_models_100_1000_FRBs_rev1.png\" alt=\"Fig4\" width=\"100%\"/>\n",
       "\n",
       "**Figure 4. -** Plots of 500 random models from the posterior chains for two different sets of FRB mocks (with 100 : _black_; with 1000 : _orange_). At the _left_ panel: we show the evolution of neutral hydrogen fraction with redshift. The red vertical dashed line represents our hard prior on the end of reionization at $z=5.3$. At the _right_ panel: we show the mean IGM temperature evolution. Although we don't use any other observational constraints while pursuing parameter space exploration, we show some of the existing observational estimates for ease of comparison.\n",
       "    The magenta points at the _left_ represent the recent upper limits on neutral fraction from  ([Jin, Yang and Fan 2023]()) . The cyan points at the _right_ are the constraints on the mean IGM temperature using Ly-$\\alpha$ forest spike statistics study  ([Gaikwad, Rauch and Haehnelt 2020]()) . The blue dashed line represents the input reionization model used for generating the FRB mocks.  (*fig:posterior_models*)\n",
       "\n",
       "</div><div id=\"qrcode\"><img src=https://api.qrserver.com/v1/create-qr-code/?size=100x100&data=\"https://arxiv.org/abs/2408.05722\"></div>"
      ],
      "text/plain": [
       "<IPython.core.display.Markdown object>"
      ]
     },
     "metadata": {},
     "output_type": "display_data"
    }
   ],
   "source": [
    "[display(Markdown(k[1])) for k in documents];"
   ]
  },
  {
   "cell_type": "markdown",
   "id": "873873a4",
   "metadata": {
    "papermill": {
     "duration": 0.006761,
     "end_time": "2024-08-13T04:11:46.740694",
     "exception": false,
     "start_time": "2024-08-13T04:11:46.733933",
     "status": "completed"
    },
    "tags": []
   },
   "source": [
    "# Create HTML index"
   ]
  },
  {
   "cell_type": "code",
   "execution_count": 10,
   "id": "cf665672",
   "metadata": {
    "execution": {
     "iopub.execute_input": "2024-08-13T04:11:46.755178Z",
     "iopub.status.busy": "2024-08-13T04:11:46.754589Z",
     "iopub.status.idle": "2024-08-13T04:11:46.761837Z",
     "shell.execute_reply": "2024-08-13T04:11:46.761235Z"
    },
    "papermill": {
     "duration": 0.01581,
     "end_time": "2024-08-13T04:11:46.763151",
     "exception": false,
     "start_time": "2024-08-13T04:11:46.747341",
     "status": "completed"
    },
    "tags": []
   },
   "outputs": [
    {
     "name": "stdout",
     "output_type": "stream",
     "text": [
      "160  publications files modified in the last 7 days.\n"
     ]
    }
   ],
   "source": [
    "from datetime import datetime, timedelta, timezone\n",
    "from glob import glob\n",
    "import os\n",
    "\n",
    "files = glob('_build/html/*.md')\n",
    "days = 7\n",
    "now = datetime.today()\n",
    "res = []\n",
    "for fk in files:\n",
    "    stat_result = os.stat(fk).st_ctime\n",
    "    modified = datetime.fromtimestamp(stat_result, tz=timezone.utc).replace(tzinfo=None)\n",
    "    delta = now.today() - modified\n",
    "    if delta <= timedelta(days=days):\n",
    "        res.append((delta.seconds, fk))\n",
    "res = [k[1] for k in reversed(sorted(res, key=lambda x:x[1]))]\n",
    "npub = len(res)\n",
    "print(len(res), f\" publications files modified in the last {days:d} days.\")\n",
    "# [ print('\\t', k) for k in res ];"
   ]
  },
  {
   "cell_type": "code",
   "execution_count": 11,
   "id": "015de740",
   "metadata": {
    "execution": {
     "iopub.execute_input": "2024-08-13T04:11:46.777828Z",
     "iopub.status.busy": "2024-08-13T04:11:46.777410Z",
     "iopub.status.idle": "2024-08-13T04:11:46.790540Z",
     "shell.execute_reply": "2024-08-13T04:11:46.790003Z"
    },
    "papermill": {
     "duration": 0.021792,
     "end_time": "2024-08-13T04:11:46.791821",
     "exception": false,
     "start_time": "2024-08-13T04:11:46.770029",
     "status": "completed"
    },
    "tags": []
   },
   "outputs": [
    {
     "name": "stdout",
     "output_type": "stream",
     "text": [
      "10  publications in the last 7 days.\n"
     ]
    }
   ],
   "source": [
    "import datetime\n",
    "from glob import glob\n",
    "\n",
    "def get_last_n_days(lst, days=1):\n",
    "    \"\"\" Get the documents from the last n days \"\"\"\n",
    "    sorted_lst = sorted(lst, key=lambda x: x[1], reverse=True)\n",
    "    for fname, date in sorted_lst:\n",
    "        if date >= str(datetime.date.today() - datetime.timedelta(days=days)):\n",
    "            yield fname\n",
    "\n",
    "def extract_appearance_dates(lst_file):\n",
    "    dates = []\n",
    "\n",
    "    def get_date(line):\n",
    "        return line\\\n",
    "            .split('Appeared on:')[-1]\\\n",
    "            .split('</mark>')[0].strip()\n",
    "\n",
    "    for fname in lst:\n",
    "        with open(fname, 'r') as f:\n",
    "            found_date = False\n",
    "            for line in f:\n",
    "                if not found_date:\n",
    "                    if \"Appeared on\" in line:\n",
    "                        found_date = True\n",
    "                        dates.append((fname, get_date(line)))\n",
    "                else:\n",
    "                    break\n",
    "    return dates\n",
    "\n",
    "from glob import glob\n",
    "lst = glob('_build/html/*md')\n",
    "days = 7\n",
    "dates = extract_appearance_dates(lst)\n",
    "res = list(get_last_n_days(dates, days))\n",
    "npub = len(res)\n",
    "print(len(res), f\" publications in the last {days:d} days.\")"
   ]
  },
  {
   "cell_type": "code",
   "execution_count": 12,
   "id": "52ca0208",
   "metadata": {
    "execution": {
     "iopub.execute_input": "2024-08-13T04:11:46.806597Z",
     "iopub.status.busy": "2024-08-13T04:11:46.806225Z",
     "iopub.status.idle": "2024-08-13T04:11:46.810999Z",
     "shell.execute_reply": "2024-08-13T04:11:46.810460Z"
    },
    "papermill": {
     "duration": 0.013624,
     "end_time": "2024-08-13T04:11:46.812311",
     "exception": false,
     "start_time": "2024-08-13T04:11:46.798687",
     "status": "completed"
    },
    "scrolled": false,
    "tags": []
   },
   "outputs": [],
   "source": [
    "def create_carousel(npub=4):\n",
    "    \"\"\" Generate the HTML code for a carousel with `npub` slides \"\"\"\n",
    "    carousel = [\"\"\"  <div class=\"carousel\" \"\"\",\n",
    "                \"\"\"       data-flickity='{ \"autoPlay\": 10000, \"adaptiveHeight\": true, \"resize\": true, \"wrapAround\": true, \"pauseAutoPlayOnHover\": true, \"groupCells\": 1 }' id=\"asyncTypeset\">\"\"\"\n",
    "                ]\n",
    "    \n",
    "    item_str = \"\"\"    <div class=\"carousel-cell\"> <div id=\"slide{k}\" class=\"md_view\">Content {k}</div> </div>\"\"\"\n",
    "    for k in range(1, npub + 1):\n",
    "        carousel.append(item_str.format(k=k))\n",
    "    carousel.append(\"  </div>\")\n",
    "    return '\\n'.join(carousel)\n",
    "\n",
    "def create_grid(npub=4):\n",
    "    \"\"\" Generate the HTML code for a flat grid with `npub` slides \"\"\"\n",
    "    grid = [\"\"\"  <div class=\"grid\"> \"\"\",\n",
    "                ]\n",
    "    \n",
    "    item_str = \"\"\"    <div class=\"grid-item\"> <div id=\"slide{k}\" class=\"md_view\">Content {k}</div> </div>\"\"\"\n",
    "    for k in range(1, npub + 1):\n",
    "        grid.append(item_str.format(k=k))\n",
    "    grid.append(\"  </div>\")\n",
    "    return '\\n'.join(grid)"
   ]
  },
  {
   "cell_type": "code",
   "execution_count": 13,
   "id": "a6eac5b6",
   "metadata": {
    "execution": {
     "iopub.execute_input": "2024-08-13T04:11:46.827177Z",
     "iopub.status.busy": "2024-08-13T04:11:46.826799Z",
     "iopub.status.idle": "2024-08-13T04:11:46.831756Z",
     "shell.execute_reply": "2024-08-13T04:11:46.831228Z"
    },
    "papermill": {
     "duration": 0.013648,
     "end_time": "2024-08-13T04:11:46.832970",
     "exception": false,
     "start_time": "2024-08-13T04:11:46.819322",
     "status": "completed"
    },
    "scrolled": false,
    "tags": []
   },
   "outputs": [],
   "source": [
    "carousel = create_carousel(npub)\n",
    "docs = ', '.join(['\"{0:s}\"'.format(k.split('/')[-1]) for k in res])\n",
    "slides = ', '.join([f'\"slide{k}\"' for k in range(1, npub + 1)])\n",
    "\n",
    "with open(\"daily_template.html\", \"r\") as tpl:\n",
    "    page = tpl.read()\n",
    "    page = page.replace(\"{%-- carousel:s --%}\", carousel)\\\n",
    "               .replace(\"{%-- suptitle:s --%}\",  \"7-day archives\" )\\\n",
    "               .replace(\"{%-- docs:s --%}\", docs)\\\n",
    "               .replace(\"{%-- slides:s --%}\", slides)\n",
    "    \n",
    "with open(\"_build/html/index_7days.html\", 'w') as fout:\n",
    "    fout.write(page)"
   ]
  },
  {
   "cell_type": "code",
   "execution_count": 14,
   "id": "adc1a1ec",
   "metadata": {
    "execution": {
     "iopub.execute_input": "2024-08-13T04:11:46.847847Z",
     "iopub.status.busy": "2024-08-13T04:11:46.847441Z",
     "iopub.status.idle": "2024-08-13T04:11:46.853620Z",
     "shell.execute_reply": "2024-08-13T04:11:46.853024Z"
    },
    "papermill": {
     "duration": 0.01499,
     "end_time": "2024-08-13T04:11:46.854898",
     "exception": false,
     "start_time": "2024-08-13T04:11:46.839908",
     "status": "completed"
    },
    "tags": []
   },
   "outputs": [
    {
     "name": "stdout",
     "output_type": "stream",
     "text": [
      "4  publications in the last day.\n"
     ]
    }
   ],
   "source": [
    "# redo for today\n",
    "days = 1\n",
    "res = list(get_last_n_days(dates, days))\n",
    "npub = len(res)\n",
    "print(len(res), f\" publications in the last day.\")\n",
    "\n",
    "carousel = create_carousel(npub)\n",
    "docs = ', '.join(['\"{0:s}\"'.format(k.split('/')[-1]) for k in res])\n",
    "slides = ', '.join([f'\"slide{k}\"' for k in range(1, npub + 1)])\n",
    "\n",
    "with open(\"daily_template.html\", \"r\") as tpl:\n",
    "    page = tpl.read()\n",
    "    page = page.replace(\"{%-- carousel:s --%}\", carousel)\\\n",
    "               .replace(\"{%-- suptitle:s --%}\",  \"Daily\" )\\\n",
    "               .replace(\"{%-- docs:s --%}\", docs)\\\n",
    "               .replace(\"{%-- slides:s --%}\", slides)\n",
    "    \n",
    "# print(carousel, docs, slides)\n",
    "# print(page)\n",
    "with open(\"_build/html/index_daily.html\", 'w') as fout:\n",
    "    fout.write(page)"
   ]
  },
  {
   "cell_type": "code",
   "execution_count": 15,
   "id": "00eece82",
   "metadata": {
    "execution": {
     "iopub.execute_input": "2024-08-13T04:11:46.870082Z",
     "iopub.status.busy": "2024-08-13T04:11:46.869680Z",
     "iopub.status.idle": "2024-08-13T04:11:46.875927Z",
     "shell.execute_reply": "2024-08-13T04:11:46.875318Z"
    },
    "papermill": {
     "duration": 0.015329,
     "end_time": "2024-08-13T04:11:46.877195",
     "exception": false,
     "start_time": "2024-08-13T04:11:46.861866",
     "status": "completed"
    },
    "scrolled": false,
    "tags": []
   },
   "outputs": [
    {
     "name": "stdout",
     "output_type": "stream",
     "text": [
      "6  6 publications selected.\n"
     ]
    }
   ],
   "source": [
    "# Create the flat grid of the last N papers (fixed number regardless of dates)\n",
    "from itertools import islice \n",
    "\n",
    "npub = 6\n",
    "res = [k[0] for k in (islice(reversed(sorted(dates, key=lambda x: x[1])), 6))]\n",
    "print(len(res), f\" {npub} publications selected.\")\n",
    "\n",
    "grid = create_grid(npub)\n",
    "docs = ', '.join(['\"{0:s}\"'.format(k.split('/')[-1]) for k in res])\n",
    "slides = ', '.join([f'\"slide{k}\"' for k in range(1, npub + 1)])\n",
    "\n",
    "with open(\"grid_template.html\", \"r\") as tpl:\n",
    "    page = tpl.read()\n",
    "    page = page.replace(\"{%-- grid-content:s --%}\", grid)\\\n",
    "               .replace(\"{%-- suptitle:s --%}\",  f\"Last {npub:,d} papers\" )\\\n",
    "               .replace(\"{%-- docs:s --%}\", docs)\\\n",
    "               .replace(\"{%-- slides:s --%}\", slides)\n",
    "    \n",
    "# print(grid, docs, slides)\n",
    "# print(page)\n",
    "with open(\"_build/html/index_npub_grid.html\", 'w') as fout:\n",
    "    fout.write(page)"
   ]
  }
 ],
 "metadata": {
  "kernelspec": {
   "display_name": "Python 3 (ipykernel)",
   "language": "python",
   "name": "python3"
  },
  "language_info": {
   "codemirror_mode": {
    "name": "ipython",
    "version": 3
   },
   "file_extension": ".py",
   "mimetype": "text/x-python",
   "name": "python",
   "nbconvert_exporter": "python",
   "pygments_lexer": "ipython3",
   "version": "3.9.19"
  },
  "papermill": {
   "default_parameters": {},
   "duration": 131.953539,
   "end_time": "2024-08-13T04:11:47.101731",
   "environment_variables": {},
   "exception": null,
   "input_path": "MPIA daily digest.ipynb",
   "output_path": "log.ipynb",
   "parameters": {},
   "start_time": "2024-08-13T04:09:35.148192",
   "version": "2.6.0"
  },
  "vscode": {
   "interpreter": {
    "hash": "aee8b7b246df8f9039afb4144a1f6fd8d2ca17a180786b69acc140d282b71a49"
   }
  },
  "widgets": {
   "application/vnd.jupyter.widget-state+json": {
    "state": {
     "13ce88a0cc30441985464dfb803543fd": {
      "model_module": "@jupyter-widgets/base",
      "model_module_version": "2.0.0",
      "model_name": "LayoutModel",
      "state": {
       "_model_module": "@jupyter-widgets/base",
       "_model_module_version": "2.0.0",
       "_model_name": "LayoutModel",
       "_view_count": null,
       "_view_module": "@jupyter-widgets/base",
       "_view_module_version": "2.0.0",
       "_view_name": "LayoutView",
       "align_content": null,
       "align_items": null,
       "align_self": null,
       "border_bottom": null,
       "border_left": null,
       "border_right": null,
       "border_top": null,
       "bottom": null,
       "display": null,
       "flex": null,
       "flex_flow": null,
       "grid_area": null,
       "grid_auto_columns": null,
       "grid_auto_flow": null,
       "grid_auto_rows": null,
       "grid_column": null,
       "grid_gap": null,
       "grid_row": null,
       "grid_template_areas": null,
       "grid_template_columns": null,
       "grid_template_rows": null,
       "height": null,
       "justify_content": null,
       "justify_items": null,
       "left": null,
       "margin": null,
       "max_height": null,
       "max_width": null,
       "min_height": null,
       "min_width": null,
       "object_fit": null,
       "object_position": null,
       "order": null,
       "overflow": null,
       "padding": null,
       "right": null,
       "top": null,
       "visibility": null,
       "width": null
      }
     },
     "160cf06408324e77a7122c7bea2509b6": {
      "model_module": "@jupyter-widgets/controls",
      "model_module_version": "2.0.0",
      "model_name": "HTMLStyleModel",
      "state": {
       "_model_module": "@jupyter-widgets/controls",
       "_model_module_version": "2.0.0",
       "_model_name": "HTMLStyleModel",
       "_view_count": null,
       "_view_module": "@jupyter-widgets/base",
       "_view_module_version": "2.0.0",
       "_view_name": "StyleView",
       "background": null,
       "description_width": "",
       "font_size": null,
       "text_color": null
      }
     },
     "1c0a01a778954c72a2c0c3bb5d8c0cf7": {
      "model_module": "@jupyter-widgets/controls",
      "model_module_version": "2.0.0",
      "model_name": "FloatProgressModel",
      "state": {
       "_dom_classes": [],
       "_model_module": "@jupyter-widgets/controls",
       "_model_module_version": "2.0.0",
       "_model_name": "FloatProgressModel",
       "_view_count": null,
       "_view_module": "@jupyter-widgets/controls",
       "_view_module_version": "2.0.0",
       "_view_name": "ProgressView",
       "bar_style": "success",
       "description": "",
       "description_allow_html": false,
       "layout": "IPY_MODEL_aca71d73eac249508fd7b0734c8a99b8",
       "max": 9.0,
       "min": 0.0,
       "orientation": "horizontal",
       "style": "IPY_MODEL_33b18fcb2f95467ea07fd1d15cb025a5",
       "tabbable": null,
       "tooltip": null,
       "value": 9.0
      }
     },
     "2f451d35aa6b44f5a1ccd8b19eb4d662": {
      "model_module": "@jupyter-widgets/base",
      "model_module_version": "2.0.0",
      "model_name": "LayoutModel",
      "state": {
       "_model_module": "@jupyter-widgets/base",
       "_model_module_version": "2.0.0",
       "_model_name": "LayoutModel",
       "_view_count": null,
       "_view_module": "@jupyter-widgets/base",
       "_view_module_version": "2.0.0",
       "_view_name": "LayoutView",
       "align_content": null,
       "align_items": null,
       "align_self": null,
       "border_bottom": null,
       "border_left": null,
       "border_right": null,
       "border_top": null,
       "bottom": null,
       "display": null,
       "flex": null,
       "flex_flow": null,
       "grid_area": null,
       "grid_auto_columns": null,
       "grid_auto_flow": null,
       "grid_auto_rows": null,
       "grid_column": null,
       "grid_gap": null,
       "grid_row": null,
       "grid_template_areas": null,
       "grid_template_columns": null,
       "grid_template_rows": null,
       "height": null,
       "justify_content": null,
       "justify_items": null,
       "left": null,
       "margin": null,
       "max_height": null,
       "max_width": null,
       "min_height": null,
       "min_width": null,
       "object_fit": null,
       "object_position": null,
       "order": null,
       "overflow": null,
       "padding": null,
       "right": null,
       "top": null,
       "visibility": null,
       "width": null
      }
     },
     "33b18fcb2f95467ea07fd1d15cb025a5": {
      "model_module": "@jupyter-widgets/controls",
      "model_module_version": "2.0.0",
      "model_name": "ProgressStyleModel",
      "state": {
       "_model_module": "@jupyter-widgets/controls",
       "_model_module_version": "2.0.0",
       "_model_name": "ProgressStyleModel",
       "_view_count": null,
       "_view_module": "@jupyter-widgets/base",
       "_view_module_version": "2.0.0",
       "_view_name": "StyleView",
       "bar_color": null,
       "description_width": ""
      }
     },
     "41c0678857ed438ea3b75c7a6938e529": {
      "model_module": "@jupyter-widgets/controls",
      "model_module_version": "2.0.0",
      "model_name": "HBoxModel",
      "state": {
       "_dom_classes": [],
       "_model_module": "@jupyter-widgets/controls",
       "_model_module_version": "2.0.0",
       "_model_name": "HBoxModel",
       "_view_count": null,
       "_view_module": "@jupyter-widgets/controls",
       "_view_module_version": "2.0.0",
       "_view_name": "HBoxView",
       "box_style": "",
       "children": [
        "IPY_MODEL_81970a3950524e66b5bda8b8be21857a",
        "IPY_MODEL_1c0a01a778954c72a2c0c3bb5d8c0cf7",
        "IPY_MODEL_5c6186ef18b14afaa1fcb008e775cb03"
       ],
       "layout": "IPY_MODEL_13ce88a0cc30441985464dfb803543fd",
       "tabbable": null,
       "tooltip": null
      }
     },
     "5c6186ef18b14afaa1fcb008e775cb03": {
      "model_module": "@jupyter-widgets/controls",
      "model_module_version": "2.0.0",
      "model_name": "HTMLModel",
      "state": {
       "_dom_classes": [],
       "_model_module": "@jupyter-widgets/controls",
       "_model_module_version": "2.0.0",
       "_model_name": "HTMLModel",
       "_view_count": null,
       "_view_module": "@jupyter-widgets/controls",
       "_view_module_version": "2.0.0",
       "_view_name": "HTMLView",
       "description": "",
       "description_allow_html": false,
       "layout": "IPY_MODEL_7cabfbe1954446f7aa8c7fd89c928bf5",
       "placeholder": "​",
       "style": "IPY_MODEL_160cf06408324e77a7122c7bea2509b6",
       "tabbable": null,
       "tooltip": null,
       "value": " 9/9 [01:49&lt;00:00,  7.54s/it]"
      }
     },
     "7cabfbe1954446f7aa8c7fd89c928bf5": {
      "model_module": "@jupyter-widgets/base",
      "model_module_version": "2.0.0",
      "model_name": "LayoutModel",
      "state": {
       "_model_module": "@jupyter-widgets/base",
       "_model_module_version": "2.0.0",
       "_model_name": "LayoutModel",
       "_view_count": null,
       "_view_module": "@jupyter-widgets/base",
       "_view_module_version": "2.0.0",
       "_view_name": "LayoutView",
       "align_content": null,
       "align_items": null,
       "align_self": null,
       "border_bottom": null,
       "border_left": null,
       "border_right": null,
       "border_top": null,
       "bottom": null,
       "display": null,
       "flex": null,
       "flex_flow": null,
       "grid_area": null,
       "grid_auto_columns": null,
       "grid_auto_flow": null,
       "grid_auto_rows": null,
       "grid_column": null,
       "grid_gap": null,
       "grid_row": null,
       "grid_template_areas": null,
       "grid_template_columns": null,
       "grid_template_rows": null,
       "height": null,
       "justify_content": null,
       "justify_items": null,
       "left": null,
       "margin": null,
       "max_height": null,
       "max_width": null,
       "min_height": null,
       "min_width": null,
       "object_fit": null,
       "object_position": null,
       "order": null,
       "overflow": null,
       "padding": null,
       "right": null,
       "top": null,
       "visibility": null,
       "width": null
      }
     },
     "81970a3950524e66b5bda8b8be21857a": {
      "model_module": "@jupyter-widgets/controls",
      "model_module_version": "2.0.0",
      "model_name": "HTMLModel",
      "state": {
       "_dom_classes": [],
       "_model_module": "@jupyter-widgets/controls",
       "_model_module_version": "2.0.0",
       "_model_name": "HTMLModel",
       "_view_count": null,
       "_view_module": "@jupyter-widgets/controls",
       "_view_module_version": "2.0.0",
       "_view_name": "HTMLView",
       "description": "",
       "description_allow_html": false,
       "layout": "IPY_MODEL_2f451d35aa6b44f5a1ccd8b19eb4d662",
       "placeholder": "​",
       "style": "IPY_MODEL_c7375a890cca455dbc6bf1d881f28153",
       "tabbable": null,
       "tooltip": null,
       "value": "100%"
      }
     },
     "aca71d73eac249508fd7b0734c8a99b8": {
      "model_module": "@jupyter-widgets/base",
      "model_module_version": "2.0.0",
      "model_name": "LayoutModel",
      "state": {
       "_model_module": "@jupyter-widgets/base",
       "_model_module_version": "2.0.0",
       "_model_name": "LayoutModel",
       "_view_count": null,
       "_view_module": "@jupyter-widgets/base",
       "_view_module_version": "2.0.0",
       "_view_name": "LayoutView",
       "align_content": null,
       "align_items": null,
       "align_self": null,
       "border_bottom": null,
       "border_left": null,
       "border_right": null,
       "border_top": null,
       "bottom": null,
       "display": null,
       "flex": null,
       "flex_flow": null,
       "grid_area": null,
       "grid_auto_columns": null,
       "grid_auto_flow": null,
       "grid_auto_rows": null,
       "grid_column": null,
       "grid_gap": null,
       "grid_row": null,
       "grid_template_areas": null,
       "grid_template_columns": null,
       "grid_template_rows": null,
       "height": null,
       "justify_content": null,
       "justify_items": null,
       "left": null,
       "margin": null,
       "max_height": null,
       "max_width": null,
       "min_height": null,
       "min_width": null,
       "object_fit": null,
       "object_position": null,
       "order": null,
       "overflow": null,
       "padding": null,
       "right": null,
       "top": null,
       "visibility": null,
       "width": null
      }
     },
     "c7375a890cca455dbc6bf1d881f28153": {
      "model_module": "@jupyter-widgets/controls",
      "model_module_version": "2.0.0",
      "model_name": "HTMLStyleModel",
      "state": {
       "_model_module": "@jupyter-widgets/controls",
       "_model_module_version": "2.0.0",
       "_model_name": "HTMLStyleModel",
       "_view_count": null,
       "_view_module": "@jupyter-widgets/base",
       "_view_module_version": "2.0.0",
       "_view_name": "StyleView",
       "background": null,
       "description_width": "",
       "font_size": null,
       "text_color": null
      }
     }
    },
    "version_major": 2,
    "version_minor": 0
   }
  }
 },
 "nbformat": 4,
 "nbformat_minor": 5
}