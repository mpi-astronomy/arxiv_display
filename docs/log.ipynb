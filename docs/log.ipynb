{
 "cells": [
  {
   "cell_type": "markdown",
   "id": "92bcb855",
   "metadata": {
    "papermill": {
     "duration": 0.007451,
     "end_time": "2023-06-28T04:09:14.025779",
     "exception": false,
     "start_time": "2023-06-28T04:09:14.018328",
     "status": "completed"
    },
    "tags": []
   },
   "source": [
    "# MPIA Arxiv on Deck 2\n",
    "\n",
    "Contains the steps to produce the paper extractions."
   ]
  },
  {
   "cell_type": "code",
   "execution_count": 1,
   "id": "3a0d6e11",
   "metadata": {
    "execution": {
     "iopub.execute_input": "2023-06-28T04:09:14.036580Z",
     "iopub.status.busy": "2023-06-28T04:09:14.035663Z",
     "iopub.status.idle": "2023-06-28T04:09:14.268891Z",
     "shell.execute_reply": "2023-06-28T04:09:14.267942Z"
    },
    "papermill": {
     "duration": 0.241268,
     "end_time": "2023-06-28T04:09:14.272112",
     "exception": false,
     "start_time": "2023-06-28T04:09:14.030844",
     "status": "completed"
    },
    "tags": []
   },
   "outputs": [],
   "source": [
    "# Imports\n",
    "import os\n",
    "from IPython.display import Markdown, display\n",
    "from tqdm.notebook import tqdm\n",
    "import warnings\n",
    "from PIL import Image \n",
    "\n",
    "# requires arxiv_on_deck_2\n",
    "\n",
    "from arxiv_on_deck_2.arxiv2 import (get_new_papers, \n",
    "                                    get_paper_from_identifier,\n",
    "                                    retrieve_document_source, \n",
    "                                    get_markdown_badge)\n",
    "from arxiv_on_deck_2 import (latex,\n",
    "                             latex_bib,\n",
    "                             mpia,\n",
    "                             highlight_authors_in_list)\n",
    "\n",
    "# Sometimes images are really big\n",
    "Image.MAX_IMAGE_PIXELS = 1000000000 "
   ]
  },
  {
   "cell_type": "code",
   "execution_count": 2,
   "id": "22aa9d44",
   "metadata": {
    "execution": {
     "iopub.execute_input": "2023-06-28T04:09:14.281298Z",
     "iopub.status.busy": "2023-06-28T04:09:14.280832Z",
     "iopub.status.idle": "2023-06-28T04:09:14.288251Z",
     "shell.execute_reply": "2023-06-28T04:09:14.287601Z"
    },
    "papermill": {
     "duration": 0.013749,
     "end_time": "2023-06-28T04:09:14.289822",
     "exception": false,
     "start_time": "2023-06-28T04:09:14.276073",
     "status": "completed"
    },
    "tags": []
   },
   "outputs": [],
   "source": [
    "# Some useful definitions.\n",
    "\n",
    "class AffiliationWarning(UserWarning):\n",
    "    pass\n",
    "\n",
    "class AffiliationError(RuntimeError):\n",
    "    pass\n",
    "\n",
    "def validation(source: str):\n",
    "    \"\"\"Raises error paper during parsing of source file\n",
    "    \n",
    "    Allows checks before parsing TeX code.\n",
    "    \n",
    "    Raises AffiliationWarning\n",
    "    \"\"\"\n",
    "    check = mpia.affiliation_verifications(source, verbose=True)\n",
    "    if check is not True:\n",
    "        raise AffiliationError(\"mpia.affiliation_verifications: \" + check)\n",
    "\n",
    "        \n",
    "warnings.simplefilter('always', AffiliationWarning)\n",
    "\n",
    "\n",
    "def get_markdown_qrcode(paper_id: str):\n",
    "    \"\"\" Generate a qrcode to the arxiv page using qrserver.com\n",
    "    \n",
    "    :param paper: Arxiv paper\n",
    "    :returns: markdown text\n",
    "    \"\"\"\n",
    "    url = r\"https://api.qrserver.com/v1/create-qr-code/?size=100x100&data=\"\n",
    "    txt = f\"\"\"<img src={url}\"https://arxiv.org/abs/{paper_id}\">\"\"\"\n",
    "    txt = '<div id=\"qrcode\">' + txt + '</div>'\n",
    "    return txt"
   ]
  },
  {
   "cell_type": "markdown",
   "id": "14bd6310",
   "metadata": {
    "papermill": {
     "duration": 0.003485,
     "end_time": "2023-06-28T04:09:14.296905",
     "exception": false,
     "start_time": "2023-06-28T04:09:14.293420",
     "status": "completed"
    },
    "tags": []
   },
   "source": [
    "## get list of arxiv paper candidates\n",
    "\n",
    "We use the MPIA mitarbeiter list webpage from mpia.de to get author names\n",
    "We then get all new papers from Arxiv and match authors"
   ]
  },
  {
   "cell_type": "code",
   "execution_count": 3,
   "id": "2645e73a",
   "metadata": {
    "execution": {
     "iopub.execute_input": "2023-06-28T04:09:14.305916Z",
     "iopub.status.busy": "2023-06-28T04:09:14.305315Z",
     "iopub.status.idle": "2023-06-28T04:09:40.318689Z",
     "shell.execute_reply": "2023-06-28T04:09:40.317748Z"
    },
    "papermill": {
     "duration": 26.019642,
     "end_time": "2023-06-28T04:09:40.320399",
     "exception": false,
     "start_time": "2023-06-28T04:09:14.300757",
     "status": "completed"
    },
    "tags": []
   },
   "outputs": [
    {
     "name": "stdout",
     "output_type": "stream",
     "text": [
      "M. Habouzit  ->  M. Habouzit  |  ['M. Habouzit']\n",
      "A. Gould  ->  A. Gould  |  ['A. Gould']\n",
      "S. Li  ->  S. Li  |  ['S. Li']\n"
     ]
    },
    {
     "name": "stdout",
     "output_type": "stream",
     "text": [
      "M. Habouzit  ->  M. Habouzit  |  ['M. Habouzit']\n",
      "X. Zhang  ->  X. Zhang  |  ['X. Zhang']\n",
      "Arxiv has 68 new papers today\n",
      "          5 with possible author matches\n"
     ]
    }
   ],
   "source": [
    "# get list from MPIA website\n",
    "# it automatically filters identified non-scientists :func:`mpia.filter_non_scientists`\n",
    "mpia_authors = mpia.get_mpia_mitarbeiter_list()\n",
    "normed_mpia_authors = [k[1] for k in mpia_authors]   # initials + fullname\n",
    "new_papers = get_new_papers()\n",
    "# add manual references\n",
    "add_paper_refs = []\n",
    "new_papers.extend([get_paper_from_identifier(k) for k in add_paper_refs])\n",
    "\n",
    "candidates = []\n",
    "for paperk in new_papers:\n",
    "    # Check author list with their initials\n",
    "    normed_author_list = [mpia.get_initials(k) for k in paperk['authors']]\n",
    "    hl_authors = highlight_authors_in_list(normed_author_list, normed_mpia_authors, verbose=True)\n",
    "    matches = [(hl, orig) for hl, orig in zip(hl_authors, paperk['authors']) if 'mark' in hl]\n",
    "    paperk['authors'] = hl_authors\n",
    "    if matches:\n",
    "        # only select paper if an author matched our list\n",
    "        candidates.append(paperk)\n",
    "print(\"\"\"Arxiv has {0:,d} new papers today\"\"\".format(len(new_papers)))        \n",
    "print(\"\"\"          {0:,d} with possible author matches\"\"\".format(len(candidates)))"
   ]
  },
  {
   "cell_type": "markdown",
   "id": "3543b34a",
   "metadata": {
    "papermill": {
     "duration": 0.003718,
     "end_time": "2023-06-28T04:09:40.328145",
     "exception": false,
     "start_time": "2023-06-28T04:09:40.324427",
     "status": "completed"
    },
    "tags": []
   },
   "source": [
    "# Parse sources and generate relevant outputs\n",
    "\n",
    "From the candidates, we do the following steps:\n",
    "* get their tarball from ArXiv (and extract data)\n",
    "* find the main .tex file: find one with \\documentclass{...} (sometimes it's non trivial)\n",
    "* Check affiliations with :func:`validation`, which uses :func:`mpia.affiliation_verifications`\n",
    "* If passing the affiliations: we parse the .tex source\n",
    "   * inject sub-documents into the main (flatten the main document)\n",
    "   * parse structure, extract information (title, abstract, authors, figures...)\n",
    "   * handles `\\graphicspath` if provided\n",
    "* Generate the .md document."
   ]
  },
  {
   "cell_type": "code",
   "execution_count": 4,
   "id": "9576b79e",
   "metadata": {
    "execution": {
     "iopub.execute_input": "2023-06-28T04:09:40.337378Z",
     "iopub.status.busy": "2023-06-28T04:09:40.337107Z",
     "iopub.status.idle": "2023-06-28T04:10:07.585410Z",
     "shell.execute_reply": "2023-06-28T04:10:07.584261Z"
    },
    "papermill": {
     "duration": 27.255203,
     "end_time": "2023-06-28T04:10:07.587176",
     "exception": false,
     "start_time": "2023-06-28T04:09:40.331973",
     "status": "completed"
    },
    "scrolled": false,
    "tags": []
   },
   "outputs": [
    {
     "data": {
      "application/vnd.jupyter.widget-view+json": {
       "model_id": "2ccfdcea7fc1420385d134a5055094ec",
       "version_major": 2,
       "version_minor": 0
      },
      "text/plain": [
       "  0%|          | 0/4 [00:00<?, ?it/s]"
      ]
     },
     "metadata": {},
     "output_type": "display_data"
    },
    {
     "name": "stdout",
     "output_type": "stream",
     "text": [
      "Retrieving document from  https://arxiv.org/e-print/2306.14990\n"
     ]
    },
    {
     "name": "stdout",
     "output_type": "stream",
     "text": [
      "extracting tarball to tmp_2306.14990..."
     ]
    },
    {
     "name": "stdout",
     "output_type": "stream",
     "text": [
      " done.\n",
      "Retrieving document from  https://arxiv.org/e-print/2306.15037\n"
     ]
    },
    {
     "name": "stdout",
     "output_type": "stream",
     "text": [
      "extracting tarball to tmp_2306.15037..."
     ]
    },
    {
     "name": "stdout",
     "output_type": "stream",
     "text": [
      " done.\n"
     ]
    },
    {
     "name": "stdout",
     "output_type": "stream",
     "text": [
      "A. Gould  ->  A. Gould  |  ['A. Gould']\n"
     ]
    },
    {
     "name": "stderr",
     "output_type": "stream",
     "text": [
      "/opt/hostedtoolcache/Python/3.9.17/x64/lib/python3.9/site-packages/arxiv_on_deck_2/latex.py:730: LatexWarning: Could not extract abstract from tmp_2306.15037/yee_draft3.1.tex\n",
      "  warnings.warn(LatexWarning(f\"Could not extract abstract from {self.main_file}\"))\n"
     ]
    },
    {
     "name": "stdout",
     "output_type": "stream",
     "text": [
      "list index out of range\n",
      "Retrieving document from  https://arxiv.org/e-print/2306.15346\n"
     ]
    },
    {
     "name": "stdout",
     "output_type": "stream",
     "text": [
      "extracting tarball to tmp_2306.15346..."
     ]
    },
    {
     "name": "stdout",
     "output_type": "stream",
     "text": [
      " done.\n",
      "Retrieving document from  https://arxiv.org/e-print/2306.15527\n"
     ]
    },
    {
     "name": "stdout",
     "output_type": "stream",
     "text": [
      "extracting tarball to tmp_2306.15527... done.\n"
     ]
    }
   ],
   "source": [
    "documents = []\n",
    "failed = []\n",
    "for paper in tqdm(candidates[:-1]):\n",
    "    paper_id = paper['identifier'].lower().replace('arxiv:', '')\n",
    "    \n",
    "    folder = f'tmp_{paper_id}'\n",
    "\n",
    "    try:\n",
    "        if not os.path.isdir(folder):\n",
    "            folder = retrieve_document_source(f\"{paper_id}\", f'tmp_{paper_id}')\n",
    "        \n",
    "        try:\n",
    "            doc = latex.LatexDocument(folder, validation=validation)    \n",
    "        except AffiliationError as affilerror:\n",
    "            msg = f\"ArXiv:{paper_id:s} is not an MPIA paper... \" + str(affilerror)\n",
    "            failed.append((paper, \"affiliation error: \" + str(affilerror) ))\n",
    "            continue\n",
    "        \n",
    "        # Hack because sometimes author parsing does not work well\n",
    "        if (len(doc.authors) != len(paper['authors'])):\n",
    "            doc._authors = paper['authors']\n",
    "        else:\n",
    "            # highlight authors (FIXME: doc.highlight_authors)\n",
    "            # done on arxiv paper already\n",
    "            doc._authors = highlight_authors_in_list(\n",
    "                [mpia.get_initials(k) for k in doc.authors], \n",
    "                normed_mpia_authors, verbose=True)\n",
    "        if (doc.abstract) in (None, ''):\n",
    "            doc._abstract = paper['abstract']\n",
    "            \n",
    "        doc.comment = (get_markdown_badge(paper_id) + \n",
    "                       \"<mark>Appeared on: \" + paper['date'] + \"</mark> - \")\n",
    "        if paper['comments']:\n",
    "            doc.comment += \" _\" + paper['comments'] + \"_\"\n",
    "        \n",
    "        full_md = doc.generate_markdown_text()\n",
    "        \n",
    "        full_md += get_markdown_qrcode(paper_id)\n",
    "        \n",
    "        # replace citations\n",
    "        try:\n",
    "            bibdata = latex_bib.LatexBib.from_doc(doc)\n",
    "            full_md = latex_bib.replace_citations(full_md, bibdata)\n",
    "        except Exception as e:\n",
    "            print(e)\n",
    "        \n",
    "        documents.append((paper_id, full_md))\n",
    "    except Exception as e:\n",
    "        warnings.warn(latex.LatexWarning(f\"{paper_id:s} did not run properly\\n\" +\n",
    "                                         str(e)\n",
    "                                        ))\n",
    "        failed.append((paper, \"latex error \" + str(e)))"
   ]
  },
  {
   "cell_type": "markdown",
   "id": "2505a25c",
   "metadata": {
    "papermill": {
     "duration": 0.004568,
     "end_time": "2023-06-28T04:10:07.597871",
     "exception": false,
     "start_time": "2023-06-28T04:10:07.593303",
     "status": "completed"
    },
    "tags": []
   },
   "source": [
    "### Export the logs\n",
    "\n",
    "Throughout, we also keep track of the logs per paper. see `logs-{today date}.md` "
   ]
  },
  {
   "cell_type": "code",
   "execution_count": 5,
   "id": "d733828a",
   "metadata": {
    "execution": {
     "iopub.execute_input": "2023-06-28T04:10:07.608998Z",
     "iopub.status.busy": "2023-06-28T04:10:07.608303Z",
     "iopub.status.idle": "2023-06-28T04:10:07.631431Z",
     "shell.execute_reply": "2023-06-28T04:10:07.630863Z"
    },
    "papermill": {
     "duration": 0.030314,
     "end_time": "2023-06-28T04:10:07.632877",
     "exception": false,
     "start_time": "2023-06-28T04:10:07.602563",
     "status": "completed"
    },
    "scrolled": false,
    "tags": []
   },
   "outputs": [
    {
     "data": {
      "text/markdown": [
       "## Successful papers"
      ],
      "text/plain": [
       "<IPython.core.display.Markdown object>"
      ]
     },
     "metadata": {},
     "output_type": "display_data"
    },
    {
     "data": {
      "text/markdown": [
       "\n",
       "|||\n",
       "|---:|:---|\n",
       "| [![arXiv](https://img.shields.io/badge/arXiv-arXiv:2306.15037-b31b1b.svg)](https://arxiv.org/abs/arXiv:2306.15037) | **The Scientific Discovery Space for the Roman Galactic Bulge Time Domain  Survey**  |\n",
       "|| J. C. Yee, <mark>A. Gould</mark> |\n",
       "|*Appeared on*| *2023-06-28*|\n",
       "|*Comments*| *10 pages, submitted to Roman Core Community Survey white paper call*|\n",
       "|**Abstract**| Maximizing the scientific return of Roman requires focusing on the scientific discovery space opened up by Roman relative to the ground: i.e., planets in wide orbits (log s > 0.4), the smallest mass-ratio planets (log q < -4.5), and free-floating planet candidates (especially those with thetaE < 1 uas). However, capitalizing on that leverage requires not just detecting such planets but characterizing them sufficiently that they can be used in a statistical analysis. In particular, the signals from all three categories are all prone to light curve degeneracies that may lead to ambiguities in the planet mass-ratio q, separation s, and the size of the source rho (used to measure thetaE and constrain the host mass). Bound planets may also have light curves that are degenerate with models that include a second source rather than a planet. The most immediate need for designing the Roman Galactic Bulge Time Domain Survey is a detailed simulation of wide-orbit and small planetary perturbations to investigate how well the planet perturbations will be characterized. These investigations and related trade-studies must be done in order to maximize Roman's ability to take advantage of new parameter space. |"
      ],
      "text/plain": [
       "[arXiv:2306.15037] The Scientific Discovery Space for the Roman Galactic Bulge Time Domain  Survey\n",
       "\tJ. C. Yee, <mark>A. Gould</mark>"
      ]
     },
     "metadata": {},
     "output_type": "display_data"
    },
    {
     "data": {
      "text/markdown": [
       "## Failed papers"
      ],
      "text/plain": [
       "<IPython.core.display.Markdown object>"
      ]
     },
     "metadata": {},
     "output_type": "display_data"
    },
    {
     "data": {
      "text/markdown": [
       "\n",
       "|||\n",
       "|---:|:---|\n",
       "| [![arXiv](https://img.shields.io/badge/arXiv-arXiv:2306.14990-b31b1b.svg)](https://arxiv.org/abs/arXiv:2306.14990) | **Massive Black Hole Binaries as LISA Precursors in the Roman High  Latitude Time Domain Survey**  |\n",
       "|| Z. Haiman, et al. -- incl., <mark>M. Habouzit</mark> |\n",
       "|*Appeared on*| *2023-06-28*|\n",
       "|*Comments*| *White Paper for the Nancy Grace Roman Space Telescope's Core Community Surveys (this https URL)*|\n",
       "|**Abstract**| With its capacity to observe $\\sim 10^{5-6}$ faint active galactic nuclei (AGN) out to redshift $z\\approx 6$, Roman is poised to reveal a population of $10^{4-6}\\, {\\rm M_\\odot}$ black holes during an epoch of vigorous galaxy assembly. By measuring the light curves of a subset of these AGN and looking for periodicity, Roman can identify several hundred massive black hole binaries (MBHBs) with 5-12 day orbital periods, which emit copious gravitational radiation and will inevitably merge on timescales of $10^{3-5}$ years. During the last few months of their merger, such binaries are observable with the Laser Interferometer Space Antenna (LISA), a joint ESA/NASA gravitational wave mission set to launch in the mid-2030s. Roman can thus find LISA precursors, provide uniquely robust constraints on the LISA source population, help identify the host galaxies of LISA mergers, and unlock the potential of multi-messenger astrophysics with massive black hole binaries. |\n",
       "|<p style=\"color:green\"> **ERROR** </p>| <p style=\"color:green\">affiliation error: mpia.affiliation_verifications: 'Heidelberg' keyword not found.</p> |"
      ],
      "text/plain": [
       "<IPython.core.display.Markdown object>"
      ]
     },
     "metadata": {},
     "output_type": "display_data"
    },
    {
     "data": {
      "text/markdown": [
       "\n",
       "|||\n",
       "|---:|:---|\n",
       "| [![arXiv](https://img.shields.io/badge/arXiv-arXiv:2306.15346-b31b1b.svg)](https://arxiv.org/abs/arXiv:2306.15346) | **Episodic Accretion in Protostars -- An ALMA Survey of Molecular Jets in  the Orion Molecular Cloud**  |\n",
       "|| S. Dutta, et al. -- incl., <mark>S. Li</mark> |\n",
       "|*Appeared on*| *2023-06-28*|\n",
       "|*Comments*| *Submitted to Journal; 27 pages, 15 Figures and additional Appendix material*|\n",
       "|**Abstract**| Protostellar outflows and jets are almost ubiquitous characteristics during the mass accretion phase, and encode the history of stellar accretion, complex-organic molecule (COM) formation, and planet formation. Episodic jets are likely connected to episodic accretion through the disk. Despite the importance, there is a lack of studies of a statistically significant sample of protostars via high-sensitivity and high-resolution observations. To explore episodic accretion mechanisms and the chronologies of episodic events, we investigated 42 fields containing protostars with ALMA observations of CO, SiO, and 1.3\\,mm continuum emission. We detected SiO emission in 21 fields, where 19 sources are driving confirmed molecular jets with high abundances of SiO. Jet velocities, mass-loss rates, mass-accretion rates, and periods of accretion events are found to be dependent on the driving forces of the jet (e.g., bolometric luminosity, envelope mass). Next, velocities and mass-loss rates are positively correlated with the surrounding envelope mass, suggesting that the presence of high mass around protostars increases the ejection-accretion activity. We determine mean periods of ejection events of 20$-$175 years for our sample, which could be associated with perturbation zones of $\\sim$ 2$-$25\\,au extent around the protostars. Also, mean ejection periods are anti-correlated with the envelope mass, where high-accretion rates may trigger more frequent ejection events. The observed periods of outburst/ejection are much shorter than the freeze-out time scale of the simplest COMs like CH$_3$OH, suggesting that episodic events largely maintain the ice-gas balance inside and around the snowline. |\n",
       "|<p style=\"color:green\"> **ERROR** </p>| <p style=\"color:green\">affiliation error: mpia.affiliation_verifications: 'Heidelberg' keyword not found.</p> |"
      ],
      "text/plain": [
       "<IPython.core.display.Markdown object>"
      ]
     },
     "metadata": {},
     "output_type": "display_data"
    },
    {
     "data": {
      "text/markdown": [
       "\n",
       "|||\n",
       "|---:|:---|\n",
       "| [![arXiv](https://img.shields.io/badge/arXiv-arXiv:2306.15527-b31b1b.svg)](https://arxiv.org/abs/arXiv:2306.15527) | **Discovery and Characterization of Galactic-scale Dual Supermassive Black  Holes Across Cosmic Time**  |\n",
       "|| Y. Shen, et al. -- incl., <mark>M. Habouzit</mark> |\n",
       "|*Appeared on*| *2023-06-28*|\n",
       "|*Comments*| *Roman Core Community Survey White Paper, focusing on the High Latitude Wide Area Survey*|\n",
       "|**Abstract**| The hierarchical structure formation paradigm predicts the formation of pairs of supermassive black holes in merging galaxies. When both (or one) members of the SMBH pair are unobscured AGNs, the system can be identified as a dual (or offset) AGN. Quantifying the abundance of these AGN pairs as functions of separation, redshift and host properties is crucial to understanding SMBH formation and AGN fueling in the broad context of galaxy formation. The High Latitude Wide Area Survey with Roman, with its unprecedented combination of sensitivity, spatial resolution, area and NIR wavelength coverage, will revolutionize the study of galactic-scale environments of SMBH pairs. This white paper summarizes the science opportunities and technical requirements on the discovery and characterization of SMBH pairs down to galactic scales (i.e., less than tens of kpc) over broad ranges of redshift (1<z<7) and luminosity (Lbol>1E42 erg/s). |\n",
       "|<p style=\"color:green\"> **ERROR** </p>| <p style=\"color:green\">affiliation error: mpia.affiliation_verifications: 'Heidelberg' keyword not found.</p> |"
      ],
      "text/plain": [
       "<IPython.core.display.Markdown object>"
      ]
     },
     "metadata": {},
     "output_type": "display_data"
    }
   ],
   "source": [
    "import datetime\n",
    "today = str(datetime.date.today())\n",
    "logfile = f\"_build/html/logs/log-{today}.md\"\n",
    "\n",
    "\n",
    "with open(logfile, 'w') as logs:\n",
    "    # Success\n",
    "    logs.write(f'# Arxiv on Deck 2: Logs - {today}\\n\\n')\n",
    "    logs.write(\"\"\"* Arxiv had {0:,d} new papers\\n\"\"\".format(len(new_papers)))\n",
    "    logs.write(\"\"\"    * {0:,d} with possible author matches\\n\\n\"\"\".format(len(candidates)))\n",
    "    logs.write(\"## Sucessful papers\\n\\n\")\n",
    "    display(Markdown(\"## Successful papers\"))\n",
    "    success = [k[0] for k in documents]\n",
    "    for candid in candidates:\n",
    "        if candid['identifier'].split(':')[-1] in success:\n",
    "            display(candid)\n",
    "            logs.write(candid.generate_markdown_text() + '\\n\\n')\n",
    "\n",
    "    ## failed\n",
    "    logs.write(\"## Failed papers\\n\\n\")\n",
    "    display(Markdown(\"## Failed papers\"))\n",
    "    failed = sorted(failed, key=lambda x: x[1])\n",
    "    current_reason = \"\"\n",
    "    for paper, reason in failed:\n",
    "        if 'affiliation' in reason:\n",
    "            color = 'green'\n",
    "        else:\n",
    "            color = 'red'\n",
    "        data = Markdown(\n",
    "                paper.generate_markdown_text() + \n",
    "                f'\\n|<p style=\"color:{color:s}\"> **ERROR** </p>| <p style=\"color:{color:s}\">{reason:s}</p> |'\n",
    "               )\n",
    "        if reason != current_reason:\n",
    "            logs.write(f'### {reason:s} \\n\\n')\n",
    "            current_reason = reason\n",
    "        logs.write(data.data + '\\n\\n')\n",
    "        \n",
    "        # only display here the important errors (all in logs)\n",
    "        # if color in ('red',):\n",
    "        display(data)"
   ]
  },
  {
   "cell_type": "markdown",
   "id": "472d20ee",
   "metadata": {
    "papermill": {
     "duration": 0.005184,
     "end_time": "2023-06-28T04:10:07.642615",
     "exception": false,
     "start_time": "2023-06-28T04:10:07.637431",
     "status": "completed"
    },
    "tags": []
   },
   "source": [
    "## Export documents\n",
    "\n",
    "We now write the .md files and export relevant images"
   ]
  },
  {
   "cell_type": "code",
   "execution_count": 6,
   "id": "d426aed9",
   "metadata": {
    "execution": {
     "iopub.execute_input": "2023-06-28T04:10:07.654352Z",
     "iopub.status.busy": "2023-06-28T04:10:07.653708Z",
     "iopub.status.idle": "2023-06-28T04:10:07.661230Z",
     "shell.execute_reply": "2023-06-28T04:10:07.660462Z"
    },
    "papermill": {
     "duration": 0.015687,
     "end_time": "2023-06-28T04:10:07.663035",
     "exception": false,
     "start_time": "2023-06-28T04:10:07.647348",
     "status": "completed"
    },
    "tags": []
   },
   "outputs": [],
   "source": [
    "def export_markdown_summary(md: str, md_fname:str, directory: str):\n",
    "    \"\"\"Export MD document and associated relevant images\"\"\"\n",
    "    import os\n",
    "    import shutil\n",
    "    import re\n",
    "\n",
    "    if (os.path.exists(directory) and not os.path.isdir(directory)):\n",
    "        raise RuntimeError(f\"a non-directory file exists with name {directory:s}\")\n",
    "\n",
    "    if (not os.path.exists(directory)):\n",
    "        print(f\"creating directory {directory:s}\")\n",
    "        os.mkdir(directory)\n",
    "\n",
    "    fig_fnames = (re.compile(r'\\[Fig.*\\]\\((.*)\\)').findall(md) + \n",
    "                  re.compile(r'\\<img src=\"([^>\\s]*)\"[^>]*/>').findall(md))\n",
    "    for fname in fig_fnames:\n",
    "        if 'http' in fname:\n",
    "            # No need to copy online figures\n",
    "            continue\n",
    "        destdir = os.path.join(directory, os.path.dirname(fname))\n",
    "        destfname = os.path.join(destdir, os.path.basename(fname))\n",
    "        try:\n",
    "            os.makedirs(destdir)\n",
    "        except FileExistsError:\n",
    "            pass\n",
    "        shutil.copy(fname, destfname)\n",
    "    with open(os.path.join(directory, md_fname), 'w') as fout:\n",
    "        fout.write(md)\n",
    "    print(\"exported in \", os.path.join(directory, md_fname))\n",
    "    [print(\"    + \" + os.path.join(directory,fk)) for fk in fig_fnames]"
   ]
  },
  {
   "cell_type": "code",
   "execution_count": 7,
   "id": "014d04a4",
   "metadata": {
    "execution": {
     "iopub.execute_input": "2023-06-28T04:10:07.674284Z",
     "iopub.status.busy": "2023-06-28T04:10:07.673828Z",
     "iopub.status.idle": "2023-06-28T04:10:07.680439Z",
     "shell.execute_reply": "2023-06-28T04:10:07.679787Z"
    },
    "papermill": {
     "duration": 0.014694,
     "end_time": "2023-06-28T04:10:07.682098",
     "exception": false,
     "start_time": "2023-06-28T04:10:07.667404",
     "status": "completed"
    },
    "tags": []
   },
   "outputs": [
    {
     "name": "stdout",
     "output_type": "stream",
     "text": [
      "exported in  _build/html/2306.15037.md\n",
      "    + _build/html/tmp_2306.15037/./ulens_disc_by_year.png\n",
      "    + _build/html/tmp_2306.15037/./yee_layout_7f_3_covfac_52_3_sensitivity_by_year.png\n",
      "    + _build/html/tmp_2306.15037/./OB161195_lc.png\n",
      "    + _build/html/tmp_2306.15037/./snrrat-eps-converted-to.png\n",
      "    + _build/html/tmp_2306.15037/./matchcum-eps-converted-to.png\n"
     ]
    }
   ],
   "source": [
    "for paper_id, md in documents:\n",
    "    export_markdown_summary(md, f\"{paper_id:s}.md\", '_build/html/')"
   ]
  },
  {
   "cell_type": "markdown",
   "id": "f087a0a7",
   "metadata": {
    "papermill": {
     "duration": 0.005365,
     "end_time": "2023-06-28T04:10:07.692344",
     "exception": false,
     "start_time": "2023-06-28T04:10:07.686979",
     "status": "completed"
    },
    "tags": []
   },
   "source": [
    "## Display the papers\n",
    "\n",
    "Not necessary but allows for a quick check."
   ]
  },
  {
   "cell_type": "code",
   "execution_count": 8,
   "id": "fd25f625",
   "metadata": {
    "execution": {
     "iopub.execute_input": "2023-06-28T04:10:07.705238Z",
     "iopub.status.busy": "2023-06-28T04:10:07.704489Z",
     "iopub.status.idle": "2023-06-28T04:10:07.710303Z",
     "shell.execute_reply": "2023-06-28T04:10:07.709482Z"
    },
    "papermill": {
     "duration": 0.01458,
     "end_time": "2023-06-28T04:10:07.712203",
     "exception": false,
     "start_time": "2023-06-28T04:10:07.697623",
     "status": "completed"
    },
    "scrolled": false,
    "tags": []
   },
   "outputs": [
    {
     "data": {
      "text/markdown": [
       "<div class=\"macros\" style=\"visibility:hidden;\">\n",
       "$\\newcommand{\\ensuremath}{}$\n",
       "$\\newcommand{\\xspace}{}$\n",
       "$\\newcommand{\\object}[1]{\\texttt{#1}}$\n",
       "$\\newcommand{\\farcs}{{.}''}$\n",
       "$\\newcommand{\\farcm}{{.}'}$\n",
       "$\\newcommand{\\arcsec}{''}$\n",
       "$\\newcommand{\\arcmin}{'}$\n",
       "$\\newcommand{\\ion}[2]{#1#2}$\n",
       "$\\newcommand{\\textsc}[1]{\\textrm{#1}}$\n",
       "$\\newcommand{\\hl}[1]{\\textrm{#1}}$\n",
       "$\\newcommand{\\footnote}[1]{}$\n",
       "$\\newcommand{\\WF}{{\\em Roman}}$\n",
       "$\\newcommand{\\wangevent}{OGLE-2018-BLG-0383}$\n",
       "$\\newcommand{\\wband}{W146-band}$\n",
       "$\\newcommand{\\zband}{Z087-band}$\n",
       "$\\newcommand{\\bdv}[1]{\\mbox{\\boldmath#1}}$\n",
       "$\\newcommand{\\bpi}{{\\bdv\\pi}}$\n",
       "$\\newcommand{\\}{natexlab}$</div>\n",
       "\n",
       "\n",
       "\n",
       "<div id=\"title\">\n",
       "\n",
       "# The Scientific Discovery Space for the $\\WF$  Galactic Bulge Time Domain Survey\n",
       "\n",
       "</div>\n",
       "<div id=\"comments\">\n",
       "\n",
       "[![arXiv](https://img.shields.io/badge/arXiv-2306.15037-b31b1b.svg)](https://arxiv.org/abs/2306.15037)<mark>Appeared on: 2023-06-28</mark> -  _10 pages, submitted to Roman Core Community Survey white paper call_\n",
       "\n",
       "</div>\n",
       "<div id=\"authors\">\n",
       "\n",
       "J. C. Yee, <mark>A. Gould</mark>\n",
       "\n",
       "</div>\n",
       "<div id=\"abstract\">\n",
       "\n",
       "**Abstract:** Maximizing the scientific return of Roman requires focusing on the scientific discovery space opened up by Roman relative to the ground: i.e., planets in wide orbits (log s > 0.4), the smallest mass-ratio planets (log q < -4.5), and free-floating planet candidates (especially those with thetaE < 1 uas). However, capitalizing on that leverage requires not just detecting such planets but characterizing them sufficiently that they can be used in a statistical analysis. In particular, the signals from all three categories are all prone to light curve degeneracies that may lead to ambiguities in the planet mass-ratio q, separation s, and the size of the source rho (used to measure thetaE and constrain the host mass). Bound planets may also have light curves that are degenerate with models that include a second source rather than a planet. The most immediate need for designing the Roman Galactic Bulge Time Domain Survey is a detailed simulation of wide-orbit and small planetary perturbations to investigate how well the planet perturbations will be characterized. These investigations and related trade-studies must be done in order to maximize Roman's ability to take advantage of new parameter space. \n",
       "\n",
       "</div>\n",
       "\n",
       "<div id=\"div_fig1\">\n",
       "\n",
       "<img src=\"tmp_2306.15037/./ulens_disc_by_year.png\" alt=\"Fig1.1\" width=\"50%\"/><img src=\"tmp_2306.15037/./yee_layout_7f_3_covfac_52_3_sensitivity_by_year.png\" alt=\"Fig1.2\" width=\"50%\"/>\n",
       "\n",
       "**Figure 1. -** $\\WF$  Galactic Bulge Time Domain Survey discovery space compared to microlensing discoveries over time (NASA Exoplanet Archive, accessed 5/19/23). Top, left axis (magenta): number of microlensing planets published each year. A publication rate of 40 planets/year from the ground is assumed for future years. Top, right axis (black): cumulative number of published microlensing planets (solid=actual, dotted=projected). The black dashed lines indicate the approximate times when white papers were being prepared for the 2010 and 2020 decadal surveys and the start of the $\\WF$  Galactic  Bulge Time Domain Survey. Bottom \\citep{Penny19}: squares = known planet distribution at the end of 2008 (magenta), 2018 (cyan), and now (black) compared to the Solar System planets and simulated $\\WF$  planet yield (gray points). The blue line indicates the expected $\\WF$ , sensitivity limit. (*fig:discovery_space*)\n",
       "\n",
       "</div>\n",
       "<div id=\"div_fig2\">\n",
       "\n",
       "<img src=\"tmp_2306.15037/./OB161195_lc.png\" alt=\"Fig5\" width=\"100%\"/>\n",
       "\n",
       "**Figure 5. -** Small mass ratio planets can produce \"bump\"-like perturbations that may be subject to degeneracies such as the \"central-resonant\" degeneracy. This example shows two possible models for the planet in OGLE-2016-BLG-1195. Similar to potential degeneracies for wide-orbit planets, the RGBS cadence will need to be high enough to distinguish between various possible models. \\citep[Figure from ][]{Gould23_ob1195} (*fig:ob1195*)\n",
       "\n",
       "</div>\n",
       "<div id=\"div_fig3\">\n",
       "\n",
       "<img src=\"tmp_2306.15037/./snrrat-eps-converted-to.png\" alt=\"Fig3.1\" width=\"50%\"/><img src=\"tmp_2306.15037/./matchcum-eps-converted-to.png\" alt=\"Fig3.2\" width=\"50%\"/>\n",
       "\n",
       "**Figure 3. -** $\\WF$'s primary advantage over ground-based surveys comes at low magnification. For $A = 1$, $\\WF$  has a signal-to-noise advantage of $\\sim 5$--$12$ over the KMTNet, but at $A=100$ that advantage is a relatively modest factor of $\\sim 2$.\n",
       "\tBottom: Absolute magnitudes of RGBS sources compared to KMTNet sources at the same cumulative fraction; e.g., half of all RGBS sources will be $M_I < 6$ whereas half of all KMTNet sources are $M_I < 3.25$. Top: relative signal-to-noise ratio between $\\WF$  and KMTNet as a function of cumulative fraction of sources and magnification. Middle: same as top, but as a function of $\\WF$  absolute source magnitude, for which the corresponding KMTNet source magnitude can be found from the bottom panel; e.g., for a $\\WF$  source with $M_I = 6$, the corresponding KMTNet source will be $M_I = 3.25$, and for such sources, $\\WF$  has a SNR advantage of $\\sim 11.5$ over KMTNet at $A=1$, but only $\\sim 3$ at $A=100$. Figures from \\citet{Gould23_kb2397}. (*fig:wf_kmt*)\n",
       "\n",
       "</div><div id=\"qrcode\"><img src=https://api.qrserver.com/v1/create-qr-code/?size=100x100&data=\"https://arxiv.org/abs/2306.15037\"></div>"
      ],
      "text/plain": [
       "<IPython.core.display.Markdown object>"
      ]
     },
     "metadata": {},
     "output_type": "display_data"
    }
   ],
   "source": [
    "[display(Markdown(k[1])) for k in documents];"
   ]
  },
  {
   "cell_type": "markdown",
   "id": "873873a4",
   "metadata": {
    "papermill": {
     "duration": 0.005381,
     "end_time": "2023-06-28T04:10:07.722485",
     "exception": false,
     "start_time": "2023-06-28T04:10:07.717104",
     "status": "completed"
    },
    "tags": []
   },
   "source": [
    "# Create HTML index"
   ]
  },
  {
   "cell_type": "code",
   "execution_count": 9,
   "id": "cf665672",
   "metadata": {
    "execution": {
     "iopub.execute_input": "2023-06-28T04:10:07.734734Z",
     "iopub.status.busy": "2023-06-28T04:10:07.734204Z",
     "iopub.status.idle": "2023-06-28T04:10:07.746166Z",
     "shell.execute_reply": "2023-06-28T04:10:07.745554Z"
    },
    "papermill": {
     "duration": 0.020282,
     "end_time": "2023-06-28T04:10:07.747761",
     "exception": false,
     "start_time": "2023-06-28T04:10:07.727479",
     "status": "completed"
    },
    "tags": []
   },
   "outputs": [
    {
     "name": "stdout",
     "output_type": "stream",
     "text": [
      "222  publications files modified in the last 7 days.\n"
     ]
    }
   ],
   "source": [
    "from datetime import datetime, timedelta, timezone\n",
    "from glob import glob\n",
    "import os\n",
    "\n",
    "files = glob('_build/html/*.md')\n",
    "days = 7\n",
    "now = datetime.today()\n",
    "res = []\n",
    "for fk in files:\n",
    "    stat_result = os.stat(fk).st_ctime\n",
    "    modified = datetime.fromtimestamp(stat_result, tz=timezone.utc).replace(tzinfo=None)\n",
    "    delta = now.today() - modified\n",
    "    if delta <= timedelta(days=days):\n",
    "        res.append((delta.seconds, fk))\n",
    "res = [k[1] for k in reversed(sorted(res, key=lambda x:x[1]))]\n",
    "npub = len(res)\n",
    "print(len(res), f\" publications files modified in the last {days:d} days.\")\n",
    "# [ print('\\t', k) for k in res ];"
   ]
  },
  {
   "cell_type": "code",
   "execution_count": 10,
   "id": "015de740",
   "metadata": {
    "execution": {
     "iopub.execute_input": "2023-06-28T04:10:07.760173Z",
     "iopub.status.busy": "2023-06-28T04:10:07.759484Z",
     "iopub.status.idle": "2023-06-28T04:10:07.777866Z",
     "shell.execute_reply": "2023-06-28T04:10:07.777249Z"
    },
    "papermill": {
     "duration": 0.02605,
     "end_time": "2023-06-28T04:10:07.779310",
     "exception": false,
     "start_time": "2023-06-28T04:10:07.753260",
     "status": "completed"
    },
    "tags": []
   },
   "outputs": [
    {
     "name": "stdout",
     "output_type": "stream",
     "text": [
      "2  publications in the last 7 days.\n"
     ]
    }
   ],
   "source": [
    "import datetime\n",
    "from glob import glob\n",
    "\n",
    "def get_last_n_days(lst, days=1):\n",
    "    \"\"\" Get the documents from the last n days \"\"\"\n",
    "    sorted_lst = sorted(lst, key=lambda x: x[1], reverse=True)\n",
    "    for fname, date in sorted_lst:\n",
    "        if date >= str(datetime.date.today() - datetime.timedelta(days=days)):\n",
    "            yield fname\n",
    "\n",
    "def extract_appearance_dates(lst_file):\n",
    "    dates = []\n",
    "\n",
    "    def get_date(line):\n",
    "        return line\\\n",
    "            .split('Appeared on:')[-1]\\\n",
    "            .split('</mark>')[0].strip()\n",
    "\n",
    "    for fname in lst:\n",
    "        with open(fname, 'r') as f:\n",
    "            found_date = False\n",
    "            for line in f:\n",
    "                if not found_date:\n",
    "                    if \"Appeared on\" in line:\n",
    "                        found_date = True\n",
    "                        dates.append((fname, get_date(line)))\n",
    "                else:\n",
    "                    break\n",
    "    return dates\n",
    "\n",
    "from glob import glob\n",
    "lst = glob('_build/html/*md')\n",
    "days = 7\n",
    "dates = extract_appearance_dates(lst)\n",
    "res = list(get_last_n_days(dates, days))\n",
    "npub = len(res)\n",
    "print(len(res), f\" publications in the last {days:d} days.\")"
   ]
  },
  {
   "cell_type": "code",
   "execution_count": 11,
   "id": "52ca0208",
   "metadata": {
    "execution": {
     "iopub.execute_input": "2023-06-28T04:10:07.791559Z",
     "iopub.status.busy": "2023-06-28T04:10:07.790891Z",
     "iopub.status.idle": "2023-06-28T04:10:07.797456Z",
     "shell.execute_reply": "2023-06-28T04:10:07.796961Z"
    },
    "papermill": {
     "duration": 0.013905,
     "end_time": "2023-06-28T04:10:07.798864",
     "exception": false,
     "start_time": "2023-06-28T04:10:07.784959",
     "status": "completed"
    },
    "scrolled": false,
    "tags": []
   },
   "outputs": [],
   "source": [
    "def create_carousel(npub=4):\n",
    "    \"\"\" Generate the HTML code for a carousel with `npub` slides \"\"\"\n",
    "    carousel = [\"\"\"  <div class=\"carousel\" \"\"\",\n",
    "                \"\"\"       data-flickity='{ \"autoPlay\": 10000, \"adaptiveHeight\": true, \"resize\": true, \"wrapAround\": true, \"pauseAutoPlayOnHover\": true, \"groupCells\": 1 }' id=\"asyncTypeset\">\"\"\"\n",
    "                ]\n",
    "    \n",
    "    item_str = \"\"\"    <div class=\"carousel-cell\"> <div id=\"slide{k}\" class=\"md_view\">Content {k}</div> </div>\"\"\"\n",
    "    for k in range(1, npub + 1):\n",
    "        carousel.append(item_str.format(k=k))\n",
    "    carousel.append(\"  </div>\")\n",
    "    return '\\n'.join(carousel)\n",
    "\n",
    "def create_grid(npub=4):\n",
    "    \"\"\" Generate the HTML code for a flat grid with `npub` slides \"\"\"\n",
    "    grid = [\"\"\"  <div class=\"grid\"> \"\"\",\n",
    "                ]\n",
    "    \n",
    "    item_str = \"\"\"    <div class=\"grid-item\"> <div id=\"slide{k}\" class=\"md_view\">Content {k}</div> </div>\"\"\"\n",
    "    for k in range(1, npub + 1):\n",
    "        grid.append(item_str.format(k=k))\n",
    "    grid.append(\"  </div>\")\n",
    "    return '\\n'.join(grid)"
   ]
  },
  {
   "cell_type": "code",
   "execution_count": 12,
   "id": "a6eac5b6",
   "metadata": {
    "execution": {
     "iopub.execute_input": "2023-06-28T04:10:07.811548Z",
     "iopub.status.busy": "2023-06-28T04:10:07.811279Z",
     "iopub.status.idle": "2023-06-28T04:10:07.816738Z",
     "shell.execute_reply": "2023-06-28T04:10:07.816155Z"
    },
    "papermill": {
     "duration": 0.013358,
     "end_time": "2023-06-28T04:10:07.818246",
     "exception": false,
     "start_time": "2023-06-28T04:10:07.804888",
     "status": "completed"
    },
    "scrolled": false,
    "tags": []
   },
   "outputs": [],
   "source": [
    "carousel = create_carousel(npub)\n",
    "docs = ', '.join(['\"{0:s}\"'.format(k.split('/')[-1]) for k in res])\n",
    "slides = ', '.join([f'\"slide{k}\"' for k in range(1, npub + 1)])\n",
    "\n",
    "with open(\"daily_template.html\", \"r\") as tpl:\n",
    "    page = tpl.read()\n",
    "    page = page.replace(\"{%-- carousel:s --%}\", carousel)\\\n",
    "               .replace(\"{%-- suptitle:s --%}\",  \"7-day archives\" )\\\n",
    "               .replace(\"{%-- docs:s --%}\", docs)\\\n",
    "               .replace(\"{%-- slides:s --%}\", slides)\n",
    "    \n",
    "with open(\"_build/html/index_7days.html\", 'w') as fout:\n",
    "    fout.write(page)"
   ]
  },
  {
   "cell_type": "code",
   "execution_count": 13,
   "id": "adc1a1ec",
   "metadata": {
    "execution": {
     "iopub.execute_input": "2023-06-28T04:10:07.831271Z",
     "iopub.status.busy": "2023-06-28T04:10:07.830528Z",
     "iopub.status.idle": "2023-06-28T04:10:07.837651Z",
     "shell.execute_reply": "2023-06-28T04:10:07.837102Z"
    },
    "papermill": {
     "duration": 0.015967,
     "end_time": "2023-06-28T04:10:07.839733",
     "exception": false,
     "start_time": "2023-06-28T04:10:07.823766",
     "status": "completed"
    },
    "tags": []
   },
   "outputs": [
    {
     "name": "stdout",
     "output_type": "stream",
     "text": [
      "2  publications in the last day.\n"
     ]
    }
   ],
   "source": [
    "# redo for today\n",
    "days = 1\n",
    "res = list(get_last_n_days(dates, days))\n",
    "npub = len(res)\n",
    "print(len(res), f\" publications in the last day.\")\n",
    "\n",
    "carousel = create_carousel(npub)\n",
    "docs = ', '.join(['\"{0:s}\"'.format(k.split('/')[-1]) for k in res])\n",
    "slides = ', '.join([f'\"slide{k}\"' for k in range(1, npub + 1)])\n",
    "\n",
    "with open(\"daily_template.html\", \"r\") as tpl:\n",
    "    page = tpl.read()\n",
    "    page = page.replace(\"{%-- carousel:s --%}\", carousel)\\\n",
    "               .replace(\"{%-- suptitle:s --%}\",  \"Daily\" )\\\n",
    "               .replace(\"{%-- docs:s --%}\", docs)\\\n",
    "               .replace(\"{%-- slides:s --%}\", slides)\n",
    "    \n",
    "# print(carousel, docs, slides)\n",
    "# print(page)\n",
    "with open(\"_build/html/index_daily.html\", 'w') as fout:\n",
    "    fout.write(page)"
   ]
  },
  {
   "cell_type": "code",
   "execution_count": 14,
   "id": "00eece82",
   "metadata": {
    "execution": {
     "iopub.execute_input": "2023-06-28T04:10:07.852581Z",
     "iopub.status.busy": "2023-06-28T04:10:07.852346Z",
     "iopub.status.idle": "2023-06-28T04:10:07.859238Z",
     "shell.execute_reply": "2023-06-28T04:10:07.858650Z"
    },
    "papermill": {
     "duration": 0.014983,
     "end_time": "2023-06-28T04:10:07.860820",
     "exception": false,
     "start_time": "2023-06-28T04:10:07.845837",
     "status": "completed"
    },
    "scrolled": false,
    "tags": []
   },
   "outputs": [
    {
     "name": "stdout",
     "output_type": "stream",
     "text": [
      "6  6 publications selected.\n"
     ]
    }
   ],
   "source": [
    "# Create the flat grid of the last N papers (fixed number regardless of dates)\n",
    "from itertools import islice \n",
    "\n",
    "npub = 6\n",
    "res = [k[0] for k in (islice(reversed(sorted(dates, key=lambda x: x[1])), 6))]\n",
    "print(len(res), f\" {npub} publications selected.\")\n",
    "\n",
    "grid = create_grid(npub)\n",
    "docs = ', '.join(['\"{0:s}\"'.format(k.split('/')[-1]) for k in res])\n",
    "slides = ', '.join([f'\"slide{k}\"' for k in range(1, npub + 1)])\n",
    "\n",
    "with open(\"grid_template.html\", \"r\") as tpl:\n",
    "    page = tpl.read()\n",
    "    page = page.replace(\"{%-- grid-content:s --%}\", grid)\\\n",
    "               .replace(\"{%-- suptitle:s --%}\",  f\"Last {npub:,d} papers\" )\\\n",
    "               .replace(\"{%-- docs:s --%}\", docs)\\\n",
    "               .replace(\"{%-- slides:s --%}\", slides)\n",
    "    \n",
    "# print(grid, docs, slides)\n",
    "# print(page)\n",
    "with open(\"_build/html/index_npub_grid.html\", 'w') as fout:\n",
    "    fout.write(page)"
   ]
  }
 ],
 "metadata": {
  "kernelspec": {
   "display_name": "Python 3 (ipykernel)",
   "language": "python",
   "name": "python3"
  },
  "language_info": {
   "codemirror_mode": {
    "name": "ipython",
    "version": 3
   },
   "file_extension": ".py",
   "mimetype": "text/x-python",
   "name": "python",
   "nbconvert_exporter": "python",
   "pygments_lexer": "ipython3",
   "version": "3.9.17"
  },
  "papermill": {
   "default_parameters": {},
   "duration": 55.262234,
   "end_time": "2023-06-28T04:10:08.085368",
   "environment_variables": {},
   "exception": null,
   "input_path": "MPIA daily digest.ipynb",
   "output_path": "log.ipynb",
   "parameters": {},
   "start_time": "2023-06-28T04:09:12.823134",
   "version": "2.4.0"
  },
  "vscode": {
   "interpreter": {
    "hash": "aee8b7b246df8f9039afb4144a1f6fd8d2ca17a180786b69acc140d282b71a49"
   }
  },
  "widgets": {
   "application/vnd.jupyter.widget-state+json": {
    "state": {
     "2ccfdcea7fc1420385d134a5055094ec": {
      "model_module": "@jupyter-widgets/controls",
      "model_module_version": "2.0.0",
      "model_name": "HBoxModel",
      "state": {
       "_dom_classes": [],
       "_model_module": "@jupyter-widgets/controls",
       "_model_module_version": "2.0.0",
       "_model_name": "HBoxModel",
       "_view_count": null,
       "_view_module": "@jupyter-widgets/controls",
       "_view_module_version": "2.0.0",
       "_view_name": "HBoxView",
       "box_style": "",
       "children": [
        "IPY_MODEL_75244efd38a14bbaa4da31bd27c3ddce",
        "IPY_MODEL_4d061a5a2ff84642af04993f48c6967f",
        "IPY_MODEL_d75a4c63ea3c4b95b3a3cb0b8dcf1283"
       ],
       "layout": "IPY_MODEL_c2e31c8f3c72420793097220fdab1685",
       "tabbable": null,
       "tooltip": null
      }
     },
     "36dab0b5ea904e3e8ea7920168edffb7": {
      "model_module": "@jupyter-widgets/controls",
      "model_module_version": "2.0.0",
      "model_name": "HTMLStyleModel",
      "state": {
       "_model_module": "@jupyter-widgets/controls",
       "_model_module_version": "2.0.0",
       "_model_name": "HTMLStyleModel",
       "_view_count": null,
       "_view_module": "@jupyter-widgets/base",
       "_view_module_version": "2.0.0",
       "_view_name": "StyleView",
       "background": null,
       "description_width": "",
       "font_size": null,
       "text_color": null
      }
     },
     "4d061a5a2ff84642af04993f48c6967f": {
      "model_module": "@jupyter-widgets/controls",
      "model_module_version": "2.0.0",
      "model_name": "FloatProgressModel",
      "state": {
       "_dom_classes": [],
       "_model_module": "@jupyter-widgets/controls",
       "_model_module_version": "2.0.0",
       "_model_name": "FloatProgressModel",
       "_view_count": null,
       "_view_module": "@jupyter-widgets/controls",
       "_view_module_version": "2.0.0",
       "_view_name": "ProgressView",
       "bar_style": "success",
       "description": "",
       "description_allow_html": false,
       "layout": "IPY_MODEL_509e7917a78a4284a26d90b801525e37",
       "max": 4.0,
       "min": 0.0,
       "orientation": "horizontal",
       "style": "IPY_MODEL_a366a28e9c7e439fa9758d7f2b46a52d",
       "tabbable": null,
       "tooltip": null,
       "value": 4.0
      }
     },
     "509e7917a78a4284a26d90b801525e37": {
      "model_module": "@jupyter-widgets/base",
      "model_module_version": "2.0.0",
      "model_name": "LayoutModel",
      "state": {
       "_model_module": "@jupyter-widgets/base",
       "_model_module_version": "2.0.0",
       "_model_name": "LayoutModel",
       "_view_count": null,
       "_view_module": "@jupyter-widgets/base",
       "_view_module_version": "2.0.0",
       "_view_name": "LayoutView",
       "align_content": null,
       "align_items": null,
       "align_self": null,
       "border_bottom": null,
       "border_left": null,
       "border_right": null,
       "border_top": null,
       "bottom": null,
       "display": null,
       "flex": null,
       "flex_flow": null,
       "grid_area": null,
       "grid_auto_columns": null,
       "grid_auto_flow": null,
       "grid_auto_rows": null,
       "grid_column": null,
       "grid_gap": null,
       "grid_row": null,
       "grid_template_areas": null,
       "grid_template_columns": null,
       "grid_template_rows": null,
       "height": null,
       "justify_content": null,
       "justify_items": null,
       "left": null,
       "margin": null,
       "max_height": null,
       "max_width": null,
       "min_height": null,
       "min_width": null,
       "object_fit": null,
       "object_position": null,
       "order": null,
       "overflow": null,
       "padding": null,
       "right": null,
       "top": null,
       "visibility": null,
       "width": null
      }
     },
     "607c59cd44f5478da1f08b2c13d5505b": {
      "model_module": "@jupyter-widgets/controls",
      "model_module_version": "2.0.0",
      "model_name": "HTMLStyleModel",
      "state": {
       "_model_module": "@jupyter-widgets/controls",
       "_model_module_version": "2.0.0",
       "_model_name": "HTMLStyleModel",
       "_view_count": null,
       "_view_module": "@jupyter-widgets/base",
       "_view_module_version": "2.0.0",
       "_view_name": "StyleView",
       "background": null,
       "description_width": "",
       "font_size": null,
       "text_color": null
      }
     },
     "75244efd38a14bbaa4da31bd27c3ddce": {
      "model_module": "@jupyter-widgets/controls",
      "model_module_version": "2.0.0",
      "model_name": "HTMLModel",
      "state": {
       "_dom_classes": [],
       "_model_module": "@jupyter-widgets/controls",
       "_model_module_version": "2.0.0",
       "_model_name": "HTMLModel",
       "_view_count": null,
       "_view_module": "@jupyter-widgets/controls",
       "_view_module_version": "2.0.0",
       "_view_name": "HTMLView",
       "description": "",
       "description_allow_html": false,
       "layout": "IPY_MODEL_db912ab922ce486ea31ba0c7715c69ad",
       "placeholder": "​",
       "style": "IPY_MODEL_36dab0b5ea904e3e8ea7920168edffb7",
       "tabbable": null,
       "tooltip": null,
       "value": "100%"
      }
     },
     "9a3a3d56fd2846eb9b86333d50042fbd": {
      "model_module": "@jupyter-widgets/base",
      "model_module_version": "2.0.0",
      "model_name": "LayoutModel",
      "state": {
       "_model_module": "@jupyter-widgets/base",
       "_model_module_version": "2.0.0",
       "_model_name": "LayoutModel",
       "_view_count": null,
       "_view_module": "@jupyter-widgets/base",
       "_view_module_version": "2.0.0",
       "_view_name": "LayoutView",
       "align_content": null,
       "align_items": null,
       "align_self": null,
       "border_bottom": null,
       "border_left": null,
       "border_right": null,
       "border_top": null,
       "bottom": null,
       "display": null,
       "flex": null,
       "flex_flow": null,
       "grid_area": null,
       "grid_auto_columns": null,
       "grid_auto_flow": null,
       "grid_auto_rows": null,
       "grid_column": null,
       "grid_gap": null,
       "grid_row": null,
       "grid_template_areas": null,
       "grid_template_columns": null,
       "grid_template_rows": null,
       "height": null,
       "justify_content": null,
       "justify_items": null,
       "left": null,
       "margin": null,
       "max_height": null,
       "max_width": null,
       "min_height": null,
       "min_width": null,
       "object_fit": null,
       "object_position": null,
       "order": null,
       "overflow": null,
       "padding": null,
       "right": null,
       "top": null,
       "visibility": null,
       "width": null
      }
     },
     "a366a28e9c7e439fa9758d7f2b46a52d": {
      "model_module": "@jupyter-widgets/controls",
      "model_module_version": "2.0.0",
      "model_name": "ProgressStyleModel",
      "state": {
       "_model_module": "@jupyter-widgets/controls",
       "_model_module_version": "2.0.0",
       "_model_name": "ProgressStyleModel",
       "_view_count": null,
       "_view_module": "@jupyter-widgets/base",
       "_view_module_version": "2.0.0",
       "_view_name": "StyleView",
       "bar_color": null,
       "description_width": ""
      }
     },
     "c2e31c8f3c72420793097220fdab1685": {
      "model_module": "@jupyter-widgets/base",
      "model_module_version": "2.0.0",
      "model_name": "LayoutModel",
      "state": {
       "_model_module": "@jupyter-widgets/base",
       "_model_module_version": "2.0.0",
       "_model_name": "LayoutModel",
       "_view_count": null,
       "_view_module": "@jupyter-widgets/base",
       "_view_module_version": "2.0.0",
       "_view_name": "LayoutView",
       "align_content": null,
       "align_items": null,
       "align_self": null,
       "border_bottom": null,
       "border_left": null,
       "border_right": null,
       "border_top": null,
       "bottom": null,
       "display": null,
       "flex": null,
       "flex_flow": null,
       "grid_area": null,
       "grid_auto_columns": null,
       "grid_auto_flow": null,
       "grid_auto_rows": null,
       "grid_column": null,
       "grid_gap": null,
       "grid_row": null,
       "grid_template_areas": null,
       "grid_template_columns": null,
       "grid_template_rows": null,
       "height": null,
       "justify_content": null,
       "justify_items": null,
       "left": null,
       "margin": null,
       "max_height": null,
       "max_width": null,
       "min_height": null,
       "min_width": null,
       "object_fit": null,
       "object_position": null,
       "order": null,
       "overflow": null,
       "padding": null,
       "right": null,
       "top": null,
       "visibility": null,
       "width": null
      }
     },
     "d75a4c63ea3c4b95b3a3cb0b8dcf1283": {
      "model_module": "@jupyter-widgets/controls",
      "model_module_version": "2.0.0",
      "model_name": "HTMLModel",
      "state": {
       "_dom_classes": [],
       "_model_module": "@jupyter-widgets/controls",
       "_model_module_version": "2.0.0",
       "_model_name": "HTMLModel",
       "_view_count": null,
       "_view_module": "@jupyter-widgets/controls",
       "_view_module_version": "2.0.0",
       "_view_name": "HTMLView",
       "description": "",
       "description_allow_html": false,
       "layout": "IPY_MODEL_9a3a3d56fd2846eb9b86333d50042fbd",
       "placeholder": "​",
       "style": "IPY_MODEL_607c59cd44f5478da1f08b2c13d5505b",
       "tabbable": null,
       "tooltip": null,
       "value": " 4/4 [00:27&lt;00:00,  6.07s/it]"
      }
     },
     "db912ab922ce486ea31ba0c7715c69ad": {
      "model_module": "@jupyter-widgets/base",
      "model_module_version": "2.0.0",
      "model_name": "LayoutModel",
      "state": {
       "_model_module": "@jupyter-widgets/base",
       "_model_module_version": "2.0.0",
       "_model_name": "LayoutModel",
       "_view_count": null,
       "_view_module": "@jupyter-widgets/base",
       "_view_module_version": "2.0.0",
       "_view_name": "LayoutView",
       "align_content": null,
       "align_items": null,
       "align_self": null,
       "border_bottom": null,
       "border_left": null,
       "border_right": null,
       "border_top": null,
       "bottom": null,
       "display": null,
       "flex": null,
       "flex_flow": null,
       "grid_area": null,
       "grid_auto_columns": null,
       "grid_auto_flow": null,
       "grid_auto_rows": null,
       "grid_column": null,
       "grid_gap": null,
       "grid_row": null,
       "grid_template_areas": null,
       "grid_template_columns": null,
       "grid_template_rows": null,
       "height": null,
       "justify_content": null,
       "justify_items": null,
       "left": null,
       "margin": null,
       "max_height": null,
       "max_width": null,
       "min_height": null,
       "min_width": null,
       "object_fit": null,
       "object_position": null,
       "order": null,
       "overflow": null,
       "padding": null,
       "right": null,
       "top": null,
       "visibility": null,
       "width": null
      }
     }
    },
    "version_major": 2,
    "version_minor": 0
   }
  }
 },
 "nbformat": 4,
 "nbformat_minor": 5
}