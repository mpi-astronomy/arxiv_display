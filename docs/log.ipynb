{
 "cells": [
  {
   "cell_type": "markdown",
   "id": "92bcb855",
   "metadata": {
    "papermill": {
     "duration": 0.004327,
     "end_time": "2025-08-15T04:21:38.419955",
     "exception": false,
     "start_time": "2025-08-15T04:21:38.415628",
     "status": "completed"
    },
    "tags": []
   },
   "source": [
    "# MPIA Arxiv on Deck 2\n",
    "\n",
    "Contains the steps to produce the paper extractions."
   ]
  },
  {
   "cell_type": "code",
   "execution_count": 1,
   "id": "3a0d6e11",
   "metadata": {
    "execution": {
     "iopub.execute_input": "2025-08-15T04:21:38.427056Z",
     "iopub.status.busy": "2025-08-15T04:21:38.426857Z",
     "iopub.status.idle": "2025-08-15T04:21:38.652507Z",
     "shell.execute_reply": "2025-08-15T04:21:38.651869Z"
    },
    "papermill": {
     "duration": 0.23059,
     "end_time": "2025-08-15T04:21:38.653851",
     "exception": false,
     "start_time": "2025-08-15T04:21:38.423261",
     "status": "completed"
    },
    "tags": []
   },
   "outputs": [],
   "source": [
    "# Imports\n",
    "import os\n",
    "from IPython.display import Markdown, display\n",
    "from tqdm.notebook import tqdm\n",
    "import warnings\n",
    "from PIL import Image \n",
    "import re\n",
    "\n",
    "# requires arxiv_on_deck_2\n",
    "\n",
    "from arxiv_on_deck_2.arxiv2 import (get_new_papers, \n",
    "                                    get_paper_from_identifier,\n",
    "                                    retrieve_document_source, \n",
    "                                    get_markdown_badge)\n",
    "from arxiv_on_deck_2 import (latex,\n",
    "                             latex_bib,\n",
    "                             mpia,\n",
    "                             highlight_authors_in_list)\n",
    "\n",
    "# Sometimes images are really big\n",
    "Image.MAX_IMAGE_PIXELS = 1000000000 "
   ]
  },
  {
   "cell_type": "code",
   "execution_count": 2,
   "id": "22aa9d44",
   "metadata": {
    "execution": {
     "iopub.execute_input": "2025-08-15T04:21:38.661010Z",
     "iopub.status.busy": "2025-08-15T04:21:38.660802Z",
     "iopub.status.idle": "2025-08-15T04:21:38.668714Z",
     "shell.execute_reply": "2025-08-15T04:21:38.668069Z"
    },
    "papermill": {
     "duration": 0.012589,
     "end_time": "2025-08-15T04:21:38.669787",
     "exception": false,
     "start_time": "2025-08-15T04:21:38.657198",
     "status": "completed"
    },
    "tags": []
   },
   "outputs": [],
   "source": [
    "# Some useful definitions.\n",
    "\n",
    "class AffiliationWarning(UserWarning):\n",
    "    pass\n",
    "\n",
    "class AffiliationError(RuntimeError):\n",
    "    pass\n",
    "\n",
    "def validation(source: str):\n",
    "    \"\"\"Raises error paper during parsing of source file\n",
    "    \n",
    "    Allows checks before parsing TeX code.\n",
    "    \n",
    "    Raises AffiliationWarning\n",
    "    \"\"\"\n",
    "    check = mpia.affiliation_verifications(source, verbose=True)\n",
    "    if check is not True:\n",
    "        raise AffiliationError(\"mpia.affiliation_verifications: \" + check)\n",
    "\n",
    "        \n",
    "warnings.simplefilter('always', AffiliationWarning)\n",
    "\n",
    "\n",
    "def get_markdown_qrcode(paper_id: str):\n",
    "    \"\"\" Generate a qrcode to the arxiv page using qrserver.com\n",
    "    \n",
    "    :param paper: Arxiv paper\n",
    "    :returns: markdown text\n",
    "    \"\"\"\n",
    "    url = r\"https://api.qrserver.com/v1/create-qr-code/?size=100x100&data=\"\n",
    "    txt = f\"\"\"<img src={url}\"https://arxiv.org/abs/{paper_id}\">\"\"\"\n",
    "    txt = '<div id=\"qrcode\">' + txt + '</div>'\n",
    "    return txt\n",
    "\n",
    "\n",
    "def clean_non_western_encoded_characters_commands(text: str) -> str:\n",
    "    \"\"\" Remove non-western encoded characters from a string\n",
    "    List may need to grow.\n",
    "    \n",
    "    :param text: the text to clean\n",
    "    :return: the cleaned text\n",
    "    \"\"\"\n",
    "    text = re.sub(r\"(\\\\begin{CJK}{UTF8}{gbsn})(.*?)(\\\\end{CJK})\", r\"\\2\", text)\n",
    "    return text\n",
    "\n",
    "\n",
    "def get_initials(name: str) -> str:\n",
    "    \"\"\" Get the short name, e.g., A.-B. FamName\n",
    "    :param name: full name\n",
    "    :returns: initials\n",
    "    \"\"\"\n",
    "    initials = []\n",
    "    # account for non western names often in ()\n",
    "    if '(' in name:\n",
    "        name = clean_non_western_encoded_characters_commands(name)\n",
    "        suffix = re.findall(r\"\\((.*?)\\)\", name)[0]\n",
    "        name = name.replace(f\"({suffix})\", '')\n",
    "    else:\n",
    "        suffix = ''\n",
    "    split = name.split()\n",
    "    for token in split[:-1]:\n",
    "        if '-' in token:\n",
    "            current = '-'.join([k[0] + '.' for k in token.split('-')])\n",
    "        else:\n",
    "            current = token[0] + '.'\n",
    "        initials.append(current)\n",
    "    initials.append(split[-1].strip())\n",
    "    if suffix:\n",
    "        initials.append(f\"({suffix})\")\n",
    "    return ' '.join(initials)"
   ]
  },
  {
   "cell_type": "markdown",
   "id": "14bd6310",
   "metadata": {
    "papermill": {
     "duration": 0.002892,
     "end_time": "2025-08-15T04:21:38.675954",
     "exception": false,
     "start_time": "2025-08-15T04:21:38.673062",
     "status": "completed"
    },
    "tags": []
   },
   "source": [
    "## get list of arxiv paper candidates\n",
    "\n",
    "We use the MPIA mitarbeiter list webpage from mpia.de to get author names\n",
    "We then get all new papers from Arxiv and match authors"
   ]
  },
  {
   "cell_type": "code",
   "execution_count": 3,
   "id": "7ea813a8",
   "metadata": {
    "execution": {
     "iopub.execute_input": "2025-08-15T04:21:38.682716Z",
     "iopub.status.busy": "2025-08-15T04:21:38.682460Z",
     "iopub.status.idle": "2025-08-15T04:21:57.224972Z",
     "shell.execute_reply": "2025-08-15T04:21:57.224314Z"
    },
    "papermill": {
     "duration": 18.547226,
     "end_time": "2025-08-15T04:21:57.226095",
     "exception": false,
     "start_time": "2025-08-15T04:21:38.678869",
     "status": "completed"
    },
    "tags": []
   },
   "outputs": [],
   "source": [
    "# deal with the author list and edge cases of people that cannot be consistent on their name  \n",
    "\n",
    "def filter_non_scientists(name: str) -> bool:\n",
    "    \"\"\" Loose filter on expected authorships\n",
    "\n",
    "    removing IT, administration, technical staff\n",
    "    :param name: name\n",
    "    :returns: False if name is not a scientist\n",
    "    \"\"\"\n",
    "    remove_list = ['Licht', 'Binroth', 'Witzel', 'Jordan',\n",
    "                   'Zähringer', 'Scheerer', 'Hoffmann', 'Düe',\n",
    "                   'Hellmich', 'Enkler-Scharpegge', 'Witte-Nguy',\n",
    "                   'Dehen', 'Beckmann', 'Jager', 'Jäger'\n",
    "                  ]\n",
    "\n",
    "    for k in remove_list:\n",
    "        if k in name:\n",
    "            return False\n",
    "    return True\n",
    "\n",
    "def add_author_to_list(author_list: list) -> list:\n",
    "    \"\"\" Add author to list if not already in list\n",
    "    \n",
    "    :param author: author name\n",
    "    :param author_list: list of authors\n",
    "    :returns: updated list of authors\n",
    "    \"\"\"\n",
    "    add_list = ['T. Henning']\n",
    "\n",
    "    for author in add_list:\n",
    "        if author not in author_list:\n",
    "            author_list.append(author)\n",
    "    return author_list\n",
    "\n",
    "# get list from MPIA website\n",
    "# filter for non-scientists (mpia.get_mpia_mitarbeiter_list() does some filtering)\n",
    "mpia_authors = [k[1] for k in mpia.get_mpia_mitarbeiter_list() if filter_non_scientists(k[1])]\n",
    "# add some missing author because of inconsistencies in their MPIA name and author name on papers\n",
    "mpia_authors = add_author_to_list(mpia_authors)"
   ]
  },
  {
   "cell_type": "code",
   "execution_count": 4,
   "id": "2645e73a",
   "metadata": {
    "execution": {
     "iopub.execute_input": "2025-08-15T04:21:57.233333Z",
     "iopub.status.busy": "2025-08-15T04:21:57.233143Z",
     "iopub.status.idle": "2025-08-15T04:21:57.865522Z",
     "shell.execute_reply": "2025-08-15T04:21:57.864918Z"
    },
    "papermill": {
     "duration": 0.637082,
     "end_time": "2025-08-15T04:21:57.866570",
     "exception": false,
     "start_time": "2025-08-15T04:21:57.229488",
     "status": "completed"
    },
    "tags": []
   },
   "outputs": [
    {
     "name": "stdout",
     "output_type": "stream",
     "text": [
      "H. Beuther  ->  H. Beuther  |  ['H. Beuther']\n",
      "X. Zhang  ->  X. Zhang  |  ['X. Zhang']\n",
      "F. Walter  ->  F. Walter  |  ['F. Walter']\n",
      "Arxiv has 60 new papers today\n",
      "          3 with possible author matches\n"
     ]
    }
   ],
   "source": [
    "new_papers = get_new_papers()\n",
    "# add manual references\n",
    "add_paper_refs = []\n",
    "new_papers.extend([get_paper_from_identifier(k) for k in add_paper_refs])\n",
    "\n",
    "def robust_call(fn, value, *args, **kwargs):\n",
    "    try:\n",
    "        return fn(value, *args, **kwargs)\n",
    "    except Exception:\n",
    "        return value\n",
    "\n",
    "candidates = []\n",
    "for paperk in new_papers:\n",
    "    # Check author list with their initials\n",
    "    normed_author_list = [robust_call(mpia.get_initials, k) for k in paperk['authors']]\n",
    "    hl_authors = highlight_authors_in_list(normed_author_list, mpia_authors, verbose=True)\n",
    "    matches = [(hl, orig) for hl, orig in zip(hl_authors, paperk['authors']) if 'mark' in hl]\n",
    "    paperk['authors'] = hl_authors\n",
    "    if matches:\n",
    "        # only select paper if an author matched our list\n",
    "        candidates.append(paperk)\n",
    "print(\"\"\"Arxiv has {0:,d} new papers today\"\"\".format(len(new_papers)))        \n",
    "print(\"\"\"          {0:,d} with possible author matches\"\"\".format(len(candidates)))"
   ]
  },
  {
   "cell_type": "markdown",
   "id": "3543b34a",
   "metadata": {
    "papermill": {
     "duration": 0.003052,
     "end_time": "2025-08-15T04:21:57.873052",
     "exception": false,
     "start_time": "2025-08-15T04:21:57.870000",
     "status": "completed"
    },
    "tags": []
   },
   "source": [
    "# Parse sources and generate relevant outputs\n",
    "\n",
    "From the candidates, we do the following steps:\n",
    "* get their tarball from ArXiv (and extract data)\n",
    "* find the main .tex file: find one with \\documentclass{...} (sometimes it's non trivial)\n",
    "* Check affiliations with :func:`validation`, which uses :func:`mpia.affiliation_verifications`\n",
    "* If passing the affiliations: we parse the .tex source\n",
    "   * inject sub-documents into the main (flatten the main document)\n",
    "   * parse structure, extract information (title, abstract, authors, figures...)\n",
    "   * handles `\\graphicspath` if provided\n",
    "* Generate the .md document."
   ]
  },
  {
   "cell_type": "code",
   "execution_count": 5,
   "id": "9576b79e",
   "metadata": {
    "execution": {
     "iopub.execute_input": "2025-08-15T04:21:57.879934Z",
     "iopub.status.busy": "2025-08-15T04:21:57.879744Z",
     "iopub.status.idle": "2025-08-15T04:22:52.026714Z",
     "shell.execute_reply": "2025-08-15T04:22:52.025857Z"
    },
    "papermill": {
     "duration": 54.15177,
     "end_time": "2025-08-15T04:22:52.027861",
     "exception": false,
     "start_time": "2025-08-15T04:21:57.876091",
     "status": "completed"
    },
    "scrolled": false,
    "tags": []
   },
   "outputs": [
    {
     "data": {
      "application/vnd.jupyter.widget-view+json": {
       "model_id": "937c239400c24b7e88810463197e9057",
       "version_major": 2,
       "version_minor": 0
      },
      "text/plain": [
       "  0%|          | 0/3 [00:00<?, ?it/s]"
      ]
     },
     "metadata": {},
     "output_type": "display_data"
    },
    {
     "name": "stdout",
     "output_type": "stream",
     "text": [
      "Retrieving document from  https://arxiv.org/e-print/2508.10128\n"
     ]
    },
    {
     "name": "stdout",
     "output_type": "stream",
     "text": [
      "extracting tarball to tmp_2508.10128... done.\n"
     ]
    },
    {
     "name": "stdout",
     "output_type": "stream",
     "text": [
      "H. Beuther  ->  H. Beuther  |  ['H. Beuther']\n"
     ]
    },
    {
     "name": "stdout",
     "output_type": "stream",
     "text": [
      "Found 82 bibliographic references in tmp_2508.10128/ms.bbl.\n",
      "Retrieving document from  https://arxiv.org/e-print/2508.10329\n"
     ]
    },
    {
     "name": "stdout",
     "output_type": "stream",
     "text": [
      "extracting tarball to tmp_2508.10329... done.\n",
      "Retrieving document from  https://arxiv.org/e-print/2508.10895\n"
     ]
    },
    {
     "name": "stdout",
     "output_type": "stream",
     "text": [
      "extracting tarball to tmp_2508.10895..."
     ]
    },
    {
     "name": "stdout",
     "output_type": "stream",
     "text": [
      " done.\n"
     ]
    },
    {
     "name": "stdout",
     "output_type": "stream",
     "text": [
      "F. Walter  ->  F. Walter  |  ['F. Walter']\n"
     ]
    },
    {
     "name": "stdout",
     "output_type": "stream",
     "text": [
      "Found 112 bibliographic references in tmp_2508.10895/main-v3.bbl.\n"
     ]
    }
   ],
   "source": [
    "documents = []\n",
    "failed = []\n",
    "for paper in tqdm(candidates):\n",
    "    # debug crap\n",
    "    paper['identifier'] = paper['identifier'].lower().replace('arxiv:', '').replace(r'\\n', '').strip()\n",
    "    paper_id = paper['identifier']\n",
    "    \n",
    "    folder = f'tmp_{paper_id}'\n",
    "\n",
    "    try:\n",
    "        if not os.path.isdir(folder):\n",
    "            folder = retrieve_document_source(f\"{paper_id}\", f'tmp_{paper_id}')\n",
    "        \n",
    "        try:\n",
    "            doc = latex.LatexDocument(folder, validation=validation)    \n",
    "        except AffiliationError as affilerror:\n",
    "            msg = f\"ArXiv:{paper_id:s} is not an MPIA paper... \" + str(affilerror)\n",
    "            failed.append((paper, \"affiliation error: \" + str(affilerror) ))\n",
    "            continue\n",
    "        \n",
    "        # Hack because sometimes author parsing does not work well\n",
    "        if (len(doc.authors) != len(paper['authors'])):\n",
    "            doc._authors = paper['authors']\n",
    "        else:\n",
    "            # highlight authors (FIXME: doc.highlight_authors)\n",
    "            # done on arxiv paper already\n",
    "            doc._authors = highlight_authors_in_list(\n",
    "                [get_initials(k) for k in doc.authors], \n",
    "                mpia_authors, verbose=True)\n",
    "        if (doc.abstract) in (None, ''):\n",
    "            doc._abstract = paper['abstract']\n",
    "            \n",
    "        doc.comment = (get_markdown_badge(paper_id) + \n",
    "                       \"<mark>Appeared on: \" + paper['date'] + \"</mark> - \")\n",
    "        if paper['comments']:\n",
    "            doc.comment += \" _\" + paper['comments'] + \"_\"\n",
    "        \n",
    "        full_md = doc.generate_markdown_text()\n",
    "        \n",
    "        full_md += get_markdown_qrcode(paper_id)\n",
    "        \n",
    "        # replace citations\n",
    "        try:\n",
    "            bibdata = latex_bib.LatexBib.from_doc(doc)\n",
    "            full_md = latex_bib.replace_citations(full_md, bibdata)\n",
    "        except Exception as e:\n",
    "            print(\"Issues with the citations\")\n",
    "            print(e)\n",
    "        \n",
    "        documents.append((paper_id, full_md))\n",
    "    except Exception as e:\n",
    "        warnings.warn(latex.LatexWarning(f\"{paper_id:s} did not run properly\\n\" +\n",
    "                                         str(e)\n",
    "                                        ))\n",
    "        failed.append((paper, \"latex error \" + str(e)))"
   ]
  },
  {
   "cell_type": "markdown",
   "id": "2505a25c",
   "metadata": {
    "papermill": {
     "duration": 0.003619,
     "end_time": "2025-08-15T04:22:52.035396",
     "exception": false,
     "start_time": "2025-08-15T04:22:52.031777",
     "status": "completed"
    },
    "tags": []
   },
   "source": [
    "### Export the logs\n",
    "\n",
    "Throughout, we also keep track of the logs per paper. see `logs-{today date}.md` "
   ]
  },
  {
   "cell_type": "code",
   "execution_count": 6,
   "id": "d733828a",
   "metadata": {
    "execution": {
     "iopub.execute_input": "2025-08-15T04:22:52.043434Z",
     "iopub.status.busy": "2025-08-15T04:22:52.043234Z",
     "iopub.status.idle": "2025-08-15T04:22:52.056745Z",
     "shell.execute_reply": "2025-08-15T04:22:52.056197Z"
    },
    "papermill": {
     "duration": 0.018743,
     "end_time": "2025-08-15T04:22:52.057730",
     "exception": false,
     "start_time": "2025-08-15T04:22:52.038987",
     "status": "completed"
    },
    "scrolled": false,
    "tags": []
   },
   "outputs": [
    {
     "data": {
      "text/markdown": [
       "## Successful papers"
      ],
      "text/plain": [
       "<IPython.core.display.Markdown object>"
      ]
     },
     "metadata": {},
     "output_type": "display_data"
    },
    {
     "data": {
      "text/markdown": [
       "\n",
       "|||\n",
       "|---:|:---|\n",
       "| [![arXiv](https://img.shields.io/badge/arXiv-2508.10128-b31b1b.svg)](https://arxiv.org/abs/2508.10128) | **Pinched Magnetic Fields in the High-mass Protocluster W3 IRS5**  |\n",
       "|| H.-R. V. Chen, et al. -- incl., <mark>H. Beuther</mark> |\n",
       "|*Appeared on*| *2025-08-15*|\n",
       "|*Comments*| *19 pages, 7 figures, accepted for publication in The Astrophysical Journal*|\n",
       "|**Abstract**|            We present polarization maps of dust emission at 340 GHz in the luminous high-mass protocluster, W3 IRS5, observed with the Submillimeter Array. The projected magnetic fields appear fairly organized with a pinched morphology in the northern part and a concave shape in the southern part. We fit the polarization maps with a two-component magnetic field model: an hourglass model centered at the continuum peak, SMM2, and an empirical sphere centered at the O-type star, IRS7. Using the Davis-Chandrasekhar-Fermi method, we calculate a projected field strength of $B_\\mathrm{pos} = 1.4 \\; \\mathrm{mG}$. Along with the Zeeman measurement, a total magnetic field strength of $B_\\mathrm{tot} = 1.6 \\; \\mathrm{mG}$ is obtained. We find that the gravitational energy is the most dominant, followed by magnetic energy, and then turbulent energy. Small values of the virial parameter, $\\alpha_\\mathrm{vir} = 0.8$, and the ratio of timescales, $t_\\mathrm{ff}/t_\\mathrm{corss} = 0.6$, suggest an ongoing collapse. We also show collimated molecular outflows in the $\\mathrm{CO \\; (3-2)}$ and $\\mathrm{SiO \\; (8-7)}$ transitions. The morphology of magnetic fields and the surrounding \\HII regions put forward a scenario for W3 IRS5. A gravitationally unstable dense core formed within a neutral gas ridge plowed by the expansions of W3 A and W3 B. The core began to contract, causing gravity to pull the magnetic field lines inward, which resulted in a pinched field morphology. Subsequent expansion of W3 F, ionized by IRS7, perturbed the magnetic field, creating concave patterns. The dynamical interactions among protostars led to misalignment of their outflows.         |"
      ],
      "text/plain": [
       "[2508.10128] Pinched Magnetic Fields in the High-mass Protocluster W3 IRS5\n",
       "\tH.-R. V. Chen, et al. -- incl., <mark>H. Beuther</mark>"
      ]
     },
     "metadata": {},
     "output_type": "display_data"
    },
    {
     "data": {
      "text/markdown": [
       "\n",
       "|||\n",
       "|---:|:---|\n",
       "| [![arXiv](https://img.shields.io/badge/arXiv-2508.10895-b31b1b.svg)](https://arxiv.org/abs/2508.10895) | **Stars Born in the Wind: M82's Outflow and Halo Star Formation**  |\n",
       "|| V. V. Rao, et al. -- incl., <mark>F. Walter</mark> |\n",
       "|*Appeared on*| *2025-08-15*|\n",
       "|*Comments*| *22 pages; 11 figures; 1 table; accepted for publication in The Astrophysical Journal*|\n",
       "|**Abstract**|            Starburst galaxies, like M82, launch kiloparsec-scale galactic outflows that interact with the circumgalactic medium (CGM) in complex ways. Apart from enriching the CGM with metals and energy, these outflows may trigger star formation in the halo -- either by driving shocks into the CGM or transporting cold, star-forming gas. To investigate such processes, we analyze the star formation history (SFH) of the Southern Arcs -- arc-like stellar features located ~5 kpc from M82's star-forming disk along the minor axis -- using Hubble Space Telescope Wide Field Camera 3 photometry. From resolved stellar populations, we derive SFHs over the last ~500 Myr, finding that ~85% of the stellar mass formed between ~150 and ~70 Myr ago, followed by a brief pause, with the remaining ~15% forming since ~30 Myr ago. The two stellar populations are co-spatial on scales of at least ~200 pc. The timing of the ~100 Myr burst aligns with star formation in the M82 disk and the age distribution of its star clusters, suggesting a causal link between the disk starburst and halo star formation. We explore two mechanisms that could explain these observations. In the first, shocks driven by the interaction between hot outflowing gas and cooler CGM material compress dense clouds, triggering collapse and star formation. In the second, stars form directly within massive, cool clouds associated with the outflow. As these clouds move ballistically through the halo, subsequent interactions with tidal debris may trigger additional star formation, producing the observed episodic structure.         |"
      ],
      "text/plain": [
       "[2508.10895] Stars Born in the Wind: M82's Outflow and Halo Star Formation\n",
       "\tV. V. Rao, et al. -- incl., <mark>F. Walter</mark>"
      ]
     },
     "metadata": {},
     "output_type": "display_data"
    },
    {
     "data": {
      "text/markdown": [
       "## Failed papers"
      ],
      "text/plain": [
       "<IPython.core.display.Markdown object>"
      ]
     },
     "metadata": {},
     "output_type": "display_data"
    },
    {
     "data": {
      "text/markdown": [
       "\n",
       "|||\n",
       "|---:|:---|\n",
       "| [![arXiv](https://img.shields.io/badge/arXiv-2508.10329-b31b1b.svg)](https://arxiv.org/abs/2508.10329) | **Toward High-Precision Astrometry with CSST Using Multi-Gaussian Fitting of PSF**  |\n",
       "|| J. Nie, et al. -- incl., <mark>X. Zhang</mark> |\n",
       "|*Appeared on*| *2025-08-15*|\n",
       "|*Comments*| **|\n",
       "|**Abstract**|            The Chinese Space Station Survey Telescope (CSST) presents significant potential for high-precision astrometry. In this study, we show that the point spread function (PSF) modeled by the discrete PSF with Multi-Gaussian function can effectively enhance the astrometric accuracy. We determine that the PSF profile can be accurately modeled by three Gaussians, which takes advantage of reduced computational complexity in PSF convolution. In sparse star fields, the lowest centering accuracy we obtain after aberration correction can be below 1 mas. We find that the proper motion errors remain below 1.0 mas/yr for point sources with five observations and approximately 0.8 mas/yr for seven observations with a time baseline of around 3.5 years. We finally demonstrate that the precision of our position measurements for stars fainter than 21 mag in the simulated CSST crowded field is better than the results from both SExtractor and DOLPHOT.         |\n",
       "|<p style=\"color:green\"> **ERROR** </p>| <p style=\"color:green\">affiliation error: mpia.affiliation_verifications: 'Heidelberg' keyword not found.</p> |"
      ],
      "text/plain": [
       "<IPython.core.display.Markdown object>"
      ]
     },
     "metadata": {},
     "output_type": "display_data"
    }
   ],
   "source": [
    "import datetime\n",
    "today = str(datetime.date.today())\n",
    "logfile = f\"_build/html/logs/log-{today}.md\"\n",
    "\n",
    "\n",
    "with open(logfile, 'w') as logs:\n",
    "    # Success\n",
    "    logs.write(f'# Arxiv on Deck 2: Logs - {today}\\n\\n')\n",
    "    logs.write(\"\"\"* Arxiv had {0:,d} new papers\\n\"\"\".format(len(new_papers)))\n",
    "    logs.write(\"\"\"    * {0:,d} with possible author matches\\n\\n\"\"\".format(len(candidates)))\n",
    "    logs.write(\"## Sucessful papers\\n\\n\")\n",
    "    display(Markdown(\"## Successful papers\"))\n",
    "    success = [k[0] for k in documents]\n",
    "    for candid in candidates:\n",
    "        if candid['identifier'].split(':')[-1] in success:\n",
    "            display(candid)\n",
    "            logs.write(candid.generate_markdown_text() + '\\n\\n')\n",
    "\n",
    "    ## failed\n",
    "    logs.write(\"## Failed papers\\n\\n\")\n",
    "    display(Markdown(\"## Failed papers\"))\n",
    "    failed = sorted(failed, key=lambda x: x[1])\n",
    "    current_reason = \"\"\n",
    "    for paper, reason in failed:\n",
    "        if 'affiliation' in reason:\n",
    "            color = 'green'\n",
    "        else:\n",
    "            color = 'red'\n",
    "        data = Markdown(\n",
    "                paper.generate_markdown_text() + \n",
    "                f'\\n|<p style=\"color:{color:s}\"> **ERROR** </p>| <p style=\"color:{color:s}\">{reason:s}</p> |'\n",
    "               )\n",
    "        if reason != current_reason:\n",
    "            logs.write(f'### {reason:s} \\n\\n')\n",
    "            current_reason = reason\n",
    "        logs.write(data.data + '\\n\\n')\n",
    "        \n",
    "        # only display here the important errors (all in logs)\n",
    "        # if color in ('red',):\n",
    "        display(data)"
   ]
  },
  {
   "cell_type": "markdown",
   "id": "472d20ee",
   "metadata": {
    "papermill": {
     "duration": 0.004504,
     "end_time": "2025-08-15T04:22:52.066361",
     "exception": false,
     "start_time": "2025-08-15T04:22:52.061857",
     "status": "completed"
    },
    "tags": []
   },
   "source": [
    "## Export documents\n",
    "\n",
    "We now write the .md files and export relevant images"
   ]
  },
  {
   "cell_type": "code",
   "execution_count": 7,
   "id": "d426aed9",
   "metadata": {
    "execution": {
     "iopub.execute_input": "2025-08-15T04:22:52.075202Z",
     "iopub.status.busy": "2025-08-15T04:22:52.075006Z",
     "iopub.status.idle": "2025-08-15T04:22:52.081775Z",
     "shell.execute_reply": "2025-08-15T04:22:52.081103Z"
    },
    "papermill": {
     "duration": 0.012384,
     "end_time": "2025-08-15T04:22:52.082783",
     "exception": false,
     "start_time": "2025-08-15T04:22:52.070399",
     "status": "completed"
    },
    "tags": []
   },
   "outputs": [],
   "source": [
    "def export_markdown_summary(md: str, md_fname:str, directory: str):\n",
    "    \"\"\"Export MD document and associated relevant images\"\"\"\n",
    "    import os\n",
    "    import shutil\n",
    "    import re\n",
    "\n",
    "    if (os.path.exists(directory) and not os.path.isdir(directory)):\n",
    "        raise RuntimeError(f\"a non-directory file exists with name {directory:s}\")\n",
    "\n",
    "    if (not os.path.exists(directory)):\n",
    "        print(f\"creating directory {directory:s}\")\n",
    "        os.mkdir(directory)\n",
    "\n",
    "    fig_fnames = (re.compile(r'\\[Fig.*\\]\\((.*)\\)').findall(md) + \n",
    "                  re.compile(r'\\<img src=\"([^>\\s]*)\"[^>]*/>').findall(md))\n",
    "    print(\"found figures\", fig_fnames)\n",
    "    for fname in fig_fnames:\n",
    "        if 'http' in fname:\n",
    "            # No need to copy online figures\n",
    "            continue\n",
    "        if not os.path.exists(fname):\n",
    "            print(\"file not found\", fname)\n",
    "            continue\n",
    "        print(\"copying \", fname, \"to\", directory)\n",
    "        destdir = os.path.join(directory, os.path.dirname(fname))\n",
    "        destfname = os.path.join(destdir, os.path.basename(fname))\n",
    "        try:\n",
    "            os.makedirs(destdir)\n",
    "        except FileExistsError:\n",
    "            pass\n",
    "        shutil.copy(fname, destfname)\n",
    "    with open(os.path.join(directory, md_fname), 'w') as fout:\n",
    "        fout.write(md)\n",
    "    print(\"exported in \", os.path.join(directory, md_fname))\n",
    "    [print(\"    + \" + os.path.join(directory,fk)) for fk in fig_fnames]"
   ]
  },
  {
   "cell_type": "code",
   "execution_count": 8,
   "id": "014d04a4",
   "metadata": {
    "execution": {
     "iopub.execute_input": "2025-08-15T04:22:52.091871Z",
     "iopub.status.busy": "2025-08-15T04:22:52.091672Z",
     "iopub.status.idle": "2025-08-15T04:22:52.105117Z",
     "shell.execute_reply": "2025-08-15T04:22:52.104505Z"
    },
    "papermill": {
     "duration": 0.019277,
     "end_time": "2025-08-15T04:22:52.106304",
     "exception": false,
     "start_time": "2025-08-15T04:22:52.087027",
     "status": "completed"
    },
    "tags": []
   },
   "outputs": [
    {
     "name": "stdout",
     "output_type": "stream",
     "text": [
      "found figures ['tmp_2508.10128/./f1.png', 'tmp_2508.10128/./f4.png', 'tmp_2508.10128/./f5.png']\n",
      "copying  tmp_2508.10128/./f1.png to _build/html/\n",
      "copying  tmp_2508.10128/./f4.png to _build/html/\n",
      "copying  tmp_2508.10128/./f5.png to _build/html/\n",
      "exported in  _build/html/2508.10128.md\n",
      "    + _build/html/tmp_2508.10128/./f1.png\n",
      "    + _build/html/tmp_2508.10128/./f4.png\n",
      "    + _build/html/tmp_2508.10128/./f5.png\n",
      "found figures ['tmp_2508.10895/./spatial-dist.png', 'tmp_2508.10895/./age-compare.png', 'tmp_2508.10895/./m82-angst.png']\n",
      "copying  tmp_2508.10895/./spatial-dist.png to _build/html/\n",
      "copying  tmp_2508.10895/./age-compare.png to _build/html/\n",
      "copying  tmp_2508.10895/./m82-angst.png to _build/html/\n",
      "exported in  _build/html/2508.10895.md\n",
      "    + _build/html/tmp_2508.10895/./spatial-dist.png\n",
      "    + _build/html/tmp_2508.10895/./age-compare.png\n",
      "    + _build/html/tmp_2508.10895/./m82-angst.png\n"
     ]
    }
   ],
   "source": [
    "for paper_id, md in documents:\n",
    "    export_markdown_summary(md, f\"{paper_id:s}.md\", '_build/html/')"
   ]
  },
  {
   "cell_type": "markdown",
   "id": "f087a0a7",
   "metadata": {
    "papermill": {
     "duration": 0.004116,
     "end_time": "2025-08-15T04:22:52.114885",
     "exception": false,
     "start_time": "2025-08-15T04:22:52.110769",
     "status": "completed"
    },
    "tags": []
   },
   "source": [
    "## Display the papers\n",
    "\n",
    "Not necessary but allows for a quick check."
   ]
  },
  {
   "cell_type": "code",
   "execution_count": 9,
   "id": "fd25f625",
   "metadata": {
    "execution": {
     "iopub.execute_input": "2025-08-15T04:22:52.124053Z",
     "iopub.status.busy": "2025-08-15T04:22:52.123810Z",
     "iopub.status.idle": "2025-08-15T04:22:52.129697Z",
     "shell.execute_reply": "2025-08-15T04:22:52.129135Z"
    },
    "papermill": {
     "duration": 0.011661,
     "end_time": "2025-08-15T04:22:52.130720",
     "exception": false,
     "start_time": "2025-08-15T04:22:52.119059",
     "status": "completed"
    },
    "scrolled": false,
    "tags": []
   },
   "outputs": [
    {
     "data": {
      "text/markdown": [
       "<div class=\"macros\" style=\"visibility:hidden;\">\n",
       "$\\newcommand{\\ensuremath}{}$\n",
       "$\\newcommand{\\xspace}{}$\n",
       "$\\newcommand{\\object}[1]{\\texttt{#1}}$\n",
       "$\\newcommand{\\farcs}{{.}''}$\n",
       "$\\newcommand{\\farcm}{{.}'}$\n",
       "$\\newcommand{\\arcsec}{''}$\n",
       "$\\newcommand{\\arcmin}{'}$\n",
       "$\\newcommand{\\ion}[2]{#1#2}$\n",
       "$\\newcommand{\\textsc}[1]{\\textrm{#1}}$\n",
       "$\\newcommand{\\hl}[1]{\\textrm{#1}}$\n",
       "$\\newcommand{\\footnote}[1]{}$\n",
       "$\\newcommand{\\HI}{\\mbox{H\\thinspace{\\sc i} }}$\n",
       "$\\newcommand{\\HII}{\\mbox{H\\thinspace{\\sc ii} }}$\n",
       "$\\newcommand{\\vdag}{(v)^\\dagger}$\n",
       "$\\newcommand{\\dif}{\\mathrm{d}}$\n",
       "$\\newcommand{\\key}[1]{{\\color{magenta}\\bf #1}}$\n",
       "$\\newcommand{\\vec}{\\boldsymbol}$</div>\n",
       "\n",
       "\n",
       "\n",
       "<div id=\"title\">\n",
       "\n",
       "# Pinched Magnetic Fields in the High-mass Protocluster W3 IRS5\n",
       "\n",
       "</div>\n",
       "<div id=\"comments\">\n",
       "\n",
       "[![arXiv](https://img.shields.io/badge/arXiv-2508.10128-b31b1b.svg)](https://arxiv.org/abs/2508.10128)<mark>Appeared on: 2025-08-15</mark> -  _19 pages, 7 figures, accepted for publication in The Astrophysical Journal_\n",
       "\n",
       "</div>\n",
       "<div id=\"authors\">\n",
       "\n",
       "H.-R. V. Chen, et al. -- incl., <mark>H. Beuther</mark>\n",
       "\n",
       "</div>\n",
       "<div id=\"abstract\">\n",
       "\n",
       "**Abstract:** We present polarization maps of dust emission at 340 GHz in the luminous high-mass protocluster, W3 IRS5, observed with the Submillimeter Array.The projected magnetic fields appear fairly organized with a pinched morphology in the northern part and a concave shape in the southern part.We fit the polarization maps with a two-component magnetic field model: an hourglass model centered at the continuum peak, SMM2, and an empirical sphere centered at the O-type star, IRS7.Using the Davis-Chandrasekhar-Fermi method, we calculate a projected field strength of $B_\\mathrm{pos} = 1.4 \\; \\mathrm{mG}$ .Along with the Zeeman measurement, a total magnetic field strength of $B_\\mathrm{tot} = 1.6 \\; \\mathrm{mG}$ is obtained.We find that the gravitational energy is the most dominant, followed by magnetic energy, and then turbulent energy.Small values of the virial parameter, $\\alpha_\\mathrm{vir} = 0.8$ , and the ratio of timescales, $t_\\mathrm{ff}/t_\\mathrm{corss} = 0.6$ , suggest an ongoing collapse.We also show collimated molecular outflows in the $\\mathrm{CO \\; (3-2)}$ and $\\mathrm{SiO \\; (8-7)}$ transitions.The morphology of magnetic fields and the surrounding $\\HII$ regions put forward a scenario for W3 IRS5.A gravitationally unstable dense core formed within a neutral gas ridge plowed by the expansions of W3 A and W3 B.The core began to contract, causing gravity to pull the magnetic field lines inward, which resulted in a pinched field morphology.Subsequent expansion of W3 F, ionized by IRS7, perturbed the magnetic field, creating concave patterns.The dynamical interactions among protostars led to misalignment of their outflows.\n",
       "\n",
       "</div>\n",
       "\n",
       "<div id=\"div_fig1\">\n",
       "\n",
       "<img src=\"tmp_2508.10128/./f1.png\" alt=\"Fig1\" width=\"100%\"/>\n",
       "\n",
       "**Figure 1. -** (a) SMA 340 GHz continuum map (color scale and red contours) of W3 IRS5 overlaid on VLA $6 \\; \\mathrm{cm}$ continuum map \\citep[gray contours; ][]{Tieftrunk1997} with labels of the nearby $\\HI$I regions, W3 A, W3 B, and W3 F.\n",
       "Red contours are plotted at $(-3,3,6,14,22,30,38,46,54,62) \\times \\sigma$, where $\\sigma = 21 \\; \\mathrm{mJy   beam^{-1}}$ with a beam size of $2$\\farcs$7 \\times 2$\\farcs$2$($\\mathrm{P. A.} = 3^\\circ$).\n",
       "Blue crosses mark the positions of five compact continuum sources identified at $354 \\; \\mathrm{GHz}$ ([Wang, Bourke and Hogerheijde 2013]()) , where SMM2 coincides with the continuum peak, and SMM1 is located to the east.\n",
       "Green open circles are the positions of near-infrared sources  ([Megeath, Wilson and Corbin 2005]()) , and green filled squares are the positions of compact radio sources at $22 \\; \\mathrm{GHz}$ and $43 \\; \\mathrm{GHz}$ ([Tuthill and Danchi 2005]()) .\n",
       "The blue-filled star marks the position of the high-mass star, IRS7, powering the hypercompact $\\HI$I region, W3 F, while another infrared source, IRS N7 (blue-open star), without any radio counterpart, is also shown  ([Bik, Henning and Stolte 2012]()) .\n",
       "Several outflow axes (and a bipolar outflow along line of sight) reported in the literature are presented with labels of their associated tracers, including molecular outflows \\citep[e.g.][]{Mitchell1991,Rodon2008,Wang2012}, water masers  ([Imai, Kameya and Sasao 2000]()) , and radio compact sources  ([Wilson, et. al 2003]()) .\n",
       "The gray dashed contours outline the more extended $6 \\; \\mathrm{cm}$ radiation at $4 \\; \\mathrm{mJy   beam^{-1}}$ with $3^{\\prime\\prime}$ resolution.\n",
       "(b) The SMA polarized intensity map (color scale) overlaid with the orientation of the projected magnetic field, $B_\\mathrm{pos}$(line segment), which corresponds to dust polarization orientation rotated by $90^\\circ$.\n",
       "Line segments are sampled twice per synthesized beam in locations where $I > 3\\sigma_I$ and $P > 3\\sigma_P$(in black), and also $2\\sigma_P < P < 3\\sigma_P$(in purple).\n",
       "The length of line segments is proportional to the fractional linear polarization in percentage, $P/I$, and the scalebar is shown in the upper right.\n",
       "Three thick line segments in gray show the large-scale magnetic field orientation measured from single-dish polarimeters.\n",
       "Red and blue arrows indicate bipolar outflows along with the outflow label.\n",
       " (*fig:bvec*)\n",
       "\n",
       "</div>\n",
       "<div id=\"div_fig2\">\n",
       "\n",
       "<img src=\"tmp_2508.10128/./f4.png\" alt=\"Fig4\" width=\"100%\"/>\n",
       "\n",
       "**Figure 4. -** (a) Best-fit magnetic field model (cyan) overlaid on the observed magnetic field orientation (black) for models composed of an hourglass component centered at SMM2 combined with a spherical component centered at IRS 7.\n",
       "Data on the outskirts are excluded for optimization.\n",
       "The length of line segments is fixed and arbitrary.\n",
       "Red and blue arrows indicate bipolar outflows, same as the outflow axes shown in Fig. \\ref{fig:bvec}(a).\n",
       "Symbols are the same as those in Fig. \\ref{fig:bvec}(b).\n",
       "(b)--(e) Histogram of anglar distribution for (b) observed position angle, $\\psi_\\mathrm{obs}$, (c) measurement uncertainty, $\\sigma_{\\psi_\\mathrm{obs}}$, (d) position angle of the best-fit model, $\\psi_\\mathrm{mod}$, and (e) field oritation residual, $\\Delta \\psi_\\mathrm{obs} = \\psi_\\mathrm{obs} - \\psi_\\mathrm{mod}$.\n",
       " (*fig:bmod*)\n",
       "\n",
       "</div>\n",
       "<div id=\"div_fig3\">\n",
       "\n",
       "<img src=\"tmp_2508.10128/./f5.png\" alt=\"Fig5\" width=\"100%\"/>\n",
       "\n",
       "**Figure 5. -** \n",
       "Polarization maps of the (a) Stokes-$I$, (b) Stokes-$Q$, and (c) Stokes-$U$ parameters.\n",
       "The thick gray contour outlines the $340 \\; \\mathrm{GHz}$ continuum emission at the $3\\sigma$ level.\n",
       " (*fig:iqu*)\n",
       "\n",
       "</div><div id=\"qrcode\"><img src=https://api.qrserver.com/v1/create-qr-code/?size=100x100&data=\"https://arxiv.org/abs/2508.10128\"></div>"
      ],
      "text/plain": [
       "<IPython.core.display.Markdown object>"
      ]
     },
     "metadata": {},
     "output_type": "display_data"
    },
    {
     "data": {
      "text/markdown": [
       "<div class=\"macros\" style=\"visibility:hidden;\">\n",
       "$\\newcommand{\\ensuremath}{}$\n",
       "$\\newcommand{\\xspace}{}$\n",
       "$\\newcommand{\\object}[1]{\\texttt{#1}}$\n",
       "$\\newcommand{\\farcs}{{.}''}$\n",
       "$\\newcommand{\\farcm}{{.}'}$\n",
       "$\\newcommand{\\arcsec}{''}$\n",
       "$\\newcommand{\\arcmin}{'}$\n",
       "$\\newcommand{\\ion}[2]{#1#2}$\n",
       "$\\newcommand{\\textsc}[1]{\\textrm{#1}}$\n",
       "$\\newcommand{\\hl}[1]{\\textrm{#1}}$\n",
       "$\\newcommand{\\footnote}[1]{}$\n",
       "$\\newcommand{\\vdag}{(v)^\\dagger}$\n",
       "$\\newcommand$\n",
       "$\\newcommand$</div>\n",
       "\n",
       "\n",
       "\n",
       "<div id=\"title\">\n",
       "\n",
       "# Stars Born in the Wind: M82’s Outflow and Halo Star Formation\n",
       "\n",
       "</div>\n",
       "<div id=\"comments\">\n",
       "\n",
       "[![arXiv](https://img.shields.io/badge/arXiv-2508.10895-b31b1b.svg)](https://arxiv.org/abs/2508.10895)<mark>Appeared on: 2025-08-15</mark> -  _22 pages; 11 figures; 1 table; accepted for publication in The Astrophysical Journal_\n",
       "\n",
       "</div>\n",
       "<div id=\"authors\">\n",
       "\n",
       "V. V. Rao, et al. -- incl., <mark>F. Walter</mark>\n",
       "\n",
       "</div>\n",
       "<div id=\"abstract\">\n",
       "\n",
       "**Abstract:** Starburst galaxies, like M82, launch kiloparsec-scale galactic outflows that interact with the circumgalactic medium (CGM) in complex ways. Apart from enriching the CGM with metals and energy, these outflows may trigger star formation in the halo- either by driving shocks into the CGM or transporting cold, star-forming gas. To investigate such processes, we analyze the star formation history (SFH) of the Southern Arcs—arc-like stellar features located $\\sim5$ kpc from M82’s star-forming disk along the minor axis—using _Hubble Space Telescope_ Wide Field Camera 3 photometry. From resolved stellar populations, we derive SFHs over the last $\\sim500$ Myr, finding that $\\sim85\\%$ of the stellar mass formed between $\\sim150$ and $\\sim70$ Myr ago, followed by a brief pause, with the remaining $\\sim15$ \\% forming since $\\sim30$ Myr ago. The two stellar populations are co-spatial on scales of at least $\\sim200 $ pc. The timing of the $\\sim100$ Myr burst aligns with star formation in the M82 disk and the age distribution of its star clusters, suggesting a causal link between the disk starburst and halo star formation. We explore two mechanisms that could explain these observations. In the first, shocks driven by the interaction between hot outflowing gas and cooler CGM material compress dense clouds, triggering collapse and star formation. In the second, stars form directly within massive, cool clouds associated with the outflow. As these clouds move ballistically through the halo, subsequent interactions with tidal debris may trigger additional star formation, producing the observed episodic structure.\n",
       "\n",
       "</div>\n",
       "\n",
       "<div id=\"div_fig1\">\n",
       "\n",
       "<img src=\"tmp_2508.10895/./spatial-dist.png\" alt=\"Fig6\" width=\"100%\"/>\n",
       "\n",
       "**Figure 6. -** (**Left**) CMD selection of $\\sim10$ Myr and $\\sim100$ Myr stars from model Hess diagrams generated from PADUA models. (**Top Right**) Spatial distribution of $\\sim10$ Myr stars (blue) and $\\sim100$ Myr stars (orange). (**Middle Right**) 2D spatial cross-correlation between the $\\sim10 $Myr and $\\sim100 $Myr populations. Pixels that correspond to shifts along the direction of the outflow and having a correlation $>0.5$ are marked in green. (**Bottom Right**) RGB stars from the ancient halo population appear randomly distributed. (*fig:spat-dist*)\n",
       "\n",
       "</div>\n",
       "<div id=\"div_fig2\">\n",
       "\n",
       "<img src=\"tmp_2508.10895/./age-compare.png\" alt=\"Fig7\" width=\"100%\"/>\n",
       "\n",
       "**Figure 7. -** The SFH of the Southern Arcs appears correlated with the SFH of the central M82 disk. (**Left**) Resolved stars in the M82 field from ANGST and the Southern Arcs. Regions for which SFHs were calculated by [Williams, Dalcanton and Johnson (2011)]()(POS2 and POS5) are shown in the same plot. Locations of young massive star clusters (YMCs) studied by [Li, Anders and Li (2015)]() are also shown for reference. (**Top Right**) SFHs of POS2 (cyan) and POS5 (orange) scaled down by a factor of 20 compared to the SFH of the Southern Arcs obtained from PADUA models (blue). POS2 and POS5 are dominated by stars from the central disk region of M82. The Southern Arcs and the central M82 disk both experienced enhanced star formation $\\sim100$ Myr ago. (**Bottom Right**) Histogram of star cluster ages from [Li, Anders and Li (2015)]()(pink) compared to the SFH of the Southern Arcs obtained from PADUA models (blue). The M82 disk experienced multiple epochs of star cluster formation similar to the Southern Arcs. (*fig:age-compare*)\n",
       "\n",
       "</div>\n",
       "<div id=\"div_fig3\">\n",
       "\n",
       "<img src=\"tmp_2508.10895/./m82-angst.png\" alt=\"Fig3\" width=\"100%\"/>\n",
       "\n",
       "**Figure 3. -** (**Left**) Resolved stars in the M82 field from ANGST  ([Dalcanton, Williams and Seth 2009]())  with the stars from the Southern Arcs field (this work). The points in cyan represent populations of stars $\\lesssim 400$ Myr, selected by excluding the red giant branch (RGB) stars from the color-magnitude diagram (CMD) of each dataset (dashed grey regions in the panels on the right) with matched depths (F814W$<26$). The M82 disk has been masked out for these stars to accentuate structures that follow the breakout of the outflow from the disk. Arc-like features in the Southern Arcs field appear to be spatial extensions of young stellar structures in ANGST that may be related to M82's starburst outflow. (**Top Right**) F814W vs. F435W-F814 CMD of `good star' (GST) sources from ANGST with some typical PARSEC  ([Bressan, Marigo and Girardi 2012]())  isochrones (shifted assuming $A_V=0.1$ and $(m-M)_0 =27.8$). The 10 Gyr isochrones have metallicities, [M/H] = 0, -0.5, -1.0, -1.5, -2.0. The younger isochrones have [M/H] = 0.\n",
       "    (**Bottom Right**) CMD of `GST' sources from the Southern Arcs. PARSEC isochrones  with a foreground extinction (shifted assuming $A_V=0.35$ and $(m-M)_0=27.8$) are over-plotted to broadly explain the multiple stellar populations. The 10 Gyr isochrones ([M/H] = 0, -0.5, -1.0, -1.5, -2.0) correspond to the old, RGB halo stars. The 100 Myr isochrone accounts for some of the fainter main sequence (MS) stars and most of horizontal branch core helium burners (HeB). The 30 Myr isochrone accounts for the brighter MS stars, HeBs, and red supergiants. We assume an [M/H]$= -$0.25 for the $\\le500$ Myr isochrones. (*fig:m82-angst*)\n",
       "\n",
       "</div><div id=\"qrcode\"><img src=https://api.qrserver.com/v1/create-qr-code/?size=100x100&data=\"https://arxiv.org/abs/2508.10895\"></div>"
      ],
      "text/plain": [
       "<IPython.core.display.Markdown object>"
      ]
     },
     "metadata": {},
     "output_type": "display_data"
    }
   ],
   "source": [
    "[display(Markdown(k[1])) for k in documents];"
   ]
  },
  {
   "cell_type": "markdown",
   "id": "873873a4",
   "metadata": {
    "papermill": {
     "duration": 0.004609,
     "end_time": "2025-08-15T04:22:52.140158",
     "exception": false,
     "start_time": "2025-08-15T04:22:52.135549",
     "status": "completed"
    },
    "tags": []
   },
   "source": [
    "# Create HTML index"
   ]
  },
  {
   "cell_type": "code",
   "execution_count": 10,
   "id": "cf665672",
   "metadata": {
    "execution": {
     "iopub.execute_input": "2025-08-15T04:22:52.149909Z",
     "iopub.status.busy": "2025-08-15T04:22:52.149695Z",
     "iopub.status.idle": "2025-08-15T04:22:52.156699Z",
     "shell.execute_reply": "2025-08-15T04:22:52.156141Z"
    },
    "papermill": {
     "duration": 0.013068,
     "end_time": "2025-08-15T04:22:52.157735",
     "exception": false,
     "start_time": "2025-08-15T04:22:52.144667",
     "status": "completed"
    },
    "tags": []
   },
   "outputs": [
    {
     "name": "stdout",
     "output_type": "stream",
     "text": [
      "131  publications files modified in the last 7 days.\n"
     ]
    }
   ],
   "source": [
    "from datetime import datetime, timedelta, timezone\n",
    "from glob import glob\n",
    "import os\n",
    "\n",
    "files = glob('_build/html/*.md')\n",
    "days = 7\n",
    "now = datetime.today()\n",
    "res = []\n",
    "for fk in files:\n",
    "    stat_result = os.stat(fk).st_ctime\n",
    "    modified = datetime.fromtimestamp(stat_result, tz=timezone.utc).replace(tzinfo=None)\n",
    "    delta = now.today() - modified\n",
    "    if delta <= timedelta(days=days):\n",
    "        res.append((delta.seconds, fk))\n",
    "res = [k[1] for k in reversed(sorted(res, key=lambda x:x[1]))]\n",
    "npub = len(res)\n",
    "print(len(res), f\" publications files modified in the last {days:d} days.\")\n",
    "# [ print('\\t', k) for k in res ];"
   ]
  },
  {
   "cell_type": "code",
   "execution_count": 11,
   "id": "015de740",
   "metadata": {
    "execution": {
     "iopub.execute_input": "2025-08-15T04:22:52.167908Z",
     "iopub.status.busy": "2025-08-15T04:22:52.167677Z",
     "iopub.status.idle": "2025-08-15T04:22:52.180200Z",
     "shell.execute_reply": "2025-08-15T04:22:52.179524Z"
    },
    "papermill": {
     "duration": 0.018824,
     "end_time": "2025-08-15T04:22:52.181251",
     "exception": false,
     "start_time": "2025-08-15T04:22:52.162427",
     "status": "completed"
    },
    "tags": []
   },
   "outputs": [
    {
     "name": "stdout",
     "output_type": "stream",
     "text": [
      "6  publications in the last 7 days.\n"
     ]
    }
   ],
   "source": [
    "import datetime\n",
    "from glob import glob\n",
    "\n",
    "def get_last_n_days(lst, days=1):\n",
    "    \"\"\" Get the documents from the last n days \"\"\"\n",
    "    sorted_lst = sorted(lst, key=lambda x: x[1], reverse=True)\n",
    "    for fname, date in sorted_lst:\n",
    "        if date >= str(datetime.date.today() - datetime.timedelta(days=days)):\n",
    "            yield fname\n",
    "\n",
    "def extract_appearance_dates(lst_file):\n",
    "    dates = []\n",
    "\n",
    "    def get_date(line):\n",
    "        return line\\\n",
    "            .split('Appeared on:')[-1]\\\n",
    "            .split('</mark>')[0].strip()\n",
    "\n",
    "    for fname in lst:\n",
    "        with open(fname, 'r') as f:\n",
    "            found_date = False\n",
    "            for line in f:\n",
    "                if not found_date:\n",
    "                    if \"Appeared on\" in line:\n",
    "                        found_date = True\n",
    "                        dates.append((fname, get_date(line)))\n",
    "                else:\n",
    "                    break\n",
    "    return dates\n",
    "\n",
    "from glob import glob\n",
    "lst = glob('_build/html/*md')\n",
    "days = 7\n",
    "dates = extract_appearance_dates(lst)\n",
    "res = list(get_last_n_days(dates, days))\n",
    "npub = len(res)\n",
    "print(len(res), f\" publications in the last {days:d} days.\")"
   ]
  },
  {
   "cell_type": "code",
   "execution_count": 12,
   "id": "52ca0208",
   "metadata": {
    "execution": {
     "iopub.execute_input": "2025-08-15T04:22:52.191484Z",
     "iopub.status.busy": "2025-08-15T04:22:52.191275Z",
     "iopub.status.idle": "2025-08-15T04:22:52.196284Z",
     "shell.execute_reply": "2025-08-15T04:22:52.195628Z"
    },
    "papermill": {
     "duration": 0.011197,
     "end_time": "2025-08-15T04:22:52.197300",
     "exception": false,
     "start_time": "2025-08-15T04:22:52.186103",
     "status": "completed"
    },
    "scrolled": false,
    "tags": []
   },
   "outputs": [],
   "source": [
    "def create_carousel(npub=4):\n",
    "    \"\"\" Generate the HTML code for a carousel with `npub` slides \"\"\"\n",
    "    carousel = [\"\"\"  <div class=\"carousel\" \"\"\",\n",
    "                \"\"\"       data-flickity='{ \"autoPlay\": 10000, \"adaptiveHeight\": true, \"resize\": true, \"wrapAround\": true, \"pauseAutoPlayOnHover\": true, \"groupCells\": 1 }' id=\"asyncTypeset\">\"\"\"\n",
    "                ]\n",
    "    \n",
    "    item_str = \"\"\"    <div class=\"carousel-cell\"> <div id=\"slide{k}\" class=\"md_view\">Content {k}</div> </div>\"\"\"\n",
    "    for k in range(1, npub + 1):\n",
    "        carousel.append(item_str.format(k=k))\n",
    "    carousel.append(\"  </div>\")\n",
    "    return '\\n'.join(carousel)\n",
    "\n",
    "def create_grid(npub=4):\n",
    "    \"\"\" Generate the HTML code for a flat grid with `npub` slides \"\"\"\n",
    "    grid = [\"\"\"  <div class=\"grid\"> \"\"\",\n",
    "                ]\n",
    "    \n",
    "    item_str = \"\"\"    <div class=\"grid-item\"> <div id=\"slide{k}\" class=\"md_view\">Content {k}</div> </div>\"\"\"\n",
    "    for k in range(1, npub + 1):\n",
    "        grid.append(item_str.format(k=k))\n",
    "    grid.append(\"  </div>\")\n",
    "    return '\\n'.join(grid)"
   ]
  },
  {
   "cell_type": "code",
   "execution_count": 13,
   "id": "a6eac5b6",
   "metadata": {
    "execution": {
     "iopub.execute_input": "2025-08-15T04:22:52.207906Z",
     "iopub.status.busy": "2025-08-15T04:22:52.207686Z",
     "iopub.status.idle": "2025-08-15T04:22:52.212897Z",
     "shell.execute_reply": "2025-08-15T04:22:52.212212Z"
    },
    "papermill": {
     "duration": 0.011872,
     "end_time": "2025-08-15T04:22:52.213951",
     "exception": false,
     "start_time": "2025-08-15T04:22:52.202079",
     "status": "completed"
    },
    "scrolled": false,
    "tags": []
   },
   "outputs": [],
   "source": [
    "carousel = create_carousel(npub)\n",
    "docs = ', '.join(['\"{0:s}\"'.format(k.split('/')[-1]) for k in res])\n",
    "slides = ', '.join([f'\"slide{k}\"' for k in range(1, npub + 1)])\n",
    "\n",
    "with open(\"daily_template.html\", \"r\") as tpl:\n",
    "    page = tpl.read()\n",
    "    page = page.replace(\"{%-- carousel:s --%}\", carousel)\\\n",
    "               .replace(\"{%-- suptitle:s --%}\",  \"7-day archives\" )\\\n",
    "               .replace(\"{%-- docs:s --%}\", docs)\\\n",
    "               .replace(\"{%-- slides:s --%}\", slides)\n",
    "    \n",
    "with open(\"_build/html/index_7days.html\", 'w') as fout:\n",
    "    fout.write(page)"
   ]
  },
  {
   "cell_type": "code",
   "execution_count": 14,
   "id": "adc1a1ec",
   "metadata": {
    "execution": {
     "iopub.execute_input": "2025-08-15T04:22:52.224333Z",
     "iopub.status.busy": "2025-08-15T04:22:52.224110Z",
     "iopub.status.idle": "2025-08-15T04:22:52.230191Z",
     "shell.execute_reply": "2025-08-15T04:22:52.229659Z"
    },
    "papermill": {
     "duration": 0.012384,
     "end_time": "2025-08-15T04:22:52.231158",
     "exception": false,
     "start_time": "2025-08-15T04:22:52.218774",
     "status": "completed"
    },
    "tags": []
   },
   "outputs": [
    {
     "name": "stdout",
     "output_type": "stream",
     "text": [
      "2  publications in the last day.\n"
     ]
    }
   ],
   "source": [
    "# redo for today\n",
    "days = 1\n",
    "res = list(get_last_n_days(dates, days))\n",
    "npub = len(res)\n",
    "print(len(res), f\" publications in the last day.\")\n",
    "\n",
    "carousel = create_carousel(npub)\n",
    "docs = ', '.join(['\"{0:s}\"'.format(k.split('/')[-1]) for k in res])\n",
    "slides = ', '.join([f'\"slide{k}\"' for k in range(1, npub + 1)])\n",
    "\n",
    "with open(\"daily_template.html\", \"r\") as tpl:\n",
    "    page = tpl.read()\n",
    "    page = page.replace(\"{%-- carousel:s --%}\", carousel)\\\n",
    "               .replace(\"{%-- suptitle:s --%}\",  \"Daily\" )\\\n",
    "               .replace(\"{%-- docs:s --%}\", docs)\\\n",
    "               .replace(\"{%-- slides:s --%}\", slides)\n",
    "    \n",
    "# print(carousel, docs, slides)\n",
    "# print(page)\n",
    "with open(\"_build/html/index_daily.html\", 'w') as fout:\n",
    "    fout.write(page)"
   ]
  },
  {
   "cell_type": "code",
   "execution_count": 15,
   "id": "00eece82",
   "metadata": {
    "execution": {
     "iopub.execute_input": "2025-08-15T04:22:52.241919Z",
     "iopub.status.busy": "2025-08-15T04:22:52.241695Z",
     "iopub.status.idle": "2025-08-15T04:22:52.248232Z",
     "shell.execute_reply": "2025-08-15T04:22:52.247612Z"
    },
    "papermill": {
     "duration": 0.013114,
     "end_time": "2025-08-15T04:22:52.249263",
     "exception": false,
     "start_time": "2025-08-15T04:22:52.236149",
     "status": "completed"
    },
    "scrolled": false,
    "tags": []
   },
   "outputs": [
    {
     "name": "stdout",
     "output_type": "stream",
     "text": [
      "6  6 publications selected.\n"
     ]
    }
   ],
   "source": [
    "# Create the flat grid of the last N papers (fixed number regardless of dates)\n",
    "from itertools import islice \n",
    "\n",
    "npub = 6\n",
    "res = [k[0] for k in (islice(reversed(sorted(dates, key=lambda x: x[1])), 6))]\n",
    "print(len(res), f\" {npub} publications selected.\")\n",
    "\n",
    "grid = create_grid(npub)\n",
    "docs = ', '.join(['\"{0:s}\"'.format(k.split('/')[-1]) for k in res])\n",
    "slides = ', '.join([f'\"slide{k}\"' for k in range(1, npub + 1)])\n",
    "\n",
    "with open(\"grid_template.html\", \"r\") as tpl:\n",
    "    page = tpl.read()\n",
    "    page = page.replace(\"{%-- grid-content:s --%}\", grid)\\\n",
    "               .replace(\"{%-- suptitle:s --%}\",  f\"Last {npub:,d} papers\" )\\\n",
    "               .replace(\"{%-- docs:s --%}\", docs)\\\n",
    "               .replace(\"{%-- slides:s --%}\", slides)\n",
    "    \n",
    "# print(grid, docs, slides)\n",
    "# print(page)\n",
    "with open(\"_build/html/index_npub_grid.html\", 'w') as fout:\n",
    "    fout.write(page)"
   ]
  }
 ],
 "metadata": {
  "kernelspec": {
   "display_name": "Python 3 (ipykernel)",
   "language": "python",
   "name": "python3"
  },
  "language_info": {
   "codemirror_mode": {
    "name": "ipython",
    "version": 3
   },
   "file_extension": ".py",
   "mimetype": "text/x-python",
   "name": "python",
   "nbconvert_exporter": "python",
   "pygments_lexer": "ipython3",
   "version": "3.9.23"
  },
  "papermill": {
   "default_parameters": {},
   "duration": 74.932538,
   "end_time": "2025-08-15T04:22:52.470232",
   "environment_variables": {},
   "exception": null,
   "input_path": "MPIA daily digest.ipynb",
   "output_path": "log.ipynb",
   "parameters": {},
   "start_time": "2025-08-15T04:21:37.537694",
   "version": "2.6.0"
  },
  "vscode": {
   "interpreter": {
    "hash": "aee8b7b246df8f9039afb4144a1f6fd8d2ca17a180786b69acc140d282b71a49"
   }
  },
  "widgets": {
   "application/vnd.jupyter.widget-state+json": {
    "state": {
     "07308ba7d7b44ab587cfed502ac2b483": {
      "model_module": "@jupyter-widgets/base",
      "model_module_version": "2.0.0",
      "model_name": "LayoutModel",
      "state": {
       "_model_module": "@jupyter-widgets/base",
       "_model_module_version": "2.0.0",
       "_model_name": "LayoutModel",
       "_view_count": null,
       "_view_module": "@jupyter-widgets/base",
       "_view_module_version": "2.0.0",
       "_view_name": "LayoutView",
       "align_content": null,
       "align_items": null,
       "align_self": null,
       "border_bottom": null,
       "border_left": null,
       "border_right": null,
       "border_top": null,
       "bottom": null,
       "display": null,
       "flex": null,
       "flex_flow": null,
       "grid_area": null,
       "grid_auto_columns": null,
       "grid_auto_flow": null,
       "grid_auto_rows": null,
       "grid_column": null,
       "grid_gap": null,
       "grid_row": null,
       "grid_template_areas": null,
       "grid_template_columns": null,
       "grid_template_rows": null,
       "height": null,
       "justify_content": null,
       "justify_items": null,
       "left": null,
       "margin": null,
       "max_height": null,
       "max_width": null,
       "min_height": null,
       "min_width": null,
       "object_fit": null,
       "object_position": null,
       "order": null,
       "overflow": null,
       "padding": null,
       "right": null,
       "top": null,
       "visibility": null,
       "width": null
      }
     },
     "1f85282cd67b48328c8bd25a9cd6af2b": {
      "model_module": "@jupyter-widgets/controls",
      "model_module_version": "2.0.0",
      "model_name": "FloatProgressModel",
      "state": {
       "_dom_classes": [],
       "_model_module": "@jupyter-widgets/controls",
       "_model_module_version": "2.0.0",
       "_model_name": "FloatProgressModel",
       "_view_count": null,
       "_view_module": "@jupyter-widgets/controls",
       "_view_module_version": "2.0.0",
       "_view_name": "ProgressView",
       "bar_style": "success",
       "description": "",
       "description_allow_html": false,
       "layout": "IPY_MODEL_21256ee7bdd843d7b98d0cb863116b6f",
       "max": 3.0,
       "min": 0.0,
       "orientation": "horizontal",
       "style": "IPY_MODEL_96cb2432ceb04592af129d4b35f0a6d7",
       "tabbable": null,
       "tooltip": null,
       "value": 3.0
      }
     },
     "21256ee7bdd843d7b98d0cb863116b6f": {
      "model_module": "@jupyter-widgets/base",
      "model_module_version": "2.0.0",
      "model_name": "LayoutModel",
      "state": {
       "_model_module": "@jupyter-widgets/base",
       "_model_module_version": "2.0.0",
       "_model_name": "LayoutModel",
       "_view_count": null,
       "_view_module": "@jupyter-widgets/base",
       "_view_module_version": "2.0.0",
       "_view_name": "LayoutView",
       "align_content": null,
       "align_items": null,
       "align_self": null,
       "border_bottom": null,
       "border_left": null,
       "border_right": null,
       "border_top": null,
       "bottom": null,
       "display": null,
       "flex": null,
       "flex_flow": null,
       "grid_area": null,
       "grid_auto_columns": null,
       "grid_auto_flow": null,
       "grid_auto_rows": null,
       "grid_column": null,
       "grid_gap": null,
       "grid_row": null,
       "grid_template_areas": null,
       "grid_template_columns": null,
       "grid_template_rows": null,
       "height": null,
       "justify_content": null,
       "justify_items": null,
       "left": null,
       "margin": null,
       "max_height": null,
       "max_width": null,
       "min_height": null,
       "min_width": null,
       "object_fit": null,
       "object_position": null,
       "order": null,
       "overflow": null,
       "padding": null,
       "right": null,
       "top": null,
       "visibility": null,
       "width": null
      }
     },
     "72c670580c484dbf910eafecfed3e3df": {
      "model_module": "@jupyter-widgets/base",
      "model_module_version": "2.0.0",
      "model_name": "LayoutModel",
      "state": {
       "_model_module": "@jupyter-widgets/base",
       "_model_module_version": "2.0.0",
       "_model_name": "LayoutModel",
       "_view_count": null,
       "_view_module": "@jupyter-widgets/base",
       "_view_module_version": "2.0.0",
       "_view_name": "LayoutView",
       "align_content": null,
       "align_items": null,
       "align_self": null,
       "border_bottom": null,
       "border_left": null,
       "border_right": null,
       "border_top": null,
       "bottom": null,
       "display": null,
       "flex": null,
       "flex_flow": null,
       "grid_area": null,
       "grid_auto_columns": null,
       "grid_auto_flow": null,
       "grid_auto_rows": null,
       "grid_column": null,
       "grid_gap": null,
       "grid_row": null,
       "grid_template_areas": null,
       "grid_template_columns": null,
       "grid_template_rows": null,
       "height": null,
       "justify_content": null,
       "justify_items": null,
       "left": null,
       "margin": null,
       "max_height": null,
       "max_width": null,
       "min_height": null,
       "min_width": null,
       "object_fit": null,
       "object_position": null,
       "order": null,
       "overflow": null,
       "padding": null,
       "right": null,
       "top": null,
       "visibility": null,
       "width": null
      }
     },
     "77fe1536d4234ee9b297213bf4fd3168": {
      "model_module": "@jupyter-widgets/controls",
      "model_module_version": "2.0.0",
      "model_name": "HTMLModel",
      "state": {
       "_dom_classes": [],
       "_model_module": "@jupyter-widgets/controls",
       "_model_module_version": "2.0.0",
       "_model_name": "HTMLModel",
       "_view_count": null,
       "_view_module": "@jupyter-widgets/controls",
       "_view_module_version": "2.0.0",
       "_view_name": "HTMLView",
       "description": "",
       "description_allow_html": false,
       "layout": "IPY_MODEL_72c670580c484dbf910eafecfed3e3df",
       "placeholder": "​",
       "style": "IPY_MODEL_dabdf59c6d3d4d5daf13f27d5d06fb07",
       "tabbable": null,
       "tooltip": null,
       "value": " 3/3 [00:54&lt;00:00, 21.19s/it]"
      }
     },
     "84bdd6e397364ad7aca8135e18ee7059": {
      "model_module": "@jupyter-widgets/controls",
      "model_module_version": "2.0.0",
      "model_name": "HTMLStyleModel",
      "state": {
       "_model_module": "@jupyter-widgets/controls",
       "_model_module_version": "2.0.0",
       "_model_name": "HTMLStyleModel",
       "_view_count": null,
       "_view_module": "@jupyter-widgets/base",
       "_view_module_version": "2.0.0",
       "_view_name": "StyleView",
       "background": null,
       "description_width": "",
       "font_size": null,
       "text_color": null
      }
     },
     "899da6e8123442088c1194a224bb7e01": {
      "model_module": "@jupyter-widgets/base",
      "model_module_version": "2.0.0",
      "model_name": "LayoutModel",
      "state": {
       "_model_module": "@jupyter-widgets/base",
       "_model_module_version": "2.0.0",
       "_model_name": "LayoutModel",
       "_view_count": null,
       "_view_module": "@jupyter-widgets/base",
       "_view_module_version": "2.0.0",
       "_view_name": "LayoutView",
       "align_content": null,
       "align_items": null,
       "align_self": null,
       "border_bottom": null,
       "border_left": null,
       "border_right": null,
       "border_top": null,
       "bottom": null,
       "display": null,
       "flex": null,
       "flex_flow": null,
       "grid_area": null,
       "grid_auto_columns": null,
       "grid_auto_flow": null,
       "grid_auto_rows": null,
       "grid_column": null,
       "grid_gap": null,
       "grid_row": null,
       "grid_template_areas": null,
       "grid_template_columns": null,
       "grid_template_rows": null,
       "height": null,
       "justify_content": null,
       "justify_items": null,
       "left": null,
       "margin": null,
       "max_height": null,
       "max_width": null,
       "min_height": null,
       "min_width": null,
       "object_fit": null,
       "object_position": null,
       "order": null,
       "overflow": null,
       "padding": null,
       "right": null,
       "top": null,
       "visibility": null,
       "width": null
      }
     },
     "937c239400c24b7e88810463197e9057": {
      "model_module": "@jupyter-widgets/controls",
      "model_module_version": "2.0.0",
      "model_name": "HBoxModel",
      "state": {
       "_dom_classes": [],
       "_model_module": "@jupyter-widgets/controls",
       "_model_module_version": "2.0.0",
       "_model_name": "HBoxModel",
       "_view_count": null,
       "_view_module": "@jupyter-widgets/controls",
       "_view_module_version": "2.0.0",
       "_view_name": "HBoxView",
       "box_style": "",
       "children": [
        "IPY_MODEL_b7f37d5ccd0b447495b0e0f2567a8dff",
        "IPY_MODEL_1f85282cd67b48328c8bd25a9cd6af2b",
        "IPY_MODEL_77fe1536d4234ee9b297213bf4fd3168"
       ],
       "layout": "IPY_MODEL_899da6e8123442088c1194a224bb7e01",
       "tabbable": null,
       "tooltip": null
      }
     },
     "96cb2432ceb04592af129d4b35f0a6d7": {
      "model_module": "@jupyter-widgets/controls",
      "model_module_version": "2.0.0",
      "model_name": "ProgressStyleModel",
      "state": {
       "_model_module": "@jupyter-widgets/controls",
       "_model_module_version": "2.0.0",
       "_model_name": "ProgressStyleModel",
       "_view_count": null,
       "_view_module": "@jupyter-widgets/base",
       "_view_module_version": "2.0.0",
       "_view_name": "StyleView",
       "bar_color": null,
       "description_width": ""
      }
     },
     "b7f37d5ccd0b447495b0e0f2567a8dff": {
      "model_module": "@jupyter-widgets/controls",
      "model_module_version": "2.0.0",
      "model_name": "HTMLModel",
      "state": {
       "_dom_classes": [],
       "_model_module": "@jupyter-widgets/controls",
       "_model_module_version": "2.0.0",
       "_model_name": "HTMLModel",
       "_view_count": null,
       "_view_module": "@jupyter-widgets/controls",
       "_view_module_version": "2.0.0",
       "_view_name": "HTMLView",
       "description": "",
       "description_allow_html": false,
       "layout": "IPY_MODEL_07308ba7d7b44ab587cfed502ac2b483",
       "placeholder": "​",
       "style": "IPY_MODEL_84bdd6e397364ad7aca8135e18ee7059",
       "tabbable": null,
       "tooltip": null,
       "value": "100%"
      }
     },
     "dabdf59c6d3d4d5daf13f27d5d06fb07": {
      "model_module": "@jupyter-widgets/controls",
      "model_module_version": "2.0.0",
      "model_name": "HTMLStyleModel",
      "state": {
       "_model_module": "@jupyter-widgets/controls",
       "_model_module_version": "2.0.0",
       "_model_name": "HTMLStyleModel",
       "_view_count": null,
       "_view_module": "@jupyter-widgets/base",
       "_view_module_version": "2.0.0",
       "_view_name": "StyleView",
       "background": null,
       "description_width": "",
       "font_size": null,
       "text_color": null
      }
     }
    },
    "version_major": 2,
    "version_minor": 0
   }
  }
 },
 "nbformat": 4,
 "nbformat_minor": 5
}