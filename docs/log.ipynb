{
 "cells": [
  {
   "cell_type": "markdown",
   "id": "92bcb855",
   "metadata": {
    "papermill": {
     "duration": 0.005449,
     "end_time": "2022-11-29T04:07:47.911042",
     "exception": false,
     "start_time": "2022-11-29T04:07:47.905593",
     "status": "completed"
    },
    "tags": []
   },
   "source": [
    "# MPIA Arxiv on Deck 2\n",
    "\n",
    "Contains the steps to produce the paper extractions."
   ]
  },
  {
   "cell_type": "code",
   "execution_count": 1,
   "id": "3a0d6e11",
   "metadata": {
    "execution": {
     "iopub.execute_input": "2022-11-29T04:07:47.924295Z",
     "iopub.status.busy": "2022-11-29T04:07:47.923197Z",
     "iopub.status.idle": "2022-11-29T04:07:48.089282Z",
     "shell.execute_reply": "2022-11-29T04:07:48.088391Z"
    },
    "papermill": {
     "duration": 0.174404,
     "end_time": "2022-11-29T04:07:48.091829",
     "exception": false,
     "start_time": "2022-11-29T04:07:47.917425",
     "status": "completed"
    },
    "tags": []
   },
   "outputs": [],
   "source": [
    "# Imports\n",
    "import os\n",
    "from IPython.display import Markdown, display\n",
    "from tqdm.notebook import tqdm\n",
    "import warnings\n",
    "from PIL import Image \n",
    "\n",
    "# requires arxiv_on_deck_2\n",
    "\n",
    "from arxiv_on_deck_2.arxiv2 import (get_new_papers, \n",
    "                                    get_paper_from_identifier,\n",
    "                                    retrieve_document_source, \n",
    "                                    get_markdown_badge)\n",
    "from arxiv_on_deck_2 import (latex, \n",
    "                             mpia,\n",
    "                             highlight_authors_in_list)\n",
    "\n",
    "# Sometimes images are really big\n",
    "Image.MAX_IMAGE_PIXELS = 1000000000 "
   ]
  },
  {
   "cell_type": "code",
   "execution_count": 2,
   "id": "22aa9d44",
   "metadata": {
    "execution": {
     "iopub.execute_input": "2022-11-29T04:07:48.103537Z",
     "iopub.status.busy": "2022-11-29T04:07:48.103105Z",
     "iopub.status.idle": "2022-11-29T04:07:48.108150Z",
     "shell.execute_reply": "2022-11-29T04:07:48.107590Z"
    },
    "papermill": {
     "duration": 0.01199,
     "end_time": "2022-11-29T04:07:48.109575",
     "exception": false,
     "start_time": "2022-11-29T04:07:48.097585",
     "status": "completed"
    },
    "tags": []
   },
   "outputs": [],
   "source": [
    "# Some useful definitions.\n",
    "\n",
    "class AffiliationWarning(UserWarning):\n",
    "    pass\n",
    "\n",
    "class AffiliationError(RuntimeError):\n",
    "    pass\n",
    "\n",
    "def validation(source: str):\n",
    "    \"\"\"Raises error paper during parsing of source file\n",
    "    \n",
    "    Allows checks before parsing TeX code.\n",
    "    \n",
    "    Raises AffiliationWarning\n",
    "    \"\"\"\n",
    "    check = mpia.affiliation_verifications(source, verbose=True)\n",
    "    if check is not True:\n",
    "        raise AffiliationError(\"mpia.affiliation_verifications: \" + check)\n",
    "\n",
    "        \n",
    "warnings.simplefilter('always', AffiliationWarning)"
   ]
  },
  {
   "cell_type": "code",
   "execution_count": 3,
   "id": "14622700",
   "metadata": {
    "execution": {
     "iopub.execute_input": "2022-11-29T04:07:48.118875Z",
     "iopub.status.busy": "2022-11-29T04:07:48.118278Z",
     "iopub.status.idle": "2022-11-29T04:07:48.123469Z",
     "shell.execute_reply": "2022-11-29T04:07:48.122489Z"
    },
    "papermill": {
     "duration": 0.011696,
     "end_time": "2022-11-29T04:07:48.124778",
     "exception": false,
     "start_time": "2022-11-29T04:07:48.113082",
     "status": "completed"
    },
    "tags": []
   },
   "outputs": [],
   "source": [
    "# additional CSS to consider. \n",
    "# TODO: Current into each exported file. \n",
    "#       This should be set once into the webpages directly.\n",
    "#       With only the class/id definitions in the .md files.\n",
    "\n",
    "debug_html = \"\"\"\n",
    "<style>\n",
    "#wrap{ overflow:auto; }\n",
    "#fig1{ background:yellow; width:100%; float:left; padding:5px;  }\n",
    "#fig2{ background:red; width:50%; float:left; clear:left; padding:5px;  }\n",
    "#fig3{ background:green; width:50%; float:left; padding:5px;   }\n",
    ".macros{ background:yellow; visibility:visible;}\n",
    "h1 {margin: 0 0 0 0;}\n",
    "mark {background-color:#fff3b6;}\n",
    "img {object-fit:contain; max-height:250px; display:inline-block; text-align: center;}\n",
    "</style>\n",
    "\"\"\" \n",
    "html = \"\"\"\n",
    "<style>\n",
    "#wrap{ overflow:auto; }\n",
    "#fig1{ width:100%; float:left; padding: 5px;  }\n",
    "#fig2{ width:50%; float:left; clear:left; padding: 5px;  }\n",
    "#fig3{ width:50%; float:left; padding: 5px;  }\n",
    ".macros{ visibility:hidden; height:0px; }\n",
    "h1 {margin: 0em 0 0 0;}\n",
    "mark {background-color:#fff3b6;}\n",
    "img {object-fit:contain; max-height:250px; display:inline-block; text-align: center;}\n",
    "</style>\n",
    "\"\"\""
   ]
  },
  {
   "cell_type": "markdown",
   "id": "14bd6310",
   "metadata": {
    "papermill": {
     "duration": 0.003576,
     "end_time": "2022-11-29T04:07:48.131883",
     "exception": false,
     "start_time": "2022-11-29T04:07:48.128307",
     "status": "completed"
    },
    "tags": []
   },
   "source": [
    "## get list of arxiv paper candidates\n",
    "\n",
    "We use the MPIA mitarbeiter list webpage from mpia.de to get author names\n",
    "We then get all new papers from Arxiv and match authors"
   ]
  },
  {
   "cell_type": "code",
   "execution_count": 4,
   "id": "2645e73a",
   "metadata": {
    "execution": {
     "iopub.execute_input": "2022-11-29T04:07:48.141482Z",
     "iopub.status.busy": "2022-11-29T04:07:48.141018Z",
     "iopub.status.idle": "2022-11-29T04:08:09.348975Z",
     "shell.execute_reply": "2022-11-29T04:08:09.348381Z"
    },
    "papermill": {
     "duration": 21.21546,
     "end_time": "2022-11-29T04:08:09.350989",
     "exception": false,
     "start_time": "2022-11-29T04:07:48.135529",
     "status": "completed"
    },
    "tags": []
   },
   "outputs": [
    {
     "name": "stdout",
     "output_type": "stream",
     "text": [
      "Arxiv has 66 new papers today\n",
      "          29 with possible author matches\n"
     ]
    }
   ],
   "source": [
    "# get list from MPIA website\n",
    "# it automatically filters identified non-scientists :func:`mpia.filter_non_scientists`\n",
    "mpia_authors = mpia.get_mpia_mitarbeiter_list()\n",
    "new_papers = get_new_papers()\n",
    "# add manual references\n",
    "add_paper_refs = []\n",
    "new_papers.extend([get_paper_from_identifier(k) for k in add_paper_refs])\n",
    "\n",
    "# select only papers with matching author names and highlight authors\n",
    "hl_list = [k[0] for k in mpia_authors]\n",
    "\n",
    "candidates = []\n",
    "for paperk in new_papers:\n",
    "    hl_authors = highlight_authors_in_list(paperk['authors'], hl_list)\n",
    "    matches = [(hl, orig) for hl, orig in zip(hl_authors, paperk['authors']) if 'mark' in hl]\n",
    "    paperk['authors'] = hl_authors\n",
    "    if matches:\n",
    "        candidates.append(paperk)\n",
    "print(\"\"\"Arxiv has {0:,d} new papers today\"\"\".format(len(new_papers)))        \n",
    "print(\"\"\"          {0:,d} with possible author matches\"\"\".format(len(candidates)))"
   ]
  },
  {
   "cell_type": "markdown",
   "id": "3543b34a",
   "metadata": {
    "papermill": {
     "duration": 0.004986,
     "end_time": "2022-11-29T04:08:09.360430",
     "exception": false,
     "start_time": "2022-11-29T04:08:09.355444",
     "status": "completed"
    },
    "tags": []
   },
   "source": [
    "# Parse sources and generate relevant outputs\n",
    "\n",
    "From the candidates, we do the following steps:\n",
    "* get their tarball from ArXiv (and extract data)\n",
    "* find the main .tex file: find one with \\documentclass{...} (sometimes it's non trivial)\n",
    "* Check affiliations with :func:`validation`, which uses :func:`mpia.affiliation_verifications`\n",
    "* If passing the affiliations: we parse the .tex source\n",
    "   * inject sub-documents into the main (flatten the main document)\n",
    "   * parse structure, extract information (title, abstract, authors, figures...)\n",
    "   * handles `\\graphicspath` if provided\n",
    "* Generate the .md document."
   ]
  },
  {
   "cell_type": "code",
   "execution_count": 5,
   "id": "9576b79e",
   "metadata": {
    "execution": {
     "iopub.execute_input": "2022-11-29T04:08:09.370691Z",
     "iopub.status.busy": "2022-11-29T04:08:09.370148Z",
     "iopub.status.idle": "2022-11-29T04:19:28.952303Z",
     "shell.execute_reply": "2022-11-29T04:19:28.951477Z"
    },
    "papermill": {
     "duration": 679.591544,
     "end_time": "2022-11-29T04:19:28.956078",
     "exception": false,
     "start_time": "2022-11-29T04:08:09.364534",
     "status": "completed"
    },
    "scrolled": false,
    "tags": []
   },
   "outputs": [
    {
     "data": {
      "application/vnd.jupyter.widget-view+json": {
       "model_id": "4484e94100bf4b7e84aca5e3eb525410",
       "version_major": 2,
       "version_minor": 0
      },
      "text/plain": [
       "  0%|          | 0/28 [00:00<?, ?it/s]"
      ]
     },
     "metadata": {},
     "output_type": "display_data"
    },
    {
     "name": "stdout",
     "output_type": "stream",
     "text": [
      "Retrieving document from  https://arxiv.org/e-print/2211.14322\n"
     ]
    },
    {
     "name": "stdout",
     "output_type": "stream",
     "text": [
      "extracting tarball to tmp_2211.14322..."
     ]
    },
    {
     "name": "stdout",
     "output_type": "stream",
     "text": [
      " done.\n"
     ]
    },
    {
     "name": "stderr",
     "output_type": "stream",
     "text": [
      "/opt/hostedtoolcache/Python/3.9.15/x64/lib/python3.9/site-packages/arxiv_on_deck_2/latex.py:366: LatexWarning: Error parsing the document directly. Trying to recover.\n",
      "  warnings.warn(LatexWarning(f\"Error parsing the document directly. Trying to recover.\"))\n"
     ]
    },
    {
     "name": "stdout",
     "output_type": "stream",
     "text": [
      "✔ → 0:header\n",
      "  ↳ 4915:\\section{Introduction}\n"
     ]
    },
    {
     "name": "stdout",
     "output_type": "stream",
     "text": [
      "✔ → 4915:\\section{Introduction}\n",
      "  ↳ 13482:\\section{Targets}\\label{sec:targets}\n"
     ]
    },
    {
     "name": "stdout",
     "output_type": "stream",
     "text": [
      "✔ → 13482:\\section{Targets}\\label{sec:targets}\n",
      "  ↳ 26929:\\section{Observations and data reduction}\\label{sec:observations}\n"
     ]
    },
    {
     "name": "stdout",
     "output_type": "stream",
     "text": [
      "✔ → 26929:\\section{Observations and data reduction}\\label{sec:observations}\n",
      "  ↳ 36748:\\section{Scattered light polarisation in multiples}\\label{sec:two_light_sources}\n"
     ]
    },
    {
     "name": "stdout",
     "output_type": "stream",
     "text": [
      "✔ → 36748:\\section{Scattered light polarisation in multiples}\\label{sec:two_light_sources}\n",
      "  ↳ 42710:\\section{Results}\\label{sec:results}\n"
     ]
    },
    {
     "name": "stdout",
     "output_type": "stream",
     "text": [
      "✔ → 42710:\\section{Results}\\label{sec:results}\n",
      "  ↳ 67960:\\section{Discussion}\\label{sec:discussion}\n"
     ]
    },
    {
     "name": "stdout",
     "output_type": "stream",
     "text": [
      "✔ → 67960:\\section{Discussion}\\label{sec:discussion}\n",
      "  ↳ 97551:\\section{Conclusions}\\label{sec:conclusions}\n",
      "✔ → 97551:\\section{Conclusions}\\label{sec:conclusions}\n",
      "  ↳ 103422:\\section{Software}\n"
     ]
    },
    {
     "name": "stdout",
     "output_type": "stream",
     "text": [
      "✔ → 103422:\\section{Software}\n",
      "  ↳ 104928:\\section{{$Q_\\phi$ / $U_\\phi$ analysis in binary systems}}\\label{appendix:QUphi}\n"
     ]
    },
    {
     "name": "stdout",
     "output_type": "stream",
     "text": [
      "✔ → 104928:\\section{{$Q_\\phi$ / $U_\\phi$ analysis in binary systems}}\\label{appendix:QUphi}\n",
      "  ↳ 110345:\\section{Subtracting the stellar polarisation in binary systems}\\label{appendix:star_pol}\n"
     ]
    },
    {
     "name": "stdout",
     "output_type": "stream",
     "text": [
      "✔ → 110345:\\section{Subtracting the stellar polarisation in binary systems}\\label{appendix:star_pol}\n",
      "  ↳ 117413:\\section{{Uncorrected and de-noised image of SR~24}}\\label{appendix:SR24_0}\n",
      "✔ → 117413:\\section{{Uncorrected and de-noised image of SR~24}}\\label{appendix:SR24_0}\n",
      "  ↳ 120400:\\section{Radiative Transfer Model for SR~24S}\\label{appendix:SR24S_RT}\n"
     ]
    },
    {
     "name": "stdout",
     "output_type": "stream",
     "text": [
      "✔ → 120400:\\section{Radiative Transfer Model for SR~24S}\\label{appendix:SR24S_RT}\n",
      "  ↳ 122202:end\n"
     ]
    },
    {
     "name": "stdout",
     "output_type": "stream",
     "text": [
      "Retrieving document from  https://arxiv.org/e-print/2211.14329\n"
     ]
    },
    {
     "name": "stdout",
     "output_type": "stream",
     "text": [
      "extracting tarball to tmp_2211.14329..."
     ]
    },
    {
     "name": "stdout",
     "output_type": "stream",
     "text": [
      " done.\n"
     ]
    },
    {
     "name": "stderr",
     "output_type": "stream",
     "text": [
      "/opt/hostedtoolcache/Python/3.9.15/x64/lib/python3.9/site-packages/IPython/core/interactiveshell.py:3433: LatexWarning: Multiple tex files.\n",
      "\n",
      "  exec(code_obj, self.user_global_ns, self.user_ns)\n",
      "/opt/hostedtoolcache/Python/3.9.15/x64/lib/python3.9/site-packages/IPython/core/interactiveshell.py:3433: LatexWarning: Found documentclass in tmp_2211.14329/manuscript.tex\n",
      "\n",
      "  exec(code_obj, self.user_global_ns, self.user_ns)\n"
     ]
    },
    {
     "name": "stderr",
     "output_type": "stream",
     "text": [
      "/tmp/ipykernel_2179/4030337529.py:34: LatexWarning: 2211.14329 did not run properly\n",
      "sequence item 0: expected str instance, TexNode found\n",
      "  warnings.warn(latex.LatexWarning(f\"{paper_id:s} did not run properly\\n\" +\n"
     ]
    },
    {
     "name": "stdout",
     "output_type": "stream",
     "text": [
      "Retrieving document from  https://arxiv.org/e-print/2211.14330\n"
     ]
    },
    {
     "name": "stdout",
     "output_type": "stream",
     "text": [
      "extracting tarball to tmp_2211.14330..."
     ]
    },
    {
     "name": "stdout",
     "output_type": "stream",
     "text": [
      " done.\n"
     ]
    },
    {
     "name": "stdout",
     "output_type": "stream",
     "text": [
      "Retrieving document from  https://arxiv.org/e-print/2211.14342\n"
     ]
    },
    {
     "name": "stdout",
     "output_type": "stream",
     "text": [
      "extracting tarball to tmp_2211.14342..."
     ]
    },
    {
     "name": "stdout",
     "output_type": "stream",
     "text": [
      " done.\n",
      "Retrieving document from  https://arxiv.org/e-print/2211.14350\n"
     ]
    },
    {
     "name": "stderr",
     "output_type": "stream",
     "text": [
      "/opt/hostedtoolcache/Python/3.9.15/x64/lib/python3.9/site-packages/IPython/core/interactiveshell.py:3433: LatexWarning: Multiple tex files.\n",
      "\n",
      "  exec(code_obj, self.user_global_ns, self.user_ns)\n",
      "/opt/hostedtoolcache/Python/3.9.15/x64/lib/python3.9/site-packages/IPython/core/interactiveshell.py:3433: LatexWarning: Found documentclass in tmp_2211.14342/main.tex\n",
      "\n",
      "  exec(code_obj, self.user_global_ns, self.user_ns)\n",
      "/opt/hostedtoolcache/Python/3.9.15/x64/lib/python3.9/site-packages/arxiv_on_deck_2/latex.py:292: LatexWarning: Latex injecting: 'acronym.tex' from 'tmp_2211.14342/acronym.tex'\n",
      "  warnings.warn(LatexWarning(f\"Latex injecting: '{ext}' from '{subsource}'\"))\n"
     ]
    },
    {
     "name": "stdout",
     "output_type": "stream",
     "text": [
      "extracting tarball to tmp_2211.14350..."
     ]
    },
    {
     "name": "stdout",
     "output_type": "stream",
     "text": [
      " done.\n",
      "Retrieving document from  https://arxiv.org/e-print/2211.14398\n"
     ]
    },
    {
     "name": "stdout",
     "output_type": "stream",
     "text": [
      "extracting tarball to tmp_2211.14398..."
     ]
    },
    {
     "name": "stdout",
     "output_type": "stream",
     "text": [
      " done.\n",
      "Retrieving document from  https://arxiv.org/e-print/2211.14401\n"
     ]
    },
    {
     "name": "stderr",
     "output_type": "stream",
     "text": [
      "/opt/hostedtoolcache/Python/3.9.15/x64/lib/python3.9/site-packages/IPython/core/interactiveshell.py:3433: LatexWarning: Multiple tex files.\n",
      "\n",
      "  exec(code_obj, self.user_global_ns, self.user_ns)\n",
      "/opt/hostedtoolcache/Python/3.9.15/x64/lib/python3.9/site-packages/IPython/core/interactiveshell.py:3433: LatexWarning: Found documentclass in tmp_2211.14398/main.tex\n",
      "\n",
      "  exec(code_obj, self.user_global_ns, self.user_ns)\n"
     ]
    },
    {
     "name": "stdout",
     "output_type": "stream",
     "text": [
      "extracting tarball to tmp_2211.14401... done.\n",
      "Retrieving document from  https://arxiv.org/e-print/2211.14488\n"
     ]
    },
    {
     "name": "stdout",
     "output_type": "stream",
     "text": [
      "extracting tarball to tmp_2211.14488..."
     ]
    },
    {
     "name": "stdout",
     "output_type": "stream",
     "text": [
      " done.\n",
      "Retrieving document from  https://arxiv.org/e-print/2211.14543\n"
     ]
    },
    {
     "name": "stdout",
     "output_type": "stream",
     "text": [
      "extracting tarball to tmp_2211.14543..."
     ]
    },
    {
     "name": "stdout",
     "output_type": "stream",
     "text": [
      " done.\n"
     ]
    },
    {
     "name": "stdout",
     "output_type": "stream",
     "text": [
      "Retrieving document from  https://arxiv.org/e-print/2211.14637\n"
     ]
    },
    {
     "name": "stdout",
     "output_type": "stream",
     "text": [
      "extracting tarball to tmp_2211.14637... done.\n",
      "Retrieving document from  https://arxiv.org/e-print/2211.14767\n"
     ]
    },
    {
     "name": "stderr",
     "output_type": "stream",
     "text": [
      "/opt/hostedtoolcache/Python/3.9.15/x64/lib/python3.9/site-packages/IPython/core/interactiveshell.py:3433: LatexWarning: Multiple tex files.\n",
      "\n",
      "  exec(code_obj, self.user_global_ns, self.user_ns)\n",
      "/opt/hostedtoolcache/Python/3.9.15/x64/lib/python3.9/site-packages/IPython/core/interactiveshell.py:3433: LatexWarning: Found documentclass in tmp_2211.14637/GB_SFR_history.tex\n",
      "\n",
      "  exec(code_obj, self.user_global_ns, self.user_ns)\n"
     ]
    },
    {
     "name": "stdout",
     "output_type": "stream",
     "text": [
      "extracting tarball to tmp_2211.14767..."
     ]
    },
    {
     "name": "stdout",
     "output_type": "stream",
     "text": [
      " done.\n",
      "Retrieving document from  https://arxiv.org/e-print/2211.14945\n"
     ]
    },
    {
     "name": "stdout",
     "output_type": "stream",
     "text": [
      "extracting tarball to tmp_2211.14945..."
     ]
    },
    {
     "name": "stdout",
     "output_type": "stream",
     "text": [
      " done.\n",
      "Retrieving document from  https://arxiv.org/e-print/2211.15061\n"
     ]
    },
    {
     "name": "stdout",
     "output_type": "stream",
     "text": [
      "extracting tarball to tmp_2211.15061... done.\n",
      "Retrieving document from  https://arxiv.org/e-print/2211.15123\n"
     ]
    },
    {
     "name": "stdout",
     "output_type": "stream",
     "text": [
      "extracting tarball to tmp_2211.15123..."
     ]
    },
    {
     "name": "stdout",
     "output_type": "stream",
     "text": [
      " done.\n",
      "Retrieving document from  https://arxiv.org/e-print/2211.15160\n"
     ]
    },
    {
     "name": "stdout",
     "output_type": "stream",
     "text": [
      "extracting tarball to tmp_2211.15160..."
     ]
    },
    {
     "name": "stdout",
     "output_type": "stream",
     "text": [
      " done.\n",
      "Retrieving document from  https://arxiv.org/e-print/2211.15161\n"
     ]
    },
    {
     "name": "stdout",
     "output_type": "stream",
     "text": [
      "extracting tarball to tmp_2211.15161..."
     ]
    },
    {
     "name": "stdout",
     "output_type": "stream",
     "text": [
      " done.\n",
      "Retrieving document from  https://arxiv.org/e-print/2211.15224\n"
     ]
    },
    {
     "name": "stdout",
     "output_type": "stream",
     "text": [
      "extracting tarball to tmp_2211.15224..."
     ]
    },
    {
     "name": "stdout",
     "output_type": "stream",
     "text": [
      " done.\n"
     ]
    },
    {
     "name": "stderr",
     "output_type": "stream",
     "text": [
      "/opt/hostedtoolcache/Python/3.9.15/x64/lib/python3.9/site-packages/arxiv_on_deck_2/latex.py:366: LatexWarning: Error parsing the document directly. Trying to recover.\n",
      "  warnings.warn(LatexWarning(f\"Error parsing the document directly. Trying to recover.\"))\n"
     ]
    },
    {
     "name": "stdout",
     "output_type": "stream",
     "text": [
      "✔ → 0:header\n",
      "  ↳ 3957:\\section{Introduction}\n"
     ]
    },
    {
     "name": "stdout",
     "output_type": "stream",
     "text": [
      "✔ → 3957:\\section{Introduction}\n",
      "  ↳ 10940:\\section{Pristine Inner Galaxy Survey (PIGS)} \\label{sect:pigs}\n"
     ]
    },
    {
     "name": "stdout",
     "output_type": "stream",
     "text": [
      "✘ → 10940:\\section{Pristine Inner Galaxy Survey (PIGS)} \\label{sect:pigs}\n",
      "  ↳ 21342:\\section{Fit and measure DIBs in stacked spectra} \\label{sect:fit-dib}\n"
     ]
    },
    {
     "name": "stdout",
     "output_type": "stream",
     "text": [
      "✔ → 21342:\\section{Fit and measure DIBs in stacked spectra} \\label{sect:fit-dib}\n",
      "  ↳ 31393:\\section{Result} \\label{sect:result}\n"
     ]
    },
    {
     "name": "stdout",
     "output_type": "stream",
     "text": [
      "✔ → 31393:\\section{Result} \\label{sect:result}\n",
      "  ↳ 47461:\\section{Discussion} \\label{sect:discuss}\n"
     ]
    },
    {
     "name": "stdout",
     "output_type": "stream",
     "text": [
      "✔ → 47461:\\section{Discussion} \\label{sect:discuss}\n",
      "  ↳ 54386:\\section{Conclusions} \\label{sect:conclusion}\n",
      "✔ → 54386:\\section{Conclusions} \\label{sect:conclusion}\n",
      "  ↳ 57789:\\section{DIB fitting in stacked ISM spectra} \\label{appsec:fit-stack}\n"
     ]
    },
    {
     "name": "stdout",
     "output_type": "stream",
     "text": [
      "✔ → 57789:\\section{DIB fitting in stacked ISM spectra} \\label{appsec:fit-stack}\n",
      "  ↳ 58565:end\n"
     ]
    },
    {
     "name": "stdout",
     "output_type": "stream",
     "text": [
      "Retrieving document from  https://arxiv.org/e-print/2211.15284\n"
     ]
    },
    {
     "name": "stdout",
     "output_type": "stream",
     "text": [
      "extracting tarball to tmp_2211.15284..."
     ]
    },
    {
     "name": "stdout",
     "output_type": "stream",
     "text": [
      " done.\n",
      "Retrieving document from  https://arxiv.org/e-print/2211.15288\n"
     ]
    },
    {
     "name": "stdout",
     "output_type": "stream",
     "text": [
      "extracting tarball to tmp_2211.15288..."
     ]
    },
    {
     "name": "stdout",
     "output_type": "stream",
     "text": [
      " done.\n"
     ]
    },
    {
     "name": "stdout",
     "output_type": "stream",
     "text": [
      "Retrieving document from  https://arxiv.org/e-print/2211.15312\n"
     ]
    },
    {
     "name": "stdout",
     "output_type": "stream",
     "text": [
      "extracting tarball to tmp_2211.15312..."
     ]
    },
    {
     "name": "stdout",
     "output_type": "stream",
     "text": [
      " done.\n",
      "Retrieving document from  https://arxiv.org/e-print/2211.15333\n"
     ]
    },
    {
     "name": "stdout",
     "output_type": "stream",
     "text": [
      "extracting tarball to tmp_2211.15333..."
     ]
    },
    {
     "name": "stdout",
     "output_type": "stream",
     "text": [
      " done.\n",
      "Retrieving document from  https://arxiv.org/e-print/2211.15434\n"
     ]
    },
    {
     "name": "stdout",
     "output_type": "stream",
     "text": [
      "extracting tarball to tmp_2211.15434..."
     ]
    },
    {
     "name": "stdout",
     "output_type": "stream",
     "text": [
      " done.\n"
     ]
    },
    {
     "name": "stdout",
     "output_type": "stream",
     "text": [
      "Retrieving document from  https://arxiv.org/e-print/2211.15448\n"
     ]
    },
    {
     "name": "stdout",
     "output_type": "stream",
     "text": [
      "extracting tarball to tmp_2211.15448... done.\n",
      "Retrieving document from  https://arxiv.org/e-print/2211.15491\n"
     ]
    },
    {
     "name": "stderr",
     "output_type": "stream",
     "text": [
      "/tmp/ipykernel_2179/4030337529.py:34: LatexWarning: 2211.15491 did not run properly\n",
      "not a gzip file\n",
      "  warnings.warn(latex.LatexWarning(f\"{paper_id:s} did not run properly\\n\" +\n"
     ]
    },
    {
     "name": "stdout",
     "output_type": "stream",
     "text": [
      "Retrieving document from  https://arxiv.org/e-print/2211.15570\n"
     ]
    },
    {
     "name": "stdout",
     "output_type": "stream",
     "text": [
      "extracting tarball to tmp_2211.15570..."
     ]
    },
    {
     "name": "stdout",
     "output_type": "stream",
     "text": [
      " done.\n",
      "Retrieving document from  https://arxiv.org/e-print/2211.15576\n"
     ]
    },
    {
     "name": "stderr",
     "output_type": "stream",
     "text": [
      "/opt/hostedtoolcache/Python/3.9.15/x64/lib/python3.9/site-packages/IPython/core/interactiveshell.py:3433: LatexWarning: Multiple tex files.\n",
      "\n",
      "  exec(code_obj, self.user_global_ns, self.user_ns)\n",
      "/opt/hostedtoolcache/Python/3.9.15/x64/lib/python3.9/site-packages/IPython/core/interactiveshell.py:3433: LatexWarning: Found documentclass in tmp_2211.15570/main.tex\n",
      "\n",
      "  exec(code_obj, self.user_global_ns, self.user_ns)\n",
      "/opt/hostedtoolcache/Python/3.9.15/x64/lib/python3.9/site-packages/arxiv_on_deck_2/latex.py:292: LatexWarning: Latex injecting: 'authors' from 'tmp_2211.15570/authors.tex'\n",
      "  warnings.warn(LatexWarning(f\"Latex injecting: '{ext}' from '{subsource}'\"))\n"
     ]
    },
    {
     "name": "stdout",
     "output_type": "stream",
     "text": [
      "extracting tarball to tmp_2211.15576..."
     ]
    },
    {
     "name": "stdout",
     "output_type": "stream",
     "text": [
      " done.\n"
     ]
    },
    {
     "name": "stdout",
     "output_type": "stream",
     "text": [
      "Retrieving document from  https://arxiv.org/e-print/2211.15599\n"
     ]
    },
    {
     "name": "stdout",
     "output_type": "stream",
     "text": [
      "extracting tarball to tmp_2211.15599... done.\n",
      "Retrieving document from  https://arxiv.org/e-print/2211.15615\n"
     ]
    },
    {
     "name": "stdout",
     "output_type": "stream",
     "text": [
      "extracting tarball to tmp_2211.15615..."
     ]
    },
    {
     "name": "stdout",
     "output_type": "stream",
     "text": [
      " done.\n"
     ]
    }
   ],
   "source": [
    "documents = []\n",
    "failed = []\n",
    "for paper in tqdm(candidates[:-1]):\n",
    "    paper_id = paper['identifier'].lower().replace('arxiv:', '')\n",
    "    \n",
    "    folder = f'tmp_{paper_id}'\n",
    "\n",
    "    try:\n",
    "        if not os.path.isdir(folder):\n",
    "            folder = retrieve_document_source(f\"{paper_id}\", f'tmp_{paper_id}')\n",
    "        \n",
    "        try:\n",
    "            doc = latex.LatexDocument(folder, validation=validation)    \n",
    "        except AffiliationError as affilerror:\n",
    "            msg = f\"ArXiv:{paper_id:s} is not an MPIA paper... \" + str(affilerror)\n",
    "            failed.append((paper, \"affiliation error: \" + str(affilerror) ))\n",
    "            continue\n",
    "        \n",
    "        # Hack because sometimes author parsing does not work well\n",
    "        if (len(doc.authors) != len(paper['authors'])):\n",
    "            doc._authors = paper['authors']\n",
    "        if (doc.abstract) in (None, ''):\n",
    "            doc._abstract = paper['abstract']\n",
    "            \n",
    "        doc.comment = (get_markdown_badge(paper_id) + \n",
    "                       \"<mark>Appeared on: \" + paper['date'] + \"</mark> - \" +\n",
    "                       \"_\" + paper['comments'] + \"_\")\n",
    "        doc.highlight_authors_in_list(hl_list)\n",
    "\n",
    "        full_md = doc.generate_markdown_text()\n",
    "        \n",
    "        documents.append((paper_id, full_md))\n",
    "    except Exception as e:\n",
    "        warnings.warn(latex.LatexWarning(f\"{paper_id:s} did not run properly\\n\" +\n",
    "                                         str(e)\n",
    "                                        ))\n",
    "        failed.append((paper, \"latex error \" + str(e)))"
   ]
  },
  {
   "cell_type": "markdown",
   "id": "2505a25c",
   "metadata": {
    "papermill": {
     "duration": 0.010367,
     "end_time": "2022-11-29T04:19:28.977034",
     "exception": false,
     "start_time": "2022-11-29T04:19:28.966667",
     "status": "completed"
    },
    "tags": []
   },
   "source": [
    "### Export the logs\n",
    "\n",
    "Throughout, we also keep track of the logs per paper. see `logs-{today date}.md` "
   ]
  },
  {
   "cell_type": "code",
   "execution_count": 6,
   "id": "d733828a",
   "metadata": {
    "execution": {
     "iopub.execute_input": "2022-11-29T04:19:28.999561Z",
     "iopub.status.busy": "2022-11-29T04:19:28.998850Z",
     "iopub.status.idle": "2022-11-29T04:19:29.046970Z",
     "shell.execute_reply": "2022-11-29T04:19:29.046119Z"
    },
    "papermill": {
     "duration": 0.061924,
     "end_time": "2022-11-29T04:19:29.049010",
     "exception": false,
     "start_time": "2022-11-29T04:19:28.987086",
     "status": "completed"
    },
    "scrolled": false,
    "tags": []
   },
   "outputs": [
    {
     "data": {
      "text/markdown": [
       "## Successful papers"
      ],
      "text/plain": [
       "<IPython.core.display.Markdown object>"
      ]
     },
     "metadata": {},
     "output_type": "display_data"
    },
    {
     "data": {
      "text/markdown": [
       "\n",
       "|||\n",
       "|---:|:---|\n",
       "| [![arXiv](https://img.shields.io/badge/arXiv-arXiv:2211.14322-b31b1b.svg)](https://arxiv.org/abs/arXiv:2211.14322) | **The SPHERE view of three interacting twin disc systems in polarised  light**  |\n",
       "|| Philipp Weber, et al. -- incl., <mark>Nicolás T. Kurtovic</mark> |\n",
       "|*Appeared on*| *2022-11-29*|\n",
       "|*Comments*| *23 pages, 17 figures, accepted for publication in MNRAS*|\n",
       "|**Abstract**| Dense stellar environments as hosts of ongoing star formation increase the probability of gravitational encounters among stellar systems during the early stages of evolution. Stellar interaction may occur through non-recurring, hyperbolic or parabolic passages (a so-called 'fly-by'), through secular binary evolution, or through binary capture. In all three scenarios, the strong gravitational perturbation is expected to manifest itself in the disc structures around the individual stars. Here, we present near-infrared polarised light observations that were taken with the SPHERE/IRDIS instrument of three known interacting twin-disc systems: AS 205, EM* SR 24, and FU Orionis. The scattered light exposes spirals likely caused by the gravitational interaction. On a larger scale, we observe connecting filaments between the stars. We analyse their very complex polarised intensity and put particular attention to the presence of multiple light sources in these systems. The local angle of linear polarisation indicates the source whose light dominates the scattering process from the bridging region between the two stars. Further, we show that the polarised intensity from scattering with multiple relevant light sources results from an incoherent summation of the individuals' contribution. This can produce nulls of polarised intensity in an image, as potentially observed in AS 205. We discuss the geometry and content of the systems by comparing the polarised light observations with other data at similar resolution, namely with ALMA continuum and gas emission. Collective observational data can constrain the systems' geometry and stellar trajectories, with the important potential to differentiate between dynamical scenarios of stellar interaction. |"
      ],
      "text/plain": [
       "[arXiv:2211.14322] The SPHERE view of three interacting twin disc systems in polarised  light\n",
       "\tPhilipp Weber, et al. -- incl., <mark>Nicolás T. Kurtovic</mark>"
      ]
     },
     "metadata": {},
     "output_type": "display_data"
    },
    {
     "data": {
      "text/markdown": [
       "\n",
       "|||\n",
       "|---:|:---|\n",
       "| [![arXiv](https://img.shields.io/badge/arXiv-arXiv:2211.14330-b31b1b.svg)](https://arxiv.org/abs/arXiv:2211.14330) | **Revisiting the atmosphere of the exoplanet 51 Eridani b with VLT/SPHERE**  |\n",
       "|| <mark>S. B. Brown-Sevilla</mark>, et al. -- incl., <mark>P. Mollière</mark>, <mark>M. Samland</mark>, <mark>M. Feldt</mark>, <mark>Th. Henning</mark>, <mark>M. Langlois</mark>, <mark>M. Meyer</mark>, <mark>A. Pavlov</mark> |\n",
       "|*Appeared on*| *2022-11-29*|\n",
       "|*Comments*| *Accepted for publication in A&A. 21 pages, 7 figures in the main text and 9 figures in the Appendix*|\n",
       "|**Abstract**| [Full abstract in the paper] We aim to better constrain the atmospheric properties of the directly imaged exoplanet 51~Eri~b by using a retrieval approach on higher signal-to-noise data than previously reported. In this context, we also compare the results of using the atmospheric retrieval code \\texttt{petitRADTRANS} vs a self-consistent model to fit atmospheric parameters. We present a higher signal-to-noise $YH$ spectrum of the planet and revised $K1K2$ photometry (M$_{K1} = 15.11 \\pm 0.04$ mag, M$_{K2} = 17.11 \\pm 0.38$ mag). The best-fit parameters obtained using an atmospheric retrieval differ from previous results using self-consistent models. In general, we find that our solutions tend towards cloud-free atmospheres (e.g. log $\\tau_{\\rm clouds} = -5.20 \\pm 1.44$). For our ``nominal'' model with new data, we find a lower metallicity ([Fe/H] $= 0.26\\pm$0.30 dex) and C/O ratio ($0.38\\pm0.09$), and a slightly higher effective temperature (T$_{\\rm{eff}} = 807\\pm$45 K) than previous studies. The surface gravity (log $g = 4.05\\pm0.37$) is in agreement with the reported values in the literature within uncertainties. We estimate the mass of the planet to be between 2 and 4 M$_{\\rm{Jup}}$. When comparing with self-consistent models, we encounter a known correlation between the presence of clouds and the shape of the $P-T$ profiles. Our findings support the idea that results from atmospheric retrievals should not be discussed in isolation, but rather along with self-consistent temperature structures obtained using the retrieval's best-fit parameters. |"
      ],
      "text/plain": [
       "[arXiv:2211.14330] Revisiting the atmosphere of the exoplanet 51 Eridani b with VLT/SPHERE\n",
       "\t<mark>S. B. Brown-Sevilla</mark>, et al. -- incl., <mark>P. Mollière</mark>, <mark>M. Samland</mark>, <mark>M. Feldt</mark>, <mark>Th. Henning</mark>, <mark>M. Langlois</mark>, <mark>M. Meyer</mark>, <mark>A. Pavlov</mark>"
      ]
     },
     "metadata": {},
     "output_type": "display_data"
    },
    {
     "data": {
      "text/markdown": [
       "\n",
       "|||\n",
       "|---:|:---|\n",
       "| [![arXiv](https://img.shields.io/badge/arXiv-arXiv:2211.14543-b31b1b.svg)](https://arxiv.org/abs/arXiv:2211.14543) | **When Spectral Modeling Meets Convolutional Networks: A Method for  Discovering Reionization-era Lensed Quasars in Multi-band Imaging Data**  |\n",
       "|| Irham Taufik Andika, et al. -- incl., <mark>Knud Jahnke</mark>, <mark>Sarah E. I. Bosman</mark>, <mark>Frederick B. Davies</mark> |\n",
       "|*Appeared on*| *2022-11-29*|\n",
       "|*Comments*| *24 pages, 17 figures, and 2 tables. Accepted for publication in The Astrophysical Journal. We welcome comments from the reader*|\n",
       "|**Abstract**| Over the last two decades, around three hundred quasars have been discovered at $z\\gtrsim6$, yet only one was identified as being strong-gravitationally lensed. We explore a new approach, enlarging the permitted spectral parameter space while introducing a new spatial geometry veto criterion, implemented via image-based deep learning. We made the first application of this approach in a systematic search for reionization-era lensed quasars, using data from the Dark Energy Survey, the Visible and Infrared Survey Telescope for Astronomy Hemisphere Survey, and the Wide-field Infrared Survey Explorer. Our search method consists of two main parts: (i) pre-selection of the candidates based on their spectral energy distributions (SEDs) using catalog-level photometry and (ii) relative probabilities calculation of being a lens or some contaminant utilizing a convolutional neural network (CNN) classification. The training datasets are constructed by painting deflected point-source lights over actual galaxy images to generate realistic galaxy-quasar lens models, optimized to find systems with small image separations, i.e., Einstein radii of $\\theta_\\mathrm{E} \\leq 1$ arcsec. Visual inspection is then performed for sources with CNN scores of $P_\\mathrm{lens} > 0.1$, which led us to obtain 36 newly-selected lens candidates, waiting for spectroscopic confirmation. These findings show that automated SED modeling and deep learning pipelines, supported by modest human input, are a promising route for detecting strong lenses from large catalogs that can overcome the veto limitations of primarily dropout-based SED selection approaches. |"
      ],
      "text/plain": [
       "[arXiv:2211.14543] When Spectral Modeling Meets Convolutional Networks: A Method for  Discovering Reionization-era Lensed Quasars in Multi-band Imaging Data\n",
       "\tIrham Taufik Andika, et al. -- incl., <mark>Knud Jahnke</mark>, <mark>Sarah E. I. Bosman</mark>, <mark>Frederick B. Davies</mark>"
      ]
     },
     "metadata": {},
     "output_type": "display_data"
    },
    {
     "data": {
      "text/markdown": [
       "\n",
       "|||\n",
       "|---:|:---|\n",
       "| [![arXiv](https://img.shields.io/badge/arXiv-arXiv:2211.15224-b31b1b.svg)](https://arxiv.org/abs/arXiv:2211.15224) | **The Pristine Inner Galaxy Survey (PIGS) VI: Different vertical  distributions between two DIBs at 442.8 nm and 862.1 nm**  |\n",
       "|| <mark>He Zhao</mark>, et al. -- incl., <mark>Morgan Fouesneau</mark> |\n",
       "|*Appeared on*| *2022-11-29*|\n",
       "|*Comments*| *13 pages, 14 figures, accepted for publication in MNRAS*|\n",
       "|**Abstract**| Although diffuse interstellar bands (DIBs) were discovered over 100 years ago, for most of them, their origins are still unknown. Investigation on the correlations between different DIBs is an important way to study the behavior and distributions of their carriers. Based on stacking thousands of spectra from the Pristine Inner Galaxy Survey, we study the correlations between two DIBs at 442.8 nm ($\\lambda$442.8) and 862.1 nm ($\\lambda$862.1), as well as the dust grains, in a range of latitude spanning ${\\sim}22^{\\circ}$ ($4^{\\circ}\\,{<}\\,|b|\\,{<}\\,15^{\\circ}$) toward the Galactic center ($|\\ell|\\,{<}\\,11^{\\circ}$). Tight linear intensity correlations can be found between $\\lambda$442.8, $\\lambda$862.1, and dust grains for $|b|\\,{<}\\,12^{\\circ}$ or $E(B-V)\\,{>}\\,0.3$ mag. For $|b|\\,{>}\\,12^{\\circ}$, $\\lambda$442.8 and $\\lambda$862.1 present larger relative strength with respect to the dust grains. A systematic variation of the relative strength between $\\lambda$442.8 and $\\lambda$862.1 with $|b|$ and $E(B-V)$ concludes that the two DIBs do not share a common carrier. Furthermore, the carrier of $\\lambda$862.1 is more abundant at high latitudes than that of $\\lambda$442.8. This work can be treated as an example showing the significance and potentials to the DIB research covering a large latitude range. |"
      ],
      "text/plain": [
       "[arXiv:2211.15224] The Pristine Inner Galaxy Survey (PIGS) VI: Different vertical  distributions between two DIBs at 442.8 nm and 862.1 nm\n",
       "\t<mark>He Zhao</mark>, et al. -- incl., <mark>Morgan Fouesneau</mark>"
      ]
     },
     "metadata": {},
     "output_type": "display_data"
    },
    {
     "data": {
      "text/markdown": [
       "\n",
       "|||\n",
       "|---:|:---|\n",
       "| [![arXiv](https://img.shields.io/badge/arXiv-arXiv:2211.15288-b31b1b.svg)](https://arxiv.org/abs/arXiv:2211.15288) | **Elemental abundances in M31: Individual and Coadded Spectroscopic [Fe/H]  and [α/Fe] throughout the M31 Halo with SPLASH**  |\n",
       "|| <mark>J. Leigh Wojno</mark>, et al. |\n",
       "|*Appeared on*| *2022-11-29*|\n",
       "|*Comments*| *Submitted to ApJ*|\n",
       "|**Abstract**| We present spectroscopic chemical abundances of red giant branch (RGB) stars in Andromeda (M31), using medium resolution ($R\\sim6000$) spectra obtained via the Spectroscopic and Photometric Landscape of Andromeda's Stellar Halo (SPLASH) survey. In addition to individual chemical abundances, we coadd low signal-to-noise ratio (S/N) spectra of stars to obtain a high enough to measure average [Fe/H] and [$\\alpha$/Fe] abundances. We obtain individual and coadded measurements for [Fe/H] and [$\\alpha$/Fe] for M31 halo stars, covering a range of 9--180 kpc in projected radius from the center of M31. With these measurements, we greatly increase the number of outer halo ($R_{\\mathrm{proj}} > 50$ kpc) M31 stars with spectroscopic [Fe/H] and [$\\alpha$/Fe], adding abundance measurements for 45 individual stars and 33 coadds from a pool of an additional 174 stars. We measure the spectroscopic metallicity ([Fe/H]) gradient, finding a negative radial gradient of $-0.0050\\pm0.0003$ for all stars in the halo, consistent with gradient measurements obtained using photometric metallicities. Using the first measurements of [$\\alpha$/Fe] for M31 halo stars covering a large range of projected radii, we find a positive gradient ($+0.0026\\pm0.0004$) in [$\\alpha$/Fe] as a function of projected radius. We also explore the distribution in [Fe/H]--[$\\alpha$/Fe] space as a function of projected radius for both individual and coadded measurements in the smooth halo, and compare these measurements to those stars potentially associated with substructure. These spectroscopic abundance distributions highlight the substantial evidence that M31 has had an appreciably different formation and merger history compared to our own Galaxy. |"
      ],
      "text/plain": [
       "[arXiv:2211.15288] Elemental abundances in M31: Individual and Coadded Spectroscopic [Fe/H]  and [α/Fe] throughout the M31 Halo with SPLASH\n",
       "\t<mark>J. Leigh Wojno</mark>, et al."
      ]
     },
     "metadata": {},
     "output_type": "display_data"
    },
    {
     "data": {
      "text/markdown": [
       "\n",
       "|||\n",
       "|---:|:---|\n",
       "| [![arXiv](https://img.shields.io/badge/arXiv-arXiv:2211.15434-b31b1b.svg)](https://arxiv.org/abs/arXiv:2211.15434) | **ISPY-NACO Imaging Survey for Planets around Young stars. The  demographics of forming planets embedded in protoplanetary disks**  |\n",
       "|| Gabriele Cugno, et al. -- incl., <mark>Ralf Launhardt</mark>, <mark>Thomas Henning</mark>, <mark>André Müller</mark> |\n",
       "|*Appeared on*| *2022-11-29*|\n",
       "|*Comments*| *25 pages, 16 figures, 3 tables, accepted for publication in A&A*|\n",
       "|**Abstract**| We present the statistical analysis of a subsample of 45 young stars surrounded by protoplanetary disks (PPDs). This is the largest imaging survey uniquely focused on PPDs to date. Our goal is to search for young forming companions embedded in the disk material and to constrain their occurrence rate in relation to the formation mechanism. We used principal component analysis based point spread function subtraction techniques to reveal young companions forming in the disks. We calculated detection limits for our datasets and adopted a black-body model to derive temperature upper limits of potential forming planets. We then used Monte Carlo simulations to constrain the population of forming gas giant companions and compare our results to different types of formation scenarios. Our data revealed a new binary system (HD38120) and a recently identified triple system with a brown dwarf companion orbiting a binary system (HD101412), in addition to 12 known companions. Furthermore, we detected signals from 17 disks, two of which (HD72106 and TCrA) were imaged for the first time. We reached median detection limits of L =15.4 mag at 2.0 arcsec, which were used to investigate the temperature of potentially embedded forming companions. We can constrain the occurrence of forming planets with semi-major axis a in [20 - 500] au and Teff in [600 - 3000] K, in line with the statistical results obtained for more evolved systems from other direct imaging surveys. The NaCo-ISPY data confirm that massive bright planets accreting at high rates are rare. More powerful instruments with better sensitivity in the near- to mid-infrared are likely required to unveil the wealth of forming planets sculpting the observed disk substructures. |"
      ],
      "text/plain": [
       "[arXiv:2211.15434] ISPY-NACO Imaging Survey for Planets around Young stars. The  demographics of forming planets embedded in protoplanetary disks\n",
       "\tGabriele Cugno, et al. -- incl., <mark>Ralf Launhardt</mark>, <mark>Thomas Henning</mark>, <mark>André Müller</mark>"
      ]
     },
     "metadata": {},
     "output_type": "display_data"
    },
    {
     "data": {
      "text/markdown": [
       "\n",
       "|||\n",
       "|---:|:---|\n",
       "| [![arXiv](https://img.shields.io/badge/arXiv-arXiv:2211.15576-b31b1b.svg)](https://arxiv.org/abs/arXiv:2211.15576) | **Hubble Space Telescope transmission spectroscopy for the temperate  sub-Neptune TOI-270d: a possible hydrogen-rich atmosphere containing water  vapour**  |\n",
       "|| <mark>Thomas Mikal-Evans</mark>, et al. -- incl., <mark>Laura Kreidberg</mark> |\n",
       "|*Appeared on*| *2022-11-29*|\n",
       "|*Comments*| *Accepted for publication in AAS journals on November 22, 2022 (received July 5, 2022; revised October 30, 2022)*|\n",
       "|**Abstract**| TOI-270d is a temperate sub-Neptune discovered by the Transiting Exoplanet Survey Satellite (TESS) around a bright (J=9.1mag) M3V host star. With an approximate radius of 2RE and equilibrium temperature of 350K, TOI-270d is one of the most promising small exoplanets for atmospheric characterisation using transit spectroscopy. Here we present a primary transit observation of TOI-270d made with the Hubble Space Telescope (HST) Wide Field Camera 3 (WFC3) spectrograph across the 1.126-1.644 micron wavelength range, and a 95% credible upper limit of $8.2 \\times 10^{-14}$ erg s$^{-1}$ cm$^{-2}$ A$^{-1}$ arcsec$^{-2}$ for the stellar Ly-alpha emission obtained using the Space Telescope Imaging Spectrograph (STIS). The transmission spectrum derived from the TESS and WFC3 data provides evidence for molecular absorption by a hydrogen-rich atmosphere at 4-sigma significance relative to a featureless spectrum. The strongest evidence for any individual absorber is obtained for H2O, which is favoured at 3-sigma significance. When retrieving on the WFC3 data alone and allowing for the possibility of a heterogeneous stellar brightness profile, the detection significance of H2O is reduced to 2.8-sigma. Further observations are therefore required to robustly determine the atmospheric composition of TOI-270d and assess the impact of stellar heterogeneity. If confirmed, our findings would make TOI-270d one of the smallest and coolest exoplanets to date with detected atmospheric spectral features. |"
      ],
      "text/plain": [
       "[arXiv:2211.15576] Hubble Space Telescope transmission spectroscopy for the temperate  sub-Neptune TOI-270d: a possible hydrogen-rich atmosphere containing water  vapour\n",
       "\t<mark>Thomas Mikal-Evans</mark>, et al. -- incl., <mark>Laura Kreidberg</mark>"
      ]
     },
     "metadata": {},
     "output_type": "display_data"
    },
    {
     "data": {
      "text/markdown": [
       "## Failed papers"
      ],
      "text/plain": [
       "<IPython.core.display.Markdown object>"
      ]
     },
     "metadata": {},
     "output_type": "display_data"
    },
    {
     "data": {
      "text/markdown": [
       "\n",
       "|||\n",
       "|---:|:---|\n",
       "| [![arXiv](https://img.shields.io/badge/arXiv-arXiv:2211.14350-b31b1b.svg)](https://arxiv.org/abs/arXiv:2211.14350) | **Gas kinematics around filamentary structures in the Orion B cloud**  |\n",
       "|| Mathilde Gaudel, et al. -- incl., <mark>Annie Hughes</mark>, <mark>David Languignon</mark>, <mark>Harvey Liszt</mark> |\n",
       "|*Appeared on*| *2022-11-29*|\n",
       "|*Comments*| *45 pages. Abridged abstract. Accepted by Astronomy and Astrophysics*|\n",
       "|**Abstract**| Understanding the initial properties of star-forming material and how they affect the star formation process is key. From an observational point of view, the feedback from young high-mass stars on future star formation properties is still poorly constrained. In the framework of the IRAM 30m ORION-B large program, we obtained observations of the translucent and moderately dense gas, which we used to analyze the kinematics over a field of 5 deg^2 around the filamentary structures. We used the ROHSA algorithm to decompose and de-noise the C18O(1-0) and 13CO(1-0) signals by taking the spatial coherence of the emission into account. We produced gas column density and mean velocity maps to estimate the relative orientation of their spatial gradients. We identified three cloud velocity layers at different systemic velocities and extracted the filaments in each velocity layer. The filaments are preferentially located in regions of low centroid velocity gradients. By comparing the relative orientation between the column density and velocity gradients of each layer from the ORION-B observations and synthetic observations from 3D kinematic toy models, we distinguish two types of behavior in the dynamics around filaments: (i) radial flows perpendicular to the filament axis that can be either inflows (increasing the filament mass) or outflows and (ii) longitudinal flows along the filament axis. The former case is seen in the Orion B data, while the latter is not identified. We have also identified asymmetrical flow patterns, usually associated with filaments located at the edge of an HII region. This is the first observational study to highlight feedback from HII regions on filament formation and, thus, on star formation in the Orion B cloud. This simple statistical method can be used for any molecular cloud to obtain coherent information on the kinematics. |\n",
       "|<p style=\"color:green\"> **ERROR** </p>| <p style=\"color:green\">affiliation error: mpia.affiliation_verifications: '69117' keyword not found.</p> |"
      ],
      "text/plain": [
       "<IPython.core.display.Markdown object>"
      ]
     },
     "metadata": {},
     "output_type": "display_data"
    },
    {
     "data": {
      "text/markdown": [
       "\n",
       "|||\n",
       "|---:|:---|\n",
       "| [![arXiv](https://img.shields.io/badge/arXiv-arXiv:2211.14342-b31b1b.svg)](https://arxiv.org/abs/arXiv:2211.14342) | **Foreground Separation and Constraints on Primordial Gravitational Waves  with the PICO Space Mission**  |\n",
       "|| Ragnhild Aurlien, et al. -- incl., <mark>Brandon S. Hensley</mark> |\n",
       "|*Appeared on*| *2022-11-29*|\n",
       "|*Comments*| *28 pages, 13 figures, submitted to ApJ*|\n",
       "|**Abstract**| PICO is a concept for a NASA probe-scale mission aiming to detect or constrain the tensor to scalar ratio $r$, a parameter that quantifies the amplitude of inflationary gravity waves. We carry out map-based component separation on simulations with five foreground models and input $r$ values $r_{in}=0$ and $r_{in} = 0.003$. We forecast $r$ determinations using a Gaussian likelihood assuming either no delensing or a residual lensing factor $A_{\\rm lens}$ = 27%. By implementing the first full-sky, post component-separation, map-domain delensing, we show that PICO should be able to achieve $A_{\\rm lens}$ = 22% - 24%. For four of the five foreground models we find that PICO would be able to set the constraints $r < 1.3 \\times 10^{-4} \\,\\, \\mbox{to} \\,\\, r <2.7 \\times 10^{-4}\\, (95\\%)$ if $r_{in}=0$, the strongest constraints of any foreseeable instrument. For these models, $r=0.003$ is recovered with confidence levels between $18\\sigma$ and $27\\sigma$. We find weaker, and in some cases significantly biased, upper limits when removing few low or high frequency bands. The fifth model gives a $3\\sigma$ detection when $r_{in}=0$ and a $3\\sigma$ bias with $r_{in} = 0.003$. However, by correlating $r$ determinations from many small 2.5% sky areas with the mission's 555 GHz data we identify and mitigate the bias. This analysis underscores the importance of large sky coverage. We show that when only low multipoles $\\ell \\leq 12$ are used, the non-Gaussian shape of the true likelihood gives uncertainties that are on average 30% larger than a Gaussian approximation. |\n",
       "|<p style=\"color:green\"> **ERROR** </p>| <p style=\"color:green\">affiliation error: mpia.affiliation_verifications: 'Heidelberg' keyword not found.</p> |"
      ],
      "text/plain": [
       "<IPython.core.display.Markdown object>"
      ]
     },
     "metadata": {},
     "output_type": "display_data"
    },
    {
     "data": {
      "text/markdown": [
       "\n",
       "|||\n",
       "|---:|:---|\n",
       "| [![arXiv](https://img.shields.io/badge/arXiv-arXiv:2211.14398-b31b1b.svg)](https://arxiv.org/abs/arXiv:2211.14398) | **Connecting photometric and spectroscopic granulation signals with CHEOPS  and ESPRESSO**  |\n",
       "|| S. Sulis, et al. -- incl., <mark>M. B. Davies</mark>, <mark>M. Güdel</mark>, <mark>K. Heng</mark> |\n",
       "|*Appeared on*| *2022-11-29*|\n",
       "|*Comments*| *Accepted to A&A, 30 pages, 21 figures, 10 tables (one online)*|\n",
       "|**Abstract**| Stellar granulation generates fluctuations in photometric and spectroscopic data whose properties depend on the stellar type, composition, and evolutionary state. In this study, we aim to detect the signatures of stellar granulation, link spectroscopic and photometric signatures of convection for main-sequence stars, and test predictions from 3D hydrodynamic models. For the first time, we observed two bright stars (Teff = 5833 K and 6205 K) with high-precision observations taken simultaneously with CHEOPS and ESPRESSO. We analyzed the properties of the stellar granulation signal in each individual data set. We compared them to Kepler observations and 3D hydrodynamic models. While isolating the granulation-induced changes by attenuating the p-mode oscillation signals, we studied the relationship between photometric and spectroscopic observables. The signature of stellar granulation is detected and precisely characterized for the hotter F star in the CHEOPS and ESPRESSO observations. For the cooler G star, we obtain a clear detection in the CHEOPS dataset only. The TESS observations are blind to this stellar signal. Based on CHEOPS observations, we show that the inferred properties of stellar granulation are in agreement with both Kepler observations and hydrodynamic models. Comparing their periodograms, we observe a strong link between spectroscopic and photometric observables. Correlations of this stellar signal in the time domain (flux vs RV) and with specific spectroscopic observables (shape of the cross-correlation functions) are however difficult to isolate due to signal-to-noise dependent variations. In the context of the upcoming PLATO mission and the extreme precision RV surveys, a thorough understanding of the properties of the stellar granulation signal is needed. The CHEOPS and ESPRESSO observations pave the way for detailed analyses of this stellar process. |\n",
       "|<p style=\"color:green\"> **ERROR** </p>| <p style=\"color:green\">affiliation error: mpia.affiliation_verifications: 'Heidelberg' keyword not found.</p> |"
      ],
      "text/plain": [
       "<IPython.core.display.Markdown object>"
      ]
     },
     "metadata": {},
     "output_type": "display_data"
    },
    {
     "data": {
      "text/markdown": [
       "\n",
       "|||\n",
       "|---:|:---|\n",
       "| [![arXiv](https://img.shields.io/badge/arXiv-arXiv:2211.14401-b31b1b.svg)](https://arxiv.org/abs/arXiv:2211.14401) | **Elements of effective machine learning datasets in astronomy**  |\n",
       "|| Bernie Boscoe, et al. -- incl., <mark>Yunqi Li</mark>, <mark>Kevin Alfaro</mark> |\n",
       "|*Appeared on*| *2022-11-29*|\n",
       "|*Comments*| **|\n",
       "|**Abstract**| In this work, we identify elements of effective machine learning datasets in astronomy and present suggestions for their design and creation. Machine learning has become an increasingly important tool for analyzing and understanding the large-scale flood of data in astronomy. To take advantage of these tools, datasets are required for training and testing. However, building machine learning datasets for astronomy can be challenging. Astronomical data is collected from instruments built to explore science questions in a traditional fashion rather than to conduct machine learning. Thus, it is often the case that raw data, or even downstream processed data is not in a form amenable to machine learning. We explore the construction of machine learning datasets and we ask: what elements define effective machine learning datasets? We define effective machine learning datasets in astronomy to be formed with well-defined data points, structure, and metadata. We discuss why these elements are important for astronomical applications and ways to put them in practice. We posit that these qualities not only make the data suitable for machine learning, they also help to foster usable, reusable, and replicable science practices. |\n",
       "|<p style=\"color:green\"> **ERROR** </p>| <p style=\"color:green\">affiliation error: mpia.affiliation_verifications: 'Heidelberg' keyword not found.</p> |"
      ],
      "text/plain": [
       "<IPython.core.display.Markdown object>"
      ]
     },
     "metadata": {},
     "output_type": "display_data"
    },
    {
     "data": {
      "text/markdown": [
       "\n",
       "|||\n",
       "|---:|:---|\n",
       "| [![arXiv](https://img.shields.io/badge/arXiv-arXiv:2211.14488-b31b1b.svg)](https://arxiv.org/abs/arXiv:2211.14488) | **Recurrent narrow quasi-periodic fast-propagating wave trains excited by  the intermittent energy release in the accompanying solar flare**  |\n",
       "|| Xinping Zhou, et al. -- incl., <mark>Hongfei Liang</mark> |\n",
       "|*Appeared on*| *2022-11-29*|\n",
       "|*Comments*| *Accepted for publication in ApJ*|\n",
       "|**Abstract**| About the driven mechanisms of the quasi-periodic fast-propagating (QFP) wave trains, there exist two dominant competing physical explanations: associated with the flaring energy release or attributed to the waveguide dispersion. Employing Solar Dynamics Observatory (SDO) Atmospheric Imaging Assembly (AIA) 171 A images, we investigated a series of QFP wave trains composed of multiple wavefronts propagating along a loop system during the accompanying flare on 2011 November 11. The wave trains showed a high correlation in start time with the energy release of the accompanying flare. Measurements show that the wave trains phase speed is almost consistent with its group speed with a value of about 1000 km s-1, indicating that the wave trains should not be dispersed waves. The period of the wave trains was the same as that of the oscillatory signal in X ray emissions released by the flare. Thus we propose that the QFP wave trains were most likely triggered by the flare rather than by dispersion. We investigated the seismological application with the QFP waves and then obtained that the magnetic field strength of the waveguide was about 10 Gauss. Meanwhile, we also estimated that the energy flux of the wave trains was about 1.2X105 erg cm-2 s-1. |\n",
       "|<p style=\"color:green\"> **ERROR** </p>| <p style=\"color:green\">affiliation error: mpia.affiliation_verifications: 'Heidelberg' keyword not found.</p> |"
      ],
      "text/plain": [
       "<IPython.core.display.Markdown object>"
      ]
     },
     "metadata": {},
     "output_type": "display_data"
    },
    {
     "data": {
      "text/markdown": [
       "\n",
       "|||\n",
       "|---:|:---|\n",
       "| [![arXiv](https://img.shields.io/badge/arXiv-arXiv:2211.14637-b31b1b.svg)](https://arxiv.org/abs/arXiv:2211.14637) | **Disk dissipation, giant planet formation and star-formation-rate  fluctuations in the past three-million-year history of Gould's Belt**  |\n",
       "|| <mark>Mingchao Liu</mark>, et al. -- incl., <mark>Jinhua He</mark>, <mark>Tie Liu</mark>, <mark>Xuzhi Li</mark> |\n",
       "|*Appeared on*| *2022-11-29*|\n",
       "|*Comments*| *18 pages, 6 figures, accepted by ApJ*|\n",
       "|**Abstract**| Although episodic star formation (SF) had been suggested for nearby SF regions, a panoramic view to the latest episodic SF history in the solar neighborhood is still missing. By uniformly constraining the slope $\\alpha$ of infrared spectral energy distributions (SEDs) of young stellar objects (YSOs) in the 13 largest Gould's Belt (GB) protoclusters surveyed by Spitzer Space Telescope, we have constructed a cluster-averaged histogram of $\\alpha$ representing YSO evolution lifetime as a function of the $\\alpha$ value. Complementary to the traditional SED classification scheme (0, I, F, II, III) that is based on different $\\alpha$ values, a staging scheme (A,B,C,D,E) of SED evolution is advised on the basis of the $\\alpha$ statistical features that can be better matched to the physical stages of disk dissipation and giant planet formation. This has also allowed us to unravel the fluctuations of star formation rate (SFR) in the past three-million-year (3 Myr) history of these GB protoclusters. Diverse evolutionary patterns such as single peak, double peaks and on-going acceleration of SFR are revealed. The SFR fluctuations are between $20\\%\\sim60\\%$ ($\\sim40\\%$ on average) and no dependence on the average SFR or the number of SFR episodes is found. However, spatially close protoclusters tend to share similar SFR fluctuation trends, indicating that the driving force of the fluctuations should be at size scales beyond the typical cluster sizes of several parsec. |\n",
       "|<p style=\"color:green\"> **ERROR** </p>| <p style=\"color:green\">affiliation error: mpia.affiliation_verifications: 'Heidelberg' keyword not found.</p> |"
      ],
      "text/plain": [
       "<IPython.core.display.Markdown object>"
      ]
     },
     "metadata": {},
     "output_type": "display_data"
    },
    {
     "data": {
      "text/markdown": [
       "\n",
       "|||\n",
       "|---:|:---|\n",
       "| [![arXiv](https://img.shields.io/badge/arXiv-arXiv:2211.14767-b31b1b.svg)](https://arxiv.org/abs/arXiv:2211.14767) | **Spectroastrometric Reverberation Mapping of Broad-line Regions**  |\n",
       "|| <mark>Yan-Rong Li</mark>, Jian-Min Wang |\n",
       "|*Appeared on*| *2022-11-29*|\n",
       "|*Comments*| *22 pages, 17 figures, 2 tables; ApJ in press; The code BRAINS available at this https URL*|\n",
       "|**Abstract**| Spectroastrometry measures source astrometry as a function of wavelength/velocity. Reverberations of spectroastrometric signals naturally arise in broad-line regions (BLRs) of active galactic nuclei as a result of the continuum variations that drive responses of the broad emission lines with time delays. Such signals provide a new diagnostic for mapping BLR kinematics and geometry, complementary to the traditional intensity reverberation mapping (RM) technique. We present the generic mathematical formulism for spectroastrometric RM and show that under realistic parameters of a phenomenological BLR model, the spectroastrometric reverberation signals vary on a level of several to tens of microarcseconds, depending on the BLR size, continuum variability, and angular-size distance. We also derive the analytical expressions of spectroastrometric RM for an inclined ring-like BLR. We develop a Bayesian framework with a sophisticated Monte-Carlo sampling technique to analyze spectroastrometic data and infer the BLR properties, including the central black hole mass and angular-size distance. We demonstrate the potential of spectroastrometric RM in spatially resolving BLR kinematics and geometry through a suite of simulation tests. An application to realistic observation data of 3C~273 obtains tentative, but enlightening results, reinforcing the practical feasibility of conducting spectroastrometric RM experiments on bright AGNs with the operating Very Large Telescope Interferometer as well as possibly with the planned next-generation 30m-class telescopes. |\n",
       "|<p style=\"color:green\"> **ERROR** </p>| <p style=\"color:green\">affiliation error: mpia.affiliation_verifications: 'Heidelberg' keyword not found.</p> |"
      ],
      "text/plain": [
       "<IPython.core.display.Markdown object>"
      ]
     },
     "metadata": {},
     "output_type": "display_data"
    },
    {
     "data": {
      "text/markdown": [
       "\n",
       "|||\n",
       "|---:|:---|\n",
       "| [![arXiv](https://img.shields.io/badge/arXiv-arXiv:2211.14945-b31b1b.svg)](https://arxiv.org/abs/arXiv:2211.14945) | **CSS1603+19: a low-mass polar near the cataclysmic variable period  minimum**  |\n",
       "|| <mark>Yiqi Liu</mark>, Hsiang-Chih Hwang, Nadia L. Zakamska, John R. Thorstensen |\n",
       "|*Appeared on*| *2022-11-29*|\n",
       "|*Comments*| **|\n",
       "|**Abstract**| CSS1603+19 is a cataclysmic variable (CV) with an orbital period of 81.96 min, near the minimal period of cataclysmic variables. It is unusual in having a strong mid-infrared excess inconsistent with thermal emission from a brown dwarf companion. Here we present time-resolved multi-wavelength observations of this system. WISE photometry indicates that the mid-infrared excess displays a one-magnitude eclipsing-like variability during the orbit. We obtained near-infrared and optical spectroscopy using Gemini, MDM and APO telescopes. Near-infrared spectra show possible cyclotron features indicating that the white dwarf has a magnetic field of about 5MG. Optical and near-infrared spectra display double-peaked emission lines, with both components showing strong radial velocity variations during the orbital period and with the broad component leading the narrow component stably by about 0.2 of the orbital phase. We construct a physical model informed by existing observations of the system and determine that one component likely originates from the accretion column onto the magnetized white dwarf in synchronous rotation with the orbital motion and the other from the Roche overflow point. This allows us to constrain the masses of the binary components to be $M_1>0.24 M_{\\odot}$ for the white dwarf accretor and $M_2=0.0644\\pm0.0074 M_\\odot$ for the donor. We classify the system as an AM Herculis star, or a polar. It has likely completed its stint on the period gap, but has not yet gone through the period bounce. |\n",
       "|<p style=\"color:green\"> **ERROR** </p>| <p style=\"color:green\">affiliation error: mpia.affiliation_verifications: 'Heidelberg' keyword not found.</p> |"
      ],
      "text/plain": [
       "<IPython.core.display.Markdown object>"
      ]
     },
     "metadata": {},
     "output_type": "display_data"
    },
    {
     "data": {
      "text/markdown": [
       "\n",
       "|||\n",
       "|---:|:---|\n",
       "| [![arXiv](https://img.shields.io/badge/arXiv-arXiv:2211.15061-b31b1b.svg)](https://arxiv.org/abs/arXiv:2211.15061) | **Near-inflection point inflation and production of dark matter during  reheating**  |\n",
       "|| <mark>Anish Ghoshal</mark>, et al. |\n",
       "|*Appeared on*| *2022-11-29*|\n",
       "|*Comments*| *Prepared for Proceedings of XXV Bled Workshop \"What comes beyond the Standard models?\"*|\n",
       "|**Abstract**| We study slow roll single field inflationary scenario and the production of non-thermal fermionic dark matter, together with standard model Higgs, during reheating. For the inflationary scenario, we have considered two models of polynomial potential - one is symmetric about the origin and another one is not. We fix the coefficients of the potential from the current Cosmic Microwave Background (CMB) data from Planck/Bicep. Next, we explore the allowed parameter space on the coupling $(y_\\chi)$ with inflaton and mass $(m_\\chi)$ of dark matter (DM) particles $(\\chi)$ produced during reheating and satisfying CMB and several other cosmological constraints. |\n",
       "|<p style=\"color:green\"> **ERROR** </p>| <p style=\"color:green\">affiliation error: mpia.affiliation_verifications: 'Heidelberg' keyword not found.</p> |"
      ],
      "text/plain": [
       "<IPython.core.display.Markdown object>"
      ]
     },
     "metadata": {},
     "output_type": "display_data"
    },
    {
     "data": {
      "text/markdown": [
       "\n",
       "|||\n",
       "|---:|:---|\n",
       "| [![arXiv](https://img.shields.io/badge/arXiv-arXiv:2211.15123-b31b1b.svg)](https://arxiv.org/abs/arXiv:2211.15123) | **WALLABY Pilot Survey: HI gas kinematics of galaxy pairs in cluster  environment**  |\n",
       "|| Shin-Jeong Kim, et al. -- incl., <mark>Se-Heon Oh</mark>, <mark>Lister Staveley-Smith</mark>, <mark>Frank Bigiel</mark>, <mark>Karen Lee-Waddell</mark>, <mark>Helga Dénes</mark> |\n",
       "|*Appeared on*| *2022-11-29*|\n",
       "|*Comments*| *Accepted for publication in MNRAS, 25 pages, 20 figures. Supplementary material included (20 pages)*|\n",
       "|**Abstract**| We examine the HI gas kinematics of galaxy pairs in two clusters and a group using Australian Square Kilometre Array Pathfinder (ASKAP) WALLABY pilot survey observations. We compare the HI properties of galaxy pair candidates in the Hydra I and Norma clusters, and the NGC 4636 group, with those of non-paired control galaxies selected in the same fields. We perform HI profile decomposition of the sample galaxies using a tool, {\\sc baygaud} which allows us to de-blend a line-of-sight velocity profile with an optimal number of Gaussian components. We construct HI super-profiles of the sample galaxies via stacking of their line profiles after aligning the central velocities. We fit a double Gaussian model to the super-profiles and classify them as kinematically narrow and broad components with respect to their velocity dispersions. Additionally, we investigate the gravitational instability of HI gas disks of the sample galaxies using Toomre Q parameters and HI morphological disturbances. We investigate the effect of the cluster environment on the HI properties of galaxy pairs by dividing the cluster environment into three subcluster regions (i.e., outskirts, infalling and central regions). We find that the denser cluster environment (i.e., infalling and central regions) is likely to impact the HI gas properties of galaxies in a way of decreasing the amplitude of the kinematically narrow HI gas ($M_{\\rm{narrow}}^{\\rm{HI}}$/$M_{\\rm{total}}^{\\rm{HI}}$), and increasing the Toomre Q values of the infalling and central galaxies. This tendency is likely to be more enhanced for galaxy pairs in the cluster environment. |\n",
       "|<p style=\"color:green\"> **ERROR** </p>| <p style=\"color:green\">affiliation error: mpia.affiliation_verifications: 'Heidelberg' keyword not found.</p> |"
      ],
      "text/plain": [
       "<IPython.core.display.Markdown object>"
      ]
     },
     "metadata": {},
     "output_type": "display_data"
    },
    {
     "data": {
      "text/markdown": [
       "\n",
       "|||\n",
       "|---:|:---|\n",
       "| [![arXiv](https://img.shields.io/badge/arXiv-arXiv:2211.15160-b31b1b.svg)](https://arxiv.org/abs/arXiv:2211.15160) | **Reducing the Impact of Weak-lensing Errors on Gravitational-wave  Standard Sirens**  |\n",
       "|| <mark>Zhao-Feng Wu</mark>, Lok W. L. Chan, <mark>Martin Hendry</mark>, Otto A. Hannuksela |\n",
       "|*Appeared on*| *2022-11-29*|\n",
       "|*Comments*| *19 pages, 22 figures, preparing for submitting to MNRAS*|\n",
       "|**Abstract**| The mergers of supermassive black hole binaries (SMBHBs) can serve as standard sirens: the gravitational wave (GW) analog of standard candles. The upcoming space-borne GW detectors will be able to discover such systems and estimate their luminosity distances precisely. Unfortunately, weak gravitational lensing can induce significant errors in the measured distance of these standard sirens at high redshift, severely limiting their usefulness as precise distance probes. The uncertainty due to weak lensing can be reduced if the lensing magnification of the siren can be estimated independently, a procedure called 'delensing'. With the help of up-to-date numerical simulations, here we investigate how much the weak-lensing errors can be reduced using convergence maps reconstructed from shear measurements. We also evaluate the impact of delensing on cosmological parameter estimation with bright standard sirens. We find that the weak-lensing errors for sirens at $z_s = 2.9$ can be reduced by about a factor of two on average, but to achieve this would require expensive ultra-deep field observations for every siren. Such an approach is likely to be practical in only limited cases, and the reduction in the weak-lensing error is therefore likely to be insufficient to significantly improve the cosmological parameter estimation. We conclude that performing delensing corrections is unlikely to be worthwhile, in contrast to the more positive expectations presented in previous studies. For delensing to become more practicable and useful in the future will require significant improvements in the resolution/depth of the weak-lensing surveys themselves and/or the accuracy of the methods to reconstruct convergence maps from these surveys. |\n",
       "|<p style=\"color:green\"> **ERROR** </p>| <p style=\"color:green\">affiliation error: mpia.affiliation_verifications: 'Heidelberg' keyword not found.</p> |"
      ],
      "text/plain": [
       "<IPython.core.display.Markdown object>"
      ]
     },
     "metadata": {},
     "output_type": "display_data"
    },
    {
     "data": {
      "text/markdown": [
       "\n",
       "|||\n",
       "|---:|:---|\n",
       "| [![arXiv](https://img.shields.io/badge/arXiv-arXiv:2211.15161-b31b1b.svg)](https://arxiv.org/abs/arXiv:2211.15161) | **De-noising non-Gaussian fields in cosmology with normalizing flows**  |\n",
       "|| Adam Rouhiainen, <mark>Moritz Münchmeyer</mark> |\n",
       "|*Appeared on*| *2022-11-29*|\n",
       "|*Comments*| *16 pages, 8 figures, extended version of NeurIPS 2022 Physical Sciences workshop submission*|\n",
       "|**Abstract**| Fields in cosmology, such as the matter distribution, are observed by experiments up to experimental noise. The first step in cosmological data analysis is usually to de-noise the observed field using an analytic or simulation driven prior. On large enough scales, such fields are Gaussian, and the de-noising step is known as Wiener filtering. However, on smaller scales probed by upcoming experiments, a Gaussian prior is substantially sub-optimal because the true field distribution is very non-Gaussian. Using normalizing flows, it is possible to learn the non-Gaussian prior from simulations (or from more high-resolution observations), and use this knowledge to de-noise the data more effectively. We show that we can train a flow to represent the matter distribution of the universe, and evaluate how much signal-to-noise can be gained as a function of the experimental noise under idealized conditions. We also introduce a patching method to reconstruct fields on arbitrarily large images by dividing them up into small maps (where we reconstruct non-Gaussian features), and patching the small posterior maps together on large scales (where the field is Gaussian). |\n",
       "|<p style=\"color:green\"> **ERROR** </p>| <p style=\"color:green\">affiliation error: mpia.affiliation_verifications: 'Heidelberg' keyword not found.</p> |"
      ],
      "text/plain": [
       "<IPython.core.display.Markdown object>"
      ]
     },
     "metadata": {},
     "output_type": "display_data"
    },
    {
     "data": {
      "text/markdown": [
       "\n",
       "|||\n",
       "|---:|:---|\n",
       "| [![arXiv](https://img.shields.io/badge/arXiv-arXiv:2211.15284-b31b1b.svg)](https://arxiv.org/abs/arXiv:2211.15284) | **The effect of saturated thermal conduction on clouds in a hot plasma**  |\n",
       "|| Bastian Sander, <mark>Gerhard Hensler</mark> |\n",
       "|*Appeared on*| *2022-11-29*|\n",
       "|*Comments*| *14 pages, 14 figures, accepted for publication in MNRAS*|\n",
       "|**Abstract**| We numerically investigate the internal evolution of multiphase clouds, which are at rest with respect to an ambient, highly ionized medium (HIM) representing the hot component of the circumgalactic medium (CGM). Time-dependent saturated thermal conduction and its implications like condensation rates and mixing efficiency are assessed in multiphase clouds. Our simulations are carried out by using the adaptive mesh refinement code Flash. We perform a grid of models of which we present here those characteristic for the presented study. The model clouds are initially in both hydrostatic and thermal equilibrium and are in pressure balance with the HIM. Thus, they have steep gradients in both temperature and density at the interface to HIM leading to non-negligible thermal conduction. Several physical processes are considered numerically or semi-analytically: thermal conduction, radiative cooling and external heating of gas, self-gravity, mass diffusion, and dissociation of molecules and ionization of atoms. It turns out that saturated thermal conduction triggers a continuous condensation irrespective of cloud mass. Dynamical interactions with ambient HIM all relate to the radial density gradient in the clouds: (1) mass flux due to condensation is the higher the more homogeneous the clouds are; (2) mixing of condensed gas with cloud gas is easier in low-mass clouds, because of their shallower radial density gradient; thus (3) accreted gas is distributed more efficiently. A distinct and sub-structured transition zone forms at the interface between cloud and HIM, which starts at smaller radii and is much narrower as deduced from analytical theory. |\n",
       "|<p style=\"color:green\"> **ERROR** </p>| <p style=\"color:green\">affiliation error: mpia.affiliation_verifications: 'Heidelberg' keyword not found.</p> |"
      ],
      "text/plain": [
       "<IPython.core.display.Markdown object>"
      ]
     },
     "metadata": {},
     "output_type": "display_data"
    },
    {
     "data": {
      "text/markdown": [
       "\n",
       "|||\n",
       "|---:|:---|\n",
       "| [![arXiv](https://img.shields.io/badge/arXiv-arXiv:2211.15312-b31b1b.svg)](https://arxiv.org/abs/arXiv:2211.15312) | **Revisiting Empirical Solar Energetic Particle Scaling Relations I. Solar  flares**  |\n",
       "|| Athanasios Papaioannou, et al. -- incl., <mark>Konstantin Herbst</mark> |\n",
       "|*Appeared on*| *2022-11-29*|\n",
       "|*Comments*| **|\n",
       "|**Abstract**| Aims The possible influence of solar superflares on the near-Earth space radiation environment are assessed through the investigation of scaling laws between the peak proton flux and fluence of Solar Energetic Particle (SEP) events with the solar flare soft X-ray peak photon flux. Methods We compiled a catalog of 65 well-connected (W20-90) SEP events during the last three solar cycles covering a period of $\\sim$34 years (1984-2020) that were associated with flares of class $\\geq$C6.0 and investigated the statistical relations between the recorded peak proton fluxes ($I_{P}$) and the fluences ($F_{P}$) at a set of integral energies from E $>$10; $>$30; $>$60; to $>$100 MeV versus the associated solar flare peak soft X-ray flux in the 1$-$8 A band ($F_{SXR}$). Based on the inferred relations, we calculate the integrated energy dependence of the peak proton flux ($I_{P}$) and fluence ($F_{P}$) of the SEP events, assuming that they follow an inverse power-law with respect to energy. Finally, we make use of simple physical assumptions, combining our derived scaling laws, and estimate the upper limits for $I_{P}$ and $F_{P}$ focusing on the flare associated with the strongest GLE yet directly observed (GLE 05 on 23 February 1956), and that inferred for the cosmogenic radionuclide based SEP event of AD774/775. Results We show that $I_{P}$ and $F_{P}$ scale with the solar flare SXR flux as $\\propto$~$F_{SXR}^{5/6}$. For the AD774/775 event (with a re-scaled upper limit $F_{SXR}$ = X600) these scaling laws yield values of $F_{P}$ at E$>$200 MeV of $\\sim$10$^{10}$ cm$^{-2}$ and $\\sim$1.5 $\\times$ 10$^{9}$ cm$^{-2}$ at E$>$430 MeV that are consistent with values inferred from the measurements of $^{14}$C and $^{10}$Be. |\n",
       "|<p style=\"color:green\"> **ERROR** </p>| <p style=\"color:green\">affiliation error: mpia.affiliation_verifications: 'Heidelberg' keyword not found.</p> |"
      ],
      "text/plain": [
       "<IPython.core.display.Markdown object>"
      ]
     },
     "metadata": {},
     "output_type": "display_data"
    },
    {
     "data": {
      "text/markdown": [
       "\n",
       "|||\n",
       "|---:|:---|\n",
       "| [![arXiv](https://img.shields.io/badge/arXiv-arXiv:2211.15333-b31b1b.svg)](https://arxiv.org/abs/arXiv:2211.15333) | **Numerical Modeling of Energetic Electron Acceleration, Transport, and  Emission in Solar Flares: Connecting Loop-top and Footpoint Hard X-Ray  Sources**  |\n",
       "|| Xiangliang Kong, et al. -- incl., <mark>Fan Guo</mark>, <mark>Xiaocan Li</mark>, <mark>Lulu Zhao</mark> |\n",
       "|*Appeared on*| *2022-11-29*|\n",
       "|*Comments*| *Accepted for publication in ApJL*|\n",
       "|**Abstract**| The acceleration and transport of energetic electrons during solar flares is one of the outstanding topics in solar physics. Recent X-ray and radio imaging and spectroscopy observations have provided diagnostics of the distribution of nonthermal electrons and suggested that, in certain flare events, electrons are primarily accelerated in the loop-top and likely experience trapping and/or scattering effects. By combining the focused particle transport equation with magnetohydrodynamic (MHD) simulations of solar flares, we present a macroscopic particle model that naturally incorporates electron acceleration and transport. Our simulation results indicate that the physical processes such as turbulent pitch-angle scattering can have important impacts on both electron acceleration in the loop-top and transport in the flare loop, and their influences are highly energy dependent. A spatial-dependent turbulent scattering with enhancement in the loop-top can enable both efficient electron acceleration to high energies and transport of abundant electrons to the footpoints. We further generate spatially resolved synthetic hard X-ray (HXR) emission images and spectra, revealing both the loop-top and footpoint HXR sources. Similar to the observations, we show that the footpoint HXR sources are brighter and harder than the loop-top HXR source. We suggest that the macroscopic particle model provides new insights into understanding the connection between the observed loop-top and footpoint nonthermal emission sources by combining the particle model with dynamically evolving MHD simulations of solar flares. |\n",
       "|<p style=\"color:green\"> **ERROR** </p>| <p style=\"color:green\">affiliation error: mpia.affiliation_verifications: 'Heidelberg' keyword not found.</p> |"
      ],
      "text/plain": [
       "<IPython.core.display.Markdown object>"
      ]
     },
     "metadata": {},
     "output_type": "display_data"
    },
    {
     "data": {
      "text/markdown": [
       "\n",
       "|||\n",
       "|---:|:---|\n",
       "| [![arXiv](https://img.shields.io/badge/arXiv-arXiv:2211.15448-b31b1b.svg)](https://arxiv.org/abs/arXiv:2211.15448) | **A Bayesian approach to RFI mitigation**  |\n",
       "|| <mark>S. A. K. Leeney</mark>, W. J. Handley, E. de Lera Acedo |\n",
       "|*Appeared on*| *2022-11-29*|\n",
       "|*Comments*| *8 pages, 7 figures, submitted to MNRAS*|\n",
       "|**Abstract**| Radio Frequency Interference (RFI) is an endemic problem in radio astronomy. Information in contaminated frequency channels is lost and it can lead to significant systematic error if not properly modelled. In this paper we propose a RFI mitigation methodology that takes a Bayesian approach, where contaminated data is both flagged and managed as part of a single step fitting process. To the authors knowledge, our approach is first-of-its-kind. We provide a proof-of-concept of our methods which are also tested and shown to be effective on both a simple toy model and when incorporated into the Bayesian data analysis pipeline for REACH (a modern cosmological radio experiment). |\n",
       "|<p style=\"color:green\"> **ERROR** </p>| <p style=\"color:green\">affiliation error: mpia.affiliation_verifications: 'Heidelberg' keyword not found.</p> |"
      ],
      "text/plain": [
       "<IPython.core.display.Markdown object>"
      ]
     },
     "metadata": {},
     "output_type": "display_data"
    },
    {
     "data": {
      "text/markdown": [
       "\n",
       "|||\n",
       "|---:|:---|\n",
       "| [![arXiv](https://img.shields.io/badge/arXiv-arXiv:2211.15570-b31b1b.svg)](https://arxiv.org/abs/arXiv:2211.15570) | **GECAM Localization of High Energy Transients and the Systematic Error**  |\n",
       "|| <mark>Yi Zhao</mark>, et al. -- incl., <mark>Shao-Lin Xiong</mark>, <mark>Jia-Cong Liu</mark>, <mark>Qi Liuo</mark>, <mark>Yan-Qiu Zhang</mark>, <mark>Xiao-Yun Zhao</mark>, <mark>Xiao-Bo Li</mark>, <mark>Zhen Zhang</mark>, <mark>Jin-Yuan Liao</mark>, <mark>Dong-Ya Guo</mark>, <mark>Sheng-Lun Xie</mark>, <mark>Zhi-Wei Guo</mark>, <mark>Chao-Yang Li</mark>, <mark>Jian-Jian He</mark>, <mark>Hong-Mei Zhang</mark>, <mark>Bing Li</mark>, <mark>Peng Zhang</mark>, <mark>Jing Liang</mark>, <mark>Guo-Ying Zhao</mark>, <mark>Xin-Qiao Li</mark>, <mark>Fan Zhang</mark>, <mark>Da-Li Zhang</mark>, <mark>Ya-Qing Liu</mark>, <mark>Xiao-Hua Liang</mark>, <mark>Xiao-Jing Liu</mark>, <mark>Li-Ming Song</mark>, <mark>Ke-Ke Zhang</mark>, <mark>Shu Zhang</mark>, <mark>Shuang-Nan Zhang</mark> |\n",
       "|*Appeared on*| *2022-11-29*|\n",
       "|*Comments*| *Submitted to Astrophysical Journal Supplement Series for Publication, Sep. 2022*|\n",
       "|**Abstract**| Gravitational wave high-energy Electromagnetic Counterpart All-sky Monitor (GECAM) is a pair of microsatellites (i.e. GECAM-A and GECAM-B) dedicated to monitoring gamma-ray transients including gravitational waves high-energy electromagnetic counterparts, Gamma-ray Bursts, Soft Gamma-ray Repeaters, Solar Flares and Terrestrial Gamma-ray Flashes. Since launch in December 2020, GECAM-B has detected hundreds of astronomical and terrestrial events. For these bursts, localization is the key for burst identification and classification as well as follow-up observations in multi-wavelength. Here, we propose a Bayesian localization method with Poisson data with Gaussian background profile likelihood to localize GECAM bursts based on the burst counts distribution in detectors with different orientations. We demonstrate that this method can work well for all kinds of bursts, especially for extremely short ones. In addition, we propose a new method to estimate the systematic error of localization based on a confidence level test, which can overcome some problems of the existing method in literature. We validate this method by Monte Carlo simulations, and then apply it to a burst sample with accurate location and find that the mean value of the systematic error of GECAM-B localization is $\\sim 2.5^{\\circ}$. By considering this systematic error, we can obtain a reliable localization probability map for GECAM bursts. Our methods can be applied to other gamma-ray monitors. |\n",
       "|<p style=\"color:green\"> **ERROR** </p>| <p style=\"color:green\">affiliation error: mpia.affiliation_verifications: 'Heidelberg' keyword not found.</p> |"
      ],
      "text/plain": [
       "<IPython.core.display.Markdown object>"
      ]
     },
     "metadata": {},
     "output_type": "display_data"
    },
    {
     "data": {
      "text/markdown": [
       "\n",
       "|||\n",
       "|---:|:---|\n",
       "| [![arXiv](https://img.shields.io/badge/arXiv-arXiv:2211.15599-b31b1b.svg)](https://arxiv.org/abs/arXiv:2211.15599) | **Bar formation in submaximal disks: a challenge for $Λ$CDM**  |\n",
       "|| Tahere Kashfi, <mark>Mahmood Roshan</mark>, Benoit Famaey |\n",
       "|*Appeared on*| *2022-11-29*|\n",
       "|*Comments*| *5 pages, 4 figures; Accepted for publication in MNRAS Letters*|\n",
       "|**Abstract**| Bar formation in cosmological simulations of galaxy formation remains challenging. It was previously shown that the fraction of barred galaxies at low stellar masses ($M_*<10^{10.5} M_\\odot$) in TNG50 is too low compared to observations. Here, we highlight another tension, also observed at higher stellar masses, namely that barred galaxies in TNG50 appear to be maximal disks, in the sense that the majority of the gravitational acceleration is accounted for by baryons at the peak radius of the baryonic rotation curve, while observations account for a substantial fraction of barred submaximal disks. In this letter, we compare the barred fraction of submaximal disks in the local Universe from the SPARC catalogue with that in the TNG50 simulation. We show that, although SPARC tends to select against barred galaxies, the fraction of barred submaximal disks in this dataset is significantly larger than in TNG50. This result adds to the list of challenges related to predicting the right statistics and properties of barred galaxies in $\\Lambda$CDM simulations of galaxy formation. |\n",
       "|<p style=\"color:green\"> **ERROR** </p>| <p style=\"color:green\">affiliation error: mpia.affiliation_verifications: 'Heidelberg' keyword not found.</p> |"
      ],
      "text/plain": [
       "<IPython.core.display.Markdown object>"
      ]
     },
     "metadata": {},
     "output_type": "display_data"
    },
    {
     "data": {
      "text/markdown": [
       "\n",
       "|||\n",
       "|---:|:---|\n",
       "| [![arXiv](https://img.shields.io/badge/arXiv-arXiv:2211.15615-b31b1b.svg)](https://arxiv.org/abs/arXiv:2211.15615) | **Non-ideal magnetohydrodynamics of self-gravitating filaments**  |\n",
       "|| Nicol Gutiérrez-Vera, et al. -- incl., <mark>Dominik R.G. Schleicher</mark> |\n",
       "|*Appeared on*| *2022-11-29*|\n",
       "|*Comments*| *11 pages, 9 figures, to be published in Astronomy & Astrophysics*|\n",
       "|**Abstract**| Filaments have been studied in detail through observations and simulations. A range of numerical works have separately investigated how chemistry and diffusion effects, as well as magnetic fields and their structure impact the gas dynamics of the filament. However, non-ideal effects have hardly been explored thus far. We investigate how non-ideal magnetohydrodynamic (MHD) effects, combined with a simplified chemical model affect the evolution and accretion of a star-forming filament. We modeled an accreting self-gravitating turbulent filament using lemongrab, a one-dimensional (1D) non-ideal MHD code that includes chemistry. We explore the influence of non-ideal MHD, the orientation and strength of the magnetic field, and the cosmic ray ionization rate, on the evolution of the filament, with particular focus on the width and accretion rate. We find that the filament width and the accretion rate are determined by the magnetic field properties, including the initial strength, the coupling with the gas controlled by the cosmic ray ionization rate, and the orientation of the magnetic field with respect to the accretion flow direction. Increasing the cosmic-ray ionization rate leads to a behavior closer to that of ideal MHD, reducing the magnetic pressure support and, hence, damping the accretion efficiency with a consequent broadening of the filament width. For the same reason, we obtained a narrower width and a larger accretion rate when we reduced the initial magnetic field strength. Overall, while these factors affect the final results by approximately a factor of~2, removing the non-ideal MHD effects results in a much greater variation (up to a factor of~7). The inclusion of non-ideal MHD effects and the cosmic-ray ionization is crucial for the study of self-gravitating filaments and in determining critical observable quantities, such as the filament width and accretion rate. |\n",
       "|<p style=\"color:green\"> **ERROR** </p>| <p style=\"color:green\">affiliation error: mpia.affiliation_verifications: 'Heidelberg' keyword not found.</p> |"
      ],
      "text/plain": [
       "<IPython.core.display.Markdown object>"
      ]
     },
     "metadata": {},
     "output_type": "display_data"
    },
    {
     "data": {
      "text/markdown": [
       "\n",
       "|||\n",
       "|---:|:---|\n",
       "| [![arXiv](https://img.shields.io/badge/arXiv-arXiv:2211.15491-b31b1b.svg)](https://arxiv.org/abs/arXiv:2211.15491) | **FIREBall-2: flight preparation of a proven balloon payload to image the  intermediate redshift circumgalactic medium**  |\n",
       "|| Vincent Picouet, et al. -- incl., <mark>Zeren Lin</mark>, <mark>Jess Li</mark> |\n",
       "|*Appeared on*| *2022-11-29*|\n",
       "|*Comments*| **|\n",
       "|**Abstract**| FIREBall-2 is a stratospheric balloon-borne 1-m telescope coupled to a UV multi-object slit spectrograph designed to map the faint UV emission surrounding z~0.7 galaxies and quasars through their Lyman-alpha line emission. This spectro-imager had its first launch on September 22nd 2018 out of Ft. Sumner, NM, USA. Because the balloon was punctured, the flight was abruptly interrupted. Instead of the nominal 8 hours above 32 km altitude, the instrument could only perform science acquisition for 45 minutes at this altitude. In addition, the shape of the deflated balloon, combined with a full Moon, revealed a severe off-axis scattered light path, directly into the UV science detector and about 100 times larger than expected. In preparation for the next flight, and in addition to describing FIREBall-2's upgrade, this paper discusses the exposure time calculator (ETC) that has been designed to analyze the instrument's optimal performance (explore the instrument's limitations and subtle trade-offs). |\n",
       "|<p style=\"color:red\"> **ERROR** </p>| <p style=\"color:red\">latex error not a gzip file</p> |"
      ],
      "text/plain": [
       "<IPython.core.display.Markdown object>"
      ]
     },
     "metadata": {},
     "output_type": "display_data"
    },
    {
     "data": {
      "text/markdown": [
       "\n",
       "|||\n",
       "|---:|:---|\n",
       "| [![arXiv](https://img.shields.io/badge/arXiv-arXiv:2211.14329-b31b1b.svg)](https://arxiv.org/abs/arXiv:2211.14329) | **First detections of stellar light from quasar host galaxies at z > 6**  |\n",
       "|| Xuheng Ding, et al. -- incl., <mark>Knud Jahnke</mark>, <mark>Sarah E. I. Bosman</mark>, <mark>Melanie Habouzit</mark>, <mark>Chien-Hsiu Lee</mark>, <mark>Junyao Li</mark>, <mark>Fabian Walter</mark> |\n",
       "|*Appeared on*| *2022-11-29*|\n",
       "|*Comments*| *Submitted to Nature. 37 pages, 3 main figures, 1 table, 3 supplementary figures, 1 supplementary table. Comments are welcome*|\n",
       "|**Abstract**| The existence of high-redshift supermassive black holes (SMBHs) -- shining brightly as quasars during the first billion years of our universe -- presents a conundrum in astrophysics. A broad variety of physical mechanisms have been proposed for the formation and rapid growth of these early SMBHs. Promising diagnostics are the relative properties of the black hole and its host galaxy. However, up to now, the detection of stars in quasar host galaxies has been elusive beyond $z>2$, even with deep HST observations. Here, we report the first detections of the stellar component of the host galaxies of two relatively low-luminosity quasars at $z>6$ observed with JWST using NIRCam. After modeling and subtracting the glare from the quasar itself, we find that the host galaxies are massive (stellar mass of $2.5\\times$ and $6.3\\times10^{10}$ M$_{\\odot}$), compact, and disk-like. Unlike most SMBHs in the nearby universe, these quasars are displaced from the centers of their host galaxies in the rest-frame optical, in one case by $0.9$ kpc. These first positive detections of quasar hosts at $z>6$ are a pivotal milestone; we can now assess the stellar environment along with star formation and black hole accretion to determine the physical conditions that govern the formation and evolution of the first SMBHs. |\n",
       "|<p style=\"color:red\"> **ERROR** </p>| <p style=\"color:red\">latex error sequence item 0: expected str instance, TexNode found</p> |"
      ],
      "text/plain": [
       "<IPython.core.display.Markdown object>"
      ]
     },
     "metadata": {},
     "output_type": "display_data"
    }
   ],
   "source": [
    "import datetime\n",
    "today = str(datetime.date.today())\n",
    "logfile = f\"_build/html/logs/log-{today}.md\"\n",
    "\n",
    "\n",
    "with open(logfile, 'w') as logs:\n",
    "    # Success\n",
    "    logs.write(f'# Arxiv on Deck 2: Logs - {today}\\n\\n')\n",
    "    logs.write(\"\"\"* Arxiv had {0:,d} new papers\\n\"\"\".format(len(new_papers)))\n",
    "    logs.write(\"\"\"    * {0:,d} with possible author matches\\n\\n\"\"\".format(len(candidates)))\n",
    "    logs.write(\"## Sucessful papers\\n\\n\")\n",
    "    display(Markdown(\"## Successful papers\"))\n",
    "    success = [k[0] for k in documents]\n",
    "    for candid in candidates:\n",
    "        if candid['identifier'].split(':')[-1] in success:\n",
    "            display(candid)\n",
    "            logs.write(candid.generate_markdown_text() + '\\n\\n')\n",
    "\n",
    "    ## failed\n",
    "    logs.write(\"## Failed papers\\n\\n\")\n",
    "    display(Markdown(\"## Failed papers\"))\n",
    "    failed = sorted(failed, key=lambda x: x[1])\n",
    "    current_reason = \"\"\n",
    "    for paper, reason in failed:\n",
    "        if 'affiliation' in reason:\n",
    "            color = 'green'\n",
    "        else:\n",
    "            color = 'red'\n",
    "        data = Markdown(\n",
    "                paper.generate_markdown_text() + \n",
    "                f'\\n|<p style=\"color:{color:s}\"> **ERROR** </p>| <p style=\"color:{color:s}\">{reason:s}</p> |'\n",
    "               )\n",
    "        if reason != current_reason:\n",
    "            logs.write(f'### {reason:s} \\n\\n')\n",
    "            current_reason = reason\n",
    "        logs.write(data.data + '\\n\\n')\n",
    "        \n",
    "        # only display here the important errors (all in logs)\n",
    "        # if color in ('red',):\n",
    "        display(data)"
   ]
  },
  {
   "cell_type": "markdown",
   "id": "472d20ee",
   "metadata": {
    "papermill": {
     "duration": 0.013961,
     "end_time": "2022-11-29T04:19:29.078105",
     "exception": false,
     "start_time": "2022-11-29T04:19:29.064144",
     "status": "completed"
    },
    "tags": []
   },
   "source": [
    "## Export documents\n",
    "\n",
    "We now write the .md files and export relevant images"
   ]
  },
  {
   "cell_type": "code",
   "execution_count": 7,
   "id": "d426aed9",
   "metadata": {
    "execution": {
     "iopub.execute_input": "2022-11-29T04:19:29.108024Z",
     "iopub.status.busy": "2022-11-29T04:19:29.107099Z",
     "iopub.status.idle": "2022-11-29T04:19:29.115986Z",
     "shell.execute_reply": "2022-11-29T04:19:29.115338Z"
    },
    "papermill": {
     "duration": 0.025778,
     "end_time": "2022-11-29T04:19:29.117780",
     "exception": false,
     "start_time": "2022-11-29T04:19:29.092002",
     "status": "completed"
    },
    "tags": []
   },
   "outputs": [],
   "source": [
    "def export_markdown_summary(md: str, md_fname:str, directory: str):\n",
    "    \"\"\"Export MD document and associated relevant images\"\"\"\n",
    "    import os\n",
    "    import shutil\n",
    "    import re\n",
    "\n",
    "    if (os.path.exists(directory) and not os.path.isdir(directory)):\n",
    "        raise RuntimeError(f\"a non-directory file exists with name {directory:s}\")\n",
    "\n",
    "    if (not os.path.exists(directory)):\n",
    "        print(f\"creating directory {directory:s}\")\n",
    "        os.mkdir(directory)\n",
    "\n",
    "    fig_fnames = (re.compile(r'\\[Fig.*\\]\\((.*)\\)').findall(md) + \n",
    "                  re.compile(r'\\<img src=\"([^>\\s]*)\"[^>]*/>').findall(md))\n",
    "    for fname in fig_fnames:\n",
    "        if 'http' in fname:\n",
    "            # No need to copy online figures\n",
    "            continue\n",
    "        destdir = os.path.join(directory, os.path.dirname(fname))\n",
    "        destfname = os.path.join(destdir, os.path.basename(fname))\n",
    "        try:\n",
    "            os.makedirs(destdir)\n",
    "        except FileExistsError:\n",
    "            pass\n",
    "        shutil.copy(fname, destfname)\n",
    "    with open(os.path.join(directory, md_fname), 'w') as fout:\n",
    "        fout.write(md)\n",
    "    print(\"exported in \", os.path.join(directory, md_fname))\n",
    "    [print(\"    + \" + os.path.join(directory,fk)) for fk in fig_fnames]"
   ]
  },
  {
   "cell_type": "code",
   "execution_count": 8,
   "id": "014d04a4",
   "metadata": {
    "execution": {
     "iopub.execute_input": "2022-11-29T04:19:29.149638Z",
     "iopub.status.busy": "2022-11-29T04:19:29.149305Z",
     "iopub.status.idle": "2022-11-29T04:19:29.176240Z",
     "shell.execute_reply": "2022-11-29T04:19:29.175596Z"
    },
    "papermill": {
     "duration": 0.045386,
     "end_time": "2022-11-29T04:19:29.178127",
     "exception": false,
     "start_time": "2022-11-29T04:19:29.132741",
     "status": "completed"
    },
    "tags": []
   },
   "outputs": [
    {
     "name": "stdout",
     "output_type": "stream",
     "text": [
      "exported in  _build/html/2211.14322.md\n",
      "    + _build/html/tmp_2211.14322/./Figures/Figure2.png\n",
      "    + _build/html/tmp_2211.14322/./Figures/Figure5.png\n",
      "    + _build/html/tmp_2211.14322/./Figures/Figure10.png\n",
      "exported in  _build/html/2211.14330.md\n",
      "    + _build/html/tmp_2211.14330/./figures/TelluricAbsportionIFS_1p4mu_20170928.png\n",
      "    + _build/html/tmp_2211.14330/./figures/SkyIRtemp_LHATPRO_20170928.png\n",
      "    + _build/html/tmp_2211.14330/./figures/PWV_LHATPRO_20170928.png\n",
      "    + _build/html/tmp_2211.14330/./figures/spec_new_clouds.png\n",
      "    + _build/html/tmp_2211.14330/./figures/corner_new_clouds.png\n",
      "exported in  _build/html/2211.14543.md\n",
      "    + _build/html/tmp_2211.14543/figures/fig_roc_curve_sie.png\n",
      "    + _build/html/tmp_2211.14543/figures/fig_qso_gal_synspec.png\n",
      "    + _build/html/tmp_2211.14543/figures/fig_lens_color.png\n",
      "exported in  _build/html/2211.15224.md\n",
      "    + _build/html/tmp_2211.15224/./figures/bGroup.png\n",
      "    + _build/html/tmp_2211.15224/./figures/ratio-babs.png\n",
      "    + _build/html/tmp_2211.15224/./figures/ratio-EBV.png\n",
      "exported in  _build/html/2211.15288.md\n",
      "    + _build/html/tmp_2211.15288/./figures/feh_gradient_all.png\n",
      "    + _build/html/tmp_2211.15288/./figures/substr_comparison_gss.png\n",
      "    + _build/html/tmp_2211.15288/./figures/alphafe_gradient_all.png\n",
      "exported in  _build/html/2211.15434.md\n",
      "    + _build/html/tmp_2211.15434/./System_properties.png\n",
      "    + _build/html/tmp_2211.15434/./Completeness_all.png\n",
      "    + _build/html/tmp_2211.15434/./Completeness_extinction.png\n",
      "exported in  _build/html/2211.15576.md\n",
      "    + _build/html/tmp_2211.15576/./2d_Image.png\n",
      "    + _build/html/tmp_2211.15576/./2d_Image_2.png\n",
      "    + _build/html/tmp_2211.15576/./limbDarkening_Coefficients.png\n",
      "    + _build/html/tmp_2211.15576/./alldata_noSH_spectrum.png\n",
      "    + _build/html/tmp_2211.15576/./alldata_SH_spectrum.png\n"
     ]
    }
   ],
   "source": [
    "for paper_id, md in documents:\n",
    "    export_markdown_summary(md, f\"{paper_id:s}.md\", '_build/html/')"
   ]
  },
  {
   "cell_type": "markdown",
   "id": "f087a0a7",
   "metadata": {
    "papermill": {
     "duration": 0.015435,
     "end_time": "2022-11-29T04:19:29.207541",
     "exception": false,
     "start_time": "2022-11-29T04:19:29.192106",
     "status": "completed"
    },
    "tags": []
   },
   "source": [
    "## Display the papers\n",
    "\n",
    "Not necessary but allows for a quick check."
   ]
  },
  {
   "cell_type": "code",
   "execution_count": 9,
   "id": "fd25f625",
   "metadata": {
    "execution": {
     "iopub.execute_input": "2022-11-29T04:19:29.276365Z",
     "iopub.status.busy": "2022-11-29T04:19:29.276024Z",
     "iopub.status.idle": "2022-11-29T04:19:29.289344Z",
     "shell.execute_reply": "2022-11-29T04:19:29.288688Z"
    },
    "papermill": {
     "duration": 0.031228,
     "end_time": "2022-11-29T04:19:29.291530",
     "exception": false,
     "start_time": "2022-11-29T04:19:29.260302",
     "status": "completed"
    },
    "scrolled": false,
    "tags": []
   },
   "outputs": [
    {
     "data": {
      "text/markdown": [
       "<div class=\"macros\" style=\"visibility:hidden;\">\n",
       "$\\newcommand{\\ensuremath}{}$\n",
       "$\\newcommand{\\xspace}{}$\n",
       "$\\newcommand{\\object}[1]{\\texttt{#1}}$\n",
       "$\\newcommand{\\farcs}{{.}''}$\n",
       "$\\newcommand{\\farcm}{{.}'}$\n",
       "$\\newcommand{\\arcsec}{''}$\n",
       "$\\newcommand{\\arcmin}{'}$\n",
       "$\\newcommand{\\ion}[2]{#1#2}$\n",
       "$\\newcommand{\\textsc}[1]{\\textrm{#1}}$\n",
       "$\\newcommand{\\hl}[1]{\\textrm{#1}}$\n",
       "$\\newcommand{\\thebibliography}{\\DeclareRobustCommand{\\VAN}[3]{##3}\\VANthebibliography}$</div>\n",
       "\n",
       "<div class=\"macros\" style=\"visibility:hidden;\">\n",
       "$\\newcommand{$\\ensuremath$}{}$\n",
       "$\\newcommand{$\\xspace$}{}$\n",
       "$\\newcommand{$\\object$}[1]{\\texttt{#1}}$\n",
       "$\\newcommand{$\\farcs$}{{.}''}$\n",
       "$\\newcommand{$\\farcm$}{{.}'}$\n",
       "$\\newcommand{$\\arcsec$}{''}$\n",
       "$\\newcommand{$\\arcmin$}{'}$\n",
       "$\\newcommand{$\\ion$}[2]{#1#2}$\n",
       "$\\newcommand{$\\textsc$}[1]{\\textrm{#1}}$\n",
       "$\\newcommand{$\\hl$}[1]{\\textrm{#1}}$\n",
       "$\\newcommand{$\\thebibliography$}{\\DeclareRobustCommand{\\VAN}[3]{##3}\\VANthebibliography}$</div>\n",
       "\n",
       "\n",
       "\n",
       "<div id=\"title\">\n",
       "\n",
       "# The SPHERE view of three interacting twin disc systems in polarised light\n",
       "\n",
       "</div>\n",
       "<div id=\"comments\">\n",
       "\n",
       "[![arXiv](https://img.shields.io/badge/arXiv-2211.14322-b31b1b.svg)](https://arxiv.org/abs/2211.14322)<mark>Appeared on: 2022-11-29</mark> - _23 pages, 17 figures, accepted for publication in MNRAS_\n",
       "\n",
       "</div>\n",
       "<div id=\"authors\">\n",
       "\n",
       "Philipp Weber, et al. -- incl., <mark><mark>Nicolás T. Kurtovic</mark></mark>\n",
       "\n",
       "</div>\n",
       "<div id=\"abstract\">\n",
       "\n",
       "**Abstract:** Dense stellar environments as hosts of ongoing star formation increase the probability of gravitational encounters among stellar systems during the early stages of evolution. Stellar interaction may occur through non-recurring, hyperbolic or parabolic passages (a so-called ‘fly-by'), through secular binary evolution, or through binary capture. In all three scenarios, the strong gravitational perturbation is expected to manifest itself in the disc structures around the individual stars.Here, we present near-infrared polarised light observations that were taken with the SPHERE/IRDIS instrument of three known interacting twin-disc systems: AS 205, EM* SR 24, and FU Orionis.The scattered light exposes spirals likely caused by the gravitational interaction.On a larger scale, we observe connecting filaments between the stars.We analyse their very complex polarised intensity and put particular attention to the presence of multiple light sources in these systems. The local angle of linear polarisation indicates the source whose light dominates the scattering process from the bridging region between the two stars.Further, we show that the polarised intensity from scattering with multiple relevant light sources results from an incoherent summation of the individuals' contribution.This can produce nulls of polarised intensity in an image, as potentially observed in AS 205.We discuss the geometry and content of the systems by comparing the polarised light observations with other data at similar resolution, namely with ALMA continuum and gas emission.Collective observational data can constrain the systems' geometry and stellar trajectories, with the important potential to differentiate between dynamical scenarios of stellar interaction.\n",
       "\n",
       "</div>\n",
       "\n",
       "<div id=\"div_fig1\">\n",
       "\n",
       "<img src=\"tmp_2211.14322/./Figures/Figure2.png\" alt=\"Fig10\" width=\"100%\"/>\n",
       "\n",
       "**Figure 10. -** SPHERE/IRDIS observations of three twin disc systems: AS 205, SR 24 and FU Orionis. North is up, East is to the left. We show the normalised polarised light intensity in logarithmic colour scale with the $1\\sigma_{\\rm rms}-$level as the lower limit and the maximum intensity as the upper limit. The coordinates are centred on the respective northern source. The central circles mark the coronagraph's diameter. The location of the companions in the images are marked by a star. The length of the bar in the lower left corner of each panel is equivalent to a projected distance of 100$ $au. Arrows and letters are referred to in the text. For SR 24 the southern source is very close to the edge of the detector which is why the lower frame is visible there. (*fig:mosaic*)\n",
       "\n",
       "</div>\n",
       "<div id=\"div_fig2\">\n",
       "\n",
       "<img src=\"tmp_2211.14322/./Figures/Figure5.png\" alt=\"Fig4\" width=\"100%\"/>\n",
       "\n",
       "**Figure 4. -** Lower panel: ALMA band 6 intensity map for SR 24. Contours trace the $H$-Band polarised intensity presented in Fig. \\ref{fig:mosaic} for comparison at levels of 0.25\\%, 1\\% and 5\\% of the peak intensity. The bar in the bottom right corner shows the projected distance of 100$ $au. The inset zooms in on the location of SR 24N. Contrast in the inset is increased by a factor of ten, the two sources SR 24Na and SR 24Nb are detected with $\\sim12 \\sigma_{\\rm rms}$ and $\\sim 5 \\sigma_{\\rm rms}$, respectively. The bar in the top left corner of the inset corresponds to 10$ $au. Top panel: Intensity along the connecting line between SR 24Na and SR 24Nb, north-east is to the left, south-west to the right. The circles show the ALMA band 6 data points, the dashed lines show the beam size of the observation. (*fig:cont_sr24*)\n",
       "\n",
       "</div>\n",
       "<div id=\"div_fig3\">\n",
       "\n",
       "<img src=\"tmp_2211.14322/./Figures/Figure10.png\" alt=\"Fig12\" width=\"100%\"/>\n",
       "\n",
       "**Figure 12. -** {The left and central panel show dynamical stellar mass estimates for AS 205N and AS 205S, respectively, measured with the {\\tt eddy}-package \\citep[][]{eddy}. The stellar masses were calculated for different assumed disc inclinations, spread around the estimates provided in \\citet{Kurtovic2018} from different methods, for which the measured inclination values are indicated by vertical dashed lines. At each assumed inclination we varied the size of the mask to which the dynamical measurement was limited between radii of $0$\\farcs$1$, $0$\\farcs$2$, $0$\\farcs$3$ and $0$\\farcs$4$. AS a visual example, the right panel shows the moment 1 map centred on AS 205N with the different mask sizes indicated by dashed circles. The colour of the data points in the two left panels corresponds to the colour of the applied mask in the right panel.} (*fig:AS_kine_masks*)\n",
       "\n",
       "</div>"
      ],
      "text/plain": [
       "<IPython.core.display.Markdown object>"
      ]
     },
     "metadata": {},
     "output_type": "display_data"
    },
    {
     "data": {
      "text/markdown": [
       "<div class=\"macros\" style=\"visibility:hidden;\">\n",
       "$\\newcommand{\\ensuremath}{}$\n",
       "$\\newcommand{\\xspace}{}$\n",
       "$\\newcommand{\\object}[1]{\\texttt{#1}}$\n",
       "$\\newcommand{\\farcs}{{.}''}$\n",
       "$\\newcommand{\\farcm}{{.}'}$\n",
       "$\\newcommand{\\arcsec}{''}$\n",
       "$\\newcommand{\\arcmin}{'}$\n",
       "$\\newcommand{\\ion}[2]{#1#2}$\n",
       "$\\newcommand{\\textsc}[1]{\\textrm{#1}}$\n",
       "$\\newcommand{\\hl}[1]{\\textrm{#1}}$\n",
       "$\\newcommand{\\SubItem}[1]{$\n",
       "$    {\\setlength\\itemindent{15pt} \\item[-] #1}$\n",
       "$}$\n",
       "$\\newcommand{\\arraystretch}{1.5}$\n",
       "$\\newcommand{\\arraystretch}{1.5}$</div>\n",
       "\n",
       "<div class=\"macros\" style=\"visibility:hidden;\">\n",
       "$\\newcommand{$\\ensuremath$}{}$\n",
       "$\\newcommand{$\\xspace$}{}$\n",
       "$\\newcommand{$\\object$}[1]{\\texttt{#1}}$\n",
       "$\\newcommand{$\\farcs$}{{.}''}$\n",
       "$\\newcommand{$\\farcm$}{{.}'}$\n",
       "$\\newcommand{$\\arcsec$}{''}$\n",
       "$\\newcommand{$\\arcmin$}{'}$\n",
       "$\\newcommand{$\\ion$}[2]{#1#2}$\n",
       "$\\newcommand{$\\textsc$}[1]{\\textrm{#1}}$\n",
       "$\\newcommand{$\\hl$}[1]{\\textrm{#1}}$\n",
       "$\\newcommand{\\SubItem}[1]{$\n",
       "$    {\\setlength\\itemindent{15pt} \\item[-] #1}$\n",
       "$}$\n",
       "$\\newcommand{$\\arraystretch$}{1.5}$\n",
       "$\\newcommand{$\\arraystretch$}{1.5}$</div>\n",
       "\n",
       "\n",
       "\n",
       "<div id=\"title\">\n",
       "\n",
       "# Revisiting the atmosphere of the exoplanet 51 Eridani b with VLT/SPHERE\n",
       "\n",
       "</div>\n",
       "<div id=\"comments\">\n",
       "\n",
       "[![arXiv](https://img.shields.io/badge/arXiv-2211.14330-b31b1b.svg)](https://arxiv.org/abs/2211.14330)<mark>Appeared on: 2022-11-29</mark> - _Accepted for publication in A&A. 21 pages, 7 figures in the main text and 9 figures in the Appendix_\n",
       "\n",
       "</div>\n",
       "<div id=\"authors\">\n",
       "\n",
       "<mark><mark>S. B. Brown-Sevilla</mark></mark>, et al. -- incl., <mark><mark>P. Mollière</mark></mark>, <mark><mark>M. Samland</mark></mark>, <mark><mark>M. Feldt</mark></mark>, <mark><mark>Th. Henning</mark></mark>, <mark><mark>M. Langlois</mark></mark>, <mark><mark>M. Meyer</mark></mark>, <mark><mark>A. Pavlov</mark></mark>\n",
       "\n",
       "</div>\n",
       "<div id=\"abstract\">\n",
       "\n",
       "**Abstract:** [Full abstract in the paper] We aim to better constrain the atmospheric properties of the directly imaged exoplanet 51~Eri~b by using a retrieval approach on higher signal-to-noise data than previously reported. In this context, we also compare the results of using the atmospheric retrieval code \\texttt{petitRADTRANS} vs a self-consistent model to fit atmospheric parameters. We present a higher signal-to-noise $YH$ spectrum of the planet and revised $K1K2$ photometry (M$_{K1} = 15.11 \\pm 0.04$ mag, M$_{K2} = 17.11 \\pm 0.38$ mag). The best-fit parameters obtained using an atmospheric retrieval differ from previous results using self-consistent models. In general, we find that our solutions tend towards cloud-free atmospheres (e.g. log $\\tau_{\\rm clouds} = -5.20 \\pm 1.44$). For our ``nominal'' model with new data, we find a lower metallicity ([Fe/H] $= 0.26\\pm$0.30 dex) and C/O ratio ($0.38\\pm0.09$), and a slightly higher effective temperature (T$_{\\rm{eff}} = 807\\pm$45 K) than previous studies. The surface gravity (log $g = 4.05\\pm0.37$) is in agreement with the reported values in the literature within uncertainties. We estimate the mass of the planet to be between 2 and 4 M$_{\\rm{Jup}}$. When comparing with self-consistent models, we encounter a known correlation between the presence of clouds and the shape of the $P-T$ profiles. Our findings support the idea that results from atmospheric retrievals should not be discussed in isolation, but rather along with self-consistent temperature structures obtained using the retrieval's best-fit parameters. \n",
       "\n",
       "</div>\n",
       "\n",
       "<div id=\"div_fig1\">\n",
       "\n",
       "<img src=\"tmp_2211.14330/./figures/TelluricAbsportionIFS_1p4mu_20170928.png\" alt=\"Fig6.1\" width=\"33%\"/><img src=\"tmp_2211.14330/./figures/SkyIRtemp_LHATPRO_20170928.png\" alt=\"Fig6.2\" width=\"33%\"/><img src=\"tmp_2211.14330/./figures/PWV_LHATPRO_20170928.png\" alt=\"Fig6.3\" width=\"33%\"/>\n",
       "\n",
       "**Figure 6. -** Top: Telluric absorption as traced by SPHERE/IFS at $\\approx 1.4\\mu$m. Middle: Sky infrared temperature as traced by LHATPRO. Bottom: PWV as traced by LHATPRO.  The vertical dashed line in all figures marks our cut-off time for the first 140 IFS frames, which form the basis of our spectral analysis, out of a total of 154 IFS data frames. (*fig:telluric_timeseries*)\n",
       "\n",
       "</div>\n",
       "<div id=\"div_fig2\">\n",
       "\n",
       "<img src=\"tmp_2211.14330/./figures/spec_new_clouds.png\" alt=\"Fig11\" width=\"100%\"/>\n",
       "\n",
       "**Figure 11. -** \\texttt{petitRADTRANS} best-fit spectrum of 51 Eri b for the \"enforced clouds\" retrieval run on our new SPHERE spectro-photometric data (teal circles and purple squares) along with the photometric points included in \\cite{Samland2017}(shown as squares). The photometric points describe the average flux in the respective filter, the \\textit{x}-error bar represents the filter widths. 34 randomly drawn samples from the posterior probability distribution are shown in gray, to show the spread of model parameter combinations to fit the data. Residuals in multiples of 1 $\\sigma$ uncertainties of the data are shown below. (*fig:new_cloudy*)\n",
       "\n",
       "</div>\n",
       "<div id=\"div_fig3\">\n",
       "\n",
       "<img src=\"tmp_2211.14330/./figures/corner_new_clouds.png\" alt=\"Fig12\" width=\"100%\"/>\n",
       "\n",
       "**Figure 12. -** Corner plot of the posterior PDFs of the \"enforced clouds\" retrieval run on the new data set. (*fig:cloudy_corner*)\n",
       "\n",
       "</div>"
      ],
      "text/plain": [
       "<IPython.core.display.Markdown object>"
      ]
     },
     "metadata": {},
     "output_type": "display_data"
    },
    {
     "data": {
      "text/markdown": [
       "<div class=\"macros\" style=\"visibility:hidden;\">\n",
       "$\\newcommand{\\ensuremath}{}$\n",
       "$\\newcommand{\\xspace}{}$\n",
       "$\\newcommand{\\object}[1]{\\texttt{#1}}$\n",
       "$\\newcommand{\\farcs}{{.}''}$\n",
       "$\\newcommand{\\farcm}{{.}'}$\n",
       "$\\newcommand{\\arcsec}{''}$\n",
       "$\\newcommand{\\arcmin}{'}$\n",
       "$\\newcommand{\\ion}[2]{#1#2}$\n",
       "$\\newcommand{\\textsc}[1]{\\textrm{#1}}$\n",
       "$\\newcommand{\\hl}[1]{\\textrm{#1}}$\n",
       "$\\newcommand{\\vdag}{(v)^\\dagger}$\n",
       "$\\newcommand$\n",
       "$\\newcommand$</div>\n",
       "\n",
       "<div class=\"macros\" style=\"visibility:hidden;\">\n",
       "$\\newcommand{$\\ensuremath$}{}$\n",
       "$\\newcommand{$\\xspace$}{}$\n",
       "$\\newcommand{$\\object$}[1]{\\texttt{#1}}$\n",
       "$\\newcommand{$\\farcs$}{{.}''}$\n",
       "$\\newcommand{$\\farcm$}{{.}'}$\n",
       "$\\newcommand{$\\arcsec$}{''}$\n",
       "$\\newcommand{$\\arcmin$}{'}$\n",
       "$\\newcommand{$\\ion$}[2]{#1#2}$\n",
       "$\\newcommand{$\\textsc$}[1]{\\textrm{#1}}$\n",
       "$\\newcommand{$\\hl$}[1]{\\textrm{#1}}$\n",
       "$\\newcommand{$\\vdag$}{(v)^\\dagger}$\n",
       "$\\newcommand$\n",
       "$\\newcommand$</div>\n",
       "\n",
       "\n",
       "\n",
       "<div id=\"title\">\n",
       "\n",
       "# \n",
       "\n",
       "</div>\n",
       "<div id=\"comments\">\n",
       "\n",
       "[![arXiv](https://img.shields.io/badge/arXiv-2211.14543-b31b1b.svg)](https://arxiv.org/abs/2211.14543)<mark>Appeared on: 2022-11-29</mark> - _24 pages, 17 figures, and 2 tables. Accepted for publication in The Astrophysical Journal. We welcome comments from the reader_\n",
       "\n",
       "</div>\n",
       "<div id=\"authors\">\n",
       "\n",
       "Irham Taufik Andika, et al. -- incl., <mark>Knud Jahnke</mark>, <mark>Sarah E. I. Bosman</mark>, <mark>Frederick B. Davies</mark>\n",
       "\n",
       "</div>\n",
       "<div id=\"abstract\">\n",
       "\n",
       "**Abstract:** Over the last two decades, around three hundred quasars have been discovered at$z\\gtrsim6$, yet only one was identified as being strong-gravitationally lensed.We explore a new approach, enlarging the permitted spectral parameter space while introducing a new spatial geometry veto criterion, implemented via image-based deep learning.We made the first application of this approach in a systematic search for reionization-era lensed quasars, using data from the Dark Energy Survey, the Visible and Infrared Survey Telescope for Astronomy Hemisphere Survey, and the Wide-field Infrared Survey Explorer.Our search method consists of two main parts:(i) pre-selection of the candidates based on their spectral energy distributions (SEDs) using catalog-level photometry and(ii) relative probabilities calculation of being a lens or some contaminant utilizing a convolutional neural network (CNN) classification.The training datasets are constructed by painting deflected point-source lights over actual galaxy images to generate realistic galaxy-quasar lens models, optimized to find systems with small image separations, i.e., Einstein radii of$\\theta_\\mathrm{E} \\leq 1$\\arcsec$$.Visual inspection is then performed for sources with CNN scores of$P_\\mathrm{lens} > 0.1$, which led us to obtain 36 newly-selected lens candidates, waiting for spectroscopic confirmation.These findings show that automated SED modeling and deep learning pipelines, supported by modest human input, are a promising route for detecting strong lenses from large catalogs that can overcome the veto limitations of primarily dropout-based SED selection approaches.\n",
       "\n",
       "</div>\n",
       "\n",
       "<div id=\"div_fig1\">\n",
       "\n",
       "<img src=\"tmp_2211.14543/figures/fig_roc_curve_sie.png\" alt=\"Fig5\" width=\"100%\"/>\n",
       "\n",
       "**Figure 5. -** \n",
       "\t\tReceiver operating characteristic (ROC) curve and the associated area under the curve (AUC) value.\n",
       "\t\tThe curve for classifying lensed quasars is presented with a solid blue line.\n",
       "\t\tOn the other hand, the curves for predicting galaxies, MLT dwarfs, and quasars are shown with magenta, yellow, and cyan dashed lines, respectively.\n",
       "\t\tThe FPR and TPR value for the adopted $P_\\mathrm{lens}$ thresholds is also shown as a red circle.\n",
       "\t (*fig:roc_curve*)\n",
       "\n",
       "</div>\n",
       "<div id=\"div_fig2\">\n",
       "\n",
       "<img src=\"tmp_2211.14543/figures/fig_qso_gal_synspec.png\" alt=\"Fig1\" width=\"100%\"/>\n",
       "\n",
       "**Figure 1. -** \n",
       "\t\tExample of the simulated galaxy-quasar lens spectrum (gray line) and the associated synthetic photometry (red circles).\n",
       "\t\tThe unlensed background quasar's emission (orange line) is magnified with a factor of $\\mu$ before being added to the foreground galaxy's emission (blue line) to produce the lensed quasar spectrum.\n",
       "\t (*fig:qso_gal_synspec*)\n",
       "\n",
       "</div>\n",
       "<div id=\"div_fig3\">\n",
       "\n",
       "<img src=\"tmp_2211.14543/figures/fig_lens_color.png\" alt=\"Fig2\" width=\"100%\"/>\n",
       "\n",
       "**Figure 2. -** \n",
       "\t\tColor diagram of $Y_\\mathrm{DES} - J_\\mathrm{VHS}$ vs. $z_\\mathrm{DES} - Y_\\mathrm{DES}$.\n",
       "\t\tThe colors of mock quasars (black circles), low-$z$ early-type galaxies (orange circles), simulated lenses (red circles), and a sample of MLT dwarfs \\citep[blue circles;][]{2018ApJS..234....1B,2019MNRAS.489.5301C} are shown in the figure.\n",
       "\t\tOur color cuts pre-selection is marked by the dashed black box, which focuses on finding lensed quasars located at $z=6.6$--7.2.\n",
       "\t\tNote that the seemingly unnatural rectangle shape of the MLT dwarfs distribution on the right of the plot is caused by the color cut criteria used by \\cite{2019MNRAS.489.5301C} to avoid the quasar color locus.\n",
       "\t (*fig:lens_color*)\n",
       "\n",
       "</div>"
      ],
      "text/plain": [
       "<IPython.core.display.Markdown object>"
      ]
     },
     "metadata": {},
     "output_type": "display_data"
    },
    {
     "data": {
      "text/markdown": [
       "<div class=\"macros\" style=\"visibility:hidden;\">\n",
       "$\\newcommand{\\ensuremath}{}$\n",
       "$\\newcommand{\\xspace}{}$\n",
       "$\\newcommand{\\object}[1]{\\texttt{#1}}$\n",
       "$\\newcommand{\\farcs}{{.}''}$\n",
       "$\\newcommand{\\farcm}{{.}'}$\n",
       "$\\newcommand{\\arcsec}{''}$\n",
       "$\\newcommand{\\arcmin}{'}$\n",
       "$\\newcommand{\\ion}[2]{#1#2}$\n",
       "$\\newcommand{\\textsc}[1]{\\textrm{#1}}$\n",
       "$\\newcommand{\\hl}[1]{\\textrm{#1}}$\n",
       "$\\newcommand{\\EBV}{E(B {-} V)}$\n",
       "$\\newcommand{\\Teff}{T_{\\rm eff}}$\n",
       "$\\newcommand{\\logg}{{\\rm log} g}$\n",
       "$\\newcommand{\\feh}{\\rm[Fe/H]}$\n",
       "$\\newcommand{\\kms}{\\rm km s^{-1}}$\n",
       "$\\newcommand{\\Mathias}[1]{{\\color{magenta} [Mathias:#1]}}$\n",
       "$\\newcommand{\\hz}[1]{{\\color{red} [He:#1]}}$\n",
       "$\\newcommand{\\thebibliography}{\\DeclareRobustCommand{\\VAN}[3]{##3}\\VANthebibliography}$</div>\n",
       "\n",
       "<div class=\"macros\" style=\"visibility:hidden;\">\n",
       "$\\newcommand{$\\ensuremath$}{}$\n",
       "$\\newcommand{$\\xspace$}{}$\n",
       "$\\newcommand{$\\object$}[1]{\\texttt{#1}}$\n",
       "$\\newcommand{$\\farcs$}{{.}''}$\n",
       "$\\newcommand{$\\farcm$}{{.}'}$\n",
       "$\\newcommand{$\\arcsec$}{''}$\n",
       "$\\newcommand{$\\arcmin$}{'}$\n",
       "$\\newcommand{$\\ion$}[2]{#1#2}$\n",
       "$\\newcommand{$\\textsc$}[1]{\\textrm{#1}}$\n",
       "$\\newcommand{$\\hl$}[1]{\\textrm{#1}}$\n",
       "$\\newcommand{$\\EBV$}{E(B {-} V)}$\n",
       "$\\newcommand{$\\Teff$}{T_{\\rm eff}}$\n",
       "$\\newcommand{$\\logg$}{{\\rm log} g}$\n",
       "$\\newcommand{$\\feh$}{\\rm[Fe/H]}$\n",
       "$\\newcommand{$\\kms$}{\\rm km s^{-1}}$\n",
       "$\\newcommand{$\\Mathias$}[1]{{\\color{magenta} [Mathias:#1]}}$\n",
       "$\\newcommand{$\\hz$}[1]{{\\color{red} [He:#1]}}$\n",
       "$\\newcommand{$\\thebibliography$}{\\DeclareRobustCommand{\\VAN}[3]{##3}\\VANthebibliography}$</div>\n",
       "\n",
       "\n",
       "\n",
       "<div id=\"title\">\n",
       "\n",
       "# The Pristine Inner Galaxy Survey (PIGS) VI: Different verticaldistributions between two DIBs at 442.8 nm and 862.1 nm\n",
       "\n",
       "</div>\n",
       "<div id=\"comments\">\n",
       "\n",
       "[![arXiv](https://img.shields.io/badge/arXiv-2211.15224-b31b1b.svg)](https://arxiv.org/abs/2211.15224)<mark>Appeared on: 2022-11-29</mark> - _13 pages, 14 figures, accepted for publication in MNRAS_\n",
       "\n",
       "</div>\n",
       "<div id=\"authors\">\n",
       "\n",
       "<mark><mark>He Zhao</mark></mark>, et al. -- incl., <mark><mark>Morgan Fouesneau</mark></mark>\n",
       "\n",
       "</div>\n",
       "<div id=\"abstract\">\n",
       "\n",
       "**Abstract:** Although diffuse interstellar bands (DIBs) were discovered over 100 years ago, for most of them, their origins are still unknown.Investigation on the correlations between different DIBs is an important way to study the behavior and distributions of their carriers.Based on stacking thousands of spectra from the Pristine Inner Galaxy Survey, we study the correlations between two DIBs at 442.8 nm($\\lambda$442.8) and 862.1 nm ($\\lambda$862.1), as well as the dust grains, in a range of latitude spanning${\\sim}22^{\\circ}$($4\\degr{<} |b| {<} 15\\degr$) toward the Galactic center ($|\\ell| {<} 11^{\\circ}$). Tight linear intensity correlationscan be found between$\\lambda$442.8,$\\lambda$862.1, and dust grains for$|b| {<} 12^{\\circ}$or$\\EBV{>} 0.3$mag.For$|b| {>} 12^{\\circ}$,$\\lambda$442.8 and$\\lambda$862.1 present larger relative strength with respect to the dust grains.A systematic variation of the relative strength between$\\lambda$442.8 and$\\lambda$862.1 with$|b|$and$\\EBV$concludes that thetwo DIBs do not share a common carrier. Furthermore, the carrier of$\\lambda$862.1 is more abundant at high latitudes than that of$\\lambda$442.8. This work can be treated as an example showing the significance and potentials to the DIB research covering alarge latitude range.\n",
       "\n",
       "</div>\n",
       "\n",
       "<div id=\"div_fig1\">\n",
       "\n",
       "<img src=\"tmp_2211.15224/./figures/bGroup.png\" alt=\"Fig5\" width=\"100%\"/>\n",
       "\n",
       "**Figure 5. -** Spatial distribution $(\\ell,b)$ of 29 PIGS fields, overplotted on the dust reddening map of \\citet{Planck2016dust}.\n",
       "    Different colors indicate different latitude groups defined in Sect. \\ref{subsect:group}, that is red: G1, $|b| {>} 12^{\\circ}$;\n",
       "    yellow: G2, $8^{\\circ} {<} |b| {<} 12^{\\circ}$ and $\\ell{>}{-}1^{\\circ}$; cyan: G3, $8^{\\circ} {<} |b| {<} 12^{\\circ}$\n",
       "    and $\\ell{<}{-}1^{\\circ}$, and blue: G4, $|b| {<} 8^{\\circ}$. The median $\\EBV$ of each filed is also indicated. (*fig:bgroup*)\n",
       "\n",
       "</div>\n",
       "<div id=\"div_fig2\">\n",
       "\n",
       "<img src=\"tmp_2211.15224/./figures/ratio-babs.png\" alt=\"Fig8\" width=\"100%\"/>\n",
       "\n",
       "**Figure 8. -** Variation of relative strength between DIBs $\\lambda$442.8, $\\lambda$862.1, and dust with Galactic latitude ($|b|$). The\n",
       "  dashed green lines indicate their average strength ratios from linear fits (see Sect. \\ref{subsect:linear}). See Sect.\n",
       "  \\ref{subsect:group} and Fig. \\ref{fig:bgroup} for the point colors representing different latitude groups. (*fig:var-b*)\n",
       "\n",
       "</div>\n",
       "<div id=\"div_fig3\">\n",
       "\n",
       "<img src=\"tmp_2211.15224/./figures/ratio-EBV.png\" alt=\"Fig9\" width=\"100%\"/>\n",
       "\n",
       "**Figure 9. -** The same as Fig. \\ref{fig:var-b}, but for the variation with $\\EBV$. (*fig:var-ebv*)\n",
       "\n",
       "</div>"
      ],
      "text/plain": [
       "<IPython.core.display.Markdown object>"
      ]
     },
     "metadata": {},
     "output_type": "display_data"
    },
    {
     "data": {
      "text/markdown": [
       "<div class=\"macros\" style=\"visibility:hidden;\">\n",
       "$\\newcommand{\\ensuremath}{}$\n",
       "$\\newcommand{\\xspace}{}$\n",
       "$\\newcommand{\\object}[1]{\\texttt{#1}}$\n",
       "$\\newcommand{\\farcs}{{.}''}$\n",
       "$\\newcommand{\\farcm}{{.}'}$\n",
       "$\\newcommand{\\arcsec}{''}$\n",
       "$\\newcommand{\\arcmin}{'}$\n",
       "$\\newcommand{\\ion}[2]{#1#2}$\n",
       "$\\newcommand{\\textsc}[1]{\\textrm{#1}}$\n",
       "$\\newcommand{\\hl}[1]{\\textrm{#1}}$\n",
       "$\\newcommand{\\vdag}{(v)^\\dagger}$\n",
       "$\\newcommand$\n",
       "$\\newcommand$\n",
       "$\\newcommand{\\logg}{\\log g }$\n",
       "$\\newcommand{\\teff}{T_\\mathrm{eff}}$\n",
       "$\\newcommand{\\feh}{[Fe/H]}$\n",
       "$\\newcommand{\\fehphot}{[Fe/H]_{\\mathrm{phot}}}$\n",
       "$\\newcommand{\\alphafe}{[\\alpha/Fe]}$\n",
       "$\\newcommand{\\rproj}{R_{\\mathrm{proj}}}$\n",
       "$\\newcommand{\\kms}{km s^{-1}}$\n",
       "$\\newcommand{\\psub}{p_{\\mathrm{sub}}}$\n",
       "$\\newcommand{\\meanfeh}{\\langle\\feh \\rangle}$\n",
       "$\\newcommand{\\meanalphafe}{\\langle\\alphafe \\rangle}$\n",
       "$\\newcommand{\\sigmaalphafe}{\\sigma\\alphafe}$\n",
       "$\\newcommand{\\sigmafeh}{\\sigma\\feh}$\n",
       "$\\newcommand{\\gradientfehism}{-0.0048\\pm0.0003}$\n",
       "$\\newcommand{\\gradientfehicsm}{-0.0075\\pm0.0003}$\n",
       "$\\newcommand{\\gradientfehiss}{-0.0070\\pm0.0007}$\n",
       "$\\newcommand{\\gradientfehicss}{-0.0050\\pm0.0003}$\n",
       "$\\newcommand{\\gradientfehicsms}{-0.0050\\pm0.0003}$\n",
       "$\\newcommand{\\gradientfehicsmslimited}{-0.0094\\pm0.0003}$\n",
       "$\\newcommand{\\gradientalphaism}{+0.0040\\pm0.0006}$\n",
       "$\\newcommand{\\gradientalphaicsm}{+0.0020\\pm0.0003}$\n",
       "$\\newcommand{\\gradientalphaiss}{+0.0001\\pm0.0008}$\n",
       "$\\newcommand{\\gradientalphaicss}{+0.0002\\pm0.0006}$\n",
       "$\\newcommand{\\gradientalphaicsms}{+0.0026\\pm0.0004}$\n",
       "$\\newcommand{\\gradientalphaicsmlimited}{+0.0055\\pm0.0020}$\n",
       "$\\newcommand{\\gradientalphaicsmslimited}{+0.0030\\pm0.0017}$\n",
       "$\\newcommand{\\meanfehGSS}{-0.859\\pm0.004}$\n",
       "$\\newcommand{\\meanalphafeGSS}{0.107\\pm0.017}$\n",
       "$\\newcommand{\\meanfehGSSsmooth}{-1.080\\pm0.005}$\n",
       "$\\newcommand{\\meanalphafeGSSsmooth}{0.340\\pm0.012}$\n",
       "$\\newcommand{\\meanfehGSSenv}{-1.459\\pm0.011}$\n",
       "$\\newcommand{\\meanalphafeGSSenv}{0.066\\pm0.026}$\n",
       "$\\newcommand{\\meanfehGSSenvsmooth}{-1.391\\pm0.013}$\n",
       "$\\newcommand{\\meanalphafeGSSenvsmooth}{0.670\\pm0.032}$\n",
       "$\\newcommand{\\meanfehSE}{-0.927\\pm0.005}$\n",
       "$\\newcommand{\\meanalphafeSE}{0.063\\pm0.017}$\n",
       "$\\newcommand{\\meanfehSEsmooth}{-0.949\\pm0.007}$\n",
       "$\\newcommand{\\meanalphafeSEsmooth}{0.357\\pm0.018}$\n",
       "$\\newcommand{\\meanfehStC}{-1.313\\pm0.007}$\n",
       "$\\newcommand{\\meanalphafeStC}{0.199\\pm0.020}$\n",
       "$\\newcommand{\\meanfehStCsmooth}{-1.599\\pm0.007}$\n",
       "$\\newcommand{\\meanalphafeStCsmooth}{0.394\\pm0.018}$</div>\n",
       "\n",
       "<div class=\"macros\" style=\"visibility:hidden;\">\n",
       "$\\newcommand{$\\ensuremath$}{}$\n",
       "$\\newcommand{$\\xspace$}{}$\n",
       "$\\newcommand{$\\object$}[1]{\\texttt{#1}}$\n",
       "$\\newcommand{$\\farcs$}{{.}''}$\n",
       "$\\newcommand{$\\farcm$}{{.}'}$\n",
       "$\\newcommand{$\\arcsec$}{''}$\n",
       "$\\newcommand{$\\arcmin$}{'}$\n",
       "$\\newcommand{$\\ion$}[2]{#1#2}$\n",
       "$\\newcommand{$\\textsc$}[1]{\\textrm{#1}}$\n",
       "$\\newcommand{$\\hl$}[1]{\\textrm{#1}}$\n",
       "$\\newcommand{$\\vdag$}{(v)^\\dagger}$\n",
       "$\\newcommand$\n",
       "$\\newcommand$\n",
       "$\\newcommand{$\\logg$}{\\log g }$\n",
       "$\\newcommand{$\\teff$}{T_\\mathrm{eff}}$\n",
       "$\\newcommand{$\\feh$}{[Fe/H]}$\n",
       "$\\newcommand{$\\feh$phot}{[Fe/H]_{\\mathrm{phot}}}$\n",
       "$\\newcommand{$\\alphafe$}{[\\alpha/Fe]}$\n",
       "$\\newcommand{$\\rproj$}{R_{\\mathrm{proj}}}$\n",
       "$\\newcommand{$\\kms$}{km s^{-1}}$\n",
       "$\\newcommand{$\\psub$}{p_{\\mathrm{sub}}}$\n",
       "$\\newcommand{$\\meanfeh$}{\\langle$\\feh$ \\rangle}$\n",
       "$\\newcommand{$\\meanalphafe$}{\\langle$\\alphafe$ \\rangle}$\n",
       "$\\newcommand{$\\sigmaalphafe$}{\\sigma$\\alphafe$}$\n",
       "$\\newcommand{$\\sigmafeh$}{\\sigma$\\feh$}$\n",
       "$\\newcommand{$\\gradientfehism$}{-0.0048\\pm0.0003}$\n",
       "$\\newcommand{$\\gradientfehicsm$}{-0.0075\\pm0.0003}$\n",
       "$\\newcommand{$\\gradientfehiss$}{-0.0070\\pm0.0007}$\n",
       "$\\newcommand{$\\gradientfehicss$}{-0.0050\\pm0.0003}$\n",
       "$\\newcommand{$\\gradientfehicsm$s}{-0.0050\\pm0.0003}$\n",
       "$\\newcommand{$\\gradientfehicsm$slimited}{-0.0094\\pm0.0003}$\n",
       "$\\newcommand{$\\gradientalphaism$}{+0.0040\\pm0.0006}$\n",
       "$\\newcommand{$\\gradientalphaicsm$}{+0.0020\\pm0.0003}$\n",
       "$\\newcommand{$\\gradientalphaiss$}{+0.0001\\pm0.0008}$\n",
       "$\\newcommand{$\\gradientalphaicss$}{+0.0002\\pm0.0006}$\n",
       "$\\newcommand{$\\gradientalphaicsm$s}{+0.0026\\pm0.0004}$\n",
       "$\\newcommand{$\\gradientalphaicsm$limited}{+0.0055\\pm0.0020}$\n",
       "$\\newcommand{$\\gradientalphaicsm$slimited}{+0.0030\\pm0.0017}$\n",
       "$\\newcommand{$\\meanfeh$GSS}{-0.859\\pm0.004}$\n",
       "$\\newcommand{$\\meanalphafe$GSS}{0.107\\pm0.017}$\n",
       "$\\newcommand{$\\meanfeh$GSSsmooth}{-1.080\\pm0.005}$\n",
       "$\\newcommand{$\\meanalphafe$GSSsmooth}{0.340\\pm0.012}$\n",
       "$\\newcommand{$\\meanfeh$GSSenv}{-1.459\\pm0.011}$\n",
       "$\\newcommand{$\\meanalphafe$GSSenv}{0.066\\pm0.026}$\n",
       "$\\newcommand{$\\meanfeh$GSSenvsmooth}{-1.391\\pm0.013}$\n",
       "$\\newcommand{$\\meanalphafe$GSSenvsmooth}{0.670\\pm0.032}$\n",
       "$\\newcommand{$\\meanfeh$SE}{-0.927\\pm0.005}$\n",
       "$\\newcommand{$\\meanalphafe$SE}{0.063\\pm0.017}$\n",
       "$\\newcommand{$\\meanfeh$SEsmooth}{-0.949\\pm0.007}$\n",
       "$\\newcommand{$\\meanalphafe$SEsmooth}{0.357\\pm0.018}$\n",
       "$\\newcommand{$\\meanfeh$StC}{-1.313\\pm0.007}$\n",
       "$\\newcommand{$\\meanalphafe$StC}{0.199\\pm0.020}$\n",
       "$\\newcommand{$\\meanfeh$StCsmooth}{-1.599\\pm0.007}$\n",
       "$\\newcommand{$\\meanalphafe$StCsmooth}{0.394\\pm0.018}$</div>\n",
       "\n",
       "\n",
       "\n",
       "<div id=\"title\">\n",
       "\n",
       "#  throughout the M31 Halo with SPLASH\n",
       "\n",
       "</div>\n",
       "<div id=\"comments\">\n",
       "\n",
       "[![arXiv](https://img.shields.io/badge/arXiv-2211.15288-b31b1b.svg)](https://arxiv.org/abs/2211.15288)<mark>Appeared on: 2022-11-29</mark> - _Submitted to ApJ_\n",
       "\n",
       "</div>\n",
       "<div id=\"authors\">\n",
       "\n",
       "<mark>J. Leigh Wojno</mark>, et al.\n",
       "\n",
       "</div>\n",
       "<div id=\"abstract\">\n",
       "\n",
       "**Abstract:** We present spectroscopic chemical abundances of red giant branch (RGB) stars in Andromeda (M31), using medium resolution ($R\\sim6000$) spectra obtained via the Spectroscopic and Photometric Landscape of Andromeda's Stellar Halo (SPLASH) survey. In addition to individual chemical abundances, we coadd low signal-to-noise ratio (S/N) spectra of stars to obtain a high enough to measure average$\\feh$and$\\alphafe$abundances. We obtain individual and coadded measurements for$\\feh$and$\\alphafe$for M31 halo stars, covering a range of 9--180 kpc in projected radius from the center of M31. With these measurements, we greatly increase the number of outer halo ($\\rproj$$> 50$kpc) M31 stars with spectroscopic$\\feh$and$\\alphafe$, adding abundance measurements for 45 individual stars and 33 coadds from a pool of an additional 174 stars. We measure the spectroscopic metallicity ($\\feh$) gradient, finding a negative radial gradient of$-0.0050\\pm0.0003$for all stars in the halo, consistent with gradient measurements obtained using photometric metallicities. Using the first measurements of$\\alphafe$for M31 halo stars covering a large range of projected radii, we find a positive gradient ($+0.0026\\pm0.0004$) in$\\alphafe$as a function of projected radius. We also explore the distribution in$\\feh$--$\\alphafe$space as a function of projected radius for both individual and coadded measurements in the smooth halo, and compare these measurements to those stars potentially associated with substructure. These spectroscopic abundance distributions highlight the substantial evidence that M31 has had an appreciably different formation and merger history compared to our own Galaxy.\n",
       "\n",
       "</div>\n",
       "\n",
       "<div id=\"div_fig1\">\n",
       "\n",
       "<img src=\"tmp_2211.15288/./figures/feh_gradient_all.png\" alt=\"Fig7\" width=\"100%\"/>\n",
       "\n",
       "**Figure 7. -** Spectroscopic $\\feh$ versus projected radius for stars with individual/coadded (filled/open circles) $\\feh$ measurements.  Grey points are photometric $\\feh$ measurements for our sample. Top left: The best-fit spectroscopic $\\feh$ gradient for individual smooth halo stars (Section \\ref{sec:feh_smooth_halo}, solid black), where the shaded regions indicate a 1$\\sigma$ standard deviation. The red dotted line represents the gradient measured by \\citet{gilbert14} for smooth halo stars, using photometric $\\feh$. The magenta line shows the best-fit gradient calculated using both individual stars and coadds (Section \\ref{sec:coadded_abundances}). Bottom left: Individual and coadded (filled/open circles) $\\feh$ measurements, but for a limited radial range ($\\rproj$$< 35$ kpc). The sample of \\citet{escala20b} is shown as light blue points, and the gradient measured with their sample is shown as a dashed blue line. The solid magenta line is the same as the top-left panel. We also show the fit after limiting our sample to the same radial range (dashed magenta). Top right: Individual/coadded (filled/open dark blue squares) $\\feh$ measurements for stars potentially associated with substructure (Section \\ref{sec:substructure_probability}), with the best-fit gradient to individual and coadded measurements from the substructure sample (cyan), and the gradient including all stars (both the smooth halo and substructure samples; blue). The photometric $\\feh$ gradient from \\citet{gilbert14}, fit using smooth halo and substructure stars, is shown as a dashed purple line. Bottom right: The same as above, but for a limited range ($\\rproj$$<90$kpc). Regardless of our sample selection, we recover a statistically significant metallicity gradient in the halo of M31. (*fig:metallicity_gradient_individ*)\n",
       "\n",
       "</div>\n",
       "<div id=\"div_fig2\">\n",
       "\n",
       "<img src=\"tmp_2211.15288/./figures/substr_comparison_gss.png\" alt=\"Fig11\" width=\"100%\"/>\n",
       "\n",
       "**Figure 11. -** Top left: Histogram of the radial velocities for smooth halo stars with secure abundances in the radial range $15 <$\\rproj$< 50$ kpc (grey) and stars associated with substructure in fields on the GSS core (f207, f2, a3; green). The vertical lines represent the mean line-of-sight velocity for the GSS (purple),\n",
       "    and the secondary kinematically cold component (light green, Section \\ref{sec:substructure_gss}) for each field shown \\citep[][see their Table 4]{gilbert18}. The shaded regions indicate the corresponding velocity dispersion.\n",
       "    The systemic velocity ($-300.0$\\kms) of M31 is in grey. Top right: histograms of spectroscopic $\\feh$ for the smooth halo (grey), individual (15 stars; solid green) and coadded stars potentially associated with substructure in these fields (27 coadds representing 136 stars; dashed green). Bottom left: Spectroscopic $\\feh$ as a function of line-of-sight velocity for substructure stars (outlined green symbols) and smooth halo stars (grey). We show the same mean and dispersion velocity for the GSS and KCC as in the top left panel.\n",
       "    Bottom right: $\\feh$\\--$\\alphafe$ measurements for individual substructure stars (open green symbols), as well as coadded groupings of stars (filled green symbols).\n",
       "    We also show the $\\feh$\\--$\\alphafe$ distribution of smooth halo stars in grey. Solid lines show the mean $\\feh$ and $\\alphafe$ for the entire substructure sample (green), and the smooth halo (grey). (*fig:substr_comparison_gss*)\n",
       "\n",
       "</div>\n",
       "<div id=\"div_fig3\">\n",
       "\n",
       "<img src=\"tmp_2211.15288/./figures/alphafe_gradient_all.png\" alt=\"Fig8\" width=\"100%\"/>\n",
       "\n",
       "**Figure 8. -** The same as Figure \\ref{fig:metallicity_gradient_individ}, but for the abundance gradient with respect to $\\alphafe$. Top left: The best-fit spectroscopic $\\alphafe$ gradient fit to individual and coadded abundance measurements is shown as a solid magenta line, with the shaded regions indicating a 1$\\sigma$ standard deviation. The gradient fit using only individual measurements is shown as a black line. Bottom left: Zoomed in version of the top panel, now showing spectroscopic measurements from \\citet{escala20b}(blue points), with their gradient (blue dashed line). Using the same radial range as in \\citet{escala20b}, we find a gradient of $\\gradientalphaicsm$limited dex kpc$^{-1}$(magenta dashed line). Top right: The best-fit gradient for individual and coadded stars associated with substructure is shown as the light blue line, with the gradient measured for all stars (individual and coadded, smooth halo and substructure) shown in dark blue. Bottom right: Zoomed in version of the top right panel, showing the best-fit gradient of all stars restricted to the same radial range as in \\citet{escala20b}($\\gradientalphaicsm$slimited dex kpc$^{-1}$, blue dotted line). (*fig:alphafe_gradient*)\n",
       "\n",
       "</div>"
      ],
      "text/plain": [
       "<IPython.core.display.Markdown object>"
      ]
     },
     "metadata": {},
     "output_type": "display_data"
    },
    {
     "data": {
      "text/markdown": [
       "<div class=\"macros\" style=\"visibility:hidden;\">\n",
       "$\\newcommand{\\ensuremath}{}$\n",
       "$\\newcommand{\\xspace}{}$\n",
       "$\\newcommand{\\object}[1]{\\texttt{#1}}$\n",
       "$\\newcommand{\\farcs}{{.}''}$\n",
       "$\\newcommand{\\farcm}{{.}'}$\n",
       "$\\newcommand{\\arcsec}{''}$\n",
       "$\\newcommand{\\arcmin}{'}$\n",
       "$\\newcommand{\\ion}[2]{#1#2}$\n",
       "$\\newcommand{\\textsc}[1]{\\textrm{#1}}$\n",
       "$\\newcommand{\\hl}[1]{\\textrm{#1}}$\n",
       "$\\newcommand{\\angstrom}{\\mbox{\\normalfont\\AA}}$\n",
       "$\\newcommand{\\todo}[1]{\\textcolor{red}{#1}}$\n",
       "$\\newcommand{\\verify}[1]{\\textcolor{violet}{#1}}$\n",
       "$\\newcommand{\\ok}[1]{\\textcolor{green}{#1}}$\n",
       "$\\newcommand{\\Lsun}{L_\\odot}$\n",
       "$\\newcommand{\\Msun}{M_\\odot}$\n",
       "$\\newcommand{\\MJ}{M_\\mathrm{J}}$\n",
       "$\\newcommand{\\Mp}{M_\\mathrm{p}}$\n",
       "$\\newcommand{\\Macc}{\\dot{M}_\\mathrm{acc}}$\n",
       "$\\newcommand{\\RJ}{R_\\mathrm{J}}$\n",
       "$\\newcommand{\\Rp}{R_\\mathrm{p}}$\n",
       "$\\newcommand{\\Teff}{T_{\\text{eff}}}$\n",
       "$\\newcommand{\\MJyr}{\\MJ \\mathrm{yr}^{-1}}$\n",
       "$\\newcommand{\\Rd}{R_\\mathrm{dust}}$\n",
       "$\\newcommand{\\Rg}{R_\\mathrm{gas}}$\n",
       "$\\newcommand{\\micron}{\\mu\\mathrm{m}}$\n",
       "$\\newcommand{\\Lacc}{L_\\mathrm{acc}}$\n",
       "$\\newcommand{\\arraystretch}{1.25}$\n",
       "$\\newcommand{\\arraystretch}{1.45}$\n",
       "$\\newcommand{\\arraystretch}{1.25}$</div>\n",
       "\n",
       "<div class=\"macros\" style=\"visibility:hidden;\">\n",
       "$\\newcommand{$\\ensuremath$}{}$\n",
       "$\\newcommand{$\\xspace$}{}$\n",
       "$\\newcommand{$\\object$}[1]{\\texttt{#1}}$\n",
       "$\\newcommand{$\\farcs$}{{.}''}$\n",
       "$\\newcommand{$\\farcm$}{{.}'}$\n",
       "$\\newcommand{$\\arcsec$}{''}$\n",
       "$\\newcommand{$\\arcmin$}{'}$\n",
       "$\\newcommand{$\\ion$}[2]{#1#2}$\n",
       "$\\newcommand{$\\textsc$}[1]{\\textrm{#1}}$\n",
       "$\\newcommand{$\\hl$}[1]{\\textrm{#1}}$\n",
       "$\\newcommand{$\\angstrom$}{\\mbox{\\normalfont\\AA}}$\n",
       "$\\newcommand{$\\todo$}[1]{\\textcolor{red}{#1}}$\n",
       "$\\newcommand{$\\verify$}[1]{\\textcolor{violet}{#1}}$\n",
       "$\\newcommand{$\\ok$}[1]{\\textcolor{green}{#1}}$\n",
       "$\\newcommand{$\\Lsun$}{L_\\odot}$\n",
       "$\\newcommand{$\\Msun$}{M_\\odot}$\n",
       "$\\newcommand{$\\MJ$}{M_\\mathrm{J}}$\n",
       "$\\newcommand{$\\Mp$}{M_\\mathrm{p}}$\n",
       "$\\newcommand{$\\Macc$}{\\dot{M}_\\mathrm{acc}}$\n",
       "$\\newcommand{$\\RJ$}{R_\\mathrm{J}}$\n",
       "$\\newcommand{$\\Rp$}{R_\\mathrm{p}}$\n",
       "$\\newcommand{$\\Teff$}{T_{\\text{eff}}}$\n",
       "$\\newcommand{$\\MJ$yr}{$\\MJ$ \\mathrm{yr}^{-1}}$\n",
       "$\\newcommand{$\\Rd$}{R_\\mathrm{dust}}$\n",
       "$\\newcommand{$\\Rg$}{R_\\mathrm{gas}}$\n",
       "$\\newcommand{$\\micron$}{\\mu\\mathrm{m}}$\n",
       "$\\newcommand{$\\Lacc$}{L_\\mathrm{acc}}$\n",
       "$\\newcommand{$\\arraystretch$}{1.25}$\n",
       "$\\newcommand{$\\arraystretch$}{1.45}$\n",
       "$\\newcommand{$\\arraystretch$}{1.25}$</div>\n",
       "\n",
       "\n",
       "\n",
       "<div id=\"title\">\n",
       "\n",
       "# The reduced images and contrast curves are only available at the CDS via anonymous ftp to cdsarc.u-strasbg.fr (130.79.128.5) or via https://cdsarc.u-strasbg.fr/viz-bin/qcat?J/A+A/\n",
       "\n",
       "</div>\n",
       "<div id=\"comments\">\n",
       "\n",
       "[![arXiv](https://img.shields.io/badge/arXiv-2211.15434-b31b1b.svg)](https://arxiv.org/abs/2211.15434)<mark>Appeared on: 2022-11-29</mark> - _25 pages, 16 figures, 3 tables, accepted for publication in A&A_\n",
       "\n",
       "</div>\n",
       "<div id=\"authors\">\n",
       "\n",
       "Gabriele Cugno, et al. -- incl., <mark><mark>Ralf Launhardt</mark></mark>, <mark><mark>Thomas Henning</mark></mark>, <mark><mark>André Müller</mark></mark>\n",
       "\n",
       "</div>\n",
       "<div id=\"abstract\">\n",
       "\n",
       "**Abstract:** We present the statistical analysis of a subsample of 45 young stars surrounded by protoplanetary disks (PPDs). This is the largest imaging survey uniquely focused on PPDs to date. Our goal is to search for young forming companions embedded in the disk material and to constrain their occurrence rate in relation to the formation mechanism. We used principal component analysis based point spread function subtraction techniques to reveal young companions forming in the disks. We calculated detection limits for our datasets and adopted a black-body model to derive temperature upper limits of potential forming planets. We then used Monte Carlo simulations to constrain the population of forming gas giant companions and compare our results to different types of formation scenarios. Our data revealed a new binary system (HD38120) and a recently identified triple system with a brown dwarf companion orbiting a binary system (HD101412), in addition to 12 known companions. Furthermore, we detected signals from 17 disks, two of which (HD72106 and TCrA) were imaged for the first time. We reached median detection limits of L =15.4 mag at 2.0 arcsec, which were used to investigate the temperature of potentially embedded forming companions. We can constrain the occurrence of forming planets with semi-major axis a in [20 - 500] au and Teff in [600 - 3000] K, in line with the statistical results obtained for more evolved systems from other direct imaging surveys. The NaCo-ISPY data confirm that massive bright planets accreting at high rates are rare. More powerful instruments with better sensitivity in the near- to mid-infrared are likely required to unveil the wealth of forming planets sculpting the observed disk substructures. \n",
       "\n",
       "</div>\n",
       "\n",
       "<div id=\"div_fig1\">\n",
       "\n",
       "<img src=\"tmp_2211.15434/./System_properties.png\" alt=\"Fig1\" width=\"100%\"/>\n",
       "\n",
       "**Figure 1. -** Stellar and disk parameters for the objects in the ISPY PPD sample. In the top row the histogram for the distances (left) and $L'$ observed magnitudes (right) are reported. Stellar effective temperatures (left) and masses (right) are shown in the middle row. Finally, the bottom row provides the distributions of the disk outer radius (gas and mm-dust) on the left and disk inclinations (whenever measured) on the right. The dashed vertical lines represent the distance cutoff applied in Sect. \\ref{sec:additional_selection}({\\it top left panel}) and the limiting brightness for the coronagraphic observations ({\\it top right panel}), respectively. (*fig:system_properties*)\n",
       "\n",
       "</div>\n",
       "<div id=\"div_fig2\">\n",
       "\n",
       "<img src=\"tmp_2211.15434/./Completeness_all.png\" alt=\"Fig11\" width=\"100%\"/>\n",
       "\n",
       "**Figure 11. -** Depth of search for the 45 ISPY-PPD targets included in the analysis, reporting the number of stars to which the survey is complete for young forming planets in the $\\Teff-a$ parameter space. The three plots represent maps when assuming $\\Rp=2,3,5 $\\RJ$$({\\it left, mid} and {\\it right} panels, respectively). Overplotted as full black marker the companion HD101412 B.  (*fig:prob_map*)\n",
       "\n",
       "</div>\n",
       "<div id=\"div_fig3\">\n",
       "\n",
       "<img src=\"tmp_2211.15434/./Completeness_extinction.png\" alt=\"Fig16\" width=\"100%\"/>\n",
       "\n",
       "**Figure 16. -** Survey completeness maps obtained considering an additional extinction factor $A_{L'}=1.0$ mag. The three plots represent maps when assuming $\\Rp=2,3,5 $\\RJ$$({\\it left, middle} and {\\it right} panels, respectively). Solid contours limit the areas with completeness $2$, $10$ and $20$, while dotted lines are reported from Fig. \\ref{fig:prob_map} and limit the same detection probability values when no extinction effects are included, thus allowing the direct comparison between the two cases. (*fig:map_extinction*)\n",
       "\n",
       "</div>"
      ],
      "text/plain": [
       "<IPython.core.display.Markdown object>"
      ]
     },
     "metadata": {},
     "output_type": "display_data"
    },
    {
     "data": {
      "text/markdown": [
       "<div class=\"macros\" style=\"visibility:hidden;\">\n",
       "$\\newcommand{\\ensuremath}{}$\n",
       "$\\newcommand{\\xspace}{}$\n",
       "$\\newcommand{\\object}[1]{\\texttt{#1}}$\n",
       "$\\newcommand{\\farcs}{{.}''}$\n",
       "$\\newcommand{\\farcm}{{.}'}$\n",
       "$\\newcommand{\\arcsec}{''}$\n",
       "$\\newcommand{\\arcmin}{'}$\n",
       "$\\newcommand{\\ion}[2]{#1#2}$\n",
       "$\\newcommand{\\textsc}[1]{\\textrm{#1}}$\n",
       "$\\newcommand{\\hl}[1]{\\textrm{#1}}$\n",
       "$\\newcommand{\\Rp}{R_p}$\n",
       "$\\newcommand{\\Mp}{M_p}$\n",
       "$\\newcommand{\\Rs}{R_{\\star}}$\n",
       "$\\newcommand{\\aRs}{a/R_{\\star}}$\n",
       "$\\newcommand{\\JDUTC}{JD_{\\textnormal{UTC}}}$\n",
       "$\\newcommand{\\RpRs}{\\Rp/\\Rs}$\n",
       "$\\newcommand{\\Rjup}{R_{\\textnormal{J}}}$\n",
       "$\\newcommand{\\Mjup}{M_{\\textnormal{J}}}$\n",
       "$\\newcommand{\\Teq}{T_{\\textnormal{eq}}}$\n",
       "$\\newcommand{\\RE}{R_{\\Earth}}$\n",
       "$\\newcommand{\\ME}{M_{\\Earth}}$\n",
       "$\\newcommand{\\RS}{R_{\\odot}}$\n",
       "$\\newcommand{\\mb}{\\mathbf}$\n",
       "$\\newcommand{\\gb}{\\boldsymbol}$\n",
       "$\\newcommand{\\tn}{\\textnormal}$\n",
       "$\\newcommand{\\um}{\\mu\\textnormal{m}}$\n",
       "$\\newcommand{\\Teff}{T_{\\textnormal{eff}}}$\n",
       "$\\newcommand{\\FeH}{[{\\rm{Fe}/\\rm{H}}]}$\n",
       "$\\newcommand{\\logg}{\\log_{10} g}$\n",
       "$\\newcommand{\\XHtwoO}{X_{\\rm{H}_2\\rm{O}}}$</div>\n",
       "\n",
       "<div class=\"macros\" style=\"visibility:hidden;\">\n",
       "$\\newcommand{$\\ensuremath$}{}$\n",
       "$\\newcommand{$\\xspace$}{}$\n",
       "$\\newcommand{$\\object$}[1]{\\texttt{#1}}$\n",
       "$\\newcommand{$\\farcs$}{{.}''}$\n",
       "$\\newcommand{$\\farcm$}{{.}'}$\n",
       "$\\newcommand{$\\arcsec$}{''}$\n",
       "$\\newcommand{$\\arcmin$}{'}$\n",
       "$\\newcommand{$\\ion$}[2]{#1#2}$\n",
       "$\\newcommand{$\\textsc$}[1]{\\textrm{#1}}$\n",
       "$\\newcommand{$\\hl$}[1]{\\textrm{#1}}$\n",
       "$\\newcommand{$\\Rp$}{R_p}$\n",
       "$\\newcommand{$\\Mp$}{M_p}$\n",
       "$\\newcommand{$\\Rs$}{R_{\\star}}$\n",
       "$\\newcommand{$\\aRs$}{a/R_{\\star}}$\n",
       "$\\newcommand{$\\JDUTC$}{JD_{\\textnormal{UTC}}}$\n",
       "$\\newcommand{$\\Rp$Rs}{$\\Rp$/$\\Rs$}$\n",
       "$\\newcommand{$\\Rjup$}{R_{\\textnormal{J}}}$\n",
       "$\\newcommand{$\\Mjup$}{M_{\\textnormal{J}}}$\n",
       "$\\newcommand{$\\Teq$}{T_{\\textnormal{eq}}}$\n",
       "$\\newcommand{$\\RE$}{R_{\\Earth}}$\n",
       "$\\newcommand{$\\ME$}{M_{\\Earth}}$\n",
       "$\\newcommand{$\\RS$}{R_{\\odot}}$\n",
       "$\\newcommand{$\\mb$}{\\mathbf}$\n",
       "$\\newcommand{$\\gb$}{\\boldsymbol}$\n",
       "$\\newcommand{$\\tn$}{\\textnormal}$\n",
       "$\\newcommand{$\\um$}{\\mu\\textnormal{m}}$\n",
       "$\\newcommand{$\\Teff$}{T_{\\textnormal{eff}}}$\n",
       "$\\newcommand{$\\FeH$}{[{\\rm{Fe}/\\rm{H}}]}$\n",
       "$\\newcommand{$\\logg$}{\\log_{10} g}$\n",
       "$\\newcommand{$\\XHtwoO$}{X_{\\rm{H}_2\\rm{O}}}$</div>\n",
       "\n",
       "\n",
       "\n",
       "<div id=\"title\">\n",
       "\n",
       "# Hubble Space Telescope transmission spectroscopy for the temperate sub-Neptune TOI-270d: a possible hydrogen-rich atmosphere containing water vapour\n",
       "\n",
       "</div>\n",
       "<div id=\"comments\">\n",
       "\n",
       "[![arXiv](https://img.shields.io/badge/arXiv-2211.15576-b31b1b.svg)](https://arxiv.org/abs/2211.15576)<mark>Appeared on: 2022-11-29</mark> - _Accepted for publication in AAS journals on November 22, 2022 (received July 5, 2022; revised October 30, 2022)_\n",
       "\n",
       "</div>\n",
       "<div id=\"authors\">\n",
       "\n",
       "<mark>Thomas Mikal-Evans</mark>, et al. -- incl., <mark>Laura Kreidberg</mark>\n",
       "\n",
       "</div>\n",
       "<div id=\"abstract\">\n",
       "\n",
       "**Abstract:** TOI-270 d is a temperate sub-Neptune discovered by the Transiting Exoplanet Survey Satellite (TESS) around a bright ($J=9.1$mag) M3V host star. With an approximate radius of$2 $\\RE$$and equilibrium temperature of 350 K, TOI-270 d is one of the most promising small exoplanets for atmospheric characterisation using transit spectroscopy. Here we present a primary transit observation of TOI-270 d made with the Hubble Space Telescope (HST) Wide Field Camera 3 (WFC3) spectrograph across the 1.126-1.644$\\um$wavelength range, and a 95\\%credible upper limit of$8.2 \\times 10^{-14}$erg s$^{-1}$cm$^{-2}$\\AA$^{-1}$arcsec$^{-2}$for the stellar Ly$\\alpha$emission obtained using the Space Telescope Imaging Spectrograph (STIS). The transmission spectrum derived from the TESS and WFC3 data provides evidence for molecular absorption by a hydrogen-rich atmosphere at${4\\sigma}$significance relative to a featureless spectrum. The strongest evidence for any individual absorber is obtained for H$_2$O, which is favoured at 3$\\sigma$significance. When retrieving on the WFC3 data alone and allowing for the possibility of a heterogeneous stellar brightness profile, the detection significance of H$_2$O is reduced to 2.8$\\sigma$. Further observations are therefore required to robustly determine the atmospheric composition of TOI-270 d and assess the impact of stellar heterogeneity. If confirmed, our findings would make TOI-270 d one of the smallest and coolest exoplanets to date with detected atmospheric spectral features.\n",
       "\n",
       "</div>\n",
       "\n",
       "<div id=\"div_fig1\">\n",
       "\n",
       "<img src=\"tmp_2211.15576/./2d_Image.png\" alt=\"Fig4.1\" width=\"50%\"/><img src=\"tmp_2211.15576/./2d_Image_2.png\" alt=\"Fig4.2\" width=\"50%\"/>\n",
       "\n",
       "**Figure 4. -** Calibrated HST STIS Ly$\\alpha$ observations of TOI-270. \\textit{(Top)} Calibrated spectrum taken on 2020 January 31. Wavelength dispersion direction is along the horizontal axis. The bright stripe down the middle is the Earth's Ly$\\alpha$ geocoronal emission. Ly$\\alpha$ emission from TOI-270 would be visible alongside this line at the Doppler shift corresponding to the velocity difference between HST and the target. We find no significant evidence of Ly$\\alpha$ emission in this exposure. \\textit{(Bottom)} Identical as above, but for a second exposure taken on 2020 January 29.  (*fig:STIS_UV*)\n",
       "\n",
       "</div>\n",
       "<div id=\"div_fig2\">\n",
       "\n",
       "<img src=\"tmp_2211.15576/./limbDarkening_Coefficients.png\" alt=\"Fig6\" width=\"100%\"/>\n",
       "\n",
       "**Figure 6. -** Coefficients ($u_1$, $u_2$) for a quadratic stellar limb darkening law obtained using ExoCTK and PyLDTK. Separate sets of ExoCTK coefficients were computed assuming an ATLAS 9 (blue circles) and Phoenix ACES (red circles) stellar model. The PyLDTK coefficients (black points) assume a Phoenix ACES stellar model. Posterior distributions obtained from the light curve fits are shown as orange diamonds, with $1\\sigma$ credible intervals that are smaller than the marker symbols. (*fig:limbDarkeningCoeffs*)\n",
       "\n",
       "</div>\n",
       "<div id=\"div_fig3\">\n",
       "\n",
       "<img src=\"tmp_2211.15576/./alldata_noSH_spectrum.png\" alt=\"Fig9.1\" width=\"50%\"/><img src=\"tmp_2211.15576/./alldata_SH_spectrum.png\" alt=\"Fig9.2\" width=\"50%\"/>\n",
       "\n",
       "**Figure 9. -** Observations and retrieval of the transmission spectrum of TOI-270 d. Top: Retrieval with baseline planetary atmosphere model and no stellar heterogeneity. Bottom: Retrieval including stellar heterogeneity. Both retrievals included the TESS (photometric point at 0.8 $\\mu$m) and WFC3 (spectrum between 1.1-1.7 $\\mu$m) data, shown in red. The blue curve shows the median-fit model spectrum and the light blue shaded regions show the $1\\sigma$ and $2\\sigma$ credible ranges. The binned model points for the median-fit spectrum are shown as yellow circles. (*fig:spectrum*)\n",
       "\n",
       "</div>"
      ],
      "text/plain": [
       "<IPython.core.display.Markdown object>"
      ]
     },
     "metadata": {},
     "output_type": "display_data"
    }
   ],
   "source": [
    "[display(Markdown(k[1])) for k in documents];"
   ]
  },
  {
   "cell_type": "markdown",
   "id": "873873a4",
   "metadata": {
    "papermill": {
     "duration": 0.016452,
     "end_time": "2022-11-29T04:19:29.324652",
     "exception": false,
     "start_time": "2022-11-29T04:19:29.308200",
     "status": "completed"
    },
    "tags": []
   },
   "source": [
    "# Create HTML index"
   ]
  },
  {
   "cell_type": "code",
   "execution_count": 10,
   "id": "cf665672",
   "metadata": {
    "execution": {
     "iopub.execute_input": "2022-11-29T04:19:29.359359Z",
     "iopub.status.busy": "2022-11-29T04:19:29.359007Z",
     "iopub.status.idle": "2022-11-29T04:19:29.370279Z",
     "shell.execute_reply": "2022-11-29T04:19:29.369645Z"
    },
    "papermill": {
     "duration": 0.031038,
     "end_time": "2022-11-29T04:19:29.372097",
     "exception": false,
     "start_time": "2022-11-29T04:19:29.341059",
     "status": "completed"
    },
    "tags": []
   },
   "outputs": [
    {
     "name": "stdout",
     "output_type": "stream",
     "text": [
      "109  publications in the last 7 days.\n",
      "\t _build/html/2211.15576.md\n",
      "\t _build/html/2211.15434.md\n",
      "\t _build/html/2211.15288.md\n",
      "\t _build/html/2211.15224.md\n",
      "\t _build/html/2211.14543.md\n",
      "\t _build/html/2211.14330.md\n",
      "\t _build/html/2211.14322.md\n",
      "\t _build/html/2211.14132.md\n",
      "\t _build/html/2211.13811.md\n",
      "\t _build/html/2211.13426.md\n",
      "\t _build/html/2211.13318.md\n",
      "\t _build/html/2211.13146.md\n",
      "\t _build/html/2211.12613.md\n",
      "\t _build/html/2211.11767.md\n",
      "\t _build/html/2211.09840.md\n",
      "\t _build/html/2211.09217.md\n",
      "\t _build/html/2211.08493.md\n",
      "\t _build/html/2211.08487.md\n",
      "\t _build/html/2211.08294.md\n",
      "\t _build/html/2211.07667.md\n",
      "\t _build/html/2211.07659.md\n",
      "\t _build/html/2211.06454.md\n",
      "\t _build/html/2211.06205.md\n",
      "\t _build/html/2211.06194.md\n",
      "\t _build/html/2211.05022.md\n",
      "\t _build/html/2211.04048.md\n",
      "\t _build/html/2211.03641.md\n",
      "\t _build/html/2211.02502.md\n",
      "\t _build/html/2211.01474.md\n",
      "\t _build/html/2211.00667.md\n",
      "\t _build/html/2211.00657.md\n",
      "\t _build/html/2211.00087.md\n",
      "\t _build/html/2211.00036.md\n",
      "\t _build/html/2211.00020.md\n",
      "\t _build/html/2211.00010.md\n",
      "\t _build/html/2210.17434.md\n",
      "\t _build/html/2210.12412.md\n",
      "\t _build/html/2210.11926.md\n",
      "\t _build/html/2210.11551.md\n",
      "\t _build/html/2210.11103.md\n",
      "\t _build/html/2210.10707.md\n",
      "\t _build/html/2210.09930.md\n",
      "\t _build/html/2210.08996.md\n",
      "\t _build/html/2210.08517.md\n",
      "\t _build/html/2210.08510.md\n",
      "\t _build/html/2210.08078.md\n",
      "\t _build/html/2210.06504.md\n",
      "\t _build/html/2210.05695.md\n",
      "\t _build/html/2210.05595.md\n",
      "\t _build/html/2210.05505.md\n",
      "\t _build/html/2210.04721.md\n",
      "\t _build/html/2210.03615.md\n",
      "\t _build/html/2210.01811.md\n",
      "\t _build/html/2210.01809.md\n",
      "\t _build/html/2210.01556.md\n",
      "\t _build/html/2210.00863.md\n",
      "\t _build/html/2210.00560.md\n",
      "\t _build/html/2209.15403.md\n",
      "\t _build/html/2209.15110.md\n",
      "\t _build/html/2209.14410.md\n",
      "\t _build/html/2209.14396.md\n",
      "\t _build/html/2209.13717.md\n",
      "\t _build/html/2209.13336.md\n",
      "\t _build/html/2209.12906.md\n",
      "\t _build/html/2209.11781.md\n",
      "\t _build/html/2209.11602.md\n",
      "\t _build/html/2209.11248.md\n",
      "\t _build/html/2209.11096.md\n",
      "\t _build/html/2209.10618.md\n",
      "\t _build/html/2209.09914.md\n",
      "\t _build/html/2209.09823.md\n",
      "\t _build/html/2209.08242.md\n",
      "\t _build/html/2209.08120.md\n",
      "\t _build/html/2209.08106.md\n",
      "\t _build/html/2209.07962.md\n",
      "\t _build/html/2209.07931.md\n",
      "\t _build/html/2209.06833.md\n",
      "\t _build/html/2209.05814.md\n",
      "\t _build/html/2209.05593.md\n",
      "\t _build/html/2209.04304.md\n",
      "\t _build/html/2209.03367.md\n",
      "\t _build/html/2209.02872.md\n",
      "\t _build/html/2209.02725.md\n",
      "\t _build/html/2209.02722.md\n",
      "\t _build/html/2209.02092.md\n",
      "\t _build/html/2209.01125.md\n",
      "\t _build/html/2209.00828.md\n",
      "\t _build/html/2209.00363.md\n",
      "\t _build/html/2208.14927.md\n",
      "\t _build/html/2208.09335.md\n",
      "\t _build/html/2208.08872.md\n",
      "\t _build/html/2204.06393.md\n",
      "\t _build/html/2204.03335.md\n",
      "\t _build/html/2204.03253.md\n",
      "\t _build/html/2204.02998.md\n",
      "\t _build/html/2204.02109.md\n",
      "\t _build/html/2204.02017.md\n",
      "\t _build/html/2204.01824.md\n",
      "\t _build/html/2204.01758.md\n",
      "\t _build/html/2204.01245.md\n",
      "\t _build/html/2204.00793.md\n",
      "\t _build/html/2204.00342.md\n",
      "\t _build/html/2203.16959.md\n",
      "\t _build/html/2203.16856.md\n",
      "\t _build/html/2203.16735.md\n",
      "\t _build/html/2203.16734.md\n",
      "\t _build/html/2203.16504.md\n",
      "\t _build/html/2203.15822.md\n",
      "\t _build/html/2203.15811.md\n"
     ]
    }
   ],
   "source": [
    "from datetime import datetime, timedelta, timezone\n",
    "from glob import glob\n",
    "\n",
    "files = glob('_build/html/*.md')\n",
    "days = 7\n",
    "now = datetime.today()\n",
    "res = []\n",
    "for fk in files:\n",
    "    stat_result = os.stat(fk).st_ctime\n",
    "    modified = datetime.fromtimestamp(stat_result, tz=timezone.utc).replace(tzinfo=None)\n",
    "    delta = now.today() - modified\n",
    "    if delta <= timedelta(days=days):\n",
    "        res.append((delta.seconds, fk))\n",
    "res = [k[1] for k in reversed(sorted(res, key=lambda x:x[1]))]\n",
    "npub = len(res)\n",
    "print(len(res), f\" publications in the last {days:d} days.\")\n",
    "[ print('\\t', k) for k in res ];"
   ]
  },
  {
   "cell_type": "code",
   "execution_count": 11,
   "id": "52ca0208",
   "metadata": {
    "execution": {
     "iopub.execute_input": "2022-11-29T04:19:29.407116Z",
     "iopub.status.busy": "2022-11-29T04:19:29.406779Z",
     "iopub.status.idle": "2022-11-29T04:19:29.414273Z",
     "shell.execute_reply": "2022-11-29T04:19:29.413602Z"
    },
    "papermill": {
     "duration": 0.027628,
     "end_time": "2022-11-29T04:19:29.416028",
     "exception": false,
     "start_time": "2022-11-29T04:19:29.388400",
     "status": "completed"
    },
    "scrolled": false,
    "tags": []
   },
   "outputs": [],
   "source": [
    "def create_carousel(npub=4):\n",
    "    \"\"\" Generate the HTML code for a carousel with `npub` slides \"\"\"\n",
    "    carousel = [\"\"\"<section class=\"carousel\" aria-label=\"Gallery\">\"\"\",\n",
    "                \"\"\"  <ol class=\"carousel__viewport\">\"\"\",\n",
    "    ]\n",
    "    for k in range(1, npub + 1):\n",
    "        prev_ = k - 1\n",
    "        next_ = k + 1\n",
    "        if prev_ <= 0:\n",
    "            prev_ = npub\n",
    "        if next_ > npub:\n",
    "            next_ = 1\n",
    "        text  = f\"\"\"    <li id=\"carousel__slide{k}\" tabindex=\"0\" class=\"carousel__slide\">\\n\"\"\"\n",
    "        text += f\"\"\"       <div class=\"carousel__snapper\">\\n\"\"\"\n",
    "        text += f\"\"\"         <a href=\"#carousel__slide{prev_}\" class=\"carousel__prev\">Go to previous slide</a>\\n\"\"\"\n",
    "        text += f\"\"\"         <a href=\"#carousel__slide{next_}\" class=\"carousel__next\">Go to next slide</a>\\n\"\"\"\n",
    "        text += f\"\"\"         <div id=\"slide{k}_content\" class=\"md_view\" >Content {k}</div>\\n\"\"\"\n",
    "        text += f\"\"\"       </div>\\n\"\"\"\n",
    "        text += f\"\"\"    </li>\"\"\"\n",
    "        carousel.append(text)\n",
    "\n",
    "    carousel.extend([\n",
    "        \"\"\"  </ol>\"\"\",\n",
    "        \"\"\"  <aside class=\"carousel__navigation\">\"\"\",\n",
    "        \"\"\"    <ol class=\"carousel__navigation-list\">\"\"\"])\n",
    "\n",
    "    for k in range(1, npub + 1):\n",
    "        text  = f\"\"\"      <li class=\"carousel__navigation-item\">\\n\"\"\"\n",
    "        text += f\"\"\"        <a href=\"#carousel__slide{k}\" class=\"carousel__navigation-button\">Go to {k}</a>\\n\"\"\"\n",
    "        text += f\"\"\"      </li>\"\"\"\n",
    "        carousel.append(text)\n",
    "    carousel.extend([\"\"\"    </ol>\"\"\", \"\"\"  </aside>\"\"\", \"\"\"</section>\"\"\"])\n",
    "\n",
    "    return '\\n'.join(carousel)"
   ]
  },
  {
   "cell_type": "code",
   "execution_count": 12,
   "id": "a6eac5b6",
   "metadata": {
    "execution": {
     "iopub.execute_input": "2022-11-29T04:19:29.451898Z",
     "iopub.status.busy": "2022-11-29T04:19:29.451120Z",
     "iopub.status.idle": "2022-11-29T04:19:29.460235Z",
     "shell.execute_reply": "2022-11-29T04:19:29.459585Z"
    },
    "papermill": {
     "duration": 0.029406,
     "end_time": "2022-11-29T04:19:29.462243",
     "exception": false,
     "start_time": "2022-11-29T04:19:29.432837",
     "status": "completed"
    },
    "scrolled": false,
    "tags": []
   },
   "outputs": [],
   "source": [
    "carousel = create_carousel(npub)\n",
    "docs = ', '.join(['\"{0:s}\"'.format(k.split('/')[-1]) for k in res])\n",
    "slides = ', '.join([f'\"slide{k}_content\"' for k in range(1, npub + 1)])\n",
    "\n",
    "script = f\"\"\"\n",
    "const docs = [{docs}]\n",
    "\n",
    "const slides = [{slides}]\n",
    "\"\"\" + \"\"\"\n",
    "async function run() {\n",
    "    for (let i = 0; i < docs.length; i++) {\n",
    "        let file = await fetch(docs[i]);\n",
    "        let text = await file.text()\n",
    "        document.getElementById(slides[i]).innerHTML =\n",
    "            marked.parse(text);\n",
    "    }\n",
    "    hljs.highlightAll();\n",
    "}\n",
    "run()\n",
    "\"\"\"\n",
    "\n",
    "page = f\"\"\"<!doctype html>\n",
    "<html lang=\"en\">\n",
    "\n",
    "<head>\n",
    "  <meta charset=\"utf-8\">\n",
    "  <meta name=\"viewport\" content=\"width=device-width, initial-scale=1\">\n",
    "  <!-- Bootstrap CSS -->\n",
    "  <link href=\"https://cdn.jsdelivr.net/npm/bootstrap@5.0.2/dist/css/bootstrap.min.css\" rel=\"stylesheet\"\n",
    "   integrity=\"sha384-EVSTQN3/azprG1Anm3QDgpJLIm9Nao0Yz1ztcQTwFspd3yD65VohhpuuCOmLASjC\" crossorigin=\"anonymous\">\n",
    "  <!-- highlight.js CSS -->\n",
    "  <link rel=\"stylesheet\" href=\"https://cdnjs.cloudflare.com/ajax/libs/highlight.js/11.1.0/styles/default.min.css\">\n",
    "  <!-- Mathjax 3 -->\n",
    "  <script type=\"text/javascript\" id=\"MathJax-config\" src=\"mathjax_config.js\"> </script>\n",
    "  <script type=\"text/javascript\" id=\"MathJax-script\" async \n",
    "    src=\"https://cdn.jsdelivr.net/npm/mathjax@3/es5/tex-mml-chtml.js\">\n",
    "  </script>\n",
    "  <link rel=\"stylesheet\" href=\"index_carousel.css\">\n",
    "  <link rel=\"icon\" type=\"image/x-icon\" href=\"https://www.mpia.de/assets/touch-icon-32x32-a66937bcebc4e8894ebff1f41a366c7c7220fd97a38869ee0f2db65a9f59b6c1.png\">\n",
    "  <title>MPIA Arxiv on deck!</title>\n",
    "</head>\n",
    "\n",
    "<body>\n",
    "  <div id=\"header\"> <img src=\"header_banner.png\" width=\"100%\"></div>\n",
    "  <div id=\"suptitle\"> 7-day archives </div>\n",
    "  <div id=\"info\">\n",
    "    <img src=\"https://pngimg.com/uploads/github/github_PNG58.png\" height=30rem></img>\n",
    "    <a href=https://github.com/mpi-astronomy/arxiv_display style=\"color:black;\">github/mpi-astronomy/arxiv_display</a> \n",
    "  </div>\n",
    "  {carousel:s}\n",
    "</body>\n",
    "\n",
    "<!-- Render Markdown -->\n",
    "\n",
    "<body>\n",
    "  <!-- highlight.js: https://highlightjs.org/download/ -->\n",
    "  <script src=\"https://cdnjs.cloudflare.com/ajax/libs/highlight.js/11.5.0/highlight.min.js\"></script>\n",
    "  <!-- marked.js -->\n",
    "  <script src=\"https://cdn.jsdelivr.net/npm/marked/marked.min.js\"></script>\n",
    "  <script>{script:s}</script>\n",
    "</body>\n",
    "</html>\n",
    "\"\"\"\n",
    "with open(\"_build/html/index_7days.html\", 'w') as fout:\n",
    "    fout.write(page)"
   ]
  },
  {
   "cell_type": "markdown",
   "id": "1cebacbc",
   "metadata": {
    "papermill": {
     "duration": 0.016586,
     "end_time": "2022-11-29T04:19:29.495376",
     "exception": false,
     "start_time": "2022-11-29T04:19:29.478790",
     "status": "completed"
    },
    "tags": []
   },
   "source": [
    "# Debugging papers"
   ]
  },
  {
   "cell_type": "raw",
   "id": "debe7cc6",
   "metadata": {
    "papermill": {
     "duration": 0.015748,
     "end_time": "2022-11-29T04:19:29.529044",
     "exception": false,
     "start_time": "2022-11-29T04:19:29.513296",
     "status": "completed"
    },
    "tags": []
   },
   "source": [
    "raise NotImplementedError(\"Manual Stop\")"
   ]
  },
  {
   "cell_type": "raw",
   "id": "eb169192",
   "metadata": {
    "papermill": {
     "duration": 0.016382,
     "end_time": "2022-11-29T04:19:29.561784",
     "exception": false,
     "start_time": "2022-11-29T04:19:29.545402",
     "status": "completed"
    },
    "scrolled": true,
    "tags": []
   },
   "source": [
    "from IPython.display import display, Markdown\n",
    "from TexSoup import TexSoup\n",
    "import re\n",
    "\n",
    "def bracket_error(source: str):\n",
    "    \"\"\" Find problematic portions of the document \"\"\"\n",
    "    \n",
    "    print(\"len(source)\", len(source))\n",
    "    \n",
    "    # Checking header\n",
    "    begin_doc = next(re.finditer(r'\\\\begin\\{document\\}', doc.source)).span()[1]\n",
    "    header = source[:begin_doc]\n",
    "    text = header + r\"\\n\\end{document}\"\n",
    "\n",
    "    try:\n",
    "        # print(\"Header check... \", end='')\n",
    "        TexSoup(text)\n",
    "        display(Markdown(f\"**[OK]** - Header\"))\n",
    "    except:\n",
    "        raise RuntimeError(\"Error in the header\")\n",
    "        \n",
    "    # Check the text per section until the end.\n",
    "    # Do not stop and try them all.\n",
    "    \n",
    "    problematic_text = []\n",
    "    \n",
    "    sections = ([(0, begin_doc, 'until first section')] + \n",
    "                [(g.span()[0], g.span()[1], g.group()) for g in re.finditer(r'\\\\section\\{.*\\}', source)] +\n",
    "                [(g.span()[0], g.span()[1], g.group()) for g in re.finditer(r'\\\\begin\\{appendix\\}', source)]\n",
    "               )\n",
    "    sections.append([len(source), len(source), 'end'])\n",
    "    \n",
    "    sections = sorted(sections, key=lambda x: x[0])\n",
    "    \n",
    "    prev_pos, prev_name = (0, 'header')\n",
    "    parsed = []\n",
    "    \n",
    "    for span, span_end, name in sections:\n",
    "\n",
    "        if span - prev_pos <= 0:\n",
    "            continue\n",
    "            \n",
    "\n",
    "        text = source[prev_pos:span]\n",
    "        if prev_pos > begin_doc:\n",
    "            text = r\"\\n\\begin{document}\" + text + r\"\\n\\end{document}\"\n",
    "        else:\n",
    "            text = text + r\"\\n\\end{document}\"\n",
    "        try:\n",
    "            #print(f\"{prev_pos}:{prev_name}-->{span}:{name} check... \", end='')\n",
    "            parsed.append(TexSoup(text, tolerance=1))  # allow not ending env\n",
    "            display(Markdown(f\"**[OK]** - *{prev_pos}*:{prev_name} &rarr; *{span}*:{name}\"))\n",
    "            # print(\"ok\")\n",
    "\n",
    "            prev_pos = span\n",
    "            prev_name = name\n",
    "        except:\n",
    "            # print(f\"error between {prev_pos} and {span}\")\n",
    "            display(Markdown(f\"**[ERR]** *{prev_pos}*:{prev_name} &rarr; *{span}*:{name}\"))\n",
    "            problematic_text.append((prev_pos, source[prev_pos:span]))\n",
    "            prev_pos = span\n",
    "            prev_name = name\n",
    "            # raise\n",
    "    return problematic_text, parsed\n",
    "\n",
    "\n",
    "def check_environment(text, offset=0):\n",
    "    \"\"\" Check environment \"\"\"\n",
    "    env = re.compile(r\"\\\\begin\\{(?P<env>.*)\\}(.*)\\\\end\\{(?P=env)\\}\", re.DOTALL)\n",
    "\n",
    "    for match in env.finditer(text):\n",
    "        beg, end = match.span()\n",
    "        beg += offset\n",
    "        end += offset\n",
    "        envname = match.groups()[0]\n",
    "        try:\n",
    "            latex.TexSoup(match.group())\n",
    "        except Exception as e:\n",
    "            display(e)\n",
    "            print(f\"Error in {envname:s} between {beg} and {end}\")\n",
    "            return match.groups()[1], beg, end"
   ]
  },
  {
   "cell_type": "raw",
   "id": "2315e835",
   "metadata": {
    "papermill": {
     "duration": 0.016236,
     "end_time": "2022-11-29T04:19:29.594099",
     "exception": false,
     "start_time": "2022-11-29T04:19:29.577863",
     "status": "completed"
    },
    "scrolled": false,
    "tags": []
   },
   "source": [
    "import importlib\n",
    "importlib.reload(latex)\n",
    "which = \"2204.03253\"\n",
    "paper_id = f'{which:s}'\n",
    "folder = f'tmp_{paper_id:s}'\n",
    "\n",
    "if not os.path.isdir(folder):\n",
    "    folder = retrieve_document_source(f\"{paper_id}\", f'tmp_{paper_id}')\n",
    "\n",
    "try:\n",
    "    doc = latex.LatexDocument(folder, validation=validation)    \n",
    "except AffiliationError as affilerror:\n",
    "    msg = f\"ArXiv:{paper_id:s} is not an MPIA paper... \" + str(affilerror)\n",
    "    print(msg)\n",
    "\n",
    "\n",
    "# Hack because sometimes author parsing does not work well\n",
    "if (len(doc.authors) != len(paper['authors'])):\n",
    "    doc._authors = paper['authors']\n",
    "if (doc.abstract) in (None, ''):\n",
    "    doc._abstract = paper['abstract']\n",
    "\n",
    "doc.comment = get_markdown_badge(paper_id) + \" _\" + paper['comments'] + \"_\"\n",
    "doc.highlight_authors_in_list(hl_list)\n",
    "\n",
    "full_md = doc.generate_markdown_text()"
   ]
  },
  {
   "cell_type": "raw",
   "id": "dd3781db",
   "metadata": {
    "papermill": {
     "duration": 0.021368,
     "end_time": "2022-11-29T04:19:29.632238",
     "exception": false,
     "start_time": "2022-11-29T04:19:29.610870",
     "status": "completed"
    },
    "scrolled": false,
    "tags": []
   },
   "source": [
    "doc"
   ]
  },
  {
   "cell_type": "raw",
   "id": "c6eed834",
   "metadata": {
    "papermill": {
     "duration": 0.016226,
     "end_time": "2022-11-29T04:19:29.664728",
     "exception": false,
     "start_time": "2022-11-29T04:19:29.648502",
     "status": "completed"
    },
    "tags": []
   },
   "source": [
    "# [check_environment(k) for k in bracket_error(doc.source)]\n",
    "_, _, a = latex.get_content_per_section(doc.source, verbose=True)\n",
    "if not a:\n",
    "    print(\"no issues per section\")\n",
    "for ak in a:\n",
    "    r = check_environment(ak[1], offset=ak[0])\n",
    "    print(r[1], r[2])\n",
    "    print(r[0])"
   ]
  },
  {
   "cell_type": "code",
   "execution_count": null,
   "id": "71ce768a",
   "metadata": {
    "papermill": {
     "duration": 0.016085,
     "end_time": "2022-11-29T04:19:29.696983",
     "exception": false,
     "start_time": "2022-11-29T04:19:29.680898",
     "status": "completed"
    },
    "tags": []
   },
   "outputs": [],
   "source": []
  }
 ],
 "metadata": {
  "kernelspec": {
   "display_name": "Python 3.10.6 64-bit",
   "language": "python",
   "name": "python3"
  },
  "language_info": {
   "codemirror_mode": {
    "name": "ipython",
    "version": 3
   },
   "file_extension": ".py",
   "mimetype": "text/x-python",
   "name": "python",
   "nbconvert_exporter": "python",
   "pygments_lexer": "ipython3",
   "version": "3.9.15"
  },
  "papermill": {
   "default_parameters": {},
   "duration": 703.643571,
   "end_time": "2022-11-29T04:19:30.034397",
   "environment_variables": {},
   "exception": null,
   "input_path": "MPIA daily digest.ipynb",
   "output_path": "log.ipynb",
   "parameters": {},
   "start_time": "2022-11-29T04:07:46.390826",
   "version": "2.4.0"
  },
  "vscode": {
   "interpreter": {
    "hash": "e7370f93d1d0cde622a1f8e1c04877d8463912d04d973331ad4851f04de6915a"
   }
  },
  "widgets": {
   "application/vnd.jupyter.widget-state+json": {
    "state": {
     "0698e42e377c4f398e4cd7d6b7af4d7f": {
      "model_module": "@jupyter-widgets/controls",
      "model_module_version": "2.0.0",
      "model_name": "HTMLStyleModel",
      "state": {
       "_model_module": "@jupyter-widgets/controls",
       "_model_module_version": "2.0.0",
       "_model_name": "HTMLStyleModel",
       "_view_count": null,
       "_view_module": "@jupyter-widgets/base",
       "_view_module_version": "2.0.0",
       "_view_name": "StyleView",
       "background": null,
       "description_width": "",
       "font_size": null,
       "text_color": null
      }
     },
     "3a289686eadd4f5aab3f7edcf1fe5016": {
      "model_module": "@jupyter-widgets/controls",
      "model_module_version": "2.0.0",
      "model_name": "HTMLModel",
      "state": {
       "_dom_classes": [],
       "_model_module": "@jupyter-widgets/controls",
       "_model_module_version": "2.0.0",
       "_model_name": "HTMLModel",
       "_view_count": null,
       "_view_module": "@jupyter-widgets/controls",
       "_view_module_version": "2.0.0",
       "_view_name": "HTMLView",
       "description": "",
       "description_allow_html": false,
       "layout": "IPY_MODEL_3ea2a7a4c6c342efb7fe7fd46184ee1b",
       "placeholder": "​",
       "style": "IPY_MODEL_f4b59f4b06334205bf4ced4124f0dfce",
       "tabbable": null,
       "tooltip": null,
       "value": " 28/28 [11:19&lt;00:00,  6.30s/it]"
      }
     },
     "3ea2a7a4c6c342efb7fe7fd46184ee1b": {
      "model_module": "@jupyter-widgets/base",
      "model_module_version": "2.0.0",
      "model_name": "LayoutModel",
      "state": {
       "_model_module": "@jupyter-widgets/base",
       "_model_module_version": "2.0.0",
       "_model_name": "LayoutModel",
       "_view_count": null,
       "_view_module": "@jupyter-widgets/base",
       "_view_module_version": "2.0.0",
       "_view_name": "LayoutView",
       "align_content": null,
       "align_items": null,
       "align_self": null,
       "border_bottom": null,
       "border_left": null,
       "border_right": null,
       "border_top": null,
       "bottom": null,
       "display": null,
       "flex": null,
       "flex_flow": null,
       "grid_area": null,
       "grid_auto_columns": null,
       "grid_auto_flow": null,
       "grid_auto_rows": null,
       "grid_column": null,
       "grid_gap": null,
       "grid_row": null,
       "grid_template_areas": null,
       "grid_template_columns": null,
       "grid_template_rows": null,
       "height": null,
       "justify_content": null,
       "justify_items": null,
       "left": null,
       "margin": null,
       "max_height": null,
       "max_width": null,
       "min_height": null,
       "min_width": null,
       "object_fit": null,
       "object_position": null,
       "order": null,
       "overflow": null,
       "padding": null,
       "right": null,
       "top": null,
       "visibility": null,
       "width": null
      }
     },
     "4484e94100bf4b7e84aca5e3eb525410": {
      "model_module": "@jupyter-widgets/controls",
      "model_module_version": "2.0.0",
      "model_name": "HBoxModel",
      "state": {
       "_dom_classes": [],
       "_model_module": "@jupyter-widgets/controls",
       "_model_module_version": "2.0.0",
       "_model_name": "HBoxModel",
       "_view_count": null,
       "_view_module": "@jupyter-widgets/controls",
       "_view_module_version": "2.0.0",
       "_view_name": "HBoxView",
       "box_style": "",
       "children": [
        "IPY_MODEL_9310d53f5ebd4cff98da964bb8796cef",
        "IPY_MODEL_ccf7fb332e9947bfa04232ac04c6d5d0",
        "IPY_MODEL_3a289686eadd4f5aab3f7edcf1fe5016"
       ],
       "layout": "IPY_MODEL_c079f947bff349249fb3332b1e9f85d3",
       "tabbable": null,
       "tooltip": null
      }
     },
     "7811a09667594a6e97b447131f31cbb0": {
      "model_module": "@jupyter-widgets/base",
      "model_module_version": "2.0.0",
      "model_name": "LayoutModel",
      "state": {
       "_model_module": "@jupyter-widgets/base",
       "_model_module_version": "2.0.0",
       "_model_name": "LayoutModel",
       "_view_count": null,
       "_view_module": "@jupyter-widgets/base",
       "_view_module_version": "2.0.0",
       "_view_name": "LayoutView",
       "align_content": null,
       "align_items": null,
       "align_self": null,
       "border_bottom": null,
       "border_left": null,
       "border_right": null,
       "border_top": null,
       "bottom": null,
       "display": null,
       "flex": null,
       "flex_flow": null,
       "grid_area": null,
       "grid_auto_columns": null,
       "grid_auto_flow": null,
       "grid_auto_rows": null,
       "grid_column": null,
       "grid_gap": null,
       "grid_row": null,
       "grid_template_areas": null,
       "grid_template_columns": null,
       "grid_template_rows": null,
       "height": null,
       "justify_content": null,
       "justify_items": null,
       "left": null,
       "margin": null,
       "max_height": null,
       "max_width": null,
       "min_height": null,
       "min_width": null,
       "object_fit": null,
       "object_position": null,
       "order": null,
       "overflow": null,
       "padding": null,
       "right": null,
       "top": null,
       "visibility": null,
       "width": null
      }
     },
     "9310d53f5ebd4cff98da964bb8796cef": {
      "model_module": "@jupyter-widgets/controls",
      "model_module_version": "2.0.0",
      "model_name": "HTMLModel",
      "state": {
       "_dom_classes": [],
       "_model_module": "@jupyter-widgets/controls",
       "_model_module_version": "2.0.0",
       "_model_name": "HTMLModel",
       "_view_count": null,
       "_view_module": "@jupyter-widgets/controls",
       "_view_module_version": "2.0.0",
       "_view_name": "HTMLView",
       "description": "",
       "description_allow_html": false,
       "layout": "IPY_MODEL_cdeb56978a174ceeb41c3e8819b92786",
       "placeholder": "​",
       "style": "IPY_MODEL_0698e42e377c4f398e4cd7d6b7af4d7f",
       "tabbable": null,
       "tooltip": null,
       "value": "100%"
      }
     },
     "c079f947bff349249fb3332b1e9f85d3": {
      "model_module": "@jupyter-widgets/base",
      "model_module_version": "2.0.0",
      "model_name": "LayoutModel",
      "state": {
       "_model_module": "@jupyter-widgets/base",
       "_model_module_version": "2.0.0",
       "_model_name": "LayoutModel",
       "_view_count": null,
       "_view_module": "@jupyter-widgets/base",
       "_view_module_version": "2.0.0",
       "_view_name": "LayoutView",
       "align_content": null,
       "align_items": null,
       "align_self": null,
       "border_bottom": null,
       "border_left": null,
       "border_right": null,
       "border_top": null,
       "bottom": null,
       "display": null,
       "flex": null,
       "flex_flow": null,
       "grid_area": null,
       "grid_auto_columns": null,
       "grid_auto_flow": null,
       "grid_auto_rows": null,
       "grid_column": null,
       "grid_gap": null,
       "grid_row": null,
       "grid_template_areas": null,
       "grid_template_columns": null,
       "grid_template_rows": null,
       "height": null,
       "justify_content": null,
       "justify_items": null,
       "left": null,
       "margin": null,
       "max_height": null,
       "max_width": null,
       "min_height": null,
       "min_width": null,
       "object_fit": null,
       "object_position": null,
       "order": null,
       "overflow": null,
       "padding": null,
       "right": null,
       "top": null,
       "visibility": null,
       "width": null
      }
     },
     "ccf7fb332e9947bfa04232ac04c6d5d0": {
      "model_module": "@jupyter-widgets/controls",
      "model_module_version": "2.0.0",
      "model_name": "FloatProgressModel",
      "state": {
       "_dom_classes": [],
       "_model_module": "@jupyter-widgets/controls",
       "_model_module_version": "2.0.0",
       "_model_name": "FloatProgressModel",
       "_view_count": null,
       "_view_module": "@jupyter-widgets/controls",
       "_view_module_version": "2.0.0",
       "_view_name": "ProgressView",
       "bar_style": "success",
       "description": "",
       "description_allow_html": false,
       "layout": "IPY_MODEL_7811a09667594a6e97b447131f31cbb0",
       "max": 28.0,
       "min": 0.0,
       "orientation": "horizontal",
       "style": "IPY_MODEL_f3650a7f6e764dd59e9b8e9a89034967",
       "tabbable": null,
       "tooltip": null,
       "value": 28.0
      }
     },
     "cdeb56978a174ceeb41c3e8819b92786": {
      "model_module": "@jupyter-widgets/base",
      "model_module_version": "2.0.0",
      "model_name": "LayoutModel",
      "state": {
       "_model_module": "@jupyter-widgets/base",
       "_model_module_version": "2.0.0",
       "_model_name": "LayoutModel",
       "_view_count": null,
       "_view_module": "@jupyter-widgets/base",
       "_view_module_version": "2.0.0",
       "_view_name": "LayoutView",
       "align_content": null,
       "align_items": null,
       "align_self": null,
       "border_bottom": null,
       "border_left": null,
       "border_right": null,
       "border_top": null,
       "bottom": null,
       "display": null,
       "flex": null,
       "flex_flow": null,
       "grid_area": null,
       "grid_auto_columns": null,
       "grid_auto_flow": null,
       "grid_auto_rows": null,
       "grid_column": null,
       "grid_gap": null,
       "grid_row": null,
       "grid_template_areas": null,
       "grid_template_columns": null,
       "grid_template_rows": null,
       "height": null,
       "justify_content": null,
       "justify_items": null,
       "left": null,
       "margin": null,
       "max_height": null,
       "max_width": null,
       "min_height": null,
       "min_width": null,
       "object_fit": null,
       "object_position": null,
       "order": null,
       "overflow": null,
       "padding": null,
       "right": null,
       "top": null,
       "visibility": null,
       "width": null
      }
     },
     "f3650a7f6e764dd59e9b8e9a89034967": {
      "model_module": "@jupyter-widgets/controls",
      "model_module_version": "2.0.0",
      "model_name": "ProgressStyleModel",
      "state": {
       "_model_module": "@jupyter-widgets/controls",
       "_model_module_version": "2.0.0",
       "_model_name": "ProgressStyleModel",
       "_view_count": null,
       "_view_module": "@jupyter-widgets/base",
       "_view_module_version": "2.0.0",
       "_view_name": "StyleView",
       "bar_color": null,
       "description_width": ""
      }
     },
     "f4b59f4b06334205bf4ced4124f0dfce": {
      "model_module": "@jupyter-widgets/controls",
      "model_module_version": "2.0.0",
      "model_name": "HTMLStyleModel",
      "state": {
       "_model_module": "@jupyter-widgets/controls",
       "_model_module_version": "2.0.0",
       "_model_name": "HTMLStyleModel",
       "_view_count": null,
       "_view_module": "@jupyter-widgets/base",
       "_view_module_version": "2.0.0",
       "_view_name": "StyleView",
       "background": null,
       "description_width": "",
       "font_size": null,
       "text_color": null
      }
     }
    },
    "version_major": 2,
    "version_minor": 0
   }
  }
 },
 "nbformat": 4,
 "nbformat_minor": 5
}