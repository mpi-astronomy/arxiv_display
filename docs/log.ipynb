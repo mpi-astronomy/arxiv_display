{
 "cells": [
  {
   "cell_type": "markdown",
   "id": "92bcb855",
   "metadata": {
    "papermill": {
     "duration": 0.003862,
     "end_time": "2024-12-09T04:11:49.276304",
     "exception": false,
     "start_time": "2024-12-09T04:11:49.272442",
     "status": "completed"
    },
    "tags": []
   },
   "source": [
    "# MPIA Arxiv on Deck 2\n",
    "\n",
    "Contains the steps to produce the paper extractions."
   ]
  },
  {
   "cell_type": "code",
   "execution_count": 1,
   "id": "3a0d6e11",
   "metadata": {
    "execution": {
     "iopub.execute_input": "2024-12-09T04:11:49.284271Z",
     "iopub.status.busy": "2024-12-09T04:11:49.283494Z",
     "iopub.status.idle": "2024-12-09T04:11:49.801319Z",
     "shell.execute_reply": "2024-12-09T04:11:49.800646Z"
    },
    "papermill": {
     "duration": 0.523095,
     "end_time": "2024-12-09T04:11:49.802683",
     "exception": false,
     "start_time": "2024-12-09T04:11:49.279588",
     "status": "completed"
    },
    "tags": []
   },
   "outputs": [],
   "source": [
    "# Imports\n",
    "import os\n",
    "from IPython.display import Markdown, display\n",
    "from tqdm.notebook import tqdm\n",
    "import warnings\n",
    "from PIL import Image \n",
    "import re\n",
    "\n",
    "# requires arxiv_on_deck_2\n",
    "\n",
    "from arxiv_on_deck_2.arxiv2 import (get_new_papers, \n",
    "                                    get_paper_from_identifier,\n",
    "                                    retrieve_document_source, \n",
    "                                    get_markdown_badge)\n",
    "from arxiv_on_deck_2 import (latex,\n",
    "                             latex_bib,\n",
    "                             mpia,\n",
    "                             highlight_authors_in_list)\n",
    "\n",
    "# Sometimes images are really big\n",
    "Image.MAX_IMAGE_PIXELS = 1000000000 "
   ]
  },
  {
   "cell_type": "code",
   "execution_count": 2,
   "id": "22aa9d44",
   "metadata": {
    "execution": {
     "iopub.execute_input": "2024-12-09T04:11:49.810122Z",
     "iopub.status.busy": "2024-12-09T04:11:49.809620Z",
     "iopub.status.idle": "2024-12-09T04:11:49.817785Z",
     "shell.execute_reply": "2024-12-09T04:11:49.817213Z"
    },
    "papermill": {
     "duration": 0.012914,
     "end_time": "2024-12-09T04:11:49.818855",
     "exception": false,
     "start_time": "2024-12-09T04:11:49.805941",
     "status": "completed"
    },
    "tags": []
   },
   "outputs": [],
   "source": [
    "# Some useful definitions.\n",
    "\n",
    "class AffiliationWarning(UserWarning):\n",
    "    pass\n",
    "\n",
    "class AffiliationError(RuntimeError):\n",
    "    pass\n",
    "\n",
    "def validation(source: str):\n",
    "    \"\"\"Raises error paper during parsing of source file\n",
    "    \n",
    "    Allows checks before parsing TeX code.\n",
    "    \n",
    "    Raises AffiliationWarning\n",
    "    \"\"\"\n",
    "    check = mpia.affiliation_verifications(source, verbose=True)\n",
    "    if check is not True:\n",
    "        raise AffiliationError(\"mpia.affiliation_verifications: \" + check)\n",
    "\n",
    "        \n",
    "warnings.simplefilter('always', AffiliationWarning)\n",
    "\n",
    "\n",
    "def get_markdown_qrcode(paper_id: str):\n",
    "    \"\"\" Generate a qrcode to the arxiv page using qrserver.com\n",
    "    \n",
    "    :param paper: Arxiv paper\n",
    "    :returns: markdown text\n",
    "    \"\"\"\n",
    "    url = r\"https://api.qrserver.com/v1/create-qr-code/?size=100x100&data=\"\n",
    "    txt = f\"\"\"<img src={url}\"https://arxiv.org/abs/{paper_id}\">\"\"\"\n",
    "    txt = '<div id=\"qrcode\">' + txt + '</div>'\n",
    "    return txt\n",
    "\n",
    "\n",
    "def clean_non_western_encoded_characters_commands(text: str) -> str:\n",
    "    \"\"\" Remove non-western encoded characters from a string\n",
    "    List may need to grow.\n",
    "    \n",
    "    :param text: the text to clean\n",
    "    :return: the cleaned text\n",
    "    \"\"\"\n",
    "    text = re.sub(r\"(\\\\begin{CJK}{UTF8}{gbsn})(.*?)(\\\\end{CJK})\", r\"\\2\", text)\n",
    "    return text\n",
    "\n",
    "\n",
    "def get_initials(name: str) -> str:\n",
    "    \"\"\" Get the short name, e.g., A.-B. FamName\n",
    "    :param name: full name\n",
    "    :returns: initials\n",
    "    \"\"\"\n",
    "    initials = []\n",
    "    # account for non western names often in ()\n",
    "    if '(' in name:\n",
    "        name = clean_non_western_encoded_characters_commands(name)\n",
    "        suffix = re.findall(r\"\\((.*?)\\)\", name)[0]\n",
    "        name = name.replace(f\"({suffix})\", '')\n",
    "    else:\n",
    "        suffix = ''\n",
    "    split = name.split()\n",
    "    for token in split[:-1]:\n",
    "        if '-' in token:\n",
    "            current = '-'.join([k[0] + '.' for k in token.split('-')])\n",
    "        else:\n",
    "            current = token[0] + '.'\n",
    "        initials.append(current)\n",
    "    initials.append(split[-1].strip())\n",
    "    if suffix:\n",
    "        initials.append(f\"({suffix})\")\n",
    "    return ' '.join(initials)"
   ]
  },
  {
   "cell_type": "markdown",
   "id": "14bd6310",
   "metadata": {
    "papermill": {
     "duration": 0.002949,
     "end_time": "2024-12-09T04:11:49.824882",
     "exception": false,
     "start_time": "2024-12-09T04:11:49.821933",
     "status": "completed"
    },
    "tags": []
   },
   "source": [
    "## get list of arxiv paper candidates\n",
    "\n",
    "We use the MPIA mitarbeiter list webpage from mpia.de to get author names\n",
    "We then get all new papers from Arxiv and match authors"
   ]
  },
  {
   "cell_type": "code",
   "execution_count": 3,
   "id": "7ea813a8",
   "metadata": {
    "execution": {
     "iopub.execute_input": "2024-12-09T04:11:49.831787Z",
     "iopub.status.busy": "2024-12-09T04:11:49.831395Z",
     "iopub.status.idle": "2024-12-09T04:12:07.618984Z",
     "shell.execute_reply": "2024-12-09T04:12:07.618289Z"
    },
    "papermill": {
     "duration": 17.792516,
     "end_time": "2024-12-09T04:12:07.620338",
     "exception": false,
     "start_time": "2024-12-09T04:11:49.827822",
     "status": "completed"
    },
    "tags": []
   },
   "outputs": [],
   "source": [
    "# deal with the author list and edge cases of people that cannot be consistent on their name  \n",
    "\n",
    "def filter_non_scientists(name: str) -> bool:\n",
    "    \"\"\" Loose filter on expected authorships\n",
    "\n",
    "    removing IT, administration, technical staff\n",
    "    :param name: name\n",
    "    :returns: False if name is not a scientist\n",
    "    \"\"\"\n",
    "    remove_list = ['Licht', 'Binroth', 'Witzel', 'Jordan',\n",
    "                   'Zähringer', 'Scheerer', 'Hoffmann', 'Düe',\n",
    "                   'Hellmich', 'Enkler-Scharpegge', 'Witte-Nguy',\n",
    "                   'Dehen', 'Beckmann', 'Jager', 'Jäger'\n",
    "                  ]\n",
    "\n",
    "    for k in remove_list:\n",
    "        if k in name:\n",
    "            return False\n",
    "    return True\n",
    "\n",
    "def add_author_to_list(author_list: list) -> list:\n",
    "    \"\"\" Add author to list if not already in list\n",
    "    \n",
    "    :param author: author name\n",
    "    :param author_list: list of authors\n",
    "    :returns: updated list of authors\n",
    "    \"\"\"\n",
    "    add_list = ['T. Henning']\n",
    "\n",
    "    for author in add_list:\n",
    "        if author not in author_list:\n",
    "            author_list.append(author)\n",
    "    return author_list\n",
    "\n",
    "# get list from MPIA website\n",
    "# filter for non-scientists (mpia.get_mpia_mitarbeiter_list() does some filtering)\n",
    "mpia_authors = [k[1] for k in mpia.get_mpia_mitarbeiter_list() if filter_non_scientists(k[1])]\n",
    "# add some missing author because of inconsistencies in their MPIA name and author name on papers\n",
    "mpia_authors = add_author_to_list(mpia_authors)"
   ]
  },
  {
   "cell_type": "code",
   "execution_count": 4,
   "id": "2645e73a",
   "metadata": {
    "execution": {
     "iopub.execute_input": "2024-12-09T04:12:07.628011Z",
     "iopub.status.busy": "2024-12-09T04:12:07.627456Z",
     "iopub.status.idle": "2024-12-09T04:12:08.239011Z",
     "shell.execute_reply": "2024-12-09T04:12:08.238326Z"
    },
    "papermill": {
     "duration": 0.616465,
     "end_time": "2024-12-09T04:12:08.240155",
     "exception": false,
     "start_time": "2024-12-09T04:12:07.623690",
     "status": "completed"
    },
    "tags": []
   },
   "outputs": [
    {
     "name": "stdout",
     "output_type": "stream",
     "text": [
      "A. d. Graaff  ->  A. D. Graaff  |  ['A. D. Graaff']\n",
      "Arxiv has 60 new papers today\n",
      "          1 with possible author matches\n"
     ]
    }
   ],
   "source": [
    "new_papers = get_new_papers()\n",
    "# add manual references\n",
    "add_paper_refs = []\n",
    "new_papers.extend([get_paper_from_identifier(k) for k in add_paper_refs])\n",
    "\n",
    "def robust_call(fn, value, *args, **kwargs):\n",
    "    try:\n",
    "        return fn(value, *args, **kwargs)\n",
    "    except Exception:\n",
    "        return value\n",
    "\n",
    "candidates = []\n",
    "for paperk in new_papers:\n",
    "    # Check author list with their initials\n",
    "    normed_author_list = [robust_call(mpia.get_initials, k) for k in paperk['authors']]\n",
    "    hl_authors = highlight_authors_in_list(normed_author_list, mpia_authors, verbose=True)\n",
    "    matches = [(hl, orig) for hl, orig in zip(hl_authors, paperk['authors']) if 'mark' in hl]\n",
    "    paperk['authors'] = hl_authors\n",
    "    if matches:\n",
    "        # only select paper if an author matched our list\n",
    "        candidates.append(paperk)\n",
    "print(\"\"\"Arxiv has {0:,d} new papers today\"\"\".format(len(new_papers)))        \n",
    "print(\"\"\"          {0:,d} with possible author matches\"\"\".format(len(candidates)))"
   ]
  },
  {
   "cell_type": "markdown",
   "id": "3543b34a",
   "metadata": {
    "papermill": {
     "duration": 0.003168,
     "end_time": "2024-12-09T04:12:08.246768",
     "exception": false,
     "start_time": "2024-12-09T04:12:08.243600",
     "status": "completed"
    },
    "tags": []
   },
   "source": [
    "# Parse sources and generate relevant outputs\n",
    "\n",
    "From the candidates, we do the following steps:\n",
    "* get their tarball from ArXiv (and extract data)\n",
    "* find the main .tex file: find one with \\documentclass{...} (sometimes it's non trivial)\n",
    "* Check affiliations with :func:`validation`, which uses :func:`mpia.affiliation_verifications`\n",
    "* If passing the affiliations: we parse the .tex source\n",
    "   * inject sub-documents into the main (flatten the main document)\n",
    "   * parse structure, extract information (title, abstract, authors, figures...)\n",
    "   * handles `\\graphicspath` if provided\n",
    "* Generate the .md document."
   ]
  },
  {
   "cell_type": "code",
   "execution_count": 5,
   "id": "9576b79e",
   "metadata": {
    "execution": {
     "iopub.execute_input": "2024-12-09T04:12:08.254114Z",
     "iopub.status.busy": "2024-12-09T04:12:08.253597Z",
     "iopub.status.idle": "2024-12-09T04:12:35.045142Z",
     "shell.execute_reply": "2024-12-09T04:12:35.044375Z"
    },
    "papermill": {
     "duration": 26.796407,
     "end_time": "2024-12-09T04:12:35.046247",
     "exception": false,
     "start_time": "2024-12-09T04:12:08.249840",
     "status": "completed"
    },
    "scrolled": false,
    "tags": []
   },
   "outputs": [
    {
     "data": {
      "application/vnd.jupyter.widget-view+json": {
       "model_id": "c47efb7f3a3f468fb442b06ee53bad11",
       "version_major": 2,
       "version_minor": 0
      },
      "text/plain": [
       "  0%|          | 0/1 [00:00<?, ?it/s]"
      ]
     },
     "metadata": {},
     "output_type": "display_data"
    },
    {
     "name": "stdout",
     "output_type": "stream",
     "text": [
      "Retrieving document from  https://arxiv.org/e-print/2412.04557\n"
     ]
    },
    {
     "name": "stdout",
     "output_type": "stream",
     "text": [
      "extracting tarball to tmp_2412.04557..."
     ]
    },
    {
     "name": "stdout",
     "output_type": "stream",
     "text": [
      " done.\n"
     ]
    },
    {
     "name": "stderr",
     "output_type": "stream",
     "text": [
      "/opt/hostedtoolcache/Python/3.9.20/x64/lib/python3.9/site-packages/IPython/core/interactiveshell.py:3550: LatexWarning: Multiple tex files.\n",
      "\n",
      "  exec(code_obj, self.user_global_ns, self.user_ns)\n",
      "/opt/hostedtoolcache/Python/3.9.20/x64/lib/python3.9/site-packages/IPython/core/interactiveshell.py:3550: LatexWarning: Found documentclass in tmp_2412.04557/paper.tex\n",
      "\n",
      "  exec(code_obj, self.user_global_ns, self.user_ns)\n",
      "/opt/hostedtoolcache/Python/3.9.20/x64/lib/python3.9/site-packages/arxiv_on_deck_2/latex.py:414: LatexWarning: Latex injecting: 'table_model.tex' from 'tmp_2412.04557/table_model.tex'\n",
      "  warnings.warn(LatexWarning(f\"Latex injecting: '{ext}' from '{subsource}'\"))\n",
      "/opt/hostedtoolcache/Python/3.9.20/x64/lib/python3.9/site-packages/arxiv_on_deck_2/latex.py:414: LatexWarning: Latex injecting: 'table_lines.tex' from 'tmp_2412.04557/table_lines.tex'\n",
      "  warnings.warn(LatexWarning(f\"Latex injecting: '{ext}' from '{subsource}'\"))\n",
      "/opt/hostedtoolcache/Python/3.9.20/x64/lib/python3.9/site-packages/arxiv_on_deck_2/latex.py:414: LatexWarning: Latex injecting: 'table_balmer_lines.tex' from 'tmp_2412.04557/table_balmer_lines.tex'\n",
      "  warnings.warn(LatexWarning(f\"Latex injecting: '{ext}' from '{subsource}'\"))\n",
      "/opt/hostedtoolcache/Python/3.9.20/x64/lib/python3.9/site-packages/arxiv_on_deck_2/latex.py:414: LatexWarning: Latex injecting: 'table_feii.tex' from 'tmp_2412.04557/table_feii.tex'\n",
      "  warnings.warn(LatexWarning(f\"Latex injecting: '{ext}' from '{subsource}'\"))\n",
      "/opt/hostedtoolcache/Python/3.9.20/x64/lib/python3.9/site-packages/arxiv_on_deck_2/latex.py:414: LatexWarning: Latex injecting: 'table_uvlines.tex' from 'tmp_2412.04557/table_uvlines.tex'\n",
      "  warnings.warn(LatexWarning(f\"Latex injecting: '{ext}' from '{subsource}'\"))\n",
      "/opt/hostedtoolcache/Python/3.9.20/x64/lib/python3.9/site-packages/arxiv_on_deck_2/latex.py:414: LatexWarning: Latex injecting: 'paper.bbl' from 'tmp_2412.04557/paper.tex'\n",
      "  warnings.warn(LatexWarning(f\"Latex injecting: '{ext}' from '{subsource}'\"))\n",
      "/opt/hostedtoolcache/Python/3.9.20/x64/lib/python3.9/site-packages/arxiv_on_deck_2/latex.py:414: LatexWarning: Latex injecting: 'cont_fits_tablev2' from 'tmp_2412.04557/cont_fits_tablev2.tex'\n",
      "  warnings.warn(LatexWarning(f\"Latex injecting: '{ext}' from '{subsource}'\"))\n"
     ]
    },
    {
     "name": "stdout",
     "output_type": "stream",
     "text": [
      "Found 158 bibliographic references in tmp_2412.04557/paper.bbl.\n",
      "Issues with the citations\n",
      "syntax error in line 655: '=' expected\n"
     ]
    }
   ],
   "source": [
    "documents = []\n",
    "failed = []\n",
    "for paper in tqdm(candidates):\n",
    "    # debug crap\n",
    "    paper['identifier'] = paper['identifier'].lower().replace('arxiv:', '').replace(r'\\n', '').strip()\n",
    "    paper_id = paper['identifier']\n",
    "    \n",
    "    folder = f'tmp_{paper_id}'\n",
    "\n",
    "    try:\n",
    "        if not os.path.isdir(folder):\n",
    "            folder = retrieve_document_source(f\"{paper_id}\", f'tmp_{paper_id}')\n",
    "        \n",
    "        try:\n",
    "            doc = latex.LatexDocument(folder, validation=validation)    \n",
    "        except AffiliationError as affilerror:\n",
    "            msg = f\"ArXiv:{paper_id:s} is not an MPIA paper... \" + str(affilerror)\n",
    "            failed.append((paper, \"affiliation error: \" + str(affilerror) ))\n",
    "            continue\n",
    "        \n",
    "        # Hack because sometimes author parsing does not work well\n",
    "        if (len(doc.authors) != len(paper['authors'])):\n",
    "            doc._authors = paper['authors']\n",
    "        else:\n",
    "            # highlight authors (FIXME: doc.highlight_authors)\n",
    "            # done on arxiv paper already\n",
    "            doc._authors = highlight_authors_in_list(\n",
    "                [get_initials(k) for k in doc.authors], \n",
    "                mpia_authors, verbose=True)\n",
    "        if (doc.abstract) in (None, ''):\n",
    "            doc._abstract = paper['abstract']\n",
    "            \n",
    "        doc.comment = (get_markdown_badge(paper_id) + \n",
    "                       \"<mark>Appeared on: \" + paper['date'] + \"</mark> - \")\n",
    "        if paper['comments']:\n",
    "            doc.comment += \" _\" + paper['comments'] + \"_\"\n",
    "        \n",
    "        full_md = doc.generate_markdown_text()\n",
    "        \n",
    "        full_md += get_markdown_qrcode(paper_id)\n",
    "        \n",
    "        # replace citations\n",
    "        try:\n",
    "            bibdata = latex_bib.LatexBib.from_doc(doc)\n",
    "            full_md = latex_bib.replace_citations(full_md, bibdata)\n",
    "        except Exception as e:\n",
    "            print(\"Issues with the citations\")\n",
    "            print(e)\n",
    "        \n",
    "        documents.append((paper_id, full_md))\n",
    "    except Exception as e:\n",
    "        warnings.warn(latex.LatexWarning(f\"{paper_id:s} did not run properly\\n\" +\n",
    "                                         str(e)\n",
    "                                        ))\n",
    "        failed.append((paper, \"latex error \" + str(e)))"
   ]
  },
  {
   "cell_type": "markdown",
   "id": "2505a25c",
   "metadata": {
    "papermill": {
     "duration": 0.00353,
     "end_time": "2024-12-09T04:12:35.053632",
     "exception": false,
     "start_time": "2024-12-09T04:12:35.050102",
     "status": "completed"
    },
    "tags": []
   },
   "source": [
    "### Export the logs\n",
    "\n",
    "Throughout, we also keep track of the logs per paper. see `logs-{today date}.md` "
   ]
  },
  {
   "cell_type": "code",
   "execution_count": 6,
   "id": "d733828a",
   "metadata": {
    "execution": {
     "iopub.execute_input": "2024-12-09T04:12:35.061506Z",
     "iopub.status.busy": "2024-12-09T04:12:35.061241Z",
     "iopub.status.idle": "2024-12-09T04:12:35.073441Z",
     "shell.execute_reply": "2024-12-09T04:12:35.072877Z"
    },
    "papermill": {
     "duration": 0.017304,
     "end_time": "2024-12-09T04:12:35.074385",
     "exception": false,
     "start_time": "2024-12-09T04:12:35.057081",
     "status": "completed"
    },
    "scrolled": false,
    "tags": []
   },
   "outputs": [
    {
     "data": {
      "text/markdown": [
       "## Successful papers"
      ],
      "text/plain": [
       "<IPython.core.display.Markdown object>"
      ]
     },
     "metadata": {},
     "output_type": "display_data"
    },
    {
     "data": {
      "text/markdown": [
       "\n",
       "|||\n",
       "|---:|:---|\n",
       "| [![arXiv](https://img.shields.io/badge/arXiv-2412.04557-b31b1b.svg)](https://arxiv.org/abs/2412.04557) | **An unambiguous AGN and a Balmer break in an Ultraluminous Little Red Dot at z=4.47 from Ultradeep UNCOVER and All the Little Things Spectroscopy**  |\n",
       "|| I. Labbe, et al. -- incl., <mark>A. d. Graaff</mark> |\n",
       "|*Appeared on*| *2024-12-09*|\n",
       "|*Comments*| *28 pages,10 figures, submitted to ApJ*|\n",
       "|**Abstract**|            We present a detailed exploration of the most optically-luminous Little Red Dot ($L_{H\\alpha}=10^{44}$erg/s, $L_V=10^{45}$erg/s, F444W=22AB) found to date. Located in the Abell 2744 field, source A744-45924 was observed by NIRSpec/PRISM with ultradeep spectroscopy reaching SNR$\\sim$100pix$^{-1}$, high-resolution 3-4 micron NIRCam/Grism spectroscopy, and NIRCam Medium Band imaging. The NIRCam spectra reveal high rest-frame EW $W_{H\\alpha,0,broad}>800$Å, broad H$\\alpha$ emission (FWHM$\\sim$4500 km/s), on top of narrow, complex absorption. NIRSpec data show exceptionally strong rest-frame UV to NIR Fe II emission ($W_{FeII-UV,0}\\sim$340Å), N IV]$\\lambda\\lambda$1483,1486 and N III]$\\lambda$1750, and broad NIR O I $\\lambda$8446 emission. The spectra unambiguously demonstrate a broad-line region associated with an inferred $M_{BH}\\sim10^9M_\\odot$ supermassive black hole embedded in dense gas, which might explain a non-detection in ultradeep Chandra X-ray data (>$10\\times$ underluminous relative to broad $L_{H\\alpha}$). Strong UV Nitrogen lines suggest supersolar N/O ratios due to rapid star formation or intense radiation near the AGN. The continuum shows a clear Balmer break at rest-frame 3650Å, which cannot be accounted for by an AGN power-law alone. A stellar population model produces an excellent fit with a reddened Balmer break and implying a massive ($M_*\\sim8\\times10^{10}M_\\odot$), old $\\sim$500 Myr, compact stellar core, among the densest stellar systems known ($\\rho\\sim3\\times10^6M_\\odot$/pc$^2$ for $R_{e,opt}=70\\pm10$ pc), and AGN emission with extreme intrinsic EW $W_{H\\alpha,0}\\gg$1000Å. However, although high $M_*$ and $M_{BH}$ are supported by evidence of an overdensity containing 40 galaxies at $z=4.41-4.51$, deep high-resolution spectroscopy is required to confirm stellar absorption and rule out that dense gas around the AGN causes the Balmer break instead.         |"
      ],
      "text/plain": [
       "[2412.04557] An unambiguous AGN and a Balmer break in an Ultraluminous Little Red Dot at z=4.47 from Ultradeep UNCOVER and All the Little Things Spectroscopy\n",
       "\tI. Labbe, et al. -- incl., <mark>A. d. Graaff</mark>"
      ]
     },
     "metadata": {},
     "output_type": "display_data"
    },
    {
     "data": {
      "text/markdown": [
       "## Failed papers"
      ],
      "text/plain": [
       "<IPython.core.display.Markdown object>"
      ]
     },
     "metadata": {},
     "output_type": "display_data"
    }
   ],
   "source": [
    "import datetime\n",
    "today = str(datetime.date.today())\n",
    "logfile = f\"_build/html/logs/log-{today}.md\"\n",
    "\n",
    "\n",
    "with open(logfile, 'w') as logs:\n",
    "    # Success\n",
    "    logs.write(f'# Arxiv on Deck 2: Logs - {today}\\n\\n')\n",
    "    logs.write(\"\"\"* Arxiv had {0:,d} new papers\\n\"\"\".format(len(new_papers)))\n",
    "    logs.write(\"\"\"    * {0:,d} with possible author matches\\n\\n\"\"\".format(len(candidates)))\n",
    "    logs.write(\"## Sucessful papers\\n\\n\")\n",
    "    display(Markdown(\"## Successful papers\"))\n",
    "    success = [k[0] for k in documents]\n",
    "    for candid in candidates:\n",
    "        if candid['identifier'].split(':')[-1] in success:\n",
    "            display(candid)\n",
    "            logs.write(candid.generate_markdown_text() + '\\n\\n')\n",
    "\n",
    "    ## failed\n",
    "    logs.write(\"## Failed papers\\n\\n\")\n",
    "    display(Markdown(\"## Failed papers\"))\n",
    "    failed = sorted(failed, key=lambda x: x[1])\n",
    "    current_reason = \"\"\n",
    "    for paper, reason in failed:\n",
    "        if 'affiliation' in reason:\n",
    "            color = 'green'\n",
    "        else:\n",
    "            color = 'red'\n",
    "        data = Markdown(\n",
    "                paper.generate_markdown_text() + \n",
    "                f'\\n|<p style=\"color:{color:s}\"> **ERROR** </p>| <p style=\"color:{color:s}\">{reason:s}</p> |'\n",
    "               )\n",
    "        if reason != current_reason:\n",
    "            logs.write(f'### {reason:s} \\n\\n')\n",
    "            current_reason = reason\n",
    "        logs.write(data.data + '\\n\\n')\n",
    "        \n",
    "        # only display here the important errors (all in logs)\n",
    "        # if color in ('red',):\n",
    "        display(data)"
   ]
  },
  {
   "cell_type": "markdown",
   "id": "472d20ee",
   "metadata": {
    "papermill": {
     "duration": 0.003676,
     "end_time": "2024-12-09T04:12:35.082029",
     "exception": false,
     "start_time": "2024-12-09T04:12:35.078353",
     "status": "completed"
    },
    "tags": []
   },
   "source": [
    "## Export documents\n",
    "\n",
    "We now write the .md files and export relevant images"
   ]
  },
  {
   "cell_type": "code",
   "execution_count": 7,
   "id": "d426aed9",
   "metadata": {
    "execution": {
     "iopub.execute_input": "2024-12-09T04:12:35.090396Z",
     "iopub.status.busy": "2024-12-09T04:12:35.090185Z",
     "iopub.status.idle": "2024-12-09T04:12:35.097086Z",
     "shell.execute_reply": "2024-12-09T04:12:35.096510Z"
    },
    "papermill": {
     "duration": 0.012265,
     "end_time": "2024-12-09T04:12:35.098056",
     "exception": false,
     "start_time": "2024-12-09T04:12:35.085791",
     "status": "completed"
    },
    "tags": []
   },
   "outputs": [],
   "source": [
    "def export_markdown_summary(md: str, md_fname:str, directory: str):\n",
    "    \"\"\"Export MD document and associated relevant images\"\"\"\n",
    "    import os\n",
    "    import shutil\n",
    "    import re\n",
    "\n",
    "    if (os.path.exists(directory) and not os.path.isdir(directory)):\n",
    "        raise RuntimeError(f\"a non-directory file exists with name {directory:s}\")\n",
    "\n",
    "    if (not os.path.exists(directory)):\n",
    "        print(f\"creating directory {directory:s}\")\n",
    "        os.mkdir(directory)\n",
    "\n",
    "    fig_fnames = (re.compile(r'\\[Fig.*\\]\\((.*)\\)').findall(md) + \n",
    "                  re.compile(r'\\<img src=\"([^>\\s]*)\"[^>]*/>').findall(md))\n",
    "    print(\"found figures\", fig_fnames)\n",
    "    for fname in fig_fnames:\n",
    "        if 'http' in fname:\n",
    "            # No need to copy online figures\n",
    "            continue\n",
    "        if not os.path.exists(fname):\n",
    "            print(\"file not found\", fname)\n",
    "            continue\n",
    "        print(\"copying \", fname, \"to\", directory)\n",
    "        destdir = os.path.join(directory, os.path.dirname(fname))\n",
    "        destfname = os.path.join(destdir, os.path.basename(fname))\n",
    "        try:\n",
    "            os.makedirs(destdir)\n",
    "        except FileExistsError:\n",
    "            pass\n",
    "        shutil.copy(fname, destfname)\n",
    "    with open(os.path.join(directory, md_fname), 'w') as fout:\n",
    "        fout.write(md)\n",
    "    print(\"exported in \", os.path.join(directory, md_fname))\n",
    "    [print(\"    + \" + os.path.join(directory,fk)) for fk in fig_fnames]"
   ]
  },
  {
   "cell_type": "code",
   "execution_count": 8,
   "id": "014d04a4",
   "metadata": {
    "execution": {
     "iopub.execute_input": "2024-12-09T04:12:35.106451Z",
     "iopub.status.busy": "2024-12-09T04:12:35.106197Z",
     "iopub.status.idle": "2024-12-09T04:12:35.118283Z",
     "shell.execute_reply": "2024-12-09T04:12:35.117734Z"
    },
    "papermill": {
     "duration": 0.017377,
     "end_time": "2024-12-09T04:12:35.119280",
     "exception": false,
     "start_time": "2024-12-09T04:12:35.101903",
     "status": "completed"
    },
    "tags": []
   },
   "outputs": [
    {
     "name": "stdout",
     "output_type": "stream",
     "text": [
      "found figures ['tmp_2412.04557/./FIGS/stamps.png', 'tmp_2412.04557/./FIGS/spectrum_v1_msa4.png', 'tmp_2412.04557/./FIGS/stamps.png', 'tmp_2412.04557/./FIGS/spectrum_v1_msa4.png', 'tmp_2412.04557/./FIGS/agn_model.png']\n",
      "copying  tmp_2412.04557/./FIGS/stamps.png to _build/html/\n",
      "copying  tmp_2412.04557/./FIGS/spectrum_v1_msa4.png to _build/html/\n",
      "copying  tmp_2412.04557/./FIGS/stamps.png to _build/html/\n",
      "copying  tmp_2412.04557/./FIGS/spectrum_v1_msa4.png to _build/html/\n",
      "copying  tmp_2412.04557/./FIGS/agn_model.png to _build/html/\n",
      "exported in  _build/html/2412.04557.md\n",
      "    + _build/html/tmp_2412.04557/./FIGS/stamps.png\n",
      "    + _build/html/tmp_2412.04557/./FIGS/spectrum_v1_msa4.png\n",
      "    + _build/html/tmp_2412.04557/./FIGS/stamps.png\n",
      "    + _build/html/tmp_2412.04557/./FIGS/spectrum_v1_msa4.png\n",
      "    + _build/html/tmp_2412.04557/./FIGS/agn_model.png\n"
     ]
    }
   ],
   "source": [
    "for paper_id, md in documents:\n",
    "    export_markdown_summary(md, f\"{paper_id:s}.md\", '_build/html/')"
   ]
  },
  {
   "cell_type": "markdown",
   "id": "f087a0a7",
   "metadata": {
    "papermill": {
     "duration": 0.003845,
     "end_time": "2024-12-09T04:12:35.127107",
     "exception": false,
     "start_time": "2024-12-09T04:12:35.123262",
     "status": "completed"
    },
    "tags": []
   },
   "source": [
    "## Display the papers\n",
    "\n",
    "Not necessary but allows for a quick check."
   ]
  },
  {
   "cell_type": "code",
   "execution_count": 9,
   "id": "fd25f625",
   "metadata": {
    "execution": {
     "iopub.execute_input": "2024-12-09T04:12:35.135743Z",
     "iopub.status.busy": "2024-12-09T04:12:35.135531Z",
     "iopub.status.idle": "2024-12-09T04:12:35.140247Z",
     "shell.execute_reply": "2024-12-09T04:12:35.139627Z"
    },
    "papermill": {
     "duration": 0.01016,
     "end_time": "2024-12-09T04:12:35.141230",
     "exception": false,
     "start_time": "2024-12-09T04:12:35.131070",
     "status": "completed"
    },
    "scrolled": false,
    "tags": []
   },
   "outputs": [
    {
     "data": {
      "text/markdown": [
       "<div class=\"macros\" style=\"visibility:hidden;\">\n",
       "$\\newcommand{\\ensuremath}{}$\n",
       "$\\newcommand{\\xspace}{}$\n",
       "$\\newcommand{\\object}[1]{\\texttt{#1}}$\n",
       "$\\newcommand{\\farcs}{{.}''}$\n",
       "$\\newcommand{\\farcm}{{.}'}$\n",
       "$\\newcommand{\\arcsec}{''}$\n",
       "$\\newcommand{\\arcmin}{'}$\n",
       "$\\newcommand{\\ion}[2]{#1#2}$\n",
       "$\\newcommand{\\textsc}[1]{\\textrm{#1}}$\n",
       "$\\newcommand{\\hl}[1]{\\textrm{#1}}$\n",
       "$\\newcommand{\\footnote}[1]{}$\n",
       "$\\newcommand{\\angstrom}{\\text{ \\normalfontÅ}\\xspace}$\n",
       "$\\newcommand{\\deltare}{\\mathrm{\\Delta log(r_e)}}$\n",
       "$\\newcommand{\\oiii}{[\\ion{O}{3}]\\xspace}$\n",
       "$\\newcommand{\\nii}{[\\ion{N}{2}]\\xspace}$\n",
       "$\\newcommand{\\niilam}{[\\ion{N}{2}]\\lambda6549,6585\\xspace}$\n",
       "$\\newcommand{\\feii}{\\ion{Fe}{2}\\xspace}$\n",
       "$\\newcommand{\\nev}{[\\ion{Ne}{5}]\\xspace}$\n",
       "$\\newcommand{\\msun}{M_{\\odot}}$\n",
       "$\\newcommand{\\sersic}{Sérsic}$\n",
       "$\\newcommand{\\mkgroup}{M_{\\rm K,  group}}$\n",
       "$\\newcommand{\\mstar}{M_*}$\n",
       "$\\newcommand{\\mbh}{M_{\\rm BH}}$\n",
       "$\\newcommand{\\lbol}{L_{\\rm bol}}$\n",
       "$\\newcommand{\\jwst}{\\ensuremath{JWST}}$\n",
       "$\\newcommand{\\ivo}[1]{\\textcolor{violet}{#1}}$\n",
       "$\\newcommand{\\lt}{\\textcolor{magenta!60!black}}$\n",
       "$\\newcommand{\\catnr}{50,000}$\n",
       "$\\newcommand{\\bronzenr}{40}$\n",
       "$\\newcommand{\\silvernr}{26}$\n",
       "$\\newcommand{\\goldnr}{17}$\n",
       "$\\newcommand{\\sourcenum}{17\\xspace}$\n",
       "$\\newcommand{\\source}{A2744-45924\\xspace}$\n",
       "$\\newcommand{\\hide}[1]$\n",
       "$\\newcommand{\\jw}{\\emph{JWST}}$\n",
       "$\\newcommand{\\angstrom}{\\text{ \\normalfontÅ}\\xspace}$\n",
       "$\\newcommand{\\deltare}{\\mathrm{\\Delta log(r_e)}}$\n",
       "$\\newcommand{\\oiii}{[\\ion{O}{3}]\\xspace}$\n",
       "$\\newcommand{\\nii}{[\\ion{N}{2}]\\xspace}$\n",
       "$\\newcommand{\\niilam}{[\\ion{N}{2}]\\lambda6549,6585\\xspace}$\n",
       "$\\newcommand{\\feii}{\\ion{Fe}{2}\\xspace}$\n",
       "$\\newcommand{\\nev}{[\\ion{Ne}{5}]\\xspace}$\n",
       "$\\newcommand{\\msun}{M_{\\odot}}$\n",
       "$\\newcommand{\\sersic}{Sérsic}$\n",
       "$\\newcommand{\\mkgroup}{M_{\\rm K,  group}}$\n",
       "$\\newcommand{\\mstar}{M_*}$\n",
       "$\\newcommand{\\mbh}{M_{\\rm BH}}$\n",
       "$\\newcommand{\\lbol}{L_{\\rm bol}}$\n",
       "$\\newcommand{\\jwst}{\\ensuremath{JWST}}$\n",
       "$\\newcommand{\\ivo}[1]{\\textcolor{violet}{#1}}$\n",
       "$\\newcommand{\\lt}{\\textcolor{magenta!60!black}}$\n",
       "$\\newcommand{\\catnr}{50,000}$\n",
       "$\\newcommand{\\bronzenr}{40}$\n",
       "$\\newcommand{\\silvernr}{26}$\n",
       "$\\newcommand{\\goldnr}{17}$\n",
       "$\\newcommand{\\sourcenum}{17\\xspace}$\n",
       "$\\newcommand{\\source}{A2744-45924\\xspace}$\n",
       "$\\newcommand{\\hide}[1]$\n",
       "$\\newcommand{\\jw}{\\emph{JWST}}$\n",
       "$\\newcommand{\\halpha}{\\ensuremath{\\mathrm{H}\\alpha}\\xspace}$\n",
       "$\\newcommand{\\hbeta}{\\ensuremath{\\mathrm{H}\\beta}\\xspace}$\n",
       "$\\newcommand{\\lya}{Ly\\alpha}$\n",
       "$\\newcommand{\\lyb}{Ly\\beta}$\n",
       "$\\newcommand{\\MgII}{Mg {\\sc ii}\\xspace}$\n",
       "$\\newcommand{\\CIV}{C {\\sc iv}\\xspace}$\n",
       "$\\newcommand{\\CIII}{C {\\sc iii]}\\xspace}$\n",
       "$\\newcommand{\\FeII}{Fe {\\sc ii}\\xspace}$\n",
       "$\\newcommand{\\NV}{N {\\sc v}\\xspace}$\n",
       "$\\newcommand{\\HeII}{He {\\sc ii}\\xspace}$\n",
       "$\\newcommand{\\MgIIwave}{Mg {\\sc ii} \\lambda2798}$\n",
       "$\\newcommand{\\OIII}{[O {\\sc iii}]}$\n",
       "$\\newcommand{\\OII}{[O {\\sc ii}]}$\n",
       "$\\newcommand{\\NeIII}{[Ne {\\sc iii}]}$\n",
       "$\\newcommand{\\lgL}{\\log \\left({L_{\\rm bol} \\over{\\rm erg s^{-1}}}\\right)}$\n",
       "$\\newcommand{\\halpha}{\\ensuremath{\\mathrm{H}\\alpha}\\xspace}$\n",
       "$\\newcommand{\\hbeta}{\\ensuremath{\\mathrm{H}\\beta}\\xspace}$\n",
       "$\\newcommand{\\lya}{Ly\\alpha}$\n",
       "$\\newcommand{\\lyb}{Ly\\beta}$\n",
       "$\\newcommand{\\MgII}{Mg {\\sc ii}\\xspace}$\n",
       "$\\newcommand{\\CIV}{C {\\sc iv}\\xspace}$\n",
       "$\\newcommand{\\CIII}{C {\\sc iii]}\\xspace}$\n",
       "$\\newcommand{\\FeII}{Fe {\\sc ii}\\xspace}$\n",
       "$\\newcommand{\\NV}{N {\\sc v}\\xspace}$\n",
       "$\\newcommand{\\HeII}{He {\\sc ii}\\xspace}$\n",
       "$\\newcommand{\\MgIIwave}{Mg {\\sc ii} \\lambda2798}$\n",
       "$\\newcommand{\\OIII}{[O {\\sc iii}]}$\n",
       "$\\newcommand{\\OII}{[O {\\sc ii}]}$\n",
       "$\\newcommand{\\NeIII}{[Ne {\\sc iii}]}$\n",
       "$\\newcommand{\\lgL}{\\log \\left({L_{\\rm bol} \\over{\\rm erg s^{-1}}}\\right)}$</div>\n",
       "\n",
       "\n",
       "\n",
       "<div id=\"title\">\n",
       "\n",
       "# An unambiguous AGN and a Balmer break in an Ultraluminous Little Red Dot at z=4.47 from Ultradeep UNCOVER and All the Little Things Spectroscopy\n",
       "\n",
       "</div>\n",
       "<div id=\"comments\">\n",
       "\n",
       "[![arXiv](https://img.shields.io/badge/arXiv-2412.04557-b31b1b.svg)](https://arxiv.org/abs/2412.04557)<mark>Appeared on: 2024-12-09</mark> -  _28 pages,10 figures, submitted to ApJ_\n",
       "\n",
       "</div>\n",
       "<div id=\"authors\">\n",
       "\n",
       "I. Labbe, et al. -- incl., <mark>A. d. Graaff</mark>\n",
       "\n",
       "</div>\n",
       "<div id=\"abstract\">\n",
       "\n",
       "**Abstract:** We present a detailed exploration of the most optically-luminous Little Red Dot ( $L_{\\mathrm{H}\\alpha} = 10^{44}$ erg/s, $L_V=10^{45}$ erg/s, $\\mathrm{F444W} = 22$ AB) discovered by JWST to date. Located in the $* UNCOVER*$ Abell 2744 field, source $\\source$ was observed by NIRSpec/PRISM with ultradeep spectroscopy reaching $\\langle \\text{SNR} \\rangle \\sim 100   \\text{pix}^{-1}$ , high-resolution $3-4$  $\\micron$ NIRCam/Grism spectroscopy from the $* All the Little Things (ALT)*$ program, and multi-band NIRCam Medium Band imaging from $* Mega Science*$ . The NIRCam spectra reveal high rest-frame equivalent width $W_{\\mathrm{H}\\alpha,0,\\mathrm{broad}} > 800$  $\\angstrom$ , broad  H $\\alpha$ emission ( $\\mathrm{FWHM} \\sim 4500$ km/s), on top of narrow, complex H $\\alpha$ absorption. NIRSpec data show exceptionally strong rest-frame ultraviolet (UV) to near-infrared (NIR) $\\ion{Fe}{2}$ emission ( $W_{\\mathrm{FeII-UV},0} \\sim 340$ Å), UV $\\ion{N}{4}$ ]  $\\lambda \\lambda 1483, 1486$ and $\\ion{N}{3}$ ]  $\\lambda 1750$ , and broad NIR $\\ion{O}{1}$ $\\lambda8446$ emission. The line spectra unambiguously demonstrate a broad-line region (BLR) associated with a possible $M_{\\mathrm{BH}} \\sim 10^9 M_\\odot$ supermassive black hole embedded in dense gas, which might explain the non-detection in ultradeep Chandra X-ray data ( $\\gtrsim10\\times$ underluminous relative to broad $L_{\\halpha}$ ). Strong UV Nitrogen lines suggest supersolar N/O ratios due to rapid star formation or intense radiation fields near the AGN. The observed continuum shows a clear Balmer break at rest-frame $3650$ Å, which cannot be accounted for by power-law AGN alone. A stellar population model produces an excellent fit with a reddened Balmer break and would imply a massive ( $M_* \\approx 8 \\times 10^{10} M_{\\odot}$ ), old $\\sim 500$ Myr, compact stellar core, among the densest stellar systems known ( $\\rho \\approx 3 \\times 10^6 M_{\\odot}$ /pc $^2$ for $R_{e,\\mathrm{optical}} = 70 \\pm 10$ pc), and AGN emission lines with extreme intrinsic equivalent width $W_{\\mathrm{H}\\alpha,0} \\gg 1000$  $\\angstrom$ . However, although high $M_*$ and $M_{\\mathrm{BH}}$ are supported by evidence of a galaxy overdensity containing 40 galaxies at $z=4.41-4.51$ , deep high-resolution spectroscopy is required to confirm stellar absorption and rule out that the Balmer break is instead caused by dense gas surrounding the AGN.\n",
       "\n",
       "</div>\n",
       "\n",
       "<div id=\"div_fig1\">\n",
       "\n",
       "<img src=\"tmp_2412.04557/./FIGS/stamps.png\" alt=\"Fig19.1\" width=\"50%\"/><img src=\"tmp_2412.04557/./FIGS/spectrum_v1_msa4.png\" alt=\"Fig19.2\" width=\"50%\"/>\n",
       "\n",
       "**Figure 19. -** Top: broadband NIRCam images of $\\source$ in the short wavelength channel filters F070W, F090W, F115W, F150W, F200W at 20 mas pixel size and long wavelength channel filters F277W, F356W, F444W at 40 mas pixel size. The images are $3$\\arcsec$$ on a side. North is up, East is left. Also shown are color composite images and an overlay of the micro-shutter array locations of the NIRSpec PRISM observations. Middle: the 2D NIRSpec/PRISM spectrum used for analysis. Bottom: observed NIRSpec/PRISM spectrum (black) and error array (grey). Positions of key spectroscopic features are indicated. Top axis is rest-frame wavelength in micron. (*fig:thedata*)\n",
       "\n",
       "</div>\n",
       "<div id=\"div_fig2\">\n",
       "\n",
       "<img src=\"tmp_2412.04557/./FIGS/stamps.png\" alt=\"Fig23.1\" width=\"50%\"/><img src=\"tmp_2412.04557/./FIGS/spectrum_v1_msa4.png\" alt=\"Fig23.2\" width=\"50%\"/>\n",
       "\n",
       "**Figure 23. -** Top: broadband NIRCam images of $\\source$ in the short wavelength channel filters F070W, F090W, F115W, F150W, F200W at 20 mas pixel size and long wavelength channel filters F277W, F356W, F444W at 40 mas pixel size. The images are $3$\\arcsec$$ on a side. North is up, East is left. Also shown are color composite images and an overlay of the micro-shutter array locations of the NIRSpec PRISM observations. Middle: the 2D NIRSpec/PRISM spectrum used for analysis. Bottom: observed NIRSpec/PRISM spectrum (black) and error array (grey). Positions of key spectroscopic features are indicated. Top axis is rest-frame wavelength in micron. (*fig:thedata*)\n",
       "\n",
       "</div>\n",
       "<div id=\"div_fig3\">\n",
       "\n",
       "<img src=\"tmp_2412.04557/./FIGS/agn_model.png\" alt=\"Fig21\" width=\"100%\"/>\n",
       "\n",
       "**Figure 21. -** Model fitting results using only AGN components (model I, top panels), only stellar components (model II, middle), and a mix of AGN and stars (model III, bottom). NIRSpec/PRISM observations (black), uncertainties (dotted), model fits (gray), and normalized residuals are shown. Model I consists of a dust-reddened AGN component (red) and a blue component (here parameterized as a fraction of dust-free scattered light; blue), which dominates at $<2 \\micron$ despite being only a small percentage of the red luminosity. The model can produce an apparent sharp break at $\\sim3500$Å due to a blend of strong broad emission lines and broad $\\ion${Fe}{2} pseudo-continuum at $4000-5500Å$, but leaves significant residuals throughout the rest-frame optical. Model II consists of two FSPS population components, each velocity-broadened according to the stellar mass and effective radius at F300W and where the broad lines are stellar in origin. AGN specific lines are masked. Model III is a mix of AGN and a stellar component. This fit prefers an evolved stellar population to dominating the rest-frame optical to match the observed Balmer break, with significant contribution from AGN emission lines and $\\ion${Fe}{2}. Between these models, model III is favored by the data.\n",
       " (*fig:agn_detailed_fit*)\n",
       "\n",
       "</div><div id=\"qrcode\"><img src=https://api.qrserver.com/v1/create-qr-code/?size=100x100&data=\"https://arxiv.org/abs/2412.04557\"></div>"
      ],
      "text/plain": [
       "<IPython.core.display.Markdown object>"
      ]
     },
     "metadata": {},
     "output_type": "display_data"
    }
   ],
   "source": [
    "[display(Markdown(k[1])) for k in documents];"
   ]
  },
  {
   "cell_type": "markdown",
   "id": "873873a4",
   "metadata": {
    "papermill": {
     "duration": 0.00418,
     "end_time": "2024-12-09T04:12:35.149596",
     "exception": false,
     "start_time": "2024-12-09T04:12:35.145416",
     "status": "completed"
    },
    "tags": []
   },
   "source": [
    "# Create HTML index"
   ]
  },
  {
   "cell_type": "code",
   "execution_count": 10,
   "id": "cf665672",
   "metadata": {
    "execution": {
     "iopub.execute_input": "2024-12-09T04:12:35.159161Z",
     "iopub.status.busy": "2024-12-09T04:12:35.158708Z",
     "iopub.status.idle": "2024-12-09T04:12:35.167021Z",
     "shell.execute_reply": "2024-12-09T04:12:35.166503Z"
    },
    "papermill": {
     "duration": 0.014167,
     "end_time": "2024-12-09T04:12:35.167987",
     "exception": false,
     "start_time": "2024-12-09T04:12:35.153820",
     "status": "completed"
    },
    "tags": []
   },
   "outputs": [
    {
     "name": "stdout",
     "output_type": "stream",
     "text": [
      "271  publications files modified in the last 7 days.\n"
     ]
    }
   ],
   "source": [
    "from datetime import datetime, timedelta, timezone\n",
    "from glob import glob\n",
    "import os\n",
    "\n",
    "files = glob('_build/html/*.md')\n",
    "days = 7\n",
    "now = datetime.today()\n",
    "res = []\n",
    "for fk in files:\n",
    "    stat_result = os.stat(fk).st_ctime\n",
    "    modified = datetime.fromtimestamp(stat_result, tz=timezone.utc).replace(tzinfo=None)\n",
    "    delta = now.today() - modified\n",
    "    if delta <= timedelta(days=days):\n",
    "        res.append((delta.seconds, fk))\n",
    "res = [k[1] for k in reversed(sorted(res, key=lambda x:x[1]))]\n",
    "npub = len(res)\n",
    "print(len(res), f\" publications files modified in the last {days:d} days.\")\n",
    "# [ print('\\t', k) for k in res ];"
   ]
  },
  {
   "cell_type": "code",
   "execution_count": 11,
   "id": "015de740",
   "metadata": {
    "execution": {
     "iopub.execute_input": "2024-12-09T04:12:35.177522Z",
     "iopub.status.busy": "2024-12-09T04:12:35.176961Z",
     "iopub.status.idle": "2024-12-09T04:12:35.194410Z",
     "shell.execute_reply": "2024-12-09T04:12:35.193868Z"
    },
    "papermill": {
     "duration": 0.023125,
     "end_time": "2024-12-09T04:12:35.195343",
     "exception": false,
     "start_time": "2024-12-09T04:12:35.172218",
     "status": "completed"
    },
    "tags": []
   },
   "outputs": [
    {
     "name": "stdout",
     "output_type": "stream",
     "text": [
      "13  publications in the last 7 days.\n"
     ]
    }
   ],
   "source": [
    "import datetime\n",
    "from glob import glob\n",
    "\n",
    "def get_last_n_days(lst, days=1):\n",
    "    \"\"\" Get the documents from the last n days \"\"\"\n",
    "    sorted_lst = sorted(lst, key=lambda x: x[1], reverse=True)\n",
    "    for fname, date in sorted_lst:\n",
    "        if date >= str(datetime.date.today() - datetime.timedelta(days=days)):\n",
    "            yield fname\n",
    "\n",
    "def extract_appearance_dates(lst_file):\n",
    "    dates = []\n",
    "\n",
    "    def get_date(line):\n",
    "        return line\\\n",
    "            .split('Appeared on:')[-1]\\\n",
    "            .split('</mark>')[0].strip()\n",
    "\n",
    "    for fname in lst:\n",
    "        with open(fname, 'r') as f:\n",
    "            found_date = False\n",
    "            for line in f:\n",
    "                if not found_date:\n",
    "                    if \"Appeared on\" in line:\n",
    "                        found_date = True\n",
    "                        dates.append((fname, get_date(line)))\n",
    "                else:\n",
    "                    break\n",
    "    return dates\n",
    "\n",
    "from glob import glob\n",
    "lst = glob('_build/html/*md')\n",
    "days = 7\n",
    "dates = extract_appearance_dates(lst)\n",
    "res = list(get_last_n_days(dates, days))\n",
    "npub = len(res)\n",
    "print(len(res), f\" publications in the last {days:d} days.\")"
   ]
  },
  {
   "cell_type": "code",
   "execution_count": 12,
   "id": "52ca0208",
   "metadata": {
    "execution": {
     "iopub.execute_input": "2024-12-09T04:12:35.205125Z",
     "iopub.status.busy": "2024-12-09T04:12:35.204653Z",
     "iopub.status.idle": "2024-12-09T04:12:35.209380Z",
     "shell.execute_reply": "2024-12-09T04:12:35.208825Z"
    },
    "papermill": {
     "duration": 0.010573,
     "end_time": "2024-12-09T04:12:35.210343",
     "exception": false,
     "start_time": "2024-12-09T04:12:35.199770",
     "status": "completed"
    },
    "scrolled": false,
    "tags": []
   },
   "outputs": [],
   "source": [
    "def create_carousel(npub=4):\n",
    "    \"\"\" Generate the HTML code for a carousel with `npub` slides \"\"\"\n",
    "    carousel = [\"\"\"  <div class=\"carousel\" \"\"\",\n",
    "                \"\"\"       data-flickity='{ \"autoPlay\": 10000, \"adaptiveHeight\": true, \"resize\": true, \"wrapAround\": true, \"pauseAutoPlayOnHover\": true, \"groupCells\": 1 }' id=\"asyncTypeset\">\"\"\"\n",
    "                ]\n",
    "    \n",
    "    item_str = \"\"\"    <div class=\"carousel-cell\"> <div id=\"slide{k}\" class=\"md_view\">Content {k}</div> </div>\"\"\"\n",
    "    for k in range(1, npub + 1):\n",
    "        carousel.append(item_str.format(k=k))\n",
    "    carousel.append(\"  </div>\")\n",
    "    return '\\n'.join(carousel)\n",
    "\n",
    "def create_grid(npub=4):\n",
    "    \"\"\" Generate the HTML code for a flat grid with `npub` slides \"\"\"\n",
    "    grid = [\"\"\"  <div class=\"grid\"> \"\"\",\n",
    "                ]\n",
    "    \n",
    "    item_str = \"\"\"    <div class=\"grid-item\"> <div id=\"slide{k}\" class=\"md_view\">Content {k}</div> </div>\"\"\"\n",
    "    for k in range(1, npub + 1):\n",
    "        grid.append(item_str.format(k=k))\n",
    "    grid.append(\"  </div>\")\n",
    "    return '\\n'.join(grid)"
   ]
  },
  {
   "cell_type": "code",
   "execution_count": 13,
   "id": "a6eac5b6",
   "metadata": {
    "execution": {
     "iopub.execute_input": "2024-12-09T04:12:35.219980Z",
     "iopub.status.busy": "2024-12-09T04:12:35.219606Z",
     "iopub.status.idle": "2024-12-09T04:12:35.224567Z",
     "shell.execute_reply": "2024-12-09T04:12:35.223937Z"
    },
    "papermill": {
     "duration": 0.010962,
     "end_time": "2024-12-09T04:12:35.225727",
     "exception": false,
     "start_time": "2024-12-09T04:12:35.214765",
     "status": "completed"
    },
    "scrolled": false,
    "tags": []
   },
   "outputs": [],
   "source": [
    "carousel = create_carousel(npub)\n",
    "docs = ', '.join(['\"{0:s}\"'.format(k.split('/')[-1]) for k in res])\n",
    "slides = ', '.join([f'\"slide{k}\"' for k in range(1, npub + 1)])\n",
    "\n",
    "with open(\"daily_template.html\", \"r\") as tpl:\n",
    "    page = tpl.read()\n",
    "    page = page.replace(\"{%-- carousel:s --%}\", carousel)\\\n",
    "               .replace(\"{%-- suptitle:s --%}\",  \"7-day archives\" )\\\n",
    "               .replace(\"{%-- docs:s --%}\", docs)\\\n",
    "               .replace(\"{%-- slides:s --%}\", slides)\n",
    "    \n",
    "with open(\"_build/html/index_7days.html\", 'w') as fout:\n",
    "    fout.write(page)"
   ]
  },
  {
   "cell_type": "code",
   "execution_count": 14,
   "id": "adc1a1ec",
   "metadata": {
    "execution": {
     "iopub.execute_input": "2024-12-09T04:12:35.235569Z",
     "iopub.status.busy": "2024-12-09T04:12:35.235028Z",
     "iopub.status.idle": "2024-12-09T04:12:35.241687Z",
     "shell.execute_reply": "2024-12-09T04:12:35.241135Z"
    },
    "papermill": {
     "duration": 0.012482,
     "end_time": "2024-12-09T04:12:35.242618",
     "exception": false,
     "start_time": "2024-12-09T04:12:35.230136",
     "status": "completed"
    },
    "tags": []
   },
   "outputs": [
    {
     "name": "stdout",
     "output_type": "stream",
     "text": [
      "1  publications in the last day.\n"
     ]
    }
   ],
   "source": [
    "# redo for today\n",
    "days = 1\n",
    "res = list(get_last_n_days(dates, days))\n",
    "npub = len(res)\n",
    "print(len(res), f\" publications in the last day.\")\n",
    "\n",
    "carousel = create_carousel(npub)\n",
    "docs = ', '.join(['\"{0:s}\"'.format(k.split('/')[-1]) for k in res])\n",
    "slides = ', '.join([f'\"slide{k}\"' for k in range(1, npub + 1)])\n",
    "\n",
    "with open(\"daily_template.html\", \"r\") as tpl:\n",
    "    page = tpl.read()\n",
    "    page = page.replace(\"{%-- carousel:s --%}\", carousel)\\\n",
    "               .replace(\"{%-- suptitle:s --%}\",  \"Daily\" )\\\n",
    "               .replace(\"{%-- docs:s --%}\", docs)\\\n",
    "               .replace(\"{%-- slides:s --%}\", slides)\n",
    "    \n",
    "# print(carousel, docs, slides)\n",
    "# print(page)\n",
    "with open(\"_build/html/index_daily.html\", 'w') as fout:\n",
    "    fout.write(page)"
   ]
  },
  {
   "cell_type": "code",
   "execution_count": 15,
   "id": "00eece82",
   "metadata": {
    "execution": {
     "iopub.execute_input": "2024-12-09T04:12:35.252877Z",
     "iopub.status.busy": "2024-12-09T04:12:35.252377Z",
     "iopub.status.idle": "2024-12-09T04:12:35.258863Z",
     "shell.execute_reply": "2024-12-09T04:12:35.258301Z"
    },
    "papermill": {
     "duration": 0.012722,
     "end_time": "2024-12-09T04:12:35.259841",
     "exception": false,
     "start_time": "2024-12-09T04:12:35.247119",
     "status": "completed"
    },
    "scrolled": false,
    "tags": []
   },
   "outputs": [
    {
     "name": "stdout",
     "output_type": "stream",
     "text": [
      "6  6 publications selected.\n"
     ]
    }
   ],
   "source": [
    "# Create the flat grid of the last N papers (fixed number regardless of dates)\n",
    "from itertools import islice \n",
    "\n",
    "npub = 6\n",
    "res = [k[0] for k in (islice(reversed(sorted(dates, key=lambda x: x[1])), 6))]\n",
    "print(len(res), f\" {npub} publications selected.\")\n",
    "\n",
    "grid = create_grid(npub)\n",
    "docs = ', '.join(['\"{0:s}\"'.format(k.split('/')[-1]) for k in res])\n",
    "slides = ', '.join([f'\"slide{k}\"' for k in range(1, npub + 1)])\n",
    "\n",
    "with open(\"grid_template.html\", \"r\") as tpl:\n",
    "    page = tpl.read()\n",
    "    page = page.replace(\"{%-- grid-content:s --%}\", grid)\\\n",
    "               .replace(\"{%-- suptitle:s --%}\",  f\"Last {npub:,d} papers\" )\\\n",
    "               .replace(\"{%-- docs:s --%}\", docs)\\\n",
    "               .replace(\"{%-- slides:s --%}\", slides)\n",
    "    \n",
    "# print(grid, docs, slides)\n",
    "# print(page)\n",
    "with open(\"_build/html/index_npub_grid.html\", 'w') as fout:\n",
    "    fout.write(page)"
   ]
  }
 ],
 "metadata": {
  "kernelspec": {
   "display_name": "Python 3 (ipykernel)",
   "language": "python",
   "name": "python3"
  },
  "language_info": {
   "codemirror_mode": {
    "name": "ipython",
    "version": 3
   },
   "file_extension": ".py",
   "mimetype": "text/x-python",
   "name": "python",
   "nbconvert_exporter": "python",
   "pygments_lexer": "ipython3",
   "version": "3.9.20"
  },
  "papermill": {
   "default_parameters": {},
   "duration": 47.068022,
   "end_time": "2024-12-09T04:12:35.482131",
   "environment_variables": {},
   "exception": null,
   "input_path": "MPIA daily digest.ipynb",
   "output_path": "log.ipynb",
   "parameters": {},
   "start_time": "2024-12-09T04:11:48.414109",
   "version": "2.6.0"
  },
  "vscode": {
   "interpreter": {
    "hash": "aee8b7b246df8f9039afb4144a1f6fd8d2ca17a180786b69acc140d282b71a49"
   }
  },
  "widgets": {
   "application/vnd.jupyter.widget-state+json": {
    "state": {
     "47c16a28922a49ba9ecb68d80d12ad4e": {
      "model_module": "@jupyter-widgets/controls",
      "model_module_version": "2.0.0",
      "model_name": "ProgressStyleModel",
      "state": {
       "_model_module": "@jupyter-widgets/controls",
       "_model_module_version": "2.0.0",
       "_model_name": "ProgressStyleModel",
       "_view_count": null,
       "_view_module": "@jupyter-widgets/base",
       "_view_module_version": "2.0.0",
       "_view_name": "StyleView",
       "bar_color": null,
       "description_width": ""
      }
     },
     "4c340e1933af4fcbb35eac2f18f748dc": {
      "model_module": "@jupyter-widgets/controls",
      "model_module_version": "2.0.0",
      "model_name": "FloatProgressModel",
      "state": {
       "_dom_classes": [],
       "_model_module": "@jupyter-widgets/controls",
       "_model_module_version": "2.0.0",
       "_model_name": "FloatProgressModel",
       "_view_count": null,
       "_view_module": "@jupyter-widgets/controls",
       "_view_module_version": "2.0.0",
       "_view_name": "ProgressView",
       "bar_style": "success",
       "description": "",
       "description_allow_html": false,
       "layout": "IPY_MODEL_76dd1b4152e9449c98cd693d727b3ec9",
       "max": 1.0,
       "min": 0.0,
       "orientation": "horizontal",
       "style": "IPY_MODEL_47c16a28922a49ba9ecb68d80d12ad4e",
       "tabbable": null,
       "tooltip": null,
       "value": 1.0
      }
     },
     "74d615dfaaad4a98bac3e93e47ac64f1": {
      "model_module": "@jupyter-widgets/base",
      "model_module_version": "2.0.0",
      "model_name": "LayoutModel",
      "state": {
       "_model_module": "@jupyter-widgets/base",
       "_model_module_version": "2.0.0",
       "_model_name": "LayoutModel",
       "_view_count": null,
       "_view_module": "@jupyter-widgets/base",
       "_view_module_version": "2.0.0",
       "_view_name": "LayoutView",
       "align_content": null,
       "align_items": null,
       "align_self": null,
       "border_bottom": null,
       "border_left": null,
       "border_right": null,
       "border_top": null,
       "bottom": null,
       "display": null,
       "flex": null,
       "flex_flow": null,
       "grid_area": null,
       "grid_auto_columns": null,
       "grid_auto_flow": null,
       "grid_auto_rows": null,
       "grid_column": null,
       "grid_gap": null,
       "grid_row": null,
       "grid_template_areas": null,
       "grid_template_columns": null,
       "grid_template_rows": null,
       "height": null,
       "justify_content": null,
       "justify_items": null,
       "left": null,
       "margin": null,
       "max_height": null,
       "max_width": null,
       "min_height": null,
       "min_width": null,
       "object_fit": null,
       "object_position": null,
       "order": null,
       "overflow": null,
       "padding": null,
       "right": null,
       "top": null,
       "visibility": null,
       "width": null
      }
     },
     "76dd1b4152e9449c98cd693d727b3ec9": {
      "model_module": "@jupyter-widgets/base",
      "model_module_version": "2.0.0",
      "model_name": "LayoutModel",
      "state": {
       "_model_module": "@jupyter-widgets/base",
       "_model_module_version": "2.0.0",
       "_model_name": "LayoutModel",
       "_view_count": null,
       "_view_module": "@jupyter-widgets/base",
       "_view_module_version": "2.0.0",
       "_view_name": "LayoutView",
       "align_content": null,
       "align_items": null,
       "align_self": null,
       "border_bottom": null,
       "border_left": null,
       "border_right": null,
       "border_top": null,
       "bottom": null,
       "display": null,
       "flex": null,
       "flex_flow": null,
       "grid_area": null,
       "grid_auto_columns": null,
       "grid_auto_flow": null,
       "grid_auto_rows": null,
       "grid_column": null,
       "grid_gap": null,
       "grid_row": null,
       "grid_template_areas": null,
       "grid_template_columns": null,
       "grid_template_rows": null,
       "height": null,
       "justify_content": null,
       "justify_items": null,
       "left": null,
       "margin": null,
       "max_height": null,
       "max_width": null,
       "min_height": null,
       "min_width": null,
       "object_fit": null,
       "object_position": null,
       "order": null,
       "overflow": null,
       "padding": null,
       "right": null,
       "top": null,
       "visibility": null,
       "width": null
      }
     },
     "7a5b52280bad43c38ab4c44555dfbc4e": {
      "model_module": "@jupyter-widgets/base",
      "model_module_version": "2.0.0",
      "model_name": "LayoutModel",
      "state": {
       "_model_module": "@jupyter-widgets/base",
       "_model_module_version": "2.0.0",
       "_model_name": "LayoutModel",
       "_view_count": null,
       "_view_module": "@jupyter-widgets/base",
       "_view_module_version": "2.0.0",
       "_view_name": "LayoutView",
       "align_content": null,
       "align_items": null,
       "align_self": null,
       "border_bottom": null,
       "border_left": null,
       "border_right": null,
       "border_top": null,
       "bottom": null,
       "display": null,
       "flex": null,
       "flex_flow": null,
       "grid_area": null,
       "grid_auto_columns": null,
       "grid_auto_flow": null,
       "grid_auto_rows": null,
       "grid_column": null,
       "grid_gap": null,
       "grid_row": null,
       "grid_template_areas": null,
       "grid_template_columns": null,
       "grid_template_rows": null,
       "height": null,
       "justify_content": null,
       "justify_items": null,
       "left": null,
       "margin": null,
       "max_height": null,
       "max_width": null,
       "min_height": null,
       "min_width": null,
       "object_fit": null,
       "object_position": null,
       "order": null,
       "overflow": null,
       "padding": null,
       "right": null,
       "top": null,
       "visibility": null,
       "width": null
      }
     },
     "c25dbfb6d7014c4cbb6d5c2cc48bb7c3": {
      "model_module": "@jupyter-widgets/controls",
      "model_module_version": "2.0.0",
      "model_name": "HTMLModel",
      "state": {
       "_dom_classes": [],
       "_model_module": "@jupyter-widgets/controls",
       "_model_module_version": "2.0.0",
       "_model_name": "HTMLModel",
       "_view_count": null,
       "_view_module": "@jupyter-widgets/controls",
       "_view_module_version": "2.0.0",
       "_view_name": "HTMLView",
       "description": "",
       "description_allow_html": false,
       "layout": "IPY_MODEL_cc502eaa74494c6b90069c0dd607b947",
       "placeholder": "​",
       "style": "IPY_MODEL_cd479f79a9a14bb499e1b8befb840403",
       "tabbable": null,
       "tooltip": null,
       "value": "100%"
      }
     },
     "c47efb7f3a3f468fb442b06ee53bad11": {
      "model_module": "@jupyter-widgets/controls",
      "model_module_version": "2.0.0",
      "model_name": "HBoxModel",
      "state": {
       "_dom_classes": [],
       "_model_module": "@jupyter-widgets/controls",
       "_model_module_version": "2.0.0",
       "_model_name": "HBoxModel",
       "_view_count": null,
       "_view_module": "@jupyter-widgets/controls",
       "_view_module_version": "2.0.0",
       "_view_name": "HBoxView",
       "box_style": "",
       "children": [
        "IPY_MODEL_c25dbfb6d7014c4cbb6d5c2cc48bb7c3",
        "IPY_MODEL_4c340e1933af4fcbb35eac2f18f748dc",
        "IPY_MODEL_cc378c4b67824fb1be2773a20e079416"
       ],
       "layout": "IPY_MODEL_74d615dfaaad4a98bac3e93e47ac64f1",
       "tabbable": null,
       "tooltip": null
      }
     },
     "cc378c4b67824fb1be2773a20e079416": {
      "model_module": "@jupyter-widgets/controls",
      "model_module_version": "2.0.0",
      "model_name": "HTMLModel",
      "state": {
       "_dom_classes": [],
       "_model_module": "@jupyter-widgets/controls",
       "_model_module_version": "2.0.0",
       "_model_name": "HTMLModel",
       "_view_count": null,
       "_view_module": "@jupyter-widgets/controls",
       "_view_module_version": "2.0.0",
       "_view_name": "HTMLView",
       "description": "",
       "description_allow_html": false,
       "layout": "IPY_MODEL_7a5b52280bad43c38ab4c44555dfbc4e",
       "placeholder": "​",
       "style": "IPY_MODEL_d4c04d4d81ef41309db7398bd166c275",
       "tabbable": null,
       "tooltip": null,
       "value": " 1/1 [00:26&lt;00:00, 26.78s/it]"
      }
     },
     "cc502eaa74494c6b90069c0dd607b947": {
      "model_module": "@jupyter-widgets/base",
      "model_module_version": "2.0.0",
      "model_name": "LayoutModel",
      "state": {
       "_model_module": "@jupyter-widgets/base",
       "_model_module_version": "2.0.0",
       "_model_name": "LayoutModel",
       "_view_count": null,
       "_view_module": "@jupyter-widgets/base",
       "_view_module_version": "2.0.0",
       "_view_name": "LayoutView",
       "align_content": null,
       "align_items": null,
       "align_self": null,
       "border_bottom": null,
       "border_left": null,
       "border_right": null,
       "border_top": null,
       "bottom": null,
       "display": null,
       "flex": null,
       "flex_flow": null,
       "grid_area": null,
       "grid_auto_columns": null,
       "grid_auto_flow": null,
       "grid_auto_rows": null,
       "grid_column": null,
       "grid_gap": null,
       "grid_row": null,
       "grid_template_areas": null,
       "grid_template_columns": null,
       "grid_template_rows": null,
       "height": null,
       "justify_content": null,
       "justify_items": null,
       "left": null,
       "margin": null,
       "max_height": null,
       "max_width": null,
       "min_height": null,
       "min_width": null,
       "object_fit": null,
       "object_position": null,
       "order": null,
       "overflow": null,
       "padding": null,
       "right": null,
       "top": null,
       "visibility": null,
       "width": null
      }
     },
     "cd479f79a9a14bb499e1b8befb840403": {
      "model_module": "@jupyter-widgets/controls",
      "model_module_version": "2.0.0",
      "model_name": "HTMLStyleModel",
      "state": {
       "_model_module": "@jupyter-widgets/controls",
       "_model_module_version": "2.0.0",
       "_model_name": "HTMLStyleModel",
       "_view_count": null,
       "_view_module": "@jupyter-widgets/base",
       "_view_module_version": "2.0.0",
       "_view_name": "StyleView",
       "background": null,
       "description_width": "",
       "font_size": null,
       "text_color": null
      }
     },
     "d4c04d4d81ef41309db7398bd166c275": {
      "model_module": "@jupyter-widgets/controls",
      "model_module_version": "2.0.0",
      "model_name": "HTMLStyleModel",
      "state": {
       "_model_module": "@jupyter-widgets/controls",
       "_model_module_version": "2.0.0",
       "_model_name": "HTMLStyleModel",
       "_view_count": null,
       "_view_module": "@jupyter-widgets/base",
       "_view_module_version": "2.0.0",
       "_view_name": "StyleView",
       "background": null,
       "description_width": "",
       "font_size": null,
       "text_color": null
      }
     }
    },
    "version_major": 2,
    "version_minor": 0
   }
  }
 },
 "nbformat": 4,
 "nbformat_minor": 5
}