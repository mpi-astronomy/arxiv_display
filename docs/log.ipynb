{
 "cells": [
  {
   "cell_type": "markdown",
   "id": "92bcb855",
   "metadata": {
    "papermill": {
     "duration": 0.005944,
     "end_time": "2023-01-26T04:06:34.967862",
     "exception": false,
     "start_time": "2023-01-26T04:06:34.961918",
     "status": "completed"
    },
    "tags": []
   },
   "source": [
    "# MPIA Arxiv on Deck 2\n",
    "\n",
    "Contains the steps to produce the paper extractions."
   ]
  },
  {
   "cell_type": "code",
   "execution_count": 1,
   "id": "3a0d6e11",
   "metadata": {
    "execution": {
     "iopub.execute_input": "2023-01-26T04:06:34.978035Z",
     "iopub.status.busy": "2023-01-26T04:06:34.977432Z",
     "iopub.status.idle": "2023-01-26T04:06:35.169980Z",
     "shell.execute_reply": "2023-01-26T04:06:35.169271Z"
    },
    "papermill": {
     "duration": 0.199858,
     "end_time": "2023-01-26T04:06:35.171965",
     "exception": false,
     "start_time": "2023-01-26T04:06:34.972107",
     "status": "completed"
    },
    "tags": []
   },
   "outputs": [],
   "source": [
    "# Imports\n",
    "import os\n",
    "from IPython.display import Markdown, display\n",
    "from tqdm.notebook import tqdm\n",
    "import warnings\n",
    "from PIL import Image \n",
    "\n",
    "# requires arxiv_on_deck_2\n",
    "\n",
    "from arxiv_on_deck_2.arxiv2 import (get_new_papers, \n",
    "                                    get_paper_from_identifier,\n",
    "                                    retrieve_document_source, \n",
    "                                    get_markdown_badge)\n",
    "from arxiv_on_deck_2 import (latex, \n",
    "                             mpia,\n",
    "                             highlight_authors_in_list)\n",
    "\n",
    "# Sometimes images are really big\n",
    "Image.MAX_IMAGE_PIXELS = 1000000000 "
   ]
  },
  {
   "cell_type": "code",
   "execution_count": 2,
   "id": "22aa9d44",
   "metadata": {
    "execution": {
     "iopub.execute_input": "2023-01-26T04:06:35.181817Z",
     "iopub.status.busy": "2023-01-26T04:06:35.181095Z",
     "iopub.status.idle": "2023-01-26T04:06:35.186139Z",
     "shell.execute_reply": "2023-01-26T04:06:35.185506Z"
    },
    "papermill": {
     "duration": 0.01153,
     "end_time": "2023-01-26T04:06:35.187718",
     "exception": false,
     "start_time": "2023-01-26T04:06:35.176188",
     "status": "completed"
    },
    "tags": []
   },
   "outputs": [],
   "source": [
    "# Some useful definitions.\n",
    "\n",
    "class AffiliationWarning(UserWarning):\n",
    "    pass\n",
    "\n",
    "class AffiliationError(RuntimeError):\n",
    "    pass\n",
    "\n",
    "def validation(source: str):\n",
    "    \"\"\"Raises error paper during parsing of source file\n",
    "    \n",
    "    Allows checks before parsing TeX code.\n",
    "    \n",
    "    Raises AffiliationWarning\n",
    "    \"\"\"\n",
    "    check = mpia.affiliation_verifications(source, verbose=True)\n",
    "    if check is not True:\n",
    "        raise AffiliationError(\"mpia.affiliation_verifications: \" + check)\n",
    "\n",
    "        \n",
    "warnings.simplefilter('always', AffiliationWarning)"
   ]
  },
  {
   "cell_type": "code",
   "execution_count": 3,
   "id": "14622700",
   "metadata": {
    "execution": {
     "iopub.execute_input": "2023-01-26T04:06:35.196855Z",
     "iopub.status.busy": "2023-01-26T04:06:35.196301Z",
     "iopub.status.idle": "2023-01-26T04:06:35.200472Z",
     "shell.execute_reply": "2023-01-26T04:06:35.199886Z"
    },
    "papermill": {
     "duration": 0.010296,
     "end_time": "2023-01-26T04:06:35.201939",
     "exception": false,
     "start_time": "2023-01-26T04:06:35.191643",
     "status": "completed"
    },
    "tags": []
   },
   "outputs": [],
   "source": [
    "# additional CSS to consider. \n",
    "# TODO: Current into each exported file. \n",
    "#       This should be set once into the webpages directly.\n",
    "#       With only the class/id definitions in the .md files.\n",
    "\n",
    "debug_html = \"\"\"\n",
    "<style>\n",
    "#wrap{ overflow:auto; }\n",
    "#fig1{ background:yellow; width:100%; float:left; padding:5px;  }\n",
    "#fig2{ background:red; width:50%; float:left; clear:left; padding:5px;  }\n",
    "#fig3{ background:green; width:50%; float:left; padding:5px;   }\n",
    ".macros{ background:yellow; visibility:visible;}\n",
    "h1 {margin: 0 0 0 0;}\n",
    "mark {background-color:#fff3b6;}\n",
    "img {object-fit:contain; max-height:250px; display:inline-block; text-align: center;}\n",
    "</style>\n",
    "\"\"\" \n",
    "html = \"\"\"\n",
    "<style>\n",
    "#wrap{ overflow:auto; }\n",
    "#fig1{ width:100%; float:left; padding: 5px;  }\n",
    "#fig2{ width:50%; float:left; clear:left; padding: 5px;  }\n",
    "#fig3{ width:50%; float:left; padding: 5px;  }\n",
    ".macros{ visibility:hidden; height:0px; }\n",
    "h1 {margin: 0em 0 0 0;}\n",
    "mark {background-color:#fff3b6;}\n",
    "img {object-fit:contain; max-height:250px; display:inline-block; text-align: center;}\n",
    "</style>\n",
    "\"\"\""
   ]
  },
  {
   "cell_type": "markdown",
   "id": "14bd6310",
   "metadata": {
    "papermill": {
     "duration": 0.003951,
     "end_time": "2023-01-26T04:06:35.209800",
     "exception": false,
     "start_time": "2023-01-26T04:06:35.205849",
     "status": "completed"
    },
    "tags": []
   },
   "source": [
    "## get list of arxiv paper candidates\n",
    "\n",
    "We use the MPIA mitarbeiter list webpage from mpia.de to get author names\n",
    "We then get all new papers from Arxiv and match authors"
   ]
  },
  {
   "cell_type": "code",
   "execution_count": 4,
   "id": "2645e73a",
   "metadata": {
    "execution": {
     "iopub.execute_input": "2023-01-26T04:06:35.219155Z",
     "iopub.status.busy": "2023-01-26T04:06:35.218503Z",
     "iopub.status.idle": "2023-01-26T04:07:00.453782Z",
     "shell.execute_reply": "2023-01-26T04:07:00.452964Z"
    },
    "papermill": {
     "duration": 25.241854,
     "end_time": "2023-01-26T04:07:00.455560",
     "exception": false,
     "start_time": "2023-01-26T04:06:35.213706",
     "status": "completed"
    },
    "tags": []
   },
   "outputs": [
    {
     "name": "stdout",
     "output_type": "stream",
     "text": [
      "Arxiv has 54 new papers today\n",
      "          18 with possible author matches\n"
     ]
    }
   ],
   "source": [
    "# get list from MPIA website\n",
    "# it automatically filters identified non-scientists :func:`mpia.filter_non_scientists`\n",
    "mpia_authors = mpia.get_mpia_mitarbeiter_list()\n",
    "new_papers = get_new_papers()\n",
    "# add manual references\n",
    "add_paper_refs = []\n",
    "new_papers.extend([get_paper_from_identifier(k) for k in add_paper_refs])\n",
    "\n",
    "# select only papers with matching author names and highlight authors\n",
    "hl_list = [k[0] for k in mpia_authors]\n",
    "\n",
    "candidates = []\n",
    "for paperk in new_papers:\n",
    "    hl_authors = highlight_authors_in_list(paperk['authors'], hl_list)\n",
    "    matches = [(hl, orig) for hl, orig in zip(hl_authors, paperk['authors']) if 'mark' in hl]\n",
    "    paperk['authors'] = hl_authors\n",
    "    if matches:\n",
    "        candidates.append(paperk)\n",
    "print(\"\"\"Arxiv has {0:,d} new papers today\"\"\".format(len(new_papers)))        \n",
    "print(\"\"\"          {0:,d} with possible author matches\"\"\".format(len(candidates)))"
   ]
  },
  {
   "cell_type": "markdown",
   "id": "3543b34a",
   "metadata": {
    "papermill": {
     "duration": 0.004221,
     "end_time": "2023-01-26T04:07:00.464260",
     "exception": false,
     "start_time": "2023-01-26T04:07:00.460039",
     "status": "completed"
    },
    "tags": []
   },
   "source": [
    "# Parse sources and generate relevant outputs\n",
    "\n",
    "From the candidates, we do the following steps:\n",
    "* get their tarball from ArXiv (and extract data)\n",
    "* find the main .tex file: find one with \\documentclass{...} (sometimes it's non trivial)\n",
    "* Check affiliations with :func:`validation`, which uses :func:`mpia.affiliation_verifications`\n",
    "* If passing the affiliations: we parse the .tex source\n",
    "   * inject sub-documents into the main (flatten the main document)\n",
    "   * parse structure, extract information (title, abstract, authors, figures...)\n",
    "   * handles `\\graphicspath` if provided\n",
    "* Generate the .md document."
   ]
  },
  {
   "cell_type": "code",
   "execution_count": 5,
   "id": "9576b79e",
   "metadata": {
    "execution": {
     "iopub.execute_input": "2023-01-26T04:07:00.473779Z",
     "iopub.status.busy": "2023-01-26T04:07:00.473283Z",
     "iopub.status.idle": "2023-01-26T04:08:10.684001Z",
     "shell.execute_reply": "2023-01-26T04:08:10.683122Z"
    },
    "papermill": {
     "duration": 70.21744,
     "end_time": "2023-01-26T04:08:10.685730",
     "exception": false,
     "start_time": "2023-01-26T04:07:00.468290",
     "status": "completed"
    },
    "scrolled": false,
    "tags": []
   },
   "outputs": [
    {
     "data": {
      "application/vnd.jupyter.widget-view+json": {
       "model_id": "b53923e575dd460a9ec871e7e3ff42ac",
       "version_major": 2,
       "version_minor": 0
      },
      "text/plain": [
       "  0%|          | 0/17 [00:00<?, ?it/s]"
      ]
     },
     "metadata": {},
     "output_type": "display_data"
    },
    {
     "name": "stdout",
     "output_type": "stream",
     "text": [
      "Retrieving document from  https://arxiv.org/e-print/2301.10249\n"
     ]
    },
    {
     "name": "stdout",
     "output_type": "stream",
     "text": [
      "extracting tarball to tmp_2301.10249..."
     ]
    },
    {
     "name": "stdout",
     "output_type": "stream",
     "text": [
      " done.\n",
      "Retrieving document from  https://arxiv.org/e-print/2301.10251\n"
     ]
    },
    {
     "name": "stderr",
     "output_type": "stream",
     "text": [
      "/opt/hostedtoolcache/Python/3.9.16/x64/lib/python3.9/site-packages/IPython/core/interactiveshell.py:3442: LatexWarning: Multiple tex files.\n",
      "\n",
      "  exec(code_obj, self.user_global_ns, self.user_ns)\n",
      "/opt/hostedtoolcache/Python/3.9.16/x64/lib/python3.9/site-packages/IPython/core/interactiveshell.py:3442: LatexWarning: Found documentclass in tmp_2301.10249/natbib.tex\n",
      "\n",
      "  exec(code_obj, self.user_global_ns, self.user_ns)\n"
     ]
    },
    {
     "name": "stdout",
     "output_type": "stream",
     "text": [
      "extracting tarball to tmp_2301.10251..."
     ]
    },
    {
     "name": "stdout",
     "output_type": "stream",
     "text": [
      " done.\n",
      "Retrieving document from  https://arxiv.org/e-print/2301.10252\n"
     ]
    },
    {
     "name": "stdout",
     "output_type": "stream",
     "text": [
      "extracting tarball to tmp_2301.10252..."
     ]
    },
    {
     "name": "stdout",
     "output_type": "stream",
     "text": [
      " done.\n",
      "Retrieving document from  https://arxiv.org/e-print/2301.10266\n"
     ]
    },
    {
     "name": "stdout",
     "output_type": "stream",
     "text": [
      "extracting tarball to tmp_2301.10266..."
     ]
    },
    {
     "name": "stdout",
     "output_type": "stream",
     "text": [
      " done.\n",
      "Retrieving document from  https://arxiv.org/e-print/2301.10345\n"
     ]
    },
    {
     "name": "stderr",
     "output_type": "stream",
     "text": [
      "/opt/hostedtoolcache/Python/3.9.16/x64/lib/python3.9/site-packages/IPython/core/interactiveshell.py:3442: LatexWarning: Multiple tex files.\n",
      "\n",
      "  exec(code_obj, self.user_global_ns, self.user_ns)\n",
      "/opt/hostedtoolcache/Python/3.9.16/x64/lib/python3.9/site-packages/IPython/core/interactiveshell.py:3442: LatexWarning: Found documentclass in tmp_2301.10266/main.tex\n",
      "\n",
      "  exec(code_obj, self.user_global_ns, self.user_ns)\n"
     ]
    },
    {
     "name": "stdout",
     "output_type": "stream",
     "text": [
      "extracting tarball to tmp_2301.10345..."
     ]
    },
    {
     "name": "stdout",
     "output_type": "stream",
     "text": [
      " done.\n",
      "Retrieving document from  https://arxiv.org/e-print/2301.10378\n"
     ]
    },
    {
     "name": "stdout",
     "output_type": "stream",
     "text": [
      "extracting tarball to tmp_2301.10378... done.\n",
      "Retrieving document from  https://arxiv.org/e-print/2301.10420\n"
     ]
    },
    {
     "name": "stdout",
     "output_type": "stream",
     "text": [
      "extracting tarball to tmp_2301.10420..."
     ]
    },
    {
     "name": "stdout",
     "output_type": "stream",
     "text": [
      " done.\n",
      "Retrieving document from  https://arxiv.org/e-print/2301.10436\n"
     ]
    },
    {
     "name": "stdout",
     "output_type": "stream",
     "text": [
      "extracting tarball to tmp_2301.10436..."
     ]
    },
    {
     "name": "stdout",
     "output_type": "stream",
     "text": [
      " done.\n",
      "Retrieving document from  https://arxiv.org/e-print/2301.10496\n"
     ]
    },
    {
     "name": "stdout",
     "output_type": "stream",
     "text": [
      "extracting tarball to tmp_2301.10496..."
     ]
    },
    {
     "name": "stdout",
     "output_type": "stream",
     "text": [
      " done.\n"
     ]
    },
    {
     "name": "stderr",
     "output_type": "stream",
     "text": [
      "/opt/hostedtoolcache/Python/3.9.16/x64/lib/python3.9/site-packages/IPython/core/interactiveshell.py:3442: LatexWarning: Multiple tex files.\n",
      "\n",
      "  exec(code_obj, self.user_global_ns, self.user_ns)\n",
      "/opt/hostedtoolcache/Python/3.9.16/x64/lib/python3.9/site-packages/IPython/core/interactiveshell.py:3442: LatexWarning: Found documentclass in tmp_2301.10496/main.tex\n",
      "\n",
      "  exec(code_obj, self.user_global_ns, self.user_ns)\n"
     ]
    },
    {
     "name": "stdout",
     "output_type": "stream",
     "text": [
      "Retrieving document from  https://arxiv.org/e-print/2301.10533\n"
     ]
    },
    {
     "name": "stdout",
     "output_type": "stream",
     "text": [
      "extracting tarball to tmp_2301.10533..."
     ]
    },
    {
     "name": "stdout",
     "output_type": "stream",
     "text": [
      " done.\n",
      "Retrieving document from  https://arxiv.org/e-print/2301.10613\n"
     ]
    },
    {
     "name": "stdout",
     "output_type": "stream",
     "text": [
      "extracting tarball to tmp_2301.10613..."
     ]
    },
    {
     "name": "stdout",
     "output_type": "stream",
     "text": [
      " done.\n",
      "Retrieving document from  https://arxiv.org/e-print/2301.10614\n"
     ]
    },
    {
     "name": "stderr",
     "output_type": "stream",
     "text": [
      "/opt/hostedtoolcache/Python/3.9.16/x64/lib/python3.9/site-packages/IPython/core/interactiveshell.py:3442: LatexWarning: Multiple tex files.\n",
      "\n",
      "  exec(code_obj, self.user_global_ns, self.user_ns)\n",
      "/opt/hostedtoolcache/Python/3.9.16/x64/lib/python3.9/site-packages/IPython/core/interactiveshell.py:3442: LatexWarning: Found documentclass in tmp_2301.10613/M32_HST_v2.tex\n",
      "\n",
      "  exec(code_obj, self.user_global_ns, self.user_ns)\n",
      "/opt/hostedtoolcache/Python/3.9.16/x64/lib/python3.9/site-packages/arxiv_on_deck_2/latex.py:292: LatexWarning: Latex injecting: 'journaldefs' from 'tmp_2301.10613/journaldefs.tex'\n",
      "  warnings.warn(LatexWarning(f\"Latex injecting: '{ext}' from '{subsource}'\"))\n"
     ]
    },
    {
     "name": "stdout",
     "output_type": "stream",
     "text": [
      "extracting tarball to tmp_2301.10614..."
     ]
    },
    {
     "name": "stdout",
     "output_type": "stream",
     "text": [
      " done.\n",
      "Retrieving document from  https://arxiv.org/e-print/2301.10615\n"
     ]
    },
    {
     "name": "stdout",
     "output_type": "stream",
     "text": [
      "extracting tarball to tmp_2301.10615..."
     ]
    },
    {
     "name": "stdout",
     "output_type": "stream",
     "text": [
      " done.\n",
      "Retrieving document from  https://arxiv.org/e-print/2301.10657\n"
     ]
    },
    {
     "name": "stdout",
     "output_type": "stream",
     "text": [
      "extracting tarball to tmp_2301.10657..."
     ]
    },
    {
     "name": "stdout",
     "output_type": "stream",
     "text": [
      " done.\n",
      "Retrieving document from  https://arxiv.org/e-print/2301.10666\n"
     ]
    },
    {
     "name": "stderr",
     "output_type": "stream",
     "text": [
      "/opt/hostedtoolcache/Python/3.9.16/x64/lib/python3.9/site-packages/IPython/core/interactiveshell.py:3442: LatexWarning: Multiple tex files.\n",
      "\n",
      "  exec(code_obj, self.user_global_ns, self.user_ns)\n",
      "/opt/hostedtoolcache/Python/3.9.16/x64/lib/python3.9/site-packages/IPython/core/interactiveshell.py:3442: LatexWarning: Found documentclass in tmp_2301.10657/main.tex\n",
      "\n",
      "  exec(code_obj, self.user_global_ns, self.user_ns)\n"
     ]
    },
    {
     "name": "stdout",
     "output_type": "stream",
     "text": [
      "extracting tarball to tmp_2301.10666... done.\n"
     ]
    },
    {
     "name": "stdout",
     "output_type": "stream",
     "text": [
      "Retrieving document from  https://arxiv.org/e-print/2301.10717\n"
     ]
    },
    {
     "name": "stdout",
     "output_type": "stream",
     "text": [
      "extracting tarball to tmp_2301.10717..."
     ]
    },
    {
     "name": "stdout",
     "output_type": "stream",
     "text": [
      " done.\n"
     ]
    },
    {
     "name": "stdout",
     "output_type": "stream",
     "text": [
      "Retrieving document from  https://arxiv.org/e-print/2301.10728\n"
     ]
    },
    {
     "name": "stderr",
     "output_type": "stream",
     "text": [
      "/tmp/ipykernel_2055/4030337529.py:34: LatexWarning: 2301.10728 did not run properly\n",
      "not a gzip file\n",
      "  warnings.warn(latex.LatexWarning(f\"{paper_id:s} did not run properly\\n\" +\n"
     ]
    }
   ],
   "source": [
    "documents = []\n",
    "failed = []\n",
    "for paper in tqdm(candidates[:-1]):\n",
    "    paper_id = paper['identifier'].lower().replace('arxiv:', '')\n",
    "    \n",
    "    folder = f'tmp_{paper_id}'\n",
    "\n",
    "    try:\n",
    "        if not os.path.isdir(folder):\n",
    "            folder = retrieve_document_source(f\"{paper_id}\", f'tmp_{paper_id}')\n",
    "        \n",
    "        try:\n",
    "            doc = latex.LatexDocument(folder, validation=validation)    \n",
    "        except AffiliationError as affilerror:\n",
    "            msg = f\"ArXiv:{paper_id:s} is not an MPIA paper... \" + str(affilerror)\n",
    "            failed.append((paper, \"affiliation error: \" + str(affilerror) ))\n",
    "            continue\n",
    "        \n",
    "        # Hack because sometimes author parsing does not work well\n",
    "        if (len(doc.authors) != len(paper['authors'])):\n",
    "            doc._authors = paper['authors']\n",
    "        if (doc.abstract) in (None, ''):\n",
    "            doc._abstract = paper['abstract']\n",
    "            \n",
    "        doc.comment = (get_markdown_badge(paper_id) + \n",
    "                       \"<mark>Appeared on: \" + paper['date'] + \"</mark> - \" +\n",
    "                       \"_\" + paper['comments'] + \"_\")\n",
    "        doc.highlight_authors_in_list(hl_list)\n",
    "\n",
    "        full_md = doc.generate_markdown_text()\n",
    "        \n",
    "        documents.append((paper_id, full_md))\n",
    "    except Exception as e:\n",
    "        warnings.warn(latex.LatexWarning(f\"{paper_id:s} did not run properly\\n\" +\n",
    "                                         str(e)\n",
    "                                        ))\n",
    "        failed.append((paper, \"latex error \" + str(e)))"
   ]
  },
  {
   "cell_type": "markdown",
   "id": "2505a25c",
   "metadata": {
    "papermill": {
     "duration": 0.006689,
     "end_time": "2023-01-26T04:08:10.698735",
     "exception": false,
     "start_time": "2023-01-26T04:08:10.692046",
     "status": "completed"
    },
    "tags": []
   },
   "source": [
    "### Export the logs\n",
    "\n",
    "Throughout, we also keep track of the logs per paper. see `logs-{today date}.md` "
   ]
  },
  {
   "cell_type": "code",
   "execution_count": 6,
   "id": "d733828a",
   "metadata": {
    "execution": {
     "iopub.execute_input": "2023-01-26T04:08:10.712609Z",
     "iopub.status.busy": "2023-01-26T04:08:10.712093Z",
     "iopub.status.idle": "2023-01-26T04:08:10.751541Z",
     "shell.execute_reply": "2023-01-26T04:08:10.750986Z"
    },
    "papermill": {
     "duration": 0.048248,
     "end_time": "2023-01-26T04:08:10.752948",
     "exception": false,
     "start_time": "2023-01-26T04:08:10.704700",
     "status": "completed"
    },
    "scrolled": false,
    "tags": []
   },
   "outputs": [
    {
     "data": {
      "text/markdown": [
       "## Successful papers"
      ],
      "text/plain": [
       "<IPython.core.display.Markdown object>"
      ]
     },
     "metadata": {},
     "output_type": "display_data"
    },
    {
     "data": {
      "text/markdown": [
       "\n",
       "|||\n",
       "|---:|:---|\n",
       "| [![arXiv](https://img.shields.io/badge/arXiv-arXiv:2301.10496-b31b1b.svg)](https://arxiv.org/abs/arXiv:2301.10496) | **Understanding the TeV $γ$-ray emission surrounding the young  massive star cluster Westerlund 1**  |\n",
       "|| Lucia K. Härer, et al. -- incl., <mark>Lars Mohrmann</mark> |\n",
       "|*Appeared on*| *2023-01-26*|\n",
       "|*Comments*| *Accepted for publication in Astronomy & Astrophyics*|\n",
       "|**Abstract**| Context: Young massive star clusters (YMCs) have come increasingly into the focus of discussions on the origin of galactic cosmic rays (CRs). The proposition of CR acceleration inside superbubbles (SBs) blown by the strong winds of these clusters avoids issues faced by the standard paradigm of acceleration at supernova remnant shocks. Aims: We provide an interpretation of the latest TeV $\\gamma$-ray observations of the region around the YMC Westerlund 1 taken with the High Energy Stereoscopic System (H.E.S.S.) in terms of diffusive shock acceleration at the cluster wind termination shock, taking into account the spectrum and morphology of the emission. As Westerlund 1 is a prototypical example of a YMC, such a study is relevant to the general question about the role of YMCs for the Galactic CR population. Methods: We generate model $\\gamma$-ray spectra, characterise particle propagation inside the SB based on the advection, diffusion, and cooling timescales, and constrain key parameters of the system. We consider hadronic emission from proton-proton interaction and subsequent pion decay and leptonic emission from inverse Compton scattering on all relevant photon fields, including the CMB, diffuse and dust-scattered starlight, and the photon field of Westerlund 1 itself. The effect of the magnetic field on cooling and propagation is discussed. Klein-Nishina effects are found to be important in determining the spectral evolution of the electron population. Results: A leptonic origin of the bulk of the observed $\\gamma$-rays is preferable. The model is energetically plausible, consistent with the presence of a strong shock, and allows for the observed energy-independent morphology. The hadronic model faces two main issues: confinement of particles to the emission region and an unrealistic energy requirement. |"
      ],
      "text/plain": [
       "[arXiv:2301.10496] Understanding the TeV $γ$-ray emission surrounding the young  massive star cluster Westerlund 1\n",
       "\tLucia K. Härer, et al. -- incl., <mark>Lars Mohrmann</mark>"
      ]
     },
     "metadata": {},
     "output_type": "display_data"
    },
    {
     "data": {
      "text/markdown": [
       "\n",
       "|||\n",
       "|---:|:---|\n",
       "| [![arXiv](https://img.shields.io/badge/arXiv-arXiv:2301.10666-b31b1b.svg)](https://arxiv.org/abs/arXiv:2301.10666) | **The interplay of internal and external processes in the buildup of disk  galaxies: thick-disk star formation histories in AURIGA simulations**  |\n",
       "|| <mark>Francesca Pinna</mark>, Daniel Walo-Martín, Robert J. J. Grand |\n",
       "|*Appeared on*| *2023-01-26*|\n",
       "|*Comments*| *3 pages, one figure, Proceedings IAU Symposium S373*|\n",
       "|**Abstract**| Recent integral-field spectroscopy observations have revealed that thick- and thin-disk star-formation histories are regulated by the interplay of internal and external processes. We analyze stellar-population properties of 24 spiral galaxies from the AURIGA zoom-in cosmological simulations, to offer a more in-depth interpretation of observable properties. We present edge-on maps of stellar age, metallicity and [Mg/Fe] abundance, and we extract the star-formation and chemical-evolution histories of thin and thick disks. Both show signs of the interplay between internal chemical enrichment and gas and star accretion. Thick disks show particularly complex stellar populations, including an in-situ component, formed from both slowly enriched and accreted more pristine gas, and an additional significant fraction of ex-situ stars. |"
      ],
      "text/plain": [
       "[arXiv:2301.10666] The interplay of internal and external processes in the buildup of disk  galaxies: thick-disk star formation histories in AURIGA simulations\n",
       "\t<mark>Francesca Pinna</mark>, Daniel Walo-Martín, Robert J. J. Grand"
      ]
     },
     "metadata": {},
     "output_type": "display_data"
    },
    {
     "data": {
      "text/markdown": [
       "\n",
       "|||\n",
       "|---:|:---|\n",
       "| [![arXiv](https://img.shields.io/badge/arXiv-arXiv:2301.10717-b31b1b.svg)](https://arxiv.org/abs/arXiv:2301.10717) | **Strong (Hb + [OIII]) and Ha emitters at redshift z ~ 7-8 unveiled with  JWST/NIRCam and MIRI imaging in the Hubble eXtreme Deep Field (XDF)**  |\n",
       "|| P. Rinaldi, et al. -- incl., <mark>A. Alonso-Herrero</mark>, <mark>F. Walter</mark>, <mark>S. Bosman</mark>, <mark>D. Langeroodi</mark>, <mark>R. Meyer</mark>, <mark>M. Guedel</mark>, <mark>Th. Henning</mark> |\n",
       "|*Appeared on*| *2023-01-26*|\n",
       "|*Comments*| *15 pages, 9 figures. Submitted to ApJ*|\n",
       "|**Abstract**| The JWST is revolutionizing the study of high-redshift galaxies by providing for the first time a high-sensitivity view of the early Universe at infrared wavelengths, both with its Near Infrared Camera (NIRCam) and Mid Infrared Instrument (MIRI). In this paper, we make use of medium and broad-band NIRCam imaging, as well as ultra-deep MIRI 5.6 microns imaging, in the Hubble eXtreme Deep Field (XDF) to identify prominent line emitters at z ~ 7-8. Out of a total of 58 galaxies at z ~ 7-8, we find 18 robust candidates (~31%) for prominent (Hb + [OIII]) emitters, based on their enhanced fluxes in the F430M and F444W filters, with rest-frame EW(Hb + [OIII]) ~ 87 - 2100 A. Among these emitters, 16 lie on the MIRI coverage area and 12 show a clear flux excess at 5.6 microns, indicating the simultaneous presence of a prominent Ha emission line with rest-frame EW(Ha) ~ 200 - 3000 A. This is the first time that Ha emission can be detected in individual galaxies at z>7. The Ha line, when present, allows us to separate the contributions of the Hb and [OIII] emission lines to the (Hb + [OIII]) complex and derive Ha-based star formation rates (SFRs). We find that in some cases [OIII]/Hb > 1, suggesting low metallicities, but a few have [OIII]/Hb < 1, so the NIRCam flux excess is mainly driven by Hb. The vast majority of prominent line emitters are very young starbursts or galaxies on their way to/from the starburst cloud. They make for a cosmic SFR density log10(SFRD_Ha / Msun yr^-1 Mpc^-3) ~ 2.35, which is about a third of the total value at z ~ 7-8. Therefore, the strong Ha emitters likely had an important role in reionization. |"
      ],
      "text/plain": [
       "[arXiv:2301.10717] Strong (Hb + [OIII]) and Ha emitters at redshift z ~ 7-8 unveiled with  JWST/NIRCam and MIRI imaging in the Hubble eXtreme Deep Field (XDF)\n",
       "\tP. Rinaldi, et al. -- incl., <mark>A. Alonso-Herrero</mark>, <mark>F. Walter</mark>, <mark>S. Bosman</mark>, <mark>D. Langeroodi</mark>, <mark>R. Meyer</mark>, <mark>M. Guedel</mark>, <mark>Th. Henning</mark>"
      ]
     },
     "metadata": {},
     "output_type": "display_data"
    },
    {
     "data": {
      "text/markdown": [
       "## Failed papers"
      ],
      "text/plain": [
       "<IPython.core.display.Markdown object>"
      ]
     },
     "metadata": {},
     "output_type": "display_data"
    },
    {
     "data": {
      "text/markdown": [
       "\n",
       "|||\n",
       "|---:|:---|\n",
       "| [![arXiv](https://img.shields.io/badge/arXiv-arXiv:2301.10252-b31b1b.svg)](https://arxiv.org/abs/arXiv:2301.10252) | **The SDSS-V Black Hole Mapper Reverberation Mapping Project: Unusual  Broad-Line Variability in a Luminous Quasar**  |\n",
       "|| Logan B. Fries, et al. -- incl., <mark>Joel Brownstein</mark>, <mark>Jennifer I-Hsiu Li</mark>, <mark>Xin Liu</mark> |\n",
       "|*Appeared on*| *2023-01-26*|\n",
       "|*Comments*| **|\n",
       "|**Abstract**| We present a high-cadence multi-epoch analysis of dramatic variability of three broad emission lines (MgII, H$\\beta$, and H$\\alpha$) in the spectra of the luminous quasar ($\\lambda L_{\\lambda}$(5100\\r{A}) = $4.7 \\times 10^{44}$ erg s$^{-1}$) SDSS J141041.25+531849.0 at $z = 0.359$ with 127 spectroscopic epochs over 9 years of monitoring (2013-2022). We observe anti-correlations between the broad emission-line widths and flux in all three emission lines, indicating that all three broad emission lines \"breathe\" in response to stochastic continuum variations. We also observe dramatic radial velocity shifts in all three broad emission lines, ranging from $\\Delta{v}$ $\\sim$400 km s$^{-1}$ to $\\sim$800 km s$^{-1}$, that vary over the course of the monitoring period. Our preferred explanation for the broad-line variability is complex kinematics in the broad-line region gas. We suggest a model for the broad-line variability that includes a combination of gas inflow with a radial gradient, an azimuthal asymmetry (e.g., a hot spot), superimposed on the stochastic flux-driven changes to the optimal emission region (\"line breathing\"). Similar instances of line-profile variability due to complex gas kinematics around quasars are likely to represent an important source of false positives in radial velocity searches for binary black holes, which typically lack the kind of high-cadence data we analyze here. The long-duration, wide-field, and many-epoch spectroscopic monitoring of SDSS-V BHM-RM provides an excellent opportunity for identifying and characterizing broad emission-line variability, and the inferred nature of the inner gas environment, of luminous quasars. |\n",
       "|<p style=\"color:green\"> **ERROR** </p>| <p style=\"color:green\">affiliation error: mpia.affiliation_verifications: '69117' keyword not found.</p> |"
      ],
      "text/plain": [
       "<IPython.core.display.Markdown object>"
      ]
     },
     "metadata": {},
     "output_type": "display_data"
    },
    {
     "data": {
      "text/markdown": [
       "\n",
       "|||\n",
       "|---:|:---|\n",
       "| [![arXiv](https://img.shields.io/badge/arXiv-arXiv:2301.10657-b31b1b.svg)](https://arxiv.org/abs/arXiv:2301.10657) | **GMC Collisions As Triggers of Star Formation. VIII. The Core Mass  Function**  |\n",
       "|| Chia-Jung Hsu, et al. -- incl., <mark>Duncan Christie</mark> |\n",
       "|*Appeared on*| *2023-01-26*|\n",
       "|*Comments*| *22 pages, 22 figures, 2 tables, submitted to MNRAS, comments welcome*|\n",
       "|**Abstract**| Compression in giant molecular cloud (GMC) collisions is a promising mechanism to trigger formation of massive star clusters and OB associations. We simulate colliding and non-colliding magnetised GMCs and examine the properties of prestellar cores, selected from projected mass surface density maps, including after synthetic {\\it ALMA} observations. We then examine core properties, including mass, size, density, velocity, velocity dispersion, temperature and magnetic field strength. After four Myr, $\\sim1,000$ cores have formed in the GMC collision and the high-mass end of the core mass function (CMF) can be fit by a power law $dN/d{\\rm{log}}M\\propto{M}^{-\\alpha}$ with $\\alpha\\simeq0.7$, i.e., relatively top-heavy compared to a Salpeter mass function. Depending on how cores are identified, a break in the power law can appear around a few $\\times10\\:M_\\odot$. The non-colliding GMCs form fewer cores with a CMF with $\\alpha\\simeq0.8$ to 1.2, i.e., closer to the Salpeter index. We compare the properties of these CMFs to those of several observed samples of cores. Considering other properties, cores formed from colliding clouds are typically warmer, have more disturbed internal kinematics and are more likely to be gravitational unbound, than cores formed from non-colliding GMCs. The dynamical state of the protocluster of cores formed in the GMC-GMC collision is intrinsically subvirial, but can appear to be supervirial if the total mass measurement is affected by observations that miss mass on large scales or at low densities. |\n",
       "|<p style=\"color:green\"> **ERROR** </p>| <p style=\"color:green\">affiliation error: mpia.affiliation_verifications: '69117' keyword not found.</p> |"
      ],
      "text/plain": [
       "<IPython.core.display.Markdown object>"
      ]
     },
     "metadata": {},
     "output_type": "display_data"
    },
    {
     "data": {
      "text/markdown": [
       "\n",
       "|||\n",
       "|---:|:---|\n",
       "| [![arXiv](https://img.shields.io/badge/arXiv-arXiv:2301.10249-b31b1b.svg)](https://arxiv.org/abs/arXiv:2301.10249) | **A Study of Stellar Spins in 15 Open Clusters**  |\n",
       "|| <mark>Brian F. Healy</mark>, P. R. McCullough, Kevin C. Schlaufman, Geza Kovacs |\n",
       "|*Appeared on*| *2023-01-26*|\n",
       "|*Comments*| *35 pages, 15 figures, accepted for publication in ApJ*|\n",
       "|**Abstract**| We analyze spectroscopic and photometric data to determine the projected inclinations of stars in 11 open clusters, placing constraints on the spin-axis distributions of six clusters. We combine these results with four additional clusters studied by Healy & McCullough (2020) and Healy et al. (2021) to perform an ensemble analysis of their spins. We find that eight out of ten constrained clusters (80%) have spin-axis orientations consistent with isotropy, and we establish a lower limit of four out of ten (40%) isotropic clusters at 75% confidence, assuming no correlation of spins between clusters. We also identify two clusters whose spin-axis distributions can be better described by a model consisting of an aligned fraction of stars combined with an isotropic distribution. However, the inclination values of these stars may be influenced by systematic error, and the small number of stars modeled as aligned in these two clusters precludes the interpretation that their stellar subsets are physically aligned. Overall, no cluster displays an unambiguous signature of spin alignment, and 97% of the stars in our sample are consistent with isotropic orientations in their respective clusters. Our results offer support for the dominance of turbulence over ordered rotation in clumps and do not suggest alignment of rotation axes and magnetic fields in protostars. |\n",
       "|<p style=\"color:green\"> **ERROR** </p>| <p style=\"color:green\">affiliation error: mpia.affiliation_verifications: 'Heidelberg' keyword not found.</p> |"
      ],
      "text/plain": [
       "<IPython.core.display.Markdown object>"
      ]
     },
     "metadata": {},
     "output_type": "display_data"
    },
    {
     "data": {
      "text/markdown": [
       "\n",
       "|||\n",
       "|---:|:---|\n",
       "| [![arXiv](https://img.shields.io/badge/arXiv-arXiv:2301.10251-b31b1b.svg)](https://arxiv.org/abs/arXiv:2301.10251) | **Clouds of Theseus: long-lived molecular clouds are composed of  short-lived H2 molecules**  |\n",
       "|| Sarah M. R. Jeffreson, <mark>Vadim A. Semenov</mark>, Mark R. Krumholz |\n",
       "|*Appeared on*| *2023-01-26*|\n",
       "|*Comments*| *16 pages, 16 figures. Submitted to MNRAS, comments welcome!*|\n",
       "|**Abstract**| We use passive gas tracer particles in an Arepo simulation of a dwarf spiral galaxy to relate the Lagrangian evolution of star-forming gas parcels and their H2 molecules to the evolution of their host giant molecular clouds. We find that the median chemical lifetime of H2 is just 4 Myr, independent of the lifetime of its host molecular cloud, which may vary from 1 to 90 Myr, with a substantial portion of all star formation in the galaxy occurring in relatively long-lived clouds. The rapid ejection of gas from around young massive stars by early stellar feedback is responsible for this short H2 survival time, driving down the density of the surrounding gas, so that its H2 molecules are dissociated by the interstellar radiation field. This ejection of gas from the H2-dominated state is balanced by the constant accretion of new gas from the galactic environment, constituting a \"competition model\" for molecular cloud evolution. Gas ejection occurs at a rate that is proportional to the molecular cloud mass, so that the cloud lifetime is determined by the accretion rate, which may be as high as 4 x 10^4 Msol/Myr in the longest-lived clouds. Our findings therefore resolve the conflict between observations of rapid gas ejection around young massive stars and observations of long-lived molecular clouds in galaxies, that often survive up to several tens of Myr. We show that the fastest-accreting, longest-lived, highest-mass clouds drive supernova clustering on sub-cloud scales, which in turn is a key driver of galactic outflows. |\n",
       "|<p style=\"color:green\"> **ERROR** </p>| <p style=\"color:green\">affiliation error: mpia.affiliation_verifications: 'Heidelberg' keyword not found.</p> |"
      ],
      "text/plain": [
       "<IPython.core.display.Markdown object>"
      ]
     },
     "metadata": {},
     "output_type": "display_data"
    },
    {
     "data": {
      "text/markdown": [
       "\n",
       "|||\n",
       "|---:|:---|\n",
       "| [![arXiv](https://img.shields.io/badge/arXiv-arXiv:2301.10266-b31b1b.svg)](https://arxiv.org/abs/arXiv:2301.10266) | **Cosmological Structure Formation and Soliton Phase Transition in Fuzzy  Dark Matter with Axion Self-Interactions**  |\n",
       "|| Philip Mocz, et al. -- incl., <mark>Pierre-Henri Chavanis</mark>, <mark>Lars Hernquist</mark> |\n",
       "|*Appeared on*| *2023-01-26*|\n",
       "|*Comments*| *10 pages, 3 figures, submitted to mnras*|\n",
       "|**Abstract**| We investigate cosmological structure formation in Fuzzy Dark Matter (FDM) with an attractive self-interaction (SI) with numerical simulations. Such a SI would arise if the FDM boson were an ultra-light axion, which has a strong CP symmetry-breaking scale (decay constant). Although weak, the attractive SI may be strong enough to counteract the quantum 'pressure' and alter structure formation. We find in our simulations that the SI can enhance small-scale structure formation, and soliton cores above a critical mass undergo a phase transition, transforming from dilute to dense solitons. |\n",
       "|<p style=\"color:green\"> **ERROR** </p>| <p style=\"color:green\">affiliation error: mpia.affiliation_verifications: 'Heidelberg' keyword not found.</p> |"
      ],
      "text/plain": [
       "<IPython.core.display.Markdown object>"
      ]
     },
     "metadata": {},
     "output_type": "display_data"
    },
    {
     "data": {
      "text/markdown": [
       "\n",
       "|||\n",
       "|---:|:---|\n",
       "| [![arXiv](https://img.shields.io/badge/arXiv-arXiv:2301.10345-b31b1b.svg)](https://arxiv.org/abs/arXiv:2301.10345) | **LuSEE 'Night': The Lunar Surface Electromagnetics Experiment**  |\n",
       "|| Stuart D. Bale, et al. -- incl., <mark>Jack O. Burns</mark>, <mark>Christian Hellum-Bye</mark>, <mark>Sven Hermann</mark> |\n",
       "|*Appeared on*| *2023-01-26*|\n",
       "|*Comments*| *summary paper submitted to URSI GASS 2023*|\n",
       "|**Abstract**| The Lunar Surface Electromagnetics Explorer 'LuSEE Night' is a low frequency radio astronomy experiment that will be delivered to the farside of the Moon by the NASA Commercial Lunar Payload Services (CLPS) program in late 2025 or early 2026. The payload system is being developed jointly by NASA and the US Department of Energy (DOE) and consists of a 4 channel, 50 MHz Nyquist baseband receiver system and 2 orthogonal $\\sim$6m tip-to-tip electric dipole antennas. LuSEE Night will enjoy standalone operations through the lunar night, without the electromagnetic interference (EMI) of an operating lander system and antipodal to our noisy home planet. |\n",
       "|<p style=\"color:green\"> **ERROR** </p>| <p style=\"color:green\">affiliation error: mpia.affiliation_verifications: 'Heidelberg' keyword not found.</p> |"
      ],
      "text/plain": [
       "<IPython.core.display.Markdown object>"
      ]
     },
     "metadata": {},
     "output_type": "display_data"
    },
    {
     "data": {
      "text/markdown": [
       "\n",
       "|||\n",
       "|---:|:---|\n",
       "| [![arXiv](https://img.shields.io/badge/arXiv-arXiv:2301.10378-b31b1b.svg)](https://arxiv.org/abs/arXiv:2301.10378) | **Study of advective energy transport in the inflow and the outflow of  super-Eddington accretion flows**  |\n",
       "|| <mark>Cheng-Liang Jiao</mark> |\n",
       "|*Appeared on*| *2023-01-26*|\n",
       "|*Comments*| *7 pages, 3 figures, submitted to MNRAS*|\n",
       "|**Abstract**| Photon trapping is believed to be an important mechanism in super-Eddington accretion, which greatly reduces the radiative efficiency as photons are swallowed by the central black hole before they can escape from the accretion flow. This effect is interpreted as the radial advection of energy in one-dimensional height-integrated models, such as the slim disc model. However, when multi-dimensional effects are considered, the conventional understanding may no longer hold. In this paper, we study the advective energy transport in super-Eddington accretion, based on a new two-dimensional inflow-outflow solution with radial self-similarity, in which the advective factor is calculated self-consistently by incorporating the calculation of radiative flux, instead of being set as an input parameter. We found that radial advection is actually a heating mechanism in the inflow due to compression, and the energy balance in the inflow is maintained by cooling via radiation and vertical ($\\theta$-direction) advection, which transports entropy upwards to be radiated closer to the surface or carried away by the outflow. As a result, less photons are advected inwards and more photons are released from the surface, so that the mean advective factor is smaller and the emergent flux is larger than those predicted by the slim disc model. The radiative efficiency of super-Eddington accretion thus should be larger than that of the slim disc model, which agrees with the results of some recent numerical simulations. |\n",
       "|<p style=\"color:green\"> **ERROR** </p>| <p style=\"color:green\">affiliation error: mpia.affiliation_verifications: 'Heidelberg' keyword not found.</p> |"
      ],
      "text/plain": [
       "<IPython.core.display.Markdown object>"
      ]
     },
     "metadata": {},
     "output_type": "display_data"
    },
    {
     "data": {
      "text/markdown": [
       "\n",
       "|||\n",
       "|---:|:---|\n",
       "| [![arXiv](https://img.shields.io/badge/arXiv-arXiv:2301.10420-b31b1b.svg)](https://arxiv.org/abs/arXiv:2301.10420) | **Surveying Nearby Brown Dwarfs with HGCA: Direct Imaging Discovery of a  Faint, High-Mass Brown Dwarf Orbiting HD 176535 A**  |\n",
       "|| <mark>Yiting Li</mark>, et al. -- incl., <mark>Briley L. Lewis</mark> |\n",
       "|*Appeared on*| *2023-01-26*|\n",
       "|*Comments*| **|\n",
       "|**Abstract**| Brown dwarfs with well-measured masses, ages and luminosities provide direct benchmark tests of substellar formation and evolutionary models. We report the first results from a direct imaging survey aiming to find and characterize substellar companions to nearby accelerating stars with the assistance of the Hipparcos-Gaia Catalog of Accelerations (HGCA). In this paper, we present a joint high-contrast imaging and astrometric discovery of a substellar companion to HD 176535 A, a K3.5V main-sequence star aged approximately $3.59_{-1.15}^{+0.87}$ Gyrs at a distance of $36.99 \\pm 0.03$ pc. In advance of our high-contrast imaging observations, we combined precision HARPS RVs and HGCA astrometry to predict the potential companion's location and mass. We thereafter acquired two nights of KeckAO/NIRC2 direct imaging observations in the $L'$ band, which revealed a companion with a contrast of $\\Delta L'_p = 9.20\\pm0.06$ mag at a projected separation of $\\approx$0.$\\!\\!''35$ ($\\approx$13 AU) from the host star. We revise our orbital fit by incorporating our dual-epoch relative astrometry using the open-source MCMC orbit fitting code $\\tt orvara$. HD 176535 B is a new benchmark dwarf useful for constraining the evolutionary and atmospheric models of high-mass brown dwarfs. We found a luminosity of $\\rm log(L_{bol}/L_{\\odot}) = -5.26\\pm0.06$ and a model-dependent effective temperature of $980 \\pm 35$ K for HD 176535 B. Our dynamical mass suggests that some substellar evolutionary models may be underestimating luminosity for high-mass T dwarfs. Given its angular separation and luminosity, HD 176535 B would make a promising candidate for Aperture Masking Interferometry with JWST and GRAVITY/KPIC, and further spectroscopic characterization with instruments like the CHARIS/SCExAO/Subaru integral field spectrograph. |\n",
       "|<p style=\"color:green\"> **ERROR** </p>| <p style=\"color:green\">affiliation error: mpia.affiliation_verifications: 'Heidelberg' keyword not found.</p> |"
      ],
      "text/plain": [
       "<IPython.core.display.Markdown object>"
      ]
     },
     "metadata": {},
     "output_type": "display_data"
    },
    {
     "data": {
      "text/markdown": [
       "\n",
       "|||\n",
       "|---:|:---|\n",
       "| [![arXiv](https://img.shields.io/badge/arXiv-arXiv:2301.10436-b31b1b.svg)](https://arxiv.org/abs/arXiv:2301.10436) | **Lithium abundances in giants as a function of stellar mass: An evidence  for He-flash as the source of Li enhancement in low mass giants**  |\n",
       "|| <mark>Anohita Mallick</mark>, Raghubar Singh, Bacham E. Reddy |\n",
       "|*Appeared on*| *2023-01-26*|\n",
       "|*Comments*| *10 pages, 7 figures, 1 table, accepted in Astrophysical Journal Letters*|\n",
       "|**Abstract**| In this work, we studied the distribution of lithium abundances in giants as a function of stellar mass. We used a sample of 1240 giants common among Kepler photometric and LAMOST medium resolution (R $\\approx$ 7500) spectroscopic survey fields. The asteroseismic $\\Delta$P - $\\Delta \\nu$ diagram is used to define core He-burning red clump giants and red giant branch stars with inert He-core. Li abundances have been derived using spectral synthesis for the entire sample stars. Directly measured values of asteroseismic parameters $\\Delta$P(or $\\Delta \\Pi_1$) and $\\Delta \\nu$ are either taken from the literature or measured in this study. Of the 777 identified red clump giants, we found 668 low mass ($\\leq$ 2~M$_{\\odot}$) primary red clump giants and 109 high mass ($>$ 2~M$_{\\odot}$) secondary red clump giants. Observed Li abundances in secondary red clump giants agree with the theoretical model predictions. The lack of Li-rich giants among secondary red clump giants and the presence of Li-rich, including super Li-rich giants, among primary red clump stars reinforces the idea that Helium-flash holds the key for Li enrichment among low-mass giants. The results will further constrain theoretical models searching for a physical mechanism for Li enhancement among low-mass red clump giants. Results also serve as observational evidence that only giants with mass less than $\\approx$ 2~M$_{\\odot}$ develop degenerate He-core and undergo He-flash. |\n",
       "|<p style=\"color:green\"> **ERROR** </p>| <p style=\"color:green\">affiliation error: mpia.affiliation_verifications: 'Heidelberg' keyword not found.</p> |"
      ],
      "text/plain": [
       "<IPython.core.display.Markdown object>"
      ]
     },
     "metadata": {},
     "output_type": "display_data"
    },
    {
     "data": {
      "text/markdown": [
       "\n",
       "|||\n",
       "|---:|:---|\n",
       "| [![arXiv](https://img.shields.io/badge/arXiv-arXiv:2301.10533-b31b1b.svg)](https://arxiv.org/abs/arXiv:2301.10533) | **Capturing the lowest luminosity state of the Supergiant Fast X-ray  Transient XTE J1739-302**  |\n",
       "|| <mark>Lara Sidoli</mark>, Gabriele Ponti, Vito Sguera, Paolo Esposito |\n",
       "|*Appeared on*| *2023-01-26*|\n",
       "|*Comments*| *10 pages, 9 Figures, 2 Tables; accepted for publication in Astronomy & Astrophysics on 24 January 2023*|\n",
       "|**Abstract**| We report here on the results of the analysis of Chandra, XMM-Newton and NuSTAR recent observations of the Supergiant Fast X-ray Transient XTEJ1739-302. The source was caught in a low X-ray luminosity state, from a few $10^{31}$ to $10^{34}$ erg/s (0.5-10 keV). In particular, a very low X-ray luminosity was captured during an XMM-Newton observation performed in October 2022, at a few $10^{31}$ erg/s (0.5-10 keV), never observed before in XTEJ1739-302. The XMM-Newton spectrum could be well fitted either by an absorbed, steep power law model (photon index of 3.5) or by a collisionally-ionized diffuse gas with a temperature of 0.7 keV, very likely produced by shocks in the supergiant donor wind. These observations covered different orbital phases, but all appear compatible with the low luminosity level expected from the orbital INTEGRAL light curve. The absorbing column density is variable in the range $10^{22}-10^{23}$ cm$^{-2}$. A broad-band X-ray spectrum could be investigated at $10^{34}$ erg/s (0.5-30 keV) for the first time in XTEJ1739-302 with not simultaneous (but at similar orbital phases) Chandra and NuSTAR data, showing a power law spectral shape with a photon index of about 2.2 and an absorbing column density of $\\sim$$10^{23}$ cm$^{-2}$. Remarkably, owing to the XMM-Newton observation, the amplitude of the X-ray variability has increased to five orders of magnitude, making XTEJ1739-302 one of the most extreme SFXTs. |\n",
       "|<p style=\"color:green\"> **ERROR** </p>| <p style=\"color:green\">affiliation error: mpia.affiliation_verifications: 'Heidelberg' keyword not found.</p> |"
      ],
      "text/plain": [
       "<IPython.core.display.Markdown object>"
      ]
     },
     "metadata": {},
     "output_type": "display_data"
    },
    {
     "data": {
      "text/markdown": [
       "\n",
       "|||\n",
       "|---:|:---|\n",
       "| [![arXiv](https://img.shields.io/badge/arXiv-arXiv:2301.10613-b31b1b.svg)](https://arxiv.org/abs/arXiv:2301.10613) | **Hubble Space Telescope imaging of the compact elliptical galaxy M32  reveals a dearth of carbon stars**  |\n",
       "|| O. C. Jones, et al. -- incl., <mark>M. Meixner</mark> |\n",
       "|*Appeared on*| *2023-01-26*|\n",
       "|*Comments*| *10 pages, 7 figures, submitted MNRAS 7/12/22*|\n",
       "|**Abstract**| We present new {\\em Hubble Space Telescope} WFC3/IR medium-band photometry of the compact elliptical galaxy M32, chemically resolving its thermally pulsating asymptotic giant branch stars. We find 2829 M-type stars and 57 C stars. The carbon stars are likely contaminants from M31. If carbon stars are present in M32 they are so in very low numbers. The uncorrected C/M ratio is 0.020 $\\pm$ 0.003; this drops to less than 0.007 after taking into account contamination from M31. As the mean metallicity of M32 is just below solar, this low ratio of C to M stars is unlikely due to a metallicity ceiling for the formation of carbon stars. Instead, the age of the AGB population is likely to be the primary factor. The ratio of AGB to RGB stars in M32 is similar to that of the inner disc of M31 which contain stars that formed 1.5--4 Gyr ago. If the M32 population is at the older end of this age then its lack of C-stars may be consistent with a narrow mass range for carbon star formation predicted by some stellar evolution models. Applying our chemical classifications to the dusty variable stars identified with {\\em Spitzer}, we find that the x-AGB candidates identified with {\\em Spitzer} are predominately M-type stars. This substantially increases the lower limit to the cumulative dust-production rate in M32 to $>$ 1.97 $\\times 10^{-5}$ ${\\rm M}_{\\odot} \\, {\\rm yr}^{-1}$. |\n",
       "|<p style=\"color:green\"> **ERROR** </p>| <p style=\"color:green\">affiliation error: mpia.affiliation_verifications: 'Heidelberg' keyword not found.</p> |"
      ],
      "text/plain": [
       "<IPython.core.display.Markdown object>"
      ]
     },
     "metadata": {},
     "output_type": "display_data"
    },
    {
     "data": {
      "text/markdown": [
       "\n",
       "|||\n",
       "|---:|:---|\n",
       "| [![arXiv](https://img.shields.io/badge/arXiv-arXiv:2301.10614-b31b1b.svg)](https://arxiv.org/abs/arXiv:2301.10614) | **Optical and near-infrared stellar activity characterization of the early  M dwarf Gl~205 with SOPHIE and SPIRou**  |\n",
       "|| P. Cortes-Zuleta, et al. -- incl., <mark>B. Klein</mark>, <mark>N. Heidari</mark>, <mark>G. Hebrard</mark> |\n",
       "|*Appeared on*| *2023-01-26*|\n",
       "|*Comments*| *42 pages, 24 figures. Accepted for publication in A&A*|\n",
       "|**Abstract**| The stellar activity of M dwarfs is the main limitation for discovering and characterizing exoplanets orbiting them since it induces quasi-periodic RV variations. We aim to characterize the magnetic field and stellar activity of the early, moderately active, M dwarf Gl205 in the optical and nIR domains. We obtained high-precision quasi-simultaneous spectra in the optical and nIR with the SOPHIE spectrograph and SPIRou spectropolarimeter between 2019 and 2022. We computed the RVs from both instruments and the SPIRou Stokes V profiles. We used ZDI to map the large-scale magnetic field over the time span of the observations. We studied the temporal behavior of optical and nIR RVs and activity indicators with the Lomb-Scargle periodogram and a quasi-periodic GP regression. In the nIR, we studied the equivalent width of Al I, Ti I, K I, Fe I, and He I. We modeled the activity-induced RV jitter using a multi-dimensional GP regression with activity indicators as ancillary time series. The optical and nIR RVs have similar scatter but nIR shows a more complex temporal evolution. We observe an evolution of the magnetic field topology from a poloidal dipolar field in 2019 to a dominantly toroidal field in 2022. We measured a stellar rotation period of Prot=34.4$\\pm$0.5 d in the longitudinal magnetic field. Using ZDI we measure the amount of latitudinal differential rotation (DR) shearing the stellar surface yielding rotation periods of Peq=32.0$\\pm$1.8 d at the stellar equator and Ppol=45.5$\\pm$0.3 d at the poles. We observed inconsistencies in the activity indicators' periodicities that could be explained by these DR values. The multi-dimensional GP modeling yields an RMS of the RV residuals down to the noise level of 3 m/s for both instruments, using as ancillary time series H$\\alpha$ and the BIS in the optical, and the FWHM in the nIR. |\n",
       "|<p style=\"color:green\"> **ERROR** </p>| <p style=\"color:green\">affiliation error: mpia.affiliation_verifications: 'Heidelberg' keyword not found.</p> |"
      ],
      "text/plain": [
       "<IPython.core.display.Markdown object>"
      ]
     },
     "metadata": {},
     "output_type": "display_data"
    },
    {
     "data": {
      "text/markdown": [
       "\n",
       "|||\n",
       "|---:|:---|\n",
       "| [![arXiv](https://img.shields.io/badge/arXiv-arXiv:2301.10615-b31b1b.svg)](https://arxiv.org/abs/arXiv:2301.10615) | **Quakes of Compact Stars**  |\n",
       "|| Ruipeng Lu, et al. -- incl., <mark>Shenjian Zhang</mark> |\n",
       "|*Appeared on*| *2023-01-26*|\n",
       "|*Comments*| *13 pages, 7 figures; MNRAS paper accepted*|\n",
       "|**Abstract**| Glitches are commonly observed for pulsars, which are explained by various mechanisms. One hypothesis attributes the glitch effect to the instantaneous moment of inertia change of the whole star caused by a starquake, which is similar to earthquakes caused by fast dislocation occurring on planar faults for the static stress, though the quake-induced dynamics responsible for glitch (superfluid vortex vs. pure starquake) remains still unknown. However, a theoretical model to quantitatively explain the stress loading, types of starquakes, and co-seismic change of moment of inertia is rarely discussed. In this study, we incorporate elastic deformation theories of earthquakes into the starquake problems. We compute the field of stress loading associated with rotation deceleration and determine the optimal type of starquakes at various locations. Two types of pulsar structure models, i.e. neutron and strangeon star models, are included in the computation and their differences are notable. Our calculation shows that the observed glitch amplitude can be explained by the starquakes in the strangeon star model, though the required scaled starquake magnitude is much larger than that occurred on the Earth. We further discuss the possibility to compute the energy budget and other glitch phenomena using the starquake model in the elastic medium framework. |\n",
       "|<p style=\"color:green\"> **ERROR** </p>| <p style=\"color:green\">affiliation error: mpia.affiliation_verifications: 'Heidelberg' keyword not found.</p> |"
      ],
      "text/plain": [
       "<IPython.core.display.Markdown object>"
      ]
     },
     "metadata": {},
     "output_type": "display_data"
    },
    {
     "data": {
      "text/markdown": [
       "\n",
       "|||\n",
       "|---:|:---|\n",
       "| [![arXiv](https://img.shields.io/badge/arXiv-arXiv:2301.10728-b31b1b.svg)](https://arxiv.org/abs/arXiv:2301.10728) | **CdTe Spectroscopic-Imager Measurements with Bent Crystals for Broad Band  Laue Lenses**  |\n",
       "|| N. Auricchio, et al. -- incl., <mark>O. Limousin</mark> |\n",
       "|*Appeared on*| *2023-01-26*|\n",
       "|*Comments*| *7 pages, 22 figures, 2022 IEEE Nuclear Science Symposium, Medical Imaging Conference and Room Temperature Semiconductor Detector Conference (NSS/MIC/RTSD)*|\n",
       "|**Abstract**| In astrophysics, several key questions in the hard X soft Gamma-ray range (above 100 keV) require sensitivity and angular resolution that are hardly achievable with current technologies. Therefore, a new kind of instrument able to focus hard X and gamma-rays is essential. Broad band Laue lenses seem to be the only solution to fulfil these requirements, significantly improving the sensitivity and angular resolution of the X and gamma-ray telescopes. This type of high-energy optics will require highly performing focal plane detectors in terms of detection efficiency, spatial resolution, and spectroscopy. This paper presents the results obtained in the project 'Technological Readiness Increase for Laue Lenses (TRILL)' framework using a Caliste-HD detector module. This detector is a pixel spectrometer developed at CEA (Commissariat a Energie Atomique, Saclay, France). It is used to acquire spectroscopic images of the focal spot produced by Laue Lens bent crystals under a hard X-ray beam at the LARIX facility (University of Ferrara, Italy). |\n",
       "|<p style=\"color:red\"> **ERROR** </p>| <p style=\"color:red\">latex error not a gzip file</p> |"
      ],
      "text/plain": [
       "<IPython.core.display.Markdown object>"
      ]
     },
     "metadata": {},
     "output_type": "display_data"
    }
   ],
   "source": [
    "import datetime\n",
    "today = str(datetime.date.today())\n",
    "logfile = f\"_build/html/logs/log-{today}.md\"\n",
    "\n",
    "\n",
    "with open(logfile, 'w') as logs:\n",
    "    # Success\n",
    "    logs.write(f'# Arxiv on Deck 2: Logs - {today}\\n\\n')\n",
    "    logs.write(\"\"\"* Arxiv had {0:,d} new papers\\n\"\"\".format(len(new_papers)))\n",
    "    logs.write(\"\"\"    * {0:,d} with possible author matches\\n\\n\"\"\".format(len(candidates)))\n",
    "    logs.write(\"## Sucessful papers\\n\\n\")\n",
    "    display(Markdown(\"## Successful papers\"))\n",
    "    success = [k[0] for k in documents]\n",
    "    for candid in candidates:\n",
    "        if candid['identifier'].split(':')[-1] in success:\n",
    "            display(candid)\n",
    "            logs.write(candid.generate_markdown_text() + '\\n\\n')\n",
    "\n",
    "    ## failed\n",
    "    logs.write(\"## Failed papers\\n\\n\")\n",
    "    display(Markdown(\"## Failed papers\"))\n",
    "    failed = sorted(failed, key=lambda x: x[1])\n",
    "    current_reason = \"\"\n",
    "    for paper, reason in failed:\n",
    "        if 'affiliation' in reason:\n",
    "            color = 'green'\n",
    "        else:\n",
    "            color = 'red'\n",
    "        data = Markdown(\n",
    "                paper.generate_markdown_text() + \n",
    "                f'\\n|<p style=\"color:{color:s}\"> **ERROR** </p>| <p style=\"color:{color:s}\">{reason:s}</p> |'\n",
    "               )\n",
    "        if reason != current_reason:\n",
    "            logs.write(f'### {reason:s} \\n\\n')\n",
    "            current_reason = reason\n",
    "        logs.write(data.data + '\\n\\n')\n",
    "        \n",
    "        # only display here the important errors (all in logs)\n",
    "        # if color in ('red',):\n",
    "        display(data)"
   ]
  },
  {
   "cell_type": "markdown",
   "id": "472d20ee",
   "metadata": {
    "papermill": {
     "duration": 0.008128,
     "end_time": "2023-01-26T04:08:10.769533",
     "exception": false,
     "start_time": "2023-01-26T04:08:10.761405",
     "status": "completed"
    },
    "tags": []
   },
   "source": [
    "## Export documents\n",
    "\n",
    "We now write the .md files and export relevant images"
   ]
  },
  {
   "cell_type": "code",
   "execution_count": 7,
   "id": "d426aed9",
   "metadata": {
    "execution": {
     "iopub.execute_input": "2023-01-26T04:08:10.787427Z",
     "iopub.status.busy": "2023-01-26T04:08:10.786897Z",
     "iopub.status.idle": "2023-01-26T04:08:10.794532Z",
     "shell.execute_reply": "2023-01-26T04:08:10.793993Z"
    },
    "papermill": {
     "duration": 0.018475,
     "end_time": "2023-01-26T04:08:10.796130",
     "exception": false,
     "start_time": "2023-01-26T04:08:10.777655",
     "status": "completed"
    },
    "tags": []
   },
   "outputs": [],
   "source": [
    "def export_markdown_summary(md: str, md_fname:str, directory: str):\n",
    "    \"\"\"Export MD document and associated relevant images\"\"\"\n",
    "    import os\n",
    "    import shutil\n",
    "    import re\n",
    "\n",
    "    if (os.path.exists(directory) and not os.path.isdir(directory)):\n",
    "        raise RuntimeError(f\"a non-directory file exists with name {directory:s}\")\n",
    "\n",
    "    if (not os.path.exists(directory)):\n",
    "        print(f\"creating directory {directory:s}\")\n",
    "        os.mkdir(directory)\n",
    "\n",
    "    fig_fnames = (re.compile(r'\\[Fig.*\\]\\((.*)\\)').findall(md) + \n",
    "                  re.compile(r'\\<img src=\"([^>\\s]*)\"[^>]*/>').findall(md))\n",
    "    for fname in fig_fnames:\n",
    "        if 'http' in fname:\n",
    "            # No need to copy online figures\n",
    "            continue\n",
    "        destdir = os.path.join(directory, os.path.dirname(fname))\n",
    "        destfname = os.path.join(destdir, os.path.basename(fname))\n",
    "        try:\n",
    "            os.makedirs(destdir)\n",
    "        except FileExistsError:\n",
    "            pass\n",
    "        shutil.copy(fname, destfname)\n",
    "    with open(os.path.join(directory, md_fname), 'w') as fout:\n",
    "        fout.write(md)\n",
    "    print(\"exported in \", os.path.join(directory, md_fname))\n",
    "    [print(\"    + \" + os.path.join(directory,fk)) for fk in fig_fnames]"
   ]
  },
  {
   "cell_type": "code",
   "execution_count": 8,
   "id": "014d04a4",
   "metadata": {
    "execution": {
     "iopub.execute_input": "2023-01-26T04:08:10.813855Z",
     "iopub.status.busy": "2023-01-26T04:08:10.813411Z",
     "iopub.status.idle": "2023-01-26T04:08:10.820937Z",
     "shell.execute_reply": "2023-01-26T04:08:10.820309Z"
    },
    "papermill": {
     "duration": 0.018031,
     "end_time": "2023-01-26T04:08:10.822435",
     "exception": false,
     "start_time": "2023-01-26T04:08:10.804404",
     "status": "completed"
    },
    "tags": []
   },
   "outputs": [
    {
     "name": "stdout",
     "output_type": "stream",
     "text": [
      "exported in  _build/html/2301.10496.md\n",
      "    + _build/html/tmp_2301.10496/./fig/HESSband_compare_paper.png\n",
      "    + _build/html/tmp_2301.10496/./fig/tcool_paper.png\n",
      "    + _build/html/tmp_2301.10496/./fig/HESS_W1.png\n",
      "exported in  _build/html/2301.10666.md\n",
      "    + _build/html/tmp_2301.10666/./AU_5_sfh127_thetaY0_SN30_minNstars2_run0_thickexsitu_normgal_talk.png\n",
      "exported in  _build/html/2301.10717.md\n",
      "    + _build/html/tmp_2301.10717/./Age_VS_EW_OIII.png\n",
      "    + _build/html/tmp_2301.10717/./MASS_VS_EW_OIII.png\n",
      "    + _build/html/tmp_2301.10717/./EW_OIII_vs_EW_Halpha.png\n"
     ]
    }
   ],
   "source": [
    "for paper_id, md in documents:\n",
    "    export_markdown_summary(md, f\"{paper_id:s}.md\", '_build/html/')"
   ]
  },
  {
   "cell_type": "markdown",
   "id": "f087a0a7",
   "metadata": {
    "papermill": {
     "duration": 0.008132,
     "end_time": "2023-01-26T04:08:10.838919",
     "exception": false,
     "start_time": "2023-01-26T04:08:10.830787",
     "status": "completed"
    },
    "tags": []
   },
   "source": [
    "## Display the papers\n",
    "\n",
    "Not necessary but allows for a quick check."
   ]
  },
  {
   "cell_type": "code",
   "execution_count": 9,
   "id": "fd25f625",
   "metadata": {
    "execution": {
     "iopub.execute_input": "2023-01-26T04:08:10.856573Z",
     "iopub.status.busy": "2023-01-26T04:08:10.856321Z",
     "iopub.status.idle": "2023-01-26T04:08:10.863879Z",
     "shell.execute_reply": "2023-01-26T04:08:10.863242Z"
    },
    "papermill": {
     "duration": 0.018219,
     "end_time": "2023-01-26T04:08:10.865383",
     "exception": false,
     "start_time": "2023-01-26T04:08:10.847164",
     "status": "completed"
    },
    "scrolled": false,
    "tags": []
   },
   "outputs": [
    {
     "data": {
      "text/markdown": [
       "<div class=\"macros\" style=\"visibility:hidden;\">\n",
       "$\\newcommand{\\ensuremath}{}$\n",
       "$\\newcommand{\\xspace}{}$\n",
       "$\\newcommand{\\object}[1]{\\texttt{#1}}$\n",
       "$\\newcommand{\\farcs}{{.}''}$\n",
       "$\\newcommand{\\farcm}{{.}'}$\n",
       "$\\newcommand{\\arcsec}{''}$\n",
       "$\\newcommand{\\arcmin}{'}$\n",
       "$\\newcommand{\\ion}[2]{#1#2}$\n",
       "$\\newcommand{\\textsc}[1]{\\textrm{#1}}$\n",
       "$\\newcommand{\\hl}[1]{\\textrm{#1}}$\n",
       "$\\newcommand{\\red}[1]{\\textcolor{red}{#1}}$\n",
       "$\\newcommand{\\blue}[1]{\\textcolor{blue}{#1}}$\n",
       "$\\newcommand{\\hess}{H.E.S.S.}$\n",
       "$\\newcommand{\\src}{Westerlund~1}$\n",
       "$\\newcommand{\\kms}{ \\mathrm{km} \\mathrm{s}^{-1}}$\n",
       "$\\newcommand{\\Msyr}{ \\mathrm{M}_\\odot \\mathrm{yr}^{-1}}$\n",
       "$\\newcommand{\\ergs}{ \\mathrm{erg} \\mathrm{s}^{-1}}$\n",
       "$\\newcommand{\\ergqcm}{ \\mathrm{erg} \\mathrm{cm}^{-3}}$\n",
       "$\\newcommand{\\eVqcm}{ \\mathrm{eV} \\mathrm{cm}^{-3}}$\n",
       "$\\newcommand{\\pqcm}{ \\mathrm{cm}^{-3}}$\n",
       "$\\newcommand{\\Msun}{ \\mathrm{M}_\\odot}$\n",
       "$\\newcommand{\\Lw}{L_\\mathrm{w}}$\n",
       "$\\newcommand{\\arraystretch}{1.2}$</div>\n",
       "\n",
       "<div class=\"macros\" style=\"visibility:hidden;\">\n",
       "$\\newcommand{$\\ensuremath$}{}$\n",
       "$\\newcommand{$\\xspace$}{}$\n",
       "$\\newcommand{$\\object$}[1]{\\texttt{#1}}$\n",
       "$\\newcommand{$\\farcs$}{{.}''}$\n",
       "$\\newcommand{$\\farcm$}{{.}'}$\n",
       "$\\newcommand{$\\arcsec$}{''}$\n",
       "$\\newcommand{$\\arcmin$}{'}$\n",
       "$\\newcommand{$\\ion$}[2]{#1#2}$\n",
       "$\\newcommand{$\\textsc$}[1]{\\textrm{#1}}$\n",
       "$\\newcommand{$\\hl$}[1]{\\textrm{#1}}$\n",
       "$\\newcommand{$\\red$}[1]{\\textcolor{red}{#1}}$\n",
       "$\\newcommand{$\\blue$}[1]{\\textcolor{blue}{#1}}$\n",
       "$\\newcommand{$\\hess$}{H.E.S.S.}$\n",
       "$\\newcommand{$\\src$}{Westerlund~1}$\n",
       "$\\newcommand{$\\kms$}{ \\mathrm{km} \\mathrm{s}^{-1}}$\n",
       "$\\newcommand{$\\Msyr$}{ \\mathrm{M}_\\odot \\mathrm{yr}^{-1}}$\n",
       "$\\newcommand{$\\ergs$}{ \\mathrm{erg} \\mathrm{s}^{-1}}$\n",
       "$\\newcommand{$\\ergqcm$}{ \\mathrm{erg} \\mathrm{cm}^{-3}}$\n",
       "$\\newcommand{$\\eVqcm$}{ \\mathrm{eV} \\mathrm{cm}^{-3}}$\n",
       "$\\newcommand{$\\pqcm$}{ \\mathrm{cm}^{-3}}$\n",
       "$\\newcommand{$\\Msun$}{ \\mathrm{M}_\\odot}$\n",
       "$\\newcommand{$\\Lw$}{L_\\mathrm{w}}$\n",
       "$\\newcommand{$\\arraystretch$}{1.2}$</div>\n",
       "\n",
       "\n",
       "\n",
       "<div id=\"title\">\n",
       "\n",
       "# \n",
       "\n",
       "</div>\n",
       "<div id=\"comments\">\n",
       "\n",
       "[![arXiv](https://img.shields.io/badge/arXiv-2301.10496-b31b1b.svg)](https://arxiv.org/abs/2301.10496)<mark>Appeared on: 2023-01-26</mark> - _Accepted for publication in Astronomy & Astrophyics_\n",
       "\n",
       "</div>\n",
       "<div id=\"authors\">\n",
       "\n",
       "Lucia K. Härer, et al. -- incl., <mark><mark>Lars Mohrmann</mark></mark>\n",
       "\n",
       "</div>\n",
       "<div id=\"abstract\">\n",
       "\n",
       "**Abstract:** Young massive star clusters (YMCs) have come increasingly into the focus of discussions on the origin of galactic cosmic rays (CRs). The proposition of CR acceleration inside superbubbles (SBs) blown by the strong winds of these clusters avoids issues faced by the standard paradigm of acceleration at supernova remnant shocks.We provide an interpretation of the latest TeV$\\gamma$-ray observations   of the region around the YMC$\\src$taken with the High Energy Stereoscopic System ($\\hess$)   in terms of diffusive shock acceleration at the cluster wind termination shock, taking into account the spectrum and morphology of the emission. As$\\src$is a prototypical example of a YMC, such a study is relevant to the general question about the role of YMCs for the Galactic CR population.We generate model$\\gamma$-ray spectra, characterise particle propagation inside the SB based on the advection, diffusion, and cooling timescales, and constrain key parameters of the system. We consider hadronic emission from proton-proton interaction and subsequent pion decay and leptonic emission from inverse Compton scattering on all relevant photon fields, including the CMB, diffuse and dust-scattered starlight, and the photon field of$\\src$itself. The effect of the magnetic field on cooling and propagation is discussed. Klein-Nishina effects are found to be important in determining the spectral evolution of the electron population.A leptonic origin of the bulk of the observed$\\gamma$-rays is preferable. The model is energetically plausible, consistent with the presence of a strong shock, and allows for the observed energy-independent morphology. The hadronic model faces two main issues: confinement of particles to the emission region and an unrealistic energy requirement.\n",
       "\n",
       "</div>\n",
       "\n",
       "<div id=\"div_fig1\">\n",
       "\n",
       "<img src=\"tmp_2301.10496/./fig/HESSband_compare_paper.png\" alt=\"Fig3\" width=\"100%\"/>\n",
       "\n",
       "**Figure 3. -** The best models for the spectrum of HESS J1646$-$458 (data taken from \\citetalias{Aharonian22}). Standard parameters are assumed (see Table \\ref{tab:pars}). The injected particle spectrum is a power law with an exponential cut-off, where $\\alpha_\\mathrm{inj}$ is the index and $E_\\mathrm{cutoff}$ the cut-off energy. The \\texttt{GAMERA} library is used to calculate the cooled particle spectrum and $\\gamma$-ray production. (*fig:hessband*)\n",
       "\n",
       "</div>\n",
       "<div id=\"div_fig2\">\n",
       "\n",
       "<img src=\"tmp_2301.10496/./fig/tcool_paper.png\" alt=\"Fig7\" width=\"100%\"/>\n",
       "\n",
       "**Figure 7. -** \\textit{Left:} electron cooling times for the default case (see Table \\ref{tab:pars}). The broad grey line is the sum of all the components shown in colour. For a description of the photon fields for IC scattering see the text. \\textit{Right:} range of plausible cooling times for synchrotron radiation (orange), bremsstrahlung (green), and the sum of all IC components (blue), resulting from a cluster photon field energy density of $U_\\mathrm{cl} = 3\\mbox{--}180$\\eVqcm$$, a density inside the superbubble of $n_\\mathrm{int} = 0.02\\mbox{--}0.1$\\pqcm$$, an effective cluster temperature of $T_\\mathrm{eff} = 10{,}000\\mbox{--}50{,}000 $K, a magnetic field of $B = 1\\mbox{--}10\\mu$G, and an enhancement of the diffuse stellar and dust emission by a factor 1--3. The enhancement of the diffuse component is motivated by the proximity to the cluster and increased dust density in the region, compared to the standard ISM. The inset shows the behaviour in the TeV-band in more detail highlighting the loss-time scaling with energy. The default case (broad grey line) shows a behaviour that would require diffusion close to the Kraichnan regime ($D\\sim E^{1/2}$) to reproduce energy-independent morphology. (*fig:tcool*)\n",
       "\n",
       "</div>\n",
       "<div id=\"div_fig3\">\n",
       "\n",
       "<img src=\"tmp_2301.10496/./fig/HESS_W1.png\" alt=\"Fig1\" width=\"100%\"/>\n",
       "\n",
       "**Figure 1. -** Map of HESS J1646$-$458 taken from \\citetalias{Aharonian22}, overlayed with the termination shock position predicted for the parameters indicated in Eq. \\ref{eq:rts}. The star marks the position of $\\src$. The dashed grey line traces the galactic plane. (*fig:hess_w1*)\n",
       "\n",
       "</div>"
      ],
      "text/plain": [
       "<IPython.core.display.Markdown object>"
      ]
     },
     "metadata": {},
     "output_type": "display_data"
    },
    {
     "data": {
      "text/markdown": [
       "<div class=\"macros\" style=\"visibility:hidden;\">\n",
       "$\\newcommand{\\ensuremath}{}$\n",
       "$\\newcommand{\\xspace}{}$\n",
       "$\\newcommand{\\object}[1]{\\texttt{#1}}$\n",
       "$\\newcommand{\\farcs}{{.}''}$\n",
       "$\\newcommand{\\farcm}{{.}'}$\n",
       "$\\newcommand{\\arcsec}{''}$\n",
       "$\\newcommand{\\arcmin}{'}$\n",
       "$\\newcommand{\\ion}[2]{#1#2}$\n",
       "$\\newcommand{\\textsc}[1]{\\textrm{#1}}$\n",
       "$\\newcommand{\\hl}[1]{\\textrm{#1}}$</div>\n",
       "\n",
       "<div class=\"macros\" style=\"visibility:hidden;\">\n",
       "$\\newcommand{$\\ensuremath$}{}$\n",
       "$\\newcommand{$\\xspace$}{}$\n",
       "$\\newcommand{$\\object$}[1]{\\texttt{#1}}$\n",
       "$\\newcommand{$\\farcs$}{{.}''}$\n",
       "$\\newcommand{$\\farcm$}{{.}'}$\n",
       "$\\newcommand{$\\arcsec$}{''}$\n",
       "$\\newcommand{$\\arcmin$}{'}$\n",
       "$\\newcommand{$\\ion$}[2]{#1#2}$\n",
       "$\\newcommand{$\\textsc$}[1]{\\textrm{#1}}$\n",
       "$\\newcommand{$\\hl$}[1]{\\textrm{#1}}$</div>\n",
       "\n",
       "\n",
       "\n",
       "<div id=\"title\">\n",
       "\n",
       "# The interplay ofinternal and external processesin the buildup of disk galaxies: thick-disk star formation historiesin AURIGA simulations\n",
       "\n",
       "</div>\n",
       "<div id=\"comments\">\n",
       "\n",
       "[![arXiv](https://img.shields.io/badge/arXiv-2301.10666-b31b1b.svg)](https://arxiv.org/abs/2301.10666)<mark>Appeared on: 2023-01-26</mark> - _3 pages, one figure, Proceedings IAU Symposium S373_\n",
       "\n",
       "</div>\n",
       "<div id=\"authors\">\n",
       "\n",
       "<mark><mark>Francesca Pinna</mark></mark>, Daniel Walo-Martín, Robert J. J. Grand\n",
       "\n",
       "</div>\n",
       "<div id=\"abstract\">\n",
       "\n",
       "**Abstract:** Recent integral-field spectroscopy observations have revealed that thick- and thin-disk star-formation histories are regulated by the interplay of internal and external processes.We analyze stellar-population properties of 24 spiral galaxies from the AURIGA zoom-in cosmological simulations, to offer a more in-depth interpretation of observable properties.We present edge-on maps of stellar age, metallicity and[Mg/Fe]abundance,and we extract the star-formation and chemical-evolution histories of thin and thick disks. Both show signs of the interplay between internal chemical enrichment and gas and star accretion. Thick disks show particularly complex stellar populations, including an in-situ component, formed from both slowly enriched and accreted more pristine gas, and an additional significant fraction of ex-situ stars.\\keywords{techniques: spectroscopic, galaxies: evolution, galaxies: structure}\n",
       "\n",
       "</div>\n",
       "\n",
       "<div id=\"div_fig1\">\n",
       "\n",
       "<img src=\"tmp_2301.10666/./AU_5_sfh127_thetaY0_SN30_minNstars2_run0_thickexsitu_normgal_talk.png\" alt=\"Fig1\" width=\"100%\"/>\n",
       "\n",
       "**Figure 1. -** Star-formation history of the thick disk in AU5, color-coded by total metallicity (top panels) and [Mg/Fe] abundance (bottom panels). Left panels include all stars, while middle and right panels include respectively only stars formed in situ or ex situ, indicating their corresponding thick-disk mass fraction on top of each column.  (*fig3*)\n",
       "\n",
       "</div>"
      ],
      "text/plain": [
       "<IPython.core.display.Markdown object>"
      ]
     },
     "metadata": {},
     "output_type": "display_data"
    },
    {
     "data": {
      "text/markdown": [
       "<div class=\"macros\" style=\"visibility:hidden;\">\n",
       "$\\newcommand{\\ensuremath}{}$\n",
       "$\\newcommand{\\xspace}{}$\n",
       "$\\newcommand{\\object}[1]{\\texttt{#1}}$\n",
       "$\\newcommand{\\farcs}{{.}''}$\n",
       "$\\newcommand{\\farcm}{{.}'}$\n",
       "$\\newcommand{\\arcsec}{''}$\n",
       "$\\newcommand{\\arcmin}{'}$\n",
       "$\\newcommand{\\ion}[2]{#1#2}$\n",
       "$\\newcommand{\\textsc}[1]{\\textrm{#1}}$\n",
       "$\\newcommand{\\hl}[1]{\\textrm{#1}}$\n",
       "$\\newcommand{\\gsim}{{\\;\\raise0.3ex\\hbox{>\\kern-0.75em\\raise-1.1ex\\hbox{\\sim}}\\;}}$</div>\n",
       "\n",
       "<div class=\"macros\" style=\"visibility:hidden;\">\n",
       "$\\newcommand{$\\ensuremath$}{}$\n",
       "$\\newcommand{$\\xspace$}{}$\n",
       "$\\newcommand{$\\object$}[1]{\\texttt{#1}}$\n",
       "$\\newcommand{$\\farcs$}{{.}''}$\n",
       "$\\newcommand{$\\farcm$}{{.}'}$\n",
       "$\\newcommand{$\\arcsec$}{''}$\n",
       "$\\newcommand{$\\arcmin$}{'}$\n",
       "$\\newcommand{$\\ion$}[2]{#1#2}$\n",
       "$\\newcommand{$\\textsc$}[1]{\\textrm{#1}}$\n",
       "$\\newcommand{$\\hl$}[1]{\\textrm{#1}}$\n",
       "$\\newcommand{$\\gsim$}{{\\;\\raise0.3ex\\hbox{>\\kern-0.75em\\raise-1.1ex\\hbox{\\sim}}\\;}}$</div>\n",
       "\n",
       "\n",
       "\n",
       "<div id=\"title\">\n",
       "\n",
       "#  unveiled with JWST/NIRCam and MIRI imaging in the Hubble eXtreme Deep Field (XDF)\n",
       "\n",
       "</div>\n",
       "<div id=\"comments\">\n",
       "\n",
       "[![arXiv](https://img.shields.io/badge/arXiv-2301.10717-b31b1b.svg)](https://arxiv.org/abs/2301.10717)<mark>Appeared on: 2023-01-26</mark> - _15 pages, 9 figures. Submitted to ApJ_\n",
       "\n",
       "</div>\n",
       "<div id=\"authors\">\n",
       "\n",
       "P. Rinaldi, et al. -- incl., <mark><mark>A. Alonso-Herrero</mark></mark>, <mark><mark>F. Walter</mark></mark>, <mark><mark>S. Bosman</mark></mark>, <mark><mark>D. Langeroodi</mark></mark>, <mark><mark>R. Meyer</mark></mark>, <mark><mark>M. Guedel</mark></mark>, <mark><mark>Th. Henning</mark></mark>\n",
       "\n",
       "</div>\n",
       "<div id=\"abstract\">\n",
       "\n",
       "**Abstract:** The\\textit{JWST}is revolutionizing the study of high-redshift galaxies by providing for the first time a high-sensitivity view of the early Universe at infrared wavelengths, both with its Near Infrared Camera (NIRCam) and Mid Infrared Instrument (MIRI). In this paper we make use of medium and broad-band NIRCam imaging, as well as ultra-deep MIRI$5.6 \\rm \\mu m$imaging, in the Hubble eXtreme Deep Field (XDF) to identify prominent line emitters at$z\\simeq 7-8$. Out of a total of 58 galaxies at$z\\simeq 7-8$, we find 18 robust candidates ($\\simeq$31\\%) for prominent (H$\\beta$+[OIII]) emitters, based on their enhanced fluxes in the F430M and F444W filters, with rest-frame EW(H$\\beta$+[OIII])$\\simeq 87 - 2100   \\rm \\AA$.  Among these emitters, 16 lie on the MIRI coverage area and 12 show a clear flux excess at$5.6   \\rm \\mu m$, indicating the simultaneous presence of a prominent H$\\alpha$emission line with rest-frame EW(H$\\alpha$)$\\simeq 200-3000   \\rm \\AA$. This is the first time that  H$\\alpha$emission can be detected in individual galaxies at$z>7$. The H$\\alpha$line, when present,  allows us to separate the  contributions of the H$\\beta$and[OIII]emission lines to the (H$\\beta$+[OIII]) complex and derive H$\\alpha$-based star formation rates (SFRs). We find that in some cases[OIII]/H$\\beta > 1$, suggesting low metallicities, but a few have[OIII]/H$\\beta < 1$, so the NIRCam flux excess is mainly driven by H$\\beta$. The vast majority of prominent line emitters are very young starbursts or galaxies on their way to/from the starburst cloud. They make for a cosmic SFR density$\\rm log_{10}(\\rho_{SFR_{H\\alpha}}/ \\rm M_\\odot   yr^{-1}   Mpc^{-3}) \\simeq -2.35$, which is about a third of the total value at$z\\simeq 7-8$. Therefore, the strong H$\\alpha$emitters likely had an important role in reionization.\n",
       "\n",
       "</div>\n",
       "\n",
       "<div id=\"div_fig1\">\n",
       "\n",
       "<img src=\"tmp_2301.10717/./Age_VS_EW_OIII.png\" alt=\"Fig1\" width=\"100%\"/>\n",
       "\n",
       "**Figure 1. -** Age versus (H$\\beta$ + [OIII]) rest-frame EW. The gray triangles refer to the upper limits we estimated for all those galaxies we classified as “non-emitters” during our selection. We also report data points from \\citet{Endsley_2021} to make a comparison with the recent literature at high redshift. The curves refer to the evolution of the H$\\beta$ rest-frame EW as a function of the age. We plot these tracks for the two metallicty (solar and sub-solar) we have considered in our work and for two different SFHs. A clear anti-correlation between rest-frame EW and age is evident in this plot, as found at lower redshifts from \\citet{Reddy_2018}. The same has been found in \\citet{Endsley_2021} as well. (*Fig_EWage*)\n",
       "\n",
       "</div>\n",
       "<div id=\"div_fig2\">\n",
       "\n",
       "<img src=\"tmp_2301.10717/./MASS_VS_EW_OIII.png\" alt=\"Fig2\" width=\"100%\"/>\n",
       "\n",
       "**Figure 2. -** Stellar mass versus (H$\\beta$ + [OIII]) rest-frame EW. The gray triangles refer to the upper limits we estimated for all those galaxies we classified as “non-emitters” during our selection. Also in this case, we report data points from \\citet{Endsley_2021} to make a comparison with the recent literature at high redshift. The rest-frame EW broadly anti-correlates with stellar mass, similarly to what has been reported by \\citet{Reddy_2018} and \\citet{Endsley_2021} at lower redshifts. (*Fig_EWstm*)\n",
       "\n",
       "</div>\n",
       "<div id=\"div_fig3\">\n",
       "\n",
       "<img src=\"tmp_2301.10717/./EW_OIII_vs_EW_Halpha.png\" alt=\"Fig3\" width=\"100%\"/>\n",
       "\n",
       "**Figure 3. -** (H$\\beta$ + [OIII]) rest-frame EW versus (H$\\alpha$ + [NII] + [SII]) rest-frame EW. Here we colour-coded our data points for the [OIII]$\\lambda$5007/H$\\beta$ flux ratio. There are some data points there are well above the identity line and show a [OIII]$\\lambda$5007/H$\\beta$ which is dominated by H$\\beta$. However, there are a few galaxies that lie above the identity line that show [OIII]$\\lambda$5007/H$\\beta$$>$ 1 which can be explained by a non-negligible dust extinction.  (*Fig_6*)\n",
       "\n",
       "</div>"
      ],
      "text/plain": [
       "<IPython.core.display.Markdown object>"
      ]
     },
     "metadata": {},
     "output_type": "display_data"
    }
   ],
   "source": [
    "[display(Markdown(k[1])) for k in documents];"
   ]
  },
  {
   "cell_type": "markdown",
   "id": "873873a4",
   "metadata": {
    "papermill": {
     "duration": 0.008745,
     "end_time": "2023-01-26T04:08:10.883054",
     "exception": false,
     "start_time": "2023-01-26T04:08:10.874309",
     "status": "completed"
    },
    "tags": []
   },
   "source": [
    "# Create HTML index"
   ]
  },
  {
   "cell_type": "code",
   "execution_count": 10,
   "id": "cf665672",
   "metadata": {
    "execution": {
     "iopub.execute_input": "2023-01-26T04:08:10.902113Z",
     "iopub.status.busy": "2023-01-26T04:08:10.901440Z",
     "iopub.status.idle": "2023-01-26T04:08:10.912393Z",
     "shell.execute_reply": "2023-01-26T04:08:10.911779Z"
    },
    "papermill": {
     "duration": 0.022099,
     "end_time": "2023-01-26T04:08:10.913946",
     "exception": false,
     "start_time": "2023-01-26T04:08:10.891847",
     "status": "completed"
    },
    "tags": []
   },
   "outputs": [
    {
     "name": "stdout",
     "output_type": "stream",
     "text": [
      "183  publications in the last 7 days.\n",
      "\t _build/html/2301.10717.md\n",
      "\t _build/html/2301.10666.md\n",
      "\t _build/html/2301.10496.md\n",
      "\t _build/html/2301.09621.md\n",
      "\t _build/html/2301.09140.md\n",
      "\t _build/html/2301.08770.md\n",
      "\t _build/html/2301.08310.md\n",
      "\t _build/html/2301.07990.md\n",
      "\t _build/html/2301.07366.md\n",
      "\t _build/html/2301.07199.md\n",
      "\t _build/html/2301.07116.md\n",
      "\t _build/html/2301.06873.md\n",
      "\t _build/html/2301.06819.md\n",
      "\t _build/html/2301.06575.md\n",
      "\t _build/html/2301.05720.md\n",
      "\t _build/html/2301.05718.md\n",
      "\t _build/html/2301.05034.md\n",
      "\t _build/html/2301.04656.md\n",
      "\t _build/html/2301.04533.md\n",
      "\t _build/html/2301.04442.md\n",
      "\t _build/html/2301.03811.md\n",
      "\t _build/html/2301.03689.md\n",
      "\t _build/html/2301.03387.md\n",
      "\t _build/html/2301.03209.md\n",
      "\t _build/html/2301.02671.md\n",
      "\t _build/html/2301.02477.md\n",
      "\t _build/html/2301.02313.md\n",
      "\t _build/html/2301.02265.md\n",
      "\t _build/html/2301.01937.md\n",
      "\t _build/html/2301.01895.md\n",
      "\t _build/html/2301.01684.md\n",
      "\t _build/html/2301.01306.md\n",
      "\t _build/html/2301.00881.md\n",
      "\t _build/html/2301.00854.md\n",
      "\t _build/html/2301.00578.md\n",
      "\t _build/html/2212.12039.md\n",
      "\t _build/html/2212.11991.md\n",
      "\t _build/html/2212.11425.md\n",
      "\t _build/html/2212.11177.md\n",
      "\t _build/html/2212.10804.md\n",
      "\t _build/html/2212.10512.md\n",
      "\t _build/html/2212.09766.md\n",
      "\t _build/html/2212.09675.md\n",
      "\t _build/html/2212.09661.md\n",
      "\t _build/html/2212.09652.md\n",
      "\t _build/html/2212.09443.md\n",
      "\t _build/html/2212.09307.md\n",
      "\t _build/html/2212.09168.md\n",
      "\t _build/html/2212.09159.md\n",
      "\t _build/html/2212.08702.md\n",
      "\t _build/html/2212.07332.md\n",
      "\t _build/html/2212.06434.md\n",
      "\t _build/html/2212.04710.md\n",
      "\t _build/html/2212.04026.md\n",
      "\t _build/html/2212.03563.md\n",
      "\t _build/html/2212.03514.md\n",
      "\t _build/html/2212.02667.md\n",
      "\t _build/html/2212.02627.md\n",
      "\t _build/html/2212.02235.md\n",
      "\t _build/html/2212.01707.md\n",
      "\t _build/html/2212.01526.md\n",
      "\t _build/html/2212.01397.md\n",
      "\t _build/html/2212.01291.md\n",
      "\t _build/html/2212.01281.md\n",
      "\t _build/html/2212.00812.md\n",
      "\t _build/html/2212.00811.md\n",
      "\t _build/html/2212.00806.md\n",
      "\t _build/html/2212.00047.md\n",
      "\t _build/html/2212.00032.md\n",
      "\t _build/html/2211.16996.md\n",
      "\t _build/html/2211.16510.md\n",
      "\t _build/html/2211.16123.md\n",
      "\t _build/html/2211.15816.md\n",
      "\t _build/html/2211.15698.md\n",
      "\t _build/html/2211.15576.md\n",
      "\t _build/html/2211.15434.md\n",
      "\t _build/html/2211.15288.md\n",
      "\t _build/html/2211.15224.md\n",
      "\t _build/html/2211.14543.md\n",
      "\t _build/html/2211.14330.md\n",
      "\t _build/html/2211.14322.md\n",
      "\t _build/html/2211.14132.md\n",
      "\t _build/html/2211.13811.md\n",
      "\t _build/html/2211.13426.md\n",
      "\t _build/html/2211.13318.md\n",
      "\t _build/html/2211.13146.md\n",
      "\t _build/html/2211.12613.md\n",
      "\t _build/html/2211.11767.md\n",
      "\t _build/html/2211.09840.md\n",
      "\t _build/html/2211.09217.md\n",
      "\t _build/html/2211.08493.md\n",
      "\t _build/html/2211.08487.md\n",
      "\t _build/html/2211.08294.md\n",
      "\t _build/html/2211.07667.md\n",
      "\t _build/html/2211.07659.md\n",
      "\t _build/html/2211.06454.md\n",
      "\t _build/html/2211.06205.md\n",
      "\t _build/html/2211.06194.md\n",
      "\t _build/html/2211.05022.md\n",
      "\t _build/html/2211.04048.md\n",
      "\t _build/html/2211.03641.md\n",
      "\t _build/html/2211.02502.md\n",
      "\t _build/html/2211.01474.md\n",
      "\t _build/html/2211.00667.md\n",
      "\t _build/html/2211.00657.md\n",
      "\t _build/html/2211.00087.md\n",
      "\t _build/html/2211.00036.md\n",
      "\t _build/html/2211.00020.md\n",
      "\t _build/html/2211.00010.md\n",
      "\t _build/html/2210.17434.md\n",
      "\t _build/html/2210.12412.md\n",
      "\t _build/html/2210.11926.md\n",
      "\t _build/html/2210.11551.md\n",
      "\t _build/html/2210.11103.md\n",
      "\t _build/html/2210.10707.md\n",
      "\t _build/html/2210.09930.md\n",
      "\t _build/html/2210.08996.md\n",
      "\t _build/html/2210.08517.md\n",
      "\t _build/html/2210.08510.md\n",
      "\t _build/html/2210.08078.md\n",
      "\t _build/html/2210.06504.md\n",
      "\t _build/html/2210.05695.md\n",
      "\t _build/html/2210.05595.md\n",
      "\t _build/html/2210.05505.md\n",
      "\t _build/html/2210.04721.md\n",
      "\t _build/html/2210.03615.md\n",
      "\t _build/html/2210.01811.md\n",
      "\t _build/html/2210.01809.md\n",
      "\t _build/html/2210.01556.md\n",
      "\t _build/html/2210.00863.md\n",
      "\t _build/html/2210.00560.md\n",
      "\t _build/html/2209.15403.md\n",
      "\t _build/html/2209.15110.md\n",
      "\t _build/html/2209.14410.md\n",
      "\t _build/html/2209.14396.md\n",
      "\t _build/html/2209.13717.md\n",
      "\t _build/html/2209.13336.md\n",
      "\t _build/html/2209.12906.md\n",
      "\t _build/html/2209.11781.md\n",
      "\t _build/html/2209.11602.md\n",
      "\t _build/html/2209.11248.md\n",
      "\t _build/html/2209.11096.md\n",
      "\t _build/html/2209.10618.md\n",
      "\t _build/html/2209.09914.md\n",
      "\t _build/html/2209.09823.md\n",
      "\t _build/html/2209.08242.md\n",
      "\t _build/html/2209.08120.md\n",
      "\t _build/html/2209.08106.md\n",
      "\t _build/html/2209.07962.md\n",
      "\t _build/html/2209.07931.md\n",
      "\t _build/html/2209.06833.md\n",
      "\t _build/html/2209.05814.md\n",
      "\t _build/html/2209.05593.md\n",
      "\t _build/html/2209.04304.md\n",
      "\t _build/html/2209.03367.md\n",
      "\t _build/html/2209.02872.md\n",
      "\t _build/html/2209.02725.md\n",
      "\t _build/html/2209.02722.md\n",
      "\t _build/html/2209.02092.md\n",
      "\t _build/html/2209.01125.md\n",
      "\t _build/html/2209.00828.md\n",
      "\t _build/html/2209.00363.md\n",
      "\t _build/html/2208.14927.md\n",
      "\t _build/html/2208.09335.md\n",
      "\t _build/html/2208.08872.md\n",
      "\t _build/html/2204.06393.md\n",
      "\t _build/html/2204.03335.md\n",
      "\t _build/html/2204.03253.md\n",
      "\t _build/html/2204.02998.md\n",
      "\t _build/html/2204.02109.md\n",
      "\t _build/html/2204.02017.md\n",
      "\t _build/html/2204.01824.md\n",
      "\t _build/html/2204.01758.md\n",
      "\t _build/html/2204.01245.md\n",
      "\t _build/html/2204.00793.md\n",
      "\t _build/html/2204.00342.md\n",
      "\t _build/html/2203.16959.md\n",
      "\t _build/html/2203.16856.md\n",
      "\t _build/html/2203.16735.md\n",
      "\t _build/html/2203.16734.md\n",
      "\t _build/html/2203.16504.md\n",
      "\t _build/html/2203.15822.md\n",
      "\t _build/html/2203.15811.md\n"
     ]
    }
   ],
   "source": [
    "from datetime import datetime, timedelta, timezone\n",
    "from glob import glob\n",
    "\n",
    "files = glob('_build/html/*.md')\n",
    "days = 7\n",
    "now = datetime.today()\n",
    "res = []\n",
    "for fk in files:\n",
    "    stat_result = os.stat(fk).st_ctime\n",
    "    modified = datetime.fromtimestamp(stat_result, tz=timezone.utc).replace(tzinfo=None)\n",
    "    delta = now.today() - modified\n",
    "    if delta <= timedelta(days=days):\n",
    "        res.append((delta.seconds, fk))\n",
    "res = [k[1] for k in reversed(sorted(res, key=lambda x:x[1]))]\n",
    "npub = len(res)\n",
    "print(len(res), f\" publications in the last {days:d} days.\")\n",
    "[ print('\\t', k) for k in res ];"
   ]
  },
  {
   "cell_type": "code",
   "execution_count": 11,
   "id": "015de740",
   "metadata": {
    "execution": {
     "iopub.execute_input": "2023-01-26T04:08:10.933533Z",
     "iopub.status.busy": "2023-01-26T04:08:10.932961Z",
     "iopub.status.idle": "2023-01-26T04:08:10.951348Z",
     "shell.execute_reply": "2023-01-26T04:08:10.950828Z"
    },
    "papermill": {
     "duration": 0.029556,
     "end_time": "2023-01-26T04:08:10.952726",
     "exception": false,
     "start_time": "2023-01-26T04:08:10.923170",
     "status": "completed"
    },
    "tags": []
   },
   "outputs": [
    {
     "name": "stdout",
     "output_type": "stream",
     "text": [
      "11  publications in the last 7 days.\n"
     ]
    }
   ],
   "source": [
    "import datetime\n",
    "from glob import glob\n",
    "\n",
    "def get_last_n_days(lst, days=1):\n",
    "    \"\"\" Get the documents from the last n days \"\"\"\n",
    "    sorted_lst = sorted(lst, key=lambda x: x[1], reverse=True)\n",
    "    for fname, date in sorted_lst:\n",
    "        if date >= str(datetime.date.today() - datetime.timedelta(days=days)):\n",
    "            yield fname\n",
    "\n",
    "def extract_appearance_dates(lst_file):\n",
    "    dates = []\n",
    "\n",
    "    def get_date(line):\n",
    "        return line\\\n",
    "            .split('Appeared on:')[-1]\\\n",
    "            .split('</mark>')[0].strip()\n",
    "\n",
    "    for fname in lst:\n",
    "        with open(fname, 'r') as f:\n",
    "            found_date = False\n",
    "            for line in f:\n",
    "                if not found_date:\n",
    "                    if \"Appeared on\" in line:\n",
    "                        found_date = True\n",
    "                        dates.append((fname, get_date(line)))\n",
    "                else:\n",
    "                    break\n",
    "    return dates\n",
    "\n",
    "from glob import glob\n",
    "lst = glob('_build/html/*md')\n",
    "days = 7\n",
    "dates = extract_appearance_dates(lst)\n",
    "res = list(get_last_n_days(dates, days))\n",
    "npub = len(res)\n",
    "print(len(res), f\" publications in the last {days:d} days.\")"
   ]
  },
  {
   "cell_type": "code",
   "execution_count": 12,
   "id": "52ca0208",
   "metadata": {
    "execution": {
     "iopub.execute_input": "2023-01-26T04:08:10.972142Z",
     "iopub.status.busy": "2023-01-26T04:08:10.971715Z",
     "iopub.status.idle": "2023-01-26T04:08:10.978160Z",
     "shell.execute_reply": "2023-01-26T04:08:10.977244Z"
    },
    "papermill": {
     "duration": 0.017774,
     "end_time": "2023-01-26T04:08:10.979545",
     "exception": false,
     "start_time": "2023-01-26T04:08:10.961771",
     "status": "completed"
    },
    "scrolled": false,
    "tags": []
   },
   "outputs": [],
   "source": [
    "def create_carousel(npub=4):\n",
    "    \"\"\" Generate the HTML code for a carousel with `npub` slides \"\"\"\n",
    "    carousel = [\"\"\"<section class=\"carousel\" aria-label=\"Gallery\">\"\"\",\n",
    "                \"\"\"  <ol class=\"carousel__viewport\">\"\"\",\n",
    "    ]\n",
    "    for k in range(1, npub + 1):\n",
    "        prev_ = k - 1\n",
    "        next_ = k + 1\n",
    "        if prev_ <= 0:\n",
    "            prev_ = npub\n",
    "        if next_ > npub:\n",
    "            next_ = 1\n",
    "        text  = f\"\"\"    <li id=\"carousel__slide{k}\" tabindex=\"0\" class=\"carousel__slide\">\\n\"\"\"\n",
    "        text += f\"\"\"       <div class=\"carousel__snapper\">\\n\"\"\"\n",
    "        text += f\"\"\"         <a href=\"#carousel__slide{prev_}\" class=\"carousel__prev\">Go to previous slide</a>\\n\"\"\"\n",
    "        text += f\"\"\"         <a href=\"#carousel__slide{next_}\" class=\"carousel__next\">Go to next slide</a>\\n\"\"\"\n",
    "        text += f\"\"\"         <div id=\"slide{k}_content\" class=\"md_view\" >Content {k}</div>\\n\"\"\"\n",
    "        text += f\"\"\"       </div>\\n\"\"\"\n",
    "        text += f\"\"\"    </li>\"\"\"\n",
    "        carousel.append(text)\n",
    "\n",
    "    carousel.extend([\n",
    "        \"\"\"  </ol>\"\"\",\n",
    "        \"\"\"  <aside class=\"carousel__navigation\">\"\"\",\n",
    "        \"\"\"    <ol class=\"carousel__navigation-list\">\"\"\"])\n",
    "\n",
    "    for k in range(1, npub + 1):\n",
    "        text  = f\"\"\"      <li class=\"carousel__navigation-item\">\\n\"\"\"\n",
    "        text += f\"\"\"        <a href=\"#carousel__slide{k}\" class=\"carousel__navigation-button\">Go to {k}</a>\\n\"\"\"\n",
    "        text += f\"\"\"      </li>\"\"\"\n",
    "        carousel.append(text)\n",
    "    carousel.extend([\"\"\"    </ol>\"\"\", \"\"\"  </aside>\"\"\", \"\"\"</section>\"\"\"])\n",
    "\n",
    "    return '\\n'.join(carousel)"
   ]
  },
  {
   "cell_type": "code",
   "execution_count": 13,
   "id": "a6eac5b6",
   "metadata": {
    "execution": {
     "iopub.execute_input": "2023-01-26T04:08:10.999257Z",
     "iopub.status.busy": "2023-01-26T04:08:10.998797Z",
     "iopub.status.idle": "2023-01-26T04:08:11.004784Z",
     "shell.execute_reply": "2023-01-26T04:08:11.004199Z"
    },
    "papermill": {
     "duration": 0.017608,
     "end_time": "2023-01-26T04:08:11.006292",
     "exception": false,
     "start_time": "2023-01-26T04:08:10.988684",
     "status": "completed"
    },
    "scrolled": false,
    "tags": []
   },
   "outputs": [],
   "source": [
    "carousel = create_carousel(npub)\n",
    "docs = ', '.join(['\"{0:s}\"'.format(k.split('/')[-1]) for k in res])\n",
    "slides = ', '.join([f'\"slide{k}_content\"' for k in range(1, npub + 1)])\n",
    "\n",
    "script = f\"\"\"\n",
    "const docs = [{docs}]\n",
    "\n",
    "const slides = [{slides}]\n",
    "\"\"\" + \"\"\"\n",
    "async function run() {\n",
    "    for (let i = 0; i < docs.length; i++) {\n",
    "        let file = await fetch(docs[i]);\n",
    "        let text = await file.text()\n",
    "        document.getElementById(slides[i]).innerHTML =\n",
    "            marked.parse(text);\n",
    "    }\n",
    "    hljs.highlightAll();\n",
    "}\n",
    "run()\n",
    "\"\"\"\n",
    "\n",
    "page = f\"\"\"<!doctype html>\n",
    "<html lang=\"en\">\n",
    "\n",
    "<head>\n",
    "  <meta charset=\"utf-8\">\n",
    "  <meta name=\"viewport\" content=\"width=device-width, initial-scale=1\">\n",
    "  <!-- Bootstrap CSS -->\n",
    "  <link href=\"https://cdn.jsdelivr.net/npm/bootstrap@5.0.2/dist/css/bootstrap.min.css\" rel=\"stylesheet\"\n",
    "   integrity=\"sha384-EVSTQN3/azprG1Anm3QDgpJLIm9Nao0Yz1ztcQTwFspd3yD65VohhpuuCOmLASjC\" crossorigin=\"anonymous\">\n",
    "  <!-- highlight.js CSS -->\n",
    "  <link rel=\"stylesheet\" href=\"https://cdnjs.cloudflare.com/ajax/libs/highlight.js/11.1.0/styles/default.min.css\">\n",
    "  <!-- Mathjax 3 -->\n",
    "  <script type=\"text/javascript\" id=\"MathJax-config\" src=\"mathjax_config.js\"> </script>\n",
    "  <script type=\"text/javascript\" id=\"MathJax-script\" async \n",
    "    src=\"https://cdn.jsdelivr.net/npm/mathjax@3/es5/tex-mml-chtml.js\">\n",
    "  </script>\n",
    "  <link rel=\"stylesheet\" href=\"index_carousel.css\">\n",
    "  <link rel=\"icon\" type=\"image/x-icon\" href=\"https://www.mpia.de/assets/touch-icon-32x32-a66937bcebc4e8894ebff1f41a366c7c7220fd97a38869ee0f2db65a9f59b6c1.png\">\n",
    "  <title>MPIA Arxiv on deck!</title>\n",
    "</head>\n",
    "\n",
    "<body>\n",
    "  <div id=\"header\"> <img src=\"header_banner.png\" width=\"100%\"></div>\n",
    "  <div id=\"suptitle\"> 7-day archives </div>\n",
    "  <div id=\"info\">\n",
    "    <img src=\"https://pngimg.com/uploads/github/github_PNG58.png\" height=30rem></img>\n",
    "    <a href=https://github.com/mpi-astronomy/arxiv_display style=\"color:black;\">github/mpi-astronomy/arxiv_display</a> \n",
    "  </div>\n",
    "  {carousel:s}\n",
    "</body>\n",
    "\n",
    "<!-- Render Markdown -->\n",
    "\n",
    "<body>\n",
    "  <!-- highlight.js: https://highlightjs.org/download/ -->\n",
    "  <script src=\"https://cdnjs.cloudflare.com/ajax/libs/highlight.js/11.5.0/highlight.min.js\"></script>\n",
    "  <!-- marked.js -->\n",
    "  <script src=\"https://cdn.jsdelivr.net/npm/marked/marked.min.js\"></script>\n",
    "  <script>{script:s}</script>\n",
    "</body>\n",
    "</html>\n",
    "\"\"\"\n",
    "with open(\"_build/html/index_7days.html\", 'w') as fout:\n",
    "    fout.write(page)"
   ]
  },
  {
   "cell_type": "markdown",
   "id": "1cebacbc",
   "metadata": {
    "papermill": {
     "duration": 0.009029,
     "end_time": "2023-01-26T04:08:11.024462",
     "exception": false,
     "start_time": "2023-01-26T04:08:11.015433",
     "status": "completed"
    },
    "tags": []
   },
   "source": [
    "# Debugging papers"
   ]
  },
  {
   "cell_type": "raw",
   "id": "debe7cc6",
   "metadata": {
    "papermill": {
     "duration": 0.009179,
     "end_time": "2023-01-26T04:08:11.073883",
     "exception": false,
     "start_time": "2023-01-26T04:08:11.064704",
     "status": "completed"
    },
    "tags": []
   },
   "source": [
    "raise NotImplementedError(\"Manual Stop\")"
   ]
  },
  {
   "cell_type": "raw",
   "id": "eb169192",
   "metadata": {
    "papermill": {
     "duration": 0.009071,
     "end_time": "2023-01-26T04:08:11.092080",
     "exception": false,
     "start_time": "2023-01-26T04:08:11.083009",
     "status": "completed"
    },
    "scrolled": true,
    "tags": []
   },
   "source": [
    "from IPython.display import display, Markdown\n",
    "from TexSoup import TexSoup\n",
    "import re\n",
    "\n",
    "def bracket_error(source: str):\n",
    "    \"\"\" Find problematic portions of the document \"\"\"\n",
    "    \n",
    "    print(\"len(source)\", len(source))\n",
    "    \n",
    "    # Checking header\n",
    "    begin_doc = next(re.finditer(r'\\\\begin\\{document\\}', doc.source)).span()[1]\n",
    "    header = source[:begin_doc]\n",
    "    text = header + r\"\\n\\end{document}\"\n",
    "\n",
    "    try:\n",
    "        # print(\"Header check... \", end='')\n",
    "        TexSoup(text)\n",
    "        display(Markdown(f\"**[OK]** - Header\"))\n",
    "    except:\n",
    "        raise RuntimeError(\"Error in the header\")\n",
    "        \n",
    "    # Check the text per section until the end.\n",
    "    # Do not stop and try them all.\n",
    "    \n",
    "    problematic_text = []\n",
    "    \n",
    "    sections = ([(0, begin_doc, 'until first section')] + \n",
    "                [(g.span()[0], g.span()[1], g.group()) for g in re.finditer(r'\\\\section\\{.*\\}', source)] +\n",
    "                [(g.span()[0], g.span()[1], g.group()) for g in re.finditer(r'\\\\begin\\{appendix\\}', source)]\n",
    "               )\n",
    "    sections.append([len(source), len(source), 'end'])\n",
    "    \n",
    "    sections = sorted(sections, key=lambda x: x[0])\n",
    "    \n",
    "    prev_pos, prev_name = (0, 'header')\n",
    "    parsed = []\n",
    "    \n",
    "    for span, span_end, name in sections:\n",
    "\n",
    "        if span - prev_pos <= 0:\n",
    "            continue\n",
    "            \n",
    "\n",
    "        text = source[prev_pos:span]\n",
    "        if prev_pos > begin_doc:\n",
    "            text = r\"\\n\\begin{document}\" + text + r\"\\n\\end{document}\"\n",
    "        else:\n",
    "            text = text + r\"\\n\\end{document}\"\n",
    "        try:\n",
    "            #print(f\"{prev_pos}:{prev_name}-->{span}:{name} check... \", end='')\n",
    "            parsed.append(TexSoup(text, tolerance=1))  # allow not ending env\n",
    "            display(Markdown(f\"**[OK]** - *{prev_pos}*:{prev_name} &rarr; *{span}*:{name}\"))\n",
    "            # print(\"ok\")\n",
    "\n",
    "            prev_pos = span\n",
    "            prev_name = name\n",
    "        except:\n",
    "            # print(f\"error between {prev_pos} and {span}\")\n",
    "            display(Markdown(f\"**[ERR]** *{prev_pos}*:{prev_name} &rarr; *{span}*:{name}\"))\n",
    "            problematic_text.append((prev_pos, source[prev_pos:span]))\n",
    "            prev_pos = span\n",
    "            prev_name = name\n",
    "            # raise\n",
    "    return problematic_text, parsed\n",
    "\n",
    "\n",
    "def check_environment(text, offset=0):\n",
    "    \"\"\" Check environment \"\"\"\n",
    "    env = re.compile(r\"\\\\begin\\{(?P<env>.*)\\}(.*)\\\\end\\{(?P=env)\\}\", re.DOTALL)\n",
    "\n",
    "    for match in env.finditer(text):\n",
    "        beg, end = match.span()\n",
    "        beg += offset\n",
    "        end += offset\n",
    "        envname = match.groups()[0]\n",
    "        try:\n",
    "            latex.TexSoup(match.group())\n",
    "        except Exception as e:\n",
    "            display(e)\n",
    "            print(f\"Error in {envname:s} between {beg} and {end}\")\n",
    "            return match.groups()[1], beg, end"
   ]
  },
  {
   "cell_type": "raw",
   "id": "2315e835",
   "metadata": {
    "papermill": {
     "duration": 0.010132,
     "end_time": "2023-01-26T04:08:11.113174",
     "exception": false,
     "start_time": "2023-01-26T04:08:11.103042",
     "status": "completed"
    },
    "scrolled": false,
    "tags": []
   },
   "source": [
    "import importlib\n",
    "importlib.reload(latex)\n",
    "which = \"2204.03253\"\n",
    "paper_id = f'{which:s}'\n",
    "folder = f'tmp_{paper_id:s}'\n",
    "\n",
    "if not os.path.isdir(folder):\n",
    "    folder = retrieve_document_source(f\"{paper_id}\", f'tmp_{paper_id}')\n",
    "\n",
    "try:\n",
    "    doc = latex.LatexDocument(folder, validation=validation)    \n",
    "except AffiliationError as affilerror:\n",
    "    msg = f\"ArXiv:{paper_id:s} is not an MPIA paper... \" + str(affilerror)\n",
    "    print(msg)\n",
    "\n",
    "\n",
    "# Hack because sometimes author parsing does not work well\n",
    "if (len(doc.authors) != len(paper['authors'])):\n",
    "    doc._authors = paper['authors']\n",
    "if (doc.abstract) in (None, ''):\n",
    "    doc._abstract = paper['abstract']\n",
    "\n",
    "doc.comment = get_markdown_badge(paper_id) + \" _\" + paper['comments'] + \"_\"\n",
    "doc.highlight_authors_in_list(hl_list)\n",
    "\n",
    "full_md = doc.generate_markdown_text()"
   ]
  },
  {
   "cell_type": "raw",
   "id": "dd3781db",
   "metadata": {
    "papermill": {
     "duration": 0.009125,
     "end_time": "2023-01-26T04:08:11.131530",
     "exception": false,
     "start_time": "2023-01-26T04:08:11.122405",
     "status": "completed"
    },
    "scrolled": false,
    "tags": []
   },
   "source": [
    "doc"
   ]
  },
  {
   "cell_type": "raw",
   "id": "c6eed834",
   "metadata": {
    "papermill": {
     "duration": 0.009126,
     "end_time": "2023-01-26T04:08:11.149845",
     "exception": false,
     "start_time": "2023-01-26T04:08:11.140719",
     "status": "completed"
    },
    "tags": []
   },
   "source": [
    "# [check_environment(k) for k in bracket_error(doc.source)]\n",
    "_, _, a = latex.get_content_per_section(doc.source, verbose=True)\n",
    "if not a:\n",
    "    print(\"no issues per section\")\n",
    "for ak in a:\n",
    "    r = check_environment(ak[1], offset=ak[0])\n",
    "    print(r[1], r[2])\n",
    "    print(r[0])"
   ]
  },
  {
   "cell_type": "code",
   "execution_count": null,
   "id": "71ce768a",
   "metadata": {
    "papermill": {
     "duration": 0.009059,
     "end_time": "2023-01-26T04:08:11.168097",
     "exception": false,
     "start_time": "2023-01-26T04:08:11.159038",
     "status": "completed"
    },
    "tags": []
   },
   "outputs": [],
   "source": []
  }
 ],
 "metadata": {
  "kernelspec": {
   "display_name": "Python 3",
   "language": "python",
   "name": "python3"
  },
  "language_info": {
   "codemirror_mode": {
    "name": "ipython",
    "version": 3
   },
   "file_extension": ".py",
   "mimetype": "text/x-python",
   "name": "python",
   "nbconvert_exporter": "python",
   "pygments_lexer": "ipython3",
   "version": "3.9.16"
  },
  "papermill": {
   "default_parameters": {},
   "duration": 97.754988,
   "end_time": "2023-01-26T04:08:11.396217",
   "environment_variables": {},
   "exception": null,
   "input_path": "MPIA daily digest.ipynb",
   "output_path": "log.ipynb",
   "parameters": {},
   "start_time": "2023-01-26T04:06:33.641229",
   "version": "2.4.0"
  },
  "vscode": {
   "interpreter": {
    "hash": "aee8b7b246df8f9039afb4144a1f6fd8d2ca17a180786b69acc140d282b71a49"
   }
  },
  "widgets": {
   "application/vnd.jupyter.widget-state+json": {
    "state": {
     "192c5513e2094261af4fcde12a6f2ad5": {
      "model_module": "@jupyter-widgets/controls",
      "model_module_version": "2.0.0",
      "model_name": "HTMLStyleModel",
      "state": {
       "_model_module": "@jupyter-widgets/controls",
       "_model_module_version": "2.0.0",
       "_model_name": "HTMLStyleModel",
       "_view_count": null,
       "_view_module": "@jupyter-widgets/base",
       "_view_module_version": "2.0.0",
       "_view_name": "StyleView",
       "background": null,
       "description_width": "",
       "font_size": null,
       "text_color": null
      }
     },
     "367397834e0547a484cc2b25f6bedcab": {
      "model_module": "@jupyter-widgets/base",
      "model_module_version": "2.0.0",
      "model_name": "LayoutModel",
      "state": {
       "_model_module": "@jupyter-widgets/base",
       "_model_module_version": "2.0.0",
       "_model_name": "LayoutModel",
       "_view_count": null,
       "_view_module": "@jupyter-widgets/base",
       "_view_module_version": "2.0.0",
       "_view_name": "LayoutView",
       "align_content": null,
       "align_items": null,
       "align_self": null,
       "border_bottom": null,
       "border_left": null,
       "border_right": null,
       "border_top": null,
       "bottom": null,
       "display": null,
       "flex": null,
       "flex_flow": null,
       "grid_area": null,
       "grid_auto_columns": null,
       "grid_auto_flow": null,
       "grid_auto_rows": null,
       "grid_column": null,
       "grid_gap": null,
       "grid_row": null,
       "grid_template_areas": null,
       "grid_template_columns": null,
       "grid_template_rows": null,
       "height": null,
       "justify_content": null,
       "justify_items": null,
       "left": null,
       "margin": null,
       "max_height": null,
       "max_width": null,
       "min_height": null,
       "min_width": null,
       "object_fit": null,
       "object_position": null,
       "order": null,
       "overflow": null,
       "padding": null,
       "right": null,
       "top": null,
       "visibility": null,
       "width": null
      }
     },
     "4c54e5e7bfdd46138e5f8d6ab6cb9c43": {
      "model_module": "@jupyter-widgets/base",
      "model_module_version": "2.0.0",
      "model_name": "LayoutModel",
      "state": {
       "_model_module": "@jupyter-widgets/base",
       "_model_module_version": "2.0.0",
       "_model_name": "LayoutModel",
       "_view_count": null,
       "_view_module": "@jupyter-widgets/base",
       "_view_module_version": "2.0.0",
       "_view_name": "LayoutView",
       "align_content": null,
       "align_items": null,
       "align_self": null,
       "border_bottom": null,
       "border_left": null,
       "border_right": null,
       "border_top": null,
       "bottom": null,
       "display": null,
       "flex": null,
       "flex_flow": null,
       "grid_area": null,
       "grid_auto_columns": null,
       "grid_auto_flow": null,
       "grid_auto_rows": null,
       "grid_column": null,
       "grid_gap": null,
       "grid_row": null,
       "grid_template_areas": null,
       "grid_template_columns": null,
       "grid_template_rows": null,
       "height": null,
       "justify_content": null,
       "justify_items": null,
       "left": null,
       "margin": null,
       "max_height": null,
       "max_width": null,
       "min_height": null,
       "min_width": null,
       "object_fit": null,
       "object_position": null,
       "order": null,
       "overflow": null,
       "padding": null,
       "right": null,
       "top": null,
       "visibility": null,
       "width": null
      }
     },
     "5f72d78d0a5e4cdb81c2be5671e28da3": {
      "model_module": "@jupyter-widgets/controls",
      "model_module_version": "2.0.0",
      "model_name": "HTMLModel",
      "state": {
       "_dom_classes": [],
       "_model_module": "@jupyter-widgets/controls",
       "_model_module_version": "2.0.0",
       "_model_name": "HTMLModel",
       "_view_count": null,
       "_view_module": "@jupyter-widgets/controls",
       "_view_module_version": "2.0.0",
       "_view_name": "HTMLView",
       "description": "",
       "description_allow_html": false,
       "layout": "IPY_MODEL_4c54e5e7bfdd46138e5f8d6ab6cb9c43",
       "placeholder": "​",
       "style": "IPY_MODEL_e92414b6a42f40e5bc48ba93c7c9d27b",
       "tabbable": null,
       "tooltip": null,
       "value": "100%"
      }
     },
     "80f6679018934c9da317b8ae2fbb3cbc": {
      "model_module": "@jupyter-widgets/base",
      "model_module_version": "2.0.0",
      "model_name": "LayoutModel",
      "state": {
       "_model_module": "@jupyter-widgets/base",
       "_model_module_version": "2.0.0",
       "_model_name": "LayoutModel",
       "_view_count": null,
       "_view_module": "@jupyter-widgets/base",
       "_view_module_version": "2.0.0",
       "_view_name": "LayoutView",
       "align_content": null,
       "align_items": null,
       "align_self": null,
       "border_bottom": null,
       "border_left": null,
       "border_right": null,
       "border_top": null,
       "bottom": null,
       "display": null,
       "flex": null,
       "flex_flow": null,
       "grid_area": null,
       "grid_auto_columns": null,
       "grid_auto_flow": null,
       "grid_auto_rows": null,
       "grid_column": null,
       "grid_gap": null,
       "grid_row": null,
       "grid_template_areas": null,
       "grid_template_columns": null,
       "grid_template_rows": null,
       "height": null,
       "justify_content": null,
       "justify_items": null,
       "left": null,
       "margin": null,
       "max_height": null,
       "max_width": null,
       "min_height": null,
       "min_width": null,
       "object_fit": null,
       "object_position": null,
       "order": null,
       "overflow": null,
       "padding": null,
       "right": null,
       "top": null,
       "visibility": null,
       "width": null
      }
     },
     "8bf6b9e8c2f147a4b047f0e83aeda0e2": {
      "model_module": "@jupyter-widgets/controls",
      "model_module_version": "2.0.0",
      "model_name": "HTMLModel",
      "state": {
       "_dom_classes": [],
       "_model_module": "@jupyter-widgets/controls",
       "_model_module_version": "2.0.0",
       "_model_name": "HTMLModel",
       "_view_count": null,
       "_view_module": "@jupyter-widgets/controls",
       "_view_module_version": "2.0.0",
       "_view_name": "HTMLView",
       "description": "",
       "description_allow_html": false,
       "layout": "IPY_MODEL_80f6679018934c9da317b8ae2fbb3cbc",
       "placeholder": "​",
       "style": "IPY_MODEL_192c5513e2094261af4fcde12a6f2ad5",
       "tabbable": null,
       "tooltip": null,
       "value": " 17/17 [01:10&lt;00:00,  4.36s/it]"
      }
     },
     "b53923e575dd460a9ec871e7e3ff42ac": {
      "model_module": "@jupyter-widgets/controls",
      "model_module_version": "2.0.0",
      "model_name": "HBoxModel",
      "state": {
       "_dom_classes": [],
       "_model_module": "@jupyter-widgets/controls",
       "_model_module_version": "2.0.0",
       "_model_name": "HBoxModel",
       "_view_count": null,
       "_view_module": "@jupyter-widgets/controls",
       "_view_module_version": "2.0.0",
       "_view_name": "HBoxView",
       "box_style": "",
       "children": [
        "IPY_MODEL_5f72d78d0a5e4cdb81c2be5671e28da3",
        "IPY_MODEL_d771ed1ce04942c383e786f5faca5975",
        "IPY_MODEL_8bf6b9e8c2f147a4b047f0e83aeda0e2"
       ],
       "layout": "IPY_MODEL_f059ad8faf0e4353b97d15f524723d0b",
       "tabbable": null,
       "tooltip": null
      }
     },
     "d771ed1ce04942c383e786f5faca5975": {
      "model_module": "@jupyter-widgets/controls",
      "model_module_version": "2.0.0",
      "model_name": "FloatProgressModel",
      "state": {
       "_dom_classes": [],
       "_model_module": "@jupyter-widgets/controls",
       "_model_module_version": "2.0.0",
       "_model_name": "FloatProgressModel",
       "_view_count": null,
       "_view_module": "@jupyter-widgets/controls",
       "_view_module_version": "2.0.0",
       "_view_name": "ProgressView",
       "bar_style": "success",
       "description": "",
       "description_allow_html": false,
       "layout": "IPY_MODEL_367397834e0547a484cc2b25f6bedcab",
       "max": 17.0,
       "min": 0.0,
       "orientation": "horizontal",
       "style": "IPY_MODEL_ff493595410340dfa7504cb570dfb1fb",
       "tabbable": null,
       "tooltip": null,
       "value": 17.0
      }
     },
     "e92414b6a42f40e5bc48ba93c7c9d27b": {
      "model_module": "@jupyter-widgets/controls",
      "model_module_version": "2.0.0",
      "model_name": "HTMLStyleModel",
      "state": {
       "_model_module": "@jupyter-widgets/controls",
       "_model_module_version": "2.0.0",
       "_model_name": "HTMLStyleModel",
       "_view_count": null,
       "_view_module": "@jupyter-widgets/base",
       "_view_module_version": "2.0.0",
       "_view_name": "StyleView",
       "background": null,
       "description_width": "",
       "font_size": null,
       "text_color": null
      }
     },
     "f059ad8faf0e4353b97d15f524723d0b": {
      "model_module": "@jupyter-widgets/base",
      "model_module_version": "2.0.0",
      "model_name": "LayoutModel",
      "state": {
       "_model_module": "@jupyter-widgets/base",
       "_model_module_version": "2.0.0",
       "_model_name": "LayoutModel",
       "_view_count": null,
       "_view_module": "@jupyter-widgets/base",
       "_view_module_version": "2.0.0",
       "_view_name": "LayoutView",
       "align_content": null,
       "align_items": null,
       "align_self": null,
       "border_bottom": null,
       "border_left": null,
       "border_right": null,
       "border_top": null,
       "bottom": null,
       "display": null,
       "flex": null,
       "flex_flow": null,
       "grid_area": null,
       "grid_auto_columns": null,
       "grid_auto_flow": null,
       "grid_auto_rows": null,
       "grid_column": null,
       "grid_gap": null,
       "grid_row": null,
       "grid_template_areas": null,
       "grid_template_columns": null,
       "grid_template_rows": null,
       "height": null,
       "justify_content": null,
       "justify_items": null,
       "left": null,
       "margin": null,
       "max_height": null,
       "max_width": null,
       "min_height": null,
       "min_width": null,
       "object_fit": null,
       "object_position": null,
       "order": null,
       "overflow": null,
       "padding": null,
       "right": null,
       "top": null,
       "visibility": null,
       "width": null
      }
     },
     "ff493595410340dfa7504cb570dfb1fb": {
      "model_module": "@jupyter-widgets/controls",
      "model_module_version": "2.0.0",
      "model_name": "ProgressStyleModel",
      "state": {
       "_model_module": "@jupyter-widgets/controls",
       "_model_module_version": "2.0.0",
       "_model_name": "ProgressStyleModel",
       "_view_count": null,
       "_view_module": "@jupyter-widgets/base",
       "_view_module_version": "2.0.0",
       "_view_name": "StyleView",
       "bar_color": null,
       "description_width": ""
      }
     }
    },
    "version_major": 2,
    "version_minor": 0
   }
  }
 },
 "nbformat": 4,
 "nbformat_minor": 5
}