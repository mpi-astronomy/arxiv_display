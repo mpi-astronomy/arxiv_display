{
 "cells": [
  {
   "cell_type": "markdown",
   "id": "92bcb855",
   "metadata": {
    "papermill": {
     "duration": 0.003574,
     "end_time": "2023-12-20T04:03:43.717490",
     "exception": false,
     "start_time": "2023-12-20T04:03:43.713916",
     "status": "completed"
    },
    "tags": []
   },
   "source": [
    "# MPIA Arxiv on Deck 2\n",
    "\n",
    "Contains the steps to produce the paper extractions."
   ]
  },
  {
   "cell_type": "code",
   "execution_count": 1,
   "id": "3a0d6e11",
   "metadata": {
    "execution": {
     "iopub.execute_input": "2023-12-20T04:03:43.726001Z",
     "iopub.status.busy": "2023-12-20T04:03:43.725446Z",
     "iopub.status.idle": "2023-12-20T04:03:44.249514Z",
     "shell.execute_reply": "2023-12-20T04:03:44.248804Z"
    },
    "papermill": {
     "duration": 0.529879,
     "end_time": "2023-12-20T04:03:44.251521",
     "exception": false,
     "start_time": "2023-12-20T04:03:43.721642",
     "status": "completed"
    },
    "tags": []
   },
   "outputs": [],
   "source": [
    "# Imports\n",
    "import os\n",
    "from IPython.display import Markdown, display\n",
    "from tqdm.notebook import tqdm\n",
    "import warnings\n",
    "from PIL import Image \n",
    "\n",
    "# requires arxiv_on_deck_2\n",
    "\n",
    "from arxiv_on_deck_2.arxiv2 import (get_new_papers, \n",
    "                                    get_paper_from_identifier,\n",
    "                                    retrieve_document_source, \n",
    "                                    get_markdown_badge)\n",
    "from arxiv_on_deck_2 import (latex,\n",
    "                             latex_bib,\n",
    "                             mpia,\n",
    "                             highlight_authors_in_list)\n",
    "\n",
    "# Sometimes images are really big\n",
    "Image.MAX_IMAGE_PIXELS = 1000000000 "
   ]
  },
  {
   "cell_type": "code",
   "execution_count": 2,
   "id": "22aa9d44",
   "metadata": {
    "execution": {
     "iopub.execute_input": "2023-12-20T04:03:44.258756Z",
     "iopub.status.busy": "2023-12-20T04:03:44.258291Z",
     "iopub.status.idle": "2023-12-20T04:03:44.263409Z",
     "shell.execute_reply": "2023-12-20T04:03:44.262812Z"
    },
    "papermill": {
     "duration": 0.010177,
     "end_time": "2023-12-20T04:03:44.264702",
     "exception": false,
     "start_time": "2023-12-20T04:03:44.254525",
     "status": "completed"
    },
    "tags": []
   },
   "outputs": [],
   "source": [
    "# Some useful definitions.\n",
    "\n",
    "class AffiliationWarning(UserWarning):\n",
    "    pass\n",
    "\n",
    "class AffiliationError(RuntimeError):\n",
    "    pass\n",
    "\n",
    "def validation(source: str):\n",
    "    \"\"\"Raises error paper during parsing of source file\n",
    "    \n",
    "    Allows checks before parsing TeX code.\n",
    "    \n",
    "    Raises AffiliationWarning\n",
    "    \"\"\"\n",
    "    check = mpia.affiliation_verifications(source, verbose=True)\n",
    "    if check is not True:\n",
    "        raise AffiliationError(\"mpia.affiliation_verifications: \" + check)\n",
    "\n",
    "        \n",
    "warnings.simplefilter('always', AffiliationWarning)\n",
    "\n",
    "\n",
    "def get_markdown_qrcode(paper_id: str):\n",
    "    \"\"\" Generate a qrcode to the arxiv page using qrserver.com\n",
    "    \n",
    "    :param paper: Arxiv paper\n",
    "    :returns: markdown text\n",
    "    \"\"\"\n",
    "    url = r\"https://api.qrserver.com/v1/create-qr-code/?size=100x100&data=\"\n",
    "    txt = f\"\"\"<img src={url}\"https://arxiv.org/abs/{paper_id}\">\"\"\"\n",
    "    txt = '<div id=\"qrcode\">' + txt + '</div>'\n",
    "    return txt"
   ]
  },
  {
   "cell_type": "markdown",
   "id": "14bd6310",
   "metadata": {
    "papermill": {
     "duration": 0.002694,
     "end_time": "2023-12-20T04:03:44.270310",
     "exception": false,
     "start_time": "2023-12-20T04:03:44.267616",
     "status": "completed"
    },
    "tags": []
   },
   "source": [
    "## get list of arxiv paper candidates\n",
    "\n",
    "We use the MPIA mitarbeiter list webpage from mpia.de to get author names\n",
    "We then get all new papers from Arxiv and match authors"
   ]
  },
  {
   "cell_type": "code",
   "execution_count": 3,
   "id": "2645e73a",
   "metadata": {
    "execution": {
     "iopub.execute_input": "2023-12-20T04:03:44.276931Z",
     "iopub.status.busy": "2023-12-20T04:03:44.276562Z",
     "iopub.status.idle": "2023-12-20T04:04:03.481728Z",
     "shell.execute_reply": "2023-12-20T04:04:03.481004Z"
    },
    "papermill": {
     "duration": 19.209987,
     "end_time": "2023-12-20T04:04:03.483082",
     "exception": false,
     "start_time": "2023-12-20T04:03:44.273095",
     "status": "completed"
    },
    "tags": []
   },
   "outputs": [
    {
     "name": "stdout",
     "output_type": "stream",
     "text": [
      "Z. Kaczmarek  ->  Z. Kaczmarek  |  ['Z. Kaczmarek']\n",
      "J. Li  ->  J. Li  |  ['J. Li']\n",
      "K. Lee  ->  K. Lee  |  ['K. Lee']\n",
      "X. Zhang  ->  X. Zhang  |  ['X. Zhang']\n",
      "J. Isbell  ->  J. Isbell  |  ['J. Isbell']\n",
      "A. d. Graaff  ->  A. D. Graaff  |  ['A. D. Graaff']\n",
      "L. Xie  ->  Z.-L. Xie  |  ['L. Xie']\n",
      "Arxiv has 61 new papers today\n",
      "          7 with possible author matches\n"
     ]
    }
   ],
   "source": [
    "# get list from MPIA website\n",
    "# it automatically filters identified non-scientists :func:`mpia.filter_non_scientists`\n",
    "mpia_authors = mpia.get_mpia_mitarbeiter_list()\n",
    "normed_mpia_authors = [k[1] for k in mpia_authors]   # initials + fullname\n",
    "new_papers = get_new_papers()\n",
    "# add manual references\n",
    "add_paper_refs = []\n",
    "new_papers.extend([get_paper_from_identifier(k) for k in add_paper_refs])\n",
    "\n",
    "candidates = []\n",
    "for paperk in new_papers:\n",
    "    # Check author list with their initials\n",
    "    normed_author_list = [mpia.get_initials(k) for k in paperk['authors']]\n",
    "    hl_authors = highlight_authors_in_list(normed_author_list, normed_mpia_authors, verbose=True)\n",
    "    matches = [(hl, orig) for hl, orig in zip(hl_authors, paperk['authors']) if 'mark' in hl]\n",
    "    paperk['authors'] = hl_authors\n",
    "    if matches:\n",
    "        # only select paper if an author matched our list\n",
    "        candidates.append(paperk)\n",
    "print(\"\"\"Arxiv has {0:,d} new papers today\"\"\".format(len(new_papers)))        \n",
    "print(\"\"\"          {0:,d} with possible author matches\"\"\".format(len(candidates)))"
   ]
  },
  {
   "cell_type": "markdown",
   "id": "3543b34a",
   "metadata": {
    "papermill": {
     "duration": 0.002846,
     "end_time": "2023-12-20T04:04:03.489220",
     "exception": false,
     "start_time": "2023-12-20T04:04:03.486374",
     "status": "completed"
    },
    "tags": []
   },
   "source": [
    "# Parse sources and generate relevant outputs\n",
    "\n",
    "From the candidates, we do the following steps:\n",
    "* get their tarball from ArXiv (and extract data)\n",
    "* find the main .tex file: find one with \\documentclass{...} (sometimes it's non trivial)\n",
    "* Check affiliations with :func:`validation`, which uses :func:`mpia.affiliation_verifications`\n",
    "* If passing the affiliations: we parse the .tex source\n",
    "   * inject sub-documents into the main (flatten the main document)\n",
    "   * parse structure, extract information (title, abstract, authors, figures...)\n",
    "   * handles `\\graphicspath` if provided\n",
    "* Generate the .md document."
   ]
  },
  {
   "cell_type": "code",
   "execution_count": 4,
   "id": "9576b79e",
   "metadata": {
    "execution": {
     "iopub.execute_input": "2023-12-20T04:04:03.496232Z",
     "iopub.status.busy": "2023-12-20T04:04:03.495798Z",
     "iopub.status.idle": "2023-12-20T04:05:00.413368Z",
     "shell.execute_reply": "2023-12-20T04:05:00.412664Z"
    },
    "papermill": {
     "duration": 56.92403,
     "end_time": "2023-12-20T04:05:00.416107",
     "exception": false,
     "start_time": "2023-12-20T04:04:03.492077",
     "status": "completed"
    },
    "scrolled": false,
    "tags": []
   },
   "outputs": [
    {
     "data": {
      "application/vnd.jupyter.widget-view+json": {
       "model_id": "00c0c4f9e87d4923862fc46eea59ba59",
       "version_major": 2,
       "version_minor": 0
      },
      "text/plain": [
       "  0%|          | 0/7 [00:00<?, ?it/s]"
      ]
     },
     "metadata": {},
     "output_type": "display_data"
    },
    {
     "name": "stdout",
     "output_type": "stream",
     "text": [
      "Retrieving document from  https://arxiv.org/e-print/2312.11667\n"
     ]
    },
    {
     "name": "stdout",
     "output_type": "stream",
     "text": [
      "extracting tarball to tmp_2312.11667..."
     ]
    },
    {
     "name": "stdout",
     "output_type": "stream",
     "text": [
      " done.\n",
      "Retrieving document from  https://arxiv.org/e-print/2312.11900\n"
     ]
    },
    {
     "name": "stdout",
     "output_type": "stream",
     "text": [
      "extracting tarball to tmp_2312.11900..."
     ]
    },
    {
     "name": "stdout",
     "output_type": "stream",
     "text": [
      " done.\n",
      "Retrieving document from  https://arxiv.org/e-print/2312.11984\n"
     ]
    },
    {
     "name": "stdout",
     "output_type": "stream",
     "text": [
      "extracting tarball to tmp_2312.11984..."
     ]
    },
    {
     "name": "stdout",
     "output_type": "stream",
     "text": [
      " done.\n",
      "Retrieving document from  https://arxiv.org/e-print/2312.12015\n"
     ]
    },
    {
     "name": "stdout",
     "output_type": "stream",
     "text": [
      "extracting tarball to tmp_2312.12015..."
     ]
    },
    {
     "name": "stdout",
     "output_type": "stream",
     "text": [
      " done.\n",
      "Retrieving document from  https://arxiv.org/e-print/2312.12125\n"
     ]
    },
    {
     "name": "stdout",
     "output_type": "stream",
     "text": [
      "extracting tarball to tmp_2312.12125..."
     ]
    },
    {
     "name": "stdout",
     "output_type": "stream",
     "text": [
      " done.\n"
     ]
    },
    {
     "name": "stderr",
     "output_type": "stream",
     "text": [
      "/opt/hostedtoolcache/Python/3.9.18/x64/lib/python3.9/site-packages/IPython/core/interactiveshell.py:3550: LatexWarning: Multiple tex files.\n",
      "\n",
      "  exec(code_obj, self.user_global_ns, self.user_ns)\n",
      "/opt/hostedtoolcache/Python/3.9.18/x64/lib/python3.9/site-packages/IPython/core/interactiveshell.py:3550: LatexWarning: Found documentclass in tmp_2312.12125/Main_Paper.tex\n",
      "\n",
      "  exec(code_obj, self.user_global_ns, self.user_ns)\n",
      "/opt/hostedtoolcache/Python/3.9.18/x64/lib/python3.9/site-packages/arxiv_on_deck_2/latex.py:399: LatexWarning: Latex injecting: 'resultstabaltalt' from 'tmp_2312.12125/resultstabaltalt.tex'\n",
      "  warnings.warn(LatexWarning(f\"Latex injecting: '{ext}' from '{subsource}'\"))\n"
     ]
    },
    {
     "name": "stderr",
     "output_type": "stream",
     "text": [
      "/opt/hostedtoolcache/Python/3.9.18/x64/lib/python3.9/site-packages/arxiv_on_deck_2/latex.py:473: LatexWarning: Error parsing the document directly. Trying to recover.\n",
      "  warnings.warn(LatexWarning(f\"Error parsing the document directly. Trying to recover.\"))\n"
     ]
    },
    {
     "name": "stdout",
     "output_type": "stream",
     "text": [
      "✔ → 0:header\n",
      "  ↳ 5277:\\section{Introduction}\n"
     ]
    },
    {
     "name": "stdout",
     "output_type": "stream",
     "text": [
      "✔ → 5277:\\section{Introduction}\n",
      "  ↳ 15210:\\section{Observations}\\label{s:Obs}\n",
      "✔ → 15210:\\section{Observations}\\label{s:Obs}\n",
      "  ↳ 16180:\\section{Model}\\label{S:model}\n"
     ]
    },
    {
     "name": "stdout",
     "output_type": "stream",
     "text": [
      "✘ → 16180:\\section{Model}\\label{S:model}\n",
      "  ↳ 45462:\\section{Method}\\label{s:Method}\n"
     ]
    },
    {
     "name": "stdout",
     "output_type": "stream",
     "text": [
      "✘ → 45462:\\section{Method}\\label{s:Method}\n",
      "  ↳ 54161:\\section{Results}\\label{s:Results}\n"
     ]
    },
    {
     "name": "stdout",
     "output_type": "stream",
     "text": [
      "✔ → 54161:\\section{Results}\\label{s:Results}\n",
      "  ↳ 64186:\\section{Comparison of models, improvements, and future prospects}\\label{s:Discussion}\n"
     ]
    },
    {
     "name": "stdout",
     "output_type": "stream",
     "text": [
      "✔ → 64186:\\section{Comparison of models, improvements, and future prospects}\\label{s:Discussion}\n",
      "  ↳ 77140:\\section{Conclusions}\\label{s:Conclusions}\n",
      "✔ → 77140:\\section{Conclusions}\\label{s:Conclusions}\n",
      "  ↳ 81118:\\begin{appendix}\n",
      "✔ → 81118:\\begin{appendix}\n",
      "  ↳ 81135:\\section{Band-by-band results - Additional}\n"
     ]
    },
    {
     "name": "stdout",
     "output_type": "stream",
     "text": [
      "✘ → 81135:\\section{Band-by-band results - Additional}\n",
      "  ↳ 91518:\\section{Figures and Tables}\n"
     ]
    },
    {
     "name": "stdout",
     "output_type": "stream",
     "text": [
      "✘ → 91518:\\section{Figures and Tables}\n",
      "  ↳ 114722:end\n",
      "J. Isbell  ->  J. Isbell  |  ['J. Isbell']\n"
     ]
    },
    {
     "name": "stdout",
     "output_type": "stream",
     "text": [
      "Found 51 bibliographic references in tmp_2312.12125/Main_Paper.bbl.\n",
      "Retrieving document from  https://arxiv.org/e-print/2312.12207\n"
     ]
    },
    {
     "name": "stdout",
     "output_type": "stream",
     "text": [
      "extracting tarball to tmp_2312.12207..."
     ]
    },
    {
     "name": "stdout",
     "output_type": "stream",
     "text": [
      " done.\n"
     ]
    },
    {
     "name": "stdout",
     "output_type": "stream",
     "text": [
      "A. d. Graaff  ->  A. D. Graaff  |  ['A. D. Graaff']\n"
     ]
    },
    {
     "name": "stdout",
     "output_type": "stream",
     "text": [
      "Found 194 bibliographic references in tmp_2312.12207/main.bbl.\n",
      "Retrieving document from  https://arxiv.org/e-print/2312.12380\n"
     ]
    },
    {
     "name": "stdout",
     "output_type": "stream",
     "text": [
      "extracting tarball to tmp_2312.12380..."
     ]
    },
    {
     "name": "stdout",
     "output_type": "stream",
     "text": [
      " done.\n"
     ]
    },
    {
     "name": "stderr",
     "output_type": "stream",
     "text": [
      "/opt/hostedtoolcache/Python/3.9.18/x64/lib/python3.9/site-packages/IPython/core/interactiveshell.py:3550: LatexWarning: Multiple tex files.\n",
      "\n",
      "  exec(code_obj, self.user_global_ns, self.user_ns)\n",
      "/opt/hostedtoolcache/Python/3.9.18/x64/lib/python3.9/site-packages/IPython/core/interactiveshell.py:3550: LatexWarning: Found documentclass in tmp_2312.12380/main.tex\n",
      "\n",
      "  exec(code_obj, self.user_global_ns, self.user_ns)\n",
      "/opt/hostedtoolcache/Python/3.9.18/x64/lib/python3.9/site-packages/arxiv_on_deck_2/latex.py:399: LatexWarning: Latex injecting: 'appendices.tex' from 'tmp_2312.12380/appendices.tex'\n",
      "  warnings.warn(LatexWarning(f\"Latex injecting: '{ext}' from '{subsource}'\"))\n"
     ]
    }
   ],
   "source": [
    "documents = []\n",
    "failed = []\n",
    "for paper in tqdm(candidates):\n",
    "    paper_id = paper['identifier'].lower().replace('arxiv:', '')\n",
    "    \n",
    "    folder = f'tmp_{paper_id}'\n",
    "\n",
    "    try:\n",
    "        if not os.path.isdir(folder):\n",
    "            folder = retrieve_document_source(f\"{paper_id}\", f'tmp_{paper_id}')\n",
    "        \n",
    "        try:\n",
    "            doc = latex.LatexDocument(folder, validation=validation)    \n",
    "        except AffiliationError as affilerror:\n",
    "            msg = f\"ArXiv:{paper_id:s} is not an MPIA paper... \" + str(affilerror)\n",
    "            failed.append((paper, \"affiliation error: \" + str(affilerror) ))\n",
    "            continue\n",
    "        \n",
    "        # Hack because sometimes author parsing does not work well\n",
    "        if (len(doc.authors) != len(paper['authors'])):\n",
    "            doc._authors = paper['authors']\n",
    "        else:\n",
    "            # highlight authors (FIXME: doc.highlight_authors)\n",
    "            # done on arxiv paper already\n",
    "            doc._authors = highlight_authors_in_list(\n",
    "                [mpia.get_initials(k) for k in doc.authors], \n",
    "                normed_mpia_authors, verbose=True)\n",
    "        if (doc.abstract) in (None, ''):\n",
    "            doc._abstract = paper['abstract']\n",
    "            \n",
    "        doc.comment = (get_markdown_badge(paper_id) + \n",
    "                       \"<mark>Appeared on: \" + paper['date'] + \"</mark> - \")\n",
    "        if paper['comments']:\n",
    "            doc.comment += \" _\" + paper['comments'] + \"_\"\n",
    "        \n",
    "        full_md = doc.generate_markdown_text()\n",
    "        \n",
    "        full_md += get_markdown_qrcode(paper_id)\n",
    "        \n",
    "        # replace citations\n",
    "        try:\n",
    "            bibdata = latex_bib.LatexBib.from_doc(doc)\n",
    "            full_md = latex_bib.replace_citations(full_md, bibdata)\n",
    "        except Exception as e:\n",
    "            print(e)\n",
    "        \n",
    "        documents.append((paper_id, full_md))\n",
    "    except Exception as e:\n",
    "        warnings.warn(latex.LatexWarning(f\"{paper_id:s} did not run properly\\n\" +\n",
    "                                         str(e)\n",
    "                                        ))\n",
    "        failed.append((paper, \"latex error \" + str(e)))"
   ]
  },
  {
   "cell_type": "markdown",
   "id": "2505a25c",
   "metadata": {
    "papermill": {
     "duration": 0.004284,
     "end_time": "2023-12-20T04:05:00.425090",
     "exception": false,
     "start_time": "2023-12-20T04:05:00.420806",
     "status": "completed"
    },
    "tags": []
   },
   "source": [
    "### Export the logs\n",
    "\n",
    "Throughout, we also keep track of the logs per paper. see `logs-{today date}.md` "
   ]
  },
  {
   "cell_type": "code",
   "execution_count": 5,
   "id": "d733828a",
   "metadata": {
    "execution": {
     "iopub.execute_input": "2023-12-20T04:05:00.434910Z",
     "iopub.status.busy": "2023-12-20T04:05:00.434501Z",
     "iopub.status.idle": "2023-12-20T04:05:00.452225Z",
     "shell.execute_reply": "2023-12-20T04:05:00.451707Z"
    },
    "papermill": {
     "duration": 0.024157,
     "end_time": "2023-12-20T04:05:00.453508",
     "exception": false,
     "start_time": "2023-12-20T04:05:00.429351",
     "status": "completed"
    },
    "scrolled": false,
    "tags": []
   },
   "outputs": [
    {
     "data": {
      "text/markdown": [
       "## Successful papers"
      ],
      "text/plain": [
       "<IPython.core.display.Markdown object>"
      ]
     },
     "metadata": {},
     "output_type": "display_data"
    },
    {
     "data": {
      "text/markdown": [
       "\n",
       "|||\n",
       "|---:|:---|\n",
       "| [![arXiv](https://img.shields.io/badge/arXiv-arXiv:2312.12125-b31b1b.svg)](https://arxiv.org/abs/arXiv:2312.12125) | **Chromatically modelling the parsec scale dusty structure in the centre  of NGC1068**  |\n",
       "|| J. Leftley, et al. -- incl., <mark>J. Isbell</mark> |\n",
       "|*Appeared on*| *2023-12-20*|\n",
       "|*Comments*| *15 pages, 17 appendix pages, submitted to A&A*|\n",
       "|**Abstract**| Context: The Very Large Telescope Interferometer (VLTI) has been providing breakthrough images of the dust in the central parsecs of Active Galactic Nuclei (AGN), thought to be a key component of the AGN unification scheme and AGN host galaxy interaction. In single infrared bands, these images can have multiple interpretations some of which could challenge the unification scheme. This is the case for the archetypal type 2 AGN of NGC1068. The degeneracy is reduced by multi-band temperature maps which are hindered by ambiguity in alignment between different single band images. Aims: To solve this problem by creating a chromatic model capable of simultaneously explaining the VLTI GRAVITY+MATISSE $2\\mu$m$-13\\mu$m observations of the AGN hosted by NGC1068. Methods: We employ a simple disk and wind geometry populated with black body emitters and dust obscuration to create a versatile multi-wavelength modelling method for chromatic IR interferometric data of dusty objects. Results: This simple geometry is capable of reproducing the spectro-interferometric data of NGC1068 from K$-$N-band, explains the complex single band images with obscuration and inclination effects, and solves the alignment problem between bands. We find that the resulting inclination and position angle of the model is consistent with those inferred in previous larger scale studies of the narrow line region. Furthermore, the resulting model images visually resemble the multiple achromatic image reconstructions of the same data when evaluated at the same wavelengths. We conclude that the AGN of NGC1068 can indeed be explained by the clumpy disk+wind iteration of the AGN unification scheme. Within the scheme, we find that it is best explained as a type 2 AGN and the obscuring dust chemistry can be explained by a mix of olivine silicates and $16\\pm1\\%$ amorphous carbon. |"
      ],
      "text/plain": [
       "[arXiv:2312.12125] Chromatically modelling the parsec scale dusty structure in the centre  of NGC1068\n",
       "\tJ. Leftley, et al. -- incl., <mark>J. Isbell</mark>"
      ]
     },
     "metadata": {},
     "output_type": "display_data"
    },
    {
     "data": {
      "text/markdown": [
       "\n",
       "|||\n",
       "|---:|:---|\n",
       "| [![arXiv](https://img.shields.io/badge/arXiv-arXiv:2312.12207-b31b1b.svg)](https://arxiv.org/abs/arXiv:2312.12207) | **To high redshift and low mass: exploring the emergence of quenched  galaxies and their environments at $3<z<6$ in the ultra-deep JADES MIRI F770W  parallel**  |\n",
       "|| S. Alberts, et al. -- incl., <mark>A. d. Graaff</mark> |\n",
       "|*Appeared on*| *2023-12-20*|\n",
       "|*Comments*| *27 pages, 10 figures, 2 tables (not including appendices or references). Submitted to ApJ. Comments welcome!*|\n",
       "|**Abstract**| We present the robust selection of quiescent (QG) and post-starburst (PSB) galaxies using ultra-deep NIRCam and MIRI imaging from the JWST Advanced Deep Extragalactic Survey (JADES). Key to this is MIRI 7.7$\\mu$m imaging which breaks the degeneracy between old stellar populations and dust attenuation at $3<z<6$ by providing rest-frame $J$-band. Using this, we identify 23 passively evolving galaxies in UVJ color space in a mass-limited (log $M_{\\star}/M_{\\odot}\\geq8.5$) sample over 8.8 arcmin$^2$. Evaluation of this selection with and without 7.7$\\,\\mu$m shows that dense wavelength coverage with NIRCam ($8-11$ bands including $1-4$ medium-bands) can compensate for lacking the $J-$band anchor, meaning that robust selection of high-redshift QGs is possible with NIRCam alone. Our sample is characterized by rapid quenching timescales ($\\sim100-600$ Myr) with formation redshifts $z_{\\rm f}\\lesssim8.5$ and includes a potential record-holding massive QG at $z_{\\rm phot}=5.33_{-0.17}^{+0.16}$ and two QGs with evidence for significant residual dust content ($A_{\\rm V}\\sim1-2$). In addition, we present a large sample of 12 log $M_{\\star}/M_{\\odot}=8.5-9.5$ PSBs, demonstrating that UVJ selection can be extended to low mass. Analysis of the environment of our sample reveals that the group known as the Cosmic Rose contains a massive QG and a dust-obscured star-forming galaxy (a so-called Jekyll and Hyde pair) plus three additional QGs within $\\sim20$ kpc. Moreover, the Cosmic Rose is part of a larger overdensity at $z\\sim3.7$ which contains 7/12 of our low-mass PSBs. Another 4 low-mass PSBs are members of an overdensity at $z\\sim3.4$; this result strongly indicates low-mass PSBs are preferentially associated with overdense environments at $z>3$. |"
      ],
      "text/plain": [
       "[arXiv:2312.12207] To high redshift and low mass: exploring the emergence of quenched  galaxies and their environments at $3<z<6$ in the ultra-deep JADES MIRI F770W  parallel\n",
       "\tS. Alberts, et al. -- incl., <mark>A. d. Graaff</mark>"
      ]
     },
     "metadata": {},
     "output_type": "display_data"
    },
    {
     "data": {
      "text/markdown": [
       "## Failed papers"
      ],
      "text/plain": [
       "<IPython.core.display.Markdown object>"
      ]
     },
     "metadata": {},
     "output_type": "display_data"
    },
    {
     "data": {
      "text/markdown": [
       "\n",
       "|||\n",
       "|---:|:---|\n",
       "| [![arXiv](https://img.shields.io/badge/arXiv-arXiv:2312.11667-b31b1b.svg)](https://arxiv.org/abs/arXiv:2312.11667) | **Spatially resolved microlensing timescale distributions across the  Galactic bulge with the VVV survey**  |\n",
       "|| <mark>Z. Kaczmarek</mark>, et al. |\n",
       "|*Appeared on*| *2023-12-20*|\n",
       "|*Comments*| *13 pages, 11 figures, submitted to MNRAS*|\n",
       "|**Abstract**| We analyze 1602 microlensing events found in the VISTA Variables in the Via Lactea (VVV) near-infrared (NIR) survey data. We obtain spatially-resolved, efficiency-corrected timescale distributions across the Galactic bulge ($|\\ell|<10^\\circ,$ $|b|<5^\\circ$), using a Bayesian hierarchical model. Spatially-resolved peaks and means of the timescale distributions, along with their marginal distributions in strips of longitude and latitude, are in agreement at a 1$\\sigma$ level with predictions based on the Besan\\c{c}on model of the Galaxy. We find that the event timescales in the central bulge fields ($|\\ell| < 5^\\circ$) are on average shorter than the non-central ($|\\ell| > 5^\\circ$) fields, with the average peak of the lognormal timescale distribution at 23.6 $\\pm$ 1.9 days for the central fields and 29.0 $\\pm$ 3.0 days for the non-central fields. Our ability to probe the structure of the Bulge with this sample of NIR microlensing events is limited by the VVV survey's sparse cadence and relatively small number of detected microlensing events compared to dedicated optical surveys. Looking forward to future surveys, we investigate the capability of the Roman telescope to detect spatially-resolved asymmetries in the timescale distributions. We propose two pairs of Roman fields, centred on ($\\ell = \\pm 9,5^\\circ$, $b=-0.125^\\circ$) and ($\\ell = -5^\\circ$, $b=\\pm 1.375^\\circ$) as good targets to measure the asymmetry in longitude and latitude, respectively. |\n",
       "|<p style=\"color:green\"> **ERROR** </p>| <p style=\"color:green\">affiliation error: mpia.affiliation_verifications: '69117' keyword not found.</p> |"
      ],
      "text/plain": [
       "<IPython.core.display.Markdown object>"
      ]
     },
     "metadata": {},
     "output_type": "display_data"
    },
    {
     "data": {
      "text/markdown": [
       "\n",
       "|||\n",
       "|---:|:---|\n",
       "| [![arXiv](https://img.shields.io/badge/arXiv-arXiv:2312.11900-b31b1b.svg)](https://arxiv.org/abs/arXiv:2312.11900) | **MeV Astrophysical Spectroscopic Surveyor (MASS): A Compton Telescope  Mission Concept**  |\n",
       "|| J. Zhu, et al. -- incl., <mark>J. Li</mark> |\n",
       "|*Appeared on*| *2023-12-20*|\n",
       "|*Comments*| *accepted for publication in Experimental Astronomy*|\n",
       "|**Abstract**| We propose a future mission concept, the MeV Astrophysical Spectroscopic Surveyor (MASS), which is a large area Compton telescope using 3D position sensitive cadmium zinc telluride (CZT) detectors optimized for emission line detection. The payload consists of two layers of CZT detectors in a misaligned chessboard layout, with a total geometric area of 4096 cm$^2$ for on-axis observations. The detectors can be operated at room-temperature with an energy resolution of 0.6\\% at 0.662 MeV. The in-orbit background is estimated with a mass model. At energies around 1 MeV, a line sensitivity of about $10^{-5}$ photons cm$^{-2}$ s$^{-1}$ can be obtained with a 1 Ms observation. The main science objectives of MASS include nucleosynthesis in astrophysics and high energy astrophysics related to compact objects and transient sources. The payload CZT detectors weigh roughly 40 kg, suggesting that it can be integrated into a micro- or mini-satellite. We have constructed a pathfinder, named as MASS-Cube, to have a direct test of the technique with 4 detector units in space in the near future. |\n",
       "|<p style=\"color:green\"> **ERROR** </p>| <p style=\"color:green\">affiliation error: mpia.affiliation_verifications: 'Heidelberg' keyword not found.</p> |"
      ],
      "text/plain": [
       "<IPython.core.display.Markdown object>"
      ]
     },
     "metadata": {},
     "output_type": "display_data"
    },
    {
     "data": {
      "text/markdown": [
       "\n",
       "|||\n",
       "|---:|:---|\n",
       "| [![arXiv](https://img.shields.io/badge/arXiv-arXiv:2312.11984-b31b1b.svg)](https://arxiv.org/abs/arXiv:2312.11984) | **PSR B0943+10: Mode Switch, Polar Cap Geometry, and Orthogonally  Polarized Radiation**  |\n",
       "|| S. Cao, et al. -- incl., <mark>K. Lee</mark> |\n",
       "|*Appeared on*| *2023-12-20*|\n",
       "|*Comments*| *27 pages, 28 figures, 2 tables, submitted to ApJ*|\n",
       "|**Abstract**| As one of the paradigm examples to probe into pulsar magnetospheric dynamics, PSR B0943+10 (J0946+0951) manifests representatively, showing mode switch, orthogonal polarization and subpulse drifting. Both integrated and single pulses are studied with the Five-hundred-meter Aperture Spherical radio Telescope (FAST). The mode switch phenomenon of this pulsar is studied using an eigen-mode searching method, based on parameter estimation. A phase space evolution for the pulsar's mode switch shows a strange-attractor-like pattern. The radiative geometry is proposed by fitting polarization position angles with the rotating vector model. The pulsar pulse profile is then mapped to the sparking location on pulsar surface, and the differences between the main pulse's and the precursor component's radiative process may explain the X-ray's synchronization with radio mode switch. Detailed single pulse studies on B0943+10's orthogonally polarized radiation are presented, which may support for certain models of radiative transfer of polarized emission. B0943+10's B and Q modes evolve differently with frequency and with proportions of orthogonal modes, which indicates possible magnetospheric changes during mode switch. An extra component is found in B mode, and it shows distinct polarization and modulation properties compared with main part of B mode pulse component. For Q mode pulse profile, the precursor and the main pulse components are orthogonally polarized, showing that the precursor component radiated farther from the pulsar could be radiated in O-mode (X-mode) if the main pulse originates from low altitude in X-mode (O-mode). The findings could impact significantly on pulsar electrodynamics and the radiative mechanism related. |\n",
       "|<p style=\"color:green\"> **ERROR** </p>| <p style=\"color:green\">affiliation error: mpia.affiliation_verifications: 'Heidelberg' keyword not found.</p> |"
      ],
      "text/plain": [
       "<IPython.core.display.Markdown object>"
      ]
     },
     "metadata": {},
     "output_type": "display_data"
    },
    {
     "data": {
      "text/markdown": [
       "\n",
       "|||\n",
       "|---:|:---|\n",
       "| [![arXiv](https://img.shields.io/badge/arXiv-arXiv:2312.12015-b31b1b.svg)](https://arxiv.org/abs/arXiv:2312.12015) | **ASASSN-18ap: A Dusty Tidal Disruption Event Candidate with an Early Bump  in the Light Curve or an extraodinary Type IIn supernovae**  |\n",
       "|| Y. Wang, et al. -- incl., <mark>X. Zhang</mark> |\n",
       "|*Appeared on*| *2023-12-20*|\n",
       "|*Comments*| *Submitted to ApJ on 2023-06-13 (Currently after the first revision)*|\n",
       "|**Abstract**| We re-examined the classification of the optical transient ASASSN-18ap, which was initially identified as a supernova (SNe) upon its discovery. Based on newly emerged phenomena, such as a delayed luminous infrared outburst and the emergence of luminous coronal emission lines, we suggest that ASASSN-18ap is more likely a tidal disruption event (TDE) in a dusty environment, rather than a supernova. The total energy in the infrared outburst is $\\rm 3.1\\times10^{51}$ erg, which is an order of magnitude higher than the total energy in the optical-to-ultraviolet range, indicating a large dust extinction, an extra-EUV component, or anisotropic continuum emission. A bumpy feature appeared in the optical light curve at the start of brightening, which was reported in a couple of TDEs very recently. This early bump may have been overlooked in the past due to the lack of sufficient sampling of the light curves of most TDEs during their ascending phase, and it could provide insight into the origin of optical emission. |\n",
       "|<p style=\"color:green\"> **ERROR** </p>| <p style=\"color:green\">affiliation error: mpia.affiliation_verifications: 'Heidelberg' keyword not found.</p> |"
      ],
      "text/plain": [
       "<IPython.core.display.Markdown object>"
      ]
     },
     "metadata": {},
     "output_type": "display_data"
    },
    {
     "data": {
      "text/markdown": [
       "\n",
       "|||\n",
       "|---:|:---|\n",
       "| [![arXiv](https://img.shields.io/badge/arXiv-arXiv:2312.12380-b31b1b.svg)](https://arxiv.org/abs/arXiv:2312.12380) | **The stellar mass function of quiescent galaxies in 2 < z < 2.5  protoclusters**  |\n",
       "|| A. H. Edward, et al. -- incl., <mark>L. Xie</mark> |\n",
       "|*Appeared on*| *2023-12-20*|\n",
       "|*Comments*| *23 pages, 22 figures. Accepted for publication in MNRAS*|\n",
       "|**Abstract**| We present an analysis of the galaxy stellar mass function (SMF) of 14 known protoclusters between $2.0 < z < 2.5$ in the COSMOS field, down to a mass limit of $10^{9.5}$ M$_{\\odot}$. We use existing photometric redshifts with a statistical background subtraction, and consider star-forming and quiescent galaxies identified from $(NUV - r)$ and $(r - J)$ colours separately. Our fiducial sample includes galaxies within 1 Mpc of the cluster centres. The shape of the protocluster SMF of star-forming galaxies is indistinguishable from that of the general field at this redshift. Quiescent galaxies, however, show a flatter SMF than in the field, with an upturn at low mass, though this is only significant at $\\sim 2\\sigma$. There is no strong evidence for a dominant population of quiescent galaxies at any mass, with a fraction of $< 15\\%$ at $1\\sigma$ confidence for galaxies with log$M_{\\ast}/M_{\\odot} < 10.5$. We compare our results with a sample of galaxies groups at $1 < z < 1.5$, and demonstrate that a significant amount of environmental quenching must take place between these epochs, increasing the relative abundance of high-mass ($\\rm M > 10^{10.5} M_{\\odot}$) quiescent galaxies by a factor of $\\gtrsim$ 2. However, we find that at lower masses ($\\rm M < 10^{10.5} M_{\\odot}$), no additional environmental quenching is required. |\n",
       "|<p style=\"color:green\"> **ERROR** </p>| <p style=\"color:green\">affiliation error: mpia.affiliation_verifications: 'Heidelberg' keyword not found.</p> |"
      ],
      "text/plain": [
       "<IPython.core.display.Markdown object>"
      ]
     },
     "metadata": {},
     "output_type": "display_data"
    }
   ],
   "source": [
    "import datetime\n",
    "today = str(datetime.date.today())\n",
    "logfile = f\"_build/html/logs/log-{today}.md\"\n",
    "\n",
    "\n",
    "with open(logfile, 'w') as logs:\n",
    "    # Success\n",
    "    logs.write(f'# Arxiv on Deck 2: Logs - {today}\\n\\n')\n",
    "    logs.write(\"\"\"* Arxiv had {0:,d} new papers\\n\"\"\".format(len(new_papers)))\n",
    "    logs.write(\"\"\"    * {0:,d} with possible author matches\\n\\n\"\"\".format(len(candidates)))\n",
    "    logs.write(\"## Sucessful papers\\n\\n\")\n",
    "    display(Markdown(\"## Successful papers\"))\n",
    "    success = [k[0] for k in documents]\n",
    "    for candid in candidates:\n",
    "        if candid['identifier'].split(':')[-1] in success:\n",
    "            display(candid)\n",
    "            logs.write(candid.generate_markdown_text() + '\\n\\n')\n",
    "\n",
    "    ## failed\n",
    "    logs.write(\"## Failed papers\\n\\n\")\n",
    "    display(Markdown(\"## Failed papers\"))\n",
    "    failed = sorted(failed, key=lambda x: x[1])\n",
    "    current_reason = \"\"\n",
    "    for paper, reason in failed:\n",
    "        if 'affiliation' in reason:\n",
    "            color = 'green'\n",
    "        else:\n",
    "            color = 'red'\n",
    "        data = Markdown(\n",
    "                paper.generate_markdown_text() + \n",
    "                f'\\n|<p style=\"color:{color:s}\"> **ERROR** </p>| <p style=\"color:{color:s}\">{reason:s}</p> |'\n",
    "               )\n",
    "        if reason != current_reason:\n",
    "            logs.write(f'### {reason:s} \\n\\n')\n",
    "            current_reason = reason\n",
    "        logs.write(data.data + '\\n\\n')\n",
    "        \n",
    "        # only display here the important errors (all in logs)\n",
    "        # if color in ('red',):\n",
    "        display(data)"
   ]
  },
  {
   "cell_type": "markdown",
   "id": "472d20ee",
   "metadata": {
    "papermill": {
     "duration": 0.005155,
     "end_time": "2023-12-20T04:05:00.463919",
     "exception": false,
     "start_time": "2023-12-20T04:05:00.458764",
     "status": "completed"
    },
    "tags": []
   },
   "source": [
    "## Export documents\n",
    "\n",
    "We now write the .md files and export relevant images"
   ]
  },
  {
   "cell_type": "code",
   "execution_count": 6,
   "id": "d426aed9",
   "metadata": {
    "execution": {
     "iopub.execute_input": "2023-12-20T04:05:00.475396Z",
     "iopub.status.busy": "2023-12-20T04:05:00.474944Z",
     "iopub.status.idle": "2023-12-20T04:05:00.481306Z",
     "shell.execute_reply": "2023-12-20T04:05:00.480770Z"
    },
    "papermill": {
     "duration": 0.013576,
     "end_time": "2023-12-20T04:05:00.482641",
     "exception": false,
     "start_time": "2023-12-20T04:05:00.469065",
     "status": "completed"
    },
    "tags": []
   },
   "outputs": [],
   "source": [
    "def export_markdown_summary(md: str, md_fname:str, directory: str):\n",
    "    \"\"\"Export MD document and associated relevant images\"\"\"\n",
    "    import os\n",
    "    import shutil\n",
    "    import re\n",
    "\n",
    "    if (os.path.exists(directory) and not os.path.isdir(directory)):\n",
    "        raise RuntimeError(f\"a non-directory file exists with name {directory:s}\")\n",
    "\n",
    "    if (not os.path.exists(directory)):\n",
    "        print(f\"creating directory {directory:s}\")\n",
    "        os.mkdir(directory)\n",
    "\n",
    "    fig_fnames = (re.compile(r'\\[Fig.*\\]\\((.*)\\)').findall(md) + \n",
    "                  re.compile(r'\\<img src=\"([^>\\s]*)\"[^>]*/>').findall(md))\n",
    "    for fname in fig_fnames:\n",
    "        if 'http' in fname:\n",
    "            # No need to copy online figures\n",
    "            continue\n",
    "        destdir = os.path.join(directory, os.path.dirname(fname))\n",
    "        destfname = os.path.join(destdir, os.path.basename(fname))\n",
    "        try:\n",
    "            os.makedirs(destdir)\n",
    "        except FileExistsError:\n",
    "            pass\n",
    "        shutil.copy(fname, destfname)\n",
    "    with open(os.path.join(directory, md_fname), 'w') as fout:\n",
    "        fout.write(md)\n",
    "    print(\"exported in \", os.path.join(directory, md_fname))\n",
    "    [print(\"    + \" + os.path.join(directory,fk)) for fk in fig_fnames]"
   ]
  },
  {
   "cell_type": "code",
   "execution_count": 7,
   "id": "014d04a4",
   "metadata": {
    "execution": {
     "iopub.execute_input": "2023-12-20T04:05:00.494014Z",
     "iopub.status.busy": "2023-12-20T04:05:00.493632Z",
     "iopub.status.idle": "2023-12-20T04:05:00.499958Z",
     "shell.execute_reply": "2023-12-20T04:05:00.499429Z"
    },
    "papermill": {
     "duration": 0.013398,
     "end_time": "2023-12-20T04:05:00.501271",
     "exception": false,
     "start_time": "2023-12-20T04:05:00.487873",
     "status": "completed"
    },
    "tags": []
   },
   "outputs": [
    {
     "name": "stdout",
     "output_type": "stream",
     "text": [
      "exported in  _build/html/2312.12125.md\n",
      "    + _build/html/tmp_2312.12125/./photocent.png\n",
      "    + _build/html/tmp_2312.12125/./V2Poly.png\n",
      "exported in  _build/html/2312.12207.md\n",
      "    + _build/html/tmp_2312.12207/./uvj_comparison_w_inset.png\n"
     ]
    }
   ],
   "source": [
    "for paper_id, md in documents:\n",
    "    export_markdown_summary(md, f\"{paper_id:s}.md\", '_build/html/')"
   ]
  },
  {
   "cell_type": "markdown",
   "id": "f087a0a7",
   "metadata": {
    "papermill": {
     "duration": 0.005292,
     "end_time": "2023-12-20T04:05:00.511936",
     "exception": false,
     "start_time": "2023-12-20T04:05:00.506644",
     "status": "completed"
    },
    "tags": []
   },
   "source": [
    "## Display the papers\n",
    "\n",
    "Not necessary but allows for a quick check."
   ]
  },
  {
   "cell_type": "code",
   "execution_count": 8,
   "id": "fd25f625",
   "metadata": {
    "execution": {
     "iopub.execute_input": "2023-12-20T04:05:00.523484Z",
     "iopub.status.busy": "2023-12-20T04:05:00.523041Z",
     "iopub.status.idle": "2023-12-20T04:05:00.528468Z",
     "shell.execute_reply": "2023-12-20T04:05:00.527965Z"
    },
    "papermill": {
     "duration": 0.012572,
     "end_time": "2023-12-20T04:05:00.529744",
     "exception": false,
     "start_time": "2023-12-20T04:05:00.517172",
     "status": "completed"
    },
    "scrolled": false,
    "tags": []
   },
   "outputs": [
    {
     "data": {
      "text/markdown": [
       " and the image reconstructions from these works (bottom row). All images are colour scaled by a power of 0.6 to highlight faint structure. (*fig:polyimcomp*)\n",
       "\n",
       "</div>\n",
       "<div id=\"div_fig2\">\n",
       "\n",
       "<img src=\"tmp_2312.12125/./photocent.png\" alt=\"Fig1\" width=\"100%\"/>\n",
       "\n",
       "**Figure 1. -** The location of the brightest spot from the polychromatic model with wavelength, (0,0) is the model centre. (*fig:photocentre*)\n",
       "\n",
       "</div>\n",
       "<div id=\"div_fig3\">\n",
       "\n",
       "<img src=\"tmp_2312.12125/./V2Poly.png\" alt=\"Fig2\" width=\"100%\"/>\n",
       "\n",
       "**Figure 2. -** The V$^2$ of the polychromatic model. The line is the best polychromatic model by maximum likelihood evaluated at different PA. (*fig:polyv2*)\n",
       "\n",
       "</div><div id=\"qrcode\"><img src=https://api.qrserver.com/v1/create-qr-code/?size=100x100&data=\"https://arxiv.org/abs/2312.12125\"></div>"
      ],
      "text/plain": [
       "<IPython.core.display.Markdown object>"
      ]
     },
     "metadata": {},
     "output_type": "display_data"
    },
    {
     "data": {
      "text/markdown": [
       " as a function of redshift.  Red stars (orange pluses) are our QG (PSB) candidates. The red open star is the close companion source to JADES 172799 (172799b; Section \\ref{sec:rose}). Solid plus signs indicate our primary PSB sample, while open symbols are the secondary sample.  Only one PSB is a contaminant on the MS. White circles are galaxies in our parent sample not selected as QG or PSB. Purple x's are galaxies selected by the [ and Antwi-Danso (2023)]() NIRCam color selection (Section \\ref{sec:ncselection}) that are not in our sample.  (*fig:ms*)\n",
       "\n",
       "</div>\n",
       "<div id=\"div_fig3\">\n",
       "\n",
       "<img src=\"tmp_2312.12207/./uvj_comparison_w_inset.png\" alt=\"Fig7\" width=\"100%\"/>\n",
       "\n",
       "**Figure 7. -** The rest-frame UVJ colors of log $\\logM\\geq8.5$ galaxies in the JADES MIRI parallel footprint at $z=3-4$(left) and $z=4-6$(right).  Closed symbols colored by stellar mass are colors derived from SED modeling including the F770W datapoint.  Open gray symbols are colors derived from fits excluding F770W. The connecting lines show where sources move in UVJ space when MIRI is added. The red open star is the close companion source to JADES 172799 (172799b; Section \\ref{sec:rose}). The purple solid (dashed) shows the main (expanded) UVJ selection region for QGs from [ and Antwi-Danso (2023)](). The gray dotted line is the selection from B19, which extends past the standard $U-V$ boundary. The inset histogram shows that the color shifts are consistent within the measurement uncertainties (gray hatched region) for log $\\logM=8.5-9.5$(blue), but show a small systematic shift redward at higher masses (orange). (*fig:uvj*)\n",
       "\n",
       "</div><div id=\"qrcode\"><img src=https://api.qrserver.com/v1/create-qr-code/?size=100x100&data=\"https://arxiv.org/abs/2312.12207\"></div>"
      ],
      "text/plain": [
       "<IPython.core.display.Markdown object>"
      ]
     },
     "metadata": {},
     "output_type": "display_data"
    }
   ],
   "source": [
    "[display(Markdown(k[1])) for k in documents];"
   ]
  },
  {
   "cell_type": "markdown",
   "id": "873873a4",
   "metadata": {
    "papermill": {
     "duration": 0.005633,
     "end_time": "2023-12-20T04:05:00.541062",
     "exception": false,
     "start_time": "2023-12-20T04:05:00.535429",
     "status": "completed"
    },
    "tags": []
   },
   "source": [
    "# Create HTML index"
   ]
  },
  {
   "cell_type": "code",
   "execution_count": 9,
   "id": "cf665672",
   "metadata": {
    "execution": {
     "iopub.execute_input": "2023-12-20T04:05:00.552811Z",
     "iopub.status.busy": "2023-12-20T04:05:00.552614Z",
     "iopub.status.idle": "2023-12-20T04:05:00.561783Z",
     "shell.execute_reply": "2023-12-20T04:05:00.561278Z"
    },
    "papermill": {
     "duration": 0.01646,
     "end_time": "2023-12-20T04:05:00.563040",
     "exception": false,
     "start_time": "2023-12-20T04:05:00.546580",
     "status": "completed"
    },
    "tags": []
   },
   "outputs": [
    {
     "name": "stdout",
     "output_type": "stream",
     "text": [
      "346  publications files modified in the last 7 days.\n"
     ]
    }
   ],
   "source": [
    "from datetime import datetime, timedelta, timezone\n",
    "from glob import glob\n",
    "import os\n",
    "\n",
    "files = glob('_build/html/*.md')\n",
    "days = 7\n",
    "now = datetime.today()\n",
    "res = []\n",
    "for fk in files:\n",
    "    stat_result = os.stat(fk).st_ctime\n",
    "    modified = datetime.fromtimestamp(stat_result, tz=timezone.utc).replace(tzinfo=None)\n",
    "    delta = now.today() - modified\n",
    "    if delta <= timedelta(days=days):\n",
    "        res.append((delta.seconds, fk))\n",
    "res = [k[1] for k in reversed(sorted(res, key=lambda x:x[1]))]\n",
    "npub = len(res)\n",
    "print(len(res), f\" publications files modified in the last {days:d} days.\")\n",
    "# [ print('\\t', k) for k in res ];"
   ]
  },
  {
   "cell_type": "code",
   "execution_count": 10,
   "id": "015de740",
   "metadata": {
    "execution": {
     "iopub.execute_input": "2023-12-20T04:05:00.575510Z",
     "iopub.status.busy": "2023-12-20T04:05:00.575224Z",
     "iopub.status.idle": "2023-12-20T04:05:00.595706Z",
     "shell.execute_reply": "2023-12-20T04:05:00.595183Z"
    },
    "papermill": {
     "duration": 0.028209,
     "end_time": "2023-12-20T04:05:00.597030",
     "exception": false,
     "start_time": "2023-12-20T04:05:00.568821",
     "status": "completed"
    },
    "tags": []
   },
   "outputs": [
    {
     "name": "stdout",
     "output_type": "stream",
     "text": [
      "4  publications in the last 7 days.\n"
     ]
    }
   ],
   "source": [
    "import datetime\n",
    "from glob import glob\n",
    "\n",
    "def get_last_n_days(lst, days=1):\n",
    "    \"\"\" Get the documents from the last n days \"\"\"\n",
    "    sorted_lst = sorted(lst, key=lambda x: x[1], reverse=True)\n",
    "    for fname, date in sorted_lst:\n",
    "        if date >= str(datetime.date.today() - datetime.timedelta(days=days)):\n",
    "            yield fname\n",
    "\n",
    "def extract_appearance_dates(lst_file):\n",
    "    dates = []\n",
    "\n",
    "    def get_date(line):\n",
    "        return line\\\n",
    "            .split('Appeared on:')[-1]\\\n",
    "            .split('</mark>')[0].strip()\n",
    "\n",
    "    for fname in lst:\n",
    "        with open(fname, 'r') as f:\n",
    "            found_date = False\n",
    "            for line in f:\n",
    "                if not found_date:\n",
    "                    if \"Appeared on\" in line:\n",
    "                        found_date = True\n",
    "                        dates.append((fname, get_date(line)))\n",
    "                else:\n",
    "                    break\n",
    "    return dates\n",
    "\n",
    "from glob import glob\n",
    "lst = glob('_build/html/*md')\n",
    "days = 7\n",
    "dates = extract_appearance_dates(lst)\n",
    "res = list(get_last_n_days(dates, days))\n",
    "npub = len(res)\n",
    "print(len(res), f\" publications in the last {days:d} days.\")"
   ]
  },
  {
   "cell_type": "code",
   "execution_count": 11,
   "id": "52ca0208",
   "metadata": {
    "execution": {
     "iopub.execute_input": "2023-12-20T04:05:00.609378Z",
     "iopub.status.busy": "2023-12-20T04:05:00.609141Z",
     "iopub.status.idle": "2023-12-20T04:05:00.614115Z",
     "shell.execute_reply": "2023-12-20T04:05:00.613522Z"
    },
    "papermill": {
     "duration": 0.012697,
     "end_time": "2023-12-20T04:05:00.615434",
     "exception": false,
     "start_time": "2023-12-20T04:05:00.602737",
     "status": "completed"
    },
    "scrolled": false,
    "tags": []
   },
   "outputs": [],
   "source": [
    "def create_carousel(npub=4):\n",
    "    \"\"\" Generate the HTML code for a carousel with `npub` slides \"\"\"\n",
    "    carousel = [\"\"\"  <div class=\"carousel\" \"\"\",\n",
    "                \"\"\"       data-flickity='{ \"autoPlay\": 10000, \"adaptiveHeight\": true, \"resize\": true, \"wrapAround\": true, \"pauseAutoPlayOnHover\": true, \"groupCells\": 1 }' id=\"asyncTypeset\">\"\"\"\n",
    "                ]\n",
    "    \n",
    "    item_str = \"\"\"    <div class=\"carousel-cell\"> <div id=\"slide{k}\" class=\"md_view\">Content {k}</div> </div>\"\"\"\n",
    "    for k in range(1, npub + 1):\n",
    "        carousel.append(item_str.format(k=k))\n",
    "    carousel.append(\"  </div>\")\n",
    "    return '\\n'.join(carousel)\n",
    "\n",
    "def create_grid(npub=4):\n",
    "    \"\"\" Generate the HTML code for a flat grid with `npub` slides \"\"\"\n",
    "    grid = [\"\"\"  <div class=\"grid\"> \"\"\",\n",
    "                ]\n",
    "    \n",
    "    item_str = \"\"\"    <div class=\"grid-item\"> <div id=\"slide{k}\" class=\"md_view\">Content {k}</div> </div>\"\"\"\n",
    "    for k in range(1, npub + 1):\n",
    "        grid.append(item_str.format(k=k))\n",
    "    grid.append(\"  </div>\")\n",
    "    return '\\n'.join(grid)"
   ]
  },
  {
   "cell_type": "code",
   "execution_count": 12,
   "id": "a6eac5b6",
   "metadata": {
    "execution": {
     "iopub.execute_input": "2023-12-20T04:05:00.627950Z",
     "iopub.status.busy": "2023-12-20T04:05:00.627752Z",
     "iopub.status.idle": "2023-12-20T04:05:00.632511Z",
     "shell.execute_reply": "2023-12-20T04:05:00.631921Z"
    },
    "papermill": {
     "duration": 0.012671,
     "end_time": "2023-12-20T04:05:00.633838",
     "exception": false,
     "start_time": "2023-12-20T04:05:00.621167",
     "status": "completed"
    },
    "scrolled": false,
    "tags": []
   },
   "outputs": [],
   "source": [
    "carousel = create_carousel(npub)\n",
    "docs = ', '.join(['\"{0:s}\"'.format(k.split('/')[-1]) for k in res])\n",
    "slides = ', '.join([f'\"slide{k}\"' for k in range(1, npub + 1)])\n",
    "\n",
    "with open(\"daily_template.html\", \"r\") as tpl:\n",
    "    page = tpl.read()\n",
    "    page = page.replace(\"{%-- carousel:s --%}\", carousel)\\\n",
    "               .replace(\"{%-- suptitle:s --%}\",  \"7-day archives\" )\\\n",
    "               .replace(\"{%-- docs:s --%}\", docs)\\\n",
    "               .replace(\"{%-- slides:s --%}\", slides)\n",
    "    \n",
    "with open(\"_build/html/index_7days.html\", 'w') as fout:\n",
    "    fout.write(page)"
   ]
  },
  {
   "cell_type": "code",
   "execution_count": 13,
   "id": "adc1a1ec",
   "metadata": {
    "execution": {
     "iopub.execute_input": "2023-12-20T04:05:00.646713Z",
     "iopub.status.busy": "2023-12-20T04:05:00.646374Z",
     "iopub.status.idle": "2023-12-20T04:05:00.652893Z",
     "shell.execute_reply": "2023-12-20T04:05:00.652293Z"
    },
    "papermill": {
     "duration": 0.014396,
     "end_time": "2023-12-20T04:05:00.654147",
     "exception": false,
     "start_time": "2023-12-20T04:05:00.639751",
     "status": "completed"
    },
    "tags": []
   },
   "outputs": [
    {
     "name": "stdout",
     "output_type": "stream",
     "text": [
      "0  publications in the last day.\n"
     ]
    }
   ],
   "source": [
    "# redo for today\n",
    "days = 1\n",
    "res = list(get_last_n_days(dates, days))\n",
    "npub = len(res)\n",
    "print(len(res), f\" publications in the last day.\")\n",
    "\n",
    "carousel = create_carousel(npub)\n",
    "docs = ', '.join(['\"{0:s}\"'.format(k.split('/')[-1]) for k in res])\n",
    "slides = ', '.join([f'\"slide{k}\"' for k in range(1, npub + 1)])\n",
    "\n",
    "with open(\"daily_template.html\", \"r\") as tpl:\n",
    "    page = tpl.read()\n",
    "    page = page.replace(\"{%-- carousel:s --%}\", carousel)\\\n",
    "               .replace(\"{%-- suptitle:s --%}\",  \"Daily\" )\\\n",
    "               .replace(\"{%-- docs:s --%}\", docs)\\\n",
    "               .replace(\"{%-- slides:s --%}\", slides)\n",
    "    \n",
    "# print(carousel, docs, slides)\n",
    "# print(page)\n",
    "with open(\"_build/html/index_daily.html\", 'w') as fout:\n",
    "    fout.write(page)"
   ]
  },
  {
   "cell_type": "code",
   "execution_count": 14,
   "id": "00eece82",
   "metadata": {
    "execution": {
     "iopub.execute_input": "2023-12-20T04:05:00.666775Z",
     "iopub.status.busy": "2023-12-20T04:05:00.666537Z",
     "iopub.status.idle": "2023-12-20T04:05:00.672888Z",
     "shell.execute_reply": "2023-12-20T04:05:00.672382Z"
    },
    "papermill": {
     "duration": 0.014258,
     "end_time": "2023-12-20T04:05:00.674219",
     "exception": false,
     "start_time": "2023-12-20T04:05:00.659961",
     "status": "completed"
    },
    "scrolled": false,
    "tags": []
   },
   "outputs": [
    {
     "name": "stdout",
     "output_type": "stream",
     "text": [
      "6  6 publications selected.\n"
     ]
    }
   ],
   "source": [
    "# Create the flat grid of the last N papers (fixed number regardless of dates)\n",
    "from itertools import islice \n",
    "\n",
    "npub = 6\n",
    "res = [k[0] for k in (islice(reversed(sorted(dates, key=lambda x: x[1])), 6))]\n",
    "print(len(res), f\" {npub} publications selected.\")\n",
    "\n",
    "grid = create_grid(npub)\n",
    "docs = ', '.join(['\"{0:s}\"'.format(k.split('/')[-1]) for k in res])\n",
    "slides = ', '.join([f'\"slide{k}\"' for k in range(1, npub + 1)])\n",
    "\n",
    "with open(\"grid_template.html\", \"r\") as tpl:\n",
    "    page = tpl.read()\n",
    "    page = page.replace(\"{%-- grid-content:s --%}\", grid)\\\n",
    "               .replace(\"{%-- suptitle:s --%}\",  f\"Last {npub:,d} papers\" )\\\n",
    "               .replace(\"{%-- docs:s --%}\", docs)\\\n",
    "               .replace(\"{%-- slides:s --%}\", slides)\n",
    "    \n",
    "# print(grid, docs, slides)\n",
    "# print(page)\n",
    "with open(\"_build/html/index_npub_grid.html\", 'w') as fout:\n",
    "    fout.write(page)"
   ]
  }
 ],
 "metadata": {
  "kernelspec": {
   "display_name": "Python 3 (ipykernel)",
   "language": "python",
   "name": "python3"
  },
  "language_info": {
   "codemirror_mode": {
    "name": "ipython",
    "version": 3
   },
   "file_extension": ".py",
   "mimetype": "text/x-python",
   "name": "python",
   "nbconvert_exporter": "python",
   "pygments_lexer": "ipython3",
   "version": "3.9.18"
  },
  "papermill": {
   "default_parameters": {},
   "duration": 78.065454,
   "end_time": "2023-12-20T04:05:00.896193",
   "environment_variables": {},
   "exception": null,
   "input_path": "MPIA daily digest.ipynb",
   "output_path": "log.ipynb",
   "parameters": {},
   "start_time": "2023-12-20T04:03:42.830739",
   "version": "2.5.0"
  },
  "vscode": {
   "interpreter": {
    "hash": "aee8b7b246df8f9039afb4144a1f6fd8d2ca17a180786b69acc140d282b71a49"
   }
  },
  "widgets": {
   "application/vnd.jupyter.widget-state+json": {
    "state": {
     "00c0c4f9e87d4923862fc46eea59ba59": {
      "model_module": "@jupyter-widgets/controls",
      "model_module_version": "2.0.0",
      "model_name": "HBoxModel",
      "state": {
       "_dom_classes": [],
       "_model_module": "@jupyter-widgets/controls",
       "_model_module_version": "2.0.0",
       "_model_name": "HBoxModel",
       "_view_count": null,
       "_view_module": "@jupyter-widgets/controls",
       "_view_module_version": "2.0.0",
       "_view_name": "HBoxView",
       "box_style": "",
       "children": [
        "IPY_MODEL_a0414529d2ee4d2a9b71fb79b4b26fb5",
        "IPY_MODEL_b85559040d6a44b08ff91f98d753a28e",
        "IPY_MODEL_a95a20d6344d4654a5507a0578974c04"
       ],
       "layout": "IPY_MODEL_8d2ce306bed649f59a7035140773a8c6",
       "tabbable": null,
       "tooltip": null
      }
     },
     "0b691e2b7bc943438a3f0549ae05eb46": {
      "model_module": "@jupyter-widgets/base",
      "model_module_version": "2.0.0",
      "model_name": "LayoutModel",
      "state": {
       "_model_module": "@jupyter-widgets/base",
       "_model_module_version": "2.0.0",
       "_model_name": "LayoutModel",
       "_view_count": null,
       "_view_module": "@jupyter-widgets/base",
       "_view_module_version": "2.0.0",
       "_view_name": "LayoutView",
       "align_content": null,
       "align_items": null,
       "align_self": null,
       "border_bottom": null,
       "border_left": null,
       "border_right": null,
       "border_top": null,
       "bottom": null,
       "display": null,
       "flex": null,
       "flex_flow": null,
       "grid_area": null,
       "grid_auto_columns": null,
       "grid_auto_flow": null,
       "grid_auto_rows": null,
       "grid_column": null,
       "grid_gap": null,
       "grid_row": null,
       "grid_template_areas": null,
       "grid_template_columns": null,
       "grid_template_rows": null,
       "height": null,
       "justify_content": null,
       "justify_items": null,
       "left": null,
       "margin": null,
       "max_height": null,
       "max_width": null,
       "min_height": null,
       "min_width": null,
       "object_fit": null,
       "object_position": null,
       "order": null,
       "overflow": null,
       "padding": null,
       "right": null,
       "top": null,
       "visibility": null,
       "width": null
      }
     },
     "27ad59569e83436f91158959b54d40db": {
      "model_module": "@jupyter-widgets/base",
      "model_module_version": "2.0.0",
      "model_name": "LayoutModel",
      "state": {
       "_model_module": "@jupyter-widgets/base",
       "_model_module_version": "2.0.0",
       "_model_name": "LayoutModel",
       "_view_count": null,
       "_view_module": "@jupyter-widgets/base",
       "_view_module_version": "2.0.0",
       "_view_name": "LayoutView",
       "align_content": null,
       "align_items": null,
       "align_self": null,
       "border_bottom": null,
       "border_left": null,
       "border_right": null,
       "border_top": null,
       "bottom": null,
       "display": null,
       "flex": null,
       "flex_flow": null,
       "grid_area": null,
       "grid_auto_columns": null,
       "grid_auto_flow": null,
       "grid_auto_rows": null,
       "grid_column": null,
       "grid_gap": null,
       "grid_row": null,
       "grid_template_areas": null,
       "grid_template_columns": null,
       "grid_template_rows": null,
       "height": null,
       "justify_content": null,
       "justify_items": null,
       "left": null,
       "margin": null,
       "max_height": null,
       "max_width": null,
       "min_height": null,
       "min_width": null,
       "object_fit": null,
       "object_position": null,
       "order": null,
       "overflow": null,
       "padding": null,
       "right": null,
       "top": null,
       "visibility": null,
       "width": null
      }
     },
     "440cdb5b7be24b7090a4d42622a4f912": {
      "model_module": "@jupyter-widgets/base",
      "model_module_version": "2.0.0",
      "model_name": "LayoutModel",
      "state": {
       "_model_module": "@jupyter-widgets/base",
       "_model_module_version": "2.0.0",
       "_model_name": "LayoutModel",
       "_view_count": null,
       "_view_module": "@jupyter-widgets/base",
       "_view_module_version": "2.0.0",
       "_view_name": "LayoutView",
       "align_content": null,
       "align_items": null,
       "align_self": null,
       "border_bottom": null,
       "border_left": null,
       "border_right": null,
       "border_top": null,
       "bottom": null,
       "display": null,
       "flex": null,
       "flex_flow": null,
       "grid_area": null,
       "grid_auto_columns": null,
       "grid_auto_flow": null,
       "grid_auto_rows": null,
       "grid_column": null,
       "grid_gap": null,
       "grid_row": null,
       "grid_template_areas": null,
       "grid_template_columns": null,
       "grid_template_rows": null,
       "height": null,
       "justify_content": null,
       "justify_items": null,
       "left": null,
       "margin": null,
       "max_height": null,
       "max_width": null,
       "min_height": null,
       "min_width": null,
       "object_fit": null,
       "object_position": null,
       "order": null,
       "overflow": null,
       "padding": null,
       "right": null,
       "top": null,
       "visibility": null,
       "width": null
      }
     },
     "7b6cee4e04124b0687e902f541da6fa2": {
      "model_module": "@jupyter-widgets/controls",
      "model_module_version": "2.0.0",
      "model_name": "ProgressStyleModel",
      "state": {
       "_model_module": "@jupyter-widgets/controls",
       "_model_module_version": "2.0.0",
       "_model_name": "ProgressStyleModel",
       "_view_count": null,
       "_view_module": "@jupyter-widgets/base",
       "_view_module_version": "2.0.0",
       "_view_name": "StyleView",
       "bar_color": null,
       "description_width": ""
      }
     },
     "8d2ce306bed649f59a7035140773a8c6": {
      "model_module": "@jupyter-widgets/base",
      "model_module_version": "2.0.0",
      "model_name": "LayoutModel",
      "state": {
       "_model_module": "@jupyter-widgets/base",
       "_model_module_version": "2.0.0",
       "_model_name": "LayoutModel",
       "_view_count": null,
       "_view_module": "@jupyter-widgets/base",
       "_view_module_version": "2.0.0",
       "_view_name": "LayoutView",
       "align_content": null,
       "align_items": null,
       "align_self": null,
       "border_bottom": null,
       "border_left": null,
       "border_right": null,
       "border_top": null,
       "bottom": null,
       "display": null,
       "flex": null,
       "flex_flow": null,
       "grid_area": null,
       "grid_auto_columns": null,
       "grid_auto_flow": null,
       "grid_auto_rows": null,
       "grid_column": null,
       "grid_gap": null,
       "grid_row": null,
       "grid_template_areas": null,
       "grid_template_columns": null,
       "grid_template_rows": null,
       "height": null,
       "justify_content": null,
       "justify_items": null,
       "left": null,
       "margin": null,
       "max_height": null,
       "max_width": null,
       "min_height": null,
       "min_width": null,
       "object_fit": null,
       "object_position": null,
       "order": null,
       "overflow": null,
       "padding": null,
       "right": null,
       "top": null,
       "visibility": null,
       "width": null
      }
     },
     "94a1ef9d3ed544db97b654d94bbecdf9": {
      "model_module": "@jupyter-widgets/controls",
      "model_module_version": "2.0.0",
      "model_name": "HTMLStyleModel",
      "state": {
       "_model_module": "@jupyter-widgets/controls",
       "_model_module_version": "2.0.0",
       "_model_name": "HTMLStyleModel",
       "_view_count": null,
       "_view_module": "@jupyter-widgets/base",
       "_view_module_version": "2.0.0",
       "_view_name": "StyleView",
       "background": null,
       "description_width": "",
       "font_size": null,
       "text_color": null
      }
     },
     "a0414529d2ee4d2a9b71fb79b4b26fb5": {
      "model_module": "@jupyter-widgets/controls",
      "model_module_version": "2.0.0",
      "model_name": "HTMLModel",
      "state": {
       "_dom_classes": [],
       "_model_module": "@jupyter-widgets/controls",
       "_model_module_version": "2.0.0",
       "_model_name": "HTMLModel",
       "_view_count": null,
       "_view_module": "@jupyter-widgets/controls",
       "_view_module_version": "2.0.0",
       "_view_name": "HTMLView",
       "description": "",
       "description_allow_html": false,
       "layout": "IPY_MODEL_440cdb5b7be24b7090a4d42622a4f912",
       "placeholder": "​",
       "style": "IPY_MODEL_94a1ef9d3ed544db97b654d94bbecdf9",
       "tabbable": null,
       "tooltip": null,
       "value": "100%"
      }
     },
     "a95a20d6344d4654a5507a0578974c04": {
      "model_module": "@jupyter-widgets/controls",
      "model_module_version": "2.0.0",
      "model_name": "HTMLModel",
      "state": {
       "_dom_classes": [],
       "_model_module": "@jupyter-widgets/controls",
       "_model_module_version": "2.0.0",
       "_model_name": "HTMLModel",
       "_view_count": null,
       "_view_module": "@jupyter-widgets/controls",
       "_view_module_version": "2.0.0",
       "_view_name": "HTMLView",
       "description": "",
       "description_allow_html": false,
       "layout": "IPY_MODEL_0b691e2b7bc943438a3f0549ae05eb46",
       "placeholder": "​",
       "style": "IPY_MODEL_d118675ef8c54412ae8fd1c5f26ef1a1",
       "tabbable": null,
       "tooltip": null,
       "value": " 7/7 [00:56&lt;00:00,  8.81s/it]"
      }
     },
     "b85559040d6a44b08ff91f98d753a28e": {
      "model_module": "@jupyter-widgets/controls",
      "model_module_version": "2.0.0",
      "model_name": "FloatProgressModel",
      "state": {
       "_dom_classes": [],
       "_model_module": "@jupyter-widgets/controls",
       "_model_module_version": "2.0.0",
       "_model_name": "FloatProgressModel",
       "_view_count": null,
       "_view_module": "@jupyter-widgets/controls",
       "_view_module_version": "2.0.0",
       "_view_name": "ProgressView",
       "bar_style": "success",
       "description": "",
       "description_allow_html": false,
       "layout": "IPY_MODEL_27ad59569e83436f91158959b54d40db",
       "max": 7.0,
       "min": 0.0,
       "orientation": "horizontal",
       "style": "IPY_MODEL_7b6cee4e04124b0687e902f541da6fa2",
       "tabbable": null,
       "tooltip": null,
       "value": 7.0
      }
     },
     "d118675ef8c54412ae8fd1c5f26ef1a1": {
      "model_module": "@jupyter-widgets/controls",
      "model_module_version": "2.0.0",
      "model_name": "HTMLStyleModel",
      "state": {
       "_model_module": "@jupyter-widgets/controls",
       "_model_module_version": "2.0.0",
       "_model_name": "HTMLStyleModel",
       "_view_count": null,
       "_view_module": "@jupyter-widgets/base",
       "_view_module_version": "2.0.0",
       "_view_name": "StyleView",
       "background": null,
       "description_width": "",
       "font_size": null,
       "text_color": null
      }
     }
    },
    "version_major": 2,
    "version_minor": 0
   }
  }
 },
 "nbformat": 4,
 "nbformat_minor": 5
}