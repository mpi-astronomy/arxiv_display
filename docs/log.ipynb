{
 "cells": [
  {
   "cell_type": "markdown",
   "id": "92bcb855",
   "metadata": {
    "papermill": {
     "duration": 0.005886,
     "end_time": "2022-10-21T04:55:16.360154",
     "exception": false,
     "start_time": "2022-10-21T04:55:16.354268",
     "status": "completed"
    },
    "tags": []
   },
   "source": [
    "# MPIA Arxiv on Deck 2\n",
    "\n",
    "Contains the steps to produce the paper extractions."
   ]
  },
  {
   "cell_type": "code",
   "execution_count": 1,
   "id": "3a0d6e11",
   "metadata": {
    "execution": {
     "iopub.execute_input": "2022-10-21T04:55:16.370586Z",
     "iopub.status.busy": "2022-10-21T04:55:16.369997Z",
     "iopub.status.idle": "2022-10-21T04:55:16.540852Z",
     "shell.execute_reply": "2022-10-21T04:55:16.539556Z"
    },
    "papermill": {
     "duration": 0.178098,
     "end_time": "2022-10-21T04:55:16.542991",
     "exception": false,
     "start_time": "2022-10-21T04:55:16.364893",
     "status": "completed"
    },
    "tags": []
   },
   "outputs": [],
   "source": [
    "# Imports\n",
    "import os\n",
    "from IPython.display import Markdown, display\n",
    "from tqdm.notebook import tqdm\n",
    "import warnings\n",
    "from PIL import Image \n",
    "\n",
    "# requires arxiv_on_deck_2\n",
    "\n",
    "from arxiv_on_deck_2.arxiv2 import (get_new_papers, \n",
    "                                    get_paper_from_identifier,\n",
    "                                    retrieve_document_source, \n",
    "                                    get_markdown_badge)\n",
    "from arxiv_on_deck_2 import (latex, \n",
    "                             mpia,\n",
    "                             highlight_authors_in_list)\n",
    "\n",
    "# Sometimes images are really big\n",
    "Image.MAX_IMAGE_PIXELS = 1000000000 "
   ]
  },
  {
   "cell_type": "code",
   "execution_count": 2,
   "id": "22aa9d44",
   "metadata": {
    "execution": {
     "iopub.execute_input": "2022-10-21T04:55:16.554551Z",
     "iopub.status.busy": "2022-10-21T04:55:16.552863Z",
     "iopub.status.idle": "2022-10-21T04:55:16.559952Z",
     "shell.execute_reply": "2022-10-21T04:55:16.558875Z"
    },
    "papermill": {
     "duration": 0.013601,
     "end_time": "2022-10-21T04:55:16.561365",
     "exception": false,
     "start_time": "2022-10-21T04:55:16.547764",
     "status": "completed"
    },
    "tags": []
   },
   "outputs": [],
   "source": [
    "# Some useful definitions.\n",
    "\n",
    "class AffiliationWarning(UserWarning):\n",
    "    pass\n",
    "\n",
    "class AffiliationError(RuntimeError):\n",
    "    pass\n",
    "\n",
    "def validation(source: str):\n",
    "    \"\"\"Raises error paper during parsing of source file\n",
    "    \n",
    "    Allows checks before parsing TeX code.\n",
    "    \n",
    "    Raises AffiliationWarning\n",
    "    \"\"\"\n",
    "    check = mpia.affiliation_verifications(source, verbose=True)\n",
    "    if check is not True:\n",
    "        raise AffiliationError(\"mpia.affiliation_verifications: \" + check)\n",
    "\n",
    "        \n",
    "warnings.simplefilter('always', AffiliationWarning)"
   ]
  },
  {
   "cell_type": "code",
   "execution_count": 3,
   "id": "14622700",
   "metadata": {
    "execution": {
     "iopub.execute_input": "2022-10-21T04:55:16.572076Z",
     "iopub.status.busy": "2022-10-21T04:55:16.571625Z",
     "iopub.status.idle": "2022-10-21T04:55:16.575404Z",
     "shell.execute_reply": "2022-10-21T04:55:16.574747Z"
    },
    "papermill": {
     "duration": 0.011911,
     "end_time": "2022-10-21T04:55:16.577115",
     "exception": false,
     "start_time": "2022-10-21T04:55:16.565204",
     "status": "completed"
    },
    "tags": []
   },
   "outputs": [],
   "source": [
    "# additional CSS to consider. \n",
    "# TODO: Current into each exported file. \n",
    "#       This should be set once into the webpages directly.\n",
    "#       With only the class/id definitions in the .md files.\n",
    "\n",
    "debug_html = \"\"\"\n",
    "<style>\n",
    "#wrap{ overflow:auto; }\n",
    "#fig1{ background:yellow; width:100%; float:left; padding:5px;  }\n",
    "#fig2{ background:red; width:50%; float:left; clear:left; padding:5px;  }\n",
    "#fig3{ background:green; width:50%; float:left; padding:5px;   }\n",
    ".macros{ background:yellow; visibility:visible;}\n",
    "h1 {margin: 0 0 0 0;}\n",
    "mark {background-color:#fff3b6;}\n",
    "img {object-fit:contain; max-height:250px; display:inline-block; text-align: center;}\n",
    "</style>\n",
    "\"\"\" \n",
    "html = \"\"\"\n",
    "<style>\n",
    "#wrap{ overflow:auto; }\n",
    "#fig1{ width:100%; float:left; padding: 5px;  }\n",
    "#fig2{ width:50%; float:left; clear:left; padding: 5px;  }\n",
    "#fig3{ width:50%; float:left; padding: 5px;  }\n",
    ".macros{ visibility:hidden; height:0px; }\n",
    "h1 {margin: 0em 0 0 0;}\n",
    "mark {background-color:#fff3b6;}\n",
    "img {object-fit:contain; max-height:250px; display:inline-block; text-align: center;}\n",
    "</style>\n",
    "\"\"\""
   ]
  },
  {
   "cell_type": "markdown",
   "id": "14bd6310",
   "metadata": {
    "papermill": {
     "duration": 0.003842,
     "end_time": "2022-10-21T04:55:16.584756",
     "exception": false,
     "start_time": "2022-10-21T04:55:16.580914",
     "status": "completed"
    },
    "tags": []
   },
   "source": [
    "## get list of arxiv paper candidates\n",
    "\n",
    "We use the MPIA mitarbeiter list webpage from mpia.de to get author names\n",
    "We then get all new papers from Arxiv and match authors"
   ]
  },
  {
   "cell_type": "code",
   "execution_count": 4,
   "id": "2645e73a",
   "metadata": {
    "execution": {
     "iopub.execute_input": "2022-10-21T04:55:16.593963Z",
     "iopub.status.busy": "2022-10-21T04:55:16.593402Z",
     "iopub.status.idle": "2022-10-21T04:55:41.275125Z",
     "shell.execute_reply": "2022-10-21T04:55:41.273064Z"
    },
    "papermill": {
     "duration": 24.688392,
     "end_time": "2022-10-21T04:55:41.277038",
     "exception": false,
     "start_time": "2022-10-21T04:55:16.588646",
     "status": "completed"
    },
    "tags": []
   },
   "outputs": [
    {
     "name": "stdout",
     "output_type": "stream",
     "text": [
      "Arxiv has 64 new papers today\n",
      "          26 with possible author matches\n"
     ]
    }
   ],
   "source": [
    "# get list from MPIA website\n",
    "# it automatically filters identified non-scientists :func:`mpia.filter_non_scientists`\n",
    "mpia_authors = mpia.get_mpia_mitarbeiter_list()\n",
    "new_papers = get_new_papers()\n",
    "# add manual references\n",
    "add_paper_refs = []\n",
    "new_papers.extend([get_paper_from_identifier(k) for k in add_paper_refs])\n",
    "\n",
    "# select only papers with matching author names and highlight authors\n",
    "hl_list = [k[0] for k in mpia_authors]\n",
    "\n",
    "candidates = []\n",
    "for paperk in new_papers:\n",
    "    hl_authors = highlight_authors_in_list(paperk['authors'], hl_list)\n",
    "    matches = [(hl, orig) for hl, orig in zip(hl_authors, paperk['authors']) if 'mark' in hl]\n",
    "    paperk['authors'] = hl_authors\n",
    "    if matches:\n",
    "        candidates.append(paperk)\n",
    "print(\"\"\"Arxiv has {0:,d} new papers today\"\"\".format(len(new_papers)))        \n",
    "print(\"\"\"          {0:,d} with possible author matches\"\"\".format(len(candidates)))"
   ]
  },
  {
   "cell_type": "markdown",
   "id": "3543b34a",
   "metadata": {
    "papermill": {
     "duration": 0.00425,
     "end_time": "2022-10-21T04:55:41.286123",
     "exception": false,
     "start_time": "2022-10-21T04:55:41.281873",
     "status": "completed"
    },
    "tags": []
   },
   "source": [
    "# Parse sources and generate relevant outputs\n",
    "\n",
    "From the candidates, we do the following steps:\n",
    "* get their tarball from ArXiv (and extract data)\n",
    "* find the main .tex file: find one with \\documentclass{...} (sometimes it's non trivial)\n",
    "* Check affiliations with :func:`validation`, which uses :func:`mpia.affiliation_verifications`\n",
    "* If passing the affiliations: we parse the .tex source\n",
    "   * inject sub-documents into the main (flatten the main document)\n",
    "   * parse structure, extract information (title, abstract, authors, figures...)\n",
    "   * handles `\\graphicspath` if provided\n",
    "* Generate the .md document."
   ]
  },
  {
   "cell_type": "code",
   "execution_count": 5,
   "id": "9576b79e",
   "metadata": {
    "execution": {
     "iopub.execute_input": "2022-10-21T04:55:41.295983Z",
     "iopub.status.busy": "2022-10-21T04:55:41.295154Z",
     "iopub.status.idle": "2022-10-21T04:56:17.905656Z",
     "shell.execute_reply": "2022-10-21T04:56:17.904951Z"
    },
    "papermill": {
     "duration": 36.617682,
     "end_time": "2022-10-21T04:56:17.907770",
     "exception": false,
     "start_time": "2022-10-21T04:55:41.290088",
     "status": "completed"
    },
    "scrolled": false,
    "tags": []
   },
   "outputs": [
    {
     "data": {
      "application/vnd.jupyter.widget-view+json": {
       "model_id": "64cbf27f32b8471ebd063d5dc8888701",
       "version_major": 2,
       "version_minor": 0
      },
      "text/plain": [
       "  0%|          | 0/25 [00:00<?, ?it/s]"
      ]
     },
     "metadata": {},
     "output_type": "display_data"
    },
    {
     "name": "stdout",
     "output_type": "stream",
     "text": [
      "Retrieving document from  https://arxiv.org/e-print/2210.10778\n"
     ]
    },
    {
     "name": "stdout",
     "output_type": "stream",
     "text": [
      "extracting tarball to tmp_2210.10778..."
     ]
    },
    {
     "name": "stdout",
     "output_type": "stream",
     "text": [
      " done.\n",
      "Retrieving document from  https://arxiv.org/e-print/2210.10789\n"
     ]
    },
    {
     "name": "stdout",
     "output_type": "stream",
     "text": [
      "extracting tarball to tmp_2210.10789..."
     ]
    },
    {
     "name": "stdout",
     "output_type": "stream",
     "text": [
      " done.\n",
      "Retrieving document from  https://arxiv.org/e-print/2210.10793\n"
     ]
    },
    {
     "name": "stdout",
     "output_type": "stream",
     "text": [
      "extracting tarball to tmp_2210.10793..."
     ]
    },
    {
     "name": "stdout",
     "output_type": "stream",
     "text": [
      " done.\n",
      "Retrieving document from  https://arxiv.org/e-print/2210.10802\n"
     ]
    },
    {
     "name": "stderr",
     "output_type": "stream",
     "text": [
      "/opt/hostedtoolcache/Python/3.9.15/x64/lib/python3.9/site-packages/IPython/core/interactiveshell.py:3378: LatexWarning: Multiple tex files.\n",
      "\n",
      "  exec(code_obj, self.user_global_ns, self.user_ns)\n",
      "/opt/hostedtoolcache/Python/3.9.15/x64/lib/python3.9/site-packages/IPython/core/interactiveshell.py:3378: LatexWarning: Found documentclass in tmp_2210.10793/mnras_guide.tex\n",
      "\n",
      "  exec(code_obj, self.user_global_ns, self.user_ns)\n"
     ]
    },
    {
     "name": "stdout",
     "output_type": "stream",
     "text": [
      "extracting tarball to tmp_2210.10802..."
     ]
    },
    {
     "name": "stdout",
     "output_type": "stream",
     "text": [
      " done.\n",
      "Retrieving document from  https://arxiv.org/e-print/2210.10803\n"
     ]
    },
    {
     "name": "stderr",
     "output_type": "stream",
     "text": [
      "/opt/hostedtoolcache/Python/3.9.15/x64/lib/python3.9/site-packages/IPython/core/interactiveshell.py:3378: LatexWarning: Multiple tex files.\n",
      "\n",
      "  exec(code_obj, self.user_global_ns, self.user_ns)\n",
      "/opt/hostedtoolcache/Python/3.9.15/x64/lib/python3.9/site-packages/IPython/core/interactiveshell.py:3378: LatexWarning: Found documentclass in tmp_2210.10802/main.tex\n",
      "\n",
      "  exec(code_obj, self.user_global_ns, self.user_ns)\n",
      "/opt/hostedtoolcache/Python/3.9.15/x64/lib/python3.9/site-packages/arxiv_on_deck_2/latex.py:292: LatexWarning: Latex injecting: 'ack.tex' from 'tmp_2210.10802/ack.tex'\n",
      "  warnings.warn(LatexWarning(f\"Latex injecting: '{ext}' from '{subsource}'\"))\n",
      "/opt/hostedtoolcache/Python/3.9.15/x64/lib/python3.9/site-packages/arxiv_on_deck_2/latex.py:292: LatexWarning: Latex injecting: 'authors' from 'tmp_2210.10802/authors.tex'\n",
      "  warnings.warn(LatexWarning(f\"Latex injecting: '{ext}' from '{subsource}'\"))\n",
      "/opt/hostedtoolcache/Python/3.9.15/x64/lib/python3.9/site-packages/arxiv_on_deck_2/latex.py:292: LatexWarning: Latex injecting: 'commands' from 'tmp_2210.10802/commands.tex'\n",
      "  warnings.warn(LatexWarning(f\"Latex injecting: '{ext}' from '{subsource}'\"))\n"
     ]
    },
    {
     "name": "stdout",
     "output_type": "stream",
     "text": [
      "extracting tarball to tmp_2210.10803..."
     ]
    },
    {
     "name": "stdout",
     "output_type": "stream",
     "text": [
      " done.\n",
      "Retrieving document from  https://arxiv.org/e-print/2210.10805\n"
     ]
    },
    {
     "name": "stderr",
     "output_type": "stream",
     "text": [
      "/opt/hostedtoolcache/Python/3.9.15/x64/lib/python3.9/site-packages/IPython/core/interactiveshell.py:3378: LatexWarning: Multiple tex files.\n",
      "\n",
      "  exec(code_obj, self.user_global_ns, self.user_ns)\n",
      "/opt/hostedtoolcache/Python/3.9.15/x64/lib/python3.9/site-packages/IPython/core/interactiveshell.py:3378: LatexWarning: Found documentclass in tmp_2210.10803/main.tex\n",
      "\n",
      "  exec(code_obj, self.user_global_ns, self.user_ns)\n",
      "/opt/hostedtoolcache/Python/3.9.15/x64/lib/python3.9/site-packages/arxiv_on_deck_2/latex.py:292: LatexWarning: Latex injecting: 'affiliations' from 'tmp_2210.10803/affiliations.tex'\n",
      "  warnings.warn(LatexWarning(f\"Latex injecting: '{ext}' from '{subsource}'\"))\n"
     ]
    },
    {
     "name": "stdout",
     "output_type": "stream",
     "text": [
      "extracting tarball to tmp_2210.10805..."
     ]
    },
    {
     "name": "stdout",
     "output_type": "stream",
     "text": [
      " done.\n",
      "Retrieving document from  https://arxiv.org/e-print/2210.10810\n"
     ]
    },
    {
     "name": "stderr",
     "output_type": "stream",
     "text": [
      "/opt/hostedtoolcache/Python/3.9.15/x64/lib/python3.9/site-packages/IPython/core/interactiveshell.py:3378: LatexWarning: Multiple tex files.\n",
      "\n",
      "  exec(code_obj, self.user_global_ns, self.user_ns)\n",
      "/opt/hostedtoolcache/Python/3.9.15/x64/lib/python3.9/site-packages/IPython/core/interactiveshell.py:3378: LatexWarning: Found documentclass in tmp_2210.10805/mnras_template.tex\n",
      "\n",
      "  exec(code_obj, self.user_global_ns, self.user_ns)\n",
      "/opt/hostedtoolcache/Python/3.9.15/x64/lib/python3.9/site-packages/arxiv_on_deck_2/latex.py:292: LatexWarning: Latex injecting: 'Tables/tab_speckle_contamination' from 'tmp_2210.10805/Tables/tab_speckle_contamination.tex'\n",
      "  warnings.warn(LatexWarning(f\"Latex injecting: '{ext}' from '{subsource}'\"))\n",
      "/opt/hostedtoolcache/Python/3.9.15/x64/lib/python3.9/site-packages/arxiv_on_deck_2/latex.py:292: LatexWarning: Latex injecting: 'Tables/tab_epic211436876' from 'tmp_2210.10805/Tables/tab_epic211436876.tex'\n",
      "  warnings.warn(LatexWarning(f\"Latex injecting: '{ext}' from '{subsource}'\"))\n",
      "/opt/hostedtoolcache/Python/3.9.15/x64/lib/python3.9/site-packages/arxiv_on_deck_2/latex.py:292: LatexWarning: Latex injecting: 'Tables/tab_epic247560727' from 'tmp_2210.10805/Tables/tab_epic247560727.tex'\n",
      "  warnings.warn(LatexWarning(f\"Latex injecting: '{ext}' from '{subsource}'\"))\n",
      "/opt/hostedtoolcache/Python/3.9.15/x64/lib/python3.9/site-packages/arxiv_on_deck_2/latex.py:292: LatexWarning: Latex injecting: 'Tables/tab_epic247422570' from 'tmp_2210.10805/Tables/tab_epic247422570.tex'\n",
      "  warnings.warn(LatexWarning(f\"Latex injecting: '{ext}' from '{subsource}'\"))\n",
      "/opt/hostedtoolcache/Python/3.9.15/x64/lib/python3.9/site-packages/arxiv_on_deck_2/latex.py:292: LatexWarning: Latex injecting: 'Tables/tab_epic218701083' from 'tmp_2210.10805/Tables/tab_epic218701083.tex'\n",
      "  warnings.warn(LatexWarning(f\"Latex injecting: '{ext}' from '{subsource}'\"))\n",
      "/opt/hostedtoolcache/Python/3.9.15/x64/lib/python3.9/site-packages/arxiv_on_deck_2/latex.py:292: LatexWarning: Latex injecting: 'Tables/tab_planets' from 'tmp_2210.10805/Tables/tab_planets.tex'\n",
      "  warnings.warn(LatexWarning(f\"Latex injecting: '{ext}' from '{subsource}'\"))\n",
      "/opt/hostedtoolcache/Python/3.9.15/x64/lib/python3.9/site-packages/arxiv_on_deck_2/latex.py:292: LatexWarning: Latex injecting: 'Tables/tab_stars' from 'tmp_2210.10805/Tables/tab_stars.tex'\n",
      "  warnings.warn(LatexWarning(f\"Latex injecting: '{ext}' from '{subsource}'\"))\n",
      "/opt/hostedtoolcache/Python/3.9.15/x64/lib/python3.9/site-packages/arxiv_on_deck_2/latex.py:292: LatexWarning: Latex injecting: 'Tables/tab_obs' from 'tmp_2210.10805/Tables/tab_obs.tex'\n",
      "  warnings.warn(LatexWarning(f\"Latex injecting: '{ext}' from '{subsource}'\"))\n",
      "/opt/hostedtoolcache/Python/3.9.15/x64/lib/python3.9/site-packages/arxiv_on_deck_2/latex.py:292: LatexWarning: Latex injecting: 'newcommands.tex' from 'tmp_2210.10805/newcommands.tex'\n",
      "  warnings.warn(LatexWarning(f\"Latex injecting: '{ext}' from '{subsource}'\"))\n"
     ]
    },
    {
     "name": "stdout",
     "output_type": "stream",
     "text": [
      "extracting tarball to tmp_2210.10810... done.\n",
      "Retrieving document from  https://arxiv.org/e-print/2210.10811\n"
     ]
    },
    {
     "name": "stderr",
     "output_type": "stream",
     "text": [
      "/opt/hostedtoolcache/Python/3.9.15/x64/lib/python3.9/site-packages/IPython/core/interactiveshell.py:3378: LatexWarning: Multiple tex files.\n",
      "\n",
      "  exec(code_obj, self.user_global_ns, self.user_ns)\n",
      "/opt/hostedtoolcache/Python/3.9.15/x64/lib/python3.9/site-packages/IPython/core/interactiveshell.py:3378: LatexWarning: Found documentclass in tmp_2210.10810/zmain.tex\n",
      "\n",
      "  exec(code_obj, self.user_global_ns, self.user_ns)\n",
      "/opt/hostedtoolcache/Python/3.9.15/x64/lib/python3.9/site-packages/arxiv_on_deck_2/latex.py:292: LatexWarning: Latex injecting: 'affil' from 'tmp_2210.10810/affil.tex'\n",
      "  warnings.warn(LatexWarning(f\"Latex injecting: '{ext}' from '{subsource}'\"))\n"
     ]
    },
    {
     "name": "stdout",
     "output_type": "stream",
     "text": [
      "extracting tarball to tmp_2210.10811..."
     ]
    },
    {
     "name": "stdout",
     "output_type": "stream",
     "text": [
      " done.\n",
      "Retrieving document from  https://arxiv.org/e-print/2210.10812\n"
     ]
    },
    {
     "name": "stderr",
     "output_type": "stream",
     "text": [
      "/opt/hostedtoolcache/Python/3.9.15/x64/lib/python3.9/site-packages/IPython/core/interactiveshell.py:3378: LatexWarning: Multiple tex files.\n",
      "\n",
      "  exec(code_obj, self.user_global_ns, self.user_ns)\n",
      "/opt/hostedtoolcache/Python/3.9.15/x64/lib/python3.9/site-packages/IPython/core/interactiveshell.py:3378: LatexWarning: Found documentclass in tmp_2210.10811/zmain.tex\n",
      "\n",
      "  exec(code_obj, self.user_global_ns, self.user_ns)\n",
      "/opt/hostedtoolcache/Python/3.9.15/x64/lib/python3.9/site-packages/arxiv_on_deck_2/latex.py:292: LatexWarning: Latex injecting: 'affil' from 'tmp_2210.10811/affil.tex'\n",
      "  warnings.warn(LatexWarning(f\"Latex injecting: '{ext}' from '{subsource}'\"))\n"
     ]
    },
    {
     "name": "stdout",
     "output_type": "stream",
     "text": [
      "extracting tarball to tmp_2210.10812..."
     ]
    },
    {
     "name": "stdout",
     "output_type": "stream",
     "text": [
      " done.\n",
      "Retrieving document from  https://arxiv.org/e-print/2210.10815\n"
     ]
    },
    {
     "name": "stderr",
     "output_type": "stream",
     "text": [
      "/opt/hostedtoolcache/Python/3.9.15/x64/lib/python3.9/site-packages/IPython/core/interactiveshell.py:3378: LatexWarning: Multiple tex files.\n",
      "\n",
      "  exec(code_obj, self.user_global_ns, self.user_ns)\n",
      "/opt/hostedtoolcache/Python/3.9.15/x64/lib/python3.9/site-packages/IPython/core/interactiveshell.py:3378: LatexWarning: Found documentclass in tmp_2210.10812/main.tex\n",
      "\n",
      "  exec(code_obj, self.user_global_ns, self.user_ns)\n",
      "/opt/hostedtoolcache/Python/3.9.15/x64/lib/python3.9/site-packages/arxiv_on_deck_2/latex.py:292: LatexWarning: Latex injecting: 'GW_table.tex' from 'tmp_2210.10812/GW_table.tex'\n",
      "  warnings.warn(LatexWarning(f\"Latex injecting: '{ext}' from '{subsource}'\"))\n",
      "/opt/hostedtoolcache/Python/3.9.15/x64/lib/python3.9/site-packages/arxiv_on_deck_2/latex.py:292: LatexWarning: Latex injecting: 'EM_table.tex' from 'tmp_2210.10812/EM_table.tex'\n",
      "  warnings.warn(LatexWarning(f\"Latex injecting: '{ext}' from '{subsource}'\"))\n"
     ]
    },
    {
     "name": "stdout",
     "output_type": "stream",
     "text": [
      "extracting tarball to tmp_2210.10815..."
     ]
    },
    {
     "name": "stdout",
     "output_type": "stream",
     "text": [
      " done.\n",
      "Retrieving document from  https://arxiv.org/e-print/2210.10827\n"
     ]
    },
    {
     "name": "stdout",
     "output_type": "stream",
     "text": [
      "extracting tarball to tmp_2210.10827..."
     ]
    },
    {
     "name": "stdout",
     "output_type": "stream",
     "text": [
      " done.\n",
      "Retrieving document from  https://arxiv.org/e-print/2210.10853\n"
     ]
    },
    {
     "name": "stdout",
     "output_type": "stream",
     "text": [
      "extracting tarball to tmp_2210.10853..."
     ]
    },
    {
     "name": "stdout",
     "output_type": "stream",
     "text": [
      " done.\n",
      "Retrieving document from  https://arxiv.org/e-print/2210.10877\n"
     ]
    },
    {
     "name": "stdout",
     "output_type": "stream",
     "text": [
      "extracting tarball to tmp_2210.10877..."
     ]
    },
    {
     "name": "stdout",
     "output_type": "stream",
     "text": [
      " done.\n",
      "Retrieving document from  https://arxiv.org/e-print/2210.10884\n"
     ]
    },
    {
     "name": "stdout",
     "output_type": "stream",
     "text": [
      "extracting tarball to tmp_2210.10884..."
     ]
    },
    {
     "name": "stdout",
     "output_type": "stream",
     "text": [
      " done.\n",
      "Retrieving document from  https://arxiv.org/e-print/2210.10909\n"
     ]
    },
    {
     "name": "stdout",
     "output_type": "stream",
     "text": [
      "extracting tarball to tmp_2210.10909..."
     ]
    },
    {
     "name": "stdout",
     "output_type": "stream",
     "text": [
      " done.\n",
      "Retrieving document from  https://arxiv.org/e-print/2210.11077\n"
     ]
    },
    {
     "name": "stdout",
     "output_type": "stream",
     "text": [
      "extracting tarball to tmp_2210.11077..."
     ]
    },
    {
     "name": "stdout",
     "output_type": "stream",
     "text": [
      " done.\n",
      "Retrieving document from  https://arxiv.org/e-print/2210.11093\n"
     ]
    },
    {
     "name": "stdout",
     "output_type": "stream",
     "text": [
      "extracting tarball to tmp_2210.11093... done.\n",
      "Retrieving document from  https://arxiv.org/e-print/2210.11103\n"
     ]
    },
    {
     "name": "stderr",
     "output_type": "stream",
     "text": [
      "/opt/hostedtoolcache/Python/3.9.15/x64/lib/python3.9/site-packages/IPython/core/interactiveshell.py:3378: LatexWarning: Multiple tex files.\n",
      "\n",
      "  exec(code_obj, self.user_global_ns, self.user_ns)\n",
      "/opt/hostedtoolcache/Python/3.9.15/x64/lib/python3.9/site-packages/IPython/core/interactiveshell.py:3378: LatexWarning: Found documentclass in tmp_2210.11093/mnras_guide.tex\n",
      "\n",
      "  exec(code_obj, self.user_global_ns, self.user_ns)\n"
     ]
    },
    {
     "name": "stdout",
     "output_type": "stream",
     "text": [
      "extracting tarball to tmp_2210.11103..."
     ]
    },
    {
     "name": "stdout",
     "output_type": "stream",
     "text": [
      " done.\n"
     ]
    },
    {
     "name": "stdout",
     "output_type": "stream",
     "text": [
      "Retrieving document from  https://arxiv.org/e-print/2210.11207\n"
     ]
    },
    {
     "name": "stdout",
     "output_type": "stream",
     "text": [
      "extracting tarball to tmp_2210.11207..."
     ]
    },
    {
     "name": "stdout",
     "output_type": "stream",
     "text": [
      " done.\n",
      "Retrieving document from  https://arxiv.org/e-print/2210.11244\n"
     ]
    },
    {
     "name": "stdout",
     "output_type": "stream",
     "text": [
      "extracting tarball to tmp_2210.11244..."
     ]
    },
    {
     "name": "stdout",
     "output_type": "stream",
     "text": [
      " done.\n",
      "Retrieving document from  https://arxiv.org/e-print/2210.11293\n"
     ]
    },
    {
     "name": "stdout",
     "output_type": "stream",
     "text": [
      "extracting tarball to tmp_2210.11293..."
     ]
    },
    {
     "name": "stdout",
     "output_type": "stream",
     "text": [
      " done.\n",
      "Retrieving document from  https://arxiv.org/e-print/2210.11329\n"
     ]
    },
    {
     "name": "stderr",
     "output_type": "stream",
     "text": [
      "/opt/hostedtoolcache/Python/3.9.15/x64/lib/python3.9/site-packages/IPython/core/interactiveshell.py:3378: LatexWarning: Multiple tex files.\n",
      "\n",
      "  exec(code_obj, self.user_global_ns, self.user_ns)\n",
      "/opt/hostedtoolcache/Python/3.9.15/x64/lib/python3.9/site-packages/IPython/core/interactiveshell.py:3378: LatexWarning: Found documentclass in tmp_2210.11293/paper.tex\n",
      "\n",
      "  exec(code_obj, self.user_global_ns, self.user_ns)\n",
      "/opt/hostedtoolcache/Python/3.9.15/x64/lib/python3.9/site-packages/arxiv_on_deck_2/latex.py:292: LatexWarning: Latex injecting: 'data' from 'tmp_2210.11293/data.tex'\n",
      "  warnings.warn(LatexWarning(f\"Latex injecting: '{ext}' from '{subsource}'\"))\n",
      "/opt/hostedtoolcache/Python/3.9.15/x64/lib/python3.9/site-packages/arxiv_on_deck_2/latex.py:292: LatexWarning: Latex injecting: 'acknowledgements' from 'tmp_2210.11293/acknowledgements.tex'\n",
      "  warnings.warn(LatexWarning(f\"Latex injecting: '{ext}' from '{subsource}'\"))\n",
      "/opt/hostedtoolcache/Python/3.9.15/x64/lib/python3.9/site-packages/arxiv_on_deck_2/latex.py:292: LatexWarning: Latex injecting: 'conclusions' from 'tmp_2210.11293/conclusions.tex'\n",
      "  warnings.warn(LatexWarning(f\"Latex injecting: '{ext}' from '{subsource}'\"))\n",
      "/opt/hostedtoolcache/Python/3.9.15/x64/lib/python3.9/site-packages/arxiv_on_deck_2/latex.py:292: LatexWarning: Latex injecting: 'commissioning' from 'tmp_2210.11293/commissioning.tex'\n",
      "  warnings.warn(LatexWarning(f\"Latex injecting: '{ext}' from '{subsource}'\"))\n",
      "/opt/hostedtoolcache/Python/3.9.15/x64/lib/python3.9/site-packages/arxiv_on_deck_2/latex.py:292: LatexWarning: Latex injecting: 'acquisition' from 'tmp_2210.11293/acquisition.tex'\n",
      "  warnings.warn(LatexWarning(f\"Latex injecting: '{ext}' from '{subsource}'\"))\n",
      "/opt/hostedtoolcache/Python/3.9.15/x64/lib/python3.9/site-packages/arxiv_on_deck_2/latex.py:292: LatexWarning: Latex injecting: 'noise' from 'tmp_2210.11293/noise.tex'\n",
      "  warnings.warn(LatexWarning(f\"Latex injecting: '{ext}' from '{subsource}'\"))\n",
      "/opt/hostedtoolcache/Python/3.9.15/x64/lib/python3.9/site-packages/arxiv_on_deck_2/latex.py:292: LatexWarning: Latex injecting: 'rss' from 'tmp_2210.11293/rss.tex'\n",
      "  warnings.warn(LatexWarning(f\"Latex injecting: '{ext}' from '{subsource}'\"))\n",
      "/opt/hostedtoolcache/Python/3.9.15/x64/lib/python3.9/site-packages/arxiv_on_deck_2/latex.py:292: LatexWarning: Latex injecting: 'introduction' from 'tmp_2210.11293/introduction.tex'\n",
      "  warnings.warn(LatexWarning(f\"Latex injecting: '{ext}' from '{subsource}'\"))\n",
      "/opt/hostedtoolcache/Python/3.9.15/x64/lib/python3.9/site-packages/arxiv_on_deck_2/latex.py:292: LatexWarning: Latex injecting: 'abstract' from 'tmp_2210.11293/abstract.tex'\n",
      "  warnings.warn(LatexWarning(f\"Latex injecting: '{ext}' from '{subsource}'\"))\n"
     ]
    },
    {
     "name": "stdout",
     "output_type": "stream",
     "text": [
      "extracting tarball to tmp_2210.11329... done.\n",
      "Retrieving document from  https://arxiv.org/e-print/2210.11333\n"
     ]
    },
    {
     "name": "stdout",
     "output_type": "stream",
     "text": [
      "extracting tarball to tmp_2210.11333..."
     ]
    },
    {
     "name": "stdout",
     "output_type": "stream",
     "text": [
      " done.\n",
      "Retrieving document from  https://arxiv.org/e-print/2210.11360\n"
     ]
    },
    {
     "name": "stdout",
     "output_type": "stream",
     "text": [
      "extracting tarball to tmp_2210.11360..."
     ]
    },
    {
     "name": "stdout",
     "output_type": "stream",
     "text": [
      " done.\n",
      "Retrieving document from  https://arxiv.org/e-print/2210.11424\n"
     ]
    },
    {
     "name": "stdout",
     "output_type": "stream",
     "text": [
      "extracting tarball to tmp_2210.11424..."
     ]
    },
    {
     "name": "stdout",
     "output_type": "stream",
     "text": [
      " done.\n"
     ]
    },
    {
     "name": "stderr",
     "output_type": "stream",
     "text": [
      "/opt/hostedtoolcache/Python/3.9.15/x64/lib/python3.9/site-packages/IPython/core/interactiveshell.py:3378: LatexWarning: Multiple tex files.\n",
      "\n",
      "  exec(code_obj, self.user_global_ns, self.user_ns)\n",
      "/opt/hostedtoolcache/Python/3.9.15/x64/lib/python3.9/site-packages/IPython/core/interactiveshell.py:3378: LatexWarning: Found documentclass in tmp_2210.11424/main.tex\n",
      "\n",
      "  exec(code_obj, self.user_global_ns, self.user_ns)\n",
      "/opt/hostedtoolcache/Python/3.9.15/x64/lib/python3.9/site-packages/arxiv_on_deck_2/latex.py:292: LatexWarning: Latex injecting: 'Appendix' from 'tmp_2210.11424/Appendix.tex'\n",
      "  warnings.warn(LatexWarning(f\"Latex injecting: '{ext}' from '{subsource}'\"))\n",
      "/opt/hostedtoolcache/Python/3.9.15/x64/lib/python3.9/site-packages/arxiv_on_deck_2/latex.py:292: LatexWarning: Latex injecting: 'Discussion' from 'tmp_2210.11424/Discussion.tex'\n",
      "  warnings.warn(LatexWarning(f\"Latex injecting: '{ext}' from '{subsource}'\"))\n",
      "/opt/hostedtoolcache/Python/3.9.15/x64/lib/python3.9/site-packages/arxiv_on_deck_2/latex.py:292: LatexWarning: Latex injecting: 'Results' from 'tmp_2210.11424/Results.tex'\n",
      "  warnings.warn(LatexWarning(f\"Latex injecting: '{ext}' from '{subsource}'\"))\n",
      "/opt/hostedtoolcache/Python/3.9.15/x64/lib/python3.9/site-packages/arxiv_on_deck_2/latex.py:292: LatexWarning: Latex injecting: 'Meassurements' from 'tmp_2210.11424/Meassurements.tex'\n",
      "  warnings.warn(LatexWarning(f\"Latex injecting: '{ext}' from '{subsource}'\"))\n",
      "/opt/hostedtoolcache/Python/3.9.15/x64/lib/python3.9/site-packages/arxiv_on_deck_2/latex.py:292: LatexWarning: Latex injecting: 'Sample' from 'tmp_2210.11424/Sample.tex'\n",
      "  warnings.warn(LatexWarning(f\"Latex injecting: '{ext}' from '{subsource}'\"))\n",
      "/opt/hostedtoolcache/Python/3.9.15/x64/lib/python3.9/site-packages/arxiv_on_deck_2/latex.py:292: LatexWarning: Latex injecting: 'Tremaine_Weinberg' from 'tmp_2210.11424/Tremaine_Weinberg.tex'\n",
      "  warnings.warn(LatexWarning(f\"Latex injecting: '{ext}' from '{subsource}'\"))\n",
      "/opt/hostedtoolcache/Python/3.9.15/x64/lib/python3.9/site-packages/arxiv_on_deck_2/latex.py:292: LatexWarning: Latex injecting: 'Data' from 'tmp_2210.11424/Data.tex'\n",
      "  warnings.warn(LatexWarning(f\"Latex injecting: '{ext}' from '{subsource}'\"))\n",
      "/opt/hostedtoolcache/Python/3.9.15/x64/lib/python3.9/site-packages/arxiv_on_deck_2/latex.py:292: LatexWarning: Latex injecting: 'Introduction' from 'tmp_2210.11424/Introduction.tex'\n",
      "  warnings.warn(LatexWarning(f\"Latex injecting: '{ext}' from '{subsource}'\"))\n"
     ]
    }
   ],
   "source": [
    "documents = []\n",
    "failed = []\n",
    "for paper in tqdm(candidates[:-1]):\n",
    "    paper_id = paper['identifier'].lower().replace('arxiv:', '')\n",
    "    \n",
    "    folder = f'tmp_{paper_id}'\n",
    "\n",
    "    try:\n",
    "        if not os.path.isdir(folder):\n",
    "            folder = retrieve_document_source(f\"{paper_id}\", f'tmp_{paper_id}')\n",
    "        \n",
    "        try:\n",
    "            doc = latex.LatexDocument(folder, validation=validation)    \n",
    "        except AffiliationError as affilerror:\n",
    "            msg = f\"ArXiv:{paper_id:s} is not an MPIA paper... \" + str(affilerror)\n",
    "            failed.append((paper, \"affiliation error: \" + str(affilerror) ))\n",
    "            continue\n",
    "        \n",
    "        # Hack because sometimes author parsing does not work well\n",
    "        if (len(doc.authors) != len(paper['authors'])):\n",
    "            doc._authors = paper['authors']\n",
    "        if (doc.abstract) in (None, ''):\n",
    "            doc._abstract = paper['abstract']\n",
    "            \n",
    "        doc.comment = (get_markdown_badge(paper_id) + \n",
    "                       \"<mark>Appeared on: \" + paper['date'] + \"</mark> - \" +\n",
    "                       \"_\" + paper['comments'] + \"_\")\n",
    "        doc.highlight_authors_in_list(hl_list)\n",
    "\n",
    "        full_md = doc.generate_markdown_text()\n",
    "        \n",
    "        documents.append((paper_id, full_md))\n",
    "    except Exception as e:\n",
    "        warnings.warn(latex.LatexWarning(f\"{paper_id:s} did not run properly\\n\" +\n",
    "                                         str(e)\n",
    "                                        ))\n",
    "        failed.append((paper, \"latex error \" + str(e)))"
   ]
  },
  {
   "cell_type": "markdown",
   "id": "2505a25c",
   "metadata": {
    "papermill": {
     "duration": 0.007148,
     "end_time": "2022-10-21T04:56:17.922250",
     "exception": false,
     "start_time": "2022-10-21T04:56:17.915102",
     "status": "completed"
    },
    "tags": []
   },
   "source": [
    "### Export the logs\n",
    "\n",
    "Throughout, we also keep track of the logs per paper. see `logs-{today date}.md` "
   ]
  },
  {
   "cell_type": "code",
   "execution_count": 6,
   "id": "d733828a",
   "metadata": {
    "execution": {
     "iopub.execute_input": "2022-10-21T04:56:17.937896Z",
     "iopub.status.busy": "2022-10-21T04:56:17.937271Z",
     "iopub.status.idle": "2022-10-21T04:56:17.972816Z",
     "shell.execute_reply": "2022-10-21T04:56:17.971840Z"
    },
    "papermill": {
     "duration": 0.045211,
     "end_time": "2022-10-21T04:56:17.974325",
     "exception": false,
     "start_time": "2022-10-21T04:56:17.929114",
     "status": "completed"
    },
    "scrolled": false,
    "tags": []
   },
   "outputs": [
    {
     "data": {
      "text/markdown": [
       "## Successful papers"
      ],
      "text/plain": [
       "<IPython.core.display.Markdown object>"
      ]
     },
     "metadata": {},
     "output_type": "display_data"
    },
    {
     "data": {
      "text/markdown": [
       "\n",
       "|||\n",
       "|---:|:---|\n",
       "| [![arXiv](https://img.shields.io/badge/arXiv-arXiv:2210.11103-b31b1b.svg)](https://arxiv.org/abs/arXiv:2210.11103) | **Lower-than-expected flare temperatures for TRAPPIST-1**  |\n",
       "|| A. J. Maas, et al. -- incl., <mark>C.-L. Lin</mark> |\n",
       "|*Appeared on*| *2022-10-21*|\n",
       "|*Comments*| *17 pages, 11 figures, 2 tables, accepted for publication in A&A*|\n",
       "|**Abstract**| Although high energetic radiation from flares is a potential threat to exoplanet atmospheres and may lead to surface sterilization, it might also provide the extra energy for low-mass stars needed to trigger and sustain prebiotic chemistry. We investigate two flares on TRAPPIST-1, an ultra-cool dwarf star that hosts seven exoplanets of which three lie within its habitable zone. The flares are detected in all four passbands of the MuSCAT2 allowing a determination of their temperatures and bolometric energies. We analyzed the light curves of the MuSCAT1 and MuSCAT2 instruments obtained between 2016 and 2021 in $g,r,i,z_\\mathrm{s}$-filters. We conducted an automated flare search and visually confirmed possible flare events. We studied the temperature evolution, the global temperature, and the peak temperature of both flares. For the first time we infer effective black body temperatures of flares that occurred on TRAPPIST-1. The black body temperatures for the two TRAPPIST-1 flares derived from the SED are consistent with $T_\\mathrm{SED} = 7940_{-390}^{+430}$K and $T_\\mathrm{SED} = 6030_{-270}^{+300}$K. The flare black body temperatures at the peak are also calculated from the peak SED yielding $T_\\mathrm{SEDp} = 13620_{-1220}^{1520}$K and $T_\\mathrm{SEDp} = 8290_{-550}^{+660}$K. We show that for the ultra-cool M-dwarf TRAPPIST-1 the flare black body temperatures associated with the total continuum emission are lower and not consistent with the usually adopted assumption of 9000-10000 K. This could imply different and faster cooling mechanisms. Further multi-color observations are needed to investigate whether or not our observations are a general characteristic of ultra-cool M-dwarfs. This would have significant implications for the habitability of exoplanets around these stars because the UV surface flux is likely to be overestimated by the models with higher flare temperatures. |"
      ],
      "text/plain": [
       "[arXiv:2210.11103] Lower-than-expected flare temperatures for TRAPPIST-1\n",
       "\tA. J. Maas, et al. -- incl., <mark>C.-L. Lin</mark>"
      ]
     },
     "metadata": {},
     "output_type": "display_data"
    },
    {
     "data": {
      "text/markdown": [
       "## Failed papers"
      ],
      "text/plain": [
       "<IPython.core.display.Markdown object>"
      ]
     },
     "metadata": {},
     "output_type": "display_data"
    },
    {
     "data": {
      "text/markdown": [
       "\n",
       "|||\n",
       "|---:|:---|\n",
       "| [![arXiv](https://img.shields.io/badge/arXiv-arXiv:2210.10909-b31b1b.svg)](https://arxiv.org/abs/arXiv:2210.10909) | **TOI-3884 b: A rare 6-R$_{\\oplus}$ planet that transits a low-mass star  with a giant and likely polar spot**  |\n",
       "|| J.M. Almenara, et al. -- incl., <mark>R.P. Schwarz</mark>, <mark>J.J. Lissauer</mark> |\n",
       "|*Appeared on*| *2022-10-21*|\n",
       "|*Comments*| *13 pages, 13 figures, accepted for publication in A&A Letters*|\n",
       "|**Abstract**| The Transiting Exoplanet Survey Satellite mission identified a deep and asymmetric transit-like signal with a periodicity of 4.5 days orbiting the M4 dwarf star TOI-3884. The signal has been confirmed by follow-up observations collected by the ExTrA facility and Las Cumbres Observatory Global Telescope, which reveal that the transit is chromatic. The light curves are well modelled by a host star having a large polar spot transited by a 6-R$_{\\oplus}$ planet. We validate the planet with seeing-limited photometry, high-resolution imaging, and radial velocities. TOI-3884 b, with a radius of $6.00 \\pm 0.18$ R$_{\\oplus}$, is the first sub-Saturn planet transiting a mid-M dwarf. Owing to the host star's brightness and small size, it has one of the largest transmission spectroscopy metrics for this planet size and becomes a top target for atmospheric characterisation with the James Webb Space Telescope and ground-based telescopes. |\n",
       "|<p style=\"color:green\"> **ERROR** </p>| <p style=\"color:green\">affiliation error: mpia.affiliation_verifications: '69117' keyword not found.</p> |"
      ],
      "text/plain": [
       "<IPython.core.display.Markdown object>"
      ]
     },
     "metadata": {},
     "output_type": "display_data"
    },
    {
     "data": {
      "text/markdown": [
       "\n",
       "|||\n",
       "|---:|:---|\n",
       "| [![arXiv](https://img.shields.io/badge/arXiv-arXiv:2210.10778-b31b1b.svg)](https://arxiv.org/abs/arXiv:2210.10778) | **Standard physics is still capable to interpret $\\sim$18 TeV photons from  GRB~221009A**  |\n",
       "|| <mark>Zhi-Chao Zhao</mark>, Yong Zhou, Sai Wang |\n",
       "|*Appeared on*| *2022-10-21*|\n",
       "|*Comments*| *4 pages, 2 figures*|\n",
       "|**Abstract**| It is reported that the Large High Altitude Air Shower Observatory (LHAASO) observed thousands of very-high-energy photons up to $\\sim$18 TeV from GRB 221009A. We study the survival rate of these photons by considering the fact that they are absorbed by the extragalactic background light. By performing a set of $10^6$ Monte-Carlo simulations, we explore the parameter space allowed by current observations and find that the probability of predicting that LHAASO observes at least one photons of 18 TeV from GRB 221009A within 2000 seconds is 4--5\\%. Hence, it is still possible for the standard physics to interpret LHAASO's observation in the energy range of several TeV. Our method can be straightforwardly generalized to study more data sets of LHAASO and other experiments in the future. |\n",
       "|<p style=\"color:green\"> **ERROR** </p>| <p style=\"color:green\">affiliation error: mpia.affiliation_verifications: 'Heidelberg' keyword not found.</p> |"
      ],
      "text/plain": [
       "<IPython.core.display.Markdown object>"
      ]
     },
     "metadata": {},
     "output_type": "display_data"
    },
    {
     "data": {
      "text/markdown": [
       "\n",
       "|||\n",
       "|---:|:---|\n",
       "| [![arXiv](https://img.shields.io/badge/arXiv-arXiv:2210.10789-b31b1b.svg)](https://arxiv.org/abs/arXiv:2210.10789) | **A Low-Mass, Pre-Main Sequence Eclipsing Binary in the 40 Myr Columba  Association -- Fundamental Stellar Parameters and Modeling the Effect of Star  Spots**  |\n",
       "|| Benjamin M. Tofflemire, et al. -- incl., <mark>Carl Ziegler</mark> |\n",
       "|*Appeared on*| *2022-10-21*|\n",
       "|*Comments*| *31 pages, 18 figures, submitted to AAS Journals*|\n",
       "|**Abstract**| Young eclipsing binaries (EBs) are powerful probes of early stellar evolution. Current models are unable to simultaneously reproduce the measured and derived properties that are accessible for EB systems (e.g., mass, radius, temperature, luminosity). In this study we add a benchmark EB to the pre-main sequence population with our characterization of TOI 450 (TIC 77951245). Using \\gaia\\ astrometry to identify its comoving, coeval companions, we confirm TOI 450 is a member of the $\\sim$40 Myr Columba association. This eccentric ($e=0.2969$), equal-mass ($q=1.000$) system provides only one grazing eclipse. Despite this, our analysis achieves the precision of a double-eclipsing system by leveraging information in our high-resolution spectra to place priors on the surface-brightness and radius ratios. We also introduce a framework to include the effect of star spots on the observed eclipse depths. Multi-color eclipse light curves play a critical role in breaking degeneracies between the effects of star spots and limb-darkening. Including star spots reduces the derived radii by $\\sim$2\\% from a unspotted model ($>2\\sigma$) and inflates the formal uncertainty in accordance with our lack of knowledge regarding the star spot orientation. We derive masses of 0.1768($\\pm$0.0004) and 0.1767($\\pm$0.0003) $M_\\odot$, and radii of 0.345($\\pm$0.006) and 0.346($\\pm$0.006) $R_\\odot$ for the primary and secondary, respectively. We compare these measurements to multiple stellar evolution isochones, finding good agreement with the association age. The MESA MIST and SPOTS ($f_{\\rm s}=0.17$) isochrones perform the best across our comparisons, but detailed agreement depends heavily on the quantities being compared. |\n",
       "|<p style=\"color:green\"> **ERROR** </p>| <p style=\"color:green\">affiliation error: mpia.affiliation_verifications: 'Heidelberg' keyword not found.</p> |"
      ],
      "text/plain": [
       "<IPython.core.display.Markdown object>"
      ]
     },
     "metadata": {},
     "output_type": "display_data"
    },
    {
     "data": {
      "text/markdown": [
       "\n",
       "|||\n",
       "|---:|:---|\n",
       "| [![arXiv](https://img.shields.io/badge/arXiv-arXiv:2210.10793-b31b1b.svg)](https://arxiv.org/abs/arXiv:2210.10793) | **LeMoN: Lens Modelling with Neural networks -- I. Automated modelling of  strong gravitational lenses with Bayesian Neural Networks**  |\n",
       "|| <mark>Fabrizio Gentile</mark>, et al. -- incl., <mark>Rui Li</mark> |\n",
       "|*Appeared on*| *2022-10-21*|\n",
       "|*Comments*| *Submitted to MNRAS; The code will be available on GitHub upon acceptance of the paper*|\n",
       "|**Abstract**| The unprecedented number of gravitational lenses expected from new-generation facilities such as the ESA Euclid telescope and the Vera Rubin Observatory makes it crucial to rethink our classical approach to lens-modelling. In this paper, we present LeMoN (Lens Modelling with Neural networks): a new machine-learning algorithm able to analyse hundreds of thousands of gravitational lenses in a reasonable amount of time. The algorithm is based on a Bayesian Neural Network: a new generation of neural networks able to associate a reliable confidence interval to each predicted parameter. We train the algorithm to predict the three main parameters of the Singular Isothermal Ellipsoid model (the Einstein radius and the two components of the ellipticity) by employing two simulated datasets built to resemble the imaging capabilities of the Hubble Space Telescope and the forthcoming Euclid satellite. In this work, we assess the accuracy of the algorithm and the reliability of the estimated uncertainties by applying the network to several simulated datasets of 10.000 images each. We obtain accuracies comparable to previous studies present in the current literature and an average modelling time of just 0.5s per lens. Finally, we apply the LeMoN algorithm to a pilot dataset of real lenses observed with HST during the SLACS program, obtaining unbiased estimates of their SIE parameters. The code is publicly available on GitHub (https://github.com/fab-gentile/LeMoN). |\n",
       "|<p style=\"color:green\"> **ERROR** </p>| <p style=\"color:green\">affiliation error: mpia.affiliation_verifications: 'Heidelberg' keyword not found.</p> |"
      ],
      "text/plain": [
       "<IPython.core.display.Markdown object>"
      ]
     },
     "metadata": {},
     "output_type": "display_data"
    },
    {
     "data": {
      "text/markdown": [
       "\n",
       "|||\n",
       "|---:|:---|\n",
       "| [![arXiv](https://img.shields.io/badge/arXiv-arXiv:2210.10802-b31b1b.svg)](https://arxiv.org/abs/arXiv:2210.10802) | **Identification of Galaxy-Galaxy Strong Lens Candidates in the DECam  Local Volume Exploration Survey Using Machine Learning**  |\n",
       "|| E. Zaborowski, et al. -- incl., <mark>C. E. Martínez-Vázquez</mark> |\n",
       "|*Appeared on*| *2022-10-21*|\n",
       "|*Comments*| **|\n",
       "|**Abstract**| We perform a search for galaxy-galaxy strong lens systems using a convolutional neural network (CNN) applied to imaging data from the first public data release of the DECam Local Volume Exploration Survey (DELVE), which contains $\\sim 520$ million astronomical sources covering $\\sim 4,000$ $\\mathrm{deg}^2$ of the southern sky to a $5\\sigma$ point-source depth of $g=24.3$, $r=23.9$, $i=23.3$, and $z=22.8$ mag. Following the methodology of similar searches using DECam data, we select a catalog of $\\sim 11$ million extended astronomical sources with $16 < g < 22$, $17.2 < r < 22$, $15 < i < 21$, $0 < g - i < 3$, and $-0.2 < g - r < 1.75$. After scoring with our CNN, the highest scoring 50,000 images were visually inspected and assigned a score on a scale from 0 (definitely not a lens) to 3 (very probable lens). We present a list of 617 strong lens candidates, 599 of which are previously unreported. We additionally highlight 8 potential quadruply lensed quasars from this sample. Due to the location of our search footprint in the northern Galactic cap ($b > 10$ deg) and southern celestial hemisphere (${\\rm Dec.}<0$ deg), our candidate list has little overlap with other existing ground-based searches. Where our search footprint does overlap with other searches, we find a significant number of high-quality candidates which were previously unidentified, indicating a degree of orthogonality in our methodology. We categorize our candidates using their human-assigned scores and report properties including apparent magnitude and Einstein radius estimated from the image separation. |\n",
       "|<p style=\"color:green\"> **ERROR** </p>| <p style=\"color:green\">affiliation error: mpia.affiliation_verifications: 'Heidelberg' keyword not found.</p> |"
      ],
      "text/plain": [
       "<IPython.core.display.Markdown object>"
      ]
     },
     "metadata": {},
     "output_type": "display_data"
    },
    {
     "data": {
      "text/markdown": [
       "\n",
       "|||\n",
       "|---:|:---|\n",
       "| [![arXiv](https://img.shields.io/badge/arXiv-arXiv:2210.10803-b31b1b.svg)](https://arxiv.org/abs/arXiv:2210.10803) | **GOGREEN: a critical assessment of environmental trends in cosmological  hydrodynamical simulations at z ~ 1**  |\n",
       "|| Egidijus Kukstas, et al. -- incl., <mark>Chris Lidman</mark>, <mark>Dennis Zaritsky</mark> |\n",
       "|*Appeared on*| *2022-10-21*|\n",
       "|*Comments*| *20 pages, 10 figures, resubmitted to MNRAS following minor revisions*|\n",
       "|**Abstract**| Recent observations have shown that the environmental quenching of galaxies at z ~ 1 is qualitatively different to that in the local Universe. However, the physical origin of these differences has not yet been elucidated. In addition, while low-redshift comparisons between observed environmental trends and the predictions of cosmological hydrodynamical simulations are now routine, there have been relatively few comparisons at higher redshifts to date. Here we confront three state-of-the-art suites of simulations (BAHAMAS+MACSIS, EAGLE+Hydrangea, IllustrisTNG) with state-of-the-art observations of the field and cluster environments from the COSMOS/UltraVISTA and GOGREEN surveys, respectively, at z ~ 1 to assess the realism of the simulations and gain insight into the evolution of environmental quenching. We show that while the simulations generally reproduce the stellar content and the stellar mass functions of quiescent and star-forming galaxies in the field, all the simulations struggle to capture the observed quenching of satellites in the cluster environment, in that they are overly efficient at quenching low-mass satellites. Furthermore, two of the suites do not sufficiently quench the highest-mass galaxies in clusters, perhaps a result of insufficient feedback from AGN. The origin of the discrepancy at low stellar masses (Mstar <~ 1E10 Msun), which is present in all the simulations in spite of large differences in resolution, feedback implementations, and hydrodynamical solvers, is unclear. The next generation of simulations, which will push to significantly higher resolution and also include explicit modelling of the cold interstellar medium, may help to shed light on the low-mass tension. |\n",
       "|<p style=\"color:green\"> **ERROR** </p>| <p style=\"color:green\">affiliation error: mpia.affiliation_verifications: 'Heidelberg' keyword not found.</p> |"
      ],
      "text/plain": [
       "<IPython.core.display.Markdown object>"
      ]
     },
     "metadata": {},
     "output_type": "display_data"
    },
    {
     "data": {
      "text/markdown": [
       "\n",
       "|||\n",
       "|---:|:---|\n",
       "| [![arXiv](https://img.shields.io/badge/arXiv-arXiv:2210.10805-b31b1b.svg)](https://arxiv.org/abs/arXiv:2210.10805) | **TFAW survey II: 6 Newly Validated Planets and 13 Planet Candidates from  K2**  |\n",
       "|| D. del Ser, et al. -- incl., <mark>C. Ziegler</mark> |\n",
       "|*Appeared on*| *2022-10-21*|\n",
       "|*Comments*| *Submitted to Monthly Notices of the Royal Astronomical Society. 25 pages, 14 figures*|\n",
       "|**Abstract**| Searching for Earth-sized planets in data from Kepler's extended mission (K2) is a niche that still remains to be fully exploited. The TFAW survey is an ongoing project that aims to re-analyze all light curves in K2 C1-C8 and C12-C18 campaigns with a wavelet-based detrending and denoising method, and the period search algorithm TLS to search for new transit candidates not detected in previous works. We have analyzed a first subset of 24 candidate planetary systems around relatively faint host stars (10.9 < $K_{p}$ < 15.4) to allow for follow-up speckle imaging observations. Using VESPA and TRICERATOPS, we statistically validate six candidates orbiting four unique host stars by obtaining false-positive probabilities smaller than 1% with both methods. We also present 13 vetted planet candidates that might benefit from other, more precise follow-up observations. All of these planets are sub-Neptune-sized, with two validated planets and three candidates with sub-Earth sizes, and have orbital periods between 0.81 and 23.98 days. Some interesting systems include two ultra-short-period planets, three multi-planetary systems, three sub-Neptunes that appear to be within the small planet Radius Gap, and two validated and one candidate sub-Earths (EPIC 210706310, EPIC 210768568, and EPIC 246078343) orbiting metal-poor stars. |\n",
       "|<p style=\"color:green\"> **ERROR** </p>| <p style=\"color:green\">affiliation error: mpia.affiliation_verifications: 'Heidelberg' keyword not found.</p> |"
      ],
      "text/plain": [
       "<IPython.core.display.Markdown object>"
      ]
     },
     "metadata": {},
     "output_type": "display_data"
    },
    {
     "data": {
      "text/markdown": [
       "\n",
       "|||\n",
       "|---:|:---|\n",
       "| [![arXiv](https://img.shields.io/badge/arXiv-arXiv:2210.10810-b31b1b.svg)](https://arxiv.org/abs/arXiv:2210.10810) | **Identifying Tidal Disruption Events with an Expansion of the FLEET  Machine Learning Algorithm**  |\n",
       "|| Sebastian Gomez, et al. -- incl., <mark>V. Ashley Villar</mark> |\n",
       "|*Appeared on*| *2022-10-21*|\n",
       "|*Comments*| *17 pages, 12 figures, submitted to ApJ*|\n",
       "|**Abstract**| We present an expansion of FLEET, a machine learning algorithm optimized to select transients that are most likely to be tidal disruption events (TDEs). FLEET is based on a random forest algorithm trained on the light curves and host galaxy information of 4,779 spectroscopically classified transients. For transients with a probability of being a TDE, \\ptde$>0.5$, we can successfully recover TDEs with a $\\approx40$\\% completeness and a $\\approx30$\\% purity when using the first 20 days of photometry, or a similar completeness and $\\approx50$\\% purity when including 40 days of photometry. We find that the most relevant features for differentiating TDEs from other transients are the normalized host separation, and the light curve $(g-r)$ color during peak. Additionally, we use FLEET to produce a list of the 39 most likely TDE candidates discovered by the Zwicky Transient Facility that remain currently unclassified. We explore the use of FLEET for the Legacy Survey of Space and Time on the Vera C. Rubin Observatory (\\textit{Rubin}) and the \\textit{Nancy Grace Roman Space Telescope} (\\textit{Roman}). We simulate the \\textit{Rubin} and \\textit{Roman} survey strategies and estimate that $\\sim 10^4$ TDEs could be discovered every year by \\textit{Rubin}, and $\\sim200$ TDEs per year by \\textit{Roman}. Finally, we run FLEET on the TDEs in our \\textit{Rubin} survey simulation and find that we can recover $\\sim 30$\\% of those at a redshift $z <0.5$ with \\ptde$>0.5$. This translates to $\\sim3,000$ TDEs per year that FLEET could uncover from \\textit{Rubin}. FLEET is provided as a open source package on GitHub https://github.com/gmzsebastian/FLEET |\n",
       "|<p style=\"color:green\"> **ERROR** </p>| <p style=\"color:green\">affiliation error: mpia.affiliation_verifications: 'Heidelberg' keyword not found.</p> |"
      ],
      "text/plain": [
       "<IPython.core.display.Markdown object>"
      ]
     },
     "metadata": {},
     "output_type": "display_data"
    },
    {
     "data": {
      "text/markdown": [
       "\n",
       "|||\n",
       "|---:|:---|\n",
       "| [![arXiv](https://img.shields.io/badge/arXiv-arXiv:2210.10811-b31b1b.svg)](https://arxiv.org/abs/arXiv:2210.10811) | **The First Two Years of FLEET: an Active Search for Superluminous  Supernovae**  |\n",
       "|| Sebastian Gomez, et al. -- incl., <mark>V. Ashley Villar</mark> |\n",
       "|*Appeared on*| *2022-10-21*|\n",
       "|*Comments*| *10 pages, 3 figures, submitted to ApJ*|\n",
       "|**Abstract**| In November 2019 we began operating FLEET (Finding Luminous and Exotic Extragalactic Transients), a machine learning algorithm designed to photometrically identify Type I superluminous supernovae (SLSNe) in transient alert streams. Using FLEET, we spectroscopically classified 21 of the 50 SLSNe identified worldwide between November 2019 and January 2022. Based on our original algorithm, we anticipated that FLEET would achieve a purity of about 50\\% for transients with a probability of being a SLSN, \\pslsn$>0.5$; the true on-sky purity we obtained is closer to 80\\%. Similarly, we anticipated FLEET could reach a completeness of about 30\\%, and we indeed measure an upper limit on the completeness of $\\approx 33$\\%. Here, we present FLEET 2.0, an updated version of FLEET trained on 4,780 transients (almost 3 times more than in FLEET 1.0). FLEET 2.0 has a similar predicted purity to FLEET 1.0, but outperforms FLEET 1.0 in terms of completeness, which is now closer to $\\approx 40$\\% for transients with \\pslsn$>0.5$. Additionally, we explore possible systematics that might arise from the use of FLEET for target selection. We find that the population of SLSNe recovered by FLEET is mostly indistinguishable from the overall SLSN population, in terms of physical and most observational parameters. We provide FLEET as an open source package on GitHub https://github.com/gmzsebastian/FLEET |\n",
       "|<p style=\"color:green\"> **ERROR** </p>| <p style=\"color:green\">affiliation error: mpia.affiliation_verifications: 'Heidelberg' keyword not found.</p> |"
      ],
      "text/plain": [
       "<IPython.core.display.Markdown object>"
      ]
     },
     "metadata": {},
     "output_type": "display_data"
    },
    {
     "data": {
      "text/markdown": [
       "\n",
       "|||\n",
       "|---:|:---|\n",
       "| [![arXiv](https://img.shields.io/badge/arXiv-arXiv:2210.10812-b31b1b.svg)](https://arxiv.org/abs/arXiv:2210.10812) | **Identifying LISA verification binaries amongst the Galactic population  of double white dwarfs**  |\n",
       "|| Eliot Finch, et al. -- incl., <mark>Antoine Klein</mark> |\n",
       "|*Appeared on*| *2022-10-21*|\n",
       "|*Comments*| *13 pages, 8 figures, plus appendices*|\n",
       "|**Abstract**| Double white dwarfs (DWDs) will be the most numerous gravitational-wave (GW) sources for the Laser Interferometer Space Antenna (LISA). Most of the Galactic DWDs will be unresolved and will superpose to form a confusion noise foreground, the dominant LISA noise source around $\\sim 0.5\\mathrm{-}3\\,\\mathrm{mHz}$. A small fraction of these sources will stand out from the background and be individually detectable. Uniquely among GW sources, a handful of these binaries will be known in advance from electromagnetic observations and will be guaranteed sources of detectable GWs in the LISA band; these are known as verification binaries (VBs). High-cadence photometric surveys are continuously discovering new VB systems, and their number will continue to grow ahead of the launch of LISA. We analyse, in a fully Bayesian framework, all the currently known VBs with the latest design requirements for the LISA mission. We explore what can be expected from GW observations, both alone and in combination with electromagnetic observations, and estimate the VB's time to detection in the early months of LISA operations. We also show how VBs can be analysed in the (realistic) case where their GW signals compete with many other unknown binary signals (both resolved and unresolved) from the Galactic population of DWDs. |\n",
       "|<p style=\"color:green\"> **ERROR** </p>| <p style=\"color:green\">affiliation error: mpia.affiliation_verifications: 'Heidelberg' keyword not found.</p> |"
      ],
      "text/plain": [
       "<IPython.core.display.Markdown object>"
      ]
     },
     "metadata": {},
     "output_type": "display_data"
    },
    {
     "data": {
      "text/markdown": [
       "\n",
       "|||\n",
       "|---:|:---|\n",
       "| [![arXiv](https://img.shields.io/badge/arXiv-arXiv:2210.10815-b31b1b.svg)](https://arxiv.org/abs/arXiv:2210.10815) | **Turbulent Transport of Dust Particles in Protostellar Disks: The Effect  of Upstream Diffusion**  |\n",
       "|| Ting-Tao Zhou, Hongping Deng, Yi-Xian Chen, <mark>Douglas N. C. Lin</mark> |\n",
       "|*Appeared on*| *2022-10-21*|\n",
       "|*Comments*| *Accepted to ApJ, 14 pages, 12 figures*|\n",
       "|**Abstract**| We study the long-term radial transport of micron to mm-size grain in protostellar disks (PSDs) based on diffusion and viscosity coefficients measured from 3D global stratified-disk simulations with a Lagrangian hydrodynamic method. While gas-drag tend to transport dust species radially inwards, stochastic diffusion can spread a considerable fraction of dust radially outwards (upstream) depending on the nature of turbulence. In gravitationally unstable disks, we measure a high radial diffusion coefficient Dr with little dependence on altitude. This leads to strong and vertically homogeneous upstream diffusion in early PSDs. In the solar nebula, the robust upstream diffusion of micron to mm size grains not only efficiently transports highly refractory mocron-size grains (such as those identified in the samples of comet 81P/Wild 2) from their regions of formation inside the snow line out to the Kuiper Belt, but can also spread mm-size CAI formed in the stellar proximity to distances where they can be assimilated into chondritic meteorites. In disks dominated by magnetorotational instability (MRI), the upstream diffusion effect is generally milder, with a separating feature due to diffusion being stronger in the surface layer than the midplane. This variation becomes much more pronounced if we additionally consider a quiescent midplane with lower turbulence and larger characteristic dust size due to non-ideal MHD effects. This segregation scenario helps to account for dichotomy of two dust populations' spatial distribution as observed in scattered light and ALMA images. |\n",
       "|<p style=\"color:green\"> **ERROR** </p>| <p style=\"color:green\">affiliation error: mpia.affiliation_verifications: 'Heidelberg' keyword not found.</p> |"
      ],
      "text/plain": [
       "<IPython.core.display.Markdown object>"
      ]
     },
     "metadata": {},
     "output_type": "display_data"
    },
    {
     "data": {
      "text/markdown": [
       "\n",
       "|||\n",
       "|---:|:---|\n",
       "| [![arXiv](https://img.shields.io/badge/arXiv-arXiv:2210.10827-b31b1b.svg)](https://arxiv.org/abs/arXiv:2210.10827) | **Frequency Agile Solar Radiotelescope: A Next-Generation Radio Telescope  for Solar Physics and Space Weather**  |\n",
       "|| Dale E. Gary, et al. -- incl., <mark>Lindsay Glesener</mark> |\n",
       "|*Appeared on*| *2022-10-21*|\n",
       "|*Comments*| *White Paper submitted to the Solar and Space Physics 2024 Decadal Survey*|\n",
       "|**Abstract**| The Frequency Agile Solar Radiotelescope (FASR) has been strongly endorsed as a top community priority by both Astronomy & Astrophysics Decadal Surveys and Solar & Space Physics Decadal Surveys in the past two decades. Although it was developed to a high state of readiness in previous years (it went through a CATE analysis and was declared ``doable now\"), the NSF has not had the funding mechanisms in place to fund this mid-scale program. Now it does, and the community must seize this opportunity to modernize the FASR design and build the instrument in this decade. The concept and its science potential have been abundantly proven by the pathfinding Expanded Owens Valley Solar Array (EOVSA), which has demonstrated a small subset of FASR's key capabilities such as dynamically measuring the evolving magnetic field in eruptive flares, the temporal and spatial evolution of the electron energy distribution in flares, and the extensive coupling among dynamic components (flare, flux rope, current sheet). The FASR concept, which is orders of magnitude more powerful than EOVSA, is low-risk and extremely high reward, exploiting a fundamentally new research domain in solar and space weather physics. Utilizing dynamic broadband imaging spectropolarimetry at radio wavelengths, with its unique sensitivity to coronal magnetic fields and to both thermal plasma and nonthermal electrons from large flares to extremely weak transients, the ground-based FASR will make synoptic measurements of the coronal magnetic field and map emissions from the chromosphere to the middle corona in 3D. With its high spatial, spectral, and temporal resolution, as well as its superior imaging fidelity and dynamic range, FASR will be a highly complementary and synergistic component of solar and heliospheric capabilities needed for the next generation of solar science. |\n",
       "|<p style=\"color:green\"> **ERROR** </p>| <p style=\"color:green\">affiliation error: mpia.affiliation_verifications: 'Heidelberg' keyword not found.</p> |"
      ],
      "text/plain": [
       "<IPython.core.display.Markdown object>"
      ]
     },
     "metadata": {},
     "output_type": "display_data"
    },
    {
     "data": {
      "text/markdown": [
       "\n",
       "|||\n",
       "|---:|:---|\n",
       "| [![arXiv](https://img.shields.io/badge/arXiv-arXiv:2210.10853-b31b1b.svg)](https://arxiv.org/abs/arXiv:2210.10853) | **Forming Stars in a Dual AGN Host: Molecular and Ionized Gas in the  Nearby, Luminous Infrared Merger, Mrk 266**  |\n",
       "|| Damien Beaulieu, et al. -- incl., <mark>Timothy Heckman</mark> |\n",
       "|*Appeared on*| *2022-10-21*|\n",
       "|*Comments*| *11 pages, 7 figures, 1 table, accepted for publication in Monthly Notices of the Royal Astronomical Society (MNRAS)*|\n",
       "|**Abstract**| We present star formation rates based on cold and ionized gas measurements of Mrk 266 (NGC 5256), a system composed of two colliding gas-rich galaxies, each hosting an active galactic nucleus. Using $^{12}$CO (1-0) observations with the Combined Array for Research in Millimeter-Wave Astronomy (CARMA), we find a total H$_2$ mass in the central region of $1.1\\pm0.3\\times10^{10}$ $M_\\odot$ which leads to a possible future star formation rate of $25\\pm10 M_\\odot$ yr$^{-1}$. With the Fourier Transform Spectrograph (SITELLE) on the Canada-France-Hawaii Telescope, we measure an integrated H$\\alpha$ luminosity and estimate a present-day star formation rate of $15\\pm2 M_\\odot$ yr$^{-1}$ in the core of the system (avoiding the two active nuclei). These results confirm that Mrk 266 is an intermediate stage merger with a relatively high recent star formation rate and enough molecular gas to sustain it for a few hundred million years. Inflowing gas associated with the merger may have triggered both the starburst episode and two AGN but the two galaxy components differ: the region around the SW nucleus appears to be more active than the NE nucleus, which seems relatively quiet. We speculate that this difference may originate in the properties of the interstellar medium in the two systems. |\n",
       "|<p style=\"color:green\"> **ERROR** </p>| <p style=\"color:green\">affiliation error: mpia.affiliation_verifications: 'Heidelberg' keyword not found.</p> |"
      ],
      "text/plain": [
       "<IPython.core.display.Markdown object>"
      ]
     },
     "metadata": {},
     "output_type": "display_data"
    },
    {
     "data": {
      "text/markdown": [
       "\n",
       "|||\n",
       "|---:|:---|\n",
       "| [![arXiv](https://img.shields.io/badge/arXiv-arXiv:2210.10877-b31b1b.svg)](https://arxiv.org/abs/arXiv:2210.10877) | **Energy Dissipation in Synchronous Binary Asteroids**  |\n",
       "|| <mark>Alex J. Meyer</mark>, et al. -- incl., <mark>Harrison F. Agrusa</mark>, <mark>Jay McMahon</mark> |\n",
       "|*Appeared on*| *2022-10-21*|\n",
       "|*Comments*| **|\n",
       "|**Abstract**| Synchronous binary asteroids can experience libration about their tidally-locked equilibrium, which will result in energy dissipation. This is an important topic to the Asteroid Impact and Deflection Assessment, where excitation caused by the DART kinetic impact in the Didymos binary asteroid system may be reduced through dissipation before Hera arrives to survey the effects of the impact. We develop a numeric model for energy dissipation in binary asteroids to explore how different system configurations affect the rate of energy dissipation. We find tumbling within the synchronous state eliminates a systematic trend in libration damping on short timescales (several years), but not over long times (hundreds of years) depending on the material conditions. Furthermore, damping of libration, eccentricity, and fluctuations in the semimajor axis are primarily dependent on the stiffness of the secondary, whereas the semimajor axis secular expansion rate is dictated by the stiffness of the primary, as expected. Systems experiencing stable planar libration in the secondary can see a noticeable reduction in libration amplitude after only a few years depending on the stiffness of the secondary, and thus dissipation should be considered during Hera's survey of Didymos. For a very dissipative secondary undergoing stable libration, Hera may be able to calculate the rate of libration damping in Dimorphos and therefore constrain its tidal parameters. |\n",
       "|<p style=\"color:green\"> **ERROR** </p>| <p style=\"color:green\">affiliation error: mpia.affiliation_verifications: 'Heidelberg' keyword not found.</p> |"
      ],
      "text/plain": [
       "<IPython.core.display.Markdown object>"
      ]
     },
     "metadata": {},
     "output_type": "display_data"
    },
    {
     "data": {
      "text/markdown": [
       "\n",
       "|||\n",
       "|---:|:---|\n",
       "| [![arXiv](https://img.shields.io/badge/arXiv-arXiv:2210.10884-b31b1b.svg)](https://arxiv.org/abs/arXiv:2210.10884) | **Inference finds consistency between a neutrino flavor evolution model  and Earth-based solar neutrino measurements**  |\n",
       "|| <mark>Caroline Laber-Smith</mark>, et al. |\n",
       "|*Appeared on*| *2022-10-21*|\n",
       "|*Comments*| **|\n",
       "|**Abstract**| We continue examining statistical data assimilation (SDA), an inference methodology, to infer solutions to neutrino flavor evolution, for the first time using real - rather than simulated - data. The model represents neutrinos streaming from the Sun's center and undergoing a Mikheyev-Smirnov-Wolfenstein (MSW) resonance in flavor space, due to the radially-varying electron number density. The model neutrino energies are chosen to correspond to experimental bins in the Sudbury Neutrino Observatory (SNO) and Borexino experiments, which measure electron-flavor survival probability at Earth. The procedure successfully finds consistency between the observed fluxes and the model, if the MSW resonance - that is, flavor evolution due to solar electrons - is included in the dynamical equations representing the model. |\n",
       "|<p style=\"color:green\"> **ERROR** </p>| <p style=\"color:green\">affiliation error: mpia.affiliation_verifications: 'Heidelberg' keyword not found.</p> |"
      ],
      "text/plain": [
       "<IPython.core.display.Markdown object>"
      ]
     },
     "metadata": {},
     "output_type": "display_data"
    },
    {
     "data": {
      "text/markdown": [
       "\n",
       "|||\n",
       "|---:|:---|\n",
       "| [![arXiv](https://img.shields.io/badge/arXiv-arXiv:2210.11077-b31b1b.svg)](https://arxiv.org/abs/arXiv:2210.11077) | **Detection Rate of Fast Radio Bursts in the Milky Way with BURSTT**  |\n",
       "|| <mark>Decmend Fang-Jie Ling</mark>, et al. |\n",
       "|*Appeared on*| *2022-10-21*|\n",
       "|*Comments*| *9 pages, 9 figures, 2 tables, accepted for publication in the Monthly Notices of the Royal Astronomical Society*|\n",
       "|**Abstract**| Fast radio bursts (FRBs) are intense bursts of radio emission with durations of milliseconds. Although researchers have found them happening frequently all over the sky, they are still in the dark to understand what causes the phenomena because the existing radio observatories have encountered certain challenges during the discovery of FRB progenitors. The construction of Bustling Universe Radio Survey Telescope in Taiwan (BURSTT) is being proposed to solve these challenges. We simulate mock Galactic FRB-like events by applying a range of spatial distributions, pulse widths and luminosity functions. The effect of turbulent Interstellar Medium (ISM) on the detectability of FRB-like events within the Milky Way plane is considered to estimate the dispersion measure and pulse scattering of mock events. We evaluate the fraction of FRB-like events in the Milky Way that are detectable by BURSTT and compare the result with those by Survey for Transient Astronomical Radio Emission 2 (STARE2) and Galactic Radio Explorer (GReX). We find that BURSTT could increase the detection rate by more than two orders of magnitude compared with STARE2 and GReX, depending on the slope of luminosity function of the events. We also investigate the influence of the specifications of BURSTT on its detection improvement. This leads to the fact that greatly higher sensitivity and improved coverage of the Milky Way plane have significant effects on the detection improvement of BURSTT. We find that the upgrade version of BURSTT, BURSTT-2048 could increase the detection rate of faint Galactic FRB-like events by a factor of 3. |\n",
       "|<p style=\"color:green\"> **ERROR** </p>| <p style=\"color:green\">affiliation error: mpia.affiliation_verifications: 'Heidelberg' keyword not found.</p> |"
      ],
      "text/plain": [
       "<IPython.core.display.Markdown object>"
      ]
     },
     "metadata": {},
     "output_type": "display_data"
    },
    {
     "data": {
      "text/markdown": [
       "\n",
       "|||\n",
       "|---:|:---|\n",
       "| [![arXiv](https://img.shields.io/badge/arXiv-arXiv:2210.11093-b31b1b.svg)](https://arxiv.org/abs/arXiv:2210.11093) | **Testing the accuracy of likelihoods for cluster abundance cosmology**  |\n",
       "|| Constantin Payerne, et al. -- incl., <mark>Mariana Penna-Lima</mark> |\n",
       "|*Appeared on*| *2022-10-21*|\n",
       "|*Comments*| *13 pages, 10 figures, submitted to MNRAS*|\n",
       "|**Abstract**| The abundance of galaxy clusters is a sensitive probe to the amplitude of matter density fluctuations, the total amount of matter in the Universe as well as its expansion history. Inferring correct values and accurate uncertainties of cosmological parameters requires accurate knowledge of cluster abundance statistics, encoded in the likelihood function. In this paper, we test the accuracy of cluster abundance likelihoods used in the literature, namely the Poisson and Gaussian likelihoods as well as the more complete description of the Gauss-Poisson Compound likelihood. This is repeated for a variety of binning choices and analysis setups. In order to evaluate the accuracy of a given likelihood, this work compares individual posterior covariances to the covariance of estimators over the 1000 simulated dark matter halo catalogs obtained from PINOCCHIO algorithm. We find that for Rubin/LSST or Euclid-like surveys the Gaussian likelihood gives robust constraints over a large range of binning choices. The Poisson likelihood, that does not account for sample covariance, always underestimates the errors on the parameters, even when the sample volume is reduced or only high-mass clusters are considered. We find no benefit in using the more complex Gauss-Poisson Compound likelihood as it gives essentially the same results as the Gaussian likelihood, but at a greater computational cost. Finally, in this ideal setup, we note only a small gain on the parameter error bars when using a large number of bins in the mass-redshift plane. |\n",
       "|<p style=\"color:green\"> **ERROR** </p>| <p style=\"color:green\">affiliation error: mpia.affiliation_verifications: 'Heidelberg' keyword not found.</p> |"
      ],
      "text/plain": [
       "<IPython.core.display.Markdown object>"
      ]
     },
     "metadata": {},
     "output_type": "display_data"
    },
    {
     "data": {
      "text/markdown": [
       "\n",
       "|||\n",
       "|---:|:---|\n",
       "| [![arXiv](https://img.shields.io/badge/arXiv-arXiv:2210.11207-b31b1b.svg)](https://arxiv.org/abs/arXiv:2210.11207) | **$\\texttt{KOBEsim}$: a Bayesian observing strategy algorithm for planet  detection in radial velocity blind-search surveys**  |\n",
       "|| O. Balsalobre-Ruza, et al. -- incl., <mark>J. Lillo-Box</mark> |\n",
       "|*Appeared on*| *2022-10-21*|\n",
       "|*Comments*| *Accepted for publication in A&A. 14 pages, 10 figures, 5 tables*|\n",
       "|**Abstract**| Ground-based observing time is precious in the era of exoplanet follow-up and characterization, especially in high-precision radial velocity instruments. Blind-search radial velocity surveys thus require a dedicated observational strategy in order to optimize the observing time, which is particularly crucial for the detection of small rocky worlds at large orbital periods. We develop an algorithm with the purpose of improving the efficiency of radial velocity observations in the context of exoplanet searches, and we apply it to the K-dwarfs Orbited By habitable Exoplanets (KOBE) experiment. We aim at accelerating exoplanet confirmations or, alternatively, rejecting false signals as early as possible in order to save telescope time and increase the efficiency of both blind-search surveys and follow-up of transiting candidates. Once a minimum initial number of radial velocity datapoints is reached in such a way that a periodicity starts to emerge according to generalized Lomb-Scargle (GLS) periodograms, that period is targeted with the proposed algorithm, named $\\texttt{KOBEsim}$. The algorithm selects the next observing date that maximizes the Bayesian evidence for such periodicity in comparison with a model with no Keplerian orbits. By means of simulated data, we prove that the algorithm accelerates the exoplanet detection, needing $29 - 33\\,\\%$ less observations and $41 - 47\\,\\%$ less timespan of the full dataset for low-mass planets ($m_{\\rm p}\\,<\\,10\\,M_{\\oplus}$) in comparison with a conventional monotonic cadence strategy. The enhancement in the number of datapoints for $20\\,M_{\\oplus}$ planets is also appreciable, $16\\,\\%$. We also test $\\texttt{KOBEsim}$ with real data for a particular KOBE target, and for the confirmed planet $HD~102365\\,b$. Both of them demonstrate that the strategy is capable of speeding up the detection up to a factor of $2$. |\n",
       "|<p style=\"color:green\"> **ERROR** </p>| <p style=\"color:green\">affiliation error: mpia.affiliation_verifications: 'Heidelberg' keyword not found.</p> |"
      ],
      "text/plain": [
       "<IPython.core.display.Markdown object>"
      ]
     },
     "metadata": {},
     "output_type": "display_data"
    },
    {
     "data": {
      "text/markdown": [
       "\n",
       "|||\n",
       "|---:|:---|\n",
       "| [![arXiv](https://img.shields.io/badge/arXiv-arXiv:2210.11244-b31b1b.svg)](https://arxiv.org/abs/arXiv:2210.11244) | **PSF nowcast using PASSATA simulations -- Towards a PSF forecast**  |\n",
       "|| A. Turchi, et al. -- incl., <mark>E. Pinna</mark> |\n",
       "|*Appeared on*| *2022-10-21*|\n",
       "|*Comments*| *10 pages, 6 figures*|\n",
       "|**Abstract**| Characterizing the PSF of adaptive optics instruments is of paramount importance both for instrument design and observation planning/optimization. Simulation software, such as PASSATA, have been successfully utilized for PSF characterization in instrument design, which make use of standardized atmospheric turbulence profiles to produce PSFs that represent the typical instrument performance. In this contribution we study the feasibility of using such tool for nowcast application (present-time forecast), such as the characterization of an on-sky measured PSF in real observations. Specifically we will analyze the performance of the simulation software in characterizing the real-time PSF of two different state-of-the-art SCAO adaptive optics instruments: SOUL at the LBT, and SAXO at the VLT. The study will make use of on-sky measurements of the atmospheric turbulence and compare the results of the simulations to the measured PSF figures of merit (namely the FHWM and the Strehl Ratio) retrieved from the instrument telemetry in real observations. Our main goal in this phase is to quantify the level of uncertainly of the AO simulations in reproducing real on-sky observed PSFs with an end-to-end code (PASSATA). In a successive phase we intend to use a faster analytical code (TIPTOP). This work is part of a wider study which aims to use simulation tools joint to atmospheric turbulence forecasts performed nightly to forecast in advance the PSF and support science operations of ground-based telescopes facilities. The 'PSF forecast' option might therefore be added to ALTA Center or the operational forecast system that will be implemented soon at ESO. |\n",
       "|<p style=\"color:green\"> **ERROR** </p>| <p style=\"color:green\">affiliation error: mpia.affiliation_verifications: 'Heidelberg' keyword not found.</p> |"
      ],
      "text/plain": [
       "<IPython.core.display.Markdown object>"
      ]
     },
     "metadata": {},
     "output_type": "display_data"
    },
    {
     "data": {
      "text/markdown": [
       "\n",
       "|||\n",
       "|---:|:---|\n",
       "| [![arXiv](https://img.shields.io/badge/arXiv-arXiv:2210.11293-b31b1b.svg)](https://arxiv.org/abs/arXiv:2210.11293) | **The next generation Birmingham Solar Oscillations Network (BiSON)  spectrophotometer: a new miniaturised instrument for helioseismology**  |\n",
       "|| S. J. Hale, et al. -- incl., <mark>G. R. Davies</mark> |\n",
       "|*Appeared on*| *2022-10-21*|\n",
       "|*Comments*| *8 pages, 8 figures, 1 table. Accepted by RAS Techniques and Instruments: 2022 September 26*|\n",
       "|**Abstract**| We describe a new spectrophotometer for the Birmingham Solar Oscillations Network (BiSON), based on a next generation observation platform, BiSON:NG, a significantly miniaturised system making use of inexpensive consumer-grade hardware and off-the-shelf components, where possible. We show through system modelling and simulation, along with a summer observing campaign, that the prototype instrument produces data on the Sun's low-degree acoustic (p-mode) oscillations that are of equal quality and can be seamlessly integrated into the existing network. Refreshing the existing ageing hardware, and the extended observational network potential of BiSON:NG, will secure our ongoing programme of high-quality synoptic observations of the Sun's low-degree oscillations (e.g., for seismic monitoring of the solar cycle at a \"whole Sun\" level). |\n",
       "|<p style=\"color:green\"> **ERROR** </p>| <p style=\"color:green\">affiliation error: mpia.affiliation_verifications: 'Heidelberg' keyword not found.</p> |"
      ],
      "text/plain": [
       "<IPython.core.display.Markdown object>"
      ]
     },
     "metadata": {},
     "output_type": "display_data"
    },
    {
     "data": {
      "text/markdown": [
       "\n",
       "|||\n",
       "|---:|:---|\n",
       "| [![arXiv](https://img.shields.io/badge/arXiv-arXiv:2210.11329-b31b1b.svg)](https://arxiv.org/abs/arXiv:2210.11329) | **Estimating the Convective Turnover Time**  |\n",
       "|| Wei-Chun Jao, et al. -- incl., <mark>Todd J. Henry</mark> |\n",
       "|*Appeared on*| *2022-10-21*|\n",
       "|*Comments*| *8 pages, 2 figures, 1 table. One of the figures is a 3D interactive plot, which is available in the online journal or at this https URL*|\n",
       "|**Abstract**| The introduction of the Rossby number (R$_0$), which incorporates the convective turnover time ($\\tau$), in 1984 was a pioneering idea for understanding the correlation between stellar rotation and activity. The convective turnover time, which cannot be measured directly, is often inferred using existing $\\tau$-mass or $\\tau$-color relations, typically established based on an ensemble of different types of stars by assuming that $\\tau$ is a function of mass. In this work, we use {\\it Gaia} Early Data Release 3 to demonstrate that the masses used to establish one of the most cited $\\tau$-mass relations are overestimated for G type dwarfs and significantly underestimated for late M dwarfs, offsets that affect studies using this $\\tau$-mass relation to draw conclusions. We discuss the challenges of creating such relations then and now. In the era of {\\it Gaia} and other large datasets, stars used to establish these relations require characterization in a multi-dimensional space, rather than via the single-characteristic relations of the past. We propose that new multi-dimensional relations should be established based on updated theoretical models and all available stellar parameters for different interior structures from a set of carefully vetted single stars, so that the convective turnover time can be estimated more accurately. |\n",
       "|<p style=\"color:green\"> **ERROR** </p>| <p style=\"color:green\">affiliation error: mpia.affiliation_verifications: 'Heidelberg' keyword not found.</p> |"
      ],
      "text/plain": [
       "<IPython.core.display.Markdown object>"
      ]
     },
     "metadata": {},
     "output_type": "display_data"
    },
    {
     "data": {
      "text/markdown": [
       "\n",
       "|||\n",
       "|---:|:---|\n",
       "| [![arXiv](https://img.shields.io/badge/arXiv-arXiv:2210.11333-b31b1b.svg)](https://arxiv.org/abs/arXiv:2210.11333) | **The multipole expansion of the local expansion rate**  |\n",
       "|| <mark>Basheer Kalbouneh</mark>, Christian Marinoni, Julien Bel |\n",
       "|*Appeared on*| *2022-10-21*|\n",
       "|*Comments*| *26 pages, 16 figures*|\n",
       "|**Abstract**| We design a new observable, the expansion rate fluctuation $\\eta$, to characterize deviations from the linear relation between redshift and distance in the local universe. We also show how to compress the resulting signal into spherical harmonic coefficients in order to better decipher the structure and symmetries of the anisotropies in the local expansion rate. We apply this analysis scheme to several public catalogs of redshift-independent distances, the Cosmicflows-3 and Pantheon data sets, covering the redshift range $0.01<z<0.05$. The leading anisotropic signal is stored in the dipole. Within the standard cosmological model, it is interpreted as a bulk motion ($307 \\pm 23$ km/s) of the entire local volume in a direction aligned at better than $4$ degrees with the bulk component of the Local Group velocity with respect to the CMB. This term alone, however, provides an overly simplistic and inaccurate description of the angular anisotropies of the expansion rate. We find that the quadrupole contribution is non-negligible ($\\sim 50\\%$ of the anisotropic signal), in fact, statistically significant, and signaling a substantial shearing of gravity in the volume covered by the data. In addition, the 3D structure of the quadrupole is axisymmetric, with the expansion axis aligned along the axis of the dipole. Implications for the determination of the $H_0$ parameter are also discussed. |\n",
       "|<p style=\"color:green\"> **ERROR** </p>| <p style=\"color:green\">affiliation error: mpia.affiliation_verifications: 'Heidelberg' keyword not found.</p> |"
      ],
      "text/plain": [
       "<IPython.core.display.Markdown object>"
      ]
     },
     "metadata": {},
     "output_type": "display_data"
    },
    {
     "data": {
      "text/markdown": [
       "\n",
       "|||\n",
       "|---:|:---|\n",
       "| [![arXiv](https://img.shields.io/badge/arXiv-arXiv:2210.11360-b31b1b.svg)](https://arxiv.org/abs/arXiv:2210.11360) | **An X-ray Dim Isolated Neutron Star in Binary?**  |\n",
       "|| <mark>Jie Lin</mark>, et al. -- incl., <mark>Chunqian Li</mark>, <mark>Heng Xu</mark> |\n",
       "|*Appeared on*| *2022-10-21*|\n",
       "|*Comments*| *15 pages, 9 figures*|\n",
       "|**Abstract**| We report the discovery of a dark companion to 2MASS J15274848+3536572 with an orbital period of 6.14 hours. Combining the radial velocity of LAMOST observation and the modelling of the multi-band light curve, one has a mass function of 0.135 Msun, an inclination of 43.94+0.33-0.21, and a mass ratio of 0.58+0.048-0.018, which demonstrate the binary nature of a dark companion with mass of 1.01+-0.08Msun and a main-sequence K star of 0.59+-0.05 Msun. LAMOST optical spectra at a range of orbital phase reveals extra peaked Halpha emission that suggests the presence of an accretion disk. The dark companion does not seem to be a white dwarf because the lack of any observed dwarf nova outbursts contradicts with the disk instability model in long-term data archive. Alternatively, we propose a scenario that the dark companion is a neutron star, but we have not detected radio pulsation or single pulse from the system with the FAST (Five hundred meter Aperture Spherical radio Telescope), which hints a radio quiet compact object. If the dark companion is identified as a neutron star, it will be nearest (118 pc) and lightest neutron star. Furthermore, a kinematic analysis of the systems orbit in the galaxy may suggest its supernova event is associated with the radionuclide 60Fe signal observed from the deep-sea crusts. This radio-quiet and X-ray dim nearby neutron star may resemble an XDINS (X-ray dim isolated neutron star), but in a binary. |\n",
       "|<p style=\"color:green\"> **ERROR** </p>| <p style=\"color:green\">affiliation error: mpia.affiliation_verifications: 'Heidelberg' keyword not found.</p> |"
      ],
      "text/plain": [
       "<IPython.core.display.Markdown object>"
      ]
     },
     "metadata": {},
     "output_type": "display_data"
    },
    {
     "data": {
      "text/markdown": [
       "\n",
       "|||\n",
       "|---:|:---|\n",
       "| [![arXiv](https://img.shields.io/badge/arXiv-arXiv:2210.11424-b31b1b.svg)](https://arxiv.org/abs/arXiv:2210.11424) | **SDSS IV MaNGA: Bar pattern speed in Milky Way Analogue galaxies**  |\n",
       "|| Luis Garma-Oehmichen, et al. -- incl., <mark>Héctor Hernández-Toledo</mark>, <mark>José Antonio Vázquez-Mata</mark>, <mark>Luis Artemio Martínez-Vázquez</mark> |\n",
       "|*Appeared on*| *2022-10-21*|\n",
       "|*Comments*| *19 pages, 20 figures, 2 tables, accepted for publication in MNRAS*|\n",
       "|**Abstract**| Most secular effects produced by stellar bars strongly depend on the pattern speed. Unfortunately, it is also the most difficult observational parameter to estimate. In this work, we measured the bar pattern speed of 97 Milky-Way Analogue galaxies from the MaNGA survey using the Tremaine-Weinberg method. The sample was selected by constraining the stellar mass and morphological type. We improve our measurements by weighting three independent estimates of the disc position angle. To recover the disc rotation curve, we fit a kinematic model to the H$_\\alpha$ velocity maps correcting for the non-circular motions produced by the bar. The complete sample has a smooth distribution of the bar pattern speed ($\\Omega_{Bar}=28.14^{+12.30}_{-9.55}$ km s$^{-1}$ kpc $^{-1}$), corotation radius ($R_{CR} = 7.82^{+3.99}_{-2.96}$ kpc) and the rotation rate ($\\mathcal{R} = 1.35^{+0.60}_{-0.40}$). We found two sets of correlations: (i) between the bar pattern speed, the bar length and the logarithmic stellar mass (ii) between the bar pattern speed, the disc circular velocity and the bar rotation rate. If we constrain our sample by inclination within $30 \\degree < i < 60 \\degree$ and relative orientation $20\\degree<|PA_{disc}-PA_{bar} |<70\\degree$, the correlations become stronger and the fraction of ultra-fast bars is reduced from 20\\% to 10\\% of the sample. This suggest that a significant fraction of ultra-fast bars in our sample could be associated to the geometric limitations of the TW-method. By further constraining the bar size and disc circular velocity, we obtain a sub-sample of 25 Milky-Way analogues galaxies with distributions $\\Omega_{Bar}=30.48^{+10.94}_{-6.57}$ km s$^{-1}$ kpc$^{-1}$, $R_{CR} = 6.77^{+2.32}_{-1.91}$ kpc and $\\mathcal{R} = 1.45^{+0.57}_{-0.43}$, in good agreement with the current estimations for our Galaxy. |\n",
       "|<p style=\"color:green\"> **ERROR** </p>| <p style=\"color:green\">affiliation error: mpia.affiliation_verifications: 'Heidelberg' keyword not found.</p> |"
      ],
      "text/plain": [
       "<IPython.core.display.Markdown object>"
      ]
     },
     "metadata": {},
     "output_type": "display_data"
    }
   ],
   "source": [
    "import datetime\n",
    "today = str(datetime.date.today())\n",
    "logfile = f\"_build/html/logs/log-{today}.md\"\n",
    "\n",
    "\n",
    "with open(logfile, 'w') as logs:\n",
    "    # Success\n",
    "    logs.write(f'# Arxiv on Deck 2: Logs - {today}\\n\\n')\n",
    "    logs.write(\"\"\"* Arxiv had {0:,d} new papers\\n\"\"\".format(len(new_papers)))\n",
    "    logs.write(\"\"\"    * {0:,d} with possible author matches\\n\\n\"\"\".format(len(candidates)))\n",
    "    logs.write(\"## Sucessful papers\\n\\n\")\n",
    "    display(Markdown(\"## Successful papers\"))\n",
    "    success = [k[0] for k in documents]\n",
    "    for candid in candidates:\n",
    "        if candid['identifier'].split(':')[-1] in success:\n",
    "            display(candid)\n",
    "            logs.write(candid.generate_markdown_text() + '\\n\\n')\n",
    "\n",
    "    ## failed\n",
    "    logs.write(\"## Failed papers\\n\\n\")\n",
    "    display(Markdown(\"## Failed papers\"))\n",
    "    failed = sorted(failed, key=lambda x: x[1])\n",
    "    current_reason = \"\"\n",
    "    for paper, reason in failed:\n",
    "        if 'affiliation' in reason:\n",
    "            color = 'green'\n",
    "        else:\n",
    "            color = 'red'\n",
    "        data = Markdown(\n",
    "                paper.generate_markdown_text() + \n",
    "                f'\\n|<p style=\"color:{color:s}\"> **ERROR** </p>| <p style=\"color:{color:s}\">{reason:s}</p> |'\n",
    "               )\n",
    "        if reason != current_reason:\n",
    "            logs.write(f'### {reason:s} \\n\\n')\n",
    "            current_reason = reason\n",
    "        logs.write(data.data + '\\n\\n')\n",
    "        \n",
    "        # only display here the important errors (all in logs)\n",
    "        # if color in ('red',):\n",
    "        display(data)"
   ]
  },
  {
   "cell_type": "markdown",
   "id": "472d20ee",
   "metadata": {
    "papermill": {
     "duration": 0.009998,
     "end_time": "2022-10-21T04:56:17.994529",
     "exception": false,
     "start_time": "2022-10-21T04:56:17.984531",
     "status": "completed"
    },
    "tags": []
   },
   "source": [
    "## Export documents\n",
    "\n",
    "We now write the .md files and export relevant images"
   ]
  },
  {
   "cell_type": "code",
   "execution_count": 7,
   "id": "d426aed9",
   "metadata": {
    "execution": {
     "iopub.execute_input": "2022-10-21T04:56:18.015769Z",
     "iopub.status.busy": "2022-10-21T04:56:18.015255Z",
     "iopub.status.idle": "2022-10-21T04:56:18.022950Z",
     "shell.execute_reply": "2022-10-21T04:56:18.022311Z"
    },
    "papermill": {
     "duration": 0.020138,
     "end_time": "2022-10-21T04:56:18.024522",
     "exception": false,
     "start_time": "2022-10-21T04:56:18.004384",
     "status": "completed"
    },
    "tags": []
   },
   "outputs": [],
   "source": [
    "def export_markdown_summary(md: str, md_fname:str, directory: str):\n",
    "    \"\"\"Export MD document and associated relevant images\"\"\"\n",
    "    import os\n",
    "    import shutil\n",
    "    import re\n",
    "\n",
    "    if (os.path.exists(directory) and not os.path.isdir(directory)):\n",
    "        raise RuntimeError(f\"a non-directory file exists with name {directory:s}\")\n",
    "\n",
    "    if (not os.path.exists(directory)):\n",
    "        print(f\"creating directory {directory:s}\")\n",
    "        os.mkdir(directory)\n",
    "\n",
    "    fig_fnames = (re.compile(r'\\[Fig.*\\]\\((.*)\\)').findall(md) + \n",
    "                  re.compile(r'\\<img src=\"([^>\\s]*)\"[^>]*/>').findall(md))\n",
    "    for fname in fig_fnames:\n",
    "        if 'http' in fname:\n",
    "            # No need to copy online figures\n",
    "            continue\n",
    "        destdir = os.path.join(directory, os.path.dirname(fname))\n",
    "        destfname = os.path.join(destdir, os.path.basename(fname))\n",
    "        try:\n",
    "            os.makedirs(destdir)\n",
    "        except FileExistsError:\n",
    "            pass\n",
    "        shutil.copy(fname, destfname)\n",
    "    with open(os.path.join(directory, md_fname), 'w') as fout:\n",
    "        fout.write(md)\n",
    "    print(\"exported in \", os.path.join(directory, md_fname))\n",
    "    [print(\"    + \" + os.path.join(directory,fk)) for fk in fig_fnames]"
   ]
  },
  {
   "cell_type": "code",
   "execution_count": 8,
   "id": "014d04a4",
   "metadata": {
    "execution": {
     "iopub.execute_input": "2022-10-21T04:56:18.046391Z",
     "iopub.status.busy": "2022-10-21T04:56:18.045948Z",
     "iopub.status.idle": "2022-10-21T04:56:18.051122Z",
     "shell.execute_reply": "2022-10-21T04:56:18.050495Z"
    },
    "papermill": {
     "duration": 0.018114,
     "end_time": "2022-10-21T04:56:18.052660",
     "exception": false,
     "start_time": "2022-10-21T04:56:18.034546",
     "status": "completed"
    },
    "tags": []
   },
   "outputs": [
    {
     "name": "stdout",
     "output_type": "stream",
     "text": [
      "exported in  _build/html/2210.11103.md\n",
      "    + _build/html/tmp_2210.11103/./figures/paper_figure_9_1.png\n",
      "    + _build/html/tmp_2210.11103/./figures/paper_figure_1.png\n",
      "    + _build/html/tmp_2210.11103/./figures/paper_figure_8.png\n"
     ]
    }
   ],
   "source": [
    "for paper_id, md in documents:\n",
    "    export_markdown_summary(md, f\"{paper_id:s}.md\", '_build/html/')"
   ]
  },
  {
   "cell_type": "markdown",
   "id": "f087a0a7",
   "metadata": {
    "papermill": {
     "duration": 0.010023,
     "end_time": "2022-10-21T04:56:18.072694",
     "exception": false,
     "start_time": "2022-10-21T04:56:18.062671",
     "status": "completed"
    },
    "tags": []
   },
   "source": [
    "## Display the papers\n",
    "\n",
    "Not necessary but allows for a quick check."
   ]
  },
  {
   "cell_type": "code",
   "execution_count": 9,
   "id": "fd25f625",
   "metadata": {
    "execution": {
     "iopub.execute_input": "2022-10-21T04:56:18.094607Z",
     "iopub.status.busy": "2022-10-21T04:56:18.094008Z",
     "iopub.status.idle": "2022-10-21T04:56:18.099246Z",
     "shell.execute_reply": "2022-10-21T04:56:18.098508Z"
    },
    "papermill": {
     "duration": 0.018168,
     "end_time": "2022-10-21T04:56:18.100826",
     "exception": false,
     "start_time": "2022-10-21T04:56:18.082658",
     "status": "completed"
    },
    "scrolled": false,
    "tags": []
   },
   "outputs": [
    {
     "data": {
      "text/markdown": [
       "<div class=\"macros\" style=\"visibility:hidden;\">\n",
       "$\\newcommand{\\ensuremath}{}$\n",
       "$\\newcommand{\\xspace}{}$\n",
       "$\\newcommand{\\object}[1]{\\texttt{#1}}$\n",
       "$\\newcommand{\\farcs}{{.}''}$\n",
       "$\\newcommand{\\farcm}{{.}'}$\n",
       "$\\newcommand{\\arcsec}{''}$\n",
       "$\\newcommand{\\arcmin}{'}$\n",
       "$\\newcommand{\\ion}[2]{#1#2}$\n",
       "$\\newcommand{\\textsc}[1]{\\textrm{#1}}$\n",
       "$\\newcommand{\\hl}[1]{\\textrm{#1}}$</div>\n",
       "\n",
       "<div class=\"macros\" style=\"visibility:hidden;\">\n",
       "$\\newcommand{$\\ensuremath$}{}$\n",
       "$\\newcommand{$\\xspace$}{}$\n",
       "$\\newcommand{$\\object$}[1]{\\texttt{#1}}$\n",
       "$\\newcommand{$\\farcs$}{{.}''}$\n",
       "$\\newcommand{$\\farcm$}{{.}'}$\n",
       "$\\newcommand{$\\arcsec$}{''}$\n",
       "$\\newcommand{$\\arcmin$}{'}$\n",
       "$\\newcommand{$\\ion$}[2]{#1#2}$\n",
       "$\\newcommand{$\\textsc$}[1]{\\textrm{#1}}$\n",
       "$\\newcommand{$\\hl$}[1]{\\textrm{#1}}$</div>\n",
       "\n",
       "\n",
       "\n",
       "<div id=\"title\">\n",
       "\n",
       "# Lower-than-expected flare temperatures for TRAPPIST-1\n",
       "\n",
       "</div>\n",
       "<div id=\"comments\">\n",
       "\n",
       "[![arXiv](https://img.shields.io/badge/arXiv-2210.11103-b31b1b.svg)](https://arxiv.org/abs/2210.11103)<mark>Appeared on: 2022-10-21</mark> - _17 pages, 11 figures, 2 tables, accepted for publication in A&A_\n",
       "\n",
       "</div>\n",
       "<div id=\"authors\">\n",
       "\n",
       "A. J. Maas, et al. -- incl., <mark>C.-L. Lin</mark>\n",
       "\n",
       "</div>\n",
       "<div id=\"abstract\">\n",
       "\n",
       "**Abstract:** Although high energetic radiation from flares is a potential threat to exoplanet atmospheres and may lead to surface sterilization, it might also provide the extra energy for low-mass stars needed to trigger and sustain prebiotic chemistry. We investigate two flares on TRAPPIST-1, an ultra-cool dwarf star that hosts seven exoplanets of which three lie within its habitable zone. The flares are detected in all four passbands of the MuSCAT2 allowing a determination of their temperatures and bolometric energies. We analyzed the light curves of the MuSCAT1 and MuSCAT2 instruments obtained between 2016 and 2021 in $g,r,i,z_\\mathrm{s}$-filters. We conducted an automated flare search and visually confirmed possible flare events. We studied the temperature evolution, the global temperature, and the peak temperature of both flares. For the first time we infer effective black body temperatures of flares that occurred on TRAPPIST-1. The black body temperatures for the two TRAPPIST-1 flares derived from the SED are consistent with $T_\\mathrm{SED} = 7940_{-390}^{+430}$K and $T_\\mathrm{SED} = 6030_{-270}^{+300}$K. The flare black body temperatures at the peak are also calculated from the peak SED yielding $T_\\mathrm{SEDp} = 13620_{-1220}^{1520}$K and $T_\\mathrm{SEDp} = 8290_{-550}^{+660}$K. We show that for the ultra-cool M-dwarf TRAPPIST-1 the flare black body temperatures associated with the total continuum emission are lower and not consistent with the usually adopted assumption of 9000-10000 K. This could imply different and faster cooling mechanisms. Further multi-color observations are needed to investigate whether or not our observations are a general characteristic of ultra-cool M-dwarfs. This would have significant implications for the habitability of exoplanets around these stars because the UV surface flux is likely to be overestimated by the models with higher flare temperatures. \n",
       "\n",
       "</div>\n",
       "\n",
       "<div id=\"div_fig1\">\n",
       "\n",
       "<img src=\"tmp_2210.11103/./figures/paper_figure_9_1.png\" alt=\"Fig8\" width=\"100%\"/>\n",
       "\n",
       "**Figure 8. -** Spectral type and stellar effective temperature versus total flare temperature for different photometric and spectroscopic studies: The upper panel uses the stellar effective temperature if available from the TESS input catalogue \\citep{Stassun_2019}. For the Kowalski sample, we use conservative uncertainties of $\\pm 500$K. The lower panel shows a density map of flare temperatures per spectral type that is consistent with the upper stellar effective temperatures. The flare temperature axis is represented in log-scale. The two TRAPPIST-1 flares are overplotted and the blue horizontal lines represent the average temperatures from the two biggest temperature samples. (*fig:fig9*)\n",
       "\n",
       "</div>\n",
       "<div id=\"div_fig2\">\n",
       "\n",
       "<img src=\"tmp_2210.11103/./figures/paper_figure_1.png\" alt=\"Fig1\" width=\"100%\"/>\n",
       "\n",
       "**Figure 1. -** Light curve in all four filters of MuSCAT2 (M2) of Flare 1: The flare is visible in the $g$, $r$, and $i$ filter, whereas the S/N in the $z_\\mathrm{s}$-filter is too low. To better distinguish between the four M2 channels, we add constant values to the flux. The time is given in days in reduced Julian date (RJD), RJD = BJD - 2454833 d where BJD is the barycentric Julian date.  (*fig:observation*)\n",
       "\n",
       "</div>\n",
       "<div id=\"div_fig3\">\n",
       "\n",
       "<img src=\"tmp_2210.11103/./figures/paper_figure_8.png\" alt=\"Fig11\" width=\"100%\"/>\n",
       "\n",
       "**Figure 11. -** Flare frequency distribution for K2 and M2 data. The FFD for TRAPPIST-1 is updated by our flares indicated in orange. The black points are adopted from \\citep{Paudel_2018}. The best fit to the power law is chosen from 2500 MC trials, here only 100 random samples are shown to mark the uncertainty of the model. Also overplotted are the abiogenesis zone in green \\citep{Rimmer_2018,Gunther_2020} and the ozone-depletion zone in yellow \\citep{2019_Tilley, Gunther_2020} for TRAPPIST-1. (*fig:FFD*)\n",
       "\n",
       "</div>"
      ],
      "text/plain": [
       "<IPython.core.display.Markdown object>"
      ]
     },
     "metadata": {},
     "output_type": "display_data"
    }
   ],
   "source": [
    "[display(Markdown(k[1])) for k in documents];"
   ]
  },
  {
   "cell_type": "markdown",
   "id": "873873a4",
   "metadata": {
    "papermill": {
     "duration": 0.010253,
     "end_time": "2022-10-21T04:56:18.121278",
     "exception": false,
     "start_time": "2022-10-21T04:56:18.111025",
     "status": "completed"
    },
    "tags": []
   },
   "source": [
    "# Create HTML index"
   ]
  },
  {
   "cell_type": "code",
   "execution_count": 10,
   "id": "cf665672",
   "metadata": {
    "execution": {
     "iopub.execute_input": "2022-10-21T04:56:18.143237Z",
     "iopub.status.busy": "2022-10-21T04:56:18.142636Z",
     "iopub.status.idle": "2022-10-21T04:56:18.152808Z",
     "shell.execute_reply": "2022-10-21T04:56:18.152103Z"
    },
    "papermill": {
     "duration": 0.022827,
     "end_time": "2022-10-21T04:56:18.154285",
     "exception": false,
     "start_time": "2022-10-21T04:56:18.131458",
     "status": "completed"
    },
    "tags": []
   },
   "outputs": [
    {
     "name": "stdout",
     "output_type": "stream",
     "text": [
      "70  publications in the last 7 days.\n",
      "\t _build/html/2210.11103.md\n",
      "\t _build/html/2210.10707.md\n",
      "\t _build/html/2210.09930.md\n",
      "\t _build/html/2210.08996.md\n",
      "\t _build/html/2210.08517.md\n",
      "\t _build/html/2210.08510.md\n",
      "\t _build/html/2210.08078.md\n",
      "\t _build/html/2210.06504.md\n",
      "\t _build/html/2210.05695.md\n",
      "\t _build/html/2210.05595.md\n",
      "\t _build/html/2210.05505.md\n",
      "\t _build/html/2210.04721.md\n",
      "\t _build/html/2210.03615.md\n",
      "\t _build/html/2210.01811.md\n",
      "\t _build/html/2210.01809.md\n",
      "\t _build/html/2210.01556.md\n",
      "\t _build/html/2210.00863.md\n",
      "\t _build/html/2210.00560.md\n",
      "\t _build/html/2209.15403.md\n",
      "\t _build/html/2209.15110.md\n",
      "\t _build/html/2209.14410.md\n",
      "\t _build/html/2209.14396.md\n",
      "\t _build/html/2209.13717.md\n",
      "\t _build/html/2209.13336.md\n",
      "\t _build/html/2209.12906.md\n",
      "\t _build/html/2209.11781.md\n",
      "\t _build/html/2209.11602.md\n",
      "\t _build/html/2209.11248.md\n",
      "\t _build/html/2209.11096.md\n",
      "\t _build/html/2209.10618.md\n",
      "\t _build/html/2209.09914.md\n",
      "\t _build/html/2209.09823.md\n",
      "\t _build/html/2209.08242.md\n",
      "\t _build/html/2209.08120.md\n",
      "\t _build/html/2209.08106.md\n",
      "\t _build/html/2209.07962.md\n",
      "\t _build/html/2209.07931.md\n",
      "\t _build/html/2209.06833.md\n",
      "\t _build/html/2209.05814.md\n",
      "\t _build/html/2209.05593.md\n",
      "\t _build/html/2209.04304.md\n",
      "\t _build/html/2209.03367.md\n",
      "\t _build/html/2209.02872.md\n",
      "\t _build/html/2209.02725.md\n",
      "\t _build/html/2209.02722.md\n",
      "\t _build/html/2209.02092.md\n",
      "\t _build/html/2209.01125.md\n",
      "\t _build/html/2209.00828.md\n",
      "\t _build/html/2209.00363.md\n",
      "\t _build/html/2208.14927.md\n",
      "\t _build/html/2208.09335.md\n",
      "\t _build/html/2208.08872.md\n",
      "\t _build/html/2204.06393.md\n",
      "\t _build/html/2204.03335.md\n",
      "\t _build/html/2204.03253.md\n",
      "\t _build/html/2204.02998.md\n",
      "\t _build/html/2204.02109.md\n",
      "\t _build/html/2204.02017.md\n",
      "\t _build/html/2204.01824.md\n",
      "\t _build/html/2204.01758.md\n",
      "\t _build/html/2204.01245.md\n",
      "\t _build/html/2204.00793.md\n",
      "\t _build/html/2204.00342.md\n",
      "\t _build/html/2203.16959.md\n",
      "\t _build/html/2203.16856.md\n",
      "\t _build/html/2203.16735.md\n",
      "\t _build/html/2203.16734.md\n",
      "\t _build/html/2203.16504.md\n",
      "\t _build/html/2203.15822.md\n",
      "\t _build/html/2203.15811.md\n"
     ]
    }
   ],
   "source": [
    "from datetime import datetime, timedelta, timezone\n",
    "from glob import glob\n",
    "\n",
    "files = glob('_build/html/*.md')\n",
    "days = 7\n",
    "now = datetime.today()\n",
    "res = []\n",
    "for fk in files:\n",
    "    stat_result = os.stat(fk).st_ctime\n",
    "    modified = datetime.fromtimestamp(stat_result, tz=timezone.utc).replace(tzinfo=None)\n",
    "    delta = now.today() - modified\n",
    "    if delta <= timedelta(days=days):\n",
    "        res.append((delta.seconds, fk))\n",
    "res = [k[1] for k in reversed(sorted(res, key=lambda x:x[1]))]\n",
    "npub = len(res)\n",
    "print(len(res), f\" publications in the last {days:d} days.\")\n",
    "[ print('\\t', k) for k in res ];"
   ]
  },
  {
   "cell_type": "code",
   "execution_count": 11,
   "id": "52ca0208",
   "metadata": {
    "execution": {
     "iopub.execute_input": "2022-10-21T04:56:18.176628Z",
     "iopub.status.busy": "2022-10-21T04:56:18.176161Z",
     "iopub.status.idle": "2022-10-21T04:56:18.183016Z",
     "shell.execute_reply": "2022-10-21T04:56:18.182376Z"
    },
    "papermill": {
     "duration": 0.019797,
     "end_time": "2022-10-21T04:56:18.184539",
     "exception": false,
     "start_time": "2022-10-21T04:56:18.164742",
     "status": "completed"
    },
    "scrolled": false,
    "tags": []
   },
   "outputs": [],
   "source": [
    "def create_carousel(npub=4):\n",
    "    \"\"\" Generate the HTML code for a carousel with `npub` slides \"\"\"\n",
    "    carousel = [\"\"\"<section class=\"carousel\" aria-label=\"Gallery\">\"\"\",\n",
    "                \"\"\"  <ol class=\"carousel__viewport\">\"\"\",\n",
    "    ]\n",
    "    for k in range(1, npub + 1):\n",
    "        prev_ = k - 1\n",
    "        next_ = k + 1\n",
    "        if prev_ <= 0:\n",
    "            prev_ = npub\n",
    "        if next_ > npub:\n",
    "            next_ = 1\n",
    "        text  = f\"\"\"    <li id=\"carousel__slide{k}\" tabindex=\"0\" class=\"carousel__slide\">\\n\"\"\"\n",
    "        text += f\"\"\"       <div class=\"carousel__snapper\">\\n\"\"\"\n",
    "        text += f\"\"\"         <a href=\"#carousel__slide{prev_}\" class=\"carousel__prev\">Go to previous slide</a>\\n\"\"\"\n",
    "        text += f\"\"\"         <a href=\"#carousel__slide{next_}\" class=\"carousel__next\">Go to next slide</a>\\n\"\"\"\n",
    "        text += f\"\"\"         <div id=\"slide{k}_content\" class=\"md_view\" >Content {k}</div>\\n\"\"\"\n",
    "        text += f\"\"\"       </div>\\n\"\"\"\n",
    "        text += f\"\"\"    </li>\"\"\"\n",
    "        carousel.append(text)\n",
    "\n",
    "    carousel.extend([\n",
    "        \"\"\"  </ol>\"\"\",\n",
    "        \"\"\"  <aside class=\"carousel__navigation\">\"\"\",\n",
    "        \"\"\"    <ol class=\"carousel__navigation-list\">\"\"\"])\n",
    "\n",
    "    for k in range(1, npub + 1):\n",
    "        text  = f\"\"\"      <li class=\"carousel__navigation-item\">\\n\"\"\"\n",
    "        text += f\"\"\"        <a href=\"#carousel__slide{k}\" class=\"carousel__navigation-button\">Go to {k}</a>\\n\"\"\"\n",
    "        text += f\"\"\"      </li>\"\"\"\n",
    "        carousel.append(text)\n",
    "    carousel.extend([\"\"\"    </ol>\"\"\", \"\"\"  </aside>\"\"\", \"\"\"</section>\"\"\"])\n",
    "\n",
    "    return '\\n'.join(carousel)"
   ]
  },
  {
   "cell_type": "code",
   "execution_count": 12,
   "id": "a6eac5b6",
   "metadata": {
    "execution": {
     "iopub.execute_input": "2022-10-21T04:56:18.206897Z",
     "iopub.status.busy": "2022-10-21T04:56:18.206664Z",
     "iopub.status.idle": "2022-10-21T04:56:18.213205Z",
     "shell.execute_reply": "2022-10-21T04:56:18.212358Z"
    },
    "papermill": {
     "duration": 0.019776,
     "end_time": "2022-10-21T04:56:18.214619",
     "exception": false,
     "start_time": "2022-10-21T04:56:18.194843",
     "status": "completed"
    },
    "scrolled": false,
    "tags": []
   },
   "outputs": [],
   "source": [
    "carousel = create_carousel(npub)\n",
    "docs = ', '.join(['\"{0:s}\"'.format(k.split('/')[-1]) for k in res])\n",
    "slides = ', '.join([f'\"slide{k}_content\"' for k in range(1, npub + 1)])\n",
    "\n",
    "script = f\"\"\"\n",
    "const docs = [{docs}]\n",
    "\n",
    "const slides = [{slides}]\n",
    "\"\"\" + \"\"\"\n",
    "async function run() {\n",
    "    for (let i = 0; i < docs.length; i++) {\n",
    "        let file = await fetch(docs[i]);\n",
    "        let text = await file.text()\n",
    "        document.getElementById(slides[i]).innerHTML =\n",
    "            marked.parse(text);\n",
    "    }\n",
    "    hljs.highlightAll();\n",
    "}\n",
    "run()\n",
    "\"\"\"\n",
    "\n",
    "page = f\"\"\"<!doctype html>\n",
    "<html lang=\"en\">\n",
    "\n",
    "<head>\n",
    "  <meta charset=\"utf-8\">\n",
    "  <meta name=\"viewport\" content=\"width=device-width, initial-scale=1\">\n",
    "  <!-- Bootstrap CSS -->\n",
    "  <link href=\"https://cdn.jsdelivr.net/npm/bootstrap@5.0.2/dist/css/bootstrap.min.css\" rel=\"stylesheet\"\n",
    "   integrity=\"sha384-EVSTQN3/azprG1Anm3QDgpJLIm9Nao0Yz1ztcQTwFspd3yD65VohhpuuCOmLASjC\" crossorigin=\"anonymous\">\n",
    "  <!-- highlight.js CSS -->\n",
    "  <link rel=\"stylesheet\" href=\"https://cdnjs.cloudflare.com/ajax/libs/highlight.js/11.1.0/styles/default.min.css\">\n",
    "  <!-- Mathjax 3 -->\n",
    "  <script type=\"text/javascript\" id=\"MathJax-config\" src=\"mathjax_config.js\"> </script>\n",
    "  <script type=\"text/javascript\" id=\"MathJax-script\" async \n",
    "    src=\"https://cdn.jsdelivr.net/npm/mathjax@3/es5/tex-mml-chtml.js\">\n",
    "  </script>\n",
    "  <link rel=\"stylesheet\" href=\"index_carousel.css\">\n",
    "  <link rel=\"icon\" type=\"image/x-icon\" href=\"https://www.mpia.de/assets/touch-icon-32x32-a66937bcebc4e8894ebff1f41a366c7c7220fd97a38869ee0f2db65a9f59b6c1.png\">\n",
    "  <title>MPIA Arxiv on deck!</title>\n",
    "</head>\n",
    "\n",
    "<body>\n",
    "  <div id=\"header\"> <img src=\"header_banner.png\" width=\"100%\"></div>\n",
    "  <div id=\"suptitle\"> 7-day archives </div>\n",
    "  <div id=\"info\">\n",
    "    <img src=\"https://pngimg.com/uploads/github/github_PNG58.png\" height=30rem></img>\n",
    "    <a href=https://github.com/mpi-astronomy/arxiv_display style=\"color:black;\">github/mpi-astronomy/arxiv_display</a> \n",
    "  </div>\n",
    "  {carousel:s}\n",
    "</body>\n",
    "\n",
    "<!-- Render Markdown -->\n",
    "\n",
    "<body>\n",
    "  <!-- highlight.js: https://highlightjs.org/download/ -->\n",
    "  <script src=\"https://cdnjs.cloudflare.com/ajax/libs/highlight.js/11.5.0/highlight.min.js\"></script>\n",
    "  <!-- marked.js -->\n",
    "  <script src=\"https://cdn.jsdelivr.net/npm/marked/marked.min.js\"></script>\n",
    "  <script>{script:s}</script>\n",
    "</body>\n",
    "</html>\n",
    "\"\"\"\n",
    "with open(\"_build/html/index_7days.html\", 'w') as fout:\n",
    "    fout.write(page)"
   ]
  },
  {
   "cell_type": "markdown",
   "id": "1cebacbc",
   "metadata": {
    "papermill": {
     "duration": 0.010562,
     "end_time": "2022-10-21T04:56:18.269009",
     "exception": false,
     "start_time": "2022-10-21T04:56:18.258447",
     "status": "completed"
    },
    "tags": []
   },
   "source": [
    "# Debugging papers"
   ]
  },
  {
   "cell_type": "raw",
   "id": "debe7cc6",
   "metadata": {
    "papermill": {
     "duration": 0.010531,
     "end_time": "2022-10-21T04:56:18.290099",
     "exception": false,
     "start_time": "2022-10-21T04:56:18.279568",
     "status": "completed"
    },
    "tags": []
   },
   "source": [
    "raise NotImplementedError(\"Manual Stop\")"
   ]
  },
  {
   "cell_type": "raw",
   "id": "eb169192",
   "metadata": {
    "papermill": {
     "duration": 0.010375,
     "end_time": "2022-10-21T04:56:18.310984",
     "exception": false,
     "start_time": "2022-10-21T04:56:18.300609",
     "status": "completed"
    },
    "scrolled": true,
    "tags": []
   },
   "source": [
    "from IPython.display import display, Markdown\n",
    "from TexSoup import TexSoup\n",
    "import re\n",
    "\n",
    "def bracket_error(source: str):\n",
    "    \"\"\" Find problematic portions of the document \"\"\"\n",
    "    \n",
    "    print(\"len(source)\", len(source))\n",
    "    \n",
    "    # Checking header\n",
    "    begin_doc = next(re.finditer(r'\\\\begin\\{document\\}', doc.source)).span()[1]\n",
    "    header = source[:begin_doc]\n",
    "    text = header + r\"\\n\\end{document}\"\n",
    "\n",
    "    try:\n",
    "        # print(\"Header check... \", end='')\n",
    "        TexSoup(text)\n",
    "        display(Markdown(f\"**[OK]** - Header\"))\n",
    "    except:\n",
    "        raise RuntimeError(\"Error in the header\")\n",
    "        \n",
    "    # Check the text per section until the end.\n",
    "    # Do not stop and try them all.\n",
    "    \n",
    "    problematic_text = []\n",
    "    \n",
    "    sections = ([(0, begin_doc, 'until first section')] + \n",
    "                [(g.span()[0], g.span()[1], g.group()) for g in re.finditer(r'\\\\section\\{.*\\}', source)] +\n",
    "                [(g.span()[0], g.span()[1], g.group()) for g in re.finditer(r'\\\\begin\\{appendix\\}', source)]\n",
    "               )\n",
    "    sections.append([len(source), len(source), 'end'])\n",
    "    \n",
    "    sections = sorted(sections, key=lambda x: x[0])\n",
    "    \n",
    "    prev_pos, prev_name = (0, 'header')\n",
    "    parsed = []\n",
    "    \n",
    "    for span, span_end, name in sections:\n",
    "\n",
    "        if span - prev_pos <= 0:\n",
    "            continue\n",
    "            \n",
    "\n",
    "        text = source[prev_pos:span]\n",
    "        if prev_pos > begin_doc:\n",
    "            text = r\"\\n\\begin{document}\" + text + r\"\\n\\end{document}\"\n",
    "        else:\n",
    "            text = text + r\"\\n\\end{document}\"\n",
    "        try:\n",
    "            #print(f\"{prev_pos}:{prev_name}-->{span}:{name} check... \", end='')\n",
    "            parsed.append(TexSoup(text, tolerance=1))  # allow not ending env\n",
    "            display(Markdown(f\"**[OK]** - *{prev_pos}*:{prev_name} &rarr; *{span}*:{name}\"))\n",
    "            # print(\"ok\")\n",
    "\n",
    "            prev_pos = span\n",
    "            prev_name = name\n",
    "        except:\n",
    "            # print(f\"error between {prev_pos} and {span}\")\n",
    "            display(Markdown(f\"**[ERR]** *{prev_pos}*:{prev_name} &rarr; *{span}*:{name}\"))\n",
    "            problematic_text.append((prev_pos, source[prev_pos:span]))\n",
    "            prev_pos = span\n",
    "            prev_name = name\n",
    "            # raise\n",
    "    return problematic_text, parsed\n",
    "\n",
    "\n",
    "def check_environment(text, offset=0):\n",
    "    \"\"\" Check environment \"\"\"\n",
    "    env = re.compile(r\"\\\\begin\\{(?P<env>.*)\\}(.*)\\\\end\\{(?P=env)\\}\", re.DOTALL)\n",
    "\n",
    "    for match in env.finditer(text):\n",
    "        beg, end = match.span()\n",
    "        beg += offset\n",
    "        end += offset\n",
    "        envname = match.groups()[0]\n",
    "        try:\n",
    "            latex.TexSoup(match.group())\n",
    "        except Exception as e:\n",
    "            display(e)\n",
    "            print(f\"Error in {envname:s} between {beg} and {end}\")\n",
    "            return match.groups()[1], beg, end"
   ]
  },
  {
   "cell_type": "raw",
   "id": "2315e835",
   "metadata": {
    "papermill": {
     "duration": 0.010512,
     "end_time": "2022-10-21T04:56:18.331873",
     "exception": false,
     "start_time": "2022-10-21T04:56:18.321361",
     "status": "completed"
    },
    "scrolled": false,
    "tags": []
   },
   "source": [
    "import importlib\n",
    "importlib.reload(latex)\n",
    "which = \"2204.03253\"\n",
    "paper_id = f'{which:s}'\n",
    "folder = f'tmp_{paper_id:s}'\n",
    "\n",
    "if not os.path.isdir(folder):\n",
    "    folder = retrieve_document_source(f\"{paper_id}\", f'tmp_{paper_id}')\n",
    "\n",
    "try:\n",
    "    doc = latex.LatexDocument(folder, validation=validation)    \n",
    "except AffiliationError as affilerror:\n",
    "    msg = f\"ArXiv:{paper_id:s} is not an MPIA paper... \" + str(affilerror)\n",
    "    print(msg)\n",
    "\n",
    "\n",
    "# Hack because sometimes author parsing does not work well\n",
    "if (len(doc.authors) != len(paper['authors'])):\n",
    "    doc._authors = paper['authors']\n",
    "if (doc.abstract) in (None, ''):\n",
    "    doc._abstract = paper['abstract']\n",
    "\n",
    "doc.comment = get_markdown_badge(paper_id) + \" _\" + paper['comments'] + \"_\"\n",
    "doc.highlight_authors_in_list(hl_list)\n",
    "\n",
    "full_md = doc.generate_markdown_text()"
   ]
  },
  {
   "cell_type": "raw",
   "id": "dd3781db",
   "metadata": {
    "papermill": {
     "duration": 0.010432,
     "end_time": "2022-10-21T04:56:18.352660",
     "exception": false,
     "start_time": "2022-10-21T04:56:18.342228",
     "status": "completed"
    },
    "scrolled": false,
    "tags": []
   },
   "source": [
    "doc"
   ]
  },
  {
   "cell_type": "raw",
   "id": "c6eed834",
   "metadata": {
    "papermill": {
     "duration": 0.010411,
     "end_time": "2022-10-21T04:56:18.373460",
     "exception": false,
     "start_time": "2022-10-21T04:56:18.363049",
     "status": "completed"
    },
    "tags": []
   },
   "source": [
    "# [check_environment(k) for k in bracket_error(doc.source)]\n",
    "_, _, a = latex.get_content_per_section(doc.source, verbose=True)\n",
    "if not a:\n",
    "    print(\"no issues per section\")\n",
    "for ak in a:\n",
    "    r = check_environment(ak[1], offset=ak[0])\n",
    "    print(r[1], r[2])\n",
    "    print(r[0])"
   ]
  },
  {
   "cell_type": "code",
   "execution_count": null,
   "id": "71ce768a",
   "metadata": {
    "papermill": {
     "duration": 0.010351,
     "end_time": "2022-10-21T04:56:18.394524",
     "exception": false,
     "start_time": "2022-10-21T04:56:18.384173",
     "status": "completed"
    },
    "tags": []
   },
   "outputs": [],
   "source": []
  }
 ],
 "metadata": {
  "kernelspec": {
   "display_name": "Python 3.10.6 64-bit",
   "language": "python",
   "name": "python3"
  },
  "language_info": {
   "codemirror_mode": {
    "name": "ipython",
    "version": 3
   },
   "file_extension": ".py",
   "mimetype": "text/x-python",
   "name": "python",
   "nbconvert_exporter": "python",
   "pygments_lexer": "ipython3",
   "version": "3.9.15"
  },
  "papermill": {
   "default_parameters": {},
   "duration": 63.451269,
   "end_time": "2022-10-21T04:56:18.624001",
   "environment_variables": {},
   "exception": null,
   "input_path": "MPIA daily digest.ipynb",
   "output_path": "log.ipynb",
   "parameters": {},
   "start_time": "2022-10-21T04:55:15.172732",
   "version": "2.4.0"
  },
  "vscode": {
   "interpreter": {
    "hash": "e7370f93d1d0cde622a1f8e1c04877d8463912d04d973331ad4851f04de6915a"
   }
  },
  "widgets": {
   "application/vnd.jupyter.widget-state+json": {
    "state": {
     "04ad8e75ec9544eb84aad540461ad0f8": {
      "model_module": "@jupyter-widgets/base",
      "model_module_version": "2.0.0",
      "model_name": "LayoutModel",
      "state": {
       "_model_module": "@jupyter-widgets/base",
       "_model_module_version": "2.0.0",
       "_model_name": "LayoutModel",
       "_view_count": null,
       "_view_module": "@jupyter-widgets/base",
       "_view_module_version": "2.0.0",
       "_view_name": "LayoutView",
       "align_content": null,
       "align_items": null,
       "align_self": null,
       "border_bottom": null,
       "border_left": null,
       "border_right": null,
       "border_top": null,
       "bottom": null,
       "display": null,
       "flex": null,
       "flex_flow": null,
       "grid_area": null,
       "grid_auto_columns": null,
       "grid_auto_flow": null,
       "grid_auto_rows": null,
       "grid_column": null,
       "grid_gap": null,
       "grid_row": null,
       "grid_template_areas": null,
       "grid_template_columns": null,
       "grid_template_rows": null,
       "height": null,
       "justify_content": null,
       "justify_items": null,
       "left": null,
       "margin": null,
       "max_height": null,
       "max_width": null,
       "min_height": null,
       "min_width": null,
       "object_fit": null,
       "object_position": null,
       "order": null,
       "overflow": null,
       "padding": null,
       "right": null,
       "top": null,
       "visibility": null,
       "width": null
      }
     },
     "10082d24e34144ac9c5b3e2256cbbb34": {
      "model_module": "@jupyter-widgets/controls",
      "model_module_version": "2.0.0",
      "model_name": "HTMLStyleModel",
      "state": {
       "_model_module": "@jupyter-widgets/controls",
       "_model_module_version": "2.0.0",
       "_model_name": "HTMLStyleModel",
       "_view_count": null,
       "_view_module": "@jupyter-widgets/base",
       "_view_module_version": "2.0.0",
       "_view_name": "StyleView",
       "background": null,
       "description_width": "",
       "font_size": null,
       "text_color": null
      }
     },
     "19df40c05d6040719f138952d274fe84": {
      "model_module": "@jupyter-widgets/base",
      "model_module_version": "2.0.0",
      "model_name": "LayoutModel",
      "state": {
       "_model_module": "@jupyter-widgets/base",
       "_model_module_version": "2.0.0",
       "_model_name": "LayoutModel",
       "_view_count": null,
       "_view_module": "@jupyter-widgets/base",
       "_view_module_version": "2.0.0",
       "_view_name": "LayoutView",
       "align_content": null,
       "align_items": null,
       "align_self": null,
       "border_bottom": null,
       "border_left": null,
       "border_right": null,
       "border_top": null,
       "bottom": null,
       "display": null,
       "flex": null,
       "flex_flow": null,
       "grid_area": null,
       "grid_auto_columns": null,
       "grid_auto_flow": null,
       "grid_auto_rows": null,
       "grid_column": null,
       "grid_gap": null,
       "grid_row": null,
       "grid_template_areas": null,
       "grid_template_columns": null,
       "grid_template_rows": null,
       "height": null,
       "justify_content": null,
       "justify_items": null,
       "left": null,
       "margin": null,
       "max_height": null,
       "max_width": null,
       "min_height": null,
       "min_width": null,
       "object_fit": null,
       "object_position": null,
       "order": null,
       "overflow": null,
       "padding": null,
       "right": null,
       "top": null,
       "visibility": null,
       "width": null
      }
     },
     "42f8a228c07345c6a198a96e9adb0de7": {
      "model_module": "@jupyter-widgets/controls",
      "model_module_version": "2.0.0",
      "model_name": "ProgressStyleModel",
      "state": {
       "_model_module": "@jupyter-widgets/controls",
       "_model_module_version": "2.0.0",
       "_model_name": "ProgressStyleModel",
       "_view_count": null,
       "_view_module": "@jupyter-widgets/base",
       "_view_module_version": "2.0.0",
       "_view_name": "StyleView",
       "bar_color": null,
       "description_width": ""
      }
     },
     "64cbf27f32b8471ebd063d5dc8888701": {
      "model_module": "@jupyter-widgets/controls",
      "model_module_version": "2.0.0",
      "model_name": "HBoxModel",
      "state": {
       "_dom_classes": [],
       "_model_module": "@jupyter-widgets/controls",
       "_model_module_version": "2.0.0",
       "_model_name": "HBoxModel",
       "_view_count": null,
       "_view_module": "@jupyter-widgets/controls",
       "_view_module_version": "2.0.0",
       "_view_name": "HBoxView",
       "box_style": "",
       "children": [
        "IPY_MODEL_d911826b4b694423b021e0199dde7f87",
        "IPY_MODEL_ec53f77318b8431eb19120112ea8be36",
        "IPY_MODEL_b01b495c004640d7ae12de2a5ea17050"
       ],
       "layout": "IPY_MODEL_04ad8e75ec9544eb84aad540461ad0f8",
       "tabbable": null,
       "tooltip": null
      }
     },
     "681093cff3774119bbff19381a66b12f": {
      "model_module": "@jupyter-widgets/controls",
      "model_module_version": "2.0.0",
      "model_name": "HTMLStyleModel",
      "state": {
       "_model_module": "@jupyter-widgets/controls",
       "_model_module_version": "2.0.0",
       "_model_name": "HTMLStyleModel",
       "_view_count": null,
       "_view_module": "@jupyter-widgets/base",
       "_view_module_version": "2.0.0",
       "_view_name": "StyleView",
       "background": null,
       "description_width": "",
       "font_size": null,
       "text_color": null
      }
     },
     "8937e0dc3a7d4e0ca488659d42229dd9": {
      "model_module": "@jupyter-widgets/base",
      "model_module_version": "2.0.0",
      "model_name": "LayoutModel",
      "state": {
       "_model_module": "@jupyter-widgets/base",
       "_model_module_version": "2.0.0",
       "_model_name": "LayoutModel",
       "_view_count": null,
       "_view_module": "@jupyter-widgets/base",
       "_view_module_version": "2.0.0",
       "_view_name": "LayoutView",
       "align_content": null,
       "align_items": null,
       "align_self": null,
       "border_bottom": null,
       "border_left": null,
       "border_right": null,
       "border_top": null,
       "bottom": null,
       "display": null,
       "flex": null,
       "flex_flow": null,
       "grid_area": null,
       "grid_auto_columns": null,
       "grid_auto_flow": null,
       "grid_auto_rows": null,
       "grid_column": null,
       "grid_gap": null,
       "grid_row": null,
       "grid_template_areas": null,
       "grid_template_columns": null,
       "grid_template_rows": null,
       "height": null,
       "justify_content": null,
       "justify_items": null,
       "left": null,
       "margin": null,
       "max_height": null,
       "max_width": null,
       "min_height": null,
       "min_width": null,
       "object_fit": null,
       "object_position": null,
       "order": null,
       "overflow": null,
       "padding": null,
       "right": null,
       "top": null,
       "visibility": null,
       "width": null
      }
     },
     "8c0c0d1cfe46430ca8dfa4a5b3edbbfe": {
      "model_module": "@jupyter-widgets/base",
      "model_module_version": "2.0.0",
      "model_name": "LayoutModel",
      "state": {
       "_model_module": "@jupyter-widgets/base",
       "_model_module_version": "2.0.0",
       "_model_name": "LayoutModel",
       "_view_count": null,
       "_view_module": "@jupyter-widgets/base",
       "_view_module_version": "2.0.0",
       "_view_name": "LayoutView",
       "align_content": null,
       "align_items": null,
       "align_self": null,
       "border_bottom": null,
       "border_left": null,
       "border_right": null,
       "border_top": null,
       "bottom": null,
       "display": null,
       "flex": null,
       "flex_flow": null,
       "grid_area": null,
       "grid_auto_columns": null,
       "grid_auto_flow": null,
       "grid_auto_rows": null,
       "grid_column": null,
       "grid_gap": null,
       "grid_row": null,
       "grid_template_areas": null,
       "grid_template_columns": null,
       "grid_template_rows": null,
       "height": null,
       "justify_content": null,
       "justify_items": null,
       "left": null,
       "margin": null,
       "max_height": null,
       "max_width": null,
       "min_height": null,
       "min_width": null,
       "object_fit": null,
       "object_position": null,
       "order": null,
       "overflow": null,
       "padding": null,
       "right": null,
       "top": null,
       "visibility": null,
       "width": null
      }
     },
     "b01b495c004640d7ae12de2a5ea17050": {
      "model_module": "@jupyter-widgets/controls",
      "model_module_version": "2.0.0",
      "model_name": "HTMLModel",
      "state": {
       "_dom_classes": [],
       "_model_module": "@jupyter-widgets/controls",
       "_model_module_version": "2.0.0",
       "_model_name": "HTMLModel",
       "_view_count": null,
       "_view_module": "@jupyter-widgets/controls",
       "_view_module_version": "2.0.0",
       "_view_name": "HTMLView",
       "description": "",
       "description_allow_html": false,
       "layout": "IPY_MODEL_8937e0dc3a7d4e0ca488659d42229dd9",
       "placeholder": "​",
       "style": "IPY_MODEL_681093cff3774119bbff19381a66b12f",
       "tabbable": null,
       "tooltip": null,
       "value": " 25/25 [00:36&lt;00:00,  1.03it/s]"
      }
     },
     "d911826b4b694423b021e0199dde7f87": {
      "model_module": "@jupyter-widgets/controls",
      "model_module_version": "2.0.0",
      "model_name": "HTMLModel",
      "state": {
       "_dom_classes": [],
       "_model_module": "@jupyter-widgets/controls",
       "_model_module_version": "2.0.0",
       "_model_name": "HTMLModel",
       "_view_count": null,
       "_view_module": "@jupyter-widgets/controls",
       "_view_module_version": "2.0.0",
       "_view_name": "HTMLView",
       "description": "",
       "description_allow_html": false,
       "layout": "IPY_MODEL_19df40c05d6040719f138952d274fe84",
       "placeholder": "​",
       "style": "IPY_MODEL_10082d24e34144ac9c5b3e2256cbbb34",
       "tabbable": null,
       "tooltip": null,
       "value": "100%"
      }
     },
     "ec53f77318b8431eb19120112ea8be36": {
      "model_module": "@jupyter-widgets/controls",
      "model_module_version": "2.0.0",
      "model_name": "FloatProgressModel",
      "state": {
       "_dom_classes": [],
       "_model_module": "@jupyter-widgets/controls",
       "_model_module_version": "2.0.0",
       "_model_name": "FloatProgressModel",
       "_view_count": null,
       "_view_module": "@jupyter-widgets/controls",
       "_view_module_version": "2.0.0",
       "_view_name": "ProgressView",
       "bar_style": "success",
       "description": "",
       "description_allow_html": false,
       "layout": "IPY_MODEL_8c0c0d1cfe46430ca8dfa4a5b3edbbfe",
       "max": 25.0,
       "min": 0.0,
       "orientation": "horizontal",
       "style": "IPY_MODEL_42f8a228c07345c6a198a96e9adb0de7",
       "tabbable": null,
       "tooltip": null,
       "value": 25.0
      }
     }
    },
    "version_major": 2,
    "version_minor": 0
   }
  }
 },
 "nbformat": 4,
 "nbformat_minor": 5
}