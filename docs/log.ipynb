{
 "cells": [
  {
   "cell_type": "markdown",
   "id": "92bcb855",
   "metadata": {
    "papermill": {
     "duration": 0.003788,
     "end_time": "2024-03-19T04:10:49.257360",
     "exception": false,
     "start_time": "2024-03-19T04:10:49.253572",
     "status": "completed"
    },
    "tags": []
   },
   "source": [
    "# MPIA Arxiv on Deck 2\n",
    "\n",
    "Contains the steps to produce the paper extractions."
   ]
  },
  {
   "cell_type": "code",
   "execution_count": 1,
   "id": "3a0d6e11",
   "metadata": {
    "execution": {
     "iopub.execute_input": "2024-03-19T04:10:49.264743Z",
     "iopub.status.busy": "2024-03-19T04:10:49.264188Z",
     "iopub.status.idle": "2024-03-19T04:10:49.693636Z",
     "shell.execute_reply": "2024-03-19T04:10:49.693084Z"
    },
    "papermill": {
     "duration": 0.434938,
     "end_time": "2024-03-19T04:10:49.695335",
     "exception": false,
     "start_time": "2024-03-19T04:10:49.260397",
     "status": "completed"
    },
    "tags": []
   },
   "outputs": [],
   "source": [
    "# Imports\n",
    "import os\n",
    "from IPython.display import Markdown, display\n",
    "from tqdm.notebook import tqdm\n",
    "import warnings\n",
    "from PIL import Image \n",
    "\n",
    "# requires arxiv_on_deck_2\n",
    "\n",
    "from arxiv_on_deck_2.arxiv2 import (get_new_papers, \n",
    "                                    get_paper_from_identifier,\n",
    "                                    retrieve_document_source, \n",
    "                                    get_markdown_badge)\n",
    "from arxiv_on_deck_2 import (latex,\n",
    "                             latex_bib,\n",
    "                             mpia,\n",
    "                             highlight_authors_in_list)\n",
    "\n",
    "# Sometimes images are really big\n",
    "Image.MAX_IMAGE_PIXELS = 1000000000 "
   ]
  },
  {
   "cell_type": "code",
   "execution_count": 2,
   "id": "22aa9d44",
   "metadata": {
    "execution": {
     "iopub.execute_input": "2024-03-19T04:10:49.702389Z",
     "iopub.status.busy": "2024-03-19T04:10:49.702130Z",
     "iopub.status.idle": "2024-03-19T04:10:49.707198Z",
     "shell.execute_reply": "2024-03-19T04:10:49.706633Z"
    },
    "papermill": {
     "duration": 0.010132,
     "end_time": "2024-03-19T04:10:49.708549",
     "exception": false,
     "start_time": "2024-03-19T04:10:49.698417",
     "status": "completed"
    },
    "tags": []
   },
   "outputs": [],
   "source": [
    "# Some useful definitions.\n",
    "\n",
    "class AffiliationWarning(UserWarning):\n",
    "    pass\n",
    "\n",
    "class AffiliationError(RuntimeError):\n",
    "    pass\n",
    "\n",
    "def validation(source: str):\n",
    "    \"\"\"Raises error paper during parsing of source file\n",
    "    \n",
    "    Allows checks before parsing TeX code.\n",
    "    \n",
    "    Raises AffiliationWarning\n",
    "    \"\"\"\n",
    "    check = mpia.affiliation_verifications(source, verbose=True)\n",
    "    if check is not True:\n",
    "        raise AffiliationError(\"mpia.affiliation_verifications: \" + check)\n",
    "\n",
    "        \n",
    "warnings.simplefilter('always', AffiliationWarning)\n",
    "\n",
    "\n",
    "def get_markdown_qrcode(paper_id: str):\n",
    "    \"\"\" Generate a qrcode to the arxiv page using qrserver.com\n",
    "    \n",
    "    :param paper: Arxiv paper\n",
    "    :returns: markdown text\n",
    "    \"\"\"\n",
    "    url = r\"https://api.qrserver.com/v1/create-qr-code/?size=100x100&data=\"\n",
    "    txt = f\"\"\"<img src={url}\"https://arxiv.org/abs/{paper_id}\">\"\"\"\n",
    "    txt = '<div id=\"qrcode\">' + txt + '</div>'\n",
    "    return txt"
   ]
  },
  {
   "cell_type": "markdown",
   "id": "14bd6310",
   "metadata": {
    "papermill": {
     "duration": 0.002703,
     "end_time": "2024-03-19T04:10:49.714026",
     "exception": false,
     "start_time": "2024-03-19T04:10:49.711323",
     "status": "completed"
    },
    "tags": []
   },
   "source": [
    "## get list of arxiv paper candidates\n",
    "\n",
    "We use the MPIA mitarbeiter list webpage from mpia.de to get author names\n",
    "We then get all new papers from Arxiv and match authors"
   ]
  },
  {
   "cell_type": "code",
   "execution_count": 3,
   "id": "2645e73a",
   "metadata": {
    "execution": {
     "iopub.execute_input": "2024-03-19T04:10:49.720734Z",
     "iopub.status.busy": "2024-03-19T04:10:49.720267Z",
     "iopub.status.idle": "2024-03-19T04:11:12.404044Z",
     "shell.execute_reply": "2024-03-19T04:11:12.403319Z"
    },
    "papermill": {
     "duration": 22.688579,
     "end_time": "2024-03-19T04:11:12.405421",
     "exception": false,
     "start_time": "2024-03-19T04:10:49.716842",
     "status": "completed"
    },
    "tags": []
   },
   "outputs": [
    {
     "name": "stdout",
     "output_type": "stream",
     "text": [
      "P. Eitner  ->  P. Eitner  |  ['P. Eitner']\n",
      "L. Xie  ->  Z.-L. Xie  |  ['L. Xie']\n",
      "Arxiv has 58 new papers today\n",
      "          2 with possible author matches\n"
     ]
    }
   ],
   "source": [
    "# get list from MPIA website\n",
    "# it automatically filters identified non-scientists :func:`mpia.filter_non_scientists`\n",
    "mpia_authors = mpia.get_mpia_mitarbeiter_list()\n",
    "normed_mpia_authors = [k[1] for k in mpia_authors]   # initials + fullname\n",
    "new_papers = get_new_papers()\n",
    "# add manual references\n",
    "add_paper_refs = []\n",
    "new_papers.extend([get_paper_from_identifier(k) for k in add_paper_refs])\n",
    "\n",
    "candidates = []\n",
    "for paperk in new_papers:\n",
    "    # Check author list with their initials\n",
    "    normed_author_list = [mpia.get_initials(k) for k in paperk['authors']]\n",
    "    hl_authors = highlight_authors_in_list(normed_author_list, normed_mpia_authors, verbose=True)\n",
    "    matches = [(hl, orig) for hl, orig in zip(hl_authors, paperk['authors']) if 'mark' in hl]\n",
    "    paperk['authors'] = hl_authors\n",
    "    if matches:\n",
    "        # only select paper if an author matched our list\n",
    "        candidates.append(paperk)\n",
    "print(\"\"\"Arxiv has {0:,d} new papers today\"\"\".format(len(new_papers)))        \n",
    "print(\"\"\"          {0:,d} with possible author matches\"\"\".format(len(candidates)))"
   ]
  },
  {
   "cell_type": "markdown",
   "id": "3543b34a",
   "metadata": {
    "papermill": {
     "duration": 0.002952,
     "end_time": "2024-03-19T04:11:12.411605",
     "exception": false,
     "start_time": "2024-03-19T04:11:12.408653",
     "status": "completed"
    },
    "tags": []
   },
   "source": [
    "# Parse sources and generate relevant outputs\n",
    "\n",
    "From the candidates, we do the following steps:\n",
    "* get their tarball from ArXiv (and extract data)\n",
    "* find the main .tex file: find one with \\documentclass{...} (sometimes it's non trivial)\n",
    "* Check affiliations with :func:`validation`, which uses :func:`mpia.affiliation_verifications`\n",
    "* If passing the affiliations: we parse the .tex source\n",
    "   * inject sub-documents into the main (flatten the main document)\n",
    "   * parse structure, extract information (title, abstract, authors, figures...)\n",
    "   * handles `\\graphicspath` if provided\n",
    "* Generate the .md document."
   ]
  },
  {
   "cell_type": "code",
   "execution_count": 4,
   "id": "9576b79e",
   "metadata": {
    "execution": {
     "iopub.execute_input": "2024-03-19T04:11:12.418280Z",
     "iopub.status.busy": "2024-03-19T04:11:12.418050Z",
     "iopub.status.idle": "2024-03-19T04:11:34.865934Z",
     "shell.execute_reply": "2024-03-19T04:11:34.865140Z"
    },
    "papermill": {
     "duration": 22.453601,
     "end_time": "2024-03-19T04:11:34.868007",
     "exception": false,
     "start_time": "2024-03-19T04:11:12.414406",
     "status": "completed"
    },
    "scrolled": false,
    "tags": []
   },
   "outputs": [
    {
     "data": {
      "application/vnd.jupyter.widget-view+json": {
       "model_id": "fcb5503e9bff44c7989e9f777c3d8917",
       "version_major": 2,
       "version_minor": 0
      },
      "text/plain": [
       "  0%|          | 0/2 [00:00<?, ?it/s]"
      ]
     },
     "metadata": {},
     "output_type": "display_data"
    },
    {
     "name": "stdout",
     "output_type": "stream",
     "text": [
      "Retrieving document from  https://arxiv.org/e-print/2403.10597\n"
     ]
    },
    {
     "name": "stdout",
     "output_type": "stream",
     "text": [
      "extracting tarball to tmp_2403.10597... done.\n"
     ]
    },
    {
     "name": "stdout",
     "output_type": "stream",
     "text": [
      "Found 87 bibliographic references in tmp_2403.10597/46859corr.bbl.\n",
      "Retrieving document from  https://arxiv.org/e-print/2403.11635\n"
     ]
    },
    {
     "name": "stdout",
     "output_type": "stream",
     "text": [
      "extracting tarball to tmp_2403.11635... done.\n"
     ]
    }
   ],
   "source": [
    "documents = []\n",
    "failed = []\n",
    "for paper in tqdm(candidates):\n",
    "    paper_id = paper['identifier'].lower().replace('arxiv:', '')\n",
    "    \n",
    "    folder = f'tmp_{paper_id}'\n",
    "\n",
    "    try:\n",
    "        if not os.path.isdir(folder):\n",
    "            folder = retrieve_document_source(f\"{paper_id}\", f'tmp_{paper_id}')\n",
    "        \n",
    "        try:\n",
    "            doc = latex.LatexDocument(folder, validation=validation)    \n",
    "        except AffiliationError as affilerror:\n",
    "            msg = f\"ArXiv:{paper_id:s} is not an MPIA paper... \" + str(affilerror)\n",
    "            failed.append((paper, \"affiliation error: \" + str(affilerror) ))\n",
    "            continue\n",
    "        \n",
    "        # Hack because sometimes author parsing does not work well\n",
    "        if (len(doc.authors) != len(paper['authors'])):\n",
    "            doc._authors = paper['authors']\n",
    "        else:\n",
    "            # highlight authors (FIXME: doc.highlight_authors)\n",
    "            # done on arxiv paper already\n",
    "            doc._authors = highlight_authors_in_list(\n",
    "                [mpia.get_initials(k) for k in doc.authors], \n",
    "                normed_mpia_authors, verbose=True)\n",
    "        if (doc.abstract) in (None, ''):\n",
    "            doc._abstract = paper['abstract']\n",
    "            \n",
    "        doc.comment = (get_markdown_badge(paper_id) + \n",
    "                       \"<mark>Appeared on: \" + paper['date'] + \"</mark> - \")\n",
    "        if paper['comments']:\n",
    "            doc.comment += \" _\" + paper['comments'] + \"_\"\n",
    "        \n",
    "        full_md = doc.generate_markdown_text()\n",
    "        \n",
    "        full_md += get_markdown_qrcode(paper_id)\n",
    "        \n",
    "        # replace citations\n",
    "        try:\n",
    "            bibdata = latex_bib.LatexBib.from_doc(doc)\n",
    "            full_md = latex_bib.replace_citations(full_md, bibdata)\n",
    "        except Exception as e:\n",
    "            print(e)\n",
    "        \n",
    "        documents.append((paper_id, full_md))\n",
    "    except Exception as e:\n",
    "        warnings.warn(latex.LatexWarning(f\"{paper_id:s} did not run properly\\n\" +\n",
    "                                         str(e)\n",
    "                                        ))\n",
    "        failed.append((paper, \"latex error \" + str(e)))"
   ]
  },
  {
   "cell_type": "markdown",
   "id": "2505a25c",
   "metadata": {
    "papermill": {
     "duration": 0.003223,
     "end_time": "2024-03-19T04:11:34.875533",
     "exception": false,
     "start_time": "2024-03-19T04:11:34.872310",
     "status": "completed"
    },
    "tags": []
   },
   "source": [
    "### Export the logs\n",
    "\n",
    "Throughout, we also keep track of the logs per paper. see `logs-{today date}.md` "
   ]
  },
  {
   "cell_type": "code",
   "execution_count": 5,
   "id": "d733828a",
   "metadata": {
    "execution": {
     "iopub.execute_input": "2024-03-19T04:11:34.883283Z",
     "iopub.status.busy": "2024-03-19T04:11:34.882866Z",
     "iopub.status.idle": "2024-03-19T04:11:34.895172Z",
     "shell.execute_reply": "2024-03-19T04:11:34.894587Z"
    },
    "papermill": {
     "duration": 0.01773,
     "end_time": "2024-03-19T04:11:34.896459",
     "exception": false,
     "start_time": "2024-03-19T04:11:34.878729",
     "status": "completed"
    },
    "scrolled": false,
    "tags": []
   },
   "outputs": [
    {
     "data": {
      "text/markdown": [
       "## Successful papers"
      ],
      "text/plain": [
       "<IPython.core.display.Markdown object>"
      ]
     },
     "metadata": {},
     "output_type": "display_data"
    },
    {
     "data": {
      "text/markdown": [
       "\n",
       "|||\n",
       "|---:|:---|\n",
       "| [![arXiv](https://img.shields.io/badge/arXiv-arXiv:2403.10597-b31b1b.svg)](https://arxiv.org/abs/arXiv:2403.10597) | **Detailed chemical composition of the globular cluster Sextans A GC-1 on  the outskirts of the Local Group**  |\n",
       "|| A. Gvozdenko, et al. -- incl., <mark>P. Eitner</mark> |\n",
       "|*Appeared on*| *2024-03-19*|\n",
       "|*Comments*| *14 pages, 8 figures*|\n",
       "|**Abstract**| The chemical composition of globular clusters (GCs) across the Local Group provides information on chemical abundance trends. The host galaxy, Sextans A, is a low-surface-brightness dwarf irregular galaxy located on the edge of the Local Group.We derive the dynamical mass of the GC together with the mass-to-light ratio and the abundances of the ${\\alpha}$ (Mg, Ca, Ti, Si), Fe-peak (Fe, Cr, Mn, Sc, Ni), and heavy elements (Ba, Cu, Zn, Eu). Abundance ratios were determined from the analysis of an optical integrated-light spectrum of Sextans A GC-1, obtained with UVES on the VLT. We apply non-local thermodynamic equilibrium (NLTE) corrections to Mg, Ca, Ti, Fe, and Ni. The GC appears to be younger and more metal-poor than the majority of the GCs of the Milky Way, with an age of 8.6$\\pm$2.7 Gyr and $\\text{[Fe/H]}=-2.14\\pm0.04$ dex. The calculated dynamical mass is $(5.18 \\pm1.62) \\times 10^5 M_{\\odot}$, which results in an atypically high value of the mass-to-light ratio, 4.35$\\pm$1.40 M$_{\\odot}$/L$_{V \\odot}$. Sextans A GC-1 has varying $\\alpha$ elements - the Mg abundance is extremely low ($\\text{[Mg/Fe]}=-0.79\\pm0.29$), Ca and Ti are solar-scaled or mildly enhanced, and Si is enhanced. This makes the mean $\\alpha$ abundance (excluding Mg) to be enhanced. The Fe-peak elements are consistent with scaled-solar or slightly enhanced abundances. Ba and Cu have sub-solar abundance ratios, while Zn and Eu are consistent with their upper limits being solar-scaled and enhanced. The composition of Sextans A GC-1 resembles the overall pattern and behaviour of GCs in the Local Group. The anomalous values are the mass-to-light ratio and the depleted abundance of Mg. There is no definite explanation for such an extreme abundance value. Variations in the initial mass function or the presence of an intermediate-mass black hole might explain the high mass-to-light ratio value. |"
      ],
      "text/plain": [
       "[arXiv:2403.10597] Detailed chemical composition of the globular cluster Sextans A GC-1 on  the outskirts of the Local Group\n",
       "\tA. Gvozdenko, et al. -- incl., <mark>P. Eitner</mark>"
      ]
     },
     "metadata": {},
     "output_type": "display_data"
    },
    {
     "data": {
      "text/markdown": [
       "## Failed papers"
      ],
      "text/plain": [
       "<IPython.core.display.Markdown object>"
      ]
     },
     "metadata": {},
     "output_type": "display_data"
    },
    {
     "data": {
      "text/markdown": [
       "\n",
       "|||\n",
       "|---:|:---|\n",
       "| [![arXiv](https://img.shields.io/badge/arXiv-arXiv:2403.11635-b31b1b.svg)](https://arxiv.org/abs/arXiv:2403.11635) | **The FAST Galactic Plane Pulsar Snapshot Survey: V. PSR J1901+0658 in a  double neutron star system**  |\n",
       "|| W. Q. Su, et al. -- incl., <mark>L. Xie</mark> |\n",
       "|*Appeared on*| *2024-03-19*|\n",
       "|*Comments*| *6 pages, 6 figures, submitted to MNRAS*|\n",
       "|**Abstract**| Double neutron star (DNS) systems offer excellent opportunities to test gravity theories. We report the timing results of a pulsar, PSR J1901+0658, discovered in the FAST Galactic Plane Pulsar Snapshot (GPPS) survey. Based on timing observations by FAST over 5 years, we obtain the phase-coherent timing solutions and derive the precise measurements of its position, spin parameters, orbital parameters, and also the dispersion measure (DM). It has a period of 75.7 ms, a period derivative of 2.169(6)$\\times 10^{-19}$ s s$^{-1}$, and the characteristic age of 5.5 Gyr. This pulsar is in an orbit with a period of 14.45 days and an eccentricity of 0.366. One post-Keplerian parameter, periastron advance, has been well measured as being 0.00531(9) deg/yr, from which the total mass of this system is derived to be 2.79(7) $M_{\\sun}$. The pulsar has the upper limit of mass of 1.68 $M_{\\sun}$, so the lower limit for the companion mass is 1.11 $M_{\\sun}$. Because PSR J1901+0658 is a partially recycled pulsar in an eccentric binary orbit with such a large companion mass, it should be in a DNS system according to the evolution history of the binary system. |\n",
       "|<p style=\"color:green\"> **ERROR** </p>| <p style=\"color:green\">affiliation error: mpia.affiliation_verifications: 'Heidelberg' keyword not found.</p> |"
      ],
      "text/plain": [
       "<IPython.core.display.Markdown object>"
      ]
     },
     "metadata": {},
     "output_type": "display_data"
    }
   ],
   "source": [
    "import datetime\n",
    "today = str(datetime.date.today())\n",
    "logfile = f\"_build/html/logs/log-{today}.md\"\n",
    "\n",
    "\n",
    "with open(logfile, 'w') as logs:\n",
    "    # Success\n",
    "    logs.write(f'# Arxiv on Deck 2: Logs - {today}\\n\\n')\n",
    "    logs.write(\"\"\"* Arxiv had {0:,d} new papers\\n\"\"\".format(len(new_papers)))\n",
    "    logs.write(\"\"\"    * {0:,d} with possible author matches\\n\\n\"\"\".format(len(candidates)))\n",
    "    logs.write(\"## Sucessful papers\\n\\n\")\n",
    "    display(Markdown(\"## Successful papers\"))\n",
    "    success = [k[0] for k in documents]\n",
    "    for candid in candidates:\n",
    "        if candid['identifier'].split(':')[-1] in success:\n",
    "            display(candid)\n",
    "            logs.write(candid.generate_markdown_text() + '\\n\\n')\n",
    "\n",
    "    ## failed\n",
    "    logs.write(\"## Failed papers\\n\\n\")\n",
    "    display(Markdown(\"## Failed papers\"))\n",
    "    failed = sorted(failed, key=lambda x: x[1])\n",
    "    current_reason = \"\"\n",
    "    for paper, reason in failed:\n",
    "        if 'affiliation' in reason:\n",
    "            color = 'green'\n",
    "        else:\n",
    "            color = 'red'\n",
    "        data = Markdown(\n",
    "                paper.generate_markdown_text() + \n",
    "                f'\\n|<p style=\"color:{color:s}\"> **ERROR** </p>| <p style=\"color:{color:s}\">{reason:s}</p> |'\n",
    "               )\n",
    "        if reason != current_reason:\n",
    "            logs.write(f'### {reason:s} \\n\\n')\n",
    "            current_reason = reason\n",
    "        logs.write(data.data + '\\n\\n')\n",
    "        \n",
    "        # only display here the important errors (all in logs)\n",
    "        # if color in ('red',):\n",
    "        display(data)"
   ]
  },
  {
   "cell_type": "markdown",
   "id": "472d20ee",
   "metadata": {
    "papermill": {
     "duration": 0.003502,
     "end_time": "2024-03-19T04:11:34.903695",
     "exception": false,
     "start_time": "2024-03-19T04:11:34.900193",
     "status": "completed"
    },
    "tags": []
   },
   "source": [
    "## Export documents\n",
    "\n",
    "We now write the .md files and export relevant images"
   ]
  },
  {
   "cell_type": "code",
   "execution_count": 6,
   "id": "d426aed9",
   "metadata": {
    "execution": {
     "iopub.execute_input": "2024-03-19T04:11:34.911981Z",
     "iopub.status.busy": "2024-03-19T04:11:34.911576Z",
     "iopub.status.idle": "2024-03-19T04:11:34.917755Z",
     "shell.execute_reply": "2024-03-19T04:11:34.917174Z"
    },
    "papermill": {
     "duration": 0.011873,
     "end_time": "2024-03-19T04:11:34.919082",
     "exception": false,
     "start_time": "2024-03-19T04:11:34.907209",
     "status": "completed"
    },
    "tags": []
   },
   "outputs": [],
   "source": [
    "def export_markdown_summary(md: str, md_fname:str, directory: str):\n",
    "    \"\"\"Export MD document and associated relevant images\"\"\"\n",
    "    import os\n",
    "    import shutil\n",
    "    import re\n",
    "\n",
    "    if (os.path.exists(directory) and not os.path.isdir(directory)):\n",
    "        raise RuntimeError(f\"a non-directory file exists with name {directory:s}\")\n",
    "\n",
    "    if (not os.path.exists(directory)):\n",
    "        print(f\"creating directory {directory:s}\")\n",
    "        os.mkdir(directory)\n",
    "\n",
    "    fig_fnames = (re.compile(r'\\[Fig.*\\]\\((.*)\\)').findall(md) + \n",
    "                  re.compile(r'\\<img src=\"([^>\\s]*)\"[^>]*/>').findall(md))\n",
    "    for fname in fig_fnames:\n",
    "        if 'http' in fname:\n",
    "            # No need to copy online figures\n",
    "            continue\n",
    "        destdir = os.path.join(directory, os.path.dirname(fname))\n",
    "        destfname = os.path.join(destdir, os.path.basename(fname))\n",
    "        try:\n",
    "            os.makedirs(destdir)\n",
    "        except FileExistsError:\n",
    "            pass\n",
    "        shutil.copy(fname, destfname)\n",
    "    with open(os.path.join(directory, md_fname), 'w') as fout:\n",
    "        fout.write(md)\n",
    "    print(\"exported in \", os.path.join(directory, md_fname))\n",
    "    [print(\"    + \" + os.path.join(directory,fk)) for fk in fig_fnames]"
   ]
  },
  {
   "cell_type": "code",
   "execution_count": 7,
   "id": "014d04a4",
   "metadata": {
    "execution": {
     "iopub.execute_input": "2024-03-19T04:11:34.927390Z",
     "iopub.status.busy": "2024-03-19T04:11:34.926985Z",
     "iopub.status.idle": "2024-03-19T04:11:34.935608Z",
     "shell.execute_reply": "2024-03-19T04:11:34.934988Z"
    },
    "papermill": {
     "duration": 0.014137,
     "end_time": "2024-03-19T04:11:34.936865",
     "exception": false,
     "start_time": "2024-03-19T04:11:34.922728",
     "status": "completed"
    },
    "tags": []
   },
   "outputs": [
    {
     "name": "stdout",
     "output_type": "stream",
     "text": [
      "exported in  _build/html/2403.10597.md\n",
      "    + _build/html/tmp_2403.10597/./other_elem_GC.png\n",
      "    + _build/html/tmp_2403.10597/./alpha_elem_GC.png\n",
      "    + _build/html/tmp_2403.10597/./Mg45.png\n",
      "    + _build/html/tmp_2403.10597/./Mg47.png\n"
     ]
    }
   ],
   "source": [
    "for paper_id, md in documents:\n",
    "    export_markdown_summary(md, f\"{paper_id:s}.md\", '_build/html/')"
   ]
  },
  {
   "cell_type": "markdown",
   "id": "f087a0a7",
   "metadata": {
    "papermill": {
     "duration": 0.003606,
     "end_time": "2024-03-19T04:11:34.944203",
     "exception": false,
     "start_time": "2024-03-19T04:11:34.940597",
     "status": "completed"
    },
    "tags": []
   },
   "source": [
    "## Display the papers\n",
    "\n",
    "Not necessary but allows for a quick check."
   ]
  },
  {
   "cell_type": "code",
   "execution_count": 8,
   "id": "fd25f625",
   "metadata": {
    "execution": {
     "iopub.execute_input": "2024-03-19T04:11:34.952732Z",
     "iopub.status.busy": "2024-03-19T04:11:34.952262Z",
     "iopub.status.idle": "2024-03-19T04:11:34.956812Z",
     "shell.execute_reply": "2024-03-19T04:11:34.956256Z"
    },
    "papermill": {
     "duration": 0.010252,
     "end_time": "2024-03-19T04:11:34.958151",
     "exception": false,
     "start_time": "2024-03-19T04:11:34.947899",
     "status": "completed"
    },
    "scrolled": false,
    "tags": []
   },
   "outputs": [
    {
     "data": {
      "text/markdown": [
       "<div class=\"macros\" style=\"visibility:hidden;\">\n",
       "$\\newcommand{\\ensuremath}{}$\n",
       "$\\newcommand{\\xspace}{}$\n",
       "$\\newcommand{\\object}[1]{\\texttt{#1}}$\n",
       "$\\newcommand{\\farcs}{{.}''}$\n",
       "$\\newcommand{\\farcm}{{.}'}$\n",
       "$\\newcommand{\\arcsec}{''}$\n",
       "$\\newcommand{\\arcmin}{'}$\n",
       "$\\newcommand{\\ion}[2]{#1#2}$\n",
       "$\\newcommand{\\textsc}[1]{\\textrm{#1}}$\n",
       "$\\newcommand{\\hl}[1]{\\textrm{#1}}$\n",
       "$\\newcommand{\\footnote}[1]{}$</div>\n",
       "\n",
       "\n",
       "\n",
       "<div id=\"title\">\n",
       "\n",
       "# Detailed chemical composition of the globular cluster Sextans A GC-1 on the outskirts of the Local Group\n",
       "\n",
       "</div>\n",
       "<div id=\"comments\">\n",
       "\n",
       "[![arXiv](https://img.shields.io/badge/arXiv-2403.10597-b31b1b.svg)](https://arxiv.org/abs/2403.10597)<mark>Appeared on: 2024-03-19</mark> -  _14 pages, 8 figures_\n",
       "\n",
       "</div>\n",
       "<div id=\"authors\">\n",
       "\n",
       "A. Gvozdenko, et al. -- incl., <mark>P. Eitner</mark>\n",
       "\n",
       "</div>\n",
       "<div id=\"abstract\">\n",
       "\n",
       "**Abstract:** The chemical composition of globular clusters (GCs) across the Local Group provides information on chemical abundance trends. Studying GCs in isolated systems in particular provides us with important initial conditions plausibly unperturbed by mergers and tidal forces from the large Local Group spirals. We present a detailed chemical abundance analysis of Sextans A GC-1. The host galaxy, Sextans A, is a low-surface-brightness dwarf irregular galaxy located on the edge of the Local Group. We derive the dynamical mass of the GC together with the mass-to-light ratio and the abundances of the $\\alpha$ , Fe-peak, and heavy elements. Abundance ratios were determined from the analysis of an optical integrated-light spectrum of Sextans A GC-1, obtained with UVES on the VLT. We apply non-local thermodynamic equilibrium (NLTE) corrections to Mg, Ca, Ti, Fe, and Ni. The GC appears to be younger and more metal-poor than the majority of the GCs of the Milky Way, with an age of 8.6 $\\pm$ 2.7 Gyr and $\\text{[Fe/H]}=-2.14\\pm0.04$ dex. The calculated dynamical mass is $M_{dyn}=(5.18 \\pm1.62) \\times 10^5 M_{\\odot}$ , which results in an atypically high value of the mass-to-light ratio, 4.35 $\\pm$ 1.40 M $_{\\odot}$ /L $_{V \\odot}$ . Sextans A GC-1 has varying $\\alpha$ elements -- the Mg abundance is extremely low, Ca and Ti are solar-scaled or mildly enhanced, and Si is enhanced. The measured values are $\\text{[Mg/Fe]}=-0.79\\pm0.29$ , $\\text{[Ca/Fe]}=+0.13\\pm0.07$ , $\\text{[Ti/Fe]}=+0.27\\pm0.11$ , and $\\text{[Si/Fe]}=+0.62\\pm0.26$ , which makes the mean $\\alpha$ abundance (excluding Mg) to be enhanced $\\text{[<Si,Ca,Ti>/Fe]}_{\\text{NLTE}}=+0.34\\pm0.15$ . The Fe-peak elements are consistent with scaled-solar or slightly enhanced abundances: $\\text{[Cr/Fe]}=+0.31\\pm0.18$ , $\\text{[Mn/Fe]}=+0.19\\pm0.32$ , $\\text{[Sc/Fe]}=+0.22\\pm0.22$ , and $\\text{[Ni/Fe]}=+0.02\\pm0.12$ . The heavy elements measured are Ba, Cu, Zn, and Eu. Ba and Cu have sub-solar abundance ratios ( $\\text{[Ba/Fe]}=-0.48\\pm0.21$ and $\\text{[Cu/Fe]}<-0.343$ ), while Zn and Eu are consistent with their upper limits being solar-scaled and enhanced, $\\text{[Zn/Fe]}<+0.171$ and $\\text{[Eu/Fe]}<+0.766$ . The composition of Sextans A GC-1 resembles the overall pattern and behaviour of GCs in the Local Group. The anomalous values are the mass-to-light ratio and the depleted abundance of Mg. There is no definite explanation for such an extreme abundance value. Variations in the initial mass function or the presence of an intermediate-mass black hole might explain the high mass-to-light ratio value.\n",
       "\n",
       "</div>\n",
       "\n",
       "<div id=\"div_fig1\">\n",
       "\n",
       "<img src=\"tmp_2403.10597/./other_elem_GC.png\" alt=\"Fig7\" width=\"100%\"/>\n",
       "\n",
       "**Figure 7. -** Fe-peak and heavy elements plotted against iron abundance, [Fe/H]. Top: [Sc/Fe] vs [Fe/H]. Second row: [Cr/Fe] vs [Fe/H]. Third row: [Mn/Fe] vs [Fe/H]. Fourth row: [Ba/Fe] vs [Fe/H]. Bottom: [Ni/Fe] vs [Fe/H].  Symbols are the same as in Figure \\ref{Fig_alpha_elemVSfe}.\n",
       " (*Fig_other_elemVSfe*)\n",
       "\n",
       "</div>\n",
       "<div id=\"div_fig2\">\n",
       "\n",
       "<img src=\"tmp_2403.10597/./alpha_elem_GC.png\" alt=\"Fig6\" width=\"100%\"/>\n",
       "\n",
       "**Figure 6. -** Individual $\\alpha$ elements plotted against iron abundance, [Fe/H]. Top: [Mg/Fe] vs [Fe/H]. Second row: [Ca/Fe] vs [Fe/H]. Third row: [Ti/Fe] vs [Fe/H]. Fourth row: [Si/Fe] vs [Fe/H]. Bottom: $\\text{[<Si,Ca,Ti>/Fe]}$ vs [Fe/H]. Turquoise rhombus refers to this work. Purple circles show the NLTE abundance of the GCs in the Local Group from [Larsen, Eitner and Magg (2022)]();\n",
       "some of these Local Group GCs are highlighted in red symbols and introduced in the legends accordingly, e.g. N147 PA-1 is a red circle, Fornax 3 is a red star, M31 358-219 is a red square,\n",
       "and red crosses and black Xs present MW disc abundances from [Reddy, Tomkin and Lambert (2003)](), [Reddy and Lambert (2006)](), respectively.\n",
       "Black open circles are the MW disc abundances from [Bensby, et. al (2005)]().\n",
       "Blue squares and stars belong to LMC bar and inner disc abundances presented by  ([Hill, Primas and Cole 2013]()) ).\n",
       " (*Fig_alpha_elemVSfe*)\n",
       "\n",
       "</div>\n",
       "<div id=\"div_fig3\">\n",
       "\n",
       "<img src=\"tmp_2403.10597/./Mg45.png\" alt=\"Fig1.1\" width=\"50%\"/><img src=\"tmp_2403.10597/./Mg47.png\" alt=\"Fig1.2\" width=\"50%\"/>\n",
       "\n",
       "**Figure 1. -** Variation in [Mg/Fe] test. Top: Spectral window of the Mg I line at 4571 Å. Bottom: Spectral window of the Mg I line at 4703 Å.\n",
       "The best-fit model is in blue, the solar value of [Mg/Fe] is in red, the enhanced [Mg/Fe] abundance is in green, and the observed spectrum is in grey. (*Fig_Mg_test*)\n",
       "\n",
       "</div><div id=\"qrcode\"><img src=https://api.qrserver.com/v1/create-qr-code/?size=100x100&data=\"https://arxiv.org/abs/2403.10597\"></div>"
      ],
      "text/plain": [
       "<IPython.core.display.Markdown object>"
      ]
     },
     "metadata": {},
     "output_type": "display_data"
    }
   ],
   "source": [
    "[display(Markdown(k[1])) for k in documents];"
   ]
  },
  {
   "cell_type": "markdown",
   "id": "873873a4",
   "metadata": {
    "papermill": {
     "duration": 0.003888,
     "end_time": "2024-03-19T04:11:34.965984",
     "exception": false,
     "start_time": "2024-03-19T04:11:34.962096",
     "status": "completed"
    },
    "tags": []
   },
   "source": [
    "# Create HTML index"
   ]
  },
  {
   "cell_type": "code",
   "execution_count": 9,
   "id": "cf665672",
   "metadata": {
    "execution": {
     "iopub.execute_input": "2024-03-19T04:11:34.974792Z",
     "iopub.status.busy": "2024-03-19T04:11:34.974402Z",
     "iopub.status.idle": "2024-03-19T04:11:34.984274Z",
     "shell.execute_reply": "2024-03-19T04:11:34.983740Z"
    },
    "papermill": {
     "duration": 0.01573,
     "end_time": "2024-03-19T04:11:34.985597",
     "exception": false,
     "start_time": "2024-03-19T04:11:34.969867",
     "status": "completed"
    },
    "tags": []
   },
   "outputs": [
    {
     "name": "stdout",
     "output_type": "stream",
     "text": [
      "391  publications files modified in the last 7 days.\n"
     ]
    }
   ],
   "source": [
    "from datetime import datetime, timedelta, timezone\n",
    "from glob import glob\n",
    "import os\n",
    "\n",
    "files = glob('_build/html/*.md')\n",
    "days = 7\n",
    "now = datetime.today()\n",
    "res = []\n",
    "for fk in files:\n",
    "    stat_result = os.stat(fk).st_ctime\n",
    "    modified = datetime.fromtimestamp(stat_result, tz=timezone.utc).replace(tzinfo=None)\n",
    "    delta = now.today() - modified\n",
    "    if delta <= timedelta(days=days):\n",
    "        res.append((delta.seconds, fk))\n",
    "res = [k[1] for k in reversed(sorted(res, key=lambda x:x[1]))]\n",
    "npub = len(res)\n",
    "print(len(res), f\" publications files modified in the last {days:d} days.\")\n",
    "# [ print('\\t', k) for k in res ];"
   ]
  },
  {
   "cell_type": "code",
   "execution_count": 10,
   "id": "015de740",
   "metadata": {
    "execution": {
     "iopub.execute_input": "2024-03-19T04:11:34.994734Z",
     "iopub.status.busy": "2024-03-19T04:11:34.994347Z",
     "iopub.status.idle": "2024-03-19T04:11:35.015917Z",
     "shell.execute_reply": "2024-03-19T04:11:35.015311Z"
    },
    "papermill": {
     "duration": 0.027587,
     "end_time": "2024-03-19T04:11:35.017270",
     "exception": false,
     "start_time": "2024-03-19T04:11:34.989683",
     "status": "completed"
    },
    "tags": []
   },
   "outputs": [
    {
     "name": "stdout",
     "output_type": "stream",
     "text": [
      "7  publications in the last 7 days.\n"
     ]
    }
   ],
   "source": [
    "import datetime\n",
    "from glob import glob\n",
    "\n",
    "def get_last_n_days(lst, days=1):\n",
    "    \"\"\" Get the documents from the last n days \"\"\"\n",
    "    sorted_lst = sorted(lst, key=lambda x: x[1], reverse=True)\n",
    "    for fname, date in sorted_lst:\n",
    "        if date >= str(datetime.date.today() - datetime.timedelta(days=days)):\n",
    "            yield fname\n",
    "\n",
    "def extract_appearance_dates(lst_file):\n",
    "    dates = []\n",
    "\n",
    "    def get_date(line):\n",
    "        return line\\\n",
    "            .split('Appeared on:')[-1]\\\n",
    "            .split('</mark>')[0].strip()\n",
    "\n",
    "    for fname in lst:\n",
    "        with open(fname, 'r') as f:\n",
    "            found_date = False\n",
    "            for line in f:\n",
    "                if not found_date:\n",
    "                    if \"Appeared on\" in line:\n",
    "                        found_date = True\n",
    "                        dates.append((fname, get_date(line)))\n",
    "                else:\n",
    "                    break\n",
    "    return dates\n",
    "\n",
    "from glob import glob\n",
    "lst = glob('_build/html/*md')\n",
    "days = 7\n",
    "dates = extract_appearance_dates(lst)\n",
    "res = list(get_last_n_days(dates, days))\n",
    "npub = len(res)\n",
    "print(len(res), f\" publications in the last {days:d} days.\")"
   ]
  },
  {
   "cell_type": "code",
   "execution_count": 11,
   "id": "52ca0208",
   "metadata": {
    "execution": {
     "iopub.execute_input": "2024-03-19T04:11:35.026699Z",
     "iopub.status.busy": "2024-03-19T04:11:35.026305Z",
     "iopub.status.idle": "2024-03-19T04:11:35.031442Z",
     "shell.execute_reply": "2024-03-19T04:11:35.030813Z"
    },
    "papermill": {
     "duration": 0.011244,
     "end_time": "2024-03-19T04:11:35.032774",
     "exception": false,
     "start_time": "2024-03-19T04:11:35.021530",
     "status": "completed"
    },
    "scrolled": false,
    "tags": []
   },
   "outputs": [],
   "source": [
    "def create_carousel(npub=4):\n",
    "    \"\"\" Generate the HTML code for a carousel with `npub` slides \"\"\"\n",
    "    carousel = [\"\"\"  <div class=\"carousel\" \"\"\",\n",
    "                \"\"\"       data-flickity='{ \"autoPlay\": 10000, \"adaptiveHeight\": true, \"resize\": true, \"wrapAround\": true, \"pauseAutoPlayOnHover\": true, \"groupCells\": 1 }' id=\"asyncTypeset\">\"\"\"\n",
    "                ]\n",
    "    \n",
    "    item_str = \"\"\"    <div class=\"carousel-cell\"> <div id=\"slide{k}\" class=\"md_view\">Content {k}</div> </div>\"\"\"\n",
    "    for k in range(1, npub + 1):\n",
    "        carousel.append(item_str.format(k=k))\n",
    "    carousel.append(\"  </div>\")\n",
    "    return '\\n'.join(carousel)\n",
    "\n",
    "def create_grid(npub=4):\n",
    "    \"\"\" Generate the HTML code for a flat grid with `npub` slides \"\"\"\n",
    "    grid = [\"\"\"  <div class=\"grid\"> \"\"\",\n",
    "                ]\n",
    "    \n",
    "    item_str = \"\"\"    <div class=\"grid-item\"> <div id=\"slide{k}\" class=\"md_view\">Content {k}</div> </div>\"\"\"\n",
    "    for k in range(1, npub + 1):\n",
    "        grid.append(item_str.format(k=k))\n",
    "    grid.append(\"  </div>\")\n",
    "    return '\\n'.join(grid)"
   ]
  },
  {
   "cell_type": "code",
   "execution_count": 12,
   "id": "a6eac5b6",
   "metadata": {
    "execution": {
     "iopub.execute_input": "2024-03-19T04:11:35.042197Z",
     "iopub.status.busy": "2024-03-19T04:11:35.041761Z",
     "iopub.status.idle": "2024-03-19T04:11:35.046804Z",
     "shell.execute_reply": "2024-03-19T04:11:35.046188Z"
    },
    "papermill": {
     "duration": 0.01139,
     "end_time": "2024-03-19T04:11:35.048371",
     "exception": false,
     "start_time": "2024-03-19T04:11:35.036981",
     "status": "completed"
    },
    "scrolled": false,
    "tags": []
   },
   "outputs": [],
   "source": [
    "carousel = create_carousel(npub)\n",
    "docs = ', '.join(['\"{0:s}\"'.format(k.split('/')[-1]) for k in res])\n",
    "slides = ', '.join([f'\"slide{k}\"' for k in range(1, npub + 1)])\n",
    "\n",
    "with open(\"daily_template.html\", \"r\") as tpl:\n",
    "    page = tpl.read()\n",
    "    page = page.replace(\"{%-- carousel:s --%}\", carousel)\\\n",
    "               .replace(\"{%-- suptitle:s --%}\",  \"7-day archives\" )\\\n",
    "               .replace(\"{%-- docs:s --%}\", docs)\\\n",
    "               .replace(\"{%-- slides:s --%}\", slides)\n",
    "    \n",
    "with open(\"_build/html/index_7days.html\", 'w') as fout:\n",
    "    fout.write(page)"
   ]
  },
  {
   "cell_type": "code",
   "execution_count": 13,
   "id": "adc1a1ec",
   "metadata": {
    "execution": {
     "iopub.execute_input": "2024-03-19T04:11:35.057608Z",
     "iopub.status.busy": "2024-03-19T04:11:35.057253Z",
     "iopub.status.idle": "2024-03-19T04:11:35.063971Z",
     "shell.execute_reply": "2024-03-19T04:11:35.063342Z"
    },
    "papermill": {
     "duration": 0.012875,
     "end_time": "2024-03-19T04:11:35.065343",
     "exception": false,
     "start_time": "2024-03-19T04:11:35.052468",
     "status": "completed"
    },
    "tags": []
   },
   "outputs": [
    {
     "name": "stdout",
     "output_type": "stream",
     "text": [
      "1  publications in the last day.\n"
     ]
    }
   ],
   "source": [
    "# redo for today\n",
    "days = 1\n",
    "res = list(get_last_n_days(dates, days))\n",
    "npub = len(res)\n",
    "print(len(res), f\" publications in the last day.\")\n",
    "\n",
    "carousel = create_carousel(npub)\n",
    "docs = ', '.join(['\"{0:s}\"'.format(k.split('/')[-1]) for k in res])\n",
    "slides = ', '.join([f'\"slide{k}\"' for k in range(1, npub + 1)])\n",
    "\n",
    "with open(\"daily_template.html\", \"r\") as tpl:\n",
    "    page = tpl.read()\n",
    "    page = page.replace(\"{%-- carousel:s --%}\", carousel)\\\n",
    "               .replace(\"{%-- suptitle:s --%}\",  \"Daily\" )\\\n",
    "               .replace(\"{%-- docs:s --%}\", docs)\\\n",
    "               .replace(\"{%-- slides:s --%}\", slides)\n",
    "    \n",
    "# print(carousel, docs, slides)\n",
    "# print(page)\n",
    "with open(\"_build/html/index_daily.html\", 'w') as fout:\n",
    "    fout.write(page)"
   ]
  },
  {
   "cell_type": "code",
   "execution_count": 14,
   "id": "00eece82",
   "metadata": {
    "execution": {
     "iopub.execute_input": "2024-03-19T04:11:35.074749Z",
     "iopub.status.busy": "2024-03-19T04:11:35.074396Z",
     "iopub.status.idle": "2024-03-19T04:11:35.080868Z",
     "shell.execute_reply": "2024-03-19T04:11:35.080238Z"
    },
    "papermill": {
     "duration": 0.012578,
     "end_time": "2024-03-19T04:11:35.082165",
     "exception": false,
     "start_time": "2024-03-19T04:11:35.069587",
     "status": "completed"
    },
    "scrolled": false,
    "tags": []
   },
   "outputs": [
    {
     "name": "stdout",
     "output_type": "stream",
     "text": [
      "6  6 publications selected.\n"
     ]
    }
   ],
   "source": [
    "# Create the flat grid of the last N papers (fixed number regardless of dates)\n",
    "from itertools import islice \n",
    "\n",
    "npub = 6\n",
    "res = [k[0] for k in (islice(reversed(sorted(dates, key=lambda x: x[1])), 6))]\n",
    "print(len(res), f\" {npub} publications selected.\")\n",
    "\n",
    "grid = create_grid(npub)\n",
    "docs = ', '.join(['\"{0:s}\"'.format(k.split('/')[-1]) for k in res])\n",
    "slides = ', '.join([f'\"slide{k}\"' for k in range(1, npub + 1)])\n",
    "\n",
    "with open(\"grid_template.html\", \"r\") as tpl:\n",
    "    page = tpl.read()\n",
    "    page = page.replace(\"{%-- grid-content:s --%}\", grid)\\\n",
    "               .replace(\"{%-- suptitle:s --%}\",  f\"Last {npub:,d} papers\" )\\\n",
    "               .replace(\"{%-- docs:s --%}\", docs)\\\n",
    "               .replace(\"{%-- slides:s --%}\", slides)\n",
    "    \n",
    "# print(grid, docs, slides)\n",
    "# print(page)\n",
    "with open(\"_build/html/index_npub_grid.html\", 'w') as fout:\n",
    "    fout.write(page)"
   ]
  }
 ],
 "metadata": {
  "kernelspec": {
   "display_name": "Python 3 (ipykernel)",
   "language": "python",
   "name": "python3"
  },
  "language_info": {
   "codemirror_mode": {
    "name": "ipython",
    "version": 3
   },
   "file_extension": ".py",
   "mimetype": "text/x-python",
   "name": "python",
   "nbconvert_exporter": "python",
   "pygments_lexer": "ipython3",
   "version": "3.9.18"
  },
  "papermill": {
   "default_parameters": {},
   "duration": 46.892659,
   "end_time": "2024-03-19T04:11:35.303920",
   "environment_variables": {},
   "exception": null,
   "input_path": "MPIA daily digest.ipynb",
   "output_path": "log.ipynb",
   "parameters": {},
   "start_time": "2024-03-19T04:10:48.411261",
   "version": "2.5.0"
  },
  "vscode": {
   "interpreter": {
    "hash": "aee8b7b246df8f9039afb4144a1f6fd8d2ca17a180786b69acc140d282b71a49"
   }
  },
  "widgets": {
   "application/vnd.jupyter.widget-state+json": {
    "state": {
     "0726bd14cc8d4d258eb1d5c18acc5111": {
      "model_module": "@jupyter-widgets/base",
      "model_module_version": "2.0.0",
      "model_name": "LayoutModel",
      "state": {
       "_model_module": "@jupyter-widgets/base",
       "_model_module_version": "2.0.0",
       "_model_name": "LayoutModel",
       "_view_count": null,
       "_view_module": "@jupyter-widgets/base",
       "_view_module_version": "2.0.0",
       "_view_name": "LayoutView",
       "align_content": null,
       "align_items": null,
       "align_self": null,
       "border_bottom": null,
       "border_left": null,
       "border_right": null,
       "border_top": null,
       "bottom": null,
       "display": null,
       "flex": null,
       "flex_flow": null,
       "grid_area": null,
       "grid_auto_columns": null,
       "grid_auto_flow": null,
       "grid_auto_rows": null,
       "grid_column": null,
       "grid_gap": null,
       "grid_row": null,
       "grid_template_areas": null,
       "grid_template_columns": null,
       "grid_template_rows": null,
       "height": null,
       "justify_content": null,
       "justify_items": null,
       "left": null,
       "margin": null,
       "max_height": null,
       "max_width": null,
       "min_height": null,
       "min_width": null,
       "object_fit": null,
       "object_position": null,
       "order": null,
       "overflow": null,
       "padding": null,
       "right": null,
       "top": null,
       "visibility": null,
       "width": null
      }
     },
     "2867b186d2934e659814f977bd47c7ce": {
      "model_module": "@jupyter-widgets/base",
      "model_module_version": "2.0.0",
      "model_name": "LayoutModel",
      "state": {
       "_model_module": "@jupyter-widgets/base",
       "_model_module_version": "2.0.0",
       "_model_name": "LayoutModel",
       "_view_count": null,
       "_view_module": "@jupyter-widgets/base",
       "_view_module_version": "2.0.0",
       "_view_name": "LayoutView",
       "align_content": null,
       "align_items": null,
       "align_self": null,
       "border_bottom": null,
       "border_left": null,
       "border_right": null,
       "border_top": null,
       "bottom": null,
       "display": null,
       "flex": null,
       "flex_flow": null,
       "grid_area": null,
       "grid_auto_columns": null,
       "grid_auto_flow": null,
       "grid_auto_rows": null,
       "grid_column": null,
       "grid_gap": null,
       "grid_row": null,
       "grid_template_areas": null,
       "grid_template_columns": null,
       "grid_template_rows": null,
       "height": null,
       "justify_content": null,
       "justify_items": null,
       "left": null,
       "margin": null,
       "max_height": null,
       "max_width": null,
       "min_height": null,
       "min_width": null,
       "object_fit": null,
       "object_position": null,
       "order": null,
       "overflow": null,
       "padding": null,
       "right": null,
       "top": null,
       "visibility": null,
       "width": null
      }
     },
     "576607e74a604f619f8b3fe79d19f99b": {
      "model_module": "@jupyter-widgets/controls",
      "model_module_version": "2.0.0",
      "model_name": "HTMLModel",
      "state": {
       "_dom_classes": [],
       "_model_module": "@jupyter-widgets/controls",
       "_model_module_version": "2.0.0",
       "_model_name": "HTMLModel",
       "_view_count": null,
       "_view_module": "@jupyter-widgets/controls",
       "_view_module_version": "2.0.0",
       "_view_name": "HTMLView",
       "description": "",
       "description_allow_html": false,
       "layout": "IPY_MODEL_b43196cc71604270a01fe67895066ef3",
       "placeholder": "​",
       "style": "IPY_MODEL_e6f537922330403bb053fe855bc40263",
       "tabbable": null,
       "tooltip": null,
       "value": "100%"
      }
     },
     "5d3e1a1f844c4a65a770becc29b12c25": {
      "model_module": "@jupyter-widgets/controls",
      "model_module_version": "2.0.0",
      "model_name": "ProgressStyleModel",
      "state": {
       "_model_module": "@jupyter-widgets/controls",
       "_model_module_version": "2.0.0",
       "_model_name": "ProgressStyleModel",
       "_view_count": null,
       "_view_module": "@jupyter-widgets/base",
       "_view_module_version": "2.0.0",
       "_view_name": "StyleView",
       "bar_color": null,
       "description_width": ""
      }
     },
     "82156b7577f8477e818ecee169939241": {
      "model_module": "@jupyter-widgets/controls",
      "model_module_version": "2.0.0",
      "model_name": "HTMLStyleModel",
      "state": {
       "_model_module": "@jupyter-widgets/controls",
       "_model_module_version": "2.0.0",
       "_model_name": "HTMLStyleModel",
       "_view_count": null,
       "_view_module": "@jupyter-widgets/base",
       "_view_module_version": "2.0.0",
       "_view_name": "StyleView",
       "background": null,
       "description_width": "",
       "font_size": null,
       "text_color": null
      }
     },
     "92673174ab3c42fdaac613d1f15fedbf": {
      "model_module": "@jupyter-widgets/controls",
      "model_module_version": "2.0.0",
      "model_name": "FloatProgressModel",
      "state": {
       "_dom_classes": [],
       "_model_module": "@jupyter-widgets/controls",
       "_model_module_version": "2.0.0",
       "_model_name": "FloatProgressModel",
       "_view_count": null,
       "_view_module": "@jupyter-widgets/controls",
       "_view_module_version": "2.0.0",
       "_view_name": "ProgressView",
       "bar_style": "success",
       "description": "",
       "description_allow_html": false,
       "layout": "IPY_MODEL_0726bd14cc8d4d258eb1d5c18acc5111",
       "max": 2.0,
       "min": 0.0,
       "orientation": "horizontal",
       "style": "IPY_MODEL_5d3e1a1f844c4a65a770becc29b12c25",
       "tabbable": null,
       "tooltip": null,
       "value": 2.0
      }
     },
     "b43196cc71604270a01fe67895066ef3": {
      "model_module": "@jupyter-widgets/base",
      "model_module_version": "2.0.0",
      "model_name": "LayoutModel",
      "state": {
       "_model_module": "@jupyter-widgets/base",
       "_model_module_version": "2.0.0",
       "_model_name": "LayoutModel",
       "_view_count": null,
       "_view_module": "@jupyter-widgets/base",
       "_view_module_version": "2.0.0",
       "_view_name": "LayoutView",
       "align_content": null,
       "align_items": null,
       "align_self": null,
       "border_bottom": null,
       "border_left": null,
       "border_right": null,
       "border_top": null,
       "bottom": null,
       "display": null,
       "flex": null,
       "flex_flow": null,
       "grid_area": null,
       "grid_auto_columns": null,
       "grid_auto_flow": null,
       "grid_auto_rows": null,
       "grid_column": null,
       "grid_gap": null,
       "grid_row": null,
       "grid_template_areas": null,
       "grid_template_columns": null,
       "grid_template_rows": null,
       "height": null,
       "justify_content": null,
       "justify_items": null,
       "left": null,
       "margin": null,
       "max_height": null,
       "max_width": null,
       "min_height": null,
       "min_width": null,
       "object_fit": null,
       "object_position": null,
       "order": null,
       "overflow": null,
       "padding": null,
       "right": null,
       "top": null,
       "visibility": null,
       "width": null
      }
     },
     "c3429da344c64af1aca92cc7d5d1a1cc": {
      "model_module": "@jupyter-widgets/controls",
      "model_module_version": "2.0.0",
      "model_name": "HTMLModel",
      "state": {
       "_dom_classes": [],
       "_model_module": "@jupyter-widgets/controls",
       "_model_module_version": "2.0.0",
       "_model_name": "HTMLModel",
       "_view_count": null,
       "_view_module": "@jupyter-widgets/controls",
       "_view_module_version": "2.0.0",
       "_view_name": "HTMLView",
       "description": "",
       "description_allow_html": false,
       "layout": "IPY_MODEL_2867b186d2934e659814f977bd47c7ce",
       "placeholder": "​",
       "style": "IPY_MODEL_82156b7577f8477e818ecee169939241",
       "tabbable": null,
       "tooltip": null,
       "value": " 2/2 [00:22&lt;00:00,  9.48s/it]"
      }
     },
     "e6f537922330403bb053fe855bc40263": {
      "model_module": "@jupyter-widgets/controls",
      "model_module_version": "2.0.0",
      "model_name": "HTMLStyleModel",
      "state": {
       "_model_module": "@jupyter-widgets/controls",
       "_model_module_version": "2.0.0",
       "_model_name": "HTMLStyleModel",
       "_view_count": null,
       "_view_module": "@jupyter-widgets/base",
       "_view_module_version": "2.0.0",
       "_view_name": "StyleView",
       "background": null,
       "description_width": "",
       "font_size": null,
       "text_color": null
      }
     },
     "f90116cda18c4299b8112af0ed832f4d": {
      "model_module": "@jupyter-widgets/base",
      "model_module_version": "2.0.0",
      "model_name": "LayoutModel",
      "state": {
       "_model_module": "@jupyter-widgets/base",
       "_model_module_version": "2.0.0",
       "_model_name": "LayoutModel",
       "_view_count": null,
       "_view_module": "@jupyter-widgets/base",
       "_view_module_version": "2.0.0",
       "_view_name": "LayoutView",
       "align_content": null,
       "align_items": null,
       "align_self": null,
       "border_bottom": null,
       "border_left": null,
       "border_right": null,
       "border_top": null,
       "bottom": null,
       "display": null,
       "flex": null,
       "flex_flow": null,
       "grid_area": null,
       "grid_auto_columns": null,
       "grid_auto_flow": null,
       "grid_auto_rows": null,
       "grid_column": null,
       "grid_gap": null,
       "grid_row": null,
       "grid_template_areas": null,
       "grid_template_columns": null,
       "grid_template_rows": null,
       "height": null,
       "justify_content": null,
       "justify_items": null,
       "left": null,
       "margin": null,
       "max_height": null,
       "max_width": null,
       "min_height": null,
       "min_width": null,
       "object_fit": null,
       "object_position": null,
       "order": null,
       "overflow": null,
       "padding": null,
       "right": null,
       "top": null,
       "visibility": null,
       "width": null
      }
     },
     "fcb5503e9bff44c7989e9f777c3d8917": {
      "model_module": "@jupyter-widgets/controls",
      "model_module_version": "2.0.0",
      "model_name": "HBoxModel",
      "state": {
       "_dom_classes": [],
       "_model_module": "@jupyter-widgets/controls",
       "_model_module_version": "2.0.0",
       "_model_name": "HBoxModel",
       "_view_count": null,
       "_view_module": "@jupyter-widgets/controls",
       "_view_module_version": "2.0.0",
       "_view_name": "HBoxView",
       "box_style": "",
       "children": [
        "IPY_MODEL_576607e74a604f619f8b3fe79d19f99b",
        "IPY_MODEL_92673174ab3c42fdaac613d1f15fedbf",
        "IPY_MODEL_c3429da344c64af1aca92cc7d5d1a1cc"
       ],
       "layout": "IPY_MODEL_f90116cda18c4299b8112af0ed832f4d",
       "tabbable": null,
       "tooltip": null
      }
     }
    },
    "version_major": 2,
    "version_minor": 0
   }
  }
 },
 "nbformat": 4,
 "nbformat_minor": 5
}