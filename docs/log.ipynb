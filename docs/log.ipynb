{
 "cells": [
  {
   "cell_type": "markdown",
   "id": "92bcb855",
   "metadata": {
    "papermill": {
     "duration": 0.004839,
     "end_time": "2022-12-08T04:07:27.921458",
     "exception": false,
     "start_time": "2022-12-08T04:07:27.916619",
     "status": "completed"
    },
    "tags": []
   },
   "source": [
    "# MPIA Arxiv on Deck 2\n",
    "\n",
    "Contains the steps to produce the paper extractions."
   ]
  },
  {
   "cell_type": "code",
   "execution_count": 1,
   "id": "3a0d6e11",
   "metadata": {
    "execution": {
     "iopub.execute_input": "2022-12-08T04:07:27.931157Z",
     "iopub.status.busy": "2022-12-08T04:07:27.930574Z",
     "iopub.status.idle": "2022-12-08T04:07:28.098030Z",
     "shell.execute_reply": "2022-12-08T04:07:28.097427Z"
    },
    "papermill": {
     "duration": 0.174262,
     "end_time": "2022-12-08T04:07:28.099884",
     "exception": false,
     "start_time": "2022-12-08T04:07:27.925622",
     "status": "completed"
    },
    "tags": []
   },
   "outputs": [],
   "source": [
    "# Imports\n",
    "import os\n",
    "from IPython.display import Markdown, display\n",
    "from tqdm.notebook import tqdm\n",
    "import warnings\n",
    "from PIL import Image \n",
    "\n",
    "# requires arxiv_on_deck_2\n",
    "\n",
    "from arxiv_on_deck_2.arxiv2 import (get_new_papers, \n",
    "                                    get_paper_from_identifier,\n",
    "                                    retrieve_document_source, \n",
    "                                    get_markdown_badge)\n",
    "from arxiv_on_deck_2 import (latex, \n",
    "                             mpia,\n",
    "                             highlight_authors_in_list)\n",
    "\n",
    "# Sometimes images are really big\n",
    "Image.MAX_IMAGE_PIXELS = 1000000000 "
   ]
  },
  {
   "cell_type": "code",
   "execution_count": 2,
   "id": "22aa9d44",
   "metadata": {
    "execution": {
     "iopub.execute_input": "2022-12-08T04:07:28.109138Z",
     "iopub.status.busy": "2022-12-08T04:07:28.108905Z",
     "iopub.status.idle": "2022-12-08T04:07:28.113444Z",
     "shell.execute_reply": "2022-12-08T04:07:28.112954Z"
    },
    "papermill": {
     "duration": 0.011017,
     "end_time": "2022-12-08T04:07:28.115034",
     "exception": false,
     "start_time": "2022-12-08T04:07:28.104017",
     "status": "completed"
    },
    "tags": []
   },
   "outputs": [],
   "source": [
    "# Some useful definitions.\n",
    "\n",
    "class AffiliationWarning(UserWarning):\n",
    "    pass\n",
    "\n",
    "class AffiliationError(RuntimeError):\n",
    "    pass\n",
    "\n",
    "def validation(source: str):\n",
    "    \"\"\"Raises error paper during parsing of source file\n",
    "    \n",
    "    Allows checks before parsing TeX code.\n",
    "    \n",
    "    Raises AffiliationWarning\n",
    "    \"\"\"\n",
    "    check = mpia.affiliation_verifications(source, verbose=True)\n",
    "    if check is not True:\n",
    "        raise AffiliationError(\"mpia.affiliation_verifications: \" + check)\n",
    "\n",
    "        \n",
    "warnings.simplefilter('always', AffiliationWarning)"
   ]
  },
  {
   "cell_type": "code",
   "execution_count": 3,
   "id": "14622700",
   "metadata": {
    "execution": {
     "iopub.execute_input": "2022-12-08T04:07:28.127260Z",
     "iopub.status.busy": "2022-12-08T04:07:28.124051Z",
     "iopub.status.idle": "2022-12-08T04:07:28.131241Z",
     "shell.execute_reply": "2022-12-08T04:07:28.130619Z"
    },
    "papermill": {
     "duration": 0.014027,
     "end_time": "2022-12-08T04:07:28.132907",
     "exception": false,
     "start_time": "2022-12-08T04:07:28.118880",
     "status": "completed"
    },
    "tags": []
   },
   "outputs": [],
   "source": [
    "# additional CSS to consider. \n",
    "# TODO: Current into each exported file. \n",
    "#       This should be set once into the webpages directly.\n",
    "#       With only the class/id definitions in the .md files.\n",
    "\n",
    "debug_html = \"\"\"\n",
    "<style>\n",
    "#wrap{ overflow:auto; }\n",
    "#fig1{ background:yellow; width:100%; float:left; padding:5px;  }\n",
    "#fig2{ background:red; width:50%; float:left; clear:left; padding:5px;  }\n",
    "#fig3{ background:green; width:50%; float:left; padding:5px;   }\n",
    ".macros{ background:yellow; visibility:visible;}\n",
    "h1 {margin: 0 0 0 0;}\n",
    "mark {background-color:#fff3b6;}\n",
    "img {object-fit:contain; max-height:250px; display:inline-block; text-align: center;}\n",
    "</style>\n",
    "\"\"\" \n",
    "html = \"\"\"\n",
    "<style>\n",
    "#wrap{ overflow:auto; }\n",
    "#fig1{ width:100%; float:left; padding: 5px;  }\n",
    "#fig2{ width:50%; float:left; clear:left; padding: 5px;  }\n",
    "#fig3{ width:50%; float:left; padding: 5px;  }\n",
    ".macros{ visibility:hidden; height:0px; }\n",
    "h1 {margin: 0em 0 0 0;}\n",
    "mark {background-color:#fff3b6;}\n",
    "img {object-fit:contain; max-height:250px; display:inline-block; text-align: center;}\n",
    "</style>\n",
    "\"\"\""
   ]
  },
  {
   "cell_type": "markdown",
   "id": "14bd6310",
   "metadata": {
    "papermill": {
     "duration": 0.003813,
     "end_time": "2022-12-08T04:07:28.140680",
     "exception": false,
     "start_time": "2022-12-08T04:07:28.136867",
     "status": "completed"
    },
    "tags": []
   },
   "source": [
    "## get list of arxiv paper candidates\n",
    "\n",
    "We use the MPIA mitarbeiter list webpage from mpia.de to get author names\n",
    "We then get all new papers from Arxiv and match authors"
   ]
  },
  {
   "cell_type": "code",
   "execution_count": 4,
   "id": "2645e73a",
   "metadata": {
    "execution": {
     "iopub.execute_input": "2022-12-08T04:07:28.149782Z",
     "iopub.status.busy": "2022-12-08T04:07:28.149427Z",
     "iopub.status.idle": "2022-12-08T04:07:53.348830Z",
     "shell.execute_reply": "2022-12-08T04:07:53.347889Z"
    },
    "papermill": {
     "duration": 25.205904,
     "end_time": "2022-12-08T04:07:53.350428",
     "exception": false,
     "start_time": "2022-12-08T04:07:28.144524",
     "status": "completed"
    },
    "tags": []
   },
   "outputs": [
    {
     "name": "stdout",
     "output_type": "stream",
     "text": [
      "Arxiv has 49 new papers today\n",
      "          21 with possible author matches\n"
     ]
    }
   ],
   "source": [
    "# get list from MPIA website\n",
    "# it automatically filters identified non-scientists :func:`mpia.filter_non_scientists`\n",
    "mpia_authors = mpia.get_mpia_mitarbeiter_list()\n",
    "new_papers = get_new_papers()\n",
    "# add manual references\n",
    "add_paper_refs = []\n",
    "new_papers.extend([get_paper_from_identifier(k) for k in add_paper_refs])\n",
    "\n",
    "# select only papers with matching author names and highlight authors\n",
    "hl_list = [k[0] for k in mpia_authors]\n",
    "\n",
    "candidates = []\n",
    "for paperk in new_papers:\n",
    "    hl_authors = highlight_authors_in_list(paperk['authors'], hl_list)\n",
    "    matches = [(hl, orig) for hl, orig in zip(hl_authors, paperk['authors']) if 'mark' in hl]\n",
    "    paperk['authors'] = hl_authors\n",
    "    if matches:\n",
    "        candidates.append(paperk)\n",
    "print(\"\"\"Arxiv has {0:,d} new papers today\"\"\".format(len(new_papers)))        \n",
    "print(\"\"\"          {0:,d} with possible author matches\"\"\".format(len(candidates)))"
   ]
  },
  {
   "cell_type": "markdown",
   "id": "3543b34a",
   "metadata": {
    "papermill": {
     "duration": 0.004452,
     "end_time": "2022-12-08T04:07:53.359163",
     "exception": false,
     "start_time": "2022-12-08T04:07:53.354711",
     "status": "completed"
    },
    "tags": []
   },
   "source": [
    "# Parse sources and generate relevant outputs\n",
    "\n",
    "From the candidates, we do the following steps:\n",
    "* get their tarball from ArXiv (and extract data)\n",
    "* find the main .tex file: find one with \\documentclass{...} (sometimes it's non trivial)\n",
    "* Check affiliations with :func:`validation`, which uses :func:`mpia.affiliation_verifications`\n",
    "* If passing the affiliations: we parse the .tex source\n",
    "   * inject sub-documents into the main (flatten the main document)\n",
    "   * parse structure, extract information (title, abstract, authors, figures...)\n",
    "   * handles `\\graphicspath` if provided\n",
    "* Generate the .md document."
   ]
  },
  {
   "cell_type": "code",
   "execution_count": 5,
   "id": "9576b79e",
   "metadata": {
    "execution": {
     "iopub.execute_input": "2022-12-08T04:07:53.368957Z",
     "iopub.status.busy": "2022-12-08T04:07:53.368271Z",
     "iopub.status.idle": "2022-12-08T04:12:02.122593Z",
     "shell.execute_reply": "2022-12-08T04:12:02.121757Z"
    },
    "papermill": {
     "duration": 248.761059,
     "end_time": "2022-12-08T04:12:02.124232",
     "exception": false,
     "start_time": "2022-12-08T04:07:53.363173",
     "status": "completed"
    },
    "scrolled": false,
    "tags": []
   },
   "outputs": [
    {
     "data": {
      "application/vnd.jupyter.widget-view+json": {
       "model_id": "9ae6c0ccd7b2465cb68d708ee57bfeb9",
       "version_major": 2,
       "version_minor": 0
      },
      "text/plain": [
       "  0%|          | 0/20 [00:00<?, ?it/s]"
      ]
     },
     "metadata": {},
     "output_type": "display_data"
    },
    {
     "name": "stdout",
     "output_type": "stream",
     "text": [
      "Retrieving document from  https://arxiv.org/e-print/2212.03247\n"
     ]
    },
    {
     "name": "stderr",
     "output_type": "stream",
     "text": [
      "/tmp/ipykernel_2018/4030337529.py:34: LatexWarning: 2212.03247 did not run properly\n",
      "not a gzip file\n",
      "  warnings.warn(latex.LatexWarning(f\"{paper_id:s} did not run properly\\n\" +\n"
     ]
    },
    {
     "name": "stdout",
     "output_type": "stream",
     "text": [
      "Retrieving document from  https://arxiv.org/e-print/2212.03252\n"
     ]
    },
    {
     "name": "stdout",
     "output_type": "stream",
     "text": [
      "extracting tarball to tmp_2212.03252..."
     ]
    },
    {
     "name": "stdout",
     "output_type": "stream",
     "text": [
      " done.\n",
      "Retrieving document from  https://arxiv.org/e-print/2212.03255\n"
     ]
    },
    {
     "name": "stderr",
     "output_type": "stream",
     "text": [
      "/opt/hostedtoolcache/Python/3.9.15/x64/lib/python3.9/site-packages/IPython/core/interactiveshell.py:3433: LatexWarning: Multiple tex files.\n",
      "\n",
      "  exec(code_obj, self.user_global_ns, self.user_ns)\n",
      "/opt/hostedtoolcache/Python/3.9.15/x64/lib/python3.9/site-packages/IPython/core/interactiveshell.py:3433: LatexWarning: Found documentclass in tmp_2212.03252/main.tex\n",
      "\n",
      "  exec(code_obj, self.user_global_ns, self.user_ns)\n",
      "/opt/hostedtoolcache/Python/3.9.15/x64/lib/python3.9/site-packages/arxiv_on_deck_2/latex.py:292: LatexWarning: Latex injecting: 'spectra_plot' from 'tmp_2212.03252/spectra_plot.tex'\n",
      "  warnings.warn(LatexWarning(f\"Latex injecting: '{ext}' from '{subsource}'\"))\n",
      "/opt/hostedtoolcache/Python/3.9.15/x64/lib/python3.9/site-packages/arxiv_on_deck_2/latex.py:292: LatexWarning: Latex injecting: '0fittingall' from 'tmp_2212.03252/0fittingall.tex'\n",
      "  warnings.warn(LatexWarning(f\"Latex injecting: '{ext}' from '{subsource}'\"))\n",
      "/opt/hostedtoolcache/Python/3.9.15/x64/lib/python3.9/site-packages/arxiv_on_deck_2/latex.py:292: LatexWarning: Latex injecting: 'newTables/1allratiosCom' from 'tmp_2212.03252/newTables/1allratiosCom.tex'\n",
      "  warnings.warn(LatexWarning(f\"Latex injecting: '{ext}' from '{subsource}'\"))\n",
      "/opt/hostedtoolcache/Python/3.9.15/x64/lib/python3.9/site-packages/arxiv_on_deck_2/latex.py:292: LatexWarning: Latex injecting: 'newTables/1allratios' from 'tmp_2212.03252/newTables/1allratios.tex'\n",
      "  warnings.warn(LatexWarning(f\"Latex injecting: '{ext}' from '{subsource}'\"))\n",
      "/opt/hostedtoolcache/Python/3.9.15/x64/lib/python3.9/site-packages/arxiv_on_deck_2/latex.py:292: LatexWarning: Latex injecting: 'c33sHFS_Table' from 'tmp_2212.03252/c33sHFS_Table.tex'\n",
      "  warnings.warn(LatexWarning(f\"Latex injecting: '{ext}' from '{subsource}'\"))\n",
      "/opt/hostedtoolcache/Python/3.9.15/x64/lib/python3.9/site-packages/arxiv_on_deck_2/latex.py:292: LatexWarning: Latex injecting: 'all12C13C' from 'tmp_2212.03252/all12C13C.tex'\n",
      "  warnings.warn(LatexWarning(f\"Latex injecting: '{ext}' from '{subsource}'\"))\n",
      "/opt/hostedtoolcache/Python/3.9.15/x64/lib/python3.9/site-packages/arxiv_on_deck_2/latex.py:292: LatexWarning: Latex injecting: 'newTables/1allc36s_Table-corrected' from 'tmp_2212.03252/newTables/1allc36s_Table-corrected.tex'\n",
      "  warnings.warn(LatexWarning(f\"Latex injecting: '{ext}' from '{subsource}'\"))\n",
      "/opt/hostedtoolcache/Python/3.9.15/x64/lib/python3.9/site-packages/arxiv_on_deck_2/latex.py:292: LatexWarning: Latex injecting: 'newTables/32s-33sTable-corrected' from 'tmp_2212.03252/newTables/32s-33sTable-corrected.tex'\n",
      "  warnings.warn(LatexWarning(f\"Latex injecting: '{ext}' from '{subsource}'\"))\n",
      "/opt/hostedtoolcache/Python/3.9.15/x64/lib/python3.9/site-packages/arxiv_on_deck_2/latex.py:292: LatexWarning: Latex injecting: 'newTables/c34-c33sTable-corrected' from 'tmp_2212.03252/newTables/c34-c33sTable-corrected.tex'\n",
      "  warnings.warn(LatexWarning(f\"Latex injecting: '{ext}' from '{subsource}'\"))\n",
      "/opt/hostedtoolcache/Python/3.9.15/x64/lib/python3.9/site-packages/arxiv_on_deck_2/latex.py:292: LatexWarning: Latex injecting: 'newTables/1ratios32s_34s_doubleisotopes' from 'tmp_2212.03252/newTables/1ratios32s_34s_doubleisotopes.tex'\n",
      "  warnings.warn(LatexWarning(f\"Latex injecting: '{ext}' from '{subsource}'\"))\n",
      "/opt/hostedtoolcache/Python/3.9.15/x64/lib/python3.9/site-packages/arxiv_on_deck_2/latex.py:292: LatexWarning: Latex injecting: 'newTables/1ratiosTable13c34s-all' from 'tmp_2212.03252/newTables/1ratiosTable13c34s-all.tex'\n",
      "  warnings.warn(LatexWarning(f\"Latex injecting: '{ext}' from '{subsource}'\"))\n",
      "/opt/hostedtoolcache/Python/3.9.15/x64/lib/python3.9/site-packages/arxiv_on_deck_2/latex.py:292: LatexWarning: Latex injecting: 'CSparameters' from 'tmp_2212.03252/CSparameters.tex'\n",
      "  warnings.warn(LatexWarning(f\"Latex injecting: '{ext}' from '{subsource}'\"))\n",
      "/opt/hostedtoolcache/Python/3.9.15/x64/lib/python3.9/site-packages/arxiv_on_deck_2/latex.py:292: LatexWarning: Latex injecting: 'observed_sources' from 'tmp_2212.03252/observed_sources.tex'\n",
      "  warnings.warn(LatexWarning(f\"Latex injecting: '{ext}' from '{subsource}'\"))\n"
     ]
    },
    {
     "name": "stdout",
     "output_type": "stream",
     "text": [
      "extracting tarball to tmp_2212.03255..."
     ]
    },
    {
     "name": "stdout",
     "output_type": "stream",
     "text": [
      " done.\n",
      "Retrieving document from  https://arxiv.org/e-print/2212.03257\n"
     ]
    },
    {
     "name": "stderr",
     "output_type": "stream",
     "text": [
      "/opt/hostedtoolcache/Python/3.9.15/x64/lib/python3.9/site-packages/IPython/core/interactiveshell.py:3433: LatexWarning: Multiple tex files.\n",
      "\n",
      "  exec(code_obj, self.user_global_ns, self.user_ns)\n",
      "/opt/hostedtoolcache/Python/3.9.15/x64/lib/python3.9/site-packages/IPython/core/interactiveshell.py:3433: LatexWarning: Found documentclass in tmp_2212.03255/paper.tex\n",
      "\n",
      "  exec(code_obj, self.user_global_ns, self.user_ns)\n",
      "/opt/hostedtoolcache/Python/3.9.15/x64/lib/python3.9/site-packages/arxiv_on_deck_2/latex.py:292: LatexWarning: Latex injecting: 'resolution_appendix' from 'tmp_2212.03255/resolution_appendix.tex'\n",
      "  warnings.warn(LatexWarning(f\"Latex injecting: '{ext}' from '{subsource}'\"))\n",
      "/opt/hostedtoolcache/Python/3.9.15/x64/lib/python3.9/site-packages/arxiv_on_deck_2/latex.py:292: LatexWarning: Latex injecting: 'conclusions' from 'tmp_2212.03255/conclusions.tex'\n",
      "  warnings.warn(LatexWarning(f\"Latex injecting: '{ext}' from '{subsource}'\"))\n",
      "/opt/hostedtoolcache/Python/3.9.15/x64/lib/python3.9/site-packages/arxiv_on_deck_2/latex.py:292: LatexWarning: Latex injecting: 'gas' from 'tmp_2212.03255/gas.tex'\n",
      "  warnings.warn(LatexWarning(f\"Latex injecting: '{ext}' from '{subsource}'\"))\n",
      "/opt/hostedtoolcache/Python/3.9.15/x64/lib/python3.9/site-packages/arxiv_on_deck_2/latex.py:292: LatexWarning: Latex injecting: 'galaxies' from 'tmp_2212.03255/galaxies.tex'\n",
      "  warnings.warn(LatexWarning(f\"Latex injecting: '{ext}' from '{subsource}'\"))\n",
      "/opt/hostedtoolcache/Python/3.9.15/x64/lib/python3.9/site-packages/arxiv_on_deck_2/latex.py:292: LatexWarning: Latex injecting: 'simulations' from 'tmp_2212.03255/simulations.tex'\n",
      "  warnings.warn(LatexWarning(f\"Latex injecting: '{ext}' from '{subsource}'\"))\n",
      "/opt/hostedtoolcache/Python/3.9.15/x64/lib/python3.9/site-packages/arxiv_on_deck_2/latex.py:292: LatexWarning: Latex injecting: 'introduction' from 'tmp_2212.03255/introduction.tex'\n",
      "  warnings.warn(LatexWarning(f\"Latex injecting: '{ext}' from '{subsource}'\"))\n"
     ]
    },
    {
     "name": "stdout",
     "output_type": "stream",
     "text": [
      "extracting tarball to tmp_2212.03257..."
     ]
    },
    {
     "name": "stdout",
     "output_type": "stream",
     "text": [
      " done.\n",
      "Retrieving document from  https://arxiv.org/e-print/2212.03266\n"
     ]
    },
    {
     "name": "stderr",
     "output_type": "stream",
     "text": [
      "/opt/hostedtoolcache/Python/3.9.15/x64/lib/python3.9/site-packages/IPython/core/interactiveshell.py:3433: LatexWarning: Multiple tex files.\n",
      "\n",
      "  exec(code_obj, self.user_global_ns, self.user_ns)\n",
      "/opt/hostedtoolcache/Python/3.9.15/x64/lib/python3.9/site-packages/IPython/core/interactiveshell.py:3433: LatexWarning: Found documentclass in tmp_2212.03257/main.tex\n",
      "\n",
      "  exec(code_obj, self.user_global_ns, self.user_ns)\n",
      "/opt/hostedtoolcache/Python/3.9.15/x64/lib/python3.9/site-packages/arxiv_on_deck_2/latex.py:292: LatexWarning: Latex injecting: 'hscy3_mock.tex' from 'tmp_2212.03257/hscy3_mock.tex'\n",
      "  warnings.warn(LatexWarning(f\"Latex injecting: '{ext}' from '{subsource}'\"))\n",
      "/opt/hostedtoolcache/Python/3.9.15/x64/lib/python3.9/site-packages/arxiv_on_deck_2/latex.py:292: LatexWarning: Latex injecting: 'hscy3_shape.tex' from 'tmp_2212.03257/hscy3_shape.tex'\n",
      "  warnings.warn(LatexWarning(f\"Latex injecting: '{ext}' from '{subsource}'\"))\n",
      "/opt/hostedtoolcache/Python/3.9.15/x64/lib/python3.9/site-packages/arxiv_on_deck_2/latex.py:292: LatexWarning: Latex injecting: 'shear_est.tex' from 'tmp_2212.03257/shear_est.tex'\n",
      "  warnings.warn(LatexWarning(f\"Latex injecting: '{ext}' from '{subsource}'\"))\n"
     ]
    },
    {
     "name": "stdout",
     "output_type": "stream",
     "text": [
      "extracting tarball to tmp_2212.03266..."
     ]
    },
    {
     "name": "stdout",
     "output_type": "stream",
     "text": [
      " done.\n",
      "Retrieving document from  https://arxiv.org/e-print/2212.03313\n"
     ]
    },
    {
     "name": "stdout",
     "output_type": "stream",
     "text": [
      "extracting tarball to tmp_2212.03313..."
     ]
    },
    {
     "name": "stdout",
     "output_type": "stream",
     "text": [
      " done.\n",
      "Retrieving document from  https://arxiv.org/e-print/2212.03326\n"
     ]
    },
    {
     "name": "stdout",
     "output_type": "stream",
     "text": [
      "extracting tarball to tmp_2212.03326..."
     ]
    },
    {
     "name": "stdout",
     "output_type": "stream",
     "text": [
      " done.\n",
      "Retrieving document from  https://arxiv.org/e-print/2212.03407\n"
     ]
    },
    {
     "name": "stderr",
     "output_type": "stream",
     "text": [
      "/opt/hostedtoolcache/Python/3.9.15/x64/lib/python3.9/site-packages/IPython/core/interactiveshell.py:3433: LatexWarning: Multiple tex files.\n",
      "\n",
      "  exec(code_obj, self.user_global_ns, self.user_ns)\n",
      "/opt/hostedtoolcache/Python/3.9.15/x64/lib/python3.9/site-packages/IPython/core/interactiveshell.py:3433: LatexWarning: Found documentclass in tmp_2212.03326/mnras_guide.tex\n",
      "\n",
      "  exec(code_obj, self.user_global_ns, self.user_ns)\n"
     ]
    },
    {
     "name": "stdout",
     "output_type": "stream",
     "text": [
      "extracting tarball to tmp_2212.03407..."
     ]
    },
    {
     "name": "stdout",
     "output_type": "stream",
     "text": [
      " done.\n",
      "Retrieving document from  https://arxiv.org/e-print/2212.03425\n"
     ]
    },
    {
     "name": "stdout",
     "output_type": "stream",
     "text": [
      "extracting tarball to tmp_2212.03425..."
     ]
    },
    {
     "name": "stdout",
     "output_type": "stream",
     "text": [
      " done.\n",
      "Retrieving document from  https://arxiv.org/e-print/2212.03514\n"
     ]
    },
    {
     "name": "stdout",
     "output_type": "stream",
     "text": [
      "extracting tarball to tmp_2212.03514..."
     ]
    },
    {
     "name": "stdout",
     "output_type": "stream",
     "text": [
      " done.\n"
     ]
    },
    {
     "name": "stdout",
     "output_type": "stream",
     "text": [
      "Retrieving document from  https://arxiv.org/e-print/2212.03563\n"
     ]
    },
    {
     "name": "stdout",
     "output_type": "stream",
     "text": [
      "extracting tarball to tmp_2212.03563..."
     ]
    },
    {
     "name": "stdout",
     "output_type": "stream",
     "text": [
      " done.\n"
     ]
    },
    {
     "name": "stdout",
     "output_type": "stream",
     "text": [
      "Retrieving document from  https://arxiv.org/e-print/2212.03577\n"
     ]
    },
    {
     "name": "stdout",
     "output_type": "stream",
     "text": [
      "extracting tarball to tmp_2212.03577... done.\n",
      "Retrieving document from  https://arxiv.org/e-print/2212.03596\n"
     ]
    },
    {
     "name": "stdout",
     "output_type": "stream",
     "text": [
      "extracting tarball to tmp_2212.03596..."
     ]
    },
    {
     "name": "stdout",
     "output_type": "stream",
     "text": [
      " done.\n",
      "Retrieving document from  https://arxiv.org/e-print/2212.03608\n"
     ]
    },
    {
     "name": "stderr",
     "output_type": "stream",
     "text": [
      "/opt/hostedtoolcache/Python/3.9.15/x64/lib/python3.9/site-packages/IPython/core/interactiveshell.py:3433: LatexWarning: Multiple tex files.\n",
      "\n",
      "  exec(code_obj, self.user_global_ns, self.user_ns)\n",
      "/opt/hostedtoolcache/Python/3.9.15/x64/lib/python3.9/site-packages/IPython/core/interactiveshell.py:3433: LatexWarning: Found documentclass in tmp_2212.03596/final.tex\n",
      "\n",
      "  exec(code_obj, self.user_global_ns, self.user_ns)\n"
     ]
    },
    {
     "name": "stdout",
     "output_type": "stream",
     "text": [
      "extracting tarball to tmp_2212.03608..."
     ]
    },
    {
     "name": "stdout",
     "output_type": "stream",
     "text": [
      " done.\n"
     ]
    },
    {
     "name": "stderr",
     "output_type": "stream",
     "text": [
      "/opt/hostedtoolcache/Python/3.9.15/x64/lib/python3.9/site-packages/IPython/core/interactiveshell.py:3433: LatexWarning: Multiple tex files.\n",
      "\n",
      "  exec(code_obj, self.user_global_ns, self.user_ns)\n",
      "/opt/hostedtoolcache/Python/3.9.15/x64/lib/python3.9/site-packages/IPython/core/interactiveshell.py:3433: LatexWarning: Found documentclass in tmp_2212.03608/aanda.tex\n",
      "\n",
      "  exec(code_obj, self.user_global_ns, self.user_ns)\n"
     ]
    },
    {
     "name": "stderr",
     "output_type": "stream",
     "text": [
      "/opt/hostedtoolcache/Python/3.9.15/x64/lib/python3.9/site-packages/arxiv_on_deck_2/latex.py:366: LatexWarning: Error parsing the document directly. Trying to recover.\n",
      "  warnings.warn(LatexWarning(f\"Error parsing the document directly. Trying to recover.\"))\n"
     ]
    },
    {
     "name": "stdout",
     "output_type": "stream",
     "text": [
      "✔ → 0:header\n",
      "  ↳ 4187:\\section{Introduction}\n"
     ]
    },
    {
     "name": "stdout",
     "output_type": "stream",
     "text": [
      "✔ → 4187:\\section{Introduction}\n",
      "  ↳ 16305:\\section{Disc Model}\\label{sec:DiscModel}\n"
     ]
    },
    {
     "name": "stdout",
     "output_type": "stream",
     "text": [
      "✔ → 16305:\\section{Disc Model}\\label{sec:DiscModel}\n",
      "  ↳ 22614:\\section{Methods}\\label{sec:Methods}\n"
     ]
    },
    {
     "name": "stdout",
     "output_type": "stream",
     "text": [
      "✘ → 22614:\\section{Methods}\\label{sec:Methods}\n",
      "  ↳ 42313:\\section{Results}\\label{sec:Results}\n"
     ]
    },
    {
     "name": "stdout",
     "output_type": "stream",
     "text": [
      "✘ → 42313:\\section{Results}\\label{sec:Results}\n",
      "  ↳ 58037:\\section{Discussion}\\label{sec:Discussion}\n"
     ]
    },
    {
     "name": "stdout",
     "output_type": "stream",
     "text": [
      "✔ → 58037:\\section{Discussion}\\label{sec:Discussion}\n",
      "  ↳ 73915:\\section{Conclusions}\\label{sec:Conclusion}\n"
     ]
    },
    {
     "name": "stdout",
     "output_type": "stream",
     "text": [
      "✔ → 73915:\\section{Conclusions}\\label{sec:Conclusion}\n",
      "  ↳ 103400:\\begin{appendix}\n",
      "✔ → 103400:\\begin{appendix}\n",
      "  ↳ 103417:\\section{Disc surface density and torque response}\\label{apx:TypicalDiscEvo}\n",
      "✔ → 103417:\\section{Disc surface density and torque response}\\label{apx:TypicalDiscEvo}\n",
      "  ↳ 106304:\\section{Estimate of eccentricity-damping and pumping resonances for partial gaps}\\label{apx:EEDRPG}\n"
     ]
    },
    {
     "name": "stdout",
     "output_type": "stream",
     "text": [
      "✔ → 106304:\\section{Estimate of eccentricity-damping and pumping resonances for partial gaps}\\label{apx:EEDRPG}\n",
      "  ↳ 110215:\\section{Analysis of indirect forces}\n",
      "✔ → 110215:\\section{Analysis of indirect forces}\n",
      "  ↳ 111449:\\section{Fits to $e$-damping efficiency}\n",
      "✔ → 111449:\\section{Fits to $e$-damping efficiency}\n",
      "  ↳ 112796:end\n"
     ]
    },
    {
     "name": "stderr",
     "output_type": "stream",
     "text": [
      "/opt/hostedtoolcache/Python/3.9.15/x64/lib/python3.9/site-packages/arxiv_on_deck_2/latex.py:118: LatexWarning: attempting recovering figure TildeKanagawaVsObs_GapDepth2_V2\n",
      "  warnings.warn(LatexWarning(f'attempting recovering figure {image}'))\n"
     ]
    },
    {
     "name": "stderr",
     "output_type": "stream",
     "text": [
      "/opt/hostedtoolcache/Python/3.9.15/x64/lib/python3.9/site-packages/arxiv_on_deck_2/latex.py:118: LatexWarning: attempting recovering figure edampVsTildaKGapDepthFitSegmented\n",
      "  warnings.warn(LatexWarning(f'attempting recovering figure {image}'))\n"
     ]
    },
    {
     "name": "stderr",
     "output_type": "stream",
     "text": [
      "/opt/hostedtoolcache/Python/3.9.15/x64/lib/python3.9/site-packages/arxiv_on_deck_2/latex.py:118: LatexWarning: attempting recovering figure DustTrapPlotGlobal\n",
      "  warnings.warn(LatexWarning(f'attempting recovering figure {image}'))\n",
      "/tmp/ipykernel_2018/4030337529.py:34: LatexWarning: 2212.03608 did not run properly\n",
      "Could not find figure DustTrapPlotGlobal\n",
      "  warnings.warn(latex.LatexWarning(f\"{paper_id:s} did not run properly\\n\" +\n"
     ]
    },
    {
     "name": "stdout",
     "output_type": "stream",
     "text": [
      "Retrieving document from  https://arxiv.org/e-print/2212.03728\n"
     ]
    },
    {
     "name": "stderr",
     "output_type": "stream",
     "text": [
      "/tmp/ipykernel_2018/4030337529.py:34: LatexWarning: 2212.03728 did not run properly\n",
      "invalid header\n",
      "  warnings.warn(latex.LatexWarning(f\"{paper_id:s} did not run properly\\n\" +\n"
     ]
    },
    {
     "name": "stdout",
     "output_type": "stream",
     "text": [
      "Retrieving document from  https://arxiv.org/e-print/2212.03734\n"
     ]
    },
    {
     "name": "stdout",
     "output_type": "stream",
     "text": [
      "extracting tarball to tmp_2212.03734..."
     ]
    },
    {
     "name": "stdout",
     "output_type": "stream",
     "text": [
      " done.\n",
      "Retrieving document from  https://arxiv.org/e-print/2212.03740\n"
     ]
    },
    {
     "name": "stderr",
     "output_type": "stream",
     "text": [
      "/opt/hostedtoolcache/Python/3.9.15/x64/lib/python3.9/site-packages/IPython/core/interactiveshell.py:3433: LatexWarning: Multiple tex files.\n",
      "\n",
      "  exec(code_obj, self.user_global_ns, self.user_ns)\n",
      "/opt/hostedtoolcache/Python/3.9.15/x64/lib/python3.9/site-packages/IPython/core/interactiveshell.py:3433: LatexWarning: Found documentclass in tmp_2212.03734/main.tex\n",
      "\n",
      "  exec(code_obj, self.user_global_ns, self.user_ns)\n",
      "/opt/hostedtoolcache/Python/3.9.15/x64/lib/python3.9/site-packages/arxiv_on_deck_2/latex.py:292: LatexWarning: Latex injecting: 'affiliations' from 'tmp_2212.03734/affiliations.tex'\n",
      "  warnings.warn(LatexWarning(f\"Latex injecting: '{ext}' from '{subsource}'\"))\n",
      "/opt/hostedtoolcache/Python/3.9.15/x64/lib/python3.9/site-packages/arxiv_on_deck_2/latex.py:292: LatexWarning: Latex injecting: 'authorlist.tex' from 'tmp_2212.03734/authorlist.tex'\n",
      "  warnings.warn(LatexWarning(f\"Latex injecting: '{ext}' from '{subsource}'\"))\n"
     ]
    },
    {
     "name": "stdout",
     "output_type": "stream",
     "text": [
      "extracting tarball to tmp_2212.03740..."
     ]
    },
    {
     "name": "stdout",
     "output_type": "stream",
     "text": [
      " done.\n",
      "Retrieving document from  https://arxiv.org/e-print/2212.03742\n"
     ]
    },
    {
     "name": "stdout",
     "output_type": "stream",
     "text": [
      "extracting tarball to tmp_2212.03742..."
     ]
    },
    {
     "name": "stdout",
     "output_type": "stream",
     "text": [
      " done.\n",
      "Retrieving document from  https://arxiv.org/e-print/2212.03746\n"
     ]
    },
    {
     "name": "stdout",
     "output_type": "stream",
     "text": [
      "extracting tarball to tmp_2212.03746..."
     ]
    },
    {
     "name": "stdout",
     "output_type": "stream",
     "text": [
      " done.\n",
      "Retrieving document from  https://arxiv.org/e-print/2212.03837\n"
     ]
    },
    {
     "name": "stderr",
     "output_type": "stream",
     "text": [
      "/tmp/ipykernel_2018/4030337529.py:34: LatexWarning: 2212.03837 did not run properly\n",
      "not a gzip file\n",
      "  warnings.warn(latex.LatexWarning(f\"{paper_id:s} did not run properly\\n\" +\n"
     ]
    }
   ],
   "source": [
    "documents = []\n",
    "failed = []\n",
    "for paper in tqdm(candidates[:-1]):\n",
    "    paper_id = paper['identifier'].lower().replace('arxiv:', '')\n",
    "    \n",
    "    folder = f'tmp_{paper_id}'\n",
    "\n",
    "    try:\n",
    "        if not os.path.isdir(folder):\n",
    "            folder = retrieve_document_source(f\"{paper_id}\", f'tmp_{paper_id}')\n",
    "        \n",
    "        try:\n",
    "            doc = latex.LatexDocument(folder, validation=validation)    \n",
    "        except AffiliationError as affilerror:\n",
    "            msg = f\"ArXiv:{paper_id:s} is not an MPIA paper... \" + str(affilerror)\n",
    "            failed.append((paper, \"affiliation error: \" + str(affilerror) ))\n",
    "            continue\n",
    "        \n",
    "        # Hack because sometimes author parsing does not work well\n",
    "        if (len(doc.authors) != len(paper['authors'])):\n",
    "            doc._authors = paper['authors']\n",
    "        if (doc.abstract) in (None, ''):\n",
    "            doc._abstract = paper['abstract']\n",
    "            \n",
    "        doc.comment = (get_markdown_badge(paper_id) + \n",
    "                       \"<mark>Appeared on: \" + paper['date'] + \"</mark> - \" +\n",
    "                       \"_\" + paper['comments'] + \"_\")\n",
    "        doc.highlight_authors_in_list(hl_list)\n",
    "\n",
    "        full_md = doc.generate_markdown_text()\n",
    "        \n",
    "        documents.append((paper_id, full_md))\n",
    "    except Exception as e:\n",
    "        warnings.warn(latex.LatexWarning(f\"{paper_id:s} did not run properly\\n\" +\n",
    "                                         str(e)\n",
    "                                        ))\n",
    "        failed.append((paper, \"latex error \" + str(e)))"
   ]
  },
  {
   "cell_type": "markdown",
   "id": "2505a25c",
   "metadata": {
    "papermill": {
     "duration": 0.007306,
     "end_time": "2022-12-08T04:12:02.138965",
     "exception": false,
     "start_time": "2022-12-08T04:12:02.131659",
     "status": "completed"
    },
    "tags": []
   },
   "source": [
    "### Export the logs\n",
    "\n",
    "Throughout, we also keep track of the logs per paper. see `logs-{today date}.md` "
   ]
  },
  {
   "cell_type": "code",
   "execution_count": 6,
   "id": "d733828a",
   "metadata": {
    "execution": {
     "iopub.execute_input": "2022-12-08T04:12:02.155351Z",
     "iopub.status.busy": "2022-12-08T04:12:02.154573Z",
     "iopub.status.idle": "2022-12-08T04:12:02.183585Z",
     "shell.execute_reply": "2022-12-08T04:12:02.182833Z"
    },
    "papermill": {
     "duration": 0.03906,
     "end_time": "2022-12-08T04:12:02.185116",
     "exception": false,
     "start_time": "2022-12-08T04:12:02.146056",
     "status": "completed"
    },
    "scrolled": false,
    "tags": []
   },
   "outputs": [
    {
     "data": {
      "text/markdown": [
       "## Successful papers"
      ],
      "text/plain": [
       "<IPython.core.display.Markdown object>"
      ]
     },
     "metadata": {},
     "output_type": "display_data"
    },
    {
     "data": {
      "text/markdown": [
       "\n",
       "|||\n",
       "|---:|:---|\n",
       "| [![arXiv](https://img.shields.io/badge/arXiv-arXiv:2212.03514-b31b1b.svg)](https://arxiv.org/abs/arXiv:2212.03514) | **The CARMENES search for exoplanets around M dwarfs. Variability on long  timescales as seen in chromospheric indicators**  |\n",
       "|| B. Fuhrmeister, et al. -- incl., <mark>M. Kürster</mark> |\n",
       "|*Appeared on*| *2022-12-08*|\n",
       "|*Comments*| *Accepted to A&A, 16 pages, 12 figures*|\n",
       "|**Abstract**| It is clearly established that the Sun has an 11-year cycle that is caused by its internal magnetic field. This cycle is also observed in a sample of M dwarfs. In the framework of exoplanet detection or atmospheric characterisation of exoplanets, the activity status of the host star plays a crucial role, and inactive states are preferable for such studies. This means that it is important to know the activity cycles of these stars. We study systematic long-term variability in a sample of 211 M dwarfs observed with CARMENES, the high-resolution optical and near-infrared spectrograph at Calar Alto Observatory. In an automatic search using time series of different activity indicators, we identified 26 stars with linear or quadratic trends or with potentially cyclic behaviour. Additionally, we performed an independent search in archival R$^{\\prime}_{\\rm HK}$ data collected from different instruments whose time baselines were usually much longer. These data are available for a subset of 186 of our sample stars. Our search revealed 22 cycle candidates in the data. We found that the percentage of stars showing long-term variations drops dramatically to the latest M dwarfs. Moreover, we found that the pseudo-equivalent width (pEW) of the H$\\alpha$ and Ca ii infrared triplet more often triggers automatic detections of long-term variations than the TiO index, differential line width, chromatic index, or radial velocity. This is in line with our comparison of the median relative amplitudes of the different indicators. For stars that trigger our automatic detection, this leads to the highest amplitude variation in R$^{\\prime}_{\\rm HK}$, followed by pEW(H$\\alpha$), pEW(Ca ii IRT), and the TiO index. |"
      ],
      "text/plain": [
       "[arXiv:2212.03514] The CARMENES search for exoplanets around M dwarfs. Variability on long  timescales as seen in chromospheric indicators\n",
       "\tB. Fuhrmeister, et al. -- incl., <mark>M. Kürster</mark>"
      ]
     },
     "metadata": {},
     "output_type": "display_data"
    },
    {
     "data": {
      "text/markdown": [
       "\n",
       "|||\n",
       "|---:|:---|\n",
       "| [![arXiv](https://img.shields.io/badge/arXiv-arXiv:2212.03563-b31b1b.svg)](https://arxiv.org/abs/arXiv:2212.03563) | **A high resolution study of near-IR diffuse interstellar bands, search  for small scale structure, time variability and stellar features**  |\n",
       "|| J. V. Smoker, et al. -- incl., <mark>A. Müller</mark>, <mark>K. T. Smith</mark> |\n",
       "|*Appeared on*| *2022-12-08*|\n",
       "|*Comments*| *Accepted for publicaion in the main journal of Astronomy and Astrophysics on 25th November 2022*|\n",
       "|**Abstract**| Diffuse interstellar bands comprise hundreds of absorption features in the ISM. Most DIBs are observed in the optical, but some are in the IR. We observed 76 early-type stars at R=50,000 and S/N ratios of several hundreds using CRIRES. We measure DIBs around 1318, 1527, 1561, 1565, 1567, 1574 and/or 1624 nm. We detect a total of 6 DIB features and 17 likely stellar features assisted by a CMFGEN model. We also measured the DIBs at 1318 and 1527 nm using X-shooter towards ten Ceph. variables with 3.2 < E(B-V) < 6.5 and 4 stars at low values of water vapour. Correlation coeffs. of 0.73-0.96 are found comparing NIRDIB eq. width vs. E(B-V) and with r > 0.8 when comparing the NIR and optical DIBs 5705, 5780, 6203, 6283 and 6269 A. The 5797 A DIB is less well correlated with the NIDIBs. The \"C60+\" DIB at 9632 A is not well correlated with the 1318 nm DIB. Partial correlation coefficients using E(B-V) as the covariate were also determined. For stars earlier than B2, the 1318 nm DIB is affected by an emission line on its blue wing, likely stellar in nature, although we cannot rule out interstellar/circumstellar origin for example caused by by a DIB in emission. The 1318 nm DIB has a red wing and is reasonably well fitted by two gaussians. Neither the component ratios nor separation are correlated with 5780/5797 or E(B-V). EW(1318 nm) correlates with HI with EW(1318 nm)/E(B-V) decreasing with f(H2). Five pairs of stars within 1 am show similar 1318 nm DIB profiles. Variation in 1318 nm is seen in HD 145501/145502 and HD 168607/168625 pairs. CRIRES data for 17 stars separated by 6-14 months and 2 X-shooter sightlines separated by 9.9 yr were analysed. No time-variability is detected in the 5780, 5797 A, 1318 nm or 1527 nm DIBs. Tentative time variation is observed in the C60+ DIBs at 9577 and 9632 A towards HD 183143 although very close to the noise level with confirmation required. |"
      ],
      "text/plain": [
       "[arXiv:2212.03563] A high resolution study of near-IR diffuse interstellar bands, search  for small scale structure, time variability and stellar features\n",
       "\tJ. V. Smoker, et al. -- incl., <mark>A. Müller</mark>, <mark>K. T. Smith</mark>"
      ]
     },
     "metadata": {},
     "output_type": "display_data"
    },
    {
     "data": {
      "text/markdown": [
       "## Failed papers"
      ],
      "text/plain": [
       "<IPython.core.display.Markdown object>"
      ]
     },
     "metadata": {},
     "output_type": "display_data"
    },
    {
     "data": {
      "text/markdown": [
       "\n",
       "|||\n",
       "|---:|:---|\n",
       "| [![arXiv](https://img.shields.io/badge/arXiv-arXiv:2212.03257-b31b1b.svg)](https://arxiv.org/abs/arXiv:2212.03257) | **A General Framework for Removing Point Spread Function Additive  Systematics in Cosmological Weak Lensing Analysis**  |\n",
       "|| <mark>Tianqing Zhang</mark>, et al. -- incl., <mark>Xiangchong Li</mark> |\n",
       "|*Appeared on*| *2022-12-08*|\n",
       "|*Comments*| *29 pages, 25 figures, submitted to MNRAS. Comments welcomed*|\n",
       "|**Abstract**| Cosmological weak lensing measurements rely on a precise measurement of the shear two-point correlation function (2PCF) along with a deep understanding of systematics that affect it. In this work, we demonstrate a general framework for describing the impact of PSF systematics on the cosmic shear 2PCF, and mitigating its impact on cosmological analysis. Our framework can describe leakage and modeling error from all spin-2 quantities contributed by the PSF second and higher moments, rather than just the second moments. We interpret null tests using the HSC Year 3 (Y3) catalogs with this formalism, and find that leakage from the spin-2 combination of PSF fourth moments is the leading contributor to additive shear systematics, with total contamination that is an order of magnitude higher than that contributed by PSF second moments alone. We conducted a mock cosmic shear analysis for HSC Y3, and find that, if uncorrected, PSF systematics can bias the cosmological parameters $\\Omega_m$ and $S_8$ by $\\sim$0.3$\\sigma$. The traditional second moment-based model can only correct for a 0.1$\\sigma$ bias, leaving the contamination largely uncorrected. We conclude it is necessary to model both PSF second and fourth moment contamination for HSC Y3 cosmic shear analysis. We also reanalyze the HSC Y1 cosmic shear analysis with our updated systematics model, and identify a 0.07$\\sigma$ bias on $\\Omega_m$ when using the more restricted second moment model from the original analysis. We demonstrate how to self-consistently use the method in both real space and Fourier space, assess shear systematics in tomographic bins, and test for PSF model overfitting. |\n",
       "|<p style=\"color:green\"> **ERROR** </p>| <p style=\"color:green\">affiliation error: mpia.affiliation_verifications: '69117' keyword not found.</p> |"
      ],
      "text/plain": [
       "<IPython.core.display.Markdown object>"
      ]
     },
     "metadata": {},
     "output_type": "display_data"
    },
    {
     "data": {
      "text/markdown": [
       "\n",
       "|||\n",
       "|---:|:---|\n",
       "| [![arXiv](https://img.shields.io/badge/arXiv-arXiv:2212.03596-b31b1b.svg)](https://arxiv.org/abs/arXiv:2212.03596) | **JWST MIRI/MRS in-flight absolute flux calibration and tailored fringe  correction for unresolved sources**  |\n",
       "|| D. Gasman, et al. -- incl., <mark>P. Klaassen</mark>, <mark>M. Mueller</mark> |\n",
       "|*Appeared on*| *2022-12-08*|\n",
       "|*Comments*| **|\n",
       "|**Abstract**| The MRS is one of the four observing modes of JWST/MIRI. Using JWST in-flight data of unresolved (point) sources, we can derive the MRS absolute spectral response function (ASRF) starting from raw data. Spectral fringing plays a critical role in the derivation and interpretation of the MRS ASRF. In this paper, we present an alternative way to calibrate the data. Firstly, we aim to derive a fringe correction that accounts for the dependence of the fringe properties on the MIRI pupil illumination and detector pixel sampling of the point spread function. Secondly, we aim to derive the MRS ASRF using an absolute flux calibrator observed across the full 5 to 28 $\\mu$m wavelength range of the MRS. Thirdly, we aim to apply the new ASRF to the spectrum of a G dwarf and compare with the output of the JWST/MIRI default data reduction pipeline. Finally, we examine the impact of the different fringe corrections on the detectability of molecular features in the G dwarf and K giant. The absolute flux calibrator HD 163466 (A-star) is used to derive tailored point source fringe flats at each of the default dither locations of the MRS. The fringe-corrected point source integrated spectrum of HD 163466 is used to derive the MRS ASRF using a theoretical model for the stellar continuum. A cross-correlation is run to quantify the uncertainty on the detection of CO, SiO, and OH in the K giant and CO in the G dwarf for different fringe corrections. The point-source-tailored fringe correction and ASRF are found to perform at the same level as the current corrections, beating down the fringe contrast to the sub-percent level, whilst mitigating the alteration of real molecular features. The same tailored solutions can be applied to other MRS unresolved targets. A pointing repeatability issue in the MRS limits the effectiveness of the tailored fringe flats is at short wavelengths. |\n",
       "|<p style=\"color:green\"> **ERROR** </p>| <p style=\"color:green\">affiliation error: mpia.affiliation_verifications: '69117' keyword not found.</p> |"
      ],
      "text/plain": [
       "<IPython.core.display.Markdown object>"
      ]
     },
     "metadata": {},
     "output_type": "display_data"
    },
    {
     "data": {
      "text/markdown": [
       "\n",
       "|||\n",
       "|---:|:---|\n",
       "| [![arXiv](https://img.shields.io/badge/arXiv-arXiv:2212.03252-b31b1b.svg)](https://arxiv.org/abs/arXiv:2212.03252) | **Direct measurements of carbon and sulfur isotope ratios in the Milky Way**  |\n",
       "|| Y. T. Yan, et al. -- incl., <mark>C. Henkel</mark>, <mark>J. S. Zhang</mark>, <mark>J. J. Xie</mark> |\n",
       "|*Appeared on*| *2022-12-08*|\n",
       "|*Comments*| *HMSFRs: high-mass star-forming regions. CMZ: central molecular zone. GCE: Galactic chemical evolution. 71 pages, 12 tables, 18 figures. Accepted for publication in A&A*|\n",
       "|**Abstract**| With the IRAM 30-m telescope, we performed observations of the $J$ = 2-1 transitions of CS, C$^{33}$S, C$^{34}$S, C$^{36}$S, $^{13}$CS, $^{13}$C$^{33}$S, and $^{13}$C$^{34}$S as well as the $J$ = 3-2 transitions of C$^{33}$S, C$^{34}$S, C$^{36}$S, and $^{13}$CS toward a large sample of 110 HMSFRs. We measured the $^{12}$C/$^{13}$C, $^{32}$S/$^{34}$S, $^{32}$S/$^{33}$S, $^{32}$S/$^{36}$S, $^{34}$S/$^{33}$S, $^{34}$S/$^{36}$S, and $^{33}$S/$^{36}$S abundance ratios with rare isotopologues of CS, thus avoiding significant saturation effects. With accurate distances obtained from parallax data, we confirm previously identified $^{12}$C/$^{13}$C and $^{32}$S/$^{34}$S gradients as a function of galactocentric distance (RGC). In the CMZ $^{12}$C/$^{13}$C ratios are higher than suggested by a linear fit to the disk values as a function of RGC. While $^{32}$S/$^{34}$S ratios near the Galactic center and in the inner disk are similar, this is not the case for $^{12}$C/$^{13}$C, when comparing central values with those near RGC of 5 kpc. As was already known, there is no $^{34}$S/$^{33}$S gradient but the average ratio of 4.35~$\\pm$~0.44, derived from the $J$ = 2-1 transition lines of C$^{34}$S and C$^{33}$S, is well below previously reported values. A comparison between solar and local interstellar $^{32}$S/$^{34}$S and $^{34}$S/$^{33}$S ratios suggests that the solar system may have been formed from gas with a particularly high $^{34}$S abundance. For the first time, we report positive gradients of $^{32}$S/$^{33}$S, $^{34}$S/$^{36}$S, $^{33}$S/$^{36}$S and $^{32}{\\rm S}/^{36}{\\rm S}$ in our Galaxy. The predicted $^{12}$C/$^{13}$C ratios from the latest GCE models are in good agreement with our results, while $^{32}$S/$^{34}$S and $^{32}$S/$^{36}$S ratios show larger differences at larger RGC, $^{32}$S/$^{33}$S ratios show an offset across the entire inner 12 kpc of the Milky Way. |\n",
       "|<p style=\"color:green\"> **ERROR** </p>| <p style=\"color:green\">affiliation error: mpia.affiliation_verifications: 'Heidelberg' keyword not found.</p> |"
      ],
      "text/plain": [
       "<IPython.core.display.Markdown object>"
      ]
     },
     "metadata": {},
     "output_type": "display_data"
    },
    {
     "data": {
      "text/markdown": [
       "\n",
       "|||\n",
       "|---:|:---|\n",
       "| [![arXiv](https://img.shields.io/badge/arXiv-arXiv:2212.03255-b31b1b.svg)](https://arxiv.org/abs/arXiv:2212.03255) | **THESAN-HR: How does reionization impact early galaxy evolution?**  |\n",
       "|| Josh Borrow, et al. -- incl., <mark>Aaron Smith</mark>, <mark>Lars Hernquist</mark> |\n",
       "|*Appeared on*| *2022-12-08*|\n",
       "|*Comments*| *Submitted to MNRAS*|\n",
       "|**Abstract**| Early galaxies were the radiation source for reionization, with the photoheating feedback from the reionization process expected to reduce the efficiency of star formation in low mass haloes. Hence, to fully understand reionization and galaxy formation, we must study their impact on each other. The THESAN project has so far aimed to study the impact of galaxy formation physics on reionization, but here we present the new THESAN simulations with a factor 50 higher resolution ($m_{\\rm b} \\approx 10^4$~M$_\\odot$) that aim to self-consistently study the back-reaction of reionization on galaxies. By resolving haloes with virial temperatures $T_{\\rm vir} < 10^4$~K, we are able to demonstrate that simplistic, spatially-uniform, reionization models are not sufficient to study early galaxy evolution. Comparing the self-consistent THESAN model (employing fully coupled radiation hydrodynamics) to a uniform UV background, we are able to show that galaxies in THESAN are predicted to be larger in physical extent (by a factor $\\sim 2$), less metal enriched (by $\\sim 0.2$~dex), and less abundant (by a factor $\\sim 10$ at $M_{\\rm 1500}~=~-10$) by $z=5$. We show that differences in star formation and enrichment patterns lead to significantly different predictions for star formation in low mass haloes, low-metallicity star formation, and even the occupation fraction of haloes. We posit that cosmological galaxy formation simulations aiming to study early galaxy formation $z \\gtrsim 3$ must employ a spatially inhomogeneous UV background to accurately reproduce galaxy properties. |\n",
       "|<p style=\"color:green\"> **ERROR** </p>| <p style=\"color:green\">affiliation error: mpia.affiliation_verifications: 'Heidelberg' keyword not found.</p> |"
      ],
      "text/plain": [
       "<IPython.core.display.Markdown object>"
      ]
     },
     "metadata": {},
     "output_type": "display_data"
    },
    {
     "data": {
      "text/markdown": [
       "\n",
       "|||\n",
       "|---:|:---|\n",
       "| [![arXiv](https://img.shields.io/badge/arXiv-arXiv:2212.03266-b31b1b.svg)](https://arxiv.org/abs/arXiv:2212.03266) | **TESS Hunt for Young and Maturing Exoplanets (THYME) IX: a 27 Myr  extended population of Lower-Centaurus Crux with a transiting two-planet  system**  |\n",
       "|| Mackenna L. Wood, et al. -- incl., <mark>Carl Ziegler</mark>, <mark>Joseph D. Twicken</mark> |\n",
       "|*Appeared on*| *2022-12-08*|\n",
       "|*Comments*| *23 pages, 15 figures, Accepted for publication in AJ*|\n",
       "|**Abstract**| We report the discovery and characterization of a nearby (~ 85 pc), older (27 +/- 3 Myr), distributed stellar population near Lower-Centaurus-Crux (LCC), initially identified by searching for stars co-moving with a candidate transiting planet from TESS (HD 109833; TOI 1097). We determine the association membership using Gaia kinematics, color-magnitude information, and rotation periods of candidate members. We measure it's age using isochrones, gyrochronology, and Li depletion. While the association is near known populations of LCC, we find that it is older than any previously found LCC sub-group (10-16 Myr), and distinct in both position and velocity. In addition to the candidate planets around HD 109833 the association contains four directly-imaged planetary-mass companions around 3 stars, YSES-1, YSES-2, and HD 95086, all of which were previously assigned membership in the younger LCC. Using the Notch pipeline, we identify a second candidate transiting planet around HD 109833. We use a suite of ground-based follow-up observations to validate the two transit signals as planetary in nature. HD 109833 b and c join the small but growing population of <100 Myr transiting planets from TESS. HD 109833 has a rotation period and Li abundance indicative of a young age (< 100 Myr), but a position and velocity on the outskirts of the new population, lower Li levels than similar members, and a CMD position below model predictions for 27 Myr. So, we cannot reject the possibility that HD 109833 is a young field star coincidentally nearby the population. |\n",
       "|<p style=\"color:green\"> **ERROR** </p>| <p style=\"color:green\">affiliation error: mpia.affiliation_verifications: 'Heidelberg' keyword not found.</p> |"
      ],
      "text/plain": [
       "<IPython.core.display.Markdown object>"
      ]
     },
     "metadata": {},
     "output_type": "display_data"
    },
    {
     "data": {
      "text/markdown": [
       "\n",
       "|||\n",
       "|---:|:---|\n",
       "| [![arXiv](https://img.shields.io/badge/arXiv-arXiv:2212.03313-b31b1b.svg)](https://arxiv.org/abs/arXiv:2212.03313) | **The prevalence and influence of circumstellar material around  hydrogen-rich supernova progenitors**  |\n",
       "|| Rachel J. Bruch, et al. -- incl., <mark>Frank J. Masci</mark>, <mark>Y. Sharma</mark>, <mark>Roger Smith</mark>, <mark>Richard Walters</mark>, <mark>Lin Yan</mark> |\n",
       "|*Appeared on*| *2022-12-08*|\n",
       "|*Comments*| **|\n",
       "|**Abstract**| Spectroscopic detection of transient narrow emission lines (flash-ionisation features) traces the presence of circumstellar material (CSM) around massive stars exploding as core-collapse supernovae. Transient emission lines disappearing shortly after the SN explosion suggest that the spatial extent of this material is compact; hence implying that the progenitor star experienced episodes of enhanced mass loss shortly prior to explosion. The early light curves of Type II supernovae (SNe II) are assumed to be initially powered by shock-cooling emission. Additional luminosity may arise from interaction via shocks with the CSM, if it is present. We performed a systematic survey of SNe II discovered within less than two days from explosion during the first phase of the Zwicky Transient Facility (ZTF) survey. We gathered the early light curves and spectra of thirty SNe II. The measured fraction of events showing emission line evidence for CSM (>30% at 95% confidence level) indicates that elevated mass loss is a common process occurring in massive stars. We also measure the rise time and peak magnitude of each event. We find that SNe II showing spectroscopic evidence for CSM interaction at early time are not significantly brighter, nor bluer, nor more slowly rising than those who do not. This implies that the CSM in these events is likely optically thin, and therefore that the CSM interaction does not contribute significantly to their early continuum emission. We also introduce for the first time a measurement of the timescale of appearance of flash ionisation features. Most SN show flash features for ~5 days. A rarer population of events with timescales longer than 10 days, seem to be brighter and rise longer, thus making them a potential bridging population between regular SNe II and strongly-interacting SNe IIn. |\n",
       "|<p style=\"color:green\"> **ERROR** </p>| <p style=\"color:green\">affiliation error: mpia.affiliation_verifications: 'Heidelberg' keyword not found.</p> |"
      ],
      "text/plain": [
       "<IPython.core.display.Markdown object>"
      ]
     },
     "metadata": {},
     "output_type": "display_data"
    },
    {
     "data": {
      "text/markdown": [
       "\n",
       "|||\n",
       "|---:|:---|\n",
       "| [![arXiv](https://img.shields.io/badge/arXiv-arXiv:2212.03326-b31b1b.svg)](https://arxiv.org/abs/arXiv:2212.03326) | **Gas-phase metallicity break radii of star-forming galaxies in  IllustrisTNG**  |\n",
       "|| Alex M. Garcia, et al. -- incl., <mark>Z.S. Hemler</mark>, <mark>Lars Hernquist</mark>, <mark>Lisa J. Kewley</mark>, <mark>Henry R.M. Zovaro</mark> |\n",
       "|*Appeared on*| *2022-12-08*|\n",
       "|*Comments*| *17 pages, 11 figures, submitted to MNRAS*|\n",
       "|**Abstract**| We present radial gas-phase metallicity profiles, gradients, and break radii at redshift $z = 0 - 3$ from the TNG50-1 star-forming galaxy population. These metallicity profiles are characterized by an emphasis on identifying the steep inner gradient and flat outer gradient. From this, the break radius, $r_{\\rm Break}$, is defined as the region where the transition occurs. We observe the break radius having a positive trend with mass that weakens with redshift. When normalized by the stellar half-mass radius, the break radius has a weaker relation with both mass and redshift. To test if our results are dependent on the resolution or adopted physics of TNG50-1, the same analysis is performed in TNG50-2 and Illustris-1. We find general agreement between each of the simulations in their qualitative trends; however, the adopted physics between TNG and Illustris differ and therefore the breaks, normalized by galaxy size, deviate by a factor of $\\sim$2. In order to understand where the break comes from, we define two relevant time-scales: an enrichment time-scale and a radial gas mixing time-scale. We find that $r_{\\rm Break}$ occurs where the gas mixing time-scale is $\\sim$10 times as long as the enrichment time-scale in all three simulation runs, with some weak mass and redshift dependence. This implies that galactic disks can be thought of in two-parts: a star-forming inner disk with a steep gradient and a mixing-dominated outer disk with a flat gradient, with the break radius marking the region of transition between them. |\n",
       "|<p style=\"color:green\"> **ERROR** </p>| <p style=\"color:green\">affiliation error: mpia.affiliation_verifications: 'Heidelberg' keyword not found.</p> |"
      ],
      "text/plain": [
       "<IPython.core.display.Markdown object>"
      ]
     },
     "metadata": {},
     "output_type": "display_data"
    },
    {
     "data": {
      "text/markdown": [
       "\n",
       "|||\n",
       "|---:|:---|\n",
       "| [![arXiv](https://img.shields.io/badge/arXiv-arXiv:2212.03407-b31b1b.svg)](https://arxiv.org/abs/arXiv:2212.03407) | **The Type Ibn Supernova 2019kbj -- Indications for Diversity in Type Ibn  Supernova Progenitors**  |\n",
       "|| Tom Ben-Ami, et al. -- incl., <mark>Joseph Farah</mark> |\n",
       "|*Appeared on*| *2022-12-08*|\n",
       "|*Comments*| *After first round of review, before re-submission to ApJ, comments welcome*|\n",
       "|**Abstract**| Type Ibn supernovae (SNe) are a rare class of stellar explosions whose progenitor systems are not yet well determined. We present and analyze observations of the Type Ibn SN 2019kbj, and model its light curve in order to constrain its progenitor and explosion parameters. SN 2019kbj shows roughly constant temperature during the first month after peak, indicating a power source (likely CSM interaction) that keeps the continuum emission hot at ~15000K. Indeed, we find that the radioactive decay of Ni56 is disfavored as the sole power source of the bolometric light curve. A radioactive decay + circumstellar-material (CSM) interaction model, on the other hand, does reproduce the bolometric emission well. The fits prefer a uniform-density CSM shell rather than CSM due to a steady mass-loss wind, similar to what is seen in other Type Ibn SNe. The uniform-density CSM shell model requires ~0.1 solar masses of Ni56 and ~1 solar mass of total ejecta to reproduce the light curve. SN 2019kbj differs in this manner from another Type Ibn SN with derived physical parameters, SN 2019uo, for which an order of magnitude lower Ni56 mass and larger ejecta mass were derived. This points towards a possible diversity in SN Ibn progenitor systems and explosions. |\n",
       "|<p style=\"color:green\"> **ERROR** </p>| <p style=\"color:green\">affiliation error: mpia.affiliation_verifications: 'Heidelberg' keyword not found.</p> |"
      ],
      "text/plain": [
       "<IPython.core.display.Markdown object>"
      ]
     },
     "metadata": {},
     "output_type": "display_data"
    },
    {
     "data": {
      "text/markdown": [
       "\n",
       "|||\n",
       "|---:|:---|\n",
       "| [![arXiv](https://img.shields.io/badge/arXiv-arXiv:2212.03425-b31b1b.svg)](https://arxiv.org/abs/arXiv:2212.03425) | **Macrospicules and Their Connection to Magnetic Reconnection in the Lower  Atmosphere**  |\n",
       "|| Yadan Duan, et al. -- incl., <mark>Hechao Chen</mark> |\n",
       "|*Appeared on*| *2022-12-08*|\n",
       "|*Comments*| *19 pages, 5 figures, accepted by the ApJL*|\n",
       "|**Abstract**| Solar macrospicules are beam-like cool plasma ejections of size in-between spicules and coronal jets, which can elucidate potential connections between plasma jetting activity at different scales. With high-resolution observations from the {\\em New Vacuum Solar Telescope} and Solar Dynamic Observatory, we investigate the origin of five groups of recurrent active-region macrospicules. Before the launch of each macrospicule, we detect a compact bright patch (BP) at its base where a newly emerging dipole contacts and cancel with the pre-existing ambient field. The spectral diagnosis from the {\\em Interface Region Imaging Spectrograph} at one of BPs reveals signatures of reconnection at the lower atmosphere. Multiwavelength imaging of these BPs show that they mainly occur at the rising phase of the flux emergence and slowly ascend from the lower to the upper chromosphere. Remarkable macrospicules occur and fade out once the BPs appear and decay from the AIA 304 A images, respectively. We suggest that these macrospicules and related BPs form in a common reconnection process, in which the increasing reconnection height between the emerging dipole and the ambient field results in the observed variations from BPs to macrospicules. Interestingly, most macrospicules show similar characteristics to larger-scale coronal jets and/or smaller-scale spicules, i.e., the rotating motions, the presence of minifilaments and BPs before the eruptions, and magnetic flux emergence and cancellation. We conclude that the formation mechanism of macrospicules should be the same as spicules and coronal jets, i.e., solar jetting phenomena at different scales share the same physical mechanism in association with magnetic reconnection. |\n",
       "|<p style=\"color:green\"> **ERROR** </p>| <p style=\"color:green\">affiliation error: mpia.affiliation_verifications: 'Heidelberg' keyword not found.</p> |"
      ],
      "text/plain": [
       "<IPython.core.display.Markdown object>"
      ]
     },
     "metadata": {},
     "output_type": "display_data"
    },
    {
     "data": {
      "text/markdown": [
       "\n",
       "|||\n",
       "|---:|:---|\n",
       "| [![arXiv](https://img.shields.io/badge/arXiv-arXiv:2212.03577-b31b1b.svg)](https://arxiv.org/abs/arXiv:2212.03577) | **Primordial black holes generated by the non-minimal spectator field**  |\n",
       "|| De-Shuang Meng, Chen Yuan, <mark>Qing-Guo Huang</mark> |\n",
       "|*Appeared on*| *2022-12-08*|\n",
       "|*Comments*| *15 pages and 4 figures*|\n",
       "|**Abstract**| In this paper, we propose a model in which a spectator field non-minimally couples to an inflaton field and the power spectrum of the perturbation of the spectator field at small scales is dramatically enhanced by the sharp feature in the form of non-minimal coupling. At or after the end of inflation, the perturbation of the spectator field is converted into curvature perturbation and leads to the formation of primordial black holes (PBHs). Furthermore, for example, we consider three phenomenological models for generating PBHs with mass function peaked at $\\sim10^{-12}M_\\odot$ and representing all the cold dark matter in our Universe and find that the scalar induced gravitational waves generated by the curvature perturbation can be detected by the future space-borne gravitational-wave detectors such as Taiji, TianQin and LISA. |\n",
       "|<p style=\"color:green\"> **ERROR** </p>| <p style=\"color:green\">affiliation error: mpia.affiliation_verifications: 'Heidelberg' keyword not found.</p> |"
      ],
      "text/plain": [
       "<IPython.core.display.Markdown object>"
      ]
     },
     "metadata": {},
     "output_type": "display_data"
    },
    {
     "data": {
      "text/markdown": [
       "\n",
       "|||\n",
       "|---:|:---|\n",
       "| [![arXiv](https://img.shields.io/badge/arXiv-arXiv:2212.03734-b31b1b.svg)](https://arxiv.org/abs/arXiv:2212.03734) | **Non-local contribution from small scales in galaxy-galaxy lensing:  Comparison of mitigation schemes**  |\n",
       "|| J. Prat, et al. -- incl., <mark>I. Harrison</mark>, <mark>K. Herner</mark>, <mark>E. Krause</mark> |\n",
       "|*Appeared on*| *2022-12-08*|\n",
       "|*Comments*| *9+3 pages, 3+3 figures. To be submitted to MNRAS*|\n",
       "|**Abstract**| Recent cosmological analyses with large-scale structure and weak lensing measurements, usually referred to as 3$\\times$2pt, had to discard a lot of signal-to-noise from small scales due to our inability to precisely model non-linearities and baryonic effects. Galaxy-galaxy lensing, or the position-shear correlation between lens and source galaxies, is one of the three two-point correlation functions that are included in such analyses, usually estimated with the mean tangential shear. However, tangential shear measurements at a given angular scale $\\theta$ or physical scale $R$ carry information from all scales below that, forcing the scale cuts applied in real data to be significantly larger than the scale at which theoretical uncertainties become problematic. Recently there have been a few independent efforts that aim to mitigate the non-locality of the galaxy-galaxy lensing signal. Here we perform a comparison of the different methods, including the Y transformation described in Park et al. (2021), the point-mass marginalization methodology presented in MacCrann et al. (2020) and the Annular Differential Surface Density statistic described in Baldauf et al. (2010). We do the comparison at the cosmological constraints level in a noiseless simulated combined galaxy clustering and galaxy-galaxy lensing analysis. We find that all the estimators perform equivalently using a Rubin Observatory Legacy Survey of Space and Time (LSST) Year 1 like setup. This is because all the estimators project out the mode responsible for the non-local nature of the galaxy-galaxy lensing measurements, which we have identified as $1/R^2$. We finally apply all the estimators to DES Y3 data and confirm that they all give consistent results. |\n",
       "|<p style=\"color:green\"> **ERROR** </p>| <p style=\"color:green\">affiliation error: mpia.affiliation_verifications: 'Heidelberg' keyword not found.</p> |"
      ],
      "text/plain": [
       "<IPython.core.display.Markdown object>"
      ]
     },
     "metadata": {},
     "output_type": "display_data"
    },
    {
     "data": {
      "text/markdown": [
       "\n",
       "|||\n",
       "|---:|:---|\n",
       "| [![arXiv](https://img.shields.io/badge/arXiv-arXiv:2212.03740-b31b1b.svg)](https://arxiv.org/abs/arXiv:2212.03740) | **Effect of a magnetosphere compression on Jovian radio emissions: in situ  case study using Juno data**  |\n",
       "|| C. K. Louis, et al. -- incl., <mark>R. W. Ebert</mark> |\n",
       "|*Appeared on*| *2022-12-08*|\n",
       "|*Comments*| **|\n",
       "|**Abstract**| During its 53-day polar orbit around Jupiter, Juno often crosses the boundaries of the Jovian magnetosphere (namely the magnetopause and bow shock). From the boundary locations, the upstream solar wind dynamic pressure can be inferred, which in turn illustrates the state of compression or relaxation of the system. The aim of this study is to examine Jovian radio emissions during magnetospheric compressions, in order to determine the relationship between the solar wind and Jovian radio emissions. In this paper, we give a complete list of bow shock and magnetopause crossings (from June 2016 to August 2022), along with some extra informations (e.g. solar wind dynamic pressure and position of the standoff distances inferred from Joy et al. (2002)). We then select two compression events that occur in succession (inferred from magnetopause crossings) and we present a case study of the response of the Jovian radio emissions. We demonstrate that magnetospheric compressions lead to the activation of new radio sources. Newly activated broadband kilometric emissions are observed almost simultaneously to compression of the magnetosphere, with sources covering a large range of longitudes. Decametric emission sources are seen to be activated more than one rotation later only at specific longitudes and dusk local times. Finally, the activation of narrowband kilometric radiation is not observed during the compression phase, but when the magnetosphere is in its expansion phase. |\n",
       "|<p style=\"color:green\"> **ERROR** </p>| <p style=\"color:green\">affiliation error: mpia.affiliation_verifications: 'Heidelberg' keyword not found.</p> |"
      ],
      "text/plain": [
       "<IPython.core.display.Markdown object>"
      ]
     },
     "metadata": {},
     "output_type": "display_data"
    },
    {
     "data": {
      "text/markdown": [
       "\n",
       "|||\n",
       "|---:|:---|\n",
       "| [![arXiv](https://img.shields.io/badge/arXiv-arXiv:2212.03742-b31b1b.svg)](https://arxiv.org/abs/arXiv:2212.03742) | **Gas phase Elemental abundances in Molecular cloudS (GEMS) VII. Sulfur  elemental abundance**  |\n",
       "|| A. Fuente, et al. -- incl., <mark>C. Kramer</mark> |\n",
       "|*Appeared on*| *2022-12-08*|\n",
       "|*Comments*| *22 pages, 15 figures, Astronomy and Astrophysics, in press*|\n",
       "|**Abstract**| Gas phase Elemental abundances in molecular CloudS (GEMS) is an IRAM 30m large program aimed at determining the elemental abundances of carbon (C), oxygen (O), nitrogen (N), and sulfur (S) in a selected set of prototypical star-forming filaments. In particular, the elemental abundance of S remains uncertain by several orders of magnitude and its determination is one of the most challenging goals of this program. We have carried out an extensive chemical modeling of the fractional abundances of CO, HCO$^+$, HCN, HNC, CS, SO, H$_2$S, OCS, and HCS$^+$ to determine the sulfur depletion toward the 244 positions in the GEMS database. These positions sample visual extinctions from A$_V$ $\\sim$ 3 mag to $>$50 mag, molecular hydrogen densities ranging from a few 10$^3$~cm$^{-3}$ to 3$\\times$10$^6$~cm$^{-3}$, and T$_k$ $\\sim$ 10$-$35 K. Most of the positions in Taurus and Perseus are best fitted assuming early-time chemistry, t=0.1 Myr, $\\zeta_{H_2}$$\\sim$ (0.5$-$1)$\\times$10$^{-16}$ s$^{-1}$, and [S/H]$\\sim$1.5$\\times$10$^{-6}$. On the contrary, most of the positions in Orion are fitted with t=1~Myr and $\\zeta_{H_2}$$\\sim$ 10$^{-17}$ s$^{-1}$. Moreover, $\\sim$40% of the positions in Orion are best fitted assuming the undepleted sulfur abundance, [S/H]$\\sim$1.5$\\times$10$^{-5}$. Our results suggest that sulfur depletion depends on the environment. While the abundances of sulfur-bearing species are consistent with undepleted sulfur in Orion, a depletion factor of $\\sim$20 is required to explain those observed in Taurus and Perseus. We propose that differences in the grain charge distribution in the envelopes of the studied clouds might explain these variations. The shocks associated with past and ongoing star formation could also contribute to enhance [S/H] in Orion. |\n",
       "|<p style=\"color:green\"> **ERROR** </p>| <p style=\"color:green\">affiliation error: mpia.affiliation_verifications: 'Heidelberg' keyword not found.</p> |"
      ],
      "text/plain": [
       "<IPython.core.display.Markdown object>"
      ]
     },
     "metadata": {},
     "output_type": "display_data"
    },
    {
     "data": {
      "text/markdown": [
       "\n",
       "|||\n",
       "|---:|:---|\n",
       "| [![arXiv](https://img.shields.io/badge/arXiv-arXiv:2212.03746-b31b1b.svg)](https://arxiv.org/abs/arXiv:2212.03746) | **Models of Rotating Infall for the B335 Protostar**  |\n",
       "|| Neal J. Evans II, et al. -- incl., <mark>Joel D. Green</mark>, <mark>Bo Zhao</mark>, <mark>Jeong-Eun Lee</mark> |\n",
       "|*Appeared on*| *2022-12-08*|\n",
       "|*Comments*| *22 pages, 20 figures, in press ApJ*|\n",
       "|**Abstract**| Models of the protostellar source, B335, are developed using axisymmetric three-dimensional models to resolve conflicts found in one-dimensional models. The models are constrained by a large number of observations, including ALMA, Herschel, and Spitzer data. Observations of the protostellar source B335 with ALMA show red-shifted absorption against a central continuum source indicative of infall in the HCO$^+$ and HCN $J = 4\\rightarrow 3$ transitions. The data are combined with a new estimate of the distance to provide strong constraints to three-dimensional radiative transfer models including a rotating, infalling envelope, outflow cavities, and a very small disk. The models favor ages since the initiation of collapse between $3 \\times 10^4$ and $4 \\times 10^4$ yr for both the continuum and the lines, resolving a conflict found in one-dimensional models. The models under-predict the continuum emission seen by ALMA, suggesting an additional component such as a pseudo-disk. The best-fitting model is used to convert variations in the 4.5 $\\mu m$ flux in recent years into a model for a variation of a factor of 5-7 in luminosity over the last 8 years. |\n",
       "|<p style=\"color:green\"> **ERROR** </p>| <p style=\"color:green\">affiliation error: mpia.affiliation_verifications: 'Heidelberg' keyword not found.</p> |"
      ],
      "text/plain": [
       "<IPython.core.display.Markdown object>"
      ]
     },
     "metadata": {},
     "output_type": "display_data"
    },
    {
     "data": {
      "text/markdown": [
       "\n",
       "|||\n",
       "|---:|:---|\n",
       "| [![arXiv](https://img.shields.io/badge/arXiv-arXiv:2212.03608-b31b1b.svg)](https://arxiv.org/abs/arXiv:2212.03608) | **A recipe for orbital eccentricity damping in the type-I regime for low  viscosity 2D-discs**  |\n",
       "|| <mark>Gabriele Pichierri</mark>, <mark>Bertram Bitsch</mark>, Elena Lega |\n",
       "|*Appeared on*| *2022-12-08*|\n",
       "|*Comments*| *Submitted to A&A*|\n",
       "|**Abstract**| It is known that gap opening depends on the disc's viscosity; however, eccentricity damping formulas have only been derived at high viscosities, ignoring partial gap opening. We aim at obtaining a simple formula to model $e$-damping of the type-I regime in low viscosity discs, where even small planets may start opening partial. We perform high resolution 2D locally isothermal hydrodynamical simulations of planets with varying masses on fixed orbits in discs with varying aspect ratios and viscosities. We determine the torque and power felt by the planet to derive migration and eccentricity damping timescales. We first find a lower limit to the gap depths below which vortices appear; this happens roughly at the transition between type-I and type-II regimes. For the simulations that remain stable, we obtain a fit to the observed gap depth in the limit of vanishing eccentricities that is similar to the one currently used in the literature but is accurate down to $\\alpha=3.16\\times 10^{-5}$. We record the $e$-damping efficiency as a function of the observed gap depth and $e$: when the planet has opened a deep enough gap, a linear trend is observed independently of $e$; at shallower gaps this linear trend is preserved at low $e$, while it deviates to more efficient damping when $e$ is comparable to the disc's scale height. Both trends can be understood on theoretical grounds and are reproduced by a simple fitting formula. Our combined fits yield a simple recipe to implement type-I $e$-damping in $N$-body for partial gap opening planets that is consistent with high-resolution 2D hydro-simulations. The typical error of the fit is of the order of a few percent, and lower than the error of type-I torque formulas widely used in the literature. This will allow a more self-consistent treatment of planet-disc interactions of the type-I regime for population synthesis models at low viscosities. |\n",
       "|<p style=\"color:red\"> **ERROR** </p>| <p style=\"color:red\">latex error Could not find figure DustTrapPlotGlobal</p> |"
      ],
      "text/plain": [
       "<IPython.core.display.Markdown object>"
      ]
     },
     "metadata": {},
     "output_type": "display_data"
    },
    {
     "data": {
      "text/markdown": [
       "\n",
       "|||\n",
       "|---:|:---|\n",
       "| [![arXiv](https://img.shields.io/badge/arXiv-arXiv:2212.03728-b31b1b.svg)](https://arxiv.org/abs/arXiv:2212.03728) | **Adiabatic expansion for varying speed of light model**  |\n",
       "|| <mark>Seokcheon Lee</mark> |\n",
       "|*Appeared on*| *2022-12-08*|\n",
       "|*Comments*| *5 pages, 3 tables*|\n",
       "|**Abstract**| Recently, we proposed a varying speed of light (VSL) model to solve various late-time cosmological problems \\cite{Lee:2020zts}. This model has one free parameter, $b$, to characterize the time variation of the speed of light as a function of a scale factor, $c = c_0a^{b/4}$. Time variations of various physical constants and quantities have different powers of scale factor as a function of $b$ to satisfy all known local physics laws, including special relativity, thermodynamics, and electromagnetic force. This model is based on the Robertson-Walker metric and satisfies the isotropic and homogeneous 3-space required by the cosmological principle. Adiabaticity is a necessary condition to keep homogeneity and isotropy because a net energy flux would falsify the isotropy if there is a preferential energy flow direction. It also might forge homogeneity if the outward (inward) flux is isotropic. Thus, any VSL model should also preserve an adiabatic expansion condition to be a viable model. Also, it provides an additional condition for constraining physical constants. |\n",
       "|<p style=\"color:red\"> **ERROR** </p>| <p style=\"color:red\">latex error invalid header</p> |"
      ],
      "text/plain": [
       "<IPython.core.display.Markdown object>"
      ]
     },
     "metadata": {},
     "output_type": "display_data"
    },
    {
     "data": {
      "text/markdown": [
       "\n",
       "|||\n",
       "|---:|:---|\n",
       "| [![arXiv](https://img.shields.io/badge/arXiv-arXiv:2212.03247-b31b1b.svg)](https://arxiv.org/abs/arXiv:2212.03247) | **Ground-based Synoptic Studies of the Sun**  |\n",
       "|| Sanjay Gosain, et al. -- incl., <mark>C. J. Henney</mark>, <mark>H. Lin</mark>, <mark>J. Zhang</mark> |\n",
       "|*Appeared on*| *2022-12-08*|\n",
       "|*Comments*| *10 pages, 5 figures, White paper submitted to Heliodecadal 2024, Category: Basic Research, Solar Physics. arXiv admin note: text overlap with arXiv:1903.06944*|\n",
       "|**Abstract**| Ground-based synoptic solar observations provide critical contextual data used to model the large-scale state of the heliosphere. The next decade will see a combination of ground-based telescopes and space missions that will study our Sun's atmosphere microscopic processes with unprecedented detail. This white paper describes contextual observations from a ground-based network needed to fully exploit this new knowledge of the underlying physics that leads to the magnetic linkages between the heliosphere and the Sun. This combination of a better understanding of small-scale processes and the appropriate global context will enable a physics-based approach to Space Weather comparable to Terrestrial Weather forecasting. |\n",
       "|<p style=\"color:red\"> **ERROR** </p>| <p style=\"color:red\">latex error not a gzip file</p> |"
      ],
      "text/plain": [
       "<IPython.core.display.Markdown object>"
      ]
     },
     "metadata": {},
     "output_type": "display_data"
    },
    {
     "data": {
      "text/markdown": [
       "\n",
       "|||\n",
       "|---:|:---|\n",
       "| [![arXiv](https://img.shields.io/badge/arXiv-arXiv:2212.03837-b31b1b.svg)](https://arxiv.org/abs/arXiv:2212.03837) | **Surfing in the phase space of spin-orbit coupling in binary asteroid  systems**  |\n",
       "|| <mark>Mahdi Jafari Nadoushan</mark> |\n",
       "|*Appeared on*| *2022-12-08*|\n",
       "|*Comments*| *16 pages, 16 figures, accepted for publication in MNRAS*|\n",
       "|**Abstract**| For a satellite with an irregular shape, which is the common shape among asteroids, the well-known spin-orbit resonance problem could be changed to a spin-orbit coupling problem since a decoupled model does not accurately capture the dynamics of the system. In this paper, having provided a definition for close binary asteroid systems, we explore the structure of the phase space in a classical Hamiltonian model for spin-orbit coupling in a binary system. To map out the geography of resonances analytically and the cartography of resonances numerically, we reformulate a fourth-order gravitational potential function, in Poincare variables, via Stokes coefficients. For a binary system with a near-circular orbit, isolating the Hamiltonian near each resonance yields the pendulum model. Analysis of the results shows the geographical information, including the location and width of resonances, is modified due to the prominent role of the semi-major axis in the spin-orbit coupling model but not structurally altered. However, this resulted in modified Chirikov criterion to predict onset of large-scale chaos. For a binary system with arbitrary closed orbit, we thoroughly surf in the phase space via cartography of resonances created by fast Lyapunov indicator (FLI) maps. The numerical study confirms the analytical results, provides insight into the spin-orbit coupling, and shows some bifurcations in the secondary resonances which can occur due to material transfer. Also, we take the (65803) Didymos binary asteroid as a case to show analytical and numerical results. |\n",
       "|<p style=\"color:red\"> **ERROR** </p>| <p style=\"color:red\">latex error not a gzip file</p> |"
      ],
      "text/plain": [
       "<IPython.core.display.Markdown object>"
      ]
     },
     "metadata": {},
     "output_type": "display_data"
    }
   ],
   "source": [
    "import datetime\n",
    "today = str(datetime.date.today())\n",
    "logfile = f\"_build/html/logs/log-{today}.md\"\n",
    "\n",
    "\n",
    "with open(logfile, 'w') as logs:\n",
    "    # Success\n",
    "    logs.write(f'# Arxiv on Deck 2: Logs - {today}\\n\\n')\n",
    "    logs.write(\"\"\"* Arxiv had {0:,d} new papers\\n\"\"\".format(len(new_papers)))\n",
    "    logs.write(\"\"\"    * {0:,d} with possible author matches\\n\\n\"\"\".format(len(candidates)))\n",
    "    logs.write(\"## Sucessful papers\\n\\n\")\n",
    "    display(Markdown(\"## Successful papers\"))\n",
    "    success = [k[0] for k in documents]\n",
    "    for candid in candidates:\n",
    "        if candid['identifier'].split(':')[-1] in success:\n",
    "            display(candid)\n",
    "            logs.write(candid.generate_markdown_text() + '\\n\\n')\n",
    "\n",
    "    ## failed\n",
    "    logs.write(\"## Failed papers\\n\\n\")\n",
    "    display(Markdown(\"## Failed papers\"))\n",
    "    failed = sorted(failed, key=lambda x: x[1])\n",
    "    current_reason = \"\"\n",
    "    for paper, reason in failed:\n",
    "        if 'affiliation' in reason:\n",
    "            color = 'green'\n",
    "        else:\n",
    "            color = 'red'\n",
    "        data = Markdown(\n",
    "                paper.generate_markdown_text() + \n",
    "                f'\\n|<p style=\"color:{color:s}\"> **ERROR** </p>| <p style=\"color:{color:s}\">{reason:s}</p> |'\n",
    "               )\n",
    "        if reason != current_reason:\n",
    "            logs.write(f'### {reason:s} \\n\\n')\n",
    "            current_reason = reason\n",
    "        logs.write(data.data + '\\n\\n')\n",
    "        \n",
    "        # only display here the important errors (all in logs)\n",
    "        # if color in ('red',):\n",
    "        display(data)"
   ]
  },
  {
   "cell_type": "markdown",
   "id": "472d20ee",
   "metadata": {
    "papermill": {
     "duration": 0.009674,
     "end_time": "2022-12-08T04:12:02.204894",
     "exception": false,
     "start_time": "2022-12-08T04:12:02.195220",
     "status": "completed"
    },
    "tags": []
   },
   "source": [
    "## Export documents\n",
    "\n",
    "We now write the .md files and export relevant images"
   ]
  },
  {
   "cell_type": "code",
   "execution_count": 7,
   "id": "d426aed9",
   "metadata": {
    "execution": {
     "iopub.execute_input": "2022-12-08T04:12:02.225788Z",
     "iopub.status.busy": "2022-12-08T04:12:02.225099Z",
     "iopub.status.idle": "2022-12-08T04:12:02.232549Z",
     "shell.execute_reply": "2022-12-08T04:12:02.231919Z"
    },
    "papermill": {
     "duration": 0.019409,
     "end_time": "2022-12-08T04:12:02.233897",
     "exception": false,
     "start_time": "2022-12-08T04:12:02.214488",
     "status": "completed"
    },
    "tags": []
   },
   "outputs": [],
   "source": [
    "def export_markdown_summary(md: str, md_fname:str, directory: str):\n",
    "    \"\"\"Export MD document and associated relevant images\"\"\"\n",
    "    import os\n",
    "    import shutil\n",
    "    import re\n",
    "\n",
    "    if (os.path.exists(directory) and not os.path.isdir(directory)):\n",
    "        raise RuntimeError(f\"a non-directory file exists with name {directory:s}\")\n",
    "\n",
    "    if (not os.path.exists(directory)):\n",
    "        print(f\"creating directory {directory:s}\")\n",
    "        os.mkdir(directory)\n",
    "\n",
    "    fig_fnames = (re.compile(r'\\[Fig.*\\]\\((.*)\\)').findall(md) + \n",
    "                  re.compile(r'\\<img src=\"([^>\\s]*)\"[^>]*/>').findall(md))\n",
    "    for fname in fig_fnames:\n",
    "        if 'http' in fname:\n",
    "            # No need to copy online figures\n",
    "            continue\n",
    "        destdir = os.path.join(directory, os.path.dirname(fname))\n",
    "        destfname = os.path.join(destdir, os.path.basename(fname))\n",
    "        try:\n",
    "            os.makedirs(destdir)\n",
    "        except FileExistsError:\n",
    "            pass\n",
    "        shutil.copy(fname, destfname)\n",
    "    with open(os.path.join(directory, md_fname), 'w') as fout:\n",
    "        fout.write(md)\n",
    "    print(\"exported in \", os.path.join(directory, md_fname))\n",
    "    [print(\"    + \" + os.path.join(directory,fk)) for fk in fig_fnames]"
   ]
  },
  {
   "cell_type": "code",
   "execution_count": 8,
   "id": "014d04a4",
   "metadata": {
    "execution": {
     "iopub.execute_input": "2022-12-08T04:12:02.255017Z",
     "iopub.status.busy": "2022-12-08T04:12:02.254551Z",
     "iopub.status.idle": "2022-12-08T04:12:02.261363Z",
     "shell.execute_reply": "2022-12-08T04:12:02.260704Z"
    },
    "papermill": {
     "duration": 0.01911,
     "end_time": "2022-12-08T04:12:02.262824",
     "exception": false,
     "start_time": "2022-12-08T04:12:02.243714",
     "status": "completed"
    },
    "tags": []
   },
   "outputs": [
    {
     "name": "stdout",
     "output_type": "stream",
     "text": [
      "exported in  _build/html/2212.03514.md\n",
      "    + _build/html/tmp_2212.03514/./J22330cycle_e.png\n",
      "    + _build/html/tmp_2212.03514/./J10251rp_e.png\n",
      "    + _build/html/tmp_2212.03514/./J10289volker_e.png\n",
      "    + _build/html/tmp_2212.03514/./J06105cycle_e.png\n",
      "exported in  _build/html/2212.03563.md\n",
      "    + _build/html/tmp_2212.03563/./Plot_Different_Emission_Velocities.png\n",
      "    + _build/html/tmp_2212.03563/./PlotSmallScaleStructure_HR6026_HD145501_Field.png\n",
      "    + _build/html/tmp_2212.03563/./CRIRES_Spectra_Examples_PAGE01_Annotated.png\n"
     ]
    }
   ],
   "source": [
    "for paper_id, md in documents:\n",
    "    export_markdown_summary(md, f\"{paper_id:s}.md\", '_build/html/')"
   ]
  },
  {
   "cell_type": "markdown",
   "id": "f087a0a7",
   "metadata": {
    "papermill": {
     "duration": 0.009695,
     "end_time": "2022-12-08T04:12:02.282355",
     "exception": false,
     "start_time": "2022-12-08T04:12:02.272660",
     "status": "completed"
    },
    "tags": []
   },
   "source": [
    "## Display the papers\n",
    "\n",
    "Not necessary but allows for a quick check."
   ]
  },
  {
   "cell_type": "code",
   "execution_count": 9,
   "id": "fd25f625",
   "metadata": {
    "execution": {
     "iopub.execute_input": "2022-12-08T04:12:02.303146Z",
     "iopub.status.busy": "2022-12-08T04:12:02.302666Z",
     "iopub.status.idle": "2022-12-08T04:12:02.308811Z",
     "shell.execute_reply": "2022-12-08T04:12:02.308186Z"
    },
    "papermill": {
     "duration": 0.018212,
     "end_time": "2022-12-08T04:12:02.310216",
     "exception": false,
     "start_time": "2022-12-08T04:12:02.292004",
     "status": "completed"
    },
    "scrolled": false,
    "tags": []
   },
   "outputs": [
    {
     "data": {
      "text/markdown": [
       "<div class=\"macros\" style=\"visibility:hidden;\">\n",
       "$\\newcommand{\\ensuremath}{}$\n",
       "$\\newcommand{\\xspace}{}$\n",
       "$\\newcommand{\\object}[1]{\\texttt{#1}}$\n",
       "$\\newcommand{\\farcs}{{.}''}$\n",
       "$\\newcommand{\\farcm}{{.}'}$\n",
       "$\\newcommand{\\arcsec}{''}$\n",
       "$\\newcommand{\\arcmin}{'}$\n",
       "$\\newcommand{\\ion}[2]{#1#2}$\n",
       "$\\newcommand{\\textsc}[1]{\\textrm{#1}}$\n",
       "$\\newcommand{\\hl}[1]{\\textrm{#1}}$\n",
       "$\\newcommand{\\tbd}[1]{{[TBD: {\\bfseries #1}]}}$\n",
       "$\\newcommand{\\comm}[2]{\\textit{#1} \\textbf{#2}}$\n",
       "$\\newcommand{\\vsini}{v \\sin{i}}$\n",
       "$\\newcommand{\\hei}[0]{\\ion{He}{i}}$\n",
       "$\\newcommand{\\heir}[0]{\\hei IR}$\n",
       "$\\newcommand{\\itio}[0]{I_{\\mathrm{TiO}}}$\n",
       "$\\newcommand{\\kirb}[0]{\\ion{K}{i} IR_{\\rm blue}}$\n",
       "$\\newcommand{\\kirr}[0]{\\ion{K}{i} IR_{\\rm red}}$\n",
       "$\\newcommand{\\kopt}[0]{\\ion{K}{i}  VIS}$\n",
       "$\\newcommand{\\koptb}[0]{\\ion{K}{i} VIS_{\\rm blue}}$\n",
       "$\\newcommand{\\koptr}[0]{\\ion{K}{i} VIS_{\\rm red}}$\n",
       "$\\newcommand{\\cairta}[0]{\\ion{Ca}{ii} IRT_{\\rm 1}}$\n",
       "$\\newcommand{\\cairtb}[0]{\\ion{Ca}{ii} IRT_{\\rm 2}}$\n",
       "$\\newcommand{\\cairt}[0]{\\ion{Ca}{ii} IRT}$\n",
       "$\\newcommand{\\cahk}[0]{\\ion{Ca}{ii}~H \\& K }$\n",
       "$\\newcommand{\\rpr}[0]{R^{\\prime}_{\\rm HK} }$</div>\n",
       "\n",
       "<div class=\"macros\" style=\"visibility:hidden;\">\n",
       "$\\newcommand{$\\ensuremath$}{}$\n",
       "$\\newcommand{$\\xspace$}{}$\n",
       "$\\newcommand{$\\object$}[1]{\\texttt{#1}}$\n",
       "$\\newcommand{$\\farcs$}{{.}''}$\n",
       "$\\newcommand{$\\farcm$}{{.}'}$\n",
       "$\\newcommand{$\\arcsec$}{''}$\n",
       "$\\newcommand{$\\arcmin$}{'}$\n",
       "$\\newcommand{$\\ion$}[2]{#1#2}$\n",
       "$\\newcommand{$\\textsc$}[1]{\\textrm{#1}}$\n",
       "$\\newcommand{$\\hl$}[1]{\\textrm{#1}}$\n",
       "$\\newcommand{$\\tbd$}[1]{{[TBD: {\\bfseries #1}]}}$\n",
       "$\\newcommand{$\\comm$}[2]{\\textit{#1} \\textbf{#2}}$\n",
       "$\\newcommand{$\\vsini$}{v \\sin{i}}$\n",
       "$\\newcommand{$\\hei$}[0]{$\\ion${He}{i}}$\n",
       "$\\newcommand{$\\hei$r}[0]{$\\hei$ IR}$\n",
       "$\\newcommand{$\\itio$}[0]{I_{\\mathrm{TiO}}}$\n",
       "$\\newcommand{$\\kirb$}[0]{$\\ion${K}{i} IR_{\\rm blue}}$\n",
       "$\\newcommand{$\\kirr$}[0]{$\\ion${K}{i} IR_{\\rm red}}$\n",
       "$\\newcommand{$\\kopt$}[0]{$\\ion${K}{i}  VIS}$\n",
       "$\\newcommand{$\\kopt$b}[0]{$\\ion${K}{i} VIS_{\\rm blue}}$\n",
       "$\\newcommand{$\\kopt$r}[0]{$\\ion${K}{i} VIS_{\\rm red}}$\n",
       "$\\newcommand{$\\cairta$}[0]{$\\ion${Ca}{ii} IRT_{\\rm 1}}$\n",
       "$\\newcommand{$\\cairtb$}[0]{$\\ion${Ca}{ii} IRT_{\\rm 2}}$\n",
       "$\\newcommand{$\\cairt$}[0]{$\\ion${Ca}{ii} IRT}$\n",
       "$\\newcommand{$\\cahk$}[0]{$\\ion${Ca}{ii}~H \\& K }$\n",
       "$\\newcommand{$\\rpr$}[0]{R^{\\prime}_{\\rm HK} }$</div>\n",
       "\n",
       "\n",
       "\n",
       "<div id=\"title\">\n",
       "\n",
       "# The CARMENES search for exoplanets around M dwarfs: Variability on long timescales as seen in chromospheric indicators\n",
       "\n",
       "</div>\n",
       "<div id=\"comments\">\n",
       "\n",
       "[![arXiv](https://img.shields.io/badge/arXiv-2212.03514-b31b1b.svg)](https://arxiv.org/abs/2212.03514)<mark>Appeared on: 2022-12-08</mark> - _Accepted to A&A, 16 pages, 12 figures_\n",
       "\n",
       "</div>\n",
       "<div id=\"authors\">\n",
       "\n",
       "B. Fuhrmeister, et al. -- incl., <mark><mark>M. Kürster</mark></mark>\n",
       "\n",
       "</div>\n",
       "<div id=\"abstract\">\n",
       "\n",
       "**Abstract:** It is clearly established that the Sun has an  11-year cycle that is caused by itsinternal magnetic field.  This cycle is also observed in a sample of M dwarfs. In the framework of exoplanet detection  or atmospheric characterisation of exoplanets, the activity status of the  host star plays a crucial role, and inactive states are preferable for such studies. This means that  it is important to know the activity cycles of these stars. We study systematic long-term variability  in a sample of 211 M dwarfs observed with CARMENES, the high-resolution optical and near-infrared  spectrograph at Calar Alto Observatory. In an automatic search using time series of different activity indicators, we  identified 26 stars with linear or quadratic trends or with potentially cyclic behaviour.   Additionally, we performed an independent search in archival$\\rpr$data collected from different    instruments whose time    baselines were usually much longer. These data are available for a subset of 186 of our sample stars. Our search  revealed 22 cycle candidates in the data.  We found that  the percentage of stars showing long-term variations drops dramatically to the latest  M dwarfs.  Moreover, we found that the pseudo-equivalent width (pEW) of the  H$\\alpha$and$\\ion${Ca}{ii}infrared triplet   more often triggers automatic detections of long-term variations  than the TiO index,  differential line width,  chromatic index, or radial velocity. This is in line with  our comparison of the median relative amplitudes of the different indicators. For stars that trigger our automatic detection,  this leads to the highest amplitude variation in$\\rpr$, followed by pEW(H$\\alpha$), pEW($\\cairt$), and the TiO index.\n",
       "\n",
       "</div>\n",
       "\n",
       "<div id=\"div_fig1\">\n",
       "\n",
       "<img src=\"tmp_2212.03514/./J22330cycle_e.png\" alt=\"Fig5\" width=\"100%\"/>\n",
       "\n",
       "**Figure 5. -** \\label{fig:J22330} GLS and time series of J22330+093 / BD+08 4887. We\n",
       "         show the GLS (\\emph{left, top}) with pEW(H$\\alpha$) in black,\n",
       "         pEW($\\cairta$) in blue, pEW($\\cairtb$) in green, the TiO index in magenta,\n",
       "         RV in yellow, dLw in grey, CRX in orange, and the window function in red.\n",
       "         The dashed blue line indicates FAP=0.01 for the pEW($\\cairta$) data.\n",
       "         Additionally, we show the time series for pEW(H$\\alpha$) (\\emph{right, top}),\n",
       "         for pEW($\\cairta$) (\\emph{left, bottom}), and the TiO index (\\emph{right, bottom}).\n",
       "         The dashed black lines indicate the best sine fit for each indicator.\n",
       " (*fig:J22330*)\n",
       "\n",
       "</div>\n",
       "<div id=\"div_fig2\">\n",
       "\n",
       "<img src=\"tmp_2212.03514/./J10251rp_e.png\" alt=\"Fig11.1\" width=\"50%\"/><img src=\"tmp_2212.03514/./J10289volker_e.png\" alt=\"Fig11.2\" width=\"50%\"/>\n",
       "\n",
       "**Figure 11. -** \\label{fig:rpalone1} GLS and time series of J10251$-$102 / BD$-$09 3070 (M1.0 V, \\emph{left}) and\n",
       "  J10289+008 / BD+01 2447 (M2.0 V, \\emph{right}). In the GLS (\\emph{top}), we show the power of the $\\rpr$   data in cyan, the dashed cyan line marks the 0.0005 FAP level, and the red line\n",
       "  is the power of the window function. In the time series (\\emph{bottom}), we show the\n",
       "  $\\rpr$ values as cyan dots and the best-fit sine function as the dashed black line.\n",
       " (*fig:rpalone1*)\n",
       "\n",
       "</div>\n",
       "<div id=\"div_fig3\">\n",
       "\n",
       "<img src=\"tmp_2212.03514/./J06105cycle_e.png\" alt=\"Fig8\" width=\"100%\"/>\n",
       "\n",
       "**Figure 8. -** \\label{fig:J06105} Same as in Fig. \\ref{fig:J22330}, but for J06105$-$218 / HD 42581 A.\n",
       "         (*fig:J06105*)\n",
       "\n",
       "</div>"
      ],
      "text/plain": [
       "<IPython.core.display.Markdown object>"
      ]
     },
     "metadata": {},
     "output_type": "display_data"
    },
    {
     "data": {
      "text/markdown": [
       "<div class=\"macros\" style=\"visibility:hidden;\">\n",
       "$\\newcommand{\\ensuremath}{}$\n",
       "$\\newcommand{\\xspace}{}$\n",
       "$\\newcommand{\\object}[1]{\\texttt{#1}}$\n",
       "$\\newcommand{\\farcs}{{.}''}$\n",
       "$\\newcommand{\\farcm}{{.}'}$\n",
       "$\\newcommand{\\arcsec}{''}$\n",
       "$\\newcommand{\\arcmin}{'}$\n",
       "$\\newcommand{\\ion}[2]{#1#2}$\n",
       "$\\newcommand{\\textsc}[1]{\\textrm{#1}}$\n",
       "$\\newcommand{\\hl}[1]{\\textrm{#1}}$\n",
       "$\\newcommand$\n",
       "$\\newcommand{\\commentAna}[1]{\\textcolor{olivegreen}{#1}}$\n",
       "$\\newcommand{\\commentRosine}[1]{\\textcolor{orange}{#1}}$\n",
       "$\\newcommand$\n",
       "$\\newcommand{\\commentNick}[1]{\\textcolor{blue}{#1}}$\n",
       "$\\newcommand{\\csixty}{C_{60}\\xspace}$\n",
       "$\\newcommand{\\cseventy}{C_{70}\\xspace}$\n",
       "$\\newcommand{\\csixtyplus}{C_{60}^{+}\\xspace}$\n",
       "$\\newcommand{\\andres}[1]{\\textcolor{purple}{{Andres: #1}}}$\n",
       "$\\newcommand{\\anna}[1]{\\textcolor{orange}{{Anna: #1}}}$\n",
       "$\\newcommand{\\meriem}[1]{\\textcolor{green}{{Meriem: #1}}}$\n",
       "$\\newcommand{\\keith}[1]{\\textcolor{red}{{Keith: #1}}}$\n",
       "$\\newcommand{\\henri}[1]{\\textcolor{brown}{{HB: #1}}}$\n",
       "$\\newcommand{\\thefigure}{A\\@arabic\\c@figure}$</div>\n",
       "\n",
       "<div class=\"macros\" style=\"visibility:hidden;\">\n",
       "$\\newcommand{$\\ensuremath$}{}$\n",
       "$\\newcommand{$\\xspace$}{}$\n",
       "$\\newcommand{$\\object$}[1]{\\texttt{#1}}$\n",
       "$\\newcommand{$\\farcs$}{{.}''}$\n",
       "$\\newcommand{$\\farcm$}{{.}'}$\n",
       "$\\newcommand{$\\arcsec$}{''}$\n",
       "$\\newcommand{$\\arcmin$}{'}$\n",
       "$\\newcommand{$\\ion$}[2]{#1#2}$\n",
       "$\\newcommand{$\\textsc$}[1]{\\textrm{#1}}$\n",
       "$\\newcommand{$\\hl$}[1]{\\textrm{#1}}$\n",
       "$\\newcommand$\n",
       "$\\newcommand{$\\commentAna$}[1]{\\textcolor{olivegreen}{#1}}$\n",
       "$\\newcommand{$\\commentRosine$}[1]{\\textcolor{orange}{#1}}$\n",
       "$\\newcommand$\n",
       "$\\newcommand{$\\commentNick$}[1]{\\textcolor{blue}{#1}}$\n",
       "$\\newcommand{$\\csixty$}{C_{60}$\\xspace$}$\n",
       "$\\newcommand{$\\cseventy$}{C_{70}$\\xspace$}$\n",
       "$\\newcommand{$\\csixty$plus}{C_{60}^{+}$\\xspace$}$\n",
       "$\\newcommand{$\\andres$}[1]{\\textcolor{purple}{{Andres: #1}}}$\n",
       "$\\newcommand{$\\anna$}[1]{\\textcolor{orange}{{Anna: #1}}}$\n",
       "$\\newcommand{$\\meriem$}[1]{\\textcolor{green}{{Meriem: #1}}}$\n",
       "$\\newcommand{$\\keith$}[1]{\\textcolor{red}{{Keith: #1}}}$\n",
       "$\\newcommand{$\\henri$}[1]{\\textcolor{brown}{{HB: #1}}}$\n",
       "$\\newcommand{$\\thefigure$}{A\\@arabic\\c@figure}$</div>\n",
       "\n",
       "\n",
       "\n",
       "<div id=\"title\">\n",
       "\n",
       "# A high resolution study of near-IR diffuse interstellar bands, search for small scale structure, time variability and stellar features\n",
       "\n",
       "</div>\n",
       "<div id=\"comments\">\n",
       "\n",
       "[![arXiv](https://img.shields.io/badge/arXiv-2212.03563-b31b1b.svg)](https://arxiv.org/abs/2212.03563)<mark>Appeared on: 2022-12-08</mark> - _Accepted for publicaion in the main journal of Astronomy and Astrophysics on 25th November 2022_\n",
       "\n",
       "</div>\n",
       "<div id=\"authors\">\n",
       "\n",
       "J. V. Smoker, et al. -- incl., <mark><mark>A. Müller</mark></mark>, <mark><mark>K. T. Smith</mark></mark>\n",
       "\n",
       "</div>\n",
       "<div id=\"abstract\">\n",
       "\n",
       "**Abstract:** The diffuse interstellar bands (DIBs) are a set of hundreds of unidentified absorption features that appear near ubiquitously throughout the interstellar medium. Most DIBs appear at optical wavelengths, but some are in the near-infrared.We aim to characterise near-infrared DIBs at high spectral resolving power towards multiple targets.We observed 76 early-type stars at a resolving power of 50,000 (velocity resolution$\\sim$6 kms$^{-1}$) and signal to noise ratios of several hundreds using the CRyogenic high-resolution InfraRed Echelle Spectrograph (CRIRES). These data allow us to investigate the DIBs around 1318.1, 1527.4, 1561.1, 1565.1, 1567.0, 1574.4 and/or 1624.2 nm. We detect a total of six DIB features and 17 likely stellar features assisted by comparisons with a model spectrum computed with{\\sc cmfgen}.Additionally, we measured equivalent widths of the DIBs at 1318.1 and 1527.4 nm using observations with X-shooter towards ten very highly reddened (3.2$< E(B-V) < $6.5) Cepheid variable stars, towards four stars observed at low values of precipitable water vapour and using other archive data.We measure correlations (correlation coefficient$r\\sim$0.73--0.96, depending on the sub-sample used) between DIB equivalent width and reddening for the DIBs at1318.1, 1561.1, 1565.1 and 1567.0 nm. Comparing the near-infrared DIBs with 50 of the strongest optical DIBs, we find correlations$r$> 0.8 between the 1318, 1527, 1561, 1565 or 1567 nmand optical DIBs 5705, 5780, 6203, 6283 and 6269\\AA. The 5797\\AADIB is less well correlated with the near-infrared DIBs. The DIB at 9632.1\\AA, (likely C$_{60}^+$), is not well correlated with the 1318.1 nm DIB. Partial correlation coefficients using$E(B-V)$as the covariate were also determined.For stars earlier than B2, the 1318.1 nm DIB is affected by an emission line on its blue wing that is likely stellar in nature, although we cannot rule out an interstellar or circumstellar origin for this line caused by for example a DIB in emission. The 1318.1 nm DIB also has an extended red wing. The line is reasonably well fitted by two gaussian components although neither the component ratios nor separation between them are obviously correlated with indicators of such as$\\lambda\\lambda$5780/5797 and reddening. EW(1318 nm) correlates with H{\\sc i}with EW(1318 nm)/$E(B-V)$decreasing with f(H$_{2}$).Five pairs of stars within one arcmin of each other show very similar 1318.1 nm DIB profiles. Possible variation in the 1318.1 nm feature is seen between HD 145501 and HD 145502 (separated by 41 arcsec, equivalent to 7200 au) and HD 168607 and HD 168625 (separated by 67 arcsec, equivalent to 0.52 pc on the plane of the sky).Seventeen sightlines have repeat CRIRES observations separated by 6--14 months and two sightlines have repeat X-shooter observations separated by 9.9 years. No time-variability is detected in the 1318.1 nm DIB in the CRIRES data or the 5780.5, 5797.1 1318.1 and 1527.4 nm DIBs. Tentative time variation is observed in the \"C$_{60}^+$\" DIBs at 9577 and 9632\\AAtowards HD 183143 although very close to the noise level and with confirmation required.The NIRDIBs observed occur more in more UV-irradiated regions than the 5797\\AADIB allowing the study of heavily reddened sightlines. Future searches for time variability in DIBs require higher quality data and/or larger intervals between epochs.\n",
       "\n",
       "</div>\n",
       "\n",
       "<div id=\"div_fig1\">\n",
       "\n",
       "<img src=\"tmp_2212.03563/./Plot_Different_Emission_Velocities.png\" alt=\"Fig2\" width=\"100%\"/>\n",
       "\n",
       "**Figure 2. -** (a) Difference in absorption and emission line peak velocity around 1318 nm plotted against the stellar velocity. (b) Ditto for stellar velocity minus emission line velocity. (c) Emission line velocity vs stellar velocity, assuming the emission line has a rest wavelength of 1317.37 nm. Results with the same stellar velocities are from repeat observations of a given star. Purple points are from Gaia DR2 with Red points from Gaia DR3 for HD 160065 (*Emission_minus_Stellar_Velocity*)\n",
       "\n",
       "</div>\n",
       "<div id=\"div_fig2\">\n",
       "\n",
       "<img src=\"tmp_2212.03563/./PlotSmallScaleStructure_HR6026_HD145501_Field.png\" alt=\"Fig8\" width=\"100%\"/>\n",
       "\n",
       "**Figure 8. -** Spectra of the HD 145501 / HD 144502 field in the Ca {\\sc ii} and K {\\sc i} lines and 5780, 5797 \\AA   and 1318.1 nm DIBs. We recall HD 145502 is a close binary. (*f_sss_HD_144501_HD_144502*)\n",
       "\n",
       "</div>\n",
       "<div id=\"div_fig3\">\n",
       "\n",
       "<img src=\"tmp_2212.03563/./CRIRES_Spectra_Examples_PAGE01_Annotated.png\" alt=\"Fig13\" width=\"100%\"/>\n",
       "\n",
       "**Figure 13. -** Normalised CRIRES spectra showing examples of all stellar and interstellar features observed. The ordinate is the normalised flux plus an offset with the abscissa being the wavelength in nm. Stellar lines: Red stars: 1315.4 nm, Green: 1316.8 nm, Cyan: 1316.5 nm (EmL), Purple: 1317.3 nm (EmL, uncertain), Light Green: 1529.9 nm, Yellow: 1566.1 nm (EmL), Gold: 1562.4, 1563.0, 1563.5 nm), Navy: 1633.8; Black: 1610.9 nm; Brown: 1555.7, 1616.7, 1625.3, 1626.1, 1634.2 nm (EmL). DIBs: Blue squares: 1318.1 nm, Green: 1527.1 nm, Cyan: 1561.1 nm, Purple: 1565.1 nm, Pink: 1567.0 nm. Not shown: broad and weak feature around 1564.4 nm. (*f_CRIRES_exaample_spectra_1*)\n",
       "\n",
       "</div>"
      ],
      "text/plain": [
       "<IPython.core.display.Markdown object>"
      ]
     },
     "metadata": {},
     "output_type": "display_data"
    }
   ],
   "source": [
    "[display(Markdown(k[1])) for k in documents];"
   ]
  },
  {
   "cell_type": "markdown",
   "id": "873873a4",
   "metadata": {
    "papermill": {
     "duration": 0.010077,
     "end_time": "2022-12-08T04:12:02.330585",
     "exception": false,
     "start_time": "2022-12-08T04:12:02.320508",
     "status": "completed"
    },
    "tags": []
   },
   "source": [
    "# Create HTML index"
   ]
  },
  {
   "cell_type": "code",
   "execution_count": 10,
   "id": "cf665672",
   "metadata": {
    "execution": {
     "iopub.execute_input": "2022-12-08T04:12:02.377622Z",
     "iopub.status.busy": "2022-12-08T04:12:02.377102Z",
     "iopub.status.idle": "2022-12-08T04:12:02.387078Z",
     "shell.execute_reply": "2022-12-08T04:12:02.386455Z"
    },
    "papermill": {
     "duration": 0.047811,
     "end_time": "2022-12-08T04:12:02.388568",
     "exception": false,
     "start_time": "2022-12-08T04:12:02.340757",
     "status": "completed"
    },
    "tags": []
   },
   "outputs": [
    {
     "name": "stdout",
     "output_type": "stream",
     "text": [
      "129  publications in the last 7 days.\n",
      "\t _build/html/2212.03563.md\n",
      "\t _build/html/2212.03514.md\n",
      "\t _build/html/2212.02667.md\n",
      "\t _build/html/2212.02627.md\n",
      "\t _build/html/2212.02235.md\n",
      "\t _build/html/2212.01707.md\n",
      "\t _build/html/2212.01526.md\n",
      "\t _build/html/2212.01397.md\n",
      "\t _build/html/2212.01291.md\n",
      "\t _build/html/2212.01281.md\n",
      "\t _build/html/2212.00812.md\n",
      "\t _build/html/2212.00811.md\n",
      "\t _build/html/2212.00806.md\n",
      "\t _build/html/2212.00047.md\n",
      "\t _build/html/2212.00032.md\n",
      "\t _build/html/2211.16996.md\n",
      "\t _build/html/2211.16510.md\n",
      "\t _build/html/2211.16123.md\n",
      "\t _build/html/2211.15816.md\n",
      "\t _build/html/2211.15698.md\n",
      "\t _build/html/2211.15576.md\n",
      "\t _build/html/2211.15434.md\n",
      "\t _build/html/2211.15288.md\n",
      "\t _build/html/2211.15224.md\n",
      "\t _build/html/2211.14543.md\n",
      "\t _build/html/2211.14330.md\n",
      "\t _build/html/2211.14322.md\n",
      "\t _build/html/2211.14132.md\n",
      "\t _build/html/2211.13811.md\n",
      "\t _build/html/2211.13426.md\n",
      "\t _build/html/2211.13318.md\n",
      "\t _build/html/2211.13146.md\n",
      "\t _build/html/2211.12613.md\n",
      "\t _build/html/2211.11767.md\n",
      "\t _build/html/2211.09840.md\n",
      "\t _build/html/2211.09217.md\n",
      "\t _build/html/2211.08493.md\n",
      "\t _build/html/2211.08487.md\n",
      "\t _build/html/2211.08294.md\n",
      "\t _build/html/2211.07667.md\n",
      "\t _build/html/2211.07659.md\n",
      "\t _build/html/2211.06454.md\n",
      "\t _build/html/2211.06205.md\n",
      "\t _build/html/2211.06194.md\n",
      "\t _build/html/2211.05022.md\n",
      "\t _build/html/2211.04048.md\n",
      "\t _build/html/2211.03641.md\n",
      "\t _build/html/2211.02502.md\n",
      "\t _build/html/2211.01474.md\n",
      "\t _build/html/2211.00667.md\n",
      "\t _build/html/2211.00657.md\n",
      "\t _build/html/2211.00087.md\n",
      "\t _build/html/2211.00036.md\n",
      "\t _build/html/2211.00020.md\n",
      "\t _build/html/2211.00010.md\n",
      "\t _build/html/2210.17434.md\n",
      "\t _build/html/2210.12412.md\n",
      "\t _build/html/2210.11926.md\n",
      "\t _build/html/2210.11551.md\n",
      "\t _build/html/2210.11103.md\n",
      "\t _build/html/2210.10707.md\n",
      "\t _build/html/2210.09930.md\n",
      "\t _build/html/2210.08996.md\n",
      "\t _build/html/2210.08517.md\n",
      "\t _build/html/2210.08510.md\n",
      "\t _build/html/2210.08078.md\n",
      "\t _build/html/2210.06504.md\n",
      "\t _build/html/2210.05695.md\n",
      "\t _build/html/2210.05595.md\n",
      "\t _build/html/2210.05505.md\n",
      "\t _build/html/2210.04721.md\n",
      "\t _build/html/2210.03615.md\n",
      "\t _build/html/2210.01811.md\n",
      "\t _build/html/2210.01809.md\n",
      "\t _build/html/2210.01556.md\n",
      "\t _build/html/2210.00863.md\n",
      "\t _build/html/2210.00560.md\n",
      "\t _build/html/2209.15403.md\n",
      "\t _build/html/2209.15110.md\n",
      "\t _build/html/2209.14410.md\n",
      "\t _build/html/2209.14396.md\n",
      "\t _build/html/2209.13717.md\n",
      "\t _build/html/2209.13336.md\n",
      "\t _build/html/2209.12906.md\n",
      "\t _build/html/2209.11781.md\n",
      "\t _build/html/2209.11602.md\n",
      "\t _build/html/2209.11248.md\n",
      "\t _build/html/2209.11096.md\n",
      "\t _build/html/2209.10618.md\n",
      "\t _build/html/2209.09914.md\n",
      "\t _build/html/2209.09823.md\n",
      "\t _build/html/2209.08242.md\n",
      "\t _build/html/2209.08120.md\n",
      "\t _build/html/2209.08106.md\n",
      "\t _build/html/2209.07962.md\n",
      "\t _build/html/2209.07931.md\n",
      "\t _build/html/2209.06833.md\n",
      "\t _build/html/2209.05814.md\n",
      "\t _build/html/2209.05593.md\n",
      "\t _build/html/2209.04304.md\n",
      "\t _build/html/2209.03367.md\n",
      "\t _build/html/2209.02872.md\n",
      "\t _build/html/2209.02725.md\n",
      "\t _build/html/2209.02722.md\n",
      "\t _build/html/2209.02092.md\n",
      "\t _build/html/2209.01125.md\n",
      "\t _build/html/2209.00828.md\n",
      "\t _build/html/2209.00363.md\n",
      "\t _build/html/2208.14927.md\n",
      "\t _build/html/2208.09335.md\n",
      "\t _build/html/2208.08872.md\n",
      "\t _build/html/2204.06393.md\n",
      "\t _build/html/2204.03335.md\n",
      "\t _build/html/2204.03253.md\n",
      "\t _build/html/2204.02998.md\n",
      "\t _build/html/2204.02109.md\n",
      "\t _build/html/2204.02017.md\n",
      "\t _build/html/2204.01824.md\n",
      "\t _build/html/2204.01758.md\n",
      "\t _build/html/2204.01245.md\n",
      "\t _build/html/2204.00793.md\n",
      "\t _build/html/2204.00342.md\n",
      "\t _build/html/2203.16959.md\n",
      "\t _build/html/2203.16856.md\n",
      "\t _build/html/2203.16735.md\n",
      "\t _build/html/2203.16734.md\n",
      "\t _build/html/2203.16504.md\n",
      "\t _build/html/2203.15822.md\n",
      "\t _build/html/2203.15811.md\n"
     ]
    }
   ],
   "source": [
    "from datetime import datetime, timedelta, timezone\n",
    "from glob import glob\n",
    "\n",
    "files = glob('_build/html/*.md')\n",
    "days = 7\n",
    "now = datetime.today()\n",
    "res = []\n",
    "for fk in files:\n",
    "    stat_result = os.stat(fk).st_ctime\n",
    "    modified = datetime.fromtimestamp(stat_result, tz=timezone.utc).replace(tzinfo=None)\n",
    "    delta = now.today() - modified\n",
    "    if delta <= timedelta(days=days):\n",
    "        res.append((delta.seconds, fk))\n",
    "res = [k[1] for k in reversed(sorted(res, key=lambda x:x[1]))]\n",
    "npub = len(res)\n",
    "print(len(res), f\" publications in the last {days:d} days.\")\n",
    "[ print('\\t', k) for k in res ];"
   ]
  },
  {
   "cell_type": "code",
   "execution_count": 11,
   "id": "52ca0208",
   "metadata": {
    "execution": {
     "iopub.execute_input": "2022-12-08T04:12:02.411088Z",
     "iopub.status.busy": "2022-12-08T04:12:02.410524Z",
     "iopub.status.idle": "2022-12-08T04:12:02.416662Z",
     "shell.execute_reply": "2022-12-08T04:12:02.416173Z"
    },
    "papermill": {
     "duration": 0.018911,
     "end_time": "2022-12-08T04:12:02.418025",
     "exception": false,
     "start_time": "2022-12-08T04:12:02.399114",
     "status": "completed"
    },
    "scrolled": false,
    "tags": []
   },
   "outputs": [],
   "source": [
    "def create_carousel(npub=4):\n",
    "    \"\"\" Generate the HTML code for a carousel with `npub` slides \"\"\"\n",
    "    carousel = [\"\"\"<section class=\"carousel\" aria-label=\"Gallery\">\"\"\",\n",
    "                \"\"\"  <ol class=\"carousel__viewport\">\"\"\",\n",
    "    ]\n",
    "    for k in range(1, npub + 1):\n",
    "        prev_ = k - 1\n",
    "        next_ = k + 1\n",
    "        if prev_ <= 0:\n",
    "            prev_ = npub\n",
    "        if next_ > npub:\n",
    "            next_ = 1\n",
    "        text  = f\"\"\"    <li id=\"carousel__slide{k}\" tabindex=\"0\" class=\"carousel__slide\">\\n\"\"\"\n",
    "        text += f\"\"\"       <div class=\"carousel__snapper\">\\n\"\"\"\n",
    "        text += f\"\"\"         <a href=\"#carousel__slide{prev_}\" class=\"carousel__prev\">Go to previous slide</a>\\n\"\"\"\n",
    "        text += f\"\"\"         <a href=\"#carousel__slide{next_}\" class=\"carousel__next\">Go to next slide</a>\\n\"\"\"\n",
    "        text += f\"\"\"         <div id=\"slide{k}_content\" class=\"md_view\" >Content {k}</div>\\n\"\"\"\n",
    "        text += f\"\"\"       </div>\\n\"\"\"\n",
    "        text += f\"\"\"    </li>\"\"\"\n",
    "        carousel.append(text)\n",
    "\n",
    "    carousel.extend([\n",
    "        \"\"\"  </ol>\"\"\",\n",
    "        \"\"\"  <aside class=\"carousel__navigation\">\"\"\",\n",
    "        \"\"\"    <ol class=\"carousel__navigation-list\">\"\"\"])\n",
    "\n",
    "    for k in range(1, npub + 1):\n",
    "        text  = f\"\"\"      <li class=\"carousel__navigation-item\">\\n\"\"\"\n",
    "        text += f\"\"\"        <a href=\"#carousel__slide{k}\" class=\"carousel__navigation-button\">Go to {k}</a>\\n\"\"\"\n",
    "        text += f\"\"\"      </li>\"\"\"\n",
    "        carousel.append(text)\n",
    "    carousel.extend([\"\"\"    </ol>\"\"\", \"\"\"  </aside>\"\"\", \"\"\"</section>\"\"\"])\n",
    "\n",
    "    return '\\n'.join(carousel)"
   ]
  },
  {
   "cell_type": "code",
   "execution_count": 12,
   "id": "a6eac5b6",
   "metadata": {
    "execution": {
     "iopub.execute_input": "2022-12-08T04:12:02.440125Z",
     "iopub.status.busy": "2022-12-08T04:12:02.439698Z",
     "iopub.status.idle": "2022-12-08T04:12:02.446050Z",
     "shell.execute_reply": "2022-12-08T04:12:02.445499Z"
    },
    "papermill": {
     "duration": 0.019119,
     "end_time": "2022-12-08T04:12:02.447525",
     "exception": false,
     "start_time": "2022-12-08T04:12:02.428406",
     "status": "completed"
    },
    "scrolled": false,
    "tags": []
   },
   "outputs": [],
   "source": [
    "carousel = create_carousel(npub)\n",
    "docs = ', '.join(['\"{0:s}\"'.format(k.split('/')[-1]) for k in res])\n",
    "slides = ', '.join([f'\"slide{k}_content\"' for k in range(1, npub + 1)])\n",
    "\n",
    "script = f\"\"\"\n",
    "const docs = [{docs}]\n",
    "\n",
    "const slides = [{slides}]\n",
    "\"\"\" + \"\"\"\n",
    "async function run() {\n",
    "    for (let i = 0; i < docs.length; i++) {\n",
    "        let file = await fetch(docs[i]);\n",
    "        let text = await file.text()\n",
    "        document.getElementById(slides[i]).innerHTML =\n",
    "            marked.parse(text);\n",
    "    }\n",
    "    hljs.highlightAll();\n",
    "}\n",
    "run()\n",
    "\"\"\"\n",
    "\n",
    "page = f\"\"\"<!doctype html>\n",
    "<html lang=\"en\">\n",
    "\n",
    "<head>\n",
    "  <meta charset=\"utf-8\">\n",
    "  <meta name=\"viewport\" content=\"width=device-width, initial-scale=1\">\n",
    "  <!-- Bootstrap CSS -->\n",
    "  <link href=\"https://cdn.jsdelivr.net/npm/bootstrap@5.0.2/dist/css/bootstrap.min.css\" rel=\"stylesheet\"\n",
    "   integrity=\"sha384-EVSTQN3/azprG1Anm3QDgpJLIm9Nao0Yz1ztcQTwFspd3yD65VohhpuuCOmLASjC\" crossorigin=\"anonymous\">\n",
    "  <!-- highlight.js CSS -->\n",
    "  <link rel=\"stylesheet\" href=\"https://cdnjs.cloudflare.com/ajax/libs/highlight.js/11.1.0/styles/default.min.css\">\n",
    "  <!-- Mathjax 3 -->\n",
    "  <script type=\"text/javascript\" id=\"MathJax-config\" src=\"mathjax_config.js\"> </script>\n",
    "  <script type=\"text/javascript\" id=\"MathJax-script\" async \n",
    "    src=\"https://cdn.jsdelivr.net/npm/mathjax@3/es5/tex-mml-chtml.js\">\n",
    "  </script>\n",
    "  <link rel=\"stylesheet\" href=\"index_carousel.css\">\n",
    "  <link rel=\"icon\" type=\"image/x-icon\" href=\"https://www.mpia.de/assets/touch-icon-32x32-a66937bcebc4e8894ebff1f41a366c7c7220fd97a38869ee0f2db65a9f59b6c1.png\">\n",
    "  <title>MPIA Arxiv on deck!</title>\n",
    "</head>\n",
    "\n",
    "<body>\n",
    "  <div id=\"header\"> <img src=\"header_banner.png\" width=\"100%\"></div>\n",
    "  <div id=\"suptitle\"> 7-day archives </div>\n",
    "  <div id=\"info\">\n",
    "    <img src=\"https://pngimg.com/uploads/github/github_PNG58.png\" height=30rem></img>\n",
    "    <a href=https://github.com/mpi-astronomy/arxiv_display style=\"color:black;\">github/mpi-astronomy/arxiv_display</a> \n",
    "  </div>\n",
    "  {carousel:s}\n",
    "</body>\n",
    "\n",
    "<!-- Render Markdown -->\n",
    "\n",
    "<body>\n",
    "  <!-- highlight.js: https://highlightjs.org/download/ -->\n",
    "  <script src=\"https://cdnjs.cloudflare.com/ajax/libs/highlight.js/11.5.0/highlight.min.js\"></script>\n",
    "  <!-- marked.js -->\n",
    "  <script src=\"https://cdn.jsdelivr.net/npm/marked/marked.min.js\"></script>\n",
    "  <script>{script:s}</script>\n",
    "</body>\n",
    "</html>\n",
    "\"\"\"\n",
    "with open(\"_build/html/index_7days.html\", 'w') as fout:\n",
    "    fout.write(page)"
   ]
  },
  {
   "cell_type": "markdown",
   "id": "1cebacbc",
   "metadata": {
    "papermill": {
     "duration": 0.01043,
     "end_time": "2022-12-08T04:12:02.468387",
     "exception": false,
     "start_time": "2022-12-08T04:12:02.457957",
     "status": "completed"
    },
    "tags": []
   },
   "source": [
    "# Debugging papers"
   ]
  },
  {
   "cell_type": "raw",
   "id": "debe7cc6",
   "metadata": {
    "papermill": {
     "duration": 0.01043,
     "end_time": "2022-12-08T04:12:02.489202",
     "exception": false,
     "start_time": "2022-12-08T04:12:02.478772",
     "status": "completed"
    },
    "tags": []
   },
   "source": [
    "raise NotImplementedError(\"Manual Stop\")"
   ]
  },
  {
   "cell_type": "raw",
   "id": "eb169192",
   "metadata": {
    "papermill": {
     "duration": 0.010345,
     "end_time": "2022-12-08T04:12:02.510117",
     "exception": false,
     "start_time": "2022-12-08T04:12:02.499772",
     "status": "completed"
    },
    "scrolled": true,
    "tags": []
   },
   "source": [
    "from IPython.display import display, Markdown\n",
    "from TexSoup import TexSoup\n",
    "import re\n",
    "\n",
    "def bracket_error(source: str):\n",
    "    \"\"\" Find problematic portions of the document \"\"\"\n",
    "    \n",
    "    print(\"len(source)\", len(source))\n",
    "    \n",
    "    # Checking header\n",
    "    begin_doc = next(re.finditer(r'\\\\begin\\{document\\}', doc.source)).span()[1]\n",
    "    header = source[:begin_doc]\n",
    "    text = header + r\"\\n\\end{document}\"\n",
    "\n",
    "    try:\n",
    "        # print(\"Header check... \", end='')\n",
    "        TexSoup(text)\n",
    "        display(Markdown(f\"**[OK]** - Header\"))\n",
    "    except:\n",
    "        raise RuntimeError(\"Error in the header\")\n",
    "        \n",
    "    # Check the text per section until the end.\n",
    "    # Do not stop and try them all.\n",
    "    \n",
    "    problematic_text = []\n",
    "    \n",
    "    sections = ([(0, begin_doc, 'until first section')] + \n",
    "                [(g.span()[0], g.span()[1], g.group()) for g in re.finditer(r'\\\\section\\{.*\\}', source)] +\n",
    "                [(g.span()[0], g.span()[1], g.group()) for g in re.finditer(r'\\\\begin\\{appendix\\}', source)]\n",
    "               )\n",
    "    sections.append([len(source), len(source), 'end'])\n",
    "    \n",
    "    sections = sorted(sections, key=lambda x: x[0])\n",
    "    \n",
    "    prev_pos, prev_name = (0, 'header')\n",
    "    parsed = []\n",
    "    \n",
    "    for span, span_end, name in sections:\n",
    "\n",
    "        if span - prev_pos <= 0:\n",
    "            continue\n",
    "            \n",
    "\n",
    "        text = source[prev_pos:span]\n",
    "        if prev_pos > begin_doc:\n",
    "            text = r\"\\n\\begin{document}\" + text + r\"\\n\\end{document}\"\n",
    "        else:\n",
    "            text = text + r\"\\n\\end{document}\"\n",
    "        try:\n",
    "            #print(f\"{prev_pos}:{prev_name}-->{span}:{name} check... \", end='')\n",
    "            parsed.append(TexSoup(text, tolerance=1))  # allow not ending env\n",
    "            display(Markdown(f\"**[OK]** - *{prev_pos}*:{prev_name} &rarr; *{span}*:{name}\"))\n",
    "            # print(\"ok\")\n",
    "\n",
    "            prev_pos = span\n",
    "            prev_name = name\n",
    "        except:\n",
    "            # print(f\"error between {prev_pos} and {span}\")\n",
    "            display(Markdown(f\"**[ERR]** *{prev_pos}*:{prev_name} &rarr; *{span}*:{name}\"))\n",
    "            problematic_text.append((prev_pos, source[prev_pos:span]))\n",
    "            prev_pos = span\n",
    "            prev_name = name\n",
    "            # raise\n",
    "    return problematic_text, parsed\n",
    "\n",
    "\n",
    "def check_environment(text, offset=0):\n",
    "    \"\"\" Check environment \"\"\"\n",
    "    env = re.compile(r\"\\\\begin\\{(?P<env>.*)\\}(.*)\\\\end\\{(?P=env)\\}\", re.DOTALL)\n",
    "\n",
    "    for match in env.finditer(text):\n",
    "        beg, end = match.span()\n",
    "        beg += offset\n",
    "        end += offset\n",
    "        envname = match.groups()[0]\n",
    "        try:\n",
    "            latex.TexSoup(match.group())\n",
    "        except Exception as e:\n",
    "            display(e)\n",
    "            print(f\"Error in {envname:s} between {beg} and {end}\")\n",
    "            return match.groups()[1], beg, end"
   ]
  },
  {
   "cell_type": "raw",
   "id": "2315e835",
   "metadata": {
    "papermill": {
     "duration": 0.010297,
     "end_time": "2022-12-08T04:12:02.530808",
     "exception": false,
     "start_time": "2022-12-08T04:12:02.520511",
     "status": "completed"
    },
    "scrolled": false,
    "tags": []
   },
   "source": [
    "import importlib\n",
    "importlib.reload(latex)\n",
    "which = \"2204.03253\"\n",
    "paper_id = f'{which:s}'\n",
    "folder = f'tmp_{paper_id:s}'\n",
    "\n",
    "if not os.path.isdir(folder):\n",
    "    folder = retrieve_document_source(f\"{paper_id}\", f'tmp_{paper_id}')\n",
    "\n",
    "try:\n",
    "    doc = latex.LatexDocument(folder, validation=validation)    \n",
    "except AffiliationError as affilerror:\n",
    "    msg = f\"ArXiv:{paper_id:s} is not an MPIA paper... \" + str(affilerror)\n",
    "    print(msg)\n",
    "\n",
    "\n",
    "# Hack because sometimes author parsing does not work well\n",
    "if (len(doc.authors) != len(paper['authors'])):\n",
    "    doc._authors = paper['authors']\n",
    "if (doc.abstract) in (None, ''):\n",
    "    doc._abstract = paper['abstract']\n",
    "\n",
    "doc.comment = get_markdown_badge(paper_id) + \" _\" + paper['comments'] + \"_\"\n",
    "doc.highlight_authors_in_list(hl_list)\n",
    "\n",
    "full_md = doc.generate_markdown_text()"
   ]
  },
  {
   "cell_type": "raw",
   "id": "dd3781db",
   "metadata": {
    "papermill": {
     "duration": 0.010389,
     "end_time": "2022-12-08T04:12:02.551621",
     "exception": false,
     "start_time": "2022-12-08T04:12:02.541232",
     "status": "completed"
    },
    "scrolled": false,
    "tags": []
   },
   "source": [
    "doc"
   ]
  },
  {
   "cell_type": "raw",
   "id": "c6eed834",
   "metadata": {
    "papermill": {
     "duration": 0.010315,
     "end_time": "2022-12-08T04:12:02.572324",
     "exception": false,
     "start_time": "2022-12-08T04:12:02.562009",
     "status": "completed"
    },
    "tags": []
   },
   "source": [
    "# [check_environment(k) for k in bracket_error(doc.source)]\n",
    "_, _, a = latex.get_content_per_section(doc.source, verbose=True)\n",
    "if not a:\n",
    "    print(\"no issues per section\")\n",
    "for ak in a:\n",
    "    r = check_environment(ak[1], offset=ak[0])\n",
    "    print(r[1], r[2])\n",
    "    print(r[0])"
   ]
  },
  {
   "cell_type": "code",
   "execution_count": null,
   "id": "71ce768a",
   "metadata": {
    "papermill": {
     "duration": 0.010353,
     "end_time": "2022-12-08T04:12:02.593051",
     "exception": false,
     "start_time": "2022-12-08T04:12:02.582698",
     "status": "completed"
    },
    "tags": []
   },
   "outputs": [],
   "source": []
  }
 ],
 "metadata": {
  "kernelspec": {
   "display_name": "Python 3.10.6 64-bit",
   "language": "python",
   "name": "python3"
  },
  "language_info": {
   "codemirror_mode": {
    "name": "ipython",
    "version": 3
   },
   "file_extension": ".py",
   "mimetype": "text/x-python",
   "name": "python",
   "nbconvert_exporter": "python",
   "pygments_lexer": "ipython3",
   "version": "3.9.15"
  },
  "papermill": {
   "default_parameters": {},
   "duration": 276.208875,
   "end_time": "2022-12-08T04:12:02.821657",
   "environment_variables": {},
   "exception": null,
   "input_path": "MPIA daily digest.ipynb",
   "output_path": "log.ipynb",
   "parameters": {},
   "start_time": "2022-12-08T04:07:26.612782",
   "version": "2.4.0"
  },
  "vscode": {
   "interpreter": {
    "hash": "e7370f93d1d0cde622a1f8e1c04877d8463912d04d973331ad4851f04de6915a"
   }
  },
  "widgets": {
   "application/vnd.jupyter.widget-state+json": {
    "state": {
     "0c7d951cbe5f44bcb6f45254a0dd570d": {
      "model_module": "@jupyter-widgets/base",
      "model_module_version": "2.0.0",
      "model_name": "LayoutModel",
      "state": {
       "_model_module": "@jupyter-widgets/base",
       "_model_module_version": "2.0.0",
       "_model_name": "LayoutModel",
       "_view_count": null,
       "_view_module": "@jupyter-widgets/base",
       "_view_module_version": "2.0.0",
       "_view_name": "LayoutView",
       "align_content": null,
       "align_items": null,
       "align_self": null,
       "border_bottom": null,
       "border_left": null,
       "border_right": null,
       "border_top": null,
       "bottom": null,
       "display": null,
       "flex": null,
       "flex_flow": null,
       "grid_area": null,
       "grid_auto_columns": null,
       "grid_auto_flow": null,
       "grid_auto_rows": null,
       "grid_column": null,
       "grid_gap": null,
       "grid_row": null,
       "grid_template_areas": null,
       "grid_template_columns": null,
       "grid_template_rows": null,
       "height": null,
       "justify_content": null,
       "justify_items": null,
       "left": null,
       "margin": null,
       "max_height": null,
       "max_width": null,
       "min_height": null,
       "min_width": null,
       "object_fit": null,
       "object_position": null,
       "order": null,
       "overflow": null,
       "padding": null,
       "right": null,
       "top": null,
       "visibility": null,
       "width": null
      }
     },
     "17b6df03184c451fbf5374cfdd7d61d6": {
      "model_module": "@jupyter-widgets/base",
      "model_module_version": "2.0.0",
      "model_name": "LayoutModel",
      "state": {
       "_model_module": "@jupyter-widgets/base",
       "_model_module_version": "2.0.0",
       "_model_name": "LayoutModel",
       "_view_count": null,
       "_view_module": "@jupyter-widgets/base",
       "_view_module_version": "2.0.0",
       "_view_name": "LayoutView",
       "align_content": null,
       "align_items": null,
       "align_self": null,
       "border_bottom": null,
       "border_left": null,
       "border_right": null,
       "border_top": null,
       "bottom": null,
       "display": null,
       "flex": null,
       "flex_flow": null,
       "grid_area": null,
       "grid_auto_columns": null,
       "grid_auto_flow": null,
       "grid_auto_rows": null,
       "grid_column": null,
       "grid_gap": null,
       "grid_row": null,
       "grid_template_areas": null,
       "grid_template_columns": null,
       "grid_template_rows": null,
       "height": null,
       "justify_content": null,
       "justify_items": null,
       "left": null,
       "margin": null,
       "max_height": null,
       "max_width": null,
       "min_height": null,
       "min_width": null,
       "object_fit": null,
       "object_position": null,
       "order": null,
       "overflow": null,
       "padding": null,
       "right": null,
       "top": null,
       "visibility": null,
       "width": null
      }
     },
     "211f83d031d04a43949b1ebd3d5d53fa": {
      "model_module": "@jupyter-widgets/controls",
      "model_module_version": "2.0.0",
      "model_name": "HBoxModel",
      "state": {
       "_dom_classes": [],
       "_model_module": "@jupyter-widgets/controls",
       "_model_module_version": "2.0.0",
       "_model_name": "HBoxModel",
       "_view_count": null,
       "_view_module": "@jupyter-widgets/controls",
       "_view_module_version": "2.0.0",
       "_view_name": "HBoxView",
       "box_style": "",
       "children": [
        "IPY_MODEL_89e06f0f335b48d99d50a6dd80a1befe",
        "IPY_MODEL_649de0e3e799495f9676bdb21d0cb102",
        "IPY_MODEL_9b39a8c773964293ba87d7c00e83ad29"
       ],
       "layout": "IPY_MODEL_96ad04978c0040df92941676955831a5",
       "tabbable": null,
       "tooltip": null
      }
     },
     "2f4a831518e640518c29667353c2a109": {
      "model_module": "@jupyter-widgets/base",
      "model_module_version": "2.0.0",
      "model_name": "LayoutModel",
      "state": {
       "_model_module": "@jupyter-widgets/base",
       "_model_module_version": "2.0.0",
       "_model_name": "LayoutModel",
       "_view_count": null,
       "_view_module": "@jupyter-widgets/base",
       "_view_module_version": "2.0.0",
       "_view_name": "LayoutView",
       "align_content": null,
       "align_items": null,
       "align_self": null,
       "border_bottom": null,
       "border_left": null,
       "border_right": null,
       "border_top": null,
       "bottom": null,
       "display": null,
       "flex": null,
       "flex_flow": null,
       "grid_area": null,
       "grid_auto_columns": null,
       "grid_auto_flow": null,
       "grid_auto_rows": null,
       "grid_column": null,
       "grid_gap": null,
       "grid_row": null,
       "grid_template_areas": null,
       "grid_template_columns": null,
       "grid_template_rows": null,
       "height": null,
       "justify_content": null,
       "justify_items": null,
       "left": null,
       "margin": null,
       "max_height": null,
       "max_width": null,
       "min_height": null,
       "min_width": null,
       "object_fit": null,
       "object_position": null,
       "order": null,
       "overflow": null,
       "padding": null,
       "right": null,
       "top": null,
       "visibility": null,
       "width": null
      }
     },
     "382e2f0fcab1475ea4c8f3fd851a6596": {
      "model_module": "@jupyter-widgets/controls",
      "model_module_version": "2.0.0",
      "model_name": "ProgressStyleModel",
      "state": {
       "_model_module": "@jupyter-widgets/controls",
       "_model_module_version": "2.0.0",
       "_model_name": "ProgressStyleModel",
       "_view_count": null,
       "_view_module": "@jupyter-widgets/base",
       "_view_module_version": "2.0.0",
       "_view_name": "StyleView",
       "bar_color": null,
       "description_width": ""
      }
     },
     "4c3fb15a6f6c44d6bc23adec9ead52d3": {
      "model_module": "@jupyter-widgets/controls",
      "model_module_version": "2.0.0",
      "model_name": "HTMLStyleModel",
      "state": {
       "_model_module": "@jupyter-widgets/controls",
       "_model_module_version": "2.0.0",
       "_model_name": "HTMLStyleModel",
       "_view_count": null,
       "_view_module": "@jupyter-widgets/base",
       "_view_module_version": "2.0.0",
       "_view_name": "StyleView",
       "background": null,
       "description_width": "",
       "font_size": null,
       "text_color": null
      }
     },
     "62c6ab7e255742a8a2473c7543abf13b": {
      "model_module": "@jupyter-widgets/controls",
      "model_module_version": "2.0.0",
      "model_name": "HTMLStyleModel",
      "state": {
       "_model_module": "@jupyter-widgets/controls",
       "_model_module_version": "2.0.0",
       "_model_name": "HTMLStyleModel",
       "_view_count": null,
       "_view_module": "@jupyter-widgets/base",
       "_view_module_version": "2.0.0",
       "_view_name": "StyleView",
       "background": null,
       "description_width": "",
       "font_size": null,
       "text_color": null
      }
     },
     "649de0e3e799495f9676bdb21d0cb102": {
      "model_module": "@jupyter-widgets/controls",
      "model_module_version": "2.0.0",
      "model_name": "FloatProgressModel",
      "state": {
       "_dom_classes": [],
       "_model_module": "@jupyter-widgets/controls",
       "_model_module_version": "2.0.0",
       "_model_name": "FloatProgressModel",
       "_view_count": null,
       "_view_module": "@jupyter-widgets/controls",
       "_view_module_version": "2.0.0",
       "_view_name": "ProgressView",
       "bar_style": "success",
       "description": "",
       "description_allow_html": false,
       "layout": "IPY_MODEL_cc3f486e37af4c78b2ebc9dbe3a3d862",
       "max": 20.0,
       "min": 0.0,
       "orientation": "horizontal",
       "style": "IPY_MODEL_dad75ed973fd420c9cfe06c385b5eb97",
       "tabbable": null,
       "tooltip": null,
       "value": 20.0
      }
     },
     "691978f226f74cdd96b76356b47976e0": {
      "model_module": "@jupyter-widgets/controls",
      "model_module_version": "2.0.0",
      "model_name": "FloatProgressModel",
      "state": {
       "_dom_classes": [],
       "_model_module": "@jupyter-widgets/controls",
       "_model_module_version": "2.0.0",
       "_model_name": "FloatProgressModel",
       "_view_count": null,
       "_view_module": "@jupyter-widgets/controls",
       "_view_module_version": "2.0.0",
       "_view_name": "ProgressView",
       "bar_style": "",
       "description": "",
       "description_allow_html": false,
       "layout": "IPY_MODEL_cc3f486e37af4c78b2ebc9dbe3a3d862",
       "max": 20.0,
       "min": 0.0,
       "orientation": "horizontal",
       "style": "IPY_MODEL_dad75ed973fd420c9cfe06c385b5eb97",
       "tabbable": null,
       "tooltip": null,
       "value": 0.0
      }
     },
     "7742540f37bb41d694af2c883e6d03f2": {
      "model_module": "@jupyter-widgets/controls",
      "model_module_version": "2.0.0",
      "model_name": "HTMLStyleModel",
      "state": {
       "_model_module": "@jupyter-widgets/controls",
       "_model_module_version": "2.0.0",
       "_model_name": "HTMLStyleModel",
       "_view_count": null,
       "_view_module": "@jupyter-widgets/base",
       "_view_module_version": "2.0.0",
       "_view_name": "StyleView",
       "background": null,
       "description_width": "",
       "font_size": null,
       "text_color": null
      }
     },
     "89e06f0f335b48d99d50a6dd80a1befe": {
      "model_module": "@jupyter-widgets/controls",
      "model_module_version": "2.0.0",
      "model_name": "HTMLModel",
      "state": {
       "_dom_classes": [],
       "_model_module": "@jupyter-widgets/controls",
       "_model_module_version": "2.0.0",
       "_model_name": "HTMLModel",
       "_view_count": null,
       "_view_module": "@jupyter-widgets/controls",
       "_view_module_version": "2.0.0",
       "_view_name": "HTMLView",
       "description": "",
       "description_allow_html": false,
       "layout": "IPY_MODEL_17b6df03184c451fbf5374cfdd7d61d6",
       "placeholder": "​",
       "style": "IPY_MODEL_7742540f37bb41d694af2c883e6d03f2",
       "tabbable": null,
       "tooltip": null,
       "value": "100%"
      }
     },
     "96ad04978c0040df92941676955831a5": {
      "model_module": "@jupyter-widgets/base",
      "model_module_version": "2.0.0",
      "model_name": "LayoutModel",
      "state": {
       "_model_module": "@jupyter-widgets/base",
       "_model_module_version": "2.0.0",
       "_model_name": "LayoutModel",
       "_view_count": null,
       "_view_module": "@jupyter-widgets/base",
       "_view_module_version": "2.0.0",
       "_view_name": "LayoutView",
       "align_content": null,
       "align_items": null,
       "align_self": null,
       "border_bottom": null,
       "border_left": null,
       "border_right": null,
       "border_top": null,
       "bottom": null,
       "display": null,
       "flex": null,
       "flex_flow": null,
       "grid_area": null,
       "grid_auto_columns": null,
       "grid_auto_flow": null,
       "grid_auto_rows": null,
       "grid_column": null,
       "grid_gap": null,
       "grid_row": null,
       "grid_template_areas": null,
       "grid_template_columns": null,
       "grid_template_rows": null,
       "height": null,
       "justify_content": null,
       "justify_items": null,
       "left": null,
       "margin": null,
       "max_height": null,
       "max_width": null,
       "min_height": null,
       "min_width": null,
       "object_fit": null,
       "object_position": null,
       "order": null,
       "overflow": null,
       "padding": null,
       "right": null,
       "top": null,
       "visibility": null,
       "width": null
      }
     },
     "9ae6c0ccd7b2465cb68d708ee57bfeb9": {
      "model_module": "@jupyter-widgets/controls",
      "model_module_version": "2.0.0",
      "model_name": "HBoxModel",
      "state": {
       "_dom_classes": [],
       "_model_module": "@jupyter-widgets/controls",
       "_model_module_version": "2.0.0",
       "_model_name": "HBoxModel",
       "_view_count": null,
       "_view_module": "@jupyter-widgets/controls",
       "_view_module_version": "2.0.0",
       "_view_name": "HBoxView",
       "box_style": "",
       "children": [
        "IPY_MODEL_89e06f0f335b48d99d50a6dd80a1befe",
        "IPY_MODEL_649de0e3e799495f9676bdb21d0cb102",
        "IPY_MODEL_9b39a8c773964293ba87d7c00e83ad29"
       ],
       "layout": "IPY_MODEL_96ad04978c0040df92941676955831a5",
       "tabbable": null,
       "tooltip": null
      }
     },
     "9b39a8c773964293ba87d7c00e83ad29": {
      "model_module": "@jupyter-widgets/controls",
      "model_module_version": "2.0.0",
      "model_name": "HTMLModel",
      "state": {
       "_dom_classes": [],
       "_model_module": "@jupyter-widgets/controls",
       "_model_module_version": "2.0.0",
       "_model_name": "HTMLModel",
       "_view_count": null,
       "_view_module": "@jupyter-widgets/controls",
       "_view_module_version": "2.0.0",
       "_view_name": "HTMLView",
       "description": "",
       "description_allow_html": false,
       "layout": "IPY_MODEL_e852c84b5f7d4b818edaf97eb0be287e",
       "placeholder": "​",
       "style": "IPY_MODEL_e734f1d0c114492783fb0e981d723bb6",
       "tabbable": null,
       "tooltip": null,
       "value": " 20/20 [04:08&lt;00:00,  6.86s/it]"
      }
     },
     "a797abc424284106bce945c3cdb6cd3c": {
      "model_module": "@jupyter-widgets/controls",
      "model_module_version": "2.0.0",
      "model_name": "HTMLModel",
      "state": {
       "_dom_classes": [],
       "_model_module": "@jupyter-widgets/controls",
       "_model_module_version": "2.0.0",
       "_model_name": "HTMLModel",
       "_view_count": null,
       "_view_module": "@jupyter-widgets/controls",
       "_view_module_version": "2.0.0",
       "_view_name": "HTMLView",
       "description": "",
       "description_allow_html": false,
       "layout": "IPY_MODEL_17b6df03184c451fbf5374cfdd7d61d6",
       "placeholder": "​",
       "style": "IPY_MODEL_7742540f37bb41d694af2c883e6d03f2",
       "tabbable": null,
       "tooltip": null,
       "value": ""
      }
     },
     "b1213f1d899d430f938e605fdde185a5": {
      "model_module": "@jupyter-widgets/base",
      "model_module_version": "2.0.0",
      "model_name": "LayoutModel",
      "state": {
       "_model_module": "@jupyter-widgets/base",
       "_model_module_version": "2.0.0",
       "_model_name": "LayoutModel",
       "_view_count": null,
       "_view_module": "@jupyter-widgets/base",
       "_view_module_version": "2.0.0",
       "_view_name": "LayoutView",
       "align_content": null,
       "align_items": null,
       "align_self": null,
       "border_bottom": null,
       "border_left": null,
       "border_right": null,
       "border_top": null,
       "bottom": null,
       "display": null,
       "flex": null,
       "flex_flow": null,
       "grid_area": null,
       "grid_auto_columns": null,
       "grid_auto_flow": null,
       "grid_auto_rows": null,
       "grid_column": null,
       "grid_gap": null,
       "grid_row": null,
       "grid_template_areas": null,
       "grid_template_columns": null,
       "grid_template_rows": null,
       "height": null,
       "justify_content": null,
       "justify_items": null,
       "left": null,
       "margin": null,
       "max_height": null,
       "max_width": null,
       "min_height": null,
       "min_width": null,
       "object_fit": null,
       "object_position": null,
       "order": null,
       "overflow": null,
       "padding": null,
       "right": null,
       "top": null,
       "visibility": null,
       "width": null
      }
     },
     "c631072641d84de5bfe0231bf466dccd": {
      "model_module": "@jupyter-widgets/controls",
      "model_module_version": "2.0.0",
      "model_name": "HTMLModel",
      "state": {
       "_dom_classes": [],
       "_model_module": "@jupyter-widgets/controls",
       "_model_module_version": "2.0.0",
       "_model_name": "HTMLModel",
       "_view_count": null,
       "_view_module": "@jupyter-widgets/controls",
       "_view_module_version": "2.0.0",
       "_view_name": "HTMLView",
       "description": "",
       "description_allow_html": false,
       "layout": "IPY_MODEL_e852c84b5f7d4b818edaf97eb0be287e",
       "placeholder": "​",
       "style": "IPY_MODEL_e734f1d0c114492783fb0e981d723bb6",
       "tabbable": null,
       "tooltip": null,
       "value": ""
      }
     },
     "cc3f486e37af4c78b2ebc9dbe3a3d862": {
      "model_module": "@jupyter-widgets/base",
      "model_module_version": "2.0.0",
      "model_name": "LayoutModel",
      "state": {
       "_model_module": "@jupyter-widgets/base",
       "_model_module_version": "2.0.0",
       "_model_name": "LayoutModel",
       "_view_count": null,
       "_view_module": "@jupyter-widgets/base",
       "_view_module_version": "2.0.0",
       "_view_name": "LayoutView",
       "align_content": null,
       "align_items": null,
       "align_self": null,
       "border_bottom": null,
       "border_left": null,
       "border_right": null,
       "border_top": null,
       "bottom": null,
       "display": null,
       "flex": null,
       "flex_flow": null,
       "grid_area": null,
       "grid_auto_columns": null,
       "grid_auto_flow": null,
       "grid_auto_rows": null,
       "grid_column": null,
       "grid_gap": null,
       "grid_row": null,
       "grid_template_areas": null,
       "grid_template_columns": null,
       "grid_template_rows": null,
       "height": null,
       "justify_content": null,
       "justify_items": null,
       "left": null,
       "margin": null,
       "max_height": null,
       "max_width": null,
       "min_height": null,
       "min_width": null,
       "object_fit": null,
       "object_position": null,
       "order": null,
       "overflow": null,
       "padding": null,
       "right": null,
       "top": null,
       "visibility": null,
       "width": null
      }
     },
     "dad75ed973fd420c9cfe06c385b5eb97": {
      "model_module": "@jupyter-widgets/controls",
      "model_module_version": "2.0.0",
      "model_name": "ProgressStyleModel",
      "state": {
       "_model_module": "@jupyter-widgets/controls",
       "_model_module_version": "2.0.0",
       "_model_name": "ProgressStyleModel",
       "_view_count": null,
       "_view_module": "@jupyter-widgets/base",
       "_view_module_version": "2.0.0",
       "_view_name": "StyleView",
       "bar_color": null,
       "description_width": ""
      }
     },
     "e734f1d0c114492783fb0e981d723bb6": {
      "model_module": "@jupyter-widgets/controls",
      "model_module_version": "2.0.0",
      "model_name": "HTMLStyleModel",
      "state": {
       "_model_module": "@jupyter-widgets/controls",
       "_model_module_version": "2.0.0",
       "_model_name": "HTMLStyleModel",
       "_view_count": null,
       "_view_module": "@jupyter-widgets/base",
       "_view_module_version": "2.0.0",
       "_view_name": "StyleView",
       "background": null,
       "description_width": "",
       "font_size": null,
       "text_color": null
      }
     },
     "e852c84b5f7d4b818edaf97eb0be287e": {
      "model_module": "@jupyter-widgets/base",
      "model_module_version": "2.0.0",
      "model_name": "LayoutModel",
      "state": {
       "_model_module": "@jupyter-widgets/base",
       "_model_module_version": "2.0.0",
       "_model_name": "LayoutModel",
       "_view_count": null,
       "_view_module": "@jupyter-widgets/base",
       "_view_module_version": "2.0.0",
       "_view_name": "LayoutView",
       "align_content": null,
       "align_items": null,
       "align_self": null,
       "border_bottom": null,
       "border_left": null,
       "border_right": null,
       "border_top": null,
       "bottom": null,
       "display": null,
       "flex": null,
       "flex_flow": null,
       "grid_area": null,
       "grid_auto_columns": null,
       "grid_auto_flow": null,
       "grid_auto_rows": null,
       "grid_column": null,
       "grid_gap": null,
       "grid_row": null,
       "grid_template_areas": null,
       "grid_template_columns": null,
       "grid_template_rows": null,
       "height": null,
       "justify_content": null,
       "justify_items": null,
       "left": null,
       "margin": null,
       "max_height": null,
       "max_width": null,
       "min_height": null,
       "min_width": null,
       "object_fit": null,
       "object_position": null,
       "order": null,
       "overflow": null,
       "padding": null,
       "right": null,
       "top": null,
       "visibility": null,
       "width": null
      }
     },
     "fc03739cc74d4c61816ab9f3b63aef48": {
      "model_module": "@jupyter-widgets/base",
      "model_module_version": "2.0.0",
      "model_name": "LayoutModel",
      "state": {
       "_model_module": "@jupyter-widgets/base",
       "_model_module_version": "2.0.0",
       "_model_name": "LayoutModel",
       "_view_count": null,
       "_view_module": "@jupyter-widgets/base",
       "_view_module_version": "2.0.0",
       "_view_name": "LayoutView",
       "align_content": null,
       "align_items": null,
       "align_self": null,
       "border_bottom": null,
       "border_left": null,
       "border_right": null,
       "border_top": null,
       "bottom": null,
       "display": null,
       "flex": null,
       "flex_flow": null,
       "grid_area": null,
       "grid_auto_columns": null,
       "grid_auto_flow": null,
       "grid_auto_rows": null,
       "grid_column": null,
       "grid_gap": null,
       "grid_row": null,
       "grid_template_areas": null,
       "grid_template_columns": null,
       "grid_template_rows": null,
       "height": null,
       "justify_content": null,
       "justify_items": null,
       "left": null,
       "margin": null,
       "max_height": null,
       "max_width": null,
       "min_height": null,
       "min_width": null,
       "object_fit": null,
       "object_position": null,
       "order": null,
       "overflow": null,
       "padding": null,
       "right": null,
       "top": null,
       "visibility": null,
       "width": null
      }
     }
    },
    "version_major": 2,
    "version_minor": 0
   }
  }
 },
 "nbformat": 4,
 "nbformat_minor": 5
}