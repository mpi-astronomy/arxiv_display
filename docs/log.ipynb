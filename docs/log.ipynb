{
 "cells": [
  {
   "cell_type": "markdown",
   "id": "92bcb855",
   "metadata": {
    "papermill": {
     "duration": 0.003744,
     "end_time": "2025-08-12T04:18:59.046354",
     "exception": false,
     "start_time": "2025-08-12T04:18:59.042610",
     "status": "completed"
    },
    "tags": []
   },
   "source": [
    "# MPIA Arxiv on Deck 2\n",
    "\n",
    "Contains the steps to produce the paper extractions."
   ]
  },
  {
   "cell_type": "code",
   "execution_count": 1,
   "id": "3a0d6e11",
   "metadata": {
    "execution": {
     "iopub.execute_input": "2025-08-12T04:18:59.053718Z",
     "iopub.status.busy": "2025-08-12T04:18:59.053440Z",
     "iopub.status.idle": "2025-08-12T04:18:59.282010Z",
     "shell.execute_reply": "2025-08-12T04:18:59.281367Z"
    },
    "papermill": {
     "duration": 0.233768,
     "end_time": "2025-08-12T04:18:59.283375",
     "exception": false,
     "start_time": "2025-08-12T04:18:59.049607",
     "status": "completed"
    },
    "tags": []
   },
   "outputs": [],
   "source": [
    "# Imports\n",
    "import os\n",
    "from IPython.display import Markdown, display\n",
    "from tqdm.notebook import tqdm\n",
    "import warnings\n",
    "from PIL import Image \n",
    "import re\n",
    "\n",
    "# requires arxiv_on_deck_2\n",
    "\n",
    "from arxiv_on_deck_2.arxiv2 import (get_new_papers, \n",
    "                                    get_paper_from_identifier,\n",
    "                                    retrieve_document_source, \n",
    "                                    get_markdown_badge)\n",
    "from arxiv_on_deck_2 import (latex,\n",
    "                             latex_bib,\n",
    "                             mpia,\n",
    "                             highlight_authors_in_list)\n",
    "\n",
    "# Sometimes images are really big\n",
    "Image.MAX_IMAGE_PIXELS = 1000000000 "
   ]
  },
  {
   "cell_type": "code",
   "execution_count": 2,
   "id": "22aa9d44",
   "metadata": {
    "execution": {
     "iopub.execute_input": "2025-08-12T04:18:59.290480Z",
     "iopub.status.busy": "2025-08-12T04:18:59.290272Z",
     "iopub.status.idle": "2025-08-12T04:18:59.297940Z",
     "shell.execute_reply": "2025-08-12T04:18:59.297391Z"
    },
    "papermill": {
     "duration": 0.012232,
     "end_time": "2025-08-12T04:18:59.298886",
     "exception": false,
     "start_time": "2025-08-12T04:18:59.286654",
     "status": "completed"
    },
    "tags": []
   },
   "outputs": [],
   "source": [
    "# Some useful definitions.\n",
    "\n",
    "class AffiliationWarning(UserWarning):\n",
    "    pass\n",
    "\n",
    "class AffiliationError(RuntimeError):\n",
    "    pass\n",
    "\n",
    "def validation(source: str):\n",
    "    \"\"\"Raises error paper during parsing of source file\n",
    "    \n",
    "    Allows checks before parsing TeX code.\n",
    "    \n",
    "    Raises AffiliationWarning\n",
    "    \"\"\"\n",
    "    check = mpia.affiliation_verifications(source, verbose=True)\n",
    "    if check is not True:\n",
    "        raise AffiliationError(\"mpia.affiliation_verifications: \" + check)\n",
    "\n",
    "        \n",
    "warnings.simplefilter('always', AffiliationWarning)\n",
    "\n",
    "\n",
    "def get_markdown_qrcode(paper_id: str):\n",
    "    \"\"\" Generate a qrcode to the arxiv page using qrserver.com\n",
    "    \n",
    "    :param paper: Arxiv paper\n",
    "    :returns: markdown text\n",
    "    \"\"\"\n",
    "    url = r\"https://api.qrserver.com/v1/create-qr-code/?size=100x100&data=\"\n",
    "    txt = f\"\"\"<img src={url}\"https://arxiv.org/abs/{paper_id}\">\"\"\"\n",
    "    txt = '<div id=\"qrcode\">' + txt + '</div>'\n",
    "    return txt\n",
    "\n",
    "\n",
    "def clean_non_western_encoded_characters_commands(text: str) -> str:\n",
    "    \"\"\" Remove non-western encoded characters from a string\n",
    "    List may need to grow.\n",
    "    \n",
    "    :param text: the text to clean\n",
    "    :return: the cleaned text\n",
    "    \"\"\"\n",
    "    text = re.sub(r\"(\\\\begin{CJK}{UTF8}{gbsn})(.*?)(\\\\end{CJK})\", r\"\\2\", text)\n",
    "    return text\n",
    "\n",
    "\n",
    "def get_initials(name: str) -> str:\n",
    "    \"\"\" Get the short name, e.g., A.-B. FamName\n",
    "    :param name: full name\n",
    "    :returns: initials\n",
    "    \"\"\"\n",
    "    initials = []\n",
    "    # account for non western names often in ()\n",
    "    if '(' in name:\n",
    "        name = clean_non_western_encoded_characters_commands(name)\n",
    "        suffix = re.findall(r\"\\((.*?)\\)\", name)[0]\n",
    "        name = name.replace(f\"({suffix})\", '')\n",
    "    else:\n",
    "        suffix = ''\n",
    "    split = name.split()\n",
    "    for token in split[:-1]:\n",
    "        if '-' in token:\n",
    "            current = '-'.join([k[0] + '.' for k in token.split('-')])\n",
    "        else:\n",
    "            current = token[0] + '.'\n",
    "        initials.append(current)\n",
    "    initials.append(split[-1].strip())\n",
    "    if suffix:\n",
    "        initials.append(f\"({suffix})\")\n",
    "    return ' '.join(initials)"
   ]
  },
  {
   "cell_type": "markdown",
   "id": "14bd6310",
   "metadata": {
    "papermill": {
     "duration": 0.002884,
     "end_time": "2025-08-12T04:18:59.304696",
     "exception": false,
     "start_time": "2025-08-12T04:18:59.301812",
     "status": "completed"
    },
    "tags": []
   },
   "source": [
    "## get list of arxiv paper candidates\n",
    "\n",
    "We use the MPIA mitarbeiter list webpage from mpia.de to get author names\n",
    "We then get all new papers from Arxiv and match authors"
   ]
  },
  {
   "cell_type": "code",
   "execution_count": 3,
   "id": "7ea813a8",
   "metadata": {
    "execution": {
     "iopub.execute_input": "2025-08-12T04:18:59.311393Z",
     "iopub.status.busy": "2025-08-12T04:18:59.311175Z",
     "iopub.status.idle": "2025-08-12T04:19:23.403853Z",
     "shell.execute_reply": "2025-08-12T04:19:23.403188Z"
    },
    "papermill": {
     "duration": 24.097521,
     "end_time": "2025-08-12T04:19:23.405103",
     "exception": false,
     "start_time": "2025-08-12T04:18:59.307582",
     "status": "completed"
    },
    "tags": []
   },
   "outputs": [],
   "source": [
    "# deal with the author list and edge cases of people that cannot be consistent on their name  \n",
    "\n",
    "def filter_non_scientists(name: str) -> bool:\n",
    "    \"\"\" Loose filter on expected authorships\n",
    "\n",
    "    removing IT, administration, technical staff\n",
    "    :param name: name\n",
    "    :returns: False if name is not a scientist\n",
    "    \"\"\"\n",
    "    remove_list = ['Licht', 'Binroth', 'Witzel', 'Jordan',\n",
    "                   'Zähringer', 'Scheerer', 'Hoffmann', 'Düe',\n",
    "                   'Hellmich', 'Enkler-Scharpegge', 'Witte-Nguy',\n",
    "                   'Dehen', 'Beckmann', 'Jager', 'Jäger'\n",
    "                  ]\n",
    "\n",
    "    for k in remove_list:\n",
    "        if k in name:\n",
    "            return False\n",
    "    return True\n",
    "\n",
    "def add_author_to_list(author_list: list) -> list:\n",
    "    \"\"\" Add author to list if not already in list\n",
    "    \n",
    "    :param author: author name\n",
    "    :param author_list: list of authors\n",
    "    :returns: updated list of authors\n",
    "    \"\"\"\n",
    "    add_list = ['T. Henning']\n",
    "\n",
    "    for author in add_list:\n",
    "        if author not in author_list:\n",
    "            author_list.append(author)\n",
    "    return author_list\n",
    "\n",
    "# get list from MPIA website\n",
    "# filter for non-scientists (mpia.get_mpia_mitarbeiter_list() does some filtering)\n",
    "mpia_authors = [k[1] for k in mpia.get_mpia_mitarbeiter_list() if filter_non_scientists(k[1])]\n",
    "# add some missing author because of inconsistencies in their MPIA name and author name on papers\n",
    "mpia_authors = add_author_to_list(mpia_authors)"
   ]
  },
  {
   "cell_type": "code",
   "execution_count": 4,
   "id": "2645e73a",
   "metadata": {
    "execution": {
     "iopub.execute_input": "2025-08-12T04:19:23.412231Z",
     "iopub.status.busy": "2025-08-12T04:19:23.412027Z",
     "iopub.status.idle": "2025-08-12T04:19:24.157921Z",
     "shell.execute_reply": "2025-08-12T04:19:24.157270Z"
    },
    "papermill": {
     "duration": 0.75065,
     "end_time": "2025-08-12T04:19:24.159108",
     "exception": false,
     "start_time": "2025-08-12T04:19:23.408458",
     "status": "completed"
    },
    "tags": []
   },
   "outputs": [
    {
     "name": "stdout",
     "output_type": "stream",
     "text": [
      "K. El-Badry  ->  K. El-Badry  |  ['K. El-Badry']\n",
      "M. Zhang  ->  M. Zhang  |  ['M. Zhang']\n",
      "J. Li  ->  J. Li  |  ['J. Li']\n",
      "J. Shi  ->  J. Shi  |  ['J. Shi']\n",
      "H. Jiang  ->  H. Jiang  |  ['H. Jiang']\n",
      "Y. Wang  ->  Y. Wang  |  ['Y. Wang']\n",
      "J. Shi  ->  J. Shi  |  ['J. Shi']\n",
      "P. Griveaud  ->  P. Griveaud  |  ['P. Griveaud']\n",
      "Y. Wang  ->  Y. Wang  |  ['Y. Wang']\n"
     ]
    },
    {
     "name": "stdout",
     "output_type": "stream",
     "text": [
      "Arxiv has 71 new papers today\n",
      "          8 with possible author matches\n"
     ]
    }
   ],
   "source": [
    "new_papers = get_new_papers()\n",
    "# add manual references\n",
    "add_paper_refs = []\n",
    "new_papers.extend([get_paper_from_identifier(k) for k in add_paper_refs])\n",
    "\n",
    "def robust_call(fn, value, *args, **kwargs):\n",
    "    try:\n",
    "        return fn(value, *args, **kwargs)\n",
    "    except Exception:\n",
    "        return value\n",
    "\n",
    "candidates = []\n",
    "for paperk in new_papers:\n",
    "    # Check author list with their initials\n",
    "    normed_author_list = [robust_call(mpia.get_initials, k) for k in paperk['authors']]\n",
    "    hl_authors = highlight_authors_in_list(normed_author_list, mpia_authors, verbose=True)\n",
    "    matches = [(hl, orig) for hl, orig in zip(hl_authors, paperk['authors']) if 'mark' in hl]\n",
    "    paperk['authors'] = hl_authors\n",
    "    if matches:\n",
    "        # only select paper if an author matched our list\n",
    "        candidates.append(paperk)\n",
    "print(\"\"\"Arxiv has {0:,d} new papers today\"\"\".format(len(new_papers)))        \n",
    "print(\"\"\"          {0:,d} with possible author matches\"\"\".format(len(candidates)))"
   ]
  },
  {
   "cell_type": "markdown",
   "id": "3543b34a",
   "metadata": {
    "papermill": {
     "duration": 0.003225,
     "end_time": "2025-08-12T04:19:24.165993",
     "exception": false,
     "start_time": "2025-08-12T04:19:24.162768",
     "status": "completed"
    },
    "tags": []
   },
   "source": [
    "# Parse sources and generate relevant outputs\n",
    "\n",
    "From the candidates, we do the following steps:\n",
    "* get their tarball from ArXiv (and extract data)\n",
    "* find the main .tex file: find one with \\documentclass{...} (sometimes it's non trivial)\n",
    "* Check affiliations with :func:`validation`, which uses :func:`mpia.affiliation_verifications`\n",
    "* If passing the affiliations: we parse the .tex source\n",
    "   * inject sub-documents into the main (flatten the main document)\n",
    "   * parse structure, extract information (title, abstract, authors, figures...)\n",
    "   * handles `\\graphicspath` if provided\n",
    "* Generate the .md document."
   ]
  },
  {
   "cell_type": "code",
   "execution_count": 5,
   "id": "9576b79e",
   "metadata": {
    "execution": {
     "iopub.execute_input": "2025-08-12T04:19:24.173073Z",
     "iopub.status.busy": "2025-08-12T04:19:24.172854Z",
     "iopub.status.idle": "2025-08-12T04:20:07.721369Z",
     "shell.execute_reply": "2025-08-12T04:20:07.720600Z"
    },
    "papermill": {
     "duration": 43.553238,
     "end_time": "2025-08-12T04:20:07.722385",
     "exception": false,
     "start_time": "2025-08-12T04:19:24.169147",
     "status": "completed"
    },
    "scrolled": false,
    "tags": []
   },
   "outputs": [
    {
     "data": {
      "application/vnd.jupyter.widget-view+json": {
       "model_id": "5f4a28c422084d41b33486fa4cff4278",
       "version_major": 2,
       "version_minor": 0
      },
      "text/plain": [
       "  0%|          | 0/8 [00:00<?, ?it/s]"
      ]
     },
     "metadata": {},
     "output_type": "display_data"
    },
    {
     "name": "stdout",
     "output_type": "stream",
     "text": [
      "Retrieving document from  https://arxiv.org/e-print/2508.06608\n"
     ]
    },
    {
     "name": "stdout",
     "output_type": "stream",
     "text": [
      "extracting tarball to tmp_2508.06608... done.\n",
      "Retrieving document from  https://arxiv.org/e-print/2508.06892\n"
     ]
    },
    {
     "name": "stdout",
     "output_type": "stream",
     "text": [
      "extracting tarball to tmp_2508.06892..."
     ]
    },
    {
     "name": "stdout",
     "output_type": "stream",
     "text": [
      " done.\n",
      "Retrieving document from  https://arxiv.org/e-print/2508.06936\n"
     ]
    },
    {
     "name": "stdout",
     "output_type": "stream",
     "text": [
      "extracting tarball to tmp_2508.06936... done.\n",
      "Retrieving document from  https://arxiv.org/e-print/2508.07065\n"
     ]
    },
    {
     "name": "stdout",
     "output_type": "stream",
     "text": [
      "extracting tarball to tmp_2508.07065..."
     ]
    },
    {
     "name": "stdout",
     "output_type": "stream",
     "text": [
      " done.\n",
      "Retrieving document from  https://arxiv.org/e-print/2508.07161\n"
     ]
    },
    {
     "name": "stderr",
     "output_type": "stream",
     "text": [
      "/opt/hostedtoolcache/Python/3.9.23/x64/lib/python3.9/site-packages/arxiv_on_deck_2/latex.py:414: LatexWarning: Latex injecting: 'main.bbl' from 'tmp_2508.07065/main.tex'\n",
      "  warnings.warn(LatexWarning(f\"Latex injecting: '{ext}' from '{subsource}'\"))\n"
     ]
    },
    {
     "name": "stdout",
     "output_type": "stream",
     "text": [
      "extracting tarball to tmp_2508.07161..."
     ]
    },
    {
     "name": "stdout",
     "output_type": "stream",
     "text": [
      " done.\n",
      "Retrieving document from  https://arxiv.org/e-print/2508.07599\n"
     ]
    },
    {
     "name": "stdout",
     "output_type": "stream",
     "text": [
      "extracting tarball to tmp_2508.07599... done.\n",
      "Retrieving document from  https://arxiv.org/e-print/2508.07859\n"
     ]
    },
    {
     "name": "stdout",
     "output_type": "stream",
     "text": [
      "extracting tarball to tmp_2508.07859..."
     ]
    },
    {
     "name": "stdout",
     "output_type": "stream",
     "text": [
      " done.\n"
     ]
    },
    {
     "name": "stdout",
     "output_type": "stream",
     "text": [
      "P. Griveaud  ->  P. Griveaud  |  ['P. Griveaud']\n"
     ]
    },
    {
     "name": "stderr",
     "output_type": "stream",
     "text": [
      "/opt/hostedtoolcache/Python/3.9.23/x64/lib/python3.9/site-packages/arxiv_on_deck_2/latex.py:132: LatexWarning: attempting recovering figure Figures/RK4_lin_traj\n",
      "  warnings.warn(LatexWarning(f'attempting recovering figure {image}'))\n",
      "/opt/hostedtoolcache/Python/3.9.23/x64/lib/python3.9/site-packages/arxiv_on_deck_2/latex.py:137: LatexWarning: Recovered figure Figures/RK4_lin_traj as tmp_2508.07859/./Figures/RK4_lin_traj.pdf\n",
      "  warnings.warn(LatexWarning(f'Recovered figure {image} as {fname}'))\n",
      "/opt/hostedtoolcache/Python/3.9.23/x64/lib/python3.9/site-packages/arxiv_on_deck_2/latex.py:132: LatexWarning: attempting recovering figure Figures/RK4_exppi2_traj\n",
      "  warnings.warn(LatexWarning(f'attempting recovering figure {image}'))\n",
      "/opt/hostedtoolcache/Python/3.9.23/x64/lib/python3.9/site-packages/arxiv_on_deck_2/latex.py:137: LatexWarning: Recovered figure Figures/RK4_exppi2_traj as tmp_2508.07859/./Figures/RK4_exppi2_traj.pdf\n",
      "  warnings.warn(LatexWarning(f'Recovered figure {image} as {fname}'))\n",
      "/opt/hostedtoolcache/Python/3.9.23/x64/lib/python3.9/site-packages/arxiv_on_deck_2/latex.py:132: LatexWarning: attempting recovering figure Figures/RK4_exppi8_traj\n",
      "  warnings.warn(LatexWarning(f'attempting recovering figure {image}'))\n",
      "/opt/hostedtoolcache/Python/3.9.23/x64/lib/python3.9/site-packages/arxiv_on_deck_2/latex.py:137: LatexWarning: Recovered figure Figures/RK4_exppi8_traj as tmp_2508.07859/./Figures/RK4_exppi8_traj.pdf\n",
      "  warnings.warn(LatexWarning(f'Recovered figure {image} as {fname}'))\n",
      "/opt/hostedtoolcache/Python/3.9.23/x64/lib/python3.9/site-packages/arxiv_on_deck_2/latex.py:132: LatexWarning: attempting recovering figure Figures/RK4_e_evol_tight\n",
      "  warnings.warn(LatexWarning(f'attempting recovering figure {image}'))\n",
      "/opt/hostedtoolcache/Python/3.9.23/x64/lib/python3.9/site-packages/arxiv_on_deck_2/latex.py:137: LatexWarning: Recovered figure Figures/RK4_e_evol_tight as tmp_2508.07859/./Figures/RK4_e_evol_tight.pdf\n",
      "  warnings.warn(LatexWarning(f'Recovered figure {image} as {fname}'))\n"
     ]
    },
    {
     "name": "stdout",
     "output_type": "stream",
     "text": [
      "Found 15 bibliographic references in tmp_2508.07859/ITLetter_openjournal.bbl.\n",
      "Retrieving document from  https://arxiv.org/e-print/2508.07988\n"
     ]
    },
    {
     "name": "stdout",
     "output_type": "stream",
     "text": [
      "extracting tarball to tmp_2508.07988..."
     ]
    },
    {
     "name": "stdout",
     "output_type": "stream",
     "text": [
      " done.\n"
     ]
    }
   ],
   "source": [
    "documents = []\n",
    "failed = []\n",
    "for paper in tqdm(candidates):\n",
    "    # debug crap\n",
    "    paper['identifier'] = paper['identifier'].lower().replace('arxiv:', '').replace(r'\\n', '').strip()\n",
    "    paper_id = paper['identifier']\n",
    "    \n",
    "    folder = f'tmp_{paper_id}'\n",
    "\n",
    "    try:\n",
    "        if not os.path.isdir(folder):\n",
    "            folder = retrieve_document_source(f\"{paper_id}\", f'tmp_{paper_id}')\n",
    "        \n",
    "        try:\n",
    "            doc = latex.LatexDocument(folder, validation=validation)    \n",
    "        except AffiliationError as affilerror:\n",
    "            msg = f\"ArXiv:{paper_id:s} is not an MPIA paper... \" + str(affilerror)\n",
    "            failed.append((paper, \"affiliation error: \" + str(affilerror) ))\n",
    "            continue\n",
    "        \n",
    "        # Hack because sometimes author parsing does not work well\n",
    "        if (len(doc.authors) != len(paper['authors'])):\n",
    "            doc._authors = paper['authors']\n",
    "        else:\n",
    "            # highlight authors (FIXME: doc.highlight_authors)\n",
    "            # done on arxiv paper already\n",
    "            doc._authors = highlight_authors_in_list(\n",
    "                [get_initials(k) for k in doc.authors], \n",
    "                mpia_authors, verbose=True)\n",
    "        if (doc.abstract) in (None, ''):\n",
    "            doc._abstract = paper['abstract']\n",
    "            \n",
    "        doc.comment = (get_markdown_badge(paper_id) + \n",
    "                       \"<mark>Appeared on: \" + paper['date'] + \"</mark> - \")\n",
    "        if paper['comments']:\n",
    "            doc.comment += \" _\" + paper['comments'] + \"_\"\n",
    "        \n",
    "        full_md = doc.generate_markdown_text()\n",
    "        \n",
    "        full_md += get_markdown_qrcode(paper_id)\n",
    "        \n",
    "        # replace citations\n",
    "        try:\n",
    "            bibdata = latex_bib.LatexBib.from_doc(doc)\n",
    "            full_md = latex_bib.replace_citations(full_md, bibdata)\n",
    "        except Exception as e:\n",
    "            print(\"Issues with the citations\")\n",
    "            print(e)\n",
    "        \n",
    "        documents.append((paper_id, full_md))\n",
    "    except Exception as e:\n",
    "        warnings.warn(latex.LatexWarning(f\"{paper_id:s} did not run properly\\n\" +\n",
    "                                         str(e)\n",
    "                                        ))\n",
    "        failed.append((paper, \"latex error \" + str(e)))"
   ]
  },
  {
   "cell_type": "markdown",
   "id": "2505a25c",
   "metadata": {
    "papermill": {
     "duration": 0.00399,
     "end_time": "2025-08-12T04:20:07.730690",
     "exception": false,
     "start_time": "2025-08-12T04:20:07.726700",
     "status": "completed"
    },
    "tags": []
   },
   "source": [
    "### Export the logs\n",
    "\n",
    "Throughout, we also keep track of the logs per paper. see `logs-{today date}.md` "
   ]
  },
  {
   "cell_type": "code",
   "execution_count": 6,
   "id": "d733828a",
   "metadata": {
    "execution": {
     "iopub.execute_input": "2025-08-12T04:20:07.739616Z",
     "iopub.status.busy": "2025-08-12T04:20:07.739380Z",
     "iopub.status.idle": "2025-08-12T04:20:07.758180Z",
     "shell.execute_reply": "2025-08-12T04:20:07.757545Z"
    },
    "papermill": {
     "duration": 0.024424,
     "end_time": "2025-08-12T04:20:07.759154",
     "exception": false,
     "start_time": "2025-08-12T04:20:07.734730",
     "status": "completed"
    },
    "scrolled": false,
    "tags": []
   },
   "outputs": [
    {
     "data": {
      "text/markdown": [
       "## Successful papers"
      ],
      "text/plain": [
       "<IPython.core.display.Markdown object>"
      ]
     },
     "metadata": {},
     "output_type": "display_data"
    },
    {
     "data": {
      "text/markdown": [
       "\n",
       "|||\n",
       "|---:|:---|\n",
       "| [![arXiv](https://img.shields.io/badge/arXiv-2508.07859-b31b1b.svg)](https://arxiv.org/abs/2508.07859) | **The reflex instability: exponential growth of a large-scale $m=1$ mode in astrophysical discs**  |\n",
       "|| A. Crida, et al. -- incl., <mark>P. Griveaud</mark> |\n",
       "|*Appeared on*| *2025-08-12*|\n",
       "|*Comments*| *Published in the Open Journal of Astrophysics*|\n",
       "|**Abstract**|            We report the finding of a linear, non-axisymmetric, global instability in gas discs around stars, which may be relevant to other astrophysical discs. It takes the form of an $m=1$ mode that grows in the disc density distribution while the star-barycentre distance rises exponentially with a characteristic timescale that is orders of magnitude longer than the orbital period. We present results of hydrodynamical simulations with various codes and numerical methods, using either barycentric or stellocentric reference frames, with or without the disc's self gravity: all simulations consistently show an unstable mode growing exponentially. The instability disappears if, and only if, the reflex motion of the star due to the disc's asymmetry is not taken into account in the simulations. For this reason we refer to this instability as the reflex instability. We identify a feedback loop as a possible origin, whereby the acceleration of the star excites the eccentricity of the disc, yielding an $m=1$ mode in the density distribution which, in turn, pulls the star. The growth timescale of the instability decreases with increasing disc mass and is a few hundred orbits for disc-to-star mass ratios of a few percent. If truly physical, and not due to a numerical artifact that would be common to all the codes we have employed, the reflex instability could have a dramatic impact on protoplanetary discs evolution and planetary formation.         |"
      ],
      "text/plain": [
       "[2508.07859] The reflex instability: exponential growth of a large-scale $m=1$ mode in astrophysical discs\n",
       "\tA. Crida, et al. -- incl., <mark>P. Griveaud</mark>"
      ]
     },
     "metadata": {},
     "output_type": "display_data"
    },
    {
     "data": {
      "text/markdown": [
       "## Failed papers"
      ],
      "text/plain": [
       "<IPython.core.display.Markdown object>"
      ]
     },
     "metadata": {},
     "output_type": "display_data"
    },
    {
     "data": {
      "text/markdown": [
       "\n",
       "|||\n",
       "|---:|:---|\n",
       "| [![arXiv](https://img.shields.io/badge/arXiv-2508.06608-b31b1b.svg)](https://arxiv.org/abs/2508.06608) | **Second public data release of the FIRE-2 cosmological zoom-in simulations of galaxy formation**  |\n",
       "|| A. Wetzel, et al. -- incl., <mark>K. El-Badry</mark> |\n",
       "|*Appeared on*| *2025-08-12*|\n",
       "|*Comments*| *12 pages. Data available at this http URL*|\n",
       "|**Abstract**|            We describe the second data release (DR2) of the FIRE-2 cosmological zoom-in simulations of galaxy formation, from the Feedback In Realistic Environments (FIRE) project, available at this http URL. DR2 includes all snapshots for most simulations, starting at z ~ 99, with all snapshot time spacings <~ 25 Myr. The Core suite -- comprising 14 Milky Way-mass galaxies, 5 SMC/LMC-mass galaxies, and 4 lower-mass galaxies -- includes 601 snapshots to z = 0. For the Core suite, we also release resimulations with physics variations: (1) dark-matter-only versions; (2) a modified ultraviolet background with later reionization at z = 7.8; (3) magnetohydrodynamics, anisotropic conduction, and viscosity in gas; and (4) a model for cosmic-ray injection, transport, and feedback (assuming a constant diffusion coefficient). The Massive Halo suite now includes 8 massive galaxies with 278 snapshots to z = 1. The High Redshift suite includes 34 simulations: in addition to the 22 simulations run to z = 5, we now include 12 additional simulations run to z = 7 and z = 9. Most simulations include catalogs of (sub)halos and galaxies at all available snapshots, and most Core simulations to z = 0 include full halo merger trees.         |\n",
       "|<p style=\"color:green\"> **ERROR** </p>| <p style=\"color:green\">affiliation error: mpia.affiliation_verifications: 'Heidelberg' keyword not found.</p> |"
      ],
      "text/plain": [
       "<IPython.core.display.Markdown object>"
      ]
     },
     "metadata": {},
     "output_type": "display_data"
    },
    {
     "data": {
      "text/markdown": [
       "\n",
       "|||\n",
       "|---:|:---|\n",
       "| [![arXiv](https://img.shields.io/badge/arXiv-2508.06892-b31b1b.svg)](https://arxiv.org/abs/2508.06892) | **Large Model Driven Solar Activity AI Forecaster: A Scalable Dual Data-Model Framework**  |\n",
       "|| J. Wang, et al. -- incl., <mark>M. Zhang</mark> |\n",
       "|*Appeared on*| *2025-08-12*|\n",
       "|*Comments*| **|\n",
       "|**Abstract**|            Solar activity drives space weather, affecting Earth's magnetosphere and technological infrastructure, which makes accurate solar flare forecasting critical. Current space weather models under-utilize multi-modal solar data, lack iterative enhancement via expert knowledge, and rely heavily on human forecasters under the Observation-Orientation-Decision-Action (OODA) paradigm. Here we present the \"Solar Activity AI Forecaster\", a scalable dual data-model driven framework built on foundational models, integrating expert knowledge to autonomously replicate human forecasting tasks with quantifiable outputs. It is implemented in the OODA paradigm and comprises three modules: a Situational Perception Module that generates daily solar situation awareness maps by integrating multi-modal observations; In-Depth Analysis Tools that characterize key solar features (active regions, coronal holes, filaments); and a Flare Prediction Module that forecasts strong flares for the full solar disk and active regions. Executed within a few minutes, the model outperforms or matches human forecasters in generalization across multi-source data, forecast accuracy, and operational efficiency. This work establishes a new paradigm for AI-based space weather forecasting, demonstrating AI's potential to enhance forecast accuracy and efficiency, and paving the way for autonomous operational forecasting systems.         |\n",
       "|<p style=\"color:green\"> **ERROR** </p>| <p style=\"color:green\">affiliation error: mpia.affiliation_verifications: 'Heidelberg' keyword not found.</p> |"
      ],
      "text/plain": [
       "<IPython.core.display.Markdown object>"
      ]
     },
     "metadata": {},
     "output_type": "display_data"
    },
    {
     "data": {
      "text/markdown": [
       "\n",
       "|||\n",
       "|---:|:---|\n",
       "| [![arXiv](https://img.shields.io/badge/arXiv-2508.06936-b31b1b.svg)](https://arxiv.org/abs/2508.06936) | **Pre-perihelion radio observations of comet 12P/Pons-Brooks with Tianma radio telescope**  |\n",
       "|| <mark>J. Li</mark>, et al. -- incl., <mark>J. Shi</mark> |\n",
       "|*Appeared on*| *2025-08-12*|\n",
       "|*Comments*| *9 pages, 5 figures. Accepted for publication in A&A*|\n",
       "|**Abstract**|            {The multiple outburst events of comet 12P/Pons-Brooks during its 2024 apparition offer a unique window into highly-active volatile releasing processes not observable during quiescent periods. We performed radio observations of comet 12P/Pons-Brooks with the Tianma-65m radio telescope, targeting the OH and NH$_3$ inversion lines at 18-cm and 1.3-cm, respectively. By monitoring 12P at different heliocentric distances on its inbound journey, we aim to provide insights into the comet's volatile composition and outburst behavior. Four observations were carried out between December 2023 and March 2024 when the comet was approaching the Sun from 2.22 AU to 1.18 AU. We conducted 18-cm OH lines observations on 4 single days using the cryogenically cooled receiver system of the telescope to derive $\\rm H_{2}O$ production rate. During 12P's outburst on December 14, we also conducted observations targeting the $\\rm NH_{3}$ emission. OH 18-cm lines were clearly detected with a signal-to-noise ratio of $\\sim$4$\\sigma$ (peak intensity). A tentative detection of $\\rm NH_{3}$ was made at the $\\sim$$3\\sigma$ level during the outburst phase, but the detection needs to be further verified. Our observations provide information on the outgassing behavior of 12P/Pons-Brooks during its 2024 apparition. The water production rate of 12P, derived from the 18-cm OH lines is consistent with measurements obtained in other works. The possible detection of $\\rm NH_{3}$ during an outburst suggests possible connections between subsurface volatile reservoir and the outburst mechanism. These results could further our understanding of the composition and activity of Halley-type comets.         |\n",
       "|<p style=\"color:green\"> **ERROR** </p>| <p style=\"color:green\">affiliation error: mpia.affiliation_verifications: 'Heidelberg' keyword not found.</p> |"
      ],
      "text/plain": [
       "<IPython.core.display.Markdown object>"
      ]
     },
     "metadata": {},
     "output_type": "display_data"
    },
    {
     "data": {
      "text/markdown": [
       "\n",
       "|||\n",
       "|---:|:---|\n",
       "| [![arXiv](https://img.shields.io/badge/arXiv-2508.07065-b31b1b.svg)](https://arxiv.org/abs/2508.07065) | **Reconstruction of Solar EUV Irradiance Using CaII K Images and SOHO/SEM Data with Bayesian Deep Learning and Uncertainty Quantification**  |\n",
       "|| <mark>H. Jiang</mark>, et al. |\n",
       "|*Appeared on*| *2025-08-12*|\n",
       "|*Comments*| *18 pages, 10 figures*|\n",
       "|**Abstract**|            Solar extreme ultraviolet (EUV) irradiance plays a crucial role in heating the Earth's ionosphere, thermosphere, and mesosphere, affecting atmospheric dynamics over varying time scales. Although significant effort has been spent studying short-term EUV variations from solar transient events, there is little work to explore the long-term evolution of the EUV flux over multiple solar cycles. Continuous EUV flux measurements have only been available since 1995, leaving significant gaps in earlier data. In this study, we propose a Bayesian deep learning model, named SEMNet, to fill the gaps. We validate our approach by applying SEMNet to construct SOHO/SEM EUV flux measurements in the period between 1998 and 2014 using CaII K images from the Precision Solar Photometric Telescope. We then extend SEMNet through transfer learning to reconstruct solar EUV irradiance in the period between 1950 and 1960 using CaII K images from the Kodaikanal Solar Observatory. Experimental results show that SEMNet provides reliable predictions along with uncertainty bounds, demonstrating the feasibility of CaII K images as a robust proxy for long-term EUV fluxes. These findings contribute to a better understanding of solar influences on Earth's climate over extended periods.         |\n",
       "|<p style=\"color:green\"> **ERROR** </p>| <p style=\"color:green\">affiliation error: mpia.affiliation_verifications: 'Heidelberg' keyword not found.</p> |"
      ],
      "text/plain": [
       "<IPython.core.display.Markdown object>"
      ]
     },
     "metadata": {},
     "output_type": "display_data"
    },
    {
     "data": {
      "text/markdown": [
       "\n",
       "|||\n",
       "|---:|:---|\n",
       "| [![arXiv](https://img.shields.io/badge/arXiv-2508.07161-b31b1b.svg)](https://arxiv.org/abs/2508.07161) | **The impact of organic hazes and graphite on the observation of CO2-rich sub-Neptune atmospheres**  |\n",
       "|| H. Li, et al. -- incl., <mark>Y. Wang</mark> |\n",
       "|*Appeared on*| *2025-08-12*|\n",
       "|*Comments*| *12 pages, 5 figures, accepted at APJL*|\n",
       "|**Abstract**|            Many sub-Neptune and super-Earth exoplanets are expected to develop metal-enriched atmospheres due to atmospheric loss processes such as photoevaporation or core-powered mass loss. Thermochemical equilibrium calculations predict that at high metallicity and a temperature range of 300-700 K, CO2 becomes the dominant carbon species, and graphite may be the thermodynamically favored condensate under low-pressure conditions. Building on prior laboratory findings that such environments yield organic haze rather than graphite, we measured the transmittance spectra of organic haze analogues and graphite samples, and computed their optical constants across the measured wavelength range from 0.4 to 25 {\\mu}m. The organic haze exhibits strong vibrational absorption bands, notably at 3.0, 4.5, and 6.0 {\\mu}m, while graphite shows featureless broadband absorption. The derived optical constants of haze and graphite provide the first dataset for organic haze analogues formed in CO2-rich atmospheres and offer improved applicability over prior graphite data derived from bulk reflectance or ellipsometry. We implemented these optical constants into the Virga and PICASO cloud and radiative transfer models to simulate transit spectra for GJ 1214b. The synthetic spectra with organic hazes reproduce the muted spectral features in the NIR observed by Hubble and general trends observed by JWST for GJ 1214b, while graphite models yield flat spectra across the observed wavelengths. This suggests haze features may serve as observational markers of carbon-rich atmospheres, whereas graphite's opacity could lead to radius overestimation, offering a possible explanation for super-puff exoplanets. Our work supplies essential optical to infrared data for interpreting observations of CO2-rich exoplanet atmospheres.         |\n",
       "|<p style=\"color:green\"> **ERROR** </p>| <p style=\"color:green\">affiliation error: mpia.affiliation_verifications: 'Heidelberg' keyword not found.</p> |"
      ],
      "text/plain": [
       "<IPython.core.display.Markdown object>"
      ]
     },
     "metadata": {},
     "output_type": "display_data"
    },
    {
     "data": {
      "text/markdown": [
       "\n",
       "|||\n",
       "|---:|:---|\n",
       "| [![arXiv](https://img.shields.io/badge/arXiv-2508.07599-b31b1b.svg)](https://arxiv.org/abs/2508.07599) | **Identification of OB associations using the LAMOST-Gaia OB star sample**  |\n",
       "|| Z. Liu, et al. -- incl., <mark>J. Shi</mark> |\n",
       "|*Appeared on*| *2025-08-12*|\n",
       "|*Comments*| *17 pages, 15 figures, 2 tables, accepted in ApJS*|\n",
       "|**Abstract**|            OB associations, as an intermediate stage between Galactic clusters and field stars, play an important role in understanding the star formation process, early stellar evolution, and Galactic evolution. In this work, we construct a large sample of OB stars with 6D phase space parameters ($l, b, d, V_{\\rm los}, pmra ,pmdec$) by combining the distances from Bailer-Jones et al. (2021), radial velocities derived from low-resolution spectra of the Large Sky Area Multi-Object Fiber Spectroscopic Telescope (LAMOST), and proper motions from the \\textit{Gaia} Data Release 3 (DR3). This sample includes 19,933 OB stars, most of which are located within 6\\,kpc of the Sun. Using 6D phase space parameters and friends-of-friends clustering algorithm, we identify 67 OB associations and 112 OB association candidates, among them, 49 OB associations and 107 OB association candidates are newly identified. The Galactic rotation curve derived using 67 OB association members is relatively flat in the range of Galactocentric distances 7$<$$R$$<$13\\,kpc. The angular rotation velocity at solar Galactocentric distance of $R_\\odot$ =8.34\\,kpc is $\\Omega_0$ = 29.05$\\pm$0.55\\,km\\,s$^{-1}$\\,kpc$^{-1}$. The spatial distribution of the 67 OB associations indicates that they are mainly located at low Galactic latitudes and near spiral arms of the Milky Way. Additionally, we estimate the velocity dispersions and sizes of these 67 OB associations. Our results show that the velocity dispersions decrease as Galactocentric distances increase, while their sizes increase as Galactocentric distances increase.         |\n",
       "|<p style=\"color:green\"> **ERROR** </p>| <p style=\"color:green\">affiliation error: mpia.affiliation_verifications: 'Heidelberg' keyword not found.</p> |"
      ],
      "text/plain": [
       "<IPython.core.display.Markdown object>"
      ]
     },
     "metadata": {},
     "output_type": "display_data"
    },
    {
     "data": {
      "text/markdown": [
       "\n",
       "|||\n",
       "|---:|:---|\n",
       "| [![arXiv](https://img.shields.io/badge/arXiv-2508.07988-b31b1b.svg)](https://arxiv.org/abs/2508.07988) | **A Data-constrained Magnetohydrodynamic Simulation of Successive X-class Flares in Solar Active Region 13842. II. Dynamics of the Solar Eruption Associated with the X9.0 Solar Flare**  |\n",
       "|| K. Matsumoto, et al. -- incl., <mark>Y. Wang</mark> |\n",
       "|*Appeared on*| *2025-08-12*|\n",
       "|*Comments*| *10 Figures. Accepted to ApJ*|\n",
       "|**Abstract**|            Active region NOAA 13842 produced two successive solar flares: an X7.1-class flare on October 1, 2024, and an X9.0-class flare on October 3, 2024. This study continues our previous simulation work that successfully reproduced the X7.1-class solar flare (Matsumoto et al. 2025). In this study, we performed a data-constrained magnetohydrodynamic (MHD) simulation using the nonlinear force-free field (NLFFF) as the initial condition to investigate the X9.0-class solar flare. The NLFFF showed the sheared field lines, resulting in the tether-cutting reconnection, the magnetic flux ropes (MFRs), and eventually led to eruption. The magnetic reconnection during the pre-eruption phase plays a critical role in accelerating the subsequent eruption, which is driven by torus instability and magnetic reconnection. Furthermore, our simulation results are consistent with several observational features associated with the X9.0 flare. This simulation could reproduce diverse phenomena associated with the X9.0 flare, including the tether-cutting reconnection, the flare ribbons and the flare loops, the transverse field enhancement, and the remote brightening away from the flare ribbons. However, the initial trigger, magnetic flux emergence, was inferred from observations rather than explicitly modeled, and future comprehensive simulations should incorporate this mechanism directly.         |\n",
       "|<p style=\"color:green\"> **ERROR** </p>| <p style=\"color:green\">affiliation error: mpia.affiliation_verifications: 'Heidelberg' keyword not found.</p> |"
      ],
      "text/plain": [
       "<IPython.core.display.Markdown object>"
      ]
     },
     "metadata": {},
     "output_type": "display_data"
    }
   ],
   "source": [
    "import datetime\n",
    "today = str(datetime.date.today())\n",
    "logfile = f\"_build/html/logs/log-{today}.md\"\n",
    "\n",
    "\n",
    "with open(logfile, 'w') as logs:\n",
    "    # Success\n",
    "    logs.write(f'# Arxiv on Deck 2: Logs - {today}\\n\\n')\n",
    "    logs.write(\"\"\"* Arxiv had {0:,d} new papers\\n\"\"\".format(len(new_papers)))\n",
    "    logs.write(\"\"\"    * {0:,d} with possible author matches\\n\\n\"\"\".format(len(candidates)))\n",
    "    logs.write(\"## Sucessful papers\\n\\n\")\n",
    "    display(Markdown(\"## Successful papers\"))\n",
    "    success = [k[0] for k in documents]\n",
    "    for candid in candidates:\n",
    "        if candid['identifier'].split(':')[-1] in success:\n",
    "            display(candid)\n",
    "            logs.write(candid.generate_markdown_text() + '\\n\\n')\n",
    "\n",
    "    ## failed\n",
    "    logs.write(\"## Failed papers\\n\\n\")\n",
    "    display(Markdown(\"## Failed papers\"))\n",
    "    failed = sorted(failed, key=lambda x: x[1])\n",
    "    current_reason = \"\"\n",
    "    for paper, reason in failed:\n",
    "        if 'affiliation' in reason:\n",
    "            color = 'green'\n",
    "        else:\n",
    "            color = 'red'\n",
    "        data = Markdown(\n",
    "                paper.generate_markdown_text() + \n",
    "                f'\\n|<p style=\"color:{color:s}\"> **ERROR** </p>| <p style=\"color:{color:s}\">{reason:s}</p> |'\n",
    "               )\n",
    "        if reason != current_reason:\n",
    "            logs.write(f'### {reason:s} \\n\\n')\n",
    "            current_reason = reason\n",
    "        logs.write(data.data + '\\n\\n')\n",
    "        \n",
    "        # only display here the important errors (all in logs)\n",
    "        # if color in ('red',):\n",
    "        display(data)"
   ]
  },
  {
   "cell_type": "markdown",
   "id": "472d20ee",
   "metadata": {
    "papermill": {
     "duration": 0.004873,
     "end_time": "2025-08-12T04:20:07.769581",
     "exception": false,
     "start_time": "2025-08-12T04:20:07.764708",
     "status": "completed"
    },
    "tags": []
   },
   "source": [
    "## Export documents\n",
    "\n",
    "We now write the .md files and export relevant images"
   ]
  },
  {
   "cell_type": "code",
   "execution_count": 7,
   "id": "d426aed9",
   "metadata": {
    "execution": {
     "iopub.execute_input": "2025-08-12T04:20:07.780292Z",
     "iopub.status.busy": "2025-08-12T04:20:07.780099Z",
     "iopub.status.idle": "2025-08-12T04:20:07.786841Z",
     "shell.execute_reply": "2025-08-12T04:20:07.786278Z"
    },
    "papermill": {
     "duration": 0.013194,
     "end_time": "2025-08-12T04:20:07.787794",
     "exception": false,
     "start_time": "2025-08-12T04:20:07.774600",
     "status": "completed"
    },
    "tags": []
   },
   "outputs": [],
   "source": [
    "def export_markdown_summary(md: str, md_fname:str, directory: str):\n",
    "    \"\"\"Export MD document and associated relevant images\"\"\"\n",
    "    import os\n",
    "    import shutil\n",
    "    import re\n",
    "\n",
    "    if (os.path.exists(directory) and not os.path.isdir(directory)):\n",
    "        raise RuntimeError(f\"a non-directory file exists with name {directory:s}\")\n",
    "\n",
    "    if (not os.path.exists(directory)):\n",
    "        print(f\"creating directory {directory:s}\")\n",
    "        os.mkdir(directory)\n",
    "\n",
    "    fig_fnames = (re.compile(r'\\[Fig.*\\]\\((.*)\\)').findall(md) + \n",
    "                  re.compile(r'\\<img src=\"([^>\\s]*)\"[^>]*/>').findall(md))\n",
    "    print(\"found figures\", fig_fnames)\n",
    "    for fname in fig_fnames:\n",
    "        if 'http' in fname:\n",
    "            # No need to copy online figures\n",
    "            continue\n",
    "        if not os.path.exists(fname):\n",
    "            print(\"file not found\", fname)\n",
    "            continue\n",
    "        print(\"copying \", fname, \"to\", directory)\n",
    "        destdir = os.path.join(directory, os.path.dirname(fname))\n",
    "        destfname = os.path.join(destdir, os.path.basename(fname))\n",
    "        try:\n",
    "            os.makedirs(destdir)\n",
    "        except FileExistsError:\n",
    "            pass\n",
    "        shutil.copy(fname, destfname)\n",
    "    with open(os.path.join(directory, md_fname), 'w') as fout:\n",
    "        fout.write(md)\n",
    "    print(\"exported in \", os.path.join(directory, md_fname))\n",
    "    [print(\"    + \" + os.path.join(directory,fk)) for fk in fig_fnames]"
   ]
  },
  {
   "cell_type": "code",
   "execution_count": 8,
   "id": "014d04a4",
   "metadata": {
    "execution": {
     "iopub.execute_input": "2025-08-12T04:20:07.798314Z",
     "iopub.status.busy": "2025-08-12T04:20:07.798140Z",
     "iopub.status.idle": "2025-08-12T04:20:07.806645Z",
     "shell.execute_reply": "2025-08-12T04:20:07.806098Z"
    },
    "papermill": {
     "duration": 0.0148,
     "end_time": "2025-08-12T04:20:07.807621",
     "exception": false,
     "start_time": "2025-08-12T04:20:07.792821",
     "status": "completed"
    },
    "tags": []
   },
   "outputs": [
    {
     "name": "stdout",
     "output_type": "stream",
     "text": [
      "found figures ['tmp_2508.07859/./Figures/fig2a.png', 'tmp_2508.07859/./Figures/fig2b_new2.png', 'tmp_2508.07859/./Figures/RK4_lin_traj.png', 'tmp_2508.07859/./Figures/RK4_exppi2_traj.png', 'tmp_2508.07859/./Figures/RK4_exppi8_traj.png', 'tmp_2508.07859/./Figures/RK4_e_evol_tight.png', 'tmp_2508.07859/./Figures/fig1a.png', 'tmp_2508.07859/./Figures/fig1b.png', 'tmp_2508.07859/./Figures/fig1c.png']\n",
      "copying  tmp_2508.07859/./Figures/fig2a.png to _build/html/\n",
      "copying  tmp_2508.07859/./Figures/fig2b_new2.png to _build/html/\n",
      "copying  tmp_2508.07859/./Figures/RK4_lin_traj.png to _build/html/\n",
      "copying  tmp_2508.07859/./Figures/RK4_exppi2_traj.png to _build/html/\n",
      "copying  tmp_2508.07859/./Figures/RK4_exppi8_traj.png to _build/html/\n",
      "copying  tmp_2508.07859/./Figures/RK4_e_evol_tight.png to _build/html/\n",
      "copying  tmp_2508.07859/./Figures/fig1a.png to _build/html/\n",
      "copying  tmp_2508.07859/./Figures/fig1b.png to _build/html/\n",
      "copying  tmp_2508.07859/./Figures/fig1c.png to _build/html/\n",
      "exported in  _build/html/2508.07859.md\n",
      "    + _build/html/tmp_2508.07859/./Figures/fig2a.png\n",
      "    + _build/html/tmp_2508.07859/./Figures/fig2b_new2.png\n",
      "    + _build/html/tmp_2508.07859/./Figures/RK4_lin_traj.png\n",
      "    + _build/html/tmp_2508.07859/./Figures/RK4_exppi2_traj.png\n",
      "    + _build/html/tmp_2508.07859/./Figures/RK4_exppi8_traj.png\n",
      "    + _build/html/tmp_2508.07859/./Figures/RK4_e_evol_tight.png\n",
      "    + _build/html/tmp_2508.07859/./Figures/fig1a.png\n",
      "    + _build/html/tmp_2508.07859/./Figures/fig1b.png\n",
      "    + _build/html/tmp_2508.07859/./Figures/fig1c.png\n"
     ]
    }
   ],
   "source": [
    "for paper_id, md in documents:\n",
    "    export_markdown_summary(md, f\"{paper_id:s}.md\", '_build/html/')"
   ]
  },
  {
   "cell_type": "markdown",
   "id": "f087a0a7",
   "metadata": {
    "papermill": {
     "duration": 0.00497,
     "end_time": "2025-08-12T04:20:07.817640",
     "exception": false,
     "start_time": "2025-08-12T04:20:07.812670",
     "status": "completed"
    },
    "tags": []
   },
   "source": [
    "## Display the papers\n",
    "\n",
    "Not necessary but allows for a quick check."
   ]
  },
  {
   "cell_type": "code",
   "execution_count": 9,
   "id": "fd25f625",
   "metadata": {
    "execution": {
     "iopub.execute_input": "2025-08-12T04:20:07.828464Z",
     "iopub.status.busy": "2025-08-12T04:20:07.828230Z",
     "iopub.status.idle": "2025-08-12T04:20:07.832673Z",
     "shell.execute_reply": "2025-08-12T04:20:07.832028Z"
    },
    "papermill": {
     "duration": 0.010931,
     "end_time": "2025-08-12T04:20:07.833647",
     "exception": false,
     "start_time": "2025-08-12T04:20:07.822716",
     "status": "completed"
    },
    "scrolled": false,
    "tags": []
   },
   "outputs": [
    {
     "data": {
      "text/markdown": [
       "<div class=\"macros\" style=\"visibility:hidden;\">\n",
       "$\\newcommand{\\ensuremath}{}$\n",
       "$\\newcommand{\\xspace}{}$\n",
       "$\\newcommand{\\object}[1]{\\texttt{#1}}$\n",
       "$\\newcommand{\\farcs}{{.}''}$\n",
       "$\\newcommand{\\farcm}{{.}'}$\n",
       "$\\newcommand{\\arcsec}{''}$\n",
       "$\\newcommand{\\arcmin}{'}$\n",
       "$\\newcommand{\\ion}[2]{#1#2}$\n",
       "$\\newcommand{\\textsc}[1]{\\textrm{#1}}$\n",
       "$\\newcommand{\\hl}[1]{\\textrm{#1}}$\n",
       "$\\newcommand{\\footnote}[1]{}$\n",
       "$\\newcommand{\\myeqref}[1]{Eq. (\\ref{#1})}$\n",
       "$\\newcommand{\\figref}[1]{Fig.~\\ref{#1}}$\n",
       "$\\newcommand{\\Figref}[1]{Figure~\\ref{#1}}$\n",
       "$\\newcommand{\\ITdd}{\\texttt{ITdd}}$\n",
       "$\\newcommand{\\fargo}{{\\sc fargo}}$\n",
       "$\\newcommand{\\fargotwodoned}{{\\sc fargo-2d1d}}$\n",
       "$\\newcommand{\\fargoadsg}{{\\sc fargo-adsg}}$\n",
       "$\\newcommand{\\fargothreed}{{\\sc fargo3d}}$\n",
       "$\\newcommand{\\inewcommandix}{{\\sc inewcommandix}}$\n",
       "$\\newcommand{\\phantomcode}{{\\sc phantom}}$\n",
       "$\\newcommand{\\sbt}{ \\begin{picture}(-1,1)(1,-3)\\circle*{3}\\end{picture} }$\n",
       "$\\newcommand{\\hm}[2]{\\textcolor{green}{#1}\\textcolor{limegreen}{\\st{#2}}}$\n",
       "$\\newcommand{\\el}[1]{\\textcolor{magenta}{#1}}$\n",
       "$\\newcommand{\\jeff}[2]{\\textcolor{teal}{#1} \\textcolor{teal}{\\st{#2}}}$\n",
       "$\\newcommand{\\ac}[2]{\\textcolor{blue}{#1} \\textcolor{blue}{\\st{#2}}}$\n",
       "$\\newcommand{\\cb}[1]{\\textcolor{NavyBlue}{#1}}$\n",
       "$\\newcommand{\\mnr}[2]{\\textcolor{teal}{#1}}$</div>\n",
       "\n",
       "\n",
       "\n",
       "<div id=\"title\">\n",
       "\n",
       "# The reflex instability: \\\\exponential growth of a large-scale $m=1$ mode in astrophysical discs$\\vspace{-16pt}$\n",
       "\n",
       "</div>\n",
       "<div id=\"comments\">\n",
       "\n",
       "[![arXiv](https://img.shields.io/badge/arXiv-2508.07859-b31b1b.svg)](https://arxiv.org/abs/2508.07859)<mark>Appeared on: 2025-08-12</mark> -  _Published in the Open Journal of Astrophysics_\n",
       "\n",
       "</div>\n",
       "<div id=\"authors\">\n",
       "\n",
       "A. Crida, et al. -- incl., <mark>P. Griveaud</mark>\n",
       "\n",
       "</div>\n",
       "<div id=\"abstract\">\n",
       "\n",
       "**Abstract:** We report the finding of a linear, non-axisymmetric, global instability in gas discs around stars, which may be relevant to other astrophysical discs. It takes the form of an $m=1$ mode that grows in the disc density distribution while the star-barycentre distance rises exponentially with a characteristic timescale that is orders of magnitude longer than the orbital period.  We present results of hydrodynamical simulations with various codes and numerical methods, using either barycentric or stellocentric reference frames, with or without the disc's self gravity: all simulations consistently show an unstable mode growing exponentially.  The instability disappears if, and only if, the reflex motion of the star due to the disc's asymmetry is not taken into account in the simulations. For this reason we refer to this instability as the $*reflex instability*$ .  We identify a feedback loop as a possible origin, whereby the acceleration of the star excites the eccentricity of the disc, yielding an $m=1$ mode in the density distribution which, in turn, pulls the star.  The growth timescale of the instability decreases with increasing disc mass and is a few hundred orbits for disc-to-star mass ratios of a few percent. If truly physical, and not due to a numerical artifact that would be common to all the codes we have employed, the reflex instability could have a dramatic impact on protoplanetary discs evolution and planetary formation.\n",
       "\n",
       "</div>\n",
       "\n",
       "<div id=\"div_fig1\">\n",
       "\n",
       "<img src=\"tmp_2508.07859/./Figures/fig2a.png\" alt=\"Fig4.1\" width=\"50%\"/><img src=\"tmp_2508.07859/./Figures/fig2b_new2.png\" alt=\"Fig4.2\" width=\"50%\"/>\n",
       "\n",
       "**Figure 4. -** Time evolution of the radial distance between the star and the centre-of-mass of the star-disc system for simulations using our reference setup, obtained for different codes and by varying numerical parameters (see caption and text). (*fig:com_tlogr_numerics*)\n",
       "\n",
       "</div>\n",
       "<div id=\"div_fig2\">\n",
       "\n",
       "<img src=\"tmp_2508.07859/./Figures/RK4_lin_traj.png\" alt=\"Fig2.1\" width=\"25%\"/><img src=\"tmp_2508.07859/./Figures/RK4_exppi2_traj.png\" alt=\"Fig2.2\" width=\"25%\"/><img src=\"tmp_2508.07859/./Figures/RK4_exppi8_traj.png\" alt=\"Fig2.3\" width=\"25%\"/><img src=\"tmp_2508.07859/./Figures/RK4_e_evol_tight.png\" alt=\"Fig2.4\" width=\"25%\"/>\n",
       "\n",
       "**Figure 2. -** Orbital evolution of a particle feeling an acceleration $\\vec{a}=-(1/r^2)\\vec{u}_r+\\vec{a}_c$. Top left panel : $\\vec{a}_c=0.004 \\vec{u}_y$. Top right : $\\vec{a}_c = 0.02 \\mathcal{R}_{\\pi/2}(\\vec{P})$. Bottom left panel : $\\vec{a}_c = 0.02 \\mathcal{R}_{\\pi/8}(\\vec{P})$, where $\\mathcal{R}_\\phi$ is the rotation by an angle $\\phi$ in the $x-y$ plane. Bottom right panel : evolution of the eccentricity in the three simulations (same color).\n",
       "     (*fig:RK4*)\n",
       "\n",
       "</div>\n",
       "<div id=\"div_fig3\">\n",
       "\n",
       "<img src=\"tmp_2508.07859/./Figures/fig1a.png\" alt=\"Fig3.1\" width=\"33%\"/><img src=\"tmp_2508.07859/./Figures/fig1b.png\" alt=\"Fig3.2\" width=\"33%\"/><img src=\"tmp_2508.07859/./Figures/fig1c.png\" alt=\"Fig3.3\" width=\"33%\"/>\n",
       "\n",
       "**Figure 3. -** Results of our reference setup for the $\\fargo$twodoned simulation which uses a barycentric frame. The left panel shows the position of the star in the barycentric frame. The open square symbols mark the star's position in the middle and right panels, and the arrows display the acceleration exerted by the disc on the star (arbitrary magnitude). The middle and right panels display the perturbation of the surface density of the disc relative to its azimuthally-averaged initial density, at two times separated by about half a pattern period. The solid curve shows the inner edge of the computational grid, the dashed curves show the edges of the inner and outer wave-damping zones. (*fig:bary*)\n",
       "\n",
       "</div><div id=\"qrcode\"><img src=https://api.qrserver.com/v1/create-qr-code/?size=100x100&data=\"https://arxiv.org/abs/2508.07859\"></div>"
      ],
      "text/plain": [
       "<IPython.core.display.Markdown object>"
      ]
     },
     "metadata": {},
     "output_type": "display_data"
    }
   ],
   "source": [
    "[display(Markdown(k[1])) for k in documents];"
   ]
  },
  {
   "cell_type": "markdown",
   "id": "873873a4",
   "metadata": {
    "papermill": {
     "duration": 0.005196,
     "end_time": "2025-08-12T04:20:07.844219",
     "exception": false,
     "start_time": "2025-08-12T04:20:07.839023",
     "status": "completed"
    },
    "tags": []
   },
   "source": [
    "# Create HTML index"
   ]
  },
  {
   "cell_type": "code",
   "execution_count": 10,
   "id": "cf665672",
   "metadata": {
    "execution": {
     "iopub.execute_input": "2025-08-12T04:20:07.855454Z",
     "iopub.status.busy": "2025-08-12T04:20:07.855237Z",
     "iopub.status.idle": "2025-08-12T04:20:07.862031Z",
     "shell.execute_reply": "2025-08-12T04:20:07.861471Z"
    },
    "papermill": {
     "duration": 0.013494,
     "end_time": "2025-08-12T04:20:07.863014",
     "exception": false,
     "start_time": "2025-08-12T04:20:07.849520",
     "status": "completed"
    },
    "tags": []
   },
   "outputs": [
    {
     "name": "stdout",
     "output_type": "stream",
     "text": [
      "132  publications files modified in the last 7 days.\n"
     ]
    }
   ],
   "source": [
    "from datetime import datetime, timedelta, timezone\n",
    "from glob import glob\n",
    "import os\n",
    "\n",
    "files = glob('_build/html/*.md')\n",
    "days = 7\n",
    "now = datetime.today()\n",
    "res = []\n",
    "for fk in files:\n",
    "    stat_result = os.stat(fk).st_ctime\n",
    "    modified = datetime.fromtimestamp(stat_result, tz=timezone.utc).replace(tzinfo=None)\n",
    "    delta = now.today() - modified\n",
    "    if delta <= timedelta(days=days):\n",
    "        res.append((delta.seconds, fk))\n",
    "res = [k[1] for k in reversed(sorted(res, key=lambda x:x[1]))]\n",
    "npub = len(res)\n",
    "print(len(res), f\" publications files modified in the last {days:d} days.\")\n",
    "# [ print('\\t', k) for k in res ];"
   ]
  },
  {
   "cell_type": "code",
   "execution_count": 11,
   "id": "015de740",
   "metadata": {
    "execution": {
     "iopub.execute_input": "2025-08-12T04:20:07.874218Z",
     "iopub.status.busy": "2025-08-12T04:20:07.874042Z",
     "iopub.status.idle": "2025-08-12T04:20:07.885802Z",
     "shell.execute_reply": "2025-08-12T04:20:07.885220Z"
    },
    "papermill": {
     "duration": 0.018469,
     "end_time": "2025-08-12T04:20:07.886768",
     "exception": false,
     "start_time": "2025-08-12T04:20:07.868299",
     "status": "completed"
    },
    "tags": []
   },
   "outputs": [
    {
     "name": "stdout",
     "output_type": "stream",
     "text": [
      "9  publications in the last 7 days.\n"
     ]
    }
   ],
   "source": [
    "import datetime\n",
    "from glob import glob\n",
    "\n",
    "def get_last_n_days(lst, days=1):\n",
    "    \"\"\" Get the documents from the last n days \"\"\"\n",
    "    sorted_lst = sorted(lst, key=lambda x: x[1], reverse=True)\n",
    "    for fname, date in sorted_lst:\n",
    "        if date >= str(datetime.date.today() - datetime.timedelta(days=days)):\n",
    "            yield fname\n",
    "\n",
    "def extract_appearance_dates(lst_file):\n",
    "    dates = []\n",
    "\n",
    "    def get_date(line):\n",
    "        return line\\\n",
    "            .split('Appeared on:')[-1]\\\n",
    "            .split('</mark>')[0].strip()\n",
    "\n",
    "    for fname in lst:\n",
    "        with open(fname, 'r') as f:\n",
    "            found_date = False\n",
    "            for line in f:\n",
    "                if not found_date:\n",
    "                    if \"Appeared on\" in line:\n",
    "                        found_date = True\n",
    "                        dates.append((fname, get_date(line)))\n",
    "                else:\n",
    "                    break\n",
    "    return dates\n",
    "\n",
    "from glob import glob\n",
    "lst = glob('_build/html/*md')\n",
    "days = 7\n",
    "dates = extract_appearance_dates(lst)\n",
    "res = list(get_last_n_days(dates, days))\n",
    "npub = len(res)\n",
    "print(len(res), f\" publications in the last {days:d} days.\")"
   ]
  },
  {
   "cell_type": "code",
   "execution_count": 12,
   "id": "52ca0208",
   "metadata": {
    "execution": {
     "iopub.execute_input": "2025-08-12T04:20:07.898186Z",
     "iopub.status.busy": "2025-08-12T04:20:07.897996Z",
     "iopub.status.idle": "2025-08-12T04:20:07.902735Z",
     "shell.execute_reply": "2025-08-12T04:20:07.902090Z"
    },
    "papermill": {
     "duration": 0.011585,
     "end_time": "2025-08-12T04:20:07.903780",
     "exception": false,
     "start_time": "2025-08-12T04:20:07.892195",
     "status": "completed"
    },
    "scrolled": false,
    "tags": []
   },
   "outputs": [],
   "source": [
    "def create_carousel(npub=4):\n",
    "    \"\"\" Generate the HTML code for a carousel with `npub` slides \"\"\"\n",
    "    carousel = [\"\"\"  <div class=\"carousel\" \"\"\",\n",
    "                \"\"\"       data-flickity='{ \"autoPlay\": 10000, \"adaptiveHeight\": true, \"resize\": true, \"wrapAround\": true, \"pauseAutoPlayOnHover\": true, \"groupCells\": 1 }' id=\"asyncTypeset\">\"\"\"\n",
    "                ]\n",
    "    \n",
    "    item_str = \"\"\"    <div class=\"carousel-cell\"> <div id=\"slide{k}\" class=\"md_view\">Content {k}</div> </div>\"\"\"\n",
    "    for k in range(1, npub + 1):\n",
    "        carousel.append(item_str.format(k=k))\n",
    "    carousel.append(\"  </div>\")\n",
    "    return '\\n'.join(carousel)\n",
    "\n",
    "def create_grid(npub=4):\n",
    "    \"\"\" Generate the HTML code for a flat grid with `npub` slides \"\"\"\n",
    "    grid = [\"\"\"  <div class=\"grid\"> \"\"\",\n",
    "                ]\n",
    "    \n",
    "    item_str = \"\"\"    <div class=\"grid-item\"> <div id=\"slide{k}\" class=\"md_view\">Content {k}</div> </div>\"\"\"\n",
    "    for k in range(1, npub + 1):\n",
    "        grid.append(item_str.format(k=k))\n",
    "    grid.append(\"  </div>\")\n",
    "    return '\\n'.join(grid)"
   ]
  },
  {
   "cell_type": "code",
   "execution_count": 13,
   "id": "a6eac5b6",
   "metadata": {
    "execution": {
     "iopub.execute_input": "2025-08-12T04:20:07.915293Z",
     "iopub.status.busy": "2025-08-12T04:20:07.915116Z",
     "iopub.status.idle": "2025-08-12T04:20:07.920079Z",
     "shell.execute_reply": "2025-08-12T04:20:07.919428Z"
    },
    "papermill": {
     "duration": 0.011826,
     "end_time": "2025-08-12T04:20:07.921047",
     "exception": false,
     "start_time": "2025-08-12T04:20:07.909221",
     "status": "completed"
    },
    "scrolled": false,
    "tags": []
   },
   "outputs": [],
   "source": [
    "carousel = create_carousel(npub)\n",
    "docs = ', '.join(['\"{0:s}\"'.format(k.split('/')[-1]) for k in res])\n",
    "slides = ', '.join([f'\"slide{k}\"' for k in range(1, npub + 1)])\n",
    "\n",
    "with open(\"daily_template.html\", \"r\") as tpl:\n",
    "    page = tpl.read()\n",
    "    page = page.replace(\"{%-- carousel:s --%}\", carousel)\\\n",
    "               .replace(\"{%-- suptitle:s --%}\",  \"7-day archives\" )\\\n",
    "               .replace(\"{%-- docs:s --%}\", docs)\\\n",
    "               .replace(\"{%-- slides:s --%}\", slides)\n",
    "    \n",
    "with open(\"_build/html/index_7days.html\", 'w') as fout:\n",
    "    fout.write(page)"
   ]
  },
  {
   "cell_type": "code",
   "execution_count": 14,
   "id": "adc1a1ec",
   "metadata": {
    "execution": {
     "iopub.execute_input": "2025-08-12T04:20:07.932676Z",
     "iopub.status.busy": "2025-08-12T04:20:07.932467Z",
     "iopub.status.idle": "2025-08-12T04:20:07.938331Z",
     "shell.execute_reply": "2025-08-12T04:20:07.937806Z"
    },
    "papermill": {
     "duration": 0.012697,
     "end_time": "2025-08-12T04:20:07.939306",
     "exception": false,
     "start_time": "2025-08-12T04:20:07.926609",
     "status": "completed"
    },
    "tags": []
   },
   "outputs": [
    {
     "name": "stdout",
     "output_type": "stream",
     "text": [
      "1  publications in the last day.\n"
     ]
    }
   ],
   "source": [
    "# redo for today\n",
    "days = 1\n",
    "res = list(get_last_n_days(dates, days))\n",
    "npub = len(res)\n",
    "print(len(res), f\" publications in the last day.\")\n",
    "\n",
    "carousel = create_carousel(npub)\n",
    "docs = ', '.join(['\"{0:s}\"'.format(k.split('/')[-1]) for k in res])\n",
    "slides = ', '.join([f'\"slide{k}\"' for k in range(1, npub + 1)])\n",
    "\n",
    "with open(\"daily_template.html\", \"r\") as tpl:\n",
    "    page = tpl.read()\n",
    "    page = page.replace(\"{%-- carousel:s --%}\", carousel)\\\n",
    "               .replace(\"{%-- suptitle:s --%}\",  \"Daily\" )\\\n",
    "               .replace(\"{%-- docs:s --%}\", docs)\\\n",
    "               .replace(\"{%-- slides:s --%}\", slides)\n",
    "    \n",
    "# print(carousel, docs, slides)\n",
    "# print(page)\n",
    "with open(\"_build/html/index_daily.html\", 'w') as fout:\n",
    "    fout.write(page)"
   ]
  },
  {
   "cell_type": "code",
   "execution_count": 15,
   "id": "00eece82",
   "metadata": {
    "execution": {
     "iopub.execute_input": "2025-08-12T04:20:07.951187Z",
     "iopub.status.busy": "2025-08-12T04:20:07.951013Z",
     "iopub.status.idle": "2025-08-12T04:20:07.956974Z",
     "shell.execute_reply": "2025-08-12T04:20:07.956412Z"
    },
    "papermill": {
     "duration": 0.012972,
     "end_time": "2025-08-12T04:20:07.957916",
     "exception": false,
     "start_time": "2025-08-12T04:20:07.944944",
     "status": "completed"
    },
    "scrolled": false,
    "tags": []
   },
   "outputs": [
    {
     "name": "stdout",
     "output_type": "stream",
     "text": [
      "6  6 publications selected.\n"
     ]
    }
   ],
   "source": [
    "# Create the flat grid of the last N papers (fixed number regardless of dates)\n",
    "from itertools import islice \n",
    "\n",
    "npub = 6\n",
    "res = [k[0] for k in (islice(reversed(sorted(dates, key=lambda x: x[1])), 6))]\n",
    "print(len(res), f\" {npub} publications selected.\")\n",
    "\n",
    "grid = create_grid(npub)\n",
    "docs = ', '.join(['\"{0:s}\"'.format(k.split('/')[-1]) for k in res])\n",
    "slides = ', '.join([f'\"slide{k}\"' for k in range(1, npub + 1)])\n",
    "\n",
    "with open(\"grid_template.html\", \"r\") as tpl:\n",
    "    page = tpl.read()\n",
    "    page = page.replace(\"{%-- grid-content:s --%}\", grid)\\\n",
    "               .replace(\"{%-- suptitle:s --%}\",  f\"Last {npub:,d} papers\" )\\\n",
    "               .replace(\"{%-- docs:s --%}\", docs)\\\n",
    "               .replace(\"{%-- slides:s --%}\", slides)\n",
    "    \n",
    "# print(grid, docs, slides)\n",
    "# print(page)\n",
    "with open(\"_build/html/index_npub_grid.html\", 'w') as fout:\n",
    "    fout.write(page)"
   ]
  }
 ],
 "metadata": {
  "kernelspec": {
   "display_name": "Python 3 (ipykernel)",
   "language": "python",
   "name": "python3"
  },
  "language_info": {
   "codemirror_mode": {
    "name": "ipython",
    "version": 3
   },
   "file_extension": ".py",
   "mimetype": "text/x-python",
   "name": "python",
   "nbconvert_exporter": "python",
   "pygments_lexer": "ipython3",
   "version": "3.9.23"
  },
  "papermill": {
   "default_parameters": {},
   "duration": 69.99302,
   "end_time": "2025-08-12T04:20:08.179445",
   "environment_variables": {},
   "exception": null,
   "input_path": "MPIA daily digest.ipynb",
   "output_path": "log.ipynb",
   "parameters": {},
   "start_time": "2025-08-12T04:18:58.186425",
   "version": "2.6.0"
  },
  "vscode": {
   "interpreter": {
    "hash": "aee8b7b246df8f9039afb4144a1f6fd8d2ca17a180786b69acc140d282b71a49"
   }
  },
  "widgets": {
   "application/vnd.jupyter.widget-state+json": {
    "state": {
     "0929ec11c3c04880a63c781f33085fe6": {
      "model_module": "@jupyter-widgets/controls",
      "model_module_version": "2.0.0",
      "model_name": "FloatProgressModel",
      "state": {
       "_dom_classes": [],
       "_model_module": "@jupyter-widgets/controls",
       "_model_module_version": "2.0.0",
       "_model_name": "FloatProgressModel",
       "_view_count": null,
       "_view_module": "@jupyter-widgets/controls",
       "_view_module_version": "2.0.0",
       "_view_name": "ProgressView",
       "bar_style": "success",
       "description": "",
       "description_allow_html": false,
       "layout": "IPY_MODEL_9d3ef9769f744df0a31577fe06bba3ca",
       "max": 8.0,
       "min": 0.0,
       "orientation": "horizontal",
       "style": "IPY_MODEL_e58240728c484582a4f7deb03eea83f4",
       "tabbable": null,
       "tooltip": null,
       "value": 8.0
      }
     },
     "21d59bc3ddbc4a78bfb1001af0b5b308": {
      "model_module": "@jupyter-widgets/base",
      "model_module_version": "2.0.0",
      "model_name": "LayoutModel",
      "state": {
       "_model_module": "@jupyter-widgets/base",
       "_model_module_version": "2.0.0",
       "_model_name": "LayoutModel",
       "_view_count": null,
       "_view_module": "@jupyter-widgets/base",
       "_view_module_version": "2.0.0",
       "_view_name": "LayoutView",
       "align_content": null,
       "align_items": null,
       "align_self": null,
       "border_bottom": null,
       "border_left": null,
       "border_right": null,
       "border_top": null,
       "bottom": null,
       "display": null,
       "flex": null,
       "flex_flow": null,
       "grid_area": null,
       "grid_auto_columns": null,
       "grid_auto_flow": null,
       "grid_auto_rows": null,
       "grid_column": null,
       "grid_gap": null,
       "grid_row": null,
       "grid_template_areas": null,
       "grid_template_columns": null,
       "grid_template_rows": null,
       "height": null,
       "justify_content": null,
       "justify_items": null,
       "left": null,
       "margin": null,
       "max_height": null,
       "max_width": null,
       "min_height": null,
       "min_width": null,
       "object_fit": null,
       "object_position": null,
       "order": null,
       "overflow": null,
       "padding": null,
       "right": null,
       "top": null,
       "visibility": null,
       "width": null
      }
     },
     "36d28e52bb804a348155e9b0945ffdf4": {
      "model_module": "@jupyter-widgets/controls",
      "model_module_version": "2.0.0",
      "model_name": "HTMLModel",
      "state": {
       "_dom_classes": [],
       "_model_module": "@jupyter-widgets/controls",
       "_model_module_version": "2.0.0",
       "_model_name": "HTMLModel",
       "_view_count": null,
       "_view_module": "@jupyter-widgets/controls",
       "_view_module_version": "2.0.0",
       "_view_name": "HTMLView",
       "description": "",
       "description_allow_html": false,
       "layout": "IPY_MODEL_7bd8b9375c054f818448dd8a89e5aaa7",
       "placeholder": "​",
       "style": "IPY_MODEL_6c6c25b8914f47bda5aa6b7c6d1dc028",
       "tabbable": null,
       "tooltip": null,
       "value": " 8/8 [00:43&lt;00:00,  8.18s/it]"
      }
     },
     "5f4a28c422084d41b33486fa4cff4278": {
      "model_module": "@jupyter-widgets/controls",
      "model_module_version": "2.0.0",
      "model_name": "HBoxModel",
      "state": {
       "_dom_classes": [],
       "_model_module": "@jupyter-widgets/controls",
       "_model_module_version": "2.0.0",
       "_model_name": "HBoxModel",
       "_view_count": null,
       "_view_module": "@jupyter-widgets/controls",
       "_view_module_version": "2.0.0",
       "_view_name": "HBoxView",
       "box_style": "",
       "children": [
        "IPY_MODEL_efef206a21f3490086e11677739bfba1",
        "IPY_MODEL_0929ec11c3c04880a63c781f33085fe6",
        "IPY_MODEL_36d28e52bb804a348155e9b0945ffdf4"
       ],
       "layout": "IPY_MODEL_21d59bc3ddbc4a78bfb1001af0b5b308",
       "tabbable": null,
       "tooltip": null
      }
     },
     "6c6c25b8914f47bda5aa6b7c6d1dc028": {
      "model_module": "@jupyter-widgets/controls",
      "model_module_version": "2.0.0",
      "model_name": "HTMLStyleModel",
      "state": {
       "_model_module": "@jupyter-widgets/controls",
       "_model_module_version": "2.0.0",
       "_model_name": "HTMLStyleModel",
       "_view_count": null,
       "_view_module": "@jupyter-widgets/base",
       "_view_module_version": "2.0.0",
       "_view_name": "StyleView",
       "background": null,
       "description_width": "",
       "font_size": null,
       "text_color": null
      }
     },
     "7bd8b9375c054f818448dd8a89e5aaa7": {
      "model_module": "@jupyter-widgets/base",
      "model_module_version": "2.0.0",
      "model_name": "LayoutModel",
      "state": {
       "_model_module": "@jupyter-widgets/base",
       "_model_module_version": "2.0.0",
       "_model_name": "LayoutModel",
       "_view_count": null,
       "_view_module": "@jupyter-widgets/base",
       "_view_module_version": "2.0.0",
       "_view_name": "LayoutView",
       "align_content": null,
       "align_items": null,
       "align_self": null,
       "border_bottom": null,
       "border_left": null,
       "border_right": null,
       "border_top": null,
       "bottom": null,
       "display": null,
       "flex": null,
       "flex_flow": null,
       "grid_area": null,
       "grid_auto_columns": null,
       "grid_auto_flow": null,
       "grid_auto_rows": null,
       "grid_column": null,
       "grid_gap": null,
       "grid_row": null,
       "grid_template_areas": null,
       "grid_template_columns": null,
       "grid_template_rows": null,
       "height": null,
       "justify_content": null,
       "justify_items": null,
       "left": null,
       "margin": null,
       "max_height": null,
       "max_width": null,
       "min_height": null,
       "min_width": null,
       "object_fit": null,
       "object_position": null,
       "order": null,
       "overflow": null,
       "padding": null,
       "right": null,
       "top": null,
       "visibility": null,
       "width": null
      }
     },
     "977dcd8260224ec4b396997d5c8c2581": {
      "model_module": "@jupyter-widgets/controls",
      "model_module_version": "2.0.0",
      "model_name": "HTMLStyleModel",
      "state": {
       "_model_module": "@jupyter-widgets/controls",
       "_model_module_version": "2.0.0",
       "_model_name": "HTMLStyleModel",
       "_view_count": null,
       "_view_module": "@jupyter-widgets/base",
       "_view_module_version": "2.0.0",
       "_view_name": "StyleView",
       "background": null,
       "description_width": "",
       "font_size": null,
       "text_color": null
      }
     },
     "9d042ca1c20c44949e10b281052fbcb1": {
      "model_module": "@jupyter-widgets/base",
      "model_module_version": "2.0.0",
      "model_name": "LayoutModel",
      "state": {
       "_model_module": "@jupyter-widgets/base",
       "_model_module_version": "2.0.0",
       "_model_name": "LayoutModel",
       "_view_count": null,
       "_view_module": "@jupyter-widgets/base",
       "_view_module_version": "2.0.0",
       "_view_name": "LayoutView",
       "align_content": null,
       "align_items": null,
       "align_self": null,
       "border_bottom": null,
       "border_left": null,
       "border_right": null,
       "border_top": null,
       "bottom": null,
       "display": null,
       "flex": null,
       "flex_flow": null,
       "grid_area": null,
       "grid_auto_columns": null,
       "grid_auto_flow": null,
       "grid_auto_rows": null,
       "grid_column": null,
       "grid_gap": null,
       "grid_row": null,
       "grid_template_areas": null,
       "grid_template_columns": null,
       "grid_template_rows": null,
       "height": null,
       "justify_content": null,
       "justify_items": null,
       "left": null,
       "margin": null,
       "max_height": null,
       "max_width": null,
       "min_height": null,
       "min_width": null,
       "object_fit": null,
       "object_position": null,
       "order": null,
       "overflow": null,
       "padding": null,
       "right": null,
       "top": null,
       "visibility": null,
       "width": null
      }
     },
     "9d3ef9769f744df0a31577fe06bba3ca": {
      "model_module": "@jupyter-widgets/base",
      "model_module_version": "2.0.0",
      "model_name": "LayoutModel",
      "state": {
       "_model_module": "@jupyter-widgets/base",
       "_model_module_version": "2.0.0",
       "_model_name": "LayoutModel",
       "_view_count": null,
       "_view_module": "@jupyter-widgets/base",
       "_view_module_version": "2.0.0",
       "_view_name": "LayoutView",
       "align_content": null,
       "align_items": null,
       "align_self": null,
       "border_bottom": null,
       "border_left": null,
       "border_right": null,
       "border_top": null,
       "bottom": null,
       "display": null,
       "flex": null,
       "flex_flow": null,
       "grid_area": null,
       "grid_auto_columns": null,
       "grid_auto_flow": null,
       "grid_auto_rows": null,
       "grid_column": null,
       "grid_gap": null,
       "grid_row": null,
       "grid_template_areas": null,
       "grid_template_columns": null,
       "grid_template_rows": null,
       "height": null,
       "justify_content": null,
       "justify_items": null,
       "left": null,
       "margin": null,
       "max_height": null,
       "max_width": null,
       "min_height": null,
       "min_width": null,
       "object_fit": null,
       "object_position": null,
       "order": null,
       "overflow": null,
       "padding": null,
       "right": null,
       "top": null,
       "visibility": null,
       "width": null
      }
     },
     "e58240728c484582a4f7deb03eea83f4": {
      "model_module": "@jupyter-widgets/controls",
      "model_module_version": "2.0.0",
      "model_name": "ProgressStyleModel",
      "state": {
       "_model_module": "@jupyter-widgets/controls",
       "_model_module_version": "2.0.0",
       "_model_name": "ProgressStyleModel",
       "_view_count": null,
       "_view_module": "@jupyter-widgets/base",
       "_view_module_version": "2.0.0",
       "_view_name": "StyleView",
       "bar_color": null,
       "description_width": ""
      }
     },
     "efef206a21f3490086e11677739bfba1": {
      "model_module": "@jupyter-widgets/controls",
      "model_module_version": "2.0.0",
      "model_name": "HTMLModel",
      "state": {
       "_dom_classes": [],
       "_model_module": "@jupyter-widgets/controls",
       "_model_module_version": "2.0.0",
       "_model_name": "HTMLModel",
       "_view_count": null,
       "_view_module": "@jupyter-widgets/controls",
       "_view_module_version": "2.0.0",
       "_view_name": "HTMLView",
       "description": "",
       "description_allow_html": false,
       "layout": "IPY_MODEL_9d042ca1c20c44949e10b281052fbcb1",
       "placeholder": "​",
       "style": "IPY_MODEL_977dcd8260224ec4b396997d5c8c2581",
       "tabbable": null,
       "tooltip": null,
       "value": "100%"
      }
     }
    },
    "version_major": 2,
    "version_minor": 0
   }
  }
 },
 "nbformat": 4,
 "nbformat_minor": 5
}