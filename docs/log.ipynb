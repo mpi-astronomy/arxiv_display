{
 "cells": [
  {
   "cell_type": "markdown",
   "id": "92bcb855",
   "metadata": {
    "papermill": {
     "duration": 0.004056,
     "end_time": "2024-10-29T04:11:02.531700",
     "exception": false,
     "start_time": "2024-10-29T04:11:02.527644",
     "status": "completed"
    },
    "tags": []
   },
   "source": [
    "# MPIA Arxiv on Deck 2\n",
    "\n",
    "Contains the steps to produce the paper extractions."
   ]
  },
  {
   "cell_type": "code",
   "execution_count": 1,
   "id": "3a0d6e11",
   "metadata": {
    "execution": {
     "iopub.execute_input": "2024-10-29T04:11:02.539660Z",
     "iopub.status.busy": "2024-10-29T04:11:02.539046Z",
     "iopub.status.idle": "2024-10-29T04:11:02.977714Z",
     "shell.execute_reply": "2024-10-29T04:11:02.977034Z"
    },
    "papermill": {
     "duration": 0.443937,
     "end_time": "2024-10-29T04:11:02.978981",
     "exception": false,
     "start_time": "2024-10-29T04:11:02.535044",
     "status": "completed"
    },
    "tags": []
   },
   "outputs": [],
   "source": [
    "# Imports\n",
    "import os\n",
    "from IPython.display import Markdown, display\n",
    "from tqdm.notebook import tqdm\n",
    "import warnings\n",
    "from PIL import Image \n",
    "import re\n",
    "\n",
    "# requires arxiv_on_deck_2\n",
    "\n",
    "from arxiv_on_deck_2.arxiv2 import (get_new_papers, \n",
    "                                    get_paper_from_identifier,\n",
    "                                    retrieve_document_source, \n",
    "                                    get_markdown_badge)\n",
    "from arxiv_on_deck_2 import (latex,\n",
    "                             latex_bib,\n",
    "                             mpia,\n",
    "                             highlight_authors_in_list)\n",
    "\n",
    "# Sometimes images are really big\n",
    "Image.MAX_IMAGE_PIXELS = 1000000000 "
   ]
  },
  {
   "cell_type": "code",
   "execution_count": 2,
   "id": "22aa9d44",
   "metadata": {
    "execution": {
     "iopub.execute_input": "2024-10-29T04:11:02.986748Z",
     "iopub.status.busy": "2024-10-29T04:11:02.986120Z",
     "iopub.status.idle": "2024-10-29T04:11:02.994578Z",
     "shell.execute_reply": "2024-10-29T04:11:02.994004Z"
    },
    "papermill": {
     "duration": 0.013352,
     "end_time": "2024-10-29T04:11:02.995613",
     "exception": false,
     "start_time": "2024-10-29T04:11:02.982261",
     "status": "completed"
    },
    "tags": []
   },
   "outputs": [],
   "source": [
    "# Some useful definitions.\n",
    "\n",
    "class AffiliationWarning(UserWarning):\n",
    "    pass\n",
    "\n",
    "class AffiliationError(RuntimeError):\n",
    "    pass\n",
    "\n",
    "def validation(source: str):\n",
    "    \"\"\"Raises error paper during parsing of source file\n",
    "    \n",
    "    Allows checks before parsing TeX code.\n",
    "    \n",
    "    Raises AffiliationWarning\n",
    "    \"\"\"\n",
    "    check = mpia.affiliation_verifications(source, verbose=True)\n",
    "    if check is not True:\n",
    "        raise AffiliationError(\"mpia.affiliation_verifications: \" + check)\n",
    "\n",
    "        \n",
    "warnings.simplefilter('always', AffiliationWarning)\n",
    "\n",
    "\n",
    "def get_markdown_qrcode(paper_id: str):\n",
    "    \"\"\" Generate a qrcode to the arxiv page using qrserver.com\n",
    "    \n",
    "    :param paper: Arxiv paper\n",
    "    :returns: markdown text\n",
    "    \"\"\"\n",
    "    url = r\"https://api.qrserver.com/v1/create-qr-code/?size=100x100&data=\"\n",
    "    txt = f\"\"\"<img src={url}\"https://arxiv.org/abs/{paper_id}\">\"\"\"\n",
    "    txt = '<div id=\"qrcode\">' + txt + '</div>'\n",
    "    return txt\n",
    "\n",
    "\n",
    "def clean_non_western_encoded_characters_commands(text: str) -> str:\n",
    "    \"\"\" Remove non-western encoded characters from a string\n",
    "    List may need to grow.\n",
    "    \n",
    "    :param text: the text to clean\n",
    "    :return: the cleaned text\n",
    "    \"\"\"\n",
    "    text = re.sub(r\"(\\\\begin{CJK}{UTF8}{gbsn})(.*?)(\\\\end{CJK})\", r\"\\2\", text)\n",
    "    return text\n",
    "\n",
    "\n",
    "def get_initials(name: str) -> str:\n",
    "    \"\"\" Get the short name, e.g., A.-B. FamName\n",
    "    :param name: full name\n",
    "    :returns: initials\n",
    "    \"\"\"\n",
    "    initials = []\n",
    "    # account for non western names often in ()\n",
    "    if '(' in name:\n",
    "        name = clean_non_western_encoded_characters_commands(name)\n",
    "        suffix = re.findall(r\"\\((.*?)\\)\", name)[0]\n",
    "        name = name.replace(f\"({suffix})\", '')\n",
    "    else:\n",
    "        suffix = ''\n",
    "    split = name.split()\n",
    "    for token in split[:-1]:\n",
    "        if '-' in token:\n",
    "            current = '-'.join([k[0] + '.' for k in token.split('-')])\n",
    "        else:\n",
    "            current = token[0] + '.'\n",
    "        initials.append(current)\n",
    "    initials.append(split[-1].strip())\n",
    "    if suffix:\n",
    "        initials.append(f\"({suffix})\")\n",
    "    return ' '.join(initials)"
   ]
  },
  {
   "cell_type": "markdown",
   "id": "14bd6310",
   "metadata": {
    "papermill": {
     "duration": 0.003025,
     "end_time": "2024-10-29T04:11:03.001852",
     "exception": false,
     "start_time": "2024-10-29T04:11:02.998827",
     "status": "completed"
    },
    "tags": []
   },
   "source": [
    "## get list of arxiv paper candidates\n",
    "\n",
    "We use the MPIA mitarbeiter list webpage from mpia.de to get author names\n",
    "We then get all new papers from Arxiv and match authors"
   ]
  },
  {
   "cell_type": "code",
   "execution_count": 3,
   "id": "7ea813a8",
   "metadata": {
    "execution": {
     "iopub.execute_input": "2024-10-29T04:11:03.009353Z",
     "iopub.status.busy": "2024-10-29T04:11:03.008663Z",
     "iopub.status.idle": "2024-10-29T04:11:19.330565Z",
     "shell.execute_reply": "2024-10-29T04:11:19.329879Z"
    },
    "papermill": {
     "duration": 16.327183,
     "end_time": "2024-10-29T04:11:19.332009",
     "exception": false,
     "start_time": "2024-10-29T04:11:03.004826",
     "status": "completed"
    },
    "tags": []
   },
   "outputs": [],
   "source": [
    "# deal with the author list and edge cases of people that cannot be consistent on their name  \n",
    "\n",
    "def filter_non_scientists(name: str) -> bool:\n",
    "    \"\"\" Loose filter on expected authorships\n",
    "\n",
    "    removing IT, administration, technical staff\n",
    "    :param name: name\n",
    "    :returns: False if name is not a scientist\n",
    "    \"\"\"\n",
    "    remove_list = ['Licht', 'Binroth', 'Witzel', 'Jordan',\n",
    "                   'Zähringer', 'Scheerer', 'Hoffmann', 'Düe',\n",
    "                   'Hellmich', 'Enkler-Scharpegge', 'Witte-Nguy',\n",
    "                   'Dehen', 'Beckmann', 'Jager', 'Jäger'\n",
    "                  ]\n",
    "\n",
    "    for k in remove_list:\n",
    "        if k in name:\n",
    "            return False\n",
    "    return True\n",
    "\n",
    "def add_author_to_list(author_list: list) -> list:\n",
    "    \"\"\" Add author to list if not already in list\n",
    "    \n",
    "    :param author: author name\n",
    "    :param author_list: list of authors\n",
    "    :returns: updated list of authors\n",
    "    \"\"\"\n",
    "    add_list = ['T. Henning']\n",
    "\n",
    "    for author in add_list:\n",
    "        if author not in author_list:\n",
    "            author_list.append(author)\n",
    "    return author_list\n",
    "\n",
    "# get list from MPIA website\n",
    "# filter for non-scientists (mpia.get_mpia_mitarbeiter_list() does some filtering)\n",
    "mpia_authors = [k[1] for k in mpia.get_mpia_mitarbeiter_list() if filter_non_scientists(k[1])]\n",
    "# add some missing author because of inconsistencies in their MPIA name and author name on papers\n",
    "mpia_authors = add_author_to_list(mpia_authors)"
   ]
  },
  {
   "cell_type": "code",
   "execution_count": 4,
   "id": "2645e73a",
   "metadata": {
    "execution": {
     "iopub.execute_input": "2024-10-29T04:11:19.339391Z",
     "iopub.status.busy": "2024-10-29T04:11:19.339131Z",
     "iopub.status.idle": "2024-10-29T04:11:20.163997Z",
     "shell.execute_reply": "2024-10-29T04:11:20.163286Z"
    },
    "papermill": {
     "duration": 0.829718,
     "end_time": "2024-10-29T04:11:20.165057",
     "exception": false,
     "start_time": "2024-10-29T04:11:19.335339",
     "status": "completed"
    },
    "tags": []
   },
   "outputs": [
    {
     "name": "stdout",
     "output_type": "stream",
     "text": [
      "E. Rohr  ->  E. Rohr  |  ['E. Rohr']\n",
      "A. Pillepich  ->  A. Pillepich  |  ['A. Pillepich']\n",
      "X. Zhang  ->  X. Zhang  |  ['X. Zhang']\n",
      "X. Zhang  ->  X. Zhang  |  ['X. Zhang']\n",
      "M. Fouesneau  ->  M. Fouesneau  |  ['M. Fouesneau']\n"
     ]
    },
    {
     "name": "stdout",
     "output_type": "stream",
     "text": [
      "J. Liu  ->  J. Liu  |  ['J. Liu']\n",
      "K. Lee  ->  K. Lee  |  ['K. Lee']\n",
      "K. Kreckel  ->  K. Kreckel  |  ['K. Kreckel']\n",
      "J. Liu  ->  J. Liu  |  ['J. Liu']\n",
      "K. Lee  ->  K. Lee  |  ['K. Lee']\n",
      "A. Winter  ->  A. Winter  |  ['A. Winter']\n",
      "J. Li  ->  J. Li  |  ['J. Li']\n",
      "J. Neumann  ->  J. Neumann  |  ['J. Neumann']\n",
      "Arxiv has 96 new papers today\n",
      "          12 with possible author matches\n"
     ]
    }
   ],
   "source": [
    "new_papers = get_new_papers()\n",
    "# add manual references\n",
    "add_paper_refs = []\n",
    "new_papers.extend([get_paper_from_identifier(k) for k in add_paper_refs])\n",
    "\n",
    "def robust_call(fn, value, *args, **kwargs):\n",
    "    try:\n",
    "        return fn(value, *args, **kwargs)\n",
    "    except Exception:\n",
    "        return value\n",
    "\n",
    "candidates = []\n",
    "for paperk in new_papers:\n",
    "    # Check author list with their initials\n",
    "    normed_author_list = [robust_call(mpia.get_initials, k) for k in paperk['authors']]\n",
    "    hl_authors = highlight_authors_in_list(normed_author_list, mpia_authors, verbose=True)\n",
    "    matches = [(hl, orig) for hl, orig in zip(hl_authors, paperk['authors']) if 'mark' in hl]\n",
    "    paperk['authors'] = hl_authors\n",
    "    if matches:\n",
    "        # only select paper if an author matched our list\n",
    "        candidates.append(paperk)\n",
    "print(\"\"\"Arxiv has {0:,d} new papers today\"\"\".format(len(new_papers)))        \n",
    "print(\"\"\"          {0:,d} with possible author matches\"\"\".format(len(candidates)))"
   ]
  },
  {
   "cell_type": "markdown",
   "id": "3543b34a",
   "metadata": {
    "papermill": {
     "duration": 0.003171,
     "end_time": "2024-10-29T04:11:20.171767",
     "exception": false,
     "start_time": "2024-10-29T04:11:20.168596",
     "status": "completed"
    },
    "tags": []
   },
   "source": [
    "# Parse sources and generate relevant outputs\n",
    "\n",
    "From the candidates, we do the following steps:\n",
    "* get their tarball from ArXiv (and extract data)\n",
    "* find the main .tex file: find one with \\documentclass{...} (sometimes it's non trivial)\n",
    "* Check affiliations with :func:`validation`, which uses :func:`mpia.affiliation_verifications`\n",
    "* If passing the affiliations: we parse the .tex source\n",
    "   * inject sub-documents into the main (flatten the main document)\n",
    "   * parse structure, extract information (title, abstract, authors, figures...)\n",
    "   * handles `\\graphicspath` if provided\n",
    "* Generate the .md document."
   ]
  },
  {
   "cell_type": "code",
   "execution_count": 5,
   "id": "9576b79e",
   "metadata": {
    "execution": {
     "iopub.execute_input": "2024-10-29T04:11:20.179030Z",
     "iopub.status.busy": "2024-10-29T04:11:20.178655Z",
     "iopub.status.idle": "2024-10-29T04:12:23.624324Z",
     "shell.execute_reply": "2024-10-29T04:12:23.623546Z"
    },
    "papermill": {
     "duration": 63.450475,
     "end_time": "2024-10-29T04:12:23.625395",
     "exception": false,
     "start_time": "2024-10-29T04:11:20.174920",
     "status": "completed"
    },
    "scrolled": false,
    "tags": []
   },
   "outputs": [
    {
     "data": {
      "application/vnd.jupyter.widget-view+json": {
       "model_id": "b26145f5603c4546a0789a8687a46530",
       "version_major": 2,
       "version_minor": 0
      },
      "text/plain": [
       "  0%|          | 0/12 [00:00<?, ?it/s]"
      ]
     },
     "metadata": {},
     "output_type": "display_data"
    },
    {
     "name": "stdout",
     "output_type": "stream",
     "text": [
      "Retrieving document from  https://arxiv.org/e-print/2410.19900\n"
     ]
    },
    {
     "name": "stdout",
     "output_type": "stream",
     "text": [
      "extracting tarball to tmp_2410.19900..."
     ]
    },
    {
     "name": "stdout",
     "output_type": "stream",
     "text": [
      " done.\n"
     ]
    },
    {
     "name": "stderr",
     "output_type": "stream",
     "text": [
      "/opt/hostedtoolcache/Python/3.9.20/x64/lib/python3.9/site-packages/arxiv_on_deck_2/latex.py:132: LatexWarning: attempting recovering figure figures/TNG-Cluster_CoolGasDensity-M200cz01e15_evolution.pdf\n",
      "  warnings.warn(LatexWarning(f'attempting recovering figure {image}'))\n",
      "/opt/hostedtoolcache/Python/3.9.20/x64/lib/python3.9/site-packages/arxiv_on_deck_2/latex.py:707: LatexWarning: Could not find graphic \\includegraphics[width=\\columnwidth]{figures/TNG-Cluster_CoolGasDensity-M200cz01e15_evolution.pdf}\n",
      "  warnings.warn(LatexWarning(f\"Could not find graphic {k}\"))\n",
      "/opt/hostedtoolcache/Python/3.9.20/x64/lib/python3.9/site-packages/arxiv_on_deck_2/latex.py:132: LatexWarning: attempting recovering figure figures/TNG-Cluster_M200ct_ICMCGMt_fICMCGMt_CosmicTime-Redshift_Evolution.pdf\n",
      "  warnings.warn(LatexWarning(f'attempting recovering figure {image}'))\n",
      "/opt/hostedtoolcache/Python/3.9.20/x64/lib/python3.9/site-packages/arxiv_on_deck_2/latex.py:707: LatexWarning: Could not find graphic \\includegraphics[width=\\columnwidth]{figures/TNG-Cluster_M200ct_ICMCGMt_fICMCGMt_CosmicTime-Redshift_Evolution.pdf}\n",
      "  warnings.warn(LatexWarning(f\"Could not find graphic {k}\"))\n",
      "/opt/hostedtoolcache/Python/3.9.20/x64/lib/python3.9/site-packages/arxiv_on_deck_2/latex.py:132: LatexWarning: attempting recovering figure figures/TNG-Cluster_haloID06913365_ICMTemperatureHistogram_CoolGasDensity_evolution.pdf\n",
      "  warnings.warn(LatexWarning(f'attempting recovering figure {image}'))\n",
      "/opt/hostedtoolcache/Python/3.9.20/x64/lib/python3.9/site-packages/arxiv_on_deck_2/latex.py:707: LatexWarning: Could not find graphic \\includegraphics[width=\\columnwidth]{figures/TNG-Cluster_haloID06913365_ICMTemperatureHistogram_CoolGasDensity_evolution.pdf}\n",
      "  warnings.warn(LatexWarning(f\"Could not find graphic {k}\"))\n",
      "/opt/hostedtoolcache/Python/3.9.20/x64/lib/python3.9/site-packages/arxiv_on_deck_2/latex.py:132: LatexWarning: attempting recovering figure figures/TNG-Cluster_haloID06913365_ICMTemperatureHistogram_CoolGasDensity_MainBH_CumEgyInjection_RM_evolution.pdf\n",
      "  warnings.warn(LatexWarning(f'attempting recovering figure {image}'))\n",
      "/opt/hostedtoolcache/Python/3.9.20/x64/lib/python3.9/site-packages/arxiv_on_deck_2/latex.py:707: LatexWarning: Could not find graphic \\includegraphics[width=\\columnwidth]{figures/TNG-Cluster_haloID06913365_ICMTemperatureHistogram_CoolGasDensity_MainBH_CumEgyInjection_RM_evolution.pdf}\n",
      "  warnings.warn(LatexWarning(f\"Could not find graphic {k}\"))\n",
      "/opt/hostedtoolcache/Python/3.9.20/x64/lib/python3.9/site-packages/arxiv_on_deck_2/latex.py:132: LatexWarning: attempting recovering figure figures/TNG-Cluster_CoolGasDensity_redshift0.pdf\n",
      "  warnings.warn(LatexWarning(f'attempting recovering figure {image}'))\n",
      "/opt/hostedtoolcache/Python/3.9.20/x64/lib/python3.9/site-packages/arxiv_on_deck_2/latex.py:707: LatexWarning: Could not find graphic \\includegraphics[width=\\columnwidth]{figures/TNG-Cluster_CoolGasDensity_redshift0.pdf}\n",
      "  warnings.warn(LatexWarning(f\"Could not find graphic {k}\"))\n",
      "/opt/hostedtoolcache/Python/3.9.20/x64/lib/python3.9/site-packages/arxiv_on_deck_2/latex.py:132: LatexWarning: attempting recovering figure figures/TNG-Cluster_CumulativeCoolGasRadProf_redshift0.pdf\n",
      "  warnings.warn(LatexWarning(f'attempting recovering figure {image}'))\n",
      "/opt/hostedtoolcache/Python/3.9.20/x64/lib/python3.9/site-packages/arxiv_on_deck_2/latex.py:707: LatexWarning: Could not find graphic \\includegraphics[width=\\columnwidth]{figures/TNG-Cluster_CumulativeCoolGasRadProf_redshift0.pdf}\n",
      "  warnings.warn(LatexWarning(f\"Could not find graphic {k}\"))\n",
      "/opt/hostedtoolcache/Python/3.9.20/x64/lib/python3.9/site-packages/arxiv_on_deck_2/latex.py:132: LatexWarning: attempting recovering figure TNG-Cluster_M200cz01e15_ICMGasTemperatureHistogramMass_evolution\n",
      "  warnings.warn(LatexWarning(f'attempting recovering figure {image}'))\n",
      "/opt/hostedtoolcache/Python/3.9.20/x64/lib/python3.9/site-packages/arxiv_on_deck_2/latex.py:137: LatexWarning: Recovered figure TNG-Cluster_M200cz01e15_ICMGasTemperatureHistogramMass_evolution as tmp_2410.19900/figures/TNG-Cluster_M200cz01e15_ICMGasTemperatureHistogramMass_evolution.pdf\n",
      "  warnings.warn(LatexWarning(f'Recovered figure {image} as {fname}'))\n",
      "/opt/hostedtoolcache/Python/3.9.20/x64/lib/python3.9/site-packages/arxiv_on_deck_2/latex.py:132: LatexWarning: attempting recovering figure figures/TNG-Cluster_ICMCoolGasMass-M200c_ICMCoolGasFraction-M200c_CoolICMFraction-M200c_evolution.pdf\n",
      "  warnings.warn(LatexWarning(f'attempting recovering figure {image}'))\n",
      "/opt/hostedtoolcache/Python/3.9.20/x64/lib/python3.9/site-packages/arxiv_on_deck_2/latex.py:707: LatexWarning: Could not find graphic \\includegraphics[width=\\textwidth]{figures/TNG-Cluster_ICMCoolGasMass-M200c_ICMCoolGasFraction-M200c_CoolICMFraction-M200c_evolution.pdf}\n",
      "  warnings.warn(LatexWarning(f\"Could not find graphic {k}\"))\n"
     ]
    },
    {
     "name": "stderr",
     "output_type": "stream",
     "text": [
      "/opt/hostedtoolcache/Python/3.9.20/x64/lib/python3.9/site-packages/arxiv_on_deck_2/latex.py:132: LatexWarning: attempting recovering figure figures/TNG-Cluster_CoolGasSurfaceDensityMapsMosaic_m200c_evolution.pdf\n",
      "  warnings.warn(LatexWarning(f'attempting recovering figure {image}'))\n",
      "/opt/hostedtoolcache/Python/3.9.20/x64/lib/python3.9/site-packages/arxiv_on_deck_2/latex.py:707: LatexWarning: Could not find graphic \\includegraphics[width=\\textwidth]{figures/TNG-Cluster_CoolGasSurfaceDensityMapsMosaic_m200c_evolution.pdf}\n",
      "  warnings.warn(LatexWarning(f\"Could not find graphic {k}\"))\n"
     ]
    },
    {
     "name": "stderr",
     "output_type": "stream",
     "text": [
      "/opt/hostedtoolcache/Python/3.9.20/x64/lib/python3.9/site-packages/arxiv_on_deck_2/latex.py:132: LatexWarning: attempting recovering figure figures/TNG-Cluster_CoolingTime-FreeFallTime-RadProf-M200cz01e15_FractionCoolingICM-M200c_evolution.pdf\n",
      "  warnings.warn(LatexWarning(f'attempting recovering figure {image}'))\n",
      "/opt/hostedtoolcache/Python/3.9.20/x64/lib/python3.9/site-packages/arxiv_on_deck_2/latex.py:707: LatexWarning: Could not find graphic \\includegraphics[]{figures/TNG-Cluster_CoolingTime-FreeFallTime-RadProf-M200cz01e15_FractionCoolingICM-M200c_evolution.pdf}\n",
      "  warnings.warn(LatexWarning(f\"Could not find graphic {k}\"))\n",
      "/opt/hostedtoolcache/Python/3.9.20/x64/lib/python3.9/site-packages/arxiv_on_deck_2/latex.py:132: LatexWarning: attempting recovering figure figures/TNG-Cluster_ICMCGM-ICMCGf_M200c_NSatellites_Mstar1.0e9_fgas0.01_dsathostR200c_Evolution.pdf\n",
      "  warnings.warn(LatexWarning(f'attempting recovering figure {image}'))\n",
      "/opt/hostedtoolcache/Python/3.9.20/x64/lib/python3.9/site-packages/arxiv_on_deck_2/latex.py:707: LatexWarning: Could not find graphic \\includegraphics[width=\\textwidth]{figures/TNG-Cluster_ICMCGM-ICMCGf_M200c_NSatellites_Mstar1.0e9_fgas0.01_dsathostR200c_Evolution.pdf}\n",
      "  warnings.warn(LatexWarning(f\"Could not find graphic {k}\"))\n",
      "/opt/hostedtoolcache/Python/3.9.20/x64/lib/python3.9/site-packages/arxiv_on_deck_2/latex.py:132: LatexWarning: attempting recovering figure figures/TNG-Cluster_NSatellites_Mstar1.0e9_fgas0.01_dsathostR200c_CosmicTime-Redshift_Evolution.pdf\n",
      "  warnings.warn(LatexWarning(f'attempting recovering figure {image}'))\n",
      "/opt/hostedtoolcache/Python/3.9.20/x64/lib/python3.9/site-packages/arxiv_on_deck_2/latex.py:707: LatexWarning: Could not find graphic \\includegraphics[]{figures/TNG-Cluster_NSatellites_Mstar1.0e9_fgas0.01_dsathostR200c_CosmicTime-Redshift_Evolution.pdf}\n",
      "  warnings.warn(LatexWarning(f\"Could not find graphic {k}\"))\n",
      "/opt/hostedtoolcache/Python/3.9.20/x64/lib/python3.9/site-packages/arxiv_on_deck_2/latex.py:132: LatexWarning: attempting recovering figure figures/TNG-Cluster_coolICMMass_TimeSinceFirstSMBHRM_evolution.pdf\n",
      "  warnings.warn(LatexWarning(f'attempting recovering figure {image}'))\n",
      "/opt/hostedtoolcache/Python/3.9.20/x64/lib/python3.9/site-packages/arxiv_on_deck_2/latex.py:707: LatexWarning: Could not find graphic \\includegraphics[width=\\textwidth]{figures/TNG-Cluster_coolICMMass_TimeSinceFirstSMBHRM_evolution.pdf}\n",
      "  warnings.warn(LatexWarning(f\"Could not find graphic {k}\"))\n",
      "/opt/hostedtoolcache/Python/3.9.20/x64/lib/python3.9/site-packages/arxiv_on_deck_2/latex.py:132: LatexWarning: attempting recovering figure figures/TNG-Cluster_ICMCGM-ICMCGf_M200c_MainBHMass_Evolution.pdf\n",
      "  warnings.warn(LatexWarning(f'attempting recovering figure {image}'))\n",
      "/opt/hostedtoolcache/Python/3.9.20/x64/lib/python3.9/site-packages/arxiv_on_deck_2/latex.py:707: LatexWarning: Could not find graphic \\includegraphics[width=\\textwidth]{figures/TNG-Cluster_ICMCGM-ICMCGf_M200c_MainBHMass_Evolution.pdf}\n",
      "  warnings.warn(LatexWarning(f\"Could not find graphic {k}\"))\n",
      "/opt/hostedtoolcache/Python/3.9.20/x64/lib/python3.9/site-packages/arxiv_on_deck_2/latex.py:132: LatexWarning: attempting recovering figure figures/L680n8192TNG_SFRSurfaceDensityMap_evolution.pdf\n",
      "  warnings.warn(LatexWarning(f'attempting recovering figure {image}'))\n",
      "/opt/hostedtoolcache/Python/3.9.20/x64/lib/python3.9/site-packages/arxiv_on_deck_2/latex.py:707: LatexWarning: Could not find graphic \\includegraphics[width=\\textwidth]{figures/L680n8192TNG_SFRSurfaceDensityMap_evolution.pdf}\n",
      "  warnings.warn(LatexWarning(f\"Could not find graphic {k}\"))\n",
      "/opt/hostedtoolcache/Python/3.9.20/x64/lib/python3.9/site-packages/arxiv_on_deck_2/latex.py:132: LatexWarning: attempting recovering figure figures/TNG-Cluster_ICMSFR-M200c_ICMSFR-CoolICMMass-M200c_evolution.pdf\n",
      "  warnings.warn(LatexWarning(f'attempting recovering figure {image}'))\n",
      "/opt/hostedtoolcache/Python/3.9.20/x64/lib/python3.9/site-packages/arxiv_on_deck_2/latex.py:707: LatexWarning: Could not find graphic \\includegraphics[]{figures/TNG-Cluster_ICMSFR-M200c_ICMSFR-CoolICMMass-M200c_evolution.pdf}\n",
      "  warnings.warn(LatexWarning(f\"Could not find graphic {k}\"))\n",
      "/opt/hostedtoolcache/Python/3.9.20/x64/lib/python3.9/site-packages/arxiv_on_deck_2/latex.py:132: LatexWarning: attempting recovering figure figures/L680n8192TNG_MgiiColDensComparison_evolution.pdf\n",
      "  warnings.warn(LatexWarning(f'attempting recovering figure {image}'))\n",
      "/opt/hostedtoolcache/Python/3.9.20/x64/lib/python3.9/site-packages/arxiv_on_deck_2/latex.py:707: LatexWarning: Could not find graphic \\includegraphics[width=0.9\\textwidth]{figures/L680n8192TNG_MgiiColDensComparison_evolution.pdf}\n",
      "  warnings.warn(LatexWarning(f\"Could not find graphic {k}\"))\n",
      "/opt/hostedtoolcache/Python/3.9.20/x64/lib/python3.9/site-packages/arxiv_on_deck_2/latex.py:132: LatexWarning: attempting recovering figure figures/TNG-Cluster_MgiiColDensRadProf_multipanel.pdf\n",
      "  warnings.warn(LatexWarning(f'attempting recovering figure {image}'))\n",
      "/opt/hostedtoolcache/Python/3.9.20/x64/lib/python3.9/site-packages/arxiv_on_deck_2/latex.py:707: LatexWarning: Could not find graphic \\includegraphics[width=\\textwidth]{figures/TNG-Cluster_MgiiColDensRadProf_multipanel.pdf}\n",
      "  warnings.warn(LatexWarning(f\"Could not find graphic {k}\"))\n",
      "/opt/hostedtoolcache/Python/3.9.20/x64/lib/python3.9/site-packages/arxiv_on_deck_2/latex.py:132: LatexWarning: attempting recovering figure figures/TNG-Cluster_SubhaloColdGasDensityShells-M200cz01e15_evolution_normalizations.pdf\n",
      "  warnings.warn(LatexWarning(f'attempting recovering figure {image}'))\n",
      "/opt/hostedtoolcache/Python/3.9.20/x64/lib/python3.9/site-packages/arxiv_on_deck_2/latex.py:707: LatexWarning: Could not find graphic \\includegraphics[width=\\textwidth]{figures/TNG-Cluster_SubhaloColdGasDensityShells-M200cz01e15_evolution_normalizations.pdf}\n",
      "  warnings.warn(LatexWarning(f\"Could not find graphic {k}\"))\n",
      "/opt/hostedtoolcache/Python/3.9.20/x64/lib/python3.9/site-packages/arxiv_on_deck_2/latex.py:132: LatexWarning: attempting recovering figure figures/TNG-Cluster_ICMCGM-Nsats_M200c_NSatellites_Mstar1.0e10_fgas0.01_dsathostR200c_evolution.pdf\n",
      "  warnings.warn(LatexWarning(f'attempting recovering figure {image}'))\n",
      "/opt/hostedtoolcache/Python/3.9.20/x64/lib/python3.9/site-packages/arxiv_on_deck_2/latex.py:707: LatexWarning: Could not find graphic \\includegraphics[]{figures/TNG-Cluster_ICMCGM-Nsats_M200c_NSatellites_Mstar1.0e10_fgas0.01_dsathostR200c_evolution.pdf}\n",
      "  warnings.warn(LatexWarning(f\"Could not find graphic {k}\"))\n",
      "/opt/hostedtoolcache/Python/3.9.20/x64/lib/python3.9/site-packages/arxiv_on_deck_2/latex.py:132: LatexWarning: attempting recovering figure figures/TNG-Cluster_ICMCGM-Nsats_M200c_NSatellties_Mstar1.0e9_dsathostR200c_evolution.pdf\n",
      "  warnings.warn(LatexWarning(f'attempting recovering figure {image}'))\n",
      "/opt/hostedtoolcache/Python/3.9.20/x64/lib/python3.9/site-packages/arxiv_on_deck_2/latex.py:707: LatexWarning: Could not find graphic \\includegraphics[]{figures/TNG-Cluster_ICMCGM-Nsats_M200c_NSatellties_Mstar1.0e9_dsathostR200c_evolution.pdf}\n",
      "  warnings.warn(LatexWarning(f\"Could not find graphic {k}\"))\n",
      "/opt/hostedtoolcache/Python/3.9.20/x64/lib/python3.9/site-packages/arxiv_on_deck_2/latex.py:132: LatexWarning: attempting recovering figure figures/TNG-Cluster_ICMCGM_M200c_SMBHAltDefs_Evolution.pdf\n",
      "  warnings.warn(LatexWarning(f'attempting recovering figure {image}'))\n",
      "/opt/hostedtoolcache/Python/3.9.20/x64/lib/python3.9/site-packages/arxiv_on_deck_2/latex.py:707: LatexWarning: Could not find graphic \\includegraphics[]{figures/TNG-Cluster_ICMCGM_M200c_SMBHAltDefs_Evolution.pdf}\n",
      "  warnings.warn(LatexWarning(f\"Could not find graphic {k}\"))\n"
     ]
    },
    {
     "name": "stdout",
     "output_type": "stream",
     "text": [
      "Found 178 bibliographic references in tmp_2410.19900/main.bbl.\n",
      "Issues with the citations\n",
      "syntax error in line 830: '=' expected\n",
      "Retrieving document from  https://arxiv.org/e-print/2410.20121\n"
     ]
    },
    {
     "name": "stdout",
     "output_type": "stream",
     "text": [
      "extracting tarball to tmp_2410.20121... done.\n",
      "Retrieving document from  https://arxiv.org/e-print/2410.20413\n"
     ]
    },
    {
     "name": "stdout",
     "output_type": "stream",
     "text": [
      "extracting tarball to tmp_2410.20413..."
     ]
    },
    {
     "name": "stdout",
     "output_type": "stream",
     "text": [
      " done.\n",
      "Retrieving document from  https://arxiv.org/e-print/2410.20454\n"
     ]
    },
    {
     "name": "stdout",
     "output_type": "stream",
     "text": [
      "extracting tarball to tmp_2410.20454..."
     ]
    },
    {
     "name": "stdout",
     "output_type": "stream",
     "text": [
      " done.\n",
      "Retrieving document from  https://arxiv.org/e-print/2410.20684\n"
     ]
    },
    {
     "name": "stdout",
     "output_type": "stream",
     "text": [
      "extracting tarball to tmp_2410.20684... done.\n",
      "Retrieving document from  https://arxiv.org/e-print/2410.20700\n"
     ]
    },
    {
     "name": "stdout",
     "output_type": "stream",
     "text": [
      "extracting tarball to tmp_2410.20700..."
     ]
    },
    {
     "name": "stdout",
     "output_type": "stream",
     "text": [
      " done.\n",
      "Retrieving document from  https://arxiv.org/e-print/2410.20819\n"
     ]
    },
    {
     "name": "stdout",
     "output_type": "stream",
     "text": [
      "extracting tarball to tmp_2410.20819..."
     ]
    },
    {
     "name": "stdout",
     "output_type": "stream",
     "text": [
      " done.\n",
      "  0: tmp_2410.20819/main.tex, 867 lines\n",
      "  1: tmp_2410.20819/natbib.tex, 96 lines\n",
      "  2: tmp_2410.20819/aassymbols.tex, 579 lines\n",
      "Retrieving document from  https://arxiv.org/e-print/2410.20834\n"
     ]
    },
    {
     "name": "stderr",
     "output_type": "stream",
     "text": [
      "/opt/hostedtoolcache/Python/3.9.20/x64/lib/python3.9/site-packages/IPython/core/interactiveshell.py:3550: LatexWarning: Multiple tex files.\n",
      "\n",
      "  exec(code_obj, self.user_global_ns, self.user_ns)\n",
      "/opt/hostedtoolcache/Python/3.9.20/x64/lib/python3.9/site-packages/IPython/core/interactiveshell.py:3550: LatexWarning: Found 3 candidates with documentclass definition.\n",
      "  exec(code_obj, self.user_global_ns, self.user_ns)\n",
      "/opt/hostedtoolcache/Python/3.9.20/x64/lib/python3.9/site-packages/IPython/core/interactiveshell.py:3550: LatexWarning: Assuming tmp_2410.20819/main.tex as main document.\n",
      "  exec(code_obj, self.user_global_ns, self.user_ns)\n"
     ]
    },
    {
     "name": "stdout",
     "output_type": "stream",
     "text": [
      "extracting tarball to tmp_2410.20834..."
     ]
    },
    {
     "name": "stdout",
     "output_type": "stream",
     "text": [
      " done.\n",
      "Retrieving document from  https://arxiv.org/e-print/2410.20842\n"
     ]
    },
    {
     "name": "stdout",
     "output_type": "stream",
     "text": [
      "extracting tarball to tmp_2410.20842..."
     ]
    },
    {
     "name": "stdout",
     "output_type": "stream",
     "text": [
      " done.\n",
      "Retrieving document from  https://arxiv.org/e-print/2410.21018\n"
     ]
    },
    {
     "name": "stdout",
     "output_type": "stream",
     "text": [
      "extracting tarball to tmp_2410.21018..."
     ]
    },
    {
     "name": "stdout",
     "output_type": "stream",
     "text": [
      " done.\n",
      "Retrieving document from  https://arxiv.org/e-print/2410.21038\n"
     ]
    },
    {
     "name": "stdout",
     "output_type": "stream",
     "text": [
      "extracting tarball to tmp_2410.21038..."
     ]
    },
    {
     "name": "stdout",
     "output_type": "stream",
     "text": [
      " done.\n",
      "Retrieving document from  https://arxiv.org/e-print/2410.21147\n"
     ]
    },
    {
     "name": "stdout",
     "output_type": "stream",
     "text": [
      "extracting tarball to tmp_2410.21147..."
     ]
    },
    {
     "name": "stdout",
     "output_type": "stream",
     "text": [
      " done.\n",
      "  0: tmp_2410.21147/natnotes.tex, 332 lines\n",
      "  1: tmp_2410.21147/main.tex, 829 lines\n",
      "  2: tmp_2410.21147/natbib.tex, 96 lines\n",
      "  3: tmp_2410.21147/aassymbols.tex, 579 lines\n"
     ]
    },
    {
     "name": "stderr",
     "output_type": "stream",
     "text": [
      "/opt/hostedtoolcache/Python/3.9.20/x64/lib/python3.9/site-packages/IPython/core/interactiveshell.py:3550: LatexWarning: Multiple tex files.\n",
      "\n",
      "  exec(code_obj, self.user_global_ns, self.user_ns)\n",
      "/opt/hostedtoolcache/Python/3.9.20/x64/lib/python3.9/site-packages/IPython/core/interactiveshell.py:3550: LatexWarning: Found 4 candidates with documentclass definition.\n",
      "  exec(code_obj, self.user_global_ns, self.user_ns)\n",
      "/opt/hostedtoolcache/Python/3.9.20/x64/lib/python3.9/site-packages/IPython/core/interactiveshell.py:3550: LatexWarning: Assuming tmp_2410.21147/main.tex as main document.\n",
      "  exec(code_obj, self.user_global_ns, self.user_ns)\n"
     ]
    },
    {
     "name": "stdout",
     "output_type": "stream",
     "text": [
      "J. Neumann  ->  J. Neumann  |  ['J. Neumann']\n"
     ]
    },
    {
     "name": "stderr",
     "output_type": "stream",
     "text": [
      "/opt/hostedtoolcache/Python/3.9.20/x64/lib/python3.9/site-packages/arxiv_on_deck_2/latex.py:132: LatexWarning: attempting recovering figure c1_vs_vt\n",
      "  warnings.warn(LatexWarning(f'attempting recovering figure {image}'))\n",
      "/opt/hostedtoolcache/Python/3.9.20/x64/lib/python3.9/site-packages/arxiv_on_deck_2/latex.py:137: LatexWarning: Recovered figure c1_vs_vt as tmp_2410.21147/./c1_vs_vt.png\n",
      "  warnings.warn(LatexWarning(f'Recovered figure {image} as {fname}'))\n"
     ]
    },
    {
     "name": "stderr",
     "output_type": "stream",
     "text": [
      "/opt/hostedtoolcache/Python/3.9.20/x64/lib/python3.9/site-packages/arxiv_on_deck_2/latex.py:132: LatexWarning: attempting recovering figure sample\n",
      "  warnings.warn(LatexWarning(f'attempting recovering figure {image}'))\n",
      "/opt/hostedtoolcache/Python/3.9.20/x64/lib/python3.9/site-packages/arxiv_on_deck_2/latex.py:137: LatexWarning: Recovered figure sample as tmp_2410.21147/./sample.png\n",
      "  warnings.warn(LatexWarning(f'Recovered figure {image} as {fname}'))\n"
     ]
    },
    {
     "name": "stdout",
     "output_type": "stream",
     "text": [
      "Found 53 bibliographic references in tmp_2410.21147/main.bbl.\n"
     ]
    }
   ],
   "source": [
    "documents = []\n",
    "failed = []\n",
    "for paper in tqdm(candidates):\n",
    "    # debug crap\n",
    "    paper['identifier'] = paper['identifier'].lower().replace('arxiv:', '').replace(r'\\n', '').strip()\n",
    "    paper_id = paper['identifier']\n",
    "    \n",
    "    folder = f'tmp_{paper_id}'\n",
    "\n",
    "    try:\n",
    "        if not os.path.isdir(folder):\n",
    "            folder = retrieve_document_source(f\"{paper_id}\", f'tmp_{paper_id}')\n",
    "        \n",
    "        try:\n",
    "            doc = latex.LatexDocument(folder, validation=validation)    \n",
    "        except AffiliationError as affilerror:\n",
    "            msg = f\"ArXiv:{paper_id:s} is not an MPIA paper... \" + str(affilerror)\n",
    "            failed.append((paper, \"affiliation error: \" + str(affilerror) ))\n",
    "            continue\n",
    "        \n",
    "        # Hack because sometimes author parsing does not work well\n",
    "        if (len(doc.authors) != len(paper['authors'])):\n",
    "            doc._authors = paper['authors']\n",
    "        else:\n",
    "            # highlight authors (FIXME: doc.highlight_authors)\n",
    "            # done on arxiv paper already\n",
    "            doc._authors = highlight_authors_in_list(\n",
    "                [get_initials(k) for k in doc.authors], \n",
    "                mpia_authors, verbose=True)\n",
    "        if (doc.abstract) in (None, ''):\n",
    "            doc._abstract = paper['abstract']\n",
    "            \n",
    "        doc.comment = (get_markdown_badge(paper_id) + \n",
    "                       \"<mark>Appeared on: \" + paper['date'] + \"</mark> - \")\n",
    "        if paper['comments']:\n",
    "            doc.comment += \" _\" + paper['comments'] + \"_\"\n",
    "        \n",
    "        full_md = doc.generate_markdown_text()\n",
    "        \n",
    "        full_md += get_markdown_qrcode(paper_id)\n",
    "        \n",
    "        # replace citations\n",
    "        try:\n",
    "            bibdata = latex_bib.LatexBib.from_doc(doc)\n",
    "            full_md = latex_bib.replace_citations(full_md, bibdata)\n",
    "        except Exception as e:\n",
    "            print(\"Issues with the citations\")\n",
    "            print(e)\n",
    "        \n",
    "        documents.append((paper_id, full_md))\n",
    "    except Exception as e:\n",
    "        warnings.warn(latex.LatexWarning(f\"{paper_id:s} did not run properly\\n\" +\n",
    "                                         str(e)\n",
    "                                        ))\n",
    "        failed.append((paper, \"latex error \" + str(e)))"
   ]
  },
  {
   "cell_type": "markdown",
   "id": "2505a25c",
   "metadata": {
    "papermill": {
     "duration": 0.00491,
     "end_time": "2024-10-29T04:12:23.635534",
     "exception": false,
     "start_time": "2024-10-29T04:12:23.630624",
     "status": "completed"
    },
    "tags": []
   },
   "source": [
    "### Export the logs\n",
    "\n",
    "Throughout, we also keep track of the logs per paper. see `logs-{today date}.md` "
   ]
  },
  {
   "cell_type": "code",
   "execution_count": 6,
   "id": "d733828a",
   "metadata": {
    "execution": {
     "iopub.execute_input": "2024-10-29T04:12:23.646723Z",
     "iopub.status.busy": "2024-10-29T04:12:23.646119Z",
     "iopub.status.idle": "2024-10-29T04:12:23.670697Z",
     "shell.execute_reply": "2024-10-29T04:12:23.670031Z"
    },
    "papermill": {
     "duration": 0.031339,
     "end_time": "2024-10-29T04:12:23.671758",
     "exception": false,
     "start_time": "2024-10-29T04:12:23.640419",
     "status": "completed"
    },
    "scrolled": false,
    "tags": []
   },
   "outputs": [
    {
     "data": {
      "text/markdown": [
       "## Successful papers"
      ],
      "text/plain": [
       "<IPython.core.display.Markdown object>"
      ]
     },
     "metadata": {},
     "output_type": "display_data"
    },
    {
     "data": {
      "text/markdown": [
       "\n",
       "|||\n",
       "|---:|:---|\n",
       "| [![arXiv](https://img.shields.io/badge/arXiv-2410.19900-b31b1b.svg)](https://arxiv.org/abs/2410.19900) | **The cooler past of the intracluster medium in TNG-Cluster**  |\n",
       "|| <mark>E. Rohr</mark>, et al. -- incl., <mark>A. Pillepich</mark> |\n",
       "|*Appeared on*| *2024-10-29*|\n",
       "|*Comments*| *Resubmitted to MNRAS after initial positive referee report. See further TNG-Cluster papers from Marine Prunier and Urmila Chadayammuri over the next days and on the TNG-Cluster website: this https URL*|\n",
       "|**Abstract**|            The intracluster medium (ICM) today is comprised largely of hot gas with clouds of cooler gas of unknown origin and lifespan. We analyze the evolution of cool gas (temperatures $\\lesssim10^{4.5}$ K) in the ICM of 352 galaxy clusters from the TNG-Cluster simulations, with present-day mass $\\sim10^{14.3-15.4}\\,{\\rm M_\\odot}$. We follow the main progenitors of these clusters over the past $\\sim13$ billion years (since $z\\lesssim7$) and find that, according to TNG-Cluster, the cool ICM mass increases with redshift at fixed cluster mass, implying that this cooler past of the ICM is due to more than just halo growth. The cool cluster gas at $z\\lesssim0.5$ is mostly located in and around satellite galaxies, while at $z\\gtrsim2$ cool gas can also accrete via filaments from the intergalactic medium. Lower-mass and higher-redshift clusters are more susceptible to cooling. The cool ICM mass correlates with the number of gaseous satellites and inversely with the central supermassive black hole (SMBH) mass. The average number of gaseous satellites decreases since $z=2$, correlating with the decline in the cool ICM mass over cosmic time, suggesting a link between the two. Concurrently, kinetic SMBH feedback shifts the ICM temperature distribution, decreasing the cool ICM mass inside-out. At $z\\approx0.5$, the predicted MgII column densities are in the ballpark of recent observations, where satellites and other halos contribute significantly to the total MgII column density. Suggestively, a non-negligible amount of the ICM cool gas forms stars in-situ at early times, reaching $\\sim10^{2}\\,{\\rm M_\\odot}\\,{\\rm yr^{-1}}$ and an H$\\alpha$ surface brightness of $\\sim10^{-17}\\,{\\rm~erg\\,s^{-1}\\,cm^{-2}\\,arcsec^{-2}}$ at $z\\approx2$, detectable with Euclid and JWST.         |"
      ],
      "text/plain": [
       "[2410.19900] The cooler past of the intracluster medium in TNG-Cluster\n",
       "\t<mark>E. Rohr</mark>, et al. -- incl., <mark>A. Pillepich</mark>"
      ]
     },
     "metadata": {},
     "output_type": "display_data"
    },
    {
     "data": {
      "text/markdown": [
       "\n",
       "|||\n",
       "|---:|:---|\n",
       "| [![arXiv](https://img.shields.io/badge/arXiv-2410.21147-b31b1b.svg)](https://arxiv.org/abs/2410.21147) | **On the role of non-circular motions in MaNGA galaxies I: global properties**  |\n",
       "|| C. Lopez-Coba, L. Lin, <mark>J. Neumann</mark>, M. A. Bershady |\n",
       "|*Appeared on*| *2024-10-29*|\n",
       "|*Comments*| *13 pages, 10 figures. Accepted for publication in ApJ*|\n",
       "|**Abstract**|            Non-circular (NC) motions represent the imprints of non-axisymmetric structures in galaxies, providing opportunities to study the physical properties of gas departing from circular rotation. In this work, we have conducted a systematic study of the non-circular motions in a sample of 1624 gas-rich disk galaxies from the MaNGA MPL-11. By using the H$\\alpha$ velocity as a tracer of the disk rotation, we find indications that the amplitude of the non-circular motions is related to the stellar mass, with the low mass and late-type galaxies the most affected. In our sample, we find ratios of circular to non-circular rotation ranging from 5% to 20%. By implementing harmonic models to include NC motions associated with spiral arms and stellar bars, we find that the rotational curves traced with H$\\alpha$ are barely affected by the NC induced by these structures. Consequently, in our sample, we do not find evidence that NC motions contribute to the scatter of the stellar Tully-Fisher relation. Our results suggest that non-circular motions might have a more localized effect in galaxies rather than a global one.         |"
      ],
      "text/plain": [
       "[2410.21147] On the role of non-circular motions in MaNGA galaxies I: global properties\n",
       "\tC. Lopez-Coba, L. Lin, <mark>J. Neumann</mark>, M. A. Bershady"
      ]
     },
     "metadata": {},
     "output_type": "display_data"
    },
    {
     "data": {
      "text/markdown": [
       "## Failed papers"
      ],
      "text/plain": [
       "<IPython.core.display.Markdown object>"
      ]
     },
     "metadata": {},
     "output_type": "display_data"
    },
    {
     "data": {
      "text/markdown": [
       "\n",
       "|||\n",
       "|---:|:---|\n",
       "| [![arXiv](https://img.shields.io/badge/arXiv-2410.20819-b31b1b.svg)](https://arxiv.org/abs/2410.20819) | **Analyzing the Abundance Discrepancy Problem in HII Regions with Photoionization Modeling**  |\n",
       "|| A. Nemer, et al. -- incl., <mark>K. Kreckel</mark> |\n",
       "|*Appeared on*| *2024-10-29*|\n",
       "|*Comments*| **|\n",
       "|**Abstract**|            Understanding the complex ionization structure and chemical composition of \\hii\\ regions poses a significant challenge in astrophysics. The abundance discrepancy problem, characterized by inconsistencies between abundances derived from recombination lines (RLs) and collisionally excited lines (CELs), has long been a puzzle in the field. In this theoretical study, we present novel photoionization models that incorporate temperature, density, and chemical inhomogeneities within a single cloud to comprehensively address this discrepancy. By accounting for the intricate interplay between ionization, excitation, and chemistry, our models successfully reproduce both observed RLs and CELs with with an average difference between our models and the observations of 25% -- within uncertainties inherent in Galactic archival long-slit and new SDSS-V Local Volume Mapper observations. Through comparisons between generic inhomogeneous model predictions and observations, demonstrating the ability of our theoretical framework to analyze the abundance discrepancy problem within \\hii\\ regions. Our results highlight the importance of incorporating spatially resolved temperature, density, and chemical structures when interpreting the physical processes governing emission line spectra in these astrophysical environments.         |\n",
       "|<p style=\"color:green\"> **ERROR** </p>| <p style=\"color:green\">affiliation error: mpia.affiliation_verifications: '69117' keyword not found.</p> |"
      ],
      "text/plain": [
       "<IPython.core.display.Markdown object>"
      ]
     },
     "metadata": {},
     "output_type": "display_data"
    },
    {
     "data": {
      "text/markdown": [
       "\n",
       "|||\n",
       "|---:|:---|\n",
       "| [![arXiv](https://img.shields.io/badge/arXiv-2410.20121-b31b1b.svg)](https://arxiv.org/abs/2410.20121) | **Postprocessing of tilt-to-length noise with coefficient drifts in TianQin using a null time-delay interferometry channel**  |\n",
       "|| Z. Wang, et al. -- incl., <mark>X. Zhang</mark> |\n",
       "|*Appeared on*| *2024-10-29*|\n",
       "|*Comments*| **|\n",
       "|**Abstract**|            Tilt-to-length (TTL) coupling is expected to be one of the major noise sources in the interferometric phase readouts in TianQin mission. Arising from the angular motion of spacecraft (SC) and the onboard movable optical subassemblies (MOSAs), TTL noise needs to be removed in postprocessing after suppressing the laser phase noise with time-delay interferometry (TDI) technique. In this article, we show that we can estimate the TTL coupling coefficients using the null TDI channel {\\zeta} and remove the TTL noise in the commonly used Michelson variables with the estimated coefficients. We introduce the theoretical model of TTL noise in TDI and consider linear drifts in the linear TTL coefficients for noise estimation and subtraction. The TTL coefficients with drifts are estimated successfully with an accuracy of 10 {\\mu}m/rad in our numerical simulation. We discuss the impact of point-ahead angle compensation error and wavefront error, and find it necessary to estimate linear drift coefficients and quadratic TTL coefficients to keep TTL noise residuals below the 0.3 pm noise reference curve. However, the estimation accuracy suffers greatly from the correlation between yaw jitter measurements that contain the same SC jitter. Assuming all angular jitters induced by MOSAs are independent, choosing a frequency range with relatively higher MOSA yaw jitter noise levels is beneficial to the TTL coefficient estimation.         |\n",
       "|<p style=\"color:green\"> **ERROR** </p>| <p style=\"color:green\">affiliation error: mpia.affiliation_verifications: 'Heidelberg' keyword not found.</p> |"
      ],
      "text/plain": [
       "<IPython.core.display.Markdown object>"
      ]
     },
     "metadata": {},
     "output_type": "display_data"
    },
    {
     "data": {
      "text/markdown": [
       "\n",
       "|||\n",
       "|---:|:---|\n",
       "| [![arXiv](https://img.shields.io/badge/arXiv-2410.20413-b31b1b.svg)](https://arxiv.org/abs/2410.20413) | **The Polar Stratosphere of Jupiter**  |\n",
       "|| V. Hue, et al. -- incl., <mark>X. Zhang</mark> |\n",
       "|*Appeared on*| *2024-10-29*|\n",
       "|*Comments*| *Accepted for publication in Space Science Reviews. 65 pages, 20 figures (including appendix)*|\n",
       "|**Abstract**|            Observations of the Jovian upper atmosphere at high latitudes in the UV, IR and mm/sub-mm all indicate that the chemical distributions and thermal structure are broadly influenced by auroral particle precipitations. Mid-IR and UV observations have shown that several light hydrocarbons (up to 6 carbon atoms) have altered abundances near Jupiter's main auroral ovals. Ion-neutral reactions influence the hydrocarbon chemistry, with light hydrocarbons produced in the upper stratosphere, and heavier hydrocarbons as well as aerosols produced in the lower stratosphere. One consequence of the magnetosphere-ionosphere coupling is the existence of ionospheric jets that propagate into the neutral middle stratosphere, likely acting as a dynamical barrier to the aurora-produced species. As the ionospheric jets and the background atmosphere do not co-rotate at the same rate, this creates a complex system where chemistry and dynamics are intertwined. The ion-neutral reactions produce species with a spatial distribution following the SIII longitude system in the upper stratosphere. As these species sediment down to the lower stratosphere, and because of the progressive dynamical decoupling between the ionospheric flows and the background atmosphere, the spatial distribution of the auroral-related species progressively follows a zonal distribution with increasing pressures that ultimately produces a system of polar and subpolar hazes that extends down to the bottom of the stratosphere. This paper reviews the most recent work addressing different aspects of this environment.         |\n",
       "|<p style=\"color:green\"> **ERROR** </p>| <p style=\"color:green\">affiliation error: mpia.affiliation_verifications: 'Heidelberg' keyword not found.</p> |"
      ],
      "text/plain": [
       "<IPython.core.display.Markdown object>"
      ]
     },
     "metadata": {},
     "output_type": "display_data"
    },
    {
     "data": {
      "text/markdown": [
       "\n",
       "|||\n",
       "|---:|:---|\n",
       "| [![arXiv](https://img.shields.io/badge/arXiv-2410.20684-b31b1b.svg)](https://arxiv.org/abs/2410.20684) | **Ionized Carbon in Galaxies: The [C II] 158 $\\mu$m Line as a Total Molecular Gas Mass Tracer Revisited**  |\n",
       "|| Y. Zhao, <mark>J. Liu</mark>, Z.-Y. Zhang, T. G. Bisbas |\n",
       "|*Appeared on*| *2024-10-29*|\n",
       "|*Comments*| *Accepted for publication in ApJ; 18 pages, 2 tables and 8 figures*|\n",
       "|**Abstract**|            In this paper we present a statistical study of the [C II] 158 $\\mu$m line and the CO(1-0) emission for a sample of $\\sim$200 local and high-$z$ (32 sources with $z>1$) galaxies with much different physical conditions. We explore the correlation between the luminosities of [C II] and CO(1-0) lines, and obtain a strong linear relationship, confirming that [C II] is able to trace total molecular gas mass, with a small difference between (U)LIRGs and less-luminous galaxies. The tight and linear relation between [C II] and CO(1-0) is likely determined by the average value of the observed visual extinction $A_V$ and the range of $G_0/n$ in galaxies. Further investigations into the dependence of $L_{\\mathrm{[CII]}}/L_{\\mathrm{CO(1-0)}}$ on different physical properties show that $L_{\\mathrm{[CII]}}/L_{\\mathrm{CO(1-0)}}$ (1) anti-correlates with $\\Sigma_{\\mathrm{IR}}$, and the correlation becomes steeper when $\\Sigma_{\\mathrm{IR}} \\gtrsim 10^{11}$ $L_\\odot\\,\\mathrm{kpc}^{-2}$; (2) correlates positively with the distance from the main sequence $\\Delta(\\mathrm{MS})$ when $\\Delta(\\mathrm{MS})\\lesssim 0$; and (3) tends to show a systematically smaller value in systems where the [C II] emission is dominated by ionized gas. Our results imply that caution needs to be taken when applying a constant [[C II]-to-$M_{\\mathrm{H_2}}$ conversion factor to estimate the molecular gas content in extreme cases, such as galaxies having low-level star formation activity or high SFR surface density.         |\n",
       "|<p style=\"color:green\"> **ERROR** </p>| <p style=\"color:green\">affiliation error: mpia.affiliation_verifications: 'Heidelberg' keyword not found.</p> |"
      ],
      "text/plain": [
       "<IPython.core.display.Markdown object>"
      ]
     },
     "metadata": {},
     "output_type": "display_data"
    },
    {
     "data": {
      "text/markdown": [
       "\n",
       "|||\n",
       "|---:|:---|\n",
       "| [![arXiv](https://img.shields.io/badge/arXiv-2410.20700-b31b1b.svg)](https://arxiv.org/abs/2410.20700) | **Deciphering Gas Dynamics and Star Formation in a z=1.1 Main Sequence Spiral Galaxy with ALMA and JWST**  |\n",
       "|| Z. Liu, et al. -- incl., <mark>K. Lee</mark> |\n",
       "|*Appeared on*| *2024-10-29*|\n",
       "|*Comments*| *Submitted to ApJ*|\n",
       "|**Abstract**|            We present a joint analysis of high-resolution CO(2-1) and Paschen-$\\alpha$ emission lines to trace gas dynamics and spatially resolved star formation in ASPECS-LP.3mm.06, a $z=1.1$ main sequence galaxy. Utilizing data from the ALMA and JWST NIRCam Wide Field Slitless Spectroscopy (WFSS), we explore both ionized gas and molecular gas within this galaxy. With a substantial molecular gas fraction (f$_\\mathrm{mol}$ = 0.44 $\\pm$ 0.02), ASPECS-LP.3mm.06 remains on the star-forming main sequence and adheres to the Kennicutt-Schmidt (KS) relation, indicating typical gas-to-star conversion efficiency. Our analysis reveals extended structures across multiple wavelengths, suggesting regulated star formation within a stable disk. The spatially resolved star formation efficiency (SFE) and kinematic analysis indicate that ASPECS-LP.3mm.06 features a smooth mass assembly process across bulge and disk. Additionally, the galaxy exhibits modest dust extinction (A$_\\mathrm{V}$ = 0.8), potentially linked to self-regulation during bulge formation. These findings position ASPECS-LP.3mm.06 as a prototypical galaxy, offering valuable insights into the mechanisms governing normal disk galaxy growth at z$\\sim$1.         |\n",
       "|<p style=\"color:green\"> **ERROR** </p>| <p style=\"color:green\">affiliation error: mpia.affiliation_verifications: 'Heidelberg' keyword not found.</p> |"
      ],
      "text/plain": [
       "<IPython.core.display.Markdown object>"
      ]
     },
     "metadata": {},
     "output_type": "display_data"
    },
    {
     "data": {
      "text/markdown": [
       "\n",
       "|||\n",
       "|---:|:---|\n",
       "| [![arXiv](https://img.shields.io/badge/arXiv-2410.20834-b31b1b.svg)](https://arxiv.org/abs/2410.20834) | **KIC 10855535: An elegant Delta Scuti pulsator with Amplitude and Phase Modulation**  |\n",
       "|| L. Shen, et al. -- incl., <mark>J. Liu</mark> |\n",
       "|*Appeared on*| *2024-10-29*|\n",
       "|*Comments*| **|\n",
       "|**Abstract**|            We investigated the pulsating behavior of KIC 10855535 using Kepler 4-year long cadence data. Two independent frequencies were detected: a pulsation frequency F0 = 17.733260(5)d-1 and a low frequency f8=0.412643(8)d-1 We identify F0 as the fundamental frequency, at which a equidistant quintuplet is centered, suggesting that the star orbits in a binary system. The fitted orbital parameters align well with those reported in previous literature. Long-term phase modulation caused by binarity has been confirmed by considering TESS light curve. Through adjusting light time via removing the light time effect, we measured a linear change in period of order $\\dot{P}/P \\simeq 1.44\\times 10^{-7}yr^{-1}$, a value that could be indicative of stellar evolution. The star also exhibits a gradual and stable amplitude growth, thereby raising the possibility of structural changes during its evolution. We attributed f8 and its two harmonics to rotation and surface spots, with further analysis suggesting evolving characteristics over time. Based on the hypothesis, KIC 10855535 may rotate slowly for its type, with a speed of 37(2)km/s. Overall, KIC 10855535 presents an exceptionally clean spectrum and a relatively slow rotation as a {\\delta} Sct pulsator, exhibiting a single pulsation mode that undergoes both amplitude and phase modulation.         |\n",
       "|<p style=\"color:green\"> **ERROR** </p>| <p style=\"color:green\">affiliation error: mpia.affiliation_verifications: 'Heidelberg' keyword not found.</p> |"
      ],
      "text/plain": [
       "<IPython.core.display.Markdown object>"
      ]
     },
     "metadata": {},
     "output_type": "display_data"
    },
    {
     "data": {
      "text/markdown": [
       "\n",
       "|||\n",
       "|---:|:---|\n",
       "| [![arXiv](https://img.shields.io/badge/arXiv-2410.20842-b31b1b.svg)](https://arxiv.org/abs/2410.20842) | **Implication of a galaxy-scale negative feedback by one of the most powerful multi-phase outflows in a hyper-luminous infrared galaxy at the intermediate redshift**  |\n",
       "|| X. Chen, et al. -- incl., <mark>K. Lee</mark> |\n",
       "|*Appeared on*| *2024-10-29*|\n",
       "|*Comments*| *35 pages, 26 figures, submitted to ApJ*|\n",
       "|**Abstract**|            Powerful, galactic outflows driven by Active Galactic Nuclei (AGNs) are commonly considered as a main mechanism to regulate star formation in massive galaxies. Ultra- and hyper-luminous IR galaxies (U/HyLIRGs) are thought to represent a transition phase of galaxies from a rapidly growing period to a quiescent status as gas swept out by outflows, providing a laboratory to investigate outflows and their feedback effects on the hosts. In this paper we report recent Gemini and ALMA observations of a HyLIRG, J1126 at $z=0.46842$, which has been identified with a puzzling co-existence of a fast ionized outflow ($>2000$ km s$^{-1}$) and an intense starburst (star formation rate of 800 $M_{\\odot}$ yr$^{-1}$). The Gemini observation shows the fast ionized outflow is extended to several kpc with a mass-loss rate of 180 $M_{\\odot}$ yr$^{-1}$. A massive molecular outflow with a high mass-loss rate (2500 $M_{\\odot}$ yr$^{-1}$) is revealed by ALMA. The multi-phase outflows show large factors of momentum boost and loading of kinetic power, indicating a driving by thermal pressure of a nuclear hot wind and/or radiation pressure of a highly obscured AGN. In addition to ejection of kinetic energy, it is also found that the powerful outflow can induce an ionizing shock in the galaxy disk and enhance the excitation and dissociation of molecular gas. The powerful outflow probably results in an instantaneous negative feedback and shows potential to regulate the host growth in a long term.         |\n",
       "|<p style=\"color:green\"> **ERROR** </p>| <p style=\"color:green\">affiliation error: mpia.affiliation_verifications: 'Heidelberg' keyword not found.</p> |"
      ],
      "text/plain": [
       "<IPython.core.display.Markdown object>"
      ]
     },
     "metadata": {},
     "output_type": "display_data"
    },
    {
     "data": {
      "text/markdown": [
       "\n",
       "|||\n",
       "|---:|:---|\n",
       "| [![arXiv](https://img.shields.io/badge/arXiv-2410.21018-b31b1b.svg)](https://arxiv.org/abs/2410.21018) | **A tell-tale tracer for externally irradiated protoplanetary disks: comparing the [CI] 8727 A line and ALMA observations in proplyds**  |\n",
       "|| M.-L. Aru, et al. -- incl., <mark>A. Winter</mark> |\n",
       "|*Appeared on*| *2024-10-29*|\n",
       "|*Comments*| *Accepted to A&A on October 25, 2024*|\n",
       "|**Abstract**|            The evolution of protoplanetary disks in regions with massive OB stars is influenced by externally driven winds that deplete the outer parts of disks. These winds have previously been studied via forbidden oxygen emission lines, which also arise in isolated disks in low-mass star forming-regions (SFRs) with weak external UV fields in photoevaporative or magnetic (internal) disk winds. It is crucial to determine how to disentangle external winds from internal ones. Here, we report a proxy for unambiguously identifying externally driven winds with a forbidden line of neutral atomic carbon, [C i] 8727 A. We compare for the first time the spatial location of the emission in the [O i] 5577 A, [O i] 6300 A, and [C i] 8727 A lines traced by VLT/MUSE-NFM, with the ALMA Band 7 continuum disk emission in a sample of 12 proplyds in the Orion Nebula Cluster (ONC). We confirm that the [O i] 5577 A emission is co-spatial with the disk emission, whereas the [O i] 6300 A is emitted both on the disk surface and on the ionization front of the proplyds. We show for the first time that the [C i] 8727 A line is also co-spatial with the disk surface in proplyds, as seen in the MUSE and ALMA data comparison. To verify whether the [C i] 8727 A line is detected in regions where external photoevaporation is not expected, we examine VLT/X-Shooter spectra for young stars in low-mass SFRs. Although the [O i] lines are well detected in all these targets, there is <<10% detection rate in the case of the [C i] 8727 A line. This number increases substantially to a ~40% detection rate in sigma-Orionis, a region with intermediate UV radiation. The spatial location of the [C i] 8727 A line emission and the lack of its detection in isolated disks in low-mass SFRs strongly suggest that this line is a tell-trace tracer of externally driven photoevaporative winds, which agrees with recent excitation models.         |\n",
       "|<p style=\"color:green\"> **ERROR** </p>| <p style=\"color:green\">affiliation error: mpia.affiliation_verifications: 'Heidelberg' keyword not found.</p> |"
      ],
      "text/plain": [
       "<IPython.core.display.Markdown object>"
      ]
     },
     "metadata": {},
     "output_type": "display_data"
    },
    {
     "data": {
      "text/markdown": [
       "\n",
       "|||\n",
       "|---:|:---|\n",
       "| [![arXiv](https://img.shields.io/badge/arXiv-2410.21038-b31b1b.svg)](https://arxiv.org/abs/2410.21038) | **Analysis of the possible detection of the pulsar wind nebulae of PSR J1208-6238, J1341-6220, J1838-0537 and J1844-0346**  |\n",
       "|| W. Zhang, et al. -- incl., <mark>J. Li</mark> |\n",
       "|*Appeared on*| *2024-10-29*|\n",
       "|*Comments*| *9 pages, 6 figures*|\n",
       "|**Abstract**|            Context. Pulsar wind nebulae (PWNe) are a source of very high energy (VHE) radiation that can reach up to TeV and even PeV energies. Our work uses the pulsar tree, a graph theory tool recently presented to analyze the pulsar population to select the candidates of interest. Aims. We aim to discover possible detectable PWNe. We also aim to test to what extent the pulsar tree groups detectable PWNe despite it considering only pulsars' intrinsic properties. Methods. We select four pulsars as candidates for TeV PWNe based on their positions in the pulsar tree. Using observed and assumed ranges of values for relevant parameters, we anticipate possible spectral energy distributions (SEDs) of the PWNe of four pulsars (PSR J1208-6238, J1341-6220, J1838-0537, and J1844-0346) via a detailed time-dependent, leptonic model that was already found appropriate to describe almost all other detected nebulae. Results. We estimate the likelihood of detection for the four candidates studied by comparing the TeV fluxes predicted by the possible models with the sensitivities of different observatories. In doing so, we provide context for analyzing the advantages and caveats of the pulsar tree position as a marker for properties that go beyond the intrinsic features of pulsars that are considered in producing it.         |\n",
       "|<p style=\"color:green\"> **ERROR** </p>| <p style=\"color:green\">affiliation error: mpia.affiliation_verifications: 'Heidelberg' keyword not found.</p> |"
      ],
      "text/plain": [
       "<IPython.core.display.Markdown object>"
      ]
     },
     "metadata": {},
     "output_type": "display_data"
    },
    {
     "data": {
      "text/markdown": [
       "\n",
       "|||\n",
       "|---:|:---|\n",
       "| [![arXiv](https://img.shields.io/badge/arXiv-2410.20454-b31b1b.svg)](https://arxiv.org/abs/2410.20454) | **The Local Ultraviolet to Infrared Treasury I. Survey Overview of the Broadband Imaging**  |\n",
       "|| K. M. Gilbert, et al. -- incl., <mark>M. Fouesneau</mark> |\n",
       "|*Appeared on*| *2024-10-29*|\n",
       "|*Comments*| *48 pages, 14 figures, 8 tables, accepted for publication in ApJS*|\n",
       "|**Abstract**|            The Local Ultraviolet to Infrared Treasury (LUVIT) is a Hubble Space Telescope program that combines newly acquired data in the near ultraviolet (NUV), optical, and near infrared (NIR) with archival optical and NIR imaging to produce multiband panchromatic resolved stellar catalogs for 23 pointings in 22 low-mass, star-forming galaxies ranging in distance from the outskirts of the Local Group to ~3.8 Mpc. We describe the survey design, detail the LUVIT broadband filter observations and the archival datasets included in the LUVIT reductions, and summarize the simultaneous multiband data reduction steps. The spatial distributions and color-magnitude diagrams (CMDs) from the resulting stellar catalogs are presented for each target, from the NUV to the NIR. We demonstrate in which regions of the CMDs stars with NUV and optical, optical and NIR, and NUV through NIR detections reside. For each target, we use the results from artificial star tests to measure representative completeness, bias, and total photometric uncertainty as a function of magnitude in each broadband filter. We also assess which LUVIT targets have significant spatial variation in the fraction of stars recovered at a given magnitude. The panchromatic LUVIT stellar catalogs will provide a rich legacy dataset for a host of resolved stellar population studies.         |\n",
       "|<p style=\"color:green\"> **ERROR** </p>| <p style=\"color:green\">affiliation error: mpia.affiliation_verifications: 'Planck' keyword not found.</p> |"
      ],
      "text/plain": [
       "<IPython.core.display.Markdown object>"
      ]
     },
     "metadata": {},
     "output_type": "display_data"
    }
   ],
   "source": [
    "import datetime\n",
    "today = str(datetime.date.today())\n",
    "logfile = f\"_build/html/logs/log-{today}.md\"\n",
    "\n",
    "\n",
    "with open(logfile, 'w') as logs:\n",
    "    # Success\n",
    "    logs.write(f'# Arxiv on Deck 2: Logs - {today}\\n\\n')\n",
    "    logs.write(\"\"\"* Arxiv had {0:,d} new papers\\n\"\"\".format(len(new_papers)))\n",
    "    logs.write(\"\"\"    * {0:,d} with possible author matches\\n\\n\"\"\".format(len(candidates)))\n",
    "    logs.write(\"## Sucessful papers\\n\\n\")\n",
    "    display(Markdown(\"## Successful papers\"))\n",
    "    success = [k[0] for k in documents]\n",
    "    for candid in candidates:\n",
    "        if candid['identifier'].split(':')[-1] in success:\n",
    "            display(candid)\n",
    "            logs.write(candid.generate_markdown_text() + '\\n\\n')\n",
    "\n",
    "    ## failed\n",
    "    logs.write(\"## Failed papers\\n\\n\")\n",
    "    display(Markdown(\"## Failed papers\"))\n",
    "    failed = sorted(failed, key=lambda x: x[1])\n",
    "    current_reason = \"\"\n",
    "    for paper, reason in failed:\n",
    "        if 'affiliation' in reason:\n",
    "            color = 'green'\n",
    "        else:\n",
    "            color = 'red'\n",
    "        data = Markdown(\n",
    "                paper.generate_markdown_text() + \n",
    "                f'\\n|<p style=\"color:{color:s}\"> **ERROR** </p>| <p style=\"color:{color:s}\">{reason:s}</p> |'\n",
    "               )\n",
    "        if reason != current_reason:\n",
    "            logs.write(f'### {reason:s} \\n\\n')\n",
    "            current_reason = reason\n",
    "        logs.write(data.data + '\\n\\n')\n",
    "        \n",
    "        # only display here the important errors (all in logs)\n",
    "        # if color in ('red',):\n",
    "        display(data)"
   ]
  },
  {
   "cell_type": "markdown",
   "id": "472d20ee",
   "metadata": {
    "papermill": {
     "duration": 0.00615,
     "end_time": "2024-10-29T04:12:23.684671",
     "exception": false,
     "start_time": "2024-10-29T04:12:23.678521",
     "status": "completed"
    },
    "tags": []
   },
   "source": [
    "## Export documents\n",
    "\n",
    "We now write the .md files and export relevant images"
   ]
  },
  {
   "cell_type": "code",
   "execution_count": 7,
   "id": "d426aed9",
   "metadata": {
    "execution": {
     "iopub.execute_input": "2024-10-29T04:12:23.698222Z",
     "iopub.status.busy": "2024-10-29T04:12:23.697767Z",
     "iopub.status.idle": "2024-10-29T04:12:23.704679Z",
     "shell.execute_reply": "2024-10-29T04:12:23.704137Z"
    },
    "papermill": {
     "duration": 0.014753,
     "end_time": "2024-10-29T04:12:23.705643",
     "exception": false,
     "start_time": "2024-10-29T04:12:23.690890",
     "status": "completed"
    },
    "tags": []
   },
   "outputs": [],
   "source": [
    "def export_markdown_summary(md: str, md_fname:str, directory: str):\n",
    "    \"\"\"Export MD document and associated relevant images\"\"\"\n",
    "    import os\n",
    "    import shutil\n",
    "    import re\n",
    "\n",
    "    if (os.path.exists(directory) and not os.path.isdir(directory)):\n",
    "        raise RuntimeError(f\"a non-directory file exists with name {directory:s}\")\n",
    "\n",
    "    if (not os.path.exists(directory)):\n",
    "        print(f\"creating directory {directory:s}\")\n",
    "        os.mkdir(directory)\n",
    "\n",
    "    fig_fnames = (re.compile(r'\\[Fig.*\\]\\((.*)\\)').findall(md) + \n",
    "                  re.compile(r'\\<img src=\"([^>\\s]*)\"[^>]*/>').findall(md))\n",
    "    print(\"found figures\", fig_fnames)\n",
    "    for fname in fig_fnames:\n",
    "        if 'http' in fname:\n",
    "            # No need to copy online figures\n",
    "            continue\n",
    "        if not os.path.exists(fname):\n",
    "            print(\"file not found\", fname)\n",
    "            continue\n",
    "        print(\"copying \", fname, \"to\", directory)\n",
    "        destdir = os.path.join(directory, os.path.dirname(fname))\n",
    "        destfname = os.path.join(destdir, os.path.basename(fname))\n",
    "        try:\n",
    "            os.makedirs(destdir)\n",
    "        except FileExistsError:\n",
    "            pass\n",
    "        shutil.copy(fname, destfname)\n",
    "    with open(os.path.join(directory, md_fname), 'w') as fout:\n",
    "        fout.write(md)\n",
    "    print(\"exported in \", os.path.join(directory, md_fname))\n",
    "    [print(\"    + \" + os.path.join(directory,fk)) for fk in fig_fnames]"
   ]
  },
  {
   "cell_type": "code",
   "execution_count": 8,
   "id": "014d04a4",
   "metadata": {
    "execution": {
     "iopub.execute_input": "2024-10-29T04:12:23.718806Z",
     "iopub.status.busy": "2024-10-29T04:12:23.718594Z",
     "iopub.status.idle": "2024-10-29T04:12:23.728476Z",
     "shell.execute_reply": "2024-10-29T04:12:23.727944Z"
    },
    "papermill": {
     "duration": 0.017565,
     "end_time": "2024-10-29T04:12:23.729456",
     "exception": false,
     "start_time": "2024-10-29T04:12:23.711891",
     "status": "completed"
    },
    "tags": []
   },
   "outputs": [
    {
     "name": "stdout",
     "output_type": "stream",
     "text": [
      "found figures ['tmp_2410.19900/figures/TNG-Cluster_M200cz01e15_ICMGasTemperatureHistogramMass_evolution.png', '', '', '', '', '']\n",
      "copying  tmp_2410.19900/figures/TNG-Cluster_M200cz01e15_ICMGasTemperatureHistogramMass_evolution.png to _build/html/\n",
      "file not found \n",
      "file not found \n",
      "file not found \n",
      "file not found \n",
      "file not found \n",
      "exported in  _build/html/2410.19900.md\n",
      "    + _build/html/tmp_2410.19900/figures/TNG-Cluster_M200cz01e15_ICMGasTemperatureHistogramMass_evolution.png\n",
      "    + _build/html/\n",
      "    + _build/html/\n",
      "    + _build/html/\n",
      "    + _build/html/\n",
      "    + _build/html/\n",
      "found figures ['tmp_2410.21147/./kin_circular_model_manga-8147-12703.png', 'tmp_2410.21147/./kin_circular_model_manga-10842-12704.png', 'tmp_2410.21147/./violin_manga.png', 'tmp_2410.21147/./kin_hrm_manga-8147-12703.png', 'tmp_2410.21147/./kin_hrm_manga-10842-12704.png', 'tmp_2410.21147/./q95Mstar.png', 'tmp_2410.21147/./sfr.png', 'tmp_2410.21147/./ssfr.png']\n",
      "copying  tmp_2410.21147/./kin_circular_model_manga-8147-12703.png to _build/html/\n",
      "copying  tmp_2410.21147/./kin_circular_model_manga-10842-12704.png to _build/html/\n",
      "copying  tmp_2410.21147/./violin_manga.png to _build/html/\n",
      "copying  tmp_2410.21147/./kin_hrm_manga-8147-12703.png to _build/html/\n",
      "copying  tmp_2410.21147/./kin_hrm_manga-10842-12704.png to _build/html/\n",
      "copying  tmp_2410.21147/./q95Mstar.png to _build/html/\n",
      "copying  tmp_2410.21147/./sfr.png to _build/html/\n",
      "copying  tmp_2410.21147/./ssfr.png to _build/html/\n",
      "exported in  _build/html/2410.21147.md\n",
      "    + _build/html/tmp_2410.21147/./kin_circular_model_manga-8147-12703.png\n",
      "    + _build/html/tmp_2410.21147/./kin_circular_model_manga-10842-12704.png\n",
      "    + _build/html/tmp_2410.21147/./violin_manga.png\n",
      "    + _build/html/tmp_2410.21147/./kin_hrm_manga-8147-12703.png\n",
      "    + _build/html/tmp_2410.21147/./kin_hrm_manga-10842-12704.png\n",
      "    + _build/html/tmp_2410.21147/./q95Mstar.png\n",
      "    + _build/html/tmp_2410.21147/./sfr.png\n",
      "    + _build/html/tmp_2410.21147/./ssfr.png\n"
     ]
    }
   ],
   "source": [
    "for paper_id, md in documents:\n",
    "    export_markdown_summary(md, f\"{paper_id:s}.md\", '_build/html/')"
   ]
  },
  {
   "cell_type": "markdown",
   "id": "f087a0a7",
   "metadata": {
    "papermill": {
     "duration": 0.006353,
     "end_time": "2024-10-29T04:12:23.742409",
     "exception": false,
     "start_time": "2024-10-29T04:12:23.736056",
     "status": "completed"
    },
    "tags": []
   },
   "source": [
    "## Display the papers\n",
    "\n",
    "Not necessary but allows for a quick check."
   ]
  },
  {
   "cell_type": "code",
   "execution_count": 9,
   "id": "fd25f625",
   "metadata": {
    "execution": {
     "iopub.execute_input": "2024-10-29T04:12:23.756156Z",
     "iopub.status.busy": "2024-10-29T04:12:23.755638Z",
     "iopub.status.idle": "2024-10-29T04:12:23.761514Z",
     "shell.execute_reply": "2024-10-29T04:12:23.761003Z"
    },
    "papermill": {
     "duration": 0.013848,
     "end_time": "2024-10-29T04:12:23.762506",
     "exception": false,
     "start_time": "2024-10-29T04:12:23.748658",
     "status": "completed"
    },
    "scrolled": false,
    "tags": []
   },
   "outputs": [
    {
     "data": {
      "text/markdown": [
       "<div class=\"macros\" style=\"visibility:hidden;\">\n",
       "$\\newcommand{\\ensuremath}{}$\n",
       "$\\newcommand{\\xspace}{}$\n",
       "$\\newcommand{\\object}[1]{\\texttt{#1}}$\n",
       "$\\newcommand{\\farcs}{{.}''}$\n",
       "$\\newcommand{\\farcm}{{.}'}$\n",
       "$\\newcommand{\\arcsec}{''}$\n",
       "$\\newcommand{\\arcmin}{'}$\n",
       "$\\newcommand{\\ion}[2]{#1#2}$\n",
       "$\\newcommand{\\textsc}[1]{\\textrm{#1}}$\n",
       "$\\newcommand{\\hl}[1]{\\textrm{#1}}$\n",
       "$\\newcommand{\\footnote}[1]{}$\n",
       "$\\newcommand{\\orcid}[1]{\\href{https://orcid.org/#1}{\\includegraphics[scale=0.08]{ORCID-iD_icon-128x128.png}}}$\n",
       "$\\newcommand$\n",
       "$\\newcommand{\\mvir}{M_{\\rm 200c}}$\n",
       "$\\newcommand{\\mvirhost}{\\mvir^{\\rm host}}$\n",
       "$\\newcommand{\\rvir}{R_{\\rm 200c}}$\n",
       "$\\newcommand{\\rvirhost}{\\rvir^{\\rm host}}$\n",
       "$\\newcommand{\\mgas}{M_{\\rm gas}}$\n",
       "$\\newcommand{\\mgassat}{M_{\\rm gas}^{\\rm sat}}$\n",
       "$\\newcommand{\\mcgas}{M_{\\rm CoolGas}}$\n",
       "$\\newcommand{\\mcgassat}{\\mcgas^{\\rm sat}}$\n",
       "$\\newcommand{\\mcgassub}{\\mcgas^{\\rm subhalo}}$\n",
       "$\\newcommand{\\mcgasicm}{\\mcgas^{\\rm ICM}}$\n",
       "$\\newcommand{\\mcgascgm}{\\mcgas^{\\rm CGM}}$\n",
       "$\\newcommand{\\fcgasicm}{f_{\\rm CoolGas}^{\\rm ICM}}$\n",
       "$\\newcommand{\\mstar}{M_\\star}$\n",
       "$\\newcommand{\\mstarsat}{\\mstar^{\\rm sat}}$\n",
       "$\\newcommand{\\rhalfstar}{R_{\\rm half,\\star}}$\n",
       "$\\newcommand{\\rgal}{R_{\\rm gal}}$\n",
       "$\\newcommand{\\dsathost}{d_{\\rm sat}^{\\rm host}}$\n",
       "$\\newcommand{\\sublink}{\\textsc{sublink} }$\n",
       "$\\newcommand{\\sublinkgal}{\\sublink\\_\\textsc{gal} }$\n",
       "$\\newcommand{\\subfind}{\\textsc{subfind} }$\n",
       "$\\newcommand{\\tcoolgas}{T_{\\rm CoolGas}}$\n",
       "$\\newcommand{\\tvir}{T_{\\rm vir}}$\n",
       "$\\newcommand{\\tcool}{t_{\\rm cool}}$\n",
       "$\\newcommand{\\tff}{t_{\\rm ff}}$\n",
       "$\\newcommand{\\msun}{{\\rm M}_\\odot}$\n",
       "$\\newcommand{\\kpc}{{\\rm kpc}}$\n",
       "$\\newcommand$\n",
       "$\\newcommand$\n",
       "$\\newcommand{\\ez}[1]{\\textcolor[rgb]{1.0, 0.55, 0}{(#1)}}$\n",
       "$\\newcommand{\\reza}[1]{\\color{orange}#1\\color{black}}$\n",
       "$\\newcommand{\\rezac}[1]{\\color{orange}\\textit{[#1]}\\color{black}}$\n",
       "$\\newcommand{\\rezas}[1]{\\color{orange}\\sout{#1} \\color{black}}$</div>\n",
       "\n",
       "\n",
       "\n",
       "<div id=\"title\">\n",
       "\n",
       "# The cooler past of the intracluster medium in TNG-Cluster\n",
       "\n",
       "</div>\n",
       "<div id=\"comments\">\n",
       "\n",
       "[![arXiv](https://img.shields.io/badge/arXiv-2410.19900-b31b1b.svg)](https://arxiv.org/abs/2410.19900)<mark>Appeared on: 2024-10-29</mark> -  _Resubmitted to MNRAS after initial positive referee report. See further TNG-Cluster papers from Marine Prunier and Urmila Chadayammuri over the next days and on the TNG-Cluster website: this https URL_\n",
       "\n",
       "</div>\n",
       "<div id=\"authors\">\n",
       "\n",
       "<mark>E. Rohr</mark>, et al. -- incl., <mark>A. Pillepich</mark>\n",
       "\n",
       "</div>\n",
       "<div id=\"abstract\">\n",
       "\n",
       "**Abstract:** The intracluster medium (ICM) today is comprised largely of hot gas with clouds of cooler gas of unknown origin and lifespan. We analyze the evolution of cool gas (temperatures $\\lesssim10^{4.5}$ K) in the ICM of 352 galaxy clusters from the TNG-Cluster simulations, with present-day mass $\\sim10^{14.3-15.4} \\msun$ . We follow the main progenitors of these clusters over the past $\\sim13$ billion years (since $z\\lesssim7$ ) and find that, according to TNG-Cluster, the cool ICM mass increases with redshift at fixed cluster mass, implying that this cooler past of the ICM is due to more than just halo growth. The cool cluster gas at $z\\lesssim0.5$ is mostly located in and around satellite galaxies, while at $z\\gtrsim2$ cool gas can also accrete via filaments from the intergalactic medium. Lower-mass and higher-redshift clusters are more susceptible to cooling. The cool ICM mass correlates with the number of gaseous satellites and inversely with the central supermassive black hole (SMBH) mass. $\\er{The average number of gaseous satellites decreases since $z=2$, correlating with the decline in the cool ICM mass over cosmic time, suggesting a link between the two.}$ Concurrently, kinetic SMBH feedback shifts the ICM temperature distribution, decreasing the cool ICM mass inside-out. At $z\\approx0.5$ , the predicted $\\ion{Mg}{ii}$ column densities are in the ballpark of recent observations, where satellites and other halos contribute significantly to the total $\\ion{Mg}{ii}$ column density. Suggestively, a non-negligible amount of the ICM cool gas forms stars in-situ at early times, reaching $\\sim10^{2} \\msun{\\rm yr^{-1}}$ and an H $\\alpha$ surface brightness of $\\sim10^{-17} {\\rm erg s^{-1} cm^{-2} arcsec^{-2}}$ at $z\\approx2$ , detectable with Euclid and JWST.\n",
       "\n",
       "</div>\n",
       "\n",
       "<div id=\"div_fig1\">\n",
       "\n",
       "<img src=\"tmp_2410.19900/figures/TNG-Cluster_M200cz01e15_ICMGasTemperatureHistogramMass_evolution.png\" alt=\"Fig6.1\" width=\"50%\"/><img src=\"\" alt=\"Fig6.2\" width=\"50%\"/>\n",
       "\n",
       "**Figure 6. -** ** The evolution of the ICM temperatures, cool gas masses, cool ICM to total halo, and cool ICM to total ICM mass fractions in TNG-Cluster since $\\mathbf{z=4**$.}\n",
       "    The ICM is all FoF gas in the aperture $[0.15, 1.0]$\\rvir$$, excising satellites. Cool gas has temperatures $\\leq 10^{4.5}$ K.\n",
       "    _Main Panel_: The distribution of ICM temperatures of each cluster of $z=0$ mass $\\sim10^{15} $\\msun$$(51 clusters) as thin curves and the median of this sample as thick curves, where the color denotes the redshift. In the inset we show how the ICM temperature distribution varies with cluster mass today. We label prominent features in the ICM temperature distribution (see text for details; we offset the star-forming gas temperatures slightly for visibility).\n",
       "    _Bottom Panels_: \\er{The cool ICM mass (left), cool ICM to total cluster (center), and cool ICM to total ICM (right) mass fractions as functions of cluster mass and redshift (color) for all 352 clusters (and cluster-progenitors) in TNG-Cluster}. We plot each cluster as circles and the median trend with mass as thick curves, colored by redshift.\n",
       "    According to TNG-Cluster, the ICM of cluster progenitors were cooler, having more total cool gas, cooler average temperatures, and a larger ICM mass fraction in cool gas.\n",
       "     (*fig:ICMGasEvolution*)\n",
       "\n",
       "</div>\n",
       "<div id=\"div_fig2\">\n",
       "\n",
       "<img src=\"\" alt=\"Fig10.1\" width=\"50%\"/><img src=\"\" alt=\"Fig10.2\" width=\"50%\"/>\n",
       "\n",
       "**Figure 10. -** ** According to TNG-Cluster, at a fixed cluster mass and redshift, the cool ICM mass correlates with the number of gaseous satellites, and clusters tend to have fewer gaseous satellites today than in the past.**_Top Panels_: At $z=0$ and 2 (black-outlined circles, orange-outlined squares), we demonstrate that at a fixed redshift the cool ICM mass increases with the relative number of satellites, that is, with the percentage difference between the number of satellites in a given cluster and the average number in a corresponding narrow bin of halo mass. Here, we only consider satellites with a stellar mass $>10^9  $\\msun$$, a gas to stellar mass fraction $>1$ per cent, and within a cluster-centric distance $<$\\rvir$$.\n",
       "    _Bottom Panel_: We show the evolution of the number of gaseous satellites per cluster over the past $\\approx13$ billion years for all 352 clusters (thin curves), colored by their $z=0$ cluster mass (medians within a $z=0$ cluster mass bin as thick curves). Namely for all considered masses today, clusters have fewer gaseous satellites today than in the past at $z\\approx1-2$, at least partially explaining why the cool ICM mass decreases with time.\n",
       "     (*fig:ICMCGM_Nsatellites*)\n",
       "\n",
       "</div>\n",
       "<div id=\"div_fig3\">\n",
       "\n",
       "<img src=\"\" alt=\"Fig13.1\" width=\"50%\"/><img src=\"\" alt=\"Fig13.2\" width=\"50%\"/>\n",
       "\n",
       "**Figure 13. -** **Clusters and their progenitors contain $\\ion${Mg**{ii} gas in TNG-Cluster.}_Top panels_: We show the evolution of the $\\ion${Mg}{ii} column density for an example cluster of $z=0$ mass $\\sim 10^{15.3}  $\\msun$$, including gas (top: excluding satellites; bottom: including satellites and foreground+background halos) within a line-of-sight velocity $<2000  {\\rm km  s^{-1}}$ of the BCG. The annotations and method are as in Fig. \\ref{fig:CoolGasSurfaceDensity_mosaic}.\n",
       "    _Bottom panels_: The $\\ion${Mg}{ii} column density radial profiles in clusters of present-day mass $\\sim10^{15}  $\\msun$$ across cosmic time (left) and for all clusters of mass $\\sim10^{13.75-15.25}  $\\msun$$ at $z=0.5$. The thin curves show the profiles for individual clusters, including gas within the a line of sight velocity $<2000  {\\rm km  s^{-1}}$ of the BCG and excluding satellites, where we include the medians as thick curves. The dashed curves show the median profiles when also including satellites. We include stacked observational comparisons of clusters from \\citet[][circle]{Fresco2024}, \\citet[][triangles]{Anand2022}, and \\citet[][squares]{Mishra2022}, which are colored to match the average redshift (left) and cluster mass (right); see text for details.\n",
       "     (*fig:mgii_comparison*)\n",
       "\n",
       "</div><div id=\"qrcode\"><img src=https://api.qrserver.com/v1/create-qr-code/?size=100x100&data=\"https://arxiv.org/abs/2410.19900\"></div>"
      ],
      "text/plain": [
       "<IPython.core.display.Markdown object>"
      ]
     },
     "metadata": {},
     "output_type": "display_data"
    },
    {
     "data": {
      "text/markdown": [
       "<div class=\"macros\" style=\"visibility:hidden;\">\n",
       "$\\newcommand{\\ensuremath}{}$\n",
       "$\\newcommand{\\xspace}{}$\n",
       "$\\newcommand{\\object}[1]{\\texttt{#1}}$\n",
       "$\\newcommand{\\farcs}{{.}''}$\n",
       "$\\newcommand{\\farcm}{{.}'}$\n",
       "$\\newcommand{\\arcsec}{''}$\n",
       "$\\newcommand{\\arcmin}{'}$\n",
       "$\\newcommand{\\ion}[2]{#1#2}$\n",
       "$\\newcommand{\\textsc}[1]{\\textrm{#1}}$\n",
       "$\\newcommand{\\hl}[1]{\\textrm{#1}}$\n",
       "$\\newcommand{\\footnote}[1]{}$\n",
       "$\\newcommand{\\vdag}{(v)^\\dagger}$\n",
       "$\\newcommand$\n",
       "$\\newcommand$\n",
       "$\\newcommand{\\XS}{{\\tt XookSuut}}$\n",
       "$\\newcommand{\\xs}{{\\tt XS}}$\n",
       "$\\newcommand{\\diskfit}{{\\tt DiskFit}}$\n",
       "$\\newcommand{\\kms}{km s^{-1}}$\n",
       "$\\newcommand{\\PAdisk}{\\phi_\\mathrm{disk}^\\prime}$\n",
       "$\\newcommand{\\PAbar}{\\phi_\\mathrm{bar}}$\n",
       "$\\newcommand{\\PAbarkin}{\\phi_\\mathrm{bar,kin}^\\prime}$\n",
       "$\\newcommand{\\PAbarphot}{\\phi_\\mathrm{bar,phot}^\\prime}$\n",
       "$\\newcommand{\\sn}{S/N}$\n",
       "$\\newcommand{\\hi}{\\ion{H}{1}}$\n",
       "$\\newcommand{\\hii}{\\ion{H}{2}}$\n",
       "$\\newcommand{\\hei}{\\ion{He}{i}}$\n",
       "$\\newcommand{\\heii}{\\ion{He}{ii}}$\n",
       "$\\newcommand{\\Ni}{[\\ion{N}{i}]}$\n",
       "$\\newcommand{\\nii}{[\\ion{N}{2}]}$\n",
       "$\\newcommand{\\oi}{[\\ion{O}{i}]}$\n",
       "$\\newcommand{\\OI}{\\ion{O}{i}}$\n",
       "$\\newcommand{\\oii}{[\\ion{O}{ii}]}$\n",
       "$\\newcommand{\\nai}{\\ion{Na}{i}}$\n",
       "$\\newcommand{\\oiii}{[\\ion{O}{3}]}$\n",
       "$\\newcommand{\\sii}{[\\ion{S}{ii}]}$\n",
       "$\\newcommand{\\siii}{[\\ion{S}{iii}]}$\n",
       "$\\newcommand{\\ha}{H\\alpha}$\n",
       "$\\newcommand{\\ewha}{\\mathrm{W_{H\\alpha}}}$\n",
       "$\\newcommand{\\hb}{H\\beta}$\n",
       "$\\newcommand{\\feii}{[\\ion{Fe}{ii}]}$\n",
       "$\\newcommand{\\cliii}{[\\ion{Cl}{iii}]}$\n",
       "$\\newcommand{\\ariii}{[\\ion{Ar}{iii}]}$\n",
       "$\\newcommand{\\SiII}{\\ion{Si}{ii}}$\n",
       "$\\newcommand{\\comm}[1]$</div>\n",
       "\n",
       "\n",
       "\n",
       "<div id=\"title\">\n",
       "\n",
       "# On the role of non-circular motions in MaNGA galaxies I: global properties\n",
       "\n",
       "</div>\n",
       "<div id=\"comments\">\n",
       "\n",
       "[![arXiv](https://img.shields.io/badge/arXiv-2410.21147-b31b1b.svg)](https://arxiv.org/abs/2410.21147)<mark>Appeared on: 2024-10-29</mark> -  _13 pages, 10 figures. Accepted for publication in ApJ_\n",
       "\n",
       "</div>\n",
       "<div id=\"authors\">\n",
       "\n",
       "C. López-Cobá, L. Lin, <mark>J. Neumann</mark>, M. A. Bershady\n",
       "\n",
       "</div>\n",
       "<div id=\"abstract\">\n",
       "\n",
       "**Abstract:** Non-circular (NC) motions represent the imprints of non-axisymmetric structures in galaxies, providing opportunities to study the physical properties of gas departing from circular rotation. In this work we have conducted a systematic study of the non-circular motions in a sample of 1624 gas-rich disk galaxies from the MaNGA MPL-11. By using the $\\ha$ velocity as a tracer of the disk rotation, we find indications that the amplitude of the non-circular motions is related to the stellar mass, with the low mass and late-type galaxies the most affected. In our sample, we find ratios of circular to non-circular rotation ranging from 5 \\% to  20 \\% .By implementing harmonic models to include NC motions associated with spiral arms and stellar bars, we find that the rotational curves traced with $\\ha$ are barely affected by the NC induced by these structures. Consequently, in our sample, we do not find evidence that NC motions contribute to the scatter of the stellar Tully-Fisher relation. Our results suggest that non-circular motions might have a more localized effect in galaxies rather than a global one.\n",
       "\n",
       "</div>\n",
       "\n",
       "<div id=\"div_fig1\">\n",
       "\n",
       "<img src=\"tmp_2410.21147/./kin_circular_model_manga-8147-12703.png\" alt=\"Fig8.1\" width=\"33%\"/><img src=\"tmp_2410.21147/./kin_circular_model_manga-10842-12704.png\" alt=\"Fig8.2\" width=\"33%\"/><img src=\"tmp_2410.21147/./violin_manga.png\" alt=\"Fig8.3\" width=\"33%\"/>\n",
       "\n",
       "**Figure 8. -** {  \\it Top figures:}  Modeling of the $\\ha$ velocity field adopting circular rotation only for the manga object 8147-12703 (tagged with the letter $a$), and for  10842-12704  (tagged with $b$). _ From left to right:_$gri$ colour composite image with filters extracted from the datacube; $\\ha$ velocity map; best circular rotation model from $\\xs$; residual map obtained from subtracting the best kinematic model to the $\\ha$ velocity; rotational curve. {  \\it Bottom figures:}\n",
       "Half-violin plot and box plot of the residual velocities of objects $a$(blue) and $b$(red); bottom plots show the corresponding cumulative distribution function of residuals, with vertical lines showing the 10th, 50th, and 90th percentiles.\n",
       " (*fig:circular*)\n",
       "\n",
       "</div>\n",
       "<div id=\"div_fig2\">\n",
       "\n",
       "<img src=\"tmp_2410.21147/./kin_hrm_manga-8147-12703.png\" alt=\"Fig9.1\" width=\"50%\"/><img src=\"tmp_2410.21147/./kin_hrm_manga-10842-12704.png\" alt=\"Fig9.2\" width=\"50%\"/>\n",
       "\n",
       "**Figure 9. -**  Similar as Figure \\ref{fig:circular}, but for the harmonic decomposition model. Note that  $s_2(r) = c_2(r) = 0 \\forall r$ as required by the model from equation. \\ref{Eq:m=3}. (*fig:harmonic*)\n",
       "\n",
       "</div>\n",
       "<div id=\"div_fig3\">\n",
       "\n",
       "<img src=\"tmp_2410.21147/./q95Mstar.png\" alt=\"Fig5.1\" width=\"33%\"/><img src=\"tmp_2410.21147/./sfr.png\" alt=\"Fig5.2\" width=\"33%\"/><img src=\"tmp_2410.21147/./ssfr.png\" alt=\"Fig5.3\" width=\"33%\"/>\n",
       "\n",
       "**Figure 5. -** _ Top panel:_ 2D histogram showing the distribution of the $\\eta$ parameter versus the stellar mass for the objects in the kinematic sample. Colors represent the density of points within each bin, with darker colors representing regions with a larger density of objects. The inner and outer contours enclose 68\\% and 95\\% percent of the data, respectively.\n",
       "The black straight line represents the best Bayesian linear fit to these points, with $1\\sigma$ scatter shown with gray color; the half violin plot shows the residuals respect the best fit line. _ Middle and bottom panels:_ Similar figures as above but for the integrated $\\ha$ based SFR and specific SFR, respectively. (*fig:q95Mstar*)\n",
       "\n",
       "</div><div id=\"qrcode\"><img src=https://api.qrserver.com/v1/create-qr-code/?size=100x100&data=\"https://arxiv.org/abs/2410.21147\"></div>"
      ],
      "text/plain": [
       "<IPython.core.display.Markdown object>"
      ]
     },
     "metadata": {},
     "output_type": "display_data"
    }
   ],
   "source": [
    "[display(Markdown(k[1])) for k in documents];"
   ]
  },
  {
   "cell_type": "markdown",
   "id": "873873a4",
   "metadata": {
    "papermill": {
     "duration": 0.00665,
     "end_time": "2024-10-29T04:12:23.775986",
     "exception": false,
     "start_time": "2024-10-29T04:12:23.769336",
     "status": "completed"
    },
    "tags": []
   },
   "source": [
    "# Create HTML index"
   ]
  },
  {
   "cell_type": "code",
   "execution_count": 10,
   "id": "cf665672",
   "metadata": {
    "execution": {
     "iopub.execute_input": "2024-10-29T04:12:23.790309Z",
     "iopub.status.busy": "2024-10-29T04:12:23.790068Z",
     "iopub.status.idle": "2024-10-29T04:12:23.798274Z",
     "shell.execute_reply": "2024-10-29T04:12:23.797762Z"
    },
    "papermill": {
     "duration": 0.016443,
     "end_time": "2024-10-29T04:12:23.799288",
     "exception": false,
     "start_time": "2024-10-29T04:12:23.782845",
     "status": "completed"
    },
    "tags": []
   },
   "outputs": [
    {
     "name": "stdout",
     "output_type": "stream",
     "text": [
      "231  publications files modified in the last 7 days.\n"
     ]
    }
   ],
   "source": [
    "from datetime import datetime, timedelta, timezone\n",
    "from glob import glob\n",
    "import os\n",
    "\n",
    "files = glob('_build/html/*.md')\n",
    "days = 7\n",
    "now = datetime.today()\n",
    "res = []\n",
    "for fk in files:\n",
    "    stat_result = os.stat(fk).st_ctime\n",
    "    modified = datetime.fromtimestamp(stat_result, tz=timezone.utc).replace(tzinfo=None)\n",
    "    delta = now.today() - modified\n",
    "    if delta <= timedelta(days=days):\n",
    "        res.append((delta.seconds, fk))\n",
    "res = [k[1] for k in reversed(sorted(res, key=lambda x:x[1]))]\n",
    "npub = len(res)\n",
    "print(len(res), f\" publications files modified in the last {days:d} days.\")\n",
    "# [ print('\\t', k) for k in res ];"
   ]
  },
  {
   "cell_type": "code",
   "execution_count": 11,
   "id": "015de740",
   "metadata": {
    "execution": {
     "iopub.execute_input": "2024-10-29T04:12:23.813784Z",
     "iopub.status.busy": "2024-10-29T04:12:23.813412Z",
     "iopub.status.idle": "2024-10-29T04:12:23.829574Z",
     "shell.execute_reply": "2024-10-29T04:12:23.829040Z"
    },
    "papermill": {
     "duration": 0.024422,
     "end_time": "2024-10-29T04:12:23.830499",
     "exception": false,
     "start_time": "2024-10-29T04:12:23.806077",
     "status": "completed"
    },
    "tags": []
   },
   "outputs": [
    {
     "name": "stdout",
     "output_type": "stream",
     "text": [
      "8  publications in the last 7 days.\n"
     ]
    }
   ],
   "source": [
    "import datetime\n",
    "from glob import glob\n",
    "\n",
    "def get_last_n_days(lst, days=1):\n",
    "    \"\"\" Get the documents from the last n days \"\"\"\n",
    "    sorted_lst = sorted(lst, key=lambda x: x[1], reverse=True)\n",
    "    for fname, date in sorted_lst:\n",
    "        if date >= str(datetime.date.today() - datetime.timedelta(days=days)):\n",
    "            yield fname\n",
    "\n",
    "def extract_appearance_dates(lst_file):\n",
    "    dates = []\n",
    "\n",
    "    def get_date(line):\n",
    "        return line\\\n",
    "            .split('Appeared on:')[-1]\\\n",
    "            .split('</mark>')[0].strip()\n",
    "\n",
    "    for fname in lst:\n",
    "        with open(fname, 'r') as f:\n",
    "            found_date = False\n",
    "            for line in f:\n",
    "                if not found_date:\n",
    "                    if \"Appeared on\" in line:\n",
    "                        found_date = True\n",
    "                        dates.append((fname, get_date(line)))\n",
    "                else:\n",
    "                    break\n",
    "    return dates\n",
    "\n",
    "from glob import glob\n",
    "lst = glob('_build/html/*md')\n",
    "days = 7\n",
    "dates = extract_appearance_dates(lst)\n",
    "res = list(get_last_n_days(dates, days))\n",
    "npub = len(res)\n",
    "print(len(res), f\" publications in the last {days:d} days.\")"
   ]
  },
  {
   "cell_type": "code",
   "execution_count": 12,
   "id": "52ca0208",
   "metadata": {
    "execution": {
     "iopub.execute_input": "2024-10-29T04:12:23.845345Z",
     "iopub.status.busy": "2024-10-29T04:12:23.844947Z",
     "iopub.status.idle": "2024-10-29T04:12:23.849721Z",
     "shell.execute_reply": "2024-10-29T04:12:23.849213Z"
    },
    "papermill": {
     "duration": 0.013112,
     "end_time": "2024-10-29T04:12:23.850629",
     "exception": false,
     "start_time": "2024-10-29T04:12:23.837517",
     "status": "completed"
    },
    "scrolled": false,
    "tags": []
   },
   "outputs": [],
   "source": [
    "def create_carousel(npub=4):\n",
    "    \"\"\" Generate the HTML code for a carousel with `npub` slides \"\"\"\n",
    "    carousel = [\"\"\"  <div class=\"carousel\" \"\"\",\n",
    "                \"\"\"       data-flickity='{ \"autoPlay\": 10000, \"adaptiveHeight\": true, \"resize\": true, \"wrapAround\": true, \"pauseAutoPlayOnHover\": true, \"groupCells\": 1 }' id=\"asyncTypeset\">\"\"\"\n",
    "                ]\n",
    "    \n",
    "    item_str = \"\"\"    <div class=\"carousel-cell\"> <div id=\"slide{k}\" class=\"md_view\">Content {k}</div> </div>\"\"\"\n",
    "    for k in range(1, npub + 1):\n",
    "        carousel.append(item_str.format(k=k))\n",
    "    carousel.append(\"  </div>\")\n",
    "    return '\\n'.join(carousel)\n",
    "\n",
    "def create_grid(npub=4):\n",
    "    \"\"\" Generate the HTML code for a flat grid with `npub` slides \"\"\"\n",
    "    grid = [\"\"\"  <div class=\"grid\"> \"\"\",\n",
    "                ]\n",
    "    \n",
    "    item_str = \"\"\"    <div class=\"grid-item\"> <div id=\"slide{k}\" class=\"md_view\">Content {k}</div> </div>\"\"\"\n",
    "    for k in range(1, npub + 1):\n",
    "        grid.append(item_str.format(k=k))\n",
    "    grid.append(\"  </div>\")\n",
    "    return '\\n'.join(grid)"
   ]
  },
  {
   "cell_type": "code",
   "execution_count": 13,
   "id": "a6eac5b6",
   "metadata": {
    "execution": {
     "iopub.execute_input": "2024-10-29T04:12:23.865546Z",
     "iopub.status.busy": "2024-10-29T04:12:23.865032Z",
     "iopub.status.idle": "2024-10-29T04:12:23.870067Z",
     "shell.execute_reply": "2024-10-29T04:12:23.869525Z"
    },
    "papermill": {
     "duration": 0.013445,
     "end_time": "2024-10-29T04:12:23.871049",
     "exception": false,
     "start_time": "2024-10-29T04:12:23.857604",
     "status": "completed"
    },
    "scrolled": false,
    "tags": []
   },
   "outputs": [],
   "source": [
    "carousel = create_carousel(npub)\n",
    "docs = ', '.join(['\"{0:s}\"'.format(k.split('/')[-1]) for k in res])\n",
    "slides = ', '.join([f'\"slide{k}\"' for k in range(1, npub + 1)])\n",
    "\n",
    "with open(\"daily_template.html\", \"r\") as tpl:\n",
    "    page = tpl.read()\n",
    "    page = page.replace(\"{%-- carousel:s --%}\", carousel)\\\n",
    "               .replace(\"{%-- suptitle:s --%}\",  \"7-day archives\" )\\\n",
    "               .replace(\"{%-- docs:s --%}\", docs)\\\n",
    "               .replace(\"{%-- slides:s --%}\", slides)\n",
    "    \n",
    "with open(\"_build/html/index_7days.html\", 'w') as fout:\n",
    "    fout.write(page)"
   ]
  },
  {
   "cell_type": "code",
   "execution_count": 14,
   "id": "adc1a1ec",
   "metadata": {
    "execution": {
     "iopub.execute_input": "2024-10-29T04:12:23.885837Z",
     "iopub.status.busy": "2024-10-29T04:12:23.885467Z",
     "iopub.status.idle": "2024-10-29T04:12:23.891820Z",
     "shell.execute_reply": "2024-10-29T04:12:23.891253Z"
    },
    "papermill": {
     "duration": 0.014757,
     "end_time": "2024-10-29T04:12:23.892748",
     "exception": false,
     "start_time": "2024-10-29T04:12:23.877991",
     "status": "completed"
    },
    "tags": []
   },
   "outputs": [
    {
     "name": "stdout",
     "output_type": "stream",
     "text": [
      "2  publications in the last day.\n"
     ]
    }
   ],
   "source": [
    "# redo for today\n",
    "days = 1\n",
    "res = list(get_last_n_days(dates, days))\n",
    "npub = len(res)\n",
    "print(len(res), f\" publications in the last day.\")\n",
    "\n",
    "carousel = create_carousel(npub)\n",
    "docs = ', '.join(['\"{0:s}\"'.format(k.split('/')[-1]) for k in res])\n",
    "slides = ', '.join([f'\"slide{k}\"' for k in range(1, npub + 1)])\n",
    "\n",
    "with open(\"daily_template.html\", \"r\") as tpl:\n",
    "    page = tpl.read()\n",
    "    page = page.replace(\"{%-- carousel:s --%}\", carousel)\\\n",
    "               .replace(\"{%-- suptitle:s --%}\",  \"Daily\" )\\\n",
    "               .replace(\"{%-- docs:s --%}\", docs)\\\n",
    "               .replace(\"{%-- slides:s --%}\", slides)\n",
    "    \n",
    "# print(carousel, docs, slides)\n",
    "# print(page)\n",
    "with open(\"_build/html/index_daily.html\", 'w') as fout:\n",
    "    fout.write(page)"
   ]
  },
  {
   "cell_type": "code",
   "execution_count": 15,
   "id": "00eece82",
   "metadata": {
    "execution": {
     "iopub.execute_input": "2024-10-29T04:12:23.907668Z",
     "iopub.status.busy": "2024-10-29T04:12:23.907246Z",
     "iopub.status.idle": "2024-10-29T04:12:23.913652Z",
     "shell.execute_reply": "2024-10-29T04:12:23.913147Z"
    },
    "papermill": {
     "duration": 0.014918,
     "end_time": "2024-10-29T04:12:23.914627",
     "exception": false,
     "start_time": "2024-10-29T04:12:23.899709",
     "status": "completed"
    },
    "scrolled": false,
    "tags": []
   },
   "outputs": [
    {
     "name": "stdout",
     "output_type": "stream",
     "text": [
      "6  6 publications selected.\n"
     ]
    }
   ],
   "source": [
    "# Create the flat grid of the last N papers (fixed number regardless of dates)\n",
    "from itertools import islice \n",
    "\n",
    "npub = 6\n",
    "res = [k[0] for k in (islice(reversed(sorted(dates, key=lambda x: x[1])), 6))]\n",
    "print(len(res), f\" {npub} publications selected.\")\n",
    "\n",
    "grid = create_grid(npub)\n",
    "docs = ', '.join(['\"{0:s}\"'.format(k.split('/')[-1]) for k in res])\n",
    "slides = ', '.join([f'\"slide{k}\"' for k in range(1, npub + 1)])\n",
    "\n",
    "with open(\"grid_template.html\", \"r\") as tpl:\n",
    "    page = tpl.read()\n",
    "    page = page.replace(\"{%-- grid-content:s --%}\", grid)\\\n",
    "               .replace(\"{%-- suptitle:s --%}\",  f\"Last {npub:,d} papers\" )\\\n",
    "               .replace(\"{%-- docs:s --%}\", docs)\\\n",
    "               .replace(\"{%-- slides:s --%}\", slides)\n",
    "    \n",
    "# print(grid, docs, slides)\n",
    "# print(page)\n",
    "with open(\"_build/html/index_npub_grid.html\", 'w') as fout:\n",
    "    fout.write(page)"
   ]
  }
 ],
 "metadata": {
  "kernelspec": {
   "display_name": "Python 3 (ipykernel)",
   "language": "python",
   "name": "python3"
  },
  "language_info": {
   "codemirror_mode": {
    "name": "ipython",
    "version": 3
   },
   "file_extension": ".py",
   "mimetype": "text/x-python",
   "name": "python",
   "nbconvert_exporter": "python",
   "pygments_lexer": "ipython3",
   "version": "3.9.20"
  },
  "papermill": {
   "default_parameters": {},
   "duration": 82.466388,
   "end_time": "2024-10-29T04:12:24.138348",
   "environment_variables": {},
   "exception": null,
   "input_path": "MPIA daily digest.ipynb",
   "output_path": "log.ipynb",
   "parameters": {},
   "start_time": "2024-10-29T04:11:01.671960",
   "version": "2.6.0"
  },
  "vscode": {
   "interpreter": {
    "hash": "aee8b7b246df8f9039afb4144a1f6fd8d2ca17a180786b69acc140d282b71a49"
   }
  },
  "widgets": {
   "application/vnd.jupyter.widget-state+json": {
    "state": {
     "0dd27dd543b749f592ae930ef0974c68": {
      "model_module": "@jupyter-widgets/base",
      "model_module_version": "2.0.0",
      "model_name": "LayoutModel",
      "state": {
       "_model_module": "@jupyter-widgets/base",
       "_model_module_version": "2.0.0",
       "_model_name": "LayoutModel",
       "_view_count": null,
       "_view_module": "@jupyter-widgets/base",
       "_view_module_version": "2.0.0",
       "_view_name": "LayoutView",
       "align_content": null,
       "align_items": null,
       "align_self": null,
       "border_bottom": null,
       "border_left": null,
       "border_right": null,
       "border_top": null,
       "bottom": null,
       "display": null,
       "flex": null,
       "flex_flow": null,
       "grid_area": null,
       "grid_auto_columns": null,
       "grid_auto_flow": null,
       "grid_auto_rows": null,
       "grid_column": null,
       "grid_gap": null,
       "grid_row": null,
       "grid_template_areas": null,
       "grid_template_columns": null,
       "grid_template_rows": null,
       "height": null,
       "justify_content": null,
       "justify_items": null,
       "left": null,
       "margin": null,
       "max_height": null,
       "max_width": null,
       "min_height": null,
       "min_width": null,
       "object_fit": null,
       "object_position": null,
       "order": null,
       "overflow": null,
       "padding": null,
       "right": null,
       "top": null,
       "visibility": null,
       "width": null
      }
     },
     "1253fceaa052437e8dd3ab1129de3d65": {
      "model_module": "@jupyter-widgets/controls",
      "model_module_version": "2.0.0",
      "model_name": "FloatProgressModel",
      "state": {
       "_dom_classes": [],
       "_model_module": "@jupyter-widgets/controls",
       "_model_module_version": "2.0.0",
       "_model_name": "FloatProgressModel",
       "_view_count": null,
       "_view_module": "@jupyter-widgets/controls",
       "_view_module_version": "2.0.0",
       "_view_name": "ProgressView",
       "bar_style": "success",
       "description": "",
       "description_allow_html": false,
       "layout": "IPY_MODEL_c2e7ea0994a944428815ae0dfe64f243",
       "max": 12.0,
       "min": 0.0,
       "orientation": "horizontal",
       "style": "IPY_MODEL_a5fbf55a01e84d10ba811e7a09ebe33f",
       "tabbable": null,
       "tooltip": null,
       "value": 12.0
      }
     },
     "530f1b2d5f364c7e81f3e0e60420af99": {
      "model_module": "@jupyter-widgets/controls",
      "model_module_version": "2.0.0",
      "model_name": "HTMLModel",
      "state": {
       "_dom_classes": [],
       "_model_module": "@jupyter-widgets/controls",
       "_model_module_version": "2.0.0",
       "_model_name": "HTMLModel",
       "_view_count": null,
       "_view_module": "@jupyter-widgets/controls",
       "_view_module_version": "2.0.0",
       "_view_name": "HTMLView",
       "description": "",
       "description_allow_html": false,
       "layout": "IPY_MODEL_0dd27dd543b749f592ae930ef0974c68",
       "placeholder": "​",
       "style": "IPY_MODEL_6619764034b847419cfb30a0f5d39fd7",
       "tabbable": null,
       "tooltip": null,
       "value": "100%"
      }
     },
     "6619764034b847419cfb30a0f5d39fd7": {
      "model_module": "@jupyter-widgets/controls",
      "model_module_version": "2.0.0",
      "model_name": "HTMLStyleModel",
      "state": {
       "_model_module": "@jupyter-widgets/controls",
       "_model_module_version": "2.0.0",
       "_model_name": "HTMLStyleModel",
       "_view_count": null,
       "_view_module": "@jupyter-widgets/base",
       "_view_module_version": "2.0.0",
       "_view_name": "StyleView",
       "background": null,
       "description_width": "",
       "font_size": null,
       "text_color": null
      }
     },
     "7e39ba23d75648329157c58992906799": {
      "model_module": "@jupyter-widgets/base",
      "model_module_version": "2.0.0",
      "model_name": "LayoutModel",
      "state": {
       "_model_module": "@jupyter-widgets/base",
       "_model_module_version": "2.0.0",
       "_model_name": "LayoutModel",
       "_view_count": null,
       "_view_module": "@jupyter-widgets/base",
       "_view_module_version": "2.0.0",
       "_view_name": "LayoutView",
       "align_content": null,
       "align_items": null,
       "align_self": null,
       "border_bottom": null,
       "border_left": null,
       "border_right": null,
       "border_top": null,
       "bottom": null,
       "display": null,
       "flex": null,
       "flex_flow": null,
       "grid_area": null,
       "grid_auto_columns": null,
       "grid_auto_flow": null,
       "grid_auto_rows": null,
       "grid_column": null,
       "grid_gap": null,
       "grid_row": null,
       "grid_template_areas": null,
       "grid_template_columns": null,
       "grid_template_rows": null,
       "height": null,
       "justify_content": null,
       "justify_items": null,
       "left": null,
       "margin": null,
       "max_height": null,
       "max_width": null,
       "min_height": null,
       "min_width": null,
       "object_fit": null,
       "object_position": null,
       "order": null,
       "overflow": null,
       "padding": null,
       "right": null,
       "top": null,
       "visibility": null,
       "width": null
      }
     },
     "8013f0d34ebe4e0f922728c8167d6bd4": {
      "model_module": "@jupyter-widgets/controls",
      "model_module_version": "2.0.0",
      "model_name": "HTMLModel",
      "state": {
       "_dom_classes": [],
       "_model_module": "@jupyter-widgets/controls",
       "_model_module_version": "2.0.0",
       "_model_name": "HTMLModel",
       "_view_count": null,
       "_view_module": "@jupyter-widgets/controls",
       "_view_module_version": "2.0.0",
       "_view_name": "HTMLView",
       "description": "",
       "description_allow_html": false,
       "layout": "IPY_MODEL_c9a4b782e9e94cdbb96094ccdfd9d414",
       "placeholder": "​",
       "style": "IPY_MODEL_acc2b9396f92497c9d3f84f4eedded68",
       "tabbable": null,
       "tooltip": null,
       "value": " 12/12 [01:03&lt;00:00,  5.72s/it]"
      }
     },
     "a5fbf55a01e84d10ba811e7a09ebe33f": {
      "model_module": "@jupyter-widgets/controls",
      "model_module_version": "2.0.0",
      "model_name": "ProgressStyleModel",
      "state": {
       "_model_module": "@jupyter-widgets/controls",
       "_model_module_version": "2.0.0",
       "_model_name": "ProgressStyleModel",
       "_view_count": null,
       "_view_module": "@jupyter-widgets/base",
       "_view_module_version": "2.0.0",
       "_view_name": "StyleView",
       "bar_color": null,
       "description_width": ""
      }
     },
     "acc2b9396f92497c9d3f84f4eedded68": {
      "model_module": "@jupyter-widgets/controls",
      "model_module_version": "2.0.0",
      "model_name": "HTMLStyleModel",
      "state": {
       "_model_module": "@jupyter-widgets/controls",
       "_model_module_version": "2.0.0",
       "_model_name": "HTMLStyleModel",
       "_view_count": null,
       "_view_module": "@jupyter-widgets/base",
       "_view_module_version": "2.0.0",
       "_view_name": "StyleView",
       "background": null,
       "description_width": "",
       "font_size": null,
       "text_color": null
      }
     },
     "b26145f5603c4546a0789a8687a46530": {
      "model_module": "@jupyter-widgets/controls",
      "model_module_version": "2.0.0",
      "model_name": "HBoxModel",
      "state": {
       "_dom_classes": [],
       "_model_module": "@jupyter-widgets/controls",
       "_model_module_version": "2.0.0",
       "_model_name": "HBoxModel",
       "_view_count": null,
       "_view_module": "@jupyter-widgets/controls",
       "_view_module_version": "2.0.0",
       "_view_name": "HBoxView",
       "box_style": "",
       "children": [
        "IPY_MODEL_530f1b2d5f364c7e81f3e0e60420af99",
        "IPY_MODEL_1253fceaa052437e8dd3ab1129de3d65",
        "IPY_MODEL_8013f0d34ebe4e0f922728c8167d6bd4"
       ],
       "layout": "IPY_MODEL_7e39ba23d75648329157c58992906799",
       "tabbable": null,
       "tooltip": null
      }
     },
     "c2e7ea0994a944428815ae0dfe64f243": {
      "model_module": "@jupyter-widgets/base",
      "model_module_version": "2.0.0",
      "model_name": "LayoutModel",
      "state": {
       "_model_module": "@jupyter-widgets/base",
       "_model_module_version": "2.0.0",
       "_model_name": "LayoutModel",
       "_view_count": null,
       "_view_module": "@jupyter-widgets/base",
       "_view_module_version": "2.0.0",
       "_view_name": "LayoutView",
       "align_content": null,
       "align_items": null,
       "align_self": null,
       "border_bottom": null,
       "border_left": null,
       "border_right": null,
       "border_top": null,
       "bottom": null,
       "display": null,
       "flex": null,
       "flex_flow": null,
       "grid_area": null,
       "grid_auto_columns": null,
       "grid_auto_flow": null,
       "grid_auto_rows": null,
       "grid_column": null,
       "grid_gap": null,
       "grid_row": null,
       "grid_template_areas": null,
       "grid_template_columns": null,
       "grid_template_rows": null,
       "height": null,
       "justify_content": null,
       "justify_items": null,
       "left": null,
       "margin": null,
       "max_height": null,
       "max_width": null,
       "min_height": null,
       "min_width": null,
       "object_fit": null,
       "object_position": null,
       "order": null,
       "overflow": null,
       "padding": null,
       "right": null,
       "top": null,
       "visibility": null,
       "width": null
      }
     },
     "c9a4b782e9e94cdbb96094ccdfd9d414": {
      "model_module": "@jupyter-widgets/base",
      "model_module_version": "2.0.0",
      "model_name": "LayoutModel",
      "state": {
       "_model_module": "@jupyter-widgets/base",
       "_model_module_version": "2.0.0",
       "_model_name": "LayoutModel",
       "_view_count": null,
       "_view_module": "@jupyter-widgets/base",
       "_view_module_version": "2.0.0",
       "_view_name": "LayoutView",
       "align_content": null,
       "align_items": null,
       "align_self": null,
       "border_bottom": null,
       "border_left": null,
       "border_right": null,
       "border_top": null,
       "bottom": null,
       "display": null,
       "flex": null,
       "flex_flow": null,
       "grid_area": null,
       "grid_auto_columns": null,
       "grid_auto_flow": null,
       "grid_auto_rows": null,
       "grid_column": null,
       "grid_gap": null,
       "grid_row": null,
       "grid_template_areas": null,
       "grid_template_columns": null,
       "grid_template_rows": null,
       "height": null,
       "justify_content": null,
       "justify_items": null,
       "left": null,
       "margin": null,
       "max_height": null,
       "max_width": null,
       "min_height": null,
       "min_width": null,
       "object_fit": null,
       "object_position": null,
       "order": null,
       "overflow": null,
       "padding": null,
       "right": null,
       "top": null,
       "visibility": null,
       "width": null
      }
     }
    },
    "version_major": 2,
    "version_minor": 0
   }
  }
 },
 "nbformat": 4,
 "nbformat_minor": 5
}