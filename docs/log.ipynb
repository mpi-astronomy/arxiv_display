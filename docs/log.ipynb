{
 "cells": [
  {
   "cell_type": "markdown",
   "id": "92bcb855",
   "metadata": {
    "papermill": {
     "duration": 0.007761,
     "end_time": "2022-11-17T04:08:54.324251",
     "exception": false,
     "start_time": "2022-11-17T04:08:54.316490",
     "status": "completed"
    },
    "tags": []
   },
   "source": [
    "# MPIA Arxiv on Deck 2\n",
    "\n",
    "Contains the steps to produce the paper extractions."
   ]
  },
  {
   "cell_type": "code",
   "execution_count": 1,
   "id": "3a0d6e11",
   "metadata": {
    "execution": {
     "iopub.execute_input": "2022-11-17T04:08:54.335889Z",
     "iopub.status.busy": "2022-11-17T04:08:54.335244Z",
     "iopub.status.idle": "2022-11-17T04:08:54.528658Z",
     "shell.execute_reply": "2022-11-17T04:08:54.527805Z"
    },
    "papermill": {
     "duration": 0.202887,
     "end_time": "2022-11-17T04:08:54.531251",
     "exception": false,
     "start_time": "2022-11-17T04:08:54.328364",
     "status": "completed"
    },
    "tags": []
   },
   "outputs": [],
   "source": [
    "# Imports\n",
    "import os\n",
    "from IPython.display import Markdown, display\n",
    "from tqdm.notebook import tqdm\n",
    "import warnings\n",
    "from PIL import Image \n",
    "\n",
    "# requires arxiv_on_deck_2\n",
    "\n",
    "from arxiv_on_deck_2.arxiv2 import (get_new_papers, \n",
    "                                    get_paper_from_identifier,\n",
    "                                    retrieve_document_source, \n",
    "                                    get_markdown_badge)\n",
    "from arxiv_on_deck_2 import (latex, \n",
    "                             mpia,\n",
    "                             highlight_authors_in_list)\n",
    "\n",
    "# Sometimes images are really big\n",
    "Image.MAX_IMAGE_PIXELS = 1000000000 "
   ]
  },
  {
   "cell_type": "code",
   "execution_count": 2,
   "id": "22aa9d44",
   "metadata": {
    "execution": {
     "iopub.execute_input": "2022-11-17T04:08:54.547314Z",
     "iopub.status.busy": "2022-11-17T04:08:54.546985Z",
     "iopub.status.idle": "2022-11-17T04:08:54.553049Z",
     "shell.execute_reply": "2022-11-17T04:08:54.551968Z"
    },
    "papermill": {
     "duration": 0.015023,
     "end_time": "2022-11-17T04:08:54.555747",
     "exception": false,
     "start_time": "2022-11-17T04:08:54.540724",
     "status": "completed"
    },
    "tags": []
   },
   "outputs": [],
   "source": [
    "# Some useful definitions.\n",
    "\n",
    "class AffiliationWarning(UserWarning):\n",
    "    pass\n",
    "\n",
    "class AffiliationError(RuntimeError):\n",
    "    pass\n",
    "\n",
    "def validation(source: str):\n",
    "    \"\"\"Raises error paper during parsing of source file\n",
    "    \n",
    "    Allows checks before parsing TeX code.\n",
    "    \n",
    "    Raises AffiliationWarning\n",
    "    \"\"\"\n",
    "    check = mpia.affiliation_verifications(source, verbose=True)\n",
    "    if check is not True:\n",
    "        raise AffiliationError(\"mpia.affiliation_verifications: \" + check)\n",
    "\n",
    "        \n",
    "warnings.simplefilter('always', AffiliationWarning)"
   ]
  },
  {
   "cell_type": "code",
   "execution_count": 3,
   "id": "14622700",
   "metadata": {
    "execution": {
     "iopub.execute_input": "2022-11-17T04:08:54.566969Z",
     "iopub.status.busy": "2022-11-17T04:08:54.566707Z",
     "iopub.status.idle": "2022-11-17T04:08:54.571471Z",
     "shell.execute_reply": "2022-11-17T04:08:54.570691Z"
    },
    "papermill": {
     "duration": 0.013462,
     "end_time": "2022-11-17T04:08:54.574032",
     "exception": false,
     "start_time": "2022-11-17T04:08:54.560570",
     "status": "completed"
    },
    "tags": []
   },
   "outputs": [],
   "source": [
    "# additional CSS to consider. \n",
    "# TODO: Current into each exported file. \n",
    "#       This should be set once into the webpages directly.\n",
    "#       With only the class/id definitions in the .md files.\n",
    "\n",
    "debug_html = \"\"\"\n",
    "<style>\n",
    "#wrap{ overflow:auto; }\n",
    "#fig1{ background:yellow; width:100%; float:left; padding:5px;  }\n",
    "#fig2{ background:red; width:50%; float:left; clear:left; padding:5px;  }\n",
    "#fig3{ background:green; width:50%; float:left; padding:5px;   }\n",
    ".macros{ background:yellow; visibility:visible;}\n",
    "h1 {margin: 0 0 0 0;}\n",
    "mark {background-color:#fff3b6;}\n",
    "img {object-fit:contain; max-height:250px; display:inline-block; text-align: center;}\n",
    "</style>\n",
    "\"\"\" \n",
    "html = \"\"\"\n",
    "<style>\n",
    "#wrap{ overflow:auto; }\n",
    "#fig1{ width:100%; float:left; padding: 5px;  }\n",
    "#fig2{ width:50%; float:left; clear:left; padding: 5px;  }\n",
    "#fig3{ width:50%; float:left; padding: 5px;  }\n",
    ".macros{ visibility:hidden; height:0px; }\n",
    "h1 {margin: 0em 0 0 0;}\n",
    "mark {background-color:#fff3b6;}\n",
    "img {object-fit:contain; max-height:250px; display:inline-block; text-align: center;}\n",
    "</style>\n",
    "\"\"\""
   ]
  },
  {
   "cell_type": "markdown",
   "id": "14bd6310",
   "metadata": {
    "papermill": {
     "duration": 0.004591,
     "end_time": "2022-11-17T04:08:54.582874",
     "exception": false,
     "start_time": "2022-11-17T04:08:54.578283",
     "status": "completed"
    },
    "tags": []
   },
   "source": [
    "## get list of arxiv paper candidates\n",
    "\n",
    "We use the MPIA mitarbeiter list webpage from mpia.de to get author names\n",
    "We then get all new papers from Arxiv and match authors"
   ]
  },
  {
   "cell_type": "code",
   "execution_count": 4,
   "id": "2645e73a",
   "metadata": {
    "execution": {
     "iopub.execute_input": "2022-11-17T04:08:54.595430Z",
     "iopub.status.busy": "2022-11-17T04:08:54.595173Z",
     "iopub.status.idle": "2022-11-17T04:09:22.598668Z",
     "shell.execute_reply": "2022-11-17T04:09:22.597016Z"
    },
    "papermill": {
     "duration": 28.012358,
     "end_time": "2022-11-17T04:09:22.601200",
     "exception": false,
     "start_time": "2022-11-17T04:08:54.588842",
     "status": "completed"
    },
    "tags": []
   },
   "outputs": [
    {
     "name": "stdout",
     "output_type": "stream",
     "text": [
      "Arxiv has 52 new papers today\n",
      "          19 with possible author matches\n"
     ]
    }
   ],
   "source": [
    "# get list from MPIA website\n",
    "# it automatically filters identified non-scientists :func:`mpia.filter_non_scientists`\n",
    "mpia_authors = mpia.get_mpia_mitarbeiter_list()\n",
    "new_papers = get_new_papers()\n",
    "# add manual references\n",
    "add_paper_refs = []\n",
    "new_papers.extend([get_paper_from_identifier(k) for k in add_paper_refs])\n",
    "\n",
    "# select only papers with matching author names and highlight authors\n",
    "hl_list = [k[0] for k in mpia_authors]\n",
    "\n",
    "candidates = []\n",
    "for paperk in new_papers:\n",
    "    hl_authors = highlight_authors_in_list(paperk['authors'], hl_list)\n",
    "    matches = [(hl, orig) for hl, orig in zip(hl_authors, paperk['authors']) if 'mark' in hl]\n",
    "    paperk['authors'] = hl_authors\n",
    "    if matches:\n",
    "        candidates.append(paperk)\n",
    "print(\"\"\"Arxiv has {0:,d} new papers today\"\"\".format(len(new_papers)))        \n",
    "print(\"\"\"          {0:,d} with possible author matches\"\"\".format(len(candidates)))"
   ]
  },
  {
   "cell_type": "markdown",
   "id": "3543b34a",
   "metadata": {
    "papermill": {
     "duration": 0.00648,
     "end_time": "2022-11-17T04:09:22.615415",
     "exception": false,
     "start_time": "2022-11-17T04:09:22.608935",
     "status": "completed"
    },
    "tags": []
   },
   "source": [
    "# Parse sources and generate relevant outputs\n",
    "\n",
    "From the candidates, we do the following steps:\n",
    "* get their tarball from ArXiv (and extract data)\n",
    "* find the main .tex file: find one with \\documentclass{...} (sometimes it's non trivial)\n",
    "* Check affiliations with :func:`validation`, which uses :func:`mpia.affiliation_verifications`\n",
    "* If passing the affiliations: we parse the .tex source\n",
    "   * inject sub-documents into the main (flatten the main document)\n",
    "   * parse structure, extract information (title, abstract, authors, figures...)\n",
    "   * handles `\\graphicspath` if provided\n",
    "* Generate the .md document."
   ]
  },
  {
   "cell_type": "code",
   "execution_count": 5,
   "id": "9576b79e",
   "metadata": {
    "execution": {
     "iopub.execute_input": "2022-11-17T04:09:22.627257Z",
     "iopub.status.busy": "2022-11-17T04:09:22.626909Z",
     "iopub.status.idle": "2022-11-17T04:15:39.505808Z",
     "shell.execute_reply": "2022-11-17T04:15:39.504949Z"
    },
    "papermill": {
     "duration": 376.887533,
     "end_time": "2022-11-17T04:15:39.508104",
     "exception": false,
     "start_time": "2022-11-17T04:09:22.620571",
     "status": "completed"
    },
    "scrolled": false,
    "tags": []
   },
   "outputs": [
    {
     "data": {
      "application/vnd.jupyter.widget-view+json": {
       "model_id": "eb451d5e2501473ca19a6fe5e62a311c",
       "version_major": 2,
       "version_minor": 0
      },
      "text/plain": [
       "  0%|          | 0/18 [00:00<?, ?it/s]"
      ]
     },
     "metadata": {},
     "output_type": "display_data"
    },
    {
     "name": "stdout",
     "output_type": "stream",
     "text": [
      "Retrieving document from  https://arxiv.org/e-print/2211.08440\n"
     ]
    },
    {
     "name": "stdout",
     "output_type": "stream",
     "text": [
      "extracting tarball to tmp_2211.08440..."
     ]
    },
    {
     "name": "stdout",
     "output_type": "stream",
     "text": [
      " done.\n",
      "Retrieving document from  https://arxiv.org/e-print/2211.08487\n"
     ]
    },
    {
     "name": "stdout",
     "output_type": "stream",
     "text": [
      "extracting tarball to tmp_2211.08487..."
     ]
    },
    {
     "name": "stdout",
     "output_type": "stream",
     "text": [
      " done.\n"
     ]
    },
    {
     "name": "stdout",
     "output_type": "stream",
     "text": [
      "Retrieving document from  https://arxiv.org/e-print/2211.08488\n"
     ]
    },
    {
     "name": "stdout",
     "output_type": "stream",
     "text": [
      "extracting tarball to tmp_2211.08488..."
     ]
    },
    {
     "name": "stdout",
     "output_type": "stream",
     "text": [
      " done.\n",
      "Retrieving document from  https://arxiv.org/e-print/2211.08490\n"
     ]
    },
    {
     "name": "stderr",
     "output_type": "stream",
     "text": [
      "/opt/hostedtoolcache/Python/3.9.15/x64/lib/python3.9/site-packages/IPython/core/interactiveshell.py:3433: LatexWarning: Multiple tex files.\n",
      "\n",
      "  exec(code_obj, self.user_global_ns, self.user_ns)\n",
      "/opt/hostedtoolcache/Python/3.9.15/x64/lib/python3.9/site-packages/IPython/core/interactiveshell.py:3433: LatexWarning: Found documentclass in tmp_2211.08488/Article_J0901_main.tex\n",
      "\n",
      "  exec(code_obj, self.user_global_ns, self.user_ns)\n",
      "/opt/hostedtoolcache/Python/3.9.15/x64/lib/python3.9/site-packages/arxiv_on_deck_2/latex.py:292: LatexWarning: Latex injecting: 'Article_J0901_main.bbl' from 'tmp_2211.08488/Article_J0901_main.tex'\n",
      "  warnings.warn(LatexWarning(f\"Latex injecting: '{ext}' from '{subsource}'\"))\n",
      "/opt/hostedtoolcache/Python/3.9.15/x64/lib/python3.9/site-packages/arxiv_on_deck_2/latex.py:292: LatexWarning: Latex injecting: 'Input_fig_10' from 'tmp_2211.08488/Input_fig_10.tex'\n",
      "  warnings.warn(LatexWarning(f\"Latex injecting: '{ext}' from '{subsource}'\"))\n",
      "/opt/hostedtoolcache/Python/3.9.15/x64/lib/python3.9/site-packages/arxiv_on_deck_2/latex.py:292: LatexWarning: Latex injecting: 'Input_fig_9' from 'tmp_2211.08488/Input_fig_9.tex'\n",
      "  warnings.warn(LatexWarning(f\"Latex injecting: '{ext}' from '{subsource}'\"))\n",
      "/opt/hostedtoolcache/Python/3.9.15/x64/lib/python3.9/site-packages/arxiv_on_deck_2/latex.py:292: LatexWarning: Latex injecting: 'Input_fig_8' from 'tmp_2211.08488/Input_fig_8.tex'\n",
      "  warnings.warn(LatexWarning(f\"Latex injecting: '{ext}' from '{subsource}'\"))\n",
      "/opt/hostedtoolcache/Python/3.9.15/x64/lib/python3.9/site-packages/arxiv_on_deck_2/latex.py:292: LatexWarning: Latex injecting: 'Input_fig_7' from 'tmp_2211.08488/Input_fig_7.tex'\n",
      "  warnings.warn(LatexWarning(f\"Latex injecting: '{ext}' from '{subsource}'\"))\n",
      "/opt/hostedtoolcache/Python/3.9.15/x64/lib/python3.9/site-packages/arxiv_on_deck_2/latex.py:292: LatexWarning: Latex injecting: 'Input_fig_6' from 'tmp_2211.08488/Input_fig_6.tex'\n",
      "  warnings.warn(LatexWarning(f\"Latex injecting: '{ext}' from '{subsource}'\"))\n",
      "/opt/hostedtoolcache/Python/3.9.15/x64/lib/python3.9/site-packages/arxiv_on_deck_2/latex.py:292: LatexWarning: Latex injecting: 'Input_fig_5' from 'tmp_2211.08488/Input_fig_5.tex'\n",
      "  warnings.warn(LatexWarning(f\"Latex injecting: '{ext}' from '{subsource}'\"))\n",
      "/opt/hostedtoolcache/Python/3.9.15/x64/lib/python3.9/site-packages/arxiv_on_deck_2/latex.py:292: LatexWarning: Latex injecting: 'Input_table_1' from 'tmp_2211.08488/Input_table_1.tex'\n",
      "  warnings.warn(LatexWarning(f\"Latex injecting: '{ext}' from '{subsource}'\"))\n",
      "/opt/hostedtoolcache/Python/3.9.15/x64/lib/python3.9/site-packages/arxiv_on_deck_2/latex.py:292: LatexWarning: Latex injecting: 'Input_authors' from 'tmp_2211.08488/Input_authors.tex'\n",
      "  warnings.warn(LatexWarning(f\"Latex injecting: '{ext}' from '{subsource}'\"))\n",
      "/opt/hostedtoolcache/Python/3.9.15/x64/lib/python3.9/site-packages/arxiv_on_deck_2/latex.py:292: LatexWarning: Latex injecting: 'Input_newcommand' from 'tmp_2211.08488/Input_newcommand.tex'\n",
      "  warnings.warn(LatexWarning(f\"Latex injecting: '{ext}' from '{subsource}'\"))\n",
      "/opt/hostedtoolcache/Python/3.9.15/x64/lib/python3.9/site-packages/arxiv_on_deck_2/latex.py:292: LatexWarning: Latex injecting: 'Input_usepackage' from 'tmp_2211.08488/Input_usepackage.tex'\n",
      "  warnings.warn(LatexWarning(f\"Latex injecting: '{ext}' from '{subsource}'\"))\n"
     ]
    },
    {
     "name": "stdout",
     "output_type": "stream",
     "text": [
      "extracting tarball to tmp_2211.08490..."
     ]
    },
    {
     "name": "stdout",
     "output_type": "stream",
     "text": [
      " done.\n",
      "Retrieving document from  https://arxiv.org/e-print/2211.08493\n"
     ]
    },
    {
     "name": "stdout",
     "output_type": "stream",
     "text": [
      "extracting tarball to tmp_2211.08493..."
     ]
    },
    {
     "name": "stdout",
     "output_type": "stream",
     "text": [
      " done.\n"
     ]
    },
    {
     "name": "stdout",
     "output_type": "stream",
     "text": [
      "Retrieving document from  https://arxiv.org/e-print/2211.08592\n"
     ]
    },
    {
     "name": "stdout",
     "output_type": "stream",
     "text": [
      "extracting tarball to tmp_2211.08592..."
     ]
    },
    {
     "name": "stdout",
     "output_type": "stream",
     "text": [
      " done.\n",
      "Retrieving document from  https://arxiv.org/e-print/2211.08647\n"
     ]
    },
    {
     "name": "stdout",
     "output_type": "stream",
     "text": [
      "extracting tarball to tmp_2211.08647..."
     ]
    },
    {
     "name": "stdout",
     "output_type": "stream",
     "text": [
      " done.\n",
      "Retrieving document from  https://arxiv.org/e-print/2211.08789\n"
     ]
    },
    {
     "name": "stdout",
     "output_type": "stream",
     "text": [
      "extracting tarball to tmp_2211.08789..."
     ]
    },
    {
     "name": "stdout",
     "output_type": "stream",
     "text": [
      " done.\n",
      "Retrieving document from  https://arxiv.org/e-print/2211.08806\n"
     ]
    },
    {
     "name": "stdout",
     "output_type": "stream",
     "text": [
      "extracting tarball to tmp_2211.08806..."
     ]
    },
    {
     "name": "stdout",
     "output_type": "stream",
     "text": [
      " done.\n",
      "Retrieving document from  https://arxiv.org/e-print/2211.08816\n"
     ]
    },
    {
     "name": "stdout",
     "output_type": "stream",
     "text": [
      "extracting tarball to tmp_2211.08816..."
     ]
    },
    {
     "name": "stdout",
     "output_type": "stream",
     "text": [
      " done.\n",
      "Retrieving document from  https://arxiv.org/e-print/2211.08852\n"
     ]
    },
    {
     "name": "stderr",
     "output_type": "stream",
     "text": [
      "/opt/hostedtoolcache/Python/3.9.15/x64/lib/python3.9/site-packages/IPython/core/interactiveshell.py:3433: LatexWarning: Multiple tex files.\n",
      "\n",
      "  exec(code_obj, self.user_global_ns, self.user_ns)\n",
      "/opt/hostedtoolcache/Python/3.9.15/x64/lib/python3.9/site-packages/IPython/core/interactiveshell.py:3433: LatexWarning: Found documentclass in tmp_2211.08816/ms.tex\n",
      "\n",
      "  exec(code_obj, self.user_global_ns, self.user_ns)\n"
     ]
    },
    {
     "name": "stdout",
     "output_type": "stream",
     "text": [
      "extracting tarball to tmp_2211.08852..."
     ]
    },
    {
     "name": "stdout",
     "output_type": "stream",
     "text": [
      " done.\n",
      "Retrieving document from  https://arxiv.org/e-print/2211.08884\n"
     ]
    },
    {
     "name": "stdout",
     "output_type": "stream",
     "text": [
      "extracting tarball to tmp_2211.08884..."
     ]
    },
    {
     "name": "stdout",
     "output_type": "stream",
     "text": [
      " done.\n",
      "Retrieving document from  https://arxiv.org/e-print/2211.08899\n"
     ]
    },
    {
     "name": "stdout",
     "output_type": "stream",
     "text": [
      "extracting tarball to tmp_2211.08899..."
     ]
    },
    {
     "name": "stdout",
     "output_type": "stream",
     "text": [
      " done.\n",
      "Retrieving document from  https://arxiv.org/e-print/2211.08990\n"
     ]
    },
    {
     "name": "stdout",
     "output_type": "stream",
     "text": [
      "extracting tarball to tmp_2211.08990..."
     ]
    },
    {
     "name": "stdout",
     "output_type": "stream",
     "text": [
      " done.\n",
      "Retrieving document from  https://arxiv.org/e-print/2211.09030\n"
     ]
    },
    {
     "name": "stdout",
     "output_type": "stream",
     "text": [
      "extracting tarball to tmp_2211.09030... done.\n",
      "Retrieving document from  https://arxiv.org/e-print/2211.09049\n"
     ]
    },
    {
     "name": "stdout",
     "output_type": "stream",
     "text": [
      "extracting tarball to tmp_2211.09049..."
     ]
    },
    {
     "name": "stdout",
     "output_type": "stream",
     "text": [
      " done.\n",
      "Retrieving document from  https://arxiv.org/e-print/2211.09071\n"
     ]
    },
    {
     "name": "stdout",
     "output_type": "stream",
     "text": [
      "extracting tarball to tmp_2211.09071..."
     ]
    },
    {
     "name": "stdout",
     "output_type": "stream",
     "text": [
      " done.\n",
      "Retrieving document from  https://arxiv.org/e-print/2211.09080\n"
     ]
    },
    {
     "name": "stdout",
     "output_type": "stream",
     "text": [
      "extracting tarball to tmp_2211.09080..."
     ]
    },
    {
     "name": "stdout",
     "output_type": "stream",
     "text": [
      " done.\n"
     ]
    }
   ],
   "source": [
    "documents = []\n",
    "failed = []\n",
    "for paper in tqdm(candidates[:-1]):\n",
    "    paper_id = paper['identifier'].lower().replace('arxiv:', '')\n",
    "    \n",
    "    folder = f'tmp_{paper_id}'\n",
    "\n",
    "    try:\n",
    "        if not os.path.isdir(folder):\n",
    "            folder = retrieve_document_source(f\"{paper_id}\", f'tmp_{paper_id}')\n",
    "        \n",
    "        try:\n",
    "            doc = latex.LatexDocument(folder, validation=validation)    \n",
    "        except AffiliationError as affilerror:\n",
    "            msg = f\"ArXiv:{paper_id:s} is not an MPIA paper... \" + str(affilerror)\n",
    "            failed.append((paper, \"affiliation error: \" + str(affilerror) ))\n",
    "            continue\n",
    "        \n",
    "        # Hack because sometimes author parsing does not work well\n",
    "        if (len(doc.authors) != len(paper['authors'])):\n",
    "            doc._authors = paper['authors']\n",
    "        if (doc.abstract) in (None, ''):\n",
    "            doc._abstract = paper['abstract']\n",
    "            \n",
    "        doc.comment = (get_markdown_badge(paper_id) + \n",
    "                       \"<mark>Appeared on: \" + paper['date'] + \"</mark> - \" +\n",
    "                       \"_\" + paper['comments'] + \"_\")\n",
    "        doc.highlight_authors_in_list(hl_list)\n",
    "\n",
    "        full_md = doc.generate_markdown_text()\n",
    "        \n",
    "        documents.append((paper_id, full_md))\n",
    "    except Exception as e:\n",
    "        warnings.warn(latex.LatexWarning(f\"{paper_id:s} did not run properly\\n\" +\n",
    "                                         str(e)\n",
    "                                        ))\n",
    "        failed.append((paper, \"latex error \" + str(e)))"
   ]
  },
  {
   "cell_type": "markdown",
   "id": "2505a25c",
   "metadata": {
    "papermill": {
     "duration": 0.006178,
     "end_time": "2022-11-17T04:15:39.521834",
     "exception": false,
     "start_time": "2022-11-17T04:15:39.515656",
     "status": "completed"
    },
    "tags": []
   },
   "source": [
    "### Export the logs\n",
    "\n",
    "Throughout, we also keep track of the logs per paper. see `logs-{today date}.md` "
   ]
  },
  {
   "cell_type": "code",
   "execution_count": 6,
   "id": "d733828a",
   "metadata": {
    "execution": {
     "iopub.execute_input": "2022-11-17T04:15:39.537607Z",
     "iopub.status.busy": "2022-11-17T04:15:39.536816Z",
     "iopub.status.idle": "2022-11-17T04:15:39.571657Z",
     "shell.execute_reply": "2022-11-17T04:15:39.570688Z"
    },
    "papermill": {
     "duration": 0.045395,
     "end_time": "2022-11-17T04:15:39.573930",
     "exception": false,
     "start_time": "2022-11-17T04:15:39.528535",
     "status": "completed"
    },
    "scrolled": false,
    "tags": []
   },
   "outputs": [
    {
     "data": {
      "text/markdown": [
       "## Successful papers"
      ],
      "text/plain": [
       "<IPython.core.display.Markdown object>"
      ]
     },
     "metadata": {},
     "output_type": "display_data"
    },
    {
     "data": {
      "text/markdown": [
       "\n",
       "|||\n",
       "|---:|:---|\n",
       "| [![arXiv](https://img.shields.io/badge/arXiv-arXiv:2211.08487-b31b1b.svg)](https://arxiv.org/abs/arXiv:2211.08487) | **Calibration of hybrid resolved star formation rate recipes based on  PHANGS-MUSE H$α$ and H$β$ maps**  |\n",
       "|| Francesco Belfiore, et al. -- incl., <mark>Kathryn Kreckel</mark>, <mark>Lukas Neumann</mark>, <mark>Eva Schinnerer</mark> |\n",
       "|*Appeared on*| *2022-11-17*|\n",
       "|*Comments*| *accepted in A&A*|\n",
       "|**Abstract**| Mapping star-formation rates (SFR) within galaxies is key to unveiling their assembly and evolution. Calibrations exist for computing SFR from a combination of ultraviolet and infrared bands for galaxies as integrated systems, but their applicability to sub-galactic (kpc) scales remains largely untested. Here we use integral field spectroscopy of 19 nearby ($D <$ 20 Mpc) galaxies obtained by PHANGS-MUSE to derive accurate Balmer decrements (H$\\alpha$/H$\\beta$) and attenuation-corrected H$\\alpha$ maps. We combine this information with mid-infrared maps from WISE at 22 $\\rm \\mu m$, and ultraviolet maps from GALEX in the far-UV band, to derive SFR surface densities in nearby galaxies on resolved (kpc) scales. Using the H$\\alpha$ attenuation-corrected SFR as a reference, we find that hybrid recipes from the literature overestimate the SFR in regions of low SFR surface density, low specific star-formation rate (sSFR), low attenuation and old stellar ages. We attribute these trends to heating of the dust by old stellar populations (IR cirrus). We calibrate this effect by proposing functional forms for the coefficients in front of the IR term which depend on band ratios sensitive to the sSFR. These calibrations prove reliable as a function of physical scale. In particular, they agree within 10% with the attenuation corrections computed from the Balmer decrement on 100 pc scales. Despite small quantitative differences, our calibrations are also applicable to integrated galaxy scales probed by the MaNGA survey, albeit with a larger scatter (up to 0.22 dex). Observations with JWST open up the possibility to calibrate these relations in nearby galaxies with cloud-scale ($\\sim$100 pc) resolution mid-IR imaging. |"
      ],
      "text/plain": [
       "[arXiv:2211.08487] Calibration of hybrid resolved star formation rate recipes based on  PHANGS-MUSE H$α$ and H$β$ maps\n",
       "\tFrancesco Belfiore, et al. -- incl., <mark>Kathryn Kreckel</mark>, <mark>Lukas Neumann</mark>, <mark>Eva Schinnerer</mark>"
      ]
     },
     "metadata": {},
     "output_type": "display_data"
    },
    {
     "data": {
      "text/markdown": [
       "\n",
       "|||\n",
       "|---:|:---|\n",
       "| [![arXiv](https://img.shields.io/badge/arXiv-arXiv:2211.08493-b31b1b.svg)](https://arxiv.org/abs/arXiv:2211.08493) | **The MUSE Hubble Ultra Deep Field surveys: Data release II**  |\n",
       "|| Roland Bacon, et al. -- incl., <mark>Leindert Boogaard</mark>, <mark>Yucheng Guo</mark>, <mark>Christian Herenz</mark> |\n",
       "|*Appeared on*| *2022-11-17*|\n",
       "|*Comments*| *46 pages, 48 figures*|\n",
       "|**Abstract**| We present the second data release of the MUSE Hubble UDF surveys, which includes the deepest spectroscopic survey ever performed. The MUSE data, with their 3D content, amazing depth, wide spectral range, and excellent spatial and medium spectral resolution, are rich in information. This update of the first release incorporates a new 141-hour adaptive-optics-assisted MXDF field (1' diameter FoV) in addition to the reprocessed 10-hour mosaic (3'x3') and the single 31-hour deep field (1'x1'). We have securely identified and measured the redshift of 2221 sources, an increase of 41% compared to the first release. With the exception of 8 stars, the collected sample consists of 25 nearby galaxies (z < 0.25), 677 OII emitters (z=0.25-1.5), 201 galaxies in the MUSE redshift desert range (z=1.5-2.8), and 1308 LAEs (z=2.8-6.7). This represents an order of magnitude more redshifts than the collection of all spectroscopic redshifts obtained before MUSE in the Hubble UDF area (2221 vs 292). At z > 3, the difference is even more striking, with a factor of 65 increase (1308 vs 20). We compared the measured redshifts against three published photometric redshift catalogs and find the photo-z accuracy to be lower than the constraints provided by photo-z fitting codes. 80% of the galaxies have an HST counterpart. They are on average faint, with a median magnitude of 25.7 and 28.7 for the OII and Ly-alpha emitters, respectively. SED fits show that these galaxies tend to be low-mass star-forming galaxies, with a median stellar mass of 6.2 10**8 M and a median SFR of 0.4 M/yr. 20% of our catalog, or 424 galaxies, have no HST counterpart. The vast majority of these new sources are high EQW z>2.8 LAEs that are detected by MUSE thanks to their bright and asymmetric broad Ly-alpha line. We release advanced data products, specific software, and a web interface to select and download data sets. |"
      ],
      "text/plain": [
       "[arXiv:2211.08493] The MUSE Hubble Ultra Deep Field surveys: Data release II\n",
       "\tRoland Bacon, et al. -- incl., <mark>Leindert Boogaard</mark>, <mark>Yucheng Guo</mark>, <mark>Christian Herenz</mark>"
      ]
     },
     "metadata": {},
     "output_type": "display_data"
    },
    {
     "data": {
      "text/markdown": [
       "## Failed papers"
      ],
      "text/plain": [
       "<IPython.core.display.Markdown object>"
      ]
     },
     "metadata": {},
     "output_type": "display_data"
    },
    {
     "data": {
      "text/markdown": [
       "\n",
       "|||\n",
       "|---:|:---|\n",
       "| [![arXiv](https://img.shields.io/badge/arXiv-arXiv:2211.08440-b31b1b.svg)](https://arxiv.org/abs/arXiv:2211.08440) | **The White Dwarf Binary Pathways Survey -- IX. Three long period white  dwarf plus subgiant binaries**  |\n",
       "|| S. G. Parsons, et al. -- incl., <mark>M. S. Hernandez</mark>, <mark>M. R. Schreiber</mark> |\n",
       "|*Appeared on*| *2022-11-17*|\n",
       "|*Comments*| *13 pages, 9 figures. Accepted for publication in MNRAS*|\n",
       "|**Abstract**| Virtually all binaries consisting of a white dwarf with a non-degenerate companion can be classified as either close post-interaction systems (with orbital periods of a few days or less), or wide systems (with periods longer than decades), in which both components have effectively evolved as single stars. Binaries with periods between these two extremes can help constrain common envelope efficiency, or highlight alternative pathways towards the creation of compact binaries. To date such binaries have remained mostly elusive. Here we present three white dwarfs in binaries with evolved subgiant stars with orbital periods of 41, 52 and 461 d. Using Hubble Space Telescope spectroscopy we find that all three systems contain low mass white dwarfs ($\\leq$0.4 M$_{\\odot}$). One system, TYC 8394$-$1331$-$1, is the inner binary of a hierarchical triple, where the white dwarf plus subgiant binary is orbited by a more distant companion star. These binaries were likely formed from a phase of stable but non-conservative mass transfer, as opposed to common envelope evolution. All three systems will undergo a common envelope phase in the future, but the two shorter period systems are expected to merge during this event, while the longest period system is likely to survive and create a close binary with two low mass white dwarfs. |\n",
       "|<p style=\"color:green\"> **ERROR** </p>| <p style=\"color:green\">affiliation error: mpia.affiliation_verifications: 'Heidelberg' keyword not found.</p> |"
      ],
      "text/plain": [
       "<IPython.core.display.Markdown object>"
      ]
     },
     "metadata": {},
     "output_type": "display_data"
    },
    {
     "data": {
      "text/markdown": [
       "\n",
       "|||\n",
       "|---:|:---|\n",
       "| [![arXiv](https://img.shields.io/badge/arXiv-arXiv:2211.08488-b31b1b.svg)](https://arxiv.org/abs/arXiv:2211.08488) | **A ~600 pc view of the strongly-lensed, massive main sequence galaxy  J0901: a baryon-dominated, thick turbulent rotating disk with a clumpy cold  gas ring at z = 2.259**  |\n",
       "|| <mark>Daizhong Liu</mark>, et al. -- incl., <mark>N. M. Förster Schreiber</mark>, <mark>L. L. Lee</mark>, <mark>R. I. Davies</mark>, <mark>R. L. Davies</mark>, <mark>R. Herrera-Camus</mark>, <mark>Minju M. Lee</mark> |\n",
       "|*Appeared on*| *2022-11-17*|\n",
       "|*Comments*| *29 pages and 21 figures in total (14 pages and 10 figures in main text and the rest in appendix). Accepted for publication in ApJ*|\n",
       "|**Abstract**| We present a high-resolution kinematic study of the massive main-sequence star-forming galaxy (SFG) SDSS J090122.37+181432.3 (J0901) at z=2.259, using 0.36 arcsec ALMA CO(3-2) and 0.1-0.5 arcsec SINFONI/VLT H-alpha observations. J0901 is a rare, strongly-lensed but otherwise normal massive (log(M_star/M_sun)~11) main sequence SFG, offering a unique opportunity to study a typical massive SFG under the microscope of lensing. Through forward dynamical modeling incorporating lensing deflection, we fit the CO and H-alpha kinematics in the image plane out to about one disk effective radius (R_e ~ 4 kpc) at a ~600pc delensed physical resolution along the kinematic major axis. Our results show high intrinsic dispersions of the cold molecular and warm ionized gas (sig0_mol ~ 40 km/s and sig0_ion ~ 66 km/s) that remain constant out to R_e; a moderately low dark matter fraction (f_DM(R_e) ~ 0.3-0.4) within R_e; and a centrally-peaked Toomre Q-parameter -- agreeing well with the previously established sig0 vs. z, f_DM vs. Sig_baryon, and Q's radial trends using large-sample non-lensed main sequence SFGs. Our data further reveal a high stellar mass concentration within ~1-2 kpc with little molecular gas, and a clumpy molecular gas ring-like structure at R ~ 2-4 kpc, in line with the inside-out quenching scenario. Our further analysis indicates that J0901 had assembled half of its stellar mass only ~400 Myrs before its observed cosmic time, and cold gas ring and dense central stellar component are consistent with signposts of a recent wet compaction event of a highly turbulent disk found in recent simulations. |\n",
       "|<p style=\"color:green\"> **ERROR** </p>| <p style=\"color:green\">affiliation error: mpia.affiliation_verifications: 'Heidelberg' keyword not found.</p> |"
      ],
      "text/plain": [
       "<IPython.core.display.Markdown object>"
      ]
     },
     "metadata": {},
     "output_type": "display_data"
    },
    {
     "data": {
      "text/markdown": [
       "\n",
       "|||\n",
       "|---:|:---|\n",
       "| [![arXiv](https://img.shields.io/badge/arXiv-arXiv:2211.08490-b31b1b.svg)](https://arxiv.org/abs/arXiv:2211.08490) | **A systematic validation of hot Neptunes in TESS data**  |\n",
       "|| Christian Magliano, et al. -- incl., <mark>Jack J. Lissauer</mark>, <mark>Carl Ziegler</mark> |\n",
       "|*Appeared on*| *2022-11-17*|\n",
       "|*Comments*| *24 pages, 20 figures. Accepted for publication on MNRAS*|\n",
       "|**Abstract**| We statistically validated a sample of hot Neptune candidates applying a two-step vetting technique using DAVE and TRICERATOPS. We performed a systematic validation of 250 transit-like events in the Transiting Exoplanet Survey Satellite (TESS) archive in the parameter region defined by $P\\leq 4$ d and $3R_\\oplus\\leq R\\leq 5R_\\oplus$. Through our analysis, we identified 18 hot Neptune-sized candidates, with a false positive probability $<50\\%$. Nine of these planet candidates still need to be confirmed. For each of the nine targets we retrieved the stellar parameters using ARIADNE and derived constraints on the planetary parameters by fitting the lightcurves with the juliet package. Within this sample of nine candidates, we statistically validated (i.e, with false positive probability < $0.3\\%$) two systems (TOI-277 b and TOI-1288 b) by re-processing the candidates with TRICERATOPS along with follow-up observations. These new validated exoplanets expand the known hot Neptunes population and are high-priority targets for future radial velocities follow-up. |\n",
       "|<p style=\"color:green\"> **ERROR** </p>| <p style=\"color:green\">affiliation error: mpia.affiliation_verifications: 'Heidelberg' keyword not found.</p> |"
      ],
      "text/plain": [
       "<IPython.core.display.Markdown object>"
      ]
     },
     "metadata": {},
     "output_type": "display_data"
    },
    {
     "data": {
      "text/markdown": [
       "\n",
       "|||\n",
       "|---:|:---|\n",
       "| [![arXiv](https://img.shields.io/badge/arXiv-arXiv:2211.08592-b31b1b.svg)](https://arxiv.org/abs/arXiv:2211.08592) | **Effects of supra-arcade downflows interacting with the post-flare arcade**  |\n",
       "|| Arun Kumar Awasthi, <mark>Rui Liu</mark>, Tingyu Gou |\n",
       "|*Appeared on*| *2022-11-17*|\n",
       "|*Comments*| *Accepted for publication in the Astrophysical Journal, Animation files - 4 (Refer to the published version)*|\n",
       "|**Abstract**| Supra-arcade downflows (SADs) are dark voids descending through plasma above the post-flare arcade. Although they are generally viewed as byproducts of flare reconnections in the corona, the nature of SADs is under debate. Here we investigated six distinct episodes of SADs observed in the post-maximum phase of an M-class flare of April 11, 2013. Differential emission measure analysis revealed that SAD cases occurring close to the flare maximum contain an enhanced hot plasma component at 5--7~MK whereas those occurring later exhibited a depression in hot plasma at 7--12~MK compared to the ambient supra-arcade plasma. On-disk location of the flare enabled us to examine in detail the interaction of SADs with the post-flare arcade, whose effects include 1) transverse oscillations of period $\\sim\\,$160~s in the supra-arcade rays in the wake of voids, 2) footpoint brightening in 1700{~\\AA} whose peak is delayed by 22-46~s with respect to the SAD's arrival at the top of the arcade, and 3) EUV intensity perturbations expanding and propagating with a speed $\\sim\\,$400 km~s$^{-1}$. On the other hand, due to line-of-sight confusion in the optically thin corona, the ribbon enhancement following the interaction produces an illusion of plasma rebound at the top of the arcade, where the interaction fails to yield significant plasma heating. These effects indicate that the interaction mainly generates MHD waves propagating toward the surface, which may further produce quasi-periodic brightening at flare ribbons, therefore contributing to quasi-periodic flare gradual phase emission in EUV. |\n",
       "|<p style=\"color:green\"> **ERROR** </p>| <p style=\"color:green\">affiliation error: mpia.affiliation_verifications: 'Heidelberg' keyword not found.</p> |"
      ],
      "text/plain": [
       "<IPython.core.display.Markdown object>"
      ]
     },
     "metadata": {},
     "output_type": "display_data"
    },
    {
     "data": {
      "text/markdown": [
       "\n",
       "|||\n",
       "|---:|:---|\n",
       "| [![arXiv](https://img.shields.io/badge/arXiv-arXiv:2211.08647-b31b1b.svg)](https://arxiv.org/abs/arXiv:2211.08647) | **The Eclipsing Binaries from the LAMOST Medium-resolution Survey.III. A  High-precision Empirical Stellar Mass Library**  |\n",
       "|| Jianping Xiong, et al. -- incl., <mark>Chao Liu</mark>, <mark>Jiao Li</mark>, <mark>Jiadong Li</mark>, <mark>Bo Zhang</mark>, <mark>Yongheng Zhao</mark> |\n",
       "|*Appeared on*| *2022-11-17*|\n",
       "|*Comments*| **|\n",
       "|**Abstract**| High-precision stellar mass and radius measured directly from binaries can effectively calibrate the stellar models. However, such a database containing full spectral types and large range of metallicity is still not fully established. A continuous effort of data collecting and analysis are requested to complete the database. In this work, we provide a catalog containing 184 binaries with independent atmospheric parameters and accurate masses and radii as the benchmark of stellar mass and radius. The catalog contains 56 new detached binaries from LAMOST Medium-resolution spectroscopic (MRS) survey and 128 detached eclipsing binaries compiled from previous studies. We obtain the orbital solutions of the new detached binaries with uncertainties of masses and radii smaller than 5%. These new samples densify the distribution of metallicity of the high-precision stellar mass library and add 9 hot stars with Teff>8000 K. Comparisons show that these samples well agree with the PARSEC isochrones in Teff-logg-mass-radius-luminosity space. We compare mass and radius estimates from isochrone and SED fitting, respectively, with those from the binary orbital solution. We find that the precision of the stellar-model dependent mass estimates is >10% and the precision of the radius estimates based on atmospheric parameters is >15%. These give a general view of the uncertainty of the usual approaches to estimate stellar mass and radius. |\n",
       "|<p style=\"color:green\"> **ERROR** </p>| <p style=\"color:green\">affiliation error: mpia.affiliation_verifications: 'Heidelberg' keyword not found.</p> |"
      ],
      "text/plain": [
       "<IPython.core.display.Markdown object>"
      ]
     },
     "metadata": {},
     "output_type": "display_data"
    },
    {
     "data": {
      "text/markdown": [
       "\n",
       "|||\n",
       "|---:|:---|\n",
       "| [![arXiv](https://img.shields.io/badge/arXiv-arXiv:2211.08789-b31b1b.svg)](https://arxiv.org/abs/arXiv:2211.08789) | **Searching for pulsars with phase characteristics**  |\n",
       "|| Bo Peng, et al. -- incl., <mark>Qiang Li</mark>, <mark>Shi-Lin Peng</mark>, <mark>Ze-Lin Wang</mark> |\n",
       "|*Appeared on*| *2022-11-17*|\n",
       "|*Comments*| **|\n",
       "|**Abstract**| We present a method by using the phase characteristics of radio observation data for pulsar search and candidate identification. The phase characteristics are relations between the pulsar signal and the phase correction in the frequency-domain, and we regard it as a new search diagnostic characteristic. Based on the phase characteristics, a search method is presented: calculating DM (dispersion measure) -- frequency data to select candidate frequencies, and then confirming of candidates by using the broadband characteristics of pulsar signals. Based on this method, we performed a search test on short observation data of M15 and M71, which were observed by Five-hundred-meter Aperture spherical radio Telescope (FAST), and some of the Galactic Plane Pulsar Snapshot survey (GPPS) data. Results show that it can get similar search results to PRESTO (PulsaR Exploration and Search TOolkit) while having a faster processing speed. |\n",
       "|<p style=\"color:green\"> **ERROR** </p>| <p style=\"color:green\">affiliation error: mpia.affiliation_verifications: 'Heidelberg' keyword not found.</p> |"
      ],
      "text/plain": [
       "<IPython.core.display.Markdown object>"
      ]
     },
     "metadata": {},
     "output_type": "display_data"
    },
    {
     "data": {
      "text/markdown": [
       "\n",
       "|||\n",
       "|---:|:---|\n",
       "| [![arXiv](https://img.shields.io/badge/arXiv-arXiv:2211.08806-b31b1b.svg)](https://arxiv.org/abs/arXiv:2211.08806) | **Small-scale loops heated to transition region temperatures and their  chromospheric signatures in the simulated solar atmosphere**  |\n",
       "|| M. Skan, et al. -- incl., <mark>J. Leenaarts</mark> |\n",
       "|*Appeared on*| *2022-11-17*|\n",
       "|*Comments*| *Online material: this https URL*|\n",
       "|**Abstract**| Recent observations revealed loop-like structures at very small scales visible in observables that sample transition region (TR) and coronal temperatures. Their formation remains unclear. We study an example of a bipolar system in realistic magnetohydrodynamic simulations and forward synthesis of spectral lines to investigate how these features occur. Computations are done using the MURaM code to generate model atmospheres. The synthetic H$\\alpha$ and Si IV spectra are calculated at two angles ($\\mu = 1$, $\\mu = 0.66$) using the Multi3D code. Magnetic field lines are traced in the model and the evolution of the underlying field topology is examined. The synthetic H$\\alpha$ dopplergrams reveal loops that evolve dramatically within a few minutes. The synthetic H$\\alpha$ line profiles show observed asymmetries and doppler shifts in the line core. They, however, also show strong emission peaks in the line wings, even at the slated view. The synthetic Si IV emission features partly coincide with structures visible in H$\\alpha$ dopplergrams and partly follow separate magnetic field threads. Some are even visible in the emission measure maps for the lg$(T /K)= [5.0, 5.5]$ temperature interval. The emission areas trace out the magnetic field lines rooted in opposite polarities in a bipolar region. We find that our results largely reproduce the observed features and their characteristics. A bipolar system with footpoints undergoing rapid movement and shuffling can produce many small-scale recurrent events heated to high temperatures. The morphology and evolution of the resulting observable features can vary depending on the viewing angle. |\n",
       "|<p style=\"color:green\"> **ERROR** </p>| <p style=\"color:green\">affiliation error: mpia.affiliation_verifications: 'Heidelberg' keyword not found.</p> |"
      ],
      "text/plain": [
       "<IPython.core.display.Markdown object>"
      ]
     },
     "metadata": {},
     "output_type": "display_data"
    },
    {
     "data": {
      "text/markdown": [
       "\n",
       "|||\n",
       "|---:|:---|\n",
       "| [![arXiv](https://img.shields.io/badge/arXiv-arXiv:2211.08816-b31b1b.svg)](https://arxiv.org/abs/arXiv:2211.08816) | **Discovery of GeV gamma-ray emission from PWN Kes 75 and PSR J1846-0258**  |\n",
       "|| Samayra M. Straal, <mark>Joseph D. Gelfand</mark>, Jordan L. Eagle |\n",
       "|*Appeared on*| *2022-11-17*|\n",
       "|*Comments*| *Accepted for publication in ApJ. 10 pages, 5 figures, 2 tables*|\n",
       "|**Abstract**| We report the detection of gamma-ray emission from PWN Kes 75 and PSR J1846-0258. Through modeling the spectral energy distribution incorporating the new Fermi-LAT data, we find the the observed gamma-ray emission is likely a combination of both the PWN and pulsar magnetosphere. The spectral shape of this magnetospheric emission is similar to the gamma-ray spectrum of rotation powered pulsars detected by Fermi-LAT and the results from our best-fit model suggest the pulsar's magnetospheric emission accounts for 1% of the current spin-down luminosity. Prior works attempted to characterize the properties of this system and found a low supernova explosion energy and low SN ejecta mass. We re-analyze the broadband emission incorporating the new Fermi emission and compare the implications of our results to prior reports. The best-fit gamma-ray emission model suggests a second very hot photon field possibly generated by the stellar wind of a Wolf-Rayet star embedded within the nebula, which supports the low ejecta mass found for the progenitor in prior reports and here in the scenario of binary mass transfer. |\n",
       "|<p style=\"color:green\"> **ERROR** </p>| <p style=\"color:green\">affiliation error: mpia.affiliation_verifications: 'Heidelberg' keyword not found.</p> |"
      ],
      "text/plain": [
       "<IPython.core.display.Markdown object>"
      ]
     },
     "metadata": {},
     "output_type": "display_data"
    },
    {
     "data": {
      "text/markdown": [
       "\n",
       "|||\n",
       "|---:|:---|\n",
       "| [![arXiv](https://img.shields.io/badge/arXiv-arXiv:2211.08852-b31b1b.svg)](https://arxiv.org/abs/arXiv:2211.08852) | **Spectral classification of the 100 pc white dwarf population from  Gaia-DR3 and the Virtual Observatory**  |\n",
       "|| F. M. Jiménez-Esteban, et al. -- incl., <mark>S. Torres</mark> |\n",
       "|*Appeared on*| *2022-11-17*|\n",
       "|*Comments*| *Accepted for publication in MNRAS*|\n",
       "|**Abstract**| The third data release of Gaia has provided low resolution spectra for ~100,000 white dwarfs (WDs) that, together with the excellent photometry and astrometry, represent an unrivalled benchmark for the study of this population. In this work, we first built a highly-complete volume-limited sample consisting in 12,718 WDs within 100 pc from the Sun. The use of VOSA tool allowed us to perform an automated fitting of their spectral energy distributions to different atmospheric models. In particular, the use of spectrally derived J-PAS photometry from Gaia spectra led to the classification of DA and non-DA WDs with an accuracy >90%, tested in already spectroscopically labelled objects. The excellent performance achieved was extended to practically the whole population of WDs with effective temperatures above 5500 K. Our results show that, while the A branch of the Gaia WD Hertzsprung-Russell diagram is practically populated by DA WDs, the B branch is largely formed by non-DAs (65%). The remaining 35% of DAs within the B branch implies a second peak at ~0.8 Mo in the DA-mass distribution. Additionally, the Q branch and its extension to lower temperatures can be observed for both DA and non-DA objects due to core crystallisation. Finally, we derived a detailed spectral evolution function, which confirms a slow increase of the fraction of non-DAs as the effective temperature decreases down to 10,500 K, where it reaches a maximum of 36% and then decreases for lower temperatures down to ~31%. |\n",
       "|<p style=\"color:green\"> **ERROR** </p>| <p style=\"color:green\">affiliation error: mpia.affiliation_verifications: 'Heidelberg' keyword not found.</p> |"
      ],
      "text/plain": [
       "<IPython.core.display.Markdown object>"
      ]
     },
     "metadata": {},
     "output_type": "display_data"
    },
    {
     "data": {
      "text/markdown": [
       "\n",
       "|||\n",
       "|---:|:---|\n",
       "| [![arXiv](https://img.shields.io/badge/arXiv-arXiv:2211.08884-b31b1b.svg)](https://arxiv.org/abs/arXiv:2211.08884) | **Witnessing the star-formation quenching in $L_{*}$ ellipticals**  |\n",
       "|| Suraj Dhiwar, et al. -- incl., <mark>Mahadev Pandge</mark> |\n",
       "|*Appeared on*| *2022-11-17*|\n",
       "|*Comments*| *Accepted for publication in MNRAS*|\n",
       "|**Abstract**| We study the evolution of $L_{*}$ elliptical galaxies in the color-magnitude diagram in terms of their star-formation history and environment, in an attempt to learn about their quenching process. We have visually extracted 1109 $L_{*}$ galaxies from a sample of 36500 galaxies that were spectroscopically selected from Stripe82 of the Sloan Digital Sky Survey. From this sample we have selected 51 ellipticals based on their surface-brightness profile being well-fitted by a single S$\\acute{e}$rsic profile with S$\\acute{e}$rsic indices $3<n<6$. Our sample consists of 12 blue-cloud $L_{*}$ ellipticals (BLE), 11 green-valley $L_{*}$ ellipticals (GLE), and 28 red-sequence $L_{*}$ ellipticals (RLE). We find that most of the RLEs and GLEs have been quenched only recently, or are still forming stars, based on their [{O\\sc{iii}}] and H$\\alpha$ emission, while the BLEs are forming stars vigorously. The star-formation in BLEs is found to be extended over the galaxy and not confined to their central region. In about 40\\% of the $L_{*}$ ellipticals (ten BLEs, four GLEs and five RLEs), star-formation quenching seems to have started only recently, based on the lower [{O\\sc{iii}}] emission compared to the [{O\\sc{ii}}] and H$\\alpha$ emission, at a given metallicity. We also find that the galaxy color is correlated with the cosmic-web environment, with the BLEs tending to reside in lower-density regions, the RLEs preferring denser, clustered regions, and the GLEs found in either. One possible scenario is that as the star-forming ellipticals migrate into the clusters, their star formation is suffocated by the hot intra-cluster medium. |\n",
       "|<p style=\"color:green\"> **ERROR** </p>| <p style=\"color:green\">affiliation error: mpia.affiliation_verifications: 'Heidelberg' keyword not found.</p> |"
      ],
      "text/plain": [
       "<IPython.core.display.Markdown object>"
      ]
     },
     "metadata": {},
     "output_type": "display_data"
    },
    {
     "data": {
      "text/markdown": [
       "\n",
       "|||\n",
       "|---:|:---|\n",
       "| [![arXiv](https://img.shields.io/badge/arXiv-arXiv:2211.08899-b31b1b.svg)](https://arxiv.org/abs/arXiv:2211.08899) | **Effects of vertical advection on multimessenger signatures of black hole  neutrino-dominated accretion flows in compact binary coalescences**  |\n",
       "|| Bing-Guang Chen, et al. -- incl., <mark>Tong Liu</mark>, <mark>Li Xue</mark> |\n",
       "|*Appeared on*| *2022-11-17*|\n",
       "|*Comments*| *14 pages, 7 figures, accepted for publication in ApJ*|\n",
       "|**Abstract**| In the coalescence events of binary neutron star (NS) or a black hole (BH) and an NS, a BH hyperaccretion disk might be eventually formed. At very high mass accretion rates, MeV neutrinos will be emitted from this disk, which is called a neutrino-dominated accretion flow (NDAF). Neutrino annihilation in the space out of the disk is energetic enough to launch ultrarelativistic jets to power gamma-ray bursts. Moreover, vertical advection might exist in NDAFs, which can generate the magnetic buoyancy bubbles to release gamma-ray photons. In this paper, we visit the effects of the vertical advection in NDAFs on the disk structure and gamma-ray and neutrino luminosities for different accretion rates. Then we study the anisotropic emission of kilonovae and the following gravitational waves (GWs) driven by the gamma-ray photons and neutrinos from NDAFs. Comparing NDAFs without vertical advection, the neutrino luminosity and GW strains slightly decrease for the case with vertical advection, and the kilonovae will be brightened by the injected gamma-ray photons. The future joint multimessenger observations might distinguish whether the vertical advection exists in NDAFs or not after compact binary coalescences. |\n",
       "|<p style=\"color:green\"> **ERROR** </p>| <p style=\"color:green\">affiliation error: mpia.affiliation_verifications: 'Heidelberg' keyword not found.</p> |"
      ],
      "text/plain": [
       "<IPython.core.display.Markdown object>"
      ]
     },
     "metadata": {},
     "output_type": "display_data"
    },
    {
     "data": {
      "text/markdown": [
       "\n",
       "|||\n",
       "|---:|:---|\n",
       "| [![arXiv](https://img.shields.io/badge/arXiv-arXiv:2211.08990-b31b1b.svg)](https://arxiv.org/abs/arXiv:2211.08990) | **Recovering Galaxy Cluster Convergence from Lensed CMB with Generative  Adversarial Networks**  |\n",
       "|| <mark>Liam Parker</mark>, Dongwon Han, Pablo Lemos Portela, Shirley Ho |\n",
       "|*Appeared on*| *2022-11-17*|\n",
       "|*Comments*| **|\n",
       "|**Abstract**| We present a new method which leverages conditional Generative Adversarial Networks (cGAN) to reconstruct galaxy cluster convergence from lensed CMB temperature maps. Our model is constructed to emphasize structure and high-frequency correctness relative to the Residual U-Net approach presented by Caldeira, et. al. (2019). Ultimately, we demonstrate that while both models perform similarly in the no-noise regime (as well as after random off-centering of the cluster center), cGAN outperforms ResUNet when processing CMB maps noised with 5uK/arcmin white noise or astrophysical foregrounds (tSZ and kSZ); this out-performance is especially pronounced at high l, which is exactly the regime in which the ResUNet under-performs traditional methods. |\n",
       "|<p style=\"color:green\"> **ERROR** </p>| <p style=\"color:green\">affiliation error: mpia.affiliation_verifications: 'Heidelberg' keyword not found.</p> |"
      ],
      "text/plain": [
       "<IPython.core.display.Markdown object>"
      ]
     },
     "metadata": {},
     "output_type": "display_data"
    },
    {
     "data": {
      "text/markdown": [
       "\n",
       "|||\n",
       "|---:|:---|\n",
       "| [![arXiv](https://img.shields.io/badge/arXiv-arXiv:2211.09030-b31b1b.svg)](https://arxiv.org/abs/arXiv:2211.09030) | **Angular Diameters and Fundamental Parameters of Forty-Four Stars from  the Navy Precision Optical Interferometer**  |\n",
       "|| Ellyn K. Baines, et al. -- incl., <mark>Henrique R. Schmitt</mark> |\n",
       "|*Appeared on*| *2022-11-17*|\n",
       "|*Comments*| *13 pages, 3 figures, 6 tables. arXiv admin note: substantial text overlap with arXiv:1712.08109*|\n",
       "|**Abstract**| We measured the angular diameters of 44 stars with the Navy Precision Optical Interferometer, obtaining uncertainties on the limb darkened diameter of 2% or less for all but four stars. We then used our diameters with Gaia or Hipparcos parallaxes to calculate each star's physical radius. We gathered information from the literature to determine bolometric flux and luminosity, and combined that with our diameters to produce an effective temperature. Our sample consists of mostly giant stars, and spans a wide range of spectral classes from B to M. |\n",
       "|<p style=\"color:green\"> **ERROR** </p>| <p style=\"color:green\">affiliation error: mpia.affiliation_verifications: 'Heidelberg' keyword not found.</p> |"
      ],
      "text/plain": [
       "<IPython.core.display.Markdown object>"
      ]
     },
     "metadata": {},
     "output_type": "display_data"
    },
    {
     "data": {
      "text/markdown": [
       "\n",
       "|||\n",
       "|---:|:---|\n",
       "| [![arXiv](https://img.shields.io/badge/arXiv-arXiv:2211.09049-b31b1b.svg)](https://arxiv.org/abs/arXiv:2211.09049) | **Deep Synoptic Array science I: discovery of the host galaxy of FRB  20220912A**  |\n",
       "|| Vikram Ravi, et al. -- incl., <mark>Liam Connor</mark>, <mark>Greg Hellbourg</mark>, <mark>Kritti Sharma</mark> |\n",
       "|*Appeared on*| *2022-11-17*|\n",
       "|*Comments*| *10 pages, 7 figures, 2 tables, submitted to AAS Journals*|\n",
       "|**Abstract**| We report the detection and interferometric localization of the repeating fast radio burst (FRB) source FRB 20220912A during commissioning observations with the Deep Synoptic Array (DSA-110). Two bursts were detected from FRB 20220912A, one each on 2022 October 18 and 2022 October 25. The best-fit position is (R.A. J2000, decl. J2000) = (23:09:04.9, +48:42:25.4), with a 90% confidence error ellipse of $\\pm2$ arcsec and $\\pm1$ arcsec in right ascension and declination respectively. The two bursts have disparate polarization properties and temporal profiles. We find a Faraday rotation measure that is consistent with the low value of $+0.6$ rad m$^{-2}$ reported by CHIME/FRB. The DSA-110 localization overlaps with the galaxy PSO J347.2702+48.7066 at a redshift $z=0.0771$, which we identify as the likely host. PSO J347.2702$+$48.7066 has a stellar mass of approximately $10^{10}M_{\\odot}$, modest internal dust extinction, and a star-formation rate likely in excess of $0.1\\,M_{\\odot}$ yr$^{-1}$. The host-galaxy contribution to the dispersion measure is likely $\\lesssim50$ pc cm$^{-3}$. The FRB 20220912A source is therefore likely viewed along a tenuous plasma column through the host galaxy. |\n",
       "|<p style=\"color:green\"> **ERROR** </p>| <p style=\"color:green\">affiliation error: mpia.affiliation_verifications: 'Heidelberg' keyword not found.</p> |"
      ],
      "text/plain": [
       "<IPython.core.display.Markdown object>"
      ]
     },
     "metadata": {},
     "output_type": "display_data"
    },
    {
     "data": {
      "text/markdown": [
       "\n",
       "|||\n",
       "|---:|:---|\n",
       "| [![arXiv](https://img.shields.io/badge/arXiv-arXiv:2211.09071-b31b1b.svg)](https://arxiv.org/abs/arXiv:2211.09071) | **Observability of signatures of transport-induced chemistry in clear  atmospheres of hot gas giant exoplanets**  |\n",
       "|| Maria Zamyatina, et al. -- incl., <mark>Duncan A. Christie</mark> |\n",
       "|*Appeared on*| *2022-11-17*|\n",
       "|*Comments*| *accepted to MNRAS, 27 pages, 8+7 figures*|\n",
       "|**Abstract**| Transport-induced quenching, i.e., the homogenisation of chemical abundances by atmospheric advection, is thought to occur in the atmospheres of hot gas giant exoplanets. While some numerical modelling of this process exists, the three-dimensional nature of transport-induced chemistry is underexplored. Here we present results of 3D cloud- and haze-free simulations of the atmospheres of HAT-P-11b, HD 189733b, HD 209458b, and WASP-17b including coupled hydrodynamics, radiative transfer and chemistry. Our simulations were performed with two chemical schemes: a chemical kinetics scheme, which is capable of capturing transport-induced quenching, and a simpler, more widely used chemical equilibrium scheme. We find that transport-induced quenching is predicted to occur in atmospheres of all planets in our sample; however, the extent to which it affects their synthetic spectra and phase curves varies from planet to planet. This implies that there is a \"sweet spot\" for the observability of signatures of transport-induced quenching, which is controlled by the interplay between the dynamics and chemistry. |\n",
       "|<p style=\"color:green\"> **ERROR** </p>| <p style=\"color:green\">affiliation error: mpia.affiliation_verifications: 'Heidelberg' keyword not found.</p> |"
      ],
      "text/plain": [
       "<IPython.core.display.Markdown object>"
      ]
     },
     "metadata": {},
     "output_type": "display_data"
    },
    {
     "data": {
      "text/markdown": [
       "\n",
       "|||\n",
       "|---:|:---|\n",
       "| [![arXiv](https://img.shields.io/badge/arXiv-arXiv:2211.09080-b31b1b.svg)](https://arxiv.org/abs/arXiv:2211.09080) | **Breaking Degeneracies in Formation Histories by Measuring Refractory  Content in Gas Giants**  |\n",
       "|| Yayaati Chachan, <mark>Heather A. Knutson</mark>, Joshua Lothringer, Geoffrey A. Blake |\n",
       "|*Appeared on*| *2022-11-17*|\n",
       "|*Comments*| *resubmitted to ApJ after addressing referee's comments*|\n",
       "|**Abstract**| Relating planet formation to atmospheric composition has been a long-standing goal of the planetary science community. So far, most modeling studies have focused on predicting the enrichment of heavy elements and the C/O ratio in giant planet atmospheres. Although this framework provides useful constraints on the potential formation locations of gas giant exoplanets, carbon and oxygen measurements alone are not enough to determine where a given gas giant planet originated. Here, we show that characterizing the abundances of refractory elements (e.g., silicon, iron) can break these degeneracies. Refractory elements are present in the solid phase throughout most of the disk and their atmospheric abundances therefore reflect the solid-to-gas accretion ratio during formation. We introduce a new framework that parameterizes the atmospheric abundances of gas giant exoplanets in the form of three ratios: Si/H, O/Si, and C/Si. Si/H traces the solid-to-gas accretion ratio of a planet and is loosely equivalent to earlier notions of 'metallicity'. For O/Si and C/Si, we present a global picture of their variation with distance and time based on what we know from the solar system meteorites and an updated understanding of the variations of thermal processing within protoplanetary disks. We show that ultra-hot Jupiters are ideal targets for atmospheric characterization studies using this framework, as we can measure the abundances of refractories, oxygen and carbon in the gas phase. Finally, we propose that hot Jupiters with silicate clouds and low water abundances might have accreted their envelopes between the soot line and the water snowline. |\n",
       "|<p style=\"color:green\"> **ERROR** </p>| <p style=\"color:green\">affiliation error: mpia.affiliation_verifications: 'Heidelberg' keyword not found.</p> |"
      ],
      "text/plain": [
       "<IPython.core.display.Markdown object>"
      ]
     },
     "metadata": {},
     "output_type": "display_data"
    }
   ],
   "source": [
    "import datetime\n",
    "today = str(datetime.date.today())\n",
    "logfile = f\"_build/html/logs/log-{today}.md\"\n",
    "\n",
    "\n",
    "with open(logfile, 'w') as logs:\n",
    "    # Success\n",
    "    logs.write(f'# Arxiv on Deck 2: Logs - {today}\\n\\n')\n",
    "    logs.write(\"\"\"* Arxiv had {0:,d} new papers\\n\"\"\".format(len(new_papers)))\n",
    "    logs.write(\"\"\"    * {0:,d} with possible author matches\\n\\n\"\"\".format(len(candidates)))\n",
    "    logs.write(\"## Sucessful papers\\n\\n\")\n",
    "    display(Markdown(\"## Successful papers\"))\n",
    "    success = [k[0] for k in documents]\n",
    "    for candid in candidates:\n",
    "        if candid['identifier'].split(':')[-1] in success:\n",
    "            display(candid)\n",
    "            logs.write(candid.generate_markdown_text() + '\\n\\n')\n",
    "\n",
    "    ## failed\n",
    "    logs.write(\"## Failed papers\\n\\n\")\n",
    "    display(Markdown(\"## Failed papers\"))\n",
    "    failed = sorted(failed, key=lambda x: x[1])\n",
    "    current_reason = \"\"\n",
    "    for paper, reason in failed:\n",
    "        if 'affiliation' in reason:\n",
    "            color = 'green'\n",
    "        else:\n",
    "            color = 'red'\n",
    "        data = Markdown(\n",
    "                paper.generate_markdown_text() + \n",
    "                f'\\n|<p style=\"color:{color:s}\"> **ERROR** </p>| <p style=\"color:{color:s}\">{reason:s}</p> |'\n",
    "               )\n",
    "        if reason != current_reason:\n",
    "            logs.write(f'### {reason:s} \\n\\n')\n",
    "            current_reason = reason\n",
    "        logs.write(data.data + '\\n\\n')\n",
    "        \n",
    "        # only display here the important errors (all in logs)\n",
    "        # if color in ('red',):\n",
    "        display(data)"
   ]
  },
  {
   "cell_type": "markdown",
   "id": "472d20ee",
   "metadata": {
    "papermill": {
     "duration": 0.009096,
     "end_time": "2022-11-17T04:15:39.591311",
     "exception": false,
     "start_time": "2022-11-17T04:15:39.582215",
     "status": "completed"
    },
    "tags": []
   },
   "source": [
    "## Export documents\n",
    "\n",
    "We now write the .md files and export relevant images"
   ]
  },
  {
   "cell_type": "code",
   "execution_count": 7,
   "id": "d426aed9",
   "metadata": {
    "execution": {
     "iopub.execute_input": "2022-11-17T04:15:39.610135Z",
     "iopub.status.busy": "2022-11-17T04:15:39.609603Z",
     "iopub.status.idle": "2022-11-17T04:15:39.617847Z",
     "shell.execute_reply": "2022-11-17T04:15:39.617099Z"
    },
    "papermill": {
     "duration": 0.020014,
     "end_time": "2022-11-17T04:15:39.619438",
     "exception": false,
     "start_time": "2022-11-17T04:15:39.599424",
     "status": "completed"
    },
    "tags": []
   },
   "outputs": [],
   "source": [
    "def export_markdown_summary(md: str, md_fname:str, directory: str):\n",
    "    \"\"\"Export MD document and associated relevant images\"\"\"\n",
    "    import os\n",
    "    import shutil\n",
    "    import re\n",
    "\n",
    "    if (os.path.exists(directory) and not os.path.isdir(directory)):\n",
    "        raise RuntimeError(f\"a non-directory file exists with name {directory:s}\")\n",
    "\n",
    "    if (not os.path.exists(directory)):\n",
    "        print(f\"creating directory {directory:s}\")\n",
    "        os.mkdir(directory)\n",
    "\n",
    "    fig_fnames = (re.compile(r'\\[Fig.*\\]\\((.*)\\)').findall(md) + \n",
    "                  re.compile(r'\\<img src=\"([^>\\s]*)\"[^>]*/>').findall(md))\n",
    "    for fname in fig_fnames:\n",
    "        if 'http' in fname:\n",
    "            # No need to copy online figures\n",
    "            continue\n",
    "        destdir = os.path.join(directory, os.path.dirname(fname))\n",
    "        destfname = os.path.join(destdir, os.path.basename(fname))\n",
    "        try:\n",
    "            os.makedirs(destdir)\n",
    "        except FileExistsError:\n",
    "            pass\n",
    "        shutil.copy(fname, destfname)\n",
    "    with open(os.path.join(directory, md_fname), 'w') as fout:\n",
    "        fout.write(md)\n",
    "    print(\"exported in \", os.path.join(directory, md_fname))\n",
    "    [print(\"    + \" + os.path.join(directory,fk)) for fk in fig_fnames]"
   ]
  },
  {
   "cell_type": "code",
   "execution_count": 8,
   "id": "014d04a4",
   "metadata": {
    "execution": {
     "iopub.execute_input": "2022-11-17T04:15:39.639719Z",
     "iopub.status.busy": "2022-11-17T04:15:39.638844Z",
     "iopub.status.idle": "2022-11-17T04:15:39.650101Z",
     "shell.execute_reply": "2022-11-17T04:15:39.649341Z"
    },
    "papermill": {
     "duration": 0.02259,
     "end_time": "2022-11-17T04:15:39.651986",
     "exception": false,
     "start_time": "2022-11-17T04:15:39.629396",
     "status": "completed"
    },
    "tags": []
   },
   "outputs": [
    {
     "name": "stdout",
     "output_type": "stream",
     "text": [
      "exported in  _build/html/2211.08487.md\n",
      "    + _build/html/tmp_2211.08487/./Fig/Fig5.png\n",
      "    + _build/html/tmp_2211.08487/./Fig/Fig7.png\n",
      "    + _build/html/tmp_2211.08487/./Fig/Fig4.png\n",
      "exported in  _build/html/2211.08493.md\n",
      "    + _build/html/tmp_2211.08493/paper_figures/src7636-6294.png\n",
      "    + _build/html/tmp_2211.08493/paper_figures/skyspec.png\n",
      "    + _build/html/tmp_2211.08493/paper_figures/process.png\n"
     ]
    }
   ],
   "source": [
    "for paper_id, md in documents:\n",
    "    export_markdown_summary(md, f\"{paper_id:s}.md\", '_build/html/')"
   ]
  },
  {
   "cell_type": "markdown",
   "id": "f087a0a7",
   "metadata": {
    "papermill": {
     "duration": 0.00887,
     "end_time": "2022-11-17T04:15:39.669419",
     "exception": false,
     "start_time": "2022-11-17T04:15:39.660549",
     "status": "completed"
    },
    "tags": []
   },
   "source": [
    "## Display the papers\n",
    "\n",
    "Not necessary but allows for a quick check."
   ]
  },
  {
   "cell_type": "code",
   "execution_count": 9,
   "id": "fd25f625",
   "metadata": {
    "execution": {
     "iopub.execute_input": "2022-11-17T04:15:39.688644Z",
     "iopub.status.busy": "2022-11-17T04:15:39.687941Z",
     "iopub.status.idle": "2022-11-17T04:15:39.695307Z",
     "shell.execute_reply": "2022-11-17T04:15:39.694513Z"
    },
    "papermill": {
     "duration": 0.018803,
     "end_time": "2022-11-17T04:15:39.696882",
     "exception": false,
     "start_time": "2022-11-17T04:15:39.678079",
     "status": "completed"
    },
    "scrolled": false,
    "tags": []
   },
   "outputs": [
    {
     "data": {
      "text/markdown": [
       "<div class=\"macros\" style=\"visibility:hidden;\">\n",
       "$\\newcommand{\\ensuremath}{}$\n",
       "$\\newcommand{\\xspace}{}$\n",
       "$\\newcommand{\\object}[1]{\\texttt{#1}}$\n",
       "$\\newcommand{\\farcs}{{.}''}$\n",
       "$\\newcommand{\\farcm}{{.}'}$\n",
       "$\\newcommand{\\arcsec}{''}$\n",
       "$\\newcommand{\\arcmin}{'}$\n",
       "$\\newcommand{\\ion}[2]{#1#2}$\n",
       "$\\newcommand{\\textsc}[1]{\\textrm{#1}}$\n",
       "$\\newcommand{\\hl}[1]{\\textrm{#1}}$\n",
       "$\\newcommand{\\comment}[2][alizarin]{{\\color{#1}[[{\\bf #2}]]}}$\n",
       "$\\newcommand{\\ppxf}{pPXF}$\n",
       "$\\newcommand{\\oiii}{\\textup{[O \\textsc{iii}]}}$\n",
       "$\\newcommand{\\nii}{\\textup{[N \\textsc{ii}]}}$\n",
       "$\\newcommand{\\sii}{\\textup{[S \\textsc{ii}]}}$\n",
       "$\\newcommand{\\oi}{\\textup{[O \\textsc{i}]}}$\n",
       "$\\newcommand{\\siii}{\\textup{[S \\textsc{iii}]}}$\n",
       "$\\newcommand{\\oii}{\\textup{[O \\textsc{ii}]}}$\n",
       "$\\newcommand{\\hii}{\\textup{H} \\textsc{ii}}$\n",
       "$\\newcommand{\\ha}{\\textup{H}\\ensuremath{\\alpha}}$\n",
       "$\\newcommand{\\hb}{\\textup{H}\\ensuremath{\\beta}}$\n",
       "$\\newcommand{\\re}{\\textup{R}\\ensuremath{_\\mathrm{e}}}$\n",
       "$\\newcommand{\\Te}{\\textup{T}\\ensuremath{_\\mathrm{e}}}$\n",
       "$\\newcommand{\\SFR}{\\ensuremath{\\Sigma_{\\mathrm{SFR}}}}$\n",
       "$\\newcommand{\\aha}{\\ensuremath{A_{\\mathrm{ H \\alpha}}}}$</div>\n",
       "\n",
       "<div class=\"macros\" style=\"visibility:hidden;\">\n",
       "$\\newcommand{$\\ensuremath$}{}$\n",
       "$\\newcommand{$\\xspace$}{}$\n",
       "$\\newcommand{$\\object$}[1]{\\texttt{#1}}$\n",
       "$\\newcommand{$\\farcs$}{{.}''}$\n",
       "$\\newcommand{$\\farcm$}{{.}'}$\n",
       "$\\newcommand{$\\arcsec$}{''}$\n",
       "$\\newcommand{$\\arcmin$}{'}$\n",
       "$\\newcommand{$\\ion$}[2]{#1#2}$\n",
       "$\\newcommand{$\\textsc$}[1]{\\textrm{#1}}$\n",
       "$\\newcommand{$\\hl$}[1]{\\textrm{#1}}$\n",
       "$\\newcommand{$\\comment$}[2][alizarin]{{\\color{#1}[[{\\bf #2}]]}}$\n",
       "$\\newcommand{$\\ppxf$}{pPXF}$\n",
       "$\\newcommand{$\\oiii$}{\\textup{[O $\\textsc${iii}]}}$\n",
       "$\\newcommand{$\\nii$}{\\textup{[N $\\textsc${ii}]}}$\n",
       "$\\newcommand{$\\sii$}{\\textup{[S $\\textsc${ii}]}}$\n",
       "$\\newcommand{$\\oi$}{\\textup{[O $\\textsc${i}]}}$\n",
       "$\\newcommand{$\\sii$i}{\\textup{[S $\\textsc${iii}]}}$\n",
       "$\\newcommand{$\\oi$i}{\\textup{[O $\\textsc${ii}]}}$\n",
       "$\\newcommand{$\\hii$}{\\textup{H} $\\textsc${ii}}$\n",
       "$\\newcommand{$\\ha$}{\\textup{H}$\\ensuremath${\\alpha}}$\n",
       "$\\newcommand{$\\hb$}{\\textup{H}$\\ensuremath${\\beta}}$\n",
       "$\\newcommand{$\\re$}{\\textup{R}$\\ensuremath${_\\mathrm{e}}}$\n",
       "$\\newcommand{$\\Te$}{\\textup{T}$\\ensuremath${_\\mathrm{e}}}$\n",
       "$\\newcommand{$\\SFR$}{$\\ensuremath${\\Sigma_{\\mathrm{SFR}}}}$\n",
       "$\\newcommand{$\\aha$}{$\\ensuremath${A_{\\mathrm{ H \\alpha}}}}$</div>\n",
       "\n",
       "\n",
       "\n",
       "<div id=\"title\">\n",
       "\n",
       "#  maps\n",
       "\n",
       "</div>\n",
       "<div id=\"comments\">\n",
       "\n",
       "[![arXiv](https://img.shields.io/badge/arXiv-2211.08487-b31b1b.svg)](https://arxiv.org/abs/2211.08487)<mark>Appeared on: 2022-11-17</mark> - _accepted in A&A_\n",
       "\n",
       "</div>\n",
       "<div id=\"authors\">\n",
       "\n",
       "Francesco Belfiore, et al. -- incl., <mark>Kathryn Kreckel</mark>, <mark>Lukas Neumann</mark>, <mark>Eva Schinnerer</mark>\n",
       "\n",
       "</div>\n",
       "<div id=\"abstract\">\n",
       "\n",
       "**Abstract:** Mapping star-formation rates (SFR) within galaxies is key to unveiling their assembly and evolution. Calibrations exist for computing SFR from a combination of ultraviolet andinfrared bands for galaxies as integrated systems, but their applicability to sub-galactic (kpc) scales remains largely untested. Here we use integral field spectroscopy of 19 nearby ($D <$20 Mpc) galaxies obtained by PHANGS--MUSE to derive accurate Balmer decrements (H$\\alpha$/H$\\beta$) and attenuation-corrected H$\\alpha$maps. We combine this information with mid-infrared maps from\\textit{WISE}at 22$\\rm \\mu m$, and ultraviolet maps from\\textit{GALEX}in the far-UV band, to derive SFR surface densities in nearby galaxies on resolved (kpc) scales. Using the$\\ha$attenuation-corrected SFR as a reference, we find that hybrid recipes from the literature overestimate the SFR in regions of low SFR surface density, low specific star-formation rate (sSFR), low attenuation and old stellar ages. We attribute these trends to heating of the dust by old stellar populations (`IR cirrus'). We calibrate this effect by proposing functional forms for the coefficients in front of the IR term which depend on band ratios sensitive to the sSFR. Such recipes return SFR estimates in agreement with those in the literature at high sSFR ($\\rm log(sSFR/yr^{-1}) > -9.9$). Moreover, they lead to negligible bias and$<$0.16 dex scatter when compared to our reference attenuation-corrected SFR from$\\ha$. These calibrations prove reliable as a function of physical scale. In particular, they agree within 10\\%with the attenuation corrections computed from the Balmer decrement on 100 pc scales. Despite small quantitative differences, our calibrations are also applicable to integrated galaxy scales probed by the MaNGA survey, albeit with a larger scatter (up to 0.22 dex). Observations with\\textit{JWST}open up the possibility to calibrate these relations in nearby galaxies with cloud-scale ($\\sim$100 pc) resolution mid-IR imaging.\n",
       "\n",
       "</div>\n",
       "\n",
       "<div id=\"div_fig1\">\n",
       "\n",
       "<img src=\"tmp_2211.08487/./Fig/Fig5.png\" alt=\"Fig6\" width=\"100%\"/>\n",
       "\n",
       "**Figure 6. -** The hybridisation coefficients of W4 with either FUV ($\\rm C^{FUV}_{W4}$, Panels a, b, c) or $\\ha$($\\rm C^{H\\alpha}_{W4}$, Panels d, e) as a function of sSFR (left), $L_{\\rm H\\alpha}/L_{\\rm W1}$(middle) and $L_{\\rm FUV}/L_{\\rm W1}$(right). These coefficients are calibrated to match the SFR obtained from Balmer-decrement-corrected $\\ha$ for individual 15$\\arcsec$($\\sim$ kpc-scale) regions (grey dots). Red hexagons and shaded areas show the median trends and scatter. Median relations are fitted with a broken power law (equation $\\re$f{eq:hybrid_ratios}) and the best-fit model is shown as a dashed blue line. The scatter $\\sigma$ of the data with respect to the best-fit is presented in the bottom-right. Values of $C_{\\rm W4}^{\\rm FUV}$ and $C_{\\rm W4}^{\\rm H\\alpha}$ from the literature are shown as black dashed horizontal lines. Our data for kpc-scale regions agree well with the literature values at high sSFR, but show a systematic deviation for lower sSFR which is captured well by the power-law model. (*fig:fig4*)\n",
       "\n",
       "</div>\n",
       "<div id=\"div_fig2\">\n",
       "\n",
       "<img src=\"tmp_2211.08487/./Fig/Fig7.png\" alt=\"Fig7\" width=\"100%\"/>\n",
       "\n",
       "**Figure 7. -** The hybridization coefficients of W4 with either FUV (Panels a, b, c) or $\\ha$(Panels d, e) as a function of sSFR (left), $L_{\\rm H\\alpha}/L_{\\rm W1}$(middle) and $L_{\\rm FUV}/L_{\\rm W1}$(right) for the MaNGA sample (using galaxy-integrated fluxes). Best-fit relations obtained for the PHANGS 15$\\arcsec$ data (Fig. $\\re$f{fig:fig4}) are shown in blue. Blue diamonds show the results obtained considering the integrated fluxes from the 19 PHANGS galaxies. Values of $C_{\\rm W4}^{\\rm FUV}$ and $C_{\\rm W4}^{\\rm H\\alpha}$ from the literature are shown as black dashed horizontal lines and labelled in the figure (see text for additional detail). The scatter $\\sigma$ of the data with respect to the best-fit is presented in the bottom-right. The MaNGA data show similar trends as the resolved regions in PHANGS galaxies, even though in general it displays flatter slopes and does not reach the same values of $C$ at the highest sSFR.  (*fig:fig6*)\n",
       "\n",
       "</div>\n",
       "<div id=\"div_fig3\">\n",
       "\n",
       "<img src=\"tmp_2211.08487/./Fig/Fig4.png\" alt=\"Fig5\" width=\"100%\"/>\n",
       "\n",
       "**Figure 5. -** Comparison between $E(B-V)$ estimated via the Balmer Decrement and the same quantity calculated via FUV+W4 (left) and $\\ha$+W4 (right), colour-coded by sSFR. In the left panel we show as a dashed line the ratio between the differential reddening of gas and stars inferred by \\cite{Calzetti2000}, $\\rm E(B-V)_{stars} = 0.44  E(B-V)_{gas}$. Solid black lines in both panels represent the one-to-one line. In both panels attenuation is overestimated in regions of low sSFR because of IR cirrus. (*fig:fig3*)\n",
       "\n",
       "</div>"
      ],
      "text/plain": [
       "<IPython.core.display.Markdown object>"
      ]
     },
     "metadata": {},
     "output_type": "display_data"
    },
    {
     "data": {
      "text/markdown": [
       "<div class=\"macros\" style=\"visibility:hidden;\">\n",
       "$\\newcommand{\\ensuremath}{}$\n",
       "$\\newcommand{\\xspace}{}$\n",
       "$\\newcommand{\\object}[1]{\\texttt{#1}}$\n",
       "$\\newcommand{\\farcs}{{.}''}$\n",
       "$\\newcommand{\\farcm}{{.}'}$\n",
       "$\\newcommand{\\arcsec}{''}$\n",
       "$\\newcommand{\\arcmin}{'}$\n",
       "$\\newcommand{\\ion}[2]{#1#2}$\n",
       "$\\newcommand{\\textsc}[1]{\\textrm{#1}}$\n",
       "$\\newcommand{\\hl}[1]{\\textrm{#1}}$\n",
       "$\\newcommand{\\argmax}{\\operatornamewithlimits{argmax}}$\n",
       "$\\newcommand{\\argmin}{\\operatornamewithlimits{argmin}}$\n",
       "$\\newcommand{\\lae}{\\ensuremath{\\mathrm{Ly}\\alpha} emitter}$\n",
       "$\\newcommand{\\laes}{\\ensuremath{\\mathrm{Ly}\\alpha} emitters}$\n",
       "$\\newcommand{\\vmpc}{\\ensuremath{\\mathrm{cMpc^{3}}}}$\n",
       "$\\newcommand{\\invmpc}{\\ensuremath{\\mathrm{cMpc^{-3}}}}$\n",
       "$\\newcommand{\\msun}{\\ifmmode M_{\\odot} \\else M_{\\odot}\\fi}$\n",
       "$\\newcommand{\\msunyr}{\\ensuremath{\\mathrm{M_{\\odot} yr^{-1}}}}$\n",
       "$\\newcommand{\\kms}{\\ensuremath{\\mathrm{km s^{-1}}}}$\n",
       "$\\newcommand{\\degree}{\\ensuremath{^\\circ}}$\n",
       "$\\newcommand{\\ergslum}{\\ensuremath{\\mathrm{erg s^{-1}}}}$\n",
       "$\\newcommand{\\ergsluma}[1]{\\ensuremath{\\mathrm{10^{#1} erg s^{-1}}}}$\n",
       "$\\newcommand{\\ergslumb}[2]{\\ensuremath{\\mathrm{{#1} \\times 10^{#2}   erg s^{-1}}}}$\n",
       "$\\newcommand{\\ergs}{\\ensuremath{\\mathrm{erg s^{-1} cm^{-2} \\AA^{-1}}}}$\n",
       "$\\newcommand{\\ergsa}[1]{\\ensuremath{\\mathrm{10^{#1} erg s^{-1} cm^{-2} \\AA^{-1}}}}$\n",
       "$\\newcommand{\\ergsb}[2]{\\ensuremath{\\mathrm{{#1} \\times 10^{#2} erg s^{-1} cm^{-2} \\AA^{-1}}}}$\n",
       "$\\newcommand{\\ergsline}{\\ensuremath{\\mathrm{erg s^{-1} cm^{-2}}}}$\n",
       "$\\newcommand{\\ergslineb}[2]{\\ensuremath{\\mathrm{#1 \\times 10^{#2} erg s^{-1} cm^{-2}}}}$\n",
       "$\\newcommand{\\ergslinea}[1]{\\ensuremath{\\mathrm{10^{#1} erg s^{-1} cm^{-2}}}}$\n",
       "$\\newcommand{\\erglinesurf}[2]{\\ensuremath{\\mathrm{#1 \\times 10^{#2} erg s^{-1} cm^{-2} arcsec^{-2}}}}$\n",
       "$\\newcommand{\\erglsurf}[1]{\\ensuremath{\\mathrm{10^{#1} erg s^{-1} cm^{-2} arcsec^{-2}}}}$\n",
       "$\\newcommand{\\ergsurfb}{\\ensuremath{\\mathrm{erg s^{-1} cm^{-2} arcsec^{-2}}}}$\n",
       "$\\newcommand{\\ergsurf}{\\ensuremath{\\mathrm{erg s^{-1} cm^{-2} \\AA^{-1} arcsec^{-2}}}}$\n",
       "$\\newcommand{\\lya}{Ly\\textalpha}$\n",
       "$\\newcommand{\\ha}{H\\textalpha}$\n",
       "$\\newcommand{\\hb}{H\\textbeta}$\n",
       "$\\newcommand{\\hg}{H\\textgamma}$\n",
       "$\\newcommand{\\hd}{H\\textdelta}$\n",
       "$\\newcommand{\\oii}{[O {\\sc ii}]}$\n",
       "$\\newcommand{\\oiid}{[O {\\sc ii}]\\textlambda\\textlambda3726,3729}$\n",
       "$\\newcommand{\\oiiid}{[O {\\sc iii}]\\textlambda4959,5007}$\n",
       "$\\newcommand{\\oiiia}{[O {\\sc iii}]\\textlambda4959}$\n",
       "$\\newcommand{\\oiiib}{[O {\\sc iii}]\\textlambda5007}$\n",
       "$\\newcommand{\\ciii}{C {\\sc iii}]}$\n",
       "$\\newcommand{\\ciiid}{C {\\sc iii}]\\textlambda\\textlambda1907,1909}$\n",
       "$\\newcommand{\\civ}{C {\\sc iv}}$\n",
       "$\\newcommand{\\civd}{C {\\sc iv} \\textlambda\\textlambda1548,1550}$\n",
       "$\\newcommand{\\mgii}{Mg {\\sc ii}}$\n",
       "$\\newcommand{\\mgiid}{Mg {\\sc ii} \\textlambda\\textlambda2797,2803}$\n",
       "$\\newcommand{\\heii}{He {\\sc ii}}$\n",
       "$\\newcommand{\\mosaic}{\\textsf{MOSAIC}}$\n",
       "$\\newcommand{\\udft}{\\textsf{UDF-10}}$\n",
       "$\\newcommand{\\mxdf}{\\textsf{MXDF}}$\n",
       "$\\newcommand{\\drt}{\\textsf{DR2}}$\n",
       "$\\newcommand{\\dro}{\\textsf{DR1}}$\n",
       "$\\newcommand{\\origin}{\\textsf{ORIGIN}}$\n",
       "$\\newcommand{\\odhin}{\\textsf{ODHIN}}$\n",
       "$\\newcommand{\\nbext}{\\textsf{NBEXT}}$\n",
       "$\\newcommand{\\pymarz}{\\textsf{pyMarZ}}$\n",
       "$\\newcommand{\\mpdaf}{\\textsf{MPDAF}}$\n",
       "$\\newcommand{\\pfit}{\\textsf{pyPlatefit}}$\n",
       "$\\newcommand{\\sex}{\\textsf{SExtractor}}$\n",
       "$\\newcommand{\\se}{\\textsf{SourceInspector}}$\n",
       "$\\newcommand{\\psfrec}{\\textsf{muse-psfr}}$\n",
       "$\\newcommand{\\prospector}{\\textsf{Prospector}}$\n",
       "$\\newcommand{\\magphys}{\\textsf{Magphys}}$\n",
       "$\\newcommand{\\amused}{\\textsf{AMUSED}}$\n",
       "$\\newcommand{\\hubble}{\\textsf{\\textit{Hubble}}}$\n",
       "$\\newcommand{\\hudf}{\\textsf{HUDF}}$\n",
       "$\\newcommand{\\uvudf}{\\textsf{UVUDF}}$\n",
       "$\\newcommand{\\tdhst}{\\textsf{3D-HST}}$\n",
       "$\\newcommand{\\candels}{\\textsf{CANDELS v2}}$\n",
       "$\\newcommand{\\astrod}{\\textsf{ASTRODEEP}}$\n",
       "$\\newcommand{\\ALG@name}{Algorithm}$\n",
       "$\\newcommand{\\b0}{\\boldsymbol{0}}$\n",
       "$\\newcommand{\\ba}{\\boldsymbol{a}}$\n",
       "$\\newcommand{\\bb}{\\boldsymbol{b}}$\n",
       "$\\newcommand{\\bd}{\\boldsymbol{d}}$\n",
       "$\\newcommand{\\bg}{\\boldsymbol{g}}$\n",
       "$\\newcommand{\\bs}{\\boldsymbol{s}}$\n",
       "$\\newcommand{\\bt}{\\boldsymbol{t}}$\n",
       "$\\newcommand{\\bu}{\\boldsymbol{u}}$\n",
       "$\\newcommand{\\bv}{\\boldsymbol{v}}$\n",
       "$\\newcommand{\\bx}{\\boldsymbol{x}}$\n",
       "$\\newcommand{\\by}{\\boldsymbol{y}}$\n",
       "$\\newcommand{\\bz}{\\boldsymbol{z}}$\n",
       "$\\newcommand{\\bA}{\\boldsymbol{A}}$\n",
       "$\\newcommand{\\bB}{\\boldsymbol{B}}$\n",
       "$\\newcommand{\\bC}{\\boldsymbol{C}}$\n",
       "$\\newcommand{\\bD}{\\boldsymbol{D}}$\n",
       "$\\newcommand{\\bE}{\\boldsymbol{E}}$\n",
       "$\\newcommand{\\bF}{\\boldsymbol{F}}$\n",
       "$\\newcommand{\\bG}{\\boldsymbol{G}}$\n",
       "$\\newcommand{\\bH}{\\boldsymbol{H}}$\n",
       "$\\newcommand{\\bI}{\\boldsymbol{I}}$\n",
       "$\\newcommand{\\bL}{\\boldsymbol{L}}$\n",
       "$\\newcommand{\\bM}{\\boldsymbol{M}}$\n",
       "$\\newcommand{\\bP}{\\boldsymbol{P}}$\n",
       "$\\newcommand{\\bQ}{\\boldsymbol{Q}}$\n",
       "$\\newcommand{\\bR}{\\boldsymbol{R}}$\n",
       "$\\newcommand{\\bS}{\\boldsymbol{S}}$\n",
       "$\\newcommand{\\bT}{\\boldsymbol{T}}$\n",
       "$\\newcommand{\\bU}{\\boldsymbol{U}}$\n",
       "$\\newcommand{\\wbU}{\\widetilde{\\boldsymbol{U}}}$\n",
       "$\\newcommand{\\bV}{\\boldsymbol{V}}$\n",
       "$\\newcommand{\\bX}{\\boldsymbol{X}}$\n",
       "$\\newcommand{\\bY}{\\boldsymbol{Y}}$\n",
       "$\\newcommand{\\bZ}{\\boldsymbol{Z}}$\n",
       "$\\newcommand{\\beps}{\\boldsymbol{\\epsilon}}$\n",
       "$\\newcommand{\\bSigma}{\\boldsymbol{\\Sigma}}$\n",
       "$\\newcommand{\\bbeta}{\\boldsymbol{\\beta}}$\n",
       "$\\newcommand{\\br}{\\boldsymbol{r}}$\n",
       "$\\newcommand{\\bw}{\\boldsymbol{w}}$\n",
       "$\\newcommand{\\bW}{\\boldsymbol{W}}$\n",
       "$\\newcommand{\\Fm}{F^{-\\textrm{min}}}$\n",
       "$\\newcommand{\\FM}{F^{\\textrm{max}}}$\n",
       "$\\newcommand{\\}{mean}$</div>\n",
       "\n",
       "<div class=\"macros\" style=\"visibility:hidden;\">\n",
       "$\\newcommand{$\\ensuremath$}{}$\n",
       "$\\newcommand{$\\xspace$}{}$\n",
       "$\\newcommand{$\\object$}[1]{\\texttt{#1}}$\n",
       "$\\newcommand{$\\farcs$}{{.}''}$\n",
       "$\\newcommand{$\\farcm$}{{.}'}$\n",
       "$\\newcommand{$\\arcsec$}{''}$\n",
       "$\\newcommand{$\\arcmin$}{'}$\n",
       "$\\newcommand{$\\ion$}[2]{#1#2}$\n",
       "$\\newcommand{$\\textsc$}[1]{\\textrm{#1}}$\n",
       "$\\newcommand{$\\hl$}[1]{\\textrm{#1}}$\n",
       "$\\newcommand{$\\argmax$}{\\operatornamewithlimits{argmax}}$\n",
       "$\\newcommand{$\\argmin$}{\\operatornamewithlimits{argmin}}$\n",
       "$\\newcommand{$\\lae$}{$\\ensuremath${\\mathrm{Ly}\\alpha} emitter}$\n",
       "$\\newcommand{$\\lae$s}{$\\ensuremath${\\mathrm{Ly}\\alpha} emitters}$\n",
       "$\\newcommand{$\\vmpc$}{$\\ensuremath${\\mathrm{cMpc^{3}}}}$\n",
       "$\\newcommand{$\\invmpc$}{$\\ensuremath${\\mathrm{cMpc^{-3}}}}$\n",
       "$\\newcommand{$\\msun$}{\\ifmmode M_{\\odot} \\else M_{\\odot}\\fi}$\n",
       "$\\newcommand{$\\msun$yr}{$\\ensuremath${\\mathrm{M_{\\odot} yr^{-1}}}}$\n",
       "$\\newcommand{$\\kms$}{$\\ensuremath${\\mathrm{km s^{-1}}}}$\n",
       "$\\newcommand{$\\degree$}{$\\ensuremath${^\\circ}}$\n",
       "$\\newcommand{$\\ergslum$}{$\\ensuremath${\\mathrm{erg s^{-1}}}}$\n",
       "$\\newcommand{$\\ergslum$a}[1]{$\\ensuremath${\\mathrm{10^{#1} erg s^{-1}}}}$\n",
       "$\\newcommand{$\\ergslum$b}[2]{$\\ensuremath${\\mathrm{{#1} \\times 10^{#2}   erg s^{-1}}}}$\n",
       "$\\newcommand{$\\ergs$}{$\\ensuremath${\\mathrm{erg s^{-1} cm^{-2} \\AA^{-1}}}}$\n",
       "$\\newcommand{$\\ergs$a}[1]{$\\ensuremath${\\mathrm{10^{#1} erg s^{-1} cm^{-2} \\AA^{-1}}}}$\n",
       "$\\newcommand{$\\ergs$b}[2]{$\\ensuremath${\\mathrm{{#1} \\times 10^{#2} erg s^{-1} cm^{-2} \\AA^{-1}}}}$\n",
       "$\\newcommand{$\\ergs$line}{$\\ensuremath${\\mathrm{erg s^{-1} cm^{-2}}}}$\n",
       "$\\newcommand{$\\ergs$lineb}[2]{$\\ensuremath${\\mathrm{#1 \\times 10^{#2} erg s^{-1} cm^{-2}}}}$\n",
       "$\\newcommand{$\\ergs$linea}[1]{$\\ensuremath${\\mathrm{10^{#1} erg s^{-1} cm^{-2}}}}$\n",
       "$\\newcommand{$\\erglinesurf$}[2]{$\\ensuremath${\\mathrm{#1 \\times 10^{#2} erg s^{-1} cm^{-2} arcsec^{-2}}}}$\n",
       "$\\newcommand{$\\erglsurf$}[1]{$\\ensuremath${\\mathrm{10^{#1} erg s^{-1} cm^{-2} arcsec^{-2}}}}$\n",
       "$\\newcommand{$\\ergs$urfb}{$\\ensuremath${\\mathrm{erg s^{-1} cm^{-2} arcsec^{-2}}}}$\n",
       "$\\newcommand{$\\ergs$urf}{$\\ensuremath${\\mathrm{erg s^{-1} cm^{-2} \\AA^{-1} arcsec^{-2}}}}$\n",
       "$\\newcommand{$\\lya$}{Ly\\textalpha}$\n",
       "$\\newcommand{$\\ha$}{H\\textalpha}$\n",
       "$\\newcommand{$\\hb$}{H\\textbeta}$\n",
       "$\\newcommand{$\\hg$}{H\\textgamma}$\n",
       "$\\newcommand{$\\hd$}{H\\textdelta}$\n",
       "$\\newcommand{$\\oii$}{[O {\\sc ii}]}$\n",
       "$\\newcommand{$\\oii$d}{[O {\\sc ii}]\\textlambda\\textlambda3726,3729}$\n",
       "$\\newcommand{$\\oii$id}{[O {\\sc iii}]\\textlambda4959,5007}$\n",
       "$\\newcommand{$\\oii$ia}{[O {\\sc iii}]\\textlambda4959}$\n",
       "$\\newcommand{$\\oii$ib}{[O {\\sc iii}]\\textlambda5007}$\n",
       "$\\newcommand{$\\ciii$}{C {\\sc iii}]}$\n",
       "$\\newcommand{$\\ciii$d}{C {\\sc iii}]\\textlambda\\textlambda1907,1909}$\n",
       "$\\newcommand{$\\civ$}{C {\\sc iv}}$\n",
       "$\\newcommand{$\\civ$d}{C {\\sc iv} \\textlambda\\textlambda1548,1550}$\n",
       "$\\newcommand{$\\mgii$}{Mg {\\sc ii}}$\n",
       "$\\newcommand{$\\mgii$d}{Mg {\\sc ii} \\textlambda\\textlambda2797,2803}$\n",
       "$\\newcommand{$\\heii$}{He {\\sc ii}}$\n",
       "$\\newcommand{$\\mosaic$}{\\textsf{MOSAIC}}$\n",
       "$\\newcommand{$\\udft$}{\\textsf{UDF-10}}$\n",
       "$\\newcommand{$\\mxdf$}{\\textsf{MXDF}}$\n",
       "$\\newcommand{$\\drt$}{\\textsf{DR2}}$\n",
       "$\\newcommand{$\\dro$}{\\textsf{DR1}}$\n",
       "$\\newcommand{$\\origin$}{\\textsf{ORIGIN}}$\n",
       "$\\newcommand{$\\odhin$}{\\textsf{ODHIN}}$\n",
       "$\\newcommand{$\\nbext$}{\\textsf{NBEXT}}$\n",
       "$\\newcommand{$\\pymarz$}{\\textsf{pyMarZ}}$\n",
       "$\\newcommand{$\\mpdaf$}{\\textsf{MPDAF}}$\n",
       "$\\newcommand{$\\pfit$}{\\textsf{pyPlatefit}}$\n",
       "$\\newcommand{$\\sex$}{\\textsf{SExtractor}}$\n",
       "$\\newcommand{$\\se$}{\\textsf{SourceInspector}}$\n",
       "$\\newcommand{$\\psfrec$}{\\textsf{muse-psfr}}$\n",
       "$\\newcommand{$\\prospector$}{\\textsf{Prospector}}$\n",
       "$\\newcommand{$\\magphys$}{\\textsf{Magphys}}$\n",
       "$\\newcommand{$\\amused$}{\\textsf{AMUSED}}$\n",
       "$\\newcommand{$\\hubble$}{\\textsf{\\textit{Hubble}}}$\n",
       "$\\newcommand{$\\hudf$}{\\textsf{HUDF}}$\n",
       "$\\newcommand{$\\uvudf$}{\\textsf{UVUDF}}$\n",
       "$\\newcommand{$\\tdhst$}{\\textsf{3D-HST}}$\n",
       "$\\newcommand{$\\candels$}{\\textsf{CANDELS v2}}$\n",
       "$\\newcommand{$\\astrod$}{\\textsf{ASTRODEEP}}$\n",
       "$\\newcommand{$\\ALG$@name}{Algorithm}$\n",
       "$\\newcommand{$\\b$0}{$\\b$oldsymbol{0}}$\n",
       "$\\newcommand{$\\b$a}{$\\b$oldsymbol{a}}$\n",
       "$\\newcommand{$\\b$b}{$\\b$oldsymbol{b}}$\n",
       "$\\newcommand{$\\b$d}{$\\b$oldsymbol{d}}$\n",
       "$\\newcommand{$\\b$g}{$\\b$oldsymbol{g}}$\n",
       "$\\newcommand{$\\b$s}{$\\b$oldsymbol{s}}$\n",
       "$\\newcommand{$\\b$t}{$\\b$oldsymbol{t}}$\n",
       "$\\newcommand{$\\b$u}{$\\b$oldsymbol{u}}$\n",
       "$\\newcommand{$\\b$v}{$\\b$oldsymbol{v}}$\n",
       "$\\newcommand{$\\b$x}{$\\b$oldsymbol{x}}$\n",
       "$\\newcommand{$\\b$y}{$\\b$oldsymbol{y}}$\n",
       "$\\newcommand{$\\b$z}{$\\b$oldsymbol{z}}$\n",
       "$\\newcommand{$\\b$A}{$\\b$oldsymbol{A}}$\n",
       "$\\newcommand{$\\b$B}{$\\b$oldsymbol{B}}$\n",
       "$\\newcommand{$\\b$C}{$\\b$oldsymbol{C}}$\n",
       "$\\newcommand{$\\b$D}{$\\b$oldsymbol{D}}$\n",
       "$\\newcommand{$\\b$E}{$\\b$oldsymbol{E}}$\n",
       "$\\newcommand{$\\b$F}{$\\b$oldsymbol{F}}$\n",
       "$\\newcommand{$\\b$G}{$\\b$oldsymbol{G}}$\n",
       "$\\newcommand{$\\b$H}{$\\b$oldsymbol{H}}$\n",
       "$\\newcommand{$\\b$I}{$\\b$oldsymbol{I}}$\n",
       "$\\newcommand{$\\b$L}{$\\b$oldsymbol{L}}$\n",
       "$\\newcommand{$\\b$M}{$\\b$oldsymbol{M}}$\n",
       "$\\newcommand{$\\b$P}{$\\b$oldsymbol{P}}$\n",
       "$\\newcommand{$\\b$Q}{$\\b$oldsymbol{Q}}$\n",
       "$\\newcommand{$\\b$R}{$\\b$oldsymbol{R}}$\n",
       "$\\newcommand{$\\b$S}{$\\b$oldsymbol{S}}$\n",
       "$\\newcommand{$\\b$T}{$\\b$oldsymbol{T}}$\n",
       "$\\newcommand{$\\b$U}{$\\b$oldsymbol{U}}$\n",
       "$\\newcommand{$\\wbU$}{\\widetilde{$\\b$oldsymbol{U}}}$\n",
       "$\\newcommand{$\\b$V}{$\\b$oldsymbol{V}}$\n",
       "$\\newcommand{$\\b$X}{$\\b$oldsymbol{X}}$\n",
       "$\\newcommand{$\\b$Y}{$\\b$oldsymbol{Y}}$\n",
       "$\\newcommand{$\\b$Z}{$\\b$oldsymbol{Z}}$\n",
       "$\\newcommand{$\\b$eps}{$\\b$oldsymbol{\\epsilon}}$\n",
       "$\\newcommand{$\\b$Sigma}{$\\b$oldsymbol{\\Sigma}}$\n",
       "$\\newcommand{$\\b$beta}{$\\b$oldsymbol{$\\b$eta}}$\n",
       "$\\newcommand{$\\b$r}{$\\b$oldsymbol{r}}$\n",
       "$\\newcommand{$\\b$w}{$\\b$oldsymbol{w}}$\n",
       "$\\newcommand{$\\b$W}{$\\b$oldsymbol{W}}$\n",
       "$\\newcommand{$\\Fm$}{F^{-\\textrm{min}}}$\n",
       "$\\newcommand{$\\FM$}{F^{\\textrm{max}}}$\n",
       "$\\newcommand{\\}{mean}$</div>\n",
       "\n",
       "\n",
       "\n",
       "<div id=\"title\">\n",
       "\n",
       "# Based on observations made with ESO telescopes at the La Silla Paranal Observatory under the programs 094.A-0289(B), 095.A-0010(A), 096.A-0045(A), 096.A-0045(B) and 1101.A-0127\n",
       "\n",
       "</div>\n",
       "<div id=\"comments\">\n",
       "\n",
       "[![arXiv](https://img.shields.io/badge/arXiv-2211.08493-b31b1b.svg)](https://arxiv.org/abs/2211.08493)<mark>Appeared on: 2022-11-17</mark> - _46 pages, 48 figures_\n",
       "\n",
       "</div>\n",
       "<div id=\"authors\">\n",
       "\n",
       "Roland Bacon, et al. -- incl., <mark><mark>Leindert Boogaard</mark></mark>, <mark><mark>Yucheng Guo</mark></mark>, <mark><mark>Christian Herenz</mark></mark>\n",
       "\n",
       "</div>\n",
       "<div id=\"abstract\">\n",
       "\n",
       "**Abstract:** We present the second data release of the MUSE\\textit{Hubble}Ultra-Deep Field surveys, which includes the deepest spectroscopic survey ever performed. The MUSE data, with their 3D content, amazing depth, wide spectral range, and excellent spatial and medium spectral resolution, are rich in information. Their location in the\\textit{Hubble}ultra-deep field area, which benefits from an exquisite collection of ancillary panchromatic information, is a major asset. This update of the first release incorporates a new 141-hour adaptive-optics-assisted MUSE eXtremely Deep Field ($\\mxdf$; 1 arcmin diameter field of view) in addition to the reprocessed 10-hour mosaic ($\\rm 3 \\times 3   arcmin^2$) and the single 31-hour deep field ($\\rm 1 \\times 1   arcmin^2$). All three data sets were processed and analyzed homogeneously using advanced data reduction and analysis methods. The$3\\sigma$point-source flux limit of an unresolved emission line reaches$\\rm 3.1 \\times 10^{-19}$and$\\rm 6.3 \\times 10^{-20}   $\\ergs$line$at 10- and 141-hour depths, respectively.We have securely identified and measured the redshift of 2221 sources, an increase of 41\\%compared to the first release. With the exception of eight stars, the collected sample consists of 25 nearby galaxies ($z < 0.25$), 677$\\oii$emitters ($z=0.25-1.5$), 201 galaxies in the MUSE  redshift desert range ($z=1.5-2.8$), and 1308$\\lae$s($z=2.8-6.7$).This represents an order of magnitude more redshifts than the collection of all spectroscopic redshifts obtained before MUSE in the\\textit{Hubble}ultra-deep field area (i.e., 2221 versus 292). At high redshift ($z > 3$), the difference is even more striking, with a factor of 65 increase (1308 versus 20).We compared the measured redshifts against three published photometric redshift catalogs and find the photo-z accuracy  to be lower than the constraints provided by photo-z fitting codes.Eighty percent of the galaxies in our final catalog have an HST counterpart. These galaxies are on average faint, with a median AB F775W magnitude of 25.7 and 28.7 for the$\\oii$and$\\lya$emitters, respectively. Fits of their spectral energy distribution show that these galaxies tend to be low-mass star-forming galaxies, with a median stellar mass of$\\rm 6.2 \\times 10^8   M_\\odot$and a median star-formation rate of$\\rm 0.4   M_\\odot yr^{-1}$.We measured the completeness of our catalog with respect to HST and found that, in the deepest 141-hour  area, 50\\%completeness is achieved for an AB magnitude of 27.6 and 28.7 (F775W) at$z=0.8-1.6$and$z=3.2-4.5$, respectively.Twenty percent of our catalog, or 424 galaxies, have no HST counterpart. The vast majority of these new sources are high equivalent-width$z>2.8$\\laesthat are detected by MUSE thanks to their bright and asymmetric broad$\\lya$line.We release advanced data products, specific software, and a web interface to select and download data sets.\n",
       "\n",
       "</div>\n",
       "\n",
       "<div id=\"div_fig1\">\n",
       "\n",
       "<img src=\"tmp_2211.08493/paper_figures/src7636-6294.png\" alt=\"Fig15\" width=\"100%\"/>\n",
       "\n",
       "**Figure 15. -** Example of $\\odhin$ de-blending of two close sources MID-7636 (RID-25333), a $z=0.5$ star forming galaxy, and MID-6294 (RID-22260), a $z=5.5$\\lae. The separation of the sources is 0.4 arcsec. The top row of panels shows, from left to right: the HST F775W, MUSE white-light, [OIII]5007\\AA and $\\lya$ narrow band images ($\\rm 5 \\times 5   arcsec^2$ size). The central and bottom panels display the spectra derived from $\\odhin$(in blue) and $\\origin$ extraction (in orange) for each source. Fluxes and observed wavelengths are expressed in units of $\\ergs$a{-20} and \\AA, respectively. (*fig:deblend_example*)\n",
       "\n",
       "</div>\n",
       "<div id=\"div_fig2\">\n",
       "\n",
       "<img src=\"tmp_2211.08493/paper_figures/skyspec.png\" alt=\"Fig1\" width=\"100%\"/>\n",
       "\n",
       "**Figure 1. -** MUSE spectral range. The typical sky spectrum (shown in black) is observed in one 25 min observing block. The blue shaded wavelength region shows the location of the sodium notch filter used in MUSE GLAO mode. The response curves of the HST ACS filters F606W, F775W, and F850LP are also indicated.\n",
       " (*fig:specrange*)\n",
       "\n",
       "</div>\n",
       "<div id=\"div_fig3\">\n",
       "\n",
       "<img src=\"tmp_2211.08493/paper_figures/process.png\" alt=\"Fig10\" width=\"100%\"/>\n",
       "\n",
       "**Figure 10. -** Schematic of the processes involved in the data release production.\n",
       " (*fig:process*)\n",
       "\n",
       "</div>"
      ],
      "text/plain": [
       "<IPython.core.display.Markdown object>"
      ]
     },
     "metadata": {},
     "output_type": "display_data"
    }
   ],
   "source": [
    "[display(Markdown(k[1])) for k in documents];"
   ]
  },
  {
   "cell_type": "markdown",
   "id": "873873a4",
   "metadata": {
    "papermill": {
     "duration": 0.009214,
     "end_time": "2022-11-17T04:15:39.715933",
     "exception": false,
     "start_time": "2022-11-17T04:15:39.706719",
     "status": "completed"
    },
    "tags": []
   },
   "source": [
    "# Create HTML index"
   ]
  },
  {
   "cell_type": "code",
   "execution_count": 10,
   "id": "cf665672",
   "metadata": {
    "execution": {
     "iopub.execute_input": "2022-11-17T04:15:39.741981Z",
     "iopub.status.busy": "2022-11-17T04:15:39.740663Z",
     "iopub.status.idle": "2022-11-17T04:15:39.752666Z",
     "shell.execute_reply": "2022-11-17T04:15:39.751855Z"
    },
    "papermill": {
     "duration": 0.0266,
     "end_time": "2022-11-17T04:15:39.754608",
     "exception": false,
     "start_time": "2022-11-17T04:15:39.728008",
     "status": "completed"
    },
    "tags": []
   },
   "outputs": [
    {
     "name": "stdout",
     "output_type": "stream",
     "text": [
      "93  publications in the last 7 days.\n",
      "\t _build/html/2211.08493.md\n",
      "\t _build/html/2211.08487.md\n",
      "\t _build/html/2211.08294.md\n",
      "\t _build/html/2211.07667.md\n",
      "\t _build/html/2211.07659.md\n",
      "\t _build/html/2211.06454.md\n",
      "\t _build/html/2211.06205.md\n",
      "\t _build/html/2211.06194.md\n",
      "\t _build/html/2211.05022.md\n",
      "\t _build/html/2211.04048.md\n",
      "\t _build/html/2211.03641.md\n",
      "\t _build/html/2211.02502.md\n",
      "\t _build/html/2211.01474.md\n",
      "\t _build/html/2211.00667.md\n",
      "\t _build/html/2211.00657.md\n",
      "\t _build/html/2211.00087.md\n",
      "\t _build/html/2211.00036.md\n",
      "\t _build/html/2211.00020.md\n",
      "\t _build/html/2211.00010.md\n",
      "\t _build/html/2210.17434.md\n",
      "\t _build/html/2210.12412.md\n",
      "\t _build/html/2210.11926.md\n",
      "\t _build/html/2210.11551.md\n",
      "\t _build/html/2210.11103.md\n",
      "\t _build/html/2210.10707.md\n",
      "\t _build/html/2210.09930.md\n",
      "\t _build/html/2210.08996.md\n",
      "\t _build/html/2210.08517.md\n",
      "\t _build/html/2210.08510.md\n",
      "\t _build/html/2210.08078.md\n",
      "\t _build/html/2210.06504.md\n",
      "\t _build/html/2210.05695.md\n",
      "\t _build/html/2210.05595.md\n",
      "\t _build/html/2210.05505.md\n",
      "\t _build/html/2210.04721.md\n",
      "\t _build/html/2210.03615.md\n",
      "\t _build/html/2210.01811.md\n",
      "\t _build/html/2210.01809.md\n",
      "\t _build/html/2210.01556.md\n",
      "\t _build/html/2210.00863.md\n",
      "\t _build/html/2210.00560.md\n",
      "\t _build/html/2209.15403.md\n",
      "\t _build/html/2209.15110.md\n",
      "\t _build/html/2209.14410.md\n",
      "\t _build/html/2209.14396.md\n",
      "\t _build/html/2209.13717.md\n",
      "\t _build/html/2209.13336.md\n",
      "\t _build/html/2209.12906.md\n",
      "\t _build/html/2209.11781.md\n",
      "\t _build/html/2209.11602.md\n",
      "\t _build/html/2209.11248.md\n",
      "\t _build/html/2209.11096.md\n",
      "\t _build/html/2209.10618.md\n",
      "\t _build/html/2209.09914.md\n",
      "\t _build/html/2209.09823.md\n",
      "\t _build/html/2209.08242.md\n",
      "\t _build/html/2209.08120.md\n",
      "\t _build/html/2209.08106.md\n",
      "\t _build/html/2209.07962.md\n",
      "\t _build/html/2209.07931.md\n",
      "\t _build/html/2209.06833.md\n",
      "\t _build/html/2209.05814.md\n",
      "\t _build/html/2209.05593.md\n",
      "\t _build/html/2209.04304.md\n",
      "\t _build/html/2209.03367.md\n",
      "\t _build/html/2209.02872.md\n",
      "\t _build/html/2209.02725.md\n",
      "\t _build/html/2209.02722.md\n",
      "\t _build/html/2209.02092.md\n",
      "\t _build/html/2209.01125.md\n",
      "\t _build/html/2209.00828.md\n",
      "\t _build/html/2209.00363.md\n",
      "\t _build/html/2208.14927.md\n",
      "\t _build/html/2208.09335.md\n",
      "\t _build/html/2208.08872.md\n",
      "\t _build/html/2204.06393.md\n",
      "\t _build/html/2204.03335.md\n",
      "\t _build/html/2204.03253.md\n",
      "\t _build/html/2204.02998.md\n",
      "\t _build/html/2204.02109.md\n",
      "\t _build/html/2204.02017.md\n",
      "\t _build/html/2204.01824.md\n",
      "\t _build/html/2204.01758.md\n",
      "\t _build/html/2204.01245.md\n",
      "\t _build/html/2204.00793.md\n",
      "\t _build/html/2204.00342.md\n",
      "\t _build/html/2203.16959.md\n",
      "\t _build/html/2203.16856.md\n",
      "\t _build/html/2203.16735.md\n",
      "\t _build/html/2203.16734.md\n",
      "\t _build/html/2203.16504.md\n",
      "\t _build/html/2203.15822.md\n",
      "\t _build/html/2203.15811.md\n"
     ]
    }
   ],
   "source": [
    "from datetime import datetime, timedelta, timezone\n",
    "from glob import glob\n",
    "\n",
    "files = glob('_build/html/*.md')\n",
    "days = 7\n",
    "now = datetime.today()\n",
    "res = []\n",
    "for fk in files:\n",
    "    stat_result = os.stat(fk).st_ctime\n",
    "    modified = datetime.fromtimestamp(stat_result, tz=timezone.utc).replace(tzinfo=None)\n",
    "    delta = now.today() - modified\n",
    "    if delta <= timedelta(days=days):\n",
    "        res.append((delta.seconds, fk))\n",
    "res = [k[1] for k in reversed(sorted(res, key=lambda x:x[1]))]\n",
    "npub = len(res)\n",
    "print(len(res), f\" publications in the last {days:d} days.\")\n",
    "[ print('\\t', k) for k in res ];"
   ]
  },
  {
   "cell_type": "code",
   "execution_count": 11,
   "id": "52ca0208",
   "metadata": {
    "execution": {
     "iopub.execute_input": "2022-11-17T04:15:39.775756Z",
     "iopub.status.busy": "2022-11-17T04:15:39.775474Z",
     "iopub.status.idle": "2022-11-17T04:15:39.782166Z",
     "shell.execute_reply": "2022-11-17T04:15:39.781384Z"
    },
    "papermill": {
     "duration": 0.018929,
     "end_time": "2022-11-17T04:15:39.783848",
     "exception": false,
     "start_time": "2022-11-17T04:15:39.764919",
     "status": "completed"
    },
    "scrolled": false,
    "tags": []
   },
   "outputs": [],
   "source": [
    "def create_carousel(npub=4):\n",
    "    \"\"\" Generate the HTML code for a carousel with `npub` slides \"\"\"\n",
    "    carousel = [\"\"\"<section class=\"carousel\" aria-label=\"Gallery\">\"\"\",\n",
    "                \"\"\"  <ol class=\"carousel__viewport\">\"\"\",\n",
    "    ]\n",
    "    for k in range(1, npub + 1):\n",
    "        prev_ = k - 1\n",
    "        next_ = k + 1\n",
    "        if prev_ <= 0:\n",
    "            prev_ = npub\n",
    "        if next_ > npub:\n",
    "            next_ = 1\n",
    "        text  = f\"\"\"    <li id=\"carousel__slide{k}\" tabindex=\"0\" class=\"carousel__slide\">\\n\"\"\"\n",
    "        text += f\"\"\"       <div class=\"carousel__snapper\">\\n\"\"\"\n",
    "        text += f\"\"\"         <a href=\"#carousel__slide{prev_}\" class=\"carousel__prev\">Go to previous slide</a>\\n\"\"\"\n",
    "        text += f\"\"\"         <a href=\"#carousel__slide{next_}\" class=\"carousel__next\">Go to next slide</a>\\n\"\"\"\n",
    "        text += f\"\"\"         <div id=\"slide{k}_content\" class=\"md_view\" >Content {k}</div>\\n\"\"\"\n",
    "        text += f\"\"\"       </div>\\n\"\"\"\n",
    "        text += f\"\"\"    </li>\"\"\"\n",
    "        carousel.append(text)\n",
    "\n",
    "    carousel.extend([\n",
    "        \"\"\"  </ol>\"\"\",\n",
    "        \"\"\"  <aside class=\"carousel__navigation\">\"\"\",\n",
    "        \"\"\"    <ol class=\"carousel__navigation-list\">\"\"\"])\n",
    "\n",
    "    for k in range(1, npub + 1):\n",
    "        text  = f\"\"\"      <li class=\"carousel__navigation-item\">\\n\"\"\"\n",
    "        text += f\"\"\"        <a href=\"#carousel__slide{k}\" class=\"carousel__navigation-button\">Go to {k}</a>\\n\"\"\"\n",
    "        text += f\"\"\"      </li>\"\"\"\n",
    "        carousel.append(text)\n",
    "    carousel.extend([\"\"\"    </ol>\"\"\", \"\"\"  </aside>\"\"\", \"\"\"</section>\"\"\"])\n",
    "\n",
    "    return '\\n'.join(carousel)"
   ]
  },
  {
   "cell_type": "code",
   "execution_count": 12,
   "id": "a6eac5b6",
   "metadata": {
    "execution": {
     "iopub.execute_input": "2022-11-17T04:15:39.805601Z",
     "iopub.status.busy": "2022-11-17T04:15:39.805092Z",
     "iopub.status.idle": "2022-11-17T04:15:39.813981Z",
     "shell.execute_reply": "2022-11-17T04:15:39.813212Z"
    },
    "papermill": {
     "duration": 0.022977,
     "end_time": "2022-11-17T04:15:39.816802",
     "exception": false,
     "start_time": "2022-11-17T04:15:39.793825",
     "status": "completed"
    },
    "scrolled": false,
    "tags": []
   },
   "outputs": [],
   "source": [
    "carousel = create_carousel(npub)\n",
    "docs = ', '.join(['\"{0:s}\"'.format(k.split('/')[-1]) for k in res])\n",
    "slides = ', '.join([f'\"slide{k}_content\"' for k in range(1, npub + 1)])\n",
    "\n",
    "script = f\"\"\"\n",
    "const docs = [{docs}]\n",
    "\n",
    "const slides = [{slides}]\n",
    "\"\"\" + \"\"\"\n",
    "async function run() {\n",
    "    for (let i = 0; i < docs.length; i++) {\n",
    "        let file = await fetch(docs[i]);\n",
    "        let text = await file.text()\n",
    "        document.getElementById(slides[i]).innerHTML =\n",
    "            marked.parse(text);\n",
    "    }\n",
    "    hljs.highlightAll();\n",
    "}\n",
    "run()\n",
    "\"\"\"\n",
    "\n",
    "page = f\"\"\"<!doctype html>\n",
    "<html lang=\"en\">\n",
    "\n",
    "<head>\n",
    "  <meta charset=\"utf-8\">\n",
    "  <meta name=\"viewport\" content=\"width=device-width, initial-scale=1\">\n",
    "  <!-- Bootstrap CSS -->\n",
    "  <link href=\"https://cdn.jsdelivr.net/npm/bootstrap@5.0.2/dist/css/bootstrap.min.css\" rel=\"stylesheet\"\n",
    "   integrity=\"sha384-EVSTQN3/azprG1Anm3QDgpJLIm9Nao0Yz1ztcQTwFspd3yD65VohhpuuCOmLASjC\" crossorigin=\"anonymous\">\n",
    "  <!-- highlight.js CSS -->\n",
    "  <link rel=\"stylesheet\" href=\"https://cdnjs.cloudflare.com/ajax/libs/highlight.js/11.1.0/styles/default.min.css\">\n",
    "  <!-- Mathjax 3 -->\n",
    "  <script type=\"text/javascript\" id=\"MathJax-config\" src=\"mathjax_config.js\"> </script>\n",
    "  <script type=\"text/javascript\" id=\"MathJax-script\" async \n",
    "    src=\"https://cdn.jsdelivr.net/npm/mathjax@3/es5/tex-mml-chtml.js\">\n",
    "  </script>\n",
    "  <link rel=\"stylesheet\" href=\"index_carousel.css\">\n",
    "  <link rel=\"icon\" type=\"image/x-icon\" href=\"https://www.mpia.de/assets/touch-icon-32x32-a66937bcebc4e8894ebff1f41a366c7c7220fd97a38869ee0f2db65a9f59b6c1.png\">\n",
    "  <title>MPIA Arxiv on deck!</title>\n",
    "</head>\n",
    "\n",
    "<body>\n",
    "  <div id=\"header\"> <img src=\"header_banner.png\" width=\"100%\"></div>\n",
    "  <div id=\"suptitle\"> 7-day archives </div>\n",
    "  <div id=\"info\">\n",
    "    <img src=\"https://pngimg.com/uploads/github/github_PNG58.png\" height=30rem></img>\n",
    "    <a href=https://github.com/mpi-astronomy/arxiv_display style=\"color:black;\">github/mpi-astronomy/arxiv_display</a> \n",
    "  </div>\n",
    "  {carousel:s}\n",
    "</body>\n",
    "\n",
    "<!-- Render Markdown -->\n",
    "\n",
    "<body>\n",
    "  <!-- highlight.js: https://highlightjs.org/download/ -->\n",
    "  <script src=\"https://cdnjs.cloudflare.com/ajax/libs/highlight.js/11.5.0/highlight.min.js\"></script>\n",
    "  <!-- marked.js -->\n",
    "  <script src=\"https://cdn.jsdelivr.net/npm/marked/marked.min.js\"></script>\n",
    "  <script>{script:s}</script>\n",
    "</body>\n",
    "</html>\n",
    "\"\"\"\n",
    "with open(\"_build/html/index_7days.html\", 'w') as fout:\n",
    "    fout.write(page)"
   ]
  },
  {
   "cell_type": "markdown",
   "id": "1cebacbc",
   "metadata": {
    "papermill": {
     "duration": 0.011541,
     "end_time": "2022-11-17T04:15:39.837739",
     "exception": false,
     "start_time": "2022-11-17T04:15:39.826198",
     "status": "completed"
    },
    "tags": []
   },
   "source": [
    "# Debugging papers"
   ]
  },
  {
   "cell_type": "raw",
   "id": "debe7cc6",
   "metadata": {
    "papermill": {
     "duration": 0.009812,
     "end_time": "2022-11-17T04:15:39.857287",
     "exception": false,
     "start_time": "2022-11-17T04:15:39.847475",
     "status": "completed"
    },
    "tags": []
   },
   "source": [
    "raise NotImplementedError(\"Manual Stop\")"
   ]
  },
  {
   "cell_type": "raw",
   "id": "eb169192",
   "metadata": {
    "papermill": {
     "duration": 0.011724,
     "end_time": "2022-11-17T04:15:39.878885",
     "exception": false,
     "start_time": "2022-11-17T04:15:39.867161",
     "status": "completed"
    },
    "scrolled": true,
    "tags": []
   },
   "source": [
    "from IPython.display import display, Markdown\n",
    "from TexSoup import TexSoup\n",
    "import re\n",
    "\n",
    "def bracket_error(source: str):\n",
    "    \"\"\" Find problematic portions of the document \"\"\"\n",
    "    \n",
    "    print(\"len(source)\", len(source))\n",
    "    \n",
    "    # Checking header\n",
    "    begin_doc = next(re.finditer(r'\\\\begin\\{document\\}', doc.source)).span()[1]\n",
    "    header = source[:begin_doc]\n",
    "    text = header + r\"\\n\\end{document}\"\n",
    "\n",
    "    try:\n",
    "        # print(\"Header check... \", end='')\n",
    "        TexSoup(text)\n",
    "        display(Markdown(f\"**[OK]** - Header\"))\n",
    "    except:\n",
    "        raise RuntimeError(\"Error in the header\")\n",
    "        \n",
    "    # Check the text per section until the end.\n",
    "    # Do not stop and try them all.\n",
    "    \n",
    "    problematic_text = []\n",
    "    \n",
    "    sections = ([(0, begin_doc, 'until first section')] + \n",
    "                [(g.span()[0], g.span()[1], g.group()) for g in re.finditer(r'\\\\section\\{.*\\}', source)] +\n",
    "                [(g.span()[0], g.span()[1], g.group()) for g in re.finditer(r'\\\\begin\\{appendix\\}', source)]\n",
    "               )\n",
    "    sections.append([len(source), len(source), 'end'])\n",
    "    \n",
    "    sections = sorted(sections, key=lambda x: x[0])\n",
    "    \n",
    "    prev_pos, prev_name = (0, 'header')\n",
    "    parsed = []\n",
    "    \n",
    "    for span, span_end, name in sections:\n",
    "\n",
    "        if span - prev_pos <= 0:\n",
    "            continue\n",
    "            \n",
    "\n",
    "        text = source[prev_pos:span]\n",
    "        if prev_pos > begin_doc:\n",
    "            text = r\"\\n\\begin{document}\" + text + r\"\\n\\end{document}\"\n",
    "        else:\n",
    "            text = text + r\"\\n\\end{document}\"\n",
    "        try:\n",
    "            #print(f\"{prev_pos}:{prev_name}-->{span}:{name} check... \", end='')\n",
    "            parsed.append(TexSoup(text, tolerance=1))  # allow not ending env\n",
    "            display(Markdown(f\"**[OK]** - *{prev_pos}*:{prev_name} &rarr; *{span}*:{name}\"))\n",
    "            # print(\"ok\")\n",
    "\n",
    "            prev_pos = span\n",
    "            prev_name = name\n",
    "        except:\n",
    "            # print(f\"error between {prev_pos} and {span}\")\n",
    "            display(Markdown(f\"**[ERR]** *{prev_pos}*:{prev_name} &rarr; *{span}*:{name}\"))\n",
    "            problematic_text.append((prev_pos, source[prev_pos:span]))\n",
    "            prev_pos = span\n",
    "            prev_name = name\n",
    "            # raise\n",
    "    return problematic_text, parsed\n",
    "\n",
    "\n",
    "def check_environment(text, offset=0):\n",
    "    \"\"\" Check environment \"\"\"\n",
    "    env = re.compile(r\"\\\\begin\\{(?P<env>.*)\\}(.*)\\\\end\\{(?P=env)\\}\", re.DOTALL)\n",
    "\n",
    "    for match in env.finditer(text):\n",
    "        beg, end = match.span()\n",
    "        beg += offset\n",
    "        end += offset\n",
    "        envname = match.groups()[0]\n",
    "        try:\n",
    "            latex.TexSoup(match.group())\n",
    "        except Exception as e:\n",
    "            display(e)\n",
    "            print(f\"Error in {envname:s} between {beg} and {end}\")\n",
    "            return match.groups()[1], beg, end"
   ]
  },
  {
   "cell_type": "raw",
   "id": "2315e835",
   "metadata": {
    "papermill": {
     "duration": 0.010332,
     "end_time": "2022-11-17T04:15:39.900781",
     "exception": false,
     "start_time": "2022-11-17T04:15:39.890449",
     "status": "completed"
    },
    "scrolled": false,
    "tags": []
   },
   "source": [
    "import importlib\n",
    "importlib.reload(latex)\n",
    "which = \"2204.03253\"\n",
    "paper_id = f'{which:s}'\n",
    "folder = f'tmp_{paper_id:s}'\n",
    "\n",
    "if not os.path.isdir(folder):\n",
    "    folder = retrieve_document_source(f\"{paper_id}\", f'tmp_{paper_id}')\n",
    "\n",
    "try:\n",
    "    doc = latex.LatexDocument(folder, validation=validation)    \n",
    "except AffiliationError as affilerror:\n",
    "    msg = f\"ArXiv:{paper_id:s} is not an MPIA paper... \" + str(affilerror)\n",
    "    print(msg)\n",
    "\n",
    "\n",
    "# Hack because sometimes author parsing does not work well\n",
    "if (len(doc.authors) != len(paper['authors'])):\n",
    "    doc._authors = paper['authors']\n",
    "if (doc.abstract) in (None, ''):\n",
    "    doc._abstract = paper['abstract']\n",
    "\n",
    "doc.comment = get_markdown_badge(paper_id) + \" _\" + paper['comments'] + \"_\"\n",
    "doc.highlight_authors_in_list(hl_list)\n",
    "\n",
    "full_md = doc.generate_markdown_text()"
   ]
  },
  {
   "cell_type": "raw",
   "id": "dd3781db",
   "metadata": {
    "papermill": {
     "duration": 0.011943,
     "end_time": "2022-11-17T04:15:39.947692",
     "exception": false,
     "start_time": "2022-11-17T04:15:39.935749",
     "status": "completed"
    },
    "scrolled": false,
    "tags": []
   },
   "source": [
    "doc"
   ]
  },
  {
   "cell_type": "raw",
   "id": "c6eed834",
   "metadata": {
    "papermill": {
     "duration": 0.011514,
     "end_time": "2022-11-17T04:15:39.970773",
     "exception": false,
     "start_time": "2022-11-17T04:15:39.959259",
     "status": "completed"
    },
    "tags": []
   },
   "source": [
    "# [check_environment(k) for k in bracket_error(doc.source)]\n",
    "_, _, a = latex.get_content_per_section(doc.source, verbose=True)\n",
    "if not a:\n",
    "    print(\"no issues per section\")\n",
    "for ak in a:\n",
    "    r = check_environment(ak[1], offset=ak[0])\n",
    "    print(r[1], r[2])\n",
    "    print(r[0])"
   ]
  },
  {
   "cell_type": "code",
   "execution_count": null,
   "id": "71ce768a",
   "metadata": {
    "papermill": {
     "duration": 0.009553,
     "end_time": "2022-11-17T04:15:39.989940",
     "exception": false,
     "start_time": "2022-11-17T04:15:39.980387",
     "status": "completed"
    },
    "tags": []
   },
   "outputs": [],
   "source": []
  }
 ],
 "metadata": {
  "kernelspec": {
   "display_name": "Python 3.10.6 64-bit",
   "language": "python",
   "name": "python3"
  },
  "language_info": {
   "codemirror_mode": {
    "name": "ipython",
    "version": 3
   },
   "file_extension": ".py",
   "mimetype": "text/x-python",
   "name": "python",
   "nbconvert_exporter": "python",
   "pygments_lexer": "ipython3",
   "version": "3.9.15"
  },
  "papermill": {
   "default_parameters": {},
   "duration": 407.320734,
   "end_time": "2022-11-17T04:15:40.318435",
   "environment_variables": {},
   "exception": null,
   "input_path": "MPIA daily digest.ipynb",
   "output_path": "log.ipynb",
   "parameters": {},
   "start_time": "2022-11-17T04:08:52.997701",
   "version": "2.4.0"
  },
  "vscode": {
   "interpreter": {
    "hash": "e7370f93d1d0cde622a1f8e1c04877d8463912d04d973331ad4851f04de6915a"
   }
  },
  "widgets": {
   "application/vnd.jupyter.widget-state+json": {
    "state": {
     "30caf7acf3f14a428e569fdf00390450": {
      "model_module": "@jupyter-widgets/controls",
      "model_module_version": "2.0.0",
      "model_name": "FloatProgressModel",
      "state": {
       "_dom_classes": [],
       "_model_module": "@jupyter-widgets/controls",
       "_model_module_version": "2.0.0",
       "_model_name": "FloatProgressModel",
       "_view_count": null,
       "_view_module": "@jupyter-widgets/controls",
       "_view_module_version": "2.0.0",
       "_view_name": "ProgressView",
       "bar_style": "success",
       "description": "",
       "description_allow_html": false,
       "layout": "IPY_MODEL_c3a5ce7f3242411b871909a2193c6db0",
       "max": 18.0,
       "min": 0.0,
       "orientation": "horizontal",
       "style": "IPY_MODEL_94126a6b961645be95338fc077416c9b",
       "tabbable": null,
       "tooltip": null,
       "value": 18.0
      }
     },
     "6df28aa76bff408caaf14e4d64b84632": {
      "model_module": "@jupyter-widgets/controls",
      "model_module_version": "2.0.0",
      "model_name": "HTMLStyleModel",
      "state": {
       "_model_module": "@jupyter-widgets/controls",
       "_model_module_version": "2.0.0",
       "_model_name": "HTMLStyleModel",
       "_view_count": null,
       "_view_module": "@jupyter-widgets/base",
       "_view_module_version": "2.0.0",
       "_view_name": "StyleView",
       "background": null,
       "description_width": "",
       "font_size": null,
       "text_color": null
      }
     },
     "6f5ef39ed6bc48f6af484a5f0fe9c9d3": {
      "model_module": "@jupyter-widgets/controls",
      "model_module_version": "2.0.0",
      "model_name": "HTMLModel",
      "state": {
       "_dom_classes": [],
       "_model_module": "@jupyter-widgets/controls",
       "_model_module_version": "2.0.0",
       "_model_name": "HTMLModel",
       "_view_count": null,
       "_view_module": "@jupyter-widgets/controls",
       "_view_module_version": "2.0.0",
       "_view_name": "HTMLView",
       "description": "",
       "description_allow_html": false,
       "layout": "IPY_MODEL_bc04e017a44c4a69abb7258ab59eb09f",
       "placeholder": "​",
       "style": "IPY_MODEL_e393614a27424205a96541fcb6118674",
       "tabbable": null,
       "tooltip": null,
       "value": " 18/18 [06:16&lt;00:00,  5.16s/it]"
      }
     },
     "94126a6b961645be95338fc077416c9b": {
      "model_module": "@jupyter-widgets/controls",
      "model_module_version": "2.0.0",
      "model_name": "ProgressStyleModel",
      "state": {
       "_model_module": "@jupyter-widgets/controls",
       "_model_module_version": "2.0.0",
       "_model_name": "ProgressStyleModel",
       "_view_count": null,
       "_view_module": "@jupyter-widgets/base",
       "_view_module_version": "2.0.0",
       "_view_name": "StyleView",
       "bar_color": null,
       "description_width": ""
      }
     },
     "bc04e017a44c4a69abb7258ab59eb09f": {
      "model_module": "@jupyter-widgets/base",
      "model_module_version": "2.0.0",
      "model_name": "LayoutModel",
      "state": {
       "_model_module": "@jupyter-widgets/base",
       "_model_module_version": "2.0.0",
       "_model_name": "LayoutModel",
       "_view_count": null,
       "_view_module": "@jupyter-widgets/base",
       "_view_module_version": "2.0.0",
       "_view_name": "LayoutView",
       "align_content": null,
       "align_items": null,
       "align_self": null,
       "border_bottom": null,
       "border_left": null,
       "border_right": null,
       "border_top": null,
       "bottom": null,
       "display": null,
       "flex": null,
       "flex_flow": null,
       "grid_area": null,
       "grid_auto_columns": null,
       "grid_auto_flow": null,
       "grid_auto_rows": null,
       "grid_column": null,
       "grid_gap": null,
       "grid_row": null,
       "grid_template_areas": null,
       "grid_template_columns": null,
       "grid_template_rows": null,
       "height": null,
       "justify_content": null,
       "justify_items": null,
       "left": null,
       "margin": null,
       "max_height": null,
       "max_width": null,
       "min_height": null,
       "min_width": null,
       "object_fit": null,
       "object_position": null,
       "order": null,
       "overflow": null,
       "padding": null,
       "right": null,
       "top": null,
       "visibility": null,
       "width": null
      }
     },
     "c23d107644cb4753953507a7b54c9e0d": {
      "model_module": "@jupyter-widgets/base",
      "model_module_version": "2.0.0",
      "model_name": "LayoutModel",
      "state": {
       "_model_module": "@jupyter-widgets/base",
       "_model_module_version": "2.0.0",
       "_model_name": "LayoutModel",
       "_view_count": null,
       "_view_module": "@jupyter-widgets/base",
       "_view_module_version": "2.0.0",
       "_view_name": "LayoutView",
       "align_content": null,
       "align_items": null,
       "align_self": null,
       "border_bottom": null,
       "border_left": null,
       "border_right": null,
       "border_top": null,
       "bottom": null,
       "display": null,
       "flex": null,
       "flex_flow": null,
       "grid_area": null,
       "grid_auto_columns": null,
       "grid_auto_flow": null,
       "grid_auto_rows": null,
       "grid_column": null,
       "grid_gap": null,
       "grid_row": null,
       "grid_template_areas": null,
       "grid_template_columns": null,
       "grid_template_rows": null,
       "height": null,
       "justify_content": null,
       "justify_items": null,
       "left": null,
       "margin": null,
       "max_height": null,
       "max_width": null,
       "min_height": null,
       "min_width": null,
       "object_fit": null,
       "object_position": null,
       "order": null,
       "overflow": null,
       "padding": null,
       "right": null,
       "top": null,
       "visibility": null,
       "width": null
      }
     },
     "c3a5ce7f3242411b871909a2193c6db0": {
      "model_module": "@jupyter-widgets/base",
      "model_module_version": "2.0.0",
      "model_name": "LayoutModel",
      "state": {
       "_model_module": "@jupyter-widgets/base",
       "_model_module_version": "2.0.0",
       "_model_name": "LayoutModel",
       "_view_count": null,
       "_view_module": "@jupyter-widgets/base",
       "_view_module_version": "2.0.0",
       "_view_name": "LayoutView",
       "align_content": null,
       "align_items": null,
       "align_self": null,
       "border_bottom": null,
       "border_left": null,
       "border_right": null,
       "border_top": null,
       "bottom": null,
       "display": null,
       "flex": null,
       "flex_flow": null,
       "grid_area": null,
       "grid_auto_columns": null,
       "grid_auto_flow": null,
       "grid_auto_rows": null,
       "grid_column": null,
       "grid_gap": null,
       "grid_row": null,
       "grid_template_areas": null,
       "grid_template_columns": null,
       "grid_template_rows": null,
       "height": null,
       "justify_content": null,
       "justify_items": null,
       "left": null,
       "margin": null,
       "max_height": null,
       "max_width": null,
       "min_height": null,
       "min_width": null,
       "object_fit": null,
       "object_position": null,
       "order": null,
       "overflow": null,
       "padding": null,
       "right": null,
       "top": null,
       "visibility": null,
       "width": null
      }
     },
     "dd1b5514782b4eb0906d9210614b9f0b": {
      "model_module": "@jupyter-widgets/base",
      "model_module_version": "2.0.0",
      "model_name": "LayoutModel",
      "state": {
       "_model_module": "@jupyter-widgets/base",
       "_model_module_version": "2.0.0",
       "_model_name": "LayoutModel",
       "_view_count": null,
       "_view_module": "@jupyter-widgets/base",
       "_view_module_version": "2.0.0",
       "_view_name": "LayoutView",
       "align_content": null,
       "align_items": null,
       "align_self": null,
       "border_bottom": null,
       "border_left": null,
       "border_right": null,
       "border_top": null,
       "bottom": null,
       "display": null,
       "flex": null,
       "flex_flow": null,
       "grid_area": null,
       "grid_auto_columns": null,
       "grid_auto_flow": null,
       "grid_auto_rows": null,
       "grid_column": null,
       "grid_gap": null,
       "grid_row": null,
       "grid_template_areas": null,
       "grid_template_columns": null,
       "grid_template_rows": null,
       "height": null,
       "justify_content": null,
       "justify_items": null,
       "left": null,
       "margin": null,
       "max_height": null,
       "max_width": null,
       "min_height": null,
       "min_width": null,
       "object_fit": null,
       "object_position": null,
       "order": null,
       "overflow": null,
       "padding": null,
       "right": null,
       "top": null,
       "visibility": null,
       "width": null
      }
     },
     "e393614a27424205a96541fcb6118674": {
      "model_module": "@jupyter-widgets/controls",
      "model_module_version": "2.0.0",
      "model_name": "HTMLStyleModel",
      "state": {
       "_model_module": "@jupyter-widgets/controls",
       "_model_module_version": "2.0.0",
       "_model_name": "HTMLStyleModel",
       "_view_count": null,
       "_view_module": "@jupyter-widgets/base",
       "_view_module_version": "2.0.0",
       "_view_name": "StyleView",
       "background": null,
       "description_width": "",
       "font_size": null,
       "text_color": null
      }
     },
     "eb451d5e2501473ca19a6fe5e62a311c": {
      "model_module": "@jupyter-widgets/controls",
      "model_module_version": "2.0.0",
      "model_name": "HBoxModel",
      "state": {
       "_dom_classes": [],
       "_model_module": "@jupyter-widgets/controls",
       "_model_module_version": "2.0.0",
       "_model_name": "HBoxModel",
       "_view_count": null,
       "_view_module": "@jupyter-widgets/controls",
       "_view_module_version": "2.0.0",
       "_view_name": "HBoxView",
       "box_style": "",
       "children": [
        "IPY_MODEL_f6f81983da614d48b66840008e0a49a8",
        "IPY_MODEL_30caf7acf3f14a428e569fdf00390450",
        "IPY_MODEL_6f5ef39ed6bc48f6af484a5f0fe9c9d3"
       ],
       "layout": "IPY_MODEL_c23d107644cb4753953507a7b54c9e0d",
       "tabbable": null,
       "tooltip": null
      }
     },
     "f6f81983da614d48b66840008e0a49a8": {
      "model_module": "@jupyter-widgets/controls",
      "model_module_version": "2.0.0",
      "model_name": "HTMLModel",
      "state": {
       "_dom_classes": [],
       "_model_module": "@jupyter-widgets/controls",
       "_model_module_version": "2.0.0",
       "_model_name": "HTMLModel",
       "_view_count": null,
       "_view_module": "@jupyter-widgets/controls",
       "_view_module_version": "2.0.0",
       "_view_name": "HTMLView",
       "description": "",
       "description_allow_html": false,
       "layout": "IPY_MODEL_dd1b5514782b4eb0906d9210614b9f0b",
       "placeholder": "​",
       "style": "IPY_MODEL_6df28aa76bff408caaf14e4d64b84632",
       "tabbable": null,
       "tooltip": null,
       "value": "100%"
      }
     }
    },
    "version_major": 2,
    "version_minor": 0
   }
  }
 },
 "nbformat": 4,
 "nbformat_minor": 5
}