{
 "cells": [
  {
   "cell_type": "markdown",
   "id": "92bcb855",
   "metadata": {
    "papermill": {
     "duration": 0.004378,
     "end_time": "2023-10-30T04:08:22.716185",
     "exception": false,
     "start_time": "2023-10-30T04:08:22.711807",
     "status": "completed"
    },
    "tags": []
   },
   "source": [
    "# MPIA Arxiv on Deck 2\n",
    "\n",
    "Contains the steps to produce the paper extractions."
   ]
  },
  {
   "cell_type": "code",
   "execution_count": 1,
   "id": "3a0d6e11",
   "metadata": {
    "execution": {
     "iopub.execute_input": "2023-10-30T04:08:22.726658Z",
     "iopub.status.busy": "2023-10-30T04:08:22.726088Z",
     "iopub.status.idle": "2023-10-30T04:08:23.293045Z",
     "shell.execute_reply": "2023-10-30T04:08:23.292374Z"
    },
    "papermill": {
     "duration": 0.573268,
     "end_time": "2023-10-30T04:08:23.294888",
     "exception": false,
     "start_time": "2023-10-30T04:08:22.721620",
     "status": "completed"
    },
    "tags": []
   },
   "outputs": [],
   "source": [
    "# Imports\n",
    "import os\n",
    "from IPython.display import Markdown, display\n",
    "from tqdm.notebook import tqdm\n",
    "import warnings\n",
    "from PIL import Image \n",
    "\n",
    "# requires arxiv_on_deck_2\n",
    "\n",
    "from arxiv_on_deck_2.arxiv2 import (get_new_papers, \n",
    "                                    get_paper_from_identifier,\n",
    "                                    retrieve_document_source, \n",
    "                                    get_markdown_badge)\n",
    "from arxiv_on_deck_2 import (latex,\n",
    "                             latex_bib,\n",
    "                             mpia,\n",
    "                             highlight_authors_in_list)\n",
    "\n",
    "# Sometimes images are really big\n",
    "Image.MAX_IMAGE_PIXELS = 1000000000 "
   ]
  },
  {
   "cell_type": "code",
   "execution_count": 2,
   "id": "22aa9d44",
   "metadata": {
    "execution": {
     "iopub.execute_input": "2023-10-30T04:08:23.303867Z",
     "iopub.status.busy": "2023-10-30T04:08:23.303190Z",
     "iopub.status.idle": "2023-10-30T04:08:23.309946Z",
     "shell.execute_reply": "2023-10-30T04:08:23.309369Z"
    },
    "papermill": {
     "duration": 0.012971,
     "end_time": "2023-10-30T04:08:23.311485",
     "exception": false,
     "start_time": "2023-10-30T04:08:23.298514",
     "status": "completed"
    },
    "tags": []
   },
   "outputs": [],
   "source": [
    "# Some useful definitions.\n",
    "\n",
    "class AffiliationWarning(UserWarning):\n",
    "    pass\n",
    "\n",
    "class AffiliationError(RuntimeError):\n",
    "    pass\n",
    "\n",
    "def validation(source: str):\n",
    "    \"\"\"Raises error paper during parsing of source file\n",
    "    \n",
    "    Allows checks before parsing TeX code.\n",
    "    \n",
    "    Raises AffiliationWarning\n",
    "    \"\"\"\n",
    "    check = mpia.affiliation_verifications(source, verbose=True)\n",
    "    if check is not True:\n",
    "        raise AffiliationError(\"mpia.affiliation_verifications: \" + check)\n",
    "\n",
    "        \n",
    "warnings.simplefilter('always', AffiliationWarning)\n",
    "\n",
    "\n",
    "def get_markdown_qrcode(paper_id: str):\n",
    "    \"\"\" Generate a qrcode to the arxiv page using qrserver.com\n",
    "    \n",
    "    :param paper: Arxiv paper\n",
    "    :returns: markdown text\n",
    "    \"\"\"\n",
    "    url = r\"https://api.qrserver.com/v1/create-qr-code/?size=100x100&data=\"\n",
    "    txt = f\"\"\"<img src={url}\"https://arxiv.org/abs/{paper_id}\">\"\"\"\n",
    "    txt = '<div id=\"qrcode\">' + txt + '</div>'\n",
    "    return txt"
   ]
  },
  {
   "cell_type": "markdown",
   "id": "14bd6310",
   "metadata": {
    "papermill": {
     "duration": 0.003354,
     "end_time": "2023-10-30T04:08:23.318328",
     "exception": false,
     "start_time": "2023-10-30T04:08:23.314974",
     "status": "completed"
    },
    "tags": []
   },
   "source": [
    "## get list of arxiv paper candidates\n",
    "\n",
    "We use the MPIA mitarbeiter list webpage from mpia.de to get author names\n",
    "We then get all new papers from Arxiv and match authors"
   ]
  },
  {
   "cell_type": "code",
   "execution_count": 3,
   "id": "2645e73a",
   "metadata": {
    "execution": {
     "iopub.execute_input": "2023-10-30T04:08:23.326418Z",
     "iopub.status.busy": "2023-10-30T04:08:23.325860Z",
     "iopub.status.idle": "2023-10-30T04:08:47.015008Z",
     "shell.execute_reply": "2023-10-30T04:08:47.014334Z"
    },
    "papermill": {
     "duration": 23.694875,
     "end_time": "2023-10-30T04:08:47.016563",
     "exception": false,
     "start_time": "2023-10-30T04:08:23.321688",
     "status": "completed"
    },
    "tags": []
   },
   "outputs": [
    {
     "name": "stdout",
     "output_type": "stream",
     "text": [
      "F. Walter  ->  F. Walter  |  ['F. Walter']\n",
      "X. Zhang  ->  X. Zhang  |  ['X. Zhang']\n",
      "A. d. Graaff  ->  A. D. Graaff  |  ['A. D. Graaff']\n",
      "Arxiv has 55 new papers today\n",
      "          3 with possible author matches\n"
     ]
    }
   ],
   "source": [
    "# get list from MPIA website\n",
    "# it automatically filters identified non-scientists :func:`mpia.filter_non_scientists`\n",
    "mpia_authors = mpia.get_mpia_mitarbeiter_list()\n",
    "normed_mpia_authors = [k[1] for k in mpia_authors]   # initials + fullname\n",
    "new_papers = get_new_papers()\n",
    "# add manual references\n",
    "add_paper_refs = []\n",
    "new_papers.extend([get_paper_from_identifier(k) for k in add_paper_refs])\n",
    "\n",
    "candidates = []\n",
    "for paperk in new_papers:\n",
    "    # Check author list with their initials\n",
    "    normed_author_list = [mpia.get_initials(k) for k in paperk['authors']]\n",
    "    hl_authors = highlight_authors_in_list(normed_author_list, normed_mpia_authors, verbose=True)\n",
    "    matches = [(hl, orig) for hl, orig in zip(hl_authors, paperk['authors']) if 'mark' in hl]\n",
    "    paperk['authors'] = hl_authors\n",
    "    if matches:\n",
    "        # only select paper if an author matched our list\n",
    "        candidates.append(paperk)\n",
    "print(\"\"\"Arxiv has {0:,d} new papers today\"\"\".format(len(new_papers)))        \n",
    "print(\"\"\"          {0:,d} with possible author matches\"\"\".format(len(candidates)))"
   ]
  },
  {
   "cell_type": "markdown",
   "id": "3543b34a",
   "metadata": {
    "papermill": {
     "duration": 0.003757,
     "end_time": "2023-10-30T04:08:47.024715",
     "exception": false,
     "start_time": "2023-10-30T04:08:47.020958",
     "status": "completed"
    },
    "tags": []
   },
   "source": [
    "# Parse sources and generate relevant outputs\n",
    "\n",
    "From the candidates, we do the following steps:\n",
    "* get their tarball from ArXiv (and extract data)\n",
    "* find the main .tex file: find one with \\documentclass{...} (sometimes it's non trivial)\n",
    "* Check affiliations with :func:`validation`, which uses :func:`mpia.affiliation_verifications`\n",
    "* If passing the affiliations: we parse the .tex source\n",
    "   * inject sub-documents into the main (flatten the main document)\n",
    "   * parse structure, extract information (title, abstract, authors, figures...)\n",
    "   * handles `\\graphicspath` if provided\n",
    "* Generate the .md document."
   ]
  },
  {
   "cell_type": "code",
   "execution_count": 4,
   "id": "9576b79e",
   "metadata": {
    "execution": {
     "iopub.execute_input": "2023-10-30T04:08:47.033216Z",
     "iopub.status.busy": "2023-10-30T04:08:47.032808Z",
     "iopub.status.idle": "2023-10-30T04:09:52.084740Z",
     "shell.execute_reply": "2023-10-30T04:09:52.084080Z"
    },
    "papermill": {
     "duration": 65.058947,
     "end_time": "2023-10-30T04:09:52.087124",
     "exception": false,
     "start_time": "2023-10-30T04:08:47.028177",
     "status": "completed"
    },
    "scrolled": false,
    "tags": []
   },
   "outputs": [
    {
     "data": {
      "application/vnd.jupyter.widget-view+json": {
       "model_id": "6974c0d444b64fbcaeea82aad569a06e",
       "version_major": 2,
       "version_minor": 0
      },
      "text/plain": [
       "  0%|          | 0/3 [00:00<?, ?it/s]"
      ]
     },
     "metadata": {},
     "output_type": "display_data"
    },
    {
     "name": "stdout",
     "output_type": "stream",
     "text": [
      "Retrieving document from  https://arxiv.org/e-print/2310.17694\n"
     ]
    },
    {
     "name": "stdout",
     "output_type": "stream",
     "text": [
      "extracting tarball to tmp_2310.17694..."
     ]
    },
    {
     "name": "stdout",
     "output_type": "stream",
     "text": [
      " done.\n"
     ]
    },
    {
     "name": "stderr",
     "output_type": "stream",
     "text": [
      "/opt/hostedtoolcache/Python/3.9.18/x64/lib/python3.9/site-packages/IPython/core/interactiveshell.py:3526: LatexWarning: Multiple tex files.\n",
      "\n",
      "  exec(code_obj, self.user_global_ns, self.user_ns)\n",
      "/opt/hostedtoolcache/Python/3.9.18/x64/lib/python3.9/site-packages/IPython/core/interactiveshell.py:3526: LatexWarning: Found documentclass in tmp_2310.17694/main.tex\n",
      "\n",
      "  exec(code_obj, self.user_global_ns, self.user_ns)\n",
      "/opt/hostedtoolcache/Python/3.9.18/x64/lib/python3.9/site-packages/arxiv_on_deck_2/latex.py:399: LatexWarning: Latex injecting: 'authors.tex' from 'tmp_2310.17694/authors.tex'\n",
      "  warnings.warn(LatexWarning(f\"Latex injecting: '{ext}' from '{subsource}'\"))\n"
     ]
    },
    {
     "name": "stdout",
     "output_type": "stream",
     "text": [
      "F. Walter  ->  F. Walter  |  ['F. Walter']\n"
     ]
    },
    {
     "name": "stdout",
     "output_type": "stream",
     "text": [
      "Found 234 bibliographic references in tmp_2310.17694/main.bbl.\n",
      "Retrieving document from  https://arxiv.org/e-print/2310.17751\n"
     ]
    },
    {
     "name": "stdout",
     "output_type": "stream",
     "text": [
      "extracting tarball to tmp_2310.17751..."
     ]
    },
    {
     "name": "stdout",
     "output_type": "stream",
     "text": [
      " done.\n",
      "Retrieving document from  https://arxiv.org/e-print/2310.18000\n"
     ]
    },
    {
     "name": "stdout",
     "output_type": "stream",
     "text": [
      "extracting tarball to tmp_2310.18000..."
     ]
    },
    {
     "name": "stdout",
     "output_type": "stream",
     "text": [
      " done.\n"
     ]
    },
    {
     "name": "stderr",
     "output_type": "stream",
     "text": [
      "/opt/hostedtoolcache/Python/3.9.18/x64/lib/python3.9/site-packages/arxiv_on_deck_2/latex.py:473: LatexWarning: Error parsing the document directly. Trying to recover.\n",
      "  warnings.warn(LatexWarning(f\"Error parsing the document directly. Trying to recover.\"))\n"
     ]
    },
    {
     "name": "stdout",
     "output_type": "stream",
     "text": [
      "✔ → 0:header\n",
      "  ↳ 5320:\\section{Introduction}\n"
     ]
    },
    {
     "name": "stdout",
     "output_type": "stream",
     "text": [
      "✔ → 5320:\\section{Introduction}\n",
      "  ↳ 16533:\\section{Data and sample} \\label{sec:data}\n"
     ]
    },
    {
     "name": "stdout",
     "output_type": "stream",
     "text": [
      "✘ → 16533:\\section{Data and sample} \\label{sec:data}\n",
      "  ↳ 25892:\\section{SED Fitting} \\label{sec:sed_fitting}\n",
      "✔ → 25892:\\section{SED Fitting} \\label{sec:sed_fitting}\n",
      "  ↳ 31031:\\section{Results} \\label{sec:results}\n"
     ]
    },
    {
     "name": "stdout",
     "output_type": "stream",
     "text": [
      "✔ → 31031:\\section{Results} \\label{sec:results}\n",
      "  ↳ 42895:\\section{Discussion} \\label{sec:discussion}\n"
     ]
    },
    {
     "name": "stdout",
     "output_type": "stream",
     "text": [
      "✔ → 42895:\\section{Discussion} \\label{sec:discussion}\n",
      "  ↳ 55270:\\section{Summary \\& Conclusions} \\label{sec:conclusions}\n",
      "✔ → 55270:\\section{Summary \\& Conclusions} \\label{sec:conclusions}\n",
      "  ↳ 57658:\\section{A comparison between the observed and modeled Lick indices} \\label{ap:A}\n",
      "✔ → 57658:\\section{A comparison between the observed and modeled Lick indices} \\label{ap:A}\n",
      "  ↳ 59280:\\section{Mock analysis} \\label{ap:B}\n",
      "✔ → 59280:\\section{Mock analysis} \\label{ap:B}\n",
      "  ↳ 61189:end\n"
     ]
    },
    {
     "name": "stdout",
     "output_type": "stream",
     "text": [
      "A. d. Graaff  ->  A. D. Graaff  |  ['A. D. Graaff']\n"
     ]
    },
    {
     "name": "stdout",
     "output_type": "stream",
     "text": [
      "Found 89 bibliographic references in tmp_2310.18000/main.bbl.\n",
      "syntax error in line 263: '=' expected\n"
     ]
    },
    {
     "name": "stderr",
     "output_type": "stream",
     "text": [
      "/opt/hostedtoolcache/Python/3.9.18/x64/lib/python3.9/site-packages/arxiv_on_deck_2/latex_bib.py:132: UserWarning: Error processing bibitem\n",
      " item = \\bibitem[{{Gallazzi} {et~al.}({in prep.}){Gallazzi}, {Zibetti}, {Kaushal}, {Nersesian}, {van der Wel},  {the LEGAC Team}}]{Gallazzi_2023ApJ}{Gallazzi}, A., {Zibetti}, S., {Kaushal}, Y., {et~al.} {in prep.}, \\apj\n",
      " regex = \n",
      "        \\\\bibitem(\\[[^\\[\\]]*?\\]){(?P<bibkey>[a-zA-Z0-9\\-\\+\\.\\S]+?)}(?P<authors>|([\\D]*?))(?P<year>[12][0-9]{3})(?P<rest>.*)\n",
      "        \n",
      "  warnings.warn(str(e))\n"
     ]
    }
   ],
   "source": [
    "documents = []\n",
    "failed = []\n",
    "for paper in tqdm(candidates):\n",
    "    paper_id = paper['identifier'].lower().replace('arxiv:', '')\n",
    "    \n",
    "    folder = f'tmp_{paper_id}'\n",
    "\n",
    "    try:\n",
    "        if not os.path.isdir(folder):\n",
    "            folder = retrieve_document_source(f\"{paper_id}\", f'tmp_{paper_id}')\n",
    "        \n",
    "        try:\n",
    "            doc = latex.LatexDocument(folder, validation=validation)    \n",
    "        except AffiliationError as affilerror:\n",
    "            msg = f\"ArXiv:{paper_id:s} is not an MPIA paper... \" + str(affilerror)\n",
    "            failed.append((paper, \"affiliation error: \" + str(affilerror) ))\n",
    "            continue\n",
    "        \n",
    "        # Hack because sometimes author parsing does not work well\n",
    "        if (len(doc.authors) != len(paper['authors'])):\n",
    "            doc._authors = paper['authors']\n",
    "        else:\n",
    "            # highlight authors (FIXME: doc.highlight_authors)\n",
    "            # done on arxiv paper already\n",
    "            doc._authors = highlight_authors_in_list(\n",
    "                [mpia.get_initials(k) for k in doc.authors], \n",
    "                normed_mpia_authors, verbose=True)\n",
    "        if (doc.abstract) in (None, ''):\n",
    "            doc._abstract = paper['abstract']\n",
    "            \n",
    "        doc.comment = (get_markdown_badge(paper_id) + \n",
    "                       \"<mark>Appeared on: \" + paper['date'] + \"</mark> - \")\n",
    "        if paper['comments']:\n",
    "            doc.comment += \" _\" + paper['comments'] + \"_\"\n",
    "        \n",
    "        full_md = doc.generate_markdown_text()\n",
    "        \n",
    "        full_md += get_markdown_qrcode(paper_id)\n",
    "        \n",
    "        # replace citations\n",
    "        try:\n",
    "            bibdata = latex_bib.LatexBib.from_doc(doc)\n",
    "            full_md = latex_bib.replace_citations(full_md, bibdata)\n",
    "        except Exception as e:\n",
    "            print(e)\n",
    "        \n",
    "        documents.append((paper_id, full_md))\n",
    "    except Exception as e:\n",
    "        warnings.warn(latex.LatexWarning(f\"{paper_id:s} did not run properly\\n\" +\n",
    "                                         str(e)\n",
    "                                        ))\n",
    "        failed.append((paper, \"latex error \" + str(e)))"
   ]
  },
  {
   "cell_type": "markdown",
   "id": "2505a25c",
   "metadata": {
    "papermill": {
     "duration": 0.004994,
     "end_time": "2023-10-30T04:09:52.097356",
     "exception": false,
     "start_time": "2023-10-30T04:09:52.092362",
     "status": "completed"
    },
    "tags": []
   },
   "source": [
    "### Export the logs\n",
    "\n",
    "Throughout, we also keep track of the logs per paper. see `logs-{today date}.md` "
   ]
  },
  {
   "cell_type": "code",
   "execution_count": 5,
   "id": "d733828a",
   "metadata": {
    "execution": {
     "iopub.execute_input": "2023-10-30T04:09:52.108761Z",
     "iopub.status.busy": "2023-10-30T04:09:52.108221Z",
     "iopub.status.idle": "2023-10-30T04:09:52.124687Z",
     "shell.execute_reply": "2023-10-30T04:09:52.124028Z"
    },
    "papermill": {
     "duration": 0.024135,
     "end_time": "2023-10-30T04:09:52.126283",
     "exception": false,
     "start_time": "2023-10-30T04:09:52.102148",
     "status": "completed"
    },
    "scrolled": false,
    "tags": []
   },
   "outputs": [
    {
     "data": {
      "text/markdown": [
       "## Successful papers"
      ],
      "text/plain": [
       "<IPython.core.display.Markdown object>"
      ]
     },
     "metadata": {},
     "output_type": "display_data"
    },
    {
     "data": {
      "text/markdown": [
       "\n",
       "|||\n",
       "|---:|:---|\n",
       "| [![arXiv](https://img.shields.io/badge/arXiv-arXiv:2310.17694-b31b1b.svg)](https://arxiv.org/abs/arXiv:2310.17694) | **Where do stars explode in the ISM? -- The distribution of dense gas  around massive stars and supernova remnants in M33**  |\n",
       "|| S. K. Sarbadhicary, et al. -- incl., <mark>F. Walter</mark> |\n",
       "|*Appeared on*| *2023-10-30*|\n",
       "|*Comments*| *34 pages, 14 figures. Submitted to ApJ. Comments welcome! The density distributions will be made publicly available after journal acceptance of manuscript. Please feel free to contact us in the meantime if you would like to use them*|\n",
       "|**Abstract**| Star formation in galaxies is regulated by turbulence, outflows, gas heating and cloud dispersal -- processes which depend sensitively on the properties of the interstellar medium (ISM) into which supernovae (SNe) explode. Unfortunately, direct measurements of ISM environments around SNe remain scarce, as SNe are rare and often distant. Here we demonstrate a new approach: mapping the ISM around the massive stars that are soon to explode. This provides a much larger census of explosion sites than possible with only SNe, and allows comparison with sensitive, high-resolution maps of the atomic and molecular gas from the Jansky VLA and ALMA. In the well-resolved Local Group spiral M33, we specifically observe the environments of red supergiants (RSGs, progenitors of Type II SNe), Wolf-Rayet stars (WRs, tracing stars $>$30 M$_{\\odot}$, and possibly future stripped-envelope SNe), and supernova remnants (SNRs, locations where SNe have exploded). We find that massive stars evolve not only in dense, molecular-dominated gas (with younger stars in denser gas), but also a substantial fraction ($\\sim$45\\% of WRs; higher for RSGs) evolve in lower-density, atomic-gas-dominated, inter-cloud media. We show that these measurements are consistent with expectations from different stellar-age tracer maps, and can be useful for validating SN feedback models in numerical simulations of galaxies. Along with the discovery of a 20-pc diameter molecular gas cavity around a WR, these findings re-emphasize the importance of pre-SN/correlated-SN feedback evacuating the dense gas around massive stars before explosion, and the need for high-resolution (down to pc-scale) surveys of the multi-phase ISM in nearby galaxies. |"
      ],
      "text/plain": [
       "[arXiv:2310.17694] Where do stars explode in the ISM? -- The distribution of dense gas  around massive stars and supernova remnants in M33\n",
       "\tS. K. Sarbadhicary, et al. -- incl., <mark>F. Walter</mark>"
      ]
     },
     "metadata": {},
     "output_type": "display_data"
    },
    {
     "data": {
      "text/markdown": [
       "\n",
       "|||\n",
       "|---:|:---|\n",
       "| [![arXiv](https://img.shields.io/badge/arXiv-arXiv:2310.18000-b31b1b.svg)](https://arxiv.org/abs/arXiv:2310.18000) | **Less is less: photometry alone cannot predict the observed spectral  indices of $z\\sim1$ galaxies from the LEGA-C spectroscopic survey**  |\n",
       "|| A. Nersesian, et al. -- incl., <mark>A. d. Graaff</mark> |\n",
       "|*Appeared on*| *2023-10-30*|\n",
       "|*Comments*| *13 pages, 8 figures, accepted 26 October 2023*|\n",
       "|**Abstract**| We test whether we can predict optical spectra from deep-field photometry of distant galaxies. Our goal is to perform a comparison in data space, highlighting the differences between predicted and observed spectra. The Large Early Galaxy Astrophysics Census (LEGA-C) provides high-quality optical spectra of thousands of galaxies at redshift $0.6<z<1$. Broad-band photometry of the same galaxies, drawn from the recent COSMOS2020 catalog, is used to predict the optical spectra with the spectral energy distribution (SED) fitting code Prospector and the MILES stellar library. The observed and predicted spectra are compared in terms of two age and metallicity-sensitive absorption features (H$\\delta_\\mathrm{A}$ and Fe4383). The global bimodality of star-forming and quiescent galaxies in photometric space is recovered with the model spectra. But the presence of a systematic offset in the Fe4383 line strength and the weak correlation between the observed and modeled line strength imply that accurate age or metallicity determinations cannot be inferred from photometry alone. For now we caution that photometry-based estimates of stellar population properties are determined mostly by the modeling approach and not the physical properties of galaxies, even when using the highest-quality photometric datasets and state-of-the-art fitting techniques. When exploring a new physical parameter space (i.e. redshift or galaxy mass) high-quality spectroscopy is always needed to inform the analysis of photometry. |"
      ],
      "text/plain": [
       "[arXiv:2310.18000] Less is less: photometry alone cannot predict the observed spectral  indices of $z\\sim1$ galaxies from the LEGA-C spectroscopic survey\n",
       "\tA. Nersesian, et al. -- incl., <mark>A. d. Graaff</mark>"
      ]
     },
     "metadata": {},
     "output_type": "display_data"
    },
    {
     "data": {
      "text/markdown": [
       "## Failed papers"
      ],
      "text/plain": [
       "<IPython.core.display.Markdown object>"
      ]
     },
     "metadata": {},
     "output_type": "display_data"
    },
    {
     "data": {
      "text/markdown": [
       "\n",
       "|||\n",
       "|---:|:---|\n",
       "| [![arXiv](https://img.shields.io/badge/arXiv-arXiv:2310.17751-b31b1b.svg)](https://arxiv.org/abs/arXiv:2310.17751) | **Global Chemical Transport on Hot Jupiters: Insights from 2D VULCAN  photochemical model**  |\n",
       "|| S.-M. Tsai, et al. -- incl., <mark>X. Zhang</mark> |\n",
       "|*Appeared on*| *2023-10-30*|\n",
       "|*Comments*| *18 pages, 20 figures, submitted to ApJ*|\n",
       "|**Abstract**| The atmospheric dynamics of tidally-locked hot Jupiters is dominated by the equatorial winds. Understanding the interaction between global circulation and chemistry is crucial in atmospheric studies and interpreting observations. Two-dimensional (2D) photochemical transport models shed light on how the atmospheric composition depends on circulation. In this paper, we introduce the 2D photochemical transport model, VULCAN 2D, which improves on the pseudo-2D approaches by allowing for non-uniform zonal winds. We extensively validate our VULCAN 2D with analytical solutions and benchmark comparisons. Applications to HD 189733 b and HD 209458 b reveal distinct characteristics in horizontal transport-dominated and vertical mixing-dominated regimes. Motivated by the inferred carbon-rich atmosphere by Giacobbe et al. (2021), we find that HD 209458 b with super-solar carbon-to-oxygen ratio (C/O) exhibits pronounced C2H4 absorption on the morning limb but not on the evening limb, owing to horizontal transport from the nightside. We discuss when a pseudo-2D approach is a valid assumption and its inherent limitations. Finally, we demonstrate the effect of horizontal transport in transmission observations and its impact on the morning-evening limb asymmetry with synthetic spectra, highlighting the need to consider global transport when interpreting exoplanet atmospheres. |\n",
       "|<p style=\"color:green\"> **ERROR** </p>| <p style=\"color:green\">affiliation error: mpia.affiliation_verifications: 'Heidelberg' keyword not found.</p> |"
      ],
      "text/plain": [
       "<IPython.core.display.Markdown object>"
      ]
     },
     "metadata": {},
     "output_type": "display_data"
    }
   ],
   "source": [
    "import datetime\n",
    "today = str(datetime.date.today())\n",
    "logfile = f\"_build/html/logs/log-{today}.md\"\n",
    "\n",
    "\n",
    "with open(logfile, 'w') as logs:\n",
    "    # Success\n",
    "    logs.write(f'# Arxiv on Deck 2: Logs - {today}\\n\\n')\n",
    "    logs.write(\"\"\"* Arxiv had {0:,d} new papers\\n\"\"\".format(len(new_papers)))\n",
    "    logs.write(\"\"\"    * {0:,d} with possible author matches\\n\\n\"\"\".format(len(candidates)))\n",
    "    logs.write(\"## Sucessful papers\\n\\n\")\n",
    "    display(Markdown(\"## Successful papers\"))\n",
    "    success = [k[0] for k in documents]\n",
    "    for candid in candidates:\n",
    "        if candid['identifier'].split(':')[-1] in success:\n",
    "            display(candid)\n",
    "            logs.write(candid.generate_markdown_text() + '\\n\\n')\n",
    "\n",
    "    ## failed\n",
    "    logs.write(\"## Failed papers\\n\\n\")\n",
    "    display(Markdown(\"## Failed papers\"))\n",
    "    failed = sorted(failed, key=lambda x: x[1])\n",
    "    current_reason = \"\"\n",
    "    for paper, reason in failed:\n",
    "        if 'affiliation' in reason:\n",
    "            color = 'green'\n",
    "        else:\n",
    "            color = 'red'\n",
    "        data = Markdown(\n",
    "                paper.generate_markdown_text() + \n",
    "                f'\\n|<p style=\"color:{color:s}\"> **ERROR** </p>| <p style=\"color:{color:s}\">{reason:s}</p> |'\n",
    "               )\n",
    "        if reason != current_reason:\n",
    "            logs.write(f'### {reason:s} \\n\\n')\n",
    "            current_reason = reason\n",
    "        logs.write(data.data + '\\n\\n')\n",
    "        \n",
    "        # only display here the important errors (all in logs)\n",
    "        # if color in ('red',):\n",
    "        display(data)"
   ]
  },
  {
   "cell_type": "markdown",
   "id": "472d20ee",
   "metadata": {
    "papermill": {
     "duration": 0.00541,
     "end_time": "2023-10-30T04:09:52.137242",
     "exception": false,
     "start_time": "2023-10-30T04:09:52.131832",
     "status": "completed"
    },
    "tags": []
   },
   "source": [
    "## Export documents\n",
    "\n",
    "We now write the .md files and export relevant images"
   ]
  },
  {
   "cell_type": "code",
   "execution_count": 6,
   "id": "d426aed9",
   "metadata": {
    "execution": {
     "iopub.execute_input": "2023-10-30T04:09:52.149784Z",
     "iopub.status.busy": "2023-10-30T04:09:52.149079Z",
     "iopub.status.idle": "2023-10-30T04:09:52.157029Z",
     "shell.execute_reply": "2023-10-30T04:09:52.156409Z"
    },
    "papermill": {
     "duration": 0.015757,
     "end_time": "2023-10-30T04:09:52.158454",
     "exception": false,
     "start_time": "2023-10-30T04:09:52.142697",
     "status": "completed"
    },
    "tags": []
   },
   "outputs": [],
   "source": [
    "def export_markdown_summary(md: str, md_fname:str, directory: str):\n",
    "    \"\"\"Export MD document and associated relevant images\"\"\"\n",
    "    import os\n",
    "    import shutil\n",
    "    import re\n",
    "\n",
    "    if (os.path.exists(directory) and not os.path.isdir(directory)):\n",
    "        raise RuntimeError(f\"a non-directory file exists with name {directory:s}\")\n",
    "\n",
    "    if (not os.path.exists(directory)):\n",
    "        print(f\"creating directory {directory:s}\")\n",
    "        os.mkdir(directory)\n",
    "\n",
    "    fig_fnames = (re.compile(r'\\[Fig.*\\]\\((.*)\\)').findall(md) + \n",
    "                  re.compile(r'\\<img src=\"([^>\\s]*)\"[^>]*/>').findall(md))\n",
    "    for fname in fig_fnames:\n",
    "        if 'http' in fname:\n",
    "            # No need to copy online figures\n",
    "            continue\n",
    "        destdir = os.path.join(directory, os.path.dirname(fname))\n",
    "        destfname = os.path.join(destdir, os.path.basename(fname))\n",
    "        try:\n",
    "            os.makedirs(destdir)\n",
    "        except FileExistsError:\n",
    "            pass\n",
    "        shutil.copy(fname, destfname)\n",
    "    with open(os.path.join(directory, md_fname), 'w') as fout:\n",
    "        fout.write(md)\n",
    "    print(\"exported in \", os.path.join(directory, md_fname))\n",
    "    [print(\"    + \" + os.path.join(directory,fk)) for fk in fig_fnames]"
   ]
  },
  {
   "cell_type": "code",
   "execution_count": 7,
   "id": "014d04a4",
   "metadata": {
    "execution": {
     "iopub.execute_input": "2023-10-30T04:09:52.170611Z",
     "iopub.status.busy": "2023-10-30T04:09:52.170185Z",
     "iopub.status.idle": "2023-10-30T04:09:52.183637Z",
     "shell.execute_reply": "2023-10-30T04:09:52.183011Z"
    },
    "papermill": {
     "duration": 0.021298,
     "end_time": "2023-10-30T04:09:52.185168",
     "exception": false,
     "start_time": "2023-10-30T04:09:52.163870",
     "status": "completed"
    },
    "tags": []
   },
   "outputs": [
    {
     "name": "stdout",
     "output_type": "stream",
     "text": [
      "exported in  _build/html/2310.17694.md\n",
      "    + _build/html/tmp_2310.17694/./4paneldensities.png\n",
      "    + _build/html/tmp_2310.17694/./Fig_M33_zoomed.png\n",
      "    + _build/html/tmp_2310.17694/./mockpopulations_4panel.png\n",
      "exported in  _build/html/2310.18000.md\n",
      "    + _build/html/tmp_2310.18000/./strict_fig2_alt4_crop.png\n",
      "    + _build/html/tmp_2310.18000/./strict_fig3_alt4_miles_mist_crop_wn3.png\n",
      "    + _build/html/tmp_2310.18000/./chi2_distribution.png\n"
     ]
    }
   ],
   "source": [
    "for paper_id, md in documents:\n",
    "    export_markdown_summary(md, f\"{paper_id:s}.md\", '_build/html/')"
   ]
  },
  {
   "cell_type": "markdown",
   "id": "f087a0a7",
   "metadata": {
    "papermill": {
     "duration": 0.005614,
     "end_time": "2023-10-30T04:09:52.196400",
     "exception": false,
     "start_time": "2023-10-30T04:09:52.190786",
     "status": "completed"
    },
    "tags": []
   },
   "source": [
    "## Display the papers\n",
    "\n",
    "Not necessary but allows for a quick check."
   ]
  },
  {
   "cell_type": "code",
   "execution_count": 8,
   "id": "fd25f625",
   "metadata": {
    "execution": {
     "iopub.execute_input": "2023-10-30T04:09:52.209522Z",
     "iopub.status.busy": "2023-10-30T04:09:52.208999Z",
     "iopub.status.idle": "2023-10-30T04:09:52.215379Z",
     "shell.execute_reply": "2023-10-30T04:09:52.214718Z"
    },
    "papermill": {
     "duration": 0.014784,
     "end_time": "2023-10-30T04:09:52.216892",
     "exception": false,
     "start_time": "2023-10-30T04:09:52.202108",
     "status": "completed"
    },
    "scrolled": false,
    "tags": []
   },
   "outputs": [
    {
     "data": {
      "text/markdown": [
       "<div class=\"macros\" style=\"visibility:hidden;\">\n",
       "$\\newcommand{\\ensuremath}{}$\n",
       "$\\newcommand{\\xspace}{}$\n",
       "$\\newcommand{\\object}[1]{\\texttt{#1}}$\n",
       "$\\newcommand{\\farcs}{{.}''}$\n",
       "$\\newcommand{\\farcm}{{.}'}$\n",
       "$\\newcommand{\\arcsec}{''}$\n",
       "$\\newcommand{\\arcmin}{'}$\n",
       "$\\newcommand{\\ion}[2]{#1#2}$\n",
       "$\\newcommand{\\textsc}[1]{\\textrm{#1}}$\n",
       "$\\newcommand{\\hl}[1]{\\textrm{#1}}$\n",
       "$\\newcommand{\\footnote}[1]{}$\n",
       "$\\newcommand{\\vdag}{(v)^\\dagger}$\n",
       "$\\newcommand$\n",
       "$\\newcommand$\n",
       "$\\newcommand{\\Msun}{M_{\\odot}}$\n",
       "$\\newcommand{\\Mdot}{M_{\\odot} yr^{-1}\\xspace}$\n",
       "$\\newcommand{\\kms}{km s^{-1}\\xspace}$\n",
       "$\\newcommand{\\Msunpc}{M_{\\odot} pc^{-2}\\xspace}$\n",
       "$\\newcommand{\\fmol}{f_{\\mathrm{H_2}}\\xspace}$\n",
       "$\\newcommand{\\hi}{\\ion{H}{1}\\xspace}$\n",
       "$\\newcommand{\\hii}{\\ion{H}{2}\\xspace}$\n",
       "$\\newcommand{\\cmc}{cm^{-3}\\xspace}$\n",
       "$\\newcommand{\\mum}{\\mum\\xspace}$\n",
       "$\\newcommand{\\cmipsunit}{(erg s^{-1})(M_{\\odot} yr^{-1})^{-1}\\xspace}$</div>\n",
       "\n",
       "\n",
       "\n",
       "<div id=\"title\">\n",
       "\n",
       "# Where do stars explode in the ISM? -- The distribution of dense gas around massive stars and supernova remnants in M33\n",
       "\n",
       "</div>\n",
       "<div id=\"comments\">\n",
       "\n",
       "[![arXiv](https://img.shields.io/badge/arXiv-2310.17694-b31b1b.svg)](https://arxiv.org/abs/2310.17694)<mark>Appeared on: 2023-10-30</mark> -  _34 pages, 14 figures. Submitted to ApJ. Comments welcome! The density distributions will be made publicly available after journal acceptance of manuscript. Please feel free to contact us in the meantime if you would like to use them_\n",
       "\n",
       "</div>\n",
       "<div id=\"authors\">\n",
       "\n",
       "S. K. Sarbadhicary, et al. -- incl., <mark>F. Walter</mark>\n",
       "\n",
       "</div>\n",
       "<div id=\"abstract\">\n",
       "\n",
       "**Abstract:** Star formation in galaxies is regulated by turbulence, outflows, gas heating and cloud dispersal -- processes which depend sensitively on the properties of the interstellar medium (ISM) into which supernovae (SNe) explode. Unfortunately, direct measurements of ISM environments around SNe remain scarce, as SNe are rare and often distant. Here we demonstrate a new approach: mapping the ISM around the massive stars that are soon to explode. This provides a much larger census of explosion sites than possible with only SNe, and allows comparison with sensitive, high-resolution maps of the atomic and molecular gas from the Jansky VLA and ALMA. In the well-resolved Local Group spiral M33, we specifically observe the environments of red supergiants (RSGs, progenitors of Type II SNe), Wolf-Rayet stars (WRs, tracing stars $>$ 30 $\\Msun$ , and possibly future stripped-envelope SNe), and supernova remnants (SNRs, locations where SNe have exploded). We find that massive stars evolve not only in dense, molecular-dominated gas (with younger stars in denser gas), but also a substantial fraction ( $\\sim$ 45 \\% of WRs; higher for RSGs) evolve in lower-density, atomic-gas-dominated, inter-cloud media. We show that these measurements are consistent with expectations from different stellar-age tracer maps, and can be useful for validating SN feedback models in numerical simulations of galaxies. Along with the discovery of a 20-pc diameter molecular gas cavity around a WR, these findings re-emphasize the importance of pre-SN/correlated-SN feedback evacuating the dense gas around massive stars before explosion, and the need for high-resolution (down to pc-scale) surveys of the multi-phase ISM in nearby galaxies.\n",
       "\n",
       "</div>\n",
       "\n",
       "<div id=\"div_fig1\">\n",
       "\n",
       "<img src=\"tmp_2310.17694/./4paneldensities.png\" alt=\"Fig8\" width=\"100%\"/>\n",
       "\n",
       "**Figure 8. -** Cumulative distribution functions showing $H_2$, $\\hi$, and total ($H_2$ + $\\hi$) surface densities. Distributions are shown for the locations of WRs (blue lines), SNRs (green lines) and RSGs (red lines), while grey histograms denote the distribution of densities of the full M33 region, representing what would be expected for a random distribution. Vertical dashed lines denote the completeness limit of each dataset. Colored circles show the median of the distribution above the completeness limit. The distributions show a higher probability of more massive stars (e.g. the WRs) to evolve in denser gas. (*fig:3paneldensities*)\n",
       "\n",
       "</div>\n",
       "<div id=\"div_fig2\">\n",
       "\n",
       "<img src=\"tmp_2310.17694/./Fig_M33_zoomed.png\" alt=\"Fig7\" width=\"100%\"/>\n",
       "\n",
       "**Figure 7. -** The spatial distribution of red supergiants (RSGs), Wolf-Rayet stars (WRs) and supernova remnants (SNRs) with respect to the cold ($H_2$ + $\\hi$) ISM in the M33 ACA survey region (shown in the inset plot). Orange circles represent RSGs with log $(L/L_{\\odot})\\geq 4.7$(roughly corresponding to $\\gtrsim$12$\\Msun$). Bluish circles show WRs and green stars show SNRs. $\\hi$ is shown in grey-scale with the density range shown in the bottom colorbar. Contours of CO (2-1) emission (converted to $H_2$ surface densities) are also shown at levels of 1.9, 7.6, 15.3 and 30.6 M$_{\\odot}$ pc$^{-2}$. The prominent star-forming regions in the ACA footprint -- NGC 604, IC 142 and NGC 595 -- are specifically labelled (showing high WR concentrations). The black box shows a region containing a WR and SNR with higher-resolution ALMA data in Figure 6. The map shows the 50 pc-scale cold ISM environments where core-collapse SNe will occur in the future (or have occured in the case of SNRs). Statistical analysis of these environments and their implications are discussed in Section \\ref{sec:results} and \\ref{sec:discussion}. (*fig:maps*)\n",
       "\n",
       "</div>\n",
       "<div id=\"div_fig3\">\n",
       "\n",
       "<img src=\"tmp_2310.17694/./mockpopulations_4panel.png\" alt=\"Fig11\" width=\"100%\"/>\n",
       "\n",
       "**Figure 11. -** Cumulative density histograms of the observed and modeled populations of RSGs, WRs, and SNRs from Section \\ref{sec:sfrtracers}. Dark grey histogram in each panel shows the bulk $H_2$ distribution in M33 in the ACA area. Solid colored line denotes the $H_2$ surface density of the star category. Colored shaded region shows the 5th-95th percentile region of the mock populations drawn according to Section \\ref{sec:sfrtracers}.  (*fig:mocks*)\n",
       "\n",
       "</div><div id=\"qrcode\"><img src=https://api.qrserver.com/v1/create-qr-code/?size=100x100&data=\"https://arxiv.org/abs/2310.17694\"></div>"
      ],
      "text/plain": [
       "<IPython.core.display.Markdown object>"
      ]
     },
     "metadata": {},
     "output_type": "display_data"
    },
    {
     "data": {
      "text/markdown": [
       "<div class=\"macros\" style=\"visibility:hidden;\">\n",
       "$\\newcommand{\\ensuremath}{}$\n",
       "$\\newcommand{\\xspace}{}$\n",
       "$\\newcommand{\\object}[1]{\\texttt{#1}}$\n",
       "$\\newcommand{\\farcs}{{.}''}$\n",
       "$\\newcommand{\\farcm}{{.}'}$\n",
       "$\\newcommand{\\arcsec}{''}$\n",
       "$\\newcommand{\\arcmin}{'}$\n",
       "$\\newcommand{\\ion}[2]{#1#2}$\n",
       "$\\newcommand{\\textsc}[1]{\\textrm{#1}}$\n",
       "$\\newcommand{\\hl}[1]{\\textrm{#1}}$\n",
       "$\\newcommand{\\footnote}[1]{}$\n",
       "$\\newcommand$\n",
       "$\\newcommand{\\vsig}{v_{5}/\\sigma_{0}}$\n",
       "$\\newcommand{\\rA}{\\mathrm{Å}}$\n",
       "$\\newcommand{\\msun}{\\mathrm{M}_{\\sun}}$\n",
       "$\\newcommand{\\logm}{\\mathrm{logM/\\msun}}$\n",
       "$\\newcommand{\\sigs}{\\sigma'_{\\star,\\rm{int}}}$\n",
       "$\\newcommand{\\sigg}{\\sigma'_{g,\\rm{int}}}$\n",
       "$\\newcommand{\\ha}{H\\alpha}$\n",
       "$\\newcommand{\\hb}{H\\beta}$\n",
       "$\\newcommand{\\hg}{H\\gamma}$\n",
       "$\\newcommand{\\hd}{H\\delta}$\n",
       "$\\newcommand{\\dfn}{D4000_n}$\n",
       "$\\newcommand{\\hda}{\\hd_\\mathrm{A}}$\n",
       "$\\newcommand{\\mgt}{\\mathrm{Mg_{2}}}$\n",
       "$\\newcommand{\\vdag}{(v)^\\dagger}$\n",
       "$\\newcommand$\n",
       "$\\newcommand{\\e}{é}$\n",
       "$\\newcommand{\\amen}[1]{\\textbf{\\textit{#1}}}$\n",
       "$\\newcommand{\\arraystretch}{2.0}$</div>\n",
       "\n",
       "\n",
       "\n",
       "<div id=\"title\">\n",
       "\n",
       "# Less is less: photometry alone cannot predict the observed spectral indices of $z\\sim1$ galaxies from the LEGA-C spectroscopic survey\n",
       "\n",
       "</div>\n",
       "<div id=\"comments\">\n",
       "\n",
       "[![arXiv](https://img.shields.io/badge/arXiv-2310.18000-b31b1b.svg)](https://arxiv.org/abs/2310.18000)<mark>Appeared on: 2023-10-30</mark> -  _13 pages, 8 figures, accepted 26 October 2023_\n",
       "\n",
       "</div>\n",
       "<div id=\"authors\">\n",
       "\n",
       "A. Nersesian, et al. -- incl., <mark>A. d. Graaff</mark>\n",
       "\n",
       "</div>\n",
       "<div id=\"abstract\">\n",
       "\n",
       "**Abstract:** We test whether we can predict optical spectra from deep-field photometry of distant galaxies. Our goal is to perform a comparison in data space, highlighting the differences between predicted and observed spectra. The Large Early Galaxy Astrophysics Census (LEGA-C) provides high-quality optical spectra of thousands of galaxies at redshift $0.6<z<1$. Broad-band photometry of the same galaxies, drawn from the recent COSMOS2020 catalog, is used to predict the optical spectra with the spectral energy distribution (SED) fitting code Prospector and the MILES stellar library. The observed and predicted spectra are compared in terms of two age and metallicity-sensitive absorption features (H$\\delta_\\mathrm{A}$ and Fe4383). The global bimodality of star-forming and quiescent galaxies in photometric space is recovered with the model spectra. But the presence of a systematic offset in the Fe4383 line strength and the weak correlation between the observed and modeled line strength imply that accurate age or metallicity determinations cannot be inferred from photometry alone. For now we caution that photometry-based estimates of stellar population properties are determined mostly by the modeling approach and not the physical properties of galaxies, even when using the highest-quality photometric datasets and state-of-the-art fitting techniques. When exploring a new physical parameter space (i.e. redshift or galaxy mass) high-quality spectroscopy is always needed to inform the analysis of photometry. \n",
       "\n",
       "</div>\n",
       "\n",
       "<div id=\"div_fig1\">\n",
       "\n",
       "<img src=\"tmp_2310.18000/./strict_fig2_alt4_crop.png\" alt=\"Fig3\" width=\"100%\"/>\n",
       "\n",
       "**Figure 3. -** Predicted $\\hd$a and Fe4383 absorption features from {\\tt Prospector} fits to the COSMOS2020 photometry compared to observations. Galaxies are color-coded by their $UVJ$--diagram classification to star-forming (blue diamonds) and quenched (red points). The absorption-only models are compared to the observed values (corrected for emission). The black line shows the one-to-one relation. The various markers correspond to the star-forming (orange) and quenched (green) galaxies shown in Fig. \\ref{fig:sed_examples}. The statistics of the mean offset and the Spearman's rank correlation coefficient ($\\rho$), are shown in the top-left corner of each panel. (*fig:hd_fe4383_obs_vs_prd*)\n",
       "\n",
       "</div>\n",
       "<div id=\"div_fig2\">\n",
       "\n",
       "<img src=\"tmp_2310.18000/./strict_fig3_alt4_miles_mist_crop_wn3.png\" alt=\"Fig4\" width=\"100%\"/>\n",
       "\n",
       "**Figure 4. -** Left: Observed $\\hd$a versus Fe4383. Middle: Predicted $\\hd$a versus Fe4383. Right: Perturbed model values according to the individual observed errors. Galaxies are color-coded with $\\log \\sigma_\\star$ from the LEGA-C DR3 catalog. The SSP model grid is shown with the red (Age) and blue (metallicity) lines. The statistics of the scatter and the Spearman's rank correlation coefficient ($\\rho$) are shown in the bottom-left corner of each panel. The median uncertainties of each axis are shown in the top-right corner of each panel. (*fig:hd_vs_fe4383*)\n",
       "\n",
       "</div>\n",
       "<div id=\"div_fig3\">\n",
       "\n",
       "<img src=\"tmp_2310.18000/./chi2_distribution.png\" alt=\"Fig1\" width=\"100%\"/>\n",
       "\n",
       "**Figure 1. -** Distribution of the reduced $\\chi^2$ between the predicted spectra with {\\tt Prospector} and the observed LEGA-C spectra. The Kernel Density Estimate (KDE) distribution is shown in red, while the solid black line shows the median value. The dotted and dashed black lines indicate the $16^\\mathrm{th}$ and $84^\\mathrm{th}$ percentiles of the distribution, respectively. (*fig:chisqr*)\n",
       "\n",
       "</div><div id=\"qrcode\"><img src=https://api.qrserver.com/v1/create-qr-code/?size=100x100&data=\"https://arxiv.org/abs/2310.18000\"></div>"
      ],
      "text/plain": [
       "<IPython.core.display.Markdown object>"
      ]
     },
     "metadata": {},
     "output_type": "display_data"
    }
   ],
   "source": [
    "[display(Markdown(k[1])) for k in documents];"
   ]
  },
  {
   "cell_type": "markdown",
   "id": "873873a4",
   "metadata": {
    "papermill": {
     "duration": 0.005996,
     "end_time": "2023-10-30T04:09:52.229326",
     "exception": false,
     "start_time": "2023-10-30T04:09:52.223330",
     "status": "completed"
    },
    "tags": []
   },
   "source": [
    "# Create HTML index"
   ]
  },
  {
   "cell_type": "code",
   "execution_count": 9,
   "id": "cf665672",
   "metadata": {
    "execution": {
     "iopub.execute_input": "2023-10-30T04:09:52.242804Z",
     "iopub.status.busy": "2023-10-30T04:09:52.242194Z",
     "iopub.status.idle": "2023-10-30T04:09:52.253579Z",
     "shell.execute_reply": "2023-10-30T04:09:52.252935Z"
    },
    "papermill": {
     "duration": 0.019893,
     "end_time": "2023-10-30T04:09:52.255189",
     "exception": false,
     "start_time": "2023-10-30T04:09:52.235296",
     "status": "completed"
    },
    "tags": []
   },
   "outputs": [
    {
     "name": "stdout",
     "output_type": "stream",
     "text": [
      "309  publications files modified in the last 7 days.\n"
     ]
    }
   ],
   "source": [
    "from datetime import datetime, timedelta, timezone\n",
    "from glob import glob\n",
    "import os\n",
    "\n",
    "files = glob('_build/html/*.md')\n",
    "days = 7\n",
    "now = datetime.today()\n",
    "res = []\n",
    "for fk in files:\n",
    "    stat_result = os.stat(fk).st_ctime\n",
    "    modified = datetime.fromtimestamp(stat_result, tz=timezone.utc).replace(tzinfo=None)\n",
    "    delta = now.today() - modified\n",
    "    if delta <= timedelta(days=days):\n",
    "        res.append((delta.seconds, fk))\n",
    "res = [k[1] for k in reversed(sorted(res, key=lambda x:x[1]))]\n",
    "npub = len(res)\n",
    "print(len(res), f\" publications files modified in the last {days:d} days.\")\n",
    "# [ print('\\t', k) for k in res ];"
   ]
  },
  {
   "cell_type": "code",
   "execution_count": 10,
   "id": "015de740",
   "metadata": {
    "execution": {
     "iopub.execute_input": "2023-10-30T04:09:52.268863Z",
     "iopub.status.busy": "2023-10-30T04:09:52.268285Z",
     "iopub.status.idle": "2023-10-30T04:09:52.288714Z",
     "shell.execute_reply": "2023-10-30T04:09:52.288187Z"
    },
    "papermill": {
     "duration": 0.028747,
     "end_time": "2023-10-30T04:09:52.290115",
     "exception": false,
     "start_time": "2023-10-30T04:09:52.261368",
     "status": "completed"
    },
    "tags": []
   },
   "outputs": [
    {
     "name": "stdout",
     "output_type": "stream",
     "text": [
      "4  publications in the last 7 days.\n"
     ]
    }
   ],
   "source": [
    "import datetime\n",
    "from glob import glob\n",
    "\n",
    "def get_last_n_days(lst, days=1):\n",
    "    \"\"\" Get the documents from the last n days \"\"\"\n",
    "    sorted_lst = sorted(lst, key=lambda x: x[1], reverse=True)\n",
    "    for fname, date in sorted_lst:\n",
    "        if date >= str(datetime.date.today() - datetime.timedelta(days=days)):\n",
    "            yield fname\n",
    "\n",
    "def extract_appearance_dates(lst_file):\n",
    "    dates = []\n",
    "\n",
    "    def get_date(line):\n",
    "        return line\\\n",
    "            .split('Appeared on:')[-1]\\\n",
    "            .split('</mark>')[0].strip()\n",
    "\n",
    "    for fname in lst:\n",
    "        with open(fname, 'r') as f:\n",
    "            found_date = False\n",
    "            for line in f:\n",
    "                if not found_date:\n",
    "                    if \"Appeared on\" in line:\n",
    "                        found_date = True\n",
    "                        dates.append((fname, get_date(line)))\n",
    "                else:\n",
    "                    break\n",
    "    return dates\n",
    "\n",
    "from glob import glob\n",
    "lst = glob('_build/html/*md')\n",
    "days = 7\n",
    "dates = extract_appearance_dates(lst)\n",
    "res = list(get_last_n_days(dates, days))\n",
    "npub = len(res)\n",
    "print(len(res), f\" publications in the last {days:d} days.\")"
   ]
  },
  {
   "cell_type": "code",
   "execution_count": 11,
   "id": "52ca0208",
   "metadata": {
    "execution": {
     "iopub.execute_input": "2023-10-30T04:09:52.304230Z",
     "iopub.status.busy": "2023-10-30T04:09:52.303587Z",
     "iopub.status.idle": "2023-10-30T04:09:52.309252Z",
     "shell.execute_reply": "2023-10-30T04:09:52.308662Z"
    },
    "papermill": {
     "duration": 0.01433,
     "end_time": "2023-10-30T04:09:52.310731",
     "exception": false,
     "start_time": "2023-10-30T04:09:52.296401",
     "status": "completed"
    },
    "scrolled": false,
    "tags": []
   },
   "outputs": [],
   "source": [
    "def create_carousel(npub=4):\n",
    "    \"\"\" Generate the HTML code for a carousel with `npub` slides \"\"\"\n",
    "    carousel = [\"\"\"  <div class=\"carousel\" \"\"\",\n",
    "                \"\"\"       data-flickity='{ \"autoPlay\": 10000, \"adaptiveHeight\": true, \"resize\": true, \"wrapAround\": true, \"pauseAutoPlayOnHover\": true, \"groupCells\": 1 }' id=\"asyncTypeset\">\"\"\"\n",
    "                ]\n",
    "    \n",
    "    item_str = \"\"\"    <div class=\"carousel-cell\"> <div id=\"slide{k}\" class=\"md_view\">Content {k}</div> </div>\"\"\"\n",
    "    for k in range(1, npub + 1):\n",
    "        carousel.append(item_str.format(k=k))\n",
    "    carousel.append(\"  </div>\")\n",
    "    return '\\n'.join(carousel)\n",
    "\n",
    "def create_grid(npub=4):\n",
    "    \"\"\" Generate the HTML code for a flat grid with `npub` slides \"\"\"\n",
    "    grid = [\"\"\"  <div class=\"grid\"> \"\"\",\n",
    "                ]\n",
    "    \n",
    "    item_str = \"\"\"    <div class=\"grid-item\"> <div id=\"slide{k}\" class=\"md_view\">Content {k}</div> </div>\"\"\"\n",
    "    for k in range(1, npub + 1):\n",
    "        grid.append(item_str.format(k=k))\n",
    "    grid.append(\"  </div>\")\n",
    "    return '\\n'.join(grid)"
   ]
  },
  {
   "cell_type": "code",
   "execution_count": 12,
   "id": "a6eac5b6",
   "metadata": {
    "execution": {
     "iopub.execute_input": "2023-10-30T04:09:52.325006Z",
     "iopub.status.busy": "2023-10-30T04:09:52.324408Z",
     "iopub.status.idle": "2023-10-30T04:09:52.329968Z",
     "shell.execute_reply": "2023-10-30T04:09:52.329388Z"
    },
    "papermill": {
     "duration": 0.014263,
     "end_time": "2023-10-30T04:09:52.331505",
     "exception": false,
     "start_time": "2023-10-30T04:09:52.317242",
     "status": "completed"
    },
    "scrolled": false,
    "tags": []
   },
   "outputs": [],
   "source": [
    "carousel = create_carousel(npub)\n",
    "docs = ', '.join(['\"{0:s}\"'.format(k.split('/')[-1]) for k in res])\n",
    "slides = ', '.join([f'\"slide{k}\"' for k in range(1, npub + 1)])\n",
    "\n",
    "with open(\"daily_template.html\", \"r\") as tpl:\n",
    "    page = tpl.read()\n",
    "    page = page.replace(\"{%-- carousel:s --%}\", carousel)\\\n",
    "               .replace(\"{%-- suptitle:s --%}\",  \"7-day archives\" )\\\n",
    "               .replace(\"{%-- docs:s --%}\", docs)\\\n",
    "               .replace(\"{%-- slides:s --%}\", slides)\n",
    "    \n",
    "with open(\"_build/html/index_7days.html\", 'w') as fout:\n",
    "    fout.write(page)"
   ]
  },
  {
   "cell_type": "code",
   "execution_count": 13,
   "id": "adc1a1ec",
   "metadata": {
    "execution": {
     "iopub.execute_input": "2023-10-30T04:09:52.345804Z",
     "iopub.status.busy": "2023-10-30T04:09:52.345066Z",
     "iopub.status.idle": "2023-10-30T04:09:52.352948Z",
     "shell.execute_reply": "2023-10-30T04:09:52.352306Z"
    },
    "papermill": {
     "duration": 0.016596,
     "end_time": "2023-10-30T04:09:52.354413",
     "exception": false,
     "start_time": "2023-10-30T04:09:52.337817",
     "status": "completed"
    },
    "tags": []
   },
   "outputs": [
    {
     "name": "stdout",
     "output_type": "stream",
     "text": [
      "2  publications in the last day.\n"
     ]
    }
   ],
   "source": [
    "# redo for today\n",
    "days = 1\n",
    "res = list(get_last_n_days(dates, days))\n",
    "npub = len(res)\n",
    "print(len(res), f\" publications in the last day.\")\n",
    "\n",
    "carousel = create_carousel(npub)\n",
    "docs = ', '.join(['\"{0:s}\"'.format(k.split('/')[-1]) for k in res])\n",
    "slides = ', '.join([f'\"slide{k}\"' for k in range(1, npub + 1)])\n",
    "\n",
    "with open(\"daily_template.html\", \"r\") as tpl:\n",
    "    page = tpl.read()\n",
    "    page = page.replace(\"{%-- carousel:s --%}\", carousel)\\\n",
    "               .replace(\"{%-- suptitle:s --%}\",  \"Daily\" )\\\n",
    "               .replace(\"{%-- docs:s --%}\", docs)\\\n",
    "               .replace(\"{%-- slides:s --%}\", slides)\n",
    "    \n",
    "# print(carousel, docs, slides)\n",
    "# print(page)\n",
    "with open(\"_build/html/index_daily.html\", 'w') as fout:\n",
    "    fout.write(page)"
   ]
  },
  {
   "cell_type": "code",
   "execution_count": 14,
   "id": "00eece82",
   "metadata": {
    "execution": {
     "iopub.execute_input": "2023-10-30T04:09:52.369150Z",
     "iopub.status.busy": "2023-10-30T04:09:52.368497Z",
     "iopub.status.idle": "2023-10-30T04:09:52.376814Z",
     "shell.execute_reply": "2023-10-30T04:09:52.376162Z"
    },
    "papermill": {
     "duration": 0.017363,
     "end_time": "2023-10-30T04:09:52.378350",
     "exception": false,
     "start_time": "2023-10-30T04:09:52.360987",
     "status": "completed"
    },
    "scrolled": false,
    "tags": []
   },
   "outputs": [
    {
     "name": "stdout",
     "output_type": "stream",
     "text": [
      "6  6 publications selected.\n"
     ]
    }
   ],
   "source": [
    "# Create the flat grid of the last N papers (fixed number regardless of dates)\n",
    "from itertools import islice \n",
    "\n",
    "npub = 6\n",
    "res = [k[0] for k in (islice(reversed(sorted(dates, key=lambda x: x[1])), 6))]\n",
    "print(len(res), f\" {npub} publications selected.\")\n",
    "\n",
    "grid = create_grid(npub)\n",
    "docs = ', '.join(['\"{0:s}\"'.format(k.split('/')[-1]) for k in res])\n",
    "slides = ', '.join([f'\"slide{k}\"' for k in range(1, npub + 1)])\n",
    "\n",
    "with open(\"grid_template.html\", \"r\") as tpl:\n",
    "    page = tpl.read()\n",
    "    page = page.replace(\"{%-- grid-content:s --%}\", grid)\\\n",
    "               .replace(\"{%-- suptitle:s --%}\",  f\"Last {npub:,d} papers\" )\\\n",
    "               .replace(\"{%-- docs:s --%}\", docs)\\\n",
    "               .replace(\"{%-- slides:s --%}\", slides)\n",
    "    \n",
    "# print(grid, docs, slides)\n",
    "# print(page)\n",
    "with open(\"_build/html/index_npub_grid.html\", 'w') as fout:\n",
    "    fout.write(page)"
   ]
  }
 ],
 "metadata": {
  "kernelspec": {
   "display_name": "Python 3 (ipykernel)",
   "language": "python",
   "name": "python3"
  },
  "language_info": {
   "codemirror_mode": {
    "name": "ipython",
    "version": 3
   },
   "file_extension": ".py",
   "mimetype": "text/x-python",
   "name": "python",
   "nbconvert_exporter": "python",
   "pygments_lexer": "ipython3",
   "version": "3.9.18"
  },
  "papermill": {
   "default_parameters": {},
   "duration": 91.152105,
   "end_time": "2023-10-30T04:09:52.603062",
   "environment_variables": {},
   "exception": null,
   "input_path": "MPIA daily digest.ipynb",
   "output_path": "log.ipynb",
   "parameters": {},
   "start_time": "2023-10-30T04:08:21.450957",
   "version": "2.4.0"
  },
  "vscode": {
   "interpreter": {
    "hash": "aee8b7b246df8f9039afb4144a1f6fd8d2ca17a180786b69acc140d282b71a49"
   }
  },
  "widgets": {
   "application/vnd.jupyter.widget-state+json": {
    "state": {
     "0a9f191edadd4bd5af5a5edb3bb138c5": {
      "model_module": "@jupyter-widgets/base",
      "model_module_version": "2.0.0",
      "model_name": "LayoutModel",
      "state": {
       "_model_module": "@jupyter-widgets/base",
       "_model_module_version": "2.0.0",
       "_model_name": "LayoutModel",
       "_view_count": null,
       "_view_module": "@jupyter-widgets/base",
       "_view_module_version": "2.0.0",
       "_view_name": "LayoutView",
       "align_content": null,
       "align_items": null,
       "align_self": null,
       "border_bottom": null,
       "border_left": null,
       "border_right": null,
       "border_top": null,
       "bottom": null,
       "display": null,
       "flex": null,
       "flex_flow": null,
       "grid_area": null,
       "grid_auto_columns": null,
       "grid_auto_flow": null,
       "grid_auto_rows": null,
       "grid_column": null,
       "grid_gap": null,
       "grid_row": null,
       "grid_template_areas": null,
       "grid_template_columns": null,
       "grid_template_rows": null,
       "height": null,
       "justify_content": null,
       "justify_items": null,
       "left": null,
       "margin": null,
       "max_height": null,
       "max_width": null,
       "min_height": null,
       "min_width": null,
       "object_fit": null,
       "object_position": null,
       "order": null,
       "overflow": null,
       "padding": null,
       "right": null,
       "top": null,
       "visibility": null,
       "width": null
      }
     },
     "14d1a9d71b9047f1ae2091919f503fc2": {
      "model_module": "@jupyter-widgets/controls",
      "model_module_version": "2.0.0",
      "model_name": "HTMLModel",
      "state": {
       "_dom_classes": [],
       "_model_module": "@jupyter-widgets/controls",
       "_model_module_version": "2.0.0",
       "_model_name": "HTMLModel",
       "_view_count": null,
       "_view_module": "@jupyter-widgets/controls",
       "_view_module_version": "2.0.0",
       "_view_name": "HTMLView",
       "description": "",
       "description_allow_html": false,
       "layout": "IPY_MODEL_c898d7cb176f458085a1341711240633",
       "placeholder": "​",
       "style": "IPY_MODEL_f127cc398cac4d6191b2c3c1d5fd17c2",
       "tabbable": null,
       "tooltip": null,
       "value": " 3/3 [01:05&lt;00:00, 19.39s/it]"
      }
     },
     "16f6a46a34e045c5a738f2ce3f696e44": {
      "model_module": "@jupyter-widgets/controls",
      "model_module_version": "2.0.0",
      "model_name": "HTMLStyleModel",
      "state": {
       "_model_module": "@jupyter-widgets/controls",
       "_model_module_version": "2.0.0",
       "_model_name": "HTMLStyleModel",
       "_view_count": null,
       "_view_module": "@jupyter-widgets/base",
       "_view_module_version": "2.0.0",
       "_view_name": "StyleView",
       "background": null,
       "description_width": "",
       "font_size": null,
       "text_color": null
      }
     },
     "19aaf0b956a2498597441dddc3c507a7": {
      "model_module": "@jupyter-widgets/controls",
      "model_module_version": "2.0.0",
      "model_name": "HTMLModel",
      "state": {
       "_dom_classes": [],
       "_model_module": "@jupyter-widgets/controls",
       "_model_module_version": "2.0.0",
       "_model_name": "HTMLModel",
       "_view_count": null,
       "_view_module": "@jupyter-widgets/controls",
       "_view_module_version": "2.0.0",
       "_view_name": "HTMLView",
       "description": "",
       "description_allow_html": false,
       "layout": "IPY_MODEL_268ed0b0bbcf4964a89dfcbe1499ad53",
       "placeholder": "​",
       "style": "IPY_MODEL_16f6a46a34e045c5a738f2ce3f696e44",
       "tabbable": null,
       "tooltip": null,
       "value": "100%"
      }
     },
     "268ed0b0bbcf4964a89dfcbe1499ad53": {
      "model_module": "@jupyter-widgets/base",
      "model_module_version": "2.0.0",
      "model_name": "LayoutModel",
      "state": {
       "_model_module": "@jupyter-widgets/base",
       "_model_module_version": "2.0.0",
       "_model_name": "LayoutModel",
       "_view_count": null,
       "_view_module": "@jupyter-widgets/base",
       "_view_module_version": "2.0.0",
       "_view_name": "LayoutView",
       "align_content": null,
       "align_items": null,
       "align_self": null,
       "border_bottom": null,
       "border_left": null,
       "border_right": null,
       "border_top": null,
       "bottom": null,
       "display": null,
       "flex": null,
       "flex_flow": null,
       "grid_area": null,
       "grid_auto_columns": null,
       "grid_auto_flow": null,
       "grid_auto_rows": null,
       "grid_column": null,
       "grid_gap": null,
       "grid_row": null,
       "grid_template_areas": null,
       "grid_template_columns": null,
       "grid_template_rows": null,
       "height": null,
       "justify_content": null,
       "justify_items": null,
       "left": null,
       "margin": null,
       "max_height": null,
       "max_width": null,
       "min_height": null,
       "min_width": null,
       "object_fit": null,
       "object_position": null,
       "order": null,
       "overflow": null,
       "padding": null,
       "right": null,
       "top": null,
       "visibility": null,
       "width": null
      }
     },
     "68f0b0dc6b8f4ad49b0dff11f9a613c1": {
      "model_module": "@jupyter-widgets/controls",
      "model_module_version": "2.0.0",
      "model_name": "ProgressStyleModel",
      "state": {
       "_model_module": "@jupyter-widgets/controls",
       "_model_module_version": "2.0.0",
       "_model_name": "ProgressStyleModel",
       "_view_count": null,
       "_view_module": "@jupyter-widgets/base",
       "_view_module_version": "2.0.0",
       "_view_name": "StyleView",
       "bar_color": null,
       "description_width": ""
      }
     },
     "6974c0d444b64fbcaeea82aad569a06e": {
      "model_module": "@jupyter-widgets/controls",
      "model_module_version": "2.0.0",
      "model_name": "HBoxModel",
      "state": {
       "_dom_classes": [],
       "_model_module": "@jupyter-widgets/controls",
       "_model_module_version": "2.0.0",
       "_model_name": "HBoxModel",
       "_view_count": null,
       "_view_module": "@jupyter-widgets/controls",
       "_view_module_version": "2.0.0",
       "_view_name": "HBoxView",
       "box_style": "",
       "children": [
        "IPY_MODEL_19aaf0b956a2498597441dddc3c507a7",
        "IPY_MODEL_c0cf0afc0f9348eb907fa3d8fa45642b",
        "IPY_MODEL_14d1a9d71b9047f1ae2091919f503fc2"
       ],
       "layout": "IPY_MODEL_0a9f191edadd4bd5af5a5edb3bb138c5",
       "tabbable": null,
       "tooltip": null
      }
     },
     "c00459eef45343d2b1edc8bd9d3021b9": {
      "model_module": "@jupyter-widgets/base",
      "model_module_version": "2.0.0",
      "model_name": "LayoutModel",
      "state": {
       "_model_module": "@jupyter-widgets/base",
       "_model_module_version": "2.0.0",
       "_model_name": "LayoutModel",
       "_view_count": null,
       "_view_module": "@jupyter-widgets/base",
       "_view_module_version": "2.0.0",
       "_view_name": "LayoutView",
       "align_content": null,
       "align_items": null,
       "align_self": null,
       "border_bottom": null,
       "border_left": null,
       "border_right": null,
       "border_top": null,
       "bottom": null,
       "display": null,
       "flex": null,
       "flex_flow": null,
       "grid_area": null,
       "grid_auto_columns": null,
       "grid_auto_flow": null,
       "grid_auto_rows": null,
       "grid_column": null,
       "grid_gap": null,
       "grid_row": null,
       "grid_template_areas": null,
       "grid_template_columns": null,
       "grid_template_rows": null,
       "height": null,
       "justify_content": null,
       "justify_items": null,
       "left": null,
       "margin": null,
       "max_height": null,
       "max_width": null,
       "min_height": null,
       "min_width": null,
       "object_fit": null,
       "object_position": null,
       "order": null,
       "overflow": null,
       "padding": null,
       "right": null,
       "top": null,
       "visibility": null,
       "width": null
      }
     },
     "c0cf0afc0f9348eb907fa3d8fa45642b": {
      "model_module": "@jupyter-widgets/controls",
      "model_module_version": "2.0.0",
      "model_name": "FloatProgressModel",
      "state": {
       "_dom_classes": [],
       "_model_module": "@jupyter-widgets/controls",
       "_model_module_version": "2.0.0",
       "_model_name": "FloatProgressModel",
       "_view_count": null,
       "_view_module": "@jupyter-widgets/controls",
       "_view_module_version": "2.0.0",
       "_view_name": "ProgressView",
       "bar_style": "success",
       "description": "",
       "description_allow_html": false,
       "layout": "IPY_MODEL_c00459eef45343d2b1edc8bd9d3021b9",
       "max": 3.0,
       "min": 0.0,
       "orientation": "horizontal",
       "style": "IPY_MODEL_68f0b0dc6b8f4ad49b0dff11f9a613c1",
       "tabbable": null,
       "tooltip": null,
       "value": 3.0
      }
     },
     "c898d7cb176f458085a1341711240633": {
      "model_module": "@jupyter-widgets/base",
      "model_module_version": "2.0.0",
      "model_name": "LayoutModel",
      "state": {
       "_model_module": "@jupyter-widgets/base",
       "_model_module_version": "2.0.0",
       "_model_name": "LayoutModel",
       "_view_count": null,
       "_view_module": "@jupyter-widgets/base",
       "_view_module_version": "2.0.0",
       "_view_name": "LayoutView",
       "align_content": null,
       "align_items": null,
       "align_self": null,
       "border_bottom": null,
       "border_left": null,
       "border_right": null,
       "border_top": null,
       "bottom": null,
       "display": null,
       "flex": null,
       "flex_flow": null,
       "grid_area": null,
       "grid_auto_columns": null,
       "grid_auto_flow": null,
       "grid_auto_rows": null,
       "grid_column": null,
       "grid_gap": null,
       "grid_row": null,
       "grid_template_areas": null,
       "grid_template_columns": null,
       "grid_template_rows": null,
       "height": null,
       "justify_content": null,
       "justify_items": null,
       "left": null,
       "margin": null,
       "max_height": null,
       "max_width": null,
       "min_height": null,
       "min_width": null,
       "object_fit": null,
       "object_position": null,
       "order": null,
       "overflow": null,
       "padding": null,
       "right": null,
       "top": null,
       "visibility": null,
       "width": null
      }
     },
     "f127cc398cac4d6191b2c3c1d5fd17c2": {
      "model_module": "@jupyter-widgets/controls",
      "model_module_version": "2.0.0",
      "model_name": "HTMLStyleModel",
      "state": {
       "_model_module": "@jupyter-widgets/controls",
       "_model_module_version": "2.0.0",
       "_model_name": "HTMLStyleModel",
       "_view_count": null,
       "_view_module": "@jupyter-widgets/base",
       "_view_module_version": "2.0.0",
       "_view_name": "StyleView",
       "background": null,
       "description_width": "",
       "font_size": null,
       "text_color": null
      }
     }
    },
    "version_major": 2,
    "version_minor": 0
   }
  }
 },
 "nbformat": 4,
 "nbformat_minor": 5
}