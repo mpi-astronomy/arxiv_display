{
 "cells": [
  {
   "cell_type": "markdown",
   "id": "92bcb855",
   "metadata": {
    "papermill": {
     "duration": 0.004025,
     "end_time": "2025-04-16T04:11:50.392567",
     "exception": false,
     "start_time": "2025-04-16T04:11:50.388542",
     "status": "completed"
    },
    "tags": []
   },
   "source": [
    "# MPIA Arxiv on Deck 2\n",
    "\n",
    "Contains the steps to produce the paper extractions."
   ]
  },
  {
   "cell_type": "code",
   "execution_count": 1,
   "id": "3a0d6e11",
   "metadata": {
    "execution": {
     "iopub.execute_input": "2025-04-16T04:11:50.399986Z",
     "iopub.status.busy": "2025-04-16T04:11:50.399504Z",
     "iopub.status.idle": "2025-04-16T04:11:50.742128Z",
     "shell.execute_reply": "2025-04-16T04:11:50.741429Z"
    },
    "papermill": {
     "duration": 0.347717,
     "end_time": "2025-04-16T04:11:50.743580",
     "exception": false,
     "start_time": "2025-04-16T04:11:50.395863",
     "status": "completed"
    },
    "tags": []
   },
   "outputs": [],
   "source": [
    "# Imports\n",
    "import os\n",
    "from IPython.display import Markdown, display\n",
    "from tqdm.notebook import tqdm\n",
    "import warnings\n",
    "from PIL import Image \n",
    "import re\n",
    "\n",
    "# requires arxiv_on_deck_2\n",
    "\n",
    "from arxiv_on_deck_2.arxiv2 import (get_new_papers, \n",
    "                                    get_paper_from_identifier,\n",
    "                                    retrieve_document_source, \n",
    "                                    get_markdown_badge)\n",
    "from arxiv_on_deck_2 import (latex,\n",
    "                             latex_bib,\n",
    "                             mpia,\n",
    "                             highlight_authors_in_list)\n",
    "\n",
    "# Sometimes images are really big\n",
    "Image.MAX_IMAGE_PIXELS = 1000000000 "
   ]
  },
  {
   "cell_type": "code",
   "execution_count": 2,
   "id": "22aa9d44",
   "metadata": {
    "execution": {
     "iopub.execute_input": "2025-04-16T04:11:50.751427Z",
     "iopub.status.busy": "2025-04-16T04:11:50.750827Z",
     "iopub.status.idle": "2025-04-16T04:11:50.759048Z",
     "shell.execute_reply": "2025-04-16T04:11:50.758430Z"
    },
    "papermill": {
     "duration": 0.013148,
     "end_time": "2025-04-16T04:11:50.760067",
     "exception": false,
     "start_time": "2025-04-16T04:11:50.746919",
     "status": "completed"
    },
    "tags": []
   },
   "outputs": [],
   "source": [
    "# Some useful definitions.\n",
    "\n",
    "class AffiliationWarning(UserWarning):\n",
    "    pass\n",
    "\n",
    "class AffiliationError(RuntimeError):\n",
    "    pass\n",
    "\n",
    "def validation(source: str):\n",
    "    \"\"\"Raises error paper during parsing of source file\n",
    "    \n",
    "    Allows checks before parsing TeX code.\n",
    "    \n",
    "    Raises AffiliationWarning\n",
    "    \"\"\"\n",
    "    check = mpia.affiliation_verifications(source, verbose=True)\n",
    "    if check is not True:\n",
    "        raise AffiliationError(\"mpia.affiliation_verifications: \" + check)\n",
    "\n",
    "        \n",
    "warnings.simplefilter('always', AffiliationWarning)\n",
    "\n",
    "\n",
    "def get_markdown_qrcode(paper_id: str):\n",
    "    \"\"\" Generate a qrcode to the arxiv page using qrserver.com\n",
    "    \n",
    "    :param paper: Arxiv paper\n",
    "    :returns: markdown text\n",
    "    \"\"\"\n",
    "    url = r\"https://api.qrserver.com/v1/create-qr-code/?size=100x100&data=\"\n",
    "    txt = f\"\"\"<img src={url}\"https://arxiv.org/abs/{paper_id}\">\"\"\"\n",
    "    txt = '<div id=\"qrcode\">' + txt + '</div>'\n",
    "    return txt\n",
    "\n",
    "\n",
    "def clean_non_western_encoded_characters_commands(text: str) -> str:\n",
    "    \"\"\" Remove non-western encoded characters from a string\n",
    "    List may need to grow.\n",
    "    \n",
    "    :param text: the text to clean\n",
    "    :return: the cleaned text\n",
    "    \"\"\"\n",
    "    text = re.sub(r\"(\\\\begin{CJK}{UTF8}{gbsn})(.*?)(\\\\end{CJK})\", r\"\\2\", text)\n",
    "    return text\n",
    "\n",
    "\n",
    "def get_initials(name: str) -> str:\n",
    "    \"\"\" Get the short name, e.g., A.-B. FamName\n",
    "    :param name: full name\n",
    "    :returns: initials\n",
    "    \"\"\"\n",
    "    initials = []\n",
    "    # account for non western names often in ()\n",
    "    if '(' in name:\n",
    "        name = clean_non_western_encoded_characters_commands(name)\n",
    "        suffix = re.findall(r\"\\((.*?)\\)\", name)[0]\n",
    "        name = name.replace(f\"({suffix})\", '')\n",
    "    else:\n",
    "        suffix = ''\n",
    "    split = name.split()\n",
    "    for token in split[:-1]:\n",
    "        if '-' in token:\n",
    "            current = '-'.join([k[0] + '.' for k in token.split('-')])\n",
    "        else:\n",
    "            current = token[0] + '.'\n",
    "        initials.append(current)\n",
    "    initials.append(split[-1].strip())\n",
    "    if suffix:\n",
    "        initials.append(f\"({suffix})\")\n",
    "    return ' '.join(initials)"
   ]
  },
  {
   "cell_type": "markdown",
   "id": "14bd6310",
   "metadata": {
    "papermill": {
     "duration": 0.002901,
     "end_time": "2025-04-16T04:11:50.765960",
     "exception": false,
     "start_time": "2025-04-16T04:11:50.763059",
     "status": "completed"
    },
    "tags": []
   },
   "source": [
    "## get list of arxiv paper candidates\n",
    "\n",
    "We use the MPIA mitarbeiter list webpage from mpia.de to get author names\n",
    "We then get all new papers from Arxiv and match authors"
   ]
  },
  {
   "cell_type": "code",
   "execution_count": 3,
   "id": "7ea813a8",
   "metadata": {
    "execution": {
     "iopub.execute_input": "2025-04-16T04:11:50.772887Z",
     "iopub.status.busy": "2025-04-16T04:11:50.772419Z",
     "iopub.status.idle": "2025-04-16T04:12:15.070807Z",
     "shell.execute_reply": "2025-04-16T04:12:15.070166Z"
    },
    "papermill": {
     "duration": 24.30308,
     "end_time": "2025-04-16T04:12:15.072008",
     "exception": false,
     "start_time": "2025-04-16T04:11:50.768928",
     "status": "completed"
    },
    "tags": []
   },
   "outputs": [],
   "source": [
    "# deal with the author list and edge cases of people that cannot be consistent on their name  \n",
    "\n",
    "def filter_non_scientists(name: str) -> bool:\n",
    "    \"\"\" Loose filter on expected authorships\n",
    "\n",
    "    removing IT, administration, technical staff\n",
    "    :param name: name\n",
    "    :returns: False if name is not a scientist\n",
    "    \"\"\"\n",
    "    remove_list = ['Licht', 'Binroth', 'Witzel', 'Jordan',\n",
    "                   'Zähringer', 'Scheerer', 'Hoffmann', 'Düe',\n",
    "                   'Hellmich', 'Enkler-Scharpegge', 'Witte-Nguy',\n",
    "                   'Dehen', 'Beckmann', 'Jager', 'Jäger'\n",
    "                  ]\n",
    "\n",
    "    for k in remove_list:\n",
    "        if k in name:\n",
    "            return False\n",
    "    return True\n",
    "\n",
    "def add_author_to_list(author_list: list) -> list:\n",
    "    \"\"\" Add author to list if not already in list\n",
    "    \n",
    "    :param author: author name\n",
    "    :param author_list: list of authors\n",
    "    :returns: updated list of authors\n",
    "    \"\"\"\n",
    "    add_list = ['T. Henning']\n",
    "\n",
    "    for author in add_list:\n",
    "        if author not in author_list:\n",
    "            author_list.append(author)\n",
    "    return author_list\n",
    "\n",
    "# get list from MPIA website\n",
    "# filter for non-scientists (mpia.get_mpia_mitarbeiter_list() does some filtering)\n",
    "mpia_authors = [k[1] for k in mpia.get_mpia_mitarbeiter_list() if filter_non_scientists(k[1])]\n",
    "# add some missing author because of inconsistencies in their MPIA name and author name on papers\n",
    "mpia_authors = add_author_to_list(mpia_authors)"
   ]
  },
  {
   "cell_type": "code",
   "execution_count": 4,
   "id": "2645e73a",
   "metadata": {
    "execution": {
     "iopub.execute_input": "2025-04-16T04:12:15.079422Z",
     "iopub.status.busy": "2025-04-16T04:12:15.078944Z",
     "iopub.status.idle": "2025-04-16T04:12:15.565818Z",
     "shell.execute_reply": "2025-04-16T04:12:15.565130Z"
    },
    "papermill": {
     "duration": 0.491569,
     "end_time": "2025-04-16T04:12:15.566841",
     "exception": false,
     "start_time": "2025-04-16T04:12:15.075272",
     "status": "completed"
    },
    "tags": []
   },
   "outputs": [
    {
     "name": "stdout",
     "output_type": "stream",
     "text": [
      "C. Fendt  ->  C. Fendt  |  ['C. Fendt']\n",
      "X. Zhang  ->  X. Zhang  |  ['X. Zhang']\n",
      "Y. Wang  ->  Y. Wang  |  ['Y. Wang']\n",
      "I. Hammond  ->  I. Hammond  |  ['I. Hammond']\n",
      "D. Trevascus  ->  D. Trevascus  |  ['D. Trevascus']\n",
      "M. Samland  ->  M. Samland  |  ['M. Samland']\n",
      "D. Trevascus  ->  D. Trevascus  |  ['D. Trevascus']\n",
      "E. Matthews  ->  E. Matthews  |  ['E. Matthews']\n",
      "I. Hammond  ->  I. Hammond  |  ['I. Hammond']\n",
      "W. Brandner  ->  W. Brandner  |  ['W. Brandner']\n",
      "R. Burn  ->  R. Burn  |  ['R. Burn']\n",
      "G. Chauvin  ->  G. Chauvin  |  ['G. Chauvin']\n",
      "L. Kreidberg  ->  L. Kreidberg  |  ['L. Kreidberg']\n",
      "J. Sauter  ->  J. Sauter  |  ['J. Sauter']\n",
      "G. Perotti  ->  G. Perotti  |  ['G. Perotti']\n",
      "T. Henning  ->  T. Henning  |  ['T. Henning']\n",
      "K. Schwarz  ->  K. Schwarz  |  ['K. Schwarz']\n",
      "R. v. Boekel  ->  R. v. Boekel  |  ['R. v. Boekel']\n",
      "T. Henning  ->  T. Henning  |  ['T. Henning']\n",
      "G. Perotti  ->  G. Perotti  |  ['G. Perotti']\n",
      "K. Schwarz  ->  K. Schwarz  |  ['K. Schwarz']\n",
      "Arxiv has 67 new papers today\n",
      "          6 with possible author matches\n"
     ]
    }
   ],
   "source": [
    "new_papers = get_new_papers()\n",
    "# add manual references\n",
    "add_paper_refs = []\n",
    "new_papers.extend([get_paper_from_identifier(k) for k in add_paper_refs])\n",
    "\n",
    "def robust_call(fn, value, *args, **kwargs):\n",
    "    try:\n",
    "        return fn(value, *args, **kwargs)\n",
    "    except Exception:\n",
    "        return value\n",
    "\n",
    "candidates = []\n",
    "for paperk in new_papers:\n",
    "    # Check author list with their initials\n",
    "    normed_author_list = [robust_call(mpia.get_initials, k) for k in paperk['authors']]\n",
    "    hl_authors = highlight_authors_in_list(normed_author_list, mpia_authors, verbose=True)\n",
    "    matches = [(hl, orig) for hl, orig in zip(hl_authors, paperk['authors']) if 'mark' in hl]\n",
    "    paperk['authors'] = hl_authors\n",
    "    if matches:\n",
    "        # only select paper if an author matched our list\n",
    "        candidates.append(paperk)\n",
    "print(\"\"\"Arxiv has {0:,d} new papers today\"\"\".format(len(new_papers)))        \n",
    "print(\"\"\"          {0:,d} with possible author matches\"\"\".format(len(candidates)))"
   ]
  },
  {
   "cell_type": "markdown",
   "id": "3543b34a",
   "metadata": {
    "papermill": {
     "duration": 0.003057,
     "end_time": "2025-04-16T04:12:15.573332",
     "exception": false,
     "start_time": "2025-04-16T04:12:15.570275",
     "status": "completed"
    },
    "tags": []
   },
   "source": [
    "# Parse sources and generate relevant outputs\n",
    "\n",
    "From the candidates, we do the following steps:\n",
    "* get their tarball from ArXiv (and extract data)\n",
    "* find the main .tex file: find one with \\documentclass{...} (sometimes it's non trivial)\n",
    "* Check affiliations with :func:`validation`, which uses :func:`mpia.affiliation_verifications`\n",
    "* If passing the affiliations: we parse the .tex source\n",
    "   * inject sub-documents into the main (flatten the main document)\n",
    "   * parse structure, extract information (title, abstract, authors, figures...)\n",
    "   * handles `\\graphicspath` if provided\n",
    "* Generate the .md document."
   ]
  },
  {
   "cell_type": "code",
   "execution_count": 5,
   "id": "9576b79e",
   "metadata": {
    "execution": {
     "iopub.execute_input": "2025-04-16T04:12:15.580368Z",
     "iopub.status.busy": "2025-04-16T04:12:15.579984Z",
     "iopub.status.idle": "2025-04-16T04:15:16.162640Z",
     "shell.execute_reply": "2025-04-16T04:15:16.161793Z"
    },
    "papermill": {
     "duration": 180.587382,
     "end_time": "2025-04-16T04:15:16.163747",
     "exception": false,
     "start_time": "2025-04-16T04:12:15.576365",
     "status": "completed"
    },
    "scrolled": false,
    "tags": []
   },
   "outputs": [
    {
     "data": {
      "application/vnd.jupyter.widget-view+json": {
       "model_id": "3f9c76e566d548c7ba780d7a08b8429d",
       "version_major": 2,
       "version_minor": 0
      },
      "text/plain": [
       "  0%|          | 0/6 [00:00<?, ?it/s]"
      ]
     },
     "metadata": {},
     "output_type": "display_data"
    },
    {
     "name": "stdout",
     "output_type": "stream",
     "text": [
      "Retrieving document from  https://arxiv.org/e-print/2504.10599\n"
     ]
    },
    {
     "name": "stdout",
     "output_type": "stream",
     "text": [
      "extracting tarball to tmp_2504.10599..."
     ]
    },
    {
     "name": "stdout",
     "output_type": "stream",
     "text": [
      " done.\n",
      "Retrieving document from  https://arxiv.org/e-print/2504.10931\n"
     ]
    },
    {
     "name": "stderr",
     "output_type": "stream",
     "text": [
      "/tmp/ipykernel_3240/2822249172.py:52: LatexWarning: 2504.10931 did not run properly\n",
      "not a gzip file\n",
      "  warnings.warn(latex.LatexWarning(f\"{paper_id:s} did not run properly\\n\" +\n"
     ]
    },
    {
     "name": "stdout",
     "output_type": "stream",
     "text": [
      "Retrieving document from  https://arxiv.org/e-print/2504.11127\n"
     ]
    },
    {
     "name": "stdout",
     "output_type": "stream",
     "text": [
      "extracting tarball to tmp_2504.11127..."
     ]
    },
    {
     "name": "stdout",
     "output_type": "stream",
     "text": [
      " done.\n"
     ]
    },
    {
     "name": "stdout",
     "output_type": "stream",
     "text": [
      "Found 80 bibliographic references in tmp_2504.11127/pds70d.bbl.\n",
      "Issues with the citations\n",
      "syntax error in line 466: '=' expected\n",
      "Retrieving document from  https://arxiv.org/e-print/2504.11210\n"
     ]
    },
    {
     "name": "stdout",
     "output_type": "stream",
     "text": [
      "extracting tarball to tmp_2504.11210..."
     ]
    },
    {
     "name": "stdout",
     "output_type": "stream",
     "text": [
      " done.\n"
     ]
    },
    {
     "name": "stdout",
     "output_type": "stream",
     "text": [
      "D. Trevascus  ->  D. Trevascus  |  ['D. Trevascus']\n",
      "E. Matthews  ->  E. Matthews  |  ['E. Matthews']\n",
      "I. Hammond  ->  I. Hammond  |  ['I. Hammond']\n",
      "W. Brandner  ->  W. Brandner  |  ['W. Brandner']\n",
      "R. Burn  ->  R. Burn  |  ['R. Burn']\n",
      "G. Chauvin  ->  G. Chauvin  |  ['G. Chauvin']\n",
      "L. Kreidberg  ->  L. Kreidberg  |  ['L. Kreidberg']\n",
      "J. Sauter  ->  J. Sauter  |  ['J. Sauter']\n"
     ]
    },
    {
     "name": "stdout",
     "output_type": "stream",
     "text": [
      "Found 60 bibliographic references in tmp_2504.11210/aanda.bbl.\n",
      "Issues with the citations\n",
      "syntax error in line 5: unbalanced braces\n",
      "Retrieving document from  https://arxiv.org/e-print/2504.11424\n"
     ]
    },
    {
     "name": "stdout",
     "output_type": "stream",
     "text": [
      "extracting tarball to tmp_2504.11424..."
     ]
    },
    {
     "name": "stdout",
     "output_type": "stream",
     "text": [
      " done.\n"
     ]
    },
    {
     "name": "stdout",
     "output_type": "stream",
     "text": [
      "G. Perotti  ->  G. Perotti  |  ['G. Perotti']\n",
      "T. Henning  ->  T. Henning  |  ['T. Henning']\n",
      "K. Schwarz  ->  K. Schwarz  |  ['K. Schwarz']\n",
      "R. v. Boekel  ->  R. v. Boekel  |  ['R. v. Boekel']\n"
     ]
    },
    {
     "name": "stdout",
     "output_type": "stream",
     "text": [
      "Found 139 bibliographic references in tmp_2504.11424/sample631.bbl.\n",
      "Issues with the citations\n",
      "syntax error in line 450: '}' expected\n",
      "Retrieving document from  https://arxiv.org/e-print/2504.11425\n"
     ]
    },
    {
     "name": "stdout",
     "output_type": "stream",
     "text": [
      "extracting tarball to tmp_2504.11425..."
     ]
    },
    {
     "name": "stdout",
     "output_type": "stream",
     "text": [
      " done.\n"
     ]
    },
    {
     "name": "stdout",
     "output_type": "stream",
     "text": [
      "T. Henning  ->  T. Henning  |  ['T. Henning']\n",
      "G. Perotti  ->  G. Perotti  |  ['G. Perotti']\n",
      "K. Schwarz  ->  K. Schwarz  |  ['K. Schwarz']\n"
     ]
    },
    {
     "name": "stdout",
     "output_type": "stream",
     "text": [
      "Found 51 bibliographic references in tmp_2504.11425/sample631.bbl.\n",
      "Issues with the citations\n",
      "syntax error in line 25: '=' expected\n"
     ]
    }
   ],
   "source": [
    "documents = []\n",
    "failed = []\n",
    "for paper in tqdm(candidates):\n",
    "    # debug crap\n",
    "    paper['identifier'] = paper['identifier'].lower().replace('arxiv:', '').replace(r'\\n', '').strip()\n",
    "    paper_id = paper['identifier']\n",
    "    \n",
    "    folder = f'tmp_{paper_id}'\n",
    "\n",
    "    try:\n",
    "        if not os.path.isdir(folder):\n",
    "            folder = retrieve_document_source(f\"{paper_id}\", f'tmp_{paper_id}')\n",
    "        \n",
    "        try:\n",
    "            doc = latex.LatexDocument(folder, validation=validation)    \n",
    "        except AffiliationError as affilerror:\n",
    "            msg = f\"ArXiv:{paper_id:s} is not an MPIA paper... \" + str(affilerror)\n",
    "            failed.append((paper, \"affiliation error: \" + str(affilerror) ))\n",
    "            continue\n",
    "        \n",
    "        # Hack because sometimes author parsing does not work well\n",
    "        if (len(doc.authors) != len(paper['authors'])):\n",
    "            doc._authors = paper['authors']\n",
    "        else:\n",
    "            # highlight authors (FIXME: doc.highlight_authors)\n",
    "            # done on arxiv paper already\n",
    "            doc._authors = highlight_authors_in_list(\n",
    "                [get_initials(k) for k in doc.authors], \n",
    "                mpia_authors, verbose=True)\n",
    "        if (doc.abstract) in (None, ''):\n",
    "            doc._abstract = paper['abstract']\n",
    "            \n",
    "        doc.comment = (get_markdown_badge(paper_id) + \n",
    "                       \"<mark>Appeared on: \" + paper['date'] + \"</mark> - \")\n",
    "        if paper['comments']:\n",
    "            doc.comment += \" _\" + paper['comments'] + \"_\"\n",
    "        \n",
    "        full_md = doc.generate_markdown_text()\n",
    "        \n",
    "        full_md += get_markdown_qrcode(paper_id)\n",
    "        \n",
    "        # replace citations\n",
    "        try:\n",
    "            bibdata = latex_bib.LatexBib.from_doc(doc)\n",
    "            full_md = latex_bib.replace_citations(full_md, bibdata)\n",
    "        except Exception as e:\n",
    "            print(\"Issues with the citations\")\n",
    "            print(e)\n",
    "        \n",
    "        documents.append((paper_id, full_md))\n",
    "    except Exception as e:\n",
    "        warnings.warn(latex.LatexWarning(f\"{paper_id:s} did not run properly\\n\" +\n",
    "                                         str(e)\n",
    "                                        ))\n",
    "        failed.append((paper, \"latex error \" + str(e)))"
   ]
  },
  {
   "cell_type": "markdown",
   "id": "2505a25c",
   "metadata": {
    "papermill": {
     "duration": 0.004052,
     "end_time": "2025-04-16T04:15:16.172187",
     "exception": false,
     "start_time": "2025-04-16T04:15:16.168135",
     "status": "completed"
    },
    "tags": []
   },
   "source": [
    "### Export the logs\n",
    "\n",
    "Throughout, we also keep track of the logs per paper. see `logs-{today date}.md` "
   ]
  },
  {
   "cell_type": "code",
   "execution_count": 6,
   "id": "d733828a",
   "metadata": {
    "execution": {
     "iopub.execute_input": "2025-04-16T04:15:16.181606Z",
     "iopub.status.busy": "2025-04-16T04:15:16.181123Z",
     "iopub.status.idle": "2025-04-16T04:15:16.198658Z",
     "shell.execute_reply": "2025-04-16T04:15:16.198125Z"
    },
    "papermill": {
     "duration": 0.023277,
     "end_time": "2025-04-16T04:15:16.199566",
     "exception": false,
     "start_time": "2025-04-16T04:15:16.176289",
     "status": "completed"
    },
    "scrolled": false,
    "tags": []
   },
   "outputs": [
    {
     "data": {
      "text/markdown": [
       "## Successful papers"
      ],
      "text/plain": [
       "<IPython.core.display.Markdown object>"
      ]
     },
     "metadata": {},
     "output_type": "display_data"
    },
    {
     "data": {
      "text/markdown": [
       "\n",
       "|||\n",
       "|---:|:---|\n",
       "| [![arXiv](https://img.shields.io/badge/arXiv-2504.11127-b31b1b.svg)](https://arxiv.org/abs/2504.11127) | **Keplerian motion of a compact source orbiting the inner disk of PDS 70: A third protoplanet in a resonance with b and c?**  |\n",
       "|| <mark>I. Hammond</mark>, et al. -- incl., <mark>D. Trevascus</mark>, <mark>M. Samland</mark> |\n",
       "|*Appeared on*| *2025-04-16*|\n",
       "|*Comments*| *Accepted for publication in MNRAS, 15 pages. FITS files are available at: this https URL*|\n",
       "|**Abstract**|            The disk around PDS 70 hosts two directly imaged protoplanets in a gap. Previous VLT/SPHERE and recent James Webb Space Telescope/NIRCam observations have hinted at the presence of a third compact source in the same gap at ~13 au, interior to the orbit of PDS 70 b. We reduce seven published and one unpublished VLT/SPHERE datasets in YJH and K bands, as well as an archival VLT/NaCo dataset in L' band, and an archival VLT/SINFONI dataset in H+K band. We combine angular-, spectral- and reference star differential imaging to search for protoplanet candidates. We recover the compact source in all epochs, consistent with the JWST detection, moving on an arc that can be fit by Keplerian motion of a protoplanet which could be in a resonance with PDS 70 b & c. We find that the spectral slope is overall consistent with the unresolved star and inner disk emission at 0.95--1.65$\\mu$m, which suggests a dust scattering dominated spectrum. An excess beyond 2.3$\\mu$m could be thermal emission from either a protoplanet or heated circumplanetary dust, variability, or inner disk contamination, and requires confirmation. While we currently cannot rule out a moving inner disk feature or a dust clump associated with an unseen planet, the data supports the hypothesis of a third protoplanet in this remarkable system.         |"
      ],
      "text/plain": [
       "[2504.11127] Keplerian motion of a compact source orbiting the inner disk of PDS 70: A third protoplanet in a resonance with b and c?\n",
       "\t<mark>I. Hammond</mark>, et al. -- incl., <mark>D. Trevascus</mark>, <mark>M. Samland</mark>"
      ]
     },
     "metadata": {},
     "output_type": "display_data"
    },
    {
     "data": {
      "text/markdown": [
       "\n",
       "|||\n",
       "|---:|:---|\n",
       "| [![arXiv](https://img.shields.io/badge/arXiv-2504.11210-b31b1b.svg)](https://arxiv.org/abs/2504.11210) | **Differentiating Formation Models with New Dynamical Masses for the PDS 70 Protoplanets**  |\n",
       "|| <mark>D. Trevascus</mark>, et al. -- incl., <mark>E. Matthews</mark>, <mark>I. Hammond</mark>, <mark>W. Brandner</mark>, <mark>R. Burn</mark>, <mark>G. Chauvin</mark>, <mark>L. Kreidberg</mark>, <mark>J. Sauter</mark> |\n",
       "|*Appeared on*| *2025-04-16*|\n",
       "|*Comments*| **|\n",
       "|**Abstract**|            Hot- and cold-start planet formation models predict differing luminosities for the young, bright planets that direct imaging surveys are most sensitive to. However, precise mass estimates are required to distinguish between these models observationally. The presence of two directly imaged planets, PDS 70 b and c, in the PDS 70 protoplanetary disk provides us a unique opportunity for dynamical mass measurements, since the masses for these planets are currently poorly constrained. Fitting orbital parameters to new astrometry of these planets, taken with VLTI/GRAVITY in the $K$~band, we find $2\\sigma$ dynamical upper mass limits of 4.9 $M_{\\rm Jup}$ for b and 13.6 $M_{\\rm Jup}$ for c. Adding astrometry from the newly proposed planet candidate PDS 70 d into our model, we determine $2\\sigma$ dynamical upper mass limits of 5.3 $M_{\\rm Jup}$, 7.5 $M_{\\rm Jup}$ and 2.2 $M_{\\rm Jup}$ for b, c, and the candidate d respectively. However, $N$-body analysis of the orbits fit in this case suggest that the inclusion of $d$ makes the system unstable. Using the upper mass limits for b and c we rule out the coldest-start formation models for both planets, calculating minimum post-formation entropies ($S_i$) of 9.5 $k_{\\rm B}/{\\rm baryon}$ and 8.4 $k_{\\rm B}/{\\rm baryon}$ respectively. This places PDS 70 b and c on the growing list of directly-imaged planets inconsistent with cold-start formation.         |"
      ],
      "text/plain": [
       "[2504.11210] Differentiating Formation Models with New Dynamical Masses for the PDS 70 Protoplanets\n",
       "\t<mark>D. Trevascus</mark>, et al. -- incl., <mark>E. Matthews</mark>, <mark>I. Hammond</mark>, <mark>W. Brandner</mark>, <mark>R. Burn</mark>, <mark>G. Chauvin</mark>, <mark>L. Kreidberg</mark>, <mark>J. Sauter</mark>"
      ]
     },
     "metadata": {},
     "output_type": "display_data"
    },
    {
     "data": {
      "text/markdown": [
       "\n",
       "|||\n",
       "|---:|:---|\n",
       "| [![arXiv](https://img.shields.io/badge/arXiv-2504.11424-b31b1b.svg)](https://arxiv.org/abs/2504.11424) | **MINDS. Anatomy of a water-rich, inclined, brown dwarf disk: lack of abundant hydrocarbons**  |\n",
       "|| <mark>G. Perotti</mark>, et al. -- incl., <mark>T. Henning</mark>, <mark>K. Schwarz</mark>, <mark>R. v. Boekel</mark> |\n",
       "|*Appeared on*| *2025-04-16*|\n",
       "|*Comments*| *30 pages, 18 figures, resubmitted the first revision to ApJ*|\n",
       "|**Abstract**|            2MASS J04381486+2611399 (or J0438) is one of the few young brown dwarfs (BD) with a highly inclined ($i\\!\\sim\\!70^\\circ$) disk. Here we report results from JWST-MIRI MRS, HST-ACS and ALMA Band 7 observations. Despite its late spectral type (M7.25), the spectrum of J0438 resembles those of inner disks around earlier-type stars (K1-M5, T Tauri stars), with a volatile reservoir lacking hydrocarbons (except for acetylene, C$_2$H$_2$) and dominated by water. Other identified species are H$_2$, CO$_2$, HCN, [Ar$^{+}$], and [Ne$^{+}$]. The dominance of water over hydrocarbons is driven by multiple factors such as disk dynamics, young disk age, low accretion rate and possible inner disk clearing. J0438 appears highly dynamic, showing a seesaw-like variability and extended emission in H$_2 \\,\\,\\, S$(1), $S$(3), $S$(5), [Ne$^{+}$] and CO ($J=3-2$). Interestingly, the CO emission reaches up to 400 au from the brown dwarf, suggesting ongoing infalling/outflowing activity impacting the disk chemistry. These observations underscore the combined power of JWST, HST and ALMA in characterizing the chemical diversity and dynamics of brown dwarf disks.         |"
      ],
      "text/plain": [
       "[2504.11424] MINDS. Anatomy of a water-rich, inclined, brown dwarf disk: lack of abundant hydrocarbons\n",
       "\t<mark>G. Perotti</mark>, et al. -- incl., <mark>T. Henning</mark>, <mark>K. Schwarz</mark>, <mark>R. v. Boekel</mark>"
      ]
     },
     "metadata": {},
     "output_type": "display_data"
    },
    {
     "data": {
      "text/markdown": [
       "\n",
       "|||\n",
       "|---:|:---|\n",
       "| [![arXiv](https://img.shields.io/badge/arXiv-2504.11425-b31b1b.svg)](https://arxiv.org/abs/2504.11425) | **MINDS: The very low-mass star and brown dwarf sample -- Hidden water in carbon-dominated protoplanetary disks**  |\n",
       "|| A. M. Arabhavi, et al. -- incl., <mark>T. Henning</mark>, <mark>G. Perotti</mark>, <mark>K. Schwarz</mark> |\n",
       "|*Appeared on*| *2025-04-16*|\n",
       "|*Comments*| *Accepted for publication in Astrophysical Journal Letters, 21 pages, 24 figures*|\n",
       "|**Abstract**|            Infrared observations of the inner disks around very low-mass stars (VLMS, $<$0.3$\\,M_{\\odot}$) have revealed a carbon-rich gas composition in the terrestrial planet-forming regions. Contrary to the typically water-rich T Tauri disk spectra, only two disks around VLMS have been observed to be water-rich among more than ten VLMS disks observed so far with JWST/MIRI. In this letter, we systematically search for the presence of water and other oxygen-bearing molecules in the JWST/MIRI spectra of ten VLMS disks from the MIRI mid-INfrared Disk Survey (MINDS). In addition to the two previously reported detections of water emission in this VLMS sample, we detect water emission in the spectra of three other sources and tentatively in one source, and we provide strong evidence for water emission in the remaining disks in the MINDS sample, most of which have bright emission from carbon-bearing molecules. We show that the $\\rm C_2H_2$ emission is much stronger than that of water for sources with low luminosities, and the hydrocarbons outshine the water emission in such conditions. We propose that the appearance of water-rich vs. hydrocarbon-rich spectra is related to the location of the water reservoir in the disk relative to the main hydrocarbon reservoir. Our findings indicate that the terrestrial planet forming regions in VLMS disks have high carbon-to-oxygen ratios (C/O$>$1), but can still harbor ample water similar to those in the T Tauri disks.         |"
      ],
      "text/plain": [
       "[2504.11425] MINDS: The very low-mass star and brown dwarf sample -- Hidden water in carbon-dominated protoplanetary disks\n",
       "\tA. M. Arabhavi, et al. -- incl., <mark>T. Henning</mark>, <mark>G. Perotti</mark>, <mark>K. Schwarz</mark>"
      ]
     },
     "metadata": {},
     "output_type": "display_data"
    },
    {
     "data": {
      "text/markdown": [
       "## Failed papers"
      ],
      "text/plain": [
       "<IPython.core.display.Markdown object>"
      ]
     },
     "metadata": {},
     "output_type": "display_data"
    },
    {
     "data": {
      "text/markdown": [
       "\n",
       "|||\n",
       "|---:|:---|\n",
       "| [![arXiv](https://img.shields.io/badge/arXiv-2504.10599-b31b1b.svg)](https://arxiv.org/abs/2504.10599) | **Dust continuum radiation maps from MHD simulations of accretion-ejection systems around single and binary stars**  |\n",
       "|| S. Sheikhnezami, <mark>C. Fendt</mark>, S. Ataiee |\n",
       "|*Appeared on*| *2025-04-16*|\n",
       "|*Comments*| *27 pages,22 figures, Accepted for publication in Astrophysical Journal, comments are welcome*|\n",
       "|**Abstract**|            We study the launching of magnetized jets from a resistive circumstellar disk within a binary system, employing a unique combination of 3D MHD jet launching simulations (PLUTO code) and post-processed 3D radiative transfer modeling (RADMC-3D code). Our findings reveal a well-defined jet originating from the inner region of the disk, extending to a larger disk area. While the model attains steady states for a single star, a binary system leads to the emergence of tidal effects such as the formation of ``spiral arms'' in the disk and inside the jet. Here we have consistently implemented a time-dependent Roche potential for the gravity of the binary. As a major step forward, we further present the first 3D radiation maps of the dust continuum for the disk-jet structure. In principle, this allows us to compare MHD simulation results to observed disk-outflow features. We, therefore, present convolved images of the dust continuum emission, employing exemplary point spread functions of the MIRI instrument (5~$\\mu m$ band) and the ALMA array (320~$\\mu m$ band). In these bands, we identify distinguishable features of the disk-jet structure, such as \"spiral arms,\" which we have also seen in the MHD this http URL gas density increased by an order of magnitude, the disk become optically thick at 5~$\\mu m$, but remains bright at 320~$\\mu$m. At this wavelength, 320~$\\mu$m, enhanced structural features in the disk and the base of the wind become more pronounced and are well resolved in the convolved image.         |\n",
       "|<p style=\"color:green\"> **ERROR** </p>| <p style=\"color:green\">affiliation error: mpia.affiliation_verifications: '69117' keyword not found.</p> |"
      ],
      "text/plain": [
       "<IPython.core.display.Markdown object>"
      ]
     },
     "metadata": {},
     "output_type": "display_data"
    },
    {
     "data": {
      "text/markdown": [
       "\n",
       "|||\n",
       "|---:|:---|\n",
       "| [![arXiv](https://img.shields.io/badge/arXiv-2504.10931-b31b1b.svg)](https://arxiv.org/abs/2504.10931) | **A Highly Efficient Cross-matching Scheme using Learned Index Structure**  |\n",
       "|| P.-M. Lam, et al. -- incl., <mark>X. Zhang</mark>, <mark>Y. Wang</mark> |\n",
       "|*Appeared on*| *2025-04-16*|\n",
       "|*Comments*| **|\n",
       "|**Abstract**|            Spatial data fusion is a bottleneck when it meets the scale of 10 billion records. Cross-matching celestial catalogs is just one example of this. To challenge this, we present a framework that enables efficient cross-matching using Learned Index Structures. Our approach involves a data transformation method to map multi-dimensional data into easily learnable distributions, coupled with a novel search algorithm that leverages the advantages of model pairs, significantly enhancing the efficiency of nearest-neighbor search. In this study, we utilized celestial catalog data derived from astronomical surveys to construct the index and evaluated the speed of the cross-matching process. Using the HEALPix segmentation scheme, we built an independent model object for each tile and developed an end-to-end pipeline to construct a framework with semantic guarantees for record retrieval in query and range search. Our results show that the proposed method improves cross-matching speed by more than four times compared to KD-trees for a radius range between 1 milli-arcseconds and 100 arcseconds.         |\n",
       "|<p style=\"color:red\"> **ERROR** </p>| <p style=\"color:red\">latex error not a gzip file</p> |"
      ],
      "text/plain": [
       "<IPython.core.display.Markdown object>"
      ]
     },
     "metadata": {},
     "output_type": "display_data"
    }
   ],
   "source": [
    "import datetime\n",
    "today = str(datetime.date.today())\n",
    "logfile = f\"_build/html/logs/log-{today}.md\"\n",
    "\n",
    "\n",
    "with open(logfile, 'w') as logs:\n",
    "    # Success\n",
    "    logs.write(f'# Arxiv on Deck 2: Logs - {today}\\n\\n')\n",
    "    logs.write(\"\"\"* Arxiv had {0:,d} new papers\\n\"\"\".format(len(new_papers)))\n",
    "    logs.write(\"\"\"    * {0:,d} with possible author matches\\n\\n\"\"\".format(len(candidates)))\n",
    "    logs.write(\"## Sucessful papers\\n\\n\")\n",
    "    display(Markdown(\"## Successful papers\"))\n",
    "    success = [k[0] for k in documents]\n",
    "    for candid in candidates:\n",
    "        if candid['identifier'].split(':')[-1] in success:\n",
    "            display(candid)\n",
    "            logs.write(candid.generate_markdown_text() + '\\n\\n')\n",
    "\n",
    "    ## failed\n",
    "    logs.write(\"## Failed papers\\n\\n\")\n",
    "    display(Markdown(\"## Failed papers\"))\n",
    "    failed = sorted(failed, key=lambda x: x[1])\n",
    "    current_reason = \"\"\n",
    "    for paper, reason in failed:\n",
    "        if 'affiliation' in reason:\n",
    "            color = 'green'\n",
    "        else:\n",
    "            color = 'red'\n",
    "        data = Markdown(\n",
    "                paper.generate_markdown_text() + \n",
    "                f'\\n|<p style=\"color:{color:s}\"> **ERROR** </p>| <p style=\"color:{color:s}\">{reason:s}</p> |'\n",
    "               )\n",
    "        if reason != current_reason:\n",
    "            logs.write(f'### {reason:s} \\n\\n')\n",
    "            current_reason = reason\n",
    "        logs.write(data.data + '\\n\\n')\n",
    "        \n",
    "        # only display here the important errors (all in logs)\n",
    "        # if color in ('red',):\n",
    "        display(data)"
   ]
  },
  {
   "cell_type": "markdown",
   "id": "472d20ee",
   "metadata": {
    "papermill": {
     "duration": 0.004707,
     "end_time": "2025-04-16T04:15:16.209103",
     "exception": false,
     "start_time": "2025-04-16T04:15:16.204396",
     "status": "completed"
    },
    "tags": []
   },
   "source": [
    "## Export documents\n",
    "\n",
    "We now write the .md files and export relevant images"
   ]
  },
  {
   "cell_type": "code",
   "execution_count": 7,
   "id": "d426aed9",
   "metadata": {
    "execution": {
     "iopub.execute_input": "2025-04-16T04:15:16.219998Z",
     "iopub.status.busy": "2025-04-16T04:15:16.219636Z",
     "iopub.status.idle": "2025-04-16T04:15:16.226455Z",
     "shell.execute_reply": "2025-04-16T04:15:16.225816Z"
    },
    "papermill": {
     "duration": 0.013215,
     "end_time": "2025-04-16T04:15:16.227515",
     "exception": false,
     "start_time": "2025-04-16T04:15:16.214300",
     "status": "completed"
    },
    "tags": []
   },
   "outputs": [],
   "source": [
    "def export_markdown_summary(md: str, md_fname:str, directory: str):\n",
    "    \"\"\"Export MD document and associated relevant images\"\"\"\n",
    "    import os\n",
    "    import shutil\n",
    "    import re\n",
    "\n",
    "    if (os.path.exists(directory) and not os.path.isdir(directory)):\n",
    "        raise RuntimeError(f\"a non-directory file exists with name {directory:s}\")\n",
    "\n",
    "    if (not os.path.exists(directory)):\n",
    "        print(f\"creating directory {directory:s}\")\n",
    "        os.mkdir(directory)\n",
    "\n",
    "    fig_fnames = (re.compile(r'\\[Fig.*\\]\\((.*)\\)').findall(md) + \n",
    "                  re.compile(r'\\<img src=\"([^>\\s]*)\"[^>]*/>').findall(md))\n",
    "    print(\"found figures\", fig_fnames)\n",
    "    for fname in fig_fnames:\n",
    "        if 'http' in fname:\n",
    "            # No need to copy online figures\n",
    "            continue\n",
    "        if not os.path.exists(fname):\n",
    "            print(\"file not found\", fname)\n",
    "            continue\n",
    "        print(\"copying \", fname, \"to\", directory)\n",
    "        destdir = os.path.join(directory, os.path.dirname(fname))\n",
    "        destfname = os.path.join(destdir, os.path.basename(fname))\n",
    "        try:\n",
    "            os.makedirs(destdir)\n",
    "        except FileExistsError:\n",
    "            pass\n",
    "        shutil.copy(fname, destfname)\n",
    "    with open(os.path.join(directory, md_fname), 'w') as fout:\n",
    "        fout.write(md)\n",
    "    print(\"exported in \", os.path.join(directory, md_fname))\n",
    "    [print(\"    + \" + os.path.join(directory,fk)) for fk in fig_fnames]"
   ]
  },
  {
   "cell_type": "code",
   "execution_count": 8,
   "id": "014d04a4",
   "metadata": {
    "execution": {
     "iopub.execute_input": "2025-04-16T04:15:16.238006Z",
     "iopub.status.busy": "2025-04-16T04:15:16.237659Z",
     "iopub.status.idle": "2025-04-16T04:15:16.254086Z",
     "shell.execute_reply": "2025-04-16T04:15:16.253457Z"
    },
    "papermill": {
     "duration": 0.022741,
     "end_time": "2025-04-16T04:15:16.255090",
     "exception": false,
     "start_time": "2025-04-16T04:15:16.232349",
     "status": "completed"
    },
    "tags": []
   },
   "outputs": [
    {
     "name": "stdout",
     "output_type": "stream",
     "text": [
      "found figures ['tmp_2504.11127/./Figures/obs_big_4x3.png', 'tmp_2504.11127/./Figures/RDI_all_channels.png', 'tmp_2504.11127/./Figures/orbit_continuum_new.png']\n",
      "copying  tmp_2504.11127/./Figures/obs_big_4x3.png to _build/html/\n",
      "copying  tmp_2504.11127/./Figures/RDI_all_channels.png to _build/html/\n",
      "copying  tmp_2504.11127/./Figures/orbit_continuum_new.png to _build/html/\n",
      "exported in  _build/html/2504.11127.md\n",
      "    + _build/html/tmp_2504.11127/./Figures/obs_big_4x3.png\n",
      "    + _build/html/tmp_2504.11127/./Figures/RDI_all_channels.png\n",
      "    + _build/html/tmp_2504.11127/./Figures/orbit_continuum_new.png\n",
      "found figures ['tmp_2504.11210/./Entropy_bcd.png', 'tmp_2504.11210/./Entropy_bc.png', 'tmp_2504.11210/./Fig_SINFONI_PDS70c_NEGFC.png']\n",
      "copying  tmp_2504.11210/./Entropy_bcd.png to _build/html/\n",
      "copying  tmp_2504.11210/./Entropy_bc.png to _build/html/\n",
      "copying  tmp_2504.11210/./Fig_SINFONI_PDS70c_NEGFC.png to _build/html/\n",
      "exported in  _build/html/2504.11210.md\n",
      "    + _build/html/tmp_2504.11210/./Entropy_bcd.png\n",
      "    + _build/html/tmp_2504.11210/./Entropy_bc.png\n",
      "    + _build/html/tmp_2504.11210/./Fig_SINFONI_PDS70c_NEGFC.png\n",
      "found figures ['tmp_2504.11424/./J043814_BD_absorption.png', 'tmp_2504.11424/./J043814_mir_final.png', 'tmp_2504.11424/./J043814_nir_mir.png']\n",
      "copying  tmp_2504.11424/./J043814_BD_absorption.png to _build/html/\n",
      "copying  tmp_2504.11424/./J043814_mir_final.png to _build/html/\n",
      "copying  tmp_2504.11424/./J043814_nir_mir.png to _build/html/\n",
      "exported in  _build/html/2504.11424.md\n",
      "    + _build/html/tmp_2504.11424/./J043814_BD_absorption.png\n",
      "    + _build/html/tmp_2504.11424/./J043814_mir_final.png\n",
      "    + _build/html/tmp_2504.11424/./J043814_nir_mir.png\n",
      "found figures ['tmp_2504.11425/./HiddenH2O_PPVII_TWA27_1.0.3.png', 'tmp_2504.11425/./water_corr_coeff_1.0.3.png', 'tmp_2504.11425/./HiddenH2O_PPVII_TWA27_1.0.3_rovib.png']\n",
      "copying  tmp_2504.11425/./HiddenH2O_PPVII_TWA27_1.0.3.png to _build/html/\n",
      "copying  tmp_2504.11425/./water_corr_coeff_1.0.3.png to _build/html/\n",
      "copying  tmp_2504.11425/./HiddenH2O_PPVII_TWA27_1.0.3_rovib.png to _build/html/\n",
      "exported in  _build/html/2504.11425.md\n",
      "    + _build/html/tmp_2504.11425/./HiddenH2O_PPVII_TWA27_1.0.3.png\n",
      "    + _build/html/tmp_2504.11425/./water_corr_coeff_1.0.3.png\n",
      "    + _build/html/tmp_2504.11425/./HiddenH2O_PPVII_TWA27_1.0.3_rovib.png\n"
     ]
    }
   ],
   "source": [
    "for paper_id, md in documents:\n",
    "    export_markdown_summary(md, f\"{paper_id:s}.md\", '_build/html/')"
   ]
  },
  {
   "cell_type": "markdown",
   "id": "f087a0a7",
   "metadata": {
    "papermill": {
     "duration": 0.004891,
     "end_time": "2025-04-16T04:15:16.265134",
     "exception": false,
     "start_time": "2025-04-16T04:15:16.260243",
     "status": "completed"
    },
    "tags": []
   },
   "source": [
    "## Display the papers\n",
    "\n",
    "Not necessary but allows for a quick check."
   ]
  },
  {
   "cell_type": "code",
   "execution_count": 9,
   "id": "fd25f625",
   "metadata": {
    "execution": {
     "iopub.execute_input": "2025-04-16T04:15:16.276198Z",
     "iopub.status.busy": "2025-04-16T04:15:16.275809Z",
     "iopub.status.idle": "2025-04-16T04:15:16.283611Z",
     "shell.execute_reply": "2025-04-16T04:15:16.282982Z"
    },
    "papermill": {
     "duration": 0.014458,
     "end_time": "2025-04-16T04:15:16.284677",
     "exception": false,
     "start_time": "2025-04-16T04:15:16.270219",
     "status": "completed"
    },
    "scrolled": false,
    "tags": []
   },
   "outputs": [
    {
     "data": {
      "text/markdown": [
       "<div class=\"macros\" style=\"visibility:hidden;\">\n",
       "$\\newcommand{\\ensuremath}{}$\n",
       "$\\newcommand{\\xspace}{}$\n",
       "$\\newcommand{\\object}[1]{\\texttt{#1}}$\n",
       "$\\newcommand{\\farcs}{{.}''}$\n",
       "$\\newcommand{\\farcm}{{.}'}$\n",
       "$\\newcommand{\\arcsec}{''}$\n",
       "$\\newcommand{\\arcmin}{'}$\n",
       "$\\newcommand{\\ion}[2]{#1#2}$\n",
       "$\\newcommand{\\textsc}[1]{\\textrm{#1}}$\n",
       "$\\newcommand{\\hl}[1]{\\textrm{#1}}$\n",
       "$\\newcommand{\\footnote}[1]{}$\n",
       "$\\newcommand{\\cp}[1]{\\textcolor{red}{\\textbf{CP:} #1}}$\n",
       "$\\newcommand{\\vc}[1]{\\textcolor{green}{\\textbf{VC:} #1}}$\n",
       "$\\newcommand{\\djp}[1]{\\textcolor{magenta}{\\textbf{DP:} #1}}$\n",
       "$\\newcommand{\\ih}[1]{\\textcolor{cyan}{\\textbf{IH:} #1}}$\n",
       "$\\newcommand{\\mum}{\\ensuremath{\\upmu\\mathrm{m}}\\xspace}$</div>\n",
       "\n",
       "\n",
       "\n",
       "<div id=\"title\">\n",
       "\n",
       "# Keplerian motion of a compact source orbiting the inner disk of PDS 70: A third protoplanet in a resonance with b and c?\n",
       "\n",
       "</div>\n",
       "<div id=\"comments\">\n",
       "\n",
       "[![arXiv](https://img.shields.io/badge/arXiv-2504.11127-b31b1b.svg)](https://arxiv.org/abs/2504.11127)<mark>Appeared on: 2025-04-16</mark> -  _Accepted for publication in MNRAS, 15 pages. FITS files are available at: this https URL_\n",
       "\n",
       "</div>\n",
       "<div id=\"authors\">\n",
       "\n",
       "<mark>I. Hammond</mark>, et al. -- incl., <mark>D. Trevascus</mark>, <mark>M. Samland</mark>\n",
       "\n",
       "</div>\n",
       "<div id=\"abstract\">\n",
       "\n",
       "**Abstract:** The disk around PDS 70 hosts two directly imaged protoplanets in a gap. Previous VLT/SPHERE and recent _James Webb Space Telescope_ /NIRCam observations have hinted at the presence of a third compact source in the same gap at $\\sim$ 13 au, interior to the orbit of PDS 70 b.We reduce seven published and one unpublished VLT/SPHERE datasets in _YJH_ and _K_ bands, as well as an archival VLT/NaCo dataset in _L'_ band, and an archival VLT/SINFONI dataset in _H+K_ band. We combine angular-, spectral- and reference star differential imaging to search for protoplanet candidates.We recover the compact source in all epochs, consistent with the JWST detection, moving on an arc that can be fit by Keplerian motion of a protoplanet which could be in a resonance with PDS 70 b \\& c. We find that the spectral slope is overall consistent with the unresolved star and inner disk emission at 0.95--1.65 $\\mum$ , which suggests a dust scattering dominated spectrum. An excess beyond 2.3 $\\mum$ could be thermal emission from either a protoplanet or heated circumplanetary dust, variability, or inner disk contamination, and requires confirmation. While we currently cannot rule out a moving inner disk feature or a dust clump associated with an unseen planet, the data supports the hypothesis of a third protoplanet in this remarkable system.\n",
       "\n",
       "</div>\n",
       "\n",
       "<div id=\"div_fig1\">\n",
       "\n",
       "<img src=\"tmp_2504.11127/./Figures/obs_big_4x3.png\" alt=\"Fig5\" width=\"100%\"/>\n",
       "\n",
       "**Figure 5. -** Nine years of high-contrast imaging data of PDS 70. All images are cropped to a 1$\\farcs$2 $\\times$ 1$\\farcs$2 field of view centred on the star and in chronological order (left to right, top to bottom). The semi-transparent mask over A is 160 mas wide, roughly the inner working angle of the SPHERE coronagraph (SINFONI, NaCo and NIRCam are non-coronagraphic). The PSF-subtraction strategy is indicated in the top-left corner of the frame. The disk, b and candidate d are detected in all frames, whereas c is clearest at $\\lambda>2 $\\mum$$. North is up, East is to the left. Figure made using casa cube(\\url{https://github.com/cpinte/casa_cube}).\n",
       "     (*fig:observations*)\n",
       "\n",
       "</div>\n",
       "<div id=\"div_fig2\">\n",
       "\n",
       "<img src=\"tmp_2504.11127/./Figures/RDI_all_channels.png\" alt=\"Fig9\" width=\"100%\"/>\n",
       "\n",
       "**Figure 9. -** Iterative PCA-RDI for the 2022 Feb 28 epoch in Fig. \\ref{fig:observations} truncated to seven principal components and obtained with three iterations, for each individual spectral channel. For all frames, the PSF of the reference star UCAC2 14412811 observed during the sequence has been subtracted. Candidate d is visible in all channels that are not contaminated by telluric absorption, whereas PDS 70 b is conspicuous at longer wavelengths (i.e., _H_-band). The grey patch represents the FWHM of the non-coronagraphic PSF and is unique for each channel. No numerical mask has been used to represent the location of the coronagraphic mask. Pixel intensities are on a linear scale with an intensity cut from the 0–99.5 percentiles of the entire cube. Figure made using hciplot(\\url{https://github.com/carlos-gg/hciplot}). (*fig:all_channels*)\n",
       "\n",
       "</div>\n",
       "<div id=\"div_fig3\">\n",
       "\n",
       "<img src=\"tmp_2504.11127/./Figures/orbit_continuum_new.png\" alt=\"Fig6\" width=\"100%\"/>\n",
       "\n",
       "**Figure 6. -** Overview of the PDS 70 system, including 1000 random samples from the orbital posteriors of planets b (blue curves), c (yellow), and candidate d (green). The priors and median posterior for each orbital element retrieved with Octofitter are summarized in Table \\ref{tab:priors}. A shift in declination of $-0$\\farcs$02$ was applied to the continuum emission (colourscale) to enforce the c\\textsubscript{smm} blob to overlap with near-IR astrometry of the same epoch. The grey beam of 44 $\\times$ 37 mas with $\\mathrm{PA} = 51\\fdg5$ in the bottom-left is for the continuum emission originally presented in \\citet{Benisty:2021uj}. (*fig:three_body_problem*)\n",
       "\n",
       "</div><div id=\"qrcode\"><img src=https://api.qrserver.com/v1/create-qr-code/?size=100x100&data=\"https://arxiv.org/abs/2504.11127\"></div>"
      ],
      "text/plain": [
       "<IPython.core.display.Markdown object>"
      ]
     },
     "metadata": {},
     "output_type": "display_data"
    },
    {
     "data": {
      "text/markdown": [
       "<div class=\"macros\" style=\"visibility:hidden;\">\n",
       "$\\newcommand{\\ensuremath}{}$\n",
       "$\\newcommand{\\xspace}{}$\n",
       "$\\newcommand{\\object}[1]{\\texttt{#1}}$\n",
       "$\\newcommand{\\farcs}{{.}''}$\n",
       "$\\newcommand{\\farcm}{{.}'}$\n",
       "$\\newcommand{\\arcsec}{''}$\n",
       "$\\newcommand{\\arcmin}{'}$\n",
       "$\\newcommand{\\ion}[2]{#1#2}$\n",
       "$\\newcommand{\\textsc}[1]{\\textrm{#1}}$\n",
       "$\\newcommand{\\hl}[1]{\\textrm{#1}}$\n",
       "$\\newcommand{\\footnote}[1]{}$\n",
       "$\\newcommand{\\Mp}{\\ensuremath{M_{\\mathrm{p}}}\\xspace}$\n",
       "$\\newcommand{\\Sunits}{\\ensuremath{k_{\\mathrm{B}}/\\mathrm{baryon}}\\xspace}$\n",
       "$\\newcommand{\\mum}{\\ensuremath{\\upmu}m\\xspace}$\n",
       "$\\newcommand{\\mas}{\\ensuremath{\\upmu}as\\xspace}$\n",
       "$\\newcommand{\\arraystretch}{1.4}$\n",
       "$\\newcommand{\\arraystretch}{1.1}$</div>\n",
       "\n",
       "\n",
       "\n",
       "<div id=\"title\">\n",
       "\n",
       "# Differentiating Formation Models with New Dynamical Masses for the PDS 70 Protoplanets\n",
       "\n",
       "</div>\n",
       "<div id=\"comments\">\n",
       "\n",
       "[![arXiv](https://img.shields.io/badge/arXiv-2504.11210-b31b1b.svg)](https://arxiv.org/abs/2504.11210)<mark>Appeared on: 2025-04-16</mark> - \n",
       "\n",
       "</div>\n",
       "<div id=\"authors\">\n",
       "\n",
       "<mark>D. Trevascus</mark>, et al. -- incl., <mark>E. Matthews</mark>, <mark>I. Hammond</mark>, <mark>W. Brandner</mark>, <mark>R. Burn</mark>, <mark>G. Chauvin</mark>, <mark>L. Kreidberg</mark>, <mark>J. Sauter</mark>\n",
       "\n",
       "</div>\n",
       "<div id=\"abstract\">\n",
       "\n",
       "**Abstract:** Hot- and cold-start planet formation models predict differing luminosities for the young, bright planets that direct imaging surveys are most sensitive to. However, precise mass estimates are required to distinguish between these models observationally. The presence of two directly imaged planets, PDS 70 _b_ and _c_ , in the PDS 70 protoplanetary disk provides us a unique opportunity for dynamical mass measurements, since the masses for these planets are currently poorly constrained. Fitting orbital parameters to new astrometry of these planets, taken with VLTI/GRAVITY in the $K$ band, we find $2\\sigma$ dynamical upper mass limits of 4.9 $M_{\\rm Jup}$ for _b_ and 13.6 $M_{\\rm Jup}$ for _c_ . Adding astrometry from the newly proposed planet candidate PDS 70 _d_ into our model, we determine $2\\sigma$ dynamical upper mass limits of 5.3 $M_{\\rm Jup}$ , 7.5 $M_{\\rm Jup}$ and 2.2 $M_{\\rm Jup}$ for _b_ , _c_ , and the candidate _d_ respectively. However, $N$ -body analysis of the orbits fit in this case suggest that the inclusion of $d$ makes the system unstable. Using the upper mass limits for _b_ and _c_ we rule out the coldest-start formation models for both planets, calculating minimum post-formation entropies ( $S_i$ ) of 9.5 $\\Sunits$ and 8.4 $\\Sunits$ respectively. This places PDS 70 _b_ and _c_ on the growing list of directly-imaged planets inconsistent with cold-start formation.\n",
       "\n",
       "</div>\n",
       "\n",
       "<div id=\"div_fig1\">\n",
       "\n",
       "<img src=\"tmp_2504.11210/./Entropy_bcd.png\" alt=\"Fig7\" width=\"100%\"/>\n",
       "\n",
       "**Figure 7. -** Same as Figure \\ref{fig:evo_comp_3body}, but with upper mass limits taken from the three-planet orbital parameter fit. (*fig:evo_comp_3body*)\n",
       "\n",
       "</div>\n",
       "<div id=\"div_fig2\">\n",
       "\n",
       "<img src=\"tmp_2504.11210/./Entropy_bc.png\" alt=\"Fig6\" width=\"100%\"/>\n",
       "\n",
       "**Figure 6. -** Comparison of the upper mass limits for PDS 70 _b_ and PDS 70 _c_ from the two-planet orbital parameter fit to cold-, warm-, and hot-start evolutionary models from \\citet{Spiegel_2012}. The mass-luminosity curves for the different models, taken at the PDS 70 system age of 5.4 Myr are shown in the left panel, with their corresponding post-formation entropies given in the legend. The ribbon around each curve corresponds to the uncertainty in age of PDS 70. The blue and red boxes in the left panel show the possible masses and luminosities for _b_ and _c_ respectively, with luminosities taken from \\citet{Wang_2020}. The upper right panel shows the luminosity-$S_i$ curve at the upper mass limit for _b_. The blue shaded area in this panel, bounded by the dashed and dashed-dotted lines shows the possible range of $S_i$ for _b_ from this orbital parameter fit. The lower right panel is the same as upper right panel, but for _c_. (*fig:evo_comp_2body*)\n",
       "\n",
       "</div>\n",
       "<div id=\"div_fig3\">\n",
       "\n",
       "<img src=\"tmp_2504.11210/./Fig_SINFONI_PDS70c_NEGFC.png\" alt=\"Fig1\" width=\"100%\"/>\n",
       "\n",
       "**Figure 1. -** Final image obtained from our new reduction of the 2014-05-10 SINFONI data, before (a) and after (b) subtracting the estimated contribution of planet _c_ as explained in Sec. \\ref{sec:SINFONI}. (*fig:c_in_SINFONI*)\n",
       "\n",
       "</div><div id=\"qrcode\"><img src=https://api.qrserver.com/v1/create-qr-code/?size=100x100&data=\"https://arxiv.org/abs/2504.11210\"></div>"
      ],
      "text/plain": [
       "<IPython.core.display.Markdown object>"
      ]
     },
     "metadata": {},
     "output_type": "display_data"
    },
    {
     "data": {
      "text/markdown": [
       "<div class=\"macros\" style=\"visibility:hidden;\">\n",
       "$\\newcommand{\\ensuremath}{}$\n",
       "$\\newcommand{\\xspace}{}$\n",
       "$\\newcommand{\\object}[1]{\\texttt{#1}}$\n",
       "$\\newcommand{\\farcs}{{.}''}$\n",
       "$\\newcommand{\\farcm}{{.}'}$\n",
       "$\\newcommand{\\arcsec}{''}$\n",
       "$\\newcommand{\\arcmin}{'}$\n",
       "$\\newcommand{\\ion}[2]{#1#2}$\n",
       "$\\newcommand{\\textsc}[1]{\\textrm{#1}}$\n",
       "$\\newcommand{\\hl}[1]{\\textrm{#1}}$\n",
       "$\\newcommand{\\footnote}[1]{}$\n",
       "$\\newcommand{\\vdag}{(v)^\\dagger}$\n",
       "$\\newcommand$\n",
       "$\\newcommand$\n",
       "$\\newcommand{\\angstrom}{\\text{\\normalfontÅ}}$\n",
       "$\\newcommand{\\change}[1]{#1}$\n",
       "$\\newcommand{\\arraystretch}{1.1}$\n",
       "$\\newcommand{\\arraystretch}{1.1}$</div>\n",
       "\n",
       "\n",
       "\n",
       "<div id=\"title\">\n",
       "\n",
       "# MINDS. Anatomy of a water-rich, inclined, brown dwarf disk: lack of abundant hydrocarbons\n",
       "\n",
       "</div>\n",
       "<div id=\"comments\">\n",
       "\n",
       "[![arXiv](https://img.shields.io/badge/arXiv-2504.11424-b31b1b.svg)](https://arxiv.org/abs/2504.11424)<mark>Appeared on: 2025-04-16</mark> -  _30 pages, 18 figures, resubmitted the first revision to ApJ_\n",
       "\n",
       "</div>\n",
       "<div id=\"authors\">\n",
       "\n",
       "<mark>G. Perotti</mark>, et al. -- incl., <mark>T. Henning</mark>, <mark>K. Schwarz</mark>, <mark>R. v. Boekel</mark>\n",
       "\n",
       "</div>\n",
       "<div id=\"abstract\">\n",
       "\n",
       "**Abstract:** $\\change{2MASS J04381486+2611399 (or J0438) is one of the few young brown dwarfs (BD) with a highly inclined ($i\\!\\sim\\!70^\\circ$) disk. Here we report results from JWST-MIRI MRS, HST-ACS and ALMA Band 7 observations. Despite its late spectral type (M7.25), the spectrum of J0438 resembles those of inner disks around earlier-type stars (K1–M5, T Tauri stars), with a volatile reservoir lacking hydrocarbons (except for acetylene, $C_2$$H_2$) and dominated by water. Other identified species are $H_2$, $CO_2$, HCN, [Ar$^{+}$], and [Ne$^{+}$]. The dominance of water over hydrocarbons is driven by multiple factors such as disk dynamics, young disk age, low accretion rate and possible inner disk clearing. J0438 appears highly dynamic, showing a seesaw-like variability and extended emission in $H_2     S$(1), $S$(3), $S$(5), [Ne$^{+}$] and CO ($J=3-2$). Interestingly, the CO  emission reaches up to 400 au from the brown dwarf, suggesting ongoing infalling/outflowing activity impacting the disk chemistry. These observations underscore the combined power of JWST, HST and ALMA in characterizing the chemical diversity and dynamics of brown dwarf disks.}$\n",
       "\n",
       "</div>\n",
       "\n",
       "<div id=\"div_fig1\">\n",
       "\n",
       "<img src=\"tmp_2504.11424/./J043814_BD_absorption.png\" alt=\"Fig4\" width=\"100%\"/>\n",
       "\n",
       "**Figure 4. -** **Absorption bands from the photosphere of the brown dwarf**. Comparison between the JWST-MIRI MRS spectrum of J0438 (black) and the PHOENIX model atmosphere spectrum (gold; \\citealt{Husser2013}) described in Section \\ref{app:stellar_contamination}. For illustration purposes, slab models highlighting the absorption bands of $H_2$O (light blue) and CO (light red) are also shown. (*fig:BD_absorption*)\n",
       "\n",
       "</div>\n",
       "<div id=\"div_fig2\">\n",
       "\n",
       "<img src=\"tmp_2504.11424/./J043814_mir_final.png\" alt=\"Fig12\" width=\"100%\"/>\n",
       "\n",
       "**Figure 12. -** **JWST-MIRI MRS spectrum of the young J0438 disk (black).** The spectrum is dominated by amorphous silicate absorption and emission bands typical of a highly inclined disk configuration. A very weak $CO_2$ ice absorption feature is tentatively detected (see Appendix \\ref{app:cont_sub}, Fig. \\ref{fig:co2_ice}) along with inner disk gas reservoir (Table \\ref{tab:fluxes}) composed by molecular hydrogen ($H_2$), water ($H_2$O), carbon dioxide ($CO_2$), hydrogen cyanide (HCN), acetylene ($C_2$$H_2$) and the singly ionized cations of argon and neon ([Ar$^{+}$], [Ne$^{+}]$; for zoom-ins see Appendices \\ref{app:stellar_contamination} and \\ref{app:variability}). The comparison between the JWST-MIRI and the _Spitzer_-IRS low- (SL, LL) and high- (SH) resolution spectra reveal continuum and line variability (grey and teal). The _Spitzer_-IRS spectra were taken from CASSIS \\citep{Lebouteiller2011,Lebouteiller2015} and \\citet{Pascucci2013}. (*fig:full_spectra*)\n",
       "\n",
       "</div>\n",
       "<div id=\"div_fig3\">\n",
       "\n",
       "<img src=\"tmp_2504.11424/./J043814_nir_mir.png\" alt=\"Fig3\" width=\"100%\"/>\n",
       "\n",
       "**Figure 3. -** **Near- and mid-IR spectra of the young brown dwarf J0438.** Near-infrared IRTF (light blue; \\citealt{Luhman2007}), _Spitzer_-IRAC photometry (blue points), _Spitzer_-IRS SL, LL (grey; PID: 40302; PI: J. R. Houck), _Spitzer_-IRS SH (teal; \\citealt{Pascucci2013}) and JWST-MIRI MRS (dark blue; this work). The inset shows a zoom-in of the IRTF data. The prominent $H_2$O, CO and amorphous silicate absorption bands are labelled. (*fig:nir_mir*)\n",
       "\n",
       "</div><div id=\"qrcode\"><img src=https://api.qrserver.com/v1/create-qr-code/?size=100x100&data=\"https://arxiv.org/abs/2504.11424\"></div>"
      ],
      "text/plain": [
       "<IPython.core.display.Markdown object>"
      ]
     },
     "metadata": {},
     "output_type": "display_data"
    },
    {
     "data": {
      "text/markdown": [
       "<div class=\"macros\" style=\"visibility:hidden;\">\n",
       "$\\newcommand{\\ensuremath}{}$\n",
       "$\\newcommand{\\xspace}{}$\n",
       "$\\newcommand{\\object}[1]{\\texttt{#1}}$\n",
       "$\\newcommand{\\farcs}{{.}''}$\n",
       "$\\newcommand{\\farcm}{{.}'}$\n",
       "$\\newcommand{\\arcsec}{''}$\n",
       "$\\newcommand{\\arcmin}{'}$\n",
       "$\\newcommand{\\ion}[2]{#1#2}$\n",
       "$\\newcommand{\\textsc}[1]{\\textrm{#1}}$\n",
       "$\\newcommand{\\hl}[1]{\\textrm{#1}}$\n",
       "$\\newcommand{\\footnote}[1]{}$\n",
       "$\\newcommand{\\vdag}{(v)^\\dagger}$\n",
       "$\\newcommand$\n",
       "$\\newcommand$\n",
       "$\\newcommand{\\ch}[1]{{\\rm #1}}$\n",
       "$\\newcommand{\\ama}[1]{\\textcolor{red}{\\rm #1^{(\\rm AMA)}}}$\n",
       "$\\newcommand{\\ik}[1]{\\textcolor{purple}{\\rm #1^{(\\rm IK)}}}$\n",
       "$\\newcommand{\\ikc}[1]{\\textcolor{purple}{IK: \\rm #1}}$\n",
       "$\\newcommand{\\hl}[1]{{#1}}$\n",
       "$\\newcommand{\\hll}[1]{{#1}}$\n",
       "$\\newcommand{\\mybox}[2][1.1ex]{\\raisebox{#1}{\\myboxi{#2}}}$\n",
       "$\\newcommand{\\myboxx}[2][1.1ex]{\\raisebox{#1}{\\myboxxi{#2}}}$\n",
       "$\\newcommand{\\myboxxx}[2][1.1ex]{\\raisebox{#1}{\\myboxxxi{#2}}}$</div>\n",
       "\n",
       "\n",
       "\n",
       "<div id=\"title\">\n",
       "\n",
       "# MINDS: The very low-mass star and brown dwarf sample \\ Hidden water in carbon-dominated protoplanetary disks\n",
       "\n",
       "</div>\n",
       "<div id=\"comments\">\n",
       "\n",
       "[![arXiv](https://img.shields.io/badge/arXiv-2504.11425-b31b1b.svg)](https://arxiv.org/abs/2504.11425)<mark>Appeared on: 2025-04-16</mark> -  _Accepted for publication in Astrophysical Journal Letters, 21 pages, 24 figures_\n",
       "\n",
       "</div>\n",
       "<div id=\"authors\">\n",
       "\n",
       "A. M. Arabhavi, et al. -- incl., <mark>T. Henning</mark>, <mark>G. Perotti</mark>, <mark>K. Schwarz</mark>\n",
       "\n",
       "</div>\n",
       "<div id=\"abstract\">\n",
       "\n",
       "**Abstract:** Infrared observations of the inner disks around very low-mass stars (VLMS, $<$ 0.3 $ M_{\\odot}$ ) have revealed a carbon-rich gas composition in the terrestrial planet-forming regions. Contrary to the typically water-rich T Tauri disk spectra, only two disks around VLMS have been observed to be water-rich among more than ten VLMS disks observed so far with JWST/MIRI. In this letter, we systematically search for the presence of water and other oxygen-bearing molecules in the JWST/MIRI spectra of ten VLMS disks from the MIRI mid-INfrared Disk Survey (MINDS). In addition to the two previously reported detections of water emission in this VLMS sample, we detect water emission in the spectra of three other sources and tentatively in one source, and we provide strong evidence for water emission in the remaining disks in the MINDS sample, most of which have bright emission from carbon-bearing molecules. We show that the $\\ch{C_2H_2}$ emission is much stronger than that of water for sources with low luminosities, and the hydrocarbons outshine the water emission in such conditions. $\\hl{We propose that the appearance of}$ water-rich vs. hydrocarbon-rich spectra is related to the location of the water reservoir in the disk relative to the main hydrocarbon reservoir. Our findings indicate that the terrestrial planet forming regions in VLMS disks $\\hl{have high carbon-to-oxygen ratios}$ (C/O $>$ 1), but can still harbor ample water similar to those in the T Tauri disks.\n",
       "\n",
       "</div>\n",
       "\n",
       "<div id=\"div_fig1\">\n",
       "\n",
       "<img src=\"tmp_2504.11425/./HiddenH2O_PPVII_TWA27_1.0.3.png\" alt=\"Fig22\" width=\"100%\"/>\n",
       "\n",
       "**Figure 22. -** Detections and non-detections of pure rotational line emission of water. The continuum subtracted spectra are shown in black and the water slab models in blue. The slab model parameters are arbitrarily chosen for a visual match with the observed spectra. The temperature and column densities of the models are the same across all the panels, while the emitting area is scaled to match the flux level. The vertical gray area in each panel shows the wavelength region used to calculate the noise level. The light gray shaded region across the spectra shows the $\\pm$3$\\sigma$ noise level obtained in this way. The identified water line transitions are indicated at the top of the figure as $J_{K_a K_c}-J'_{K_{a}' K_{c}'}$, where $J$, $K_a$, $K_c$ are the total angular momentum quantum number, and the projections of the angular momentum on the principal axes. (*fig:hiddenwater*)\n",
       "\n",
       "</div>\n",
       "<div id=\"div_fig2\">\n",
       "\n",
       "<img src=\"tmp_2504.11425/./water_corr_coeff_1.0.3.png\" alt=\"Fig24\" width=\"100%\"/>\n",
       "\n",
       "**Figure 24. -** Cross-correlations of observed VLMS spectra with water slab models between 16.65 and 17.65 $\\mu$m for different column densities ($N$) and temperatures ($T$). The correlation coefficient varies from -1 (anti-correlation, in red) to +1 (correlation, in blue). The contours of correlation coefficients at 0.25, 0.5, and 0.75 are shown with dark gray lines. The parameter space where the statistical significance is low (i.e., the p-value is larger than 0.03) is hatched. The orange cross indicates the best correlation coefficient for each source. (*fig:water_corr*)\n",
       "\n",
       "</div>\n",
       "<div id=\"div_fig3\">\n",
       "\n",
       "<img src=\"tmp_2504.11425/./HiddenH2O_PPVII_TWA27_1.0.3_rovib.png\" alt=\"Fig21\" width=\"100%\"/>\n",
       "\n",
       "**Figure 21. -** Detections of ro-vibrational bands of water emission in J1605 (top), NC1 (middle), and J1558 (bottom). The continuum subtracted spectra are shown in black and the LTE water slab models are shown in blue. The slab model parameters (temperature, column density, and emitting radius) are chosen to roughly match the observed spectra and are not obtained from fits: 525 K, 10$^{20}$ cm$^{-2}$, 0.02 au for J1605; 525 K, 10$^{19}$ cm$^{-2}$, 0.02 au for NC1; 525 K, 10$^{18.33}$ cm$^{-2}$, 0.03 au for J1558. $\\hl${The red dots show the detected water lines in the least contaminated window.} (*fig:hiddenwater_rovib*)\n",
       "\n",
       "</div><div id=\"qrcode\"><img src=https://api.qrserver.com/v1/create-qr-code/?size=100x100&data=\"https://arxiv.org/abs/2504.11425\"></div>"
      ],
      "text/plain": [
       "<IPython.core.display.Markdown object>"
      ]
     },
     "metadata": {},
     "output_type": "display_data"
    }
   ],
   "source": [
    "[display(Markdown(k[1])) for k in documents];"
   ]
  },
  {
   "cell_type": "markdown",
   "id": "873873a4",
   "metadata": {
    "papermill": {
     "duration": 0.00549,
     "end_time": "2025-04-16T04:15:16.295933",
     "exception": false,
     "start_time": "2025-04-16T04:15:16.290443",
     "status": "completed"
    },
    "tags": []
   },
   "source": [
    "# Create HTML index"
   ]
  },
  {
   "cell_type": "code",
   "execution_count": 10,
   "id": "cf665672",
   "metadata": {
    "execution": {
     "iopub.execute_input": "2025-04-16T04:15:16.308103Z",
     "iopub.status.busy": "2025-04-16T04:15:16.307669Z",
     "iopub.status.idle": "2025-04-16T04:15:16.317499Z",
     "shell.execute_reply": "2025-04-16T04:15:16.316868Z"
    },
    "papermill": {
     "duration": 0.016905,
     "end_time": "2025-04-16T04:15:16.318488",
     "exception": false,
     "start_time": "2025-04-16T04:15:16.301583",
     "status": "completed"
    },
    "tags": []
   },
   "outputs": [
    {
     "name": "stdout",
     "output_type": "stream",
     "text": [
      "443  publications files modified in the last 7 days.\n"
     ]
    }
   ],
   "source": [
    "from datetime import datetime, timedelta, timezone\n",
    "from glob import glob\n",
    "import os\n",
    "\n",
    "files = glob('_build/html/*.md')\n",
    "days = 7\n",
    "now = datetime.today()\n",
    "res = []\n",
    "for fk in files:\n",
    "    stat_result = os.stat(fk).st_ctime\n",
    "    modified = datetime.fromtimestamp(stat_result, tz=timezone.utc).replace(tzinfo=None)\n",
    "    delta = now.today() - modified\n",
    "    if delta <= timedelta(days=days):\n",
    "        res.append((delta.seconds, fk))\n",
    "res = [k[1] for k in reversed(sorted(res, key=lambda x:x[1]))]\n",
    "npub = len(res)\n",
    "print(len(res), f\" publications files modified in the last {days:d} days.\")\n",
    "# [ print('\\t', k) for k in res ];"
   ]
  },
  {
   "cell_type": "code",
   "execution_count": 11,
   "id": "015de740",
   "metadata": {
    "execution": {
     "iopub.execute_input": "2025-04-16T04:15:16.330938Z",
     "iopub.status.busy": "2025-04-16T04:15:16.330487Z",
     "iopub.status.idle": "2025-04-16T04:15:16.352686Z",
     "shell.execute_reply": "2025-04-16T04:15:16.352164Z"
    },
    "papermill": {
     "duration": 0.029453,
     "end_time": "2025-04-16T04:15:16.353679",
     "exception": false,
     "start_time": "2025-04-16T04:15:16.324226",
     "status": "completed"
    },
    "tags": []
   },
   "outputs": [
    {
     "name": "stdout",
     "output_type": "stream",
     "text": [
      "12  publications in the last 7 days.\n"
     ]
    }
   ],
   "source": [
    "import datetime\n",
    "from glob import glob\n",
    "\n",
    "def get_last_n_days(lst, days=1):\n",
    "    \"\"\" Get the documents from the last n days \"\"\"\n",
    "    sorted_lst = sorted(lst, key=lambda x: x[1], reverse=True)\n",
    "    for fname, date in sorted_lst:\n",
    "        if date >= str(datetime.date.today() - datetime.timedelta(days=days)):\n",
    "            yield fname\n",
    "\n",
    "def extract_appearance_dates(lst_file):\n",
    "    dates = []\n",
    "\n",
    "    def get_date(line):\n",
    "        return line\\\n",
    "            .split('Appeared on:')[-1]\\\n",
    "            .split('</mark>')[0].strip()\n",
    "\n",
    "    for fname in lst:\n",
    "        with open(fname, 'r') as f:\n",
    "            found_date = False\n",
    "            for line in f:\n",
    "                if not found_date:\n",
    "                    if \"Appeared on\" in line:\n",
    "                        found_date = True\n",
    "                        dates.append((fname, get_date(line)))\n",
    "                else:\n",
    "                    break\n",
    "    return dates\n",
    "\n",
    "from glob import glob\n",
    "lst = glob('_build/html/*md')\n",
    "days = 7\n",
    "dates = extract_appearance_dates(lst)\n",
    "res = list(get_last_n_days(dates, days))\n",
    "npub = len(res)\n",
    "print(len(res), f\" publications in the last {days:d} days.\")"
   ]
  },
  {
   "cell_type": "code",
   "execution_count": 12,
   "id": "52ca0208",
   "metadata": {
    "execution": {
     "iopub.execute_input": "2025-04-16T04:15:16.366153Z",
     "iopub.status.busy": "2025-04-16T04:15:16.365685Z",
     "iopub.status.idle": "2025-04-16T04:15:16.370480Z",
     "shell.execute_reply": "2025-04-16T04:15:16.369942Z"
    },
    "papermill": {
     "duration": 0.012002,
     "end_time": "2025-04-16T04:15:16.371455",
     "exception": false,
     "start_time": "2025-04-16T04:15:16.359453",
     "status": "completed"
    },
    "scrolled": false,
    "tags": []
   },
   "outputs": [],
   "source": [
    "def create_carousel(npub=4):\n",
    "    \"\"\" Generate the HTML code for a carousel with `npub` slides \"\"\"\n",
    "    carousel = [\"\"\"  <div class=\"carousel\" \"\"\",\n",
    "                \"\"\"       data-flickity='{ \"autoPlay\": 10000, \"adaptiveHeight\": true, \"resize\": true, \"wrapAround\": true, \"pauseAutoPlayOnHover\": true, \"groupCells\": 1 }' id=\"asyncTypeset\">\"\"\"\n",
    "                ]\n",
    "    \n",
    "    item_str = \"\"\"    <div class=\"carousel-cell\"> <div id=\"slide{k}\" class=\"md_view\">Content {k}</div> </div>\"\"\"\n",
    "    for k in range(1, npub + 1):\n",
    "        carousel.append(item_str.format(k=k))\n",
    "    carousel.append(\"  </div>\")\n",
    "    return '\\n'.join(carousel)\n",
    "\n",
    "def create_grid(npub=4):\n",
    "    \"\"\" Generate the HTML code for a flat grid with `npub` slides \"\"\"\n",
    "    grid = [\"\"\"  <div class=\"grid\"> \"\"\",\n",
    "                ]\n",
    "    \n",
    "    item_str = \"\"\"    <div class=\"grid-item\"> <div id=\"slide{k}\" class=\"md_view\">Content {k}</div> </div>\"\"\"\n",
    "    for k in range(1, npub + 1):\n",
    "        grid.append(item_str.format(k=k))\n",
    "    grid.append(\"  </div>\")\n",
    "    return '\\n'.join(grid)"
   ]
  },
  {
   "cell_type": "code",
   "execution_count": 13,
   "id": "a6eac5b6",
   "metadata": {
    "execution": {
     "iopub.execute_input": "2025-04-16T04:15:16.383949Z",
     "iopub.status.busy": "2025-04-16T04:15:16.383755Z",
     "iopub.status.idle": "2025-04-16T04:15:16.388829Z",
     "shell.execute_reply": "2025-04-16T04:15:16.388201Z"
    },
    "papermill": {
     "duration": 0.012289,
     "end_time": "2025-04-16T04:15:16.389768",
     "exception": false,
     "start_time": "2025-04-16T04:15:16.377479",
     "status": "completed"
    },
    "scrolled": false,
    "tags": []
   },
   "outputs": [],
   "source": [
    "carousel = create_carousel(npub)\n",
    "docs = ', '.join(['\"{0:s}\"'.format(k.split('/')[-1]) for k in res])\n",
    "slides = ', '.join([f'\"slide{k}\"' for k in range(1, npub + 1)])\n",
    "\n",
    "with open(\"daily_template.html\", \"r\") as tpl:\n",
    "    page = tpl.read()\n",
    "    page = page.replace(\"{%-- carousel:s --%}\", carousel)\\\n",
    "               .replace(\"{%-- suptitle:s --%}\",  \"7-day archives\" )\\\n",
    "               .replace(\"{%-- docs:s --%}\", docs)\\\n",
    "               .replace(\"{%-- slides:s --%}\", slides)\n",
    "    \n",
    "with open(\"_build/html/index_7days.html\", 'w') as fout:\n",
    "    fout.write(page)"
   ]
  },
  {
   "cell_type": "code",
   "execution_count": 14,
   "id": "adc1a1ec",
   "metadata": {
    "execution": {
     "iopub.execute_input": "2025-04-16T04:15:16.402312Z",
     "iopub.status.busy": "2025-04-16T04:15:16.401928Z",
     "iopub.status.idle": "2025-04-16T04:15:16.408620Z",
     "shell.execute_reply": "2025-04-16T04:15:16.408086Z"
    },
    "papermill": {
     "duration": 0.013977,
     "end_time": "2025-04-16T04:15:16.409574",
     "exception": false,
     "start_time": "2025-04-16T04:15:16.395597",
     "status": "completed"
    },
    "tags": []
   },
   "outputs": [
    {
     "name": "stdout",
     "output_type": "stream",
     "text": [
      "5  publications in the last day.\n"
     ]
    }
   ],
   "source": [
    "# redo for today\n",
    "days = 1\n",
    "res = list(get_last_n_days(dates, days))\n",
    "npub = len(res)\n",
    "print(len(res), f\" publications in the last day.\")\n",
    "\n",
    "carousel = create_carousel(npub)\n",
    "docs = ', '.join(['\"{0:s}\"'.format(k.split('/')[-1]) for k in res])\n",
    "slides = ', '.join([f'\"slide{k}\"' for k in range(1, npub + 1)])\n",
    "\n",
    "with open(\"daily_template.html\", \"r\") as tpl:\n",
    "    page = tpl.read()\n",
    "    page = page.replace(\"{%-- carousel:s --%}\", carousel)\\\n",
    "               .replace(\"{%-- suptitle:s --%}\",  \"Daily\" )\\\n",
    "               .replace(\"{%-- docs:s --%}\", docs)\\\n",
    "               .replace(\"{%-- slides:s --%}\", slides)\n",
    "    \n",
    "# print(carousel, docs, slides)\n",
    "# print(page)\n",
    "with open(\"_build/html/index_daily.html\", 'w') as fout:\n",
    "    fout.write(page)"
   ]
  },
  {
   "cell_type": "code",
   "execution_count": 15,
   "id": "00eece82",
   "metadata": {
    "execution": {
     "iopub.execute_input": "2025-04-16T04:15:16.422197Z",
     "iopub.status.busy": "2025-04-16T04:15:16.421963Z",
     "iopub.status.idle": "2025-04-16T04:15:16.428509Z",
     "shell.execute_reply": "2025-04-16T04:15:16.427880Z"
    },
    "papermill": {
     "duration": 0.014068,
     "end_time": "2025-04-16T04:15:16.429587",
     "exception": false,
     "start_time": "2025-04-16T04:15:16.415519",
     "status": "completed"
    },
    "scrolled": false,
    "tags": []
   },
   "outputs": [
    {
     "name": "stdout",
     "output_type": "stream",
     "text": [
      "6  6 publications selected.\n"
     ]
    }
   ],
   "source": [
    "# Create the flat grid of the last N papers (fixed number regardless of dates)\n",
    "from itertools import islice \n",
    "\n",
    "npub = 6\n",
    "res = [k[0] for k in (islice(reversed(sorted(dates, key=lambda x: x[1])), 6))]\n",
    "print(len(res), f\" {npub} publications selected.\")\n",
    "\n",
    "grid = create_grid(npub)\n",
    "docs = ', '.join(['\"{0:s}\"'.format(k.split('/')[-1]) for k in res])\n",
    "slides = ', '.join([f'\"slide{k}\"' for k in range(1, npub + 1)])\n",
    "\n",
    "with open(\"grid_template.html\", \"r\") as tpl:\n",
    "    page = tpl.read()\n",
    "    page = page.replace(\"{%-- grid-content:s --%}\", grid)\\\n",
    "               .replace(\"{%-- suptitle:s --%}\",  f\"Last {npub:,d} papers\" )\\\n",
    "               .replace(\"{%-- docs:s --%}\", docs)\\\n",
    "               .replace(\"{%-- slides:s --%}\", slides)\n",
    "    \n",
    "# print(grid, docs, slides)\n",
    "# print(page)\n",
    "with open(\"_build/html/index_npub_grid.html\", 'w') as fout:\n",
    "    fout.write(page)"
   ]
  }
 ],
 "metadata": {
  "kernelspec": {
   "display_name": "Python 3 (ipykernel)",
   "language": "python",
   "name": "python3"
  },
  "language_info": {
   "codemirror_mode": {
    "name": "ipython",
    "version": 3
   },
   "file_extension": ".py",
   "mimetype": "text/x-python",
   "name": "python",
   "nbconvert_exporter": "python",
   "pygments_lexer": "ipython3",
   "version": "3.9.21"
  },
  "papermill": {
   "default_parameters": {},
   "duration": 207.227623,
   "end_time": "2025-04-16T04:15:16.652026",
   "environment_variables": {},
   "exception": null,
   "input_path": "MPIA daily digest.ipynb",
   "output_path": "log.ipynb",
   "parameters": {},
   "start_time": "2025-04-16T04:11:49.424403",
   "version": "2.6.0"
  },
  "vscode": {
   "interpreter": {
    "hash": "aee8b7b246df8f9039afb4144a1f6fd8d2ca17a180786b69acc140d282b71a49"
   }
  },
  "widgets": {
   "application/vnd.jupyter.widget-state+json": {
    "state": {
     "0c0545d8494a4034b12c7a967887b5d8": {
      "model_module": "@jupyter-widgets/controls",
      "model_module_version": "2.0.0",
      "model_name": "HTMLStyleModel",
      "state": {
       "_model_module": "@jupyter-widgets/controls",
       "_model_module_version": "2.0.0",
       "_model_name": "HTMLStyleModel",
       "_view_count": null,
       "_view_module": "@jupyter-widgets/base",
       "_view_module_version": "2.0.0",
       "_view_name": "StyleView",
       "background": null,
       "description_width": "",
       "font_size": null,
       "text_color": null
      }
     },
     "16624c9a3cfb46ecac02cf11372da4c0": {
      "model_module": "@jupyter-widgets/base",
      "model_module_version": "2.0.0",
      "model_name": "LayoutModel",
      "state": {
       "_model_module": "@jupyter-widgets/base",
       "_model_module_version": "2.0.0",
       "_model_name": "LayoutModel",
       "_view_count": null,
       "_view_module": "@jupyter-widgets/base",
       "_view_module_version": "2.0.0",
       "_view_name": "LayoutView",
       "align_content": null,
       "align_items": null,
       "align_self": null,
       "border_bottom": null,
       "border_left": null,
       "border_right": null,
       "border_top": null,
       "bottom": null,
       "display": null,
       "flex": null,
       "flex_flow": null,
       "grid_area": null,
       "grid_auto_columns": null,
       "grid_auto_flow": null,
       "grid_auto_rows": null,
       "grid_column": null,
       "grid_gap": null,
       "grid_row": null,
       "grid_template_areas": null,
       "grid_template_columns": null,
       "grid_template_rows": null,
       "height": null,
       "justify_content": null,
       "justify_items": null,
       "left": null,
       "margin": null,
       "max_height": null,
       "max_width": null,
       "min_height": null,
       "min_width": null,
       "object_fit": null,
       "object_position": null,
       "order": null,
       "overflow": null,
       "padding": null,
       "right": null,
       "top": null,
       "visibility": null,
       "width": null
      }
     },
     "20af7377dfca4d38b342595c503ff37f": {
      "model_module": "@jupyter-widgets/controls",
      "model_module_version": "2.0.0",
      "model_name": "HTMLModel",
      "state": {
       "_dom_classes": [],
       "_model_module": "@jupyter-widgets/controls",
       "_model_module_version": "2.0.0",
       "_model_name": "HTMLModel",
       "_view_count": null,
       "_view_module": "@jupyter-widgets/controls",
       "_view_module_version": "2.0.0",
       "_view_name": "HTMLView",
       "description": "",
       "description_allow_html": false,
       "layout": "IPY_MODEL_f81d9b42bd084910b3f5dcad46b1c839",
       "placeholder": "​",
       "style": "IPY_MODEL_0c0545d8494a4034b12c7a967887b5d8",
       "tabbable": null,
       "tooltip": null,
       "value": " 6/6 [03:00&lt;00:00, 34.56s/it]"
      }
     },
     "25bb07e76eaa47f1a0c148fed8fcab74": {
      "model_module": "@jupyter-widgets/controls",
      "model_module_version": "2.0.0",
      "model_name": "HTMLModel",
      "state": {
       "_dom_classes": [],
       "_model_module": "@jupyter-widgets/controls",
       "_model_module_version": "2.0.0",
       "_model_name": "HTMLModel",
       "_view_count": null,
       "_view_module": "@jupyter-widgets/controls",
       "_view_module_version": "2.0.0",
       "_view_name": "HTMLView",
       "description": "",
       "description_allow_html": false,
       "layout": "IPY_MODEL_16624c9a3cfb46ecac02cf11372da4c0",
       "placeholder": "​",
       "style": "IPY_MODEL_e5e4f7513ba94f8a94481b372184a10c",
       "tabbable": null,
       "tooltip": null,
       "value": "100%"
      }
     },
     "2febe85daf71419e8ec4c2b8bbc51f3a": {
      "model_module": "@jupyter-widgets/controls",
      "model_module_version": "2.0.0",
      "model_name": "ProgressStyleModel",
      "state": {
       "_model_module": "@jupyter-widgets/controls",
       "_model_module_version": "2.0.0",
       "_model_name": "ProgressStyleModel",
       "_view_count": null,
       "_view_module": "@jupyter-widgets/base",
       "_view_module_version": "2.0.0",
       "_view_name": "StyleView",
       "bar_color": null,
       "description_width": ""
      }
     },
     "3f9c76e566d548c7ba780d7a08b8429d": {
      "model_module": "@jupyter-widgets/controls",
      "model_module_version": "2.0.0",
      "model_name": "HBoxModel",
      "state": {
       "_dom_classes": [],
       "_model_module": "@jupyter-widgets/controls",
       "_model_module_version": "2.0.0",
       "_model_name": "HBoxModel",
       "_view_count": null,
       "_view_module": "@jupyter-widgets/controls",
       "_view_module_version": "2.0.0",
       "_view_name": "HBoxView",
       "box_style": "",
       "children": [
        "IPY_MODEL_25bb07e76eaa47f1a0c148fed8fcab74",
        "IPY_MODEL_59a46452db3947a395b6543805ae8add",
        "IPY_MODEL_20af7377dfca4d38b342595c503ff37f"
       ],
       "layout": "IPY_MODEL_447a4f13003d42c99b8a4d14c609a2e4",
       "tabbable": null,
       "tooltip": null
      }
     },
     "447a4f13003d42c99b8a4d14c609a2e4": {
      "model_module": "@jupyter-widgets/base",
      "model_module_version": "2.0.0",
      "model_name": "LayoutModel",
      "state": {
       "_model_module": "@jupyter-widgets/base",
       "_model_module_version": "2.0.0",
       "_model_name": "LayoutModel",
       "_view_count": null,
       "_view_module": "@jupyter-widgets/base",
       "_view_module_version": "2.0.0",
       "_view_name": "LayoutView",
       "align_content": null,
       "align_items": null,
       "align_self": null,
       "border_bottom": null,
       "border_left": null,
       "border_right": null,
       "border_top": null,
       "bottom": null,
       "display": null,
       "flex": null,
       "flex_flow": null,
       "grid_area": null,
       "grid_auto_columns": null,
       "grid_auto_flow": null,
       "grid_auto_rows": null,
       "grid_column": null,
       "grid_gap": null,
       "grid_row": null,
       "grid_template_areas": null,
       "grid_template_columns": null,
       "grid_template_rows": null,
       "height": null,
       "justify_content": null,
       "justify_items": null,
       "left": null,
       "margin": null,
       "max_height": null,
       "max_width": null,
       "min_height": null,
       "min_width": null,
       "object_fit": null,
       "object_position": null,
       "order": null,
       "overflow": null,
       "padding": null,
       "right": null,
       "top": null,
       "visibility": null,
       "width": null
      }
     },
     "59a46452db3947a395b6543805ae8add": {
      "model_module": "@jupyter-widgets/controls",
      "model_module_version": "2.0.0",
      "model_name": "FloatProgressModel",
      "state": {
       "_dom_classes": [],
       "_model_module": "@jupyter-widgets/controls",
       "_model_module_version": "2.0.0",
       "_model_name": "FloatProgressModel",
       "_view_count": null,
       "_view_module": "@jupyter-widgets/controls",
       "_view_module_version": "2.0.0",
       "_view_name": "ProgressView",
       "bar_style": "success",
       "description": "",
       "description_allow_html": false,
       "layout": "IPY_MODEL_a0d04032e166480cb05bac00575b8268",
       "max": 6.0,
       "min": 0.0,
       "orientation": "horizontal",
       "style": "IPY_MODEL_2febe85daf71419e8ec4c2b8bbc51f3a",
       "tabbable": null,
       "tooltip": null,
       "value": 6.0
      }
     },
     "a0d04032e166480cb05bac00575b8268": {
      "model_module": "@jupyter-widgets/base",
      "model_module_version": "2.0.0",
      "model_name": "LayoutModel",
      "state": {
       "_model_module": "@jupyter-widgets/base",
       "_model_module_version": "2.0.0",
       "_model_name": "LayoutModel",
       "_view_count": null,
       "_view_module": "@jupyter-widgets/base",
       "_view_module_version": "2.0.0",
       "_view_name": "LayoutView",
       "align_content": null,
       "align_items": null,
       "align_self": null,
       "border_bottom": null,
       "border_left": null,
       "border_right": null,
       "border_top": null,
       "bottom": null,
       "display": null,
       "flex": null,
       "flex_flow": null,
       "grid_area": null,
       "grid_auto_columns": null,
       "grid_auto_flow": null,
       "grid_auto_rows": null,
       "grid_column": null,
       "grid_gap": null,
       "grid_row": null,
       "grid_template_areas": null,
       "grid_template_columns": null,
       "grid_template_rows": null,
       "height": null,
       "justify_content": null,
       "justify_items": null,
       "left": null,
       "margin": null,
       "max_height": null,
       "max_width": null,
       "min_height": null,
       "min_width": null,
       "object_fit": null,
       "object_position": null,
       "order": null,
       "overflow": null,
       "padding": null,
       "right": null,
       "top": null,
       "visibility": null,
       "width": null
      }
     },
     "e5e4f7513ba94f8a94481b372184a10c": {
      "model_module": "@jupyter-widgets/controls",
      "model_module_version": "2.0.0",
      "model_name": "HTMLStyleModel",
      "state": {
       "_model_module": "@jupyter-widgets/controls",
       "_model_module_version": "2.0.0",
       "_model_name": "HTMLStyleModel",
       "_view_count": null,
       "_view_module": "@jupyter-widgets/base",
       "_view_module_version": "2.0.0",
       "_view_name": "StyleView",
       "background": null,
       "description_width": "",
       "font_size": null,
       "text_color": null
      }
     },
     "f81d9b42bd084910b3f5dcad46b1c839": {
      "model_module": "@jupyter-widgets/base",
      "model_module_version": "2.0.0",
      "model_name": "LayoutModel",
      "state": {
       "_model_module": "@jupyter-widgets/base",
       "_model_module_version": "2.0.0",
       "_model_name": "LayoutModel",
       "_view_count": null,
       "_view_module": "@jupyter-widgets/base",
       "_view_module_version": "2.0.0",
       "_view_name": "LayoutView",
       "align_content": null,
       "align_items": null,
       "align_self": null,
       "border_bottom": null,
       "border_left": null,
       "border_right": null,
       "border_top": null,
       "bottom": null,
       "display": null,
       "flex": null,
       "flex_flow": null,
       "grid_area": null,
       "grid_auto_columns": null,
       "grid_auto_flow": null,
       "grid_auto_rows": null,
       "grid_column": null,
       "grid_gap": null,
       "grid_row": null,
       "grid_template_areas": null,
       "grid_template_columns": null,
       "grid_template_rows": null,
       "height": null,
       "justify_content": null,
       "justify_items": null,
       "left": null,
       "margin": null,
       "max_height": null,
       "max_width": null,
       "min_height": null,
       "min_width": null,
       "object_fit": null,
       "object_position": null,
       "order": null,
       "overflow": null,
       "padding": null,
       "right": null,
       "top": null,
       "visibility": null,
       "width": null
      }
     }
    },
    "version_major": 2,
    "version_minor": 0
   }
  }
 },
 "nbformat": 4,
 "nbformat_minor": 5
}